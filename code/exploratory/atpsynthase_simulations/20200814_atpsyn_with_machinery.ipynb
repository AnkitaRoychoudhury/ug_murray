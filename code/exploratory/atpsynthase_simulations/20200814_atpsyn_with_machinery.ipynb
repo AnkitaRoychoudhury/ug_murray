{
 "cells": [
  {
   "cell_type": "markdown",
   "metadata": {},
   "source": [
    "# Combine Sub-SBML models with TXTL Machinery\n",
    "---"
   ]
  },
  {
   "cell_type": "markdown",
   "metadata": {},
   "source": [
    "Do this so you can incorporate temperature control <br>\n",
    "2020.08.14"
   ]
  },
  {
   "cell_type": "code",
   "execution_count": 1,
   "metadata": {},
   "outputs": [
    {
     "data": {
      "text/html": [
       "\n",
       "    <div class=\"bk-root\">\n",
       "        <a href=\"https://bokeh.org\" target=\"_blank\" class=\"bk-logo bk-logo-small bk-logo-notebook\"></a>\n",
       "        <span id=\"1001\">Loading BokehJS ...</span>\n",
       "    </div>"
      ]
     },
     "metadata": {},
     "output_type": "display_data"
    },
    {
     "data": {
      "application/javascript": [
       "\n",
       "(function(root) {\n",
       "  function now() {\n",
       "    return new Date();\n",
       "  }\n",
       "\n",
       "  var force = true;\n",
       "\n",
       "  if (typeof root._bokeh_onload_callbacks === \"undefined\" || force === true) {\n",
       "    root._bokeh_onload_callbacks = [];\n",
       "    root._bokeh_is_loading = undefined;\n",
       "  }\n",
       "\n",
       "  var JS_MIME_TYPE = 'application/javascript';\n",
       "  var HTML_MIME_TYPE = 'text/html';\n",
       "  var EXEC_MIME_TYPE = 'application/vnd.bokehjs_exec.v0+json';\n",
       "  var CLASS_NAME = 'output_bokeh rendered_html';\n",
       "\n",
       "  /**\n",
       "   * Render data to the DOM node\n",
       "   */\n",
       "  function render(props, node) {\n",
       "    var script = document.createElement(\"script\");\n",
       "    node.appendChild(script);\n",
       "  }\n",
       "\n",
       "  /**\n",
       "   * Handle when an output is cleared or removed\n",
       "   */\n",
       "  function handleClearOutput(event, handle) {\n",
       "    var cell = handle.cell;\n",
       "\n",
       "    var id = cell.output_area._bokeh_element_id;\n",
       "    var server_id = cell.output_area._bokeh_server_id;\n",
       "    // Clean up Bokeh references\n",
       "    if (id != null && id in Bokeh.index) {\n",
       "      Bokeh.index[id].model.document.clear();\n",
       "      delete Bokeh.index[id];\n",
       "    }\n",
       "\n",
       "    if (server_id !== undefined) {\n",
       "      // Clean up Bokeh references\n",
       "      var cmd = \"from bokeh.io.state import curstate; print(curstate().uuid_to_server['\" + server_id + \"'].get_sessions()[0].document.roots[0]._id)\";\n",
       "      cell.notebook.kernel.execute(cmd, {\n",
       "        iopub: {\n",
       "          output: function(msg) {\n",
       "            var id = msg.content.text.trim();\n",
       "            if (id in Bokeh.index) {\n",
       "              Bokeh.index[id].model.document.clear();\n",
       "              delete Bokeh.index[id];\n",
       "            }\n",
       "          }\n",
       "        }\n",
       "      });\n",
       "      // Destroy server and session\n",
       "      var cmd = \"import bokeh.io.notebook as ion; ion.destroy_server('\" + server_id + \"')\";\n",
       "      cell.notebook.kernel.execute(cmd);\n",
       "    }\n",
       "  }\n",
       "\n",
       "  /**\n",
       "   * Handle when a new output is added\n",
       "   */\n",
       "  function handleAddOutput(event, handle) {\n",
       "    var output_area = handle.output_area;\n",
       "    var output = handle.output;\n",
       "\n",
       "    // limit handleAddOutput to display_data with EXEC_MIME_TYPE content only\n",
       "    if ((output.output_type != \"display_data\") || (!output.data.hasOwnProperty(EXEC_MIME_TYPE))) {\n",
       "      return\n",
       "    }\n",
       "\n",
       "    var toinsert = output_area.element.find(\".\" + CLASS_NAME.split(' ')[0]);\n",
       "\n",
       "    if (output.metadata[EXEC_MIME_TYPE][\"id\"] !== undefined) {\n",
       "      toinsert[toinsert.length - 1].firstChild.textContent = output.data[JS_MIME_TYPE];\n",
       "      // store reference to embed id on output_area\n",
       "      output_area._bokeh_element_id = output.metadata[EXEC_MIME_TYPE][\"id\"];\n",
       "    }\n",
       "    if (output.metadata[EXEC_MIME_TYPE][\"server_id\"] !== undefined) {\n",
       "      var bk_div = document.createElement(\"div\");\n",
       "      bk_div.innerHTML = output.data[HTML_MIME_TYPE];\n",
       "      var script_attrs = bk_div.children[0].attributes;\n",
       "      for (var i = 0; i < script_attrs.length; i++) {\n",
       "        toinsert[toinsert.length - 1].firstChild.setAttribute(script_attrs[i].name, script_attrs[i].value);\n",
       "        toinsert[toinsert.length - 1].firstChild.textContent = bk_div.children[0].textContent\n",
       "      }\n",
       "      // store reference to server id on output_area\n",
       "      output_area._bokeh_server_id = output.metadata[EXEC_MIME_TYPE][\"server_id\"];\n",
       "    }\n",
       "  }\n",
       "\n",
       "  function register_renderer(events, OutputArea) {\n",
       "\n",
       "    function append_mime(data, metadata, element) {\n",
       "      // create a DOM node to render to\n",
       "      var toinsert = this.create_output_subarea(\n",
       "        metadata,\n",
       "        CLASS_NAME,\n",
       "        EXEC_MIME_TYPE\n",
       "      );\n",
       "      this.keyboard_manager.register_events(toinsert);\n",
       "      // Render to node\n",
       "      var props = {data: data, metadata: metadata[EXEC_MIME_TYPE]};\n",
       "      render(props, toinsert[toinsert.length - 1]);\n",
       "      element.append(toinsert);\n",
       "      return toinsert\n",
       "    }\n",
       "\n",
       "    /* Handle when an output is cleared or removed */\n",
       "    events.on('clear_output.CodeCell', handleClearOutput);\n",
       "    events.on('delete.Cell', handleClearOutput);\n",
       "\n",
       "    /* Handle when a new output is added */\n",
       "    events.on('output_added.OutputArea', handleAddOutput);\n",
       "\n",
       "    /**\n",
       "     * Register the mime type and append_mime function with output_area\n",
       "     */\n",
       "    OutputArea.prototype.register_mime_type(EXEC_MIME_TYPE, append_mime, {\n",
       "      /* Is output safe? */\n",
       "      safe: true,\n",
       "      /* Index of renderer in `output_area.display_order` */\n",
       "      index: 0\n",
       "    });\n",
       "  }\n",
       "\n",
       "  // register the mime type if in Jupyter Notebook environment and previously unregistered\n",
       "  if (root.Jupyter !== undefined) {\n",
       "    var events = require('base/js/events');\n",
       "    var OutputArea = require('notebook/js/outputarea').OutputArea;\n",
       "\n",
       "    if (OutputArea.prototype.mime_types().indexOf(EXEC_MIME_TYPE) == -1) {\n",
       "      register_renderer(events, OutputArea);\n",
       "    }\n",
       "  }\n",
       "\n",
       "  \n",
       "  if (typeof (root._bokeh_timeout) === \"undefined\" || force === true) {\n",
       "    root._bokeh_timeout = Date.now() + 5000;\n",
       "    root._bokeh_failed_load = false;\n",
       "  }\n",
       "\n",
       "  var NB_LOAD_WARNING = {'data': {'text/html':\n",
       "     \"<div style='background-color: #fdd'>\\n\"+\n",
       "     \"<p>\\n\"+\n",
       "     \"BokehJS does not appear to have successfully loaded. If loading BokehJS from CDN, this \\n\"+\n",
       "     \"may be due to a slow or bad network connection. Possible fixes:\\n\"+\n",
       "     \"</p>\\n\"+\n",
       "     \"<ul>\\n\"+\n",
       "     \"<li>re-rerun `output_notebook()` to attempt to load from CDN again, or</li>\\n\"+\n",
       "     \"<li>use INLINE resources instead, as so:</li>\\n\"+\n",
       "     \"</ul>\\n\"+\n",
       "     \"<code>\\n\"+\n",
       "     \"from bokeh.resources import INLINE\\n\"+\n",
       "     \"output_notebook(resources=INLINE)\\n\"+\n",
       "     \"</code>\\n\"+\n",
       "     \"</div>\"}};\n",
       "\n",
       "  function display_loaded() {\n",
       "    var el = document.getElementById(\"1001\");\n",
       "    if (el != null) {\n",
       "      el.textContent = \"BokehJS is loading...\";\n",
       "    }\n",
       "    if (root.Bokeh !== undefined) {\n",
       "      if (el != null) {\n",
       "        el.textContent = \"BokehJS \" + root.Bokeh.version + \" successfully loaded.\";\n",
       "      }\n",
       "    } else if (Date.now() < root._bokeh_timeout) {\n",
       "      setTimeout(display_loaded, 100)\n",
       "    }\n",
       "  }\n",
       "\n",
       "\n",
       "  function run_callbacks() {\n",
       "    try {\n",
       "      root._bokeh_onload_callbacks.forEach(function(callback) {\n",
       "        if (callback != null)\n",
       "          callback();\n",
       "      });\n",
       "    } finally {\n",
       "      delete root._bokeh_onload_callbacks\n",
       "    }\n",
       "    console.debug(\"Bokeh: all callbacks have finished\");\n",
       "  }\n",
       "\n",
       "  function load_libs(css_urls, js_urls, callback) {\n",
       "    if (css_urls == null) css_urls = [];\n",
       "    if (js_urls == null) js_urls = [];\n",
       "\n",
       "    root._bokeh_onload_callbacks.push(callback);\n",
       "    if (root._bokeh_is_loading > 0) {\n",
       "      console.debug(\"Bokeh: BokehJS is being loaded, scheduling callback at\", now());\n",
       "      return null;\n",
       "    }\n",
       "    if (js_urls == null || js_urls.length === 0) {\n",
       "      run_callbacks();\n",
       "      return null;\n",
       "    }\n",
       "    console.debug(\"Bokeh: BokehJS not loaded, scheduling load and callback at\", now());\n",
       "    root._bokeh_is_loading = css_urls.length + js_urls.length;\n",
       "\n",
       "    function on_load() {\n",
       "      root._bokeh_is_loading--;\n",
       "      if (root._bokeh_is_loading === 0) {\n",
       "        console.debug(\"Bokeh: all BokehJS libraries/stylesheets loaded\");\n",
       "        run_callbacks()\n",
       "      }\n",
       "    }\n",
       "\n",
       "    function on_error() {\n",
       "      console.error(\"failed to load \" + url);\n",
       "    }\n",
       "\n",
       "    for (var i = 0; i < css_urls.length; i++) {\n",
       "      var url = css_urls[i];\n",
       "      const element = document.createElement(\"link\");\n",
       "      element.onload = on_load;\n",
       "      element.onerror = on_error;\n",
       "      element.rel = \"stylesheet\";\n",
       "      element.type = \"text/css\";\n",
       "      element.href = url;\n",
       "      console.debug(\"Bokeh: injecting link tag for BokehJS stylesheet: \", url);\n",
       "      document.body.appendChild(element);\n",
       "    }\n",
       "\n",
       "    const hashes = {\"https://cdn.bokeh.org/bokeh/release/bokeh-2.2.1.min.js\": \"qkRvDQVAIfzsJo40iRBbxt6sttt0hv4lh74DG7OK4MCHv4C5oohXYoHUM5W11uqS\", \"https://cdn.bokeh.org/bokeh/release/bokeh-widgets-2.2.1.min.js\": \"Sb7Mr06a9TNlet/GEBeKaf5xH3eb6AlCzwjtU82wNPyDrnfoiVl26qnvlKjmcAd+\", \"https://cdn.bokeh.org/bokeh/release/bokeh-tables-2.2.1.min.js\": \"HaJ15vgfmcfRtB4c4YBOI4f1MUujukqInOWVqZJZZGK7Q+ivud0OKGSTn/Vm2iso\"};\n",
       "\n",
       "    for (var i = 0; i < js_urls.length; i++) {\n",
       "      var url = js_urls[i];\n",
       "      var element = document.createElement('script');\n",
       "      element.onload = on_load;\n",
       "      element.onerror = on_error;\n",
       "      element.async = false;\n",
       "      element.src = url;\n",
       "      if (url in hashes) {\n",
       "        element.crossOrigin = \"anonymous\";\n",
       "        element.integrity = \"sha384-\" + hashes[url];\n",
       "      }\n",
       "      console.debug(\"Bokeh: injecting script tag for BokehJS library: \", url);\n",
       "      document.head.appendChild(element);\n",
       "    }\n",
       "  };\n",
       "\n",
       "  function inject_raw_css(css) {\n",
       "    const element = document.createElement(\"style\");\n",
       "    element.appendChild(document.createTextNode(css));\n",
       "    document.body.appendChild(element);\n",
       "  }\n",
       "\n",
       "  \n",
       "  var js_urls = [\"https://cdn.bokeh.org/bokeh/release/bokeh-2.2.1.min.js\", \"https://cdn.bokeh.org/bokeh/release/bokeh-widgets-2.2.1.min.js\", \"https://cdn.bokeh.org/bokeh/release/bokeh-tables-2.2.1.min.js\"];\n",
       "  var css_urls = [];\n",
       "  \n",
       "\n",
       "  var inline_js = [\n",
       "    function(Bokeh) {\n",
       "      Bokeh.set_log_level(\"info\");\n",
       "    },\n",
       "    function(Bokeh) {\n",
       "    \n",
       "    \n",
       "    }\n",
       "  ];\n",
       "\n",
       "  function run_inline_js() {\n",
       "    \n",
       "    if (root.Bokeh !== undefined || force === true) {\n",
       "      \n",
       "    for (var i = 0; i < inline_js.length; i++) {\n",
       "      inline_js[i].call(root, root.Bokeh);\n",
       "    }\n",
       "    if (force === true) {\n",
       "        display_loaded();\n",
       "      }} else if (Date.now() < root._bokeh_timeout) {\n",
       "      setTimeout(run_inline_js, 100);\n",
       "    } else if (!root._bokeh_failed_load) {\n",
       "      console.log(\"Bokeh: BokehJS failed to load within specified timeout.\");\n",
       "      root._bokeh_failed_load = true;\n",
       "    } else if (force !== true) {\n",
       "      var cell = $(document.getElementById(\"1001\")).parents('.cell').data().cell;\n",
       "      cell.output_area.append_execute_result(NB_LOAD_WARNING)\n",
       "    }\n",
       "\n",
       "  }\n",
       "\n",
       "  if (root._bokeh_is_loading === 0) {\n",
       "    console.debug(\"Bokeh: BokehJS loaded, going straight to plotting\");\n",
       "    run_inline_js();\n",
       "  } else {\n",
       "    load_libs(css_urls, js_urls, function() {\n",
       "      console.debug(\"Bokeh: BokehJS plotting callback run at\", now());\n",
       "      run_inline_js();\n",
       "    });\n",
       "  }\n",
       "}(window));"
      ],
      "application/vnd.bokehjs_load.v0+json": "\n(function(root) {\n  function now() {\n    return new Date();\n  }\n\n  var force = true;\n\n  if (typeof root._bokeh_onload_callbacks === \"undefined\" || force === true) {\n    root._bokeh_onload_callbacks = [];\n    root._bokeh_is_loading = undefined;\n  }\n\n  \n\n  \n  if (typeof (root._bokeh_timeout) === \"undefined\" || force === true) {\n    root._bokeh_timeout = Date.now() + 5000;\n    root._bokeh_failed_load = false;\n  }\n\n  var NB_LOAD_WARNING = {'data': {'text/html':\n     \"<div style='background-color: #fdd'>\\n\"+\n     \"<p>\\n\"+\n     \"BokehJS does not appear to have successfully loaded. If loading BokehJS from CDN, this \\n\"+\n     \"may be due to a slow or bad network connection. Possible fixes:\\n\"+\n     \"</p>\\n\"+\n     \"<ul>\\n\"+\n     \"<li>re-rerun `output_notebook()` to attempt to load from CDN again, or</li>\\n\"+\n     \"<li>use INLINE resources instead, as so:</li>\\n\"+\n     \"</ul>\\n\"+\n     \"<code>\\n\"+\n     \"from bokeh.resources import INLINE\\n\"+\n     \"output_notebook(resources=INLINE)\\n\"+\n     \"</code>\\n\"+\n     \"</div>\"}};\n\n  function display_loaded() {\n    var el = document.getElementById(\"1001\");\n    if (el != null) {\n      el.textContent = \"BokehJS is loading...\";\n    }\n    if (root.Bokeh !== undefined) {\n      if (el != null) {\n        el.textContent = \"BokehJS \" + root.Bokeh.version + \" successfully loaded.\";\n      }\n    } else if (Date.now() < root._bokeh_timeout) {\n      setTimeout(display_loaded, 100)\n    }\n  }\n\n\n  function run_callbacks() {\n    try {\n      root._bokeh_onload_callbacks.forEach(function(callback) {\n        if (callback != null)\n          callback();\n      });\n    } finally {\n      delete root._bokeh_onload_callbacks\n    }\n    console.debug(\"Bokeh: all callbacks have finished\");\n  }\n\n  function load_libs(css_urls, js_urls, callback) {\n    if (css_urls == null) css_urls = [];\n    if (js_urls == null) js_urls = [];\n\n    root._bokeh_onload_callbacks.push(callback);\n    if (root._bokeh_is_loading > 0) {\n      console.debug(\"Bokeh: BokehJS is being loaded, scheduling callback at\", now());\n      return null;\n    }\n    if (js_urls == null || js_urls.length === 0) {\n      run_callbacks();\n      return null;\n    }\n    console.debug(\"Bokeh: BokehJS not loaded, scheduling load and callback at\", now());\n    root._bokeh_is_loading = css_urls.length + js_urls.length;\n\n    function on_load() {\n      root._bokeh_is_loading--;\n      if (root._bokeh_is_loading === 0) {\n        console.debug(\"Bokeh: all BokehJS libraries/stylesheets loaded\");\n        run_callbacks()\n      }\n    }\n\n    function on_error() {\n      console.error(\"failed to load \" + url);\n    }\n\n    for (var i = 0; i < css_urls.length; i++) {\n      var url = css_urls[i];\n      const element = document.createElement(\"link\");\n      element.onload = on_load;\n      element.onerror = on_error;\n      element.rel = \"stylesheet\";\n      element.type = \"text/css\";\n      element.href = url;\n      console.debug(\"Bokeh: injecting link tag for BokehJS stylesheet: \", url);\n      document.body.appendChild(element);\n    }\n\n    const hashes = {\"https://cdn.bokeh.org/bokeh/release/bokeh-2.2.1.min.js\": \"qkRvDQVAIfzsJo40iRBbxt6sttt0hv4lh74DG7OK4MCHv4C5oohXYoHUM5W11uqS\", \"https://cdn.bokeh.org/bokeh/release/bokeh-widgets-2.2.1.min.js\": \"Sb7Mr06a9TNlet/GEBeKaf5xH3eb6AlCzwjtU82wNPyDrnfoiVl26qnvlKjmcAd+\", \"https://cdn.bokeh.org/bokeh/release/bokeh-tables-2.2.1.min.js\": \"HaJ15vgfmcfRtB4c4YBOI4f1MUujukqInOWVqZJZZGK7Q+ivud0OKGSTn/Vm2iso\"};\n\n    for (var i = 0; i < js_urls.length; i++) {\n      var url = js_urls[i];\n      var element = document.createElement('script');\n      element.onload = on_load;\n      element.onerror = on_error;\n      element.async = false;\n      element.src = url;\n      if (url in hashes) {\n        element.crossOrigin = \"anonymous\";\n        element.integrity = \"sha384-\" + hashes[url];\n      }\n      console.debug(\"Bokeh: injecting script tag for BokehJS library: \", url);\n      document.head.appendChild(element);\n    }\n  };\n\n  function inject_raw_css(css) {\n    const element = document.createElement(\"style\");\n    element.appendChild(document.createTextNode(css));\n    document.body.appendChild(element);\n  }\n\n  \n  var js_urls = [\"https://cdn.bokeh.org/bokeh/release/bokeh-2.2.1.min.js\", \"https://cdn.bokeh.org/bokeh/release/bokeh-widgets-2.2.1.min.js\", \"https://cdn.bokeh.org/bokeh/release/bokeh-tables-2.2.1.min.js\"];\n  var css_urls = [];\n  \n\n  var inline_js = [\n    function(Bokeh) {\n      Bokeh.set_log_level(\"info\");\n    },\n    function(Bokeh) {\n    \n    \n    }\n  ];\n\n  function run_inline_js() {\n    \n    if (root.Bokeh !== undefined || force === true) {\n      \n    for (var i = 0; i < inline_js.length; i++) {\n      inline_js[i].call(root, root.Bokeh);\n    }\n    if (force === true) {\n        display_loaded();\n      }} else if (Date.now() < root._bokeh_timeout) {\n      setTimeout(run_inline_js, 100);\n    } else if (!root._bokeh_failed_load) {\n      console.log(\"Bokeh: BokehJS failed to load within specified timeout.\");\n      root._bokeh_failed_load = true;\n    } else if (force !== true) {\n      var cell = $(document.getElementById(\"1001\")).parents('.cell').data().cell;\n      cell.output_area.append_execute_result(NB_LOAD_WARNING)\n    }\n\n  }\n\n  if (root._bokeh_is_loading === 0) {\n    console.debug(\"Bokeh: BokehJS loaded, going straight to plotting\");\n    run_inline_js();\n  } else {\n    load_libs(css_urls, js_urls, function() {\n      console.debug(\"Bokeh: BokehJS plotting callback run at\", now());\n      run_inline_js();\n    });\n  }\n}(window));"
     },
     "metadata": {},
     "output_type": "display_data"
    }
   ],
   "source": [
    "from biocrnpyler import *\n",
    "#from biocrnpyler.chemical_reaction_network import Species, Reaction, ComplexSpecies, Multimer\n",
    "import numpy as np\n",
    "#import pylab as plt \n",
    "#%matplotlib inline\n",
    "\n",
    "import bokeh.io\n",
    "import bokeh.plotting\n",
    "from bokeh.layouts import row\n",
    "\n",
    "bokeh.io.output_notebook()\n",
    "\n",
    "import colorcet\n",
    "\n",
    "from subsbml import createNewSubsystem, createSubsystem"
   ]
  },
  {
   "cell_type": "code",
   "execution_count": 2,
   "metadata": {},
   "outputs": [],
   "source": [
    "palette = colorcet.b_glasbey_category10\n",
    "palette.remove( '#d62628')"
   ]
  },
  {
   "cell_type": "code",
   "execution_count": 3,
   "metadata": {},
   "outputs": [],
   "source": [
    "p_atp = bokeh.plotting.figure(width = 450, height = 350,\n",
    "                             title = 'ATP Compare',\n",
    "                             x_axis_label = 'time (sec)',\n",
    "                             y_axis_label = 'concentration (nM)')"
   ]
  },
  {
   "cell_type": "markdown",
   "metadata": {},
   "source": [
    "## Combine atp synthase with txtl machinery \n",
    "---"
   ]
  },
  {
   "cell_type": "markdown",
   "metadata": {},
   "source": [
    "Load in subsystem models"
   ]
  },
  {
   "cell_type": "code",
   "execution_count": 4,
   "metadata": {},
   "outputs": [],
   "source": [
    "# atp synthase models\n",
    "ss1_atpsyn_txtl = createSubsystem('atpsynthase_machinery_txtl.xml', subsystemName = 'atpsyn_txtl')\n",
    "ss2_atpsyn_mi = createSubsystem('atpsynthase_membrane_integration.xml', subsystemName = 'atpsyn_mi')\n",
    "ss3_atpsynthesis = createSubsystem('atp_synthesis_through_atpsynthase_try.xml', subsystemName = 'atpsynthesis')\n",
    "ss4_atp_use = createSubsystem('atp_50_use.xml', subsystemName = 'atp_use')"
   ]
  },
  {
   "cell_type": "markdown",
   "metadata": {},
   "source": [
    "Combine all models"
   ]
  },
  {
   "cell_type": "code",
   "execution_count": 5,
   "metadata": {},
   "outputs": [],
   "source": [
    "atp_subsystem_w_use = ss1_atpsyn_txtl + ss2_atpsyn_mi + ss3_atpsynthesis + ss4_atp_use"
   ]
  },
  {
   "cell_type": "markdown",
   "metadata": {},
   "source": [
    "Indicate initial conditions and timepoints, simulate with bioscrape, and get species IDs that you may want to plot"
   ]
  },
  {
   "cell_type": "code",
   "execution_count": 6,
   "metadata": {},
   "outputs": [
    {
     "name": "stderr",
     "output_type": "stream",
     "text": [
      "/Users/ankitaroychoudhury/opt/anaconda3/lib/python3.7/site-packages/scipy/integrate/odepack.py:248: ODEintWarning: Excess work done on this call (perhaps wrong Dfun type). Run with full_output = 1 to get quantitative information.\n",
      "  warnings.warn(warning_msg, ODEintWarning)\n",
      "odeint failed with mxstep=500..."
     ]
    }
   ],
   "source": [
    "# SIMULATE WITH ATP SYNTHASE\n",
    "# Initial conditions\n",
    "spec_list_10 = ['dna_atpsyn', 'proton_outside_H',\n",
    "                 'protein_RNAP_machinery', \n",
    "                'protein_Ribo_machinery', 'protein_RNAse_machinery']\n",
    "for i,spec in enumerate(spec_list_10):\n",
    "    atp_subsystem_w_use.setSpeciesAmount(spec,10)\n",
    "    \n",
    "atp_subsystem_w_use.setSpeciesAmount('metabolite_atp',1500000)\n",
    "\n",
    "\n",
    "# timepoints and get WITH ATP SYNTHASE\n",
    "timepoints = np.linspace(0,31600,100) #31600\n",
    "results1, _ = atp_subsystem_w_use.simulateWithBioscrape(timepoints, sbml_warnings = False)\n",
    "\n",
    "# Get species IDs\n",
    "ATP_id = atp_subsystem_w_use.getSpeciesByName('metabolite_atp').getId()\n",
    "ADP_id = atp_subsystem_w_use.getSpeciesByName('metabolite_adp').getId()\n",
    "\n",
    "outside_H_id = atp_subsystem_w_use.getSpeciesByName('proton_outside_H').getId()\n",
    "inside_H_id = atp_subsystem_w_use.getSpeciesByName('proton_inside_H').getId()\n",
    "atp_synthase_b_protein_id = atp_subsystem_w_use.getSpeciesByName('protein_atpsyn_b').getId()\n",
    "atp_synthase_f_protein_id = atp_subsystem_w_use.getSpeciesByName('protein_atpsyn').getId()"
   ]
  },
  {
   "cell_type": "markdown",
   "metadata": {},
   "source": [
    "Perform simulations with the system with **only** ATP use, no atp synthase"
   ]
  },
  {
   "cell_type": "code",
   "execution_count": 7,
   "metadata": {},
   "outputs": [],
   "source": [
    "# SIMULATE WITHOUT ATP SYNTHASE\n",
    "#ss4_atp_use.setSpeciesAmount('proton_outside_H',10)\n",
    "ss4_atp_use.setSpeciesAmount('metabolite_atp',1500000)\n",
    "\n",
    "\n",
    "results2, _ = ss4_atp_use.simulateWithBioscrape(timepoints, sbml_warnings = False)\n",
    "\n",
    "# GET ATP species ID s\n",
    "ATP_id2 = ss4_atp_use.getSpeciesByName('metabolite_atp').getId()"
   ]
  },
  {
   "cell_type": "markdown",
   "metadata": {},
   "source": [
    "Plot!"
   ]
  },
  {
   "cell_type": "code",
   "execution_count": 8,
   "metadata": {},
   "outputs": [
    {
     "data": {
      "text/html": [
       "\n",
       "\n",
       "\n",
       "\n",
       "\n",
       "\n",
       "  <div class=\"bk-root\" id=\"fe544666-113e-4a63-9787-c7fa23c8981f\" data-root-id=\"1249\"></div>\n"
      ]
     },
     "metadata": {},
     "output_type": "display_data"
    },
    {
     "data": {
      "application/javascript": [
       "(function(root) {\n",
       "  function embed_document(root) {\n",
       "    \n",
       "  var docs_json = {\"a9e876fc-8b29-4b8a-ad7c-826a518dcbd7\":{\"roots\":{\"references\":[{\"attributes\":{\"children\":[{\"id\":\"1035\"},{\"id\":\"1137\"}]},\"id\":\"1249\",\"type\":\"Row\"},{\"attributes\":{},\"id\":\"1059\",\"type\":\"HelpTool\"},{\"attributes\":{\"data\":{\"x\":{\"__ndarray__\":\"AAAAAAAAAAD0kcwotrK2P/SRzCi2ssY/d22ZnggG0T/0kcwotrLWP3K2/7JjX9w/d22ZnggG4T+2/7JjX9zjP/SRzCi2suY/MyTm7QyJ6T9ytv+yY1/sP7BIGXi6Ne8/d22ZnggG8T+WNiYBNHHyP7b/smNf3PM/1sg/xopH9T/0kcwotrL2PxNbWYvhHfg/MyTm7QyJ+T9T7XJQOPT6P3K2/7JjX/w/kH+MFY/K/T+wSBl4ujX/P+gIU+1yUABAd22ZnggGAUAG0t9PnrsBQJY2JgE0cQJAJptssskmA0C2/7JjX9wDQEVk+RT1kQRA1sg/xopHBUBlLYZ3IP0FQPSRzCi2sgZAhPYS2ktoB0ATW1mL4R0IQKS/nzx30whAMyTm7QyJCUDCiCyfoj4KQFPtclA49ApA4lG5Ac6pC0Bytv+yY18MQAEbRmT5FA1AkH+MFY/KDUAh5NLGJIAOQLBIGXi6NQ9AQK1fKVDrD0DoCFPtclAQQDA79sU9qxBAd22ZnggGEUC/nzx302ARQAbS30+euxFATwSDKGkWEkCWNiYBNHESQN9oydn+yxJAJptssskmE0BuzQ+LlIETQLb/smNf3BNA/jFWPCo3FEBFZPkU9ZEUQI2WnO2/7BRA1sg/xopHFUAe++KeVaIVQGUthncg/RVArV8pUOtXFkD0kcwotrIWQD3EbwGBDRdAhPYS2ktoF0DMKLayFsMXQBNbWYvhHRhAXI38Y6x4GECkv588d9MYQOzxQhVCLhlAMyTm7QyJGUB7VonG1+MZQMKILJ+iPhpAC7vPd22ZGkBT7XJQOPQaQJsfFikDTxtA4lG5Ac6pG0AqhFzamAQcQHK2/7JjXxxAuuiiiy66HEABG0Zk+RQdQElN6TzEbx1AkH+MFY/KHUDasS/uWSUeQCHk0sYkgB5AaRZ2n+/aHkCwSBl4ujUfQPl6vFCFkB9AQK1fKVDrH0DEbwGBDSMgQOgIU+1yUCBADKKkWdh9IEAwO/bFPasgQFTURzKj2CBAd22ZnggGIUCcBusKbjMhQL+fPHfTYCFA4ziO4ziOIUA=\",\"dtype\":\"float64\",\"order\":\"little\",\"shape\":[100]},\"y\":{\"__ndarray__\":\"AAAAAAAAJECMGRxvkIsBPR5CJssOFVY8fkZkHJVZAToILoVwmt0zuKLy7FF3aB433/HZnauckDbfmZtolZZZNjaPhPtJESS2A8lNsn4/9LUjPjB9DxffsbqBlPtO2UYyG0Y2eDWBMjFyMMJvjlkZsMmtPGKWUz2vyOLbHfcKI69CsVJR75wJr7HV+PzaAAyvqSpuj5xsAC4keDBv4OLuraLehqssejOuAL9Rx3fTIy4A/9V5Y5aNrr5NPngf4+euEJN5CPDmFa8oI72beeNDLwTR+JGNETsv7aPmOi9jYC+8uF+XSzM8rzQ9ekuHRgOvwDBuS6arEC54yozRpUhWrnDD9ylixoKutMuilw+bqq6b4tbwuAiiLpu1+GQB938uwz+sLjTwbK1mHcppiQqjreAbub9zyrQthOyz1/95xa0PfpEBFTT9rcyE5CbSpCAu5zw2xc3sFq4j+0JjlhcFLu3vVzPS74YtgGcbu57g3iyCh4TGKZjrLNRX8g2wecisXiYo44oYoCx7SMoxvAFerITLYTz9eDKseeF3OmoUxCsJUc0ecdiTK8sy9qOcaKsrLOM1Kox+bKuXXDOipJmBq7VzGx9MnmIrsMYyzjYUEquY5xw6rJEzq0uOZ1cyb4+qZd5WiaKdEyrY4p/inZRCKnhkICEGEFQqsKvh4jvqZSpzEZaxRaX3qRoV5ag3ISKq7Se7zxCgEarTHvcY+6YDKjbK/dEw+AsqJhQDeRTKxalb+0TH3+TgqSuhUXzDcrWozm3v6/Q//qgk7gPtySr5qH0cvgV3k9Yogh5DQzRF5Sg1pg+SO37gKHTaJpvzTAYpUeWA7MQVEimUIGnRCyYOKRF1x2IUIZ8ocD5TmA+lxCje+uSInOzQKMx9/lMOOsworajzGVyWeCgHN4dnZbCdKCEknZNCJ6cozzAnGYFioig0j+n5IA1RqLi9+8ncKXSo6D6b8UK8f6itWtJGcDh5qBaukzA6mXWnDOJaAu7clqegykMXe22hp2zwkZlC1pqnpbR5hCc3IadA8cHRqhhpJ/r6ZovxRnQnA+LILCIkbyc=\",\"dtype\":\"float64\",\"order\":\"little\",\"shape\":[100]}},\"selected\":{\"id\":\"1095\"},\"selection_policy\":{\"id\":\"1096\"}},\"id\":\"1083\",\"type\":\"ColumnDataSource\"},{\"attributes\":{},\"id\":\"1079\",\"type\":\"UnionRenderers\"},{\"attributes\":{},\"id\":\"1076\",\"type\":\"BasicTickFormatter\"},{\"attributes\":{\"line_color\":\"#1f77b3\",\"line_width\":2,\"x\":{\"field\":\"x\"},\"y\":{\"field\":\"y\"}},\"id\":\"1069\",\"type\":\"Line\"},{\"attributes\":{},\"id\":\"1074\",\"type\":\"BasicTickFormatter\"},{\"attributes\":{},\"id\":\"1078\",\"type\":\"Selection\"},{\"attributes\":{\"source\":{\"id\":\"1068\"}},\"id\":\"1072\",\"type\":\"CDSView\"},{\"attributes\":{\"data_source\":{\"id\":\"1068\"},\"glyph\":{\"id\":\"1069\"},\"hover_glyph\":null,\"muted_glyph\":null,\"nonselection_glyph\":{\"id\":\"1070\"},\"selection_glyph\":null,\"view\":{\"id\":\"1072\"}},\"id\":\"1071\",\"type\":\"GlyphRenderer\"},{\"attributes\":{\"click_policy\":\"hide\",\"items\":[{\"id\":\"1082\"},{\"id\":\"1098\"},{\"id\":\"1116\"},{\"id\":\"1136\"}],\"location\":\"bottom_right\"},\"id\":\"1081\",\"type\":\"Legend\"},{\"attributes\":{\"active_drag\":\"auto\",\"active_inspect\":\"auto\",\"active_multi\":null,\"active_scroll\":\"auto\",\"active_tap\":\"auto\",\"tools\":[{\"id\":\"1054\"},{\"id\":\"1055\"},{\"id\":\"1056\"},{\"id\":\"1057\"},{\"id\":\"1058\"},{\"id\":\"1059\"}]},\"id\":\"1061\",\"type\":\"Toolbar\"},{\"attributes\":{},\"id\":\"1095\",\"type\":\"Selection\"},{\"attributes\":{\"label\":{\"value\":\"atp\"},\"renderers\":[{\"id\":\"1071\"}]},\"id\":\"1082\",\"type\":\"LegendItem\"},{\"attributes\":{\"source\":{\"id\":\"1083\"}},\"id\":\"1087\",\"type\":\"CDSView\"},{\"attributes\":{\"line_color\":\"#ff7e0e\",\"line_width\":2,\"x\":{\"field\":\"x\"},\"y\":{\"field\":\"y\"}},\"id\":\"1084\",\"type\":\"Line\"},{\"attributes\":{\"data_source\":{\"id\":\"1083\"},\"glyph\":{\"id\":\"1084\"},\"hover_glyph\":null,\"muted_glyph\":null,\"nonselection_glyph\":{\"id\":\"1085\"},\"selection_glyph\":null,\"view\":{\"id\":\"1087\"}},\"id\":\"1086\",\"type\":\"GlyphRenderer\"},{\"attributes\":{\"line_alpha\":0.1,\"line_color\":\"#ff7e0e\",\"line_width\":2,\"x\":{\"field\":\"x\"},\"y\":{\"field\":\"y\"}},\"id\":\"1085\",\"type\":\"Line\"},{\"attributes\":{\"label\":{\"value\":\"outside_H\"},\"renderers\":[{\"id\":\"1086\"}]},\"id\":\"1098\",\"type\":\"LegendItem\"},{\"attributes\":{\"bottom_units\":\"screen\",\"fill_alpha\":0.5,\"fill_color\":\"lightgrey\",\"left_units\":\"screen\",\"level\":\"overlay\",\"line_alpha\":1.0,\"line_color\":\"black\",\"line_dash\":[4,4],\"line_width\":2,\"right_units\":\"screen\",\"top_units\":\"screen\"},\"id\":\"1060\",\"type\":\"BoxAnnotation\"},{\"attributes\":{},\"id\":\"1096\",\"type\":\"UnionRenderers\"},{\"attributes\":{\"data\":{\"x\":{\"__ndarray__\":\"AAAAAAAAAAD0kcwotrK2P/SRzCi2ssY/d22ZnggG0T/0kcwotrLWP3K2/7JjX9w/d22ZnggG4T+2/7JjX9zjP/SRzCi2suY/MyTm7QyJ6T9ytv+yY1/sP7BIGXi6Ne8/d22ZnggG8T+WNiYBNHHyP7b/smNf3PM/1sg/xopH9T/0kcwotrL2PxNbWYvhHfg/MyTm7QyJ+T9T7XJQOPT6P3K2/7JjX/w/kH+MFY/K/T+wSBl4ujX/P+gIU+1yUABAd22ZnggGAUAG0t9PnrsBQJY2JgE0cQJAJptssskmA0C2/7JjX9wDQEVk+RT1kQRA1sg/xopHBUBlLYZ3IP0FQPSRzCi2sgZAhPYS2ktoB0ATW1mL4R0IQKS/nzx30whAMyTm7QyJCUDCiCyfoj4KQFPtclA49ApA4lG5Ac6pC0Bytv+yY18MQAEbRmT5FA1AkH+MFY/KDUAh5NLGJIAOQLBIGXi6NQ9AQK1fKVDrD0DoCFPtclAQQDA79sU9qxBAd22ZnggGEUC/nzx302ARQAbS30+euxFATwSDKGkWEkCWNiYBNHESQN9oydn+yxJAJptssskmE0BuzQ+LlIETQLb/smNf3BNA/jFWPCo3FEBFZPkU9ZEUQI2WnO2/7BRA1sg/xopHFUAe++KeVaIVQGUthncg/RVArV8pUOtXFkD0kcwotrIWQD3EbwGBDRdAhPYS2ktoF0DMKLayFsMXQBNbWYvhHRhAXI38Y6x4GECkv588d9MYQOzxQhVCLhlAMyTm7QyJGUB7VonG1+MZQMKILJ+iPhpAC7vPd22ZGkBT7XJQOPQaQJsfFikDTxtA4lG5Ac6pG0AqhFzamAQcQHK2/7JjXxxAuuiiiy66HEABG0Zk+RQdQElN6TzEbx1AkH+MFY/KHUDasS/uWSUeQCHk0sYkgB5AaRZ2n+/aHkCwSBl4ujUfQPl6vFCFkB9AQK1fKVDrH0DEbwGBDSMgQOgIU+1yUCBADKKkWdh9IEAwO/bFPasgQFTURzKj2CBAd22ZnggGIUCcBusKbjMhQL+fPHfTYCFA4ziO4ziOIUA=\",\"dtype\":\"float64\",\"order\":\"little\",\"shape\":[100]},\"y\":{\"__ndarray__\":\"AAAAAAAAAAASAAAAAAAkQBcAAAAAACRAFwAAAAAAJEAXAAAAAAAkQBcAAAAAACRAFwAAAAAAJEAXAAAAAAAkQBcAAAAAACRAFwAAAAAAJEAXAAAAAAAkQBcAAAAAACRAFwAAAAAAJEAXAAAAAAAkQBcAAAAAACRAFwAAAAAAJEAXAAAAAAAkQBcAAAAAACRAFwAAAAAAJEAXAAAAAAAkQBcAAAAAACRAFwAAAAAAJEAXAAAAAAAkQBcAAAAAACRAFwAAAAAAJEAXAAAAAAAkQBcAAAAAACRAFwAAAAAAJEAXAAAAAAAkQBcAAAAAACRAFwAAAAAAJEAXAAAAAAAkQBcAAAAAACRAFwAAAAAAJEAXAAAAAAAkQBcAAAAAACRAFwAAAAAAJEAXAAAAAAAkQBcAAAAAACRAFwAAAAAAJEAXAAAAAAAkQBcAAAAAACRAFwAAAAAAJEAXAAAAAAAkQBcAAAAAACRAFwAAAAAAJEAXAAAAAAAkQBcAAAAAACRAFwAAAAAAJEAXAAAAAAAkQBcAAAAAACRAFwAAAAAAJEAXAAAAAAAkQBcAAAAAACRAFwAAAAAAJEAXAAAAAAAkQBcAAAAAACRAFwAAAAAAJEAXAAAAAAAkQBcAAAAAACRAFwAAAAAAJEAXAAAAAAAkQBcAAAAAACRAFwAAAAAAJEAXAAAAAAAkQBcAAAAAACRAFwAAAAAAJEAXAAAAAAAkQBcAAAAAACRAFwAAAAAAJEAXAAAAAAAkQBcAAAAAACRAFwAAAAAAJEAXAAAAAAAkQBcAAAAAACRAFwAAAAAAJEAXAAAAAAAkQBcAAAAAACRAFwAAAAAAJEAXAAAAAAAkQBcAAAAAACRAFwAAAAAAJEAXAAAAAAAkQBcAAAAAACRAFwAAAAAAJEAXAAAAAAAkQBcAAAAAACRAFwAAAAAAJEAXAAAAAAAkQBcAAAAAACRAFwAAAAAAJEAXAAAAAAAkQBcAAAAAACRAFwAAAAAAJEAXAAAAAAAkQBcAAAAAACRAFwAAAAAAJEAXAAAAAAAkQBcAAAAAACRAFwAAAAAAJEA=\",\"dtype\":\"float64\",\"order\":\"little\",\"shape\":[100]}},\"selected\":{\"id\":\"1113\"},\"selection_policy\":{\"id\":\"1114\"}},\"id\":\"1099\",\"type\":\"ColumnDataSource\"},{\"attributes\":{\"line_color\":\"#2ba02b\",\"line_width\":2,\"x\":{\"field\":\"x\"},\"y\":{\"field\":\"y\"}},\"id\":\"1100\",\"type\":\"Line\"},{\"attributes\":{},\"id\":\"1113\",\"type\":\"Selection\"},{\"attributes\":{\"source\":{\"id\":\"1099\"}},\"id\":\"1103\",\"type\":\"CDSView\"},{\"attributes\":{\"data_source\":{\"id\":\"1099\"},\"glyph\":{\"id\":\"1100\"},\"hover_glyph\":null,\"muted_glyph\":null,\"nonselection_glyph\":{\"id\":\"1101\"},\"selection_glyph\":null,\"view\":{\"id\":\"1103\"}},\"id\":\"1102\",\"type\":\"GlyphRenderer\"},{\"attributes\":{\"line_alpha\":0.1,\"line_color\":\"#2ba02b\",\"line_width\":2,\"x\":{\"field\":\"x\"},\"y\":{\"field\":\"y\"}},\"id\":\"1101\",\"type\":\"Line\"},{\"attributes\":{\"label\":{\"value\":\"inside_H\"},\"renderers\":[{\"id\":\"1102\"}]},\"id\":\"1116\",\"type\":\"LegendItem\"},{\"attributes\":{\"text\":\"with ATP Synthase\"},\"id\":\"1036\",\"type\":\"Title\"},{\"attributes\":{},\"id\":\"1114\",\"type\":\"UnionRenderers\"},{\"attributes\":{\"axis_label\":\"time (hrs)\",\"formatter\":{\"id\":\"1074\"},\"ticker\":{\"id\":\"1047\"}},\"id\":\"1046\",\"type\":\"LinearAxis\"},{\"attributes\":{\"data\":{\"x\":{\"__ndarray__\":\"AAAAAAAAAAD0kcwotrK2P/SRzCi2ssY/d22ZnggG0T/0kcwotrLWP3K2/7JjX9w/d22ZnggG4T+2/7JjX9zjP/SRzCi2suY/MyTm7QyJ6T9ytv+yY1/sP7BIGXi6Ne8/d22ZnggG8T+WNiYBNHHyP7b/smNf3PM/1sg/xopH9T/0kcwotrL2PxNbWYvhHfg/MyTm7QyJ+T9T7XJQOPT6P3K2/7JjX/w/kH+MFY/K/T+wSBl4ujX/P+gIU+1yUABAd22ZnggGAUAG0t9PnrsBQJY2JgE0cQJAJptssskmA0C2/7JjX9wDQEVk+RT1kQRA1sg/xopHBUBlLYZ3IP0FQPSRzCi2sgZAhPYS2ktoB0ATW1mL4R0IQKS/nzx30whAMyTm7QyJCUDCiCyfoj4KQFPtclA49ApA4lG5Ac6pC0Bytv+yY18MQAEbRmT5FA1AkH+MFY/KDUAh5NLGJIAOQLBIGXi6NQ9AQK1fKVDrD0DoCFPtclAQQDA79sU9qxBAd22ZnggGEUC/nzx302ARQAbS30+euxFATwSDKGkWEkCWNiYBNHESQN9oydn+yxJAJptssskmE0BuzQ+LlIETQLb/smNf3BNA/jFWPCo3FEBFZPkU9ZEUQI2WnO2/7BRA1sg/xopHFUAe++KeVaIVQGUthncg/RVArV8pUOtXFkD0kcwotrIWQD3EbwGBDRdAhPYS2ktoF0DMKLayFsMXQBNbWYvhHRhAXI38Y6x4GECkv588d9MYQOzxQhVCLhlAMyTm7QyJGUB7VonG1+MZQMKILJ+iPhpAC7vPd22ZGkBT7XJQOPQaQJsfFikDTxtA4lG5Ac6pG0AqhFzamAQcQHK2/7JjXxxAuuiiiy66HEABG0Zk+RQdQElN6TzEbx1AkH+MFY/KHUDasS/uWSUeQCHk0sYkgB5AaRZ2n+/aHkCwSBl4ujUfQPl6vFCFkB9AQK1fKVDrH0DEbwGBDSMgQOgIU+1yUCBADKKkWdh9IEAwO/bFPasgQFTURzKj2CBAd22ZnggGIUCcBusKbjMhQL+fPHfTYCFA4ziO4ziOIUA=\",\"dtype\":\"float64\",\"order\":\"little\",\"shape\":[100]},\"y\":{\"__ndarray__\":\"AAAAAAAAAAC6Lm4HIAUzQOLM9/klBDRATv/YC1UHNEB3xh4RWAc0QO5ByxFYBzRAertbEVgHNEBE254QWAc0QLd7IRBYBzRAIDmwDlgHNEBbeHwNWAc0QPM2fQ1YBzRAV8R9DVgHNEA6/X0NWAc0QDIRfg1YBzRAexZ+DVgHNEDEF34NWAc0QPUXfg1YBzRAHRh+DVgHNEBVGH4NWAc0QEkYfg1YBzRAPRh+DVgHNEBKGH4NWAc0QP0Zfg1YBzRA9xl+DVgHNEDLEX4NWAc0QPylfQ1YBzRA4J99DVgHNEAY+n0NWAc0QKvzfQ1YBzRA1gB+DVgHNEAc730NWAc0QDnkfQ1YBzRAMJp9DVgHNEDcMX4NWAc0QLL2fQ1YBzRA5vZ9DVgHNEB/6n0NWAc0QMMLfg1YBzRADMZ9DVgHNEAIHnwNWAc0QEs3hg1YBzRAqrh4DVgHNEAxHYANWAc0QHblfQ1YBzRAlBB+DVgHNEC3S34NWAc0QOrsfQ1YBzRA5/V9DVgHNEBn+H0NWAc0QGb4fQ1YBzRAjPZ9DVgHNECO930NWAc0QN34fQ1YBzRAtfd9DVgHNEDK930NWAc0QLb3fQ1YBzRApPd9DVgHNECY930NWAc0QK73fQ1YBzRAsvd9DVgHNECz930NWAc0QKf3fQ1YBzRAnfd9DVgHNECl930NWAc0QKH3fQ1YBzRApvd9DVgHNECt930NWAc0QK/3fQ1YBzRArPd9DVgHNECr930NWAc0QKv3fQ1YBzRAqvd9DVgHNECq930NWAc0QKz3fQ1YBzRArfd9DVgHNECs930NWAc0QK/3fQ1YBzRAsfd9DVgHNECw930NWAc0QKv3fQ1YBzRAq/d9DVgHNECq930NWAc0QKr3fQ1YBzRAqfd9DVgHNECp930NWAc0QKj3fQ1YBzRAqfd9DVgHNECq930NWAc0QKr3fQ1YBzRAqvd9DVgHNECq930NWAc0QKr3fQ1YBzRAqvd9DVgHNECq930NWAc0QKr3fQ1YBzRAqvd9DVgHNECq930NWAc0QKr3fQ1YBzRAqvd9DVgHNEA=\",\"dtype\":\"float64\",\"order\":\"little\",\"shape\":[100]}},\"selected\":{\"id\":\"1133\"},\"selection_policy\":{\"id\":\"1134\"}},\"id\":\"1117\",\"type\":\"ColumnDataSource\"},{\"attributes\":{\"line_color\":\"#9367bc\",\"line_width\":2,\"x\":{\"field\":\"x\"},\"y\":{\"field\":\"y\"}},\"id\":\"1118\",\"type\":\"Line\"},{\"attributes\":{\"source\":{\"id\":\"1117\"}},\"id\":\"1121\",\"type\":\"CDSView\"},{\"attributes\":{},\"id\":\"1133\",\"type\":\"Selection\"},{\"attributes\":{\"text\":\"only ATP Use\"},\"id\":\"1138\",\"type\":\"Title\"},{\"attributes\":{\"data_source\":{\"id\":\"1117\"},\"glyph\":{\"id\":\"1118\"},\"hover_glyph\":null,\"muted_glyph\":null,\"nonselection_glyph\":{\"id\":\"1119\"},\"selection_glyph\":null,\"view\":{\"id\":\"1121\"}},\"id\":\"1120\",\"type\":\"GlyphRenderer\"},{\"attributes\":{\"line_alpha\":0.1,\"line_color\":\"#9367bc\",\"line_width\":2,\"x\":{\"field\":\"x\"},\"y\":{\"field\":\"y\"}},\"id\":\"1119\",\"type\":\"Line\"},{\"attributes\":{\"label\":{\"value\":\"bound atp synthase\"},\"renderers\":[{\"id\":\"1120\"}]},\"id\":\"1136\",\"type\":\"LegendItem\"},{\"attributes\":{},\"id\":\"1134\",\"type\":\"UnionRenderers\"},{\"attributes\":{\"below\":[{\"id\":\"1046\"}],\"center\":[{\"id\":\"1049\"},{\"id\":\"1053\"},{\"id\":\"1081\"}],\"left\":[{\"id\":\"1050\"}],\"plot_height\":350,\"plot_width\":450,\"renderers\":[{\"id\":\"1071\"},{\"id\":\"1086\"},{\"id\":\"1102\"},{\"id\":\"1120\"}],\"title\":{\"id\":\"1036\"},\"toolbar\":{\"id\":\"1061\"},\"x_range\":{\"id\":\"1038\"},\"x_scale\":{\"id\":\"1042\"},\"y_range\":{\"id\":\"1040\"},\"y_scale\":{\"id\":\"1044\"}},\"id\":\"1035\",\"subtype\":\"Figure\",\"type\":\"Plot\"},{\"attributes\":{\"line_alpha\":0.1,\"line_color\":\"#1f77b3\",\"line_width\":2,\"x\":{\"field\":\"x\"},\"y\":{\"field\":\"y\"}},\"id\":\"1070\",\"type\":\"Line\"},{\"attributes\":{\"bottom_units\":\"screen\",\"fill_alpha\":0.5,\"fill_color\":\"lightgrey\",\"left_units\":\"screen\",\"level\":\"overlay\",\"line_alpha\":1.0,\"line_color\":\"black\",\"line_dash\":[4,4],\"line_width\":2,\"right_units\":\"screen\",\"top_units\":\"screen\"},\"id\":\"1162\",\"type\":\"BoxAnnotation\"},{\"attributes\":{},\"id\":\"1038\",\"type\":\"DataRange1d\"},{\"attributes\":{\"axis\":{\"id\":\"1046\"},\"ticker\":null},\"id\":\"1049\",\"type\":\"Grid\"},{\"attributes\":{},\"id\":\"1140\",\"type\":\"DataRange1d\"},{\"attributes\":{},\"id\":\"1178\",\"type\":\"BasicTickFormatter\"},{\"attributes\":{},\"id\":\"1142\",\"type\":\"DataRange1d\"},{\"attributes\":{\"items\":[{\"id\":\"1184\"}]},\"id\":\"1183\",\"type\":\"Legend\"},{\"attributes\":{},\"id\":\"1040\",\"type\":\"DataRange1d\"},{\"attributes\":{},\"id\":\"1176\",\"type\":\"BasicTickFormatter\"},{\"attributes\":{},\"id\":\"1047\",\"type\":\"BasicTicker\"},{\"attributes\":{},\"id\":\"1144\",\"type\":\"LinearScale\"},{\"attributes\":{},\"id\":\"1146\",\"type\":\"LinearScale\"},{\"attributes\":{},\"id\":\"1042\",\"type\":\"LinearScale\"},{\"attributes\":{},\"id\":\"1044\",\"type\":\"LinearScale\"},{\"attributes\":{},\"id\":\"1180\",\"type\":\"Selection\"},{\"attributes\":{\"axis_label\":\"time (hrs)\",\"formatter\":{\"id\":\"1176\"},\"ticker\":{\"id\":\"1149\"}},\"id\":\"1148\",\"type\":\"LinearAxis\"},{\"attributes\":{\"axis\":{\"id\":\"1152\"},\"dimension\":1,\"ticker\":null},\"id\":\"1155\",\"type\":\"Grid\"},{\"attributes\":{},\"id\":\"1181\",\"type\":\"UnionRenderers\"},{\"attributes\":{},\"id\":\"1149\",\"type\":\"BasicTicker\"},{\"attributes\":{\"axis\":{\"id\":\"1050\"},\"dimension\":1,\"ticker\":null},\"id\":\"1053\",\"type\":\"Grid\"},{\"attributes\":{\"axis\":{\"id\":\"1148\"},\"ticker\":null},\"id\":\"1151\",\"type\":\"Grid\"},{\"attributes\":{\"label\":{\"value\":\"atp\"},\"renderers\":[{\"id\":\"1173\"}]},\"id\":\"1184\",\"type\":\"LegendItem\"},{\"attributes\":{},\"id\":\"1051\",\"type\":\"BasicTicker\"},{\"attributes\":{},\"id\":\"1153\",\"type\":\"BasicTicker\"},{\"attributes\":{\"axis_label\":\"concentration (nM)\",\"formatter\":{\"id\":\"1076\"},\"ticker\":{\"id\":\"1051\"}},\"id\":\"1050\",\"type\":\"LinearAxis\"},{\"attributes\":{\"axis_label\":\"concentration (nM)\",\"formatter\":{\"id\":\"1178\"},\"ticker\":{\"id\":\"1153\"}},\"id\":\"1152\",\"type\":\"LinearAxis\"},{\"attributes\":{\"data\":{\"x\":{\"__ndarray__\":\"AAAAAAAAAAD0kcwotrK2P/SRzCi2ssY/d22ZnggG0T/0kcwotrLWP3K2/7JjX9w/d22ZnggG4T+2/7JjX9zjP/SRzCi2suY/MyTm7QyJ6T9ytv+yY1/sP7BIGXi6Ne8/d22ZnggG8T+WNiYBNHHyP7b/smNf3PM/1sg/xopH9T/0kcwotrL2PxNbWYvhHfg/MyTm7QyJ+T9T7XJQOPT6P3K2/7JjX/w/kH+MFY/K/T+wSBl4ujX/P+gIU+1yUABAd22ZnggGAUAG0t9PnrsBQJY2JgE0cQJAJptssskmA0C2/7JjX9wDQEVk+RT1kQRA1sg/xopHBUBlLYZ3IP0FQPSRzCi2sgZAhPYS2ktoB0ATW1mL4R0IQKS/nzx30whAMyTm7QyJCUDCiCyfoj4KQFPtclA49ApA4lG5Ac6pC0Bytv+yY18MQAEbRmT5FA1AkH+MFY/KDUAh5NLGJIAOQLBIGXi6NQ9AQK1fKVDrD0DoCFPtclAQQDA79sU9qxBAd22ZnggGEUC/nzx302ARQAbS30+euxFATwSDKGkWEkCWNiYBNHESQN9oydn+yxJAJptssskmE0BuzQ+LlIETQLb/smNf3BNA/jFWPCo3FEBFZPkU9ZEUQI2WnO2/7BRA1sg/xopHFUAe++KeVaIVQGUthncg/RVArV8pUOtXFkD0kcwotrIWQD3EbwGBDRdAhPYS2ktoF0DMKLayFsMXQBNbWYvhHRhAXI38Y6x4GECkv588d9MYQOzxQhVCLhlAMyTm7QyJGUB7VonG1+MZQMKILJ+iPhpAC7vPd22ZGkBT7XJQOPQaQJsfFikDTxtA4lG5Ac6pG0AqhFzamAQcQHK2/7JjXxxAuuiiiy66HEABG0Zk+RQdQElN6TzEbx1AkH+MFY/KHUDasS/uWSUeQCHk0sYkgB5AaRZ2n+/aHkCwSBl4ujUfQPl6vFCFkB9AQK1fKVDrH0DEbwGBDSMgQOgIU+1yUCBADKKkWdh9IEAwO/bFPasgQFTURzKj2CBAd22ZnggGIUCcBusKbjMhQL+fPHfTYCFA4ziO4ziOIUA=\",\"dtype\":\"float64\",\"order\":\"little\",\"shape\":[100]},\"y\":{\"__ndarray__\":\"AAAAAGDjNkHLxXw5/t82QcvFfDn+3zZBy8V8Of7fNkHLxXw5/t82QcvFfDn+3zZBy8V8Of7fNkHLxXw5/t82QcvFfDn+3zZBysV8Of7fNkHKxXw5/t82QcrFfDn+3zZBysV8Of7fNkHKxXw5/t82QcrFfDn+3zZBysV8Of7fNkHKxXw5/t82QcrFfDn+3zZBysV8Of7fNkHKxXw5/t82QcrFfDn+3zZBysV8Of7fNkHJxXw5/t82QajFfDn+3zZB0MR8Of7fNkHhzHw5/t82QZ3KfDn+3zZBJt18Of7fNkHCwHw5/t82QVvFfDn+3zZBycV8Of7fNkHJxXw5/t82QcnFfDn+3zZBycV8Of7fNkHJxXw5/t82QcnFfDn+3zZBycV8Of7fNkHJxXw5/t82QcnFfDn+3zZBycV8Of7fNkHJxXw5/t82QcnFfDn+3zZBycV8Of7fNkHJxXw5/t82QcnFfDn+3zZBycV8Of7fNkHJxXw5/t82QcnFfDn+3zZBycV8Of7fNkHJxXw5/t82QcnFfDn+3zZBycV8Of7fNkHJxXw5/t82QcnFfDn+3zZBycV8Of7fNkHJxXw5/t82QcnFfDn+3zZBycV8Of7fNkHJxXw5/t82QcnFfDn+3zZBycV8Of7fNkHJxXw5/t82QcnFfDn+3zZBycV8Of7fNkHJxXw5/t82QcnFfDn+3zZBycV8Of7fNkHJxXw5/t82QcnFfDn+3zZBycV8Of7fNkHJxXw5/t82QcnFfDn+3zZBycV8Of7fNkHJxXw5/t82QcnFfDn+3zZBycV8Of7fNkHJxXw5/t82QcnFfDn+3zZBycV8Of7fNkHJxXw5/t82QcnFfDn+3zZBycV8Of7fNkHJxXw5/t82QcnFfDn+3zZBycV8Of7fNkHJxXw5/t82QcnFfDn+3zZBycV8Of7fNkHJxXw5/t82QcnFfDn+3zZBycV8Of7fNkHJxXw5/t82QcnFfDn+3zZBycV8Of7fNkHJxXw5/t82QcnFfDn+3zZBycV8Of7fNkHJxXw5/t82QcnFfDn+3zZBycV8Of7fNkE=\",\"dtype\":\"float64\",\"order\":\"little\",\"shape\":[100]}},\"selected\":{\"id\":\"1078\"},\"selection_policy\":{\"id\":\"1079\"}},\"id\":\"1068\",\"type\":\"ColumnDataSource\"},{\"attributes\":{\"line_color\":\"#1f77b3\",\"line_width\":2,\"x\":{\"field\":\"x\"},\"y\":{\"field\":\"y\"}},\"id\":\"1171\",\"type\":\"Line\"},{\"attributes\":{\"data\":{\"x\":{\"__ndarray__\":\"AAAAAAAAAAD0kcwotrK2P/SRzCi2ssY/d22ZnggG0T/0kcwotrLWP3K2/7JjX9w/d22ZnggG4T+2/7JjX9zjP/SRzCi2suY/MyTm7QyJ6T9ytv+yY1/sP7BIGXi6Ne8/d22ZnggG8T+WNiYBNHHyP7b/smNf3PM/1sg/xopH9T/0kcwotrL2PxNbWYvhHfg/MyTm7QyJ+T9T7XJQOPT6P3K2/7JjX/w/kH+MFY/K/T+wSBl4ujX/P+gIU+1yUABAd22ZnggGAUAG0t9PnrsBQJY2JgE0cQJAJptssskmA0C2/7JjX9wDQEVk+RT1kQRA1sg/xopHBUBlLYZ3IP0FQPSRzCi2sgZAhPYS2ktoB0ATW1mL4R0IQKS/nzx30whAMyTm7QyJCUDCiCyfoj4KQFPtclA49ApA4lG5Ac6pC0Bytv+yY18MQAEbRmT5FA1AkH+MFY/KDUAh5NLGJIAOQLBIGXi6NQ9AQK1fKVDrD0DoCFPtclAQQDA79sU9qxBAd22ZnggGEUC/nzx302ARQAbS30+euxFATwSDKGkWEkCWNiYBNHESQN9oydn+yxJAJptssskmE0BuzQ+LlIETQLb/smNf3BNA/jFWPCo3FEBFZPkU9ZEUQI2WnO2/7BRA1sg/xopHFUAe++KeVaIVQGUthncg/RVArV8pUOtXFkD0kcwotrIWQD3EbwGBDRdAhPYS2ktoF0DMKLayFsMXQBNbWYvhHRhAXI38Y6x4GECkv588d9MYQOzxQhVCLhlAMyTm7QyJGUB7VonG1+MZQMKILJ+iPhpAC7vPd22ZGkBT7XJQOPQaQJsfFikDTxtA4lG5Ac6pG0AqhFzamAQcQHK2/7JjXxxAuuiiiy66HEABG0Zk+RQdQElN6TzEbx1AkH+MFY/KHUDasS/uWSUeQCHk0sYkgB5AaRZ2n+/aHkCwSBl4ujUfQPl6vFCFkB9AQK1fKVDrH0DEbwGBDSMgQOgIU+1yUCBADKKkWdh9IEAwO/bFPasgQFTURzKj2CBAd22ZnggGIUCcBusKbjMhQL+fPHfTYCFA4ziO4ziOIUA=\",\"dtype\":\"float64\",\"order\":\"little\",\"shape\":[100]},\"y\":{\"__ndarray__\":\"AAAAAGDjNkGLNuwbR2ikuvByQU8maIO6fFEkq3hAxjkMbzOawOadOf5W0cm2ePY4FyEB1OQ69Tgx6zDeEv3zOEu1YOhAv/I4Zn+Q8m6B8Th/ScD8nEPwODQn4A2WC+44Z7s/IvKP6zicT582ThTpONDj/kqqmOY4A3heXwYd5Dg4DL5zYqHhONpAOxB9S944QWn6ODVU2Tinkblh7VzUOCR08RRLy84498RvZrvcxDiJK9xvV9y1OBzSjC2B8384U9/Fz23pITiLyTjJn+ogOIdnV4Wj1x849Ts9eAfaHThlECNra9wbONbkCF7P3hk4QrnuUDPhFzizjdRDl+MVOCNiujb75RM4lDagKV/oETgJFgw5htUPOOS+1x5O2gs4w2ejBBbfBzilEG/q3eMDOP5ydaBL0f83wMQMbNva9zcFLUhv1sjvNw+h7Qzst983jsAXpxerGzej2UpenIUbN7byfRUhYBs3yguxzKU6GzfeJOSDKhUbN/I9Fzuv7xo3BVdK8jPKGjcZcH2puKQaNy2JsGA9fxo3QKLjF8JZGjdVuxbPRjQaN2nUSYbLDho3fe18PVDpGTeQBrD01MMZN6Qf46tZnhk3uDgWY954GTfMUUkaY1MZN+BqfNHnLRk384OviGwIGTcIneI/8eIYNxu2Ffd1vRg3L89IrvqXGDdD6Htlf3IYN1cBrxwETRg3axri04gnGDd+MxWLDQIYN5JMSEKS3Bc3pmV7+Ra3Fze5fq6wm5EXN86X4WcgbBc34rAUH6VGFzf2yUfWKSEXNwnjeo2u+xY3HfytRDPWFjcxFeH7t7AWN0QuFLM8ixY3WEdHasFlFjduYHohRkAWN4F5rdjKGhY3lJLgj0/1FTepqxNH1M8VN73ERv5YqhU30N15td2EFTfk9qxsYl8VN/gP4CPnORU3CykT22sUFTcfQkaS8O4UNzRbeUl1yRQ3SHSsAPqjFDdbjd+3fn4UN2+mEm8DWRQ3g79FJogzFDeW2HjdDA4UN6rxq5SR6BM3vgrfSxbDEzfTIxIDm50TN+Y8RbofeBM3+lV4caRSEzc=\",\"dtype\":\"float64\",\"order\":\"little\",\"shape\":[100]}},\"selected\":{\"id\":\"1180\"},\"selection_policy\":{\"id\":\"1181\"}},\"id\":\"1170\",\"type\":\"ColumnDataSource\"},{\"attributes\":{\"source\":{\"id\":\"1170\"}},\"id\":\"1174\",\"type\":\"CDSView\"},{\"attributes\":{\"below\":[{\"id\":\"1148\"}],\"center\":[{\"id\":\"1151\"},{\"id\":\"1155\"},{\"id\":\"1183\"}],\"left\":[{\"id\":\"1152\"}],\"plot_height\":350,\"plot_width\":450,\"renderers\":[{\"id\":\"1173\"}],\"title\":{\"id\":\"1138\"},\"toolbar\":{\"id\":\"1163\"},\"x_range\":{\"id\":\"1140\"},\"x_scale\":{\"id\":\"1144\"},\"y_range\":{\"id\":\"1142\"},\"y_scale\":{\"id\":\"1146\"}},\"id\":\"1137\",\"subtype\":\"Figure\",\"type\":\"Plot\"},{\"attributes\":{\"data_source\":{\"id\":\"1170\"},\"glyph\":{\"id\":\"1171\"},\"hover_glyph\":null,\"muted_glyph\":null,\"nonselection_glyph\":{\"id\":\"1172\"},\"selection_glyph\":null,\"view\":{\"id\":\"1174\"}},\"id\":\"1173\",\"type\":\"GlyphRenderer\"},{\"attributes\":{},\"id\":\"1054\",\"type\":\"PanTool\"},{\"attributes\":{},\"id\":\"1156\",\"type\":\"PanTool\"},{\"attributes\":{},\"id\":\"1055\",\"type\":\"WheelZoomTool\"},{\"attributes\":{},\"id\":\"1157\",\"type\":\"WheelZoomTool\"},{\"attributes\":{\"line_alpha\":0.1,\"line_color\":\"#1f77b3\",\"line_width\":2,\"x\":{\"field\":\"x\"},\"y\":{\"field\":\"y\"}},\"id\":\"1172\",\"type\":\"Line\"},{\"attributes\":{\"overlay\":{\"id\":\"1060\"}},\"id\":\"1056\",\"type\":\"BoxZoomTool\"},{\"attributes\":{\"overlay\":{\"id\":\"1162\"}},\"id\":\"1158\",\"type\":\"BoxZoomTool\"},{\"attributes\":{},\"id\":\"1159\",\"type\":\"SaveTool\"},{\"attributes\":{},\"id\":\"1160\",\"type\":\"ResetTool\"},{\"attributes\":{},\"id\":\"1057\",\"type\":\"SaveTool\"},{\"attributes\":{},\"id\":\"1058\",\"type\":\"ResetTool\"},{\"attributes\":{},\"id\":\"1161\",\"type\":\"HelpTool\"},{\"attributes\":{\"active_drag\":\"auto\",\"active_inspect\":\"auto\",\"active_multi\":null,\"active_scroll\":\"auto\",\"active_tap\":\"auto\",\"tools\":[{\"id\":\"1156\"},{\"id\":\"1157\"},{\"id\":\"1158\"},{\"id\":\"1159\"},{\"id\":\"1160\"},{\"id\":\"1161\"}]},\"id\":\"1163\",\"type\":\"Toolbar\"}],\"root_ids\":[\"1249\"]},\"title\":\"Bokeh Application\",\"version\":\"2.2.1\"}};\n",
       "  var render_items = [{\"docid\":\"a9e876fc-8b29-4b8a-ad7c-826a518dcbd7\",\"root_ids\":[\"1249\"],\"roots\":{\"1249\":\"fe544666-113e-4a63-9787-c7fa23c8981f\"}}];\n",
       "  root.Bokeh.embed.embed_items_notebook(docs_json, render_items);\n",
       "\n",
       "  }\n",
       "  if (root.Bokeh !== undefined) {\n",
       "    embed_document(root);\n",
       "  } else {\n",
       "    var attempts = 0;\n",
       "    var timer = setInterval(function(root) {\n",
       "      if (root.Bokeh !== undefined) {\n",
       "        clearInterval(timer);\n",
       "        embed_document(root);\n",
       "      } else {\n",
       "        attempts++;\n",
       "        if (attempts > 100) {\n",
       "          clearInterval(timer);\n",
       "          console.log(\"Bokeh: ERROR: Unable to run BokehJS code because BokehJS library is missing\");\n",
       "        }\n",
       "      }\n",
       "    }, 10, root)\n",
       "  }\n",
       "})(window);"
      ],
      "application/vnd.bokehjs_exec.v0+json": ""
     },
     "metadata": {
      "application/vnd.bokehjs_exec.v0+json": {
       "id": "1249"
      }
     },
     "output_type": "display_data"
    },
    {
     "data": {
      "text/html": [
       "\n",
       "\n",
       "\n",
       "\n",
       "\n",
       "\n",
       "  <div class=\"bk-root\" id=\"cde1bb18-0dd0-4c4f-bcd3-78cc7aa85d19\" data-root-id=\"1185\"></div>\n"
      ]
     },
     "metadata": {},
     "output_type": "display_data"
    },
    {
     "data": {
      "application/javascript": [
       "(function(root) {\n",
       "  function embed_document(root) {\n",
       "    \n",
       "  var docs_json = {\"8fc5a38c-8c6d-4476-b6a2-1eee367d949f\":{\"roots\":{\"references\":[{\"attributes\":{\"below\":[{\"id\":\"1196\"}],\"center\":[{\"id\":\"1199\"},{\"id\":\"1203\"},{\"id\":\"1231\"}],\"left\":[{\"id\":\"1200\"}],\"plot_height\":350,\"plot_width\":450,\"renderers\":[{\"id\":\"1221\"},{\"id\":\"1236\"}],\"title\":{\"id\":\"1186\"},\"toolbar\":{\"id\":\"1211\"},\"x_range\":{\"id\":\"1188\"},\"x_scale\":{\"id\":\"1192\"},\"y_range\":{\"id\":\"1190\"},\"y_scale\":{\"id\":\"1194\"}},\"id\":\"1185\",\"subtype\":\"Figure\",\"type\":\"Plot\"},{\"attributes\":{\"data_source\":{\"id\":\"1218\"},\"glyph\":{\"id\":\"1219\"},\"hover_glyph\":null,\"muted_glyph\":null,\"nonselection_glyph\":{\"id\":\"1220\"},\"selection_glyph\":null,\"view\":{\"id\":\"1222\"}},\"id\":\"1221\",\"type\":\"GlyphRenderer\"},{\"attributes\":{},\"id\":\"1246\",\"type\":\"UnionRenderers\"},{\"attributes\":{},\"id\":\"1228\",\"type\":\"Selection\"},{\"attributes\":{\"line_color\":\"#1f77b3\",\"line_width\":2,\"x\":{\"field\":\"x\"},\"y\":{\"field\":\"y\"}},\"id\":\"1219\",\"type\":\"Line\"},{\"attributes\":{\"data\":{\"x\":{\"__ndarray__\":\"AAAAAAAAAAD0kcwotrK2P/SRzCi2ssY/d22ZnggG0T/0kcwotrLWP3K2/7JjX9w/d22ZnggG4T+2/7JjX9zjP/SRzCi2suY/MyTm7QyJ6T9ytv+yY1/sP7BIGXi6Ne8/d22ZnggG8T+WNiYBNHHyP7b/smNf3PM/1sg/xopH9T/0kcwotrL2PxNbWYvhHfg/MyTm7QyJ+T9T7XJQOPT6P3K2/7JjX/w/kH+MFY/K/T+wSBl4ujX/P+gIU+1yUABAd22ZnggGAUAG0t9PnrsBQJY2JgE0cQJAJptssskmA0C2/7JjX9wDQEVk+RT1kQRA1sg/xopHBUBlLYZ3IP0FQPSRzCi2sgZAhPYS2ktoB0ATW1mL4R0IQKS/nzx30whAMyTm7QyJCUDCiCyfoj4KQFPtclA49ApA4lG5Ac6pC0Bytv+yY18MQAEbRmT5FA1AkH+MFY/KDUAh5NLGJIAOQLBIGXi6NQ9AQK1fKVDrD0DoCFPtclAQQDA79sU9qxBAd22ZnggGEUC/nzx302ARQAbS30+euxFATwSDKGkWEkCWNiYBNHESQN9oydn+yxJAJptssskmE0BuzQ+LlIETQLb/smNf3BNA/jFWPCo3FEBFZPkU9ZEUQI2WnO2/7BRA1sg/xopHFUAe++KeVaIVQGUthncg/RVArV8pUOtXFkD0kcwotrIWQD3EbwGBDRdAhPYS2ktoF0DMKLayFsMXQBNbWYvhHRhAXI38Y6x4GECkv588d9MYQOzxQhVCLhlAMyTm7QyJGUB7VonG1+MZQMKILJ+iPhpAC7vPd22ZGkBT7XJQOPQaQJsfFikDTxtA4lG5Ac6pG0AqhFzamAQcQHK2/7JjXxxAuuiiiy66HEABG0Zk+RQdQElN6TzEbx1AkH+MFY/KHUDasS/uWSUeQCHk0sYkgB5AaRZ2n+/aHkCwSBl4ujUfQPl6vFCFkB9AQK1fKVDrH0DEbwGBDSMgQOgIU+1yUCBADKKkWdh9IEAwO/bFPasgQFTURzKj2CBAd22ZnggGIUCcBusKbjMhQL+fPHfTYCFA4ziO4ziOIUA=\",\"dtype\":\"float64\",\"order\":\"little\",\"shape\":[100]},\"y\":{\"__ndarray__\":\"AAAAAGDjNkGLNuwbR2ikuvByQU8maIO6fFEkq3hAxjkMbzOawOadOf5W0cm2ePY4FyEB1OQ69Tgx6zDeEv3zOEu1YOhAv/I4Zn+Q8m6B8Th/ScD8nEPwODQn4A2WC+44Z7s/IvKP6zicT582ThTpONDj/kqqmOY4A3heXwYd5Dg4DL5zYqHhONpAOxB9S944QWn6ODVU2Tinkblh7VzUOCR08RRLy84498RvZrvcxDiJK9xvV9y1OBzSjC2B8384U9/Fz23pITiLyTjJn+ogOIdnV4Wj1x849Ts9eAfaHThlECNra9wbONbkCF7P3hk4QrnuUDPhFzizjdRDl+MVOCNiujb75RM4lDagKV/oETgJFgw5htUPOOS+1x5O2gs4w2ejBBbfBzilEG/q3eMDOP5ydaBL0f83wMQMbNva9zcFLUhv1sjvNw+h7Qzst983jsAXpxerGzej2UpenIUbN7byfRUhYBs3yguxzKU6GzfeJOSDKhUbN/I9Fzuv7xo3BVdK8jPKGjcZcH2puKQaNy2JsGA9fxo3QKLjF8JZGjdVuxbPRjQaN2nUSYbLDho3fe18PVDpGTeQBrD01MMZN6Qf46tZnhk3uDgWY954GTfMUUkaY1MZN+BqfNHnLRk384OviGwIGTcIneI/8eIYNxu2Ffd1vRg3L89IrvqXGDdD6Htlf3IYN1cBrxwETRg3axri04gnGDd+MxWLDQIYN5JMSEKS3Bc3pmV7+Ra3Fze5fq6wm5EXN86X4WcgbBc34rAUH6VGFzf2yUfWKSEXNwnjeo2u+xY3HfytRDPWFjcxFeH7t7AWN0QuFLM8ixY3WEdHasFlFjduYHohRkAWN4F5rdjKGhY3lJLgj0/1FTepqxNH1M8VN73ERv5YqhU30N15td2EFTfk9qxsYl8VN/gP4CPnORU3CykT22sUFTcfQkaS8O4UNzRbeUl1yRQ3SHSsAPqjFDdbjd+3fn4UN2+mEm8DWRQ3g79FJogzFDeW2HjdDA4UN6rxq5SR6BM3vgrfSxbDEzfTIxIDm50TN+Y8RbofeBM3+lV4caRSEzc=\",\"dtype\":\"float64\",\"order\":\"little\",\"shape\":[100]}},\"selected\":{\"id\":\"1245\"},\"selection_policy\":{\"id\":\"1246\"}},\"id\":\"1233\",\"type\":\"ColumnDataSource\"},{\"attributes\":{},\"id\":\"1226\",\"type\":\"BasicTickFormatter\"},{\"attributes\":{\"active_drag\":\"auto\",\"active_inspect\":\"auto\",\"active_multi\":null,\"active_scroll\":\"auto\",\"active_tap\":\"auto\",\"tools\":[{\"id\":\"1204\"},{\"id\":\"1205\"},{\"id\":\"1206\"},{\"id\":\"1207\"},{\"id\":\"1208\"},{\"id\":\"1209\"}]},\"id\":\"1211\",\"type\":\"Toolbar\"},{\"attributes\":{\"source\":{\"id\":\"1218\"}},\"id\":\"1222\",\"type\":\"CDSView\"},{\"attributes\":{\"items\":[{\"id\":\"1232\"},{\"id\":\"1248\"}]},\"id\":\"1231\",\"type\":\"Legend\"},{\"attributes\":{\"text\":\"Compare ATP \"},\"id\":\"1186\",\"type\":\"Title\"},{\"attributes\":{},\"id\":\"1188\",\"type\":\"DataRange1d\"},{\"attributes\":{},\"id\":\"1224\",\"type\":\"BasicTickFormatter\"},{\"attributes\":{},\"id\":\"1204\",\"type\":\"PanTool\"},{\"attributes\":{\"bottom_units\":\"screen\",\"fill_alpha\":0.5,\"fill_color\":\"lightgrey\",\"left_units\":\"screen\",\"level\":\"overlay\",\"line_alpha\":1.0,\"line_color\":\"black\",\"line_dash\":[4,4],\"line_width\":2,\"right_units\":\"screen\",\"top_units\":\"screen\"},\"id\":\"1210\",\"type\":\"BoxAnnotation\"},{\"attributes\":{},\"id\":\"1205\",\"type\":\"WheelZoomTool\"},{\"attributes\":{\"overlay\":{\"id\":\"1210\"}},\"id\":\"1206\",\"type\":\"BoxZoomTool\"},{\"attributes\":{\"label\":{\"value\":\"ATP Synthase, ATP Use\"},\"renderers\":[{\"id\":\"1221\"}]},\"id\":\"1232\",\"type\":\"LegendItem\"},{\"attributes\":{\"line_alpha\":0.1,\"line_color\":\"#1f77b3\",\"line_width\":2,\"x\":{\"field\":\"x\"},\"y\":{\"field\":\"y\"}},\"id\":\"1220\",\"type\":\"Line\"},{\"attributes\":{},\"id\":\"1229\",\"type\":\"UnionRenderers\"},{\"attributes\":{},\"id\":\"1207\",\"type\":\"SaveTool\"},{\"attributes\":{},\"id\":\"1190\",\"type\":\"DataRange1d\"},{\"attributes\":{},\"id\":\"1208\",\"type\":\"ResetTool\"},{\"attributes\":{},\"id\":\"1192\",\"type\":\"LinearScale\"},{\"attributes\":{},\"id\":\"1209\",\"type\":\"HelpTool\"},{\"attributes\":{},\"id\":\"1194\",\"type\":\"LinearScale\"},{\"attributes\":{\"axis_label\":\"time (hr)\",\"formatter\":{\"id\":\"1224\"},\"ticker\":{\"id\":\"1197\"}},\"id\":\"1196\",\"type\":\"LinearAxis\"},{\"attributes\":{\"line_alpha\":0.1,\"line_color\":\"#ff7e0e\",\"line_width\":2,\"x\":{\"field\":\"x\"},\"y\":{\"field\":\"y\"}},\"id\":\"1235\",\"type\":\"Line\"},{\"attributes\":{\"axis\":{\"id\":\"1200\"},\"dimension\":1,\"ticker\":null},\"id\":\"1203\",\"type\":\"Grid\"},{\"attributes\":{},\"id\":\"1245\",\"type\":\"Selection\"},{\"attributes\":{},\"id\":\"1197\",\"type\":\"BasicTicker\"},{\"attributes\":{\"source\":{\"id\":\"1233\"}},\"id\":\"1237\",\"type\":\"CDSView\"},{\"attributes\":{\"axis\":{\"id\":\"1196\"},\"ticker\":null},\"id\":\"1199\",\"type\":\"Grid\"},{\"attributes\":{\"label\":{\"value\":\"ATP Use\"},\"renderers\":[{\"id\":\"1236\"}]},\"id\":\"1248\",\"type\":\"LegendItem\"},{\"attributes\":{\"data\":{\"x\":{\"__ndarray__\":\"AAAAAAAAAAD0kcwotrK2P/SRzCi2ssY/d22ZnggG0T/0kcwotrLWP3K2/7JjX9w/d22ZnggG4T+2/7JjX9zjP/SRzCi2suY/MyTm7QyJ6T9ytv+yY1/sP7BIGXi6Ne8/d22ZnggG8T+WNiYBNHHyP7b/smNf3PM/1sg/xopH9T/0kcwotrL2PxNbWYvhHfg/MyTm7QyJ+T9T7XJQOPT6P3K2/7JjX/w/kH+MFY/K/T+wSBl4ujX/P+gIU+1yUABAd22ZnggGAUAG0t9PnrsBQJY2JgE0cQJAJptssskmA0C2/7JjX9wDQEVk+RT1kQRA1sg/xopHBUBlLYZ3IP0FQPSRzCi2sgZAhPYS2ktoB0ATW1mL4R0IQKS/nzx30whAMyTm7QyJCUDCiCyfoj4KQFPtclA49ApA4lG5Ac6pC0Bytv+yY18MQAEbRmT5FA1AkH+MFY/KDUAh5NLGJIAOQLBIGXi6NQ9AQK1fKVDrD0DoCFPtclAQQDA79sU9qxBAd22ZnggGEUC/nzx302ARQAbS30+euxFATwSDKGkWEkCWNiYBNHESQN9oydn+yxJAJptssskmE0BuzQ+LlIETQLb/smNf3BNA/jFWPCo3FEBFZPkU9ZEUQI2WnO2/7BRA1sg/xopHFUAe++KeVaIVQGUthncg/RVArV8pUOtXFkD0kcwotrIWQD3EbwGBDRdAhPYS2ktoF0DMKLayFsMXQBNbWYvhHRhAXI38Y6x4GECkv588d9MYQOzxQhVCLhlAMyTm7QyJGUB7VonG1+MZQMKILJ+iPhpAC7vPd22ZGkBT7XJQOPQaQJsfFikDTxtA4lG5Ac6pG0AqhFzamAQcQHK2/7JjXxxAuuiiiy66HEABG0Zk+RQdQElN6TzEbx1AkH+MFY/KHUDasS/uWSUeQCHk0sYkgB5AaRZ2n+/aHkCwSBl4ujUfQPl6vFCFkB9AQK1fKVDrH0DEbwGBDSMgQOgIU+1yUCBADKKkWdh9IEAwO/bFPasgQFTURzKj2CBAd22ZnggGIUCcBusKbjMhQL+fPHfTYCFA4ziO4ziOIUA=\",\"dtype\":\"float64\",\"order\":\"little\",\"shape\":[100]},\"y\":{\"__ndarray__\":\"AAAAAGDjNkHLxXw5/t82QcvFfDn+3zZBy8V8Of7fNkHLxXw5/t82QcvFfDn+3zZBy8V8Of7fNkHLxXw5/t82QcvFfDn+3zZBysV8Of7fNkHKxXw5/t82QcrFfDn+3zZBysV8Of7fNkHKxXw5/t82QcrFfDn+3zZBysV8Of7fNkHKxXw5/t82QcrFfDn+3zZBysV8Of7fNkHKxXw5/t82QcrFfDn+3zZBysV8Of7fNkHJxXw5/t82QajFfDn+3zZB0MR8Of7fNkHhzHw5/t82QZ3KfDn+3zZBJt18Of7fNkHCwHw5/t82QVvFfDn+3zZBycV8Of7fNkHJxXw5/t82QcnFfDn+3zZBycV8Of7fNkHJxXw5/t82QcnFfDn+3zZBycV8Of7fNkHJxXw5/t82QcnFfDn+3zZBycV8Of7fNkHJxXw5/t82QcnFfDn+3zZBycV8Of7fNkHJxXw5/t82QcnFfDn+3zZBycV8Of7fNkHJxXw5/t82QcnFfDn+3zZBycV8Of7fNkHJxXw5/t82QcnFfDn+3zZBycV8Of7fNkHJxXw5/t82QcnFfDn+3zZBycV8Of7fNkHJxXw5/t82QcnFfDn+3zZBycV8Of7fNkHJxXw5/t82QcnFfDn+3zZBycV8Of7fNkHJxXw5/t82QcnFfDn+3zZBycV8Of7fNkHJxXw5/t82QcnFfDn+3zZBycV8Of7fNkHJxXw5/t82QcnFfDn+3zZBycV8Of7fNkHJxXw5/t82QcnFfDn+3zZBycV8Of7fNkHJxXw5/t82QcnFfDn+3zZBycV8Of7fNkHJxXw5/t82QcnFfDn+3zZBycV8Of7fNkHJxXw5/t82QcnFfDn+3zZBycV8Of7fNkHJxXw5/t82QcnFfDn+3zZBycV8Of7fNkHJxXw5/t82QcnFfDn+3zZBycV8Of7fNkHJxXw5/t82QcnFfDn+3zZBycV8Of7fNkHJxXw5/t82QcnFfDn+3zZBycV8Of7fNkHJxXw5/t82QcnFfDn+3zZBycV8Of7fNkHJxXw5/t82QcnFfDn+3zZBycV8Of7fNkE=\",\"dtype\":\"float64\",\"order\":\"little\",\"shape\":[100]}},\"selected\":{\"id\":\"1228\"},\"selection_policy\":{\"id\":\"1229\"}},\"id\":\"1218\",\"type\":\"ColumnDataSource\"},{\"attributes\":{},\"id\":\"1201\",\"type\":\"BasicTicker\"},{\"attributes\":{\"data_source\":{\"id\":\"1233\"},\"glyph\":{\"id\":\"1234\"},\"hover_glyph\":null,\"muted_glyph\":null,\"nonselection_glyph\":{\"id\":\"1235\"},\"selection_glyph\":null,\"view\":{\"id\":\"1237\"}},\"id\":\"1236\",\"type\":\"GlyphRenderer\"},{\"attributes\":{\"axis_label\":\"concentration (nM)\",\"formatter\":{\"id\":\"1226\"},\"ticker\":{\"id\":\"1201\"}},\"id\":\"1200\",\"type\":\"LinearAxis\"},{\"attributes\":{\"line_color\":\"#ff7e0e\",\"line_width\":2,\"x\":{\"field\":\"x\"},\"y\":{\"field\":\"y\"}},\"id\":\"1234\",\"type\":\"Line\"}],\"root_ids\":[\"1185\"]},\"title\":\"Bokeh Application\",\"version\":\"2.2.1\"}};\n",
       "  var render_items = [{\"docid\":\"8fc5a38c-8c6d-4476-b6a2-1eee367d949f\",\"root_ids\":[\"1185\"],\"roots\":{\"1185\":\"cde1bb18-0dd0-4c4f-bcd3-78cc7aa85d19\"}}];\n",
       "  root.Bokeh.embed.embed_items_notebook(docs_json, render_items);\n",
       "\n",
       "  }\n",
       "  if (root.Bokeh !== undefined) {\n",
       "    embed_document(root);\n",
       "  } else {\n",
       "    var attempts = 0;\n",
       "    var timer = setInterval(function(root) {\n",
       "      if (root.Bokeh !== undefined) {\n",
       "        clearInterval(timer);\n",
       "        embed_document(root);\n",
       "      } else {\n",
       "        attempts++;\n",
       "        if (attempts > 100) {\n",
       "          clearInterval(timer);\n",
       "          console.log(\"Bokeh: ERROR: Unable to run BokehJS code because BokehJS library is missing\");\n",
       "        }\n",
       "      }\n",
       "    }, 10, root)\n",
       "  }\n",
       "})(window);"
      ],
      "application/vnd.bokehjs_exec.v0+json": ""
     },
     "metadata": {
      "application/vnd.bokehjs_exec.v0+json": {
       "id": "1185"
      }
     },
     "output_type": "display_data"
    }
   ],
   "source": [
    "# PLOT WITH ATP SYNTHASE\n",
    "\n",
    "plt_timepoints = timepoints/60/60\n",
    "\n",
    "p_w_atp = bokeh.plotting.figure(width = 450, height = 350, title = 'with ATP Synthase',\n",
    "                          x_axis_label = 'time (hrs)',\n",
    "                          y_axis_label = 'concentration (nM)')\n",
    "plot_list = [ATP_id, outside_H_id, inside_H_id, atp_synthase_b_protein_id]\n",
    "plot_str = ['atp', 'outside_H', 'inside_H', 'bound atp synthase']\n",
    "# plot_list = [atp_synthase_b_protein_id, atp_synthase_f_protein_id]\n",
    "# plot_str = ['atp synthase bound', 'atp synthase free']\n",
    "for i,item in enumerate(plot_list):\n",
    "    p_w_atp.line(plt_timepoints, results1[item], line_width = 2, legend_label = plot_str[i], color = palette[i])\n",
    "    \n",
    "\n",
    "# PLOT WITHOUT ATP SYNTHASE\n",
    "p_no_atp = bokeh.plotting.figure(width = 450, height = 350, title = 'only ATP Use',\n",
    "                          x_axis_label = 'time (hrs)',\n",
    "                          y_axis_label = 'concentration (nM)')\n",
    "p_no_atp.line(plt_timepoints, results2[ATP_id2], line_width = 2, legend_label = 'atp', color = palette[0])\n",
    "\n",
    "p_compare = bokeh.plotting.figure(width = 450, height = 350, title = 'Compare ATP ',\n",
    "                          x_axis_label = 'time (hr)',\n",
    "                          y_axis_label = 'concentration (nM)')\n",
    "p_compare.line(plt_timepoints, results1[ATP_id], legend_label = 'ATP Synthase, ATP Use', line_width = 2, color = palette[0])\n",
    "p_compare.line(plt_timepoints, results2[ATP_id2], legend_label = 'ATP Use', line_width = 2, color = palette[1])\n",
    "\n",
    "\n",
    "p_w_atp.legend.location = 'bottom_right'\n",
    "p_w_atp.legend.click_policy = 'hide'\n",
    "    \n",
    "bokeh.io.show(row(p_w_atp, p_no_atp))\n",
    "bokeh.io.show(p_compare)\n",
    "\n",
    "# p_atp.line(plt_timepoints, results1[ATP_id], line_width = 2, color = palette[1], legend_label = 'with ATP Synthase, ATP Use')\n",
    "# p_atp.line(plt_timepoints, results2[ATP_id2],line_width = 2, color = palette[2],legend_label = 'ATP Use only')\n",
    "\n",
    "#bokeh.io.show(p_atp)\n"
   ]
  },
  {
   "cell_type": "markdown",
   "metadata": {},
   "source": [
    "Why does bound atp synthase shoot infinitely high:( got em, it's because you kept remaking the transcript silly"
   ]
  },
  {
   "cell_type": "markdown",
   "metadata": {},
   "source": [
    "## Combine all proton pump with txtl machinery\n",
    "---"
   ]
  },
  {
   "cell_type": "code",
   "execution_count": 9,
   "metadata": {},
   "outputs": [],
   "source": [
    "#ss5_pp_txtl = createSubsystem('proton_pump_tx_tl.xml', subsystemName = 'pp_txtl')\n",
    "ss5_pp_txtl = createSubsystem('proton_pump_machinery_txtl.xml', subsystemName = 'pp_txtl')\n",
    "ss6_pp_mi = createSubsystem('proton_pump_membrane_integration.xml', subsystemName = 'pp_mi')\n",
    "ss7_protontransport = createSubsystem('proton_transport_through_proton_pump.xml', subsystemName = 'protontransport')"
   ]
  },
  {
   "cell_type": "code",
   "execution_count": 10,
   "metadata": {},
   "outputs": [],
   "source": [
    "pp_subsystem = ss5_pp_txtl + ss6_pp_mi + ss7_protontransport"
   ]
  },
  {
   "cell_type": "code",
   "execution_count": 11,
   "metadata": {},
   "outputs": [
    {
     "name": "stderr",
     "output_type": "stream",
     "text": [
      "odeint failed with mxstep=500..."
     ]
    }
   ],
   "source": [
    "# Initial conditions\n",
    "\n",
    "spec_list_10 = ['dna_proton_pump', 'proton_outside_H', 'protein_RNAP_machinery', \n",
    "                'protein_Ribo_machinery', 'protein_RNAse_machinery']\n",
    "for i,spec in enumerate(spec_list_10):\n",
    "    pp_subsystem.setSpeciesAmount(spec,10)\n",
    "pp_subsystem.setSpeciesAmount('metabolite_atp',1500000)\n",
    "\n",
    "# timepoints and get results\n",
    "timepoints = np.linspace(0,31600,100)\n",
    "results, _ = pp_subsystem.simulateWithBioscrape(timepoints, sbml_warnings = False)\n",
    "\n",
    "# Get species IDs\n",
    "ATP_id = pp_subsystem.getSpeciesByName('metabolite_atp').getId()\n",
    "ADP_id = pp_subsystem.getSpeciesByName('metabolite_adp').getId()\n",
    "\n",
    "outside_H_id = pp_subsystem.getSpeciesByName('proton_outside_H').getId()\n",
    "inside_H_id = pp_subsystem.getSpeciesByName('proton_inside_H').getId()\n",
    "proton_pump_b_protein_id = pp_subsystem.getSpeciesByName('protein_proton_pump_b').getId()\n",
    "proton_pump_f_protein_id = pp_subsystem.getSpeciesByName('protein_proton_pump').getId()\n",
    "\n",
    "\n",
    "\n",
    "dna_pp = pp_subsystem.getSpeciesByName('dna_proton_pump').getId()"
   ]
  },
  {
   "cell_type": "code",
   "execution_count": 12,
   "metadata": {},
   "outputs": [
    {
     "data": {
      "text/html": [
       "\n",
       "\n",
       "\n",
       "\n",
       "\n",
       "\n",
       "  <div class=\"bk-root\" id=\"7514d0c3-780d-4bfe-8579-31c36a16c5d3\" data-root-id=\"1464\"></div>\n"
      ]
     },
     "metadata": {},
     "output_type": "display_data"
    },
    {
     "data": {
      "application/javascript": [
       "(function(root) {\n",
       "  function embed_document(root) {\n",
       "    \n",
       "  var docs_json = {\"5d40fd4b-d125-4628-91f7-c0d2f41a81d0\":{\"roots\":{\"references\":[{\"attributes\":{\"below\":[{\"id\":\"1475\"}],\"center\":[{\"id\":\"1478\"},{\"id\":\"1482\"},{\"id\":\"1510\"}],\"left\":[{\"id\":\"1479\"}],\"plot_height\":350,\"plot_width\":450,\"renderers\":[{\"id\":\"1500\"},{\"id\":\"1515\"},{\"id\":\"1531\"},{\"id\":\"1549\"}],\"title\":{\"id\":\"1465\"},\"toolbar\":{\"id\":\"1490\"},\"x_range\":{\"id\":\"1467\"},\"x_scale\":{\"id\":\"1471\"},\"y_range\":{\"id\":\"1469\"},\"y_scale\":{\"id\":\"1473\"}},\"id\":\"1464\",\"subtype\":\"Figure\",\"type\":\"Plot\"},{\"attributes\":{},\"id\":\"1467\",\"type\":\"DataRange1d\"},{\"attributes\":{\"data\":{\"x\":{\"__ndarray__\":\"AAAAAAAAAAD0kcwotrK2P/SRzCi2ssY/d22ZnggG0T/0kcwotrLWP3K2/7JjX9w/d22ZnggG4T+2/7JjX9zjP/SRzCi2suY/MyTm7QyJ6T9ytv+yY1/sP7BIGXi6Ne8/d22ZnggG8T+WNiYBNHHyP7b/smNf3PM/1sg/xopH9T/0kcwotrL2PxNbWYvhHfg/MyTm7QyJ+T9T7XJQOPT6P3K2/7JjX/w/kH+MFY/K/T+wSBl4ujX/P+gIU+1yUABAd22ZnggGAUAG0t9PnrsBQJY2JgE0cQJAJptssskmA0C2/7JjX9wDQEVk+RT1kQRA1sg/xopHBUBlLYZ3IP0FQPSRzCi2sgZAhPYS2ktoB0ATW1mL4R0IQKS/nzx30whAMyTm7QyJCUDCiCyfoj4KQFPtclA49ApA4lG5Ac6pC0Bytv+yY18MQAEbRmT5FA1AkH+MFY/KDUAh5NLGJIAOQLBIGXi6NQ9AQK1fKVDrD0DoCFPtclAQQDA79sU9qxBAd22ZnggGEUC/nzx302ARQAbS30+euxFATwSDKGkWEkCWNiYBNHESQN9oydn+yxJAJptssskmE0BuzQ+LlIETQLb/smNf3BNA/jFWPCo3FEBFZPkU9ZEUQI2WnO2/7BRA1sg/xopHFUAe++KeVaIVQGUthncg/RVArV8pUOtXFkD0kcwotrIWQD3EbwGBDRdAhPYS2ktoF0DMKLayFsMXQBNbWYvhHRhAXI38Y6x4GECkv588d9MYQOzxQhVCLhlAMyTm7QyJGUB7VonG1+MZQMKILJ+iPhpAC7vPd22ZGkBT7XJQOPQaQJsfFikDTxtA4lG5Ac6pG0AqhFzamAQcQHK2/7JjXxxAuuiiiy66HEABG0Zk+RQdQElN6TzEbx1AkH+MFY/KHUDasS/uWSUeQCHk0sYkgB5AaRZ2n+/aHkCwSBl4ujUfQPl6vFCFkB9AQK1fKVDrH0DEbwGBDSMgQOgIU+1yUCBADKKkWdh9IEAwO/bFPasgQFTURzKj2CBAd22ZnggGIUCcBusKbjMhQL+fPHfTYCFA4ziO4ziOIUA=\",\"dtype\":\"float64\",\"order\":\"little\",\"shape\":[100]},\"y\":{\"__ndarray__\":\"AAAAAAAAAAC8AkYJSg/zP3O0e/rkHgdAutwcgNTREUA/6R9bF4IXQOAZUpxfrRxABnwn3eivIEBCQXo9O9IiQGnEFlmqwiRAzviOZ8SFJkAbHTMirR8oQCRsS30nlClAsZ5Ffp7mKkAk2GpDLRosQHgDnU+mMS1AzsK6K5ovLkDcXvZsXRYvQFRJNC4O6C9AtHL4hExTMEB+HV/P3qkwQHGFxlWJ+DBAIPlp5QRAMUBiTmhr+YAxQKR0UH//uzFAjUqRyaHxMUA5gTpJXiIyQJoi83unTjJAH4z6auV2MkD2X3ufdpsyQNCEugCxvDJAmznRneLaMkCCBQxlUvYyQPPJpspADzNAhpMSYOglM0CXy5hdfjozQLR/fB8zTTNA5chwlzJeM0BfAeOzpG0zQErlx72tezNAZBjXrW6IM0Dt/wR6BZQzQLrQ3luNnjNAy92KEB+oM0B+3+YS0bAzQHVEOtC3uDNApdBW2OW/M0DZhBwJbMYzQNHZI7ZZzDNAlVm7zLzRM0B6Xp70odYzQN5ksq0U2zNAR20Fax/fM0DvSm2ry+IzQHY6wQ8i5jNAqZAbbyrpM0C2pljp6+szQCAExPds7jNAOG5TfLPwM0BtPXrPxPIzQKmCq8yl9DNAS7/b3Vr2M0BxT9EF6PczQNmuiulQ+TNAiCjQ2Jj6M0CoYwPWwvszQH5NLp3R/DNA28hsqsf9M0B55sM/p/4zQFiTbmpy/zNAvJ6xBysANEBobUDJ0gA0QA2eNTlrATRAFKisvfUBNEDyvguccwI0QB6OAvzlAjRAvnFB6k0DNEBXwe9arAM0QJQD5SsCBDRA81S7JlAENEBC3aUClwQ0QIOOHGbXBDRAERpi6BEFNEC8PegSRwU0QGzlk2J3BTRA5QTjSKMFNEBN0fYsywU0QFsFhWzvBTRASJGyXBAGNEBCp+FKLgY0QMRrY31JBjRAqswcNGIGNEDYrRypeAY0QFEpIxGNBjRAwKwhnJ8GNED8fqV1sAY0QI6oQ8W/BjRAlvHxrs0GNEDVQGVT2gY0QClYUdDlBjRA/HewQPAGNEA=\",\"dtype\":\"float64\",\"order\":\"little\",\"shape\":[100]}},\"selected\":{\"id\":\"1562\"},\"selection_policy\":{\"id\":\"1563\"}},\"id\":\"1546\",\"type\":\"ColumnDataSource\"},{\"attributes\":{\"line_color\":\"#9367bc\",\"line_width\":2,\"x\":{\"field\":\"x\"},\"y\":{\"field\":\"y\"}},\"id\":\"1547\",\"type\":\"Line\"},{\"attributes\":{},\"id\":\"1476\",\"type\":\"BasicTicker\"},{\"attributes\":{},\"id\":\"1562\",\"type\":\"Selection\"},{\"attributes\":{\"line_alpha\":0.1,\"line_color\":\"#2ba02b\",\"line_width\":2,\"x\":{\"field\":\"x\"},\"y\":{\"field\":\"y\"}},\"id\":\"1530\",\"type\":\"Line\"},{\"attributes\":{\"source\":{\"id\":\"1528\"}},\"id\":\"1532\",\"type\":\"CDSView\"},{\"attributes\":{\"data_source\":{\"id\":\"1528\"},\"glyph\":{\"id\":\"1529\"},\"hover_glyph\":null,\"muted_glyph\":null,\"nonselection_glyph\":{\"id\":\"1530\"},\"selection_glyph\":null,\"view\":{\"id\":\"1532\"}},\"id\":\"1531\",\"type\":\"GlyphRenderer\"},{\"attributes\":{\"line_color\":\"#ff7e0e\",\"line_width\":2,\"x\":{\"field\":\"x\"},\"y\":{\"field\":\"y\"}},\"id\":\"1513\",\"type\":\"Line\"},{\"attributes\":{},\"id\":\"1486\",\"type\":\"SaveTool\"},{\"attributes\":{\"data_source\":{\"id\":\"1512\"},\"glyph\":{\"id\":\"1513\"},\"hover_glyph\":null,\"muted_glyph\":null,\"nonselection_glyph\":{\"id\":\"1514\"},\"selection_glyph\":null,\"view\":{\"id\":\"1516\"}},\"id\":\"1515\",\"type\":\"GlyphRenderer\"},{\"attributes\":{\"line_alpha\":0.1,\"line_color\":\"#ff7e0e\",\"line_width\":2,\"x\":{\"field\":\"x\"},\"y\":{\"field\":\"y\"}},\"id\":\"1514\",\"type\":\"Line\"},{\"attributes\":{\"source\":{\"id\":\"1546\"}},\"id\":\"1550\",\"type\":\"CDSView\"},{\"attributes\":{\"data_source\":{\"id\":\"1546\"},\"glyph\":{\"id\":\"1547\"},\"hover_glyph\":null,\"muted_glyph\":null,\"nonselection_glyph\":{\"id\":\"1548\"},\"selection_glyph\":null,\"view\":{\"id\":\"1550\"}},\"id\":\"1549\",\"type\":\"GlyphRenderer\"},{\"attributes\":{},\"id\":\"1471\",\"type\":\"LinearScale\"},{\"attributes\":{\"line_alpha\":0.1,\"line_color\":\"#1f77b3\",\"line_width\":2,\"x\":{\"field\":\"x\"},\"y\":{\"field\":\"y\"}},\"id\":\"1499\",\"type\":\"Line\"},{\"attributes\":{\"source\":{\"id\":\"1512\"}},\"id\":\"1516\",\"type\":\"CDSView\"},{\"attributes\":{},\"id\":\"1488\",\"type\":\"HelpTool\"},{\"attributes\":{\"data_source\":{\"id\":\"1497\"},\"glyph\":{\"id\":\"1498\"},\"hover_glyph\":null,\"muted_glyph\":null,\"nonselection_glyph\":{\"id\":\"1499\"},\"selection_glyph\":null,\"view\":{\"id\":\"1501\"}},\"id\":\"1500\",\"type\":\"GlyphRenderer\"},{\"attributes\":{\"line_alpha\":0.1,\"line_color\":\"#9367bc\",\"line_width\":2,\"x\":{\"field\":\"x\"},\"y\":{\"field\":\"y\"}},\"id\":\"1548\",\"type\":\"Line\"},{\"attributes\":{},\"id\":\"1542\",\"type\":\"Selection\"},{\"attributes\":{\"bottom_units\":\"screen\",\"fill_alpha\":0.5,\"fill_color\":\"lightgrey\",\"left_units\":\"screen\",\"level\":\"overlay\",\"line_alpha\":1.0,\"line_color\":\"black\",\"line_dash\":[4,4],\"line_width\":2,\"right_units\":\"screen\",\"top_units\":\"screen\"},\"id\":\"1489\",\"type\":\"BoxAnnotation\"},{\"attributes\":{},\"id\":\"1473\",\"type\":\"LinearScale\"},{\"attributes\":{\"axis\":{\"id\":\"1479\"},\"dimension\":1,\"ticker\":null},\"id\":\"1482\",\"type\":\"Grid\"},{\"attributes\":{\"overlay\":{\"id\":\"1489\"}},\"id\":\"1485\",\"type\":\"BoxZoomTool\"},{\"attributes\":{},\"id\":\"1525\",\"type\":\"UnionRenderers\"},{\"attributes\":{\"label\":{\"value\":\"bound proton pump\"},\"renderers\":[{\"id\":\"1549\"}]},\"id\":\"1565\",\"type\":\"LegendItem\"},{\"attributes\":{},\"id\":\"1543\",\"type\":\"UnionRenderers\"},{\"attributes\":{\"axis\":{\"id\":\"1475\"},\"ticker\":null},\"id\":\"1478\",\"type\":\"Grid\"},{\"attributes\":{},\"id\":\"1563\",\"type\":\"UnionRenderers\"},{\"attributes\":{\"source\":{\"id\":\"1497\"}},\"id\":\"1501\",\"type\":\"CDSView\"},{\"attributes\":{\"axis_label\":\"time (hrs)\",\"formatter\":{\"id\":\"1503\"},\"ticker\":{\"id\":\"1476\"}},\"id\":\"1475\",\"type\":\"LinearAxis\"},{\"attributes\":{\"text\":\"with Proton Pump\"},\"id\":\"1465\",\"type\":\"Title\"},{\"attributes\":{},\"id\":\"1524\",\"type\":\"Selection\"},{\"attributes\":{\"line_color\":\"#1f77b3\",\"line_width\":2,\"x\":{\"field\":\"x\"},\"y\":{\"field\":\"y\"}},\"id\":\"1498\",\"type\":\"Line\"},{\"attributes\":{},\"id\":\"1487\",\"type\":\"ResetTool\"},{\"attributes\":{},\"id\":\"1505\",\"type\":\"BasicTickFormatter\"},{\"attributes\":{\"data\":{\"x\":{\"__ndarray__\":\"AAAAAAAAAAD0kcwotrK2P/SRzCi2ssY/d22ZnggG0T/0kcwotrLWP3K2/7JjX9w/d22ZnggG4T+2/7JjX9zjP/SRzCi2suY/MyTm7QyJ6T9ytv+yY1/sP7BIGXi6Ne8/d22ZnggG8T+WNiYBNHHyP7b/smNf3PM/1sg/xopH9T/0kcwotrL2PxNbWYvhHfg/MyTm7QyJ+T9T7XJQOPT6P3K2/7JjX/w/kH+MFY/K/T+wSBl4ujX/P+gIU+1yUABAd22ZnggGAUAG0t9PnrsBQJY2JgE0cQJAJptssskmA0C2/7JjX9wDQEVk+RT1kQRA1sg/xopHBUBlLYZ3IP0FQPSRzCi2sgZAhPYS2ktoB0ATW1mL4R0IQKS/nzx30whAMyTm7QyJCUDCiCyfoj4KQFPtclA49ApA4lG5Ac6pC0Bytv+yY18MQAEbRmT5FA1AkH+MFY/KDUAh5NLGJIAOQLBIGXi6NQ9AQK1fKVDrD0DoCFPtclAQQDA79sU9qxBAd22ZnggGEUC/nzx302ARQAbS30+euxFATwSDKGkWEkCWNiYBNHESQN9oydn+yxJAJptssskmE0BuzQ+LlIETQLb/smNf3BNA/jFWPCo3FEBFZPkU9ZEUQI2WnO2/7BRA1sg/xopHFUAe++KeVaIVQGUthncg/RVArV8pUOtXFkD0kcwotrIWQD3EbwGBDRdAhPYS2ktoF0DMKLayFsMXQBNbWYvhHRhAXI38Y6x4GECkv588d9MYQOzxQhVCLhlAMyTm7QyJGUB7VonG1+MZQMKILJ+iPhpAC7vPd22ZGkBT7XJQOPQaQJsfFikDTxtA4lG5Ac6pG0AqhFzamAQcQHK2/7JjXxxAuuiiiy66HEABG0Zk+RQdQElN6TzEbx1AkH+MFY/KHUDasS/uWSUeQCHk0sYkgB5AaRZ2n+/aHkCwSBl4ujUfQPl6vFCFkB9AQK1fKVDrH0DEbwGBDSMgQOgIU+1yUCBADKKkWdh9IEAwO/bFPasgQFTURzKj2CBAd22ZnggGIUCcBusKbjMhQL+fPHfTYCFA4ziO4ziOIUA=\",\"dtype\":\"float64\",\"order\":\"little\",\"shape\":[100]},\"y\":{\"__ndarray__\":\"AAAAAAAAAAAAAAAAAAAAAAAAAAAAAAAAAAAAAAAAAAAAAAAAAAAAAAAAAAAAAAAAAAAAAAAAAAAAAAAAAAAAAAAAAAAAAAAAAAAAAAAAAAAAAAAAAAAAAAAAAAAAAAAAAAAAAAAAAAAAAAAAAAAAAAAAAAAAAAAAAAAAAAAAAAAAAAAAAAAAAAAAAAAAAAAAAAAAAAAAAAAAAAAAAAAAAAAAAAAAAAAAAAAAAAAAAAAAAAAAAAAAAAAAAAAAAAAAAAAAAAAAAAAAAAAAAAAAAAAAAAAAAAAAAAAAAAAAAAAAAAAAAAAAAAAAAAAAAAAAAAAAAAAAAAAAAAAAAAAAAAAAAAAAAAAAAAAAAAAAAAAAAAAAAAAAAAAAAAAAAAAAAAAAAAAAAAAAAAAAAAAAAAAAAAAAAAAAAAAAAAAAAAAAAAAAAAAAAAAAAAAAAAAAAAAAAAAAAAAAAAAAAAAAAAAAAAAAAAAAAAAAAAAAAAAAAAAAAAAAAAAAAAAAAAAAAAAAAAAAAAAAAAAAAAAAAAAAAAAAAAAAAAAAAAAAAAAAAAAAAAAAAAAAAAAAAAAAAAAAAAAAAAAAAAAAAAAAAAAAAAAAAAAAAAAAAAAAAAAAAAAAAAAAAAAAAAAAAAAAAAAAAAAAAAAAAAAAAAAAAAAAAAAAAAAAAAAAAAAAAAAAAAAAAAAAAAAAAAAAAAAAAAAAAAAAAAAAAAAAAAAAAAAAAAAAAAAAAAAAAAAAAAAAAAAAAAAAAAAAAAAAAAAAAAAAAAAAAAAAAAAAAAAAAAAAAAAAAAAAAAAAAAAAAAAAAAAAAAAAAAAAAAAAAAAAAAAAAAAAAAAAAAAAAAAAAAAAAAAAAAAAAAAAAAAAAAAAAAAAAAAAAAAAAAAAAAAAAAAAAAAAAAAAAAAAAAAAAAAAAAAAAAAAAAAAAAAAAAAAAAAAAAAAAAAAAAAAAAAAAAAAAAAAAAAAAAAAAAAAAAAAAAAAAAAAAAAAAAAAAAAAAAAAAAAAAAAAAAAAAAAAAAAAAAAAAAAAAAAAAAAAAAAAAAAAAAAAAAAAAAAAAAA=\",\"dtype\":\"float64\",\"order\":\"little\",\"shape\":[100]}},\"selected\":{\"id\":\"1542\"},\"selection_policy\":{\"id\":\"1543\"}},\"id\":\"1528\",\"type\":\"ColumnDataSource\"},{\"attributes\":{\"label\":{\"value\":\"outside_H\"},\"renderers\":[{\"id\":\"1515\"}]},\"id\":\"1527\",\"type\":\"LegendItem\"},{\"attributes\":{},\"id\":\"1503\",\"type\":\"BasicTickFormatter\"},{\"attributes\":{},\"id\":\"1484\",\"type\":\"WheelZoomTool\"},{\"attributes\":{},\"id\":\"1480\",\"type\":\"BasicTicker\"},{\"attributes\":{},\"id\":\"1469\",\"type\":\"DataRange1d\"},{\"attributes\":{},\"id\":\"1507\",\"type\":\"Selection\"},{\"attributes\":{},\"id\":\"1483\",\"type\":\"PanTool\"},{\"attributes\":{},\"id\":\"1508\",\"type\":\"UnionRenderers\"},{\"attributes\":{\"active_drag\":\"auto\",\"active_inspect\":\"auto\",\"active_multi\":null,\"active_scroll\":\"auto\",\"active_tap\":\"auto\",\"tools\":[{\"id\":\"1483\"},{\"id\":\"1484\"},{\"id\":\"1485\"},{\"id\":\"1486\"},{\"id\":\"1487\"},{\"id\":\"1488\"}]},\"id\":\"1490\",\"type\":\"Toolbar\"},{\"attributes\":{\"line_color\":\"#2ba02b\",\"line_width\":2,\"x\":{\"field\":\"x\"},\"y\":{\"field\":\"y\"}},\"id\":\"1529\",\"type\":\"Line\"},{\"attributes\":{\"axis_label\":\"concentration (nM)\",\"formatter\":{\"id\":\"1505\"},\"ticker\":{\"id\":\"1480\"}},\"id\":\"1479\",\"type\":\"LinearAxis\"},{\"attributes\":{\"data\":{\"x\":{\"__ndarray__\":\"AAAAAAAAAAD0kcwotrK2P/SRzCi2ssY/d22ZnggG0T/0kcwotrLWP3K2/7JjX9w/d22ZnggG4T+2/7JjX9zjP/SRzCi2suY/MyTm7QyJ6T9ytv+yY1/sP7BIGXi6Ne8/d22ZnggG8T+WNiYBNHHyP7b/smNf3PM/1sg/xopH9T/0kcwotrL2PxNbWYvhHfg/MyTm7QyJ+T9T7XJQOPT6P3K2/7JjX/w/kH+MFY/K/T+wSBl4ujX/P+gIU+1yUABAd22ZnggGAUAG0t9PnrsBQJY2JgE0cQJAJptssskmA0C2/7JjX9wDQEVk+RT1kQRA1sg/xopHBUBlLYZ3IP0FQPSRzCi2sgZAhPYS2ktoB0ATW1mL4R0IQKS/nzx30whAMyTm7QyJCUDCiCyfoj4KQFPtclA49ApA4lG5Ac6pC0Bytv+yY18MQAEbRmT5FA1AkH+MFY/KDUAh5NLGJIAOQLBIGXi6NQ9AQK1fKVDrD0DoCFPtclAQQDA79sU9qxBAd22ZnggGEUC/nzx302ARQAbS30+euxFATwSDKGkWEkCWNiYBNHESQN9oydn+yxJAJptssskmE0BuzQ+LlIETQLb/smNf3BNA/jFWPCo3FEBFZPkU9ZEUQI2WnO2/7BRA1sg/xopHFUAe++KeVaIVQGUthncg/RVArV8pUOtXFkD0kcwotrIWQD3EbwGBDRdAhPYS2ktoF0DMKLayFsMXQBNbWYvhHRhAXI38Y6x4GECkv588d9MYQOzxQhVCLhlAMyTm7QyJGUB7VonG1+MZQMKILJ+iPhpAC7vPd22ZGkBT7XJQOPQaQJsfFikDTxtA4lG5Ac6pG0AqhFzamAQcQHK2/7JjXxxAuuiiiy66HEABG0Zk+RQdQElN6TzEbx1AkH+MFY/KHUDasS/uWSUeQCHk0sYkgB5AaRZ2n+/aHkCwSBl4ujUfQPl6vFCFkB9AQK1fKVDrH0DEbwGBDSMgQOgIU+1yUCBADKKkWdh9IEAwO/bFPasgQFTURzKj2CBAd22ZnggGIUCcBusKbjMhQL+fPHfTYCFA4ziO4ziOIUA=\",\"dtype\":\"float64\",\"order\":\"little\",\"shape\":[100]},\"y\":{\"__ndarray__\":\"AAAAAAAAJEAAAAAAAAAkQAAAAAAAACRAAAAAAAAAJEAAAAAAAAAkQAAAAAAAACRAAAAAAAAAJEAAAAAAAAAkQAAAAAAAACRAAAAAAAAAJEAAAAAAAAAkQAAAAAAAACRAAAAAAAAAJEAAAAAAAAAkQAAAAAAAACRAAAAAAAAAJEAAAAAAAAAkQAAAAAAAACRAAAAAAAAAJEAAAAAAAAAkQAAAAAAAACRAAAAAAAAAJEAAAAAAAAAkQAAAAAAAACRAAAAAAAAAJEAAAAAAAAAkQAAAAAAAACRAAAAAAAAAJEAAAAAAAAAkQAAAAAAAACRAAAAAAAAAJEAAAAAAAAAkQAAAAAAAACRAAAAAAAAAJEAAAAAAAAAkQAAAAAAAACRAAAAAAAAAJEAAAAAAAAAkQAAAAAAAACRAAAAAAAAAJEAAAAAAAAAkQAAAAAAAACRAAAAAAAAAJEAAAAAAAAAkQAAAAAAAACRAAAAAAAAAJEAAAAAAAAAkQAAAAAAAACRAAAAAAAAAJEAAAAAAAAAkQAAAAAAAACRAAAAAAAAAJEAAAAAAAAAkQAAAAAAAACRAAAAAAAAAJEAAAAAAAAAkQAAAAAAAACRAAAAAAAAAJEAAAAAAAAAkQAAAAAAAACRAAAAAAAAAJEAAAAAAAAAkQAAAAAAAACRAAAAAAAAAJEAAAAAAAAAkQAAAAAAAACRAAAAAAAAAJEAAAAAAAAAkQAAAAAAAACRAAAAAAAAAJEAAAAAAAAAkQAAAAAAAACRAAAAAAAAAJEAAAAAAAAAkQAAAAAAAACRAAAAAAAAAJEAAAAAAAAAkQAAAAAAAACRAAAAAAAAAJEAAAAAAAAAkQAAAAAAAACRAAAAAAAAAJEAAAAAAAAAkQAAAAAAAACRAAAAAAAAAJEAAAAAAAAAkQAAAAAAAACRAAAAAAAAAJEAAAAAAAAAkQAAAAAAAACRAAAAAAAAAJEAAAAAAAAAkQAAAAAAAACRAAAAAAAAAJEAAAAAAAAAkQAAAAAAAACRAAAAAAAAAJEAAAAAAAAAkQAAAAAAAACRAAAAAAAAAJEA=\",\"dtype\":\"float64\",\"order\":\"little\",\"shape\":[100]}},\"selected\":{\"id\":\"1524\"},\"selection_policy\":{\"id\":\"1525\"}},\"id\":\"1512\",\"type\":\"ColumnDataSource\"},{\"attributes\":{\"label\":{\"value\":\"atp\"},\"renderers\":[{\"id\":\"1500\"}]},\"id\":\"1511\",\"type\":\"LegendItem\"},{\"attributes\":{\"label\":{\"value\":\"inside_H\"},\"renderers\":[{\"id\":\"1531\"}]},\"id\":\"1545\",\"type\":\"LegendItem\"},{\"attributes\":{\"data\":{\"x\":{\"__ndarray__\":\"AAAAAAAAAAD0kcwotrK2P/SRzCi2ssY/d22ZnggG0T/0kcwotrLWP3K2/7JjX9w/d22ZnggG4T+2/7JjX9zjP/SRzCi2suY/MyTm7QyJ6T9ytv+yY1/sP7BIGXi6Ne8/d22ZnggG8T+WNiYBNHHyP7b/smNf3PM/1sg/xopH9T/0kcwotrL2PxNbWYvhHfg/MyTm7QyJ+T9T7XJQOPT6P3K2/7JjX/w/kH+MFY/K/T+wSBl4ujX/P+gIU+1yUABAd22ZnggGAUAG0t9PnrsBQJY2JgE0cQJAJptssskmA0C2/7JjX9wDQEVk+RT1kQRA1sg/xopHBUBlLYZ3IP0FQPSRzCi2sgZAhPYS2ktoB0ATW1mL4R0IQKS/nzx30whAMyTm7QyJCUDCiCyfoj4KQFPtclA49ApA4lG5Ac6pC0Bytv+yY18MQAEbRmT5FA1AkH+MFY/KDUAh5NLGJIAOQLBIGXi6NQ9AQK1fKVDrD0DoCFPtclAQQDA79sU9qxBAd22ZnggGEUC/nzx302ARQAbS30+euxFATwSDKGkWEkCWNiYBNHESQN9oydn+yxJAJptssskmE0BuzQ+LlIETQLb/smNf3BNA/jFWPCo3FEBFZPkU9ZEUQI2WnO2/7BRA1sg/xopHFUAe++KeVaIVQGUthncg/RVArV8pUOtXFkD0kcwotrIWQD3EbwGBDRdAhPYS2ktoF0DMKLayFsMXQBNbWYvhHRhAXI38Y6x4GECkv588d9MYQOzxQhVCLhlAMyTm7QyJGUB7VonG1+MZQMKILJ+iPhpAC7vPd22ZGkBT7XJQOPQaQJsfFikDTxtA4lG5Ac6pG0AqhFzamAQcQHK2/7JjXxxAuuiiiy66HEABG0Zk+RQdQElN6TzEbx1AkH+MFY/KHUDasS/uWSUeQCHk0sYkgB5AaRZ2n+/aHkCwSBl4ujUfQPl6vFCFkB9AQK1fKVDrH0DEbwGBDSMgQOgIU+1yUCBADKKkWdh9IEAwO/bFPasgQFTURzKj2CBAd22ZnggGIUCcBusKbjMhQL+fPHfTYCFA4ziO4ziOIUA=\",\"dtype\":\"float64\",\"order\":\"little\",\"shape\":[100]},\"y\":{\"__ndarray__\":\"AAAAAGDjNkGAdSXX5c+jPK2CvWrsGxE7zOC+n8cpGDpc8YUcF2/+uSxufvErFt85XLBRR8nJ7Lm6h6T5O3tZut2O1I028w46/FBNWF/ZkTmI/o8Apr0RuujKHI/SHAE6gAUtnjA0hDpCuRNb9ut4unz0SF+2P0U6g2wSjzQkULphwheHLEpautj7qqb7ovE5kbSbk8UK2rnyXLzMGReROdooO2ORkWa5BTCCPtHePrlA/rwIIaTuuJrHkJcZhyC5/Fpm/gRgArmwZY7CNwtFOeQ9XZCNI1852nOzzZzLMLnQNYac4ppgObTGlLjRzG05GIuVRzc0jblgFtOoyIGeOXCphkbiDdw53/TdeYFYQjqK6pOTOZv5OaLFTnA6Mss5ujqOwBtG7jm+k+/bHMHQucGOamyX8Zo5SJZV/1Cbn7kcPDVf286ZOQjPpG0j6n65aBMaS6+4pTlYLzGg8M/QOSx5WfseZce5h1Oz82xHArqmpYMnZNrwOaqqCuUvssC5R/xT+WUUrDnOAphW7GaRub8YUDRtSYI5lAsUjIEptDng/8jhk06hudh8z/WpZdm50N0PY6ZI6jlTZE6lJG/1Od6+/Sb8xCC6NNdnOd4iIToI4uJrnchMOkJqZ8t7x3267Z3l9vKkcTqeg91lL/tgukYDneXwFxM6T51c7YiqALqry3I5aDHouSGP1+PXggU6gJL1RHYD8rlsJSBfYJunOSygeYn7W5O5dr81ugAiy7k0YzjMVU3PuURnu00yvpW5pHk8bXFqrDmQIxU/Xo61Od5OG3NV68K58K8fol8wszn4rNeXArrDOd5wb4/QzwM6hhXY547q/LliKUDpmYDoObBRM5raEqG5rtMLed7Fu7lQcRZaUqyhOe0kzGhFpGQ52OsW8IltZ7kATj62BNY6ua6frf47M2Q5p35QkXvejDmSqUmb/WaXOUSjpqK9jJm56BItCTHpqzk0uNr7XdK5uXDrb0dJJ5c5hBzu/wtqxjkwSR34J8DMuaiWlPvwjwk6qGwVsv3aAbp8LOtInwYtuqCOJ6hqASG6+pYF2W4SP7o=\",\"dtype\":\"float64\",\"order\":\"little\",\"shape\":[100]}},\"selected\":{\"id\":\"1507\"},\"selection_policy\":{\"id\":\"1508\"}},\"id\":\"1497\",\"type\":\"ColumnDataSource\"},{\"attributes\":{\"click_policy\":\"hide\",\"items\":[{\"id\":\"1511\"},{\"id\":\"1527\"},{\"id\":\"1545\"},{\"id\":\"1565\"}],\"location\":\"bottom_right\"},\"id\":\"1510\",\"type\":\"Legend\"}],\"root_ids\":[\"1464\"]},\"title\":\"Bokeh Application\",\"version\":\"2.2.1\"}};\n",
       "  var render_items = [{\"docid\":\"5d40fd4b-d125-4628-91f7-c0d2f41a81d0\",\"root_ids\":[\"1464\"],\"roots\":{\"1464\":\"7514d0c3-780d-4bfe-8579-31c36a16c5d3\"}}];\n",
       "  root.Bokeh.embed.embed_items_notebook(docs_json, render_items);\n",
       "\n",
       "  }\n",
       "  if (root.Bokeh !== undefined) {\n",
       "    embed_document(root);\n",
       "  } else {\n",
       "    var attempts = 0;\n",
       "    var timer = setInterval(function(root) {\n",
       "      if (root.Bokeh !== undefined) {\n",
       "        clearInterval(timer);\n",
       "        embed_document(root);\n",
       "      } else {\n",
       "        attempts++;\n",
       "        if (attempts > 100) {\n",
       "          clearInterval(timer);\n",
       "          console.log(\"Bokeh: ERROR: Unable to run BokehJS code because BokehJS library is missing\");\n",
       "        }\n",
       "      }\n",
       "    }, 10, root)\n",
       "  }\n",
       "})(window);"
      ],
      "application/vnd.bokehjs_exec.v0+json": ""
     },
     "metadata": {
      "application/vnd.bokehjs_exec.v0+json": {
       "id": "1464"
      }
     },
     "output_type": "display_data"
    }
   ],
   "source": [
    "plt_timepoints = timepoints/60/60\n",
    "\n",
    "p_pp = bokeh.plotting.figure(width = 450, height = 350, title = 'with Proton Pump',\n",
    "                            x_axis_label = 'time (hrs)',\n",
    "                            y_axis_label = 'concentration (nM)')\n",
    "plot_list = [ATP_id, outside_H_id, inside_H_id, proton_pump_b_protein_id]\n",
    "plot_str = ['atp', 'outside_H', 'inside_H', 'bound proton pump']\n",
    "for i,item in enumerate(plot_list):\n",
    "    p_pp.line(plt_timepoints, results[item], line_width = 2, legend_label = plot_str[i], color = palette[i])\n",
    "    \n",
    "p_pp.legend.click_policy = 'hide'\n",
    "p_pp.legend.location = 'bottom_right'\n",
    "bokeh.io.show(p_pp)"
   ]
  },
  {
   "cell_type": "markdown",
   "metadata": {},
   "source": [
    "## Combine atp synthase and proton pump subsystems (with machinery txtl)\n",
    "---"
   ]
  },
  {
   "cell_type": "code",
   "execution_count": 13,
   "metadata": {},
   "outputs": [],
   "source": [
    "entire_subsystem = ss1_atpsyn_txtl + ss2_atpsyn_mi + ss3_atpsynthesis + ss4_atp_use + ss5_pp_txtl + ss6_pp_mi + ss7_protontransport"
   ]
  },
  {
   "cell_type": "code",
   "execution_count": 14,
   "metadata": {},
   "outputs": [],
   "source": [
    "# Initial conditions\n",
    "spec_list_10 = ['dna_proton_pump', 'dna_atpsyn','proton_outside_H','protein_RNAP_machinery', \n",
    "                'protein_Ribo_machinery', 'protein_RNAse_machinery']\n",
    "for i,spec in enumerate(spec_list_10):\n",
    "    entire_subsystem.setSpeciesAmount(spec,10)\n",
    "entire_subsystem.setSpeciesAmount('metabolite_atp',1500000)\n",
    "\n",
    "# timepoints and get results\n",
    "# timepoints = np.linspace(0,10,100)\n",
    "# results, _ = entire_subsystem.simulateWithBioscrape(timepoints, sbml_warnings = False)\n",
    "\n",
    "# Get species IDs\n",
    "ATP_id3 = entire_subsystem.getSpeciesByName('metabolite_atp').getId()\n",
    "ADP_id = entire_subsystem.getSpeciesByName('metabolite_adp').getId()\n",
    "\n",
    "outside_H_id = entire_subsystem.getSpeciesByName('proton_outside_H').getId()\n",
    "inside_H_id = entire_subsystem.getSpeciesByName('proton_inside_H').getId()\n",
    "\n",
    "proton_pump_b_protein_id = entire_subsystem.getSpeciesByName('protein_proton_pump_b').getId()\n",
    "proton_pump_f_protein_id = entire_subsystem.getSpeciesByName('protein_proton_pump').getId()\n",
    "\n",
    "atp_synthase_b_protein_id = entire_subsystem.getSpeciesByName('protein_atpsyn_b').getId()\n",
    "atp_synthase_f_protein_id = entire_subsystem.getSpeciesByName('protein_atpsyn').getId()\n"
   ]
  },
  {
   "cell_type": "code",
   "execution_count": 15,
   "metadata": {},
   "outputs": [
    {
     "name": "stderr",
     "output_type": "stream",
     "text": [
      "odeint failed with mxstep=500..."
     ]
    }
   ],
   "source": [
    "timepoints = np.linspace(0,31600,100)\n",
    "results_everything, _ = entire_subsystem.simulateWithBioscrape(timepoints, sbml_warnings = False)"
   ]
  },
  {
   "cell_type": "code",
   "execution_count": 16,
   "metadata": {},
   "outputs": [],
   "source": [
    "from bokeh.models.annotations import Title\n",
    "\n"
   ]
  },
  {
   "cell_type": "code",
   "execution_count": 17,
   "metadata": {},
   "outputs": [
    {
     "data": {
      "text/html": [
       "\n",
       "\n",
       "\n",
       "\n",
       "\n",
       "\n",
       "  <div class=\"bk-root\" id=\"682f2f34-1334-401f-92fe-9879814194eb\" data-root-id=\"1682\"></div>\n"
      ]
     },
     "metadata": {},
     "output_type": "display_data"
    },
    {
     "data": {
      "application/javascript": [
       "(function(root) {\n",
       "  function embed_document(root) {\n",
       "    \n",
       "  var docs_json = {\"d31ff6b7-0f1a-42b9-9374-e4ed8115b9ef\":{\"roots\":{\"references\":[{\"attributes\":{\"below\":[{\"id\":\"1693\"}],\"center\":[{\"id\":\"1696\"},{\"id\":\"1700\"},{\"id\":\"1728\"}],\"left\":[{\"id\":\"1697\"}],\"plot_height\":350,\"plot_width\":450,\"renderers\":[{\"id\":\"1718\"},{\"id\":\"1733\"},{\"id\":\"1749\"},{\"id\":\"1767\"},{\"id\":\"1787\"}],\"title\":{\"id\":\"1683\"},\"toolbar\":{\"id\":\"1708\"},\"x_range\":{\"id\":\"1685\"},\"x_scale\":{\"id\":\"1689\"},\"y_range\":{\"id\":\"1687\"},\"y_scale\":{\"id\":\"1691\"}},\"id\":\"1682\",\"subtype\":\"Figure\",\"type\":\"Plot\"},{\"attributes\":{\"label\":{\"value\":\"atp\"},\"renderers\":[{\"id\":\"1718\"}]},\"id\":\"1729\",\"type\":\"LegendItem\"},{\"attributes\":{\"line_alpha\":0.1,\"line_color\":\"#ff7e0e\",\"line_width\":2,\"x\":{\"field\":\"x\"},\"y\":{\"field\":\"y\"}},\"id\":\"1732\",\"type\":\"Line\"},{\"attributes\":{\"source\":{\"id\":\"1764\"}},\"id\":\"1768\",\"type\":\"CDSView\"},{\"attributes\":{},\"id\":\"1742\",\"type\":\"Selection\"},{\"attributes\":{\"data_source\":{\"id\":\"1764\"},\"glyph\":{\"id\":\"1765\"},\"hover_glyph\":null,\"muted_glyph\":null,\"nonselection_glyph\":{\"id\":\"1766\"},\"selection_glyph\":null,\"view\":{\"id\":\"1768\"}},\"id\":\"1767\",\"type\":\"GlyphRenderer\"},{\"attributes\":{\"axis\":{\"id\":\"1693\"},\"ticker\":null},\"id\":\"1696\",\"type\":\"Grid\"},{\"attributes\":{\"axis\":{\"id\":\"1697\"},\"dimension\":1,\"ticker\":null},\"id\":\"1700\",\"type\":\"Grid\"},{\"attributes\":{\"source\":{\"id\":\"1730\"}},\"id\":\"1734\",\"type\":\"CDSView\"},{\"attributes\":{\"line_alpha\":0.1,\"line_color\":\"#9367bc\",\"line_width\":2,\"x\":{\"field\":\"x\"},\"y\":{\"field\":\"y\"}},\"id\":\"1766\",\"type\":\"Line\"},{\"attributes\":{\"label\":{\"value\":\"outside_H\"},\"renderers\":[{\"id\":\"1733\"}]},\"id\":\"1745\",\"type\":\"LegendItem\"},{\"attributes\":{},\"id\":\"1698\",\"type\":\"BasicTicker\"},{\"attributes\":{\"axis_label\":\"concentration (nM)\",\"formatter\":{\"id\":\"1723\"},\"ticker\":{\"id\":\"1698\"}},\"id\":\"1697\",\"type\":\"LinearAxis\"},{\"attributes\":{\"label\":{\"value\":\"bound atp synthase\"},\"renderers\":[{\"id\":\"1767\"}]},\"id\":\"1783\",\"type\":\"LegendItem\"},{\"attributes\":{},\"id\":\"1743\",\"type\":\"UnionRenderers\"},{\"attributes\":{\"data_source\":{\"id\":\"1730\"},\"glyph\":{\"id\":\"1731\"},\"hover_glyph\":null,\"muted_glyph\":null,\"nonselection_glyph\":{\"id\":\"1732\"},\"selection_glyph\":null,\"view\":{\"id\":\"1734\"}},\"id\":\"1733\",\"type\":\"GlyphRenderer\"},{\"attributes\":{\"data\":{\"x\":{\"__ndarray__\":\"AAAAAAAAAAD0kcwotrK2P/SRzCi2ssY/d22ZnggG0T/0kcwotrLWP3K2/7JjX9w/d22ZnggG4T+2/7JjX9zjP/SRzCi2suY/MyTm7QyJ6T9ytv+yY1/sP7BIGXi6Ne8/d22ZnggG8T+WNiYBNHHyP7b/smNf3PM/1sg/xopH9T/0kcwotrL2PxNbWYvhHfg/MyTm7QyJ+T9T7XJQOPT6P3K2/7JjX/w/kH+MFY/K/T+wSBl4ujX/P+gIU+1yUABAd22ZnggGAUAG0t9PnrsBQJY2JgE0cQJAJptssskmA0C2/7JjX9wDQEVk+RT1kQRA1sg/xopHBUBlLYZ3IP0FQPSRzCi2sgZAhPYS2ktoB0ATW1mL4R0IQKS/nzx30whAMyTm7QyJCUDCiCyfoj4KQFPtclA49ApA4lG5Ac6pC0Bytv+yY18MQAEbRmT5FA1AkH+MFY/KDUAh5NLGJIAOQLBIGXi6NQ9AQK1fKVDrD0DoCFPtclAQQDA79sU9qxBAd22ZnggGEUC/nzx302ARQAbS30+euxFATwSDKGkWEkCWNiYBNHESQN9oydn+yxJAJptssskmE0BuzQ+LlIETQLb/smNf3BNA/jFWPCo3FEBFZPkU9ZEUQI2WnO2/7BRA1sg/xopHFUAe++KeVaIVQGUthncg/RVArV8pUOtXFkD0kcwotrIWQD3EbwGBDRdAhPYS2ktoF0DMKLayFsMXQBNbWYvhHRhAXI38Y6x4GECkv588d9MYQOzxQhVCLhlAMyTm7QyJGUB7VonG1+MZQMKILJ+iPhpAC7vPd22ZGkBT7XJQOPQaQJsfFikDTxtA4lG5Ac6pG0AqhFzamAQcQHK2/7JjXxxAuuiiiy66HEABG0Zk+RQdQElN6TzEbx1AkH+MFY/KHUDasS/uWSUeQCHk0sYkgB5AaRZ2n+/aHkCwSBl4ujUfQPl6vFCFkB9AQK1fKVDrH0DEbwGBDSMgQOgIU+1yUCBADKKkWdh9IEAwO/bFPasgQFTURzKj2CBAd22ZnggGIUCcBusKbjMhQL+fPHfTYCFA4ziO4ziOIUA=\",\"dtype\":\"float64\",\"order\":\"little\",\"shape\":[100]},\"y\":{\"__ndarray__\":\"AAAAAAAAAADFLOWmNdMFQF46UMHunSRApikNhAE3NECKMzqkqG8+QPIM6DG5+UNArPsmJOJNSEA9T1kZ3jxMQKsJTPrlz09AQZ3Lq6+HUUC43L69dQFTQDxASam8WFRAsaep2qqQVUBEJnoaHaxWQNBDQEetrVdA8iqgcbiXWED5IqhpZGxZQM+VicqkLVpAy5tEkD/dWkDfmCRC0XxbQED317vQDVxA018RnpKRXEAZmrJuTAldQHOhAG8Xdl1AvWOlNPPYXUB7ybL6xzJeQM0o6chohF5AbxtIYpXOXkA/EHwG/BFfQHhw5gs7T19AePKRU+KGX0B4+Q+bdLlfQJ2ok69o519AYRuhQpUIYECGnkcajhtgQKK2YHDLLGBAuWSxxHU8YEADUT7ksUpgQPMLxD+hV2BAuGtEOmJjYEA0GmhwEG5gQPyKXfnEd2BAocTHoZaAYEAHI08hmohgQEYxVUvij2BAnuseO4CWYECBowx8g5xgQAjCHS76oWBA0swkJ/GmYEAxnt4QdKtgQFGQZ4SNr2BAcwMdI0ezYEB8OiutqbZgQB8oUBa9uWBAytRJmIi8YECgSvDDEr9gQKgGrZBhwWBAnFxlanrDYECAVkE+YsVgQJEyQYYdx2BA8jbAU7DIYEAeRv9YHspgQClE2fFqy2BAtFOjK5nMYEAvXVnMq81gQOv9IlmlzmBAuwQ9HIjPYEAdDl0qVtBgQKulkmcR0WBAKJK5i7vRYECDWIMmVtJgQCNiI6Pi0mBAcaagS2LTYEDFNeBL1tNgQJa6Y7Q/1GBAjT7LfJ/UYEAayBmG9tRgQA/HxZxF1WBAbm+aeo3VYEDOQ2zIztVgQO+4pB8K1mBAbwerC0DWYEBjVysLcdZgQAxjQJGd1mBAnGCCBsbWYECROvzJ6tZgQC6eCzIM12BAJk0rjSrXYEC0+KoiRtdgQDU5VzNf12BATRsS+nXXYEA0KV2sitdgQL3H1nqd12BAL+iska7XYEAPMQUZvtdgQInAWjXM12BAqaLTB9nXYEAF2Y6u5NdgQIJZ60Tv12BAAd3I4/jXYEA=\",\"dtype\":\"float64\",\"order\":\"little\",\"shape\":[100]}},\"selected\":{\"id\":\"1802\"},\"selection_policy\":{\"id\":\"1803\"}},\"id\":\"1784\",\"type\":\"ColumnDataSource\"},{\"attributes\":{\"line_color\":\"#ff7e0e\",\"line_width\":2,\"x\":{\"field\":\"x\"},\"y\":{\"field\":\"y\"}},\"id\":\"1731\",\"type\":\"Line\"},{\"attributes\":{\"data\":{\"x\":{\"__ndarray__\":\"AAAAAAAAAAD0kcwotrK2P/SRzCi2ssY/d22ZnggG0T/0kcwotrLWP3K2/7JjX9w/d22ZnggG4T+2/7JjX9zjP/SRzCi2suY/MyTm7QyJ6T9ytv+yY1/sP7BIGXi6Ne8/d22ZnggG8T+WNiYBNHHyP7b/smNf3PM/1sg/xopH9T/0kcwotrL2PxNbWYvhHfg/MyTm7QyJ+T9T7XJQOPT6P3K2/7JjX/w/kH+MFY/K/T+wSBl4ujX/P+gIU+1yUABAd22ZnggGAUAG0t9PnrsBQJY2JgE0cQJAJptssskmA0C2/7JjX9wDQEVk+RT1kQRA1sg/xopHBUBlLYZ3IP0FQPSRzCi2sgZAhPYS2ktoB0ATW1mL4R0IQKS/nzx30whAMyTm7QyJCUDCiCyfoj4KQFPtclA49ApA4lG5Ac6pC0Bytv+yY18MQAEbRmT5FA1AkH+MFY/KDUAh5NLGJIAOQLBIGXi6NQ9AQK1fKVDrD0DoCFPtclAQQDA79sU9qxBAd22ZnggGEUC/nzx302ARQAbS30+euxFATwSDKGkWEkCWNiYBNHESQN9oydn+yxJAJptssskmE0BuzQ+LlIETQLb/smNf3BNA/jFWPCo3FEBFZPkU9ZEUQI2WnO2/7BRA1sg/xopHFUAe++KeVaIVQGUthncg/RVArV8pUOtXFkD0kcwotrIWQD3EbwGBDRdAhPYS2ktoF0DMKLayFsMXQBNbWYvhHRhAXI38Y6x4GECkv588d9MYQOzxQhVCLhlAMyTm7QyJGUB7VonG1+MZQMKILJ+iPhpAC7vPd22ZGkBT7XJQOPQaQJsfFikDTxtA4lG5Ac6pG0AqhFzamAQcQHK2/7JjXxxAuuiiiy66HEABG0Zk+RQdQElN6TzEbx1AkH+MFY/KHUDasS/uWSUeQCHk0sYkgB5AaRZ2n+/aHkCwSBl4ujUfQPl6vFCFkB9AQK1fKVDrH0DEbwGBDSMgQOgIU+1yUCBADKKkWdh9IEAwO/bFPasgQFTURzKj2CBAd22ZnggGIUCcBusKbjMhQL+fPHfTYCFA4ziO4ziOIUA=\",\"dtype\":\"float64\",\"order\":\"little\",\"shape\":[100]},\"y\":{\"__ndarray__\":\"AAAAAAAAAACvJVPBLFwjQAhgtH6koCNAidGzMzaxI0DLDBPW1rQjQHqrUc8etSNArj2f7h+1I0AVdNfvH7UjQL3n1+8ftSNAAOjX7x+1I0AO6NfvH7UjQMXo1+8ftSNAJkbX7x+1I0AZEtfvH7UjQKYH1+8ftSNAqgfX7x+1I0CpB9fvH7UjQKkH1+8ftSNAqQfX7x+1I0CfB9fvH7UjQPYG1+8ftSNASfzW7x+1I0BABtfvH7UjQAgI1+8ftSNADgjX7x+1I0ANCNfvH7UjQLQG1+8ftSNAfQjX7x+1I0AcCNfvH7UjQAMI1+8ftSNACwjX7x+1I0ANCNfvH7UjQBEI1+8ftSNAIQjX7x+1I0CqCNfvH7UjQIEN1+8ftSNAQAXX7x+1I0CiAdfvH7UjQIIM1+8ftSNAOwjX7x+1I0DwB9fvH7UjQBMI1+8ftSNACgjX7x+1I0DoB9fvH7UjQNoH1+8ftSNAPwfX7x+1I0ClBdfvH7UjQNcG1+8ftSNAPxrX7x+1I0A1CNfvH7UjQAwI1+8ftSNAGgjX7x+1I0ANCNfvH7UjQA0I1+8ftSNADAjX7x+1I0AMCNfvH7UjQAwI1+8ftSNADAjX7x+1I0AMCNfvH7UjQAwI1+8ftSNADAjX7x+1I0AMCNfvH7UjQAwI1+8ftSNADAjX7x+1I0AMCNfvH7UjQAwI1+8ftSNADAjX7x+1I0AMCNfvH7UjQAwI1+8ftSNADAjX7x+1I0AMCNfvH7UjQAwI1+8ftSNADAjX7x+1I0AMCNfvH7UjQAwI1+8ftSNADQjX7x+1I0ALCNfvH7UjQAwI1+8ftSNAGAjX7x+1I0C0B9fvH7UjQIsJ1+8ftSNADwfX7x+1I0AsCNfvH7UjQA8I1+8ftSNADgjX7x+1I0ALCNfvH7UjQBAI1+8ftSNAIgjX7x+1I0CoB9fvH7UjQPgI1+8ftSNAFgbX7x+1I0BzC9fvH7UjQMIL1+8ftSNAaBHX7x+1I0CYCdfvH7UjQGXN1u8ftSNAs2vY7x+1I0ASONDvH7UjQCFKru8ftSNAIVnu7x+1I0A=\",\"dtype\":\"float64\",\"order\":\"little\",\"shape\":[100]}},\"selected\":{\"id\":\"1760\"},\"selection_policy\":{\"id\":\"1761\"}},\"id\":\"1746\",\"type\":\"ColumnDataSource\"},{\"attributes\":{\"line_color\":\"#8c564b\",\"line_width\":2,\"x\":{\"field\":\"x\"},\"y\":{\"field\":\"y\"}},\"id\":\"1785\",\"type\":\"Line\"},{\"attributes\":{\"line_color\":\"#2ba02b\",\"line_width\":2,\"x\":{\"field\":\"x\"},\"y\":{\"field\":\"y\"}},\"id\":\"1747\",\"type\":\"Line\"},{\"attributes\":{},\"id\":\"1726\",\"type\":\"UnionRenderers\"},{\"attributes\":{\"data\":{\"x\":{\"__ndarray__\":\"AAAAAAAAAAD0kcwotrK2P/SRzCi2ssY/d22ZnggG0T/0kcwotrLWP3K2/7JjX9w/d22ZnggG4T+2/7JjX9zjP/SRzCi2suY/MyTm7QyJ6T9ytv+yY1/sP7BIGXi6Ne8/d22ZnggG8T+WNiYBNHHyP7b/smNf3PM/1sg/xopH9T/0kcwotrL2PxNbWYvhHfg/MyTm7QyJ+T9T7XJQOPT6P3K2/7JjX/w/kH+MFY/K/T+wSBl4ujX/P+gIU+1yUABAd22ZnggGAUAG0t9PnrsBQJY2JgE0cQJAJptssskmA0C2/7JjX9wDQEVk+RT1kQRA1sg/xopHBUBlLYZ3IP0FQPSRzCi2sgZAhPYS2ktoB0ATW1mL4R0IQKS/nzx30whAMyTm7QyJCUDCiCyfoj4KQFPtclA49ApA4lG5Ac6pC0Bytv+yY18MQAEbRmT5FA1AkH+MFY/KDUAh5NLGJIAOQLBIGXi6NQ9AQK1fKVDrD0DoCFPtclAQQDA79sU9qxBAd22ZnggGEUC/nzx302ARQAbS30+euxFATwSDKGkWEkCWNiYBNHESQN9oydn+yxJAJptssskmE0BuzQ+LlIETQLb/smNf3BNA/jFWPCo3FEBFZPkU9ZEUQI2WnO2/7BRA1sg/xopHFUAe++KeVaIVQGUthncg/RVArV8pUOtXFkD0kcwotrIWQD3EbwGBDRdAhPYS2ktoF0DMKLayFsMXQBNbWYvhHRhAXI38Y6x4GECkv588d9MYQOzxQhVCLhlAMyTm7QyJGUB7VonG1+MZQMKILJ+iPhpAC7vPd22ZGkBT7XJQOPQaQJsfFikDTxtA4lG5Ac6pG0AqhFzamAQcQHK2/7JjXxxAuuiiiy66HEABG0Zk+RQdQElN6TzEbx1AkH+MFY/KHUDasS/uWSUeQCHk0sYkgB5AaRZ2n+/aHkCwSBl4ujUfQPl6vFCFkB9AQK1fKVDrH0DEbwGBDSMgQOgIU+1yUCBADKKkWdh9IEAwO/bFPasgQFTURzKj2CBAd22ZnggGIUCcBusKbjMhQL+fPHfTYCFA4ziO4ziOIUA=\",\"dtype\":\"float64\",\"order\":\"little\",\"shape\":[100]},\"y\":{\"__ndarray__\":\"AAAAAGDjNkHZxXw5/t82QdnFfDn+3zZB2cV8Of7fNkHZxXw5/t82QdnFfDn+3zZB2cV8Of7fNkHZxXw5/t82QdnFfDn+3zZB2cV8Of7fNkHZxXw5/t82QdnFfDn+3zZB2cV8Of7fNkHZxXw5/t82QdnFfDn+3zZB2cV8Of7fNkHZxXw5/t82QdnFfDn+3zZB2cV8Of7fNkHZxXw5/t82QdnFfDn+3zZB2cV8Of7fNkHZxXw5/t82QdnFfDn+3zZB2cV8Of7fNkHZxXw5/t82QdnFfDn+3zZB2cV8Of7fNkHZxXw5/t82QdnFfDn+3zZB2cV8Of7fNkHZxXw5/t82QdnFfDn+3zZB2cV8Of7fNkHZxXw5/t82QdnFfDn+3zZB2cV8Of7fNkHZxXw5/t82QdnFfDn+3zZB2cV8Of7fNkHZxXw5/t82QdnFfDn+3zZB2cV8Of7fNkHZxXw5/t82QdnFfDn+3zZB2cV8Of7fNkHZxXw5/t82QdnFfDn+3zZB2cV8Of7fNkHZxXw5/t82QdnFfDn+3zZB2cV8Of7fNkHZxXw5/t82QdnFfDn+3zZB2cV8Of7fNkHZxXw5/t82QdnFfDn+3zZB2cV8Of7fNkHZxXw5/t82QdnFfDn+3zZB2cV8Of7fNkHZxXw5/t82QdnFfDn+3zZB2cV8Of7fNkHZxXw5/t82QdnFfDn+3zZB2cV8Of7fNkHZxXw5/t82QdnFfDn+3zZB2cV8Of7fNkHZxXw5/t82QdnFfDn+3zZB2cV8Of7fNkHZxXw5/t82QdnFfDn+3zZB2cV8Of7fNkHZxXw5/t82QdnFfDn+3zZB2cV8Of7fNkHZxXw5/t82QdnFfDn+3zZB2cV8Of7fNkHZxXw5/t82QdnFfDn+3zZB2cV8Of7fNkHZxXw5/t82QdnFfDn+3zZB2cV8Of7fNkHZxXw5/t82QdnFfDn+3zZB2cV8Of7fNkHZxXw5/t82QdnFfDn+3zZB2cV8Of7fNkHZxXw5/t82QdnFfDn+3zZB2cV8Of7fNkHZxXw5/t82QdnFfDn+3zZB2cV8Of7fNkE=\",\"dtype\":\"float64\",\"order\":\"little\",\"shape\":[100]}},\"selected\":{\"id\":\"1725\"},\"selection_policy\":{\"id\":\"1726\"}},\"id\":\"1715\",\"type\":\"ColumnDataSource\"},{\"attributes\":{},\"id\":\"1760\",\"type\":\"Selection\"},{\"attributes\":{\"bottom_units\":\"screen\",\"fill_alpha\":0.5,\"fill_color\":\"lightgrey\",\"left_units\":\"screen\",\"level\":\"overlay\",\"line_alpha\":1.0,\"line_color\":\"black\",\"line_dash\":[4,4],\"line_width\":2,\"right_units\":\"screen\",\"top_units\":\"screen\"},\"id\":\"1707\",\"type\":\"BoxAnnotation\"},{\"attributes\":{\"active_drag\":\"auto\",\"active_inspect\":\"auto\",\"active_multi\":null,\"active_scroll\":\"auto\",\"active_tap\":\"auto\",\"tools\":[{\"id\":\"1701\"},{\"id\":\"1702\"},{\"id\":\"1703\"},{\"id\":\"1704\"},{\"id\":\"1705\"},{\"id\":\"1706\"}]},\"id\":\"1708\",\"type\":\"Toolbar\"},{\"attributes\":{},\"id\":\"1725\",\"type\":\"Selection\"},{\"attributes\":{},\"id\":\"1803\",\"type\":\"UnionRenderers\"},{\"attributes\":{\"line_color\":\"#1f77b3\",\"line_width\":2,\"x\":{\"field\":\"x\"},\"y\":{\"field\":\"y\"}},\"id\":\"1716\",\"type\":\"Line\"},{\"attributes\":{\"source\":{\"id\":\"1784\"}},\"id\":\"1788\",\"type\":\"CDSView\"},{\"attributes\":{},\"id\":\"1780\",\"type\":\"Selection\"},{\"attributes\":{\"source\":{\"id\":\"1746\"}},\"id\":\"1750\",\"type\":\"CDSView\"},{\"attributes\":{\"data_source\":{\"id\":\"1784\"},\"glyph\":{\"id\":\"1785\"},\"hover_glyph\":null,\"muted_glyph\":null,\"nonselection_glyph\":{\"id\":\"1786\"},\"selection_glyph\":null,\"view\":{\"id\":\"1788\"}},\"id\":\"1787\",\"type\":\"GlyphRenderer\"},{\"attributes\":{},\"id\":\"1701\",\"type\":\"PanTool\"},{\"attributes\":{\"text\":\"with ATP Synthase, Proton Pump, ATP Use\"},\"id\":\"1683\",\"type\":\"Title\"},{\"attributes\":{\"data_source\":{\"id\":\"1746\"},\"glyph\":{\"id\":\"1747\"},\"hover_glyph\":null,\"muted_glyph\":null,\"nonselection_glyph\":{\"id\":\"1748\"},\"selection_glyph\":null,\"view\":{\"id\":\"1750\"}},\"id\":\"1749\",\"type\":\"GlyphRenderer\"},{\"attributes\":{\"data\":{\"x\":{\"__ndarray__\":\"AAAAAAAAAAD0kcwotrK2P/SRzCi2ssY/d22ZnggG0T/0kcwotrLWP3K2/7JjX9w/d22ZnggG4T+2/7JjX9zjP/SRzCi2suY/MyTm7QyJ6T9ytv+yY1/sP7BIGXi6Ne8/d22ZnggG8T+WNiYBNHHyP7b/smNf3PM/1sg/xopH9T/0kcwotrL2PxNbWYvhHfg/MyTm7QyJ+T9T7XJQOPT6P3K2/7JjX/w/kH+MFY/K/T+wSBl4ujX/P+gIU+1yUABAd22ZnggGAUAG0t9PnrsBQJY2JgE0cQJAJptssskmA0C2/7JjX9wDQEVk+RT1kQRA1sg/xopHBUBlLYZ3IP0FQPSRzCi2sgZAhPYS2ktoB0ATW1mL4R0IQKS/nzx30whAMyTm7QyJCUDCiCyfoj4KQFPtclA49ApA4lG5Ac6pC0Bytv+yY18MQAEbRmT5FA1AkH+MFY/KDUAh5NLGJIAOQLBIGXi6NQ9AQK1fKVDrD0DoCFPtclAQQDA79sU9qxBAd22ZnggGEUC/nzx302ARQAbS30+euxFATwSDKGkWEkCWNiYBNHESQN9oydn+yxJAJptssskmE0BuzQ+LlIETQLb/smNf3BNA/jFWPCo3FEBFZPkU9ZEUQI2WnO2/7BRA1sg/xopHFUAe++KeVaIVQGUthncg/RVArV8pUOtXFkD0kcwotrIWQD3EbwGBDRdAhPYS2ktoF0DMKLayFsMXQBNbWYvhHRhAXI38Y6x4GECkv588d9MYQOzxQhVCLhlAMyTm7QyJGUB7VonG1+MZQMKILJ+iPhpAC7vPd22ZGkBT7XJQOPQaQJsfFikDTxtA4lG5Ac6pG0AqhFzamAQcQHK2/7JjXxxAuuiiiy66HEABG0Zk+RQdQElN6TzEbx1AkH+MFY/KHUDasS/uWSUeQCHk0sYkgB5AaRZ2n+/aHkCwSBl4ujUfQPl6vFCFkB9AQK1fKVDrH0DEbwGBDSMgQOgIU+1yUCBADKKkWdh9IEAwO/bFPasgQFTURzKj2CBAd22ZnggGIUCcBusKbjMhQL+fPHfTYCFA4ziO4ziOIUA=\",\"dtype\":\"float64\",\"order\":\"little\",\"shape\":[100]},\"y\":{\"__ndarray__\":\"AAAAAAAAJEChSpvVZ3rUPz3/51Lg1sc/pp4LE3Oywz+lzjx7SsrCP7AilStMuMI/tpUwWAS4wj+2+yIKBLjCP5oRBgoEuMI/9QAGCgS4wj+5/QUKBLjCP/3PBQoEuMI/gHcuCgS4wj+9ejsKBLjCP1sXPgoEuMI/rhU+CgS4wj/wFT4KBLjCP+0VPgoEuMI/6RU+CgS4wj87GD4KBLjCP89CPgoEuMI/Re5ACgS4wj8jcD4KBLjCP0f+PQoEuMI/ifw9CgS4wj+k/D0KBLjCPzNTPgoEuMI/HuE9CgS4wj95+T0KBLjCP67/PQoEuMI/hP09CgS4wj8h/T0KBLjCP/r7PQoEuMI/1vc9CgS4wj++1T0KBLjCPwqgPAoEuMI/Y7A+CgS4wj8qmD8KBLjCPxfgPAoEuMI/C/I9CgS4wj+pBD4KBLjCP/j7PQoEuMI/Qf49CgS4wj+4Bj4KBLjCPwMKPgoEuMI/gzA+CgS4wj85lz4KBLjCP41KPgoEuMI/T3A5CgS4wj8y8z0KBLjCP5b9PQoEuMI/+Pk9CgS4wj9o/T0KBLjCP1v9PQoEuMI/ef09CgS4wj9l/T0KBLjCP2f9PQoEuMI/aP09CgS4wj9n/T0KBLjCP2b9PQoEuMI/Z/09CgS4wj9m/T0KBLjCP2X9PQoEuMI/Z/09CgS4wj9m/T0KBLjCP2f9PQoEuMI/Z/09CgS4wj9m/T0KBLjCP2f9PQoEuMI/Zv09CgS4wj9n/T0KBLjCP2b9PQoEuMI/Z/09CgS4wj9o/T0KBLjCP1/9PQoEuMI/Zf09CgS4wj+r/T0KBLjCP4v9PQoEuMI/m/o9CgS4wj98Ez4KBLjCP8GdPQoEuMI/kDw+CgS4wj9b9T0KBLjCP4/8PQoEuMI/sPw9CgS4wj9P/T0KBLjCPyz8PQoEuMI/q/c9CgS4wj8RFj4KBLjCPy3CPQoEuMI/jXo+CgS4wj9yIz0KBLjCP8IPPQoEuMI//qU7CgS4wj/5mT0KBLjCP9imTAoEuMI/SRPlCQS4wj9h+/ELBLjCP6J3bRQEuMI/4LdpBAS4wj8=\",\"dtype\":\"float64\",\"order\":\"little\",\"shape\":[100]}},\"selected\":{\"id\":\"1742\"},\"selection_policy\":{\"id\":\"1743\"}},\"id\":\"1730\",\"type\":\"ColumnDataSource\"},{\"attributes\":{\"line_alpha\":0.1,\"line_color\":\"#8c564b\",\"line_width\":2,\"x\":{\"field\":\"x\"},\"y\":{\"field\":\"y\"}},\"id\":\"1786\",\"type\":\"Line\"},{\"attributes\":{},\"id\":\"1702\",\"type\":\"WheelZoomTool\"},{\"attributes\":{\"line_alpha\":0.1,\"line_color\":\"#2ba02b\",\"line_width\":2,\"x\":{\"field\":\"x\"},\"y\":{\"field\":\"y\"}},\"id\":\"1748\",\"type\":\"Line\"},{\"attributes\":{\"overlay\":{\"id\":\"1707\"}},\"id\":\"1703\",\"type\":\"BoxZoomTool\"},{\"attributes\":{},\"id\":\"1685\",\"type\":\"DataRange1d\"},{\"attributes\":{\"label\":{\"value\":\"inside_H\"},\"renderers\":[{\"id\":\"1749\"}]},\"id\":\"1763\",\"type\":\"LegendItem\"},{\"attributes\":{\"label\":{\"value\":\"bound proton pump\"},\"renderers\":[{\"id\":\"1787\"}]},\"id\":\"1805\",\"type\":\"LegendItem\"},{\"attributes\":{\"data_source\":{\"id\":\"1715\"},\"glyph\":{\"id\":\"1716\"},\"hover_glyph\":null,\"muted_glyph\":null,\"nonselection_glyph\":{\"id\":\"1717\"},\"selection_glyph\":null,\"view\":{\"id\":\"1719\"}},\"id\":\"1718\",\"type\":\"GlyphRenderer\"},{\"attributes\":{},\"id\":\"1704\",\"type\":\"SaveTool\"},{\"attributes\":{},\"id\":\"1802\",\"type\":\"Selection\"},{\"attributes\":{},\"id\":\"1761\",\"type\":\"UnionRenderers\"},{\"attributes\":{\"line_alpha\":0.1,\"line_color\":\"#1f77b3\",\"line_width\":2,\"x\":{\"field\":\"x\"},\"y\":{\"field\":\"y\"}},\"id\":\"1717\",\"type\":\"Line\"},{\"attributes\":{},\"id\":\"1705\",\"type\":\"ResetTool\"},{\"attributes\":{},\"id\":\"1687\",\"type\":\"DataRange1d\"},{\"attributes\":{\"data\":{\"x\":{\"__ndarray__\":\"AAAAAAAAAAD0kcwotrK2P/SRzCi2ssY/d22ZnggG0T/0kcwotrLWP3K2/7JjX9w/d22ZnggG4T+2/7JjX9zjP/SRzCi2suY/MyTm7QyJ6T9ytv+yY1/sP7BIGXi6Ne8/d22ZnggG8T+WNiYBNHHyP7b/smNf3PM/1sg/xopH9T/0kcwotrL2PxNbWYvhHfg/MyTm7QyJ+T9T7XJQOPT6P3K2/7JjX/w/kH+MFY/K/T+wSBl4ujX/P+gIU+1yUABAd22ZnggGAUAG0t9PnrsBQJY2JgE0cQJAJptssskmA0C2/7JjX9wDQEVk+RT1kQRA1sg/xopHBUBlLYZ3IP0FQPSRzCi2sgZAhPYS2ktoB0ATW1mL4R0IQKS/nzx30whAMyTm7QyJCUDCiCyfoj4KQFPtclA49ApA4lG5Ac6pC0Bytv+yY18MQAEbRmT5FA1AkH+MFY/KDUAh5NLGJIAOQLBIGXi6NQ9AQK1fKVDrD0DoCFPtclAQQDA79sU9qxBAd22ZnggGEUC/nzx302ARQAbS30+euxFATwSDKGkWEkCWNiYBNHESQN9oydn+yxJAJptssskmE0BuzQ+LlIETQLb/smNf3BNA/jFWPCo3FEBFZPkU9ZEUQI2WnO2/7BRA1sg/xopHFUAe++KeVaIVQGUthncg/RVArV8pUOtXFkD0kcwotrIWQD3EbwGBDRdAhPYS2ktoF0DMKLayFsMXQBNbWYvhHRhAXI38Y6x4GECkv588d9MYQOzxQhVCLhlAMyTm7QyJGUB7VonG1+MZQMKILJ+iPhpAC7vPd22ZGkBT7XJQOPQaQJsfFikDTxtA4lG5Ac6pG0AqhFzamAQcQHK2/7JjXxxAuuiiiy66HEABG0Zk+RQdQElN6TzEbx1AkH+MFY/KHUDasS/uWSUeQCHk0sYkgB5AaRZ2n+/aHkCwSBl4ujUfQPl6vFCFkB9AQK1fKVDrH0DEbwGBDSMgQOgIU+1yUCBADKKkWdh9IEAwO/bFPasgQFTURzKj2CBAd22ZnggGIUCcBusKbjMhQL+fPHfTYCFA4ziO4ziOIUA=\",\"dtype\":\"float64\",\"order\":\"little\",\"shape\":[100]},\"y\":{\"__ndarray__\":\"AAAAAAAAAACX/DSVuUBOQJ9ZgO6qWFpAqYjrNP39X0DxnyQ8uMdgQHCjL8EW2GBAb8qgWFjYYECXIumfWNhgQKeKA6BY2GBA1pkDoFjYYEDLnAOgWNhgQNzJA6BY2GBAz6Xen1jYYECHw9KfWNhgQOdg0J9Y2GBAbmLQn1jYYEAxYtCfWNhgQDRi0J9Y2GBAUmLQn1jYYEApX9CfWNhgQBqAz59Y2GBAg3/On1jYYEDqD9CfWNhgQM130J9Y2GBAZXnQn1jYYEBNedCfWNhgQG8p0J9Y2GBAa5PQn1jYYEAwfNCfWNhgQId20J9Y2GBAf3jQn1jYYEDaeNCfWNhgQOV50J9Y2GBAon3Qn1jYYEBonNCfWNhgQHaz0Z9Y2GBAKtfPn1jYYECTBs+fWNhgQGB50Z9Y2GBAUYLQn1jYYED2cdCfWNhgQOx50J9Y2GBA1XfQn1jYYEAVcNCfWNhgQBBt0J9Y2GBAz0nQn1jYYEC468+fWNhgQNkx0J9Y2GBAQ6TUn1jYYEDrgdCfWNhgQG940J9Y2GBAvXvQn1jYYECZeNCfWNhgQKZ40J9Y2GBAinjQn1jYYECdeNCfWNhgQJp40J9Y2GBAm3jQn1jYYECbeNCfWNhgQJt40J9Y2GBAm3jQn1jYYECbeNCfWNhgQJt40J9Y2GBAm3jQn1jYYECbeNCfWNhgQJt40J9Y2GBAm3jQn1jYYECbeNCfWNhgQJt40J9Y2GBAm3jQn1jYYECbeNCfWNhgQJt40J9Y2GBAm3jQn1jYYECbeNCfWNhgQJt40J9Y2GBAm3jQn1jYYECbeNCfWNhgQJt40J9Y2GBAm3jQn1jYYECbeNCfWNhgQJt40J9Y2GBAm3jQn1jYYECbeNCfWNhgQJt40J9Y2GBAm3jQn1jYYECbeNCfWNhgQJt40J9Y2GBAm3jQn1jYYECbeNCfWNhgQJt40J9Y2GBAm3jQn1jYYECaeNCfWNhgQJt40J9Y2GBAm3jQn1jYYECbeNCfWNhgQJt40J9Y2GBAnHjQn1jYYECQeNCfWNhgQFF40J9Y2GBAxHjQn1jYYEA=\",\"dtype\":\"float64\",\"order\":\"little\",\"shape\":[100]}},\"selected\":{\"id\":\"1780\"},\"selection_policy\":{\"id\":\"1781\"}},\"id\":\"1764\",\"type\":\"ColumnDataSource\"},{\"attributes\":{\"axis_label\":\"time (hrs)\",\"formatter\":{\"id\":\"1721\"},\"ticker\":{\"id\":\"1694\"}},\"id\":\"1693\",\"type\":\"LinearAxis\"},{\"attributes\":{\"click_policy\":\"hide\",\"items\":[{\"id\":\"1729\"},{\"id\":\"1745\"},{\"id\":\"1763\"},{\"id\":\"1783\"},{\"id\":\"1805\"}],\"location\":\"center_right\"},\"id\":\"1728\",\"type\":\"Legend\"},{\"attributes\":{\"source\":{\"id\":\"1715\"}},\"id\":\"1719\",\"type\":\"CDSView\"},{\"attributes\":{\"line_color\":\"#9367bc\",\"line_width\":2,\"x\":{\"field\":\"x\"},\"y\":{\"field\":\"y\"}},\"id\":\"1765\",\"type\":\"Line\"},{\"attributes\":{},\"id\":\"1694\",\"type\":\"BasicTicker\"},{\"attributes\":{},\"id\":\"1706\",\"type\":\"HelpTool\"},{\"attributes\":{},\"id\":\"1723\",\"type\":\"BasicTickFormatter\"},{\"attributes\":{},\"id\":\"1689\",\"type\":\"LinearScale\"},{\"attributes\":{},\"id\":\"1721\",\"type\":\"BasicTickFormatter\"},{\"attributes\":{},\"id\":\"1781\",\"type\":\"UnionRenderers\"},{\"attributes\":{},\"id\":\"1691\",\"type\":\"LinearScale\"}],\"root_ids\":[\"1682\"]},\"title\":\"Bokeh Application\",\"version\":\"2.2.1\"}};\n",
       "  var render_items = [{\"docid\":\"d31ff6b7-0f1a-42b9-9374-e4ed8115b9ef\",\"root_ids\":[\"1682\"],\"roots\":{\"1682\":\"682f2f34-1334-401f-92fe-9879814194eb\"}}];\n",
       "  root.Bokeh.embed.embed_items_notebook(docs_json, render_items);\n",
       "\n",
       "  }\n",
       "  if (root.Bokeh !== undefined) {\n",
       "    embed_document(root);\n",
       "  } else {\n",
       "    var attempts = 0;\n",
       "    var timer = setInterval(function(root) {\n",
       "      if (root.Bokeh !== undefined) {\n",
       "        clearInterval(timer);\n",
       "        embed_document(root);\n",
       "      } else {\n",
       "        attempts++;\n",
       "        if (attempts > 100) {\n",
       "          clearInterval(timer);\n",
       "          console.log(\"Bokeh: ERROR: Unable to run BokehJS code because BokehJS library is missing\");\n",
       "        }\n",
       "      }\n",
       "    }, 10, root)\n",
       "  }\n",
       "})(window);"
      ],
      "application/vnd.bokehjs_exec.v0+json": ""
     },
     "metadata": {
      "application/vnd.bokehjs_exec.v0+json": {
       "id": "1682"
      }
     },
     "output_type": "display_data"
    },
    {
     "data": {
      "text/html": [
       "\n",
       "\n",
       "\n",
       "\n",
       "\n",
       "\n",
       "  <div class=\"bk-root\" id=\"dad9019f-94bb-470c-a0fd-0a2ce83c21ea\" data-root-id=\"1185\"></div>\n"
      ]
     },
     "metadata": {},
     "output_type": "display_data"
    },
    {
     "data": {
      "application/javascript": [
       "(function(root) {\n",
       "  function embed_document(root) {\n",
       "    \n",
       "  var docs_json = {\"2c73bd2e-3448-4164-989f-3e5fc3256d75\":{\"roots\":{\"references\":[{\"attributes\":{\"below\":[{\"id\":\"1196\"}],\"center\":[{\"id\":\"1199\"},{\"id\":\"1203\"},{\"id\":\"1231\"}],\"left\":[{\"id\":\"1200\"}],\"plot_height\":350,\"plot_width\":450,\"renderers\":[{\"id\":\"1221\"},{\"id\":\"1236\"},{\"id\":\"1809\"}],\"title\":{\"id\":\"1920\"},\"toolbar\":{\"id\":\"1211\"},\"x_range\":{\"id\":\"1188\"},\"x_scale\":{\"id\":\"1192\"},\"y_range\":{\"id\":\"1190\"},\"y_scale\":{\"id\":\"1194\"}},\"id\":\"1185\",\"subtype\":\"Figure\",\"type\":\"Plot\"},{\"attributes\":{\"data_source\":{\"id\":\"1218\"},\"glyph\":{\"id\":\"1219\"},\"hover_glyph\":null,\"muted_glyph\":null,\"nonselection_glyph\":{\"id\":\"1220\"},\"selection_glyph\":null,\"view\":{\"id\":\"1222\"}},\"id\":\"1221\",\"type\":\"GlyphRenderer\"},{\"attributes\":{},\"id\":\"1246\",\"type\":\"UnionRenderers\"},{\"attributes\":{},\"id\":\"1228\",\"type\":\"Selection\"},{\"attributes\":{\"line_color\":\"#1f77b3\",\"line_width\":2,\"x\":{\"field\":\"x\"},\"y\":{\"field\":\"y\"}},\"id\":\"1219\",\"type\":\"Line\"},{\"attributes\":{\"data\":{\"x\":{\"__ndarray__\":\"AAAAAAAAAAD0kcwotrK2P/SRzCi2ssY/d22ZnggG0T/0kcwotrLWP3K2/7JjX9w/d22ZnggG4T+2/7JjX9zjP/SRzCi2suY/MyTm7QyJ6T9ytv+yY1/sP7BIGXi6Ne8/d22ZnggG8T+WNiYBNHHyP7b/smNf3PM/1sg/xopH9T/0kcwotrL2PxNbWYvhHfg/MyTm7QyJ+T9T7XJQOPT6P3K2/7JjX/w/kH+MFY/K/T+wSBl4ujX/P+gIU+1yUABAd22ZnggGAUAG0t9PnrsBQJY2JgE0cQJAJptssskmA0C2/7JjX9wDQEVk+RT1kQRA1sg/xopHBUBlLYZ3IP0FQPSRzCi2sgZAhPYS2ktoB0ATW1mL4R0IQKS/nzx30whAMyTm7QyJCUDCiCyfoj4KQFPtclA49ApA4lG5Ac6pC0Bytv+yY18MQAEbRmT5FA1AkH+MFY/KDUAh5NLGJIAOQLBIGXi6NQ9AQK1fKVDrD0DoCFPtclAQQDA79sU9qxBAd22ZnggGEUC/nzx302ARQAbS30+euxFATwSDKGkWEkCWNiYBNHESQN9oydn+yxJAJptssskmE0BuzQ+LlIETQLb/smNf3BNA/jFWPCo3FEBFZPkU9ZEUQI2WnO2/7BRA1sg/xopHFUAe++KeVaIVQGUthncg/RVArV8pUOtXFkD0kcwotrIWQD3EbwGBDRdAhPYS2ktoF0DMKLayFsMXQBNbWYvhHRhAXI38Y6x4GECkv588d9MYQOzxQhVCLhlAMyTm7QyJGUB7VonG1+MZQMKILJ+iPhpAC7vPd22ZGkBT7XJQOPQaQJsfFikDTxtA4lG5Ac6pG0AqhFzamAQcQHK2/7JjXxxAuuiiiy66HEABG0Zk+RQdQElN6TzEbx1AkH+MFY/KHUDasS/uWSUeQCHk0sYkgB5AaRZ2n+/aHkCwSBl4ujUfQPl6vFCFkB9AQK1fKVDrH0DEbwGBDSMgQOgIU+1yUCBADKKkWdh9IEAwO/bFPasgQFTURzKj2CBAd22ZnggGIUCcBusKbjMhQL+fPHfTYCFA4ziO4ziOIUA=\",\"dtype\":\"float64\",\"order\":\"little\",\"shape\":[100]},\"y\":{\"__ndarray__\":\"AAAAAGDjNkGLNuwbR2ikuvByQU8maIO6fFEkq3hAxjkMbzOawOadOf5W0cm2ePY4FyEB1OQ69Tgx6zDeEv3zOEu1YOhAv/I4Zn+Q8m6B8Th/ScD8nEPwODQn4A2WC+44Z7s/IvKP6zicT582ThTpONDj/kqqmOY4A3heXwYd5Dg4DL5zYqHhONpAOxB9S944QWn6ODVU2Tinkblh7VzUOCR08RRLy84498RvZrvcxDiJK9xvV9y1OBzSjC2B8384U9/Fz23pITiLyTjJn+ogOIdnV4Wj1x849Ts9eAfaHThlECNra9wbONbkCF7P3hk4QrnuUDPhFzizjdRDl+MVOCNiujb75RM4lDagKV/oETgJFgw5htUPOOS+1x5O2gs4w2ejBBbfBzilEG/q3eMDOP5ydaBL0f83wMQMbNva9zcFLUhv1sjvNw+h7Qzst983jsAXpxerGzej2UpenIUbN7byfRUhYBs3yguxzKU6GzfeJOSDKhUbN/I9Fzuv7xo3BVdK8jPKGjcZcH2puKQaNy2JsGA9fxo3QKLjF8JZGjdVuxbPRjQaN2nUSYbLDho3fe18PVDpGTeQBrD01MMZN6Qf46tZnhk3uDgWY954GTfMUUkaY1MZN+BqfNHnLRk384OviGwIGTcIneI/8eIYNxu2Ffd1vRg3L89IrvqXGDdD6Htlf3IYN1cBrxwETRg3axri04gnGDd+MxWLDQIYN5JMSEKS3Bc3pmV7+Ra3Fze5fq6wm5EXN86X4WcgbBc34rAUH6VGFzf2yUfWKSEXNwnjeo2u+xY3HfytRDPWFjcxFeH7t7AWN0QuFLM8ixY3WEdHasFlFjduYHohRkAWN4F5rdjKGhY3lJLgj0/1FTepqxNH1M8VN73ERv5YqhU30N15td2EFTfk9qxsYl8VN/gP4CPnORU3CykT22sUFTcfQkaS8O4UNzRbeUl1yRQ3SHSsAPqjFDdbjd+3fn4UN2+mEm8DWRQ3g79FJogzFDeW2HjdDA4UN6rxq5SR6BM3vgrfSxbDEzfTIxIDm50TN+Y8RbofeBM3+lV4caRSEzc=\",\"dtype\":\"float64\",\"order\":\"little\",\"shape\":[100]}},\"selected\":{\"id\":\"1245\"},\"selection_policy\":{\"id\":\"1246\"}},\"id\":\"1233\",\"type\":\"ColumnDataSource\"},{\"attributes\":{},\"id\":\"1226\",\"type\":\"BasicTickFormatter\"},{\"attributes\":{},\"id\":\"1842\",\"type\":\"Selection\"},{\"attributes\":{\"active_drag\":\"auto\",\"active_inspect\":\"auto\",\"active_multi\":null,\"active_scroll\":\"auto\",\"active_tap\":\"auto\",\"tools\":[{\"id\":\"1204\"},{\"id\":\"1205\"},{\"id\":\"1206\"},{\"id\":\"1207\"},{\"id\":\"1208\"},{\"id\":\"1209\"}]},\"id\":\"1211\",\"type\":\"Toolbar\"},{\"attributes\":{\"source\":{\"id\":\"1218\"}},\"id\":\"1222\",\"type\":\"CDSView\"},{\"attributes\":{\"items\":[{\"id\":\"1232\"},{\"id\":\"1248\"},{\"id\":\"1871\"}],\"location\":\"center_right\"},\"id\":\"1231\",\"type\":\"Legend\"},{\"attributes\":{},\"id\":\"1188\",\"type\":\"DataRange1d\"},{\"attributes\":{},\"id\":\"1224\",\"type\":\"BasicTickFormatter\"},{\"attributes\":{},\"id\":\"1204\",\"type\":\"PanTool\"},{\"attributes\":{},\"id\":\"1843\",\"type\":\"UnionRenderers\"},{\"attributes\":{\"bottom_units\":\"screen\",\"fill_alpha\":0.5,\"fill_color\":\"lightgrey\",\"left_units\":\"screen\",\"level\":\"overlay\",\"line_alpha\":1.0,\"line_color\":\"black\",\"line_dash\":[4,4],\"line_width\":2,\"right_units\":\"screen\",\"top_units\":\"screen\"},\"id\":\"1210\",\"type\":\"BoxAnnotation\"},{\"attributes\":{},\"id\":\"1205\",\"type\":\"WheelZoomTool\"},{\"attributes\":{\"overlay\":{\"id\":\"1210\"}},\"id\":\"1206\",\"type\":\"BoxZoomTool\"},{\"attributes\":{\"label\":{\"value\":\"ATP Synthase, ATP Use\"},\"renderers\":[{\"id\":\"1221\"}]},\"id\":\"1232\",\"type\":\"LegendItem\"},{\"attributes\":{\"line_alpha\":0.1,\"line_color\":\"#1f77b3\",\"line_width\":2,\"x\":{\"field\":\"x\"},\"y\":{\"field\":\"y\"}},\"id\":\"1220\",\"type\":\"Line\"},{\"attributes\":{},\"id\":\"1229\",\"type\":\"UnionRenderers\"},{\"attributes\":{},\"id\":\"1207\",\"type\":\"SaveTool\"},{\"attributes\":{\"text\":\"Compare ATP All\"},\"id\":\"1920\",\"type\":\"Title\"},{\"attributes\":{},\"id\":\"1190\",\"type\":\"DataRange1d\"},{\"attributes\":{},\"id\":\"1208\",\"type\":\"ResetTool\"},{\"attributes\":{\"line_color\":\"#9367bc\",\"line_width\":2,\"x\":{\"field\":\"x\"},\"y\":{\"field\":\"y\"}},\"id\":\"1807\",\"type\":\"Line\"},{\"attributes\":{},\"id\":\"1192\",\"type\":\"LinearScale\"},{\"attributes\":{},\"id\":\"1209\",\"type\":\"HelpTool\"},{\"attributes\":{},\"id\":\"1194\",\"type\":\"LinearScale\"},{\"attributes\":{\"data_source\":{\"id\":\"1806\"},\"glyph\":{\"id\":\"1807\"},\"hover_glyph\":null,\"muted_glyph\":null,\"nonselection_glyph\":{\"id\":\"1808\"},\"selection_glyph\":null,\"view\":{\"id\":\"1810\"}},\"id\":\"1809\",\"type\":\"GlyphRenderer\"},{\"attributes\":{\"axis_label\":\"time (hr)\",\"formatter\":{\"id\":\"1224\"},\"ticker\":{\"id\":\"1197\"}},\"id\":\"1196\",\"type\":\"LinearAxis\"},{\"attributes\":{\"line_alpha\":0.1,\"line_color\":\"#ff7e0e\",\"line_width\":2,\"x\":{\"field\":\"x\"},\"y\":{\"field\":\"y\"}},\"id\":\"1235\",\"type\":\"Line\"},{\"attributes\":{\"axis\":{\"id\":\"1200\"},\"dimension\":1,\"ticker\":null},\"id\":\"1203\",\"type\":\"Grid\"},{\"attributes\":{},\"id\":\"1245\",\"type\":\"Selection\"},{\"attributes\":{},\"id\":\"1197\",\"type\":\"BasicTicker\"},{\"attributes\":{\"source\":{\"id\":\"1233\"}},\"id\":\"1237\",\"type\":\"CDSView\"},{\"attributes\":{\"axis\":{\"id\":\"1196\"},\"ticker\":null},\"id\":\"1199\",\"type\":\"Grid\"},{\"attributes\":{\"data\":{\"x\":{\"__ndarray__\":\"AAAAAAAAAAD0kcwotrK2P/SRzCi2ssY/d22ZnggG0T/0kcwotrLWP3K2/7JjX9w/d22ZnggG4T+2/7JjX9zjP/SRzCi2suY/MyTm7QyJ6T9ytv+yY1/sP7BIGXi6Ne8/d22ZnggG8T+WNiYBNHHyP7b/smNf3PM/1sg/xopH9T/0kcwotrL2PxNbWYvhHfg/MyTm7QyJ+T9T7XJQOPT6P3K2/7JjX/w/kH+MFY/K/T+wSBl4ujX/P+gIU+1yUABAd22ZnggGAUAG0t9PnrsBQJY2JgE0cQJAJptssskmA0C2/7JjX9wDQEVk+RT1kQRA1sg/xopHBUBlLYZ3IP0FQPSRzCi2sgZAhPYS2ktoB0ATW1mL4R0IQKS/nzx30whAMyTm7QyJCUDCiCyfoj4KQFPtclA49ApA4lG5Ac6pC0Bytv+yY18MQAEbRmT5FA1AkH+MFY/KDUAh5NLGJIAOQLBIGXi6NQ9AQK1fKVDrD0DoCFPtclAQQDA79sU9qxBAd22ZnggGEUC/nzx302ARQAbS30+euxFATwSDKGkWEkCWNiYBNHESQN9oydn+yxJAJptssskmE0BuzQ+LlIETQLb/smNf3BNA/jFWPCo3FEBFZPkU9ZEUQI2WnO2/7BRA1sg/xopHFUAe++KeVaIVQGUthncg/RVArV8pUOtXFkD0kcwotrIWQD3EbwGBDRdAhPYS2ktoF0DMKLayFsMXQBNbWYvhHRhAXI38Y6x4GECkv588d9MYQOzxQhVCLhlAMyTm7QyJGUB7VonG1+MZQMKILJ+iPhpAC7vPd22ZGkBT7XJQOPQaQJsfFikDTxtA4lG5Ac6pG0AqhFzamAQcQHK2/7JjXxxAuuiiiy66HEABG0Zk+RQdQElN6TzEbx1AkH+MFY/KHUDasS/uWSUeQCHk0sYkgB5AaRZ2n+/aHkCwSBl4ujUfQPl6vFCFkB9AQK1fKVDrH0DEbwGBDSMgQOgIU+1yUCBADKKkWdh9IEAwO/bFPasgQFTURzKj2CBAd22ZnggGIUCcBusKbjMhQL+fPHfTYCFA4ziO4ziOIUA=\",\"dtype\":\"float64\",\"order\":\"little\",\"shape\":[100]},\"y\":{\"__ndarray__\":\"AAAAAGDjNkHZxXw5/t82QdnFfDn+3zZB2cV8Of7fNkHZxXw5/t82QdnFfDn+3zZB2cV8Of7fNkHZxXw5/t82QdnFfDn+3zZB2cV8Of7fNkHZxXw5/t82QdnFfDn+3zZB2cV8Of7fNkHZxXw5/t82QdnFfDn+3zZB2cV8Of7fNkHZxXw5/t82QdnFfDn+3zZB2cV8Of7fNkHZxXw5/t82QdnFfDn+3zZB2cV8Of7fNkHZxXw5/t82QdnFfDn+3zZB2cV8Of7fNkHZxXw5/t82QdnFfDn+3zZB2cV8Of7fNkHZxXw5/t82QdnFfDn+3zZB2cV8Of7fNkHZxXw5/t82QdnFfDn+3zZB2cV8Of7fNkHZxXw5/t82QdnFfDn+3zZB2cV8Of7fNkHZxXw5/t82QdnFfDn+3zZB2cV8Of7fNkHZxXw5/t82QdnFfDn+3zZB2cV8Of7fNkHZxXw5/t82QdnFfDn+3zZB2cV8Of7fNkHZxXw5/t82QdnFfDn+3zZB2cV8Of7fNkHZxXw5/t82QdnFfDn+3zZB2cV8Of7fNkHZxXw5/t82QdnFfDn+3zZB2cV8Of7fNkHZxXw5/t82QdnFfDn+3zZB2cV8Of7fNkHZxXw5/t82QdnFfDn+3zZB2cV8Of7fNkHZxXw5/t82QdnFfDn+3zZB2cV8Of7fNkHZxXw5/t82QdnFfDn+3zZB2cV8Of7fNkHZxXw5/t82QdnFfDn+3zZB2cV8Of7fNkHZxXw5/t82QdnFfDn+3zZB2cV8Of7fNkHZxXw5/t82QdnFfDn+3zZB2cV8Of7fNkHZxXw5/t82QdnFfDn+3zZB2cV8Of7fNkHZxXw5/t82QdnFfDn+3zZB2cV8Of7fNkHZxXw5/t82QdnFfDn+3zZB2cV8Of7fNkHZxXw5/t82QdnFfDn+3zZB2cV8Of7fNkHZxXw5/t82QdnFfDn+3zZB2cV8Of7fNkHZxXw5/t82QdnFfDn+3zZB2cV8Of7fNkHZxXw5/t82QdnFfDn+3zZB2cV8Of7fNkHZxXw5/t82QdnFfDn+3zZB2cV8Of7fNkE=\",\"dtype\":\"float64\",\"order\":\"little\",\"shape\":[100]}},\"selected\":{\"id\":\"1842\"},\"selection_policy\":{\"id\":\"1843\"}},\"id\":\"1806\",\"type\":\"ColumnDataSource\"},{\"attributes\":{\"label\":{\"value\":\"ATP Use\"},\"renderers\":[{\"id\":\"1236\"}]},\"id\":\"1248\",\"type\":\"LegendItem\"},{\"attributes\":{\"data\":{\"x\":{\"__ndarray__\":\"AAAAAAAAAAD0kcwotrK2P/SRzCi2ssY/d22ZnggG0T/0kcwotrLWP3K2/7JjX9w/d22ZnggG4T+2/7JjX9zjP/SRzCi2suY/MyTm7QyJ6T9ytv+yY1/sP7BIGXi6Ne8/d22ZnggG8T+WNiYBNHHyP7b/smNf3PM/1sg/xopH9T/0kcwotrL2PxNbWYvhHfg/MyTm7QyJ+T9T7XJQOPT6P3K2/7JjX/w/kH+MFY/K/T+wSBl4ujX/P+gIU+1yUABAd22ZnggGAUAG0t9PnrsBQJY2JgE0cQJAJptssskmA0C2/7JjX9wDQEVk+RT1kQRA1sg/xopHBUBlLYZ3IP0FQPSRzCi2sgZAhPYS2ktoB0ATW1mL4R0IQKS/nzx30whAMyTm7QyJCUDCiCyfoj4KQFPtclA49ApA4lG5Ac6pC0Bytv+yY18MQAEbRmT5FA1AkH+MFY/KDUAh5NLGJIAOQLBIGXi6NQ9AQK1fKVDrD0DoCFPtclAQQDA79sU9qxBAd22ZnggGEUC/nzx302ARQAbS30+euxFATwSDKGkWEkCWNiYBNHESQN9oydn+yxJAJptssskmE0BuzQ+LlIETQLb/smNf3BNA/jFWPCo3FEBFZPkU9ZEUQI2WnO2/7BRA1sg/xopHFUAe++KeVaIVQGUthncg/RVArV8pUOtXFkD0kcwotrIWQD3EbwGBDRdAhPYS2ktoF0DMKLayFsMXQBNbWYvhHRhAXI38Y6x4GECkv588d9MYQOzxQhVCLhlAMyTm7QyJGUB7VonG1+MZQMKILJ+iPhpAC7vPd22ZGkBT7XJQOPQaQJsfFikDTxtA4lG5Ac6pG0AqhFzamAQcQHK2/7JjXxxAuuiiiy66HEABG0Zk+RQdQElN6TzEbx1AkH+MFY/KHUDasS/uWSUeQCHk0sYkgB5AaRZ2n+/aHkCwSBl4ujUfQPl6vFCFkB9AQK1fKVDrH0DEbwGBDSMgQOgIU+1yUCBADKKkWdh9IEAwO/bFPasgQFTURzKj2CBAd22ZnggGIUCcBusKbjMhQL+fPHfTYCFA4ziO4ziOIUA=\",\"dtype\":\"float64\",\"order\":\"little\",\"shape\":[100]},\"y\":{\"__ndarray__\":\"AAAAAGDjNkHLxXw5/t82QcvFfDn+3zZBy8V8Of7fNkHLxXw5/t82QcvFfDn+3zZBy8V8Of7fNkHLxXw5/t82QcvFfDn+3zZBysV8Of7fNkHKxXw5/t82QcrFfDn+3zZBysV8Of7fNkHKxXw5/t82QcrFfDn+3zZBysV8Of7fNkHKxXw5/t82QcrFfDn+3zZBysV8Of7fNkHKxXw5/t82QcrFfDn+3zZBysV8Of7fNkHJxXw5/t82QajFfDn+3zZB0MR8Of7fNkHhzHw5/t82QZ3KfDn+3zZBJt18Of7fNkHCwHw5/t82QVvFfDn+3zZBycV8Of7fNkHJxXw5/t82QcnFfDn+3zZBycV8Of7fNkHJxXw5/t82QcnFfDn+3zZBycV8Of7fNkHJxXw5/t82QcnFfDn+3zZBycV8Of7fNkHJxXw5/t82QcnFfDn+3zZBycV8Of7fNkHJxXw5/t82QcnFfDn+3zZBycV8Of7fNkHJxXw5/t82QcnFfDn+3zZBycV8Of7fNkHJxXw5/t82QcnFfDn+3zZBycV8Of7fNkHJxXw5/t82QcnFfDn+3zZBycV8Of7fNkHJxXw5/t82QcnFfDn+3zZBycV8Of7fNkHJxXw5/t82QcnFfDn+3zZBycV8Of7fNkHJxXw5/t82QcnFfDn+3zZBycV8Of7fNkHJxXw5/t82QcnFfDn+3zZBycV8Of7fNkHJxXw5/t82QcnFfDn+3zZBycV8Of7fNkHJxXw5/t82QcnFfDn+3zZBycV8Of7fNkHJxXw5/t82QcnFfDn+3zZBycV8Of7fNkHJxXw5/t82QcnFfDn+3zZBycV8Of7fNkHJxXw5/t82QcnFfDn+3zZBycV8Of7fNkHJxXw5/t82QcnFfDn+3zZBycV8Of7fNkHJxXw5/t82QcnFfDn+3zZBycV8Of7fNkHJxXw5/t82QcnFfDn+3zZBycV8Of7fNkHJxXw5/t82QcnFfDn+3zZBycV8Of7fNkHJxXw5/t82QcnFfDn+3zZBycV8Of7fNkHJxXw5/t82QcnFfDn+3zZBycV8Of7fNkE=\",\"dtype\":\"float64\",\"order\":\"little\",\"shape\":[100]}},\"selected\":{\"id\":\"1228\"},\"selection_policy\":{\"id\":\"1229\"}},\"id\":\"1218\",\"type\":\"ColumnDataSource\"},{\"attributes\":{\"line_alpha\":0.1,\"line_color\":\"#9367bc\",\"line_width\":2,\"x\":{\"field\":\"x\"},\"y\":{\"field\":\"y\"}},\"id\":\"1808\",\"type\":\"Line\"},{\"attributes\":{\"label\":{\"value\":\"ATP Synthase, Proton Pump, ATP Use\"},\"renderers\":[{\"id\":\"1809\"}]},\"id\":\"1871\",\"type\":\"LegendItem\"},{\"attributes\":{},\"id\":\"1201\",\"type\":\"BasicTicker\"},{\"attributes\":{\"data_source\":{\"id\":\"1233\"},\"glyph\":{\"id\":\"1234\"},\"hover_glyph\":null,\"muted_glyph\":null,\"nonselection_glyph\":{\"id\":\"1235\"},\"selection_glyph\":null,\"view\":{\"id\":\"1237\"}},\"id\":\"1236\",\"type\":\"GlyphRenderer\"},{\"attributes\":{\"axis_label\":\"concentration (nM)\",\"formatter\":{\"id\":\"1226\"},\"ticker\":{\"id\":\"1201\"}},\"id\":\"1200\",\"type\":\"LinearAxis\"},{\"attributes\":{\"source\":{\"id\":\"1806\"}},\"id\":\"1810\",\"type\":\"CDSView\"},{\"attributes\":{\"line_color\":\"#ff7e0e\",\"line_width\":2,\"x\":{\"field\":\"x\"},\"y\":{\"field\":\"y\"}},\"id\":\"1234\",\"type\":\"Line\"}],\"root_ids\":[\"1185\"]},\"title\":\"Bokeh Application\",\"version\":\"2.2.1\"}};\n",
       "  var render_items = [{\"docid\":\"2c73bd2e-3448-4164-989f-3e5fc3256d75\",\"root_ids\":[\"1185\"],\"roots\":{\"1185\":\"dad9019f-94bb-470c-a0fd-0a2ce83c21ea\"}}];\n",
       "  root.Bokeh.embed.embed_items_notebook(docs_json, render_items);\n",
       "\n",
       "  }\n",
       "  if (root.Bokeh !== undefined) {\n",
       "    embed_document(root);\n",
       "  } else {\n",
       "    var attempts = 0;\n",
       "    var timer = setInterval(function(root) {\n",
       "      if (root.Bokeh !== undefined) {\n",
       "        clearInterval(timer);\n",
       "        embed_document(root);\n",
       "      } else {\n",
       "        attempts++;\n",
       "        if (attempts > 100) {\n",
       "          clearInterval(timer);\n",
       "          console.log(\"Bokeh: ERROR: Unable to run BokehJS code because BokehJS library is missing\");\n",
       "        }\n",
       "      }\n",
       "    }, 10, root)\n",
       "  }\n",
       "})(window);"
      ],
      "application/vnd.bokehjs_exec.v0+json": ""
     },
     "metadata": {
      "application/vnd.bokehjs_exec.v0+json": {
       "id": "1185"
      }
     },
     "output_type": "display_data"
    }
   ],
   "source": [
    "plt_timepoints = timepoints/60/60\n",
    "\n",
    "p3 = bokeh.plotting.figure(width = 450, height = 350, title = 'with ATP Synthase, Proton Pump, ATP Use',\n",
    "                          x_axis_label = 'time (hrs)',\n",
    "                          y_axis_label = 'concentration (nM)')\n",
    "plot_list = [ATP_id3, outside_H_id, inside_H_id, atp_synthase_b_protein_id, proton_pump_b_protein_id]\n",
    "plot_str = ['atp', 'outside_H', 'inside_H', 'bound atp synthase', 'bound proton pump']\n",
    "for i,item in enumerate(plot_list):\n",
    "    p3.line(plt_timepoints, results_everything[item], line_width = 2, legend_label = plot_str[i], color = palette[i])\n",
    "\n",
    "p_compare.line(plt_timepoints, results_everything[ATP_id3], line_width = 2, legend_label = 'ATP Synthase, Proton Pump, ATP Use', color = palette[3])\n",
    "#p3.line(plt_timepoints, results_everything[ATP_id3])\n",
    "p3.legend.click_policy = 'hide'\n",
    "p3.legend.location = 'center_right'\n",
    "#p_compare.title = 'Compare ATP All'\n",
    "t = Title()\n",
    "t.text = 'Compare ATP All'\n",
    "p_compare.title = t\n",
    "p_compare.legend.location = 'center_right'\n",
    "bokeh.io.show(p3)\n",
    "bokeh.io.show(p_compare)"
   ]
  },
  {
   "cell_type": "code",
   "execution_count": null,
   "metadata": {},
   "outputs": [],
   "source": []
  },
  {
   "cell_type": "markdown",
   "metadata": {},
   "source": [
    "## Compare with atpsyn + proton pump, only atpsyn, only atpuse (with txtl machinery)\n",
    "---"
   ]
  },
  {
   "cell_type": "code",
   "execution_count": 18,
   "metadata": {},
   "outputs": [
    {
     "data": {
      "text/html": [
       "\n",
       "\n",
       "\n",
       "\n",
       "\n",
       "\n",
       "  <div class=\"bk-root\" id=\"f7391180-8d3e-401c-a518-dcbc07d1acbd\" data-root-id=\"2173\"></div>\n"
      ]
     },
     "metadata": {},
     "output_type": "display_data"
    },
    {
     "data": {
      "application/javascript": [
       "(function(root) {\n",
       "  function embed_document(root) {\n",
       "    \n",
       "  var docs_json = {\"cf55c1d7-ed0b-44e2-81f6-d37d6b7c4988\":{\"roots\":{\"references\":[{\"attributes\":{\"children\":[{\"id\":\"1682\"},{\"id\":\"1035\"},{\"id\":\"1137\"}]},\"id\":\"2173\",\"type\":\"Row\"},{\"attributes\":{},\"id\":\"1059\",\"type\":\"HelpTool\"},{\"attributes\":{},\"id\":\"1742\",\"type\":\"Selection\"},{\"attributes\":{\"label\":{\"value\":\"outside_H\"},\"renderers\":[{\"id\":\"1733\"}]},\"id\":\"1745\",\"type\":\"LegendItem\"},{\"attributes\":{\"data\":{\"x\":{\"__ndarray__\":\"AAAAAAAAAAD0kcwotrK2P/SRzCi2ssY/d22ZnggG0T/0kcwotrLWP3K2/7JjX9w/d22ZnggG4T+2/7JjX9zjP/SRzCi2suY/MyTm7QyJ6T9ytv+yY1/sP7BIGXi6Ne8/d22ZnggG8T+WNiYBNHHyP7b/smNf3PM/1sg/xopH9T/0kcwotrL2PxNbWYvhHfg/MyTm7QyJ+T9T7XJQOPT6P3K2/7JjX/w/kH+MFY/K/T+wSBl4ujX/P+gIU+1yUABAd22ZnggGAUAG0t9PnrsBQJY2JgE0cQJAJptssskmA0C2/7JjX9wDQEVk+RT1kQRA1sg/xopHBUBlLYZ3IP0FQPSRzCi2sgZAhPYS2ktoB0ATW1mL4R0IQKS/nzx30whAMyTm7QyJCUDCiCyfoj4KQFPtclA49ApA4lG5Ac6pC0Bytv+yY18MQAEbRmT5FA1AkH+MFY/KDUAh5NLGJIAOQLBIGXi6NQ9AQK1fKVDrD0DoCFPtclAQQDA79sU9qxBAd22ZnggGEUC/nzx302ARQAbS30+euxFATwSDKGkWEkCWNiYBNHESQN9oydn+yxJAJptssskmE0BuzQ+LlIETQLb/smNf3BNA/jFWPCo3FEBFZPkU9ZEUQI2WnO2/7BRA1sg/xopHFUAe++KeVaIVQGUthncg/RVArV8pUOtXFkD0kcwotrIWQD3EbwGBDRdAhPYS2ktoF0DMKLayFsMXQBNbWYvhHRhAXI38Y6x4GECkv588d9MYQOzxQhVCLhlAMyTm7QyJGUB7VonG1+MZQMKILJ+iPhpAC7vPd22ZGkBT7XJQOPQaQJsfFikDTxtA4lG5Ac6pG0AqhFzamAQcQHK2/7JjXxxAuuiiiy66HEABG0Zk+RQdQElN6TzEbx1AkH+MFY/KHUDasS/uWSUeQCHk0sYkgB5AaRZ2n+/aHkCwSBl4ujUfQPl6vFCFkB9AQK1fKVDrH0DEbwGBDSMgQOgIU+1yUCBADKKkWdh9IEAwO/bFPasgQFTURzKj2CBAd22ZnggGIUCcBusKbjMhQL+fPHfTYCFA4ziO4ziOIUA=\",\"dtype\":\"float64\",\"order\":\"little\",\"shape\":[100]},\"y\":{\"__ndarray__\":\"AAAAAAAAJECMGRxvkIsBPR5CJssOFVY8fkZkHJVZAToILoVwmt0zuKLy7FF3aB433/HZnauckDbfmZtolZZZNjaPhPtJESS2A8lNsn4/9LUjPjB9DxffsbqBlPtO2UYyG0Y2eDWBMjFyMMJvjlkZsMmtPGKWUz2vyOLbHfcKI69CsVJR75wJr7HV+PzaAAyvqSpuj5xsAC4keDBv4OLuraLehqssejOuAL9Rx3fTIy4A/9V5Y5aNrr5NPngf4+euEJN5CPDmFa8oI72beeNDLwTR+JGNETsv7aPmOi9jYC+8uF+XSzM8rzQ9ekuHRgOvwDBuS6arEC54yozRpUhWrnDD9ylixoKutMuilw+bqq6b4tbwuAiiLpu1+GQB938uwz+sLjTwbK1mHcppiQqjreAbub9zyrQthOyz1/95xa0PfpEBFTT9rcyE5CbSpCAu5zw2xc3sFq4j+0JjlhcFLu3vVzPS74YtgGcbu57g3iyCh4TGKZjrLNRX8g2wecisXiYo44oYoCx7SMoxvAFerITLYTz9eDKseeF3OmoUxCsJUc0ecdiTK8sy9qOcaKsrLOM1Kox+bKuXXDOipJmBq7VzGx9MnmIrsMYyzjYUEquY5xw6rJEzq0uOZ1cyb4+qZd5WiaKdEyrY4p/inZRCKnhkICEGEFQqsKvh4jvqZSpzEZaxRaX3qRoV5ag3ISKq7Se7zxCgEarTHvcY+6YDKjbK/dEw+AsqJhQDeRTKxalb+0TH3+TgqSuhUXzDcrWozm3v6/Q//qgk7gPtySr5qH0cvgV3k9Yogh5DQzRF5Sg1pg+SO37gKHTaJpvzTAYpUeWA7MQVEimUIGnRCyYOKRF1x2IUIZ8ocD5TmA+lxCje+uSInOzQKMx9/lMOOsworajzGVyWeCgHN4dnZbCdKCEknZNCJ6cozzAnGYFioig0j+n5IA1RqLi9+8ncKXSo6D6b8UK8f6itWtJGcDh5qBaukzA6mXWnDOJaAu7clqegykMXe22hp2zwkZlC1pqnpbR5hCc3IadA8cHRqhhpJ/r6ZovxRnQnA+LILCIkbyc=\",\"dtype\":\"float64\",\"order\":\"little\",\"shape\":[100]}},\"selected\":{\"id\":\"1095\"},\"selection_policy\":{\"id\":\"1096\"}},\"id\":\"1083\",\"type\":\"ColumnDataSource\"},{\"attributes\":{},\"id\":\"1079\",\"type\":\"UnionRenderers\"},{\"attributes\":{},\"id\":\"1076\",\"type\":\"BasicTickFormatter\"},{\"attributes\":{},\"id\":\"1743\",\"type\":\"UnionRenderers\"},{\"attributes\":{\"data\":{\"x\":{\"__ndarray__\":\"AAAAAAAAAAD0kcwotrK2P/SRzCi2ssY/d22ZnggG0T/0kcwotrLWP3K2/7JjX9w/d22ZnggG4T+2/7JjX9zjP/SRzCi2suY/MyTm7QyJ6T9ytv+yY1/sP7BIGXi6Ne8/d22ZnggG8T+WNiYBNHHyP7b/smNf3PM/1sg/xopH9T/0kcwotrL2PxNbWYvhHfg/MyTm7QyJ+T9T7XJQOPT6P3K2/7JjX/w/kH+MFY/K/T+wSBl4ujX/P+gIU+1yUABAd22ZnggGAUAG0t9PnrsBQJY2JgE0cQJAJptssskmA0C2/7JjX9wDQEVk+RT1kQRA1sg/xopHBUBlLYZ3IP0FQPSRzCi2sgZAhPYS2ktoB0ATW1mL4R0IQKS/nzx30whAMyTm7QyJCUDCiCyfoj4KQFPtclA49ApA4lG5Ac6pC0Bytv+yY18MQAEbRmT5FA1AkH+MFY/KDUAh5NLGJIAOQLBIGXi6NQ9AQK1fKVDrD0DoCFPtclAQQDA79sU9qxBAd22ZnggGEUC/nzx302ARQAbS30+euxFATwSDKGkWEkCWNiYBNHESQN9oydn+yxJAJptssskmE0BuzQ+LlIETQLb/smNf3BNA/jFWPCo3FEBFZPkU9ZEUQI2WnO2/7BRA1sg/xopHFUAe++KeVaIVQGUthncg/RVArV8pUOtXFkD0kcwotrIWQD3EbwGBDRdAhPYS2ktoF0DMKLayFsMXQBNbWYvhHRhAXI38Y6x4GECkv588d9MYQOzxQhVCLhlAMyTm7QyJGUB7VonG1+MZQMKILJ+iPhpAC7vPd22ZGkBT7XJQOPQaQJsfFikDTxtA4lG5Ac6pG0AqhFzamAQcQHK2/7JjXxxAuuiiiy66HEABG0Zk+RQdQElN6TzEbx1AkH+MFY/KHUDasS/uWSUeQCHk0sYkgB5AaRZ2n+/aHkCwSBl4ujUfQPl6vFCFkB9AQK1fKVDrH0DEbwGBDSMgQOgIU+1yUCBADKKkWdh9IEAwO/bFPasgQFTURzKj2CBAd22ZnggGIUCcBusKbjMhQL+fPHfTYCFA4ziO4ziOIUA=\",\"dtype\":\"float64\",\"order\":\"little\",\"shape\":[100]},\"y\":{\"__ndarray__\":\"AAAAAAAAAACvJVPBLFwjQAhgtH6koCNAidGzMzaxI0DLDBPW1rQjQHqrUc8etSNArj2f7h+1I0AVdNfvH7UjQL3n1+8ftSNAAOjX7x+1I0AO6NfvH7UjQMXo1+8ftSNAJkbX7x+1I0AZEtfvH7UjQKYH1+8ftSNAqgfX7x+1I0CpB9fvH7UjQKkH1+8ftSNAqQfX7x+1I0CfB9fvH7UjQPYG1+8ftSNASfzW7x+1I0BABtfvH7UjQAgI1+8ftSNADgjX7x+1I0ANCNfvH7UjQLQG1+8ftSNAfQjX7x+1I0AcCNfvH7UjQAMI1+8ftSNACwjX7x+1I0ANCNfvH7UjQBEI1+8ftSNAIQjX7x+1I0CqCNfvH7UjQIEN1+8ftSNAQAXX7x+1I0CiAdfvH7UjQIIM1+8ftSNAOwjX7x+1I0DwB9fvH7UjQBMI1+8ftSNACgjX7x+1I0DoB9fvH7UjQNoH1+8ftSNAPwfX7x+1I0ClBdfvH7UjQNcG1+8ftSNAPxrX7x+1I0A1CNfvH7UjQAwI1+8ftSNAGgjX7x+1I0ANCNfvH7UjQA0I1+8ftSNADAjX7x+1I0AMCNfvH7UjQAwI1+8ftSNADAjX7x+1I0AMCNfvH7UjQAwI1+8ftSNADAjX7x+1I0AMCNfvH7UjQAwI1+8ftSNADAjX7x+1I0AMCNfvH7UjQAwI1+8ftSNADAjX7x+1I0AMCNfvH7UjQAwI1+8ftSNADAjX7x+1I0AMCNfvH7UjQAwI1+8ftSNADAjX7x+1I0AMCNfvH7UjQAwI1+8ftSNADQjX7x+1I0ALCNfvH7UjQAwI1+8ftSNAGAjX7x+1I0C0B9fvH7UjQIsJ1+8ftSNADwfX7x+1I0AsCNfvH7UjQA8I1+8ftSNADgjX7x+1I0ALCNfvH7UjQBAI1+8ftSNAIgjX7x+1I0CoB9fvH7UjQPgI1+8ftSNAFgbX7x+1I0BzC9fvH7UjQMIL1+8ftSNAaBHX7x+1I0CYCdfvH7UjQGXN1u8ftSNAs2vY7x+1I0ASONDvH7UjQCFKru8ftSNAIVnu7x+1I0A=\",\"dtype\":\"float64\",\"order\":\"little\",\"shape\":[100]}},\"selected\":{\"id\":\"1760\"},\"selection_policy\":{\"id\":\"1761\"}},\"id\":\"1746\",\"type\":\"ColumnDataSource\"},{\"attributes\":{\"line_color\":\"#1f77b3\",\"line_width\":2,\"x\":{\"field\":\"x\"},\"y\":{\"field\":\"y\"}},\"id\":\"1069\",\"type\":\"Line\"},{\"attributes\":{\"line_color\":\"#2ba02b\",\"line_width\":2,\"x\":{\"field\":\"x\"},\"y\":{\"field\":\"y\"}},\"id\":\"1747\",\"type\":\"Line\"},{\"attributes\":{},\"id\":\"1760\",\"type\":\"Selection\"},{\"attributes\":{},\"id\":\"1074\",\"type\":\"BasicTickFormatter\"},{\"attributes\":{\"source\":{\"id\":\"1746\"}},\"id\":\"1750\",\"type\":\"CDSView\"},{\"attributes\":{},\"id\":\"1078\",\"type\":\"Selection\"},{\"attributes\":{\"data_source\":{\"id\":\"1746\"},\"glyph\":{\"id\":\"1747\"},\"hover_glyph\":null,\"muted_glyph\":null,\"nonselection_glyph\":{\"id\":\"1748\"},\"selection_glyph\":null,\"view\":{\"id\":\"1750\"}},\"id\":\"1749\",\"type\":\"GlyphRenderer\"},{\"attributes\":{\"source\":{\"id\":\"1068\"}},\"id\":\"1072\",\"type\":\"CDSView\"},{\"attributes\":{\"data_source\":{\"id\":\"1068\"},\"glyph\":{\"id\":\"1069\"},\"hover_glyph\":null,\"muted_glyph\":null,\"nonselection_glyph\":{\"id\":\"1070\"},\"selection_glyph\":null,\"view\":{\"id\":\"1072\"}},\"id\":\"1071\",\"type\":\"GlyphRenderer\"},{\"attributes\":{\"click_policy\":\"hide\",\"items\":[{\"id\":\"1082\"},{\"id\":\"1098\"},{\"id\":\"1116\"},{\"id\":\"1136\"}],\"location\":\"bottom_right\"},\"id\":\"1081\",\"type\":\"Legend\"},{\"attributes\":{\"line_alpha\":0.1,\"line_color\":\"#2ba02b\",\"line_width\":2,\"x\":{\"field\":\"x\"},\"y\":{\"field\":\"y\"}},\"id\":\"1748\",\"type\":\"Line\"},{\"attributes\":{\"label\":{\"value\":\"inside_H\"},\"renderers\":[{\"id\":\"1749\"}]},\"id\":\"1763\",\"type\":\"LegendItem\"},{\"attributes\":{},\"id\":\"1761\",\"type\":\"UnionRenderers\"},{\"attributes\":{\"active_drag\":\"auto\",\"active_inspect\":\"auto\",\"active_multi\":null,\"active_scroll\":\"auto\",\"active_tap\":\"auto\",\"tools\":[{\"id\":\"1054\"},{\"id\":\"1055\"},{\"id\":\"1056\"},{\"id\":\"1057\"},{\"id\":\"1058\"},{\"id\":\"1059\"}]},\"id\":\"1061\",\"type\":\"Toolbar\"},{\"attributes\":{\"data\":{\"x\":{\"__ndarray__\":\"AAAAAAAAAAD0kcwotrK2P/SRzCi2ssY/d22ZnggG0T/0kcwotrLWP3K2/7JjX9w/d22ZnggG4T+2/7JjX9zjP/SRzCi2suY/MyTm7QyJ6T9ytv+yY1/sP7BIGXi6Ne8/d22ZnggG8T+WNiYBNHHyP7b/smNf3PM/1sg/xopH9T/0kcwotrL2PxNbWYvhHfg/MyTm7QyJ+T9T7XJQOPT6P3K2/7JjX/w/kH+MFY/K/T+wSBl4ujX/P+gIU+1yUABAd22ZnggGAUAG0t9PnrsBQJY2JgE0cQJAJptssskmA0C2/7JjX9wDQEVk+RT1kQRA1sg/xopHBUBlLYZ3IP0FQPSRzCi2sgZAhPYS2ktoB0ATW1mL4R0IQKS/nzx30whAMyTm7QyJCUDCiCyfoj4KQFPtclA49ApA4lG5Ac6pC0Bytv+yY18MQAEbRmT5FA1AkH+MFY/KDUAh5NLGJIAOQLBIGXi6NQ9AQK1fKVDrD0DoCFPtclAQQDA79sU9qxBAd22ZnggGEUC/nzx302ARQAbS30+euxFATwSDKGkWEkCWNiYBNHESQN9oydn+yxJAJptssskmE0BuzQ+LlIETQLb/smNf3BNA/jFWPCo3FEBFZPkU9ZEUQI2WnO2/7BRA1sg/xopHFUAe++KeVaIVQGUthncg/RVArV8pUOtXFkD0kcwotrIWQD3EbwGBDRdAhPYS2ktoF0DMKLayFsMXQBNbWYvhHRhAXI38Y6x4GECkv588d9MYQOzxQhVCLhlAMyTm7QyJGUB7VonG1+MZQMKILJ+iPhpAC7vPd22ZGkBT7XJQOPQaQJsfFikDTxtA4lG5Ac6pG0AqhFzamAQcQHK2/7JjXxxAuuiiiy66HEABG0Zk+RQdQElN6TzEbx1AkH+MFY/KHUDasS/uWSUeQCHk0sYkgB5AaRZ2n+/aHkCwSBl4ujUfQPl6vFCFkB9AQK1fKVDrH0DEbwGBDSMgQOgIU+1yUCBADKKkWdh9IEAwO/bFPasgQFTURzKj2CBAd22ZnggGIUCcBusKbjMhQL+fPHfTYCFA4ziO4ziOIUA=\",\"dtype\":\"float64\",\"order\":\"little\",\"shape\":[100]},\"y\":{\"__ndarray__\":\"AAAAAAAAAACX/DSVuUBOQJ9ZgO6qWFpAqYjrNP39X0DxnyQ8uMdgQHCjL8EW2GBAb8qgWFjYYECXIumfWNhgQKeKA6BY2GBA1pkDoFjYYEDLnAOgWNhgQNzJA6BY2GBAz6Xen1jYYECHw9KfWNhgQOdg0J9Y2GBAbmLQn1jYYEAxYtCfWNhgQDRi0J9Y2GBAUmLQn1jYYEApX9CfWNhgQBqAz59Y2GBAg3/On1jYYEDqD9CfWNhgQM130J9Y2GBAZXnQn1jYYEBNedCfWNhgQG8p0J9Y2GBAa5PQn1jYYEAwfNCfWNhgQId20J9Y2GBAf3jQn1jYYEDaeNCfWNhgQOV50J9Y2GBAon3Qn1jYYEBonNCfWNhgQHaz0Z9Y2GBAKtfPn1jYYECTBs+fWNhgQGB50Z9Y2GBAUYLQn1jYYED2cdCfWNhgQOx50J9Y2GBA1XfQn1jYYEAVcNCfWNhgQBBt0J9Y2GBAz0nQn1jYYEC468+fWNhgQNkx0J9Y2GBAQ6TUn1jYYEDrgdCfWNhgQG940J9Y2GBAvXvQn1jYYECZeNCfWNhgQKZ40J9Y2GBAinjQn1jYYECdeNCfWNhgQJp40J9Y2GBAm3jQn1jYYECbeNCfWNhgQJt40J9Y2GBAm3jQn1jYYECbeNCfWNhgQJt40J9Y2GBAm3jQn1jYYECbeNCfWNhgQJt40J9Y2GBAm3jQn1jYYECbeNCfWNhgQJt40J9Y2GBAm3jQn1jYYECbeNCfWNhgQJt40J9Y2GBAm3jQn1jYYECbeNCfWNhgQJt40J9Y2GBAm3jQn1jYYECbeNCfWNhgQJt40J9Y2GBAm3jQn1jYYECbeNCfWNhgQJt40J9Y2GBAm3jQn1jYYECbeNCfWNhgQJt40J9Y2GBAm3jQn1jYYECbeNCfWNhgQJt40J9Y2GBAm3jQn1jYYECbeNCfWNhgQJt40J9Y2GBAm3jQn1jYYECaeNCfWNhgQJt40J9Y2GBAm3jQn1jYYECbeNCfWNhgQJt40J9Y2GBAnHjQn1jYYECQeNCfWNhgQFF40J9Y2GBAxHjQn1jYYEA=\",\"dtype\":\"float64\",\"order\":\"little\",\"shape\":[100]}},\"selected\":{\"id\":\"1780\"},\"selection_policy\":{\"id\":\"1781\"}},\"id\":\"1764\",\"type\":\"ColumnDataSource\"},{\"attributes\":{\"axis_label\":\"time (hrs)\",\"formatter\":{\"id\":\"1721\"},\"ticker\":{\"id\":\"1694\"}},\"id\":\"1693\",\"type\":\"LinearAxis\"},{\"attributes\":{\"line_color\":\"#9367bc\",\"line_width\":2,\"x\":{\"field\":\"x\"},\"y\":{\"field\":\"y\"}},\"id\":\"1765\",\"type\":\"Line\"},{\"attributes\":{},\"id\":\"1781\",\"type\":\"UnionRenderers\"},{\"attributes\":{},\"id\":\"1095\",\"type\":\"Selection\"},{\"attributes\":{\"label\":{\"value\":\"atp\"},\"renderers\":[{\"id\":\"1071\"}]},\"id\":\"1082\",\"type\":\"LegendItem\"},{\"attributes\":{\"source\":{\"id\":\"1764\"}},\"id\":\"1768\",\"type\":\"CDSView\"},{\"attributes\":{\"source\":{\"id\":\"1083\"}},\"id\":\"1087\",\"type\":\"CDSView\"},{\"attributes\":{\"data_source\":{\"id\":\"1764\"},\"glyph\":{\"id\":\"1765\"},\"hover_glyph\":null,\"muted_glyph\":null,\"nonselection_glyph\":{\"id\":\"1766\"},\"selection_glyph\":null,\"view\":{\"id\":\"1768\"}},\"id\":\"1767\",\"type\":\"GlyphRenderer\"},{\"attributes\":{\"line_color\":\"#ff7e0e\",\"line_width\":2,\"x\":{\"field\":\"x\"},\"y\":{\"field\":\"y\"}},\"id\":\"1084\",\"type\":\"Line\"},{\"attributes\":{\"line_alpha\":0.1,\"line_color\":\"#9367bc\",\"line_width\":2,\"x\":{\"field\":\"x\"},\"y\":{\"field\":\"y\"}},\"id\":\"1766\",\"type\":\"Line\"},{\"attributes\":{\"data_source\":{\"id\":\"1083\"},\"glyph\":{\"id\":\"1084\"},\"hover_glyph\":null,\"muted_glyph\":null,\"nonselection_glyph\":{\"id\":\"1085\"},\"selection_glyph\":null,\"view\":{\"id\":\"1087\"}},\"id\":\"1086\",\"type\":\"GlyphRenderer\"},{\"attributes\":{\"label\":{\"value\":\"bound atp synthase\"},\"renderers\":[{\"id\":\"1767\"}]},\"id\":\"1783\",\"type\":\"LegendItem\"},{\"attributes\":{\"data\":{\"x\":{\"__ndarray__\":\"AAAAAAAAAAD0kcwotrK2P/SRzCi2ssY/d22ZnggG0T/0kcwotrLWP3K2/7JjX9w/d22ZnggG4T+2/7JjX9zjP/SRzCi2suY/MyTm7QyJ6T9ytv+yY1/sP7BIGXi6Ne8/d22ZnggG8T+WNiYBNHHyP7b/smNf3PM/1sg/xopH9T/0kcwotrL2PxNbWYvhHfg/MyTm7QyJ+T9T7XJQOPT6P3K2/7JjX/w/kH+MFY/K/T+wSBl4ujX/P+gIU+1yUABAd22ZnggGAUAG0t9PnrsBQJY2JgE0cQJAJptssskmA0C2/7JjX9wDQEVk+RT1kQRA1sg/xopHBUBlLYZ3IP0FQPSRzCi2sgZAhPYS2ktoB0ATW1mL4R0IQKS/nzx30whAMyTm7QyJCUDCiCyfoj4KQFPtclA49ApA4lG5Ac6pC0Bytv+yY18MQAEbRmT5FA1AkH+MFY/KDUAh5NLGJIAOQLBIGXi6NQ9AQK1fKVDrD0DoCFPtclAQQDA79sU9qxBAd22ZnggGEUC/nzx302ARQAbS30+euxFATwSDKGkWEkCWNiYBNHESQN9oydn+yxJAJptssskmE0BuzQ+LlIETQLb/smNf3BNA/jFWPCo3FEBFZPkU9ZEUQI2WnO2/7BRA1sg/xopHFUAe++KeVaIVQGUthncg/RVArV8pUOtXFkD0kcwotrIWQD3EbwGBDRdAhPYS2ktoF0DMKLayFsMXQBNbWYvhHRhAXI38Y6x4GECkv588d9MYQOzxQhVCLhlAMyTm7QyJGUB7VonG1+MZQMKILJ+iPhpAC7vPd22ZGkBT7XJQOPQaQJsfFikDTxtA4lG5Ac6pG0AqhFzamAQcQHK2/7JjXxxAuuiiiy66HEABG0Zk+RQdQElN6TzEbx1AkH+MFY/KHUDasS/uWSUeQCHk0sYkgB5AaRZ2n+/aHkCwSBl4ujUfQPl6vFCFkB9AQK1fKVDrH0DEbwGBDSMgQOgIU+1yUCBADKKkWdh9IEAwO/bFPasgQFTURzKj2CBAd22ZnggGIUCcBusKbjMhQL+fPHfTYCFA4ziO4ziOIUA=\",\"dtype\":\"float64\",\"order\":\"little\",\"shape\":[100]},\"y\":{\"__ndarray__\":\"AAAAAAAAAADFLOWmNdMFQF46UMHunSRApikNhAE3NECKMzqkqG8+QPIM6DG5+UNArPsmJOJNSEA9T1kZ3jxMQKsJTPrlz09AQZ3Lq6+HUUC43L69dQFTQDxASam8WFRAsaep2qqQVUBEJnoaHaxWQNBDQEetrVdA8iqgcbiXWED5IqhpZGxZQM+VicqkLVpAy5tEkD/dWkDfmCRC0XxbQED317vQDVxA018RnpKRXEAZmrJuTAldQHOhAG8Xdl1AvWOlNPPYXUB7ybL6xzJeQM0o6chohF5AbxtIYpXOXkA/EHwG/BFfQHhw5gs7T19AePKRU+KGX0B4+Q+bdLlfQJ2ok69o519AYRuhQpUIYECGnkcajhtgQKK2YHDLLGBAuWSxxHU8YEADUT7ksUpgQPMLxD+hV2BAuGtEOmJjYEA0GmhwEG5gQPyKXfnEd2BAocTHoZaAYEAHI08hmohgQEYxVUvij2BAnuseO4CWYECBowx8g5xgQAjCHS76oWBA0swkJ/GmYEAxnt4QdKtgQFGQZ4SNr2BAcwMdI0ezYEB8OiutqbZgQB8oUBa9uWBAytRJmIi8YECgSvDDEr9gQKgGrZBhwWBAnFxlanrDYECAVkE+YsVgQJEyQYYdx2BA8jbAU7DIYEAeRv9YHspgQClE2fFqy2BAtFOjK5nMYEAvXVnMq81gQOv9IlmlzmBAuwQ9HIjPYEAdDl0qVtBgQKulkmcR0WBAKJK5i7vRYECDWIMmVtJgQCNiI6Pi0mBAcaagS2LTYEDFNeBL1tNgQJa6Y7Q/1GBAjT7LfJ/UYEAayBmG9tRgQA/HxZxF1WBAbm+aeo3VYEDOQ2zIztVgQO+4pB8K1mBAbwerC0DWYEBjVysLcdZgQAxjQJGd1mBAnGCCBsbWYECROvzJ6tZgQC6eCzIM12BAJk0rjSrXYEC0+KoiRtdgQDU5VzNf12BATRsS+nXXYEA0KV2sitdgQL3H1nqd12BAL+iska7XYEAPMQUZvtdgQInAWjXM12BAqaLTB9nXYEAF2Y6u5NdgQIJZ60Tv12BAAd3I4/jXYEA=\",\"dtype\":\"float64\",\"order\":\"little\",\"shape\":[100]}},\"selected\":{\"id\":\"1802\"},\"selection_policy\":{\"id\":\"1803\"}},\"id\":\"1784\",\"type\":\"ColumnDataSource\"},{\"attributes\":{\"line_alpha\":0.1,\"line_color\":\"#ff7e0e\",\"line_width\":2,\"x\":{\"field\":\"x\"},\"y\":{\"field\":\"y\"}},\"id\":\"1085\",\"type\":\"Line\"},{\"attributes\":{\"line_color\":\"#8c564b\",\"line_width\":2,\"x\":{\"field\":\"x\"},\"y\":{\"field\":\"y\"}},\"id\":\"1785\",\"type\":\"Line\"},{\"attributes\":{\"label\":{\"value\":\"outside_H\"},\"renderers\":[{\"id\":\"1086\"}]},\"id\":\"1098\",\"type\":\"LegendItem\"},{\"attributes\":{\"bottom_units\":\"screen\",\"fill_alpha\":0.5,\"fill_color\":\"lightgrey\",\"left_units\":\"screen\",\"level\":\"overlay\",\"line_alpha\":1.0,\"line_color\":\"black\",\"line_dash\":[4,4],\"line_width\":2,\"right_units\":\"screen\",\"top_units\":\"screen\"},\"id\":\"1060\",\"type\":\"BoxAnnotation\"},{\"attributes\":{},\"id\":\"1096\",\"type\":\"UnionRenderers\"},{\"attributes\":{},\"id\":\"1803\",\"type\":\"UnionRenderers\"},{\"attributes\":{\"below\":[{\"id\":\"1693\"}],\"center\":[{\"id\":\"1696\"},{\"id\":\"1700\"},{\"id\":\"1728\"}],\"left\":[{\"id\":\"1697\"}],\"plot_height\":350,\"plot_width\":450,\"renderers\":[{\"id\":\"1718\"},{\"id\":\"1733\"},{\"id\":\"1749\"},{\"id\":\"1767\"},{\"id\":\"1787\"}],\"title\":{\"id\":\"1683\"},\"toolbar\":{\"id\":\"1708\"},\"x_range\":{\"id\":\"1685\"},\"x_scale\":{\"id\":\"1689\"},\"y_range\":{\"id\":\"1687\"},\"y_scale\":{\"id\":\"1691\"}},\"id\":\"1682\",\"subtype\":\"Figure\",\"type\":\"Plot\"},{\"attributes\":{\"source\":{\"id\":\"1784\"}},\"id\":\"1788\",\"type\":\"CDSView\"},{\"attributes\":{\"data\":{\"x\":{\"__ndarray__\":\"AAAAAAAAAAD0kcwotrK2P/SRzCi2ssY/d22ZnggG0T/0kcwotrLWP3K2/7JjX9w/d22ZnggG4T+2/7JjX9zjP/SRzCi2suY/MyTm7QyJ6T9ytv+yY1/sP7BIGXi6Ne8/d22ZnggG8T+WNiYBNHHyP7b/smNf3PM/1sg/xopH9T/0kcwotrL2PxNbWYvhHfg/MyTm7QyJ+T9T7XJQOPT6P3K2/7JjX/w/kH+MFY/K/T+wSBl4ujX/P+gIU+1yUABAd22ZnggGAUAG0t9PnrsBQJY2JgE0cQJAJptssskmA0C2/7JjX9wDQEVk+RT1kQRA1sg/xopHBUBlLYZ3IP0FQPSRzCi2sgZAhPYS2ktoB0ATW1mL4R0IQKS/nzx30whAMyTm7QyJCUDCiCyfoj4KQFPtclA49ApA4lG5Ac6pC0Bytv+yY18MQAEbRmT5FA1AkH+MFY/KDUAh5NLGJIAOQLBIGXi6NQ9AQK1fKVDrD0DoCFPtclAQQDA79sU9qxBAd22ZnggGEUC/nzx302ARQAbS30+euxFATwSDKGkWEkCWNiYBNHESQN9oydn+yxJAJptssskmE0BuzQ+LlIETQLb/smNf3BNA/jFWPCo3FEBFZPkU9ZEUQI2WnO2/7BRA1sg/xopHFUAe++KeVaIVQGUthncg/RVArV8pUOtXFkD0kcwotrIWQD3EbwGBDRdAhPYS2ktoF0DMKLayFsMXQBNbWYvhHRhAXI38Y6x4GECkv588d9MYQOzxQhVCLhlAMyTm7QyJGUB7VonG1+MZQMKILJ+iPhpAC7vPd22ZGkBT7XJQOPQaQJsfFikDTxtA4lG5Ac6pG0AqhFzamAQcQHK2/7JjXxxAuuiiiy66HEABG0Zk+RQdQElN6TzEbx1AkH+MFY/KHUDasS/uWSUeQCHk0sYkgB5AaRZ2n+/aHkCwSBl4ujUfQPl6vFCFkB9AQK1fKVDrH0DEbwGBDSMgQOgIU+1yUCBADKKkWdh9IEAwO/bFPasgQFTURzKj2CBAd22ZnggGIUCcBusKbjMhQL+fPHfTYCFA4ziO4ziOIUA=\",\"dtype\":\"float64\",\"order\":\"little\",\"shape\":[100]},\"y\":{\"__ndarray__\":\"AAAAAAAAAAASAAAAAAAkQBcAAAAAACRAFwAAAAAAJEAXAAAAAAAkQBcAAAAAACRAFwAAAAAAJEAXAAAAAAAkQBcAAAAAACRAFwAAAAAAJEAXAAAAAAAkQBcAAAAAACRAFwAAAAAAJEAXAAAAAAAkQBcAAAAAACRAFwAAAAAAJEAXAAAAAAAkQBcAAAAAACRAFwAAAAAAJEAXAAAAAAAkQBcAAAAAACRAFwAAAAAAJEAXAAAAAAAkQBcAAAAAACRAFwAAAAAAJEAXAAAAAAAkQBcAAAAAACRAFwAAAAAAJEAXAAAAAAAkQBcAAAAAACRAFwAAAAAAJEAXAAAAAAAkQBcAAAAAACRAFwAAAAAAJEAXAAAAAAAkQBcAAAAAACRAFwAAAAAAJEAXAAAAAAAkQBcAAAAAACRAFwAAAAAAJEAXAAAAAAAkQBcAAAAAACRAFwAAAAAAJEAXAAAAAAAkQBcAAAAAACRAFwAAAAAAJEAXAAAAAAAkQBcAAAAAACRAFwAAAAAAJEAXAAAAAAAkQBcAAAAAACRAFwAAAAAAJEAXAAAAAAAkQBcAAAAAACRAFwAAAAAAJEAXAAAAAAAkQBcAAAAAACRAFwAAAAAAJEAXAAAAAAAkQBcAAAAAACRAFwAAAAAAJEAXAAAAAAAkQBcAAAAAACRAFwAAAAAAJEAXAAAAAAAkQBcAAAAAACRAFwAAAAAAJEAXAAAAAAAkQBcAAAAAACRAFwAAAAAAJEAXAAAAAAAkQBcAAAAAACRAFwAAAAAAJEAXAAAAAAAkQBcAAAAAACRAFwAAAAAAJEAXAAAAAAAkQBcAAAAAACRAFwAAAAAAJEAXAAAAAAAkQBcAAAAAACRAFwAAAAAAJEAXAAAAAAAkQBcAAAAAACRAFwAAAAAAJEAXAAAAAAAkQBcAAAAAACRAFwAAAAAAJEAXAAAAAAAkQBcAAAAAACRAFwAAAAAAJEAXAAAAAAAkQBcAAAAAACRAFwAAAAAAJEAXAAAAAAAkQBcAAAAAACRAFwAAAAAAJEAXAAAAAAAkQBcAAAAAACRAFwAAAAAAJEA=\",\"dtype\":\"float64\",\"order\":\"little\",\"shape\":[100]}},\"selected\":{\"id\":\"1113\"},\"selection_policy\":{\"id\":\"1114\"}},\"id\":\"1099\",\"type\":\"ColumnDataSource\"},{\"attributes\":{\"data_source\":{\"id\":\"1784\"},\"glyph\":{\"id\":\"1785\"},\"hover_glyph\":null,\"muted_glyph\":null,\"nonselection_glyph\":{\"id\":\"1786\"},\"selection_glyph\":null,\"view\":{\"id\":\"1788\"}},\"id\":\"1787\",\"type\":\"GlyphRenderer\"},{\"attributes\":{\"line_color\":\"#2ba02b\",\"line_width\":2,\"x\":{\"field\":\"x\"},\"y\":{\"field\":\"y\"}},\"id\":\"1100\",\"type\":\"Line\"},{\"attributes\":{\"text\":\"with ATP Synthase, Proton Pump, ATP Use\"},\"id\":\"1683\",\"type\":\"Title\"},{\"attributes\":{},\"id\":\"1113\",\"type\":\"Selection\"},{\"attributes\":{\"line_alpha\":0.1,\"line_color\":\"#8c564b\",\"line_width\":2,\"x\":{\"field\":\"x\"},\"y\":{\"field\":\"y\"}},\"id\":\"1786\",\"type\":\"Line\"},{\"attributes\":{},\"id\":\"1685\",\"type\":\"DataRange1d\"},{\"attributes\":{\"source\":{\"id\":\"1099\"}},\"id\":\"1103\",\"type\":\"CDSView\"},{\"attributes\":{},\"id\":\"1802\",\"type\":\"Selection\"},{\"attributes\":{\"data_source\":{\"id\":\"1099\"},\"glyph\":{\"id\":\"1100\"},\"hover_glyph\":null,\"muted_glyph\":null,\"nonselection_glyph\":{\"id\":\"1101\"},\"selection_glyph\":null,\"view\":{\"id\":\"1103\"}},\"id\":\"1102\",\"type\":\"GlyphRenderer\"},{\"attributes\":{},\"id\":\"1687\",\"type\":\"DataRange1d\"},{\"attributes\":{\"line_alpha\":0.1,\"line_color\":\"#2ba02b\",\"line_width\":2,\"x\":{\"field\":\"x\"},\"y\":{\"field\":\"y\"}},\"id\":\"1101\",\"type\":\"Line\"},{\"attributes\":{},\"id\":\"1694\",\"type\":\"BasicTicker\"},{\"attributes\":{\"label\":{\"value\":\"inside_H\"},\"renderers\":[{\"id\":\"1102\"}]},\"id\":\"1116\",\"type\":\"LegendItem\"},{\"attributes\":{},\"id\":\"1689\",\"type\":\"LinearScale\"},{\"attributes\":{\"text\":\"with ATP Synthase\"},\"id\":\"1036\",\"type\":\"Title\"},{\"attributes\":{},\"id\":\"1691\",\"type\":\"LinearScale\"},{\"attributes\":{},\"id\":\"1114\",\"type\":\"UnionRenderers\"},{\"attributes\":{\"axis_label\":\"time (hrs)\",\"formatter\":{\"id\":\"1074\"},\"ticker\":{\"id\":\"1047\"}},\"id\":\"1046\",\"type\":\"LinearAxis\"},{\"attributes\":{\"axis\":{\"id\":\"1693\"},\"ticker\":null},\"id\":\"1696\",\"type\":\"Grid\"},{\"attributes\":{\"data\":{\"x\":{\"__ndarray__\":\"AAAAAAAAAAD0kcwotrK2P/SRzCi2ssY/d22ZnggG0T/0kcwotrLWP3K2/7JjX9w/d22ZnggG4T+2/7JjX9zjP/SRzCi2suY/MyTm7QyJ6T9ytv+yY1/sP7BIGXi6Ne8/d22ZnggG8T+WNiYBNHHyP7b/smNf3PM/1sg/xopH9T/0kcwotrL2PxNbWYvhHfg/MyTm7QyJ+T9T7XJQOPT6P3K2/7JjX/w/kH+MFY/K/T+wSBl4ujX/P+gIU+1yUABAd22ZnggGAUAG0t9PnrsBQJY2JgE0cQJAJptssskmA0C2/7JjX9wDQEVk+RT1kQRA1sg/xopHBUBlLYZ3IP0FQPSRzCi2sgZAhPYS2ktoB0ATW1mL4R0IQKS/nzx30whAMyTm7QyJCUDCiCyfoj4KQFPtclA49ApA4lG5Ac6pC0Bytv+yY18MQAEbRmT5FA1AkH+MFY/KDUAh5NLGJIAOQLBIGXi6NQ9AQK1fKVDrD0DoCFPtclAQQDA79sU9qxBAd22ZnggGEUC/nzx302ARQAbS30+euxFATwSDKGkWEkCWNiYBNHESQN9oydn+yxJAJptssskmE0BuzQ+LlIETQLb/smNf3BNA/jFWPCo3FEBFZPkU9ZEUQI2WnO2/7BRA1sg/xopHFUAe++KeVaIVQGUthncg/RVArV8pUOtXFkD0kcwotrIWQD3EbwGBDRdAhPYS2ktoF0DMKLayFsMXQBNbWYvhHRhAXI38Y6x4GECkv588d9MYQOzxQhVCLhlAMyTm7QyJGUB7VonG1+MZQMKILJ+iPhpAC7vPd22ZGkBT7XJQOPQaQJsfFikDTxtA4lG5Ac6pG0AqhFzamAQcQHK2/7JjXxxAuuiiiy66HEABG0Zk+RQdQElN6TzEbx1AkH+MFY/KHUDasS/uWSUeQCHk0sYkgB5AaRZ2n+/aHkCwSBl4ujUfQPl6vFCFkB9AQK1fKVDrH0DEbwGBDSMgQOgIU+1yUCBADKKkWdh9IEAwO/bFPasgQFTURzKj2CBAd22ZnggGIUCcBusKbjMhQL+fPHfTYCFA4ziO4ziOIUA=\",\"dtype\":\"float64\",\"order\":\"little\",\"shape\":[100]},\"y\":{\"__ndarray__\":\"AAAAAAAAAAC6Lm4HIAUzQOLM9/klBDRATv/YC1UHNEB3xh4RWAc0QO5ByxFYBzRAertbEVgHNEBE254QWAc0QLd7IRBYBzRAIDmwDlgHNEBbeHwNWAc0QPM2fQ1YBzRAV8R9DVgHNEA6/X0NWAc0QDIRfg1YBzRAexZ+DVgHNEDEF34NWAc0QPUXfg1YBzRAHRh+DVgHNEBVGH4NWAc0QEkYfg1YBzRAPRh+DVgHNEBKGH4NWAc0QP0Zfg1YBzRA9xl+DVgHNEDLEX4NWAc0QPylfQ1YBzRA4J99DVgHNEAY+n0NWAc0QKvzfQ1YBzRA1gB+DVgHNEAc730NWAc0QDnkfQ1YBzRAMJp9DVgHNEDcMX4NWAc0QLL2fQ1YBzRA5vZ9DVgHNEB/6n0NWAc0QMMLfg1YBzRADMZ9DVgHNEAIHnwNWAc0QEs3hg1YBzRAqrh4DVgHNEAxHYANWAc0QHblfQ1YBzRAlBB+DVgHNEC3S34NWAc0QOrsfQ1YBzRA5/V9DVgHNEBn+H0NWAc0QGb4fQ1YBzRAjPZ9DVgHNECO930NWAc0QN34fQ1YBzRAtfd9DVgHNEDK930NWAc0QLb3fQ1YBzRApPd9DVgHNECY930NWAc0QK73fQ1YBzRAsvd9DVgHNECz930NWAc0QKf3fQ1YBzRAnfd9DVgHNECl930NWAc0QKH3fQ1YBzRApvd9DVgHNECt930NWAc0QK/3fQ1YBzRArPd9DVgHNECr930NWAc0QKv3fQ1YBzRAqvd9DVgHNECq930NWAc0QKz3fQ1YBzRArfd9DVgHNECs930NWAc0QK/3fQ1YBzRAsfd9DVgHNECw930NWAc0QKv3fQ1YBzRAq/d9DVgHNECq930NWAc0QKr3fQ1YBzRAqfd9DVgHNECp930NWAc0QKj3fQ1YBzRAqfd9DVgHNECq930NWAc0QKr3fQ1YBzRAqvd9DVgHNECq930NWAc0QKr3fQ1YBzRAqvd9DVgHNECq930NWAc0QKr3fQ1YBzRAqvd9DVgHNECq930NWAc0QKr3fQ1YBzRAqvd9DVgHNEA=\",\"dtype\":\"float64\",\"order\":\"little\",\"shape\":[100]}},\"selected\":{\"id\":\"1133\"},\"selection_policy\":{\"id\":\"1134\"}},\"id\":\"1117\",\"type\":\"ColumnDataSource\"},{\"attributes\":{\"axis\":{\"id\":\"1697\"},\"dimension\":1,\"ticker\":null},\"id\":\"1700\",\"type\":\"Grid\"},{\"attributes\":{\"line_color\":\"#9367bc\",\"line_width\":2,\"x\":{\"field\":\"x\"},\"y\":{\"field\":\"y\"}},\"id\":\"1118\",\"type\":\"Line\"},{\"attributes\":{\"source\":{\"id\":\"1117\"}},\"id\":\"1121\",\"type\":\"CDSView\"},{\"attributes\":{},\"id\":\"1698\",\"type\":\"BasicTicker\"},{\"attributes\":{},\"id\":\"1133\",\"type\":\"Selection\"},{\"attributes\":{\"axis_label\":\"concentration (nM)\",\"formatter\":{\"id\":\"1723\"},\"ticker\":{\"id\":\"1698\"}},\"id\":\"1697\",\"type\":\"LinearAxis\"},{\"attributes\":{\"text\":\"only ATP Use\"},\"id\":\"1138\",\"type\":\"Title\"},{\"attributes\":{\"data_source\":{\"id\":\"1117\"},\"glyph\":{\"id\":\"1118\"},\"hover_glyph\":null,\"muted_glyph\":null,\"nonselection_glyph\":{\"id\":\"1119\"},\"selection_glyph\":null,\"view\":{\"id\":\"1121\"}},\"id\":\"1120\",\"type\":\"GlyphRenderer\"},{\"attributes\":{\"data\":{\"x\":{\"__ndarray__\":\"AAAAAAAAAAD0kcwotrK2P/SRzCi2ssY/d22ZnggG0T/0kcwotrLWP3K2/7JjX9w/d22ZnggG4T+2/7JjX9zjP/SRzCi2suY/MyTm7QyJ6T9ytv+yY1/sP7BIGXi6Ne8/d22ZnggG8T+WNiYBNHHyP7b/smNf3PM/1sg/xopH9T/0kcwotrL2PxNbWYvhHfg/MyTm7QyJ+T9T7XJQOPT6P3K2/7JjX/w/kH+MFY/K/T+wSBl4ujX/P+gIU+1yUABAd22ZnggGAUAG0t9PnrsBQJY2JgE0cQJAJptssskmA0C2/7JjX9wDQEVk+RT1kQRA1sg/xopHBUBlLYZ3IP0FQPSRzCi2sgZAhPYS2ktoB0ATW1mL4R0IQKS/nzx30whAMyTm7QyJCUDCiCyfoj4KQFPtclA49ApA4lG5Ac6pC0Bytv+yY18MQAEbRmT5FA1AkH+MFY/KDUAh5NLGJIAOQLBIGXi6NQ9AQK1fKVDrD0DoCFPtclAQQDA79sU9qxBAd22ZnggGEUC/nzx302ARQAbS30+euxFATwSDKGkWEkCWNiYBNHESQN9oydn+yxJAJptssskmE0BuzQ+LlIETQLb/smNf3BNA/jFWPCo3FEBFZPkU9ZEUQI2WnO2/7BRA1sg/xopHFUAe++KeVaIVQGUthncg/RVArV8pUOtXFkD0kcwotrIWQD3EbwGBDRdAhPYS2ktoF0DMKLayFsMXQBNbWYvhHRhAXI38Y6x4GECkv588d9MYQOzxQhVCLhlAMyTm7QyJGUB7VonG1+MZQMKILJ+iPhpAC7vPd22ZGkBT7XJQOPQaQJsfFikDTxtA4lG5Ac6pG0AqhFzamAQcQHK2/7JjXxxAuuiiiy66HEABG0Zk+RQdQElN6TzEbx1AkH+MFY/KHUDasS/uWSUeQCHk0sYkgB5AaRZ2n+/aHkCwSBl4ujUfQPl6vFCFkB9AQK1fKVDrH0DEbwGBDSMgQOgIU+1yUCBADKKkWdh9IEAwO/bFPasgQFTURzKj2CBAd22ZnggGIUCcBusKbjMhQL+fPHfTYCFA4ziO4ziOIUA=\",\"dtype\":\"float64\",\"order\":\"little\",\"shape\":[100]},\"y\":{\"__ndarray__\":\"AAAAAGDjNkHZxXw5/t82QdnFfDn+3zZB2cV8Of7fNkHZxXw5/t82QdnFfDn+3zZB2cV8Of7fNkHZxXw5/t82QdnFfDn+3zZB2cV8Of7fNkHZxXw5/t82QdnFfDn+3zZB2cV8Of7fNkHZxXw5/t82QdnFfDn+3zZB2cV8Of7fNkHZxXw5/t82QdnFfDn+3zZB2cV8Of7fNkHZxXw5/t82QdnFfDn+3zZB2cV8Of7fNkHZxXw5/t82QdnFfDn+3zZB2cV8Of7fNkHZxXw5/t82QdnFfDn+3zZB2cV8Of7fNkHZxXw5/t82QdnFfDn+3zZB2cV8Of7fNkHZxXw5/t82QdnFfDn+3zZB2cV8Of7fNkHZxXw5/t82QdnFfDn+3zZB2cV8Of7fNkHZxXw5/t82QdnFfDn+3zZB2cV8Of7fNkHZxXw5/t82QdnFfDn+3zZB2cV8Of7fNkHZxXw5/t82QdnFfDn+3zZB2cV8Of7fNkHZxXw5/t82QdnFfDn+3zZB2cV8Of7fNkHZxXw5/t82QdnFfDn+3zZB2cV8Of7fNkHZxXw5/t82QdnFfDn+3zZB2cV8Of7fNkHZxXw5/t82QdnFfDn+3zZB2cV8Of7fNkHZxXw5/t82QdnFfDn+3zZB2cV8Of7fNkHZxXw5/t82QdnFfDn+3zZB2cV8Of7fNkHZxXw5/t82QdnFfDn+3zZB2cV8Of7fNkHZxXw5/t82QdnFfDn+3zZB2cV8Of7fNkHZxXw5/t82QdnFfDn+3zZB2cV8Of7fNkHZxXw5/t82QdnFfDn+3zZB2cV8Of7fNkHZxXw5/t82QdnFfDn+3zZB2cV8Of7fNkHZxXw5/t82QdnFfDn+3zZB2cV8Of7fNkHZxXw5/t82QdnFfDn+3zZB2cV8Of7fNkHZxXw5/t82QdnFfDn+3zZB2cV8Of7fNkHZxXw5/t82QdnFfDn+3zZB2cV8Of7fNkHZxXw5/t82QdnFfDn+3zZB2cV8Of7fNkHZxXw5/t82QdnFfDn+3zZB2cV8Of7fNkHZxXw5/t82QdnFfDn+3zZB2cV8Of7fNkE=\",\"dtype\":\"float64\",\"order\":\"little\",\"shape\":[100]}},\"selected\":{\"id\":\"1725\"},\"selection_policy\":{\"id\":\"1726\"}},\"id\":\"1715\",\"type\":\"ColumnDataSource\"},{\"attributes\":{\"line_alpha\":0.1,\"line_color\":\"#9367bc\",\"line_width\":2,\"x\":{\"field\":\"x\"},\"y\":{\"field\":\"y\"}},\"id\":\"1119\",\"type\":\"Line\"},{\"attributes\":{\"active_drag\":\"auto\",\"active_inspect\":\"auto\",\"active_multi\":null,\"active_scroll\":\"auto\",\"active_tap\":\"auto\",\"tools\":[{\"id\":\"1701\"},{\"id\":\"1702\"},{\"id\":\"1703\"},{\"id\":\"1704\"},{\"id\":\"1705\"},{\"id\":\"1706\"}]},\"id\":\"1708\",\"type\":\"Toolbar\"},{\"attributes\":{\"label\":{\"value\":\"bound atp synthase\"},\"renderers\":[{\"id\":\"1120\"}]},\"id\":\"1136\",\"type\":\"LegendItem\"},{\"attributes\":{\"line_color\":\"#1f77b3\",\"line_width\":2,\"x\":{\"field\":\"x\"},\"y\":{\"field\":\"y\"}},\"id\":\"1716\",\"type\":\"Line\"},{\"attributes\":{},\"id\":\"1134\",\"type\":\"UnionRenderers\"},{\"attributes\":{\"below\":[{\"id\":\"1046\"}],\"center\":[{\"id\":\"1049\"},{\"id\":\"1053\"},{\"id\":\"1081\"}],\"left\":[{\"id\":\"1050\"}],\"plot_height\":350,\"plot_width\":450,\"renderers\":[{\"id\":\"1071\"},{\"id\":\"1086\"},{\"id\":\"1102\"},{\"id\":\"1120\"}],\"title\":{\"id\":\"1036\"},\"toolbar\":{\"id\":\"1061\"},\"x_range\":{\"id\":\"1038\"},\"x_scale\":{\"id\":\"1042\"},\"y_range\":{\"id\":\"1040\"},\"y_scale\":{\"id\":\"1044\"}},\"id\":\"1035\",\"subtype\":\"Figure\",\"type\":\"Plot\"},{\"attributes\":{},\"id\":\"1701\",\"type\":\"PanTool\"},{\"attributes\":{},\"id\":\"1702\",\"type\":\"WheelZoomTool\"},{\"attributes\":{\"line_alpha\":0.1,\"line_color\":\"#1f77b3\",\"line_width\":2,\"x\":{\"field\":\"x\"},\"y\":{\"field\":\"y\"}},\"id\":\"1070\",\"type\":\"Line\"},{\"attributes\":{\"bottom_units\":\"screen\",\"fill_alpha\":0.5,\"fill_color\":\"lightgrey\",\"left_units\":\"screen\",\"level\":\"overlay\",\"line_alpha\":1.0,\"line_color\":\"black\",\"line_dash\":[4,4],\"line_width\":2,\"right_units\":\"screen\",\"top_units\":\"screen\"},\"id\":\"1162\",\"type\":\"BoxAnnotation\"},{\"attributes\":{\"overlay\":{\"id\":\"1707\"}},\"id\":\"1703\",\"type\":\"BoxZoomTool\"},{\"attributes\":{},\"id\":\"1704\",\"type\":\"SaveTool\"},{\"attributes\":{},\"id\":\"1038\",\"type\":\"DataRange1d\"},{\"attributes\":{},\"id\":\"1705\",\"type\":\"ResetTool\"},{\"attributes\":{\"axis\":{\"id\":\"1046\"},\"ticker\":null},\"id\":\"1049\",\"type\":\"Grid\"},{\"attributes\":{},\"id\":\"1140\",\"type\":\"DataRange1d\"},{\"attributes\":{},\"id\":\"1178\",\"type\":\"BasicTickFormatter\"},{\"attributes\":{},\"id\":\"1142\",\"type\":\"DataRange1d\"},{\"attributes\":{\"items\":[{\"id\":\"1184\"}]},\"id\":\"1183\",\"type\":\"Legend\"},{\"attributes\":{\"source\":{\"id\":\"1715\"}},\"id\":\"1719\",\"type\":\"CDSView\"},{\"attributes\":{},\"id\":\"1040\",\"type\":\"DataRange1d\"},{\"attributes\":{},\"id\":\"1706\",\"type\":\"HelpTool\"},{\"attributes\":{},\"id\":\"1176\",\"type\":\"BasicTickFormatter\"},{\"attributes\":{},\"id\":\"1144\",\"type\":\"LinearScale\"},{\"attributes\":{},\"id\":\"1047\",\"type\":\"BasicTicker\"},{\"attributes\":{},\"id\":\"1146\",\"type\":\"LinearScale\"},{\"attributes\":{},\"id\":\"1042\",\"type\":\"LinearScale\"},{\"attributes\":{},\"id\":\"1044\",\"type\":\"LinearScale\"},{\"attributes\":{\"label\":{\"value\":\"atp\"},\"renderers\":[{\"id\":\"1718\"}]},\"id\":\"1729\",\"type\":\"LegendItem\"},{\"attributes\":{},\"id\":\"1180\",\"type\":\"Selection\"},{\"attributes\":{\"axis_label\":\"time (hrs)\",\"formatter\":{\"id\":\"1176\"},\"ticker\":{\"id\":\"1149\"}},\"id\":\"1148\",\"type\":\"LinearAxis\"},{\"attributes\":{\"line_alpha\":0.1,\"line_color\":\"#ff7e0e\",\"line_width\":2,\"x\":{\"field\":\"x\"},\"y\":{\"field\":\"y\"}},\"id\":\"1732\",\"type\":\"Line\"},{\"attributes\":{\"axis\":{\"id\":\"1152\"},\"dimension\":1,\"ticker\":null},\"id\":\"1155\",\"type\":\"Grid\"},{\"attributes\":{},\"id\":\"1181\",\"type\":\"UnionRenderers\"},{\"attributes\":{},\"id\":\"1149\",\"type\":\"BasicTicker\"},{\"attributes\":{\"source\":{\"id\":\"1730\"}},\"id\":\"1734\",\"type\":\"CDSView\"},{\"attributes\":{\"axis\":{\"id\":\"1050\"},\"dimension\":1,\"ticker\":null},\"id\":\"1053\",\"type\":\"Grid\"},{\"attributes\":{\"axis\":{\"id\":\"1148\"},\"ticker\":null},\"id\":\"1151\",\"type\":\"Grid\"},{\"attributes\":{\"label\":{\"value\":\"atp\"},\"renderers\":[{\"id\":\"1173\"}]},\"id\":\"1184\",\"type\":\"LegendItem\"},{\"attributes\":{},\"id\":\"1051\",\"type\":\"BasicTicker\"},{\"attributes\":{},\"id\":\"1153\",\"type\":\"BasicTicker\"},{\"attributes\":{\"data_source\":{\"id\":\"1730\"},\"glyph\":{\"id\":\"1731\"},\"hover_glyph\":null,\"muted_glyph\":null,\"nonselection_glyph\":{\"id\":\"1732\"},\"selection_glyph\":null,\"view\":{\"id\":\"1734\"}},\"id\":\"1733\",\"type\":\"GlyphRenderer\"},{\"attributes\":{\"axis_label\":\"concentration (nM)\",\"formatter\":{\"id\":\"1076\"},\"ticker\":{\"id\":\"1051\"}},\"id\":\"1050\",\"type\":\"LinearAxis\"},{\"attributes\":{\"axis_label\":\"concentration (nM)\",\"formatter\":{\"id\":\"1178\"},\"ticker\":{\"id\":\"1153\"}},\"id\":\"1152\",\"type\":\"LinearAxis\"},{\"attributes\":{\"line_color\":\"#ff7e0e\",\"line_width\":2,\"x\":{\"field\":\"x\"},\"y\":{\"field\":\"y\"}},\"id\":\"1731\",\"type\":\"Line\"},{\"attributes\":{},\"id\":\"1726\",\"type\":\"UnionRenderers\"},{\"attributes\":{\"data\":{\"x\":{\"__ndarray__\":\"AAAAAAAAAAD0kcwotrK2P/SRzCi2ssY/d22ZnggG0T/0kcwotrLWP3K2/7JjX9w/d22ZnggG4T+2/7JjX9zjP/SRzCi2suY/MyTm7QyJ6T9ytv+yY1/sP7BIGXi6Ne8/d22ZnggG8T+WNiYBNHHyP7b/smNf3PM/1sg/xopH9T/0kcwotrL2PxNbWYvhHfg/MyTm7QyJ+T9T7XJQOPT6P3K2/7JjX/w/kH+MFY/K/T+wSBl4ujX/P+gIU+1yUABAd22ZnggGAUAG0t9PnrsBQJY2JgE0cQJAJptssskmA0C2/7JjX9wDQEVk+RT1kQRA1sg/xopHBUBlLYZ3IP0FQPSRzCi2sgZAhPYS2ktoB0ATW1mL4R0IQKS/nzx30whAMyTm7QyJCUDCiCyfoj4KQFPtclA49ApA4lG5Ac6pC0Bytv+yY18MQAEbRmT5FA1AkH+MFY/KDUAh5NLGJIAOQLBIGXi6NQ9AQK1fKVDrD0DoCFPtclAQQDA79sU9qxBAd22ZnggGEUC/nzx302ARQAbS30+euxFATwSDKGkWEkCWNiYBNHESQN9oydn+yxJAJptssskmE0BuzQ+LlIETQLb/smNf3BNA/jFWPCo3FEBFZPkU9ZEUQI2WnO2/7BRA1sg/xopHFUAe++KeVaIVQGUthncg/RVArV8pUOtXFkD0kcwotrIWQD3EbwGBDRdAhPYS2ktoF0DMKLayFsMXQBNbWYvhHRhAXI38Y6x4GECkv588d9MYQOzxQhVCLhlAMyTm7QyJGUB7VonG1+MZQMKILJ+iPhpAC7vPd22ZGkBT7XJQOPQaQJsfFikDTxtA4lG5Ac6pG0AqhFzamAQcQHK2/7JjXxxAuuiiiy66HEABG0Zk+RQdQElN6TzEbx1AkH+MFY/KHUDasS/uWSUeQCHk0sYkgB5AaRZ2n+/aHkCwSBl4ujUfQPl6vFCFkB9AQK1fKVDrH0DEbwGBDSMgQOgIU+1yUCBADKKkWdh9IEAwO/bFPasgQFTURzKj2CBAd22ZnggGIUCcBusKbjMhQL+fPHfTYCFA4ziO4ziOIUA=\",\"dtype\":\"float64\",\"order\":\"little\",\"shape\":[100]},\"y\":{\"__ndarray__\":\"AAAAAGDjNkHLxXw5/t82QcvFfDn+3zZBy8V8Of7fNkHLxXw5/t82QcvFfDn+3zZBy8V8Of7fNkHLxXw5/t82QcvFfDn+3zZBysV8Of7fNkHKxXw5/t82QcrFfDn+3zZBysV8Of7fNkHKxXw5/t82QcrFfDn+3zZBysV8Of7fNkHKxXw5/t82QcrFfDn+3zZBysV8Of7fNkHKxXw5/t82QcrFfDn+3zZBysV8Of7fNkHJxXw5/t82QajFfDn+3zZB0MR8Of7fNkHhzHw5/t82QZ3KfDn+3zZBJt18Of7fNkHCwHw5/t82QVvFfDn+3zZBycV8Of7fNkHJxXw5/t82QcnFfDn+3zZBycV8Of7fNkHJxXw5/t82QcnFfDn+3zZBycV8Of7fNkHJxXw5/t82QcnFfDn+3zZBycV8Of7fNkHJxXw5/t82QcnFfDn+3zZBycV8Of7fNkHJxXw5/t82QcnFfDn+3zZBycV8Of7fNkHJxXw5/t82QcnFfDn+3zZBycV8Of7fNkHJxXw5/t82QcnFfDn+3zZBycV8Of7fNkHJxXw5/t82QcnFfDn+3zZBycV8Of7fNkHJxXw5/t82QcnFfDn+3zZBycV8Of7fNkHJxXw5/t82QcnFfDn+3zZBycV8Of7fNkHJxXw5/t82QcnFfDn+3zZBycV8Of7fNkHJxXw5/t82QcnFfDn+3zZBycV8Of7fNkHJxXw5/t82QcnFfDn+3zZBycV8Of7fNkHJxXw5/t82QcnFfDn+3zZBycV8Of7fNkHJxXw5/t82QcnFfDn+3zZBycV8Of7fNkHJxXw5/t82QcnFfDn+3zZBycV8Of7fNkHJxXw5/t82QcnFfDn+3zZBycV8Of7fNkHJxXw5/t82QcnFfDn+3zZBycV8Of7fNkHJxXw5/t82QcnFfDn+3zZBycV8Of7fNkHJxXw5/t82QcnFfDn+3zZBycV8Of7fNkHJxXw5/t82QcnFfDn+3zZBycV8Of7fNkHJxXw5/t82QcnFfDn+3zZBycV8Of7fNkHJxXw5/t82QcnFfDn+3zZBycV8Of7fNkE=\",\"dtype\":\"float64\",\"order\":\"little\",\"shape\":[100]}},\"selected\":{\"id\":\"1078\"},\"selection_policy\":{\"id\":\"1079\"}},\"id\":\"1068\",\"type\":\"ColumnDataSource\"},{\"attributes\":{\"line_color\":\"#1f77b3\",\"line_width\":2,\"x\":{\"field\":\"x\"},\"y\":{\"field\":\"y\"}},\"id\":\"1171\",\"type\":\"Line\"},{\"attributes\":{\"bottom_units\":\"screen\",\"fill_alpha\":0.5,\"fill_color\":\"lightgrey\",\"left_units\":\"screen\",\"level\":\"overlay\",\"line_alpha\":1.0,\"line_color\":\"black\",\"line_dash\":[4,4],\"line_width\":2,\"right_units\":\"screen\",\"top_units\":\"screen\"},\"id\":\"1707\",\"type\":\"BoxAnnotation\"},{\"attributes\":{\"data\":{\"x\":{\"__ndarray__\":\"AAAAAAAAAAD0kcwotrK2P/SRzCi2ssY/d22ZnggG0T/0kcwotrLWP3K2/7JjX9w/d22ZnggG4T+2/7JjX9zjP/SRzCi2suY/MyTm7QyJ6T9ytv+yY1/sP7BIGXi6Ne8/d22ZnggG8T+WNiYBNHHyP7b/smNf3PM/1sg/xopH9T/0kcwotrL2PxNbWYvhHfg/MyTm7QyJ+T9T7XJQOPT6P3K2/7JjX/w/kH+MFY/K/T+wSBl4ujX/P+gIU+1yUABAd22ZnggGAUAG0t9PnrsBQJY2JgE0cQJAJptssskmA0C2/7JjX9wDQEVk+RT1kQRA1sg/xopHBUBlLYZ3IP0FQPSRzCi2sgZAhPYS2ktoB0ATW1mL4R0IQKS/nzx30whAMyTm7QyJCUDCiCyfoj4KQFPtclA49ApA4lG5Ac6pC0Bytv+yY18MQAEbRmT5FA1AkH+MFY/KDUAh5NLGJIAOQLBIGXi6NQ9AQK1fKVDrD0DoCFPtclAQQDA79sU9qxBAd22ZnggGEUC/nzx302ARQAbS30+euxFATwSDKGkWEkCWNiYBNHESQN9oydn+yxJAJptssskmE0BuzQ+LlIETQLb/smNf3BNA/jFWPCo3FEBFZPkU9ZEUQI2WnO2/7BRA1sg/xopHFUAe++KeVaIVQGUthncg/RVArV8pUOtXFkD0kcwotrIWQD3EbwGBDRdAhPYS2ktoF0DMKLayFsMXQBNbWYvhHRhAXI38Y6x4GECkv588d9MYQOzxQhVCLhlAMyTm7QyJGUB7VonG1+MZQMKILJ+iPhpAC7vPd22ZGkBT7XJQOPQaQJsfFikDTxtA4lG5Ac6pG0AqhFzamAQcQHK2/7JjXxxAuuiiiy66HEABG0Zk+RQdQElN6TzEbx1AkH+MFY/KHUDasS/uWSUeQCHk0sYkgB5AaRZ2n+/aHkCwSBl4ujUfQPl6vFCFkB9AQK1fKVDrH0DEbwGBDSMgQOgIU+1yUCBADKKkWdh9IEAwO/bFPasgQFTURzKj2CBAd22ZnggGIUCcBusKbjMhQL+fPHfTYCFA4ziO4ziOIUA=\",\"dtype\":\"float64\",\"order\":\"little\",\"shape\":[100]},\"y\":{\"__ndarray__\":\"AAAAAGDjNkGLNuwbR2ikuvByQU8maIO6fFEkq3hAxjkMbzOawOadOf5W0cm2ePY4FyEB1OQ69Tgx6zDeEv3zOEu1YOhAv/I4Zn+Q8m6B8Th/ScD8nEPwODQn4A2WC+44Z7s/IvKP6zicT582ThTpONDj/kqqmOY4A3heXwYd5Dg4DL5zYqHhONpAOxB9S944QWn6ODVU2Tinkblh7VzUOCR08RRLy84498RvZrvcxDiJK9xvV9y1OBzSjC2B8384U9/Fz23pITiLyTjJn+ogOIdnV4Wj1x849Ts9eAfaHThlECNra9wbONbkCF7P3hk4QrnuUDPhFzizjdRDl+MVOCNiujb75RM4lDagKV/oETgJFgw5htUPOOS+1x5O2gs4w2ejBBbfBzilEG/q3eMDOP5ydaBL0f83wMQMbNva9zcFLUhv1sjvNw+h7Qzst983jsAXpxerGzej2UpenIUbN7byfRUhYBs3yguxzKU6GzfeJOSDKhUbN/I9Fzuv7xo3BVdK8jPKGjcZcH2puKQaNy2JsGA9fxo3QKLjF8JZGjdVuxbPRjQaN2nUSYbLDho3fe18PVDpGTeQBrD01MMZN6Qf46tZnhk3uDgWY954GTfMUUkaY1MZN+BqfNHnLRk384OviGwIGTcIneI/8eIYNxu2Ffd1vRg3L89IrvqXGDdD6Htlf3IYN1cBrxwETRg3axri04gnGDd+MxWLDQIYN5JMSEKS3Bc3pmV7+Ra3Fze5fq6wm5EXN86X4WcgbBc34rAUH6VGFzf2yUfWKSEXNwnjeo2u+xY3HfytRDPWFjcxFeH7t7AWN0QuFLM8ixY3WEdHasFlFjduYHohRkAWN4F5rdjKGhY3lJLgj0/1FTepqxNH1M8VN73ERv5YqhU30N15td2EFTfk9qxsYl8VN/gP4CPnORU3CykT22sUFTcfQkaS8O4UNzRbeUl1yRQ3SHSsAPqjFDdbjd+3fn4UN2+mEm8DWRQ3g79FJogzFDeW2HjdDA4UN6rxq5SR6BM3vgrfSxbDEzfTIxIDm50TN+Y8RbofeBM3+lV4caRSEzc=\",\"dtype\":\"float64\",\"order\":\"little\",\"shape\":[100]}},\"selected\":{\"id\":\"1180\"},\"selection_policy\":{\"id\":\"1181\"}},\"id\":\"1170\",\"type\":\"ColumnDataSource\"},{\"attributes\":{},\"id\":\"1725\",\"type\":\"Selection\"},{\"attributes\":{\"source\":{\"id\":\"1170\"}},\"id\":\"1174\",\"type\":\"CDSView\"},{\"attributes\":{},\"id\":\"1780\",\"type\":\"Selection\"},{\"attributes\":{\"below\":[{\"id\":\"1148\"}],\"center\":[{\"id\":\"1151\"},{\"id\":\"1155\"},{\"id\":\"1183\"}],\"left\":[{\"id\":\"1152\"}],\"plot_height\":350,\"plot_width\":450,\"renderers\":[{\"id\":\"1173\"}],\"title\":{\"id\":\"1138\"},\"toolbar\":{\"id\":\"1163\"},\"x_range\":{\"id\":\"1140\"},\"x_scale\":{\"id\":\"1144\"},\"y_range\":{\"id\":\"1142\"},\"y_scale\":{\"id\":\"1146\"}},\"id\":\"1137\",\"subtype\":\"Figure\",\"type\":\"Plot\"},{\"attributes\":{\"data_source\":{\"id\":\"1170\"},\"glyph\":{\"id\":\"1171\"},\"hover_glyph\":null,\"muted_glyph\":null,\"nonselection_glyph\":{\"id\":\"1172\"},\"selection_glyph\":null,\"view\":{\"id\":\"1174\"}},\"id\":\"1173\",\"type\":\"GlyphRenderer\"},{\"attributes\":{},\"id\":\"1054\",\"type\":\"PanTool\"},{\"attributes\":{},\"id\":\"1156\",\"type\":\"PanTool\"},{\"attributes\":{\"data\":{\"x\":{\"__ndarray__\":\"AAAAAAAAAAD0kcwotrK2P/SRzCi2ssY/d22ZnggG0T/0kcwotrLWP3K2/7JjX9w/d22ZnggG4T+2/7JjX9zjP/SRzCi2suY/MyTm7QyJ6T9ytv+yY1/sP7BIGXi6Ne8/d22ZnggG8T+WNiYBNHHyP7b/smNf3PM/1sg/xopH9T/0kcwotrL2PxNbWYvhHfg/MyTm7QyJ+T9T7XJQOPT6P3K2/7JjX/w/kH+MFY/K/T+wSBl4ujX/P+gIU+1yUABAd22ZnggGAUAG0t9PnrsBQJY2JgE0cQJAJptssskmA0C2/7JjX9wDQEVk+RT1kQRA1sg/xopHBUBlLYZ3IP0FQPSRzCi2sgZAhPYS2ktoB0ATW1mL4R0IQKS/nzx30whAMyTm7QyJCUDCiCyfoj4KQFPtclA49ApA4lG5Ac6pC0Bytv+yY18MQAEbRmT5FA1AkH+MFY/KDUAh5NLGJIAOQLBIGXi6NQ9AQK1fKVDrD0DoCFPtclAQQDA79sU9qxBAd22ZnggGEUC/nzx302ARQAbS30+euxFATwSDKGkWEkCWNiYBNHESQN9oydn+yxJAJptssskmE0BuzQ+LlIETQLb/smNf3BNA/jFWPCo3FEBFZPkU9ZEUQI2WnO2/7BRA1sg/xopHFUAe++KeVaIVQGUthncg/RVArV8pUOtXFkD0kcwotrIWQD3EbwGBDRdAhPYS2ktoF0DMKLayFsMXQBNbWYvhHRhAXI38Y6x4GECkv588d9MYQOzxQhVCLhlAMyTm7QyJGUB7VonG1+MZQMKILJ+iPhpAC7vPd22ZGkBT7XJQOPQaQJsfFikDTxtA4lG5Ac6pG0AqhFzamAQcQHK2/7JjXxxAuuiiiy66HEABG0Zk+RQdQElN6TzEbx1AkH+MFY/KHUDasS/uWSUeQCHk0sYkgB5AaRZ2n+/aHkCwSBl4ujUfQPl6vFCFkB9AQK1fKVDrH0DEbwGBDSMgQOgIU+1yUCBADKKkWdh9IEAwO/bFPasgQFTURzKj2CBAd22ZnggGIUCcBusKbjMhQL+fPHfTYCFA4ziO4ziOIUA=\",\"dtype\":\"float64\",\"order\":\"little\",\"shape\":[100]},\"y\":{\"__ndarray__\":\"AAAAAAAAJEChSpvVZ3rUPz3/51Lg1sc/pp4LE3Oywz+lzjx7SsrCP7AilStMuMI/tpUwWAS4wj+2+yIKBLjCP5oRBgoEuMI/9QAGCgS4wj+5/QUKBLjCP/3PBQoEuMI/gHcuCgS4wj+9ejsKBLjCP1sXPgoEuMI/rhU+CgS4wj/wFT4KBLjCP+0VPgoEuMI/6RU+CgS4wj87GD4KBLjCP89CPgoEuMI/Re5ACgS4wj8jcD4KBLjCP0f+PQoEuMI/ifw9CgS4wj+k/D0KBLjCPzNTPgoEuMI/HuE9CgS4wj95+T0KBLjCP67/PQoEuMI/hP09CgS4wj8h/T0KBLjCP/r7PQoEuMI/1vc9CgS4wj++1T0KBLjCPwqgPAoEuMI/Y7A+CgS4wj8qmD8KBLjCPxfgPAoEuMI/C/I9CgS4wj+pBD4KBLjCP/j7PQoEuMI/Qf49CgS4wj+4Bj4KBLjCPwMKPgoEuMI/gzA+CgS4wj85lz4KBLjCP41KPgoEuMI/T3A5CgS4wj8y8z0KBLjCP5b9PQoEuMI/+Pk9CgS4wj9o/T0KBLjCP1v9PQoEuMI/ef09CgS4wj9l/T0KBLjCP2f9PQoEuMI/aP09CgS4wj9n/T0KBLjCP2b9PQoEuMI/Z/09CgS4wj9m/T0KBLjCP2X9PQoEuMI/Z/09CgS4wj9m/T0KBLjCP2f9PQoEuMI/Z/09CgS4wj9m/T0KBLjCP2f9PQoEuMI/Zv09CgS4wj9n/T0KBLjCP2b9PQoEuMI/Z/09CgS4wj9o/T0KBLjCP1/9PQoEuMI/Zf09CgS4wj+r/T0KBLjCP4v9PQoEuMI/m/o9CgS4wj98Ez4KBLjCP8GdPQoEuMI/kDw+CgS4wj9b9T0KBLjCP4/8PQoEuMI/sPw9CgS4wj9P/T0KBLjCPyz8PQoEuMI/q/c9CgS4wj8RFj4KBLjCPy3CPQoEuMI/jXo+CgS4wj9yIz0KBLjCP8IPPQoEuMI//qU7CgS4wj/5mT0KBLjCP9imTAoEuMI/SRPlCQS4wj9h+/ELBLjCP6J3bRQEuMI/4LdpBAS4wj8=\",\"dtype\":\"float64\",\"order\":\"little\",\"shape\":[100]}},\"selected\":{\"id\":\"1742\"},\"selection_policy\":{\"id\":\"1743\"}},\"id\":\"1730\",\"type\":\"ColumnDataSource\"},{\"attributes\":{},\"id\":\"1055\",\"type\":\"WheelZoomTool\"},{\"attributes\":{},\"id\":\"1157\",\"type\":\"WheelZoomTool\"},{\"attributes\":{\"line_alpha\":0.1,\"line_color\":\"#1f77b3\",\"line_width\":2,\"x\":{\"field\":\"x\"},\"y\":{\"field\":\"y\"}},\"id\":\"1172\",\"type\":\"Line\"},{\"attributes\":{\"label\":{\"value\":\"bound proton pump\"},\"renderers\":[{\"id\":\"1787\"}]},\"id\":\"1805\",\"type\":\"LegendItem\"},{\"attributes\":{\"overlay\":{\"id\":\"1060\"}},\"id\":\"1056\",\"type\":\"BoxZoomTool\"},{\"attributes\":{\"overlay\":{\"id\":\"1162\"}},\"id\":\"1158\",\"type\":\"BoxZoomTool\"},{\"attributes\":{\"data_source\":{\"id\":\"1715\"},\"glyph\":{\"id\":\"1716\"},\"hover_glyph\":null,\"muted_glyph\":null,\"nonselection_glyph\":{\"id\":\"1717\"},\"selection_glyph\":null,\"view\":{\"id\":\"1719\"}},\"id\":\"1718\",\"type\":\"GlyphRenderer\"},{\"attributes\":{},\"id\":\"1159\",\"type\":\"SaveTool\"},{\"attributes\":{\"line_alpha\":0.1,\"line_color\":\"#1f77b3\",\"line_width\":2,\"x\":{\"field\":\"x\"},\"y\":{\"field\":\"y\"}},\"id\":\"1717\",\"type\":\"Line\"},{\"attributes\":{},\"id\":\"1160\",\"type\":\"ResetTool\"},{\"attributes\":{\"click_policy\":\"hide\",\"items\":[{\"id\":\"1729\"},{\"id\":\"1745\"},{\"id\":\"1763\"},{\"id\":\"1783\"},{\"id\":\"1805\"}],\"location\":\"center_right\"},\"id\":\"1728\",\"type\":\"Legend\"},{\"attributes\":{},\"id\":\"1057\",\"type\":\"SaveTool\"},{\"attributes\":{},\"id\":\"1723\",\"type\":\"BasicTickFormatter\"},{\"attributes\":{},\"id\":\"1721\",\"type\":\"BasicTickFormatter\"},{\"attributes\":{},\"id\":\"1058\",\"type\":\"ResetTool\"},{\"attributes\":{},\"id\":\"1161\",\"type\":\"HelpTool\"},{\"attributes\":{\"active_drag\":\"auto\",\"active_inspect\":\"auto\",\"active_multi\":null,\"active_scroll\":\"auto\",\"active_tap\":\"auto\",\"tools\":[{\"id\":\"1156\"},{\"id\":\"1157\"},{\"id\":\"1158\"},{\"id\":\"1159\"},{\"id\":\"1160\"},{\"id\":\"1161\"}]},\"id\":\"1163\",\"type\":\"Toolbar\"}],\"root_ids\":[\"2173\"]},\"title\":\"Bokeh Application\",\"version\":\"2.2.1\"}};\n",
       "  var render_items = [{\"docid\":\"cf55c1d7-ed0b-44e2-81f6-d37d6b7c4988\",\"root_ids\":[\"2173\"],\"roots\":{\"2173\":\"f7391180-8d3e-401c-a518-dcbc07d1acbd\"}}];\n",
       "  root.Bokeh.embed.embed_items_notebook(docs_json, render_items);\n",
       "\n",
       "  }\n",
       "  if (root.Bokeh !== undefined) {\n",
       "    embed_document(root);\n",
       "  } else {\n",
       "    var attempts = 0;\n",
       "    var timer = setInterval(function(root) {\n",
       "      if (root.Bokeh !== undefined) {\n",
       "        clearInterval(timer);\n",
       "        embed_document(root);\n",
       "      } else {\n",
       "        attempts++;\n",
       "        if (attempts > 100) {\n",
       "          clearInterval(timer);\n",
       "          console.log(\"Bokeh: ERROR: Unable to run BokehJS code because BokehJS library is missing\");\n",
       "        }\n",
       "      }\n",
       "    }, 10, root)\n",
       "  }\n",
       "})(window);"
      ],
      "application/vnd.bokehjs_exec.v0+json": ""
     },
     "metadata": {
      "application/vnd.bokehjs_exec.v0+json": {
       "id": "2173"
      }
     },
     "output_type": "display_data"
    }
   ],
   "source": [
    "bokeh.io.show(row(p3,p_w_atp, p_no_atp))"
   ]
  },
  {
   "cell_type": "markdown",
   "metadata": {},
   "source": [
    "Cool. What's going on with the second plot. How come it looks like atp isn't being consumed?? Fix those params?? Next do temperature sensitivity."
   ]
  },
  {
   "cell_type": "code",
   "execution_count": 19,
   "metadata": {},
   "outputs": [
    {
     "data": {
      "text/html": [
       "\n",
       "\n",
       "\n",
       "\n",
       "\n",
       "\n",
       "  <div class=\"bk-root\" id=\"f4ac266a-7136-4683-a13b-ff5b75b58f94\" data-root-id=\"2466\"></div>\n"
      ]
     },
     "metadata": {},
     "output_type": "display_data"
    },
    {
     "data": {
      "application/javascript": [
       "(function(root) {\n",
       "  function embed_document(root) {\n",
       "    \n",
       "  var docs_json = {\"22a41c69-e974-489a-a527-040d5749dbe7\":{\"roots\":{\"references\":[{\"attributes\":{\"below\":[{\"id\":\"2477\"}],\"center\":[{\"id\":\"2480\"},{\"id\":\"2484\"},{\"id\":\"2512\"}],\"left\":[{\"id\":\"2481\"}],\"plot_height\":350,\"plot_width\":450,\"renderers\":[{\"id\":\"2502\"},{\"id\":\"2517\"},{\"id\":\"2533\"}],\"title\":{\"id\":\"2467\"},\"toolbar\":{\"id\":\"2492\"},\"x_range\":{\"id\":\"2469\"},\"x_scale\":{\"id\":\"2473\"},\"y_range\":{\"id\":\"2471\"},\"y_scale\":{\"id\":\"2475\"}},\"id\":\"2466\",\"subtype\":\"Figure\",\"type\":\"Plot\"},{\"attributes\":{\"line_alpha\":0.1,\"line_color\":\"#1f77b3\",\"line_width\":2,\"x\":{\"field\":\"x\"},\"y\":{\"field\":\"y\"}},\"id\":\"2501\",\"type\":\"Line\"},{\"attributes\":{\"data\":{\"x\":{\"__ndarray__\":\"AAAAAAAAAABIzNsZEvNzQEjM2xkS84NAbLLJJpvsjUBIzNsZEvOTQFq/UqDW75hAbLLJJpvsnUC/UqDWr3ShQEjM2xkS86NA0UUXXXRxpkBav1Kg1u+oQOM4juM4bqtAbLLJJpvsrUD6lQK1fjWwQL9SoNavdLFAhA8++OCzskBIzNsZEvOzQAyJeTtDMrVA0UUXXXRxtkCWArV+pbC3QFq/UqDW77hAHnzwwQcvukDjOI7jOG67QKj1KwVqrbxAbLLJJpvsvUAwb2dIzCu/QPqVArV+NcBAXXTRRRfVwEC/UqDWr3TBQCExb2dIFMJAhA8++OCzwkDm7QyJeVPDQEjM2xkS88NAqqqqqqqSxEAMiXk7QzLFQG9nSMzb0cVA0UUXXXRxxkAzJObtDBHHQJYCtX6lsMdA+OCDDz5QyEBav1Kg1u/IQLydITFvj8lAHnzwwQcvykCBWr9SoM7KQOM4juM4bstARRdddNENzECo9SsFaq3MQArU+pUCTc1AbLLJJpvszUDOkJi3M4zOQDBvZ0jMK89Ak0022WTLz0D6lQK1fjXQQCwFav1KhdBAXXTRRRfV0ECO4ziO4yTRQL9SoNavdNFA8MEHH3zE0UAhMW9nSBTSQFKg1q8UZNJAhA8++OCz0kC1fqVArQPTQObtDIl5U9NAF1100UWj00BIzNsZEvPTQHk7Q2LeQtRAqqqqqqqS1EDbGRLzduLUQAyJeTtDMtVAPvjggw+C1UBvZ0jM29HVQKDWrxSoIdZA0UUXXXRx1kACtX6lQMHWQDMk5u0MEddAZJNNNtlg10CWArV+pbDXQMdxHMdxANhA+OCDDz5Q2EApUOtXCqDYQFq/UqDW79hAiy666KI/2UC8nSExb4/ZQO0MiXk739lAHnzwwQcv2kBQ61cK1H7aQIFav1KgztpAsskmm2we20DjOI7jOG7bQBSo9SsFvttARRdddNEN3EB2hsS8nV3cQKj1KwVqrdxA2WSTTTb93EAK1PqVAk3dQDtDYt7OnN1AbLLJJpvs3UCdITFvZzzeQM6QmLczjN5AAAAAAADc3kA=\",\"dtype\":\"float64\",\"order\":\"little\",\"shape\":[100]},\"y\":{\"__ndarray__\":\"AAAAAGDjNkGLNuwbR2ikuvByQU8maIO6fFEkq3hAxjkMbzOawOadOf5W0cm2ePY4FyEB1OQ69Tgx6zDeEv3zOEu1YOhAv/I4Zn+Q8m6B8Th/ScD8nEPwODQn4A2WC+44Z7s/IvKP6zicT582ThTpONDj/kqqmOY4A3heXwYd5Dg4DL5zYqHhONpAOxB9S944QWn6ODVU2Tinkblh7VzUOCR08RRLy84498RvZrvcxDiJK9xvV9y1OBzSjC2B8384U9/Fz23pITiLyTjJn+ogOIdnV4Wj1x849Ts9eAfaHThlECNra9wbONbkCF7P3hk4QrnuUDPhFzizjdRDl+MVOCNiujb75RM4lDagKV/oETgJFgw5htUPOOS+1x5O2gs4w2ejBBbfBzilEG/q3eMDOP5ydaBL0f83wMQMbNva9zcFLUhv1sjvNw+h7Qzst983jsAXpxerGzej2UpenIUbN7byfRUhYBs3yguxzKU6GzfeJOSDKhUbN/I9Fzuv7xo3BVdK8jPKGjcZcH2puKQaNy2JsGA9fxo3QKLjF8JZGjdVuxbPRjQaN2nUSYbLDho3fe18PVDpGTeQBrD01MMZN6Qf46tZnhk3uDgWY954GTfMUUkaY1MZN+BqfNHnLRk384OviGwIGTcIneI/8eIYNxu2Ffd1vRg3L89IrvqXGDdD6Htlf3IYN1cBrxwETRg3axri04gnGDd+MxWLDQIYN5JMSEKS3Bc3pmV7+Ra3Fze5fq6wm5EXN86X4WcgbBc34rAUH6VGFzf2yUfWKSEXNwnjeo2u+xY3HfytRDPWFjcxFeH7t7AWN0QuFLM8ixY3WEdHasFlFjduYHohRkAWN4F5rdjKGhY3lJLgj0/1FTepqxNH1M8VN73ERv5YqhU30N15td2EFTfk9qxsYl8VN/gP4CPnORU3CykT22sUFTcfQkaS8O4UNzRbeUl1yRQ3SHSsAPqjFDdbjd+3fn4UN2+mEm8DWRQ3g79FJogzFDeW2HjdDA4UN6rxq5SR6BM3vgrfSxbDEzfTIxIDm50TN+Y8RbofeBM3+lV4caRSEzc=\",\"dtype\":\"float64\",\"order\":\"little\",\"shape\":[100]}},\"selected\":{\"id\":\"2544\"},\"selection_policy\":{\"id\":\"2545\"}},\"id\":\"2530\",\"type\":\"ColumnDataSource\"},{\"attributes\":{},\"id\":\"2510\",\"type\":\"UnionRenderers\"},{\"attributes\":{\"text\":\"ATP Compare\"},\"id\":\"2467\",\"type\":\"Title\"},{\"attributes\":{},\"id\":\"2473\",\"type\":\"LinearScale\"},{\"attributes\":{},\"id\":\"2471\",\"type\":\"DataRange1d\"},{\"attributes\":{\"active_drag\":\"auto\",\"active_inspect\":\"auto\",\"active_multi\":null,\"active_scroll\":\"auto\",\"active_tap\":\"auto\",\"tools\":[{\"id\":\"2485\"},{\"id\":\"2486\"},{\"id\":\"2487\"},{\"id\":\"2488\"},{\"id\":\"2489\"},{\"id\":\"2490\"}]},\"id\":\"2492\",\"type\":\"Toolbar\"},{\"attributes\":{},\"id\":\"2509\",\"type\":\"Selection\"},{\"attributes\":{\"bottom_units\":\"screen\",\"fill_alpha\":0.5,\"fill_color\":\"lightgrey\",\"left_units\":\"screen\",\"level\":\"overlay\",\"line_alpha\":1.0,\"line_color\":\"black\",\"line_dash\":[4,4],\"line_width\":2,\"right_units\":\"screen\",\"top_units\":\"screen\"},\"id\":\"2491\",\"type\":\"BoxAnnotation\"},{\"attributes\":{},\"id\":\"2527\",\"type\":\"UnionRenderers\"},{\"attributes\":{\"source\":{\"id\":\"2514\"}},\"id\":\"2518\",\"type\":\"CDSView\"},{\"attributes\":{\"source\":{\"id\":\"2499\"}},\"id\":\"2503\",\"type\":\"CDSView\"},{\"attributes\":{\"data_source\":{\"id\":\"2499\"},\"glyph\":{\"id\":\"2500\"},\"hover_glyph\":null,\"muted_glyph\":null,\"nonselection_glyph\":{\"id\":\"2501\"},\"selection_glyph\":null,\"view\":{\"id\":\"2503\"}},\"id\":\"2502\",\"type\":\"GlyphRenderer\"},{\"attributes\":{},\"id\":\"2485\",\"type\":\"PanTool\"},{\"attributes\":{\"label\":{\"value\":\"with ATP Synthase, Proton Pump, ATP Use\"},\"renderers\":[{\"id\":\"2502\"}]},\"id\":\"2513\",\"type\":\"LegendItem\"},{\"attributes\":{},\"id\":\"2505\",\"type\":\"BasicTickFormatter\"},{\"attributes\":{},\"id\":\"2486\",\"type\":\"WheelZoomTool\"},{\"attributes\":{\"line_color\":\"#2ba02b\",\"line_width\":2,\"x\":{\"field\":\"x\"},\"y\":{\"field\":\"y\"}},\"id\":\"2531\",\"type\":\"Line\"},{\"attributes\":{},\"id\":\"2478\",\"type\":\"BasicTicker\"},{\"attributes\":{\"overlay\":{\"id\":\"2491\"}},\"id\":\"2487\",\"type\":\"BoxZoomTool\"},{\"attributes\":{},\"id\":\"2507\",\"type\":\"BasicTickFormatter\"},{\"attributes\":{\"line_color\":\"#1f77b3\",\"line_width\":2,\"x\":{\"field\":\"x\"},\"y\":{\"field\":\"y\"}},\"id\":\"2500\",\"type\":\"Line\"},{\"attributes\":{},\"id\":\"2488\",\"type\":\"SaveTool\"},{\"attributes\":{\"axis_label\":\"concentration (nM)\",\"formatter\":{\"id\":\"2507\"},\"ticker\":{\"id\":\"2482\"}},\"id\":\"2481\",\"type\":\"LinearAxis\"},{\"attributes\":{\"data_source\":{\"id\":\"2514\"},\"glyph\":{\"id\":\"2515\"},\"hover_glyph\":null,\"muted_glyph\":null,\"nonselection_glyph\":{\"id\":\"2516\"},\"selection_glyph\":null,\"view\":{\"id\":\"2518\"}},\"id\":\"2517\",\"type\":\"GlyphRenderer\"},{\"attributes\":{},\"id\":\"2489\",\"type\":\"ResetTool\"},{\"attributes\":{},\"id\":\"2469\",\"type\":\"DataRange1d\"},{\"attributes\":{\"line_color\":\"#ff7e0e\",\"line_width\":2,\"x\":{\"field\":\"x\"},\"y\":{\"field\":\"y\"}},\"id\":\"2515\",\"type\":\"Line\"},{\"attributes\":{\"axis_label\":\"time (sec)\",\"formatter\":{\"id\":\"2505\"},\"ticker\":{\"id\":\"2478\"}},\"id\":\"2477\",\"type\":\"LinearAxis\"},{\"attributes\":{},\"id\":\"2526\",\"type\":\"Selection\"},{\"attributes\":{\"data\":{\"x\":{\"__ndarray__\":\"AAAAAAAAAABIzNsZEvNzQEjM2xkS84NAbLLJJpvsjUBIzNsZEvOTQFq/UqDW75hAbLLJJpvsnUC/UqDWr3ShQEjM2xkS86NA0UUXXXRxpkBav1Kg1u+oQOM4juM4bqtAbLLJJpvsrUD6lQK1fjWwQL9SoNavdLFAhA8++OCzskBIzNsZEvOzQAyJeTtDMrVA0UUXXXRxtkCWArV+pbC3QFq/UqDW77hAHnzwwQcvukDjOI7jOG67QKj1KwVqrbxAbLLJJpvsvUAwb2dIzCu/QPqVArV+NcBAXXTRRRfVwEC/UqDWr3TBQCExb2dIFMJAhA8++OCzwkDm7QyJeVPDQEjM2xkS88NAqqqqqqqSxEAMiXk7QzLFQG9nSMzb0cVA0UUXXXRxxkAzJObtDBHHQJYCtX6lsMdA+OCDDz5QyEBav1Kg1u/IQLydITFvj8lAHnzwwQcvykCBWr9SoM7KQOM4juM4bstARRdddNENzECo9SsFaq3MQArU+pUCTc1AbLLJJpvszUDOkJi3M4zOQDBvZ0jMK89Ak0022WTLz0D6lQK1fjXQQCwFav1KhdBAXXTRRRfV0ECO4ziO4yTRQL9SoNavdNFA8MEHH3zE0UAhMW9nSBTSQFKg1q8UZNJAhA8++OCz0kC1fqVArQPTQObtDIl5U9NAF1100UWj00BIzNsZEvPTQHk7Q2LeQtRAqqqqqqqS1EDbGRLzduLUQAyJeTtDMtVAPvjggw+C1UBvZ0jM29HVQKDWrxSoIdZA0UUXXXRx1kACtX6lQMHWQDMk5u0MEddAZJNNNtlg10CWArV+pbDXQMdxHMdxANhA+OCDDz5Q2EApUOtXCqDYQFq/UqDW79hAiy666KI/2UC8nSExb4/ZQO0MiXk739lAHnzwwQcv2kBQ61cK1H7aQIFav1KgztpAsskmm2we20DjOI7jOG7bQBSo9SsFvttARRdddNEN3EB2hsS8nV3cQKj1KwVqrdxA2WSTTTb93EAK1PqVAk3dQDtDYt7OnN1AbLLJJpvs3UCdITFvZzzeQM6QmLczjN5AAAAAAADc3kA=\",\"dtype\":\"float64\",\"order\":\"little\",\"shape\":[100]},\"y\":{\"__ndarray__\":\"AAAAAGDjNkHZxXw5/t82QdnFfDn+3zZB2cV8Of7fNkHZxXw5/t82QdnFfDn+3zZB2cV8Of7fNkHZxXw5/t82QdnFfDn+3zZB2cV8Of7fNkHZxXw5/t82QdnFfDn+3zZB2cV8Of7fNkHZxXw5/t82QdnFfDn+3zZB2cV8Of7fNkHZxXw5/t82QdnFfDn+3zZB2cV8Of7fNkHZxXw5/t82QdnFfDn+3zZB2cV8Of7fNkHZxXw5/t82QdnFfDn+3zZB2cV8Of7fNkHZxXw5/t82QdnFfDn+3zZB2cV8Of7fNkHZxXw5/t82QdnFfDn+3zZB2cV8Of7fNkHZxXw5/t82QdnFfDn+3zZB2cV8Of7fNkHZxXw5/t82QdnFfDn+3zZB2cV8Of7fNkHZxXw5/t82QdnFfDn+3zZB2cV8Of7fNkHZxXw5/t82QdnFfDn+3zZB2cV8Of7fNkHZxXw5/t82QdnFfDn+3zZB2cV8Of7fNkHZxXw5/t82QdnFfDn+3zZB2cV8Of7fNkHZxXw5/t82QdnFfDn+3zZB2cV8Of7fNkHZxXw5/t82QdnFfDn+3zZB2cV8Of7fNkHZxXw5/t82QdnFfDn+3zZB2cV8Of7fNkHZxXw5/t82QdnFfDn+3zZB2cV8Of7fNkHZxXw5/t82QdnFfDn+3zZB2cV8Of7fNkHZxXw5/t82QdnFfDn+3zZB2cV8Of7fNkHZxXw5/t82QdnFfDn+3zZB2cV8Of7fNkHZxXw5/t82QdnFfDn+3zZB2cV8Of7fNkHZxXw5/t82QdnFfDn+3zZB2cV8Of7fNkHZxXw5/t82QdnFfDn+3zZB2cV8Of7fNkHZxXw5/t82QdnFfDn+3zZB2cV8Of7fNkHZxXw5/t82QdnFfDn+3zZB2cV8Of7fNkHZxXw5/t82QdnFfDn+3zZB2cV8Of7fNkHZxXw5/t82QdnFfDn+3zZB2cV8Of7fNkHZxXw5/t82QdnFfDn+3zZB2cV8Of7fNkHZxXw5/t82QdnFfDn+3zZB2cV8Of7fNkHZxXw5/t82QdnFfDn+3zZB2cV8Of7fNkE=\",\"dtype\":\"float64\",\"order\":\"little\",\"shape\":[100]}},\"selected\":{\"id\":\"2509\"},\"selection_policy\":{\"id\":\"2510\"}},\"id\":\"2499\",\"type\":\"ColumnDataSource\"},{\"attributes\":{},\"id\":\"2490\",\"type\":\"HelpTool\"},{\"attributes\":{\"axis\":{\"id\":\"2477\"},\"ticker\":null},\"id\":\"2480\",\"type\":\"Grid\"},{\"attributes\":{\"line_alpha\":0.1,\"line_color\":\"#ff7e0e\",\"line_width\":2,\"x\":{\"field\":\"x\"},\"y\":{\"field\":\"y\"}},\"id\":\"2516\",\"type\":\"Line\"},{\"attributes\":{\"label\":{\"value\":\"ATP Use only\"},\"renderers\":[{\"id\":\"2533\"}]},\"id\":\"2547\",\"type\":\"LegendItem\"},{\"attributes\":{\"label\":{\"value\":\"with ATP Synthase, ATP Use\"},\"renderers\":[{\"id\":\"2517\"}]},\"id\":\"2529\",\"type\":\"LegendItem\"},{\"attributes\":{\"data\":{\"x\":{\"__ndarray__\":\"AAAAAAAAAABIzNsZEvNzQEjM2xkS84NAbLLJJpvsjUBIzNsZEvOTQFq/UqDW75hAbLLJJpvsnUC/UqDWr3ShQEjM2xkS86NA0UUXXXRxpkBav1Kg1u+oQOM4juM4bqtAbLLJJpvsrUD6lQK1fjWwQL9SoNavdLFAhA8++OCzskBIzNsZEvOzQAyJeTtDMrVA0UUXXXRxtkCWArV+pbC3QFq/UqDW77hAHnzwwQcvukDjOI7jOG67QKj1KwVqrbxAbLLJJpvsvUAwb2dIzCu/QPqVArV+NcBAXXTRRRfVwEC/UqDWr3TBQCExb2dIFMJAhA8++OCzwkDm7QyJeVPDQEjM2xkS88NAqqqqqqqSxEAMiXk7QzLFQG9nSMzb0cVA0UUXXXRxxkAzJObtDBHHQJYCtX6lsMdA+OCDDz5QyEBav1Kg1u/IQLydITFvj8lAHnzwwQcvykCBWr9SoM7KQOM4juM4bstARRdddNENzECo9SsFaq3MQArU+pUCTc1AbLLJJpvszUDOkJi3M4zOQDBvZ0jMK89Ak0022WTLz0D6lQK1fjXQQCwFav1KhdBAXXTRRRfV0ECO4ziO4yTRQL9SoNavdNFA8MEHH3zE0UAhMW9nSBTSQFKg1q8UZNJAhA8++OCz0kC1fqVArQPTQObtDIl5U9NAF1100UWj00BIzNsZEvPTQHk7Q2LeQtRAqqqqqqqS1EDbGRLzduLUQAyJeTtDMtVAPvjggw+C1UBvZ0jM29HVQKDWrxSoIdZA0UUXXXRx1kACtX6lQMHWQDMk5u0MEddAZJNNNtlg10CWArV+pbDXQMdxHMdxANhA+OCDDz5Q2EApUOtXCqDYQFq/UqDW79hAiy666KI/2UC8nSExb4/ZQO0MiXk739lAHnzwwQcv2kBQ61cK1H7aQIFav1KgztpAsskmm2we20DjOI7jOG7bQBSo9SsFvttARRdddNEN3EB2hsS8nV3cQKj1KwVqrdxA2WSTTTb93EAK1PqVAk3dQDtDYt7OnN1AbLLJJpvs3UCdITFvZzzeQM6QmLczjN5AAAAAAADc3kA=\",\"dtype\":\"float64\",\"order\":\"little\",\"shape\":[100]},\"y\":{\"__ndarray__\":\"AAAAAGDjNkGAdSXX5c+jPK2CvWrsGxE7zOC+n8cpGDpc8YUcF2/+uSxufvErFt85XLBRR8nJ7Lm6h6T5O3tZut2O1I028w46/FBNWF/ZkTmI/o8Apr0RuujKHI/SHAE6gAUtnjA0hDpCuRNb9ut4unz0SF+2P0U6g2wSjzQkULphwheHLEpautj7qqb7ovE5kbSbk8UK2rnyXLzMGReROdooO2ORkWa5BTCCPtHePrlA/rwIIaTuuJrHkJcZhyC5/Fpm/gRgArmwZY7CNwtFOeQ9XZCNI1852nOzzZzLMLnQNYac4ppgObTGlLjRzG05GIuVRzc0jblgFtOoyIGeOXCphkbiDdw53/TdeYFYQjqK6pOTOZv5OaLFTnA6Mss5ujqOwBtG7jm+k+/bHMHQucGOamyX8Zo5SJZV/1Cbn7kcPDVf286ZOQjPpG0j6n65aBMaS6+4pTlYLzGg8M/QOSx5WfseZce5h1Oz82xHArqmpYMnZNrwOaqqCuUvssC5R/xT+WUUrDnOAphW7GaRub8YUDRtSYI5lAsUjIEptDng/8jhk06hudh8z/WpZdm50N0PY6ZI6jlTZE6lJG/1Od6+/Sb8xCC6NNdnOd4iIToI4uJrnchMOkJqZ8t7x3267Z3l9vKkcTqeg91lL/tgukYDneXwFxM6T51c7YiqALqry3I5aDHouSGP1+PXggU6gJL1RHYD8rlsJSBfYJunOSygeYn7W5O5dr81ugAiy7k0YzjMVU3PuURnu00yvpW5pHk8bXFqrDmQIxU/Xo61Od5OG3NV68K58K8fol8wszn4rNeXArrDOd5wb4/QzwM6hhXY547q/LliKUDpmYDoObBRM5raEqG5rtMLed7Fu7lQcRZaUqyhOe0kzGhFpGQ52OsW8IltZ7kATj62BNY6ua6frf47M2Q5p35QkXvejDmSqUmb/WaXOUSjpqK9jJm56BItCTHpqzk0uNr7XdK5uXDrb0dJJ5c5hBzu/wtqxjkwSR34J8DMuaiWlPvwjwk6qGwVsv3aAbp8LOtInwYtuqCOJ6hqASG6+pYF2W4SP7o=\",\"dtype\":\"float64\",\"order\":\"little\",\"shape\":[100]}},\"selected\":{\"id\":\"2526\"},\"selection_policy\":{\"id\":\"2527\"}},\"id\":\"2514\",\"type\":\"ColumnDataSource\"},{\"attributes\":{},\"id\":\"2475\",\"type\":\"LinearScale\"},{\"attributes\":{\"items\":[{\"id\":\"2513\"},{\"id\":\"2529\"},{\"id\":\"2547\"}],\"location\":\"center_right\"},\"id\":\"2512\",\"type\":\"Legend\"},{\"attributes\":{},\"id\":\"2545\",\"type\":\"UnionRenderers\"},{\"attributes\":{},\"id\":\"2544\",\"type\":\"Selection\"},{\"attributes\":{\"axis\":{\"id\":\"2481\"},\"dimension\":1,\"ticker\":null},\"id\":\"2484\",\"type\":\"Grid\"},{\"attributes\":{\"line_alpha\":0.1,\"line_color\":\"#2ba02b\",\"line_width\":2,\"x\":{\"field\":\"x\"},\"y\":{\"field\":\"y\"}},\"id\":\"2532\",\"type\":\"Line\"},{\"attributes\":{\"source\":{\"id\":\"2530\"}},\"id\":\"2534\",\"type\":\"CDSView\"},{\"attributes\":{},\"id\":\"2482\",\"type\":\"BasicTicker\"},{\"attributes\":{\"data_source\":{\"id\":\"2530\"},\"glyph\":{\"id\":\"2531\"},\"hover_glyph\":null,\"muted_glyph\":null,\"nonselection_glyph\":{\"id\":\"2532\"},\"selection_glyph\":null,\"view\":{\"id\":\"2534\"}},\"id\":\"2533\",\"type\":\"GlyphRenderer\"}],\"root_ids\":[\"2466\"]},\"title\":\"Bokeh Application\",\"version\":\"2.2.1\"}};\n",
       "  var render_items = [{\"docid\":\"22a41c69-e974-489a-a527-040d5749dbe7\",\"root_ids\":[\"2466\"],\"roots\":{\"2466\":\"f4ac266a-7136-4683-a13b-ff5b75b58f94\"}}];\n",
       "  root.Bokeh.embed.embed_items_notebook(docs_json, render_items);\n",
       "\n",
       "  }\n",
       "  if (root.Bokeh !== undefined) {\n",
       "    embed_document(root);\n",
       "  } else {\n",
       "    var attempts = 0;\n",
       "    var timer = setInterval(function(root) {\n",
       "      if (root.Bokeh !== undefined) {\n",
       "        clearInterval(timer);\n",
       "        embed_document(root);\n",
       "      } else {\n",
       "        attempts++;\n",
       "        if (attempts > 100) {\n",
       "          clearInterval(timer);\n",
       "          console.log(\"Bokeh: ERROR: Unable to run BokehJS code because BokehJS library is missing\");\n",
       "        }\n",
       "      }\n",
       "    }, 10, root)\n",
       "  }\n",
       "})(window);"
      ],
      "application/vnd.bokehjs_exec.v0+json": ""
     },
     "metadata": {
      "application/vnd.bokehjs_exec.v0+json": {
       "id": "2466"
      }
     },
     "output_type": "display_data"
    }
   ],
   "source": [
    "p_atp = bokeh.plotting.figure(width = 450, height = 350,\n",
    "                             title = 'ATP Compare',\n",
    "                             x_axis_label = 'time (sec)',\n",
    "                             y_axis_label = 'concentration (nM)')\n",
    "\n",
    "p_atp.line(timepoints, results_everything[ATP_id3],line_width = 2, color = palette[0],legend_label = 'with ATP Synthase, Proton Pump, ATP Use')\n",
    "p_atp.line(timepoints, results[ATP_id], line_width = 2, color = palette[1], legend_label = 'with ATP Synthase, ATP Use')\n",
    "p_atp.line(timepoints, results2[ATP_id2],line_width = 2, color = palette[2],legend_label = 'ATP Use only')\n",
    "p_atp.legend.location = 'center_right'\n",
    "bokeh.io.show(p_atp)"
   ]
  },
  {
   "cell_type": "code",
   "execution_count": 20,
   "metadata": {},
   "outputs": [
    {
     "name": "stdout",
     "output_type": "stream",
     "text": [
      "CPython 3.7.7\n",
      "IPython 7.13.0\n",
      "\n",
      "numpy 1.18.1\n",
      "bokeh 2.2.1\n",
      "jupyterlab 1.2.6\n",
      "scipy 1.4.1\n",
      "biocrnpyler 0.2.1\n",
      "bioscrape 1.0.0\n",
      "colorcet 2.0.2\n",
      "subsbml unknown\n"
     ]
    }
   ],
   "source": [
    "#watermark\n",
    "%reload_ext watermark\n",
    "%watermark -v -p numpy,bokeh,jupyterlab,scipy,biocrnpyler,bioscrape,colorcet,subsbml\n",
    "  "
   ]
  },
  {
   "cell_type": "code",
   "execution_count": null,
   "metadata": {},
   "outputs": [],
   "source": []
  }
 ],
 "metadata": {
  "kernelspec": {
   "display_name": "Python 3",
   "language": "python",
   "name": "python3"
  },
  "language_info": {
   "codemirror_mode": {
    "name": "ipython",
    "version": 3
   },
   "file_extension": ".py",
   "mimetype": "text/x-python",
   "name": "python",
   "nbconvert_exporter": "python",
   "pygments_lexer": "ipython3",
   "version": "3.7.7"
  }
 },
 "nbformat": 4,
 "nbformat_minor": 4
}
