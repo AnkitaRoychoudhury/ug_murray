{
 "cells": [
  {
   "cell_type": "code",
   "execution_count": 104,
   "metadata": {},
   "outputs": [
    {
     "name": "stdout",
     "output_type": "stream",
     "text": [
      "Species (12) = {0. dna_g, 1. tetR, 2. rna_g, 3. VirE2_f, 4. ATP, 5. ADP, 6. aTc_i, 7. complex[aTc_i:tetR], 8. VirE2_b, 9. complex[dna_g:tetR], 10. complex[aTc_i:dna_g:tetR], 11. P}\n",
      "Reactions (9) = [\n",
      "0. dna_g + tetR --> complex[dna_g:tetR]        \n",
      "        massaction: k_f(dna_g,tetR)=1000*dna_g*tetR\n",
      "1. complex[dna_g:tetR] + aTc_i --> complex[aTc_i:dna_g:tetR]        \n",
      "        massaction: k_f(complex[dna_g:tetR],aTc_i)=1000*complex[dna_g:tetR]*aTc_i\n",
      "2. complex[aTc_i:dna_g:tetR] <--> dna_g + complex[aTc_i:tetR]        \n",
      "        massaction: k_f(complex[aTc_i:dna_g:tetR])=10000*complex[aTc_i:dna_g:tetR]\n",
      "        k_r(dna_g,complex[aTc_i:tetR])=10*dna_g*complex[aTc_i:tetR]\n",
      "3. dna_g --> dna_g + rna_g        \n",
      "        proportionalhillnegative: k(tetR, dna_g)=0.0075*dna_g/(20+tetR^1)\n",
      "4. dna_g --> dna_g + rna_g        \n",
      "        massaction: k_f(dna_g)=0.001*dna_g\n",
      "5. rna_g + ATP --> rna_g + ADP + VirE2_f + P        \n",
      "        proportionalhillpositive: k(ATP, rna_g)=0.25*rna_g*ATP^1/(1+ATP^1)\n",
      "6. VirE2_f --> VirE2_b        \n",
      "        massaction: k_f(VirE2_f)=0.1*VirE2_f\n",
      "7. rna_g -->         \n",
      "        massaction: k_f(rna_g)=0.01*rna_g\n",
      "8. VirE2_f -->         \n",
      "        massaction: k_f(VirE2_f)=0.0001*VirE2_f\n",
      "]\n"
     ]
    }
   ],
   "source": [
    "from biocrnpyler import *\n",
    "import numpy as np\n",
    "import pylab as plt\n",
    "\n",
    "VirE2_f = Species (\"VirE2_f\") #, material_type = \"protein\") #free\n",
    "repressor = Species(\"tetR\") #, material_type = \"protein\")\n",
    "dna_g= Species (\"dna_g\")\n",
    "rna_g= Species (\"rna_g\")\n",
    "ATP= Species (\"ATP\")\n",
    "ADP= Species (\"ADP\")\n",
    "atc_i = Species(\"aTc_i\") # material_type = \"ligand\")\n",
    "VirE2_b = Species (\"VirE2_b\") #bound to membran\n",
    "p= Species(\"P\")\n",
    "d_r= ComplexSpecies([dna_g,repressor])\n",
    "d_r_atc= ComplexSpecies([dna_g,repressor,atc_i])\n",
    "\n",
    "#Create a ChemicalComplex to model ligand-repressor bindning\n",
    "inactive_repressor = ChemicalComplex([repressor, atc_i])\n",
    "\n",
    "species=[dna_g, repressor, rna_g, VirE2_f, ATP,ADP, atc_i, inactive_repressor.get_species(),VirE2_b, d_r, d_r_atc, p]\n",
    "\n",
    "rex1=Reaction([dna_g, repressor], [d_r], propensity_type = \"massaction\", k= 1000) #1e+11 #1\n",
    "rex2=Reaction([d_r,atc_i ], [d_r_atc], propensity_type = \"massaction\", k= 1000 ) # 6.5e+7 #10\n",
    "rex3=Reaction([d_r_atc], [dna_g, inactive_repressor.get_species()], propensity_type = \"massaction\", k= 10000, k_rev=10 ) #1000,10\n",
    "rex4=Reaction([dna_g], [dna_g, rna_g], propensity_type = \"proportionalhillnegative\", propensity_params = {\"k\":.0075, \"n\":1, \"K\":20, \"s1\":repressor, \"d\":dna_g})  #{\"k\":18.75, \"n\":2, \"K\":20, \"s1\":repressor, \"d\":dna_g}\n",
    "rex5=Reaction([dna_g], [dna_g, rna_g], propensity_type = \"massaction\", k= .001) \n",
    "rex6=Reaction([rna_g, ATP], [rna_g, ADP, VirE2_f,p], propensity_type = \"proportionalhillpositive\", propensity_params = {\"k\":.25, \"n\":1, \"K\":1, \"s1\":ATP, \"d\":rna_g}) \n",
    "rex7=Reaction([VirE2_f], [VirE2_b], propensity_type = \"massaction\", k= .1)\n",
    "rex8=Reaction([rna_g], [], propensity_type = \"massaction\", k= .01) \n",
    "rex9=Reaction([VirE2_f], [], propensity_type = \"massaction\", k= 1e-4)\n",
    "\n",
    "#rex4=Reaction([repressor, atc_i], [inactive_repressor.get_species()], propensity_type = \"massaction\", k= 100, k_rev=10) \n",
    "\n",
    "\n",
    "r=[rex1, rex2, rex3, rex4, rex5, rex6, rex7, rex8, rex9]\n",
    "\n",
    "CRN1 = ChemicalReactionNetwork(species = species, reactions = r)\n",
    "print(CRN1.pretty_print())\n"
   ]
  },
  {
   "cell_type": "code",
   "execution_count": 105,
   "metadata": {},
   "outputs": [
    {
     "data": {
      "text/plain": [
       "<Figure size 432x288 with 0 Axes>"
      ]
     },
     "metadata": {},
     "output_type": "display_data"
    },
    {
     "data": {
      "image/png": "[encoded data removed]",
      "text/plain": [
       "<Figure size 864x432 with 1 Axes>"
      ]
     },
     "metadata": {
      "needs_background": "light"
     },
     "output_type": "display_data"
    }
   ],
   "source": [
    "\n",
    " #initial condition\n",
    "x0_dict = {str(atc_i): 15, str(dna_g): 1, str(repressor):10, str(ATP):10} \n",
    "time = np.linspace(0, 500, 100000)\n",
    "\n",
    "plt.figure()\n",
    "plt.figure(figsize=(12,6))\n",
    "\n",
    "R = CRN1.simulate_with_bioscrape(timepoints = time, initial_condition_dict = x0_dict)\n",
    "plt.title(\"Model 1\")\n",
    "plt.plot(time, R[str(VirE2_b)], color = 'red', lw = 4, label='VirE2_b')\n",
    "plt.plot(time, R[str(atc_i)], color = 'green', lw = 4, label='atc_i')\n",
    "plt.plot(time, R[str(VirE2_f)], color = 'cyan', lw = 2, label='VirE2_f')\n",
    "plt.legend()\n",
    "\n",
    "plt.title('Concentration Trajectory Dynamics')\n",
    "plt.xlabel(\"Time\")\n",
    "plt.ylabel(\"Concentration\");\n",
    "plt.show()\n",
    "\n"
   ]
  },
  {
   "cell_type": "code",
   "execution_count": null,
   "metadata": {},
   "outputs": [],
   "source": []
  },
  {
   "cell_type": "code",
   "execution_count": null,
   "metadata": {},
   "outputs": [],
   "source": []
  }
 ],
 "metadata": {
  "kernelspec": {
   "display_name": "Python 3",
   "language": "python",
   "name": "python3"
  },
  "language_info": {
   "codemirror_mode": {
    "name": "ipython",
    "version": 3
   },
   "file_extension": ".py",
   "mimetype": "text/x-python",
   "name": "python",
   "nbconvert_exporter": "python",
   "pygments_lexer": "ipython3",
   "version": "3.7.7"
  }
 },
 "nbformat": 4,
 "nbformat_minor": 4
}
