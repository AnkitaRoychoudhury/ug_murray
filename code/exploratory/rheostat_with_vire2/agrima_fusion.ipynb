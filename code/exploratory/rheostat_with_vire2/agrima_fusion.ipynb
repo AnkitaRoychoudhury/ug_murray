{
 "cells": [
  {
   "cell_type": "code",
   "execution_count": 13,
   "metadata": {},
   "outputs": [],
   "source": [
    "from subsbml import System, createSubsystem, combineSystems, createNewSubsystem\n",
    "import numpy as np\n",
    "import pylab as plt\n"
   ]
  },
  {
   "cell_type": "markdown",
   "metadata": {},
   "source": [
    "# cell with Rheostat\n",
    "# cell 1"
   ]
  },
  {
   "cell_type": "code",
   "execution_count": 14,
   "metadata": {},
   "outputs": [
    {
     "name": "stdout",
     "output_type": "stream",
     "text": [
      "The subsystem from membrane_atc.xml has multiple compartments\n"
     ]
    },
    {
     "data": {
      "text/plain": [
       "True"
      ]
     },
     "execution_count": 14,
     "metadata": {},
     "output_type": "execute_result"
    }
   ],
   "source": [
    "ss1 = createSubsystem('comb_exsA_sub.xml')\n",
    "ss3 = createSubsystem('atc_external_reservoir.xml')\n",
    "mb1 = createSubsystem('membrane_atc.xml', membrane = True)\n",
    "cell_1 =  System('cell_1',ListOfInternalSubsystems = [ss1],\n",
    "                 ListOfExternalSubsystems = [ss3],\n",
    "                 ListOfMembraneSubsystems = [mb1])\n",
    "\n",
    "cell_1_model = cell_1.getModel()\n",
    "cell_1_model.setSpeciesAmount('atc_e', 1e4, compartment = 'cell_1_external')\n",
    "cell_1_model.setSpeciesAmount('dna_f', 1, compartment = 'cell_1_internal')\n",
    "cell_1_model.setSpeciesAmount('tetR', 10, compartment = 'cell_1_internal')\n",
    "cell_1_model.setSpeciesAmount('ATP', 20, compartment = 'cell_1_internal')\n",
    "cell_1_model.setSpeciesAmount('molecule_glucose', 30, compartment = 'cell_1_internal')\n",
    "cell_1_model.setSpeciesAmount('metabolite_nadp', 30, compartment = 'cell_1_internal')\n",
    "cell_1_model.setSpeciesAmount('P', 30, compartment = 'cell_1_internal')\n",
    "cell_1_model.setSpeciesAmount('enzyme_hex', 0.20, compartment = 'cell_1_internal')\n",
    "cell_1_model.setSpeciesAmount('enzyme_pgi', 0.20, compartment = 'cell_1_internal')\n",
    "cell_1_model.setSpeciesAmount('enzyme_pfk', 0.20, compartment = 'cell_1_internal')\n",
    "cell_1_model.setSpeciesAmount('enzyme_ald_tpi', 0.20, compartment = 'cell_1_internal')\n",
    "cell_1_model.setSpeciesAmount('enzyme_gapN', 0.20, compartment = 'cell_1_internal')\n",
    "cell_1_model.setSpeciesAmount('enzyme_mGapDH', 0.20, compartment = 'cell_1_internal')\n",
    "cell_1_model.setSpeciesAmount('enzyme_pgk', 0.20, compartment = 'cell_1_internal')\n",
    "cell_1_model.setSpeciesAmount('enzyme_pgm', 0.20, compartment = 'cell_1_internal')\n",
    "cell_1_model.setSpeciesAmount('enzyme_eno', 0.20, compartment = 'cell_1_internal')\n",
    "cell_1_model.setSpeciesAmount('enzyme_pyk', 0.20, compartment = 'cell_1_internal')\n",
    "cell_1_model.setSpeciesAmount('enzyme_alsS', 0.20, compartment = 'cell_1_internal')\n",
    "cell_1_model.setSpeciesAmount('enzyme_IlvC', 0.20, compartment = 'cell_1_internal')\n",
    "cell_1_model.setSpeciesAmount('enzyme_IlvD', 0.20, compartment = 'cell_1_internal')\n",
    "cell_1_model.setSpeciesAmount('enzyme_kivD', 0.20, compartment = 'cell_1_internal')\n",
    "cell_1_model.setSpeciesAmount('enzyme_yahk', 0.20, compartment = 'cell_1_internal')\n",
    "\n"
   ]
  },
  {
   "cell_type": "markdown",
   "metadata": {},
   "source": [
    "# cell 2"
   ]
  },
  {
   "cell_type": "code",
   "execution_count": 15,
   "metadata": {},
   "outputs": [
    {
     "name": "stdout",
     "output_type": "stream",
     "text": [
      "The subsystem from membrane_atc.xml has multiple compartments\n"
     ]
    },
    {
     "data": {
      "text/plain": [
       "True"
      ]
     },
     "execution_count": 15,
     "metadata": {},
     "output_type": "execute_result"
    }
   ],
   "source": [
    "ss2 = createSubsystem('comb_gfp1_sub.xml')\n",
    "ss3 = createSubsystem('atc_external_reservoir.xml')\n",
    "mb1 = createSubsystem('membrane_atc.xml', membrane = True)\n",
    "cell_2 =  System('cell_2',ListOfInternalSubsystems = [ss2],\n",
    "                 ListOfExternalSubsystems = [ss3],\n",
    "                 ListOfMembraneSubsystems = [mb1])\n",
    "cell_2_model = cell_2.getModel()\n",
    "cell_2_model.setSpeciesAmount('atc_e', 1e4, compartment = 'cell_2_external')\n",
    "cell_2_model.setSpeciesAmount('dna_h', 1, compartment = 'cell_2_internal')\n",
    "cell_2_model.setSpeciesAmount('ATP', 20, compartment = 'cell_2_internal')\n",
    "cell_2_model.setSpeciesAmount('molecule_glucose', 30, compartment = 'cell_2_internal')\n",
    "cell_2_model.setSpeciesAmount('metabolite_nadp', 30, compartment = 'cell_2_internal')\n",
    "cell_2_model.setSpeciesAmount('P', 30, compartment = 'cell_2_internal')\n",
    "cell_2_model.setSpeciesAmount('enzyme_hex', 0.20, compartment = 'cell_2_internal')\n",
    "cell_2_model.setSpeciesAmount('enzyme_pgi', 0.20, compartment = 'cell_2_internal')\n",
    "cell_2_model.setSpeciesAmount('enzyme_pfk', 0.20, compartment = 'cell_2_internal')\n",
    "cell_2_model.setSpeciesAmount('enzyme_ald_tpi', 0.20, compartment = 'cell_2_internal')\n",
    "cell_2_model.setSpeciesAmount('enzyme_gapN', 0.20, compartment = 'cell_2_internal')\n",
    "cell_2_model.setSpeciesAmount('enzyme_mGapDH', 0.20, compartment = 'cell_2_internal')\n",
    "cell_2_model.setSpeciesAmount('enzyme_pgk', 0.20, compartment = 'cell_2_internal')\n",
    "cell_2_model.setSpeciesAmount('enzyme_pgm', 0.20, compartment = 'cell_2_internal')\n",
    "cell_2_model.setSpeciesAmount('enzyme_eno', 0.20, compartment = 'cell_2_internal')\n",
    "cell_2_model.setSpeciesAmount('enzyme_pyk', 0.20, compartment = 'cell_2_internal')\n",
    "cell_2_model.setSpeciesAmount('enzyme_alsS', 0.20, compartment = 'cell_2_internal')\n",
    "cell_2_model.setSpeciesAmount('enzyme_IlvC', 0.20, compartment = 'cell_2_internal')\n",
    "cell_2_model.setSpeciesAmount('enzyme_IlvD', 0.20, compartment = 'cell_2_internal')\n",
    "cell_2_model.setSpeciesAmount('enzyme_kivD', 0.20, compartment = 'cell_2_internal')\n",
    "cell_2_model.setSpeciesAmount('enzyme_yahk', 0.20, compartment = 'cell_2_internal')\n",
    "\n"
   ]
  },
  {
   "cell_type": "markdown",
   "metadata": {},
   "source": [
    "# cell fusion"
   ]
  },
  {
   "cell_type": "code",
   "execution_count": 16,
   "metadata": {},
   "outputs": [
    {
     "data": {
      "text/plain": [
       "1"
      ]
     },
     "execution_count": 16,
     "metadata": {},
     "output_type": "execute_result"
    }
   ],
   "source": [
    "cell_1_model.renameCompartments('cell_1_internal', 'cellfusedinternal')\n",
    "cell_1_model.renameCompartments('cell_1_external', 'cellfusedexternal')\n",
    "cell_2_model.renameCompartments('cell_2_internal', 'cellfusedinternal')\n",
    "cell_2_model.renameCompartments('cell_2_external', 'cellfusedexternal')\n",
    "cell_1_model.writeSBML('ATP_cell_1_model.xml')\n",
    "cell_2_model.writeSBML('ATP_cell_2_model.xml')"
   ]
  },
  {
   "cell_type": "code",
   "execution_count": 17,
   "metadata": {},
   "outputs": [],
   "source": [
    "fus_comb_atp=createNewSubsystem()\n",
    "fus_comb_atp.combineSubsystems([cell_1_model,cell_2_model])\n",
    "\n",
    "_ = fus_comb_atp.writeSBML('ATP_fus_comb.xml')"
   ]
  },
  {
   "cell_type": "markdown",
   "metadata": {},
   "source": [
    "# plot"
   ]
  },
  {
   "cell_type": "code",
   "execution_count": 28,
   "metadata": {},
   "outputs": [
    {
     "data": {
      "text/html": [
       "\n",
       "    <div class=\"bk-root\">\n",
       "        <a href=\"https://bokeh.org\" target=\"_blank\" class=\"bk-logo bk-logo-small bk-logo-notebook\"></a>\n",
       "        <span id=\"1035\">Loading BokehJS ...</span>\n",
       "    </div>"
      ]
     },
     "metadata": {},
     "output_type": "display_data"
    },
    {
     "data": {
      "application/javascript": [
       "\n",
       "(function(root) {\n",
       "  function now() {\n",
       "    return new Date();\n",
       "  }\n",
       "\n",
       "  var force = true;\n",
       "\n",
       "  if (typeof root._bokeh_onload_callbacks === \"undefined\" || force === true) {\n",
       "    root._bokeh_onload_callbacks = [];\n",
       "    root._bokeh_is_loading = undefined;\n",
       "  }\n",
       "\n",
       "  var JS_MIME_TYPE = 'application/javascript';\n",
       "  var HTML_MIME_TYPE = 'text/html';\n",
       "  var EXEC_MIME_TYPE = 'application/vnd.bokehjs_exec.v0+json';\n",
       "  var CLASS_NAME = 'output_bokeh rendered_html';\n",
       "\n",
       "  /**\n",
       "   * Render data to the DOM node\n",
       "   */\n",
       "  function render(props, node) {\n",
       "    var script = document.createElement(\"script\");\n",
       "    node.appendChild(script);\n",
       "  }\n",
       "\n",
       "  /**\n",
       "   * Handle when an output is cleared or removed\n",
       "   */\n",
       "  function handleClearOutput(event, handle) {\n",
       "    var cell = handle.cell;\n",
       "\n",
       "    var id = cell.output_area._bokeh_element_id;\n",
       "    var server_id = cell.output_area._bokeh_server_id;\n",
       "    // Clean up Bokeh references\n",
       "    if (id != null && id in Bokeh.index) {\n",
       "      Bokeh.index[id].model.document.clear();\n",
       "      delete Bokeh.index[id];\n",
       "    }\n",
       "\n",
       "    if (server_id !== undefined) {\n",
       "      // Clean up Bokeh references\n",
       "      var cmd = \"from bokeh.io.state import curstate; print(curstate().uuid_to_server['\" + server_id + \"'].get_sessions()[0].document.roots[0]._id)\";\n",
       "      cell.notebook.kernel.execute(cmd, {\n",
       "        iopub: {\n",
       "          output: function(msg) {\n",
       "            var id = msg.content.text.trim();\n",
       "            if (id in Bokeh.index) {\n",
       "              Bokeh.index[id].model.document.clear();\n",
       "              delete Bokeh.index[id];\n",
       "            }\n",
       "          }\n",
       "        }\n",
       "      });\n",
       "      // Destroy server and session\n",
       "      var cmd = \"import bokeh.io.notebook as ion; ion.destroy_server('\" + server_id + \"')\";\n",
       "      cell.notebook.kernel.execute(cmd);\n",
       "    }\n",
       "  }\n",
       "\n",
       "  /**\n",
       "   * Handle when a new output is added\n",
       "   */\n",
       "  function handleAddOutput(event, handle) {\n",
       "    var output_area = handle.output_area;\n",
       "    var output = handle.output;\n",
       "\n",
       "    // limit handleAddOutput to display_data with EXEC_MIME_TYPE content only\n",
       "    if ((output.output_type != \"display_data\") || (!output.data.hasOwnProperty(EXEC_MIME_TYPE))) {\n",
       "      return\n",
       "    }\n",
       "\n",
       "    var toinsert = output_area.element.find(\".\" + CLASS_NAME.split(' ')[0]);\n",
       "\n",
       "    if (output.metadata[EXEC_MIME_TYPE][\"id\"] !== undefined) {\n",
       "      toinsert[toinsert.length - 1].firstChild.textContent = output.data[JS_MIME_TYPE];\n",
       "      // store reference to embed id on output_area\n",
       "      output_area._bokeh_element_id = output.metadata[EXEC_MIME_TYPE][\"id\"];\n",
       "    }\n",
       "    if (output.metadata[EXEC_MIME_TYPE][\"server_id\"] !== undefined) {\n",
       "      var bk_div = document.createElement(\"div\");\n",
       "      bk_div.innerHTML = output.data[HTML_MIME_TYPE];\n",
       "      var script_attrs = bk_div.children[0].attributes;\n",
       "      for (var i = 0; i < script_attrs.length; i++) {\n",
       "        toinsert[toinsert.length - 1].firstChild.setAttribute(script_attrs[i].name, script_attrs[i].value);\n",
       "        toinsert[toinsert.length - 1].firstChild.textContent = bk_div.children[0].textContent\n",
       "      }\n",
       "      // store reference to server id on output_area\n",
       "      output_area._bokeh_server_id = output.metadata[EXEC_MIME_TYPE][\"server_id\"];\n",
       "    }\n",
       "  }\n",
       "\n",
       "  function register_renderer(events, OutputArea) {\n",
       "\n",
       "    function append_mime(data, metadata, element) {\n",
       "      // create a DOM node to render to\n",
       "      var toinsert = this.create_output_subarea(\n",
       "        metadata,\n",
       "        CLASS_NAME,\n",
       "        EXEC_MIME_TYPE\n",
       "      );\n",
       "      this.keyboard_manager.register_events(toinsert);\n",
       "      // Render to node\n",
       "      var props = {data: data, metadata: metadata[EXEC_MIME_TYPE]};\n",
       "      render(props, toinsert[toinsert.length - 1]);\n",
       "      element.append(toinsert);\n",
       "      return toinsert\n",
       "    }\n",
       "\n",
       "    /* Handle when an output is cleared or removed */\n",
       "    events.on('clear_output.CodeCell', handleClearOutput);\n",
       "    events.on('delete.Cell', handleClearOutput);\n",
       "\n",
       "    /* Handle when a new output is added */\n",
       "    events.on('output_added.OutputArea', handleAddOutput);\n",
       "\n",
       "    /**\n",
       "     * Register the mime type and append_mime function with output_area\n",
       "     */\n",
       "    OutputArea.prototype.register_mime_type(EXEC_MIME_TYPE, append_mime, {\n",
       "      /* Is output safe? */\n",
       "      safe: true,\n",
       "      /* Index of renderer in `output_area.display_order` */\n",
       "      index: 0\n",
       "    });\n",
       "  }\n",
       "\n",
       "  // register the mime type if in Jupyter Notebook environment and previously unregistered\n",
       "  if (root.Jupyter !== undefined) {\n",
       "    var events = require('base/js/events');\n",
       "    var OutputArea = require('notebook/js/outputarea').OutputArea;\n",
       "\n",
       "    if (OutputArea.prototype.mime_types().indexOf(EXEC_MIME_TYPE) == -1) {\n",
       "      register_renderer(events, OutputArea);\n",
       "    }\n",
       "  }\n",
       "\n",
       "  \n",
       "  if (typeof (root._bokeh_timeout) === \"undefined\" || force === true) {\n",
       "    root._bokeh_timeout = Date.now() + 5000;\n",
       "    root._bokeh_failed_load = false;\n",
       "  }\n",
       "\n",
       "  var NB_LOAD_WARNING = {'data': {'text/html':\n",
       "     \"<div style='background-color: #fdd'>\\n\"+\n",
       "     \"<p>\\n\"+\n",
       "     \"BokehJS does not appear to have successfully loaded. If loading BokehJS from CDN, this \\n\"+\n",
       "     \"may be due to a slow or bad network connection. Possible fixes:\\n\"+\n",
       "     \"</p>\\n\"+\n",
       "     \"<ul>\\n\"+\n",
       "     \"<li>re-rerun `output_notebook()` to attempt to load from CDN again, or</li>\\n\"+\n",
       "     \"<li>use INLINE resources instead, as so:</li>\\n\"+\n",
       "     \"</ul>\\n\"+\n",
       "     \"<code>\\n\"+\n",
       "     \"from bokeh.resources import INLINE\\n\"+\n",
       "     \"output_notebook(resources=INLINE)\\n\"+\n",
       "     \"</code>\\n\"+\n",
       "     \"</div>\"}};\n",
       "\n",
       "  function display_loaded() {\n",
       "    var el = document.getElementById(\"1035\");\n",
       "    if (el != null) {\n",
       "      el.textContent = \"BokehJS is loading...\";\n",
       "    }\n",
       "    if (root.Bokeh !== undefined) {\n",
       "      if (el != null) {\n",
       "        el.textContent = \"BokehJS \" + root.Bokeh.version + \" successfully loaded.\";\n",
       "      }\n",
       "    } else if (Date.now() < root._bokeh_timeout) {\n",
       "      setTimeout(display_loaded, 100)\n",
       "    }\n",
       "  }\n",
       "\n",
       "\n",
       "  function run_callbacks() {\n",
       "    try {\n",
       "      root._bokeh_onload_callbacks.forEach(function(callback) {\n",
       "        if (callback != null)\n",
       "          callback();\n",
       "      });\n",
       "    } finally {\n",
       "      delete root._bokeh_onload_callbacks\n",
       "    }\n",
       "    console.debug(\"Bokeh: all callbacks have finished\");\n",
       "  }\n",
       "\n",
       "  function load_libs(css_urls, js_urls, callback) {\n",
       "    if (css_urls == null) css_urls = [];\n",
       "    if (js_urls == null) js_urls = [];\n",
       "\n",
       "    root._bokeh_onload_callbacks.push(callback);\n",
       "    if (root._bokeh_is_loading > 0) {\n",
       "      console.debug(\"Bokeh: BokehJS is being loaded, scheduling callback at\", now());\n",
       "      return null;\n",
       "    }\n",
       "    if (js_urls == null || js_urls.length === 0) {\n",
       "      run_callbacks();\n",
       "      return null;\n",
       "    }\n",
       "    console.debug(\"Bokeh: BokehJS not loaded, scheduling load and callback at\", now());\n",
       "    root._bokeh_is_loading = css_urls.length + js_urls.length;\n",
       "\n",
       "    function on_load() {\n",
       "      root._bokeh_is_loading--;\n",
       "      if (root._bokeh_is_loading === 0) {\n",
       "        console.debug(\"Bokeh: all BokehJS libraries/stylesheets loaded\");\n",
       "        run_callbacks()\n",
       "      }\n",
       "    }\n",
       "\n",
       "    function on_error() {\n",
       "      console.error(\"failed to load \" + url);\n",
       "    }\n",
       "\n",
       "    for (var i = 0; i < css_urls.length; i++) {\n",
       "      var url = css_urls[i];\n",
       "      const element = document.createElement(\"link\");\n",
       "      element.onload = on_load;\n",
       "      element.onerror = on_error;\n",
       "      element.rel = \"stylesheet\";\n",
       "      element.type = \"text/css\";\n",
       "      element.href = url;\n",
       "      console.debug(\"Bokeh: injecting link tag for BokehJS stylesheet: \", url);\n",
       "      document.body.appendChild(element);\n",
       "    }\n",
       "\n",
       "    const hashes = {\"https://cdn.bokeh.org/bokeh/release/bokeh-2.0.2.min.js\": \"ufR9RFnRs6lniiaFvtJziE0YeidtAgBRH6ux2oUItHw5WTvE1zuk9uzhUU/FJXDp\", \"https://cdn.bokeh.org/bokeh/release/bokeh-widgets-2.0.2.min.js\": \"8QM/PGWBT+IssZuRcDcjzwIh1mkOmJSoNMmyYDZbCfXJg3Ap1lEvdVgFuSAwhb/J\", \"https://cdn.bokeh.org/bokeh/release/bokeh-tables-2.0.2.min.js\": \"Jm8cH3Rg0P6UeZhVY5cLy1WzKajUT9KImCY+76hEqrcJt59/d8GPvFHjCkYgnSIn\", \"https://cdn.bokeh.org/bokeh/release/bokeh-gl-2.0.2.min.js\": \"Ozhzj+SI7ywm74aOI/UajcWz+C0NjsPunEVyVIrxzYkB+jA+2tUw8x5xJCbVtK5I\"};\n",
       "\n",
       "    for (var i = 0; i < js_urls.length; i++) {\n",
       "      var url = js_urls[i];\n",
       "      var element = document.createElement('script');\n",
       "      element.onload = on_load;\n",
       "      element.onerror = on_error;\n",
       "      element.async = false;\n",
       "      element.src = url;\n",
       "      if (url in hashes) {\n",
       "        element.crossOrigin = \"anonymous\";\n",
       "        element.integrity = \"sha384-\" + hashes[url];\n",
       "      }\n",
       "      console.debug(\"Bokeh: injecting script tag for BokehJS library: \", url);\n",
       "      document.head.appendChild(element);\n",
       "    }\n",
       "  };\n",
       "\n",
       "  function inject_raw_css(css) {\n",
       "    const element = document.createElement(\"style\");\n",
       "    element.appendChild(document.createTextNode(css));\n",
       "    document.body.appendChild(element);\n",
       "  }\n",
       "\n",
       "  \n",
       "  var js_urls = [\"https://cdn.bokeh.org/bokeh/release/bokeh-2.0.2.min.js\", \"https://cdn.bokeh.org/bokeh/release/bokeh-widgets-2.0.2.min.js\", \"https://cdn.bokeh.org/bokeh/release/bokeh-tables-2.0.2.min.js\", \"https://cdn.bokeh.org/bokeh/release/bokeh-gl-2.0.2.min.js\"];\n",
       "  var css_urls = [];\n",
       "  \n",
       "\n",
       "  var inline_js = [\n",
       "    function(Bokeh) {\n",
       "      Bokeh.set_log_level(\"info\");\n",
       "    },\n",
       "    function(Bokeh) {\n",
       "    \n",
       "    \n",
       "    }\n",
       "  ];\n",
       "\n",
       "  function run_inline_js() {\n",
       "    \n",
       "    if (root.Bokeh !== undefined || force === true) {\n",
       "      \n",
       "    for (var i = 0; i < inline_js.length; i++) {\n",
       "      inline_js[i].call(root, root.Bokeh);\n",
       "    }\n",
       "    if (force === true) {\n",
       "        display_loaded();\n",
       "      }} else if (Date.now() < root._bokeh_timeout) {\n",
       "      setTimeout(run_inline_js, 100);\n",
       "    } else if (!root._bokeh_failed_load) {\n",
       "      console.log(\"Bokeh: BokehJS failed to load within specified timeout.\");\n",
       "      root._bokeh_failed_load = true;\n",
       "    } else if (force !== true) {\n",
       "      var cell = $(document.getElementById(\"1035\")).parents('.cell').data().cell;\n",
       "      cell.output_area.append_execute_result(NB_LOAD_WARNING)\n",
       "    }\n",
       "\n",
       "  }\n",
       "\n",
       "  if (root._bokeh_is_loading === 0) {\n",
       "    console.debug(\"Bokeh: BokehJS loaded, going straight to plotting\");\n",
       "    run_inline_js();\n",
       "  } else {\n",
       "    load_libs(css_urls, js_urls, function() {\n",
       "      console.debug(\"Bokeh: BokehJS plotting callback run at\", now());\n",
       "      run_inline_js();\n",
       "    });\n",
       "  }\n",
       "}(window));"
      ],
      "application/vnd.bokehjs_load.v0+json": "\n(function(root) {\n  function now() {\n    return new Date();\n  }\n\n  var force = true;\n\n  if (typeof root._bokeh_onload_callbacks === \"undefined\" || force === true) {\n    root._bokeh_onload_callbacks = [];\n    root._bokeh_is_loading = undefined;\n  }\n\n  \n\n  \n  if (typeof (root._bokeh_timeout) === \"undefined\" || force === true) {\n    root._bokeh_timeout = Date.now() + 5000;\n    root._bokeh_failed_load = false;\n  }\n\n  var NB_LOAD_WARNING = {'data': {'text/html':\n     \"<div style='background-color: #fdd'>\\n\"+\n     \"<p>\\n\"+\n     \"BokehJS does not appear to have successfully loaded. If loading BokehJS from CDN, this \\n\"+\n     \"may be due to a slow or bad network connection. Possible fixes:\\n\"+\n     \"</p>\\n\"+\n     \"<ul>\\n\"+\n     \"<li>re-rerun `output_notebook()` to attempt to load from CDN again, or</li>\\n\"+\n     \"<li>use INLINE resources instead, as so:</li>\\n\"+\n     \"</ul>\\n\"+\n     \"<code>\\n\"+\n     \"from bokeh.resources import INLINE\\n\"+\n     \"output_notebook(resources=INLINE)\\n\"+\n     \"</code>\\n\"+\n     \"</div>\"}};\n\n  function display_loaded() {\n    var el = document.getElementById(\"1035\");\n    if (el != null) {\n      el.textContent = \"BokehJS is loading...\";\n    }\n    if (root.Bokeh !== undefined) {\n      if (el != null) {\n        el.textContent = \"BokehJS \" + root.Bokeh.version + \" successfully loaded.\";\n      }\n    } else if (Date.now() < root._bokeh_timeout) {\n      setTimeout(display_loaded, 100)\n    }\n  }\n\n\n  function run_callbacks() {\n    try {\n      root._bokeh_onload_callbacks.forEach(function(callback) {\n        if (callback != null)\n          callback();\n      });\n    } finally {\n      delete root._bokeh_onload_callbacks\n    }\n    console.debug(\"Bokeh: all callbacks have finished\");\n  }\n\n  function load_libs(css_urls, js_urls, callback) {\n    if (css_urls == null) css_urls = [];\n    if (js_urls == null) js_urls = [];\n\n    root._bokeh_onload_callbacks.push(callback);\n    if (root._bokeh_is_loading > 0) {\n      console.debug(\"Bokeh: BokehJS is being loaded, scheduling callback at\", now());\n      return null;\n    }\n    if (js_urls == null || js_urls.length === 0) {\n      run_callbacks();\n      return null;\n    }\n    console.debug(\"Bokeh: BokehJS not loaded, scheduling load and callback at\", now());\n    root._bokeh_is_loading = css_urls.length + js_urls.length;\n\n    function on_load() {\n      root._bokeh_is_loading--;\n      if (root._bokeh_is_loading === 0) {\n        console.debug(\"Bokeh: all BokehJS libraries/stylesheets loaded\");\n        run_callbacks()\n      }\n    }\n\n    function on_error() {\n      console.error(\"failed to load \" + url);\n    }\n\n    for (var i = 0; i < css_urls.length; i++) {\n      var url = css_urls[i];\n      const element = document.createElement(\"link\");\n      element.onload = on_load;\n      element.onerror = on_error;\n      element.rel = \"stylesheet\";\n      element.type = \"text/css\";\n      element.href = url;\n      console.debug(\"Bokeh: injecting link tag for BokehJS stylesheet: \", url);\n      document.body.appendChild(element);\n    }\n\n    const hashes = {\"https://cdn.bokeh.org/bokeh/release/bokeh-2.0.2.min.js\": \"ufR9RFnRs6lniiaFvtJziE0YeidtAgBRH6ux2oUItHw5WTvE1zuk9uzhUU/FJXDp\", \"https://cdn.bokeh.org/bokeh/release/bokeh-widgets-2.0.2.min.js\": \"8QM/PGWBT+IssZuRcDcjzwIh1mkOmJSoNMmyYDZbCfXJg3Ap1lEvdVgFuSAwhb/J\", \"https://cdn.bokeh.org/bokeh/release/bokeh-tables-2.0.2.min.js\": \"Jm8cH3Rg0P6UeZhVY5cLy1WzKajUT9KImCY+76hEqrcJt59/d8GPvFHjCkYgnSIn\", \"https://cdn.bokeh.org/bokeh/release/bokeh-gl-2.0.2.min.js\": \"Ozhzj+SI7ywm74aOI/UajcWz+C0NjsPunEVyVIrxzYkB+jA+2tUw8x5xJCbVtK5I\"};\n\n    for (var i = 0; i < js_urls.length; i++) {\n      var url = js_urls[i];\n      var element = document.createElement('script');\n      element.onload = on_load;\n      element.onerror = on_error;\n      element.async = false;\n      element.src = url;\n      if (url in hashes) {\n        element.crossOrigin = \"anonymous\";\n        element.integrity = \"sha384-\" + hashes[url];\n      }\n      console.debug(\"Bokeh: injecting script tag for BokehJS library: \", url);\n      document.head.appendChild(element);\n    }\n  };\n\n  function inject_raw_css(css) {\n    const element = document.createElement(\"style\");\n    element.appendChild(document.createTextNode(css));\n    document.body.appendChild(element);\n  }\n\n  \n  var js_urls = [\"https://cdn.bokeh.org/bokeh/release/bokeh-2.0.2.min.js\", \"https://cdn.bokeh.org/bokeh/release/bokeh-widgets-2.0.2.min.js\", \"https://cdn.bokeh.org/bokeh/release/bokeh-tables-2.0.2.min.js\", \"https://cdn.bokeh.org/bokeh/release/bokeh-gl-2.0.2.min.js\"];\n  var css_urls = [];\n  \n\n  var inline_js = [\n    function(Bokeh) {\n      Bokeh.set_log_level(\"info\");\n    },\n    function(Bokeh) {\n    \n    \n    }\n  ];\n\n  function run_inline_js() {\n    \n    if (root.Bokeh !== undefined || force === true) {\n      \n    for (var i = 0; i < inline_js.length; i++) {\n      inline_js[i].call(root, root.Bokeh);\n    }\n    if (force === true) {\n        display_loaded();\n      }} else if (Date.now() < root._bokeh_timeout) {\n      setTimeout(run_inline_js, 100);\n    } else if (!root._bokeh_failed_load) {\n      console.log(\"Bokeh: BokehJS failed to load within specified timeout.\");\n      root._bokeh_failed_load = true;\n    } else if (force !== true) {\n      var cell = $(document.getElementById(\"1035\")).parents('.cell').data().cell;\n      cell.output_area.append_execute_result(NB_LOAD_WARNING)\n    }\n\n  }\n\n  if (root._bokeh_is_loading === 0) {\n    console.debug(\"Bokeh: BokehJS loaded, going straight to plotting\");\n    run_inline_js();\n  } else {\n    load_libs(css_urls, js_urls, function() {\n      console.debug(\"Bokeh: BokehJS plotting callback run at\", now());\n      run_inline_js();\n    });\n  }\n}(window));"
     },
     "metadata": {},
     "output_type": "display_data"
    }
   ],
   "source": [
    "import bokeh.io\n",
    "import bokeh.plotting\n",
    "bokeh.io.output_notebook()\n",
    "import colorcet"
   ]
  },
  {
   "cell_type": "code",
   "execution_count": 30,
   "metadata": {},
   "outputs": [
    {
     "name": "stderr",
     "output_type": "stream",
     "text": [
      "/Users/ankitaroychoudhury/opt/anaconda3/lib/python3.7/site-packages/bioscrape/sbmlutil.py:93: UserWarning: SBML model contains reversible reaction!\n",
      "Please check rate expressions and ensure they are non-negative before doing stochastic simulations.\n",
      "  'Please check rate expressions and ensure they are non-negative before doing '+\n",
      "/Users/ankitaroychoudhury/opt/anaconda3/lib/python3.7/site-packages/bioscrape/sbmlutil.py:208: UserWarning: Compartments, UnitDefintions, Events, and some other SBML model components are not recognized by bioscrape. Refer to the bioscrape wiki for more information.\n",
      "  warnings.warn('Compartments, UnitDefintions, Events, and some other SBML model components are not recognized by bioscrape. ' +\n",
      "/Users/ankitaroychoudhury/opt/anaconda3/lib/python3.7/site-packages/scipy/integrate/odepack.py:248: ODEintWarning: Excess work done on this call (perhaps wrong Dfun type). Run with full_output = 1 to get quantitative information.\n",
      "  warnings.warn(warning_msg, ODEintWarning)\n",
      "odeint failed with mxstep=500...odeint failed with mxstep=500...odeint failed with mxstep=500..."
     ]
    },
    {
     "data": {
      "text/html": [
       "\n",
       "\n",
       "\n",
       "\n",
       "\n",
       "\n",
       "  <div class=\"bk-root\" id=\"77fe0ed4-c329-46b6-ad7c-945f2e388c43\" data-root-id=\"1228\"></div>\n"
      ]
     },
     "metadata": {},
     "output_type": "display_data"
    },
    {
     "data": {
      "application/javascript": [
       "(function(root) {\n",
       "  function embed_document(root) {\n",
       "    \n",
       "  var docs_json = {\"2a9663d6-5d5c-457c-bb55-538d2dbd81e7\":{\"roots\":{\"references\":[{\"attributes\":{\"below\":[{\"id\":\"1239\"}],\"center\":[{\"id\":\"1242\"},{\"id\":\"1246\"},{\"id\":\"1272\"}],\"left\":[{\"id\":\"1243\"}],\"plot_height\":400,\"plot_width\":480,\"renderers\":[{\"id\":\"1264\"},{\"id\":\"1277\"},{\"id\":\"1291\"},{\"id\":\"1307\"}],\"title\":{\"id\":\"1229\"},\"toolbar\":{\"id\":\"1254\"},\"x_range\":{\"id\":\"1231\"},\"x_scale\":{\"id\":\"1235\"},\"y_range\":{\"id\":\"1233\"},\"y_scale\":{\"id\":\"1237\"}},\"id\":\"1228\",\"subtype\":\"Figure\",\"type\":\"Plot\"},{\"attributes\":{\"data_source\":{\"id\":\"1274\"},\"glyph\":{\"id\":\"1275\"},\"hover_glyph\":null,\"muted_glyph\":null,\"nonselection_glyph\":{\"id\":\"1276\"},\"selection_glyph\":null,\"view\":{\"id\":\"1278\"}},\"id\":\"1277\",\"type\":\"GlyphRenderer\"},{\"attributes\":{\"source\":{\"id\":\"1261\"}},\"id\":\"1265\",\"type\":\"CDSView\"},{\"attributes\":{\"line_color\":\"#9367bc\",\"line_width\":3,\"x\":{\"field\":\"x\"},\"y\":{\"field\":\"y\"}},\"id\":\"1305\",\"type\":\"Line\"},{\"attributes\":{\"line_color\":\"#2ba02b\",\"line_width\":3,\"x\":{\"field\":\"x\"},\"y\":{\"field\":\"y\"}},\"id\":\"1289\",\"type\":\"Line\"},{\"attributes\":{\"data\":{\"x\":{\"__ndarray__\":\"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\",\"dtype\":\"float64\",\"shape\":[200]},\"y\":{\"__ndarray__\":\"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\",\"dtype\":\"float64\",\"shape\":[200]}},\"selected\":{\"id\":\"1349\"},\"selection_policy\":{\"id\":\"1348\"}},\"id\":\"1304\",\"type\":\"ColumnDataSource\"},{\"attributes\":{\"source\":{\"id\":\"1304\"}},\"id\":\"1308\",\"type\":\"CDSView\"},{\"attributes\":{\"data_source\":{\"id\":\"1261\"},\"glyph\":{\"id\":\"1262\"},\"hover_glyph\":null,\"muted_glyph\":null,\"nonselection_glyph\":{\"id\":\"1263\"},\"selection_glyph\":null,\"view\":{\"id\":\"1265\"}},\"id\":\"1264\",\"type\":\"GlyphRenderer\"},{\"attributes\":{},\"id\":\"1286\",\"type\":\"Selection\"},{\"attributes\":{\"source\":{\"id\":\"1288\"}},\"id\":\"1292\",\"type\":\"CDSView\"},{\"attributes\":{\"label\":{\"value\":\"ATP Fused Cell\"},\"renderers\":[{\"id\":\"1307\"}]},\"id\":\"1321\",\"type\":\"LegendItem\"},{\"attributes\":{\"data_source\":{\"id\":\"1304\"},\"glyph\":{\"id\":\"1305\"},\"hover_glyph\":null,\"muted_glyph\":null,\"nonselection_glyph\":{\"id\":\"1306\"},\"selection_glyph\":null,\"view\":{\"id\":\"1308\"}},\"id\":\"1307\",\"type\":\"GlyphRenderer\"},{\"attributes\":{},\"id\":\"1268\",\"type\":\"BasicTickFormatter\"},{\"attributes\":{\"axis_label\":\"Concentration (mM)\",\"formatter\":{\"id\":\"1268\"},\"ticker\":{\"id\":\"1244\"}},\"id\":\"1243\",\"type\":\"LinearAxis\"},{\"attributes\":{},\"id\":\"1248\",\"type\":\"WheelZoomTool\"},{\"attributes\":{},\"id\":\"1252\",\"type\":\"HelpTool\"},{\"attributes\":{\"line_alpha\":0.1,\"line_color\":\"#2ba02b\",\"line_width\":3,\"x\":{\"field\":\"x\"},\"y\":{\"field\":\"y\"}},\"id\":\"1290\",\"type\":\"Line\"},{\"attributes\":{},\"id\":\"1237\",\"type\":\"LinearScale\"},{\"attributes\":{\"line_alpha\":0.1,\"line_color\":\"#ff7e0e\",\"line_width\":3,\"x\":{\"field\":\"x\"},\"y\":{\"field\":\"y\"}},\"id\":\"1276\",\"type\":\"Line\"},{\"attributes\":{},\"id\":\"1348\",\"type\":\"UnionRenderers\"},{\"attributes\":{},\"id\":\"1240\",\"type\":\"BasicTicker\"},{\"attributes\":{\"bottom_units\":\"screen\",\"fill_alpha\":0.5,\"fill_color\":\"lightgrey\",\"left_units\":\"screen\",\"level\":\"overlay\",\"line_alpha\":1.0,\"line_color\":\"black\",\"line_dash\":[4,4],\"line_width\":2,\"render_mode\":\"css\",\"right_units\":\"screen\",\"top_units\":\"screen\"},\"id\":\"1253\",\"type\":\"BoxAnnotation\"},{\"attributes\":{},\"id\":\"1301\",\"type\":\"UnionRenderers\"},{\"attributes\":{},\"id\":\"1349\",\"type\":\"Selection\"},{\"attributes\":{\"line_color\":\"#ff7e0e\",\"line_width\":3,\"x\":{\"field\":\"x\"},\"y\":{\"field\":\"y\"}},\"id\":\"1275\",\"type\":\"Line\"},{\"attributes\":{\"data\":{\"x\":{\"__ndarray__\":\"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\",\"dtype\":\"float64\",\"shape\":[200]},\"y\":{\"__ndarray__\":\"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\",\"dtype\":\"float64\",\"shape\":[200]}},\"selected\":{\"id\":\"1320\"},\"selection_policy\":{\"id\":\"1319\"}},\"id\":\"1288\",\"type\":\"ColumnDataSource\"},{\"attributes\":{\"items\":[{\"id\":\"1273\"},{\"id\":\"1287\"},{\"id\":\"1303\"},{\"id\":\"1321\"}],\"location\":\"bottom_right\"},\"id\":\"1272\",\"type\":\"Legend\"},{\"attributes\":{\"line_color\":\"#1f77b3\",\"line_width\":3,\"x\":{\"field\":\"x\"},\"y\":{\"field\":\"y\"}},\"id\":\"1262\",\"type\":\"Line\"},{\"attributes\":{\"data\":{\"x\":{\"__ndarray__\":\"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\",\"dtype\":\"float64\",\"shape\":[200]},\"y\":{\"__ndarray__\":\"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\",\"dtype\":\"float64\",\"shape\":[200]}},\"selected\":{\"id\":\"1286\"},\"selection_policy\":{\"id\":\"1285\"}},\"id\":\"1261\",\"type\":\"ColumnDataSource\"},{\"attributes\":{},\"id\":\"1251\",\"type\":\"ResetTool\"},{\"attributes\":{},\"id\":\"1270\",\"type\":\"BasicTickFormatter\"},{\"attributes\":{\"label\":{\"value\":\"GFP Fused Cell\"},\"renderers\":[{\"id\":\"1291\"}]},\"id\":\"1303\",\"type\":\"LegendItem\"},{\"attributes\":{\"source\":{\"id\":\"1274\"}},\"id\":\"1278\",\"type\":\"CDSView\"},{\"attributes\":{\"line_alpha\":0.1,\"line_color\":\"#9367bc\",\"line_width\":3,\"x\":{\"field\":\"x\"},\"y\":{\"field\":\"y\"}},\"id\":\"1306\",\"type\":\"Line\"},{\"attributes\":{\"label\":{\"value\":\"GFP Cell 2\"},\"renderers\":[{\"id\":\"1277\"}]},\"id\":\"1287\",\"type\":\"LegendItem\"},{\"attributes\":{\"axis\":{\"id\":\"1239\"},\"ticker\":null},\"id\":\"1242\",\"type\":\"Grid\"},{\"attributes\":{\"active_drag\":\"auto\",\"active_inspect\":\"auto\",\"active_multi\":null,\"active_scroll\":\"auto\",\"active_tap\":\"auto\",\"tools\":[{\"id\":\"1247\"},{\"id\":\"1248\"},{\"id\":\"1249\"},{\"id\":\"1250\"},{\"id\":\"1251\"},{\"id\":\"1252\"}]},\"id\":\"1254\",\"type\":\"Toolbar\"},{\"attributes\":{\"data\":{\"x\":{\"__ndarray__\":\"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\",\"dtype\":\"float64\",\"shape\":[200]},\"y\":{\"__ndarray__\":\"AAAAAAAAAAAAAAAAAAAAAAAAAAAAAAAAAAAAAAAAAAAAAAAAAAAAAAAAAAAAAAAAAAAAAAAAAAAAAAAAAAAAAAAAAAAAAAAAAAAAAAAAAAAAAAAAAAAAAAAAAAAAAAAAAAAAAAAAAAAAAAAAAAAAAAAAAAAAAAAAAAAAAAAAAAAAAAAAAAAAAAAAAAAAAAAAAAAAAAAAAAAAAAAAAAAAAAAAAAAAAAAAAAAAAAAAAAAAAAAAAAAAAAAAAAAAAAAAAAAAAAAAAAAAAAAAAAAAAAAAAAAAAAAAAAAAAAAAAAAAAAAAAAAAAAAAAAAAAAAAAAAAAAAAAAAAAAAAAAAAAAAAAAAAAAAAAAAAAAAAAAAAAAAAAAAAAAAAAAAAAAAAAAAAAAAAAAAAAAAAAAAAAAAAAAAAAAAAAAAAAAAAAAAAAAAAAAAAAAAAAAAAAAAAAAAAAAAAAAAAAAAAAAAAAAAAAAAAAAAAAAAAAAAAAAAAAAAAAAAAAAAAAAAAAAAAAAAAAAAAAAAAAAAAAAAAAAAAAAAAAAAAAAAAAAAAAAAAAAAAAAAAAAAAAAAAAAAAAAAAAAAAAAAAAAAAAAAAAAAAAAAAAAAAAAAAAAAAAAAAAAAAAAAAAAAAAAAAAAAAAAAAAAAAAAAAAAAAAAAAAAAAAAAAAAAAAAAAAAAAAAAAAAAAAAAAAAAAAAAAAAAAAAAAAAAAAAAAAAAAAAAAAAAAAAAAAAAAAAAAAAAAAAAAAAAAAAAAACBHFxDwKIA6cLHINytXmjpQB8iZtlyoOuRlyLCj4rI6HEqPK3jGujqwU5R31vbBOl46whYLNsc6kFRJDMQqzTr2zpC4de/ROviIIa81rtU6DtZS9pbW2Tr/s6Cajm3eOj7J/bXt8eA6KC6UqTdq4jqKENukI9njOsxpvNHXO+U6UjMiWnqP5jqHZvZnMdHnOtD8IiUj/ug6ke+Ru3UT6joyOC1VTw7rOhjQ3hvW6+s6q7CQOTCp7DpP0yzYg0PtOnIs7fRHHu869BP4i/qa8Dp5FAEe7cHxOkpBLlwdBvM65EMc8qxp9DrIxWeLve71OmxwrdNwl/c6Yu2Jduhl+Tog5pkfRlz7OicEenqrfP069vDGMjrJ/zp8T/KzAwQAO/4yTByeJgE7aVrnuGk8Aju+xcOJZkUDO/104Y6UQQQ7JWhAyPMwBTs3n+A1hBMGOzIawtdF6QY7F9nkrTiyBzvl20i4XG4IO50i7vaxHQk7P63UaTjACTsA39X+gioZO4DNIUPYsCs7gJuGtamENTvAlZZ7WU89OwBr4Lk9nEI7gK0CzwegRjtAEzL9CrNKO2CbbkRH1U47QCNcUl6DUTsgigePtaNTO3CCOVipy1U7EAzyrTn7VzswJzGQZjJaO7DT9v4vcVw7kBFD+pW3Xjto8ApBzIJgO7igN8ubrWE7uJmnmzncYjtw21qypQ5kO9BlUQ/gRGU76DiLsuh+ZjuwVAicv7xnOyi5yMtk/mg7WGbMQdhDajs4XBP+GY1rO8ianQAq2mw7ECJrSQgrbjsA8nvYtH9vO1QF6NYXbHA7ALazZDwacTsIC6EVSMpxO2QEsOk6fHI7HKLg4BQwczso5DL71eVzO5TKpjh+nXQ7VFU8mQ1XdTtwhPMchBJ2O+BXzMPhz3Y7qM/GjSaPdzvQ6+J6UlB4O0ysIItlE3k7IBGAvl/YeTtQGgEVQZ96O9zHo44JaHs7vBloK7kyfDv0D07rT/98O4yqVc7NzX07dOl+1DKefju4zMn9fnB/OywqGyVZIoA7KEDiXGaNgDtOKDomZ/mAO6TiIoFbZoE7Im+cbUPUgTvQzabrHkOCO6r+QfvtsoI7rAFunLAjgzvi1irPZpWDOz5+eJMQCIQ7yvdW6a17hDuCQ8bQPvCEO2dhxknDZYU7d1FXVDvchTu1E3nwplOGOx2oKx4GzIY7tA5v3VhFhzt2R0Mun7+HO2VSqBDZOog7fy+ehAa3iDvE3iSKJzSJOztgPCE8sok72bPkSUQxijup2R0EQLGKO6DR508vMos7yJtCLRK0izsXOC6c6DaMO5mmqpyyuow7Que3LnA/jTsd+lVSIcWNOx3fhAfGS447UZZETl7TjjurH5Um6luPOw==\",\"dtype\":\"float64\",\"shape\":[200]}},\"selected\":{\"id\":\"1302\"},\"selection_policy\":{\"id\":\"1301\"}},\"id\":\"1274\",\"type\":\"ColumnDataSource\"},{\"attributes\":{\"text\":\"With Rheostat\"},\"id\":\"1229\",\"type\":\"Title\"},{\"attributes\":{\"axis_label\":\"Time (hrs)\",\"formatter\":{\"id\":\"1270\"},\"ticker\":{\"id\":\"1240\"}},\"id\":\"1239\",\"type\":\"LinearAxis\"},{\"attributes\":{\"axis\":{\"id\":\"1243\"},\"dimension\":1,\"ticker\":null},\"id\":\"1246\",\"type\":\"Grid\"},{\"attributes\":{},\"id\":\"1320\",\"type\":\"Selection\"},{\"attributes\":{\"data_source\":{\"id\":\"1288\"},\"glyph\":{\"id\":\"1289\"},\"hover_glyph\":null,\"muted_glyph\":null,\"nonselection_glyph\":{\"id\":\"1290\"},\"selection_glyph\":null,\"view\":{\"id\":\"1292\"}},\"id\":\"1291\",\"type\":\"GlyphRenderer\"},{\"attributes\":{},\"id\":\"1231\",\"type\":\"DataRange1d\"},{\"attributes\":{},\"id\":\"1250\",\"type\":\"SaveTool\"},{\"attributes\":{},\"id\":\"1247\",\"type\":\"PanTool\"},{\"attributes\":{},\"id\":\"1233\",\"type\":\"DataRange1d\"},{\"attributes\":{},\"id\":\"1244\",\"type\":\"BasicTicker\"},{\"attributes\":{\"overlay\":{\"id\":\"1253\"}},\"id\":\"1249\",\"type\":\"BoxZoomTool\"},{\"attributes\":{},\"id\":\"1302\",\"type\":\"Selection\"},{\"attributes\":{\"label\":{\"value\":\"exsA\"},\"renderers\":[{\"id\":\"1264\"}]},\"id\":\"1273\",\"type\":\"LegendItem\"},{\"attributes\":{},\"id\":\"1285\",\"type\":\"UnionRenderers\"},{\"attributes\":{},\"id\":\"1319\",\"type\":\"UnionRenderers\"},{\"attributes\":{\"line_alpha\":0.1,\"line_color\":\"#1f77b3\",\"line_width\":3,\"x\":{\"field\":\"x\"},\"y\":{\"field\":\"y\"}},\"id\":\"1263\",\"type\":\"Line\"},{\"attributes\":{},\"id\":\"1235\",\"type\":\"LinearScale\"}],\"root_ids\":[\"1228\"]},\"title\":\"Bokeh Application\",\"version\":\"2.0.2\"}};\n",
       "  var render_items = [{\"docid\":\"2a9663d6-5d5c-457c-bb55-538d2dbd81e7\",\"root_ids\":[\"1228\"],\"roots\":{\"1228\":\"77fe0ed4-c329-46b6-ad7c-945f2e388c43\"}}];\n",
       "  root.Bokeh.embed.embed_items_notebook(docs_json, render_items);\n",
       "\n",
       "  }\n",
       "  if (root.Bokeh !== undefined) {\n",
       "    embed_document(root);\n",
       "  } else {\n",
       "    var attempts = 0;\n",
       "    var timer = setInterval(function(root) {\n",
       "      if (root.Bokeh !== undefined) {\n",
       "        clearInterval(timer);\n",
       "        embed_document(root);\n",
       "      } else {\n",
       "        attempts++;\n",
       "        if (attempts > 100) {\n",
       "          clearInterval(timer);\n",
       "          console.log(\"Bokeh: ERROR: Unable to run BokehJS code because BokehJS library is missing\");\n",
       "        }\n",
       "      }\n",
       "    }, 10, root)\n",
       "  }\n",
       "})(window);"
      ],
      "application/vnd.bokehjs_exec.v0+json": ""
     },
     "metadata": {
      "application/vnd.bokehjs_exec.v0+json": {
       "id": "1228"
      }
     },
     "output_type": "display_data"
    }
   ],
   "source": [
    "#timepoints = np.linspace(0,70000,1000000)\n",
    "timepoints = np.linspace(0,70000,200)\n",
    "\n",
    "palette = colorcet.b_glasbey_category10\n",
    "results_1, _ = cell_1_model.simulateWithBioscrape(timepoints)\n",
    "results_2, _ = cell_2_model.simulateWithBioscrape(timepoints)\n",
    "results_3, _ = fus_comb_atp.simulateWithBioscrape(timepoints)\n",
    "exsA_id1 = cell_1_model.getSpeciesByName('exsA', compartment = 'cellfusedinternal').getId()\n",
    "gfp_id2 = cell_2_model.getSpeciesByName('gfp', compartment = 'cellfusedinternal').getId()\n",
    "gfp_id3 = fus_comb_atp.getSpeciesByName('gfp', compartment = 'cellfusedinternal').getId()\n",
    "ATP_id1 = fus_comb_atp.getSpeciesByName('ATP', compartment = 'cellfusedinternal').getId()\n",
    "\n",
    "# plt.plot(timepoints, results_1[exsA_id1], linewidth = 3, label = 'exsA')\n",
    "# plt.plot(timepoints, results_2[gfp_id2], linewidth = 3, label = 'gfp_cell2')\n",
    "# plt.plot(timepoints, results_3[gfp_id3], linewidth = 3, label = 'gfp_fused cell')\n",
    "# plt.plot(timepoints, results_3[ATP_id1], linewidth = 3, label = 'ATP_fused cell')\n",
    "\n",
    "# plt.title(\"Fusion with Rheostat: ATP=50\")\n",
    "# plt.xlabel('Time')\n",
    "# plt.ylabel('Conc')\n",
    "# plt.legend()\n",
    "# plt.show()\n",
    "\n",
    "p = bokeh.plotting.figure(width= 480, height = 400, title = 'With Rheostat',\n",
    "                         y_axis_label = 'Concentration (mM)',\n",
    "                         x_axis_label = 'Time (hrs)')\n",
    "\n",
    "p.line(timepoints/60/60, results_1[exsA_id1], line_width = 3, legend_label = 'exsA',\n",
    "      color = palette[0])\n",
    "p.line(timepoints/60/60, results_2[gfp_id2], line_width = 3, legend_label = 'GFP Cell 2',\n",
    "      color = palette[1])\n",
    "p.line(timepoints/60/60, results_3[gfp_id3], line_width = 3, legend_label = 'GFP Fused Cell',\n",
    "      color = palette[2])\n",
    "\n",
    "p.line(timepoints/60/60, results_3[ATP_id1], line_width = 3, legend_label = 'ATP Fused Cell',\n",
    "      color = palette[4])\n",
    "\n",
    "p.legend.location = 'bottom_right'\n",
    "bokeh.io.show(p)"
   ]
  },
  {
   "cell_type": "markdown",
   "metadata": {},
   "source": [
    "# Cell without Rheostat"
   ]
  },
  {
   "cell_type": "markdown",
   "metadata": {},
   "source": [
    "# cell 1"
   ]
  },
  {
   "cell_type": "code",
   "execution_count": 31,
   "metadata": {},
   "outputs": [
    {
     "name": "stdout",
     "output_type": "stream",
     "text": [
      "The subsystem from membrane_atc.xml has multiple compartments\n"
     ]
    },
    {
     "data": {
      "text/plain": [
       "True"
      ]
     },
     "execution_count": 31,
     "metadata": {},
     "output_type": "execute_result"
    }
   ],
   "source": [
    "ss1 = createSubsystem('fusion_sub1.xml')\n",
    "ss3 = createSubsystem('atc_external_reservoir.xml')\n",
    "mb1 = createSubsystem('membrane_atc.xml', membrane = True)\n",
    "cell_3 =  System('cell_3',ListOfInternalSubsystems = [ss1],\n",
    "                 ListOfExternalSubsystems = [ss3],\n",
    "                 ListOfMembraneSubsystems = [mb1])\n",
    "\n",
    "cell_3_model = cell_3.getModel()\n",
    "cell_3_model.setSpeciesAmount('atc_e', 1e4, compartment = 'cell_3_external')\n",
    "cell_3_model.setSpeciesAmount('dna_f', 1, compartment = 'cell_3_internal')\n",
    "cell_3_model.setSpeciesAmount('tetR', 10, compartment = 'cell_3_internal')\n",
    "cell_3_model.setSpeciesAmount('ATP', 20, compartment = 'cell_3_internal')\n"
   ]
  },
  {
   "cell_type": "markdown",
   "metadata": {},
   "source": [
    "# cell 2"
   ]
  },
  {
   "cell_type": "code",
   "execution_count": 32,
   "metadata": {},
   "outputs": [
    {
     "name": "stdout",
     "output_type": "stream",
     "text": [
      "The subsystem from membrane_atc.xml has multiple compartments\n"
     ]
    },
    {
     "data": {
      "text/plain": [
       "True"
      ]
     },
     "execution_count": 32,
     "metadata": {},
     "output_type": "execute_result"
    }
   ],
   "source": [
    "ss2 = createSubsystem('fusion_sub2.xml')\n",
    "ss3 = createSubsystem('atc_external_reservoir.xml')\n",
    "mb1 = createSubsystem('membrane_atc.xml', membrane = True)\n",
    "cell_4 =  System('cell_4',ListOfInternalSubsystems = [ss2],\n",
    "                 ListOfExternalSubsystems = [ss3],\n",
    "                 ListOfMembraneSubsystems = [mb1])\n",
    "cell_4_model = cell_4.getModel()\n",
    "cell_4_model.setSpeciesAmount('atc_e', 1e4, compartment = 'cell_4_external')\n",
    "cell_4_model.setSpeciesAmount('dna_h', 1, compartment = 'cell_4_internal')\n",
    "cell_4_model.setSpeciesAmount('ATP', 20, compartment = 'cell_4_internal')\n"
   ]
  },
  {
   "cell_type": "markdown",
   "metadata": {},
   "source": [
    "# prep. for fusing by changing compartment"
   ]
  },
  {
   "cell_type": "code",
   "execution_count": 33,
   "metadata": {},
   "outputs": [
    {
     "data": {
      "text/plain": [
       "1"
      ]
     },
     "execution_count": 33,
     "metadata": {},
     "output_type": "execute_result"
    }
   ],
   "source": [
    "cell_3_model.renameCompartments('cell_3_internal', 'cellfusedinternal2')\n",
    "cell_3_model.renameCompartments('cell_3_external', 'cellfusedexternal2')\n",
    "cell_4_model.renameCompartments('cell_4_internal', 'cellfusedinternal2')\n",
    "cell_4_model.renameCompartments('cell_4_external', 'cellfusedexternal2')\n",
    "cell_3_model.writeSBML('m2_cell_1_model.xml')\n",
    "cell_4_model.writeSBML('m2_cell_2_model.xml')"
   ]
  },
  {
   "cell_type": "markdown",
   "metadata": {},
   "source": [
    "# fusing subsystem"
   ]
  },
  {
   "cell_type": "code",
   "execution_count": 34,
   "metadata": {},
   "outputs": [],
   "source": [
    "fus_comb=createNewSubsystem()\n",
    "fus_comb.combineSubsystems([cell_3_model,cell_4_model])\n",
    "\n",
    "_ = fus_comb.writeSBML('m2_fus_comb.xml')"
   ]
  },
  {
   "cell_type": "code",
   "execution_count": 47,
   "metadata": {},
   "outputs": [
    {
     "data": {
      "text/html": [
       "\n",
       "\n",
       "\n",
       "\n",
       "\n",
       "\n",
       "  <div class=\"bk-root\" id=\"0835467a-ccc5-4c2d-a6af-1a8660688fb5\" data-root-id=\"5038\"></div>\n"
      ]
     },
     "metadata": {},
     "output_type": "display_data"
    },
    {
     "data": {
      "application/javascript": [
       "(function(root) {\n",
       "  function embed_document(root) {\n",
       "    \n",
       "  var docs_json = {\"3643b792-8f30-4e66-8982-22451fdebd37\":{\"roots\":{\"references\":[{\"attributes\":{\"below\":[{\"id\":\"5049\"}],\"center\":[{\"id\":\"5052\"},{\"id\":\"5056\"},{\"id\":\"5082\"}],\"left\":[{\"id\":\"5053\"}],\"plot_height\":400,\"plot_width\":480,\"renderers\":[{\"id\":\"5074\"},{\"id\":\"5087\"},{\"id\":\"5101\"},{\"id\":\"5117\"}],\"title\":{\"id\":\"5039\"},\"toolbar\":{\"id\":\"5064\"},\"x_range\":{\"id\":\"5041\"},\"x_scale\":{\"id\":\"5045\"},\"y_range\":{\"id\":\"5043\"},\"y_scale\":{\"id\":\"5047\"}},\"id\":\"5038\",\"subtype\":\"Figure\",\"type\":\"Plot\"},{\"attributes\":{\"overlay\":{\"id\":\"5063\"}},\"id\":\"5059\",\"type\":\"BoxZoomTool\"},{\"attributes\":{},\"id\":\"5344\",\"type\":\"UnionRenderers\"},{\"attributes\":{\"items\":[{\"id\":\"5083\"},{\"id\":\"5097\"},{\"id\":\"5113\"},{\"id\":\"5131\"}],\"location\":\"center_right\"},\"id\":\"5082\",\"type\":\"Legend\"},{\"attributes\":{\"data\":{\"x\":{\"__ndarray__\":\"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\",\"dtype\":\"float64\",\"shape\":[200]},\"y\":{\"__ndarray__\":\"AAAAAAAAAABoa0DSYqmxP0J9hz5+uM8/rSXzmAUf4D/Dtl67NQvqP0QUFvbslvI/zvDeZLeU+D9awQ2GD97+P9h5S7DjrQJAoX1H8MT+BUAY8E4L6VsJQBgdYWE+wQxAUHHAn/EVEEBrO1qW5cwRQJrnVYy/hBNAY+KOOPg8FUCVvQ3ALPUWQIsH348TrRhAmcawfXRkGkAnf8Q0IxscQB1r5D770B1AOOkeLd2FH0CC/lVE1pwgQNPD+yYndiFAVbnY4tNOIkDmU0POziYjQDAuPZEJ/iNAb/Rd0HTUJEBTCePc/6klQAAiIWSYfiZAHZE/GipSJ0BYa9xbniQoQK7vCsLb9ShANmjvpMXFKUCA1l2HO5QqQAVYBGQYYStAtlT/1DEsLEDqOlsOV/UsQELrdphPvC1ARcRexdmALkC0erHIqEIvQKkcNS6xADBA+UNT6U1eMEClHOdD67kwQNBI1cg9EzFAlNRhUetpMUBauIkjiL0xQESakvWTDTJAUS72aXdZMkDx+Wo3g6AyQCEHyhvz4TJAXIb16PccM0BukYGfzFAzQDiYdrDYfDNAM8tA2NqgM0B/rS4zDb0zQIRPQfws0jNA3lT/ylrhM0Al2JAR4OszQIppYdf18jNAqXWgX6H3M0BbO+CCqfozQMcHJi+c/DNAegVrZNr9M0AutF2JpP4zQKvwspQk/zNAhEnziXX/M0Chln6qqP8zQMSEEu7I/zNAgqzpR93/M0B7cxAd6v8zQDaQQDTy/zNAqC7ZTff/M0B7UNOE+v8zQL7RkYv8/zNAmdOC0v3/M0CkYZqg/v8zQMEbgSL//zNAbxhXdP//M0AINu2n//8zQN0Dd8j//zNAmYP63P//M0BEWePp//8zQHK1BvL//zNA2/Us9///M0AntW76//8zQJ0MfPz//zNAEBLC/f//M0BgUY7+//8zQOsuEf///zNAl5lm////M0C11J7///8zQFXOwv///zNAqa7Y////M0AI3OT///8zQJsg6f///zNA/Qzt////M0Bk8e3///8zQD/J8f///zNAw2T1////M0A5ZPn///8zQEAo/f///zNAkwj/////M0DB2v////8zQK6//////zNA58H+////M0ByCv7///8zQJ0d+////zNAyAT5////M0Cnhvn///8zQMY7+P///zNApwX4////M0DRr/n///8zQB/S+v///zNA2DT8////M0DrhP3///8zQPTk/v///zNApvj/////M0AuaQAAAAA0QEyeAAAAADRAJbwAAAAANEBAmQAAAAA0QAsnAAAAADRAs4r/////M0Bi8f7///8zQAt5/v///zNAoj/+////M0AbY/7///8zQIp1/v///zNAICD+////M0BQ5f3///8zQNHO/f///zNAXeb9////M0CtNf7///8zQDSk/v///zNADcL+////M0BV5f7///8zQCMN/////zNAjjj/////M0CsZv////8zQJWW/////zNA+7z/////M0Ch3v////8zQAn6/////zNApA0AAAAANEDkFwAAAAA0QDsXAAAAADRALyUAAAAANEDVNwAAAAA0QApHAAAAADRAVlIAAAAANEBCWQAAAAA0QFVbAAAAADRAGFgAAAAANEATTwAAAAA0QM4/AAAAADRAxTAAAAAANECJLAAAAAA0QL0nAAAAADRAkSIAAAAANEA3HQAAAAA0QN8XAAAAADRAuxIAAAAANED7DQAAAAA0QNIJAAAAADRAbgYAAAAANEDYAQAAAAA0QI/9/////zNA1/n/////M0DR9v////8zQJz0/////zNAWPP/////M0Aj8/////8zQB30/////zNAZvb/////M0An9P////8zQH/1/////zNAl/b/////M0CJ9/////8zQGj4/////zNARfn/////M0At+v////8zQCn7/////zNAQPz/////M0B0/f////8zQOL+/////zNAbgAAAAAANEAQAgAAAAA0QLwDAAAAADRAZAUAAAAANED1BgAAAAA0QFcIAAAAADRAcgkAAAAANEAoCgAAAAA0QFYKAAAAADRA2gkAAAAANECJCAAAAAA0QDgGAAAAADRAZggAAAAANED8CgAAAAA0QA==\",\"dtype\":\"float64\",\"shape\":[200]}},\"selected\":{\"id\":\"5096\"},\"selection_policy\":{\"id\":\"5095\"}},\"id\":\"5071\",\"type\":\"ColumnDataSource\"},{\"attributes\":{\"line_color\":\"#ff7e0e\",\"line_width\":3,\"x\":{\"field\":\"x\"},\"y\":{\"field\":\"y\"}},\"id\":\"5085\",\"type\":\"Line\"},{\"attributes\":{\"label\":{\"value\":\"ATP Fused Cell\"},\"renderers\":[{\"id\":\"5117\"}]},\"id\":\"5131\",\"type\":\"LegendItem\"},{\"attributes\":{\"data\":{\"x\":{\"__ndarray__\":\"AAAAAAAAAAC2+dPLkgO5P7b508uSA8k/SfveGK7C0j+2+dPLkgPZPyP4yH53RN8/SfveGK7C4j9/ellyIOPlP7b508uSA+k/7XhOJQUk7D8j+Mh+d0TvP627Iex0MvE/SfveGK7C8j/jOpxF51L0P396WXIg4/U/G7oWn1lz9z+2+dPLkgP5P1I5kfjLk/o/7XhOJQUk/D+JuAtSPrT9PyP4yH53RP8/3xvDVVhqAECtuyHsdDIBQHtbgIKR+gFASfveGK7CAkAWmz2vyooDQOM6nEXnUgRAsdr62wMbBUB/ellyIOMFQE4auAg9qwZAG7oWn1lzB0DpWXU1djsIQLb508uSAwlAhJkyYq/LCUBSOZH4y5MKQB/Z747oWwtA7XhOJQUkDEC7GK27IewMQIm4C1I+tA1AVVhq6Fp8DkAj+Mh+d0QPQPnLkwpKBhBA3xvDVVhqEEDGa/KgZs4QQK27Iex0MhFAlAtRN4OWEUB7W4CCkfoRQGKrr82fXhJASfveGK7CEkAwSw5kvCYTQBabPa/KihNA/eps+tjuE0DjOpxF51IUQMuKy5D1thRAsdr62wMbFUCZKionEn8VQH96WXIg4xVAZsqIvS5HFkBOGrgIPasWQDRq51NLDxdAG7oWn1lzF0ABCkbqZ9cXQOlZdTV2OxhAz6mkgISfGEC2+dPLkgMZQJ1JAxehZxlAhJkyYq/LGUBr6WGtvS8aQFI5kfjLkxpAN4nAQ9r3GkAf2e+O6FsbQAUpH9r2vxtA7XhOJQUkHEDTyH1wE4gcQLsYrbsh7BxAoWjcBjBQHUCJuAtSPrQdQHAIO51MGB5AVVhq6Fp8HkA9qJkzaeAeQCP4yH53RB9AC0j4yYWoH0D5y5MKSgYgQOxzKzBROCBA3xvDVVhqIEDTw1p7X5wgQMZr8qBmziBAuhOKxm0AIUCtuyHsdDIhQKBjuRF8ZCFAlAtRN4OWIUCHs+hcisghQHtbgIKR+iFAbgMYqJgsIkBiq6/Nn14iQFVTR/OmkCJASfveGK7CIkA9o3Y+tfQiQDBLDmS8JiNAI/OlicNYI0AWmz2vyoojQApD1dTRvCNA/eps+tjuI0DwkgQg4CAkQOM6nEXnUiRA1+Iza+6EJEDLisuQ9bYkQL4yY7b86CRAsdr62wMbJUClgpIBC00lQJkqKicSfyVAjNLBTBmxJUB/ellyIOMlQHMi8ZcnFSZAZsqIvS5HJkBaciDjNXkmQE4auAg9qyZAQcJPLkTdJkA0audTSw8nQCYSf3lSQSdAG7oWn1lzJ0AOYq7EYKUnQAEKRupn1ydA9LHdD28JKEDpWXU1djsoQNwBDVt9bShAz6mkgISfKEDCUTymi9EoQLb508uSAylAqqFr8Zk1KUCdSQMXoWcpQJDxmjyomSlAhJkyYq/LKUB3QcqHtv0pQGvpYa29LypAX5H50sRhKkBSOZH4y5MqQEXhKB7TxSpAN4nAQ9r3KkAsMVhp4SkrQB/Z747oWytAEoGHtO+NK0AFKR/a9r8rQPrQtv/98StA7XhOJQUkLEDgIOZKDFYsQNPIfXATiCxAx3AVlhq6LEC7GK27IewsQK7AROEoHi1AoWjcBjBQLUCVEHQsN4ItQIm4C1I+tC1AfGCjd0XmLUBwCDudTBguQGOw0sJTSi5AVVhq6Fp8LkBJAAIOYq4uQD2omTNp4C5AMFAxWXASL0Aj+Mh+d0QvQBagYKR+di9AC0j4yYWoL0D+74/vjNovQPnLkwpKBjBA8p9fnU0fMEDscyswUTgwQOZH98JUUTBA3xvDVVhqMEDZ747oW4MwQNPDWntfnDBAzZcmDmO1MEDGa/KgZs4wQME/vjNq5zBAuhOKxm0AMUCz51VZcRkxQK27Iex0MjFApo/tfnhLMUCgY7kRfGQxQJs3haR/fTFAlAtRN4OWMUCO3xzKhq8xQIez6FyKyDFAgYe0743hMUB7W4CCkfoxQHQvTBWVEzJAbgMYqJgsMkBn1+M6nEUyQGKrr82fXjJAW397YKN3MkBVU0fzppAyQE8nE4aqqTJASfveGK7CMkBCz6qrsdsyQD2jdj619DJANXdC0bgNM0AwSw5kvCYzQCkf2va/PzNAI/OlicNYM0Adx3Ecx3EzQA==\",\"dtype\":\"float64\",\"shape\":[200]},\"y\":{\"__ndarray__\":\"AAAAAAAAAAAAAAAAAAAAAAAAAAAAAAAAAAAAAAAAAAAAAAAAAAAAAAAAAAAAAAAAAAAAAAAAAAAAAAAAAAAAAAAAAAAAAAAAAAAAAAAAAAAAAAAAAAAAAAAAAAAAAAAAAAAAAAAAAAAAAAAAAAAAAAAAAAAAAAAAAAAAAAAAAAAAAAAAAAAAAAAAAAAAAAAAAAAAAAAAAAAAAAAAAAAAAAAAAAAAAAAAAAAAAAAAAAAAAAAAAAAAAAAAAAAAAAAAAAAAAAAAAAAAAAAAAAAAAAAAAAAAAAAAAAAAAAAAAAAAAAAAAAAAAAAAAAAAAAAAAAAAAAAAAAAAAAAAAAAAAAAAAAAAAAAAAAAAAAAAAAAAAAAAAAAAAAAAAAAAAAAAAAAAAAAAAAAAAAAAAAAAAAAAAAAAAAAAAAAAAAAAAAAAAAAAAAAAAAAAAAAAAAAAAAAAAAAAAAAAAAAAAAAAAAAAAAAAAAAAAAAAAAAAAAAAAAAAAAAAAAAAAAAAAAAAAAAAAAAAAAAAAAAAAAAAAAAAAAAAAAAAAAAAAAAAAAAAAAAAAAAAAAAAAAAAAAAAAAAAAAAAAAAAAAAAAAAAAAAAAAAAAAAAAAAAAAAAAAAAAAAAAAAAAAAAAAAAAAAAAAAAAAAAAAAAAAAAAAAAAAAAAAAAAAAAAAAAAAAAAAAAAAAAAAAAAAAAAAAAAAAAAAAAAAAAAAAAAAAAAAAAAAAAAAAAAAAAAAAAAAAAAAAAAAAAAAAAAAAAAAAAAAAAAAAAAAAAAAAAAAAAAAAAAAAAAAAAAAAAAAAAAAAAAAAAAAAAAAAAAAAAAAAAAAAAAAAAAAAAAAAAAAAAAAAAAAAAAAAAAAAAAAAAAAAAAAAAAAAAAAAAAAAAAAAAAAAAAAAAAAAAAAAAAAAAAAAAAAAAAAAAAAAAAAAAAAAAAAAAAAAAAAAAAAAAAAAAAAAAAAAAAAAAAAAAAAAAAAAAAAAAAAAAAAAAAAAAAAAAAAAAAAAAAAAAAAAAAAAAAAAAAAAAAAAAAAAAAAAAAAAAAAAAAAAAAAAAAAAAAAAAAAAAAAAAAAAAAAAAAAAAAAAAAAAAAAAAAAAAAAAAAAAAAAAAAAAAAAAAAAAAAAAAAAAAAAAAAAAAAAAAAAAAAAAAAAAAAAAAAAAAAAAAAAAAAAAAAAAAAAAAAAAAAAAAAAAAAAAAAAAAAAAAAAAAAAAAAAAAAAAAAAAAAAAAAAAAAAAAAAAAAAAAAAAAAAAAAAAAAAAAAAAAAAAAAAAAAAAAAAAAAAAAAAAAAAAAAAAAAAAAAAAAAAAAAAAAAAAAAAAAAAAAAAAAAAAAAAAAAAAAAAAAAAAAAAAAAAAAAAAAAAAAAAAAAAAAAAAAAAAAAAAAAAAAAAAAAAAAAAAAAAAAAAAAAAAAAAAAAAAAAAAAAAAAAAAAAAAAAAAAAAAAAAAAAAAAAAAAAAAAAAAAAAAAAAAAAAAAAAAAAAAAAAAAAAAAAAAAAAAAAAAAAAAAAAAAAAAAAAAAAAAAAAAAAAAAAAAAAAAAAAAAAAAAAAAAAAAAAAAAAAAAAAAAAAAAAAAAAAAAAAAAAAAAAAAAAAAAAAAAAAAAAAAAAAAAAAAAAAAAAAAAAAAAAAAAAAAAAAAAAAAAAAAAAAAAAAAAAAAAAAAAAAAAAAAAAAAAAAAAAAAAAAAAAAAAAAAAAAAAAAAAAAAAAAAAAAAAAAAAAAAAAAAAAAAAAAAAAAAAAAAAAAAAAAAAAAAAAAAAAAAAAAAAAAAAAAAAAAAAAAAAAAAAAAAAAAAAAAAAAAAAAAAAAAAAAAAAAAAAAAAAAAAAAAAAAAAAAAAAAAAAAAAAAAAAAAAAAAAAAAAAAAAAAAAAAAAAAAAAAAAAAAAAAAAAAAAAAAAAAAAAAAAAAAAAAAAAAAAAAAAAAAAAAAAAAAAAAAAAAAAAAAAAAAAAAAAAAAAAAAAAAAAAAAAAAAAAAAAAAAAAAAAAAAAAAAAAAAAAAAAAAAAAAAAAAAAAAAAAAAAAAAAAAAAAAAAAAAAAAAAAAAAAAAAAAAAAAAAAAAAAAAAAAAAAAAAAAAAAAAAAAAAAAAAAAAAAAAAAAAAAAAAAAAAAAAAAAAAAAAAAAAAAAA==\",\"dtype\":\"float64\",\"shape\":[200]}},\"selected\":{\"id\":\"5112\"},\"selection_policy\":{\"id\":\"5111\"}},\"id\":\"5084\",\"type\":\"ColumnDataSource\"},{\"attributes\":{\"label\":{\"value\":\"GFP Fused Cell\"},\"renderers\":[{\"id\":\"5101\"}]},\"id\":\"5113\",\"type\":\"LegendItem\"},{\"attributes\":{},\"id\":\"5130\",\"type\":\"Selection\"},{\"attributes\":{\"axis\":{\"id\":\"5053\"},\"dimension\":1,\"ticker\":null},\"id\":\"5056\",\"type\":\"Grid\"},{\"attributes\":{\"axis\":{\"id\":\"5049\"},\"ticker\":null},\"id\":\"5052\",\"type\":\"Grid\"},{\"attributes\":{},\"id\":\"5057\",\"type\":\"PanTool\"},{\"attributes\":{},\"id\":\"5061\",\"type\":\"ResetTool\"},{\"attributes\":{\"source\":{\"id\":\"5098\"}},\"id\":\"5102\",\"type\":\"CDSView\"},{\"attributes\":{\"data_source\":{\"id\":\"5071\"},\"glyph\":{\"id\":\"5072\"},\"hover_glyph\":null,\"muted_glyph\":null,\"nonselection_glyph\":{\"id\":\"5073\"},\"selection_glyph\":null,\"view\":{\"id\":\"5075\"}},\"id\":\"5074\",\"type\":\"GlyphRenderer\"},{\"attributes\":{\"data_source\":{\"id\":\"5084\"},\"glyph\":{\"id\":\"5085\"},\"hover_glyph\":null,\"muted_glyph\":null,\"nonselection_glyph\":{\"id\":\"5086\"},\"selection_glyph\":null,\"view\":{\"id\":\"5088\"}},\"id\":\"5087\",\"type\":\"GlyphRenderer\"},{\"attributes\":{\"bottom_units\":\"screen\",\"fill_alpha\":0.5,\"fill_color\":\"lightgrey\",\"left_units\":\"screen\",\"level\":\"overlay\",\"line_alpha\":1.0,\"line_color\":\"black\",\"line_dash\":[4,4],\"line_width\":2,\"render_mode\":\"css\",\"right_units\":\"screen\",\"top_units\":\"screen\"},\"id\":\"5063\",\"type\":\"BoxAnnotation\"},{\"attributes\":{},\"id\":\"5095\",\"type\":\"UnionRenderers\"},{\"attributes\":{\"line_alpha\":0.1,\"line_color\":\"#1f77b3\",\"line_width\":3,\"x\":{\"field\":\"x\"},\"y\":{\"field\":\"y\"}},\"id\":\"5073\",\"type\":\"Line\"},{\"attributes\":{},\"id\":\"5345\",\"type\":\"Selection\"},{\"attributes\":{\"source\":{\"id\":\"5084\"}},\"id\":\"5088\",\"type\":\"CDSView\"},{\"attributes\":{\"axis_label\":\"Concentration (mM)\",\"formatter\":{\"id\":\"5078\"},\"ticker\":{\"id\":\"5054\"}},\"id\":\"5053\",\"type\":\"LinearAxis\"},{\"attributes\":{\"line_color\":\"#2ba02b\",\"line_width\":3,\"x\":{\"field\":\"x\"},\"y\":{\"field\":\"y\"}},\"id\":\"5099\",\"type\":\"Line\"},{\"attributes\":{},\"id\":\"5078\",\"type\":\"BasicTickFormatter\"},{\"attributes\":{\"data\":{\"x\":{\"__ndarray__\":\"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\",\"dtype\":\"float64\",\"shape\":[200]},\"y\":{\"__ndarray__\":\"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\",\"dtype\":\"float64\",\"shape\":[200]}},\"selected\":{\"id\":\"5345\"},\"selection_policy\":{\"id\":\"5344\"}},\"id\":\"5114\",\"type\":\"ColumnDataSource\"},{\"attributes\":{},\"id\":\"5045\",\"type\":\"LinearScale\"},{\"attributes\":{\"line_alpha\":0.1,\"line_color\":\"#ff7e0e\",\"line_width\":3,\"x\":{\"field\":\"x\"},\"y\":{\"field\":\"y\"}},\"id\":\"5086\",\"type\":\"Line\"},{\"attributes\":{\"label\":{\"value\":\"exsA\"},\"renderers\":[{\"id\":\"5074\"}]},\"id\":\"5083\",\"type\":\"LegendItem\"},{\"attributes\":{\"data_source\":{\"id\":\"5114\"},\"glyph\":{\"id\":\"5115\"},\"hover_glyph\":null,\"muted_glyph\":null,\"nonselection_glyph\":{\"id\":\"5116\"},\"selection_glyph\":null,\"view\":{\"id\":\"5118\"}},\"id\":\"5117\",\"type\":\"GlyphRenderer\"},{\"attributes\":{\"line_color\":\"#9367bc\",\"line_width\":3,\"x\":{\"field\":\"x\"},\"y\":{\"field\":\"y\"}},\"id\":\"5115\",\"type\":\"Line\"},{\"attributes\":{\"line_color\":\"#1f77b3\",\"line_width\":3,\"x\":{\"field\":\"x\"},\"y\":{\"field\":\"y\"}},\"id\":\"5072\",\"type\":\"Line\"},{\"attributes\":{\"label\":{\"value\":\"GFP Cell 2\"},\"renderers\":[{\"id\":\"5087\"}]},\"id\":\"5097\",\"type\":\"LegendItem\"},{\"attributes\":{\"data_source\":{\"id\":\"5098\"},\"glyph\":{\"id\":\"5099\"},\"hover_glyph\":null,\"muted_glyph\":null,\"nonselection_glyph\":{\"id\":\"5100\"},\"selection_glyph\":null,\"view\":{\"id\":\"5102\"}},\"id\":\"5101\",\"type\":\"GlyphRenderer\"},{\"attributes\":{},\"id\":\"5096\",\"type\":\"Selection\"},{\"attributes\":{},\"id\":\"5112\",\"type\":\"Selection\"},{\"attributes\":{},\"id\":\"5062\",\"type\":\"HelpTool\"},{\"attributes\":{},\"id\":\"5111\",\"type\":\"UnionRenderers\"},{\"attributes\":{\"source\":{\"id\":\"5071\"}},\"id\":\"5075\",\"type\":\"CDSView\"},{\"attributes\":{},\"id\":\"5129\",\"type\":\"UnionRenderers\"},{\"attributes\":{\"active_drag\":\"auto\",\"active_inspect\":\"auto\",\"active_multi\":null,\"active_scroll\":\"auto\",\"active_tap\":\"auto\",\"tools\":[{\"id\":\"5057\"},{\"id\":\"5058\"},{\"id\":\"5059\"},{\"id\":\"5060\"},{\"id\":\"5061\"},{\"id\":\"5062\"}]},\"id\":\"5064\",\"type\":\"Toolbar\"},{\"attributes\":{\"data\":{\"x\":{\"__ndarray__\":\"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\",\"dtype\":\"float64\",\"shape\":[200]},\"y\":{\"__ndarray__\":\"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\",\"dtype\":\"float64\",\"shape\":[200]}},\"selected\":{\"id\":\"5130\"},\"selection_policy\":{\"id\":\"5129\"}},\"id\":\"5098\",\"type\":\"ColumnDataSource\"},{\"attributes\":{\"line_alpha\":0.1,\"line_color\":\"#2ba02b\",\"line_width\":3,\"x\":{\"field\":\"x\"},\"y\":{\"field\":\"y\"}},\"id\":\"5100\",\"type\":\"Line\"},{\"attributes\":{},\"id\":\"5041\",\"type\":\"DataRange1d\"},{\"attributes\":{},\"id\":\"5050\",\"type\":\"BasicTicker\"},{\"attributes\":{},\"id\":\"5060\",\"type\":\"SaveTool\"},{\"attributes\":{\"axis_label\":\"Time (hrs)\",\"formatter\":{\"id\":\"5080\"},\"ticker\":{\"id\":\"5050\"}},\"id\":\"5049\",\"type\":\"LinearAxis\"},{\"attributes\":{\"text\":\"Without Rheostat\"},\"id\":\"5039\",\"type\":\"Title\"},{\"attributes\":{},\"id\":\"5058\",\"type\":\"WheelZoomTool\"},{\"attributes\":{\"line_alpha\":0.1,\"line_color\":\"#9367bc\",\"line_width\":3,\"x\":{\"field\":\"x\"},\"y\":{\"field\":\"y\"}},\"id\":\"5116\",\"type\":\"Line\"},{\"attributes\":{},\"id\":\"5054\",\"type\":\"BasicTicker\"},{\"attributes\":{\"source\":{\"id\":\"5114\"}},\"id\":\"5118\",\"type\":\"CDSView\"},{\"attributes\":{},\"id\":\"5080\",\"type\":\"BasicTickFormatter\"},{\"attributes\":{},\"id\":\"5047\",\"type\":\"LinearScale\"},{\"attributes\":{},\"id\":\"5043\",\"type\":\"DataRange1d\"}],\"root_ids\":[\"5038\"]},\"title\":\"Bokeh Application\",\"version\":\"2.0.2\"}};\n",
       "  var render_items = [{\"docid\":\"3643b792-8f30-4e66-8982-22451fdebd37\",\"root_ids\":[\"5038\"],\"roots\":{\"5038\":\"0835467a-ccc5-4c2d-a6af-1a8660688fb5\"}}];\n",
       "  root.Bokeh.embed.embed_items_notebook(docs_json, render_items);\n",
       "\n",
       "  }\n",
       "  if (root.Bokeh !== undefined) {\n",
       "    embed_document(root);\n",
       "  } else {\n",
       "    var attempts = 0;\n",
       "    var timer = setInterval(function(root) {\n",
       "      if (root.Bokeh !== undefined) {\n",
       "        clearInterval(timer);\n",
       "        embed_document(root);\n",
       "      } else {\n",
       "        attempts++;\n",
       "        if (attempts > 100) {\n",
       "          clearInterval(timer);\n",
       "          console.log(\"Bokeh: ERROR: Unable to run BokehJS code because BokehJS library is missing\");\n",
       "        }\n",
       "      }\n",
       "    }, 10, root)\n",
       "  }\n",
       "})(window);"
      ],
      "application/vnd.bokehjs_exec.v0+json": ""
     },
     "metadata": {
      "application/vnd.bokehjs_exec.v0+json": {
       "id": "5038"
      }
     },
     "output_type": "display_data"
    }
   ],
   "source": [
    "\n",
    "results_4, _ = cell_3_model.simulateWithBioscrape(timepoints)\n",
    "results_5, _ = cell_4_model.simulateWithBioscrape(timepoints)\n",
    "results_6, _ = fus_comb.simulateWithBioscrape(timepoints)\n",
    "exsA_id4 = cell_3_model.getSpeciesByName('exsA', compartment = 'cellfusedinternal2').getId()\n",
    "gfp_id5 = cell_4_model.getSpeciesByName('gfp', compartment = 'cellfusedinternal2').getId()\n",
    "gfp_id6 = fus_comb.getSpeciesByName('gfp', compartment = 'cellfusedinternal2').getId()\n",
    "ATP_id2 = fus_comb.getSpeciesByName('ATP', compartment = 'cellfusedinternal2').getId()\n",
    "exsA_id5 = fus_comb.getSpeciesByName('exsA', compartment = 'cellfusedinternal2').getId()\n",
    "\n",
    "# plt.figure(figsize=(7,6))\n",
    "# plt.plot(timepoints, results_4[exsA_id4], linewidth = 3, label = 'exsA')\n",
    "# plt.plot(timepoints, results_5[gfp_id5], linewidth = 3, label = 'gfp_cell2')\n",
    "# plt.plot(timepoints, results_6[gfp_id6], linewidth = 3, label = 'gfp_fused cell')\n",
    "# plt.plot(timepoints, results_6[ATP_id2], linewidth = 3, label = 'ATP_fused cell')\n",
    "# plt.plot(timepoints, results_6[exsA_id5], linewidth = 3, label = 'exsA_fused cell')\n",
    "\n",
    "# plt.title(\"ATP conc: model 1=50\")\n",
    "# plt.xlabel('Time')\n",
    "# plt.ylabel('Conc')\n",
    "# plt.legend()\n",
    "# plt.show()\n",
    "\n",
    "p1 = bokeh.plotting.figure(width= 480, height = 400, title = 'Without Rheostat',\n",
    "                         y_axis_label = 'Concentration (mM)',\n",
    "                         x_axis_label = 'Time (hrs)')\n",
    "\n",
    "p1.line(timepoints/60/60, results_4[exsA_id4], line_width = 3, legend_label = 'exsA',\n",
    "      color = palette[0])\n",
    "p1.line(timepoints/60/60, results_5[gfp_id5], line_width = 3, legend_label = 'GFP Cell 2',\n",
    "      color = palette[1])\n",
    "p1.line(timepoints/60/60, results_6[gfp_id6], line_width = 3, legend_label = 'GFP Fused Cell',\n",
    "      color = palette[2])\n",
    "\n",
    "p1.line(timepoints/60/60, results_6[ATP_id2], line_width = 3, legend_label = 'ATP Fused Cell',\n",
    "      color = palette[4])\n",
    "\n",
    "# p1.line(timepoints/60/60, results_6[exsA_id5], line_width = 3, legend_label = 'exsA Fused Cell',\n",
    "#       color = palette[5])\n",
    "\n",
    "p1.legend.location = 'center_right'\n",
    "bokeh.io.show(p1)"
   ]
  },
  {
   "cell_type": "markdown",
   "metadata": {},
   "source": [
    "# comparison plot\n"
   ]
  },
  {
   "cell_type": "code",
   "execution_count": 24,
   "metadata": {},
   "outputs": [
    {
     "name": "stderr",
     "output_type": "stream",
     "text": [
      "/Users/ankitaroychoudhury/opt/anaconda3/lib/python3.7/site-packages/IPython/core/pylabtools.py:132: UserWarning: Creating legend with loc=\"best\" can be slow with large amounts of data.\n",
      "  fig.canvas.print_figure(bytes_io, **kw)\n"
     ]
    },
    {
     "data": {
      "image/png": "[encoded data removed]",
      "text/plain": [
       "<Figure size 720x576 with 1 Axes>"
      ]
     },
     "metadata": {
      "needs_background": "light"
     },
     "output_type": "display_data"
    }
   ],
   "source": [
    "plt.figure(figsize=(10,8))\n",
    "plt.plot(timepoints, results_1[exsA_id1], linewidth = 3, label = 'exsA_cell1_ATP_regen')\n",
    "plt.plot(timepoints, results_2[gfp_id2], linewidth = 5, label = 'gfp_cell2_ATP_regen')\n",
    "plt.plot(timepoints, results_3[gfp_id3], linewidth = 3, label = 'gfp_fused cell_ATP_regen')\n",
    "plt.plot(timepoints, results_3[ATP_id1], linewidth = 3, label = 'ATP_fused cell_ATP_regen')\n",
    "plt.plot(timepoints, results_4[exsA_id4], linewidth = 3, label = 'exsA_cell1')\n",
    "plt.plot(timepoints, results_5[gfp_id5], linewidth = 3, label = 'gfp_cell2')\n",
    "plt.plot(timepoints, results_6[gfp_id6], linewidth = 3, label = 'gfp_fused cell')\n",
    "plt.plot(timepoints, results_6[ATP_id2], linewidth = 3, label = 'ATP_fused cell')\n",
    "\n",
    "plt.title(\"ATP=50\")\n",
    "plt.xlabel('Time')\n",
    "plt.ylabel('Conc')\n",
    "plt.legend()\n",
    "plt.show()\n",
    "\n"
   ]
  },
  {
   "cell_type": "code",
   "execution_count": null,
   "metadata": {},
   "outputs": [],
   "source": []
  },
  {
   "cell_type": "code",
   "execution_count": null,
   "metadata": {},
   "outputs": [],
   "source": []
  }
 ],
 "metadata": {
  "kernelspec": {
   "display_name": "Python 3",
   "language": "python",
   "name": "python3"
  },
  "language_info": {
   "codemirror_mode": {
    "name": "ipython",
    "version": 3
   },
   "file_extension": ".py",
   "mimetype": "text/x-python",
   "name": "python",
   "nbconvert_exporter": "python",
   "pygments_lexer": "ipython3",
   "version": "3.7.7"
  }
 },
 "nbformat": 4,
 "nbformat_minor": 4
}
