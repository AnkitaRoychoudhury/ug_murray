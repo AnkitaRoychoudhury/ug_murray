{
 "cells": [
  {
   "cell_type": "markdown",
   "metadata": {},
   "source": [
    "# Agrima's Export Model with ATP Synthase\n",
    "---"
   ]
  },
  {
   "cell_type": "code",
   "execution_count": 12,
   "metadata": {},
   "outputs": [
    {
     "data": {
      "text/html": [
       "\n",
       "    <div class=\"bk-root\">\n",
       "        <a href=\"https://bokeh.org\" target=\"_blank\" class=\"bk-logo bk-logo-small bk-logo-notebook\"></a>\n",
       "        <span id=\"1403\">Loading BokehJS ...</span>\n",
       "    </div>"
      ]
     },
     "metadata": {},
     "output_type": "display_data"
    },
    {
     "data": {
      "application/javascript": [
       "\n",
       "(function(root) {\n",
       "  function now() {\n",
       "    return new Date();\n",
       "  }\n",
       "\n",
       "  var force = true;\n",
       "\n",
       "  if (typeof root._bokeh_onload_callbacks === \"undefined\" || force === true) {\n",
       "    root._bokeh_onload_callbacks = [];\n",
       "    root._bokeh_is_loading = undefined;\n",
       "  }\n",
       "\n",
       "  var JS_MIME_TYPE = 'application/javascript';\n",
       "  var HTML_MIME_TYPE = 'text/html';\n",
       "  var EXEC_MIME_TYPE = 'application/vnd.bokehjs_exec.v0+json';\n",
       "  var CLASS_NAME = 'output_bokeh rendered_html';\n",
       "\n",
       "  /**\n",
       "   * Render data to the DOM node\n",
       "   */\n",
       "  function render(props, node) {\n",
       "    var script = document.createElement(\"script\");\n",
       "    node.appendChild(script);\n",
       "  }\n",
       "\n",
       "  /**\n",
       "   * Handle when an output is cleared or removed\n",
       "   */\n",
       "  function handleClearOutput(event, handle) {\n",
       "    var cell = handle.cell;\n",
       "\n",
       "    var id = cell.output_area._bokeh_element_id;\n",
       "    var server_id = cell.output_area._bokeh_server_id;\n",
       "    // Clean up Bokeh references\n",
       "    if (id != null && id in Bokeh.index) {\n",
       "      Bokeh.index[id].model.document.clear();\n",
       "      delete Bokeh.index[id];\n",
       "    }\n",
       "\n",
       "    if (server_id !== undefined) {\n",
       "      // Clean up Bokeh references\n",
       "      var cmd = \"from bokeh.io.state import curstate; print(curstate().uuid_to_server['\" + server_id + \"'].get_sessions()[0].document.roots[0]._id)\";\n",
       "      cell.notebook.kernel.execute(cmd, {\n",
       "        iopub: {\n",
       "          output: function(msg) {\n",
       "            var id = msg.content.text.trim();\n",
       "            if (id in Bokeh.index) {\n",
       "              Bokeh.index[id].model.document.clear();\n",
       "              delete Bokeh.index[id];\n",
       "            }\n",
       "          }\n",
       "        }\n",
       "      });\n",
       "      // Destroy server and session\n",
       "      var cmd = \"import bokeh.io.notebook as ion; ion.destroy_server('\" + server_id + \"')\";\n",
       "      cell.notebook.kernel.execute(cmd);\n",
       "    }\n",
       "  }\n",
       "\n",
       "  /**\n",
       "   * Handle when a new output is added\n",
       "   */\n",
       "  function handleAddOutput(event, handle) {\n",
       "    var output_area = handle.output_area;\n",
       "    var output = handle.output;\n",
       "\n",
       "    // limit handleAddOutput to display_data with EXEC_MIME_TYPE content only\n",
       "    if ((output.output_type != \"display_data\") || (!output.data.hasOwnProperty(EXEC_MIME_TYPE))) {\n",
       "      return\n",
       "    }\n",
       "\n",
       "    var toinsert = output_area.element.find(\".\" + CLASS_NAME.split(' ')[0]);\n",
       "\n",
       "    if (output.metadata[EXEC_MIME_TYPE][\"id\"] !== undefined) {\n",
       "      toinsert[toinsert.length - 1].firstChild.textContent = output.data[JS_MIME_TYPE];\n",
       "      // store reference to embed id on output_area\n",
       "      output_area._bokeh_element_id = output.metadata[EXEC_MIME_TYPE][\"id\"];\n",
       "    }\n",
       "    if (output.metadata[EXEC_MIME_TYPE][\"server_id\"] !== undefined) {\n",
       "      var bk_div = document.createElement(\"div\");\n",
       "      bk_div.innerHTML = output.data[HTML_MIME_TYPE];\n",
       "      var script_attrs = bk_div.children[0].attributes;\n",
       "      for (var i = 0; i < script_attrs.length; i++) {\n",
       "        toinsert[toinsert.length - 1].firstChild.setAttribute(script_attrs[i].name, script_attrs[i].value);\n",
       "      }\n",
       "      // store reference to server id on output_area\n",
       "      output_area._bokeh_server_id = output.metadata[EXEC_MIME_TYPE][\"server_id\"];\n",
       "    }\n",
       "  }\n",
       "\n",
       "  function register_renderer(events, OutputArea) {\n",
       "\n",
       "    function append_mime(data, metadata, element) {\n",
       "      // create a DOM node to render to\n",
       "      var toinsert = this.create_output_subarea(\n",
       "        metadata,\n",
       "        CLASS_NAME,\n",
       "        EXEC_MIME_TYPE\n",
       "      );\n",
       "      this.keyboard_manager.register_events(toinsert);\n",
       "      // Render to node\n",
       "      var props = {data: data, metadata: metadata[EXEC_MIME_TYPE]};\n",
       "      render(props, toinsert[toinsert.length - 1]);\n",
       "      element.append(toinsert);\n",
       "      return toinsert\n",
       "    }\n",
       "\n",
       "    /* Handle when an output is cleared or removed */\n",
       "    events.on('clear_output.CodeCell', handleClearOutput);\n",
       "    events.on('delete.Cell', handleClearOutput);\n",
       "\n",
       "    /* Handle when a new output is added */\n",
       "    events.on('output_added.OutputArea', handleAddOutput);\n",
       "\n",
       "    /**\n",
       "     * Register the mime type and append_mime function with output_area\n",
       "     */\n",
       "    OutputArea.prototype.register_mime_type(EXEC_MIME_TYPE, append_mime, {\n",
       "      /* Is output safe? */\n",
       "      safe: true,\n",
       "      /* Index of renderer in `output_area.display_order` */\n",
       "      index: 0\n",
       "    });\n",
       "  }\n",
       "\n",
       "  // register the mime type if in Jupyter Notebook environment and previously unregistered\n",
       "  if (root.Jupyter !== undefined) {\n",
       "    var events = require('base/js/events');\n",
       "    var OutputArea = require('notebook/js/outputarea').OutputArea;\n",
       "\n",
       "    if (OutputArea.prototype.mime_types().indexOf(EXEC_MIME_TYPE) == -1) {\n",
       "      register_renderer(events, OutputArea);\n",
       "    }\n",
       "  }\n",
       "\n",
       "  \n",
       "  if (typeof (root._bokeh_timeout) === \"undefined\" || force === true) {\n",
       "    root._bokeh_timeout = Date.now() + 5000;\n",
       "    root._bokeh_failed_load = false;\n",
       "  }\n",
       "\n",
       "  var NB_LOAD_WARNING = {'data': {'text/html':\n",
       "     \"<div style='background-color: #fdd'>\\n\"+\n",
       "     \"<p>\\n\"+\n",
       "     \"BokehJS does not appear to have successfully loaded. If loading BokehJS from CDN, this \\n\"+\n",
       "     \"may be due to a slow or bad network connection. Possible fixes:\\n\"+\n",
       "     \"</p>\\n\"+\n",
       "     \"<ul>\\n\"+\n",
       "     \"<li>re-rerun `output_notebook()` to attempt to load from CDN again, or</li>\\n\"+\n",
       "     \"<li>use INLINE resources instead, as so:</li>\\n\"+\n",
       "     \"</ul>\\n\"+\n",
       "     \"<code>\\n\"+\n",
       "     \"from bokeh.resources import INLINE\\n\"+\n",
       "     \"output_notebook(resources=INLINE)\\n\"+\n",
       "     \"</code>\\n\"+\n",
       "     \"</div>\"}};\n",
       "\n",
       "  function display_loaded() {\n",
       "    var el = document.getElementById(\"1403\");\n",
       "    if (el != null) {\n",
       "      el.textContent = \"BokehJS is loading...\";\n",
       "    }\n",
       "    if (root.Bokeh !== undefined) {\n",
       "      if (el != null) {\n",
       "        el.textContent = \"BokehJS \" + root.Bokeh.version + \" successfully loaded.\";\n",
       "      }\n",
       "    } else if (Date.now() < root._bokeh_timeout) {\n",
       "      setTimeout(display_loaded, 100)\n",
       "    }\n",
       "  }\n",
       "\n",
       "\n",
       "  function run_callbacks() {\n",
       "    try {\n",
       "      root._bokeh_onload_callbacks.forEach(function(callback) {\n",
       "        if (callback != null)\n",
       "          callback();\n",
       "      });\n",
       "    } finally {\n",
       "      delete root._bokeh_onload_callbacks\n",
       "    }\n",
       "    console.debug(\"Bokeh: all callbacks have finished\");\n",
       "  }\n",
       "\n",
       "  function load_libs(css_urls, js_urls, callback) {\n",
       "    if (css_urls == null) css_urls = [];\n",
       "    if (js_urls == null) js_urls = [];\n",
       "\n",
       "    root._bokeh_onload_callbacks.push(callback);\n",
       "    if (root._bokeh_is_loading > 0) {\n",
       "      console.debug(\"Bokeh: BokehJS is being loaded, scheduling callback at\", now());\n",
       "      return null;\n",
       "    }\n",
       "    if (js_urls == null || js_urls.length === 0) {\n",
       "      run_callbacks();\n",
       "      return null;\n",
       "    }\n",
       "    console.debug(\"Bokeh: BokehJS not loaded, scheduling load and callback at\", now());\n",
       "    root._bokeh_is_loading = css_urls.length + js_urls.length;\n",
       "\n",
       "    function on_load() {\n",
       "      root._bokeh_is_loading--;\n",
       "      if (root._bokeh_is_loading === 0) {\n",
       "        console.debug(\"Bokeh: all BokehJS libraries/stylesheets loaded\");\n",
       "        run_callbacks()\n",
       "      }\n",
       "    }\n",
       "\n",
       "    function on_error() {\n",
       "      console.error(\"failed to load \" + url);\n",
       "    }\n",
       "\n",
       "    for (var i = 0; i < css_urls.length; i++) {\n",
       "      var url = css_urls[i];\n",
       "      const element = document.createElement(\"link\");\n",
       "      element.onload = on_load;\n",
       "      element.onerror = on_error;\n",
       "      element.rel = \"stylesheet\";\n",
       "      element.type = \"text/css\";\n",
       "      element.href = url;\n",
       "      console.debug(\"Bokeh: injecting link tag for BokehJS stylesheet: \", url);\n",
       "      document.body.appendChild(element);\n",
       "    }\n",
       "\n",
       "    for (var i = 0; i < js_urls.length; i++) {\n",
       "      var url = js_urls[i];\n",
       "      var element = document.createElement('script');\n",
       "      element.onload = on_load;\n",
       "      element.onerror = on_error;\n",
       "      element.async = false;\n",
       "      element.src = url;\n",
       "      console.debug(\"Bokeh: injecting script tag for BokehJS library: \", url);\n",
       "      document.head.appendChild(element);\n",
       "    }\n",
       "  };var element = document.getElementById(\"1403\");\n",
       "  if (element == null) {\n",
       "    console.error(\"Bokeh: ERROR: autoload.js configured with elementid '1403' but no matching script tag was found. \")\n",
       "    return false;\n",
       "  }\n",
       "\n",
       "  function inject_raw_css(css) {\n",
       "    const element = document.createElement(\"style\");\n",
       "    element.appendChild(document.createTextNode(css));\n",
       "    document.body.appendChild(element);\n",
       "  }\n",
       "\n",
       "  \n",
       "  var js_urls = [\"https://cdn.pydata.org/bokeh/release/bokeh-1.4.0.min.js\", \"https://cdn.pydata.org/bokeh/release/bokeh-widgets-1.4.0.min.js\", \"https://cdn.pydata.org/bokeh/release/bokeh-tables-1.4.0.min.js\", \"https://cdn.pydata.org/bokeh/release/bokeh-gl-1.4.0.min.js\"];\n",
       "  var css_urls = [];\n",
       "  \n",
       "\n",
       "  var inline_js = [\n",
       "    function(Bokeh) {\n",
       "      Bokeh.set_log_level(\"info\");\n",
       "    },\n",
       "    function(Bokeh) {\n",
       "    \n",
       "    \n",
       "    }\n",
       "  ];\n",
       "\n",
       "  function run_inline_js() {\n",
       "    \n",
       "    if (root.Bokeh !== undefined || force === true) {\n",
       "      \n",
       "    for (var i = 0; i < inline_js.length; i++) {\n",
       "      inline_js[i].call(root, root.Bokeh);\n",
       "    }\n",
       "    if (force === true) {\n",
       "        display_loaded();\n",
       "      }} else if (Date.now() < root._bokeh_timeout) {\n",
       "      setTimeout(run_inline_js, 100);\n",
       "    } else if (!root._bokeh_failed_load) {\n",
       "      console.log(\"Bokeh: BokehJS failed to load within specified timeout.\");\n",
       "      root._bokeh_failed_load = true;\n",
       "    } else if (force !== true) {\n",
       "      var cell = $(document.getElementById(\"1403\")).parents('.cell').data().cell;\n",
       "      cell.output_area.append_execute_result(NB_LOAD_WARNING)\n",
       "    }\n",
       "\n",
       "  }\n",
       "\n",
       "  if (root._bokeh_is_loading === 0) {\n",
       "    console.debug(\"Bokeh: BokehJS loaded, going straight to plotting\");\n",
       "    run_inline_js();\n",
       "  } else {\n",
       "    load_libs(css_urls, js_urls, function() {\n",
       "      console.debug(\"Bokeh: BokehJS plotting callback run at\", now());\n",
       "      run_inline_js();\n",
       "    });\n",
       "  }\n",
       "}(window));"
      ],
      "application/vnd.bokehjs_load.v0+json": "\n(function(root) {\n  function now() {\n    return new Date();\n  }\n\n  var force = true;\n\n  if (typeof root._bokeh_onload_callbacks === \"undefined\" || force === true) {\n    root._bokeh_onload_callbacks = [];\n    root._bokeh_is_loading = undefined;\n  }\n\n  \n\n  \n  if (typeof (root._bokeh_timeout) === \"undefined\" || force === true) {\n    root._bokeh_timeout = Date.now() + 5000;\n    root._bokeh_failed_load = false;\n  }\n\n  var NB_LOAD_WARNING = {'data': {'text/html':\n     \"<div style='background-color: #fdd'>\\n\"+\n     \"<p>\\n\"+\n     \"BokehJS does not appear to have successfully loaded. If loading BokehJS from CDN, this \\n\"+\n     \"may be due to a slow or bad network connection. Possible fixes:\\n\"+\n     \"</p>\\n\"+\n     \"<ul>\\n\"+\n     \"<li>re-rerun `output_notebook()` to attempt to load from CDN again, or</li>\\n\"+\n     \"<li>use INLINE resources instead, as so:</li>\\n\"+\n     \"</ul>\\n\"+\n     \"<code>\\n\"+\n     \"from bokeh.resources import INLINE\\n\"+\n     \"output_notebook(resources=INLINE)\\n\"+\n     \"</code>\\n\"+\n     \"</div>\"}};\n\n  function display_loaded() {\n    var el = document.getElementById(\"1403\");\n    if (el != null) {\n      el.textContent = \"BokehJS is loading...\";\n    }\n    if (root.Bokeh !== undefined) {\n      if (el != null) {\n        el.textContent = \"BokehJS \" + root.Bokeh.version + \" successfully loaded.\";\n      }\n    } else if (Date.now() < root._bokeh_timeout) {\n      setTimeout(display_loaded, 100)\n    }\n  }\n\n\n  function run_callbacks() {\n    try {\n      root._bokeh_onload_callbacks.forEach(function(callback) {\n        if (callback != null)\n          callback();\n      });\n    } finally {\n      delete root._bokeh_onload_callbacks\n    }\n    console.debug(\"Bokeh: all callbacks have finished\");\n  }\n\n  function load_libs(css_urls, js_urls, callback) {\n    if (css_urls == null) css_urls = [];\n    if (js_urls == null) js_urls = [];\n\n    root._bokeh_onload_callbacks.push(callback);\n    if (root._bokeh_is_loading > 0) {\n      console.debug(\"Bokeh: BokehJS is being loaded, scheduling callback at\", now());\n      return null;\n    }\n    if (js_urls == null || js_urls.length === 0) {\n      run_callbacks();\n      return null;\n    }\n    console.debug(\"Bokeh: BokehJS not loaded, scheduling load and callback at\", now());\n    root._bokeh_is_loading = css_urls.length + js_urls.length;\n\n    function on_load() {\n      root._bokeh_is_loading--;\n      if (root._bokeh_is_loading === 0) {\n        console.debug(\"Bokeh: all BokehJS libraries/stylesheets loaded\");\n        run_callbacks()\n      }\n    }\n\n    function on_error() {\n      console.error(\"failed to load \" + url);\n    }\n\n    for (var i = 0; i < css_urls.length; i++) {\n      var url = css_urls[i];\n      const element = document.createElement(\"link\");\n      element.onload = on_load;\n      element.onerror = on_error;\n      element.rel = \"stylesheet\";\n      element.type = \"text/css\";\n      element.href = url;\n      console.debug(\"Bokeh: injecting link tag for BokehJS stylesheet: \", url);\n      document.body.appendChild(element);\n    }\n\n    for (var i = 0; i < js_urls.length; i++) {\n      var url = js_urls[i];\n      var element = document.createElement('script');\n      element.onload = on_load;\n      element.onerror = on_error;\n      element.async = false;\n      element.src = url;\n      console.debug(\"Bokeh: injecting script tag for BokehJS library: \", url);\n      document.head.appendChild(element);\n    }\n  };var element = document.getElementById(\"1403\");\n  if (element == null) {\n    console.error(\"Bokeh: ERROR: autoload.js configured with elementid '1403' but no matching script tag was found. \")\n    return false;\n  }\n\n  function inject_raw_css(css) {\n    const element = document.createElement(\"style\");\n    element.appendChild(document.createTextNode(css));\n    document.body.appendChild(element);\n  }\n\n  \n  var js_urls = [\"https://cdn.pydata.org/bokeh/release/bokeh-1.4.0.min.js\", \"https://cdn.pydata.org/bokeh/release/bokeh-widgets-1.4.0.min.js\", \"https://cdn.pydata.org/bokeh/release/bokeh-tables-1.4.0.min.js\", \"https://cdn.pydata.org/bokeh/release/bokeh-gl-1.4.0.min.js\"];\n  var css_urls = [];\n  \n\n  var inline_js = [\n    function(Bokeh) {\n      Bokeh.set_log_level(\"info\");\n    },\n    function(Bokeh) {\n    \n    \n    }\n  ];\n\n  function run_inline_js() {\n    \n    if (root.Bokeh !== undefined || force === true) {\n      \n    for (var i = 0; i < inline_js.length; i++) {\n      inline_js[i].call(root, root.Bokeh);\n    }\n    if (force === true) {\n        display_loaded();\n      }} else if (Date.now() < root._bokeh_timeout) {\n      setTimeout(run_inline_js, 100);\n    } else if (!root._bokeh_failed_load) {\n      console.log(\"Bokeh: BokehJS failed to load within specified timeout.\");\n      root._bokeh_failed_load = true;\n    } else if (force !== true) {\n      var cell = $(document.getElementById(\"1403\")).parents('.cell').data().cell;\n      cell.output_area.append_execute_result(NB_LOAD_WARNING)\n    }\n\n  }\n\n  if (root._bokeh_is_loading === 0) {\n    console.debug(\"Bokeh: BokehJS loaded, going straight to plotting\");\n    run_inline_js();\n  } else {\n    load_libs(css_urls, js_urls, function() {\n      console.debug(\"Bokeh: BokehJS plotting callback run at\", now());\n      run_inline_js();\n    });\n  }\n}(window));"
     },
     "metadata": {},
     "output_type": "display_data"
    }
   ],
   "source": [
    "import bokeh.io\n",
    "import bokeh.plotting\n",
    "bokeh.io.output_notebook()\n",
    "from bokeh.layouts import row"
   ]
  },
  {
   "cell_type": "code",
   "execution_count": null,
   "metadata": {},
   "outputs": [],
   "source": [
    "import colorcet\n",
    "palette = colorcet.b_glasbey_category10"
   ]
  },
  {
   "cell_type": "code",
   "execution_count": 34,
   "metadata": {},
   "outputs": [],
   "source": [
    "# Import statements\n",
    "from subsbml import createNewSubsystem, createSubsystem\n",
    "\n",
    "import numpy as np\n",
    "import pylab as plt\n",
    "# Import SBML models by creating Subsystem class objects\n",
    "ss1_1 = createSubsystem('transporter.xml', subsystemName = 'virE2')\n",
    "ss2_1 = createSubsystem('../rheostat_with_ayush/ATP_SYNTHASE.xml', subsystemName = 'atp_synthase')\n",
    "#ss2 = createSubsystem('atp_rheostat_SLOW.xml', subsystemName = 'ATP_rheostat')\n",
    "\n",
    "# ss1_atpsyn_txtl = createSubsystem('../rheostat_with_ayush/atpsynthase_machinery_txtl.xml', subsystemName = 'atpsyn_txtl')\n",
    "# ss2_atpsyn_mi = createSubsystem('../rheostat_with_ayush/atpsynthase_membrane_integration.xml', subsystemName = 'atpsyn_mi')\n",
    "# ss3_atpsynthesis = createSubsystem('../rheostat_with_ayush/atp_synthesis_through_atpsynthase.xml', subsystemName = 'atpsynthesis')\n",
    "# #ss4_atp_use = createSubsystem('atp_use.xml', subsystemName = 'atp_use')\n",
    "# #ss5_pp_txtl = createSubsystem('proton_pump_tx_tl.xml', subsystemName = 'pp_txtl')\n",
    "# ss5_pp_txtl = createSubsystem('../rheostat_with_ayush/proton_pump_machinery_txtl.xml', subsystemName = 'pp_txtl')\n",
    "# ss6_pp_mi = createSubsystem('../rheostat_with_ayush/proton_pump_membrane_integration.xml', subsystemName = 'pp_mi')\n",
    "# ss7_protontransport = createSubsystem('../rheostat_with_ayush/proton_transport_through_proton_pump.xml', subsystemName = 'protontransport')\n",
    "\n",
    "# entire_atp_subsystem = ss1_atpsyn_txtl + ss2_atpsyn_mi + ss3_atpsynthesis + ss5_pp_txtl + ss6_pp_mi + ss7_protontransport\n",
    "\n",
    "#ss2 = createSubsystem('atp_rheostat_2_secs.xml', subsystemName = 'ATP_rheostat')\n",
    "\n",
    "\n",
    "ss1_1.renameSName('ATP', 'metabolite_atp')\n",
    "ss1_1.renameSName('P','metabolite_pi')\n",
    "\n",
    "\n",
    "# ss2.renameSName('metabolite_adp', 'ADP')\n",
    "# ss2.renameSName('metabolite_pi', 'P')\n",
    "\n",
    "\n",
    "combsub = createNewSubsystem()\n",
    "# combsub.combineSubsystems([ss1,ss1_atpsyn_txtl, ss2_atpsyn_mi, \n",
    "#                            ss3_atpsynthesis, ss5_pp_txtl, ss7_protontransport, ss7_protontransport])\n",
    "combsub.combineSubsystems([ss1_1,ss2_1])\n",
    "\n",
    "# Set signal concentration (input) - manually and get ID for protein X\n",
    "_ = combsub.writeSBML('combintsub_ATPSYNTHASE.xml')\n",
    "\n",
    "\n"
   ]
  },
  {
   "cell_type": "code",
   "execution_count": 35,
   "metadata": {},
   "outputs": [
    {
     "data": {
      "text/plain": [
       "True"
      ]
     },
     "execution_count": 35,
     "metadata": {},
     "output_type": "execute_result"
    }
   ],
   "source": [
    "combsub.setSpeciesAmount('metabolite_atp', 10)"
   ]
  },
  {
   "cell_type": "markdown",
   "metadata": {},
   "source": [
    "**Check atp subsystem**"
   ]
  },
  {
   "cell_type": "code",
   "execution_count": 36,
   "metadata": {},
   "outputs": [
    {
     "name": "stderr",
     "output_type": "stream",
     "text": [
      "odeint failed with mxstep=500..."
     ]
    }
   ],
   "source": [
    "#ss1.setSpeciesAmount('atc_e', 1e4)\n",
    "\n",
    "spec_list_10 = ['dna_proton_pump', 'dna_atpsyn','proton_outside_H', 'metabolite_atp','protein_RNAP_machinery', \n",
    "                'protein_Ribo_machinery', 'protein_RNAse_machinery']\n",
    "for i,spec in enumerate(spec_list_10):\n",
    "    combsub.setSpeciesAmount(spec,10)\n",
    "    \n",
    "results_2, _ = combsub.simulateWithBioscrape(timepoints)"
   ]
  },
  {
   "cell_type": "code",
   "execution_count": 37,
   "metadata": {},
   "outputs": [],
   "source": [
    "ATP_id_1 = combsub.getSpeciesByName('metabolite_atp').getId()"
   ]
  },
  {
   "cell_type": "code",
   "execution_count": 38,
   "metadata": {},
   "outputs": [
    {
     "data": {
      "text/html": [
       "\n",
       "\n",
       "\n",
       "\n",
       "\n",
       "\n",
       "  <div class=\"bk-root\" id=\"d22c96db-d670-4197-95f1-4f081d82032d\" data-root-id=\"2326\"></div>\n"
      ]
     },
     "metadata": {},
     "output_type": "display_data"
    },
    {
     "data": {
      "application/javascript": [
       "(function(root) {\n",
       "  function embed_document(root) {\n",
       "    \n",
       "  var docs_json = {\"9aa9c2be-28ae-414e-aff6-5cea9ade3994\":{\"roots\":{\"references\":[{\"attributes\":{\"below\":[{\"id\":\"2335\",\"type\":\"LinearAxis\"}],\"center\":[{\"id\":\"2339\",\"type\":\"Grid\"},{\"id\":\"2344\",\"type\":\"Grid\"}],\"left\":[{\"id\":\"2340\",\"type\":\"LinearAxis\"}],\"plot_height\":300,\"plot_width\":450,\"renderers\":[{\"id\":\"2361\",\"type\":\"GlyphRenderer\"}],\"title\":{\"id\":\"2456\",\"type\":\"Title\"},\"toolbar\":{\"id\":\"2351\",\"type\":\"Toolbar\"},\"x_range\":{\"id\":\"2327\",\"type\":\"DataRange1d\"},\"x_scale\":{\"id\":\"2331\",\"type\":\"LinearScale\"},\"y_range\":{\"id\":\"2329\",\"type\":\"DataRange1d\"},\"y_scale\":{\"id\":\"2333\",\"type\":\"LinearScale\"}},\"id\":\"2326\",\"subtype\":\"Figure\",\"type\":\"Plot\"},{\"attributes\":{\"line_color\":\"#1f77b4\",\"x\":{\"field\":\"x\"},\"y\":{\"field\":\"y\"}},\"id\":\"2359\",\"type\":\"Line\"},{\"attributes\":{},\"id\":\"2349\",\"type\":\"ResetTool\"},{\"attributes\":{\"formatter\":{\"id\":\"2461\",\"type\":\"BasicTickFormatter\"},\"ticker\":{\"id\":\"2336\",\"type\":\"BasicTicker\"}},\"id\":\"2335\",\"type\":\"LinearAxis\"},{\"attributes\":{\"callback\":null},\"id\":\"2327\",\"type\":\"DataRange1d\"},{\"attributes\":{},\"id\":\"2341\",\"type\":\"BasicTicker\"},{\"attributes\":{},\"id\":\"2461\",\"type\":\"BasicTickFormatter\"},{\"attributes\":{},\"id\":\"2463\",\"type\":\"Selection\"},{\"attributes\":{},\"id\":\"2462\",\"type\":\"UnionRenderers\"},{\"attributes\":{\"overlay\":{\"id\":\"2464\",\"type\":\"BoxAnnotation\"}},\"id\":\"2347\",\"type\":\"BoxZoomTool\"},{\"attributes\":{},\"id\":\"2331\",\"type\":\"LinearScale\"},{\"attributes\":{\"formatter\":{\"id\":\"2459\",\"type\":\"BasicTickFormatter\"},\"ticker\":{\"id\":\"2341\",\"type\":\"BasicTicker\"}},\"id\":\"2340\",\"type\":\"LinearAxis\"},{\"attributes\":{},\"id\":\"2336\",\"type\":\"BasicTicker\"},{\"attributes\":{\"source\":{\"id\":\"2358\",\"type\":\"ColumnDataSource\"}},\"id\":\"2362\",\"type\":\"CDSView\"},{\"attributes\":{},\"id\":\"2345\",\"type\":\"PanTool\"},{\"attributes\":{\"text\":\"\"},\"id\":\"2456\",\"type\":\"Title\"},{\"attributes\":{\"callback\":null},\"id\":\"2329\",\"type\":\"DataRange1d\"},{\"attributes\":{},\"id\":\"2346\",\"type\":\"WheelZoomTool\"},{\"attributes\":{},\"id\":\"2459\",\"type\":\"BasicTickFormatter\"},{\"attributes\":{},\"id\":\"2348\",\"type\":\"SaveTool\"},{\"attributes\":{\"active_drag\":\"auto\",\"active_inspect\":\"auto\",\"active_multi\":null,\"active_scroll\":\"auto\",\"active_tap\":\"auto\",\"tools\":[{\"id\":\"2345\",\"type\":\"PanTool\"},{\"id\":\"2346\",\"type\":\"WheelZoomTool\"},{\"id\":\"2347\",\"type\":\"BoxZoomTool\"},{\"id\":\"2348\",\"type\":\"SaveTool\"},{\"id\":\"2349\",\"type\":\"ResetTool\"},{\"id\":\"2350\",\"type\":\"HelpTool\"}]},\"id\":\"2351\",\"type\":\"Toolbar\"},{\"attributes\":{},\"id\":\"2333\",\"type\":\"LinearScale\"},{\"attributes\":{\"ticker\":{\"id\":\"2336\",\"type\":\"BasicTicker\"}},\"id\":\"2339\",\"type\":\"Grid\"},{\"attributes\":{\"bottom_units\":\"screen\",\"fill_alpha\":{\"value\":0.5},\"fill_color\":{\"value\":\"lightgrey\"},\"left_units\":\"screen\",\"level\":\"overlay\",\"line_alpha\":{\"value\":1.0},\"line_color\":{\"value\":\"black\"},\"line_dash\":[4,4],\"line_width\":{\"value\":2},\"render_mode\":\"css\",\"right_units\":\"screen\",\"top_units\":\"screen\"},\"id\":\"2464\",\"type\":\"BoxAnnotation\"},{\"attributes\":{\"callback\":null,\"data\":{\"x\":{\"__ndarray__\":\"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\",\"dtype\":\"float64\",\"shape\":[200]},\"y\":{\"__ndarray__\":\"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\",\"dtype\":\"float64\",\"shape\":[200]}},\"selected\":{\"id\":\"2463\",\"type\":\"Selection\"},\"selection_policy\":{\"id\":\"2462\",\"type\":\"UnionRenderers\"}},\"id\":\"2358\",\"type\":\"ColumnDataSource\"},{\"attributes\":{\"dimension\":1,\"ticker\":{\"id\":\"2341\",\"type\":\"BasicTicker\"}},\"id\":\"2344\",\"type\":\"Grid\"},{\"attributes\":{\"data_source\":{\"id\":\"2358\",\"type\":\"ColumnDataSource\"},\"glyph\":{\"id\":\"2359\",\"type\":\"Line\"},\"hover_glyph\":null,\"muted_glyph\":null,\"nonselection_glyph\":{\"id\":\"2360\",\"type\":\"Line\"},\"selection_glyph\":null,\"view\":{\"id\":\"2362\",\"type\":\"CDSView\"}},\"id\":\"2361\",\"type\":\"GlyphRenderer\"},{\"attributes\":{\"line_alpha\":0.1,\"line_color\":\"#1f77b4\",\"x\":{\"field\":\"x\"},\"y\":{\"field\":\"y\"}},\"id\":\"2360\",\"type\":\"Line\"},{\"attributes\":{},\"id\":\"2350\",\"type\":\"HelpTool\"}],\"root_ids\":[\"2326\"]},\"title\":\"Bokeh Application\",\"version\":\"1.4.0\"}};\n",
       "  var render_items = [{\"docid\":\"9aa9c2be-28ae-414e-aff6-5cea9ade3994\",\"roots\":{\"2326\":\"d22c96db-d670-4197-95f1-4f081d82032d\"}}];\n",
       "  root.Bokeh.embed.embed_items_notebook(docs_json, render_items);\n",
       "\n",
       "  }\n",
       "  if (root.Bokeh !== undefined) {\n",
       "    embed_document(root);\n",
       "  } else {\n",
       "    var attempts = 0;\n",
       "    var timer = setInterval(function(root) {\n",
       "      if (root.Bokeh !== undefined) {\n",
       "        clearInterval(timer);\n",
       "        embed_document(root);\n",
       "      } else {\n",
       "        attempts++;\n",
       "        if (attempts > 100) {\n",
       "          clearInterval(timer);\n",
       "          console.log(\"Bokeh: ERROR: Unable to run BokehJS code because BokehJS library is missing\");\n",
       "        }\n",
       "      }\n",
       "    }, 10, root)\n",
       "  }\n",
       "})(window);"
      ],
      "application/vnd.bokehjs_exec.v0+json": ""
     },
     "metadata": {
      "application/vnd.bokehjs_exec.v0+json": {
       "id": "2326"
      }
     },
     "output_type": "display_data"
    }
   ],
   "source": [
    "p_test = bokeh.plotting.figure(width = 450, height = 300)\n",
    "p_test.line(timepoints, results_2[ATP_id_1])\n",
    "bokeh.io.show(p_test)"
   ]
  },
  {
   "cell_type": "code",
   "execution_count": null,
   "metadata": {},
   "outputs": [],
   "source": []
  },
  {
   "cell_type": "code",
   "execution_count": null,
   "metadata": {},
   "outputs": [],
   "source": []
  },
  {
   "cell_type": "code",
   "execution_count": 45,
   "metadata": {},
   "outputs": [
    {
     "ename": "ValueError",
     "evalue": "The species metabolite_atp not found.",
     "output_type": "error",
     "traceback": [
      "\u001b[0;31m---------------------------------------------------------------------------\u001b[0m",
      "\u001b[0;31mValueError\u001b[0m                                Traceback (most recent call last)",
      "\u001b[0;32m<ipython-input-45-2bde4acee5bf>\u001b[0m in \u001b[0;36m<module>\u001b[0;34m\u001b[0m\n\u001b[1;32m      5\u001b[0m \u001b[0;34m\u001b[0m\u001b[0m\n\u001b[1;32m      6\u001b[0m \u001b[0mss1\u001b[0m \u001b[0;34m=\u001b[0m \u001b[0mcreateSubsystem\u001b[0m\u001b[0;34m(\u001b[0m\u001b[0;34m'combintsub_SLOW.xml'\u001b[0m\u001b[0;34m)\u001b[0m \u001b[0;31m#ATPSYNTHASE\u001b[0m\u001b[0;34m\u001b[0m\u001b[0;34m\u001b[0m\u001b[0m\n\u001b[0;32m----> 7\u001b[0;31m \u001b[0mATP_id_1\u001b[0m \u001b[0;34m=\u001b[0m \u001b[0mss1\u001b[0m\u001b[0;34m.\u001b[0m\u001b[0mgetSpeciesByName\u001b[0m\u001b[0;34m(\u001b[0m\u001b[0;34m'metabolite_atp'\u001b[0m\u001b[0;34m)\u001b[0m\u001b[0;34m.\u001b[0m\u001b[0mgetId\u001b[0m\u001b[0;34m(\u001b[0m\u001b[0;34m)\u001b[0m\u001b[0;34m\u001b[0m\u001b[0;34m\u001b[0m\u001b[0m\n\u001b[0m\u001b[1;32m      8\u001b[0m \u001b[0;31m#ATP_id_1 = ss1.getSpeciesByName('metabolite_atp').getId()\u001b[0m\u001b[0;34m\u001b[0m\u001b[0;34m\u001b[0m\u001b[0;34m\u001b[0m\u001b[0m\n\u001b[1;32m      9\u001b[0m \u001b[0;34m\u001b[0m\u001b[0m\n",
      "\u001b[0;32m~/opt/anaconda3/lib/python3.7/site-packages/subsbml-0.1-py3.7.egg/subsbml/Subsystem.py\u001b[0m in \u001b[0;36mgetSpeciesByName\u001b[0;34m(self, name, compartment, **kwargs)\u001b[0m\n\u001b[1;32m    250\u001b[0m             \u001b[0;32mreturn\u001b[0m \u001b[0mspecies_found\u001b[0m\u001b[0;34m[\u001b[0m\u001b[0;36m0\u001b[0m\u001b[0;34m]\u001b[0m\u001b[0;34m\u001b[0m\u001b[0;34m\u001b[0m\u001b[0m\n\u001b[1;32m    251\u001b[0m         \u001b[0;32melif\u001b[0m \u001b[0;32mnot\u001b[0m \u001b[0mspecies_found\u001b[0m\u001b[0;34m:\u001b[0m\u001b[0;34m\u001b[0m\u001b[0;34m\u001b[0m\u001b[0m\n\u001b[0;32m--> 252\u001b[0;31m             \u001b[0;32mraise\u001b[0m \u001b[0mValueError\u001b[0m\u001b[0;34m(\u001b[0m\u001b[0;34m'The species '\u001b[0m \u001b[0;34m+\u001b[0m \u001b[0mname\u001b[0m \u001b[0;34m+\u001b[0m \u001b[0;34m' not found.'\u001b[0m\u001b[0;34m)\u001b[0m\u001b[0;34m\u001b[0m\u001b[0;34m\u001b[0m\u001b[0m\n\u001b[0m\u001b[1;32m    253\u001b[0m         \u001b[0;32melse\u001b[0m\u001b[0;34m:\u001b[0m\u001b[0;34m\u001b[0m\u001b[0;34m\u001b[0m\u001b[0m\n\u001b[1;32m    254\u001b[0m             \u001b[0mwarnings\u001b[0m\u001b[0;34m.\u001b[0m\u001b[0mwarn\u001b[0m\u001b[0;34m(\u001b[0m\u001b[0;34m'Multiple species with name '\u001b[0m \u001b[0;34m+\u001b[0m \u001b[0mname\u001b[0m \u001b[0;34m+\u001b[0m \u001b[0;34m' found. Returning a list'\u001b[0m\u001b[0;34m)\u001b[0m \u001b[0;32mif\u001b[0m \u001b[0mverbose\u001b[0m \u001b[0;32melse\u001b[0m \u001b[0;32mNone\u001b[0m\u001b[0;34m\u001b[0m\u001b[0;34m\u001b[0m\u001b[0m\n",
      "\u001b[0;31mValueError\u001b[0m: The species metabolite_atp not found."
     ]
    }
   ],
   "source": [
    "from subsbml import System, createSubsystem, combineSystems, createNewSubsystem\n",
    "\n",
    "import numpy as np\n",
    "import pylab as plt\n",
    "\n",
    "ss1 = createSubsystem('combintsub_SLOW.xml') #ATPSYNTHASE\n",
    "ATP_id_1 = ss1.getSpeciesByName('metabolite_atp').getId()\n",
    "#ATP_id_1 = ss1.getSpeciesByName('metabolite_atp').getId()\n",
    "\n",
    "\n",
    "\n",
    "\n",
    "ss2 = createSubsystem('atc_external_reservoir.xml')\n",
    "\n",
    "# Create a simple atc membrane where atc goes in an out of the membrane via a reversible reaction\n",
    "mb1 = createSubsystem('membrane_atc.xml', membrane = True)\n",
    "\n",
    "mb2 = createSubsystem('dnaexp_membrane1.xml', membrane = True)\n",
    "\n",
    "cell_1 =  System('cell_1',ListOfInternalSubsystems = [ss1],\n",
    "                 ListOfExternalSubsystems = [ss2],\n",
    "                 ListOfMembraneSubsystems = [mb1, mb2])\n",
    "\n",
    "cell_1_model = cell_1.getModel()\n",
    "\n",
    "spec_list_10 = ['dna_proton_pump', 'dna_atpsyn','proton_outside_H','protein_RNAP_machinery', \n",
    "                'protein_Ribo_machinery', 'protein_RNAse_machinery']\n",
    "for i,spec in enumerate(spec_list_10):\n",
    "    cell_1_model.setSpeciesAmount(spec,10)\n",
    "    \n",
    "cell_1_model.setSpeciesAmount('atc_e', 1e4, compartment = 'cell_1_external')\n",
    "cell_1_model.setSpeciesAmount('ssDNA', 50, compartment = 'cell_1_internal')\n",
    "cell_1_model.setSpeciesAmount('dna_g', 1, compartment = 'cell_1_internal')\n",
    "cell_1_model.setSpeciesAmount('tetR', 10, compartment = 'cell_1_internal')\n",
    "cell_1_model.setSpeciesAmount('ATP', 10, compartment = 'cell_1_internal') # metabolite_atp\n",
    "cell_1_model.setSpeciesAmount('molecule_glucose', 30, compartment = 'cell_1_internal')\n",
    "cell_1_model.setSpeciesAmount('metabolite_nadp', 30, compartment = 'cell_1_internal')\n",
    "cell_1_model.setSpeciesAmount('P', 30, compartment = 'cell_1_internal') # metabolite_pi\n",
    "cell_1_model.setSpeciesAmount('enzyme_hex', 0.20, compartment = 'cell_1_internal')\n",
    "cell_1_model.setSpeciesAmount('enzyme_pgi', 0.20, compartment = 'cell_1_internal')\n",
    "cell_1_model.setSpeciesAmount('enzyme_pfk', 0.20, compartment = 'cell_1_internal')\n",
    "cell_1_model.setSpeciesAmount('enzyme_ald_tpi', 0.20, compartment = 'cell_1_internal')\n",
    "cell_1_model.setSpeciesAmount('enzyme_gapN', 0.20, compartment = 'cell_1_internal')\n",
    "cell_1_model.setSpeciesAmount('enzyme_mGapDH', 0.20, compartment = 'cell_1_internal')\n",
    "cell_1_model.setSpeciesAmount('enzyme_pgk', 0.20, compartment = 'cell_1_internal')\n",
    "cell_1_model.setSpeciesAmount('enzyme_pgm', 0.20, compartment = 'cell_1_internal')\n",
    "cell_1_model.setSpeciesAmount('enzyme_eno', 0.20, compartment = 'cell_1_internal')\n",
    "cell_1_model.setSpeciesAmount('enzyme_pyk', 0.20, compartment = 'cell_1_internal')\n",
    "cell_1_model.setSpeciesAmount('enzyme_alsS', 0.20, compartment = 'cell_1_internal')\n",
    "cell_1_model.setSpeciesAmount('enzyme_IlvC', 0.20, compartment = 'cell_1_internal')\n",
    "cell_1_model.setSpeciesAmount('enzyme_IlvD', 0.20, compartment = 'cell_1_internal')\n",
    "cell_1_model.setSpeciesAmount('enzyme_kivD', 0.20, compartment = 'cell_1_internal')\n",
    "cell_1_model.setSpeciesAmount('enzyme_yahk', 0.20, compartment = 'cell_1_internal')\n",
    "\n",
    "cell_1_model.getSBMLDocument().getModel().getCompartment(1).setSize(1e-4) \n",
    "\n",
    "cell_1_model.writeSBML('cell_1_model.xml')"
   ]
  },
  {
   "cell_type": "code",
   "execution_count": null,
   "metadata": {},
   "outputs": [],
   "source": []
  },
  {
   "cell_type": "code",
   "execution_count": null,
   "metadata": {},
   "outputs": [],
   "source": []
  },
  {
   "cell_type": "code",
   "execution_count": 42,
   "metadata": {},
   "outputs": [
    {
     "name": "stderr",
     "output_type": "stream",
     "text": [
      "odeint failed with mxstep=500..."
     ]
    },
    {
     "data": {
      "text/html": [
       "\n",
       "\n",
       "\n",
       "\n",
       "\n",
       "\n",
       "  <div class=\"bk-root\" id=\"39bd3f7c-10ef-4684-a59b-a886e234249c\" data-root-id=\"2520\"></div>\n"
      ]
     },
     "metadata": {},
     "output_type": "display_data"
    },
    {
     "data": {
      "application/javascript": [
       "(function(root) {\n",
       "  function embed_document(root) {\n",
       "    \n",
       "  var docs_json = {\"bda7f608-5a73-4c19-9234-2d108dff35e0\":{\"roots\":{\"references\":[{\"attributes\":{\"below\":[{\"id\":\"2531\",\"type\":\"LinearAxis\"}],\"center\":[{\"id\":\"2535\",\"type\":\"Grid\"},{\"id\":\"2540\",\"type\":\"Grid\"},{\"id\":\"2565\",\"type\":\"Legend\"}],\"left\":[{\"id\":\"2536\",\"type\":\"LinearAxis\"}],\"plot_height\":400,\"plot_width\":480,\"renderers\":[{\"id\":\"2557\",\"type\":\"GlyphRenderer\"},{\"id\":\"2570\",\"type\":\"GlyphRenderer\"},{\"id\":\"2584\",\"type\":\"GlyphRenderer\"},{\"id\":\"2600\",\"type\":\"GlyphRenderer\"}],\"title\":{\"id\":\"2521\",\"type\":\"Title\"},\"toolbar\":{\"id\":\"2547\",\"type\":\"Toolbar\"},\"x_range\":{\"id\":\"2523\",\"type\":\"DataRange1d\"},\"x_scale\":{\"id\":\"2527\",\"type\":\"LinearScale\"},\"y_range\":{\"id\":\"2525\",\"type\":\"DataRange1d\"},\"y_scale\":{\"id\":\"2529\",\"type\":\"LinearScale\"}},\"id\":\"2520\",\"subtype\":\"Figure\",\"type\":\"Plot\"},{\"attributes\":{\"callback\":null,\"data\":{\"x\":{\"__ndarray__\":\"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\",\"dtype\":\"float64\",\"shape\":[200]},\"y\":{\"__ndarray__\":\"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\",\"dtype\":\"float64\",\"shape\":[200]}},\"selected\":{\"id\":\"2612\",\"type\":\"Selection\"},\"selection_policy\":{\"id\":\"2611\",\"type\":\"UnionRenderers\"}},\"id\":\"2581\",\"type\":\"ColumnDataSource\"},{\"attributes\":{\"line_color\":\"#1f77b3\",\"line_width\":3,\"x\":{\"field\":\"x\"},\"y\":{\"field\":\"y\"}},\"id\":\"2555\",\"type\":\"Line\"},{\"attributes\":{\"callback\":null},\"id\":\"2523\",\"type\":\"DataRange1d\"},{\"attributes\":{\"line_color\":\"#2ba02b\",\"line_width\":3,\"x\":{\"field\":\"x\"},\"y\":{\"field\":\"y\"}},\"id\":\"2582\",\"type\":\"Line\"},{\"attributes\":{\"bottom_units\":\"screen\",\"fill_alpha\":{\"value\":0.5},\"fill_color\":{\"value\":\"lightgrey\"},\"left_units\":\"screen\",\"level\":\"overlay\",\"line_alpha\":{\"value\":1.0},\"line_color\":{\"value\":\"black\"},\"line_dash\":[4,4],\"line_width\":{\"value\":2},\"render_mode\":\"css\",\"right_units\":\"screen\",\"top_units\":\"screen\"},\"id\":\"2564\",\"type\":\"BoxAnnotation\"},{\"attributes\":{},\"id\":\"2541\",\"type\":\"PanTool\"},{\"attributes\":{\"overlay\":{\"id\":\"2564\",\"type\":\"BoxAnnotation\"}},\"id\":\"2543\",\"type\":\"BoxZoomTool\"},{\"attributes\":{},\"id\":\"2545\",\"type\":\"ResetTool\"},{\"attributes\":{\"line_color\":\"#9367bc\",\"line_width\":3,\"x\":{\"field\":\"x\"},\"y\":{\"field\":\"y\"}},\"id\":\"2598\",\"type\":\"Line\"},{\"attributes\":{},\"id\":\"2544\",\"type\":\"SaveTool\"},{\"attributes\":{},\"id\":\"2577\",\"type\":\"UnionRenderers\"},{\"attributes\":{\"source\":{\"id\":\"2567\",\"type\":\"ColumnDataSource\"}},\"id\":\"2571\",\"type\":\"CDSView\"},{\"attributes\":{\"source\":{\"id\":\"2581\",\"type\":\"ColumnDataSource\"}},\"id\":\"2585\",\"type\":\"CDSView\"},{\"attributes\":{},\"id\":\"2561\",\"type\":\"BasicTickFormatter\"},{\"attributes\":{},\"id\":\"2728\",\"type\":\"UnionRenderers\"},{\"attributes\":{},\"id\":\"2527\",\"type\":\"LinearScale\"},{\"attributes\":{},\"id\":\"2546\",\"type\":\"HelpTool\"},{\"attributes\":{\"line_alpha\":0.1,\"line_color\":\"#1f77b4\",\"line_width\":3,\"x\":{\"field\":\"x\"},\"y\":{\"field\":\"y\"}},\"id\":\"2569\",\"type\":\"Line\"},{\"attributes\":{\"label\":{\"value\":\"ssDNA exported\"},\"renderers\":[{\"id\":\"2570\",\"type\":\"GlyphRenderer\"}]},\"id\":\"2580\",\"type\":\"LegendItem\"},{\"attributes\":{},\"id\":\"2593\",\"type\":\"UnionRenderers\"},{\"attributes\":{\"source\":{\"id\":\"2554\",\"type\":\"ColumnDataSource\"}},\"id\":\"2558\",\"type\":\"CDSView\"},{\"attributes\":{},\"id\":\"2729\",\"type\":\"Selection\"},{\"attributes\":{\"line_color\":\"#ff7e0e\",\"line_width\":3,\"x\":{\"field\":\"x\"},\"y\":{\"field\":\"y\"}},\"id\":\"2568\",\"type\":\"Line\"},{\"attributes\":{},\"id\":\"2563\",\"type\":\"BasicTickFormatter\"},{\"attributes\":{\"data_source\":{\"id\":\"2554\",\"type\":\"ColumnDataSource\"},\"glyph\":{\"id\":\"2555\",\"type\":\"Line\"},\"hover_glyph\":null,\"muted_glyph\":null,\"nonselection_glyph\":{\"id\":\"2556\",\"type\":\"Line\"},\"selection_glyph\":null,\"view\":{\"id\":\"2558\",\"type\":\"CDSView\"}},\"id\":\"2557\",\"type\":\"GlyphRenderer\"},{\"attributes\":{\"line_alpha\":0.1,\"line_color\":\"#1f77b4\",\"line_width\":3,\"x\":{\"field\":\"x\"},\"y\":{\"field\":\"y\"}},\"id\":\"2583\",\"type\":\"Line\"},{\"attributes\":{\"callback\":null,\"data\":{\"x\":{\"__ndarray__\":\"AAAAAAAAAADLjeAj+92xP8uN4CP73cE/sNTQtfjMyj/LjeAj+93RPz6x2Ox5VdY/sNTQtfjM2j8j+Mh+d0TfP8uN4CP73eE/hJ9ciLoZ5D8+sdjseVXmP/bCVFE5keg/sNTQtfjM6j9q5kwauAjtPyP4yH53RO8/7oSicRvA8D/LjeAj+93xP6eWHtba+/I/hJ9ciLoZ9D9hqJo6mjf1Pz6x2Ox5VfY/G7oWn1lz9z/2wlRROZH4P9PLkgMZr/k/sNTQtfjM+j+N3Q5o2Or7P2rmTBq4CP0/Ru+KzJcm/j8j+Mh+d0T/P4CAg5grMQBA7oSicRvAAEBdicFKC08BQMuN4CP73QFAOZL//OpsAkCnlh7W2vsCQBWbPa/KigNAhJ9ciLoZBEDyo3thqqgEQGGomjqaNwVAz6y5E4rGBUA+sdjseVUGQKy198Vp5AZAG7oWn1lzB0CJvjV4SQIIQPbCVFE5kQhAZcdzKikgCUDTy5IDGa8JQELQsdwIPgpAsNTQtfjMCkAf2e+O6FsLQI3dDmjY6gtA/OEtQch5DEBq5kwauAgNQNnqa/Onlw1ARu+KzJcmDkC186mlh7UOQCP4yH53RA9AkvznV2fTD0CAgIOYKzEQQLcCE4WjeBBA7oSicRvAEEAlBzJekwcRQF2JwUoLTxFAlAtRN4OWEUDLjeAj+90RQAIQcBBzJRJAOZL//OpsEkBxFI/pYrQSQKeWHtba+xJA3xiuwlJDE0AVmz2vyooTQE4dzZtC0hNAhJ9ciLoZFEC8Iex0MmEUQPKje2GqqBRAKiYLTiLwFEBhqJo6mjcVQJkqKicSfxVAz6y5E4rGFUAGL0kAAg4WQD6x2Ox5VRZAdTNo2fGcFkCstffFaeQWQOM3h7LhKxdAG7oWn1lzF0BSPKaL0boXQIm+NXhJAhhAwEDFZMFJGED2wlRROZEYQC9F5D2x2BhAZcdzKikgGUCdSQMXoWcZQNPLkgMZrxlADE4i8JD2GUBC0LHcCD4aQHpSQcmAhRpAsNTQtfjMGkDpVmCicBQbQB/Z747oWxtAVlt/e2CjG0CN3Q5o2OobQMVfnlRQMhxA/OEtQch5HEAzZL0tQMEcQGrmTBq4CB1AoWjcBjBQHUDZ6mvzp5cdQBBt+98f3x1ARu+KzJcmHkB+cRq5D24eQLXzqaWHtR5A7XU5kv/8HkAj+Mh+d0QfQFt6WGvvix9AkvznV2fTH0Blvzuibw0gQICAg5grMSBAnEHLjudUIEC3AhOFo3ggQNPDWntfnCBA7oSicRvAIEAKRupn1+MgQCUHMl6TByFAQch5VE8rIUBdicFKC08hQHlKCUHHciFAlAtRN4OWIUCwzJgtP7ohQMuN4CP73SFA5k4oGrcBIkACEHAQcyUiQB7RtwYvSSJAOZL//OpsIkBVU0fzppAiQHEUj+litCJAjNXW3x7YIkCnlh7W2vsiQMNXZsyWHyNA3xiuwlJDI0D72fW4DmcjQBWbPa/KiiNAMlyFpYauI0BOHc2bQtIjQGneFJL+9SNAhJ9ciLoZJECgYKR+dj0kQLwh7HQyYSRA1+Iza+6EJEDyo3thqqgkQA9lw1dmzCRAKiYLTiLwJEBF51JE3hMlQGGomjqaNyVAfWniMFZbJUCZKionEn8lQLTrcR3OoiVAz6y5E4rGJUDsbQEKRuolQAYvSQACDiZAIvCQ9r0xJkA+sdjseVUmQFpyIOM1eSZAdTNo2fGcJkCQ9K/PrcAmQKy198Vp5CZAyXY/vCUIJ0DjN4ey4SsnQP/4zqidTydAG7oWn1lzJ0A2e16VFZcnQFI8povRuidAbf3tgY3eJ0CJvjV4SQIoQKV/fW4FJihAwEDFZMFJKEDcAQ1bfW0oQPbCVFE5kShAE4ScR/W0KEAvReQ9sdgoQEoGLDRt/ChAZcdzKikgKUCCiLsg5UMpQJ1JAxehZylAuQpLDV2LKUDTy5IDGa8pQPCM2vnU0ilADE4i8JD2KUAmD2rmTBoqQELQsdwIPipAX5H50sRhKkB6UkHJgIUqQJUTib88qSpAsNTQtfjMKkDMlRistPAqQOlWYKJwFCtAAxiomCw4K0Af2e+O6FsrQDqaN4WkfytAVlt/e2CjK0ByHMdxHMcrQA==\",\"dtype\":\"float64\",\"shape\":[200]},\"y\":{\"__ndarray__\":\"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\",\"dtype\":\"float64\",\"shape\":[200]}},\"selected\":{\"id\":\"2594\",\"type\":\"Selection\"},\"selection_policy\":{\"id\":\"2593\",\"type\":\"UnionRenderers\"}},\"id\":\"2567\",\"type\":\"ColumnDataSource\"},{\"attributes\":{},\"id\":\"2594\",\"type\":\"Selection\"},{\"attributes\":{\"data_source\":{\"id\":\"2567\",\"type\":\"ColumnDataSource\"},\"glyph\":{\"id\":\"2568\",\"type\":\"Line\"},\"hover_glyph\":null,\"muted_glyph\":null,\"nonselection_glyph\":{\"id\":\"2569\",\"type\":\"Line\"},\"selection_glyph\":null,\"view\":{\"id\":\"2571\",\"type\":\"CDSView\"}},\"id\":\"2570\",\"type\":\"GlyphRenderer\"},{\"attributes\":{\"text\":\"With ATP Synthase\"},\"id\":\"2521\",\"type\":\"Title\"},{\"attributes\":{\"line_alpha\":0.1,\"line_color\":\"#1f77b4\",\"line_width\":3,\"x\":{\"field\":\"x\"},\"y\":{\"field\":\"y\"}},\"id\":\"2556\",\"type\":\"Line\"},{\"attributes\":{\"callback\":null,\"data\":{\"x\":{\"__ndarray__\":\"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\",\"dtype\":\"float64\",\"shape\":[200]},\"y\":{\"__ndarray__\":\"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\",\"dtype\":\"float64\",\"shape\":[200]}},\"selected\":{\"id\":\"2729\",\"type\":\"Selection\"},\"selection_policy\":{\"id\":\"2728\",\"type\":\"UnionRenderers\"}},\"id\":\"2597\",\"type\":\"ColumnDataSource\"},{\"attributes\":{\"active_drag\":\"auto\",\"active_inspect\":\"auto\",\"active_multi\":null,\"active_scroll\":\"auto\",\"active_tap\":\"auto\",\"tools\":[{\"id\":\"2541\",\"type\":\"PanTool\"},{\"id\":\"2542\",\"type\":\"WheelZoomTool\"},{\"id\":\"2543\",\"type\":\"BoxZoomTool\"},{\"id\":\"2544\",\"type\":\"SaveTool\"},{\"id\":\"2545\",\"type\":\"ResetTool\"},{\"id\":\"2546\",\"type\":\"HelpTool\"}]},\"id\":\"2547\",\"type\":\"Toolbar\"},{\"attributes\":{},\"id\":\"2529\",\"type\":\"LinearScale\"},{\"attributes\":{\"label\":{\"value\":\"ssDNA inside\"},\"renderers\":[{\"id\":\"2584\",\"type\":\"GlyphRenderer\"}]},\"id\":\"2596\",\"type\":\"LegendItem\"},{\"attributes\":{},\"id\":\"2578\",\"type\":\"Selection\"},{\"attributes\":{\"data_source\":{\"id\":\"2581\",\"type\":\"ColumnDataSource\"},\"glyph\":{\"id\":\"2582\",\"type\":\"Line\"},\"hover_glyph\":null,\"muted_glyph\":null,\"nonselection_glyph\":{\"id\":\"2583\",\"type\":\"Line\"},\"selection_glyph\":null,\"view\":{\"id\":\"2585\",\"type\":\"CDSView\"}},\"id\":\"2584\",\"type\":\"GlyphRenderer\"},{\"attributes\":{\"dimension\":1,\"ticker\":{\"id\":\"2537\",\"type\":\"BasicTicker\"}},\"id\":\"2540\",\"type\":\"Grid\"},{\"attributes\":{\"axis_label\":\"Time (hrs)\",\"formatter\":{\"id\":\"2563\",\"type\":\"BasicTickFormatter\"},\"ticker\":{\"id\":\"2532\",\"type\":\"BasicTicker\"}},\"id\":\"2531\",\"type\":\"LinearAxis\"},{\"attributes\":{\"ticker\":{\"id\":\"2532\",\"type\":\"BasicTicker\"}},\"id\":\"2535\",\"type\":\"Grid\"},{\"attributes\":{\"line_alpha\":0.1,\"line_color\":\"#1f77b4\",\"line_width\":3,\"x\":{\"field\":\"x\"},\"y\":{\"field\":\"y\"}},\"id\":\"2599\",\"type\":\"Line\"},{\"attributes\":{},\"id\":\"2537\",\"type\":\"BasicTicker\"},{\"attributes\":{\"callback\":null},\"id\":\"2525\",\"type\":\"DataRange1d\"},{\"attributes\":{\"data_source\":{\"id\":\"2597\",\"type\":\"ColumnDataSource\"},\"glyph\":{\"id\":\"2598\",\"type\":\"Line\"},\"hover_glyph\":null,\"muted_glyph\":null,\"nonselection_glyph\":{\"id\":\"2599\",\"type\":\"Line\"},\"selection_glyph\":null,\"view\":{\"id\":\"2601\",\"type\":\"CDSView\"}},\"id\":\"2600\",\"type\":\"GlyphRenderer\"},{\"attributes\":{\"axis_label\":\"Concentration (nM)\",\"formatter\":{\"id\":\"2561\",\"type\":\"BasicTickFormatter\"},\"ticker\":{\"id\":\"2537\",\"type\":\"BasicTicker\"}},\"id\":\"2536\",\"type\":\"LinearAxis\"},{\"attributes\":{},\"id\":\"2532\",\"type\":\"BasicTicker\"},{\"attributes\":{\"label\":{\"value\":\"VirE2 Bound\"},\"renderers\":[{\"id\":\"2557\",\"type\":\"GlyphRenderer\"}]},\"id\":\"2566\",\"type\":\"LegendItem\"},{\"attributes\":{\"callback\":null,\"data\":{\"x\":{\"__ndarray__\":\"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\",\"dtype\":\"float64\",\"shape\":[200]},\"y\":{\"__ndarray__\":\"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\",\"dtype\":\"float64\",\"shape\":[200]}},\"selected\":{\"id\":\"2578\",\"type\":\"Selection\"},\"selection_policy\":{\"id\":\"2577\",\"type\":\"UnionRenderers\"}},\"id\":\"2554\",\"type\":\"ColumnDataSource\"},{\"attributes\":{\"source\":{\"id\":\"2597\",\"type\":\"ColumnDataSource\"}},\"id\":\"2601\",\"type\":\"CDSView\"},{\"attributes\":{},\"id\":\"2542\",\"type\":\"WheelZoomTool\"},{\"attributes\":{},\"id\":\"2611\",\"type\":\"UnionRenderers\"},{\"attributes\":{\"items\":[{\"id\":\"2566\",\"type\":\"LegendItem\"},{\"id\":\"2580\",\"type\":\"LegendItem\"},{\"id\":\"2596\",\"type\":\"LegendItem\"},{\"id\":\"2614\",\"type\":\"LegendItem\"}],\"location\":\"center_right\"},\"id\":\"2565\",\"type\":\"Legend\"},{\"attributes\":{\"label\":{\"value\":\"ATP\"},\"renderers\":[{\"id\":\"2600\",\"type\":\"GlyphRenderer\"}]},\"id\":\"2614\",\"type\":\"LegendItem\"},{\"attributes\":{},\"id\":\"2612\",\"type\":\"Selection\"}],\"root_ids\":[\"2520\"]},\"title\":\"Bokeh Application\",\"version\":\"1.4.0\"}};\n",
       "  var render_items = [{\"docid\":\"bda7f608-5a73-4c19-9234-2d108dff35e0\",\"roots\":{\"2520\":\"39bd3f7c-10ef-4684-a59b-a886e234249c\"}}];\n",
       "  root.Bokeh.embed.embed_items_notebook(docs_json, render_items);\n",
       "\n",
       "  }\n",
       "  if (root.Bokeh !== undefined) {\n",
       "    embed_document(root);\n",
       "  } else {\n",
       "    var attempts = 0;\n",
       "    var timer = setInterval(function(root) {\n",
       "      if (root.Bokeh !== undefined) {\n",
       "        clearInterval(timer);\n",
       "        embed_document(root);\n",
       "      } else {\n",
       "        attempts++;\n",
       "        if (attempts > 100) {\n",
       "          clearInterval(timer);\n",
       "          console.log(\"Bokeh: ERROR: Unable to run BokehJS code because BokehJS library is missing\");\n",
       "        }\n",
       "      }\n",
       "    }, 10, root)\n",
       "  }\n",
       "})(window);"
      ],
      "application/vnd.bokehjs_exec.v0+json": ""
     },
     "metadata": {
      "application/vnd.bokehjs_exec.v0+json": {
       "id": "2520"
      }
     },
     "output_type": "display_data"
    }
   ],
   "source": [
    "timepoints = np.linspace(0,50000,200)\n",
    "results_1, _ = cell_1_model.simulateWithBioscrape(timepoints)\n",
    "\n",
    "VirE2_b_id1 = cell_1_model.getSpeciesByName('VirE2_b', compartment = 'cell_1_internal').getId()\n",
    "ssDNA_e_id1 = cell_1_model.getSpeciesByName('ssDNA_e', compartment = 'cell_1_external').getId()\n",
    "ssDNA_id1 = cell_1_model.getSpeciesByName('ssDNA', compartment = 'cell_1_internal').getId()\n",
    "VirE2_b_ssDNA_id1 = cell_1_model.getSpeciesByName('VirE2_b_ssDNA', compartment = 'cell_1_internal').getId()\n",
    "ATP_id1 = cell_1_model.getSpeciesByName('metabolite_atp', compartment = 'cell_1_internal').getId()\n",
    "\n",
    "\n",
    "p = bokeh.plotting.figure(width= 480, height = 400, title = 'With ATP Synthase',\n",
    "                         y_axis_label = 'Concentration (nM)',\n",
    "                         x_axis_label = 'Time (hrs)')\n",
    "\n",
    "p.line(timepoints/60/60, results_1[VirE2_b_id1], line_width = 3, legend_label = 'VirE2 Bound',\n",
    "      color = palette[0])\n",
    "p.line(timepoints/60/60, results_1[ssDNA_e_id1], line_width = 3, legend_label = 'ssDNA exported',\n",
    "      color = palette[1])\n",
    "p.line(timepoints/60/60, results_1[ssDNA_id1], line_width = 3, legend_label = 'ssDNA inside',\n",
    "      color = palette[2])\n",
    "\n",
    "p.line(timepoints/60/60, results_1[ATP_id1], line_width = 3, legend_label = 'ATP',\n",
    "      color = palette[4])\n",
    "\n",
    "p.legend.location = 'center_right'\n",
    "bokeh.io.show(p)\n",
    "\n",
    "# plt.figure(figsize=(12,6))\n",
    "# plt.plot(timepoints, results_1[VirE2_b_id1], linewidth = 3, label = 'VirE2_b_1')\n",
    "# plt.plot(timepoints, results_1[ssDNA_e_id1], linewidth = 4, label = 'ssDNA_e_1')\n",
    "# #plt.plot(timepoints, results_1[VirE2_b_ssDNA_id1], linewidth = 3, label = 'ssDNA_bound_1')\n",
    "# plt.plot(timepoints, results_1[ssDNA_id1], linewidth = 3, label = 'ssDNA_i_1')\n",
    "# plt.plot(timepoints, results_1[ATP_id1], linewidth = 4, label = 'ATP_1')\n",
    "\n",
    "\n",
    "# \n",
    "# plt.title(\"ATP conc: model 1=40\")\n",
    "# plt.xlabel('Time')\n",
    "# plt.ylabel('Conc')\n",
    "# plt.legend()\n",
    "# plt.show()"
   ]
  },
  {
   "cell_type": "code",
   "execution_count": 8,
   "metadata": {},
   "outputs": [
    {
     "name": "stderr",
     "output_type": "stream",
     "text": [
      "/Users/ankitaroychoudhury/opt/anaconda3/lib/python3.7/site-packages/bioscrape/sbmlutil.py:93: UserWarning: SBML model contains reversible reaction!\n",
      "Please check rate expressions and ensure they are non-negative before doing stochastic simulations.\n",
      "  'Please check rate expressions and ensure they are non-negative before doing '+\n",
      "/Users/ankitaroychoudhury/opt/anaconda3/lib/python3.7/site-packages/bioscrape/sbmlutil.py:208: UserWarning: Compartments, UnitDefintions, Events, and some other SBML model components are not recognized by bioscrape. Refer to the bioscrape wiki for more information.\n",
      "  warnings.warn('Compartments, UnitDefintions, Events, and some other SBML model components are not recognized by bioscrape. ' +\n"
     ]
    },
    {
     "data": {
      "image/png": "[encoded data removed]",
      "text/plain": [
       "<Figure size 864x432 with 1 Axes>"
      ]
     },
     "metadata": {
      "needs_background": "light"
     },
     "output_type": "display_data"
    }
   ],
   "source": [
    "timepoints = np.linspace(0,400,10000)\n",
    "results_1, _ = cell_1_model.simulateWithBioscrape(timepoints)\n",
    "\n",
    "VirE2_b_id1 = cell_1_model.getSpeciesByName('VirE2_b', compartment = 'cell_1_internal').getId()\n",
    "ssDNA_e_id1 = cell_1_model.getSpeciesByName('ssDNA_e', compartment = 'cell_1_external').getId()\n",
    "ssDNA_id1 = cell_1_model.getSpeciesByName('ssDNA', compartment = 'cell_1_internal').getId()\n",
    "VirE2_b_ssDNA_id1 = cell_1_model.getSpeciesByName('VirE2_b_ssDNA', compartment = 'cell_1_internal').getId()\n",
    "\n",
    "plt.figure(figsize=(12,6))\n",
    "plt.plot(timepoints, results_1[VirE2_b_id1], linewidth = 3, label = 'VirE2_b_1')\n",
    "plt.plot(timepoints, results_1[ssDNA_e_id1], linewidth = 4, label = 'ssDNA_e_1')\n",
    "#plt.plot(timepoints, results_1[VirE2_b_ssDNA_id1], linewidth = 3, label = 'ssDNA_bound_1')\n",
    "plt.plot(timepoints, results_1[ssDNA_id1], linewidth = 3, label = 'ssDNA_i_1')\n",
    "\n",
    "plt.title(\"ATP conc: model 1=40\")\n",
    "plt.xlabel('Time')\n",
    "plt.ylabel('Conc')\n",
    "plt.legend()\n",
    "plt.show()"
   ]
  },
  {
   "cell_type": "markdown",
   "metadata": {},
   "source": [
    "### CHeck atp subsystem"
   ]
  },
  {
   "cell_type": "code",
   "execution_count": 43,
   "metadata": {},
   "outputs": [
    {
     "name": "stderr",
     "output_type": "stream",
     "text": [
      "odeint failed with mxstep=500..."
     ]
    }
   ],
   "source": [
    "#ss1.setSpeciesAmount('atc_e', 1e4)\n",
    "\n",
    "spec_list_10 = ['dna_proton_pump', 'dna_atpsyn','proton_outside_H', 'metabolite_atp','protein_RNAP_machinery', \n",
    "                'protein_Ribo_machinery', 'protein_RNAse_machinery']\n",
    "for i,spec in enumerate(spec_list_10):\n",
    "    ss1.setSpeciesAmount(spec,10)\n",
    "    \n",
    "results_2, _ = ss1.simulateWithBioscrape(timepoints)"
   ]
  },
  {
   "cell_type": "code",
   "execution_count": null,
   "metadata": {},
   "outputs": [],
   "source": []
  },
  {
   "cell_type": "markdown",
   "metadata": {},
   "source": [
    "## No atp synthase\n",
    "---"
   ]
  },
  {
   "cell_type": "code",
   "execution_count": 9,
   "metadata": {},
   "outputs": [
    {
     "name": "stdout",
     "output_type": "stream",
     "text": [
      "The subsystem from membrane_atc.xml has multiple compartments\n",
      "The subsystem from dnaexp_membrane1.xml has multiple compartments\n"
     ]
    },
    {
     "data": {
      "text/plain": [
       "1"
      ]
     },
     "execution_count": 9,
     "metadata": {},
     "output_type": "execute_result"
    }
   ],
   "source": [
    "from subsbml import System, createSubsystem, combineSystems, createNewSubsystem\n",
    "\n",
    "import numpy as np\n",
    "import pylab as plt\n",
    "\n",
    "ss1 = createSubsystem('transporter.xml')\n",
    "ss2 = createSubsystem('atc_external_reservoir.xml')\n",
    "\n",
    "# Create a simple atc membrane where atc goes in an out of the membrane via a reversible reaction\n",
    "mb1 = createSubsystem('membrane_atc.xml', membrane = True)\n",
    "\n",
    "mb2 = createSubsystem('dnaexp_membrane1.xml', membrane = True)\n",
    "\n",
    "cell_2 =  System('cell_2',ListOfInternalSubsystems = [ss1],\n",
    "                 ListOfExternalSubsystems = [ss2],\n",
    "                 ListOfMembraneSubsystems = [mb1, mb2])\n",
    "\n",
    "cell_2_model = cell_2.getModel()\n",
    "cell_2_model.setSpeciesAmount('atc_e', 1e4, compartment = 'cell_2_external')\n",
    "cell_2_model.setSpeciesAmount('ssDNA', 50, compartment = 'cell_2_internal')\n",
    "cell_2_model.setSpeciesAmount('dna_g', 1, compartment = 'cell_2_internal')\n",
    "cell_2_model.setSpeciesAmount('tetR', 10, compartment = 'cell_2_internal')\n",
    "cell_2_model.setSpeciesAmount('ATP', 10, compartment = 'cell_2_internal')\n",
    "cell_2_model.getSBMLDocument().getModel().getCompartment(1).setSize(1e-4) \n",
    "\n",
    "cell_2_model.writeSBML('cell_2_model.xml')\n",
    "\n",
    "\n"
   ]
  },
  {
   "cell_type": "code",
   "execution_count": 10,
   "metadata": {},
   "outputs": [
    {
     "name": "stderr",
     "output_type": "stream",
     "text": [
      "/Users/ankitaroychoudhury/opt/anaconda3/lib/python3.7/site-packages/bioscrape/sbmlutil.py:93: UserWarning: SBML model contains reversible reaction!\n",
      "Please check rate expressions and ensure they are non-negative before doing stochastic simulations.\n",
      "  'Please check rate expressions and ensure they are non-negative before doing '+\n",
      "/Users/ankitaroychoudhury/opt/anaconda3/lib/python3.7/site-packages/bioscrape/sbmlutil.py:208: UserWarning: Compartments, UnitDefintions, Events, and some other SBML model components are not recognized by bioscrape. Refer to the bioscrape wiki for more information.\n",
      "  warnings.warn('Compartments, UnitDefintions, Events, and some other SBML model components are not recognized by bioscrape. ' +\n"
     ]
    },
    {
     "data": {
      "text/html": [
       "\n",
       "\n",
       "\n",
       "\n",
       "\n",
       "\n",
       "  <div class=\"bk-root\" id=\"e6e5992f-9e48-4e98-be40-af99cdd702c9\" data-root-id=\"1196\"></div>\n"
      ]
     },
     "metadata": {},
     "output_type": "display_data"
    },
    {
     "data": {
      "application/javascript": [
       "(function(root) {\n",
       "  function embed_document(root) {\n",
       "    \n",
       "  var docs_json = {\"43b6c5c6-8ea8-4d8e-9c5f-3d6a74c7fd42\":{\"roots\":{\"references\":[{\"attributes\":{\"below\":[{\"id\":\"1207\",\"type\":\"LinearAxis\"}],\"center\":[{\"id\":\"1211\",\"type\":\"Grid\"},{\"id\":\"1216\",\"type\":\"Grid\"},{\"id\":\"1241\",\"type\":\"Legend\"}],\"left\":[{\"id\":\"1212\",\"type\":\"LinearAxis\"}],\"plot_height\":400,\"plot_width\":480,\"renderers\":[{\"id\":\"1233\",\"type\":\"GlyphRenderer\"},{\"id\":\"1246\",\"type\":\"GlyphRenderer\"},{\"id\":\"1260\",\"type\":\"GlyphRenderer\"},{\"id\":\"1276\",\"type\":\"GlyphRenderer\"}],\"title\":{\"id\":\"1197\",\"type\":\"Title\"},\"toolbar\":{\"id\":\"1223\",\"type\":\"Toolbar\"},\"x_range\":{\"id\":\"1199\",\"type\":\"DataRange1d\"},\"x_scale\":{\"id\":\"1203\",\"type\":\"LinearScale\"},\"y_range\":{\"id\":\"1201\",\"type\":\"DataRange1d\"},\"y_scale\":{\"id\":\"1205\",\"type\":\"LinearScale\"}},\"id\":\"1196\",\"subtype\":\"Figure\",\"type\":\"Plot\"},{\"attributes\":{\"data_source\":{\"id\":\"1257\",\"type\":\"ColumnDataSource\"},\"glyph\":{\"id\":\"1258\",\"type\":\"Line\"},\"hover_glyph\":null,\"muted_glyph\":null,\"nonselection_glyph\":{\"id\":\"1259\",\"type\":\"Line\"},\"selection_glyph\":null,\"view\":{\"id\":\"1261\",\"type\":\"CDSView\"}},\"id\":\"1260\",\"type\":\"GlyphRenderer\"},{\"attributes\":{\"bottom_units\":\"screen\",\"fill_alpha\":{\"value\":0.5},\"fill_color\":{\"value\":\"lightgrey\"},\"left_units\":\"screen\",\"level\":\"overlay\",\"line_alpha\":{\"value\":1.0},\"line_color\":{\"value\":\"black\"},\"line_dash\":[4,4],\"line_width\":{\"value\":2},\"render_mode\":\"css\",\"right_units\":\"screen\",\"top_units\":\"screen\"},\"id\":\"1240\",\"type\":\"BoxAnnotation\"},{\"attributes\":{},\"id\":\"1205\",\"type\":\"LinearScale\"},{\"attributes\":{\"line_alpha\":0.1,\"line_color\":\"#1f77b4\",\"line_width\":3,\"x\":{\"field\":\"x\"},\"y\":{\"field\":\"y\"}},\"id\":\"1259\",\"type\":\"Line\"},{\"attributes\":{},\"id\":\"1213\",\"type\":\"BasicTicker\"},{\"attributes\":{},\"id\":\"1217\",\"type\":\"PanTool\"},{\"attributes\":{},\"id\":\"1269\",\"type\":\"UnionRenderers\"},{\"attributes\":{},\"id\":\"1270\",\"type\":\"Selection\"},{\"attributes\":{\"items\":[{\"id\":\"1242\",\"type\":\"LegendItem\"},{\"id\":\"1256\",\"type\":\"LegendItem\"},{\"id\":\"1272\",\"type\":\"LegendItem\"},{\"id\":\"1290\",\"type\":\"LegendItem\"}],\"location\":\"center_right\"},\"id\":\"1241\",\"type\":\"Legend\"},{\"attributes\":{\"axis_label\":\"Time (hrs)\",\"formatter\":{\"id\":\"1239\",\"type\":\"BasicTickFormatter\"},\"ticker\":{\"id\":\"1208\",\"type\":\"BasicTicker\"}},\"id\":\"1207\",\"type\":\"LinearAxis\"},{\"attributes\":{\"line_color\":\"#9367bc\",\"line_width\":3,\"x\":{\"field\":\"x\"},\"y\":{\"field\":\"y\"}},\"id\":\"1274\",\"type\":\"Line\"},{\"attributes\":{\"line_color\":\"#1f77b3\",\"line_width\":3,\"x\":{\"field\":\"x\"},\"y\":{\"field\":\"y\"}},\"id\":\"1231\",\"type\":\"Line\"},{\"attributes\":{\"source\":{\"id\":\"1243\",\"type\":\"ColumnDataSource\"}},\"id\":\"1247\",\"type\":\"CDSView\"},{\"attributes\":{\"label\":{\"value\":\"VirE2 Bound\"},\"renderers\":[{\"id\":\"1233\",\"type\":\"GlyphRenderer\"}]},\"id\":\"1242\",\"type\":\"LegendItem\"},{\"attributes\":{},\"id\":\"1239\",\"type\":\"BasicTickFormatter\"},{\"attributes\":{\"line_alpha\":0.1,\"line_color\":\"#1f77b4\",\"line_width\":3,\"x\":{\"field\":\"x\"},\"y\":{\"field\":\"y\"}},\"id\":\"1245\",\"type\":\"Line\"},{\"attributes\":{\"label\":{\"value\":\"ssDNA exported\"},\"renderers\":[{\"id\":\"1246\",\"type\":\"GlyphRenderer\"}]},\"id\":\"1256\",\"type\":\"LegendItem\"},{\"attributes\":{\"callback\":null},\"id\":\"1201\",\"type\":\"DataRange1d\"},{\"attributes\":{\"data_source\":{\"id\":\"1230\",\"type\":\"ColumnDataSource\"},\"glyph\":{\"id\":\"1231\",\"type\":\"Line\"},\"hover_glyph\":null,\"muted_glyph\":null,\"nonselection_glyph\":{\"id\":\"1232\",\"type\":\"Line\"},\"selection_glyph\":null,\"view\":{\"id\":\"1234\",\"type\":\"CDSView\"}},\"id\":\"1233\",\"type\":\"GlyphRenderer\"},{\"attributes\":{\"callback\":null,\"data\":{\"x\":{\"__ndarray__\":\"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\",\"dtype\":\"float64\",\"shape\":[200]},\"y\":{\"__ndarray__\":\"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\",\"dtype\":\"float64\",\"shape\":[200]}},\"selected\":{\"id\":\"1317\",\"type\":\"Selection\"},\"selection_policy\":{\"id\":\"1316\",\"type\":\"UnionRenderers\"}},\"id\":\"1273\",\"type\":\"ColumnDataSource\"},{\"attributes\":{\"text\":\"Without Rheostat\"},\"id\":\"1197\",\"type\":\"Title\"},{\"attributes\":{},\"id\":\"1218\",\"type\":\"WheelZoomTool\"},{\"attributes\":{\"source\":{\"id\":\"1230\",\"type\":\"ColumnDataSource\"}},\"id\":\"1234\",\"type\":\"CDSView\"},{\"attributes\":{\"line_color\":\"#2ba02b\",\"line_width\":3,\"x\":{\"field\":\"x\"},\"y\":{\"field\":\"y\"}},\"id\":\"1258\",\"type\":\"Line\"},{\"attributes\":{\"line_alpha\":0.1,\"line_color\":\"#1f77b4\",\"line_width\":3,\"x\":{\"field\":\"x\"},\"y\":{\"field\":\"y\"}},\"id\":\"1275\",\"type\":\"Line\"},{\"attributes\":{},\"id\":\"1203\",\"type\":\"LinearScale\"},{\"attributes\":{\"callback\":null,\"data\":{\"x\":{\"__ndarray__\":\"AAAAAAAAAADLjeAj+92xP8uN4CP73cE/sNTQtfjMyj/LjeAj+93RPz6x2Ox5VdY/sNTQtfjM2j8j+Mh+d0TfP8uN4CP73eE/hJ9ciLoZ5D8+sdjseVXmP/bCVFE5keg/sNTQtfjM6j9q5kwauAjtPyP4yH53RO8/7oSicRvA8D/LjeAj+93xP6eWHtba+/I/hJ9ciLoZ9D9hqJo6mjf1Pz6x2Ox5VfY/G7oWn1lz9z/2wlRROZH4P9PLkgMZr/k/sNTQtfjM+j+N3Q5o2Or7P2rmTBq4CP0/Ru+KzJcm/j8j+Mh+d0T/P4CAg5grMQBA7oSicRvAAEBdicFKC08BQMuN4CP73QFAOZL//OpsAkCnlh7W2vsCQBWbPa/KigNAhJ9ciLoZBEDyo3thqqgEQGGomjqaNwVAz6y5E4rGBUA+sdjseVUGQKy198Vp5AZAG7oWn1lzB0CJvjV4SQIIQPbCVFE5kQhAZcdzKikgCUDTy5IDGa8JQELQsdwIPgpAsNTQtfjMCkAf2e+O6FsLQI3dDmjY6gtA/OEtQch5DEBq5kwauAgNQNnqa/Onlw1ARu+KzJcmDkC186mlh7UOQCP4yH53RA9AkvznV2fTD0CAgIOYKzEQQLcCE4WjeBBA7oSicRvAEEAlBzJekwcRQF2JwUoLTxFAlAtRN4OWEUDLjeAj+90RQAIQcBBzJRJAOZL//OpsEkBxFI/pYrQSQKeWHtba+xJA3xiuwlJDE0AVmz2vyooTQE4dzZtC0hNAhJ9ciLoZFEC8Iex0MmEUQPKje2GqqBRAKiYLTiLwFEBhqJo6mjcVQJkqKicSfxVAz6y5E4rGFUAGL0kAAg4WQD6x2Ox5VRZAdTNo2fGcFkCstffFaeQWQOM3h7LhKxdAG7oWn1lzF0BSPKaL0boXQIm+NXhJAhhAwEDFZMFJGED2wlRROZEYQC9F5D2x2BhAZcdzKikgGUCdSQMXoWcZQNPLkgMZrxlADE4i8JD2GUBC0LHcCD4aQHpSQcmAhRpAsNTQtfjMGkDpVmCicBQbQB/Z747oWxtAVlt/e2CjG0CN3Q5o2OobQMVfnlRQMhxA/OEtQch5HEAzZL0tQMEcQGrmTBq4CB1AoWjcBjBQHUDZ6mvzp5cdQBBt+98f3x1ARu+KzJcmHkB+cRq5D24eQLXzqaWHtR5A7XU5kv/8HkAj+Mh+d0QfQFt6WGvvix9AkvznV2fTH0Blvzuibw0gQICAg5grMSBAnEHLjudUIEC3AhOFo3ggQNPDWntfnCBA7oSicRvAIEAKRupn1+MgQCUHMl6TByFAQch5VE8rIUBdicFKC08hQHlKCUHHciFAlAtRN4OWIUCwzJgtP7ohQMuN4CP73SFA5k4oGrcBIkACEHAQcyUiQB7RtwYvSSJAOZL//OpsIkBVU0fzppAiQHEUj+litCJAjNXW3x7YIkCnlh7W2vsiQMNXZsyWHyNA3xiuwlJDI0D72fW4DmcjQBWbPa/KiiNAMlyFpYauI0BOHc2bQtIjQGneFJL+9SNAhJ9ciLoZJECgYKR+dj0kQLwh7HQyYSRA1+Iza+6EJEDyo3thqqgkQA9lw1dmzCRAKiYLTiLwJEBF51JE3hMlQGGomjqaNyVAfWniMFZbJUCZKionEn8lQLTrcR3OoiVAz6y5E4rGJUDsbQEKRuolQAYvSQACDiZAIvCQ9r0xJkA+sdjseVUmQFpyIOM1eSZAdTNo2fGcJkCQ9K/PrcAmQKy198Vp5CZAyXY/vCUIJ0DjN4ey4SsnQP/4zqidTydAG7oWn1lzJ0A2e16VFZcnQFI8povRuidAbf3tgY3eJ0CJvjV4SQIoQKV/fW4FJihAwEDFZMFJKEDcAQ1bfW0oQPbCVFE5kShAE4ScR/W0KEAvReQ9sdgoQEoGLDRt/ChAZcdzKikgKUCCiLsg5UMpQJ1JAxehZylAuQpLDV2LKUDTy5IDGa8pQPCM2vnU0ilADE4i8JD2KUAmD2rmTBoqQELQsdwIPipAX5H50sRhKkB6UkHJgIUqQJUTib88qSpAsNTQtfjMKkDMlRistPAqQOlWYKJwFCtAAxiomCw4K0Af2e+O6FsrQDqaN4WkfytAVlt/e2CjK0ByHMdxHMcrQA==\",\"dtype\":\"float64\",\"shape\":[200]},\"y\":{\"__ndarray__\":\"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\",\"dtype\":\"float64\",\"shape\":[200]}},\"selected\":{\"id\":\"1254\",\"type\":\"Selection\"},\"selection_policy\":{\"id\":\"1253\",\"type\":\"UnionRenderers\"}},\"id\":\"1230\",\"type\":\"ColumnDataSource\"},{\"attributes\":{\"data_source\":{\"id\":\"1273\",\"type\":\"ColumnDataSource\"},\"glyph\":{\"id\":\"1274\",\"type\":\"Line\"},\"hover_glyph\":null,\"muted_glyph\":null,\"nonselection_glyph\":{\"id\":\"1275\",\"type\":\"Line\"},\"selection_glyph\":null,\"view\":{\"id\":\"1277\",\"type\":\"CDSView\"}},\"id\":\"1276\",\"type\":\"GlyphRenderer\"},{\"attributes\":{\"source\":{\"id\":\"1257\",\"type\":\"ColumnDataSource\"}},\"id\":\"1261\",\"type\":\"CDSView\"},{\"attributes\":{},\"id\":\"1237\",\"type\":\"BasicTickFormatter\"},{\"attributes\":{\"label\":{\"value\":\"ssDNA inside\"},\"renderers\":[{\"id\":\"1260\",\"type\":\"GlyphRenderer\"}]},\"id\":\"1272\",\"type\":\"LegendItem\"},{\"attributes\":{},\"id\":\"1221\",\"type\":\"ResetTool\"},{\"attributes\":{},\"id\":\"1220\",\"type\":\"SaveTool\"},{\"attributes\":{\"source\":{\"id\":\"1273\",\"type\":\"ColumnDataSource\"}},\"id\":\"1277\",\"type\":\"CDSView\"},{\"attributes\":{},\"id\":\"1287\",\"type\":\"UnionRenderers\"},{\"attributes\":{\"active_drag\":\"auto\",\"active_inspect\":\"auto\",\"active_multi\":null,\"active_scroll\":\"auto\",\"active_tap\":\"auto\",\"tools\":[{\"id\":\"1217\",\"type\":\"PanTool\"},{\"id\":\"1218\",\"type\":\"WheelZoomTool\"},{\"id\":\"1219\",\"type\":\"BoxZoomTool\"},{\"id\":\"1220\",\"type\":\"SaveTool\"},{\"id\":\"1221\",\"type\":\"ResetTool\"},{\"id\":\"1222\",\"type\":\"HelpTool\"}]},\"id\":\"1223\",\"type\":\"Toolbar\"},{\"attributes\":{},\"id\":\"1253\",\"type\":\"UnionRenderers\"},{\"attributes\":{\"callback\":null},\"id\":\"1199\",\"type\":\"DataRange1d\"},{\"attributes\":{\"line_alpha\":0.1,\"line_color\":\"#1f77b4\",\"line_width\":3,\"x\":{\"field\":\"x\"},\"y\":{\"field\":\"y\"}},\"id\":\"1232\",\"type\":\"Line\"},{\"attributes\":{\"label\":{\"value\":\"ATP\"},\"renderers\":[{\"id\":\"1276\",\"type\":\"GlyphRenderer\"}]},\"id\":\"1290\",\"type\":\"LegendItem\"},{\"attributes\":{\"line_color\":\"#ff7e0e\",\"line_width\":3,\"x\":{\"field\":\"x\"},\"y\":{\"field\":\"y\"}},\"id\":\"1244\",\"type\":\"Line\"},{\"attributes\":{},\"id\":\"1288\",\"type\":\"Selection\"},{\"attributes\":{\"callback\":null,\"data\":{\"x\":{\"__ndarray__\":\"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\",\"dtype\":\"float64\",\"shape\":[200]},\"y\":{\"__ndarray__\":\"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\",\"dtype\":\"float64\",\"shape\":[200]}},\"selected\":{\"id\":\"1288\",\"type\":\"Selection\"},\"selection_policy\":{\"id\":\"1287\",\"type\":\"UnionRenderers\"}},\"id\":\"1257\",\"type\":\"ColumnDataSource\"},{\"attributes\":{},\"id\":\"1208\",\"type\":\"BasicTicker\"},{\"attributes\":{},\"id\":\"1254\",\"type\":\"Selection\"},{\"attributes\":{\"callback\":null,\"data\":{\"x\":{\"__ndarray__\":\"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\",\"dtype\":\"float64\",\"shape\":[200]},\"y\":{\"__ndarray__\":\"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\",\"dtype\":\"float64\",\"shape\":[200]}},\"selected\":{\"id\":\"1270\",\"type\":\"Selection\"},\"selection_policy\":{\"id\":\"1269\",\"type\":\"UnionRenderers\"}},\"id\":\"1243\",\"type\":\"ColumnDataSource\"},{\"attributes\":{\"overlay\":{\"id\":\"1240\",\"type\":\"BoxAnnotation\"}},\"id\":\"1219\",\"type\":\"BoxZoomTool\"},{\"attributes\":{},\"id\":\"1317\",\"type\":\"Selection\"},{\"attributes\":{\"dimension\":1,\"ticker\":{\"id\":\"1213\",\"type\":\"BasicTicker\"}},\"id\":\"1216\",\"type\":\"Grid\"},{\"attributes\":{},\"id\":\"1316\",\"type\":\"UnionRenderers\"},{\"attributes\":{},\"id\":\"1222\",\"type\":\"HelpTool\"},{\"attributes\":{\"ticker\":{\"id\":\"1208\",\"type\":\"BasicTicker\"}},\"id\":\"1211\",\"type\":\"Grid\"},{\"attributes\":{\"data_source\":{\"id\":\"1243\",\"type\":\"ColumnDataSource\"},\"glyph\":{\"id\":\"1244\",\"type\":\"Line\"},\"hover_glyph\":null,\"muted_glyph\":null,\"nonselection_glyph\":{\"id\":\"1245\",\"type\":\"Line\"},\"selection_glyph\":null,\"view\":{\"id\":\"1247\",\"type\":\"CDSView\"}},\"id\":\"1246\",\"type\":\"GlyphRenderer\"},{\"attributes\":{\"axis_label\":\"Concentration (mM)\",\"formatter\":{\"id\":\"1237\",\"type\":\"BasicTickFormatter\"},\"ticker\":{\"id\":\"1213\",\"type\":\"BasicTicker\"}},\"id\":\"1212\",\"type\":\"LinearAxis\"}],\"root_ids\":[\"1196\"]},\"title\":\"Bokeh Application\",\"version\":\"1.4.0\"}};\n",
       "  var render_items = [{\"docid\":\"43b6c5c6-8ea8-4d8e-9c5f-3d6a74c7fd42\",\"roots\":{\"1196\":\"e6e5992f-9e48-4e98-be40-af99cdd702c9\"}}];\n",
       "  root.Bokeh.embed.embed_items_notebook(docs_json, render_items);\n",
       "\n",
       "  }\n",
       "  if (root.Bokeh !== undefined) {\n",
       "    embed_document(root);\n",
       "  } else {\n",
       "    var attempts = 0;\n",
       "    var timer = setInterval(function(root) {\n",
       "      if (root.Bokeh !== undefined) {\n",
       "        clearInterval(timer);\n",
       "        embed_document(root);\n",
       "      } else {\n",
       "        attempts++;\n",
       "        if (attempts > 100) {\n",
       "          clearInterval(timer);\n",
       "          console.log(\"Bokeh: ERROR: Unable to run BokehJS code because BokehJS library is missing\");\n",
       "        }\n",
       "      }\n",
       "    }, 10, root)\n",
       "  }\n",
       "})(window);"
      ],
      "application/vnd.bokehjs_exec.v0+json": ""
     },
     "metadata": {
      "application/vnd.bokehjs_exec.v0+json": {
       "id": "1196"
      }
     },
     "output_type": "display_data"
    }
   ],
   "source": [
    "timepoints = np.linspace(0,50000,200)\n",
    "results_2, _ = cell_2_model.simulateWithBioscrape(timepoints)\n",
    "\n",
    "VirE2_b_id2 = cell_2_model.getSpeciesByName('VirE2_b', compartment = 'cell_2_internal').getId()\n",
    "ssDNA_e_id2 = cell_2_model.getSpeciesByName('ssDNA_e', compartment = 'cell_2_external').getId()\n",
    "ssDNA_id2 = cell_2_model.getSpeciesByName('ssDNA', compartment = 'cell_2_internal').getId()\n",
    "VirE2_b_ssDNA_id2 = cell_2_model.getSpeciesByName('VirE2_b_ssDNA', compartment = 'cell_2_internal').getId()\n",
    "ATP_id2 = cell_2_model.getSpeciesByName('ATP', compartment = 'cell_2_internal').getId()\n",
    "rna_id2 = cell_2_model.getSpeciesByName('rna_g', compartment = 'cell_2_internal').getId()\n",
    "\n",
    "\n",
    "\n",
    "\n",
    "p1 = bokeh.plotting.figure(width=480, height = 400, title = 'Without Rheostat',\n",
    "                         y_axis_label = 'Concentration (mM)',\n",
    "                         x_axis_label = 'Time (hrs)')\n",
    "\n",
    "p1.line(timepoints/60/60, results_2[VirE2_b_id2], line_width = 3, legend_label = 'VirE2 Bound',\n",
    "      color = palette[0])\n",
    "p1.line(timepoints/60/60, results_2[ssDNA_e_id2], line_width = 3, legend_label = 'ssDNA exported',\n",
    "      color = palette[1])\n",
    "p1.line(timepoints/60/60, results_2[ssDNA_id2], line_width = 3, legend_label = 'ssDNA inside',\n",
    "      color = palette[2])\n",
    "\n",
    "p1.line(timepoints/60/60, results_2[ATP_id2], line_width = 3, legend_label = 'ATP',\n",
    "      color = palette[4])\n",
    "\n",
    "p1.legend.location = 'center_right'\n",
    "bokeh.io.show(p1)\n",
    "\n",
    "\n",
    "# plt.figure(figsize=(12,6))\n",
    "\n",
    "# plt.plot(timepoints, results_2[VirE2_b_id2], linewidth = 3, label = 'VirE2_b_2')\n",
    "# plt.plot(timepoints, results_2[ssDNA_e_id2], linewidth =2, label = 'ssDNA_e_2')\n",
    "# plt.plot(timepoints, results_2[ATP_id2], 'brown', linewidth = 4, label = 'ATP_2')\n",
    "# plt.plot(timepoints, results_2[VirE2_b_ssDNA_id2], linewidth = 3, label = 'ssDNA_bound_2')\n",
    "# plt.plot(timepoints, results_2[ssDNA_id2], linewidth = 3, label = 'ssDNA_i_2')\n",
    "# #plt.plot(timepoints, results_2[rna_id2], linewidth = 3, label = 'rna')\n",
    "\n",
    "\n",
    "# #plt.title(\"ATP conc: model 2=5\")\n",
    "# #plt.xlabel('Time')\n",
    "# #plt.ylabel('Conc')\n",
    "# #plt.legend()\n",
    "# #plt.show()"
   ]
  },
  {
   "cell_type": "code",
   "execution_count": 13,
   "metadata": {},
   "outputs": [
    {
     "data": {
      "text/html": [
       "\n",
       "\n",
       "\n",
       "\n",
       "\n",
       "\n",
       "  <div class=\"bk-root\" id=\"6c44022b-5809-4f5c-837e-59ee22583b8d\" data-root-id=\"1404\"></div>\n"
      ]
     },
     "metadata": {},
     "output_type": "display_data"
    },
    {
     "data": {
      "application/javascript": [
       "(function(root) {\n",
       "  function embed_document(root) {\n",
       "    \n",
       "  var docs_json = {\"fb793879-32ff-4c80-9a35-e78ec2588547\":{\"roots\":{\"references\":[{\"attributes\":{\"children\":[{\"id\":\"1003\",\"subtype\":\"Figure\",\"type\":\"Plot\"},{\"id\":\"1196\",\"subtype\":\"Figure\",\"type\":\"Plot\"}]},\"id\":\"1404\",\"type\":\"Row\"},{\"attributes\":{\"axis_label\":\"Time (hrs)\",\"formatter\":{\"id\":\"1046\",\"type\":\"BasicTickFormatter\"},\"ticker\":{\"id\":\"1015\",\"type\":\"BasicTicker\"}},\"id\":\"1014\",\"type\":\"LinearAxis\"},{\"attributes\":{\"source\":{\"id\":\"1080\",\"type\":\"ColumnDataSource\"}},\"id\":\"1084\",\"type\":\"CDSView\"},{\"attributes\":{},\"id\":\"1217\",\"type\":\"PanTool\"},{\"attributes\":{},\"id\":\"1109\",\"type\":\"UnionRenderers\"},{\"attributes\":{},\"id\":\"1270\",\"type\":\"Selection\"},{\"attributes\":{\"line_color\":\"#9367bc\",\"line_width\":3,\"x\":{\"field\":\"x\"},\"y\":{\"field\":\"y\"}},\"id\":\"1274\",\"type\":\"Line\"},{\"attributes\":{},\"id\":\"1094\",\"type\":\"UnionRenderers\"},{\"attributes\":{\"callback\":null},\"id\":\"1201\",\"type\":\"DataRange1d\"},{\"attributes\":{\"label\":{\"value\":\"ATP\"},\"renderers\":[{\"id\":\"1083\",\"type\":\"GlyphRenderer\"}]},\"id\":\"1097\",\"type\":\"LegendItem\"},{\"attributes\":{\"callback\":null,\"data\":{\"x\":{\"__ndarray__\":\"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\",\"dtype\":\"float64\",\"shape\":[200]},\"y\":{\"__ndarray__\":\"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\",\"dtype\":\"float64\",\"shape\":[200]}},\"selected\":{\"id\":\"1317\",\"type\":\"Selection\"},\"selection_policy\":{\"id\":\"1316\",\"type\":\"UnionRenderers\"}},\"id\":\"1273\",\"type\":\"ColumnDataSource\"},{\"attributes\":{},\"id\":\"1095\",\"type\":\"Selection\"},{\"attributes\":{},\"id\":\"1218\",\"type\":\"WheelZoomTool\"},{\"attributes\":{\"line_alpha\":0.1,\"line_color\":\"#1f77b4\",\"line_width\":3,\"x\":{\"field\":\"x\"},\"y\":{\"field\":\"y\"}},\"id\":\"1275\",\"type\":\"Line\"},{\"attributes\":{\"data_source\":{\"id\":\"1273\",\"type\":\"ColumnDataSource\"},\"glyph\":{\"id\":\"1274\",\"type\":\"Line\"},\"hover_glyph\":null,\"muted_glyph\":null,\"nonselection_glyph\":{\"id\":\"1275\",\"type\":\"Line\"},\"selection_glyph\":null,\"view\":{\"id\":\"1277\",\"type\":\"CDSView\"}},\"id\":\"1276\",\"type\":\"GlyphRenderer\"},{\"attributes\":{\"source\":{\"id\":\"1273\",\"type\":\"ColumnDataSource\"}},\"id\":\"1277\",\"type\":\"CDSView\"},{\"attributes\":{},\"id\":\"1110\",\"type\":\"Selection\"},{\"attributes\":{},\"id\":\"1287\",\"type\":\"UnionRenderers\"},{\"attributes\":{\"label\":{\"value\":\"ATP\"},\"renderers\":[{\"id\":\"1276\",\"type\":\"GlyphRenderer\"}]},\"id\":\"1290\",\"type\":\"LegendItem\"},{\"attributes\":{},\"id\":\"1288\",\"type\":\"Selection\"},{\"attributes\":{\"text\":\"With ATP Synthase\"},\"id\":\"1004\",\"type\":\"Title\"},{\"attributes\":{\"overlay\":{\"id\":\"1240\",\"type\":\"BoxAnnotation\"}},\"id\":\"1219\",\"type\":\"BoxZoomTool\"},{\"attributes\":{},\"id\":\"1317\",\"type\":\"Selection\"},{\"attributes\":{\"below\":[{\"id\":\"1014\",\"type\":\"LinearAxis\"}],\"center\":[{\"id\":\"1018\",\"type\":\"Grid\"},{\"id\":\"1023\",\"type\":\"Grid\"},{\"id\":\"1048\",\"type\":\"Legend\"}],\"left\":[{\"id\":\"1019\",\"type\":\"LinearAxis\"}],\"plot_height\":400,\"plot_width\":480,\"renderers\":[{\"id\":\"1040\",\"type\":\"GlyphRenderer\"},{\"id\":\"1053\",\"type\":\"GlyphRenderer\"},{\"id\":\"1067\",\"type\":\"GlyphRenderer\"},{\"id\":\"1083\",\"type\":\"GlyphRenderer\"}],\"title\":{\"id\":\"1004\",\"type\":\"Title\"},\"toolbar\":{\"id\":\"1030\",\"type\":\"Toolbar\"},\"x_range\":{\"id\":\"1006\",\"type\":\"DataRange1d\"},\"x_scale\":{\"id\":\"1010\",\"type\":\"LinearScale\"},\"y_range\":{\"id\":\"1008\",\"type\":\"DataRange1d\"},\"y_scale\":{\"id\":\"1012\",\"type\":\"LinearScale\"}},\"id\":\"1003\",\"subtype\":\"Figure\",\"type\":\"Plot\"},{\"attributes\":{\"callback\":null,\"data\":{\"x\":{\"__ndarray__\":\"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\",\"dtype\":\"float64\",\"shape\":[200]},\"y\":{\"__ndarray__\":\"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\",\"dtype\":\"float64\",\"shape\":[200]}},\"selected\":{\"id\":\"1061\",\"type\":\"Selection\"},\"selection_policy\":{\"id\":\"1060\",\"type\":\"UnionRenderers\"}},\"id\":\"1037\",\"type\":\"ColumnDataSource\"},{\"attributes\":{},\"id\":\"1316\",\"type\":\"UnionRenderers\"},{\"attributes\":{},\"id\":\"1027\",\"type\":\"SaveTool\"},{\"attributes\":{\"data_source\":{\"id\":\"1037\",\"type\":\"ColumnDataSource\"},\"glyph\":{\"id\":\"1038\",\"type\":\"Line\"},\"hover_glyph\":null,\"muted_glyph\":null,\"nonselection_glyph\":{\"id\":\"1039\",\"type\":\"Line\"},\"selection_glyph\":null,\"view\":{\"id\":\"1041\",\"type\":\"CDSView\"}},\"id\":\"1040\",\"type\":\"GlyphRenderer\"},{\"attributes\":{\"line_color\":\"#1f77b3\",\"line_width\":3,\"x\":{\"field\":\"x\"},\"y\":{\"field\":\"y\"}},\"id\":\"1231\",\"type\":\"Line\"},{\"attributes\":{\"text\":\"Without Rheostat\"},\"id\":\"1197\",\"type\":\"Title\"},{\"attributes\":{},\"id\":\"1015\",\"type\":\"BasicTicker\"},{\"attributes\":{\"callback\":null,\"data\":{\"x\":{\"__ndarray__\":\"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\",\"dtype\":\"float64\",\"shape\":[200]},\"y\":{\"__ndarray__\":\"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\",\"dtype\":\"float64\",\"shape\":[200]}},\"selected\":{\"id\":\"1254\",\"type\":\"Selection\"},\"selection_policy\":{\"id\":\"1253\",\"type\":\"UnionRenderers\"}},\"id\":\"1230\",\"type\":\"ColumnDataSource\"},{\"attributes\":{\"callback\":null},\"id\":\"1008\",\"type\":\"DataRange1d\"},{\"attributes\":{},\"id\":\"1025\",\"type\":\"WheelZoomTool\"},{\"attributes\":{},\"id\":\"1220\",\"type\":\"SaveTool\"},{\"attributes\":{\"axis_label\":\"Concentration (mM)\",\"formatter\":{\"id\":\"1237\",\"type\":\"BasicTickFormatter\"},\"ticker\":{\"id\":\"1213\",\"type\":\"BasicTicker\"}},\"id\":\"1212\",\"type\":\"LinearAxis\"},{\"attributes\":{\"dimension\":1,\"ticker\":{\"id\":\"1020\",\"type\":\"BasicTicker\"}},\"id\":\"1023\",\"type\":\"Grid\"},{\"attributes\":{\"ticker\":{\"id\":\"1015\",\"type\":\"BasicTicker\"}},\"id\":\"1018\",\"type\":\"Grid\"},{\"attributes\":{\"callback\":null},\"id\":\"1199\",\"type\":\"DataRange1d\"},{\"attributes\":{\"line_color\":\"#ff7e0e\",\"line_width\":3,\"x\":{\"field\":\"x\"},\"y\":{\"field\":\"y\"}},\"id\":\"1244\",\"type\":\"Line\"},{\"attributes\":{},\"id\":\"1020\",\"type\":\"BasicTicker\"},{\"attributes\":{\"callback\":null,\"data\":{\"x\":{\"__ndarray__\":\"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\",\"dtype\":\"float64\",\"shape\":[200]},\"y\":{\"__ndarray__\":\"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\",\"dtype\":\"float64\",\"shape\":[200]}},\"selected\":{\"id\":\"1270\",\"type\":\"Selection\"},\"selection_policy\":{\"id\":\"1269\",\"type\":\"UnionRenderers\"}},\"id\":\"1243\",\"type\":\"ColumnDataSource\"},{\"attributes\":{\"line_color\":\"#1f77b3\",\"line_width\":3,\"x\":{\"field\":\"x\"},\"y\":{\"field\":\"y\"}},\"id\":\"1038\",\"type\":\"Line\"},{\"attributes\":{\"line_alpha\":0.1,\"line_color\":\"#1f77b4\",\"line_width\":3,\"x\":{\"field\":\"x\"},\"y\":{\"field\":\"y\"}},\"id\":\"1039\",\"type\":\"Line\"},{\"attributes\":{},\"id\":\"1024\",\"type\":\"PanTool\"},{\"attributes\":{\"overlay\":{\"id\":\"1047\",\"type\":\"BoxAnnotation\"}},\"id\":\"1026\",\"type\":\"BoxZoomTool\"},{\"attributes\":{},\"id\":\"1028\",\"type\":\"ResetTool\"},{\"attributes\":{},\"id\":\"1269\",\"type\":\"UnionRenderers\"},{\"attributes\":{},\"id\":\"1029\",\"type\":\"HelpTool\"},{\"attributes\":{\"source\":{\"id\":\"1243\",\"type\":\"ColumnDataSource\"}},\"id\":\"1247\",\"type\":\"CDSView\"},{\"attributes\":{},\"id\":\"1239\",\"type\":\"BasicTickFormatter\"},{\"attributes\":{\"label\":{\"value\":\"ssDNA exported\"},\"renderers\":[{\"id\":\"1246\",\"type\":\"GlyphRenderer\"}]},\"id\":\"1256\",\"type\":\"LegendItem\"},{\"attributes\":{\"active_drag\":\"auto\",\"active_inspect\":\"auto\",\"active_multi\":null,\"active_scroll\":\"auto\",\"active_tap\":\"auto\",\"tools\":[{\"id\":\"1024\",\"type\":\"PanTool\"},{\"id\":\"1025\",\"type\":\"WheelZoomTool\"},{\"id\":\"1026\",\"type\":\"BoxZoomTool\"},{\"id\":\"1027\",\"type\":\"SaveTool\"},{\"id\":\"1028\",\"type\":\"ResetTool\"},{\"id\":\"1029\",\"type\":\"HelpTool\"}]},\"id\":\"1030\",\"type\":\"Toolbar\"},{\"attributes\":{\"source\":{\"id\":\"1037\",\"type\":\"ColumnDataSource\"}},\"id\":\"1041\",\"type\":\"CDSView\"},{\"attributes\":{\"source\":{\"id\":\"1230\",\"type\":\"ColumnDataSource\"}},\"id\":\"1234\",\"type\":\"CDSView\"},{\"attributes\":{},\"id\":\"1044\",\"type\":\"BasicTickFormatter\"},{\"attributes\":{\"source\":{\"id\":\"1257\",\"type\":\"ColumnDataSource\"}},\"id\":\"1261\",\"type\":\"CDSView\"},{\"attributes\":{},\"id\":\"1237\",\"type\":\"BasicTickFormatter\"},{\"attributes\":{\"label\":{\"value\":\"ssDNA inside\"},\"renderers\":[{\"id\":\"1260\",\"type\":\"GlyphRenderer\"}]},\"id\":\"1272\",\"type\":\"LegendItem\"},{\"attributes\":{\"items\":[{\"id\":\"1049\",\"type\":\"LegendItem\"},{\"id\":\"1063\",\"type\":\"LegendItem\"},{\"id\":\"1079\",\"type\":\"LegendItem\"},{\"id\":\"1097\",\"type\":\"LegendItem\"}],\"location\":\"center_right\"},\"id\":\"1048\",\"type\":\"Legend\"},{\"attributes\":{\"bottom_units\":\"screen\",\"fill_alpha\":{\"value\":0.5},\"fill_color\":{\"value\":\"lightgrey\"},\"left_units\":\"screen\",\"level\":\"overlay\",\"line_alpha\":{\"value\":1.0},\"line_color\":{\"value\":\"black\"},\"line_dash\":[4,4],\"line_width\":{\"value\":2},\"render_mode\":\"css\",\"right_units\":\"screen\",\"top_units\":\"screen\"},\"id\":\"1047\",\"type\":\"BoxAnnotation\"},{\"attributes\":{\"active_drag\":\"auto\",\"active_inspect\":\"auto\",\"active_multi\":null,\"active_scroll\":\"auto\",\"active_tap\":\"auto\",\"tools\":[{\"id\":\"1217\",\"type\":\"PanTool\"},{\"id\":\"1218\",\"type\":\"WheelZoomTool\"},{\"id\":\"1219\",\"type\":\"BoxZoomTool\"},{\"id\":\"1220\",\"type\":\"SaveTool\"},{\"id\":\"1221\",\"type\":\"ResetTool\"},{\"id\":\"1222\",\"type\":\"HelpTool\"}]},\"id\":\"1223\",\"type\":\"Toolbar\"},{\"attributes\":{},\"id\":\"1046\",\"type\":\"BasicTickFormatter\"},{\"attributes\":{\"callback\":null},\"id\":\"1006\",\"type\":\"DataRange1d\"},{\"attributes\":{},\"id\":\"1254\",\"type\":\"Selection\"},{\"attributes\":{\"label\":{\"value\":\"VirE2 Bound\"},\"renderers\":[{\"id\":\"1040\",\"type\":\"GlyphRenderer\"}]},\"id\":\"1049\",\"type\":\"LegendItem\"},{\"attributes\":{\"callback\":null,\"data\":{\"x\":{\"__ndarray__\":\"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\",\"dtype\":\"float64\",\"shape\":[200]},\"y\":{\"__ndarray__\":\"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\",\"dtype\":\"float64\",\"shape\":[200]}},\"selected\":{\"id\":\"1077\",\"type\":\"Selection\"},\"selection_policy\":{\"id\":\"1076\",\"type\":\"UnionRenderers\"}},\"id\":\"1050\",\"type\":\"ColumnDataSource\"},{\"attributes\":{\"line_color\":\"#ff7e0e\",\"line_width\":3,\"x\":{\"field\":\"x\"},\"y\":{\"field\":\"y\"}},\"id\":\"1051\",\"type\":\"Line\"},{\"attributes\":{},\"id\":\"1222\",\"type\":\"HelpTool\"},{\"attributes\":{\"axis_label\":\"Concentration (mM)\",\"formatter\":{\"id\":\"1044\",\"type\":\"BasicTickFormatter\"},\"ticker\":{\"id\":\"1020\",\"type\":\"BasicTicker\"}},\"id\":\"1019\",\"type\":\"LinearAxis\"},{\"attributes\":{\"line_alpha\":0.1,\"line_color\":\"#1f77b4\",\"line_width\":3,\"x\":{\"field\":\"x\"},\"y\":{\"field\":\"y\"}},\"id\":\"1052\",\"type\":\"Line\"},{\"attributes\":{\"data_source\":{\"id\":\"1243\",\"type\":\"ColumnDataSource\"},\"glyph\":{\"id\":\"1244\",\"type\":\"Line\"},\"hover_glyph\":null,\"muted_glyph\":null,\"nonselection_glyph\":{\"id\":\"1245\",\"type\":\"Line\"},\"selection_glyph\":null,\"view\":{\"id\":\"1247\",\"type\":\"CDSView\"}},\"id\":\"1246\",\"type\":\"GlyphRenderer\"},{\"attributes\":{\"data_source\":{\"id\":\"1050\",\"type\":\"ColumnDataSource\"},\"glyph\":{\"id\":\"1051\",\"type\":\"Line\"},\"hover_glyph\":null,\"muted_glyph\":null,\"nonselection_glyph\":{\"id\":\"1052\",\"type\":\"Line\"},\"selection_glyph\":null,\"view\":{\"id\":\"1054\",\"type\":\"CDSView\"}},\"id\":\"1053\",\"type\":\"GlyphRenderer\"},{\"attributes\":{\"callback\":null,\"data\":{\"x\":{\"__ndarray__\":\"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\",\"dtype\":\"float64\",\"shape\":[200]},\"y\":{\"__ndarray__\":\"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\",\"dtype\":\"float64\",\"shape\":[200]}},\"selected\":{\"id\":\"1095\",\"type\":\"Selection\"},\"selection_policy\":{\"id\":\"1094\",\"type\":\"UnionRenderers\"}},\"id\":\"1064\",\"type\":\"ColumnDataSource\"},{\"attributes\":{\"data_source\":{\"id\":\"1257\",\"type\":\"ColumnDataSource\"},\"glyph\":{\"id\":\"1258\",\"type\":\"Line\"},\"hover_glyph\":null,\"muted_glyph\":null,\"nonselection_glyph\":{\"id\":\"1259\",\"type\":\"Line\"},\"selection_glyph\":null,\"view\":{\"id\":\"1261\",\"type\":\"CDSView\"}},\"id\":\"1260\",\"type\":\"GlyphRenderer\"},{\"attributes\":{\"bottom_units\":\"screen\",\"fill_alpha\":{\"value\":0.5},\"fill_color\":{\"value\":\"lightgrey\"},\"left_units\":\"screen\",\"level\":\"overlay\",\"line_alpha\":{\"value\":1.0},\"line_color\":{\"value\":\"black\"},\"line_dash\":[4,4],\"line_width\":{\"value\":2},\"render_mode\":\"css\",\"right_units\":\"screen\",\"top_units\":\"screen\"},\"id\":\"1240\",\"type\":\"BoxAnnotation\"},{\"attributes\":{},\"id\":\"1205\",\"type\":\"LinearScale\"},{\"attributes\":{\"source\":{\"id\":\"1050\",\"type\":\"ColumnDataSource\"}},\"id\":\"1054\",\"type\":\"CDSView\"},{\"attributes\":{\"line_alpha\":0.1,\"line_color\":\"#1f77b4\",\"line_width\":3,\"x\":{\"field\":\"x\"},\"y\":{\"field\":\"y\"}},\"id\":\"1259\",\"type\":\"Line\"},{\"attributes\":{},\"id\":\"1060\",\"type\":\"UnionRenderers\"},{\"attributes\":{},\"id\":\"1213\",\"type\":\"BasicTicker\"},{\"attributes\":{\"items\":[{\"id\":\"1242\",\"type\":\"LegendItem\"},{\"id\":\"1256\",\"type\":\"LegendItem\"},{\"id\":\"1272\",\"type\":\"LegendItem\"},{\"id\":\"1290\",\"type\":\"LegendItem\"}],\"location\":\"center_right\"},\"id\":\"1241\",\"type\":\"Legend\"},{\"attributes\":{\"axis_label\":\"Time (hrs)\",\"formatter\":{\"id\":\"1239\",\"type\":\"BasicTickFormatter\"},\"ticker\":{\"id\":\"1208\",\"type\":\"BasicTicker\"}},\"id\":\"1207\",\"type\":\"LinearAxis\"},{\"attributes\":{\"label\":{\"value\":\"ssDNA exported\"},\"renderers\":[{\"id\":\"1053\",\"type\":\"GlyphRenderer\"}]},\"id\":\"1063\",\"type\":\"LegendItem\"},{\"attributes\":{\"label\":{\"value\":\"VirE2 Bound\"},\"renderers\":[{\"id\":\"1233\",\"type\":\"GlyphRenderer\"}]},\"id\":\"1242\",\"type\":\"LegendItem\"},{\"attributes\":{},\"id\":\"1061\",\"type\":\"Selection\"},{\"attributes\":{\"line_alpha\":0.1,\"line_color\":\"#1f77b4\",\"line_width\":3,\"x\":{\"field\":\"x\"},\"y\":{\"field\":\"y\"}},\"id\":\"1245\",\"type\":\"Line\"},{\"attributes\":{\"data_source\":{\"id\":\"1230\",\"type\":\"ColumnDataSource\"},\"glyph\":{\"id\":\"1231\",\"type\":\"Line\"},\"hover_glyph\":null,\"muted_glyph\":null,\"nonselection_glyph\":{\"id\":\"1232\",\"type\":\"Line\"},\"selection_glyph\":null,\"view\":{\"id\":\"1234\",\"type\":\"CDSView\"}},\"id\":\"1233\",\"type\":\"GlyphRenderer\"},{\"attributes\":{},\"id\":\"1012\",\"type\":\"LinearScale\"},{\"attributes\":{\"below\":[{\"id\":\"1207\",\"type\":\"LinearAxis\"}],\"center\":[{\"id\":\"1211\",\"type\":\"Grid\"},{\"id\":\"1216\",\"type\":\"Grid\"},{\"id\":\"1241\",\"type\":\"Legend\"}],\"left\":[{\"id\":\"1212\",\"type\":\"LinearAxis\"}],\"plot_height\":400,\"plot_width\":480,\"renderers\":[{\"id\":\"1233\",\"type\":\"GlyphRenderer\"},{\"id\":\"1246\",\"type\":\"GlyphRenderer\"},{\"id\":\"1260\",\"type\":\"GlyphRenderer\"},{\"id\":\"1276\",\"type\":\"GlyphRenderer\"}],\"title\":{\"id\":\"1197\",\"type\":\"Title\"},\"toolbar\":{\"id\":\"1223\",\"type\":\"Toolbar\"},\"x_range\":{\"id\":\"1199\",\"type\":\"DataRange1d\"},\"x_scale\":{\"id\":\"1203\",\"type\":\"LinearScale\"},\"y_range\":{\"id\":\"1201\",\"type\":\"DataRange1d\"},\"y_scale\":{\"id\":\"1205\",\"type\":\"LinearScale\"}},\"id\":\"1196\",\"subtype\":\"Figure\",\"type\":\"Plot\"},{\"attributes\":{\"line_color\":\"#2ba02b\",\"line_width\":3,\"x\":{\"field\":\"x\"},\"y\":{\"field\":\"y\"}},\"id\":\"1065\",\"type\":\"Line\"},{\"attributes\":{\"line_color\":\"#2ba02b\",\"line_width\":3,\"x\":{\"field\":\"x\"},\"y\":{\"field\":\"y\"}},\"id\":\"1258\",\"type\":\"Line\"},{\"attributes\":{},\"id\":\"1203\",\"type\":\"LinearScale\"},{\"attributes\":{\"line_alpha\":0.1,\"line_color\":\"#1f77b4\",\"line_width\":3,\"x\":{\"field\":\"x\"},\"y\":{\"field\":\"y\"}},\"id\":\"1066\",\"type\":\"Line\"},{\"attributes\":{},\"id\":\"1221\",\"type\":\"ResetTool\"},{\"attributes\":{\"data_source\":{\"id\":\"1064\",\"type\":\"ColumnDataSource\"},\"glyph\":{\"id\":\"1065\",\"type\":\"Line\"},\"hover_glyph\":null,\"muted_glyph\":null,\"nonselection_glyph\":{\"id\":\"1066\",\"type\":\"Line\"},\"selection_glyph\":null,\"view\":{\"id\":\"1068\",\"type\":\"CDSView\"}},\"id\":\"1067\",\"type\":\"GlyphRenderer\"},{\"attributes\":{\"callback\":null,\"data\":{\"x\":{\"__ndarray__\":\"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\",\"dtype\":\"float64\",\"shape\":[200]},\"y\":{\"__ndarray__\":\"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\",\"dtype\":\"float64\",\"shape\":[200]}},\"selected\":{\"id\":\"1110\",\"type\":\"Selection\"},\"selection_policy\":{\"id\":\"1109\",\"type\":\"UnionRenderers\"}},\"id\":\"1080\",\"type\":\"ColumnDataSource\"},{\"attributes\":{},\"id\":\"1253\",\"type\":\"UnionRenderers\"},{\"attributes\":{\"source\":{\"id\":\"1064\",\"type\":\"ColumnDataSource\"}},\"id\":\"1068\",\"type\":\"CDSView\"},{\"attributes\":{\"line_alpha\":0.1,\"line_color\":\"#1f77b4\",\"line_width\":3,\"x\":{\"field\":\"x\"},\"y\":{\"field\":\"y\"}},\"id\":\"1232\",\"type\":\"Line\"},{\"attributes\":{},\"id\":\"1076\",\"type\":\"UnionRenderers\"},{\"attributes\":{\"callback\":null,\"data\":{\"x\":{\"__ndarray__\":\"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\",\"dtype\":\"float64\",\"shape\":[200]},\"y\":{\"__ndarray__\":\"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\",\"dtype\":\"float64\",\"shape\":[200]}},\"selected\":{\"id\":\"1288\",\"type\":\"Selection\"},\"selection_policy\":{\"id\":\"1287\",\"type\":\"UnionRenderers\"}},\"id\":\"1257\",\"type\":\"ColumnDataSource\"},{\"attributes\":{},\"id\":\"1208\",\"type\":\"BasicTicker\"},{\"attributes\":{\"label\":{\"value\":\"ssDNA inside\"},\"renderers\":[{\"id\":\"1067\",\"type\":\"GlyphRenderer\"}]},\"id\":\"1079\",\"type\":\"LegendItem\"},{\"attributes\":{},\"id\":\"1077\",\"type\":\"Selection\"},{\"attributes\":{\"dimension\":1,\"ticker\":{\"id\":\"1213\",\"type\":\"BasicTicker\"}},\"id\":\"1216\",\"type\":\"Grid\"},{\"attributes\":{\"data_source\":{\"id\":\"1080\",\"type\":\"ColumnDataSource\"},\"glyph\":{\"id\":\"1081\",\"type\":\"Line\"},\"hover_glyph\":null,\"muted_glyph\":null,\"nonselection_glyph\":{\"id\":\"1082\",\"type\":\"Line\"},\"selection_glyph\":null,\"view\":{\"id\":\"1084\",\"type\":\"CDSView\"}},\"id\":\"1083\",\"type\":\"GlyphRenderer\"},{\"attributes\":{\"ticker\":{\"id\":\"1208\",\"type\":\"BasicTicker\"}},\"id\":\"1211\",\"type\":\"Grid\"},{\"attributes\":{\"line_color\":\"#9367bc\",\"line_width\":3,\"x\":{\"field\":\"x\"},\"y\":{\"field\":\"y\"}},\"id\":\"1081\",\"type\":\"Line\"},{\"attributes\":{},\"id\":\"1010\",\"type\":\"LinearScale\"},{\"attributes\":{\"line_alpha\":0.1,\"line_color\":\"#1f77b4\",\"line_width\":3,\"x\":{\"field\":\"x\"},\"y\":{\"field\":\"y\"}},\"id\":\"1082\",\"type\":\"Line\"}],\"root_ids\":[\"1404\"]},\"title\":\"Bokeh Application\",\"version\":\"1.4.0\"}};\n",
       "  var render_items = [{\"docid\":\"fb793879-32ff-4c80-9a35-e78ec2588547\",\"roots\":{\"1404\":\"6c44022b-5809-4f5c-837e-59ee22583b8d\"}}];\n",
       "  root.Bokeh.embed.embed_items_notebook(docs_json, render_items);\n",
       "\n",
       "  }\n",
       "  if (root.Bokeh !== undefined) {\n",
       "    embed_document(root);\n",
       "  } else {\n",
       "    var attempts = 0;\n",
       "    var timer = setInterval(function(root) {\n",
       "      if (root.Bokeh !== undefined) {\n",
       "        clearInterval(timer);\n",
       "        embed_document(root);\n",
       "      } else {\n",
       "        attempts++;\n",
       "        if (attempts > 100) {\n",
       "          clearInterval(timer);\n",
       "          console.log(\"Bokeh: ERROR: Unable to run BokehJS code because BokehJS library is missing\");\n",
       "        }\n",
       "      }\n",
       "    }, 10, root)\n",
       "  }\n",
       "})(window);"
      ],
      "application/vnd.bokehjs_exec.v0+json": ""
     },
     "metadata": {
      "application/vnd.bokehjs_exec.v0+json": {
       "id": "1404"
      }
     },
     "output_type": "display_data"
    }
   ],
   "source": [
    "bokeh.io.show(row(p,p1))"
   ]
  },
  {
   "cell_type": "code",
   "execution_count": null,
   "metadata": {},
   "outputs": [],
   "source": []
  }
 ],
 "metadata": {
  "kernelspec": {
   "display_name": "Python 3",
   "language": "python",
   "name": "python3"
  },
  "language_info": {
   "codemirror_mode": {
    "name": "ipython",
    "version": 3
   },
   "file_extension": ".py",
   "mimetype": "text/x-python",
   "name": "python",
   "nbconvert_exporter": "python",
   "pygments_lexer": "ipython3",
   "version": "3.7.7"
  }
 },
 "nbformat": 4,
 "nbformat_minor": 4
}
