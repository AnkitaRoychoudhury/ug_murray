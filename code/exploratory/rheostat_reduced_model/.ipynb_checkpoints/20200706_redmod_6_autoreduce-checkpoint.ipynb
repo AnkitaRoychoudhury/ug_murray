{
 "cells": [
  {
   "cell_type": "markdown",
   "metadata": {},
   "source": [
    "# Reduced Model with autoReduce attempt 6\n",
    "In this notebook, we will put the stuff that works from attempt 5! It was still kind of hardcoded, and solve_timescale_separation runs for a long time even if I only try to remove one species."
   ]
  },
  {
   "cell_type": "markdown",
   "metadata": {},
   "source": [
    "**Note: Try to give accurate initial conditions** (instead of just np.ones)"
   ]
  },
  {
   "cell_type": "code",
   "execution_count": 21,
   "metadata": {},
   "outputs": [],
   "source": [
    "# imports\n",
    "from libsbml import *\n",
    "import sys\n",
    "import numpy as np\n",
    "from auto_reduce import *\n",
    "from auto_reduce.utils import get_ODE\n",
    "import matplotlib.pyplot as plt\n",
    "from auto_reduce.utils import reduce\n",
    "\n",
    "\n"
   ]
  },
  {
   "cell_type": "code",
   "execution_count": 2,
   "metadata": {},
   "outputs": [],
   "source": [
    "# set num species and params\n",
    "n = 68\n",
    "num_params = 80"
   ]
  },
  {
   "cell_type": "markdown",
   "metadata": {},
   "source": [
    "## Get params list from generated_code"
   ]
  },
  {
   "cell_type": "code",
   "execution_count": 3,
   "metadata": {},
   "outputs": [],
   "source": [
    "r0_k = 15.0\n",
    "r0_1_k = 1.5\n",
    "r2_k = 36000.0\n",
    "r3_k = 15.0\n",
    "r3_1_k = 1.5\n",
    "r5_k = 15.0\n",
    "r5_1_k = 1.5\n",
    "r7_k = 36000.0\n",
    "r8_k = 15.0\n",
    "r8_1_k = 1.5\n",
    "r10_k = 15.0\n",
    "r10_1_k = 1.5\n",
    "r12_k = 36000.0\n",
    "r13_k = 15.0\n",
    "r13_1_k = 1.5\n",
    "r15_k = 15.0\n",
    "r15_1_k = 1.5\n",
    "r17_k = 36000.0\n",
    "r18_k = 15.0\n",
    "r18_1_k = 1.5\n",
    "r20_k = 15.0\n",
    "r20_1_k = 1.5\n",
    "r22_k = 36000.0\n",
    "r23_k = 15.0\n",
    "r23_1_k = 1.5\n",
    "r25_k = 15.0\n",
    "r25_1_k = 1.5\n",
    "r27_k = 36000.0\n",
    "r28_k = 15.0\n",
    "r28_1_k = 1.5\n",
    "r30_k = 15.0\n",
    "r30_1_k = 1.5\n",
    "r32_k = 36000.0\n",
    "r33_k = 15.0\n",
    "r33_1_k = 1.5\n",
    "r35_k = 15.0\n",
    "r35_1_k = 1.5\n",
    "r37_k = 36000.0\n",
    "r38_k = 15.0\n",
    "r38_1_k = 1.5\n",
    "r40_k = 15.0\n",
    "r40_1_k = 1.5\n",
    "r42_k = 36000.0\n",
    "r43_k = 15.0\n",
    "r43_1_k = 1.5\n",
    "r45_k = 15.0\n",
    "r45_1_k = 1.5\n",
    "r47_k = 36000.0\n",
    "r48_k = 15.0\n",
    "r48_1_k = 1.5\n",
    "r50_k = 15.0\n",
    "r50_1_k = 1.5\n",
    "r52_k = 36000.0\n",
    "r53_k = 15.0\n",
    "r53_1_k = 1.5\n",
    "r55_k = 15.0\n",
    "r55_1_k = 1.5\n",
    "r57_k = 36000.0\n",
    "r58_k = 15.0\n",
    "r58_1_k = 1.5\n",
    "r60_k = 15.0\n",
    "r60_1_k = 1.5\n",
    "r62_k = 36000.0\n",
    "r63_k = 15.0\n",
    "r63_1_k = 1.5\n",
    "r65_k = 15.0\n",
    "r65_1_k = 1.5\n",
    "r67_k = 36000.0\n",
    "r68_k = 15.0\n",
    "r68_1_k = 1.5\n",
    "r70_k = 15.0\n",
    "r70_1_k = 1.5\n",
    "r72_k = 36000.0\n",
    "r73_k = 15.0\n",
    "r73_1_k = 1.5\n",
    "r75_k = 15.0\n",
    "r75_1_k = 1.5\n",
    "r77_k = 2.0\n",
    "r78_k = 15.0\n",
    "r78_1_k = 1.5"
   ]
  },
  {
   "cell_type": "markdown",
   "metadata": {},
   "source": [
    "## Define parameter list so that it works with autoReduce"
   ]
  },
  {
   "cell_type": "code",
   "execution_count": 5,
   "metadata": {},
   "outputs": [],
   "source": [
    "P = np.zeros(num_params)\n",
    "# Now set all parameters\n",
    "i = 0\n",
    "P[i] = r0_k\n",
    "i += 1\n",
    "P[i] = r0_1_k = 1.5\n",
    "i += 1\n",
    "P[i] = r2_k = 36000.0\n",
    "i += 1\n",
    "P[i] = r3_k = 15.0\n",
    "i += 1\n",
    "P[i] = r3_1_k = 1.5\n",
    "i += 1\n",
    "P[i] = r5_k = 15.0\n",
    "i += 1\n",
    "P[i] = r5_1_k = 1.5\n",
    "i += 1\n",
    "P[i] = r7_k = 36000.0\n",
    "i += 1\n",
    "P[i] = r8_k = 15.0\n",
    "i += 1\n",
    "P[i] = r8_1_k = 1.5\n",
    "i += 1\n",
    "P[i] = r10_k = 15.0\n",
    "i += 1\n",
    "P[i] = r10_1_k = 1.5\n",
    "i += 1\n",
    "P[i] = r12_k = 36000.0\n",
    "i += 1\n",
    "P[i] = r13_k = 15.0\n",
    "i += 1\n",
    "P[i] = r13_1_k = 1.5\n",
    "i += 1\n",
    "P[i] = r15_k = 15.0\n",
    "i += 1\n",
    "P[i] = r15_1_k = 1.5\n",
    "i += 1\n",
    "P[i] = r17_k = 36000.0\n",
    "i += 1\n",
    "P[i] = r18_k = 15.0\n",
    "i += 1\n",
    "P[i] = r18_1_k = 1.5\n",
    "i += 1\n",
    "P[i] = r20_k = 15.0\n",
    "i += 1\n",
    "P[i] = r20_1_k = 1.5\n",
    "i += 1\n",
    "P[i] = r22_k = 36000.0\n",
    "i += 1\n",
    "P[i] = r23_k = 15.0\n",
    "i += 1\n",
    "P[i] = r23_1_k = 1.5\n",
    "i += 1\n",
    "P[i] = r25_k = 15.0\n",
    "i += 1\n",
    "P[i] = r25_1_k = 1.5\n",
    "i += 1\n",
    "P[i] = r27_k = 36000.0\n",
    "i += 1\n",
    "P[i] = r28_k = 15.0\n",
    "i += 1\n",
    "P[i] = r28_1_k = 1.5\n",
    "i += 1\n",
    "P[i] = r30_k = 15.0\n",
    "i += 1\n",
    "P[i] = r30_1_k = 1.5\n",
    "i += 1\n",
    "P[i] = r32_k = 36000.0\n",
    "i += 1\n",
    "P[i] = r33_k = 15.0\n",
    "i += 1\n",
    "P[i] = r33_1_k = 1.5\n",
    "i += 1\n",
    "P[i] = r35_k = 15.0\n",
    "i += 1\n",
    "P[i] = r35_1_k = 1.5\n",
    "i += 1\n",
    "P[i] = r37_k = 36000.0\n",
    "i += 1\n",
    "P[i] = r38_k = 15.0\n",
    "i += 1\n",
    "P[i] = r38_1_k = 1.5\n",
    "i += 1\n",
    "P[i] = r40_k = 15.0\n",
    "i += 1\n",
    "P[i] = r40_1_k = 1.5\n",
    "i += 1\n",
    "P[i] = r42_k = 36000.0\n",
    "i += 1\n",
    "P[i] = r43_k = 15.0\n",
    "i += 1\n",
    "P[i] = r43_1_k = 1.5\n",
    "i += 1\n",
    "P[i] = r45_k = 15.0\n",
    "i += 1\n",
    "P[i] = r45_1_k = 1.5\n",
    "i += 1\n",
    "P[i] = r47_k = 36000.0\n",
    "i += 1\n",
    "P[i] = r48_k = 15.0\n",
    "i += 1\n",
    "P[i] = r48_1_k = 1.5\n",
    "i += 1\n",
    "P[i] = r50_k = 15.0\n",
    "i += 1\n",
    "P[i] = r50_1_k = 1.5\n",
    "i += 1\n",
    "P[i] = r52_k = 36000.0\n",
    "i += 1\n",
    "P[i] = r53_k = 15.0\n",
    "i += 1\n",
    "P[i] = r53_1_k = 1.5\n",
    "i += 1\n",
    "P[i] = r55_k = 15.0\n",
    "i += 1\n",
    "P[i] = r55_1_k = 1.5\n",
    "i += 1\n",
    "P[i] = r57_k = 36000.0\n",
    "i += 1\n",
    "P[i] = r58_k = 15.0\n",
    "i += 1\n",
    "P[i] = r58_1_k = 1.5\n",
    "i += 1\n",
    "P[i] = r60_k = 15.0\n",
    "i += 1\n",
    "P[i] = r60_1_k = 1.5\n",
    "i += 1\n",
    "P[i] = r62_k = 36000.0\n",
    "i += 1\n",
    "P[i] = r63_k = 15.0\n",
    "i += 1\n",
    "P[i] = r63_1_k = 1.5\n",
    "i += 1\n",
    "P[i] = r65_k = 15.0\n",
    "i += 1\n",
    "P[i] = r65_1_k = 1.5\n",
    "i += 1\n",
    "P[i] = r67_k = 36000.0\n",
    "i += 1\n",
    "P[i] = r68_k = 15.0\n",
    "i += 1\n",
    "P[i] = r68_1_k = 1.5\n",
    "i += 1\n",
    "P[i] = r70_k = 15.0\n",
    "i += 1\n",
    "P[i] = r70_1_k = 1.5\n",
    "i += 1\n",
    "P[i] = r72_k = 36000.0\n",
    "i += 1\n",
    "P[i] = r73_k = 15.0\n",
    "i += 1\n",
    "P[i] = r73_1_k = 1.5\n",
    "i += 1\n",
    "P[i] = r75_k = 15.0\n",
    "i += 1\n",
    "P[i] = r75_1_k = 1.5\n",
    "i += 1\n",
    "P[i] = r77_k = 2.0\n",
    "i += 1\n",
    "P[i] = r78_k = 15.0\n",
    "i += 1\n",
    "P[i] = r78_1_k = 1.5\n",
    "i += 1"
   ]
  },
  {
   "cell_type": "markdown",
   "metadata": {},
   "source": [
    "Setup other stuff"
   ]
  },
  {
   "cell_type": "code",
   "execution_count": 9,
   "metadata": {},
   "outputs": [],
   "source": [
    "params_values = P.copy()\n",
    "timepoints_ode = np.linspace(0,72,100)\n",
    "\n",
    "\n",
    "\n",
    "error_tol = 100\n",
    "nstates_tol = 1"
   ]
  },
  {
   "cell_type": "code",
   "execution_count": 45,
   "metadata": {},
   "outputs": [],
   "source": [
    "# Set initial conditions\n",
    "# want all enzymes = 0.15, glucose, atp, nadp, maybe pi = 30, atpase_init = 2.0\n",
    "x_init = np.zeros(n)\n",
    "\n",
    "# set up init for all enzymes\n",
    "enz_list = [0, 7, 11, 15, 19, 25, 30, 33, 37, 41, 45, 49, 53, 57, 61]\n",
    "# indices for gluc, atp, nadp, pi\n",
    "mol_list = [2, 1, 20, 26]\n",
    "\n",
    "for i,item in enumerate(x_init):\n",
    "    if i in enz_list:\n",
    "        x_init[i] = 0.15\n",
    "        \n",
    "    # atpase init cond\n",
    "    if i == 65:\n",
    "        x_init[i] = 2.\n",
    "        \n",
    "    # set up other molecules\n",
    "    if i in mol_list:\n",
    "        x_init[i] = 30\n"
   ]
  },
  {
   "cell_type": "code",
   "execution_count": 46,
   "metadata": {},
   "outputs": [],
   "source": [
    "x,f,P = system.load_ODE_model(n, num_params)"
   ]
  },
  {
   "cell_type": "code",
   "execution_count": 47,
   "metadata": {},
   "outputs": [],
   "source": [
    "params = P"
   ]
  },
  {
   "cell_type": "markdown",
   "metadata": {},
   "source": [
    "## Setup all species"
   ]
  },
  {
   "cell_type": "code",
   "execution_count": 48,
   "metadata": {},
   "outputs": [],
   "source": [
    "enzyme_hex = x[0]\n",
    "metabolite_atp = x[1]\n",
    "molecule_glucose = x[2]\n",
    "molecule_g6p = x[3]\n",
    "metabolite_adp = x[4]\n",
    "complex_enzyme_hex_metabolite_atp_molecule_glucose = x[5]\n",
    "complex_enzyme_hex_metabolite_adp_molecule_g6p = x[6]\n",
    "enzyme_pgi = x[7]\n",
    "molecule_f6p = x[8]\n",
    "complex_enzyme_pgi_molecule_g6p = x[9]\n",
    "complex_enzyme_pgi_molecule_f6p = x[10]\n",
    "enzyme_pfk = x[11]\n",
    "molecule_f16p = x[12]\n",
    "complex_enzyme_pfk_metabolite_atp_molecule_f6p = x[13]\n",
    "complex_enzyme_pfk_metabolite_adp_molecule_f16p = x[14]\n",
    "enzyme_ald_tpi = x[15]\n",
    "molecule_g3p = x[16]\n",
    "complex_enzyme_ald_tpi_molecule_f16p = x[17]\n",
    "complex_enzyme_ald_tpi_2x_molecule_g3p = x[18]\n",
    "enzyme_gapN = x[19]\n",
    "metabolite_nadp = x[20]\n",
    "molecule_3pg = x[21]\n",
    "metabolite_nadph = x[22]\n",
    "complex_enzyme_gapN_2x_metabolite_nadp_2x_molecule_g3p = x[23]\n",
    "complex_enzyme_gapN_2x_metabolite_nadph_2x_molecule_3pg = x[24]\n",
    "enzyme_mGapDH = x[25]\n",
    "metabolite_pi = x[26]\n",
    "molecule_13bpg = x[27]\n",
    "complex_enzyme_mGapDH_2x_metabolite_nadp_metabolite_pi_2x_molecule_g3p = x[28]\n",
    "complex_enzyme_mGapDH_2x_metabolite_nadph_molecule_13bpg = x[29]\n",
    "enzyme_pgk = x[30]\n",
    "complex_enzyme_pgk_metabolite_adp_molecule_13bpg = x[31]\n",
    "complex_enzyme_pgk_metabolite_atp_2x_molecule_3pg = x[32]\n",
    "enzyme_pgm = x[33]\n",
    "molecule_2pg = x[34]\n",
    "complex_enzyme_pgm_2x_molecule_3pg = x[35]\n",
    "complex_enzyme_pgm_2x_molecule_2pg = x[36]\n",
    "enzyme_eno = x[37]\n",
    "molecule_pep = x[38]\n",
    "complex_enzyme_eno_2x_molecule_2pg = x[39]\n",
    "complex_enzyme_eno_2x_molecule_pep = x[40]\n",
    "enzyme_pyk = x[41]\n",
    "molecule_pyruvate = x[42]\n",
    "complex_enzyme_pyk_2x_metabolite_adp_2x_molecule_pep = x[43]\n",
    "complex_enzyme_pyk_2x_metabolite_atp_2x_molecule_pyruvate = x[44]\n",
    "enzyme_alsS = x[45]\n",
    "molecule_acetolac = x[46]\n",
    "complex_enzyme_alsS_2x_molecule_pyruvate = x[47]\n",
    "complex_enzyme_alsS_molecule_acetolac = x[48]\n",
    "enzyme_IlvC = x[49]\n",
    "molecule_23dih3mebut = x[50]\n",
    "complex_enzyme_IlvC_metabolite_nadph_molecule_acetolac = x[51]\n",
    "complex_enzyme_IlvC_metabolite_nadp_molecule_23dih3mebut = x[52]\n",
    "enzyme_IlvD = x[53]\n",
    "molecule_3me2oxo = x[54]\n",
    "complex_enzyme_IlvD_molecule_23dih3mebut = x[55]\n",
    "complex_enzyme_IlvD_molecule_3me2oxo = x[56]\n",
    "enzyme_kivD = x[57]\n",
    "molecule_isobutanal = x[58]\n",
    "complex_enzyme_kivD_molecule_3me2oxo = x[59]\n",
    "complex_enzyme_kivD_molecule_isobutanal = x[60]\n",
    "enzyme_yahk = x[61]\n",
    "molecule_isobutanol = x[62]\n",
    "complex_enzyme_yahk_metabolite_nadph_molecule_isobutanal = x[63]\n",
    "complex_enzyme_yahk_metabolite_nadp_molecule_isobutanol = x[64]\n",
    "enzyme_atpase = x[65]\n",
    "complex_enzyme_atpase_metabolite_atp = x[66]\n",
    "complex_enzyme_atpase_metabolite_adp_metabolite_pi = x[67]"
   ]
  },
  {
   "cell_type": "markdown",
   "metadata": {},
   "source": [
    "## Get all reactions"
   ]
  },
  {
   "cell_type": "code",
   "execution_count": 49,
   "metadata": {},
   "outputs": [],
   "source": [
    "r0 = r0_k * enzyme_hex * metabolite_atp * molecule_glucose\n",
    "r0_1 = r0_1_k * complex_enzyme_hex_metabolite_atp_molecule_glucose\n",
    "r2 = r2_k * complex_enzyme_hex_metabolite_atp_molecule_glucose\n",
    "r3 = r3_k * complex_enzyme_hex_metabolite_adp_molecule_g6p\n",
    "r3_1 = r3_1_k * enzyme_hex * molecule_g6p * metabolite_adp\n",
    "r5 = r5_k * enzyme_pgi * molecule_g6p\n",
    "r5_1 = r5_1_k * complex_enzyme_pgi_molecule_g6p\n",
    "r7 = r7_k * complex_enzyme_pgi_molecule_g6p\n",
    "r8 = r8_k * complex_enzyme_pgi_molecule_f6p\n",
    "r8_1 = r8_1_k * enzyme_pgi * molecule_f6p\n",
    "r10 = r10_k * enzyme_pfk * metabolite_atp * molecule_f6p\n",
    "r10_1 = r10_1_k * complex_enzyme_pfk_metabolite_atp_molecule_f6p\n",
    "r12 = r12_k * complex_enzyme_pfk_metabolite_atp_molecule_f6p\n",
    "r13 = r13_k * complex_enzyme_pfk_metabolite_adp_molecule_f16p\n",
    "r13_1 = r13_1_k * enzyme_pfk * molecule_f16p * metabolite_adp\n",
    "r15 = r15_k * enzyme_ald_tpi * molecule_f16p\n",
    "r15_1 = r15_1_k * complex_enzyme_ald_tpi_molecule_f16p\n",
    "r17 = r17_k * complex_enzyme_ald_tpi_molecule_f16p\n",
    "r18 = r18_k * complex_enzyme_ald_tpi_2x_molecule_g3p\n",
    "r18_1 = r18_1_k * enzyme_ald_tpi * pow(molecule_g3p, 2)\n",
    "r20 = r20_k * enzyme_gapN * pow(metabolite_nadp, 2) * pow(molecule_g3p, 2)\n",
    "r20_1 = r20_1_k * complex_enzyme_gapN_2x_metabolite_nadp_2x_molecule_g3p\n",
    "r22 = r22_k * complex_enzyme_gapN_2x_metabolite_nadp_2x_molecule_g3p\n",
    "r23 = r23_k * complex_enzyme_gapN_2x_metabolite_nadph_2x_molecule_3pg\n",
    "r23_1 = r23_1_k * enzyme_gapN * pow(molecule_3pg, 2) * pow(metabolite_nadph, 2)\n",
    "r25 = r25_k * enzyme_mGapDH * metabolite_pi * pow(metabolite_nadp, 2) * pow(molecule_g3p, 2)\n",
    "r25_1 = r25_1_k * complex_enzyme_mGapDH_2x_metabolite_nadp_metabolite_pi_2x_molecule_g3p\n",
    "r27 = r27_k * complex_enzyme_mGapDH_2x_metabolite_nadp_metabolite_pi_2x_molecule_g3p\n",
    "r28 = r28_k * complex_enzyme_mGapDH_2x_metabolite_nadph_molecule_13bpg\n",
    "r28_1 = r28_1_k * enzyme_mGapDH * molecule_13bpg * pow(metabolite_nadph, 2)\n",
    "r30 = r30_k * enzyme_pgk * metabolite_adp * molecule_13bpg\n",
    "r30_1 = r30_1_k * complex_enzyme_pgk_metabolite_adp_molecule_13bpg\n",
    "r32 = r32_k * complex_enzyme_pgk_metabolite_adp_molecule_13bpg\n",
    "r33 = r33_k * complex_enzyme_pgk_metabolite_atp_2x_molecule_3pg\n",
    "r33_1 = r33_1_k * enzyme_pgk * pow(molecule_3pg, 2) * metabolite_atp\n",
    "r35 = r35_k * enzyme_pgm * pow(molecule_3pg, 2)\n",
    "r35_1 = r35_1_k * complex_enzyme_pgm_2x_molecule_3pg\n",
    "r37 = r37_k * complex_enzyme_pgm_2x_molecule_3pg\n",
    "r38 = r38_k * complex_enzyme_pgm_2x_molecule_2pg\n",
    "r38_1 = r38_1_k * enzyme_pgm * pow(molecule_2pg, 2)\n",
    "r40 = r40_k * enzyme_eno * pow(molecule_2pg, 2)\n",
    "r40_1 = r40_1_k * complex_enzyme_eno_2x_molecule_2pg\n",
    "r42 = r42_k * complex_enzyme_eno_2x_molecule_2pg\n",
    "r43 = r43_k * complex_enzyme_eno_2x_molecule_pep\n",
    "r43_1 = r43_1_k * enzyme_eno * pow(molecule_pep, 2)\n",
    "r45 = r45_k * enzyme_pyk * pow(metabolite_adp, 2) * pow(molecule_pep, 2)\n",
    "r45_1 = r45_1_k * complex_enzyme_pyk_2x_metabolite_adp_2x_molecule_pep\n",
    "r47 = r47_k * complex_enzyme_pyk_2x_metabolite_adp_2x_molecule_pep\n",
    "r48 = r48_k * complex_enzyme_pyk_2x_metabolite_atp_2x_molecule_pyruvate\n",
    "r48_1 = r48_1_k * enzyme_pyk * pow(molecule_pyruvate, 2) * pow(metabolite_atp, 2)\n",
    "r50 = r50_k * enzyme_alsS * pow(molecule_pyruvate, 2)\n",
    "r50_1 = r50_1_k * complex_enzyme_alsS_2x_molecule_pyruvate\n",
    "r52 = r52_k * complex_enzyme_alsS_2x_molecule_pyruvate\n",
    "r53 = r53_k * complex_enzyme_alsS_molecule_acetolac\n",
    "r53_1 = r53_1_k * enzyme_alsS * molecule_acetolac\n",
    "r55 = r55_k * enzyme_IlvC * metabolite_nadph * molecule_acetolac\n",
    "r55_1 = r55_1_k * complex_enzyme_IlvC_metabolite_nadph_molecule_acetolac\n",
    "r57 = r57_k * complex_enzyme_IlvC_metabolite_nadph_molecule_acetolac\n",
    "r58 = r58_k * complex_enzyme_IlvC_metabolite_nadp_molecule_23dih3mebut\n",
    "r58_1 = r58_1_k * enzyme_IlvC * molecule_23dih3mebut * metabolite_nadp\n",
    "r60 = r60_k * enzyme_IlvD * molecule_23dih3mebut\n",
    "r60_1 = r60_1_k * complex_enzyme_IlvD_molecule_23dih3mebut\n",
    "r62 = r62_k * complex_enzyme_IlvD_molecule_23dih3mebut\n",
    "r63 = r63_k * complex_enzyme_IlvD_molecule_3me2oxo\n",
    "r63_1 = r63_1_k * enzyme_IlvD * molecule_3me2oxo\n",
    "r65 = r65_k * enzyme_kivD * molecule_3me2oxo\n",
    "r65_1 = r65_1_k * complex_enzyme_kivD_molecule_3me2oxo\n",
    "r67 = r67_k * complex_enzyme_kivD_molecule_3me2oxo\n",
    "r68 = r68_k * complex_enzyme_kivD_molecule_isobutanal\n",
    "r68_1 = r68_1_k * enzyme_kivD * molecule_isobutanal\n",
    "r70 = r70_k * enzyme_yahk * metabolite_nadph * molecule_isobutanal\n",
    "r70_1 = r70_1_k * complex_enzyme_yahk_metabolite_nadph_molecule_isobutanal\n",
    "r72 = r72_k * complex_enzyme_yahk_metabolite_nadph_molecule_isobutanal\n",
    "r73 = r73_k * complex_enzyme_yahk_metabolite_nadp_molecule_isobutanol\n",
    "r73_1 = r73_1_k * enzyme_yahk * molecule_isobutanol * metabolite_nadp\n",
    "r75 = r75_k * enzyme_atpase * metabolite_atp\n",
    "r75_1 = r75_1_k * complex_enzyme_atpase_metabolite_atp\n",
    "r77 = r77_k * complex_enzyme_atpase_metabolite_atp\n",
    "r78 = r78_k * complex_enzyme_atpase_metabolite_adp_metabolite_pi\n",
    "r78_1 = r78_1_k * enzyme_atpase * metabolite_adp * metabolite_pi"
   ]
  },
  {
   "cell_type": "markdown",
   "metadata": {},
   "source": [
    "## Get all functions"
   ]
  },
  {
   "cell_type": "code",
   "execution_count": 50,
   "metadata": {},
   "outputs": [],
   "source": [
    "func_array = np.array([ + (-r0) + (r0_1) + (r3) + (-r3_1),\n",
    "       + (-r0) + (r0_1) + (-r10) + (r10_1) + (r33) + (-r33_1) + ((2.0)*r48) + (-(2.0)*r48_1) + (-r75) + (r75_1),\n",
    "       + (-r0) + (r0_1),\n",
    "       + (r3) + (-r3_1) + (-r5) + (r5_1),\n",
    "       + (r3) + (-r3_1) + (r13) + (-r13_1) + (-r30) + (r30_1) + (-(2.0)*r45) + ((2.0)*r45_1) + (r78) + (-r78_1),\n",
    "       + (r0) + (-r0_1) + (-r2),\n",
    "       + (r2) + (-r3) + (r3_1),\n",
    "       + (-r5) + (r5_1) + (r8) + (-r8_1),\n",
    "       + (r8) + (-r8_1) + (-r10) + (r10_1),\n",
    "       + (r5) + (-r5_1) + (-r7),\n",
    "       + (r7) + (-r8) + (r8_1),\n",
    "       + (-r10) + (r10_1) + (r13) + (-r13_1),\n",
    "       + (r13) + (-r13_1) + (-r15) + (r15_1),\n",
    "       + (r10) + (-r10_1) + (-r12),\n",
    "       + (r12) + (-r13) + (r13_1),\n",
    "       + (-r15) + (r15_1) + (r18) + (-r18_1),\n",
    "       + ((2.0)*r18) + (-(2.0)*r18_1) + (-(2.0)*r20) + ((2.0)*r20_1) + (-(2.0)*r25) + ((2.0)*r25_1),\n",
    "       + (r15) + (-r15_1) + (-r17),\n",
    "       + (r17) + (-r18) + (r18_1),\n",
    "       + (-r20) + (r20_1) + (r23) + (-r23_1),\n",
    "       + (-(2.0)*r20) + ((2.0)*r20_1) + (-(2.0)*r25) + ((2.0)*r25_1) + (r58) + (-r58_1) + (r73) + (-r73_1),\n",
    "       + ((2.0)*r23) + (-(2.0)*r23_1) + ((2.0)*r33) + (-(2.0)*r33_1) + (-(2.0)*r35) + ((2.0)*r35_1),\n",
    "       + ((2.0)*r23) + (-(2.0)*r23_1) + ((2.0)*r28) + (-(2.0)*r28_1) + (-r55) + (r55_1) + (-r70) + (r70_1),\n",
    "       + (r20) + (-r20_1) + (-r22),\n",
    "       + (r22) + (-r23) + (r23_1),\n",
    "       + (-r25) + (r25_1) + (r28) + (-r28_1),\n",
    "       + (-r25) + (r25_1) + (r78) + (-r78_1),\n",
    "       + (r28) + (-r28_1) + (-r30) + (r30_1),\n",
    "       + (r25) + (-r25_1) + (-r27),\n",
    "       + (r27) + (-r28) + (r28_1),\n",
    "       + (-r30) + (r30_1) + (r33) + (-r33_1),\n",
    "       + (r30) + (-r30_1) + (-r32),\n",
    "       + (r32) + (-r33) + (r33_1),\n",
    "       + (-r35) + (r35_1) + (r38) + (-r38_1),\n",
    "       + ((2.0)*r38) + (-(2.0)*r38_1) + (-(2.0)*r40) + ((2.0)*r40_1),\n",
    "       + (r35) + (-r35_1) + (-r37),\n",
    "       + (r37) + (-r38) + (r38_1),\n",
    "       + (-r40) + (r40_1) + (r43) + (-r43_1),\n",
    "       + ((2.0)*r43) + (-(2.0)*r43_1) + (-(2.0)*r45) + ((2.0)*r45_1),\n",
    "       + (r40) + (-r40_1) + (-r42),\n",
    "       + (r42) + (-r43) + (r43_1),\n",
    "       + (-r45) + (r45_1) + (r48) + (-r48_1),\n",
    "       + ((2.0)*r48) + (-(2.0)*r48_1) + (-(2.0)*r50) + ((2.0)*r50_1),\n",
    "       + (r45) + (-r45_1) + (-r47),\n",
    "       + (r47) + (-r48) + (r48_1),\n",
    "       + (-r50) + (r50_1) + (r53) + (-r53_1),\n",
    "       + (r53) + (-r53_1) + (-r55) + (r55_1),\n",
    "       + (r50) + (-r50_1) + (-r52),\n",
    "       + (r52) + (-r53) + (r53_1),\n",
    "       + (-r55) + (r55_1) + (r58) + (-r58_1),\n",
    "       + (r58) + (-r58_1) + (-r60) + (r60_1),\n",
    "       + (r55) + (-r55_1) + (-r57),\n",
    "       + (r57) + (-r58) + (r58_1),\n",
    "       + (-r60) + (r60_1) + (r63) + (-r63_1),\n",
    "       + (r63) + (-r63_1) + (-r65) + (r65_1),\n",
    "       + (r60) + (-r60_1) + (-r62),\n",
    "       + (r62) + (-r63) + (r63_1),\n",
    "       + (-r65) + (r65_1) + (r68) + (-r68_1),\n",
    "       + (r68) + (-r68_1) + (-r70) + (r70_1),\n",
    "       + (r65) + (-r65_1) + (-r67),\n",
    "       + (r67) + (-r68) + (r68_1),\n",
    "       + (-r70) + (r70_1) + (r73) + (-r73_1),\n",
    "       + (r73) + (-r73_1),\n",
    "       + (r70) + (-r70_1) + (-r72),\n",
    "       + (r72) + (-r73) + (r73_1),\n",
    "       + (-r75) + (r75_1) + (r78) + (-r78_1),\n",
    "       + (r75) + (-r75_1) + (-r77),\n",
    "       + (r77) + (-r78) + (r78_1)    ])"
   ]
  },
  {
   "cell_type": "code",
   "execution_count": 51,
   "metadata": {},
   "outputs": [],
   "source": [
    "for i,_ in enumerate(f):\n",
    "    f[i] = func_array[i]\n",
    "#func_array[0]"
   ]
  },
  {
   "cell_type": "markdown",
   "metadata": {},
   "source": [
    "## Check simulation"
   ]
  },
  {
   "cell_type": "code",
   "execution_count": 52,
   "metadata": {},
   "outputs": [],
   "source": [
    "# setup output matrix, only isobutanol x[62]\n",
    "nouts = 1 \n",
    "C = np.zeros((nouts, len(x)), dtype = int)\n",
    "C[0][62] = 1 \n",
    "C = C.tolist()"
   ]
  },
  {
   "cell_type": "code",
   "execution_count": 53,
   "metadata": {},
   "outputs": [],
   "source": [
    "# Setup system\n",
    "sys = System(x, f, params = P, params_values = params_values, C = C, x_init = x_init)"
   ]
  },
  {
   "cell_type": "code",
   "execution_count": 54,
   "metadata": {},
   "outputs": [],
   "source": [
    "sys_ode = get_ODE(sys, timepoints_ode)\n",
    "sol = sys_ode.solve_system()"
   ]
  },
  {
   "cell_type": "code",
   "execution_count": 55,
   "metadata": {},
   "outputs": [
    {
     "data": {
      "image/png": "[encoded data removed]",
      "text/plain": [
       "<Figure size 432x288 with 1 Axes>"
      ]
     },
     "metadata": {
      "needs_background": "light"
     },
     "output_type": "display_data"
    }
   ],
   "source": [
    "plt.plot(timepoints_ode, sol)\n",
    "plt.xlabel('Time')\n",
    "plt.ylabel('[F6P]')\n",
    "plt.show()"
   ]
  },
  {
   "cell_type": "markdown",
   "metadata": {},
   "source": [
    "## Try to do parameter sensitivity"
   ]
  },
  {
   "cell_type": "markdown",
   "metadata": {},
   "source": [
    "6:45 pm (stopped after 10 mins)"
   ]
  },
  {
   "cell_type": "code",
   "execution_count": 56,
   "metadata": {},
   "outputs": [
    {
     "name": "stderr",
     "output_type": "stream",
     "text": [
      "/Users/ankitaroychoudhury/opt/anaconda3/lib/python3.7/site-packages/scipy/integrate/odepack.py:248: ODEintWarning: Excess work done on this call (perhaps wrong Dfun type). Run with full_output = 1 to get quantitative information.\n",
      "  warnings.warn(warning_msg, ODEintWarning)\n"
     ]
    },
    {
     "ename": "KeyboardInterrupt",
     "evalue": "",
     "output_type": "error",
     "traceback": [
      "\u001b[0;31m---------------------------------------------------------------------------\u001b[0m",
      "\u001b[0;31mKeyboardInterrupt\u001b[0m                         Traceback (most recent call last)",
      "\u001b[0;32m<ipython-input-56-292068cd7664>\u001b[0m in \u001b[0;36m<module>\u001b[0;34m\u001b[0m\n\u001b[1;32m      2\u001b[0m \u001b[0mtimepoints_ssm\u001b[0m \u001b[0;34m=\u001b[0m \u001b[0mnp\u001b[0m\u001b[0;34m.\u001b[0m\u001b[0mlinspace\u001b[0m\u001b[0;34m(\u001b[0m\u001b[0;36m0\u001b[0m\u001b[0;34m,\u001b[0m\u001b[0;36m100\u001b[0m\u001b[0;34m,\u001b[0m\u001b[0;36m10\u001b[0m\u001b[0;34m)\u001b[0m\u001b[0;34m\u001b[0m\u001b[0;34m\u001b[0m\u001b[0m\n\u001b[1;32m      3\u001b[0m \u001b[0msys_ssm\u001b[0m \u001b[0;34m=\u001b[0m \u001b[0mget_SSM\u001b[0m\u001b[0;34m(\u001b[0m\u001b[0msys\u001b[0m\u001b[0;34m,\u001b[0m \u001b[0mtimepoints_ssm\u001b[0m\u001b[0;34m)\u001b[0m\u001b[0;34m\u001b[0m\u001b[0;34m\u001b[0m\u001b[0m\n\u001b[0;32m----> 4\u001b[0;31m \u001b[0mSs\u001b[0m \u001b[0;34m=\u001b[0m \u001b[0msys_ssm\u001b[0m\u001b[0;34m.\u001b[0m\u001b[0mcompute_SSM\u001b[0m\u001b[0;34m(\u001b[0m\u001b[0;34m)\u001b[0m \u001b[0;31m# len(timepoints) x len(params) x len(states)\u001b[0m\u001b[0;34m\u001b[0m\u001b[0;34m\u001b[0m\u001b[0m\n\u001b[0m\u001b[1;32m      5\u001b[0m \u001b[0mout_Ss\u001b[0m \u001b[0;34m=\u001b[0m \u001b[0;34m[\u001b[0m\u001b[0;34m]\u001b[0m\u001b[0;34m\u001b[0m\u001b[0;34m\u001b[0m\u001b[0m\n\u001b[1;32m      6\u001b[0m \u001b[0;32mfor\u001b[0m \u001b[0mi\u001b[0m \u001b[0;32min\u001b[0m \u001b[0mrange\u001b[0m\u001b[0;34m(\u001b[0m\u001b[0mlen\u001b[0m\u001b[0;34m(\u001b[0m\u001b[0mparams\u001b[0m\u001b[0;34m)\u001b[0m\u001b[0;34m)\u001b[0m\u001b[0;34m:\u001b[0m\u001b[0;34m\u001b[0m\u001b[0;34m\u001b[0m\u001b[0m\n",
      "\u001b[0;32m~/opt/anaconda3/lib/python3.7/site-packages/auto_reduce-0.1-py3.7.egg/auto_reduce/local_sensitivity.py\u001b[0m in \u001b[0;36mcompute_SSM\u001b[0;34m(self, normalize, **kwargs)\u001b[0m\n\u001b[1;32m    157\u001b[0m                 \u001b[0;32mcontinue\u001b[0m\u001b[0;34m\u001b[0m\u001b[0;34m\u001b[0m\u001b[0m\n\u001b[1;32m    158\u001b[0m             \u001b[0;31m# get the jacobian matrix\u001b[0m\u001b[0;34m\u001b[0m\u001b[0;34m\u001b[0m\u001b[0;34m\u001b[0m\u001b[0m\n\u001b[0;32m--> 159\u001b[0;31m             \u001b[0mJ\u001b[0m \u001b[0;34m=\u001b[0m \u001b[0mself\u001b[0m\u001b[0;34m.\u001b[0m\u001b[0mcompute_J\u001b[0m\u001b[0;34m(\u001b[0m\u001b[0mxs\u001b[0m\u001b[0;34m[\u001b[0m\u001b[0mk\u001b[0m\u001b[0;34m,\u001b[0m\u001b[0;34m:\u001b[0m\u001b[0;34m]\u001b[0m\u001b[0;34m,\u001b[0m \u001b[0;34m**\u001b[0m\u001b[0mkwargs\u001b[0m\u001b[0;34m)\u001b[0m\u001b[0;34m\u001b[0m\u001b[0;34m\u001b[0m\u001b[0m\n\u001b[0m\u001b[1;32m    160\u001b[0m             \u001b[0;31m#Solve for S = dx/dp for all x and all P (or theta, the parameters) at time point k\u001b[0m\u001b[0;34m\u001b[0m\u001b[0;34m\u001b[0m\u001b[0;34m\u001b[0m\u001b[0m\n\u001b[1;32m    161\u001b[0m             \u001b[0;32mfor\u001b[0m \u001b[0mj\u001b[0m \u001b[0;32min\u001b[0m \u001b[0mrange\u001b[0m\u001b[0;34m(\u001b[0m\u001b[0mlen\u001b[0m\u001b[0;34m(\u001b[0m\u001b[0mP\u001b[0m\u001b[0;34m)\u001b[0m\u001b[0;34m)\u001b[0m\u001b[0;34m:\u001b[0m\u001b[0;34m\u001b[0m\u001b[0;34m\u001b[0m\u001b[0m\n",
      "\u001b[0;32m~/opt/anaconda3/lib/python3.7/site-packages/auto_reduce-0.1-py3.7.egg/auto_reduce/local_sensitivity.py\u001b[0m in \u001b[0;36mcompute_J\u001b[0;34m(self, x, **kwargs)\u001b[0m\n\u001b[1;32m    112\u001b[0m                     \u001b[0mF\u001b[0m\u001b[0;34m[\u001b[0m\u001b[0;36m1\u001b[0m\u001b[0;34m]\u001b[0m \u001b[0;34m=\u001b[0m \u001b[0mf\u001b[0m\u001b[0;34m[\u001b[0m\u001b[0mi\u001b[0m\u001b[0;34m]\u001b[0m\u001b[0;34m\u001b[0m\u001b[0;34m\u001b[0m\u001b[0m\n\u001b[1;32m    113\u001b[0m                     \u001b[0mvar\u001b[0m\u001b[0;34m[\u001b[0m\u001b[0mj\u001b[0m\u001b[0;34m]\u001b[0m \u001b[0;34m=\u001b[0m \u001b[0mX\u001b[0m\u001b[0;34m[\u001b[0m\u001b[0mj\u001b[0m\u001b[0;34m]\u001b[0m \u001b[0;34m-\u001b[0m \u001b[0mh\u001b[0m\u001b[0;34m\u001b[0m\u001b[0;34m\u001b[0m\u001b[0m\n\u001b[0;32m--> 114\u001b[0;31m                     \u001b[0mf\u001b[0m \u001b[0;34m=\u001b[0m \u001b[0mself\u001b[0m\u001b[0;34m.\u001b[0m\u001b[0mevaluate\u001b[0m\u001b[0;34m(\u001b[0m\u001b[0mfun\u001b[0m\u001b[0;34m,\u001b[0m \u001b[0mvar\u001b[0m\u001b[0;34m,\u001b[0m \u001b[0mP\u001b[0m\u001b[0;34m,\u001b[0m \u001b[0mu\u001b[0m\u001b[0;34m)\u001b[0m\u001b[0;34m\u001b[0m\u001b[0;34m\u001b[0m\u001b[0m\n\u001b[0m\u001b[1;32m    115\u001b[0m                     \u001b[0mF\u001b[0m\u001b[0;34m[\u001b[0m\u001b[0;36m2\u001b[0m\u001b[0;34m]\u001b[0m \u001b[0;34m=\u001b[0m \u001b[0mf\u001b[0m\u001b[0;34m[\u001b[0m\u001b[0mi\u001b[0m\u001b[0;34m]\u001b[0m\u001b[0;34m\u001b[0m\u001b[0;34m\u001b[0m\u001b[0m\n\u001b[1;32m    116\u001b[0m                     \u001b[0mvar\u001b[0m\u001b[0;34m[\u001b[0m\u001b[0mj\u001b[0m\u001b[0;34m]\u001b[0m \u001b[0;34m=\u001b[0m \u001b[0mX\u001b[0m\u001b[0;34m[\u001b[0m\u001b[0mj\u001b[0m\u001b[0;34m]\u001b[0m \u001b[0;34m-\u001b[0m \u001b[0;36m2\u001b[0m\u001b[0;34m*\u001b[0m\u001b[0mh\u001b[0m\u001b[0;34m\u001b[0m\u001b[0;34m\u001b[0m\u001b[0m\n",
      "\u001b[0;32m~/opt/anaconda3/lib/python3.7/site-packages/auto_reduce-0.1-py3.7.egg/auto_reduce/system.py\u001b[0m in \u001b[0;36mevaluate\u001b[0;34m(self, f, x, P, u)\u001b[0m\n\u001b[1;32m     78\u001b[0m         \u001b[0;32mfor\u001b[0m \u001b[0mi\u001b[0m \u001b[0;32min\u001b[0m \u001b[0mrange\u001b[0m\u001b[0;34m(\u001b[0m\u001b[0mlen\u001b[0m\u001b[0;34m(\u001b[0m\u001b[0mf\u001b[0m\u001b[0;34m)\u001b[0m\u001b[0;34m)\u001b[0m\u001b[0;34m:\u001b[0m\u001b[0;34m\u001b[0m\u001b[0;34m\u001b[0m\u001b[0m\n\u001b[1;32m     79\u001b[0m             \u001b[0mfi\u001b[0m \u001b[0;34m=\u001b[0m \u001b[0mf\u001b[0m\u001b[0;34m[\u001b[0m\u001b[0mi\u001b[0m\u001b[0;34m]\u001b[0m\u001b[0;34m\u001b[0m\u001b[0;34m\u001b[0m\u001b[0m\n\u001b[0;32m---> 80\u001b[0;31m             \u001b[0mfi\u001b[0m \u001b[0;34m=\u001b[0m \u001b[0mfi\u001b[0m\u001b[0;34m.\u001b[0m\u001b[0msubs\u001b[0m\u001b[0;34m(\u001b[0m\u001b[0mlist\u001b[0m\u001b[0;34m(\u001b[0m\u001b[0mzip\u001b[0m\u001b[0;34m(\u001b[0m\u001b[0mself\u001b[0m\u001b[0;34m.\u001b[0m\u001b[0mx\u001b[0m\u001b[0;34m,\u001b[0m \u001b[0mx\u001b[0m\u001b[0;34m)\u001b[0m\u001b[0;34m)\u001b[0m\u001b[0;34m)\u001b[0m\u001b[0;34m\u001b[0m\u001b[0;34m\u001b[0m\u001b[0m\n\u001b[0m\u001b[1;32m     81\u001b[0m             \u001b[0;32mif\u001b[0m \u001b[0mself\u001b[0m\u001b[0;34m.\u001b[0m\u001b[0mu\u001b[0m \u001b[0;32mis\u001b[0m \u001b[0;32mnot\u001b[0m \u001b[0;32mNone\u001b[0m\u001b[0;34m:\u001b[0m\u001b[0;34m\u001b[0m\u001b[0;34m\u001b[0m\u001b[0m\n\u001b[1;32m     82\u001b[0m                 \u001b[0mfi\u001b[0m \u001b[0;34m=\u001b[0m \u001b[0mfi\u001b[0m\u001b[0;34m.\u001b[0m\u001b[0msubs\u001b[0m\u001b[0;34m(\u001b[0m\u001b[0mlist\u001b[0m\u001b[0;34m(\u001b[0m\u001b[0mzip\u001b[0m\u001b[0;34m(\u001b[0m\u001b[0mself\u001b[0m\u001b[0;34m.\u001b[0m\u001b[0mu\u001b[0m\u001b[0;34m,\u001b[0m \u001b[0mu\u001b[0m\u001b[0;34m)\u001b[0m\u001b[0;34m)\u001b[0m\u001b[0;34m)\u001b[0m\u001b[0;34m\u001b[0m\u001b[0;34m\u001b[0m\u001b[0m\n",
      "\u001b[0;32m~/opt/anaconda3/lib/python3.7/site-packages/sympy/core/basic.py\u001b[0m in \u001b[0;36msubs\u001b[0;34m(self, *args, **kwargs)\u001b[0m\n\u001b[1;32m    955\u001b[0m                 \u001b[0;32mcontinue\u001b[0m\u001b[0;34m\u001b[0m\u001b[0;34m\u001b[0m\u001b[0m\n\u001b[1;32m    956\u001b[0m             \u001b[0;31m# skip if there is no change\u001b[0m\u001b[0;34m\u001b[0m\u001b[0;34m\u001b[0m\u001b[0;34m\u001b[0m\u001b[0m\n\u001b[0;32m--> 957\u001b[0;31m             \u001b[0msequence\u001b[0m\u001b[0;34m[\u001b[0m\u001b[0mi\u001b[0m\u001b[0;34m]\u001b[0m \u001b[0;34m=\u001b[0m \u001b[0;32mNone\u001b[0m \u001b[0;32mif\u001b[0m \u001b[0m_aresame\u001b[0m\u001b[0;34m(\u001b[0m\u001b[0;34m*\u001b[0m\u001b[0ms\u001b[0m\u001b[0;34m)\u001b[0m \u001b[0;32melse\u001b[0m \u001b[0mtuple\u001b[0m\u001b[0;34m(\u001b[0m\u001b[0ms\u001b[0m\u001b[0;34m)\u001b[0m\u001b[0;34m\u001b[0m\u001b[0;34m\u001b[0m\u001b[0m\n\u001b[0m\u001b[1;32m    958\u001b[0m         \u001b[0msequence\u001b[0m \u001b[0;34m=\u001b[0m \u001b[0mlist\u001b[0m\u001b[0;34m(\u001b[0m\u001b[0mfilter\u001b[0m\u001b[0;34m(\u001b[0m\u001b[0;32mNone\u001b[0m\u001b[0;34m,\u001b[0m \u001b[0msequence\u001b[0m\u001b[0;34m)\u001b[0m\u001b[0;34m)\u001b[0m\u001b[0;34m\u001b[0m\u001b[0;34m\u001b[0m\u001b[0m\n\u001b[1;32m    959\u001b[0m \u001b[0;34m\u001b[0m\u001b[0m\n",
      "\u001b[0;32m~/opt/anaconda3/lib/python3.7/site-packages/sympy/core/basic.py\u001b[0m in \u001b[0;36m_aresame\u001b[0;34m(a, b)\u001b[0m\n\u001b[1;32m   1917\u001b[0m     \"\"\"\n\u001b[1;32m   1918\u001b[0m     \u001b[0;32mfrom\u001b[0m \u001b[0;34m.\u001b[0m\u001b[0mnumbers\u001b[0m \u001b[0;32mimport\u001b[0m \u001b[0mNumber\u001b[0m\u001b[0;34m\u001b[0m\u001b[0;34m\u001b[0m\u001b[0m\n\u001b[0;32m-> 1919\u001b[0;31m     \u001b[0;32mfrom\u001b[0m \u001b[0;34m.\u001b[0m\u001b[0mfunction\u001b[0m \u001b[0;32mimport\u001b[0m \u001b[0mAppliedUndef\u001b[0m\u001b[0;34m,\u001b[0m \u001b[0mUndefinedFunction\u001b[0m \u001b[0;32mas\u001b[0m \u001b[0mUndefFunc\u001b[0m\u001b[0;34m\u001b[0m\u001b[0;34m\u001b[0m\u001b[0m\n\u001b[0m\u001b[1;32m   1920\u001b[0m     \u001b[0;32mif\u001b[0m \u001b[0misinstance\u001b[0m\u001b[0;34m(\u001b[0m\u001b[0ma\u001b[0m\u001b[0;34m,\u001b[0m \u001b[0mNumber\u001b[0m\u001b[0;34m)\u001b[0m \u001b[0;32mand\u001b[0m \u001b[0misinstance\u001b[0m\u001b[0;34m(\u001b[0m\u001b[0mb\u001b[0m\u001b[0;34m,\u001b[0m \u001b[0mNumber\u001b[0m\u001b[0;34m)\u001b[0m\u001b[0;34m:\u001b[0m\u001b[0;34m\u001b[0m\u001b[0;34m\u001b[0m\u001b[0m\n\u001b[1;32m   1921\u001b[0m         \u001b[0;32mreturn\u001b[0m \u001b[0ma\u001b[0m \u001b[0;34m==\u001b[0m \u001b[0mb\u001b[0m \u001b[0;32mand\u001b[0m \u001b[0ma\u001b[0m\u001b[0;34m.\u001b[0m\u001b[0m__class__\u001b[0m \u001b[0;34m==\u001b[0m \u001b[0mb\u001b[0m\u001b[0;34m.\u001b[0m\u001b[0m__class__\u001b[0m\u001b[0;34m\u001b[0m\u001b[0;34m\u001b[0m\u001b[0m\n",
      "\u001b[0;32m~/opt/anaconda3/lib/python3.7/importlib/_bootstrap.py\u001b[0m in \u001b[0;36m_handle_fromlist\u001b[0;34m(module, fromlist, import_, recursive)\u001b[0m\n",
      "\u001b[0;31mKeyboardInterrupt\u001b[0m: "
     ]
    }
   ],
   "source": [
    "from auto_reduce.utils import get_SSM\n",
    "timepoints_ssm = np.linspace(0,100,10)\n",
    "sys_ssm = get_SSM(sys, timepoints_ssm)\n",
    "Ss = sys_ssm.compute_SSM() # len(timepoints) x len(params) x len(states)\n",
    "out_Ss = []\n",
    "for i in range(len(params)):\n",
    "    out_Ss.append((np.array(C)@(Ss[:,i,:].T)))\n",
    "out_Ss = np.reshape(np.array(out_Ss), (len(timepoints_ssm), len(params), nouts))"
   ]
  },
  {
   "cell_type": "code",
   "execution_count": null,
   "metadata": {},
   "outputs": [],
   "source": [
    "import seaborn as sn\n",
    "for j in range(nouts):\n",
    "    sn.heatmap(out_Ss[:,:,j].T)\n",
    "    plt.xlabel('Time')\n",
    "    plt.ylabel('Parameters')\n",
    "    plt.title('Sensitivity of output[{0}] with respect to all parameters'.format(j))\n",
    "    plt.show()"
   ]
  },
  {
   "cell_type": "markdown",
   "metadata": {},
   "source": [
    "## Try to do timescale separation"
   ]
  },
  {
   "cell_type": "code",
   "execution_count": 57,
   "metadata": {},
   "outputs": [],
   "source": [
    "# Define list of indices to remove\n",
    "#i_list = [5,6,9,10,17,18,23,24,28,29,31,32,35,36,39,40,43,44,47,48,51,52,55,56,59,60,63,64,66,67]\n",
    "i_list = [5]\n",
    "\n",
    "# Get appropriate list of complexes with indices in i_list\n",
    "timescale_list = []\n",
    "for i in i_list:\n",
    "    #/print(i)\n",
    "    timescale_list.append(x[i])\n",
    "\n",
    "# Get appropriate list of complexes that are not in timescale_list\n",
    "# What you should pass into solve_timescale_separation\n",
    "update_timescale = []\n",
    "for item in x:\n",
    "    if item not in timescale_list:\n",
    "        update_timescale.append(item)\n",
    "        \n",
    "\n"
   ]
  },
  {
   "cell_type": "code",
   "execution_count": 58,
   "metadata": {},
   "outputs": [],
   "source": [
    "timepoints_ssm = np.linspace(0,100,10)\n",
    "timepoints_ode = np.linspace(0, 100, 10)\n",
    "sys_reduce = reduce(sys, timepoints_ode, timepoints_ssm)"
   ]
  },
  {
   "cell_type": "markdown",
   "metadata": {},
   "source": [
    "Try solve_timescale_separation. Should pass in all the species/complexes that you want to keep."
   ]
  },
  {
   "cell_type": "code",
   "execution_count": 59,
   "metadata": {},
   "outputs": [
    {
     "name": "stdout",
     "output_type": "stream",
     "text": [
      "attempting reduced states index: [0, 1, 2, 3, 4, 6, 7, 8, 9, 10, 11, 12, 13, 14, 15, 16, 17, 18, 19, 20, 21, 22, 23, 24, 25, 26, 27, 28, 29, 30, 31, 32, 33, 34, 35, 36, 37, 38, 39, 40, 41, 42, 43, 44, 45, 46, 47, 48, 49, 50, 51, 52, 53, 54, 55, 56, 57, 58, 59, 60, 61, 62, 63, 64, 65, 66, 67]\n"
     ]
    },
    {
     "name": "stderr",
     "output_type": "stream",
     "text": [
      "/Users/ankitaroychoudhury/opt/anaconda3/lib/python3.7/site-packages/sympy/core/relational.py:470: SymPyDeprecationWarning: \n",
      "\n",
      "Eq(expr) with rhs default to 0 has been deprecated since SymPy 1.5.\n",
      "Use Eq(expr, 0) instead. See\n",
      "https://github.com/sympy/sympy/issues/16587 for more info.\n",
      "\n",
      "  deprecated_since_version=\"1.5\"\n"
     ]
    },
    {
     "ename": "KeyboardInterrupt",
     "evalue": "",
     "output_type": "error",
     "traceback": [
      "\u001b[0;31m---------------------------------------------------------------------------\u001b[0m",
      "\u001b[0;31mKeyboardInterrupt\u001b[0m                         Traceback (most recent call last)",
      "\u001b[0;32m<ipython-input-59-611b3dd5ab53>\u001b[0m in \u001b[0;36m<module>\u001b[0;34m\u001b[0m\n\u001b[0;32m----> 1\u001b[0;31m \u001b[0maa\u001b[0m\u001b[0;34m,\u001b[0m\u001b[0mbb\u001b[0m \u001b[0;34m=\u001b[0m \u001b[0msys_reduce\u001b[0m\u001b[0;34m.\u001b[0m\u001b[0msolve_timescale_separation\u001b[0m\u001b[0;34m(\u001b[0m\u001b[0mupdate_timescale\u001b[0m\u001b[0;34m)\u001b[0m\u001b[0;34m\u001b[0m\u001b[0;34m\u001b[0m\u001b[0m\n\u001b[0m",
      "\u001b[0;32m~/opt/anaconda3/lib/python3.7/site-packages/auto_reduce-0.1-py3.7.egg/auto_reduce/model_reduction.py\u001b[0m in \u001b[0;36msolve_timescale_separation\u001b[0;34m(self, attempt_states)\u001b[0m\n\u001b[1;32m    276\u001b[0m                     \u001b[0mcount\u001b[0m \u001b[0;34m=\u001b[0m \u001b[0;34m-\u001b[0m\u001b[0;36m1\u001b[0m\u001b[0;34m\u001b[0m\u001b[0;34m\u001b[0m\u001b[0m\n\u001b[1;32m    277\u001b[0m                     \u001b[0;32mcontinue\u001b[0m\u001b[0;34m\u001b[0m\u001b[0;34m\u001b[0m\u001b[0m\n\u001b[0;32m--> 278\u001b[0;31m                 \u001b[0msym\u001b[0m \u001b[0;34m=\u001b[0m \u001b[0mlist\u001b[0m\u001b[0;34m(\u001b[0m\u001b[0mx_c_sub\u001b[0m\u001b[0;34m[\u001b[0m\u001b[0;36m0\u001b[0m\u001b[0;34m]\u001b[0m\u001b[0;34m.\u001b[0m\u001b[0mfree_symbols\u001b[0m\u001b[0;34m)\u001b[0m\u001b[0;34m[\u001b[0m\u001b[0mcount\u001b[0m\u001b[0;34m]\u001b[0m\u001b[0;34m\u001b[0m\u001b[0;34m\u001b[0m\u001b[0m\n\u001b[0m\u001b[1;32m    279\u001b[0m                 \u001b[0;32mif\u001b[0m \u001b[0msym\u001b[0m \u001b[0;32mnot\u001b[0m \u001b[0;32min\u001b[0m \u001b[0mx\u001b[0m\u001b[0;34m:\u001b[0m\u001b[0;34m\u001b[0m\u001b[0;34m\u001b[0m\u001b[0m\n\u001b[1;32m    280\u001b[0m                     \u001b[0mcount\u001b[0m \u001b[0;34m=\u001b[0m \u001b[0mcount\u001b[0m \u001b[0;34m+\u001b[0m \u001b[0;36m1\u001b[0m\u001b[0;34m\u001b[0m\u001b[0;34m\u001b[0m\u001b[0m\n",
      "\u001b[0;32m~/opt/anaconda3/lib/python3.7/site-packages/sympy/core/basic.py\u001b[0m in \u001b[0;36mfree_symbols\u001b[0;34m(self)\u001b[0m\n\u001b[1;32m    526\u001b[0m         \u001b[0mAny\u001b[0m \u001b[0mother\u001b[0m \u001b[0mmethod\u001b[0m \u001b[0mthat\u001b[0m \u001b[0muses\u001b[0m \u001b[0mbound\u001b[0m \u001b[0mvariables\u001b[0m \u001b[0mshould\u001b[0m \u001b[0mimplement\u001b[0m \u001b[0ma\u001b[0m\u001b[0;34m\u001b[0m\u001b[0;34m\u001b[0m\u001b[0m\n\u001b[1;32m    527\u001b[0m         free_symbols method.\"\"\"\n\u001b[0;32m--> 528\u001b[0;31m         \u001b[0;32mreturn\u001b[0m \u001b[0mset\u001b[0m\u001b[0;34m(\u001b[0m\u001b[0;34m)\u001b[0m\u001b[0;34m.\u001b[0m\u001b[0munion\u001b[0m\u001b[0;34m(\u001b[0m\u001b[0;34m*\u001b[0m\u001b[0;34m[\u001b[0m\u001b[0ma\u001b[0m\u001b[0;34m.\u001b[0m\u001b[0mfree_symbols\u001b[0m \u001b[0;32mfor\u001b[0m \u001b[0ma\u001b[0m \u001b[0;32min\u001b[0m \u001b[0mself\u001b[0m\u001b[0;34m.\u001b[0m\u001b[0margs\u001b[0m\u001b[0;34m]\u001b[0m\u001b[0;34m)\u001b[0m\u001b[0;34m\u001b[0m\u001b[0;34m\u001b[0m\u001b[0m\n\u001b[0m\u001b[1;32m    529\u001b[0m \u001b[0;34m\u001b[0m\u001b[0m\n\u001b[1;32m    530\u001b[0m     \u001b[0;34m@\u001b[0m\u001b[0mproperty\u001b[0m\u001b[0;34m\u001b[0m\u001b[0;34m\u001b[0m\u001b[0m\n",
      "\u001b[0;32m~/opt/anaconda3/lib/python3.7/site-packages/sympy/core/basic.py\u001b[0m in \u001b[0;36m<listcomp>\u001b[0;34m(.0)\u001b[0m\n\u001b[1;32m    526\u001b[0m         \u001b[0mAny\u001b[0m \u001b[0mother\u001b[0m \u001b[0mmethod\u001b[0m \u001b[0mthat\u001b[0m \u001b[0muses\u001b[0m \u001b[0mbound\u001b[0m \u001b[0mvariables\u001b[0m \u001b[0mshould\u001b[0m \u001b[0mimplement\u001b[0m \u001b[0ma\u001b[0m\u001b[0;34m\u001b[0m\u001b[0;34m\u001b[0m\u001b[0m\n\u001b[1;32m    527\u001b[0m         free_symbols method.\"\"\"\n\u001b[0;32m--> 528\u001b[0;31m         \u001b[0;32mreturn\u001b[0m \u001b[0mset\u001b[0m\u001b[0;34m(\u001b[0m\u001b[0;34m)\u001b[0m\u001b[0;34m.\u001b[0m\u001b[0munion\u001b[0m\u001b[0;34m(\u001b[0m\u001b[0;34m*\u001b[0m\u001b[0;34m[\u001b[0m\u001b[0ma\u001b[0m\u001b[0;34m.\u001b[0m\u001b[0mfree_symbols\u001b[0m \u001b[0;32mfor\u001b[0m \u001b[0ma\u001b[0m \u001b[0;32min\u001b[0m \u001b[0mself\u001b[0m\u001b[0;34m.\u001b[0m\u001b[0margs\u001b[0m\u001b[0;34m]\u001b[0m\u001b[0;34m)\u001b[0m\u001b[0;34m\u001b[0m\u001b[0;34m\u001b[0m\u001b[0m\n\u001b[0m\u001b[1;32m    529\u001b[0m \u001b[0;34m\u001b[0m\u001b[0m\n\u001b[1;32m    530\u001b[0m     \u001b[0;34m@\u001b[0m\u001b[0mproperty\u001b[0m\u001b[0;34m\u001b[0m\u001b[0;34m\u001b[0m\u001b[0m\n",
      "\u001b[0;32m~/opt/anaconda3/lib/python3.7/site-packages/sympy/core/symbol.py\u001b[0m in \u001b[0;36mfree_symbols\u001b[0;34m(self)\u001b[0m\n\u001b[1;32m    309\u001b[0m     \u001b[0;34m@\u001b[0m\u001b[0mproperty\u001b[0m\u001b[0;34m\u001b[0m\u001b[0;34m\u001b[0m\u001b[0m\n\u001b[1;32m    310\u001b[0m     \u001b[0;32mdef\u001b[0m \u001b[0mfree_symbols\u001b[0m\u001b[0;34m(\u001b[0m\u001b[0mself\u001b[0m\u001b[0;34m)\u001b[0m\u001b[0;34m:\u001b[0m\u001b[0;34m\u001b[0m\u001b[0;34m\u001b[0m\u001b[0m\n\u001b[0;32m--> 311\u001b[0;31m         \u001b[0;32mreturn\u001b[0m \u001b[0;34m{\u001b[0m\u001b[0mself\u001b[0m\u001b[0;34m}\u001b[0m\u001b[0;34m\u001b[0m\u001b[0;34m\u001b[0m\u001b[0m\n\u001b[0m\u001b[1;32m    312\u001b[0m \u001b[0;34m\u001b[0m\u001b[0m\n\u001b[1;32m    313\u001b[0m     \u001b[0mbinary_symbols\u001b[0m \u001b[0;34m=\u001b[0m \u001b[0mfree_symbols\u001b[0m  \u001b[0;31m# in this case, not always\u001b[0m\u001b[0;34m\u001b[0m\u001b[0;34m\u001b[0m\u001b[0m\n",
      "\u001b[0;32m~/opt/anaconda3/lib/python3.7/site-packages/sympy/core/expr.py\u001b[0m in \u001b[0;36m__hash__\u001b[0;34m(self)\u001b[0m\n\u001b[1;32m    102\u001b[0m         \u001b[0;32mreturn\u001b[0m \u001b[0mexpr\u001b[0m\u001b[0;34m.\u001b[0m\u001b[0mclass_key\u001b[0m\u001b[0;34m(\u001b[0m\u001b[0;34m)\u001b[0m\u001b[0;34m,\u001b[0m \u001b[0margs\u001b[0m\u001b[0;34m,\u001b[0m \u001b[0mexp\u001b[0m\u001b[0;34m,\u001b[0m \u001b[0mcoeff\u001b[0m\u001b[0;34m\u001b[0m\u001b[0;34m\u001b[0m\u001b[0m\n\u001b[1;32m    103\u001b[0m \u001b[0;34m\u001b[0m\u001b[0m\n\u001b[0;32m--> 104\u001b[0;31m     \u001b[0;32mdef\u001b[0m \u001b[0m__hash__\u001b[0m\u001b[0;34m(\u001b[0m\u001b[0mself\u001b[0m\u001b[0;34m)\u001b[0m\u001b[0;34m:\u001b[0m\u001b[0;34m\u001b[0m\u001b[0;34m\u001b[0m\u001b[0m\n\u001b[0m\u001b[1;32m    105\u001b[0m         \u001b[0;31m# hash cannot be cached using cache_it because infinite recurrence\u001b[0m\u001b[0;34m\u001b[0m\u001b[0;34m\u001b[0m\u001b[0;34m\u001b[0m\u001b[0m\n\u001b[1;32m    106\u001b[0m         \u001b[0;31m# occurs as hash is needed for setting cache dictionary keys\u001b[0m\u001b[0;34m\u001b[0m\u001b[0;34m\u001b[0m\u001b[0;34m\u001b[0m\u001b[0m\n",
      "\u001b[0;31mKeyboardInterrupt\u001b[0m: "
     ]
    }
   ],
   "source": [
    "aa,bb = sys_reduce.solve_timescale_separation(update_timescale)"
   ]
  },
  {
   "cell_type": "code",
   "execution_count": null,
   "metadata": {},
   "outputs": [],
   "source": []
  }
 ],
 "metadata": {
  "kernelspec": {
   "display_name": "Python 3",
   "language": "python",
   "name": "python3"
  },
  "language_info": {
   "codemirror_mode": {
    "name": "ipython",
    "version": 3
   },
   "file_extension": ".py",
   "mimetype": "text/x-python",
   "name": "python",
   "nbconvert_exporter": "python",
   "pygments_lexer": "ipython3",
   "version": "3.7.7"
  }
 },
 "nbformat": 4,
 "nbformat_minor": 4
}
