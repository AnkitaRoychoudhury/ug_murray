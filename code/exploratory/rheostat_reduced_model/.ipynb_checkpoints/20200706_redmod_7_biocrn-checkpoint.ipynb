{
 "cells": [
  {
   "cell_type": "markdown",
   "metadata": {},
   "source": [
    "# Try HillPositive in BioCRNPyler\n",
    "Same reduced model? Have KM and Kcat from paper<br>\n",
    "7.5.2020"
   ]
  },
  {
   "cell_type": "markdown",
   "metadata": {},
   "source": [
    "We will use bioscrape positive hill function. For parameters, we will use 'rate' as k_cat, which are indicated as enzyme activity in the paper supplement. Then, we will estimate K_M for each enzyme from online source."
   ]
  },
  {
   "cell_type": "code",
   "execution_count": null,
   "metadata": {},
   "outputs": [],
   "source": []
  },
  {
   "cell_type": "code",
   "execution_count": null,
   "metadata": {},
   "outputs": [],
   "source": [
    "E1_hex = Enzyme(enzyme_name = \"hex\", substrate = ['glucose'],\n",
    "                fuel = ['atp'],product = ['g6p'], waste = ['adp'], k_bf = k_bf , k_uf = k_uf)\n",
    "\n",
    "    E2_pgi = Enzyme(enzyme_name = 'pgi', substrate = ['g6p'], fuel = [],\n",
    "               product = ['f6p'], waste = [], k_bf = k_bf , k_uf = k_uf)\n",
    "\n",
    "    E3_pfk = Enzyme(enzyme_name = 'pfk', substrate = ['f6p'], fuel = ['atp'], product = ['f16p'],\n",
    "               waste = ['adp'], k_bf = k_bf , k_uf = k_uf)\n",
    "\n",
    "    E4_ald_tpi = Enzyme(enzyme_name ='ald_tpi' , substrate = ['f16p'], fuel = [], product = ['g3p', 'g3p'], \n",
    "                waste = [], k_bf = k_bf , k_uf = k_uf )\n",
    "\n",
    "    E5_gapN = Enzyme(enzyme_name ='gapN' , substrate = ['g3p', 'g3p'], fuel = ['nadp', 'nadp'], product = ['3pg', '3pg'], \n",
    "                waste = ['nadph', 'nadph'], k_bf = k_bf , k_uf = k_uf)\n",
    "\n",
    "    E6_gapM6 = Enzyme(enzyme_name ='gapM6' , substrate = ['g3p', 'g3p'], fuel = ['pi'], product = ['13bpg'], \n",
    "                waste = [],k_bf = k_bf , k_uf = k_uf)\n",
    "\n",
    "    E7_pgk = Enzyme(enzyme_name = 'pgk', substrate = ['13bpg'], fuel = ['adp'], product = ['3pg', '3pg'], \n",
    "                waste = ['atp'], k_bf = k_bf , k_uf = k_uf)\n",
    "\n",
    "    E8_pgm = Enzyme(enzyme_name ='pgm' , substrate = ['3pg', '3pg'], fuel = [], product = ['2pg', '2pg'], \n",
    "                waste = [], k_bf = k_bf , k_uf = k_uf)\n",
    "\n",
    "    E9_eno = Enzyme(enzyme_name ='eno' , substrate = ['2pg', '2pg'], fuel = [], product = ['pep', 'pep'], \n",
    "                waste = [],k_bf = k_bf , k_uf = k_uf)\n",
    "\n",
    "    E10_pyk = Enzyme(enzyme_name = 'pyk', substrate = ['pep', 'pep'], fuel = ['adp', 'adp'], product = ['pyruvate', 'pyruvate'], \n",
    "                waste = ['atp', 'atp'], k_bf = k_bf , k_uf = k_uf) # irreversible\n",
    "\n",
    "    E11_alsS = Enzyme(enzyme_name = 'alsS', substrate = ['pyruvate', 'pyruvate'], fuel = [], product = ['acetolac'], \n",
    "                waste = [], k_bf = k_bf , k_uf = k_uf) # irreversible\n",
    "\n",
    "    E12_IlvC = Enzyme(enzyme_name = 'IlvC', substrate = ['acetolac'], fuel = ['nadph'], product = ['23dih3mebut'], \n",
    "                waste = ['nadp'], k_bf = k_bf , k_uf = k_uf)\n",
    "\n",
    "    E13_IlvD = Enzyme(enzyme_name ='IlvD' , substrate = ['23dih3mebut'], fuel = [], product = ['3me2oxo'], \n",
    "                waste = [],k_bf = k_bf , k_uf = k_uf)\n",
    "\n",
    "    E14_kivD = Enzyme(enzyme_name ='kivD' , substrate = ['3me2oxo'], fuel = [], product = ['isobutanal'], \n",
    "                waste = [], k_bf = k_bf , k_uf = k_uf) # irreversible\n",
    "\n",
    "    E15_yahk = Enzyme(enzyme_name = 'yahk', substrate = ['isobutanal'], fuel = ['nadph'], product = ['isobutanol'],\n",
    "                      waste = ['nadp'], k_bf = k_bf , k_uf = k_uf)\n",
    "    \n",
    "    # Enzyme for ATP Leak\n",
    "    E16_atpase = Enzyme(enzyme_name = 'atpase', substrate = [], fuel = ['atp'], product = [],\n",
    "                        waste = ['adp', 'pi'], k_bf = k_bf, k_uf = k_uf, k_cat = k_cat_atp)"
   ]
  },
  {
   "cell_type": "code",
   "execution_count": null,
   "metadata": {},
   "outputs": [],
   "source": [
    "# or something like this from SBTools_BioCRNpyler lecture 2\n",
    "from biocrnpyler.chemical_reaction_network import Species, Reaction, ChemicalReactionNetwork\n",
    "delta = 0.1 \n",
    "K_X = 5\n",
    "K_S = 20\n",
    "S = Species(name = \"S\")\n",
    "X = Species(name = \"X\", material_type = \"protein\")\n",
    "rxn1 = Reaction([], [X], k = K_X, \n",
    "                propensity_type = \"hillpositive\", \n",
    "                propensity_params = {\"s1\":str(S), \"K\":K_S, \"n\":2})\n",
    "\n",
    "rxn2 = Reaction([X], [], k = delta)\n",
    "CRN_toy_model = ChemicalReactionNetwork(species = [S,X], reactions = [rxn1, rxn2])\n",
    "#Species, reactions, and CRNs can all be directly printed\n",
    "print('CRN for the toy model with non-massaction propensities:\\n',CRN_toy_model)"
   ]
  }
 ],
 "metadata": {
  "kernelspec": {
   "display_name": "Python 3",
   "language": "python",
   "name": "python3"
  },
  "language_info": {
   "codemirror_mode": {
    "name": "ipython",
    "version": 3
   },
   "file_extension": ".py",
   "mimetype": "text/x-python",
   "name": "python",
   "nbconvert_exporter": "python",
   "pygments_lexer": "ipython3",
   "version": "3.7.7"
  }
 },
 "nbformat": 4,
 "nbformat_minor": 4
}
