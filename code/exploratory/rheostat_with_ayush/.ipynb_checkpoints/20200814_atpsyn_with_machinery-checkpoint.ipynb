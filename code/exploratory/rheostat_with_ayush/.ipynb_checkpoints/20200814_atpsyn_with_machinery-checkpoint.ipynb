{
 "cells": [
  {
   "cell_type": "markdown",
   "metadata": {},
   "source": [
    "# Combine Sub-SBML models with TXTL Machinery\n",
    "---"
   ]
  },
  {
   "cell_type": "markdown",
   "metadata": {},
   "source": [
    "Do this so you can incorporate temperature control <br>\n",
    "2020.08.14"
   ]
  },
  {
   "cell_type": "code",
   "execution_count": 1,
   "metadata": {},
   "outputs": [
    {
     "data": {
      "text/html": [
       "\n",
       "    <div class=\"bk-root\">\n",
       "        <a href=\"https://bokeh.org\" target=\"_blank\" class=\"bk-logo bk-logo-small bk-logo-notebook\"></a>\n",
       "        <span id=\"1001\">Loading BokehJS ...</span>\n",
       "    </div>"
      ]
     },
     "metadata": {},
     "output_type": "display_data"
    },
    {
     "data": {
      "application/javascript": [
       "\n",
       "(function(root) {\n",
       "  function now() {\n",
       "    return new Date();\n",
       "  }\n",
       "\n",
       "  var force = true;\n",
       "\n",
       "  if (typeof root._bokeh_onload_callbacks === \"undefined\" || force === true) {\n",
       "    root._bokeh_onload_callbacks = [];\n",
       "    root._bokeh_is_loading = undefined;\n",
       "  }\n",
       "\n",
       "  var JS_MIME_TYPE = 'application/javascript';\n",
       "  var HTML_MIME_TYPE = 'text/html';\n",
       "  var EXEC_MIME_TYPE = 'application/vnd.bokehjs_exec.v0+json';\n",
       "  var CLASS_NAME = 'output_bokeh rendered_html';\n",
       "\n",
       "  /**\n",
       "   * Render data to the DOM node\n",
       "   */\n",
       "  function render(props, node) {\n",
       "    var script = document.createElement(\"script\");\n",
       "    node.appendChild(script);\n",
       "  }\n",
       "\n",
       "  /**\n",
       "   * Handle when an output is cleared or removed\n",
       "   */\n",
       "  function handleClearOutput(event, handle) {\n",
       "    var cell = handle.cell;\n",
       "\n",
       "    var id = cell.output_area._bokeh_element_id;\n",
       "    var server_id = cell.output_area._bokeh_server_id;\n",
       "    // Clean up Bokeh references\n",
       "    if (id != null && id in Bokeh.index) {\n",
       "      Bokeh.index[id].model.document.clear();\n",
       "      delete Bokeh.index[id];\n",
       "    }\n",
       "\n",
       "    if (server_id !== undefined) {\n",
       "      // Clean up Bokeh references\n",
       "      var cmd = \"from bokeh.io.state import curstate; print(curstate().uuid_to_server['\" + server_id + \"'].get_sessions()[0].document.roots[0]._id)\";\n",
       "      cell.notebook.kernel.execute(cmd, {\n",
       "        iopub: {\n",
       "          output: function(msg) {\n",
       "            var id = msg.content.text.trim();\n",
       "            if (id in Bokeh.index) {\n",
       "              Bokeh.index[id].model.document.clear();\n",
       "              delete Bokeh.index[id];\n",
       "            }\n",
       "          }\n",
       "        }\n",
       "      });\n",
       "      // Destroy server and session\n",
       "      var cmd = \"import bokeh.io.notebook as ion; ion.destroy_server('\" + server_id + \"')\";\n",
       "      cell.notebook.kernel.execute(cmd);\n",
       "    }\n",
       "  }\n",
       "\n",
       "  /**\n",
       "   * Handle when a new output is added\n",
       "   */\n",
       "  function handleAddOutput(event, handle) {\n",
       "    var output_area = handle.output_area;\n",
       "    var output = handle.output;\n",
       "\n",
       "    // limit handleAddOutput to display_data with EXEC_MIME_TYPE content only\n",
       "    if ((output.output_type != \"display_data\") || (!output.data.hasOwnProperty(EXEC_MIME_TYPE))) {\n",
       "      return\n",
       "    }\n",
       "\n",
       "    var toinsert = output_area.element.find(\".\" + CLASS_NAME.split(' ')[0]);\n",
       "\n",
       "    if (output.metadata[EXEC_MIME_TYPE][\"id\"] !== undefined) {\n",
       "      toinsert[toinsert.length - 1].firstChild.textContent = output.data[JS_MIME_TYPE];\n",
       "      // store reference to embed id on output_area\n",
       "      output_area._bokeh_element_id = output.metadata[EXEC_MIME_TYPE][\"id\"];\n",
       "    }\n",
       "    if (output.metadata[EXEC_MIME_TYPE][\"server_id\"] !== undefined) {\n",
       "      var bk_div = document.createElement(\"div\");\n",
       "      bk_div.innerHTML = output.data[HTML_MIME_TYPE];\n",
       "      var script_attrs = bk_div.children[0].attributes;\n",
       "      for (var i = 0; i < script_attrs.length; i++) {\n",
       "        toinsert[toinsert.length - 1].firstChild.setAttribute(script_attrs[i].name, script_attrs[i].value);\n",
       "      }\n",
       "      // store reference to server id on output_area\n",
       "      output_area._bokeh_server_id = output.metadata[EXEC_MIME_TYPE][\"server_id\"];\n",
       "    }\n",
       "  }\n",
       "\n",
       "  function register_renderer(events, OutputArea) {\n",
       "\n",
       "    function append_mime(data, metadata, element) {\n",
       "      // create a DOM node to render to\n",
       "      var toinsert = this.create_output_subarea(\n",
       "        metadata,\n",
       "        CLASS_NAME,\n",
       "        EXEC_MIME_TYPE\n",
       "      );\n",
       "      this.keyboard_manager.register_events(toinsert);\n",
       "      // Render to node\n",
       "      var props = {data: data, metadata: metadata[EXEC_MIME_TYPE]};\n",
       "      render(props, toinsert[toinsert.length - 1]);\n",
       "      element.append(toinsert);\n",
       "      return toinsert\n",
       "    }\n",
       "\n",
       "    /* Handle when an output is cleared or removed */\n",
       "    events.on('clear_output.CodeCell', handleClearOutput);\n",
       "    events.on('delete.Cell', handleClearOutput);\n",
       "\n",
       "    /* Handle when a new output is added */\n",
       "    events.on('output_added.OutputArea', handleAddOutput);\n",
       "\n",
       "    /**\n",
       "     * Register the mime type and append_mime function with output_area\n",
       "     */\n",
       "    OutputArea.prototype.register_mime_type(EXEC_MIME_TYPE, append_mime, {\n",
       "      /* Is output safe? */\n",
       "      safe: true,\n",
       "      /* Index of renderer in `output_area.display_order` */\n",
       "      index: 0\n",
       "    });\n",
       "  }\n",
       "\n",
       "  // register the mime type if in Jupyter Notebook environment and previously unregistered\n",
       "  if (root.Jupyter !== undefined) {\n",
       "    var events = require('base/js/events');\n",
       "    var OutputArea = require('notebook/js/outputarea').OutputArea;\n",
       "\n",
       "    if (OutputArea.prototype.mime_types().indexOf(EXEC_MIME_TYPE) == -1) {\n",
       "      register_renderer(events, OutputArea);\n",
       "    }\n",
       "  }\n",
       "\n",
       "  \n",
       "  if (typeof (root._bokeh_timeout) === \"undefined\" || force === true) {\n",
       "    root._bokeh_timeout = Date.now() + 5000;\n",
       "    root._bokeh_failed_load = false;\n",
       "  }\n",
       "\n",
       "  var NB_LOAD_WARNING = {'data': {'text/html':\n",
       "     \"<div style='background-color: #fdd'>\\n\"+\n",
       "     \"<p>\\n\"+\n",
       "     \"BokehJS does not appear to have successfully loaded. If loading BokehJS from CDN, this \\n\"+\n",
       "     \"may be due to a slow or bad network connection. Possible fixes:\\n\"+\n",
       "     \"</p>\\n\"+\n",
       "     \"<ul>\\n\"+\n",
       "     \"<li>re-rerun `output_notebook()` to attempt to load from CDN again, or</li>\\n\"+\n",
       "     \"<li>use INLINE resources instead, as so:</li>\\n\"+\n",
       "     \"</ul>\\n\"+\n",
       "     \"<code>\\n\"+\n",
       "     \"from bokeh.resources import INLINE\\n\"+\n",
       "     \"output_notebook(resources=INLINE)\\n\"+\n",
       "     \"</code>\\n\"+\n",
       "     \"</div>\"}};\n",
       "\n",
       "  function display_loaded() {\n",
       "    var el = document.getElementById(\"1001\");\n",
       "    if (el != null) {\n",
       "      el.textContent = \"BokehJS is loading...\";\n",
       "    }\n",
       "    if (root.Bokeh !== undefined) {\n",
       "      if (el != null) {\n",
       "        el.textContent = \"BokehJS \" + root.Bokeh.version + \" successfully loaded.\";\n",
       "      }\n",
       "    } else if (Date.now() < root._bokeh_timeout) {\n",
       "      setTimeout(display_loaded, 100)\n",
       "    }\n",
       "  }\n",
       "\n",
       "\n",
       "  function run_callbacks() {\n",
       "    try {\n",
       "      root._bokeh_onload_callbacks.forEach(function(callback) {\n",
       "        if (callback != null)\n",
       "          callback();\n",
       "      });\n",
       "    } finally {\n",
       "      delete root._bokeh_onload_callbacks\n",
       "    }\n",
       "    console.debug(\"Bokeh: all callbacks have finished\");\n",
       "  }\n",
       "\n",
       "  function load_libs(css_urls, js_urls, callback) {\n",
       "    if (css_urls == null) css_urls = [];\n",
       "    if (js_urls == null) js_urls = [];\n",
       "\n",
       "    root._bokeh_onload_callbacks.push(callback);\n",
       "    if (root._bokeh_is_loading > 0) {\n",
       "      console.debug(\"Bokeh: BokehJS is being loaded, scheduling callback at\", now());\n",
       "      return null;\n",
       "    }\n",
       "    if (js_urls == null || js_urls.length === 0) {\n",
       "      run_callbacks();\n",
       "      return null;\n",
       "    }\n",
       "    console.debug(\"Bokeh: BokehJS not loaded, scheduling load and callback at\", now());\n",
       "    root._bokeh_is_loading = css_urls.length + js_urls.length;\n",
       "\n",
       "    function on_load() {\n",
       "      root._bokeh_is_loading--;\n",
       "      if (root._bokeh_is_loading === 0) {\n",
       "        console.debug(\"Bokeh: all BokehJS libraries/stylesheets loaded\");\n",
       "        run_callbacks()\n",
       "      }\n",
       "    }\n",
       "\n",
       "    function on_error() {\n",
       "      console.error(\"failed to load \" + url);\n",
       "    }\n",
       "\n",
       "    for (var i = 0; i < css_urls.length; i++) {\n",
       "      var url = css_urls[i];\n",
       "      const element = document.createElement(\"link\");\n",
       "      element.onload = on_load;\n",
       "      element.onerror = on_error;\n",
       "      element.rel = \"stylesheet\";\n",
       "      element.type = \"text/css\";\n",
       "      element.href = url;\n",
       "      console.debug(\"Bokeh: injecting link tag for BokehJS stylesheet: \", url);\n",
       "      document.body.appendChild(element);\n",
       "    }\n",
       "\n",
       "    for (var i = 0; i < js_urls.length; i++) {\n",
       "      var url = js_urls[i];\n",
       "      var element = document.createElement('script');\n",
       "      element.onload = on_load;\n",
       "      element.onerror = on_error;\n",
       "      element.async = false;\n",
       "      element.src = url;\n",
       "      console.debug(\"Bokeh: injecting script tag for BokehJS library: \", url);\n",
       "      document.head.appendChild(element);\n",
       "    }\n",
       "  };var element = document.getElementById(\"1001\");\n",
       "  if (element == null) {\n",
       "    console.error(\"Bokeh: ERROR: autoload.js configured with elementid '1001' but no matching script tag was found. \")\n",
       "    return false;\n",
       "  }\n",
       "\n",
       "  function inject_raw_css(css) {\n",
       "    const element = document.createElement(\"style\");\n",
       "    element.appendChild(document.createTextNode(css));\n",
       "    document.body.appendChild(element);\n",
       "  }\n",
       "\n",
       "  \n",
       "  var js_urls = [\"https://cdn.pydata.org/bokeh/release/bokeh-1.4.0.min.js\", \"https://cdn.pydata.org/bokeh/release/bokeh-widgets-1.4.0.min.js\", \"https://cdn.pydata.org/bokeh/release/bokeh-tables-1.4.0.min.js\", \"https://cdn.pydata.org/bokeh/release/bokeh-gl-1.4.0.min.js\"];\n",
       "  var css_urls = [];\n",
       "  \n",
       "\n",
       "  var inline_js = [\n",
       "    function(Bokeh) {\n",
       "      Bokeh.set_log_level(\"info\");\n",
       "    },\n",
       "    function(Bokeh) {\n",
       "    \n",
       "    \n",
       "    }\n",
       "  ];\n",
       "\n",
       "  function run_inline_js() {\n",
       "    \n",
       "    if (root.Bokeh !== undefined || force === true) {\n",
       "      \n",
       "    for (var i = 0; i < inline_js.length; i++) {\n",
       "      inline_js[i].call(root, root.Bokeh);\n",
       "    }\n",
       "    if (force === true) {\n",
       "        display_loaded();\n",
       "      }} else if (Date.now() < root._bokeh_timeout) {\n",
       "      setTimeout(run_inline_js, 100);\n",
       "    } else if (!root._bokeh_failed_load) {\n",
       "      console.log(\"Bokeh: BokehJS failed to load within specified timeout.\");\n",
       "      root._bokeh_failed_load = true;\n",
       "    } else if (force !== true) {\n",
       "      var cell = $(document.getElementById(\"1001\")).parents('.cell').data().cell;\n",
       "      cell.output_area.append_execute_result(NB_LOAD_WARNING)\n",
       "    }\n",
       "\n",
       "  }\n",
       "\n",
       "  if (root._bokeh_is_loading === 0) {\n",
       "    console.debug(\"Bokeh: BokehJS loaded, going straight to plotting\");\n",
       "    run_inline_js();\n",
       "  } else {\n",
       "    load_libs(css_urls, js_urls, function() {\n",
       "      console.debug(\"Bokeh: BokehJS plotting callback run at\", now());\n",
       "      run_inline_js();\n",
       "    });\n",
       "  }\n",
       "}(window));"
      ],
      "application/vnd.bokehjs_load.v0+json": "\n(function(root) {\n  function now() {\n    return new Date();\n  }\n\n  var force = true;\n\n  if (typeof root._bokeh_onload_callbacks === \"undefined\" || force === true) {\n    root._bokeh_onload_callbacks = [];\n    root._bokeh_is_loading = undefined;\n  }\n\n  \n\n  \n  if (typeof (root._bokeh_timeout) === \"undefined\" || force === true) {\n    root._bokeh_timeout = Date.now() + 5000;\n    root._bokeh_failed_load = false;\n  }\n\n  var NB_LOAD_WARNING = {'data': {'text/html':\n     \"<div style='background-color: #fdd'>\\n\"+\n     \"<p>\\n\"+\n     \"BokehJS does not appear to have successfully loaded. If loading BokehJS from CDN, this \\n\"+\n     \"may be due to a slow or bad network connection. Possible fixes:\\n\"+\n     \"</p>\\n\"+\n     \"<ul>\\n\"+\n     \"<li>re-rerun `output_notebook()` to attempt to load from CDN again, or</li>\\n\"+\n     \"<li>use INLINE resources instead, as so:</li>\\n\"+\n     \"</ul>\\n\"+\n     \"<code>\\n\"+\n     \"from bokeh.resources import INLINE\\n\"+\n     \"output_notebook(resources=INLINE)\\n\"+\n     \"</code>\\n\"+\n     \"</div>\"}};\n\n  function display_loaded() {\n    var el = document.getElementById(\"1001\");\n    if (el != null) {\n      el.textContent = \"BokehJS is loading...\";\n    }\n    if (root.Bokeh !== undefined) {\n      if (el != null) {\n        el.textContent = \"BokehJS \" + root.Bokeh.version + \" successfully loaded.\";\n      }\n    } else if (Date.now() < root._bokeh_timeout) {\n      setTimeout(display_loaded, 100)\n    }\n  }\n\n\n  function run_callbacks() {\n    try {\n      root._bokeh_onload_callbacks.forEach(function(callback) {\n        if (callback != null)\n          callback();\n      });\n    } finally {\n      delete root._bokeh_onload_callbacks\n    }\n    console.debug(\"Bokeh: all callbacks have finished\");\n  }\n\n  function load_libs(css_urls, js_urls, callback) {\n    if (css_urls == null) css_urls = [];\n    if (js_urls == null) js_urls = [];\n\n    root._bokeh_onload_callbacks.push(callback);\n    if (root._bokeh_is_loading > 0) {\n      console.debug(\"Bokeh: BokehJS is being loaded, scheduling callback at\", now());\n      return null;\n    }\n    if (js_urls == null || js_urls.length === 0) {\n      run_callbacks();\n      return null;\n    }\n    console.debug(\"Bokeh: BokehJS not loaded, scheduling load and callback at\", now());\n    root._bokeh_is_loading = css_urls.length + js_urls.length;\n\n    function on_load() {\n      root._bokeh_is_loading--;\n      if (root._bokeh_is_loading === 0) {\n        console.debug(\"Bokeh: all BokehJS libraries/stylesheets loaded\");\n        run_callbacks()\n      }\n    }\n\n    function on_error() {\n      console.error(\"failed to load \" + url);\n    }\n\n    for (var i = 0; i < css_urls.length; i++) {\n      var url = css_urls[i];\n      const element = document.createElement(\"link\");\n      element.onload = on_load;\n      element.onerror = on_error;\n      element.rel = \"stylesheet\";\n      element.type = \"text/css\";\n      element.href = url;\n      console.debug(\"Bokeh: injecting link tag for BokehJS stylesheet: \", url);\n      document.body.appendChild(element);\n    }\n\n    for (var i = 0; i < js_urls.length; i++) {\n      var url = js_urls[i];\n      var element = document.createElement('script');\n      element.onload = on_load;\n      element.onerror = on_error;\n      element.async = false;\n      element.src = url;\n      console.debug(\"Bokeh: injecting script tag for BokehJS library: \", url);\n      document.head.appendChild(element);\n    }\n  };var element = document.getElementById(\"1001\");\n  if (element == null) {\n    console.error(\"Bokeh: ERROR: autoload.js configured with elementid '1001' but no matching script tag was found. \")\n    return false;\n  }\n\n  function inject_raw_css(css) {\n    const element = document.createElement(\"style\");\n    element.appendChild(document.createTextNode(css));\n    document.body.appendChild(element);\n  }\n\n  \n  var js_urls = [\"https://cdn.pydata.org/bokeh/release/bokeh-1.4.0.min.js\", \"https://cdn.pydata.org/bokeh/release/bokeh-widgets-1.4.0.min.js\", \"https://cdn.pydata.org/bokeh/release/bokeh-tables-1.4.0.min.js\", \"https://cdn.pydata.org/bokeh/release/bokeh-gl-1.4.0.min.js\"];\n  var css_urls = [];\n  \n\n  var inline_js = [\n    function(Bokeh) {\n      Bokeh.set_log_level(\"info\");\n    },\n    function(Bokeh) {\n    \n    \n    }\n  ];\n\n  function run_inline_js() {\n    \n    if (root.Bokeh !== undefined || force === true) {\n      \n    for (var i = 0; i < inline_js.length; i++) {\n      inline_js[i].call(root, root.Bokeh);\n    }\n    if (force === true) {\n        display_loaded();\n      }} else if (Date.now() < root._bokeh_timeout) {\n      setTimeout(run_inline_js, 100);\n    } else if (!root._bokeh_failed_load) {\n      console.log(\"Bokeh: BokehJS failed to load within specified timeout.\");\n      root._bokeh_failed_load = true;\n    } else if (force !== true) {\n      var cell = $(document.getElementById(\"1001\")).parents('.cell').data().cell;\n      cell.output_area.append_execute_result(NB_LOAD_WARNING)\n    }\n\n  }\n\n  if (root._bokeh_is_loading === 0) {\n    console.debug(\"Bokeh: BokehJS loaded, going straight to plotting\");\n    run_inline_js();\n  } else {\n    load_libs(css_urls, js_urls, function() {\n      console.debug(\"Bokeh: BokehJS plotting callback run at\", now());\n      run_inline_js();\n    });\n  }\n}(window));"
     },
     "metadata": {},
     "output_type": "display_data"
    }
   ],
   "source": [
    "from biocrnpyler import *\n",
    "#from biocrnpyler.chemical_reaction_network import Species, Reaction, ComplexSpecies, Multimer\n",
    "import numpy as np\n",
    "#import pylab as plt \n",
    "#%matplotlib inline\n",
    "\n",
    "import bokeh.io\n",
    "import bokeh.plotting\n",
    "from bokeh.layouts import row\n",
    "bokeh.io.output_notebook()\n",
    "\n",
    "import colorcet\n",
    "\n",
    "from subsbml import createNewSubsystem, createSubsystem"
   ]
  },
  {
   "cell_type": "code",
   "execution_count": 2,
   "metadata": {},
   "outputs": [],
   "source": [
    "palette = colorcet.b_glasbey_category10\n",
    "palette.remove( '#d62628')"
   ]
  },
  {
   "cell_type": "markdown",
   "metadata": {},
   "source": [
    "## Combine atp synthase with txtl machinery \n",
    "---"
   ]
  },
  {
   "cell_type": "code",
   "execution_count": 56,
   "metadata": {},
   "outputs": [],
   "source": [
    "# atp synthase models\n",
    "ss1_atpsyn_txtl = createSubsystem('atpsynthase_machinery_txtl.xml', subsystemName = 'atpsyn_txtl')\n",
    "ss2_atpsyn_mi = createSubsystem('atpsynthase_membrane_integration.xml', subsystemName = 'atpsyn_mi')\n",
    "ss3_atpsynthesis = createSubsystem('atp_synthesis_through_atpsynthase.xml', subsystemName = 'atpsynthesis')\n",
    "ss4_atp_use = createSubsystem('atp_use.xml', subsystemName = 'atp_use')"
   ]
  },
  {
   "cell_type": "code",
   "execution_count": 57,
   "metadata": {},
   "outputs": [],
   "source": [
    "atp_subsystem_w_use = ss1_atpsyn_txtl + ss2_atpsyn_mi + ss3_atpsynthesis + ss4_atp_use"
   ]
  },
  {
   "cell_type": "code",
   "execution_count": 58,
   "metadata": {},
   "outputs": [
    {
     "name": "stderr",
     "output_type": "stream",
     "text": [
      "odeint failed with mxstep=500..."
     ]
    }
   ],
   "source": [
    "# SIMULATE WITH ATP SYNTHASE\n",
    "# Initial conditions\n",
    "spec_list_10 = ['dna_atpsyn', 'proton_outside_H', 'metabolite_atp',\n",
    "                 'protein_RNAP_machinery', \n",
    "                'protein_Ribo_machinery', 'protein_RNAse_machinery']\n",
    "for i,spec in enumerate(spec_list_10):\n",
    "    atp_subsystem_w_use.setSpeciesAmount(spec,10)\n",
    "\n",
    "\n",
    "# timepoints and get WITH ATP SYNTHASE\n",
    "timepoints = np.linspace(0,500,100)\n",
    "results, _ = atp_subsystem_w_use.simulateWithBioscrape(timepoints, sbml_warnings = False)\n",
    "\n",
    "# Get species IDs\n",
    "ATP_id = atp_subsystem_w_use.getSpeciesByName('metabolite_atp').getId()\n",
    "ADP_id = atp_subsystem_w_use.getSpeciesByName('metabolite_adp').getId()\n",
    "\n",
    "outside_H_id = atp_subsystem_w_use.getSpeciesByName('proton_outside_H').getId()\n",
    "inside_H_id = atp_subsystem_w_use.getSpeciesByName('proton_inside_H').getId()\n",
    "atp_synthase_b_protein_id = atp_subsystem_w_use.getSpeciesByName('protein_atpsyn_b').getId()\n",
    "atp_synthase_f_protein_id = atp_subsystem_w_use.getSpeciesByName('protein_atpsyn').getId()"
   ]
  },
  {
   "cell_type": "code",
   "execution_count": 59,
   "metadata": {},
   "outputs": [],
   "source": [
    "# SIMULATE WITHOUT ATP SYNTHASE\n",
    "#ss4_atp_use.setSpeciesAmount('proton_outside_H',10)\n",
    "ss4_atp_use.setSpeciesAmount('metabolite_atp',10)\n",
    "\n",
    "results2, _ = ss4_atp_use.simulateWithBioscrape(timepoints, sbml_warnings = False)\n",
    "\n",
    "# GET ATP species ID\n",
    "ATP_id2 = ss4_atp_use.getSpeciesByName('metabolite_atp').getId()"
   ]
  },
  {
   "cell_type": "code",
   "execution_count": 60,
   "metadata": {},
   "outputs": [
    {
     "data": {
      "text/html": [
       "\n",
       "\n",
       "\n",
       "\n",
       "\n",
       "\n",
       "  <div class=\"bk-root\" id=\"9b8fae13-48a6-473d-9dbc-21db10d08e5f\" data-root-id=\"8309\"></div>\n"
      ]
     },
     "metadata": {},
     "output_type": "display_data"
    },
    {
     "data": {
      "application/javascript": [
       "(function(root) {\n",
       "  function embed_document(root) {\n",
       "    \n",
       "  var docs_json = {\"21798435-bd8b-4cba-8915-f493f0e29da8\":{\"roots\":{\"references\":[{\"attributes\":{\"children\":[{\"id\":\"8185\",\"subtype\":\"Figure\",\"type\":\"Plot\"},{\"id\":\"8262\",\"subtype\":\"Figure\",\"type\":\"Plot\"}]},\"id\":\"8309\",\"type\":\"Row\"},{\"attributes\":{\"source\":{\"id\":\"8219\",\"type\":\"ColumnDataSource\"}},\"id\":\"8223\",\"type\":\"CDSView\"},{\"attributes\":{\"source\":{\"id\":\"8246\",\"type\":\"ColumnDataSource\"}},\"id\":\"8250\",\"type\":\"CDSView\"},{\"attributes\":{},\"id\":\"8225\",\"type\":\"BasicTickFormatter\"},{\"attributes\":{\"active_drag\":\"auto\",\"active_inspect\":\"auto\",\"active_multi\":null,\"active_scroll\":\"auto\",\"active_tap\":\"auto\",\"tools\":[{\"id\":\"8283\",\"type\":\"PanTool\"},{\"id\":\"8284\",\"type\":\"WheelZoomTool\"},{\"id\":\"8285\",\"type\":\"BoxZoomTool\"},{\"id\":\"8286\",\"type\":\"SaveTool\"},{\"id\":\"8287\",\"type\":\"ResetTool\"},{\"id\":\"8288\",\"type\":\"HelpTool\"}]},\"id\":\"8289\",\"type\":\"Toolbar\"},{\"attributes\":{},\"id\":\"8227\",\"type\":\"BasicTickFormatter\"},{\"attributes\":{\"bottom_units\":\"screen\",\"fill_alpha\":{\"value\":0.5},\"fill_color\":{\"value\":\"lightgrey\"},\"left_units\":\"screen\",\"level\":\"overlay\",\"line_alpha\":{\"value\":1.0},\"line_color\":{\"value\":\"black\"},\"line_dash\":[4,4],\"line_width\":{\"value\":2},\"render_mode\":\"css\",\"right_units\":\"screen\",\"top_units\":\"screen\"},\"id\":\"8229\",\"type\":\"BoxAnnotation\"},{\"attributes\":{\"below\":[{\"id\":\"8196\",\"type\":\"LinearAxis\"}],\"center\":[{\"id\":\"8200\",\"type\":\"Grid\"},{\"id\":\"8205\",\"type\":\"Grid\"},{\"id\":\"8230\",\"type\":\"Legend\"}],\"left\":[{\"id\":\"8201\",\"type\":\"LinearAxis\"}],\"plot_height\":350,\"plot_width\":450,\"renderers\":[{\"id\":\"8222\",\"type\":\"GlyphRenderer\"},{\"id\":\"8235\",\"type\":\"GlyphRenderer\"},{\"id\":\"8249\",\"type\":\"GlyphRenderer\"}],\"title\":{\"id\":\"8186\",\"type\":\"Title\"},\"toolbar\":{\"id\":\"8212\",\"type\":\"Toolbar\"},\"x_range\":{\"id\":\"8188\",\"type\":\"DataRange1d\"},\"x_scale\":{\"id\":\"8192\",\"type\":\"LinearScale\"},\"y_range\":{\"id\":\"8190\",\"type\":\"DataRange1d\"},\"y_scale\":{\"id\":\"8194\",\"type\":\"LinearScale\"}},\"id\":\"8185\",\"subtype\":\"Figure\",\"type\":\"Plot\"},{\"attributes\":{\"text\":\"with ATP Synthase, ATP Use\"},\"id\":\"8186\",\"type\":\"Title\"},{\"attributes\":{},\"id\":\"8302\",\"type\":\"BasicTickFormatter\"},{\"attributes\":{\"line_alpha\":0.1,\"line_color\":\"#1f77b4\",\"line_width\":2,\"x\":{\"field\":\"x\"},\"y\":{\"field\":\"y\"}},\"id\":\"8298\",\"type\":\"Line\"},{\"attributes\":{\"callback\":null},\"id\":\"8188\",\"type\":\"DataRange1d\"},{\"attributes\":{\"items\":[{\"id\":\"8308\",\"type\":\"LegendItem\"}]},\"id\":\"8307\",\"type\":\"Legend\"},{\"attributes\":{\"axis_label\":\"time\",\"formatter\":{\"id\":\"8304\",\"type\":\"BasicTickFormatter\"},\"ticker\":{\"id\":\"8274\",\"type\":\"BasicTicker\"}},\"id\":\"8273\",\"type\":\"LinearAxis\"},{\"attributes\":{},\"id\":\"8304\",\"type\":\"BasicTickFormatter\"},{\"attributes\":{\"text\":\"with ATP Use\"},\"id\":\"8263\",\"type\":\"Title\"},{\"attributes\":{\"callback\":null},\"id\":\"8267\",\"type\":\"DataRange1d\"},{\"attributes\":{\"bottom_units\":\"screen\",\"fill_alpha\":{\"value\":0.5},\"fill_color\":{\"value\":\"lightgrey\"},\"left_units\":\"screen\",\"level\":\"overlay\",\"line_alpha\":{\"value\":1.0},\"line_color\":{\"value\":\"black\"},\"line_dash\":[4,4],\"line_width\":{\"value\":2},\"render_mode\":\"css\",\"right_units\":\"screen\",\"top_units\":\"screen\"},\"id\":\"8306\",\"type\":\"BoxAnnotation\"},{\"attributes\":{},\"id\":\"8271\",\"type\":\"LinearScale\"},{\"attributes\":{\"callback\":null},\"id\":\"8190\",\"type\":\"DataRange1d\"},{\"attributes\":{\"dimension\":1,\"ticker\":{\"id\":\"8279\",\"type\":\"BasicTicker\"}},\"id\":\"8282\",\"type\":\"Grid\"},{\"attributes\":{\"label\":{\"value\":\"atp\"},\"renderers\":[{\"id\":\"8299\",\"type\":\"GlyphRenderer\"}]},\"id\":\"8308\",\"type\":\"LegendItem\"},{\"attributes\":{},\"id\":\"8192\",\"type\":\"LinearScale\"},{\"attributes\":{},\"id\":\"8647\",\"type\":\"Selection\"},{\"attributes\":{},\"id\":\"8194\",\"type\":\"LinearScale\"},{\"attributes\":{},\"id\":\"8260\",\"type\":\"UnionRenderers\"},{\"attributes\":{\"axis_label\":\"time\",\"formatter\":{\"id\":\"8227\",\"type\":\"BasicTickFormatter\"},\"ticker\":{\"id\":\"8197\",\"type\":\"BasicTicker\"}},\"id\":\"8196\",\"type\":\"LinearAxis\"},{\"attributes\":{},\"id\":\"8197\",\"type\":\"BasicTicker\"},{\"attributes\":{\"ticker\":{\"id\":\"8197\",\"type\":\"BasicTicker\"}},\"id\":\"8200\",\"type\":\"Grid\"},{\"attributes\":{\"data_source\":{\"id\":\"8246\",\"type\":\"ColumnDataSource\"},\"glyph\":{\"id\":\"8247\",\"type\":\"Line\"},\"hover_glyph\":null,\"muted_glyph\":null,\"nonselection_glyph\":{\"id\":\"8248\",\"type\":\"Line\"},\"selection_glyph\":null,\"view\":{\"id\":\"8250\",\"type\":\"CDSView\"}},\"id\":\"8249\",\"type\":\"GlyphRenderer\"},{\"attributes\":{},\"id\":\"8274\",\"type\":\"BasicTicker\"},{\"attributes\":{},\"id\":\"8202\",\"type\":\"BasicTicker\"},{\"attributes\":{},\"id\":\"8288\",\"type\":\"HelpTool\"},{\"attributes\":{\"dimension\":1,\"ticker\":{\"id\":\"8202\",\"type\":\"BasicTicker\"}},\"id\":\"8205\",\"type\":\"Grid\"},{\"attributes\":{\"callback\":null,\"data\":{\"x\":{\"__ndarray__\":\"AAAAAAAAAADezpCYtzMUQN7OkJi3MyRATTbZZJNNLkDezpCYtzM0QJYCtX6lQDlATTbZZJNNPkACtX6lQK1BQN7OkJi3M0RAuuiiiy66RkCWArV+pUBJQHEcx3Ecx0tATTbZZJNNTkAUqPUrBWpQQAK1fqVArVFA8MEHH3zwUkDezpCYtzNUQMzbGRLzdlVAuuiiiy66VkCo9SsFav1XQJYCtX6lQFlAgw8++OCDWkBxHMdxHMdbQF8pUOtXCl1ATTbZZJNNXkA7Q2LezpBfQBSo9SsFamBAiy666KILYUACtX6lQK1hQHk7Q2LeTmJA8MEHH3zwYkBnSMzbGZJjQN7OkJi3M2RAVVVVVVXVZEDM2xkS83ZlQENi3s6QGGZAuuiiiy66ZkAxb2dIzFtnQKj1KwVq/WdAH3zwwQefaECWArV+pUBpQAyJeTtD4mlAgw8++OCDakD6lQK1fiVrQHEcx3Ecx2tA6KKLLrpobEBfKVDrVwptQNavFKj1q21ATTbZZJNNbkDEvJ0hMe9uQDtDYt7OkG9A2WSTTTYZcEAUqPUrBWpwQFDrVwrUunBAiy666KILcUDHcRzHcVxxQAK1fqVArXFAPvjggw/+cUB5O0Ni3k5yQLV+pUCtn3JA8MEHH3zwckAsBWr9SkFzQGdIzNsZknNAo4suuujic0DezpCYtzN0QBkS83aGhHRAVVVVVVXVdECQmLczJCZ1QMzbGRLzdnVABx988MHHdUBDYt7OkBh2QH6lQK1faXZAuuiiiy66dkD1KwVq/Qp3QDFvZ0jMW3dAbLLJJpusd0Co9SsFav13QOM4juM4TnhAH3zwwQefeEBav1Kg1u94QJYCtX6lQHlA0UUXXXSReUAMiXk7Q+J5QEjM2xkSM3pAgw8++OCDekC/UqDWr9R6QPqVArV+JXtANtlkk012e0BxHMdxHMd7QK1fKVDrF3xA6KKLLrpofEAk5u0Mibl8QF8pUOtXCn1Am2yyySZbfUDWrxSo9at9QBLzdobE/H1ATTbZZJNNfkCIeTtDYp5+QMS8nSEx735AAAAAAABAf0A=\",\"dtype\":\"float64\",\"shape\":[100]},\"y\":{\"__ndarray__\":\"AAAAAAAAAACgAQAAAAAkQPr//////yNA+v//////I0D6//////8jQPr//////yNA+v//////I0D6//////8jQPr//////yNA+v//////I0D6//////8jQPr//////yNA+v//////I0D6//////8jQPr//////yNA+v//////I0D6//////8jQPr//////yNA+v//////I0D6//////8jQPr//////yNA+v//////I0D6//////8jQPr//////yNA+v//////I0D6//////8jQPr//////yNA+v//////I0D6//////8jQPr//////yNA+v//////I0D6//////8jQPr//////yNA+v//////I0D6//////8jQPr//////yNA+v//////I0D6//////8jQPr//////yNA+v//////I0D6//////8jQPr//////yNA+v//////I0D6//////8jQPr//////yNA+v//////I0D6//////8jQPr//////yNA+v//////I0D6//////8jQPr//////yNA+v//////I0D6//////8jQPr//////yNA+v//////I0D6//////8jQPr//////yNA+v//////I0D6//////8jQPr//////yNA+v//////I0D6//////8jQPr//////yNA+v//////I0D6//////8jQPr//////yNA+v//////I0D6//////8jQPr//////yNA+v//////I0D6//////8jQPr//////yNA+v//////I0D6//////8jQPr//////yNA+v//////I0D6//////8jQPr//////yNA+v//////I0D6//////8jQPr//////yNA+v//////I0D6//////8jQPr//////yNA+v//////I0D6//////8jQPr//////yNA+v//////I0D6//////8jQPr//////yNA+v//////I0D6//////8jQPr//////yNA+v//////I0D6//////8jQPr//////yNA+v//////I0D6//////8jQPr//////yNA+v//////I0A=\",\"dtype\":\"float64\",\"shape\":[100]}},\"selected\":{\"id\":\"8647\",\"type\":\"Selection\"},\"selection_policy\":{\"id\":\"8648\",\"type\":\"UnionRenderers\"}},\"id\":\"8246\",\"type\":\"ColumnDataSource\"},{\"attributes\":{\"axis_label\":\"concentration\",\"formatter\":{\"id\":\"8225\",\"type\":\"BasicTickFormatter\"},\"ticker\":{\"id\":\"8202\",\"type\":\"BasicTicker\"}},\"id\":\"8201\",\"type\":\"LinearAxis\"},{\"attributes\":{},\"id\":\"8269\",\"type\":\"LinearScale\"},{\"attributes\":{\"line_color\":\"#1f77b3\",\"line_width\":2,\"x\":{\"field\":\"x\"},\"y\":{\"field\":\"y\"}},\"id\":\"8220\",\"type\":\"Line\"},{\"attributes\":{\"data_source\":{\"id\":\"8219\",\"type\":\"ColumnDataSource\"},\"glyph\":{\"id\":\"8220\",\"type\":\"Line\"},\"hover_glyph\":null,\"muted_glyph\":null,\"nonselection_glyph\":{\"id\":\"8221\",\"type\":\"Line\"},\"selection_glyph\":null,\"view\":{\"id\":\"8223\",\"type\":\"CDSView\"}},\"id\":\"8222\",\"type\":\"GlyphRenderer\"},{\"attributes\":{\"callback\":null,\"data\":{\"x\":{\"__ndarray__\":\"AAAAAAAAAADezpCYtzMUQN7OkJi3MyRATTbZZJNNLkDezpCYtzM0QJYCtX6lQDlATTbZZJNNPkACtX6lQK1BQN7OkJi3M0RAuuiiiy66RkCWArV+pUBJQHEcx3Ecx0tATTbZZJNNTkAUqPUrBWpQQAK1fqVArVFA8MEHH3zwUkDezpCYtzNUQMzbGRLzdlVAuuiiiy66VkCo9SsFav1XQJYCtX6lQFlAgw8++OCDWkBxHMdxHMdbQF8pUOtXCl1ATTbZZJNNXkA7Q2LezpBfQBSo9SsFamBAiy666KILYUACtX6lQK1hQHk7Q2LeTmJA8MEHH3zwYkBnSMzbGZJjQN7OkJi3M2RAVVVVVVXVZEDM2xkS83ZlQENi3s6QGGZAuuiiiy66ZkAxb2dIzFtnQKj1KwVq/WdAH3zwwQefaECWArV+pUBpQAyJeTtD4mlAgw8++OCDakD6lQK1fiVrQHEcx3Ecx2tA6KKLLrpobEBfKVDrVwptQNavFKj1q21ATTbZZJNNbkDEvJ0hMe9uQDtDYt7OkG9A2WSTTTYZcEAUqPUrBWpwQFDrVwrUunBAiy666KILcUDHcRzHcVxxQAK1fqVArXFAPvjggw/+cUB5O0Ni3k5yQLV+pUCtn3JA8MEHH3zwckAsBWr9SkFzQGdIzNsZknNAo4suuujic0DezpCYtzN0QBkS83aGhHRAVVVVVVXVdECQmLczJCZ1QMzbGRLzdnVABx988MHHdUBDYt7OkBh2QH6lQK1faXZAuuiiiy66dkD1KwVq/Qp3QDFvZ0jMW3dAbLLJJpusd0Co9SsFav13QOM4juM4TnhAH3zwwQefeEBav1Kg1u94QJYCtX6lQHlA0UUXXXSReUAMiXk7Q+J5QEjM2xkSM3pAgw8++OCDekC/UqDWr9R6QPqVArV+JXtANtlkk012e0BxHMdxHMd7QK1fKVDrF3xA6KKLLrpofEAk5u0Mibl8QF8pUOtXCn1Am2yyySZbfUDWrxSo9at9QBLzdobE/H1ATTbZZJNNfkCIeTtDYp5+QMS8nSEx735AAAAAAABAf0A=\",\"dtype\":\"float64\",\"shape\":[100]},\"y\":{\"__ndarray__\":\"AAAAAAAAJEAVtAZnpMgBQF/UZrFktRJAWuLEjnm0F0DdV4cB65MaQFmDemAubBxATXP+RJCzHUApFtmRNqMeQAK30lneWR9AFtjmZXjpH0Anzooxli4gQDGGlqQiXiBACVVZNd2FIEB/ymCEhacgQDAncspfxCBANq3LiVzdIEDG9bffMfMgQLRaMiVsBiFAHeNDN3kXIUAsc9lDsCYhQN1SllBXNCFAy4pYOKdAIUC0iBKZzkshQPY8wAL0VSFAl6j+nTdfIUAEz0JvtGchQG1PY1GBbyFAU2VQubF2IUD85Y1QVn0hQKd7aHB9gyFAaK3HhDOJIUBgscJbg44hQGzHSmd2kyFA4wTL8hSYIUBxOudLZpwhQD+as+xwoCFAfS17lDqkIUCFFkNkyKchQP/uWvMeqyFAmxnmYEKuIUB0QbhjNrEhQPqoMlf+syFA4ZtuRp22IUBLgnr1FbkhQJfWCupquyFAJAJycp69IUCyT36rsr8hQLPm+YWpwSFAzPlmy4TDIUBWJ/ohRsUhQEd7KRDvxiFA8lLX/4DIIUB8uBBB/ckhQPyngAxlyyFAeOeJhbnMIUAB+y28+80hQOFq064szyFAs0PJS03QIUA1NYxyXtEhQNzWzPRg0iFAF+cCmFXTIUAU9msWPdQhQMuC7x4Y1SFAG79DVufVIUBhsXNZq9YhQBc9GL1k1yFA1YoLCxTYIUDJt3bHudghQEKGfHFW2SFAaqdJf+rZIUCHv8phdtohQORbIYT62iFA698dTHfbIUAtgYAa7dshQDhBPktc3CFAlDLMNcXcIUB6dlYtKN0hQONX9ICF3SFAoRb+e93dIUCijhVmMN4hQLyRbIN+3iFAPADwFMjeIUChS2NYDd8hQDEojIhO3yFAf/VZ3YvfIUD/gwuMxd8hQPL2PMf73yFAKEwjvy7gIUAXcoihXuAhQPJyAZqL4CFA5HT10bXgIUBFosBw3eAhQKo2x5sC4SFAWB+MdiXhIUC7gMgiRuEhQJrMe8Bk4SFAzjUEboHhIUD8TCxInOEhQHSrSWq14SFAZZ067szhIUA=\",\"dtype\":\"float64\",\"shape\":[100]}},\"selected\":{\"id\":\"8243\",\"type\":\"Selection\"},\"selection_policy\":{\"id\":\"8244\",\"type\":\"UnionRenderers\"}},\"id\":\"8219\",\"type\":\"ColumnDataSource\"},{\"attributes\":{\"ticker\":{\"id\":\"8274\",\"type\":\"BasicTicker\"}},\"id\":\"8277\",\"type\":\"Grid\"},{\"attributes\":{\"active_drag\":\"auto\",\"active_inspect\":\"auto\",\"active_multi\":null,\"active_scroll\":\"auto\",\"active_tap\":\"auto\",\"tools\":[{\"id\":\"8206\",\"type\":\"PanTool\"},{\"id\":\"8207\",\"type\":\"WheelZoomTool\"},{\"id\":\"8208\",\"type\":\"BoxZoomTool\"},{\"id\":\"8209\",\"type\":\"SaveTool\"},{\"id\":\"8210\",\"type\":\"ResetTool\"},{\"id\":\"8211\",\"type\":\"HelpTool\"}]},\"id\":\"8212\",\"type\":\"Toolbar\"},{\"attributes\":{\"below\":[{\"id\":\"8273\",\"type\":\"LinearAxis\"}],\"center\":[{\"id\":\"8277\",\"type\":\"Grid\"},{\"id\":\"8282\",\"type\":\"Grid\"},{\"id\":\"8307\",\"type\":\"Legend\"}],\"left\":[{\"id\":\"8278\",\"type\":\"LinearAxis\"}],\"plot_height\":350,\"plot_width\":450,\"renderers\":[{\"id\":\"8299\",\"type\":\"GlyphRenderer\"}],\"title\":{\"id\":\"8263\",\"type\":\"Title\"},\"toolbar\":{\"id\":\"8289\",\"type\":\"Toolbar\"},\"x_range\":{\"id\":\"8265\",\"type\":\"DataRange1d\"},\"x_scale\":{\"id\":\"8269\",\"type\":\"LinearScale\"},\"y_range\":{\"id\":\"8267\",\"type\":\"DataRange1d\"},\"y_scale\":{\"id\":\"8271\",\"type\":\"LinearScale\"}},\"id\":\"8262\",\"subtype\":\"Figure\",\"type\":\"Plot\"},{\"attributes\":{\"callback\":null},\"id\":\"8265\",\"type\":\"DataRange1d\"},{\"attributes\":{},\"id\":\"8206\",\"type\":\"PanTool\"},{\"attributes\":{},\"id\":\"8207\",\"type\":\"WheelZoomTool\"},{\"attributes\":{},\"id\":\"8244\",\"type\":\"UnionRenderers\"},{\"attributes\":{\"overlay\":{\"id\":\"8229\",\"type\":\"BoxAnnotation\"}},\"id\":\"8208\",\"type\":\"BoxZoomTool\"},{\"attributes\":{},\"id\":\"8209\",\"type\":\"SaveTool\"},{\"attributes\":{},\"id\":\"8210\",\"type\":\"ResetTool\"},{\"attributes\":{\"axis_label\":\"concentration\",\"formatter\":{\"id\":\"8302\",\"type\":\"BasicTickFormatter\"},\"ticker\":{\"id\":\"8279\",\"type\":\"BasicTicker\"}},\"id\":\"8278\",\"type\":\"LinearAxis\"},{\"attributes\":{},\"id\":\"8211\",\"type\":\"HelpTool\"},{\"attributes\":{\"line_alpha\":0.1,\"line_color\":\"#1f77b4\",\"line_width\":2,\"x\":{\"field\":\"x\"},\"y\":{\"field\":\"y\"}},\"id\":\"8221\",\"type\":\"Line\"},{\"attributes\":{},\"id\":\"8279\",\"type\":\"BasicTicker\"},{\"attributes\":{\"line_alpha\":0.1,\"line_color\":\"#1f77b4\",\"line_width\":2,\"x\":{\"field\":\"x\"},\"y\":{\"field\":\"y\"}},\"id\":\"8248\",\"type\":\"Line\"},{\"attributes\":{\"line_alpha\":0.1,\"line_color\":\"#1f77b4\",\"line_width\":2,\"x\":{\"field\":\"x\"},\"y\":{\"field\":\"y\"}},\"id\":\"8234\",\"type\":\"Line\"},{\"attributes\":{\"label\":{\"value\":\"atp\"},\"renderers\":[{\"id\":\"8222\",\"type\":\"GlyphRenderer\"}]},\"id\":\"8231\",\"type\":\"LegendItem\"},{\"attributes\":{\"line_color\":\"#2ba02b\",\"line_width\":2,\"x\":{\"field\":\"x\"},\"y\":{\"field\":\"y\"}},\"id\":\"8247\",\"type\":\"Line\"},{\"attributes\":{\"line_color\":\"#ff7e0e\",\"line_width\":2,\"x\":{\"field\":\"x\"},\"y\":{\"field\":\"y\"}},\"id\":\"8233\",\"type\":\"Line\"},{\"attributes\":{},\"id\":\"8651\",\"type\":\"UnionRenderers\"},{\"attributes\":{\"callback\":null,\"data\":{\"x\":{\"__ndarray__\":\"AAAAAAAAAADezpCYtzMUQN7OkJi3MyRATTbZZJNNLkDezpCYtzM0QJYCtX6lQDlATTbZZJNNPkACtX6lQK1BQN7OkJi3M0RAuuiiiy66RkCWArV+pUBJQHEcx3Ecx0tATTbZZJNNTkAUqPUrBWpQQAK1fqVArVFA8MEHH3zwUkDezpCYtzNUQMzbGRLzdlVAuuiiiy66VkCo9SsFav1XQJYCtX6lQFlAgw8++OCDWkBxHMdxHMdbQF8pUOtXCl1ATTbZZJNNXkA7Q2LezpBfQBSo9SsFamBAiy666KILYUACtX6lQK1hQHk7Q2LeTmJA8MEHH3zwYkBnSMzbGZJjQN7OkJi3M2RAVVVVVVXVZEDM2xkS83ZlQENi3s6QGGZAuuiiiy66ZkAxb2dIzFtnQKj1KwVq/WdAH3zwwQefaECWArV+pUBpQAyJeTtD4mlAgw8++OCDakD6lQK1fiVrQHEcx3Ecx2tA6KKLLrpobEBfKVDrVwptQNavFKj1q21ATTbZZJNNbkDEvJ0hMe9uQDtDYt7OkG9A2WSTTTYZcEAUqPUrBWpwQFDrVwrUunBAiy666KILcUDHcRzHcVxxQAK1fqVArXFAPvjggw/+cUB5O0Ni3k5yQLV+pUCtn3JA8MEHH3zwckAsBWr9SkFzQGdIzNsZknNAo4suuujic0DezpCYtzN0QBkS83aGhHRAVVVVVVXVdECQmLczJCZ1QMzbGRLzdnVABx988MHHdUBDYt7OkBh2QH6lQK1faXZAuuiiiy66dkD1KwVq/Qp3QDFvZ0jMW3dAbLLJJpusd0Co9SsFav13QOM4juM4TnhAH3zwwQefeEBav1Kg1u94QJYCtX6lQHlA0UUXXXSReUAMiXk7Q+J5QEjM2xkSM3pAgw8++OCDekC/UqDWr9R6QPqVArV+JXtANtlkk012e0BxHMdxHMd7QK1fKVDrF3xA6KKLLrpofEAk5u0Mibl8QF8pUOtXCn1Am2yyySZbfUDWrxSo9at9QBLzdobE/H1ATTbZZJNNfkCIeTtDYp5+QMS8nSEx735AAAAAAABAf0A=\",\"dtype\":\"float64\",\"shape\":[100]},\"y\":{\"__ndarray__\":\"AAAAAAAAJEB4eHgr6dC9vYwIoBauSqu9vOUnpGr4Yb2c98mMMy01vZw0s4d1MhK9+3+YzvrJEL2ylvsqAMMOvW8txrgK8gu9K8SQRhUhCb3nWlvUH1AGvaXxJWIqfwO9YYjw7zSuAL09Pnb7frr7vLZrCxeUGPa8LpmgMql28LxPjWucfKnlvIDQK6dNy9S8sWGABdtPjLz0+zLFxj2KvDiW5YSyK4i8fTCYRJ4ZhrzAykoEigeEvARl/cN19YG8j/5fB8PGf7wWM8WGmqJ7vKFnKgZyfne8J5yPhUlac7xcoekJQmxuvGsKtAjxI2a88eb8DkC3W7wcciMZPE1GvNqxeTIS8AS8WpGHS//IBLzZcJVk7KEEvFhQo33ZegS81y+xlsZTBLxWD7+vsywEvNXuzMigBQS8VM7a4Y3eA7zTrej6ercDvFKN9hNokAO80WwELVVpA7xRTBJGQkIDvNArIF8vGwO8TwsueBz0ArzN6juRCc0CvEzKSar2pQK8zKlXw+N+ArxLiWXc0FcCvMpoc/W9MAK8SUiBDqsJArzIJ48nmOIBvEcHnUCFuwG8xuaqWXKUAbxFxrhyX20BvMSlxotMRgG8Q4XUpDkfAbzDZOK9JvgAvEJE8NYT0QC8wCP+7wCqALw/AwwJ7oIAvL7iGSLbWwC8PMInO8g0ALy9oTVUtQ0AvHgCh9pEzf+7dsGiDB9//7t0gL4++TD/u3I/2nDT4v67cP71oq2U/rttvRHVh0b+u2x8LQdi+P27ajtJOTyq/bto+mRrFlz9u2a5gJ3wDf27ZXicz8q//LtjN7gBpXH8u2D20zN/I/y7XrXvZVnV+7tddAuYM4f7u1szJ8oNOfu7WfJC/Ofq+rtYsV4uwpz6u1ZwemCcTvq7Uy+WknYA+rtR7rHEULL5u1CtzfYqZPm7TmzpKAUW+btMKwVb38f4u0rqII25efi7Sak8v5Mr+LtGaFjxbd33u0QndCNIj/e7QuaPVSJB97tBpauH/PL2uz9kx7nWpPa7PSPj67BW9rs84v4diwj2uzmhGlBluvW7N2A2gj9s9bs=\",\"dtype\":\"float64\",\"shape\":[100]}},\"selected\":{\"id\":\"8650\",\"type\":\"Selection\"},\"selection_policy\":{\"id\":\"8651\",\"type\":\"UnionRenderers\"}},\"id\":\"8296\",\"type\":\"ColumnDataSource\"},{\"attributes\":{\"line_color\":\"#1f77b3\",\"line_width\":2,\"x\":{\"field\":\"x\"},\"y\":{\"field\":\"y\"}},\"id\":\"8297\",\"type\":\"Line\"},{\"attributes\":{\"data_source\":{\"id\":\"8296\",\"type\":\"ColumnDataSource\"},\"glyph\":{\"id\":\"8297\",\"type\":\"Line\"},\"hover_glyph\":null,\"muted_glyph\":null,\"nonselection_glyph\":{\"id\":\"8298\",\"type\":\"Line\"},\"selection_glyph\":null,\"view\":{\"id\":\"8300\",\"type\":\"CDSView\"}},\"id\":\"8299\",\"type\":\"GlyphRenderer\"},{\"attributes\":{\"label\":{\"value\":\"outside_H\"},\"renderers\":[{\"id\":\"8235\",\"type\":\"GlyphRenderer\"}]},\"id\":\"8245\",\"type\":\"LegendItem\"},{\"attributes\":{\"source\":{\"id\":\"8296\",\"type\":\"ColumnDataSource\"}},\"id\":\"8300\",\"type\":\"CDSView\"},{\"attributes\":{\"callback\":null,\"data\":{\"x\":{\"__ndarray__\":\"AAAAAAAAAADezpCYtzMUQN7OkJi3MyRATTbZZJNNLkDezpCYtzM0QJYCtX6lQDlATTbZZJNNPkACtX6lQK1BQN7OkJi3M0RAuuiiiy66RkCWArV+pUBJQHEcx3Ecx0tATTbZZJNNTkAUqPUrBWpQQAK1fqVArVFA8MEHH3zwUkDezpCYtzNUQMzbGRLzdlVAuuiiiy66VkCo9SsFav1XQJYCtX6lQFlAgw8++OCDWkBxHMdxHMdbQF8pUOtXCl1ATTbZZJNNXkA7Q2LezpBfQBSo9SsFamBAiy666KILYUACtX6lQK1hQHk7Q2LeTmJA8MEHH3zwYkBnSMzbGZJjQN7OkJi3M2RAVVVVVVXVZEDM2xkS83ZlQENi3s6QGGZAuuiiiy66ZkAxb2dIzFtnQKj1KwVq/WdAH3zwwQefaECWArV+pUBpQAyJeTtD4mlAgw8++OCDakD6lQK1fiVrQHEcx3Ecx2tA6KKLLrpobEBfKVDrVwptQNavFKj1q21ATTbZZJNNbkDEvJ0hMe9uQDtDYt7OkG9A2WSTTTYZcEAUqPUrBWpwQFDrVwrUunBAiy666KILcUDHcRzHcVxxQAK1fqVArXFAPvjggw/+cUB5O0Ni3k5yQLV+pUCtn3JA8MEHH3zwckAsBWr9SkFzQGdIzNsZknNAo4suuujic0DezpCYtzN0QBkS83aGhHRAVVVVVVXVdECQmLczJCZ1QMzbGRLzdnVABx988MHHdUBDYt7OkBh2QH6lQK1faXZAuuiiiy66dkD1KwVq/Qp3QDFvZ0jMW3dAbLLJJpusd0Co9SsFav13QOM4juM4TnhAH3zwwQefeEBav1Kg1u94QJYCtX6lQHlA0UUXXXSReUAMiXk7Q+J5QEjM2xkSM3pAgw8++OCDekC/UqDWr9R6QPqVArV+JXtANtlkk012e0BxHMdxHMd7QK1fKVDrF3xA6KKLLrpofEAk5u0Mibl8QF8pUOtXCn1Am2yyySZbfUDWrxSo9at9QBLzdobE/H1ATTbZZJNNfkCIeTtDYp5+QMS8nSEx735AAAAAAABAf0A=\",\"dtype\":\"float64\",\"shape\":[100]},\"y\":{\"__ndarray__\":\"AAAAAAAAJEC9jSWDwGBqvWXKSYbnOKa7QbXyhtbcXLsmAKWX0JOYOrZbi+fMQA26grQt42lqhrmITnsiTVsVuVyqPabnj9k4vl9Toh3qqbgyr62vJmpjuGtQ6TKRjA+4Bedty7eLAjiwcnzdSzCPtynD2UfRX5U3ZY5oGZrXhTfEPHtg5Ug+t7MkYa9HIuM2eEqXZpbq3LbCm2whknW8tn8nCq4+dpm2uA0kXnuAc7Y4NqkfDIA2tvzVhzG5vyQ2Jk5gFDsOFzanPeynpnritaxVjFCVkM01wuGaOg6zxzUql9xjTW/rtagMPzj0YsE1EoMOm0G5yLUZX8kDgBzLtaNGPsDlDvw1iWTa3gxBE7aoJ2J3Xrf2tbJ7NOL4ugS2tJk5Ptgt9rUUngiLLdrUtTNHrMqA7dO14K6wa4kcXbWhsx6z+mloNb3gNi1zrFa1YKuqk2uDa7Vo6Sqn78KJNQ0rlEs7kUU1rrxoNthoUDXGeVWQGVYetRjf1lkVigs1AJZ8bCnRuLTWWsi6xKKxtJ8bzh0uz/m0z4Ze85gB+bSAgQkoqolNNPBS/0pkCZa02/0JHJ/xgLTLzPHgupeetI0HMp22Hq405BCmA0girrTubMx3QQ7OtJjD+W3uoLg0DGcI6xFO2jRyHN178i7UtEBP9NUbJ+e03bRIAtwG6zRGzKp7tYfzNKeeoMV+6v+0qLGeM+nuAbXGfNIwE4/TNPUb9UGmB3m0WY9qMPVfqDSYfPgmeN1otMLe1+BDam408vtk6pweI7Q8/ZxUWcwytPHbNVuCRc0zTpCivJjfCrR8D3AcNY8jtN6KJaAWXEO04hD5LNLPMLQruUrWRIkAtOI3U+QzGsazlOhiwB3zfjP4kE/y5aLRs0a+eEJH4KuzZxaztMMB37MfR6zz5pS7s19uNiti3toz+ahb2sBYyjOYMFqGCOaqs3nhQngaSKuzJ1z3TMooorMSpM0Nvj6Xsy0154T3CJQzsLfW+k2SlTNcL/PfXDVvs1ji39d3Gnyz6Bo4X9C6gbOLioGx4Q6ds4lstHLID6qzq5UB22GjqLM=\",\"dtype\":\"float64\",\"shape\":[100]}},\"selected\":{\"id\":\"8259\",\"type\":\"Selection\"},\"selection_policy\":{\"id\":\"8260\",\"type\":\"UnionRenderers\"}},\"id\":\"8232\",\"type\":\"ColumnDataSource\"},{\"attributes\":{\"source\":{\"id\":\"8232\",\"type\":\"ColumnDataSource\"}},\"id\":\"8236\",\"type\":\"CDSView\"},{\"attributes\":{},\"id\":\"8284\",\"type\":\"WheelZoomTool\"},{\"attributes\":{},\"id\":\"8283\",\"type\":\"PanTool\"},{\"attributes\":{\"click_policy\":\"hide\",\"items\":[{\"id\":\"8231\",\"type\":\"LegendItem\"},{\"id\":\"8245\",\"type\":\"LegendItem\"},{\"id\":\"8261\",\"type\":\"LegendItem\"}]},\"id\":\"8230\",\"type\":\"Legend\"},{\"attributes\":{\"overlay\":{\"id\":\"8306\",\"type\":\"BoxAnnotation\"}},\"id\":\"8285\",\"type\":\"BoxZoomTool\"},{\"attributes\":{\"data_source\":{\"id\":\"8232\",\"type\":\"ColumnDataSource\"},\"glyph\":{\"id\":\"8233\",\"type\":\"Line\"},\"hover_glyph\":null,\"muted_glyph\":null,\"nonselection_glyph\":{\"id\":\"8234\",\"type\":\"Line\"},\"selection_glyph\":null,\"view\":{\"id\":\"8236\",\"type\":\"CDSView\"}},\"id\":\"8235\",\"type\":\"GlyphRenderer\"},{\"attributes\":{},\"id\":\"8287\",\"type\":\"ResetTool\"},{\"attributes\":{},\"id\":\"8650\",\"type\":\"Selection\"},{\"attributes\":{},\"id\":\"8259\",\"type\":\"Selection\"},{\"attributes\":{},\"id\":\"8648\",\"type\":\"UnionRenderers\"},{\"attributes\":{\"label\":{\"value\":\"inside_H\"},\"renderers\":[{\"id\":\"8249\",\"type\":\"GlyphRenderer\"}]},\"id\":\"8261\",\"type\":\"LegendItem\"},{\"attributes\":{},\"id\":\"8243\",\"type\":\"Selection\"},{\"attributes\":{},\"id\":\"8286\",\"type\":\"SaveTool\"}],\"root_ids\":[\"8309\"]},\"title\":\"Bokeh Application\",\"version\":\"1.4.0\"}};\n",
       "  var render_items = [{\"docid\":\"21798435-bd8b-4cba-8915-f493f0e29da8\",\"roots\":{\"8309\":\"9b8fae13-48a6-473d-9dbc-21db10d08e5f\"}}];\n",
       "  root.Bokeh.embed.embed_items_notebook(docs_json, render_items);\n",
       "\n",
       "  }\n",
       "  if (root.Bokeh !== undefined) {\n",
       "    embed_document(root);\n",
       "  } else {\n",
       "    var attempts = 0;\n",
       "    var timer = setInterval(function(root) {\n",
       "      if (root.Bokeh !== undefined) {\n",
       "        clearInterval(timer);\n",
       "        embed_document(root);\n",
       "      } else {\n",
       "        attempts++;\n",
       "        if (attempts > 100) {\n",
       "          clearInterval(timer);\n",
       "          console.log(\"Bokeh: ERROR: Unable to run BokehJS code because BokehJS library is missing\");\n",
       "        }\n",
       "      }\n",
       "    }, 10, root)\n",
       "  }\n",
       "})(window);"
      ],
      "application/vnd.bokehjs_exec.v0+json": ""
     },
     "metadata": {
      "application/vnd.bokehjs_exec.v0+json": {
       "id": "8309"
      }
     },
     "output_type": "display_data"
    }
   ],
   "source": [
    "# PLOT WITH ATP SYNTHASE\n",
    "p_w_atp = bokeh.plotting.figure(width = 450, height = 350, title = 'with ATP Synthase, ATP Use',\n",
    "                          x_axis_label = 'time',\n",
    "                          y_axis_label = 'concentration')\n",
    "plot_list = [ATP_id, outside_H_id, inside_H_id]\n",
    "plot_str = ['atp', 'outside_H', 'inside_H']\n",
    "# plot_list = [atp_synthase_b_protein_id, atp_synthase_f_protein_id]\n",
    "# plot_str = ['atp synthase bound', 'atp synthase free']\n",
    "for i,item in enumerate(plot_list):\n",
    "    p_w_atp.line(timepoints, results[item], line_width = 2, legend_label = plot_str[i], color = palette[i])\n",
    "    \n",
    "\n",
    "# PLOT WITHOUT ATP SYNTHASE\n",
    "p_no_atp = bokeh.plotting.figure(width = 450, height = 350, title = 'with ATP Use',\n",
    "                          x_axis_label = 'time',\n",
    "                          y_axis_label = 'concentration')\n",
    "p_no_atp.line(timepoints, results2[ATP_id2], line_width = 2, legend_label = 'atp', color = palette[0])\n",
    "\n",
    "\n",
    "p_w_atp.legend.location = 'top_right'\n",
    "p_w_atp.legend.click_policy = 'hide'\n",
    "    \n",
    "bokeh.io.show(row(p_w_atp, p_no_atp))\n",
    "\n",
    "\n"
   ]
  },
  {
   "cell_type": "markdown",
   "metadata": {},
   "source": [
    "Why does bound atp synthase shoot infinitely high:( got em, it's because you kept remaking the transcript silly"
   ]
  },
  {
   "cell_type": "markdown",
   "metadata": {},
   "source": [
    "## Combine all proton pump with txtl machinery\n",
    "---"
   ]
  },
  {
   "cell_type": "code",
   "execution_count": 18,
   "metadata": {},
   "outputs": [],
   "source": [
    "#ss5_pp_txtl = createSubsystem('proton_pump_tx_tl.xml', subsystemName = 'pp_txtl')\n",
    "ss5_pp_txtl = createSubsystem('proton_pump_machinery_txtl.xml', subsystemName = 'pp_txtl')\n",
    "ss6_pp_mi = createSubsystem('proton_pump_membrane_integration.xml', subsystemName = 'pp_mi')\n",
    "ss7_protontransport = createSubsystem('proton_transport_through_proton_pump.xml', subsystemName = 'protontransport')"
   ]
  },
  {
   "cell_type": "code",
   "execution_count": 19,
   "metadata": {},
   "outputs": [],
   "source": [
    "pp_subsystem = ss5_pp_txtl + ss6_pp_mi + ss7_protontransport"
   ]
  },
  {
   "cell_type": "code",
   "execution_count": 26,
   "metadata": {},
   "outputs": [
    {
     "name": "stderr",
     "output_type": "stream",
     "text": [
      "odeint failed with mxstep=500..."
     ]
    }
   ],
   "source": [
    "# Initial conditions\n",
    "spec_list_10 = ['dna_proton_pump', 'proton_outside_H', 'metabolite_atp', 'protein_RNAP_machinery', \n",
    "                'protein_Ribo_machinery', 'protein_RNAse_machinery']\n",
    "for i,spec in enumerate(spec_list_10):\n",
    "    pp_subsystem.setSpeciesAmount(spec,10)\n",
    "\n",
    "\n",
    "# timepoints and get results\n",
    "timepoints = np.linspace(0,500,100)\n",
    "results, _ = pp_subsystem.simulateWithBioscrape(timepoints, sbml_warnings = False)\n",
    "\n",
    "# Get species IDs\n",
    "ATP_id = pp_subsystem.getSpeciesByName('metabolite_atp').getId()\n",
    "ADP_id = pp_subsystem.getSpeciesByName('metabolite_adp').getId()\n",
    "\n",
    "outside_H_id = pp_subsystem.getSpeciesByName('proton_outside_H').getId()\n",
    "inside_H_id = pp_subsystem.getSpeciesByName('proton_inside_H').getId()\n",
    "proton_pump_b_protein_id = pp_subsystem.getSpeciesByName('protein_proton_pump_b').getId()\n",
    "proton_pump_f_protein_id = pp_subsystem.getSpeciesByName('protein_proton_pump').getId()\n",
    "\n",
    "\n",
    "\n",
    "dna_pp = pp_subsystem.getSpeciesByName('dna_proton_pump').getId()"
   ]
  },
  {
   "cell_type": "code",
   "execution_count": 48,
   "metadata": {},
   "outputs": [
    {
     "data": {
      "text/html": [
       "\n",
       "\n",
       "\n",
       "\n",
       "\n",
       "\n",
       "  <div class=\"bk-root\" id=\"bb01a291-dc3d-4b98-8f4e-7511a79ddd0b\" data-root-id=\"6147\"></div>\n"
      ]
     },
     "metadata": {},
     "output_type": "display_data"
    },
    {
     "data": {
      "application/javascript": [
       "(function(root) {\n",
       "  function embed_document(root) {\n",
       "    \n",
       "  var docs_json = {\"39a9e7d1-c817-4b78-8984-c6fbe85105db\":{\"roots\":{\"references\":[{\"attributes\":{\"below\":[{\"id\":\"6158\",\"type\":\"LinearAxis\"}],\"center\":[{\"id\":\"6162\",\"type\":\"Grid\"},{\"id\":\"6167\",\"type\":\"Grid\"},{\"id\":\"6192\",\"type\":\"Legend\"}],\"left\":[{\"id\":\"6163\",\"type\":\"LinearAxis\"}],\"plot_height\":350,\"plot_width\":450,\"renderers\":[{\"id\":\"6184\",\"type\":\"GlyphRenderer\"},{\"id\":\"6197\",\"type\":\"GlyphRenderer\"},{\"id\":\"6211\",\"type\":\"GlyphRenderer\"},{\"id\":\"6227\",\"type\":\"GlyphRenderer\"},{\"id\":\"6245\",\"type\":\"GlyphRenderer\"}],\"title\":{\"id\":\"6148\",\"type\":\"Title\"},\"toolbar\":{\"id\":\"6174\",\"type\":\"Toolbar\"},\"x_range\":{\"id\":\"6150\",\"type\":\"DataRange1d\"},\"x_scale\":{\"id\":\"6154\",\"type\":\"LinearScale\"},\"y_range\":{\"id\":\"6152\",\"type\":\"DataRange1d\"},\"y_scale\":{\"id\":\"6156\",\"type\":\"LinearScale\"}},\"id\":\"6147\",\"subtype\":\"Figure\",\"type\":\"Plot\"},{\"attributes\":{},\"id\":\"6511\",\"type\":\"UnionRenderers\"},{\"attributes\":{},\"id\":\"6156\",\"type\":\"LinearScale\"},{\"attributes\":{},\"id\":\"6173\",\"type\":\"HelpTool\"},{\"attributes\":{\"source\":{\"id\":\"6242\",\"type\":\"ColumnDataSource\"}},\"id\":\"6246\",\"type\":\"CDSView\"},{\"attributes\":{},\"id\":\"6222\",\"type\":\"UnionRenderers\"},{\"attributes\":{\"formatter\":{\"id\":\"6189\",\"type\":\"BasicTickFormatter\"},\"ticker\":{\"id\":\"6159\",\"type\":\"BasicTicker\"}},\"id\":\"6158\",\"type\":\"LinearAxis\"},{\"attributes\":{},\"id\":\"6221\",\"type\":\"Selection\"},{\"attributes\":{},\"id\":\"6259\",\"type\":\"Selection\"},{\"attributes\":{\"line_alpha\":0.1,\"line_color\":\"#1f77b4\",\"line_width\":2,\"x\":{\"field\":\"x\"},\"y\":{\"field\":\"y\"}},\"id\":\"6183\",\"type\":\"Line\"},{\"attributes\":{\"callback\":null,\"data\":{\"x\":{\"__ndarray__\":\"AAAAAAAAAADezpCYtzMUQN7OkJi3MyRATTbZZJNNLkDezpCYtzM0QJYCtX6lQDlATTbZZJNNPkACtX6lQK1BQN7OkJi3M0RAuuiiiy66RkCWArV+pUBJQHEcx3Ecx0tATTbZZJNNTkAUqPUrBWpQQAK1fqVArVFA8MEHH3zwUkDezpCYtzNUQMzbGRLzdlVAuuiiiy66VkCo9SsFav1XQJYCtX6lQFlAgw8++OCDWkBxHMdxHMdbQF8pUOtXCl1ATTbZZJNNXkA7Q2LezpBfQBSo9SsFamBAiy666KILYUACtX6lQK1hQHk7Q2LeTmJA8MEHH3zwYkBnSMzbGZJjQN7OkJi3M2RAVVVVVVXVZEDM2xkS83ZlQENi3s6QGGZAuuiiiy66ZkAxb2dIzFtnQKj1KwVq/WdAH3zwwQefaECWArV+pUBpQAyJeTtD4mlAgw8++OCDakD6lQK1fiVrQHEcx3Ecx2tA6KKLLrpobEBfKVDrVwptQNavFKj1q21ATTbZZJNNbkDEvJ0hMe9uQDtDYt7OkG9A2WSTTTYZcEAUqPUrBWpwQFDrVwrUunBAiy666KILcUDHcRzHcVxxQAK1fqVArXFAPvjggw/+cUB5O0Ni3k5yQLV+pUCtn3JA8MEHH3zwckAsBWr9SkFzQGdIzNsZknNAo4suuujic0DezpCYtzN0QBkS83aGhHRAVVVVVVXVdECQmLczJCZ1QMzbGRLzdnVABx988MHHdUBDYt7OkBh2QH6lQK1faXZAuuiiiy66dkD1KwVq/Qp3QDFvZ0jMW3dAbLLJJpusd0Co9SsFav13QOM4juM4TnhAH3zwwQefeEBav1Kg1u94QJYCtX6lQHlA0UUXXXSReUAMiXk7Q+J5QEjM2xkSM3pAgw8++OCDekC/UqDWr9R6QPqVArV+JXtANtlkk012e0BxHMdxHMd7QK1fKVDrF3xA6KKLLrpofEAk5u0Mibl8QF8pUOtXCn1Am2yyySZbfUDWrxSo9at9QBLzdobE/H1ATTbZZJNNfkCIeTtDYp5+QMS8nSEx735AAAAAAABAf0A=\",\"dtype\":\"float64\",\"shape\":[100]},\"y\":{\"__ndarray__\":\"AAAAAAAAAAC4w7AwsvKwPm9aqLqV0eA+0+Ouo3LY+z4jyGgexCUQP4B/8ytC1h4/61aj4l4LKj9PKV1n0zY0Pw/agXzkfz0/eLRAqSKJRD/spR9KLI1LP7u65bn/71E/0djsIMHJVj8eSQ4E4ltcP3XNCCzKVmE/dkmd2KTiZD9INDNjY9RoP8Q6OS+ZLm0/Vn9NEcn5cD+NVJQQrZJzPzGmmrbhYnY/3LV1ETZreT/slDRQYax8P7bWE62CE4A/4KEggtjtgT9MR3o/ceWDP9TuFdWD+oU/gUl0+T8tiD9DoTb7zn2KP4uq5V5U7Iw/Q7pFmu54jz+NCeqg2xGRP5iVPxNidpI/7UNIZBPqkz9FUTXd9myVP9czW/0R/5Y/aLZ+B2mgmD+PDnLe/lCaP++GklbVEJw/z1TPN+3fnT++b9hiRr6fP7bai/Tv1aA/WoPYGVzUoT8Z0ydvZtqiP6HbrJIN6KM/FbANwE/9pD+L744RKxqmP6J4bFqdPqc/2uQrQ6RqqD9TY1VLPZ6pP5YURsdl2ao/2vS38RocrD/rm8rfWWatP78u3ZYfuK4/fvd5fLQIsD8yHwhxGbmwPwRZrw09bbE/5tpNqR0lsj8YjVWdueCyP3vjUjkPoLM/OAjKxhxjtD838X+Q4Cm1P9fqZ9lY9LU/sjf55IPCtj+u2kz1X5S3P6Ng9Ujrabg/KJDDICRDuT99dD+8CCC6P1keYFqXALs/cwbgPM7kuz/k2Fajq8y8Pxr5v9AtuL0/E96rClOnvj/e5w2XGZq/P6HN1t0/SMA/WhJm4kHFwD+21B4AEkTBP7rQ0FyvxME/U59GIhlHwj/AsQl7TsvCPxW2fpJOUcM/tm6AlRjZwz+igzOzq2LEP9X9DRwH7sQ/HP+sASp7xT91ExGYEwrGP4lb1BTDmsY/awIGrzctxz88JcqfcMHHPxYAOiJtV8g/2S0hcyzvyD/Ko+/QrYjJP1AIeXzwI8o/z7tkuPPAyj8H19zItl/LPyzegPQ4AMw/cX3Mg3mizD91zh3Bd0bNP6wr1Pgy7M0/4F92eaqTzj8=\",\"dtype\":\"float64\",\"shape\":[100]}},\"selected\":{\"id\":\"6259\",\"type\":\"Selection\"},\"selection_policy\":{\"id\":\"6260\",\"type\":\"UnionRenderers\"}},\"id\":\"6224\",\"type\":\"ColumnDataSource\"},{\"attributes\":{\"label\":{\"value\":\"dna protein pump\"},\"renderers\":[{\"id\":\"6245\",\"type\":\"GlyphRenderer\"}]},\"id\":\"6261\",\"type\":\"LegendItem\"},{\"attributes\":{\"callback\":null},\"id\":\"6152\",\"type\":\"DataRange1d\"},{\"attributes\":{\"callback\":null,\"data\":{\"x\":{\"__ndarray__\":\"AAAAAAAAAADezpCYtzMUQN7OkJi3MyRATTbZZJNNLkDezpCYtzM0QJYCtX6lQDlATTbZZJNNPkACtX6lQK1BQN7OkJi3M0RAuuiiiy66RkCWArV+pUBJQHEcx3Ecx0tATTbZZJNNTkAUqPUrBWpQQAK1fqVArVFA8MEHH3zwUkDezpCYtzNUQMzbGRLzdlVAuuiiiy66VkCo9SsFav1XQJYCtX6lQFlAgw8++OCDWkBxHMdxHMdbQF8pUOtXCl1ATTbZZJNNXkA7Q2LezpBfQBSo9SsFamBAiy666KILYUACtX6lQK1hQHk7Q2LeTmJA8MEHH3zwYkBnSMzbGZJjQN7OkJi3M2RAVVVVVVXVZEDM2xkS83ZlQENi3s6QGGZAuuiiiy66ZkAxb2dIzFtnQKj1KwVq/WdAH3zwwQefaECWArV+pUBpQAyJeTtD4mlAgw8++OCDakD6lQK1fiVrQHEcx3Ecx2tA6KKLLrpobEBfKVDrVwptQNavFKj1q21ATTbZZJNNbkDEvJ0hMe9uQDtDYt7OkG9A2WSTTTYZcEAUqPUrBWpwQFDrVwrUunBAiy666KILcUDHcRzHcVxxQAK1fqVArXFAPvjggw/+cUB5O0Ni3k5yQLV+pUCtn3JA8MEHH3zwckAsBWr9SkFzQGdIzNsZknNAo4suuujic0DezpCYtzN0QBkS83aGhHRAVVVVVVXVdECQmLczJCZ1QMzbGRLzdnVABx988MHHdUBDYt7OkBh2QH6lQK1faXZAuuiiiy66dkD1KwVq/Qp3QDFvZ0jMW3dAbLLJJpusd0Co9SsFav13QOM4juM4TnhAH3zwwQefeEBav1Kg1u94QJYCtX6lQHlA0UUXXXSReUAMiXk7Q+J5QEjM2xkSM3pAgw8++OCDekC/UqDWr9R6QPqVArV+JXtANtlkk012e0BxHMdxHMd7QK1fKVDrF3xA6KKLLrpofEAk5u0Mibl8QF8pUOtXCn1Am2yyySZbfUDWrxSo9at9QBLzdobE/H1ATTbZZJNNfkCIeTtDYp5+QMS8nSEx735AAAAAAABAf0A=\",\"dtype\":\"float64\",\"shape\":[100]},\"y\":{\"__ndarray__\":\"AAAAAAAAJEDZbp5VI/kXQNEWNIQQyhRAgyW2ZCQoFED8cnCD+QcUQMEtcJWVARRAEmVNlVAAFECzOaMEEAAUQFPCFjADABRAekxOoAAAFED5afQeAAAUQCP0ogUAABRA+CzxAAAAFED7Iuz///8TQNawzP///xNAEFry////E0B5LgYAAAAUQKgM/////xNACYn4////E0Dlpfv///8TQP6iAAAAABRAj9YBAAAAFEC6FwEAAAAUQD/l/f///xNAV6n7////E0DLK/3///8TQE82/////xNArgMBAAAAFEBIEQEAAAAUQAlu/////xNA2tL+////E0B14f3///8TQHfR/v///xNABAkAAAAAFEB5mwAAAAAUQKAEAQAAABRAFGoAAAAAFEBCxf////8TQAWE/////xNABHf/////E0Amzf////8TQOH6/////xNA28z/////E0B5PAAAAAAUQEI0AQAAABRAsHwBAAAAFEAbdwAAAAAUQGFl/////xNAvc//////E0COWAEAAAAUQDDMAAAAABRAf6L9////E0BhTf3///8TQIoMAgAAABRA53QEAAAAFEAgHgUAAAAUQOvGAgAAABRA00QBAAAAFEA79v////8TQEET/////xNArkb+////E0Dtx/7///8TQIOg/////xNAQ2gAAAAAFEDChQAAAAAUQJzpAAAAABRAoNEAAAAAFEBPQwAAAAAUQHi7/////xNA25b/////E0Dk9f7///8TQKfl/f///xNAL7v8////E0CEufv///8TQGVk+////xNAyCL8////E0BKj/7///8TQITa/////xNA+iIAAAAAFECnE/7///8TQLvV+////xNAh4/8////E0DrxwAAAAAUQOQjCQAAABRAzvoKAAAAFEAyqAYAAAAUQBD79v///xNAvsbo////E0B4AOD///8TQKBm4P///xNAtgLq////E0A/CPD///8TQCFT9////xNA34H8////E0Bw0QMAAAAUQJkQCAAAABRAwgQGAAAAFECffQAAAAAUQDfW+////xNAcyH4////E0A=\",\"dtype\":\"float64\",\"shape\":[100]}},\"selected\":{\"id\":\"6221\",\"type\":\"Selection\"},\"selection_policy\":{\"id\":\"6222\",\"type\":\"UnionRenderers\"}},\"id\":\"6194\",\"type\":\"ColumnDataSource\"},{\"attributes\":{},\"id\":\"6260\",\"type\":\"UnionRenderers\"},{\"attributes\":{},\"id\":\"6164\",\"type\":\"BasicTicker\"},{\"attributes\":{\"data_source\":{\"id\":\"6181\",\"type\":\"ColumnDataSource\"},\"glyph\":{\"id\":\"6182\",\"type\":\"Line\"},\"hover_glyph\":null,\"muted_glyph\":null,\"nonselection_glyph\":{\"id\":\"6183\",\"type\":\"Line\"},\"selection_glyph\":null,\"view\":{\"id\":\"6185\",\"type\":\"CDSView\"}},\"id\":\"6184\",\"type\":\"GlyphRenderer\"},{\"attributes\":{\"source\":{\"id\":\"6194\",\"type\":\"ColumnDataSource\"}},\"id\":\"6198\",\"type\":\"CDSView\"},{\"attributes\":{},\"id\":\"6159\",\"type\":\"BasicTicker\"},{\"attributes\":{\"label\":{\"value\":\"inside_H\"},\"renderers\":[{\"id\":\"6211\",\"type\":\"GlyphRenderer\"}]},\"id\":\"6223\",\"type\":\"LegendItem\"},{\"attributes\":{\"line_color\":\"#9367bc\",\"line_width\":2,\"x\":{\"field\":\"x\"},\"y\":{\"field\":\"y\"}},\"id\":\"6225\",\"type\":\"Line\"},{\"attributes\":{\"ticker\":{\"id\":\"6159\",\"type\":\"BasicTicker\"}},\"id\":\"6162\",\"type\":\"Grid\"},{\"attributes\":{\"line_color\":\"#ff7e0e\",\"line_width\":2,\"x\":{\"field\":\"x\"},\"y\":{\"field\":\"y\"}},\"id\":\"6195\",\"type\":\"Line\"},{\"attributes\":{\"source\":{\"id\":\"6208\",\"type\":\"ColumnDataSource\"}},\"id\":\"6212\",\"type\":\"CDSView\"},{\"attributes\":{\"source\":{\"id\":\"6181\",\"type\":\"ColumnDataSource\"}},\"id\":\"6185\",\"type\":\"CDSView\"},{\"attributes\":{\"dimension\":1,\"ticker\":{\"id\":\"6164\",\"type\":\"BasicTicker\"}},\"id\":\"6167\",\"type\":\"Grid\"},{\"attributes\":{\"line_alpha\":0.1,\"line_color\":\"#1f77b4\",\"line_width\":2,\"x\":{\"field\":\"x\"},\"y\":{\"field\":\"y\"}},\"id\":\"6226\",\"type\":\"Line\"},{\"attributes\":{\"formatter\":{\"id\":\"6187\",\"type\":\"BasicTickFormatter\"},\"ticker\":{\"id\":\"6164\",\"type\":\"BasicTicker\"}},\"id\":\"6163\",\"type\":\"LinearAxis\"},{\"attributes\":{},\"id\":\"6187\",\"type\":\"BasicTickFormatter\"},{\"attributes\":{\"callback\":null,\"data\":{\"x\":{\"__ndarray__\":\"AAAAAAAAAADezpCYtzMUQN7OkJi3MyRATTbZZJNNLkDezpCYtzM0QJYCtX6lQDlATTbZZJNNPkACtX6lQK1BQN7OkJi3M0RAuuiiiy66RkCWArV+pUBJQHEcx3Ecx0tATTbZZJNNTkAUqPUrBWpQQAK1fqVArVFA8MEHH3zwUkDezpCYtzNUQMzbGRLzdlVAuuiiiy66VkCo9SsFav1XQJYCtX6lQFlAgw8++OCDWkBxHMdxHMdbQF8pUOtXCl1ATTbZZJNNXkA7Q2LezpBfQBSo9SsFamBAiy666KILYUACtX6lQK1hQHk7Q2LeTmJA8MEHH3zwYkBnSMzbGZJjQN7OkJi3M2RAVVVVVVXVZEDM2xkS83ZlQENi3s6QGGZAuuiiiy66ZkAxb2dIzFtnQKj1KwVq/WdAH3zwwQefaECWArV+pUBpQAyJeTtD4mlAgw8++OCDakD6lQK1fiVrQHEcx3Ecx2tA6KKLLrpobEBfKVDrVwptQNavFKj1q21ATTbZZJNNbkDEvJ0hMe9uQDtDYt7OkG9A2WSTTTYZcEAUqPUrBWpwQFDrVwrUunBAiy666KILcUDHcRzHcVxxQAK1fqVArXFAPvjggw/+cUB5O0Ni3k5yQLV+pUCtn3JA8MEHH3zwckAsBWr9SkFzQGdIzNsZknNAo4suuujic0DezpCYtzN0QBkS83aGhHRAVVVVVVXVdECQmLczJCZ1QMzbGRLzdnVABx988MHHdUBDYt7OkBh2QH6lQK1faXZAuuiiiy66dkD1KwVq/Qp3QDFvZ0jMW3dAbLLJJpusd0Co9SsFav13QOM4juM4TnhAH3zwwQefeEBav1Kg1u94QJYCtX6lQHlA0UUXXXSReUAMiXk7Q+J5QEjM2xkSM3pAgw8++OCDekC/UqDWr9R6QPqVArV+JXtANtlkk012e0BxHMdxHMd7QK1fKVDrF3xA6KKLLrpofEAk5u0Mibl8QF8pUOtXCn1Am2yyySZbfUDWrxSo9at9QBLzdobE/H1ATTbZZJNNfkCIeTtDYp5+QMS8nSEx735AAAAAAABAf0A=\",\"dtype\":\"float64\",\"shape\":[100]},\"y\":{\"__ndarray__\":\"AAAAAAAAJED2LYzPk+YTQOPRna64zBNAR94Aj92yE0BZ9rlwApkTQA3UzVMnfxNAukhBOExlE0D2PRkecUsTQC+3WgWWMRNAes8K7roXE0BFvS7Y3/0SQHbRy8ME5BJAbHjnsCnKEkCzOoefTrASQMC9sI9zlhJAusRpgZh8EkBDMbh0vWISQC4EomniSBJAdV4tYAcvEkALgmBYLBUSQLvSQVJR+xFAH9fXTXbhEUCHOSlLm8cRQJ7IPErArRFAenkZS+WTEUCzZ8ZNCnoRQAXWSlIvYBFAIzKuWFRGEUBuEPhgeSwRQKc0MGueEhFAKYxed8P4EECZM4uF6N4QQNZ1vpUNxRBAec8AqDKrEECF7lq8V5EQQFG01dJ8dxBAQzd666FdEECWxFEGx0MQQILhZSPsKRBAqU3AQhEQEEApCNbIbOwPQJF64BC3uA9AMuK0XQGFD0DpsmivS1EPQCLlEQaWHQ9Ab//GYeDpDkDlFJ/CKrYOQNTPsSh1gg5AgHIXlL9ODkCE3OgEChsOQBaRP3tU5w1AVLo1956zDUBYNeZ46X8NQDiObAA0TA1Ahg3ljX4YDUBYuGwhyeQMQABbIbsTsQxAOpkhW159DED/3owBqUkMQL55g67zFQxATZsmYj7iC0DjWZgcia4LQL7N+93TegtA6wF1ph5HC0B+Bil2aRMLQMUHPk203wpA1TzbK/+rCkDmBikSSngKQDn6UACVRApA9dd99t8QCkCFw9v0Kt0JQKUemPt1qQlADqDhCsF1CUCddugiDEIJQOhc3kNXDglATGv2baLaCEC2U2Wh7aYIQPP0Yd44cwhAiV0kJYQ/CED6juZ1zwsIQL1z5NAa2AdA0OJbNmakB0BEnoymsXAHQIKWuCH9PAdAgYgkqEgJB0BExhY6lNUGQOg72NffoQZAhYW0gStuBkDasPk3dzoGQCBt+PrCBgZAYnkEyw7TBUAs63SoWp8FQMZNo5OmawVA7JHsjPI3BUCX8LGUPgQFQDw9V6uK0ARA9j5E0dacBEDKGeUGI2kEQAERqkxvNQRAMi0Ho7sBBEA=\",\"dtype\":\"float64\",\"shape\":[100]}},\"selected\":{\"id\":\"6510\",\"type\":\"Selection\"},\"selection_policy\":{\"id\":\"6511\",\"type\":\"UnionRenderers\"}},\"id\":\"6242\",\"type\":\"ColumnDataSource\"},{\"attributes\":{},\"id\":\"6172\",\"type\":\"ResetTool\"},{\"attributes\":{},\"id\":\"6510\",\"type\":\"Selection\"},{\"attributes\":{\"callback\":null,\"data\":{\"x\":{\"__ndarray__\":\"AAAAAAAAAADezpCYtzMUQN7OkJi3MyRATTbZZJNNLkDezpCYtzM0QJYCtX6lQDlATTbZZJNNPkACtX6lQK1BQN7OkJi3M0RAuuiiiy66RkCWArV+pUBJQHEcx3Ecx0tATTbZZJNNTkAUqPUrBWpQQAK1fqVArVFA8MEHH3zwUkDezpCYtzNUQMzbGRLzdlVAuuiiiy66VkCo9SsFav1XQJYCtX6lQFlAgw8++OCDWkBxHMdxHMdbQF8pUOtXCl1ATTbZZJNNXkA7Q2LezpBfQBSo9SsFamBAiy666KILYUACtX6lQK1hQHk7Q2LeTmJA8MEHH3zwYkBnSMzbGZJjQN7OkJi3M2RAVVVVVVXVZEDM2xkS83ZlQENi3s6QGGZAuuiiiy66ZkAxb2dIzFtnQKj1KwVq/WdAH3zwwQefaECWArV+pUBpQAyJeTtD4mlAgw8++OCDakD6lQK1fiVrQHEcx3Ecx2tA6KKLLrpobEBfKVDrVwptQNavFKj1q21ATTbZZJNNbkDEvJ0hMe9uQDtDYt7OkG9A2WSTTTYZcEAUqPUrBWpwQFDrVwrUunBAiy666KILcUDHcRzHcVxxQAK1fqVArXFAPvjggw/+cUB5O0Ni3k5yQLV+pUCtn3JA8MEHH3zwckAsBWr9SkFzQGdIzNsZknNAo4suuujic0DezpCYtzN0QBkS83aGhHRAVVVVVVXVdECQmLczJCZ1QMzbGRLzdnVABx988MHHdUBDYt7OkBh2QH6lQK1faXZAuuiiiy66dkD1KwVq/Qp3QDFvZ0jMW3dAbLLJJpusd0Co9SsFav13QOM4juM4TnhAH3zwwQefeEBav1Kg1u94QJYCtX6lQHlA0UUXXXSReUAMiXk7Q+J5QEjM2xkSM3pAgw8++OCDekC/UqDWr9R6QPqVArV+JXtANtlkk012e0BxHMdxHMd7QK1fKVDrF3xA6KKLLrpofEAk5u0Mibl8QF8pUOtXCn1Am2yyySZbfUDWrxSo9at9QBLzdobE/H1ATTbZZJNNfkCIeTtDYp5+QMS8nSEx735AAAAAAABAf0A=\",\"dtype\":\"float64\",\"shape\":[100]},\"y\":{\"__ndarray__\":\"AAAAAAAAAAAhkWGq3AYQQCnpy3vvNRNAd9pJm9vXE0D+jI98BvgTQDnSj2pq/hNA6Jqyaq//E0BHxlz77/8TQKc96c/8/xNAgLOxX///E0ABlgvh//8TQNcLXfr//xNAAtMO////E0D/3BMAAAAUQCRPMwAAABRA6qUNAAAAFECB0fn///8TQFLzAAAAABRA8XYHAAAAFEAVWgQAAAAUQPxc/////xNAayn+////E0BA6P7///8TQLsaAgAAABRAo1YEAAAAFEAv1AIAAAAUQKvJAAAAABRATPz+////E0Cy7v7///8TQPGRAAAAABRAIC0BAAAAFECFHgIAAAAUQIMuAQAAABRA9vb/////E0CBZP////8TQFr7/v///xNA5pX/////E0C4OgAAAAAUQPV7AAAAABRA9ogAAAAAFEDUMgAAAAAUQBkFAAAAABRAHzMAAAAAFECBw/////8TQLjL/v///xNASoP+////E0DfiP////8TQJmaAAAAABRAPTAAAAAAFEBsp/7///8TQMoz/////xNAe10CAAAAFECZsgIAAAAUQHDz/f///xNAE4v7////E0Da4fr///8TQA85/f///xNAJ7v+////E0C/CQAAAAAUQLnsAAAAABRATLkBAAAAFEANOAEAAAAUQHdfAAAAABRAt5f/////E0A4ev////8TQF4W/////xNAWi7/////E0CrvP////8TQIJEAAAAABRAH2kAAAAAFEAWCgEAAAAUQFMaAgAAABRAy0QDAAAAFEB2RgQAAAAUQJWbBAAAABRAMt0DAAAAFECwcAEAAAAUQHYlAAAAABRAAN3/////E0BT7AEAAAAUQD8qBAAAABRAc3ADAAAAFEAPOP////8TQBbc9v///xNALAX1////E0DIV/n///8TQOoECQAAABRAPDkXAAAAFECC/x8AAAAUQFqZHwAAABRARP0VAAAAFEC79w8AAAAUQNmsCAAAABRAG34DAAAAFECKLvz///8TQGHv9////xNAOPv5////E0Bbgv////8TQMMpBAAAABRAh94HAAAAFEA=\",\"dtype\":\"float64\",\"shape\":[100]}},\"selected\":{\"id\":\"6239\",\"type\":\"Selection\"},\"selection_policy\":{\"id\":\"6240\",\"type\":\"UnionRenderers\"}},\"id\":\"6208\",\"type\":\"ColumnDataSource\"},{\"attributes\":{\"line_color\":\"#1f77b3\",\"line_width\":2,\"x\":{\"field\":\"x\"},\"y\":{\"field\":\"y\"}},\"id\":\"6182\",\"type\":\"Line\"},{\"attributes\":{\"source\":{\"id\":\"6224\",\"type\":\"ColumnDataSource\"}},\"id\":\"6228\",\"type\":\"CDSView\"},{\"attributes\":{},\"id\":\"6205\",\"type\":\"Selection\"},{\"attributes\":{},\"id\":\"6154\",\"type\":\"LinearScale\"},{\"attributes\":{\"line_alpha\":0.1,\"line_color\":\"#1f77b4\",\"line_width\":2,\"x\":{\"field\":\"x\"},\"y\":{\"field\":\"y\"}},\"id\":\"6196\",\"type\":\"Line\"},{\"attributes\":{},\"id\":\"6239\",\"type\":\"Selection\"},{\"attributes\":{\"data_source\":{\"id\":\"6194\",\"type\":\"ColumnDataSource\"},\"glyph\":{\"id\":\"6195\",\"type\":\"Line\"},\"hover_glyph\":null,\"muted_glyph\":null,\"nonselection_glyph\":{\"id\":\"6196\",\"type\":\"Line\"},\"selection_glyph\":null,\"view\":{\"id\":\"6198\",\"type\":\"CDSView\"}},\"id\":\"6197\",\"type\":\"GlyphRenderer\"},{\"attributes\":{\"label\":{\"value\":\"outside_H\"},\"renderers\":[{\"id\":\"6197\",\"type\":\"GlyphRenderer\"}]},\"id\":\"6207\",\"type\":\"LegendItem\"},{\"attributes\":{\"bottom_units\":\"screen\",\"fill_alpha\":{\"value\":0.5},\"fill_color\":{\"value\":\"lightgrey\"},\"left_units\":\"screen\",\"level\":\"overlay\",\"line_alpha\":{\"value\":1.0},\"line_color\":{\"value\":\"black\"},\"line_dash\":[4,4],\"line_width\":{\"value\":2},\"render_mode\":\"css\",\"right_units\":\"screen\",\"top_units\":\"screen\"},\"id\":\"6191\",\"type\":\"BoxAnnotation\"},{\"attributes\":{\"active_drag\":\"auto\",\"active_inspect\":\"auto\",\"active_multi\":null,\"active_scroll\":\"auto\",\"active_tap\":\"auto\",\"tools\":[{\"id\":\"6168\",\"type\":\"PanTool\"},{\"id\":\"6169\",\"type\":\"WheelZoomTool\"},{\"id\":\"6170\",\"type\":\"BoxZoomTool\"},{\"id\":\"6171\",\"type\":\"SaveTool\"},{\"id\":\"6172\",\"type\":\"ResetTool\"},{\"id\":\"6173\",\"type\":\"HelpTool\"}]},\"id\":\"6174\",\"type\":\"Toolbar\"},{\"attributes\":{\"label\":{\"value\":\"bound proton pump\"},\"renderers\":[{\"id\":\"6227\",\"type\":\"GlyphRenderer\"}]},\"id\":\"6241\",\"type\":\"LegendItem\"},{\"attributes\":{},\"id\":\"6206\",\"type\":\"UnionRenderers\"},{\"attributes\":{\"callback\":null,\"data\":{\"x\":{\"__ndarray__\":\"AAAAAAAAAADezpCYtzMUQN7OkJi3MyRATTbZZJNNLkDezpCYtzM0QJYCtX6lQDlATTbZZJNNPkACtX6lQK1BQN7OkJi3M0RAuuiiiy66RkCWArV+pUBJQHEcx3Ecx0tATTbZZJNNTkAUqPUrBWpQQAK1fqVArVFA8MEHH3zwUkDezpCYtzNUQMzbGRLzdlVAuuiiiy66VkCo9SsFav1XQJYCtX6lQFlAgw8++OCDWkBxHMdxHMdbQF8pUOtXCl1ATTbZZJNNXkA7Q2LezpBfQBSo9SsFamBAiy666KILYUACtX6lQK1hQHk7Q2LeTmJA8MEHH3zwYkBnSMzbGZJjQN7OkJi3M2RAVVVVVVXVZEDM2xkS83ZlQENi3s6QGGZAuuiiiy66ZkAxb2dIzFtnQKj1KwVq/WdAH3zwwQefaECWArV+pUBpQAyJeTtD4mlAgw8++OCDakD6lQK1fiVrQHEcx3Ecx2tA6KKLLrpobEBfKVDrVwptQNavFKj1q21ATTbZZJNNbkDEvJ0hMe9uQDtDYt7OkG9A2WSTTTYZcEAUqPUrBWpwQFDrVwrUunBAiy666KILcUDHcRzHcVxxQAK1fqVArXFAPvjggw/+cUB5O0Ni3k5yQLV+pUCtn3JA8MEHH3zwckAsBWr9SkFzQGdIzNsZknNAo4suuujic0DezpCYtzN0QBkS83aGhHRAVVVVVVXVdECQmLczJCZ1QMzbGRLzdnVABx988MHHdUBDYt7OkBh2QH6lQK1faXZAuuiiiy66dkD1KwVq/Qp3QDFvZ0jMW3dAbLLJJpusd0Co9SsFav13QOM4juM4TnhAH3zwwQefeEBav1Kg1u94QJYCtX6lQHlA0UUXXXSReUAMiXk7Q+J5QEjM2xkSM3pAgw8++OCDekC/UqDWr9R6QPqVArV+JXtANtlkk012e0BxHMdxHMd7QK1fKVDrF3xA6KKLLrpofEAk5u0Mibl8QF8pUOtXCn1Am2yyySZbfUDWrxSo9at9QBLzdobE/H1ATTbZZJNNfkCIeTtDYp5+QMS8nSEx735AAAAAAABAf0A=\",\"dtype\":\"float64\",\"shape\":[100]},\"y\":{\"__ndarray__\":\"AAAAAAAAJEBFENLFwUsbQIDJPtFxxRhAsTHat+RuGED49GNaC2QYQCrVpE7BYhhAppbNsbBiGEDz85h40GIYQF4QpL0AYxhAK7CSjz5jGEBXovx8imMYQE4H8WrlYxhAh8YZM1BkGEAbK0uZy2QYQBNh5ktYZRhA7HSr5fZlGEDddovvp2YYQAI1EuJrZxhAMb/PJkNoGEBLHcMZLmkYQKY3kQotahhAdoqSPUBrGEB9SavsZ2wYQIbqSEikbRhAv00/ePVuGEAr07icW3AYQEAiW87WcRhA7lsAH2dzGECs81qaDHUYQC5Fd0bHdhhAPFhKJJd4GEDSzucvfHoYQBCcVWF2fBhAawUurIV+GEDIZ7IAqoAYQCg3UkvjghhAJemMdTGFGEBhQ8dllIcYQBrlxv8LihhA/OW/JJiMGECaD5ezOI8YQBU2DIntkRhAVcX9f7aUGECLgDtxk5cYQDd+MDSEmhhAInlRnoidGECr2+yDoKAYQM/Qv7fLoxhAKn5TCwqnGEBn6wVPW6oYQPpfCFK/rRhABLim4jWxGEAgTjLOvrQYQH4LOeFZuBhAZqVC5wa8GECw0lerxb8YQF5wzPeVwxhAW6w3lnfHGEBVzNFPassYQHD9Mu1tzxhA5EtwNoLTGEAOQlfzptcYQK9DMuvb2xhAoQgJ5SDgGED/VZmndeQYQNRoTPnZ6BhAkK1noE3tGECdMPhi0PEYQMnO3QZi9hhAFJnoUQL7GEAhPbcJsf8YQHAw6vNtBBlAetAh1jgJGUAzIvJ1EQ4ZQLNE5Jj3EhlAv+auBOsXGUAc1xV/6xwZQAaNsM34IRlAWfR5thInGUAbOHr/OCwZQFZ16W5rMRlAN0cyy6k2GUBwlPLa8zsZQCkb82RJQRlAZUm9L6pGGUDrhJQCFkwZQPqvxqSMURlAnGWc3g1XGUCFY1d4mVwZQE5ajDovYhlANC7s7c5nGUDI2ttaeG0ZQIZx+0orcxlAbLjhh+d4GUAH/uPbrH4ZQNDkSxF7hBlAbzfl8lGKGUBrYh1MMZAZQE0m3+gYlhlAum1ilQicGUA=\",\"dtype\":\"float64\",\"shape\":[100]}},\"selected\":{\"id\":\"6205\",\"type\":\"Selection\"},\"selection_policy\":{\"id\":\"6206\",\"type\":\"UnionRenderers\"}},\"id\":\"6181\",\"type\":\"ColumnDataSource\"},{\"attributes\":{},\"id\":\"6240\",\"type\":\"UnionRenderers\"},{\"attributes\":{\"text\":\"with Proton Pump\"},\"id\":\"6148\",\"type\":\"Title\"},{\"attributes\":{\"click_policy\":\"hide\",\"items\":[{\"id\":\"6193\",\"type\":\"LegendItem\"},{\"id\":\"6207\",\"type\":\"LegendItem\"},{\"id\":\"6223\",\"type\":\"LegendItem\"},{\"id\":\"6241\",\"type\":\"LegendItem\"},{\"id\":\"6261\",\"type\":\"LegendItem\"}]},\"id\":\"6192\",\"type\":\"Legend\"},{\"attributes\":{\"data_source\":{\"id\":\"6224\",\"type\":\"ColumnDataSource\"},\"glyph\":{\"id\":\"6225\",\"type\":\"Line\"},\"hover_glyph\":null,\"muted_glyph\":null,\"nonselection_glyph\":{\"id\":\"6226\",\"type\":\"Line\"},\"selection_glyph\":null,\"view\":{\"id\":\"6228\",\"type\":\"CDSView\"}},\"id\":\"6227\",\"type\":\"GlyphRenderer\"},{\"attributes\":{},\"id\":\"6168\",\"type\":\"PanTool\"},{\"attributes\":{},\"id\":\"6189\",\"type\":\"BasicTickFormatter\"},{\"attributes\":{},\"id\":\"6169\",\"type\":\"WheelZoomTool\"},{\"attributes\":{\"line_color\":\"#2ba02b\",\"line_width\":2,\"x\":{\"field\":\"x\"},\"y\":{\"field\":\"y\"}},\"id\":\"6209\",\"type\":\"Line\"},{\"attributes\":{\"label\":{\"value\":\"atp\"},\"renderers\":[{\"id\":\"6184\",\"type\":\"GlyphRenderer\"}]},\"id\":\"6193\",\"type\":\"LegendItem\"},{\"attributes\":{\"line_color\":\"#8c564b\",\"line_width\":2,\"x\":{\"field\":\"x\"},\"y\":{\"field\":\"y\"}},\"id\":\"6243\",\"type\":\"Line\"},{\"attributes\":{\"callback\":null},\"id\":\"6150\",\"type\":\"DataRange1d\"},{\"attributes\":{\"overlay\":{\"id\":\"6191\",\"type\":\"BoxAnnotation\"}},\"id\":\"6170\",\"type\":\"BoxZoomTool\"},{\"attributes\":{\"line_alpha\":0.1,\"line_color\":\"#1f77b4\",\"line_width\":2,\"x\":{\"field\":\"x\"},\"y\":{\"field\":\"y\"}},\"id\":\"6210\",\"type\":\"Line\"},{\"attributes\":{},\"id\":\"6171\",\"type\":\"SaveTool\"},{\"attributes\":{\"line_alpha\":0.1,\"line_color\":\"#1f77b4\",\"line_width\":2,\"x\":{\"field\":\"x\"},\"y\":{\"field\":\"y\"}},\"id\":\"6244\",\"type\":\"Line\"},{\"attributes\":{\"data_source\":{\"id\":\"6208\",\"type\":\"ColumnDataSource\"},\"glyph\":{\"id\":\"6209\",\"type\":\"Line\"},\"hover_glyph\":null,\"muted_glyph\":null,\"nonselection_glyph\":{\"id\":\"6210\",\"type\":\"Line\"},\"selection_glyph\":null,\"view\":{\"id\":\"6212\",\"type\":\"CDSView\"}},\"id\":\"6211\",\"type\":\"GlyphRenderer\"},{\"attributes\":{\"data_source\":{\"id\":\"6242\",\"type\":\"ColumnDataSource\"},\"glyph\":{\"id\":\"6243\",\"type\":\"Line\"},\"hover_glyph\":null,\"muted_glyph\":null,\"nonselection_glyph\":{\"id\":\"6244\",\"type\":\"Line\"},\"selection_glyph\":null,\"view\":{\"id\":\"6246\",\"type\":\"CDSView\"}},\"id\":\"6245\",\"type\":\"GlyphRenderer\"}],\"root_ids\":[\"6147\"]},\"title\":\"Bokeh Application\",\"version\":\"1.4.0\"}};\n",
       "  var render_items = [{\"docid\":\"39a9e7d1-c817-4b78-8984-c6fbe85105db\",\"roots\":{\"6147\":\"bb01a291-dc3d-4b98-8f4e-7511a79ddd0b\"}}];\n",
       "  root.Bokeh.embed.embed_items_notebook(docs_json, render_items);\n",
       "\n",
       "  }\n",
       "  if (root.Bokeh !== undefined) {\n",
       "    embed_document(root);\n",
       "  } else {\n",
       "    var attempts = 0;\n",
       "    var timer = setInterval(function(root) {\n",
       "      if (root.Bokeh !== undefined) {\n",
       "        clearInterval(timer);\n",
       "        embed_document(root);\n",
       "      } else {\n",
       "        attempts++;\n",
       "        if (attempts > 100) {\n",
       "          clearInterval(timer);\n",
       "          console.log(\"Bokeh: ERROR: Unable to run BokehJS code because BokehJS library is missing\");\n",
       "        }\n",
       "      }\n",
       "    }, 10, root)\n",
       "  }\n",
       "})(window);"
      ],
      "application/vnd.bokehjs_exec.v0+json": ""
     },
     "metadata": {
      "application/vnd.bokehjs_exec.v0+json": {
       "id": "6147"
      }
     },
     "output_type": "display_data"
    }
   ],
   "source": [
    "p_pp = bokeh.plotting.figure(width = 450, height = 350, title = 'with Proton Pump')\n",
    "plot_list = [ATP_id, outside_H_id, inside_H_id, proton_pump_b_protein_id, dna_pp]\n",
    "plot_str = ['atp', 'outside_H', 'inside_H', 'bound proton pump', 'dna protein pump']\n",
    "for i,item in enumerate(plot_list):\n",
    "    p_pp.line(timepoints, results[item], line_width = 2, legend_label = plot_str[i], color = palette[i])\n",
    "    \n",
    "p_pp.legend.click_policy = 'hide'\n",
    "bokeh.io.show(p_pp)"
   ]
  },
  {
   "cell_type": "markdown",
   "metadata": {},
   "source": [
    "## Combine atp synthase and proton pump subsystems (with machinery txtl)\n",
    "---"
   ]
  },
  {
   "cell_type": "code",
   "execution_count": 61,
   "metadata": {},
   "outputs": [],
   "source": [
    "entire_subsystem = ss1_atpsyn_txtl + ss2_atpsyn_mi + ss3_atpsynthesis + ss4_atp_use + ss5_pp_txtl + ss6_pp_mi + ss7_protontransport"
   ]
  },
  {
   "cell_type": "code",
   "execution_count": 62,
   "metadata": {},
   "outputs": [],
   "source": [
    "# Initial conditions\n",
    "spec_list_10 = ['dna_proton_pump', 'dna_atpsyn','proton_outside_H', 'metabolite_atp','protein_RNAP_machinery', \n",
    "                'protein_Ribo_machinery', 'protein_RNAse_machinery']\n",
    "for i,spec in enumerate(spec_list_10):\n",
    "    entire_subsystem.setSpeciesAmount(spec,10)\n",
    "\n",
    "\n",
    "# timepoints and get results\n",
    "timepoints = np.linspace(0,10,100)\n",
    "results, _ = entire_subsystem.simulateWithBioscrape(timepoints, sbml_warnings = False)\n",
    "\n",
    "# Get species IDs\n",
    "ATP_id = entire_subsystem.getSpeciesByName('metabolite_atp').getId()\n",
    "ADP_id = entire_subsystem.getSpeciesByName('metabolite_adp').getId()\n",
    "\n",
    "outside_H_id = entire_subsystem.getSpeciesByName('proton_outside_H').getId()\n",
    "inside_H_id = entire_subsystem.getSpeciesByName('proton_inside_H').getId()\n",
    "\n",
    "proton_pump_b_protein_id = entire_subsystem.getSpeciesByName('protein_proton_pump_b').getId()\n",
    "proton_pump_f_protein_id = entire_subsystem.getSpeciesByName('protein_proton_pump').getId()\n",
    "\n",
    "atp_synthase_b_protein_id = entire_subsystem.getSpeciesByName('protein_atpsyn_b').getId()\n",
    "atp_synthase_f_protein_id = entire_subsystem.getSpeciesByName('protein_atpsyn').getId()\n"
   ]
  },
  {
   "cell_type": "code",
   "execution_count": 63,
   "metadata": {},
   "outputs": [],
   "source": [
    "timepoints = np.linspace(0,500,100)\n",
    "results3, _ = entire_subsystem.simulateWithBioscrape(timepoints, sbml_warnings = False)"
   ]
  },
  {
   "cell_type": "code",
   "execution_count": 64,
   "metadata": {},
   "outputs": [
    {
     "data": {
      "text/html": [
       "\n",
       "\n",
       "\n",
       "\n",
       "\n",
       "\n",
       "  <div class=\"bk-root\" id=\"0c6f4fe0-8676-48dc-a6f3-bb03762b6748\" data-root-id=\"8772\"></div>\n"
      ]
     },
     "metadata": {},
     "output_type": "display_data"
    },
    {
     "data": {
      "application/javascript": [
       "(function(root) {\n",
       "  function embed_document(root) {\n",
       "    \n",
       "  var docs_json = {\"ad0791a7-7454-4b9b-bb41-e9baf96ec68e\":{\"roots\":{\"references\":[{\"attributes\":{\"below\":[{\"id\":\"8783\",\"type\":\"LinearAxis\"}],\"center\":[{\"id\":\"8787\",\"type\":\"Grid\"},{\"id\":\"8792\",\"type\":\"Grid\"},{\"id\":\"8817\",\"type\":\"Legend\"}],\"left\":[{\"id\":\"8788\",\"type\":\"LinearAxis\"}],\"plot_height\":350,\"plot_width\":450,\"renderers\":[{\"id\":\"8809\",\"type\":\"GlyphRenderer\"},{\"id\":\"8822\",\"type\":\"GlyphRenderer\"},{\"id\":\"8836\",\"type\":\"GlyphRenderer\"}],\"title\":{\"id\":\"8773\",\"type\":\"Title\"},\"toolbar\":{\"id\":\"8799\",\"type\":\"Toolbar\"},\"x_range\":{\"id\":\"8775\",\"type\":\"DataRange1d\"},\"x_scale\":{\"id\":\"8779\",\"type\":\"LinearScale\"},\"y_range\":{\"id\":\"8777\",\"type\":\"DataRange1d\"},\"y_scale\":{\"id\":\"8781\",\"type\":\"LinearScale\"}},\"id\":\"8772\",\"subtype\":\"Figure\",\"type\":\"Plot\"},{\"attributes\":{\"active_drag\":\"auto\",\"active_inspect\":\"auto\",\"active_multi\":null,\"active_scroll\":\"auto\",\"active_tap\":\"auto\",\"tools\":[{\"id\":\"8793\",\"type\":\"PanTool\"},{\"id\":\"8794\",\"type\":\"WheelZoomTool\"},{\"id\":\"8795\",\"type\":\"BoxZoomTool\"},{\"id\":\"8796\",\"type\":\"SaveTool\"},{\"id\":\"8797\",\"type\":\"ResetTool\"},{\"id\":\"8798\",\"type\":\"HelpTool\"}]},\"id\":\"8799\",\"type\":\"Toolbar\"},{\"attributes\":{\"source\":{\"id\":\"8819\",\"type\":\"ColumnDataSource\"}},\"id\":\"8823\",\"type\":\"CDSView\"},{\"attributes\":{\"line_color\":\"#2ba02b\",\"line_width\":2,\"x\":{\"field\":\"x\"},\"y\":{\"field\":\"y\"}},\"id\":\"8834\",\"type\":\"Line\"},{\"attributes\":{\"text\":\"with ATP Synthase, Proton Pump, ATP Use\"},\"id\":\"8773\",\"type\":\"Title\"},{\"attributes\":{},\"id\":\"8846\",\"type\":\"Selection\"},{\"attributes\":{},\"id\":\"8793\",\"type\":\"PanTool\"},{\"attributes\":{\"line_alpha\":0.1,\"line_color\":\"#1f77b4\",\"line_width\":2,\"x\":{\"field\":\"x\"},\"y\":{\"field\":\"y\"}},\"id\":\"8835\",\"type\":\"Line\"},{\"attributes\":{},\"id\":\"8830\",\"type\":\"Selection\"},{\"attributes\":{\"callback\":null},\"id\":\"8775\",\"type\":\"DataRange1d\"},{\"attributes\":{\"data_source\":{\"id\":\"8819\",\"type\":\"ColumnDataSource\"},\"glyph\":{\"id\":\"8820\",\"type\":\"Line\"},\"hover_glyph\":null,\"muted_glyph\":null,\"nonselection_glyph\":{\"id\":\"8821\",\"type\":\"Line\"},\"selection_glyph\":null,\"view\":{\"id\":\"8823\",\"type\":\"CDSView\"}},\"id\":\"8822\",\"type\":\"GlyphRenderer\"},{\"attributes\":{},\"id\":\"9202\",\"type\":\"UnionRenderers\"},{\"attributes\":{},\"id\":\"8794\",\"type\":\"WheelZoomTool\"},{\"attributes\":{},\"id\":\"8831\",\"type\":\"UnionRenderers\"},{\"attributes\":{\"overlay\":{\"id\":\"8816\",\"type\":\"BoxAnnotation\"}},\"id\":\"8795\",\"type\":\"BoxZoomTool\"},{\"attributes\":{\"callback\":null,\"data\":{\"x\":{\"__ndarray__\":\"AAAAAAAAAADezpCYtzMUQN7OkJi3MyRATTbZZJNNLkDezpCYtzM0QJYCtX6lQDlATTbZZJNNPkACtX6lQK1BQN7OkJi3M0RAuuiiiy66RkCWArV+pUBJQHEcx3Ecx0tATTbZZJNNTkAUqPUrBWpQQAK1fqVArVFA8MEHH3zwUkDezpCYtzNUQMzbGRLzdlVAuuiiiy66VkCo9SsFav1XQJYCtX6lQFlAgw8++OCDWkBxHMdxHMdbQF8pUOtXCl1ATTbZZJNNXkA7Q2LezpBfQBSo9SsFamBAiy666KILYUACtX6lQK1hQHk7Q2LeTmJA8MEHH3zwYkBnSMzbGZJjQN7OkJi3M2RAVVVVVVXVZEDM2xkS83ZlQENi3s6QGGZAuuiiiy66ZkAxb2dIzFtnQKj1KwVq/WdAH3zwwQefaECWArV+pUBpQAyJeTtD4mlAgw8++OCDakD6lQK1fiVrQHEcx3Ecx2tA6KKLLrpobEBfKVDrVwptQNavFKj1q21ATTbZZJNNbkDEvJ0hMe9uQDtDYt7OkG9A2WSTTTYZcEAUqPUrBWpwQFDrVwrUunBAiy666KILcUDHcRzHcVxxQAK1fqVArXFAPvjggw/+cUB5O0Ni3k5yQLV+pUCtn3JA8MEHH3zwckAsBWr9SkFzQGdIzNsZknNAo4suuujic0DezpCYtzN0QBkS83aGhHRAVVVVVVXVdECQmLczJCZ1QMzbGRLzdnVABx988MHHdUBDYt7OkBh2QH6lQK1faXZAuuiiiy66dkD1KwVq/Qp3QDFvZ0jMW3dAbLLJJpusd0Co9SsFav13QOM4juM4TnhAH3zwwQefeEBav1Kg1u94QJYCtX6lQHlA0UUXXXSReUAMiXk7Q+J5QEjM2xkSM3pAgw8++OCDekC/UqDWr9R6QPqVArV+JXtANtlkk012e0BxHMdxHMd7QK1fKVDrF3xA6KKLLrpofEAk5u0Mibl8QF8pUOtXCn1Am2yyySZbfUDWrxSo9at9QBLzdobE/H1ATTbZZJNNfkCIeTtDYp5+QMS8nSEx735AAAAAAABAf0A=\",\"dtype\":\"float64\",\"shape\":[100]},\"y\":{\"__ndarray__\":\"AAAAAAAAJEAUzAAAAAAUQN209////xNAnez/////E0ADAAAAAAAUQAMAAAAAABRAAwAAAAAAFEADAAAAAAAUQAQAAAAAABRAAwAAAAAAFEADAAAAAAAUQAMAAAAAABRAAwAAAAAAFEADAAAAAAAUQAMAAAAAABRAAAAAAAAAFEAFAAAAAAAUQAMAAAAAABRAAwAAAAAAFEADAAAAAAAUQAIAAAAAABRAAwAAAAAAFEACAAAAAAAUQAIAAAAAABRAEwAAAAAAFEADAAAAAAAUQAMAAAAAABRAAgAAAAAAFEADAAAAAAAUQAMAAAAAABRAAwAAAAAAFEADAAAAAAAUQAQAAAAAABRAAwAAAAAAFEADAAAAAAAUQAMAAAAAABRAAwAAAAAAFEADAAAAAAAUQAMAAAAAABRAAwAAAAAAFEADAAAAAAAUQAQAAAAAABRAAwAAAAAAFEADAAAAAAAUQAMAAAAAABRAAwAAAAAAFEADAAAAAAAUQAMAAAAAABRAAwAAAAAAFEADAAAAAAAUQAMAAAAAABRAAwAAAAAAFEADAAAAAAAUQAMAAAAAABRAAQAAAAAAFEADAAAAAAAUQAIAAAAAABRAAwAAAAAAFEACAAAAAAAUQAMAAAAAABRAAgAAAAAAFEADAAAAAAAUQAMAAAAAABRABAAAAAAAFEADAAAAAAAUQAMAAAAAABRAAwAAAAAAFEADAAAAAAAUQAMAAAAAABRAAwAAAAAAFEADAAAAAAAUQAMAAAAAABRAAgAAAAAAFEACAAAAAAAUQAMAAAAAABRAAgAAAAAAFEADAAAAAAAUQAMAAAAAABRAAwAAAAAAFEADAAAAAAAUQAMAAAAAABRAAwAAAAAAFEACAAAAAAAUQAQAAAAAABRABAAAAAAAFEADAAAAAAAUQAMAAAAAABRAAwAAAAAAFEADAAAAAAAUQAMAAAAAABRAAwAAAAAAFEADAAAAAAAUQAMAAAAAABRAAwAAAAAAFEADAAAAAAAUQAMAAAAAABRAAwAAAAAAFEADAAAAAAAUQAMAAAAAABRAAwAAAAAAFEA=\",\"dtype\":\"float64\",\"shape\":[100]}},\"selected\":{\"id\":\"8846\",\"type\":\"Selection\"},\"selection_policy\":{\"id\":\"8847\",\"type\":\"UnionRenderers\"}},\"id\":\"8819\",\"type\":\"ColumnDataSource\"},{\"attributes\":{\"label\":{\"value\":\"atp\"},\"renderers\":[{\"id\":\"8809\",\"type\":\"GlyphRenderer\"}]},\"id\":\"8818\",\"type\":\"LegendItem\"},{\"attributes\":{\"callback\":null},\"id\":\"8777\",\"type\":\"DataRange1d\"},{\"attributes\":{},\"id\":\"8796\",\"type\":\"SaveTool\"},{\"attributes\":{},\"id\":\"8797\",\"type\":\"ResetTool\"},{\"attributes\":{},\"id\":\"8779\",\"type\":\"LinearScale\"},{\"attributes\":{},\"id\":\"8781\",\"type\":\"LinearScale\"},{\"attributes\":{\"ticker\":{\"id\":\"8784\",\"type\":\"BasicTicker\"}},\"id\":\"8787\",\"type\":\"Grid\"},{\"attributes\":{},\"id\":\"8798\",\"type\":\"HelpTool\"},{\"attributes\":{\"axis_label\":\"time\",\"formatter\":{\"id\":\"8814\",\"type\":\"BasicTickFormatter\"},\"ticker\":{\"id\":\"8784\",\"type\":\"BasicTicker\"}},\"id\":\"8783\",\"type\":\"LinearAxis\"},{\"attributes\":{\"label\":{\"value\":\"outside_H\"},\"renderers\":[{\"id\":\"8822\",\"type\":\"GlyphRenderer\"}]},\"id\":\"8832\",\"type\":\"LegendItem\"},{\"attributes\":{\"line_alpha\":0.1,\"line_color\":\"#1f77b4\",\"line_width\":2,\"x\":{\"field\":\"x\"},\"y\":{\"field\":\"y\"}},\"id\":\"8808\",\"type\":\"Line\"},{\"attributes\":{},\"id\":\"8784\",\"type\":\"BasicTicker\"},{\"attributes\":{},\"id\":\"8812\",\"type\":\"BasicTickFormatter\"},{\"attributes\":{\"line_color\":\"#ff7e0e\",\"line_width\":2,\"x\":{\"field\":\"x\"},\"y\":{\"field\":\"y\"}},\"id\":\"8820\",\"type\":\"Line\"},{\"attributes\":{\"callback\":null,\"data\":{\"x\":{\"__ndarray__\":\"AAAAAAAAAADezpCYtzMUQN7OkJi3MyRATTbZZJNNLkDezpCYtzM0QJYCtX6lQDlATTbZZJNNPkACtX6lQK1BQN7OkJi3M0RAuuiiiy66RkCWArV+pUBJQHEcx3Ecx0tATTbZZJNNTkAUqPUrBWpQQAK1fqVArVFA8MEHH3zwUkDezpCYtzNUQMzbGRLzdlVAuuiiiy66VkCo9SsFav1XQJYCtX6lQFlAgw8++OCDWkBxHMdxHMdbQF8pUOtXCl1ATTbZZJNNXkA7Q2LezpBfQBSo9SsFamBAiy666KILYUACtX6lQK1hQHk7Q2LeTmJA8MEHH3zwYkBnSMzbGZJjQN7OkJi3M2RAVVVVVVXVZEDM2xkS83ZlQENi3s6QGGZAuuiiiy66ZkAxb2dIzFtnQKj1KwVq/WdAH3zwwQefaECWArV+pUBpQAyJeTtD4mlAgw8++OCDakD6lQK1fiVrQHEcx3Ecx2tA6KKLLrpobEBfKVDrVwptQNavFKj1q21ATTbZZJNNbkDEvJ0hMe9uQDtDYt7OkG9A2WSTTTYZcEAUqPUrBWpwQFDrVwrUunBAiy666KILcUDHcRzHcVxxQAK1fqVArXFAPvjggw/+cUB5O0Ni3k5yQLV+pUCtn3JA8MEHH3zwckAsBWr9SkFzQGdIzNsZknNAo4suuujic0DezpCYtzN0QBkS83aGhHRAVVVVVVXVdECQmLczJCZ1QMzbGRLzdnVABx988MHHdUBDYt7OkBh2QH6lQK1faXZAuuiiiy66dkD1KwVq/Qp3QDFvZ0jMW3dAbLLJJpusd0Co9SsFav13QOM4juM4TnhAH3zwwQefeEBav1Kg1u94QJYCtX6lQHlA0UUXXXSReUAMiXk7Q+J5QEjM2xkSM3pAgw8++OCDekC/UqDWr9R6QPqVArV+JXtANtlkk012e0BxHMdxHMd7QK1fKVDrF3xA6KKLLrpofEAk5u0Mibl8QF8pUOtXCn1Am2yyySZbfUDWrxSo9at9QBLzdobE/H1ATTbZZJNNfkCIeTtDYp5+QMS8nSEx735AAAAAAABAf0A=\",\"dtype\":\"float64\",\"shape\":[100]},\"y\":{\"__ndarray__\":\"AAAAAAAAAADyM/////8TQClLCAAAABRAaRMAAAAAFEADAAAAAAAUQAMAAAAAABRAAwAAAAAAFEADAAAAAAAUQAIAAAAAABRAAwAAAAAAFEADAAAAAAAUQAMAAAAAABRAAwAAAAAAFEADAAAAAAAUQAMAAAAAABRABgAAAAAAFEABAAAAAAAUQAMAAAAAABRAAwAAAAAAFEADAAAAAAAUQAQAAAAAABRAAwAAAAAAFEAEAAAAAAAUQAQAAAAAABRA8///////E0ADAAAAAAAUQAMAAAAAABRABAAAAAAAFEADAAAAAAAUQAMAAAAAABRAAwAAAAAAFEADAAAAAAAUQAIAAAAAABRAAwAAAAAAFEADAAAAAAAUQAMAAAAAABRAAwAAAAAAFEADAAAAAAAUQAMAAAAAABRAAwAAAAAAFEADAAAAAAAUQAIAAAAAABRAAwAAAAAAFEADAAAAAAAUQAMAAAAAABRAAwAAAAAAFEADAAAAAAAUQAMAAAAAABRAAwAAAAAAFEADAAAAAAAUQAMAAAAAABRAAwAAAAAAFEADAAAAAAAUQAMAAAAAABRABQAAAAAAFEADAAAAAAAUQAQAAAAAABRAAwAAAAAAFEAEAAAAAAAUQAMAAAAAABRABAAAAAAAFEADAAAAAAAUQAMAAAAAABRAAgAAAAAAFEADAAAAAAAUQAMAAAAAABRAAwAAAAAAFEADAAAAAAAUQAMAAAAAABRAAwAAAAAAFEADAAAAAAAUQAMAAAAAABRABAAAAAAAFEAEAAAAAAAUQAMAAAAAABRABAAAAAAAFEADAAAAAAAUQAMAAAAAABRAAwAAAAAAFEADAAAAAAAUQAMAAAAAABRAAwAAAAAAFEAEAAAAAAAUQAIAAAAAABRAAgAAAAAAFEADAAAAAAAUQAMAAAAAABRAAwAAAAAAFEADAAAAAAAUQAMAAAAAABRAAwAAAAAAFEADAAAAAAAUQAMAAAAAABRAAwAAAAAAFEADAAAAAAAUQAMAAAAAABRAAwAAAAAAFEADAAAAAAAUQAMAAAAAABRAAwAAAAAAFEA=\",\"dtype\":\"float64\",\"shape\":[100]}},\"selected\":{\"id\":\"9201\",\"type\":\"Selection\"},\"selection_policy\":{\"id\":\"9202\",\"type\":\"UnionRenderers\"}},\"id\":\"8833\",\"type\":\"ColumnDataSource\"},{\"attributes\":{\"dimension\":1,\"ticker\":{\"id\":\"8789\",\"type\":\"BasicTicker\"}},\"id\":\"8792\",\"type\":\"Grid\"},{\"attributes\":{\"source\":{\"id\":\"8806\",\"type\":\"ColumnDataSource\"}},\"id\":\"8810\",\"type\":\"CDSView\"},{\"attributes\":{},\"id\":\"9201\",\"type\":\"Selection\"},{\"attributes\":{\"data_source\":{\"id\":\"8806\",\"type\":\"ColumnDataSource\"},\"glyph\":{\"id\":\"8807\",\"type\":\"Line\"},\"hover_glyph\":null,\"muted_glyph\":null,\"nonselection_glyph\":{\"id\":\"8808\",\"type\":\"Line\"},\"selection_glyph\":null,\"view\":{\"id\":\"8810\",\"type\":\"CDSView\"}},\"id\":\"8809\",\"type\":\"GlyphRenderer\"},{\"attributes\":{},\"id\":\"8789\",\"type\":\"BasicTicker\"},{\"attributes\":{\"axis_label\":\"concentration\",\"formatter\":{\"id\":\"8812\",\"type\":\"BasicTickFormatter\"},\"ticker\":{\"id\":\"8789\",\"type\":\"BasicTicker\"}},\"id\":\"8788\",\"type\":\"LinearAxis\"},{\"attributes\":{\"line_alpha\":0.1,\"line_color\":\"#1f77b4\",\"line_width\":2,\"x\":{\"field\":\"x\"},\"y\":{\"field\":\"y\"}},\"id\":\"8821\",\"type\":\"Line\"},{\"attributes\":{},\"id\":\"8847\",\"type\":\"UnionRenderers\"},{\"attributes\":{\"data_source\":{\"id\":\"8833\",\"type\":\"ColumnDataSource\"},\"glyph\":{\"id\":\"8834\",\"type\":\"Line\"},\"hover_glyph\":null,\"muted_glyph\":null,\"nonselection_glyph\":{\"id\":\"8835\",\"type\":\"Line\"},\"selection_glyph\":null,\"view\":{\"id\":\"8837\",\"type\":\"CDSView\"}},\"id\":\"8836\",\"type\":\"GlyphRenderer\"},{\"attributes\":{\"source\":{\"id\":\"8833\",\"type\":\"ColumnDataSource\"}},\"id\":\"8837\",\"type\":\"CDSView\"},{\"attributes\":{},\"id\":\"8814\",\"type\":\"BasicTickFormatter\"},{\"attributes\":{\"click_policy\":\"hide\",\"items\":[{\"id\":\"8818\",\"type\":\"LegendItem\"},{\"id\":\"8832\",\"type\":\"LegendItem\"},{\"id\":\"8848\",\"type\":\"LegendItem\"}],\"location\":\"bottom_right\"},\"id\":\"8817\",\"type\":\"Legend\"},{\"attributes\":{\"label\":{\"value\":\"inside_H\"},\"renderers\":[{\"id\":\"8836\",\"type\":\"GlyphRenderer\"}]},\"id\":\"8848\",\"type\":\"LegendItem\"},{\"attributes\":{\"line_color\":\"#1f77b3\",\"line_width\":2,\"x\":{\"field\":\"x\"},\"y\":{\"field\":\"y\"}},\"id\":\"8807\",\"type\":\"Line\"},{\"attributes\":{\"bottom_units\":\"screen\",\"fill_alpha\":{\"value\":0.5},\"fill_color\":{\"value\":\"lightgrey\"},\"left_units\":\"screen\",\"level\":\"overlay\",\"line_alpha\":{\"value\":1.0},\"line_color\":{\"value\":\"black\"},\"line_dash\":[4,4],\"line_width\":{\"value\":2},\"render_mode\":\"css\",\"right_units\":\"screen\",\"top_units\":\"screen\"},\"id\":\"8816\",\"type\":\"BoxAnnotation\"},{\"attributes\":{\"callback\":null,\"data\":{\"x\":{\"__ndarray__\":\"AAAAAAAAAADezpCYtzMUQN7OkJi3MyRATTbZZJNNLkDezpCYtzM0QJYCtX6lQDlATTbZZJNNPkACtX6lQK1BQN7OkJi3M0RAuuiiiy66RkCWArV+pUBJQHEcx3Ecx0tATTbZZJNNTkAUqPUrBWpQQAK1fqVArVFA8MEHH3zwUkDezpCYtzNUQMzbGRLzdlVAuuiiiy66VkCo9SsFav1XQJYCtX6lQFlAgw8++OCDWkBxHMdxHMdbQF8pUOtXCl1ATTbZZJNNXkA7Q2LezpBfQBSo9SsFamBAiy666KILYUACtX6lQK1hQHk7Q2LeTmJA8MEHH3zwYkBnSMzbGZJjQN7OkJi3M2RAVVVVVVXVZEDM2xkS83ZlQENi3s6QGGZAuuiiiy66ZkAxb2dIzFtnQKj1KwVq/WdAH3zwwQefaECWArV+pUBpQAyJeTtD4mlAgw8++OCDakD6lQK1fiVrQHEcx3Ecx2tA6KKLLrpobEBfKVDrVwptQNavFKj1q21ATTbZZJNNbkDEvJ0hMe9uQDtDYt7OkG9A2WSTTTYZcEAUqPUrBWpwQFDrVwrUunBAiy666KILcUDHcRzHcVxxQAK1fqVArXFAPvjggw/+cUB5O0Ni3k5yQLV+pUCtn3JA8MEHH3zwckAsBWr9SkFzQGdIzNsZknNAo4suuujic0DezpCYtzN0QBkS83aGhHRAVVVVVVXVdECQmLczJCZ1QMzbGRLzdnVABx988MHHdUBDYt7OkBh2QH6lQK1faXZAuuiiiy66dkD1KwVq/Qp3QDFvZ0jMW3dAbLLJJpusd0Co9SsFav13QOM4juM4TnhAH3zwwQefeEBav1Kg1u94QJYCtX6lQHlA0UUXXXSReUAMiXk7Q+J5QEjM2xkSM3pAgw8++OCDekC/UqDWr9R6QPqVArV+JXtANtlkk012e0BxHMdxHMd7QK1fKVDrF3xA6KKLLrpofEAk5u0Mibl8QF8pUOtXCn1Am2yyySZbfUDWrxSo9at9QBLzdobE/H1ATTbZZJNNfkCIeTtDYp5+QMS8nSEx735AAAAAAABAf0A=\",\"dtype\":\"float64\",\"shape\":[100]},\"y\":{\"__ndarray__\":\"AAAAAAAAJECfYAhSv60YQNL+Xx4AohlAK0ovPVrkGkC9dtuZgiwcQKV1HA6NWB1ABv8N+Z5YHkDrtML/oS0fQKo2l1Ig3x9AkHV3+Eo6IEDfnjw283kgQBJIQ0qzsCBAMxWGoCLgIEBr2cy8eAkhQC0Lp9uvLSFA8tGDMpdNIUB/fL6P22khQGpmLn0MgyFA9OO7pKCZIUBLQmLx+a0hQMDXTURpwCFAX0m1oDHRIUBn41fIiuAhQK9cMVqj7iFAkKxbhqL7IUA0OcNsqQciQNboSjDUEiJAkDto2zodIkAHOzsS8iYiQD8CtaQLMCJAn8nCBJc4IkAzTNumoUAiQIT9CFE3SCJAmHoXW2JPIkDppbrlK1YiQAyUFAacXCJA6E9u67liIkC5MI/+i2giQEfI3vsXbiJADarKCWNzIkDcaaDLcXgiQA6+qnFIfSJA978bx+qBIkAI6e89XIYiQMx9N/ifiiJAnovz0riOIkAb+K5sqZIiQBQF7ih0liJAVojGPRuaIkA78VyxoJ0iQDOpGmIGoSJA2tbaCU6kIkAypIZBeaciQOFbH4SJqiJAASK8MICtIkDwB/ePXrAiQIn8ptAlsyJAjURgENe1IkCxw6JWc7giQAOYwZz7uiJAyPKHyXC9IkCLwIu3078iQGO8JjIlwiJAoIFP+WXEIkBgXlXBlsYiQKaG5zO4yCJAxD3z8MrKIkCgrGaPz8wiQNLPrp3GziJACsRuorDQIkBCXfocjtIiQJ6E+4Vf1CJA0xrkTyXWIkBPS2Lm39ciQGUCXLCP2SJA0AUHEDXbIkAak/9h0NwiQGMHdf5h3iJA2d5zOerfIkD5HPliaeEiQGZEasff4iJA4A10r03kIkBlDEBgs+UiQGndbRwR5yJA5H8pI2foIkDTZu6wtekiQDBhzf/86iJAF80oRz3sIkAOo/67du0iQJhIOJGp7iJAl+aI99XvIkBX/bcd/PAiQHP3ijAc8iJAIJkdWzbzIkAcT8zGSvQiQDAvPZtZ9SJA9be//mL2IkA+MO8VZ/ciQCHsLARm+CJA5thx61/5IkA=\",\"dtype\":\"float64\",\"shape\":[100]}},\"selected\":{\"id\":\"8830\",\"type\":\"Selection\"},\"selection_policy\":{\"id\":\"8831\",\"type\":\"UnionRenderers\"}},\"id\":\"8806\",\"type\":\"ColumnDataSource\"}],\"root_ids\":[\"8772\"]},\"title\":\"Bokeh Application\",\"version\":\"1.4.0\"}};\n",
       "  var render_items = [{\"docid\":\"ad0791a7-7454-4b9b-bb41-e9baf96ec68e\",\"roots\":{\"8772\":\"0c6f4fe0-8676-48dc-a6f3-bb03762b6748\"}}];\n",
       "  root.Bokeh.embed.embed_items_notebook(docs_json, render_items);\n",
       "\n",
       "  }\n",
       "  if (root.Bokeh !== undefined) {\n",
       "    embed_document(root);\n",
       "  } else {\n",
       "    var attempts = 0;\n",
       "    var timer = setInterval(function(root) {\n",
       "      if (root.Bokeh !== undefined) {\n",
       "        clearInterval(timer);\n",
       "        embed_document(root);\n",
       "      } else {\n",
       "        attempts++;\n",
       "        if (attempts > 100) {\n",
       "          clearInterval(timer);\n",
       "          console.log(\"Bokeh: ERROR: Unable to run BokehJS code because BokehJS library is missing\");\n",
       "        }\n",
       "      }\n",
       "    }, 10, root)\n",
       "  }\n",
       "})(window);"
      ],
      "application/vnd.bokehjs_exec.v0+json": ""
     },
     "metadata": {
      "application/vnd.bokehjs_exec.v0+json": {
       "id": "8772"
      }
     },
     "output_type": "display_data"
    }
   ],
   "source": [
    "p3 = bokeh.plotting.figure(width = 450, height = 350, title = 'with ATP Synthase, Proton Pump, ATP Use',\n",
    "                          x_axis_label = 'time',\n",
    "                          y_axis_label = 'concentration')\n",
    "plot_list = [ATP_id, outside_H_id, inside_H_id]\n",
    "plot_str = ['atp', 'outside_H', 'inside_H']\n",
    "for i,item in enumerate(plot_list):\n",
    "    p3.line(timepoints, results3[item], line_width = 2, legend_label = plot_str[i], color = palette[i])\n",
    "    \n",
    "p3.legend.click_policy = 'hide'\n",
    "p3.legend.location = 'bottom_right'\n",
    "bokeh.io.show(p3)"
   ]
  },
  {
   "cell_type": "markdown",
   "metadata": {},
   "source": [
    "## Compare with atpsyn + proton pump, only atpsyn, only atpuse (with txtl machinery)\n",
    "---"
   ]
  },
  {
   "cell_type": "code",
   "execution_count": 65,
   "metadata": {},
   "outputs": [
    {
     "data": {
      "text/html": [
       "\n",
       "\n",
       "\n",
       "\n",
       "\n",
       "\n",
       "  <div class=\"bk-root\" id=\"69863dba-23f7-450a-86d0-af0d8cffcfac\" data-root-id=\"9275\"></div>\n"
      ]
     },
     "metadata": {},
     "output_type": "display_data"
    },
    {
     "data": {
      "application/javascript": [
       "(function(root) {\n",
       "  function embed_document(root) {\n",
       "    \n",
       "  var docs_json = {\"e50ce634-cb99-4b9b-a461-7d2507c30d2d\":{\"roots\":{\"references\":[{\"attributes\":{\"children\":[{\"id\":\"8772\",\"subtype\":\"Figure\",\"type\":\"Plot\"},{\"id\":\"8185\",\"subtype\":\"Figure\",\"type\":\"Plot\"},{\"id\":\"8262\",\"subtype\":\"Figure\",\"type\":\"Plot\"}]},\"id\":\"9275\",\"type\":\"Row\"},{\"attributes\":{\"text\":\"with ATP Synthase, Proton Pump, ATP Use\"},\"id\":\"8773\",\"type\":\"Title\"},{\"attributes\":{},\"id\":\"8830\",\"type\":\"Selection\"},{\"attributes\":{\"callback\":null},\"id\":\"8775\",\"type\":\"DataRange1d\"},{\"attributes\":{\"source\":{\"id\":\"8219\",\"type\":\"ColumnDataSource\"}},\"id\":\"8223\",\"type\":\"CDSView\"},{\"attributes\":{\"source\":{\"id\":\"8246\",\"type\":\"ColumnDataSource\"}},\"id\":\"8250\",\"type\":\"CDSView\"},{\"attributes\":{},\"id\":\"8225\",\"type\":\"BasicTickFormatter\"},{\"attributes\":{},\"id\":\"8831\",\"type\":\"UnionRenderers\"},{\"attributes\":{\"active_drag\":\"auto\",\"active_inspect\":\"auto\",\"active_multi\":null,\"active_scroll\":\"auto\",\"active_tap\":\"auto\",\"tools\":[{\"id\":\"8283\",\"type\":\"PanTool\"},{\"id\":\"8284\",\"type\":\"WheelZoomTool\"},{\"id\":\"8285\",\"type\":\"BoxZoomTool\"},{\"id\":\"8286\",\"type\":\"SaveTool\"},{\"id\":\"8287\",\"type\":\"ResetTool\"},{\"id\":\"8288\",\"type\":\"HelpTool\"}]},\"id\":\"8289\",\"type\":\"Toolbar\"},{\"attributes\":{\"callback\":null,\"data\":{\"x\":{\"__ndarray__\":\"AAAAAAAAAADezpCYtzMUQN7OkJi3MyRATTbZZJNNLkDezpCYtzM0QJYCtX6lQDlATTbZZJNNPkACtX6lQK1BQN7OkJi3M0RAuuiiiy66RkCWArV+pUBJQHEcx3Ecx0tATTbZZJNNTkAUqPUrBWpQQAK1fqVArVFA8MEHH3zwUkDezpCYtzNUQMzbGRLzdlVAuuiiiy66VkCo9SsFav1XQJYCtX6lQFlAgw8++OCDWkBxHMdxHMdbQF8pUOtXCl1ATTbZZJNNXkA7Q2LezpBfQBSo9SsFamBAiy666KILYUACtX6lQK1hQHk7Q2LeTmJA8MEHH3zwYkBnSMzbGZJjQN7OkJi3M2RAVVVVVVXVZEDM2xkS83ZlQENi3s6QGGZAuuiiiy66ZkAxb2dIzFtnQKj1KwVq/WdAH3zwwQefaECWArV+pUBpQAyJeTtD4mlAgw8++OCDakD6lQK1fiVrQHEcx3Ecx2tA6KKLLrpobEBfKVDrVwptQNavFKj1q21ATTbZZJNNbkDEvJ0hMe9uQDtDYt7OkG9A2WSTTTYZcEAUqPUrBWpwQFDrVwrUunBAiy666KILcUDHcRzHcVxxQAK1fqVArXFAPvjggw/+cUB5O0Ni3k5yQLV+pUCtn3JA8MEHH3zwckAsBWr9SkFzQGdIzNsZknNAo4suuujic0DezpCYtzN0QBkS83aGhHRAVVVVVVXVdECQmLczJCZ1QMzbGRLzdnVABx988MHHdUBDYt7OkBh2QH6lQK1faXZAuuiiiy66dkD1KwVq/Qp3QDFvZ0jMW3dAbLLJJpusd0Co9SsFav13QOM4juM4TnhAH3zwwQefeEBav1Kg1u94QJYCtX6lQHlA0UUXXXSReUAMiXk7Q+J5QEjM2xkSM3pAgw8++OCDekC/UqDWr9R6QPqVArV+JXtANtlkk012e0BxHMdxHMd7QK1fKVDrF3xA6KKLLrpofEAk5u0Mibl8QF8pUOtXCn1Am2yyySZbfUDWrxSo9at9QBLzdobE/H1ATTbZZJNNfkCIeTtDYp5+QMS8nSEx735AAAAAAABAf0A=\",\"dtype\":\"float64\",\"shape\":[100]},\"y\":{\"__ndarray__\":\"AAAAAAAAJEAUzAAAAAAUQN209////xNAnez/////E0ADAAAAAAAUQAMAAAAAABRAAwAAAAAAFEADAAAAAAAUQAQAAAAAABRAAwAAAAAAFEADAAAAAAAUQAMAAAAAABRAAwAAAAAAFEADAAAAAAAUQAMAAAAAABRAAAAAAAAAFEAFAAAAAAAUQAMAAAAAABRAAwAAAAAAFEADAAAAAAAUQAIAAAAAABRAAwAAAAAAFEACAAAAAAAUQAIAAAAAABRAEwAAAAAAFEADAAAAAAAUQAMAAAAAABRAAgAAAAAAFEADAAAAAAAUQAMAAAAAABRAAwAAAAAAFEADAAAAAAAUQAQAAAAAABRAAwAAAAAAFEADAAAAAAAUQAMAAAAAABRAAwAAAAAAFEADAAAAAAAUQAMAAAAAABRAAwAAAAAAFEADAAAAAAAUQAQAAAAAABRAAwAAAAAAFEADAAAAAAAUQAMAAAAAABRAAwAAAAAAFEADAAAAAAAUQAMAAAAAABRAAwAAAAAAFEADAAAAAAAUQAMAAAAAABRAAwAAAAAAFEADAAAAAAAUQAMAAAAAABRAAQAAAAAAFEADAAAAAAAUQAIAAAAAABRAAwAAAAAAFEACAAAAAAAUQAMAAAAAABRAAgAAAAAAFEADAAAAAAAUQAMAAAAAABRABAAAAAAAFEADAAAAAAAUQAMAAAAAABRAAwAAAAAAFEADAAAAAAAUQAMAAAAAABRAAwAAAAAAFEADAAAAAAAUQAMAAAAAABRAAgAAAAAAFEACAAAAAAAUQAMAAAAAABRAAgAAAAAAFEADAAAAAAAUQAMAAAAAABRAAwAAAAAAFEADAAAAAAAUQAMAAAAAABRAAwAAAAAAFEACAAAAAAAUQAQAAAAAABRABAAAAAAAFEADAAAAAAAUQAMAAAAAABRAAwAAAAAAFEADAAAAAAAUQAMAAAAAABRAAwAAAAAAFEADAAAAAAAUQAMAAAAAABRAAwAAAAAAFEADAAAAAAAUQAMAAAAAABRAAwAAAAAAFEADAAAAAAAUQAMAAAAAABRAAwAAAAAAFEA=\",\"dtype\":\"float64\",\"shape\":[100]}},\"selected\":{\"id\":\"8846\",\"type\":\"Selection\"},\"selection_policy\":{\"id\":\"8847\",\"type\":\"UnionRenderers\"}},\"id\":\"8819\",\"type\":\"ColumnDataSource\"},{\"attributes\":{\"label\":{\"value\":\"atp\"},\"renderers\":[{\"id\":\"8809\",\"type\":\"GlyphRenderer\"}]},\"id\":\"8818\",\"type\":\"LegendItem\"},{\"attributes\":{},\"id\":\"8227\",\"type\":\"BasicTickFormatter\"},{\"attributes\":{\"callback\":null},\"id\":\"8777\",\"type\":\"DataRange1d\"},{\"attributes\":{\"bottom_units\":\"screen\",\"fill_alpha\":{\"value\":0.5},\"fill_color\":{\"value\":\"lightgrey\"},\"left_units\":\"screen\",\"level\":\"overlay\",\"line_alpha\":{\"value\":1.0},\"line_color\":{\"value\":\"black\"},\"line_dash\":[4,4],\"line_width\":{\"value\":2},\"render_mode\":\"css\",\"right_units\":\"screen\",\"top_units\":\"screen\"},\"id\":\"8229\",\"type\":\"BoxAnnotation\"},{\"attributes\":{\"below\":[{\"id\":\"8196\",\"type\":\"LinearAxis\"}],\"center\":[{\"id\":\"8200\",\"type\":\"Grid\"},{\"id\":\"8205\",\"type\":\"Grid\"},{\"id\":\"8230\",\"type\":\"Legend\"}],\"left\":[{\"id\":\"8201\",\"type\":\"LinearAxis\"}],\"plot_height\":350,\"plot_width\":450,\"renderers\":[{\"id\":\"8222\",\"type\":\"GlyphRenderer\"},{\"id\":\"8235\",\"type\":\"GlyphRenderer\"},{\"id\":\"8249\",\"type\":\"GlyphRenderer\"}],\"title\":{\"id\":\"8186\",\"type\":\"Title\"},\"toolbar\":{\"id\":\"8212\",\"type\":\"Toolbar\"},\"x_range\":{\"id\":\"8188\",\"type\":\"DataRange1d\"},\"x_scale\":{\"id\":\"8192\",\"type\":\"LinearScale\"},\"y_range\":{\"id\":\"8190\",\"type\":\"DataRange1d\"},\"y_scale\":{\"id\":\"8194\",\"type\":\"LinearScale\"}},\"id\":\"8185\",\"subtype\":\"Figure\",\"type\":\"Plot\"},{\"attributes\":{},\"id\":\"8243\",\"type\":\"Selection\"},{\"attributes\":{},\"id\":\"8779\",\"type\":\"LinearScale\"},{\"attributes\":{},\"id\":\"8781\",\"type\":\"LinearScale\"},{\"attributes\":{\"ticker\":{\"id\":\"8784\",\"type\":\"BasicTicker\"}},\"id\":\"8787\",\"type\":\"Grid\"},{\"attributes\":{\"axis_label\":\"time\",\"formatter\":{\"id\":\"8814\",\"type\":\"BasicTickFormatter\"},\"ticker\":{\"id\":\"8784\",\"type\":\"BasicTicker\"}},\"id\":\"8783\",\"type\":\"LinearAxis\"},{\"attributes\":{\"text\":\"with ATP Synthase, ATP Use\"},\"id\":\"8186\",\"type\":\"Title\"},{\"attributes\":{},\"id\":\"8302\",\"type\":\"BasicTickFormatter\"},{\"attributes\":{\"line_alpha\":0.1,\"line_color\":\"#1f77b4\",\"line_width\":2,\"x\":{\"field\":\"x\"},\"y\":{\"field\":\"y\"}},\"id\":\"8298\",\"type\":\"Line\"},{\"attributes\":{\"callback\":null},\"id\":\"8188\",\"type\":\"DataRange1d\"},{\"attributes\":{},\"id\":\"8784\",\"type\":\"BasicTicker\"},{\"attributes\":{\"items\":[{\"id\":\"8308\",\"type\":\"LegendItem\"}]},\"id\":\"8307\",\"type\":\"Legend\"},{\"attributes\":{\"axis_label\":\"time\",\"formatter\":{\"id\":\"8304\",\"type\":\"BasicTickFormatter\"},\"ticker\":{\"id\":\"8274\",\"type\":\"BasicTicker\"}},\"id\":\"8273\",\"type\":\"LinearAxis\"},{\"attributes\":{},\"id\":\"8304\",\"type\":\"BasicTickFormatter\"},{\"attributes\":{\"text\":\"with ATP Use\"},\"id\":\"8263\",\"type\":\"Title\"},{\"attributes\":{\"dimension\":1,\"ticker\":{\"id\":\"8789\",\"type\":\"BasicTicker\"}},\"id\":\"8792\",\"type\":\"Grid\"},{\"attributes\":{\"callback\":null},\"id\":\"8267\",\"type\":\"DataRange1d\"},{\"attributes\":{\"bottom_units\":\"screen\",\"fill_alpha\":{\"value\":0.5},\"fill_color\":{\"value\":\"lightgrey\"},\"left_units\":\"screen\",\"level\":\"overlay\",\"line_alpha\":{\"value\":1.0},\"line_color\":{\"value\":\"black\"},\"line_dash\":[4,4],\"line_width\":{\"value\":2},\"render_mode\":\"css\",\"right_units\":\"screen\",\"top_units\":\"screen\"},\"id\":\"8306\",\"type\":\"BoxAnnotation\"},{\"attributes\":{\"callback\":null},\"id\":\"8190\",\"type\":\"DataRange1d\"},{\"attributes\":{},\"id\":\"8271\",\"type\":\"LinearScale\"},{\"attributes\":{\"dimension\":1,\"ticker\":{\"id\":\"8279\",\"type\":\"BasicTicker\"}},\"id\":\"8282\",\"type\":\"Grid\"},{\"attributes\":{},\"id\":\"8789\",\"type\":\"BasicTicker\"},{\"attributes\":{\"label\":{\"value\":\"atp\"},\"renderers\":[{\"id\":\"8299\",\"type\":\"GlyphRenderer\"}]},\"id\":\"8308\",\"type\":\"LegendItem\"},{\"attributes\":{\"axis_label\":\"concentration\",\"formatter\":{\"id\":\"8812\",\"type\":\"BasicTickFormatter\"},\"ticker\":{\"id\":\"8789\",\"type\":\"BasicTicker\"}},\"id\":\"8788\",\"type\":\"LinearAxis\"},{\"attributes\":{},\"id\":\"8192\",\"type\":\"LinearScale\"},{\"attributes\":{},\"id\":\"8647\",\"type\":\"Selection\"},{\"attributes\":{},\"id\":\"8194\",\"type\":\"LinearScale\"},{\"attributes\":{},\"id\":\"8260\",\"type\":\"UnionRenderers\"},{\"attributes\":{\"axis_label\":\"time\",\"formatter\":{\"id\":\"8227\",\"type\":\"BasicTickFormatter\"},\"ticker\":{\"id\":\"8197\",\"type\":\"BasicTicker\"}},\"id\":\"8196\",\"type\":\"LinearAxis\"},{\"attributes\":{\"line_color\":\"#1f77b3\",\"line_width\":2,\"x\":{\"field\":\"x\"},\"y\":{\"field\":\"y\"}},\"id\":\"8807\",\"type\":\"Line\"},{\"attributes\":{\"callback\":null,\"data\":{\"x\":{\"__ndarray__\":\"AAAAAAAAAADezpCYtzMUQN7OkJi3MyRATTbZZJNNLkDezpCYtzM0QJYCtX6lQDlATTbZZJNNPkACtX6lQK1BQN7OkJi3M0RAuuiiiy66RkCWArV+pUBJQHEcx3Ecx0tATTbZZJNNTkAUqPUrBWpQQAK1fqVArVFA8MEHH3zwUkDezpCYtzNUQMzbGRLzdlVAuuiiiy66VkCo9SsFav1XQJYCtX6lQFlAgw8++OCDWkBxHMdxHMdbQF8pUOtXCl1ATTbZZJNNXkA7Q2LezpBfQBSo9SsFamBAiy666KILYUACtX6lQK1hQHk7Q2LeTmJA8MEHH3zwYkBnSMzbGZJjQN7OkJi3M2RAVVVVVVXVZEDM2xkS83ZlQENi3s6QGGZAuuiiiy66ZkAxb2dIzFtnQKj1KwVq/WdAH3zwwQefaECWArV+pUBpQAyJeTtD4mlAgw8++OCDakD6lQK1fiVrQHEcx3Ecx2tA6KKLLrpobEBfKVDrVwptQNavFKj1q21ATTbZZJNNbkDEvJ0hMe9uQDtDYt7OkG9A2WSTTTYZcEAUqPUrBWpwQFDrVwrUunBAiy666KILcUDHcRzHcVxxQAK1fqVArXFAPvjggw/+cUB5O0Ni3k5yQLV+pUCtn3JA8MEHH3zwckAsBWr9SkFzQGdIzNsZknNAo4suuujic0DezpCYtzN0QBkS83aGhHRAVVVVVVXVdECQmLczJCZ1QMzbGRLzdnVABx988MHHdUBDYt7OkBh2QH6lQK1faXZAuuiiiy66dkD1KwVq/Qp3QDFvZ0jMW3dAbLLJJpusd0Co9SsFav13QOM4juM4TnhAH3zwwQefeEBav1Kg1u94QJYCtX6lQHlA0UUXXXSReUAMiXk7Q+J5QEjM2xkSM3pAgw8++OCDekC/UqDWr9R6QPqVArV+JXtANtlkk012e0BxHMdxHMd7QK1fKVDrF3xA6KKLLrpofEAk5u0Mibl8QF8pUOtXCn1Am2yyySZbfUDWrxSo9at9QBLzdobE/H1ATTbZZJNNfkCIeTtDYp5+QMS8nSEx735AAAAAAABAf0A=\",\"dtype\":\"float64\",\"shape\":[100]},\"y\":{\"__ndarray__\":\"AAAAAAAAJECfYAhSv60YQNL+Xx4AohlAK0ovPVrkGkC9dtuZgiwcQKV1HA6NWB1ABv8N+Z5YHkDrtML/oS0fQKo2l1Ig3x9AkHV3+Eo6IEDfnjw283kgQBJIQ0qzsCBAMxWGoCLgIEBr2cy8eAkhQC0Lp9uvLSFA8tGDMpdNIUB/fL6P22khQGpmLn0MgyFA9OO7pKCZIUBLQmLx+a0hQMDXTURpwCFAX0m1oDHRIUBn41fIiuAhQK9cMVqj7iFAkKxbhqL7IUA0OcNsqQciQNboSjDUEiJAkDto2zodIkAHOzsS8iYiQD8CtaQLMCJAn8nCBJc4IkAzTNumoUAiQIT9CFE3SCJAmHoXW2JPIkDppbrlK1YiQAyUFAacXCJA6E9u67liIkC5MI/+i2giQEfI3vsXbiJADarKCWNzIkDcaaDLcXgiQA6+qnFIfSJA978bx+qBIkAI6e89XIYiQMx9N/ifiiJAnovz0riOIkAb+K5sqZIiQBQF7ih0liJAVojGPRuaIkA78VyxoJ0iQDOpGmIGoSJA2tbaCU6kIkAypIZBeaciQOFbH4SJqiJAASK8MICtIkDwB/ePXrAiQIn8ptAlsyJAjURgENe1IkCxw6JWc7giQAOYwZz7uiJAyPKHyXC9IkCLwIu3078iQGO8JjIlwiJAoIFP+WXEIkBgXlXBlsYiQKaG5zO4yCJAxD3z8MrKIkCgrGaPz8wiQNLPrp3GziJACsRuorDQIkBCXfocjtIiQJ6E+4Vf1CJA0xrkTyXWIkBPS2Lm39ciQGUCXLCP2SJA0AUHEDXbIkAak/9h0NwiQGMHdf5h3iJA2d5zOerfIkD5HPliaeEiQGZEasff4iJA4A10r03kIkBlDEBgs+UiQGndbRwR5yJA5H8pI2foIkDTZu6wtekiQDBhzf/86iJAF80oRz3sIkAOo/67du0iQJhIOJGp7iJAl+aI99XvIkBX/bcd/PAiQHP3ijAc8iJAIJkdWzbzIkAcT8zGSvQiQDAvPZtZ9SJA9be//mL2IkA+MO8VZ/ciQCHsLARm+CJA5thx61/5IkA=\",\"dtype\":\"float64\",\"shape\":[100]}},\"selected\":{\"id\":\"8830\",\"type\":\"Selection\"},\"selection_policy\":{\"id\":\"8831\",\"type\":\"UnionRenderers\"}},\"id\":\"8806\",\"type\":\"ColumnDataSource\"},{\"attributes\":{},\"id\":\"8197\",\"type\":\"BasicTicker\"},{\"attributes\":{\"active_drag\":\"auto\",\"active_inspect\":\"auto\",\"active_multi\":null,\"active_scroll\":\"auto\",\"active_tap\":\"auto\",\"tools\":[{\"id\":\"8793\",\"type\":\"PanTool\"},{\"id\":\"8794\",\"type\":\"WheelZoomTool\"},{\"id\":\"8795\",\"type\":\"BoxZoomTool\"},{\"id\":\"8796\",\"type\":\"SaveTool\"},{\"id\":\"8797\",\"type\":\"ResetTool\"},{\"id\":\"8798\",\"type\":\"HelpTool\"}]},\"id\":\"8799\",\"type\":\"Toolbar\"},{\"attributes\":{\"ticker\":{\"id\":\"8197\",\"type\":\"BasicTicker\"}},\"id\":\"8200\",\"type\":\"Grid\"},{\"attributes\":{\"data_source\":{\"id\":\"8246\",\"type\":\"ColumnDataSource\"},\"glyph\":{\"id\":\"8247\",\"type\":\"Line\"},\"hover_glyph\":null,\"muted_glyph\":null,\"nonselection_glyph\":{\"id\":\"8248\",\"type\":\"Line\"},\"selection_glyph\":null,\"view\":{\"id\":\"8250\",\"type\":\"CDSView\"}},\"id\":\"8249\",\"type\":\"GlyphRenderer\"},{\"attributes\":{\"source\":{\"id\":\"8819\",\"type\":\"ColumnDataSource\"}},\"id\":\"8823\",\"type\":\"CDSView\"},{\"attributes\":{},\"id\":\"8274\",\"type\":\"BasicTicker\"},{\"attributes\":{},\"id\":\"8202\",\"type\":\"BasicTicker\"},{\"attributes\":{},\"id\":\"8793\",\"type\":\"PanTool\"},{\"attributes\":{\"data_source\":{\"id\":\"8819\",\"type\":\"ColumnDataSource\"},\"glyph\":{\"id\":\"8820\",\"type\":\"Line\"},\"hover_glyph\":null,\"muted_glyph\":null,\"nonselection_glyph\":{\"id\":\"8821\",\"type\":\"Line\"},\"selection_glyph\":null,\"view\":{\"id\":\"8823\",\"type\":\"CDSView\"}},\"id\":\"8822\",\"type\":\"GlyphRenderer\"},{\"attributes\":{},\"id\":\"8288\",\"type\":\"HelpTool\"},{\"attributes\":{\"dimension\":1,\"ticker\":{\"id\":\"8202\",\"type\":\"BasicTicker\"}},\"id\":\"8205\",\"type\":\"Grid\"},{\"attributes\":{},\"id\":\"8794\",\"type\":\"WheelZoomTool\"},{\"attributes\":{\"callback\":null,\"data\":{\"x\":{\"__ndarray__\":\"AAAAAAAAAADezpCYtzMUQN7OkJi3MyRATTbZZJNNLkDezpCYtzM0QJYCtX6lQDlATTbZZJNNPkACtX6lQK1BQN7OkJi3M0RAuuiiiy66RkCWArV+pUBJQHEcx3Ecx0tATTbZZJNNTkAUqPUrBWpQQAK1fqVArVFA8MEHH3zwUkDezpCYtzNUQMzbGRLzdlVAuuiiiy66VkCo9SsFav1XQJYCtX6lQFlAgw8++OCDWkBxHMdxHMdbQF8pUOtXCl1ATTbZZJNNXkA7Q2LezpBfQBSo9SsFamBAiy666KILYUACtX6lQK1hQHk7Q2LeTmJA8MEHH3zwYkBnSMzbGZJjQN7OkJi3M2RAVVVVVVXVZEDM2xkS83ZlQENi3s6QGGZAuuiiiy66ZkAxb2dIzFtnQKj1KwVq/WdAH3zwwQefaECWArV+pUBpQAyJeTtD4mlAgw8++OCDakD6lQK1fiVrQHEcx3Ecx2tA6KKLLrpobEBfKVDrVwptQNavFKj1q21ATTbZZJNNbkDEvJ0hMe9uQDtDYt7OkG9A2WSTTTYZcEAUqPUrBWpwQFDrVwrUunBAiy666KILcUDHcRzHcVxxQAK1fqVArXFAPvjggw/+cUB5O0Ni3k5yQLV+pUCtn3JA8MEHH3zwckAsBWr9SkFzQGdIzNsZknNAo4suuujic0DezpCYtzN0QBkS83aGhHRAVVVVVVXVdECQmLczJCZ1QMzbGRLzdnVABx988MHHdUBDYt7OkBh2QH6lQK1faXZAuuiiiy66dkD1KwVq/Qp3QDFvZ0jMW3dAbLLJJpusd0Co9SsFav13QOM4juM4TnhAH3zwwQefeEBav1Kg1u94QJYCtX6lQHlA0UUXXXSReUAMiXk7Q+J5QEjM2xkSM3pAgw8++OCDekC/UqDWr9R6QPqVArV+JXtANtlkk012e0BxHMdxHMd7QK1fKVDrF3xA6KKLLrpofEAk5u0Mibl8QF8pUOtXCn1Am2yyySZbfUDWrxSo9at9QBLzdobE/H1ATTbZZJNNfkCIeTtDYp5+QMS8nSEx735AAAAAAABAf0A=\",\"dtype\":\"float64\",\"shape\":[100]},\"y\":{\"__ndarray__\":\"AAAAAAAAAACgAQAAAAAkQPr//////yNA+v//////I0D6//////8jQPr//////yNA+v//////I0D6//////8jQPr//////yNA+v//////I0D6//////8jQPr//////yNA+v//////I0D6//////8jQPr//////yNA+v//////I0D6//////8jQPr//////yNA+v//////I0D6//////8jQPr//////yNA+v//////I0D6//////8jQPr//////yNA+v//////I0D6//////8jQPr//////yNA+v//////I0D6//////8jQPr//////yNA+v//////I0D6//////8jQPr//////yNA+v//////I0D6//////8jQPr//////yNA+v//////I0D6//////8jQPr//////yNA+v//////I0D6//////8jQPr//////yNA+v//////I0D6//////8jQPr//////yNA+v//////I0D6//////8jQPr//////yNA+v//////I0D6//////8jQPr//////yNA+v//////I0D6//////8jQPr//////yNA+v//////I0D6//////8jQPr//////yNA+v//////I0D6//////8jQPr//////yNA+v//////I0D6//////8jQPr//////yNA+v//////I0D6//////8jQPr//////yNA+v//////I0D6//////8jQPr//////yNA+v//////I0D6//////8jQPr//////yNA+v//////I0D6//////8jQPr//////yNA+v//////I0D6//////8jQPr//////yNA+v//////I0D6//////8jQPr//////yNA+v//////I0D6//////8jQPr//////yNA+v//////I0D6//////8jQPr//////yNA+v//////I0D6//////8jQPr//////yNA+v//////I0D6//////8jQPr//////yNA+v//////I0D6//////8jQPr//////yNA+v//////I0D6//////8jQPr//////yNA+v//////I0A=\",\"dtype\":\"float64\",\"shape\":[100]}},\"selected\":{\"id\":\"8647\",\"type\":\"Selection\"},\"selection_policy\":{\"id\":\"8648\",\"type\":\"UnionRenderers\"}},\"id\":\"8246\",\"type\":\"ColumnDataSource\"},{\"attributes\":{\"axis_label\":\"concentration\",\"formatter\":{\"id\":\"8225\",\"type\":\"BasicTickFormatter\"},\"ticker\":{\"id\":\"8202\",\"type\":\"BasicTicker\"}},\"id\":\"8201\",\"type\":\"LinearAxis\"},{\"attributes\":{\"overlay\":{\"id\":\"8816\",\"type\":\"BoxAnnotation\"}},\"id\":\"8795\",\"type\":\"BoxZoomTool\"},{\"attributes\":{},\"id\":\"8269\",\"type\":\"LinearScale\"},{\"attributes\":{},\"id\":\"8796\",\"type\":\"SaveTool\"},{\"attributes\":{\"line_color\":\"#1f77b3\",\"line_width\":2,\"x\":{\"field\":\"x\"},\"y\":{\"field\":\"y\"}},\"id\":\"8220\",\"type\":\"Line\"},{\"attributes\":{\"data_source\":{\"id\":\"8219\",\"type\":\"ColumnDataSource\"},\"glyph\":{\"id\":\"8220\",\"type\":\"Line\"},\"hover_glyph\":null,\"muted_glyph\":null,\"nonselection_glyph\":{\"id\":\"8221\",\"type\":\"Line\"},\"selection_glyph\":null,\"view\":{\"id\":\"8223\",\"type\":\"CDSView\"}},\"id\":\"8222\",\"type\":\"GlyphRenderer\"},{\"attributes\":{},\"id\":\"8797\",\"type\":\"ResetTool\"},{\"attributes\":{\"callback\":null,\"data\":{\"x\":{\"__ndarray__\":\"AAAAAAAAAADezpCYtzMUQN7OkJi3MyRATTbZZJNNLkDezpCYtzM0QJYCtX6lQDlATTbZZJNNPkACtX6lQK1BQN7OkJi3M0RAuuiiiy66RkCWArV+pUBJQHEcx3Ecx0tATTbZZJNNTkAUqPUrBWpQQAK1fqVArVFA8MEHH3zwUkDezpCYtzNUQMzbGRLzdlVAuuiiiy66VkCo9SsFav1XQJYCtX6lQFlAgw8++OCDWkBxHMdxHMdbQF8pUOtXCl1ATTbZZJNNXkA7Q2LezpBfQBSo9SsFamBAiy666KILYUACtX6lQK1hQHk7Q2LeTmJA8MEHH3zwYkBnSMzbGZJjQN7OkJi3M2RAVVVVVVXVZEDM2xkS83ZlQENi3s6QGGZAuuiiiy66ZkAxb2dIzFtnQKj1KwVq/WdAH3zwwQefaECWArV+pUBpQAyJeTtD4mlAgw8++OCDakD6lQK1fiVrQHEcx3Ecx2tA6KKLLrpobEBfKVDrVwptQNavFKj1q21ATTbZZJNNbkDEvJ0hMe9uQDtDYt7OkG9A2WSTTTYZcEAUqPUrBWpwQFDrVwrUunBAiy666KILcUDHcRzHcVxxQAK1fqVArXFAPvjggw/+cUB5O0Ni3k5yQLV+pUCtn3JA8MEHH3zwckAsBWr9SkFzQGdIzNsZknNAo4suuujic0DezpCYtzN0QBkS83aGhHRAVVVVVVXVdECQmLczJCZ1QMzbGRLzdnVABx988MHHdUBDYt7OkBh2QH6lQK1faXZAuuiiiy66dkD1KwVq/Qp3QDFvZ0jMW3dAbLLJJpusd0Co9SsFav13QOM4juM4TnhAH3zwwQefeEBav1Kg1u94QJYCtX6lQHlA0UUXXXSReUAMiXk7Q+J5QEjM2xkSM3pAgw8++OCDekC/UqDWr9R6QPqVArV+JXtANtlkk012e0BxHMdxHMd7QK1fKVDrF3xA6KKLLrpofEAk5u0Mibl8QF8pUOtXCn1Am2yyySZbfUDWrxSo9at9QBLzdobE/H1ATTbZZJNNfkCIeTtDYp5+QMS8nSEx735AAAAAAABAf0A=\",\"dtype\":\"float64\",\"shape\":[100]},\"y\":{\"__ndarray__\":\"AAAAAAAAJEAVtAZnpMgBQF/UZrFktRJAWuLEjnm0F0DdV4cB65MaQFmDemAubBxATXP+RJCzHUApFtmRNqMeQAK30lneWR9AFtjmZXjpH0Anzooxli4gQDGGlqQiXiBACVVZNd2FIEB/ymCEhacgQDAncspfxCBANq3LiVzdIEDG9bffMfMgQLRaMiVsBiFAHeNDN3kXIUAsc9lDsCYhQN1SllBXNCFAy4pYOKdAIUC0iBKZzkshQPY8wAL0VSFAl6j+nTdfIUAEz0JvtGchQG1PY1GBbyFAU2VQubF2IUD85Y1QVn0hQKd7aHB9gyFAaK3HhDOJIUBgscJbg44hQGzHSmd2kyFA4wTL8hSYIUBxOudLZpwhQD+as+xwoCFAfS17lDqkIUCFFkNkyKchQP/uWvMeqyFAmxnmYEKuIUB0QbhjNrEhQPqoMlf+syFA4ZtuRp22IUBLgnr1FbkhQJfWCupquyFAJAJycp69IUCyT36rsr8hQLPm+YWpwSFAzPlmy4TDIUBWJ/ohRsUhQEd7KRDvxiFA8lLX/4DIIUB8uBBB/ckhQPyngAxlyyFAeOeJhbnMIUAB+y28+80hQOFq064szyFAs0PJS03QIUA1NYxyXtEhQNzWzPRg0iFAF+cCmFXTIUAU9msWPdQhQMuC7x4Y1SFAG79DVufVIUBhsXNZq9YhQBc9GL1k1yFA1YoLCxTYIUDJt3bHudghQEKGfHFW2SFAaqdJf+rZIUCHv8phdtohQORbIYT62iFA698dTHfbIUAtgYAa7dshQDhBPktc3CFAlDLMNcXcIUB6dlYtKN0hQONX9ICF3SFAoRb+e93dIUCijhVmMN4hQLyRbIN+3iFAPADwFMjeIUChS2NYDd8hQDEojIhO3yFAf/VZ3YvfIUD/gwuMxd8hQPL2PMf73yFAKEwjvy7gIUAXcoihXuAhQPJyAZqL4CFA5HT10bXgIUBFosBw3eAhQKo2x5sC4SFAWB+MdiXhIUC7gMgiRuEhQJrMe8Bk4SFAzjUEboHhIUD8TCxInOEhQHSrSWq14SFAZZ067szhIUA=\",\"dtype\":\"float64\",\"shape\":[100]}},\"selected\":{\"id\":\"8243\",\"type\":\"Selection\"},\"selection_policy\":{\"id\":\"8244\",\"type\":\"UnionRenderers\"}},\"id\":\"8219\",\"type\":\"ColumnDataSource\"},{\"attributes\":{\"ticker\":{\"id\":\"8274\",\"type\":\"BasicTicker\"}},\"id\":\"8277\",\"type\":\"Grid\"},{\"attributes\":{\"active_drag\":\"auto\",\"active_inspect\":\"auto\",\"active_multi\":null,\"active_scroll\":\"auto\",\"active_tap\":\"auto\",\"tools\":[{\"id\":\"8206\",\"type\":\"PanTool\"},{\"id\":\"8207\",\"type\":\"WheelZoomTool\"},{\"id\":\"8208\",\"type\":\"BoxZoomTool\"},{\"id\":\"8209\",\"type\":\"SaveTool\"},{\"id\":\"8210\",\"type\":\"ResetTool\"},{\"id\":\"8211\",\"type\":\"HelpTool\"}]},\"id\":\"8212\",\"type\":\"Toolbar\"},{\"attributes\":{\"below\":[{\"id\":\"8273\",\"type\":\"LinearAxis\"}],\"center\":[{\"id\":\"8277\",\"type\":\"Grid\"},{\"id\":\"8282\",\"type\":\"Grid\"},{\"id\":\"8307\",\"type\":\"Legend\"}],\"left\":[{\"id\":\"8278\",\"type\":\"LinearAxis\"}],\"plot_height\":350,\"plot_width\":450,\"renderers\":[{\"id\":\"8299\",\"type\":\"GlyphRenderer\"}],\"title\":{\"id\":\"8263\",\"type\":\"Title\"},\"toolbar\":{\"id\":\"8289\",\"type\":\"Toolbar\"},\"x_range\":{\"id\":\"8265\",\"type\":\"DataRange1d\"},\"x_scale\":{\"id\":\"8269\",\"type\":\"LinearScale\"},\"y_range\":{\"id\":\"8267\",\"type\":\"DataRange1d\"},\"y_scale\":{\"id\":\"8271\",\"type\":\"LinearScale\"}},\"id\":\"8262\",\"subtype\":\"Figure\",\"type\":\"Plot\"},{\"attributes\":{\"callback\":null},\"id\":\"8265\",\"type\":\"DataRange1d\"},{\"attributes\":{},\"id\":\"8798\",\"type\":\"HelpTool\"},{\"attributes\":{\"line_alpha\":0.1,\"line_color\":\"#1f77b4\",\"line_width\":2,\"x\":{\"field\":\"x\"},\"y\":{\"field\":\"y\"}},\"id\":\"8808\",\"type\":\"Line\"},{\"attributes\":{},\"id\":\"8206\",\"type\":\"PanTool\"},{\"attributes\":{},\"id\":\"8207\",\"type\":\"WheelZoomTool\"},{\"attributes\":{},\"id\":\"8244\",\"type\":\"UnionRenderers\"},{\"attributes\":{},\"id\":\"8812\",\"type\":\"BasicTickFormatter\"},{\"attributes\":{\"overlay\":{\"id\":\"8229\",\"type\":\"BoxAnnotation\"}},\"id\":\"8208\",\"type\":\"BoxZoomTool\"},{\"attributes\":{\"source\":{\"id\":\"8806\",\"type\":\"ColumnDataSource\"}},\"id\":\"8810\",\"type\":\"CDSView\"},{\"attributes\":{\"data_source\":{\"id\":\"8806\",\"type\":\"ColumnDataSource\"},\"glyph\":{\"id\":\"8807\",\"type\":\"Line\"},\"hover_glyph\":null,\"muted_glyph\":null,\"nonselection_glyph\":{\"id\":\"8808\",\"type\":\"Line\"},\"selection_glyph\":null,\"view\":{\"id\":\"8810\",\"type\":\"CDSView\"}},\"id\":\"8809\",\"type\":\"GlyphRenderer\"},{\"attributes\":{},\"id\":\"8209\",\"type\":\"SaveTool\"},{\"attributes\":{},\"id\":\"8210\",\"type\":\"ResetTool\"},{\"attributes\":{\"axis_label\":\"concentration\",\"formatter\":{\"id\":\"8302\",\"type\":\"BasicTickFormatter\"},\"ticker\":{\"id\":\"8279\",\"type\":\"BasicTicker\"}},\"id\":\"8278\",\"type\":\"LinearAxis\"},{\"attributes\":{},\"id\":\"8814\",\"type\":\"BasicTickFormatter\"},{\"attributes\":{\"click_policy\":\"hide\",\"items\":[{\"id\":\"8818\",\"type\":\"LegendItem\"},{\"id\":\"8832\",\"type\":\"LegendItem\"},{\"id\":\"8848\",\"type\":\"LegendItem\"}],\"location\":\"bottom_right\"},\"id\":\"8817\",\"type\":\"Legend\"},{\"attributes\":{},\"id\":\"8211\",\"type\":\"HelpTool\"},{\"attributes\":{\"label\":{\"value\":\"inside_H\"},\"renderers\":[{\"id\":\"8836\",\"type\":\"GlyphRenderer\"}]},\"id\":\"8848\",\"type\":\"LegendItem\"},{\"attributes\":{\"bottom_units\":\"screen\",\"fill_alpha\":{\"value\":0.5},\"fill_color\":{\"value\":\"lightgrey\"},\"left_units\":\"screen\",\"level\":\"overlay\",\"line_alpha\":{\"value\":1.0},\"line_color\":{\"value\":\"black\"},\"line_dash\":[4,4],\"line_width\":{\"value\":2},\"render_mode\":\"css\",\"right_units\":\"screen\",\"top_units\":\"screen\"},\"id\":\"8816\",\"type\":\"BoxAnnotation\"},{\"attributes\":{\"line_alpha\":0.1,\"line_color\":\"#1f77b4\",\"line_width\":2,\"x\":{\"field\":\"x\"},\"y\":{\"field\":\"y\"}},\"id\":\"8221\",\"type\":\"Line\"},{\"attributes\":{},\"id\":\"8279\",\"type\":\"BasicTicker\"},{\"attributes\":{\"line_alpha\":0.1,\"line_color\":\"#1f77b4\",\"line_width\":2,\"x\":{\"field\":\"x\"},\"y\":{\"field\":\"y\"}},\"id\":\"8248\",\"type\":\"Line\"},{\"attributes\":{\"line_alpha\":0.1,\"line_color\":\"#1f77b4\",\"line_width\":2,\"x\":{\"field\":\"x\"},\"y\":{\"field\":\"y\"}},\"id\":\"8234\",\"type\":\"Line\"},{\"attributes\":{\"label\":{\"value\":\"atp\"},\"renderers\":[{\"id\":\"8222\",\"type\":\"GlyphRenderer\"}]},\"id\":\"8231\",\"type\":\"LegendItem\"},{\"attributes\":{\"line_color\":\"#2ba02b\",\"line_width\":2,\"x\":{\"field\":\"x\"},\"y\":{\"field\":\"y\"}},\"id\":\"8247\",\"type\":\"Line\"},{\"attributes\":{\"line_color\":\"#ff7e0e\",\"line_width\":2,\"x\":{\"field\":\"x\"},\"y\":{\"field\":\"y\"}},\"id\":\"8233\",\"type\":\"Line\"},{\"attributes\":{\"label\":{\"value\":\"outside_H\"},\"renderers\":[{\"id\":\"8822\",\"type\":\"GlyphRenderer\"}]},\"id\":\"8832\",\"type\":\"LegendItem\"},{\"attributes\":{},\"id\":\"8651\",\"type\":\"UnionRenderers\"},{\"attributes\":{\"callback\":null,\"data\":{\"x\":{\"__ndarray__\":\"AAAAAAAAAADezpCYtzMUQN7OkJi3MyRATTbZZJNNLkDezpCYtzM0QJYCtX6lQDlATTbZZJNNPkACtX6lQK1BQN7OkJi3M0RAuuiiiy66RkCWArV+pUBJQHEcx3Ecx0tATTbZZJNNTkAUqPUrBWpQQAK1fqVArVFA8MEHH3zwUkDezpCYtzNUQMzbGRLzdlVAuuiiiy66VkCo9SsFav1XQJYCtX6lQFlAgw8++OCDWkBxHMdxHMdbQF8pUOtXCl1ATTbZZJNNXkA7Q2LezpBfQBSo9SsFamBAiy666KILYUACtX6lQK1hQHk7Q2LeTmJA8MEHH3zwYkBnSMzbGZJjQN7OkJi3M2RAVVVVVVXVZEDM2xkS83ZlQENi3s6QGGZAuuiiiy66ZkAxb2dIzFtnQKj1KwVq/WdAH3zwwQefaECWArV+pUBpQAyJeTtD4mlAgw8++OCDakD6lQK1fiVrQHEcx3Ecx2tA6KKLLrpobEBfKVDrVwptQNavFKj1q21ATTbZZJNNbkDEvJ0hMe9uQDtDYt7OkG9A2WSTTTYZcEAUqPUrBWpwQFDrVwrUunBAiy666KILcUDHcRzHcVxxQAK1fqVArXFAPvjggw/+cUB5O0Ni3k5yQLV+pUCtn3JA8MEHH3zwckAsBWr9SkFzQGdIzNsZknNAo4suuujic0DezpCYtzN0QBkS83aGhHRAVVVVVVXVdECQmLczJCZ1QMzbGRLzdnVABx988MHHdUBDYt7OkBh2QH6lQK1faXZAuuiiiy66dkD1KwVq/Qp3QDFvZ0jMW3dAbLLJJpusd0Co9SsFav13QOM4juM4TnhAH3zwwQefeEBav1Kg1u94QJYCtX6lQHlA0UUXXXSReUAMiXk7Q+J5QEjM2xkSM3pAgw8++OCDekC/UqDWr9R6QPqVArV+JXtANtlkk012e0BxHMdxHMd7QK1fKVDrF3xA6KKLLrpofEAk5u0Mibl8QF8pUOtXCn1Am2yyySZbfUDWrxSo9at9QBLzdobE/H1ATTbZZJNNfkCIeTtDYp5+QMS8nSEx735AAAAAAABAf0A=\",\"dtype\":\"float64\",\"shape\":[100]},\"y\":{\"__ndarray__\":\"AAAAAAAAJEB4eHgr6dC9vYwIoBauSqu9vOUnpGr4Yb2c98mMMy01vZw0s4d1MhK9+3+YzvrJEL2ylvsqAMMOvW8txrgK8gu9K8SQRhUhCb3nWlvUH1AGvaXxJWIqfwO9YYjw7zSuAL09Pnb7frr7vLZrCxeUGPa8LpmgMql28LxPjWucfKnlvIDQK6dNy9S8sWGABdtPjLz0+zLFxj2KvDiW5YSyK4i8fTCYRJ4ZhrzAykoEigeEvARl/cN19YG8j/5fB8PGf7wWM8WGmqJ7vKFnKgZyfne8J5yPhUlac7xcoekJQmxuvGsKtAjxI2a88eb8DkC3W7wcciMZPE1GvNqxeTIS8AS8WpGHS//IBLzZcJVk7KEEvFhQo33ZegS81y+xlsZTBLxWD7+vsywEvNXuzMigBQS8VM7a4Y3eA7zTrej6ercDvFKN9hNokAO80WwELVVpA7xRTBJGQkIDvNArIF8vGwO8TwsueBz0ArzN6juRCc0CvEzKSar2pQK8zKlXw+N+ArxLiWXc0FcCvMpoc/W9MAK8SUiBDqsJArzIJ48nmOIBvEcHnUCFuwG8xuaqWXKUAbxFxrhyX20BvMSlxotMRgG8Q4XUpDkfAbzDZOK9JvgAvEJE8NYT0QC8wCP+7wCqALw/AwwJ7oIAvL7iGSLbWwC8PMInO8g0ALy9oTVUtQ0AvHgCh9pEzf+7dsGiDB9//7t0gL4++TD/u3I/2nDT4v67cP71oq2U/rttvRHVh0b+u2x8LQdi+P27ajtJOTyq/bto+mRrFlz9u2a5gJ3wDf27ZXicz8q//LtjN7gBpXH8u2D20zN/I/y7XrXvZVnV+7tddAuYM4f7u1szJ8oNOfu7WfJC/Ofq+rtYsV4uwpz6u1ZwemCcTvq7Uy+WknYA+rtR7rHEULL5u1CtzfYqZPm7TmzpKAUW+btMKwVb38f4u0rqII25efi7Sak8v5Mr+LtGaFjxbd33u0QndCNIj/e7QuaPVSJB97tBpauH/PL2uz9kx7nWpPa7PSPj67BW9rs84v4diwj2uzmhGlBluvW7N2A2gj9s9bs=\",\"dtype\":\"float64\",\"shape\":[100]}},\"selected\":{\"id\":\"8650\",\"type\":\"Selection\"},\"selection_policy\":{\"id\":\"8651\",\"type\":\"UnionRenderers\"}},\"id\":\"8296\",\"type\":\"ColumnDataSource\"},{\"attributes\":{\"line_color\":\"#ff7e0e\",\"line_width\":2,\"x\":{\"field\":\"x\"},\"y\":{\"field\":\"y\"}},\"id\":\"8820\",\"type\":\"Line\"},{\"attributes\":{\"callback\":null,\"data\":{\"x\":{\"__ndarray__\":\"AAAAAAAAAADezpCYtzMUQN7OkJi3MyRATTbZZJNNLkDezpCYtzM0QJYCtX6lQDlATTbZZJNNPkACtX6lQK1BQN7OkJi3M0RAuuiiiy66RkCWArV+pUBJQHEcx3Ecx0tATTbZZJNNTkAUqPUrBWpQQAK1fqVArVFA8MEHH3zwUkDezpCYtzNUQMzbGRLzdlVAuuiiiy66VkCo9SsFav1XQJYCtX6lQFlAgw8++OCDWkBxHMdxHMdbQF8pUOtXCl1ATTbZZJNNXkA7Q2LezpBfQBSo9SsFamBAiy666KILYUACtX6lQK1hQHk7Q2LeTmJA8MEHH3zwYkBnSMzbGZJjQN7OkJi3M2RAVVVVVVXVZEDM2xkS83ZlQENi3s6QGGZAuuiiiy66ZkAxb2dIzFtnQKj1KwVq/WdAH3zwwQefaECWArV+pUBpQAyJeTtD4mlAgw8++OCDakD6lQK1fiVrQHEcx3Ecx2tA6KKLLrpobEBfKVDrVwptQNavFKj1q21ATTbZZJNNbkDEvJ0hMe9uQDtDYt7OkG9A2WSTTTYZcEAUqPUrBWpwQFDrVwrUunBAiy666KILcUDHcRzHcVxxQAK1fqVArXFAPvjggw/+cUB5O0Ni3k5yQLV+pUCtn3JA8MEHH3zwckAsBWr9SkFzQGdIzNsZknNAo4suuujic0DezpCYtzN0QBkS83aGhHRAVVVVVVXVdECQmLczJCZ1QMzbGRLzdnVABx988MHHdUBDYt7OkBh2QH6lQK1faXZAuuiiiy66dkD1KwVq/Qp3QDFvZ0jMW3dAbLLJJpusd0Co9SsFav13QOM4juM4TnhAH3zwwQefeEBav1Kg1u94QJYCtX6lQHlA0UUXXXSReUAMiXk7Q+J5QEjM2xkSM3pAgw8++OCDekC/UqDWr9R6QPqVArV+JXtANtlkk012e0BxHMdxHMd7QK1fKVDrF3xA6KKLLrpofEAk5u0Mibl8QF8pUOtXCn1Am2yyySZbfUDWrxSo9at9QBLzdobE/H1ATTbZZJNNfkCIeTtDYp5+QMS8nSEx735AAAAAAABAf0A=\",\"dtype\":\"float64\",\"shape\":[100]},\"y\":{\"__ndarray__\":\"AAAAAAAAAADyM/////8TQClLCAAAABRAaRMAAAAAFEADAAAAAAAUQAMAAAAAABRAAwAAAAAAFEADAAAAAAAUQAIAAAAAABRAAwAAAAAAFEADAAAAAAAUQAMAAAAAABRAAwAAAAAAFEADAAAAAAAUQAMAAAAAABRABgAAAAAAFEABAAAAAAAUQAMAAAAAABRAAwAAAAAAFEADAAAAAAAUQAQAAAAAABRAAwAAAAAAFEAEAAAAAAAUQAQAAAAAABRA8///////E0ADAAAAAAAUQAMAAAAAABRABAAAAAAAFEADAAAAAAAUQAMAAAAAABRAAwAAAAAAFEADAAAAAAAUQAIAAAAAABRAAwAAAAAAFEADAAAAAAAUQAMAAAAAABRAAwAAAAAAFEADAAAAAAAUQAMAAAAAABRAAwAAAAAAFEADAAAAAAAUQAIAAAAAABRAAwAAAAAAFEADAAAAAAAUQAMAAAAAABRAAwAAAAAAFEADAAAAAAAUQAMAAAAAABRAAwAAAAAAFEADAAAAAAAUQAMAAAAAABRAAwAAAAAAFEADAAAAAAAUQAMAAAAAABRABQAAAAAAFEADAAAAAAAUQAQAAAAAABRAAwAAAAAAFEAEAAAAAAAUQAMAAAAAABRABAAAAAAAFEADAAAAAAAUQAMAAAAAABRAAgAAAAAAFEADAAAAAAAUQAMAAAAAABRAAwAAAAAAFEADAAAAAAAUQAMAAAAAABRAAwAAAAAAFEADAAAAAAAUQAMAAAAAABRABAAAAAAAFEAEAAAAAAAUQAMAAAAAABRABAAAAAAAFEADAAAAAAAUQAMAAAAAABRAAwAAAAAAFEADAAAAAAAUQAMAAAAAABRAAwAAAAAAFEAEAAAAAAAUQAIAAAAAABRAAgAAAAAAFEADAAAAAAAUQAMAAAAAABRAAwAAAAAAFEADAAAAAAAUQAMAAAAAABRAAwAAAAAAFEADAAAAAAAUQAMAAAAAABRAAwAAAAAAFEADAAAAAAAUQAMAAAAAABRAAwAAAAAAFEADAAAAAAAUQAMAAAAAABRAAwAAAAAAFEA=\",\"dtype\":\"float64\",\"shape\":[100]}},\"selected\":{\"id\":\"9201\",\"type\":\"Selection\"},\"selection_policy\":{\"id\":\"9202\",\"type\":\"UnionRenderers\"}},\"id\":\"8833\",\"type\":\"ColumnDataSource\"},{\"attributes\":{\"line_color\":\"#1f77b3\",\"line_width\":2,\"x\":{\"field\":\"x\"},\"y\":{\"field\":\"y\"}},\"id\":\"8297\",\"type\":\"Line\"},{\"attributes\":{\"data_source\":{\"id\":\"8296\",\"type\":\"ColumnDataSource\"},\"glyph\":{\"id\":\"8297\",\"type\":\"Line\"},\"hover_glyph\":null,\"muted_glyph\":null,\"nonselection_glyph\":{\"id\":\"8298\",\"type\":\"Line\"},\"selection_glyph\":null,\"view\":{\"id\":\"8300\",\"type\":\"CDSView\"}},\"id\":\"8299\",\"type\":\"GlyphRenderer\"},{\"attributes\":{\"data_source\":{\"id\":\"8833\",\"type\":\"ColumnDataSource\"},\"glyph\":{\"id\":\"8834\",\"type\":\"Line\"},\"hover_glyph\":null,\"muted_glyph\":null,\"nonselection_glyph\":{\"id\":\"8835\",\"type\":\"Line\"},\"selection_glyph\":null,\"view\":{\"id\":\"8837\",\"type\":\"CDSView\"}},\"id\":\"8836\",\"type\":\"GlyphRenderer\"},{\"attributes\":{\"source\":{\"id\":\"8833\",\"type\":\"ColumnDataSource\"}},\"id\":\"8837\",\"type\":\"CDSView\"},{\"attributes\":{\"label\":{\"value\":\"outside_H\"},\"renderers\":[{\"id\":\"8235\",\"type\":\"GlyphRenderer\"}]},\"id\":\"8245\",\"type\":\"LegendItem\"},{\"attributes\":{\"line_color\":\"#2ba02b\",\"line_width\":2,\"x\":{\"field\":\"x\"},\"y\":{\"field\":\"y\"}},\"id\":\"8834\",\"type\":\"Line\"},{\"attributes\":{},\"id\":\"8846\",\"type\":\"Selection\"},{\"attributes\":{\"line_alpha\":0.1,\"line_color\":\"#1f77b4\",\"line_width\":2,\"x\":{\"field\":\"x\"},\"y\":{\"field\":\"y\"}},\"id\":\"8835\",\"type\":\"Line\"},{\"attributes\":{\"source\":{\"id\":\"8296\",\"type\":\"ColumnDataSource\"}},\"id\":\"8300\",\"type\":\"CDSView\"},{\"attributes\":{},\"id\":\"9202\",\"type\":\"UnionRenderers\"},{\"attributes\":{\"callback\":null,\"data\":{\"x\":{\"__ndarray__\":\"AAAAAAAAAADezpCYtzMUQN7OkJi3MyRATTbZZJNNLkDezpCYtzM0QJYCtX6lQDlATTbZZJNNPkACtX6lQK1BQN7OkJi3M0RAuuiiiy66RkCWArV+pUBJQHEcx3Ecx0tATTbZZJNNTkAUqPUrBWpQQAK1fqVArVFA8MEHH3zwUkDezpCYtzNUQMzbGRLzdlVAuuiiiy66VkCo9SsFav1XQJYCtX6lQFlAgw8++OCDWkBxHMdxHMdbQF8pUOtXCl1ATTbZZJNNXkA7Q2LezpBfQBSo9SsFamBAiy666KILYUACtX6lQK1hQHk7Q2LeTmJA8MEHH3zwYkBnSMzbGZJjQN7OkJi3M2RAVVVVVVXVZEDM2xkS83ZlQENi3s6QGGZAuuiiiy66ZkAxb2dIzFtnQKj1KwVq/WdAH3zwwQefaECWArV+pUBpQAyJeTtD4mlAgw8++OCDakD6lQK1fiVrQHEcx3Ecx2tA6KKLLrpobEBfKVDrVwptQNavFKj1q21ATTbZZJNNbkDEvJ0hMe9uQDtDYt7OkG9A2WSTTTYZcEAUqPUrBWpwQFDrVwrUunBAiy666KILcUDHcRzHcVxxQAK1fqVArXFAPvjggw/+cUB5O0Ni3k5yQLV+pUCtn3JA8MEHH3zwckAsBWr9SkFzQGdIzNsZknNAo4suuujic0DezpCYtzN0QBkS83aGhHRAVVVVVVXVdECQmLczJCZ1QMzbGRLzdnVABx988MHHdUBDYt7OkBh2QH6lQK1faXZAuuiiiy66dkD1KwVq/Qp3QDFvZ0jMW3dAbLLJJpusd0Co9SsFav13QOM4juM4TnhAH3zwwQefeEBav1Kg1u94QJYCtX6lQHlA0UUXXXSReUAMiXk7Q+J5QEjM2xkSM3pAgw8++OCDekC/UqDWr9R6QPqVArV+JXtANtlkk012e0BxHMdxHMd7QK1fKVDrF3xA6KKLLrpofEAk5u0Mibl8QF8pUOtXCn1Am2yyySZbfUDWrxSo9at9QBLzdobE/H1ATTbZZJNNfkCIeTtDYp5+QMS8nSEx735AAAAAAABAf0A=\",\"dtype\":\"float64\",\"shape\":[100]},\"y\":{\"__ndarray__\":\"AAAAAAAAJEC9jSWDwGBqvWXKSYbnOKa7QbXyhtbcXLsmAKWX0JOYOrZbi+fMQA26grQt42lqhrmITnsiTVsVuVyqPabnj9k4vl9Toh3qqbgyr62vJmpjuGtQ6TKRjA+4Bedty7eLAjiwcnzdSzCPtynD2UfRX5U3ZY5oGZrXhTfEPHtg5Ug+t7MkYa9HIuM2eEqXZpbq3LbCm2whknW8tn8nCq4+dpm2uA0kXnuAc7Y4NqkfDIA2tvzVhzG5vyQ2Jk5gFDsOFzanPeynpnritaxVjFCVkM01wuGaOg6zxzUql9xjTW/rtagMPzj0YsE1EoMOm0G5yLUZX8kDgBzLtaNGPsDlDvw1iWTa3gxBE7aoJ2J3Xrf2tbJ7NOL4ugS2tJk5Ptgt9rUUngiLLdrUtTNHrMqA7dO14K6wa4kcXbWhsx6z+mloNb3gNi1zrFa1YKuqk2uDa7Vo6Sqn78KJNQ0rlEs7kUU1rrxoNthoUDXGeVWQGVYetRjf1lkVigs1AJZ8bCnRuLTWWsi6xKKxtJ8bzh0uz/m0z4Ze85gB+bSAgQkoqolNNPBS/0pkCZa02/0JHJ/xgLTLzPHgupeetI0HMp22Hq405BCmA0girrTubMx3QQ7OtJjD+W3uoLg0DGcI6xFO2jRyHN178i7UtEBP9NUbJ+e03bRIAtwG6zRGzKp7tYfzNKeeoMV+6v+0qLGeM+nuAbXGfNIwE4/TNPUb9UGmB3m0WY9qMPVfqDSYfPgmeN1otMLe1+BDam408vtk6pweI7Q8/ZxUWcwytPHbNVuCRc0zTpCivJjfCrR8D3AcNY8jtN6KJaAWXEO04hD5LNLPMLQruUrWRIkAtOI3U+QzGsazlOhiwB3zfjP4kE/y5aLRs0a+eEJH4KuzZxaztMMB37MfR6zz5pS7s19uNiti3toz+ahb2sBYyjOYMFqGCOaqs3nhQngaSKuzJ1z3TMooorMSpM0Nvj6Xsy0154T3CJQzsLfW+k2SlTNcL/PfXDVvs1ji39d3Gnyz6Bo4X9C6gbOLioGx4Q6ds4lstHLID6qzq5UB22GjqLM=\",\"dtype\":\"float64\",\"shape\":[100]}},\"selected\":{\"id\":\"8259\",\"type\":\"Selection\"},\"selection_policy\":{\"id\":\"8260\",\"type\":\"UnionRenderers\"}},\"id\":\"8232\",\"type\":\"ColumnDataSource\"},{\"attributes\":{\"source\":{\"id\":\"8232\",\"type\":\"ColumnDataSource\"}},\"id\":\"8236\",\"type\":\"CDSView\"},{\"attributes\":{},\"id\":\"8284\",\"type\":\"WheelZoomTool\"},{\"attributes\":{},\"id\":\"8283\",\"type\":\"PanTool\"},{\"attributes\":{\"click_policy\":\"hide\",\"items\":[{\"id\":\"8231\",\"type\":\"LegendItem\"},{\"id\":\"8245\",\"type\":\"LegendItem\"},{\"id\":\"8261\",\"type\":\"LegendItem\"}]},\"id\":\"8230\",\"type\":\"Legend\"},{\"attributes\":{\"overlay\":{\"id\":\"8306\",\"type\":\"BoxAnnotation\"}},\"id\":\"8285\",\"type\":\"BoxZoomTool\"},{\"attributes\":{\"data_source\":{\"id\":\"8232\",\"type\":\"ColumnDataSource\"},\"glyph\":{\"id\":\"8233\",\"type\":\"Line\"},\"hover_glyph\":null,\"muted_glyph\":null,\"nonselection_glyph\":{\"id\":\"8234\",\"type\":\"Line\"},\"selection_glyph\":null,\"view\":{\"id\":\"8236\",\"type\":\"CDSView\"}},\"id\":\"8235\",\"type\":\"GlyphRenderer\"},{\"attributes\":{},\"id\":\"8650\",\"type\":\"Selection\"},{\"attributes\":{},\"id\":\"8259\",\"type\":\"Selection\"},{\"attributes\":{},\"id\":\"9201\",\"type\":\"Selection\"},{\"attributes\":{\"line_alpha\":0.1,\"line_color\":\"#1f77b4\",\"line_width\":2,\"x\":{\"field\":\"x\"},\"y\":{\"field\":\"y\"}},\"id\":\"8821\",\"type\":\"Line\"},{\"attributes\":{},\"id\":\"8847\",\"type\":\"UnionRenderers\"},{\"attributes\":{},\"id\":\"8648\",\"type\":\"UnionRenderers\"},{\"attributes\":{\"label\":{\"value\":\"inside_H\"},\"renderers\":[{\"id\":\"8249\",\"type\":\"GlyphRenderer\"}]},\"id\":\"8261\",\"type\":\"LegendItem\"},{\"attributes\":{\"below\":[{\"id\":\"8783\",\"type\":\"LinearAxis\"}],\"center\":[{\"id\":\"8787\",\"type\":\"Grid\"},{\"id\":\"8792\",\"type\":\"Grid\"},{\"id\":\"8817\",\"type\":\"Legend\"}],\"left\":[{\"id\":\"8788\",\"type\":\"LinearAxis\"}],\"plot_height\":350,\"plot_width\":450,\"renderers\":[{\"id\":\"8809\",\"type\":\"GlyphRenderer\"},{\"id\":\"8822\",\"type\":\"GlyphRenderer\"},{\"id\":\"8836\",\"type\":\"GlyphRenderer\"}],\"title\":{\"id\":\"8773\",\"type\":\"Title\"},\"toolbar\":{\"id\":\"8799\",\"type\":\"Toolbar\"},\"x_range\":{\"id\":\"8775\",\"type\":\"DataRange1d\"},\"x_scale\":{\"id\":\"8779\",\"type\":\"LinearScale\"},\"y_range\":{\"id\":\"8777\",\"type\":\"DataRange1d\"},\"y_scale\":{\"id\":\"8781\",\"type\":\"LinearScale\"}},\"id\":\"8772\",\"subtype\":\"Figure\",\"type\":\"Plot\"},{\"attributes\":{},\"id\":\"8287\",\"type\":\"ResetTool\"},{\"attributes\":{},\"id\":\"8286\",\"type\":\"SaveTool\"}],\"root_ids\":[\"9275\"]},\"title\":\"Bokeh Application\",\"version\":\"1.4.0\"}};\n",
       "  var render_items = [{\"docid\":\"e50ce634-cb99-4b9b-a461-7d2507c30d2d\",\"roots\":{\"9275\":\"69863dba-23f7-450a-86d0-af0d8cffcfac\"}}];\n",
       "  root.Bokeh.embed.embed_items_notebook(docs_json, render_items);\n",
       "\n",
       "  }\n",
       "  if (root.Bokeh !== undefined) {\n",
       "    embed_document(root);\n",
       "  } else {\n",
       "    var attempts = 0;\n",
       "    var timer = setInterval(function(root) {\n",
       "      if (root.Bokeh !== undefined) {\n",
       "        clearInterval(timer);\n",
       "        embed_document(root);\n",
       "      } else {\n",
       "        attempts++;\n",
       "        if (attempts > 100) {\n",
       "          clearInterval(timer);\n",
       "          console.log(\"Bokeh: ERROR: Unable to run BokehJS code because BokehJS library is missing\");\n",
       "        }\n",
       "      }\n",
       "    }, 10, root)\n",
       "  }\n",
       "})(window);"
      ],
      "application/vnd.bokehjs_exec.v0+json": ""
     },
     "metadata": {
      "application/vnd.bokehjs_exec.v0+json": {
       "id": "9275"
      }
     },
     "output_type": "display_data"
    }
   ],
   "source": [
    "bokeh.io.show(row(p3,p_w_atp, p_no_atp))"
   ]
  },
  {
   "cell_type": "markdown",
   "metadata": {},
   "source": [
    "Cool. What's going on with the second plot. How come it looks like atp isn't being consumed?? Fix those params?? Next do temperature sensitivity."
   ]
  },
  {
   "cell_type": "code",
   "execution_count": 52,
   "metadata": {},
   "outputs": [
    {
     "name": "stdout",
     "output_type": "stream",
     "text": [
      "CPython 3.7.7\n",
      "IPython 7.13.0\n",
      "\n",
      "numpy 1.18.1\n",
      "bokeh 1.4.0\n",
      "jupyterlab 1.2.6\n",
      "scipy 1.4.1\n",
      "biocrnpyler 0.2.1\n",
      "bioscrape 1.0.0\n",
      "colorcet 2.0.2\n",
      "subsbml unknown\n"
     ]
    }
   ],
   "source": [
    "#watermark\n",
    "%reload_ext watermark\n",
    "%watermark -v -p numpy,bokeh,jupyterlab,scipy,biocrnpyler,bioscrape,colorcet,subsbml\n",
    "  "
   ]
  }
 ],
 "metadata": {
  "kernelspec": {
   "display_name": "Python 3",
   "language": "python",
   "name": "python3"
  },
  "language_info": {
   "codemirror_mode": {
    "name": "ipython",
    "version": 3
   },
   "file_extension": ".py",
   "mimetype": "text/x-python",
   "name": "python",
   "nbconvert_exporter": "python",
   "pygments_lexer": "ipython3",
   "version": "3.7.7"
  }
 },
 "nbformat": 4,
 "nbformat_minor": 4
}
