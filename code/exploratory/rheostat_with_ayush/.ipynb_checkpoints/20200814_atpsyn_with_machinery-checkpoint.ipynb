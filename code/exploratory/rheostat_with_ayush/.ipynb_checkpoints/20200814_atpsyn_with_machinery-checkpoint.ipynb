{
 "cells": [
  {
   "cell_type": "markdown",
   "metadata": {},
   "source": [
    "# Combine Sub-SBML models with TXTL Machinery\n",
    "---"
   ]
  },
  {
   "cell_type": "markdown",
   "metadata": {},
   "source": [
    "Do this so you can incorporate temperature control <br>\n",
    "2020.08.14"
   ]
  },
  {
   "cell_type": "code",
   "execution_count": 1,
   "metadata": {},
   "outputs": [
    {
     "data": {
      "text/html": [
       "\n",
       "    <div class=\"bk-root\">\n",
       "        <a href=\"https://bokeh.org\" target=\"_blank\" class=\"bk-logo bk-logo-small bk-logo-notebook\"></a>\n",
       "        <span id=\"1001\">Loading BokehJS ...</span>\n",
       "    </div>"
      ]
     },
     "metadata": {},
     "output_type": "display_data"
    },
    {
     "data": {
      "application/javascript": [
       "\n",
       "(function(root) {\n",
       "  function now() {\n",
       "    return new Date();\n",
       "  }\n",
       "\n",
       "  var force = true;\n",
       "\n",
       "  if (typeof root._bokeh_onload_callbacks === \"undefined\" || force === true) {\n",
       "    root._bokeh_onload_callbacks = [];\n",
       "    root._bokeh_is_loading = undefined;\n",
       "  }\n",
       "\n",
       "  var JS_MIME_TYPE = 'application/javascript';\n",
       "  var HTML_MIME_TYPE = 'text/html';\n",
       "  var EXEC_MIME_TYPE = 'application/vnd.bokehjs_exec.v0+json';\n",
       "  var CLASS_NAME = 'output_bokeh rendered_html';\n",
       "\n",
       "  /**\n",
       "   * Render data to the DOM node\n",
       "   */\n",
       "  function render(props, node) {\n",
       "    var script = document.createElement(\"script\");\n",
       "    node.appendChild(script);\n",
       "  }\n",
       "\n",
       "  /**\n",
       "   * Handle when an output is cleared or removed\n",
       "   */\n",
       "  function handleClearOutput(event, handle) {\n",
       "    var cell = handle.cell;\n",
       "\n",
       "    var id = cell.output_area._bokeh_element_id;\n",
       "    var server_id = cell.output_area._bokeh_server_id;\n",
       "    // Clean up Bokeh references\n",
       "    if (id != null && id in Bokeh.index) {\n",
       "      Bokeh.index[id].model.document.clear();\n",
       "      delete Bokeh.index[id];\n",
       "    }\n",
       "\n",
       "    if (server_id !== undefined) {\n",
       "      // Clean up Bokeh references\n",
       "      var cmd = \"from bokeh.io.state import curstate; print(curstate().uuid_to_server['\" + server_id + \"'].get_sessions()[0].document.roots[0]._id)\";\n",
       "      cell.notebook.kernel.execute(cmd, {\n",
       "        iopub: {\n",
       "          output: function(msg) {\n",
       "            var id = msg.content.text.trim();\n",
       "            if (id in Bokeh.index) {\n",
       "              Bokeh.index[id].model.document.clear();\n",
       "              delete Bokeh.index[id];\n",
       "            }\n",
       "          }\n",
       "        }\n",
       "      });\n",
       "      // Destroy server and session\n",
       "      var cmd = \"import bokeh.io.notebook as ion; ion.destroy_server('\" + server_id + \"')\";\n",
       "      cell.notebook.kernel.execute(cmd);\n",
       "    }\n",
       "  }\n",
       "\n",
       "  /**\n",
       "   * Handle when a new output is added\n",
       "   */\n",
       "  function handleAddOutput(event, handle) {\n",
       "    var output_area = handle.output_area;\n",
       "    var output = handle.output;\n",
       "\n",
       "    // limit handleAddOutput to display_data with EXEC_MIME_TYPE content only\n",
       "    if ((output.output_type != \"display_data\") || (!output.data.hasOwnProperty(EXEC_MIME_TYPE))) {\n",
       "      return\n",
       "    }\n",
       "\n",
       "    var toinsert = output_area.element.find(\".\" + CLASS_NAME.split(' ')[0]);\n",
       "\n",
       "    if (output.metadata[EXEC_MIME_TYPE][\"id\"] !== undefined) {\n",
       "      toinsert[toinsert.length - 1].firstChild.textContent = output.data[JS_MIME_TYPE];\n",
       "      // store reference to embed id on output_area\n",
       "      output_area._bokeh_element_id = output.metadata[EXEC_MIME_TYPE][\"id\"];\n",
       "    }\n",
       "    if (output.metadata[EXEC_MIME_TYPE][\"server_id\"] !== undefined) {\n",
       "      var bk_div = document.createElement(\"div\");\n",
       "      bk_div.innerHTML = output.data[HTML_MIME_TYPE];\n",
       "      var script_attrs = bk_div.children[0].attributes;\n",
       "      for (var i = 0; i < script_attrs.length; i++) {\n",
       "        toinsert[toinsert.length - 1].firstChild.setAttribute(script_attrs[i].name, script_attrs[i].value);\n",
       "      }\n",
       "      // store reference to server id on output_area\n",
       "      output_area._bokeh_server_id = output.metadata[EXEC_MIME_TYPE][\"server_id\"];\n",
       "    }\n",
       "  }\n",
       "\n",
       "  function register_renderer(events, OutputArea) {\n",
       "\n",
       "    function append_mime(data, metadata, element) {\n",
       "      // create a DOM node to render to\n",
       "      var toinsert = this.create_output_subarea(\n",
       "        metadata,\n",
       "        CLASS_NAME,\n",
       "        EXEC_MIME_TYPE\n",
       "      );\n",
       "      this.keyboard_manager.register_events(toinsert);\n",
       "      // Render to node\n",
       "      var props = {data: data, metadata: metadata[EXEC_MIME_TYPE]};\n",
       "      render(props, toinsert[toinsert.length - 1]);\n",
       "      element.append(toinsert);\n",
       "      return toinsert\n",
       "    }\n",
       "\n",
       "    /* Handle when an output is cleared or removed */\n",
       "    events.on('clear_output.CodeCell', handleClearOutput);\n",
       "    events.on('delete.Cell', handleClearOutput);\n",
       "\n",
       "    /* Handle when a new output is added */\n",
       "    events.on('output_added.OutputArea', handleAddOutput);\n",
       "\n",
       "    /**\n",
       "     * Register the mime type and append_mime function with output_area\n",
       "     */\n",
       "    OutputArea.prototype.register_mime_type(EXEC_MIME_TYPE, append_mime, {\n",
       "      /* Is output safe? */\n",
       "      safe: true,\n",
       "      /* Index of renderer in `output_area.display_order` */\n",
       "      index: 0\n",
       "    });\n",
       "  }\n",
       "\n",
       "  // register the mime type if in Jupyter Notebook environment and previously unregistered\n",
       "  if (root.Jupyter !== undefined) {\n",
       "    var events = require('base/js/events');\n",
       "    var OutputArea = require('notebook/js/outputarea').OutputArea;\n",
       "\n",
       "    if (OutputArea.prototype.mime_types().indexOf(EXEC_MIME_TYPE) == -1) {\n",
       "      register_renderer(events, OutputArea);\n",
       "    }\n",
       "  }\n",
       "\n",
       "  \n",
       "  if (typeof (root._bokeh_timeout) === \"undefined\" || force === true) {\n",
       "    root._bokeh_timeout = Date.now() + 5000;\n",
       "    root._bokeh_failed_load = false;\n",
       "  }\n",
       "\n",
       "  var NB_LOAD_WARNING = {'data': {'text/html':\n",
       "     \"<div style='background-color: #fdd'>\\n\"+\n",
       "     \"<p>\\n\"+\n",
       "     \"BokehJS does not appear to have successfully loaded. If loading BokehJS from CDN, this \\n\"+\n",
       "     \"may be due to a slow or bad network connection. Possible fixes:\\n\"+\n",
       "     \"</p>\\n\"+\n",
       "     \"<ul>\\n\"+\n",
       "     \"<li>re-rerun `output_notebook()` to attempt to load from CDN again, or</li>\\n\"+\n",
       "     \"<li>use INLINE resources instead, as so:</li>\\n\"+\n",
       "     \"</ul>\\n\"+\n",
       "     \"<code>\\n\"+\n",
       "     \"from bokeh.resources import INLINE\\n\"+\n",
       "     \"output_notebook(resources=INLINE)\\n\"+\n",
       "     \"</code>\\n\"+\n",
       "     \"</div>\"}};\n",
       "\n",
       "  function display_loaded() {\n",
       "    var el = document.getElementById(\"1001\");\n",
       "    if (el != null) {\n",
       "      el.textContent = \"BokehJS is loading...\";\n",
       "    }\n",
       "    if (root.Bokeh !== undefined) {\n",
       "      if (el != null) {\n",
       "        el.textContent = \"BokehJS \" + root.Bokeh.version + \" successfully loaded.\";\n",
       "      }\n",
       "    } else if (Date.now() < root._bokeh_timeout) {\n",
       "      setTimeout(display_loaded, 100)\n",
       "    }\n",
       "  }\n",
       "\n",
       "\n",
       "  function run_callbacks() {\n",
       "    try {\n",
       "      root._bokeh_onload_callbacks.forEach(function(callback) {\n",
       "        if (callback != null)\n",
       "          callback();\n",
       "      });\n",
       "    } finally {\n",
       "      delete root._bokeh_onload_callbacks\n",
       "    }\n",
       "    console.debug(\"Bokeh: all callbacks have finished\");\n",
       "  }\n",
       "\n",
       "  function load_libs(css_urls, js_urls, callback) {\n",
       "    if (css_urls == null) css_urls = [];\n",
       "    if (js_urls == null) js_urls = [];\n",
       "\n",
       "    root._bokeh_onload_callbacks.push(callback);\n",
       "    if (root._bokeh_is_loading > 0) {\n",
       "      console.debug(\"Bokeh: BokehJS is being loaded, scheduling callback at\", now());\n",
       "      return null;\n",
       "    }\n",
       "    if (js_urls == null || js_urls.length === 0) {\n",
       "      run_callbacks();\n",
       "      return null;\n",
       "    }\n",
       "    console.debug(\"Bokeh: BokehJS not loaded, scheduling load and callback at\", now());\n",
       "    root._bokeh_is_loading = css_urls.length + js_urls.length;\n",
       "\n",
       "    function on_load() {\n",
       "      root._bokeh_is_loading--;\n",
       "      if (root._bokeh_is_loading === 0) {\n",
       "        console.debug(\"Bokeh: all BokehJS libraries/stylesheets loaded\");\n",
       "        run_callbacks()\n",
       "      }\n",
       "    }\n",
       "\n",
       "    function on_error() {\n",
       "      console.error(\"failed to load \" + url);\n",
       "    }\n",
       "\n",
       "    for (var i = 0; i < css_urls.length; i++) {\n",
       "      var url = css_urls[i];\n",
       "      const element = document.createElement(\"link\");\n",
       "      element.onload = on_load;\n",
       "      element.onerror = on_error;\n",
       "      element.rel = \"stylesheet\";\n",
       "      element.type = \"text/css\";\n",
       "      element.href = url;\n",
       "      console.debug(\"Bokeh: injecting link tag for BokehJS stylesheet: \", url);\n",
       "      document.body.appendChild(element);\n",
       "    }\n",
       "\n",
       "    for (var i = 0; i < js_urls.length; i++) {\n",
       "      var url = js_urls[i];\n",
       "      var element = document.createElement('script');\n",
       "      element.onload = on_load;\n",
       "      element.onerror = on_error;\n",
       "      element.async = false;\n",
       "      element.src = url;\n",
       "      console.debug(\"Bokeh: injecting script tag for BokehJS library: \", url);\n",
       "      document.head.appendChild(element);\n",
       "    }\n",
       "  };var element = document.getElementById(\"1001\");\n",
       "  if (element == null) {\n",
       "    console.error(\"Bokeh: ERROR: autoload.js configured with elementid '1001' but no matching script tag was found. \")\n",
       "    return false;\n",
       "  }\n",
       "\n",
       "  function inject_raw_css(css) {\n",
       "    const element = document.createElement(\"style\");\n",
       "    element.appendChild(document.createTextNode(css));\n",
       "    document.body.appendChild(element);\n",
       "  }\n",
       "\n",
       "  \n",
       "  var js_urls = [\"https://cdn.pydata.org/bokeh/release/bokeh-1.4.0.min.js\", \"https://cdn.pydata.org/bokeh/release/bokeh-widgets-1.4.0.min.js\", \"https://cdn.pydata.org/bokeh/release/bokeh-tables-1.4.0.min.js\", \"https://cdn.pydata.org/bokeh/release/bokeh-gl-1.4.0.min.js\"];\n",
       "  var css_urls = [];\n",
       "  \n",
       "\n",
       "  var inline_js = [\n",
       "    function(Bokeh) {\n",
       "      Bokeh.set_log_level(\"info\");\n",
       "    },\n",
       "    function(Bokeh) {\n",
       "    \n",
       "    \n",
       "    }\n",
       "  ];\n",
       "\n",
       "  function run_inline_js() {\n",
       "    \n",
       "    if (root.Bokeh !== undefined || force === true) {\n",
       "      \n",
       "    for (var i = 0; i < inline_js.length; i++) {\n",
       "      inline_js[i].call(root, root.Bokeh);\n",
       "    }\n",
       "    if (force === true) {\n",
       "        display_loaded();\n",
       "      }} else if (Date.now() < root._bokeh_timeout) {\n",
       "      setTimeout(run_inline_js, 100);\n",
       "    } else if (!root._bokeh_failed_load) {\n",
       "      console.log(\"Bokeh: BokehJS failed to load within specified timeout.\");\n",
       "      root._bokeh_failed_load = true;\n",
       "    } else if (force !== true) {\n",
       "      var cell = $(document.getElementById(\"1001\")).parents('.cell').data().cell;\n",
       "      cell.output_area.append_execute_result(NB_LOAD_WARNING)\n",
       "    }\n",
       "\n",
       "  }\n",
       "\n",
       "  if (root._bokeh_is_loading === 0) {\n",
       "    console.debug(\"Bokeh: BokehJS loaded, going straight to plotting\");\n",
       "    run_inline_js();\n",
       "  } else {\n",
       "    load_libs(css_urls, js_urls, function() {\n",
       "      console.debug(\"Bokeh: BokehJS plotting callback run at\", now());\n",
       "      run_inline_js();\n",
       "    });\n",
       "  }\n",
       "}(window));"
      ],
      "application/vnd.bokehjs_load.v0+json": "\n(function(root) {\n  function now() {\n    return new Date();\n  }\n\n  var force = true;\n\n  if (typeof root._bokeh_onload_callbacks === \"undefined\" || force === true) {\n    root._bokeh_onload_callbacks = [];\n    root._bokeh_is_loading = undefined;\n  }\n\n  \n\n  \n  if (typeof (root._bokeh_timeout) === \"undefined\" || force === true) {\n    root._bokeh_timeout = Date.now() + 5000;\n    root._bokeh_failed_load = false;\n  }\n\n  var NB_LOAD_WARNING = {'data': {'text/html':\n     \"<div style='background-color: #fdd'>\\n\"+\n     \"<p>\\n\"+\n     \"BokehJS does not appear to have successfully loaded. If loading BokehJS from CDN, this \\n\"+\n     \"may be due to a slow or bad network connection. Possible fixes:\\n\"+\n     \"</p>\\n\"+\n     \"<ul>\\n\"+\n     \"<li>re-rerun `output_notebook()` to attempt to load from CDN again, or</li>\\n\"+\n     \"<li>use INLINE resources instead, as so:</li>\\n\"+\n     \"</ul>\\n\"+\n     \"<code>\\n\"+\n     \"from bokeh.resources import INLINE\\n\"+\n     \"output_notebook(resources=INLINE)\\n\"+\n     \"</code>\\n\"+\n     \"</div>\"}};\n\n  function display_loaded() {\n    var el = document.getElementById(\"1001\");\n    if (el != null) {\n      el.textContent = \"BokehJS is loading...\";\n    }\n    if (root.Bokeh !== undefined) {\n      if (el != null) {\n        el.textContent = \"BokehJS \" + root.Bokeh.version + \" successfully loaded.\";\n      }\n    } else if (Date.now() < root._bokeh_timeout) {\n      setTimeout(display_loaded, 100)\n    }\n  }\n\n\n  function run_callbacks() {\n    try {\n      root._bokeh_onload_callbacks.forEach(function(callback) {\n        if (callback != null)\n          callback();\n      });\n    } finally {\n      delete root._bokeh_onload_callbacks\n    }\n    console.debug(\"Bokeh: all callbacks have finished\");\n  }\n\n  function load_libs(css_urls, js_urls, callback) {\n    if (css_urls == null) css_urls = [];\n    if (js_urls == null) js_urls = [];\n\n    root._bokeh_onload_callbacks.push(callback);\n    if (root._bokeh_is_loading > 0) {\n      console.debug(\"Bokeh: BokehJS is being loaded, scheduling callback at\", now());\n      return null;\n    }\n    if (js_urls == null || js_urls.length === 0) {\n      run_callbacks();\n      return null;\n    }\n    console.debug(\"Bokeh: BokehJS not loaded, scheduling load and callback at\", now());\n    root._bokeh_is_loading = css_urls.length + js_urls.length;\n\n    function on_load() {\n      root._bokeh_is_loading--;\n      if (root._bokeh_is_loading === 0) {\n        console.debug(\"Bokeh: all BokehJS libraries/stylesheets loaded\");\n        run_callbacks()\n      }\n    }\n\n    function on_error() {\n      console.error(\"failed to load \" + url);\n    }\n\n    for (var i = 0; i < css_urls.length; i++) {\n      var url = css_urls[i];\n      const element = document.createElement(\"link\");\n      element.onload = on_load;\n      element.onerror = on_error;\n      element.rel = \"stylesheet\";\n      element.type = \"text/css\";\n      element.href = url;\n      console.debug(\"Bokeh: injecting link tag for BokehJS stylesheet: \", url);\n      document.body.appendChild(element);\n    }\n\n    for (var i = 0; i < js_urls.length; i++) {\n      var url = js_urls[i];\n      var element = document.createElement('script');\n      element.onload = on_load;\n      element.onerror = on_error;\n      element.async = false;\n      element.src = url;\n      console.debug(\"Bokeh: injecting script tag for BokehJS library: \", url);\n      document.head.appendChild(element);\n    }\n  };var element = document.getElementById(\"1001\");\n  if (element == null) {\n    console.error(\"Bokeh: ERROR: autoload.js configured with elementid '1001' but no matching script tag was found. \")\n    return false;\n  }\n\n  function inject_raw_css(css) {\n    const element = document.createElement(\"style\");\n    element.appendChild(document.createTextNode(css));\n    document.body.appendChild(element);\n  }\n\n  \n  var js_urls = [\"https://cdn.pydata.org/bokeh/release/bokeh-1.4.0.min.js\", \"https://cdn.pydata.org/bokeh/release/bokeh-widgets-1.4.0.min.js\", \"https://cdn.pydata.org/bokeh/release/bokeh-tables-1.4.0.min.js\", \"https://cdn.pydata.org/bokeh/release/bokeh-gl-1.4.0.min.js\"];\n  var css_urls = [];\n  \n\n  var inline_js = [\n    function(Bokeh) {\n      Bokeh.set_log_level(\"info\");\n    },\n    function(Bokeh) {\n    \n    \n    }\n  ];\n\n  function run_inline_js() {\n    \n    if (root.Bokeh !== undefined || force === true) {\n      \n    for (var i = 0; i < inline_js.length; i++) {\n      inline_js[i].call(root, root.Bokeh);\n    }\n    if (force === true) {\n        display_loaded();\n      }} else if (Date.now() < root._bokeh_timeout) {\n      setTimeout(run_inline_js, 100);\n    } else if (!root._bokeh_failed_load) {\n      console.log(\"Bokeh: BokehJS failed to load within specified timeout.\");\n      root._bokeh_failed_load = true;\n    } else if (force !== true) {\n      var cell = $(document.getElementById(\"1001\")).parents('.cell').data().cell;\n      cell.output_area.append_execute_result(NB_LOAD_WARNING)\n    }\n\n  }\n\n  if (root._bokeh_is_loading === 0) {\n    console.debug(\"Bokeh: BokehJS loaded, going straight to plotting\");\n    run_inline_js();\n  } else {\n    load_libs(css_urls, js_urls, function() {\n      console.debug(\"Bokeh: BokehJS plotting callback run at\", now());\n      run_inline_js();\n    });\n  }\n}(window));"
     },
     "metadata": {},
     "output_type": "display_data"
    }
   ],
   "source": [
    "from biocrnpyler import *\n",
    "#from biocrnpyler.chemical_reaction_network import Species, Reaction, ComplexSpecies, Multimer\n",
    "import numpy as np\n",
    "#import pylab as plt \n",
    "#%matplotlib inline\n",
    "\n",
    "import bokeh.io\n",
    "import bokeh.plotting\n",
    "from bokeh.layouts import row\n",
    "bokeh.io.output_notebook()\n",
    "\n",
    "import colorcet\n",
    "\n",
    "from subsbml import createNewSubsystem, createSubsystem"
   ]
  },
  {
   "cell_type": "code",
   "execution_count": 2,
   "metadata": {},
   "outputs": [],
   "source": [
    "palette = colorcet.b_glasbey_category10\n",
    "palette.remove( '#d62628')"
   ]
  },
  {
   "cell_type": "markdown",
   "metadata": {},
   "source": [
    "## Combine atp synthase with txtl machinery \n",
    "---"
   ]
  },
  {
   "cell_type": "markdown",
   "metadata": {},
   "source": [
    "Load in subsystem models"
   ]
  },
  {
   "cell_type": "code",
   "execution_count": 3,
   "metadata": {},
   "outputs": [],
   "source": [
    "# atp synthase models\n",
    "ss1_atpsyn_txtl = createSubsystem('atpsynthase_machinery_txtl.xml', subsystemName = 'atpsyn_txtl')\n",
    "ss2_atpsyn_mi = createSubsystem('atpsynthase_membrane_integration.xml', subsystemName = 'atpsyn_mi')\n",
    "ss3_atpsynthesis = createSubsystem('atp_synthesis_through_atpsynthase.xml', subsystemName = 'atpsynthesis')\n",
    "ss4_atp_use = createSubsystem('atp_use.xml', subsystemName = 'atp_use')"
   ]
  },
  {
   "cell_type": "markdown",
   "metadata": {},
   "source": [
    "Combine all models"
   ]
  },
  {
   "cell_type": "code",
   "execution_count": 4,
   "metadata": {},
   "outputs": [],
   "source": [
    "atp_subsystem_w_use = ss1_atpsyn_txtl + ss2_atpsyn_mi + ss3_atpsynthesis + ss4_atp_use"
   ]
  },
  {
   "cell_type": "markdown",
   "metadata": {},
   "source": [
    "Indicate initial conditions and timepoints, simulate with bioscrape, and get species IDs that you may want to plot"
   ]
  },
  {
   "cell_type": "code",
   "execution_count": 5,
   "metadata": {},
   "outputs": [
    {
     "name": "stderr",
     "output_type": "stream",
     "text": [
      "/Users/ankitaroychoudhury/opt/anaconda3/lib/python3.7/site-packages/scipy/integrate/odepack.py:248: ODEintWarning: Excess work done on this call (perhaps wrong Dfun type). Run with full_output = 1 to get quantitative information.\n",
      "  warnings.warn(warning_msg, ODEintWarning)\n",
      "odeint failed with mxstep=500..."
     ]
    }
   ],
   "source": [
    "# SIMULATE WITH ATP SYNTHASE\n",
    "# Initial conditions\n",
    "spec_list_10 = ['dna_atpsyn', 'proton_outside_H', 'metabolite_atp',\n",
    "                 'protein_RNAP_machinery', \n",
    "                'protein_Ribo_machinery', 'protein_RNAse_machinery']\n",
    "for i,spec in enumerate(spec_list_10):\n",
    "    atp_subsystem_w_use.setSpeciesAmount(spec,10)\n",
    "\n",
    "\n",
    "# timepoints and get WITH ATP SYNTHASE\n",
    "timepoints = np.linspace(0,200,100)\n",
    "results1, _ = atp_subsystem_w_use.simulateWithBioscrape(timepoints, sbml_warnings = False)\n",
    "\n",
    "# Get species IDs\n",
    "ATP_id = atp_subsystem_w_use.getSpeciesByName('metabolite_atp').getId()\n",
    "ADP_id = atp_subsystem_w_use.getSpeciesByName('metabolite_adp').getId()\n",
    "\n",
    "outside_H_id = atp_subsystem_w_use.getSpeciesByName('proton_outside_H').getId()\n",
    "inside_H_id = atp_subsystem_w_use.getSpeciesByName('proton_inside_H').getId()\n",
    "atp_synthase_b_protein_id = atp_subsystem_w_use.getSpeciesByName('protein_atpsyn_b').getId()\n",
    "atp_synthase_f_protein_id = atp_subsystem_w_use.getSpeciesByName('protein_atpsyn').getId()"
   ]
  },
  {
   "cell_type": "markdown",
   "metadata": {},
   "source": [
    "Perform simulations with the system with **only** ATP use, no atp synthase"
   ]
  },
  {
   "cell_type": "code",
   "execution_count": 6,
   "metadata": {},
   "outputs": [],
   "source": [
    "# SIMULATE WITHOUT ATP SYNTHASE\n",
    "#ss4_atp_use.setSpeciesAmount('proton_outside_H',10)\n",
    "ss4_atp_use.setSpeciesAmount('metabolite_atp',10)\n",
    "\n",
    "results2, _ = ss4_atp_use.simulateWithBioscrape(timepoints, sbml_warnings = False)\n",
    "\n",
    "# GET ATP species ID\n",
    "ATP_id2 = ss4_atp_use.getSpeciesByName('metabolite_atp').getId()"
   ]
  },
  {
   "cell_type": "markdown",
   "metadata": {},
   "source": [
    "Plot!"
   ]
  },
  {
   "cell_type": "code",
   "execution_count": 7,
   "metadata": {},
   "outputs": [
    {
     "data": {
      "text/html": [
       "\n",
       "\n",
       "\n",
       "\n",
       "\n",
       "\n",
       "  <div class=\"bk-root\" id=\"59b5183a-db70-4b46-a780-db55085119df\" data-root-id=\"1205\"></div>\n"
      ]
     },
     "metadata": {},
     "output_type": "display_data"
    },
    {
     "data": {
      "application/javascript": [
       "(function(root) {\n",
       "  function embed_document(root) {\n",
       "    \n",
       "  var docs_json = {\"a2e4cdce-bb50-47f0-ba02-9dec95f1a0d5\":{\"roots\":{\"references\":[{\"attributes\":{\"children\":[{\"id\":\"1002\",\"subtype\":\"Figure\",\"type\":\"Plot\"},{\"id\":\"1097\",\"subtype\":\"Figure\",\"type\":\"Plot\"}]},\"id\":\"1205\",\"type\":\"Row\"},{\"attributes\":{\"callback\":null,\"data\":{\"x\":{\"__ndarray__\":\"AAAAAAAAAAAXqhByaWNCPxeqEHJpY1I/I/8YKx6VWz8XqhByaWNiP57UlM5D/GY/I/8YKx6Vaz/VlM5D/BZwPxeqEHJpY3I/W79SoNavdD+e1JTOQ/x2P+Hp1vywSHk/I/8YKx6Vez9mFFtZi+F9P9WUzkP8FoA/dp/v2jI9gT8XqhByaWOCP7q0MQmgiYM/W79SoNavhD/9yXM3DdaFP57UlM5D/IY/QN+1ZXoiiD/h6db8sEiJP4P095Pnboo/I/8YKx6Viz/FCTrCVLuMP2YUW1mL4Y0/Bx988MEHjz/VlM5D/BaQPyUaX48XqpA/dp/v2jI9kT/HJIAmTtCRPxeqEHJpY5I/aS+hvYT2kj+6tDEJoImTPws6wlS7HJQ/W79SoNavlD+sROPr8UKVP/3JczcN1pU/Tk8Egyhplj+e1JTOQ/yWP+9ZJRpfj5c/QN+1ZXoimD+QZEaxlbWYP+Hp1vywSJk/Mm9nSMzbmT+D9PeT526aP9N5iN8CAps/I/8YKx6Vmz90hKl2OSicP8UJOsJUu5w/FY/KDXBOnT9mFFtZi+GdP7eZ66SmdJ4/Bx988MEHnz9ZpAw83ZqfP9WUzkP8FqA/fdeW6YlgoD8lGl+PF6qgP85cJzWl86A/dp/v2jI9oT8f4reAwIahP8ckgCZO0KE/cGdIzNsZoj8XqhByaWOiP8Ds2Bf3rKI/aS+hvYT2oj8RcmljEkCjP7q0MQmgiaM/Yvf5ri3Toz8LOsJUuxykP7J8ivpIZqQ/W79SoNavpD8DAhtGZPmkP6xE4+vxQqU/VIerkX+MpT/9yXM3DdalP6UMPN2aH6Y/Tk8Egyhppj/1kcwotrKmP57UlM5D/KY/RhdddNFFpz/vWSUaX4+nP5ec7b/s2Kc/QN+1ZXoiqD/pIX4LCGyoP5BkRrGVtag/OacOVyP/qD/h6db8sEipP4osn6I+kqk/Mm9nSMzbqT/bsS/uWSWqP4P095Pnbqo/LDfAOXW4qj/TeYjfAgKrP3y8UIWQS6s/I/8YKx6Vqz/MQeHQq96rP3SEqXY5KKw/HcdxHMdxrD8=\",\"dtype\":\"float64\",\"shape\":[100]},\"y\":{\"__ndarray__\":\"AAAAAAAAAAA0hlp89aTUPnSIpQbq+AM/sty4VeREID8/AtfHBJ0yP6bBp0JMjUE/0rkPQYFMTT+wqclYhHtWPxddb5+WOWA/2wki8y9ZZj/KMUJh0qttP2nQ/9nwHnM/xXJlVKAMeD9MH2k10qJ9P+LJuUo38oE/skgkaMVphT96jdygwjiJP2vWbMCOX40/wHV2ZyLvkD9FM9ssYlqTP7iDpcpc8ZU/wE9PS9KzmD9WF4nCb6GbPyQmeRXSuZ4/BOZBNET+oD9cljwfi7SiPx8Fyq16f6Q/Jwl4tstepj/Kmky8M1KoP1IlEJRlWao/NtQg8xF0rD+w0F/u56GuP45SYrNKcbA/0W3lteOasT/ZGntHlc2yP9ndwJY1CbQ/QZlH2JpNtT/Ffi9im5q2PzzoGcQN8Lc/rSW428hNuT+aOFnmo7O6P0nz2I92Ibw/L1My/xiXvT8ftgDhYxS/P54zFjiYTMA/DM57PqwSwT9KnlA5W9zBP9Ds3q2SqcI/d/e9ckB6wz9L6PqwUk7EPxIb0uS3JcU/bVwJ3l4Axj+ek/q/Nt7GP4shWAEvv8c/Yz6xazejyD95EcMaQIrJPyw6oHs5dMo/s5ivSxRhyz+iA6qXwVDMP/je3bkyQ80/J3PDWVk4zj860OFpJzDPP2loTZNHFdA/UZVkisGT0D+SLB4AexPRP/UCCX1tlNE/+6adq5IW0j8tSIxX5JnSP8RH8GxcHtM/JbON9/Sj0z+XBw0iqCrUP5ZeQTVwstQ/IdNul0c71T825ZLLKMXVPyjhr3AOUNY/YSIbQfPb1j+00s8R0mjXP4uSxtGl9tc/sJ9QiWmF2D9w5HZZGBXZP2MnXXutpdk/B5KoPyQ32j9JGfINeMnaP2mDXGSkXNs/3XHk1qTw2z8qMz8OdYXcP1jpq8cQG90/uv7a1HOx3T/iPNEcmkjeP+Y16Zh/4N4/wpXvVCB53z9yHJw3PAngP7YkIgxCVuA/hxIbyZ+j4D+coSmYU/HgPzWBVqtbP+E/ktHjPLaN4T94JRSPYdzhP4rY+OtbK+I/XxtbpaN64j8=\",\"dtype\":\"float64\",\"shape\":[100]}},\"selected\":{\"id\":\"1224\",\"type\":\"Selection\"},\"selection_policy\":{\"id\":\"1223\",\"type\":\"UnionRenderers\"}},\"id\":\"1079\",\"type\":\"ColumnDataSource\"},{\"attributes\":{\"active_drag\":\"auto\",\"active_inspect\":\"auto\",\"active_multi\":null,\"active_scroll\":\"auto\",\"active_tap\":\"auto\",\"tools\":[{\"id\":\"1023\",\"type\":\"PanTool\"},{\"id\":\"1024\",\"type\":\"WheelZoomTool\"},{\"id\":\"1025\",\"type\":\"BoxZoomTool\"},{\"id\":\"1026\",\"type\":\"SaveTool\"},{\"id\":\"1027\",\"type\":\"ResetTool\"},{\"id\":\"1028\",\"type\":\"HelpTool\"}]},\"id\":\"1029\",\"type\":\"Toolbar\"},{\"attributes\":{},\"id\":\"1076\",\"type\":\"UnionRenderers\"},{\"attributes\":{},\"id\":\"1023\",\"type\":\"PanTool\"},{\"attributes\":{},\"id\":\"1077\",\"type\":\"Selection\"},{\"attributes\":{\"overlay\":{\"id\":\"1046\",\"type\":\"BoxAnnotation\"}},\"id\":\"1025\",\"type\":\"BoxZoomTool\"},{\"attributes\":{},\"id\":\"1026\",\"type\":\"SaveTool\"},{\"attributes\":{\"line_color\":\"#9367bc\",\"line_width\":2,\"x\":{\"field\":\"x\"},\"y\":{\"field\":\"y\"}},\"id\":\"1080\",\"type\":\"Line\"},{\"attributes\":{},\"id\":\"1027\",\"type\":\"ResetTool\"},{\"attributes\":{\"line_alpha\":0.1,\"line_color\":\"#1f77b4\",\"line_width\":2,\"x\":{\"field\":\"x\"},\"y\":{\"field\":\"y\"}},\"id\":\"1081\",\"type\":\"Line\"},{\"attributes\":{},\"id\":\"1028\",\"type\":\"HelpTool\"},{\"attributes\":{\"data_source\":{\"id\":\"1079\",\"type\":\"ColumnDataSource\"},\"glyph\":{\"id\":\"1080\",\"type\":\"Line\"},\"hover_glyph\":null,\"muted_glyph\":null,\"nonselection_glyph\":{\"id\":\"1081\",\"type\":\"Line\"},\"selection_glyph\":null,\"view\":{\"id\":\"1083\",\"type\":\"CDSView\"}},\"id\":\"1082\",\"type\":\"GlyphRenderer\"},{\"attributes\":{\"below\":[{\"id\":\"1108\",\"type\":\"LinearAxis\"}],\"center\":[{\"id\":\"1112\",\"type\":\"Grid\"},{\"id\":\"1117\",\"type\":\"Grid\"},{\"id\":\"1142\",\"type\":\"Legend\"}],\"left\":[{\"id\":\"1113\",\"type\":\"LinearAxis\"}],\"plot_height\":350,\"plot_width\":450,\"renderers\":[{\"id\":\"1134\",\"type\":\"GlyphRenderer\"}],\"title\":{\"id\":\"1098\",\"type\":\"Title\"},\"toolbar\":{\"id\":\"1124\",\"type\":\"Toolbar\"},\"x_range\":{\"id\":\"1100\",\"type\":\"DataRange1d\"},\"x_scale\":{\"id\":\"1104\",\"type\":\"LinearScale\"},\"y_range\":{\"id\":\"1102\",\"type\":\"DataRange1d\"},\"y_scale\":{\"id\":\"1106\",\"type\":\"LinearScale\"}},\"id\":\"1097\",\"subtype\":\"Figure\",\"type\":\"Plot\"},{\"attributes\":{\"source\":{\"id\":\"1079\",\"type\":\"ColumnDataSource\"}},\"id\":\"1083\",\"type\":\"CDSView\"},{\"attributes\":{\"data_source\":{\"id\":\"1036\",\"type\":\"ColumnDataSource\"},\"glyph\":{\"id\":\"1037\",\"type\":\"Line\"},\"hover_glyph\":null,\"muted_glyph\":null,\"nonselection_glyph\":{\"id\":\"1038\",\"type\":\"Line\"},\"selection_glyph\":null,\"view\":{\"id\":\"1040\",\"type\":\"CDSView\"}},\"id\":\"1039\",\"type\":\"GlyphRenderer\"},{\"attributes\":{},\"id\":\"1094\",\"type\":\"UnionRenderers\"},{\"attributes\":{\"line_alpha\":0.1,\"line_color\":\"#1f77b4\",\"line_width\":2,\"x\":{\"field\":\"x\"},\"y\":{\"field\":\"y\"}},\"id\":\"1038\",\"type\":\"Line\"},{\"attributes\":{\"label\":{\"value\":\"bound atp synthase\"},\"renderers\":[{\"id\":\"1082\",\"type\":\"GlyphRenderer\"}]},\"id\":\"1096\",\"type\":\"LegendItem\"},{\"attributes\":{},\"id\":\"1095\",\"type\":\"Selection\"},{\"attributes\":{\"line_color\":\"#1f77b3\",\"line_width\":2,\"x\":{\"field\":\"x\"},\"y\":{\"field\":\"y\"}},\"id\":\"1037\",\"type\":\"Line\"},{\"attributes\":{\"text\":\"only ATP Use\"},\"id\":\"1098\",\"type\":\"Title\"},{\"attributes\":{\"callback\":null},\"id\":\"1100\",\"type\":\"DataRange1d\"},{\"attributes\":{\"source\":{\"id\":\"1036\",\"type\":\"ColumnDataSource\"}},\"id\":\"1040\",\"type\":\"CDSView\"},{\"attributes\":{},\"id\":\"1042\",\"type\":\"BasicTickFormatter\"},{\"attributes\":{\"click_policy\":\"hide\",\"items\":[{\"id\":\"1048\",\"type\":\"LegendItem\"},{\"id\":\"1062\",\"type\":\"LegendItem\"},{\"id\":\"1078\",\"type\":\"LegendItem\"},{\"id\":\"1096\",\"type\":\"LegendItem\"}],\"location\":\"bottom_right\"},\"id\":\"1047\",\"type\":\"Legend\"},{\"attributes\":{\"callback\":null},\"id\":\"1102\",\"type\":\"DataRange1d\"},{\"attributes\":{},\"id\":\"1044\",\"type\":\"BasicTickFormatter\"},{\"attributes\":{\"label\":{\"value\":\"outside_H\"},\"renderers\":[{\"id\":\"1052\",\"type\":\"GlyphRenderer\"}]},\"id\":\"1062\",\"type\":\"LegendItem\"},{\"attributes\":{\"below\":[{\"id\":\"1013\",\"type\":\"LinearAxis\"}],\"center\":[{\"id\":\"1017\",\"type\":\"Grid\"},{\"id\":\"1022\",\"type\":\"Grid\"},{\"id\":\"1047\",\"type\":\"Legend\"}],\"left\":[{\"id\":\"1018\",\"type\":\"LinearAxis\"}],\"plot_height\":350,\"plot_width\":450,\"renderers\":[{\"id\":\"1039\",\"type\":\"GlyphRenderer\"},{\"id\":\"1052\",\"type\":\"GlyphRenderer\"},{\"id\":\"1066\",\"type\":\"GlyphRenderer\"},{\"id\":\"1082\",\"type\":\"GlyphRenderer\"}],\"title\":{\"id\":\"1003\",\"type\":\"Title\"},\"toolbar\":{\"id\":\"1029\",\"type\":\"Toolbar\"},\"x_range\":{\"id\":\"1005\",\"type\":\"DataRange1d\"},\"x_scale\":{\"id\":\"1009\",\"type\":\"LinearScale\"},\"y_range\":{\"id\":\"1007\",\"type\":\"DataRange1d\"},\"y_scale\":{\"id\":\"1011\",\"type\":\"LinearScale\"}},\"id\":\"1002\",\"subtype\":\"Figure\",\"type\":\"Plot\"},{\"attributes\":{},\"id\":\"1104\",\"type\":\"LinearScale\"},{\"attributes\":{},\"id\":\"1106\",\"type\":\"LinearScale\"},{\"attributes\":{\"label\":{\"value\":\"atp\"},\"renderers\":[{\"id\":\"1039\",\"type\":\"GlyphRenderer\"}]},\"id\":\"1048\",\"type\":\"LegendItem\"},{\"attributes\":{\"callback\":null,\"data\":{\"x\":{\"__ndarray__\":\"AAAAAAAAAAAXqhByaWNCPxeqEHJpY1I/I/8YKx6VWz8XqhByaWNiP57UlM5D/GY/I/8YKx6Vaz/VlM5D/BZwPxeqEHJpY3I/W79SoNavdD+e1JTOQ/x2P+Hp1vywSHk/I/8YKx6Vez9mFFtZi+F9P9WUzkP8FoA/dp/v2jI9gT8XqhByaWOCP7q0MQmgiYM/W79SoNavhD/9yXM3DdaFP57UlM5D/IY/QN+1ZXoiiD/h6db8sEiJP4P095Pnboo/I/8YKx6Viz/FCTrCVLuMP2YUW1mL4Y0/Bx988MEHjz/VlM5D/BaQPyUaX48XqpA/dp/v2jI9kT/HJIAmTtCRPxeqEHJpY5I/aS+hvYT2kj+6tDEJoImTPws6wlS7HJQ/W79SoNavlD+sROPr8UKVP/3JczcN1pU/Tk8Egyhplj+e1JTOQ/yWP+9ZJRpfj5c/QN+1ZXoimD+QZEaxlbWYP+Hp1vywSJk/Mm9nSMzbmT+D9PeT526aP9N5iN8CAps/I/8YKx6Vmz90hKl2OSicP8UJOsJUu5w/FY/KDXBOnT9mFFtZi+GdP7eZ66SmdJ4/Bx988MEHnz9ZpAw83ZqfP9WUzkP8FqA/fdeW6YlgoD8lGl+PF6qgP85cJzWl86A/dp/v2jI9oT8f4reAwIahP8ckgCZO0KE/cGdIzNsZoj8XqhByaWOiP8Ds2Bf3rKI/aS+hvYT2oj8RcmljEkCjP7q0MQmgiaM/Yvf5ri3Toz8LOsJUuxykP7J8ivpIZqQ/W79SoNavpD8DAhtGZPmkP6xE4+vxQqU/VIerkX+MpT/9yXM3DdalP6UMPN2aH6Y/Tk8Egyhppj/1kcwotrKmP57UlM5D/KY/RhdddNFFpz/vWSUaX4+nP5ec7b/s2Kc/QN+1ZXoiqD/pIX4LCGyoP5BkRrGVtag/OacOVyP/qD/h6db8sEipP4osn6I+kqk/Mm9nSMzbqT/bsS/uWSWqP4P095Pnbqo/LDfAOXW4qj/TeYjfAgKrP3y8UIWQS6s/I/8YKx6Vqz/MQeHQq96rP3SEqXY5KKw/HcdxHMdxrD8=\",\"dtype\":\"float64\",\"shape\":[100]},\"y\":{\"__ndarray__\":\"AAAAAAAAJEDSUoSWvB4iQJQbwEAetwFAhMY/VAk8dT9iuIyP1/8XPgsNAoUrjKm9Lc5ZogGZ9b08IynM0IMBvqF2kG0ZjhU+AO9uD4n7KL7LnJ5GZNbwPbRue2fXVjG+TnYR5DhCAb6fLBhEj24ePnAU5iw9Aws+N1dtge2ZFL6ZAcduZA4lvqVuQHq7PKc9mFbXq6QXjD0xnKAjucGAvYTzIChNooq94czKls7x4b0i+jj5lULQPZh/r92eo+m9ABtoX0K/172IuT8ajcyDvagLa+uJL0I9kHemyg0voT07Y8DhlrmxPSxLUZyvxYu9XEysbfnRwr1MrWjNmVjivQArq2GFVHC90Jr0Xa3MAr6kd9RA1BkBPvQ4BnO6COA9i07hVo5SJr7RYMn5DikGvoh/R+lXUiK+w8cfDJxTCT6ApDAAdDKdvbLMCowN/RQ+h8F60NJjKj4+yNIo3zkAProLRwoGhSQ+5QDzJg87Lr5V7e7PqSo/vmAG18gVcc+9sYWw8VXBNT7UPF4GsYL0Pb2Q9lEGSMs9PipvY2cRxL3w/ruAxJHAPV/5Dl/V/SG+AGh6ukYzCr6QtG4BSWzTPaLQu/HRu/S9T8dZOIi95D1IWvEQZ6V8vZAYEHm4vm49KE8hK/ZzcT2LzsmjJk5hPWiinFOiyTg9In9MCJMuUj0YCVo/zBpHPVDQS2KMMEk9cjBAaq7haz1nrtd/Gr96PSvcU0h7nnc9XTp/P2l+gL2RbLhZHT90PSDaDbScwFg9KAw7y8Whjj1knIo3DCGTva+QZtoNwJs9aB7/1v+wmb0ANiqGYoWqvdCBVPpc5tk9kOxo/Ar+/L2Q/MygYp4cPnr/9pzINTu+ROOFFfW1Hj43mddFm3XAPXjMvFgErmO9hMvumZ7xI71IRlgBH1M2vTB+06HCXje9d51Jr3C3Zr2I6g3nRUdhPUgvw+YYjzM92tEvi4RjYL0/U20/XMZXPcebfpDswiG9SoeeqpTqNb1o1agLhO8rPQB3lnXorAG9qrBg/Mqvdj0AAHjVLABlPeAUsie9qmA9wFv3QGpxpj0=\",\"dtype\":\"float64\",\"shape\":[100]}},\"selected\":{\"id\":\"1077\",\"type\":\"Selection\"},\"selection_policy\":{\"id\":\"1076\",\"type\":\"UnionRenderers\"}},\"id\":\"1049\",\"type\":\"ColumnDataSource\"},{\"attributes\":{\"axis_label\":\"time (hrs)\",\"formatter\":{\"id\":\"1137\",\"type\":\"BasicTickFormatter\"},\"ticker\":{\"id\":\"1109\",\"type\":\"BasicTicker\"}},\"id\":\"1108\",\"type\":\"LinearAxis\"},{\"attributes\":{\"dimension\":1,\"ticker\":{\"id\":\"1114\",\"type\":\"BasicTicker\"}},\"id\":\"1117\",\"type\":\"Grid\"},{\"attributes\":{\"text\":\"with ATP Synthase, ATP Use\"},\"id\":\"1003\",\"type\":\"Title\"},{\"attributes\":{\"line_color\":\"#ff7e0e\",\"line_width\":2,\"x\":{\"field\":\"x\"},\"y\":{\"field\":\"y\"}},\"id\":\"1050\",\"type\":\"Line\"},{\"attributes\":{},\"id\":\"1109\",\"type\":\"BasicTicker\"},{\"attributes\":{\"callback\":null,\"data\":{\"x\":{\"__ndarray__\":\"AAAAAAAAAAAXqhByaWNCPxeqEHJpY1I/I/8YKx6VWz8XqhByaWNiP57UlM5D/GY/I/8YKx6Vaz/VlM5D/BZwPxeqEHJpY3I/W79SoNavdD+e1JTOQ/x2P+Hp1vywSHk/I/8YKx6Vez9mFFtZi+F9P9WUzkP8FoA/dp/v2jI9gT8XqhByaWOCP7q0MQmgiYM/W79SoNavhD/9yXM3DdaFP57UlM5D/IY/QN+1ZXoiiD/h6db8sEiJP4P095Pnboo/I/8YKx6Viz/FCTrCVLuMP2YUW1mL4Y0/Bx988MEHjz/VlM5D/BaQPyUaX48XqpA/dp/v2jI9kT/HJIAmTtCRPxeqEHJpY5I/aS+hvYT2kj+6tDEJoImTPws6wlS7HJQ/W79SoNavlD+sROPr8UKVP/3JczcN1pU/Tk8Egyhplj+e1JTOQ/yWP+9ZJRpfj5c/QN+1ZXoimD+QZEaxlbWYP+Hp1vywSJk/Mm9nSMzbmT+D9PeT526aP9N5iN8CAps/I/8YKx6Vmz90hKl2OSicP8UJOsJUu5w/FY/KDXBOnT9mFFtZi+GdP7eZ66SmdJ4/Bx988MEHnz9ZpAw83ZqfP9WUzkP8FqA/fdeW6YlgoD8lGl+PF6qgP85cJzWl86A/dp/v2jI9oT8f4reAwIahP8ckgCZO0KE/cGdIzNsZoj8XqhByaWOiP8Ds2Bf3rKI/aS+hvYT2oj8RcmljEkCjP7q0MQmgiaM/Yvf5ri3Toz8LOsJUuxykP7J8ivpIZqQ/W79SoNavpD8DAhtGZPmkP6xE4+vxQqU/VIerkX+MpT/9yXM3DdalP6UMPN2aH6Y/Tk8Egyhppj/1kcwotrKmP57UlM5D/KY/RhdddNFFpz/vWSUaX4+nP5ec7b/s2Kc/QN+1ZXoiqD/pIX4LCGyoP5BkRrGVtag/OacOVyP/qD/h6db8sEipP4osn6I+kqk/Mm9nSMzbqT/bsS/uWSWqP4P095Pnbqo/LDfAOXW4qj/TeYjfAgKrP3y8UIWQS6s/I/8YKx6Vqz/MQeHQq96rP3SEqXY5KKw/HcdxHMdxrD8=\",\"dtype\":\"float64\",\"shape\":[100]},\"y\":{\"__ndarray__\":\"AAAAAAAAAABW1LqXNhTuP2Hyn99wJB9AGHjVflj9I0AjAPT///8jQJoZAAAAACRALrMCAAAAJEABYQQAAAAkQAA59f///yNAl/sYAAAAJEBC5f3///8jQL6tIgAAACRAnVAEAAAAJEDIyPD///8jQEE/+f///yNAB00KAAAAJEB2DhUAAAAkQNTo/////yNAC/n/////I0BBBAAAAAAkQLkGAAAAACRALh8BAAAAJED8ff////8jQEuaAQAAACRADL4AAAAAJEAGBQAAAAAkQMn//////yNA4e7/////I0Ce3P////8jQAMHAAAAACRAWksAAAAAJECbJQEAAAAkQB0CAAAAACRAPrMEAAAAJECeufv///8jQIj//v///yNAoVIWAAAAJEBWigUAAAAkQGpSEgAAACRAKqv5////I0CqDgAAAAAkQIqB9f///yNAP5zl////I0Ca8fv///8jQAt76////yNAHzseAAAAJEBlVT4AAAAkQNd9AAAAACRAZn3U////I0C8b/3///8jQPKS/////yNAWFAAAAAAJEDLvf////8jQOf9EQAAACRA5YwGAAAAJECxZP////8jQI6XAgAAACRAO7T+////I0CoAwAAAAAkQCb+/////yNA4/3/////I0D8/v////8jQN///////yNAgP//////I0C0//////8jQKz//////yNAU/7/////I0C5/P////8jQBz9/////yNAMAQAAAAAJECJ/f////8jQEv//////yNAafj/////I0CiCQAAAAAkQDHy/////yNA6gwAAAAAJECXGgAAAAAkQN4w/////yNA058DAAAAJEDgsPH///8jQKJrNgAAACRAF6Xw////I0A9vv////8jQE8BAAAAACRAKAAAAAAAJEBBAAAAAAAkQEIAAAAAACRAfwEAAAAAJED//v////8jQOz//////yNAGQEAAAAAJEBV//////8jQCUAAAAAACRAQAAAAAAAJED4//////8jQBgAAAAAACRAPv3/////I0DE/v////8jQAn//////yNAo+n/////I0A=\",\"dtype\":\"float64\",\"shape\":[100]}},\"selected\":{\"id\":\"1095\",\"type\":\"Selection\"},\"selection_policy\":{\"id\":\"1094\",\"type\":\"UnionRenderers\"}},\"id\":\"1063\",\"type\":\"ColumnDataSource\"},{\"attributes\":{\"axis_label\":\"time (hrs)\",\"formatter\":{\"id\":\"1042\",\"type\":\"BasicTickFormatter\"},\"ticker\":{\"id\":\"1014\",\"type\":\"BasicTicker\"}},\"id\":\"1013\",\"type\":\"LinearAxis\"},{\"attributes\":{\"ticker\":{\"id\":\"1109\",\"type\":\"BasicTicker\"}},\"id\":\"1112\",\"type\":\"Grid\"},{\"attributes\":{},\"id\":\"1011\",\"type\":\"LinearScale\"},{\"attributes\":{\"line_alpha\":0.1,\"line_color\":\"#1f77b4\",\"line_width\":2,\"x\":{\"field\":\"x\"},\"y\":{\"field\":\"y\"}},\"id\":\"1051\",\"type\":\"Line\"},{\"attributes\":{},\"id\":\"1114\",\"type\":\"BasicTicker\"},{\"attributes\":{\"data_source\":{\"id\":\"1049\",\"type\":\"ColumnDataSource\"},\"glyph\":{\"id\":\"1050\",\"type\":\"Line\"},\"hover_glyph\":null,\"muted_glyph\":null,\"nonselection_glyph\":{\"id\":\"1051\",\"type\":\"Line\"},\"selection_glyph\":null,\"view\":{\"id\":\"1053\",\"type\":\"CDSView\"}},\"id\":\"1052\",\"type\":\"GlyphRenderer\"},{\"attributes\":{\"dimension\":1,\"ticker\":{\"id\":\"1019\",\"type\":\"BasicTicker\"}},\"id\":\"1022\",\"type\":\"Grid\"},{\"attributes\":{\"axis_label\":\"concentration (nM)\",\"formatter\":{\"id\":\"1139\",\"type\":\"BasicTickFormatter\"},\"ticker\":{\"id\":\"1114\",\"type\":\"BasicTicker\"}},\"id\":\"1113\",\"type\":\"LinearAxis\"},{\"attributes\":{\"line_color\":\"#1f77b3\",\"line_width\":2,\"x\":{\"field\":\"x\"},\"y\":{\"field\":\"y\"}},\"id\":\"1132\",\"type\":\"Line\"},{\"attributes\":{\"source\":{\"id\":\"1049\",\"type\":\"ColumnDataSource\"}},\"id\":\"1053\",\"type\":\"CDSView\"},{\"attributes\":{\"callback\":null,\"data\":{\"x\":{\"__ndarray__\":\"AAAAAAAAAAAXqhByaWNCPxeqEHJpY1I/I/8YKx6VWz8XqhByaWNiP57UlM5D/GY/I/8YKx6Vaz/VlM5D/BZwPxeqEHJpY3I/W79SoNavdD+e1JTOQ/x2P+Hp1vywSHk/I/8YKx6Vez9mFFtZi+F9P9WUzkP8FoA/dp/v2jI9gT8XqhByaWOCP7q0MQmgiYM/W79SoNavhD/9yXM3DdaFP57UlM5D/IY/QN+1ZXoiiD/h6db8sEiJP4P095Pnboo/I/8YKx6Viz/FCTrCVLuMP2YUW1mL4Y0/Bx988MEHjz/VlM5D/BaQPyUaX48XqpA/dp/v2jI9kT/HJIAmTtCRPxeqEHJpY5I/aS+hvYT2kj+6tDEJoImTPws6wlS7HJQ/W79SoNavlD+sROPr8UKVP/3JczcN1pU/Tk8Egyhplj+e1JTOQ/yWP+9ZJRpfj5c/QN+1ZXoimD+QZEaxlbWYP+Hp1vywSJk/Mm9nSMzbmT+D9PeT526aP9N5iN8CAps/I/8YKx6Vmz90hKl2OSicP8UJOsJUu5w/FY/KDXBOnT9mFFtZi+GdP7eZ66SmdJ4/Bx988MEHnz9ZpAw83ZqfP9WUzkP8FqA/fdeW6YlgoD8lGl+PF6qgP85cJzWl86A/dp/v2jI9oT8f4reAwIahP8ckgCZO0KE/cGdIzNsZoj8XqhByaWOiP8Ds2Bf3rKI/aS+hvYT2oj8RcmljEkCjP7q0MQmgiaM/Yvf5ri3Toz8LOsJUuxykP7J8ivpIZqQ/W79SoNavpD8DAhtGZPmkP6xE4+vxQqU/VIerkX+MpT/9yXM3DdalP6UMPN2aH6Y/Tk8Egyhppj/1kcwotrKmP57UlM5D/KY/RhdddNFFpz/vWSUaX4+nP5ec7b/s2Kc/QN+1ZXoiqD/pIX4LCGyoP5BkRrGVtag/OacOVyP/qD/h6db8sEipP4osn6I+kqk/Mm9nSMzbqT/bsS/uWSWqP4P095Pnbqo/LDfAOXW4qj/TeYjfAgKrP3y8UIWQS6s/I/8YKx6Vqz/MQeHQq96rP3SEqXY5KKw/HcdxHMdxrD8=\",\"dtype\":\"float64\",\"shape\":[100]},\"y\":{\"__ndarray__\":\"AAAAAAAAJECbJdxgCuU6P2/7RgnanFE+4Lno+JBF6r0BZEK+BH20vas7VJ62Squ9rF5HgMc2m71hgXXU9whlvR9aE7C1z129fbE7t3uNUb1nI5D5Bi01vbW7+tS6ChO9sK9/wIl6Er2powSsWOoRvaOXiZcnWhG9nYsOg/bJEL2Wf5NuxTkQvSDnMLQoUw+9Fc86i8YyDr0It0RiZBINvfueTjkC8gu974ZYEKDRCr3jbmLnPbEJvddWbL7bkAi9yz52lXlwB72+JoBsF1AGvbMOikO1LwW9pvaTGlMPBL2a3p3x8O4CvY7Gp8iOzgG9ga6xnyyuAL3qLHftlBv/vND8ipvQ2vy8uMyeSQya+ryfnLL3R1n4vIdsxqWDGPa8bTzaU7/X87xVDO4B+5bxvHm4A2BtrO68R1grvOQq6rwW+FIYXKnlvOWXenTTJ+G8Zm9EoZVM2bwDr5NZhEnQvIK6i0fMGb28nKrzg49NjLxTZVlUmHmLvAsgvyShpYq8xNok9anRibx8lYrFsv2IvDRQ8JW7KYi86wpWZsRVh7yjxbs2zYGGvFuAIQfWrYW8EzuH197ZhLzK9eyn5wWEvIKwUnjwMYO8Omu4SPldgrzyJR4ZAoqBvKrgg+kKtoC8xDbTcyfEf7wzrJ4UORx+vKMharVKdHy8E5c1VlzMeryCDAH3bSR5vPKBzJd/fHe8YfeXOJHUdbzRbGPZoix0vEDiLnq0hHK8r1f6GsbccLw/mot3r2luvB6FIrnSGWu8/m+5+vXJZ7zdWlA8GXpkvLtF5308KmG8NWH8fr+0W7zzNioCBhVVvGQZsAqZ6ky8wYkXIkxWP7zqgju7mF0TvF/2ewi37AS87v0vPBjdBLx9BeRvec0EvA0NmKPavQS8nBRM1zuuBLwrHAALnZ4EvLojtD7+jgS8Sytocl9/BLzaMhymwG8EvGk60NkhYAS8+EGEDYNQBLyISThB5EAEvBdR7HRFMQS8pligqKYhBLw1YFTcBxIEvMZnCBBpAgS8VW+8Q8ryA7zkdnB3K+MDvHN+JKuM0wO8A4bY3u3DA7w=\",\"dtype\":\"float64\",\"shape\":[100]}},\"selected\":{\"id\":\"1227\",\"type\":\"Selection\"},\"selection_policy\":{\"id\":\"1226\",\"type\":\"UnionRenderers\"}},\"id\":\"1131\",\"type\":\"ColumnDataSource\"},{\"attributes\":{},\"id\":\"1060\",\"type\":\"UnionRenderers\"},{\"attributes\":{\"data_source\":{\"id\":\"1131\",\"type\":\"ColumnDataSource\"},\"glyph\":{\"id\":\"1132\",\"type\":\"Line\"},\"hover_glyph\":null,\"muted_glyph\":null,\"nonselection_glyph\":{\"id\":\"1133\",\"type\":\"Line\"},\"selection_glyph\":null,\"view\":{\"id\":\"1135\",\"type\":\"CDSView\"}},\"id\":\"1134\",\"type\":\"GlyphRenderer\"},{\"attributes\":{},\"id\":\"1014\",\"type\":\"BasicTicker\"},{\"attributes\":{},\"id\":\"1061\",\"type\":\"Selection\"},{\"attributes\":{\"ticker\":{\"id\":\"1014\",\"type\":\"BasicTicker\"}},\"id\":\"1017\",\"type\":\"Grid\"},{\"attributes\":{\"callback\":null},\"id\":\"1005\",\"type\":\"DataRange1d\"},{\"attributes\":{\"line_alpha\":0.1,\"line_color\":\"#1f77b4\",\"line_width\":2,\"x\":{\"field\":\"x\"},\"y\":{\"field\":\"y\"}},\"id\":\"1133\",\"type\":\"Line\"},{\"attributes\":{\"line_color\":\"#2ba02b\",\"line_width\":2,\"x\":{\"field\":\"x\"},\"y\":{\"field\":\"y\"}},\"id\":\"1064\",\"type\":\"Line\"},{\"attributes\":{},\"id\":\"1019\",\"type\":\"BasicTicker\"},{\"attributes\":{},\"id\":\"1118\",\"type\":\"PanTool\"},{\"attributes\":{\"bottom_units\":\"screen\",\"fill_alpha\":{\"value\":0.5},\"fill_color\":{\"value\":\"lightgrey\"},\"left_units\":\"screen\",\"level\":\"overlay\",\"line_alpha\":{\"value\":1.0},\"line_color\":{\"value\":\"black\"},\"line_dash\":[4,4],\"line_width\":{\"value\":2},\"render_mode\":\"css\",\"right_units\":\"screen\",\"top_units\":\"screen\"},\"id\":\"1046\",\"type\":\"BoxAnnotation\"},{\"attributes\":{\"axis_label\":\"concentration (nM)\",\"formatter\":{\"id\":\"1044\",\"type\":\"BasicTickFormatter\"},\"ticker\":{\"id\":\"1019\",\"type\":\"BasicTicker\"}},\"id\":\"1018\",\"type\":\"LinearAxis\"},{\"attributes\":{\"label\":{\"value\":\"inside_H\"},\"renderers\":[{\"id\":\"1066\",\"type\":\"GlyphRenderer\"}]},\"id\":\"1078\",\"type\":\"LegendItem\"},{\"attributes\":{},\"id\":\"1119\",\"type\":\"WheelZoomTool\"},{\"attributes\":{\"line_alpha\":0.1,\"line_color\":\"#1f77b4\",\"line_width\":2,\"x\":{\"field\":\"x\"},\"y\":{\"field\":\"y\"}},\"id\":\"1065\",\"type\":\"Line\"},{\"attributes\":{},\"id\":\"1122\",\"type\":\"ResetTool\"},{\"attributes\":{\"overlay\":{\"id\":\"1141\",\"type\":\"BoxAnnotation\"}},\"id\":\"1120\",\"type\":\"BoxZoomTool\"},{\"attributes\":{\"data_source\":{\"id\":\"1063\",\"type\":\"ColumnDataSource\"},\"glyph\":{\"id\":\"1064\",\"type\":\"Line\"},\"hover_glyph\":null,\"muted_glyph\":null,\"nonselection_glyph\":{\"id\":\"1065\",\"type\":\"Line\"},\"selection_glyph\":null,\"view\":{\"id\":\"1067\",\"type\":\"CDSView\"}},\"id\":\"1066\",\"type\":\"GlyphRenderer\"},{\"attributes\":{},\"id\":\"1121\",\"type\":\"SaveTool\"},{\"attributes\":{\"source\":{\"id\":\"1063\",\"type\":\"ColumnDataSource\"}},\"id\":\"1067\",\"type\":\"CDSView\"},{\"attributes\":{\"callback\":null,\"data\":{\"x\":{\"__ndarray__\":\"AAAAAAAAAAAXqhByaWNCPxeqEHJpY1I/I/8YKx6VWz8XqhByaWNiP57UlM5D/GY/I/8YKx6Vaz/VlM5D/BZwPxeqEHJpY3I/W79SoNavdD+e1JTOQ/x2P+Hp1vywSHk/I/8YKx6Vez9mFFtZi+F9P9WUzkP8FoA/dp/v2jI9gT8XqhByaWOCP7q0MQmgiYM/W79SoNavhD/9yXM3DdaFP57UlM5D/IY/QN+1ZXoiiD/h6db8sEiJP4P095Pnboo/I/8YKx6Viz/FCTrCVLuMP2YUW1mL4Y0/Bx988MEHjz/VlM5D/BaQPyUaX48XqpA/dp/v2jI9kT/HJIAmTtCRPxeqEHJpY5I/aS+hvYT2kj+6tDEJoImTPws6wlS7HJQ/W79SoNavlD+sROPr8UKVP/3JczcN1pU/Tk8Egyhplj+e1JTOQ/yWP+9ZJRpfj5c/QN+1ZXoimD+QZEaxlbWYP+Hp1vywSJk/Mm9nSMzbmT+D9PeT526aP9N5iN8CAps/I/8YKx6Vmz90hKl2OSicP8UJOsJUu5w/FY/KDXBOnT9mFFtZi+GdP7eZ66SmdJ4/Bx988MEHnz9ZpAw83ZqfP9WUzkP8FqA/fdeW6YlgoD8lGl+PF6qgP85cJzWl86A/dp/v2jI9oT8f4reAwIahP8ckgCZO0KE/cGdIzNsZoj8XqhByaWOiP8Ds2Bf3rKI/aS+hvYT2oj8RcmljEkCjP7q0MQmgiaM/Yvf5ri3Toz8LOsJUuxykP7J8ivpIZqQ/W79SoNavpD8DAhtGZPmkP6xE4+vxQqU/VIerkX+MpT/9yXM3DdalP6UMPN2aH6Y/Tk8Egyhppj/1kcwotrKmP57UlM5D/KY/RhdddNFFpz/vWSUaX4+nP5ec7b/s2Kc/QN+1ZXoiqD/pIX4LCGyoP5BkRrGVtag/OacOVyP/qD/h6db8sEipP4osn6I+kqk/Mm9nSMzbqT/bsS/uWSWqP4P095Pnbqo/LDfAOXW4qj/TeYjfAgKrP3y8UIWQS6s/I/8YKx6Vqz/MQeHQq96rP3SEqXY5KKw/HcdxHMdxrD8=\",\"dtype\":\"float64\",\"shape\":[100]},\"y\":{\"__ndarray__\":\"AAAAAAAAJEDaCFyXjp2xP6EuIqwaDcc/+0fRrkL4cD91KwQ+ak+dPm5VbduB6h8+Dut68Boh1b2w4xu08qjTPZDwQM5NvMC9DoXxvI/eDT7Aaxr/cTMDvjDuOzuLgRU+cuxM1c3F5z0e89D3rRvzvWbPbJce/us9zMyEFti66D165z//tTYIPljIkLC12KK9RRYy4KPFYL2KZL5sL4V2veR94dnRVVy9qHShgTPEsD1XgHBhSh2jvbASZOBQQ409wLoAyrCakj0C7TMSmnEMPtGjPAyO0te9nxynWo9grD0TFOsh8R6DPWa3PDWO0qu9AKqxvKjTlz0wXs9czLmaPVJvjHkRYbc9KlI5Bxj40D3cVH7FSxPkPZZPD1Qu5vG9nSHEeYQcAj5+egRHpHnqPUhxKPXvH9k9MaGySboZ9j2cyt5mqurwvTgO5o/mdsO9vYvjglVEAb7tjjeTxjLnvTDydDN3jOG9pluSRYMq4z04Wn6JhLsmPtMgSFBLZiS+YER9+t82/b0sR1w3l6QUPpZbvrEMv/y9QuwTmMC5yD2IBdOYqMCmPfKGvMiHkwo+4M8UOZ/06D3ItopsWqauPSw53JNSEuE9HCN5oKo4x71hDJkrzjCzvWCrUv++fJc9ksHFzD8IaT3kSbrUXi4QvdSfW8uL5Cs9VhhKAE03bD2OvJ8FTzN1PUoTY0ttLmE9eNvHDEmuQr1WMudMjik3vVbsd/hITUY9MKvjvRgwTz3N9DHXoORYvbh84A8faEM96EygnswxO70kB40caC1bPY7quvOWGmO9qL/1UZ+lVD1AxwzFJiVyPRjbe529Wp294Fvdi1wdvz0IlkoCtHXdvX4bR42hKPs9bu5IxtaB+z3kzkzRL8j9PZtAZIaOZda9LMBzA7bypT2Rl2jj8iiKvfC4KWsKr4C9z7BO2mkc0z0qx9vKyKTKvWSy/LRoos+9E6m9h4Bc2D10l6aZxwK4PTD7wMoEg9+9jHEMinqqwz1mpef8nT3lPa3A4mnzmNA9/iugGvDyzT2BZ5zpNFzXPSCadKdPl4+9ERjlquz44j0=\",\"dtype\":\"float64\",\"shape\":[100]}},\"selected\":{\"id\":\"1061\",\"type\":\"Selection\"},\"selection_policy\":{\"id\":\"1060\",\"type\":\"UnionRenderers\"}},\"id\":\"1036\",\"type\":\"ColumnDataSource\"},{\"attributes\":{},\"id\":\"1123\",\"type\":\"HelpTool\"},{\"attributes\":{\"callback\":null},\"id\":\"1007\",\"type\":\"DataRange1d\"},{\"attributes\":{\"active_drag\":\"auto\",\"active_inspect\":\"auto\",\"active_multi\":null,\"active_scroll\":\"auto\",\"active_tap\":\"auto\",\"tools\":[{\"id\":\"1118\",\"type\":\"PanTool\"},{\"id\":\"1119\",\"type\":\"WheelZoomTool\"},{\"id\":\"1120\",\"type\":\"BoxZoomTool\"},{\"id\":\"1121\",\"type\":\"SaveTool\"},{\"id\":\"1122\",\"type\":\"ResetTool\"},{\"id\":\"1123\",\"type\":\"HelpTool\"}]},\"id\":\"1124\",\"type\":\"Toolbar\"},{\"attributes\":{\"source\":{\"id\":\"1131\",\"type\":\"ColumnDataSource\"}},\"id\":\"1135\",\"type\":\"CDSView\"},{\"attributes\":{},\"id\":\"1137\",\"type\":\"BasicTickFormatter\"},{\"attributes\":{\"bottom_units\":\"screen\",\"fill_alpha\":{\"value\":0.5},\"fill_color\":{\"value\":\"lightgrey\"},\"left_units\":\"screen\",\"level\":\"overlay\",\"line_alpha\":{\"value\":1.0},\"line_color\":{\"value\":\"black\"},\"line_dash\":[4,4],\"line_width\":{\"value\":2},\"render_mode\":\"css\",\"right_units\":\"screen\",\"top_units\":\"screen\"},\"id\":\"1141\",\"type\":\"BoxAnnotation\"},{\"attributes\":{\"items\":[{\"id\":\"1143\",\"type\":\"LegendItem\"}]},\"id\":\"1142\",\"type\":\"Legend\"},{\"attributes\":{},\"id\":\"1139\",\"type\":\"BasicTickFormatter\"},{\"attributes\":{\"label\":{\"value\":\"atp\"},\"renderers\":[{\"id\":\"1134\",\"type\":\"GlyphRenderer\"}]},\"id\":\"1143\",\"type\":\"LegendItem\"},{\"attributes\":{},\"id\":\"1223\",\"type\":\"UnionRenderers\"},{\"attributes\":{},\"id\":\"1224\",\"type\":\"Selection\"},{\"attributes\":{},\"id\":\"1009\",\"type\":\"LinearScale\"},{\"attributes\":{},\"id\":\"1226\",\"type\":\"UnionRenderers\"},{\"attributes\":{},\"id\":\"1227\",\"type\":\"Selection\"},{\"attributes\":{},\"id\":\"1024\",\"type\":\"WheelZoomTool\"}],\"root_ids\":[\"1205\"]},\"title\":\"Bokeh Application\",\"version\":\"1.4.0\"}};\n",
       "  var render_items = [{\"docid\":\"a2e4cdce-bb50-47f0-ba02-9dec95f1a0d5\",\"roots\":{\"1205\":\"59b5183a-db70-4b46-a780-db55085119df\"}}];\n",
       "  root.Bokeh.embed.embed_items_notebook(docs_json, render_items);\n",
       "\n",
       "  }\n",
       "  if (root.Bokeh !== undefined) {\n",
       "    embed_document(root);\n",
       "  } else {\n",
       "    var attempts = 0;\n",
       "    var timer = setInterval(function(root) {\n",
       "      if (root.Bokeh !== undefined) {\n",
       "        clearInterval(timer);\n",
       "        embed_document(root);\n",
       "      } else {\n",
       "        attempts++;\n",
       "        if (attempts > 100) {\n",
       "          clearInterval(timer);\n",
       "          console.log(\"Bokeh: ERROR: Unable to run BokehJS code because BokehJS library is missing\");\n",
       "        }\n",
       "      }\n",
       "    }, 10, root)\n",
       "  }\n",
       "})(window);"
      ],
      "application/vnd.bokehjs_exec.v0+json": ""
     },
     "metadata": {
      "application/vnd.bokehjs_exec.v0+json": {
       "id": "1205"
      }
     },
     "output_type": "display_data"
    },
    {
     "data": {
      "text/html": [
       "\n",
       "\n",
       "\n",
       "\n",
       "\n",
       "\n",
       "  <div class=\"bk-root\" id=\"dd293c72-7499-4930-8c51-853460e166b5\" data-root-id=\"1144\"></div>\n"
      ]
     },
     "metadata": {},
     "output_type": "display_data"
    },
    {
     "data": {
      "application/javascript": [
       "(function(root) {\n",
       "  function embed_document(root) {\n",
       "    \n",
       "  var docs_json = {\"462bd61c-0075-42cf-9d3b-80bf51a5ff0f\":{\"roots\":{\"references\":[{\"attributes\":{\"below\":[{\"id\":\"1155\",\"type\":\"LinearAxis\"}],\"center\":[{\"id\":\"1159\",\"type\":\"Grid\"},{\"id\":\"1164\",\"type\":\"Grid\"},{\"id\":\"1189\",\"type\":\"Legend\"}],\"left\":[{\"id\":\"1160\",\"type\":\"LinearAxis\"}],\"plot_height\":350,\"plot_width\":450,\"renderers\":[{\"id\":\"1181\",\"type\":\"GlyphRenderer\"},{\"id\":\"1194\",\"type\":\"GlyphRenderer\"}],\"title\":{\"id\":\"1145\",\"type\":\"Title\"},\"toolbar\":{\"id\":\"1171\",\"type\":\"Toolbar\"},\"x_range\":{\"id\":\"1147\",\"type\":\"DataRange1d\"},\"x_scale\":{\"id\":\"1151\",\"type\":\"LinearScale\"},\"y_range\":{\"id\":\"1149\",\"type\":\"DataRange1d\"},\"y_scale\":{\"id\":\"1153\",\"type\":\"LinearScale\"}},\"id\":\"1144\",\"subtype\":\"Figure\",\"type\":\"Plot\"},{\"attributes\":{},\"id\":\"1151\",\"type\":\"LinearScale\"},{\"attributes\":{},\"id\":\"1170\",\"type\":\"HelpTool\"},{\"attributes\":{\"line_color\":\"#1f77b3\",\"line_width\":2,\"x\":{\"field\":\"x\"},\"y\":{\"field\":\"y\"}},\"id\":\"1179\",\"type\":\"Line\"},{\"attributes\":{},\"id\":\"1153\",\"type\":\"LinearScale\"},{\"attributes\":{\"active_drag\":\"auto\",\"active_inspect\":\"auto\",\"active_multi\":null,\"active_scroll\":\"auto\",\"active_tap\":\"auto\",\"tools\":[{\"id\":\"1165\",\"type\":\"PanTool\"},{\"id\":\"1166\",\"type\":\"WheelZoomTool\"},{\"id\":\"1167\",\"type\":\"BoxZoomTool\"},{\"id\":\"1168\",\"type\":\"SaveTool\"},{\"id\":\"1169\",\"type\":\"ResetTool\"},{\"id\":\"1170\",\"type\":\"HelpTool\"}]},\"id\":\"1171\",\"type\":\"Toolbar\"},{\"attributes\":{\"axis_label\":\"time (hrs)\",\"formatter\":{\"id\":\"1184\",\"type\":\"BasicTickFormatter\"},\"ticker\":{\"id\":\"1156\",\"type\":\"BasicTicker\"}},\"id\":\"1155\",\"type\":\"LinearAxis\"},{\"attributes\":{\"source\":{\"id\":\"1178\",\"type\":\"ColumnDataSource\"}},\"id\":\"1182\",\"type\":\"CDSView\"},{\"attributes\":{\"dimension\":1,\"ticker\":{\"id\":\"1161\",\"type\":\"BasicTicker\"}},\"id\":\"1164\",\"type\":\"Grid\"},{\"attributes\":{\"bottom_units\":\"screen\",\"fill_alpha\":{\"value\":0.5},\"fill_color\":{\"value\":\"lightgrey\"},\"left_units\":\"screen\",\"level\":\"overlay\",\"line_alpha\":{\"value\":1.0},\"line_color\":{\"value\":\"black\"},\"line_dash\":[4,4],\"line_width\":{\"value\":2},\"render_mode\":\"css\",\"right_units\":\"screen\",\"top_units\":\"screen\"},\"id\":\"1188\",\"type\":\"BoxAnnotation\"},{\"attributes\":{},\"id\":\"1156\",\"type\":\"BasicTicker\"},{\"attributes\":{},\"id\":\"1186\",\"type\":\"BasicTickFormatter\"},{\"attributes\":{\"ticker\":{\"id\":\"1156\",\"type\":\"BasicTicker\"}},\"id\":\"1159\",\"type\":\"Grid\"},{\"attributes\":{},\"id\":\"1184\",\"type\":\"BasicTickFormatter\"},{\"attributes\":{},\"id\":\"1161\",\"type\":\"BasicTicker\"},{\"attributes\":{\"axis_label\":\"concentration (nM)\",\"formatter\":{\"id\":\"1186\",\"type\":\"BasicTickFormatter\"},\"ticker\":{\"id\":\"1161\",\"type\":\"BasicTicker\"}},\"id\":\"1160\",\"type\":\"LinearAxis\"},{\"attributes\":{},\"id\":\"1202\",\"type\":\"UnionRenderers\"},{\"attributes\":{\"label\":{\"value\":\"atp synthase atp\"},\"renderers\":[{\"id\":\"1181\",\"type\":\"GlyphRenderer\"}]},\"id\":\"1190\",\"type\":\"LegendItem\"},{\"attributes\":{\"line_alpha\":0.1,\"line_color\":\"#1f77b4\",\"line_width\":2,\"x\":{\"field\":\"x\"},\"y\":{\"field\":\"y\"}},\"id\":\"1180\",\"type\":\"Line\"},{\"attributes\":{\"items\":[{\"id\":\"1190\",\"type\":\"LegendItem\"},{\"id\":\"1204\",\"type\":\"LegendItem\"}]},\"id\":\"1189\",\"type\":\"Legend\"},{\"attributes\":{},\"id\":\"1391\",\"type\":\"Selection\"},{\"attributes\":{\"callback\":null,\"data\":{\"x\":{\"__ndarray__\":\"AAAAAAAAAAAXqhByaWNCPxeqEHJpY1I/I/8YKx6VWz8XqhByaWNiP57UlM5D/GY/I/8YKx6Vaz/VlM5D/BZwPxeqEHJpY3I/W79SoNavdD+e1JTOQ/x2P+Hp1vywSHk/I/8YKx6Vez9mFFtZi+F9P9WUzkP8FoA/dp/v2jI9gT8XqhByaWOCP7q0MQmgiYM/W79SoNavhD/9yXM3DdaFP57UlM5D/IY/QN+1ZXoiiD/h6db8sEiJP4P095Pnboo/I/8YKx6Viz/FCTrCVLuMP2YUW1mL4Y0/Bx988MEHjz/VlM5D/BaQPyUaX48XqpA/dp/v2jI9kT/HJIAmTtCRPxeqEHJpY5I/aS+hvYT2kj+6tDEJoImTPws6wlS7HJQ/W79SoNavlD+sROPr8UKVP/3JczcN1pU/Tk8Egyhplj+e1JTOQ/yWP+9ZJRpfj5c/QN+1ZXoimD+QZEaxlbWYP+Hp1vywSJk/Mm9nSMzbmT+D9PeT526aP9N5iN8CAps/I/8YKx6Vmz90hKl2OSicP8UJOsJUu5w/FY/KDXBOnT9mFFtZi+GdP7eZ66SmdJ4/Bx988MEHnz9ZpAw83ZqfP9WUzkP8FqA/fdeW6YlgoD8lGl+PF6qgP85cJzWl86A/dp/v2jI9oT8f4reAwIahP8ckgCZO0KE/cGdIzNsZoj8XqhByaWOiP8Ds2Bf3rKI/aS+hvYT2oj8RcmljEkCjP7q0MQmgiaM/Yvf5ri3Toz8LOsJUuxykP7J8ivpIZqQ/W79SoNavpD8DAhtGZPmkP6xE4+vxQqU/VIerkX+MpT/9yXM3DdalP6UMPN2aH6Y/Tk8Egyhppj/1kcwotrKmP57UlM5D/KY/RhdddNFFpz/vWSUaX4+nP5ec7b/s2Kc/QN+1ZXoiqD/pIX4LCGyoP5BkRrGVtag/OacOVyP/qD/h6db8sEipP4osn6I+kqk/Mm9nSMzbqT/bsS/uWSWqP4P095Pnbqo/LDfAOXW4qj/TeYjfAgKrP3y8UIWQS6s/I/8YKx6Vqz/MQeHQq96rP3SEqXY5KKw/HcdxHMdxrD8=\",\"dtype\":\"float64\",\"shape\":[100]},\"y\":{\"__ndarray__\":\"AAAAAAAAJECbJdxgCuU6P2/7RgnanFE+4Lno+JBF6r0BZEK+BH20vas7VJ62Squ9rF5HgMc2m71hgXXU9whlvR9aE7C1z129fbE7t3uNUb1nI5D5Bi01vbW7+tS6ChO9sK9/wIl6Er2powSsWOoRvaOXiZcnWhG9nYsOg/bJEL2Wf5NuxTkQvSDnMLQoUw+9Fc86i8YyDr0It0RiZBINvfueTjkC8gu974ZYEKDRCr3jbmLnPbEJvddWbL7bkAi9yz52lXlwB72+JoBsF1AGvbMOikO1LwW9pvaTGlMPBL2a3p3x8O4CvY7Gp8iOzgG9ga6xnyyuAL3qLHftlBv/vND8ipvQ2vy8uMyeSQya+ryfnLL3R1n4vIdsxqWDGPa8bTzaU7/X87xVDO4B+5bxvHm4A2BtrO68R1grvOQq6rwW+FIYXKnlvOWXenTTJ+G8Zm9EoZVM2bwDr5NZhEnQvIK6i0fMGb28nKrzg49NjLxTZVlUmHmLvAsgvyShpYq8xNok9anRibx8lYrFsv2IvDRQ8JW7KYi86wpWZsRVh7yjxbs2zYGGvFuAIQfWrYW8EzuH197ZhLzK9eyn5wWEvIKwUnjwMYO8Omu4SPldgrzyJR4ZAoqBvKrgg+kKtoC8xDbTcyfEf7wzrJ4UORx+vKMharVKdHy8E5c1VlzMeryCDAH3bSR5vPKBzJd/fHe8YfeXOJHUdbzRbGPZoix0vEDiLnq0hHK8r1f6GsbccLw/mot3r2luvB6FIrnSGWu8/m+5+vXJZ7zdWlA8GXpkvLtF5308KmG8NWH8fr+0W7zzNioCBhVVvGQZsAqZ6ky8wYkXIkxWP7zqgju7mF0TvF/2ewi37AS87v0vPBjdBLx9BeRvec0EvA0NmKPavQS8nBRM1zuuBLwrHAALnZ4EvLojtD7+jgS8Sytocl9/BLzaMhymwG8EvGk60NkhYAS8+EGEDYNQBLyISThB5EAEvBdR7HRFMQS8pligqKYhBLw1YFTcBxIEvMZnCBBpAgS8VW+8Q8ryA7zkdnB3K+MDvHN+JKuM0wO8A4bY3u3DA7w=\",\"dtype\":\"float64\",\"shape\":[100]}},\"selected\":{\"id\":\"1391\",\"type\":\"Selection\"},\"selection_policy\":{\"id\":\"1390\",\"type\":\"UnionRenderers\"}},\"id\":\"1191\",\"type\":\"ColumnDataSource\"},{\"attributes\":{},\"id\":\"1390\",\"type\":\"UnionRenderers\"},{\"attributes\":{\"line_color\":\"#ff7e0e\",\"line_width\":2,\"x\":{\"field\":\"x\"},\"y\":{\"field\":\"y\"}},\"id\":\"1192\",\"type\":\"Line\"},{\"attributes\":{\"data_source\":{\"id\":\"1178\",\"type\":\"ColumnDataSource\"},\"glyph\":{\"id\":\"1179\",\"type\":\"Line\"},\"hover_glyph\":null,\"muted_glyph\":null,\"nonselection_glyph\":{\"id\":\"1180\",\"type\":\"Line\"},\"selection_glyph\":null,\"view\":{\"id\":\"1182\",\"type\":\"CDSView\"}},\"id\":\"1181\",\"type\":\"GlyphRenderer\"},{\"attributes\":{\"callback\":null,\"data\":{\"x\":{\"__ndarray__\":\"AAAAAAAAAAAXqhByaWNCPxeqEHJpY1I/I/8YKx6VWz8XqhByaWNiP57UlM5D/GY/I/8YKx6Vaz/VlM5D/BZwPxeqEHJpY3I/W79SoNavdD+e1JTOQ/x2P+Hp1vywSHk/I/8YKx6Vez9mFFtZi+F9P9WUzkP8FoA/dp/v2jI9gT8XqhByaWOCP7q0MQmgiYM/W79SoNavhD/9yXM3DdaFP57UlM5D/IY/QN+1ZXoiiD/h6db8sEiJP4P095Pnboo/I/8YKx6Viz/FCTrCVLuMP2YUW1mL4Y0/Bx988MEHjz/VlM5D/BaQPyUaX48XqpA/dp/v2jI9kT/HJIAmTtCRPxeqEHJpY5I/aS+hvYT2kj+6tDEJoImTPws6wlS7HJQ/W79SoNavlD+sROPr8UKVP/3JczcN1pU/Tk8Egyhplj+e1JTOQ/yWP+9ZJRpfj5c/QN+1ZXoimD+QZEaxlbWYP+Hp1vywSJk/Mm9nSMzbmT+D9PeT526aP9N5iN8CAps/I/8YKx6Vmz90hKl2OSicP8UJOsJUu5w/FY/KDXBOnT9mFFtZi+GdP7eZ66SmdJ4/Bx988MEHnz9ZpAw83ZqfP9WUzkP8FqA/fdeW6YlgoD8lGl+PF6qgP85cJzWl86A/dp/v2jI9oT8f4reAwIahP8ckgCZO0KE/cGdIzNsZoj8XqhByaWOiP8Ds2Bf3rKI/aS+hvYT2oj8RcmljEkCjP7q0MQmgiaM/Yvf5ri3Toz8LOsJUuxykP7J8ivpIZqQ/W79SoNavpD8DAhtGZPmkP6xE4+vxQqU/VIerkX+MpT/9yXM3DdalP6UMPN2aH6Y/Tk8Egyhppj/1kcwotrKmP57UlM5D/KY/RhdddNFFpz/vWSUaX4+nP5ec7b/s2Kc/QN+1ZXoiqD/pIX4LCGyoP5BkRrGVtag/OacOVyP/qD/h6db8sEipP4osn6I+kqk/Mm9nSMzbqT/bsS/uWSWqP4P095Pnbqo/LDfAOXW4qj/TeYjfAgKrP3y8UIWQS6s/I/8YKx6Vqz/MQeHQq96rP3SEqXY5KKw/HcdxHMdxrD8=\",\"dtype\":\"float64\",\"shape\":[100]},\"y\":{\"__ndarray__\":\"AAAAAAAAJEDaCFyXjp2xP6EuIqwaDcc/+0fRrkL4cD91KwQ+ak+dPm5VbduB6h8+Dut68Boh1b2w4xu08qjTPZDwQM5NvMC9DoXxvI/eDT7Aaxr/cTMDvjDuOzuLgRU+cuxM1c3F5z0e89D3rRvzvWbPbJce/us9zMyEFti66D165z//tTYIPljIkLC12KK9RRYy4KPFYL2KZL5sL4V2veR94dnRVVy9qHShgTPEsD1XgHBhSh2jvbASZOBQQ409wLoAyrCakj0C7TMSmnEMPtGjPAyO0te9nxynWo9grD0TFOsh8R6DPWa3PDWO0qu9AKqxvKjTlz0wXs9czLmaPVJvjHkRYbc9KlI5Bxj40D3cVH7FSxPkPZZPD1Qu5vG9nSHEeYQcAj5+egRHpHnqPUhxKPXvH9k9MaGySboZ9j2cyt5mqurwvTgO5o/mdsO9vYvjglVEAb7tjjeTxjLnvTDydDN3jOG9pluSRYMq4z04Wn6JhLsmPtMgSFBLZiS+YER9+t82/b0sR1w3l6QUPpZbvrEMv/y9QuwTmMC5yD2IBdOYqMCmPfKGvMiHkwo+4M8UOZ/06D3ItopsWqauPSw53JNSEuE9HCN5oKo4x71hDJkrzjCzvWCrUv++fJc9ksHFzD8IaT3kSbrUXi4QvdSfW8uL5Cs9VhhKAE03bD2OvJ8FTzN1PUoTY0ttLmE9eNvHDEmuQr1WMudMjik3vVbsd/hITUY9MKvjvRgwTz3N9DHXoORYvbh84A8faEM96EygnswxO70kB40caC1bPY7quvOWGmO9qL/1UZ+lVD1AxwzFJiVyPRjbe529Wp294Fvdi1wdvz0IlkoCtHXdvX4bR42hKPs9bu5IxtaB+z3kzkzRL8j9PZtAZIaOZda9LMBzA7bypT2Rl2jj8iiKvfC4KWsKr4C9z7BO2mkc0z0qx9vKyKTKvWSy/LRoos+9E6m9h4Bc2D10l6aZxwK4PTD7wMoEg9+9jHEMinqqwz1mpef8nT3lPa3A4mnzmNA9/iugGvDyzT2BZ5zpNFzXPSCadKdPl4+9ERjlquz44j0=\",\"dtype\":\"float64\",\"shape\":[100]}},\"selected\":{\"id\":\"1203\",\"type\":\"Selection\"},\"selection_policy\":{\"id\":\"1202\",\"type\":\"UnionRenderers\"}},\"id\":\"1178\",\"type\":\"ColumnDataSource\"},{\"attributes\":{\"line_alpha\":0.1,\"line_color\":\"#1f77b4\",\"line_width\":2,\"x\":{\"field\":\"x\"},\"y\":{\"field\":\"y\"}},\"id\":\"1193\",\"type\":\"Line\"},{\"attributes\":{},\"id\":\"1165\",\"type\":\"PanTool\"},{\"attributes\":{},\"id\":\"1203\",\"type\":\"Selection\"},{\"attributes\":{\"text\":\"Compare ATP\"},\"id\":\"1145\",\"type\":\"Title\"},{\"attributes\":{\"data_source\":{\"id\":\"1191\",\"type\":\"ColumnDataSource\"},\"glyph\":{\"id\":\"1192\",\"type\":\"Line\"},\"hover_glyph\":null,\"muted_glyph\":null,\"nonselection_glyph\":{\"id\":\"1193\",\"type\":\"Line\"},\"selection_glyph\":null,\"view\":{\"id\":\"1195\",\"type\":\"CDSView\"}},\"id\":\"1194\",\"type\":\"GlyphRenderer\"},{\"attributes\":{},\"id\":\"1166\",\"type\":\"WheelZoomTool\"},{\"attributes\":{\"callback\":null},\"id\":\"1147\",\"type\":\"DataRange1d\"},{\"attributes\":{\"overlay\":{\"id\":\"1188\",\"type\":\"BoxAnnotation\"}},\"id\":\"1167\",\"type\":\"BoxZoomTool\"},{\"attributes\":{\"source\":{\"id\":\"1191\",\"type\":\"ColumnDataSource\"}},\"id\":\"1195\",\"type\":\"CDSView\"},{\"attributes\":{},\"id\":\"1168\",\"type\":\"SaveTool\"},{\"attributes\":{\"label\":{\"value\":\"only atp\"},\"renderers\":[{\"id\":\"1194\",\"type\":\"GlyphRenderer\"}]},\"id\":\"1204\",\"type\":\"LegendItem\"},{\"attributes\":{},\"id\":\"1169\",\"type\":\"ResetTool\"},{\"attributes\":{\"callback\":null},\"id\":\"1149\",\"type\":\"DataRange1d\"}],\"root_ids\":[\"1144\"]},\"title\":\"Bokeh Application\",\"version\":\"1.4.0\"}};\n",
       "  var render_items = [{\"docid\":\"462bd61c-0075-42cf-9d3b-80bf51a5ff0f\",\"roots\":{\"1144\":\"dd293c72-7499-4930-8c51-853460e166b5\"}}];\n",
       "  root.Bokeh.embed.embed_items_notebook(docs_json, render_items);\n",
       "\n",
       "  }\n",
       "  if (root.Bokeh !== undefined) {\n",
       "    embed_document(root);\n",
       "  } else {\n",
       "    var attempts = 0;\n",
       "    var timer = setInterval(function(root) {\n",
       "      if (root.Bokeh !== undefined) {\n",
       "        clearInterval(timer);\n",
       "        embed_document(root);\n",
       "      } else {\n",
       "        attempts++;\n",
       "        if (attempts > 100) {\n",
       "          clearInterval(timer);\n",
       "          console.log(\"Bokeh: ERROR: Unable to run BokehJS code because BokehJS library is missing\");\n",
       "        }\n",
       "      }\n",
       "    }, 10, root)\n",
       "  }\n",
       "})(window);"
      ],
      "application/vnd.bokehjs_exec.v0+json": ""
     },
     "metadata": {
      "application/vnd.bokehjs_exec.v0+json": {
       "id": "1144"
      }
     },
     "output_type": "display_data"
    }
   ],
   "source": [
    "# PLOT WITH ATP SYNTHASE\n",
    "\n",
    "plt_timepoints = timepoints/60/60\n",
    "\n",
    "p_w_atp = bokeh.plotting.figure(width = 450, height = 350, title = 'with ATP Synthase, ATP Use',\n",
    "                          x_axis_label = 'time (hrs)',\n",
    "                          y_axis_label = 'concentration (nM)')\n",
    "plot_list = [ATP_id, outside_H_id, inside_H_id, atp_synthase_b_protein_id]\n",
    "plot_str = ['atp', 'outside_H', 'inside_H', 'bound atp synthase']\n",
    "# plot_list = [atp_synthase_b_protein_id, atp_synthase_f_protein_id]\n",
    "# plot_str = ['atp synthase bound', 'atp synthase free']\n",
    "for i,item in enumerate(plot_list):\n",
    "    p_w_atp.line(plt_timepoints, results1[item], line_width = 2, legend_label = plot_str[i], color = palette[i])\n",
    "    \n",
    "\n",
    "# PLOT WITHOUT ATP SYNTHASE\n",
    "p_no_atp = bokeh.plotting.figure(width = 450, height = 350, title = 'only ATP Use',\n",
    "                          x_axis_label = 'time (hrs)',\n",
    "                          y_axis_label = 'concentration (nM)')\n",
    "p_no_atp.line(plt_timepoints, results2[ATP_id2], line_width = 2, legend_label = 'atp', color = palette[0])\n",
    "\n",
    "p_compare = bokeh.plotting.figure(width = 450, height = 350, title = 'Compare ATP',\n",
    "                          x_axis_label = 'time (hrs)',\n",
    "                          y_axis_label = 'concentration (nM)')\n",
    "p_compare.line(plt_timepoints, results1[ATP_id], legend_label = 'atp synthase atp', line_width = 2, color = palette[0])\n",
    "p_compare.line(plt_timepoints, results2[ATP_id2], legend_label = 'only atp', line_width = 2, color = palette[1])\n",
    "\n",
    "\n",
    "p_w_atp.legend.location = 'bottom_right'\n",
    "p_w_atp.legend.click_policy = 'hide'\n",
    "    \n",
    "bokeh.io.show(row(p_w_atp, p_no_atp))\n",
    "bokeh.io.show(p_compare)\n",
    "\n",
    "\n"
   ]
  },
  {
   "cell_type": "markdown",
   "metadata": {},
   "source": [
    "Why does bound atp synthase shoot infinitely high:( got em, it's because you kept remaking the transcript silly"
   ]
  },
  {
   "cell_type": "markdown",
   "metadata": {},
   "source": [
    "## Combine all proton pump with txtl machinery\n",
    "---"
   ]
  },
  {
   "cell_type": "code",
   "execution_count": 8,
   "metadata": {},
   "outputs": [],
   "source": [
    "#ss5_pp_txtl = createSubsystem('proton_pump_tx_tl.xml', subsystemName = 'pp_txtl')\n",
    "ss5_pp_txtl = createSubsystem('proton_pump_machinery_txtl.xml', subsystemName = 'pp_txtl')\n",
    "ss6_pp_mi = createSubsystem('proton_pump_membrane_integration.xml', subsystemName = 'pp_mi')\n",
    "ss7_protontransport = createSubsystem('proton_transport_through_proton_pump.xml', subsystemName = 'protontransport')"
   ]
  },
  {
   "cell_type": "code",
   "execution_count": 9,
   "metadata": {},
   "outputs": [],
   "source": [
    "pp_subsystem = ss5_pp_txtl + ss6_pp_mi + ss7_protontransport"
   ]
  },
  {
   "cell_type": "code",
   "execution_count": 10,
   "metadata": {},
   "outputs": [],
   "source": [
    "# Initial conditions\n",
    "\n",
    "spec_list_10 = ['dna_proton_pump', 'proton_outside_H', 'metabolite_atp', 'protein_RNAP_machinery', \n",
    "                'protein_Ribo_machinery', 'protein_RNAse_machinery']\n",
    "for i,spec in enumerate(spec_list_10):\n",
    "    pp_subsystem.setSpeciesAmount(spec,10)\n",
    "\n",
    "\n",
    "# timepoints and get results\n",
    "timepoints = np.linspace(0,200,100)\n",
    "results, _ = pp_subsystem.simulateWithBioscrape(timepoints, sbml_warnings = False)\n",
    "\n",
    "# Get species IDs\n",
    "ATP_id = pp_subsystem.getSpeciesByName('metabolite_atp').getId()\n",
    "ADP_id = pp_subsystem.getSpeciesByName('metabolite_adp').getId()\n",
    "\n",
    "outside_H_id = pp_subsystem.getSpeciesByName('proton_outside_H').getId()\n",
    "inside_H_id = pp_subsystem.getSpeciesByName('proton_inside_H').getId()\n",
    "proton_pump_b_protein_id = pp_subsystem.getSpeciesByName('protein_proton_pump_b').getId()\n",
    "proton_pump_f_protein_id = pp_subsystem.getSpeciesByName('protein_proton_pump').getId()\n",
    "\n",
    "\n",
    "\n",
    "dna_pp = pp_subsystem.getSpeciesByName('dna_proton_pump').getId()"
   ]
  },
  {
   "cell_type": "code",
   "execution_count": 11,
   "metadata": {},
   "outputs": [
    {
     "data": {
      "text/html": [
       "\n",
       "\n",
       "\n",
       "\n",
       "\n",
       "\n",
       "  <div class=\"bk-root\" id=\"b4ef07f7-b68f-4fae-aa4f-70f730145954\" data-root-id=\"1452\"></div>\n"
      ]
     },
     "metadata": {},
     "output_type": "display_data"
    },
    {
     "data": {
      "application/javascript": [
       "(function(root) {\n",
       "  function embed_document(root) {\n",
       "    \n",
       "  var docs_json = {\"07999cfe-c758-42b0-b043-4943830a03f1\":{\"roots\":{\"references\":[{\"attributes\":{\"below\":[{\"id\":\"1463\",\"type\":\"LinearAxis\"}],\"center\":[{\"id\":\"1467\",\"type\":\"Grid\"},{\"id\":\"1472\",\"type\":\"Grid\"},{\"id\":\"1497\",\"type\":\"Legend\"}],\"left\":[{\"id\":\"1468\",\"type\":\"LinearAxis\"}],\"plot_height\":350,\"plot_width\":450,\"renderers\":[{\"id\":\"1489\",\"type\":\"GlyphRenderer\"},{\"id\":\"1502\",\"type\":\"GlyphRenderer\"},{\"id\":\"1516\",\"type\":\"GlyphRenderer\"},{\"id\":\"1532\",\"type\":\"GlyphRenderer\"}],\"title\":{\"id\":\"1453\",\"type\":\"Title\"},\"toolbar\":{\"id\":\"1479\",\"type\":\"Toolbar\"},\"x_range\":{\"id\":\"1455\",\"type\":\"DataRange1d\"},\"x_scale\":{\"id\":\"1459\",\"type\":\"LinearScale\"},\"y_range\":{\"id\":\"1457\",\"type\":\"DataRange1d\"},\"y_scale\":{\"id\":\"1461\",\"type\":\"LinearScale\"}},\"id\":\"1452\",\"subtype\":\"Figure\",\"type\":\"Plot\"},{\"attributes\":{\"data_source\":{\"id\":\"1486\",\"type\":\"ColumnDataSource\"},\"glyph\":{\"id\":\"1487\",\"type\":\"Line\"},\"hover_glyph\":null,\"muted_glyph\":null,\"nonselection_glyph\":{\"id\":\"1488\",\"type\":\"Line\"},\"selection_glyph\":null,\"view\":{\"id\":\"1490\",\"type\":\"CDSView\"}},\"id\":\"1489\",\"type\":\"GlyphRenderer\"},{\"attributes\":{\"callback\":null,\"data\":{\"x\":{\"__ndarray__\":\"AAAAAAAAAAAXqhByaWNCPxeqEHJpY1I/I/8YKx6VWz8XqhByaWNiP57UlM5D/GY/I/8YKx6Vaz/VlM5D/BZwPxeqEHJpY3I/W79SoNavdD+e1JTOQ/x2P+Hp1vywSHk/I/8YKx6Vez9mFFtZi+F9P9WUzkP8FoA/dp/v2jI9gT8XqhByaWOCP7q0MQmgiYM/W79SoNavhD/9yXM3DdaFP57UlM5D/IY/QN+1ZXoiiD/h6db8sEiJP4P095Pnboo/I/8YKx6Viz/FCTrCVLuMP2YUW1mL4Y0/Bx988MEHjz/VlM5D/BaQPyUaX48XqpA/dp/v2jI9kT/HJIAmTtCRPxeqEHJpY5I/aS+hvYT2kj+6tDEJoImTPws6wlS7HJQ/W79SoNavlD+sROPr8UKVP/3JczcN1pU/Tk8Egyhplj+e1JTOQ/yWP+9ZJRpfj5c/QN+1ZXoimD+QZEaxlbWYP+Hp1vywSJk/Mm9nSMzbmT+D9PeT526aP9N5iN8CAps/I/8YKx6Vmz90hKl2OSicP8UJOsJUu5w/FY/KDXBOnT9mFFtZi+GdP7eZ66SmdJ4/Bx988MEHnz9ZpAw83ZqfP9WUzkP8FqA/fdeW6YlgoD8lGl+PF6qgP85cJzWl86A/dp/v2jI9oT8f4reAwIahP8ckgCZO0KE/cGdIzNsZoj8XqhByaWOiP8Ds2Bf3rKI/aS+hvYT2oj8RcmljEkCjP7q0MQmgiaM/Yvf5ri3Toz8LOsJUuxykP7J8ivpIZqQ/W79SoNavpD8DAhtGZPmkP6xE4+vxQqU/VIerkX+MpT/9yXM3DdalP6UMPN2aH6Y/Tk8Egyhppj/1kcwotrKmP57UlM5D/KY/RhdddNFFpz/vWSUaX4+nP5ec7b/s2Kc/QN+1ZXoiqD/pIX4LCGyoP5BkRrGVtag/OacOVyP/qD/h6db8sEipP4osn6I+kqk/Mm9nSMzbqT/bsS/uWSWqP4P095Pnbqo/LDfAOXW4qj/TeYjfAgKrP3y8UIWQS6s/I/8YKx6Vqz/MQeHQq96rP3SEqXY5KKw/HcdxHMdxrD8=\",\"dtype\":\"float64\",\"shape\":[100]},\"y\":{\"__ndarray__\":\"AAAAAAAAJEAAAAAAAAAkQAAAAAAAACRAAAAAAAAAJEAAAAAAAAAkQAAAAAAAACRAAAAAAAAAJEAAAAAAAAAkQAAAAAAAACRAAAAAAAAAJEAAAAAAAAAkQAAAAAAAACRAAAAAAAAAJEAAAAAAAAAkQAAAAAAAACRAAAAAAAAAJEAAAAAAAAAkQAAAAAAAACRAAAAAAAAAJEAAAAAAAAAkQAAAAAAAACRAAAAAAAAAJEAAAAAAAAAkQAAAAAAAACRAAAAAAAAAJEAAAAAAAAAkQAAAAAAAACRAAAAAAAAAJEAAAAAAAAAkQAAAAAAAACRAAAAAAAAAJEAAAAAAAAAkQAAAAAAAACRAAAAAAAAAJEAAAAAAAAAkQAAAAAAAACRAAAAAAAAAJEAAAAAAAAAkQAAAAAAAACRAAAAAAAAAJEAAAAAAAAAkQAAAAAAAACRAAAAAAAAAJEAAAAAAAAAkQAAAAAAAACRAAAAAAAAAJEAAAAAAAAAkQAAAAAAAACRAAAAAAAAAJEAAAAAAAAAkQAAAAAAAACRAAAAAAAAAJEAAAAAAAAAkQAAAAAAAACRAAAAAAAAAJEAAAAAAAAAkQAAAAAAAACRAAAAAAAAAJEAAAAAAAAAkQAAAAAAAACRAAAAAAAAAJEAAAAAAAAAkQAAAAAAAACRAAAAAAAAAJEAAAAAAAAAkQAAAAAAAACRAAAAAAAAAJEAAAAAAAAAkQAAAAAAAACRAAAAAAAAAJEAAAAAAAAAkQAAAAAAAACRAAAAAAAAAJEAAAAAAAAAkQAAAAAAAACRAAAAAAAAAJEAAAAAAAAAkQAAAAAAAACRAAAAAAAAAJEAAAAAAAAAkQAAAAAAAACRAAAAAAAAAJEAAAAAAAAAkQAAAAAAAACRAAAAAAAAAJEAAAAAAAAAkQAAAAAAAACRAAAAAAAAAJEAAAAAAAAAkQAAAAAAAACRAAAAAAAAAJEAAAAAAAAAkQAAAAAAAACRAAAAAAAAAJEAAAAAAAAAkQAAAAAAAACRAAAAAAAAAJEAAAAAAAAAkQAAAAAAAACRAAAAAAAAAJEA=\",\"dtype\":\"float64\",\"shape\":[100]}},\"selected\":{\"id\":\"1527\",\"type\":\"Selection\"},\"selection_policy\":{\"id\":\"1526\",\"type\":\"UnionRenderers\"}},\"id\":\"1499\",\"type\":\"ColumnDataSource\"},{\"attributes\":{\"source\":{\"id\":\"1486\",\"type\":\"ColumnDataSource\"}},\"id\":\"1490\",\"type\":\"CDSView\"},{\"attributes\":{\"callback\":null,\"data\":{\"x\":{\"__ndarray__\":\"AAAAAAAAAAAXqhByaWNCPxeqEHJpY1I/I/8YKx6VWz8XqhByaWNiP57UlM5D/GY/I/8YKx6Vaz/VlM5D/BZwPxeqEHJpY3I/W79SoNavdD+e1JTOQ/x2P+Hp1vywSHk/I/8YKx6Vez9mFFtZi+F9P9WUzkP8FoA/dp/v2jI9gT8XqhByaWOCP7q0MQmgiYM/W79SoNavhD/9yXM3DdaFP57UlM5D/IY/QN+1ZXoiiD/h6db8sEiJP4P095Pnboo/I/8YKx6Viz/FCTrCVLuMP2YUW1mL4Y0/Bx988MEHjz/VlM5D/BaQPyUaX48XqpA/dp/v2jI9kT/HJIAmTtCRPxeqEHJpY5I/aS+hvYT2kj+6tDEJoImTPws6wlS7HJQ/W79SoNavlD+sROPr8UKVP/3JczcN1pU/Tk8Egyhplj+e1JTOQ/yWP+9ZJRpfj5c/QN+1ZXoimD+QZEaxlbWYP+Hp1vywSJk/Mm9nSMzbmT+D9PeT526aP9N5iN8CAps/I/8YKx6Vmz90hKl2OSicP8UJOsJUu5w/FY/KDXBOnT9mFFtZi+GdP7eZ66SmdJ4/Bx988MEHnz9ZpAw83ZqfP9WUzkP8FqA/fdeW6YlgoD8lGl+PF6qgP85cJzWl86A/dp/v2jI9oT8f4reAwIahP8ckgCZO0KE/cGdIzNsZoj8XqhByaWOiP8Ds2Bf3rKI/aS+hvYT2oj8RcmljEkCjP7q0MQmgiaM/Yvf5ri3Toz8LOsJUuxykP7J8ivpIZqQ/W79SoNavpD8DAhtGZPmkP6xE4+vxQqU/VIerkX+MpT/9yXM3DdalP6UMPN2aH6Y/Tk8Egyhppj/1kcwotrKmP57UlM5D/KY/RhdddNFFpz/vWSUaX4+nP5ec7b/s2Kc/QN+1ZXoiqD/pIX4LCGyoP5BkRrGVtag/OacOVyP/qD/h6db8sEipP4osn6I+kqk/Mm9nSMzbqT/bsS/uWSWqP4P095Pnbqo/LDfAOXW4qj/TeYjfAgKrP3y8UIWQS6s/I/8YKx6Vqz/MQeHQq96rP3SEqXY5KKw/HcdxHMdxrD8=\",\"dtype\":\"float64\",\"shape\":[100]},\"y\":{\"__ndarray__\":\"AAAAAAAAJEAAAAAAAAAkQAAAAAAAACRAAAAAAAAAJEAAAAAAAAAkQAAAAAAAACRAAAAAAAAAJEAAAAAAAAAkQAAAAAAAACRAAAAAAAAAJEAAAAAAAAAkQAAAAAAAACRAAAAAAAAAJEAAAAAAAAAkQAAAAAAAACRAAAAAAAAAJEAAAAAAAAAkQAAAAAAAACRAAAAAAAAAJEAAAAAAAAAkQAAAAAAAACRAAAAAAAAAJEAAAAAAAAAkQAAAAAAAACRAAAAAAAAAJEAAAAAAAAAkQAAAAAAAACRAAAAAAAAAJEAAAAAAAAAkQAAAAAAAACRAAAAAAAAAJEAAAAAAAAAkQAAAAAAAACRAAAAAAAAAJEAAAAAAAAAkQAAAAAAAACRAAAAAAAAAJEAAAAAAAAAkQAAAAAAAACRAAAAAAAAAJEAAAAAAAAAkQAAAAAAAACRAAAAAAAAAJEAAAAAAAAAkQAAAAAAAACRAAAAAAAAAJEAAAAAAAAAkQAAAAAAAACRAAAAAAAAAJEAAAAAAAAAkQAAAAAAAACRAAAAAAAAAJEAAAAAAAAAkQAAAAAAAACRAAAAAAAAAJEAAAAAAAAAkQAAAAAAAACRAAAAAAAAAJEAAAAAAAAAkQAAAAAAAACRAAAAAAAAAJEAAAAAAAAAkQAAAAAAAACRAAAAAAAAAJEAAAAAAAAAkQAAAAAAAACRAAAAAAAAAJEAAAAAAAAAkQAAAAAAAACRAAAAAAAAAJEAAAAAAAAAkQAAAAAAAACRAAAAAAAAAJEAAAAAAAAAkQAAAAAAAACRAAAAAAAAAJEAAAAAAAAAkQAAAAAAAACRAAAAAAAAAJEAAAAAAAAAkQAAAAAAAACRAAAAAAAAAJEAAAAAAAAAkQAAAAAAAACRAAAAAAAAAJEAAAAAAAAAkQAAAAAAAACRAAAAAAAAAJEAAAAAAAAAkQAAAAAAAACRAAAAAAAAAJEAAAAAAAAAkQAAAAAAAACRAAAAAAAAAJEAAAAAAAAAkQAAAAAAAACRAAAAAAAAAJEAAAAAAAAAkQAAAAAAAACRAAAAAAAAAJEA=\",\"dtype\":\"float64\",\"shape\":[100]}},\"selected\":{\"id\":\"1511\",\"type\":\"Selection\"},\"selection_policy\":{\"id\":\"1510\",\"type\":\"UnionRenderers\"}},\"id\":\"1486\",\"type\":\"ColumnDataSource\"},{\"attributes\":{\"text\":\"with Proton Pump\"},\"id\":\"1453\",\"type\":\"Title\"},{\"attributes\":{\"active_drag\":\"auto\",\"active_inspect\":\"auto\",\"active_multi\":null,\"active_scroll\":\"auto\",\"active_tap\":\"auto\",\"tools\":[{\"id\":\"1473\",\"type\":\"PanTool\"},{\"id\":\"1474\",\"type\":\"WheelZoomTool\"},{\"id\":\"1475\",\"type\":\"BoxZoomTool\"},{\"id\":\"1476\",\"type\":\"SaveTool\"},{\"id\":\"1477\",\"type\":\"ResetTool\"},{\"id\":\"1478\",\"type\":\"HelpTool\"}]},\"id\":\"1479\",\"type\":\"Toolbar\"},{\"attributes\":{\"line_color\":\"#9367bc\",\"line_width\":2,\"x\":{\"field\":\"x\"},\"y\":{\"field\":\"y\"}},\"id\":\"1530\",\"type\":\"Line\"},{\"attributes\":{\"axis_label\":\"concentration (nM)\",\"formatter\":{\"id\":\"1494\",\"type\":\"BasicTickFormatter\"},\"ticker\":{\"id\":\"1469\",\"type\":\"BasicTicker\"}},\"id\":\"1468\",\"type\":\"LinearAxis\"},{\"attributes\":{},\"id\":\"1527\",\"type\":\"Selection\"},{\"attributes\":{\"line_color\":\"#ff7e0e\",\"line_width\":2,\"x\":{\"field\":\"x\"},\"y\":{\"field\":\"y\"}},\"id\":\"1500\",\"type\":\"Line\"},{\"attributes\":{},\"id\":\"1510\",\"type\":\"UnionRenderers\"},{\"attributes\":{\"line_alpha\":0.1,\"line_color\":\"#1f77b4\",\"line_width\":2,\"x\":{\"field\":\"x\"},\"y\":{\"field\":\"y\"}},\"id\":\"1531\",\"type\":\"Line\"},{\"attributes\":{\"data_source\":{\"id\":\"1529\",\"type\":\"ColumnDataSource\"},\"glyph\":{\"id\":\"1530\",\"type\":\"Line\"},\"hover_glyph\":null,\"muted_glyph\":null,\"nonselection_glyph\":{\"id\":\"1531\",\"type\":\"Line\"},\"selection_glyph\":null,\"view\":{\"id\":\"1533\",\"type\":\"CDSView\"}},\"id\":\"1532\",\"type\":\"GlyphRenderer\"},{\"attributes\":{\"line_color\":\"#1f77b3\",\"line_width\":2,\"x\":{\"field\":\"x\"},\"y\":{\"field\":\"y\"}},\"id\":\"1487\",\"type\":\"Line\"},{\"attributes\":{},\"id\":\"1492\",\"type\":\"BasicTickFormatter\"},{\"attributes\":{\"source\":{\"id\":\"1529\",\"type\":\"ColumnDataSource\"}},\"id\":\"1533\",\"type\":\"CDSView\"},{\"attributes\":{\"label\":{\"value\":\"atp\"},\"renderers\":[{\"id\":\"1489\",\"type\":\"GlyphRenderer\"}]},\"id\":\"1498\",\"type\":\"LegendItem\"},{\"attributes\":{},\"id\":\"1544\",\"type\":\"UnionRenderers\"},{\"attributes\":{\"ticker\":{\"id\":\"1464\",\"type\":\"BasicTicker\"}},\"id\":\"1467\",\"type\":\"Grid\"},{\"attributes\":{\"source\":{\"id\":\"1499\",\"type\":\"ColumnDataSource\"}},\"id\":\"1503\",\"type\":\"CDSView\"},{\"attributes\":{},\"id\":\"1494\",\"type\":\"BasicTickFormatter\"},{\"attributes\":{\"callback\":null},\"id\":\"1455\",\"type\":\"DataRange1d\"},{\"attributes\":{\"label\":{\"value\":\"bound proton pump\"},\"renderers\":[{\"id\":\"1532\",\"type\":\"GlyphRenderer\"}]},\"id\":\"1546\",\"type\":\"LegendItem\"},{\"attributes\":{},\"id\":\"1469\",\"type\":\"BasicTicker\"},{\"attributes\":{},\"id\":\"1545\",\"type\":\"Selection\"},{\"attributes\":{\"line_alpha\":0.1,\"line_color\":\"#1f77b4\",\"line_width\":2,\"x\":{\"field\":\"x\"},\"y\":{\"field\":\"y\"}},\"id\":\"1488\",\"type\":\"Line\"},{\"attributes\":{},\"id\":\"1591\",\"type\":\"UnionRenderers\"},{\"attributes\":{\"line_alpha\":0.1,\"line_color\":\"#1f77b4\",\"line_width\":2,\"x\":{\"field\":\"x\"},\"y\":{\"field\":\"y\"}},\"id\":\"1501\",\"type\":\"Line\"},{\"attributes\":{\"callback\":null},\"id\":\"1457\",\"type\":\"DataRange1d\"},{\"attributes\":{},\"id\":\"1473\",\"type\":\"PanTool\"},{\"attributes\":{\"click_policy\":\"hide\",\"items\":[{\"id\":\"1498\",\"type\":\"LegendItem\"},{\"id\":\"1512\",\"type\":\"LegendItem\"},{\"id\":\"1528\",\"type\":\"LegendItem\"},{\"id\":\"1546\",\"type\":\"LegendItem\"}],\"location\":\"bottom_right\"},\"id\":\"1497\",\"type\":\"Legend\"},{\"attributes\":{\"bottom_units\":\"screen\",\"fill_alpha\":{\"value\":0.5},\"fill_color\":{\"value\":\"lightgrey\"},\"left_units\":\"screen\",\"level\":\"overlay\",\"line_alpha\":{\"value\":1.0},\"line_color\":{\"value\":\"black\"},\"line_dash\":[4,4],\"line_width\":{\"value\":2},\"render_mode\":\"css\",\"right_units\":\"screen\",\"top_units\":\"screen\"},\"id\":\"1496\",\"type\":\"BoxAnnotation\"},{\"attributes\":{\"axis_label\":\"time (hrs)\",\"formatter\":{\"id\":\"1492\",\"type\":\"BasicTickFormatter\"},\"ticker\":{\"id\":\"1464\",\"type\":\"BasicTicker\"}},\"id\":\"1463\",\"type\":\"LinearAxis\"},{\"attributes\":{\"callback\":null,\"data\":{\"x\":{\"__ndarray__\":\"AAAAAAAAAAAXqhByaWNCPxeqEHJpY1I/I/8YKx6VWz8XqhByaWNiP57UlM5D/GY/I/8YKx6Vaz/VlM5D/BZwPxeqEHJpY3I/W79SoNavdD+e1JTOQ/x2P+Hp1vywSHk/I/8YKx6Vez9mFFtZi+F9P9WUzkP8FoA/dp/v2jI9gT8XqhByaWOCP7q0MQmgiYM/W79SoNavhD/9yXM3DdaFP57UlM5D/IY/QN+1ZXoiiD/h6db8sEiJP4P095Pnboo/I/8YKx6Viz/FCTrCVLuMP2YUW1mL4Y0/Bx988MEHjz/VlM5D/BaQPyUaX48XqpA/dp/v2jI9kT/HJIAmTtCRPxeqEHJpY5I/aS+hvYT2kj+6tDEJoImTPws6wlS7HJQ/W79SoNavlD+sROPr8UKVP/3JczcN1pU/Tk8Egyhplj+e1JTOQ/yWP+9ZJRpfj5c/QN+1ZXoimD+QZEaxlbWYP+Hp1vywSJk/Mm9nSMzbmT+D9PeT526aP9N5iN8CAps/I/8YKx6Vmz90hKl2OSicP8UJOsJUu5w/FY/KDXBOnT9mFFtZi+GdP7eZ66SmdJ4/Bx988MEHnz9ZpAw83ZqfP9WUzkP8FqA/fdeW6YlgoD8lGl+PF6qgP85cJzWl86A/dp/v2jI9oT8f4reAwIahP8ckgCZO0KE/cGdIzNsZoj8XqhByaWOiP8Ds2Bf3rKI/aS+hvYT2oj8RcmljEkCjP7q0MQmgiaM/Yvf5ri3Toz8LOsJUuxykP7J8ivpIZqQ/W79SoNavpD8DAhtGZPmkP6xE4+vxQqU/VIerkX+MpT/9yXM3DdalP6UMPN2aH6Y/Tk8Egyhppj/1kcwotrKmP57UlM5D/KY/RhdddNFFpz/vWSUaX4+nP5ec7b/s2Kc/QN+1ZXoiqD/pIX4LCGyoP5BkRrGVtag/OacOVyP/qD/h6db8sEipP4osn6I+kqk/Mm9nSMzbqT/bsS/uWSWqP4P095Pnbqo/LDfAOXW4qj/TeYjfAgKrP3y8UIWQS6s/I/8YKx6Vqz/MQeHQq96rP3SEqXY5KKw/HcdxHMdxrD8=\",\"dtype\":\"float64\",\"shape\":[100]},\"y\":{\"__ndarray__\":\"AAAAAAAAAAAAAAAAAAAAAAAAAAAAAAAAAAAAAAAAAAAAAAAAAAAAAAAAAAAAAAAAAAAAAAAAAAAAAAAAAAAAAAAAAAAAAAAAAAAAAAAAAAAAAAAAAAAAAAAAAAAAAAAAAAAAAAAAAAAAAAAAAAAAAAAAAAAAAAAAAAAAAAAAAAAAAAAAAAAAAAAAAAAAAAAAAAAAAAAAAAAAAAAAAAAAAAAAAAAAAAAAAAAAAAAAAAAAAAAAAAAAAAAAAAAAAAAAAAAAAAAAAAAAAAAAAAAAAAAAAAAAAAAAAAAAAAAAAAAAAAAAAAAAAAAAAAAAAAAAAAAAAAAAAAAAAAAAAAAAAAAAAAAAAAAAAAAAAAAAAAAAAAAAAAAAAAAAAAAAAAAAAAAAAAAAAAAAAAAAAAAAAAAAAAAAAAAAAAAAAAAAAAAAAAAAAAAAAAAAAAAAAAAAAAAAAAAAAAAAAAAAAAAAAAAAAAAAAAAAAAAAAAAAAAAAAAAAAAAAAAAAAAAAAAAAAAAAAAAAAAAAAAAAAAAAAAAAAAAAAAAAAAAAAAAAAAAAAAAAAAAAAAAAAAAAAAAAAAAAAAAAAAAAAAAAAAAAAAAAAAAAAAAAAAAAAAAAAAAAAAAAAAAAAAAAAAAAAAAAAAAAAAAAAAAAAAAAAAAAAAAAAAAAAAAAAAAAAAAAAAAAAAAAAAAAAAAAAAAAAAAAAAAAAAAAAAAAAAAAAAAAAAAAAAAAAAAAAAAAAAAAAAAAAAAAAAAAAAAAAAAAAAAAAAAAAAAAAAAAAAAAAAAAAAAAAAAAAAAAAAAAAAAAAAAAAAAAAAAAAAAAAAAAAAAAAAAAAAAAAAAAAAAAAAAAAAAAAAAAAAAAAAAAAAAAAAAAAAAAAAAAAAAAAAAAAAAAAAAAAAAAAAAAAAAAAAAAAAAAAAAAAAAAAAAAAAAAAAAAAAAAAAAAAAAAAAAAAAAAAAAAAAAAAAAAAAAAAAAAAAAAAAAAAAAAAAAAAAAAAAAAAAAAAAAAAAAAAAAAAAAAAAAAAAAAAAAAAAAAAAAAAAAAAAAAAAAAAAAAAAAAAAA=\",\"dtype\":\"float64\",\"shape\":[100]}},\"selected\":{\"id\":\"1545\",\"type\":\"Selection\"},\"selection_policy\":{\"id\":\"1544\",\"type\":\"UnionRenderers\"}},\"id\":\"1513\",\"type\":\"ColumnDataSource\"},{\"attributes\":{\"source\":{\"id\":\"1513\",\"type\":\"ColumnDataSource\"}},\"id\":\"1517\",\"type\":\"CDSView\"},{\"attributes\":{},\"id\":\"1592\",\"type\":\"Selection\"},{\"attributes\":{\"data_source\":{\"id\":\"1499\",\"type\":\"ColumnDataSource\"},\"glyph\":{\"id\":\"1500\",\"type\":\"Line\"},\"hover_glyph\":null,\"muted_glyph\":null,\"nonselection_glyph\":{\"id\":\"1501\",\"type\":\"Line\"},\"selection_glyph\":null,\"view\":{\"id\":\"1503\",\"type\":\"CDSView\"}},\"id\":\"1502\",\"type\":\"GlyphRenderer\"},{\"attributes\":{},\"id\":\"1459\",\"type\":\"LinearScale\"},{\"attributes\":{},\"id\":\"1478\",\"type\":\"HelpTool\"},{\"attributes\":{},\"id\":\"1474\",\"type\":\"WheelZoomTool\"},{\"attributes\":{},\"id\":\"1476\",\"type\":\"SaveTool\"},{\"attributes\":{\"line_color\":\"#2ba02b\",\"line_width\":2,\"x\":{\"field\":\"x\"},\"y\":{\"field\":\"y\"}},\"id\":\"1514\",\"type\":\"Line\"},{\"attributes\":{\"line_alpha\":0.1,\"line_color\":\"#1f77b4\",\"line_width\":2,\"x\":{\"field\":\"x\"},\"y\":{\"field\":\"y\"}},\"id\":\"1515\",\"type\":\"Line\"},{\"attributes\":{\"callback\":null,\"data\":{\"x\":{\"__ndarray__\":\"AAAAAAAAAAAXqhByaWNCPxeqEHJpY1I/I/8YKx6VWz8XqhByaWNiP57UlM5D/GY/I/8YKx6Vaz/VlM5D/BZwPxeqEHJpY3I/W79SoNavdD+e1JTOQ/x2P+Hp1vywSHk/I/8YKx6Vez9mFFtZi+F9P9WUzkP8FoA/dp/v2jI9gT8XqhByaWOCP7q0MQmgiYM/W79SoNavhD/9yXM3DdaFP57UlM5D/IY/QN+1ZXoiiD/h6db8sEiJP4P095Pnboo/I/8YKx6Viz/FCTrCVLuMP2YUW1mL4Y0/Bx988MEHjz/VlM5D/BaQPyUaX48XqpA/dp/v2jI9kT/HJIAmTtCRPxeqEHJpY5I/aS+hvYT2kj+6tDEJoImTPws6wlS7HJQ/W79SoNavlD+sROPr8UKVP/3JczcN1pU/Tk8Egyhplj+e1JTOQ/yWP+9ZJRpfj5c/QN+1ZXoimD+QZEaxlbWYP+Hp1vywSJk/Mm9nSMzbmT+D9PeT526aP9N5iN8CAps/I/8YKx6Vmz90hKl2OSicP8UJOsJUu5w/FY/KDXBOnT9mFFtZi+GdP7eZ66SmdJ4/Bx988MEHnz9ZpAw83ZqfP9WUzkP8FqA/fdeW6YlgoD8lGl+PF6qgP85cJzWl86A/dp/v2jI9oT8f4reAwIahP8ckgCZO0KE/cGdIzNsZoj8XqhByaWOiP8Ds2Bf3rKI/aS+hvYT2oj8RcmljEkCjP7q0MQmgiaM/Yvf5ri3Toz8LOsJUuxykP7J8ivpIZqQ/W79SoNavpD8DAhtGZPmkP6xE4+vxQqU/VIerkX+MpT/9yXM3DdalP6UMPN2aH6Y/Tk8Egyhppj/1kcwotrKmP57UlM5D/KY/RhdddNFFpz/vWSUaX4+nP5ec7b/s2Kc/QN+1ZXoiqD/pIX4LCGyoP5BkRrGVtag/OacOVyP/qD/h6db8sEipP4osn6I+kqk/Mm9nSMzbqT/bsS/uWSWqP4P095Pnbqo/LDfAOXW4qj/TeYjfAgKrP3y8UIWQS6s/I/8YKx6Vqz/MQeHQq96rP3SEqXY5KKw/HcdxHMdxrD8=\",\"dtype\":\"float64\",\"shape\":[100]},\"y\":{\"__ndarray__\":\"AAAAAAAAAABRA4rS2qTUPkNzbcLo+AM/xkYmG+REID9Fqo6qBJ0yP7wHezFMjUE/rNl3JoFMTT8ays03hHtWPxEATYWWOWA/8kBPzS9ZZj+1OqZB0qttPziLR8XwHnM/qMbTOqAMeD+In4Ec0qJ9PywR+zo38oE/82Y/WMVphT9P96mQwjiJPzeSj7COX40/NYVjXyLvkD9DJAkkYlqTP35GXcNc8ZU/iBQJRNKzmD828Hq8b6GbP0oC8hDSuZ4/G8e8MkT+oD+Y1lEdi7SiP3SZSax6f6Q/DzWQtMtepj8fFSq6M1KoPzJosZFlWao/nibU8BF0rD+YVrnr56GuP/7m7rFKcbA/QFFXtOOasT8mudpFlc2yPxqAD5U1CbQ/ccKF1ppNtT/Xe11gm5q2PxPYMcIN8Lc/O4a32chNuT/eOkTko7O6P9eNvY12Ibw/oIMX/RiXvT9dNuzeYxS/P8XAEDeYTMA/R0l3PawSwT/bQVE4W9zBP59p5qySqcI/vzLKcUB6wz/d8g2wUk7EPyqe8eO3JcU/EI453V4Axj/ukT2/Nt7GP2NMsAAvv8c/b/8gazejyD/B1UwaQIrJP6JlRXs5dMo/QSlxSxRhyz/0XGyXwVDMP1P/zbkyQ80/R2rYWVk4zj+F4BlqJzDPP+X7f5NHFdA/gvivisGT0D/Q6HsAexPRP6KZdX1tlNE/R+MerJIW0j+xayZY5JnSP3i3pG1cHtM/6Zla+PSj0z+DlPEiqCrUP6lMPjZwstQ/76aFmEc71T/L/cTMKMXVP1Sx/XEOUNY/soKEQvPb1j/MhVQT0mjXP7t0ZtOl9tc/D70Li2mF2D8i3kxbGBXZPzjITX2tpdk/5FS0QSQ32j9YMhQQeMnaP3qVX2akXNs/rvhZ2KTw2z9AOiAPdYXcP5u/2cgQG90/Ffyi13Ox3T881QUhmkjePxPCJ51/4N4/eGxvWCB53z/gsC45PAngP2TQwQ1CVuA/+w3Xyp+j4D8Ek/eZU/HgP5pFKa1bP+E/GYWwPraN4T9HvdOQYdzhP/QBr+1bK+I/jWoZp6N64j8=\",\"dtype\":\"float64\",\"shape\":[100]}},\"selected\":{\"id\":\"1592\",\"type\":\"Selection\"},\"selection_policy\":{\"id\":\"1591\",\"type\":\"UnionRenderers\"}},\"id\":\"1529\",\"type\":\"ColumnDataSource\"},{\"attributes\":{\"label\":{\"value\":\"outside_H\"},\"renderers\":[{\"id\":\"1502\",\"type\":\"GlyphRenderer\"}]},\"id\":\"1512\",\"type\":\"LegendItem\"},{\"attributes\":{\"data_source\":{\"id\":\"1513\",\"type\":\"ColumnDataSource\"},\"glyph\":{\"id\":\"1514\",\"type\":\"Line\"},\"hover_glyph\":null,\"muted_glyph\":null,\"nonselection_glyph\":{\"id\":\"1515\",\"type\":\"Line\"},\"selection_glyph\":null,\"view\":{\"id\":\"1517\",\"type\":\"CDSView\"}},\"id\":\"1516\",\"type\":\"GlyphRenderer\"},{\"attributes\":{\"dimension\":1,\"ticker\":{\"id\":\"1469\",\"type\":\"BasicTicker\"}},\"id\":\"1472\",\"type\":\"Grid\"},{\"attributes\":{},\"id\":\"1526\",\"type\":\"UnionRenderers\"},{\"attributes\":{},\"id\":\"1464\",\"type\":\"BasicTicker\"},{\"attributes\":{},\"id\":\"1511\",\"type\":\"Selection\"},{\"attributes\":{},\"id\":\"1477\",\"type\":\"ResetTool\"},{\"attributes\":{\"label\":{\"value\":\"inside_H\"},\"renderers\":[{\"id\":\"1516\",\"type\":\"GlyphRenderer\"}]},\"id\":\"1528\",\"type\":\"LegendItem\"},{\"attributes\":{\"overlay\":{\"id\":\"1496\",\"type\":\"BoxAnnotation\"}},\"id\":\"1475\",\"type\":\"BoxZoomTool\"},{\"attributes\":{},\"id\":\"1461\",\"type\":\"LinearScale\"}],\"root_ids\":[\"1452\"]},\"title\":\"Bokeh Application\",\"version\":\"1.4.0\"}};\n",
       "  var render_items = [{\"docid\":\"07999cfe-c758-42b0-b043-4943830a03f1\",\"roots\":{\"1452\":\"b4ef07f7-b68f-4fae-aa4f-70f730145954\"}}];\n",
       "  root.Bokeh.embed.embed_items_notebook(docs_json, render_items);\n",
       "\n",
       "  }\n",
       "  if (root.Bokeh !== undefined) {\n",
       "    embed_document(root);\n",
       "  } else {\n",
       "    var attempts = 0;\n",
       "    var timer = setInterval(function(root) {\n",
       "      if (root.Bokeh !== undefined) {\n",
       "        clearInterval(timer);\n",
       "        embed_document(root);\n",
       "      } else {\n",
       "        attempts++;\n",
       "        if (attempts > 100) {\n",
       "          clearInterval(timer);\n",
       "          console.log(\"Bokeh: ERROR: Unable to run BokehJS code because BokehJS library is missing\");\n",
       "        }\n",
       "      }\n",
       "    }, 10, root)\n",
       "  }\n",
       "})(window);"
      ],
      "application/vnd.bokehjs_exec.v0+json": ""
     },
     "metadata": {
      "application/vnd.bokehjs_exec.v0+json": {
       "id": "1452"
      }
     },
     "output_type": "display_data"
    }
   ],
   "source": [
    "plt_timepoints = timepoints/60/60\n",
    "\n",
    "p_pp = bokeh.plotting.figure(width = 450, height = 350, title = 'with Proton Pump',\n",
    "                            x_axis_label = 'time (hrs)',\n",
    "                            y_axis_label = 'concentration (nM)')\n",
    "plot_list = [ATP_id, outside_H_id, inside_H_id, proton_pump_b_protein_id]\n",
    "plot_str = ['atp', 'outside_H', 'inside_H', 'bound proton pump']\n",
    "for i,item in enumerate(plot_list):\n",
    "    p_pp.line(plt_timepoints, results[item], line_width = 2, legend_label = plot_str[i], color = palette[i])\n",
    "    \n",
    "p_pp.legend.click_policy = 'hide'\n",
    "p_pp.legend.location = 'bottom_right'\n",
    "bokeh.io.show(p_pp)"
   ]
  },
  {
   "cell_type": "markdown",
   "metadata": {},
   "source": [
    "## Combine atp synthase and proton pump subsystems (with machinery txtl)\n",
    "---"
   ]
  },
  {
   "cell_type": "code",
   "execution_count": 12,
   "metadata": {},
   "outputs": [],
   "source": [
    "entire_subsystem = ss1_atpsyn_txtl + ss2_atpsyn_mi + ss3_atpsynthesis + ss4_atp_use + ss5_pp_txtl + ss6_pp_mi + ss7_protontransport"
   ]
  },
  {
   "cell_type": "code",
   "execution_count": 13,
   "metadata": {},
   "outputs": [],
   "source": [
    "# Initial conditions\n",
    "spec_list_10 = ['dna_proton_pump', 'dna_atpsyn','proton_outside_H', 'metabolite_atp','protein_RNAP_machinery', \n",
    "                'protein_Ribo_machinery', 'protein_RNAse_machinery']\n",
    "for i,spec in enumerate(spec_list_10):\n",
    "    entire_subsystem.setSpeciesAmount(spec,10)\n",
    "\n",
    "\n",
    "# timepoints and get results\n",
    "# timepoints = np.linspace(0,10,100)\n",
    "# results, _ = entire_subsystem.simulateWithBioscrape(timepoints, sbml_warnings = False)\n",
    "\n",
    "# Get species IDs\n",
    "ATP_id3 = entire_subsystem.getSpeciesByName('metabolite_atp').getId()\n",
    "ADP_id = entire_subsystem.getSpeciesByName('metabolite_adp').getId()\n",
    "\n",
    "outside_H_id = entire_subsystem.getSpeciesByName('proton_outside_H').getId()\n",
    "inside_H_id = entire_subsystem.getSpeciesByName('proton_inside_H').getId()\n",
    "\n",
    "proton_pump_b_protein_id = entire_subsystem.getSpeciesByName('protein_proton_pump_b').getId()\n",
    "proton_pump_f_protein_id = entire_subsystem.getSpeciesByName('protein_proton_pump').getId()\n",
    "\n",
    "atp_synthase_b_protein_id = entire_subsystem.getSpeciesByName('protein_atpsyn_b').getId()\n",
    "atp_synthase_f_protein_id = entire_subsystem.getSpeciesByName('protein_atpsyn').getId()\n"
   ]
  },
  {
   "cell_type": "code",
   "execution_count": 14,
   "metadata": {},
   "outputs": [],
   "source": [
    "timepoints = np.linspace(0,200,100)\n",
    "results_everything, _ = entire_subsystem.simulateWithBioscrape(timepoints, sbml_warnings = False)"
   ]
  },
  {
   "cell_type": "code",
   "execution_count": 19,
   "metadata": {},
   "outputs": [
    {
     "name": "stderr",
     "output_type": "stream",
     "text": [
      "/Users/ankitaroychoudhury/opt/anaconda3/lib/python3.7/site-packages/bokeh/models/plots.py:767: UserWarning: \n",
      "You are attempting to set `plot.legend.click_policy` on a plot that has zero legends added, this will have no effect.\n",
      "\n",
      "Before legend properties can be set, you must add a Legend explicitly, or call a glyph method with a legend parameter set.\n",
      "\n",
      "  warnings.warn(_LEGEND_EMPTY_WARNING % attr)\n",
      "/Users/ankitaroychoudhury/opt/anaconda3/lib/python3.7/site-packages/bokeh/models/plots.py:767: UserWarning: \n",
      "You are attempting to set `plot.legend.location` on a plot that has zero legends added, this will have no effect.\n",
      "\n",
      "Before legend properties can be set, you must add a Legend explicitly, or call a glyph method with a legend parameter set.\n",
      "\n",
      "  warnings.warn(_LEGEND_EMPTY_WARNING % attr)\n"
     ]
    },
    {
     "data": {
      "text/html": [
       "\n",
       "\n",
       "\n",
       "\n",
       "\n",
       "\n",
       "  <div class=\"bk-root\" id=\"60fb24b6-179b-4890-8806-a7b2a24669b2\" data-root-id=\"2360\"></div>\n"
      ]
     },
     "metadata": {},
     "output_type": "display_data"
    },
    {
     "data": {
      "application/javascript": [
       "(function(root) {\n",
       "  function embed_document(root) {\n",
       "    \n",
       "  var docs_json = {\"f3e7861e-73e9-48af-954f-19d306709f9b\":{\"roots\":{\"references\":[{\"attributes\":{\"below\":[{\"id\":\"2371\",\"type\":\"LinearAxis\"}],\"center\":[{\"id\":\"2375\",\"type\":\"Grid\"},{\"id\":\"2380\",\"type\":\"Grid\"}],\"left\":[{\"id\":\"2376\",\"type\":\"LinearAxis\"}],\"plot_height\":350,\"plot_width\":450,\"renderers\":[{\"id\":\"2397\",\"type\":\"GlyphRenderer\"}],\"title\":{\"id\":\"2361\",\"type\":\"Title\"},\"toolbar\":{\"id\":\"2387\",\"type\":\"Toolbar\"},\"x_range\":{\"id\":\"2363\",\"type\":\"DataRange1d\"},\"x_scale\":{\"id\":\"2367\",\"type\":\"LinearScale\"},\"y_range\":{\"id\":\"2365\",\"type\":\"DataRange1d\"},\"y_scale\":{\"id\":\"2369\",\"type\":\"LinearScale\"}},\"id\":\"2360\",\"subtype\":\"Figure\",\"type\":\"Plot\"},{\"attributes\":{\"bottom_units\":\"screen\",\"fill_alpha\":{\"value\":0.5},\"fill_color\":{\"value\":\"lightgrey\"},\"left_units\":\"screen\",\"level\":\"overlay\",\"line_alpha\":{\"value\":1.0},\"line_color\":{\"value\":\"black\"},\"line_dash\":[4,4],\"line_width\":{\"value\":2},\"render_mode\":\"css\",\"right_units\":\"screen\",\"top_units\":\"screen\"},\"id\":\"2504\",\"type\":\"BoxAnnotation\"},{\"attributes\":{\"ticker\":{\"id\":\"2372\",\"type\":\"BasicTicker\"}},\"id\":\"2375\",\"type\":\"Grid\"},{\"attributes\":{},\"id\":\"2506\",\"type\":\"Selection\"},{\"attributes\":{\"dimension\":1,\"ticker\":{\"id\":\"2377\",\"type\":\"BasicTicker\"}},\"id\":\"2380\",\"type\":\"Grid\"},{\"attributes\":{},\"id\":\"2500\",\"type\":\"BasicTickFormatter\"},{\"attributes\":{},\"id\":\"2502\",\"type\":\"BasicTickFormatter\"},{\"attributes\":{},\"id\":\"2377\",\"type\":\"BasicTicker\"},{\"attributes\":{\"axis_label\":\"concentration (nM)\",\"formatter\":{\"id\":\"2502\",\"type\":\"BasicTickFormatter\"},\"ticker\":{\"id\":\"2377\",\"type\":\"BasicTicker\"}},\"id\":\"2376\",\"type\":\"LinearAxis\"},{\"attributes\":{\"line_alpha\":0.1,\"line_color\":\"#1f77b4\",\"x\":{\"field\":\"x\"},\"y\":{\"field\":\"y\"}},\"id\":\"2396\",\"type\":\"Line\"},{\"attributes\":{\"source\":{\"id\":\"2394\",\"type\":\"ColumnDataSource\"}},\"id\":\"2398\",\"type\":\"CDSView\"},{\"attributes\":{\"active_drag\":\"auto\",\"active_inspect\":\"auto\",\"active_multi\":null,\"active_scroll\":\"auto\",\"active_tap\":\"auto\",\"tools\":[{\"id\":\"2381\",\"type\":\"PanTool\"},{\"id\":\"2382\",\"type\":\"WheelZoomTool\"},{\"id\":\"2383\",\"type\":\"BoxZoomTool\"},{\"id\":\"2384\",\"type\":\"SaveTool\"},{\"id\":\"2385\",\"type\":\"ResetTool\"},{\"id\":\"2386\",\"type\":\"HelpTool\"}]},\"id\":\"2387\",\"type\":\"Toolbar\"},{\"attributes\":{\"line_color\":\"#1f77b4\",\"x\":{\"field\":\"x\"},\"y\":{\"field\":\"y\"}},\"id\":\"2395\",\"type\":\"Line\"},{\"attributes\":{\"data_source\":{\"id\":\"2394\",\"type\":\"ColumnDataSource\"},\"glyph\":{\"id\":\"2395\",\"type\":\"Line\"},\"hover_glyph\":null,\"muted_glyph\":null,\"nonselection_glyph\":{\"id\":\"2396\",\"type\":\"Line\"},\"selection_glyph\":null,\"view\":{\"id\":\"2398\",\"type\":\"CDSView\"}},\"id\":\"2397\",\"type\":\"GlyphRenderer\"},{\"attributes\":{},\"id\":\"2381\",\"type\":\"PanTool\"},{\"attributes\":{\"callback\":null,\"data\":{\"x\":{\"__ndarray__\":\"AAAAAAAAAAAXqhByaWNCPxeqEHJpY1I/I/8YKx6VWz8XqhByaWNiP57UlM5D/GY/I/8YKx6Vaz/VlM5D/BZwPxeqEHJpY3I/W79SoNavdD+e1JTOQ/x2P+Hp1vywSHk/I/8YKx6Vez9mFFtZi+F9P9WUzkP8FoA/dp/v2jI9gT8XqhByaWOCP7q0MQmgiYM/W79SoNavhD/9yXM3DdaFP57UlM5D/IY/QN+1ZXoiiD/h6db8sEiJP4P095Pnboo/I/8YKx6Viz/FCTrCVLuMP2YUW1mL4Y0/Bx988MEHjz/VlM5D/BaQPyUaX48XqpA/dp/v2jI9kT/HJIAmTtCRPxeqEHJpY5I/aS+hvYT2kj+6tDEJoImTPws6wlS7HJQ/W79SoNavlD+sROPr8UKVP/3JczcN1pU/Tk8Egyhplj+e1JTOQ/yWP+9ZJRpfj5c/QN+1ZXoimD+QZEaxlbWYP+Hp1vywSJk/Mm9nSMzbmT+D9PeT526aP9N5iN8CAps/I/8YKx6Vmz90hKl2OSicP8UJOsJUu5w/FY/KDXBOnT9mFFtZi+GdP7eZ66SmdJ4/Bx988MEHnz9ZpAw83ZqfP9WUzkP8FqA/fdeW6YlgoD8lGl+PF6qgP85cJzWl86A/dp/v2jI9oT8f4reAwIahP8ckgCZO0KE/cGdIzNsZoj8XqhByaWOiP8Ds2Bf3rKI/aS+hvYT2oj8RcmljEkCjP7q0MQmgiaM/Yvf5ri3Toz8LOsJUuxykP7J8ivpIZqQ/W79SoNavpD8DAhtGZPmkP6xE4+vxQqU/VIerkX+MpT/9yXM3DdalP6UMPN2aH6Y/Tk8Egyhppj/1kcwotrKmP57UlM5D/KY/RhdddNFFpz/vWSUaX4+nP5ec7b/s2Kc/QN+1ZXoiqD/pIX4LCGyoP5BkRrGVtag/OacOVyP/qD/h6db8sEipP4osn6I+kqk/Mm9nSMzbqT/bsS/uWSWqP4P095Pnbqo/LDfAOXW4qj/TeYjfAgKrP3y8UIWQS6s/I/8YKx6Vqz/MQeHQq96rP3SEqXY5KKw/HcdxHMdxrD8=\",\"dtype\":\"float64\",\"shape\":[100]},\"y\":{\"__ndarray__\":\"AAAAAAAAJEA61Q+pe8GjP1Xodzn399Q/ThofTXzs7z/u2PSvedr+PygQaa5ySAdAhD7YhIqADkAo30me3l0SQF79zO1d/RRAKDglhMYuF0DFiD9i3QQZQGzs+PGakBpAhXCTHNrfG0CYurlJof0cQLWQHyTK8h1AyI6eqXTGHkBEK+KEXn4fQCT9bMyUDyBA+Py+p0pWIEAJJgtY1pQgQBawdY51zCBA39VjsSz+IEA56tJR0iohQAYuMjMYUyFAO6gXa5J3IUAUdeUBvZghQBP7MG4AtyFAitUCJLXSIUDCFDlwJuwhQKotlcOUAyJAj08tjTcZIkDFgFy6Pi0iQGl7NO7TPyJAaRtvgBtRIkCXMJFNNWEiQL2Vt2E9cCJA/ya8hkx+IkCWreW3eIsiQHfdC4XVlyJAYT4rZHSjIkB4zh72ZK4iQLcW9UK1uCJAXYdq6XHCIkDsXypMpssiQPWdtrVc1CJApFg3eJ7cIkBCCI4KdOQiQDNm1h3l6yJAQd8GtfjyIkD+yDM2tfkiQDumEHsgACNApCPl3j8GI0A4g0hLGAwjQIuzPkSuESNA3aKA8AUXI0CNc3IjIxwjQOm2eWQJISNAKR/q9bslI0DucBncPSojQLhcz+GRLiNAJAjXnboyI0Bq2Jt4ujYjQCluEq2TOiNAavUxUEg+I0CoXadR2kEjQPxm/39LRSNApNPeip1II0ASAqAF0ksjQAdaqGnqTiNAxZE+GOhRI0CyrGJczFQjQBDBqWyYVyNAwZyebE1aI0BdoTVu7FwjQI8IC3N2XyNAeO9cbexhI0DN6QRCT2QjQA80FcifZiNA9+y2yt5oI0CpBeoJDWsjQBb3vDorbSNAOTI6CDpvI0CtKyIVOnEjQAm0o/orcyNAOCMvShB1I0DxILSN53YjQBS++keyeCNAF1pv9XB6I0Dc53sLJHwjQHzysvrLfSNAF/XELWl/I0DHYLUJ/IAjQHNKe++EgiNAn9AGOwSEI0Bb7NdDeoUjQBWjB17nhiNAJSLS2EuII0A4E4gAqIkjQHtKAh78iiNAAHcad0iMI0A=\",\"dtype\":\"float64\",\"shape\":[100]}},\"selected\":{\"id\":\"2506\",\"type\":\"Selection\"},\"selection_policy\":{\"id\":\"2505\",\"type\":\"UnionRenderers\"}},\"id\":\"2394\",\"type\":\"ColumnDataSource\"},{\"attributes\":{},\"id\":\"2505\",\"type\":\"UnionRenderers\"},{\"attributes\":{\"text\":\"with ATP Synthase, Proton Pump, ATP Use\"},\"id\":\"2361\",\"type\":\"Title\"},{\"attributes\":{\"callback\":null},\"id\":\"2363\",\"type\":\"DataRange1d\"},{\"attributes\":{},\"id\":\"2382\",\"type\":\"WheelZoomTool\"},{\"attributes\":{\"overlay\":{\"id\":\"2504\",\"type\":\"BoxAnnotation\"}},\"id\":\"2383\",\"type\":\"BoxZoomTool\"},{\"attributes\":{},\"id\":\"2372\",\"type\":\"BasicTicker\"},{\"attributes\":{},\"id\":\"2384\",\"type\":\"SaveTool\"},{\"attributes\":{\"callback\":null},\"id\":\"2365\",\"type\":\"DataRange1d\"},{\"attributes\":{},\"id\":\"2385\",\"type\":\"ResetTool\"},{\"attributes\":{},\"id\":\"2367\",\"type\":\"LinearScale\"},{\"attributes\":{},\"id\":\"2386\",\"type\":\"HelpTool\"},{\"attributes\":{},\"id\":\"2369\",\"type\":\"LinearScale\"},{\"attributes\":{\"axis_label\":\"time (hrs)\",\"formatter\":{\"id\":\"2500\",\"type\":\"BasicTickFormatter\"},\"ticker\":{\"id\":\"2372\",\"type\":\"BasicTicker\"}},\"id\":\"2371\",\"type\":\"LinearAxis\"}],\"root_ids\":[\"2360\"]},\"title\":\"Bokeh Application\",\"version\":\"1.4.0\"}};\n",
       "  var render_items = [{\"docid\":\"f3e7861e-73e9-48af-954f-19d306709f9b\",\"roots\":{\"2360\":\"60fb24b6-179b-4890-8806-a7b2a24669b2\"}}];\n",
       "  root.Bokeh.embed.embed_items_notebook(docs_json, render_items);\n",
       "\n",
       "  }\n",
       "  if (root.Bokeh !== undefined) {\n",
       "    embed_document(root);\n",
       "  } else {\n",
       "    var attempts = 0;\n",
       "    var timer = setInterval(function(root) {\n",
       "      if (root.Bokeh !== undefined) {\n",
       "        clearInterval(timer);\n",
       "        embed_document(root);\n",
       "      } else {\n",
       "        attempts++;\n",
       "        if (attempts > 100) {\n",
       "          clearInterval(timer);\n",
       "          console.log(\"Bokeh: ERROR: Unable to run BokehJS code because BokehJS library is missing\");\n",
       "        }\n",
       "      }\n",
       "    }, 10, root)\n",
       "  }\n",
       "})(window);"
      ],
      "application/vnd.bokehjs_exec.v0+json": ""
     },
     "metadata": {
      "application/vnd.bokehjs_exec.v0+json": {
       "id": "2360"
      }
     },
     "output_type": "display_data"
    }
   ],
   "source": [
    "plt_timepoints = timepoints/60/60\n",
    "\n",
    "p3 = bokeh.plotting.figure(width = 450, height = 350, title = 'with ATP Synthase, Proton Pump, ATP Use',\n",
    "                          x_axis_label = 'time (hrs)',\n",
    "                          y_axis_label = 'concentration (nM)')\n",
    "plot_list = [ATP_id3, outside_H_id, inside_H_id, atp_synthase_b_protein_id, proton_pump_b_protein_id]\n",
    "plot_str = ['atp', 'outside_H', 'inside_H', 'bound atp synthase', 'bound proton pump']\n",
    "# for i,item in enumerate(plot_list):\n",
    "#     p3.line(plt_timepoints, results_everything[item], line_width = 2, legend_label = plot_str[i], color = palette[i])\n",
    "p3.line(plt_timepoints, results_everything[ATP_id3])\n",
    "p3.legend.click_policy = 'hide'\n",
    "p3.legend.location = 'center_right'\n",
    "bokeh.io.show(p3)"
   ]
  },
  {
   "cell_type": "markdown",
   "metadata": {},
   "source": [
    "## Compare with atpsyn + proton pump, only atpsyn, only atpuse (with txtl machinery)\n",
    "---"
   ]
  },
  {
   "cell_type": "code",
   "execution_count": 16,
   "metadata": {},
   "outputs": [
    {
     "data": {
      "text/html": [
       "\n",
       "\n",
       "\n",
       "\n",
       "\n",
       "\n",
       "  <div class=\"bk-root\" id=\"0ebdb4cf-9a4e-47d8-be0d-c3fe2889d27b\" data-root-id=\"1950\"></div>\n"
      ]
     },
     "metadata": {},
     "output_type": "display_data"
    },
    {
     "data": {
      "application/javascript": [
       "(function(root) {\n",
       "  function embed_document(root) {\n",
       "    \n",
       "  var docs_json = {\"5742dfd8-9e51-4467-b511-83c41a1b66b0\":{\"roots\":{\"references\":[{\"attributes\":{\"children\":[{\"id\":\"1677\",\"subtype\":\"Figure\",\"type\":\"Plot\"},{\"id\":\"1002\",\"subtype\":\"Figure\",\"type\":\"Plot\"},{\"id\":\"1097\",\"subtype\":\"Figure\",\"type\":\"Plot\"}]},\"id\":\"1950\",\"type\":\"Row\"},{\"attributes\":{\"callback\":null,\"data\":{\"x\":{\"__ndarray__\":\"AAAAAAAAAAAXqhByaWNCPxeqEHJpY1I/I/8YKx6VWz8XqhByaWNiP57UlM5D/GY/I/8YKx6Vaz/VlM5D/BZwPxeqEHJpY3I/W79SoNavdD+e1JTOQ/x2P+Hp1vywSHk/I/8YKx6Vez9mFFtZi+F9P9WUzkP8FoA/dp/v2jI9gT8XqhByaWOCP7q0MQmgiYM/W79SoNavhD/9yXM3DdaFP57UlM5D/IY/QN+1ZXoiiD/h6db8sEiJP4P095Pnboo/I/8YKx6Viz/FCTrCVLuMP2YUW1mL4Y0/Bx988MEHjz/VlM5D/BaQPyUaX48XqpA/dp/v2jI9kT/HJIAmTtCRPxeqEHJpY5I/aS+hvYT2kj+6tDEJoImTPws6wlS7HJQ/W79SoNavlD+sROPr8UKVP/3JczcN1pU/Tk8Egyhplj+e1JTOQ/yWP+9ZJRpfj5c/QN+1ZXoimD+QZEaxlbWYP+Hp1vywSJk/Mm9nSMzbmT+D9PeT526aP9N5iN8CAps/I/8YKx6Vmz90hKl2OSicP8UJOsJUu5w/FY/KDXBOnT9mFFtZi+GdP7eZ66SmdJ4/Bx988MEHnz9ZpAw83ZqfP9WUzkP8FqA/fdeW6YlgoD8lGl+PF6qgP85cJzWl86A/dp/v2jI9oT8f4reAwIahP8ckgCZO0KE/cGdIzNsZoj8XqhByaWOiP8Ds2Bf3rKI/aS+hvYT2oj8RcmljEkCjP7q0MQmgiaM/Yvf5ri3Toz8LOsJUuxykP7J8ivpIZqQ/W79SoNavpD8DAhtGZPmkP6xE4+vxQqU/VIerkX+MpT/9yXM3DdalP6UMPN2aH6Y/Tk8Egyhppj/1kcwotrKmP57UlM5D/KY/RhdddNFFpz/vWSUaX4+nP5ec7b/s2Kc/QN+1ZXoiqD/pIX4LCGyoP5BkRrGVtag/OacOVyP/qD/h6db8sEipP4osn6I+kqk/Mm9nSMzbqT/bsS/uWSWqP4P095Pnbqo/LDfAOXW4qj/TeYjfAgKrP3y8UIWQS6s/I/8YKx6Vqz/MQeHQq96rP3SEqXY5KKw/HcdxHMdxrD8=\",\"dtype\":\"float64\",\"shape\":[100]},\"y\":{\"__ndarray__\":\"AAAAAAAAAAA0hlp89aTUPnSIpQbq+AM/sty4VeREID8/AtfHBJ0yP6bBp0JMjUE/0rkPQYFMTT+wqclYhHtWPxddb5+WOWA/2wki8y9ZZj/KMUJh0qttP2nQ/9nwHnM/xXJlVKAMeD9MH2k10qJ9P+LJuUo38oE/skgkaMVphT96jdygwjiJP2vWbMCOX40/wHV2ZyLvkD9FM9ssYlqTP7iDpcpc8ZU/wE9PS9KzmD9WF4nCb6GbPyQmeRXSuZ4/BOZBNET+oD9cljwfi7SiPx8Fyq16f6Q/Jwl4tstepj/Kmky8M1KoP1IlEJRlWao/NtQg8xF0rD+w0F/u56GuP45SYrNKcbA/0W3lteOasT/ZGntHlc2yP9ndwJY1CbQ/QZlH2JpNtT/Ffi9im5q2PzzoGcQN8Lc/rSW428hNuT+aOFnmo7O6P0nz2I92Ibw/L1My/xiXvT8ftgDhYxS/P54zFjiYTMA/DM57PqwSwT9KnlA5W9zBP9Ds3q2SqcI/d/e9ckB6wz9L6PqwUk7EPxIb0uS3JcU/bVwJ3l4Axj+ek/q/Nt7GP4shWAEvv8c/Yz6xazejyD95EcMaQIrJPyw6oHs5dMo/s5ivSxRhyz+iA6qXwVDMP/je3bkyQ80/J3PDWVk4zj860OFpJzDPP2loTZNHFdA/UZVkisGT0D+SLB4AexPRP/UCCX1tlNE/+6adq5IW0j8tSIxX5JnSP8RH8GxcHtM/JbON9/Sj0z+XBw0iqCrUP5ZeQTVwstQ/IdNul0c71T825ZLLKMXVPyjhr3AOUNY/YSIbQfPb1j+00s8R0mjXP4uSxtGl9tc/sJ9QiWmF2D9w5HZZGBXZP2MnXXutpdk/B5KoPyQ32j9JGfINeMnaP2mDXGSkXNs/3XHk1qTw2z8qMz8OdYXcP1jpq8cQG90/uv7a1HOx3T/iPNEcmkjeP+Y16Zh/4N4/wpXvVCB53z9yHJw3PAngP7YkIgxCVuA/hxIbyZ+j4D+coSmYU/HgPzWBVqtbP+E/ktHjPLaN4T94JRSPYdzhP4rY+OtbK+I/XxtbpaN64j8=\",\"dtype\":\"float64\",\"shape\":[100]}},\"selected\":{\"id\":\"1224\",\"type\":\"Selection\"},\"selection_policy\":{\"id\":\"1223\",\"type\":\"UnionRenderers\"}},\"id\":\"1079\",\"type\":\"ColumnDataSource\"},{\"attributes\":{\"active_drag\":\"auto\",\"active_inspect\":\"auto\",\"active_multi\":null,\"active_scroll\":\"auto\",\"active_tap\":\"auto\",\"tools\":[{\"id\":\"1023\",\"type\":\"PanTool\"},{\"id\":\"1024\",\"type\":\"WheelZoomTool\"},{\"id\":\"1025\",\"type\":\"BoxZoomTool\"},{\"id\":\"1026\",\"type\":\"SaveTool\"},{\"id\":\"1027\",\"type\":\"ResetTool\"},{\"id\":\"1028\",\"type\":\"HelpTool\"}]},\"id\":\"1029\",\"type\":\"Toolbar\"},{\"attributes\":{},\"id\":\"1076\",\"type\":\"UnionRenderers\"},{\"attributes\":{},\"id\":\"1023\",\"type\":\"PanTool\"},{\"attributes\":{},\"id\":\"1077\",\"type\":\"Selection\"},{\"attributes\":{\"overlay\":{\"id\":\"1046\",\"type\":\"BoxAnnotation\"}},\"id\":\"1025\",\"type\":\"BoxZoomTool\"},{\"attributes\":{},\"id\":\"1026\",\"type\":\"SaveTool\"},{\"attributes\":{\"line_color\":\"#9367bc\",\"line_width\":2,\"x\":{\"field\":\"x\"},\"y\":{\"field\":\"y\"}},\"id\":\"1080\",\"type\":\"Line\"},{\"attributes\":{},\"id\":\"1027\",\"type\":\"ResetTool\"},{\"attributes\":{\"line_alpha\":0.1,\"line_color\":\"#1f77b4\",\"line_width\":2,\"x\":{\"field\":\"x\"},\"y\":{\"field\":\"y\"}},\"id\":\"1081\",\"type\":\"Line\"},{\"attributes\":{},\"id\":\"1028\",\"type\":\"HelpTool\"},{\"attributes\":{\"data_source\":{\"id\":\"1079\",\"type\":\"ColumnDataSource\"},\"glyph\":{\"id\":\"1080\",\"type\":\"Line\"},\"hover_glyph\":null,\"muted_glyph\":null,\"nonselection_glyph\":{\"id\":\"1081\",\"type\":\"Line\"},\"selection_glyph\":null,\"view\":{\"id\":\"1083\",\"type\":\"CDSView\"}},\"id\":\"1082\",\"type\":\"GlyphRenderer\"},{\"attributes\":{\"below\":[{\"id\":\"1108\",\"type\":\"LinearAxis\"}],\"center\":[{\"id\":\"1112\",\"type\":\"Grid\"},{\"id\":\"1117\",\"type\":\"Grid\"},{\"id\":\"1142\",\"type\":\"Legend\"}],\"left\":[{\"id\":\"1113\",\"type\":\"LinearAxis\"}],\"plot_height\":350,\"plot_width\":450,\"renderers\":[{\"id\":\"1134\",\"type\":\"GlyphRenderer\"}],\"title\":{\"id\":\"1098\",\"type\":\"Title\"},\"toolbar\":{\"id\":\"1124\",\"type\":\"Toolbar\"},\"x_range\":{\"id\":\"1100\",\"type\":\"DataRange1d\"},\"x_scale\":{\"id\":\"1104\",\"type\":\"LinearScale\"},\"y_range\":{\"id\":\"1102\",\"type\":\"DataRange1d\"},\"y_scale\":{\"id\":\"1106\",\"type\":\"LinearScale\"}},\"id\":\"1097\",\"subtype\":\"Figure\",\"type\":\"Plot\"},{\"attributes\":{\"source\":{\"id\":\"1079\",\"type\":\"ColumnDataSource\"}},\"id\":\"1083\",\"type\":\"CDSView\"},{\"attributes\":{\"data_source\":{\"id\":\"1036\",\"type\":\"ColumnDataSource\"},\"glyph\":{\"id\":\"1037\",\"type\":\"Line\"},\"hover_glyph\":null,\"muted_glyph\":null,\"nonselection_glyph\":{\"id\":\"1038\",\"type\":\"Line\"},\"selection_glyph\":null,\"view\":{\"id\":\"1040\",\"type\":\"CDSView\"}},\"id\":\"1039\",\"type\":\"GlyphRenderer\"},{\"attributes\":{},\"id\":\"1094\",\"type\":\"UnionRenderers\"},{\"attributes\":{\"line_alpha\":0.1,\"line_color\":\"#1f77b4\",\"line_width\":2,\"x\":{\"field\":\"x\"},\"y\":{\"field\":\"y\"}},\"id\":\"1038\",\"type\":\"Line\"},{\"attributes\":{\"label\":{\"value\":\"bound atp synthase\"},\"renderers\":[{\"id\":\"1082\",\"type\":\"GlyphRenderer\"}]},\"id\":\"1096\",\"type\":\"LegendItem\"},{\"attributes\":{},\"id\":\"1095\",\"type\":\"Selection\"},{\"attributes\":{\"line_color\":\"#1f77b3\",\"line_width\":2,\"x\":{\"field\":\"x\"},\"y\":{\"field\":\"y\"}},\"id\":\"1037\",\"type\":\"Line\"},{\"attributes\":{\"text\":\"only ATP Use\"},\"id\":\"1098\",\"type\":\"Title\"},{\"attributes\":{\"callback\":null},\"id\":\"1100\",\"type\":\"DataRange1d\"},{\"attributes\":{\"source\":{\"id\":\"1036\",\"type\":\"ColumnDataSource\"}},\"id\":\"1040\",\"type\":\"CDSView\"},{\"attributes\":{},\"id\":\"1042\",\"type\":\"BasicTickFormatter\"},{\"attributes\":{\"click_policy\":\"hide\",\"items\":[{\"id\":\"1048\",\"type\":\"LegendItem\"},{\"id\":\"1062\",\"type\":\"LegendItem\"},{\"id\":\"1078\",\"type\":\"LegendItem\"},{\"id\":\"1096\",\"type\":\"LegendItem\"}],\"location\":\"bottom_right\"},\"id\":\"1047\",\"type\":\"Legend\"},{\"attributes\":{\"callback\":null},\"id\":\"1102\",\"type\":\"DataRange1d\"},{\"attributes\":{},\"id\":\"1044\",\"type\":\"BasicTickFormatter\"},{\"attributes\":{\"label\":{\"value\":\"outside_H\"},\"renderers\":[{\"id\":\"1052\",\"type\":\"GlyphRenderer\"}]},\"id\":\"1062\",\"type\":\"LegendItem\"},{\"attributes\":{\"below\":[{\"id\":\"1013\",\"type\":\"LinearAxis\"}],\"center\":[{\"id\":\"1017\",\"type\":\"Grid\"},{\"id\":\"1022\",\"type\":\"Grid\"},{\"id\":\"1047\",\"type\":\"Legend\"}],\"left\":[{\"id\":\"1018\",\"type\":\"LinearAxis\"}],\"plot_height\":350,\"plot_width\":450,\"renderers\":[{\"id\":\"1039\",\"type\":\"GlyphRenderer\"},{\"id\":\"1052\",\"type\":\"GlyphRenderer\"},{\"id\":\"1066\",\"type\":\"GlyphRenderer\"},{\"id\":\"1082\",\"type\":\"GlyphRenderer\"}],\"title\":{\"id\":\"1003\",\"type\":\"Title\"},\"toolbar\":{\"id\":\"1029\",\"type\":\"Toolbar\"},\"x_range\":{\"id\":\"1005\",\"type\":\"DataRange1d\"},\"x_scale\":{\"id\":\"1009\",\"type\":\"LinearScale\"},\"y_range\":{\"id\":\"1007\",\"type\":\"DataRange1d\"},\"y_scale\":{\"id\":\"1011\",\"type\":\"LinearScale\"}},\"id\":\"1002\",\"subtype\":\"Figure\",\"type\":\"Plot\"},{\"attributes\":{},\"id\":\"1104\",\"type\":\"LinearScale\"},{\"attributes\":{},\"id\":\"1106\",\"type\":\"LinearScale\"},{\"attributes\":{\"label\":{\"value\":\"atp\"},\"renderers\":[{\"id\":\"1039\",\"type\":\"GlyphRenderer\"}]},\"id\":\"1048\",\"type\":\"LegendItem\"},{\"attributes\":{\"callback\":null,\"data\":{\"x\":{\"__ndarray__\":\"AAAAAAAAAAAXqhByaWNCPxeqEHJpY1I/I/8YKx6VWz8XqhByaWNiP57UlM5D/GY/I/8YKx6Vaz/VlM5D/BZwPxeqEHJpY3I/W79SoNavdD+e1JTOQ/x2P+Hp1vywSHk/I/8YKx6Vez9mFFtZi+F9P9WUzkP8FoA/dp/v2jI9gT8XqhByaWOCP7q0MQmgiYM/W79SoNavhD/9yXM3DdaFP57UlM5D/IY/QN+1ZXoiiD/h6db8sEiJP4P095Pnboo/I/8YKx6Viz/FCTrCVLuMP2YUW1mL4Y0/Bx988MEHjz/VlM5D/BaQPyUaX48XqpA/dp/v2jI9kT/HJIAmTtCRPxeqEHJpY5I/aS+hvYT2kj+6tDEJoImTPws6wlS7HJQ/W79SoNavlD+sROPr8UKVP/3JczcN1pU/Tk8Egyhplj+e1JTOQ/yWP+9ZJRpfj5c/QN+1ZXoimD+QZEaxlbWYP+Hp1vywSJk/Mm9nSMzbmT+D9PeT526aP9N5iN8CAps/I/8YKx6Vmz90hKl2OSicP8UJOsJUu5w/FY/KDXBOnT9mFFtZi+GdP7eZ66SmdJ4/Bx988MEHnz9ZpAw83ZqfP9WUzkP8FqA/fdeW6YlgoD8lGl+PF6qgP85cJzWl86A/dp/v2jI9oT8f4reAwIahP8ckgCZO0KE/cGdIzNsZoj8XqhByaWOiP8Ds2Bf3rKI/aS+hvYT2oj8RcmljEkCjP7q0MQmgiaM/Yvf5ri3Toz8LOsJUuxykP7J8ivpIZqQ/W79SoNavpD8DAhtGZPmkP6xE4+vxQqU/VIerkX+MpT/9yXM3DdalP6UMPN2aH6Y/Tk8Egyhppj/1kcwotrKmP57UlM5D/KY/RhdddNFFpz/vWSUaX4+nP5ec7b/s2Kc/QN+1ZXoiqD/pIX4LCGyoP5BkRrGVtag/OacOVyP/qD/h6db8sEipP4osn6I+kqk/Mm9nSMzbqT/bsS/uWSWqP4P095Pnbqo/LDfAOXW4qj/TeYjfAgKrP3y8UIWQS6s/I/8YKx6Vqz/MQeHQq96rP3SEqXY5KKw/HcdxHMdxrD8=\",\"dtype\":\"float64\",\"shape\":[100]},\"y\":{\"__ndarray__\":\"AAAAAAAAJEDSUoSWvB4iQJQbwEAetwFAhMY/VAk8dT9iuIyP1/8XPgsNAoUrjKm9Lc5ZogGZ9b08IynM0IMBvqF2kG0ZjhU+AO9uD4n7KL7LnJ5GZNbwPbRue2fXVjG+TnYR5DhCAb6fLBhEj24ePnAU5iw9Aws+N1dtge2ZFL6ZAcduZA4lvqVuQHq7PKc9mFbXq6QXjD0xnKAjucGAvYTzIChNooq94czKls7x4b0i+jj5lULQPZh/r92eo+m9ABtoX0K/172IuT8ajcyDvagLa+uJL0I9kHemyg0voT07Y8DhlrmxPSxLUZyvxYu9XEysbfnRwr1MrWjNmVjivQArq2GFVHC90Jr0Xa3MAr6kd9RA1BkBPvQ4BnO6COA9i07hVo5SJr7RYMn5DikGvoh/R+lXUiK+w8cfDJxTCT6ApDAAdDKdvbLMCowN/RQ+h8F60NJjKj4+yNIo3zkAProLRwoGhSQ+5QDzJg87Lr5V7e7PqSo/vmAG18gVcc+9sYWw8VXBNT7UPF4GsYL0Pb2Q9lEGSMs9PipvY2cRxL3w/ruAxJHAPV/5Dl/V/SG+AGh6ukYzCr6QtG4BSWzTPaLQu/HRu/S9T8dZOIi95D1IWvEQZ6V8vZAYEHm4vm49KE8hK/ZzcT2LzsmjJk5hPWiinFOiyTg9In9MCJMuUj0YCVo/zBpHPVDQS2KMMEk9cjBAaq7haz1nrtd/Gr96PSvcU0h7nnc9XTp/P2l+gL2RbLhZHT90PSDaDbScwFg9KAw7y8Whjj1knIo3DCGTva+QZtoNwJs9aB7/1v+wmb0ANiqGYoWqvdCBVPpc5tk9kOxo/Ar+/L2Q/MygYp4cPnr/9pzINTu+ROOFFfW1Hj43mddFm3XAPXjMvFgErmO9hMvumZ7xI71IRlgBH1M2vTB+06HCXje9d51Jr3C3Zr2I6g3nRUdhPUgvw+YYjzM92tEvi4RjYL0/U20/XMZXPcebfpDswiG9SoeeqpTqNb1o1agLhO8rPQB3lnXorAG9qrBg/Mqvdj0AAHjVLABlPeAUsie9qmA9wFv3QGpxpj0=\",\"dtype\":\"float64\",\"shape\":[100]}},\"selected\":{\"id\":\"1077\",\"type\":\"Selection\"},\"selection_policy\":{\"id\":\"1076\",\"type\":\"UnionRenderers\"}},\"id\":\"1049\",\"type\":\"ColumnDataSource\"},{\"attributes\":{\"axis_label\":\"time (hrs)\",\"formatter\":{\"id\":\"1137\",\"type\":\"BasicTickFormatter\"},\"ticker\":{\"id\":\"1109\",\"type\":\"BasicTicker\"}},\"id\":\"1108\",\"type\":\"LinearAxis\"},{\"attributes\":{\"dimension\":1,\"ticker\":{\"id\":\"1114\",\"type\":\"BasicTicker\"}},\"id\":\"1117\",\"type\":\"Grid\"},{\"attributes\":{\"text\":\"with ATP Synthase, ATP Use\"},\"id\":\"1003\",\"type\":\"Title\"},{\"attributes\":{\"line_color\":\"#ff7e0e\",\"line_width\":2,\"x\":{\"field\":\"x\"},\"y\":{\"field\":\"y\"}},\"id\":\"1050\",\"type\":\"Line\"},{\"attributes\":{},\"id\":\"1109\",\"type\":\"BasicTicker\"},{\"attributes\":{\"callback\":null,\"data\":{\"x\":{\"__ndarray__\":\"AAAAAAAAAAAXqhByaWNCPxeqEHJpY1I/I/8YKx6VWz8XqhByaWNiP57UlM5D/GY/I/8YKx6Vaz/VlM5D/BZwPxeqEHJpY3I/W79SoNavdD+e1JTOQ/x2P+Hp1vywSHk/I/8YKx6Vez9mFFtZi+F9P9WUzkP8FoA/dp/v2jI9gT8XqhByaWOCP7q0MQmgiYM/W79SoNavhD/9yXM3DdaFP57UlM5D/IY/QN+1ZXoiiD/h6db8sEiJP4P095Pnboo/I/8YKx6Viz/FCTrCVLuMP2YUW1mL4Y0/Bx988MEHjz/VlM5D/BaQPyUaX48XqpA/dp/v2jI9kT/HJIAmTtCRPxeqEHJpY5I/aS+hvYT2kj+6tDEJoImTPws6wlS7HJQ/W79SoNavlD+sROPr8UKVP/3JczcN1pU/Tk8Egyhplj+e1JTOQ/yWP+9ZJRpfj5c/QN+1ZXoimD+QZEaxlbWYP+Hp1vywSJk/Mm9nSMzbmT+D9PeT526aP9N5iN8CAps/I/8YKx6Vmz90hKl2OSicP8UJOsJUu5w/FY/KDXBOnT9mFFtZi+GdP7eZ66SmdJ4/Bx988MEHnz9ZpAw83ZqfP9WUzkP8FqA/fdeW6YlgoD8lGl+PF6qgP85cJzWl86A/dp/v2jI9oT8f4reAwIahP8ckgCZO0KE/cGdIzNsZoj8XqhByaWOiP8Ds2Bf3rKI/aS+hvYT2oj8RcmljEkCjP7q0MQmgiaM/Yvf5ri3Toz8LOsJUuxykP7J8ivpIZqQ/W79SoNavpD8DAhtGZPmkP6xE4+vxQqU/VIerkX+MpT/9yXM3DdalP6UMPN2aH6Y/Tk8Egyhppj/1kcwotrKmP57UlM5D/KY/RhdddNFFpz/vWSUaX4+nP5ec7b/s2Kc/QN+1ZXoiqD/pIX4LCGyoP5BkRrGVtag/OacOVyP/qD/h6db8sEipP4osn6I+kqk/Mm9nSMzbqT/bsS/uWSWqP4P095Pnbqo/LDfAOXW4qj/TeYjfAgKrP3y8UIWQS6s/I/8YKx6Vqz/MQeHQq96rP3SEqXY5KKw/HcdxHMdxrD8=\",\"dtype\":\"float64\",\"shape\":[100]},\"y\":{\"__ndarray__\":\"AAAAAAAAAABW1LqXNhTuP2Hyn99wJB9AGHjVflj9I0AjAPT///8jQJoZAAAAACRALrMCAAAAJEABYQQAAAAkQAA59f///yNAl/sYAAAAJEBC5f3///8jQL6tIgAAACRAnVAEAAAAJEDIyPD///8jQEE/+f///yNAB00KAAAAJEB2DhUAAAAkQNTo/////yNAC/n/////I0BBBAAAAAAkQLkGAAAAACRALh8BAAAAJED8ff////8jQEuaAQAAACRADL4AAAAAJEAGBQAAAAAkQMn//////yNA4e7/////I0Ce3P////8jQAMHAAAAACRAWksAAAAAJECbJQEAAAAkQB0CAAAAACRAPrMEAAAAJECeufv///8jQIj//v///yNAoVIWAAAAJEBWigUAAAAkQGpSEgAAACRAKqv5////I0CqDgAAAAAkQIqB9f///yNAP5zl////I0Ca8fv///8jQAt76////yNAHzseAAAAJEBlVT4AAAAkQNd9AAAAACRAZn3U////I0C8b/3///8jQPKS/////yNAWFAAAAAAJEDLvf////8jQOf9EQAAACRA5YwGAAAAJECxZP////8jQI6XAgAAACRAO7T+////I0CoAwAAAAAkQCb+/////yNA4/3/////I0D8/v////8jQN///////yNAgP//////I0C0//////8jQKz//////yNAU/7/////I0C5/P////8jQBz9/////yNAMAQAAAAAJECJ/f////8jQEv//////yNAafj/////I0CiCQAAAAAkQDHy/////yNA6gwAAAAAJECXGgAAAAAkQN4w/////yNA058DAAAAJEDgsPH///8jQKJrNgAAACRAF6Xw////I0A9vv////8jQE8BAAAAACRAKAAAAAAAJEBBAAAAAAAkQEIAAAAAACRAfwEAAAAAJED//v////8jQOz//////yNAGQEAAAAAJEBV//////8jQCUAAAAAACRAQAAAAAAAJED4//////8jQBgAAAAAACRAPv3/////I0DE/v////8jQAn//////yNAo+n/////I0A=\",\"dtype\":\"float64\",\"shape\":[100]}},\"selected\":{\"id\":\"1095\",\"type\":\"Selection\"},\"selection_policy\":{\"id\":\"1094\",\"type\":\"UnionRenderers\"}},\"id\":\"1063\",\"type\":\"ColumnDataSource\"},{\"attributes\":{\"axis_label\":\"time (hrs)\",\"formatter\":{\"id\":\"1042\",\"type\":\"BasicTickFormatter\"},\"ticker\":{\"id\":\"1014\",\"type\":\"BasicTicker\"}},\"id\":\"1013\",\"type\":\"LinearAxis\"},{\"attributes\":{\"ticker\":{\"id\":\"1109\",\"type\":\"BasicTicker\"}},\"id\":\"1112\",\"type\":\"Grid\"},{\"attributes\":{},\"id\":\"1011\",\"type\":\"LinearScale\"},{\"attributes\":{\"line_alpha\":0.1,\"line_color\":\"#1f77b4\",\"line_width\":2,\"x\":{\"field\":\"x\"},\"y\":{\"field\":\"y\"}},\"id\":\"1051\",\"type\":\"Line\"},{\"attributes\":{},\"id\":\"1114\",\"type\":\"BasicTicker\"},{\"attributes\":{\"data_source\":{\"id\":\"1049\",\"type\":\"ColumnDataSource\"},\"glyph\":{\"id\":\"1050\",\"type\":\"Line\"},\"hover_glyph\":null,\"muted_glyph\":null,\"nonselection_glyph\":{\"id\":\"1051\",\"type\":\"Line\"},\"selection_glyph\":null,\"view\":{\"id\":\"1053\",\"type\":\"CDSView\"}},\"id\":\"1052\",\"type\":\"GlyphRenderer\"},{\"attributes\":{\"dimension\":1,\"ticker\":{\"id\":\"1019\",\"type\":\"BasicTicker\"}},\"id\":\"1022\",\"type\":\"Grid\"},{\"attributes\":{\"axis_label\":\"concentration (nM)\",\"formatter\":{\"id\":\"1139\",\"type\":\"BasicTickFormatter\"},\"ticker\":{\"id\":\"1114\",\"type\":\"BasicTicker\"}},\"id\":\"1113\",\"type\":\"LinearAxis\"},{\"attributes\":{\"line_color\":\"#1f77b3\",\"line_width\":2,\"x\":{\"field\":\"x\"},\"y\":{\"field\":\"y\"}},\"id\":\"1132\",\"type\":\"Line\"},{\"attributes\":{\"source\":{\"id\":\"1049\",\"type\":\"ColumnDataSource\"}},\"id\":\"1053\",\"type\":\"CDSView\"},{\"attributes\":{\"callback\":null,\"data\":{\"x\":{\"__ndarray__\":\"AAAAAAAAAAAXqhByaWNCPxeqEHJpY1I/I/8YKx6VWz8XqhByaWNiP57UlM5D/GY/I/8YKx6Vaz/VlM5D/BZwPxeqEHJpY3I/W79SoNavdD+e1JTOQ/x2P+Hp1vywSHk/I/8YKx6Vez9mFFtZi+F9P9WUzkP8FoA/dp/v2jI9gT8XqhByaWOCP7q0MQmgiYM/W79SoNavhD/9yXM3DdaFP57UlM5D/IY/QN+1ZXoiiD/h6db8sEiJP4P095Pnboo/I/8YKx6Viz/FCTrCVLuMP2YUW1mL4Y0/Bx988MEHjz/VlM5D/BaQPyUaX48XqpA/dp/v2jI9kT/HJIAmTtCRPxeqEHJpY5I/aS+hvYT2kj+6tDEJoImTPws6wlS7HJQ/W79SoNavlD+sROPr8UKVP/3JczcN1pU/Tk8Egyhplj+e1JTOQ/yWP+9ZJRpfj5c/QN+1ZXoimD+QZEaxlbWYP+Hp1vywSJk/Mm9nSMzbmT+D9PeT526aP9N5iN8CAps/I/8YKx6Vmz90hKl2OSicP8UJOsJUu5w/FY/KDXBOnT9mFFtZi+GdP7eZ66SmdJ4/Bx988MEHnz9ZpAw83ZqfP9WUzkP8FqA/fdeW6YlgoD8lGl+PF6qgP85cJzWl86A/dp/v2jI9oT8f4reAwIahP8ckgCZO0KE/cGdIzNsZoj8XqhByaWOiP8Ds2Bf3rKI/aS+hvYT2oj8RcmljEkCjP7q0MQmgiaM/Yvf5ri3Toz8LOsJUuxykP7J8ivpIZqQ/W79SoNavpD8DAhtGZPmkP6xE4+vxQqU/VIerkX+MpT/9yXM3DdalP6UMPN2aH6Y/Tk8Egyhppj/1kcwotrKmP57UlM5D/KY/RhdddNFFpz/vWSUaX4+nP5ec7b/s2Kc/QN+1ZXoiqD/pIX4LCGyoP5BkRrGVtag/OacOVyP/qD/h6db8sEipP4osn6I+kqk/Mm9nSMzbqT/bsS/uWSWqP4P095Pnbqo/LDfAOXW4qj/TeYjfAgKrP3y8UIWQS6s/I/8YKx6Vqz/MQeHQq96rP3SEqXY5KKw/HcdxHMdxrD8=\",\"dtype\":\"float64\",\"shape\":[100]},\"y\":{\"__ndarray__\":\"AAAAAAAAJECbJdxgCuU6P2/7RgnanFE+4Lno+JBF6r0BZEK+BH20vas7VJ62Squ9rF5HgMc2m71hgXXU9whlvR9aE7C1z129fbE7t3uNUb1nI5D5Bi01vbW7+tS6ChO9sK9/wIl6Er2powSsWOoRvaOXiZcnWhG9nYsOg/bJEL2Wf5NuxTkQvSDnMLQoUw+9Fc86i8YyDr0It0RiZBINvfueTjkC8gu974ZYEKDRCr3jbmLnPbEJvddWbL7bkAi9yz52lXlwB72+JoBsF1AGvbMOikO1LwW9pvaTGlMPBL2a3p3x8O4CvY7Gp8iOzgG9ga6xnyyuAL3qLHftlBv/vND8ipvQ2vy8uMyeSQya+ryfnLL3R1n4vIdsxqWDGPa8bTzaU7/X87xVDO4B+5bxvHm4A2BtrO68R1grvOQq6rwW+FIYXKnlvOWXenTTJ+G8Zm9EoZVM2bwDr5NZhEnQvIK6i0fMGb28nKrzg49NjLxTZVlUmHmLvAsgvyShpYq8xNok9anRibx8lYrFsv2IvDRQ8JW7KYi86wpWZsRVh7yjxbs2zYGGvFuAIQfWrYW8EzuH197ZhLzK9eyn5wWEvIKwUnjwMYO8Omu4SPldgrzyJR4ZAoqBvKrgg+kKtoC8xDbTcyfEf7wzrJ4UORx+vKMharVKdHy8E5c1VlzMeryCDAH3bSR5vPKBzJd/fHe8YfeXOJHUdbzRbGPZoix0vEDiLnq0hHK8r1f6GsbccLw/mot3r2luvB6FIrnSGWu8/m+5+vXJZ7zdWlA8GXpkvLtF5308KmG8NWH8fr+0W7zzNioCBhVVvGQZsAqZ6ky8wYkXIkxWP7zqgju7mF0TvF/2ewi37AS87v0vPBjdBLx9BeRvec0EvA0NmKPavQS8nBRM1zuuBLwrHAALnZ4EvLojtD7+jgS8Sytocl9/BLzaMhymwG8EvGk60NkhYAS8+EGEDYNQBLyISThB5EAEvBdR7HRFMQS8pligqKYhBLw1YFTcBxIEvMZnCBBpAgS8VW+8Q8ryA7zkdnB3K+MDvHN+JKuM0wO8A4bY3u3DA7w=\",\"dtype\":\"float64\",\"shape\":[100]}},\"selected\":{\"id\":\"1227\",\"type\":\"Selection\"},\"selection_policy\":{\"id\":\"1226\",\"type\":\"UnionRenderers\"}},\"id\":\"1131\",\"type\":\"ColumnDataSource\"},{\"attributes\":{},\"id\":\"1060\",\"type\":\"UnionRenderers\"},{\"attributes\":{\"data_source\":{\"id\":\"1131\",\"type\":\"ColumnDataSource\"},\"glyph\":{\"id\":\"1132\",\"type\":\"Line\"},\"hover_glyph\":null,\"muted_glyph\":null,\"nonselection_glyph\":{\"id\":\"1133\",\"type\":\"Line\"},\"selection_glyph\":null,\"view\":{\"id\":\"1135\",\"type\":\"CDSView\"}},\"id\":\"1134\",\"type\":\"GlyphRenderer\"},{\"attributes\":{},\"id\":\"1014\",\"type\":\"BasicTicker\"},{\"attributes\":{},\"id\":\"1735\",\"type\":\"UnionRenderers\"},{\"attributes\":{},\"id\":\"1061\",\"type\":\"Selection\"},{\"attributes\":{\"ticker\":{\"id\":\"1014\",\"type\":\"BasicTicker\"}},\"id\":\"1017\",\"type\":\"Grid\"},{\"attributes\":{\"callback\":null},\"id\":\"1005\",\"type\":\"DataRange1d\"},{\"attributes\":{\"line_alpha\":0.1,\"line_color\":\"#1f77b4\",\"line_width\":2,\"x\":{\"field\":\"x\"},\"y\":{\"field\":\"y\"}},\"id\":\"1133\",\"type\":\"Line\"},{\"attributes\":{\"line_color\":\"#2ba02b\",\"line_width\":2,\"x\":{\"field\":\"x\"},\"y\":{\"field\":\"y\"}},\"id\":\"1064\",\"type\":\"Line\"},{\"attributes\":{},\"id\":\"1019\",\"type\":\"BasicTicker\"},{\"attributes\":{},\"id\":\"1118\",\"type\":\"PanTool\"},{\"attributes\":{\"bottom_units\":\"screen\",\"fill_alpha\":{\"value\":0.5},\"fill_color\":{\"value\":\"lightgrey\"},\"left_units\":\"screen\",\"level\":\"overlay\",\"line_alpha\":{\"value\":1.0},\"line_color\":{\"value\":\"black\"},\"line_dash\":[4,4],\"line_width\":{\"value\":2},\"render_mode\":\"css\",\"right_units\":\"screen\",\"top_units\":\"screen\"},\"id\":\"1046\",\"type\":\"BoxAnnotation\"},{\"attributes\":{\"axis_label\":\"concentration (nM)\",\"formatter\":{\"id\":\"1044\",\"type\":\"BasicTickFormatter\"},\"ticker\":{\"id\":\"1019\",\"type\":\"BasicTicker\"}},\"id\":\"1018\",\"type\":\"LinearAxis\"},{\"attributes\":{\"label\":{\"value\":\"inside_H\"},\"renderers\":[{\"id\":\"1066\",\"type\":\"GlyphRenderer\"}]},\"id\":\"1078\",\"type\":\"LegendItem\"},{\"attributes\":{},\"id\":\"1119\",\"type\":\"WheelZoomTool\"},{\"attributes\":{\"line_alpha\":0.1,\"line_color\":\"#1f77b4\",\"line_width\":2,\"x\":{\"field\":\"x\"},\"y\":{\"field\":\"y\"}},\"id\":\"1065\",\"type\":\"Line\"},{\"attributes\":{},\"id\":\"1122\",\"type\":\"ResetTool\"},{\"attributes\":{\"overlay\":{\"id\":\"1141\",\"type\":\"BoxAnnotation\"}},\"id\":\"1120\",\"type\":\"BoxZoomTool\"},{\"attributes\":{\"data_source\":{\"id\":\"1063\",\"type\":\"ColumnDataSource\"},\"glyph\":{\"id\":\"1064\",\"type\":\"Line\"},\"hover_glyph\":null,\"muted_glyph\":null,\"nonselection_glyph\":{\"id\":\"1065\",\"type\":\"Line\"},\"selection_glyph\":null,\"view\":{\"id\":\"1067\",\"type\":\"CDSView\"}},\"id\":\"1066\",\"type\":\"GlyphRenderer\"},{\"attributes\":{},\"id\":\"1121\",\"type\":\"SaveTool\"},{\"attributes\":{\"callback\":null,\"data\":{\"x\":{\"__ndarray__\":\"AAAAAAAAAAAXqhByaWNCPxeqEHJpY1I/I/8YKx6VWz8XqhByaWNiP57UlM5D/GY/I/8YKx6Vaz/VlM5D/BZwPxeqEHJpY3I/W79SoNavdD+e1JTOQ/x2P+Hp1vywSHk/I/8YKx6Vez9mFFtZi+F9P9WUzkP8FoA/dp/v2jI9gT8XqhByaWOCP7q0MQmgiYM/W79SoNavhD/9yXM3DdaFP57UlM5D/IY/QN+1ZXoiiD/h6db8sEiJP4P095Pnboo/I/8YKx6Viz/FCTrCVLuMP2YUW1mL4Y0/Bx988MEHjz/VlM5D/BaQPyUaX48XqpA/dp/v2jI9kT/HJIAmTtCRPxeqEHJpY5I/aS+hvYT2kj+6tDEJoImTPws6wlS7HJQ/W79SoNavlD+sROPr8UKVP/3JczcN1pU/Tk8Egyhplj+e1JTOQ/yWP+9ZJRpfj5c/QN+1ZXoimD+QZEaxlbWYP+Hp1vywSJk/Mm9nSMzbmT+D9PeT526aP9N5iN8CAps/I/8YKx6Vmz90hKl2OSicP8UJOsJUu5w/FY/KDXBOnT9mFFtZi+GdP7eZ66SmdJ4/Bx988MEHnz9ZpAw83ZqfP9WUzkP8FqA/fdeW6YlgoD8lGl+PF6qgP85cJzWl86A/dp/v2jI9oT8f4reAwIahP8ckgCZO0KE/cGdIzNsZoj8XqhByaWOiP8Ds2Bf3rKI/aS+hvYT2oj8RcmljEkCjP7q0MQmgiaM/Yvf5ri3Toz8LOsJUuxykP7J8ivpIZqQ/W79SoNavpD8DAhtGZPmkP6xE4+vxQqU/VIerkX+MpT/9yXM3DdalP6UMPN2aH6Y/Tk8Egyhppj/1kcwotrKmP57UlM5D/KY/RhdddNFFpz/vWSUaX4+nP5ec7b/s2Kc/QN+1ZXoiqD/pIX4LCGyoP5BkRrGVtag/OacOVyP/qD/h6db8sEipP4osn6I+kqk/Mm9nSMzbqT/bsS/uWSWqP4P095Pnbqo/LDfAOXW4qj/TeYjfAgKrP3y8UIWQS6s/I/8YKx6Vqz/MQeHQq96rP3SEqXY5KKw/HcdxHMdxrD8=\",\"dtype\":\"float64\",\"shape\":[100]},\"y\":{\"__ndarray__\":\"AAAAAAAAJEDaCFyXjp2xP6EuIqwaDcc/+0fRrkL4cD91KwQ+ak+dPm5VbduB6h8+Dut68Boh1b2w4xu08qjTPZDwQM5NvMC9DoXxvI/eDT7Aaxr/cTMDvjDuOzuLgRU+cuxM1c3F5z0e89D3rRvzvWbPbJce/us9zMyEFti66D165z//tTYIPljIkLC12KK9RRYy4KPFYL2KZL5sL4V2veR94dnRVVy9qHShgTPEsD1XgHBhSh2jvbASZOBQQ409wLoAyrCakj0C7TMSmnEMPtGjPAyO0te9nxynWo9grD0TFOsh8R6DPWa3PDWO0qu9AKqxvKjTlz0wXs9czLmaPVJvjHkRYbc9KlI5Bxj40D3cVH7FSxPkPZZPD1Qu5vG9nSHEeYQcAj5+egRHpHnqPUhxKPXvH9k9MaGySboZ9j2cyt5mqurwvTgO5o/mdsO9vYvjglVEAb7tjjeTxjLnvTDydDN3jOG9pluSRYMq4z04Wn6JhLsmPtMgSFBLZiS+YER9+t82/b0sR1w3l6QUPpZbvrEMv/y9QuwTmMC5yD2IBdOYqMCmPfKGvMiHkwo+4M8UOZ/06D3ItopsWqauPSw53JNSEuE9HCN5oKo4x71hDJkrzjCzvWCrUv++fJc9ksHFzD8IaT3kSbrUXi4QvdSfW8uL5Cs9VhhKAE03bD2OvJ8FTzN1PUoTY0ttLmE9eNvHDEmuQr1WMudMjik3vVbsd/hITUY9MKvjvRgwTz3N9DHXoORYvbh84A8faEM96EygnswxO70kB40caC1bPY7quvOWGmO9qL/1UZ+lVD1AxwzFJiVyPRjbe529Wp294Fvdi1wdvz0IlkoCtHXdvX4bR42hKPs9bu5IxtaB+z3kzkzRL8j9PZtAZIaOZda9LMBzA7bypT2Rl2jj8iiKvfC4KWsKr4C9z7BO2mkc0z0qx9vKyKTKvWSy/LRoos+9E6m9h4Bc2D10l6aZxwK4PTD7wMoEg9+9jHEMinqqwz1mpef8nT3lPa3A4mnzmNA9/iugGvDyzT2BZ5zpNFzXPSCadKdPl4+9ERjlquz44j0=\",\"dtype\":\"float64\",\"shape\":[100]}},\"selected\":{\"id\":\"1061\",\"type\":\"Selection\"},\"selection_policy\":{\"id\":\"1060\",\"type\":\"UnionRenderers\"}},\"id\":\"1036\",\"type\":\"ColumnDataSource\"},{\"attributes\":{\"source\":{\"id\":\"1063\",\"type\":\"ColumnDataSource\"}},\"id\":\"1067\",\"type\":\"CDSView\"},{\"attributes\":{\"callback\":null,\"data\":{\"x\":{\"__ndarray__\":\"AAAAAAAAAAAXqhByaWNCPxeqEHJpY1I/I/8YKx6VWz8XqhByaWNiP57UlM5D/GY/I/8YKx6Vaz/VlM5D/BZwPxeqEHJpY3I/W79SoNavdD+e1JTOQ/x2P+Hp1vywSHk/I/8YKx6Vez9mFFtZi+F9P9WUzkP8FoA/dp/v2jI9gT8XqhByaWOCP7q0MQmgiYM/W79SoNavhD/9yXM3DdaFP57UlM5D/IY/QN+1ZXoiiD/h6db8sEiJP4P095Pnboo/I/8YKx6Viz/FCTrCVLuMP2YUW1mL4Y0/Bx988MEHjz/VlM5D/BaQPyUaX48XqpA/dp/v2jI9kT/HJIAmTtCRPxeqEHJpY5I/aS+hvYT2kj+6tDEJoImTPws6wlS7HJQ/W79SoNavlD+sROPr8UKVP/3JczcN1pU/Tk8Egyhplj+e1JTOQ/yWP+9ZJRpfj5c/QN+1ZXoimD+QZEaxlbWYP+Hp1vywSJk/Mm9nSMzbmT+D9PeT526aP9N5iN8CAps/I/8YKx6Vmz90hKl2OSicP8UJOsJUu5w/FY/KDXBOnT9mFFtZi+GdP7eZ66SmdJ4/Bx988MEHnz9ZpAw83ZqfP9WUzkP8FqA/fdeW6YlgoD8lGl+PF6qgP85cJzWl86A/dp/v2jI9oT8f4reAwIahP8ckgCZO0KE/cGdIzNsZoj8XqhByaWOiP8Ds2Bf3rKI/aS+hvYT2oj8RcmljEkCjP7q0MQmgiaM/Yvf5ri3Toz8LOsJUuxykP7J8ivpIZqQ/W79SoNavpD8DAhtGZPmkP6xE4+vxQqU/VIerkX+MpT/9yXM3DdalP6UMPN2aH6Y/Tk8Egyhppj/1kcwotrKmP57UlM5D/KY/RhdddNFFpz/vWSUaX4+nP5ec7b/s2Kc/QN+1ZXoiqD/pIX4LCGyoP5BkRrGVtag/OacOVyP/qD/h6db8sEipP4osn6I+kqk/Mm9nSMzbqT/bsS/uWSWqP4P095Pnbqo/LDfAOXW4qj/TeYjfAgKrP3y8UIWQS6s/I/8YKx6Vqz/MQeHQq96rP3SEqXY5KKw/HcdxHMdxrD8=\",\"dtype\":\"float64\",\"shape\":[100]},\"y\":{\"__ndarray__\":\"AAAAAAAAJEBt6LP8tv4jQJoj7Z5p9iNAkOrsfF7kI0CjbST7KcwjQMS6LGgasyNA7sPpfEicI0Bc5VKZqYgjQGir5KAqeCNAdK06lWBqI0DF3+KO014jQDLLta0YVSNAQCPBQNlMI0BkJklD0EUjQPxHkkXGPyNAUJ0DpY46I0BDefRpBTYjQI26II0NMiNAooh5kI8uI0AzJ9FeeCsjQDqcvGW4KCNAJMsa4EImI0AJmLhGDSQjQHignN8OIiNABSRRZEAgI0AzzZC8mx4jQKOyO8UbHSNAUaFhJLwbI0BxkPQkeRojQCk3cppPGSNAi/2/yTwYI0DYEKtVPhcjQPGvijBSFiNAQundj3YVI0CzUi7gqRQjQNvbbL/qEyNAOnNn8zcTI0Aj6qpmkBIjQIxwbCHzESNAVSigRl8RI0B0nXMQ1BAjQCKN78xQECNASVRt3NQPI0A/15GuXw8jQCAV7MDwDiNA/81YnYcOI0BgBnDYIw4jQA+XthDFDSNAna057WoNI0C8X8gcFQ0jQLTOJlXDDCNAzrVWUnUMI0AEGwzWKgwjQBgN5KbjCyNAW3gvkJ8LI0DxvVZhXgsjQIMVhu0fCyNASsdvC+QKI0CgNKuUqgojQDQ4xWVzCiNACOLoXT4KI0AVnBpeCwojQKXAnUraCSNAqJZ+CKsJI0A6hWp/fQkjQNKFTJhRCSNA2a24PScJI0DGuaFb/ggjQE9iTN/WCCNAkL0qt7AII0CaycrSiwgjQIgrvSJoCCNAbHiFmEUII0CzHoUmJAgjQDtp7r8DCCNATJ66WOQHI0CFOIblxQcjQIMOoFuoByNAHarzsIsHI0CzlubbbwcjQGzRgNNUByNApUNRjzoHI0BhLSIHIQcjQD0PajMIByNARzjlDPAGI0BBkriM2AYjQA+BZKzBBiNA2XWwZasGI0A7sdKylQYjQHkGL46ABiNAjwFf8msGI0CPyILaVwYjQDnErEFEBiNAvthDIzEGI0Bm7xB7HgYjQJOZnkQMBiNApQdhfPoFI0DPQiMe6QUjQK6zoSbYBSNA2OIZkscFI0A=\",\"dtype\":\"float64\",\"shape\":[100]}},\"selected\":{\"id\":\"1752\",\"type\":\"Selection\"},\"selection_policy\":{\"id\":\"1751\",\"type\":\"UnionRenderers\"}},\"id\":\"1724\",\"type\":\"ColumnDataSource\"},{\"attributes\":{},\"id\":\"1689\",\"type\":\"BasicTicker\"},{\"attributes\":{},\"id\":\"1852\",\"type\":\"UnionRenderers\"},{\"attributes\":{},\"id\":\"1123\",\"type\":\"HelpTool\"},{\"attributes\":{\"callback\":null},\"id\":\"1007\",\"type\":\"DataRange1d\"},{\"attributes\":{\"active_drag\":\"auto\",\"active_inspect\":\"auto\",\"active_multi\":null,\"active_scroll\":\"auto\",\"active_tap\":\"auto\",\"tools\":[{\"id\":\"1118\",\"type\":\"PanTool\"},{\"id\":\"1119\",\"type\":\"WheelZoomTool\"},{\"id\":\"1120\",\"type\":\"BoxZoomTool\"},{\"id\":\"1121\",\"type\":\"SaveTool\"},{\"id\":\"1122\",\"type\":\"ResetTool\"},{\"id\":\"1123\",\"type\":\"HelpTool\"}]},\"id\":\"1124\",\"type\":\"Toolbar\"},{\"attributes\":{\"dimension\":1,\"ticker\":{\"id\":\"1694\",\"type\":\"BasicTicker\"}},\"id\":\"1697\",\"type\":\"Grid\"},{\"attributes\":{\"line_alpha\":0.1,\"line_color\":\"#1f77b4\",\"line_width\":2,\"x\":{\"field\":\"x\"},\"y\":{\"field\":\"y\"}},\"id\":\"1726\",\"type\":\"Line\"},{\"attributes\":{\"source\":{\"id\":\"1131\",\"type\":\"ColumnDataSource\"}},\"id\":\"1135\",\"type\":\"CDSView\"},{\"attributes\":{},\"id\":\"1790\",\"type\":\"Selection\"},{\"attributes\":{\"data_source\":{\"id\":\"1724\",\"type\":\"ColumnDataSource\"},\"glyph\":{\"id\":\"1725\",\"type\":\"Line\"},\"hover_glyph\":null,\"muted_glyph\":null,\"nonselection_glyph\":{\"id\":\"1726\",\"type\":\"Line\"},\"selection_glyph\":null,\"view\":{\"id\":\"1728\",\"type\":\"CDSView\"}},\"id\":\"1727\",\"type\":\"GlyphRenderer\"},{\"attributes\":{},\"id\":\"1137\",\"type\":\"BasicTickFormatter\"},{\"attributes\":{\"callback\":null,\"data\":{\"x\":{\"__ndarray__\":\"AAAAAAAAAAAXqhByaWNCPxeqEHJpY1I/I/8YKx6VWz8XqhByaWNiP57UlM5D/GY/I/8YKx6Vaz/VlM5D/BZwPxeqEHJpY3I/W79SoNavdD+e1JTOQ/x2P+Hp1vywSHk/I/8YKx6Vez9mFFtZi+F9P9WUzkP8FoA/dp/v2jI9gT8XqhByaWOCP7q0MQmgiYM/W79SoNavhD/9yXM3DdaFP57UlM5D/IY/QN+1ZXoiiD/h6db8sEiJP4P095Pnboo/I/8YKx6Viz/FCTrCVLuMP2YUW1mL4Y0/Bx988MEHjz/VlM5D/BaQPyUaX48XqpA/dp/v2jI9kT/HJIAmTtCRPxeqEHJpY5I/aS+hvYT2kj+6tDEJoImTPws6wlS7HJQ/W79SoNavlD+sROPr8UKVP/3JczcN1pU/Tk8Egyhplj+e1JTOQ/yWP+9ZJRpfj5c/QN+1ZXoimD+QZEaxlbWYP+Hp1vywSJk/Mm9nSMzbmT+D9PeT526aP9N5iN8CAps/I/8YKx6Vmz90hKl2OSicP8UJOsJUu5w/FY/KDXBOnT9mFFtZi+GdP7eZ66SmdJ4/Bx988MEHnz9ZpAw83ZqfP9WUzkP8FqA/fdeW6YlgoD8lGl+PF6qgP85cJzWl86A/dp/v2jI9oT8f4reAwIahP8ckgCZO0KE/cGdIzNsZoj8XqhByaWOiP8Ds2Bf3rKI/aS+hvYT2oj8RcmljEkCjP7q0MQmgiaM/Yvf5ri3Toz8LOsJUuxykP7J8ivpIZqQ/W79SoNavpD8DAhtGZPmkP6xE4+vxQqU/VIerkX+MpT/9yXM3DdalP6UMPN2aH6Y/Tk8Egyhppj/1kcwotrKmP57UlM5D/KY/RhdddNFFpz/vWSUaX4+nP5ec7b/s2Kc/QN+1ZXoiqD/pIX4LCGyoP5BkRrGVtag/OacOVyP/qD/h6db8sEipP4osn6I+kqk/Mm9nSMzbqT/bsS/uWSWqP4P095Pnbqo/LDfAOXW4qj/TeYjfAgKrP3y8UIWQS6s/I/8YKx6Vqz/MQeHQq96rP3SEqXY5KKw/HcdxHMdxrD8=\",\"dtype\":\"float64\",\"shape\":[100]},\"y\":{\"__ndarray__\":\"AAAAAAAAAACUknnBNJBkP7nYuCXCLJM/z3UVE4Ohqz+7McltAuu5P9tQ0fRlOcM/YQePxeDtyD/+q0armdXNPy6UauOr+tA/uFKqWO2z0j+3CKQjjiXUP+OaRknqXNU/4pjb59dk1j9lNNuW90XXP1gBt003B9g/tlaMXyuu2D922HDBUj/ZPw6v6FtOvtk/duzO8A0u2j90Gtsl9JDaP4F5bEjz6No/Tpym/KM32z+V/+woV37bP5jxawwkvts/CYDbdfP32z9mWuZtiCzcP02siViHXNw/otbLc3uI3D+I8m1h27DcPzwbubEM1tw/Kk8AyGb43D945Z1KNRjdP2UCqu65Nd0/BNhCBC5R3T8eqjX6w2rdPyOFZBKogt0/7JgRkwGZ3T/hu6Iq863dP+nucdKbwd0/3fX6KxfU3T8GUozxfeXdPzBcDmLm9d0/hHdVcmQF3j+kGMUtChTeP6tcfeLnId4/zUDmVAwv3j++NP/xhDvePwkfLeldR94/ZE3KWKJS3j9MCfRmXF3eP0sqJluVZ94/F0cptVVx3j84oHw+pXreP85dfiOLg94/ePUQ+g2M3j+zQijVM5TeP4pQPU8CnN4/ohcHkn6j3j/ebJlqrareP4X6WEeTsd4/FMDjQjS43j+Hfqw8lL7eP5vsR6y2xN4/WSwt8J7K3j8vWq8SUNDeP0pHb/bM1d4/i0bqSBjb3j/iyMiLNODeP7m3cxYk5d4/j0+oGunp3j+Qzqamhe7eP9WQWqj78t4/RfRQ70z33j99K1wve/veP3jaMgKI/94/Rjis6HQD3z808ThPQwffP4gx/ov0Ct8/Wr6K4YkO3z+/Ky2DBBLfP4vU5Y9lFd8/aY3XFa4Y3z/mVbob3xvfP4wavpL5Ht8/XvlYY/4h3z8luu1o7iTfP3Tgb3PKJ98/NUfxSZMq3z/k2qmlSS3fPwIzHzruL98/StAftIEy3z828KavBDXfPwN7Z8p3N98/kOqEl9s53z+nFeKdMDzfP+3PLGx3Pt8/sw3fc7BA3z+BqJc73ELfP3+MySv7RN8/WqfDvA1H3z8=\",\"dtype\":\"float64\",\"shape\":[100]}},\"selected\":{\"id\":\"1770\",\"type\":\"Selection\"},\"selection_policy\":{\"id\":\"1769\",\"type\":\"UnionRenderers\"}},\"id\":\"1738\",\"type\":\"ColumnDataSource\"},{\"attributes\":{},\"id\":\"1853\",\"type\":\"Selection\"},{\"attributes\":{\"bottom_units\":\"screen\",\"fill_alpha\":{\"value\":0.5},\"fill_color\":{\"value\":\"lightgrey\"},\"left_units\":\"screen\",\"level\":\"overlay\",\"line_alpha\":{\"value\":1.0},\"line_color\":{\"value\":\"black\"},\"line_dash\":[4,4],\"line_width\":{\"value\":2},\"render_mode\":\"css\",\"right_units\":\"screen\",\"top_units\":\"screen\"},\"id\":\"1141\",\"type\":\"BoxAnnotation\"},{\"attributes\":{\"below\":[{\"id\":\"1688\",\"type\":\"LinearAxis\"}],\"center\":[{\"id\":\"1692\",\"type\":\"Grid\"},{\"id\":\"1697\",\"type\":\"Grid\"},{\"id\":\"1722\",\"type\":\"Legend\"}],\"left\":[{\"id\":\"1693\",\"type\":\"LinearAxis\"}],\"plot_height\":350,\"plot_width\":450,\"renderers\":[{\"id\":\"1714\",\"type\":\"GlyphRenderer\"},{\"id\":\"1727\",\"type\":\"GlyphRenderer\"},{\"id\":\"1741\",\"type\":\"GlyphRenderer\"},{\"id\":\"1757\",\"type\":\"GlyphRenderer\"},{\"id\":\"1775\",\"type\":\"GlyphRenderer\"}],\"title\":{\"id\":\"1678\",\"type\":\"Title\"},\"toolbar\":{\"id\":\"1704\",\"type\":\"Toolbar\"},\"x_range\":{\"id\":\"1680\",\"type\":\"DataRange1d\"},\"x_scale\":{\"id\":\"1684\",\"type\":\"LinearScale\"},\"y_range\":{\"id\":\"1682\",\"type\":\"DataRange1d\"},\"y_scale\":{\"id\":\"1686\",\"type\":\"LinearScale\"}},\"id\":\"1677\",\"subtype\":\"Figure\",\"type\":\"Plot\"},{\"attributes\":{\"axis_label\":\"time (hrs)\",\"formatter\":{\"id\":\"1717\",\"type\":\"BasicTickFormatter\"},\"ticker\":{\"id\":\"1689\",\"type\":\"BasicTicker\"}},\"id\":\"1688\",\"type\":\"LinearAxis\"},{\"attributes\":{\"source\":{\"id\":\"1724\",\"type\":\"ColumnDataSource\"}},\"id\":\"1728\",\"type\":\"CDSView\"},{\"attributes\":{},\"id\":\"1736\",\"type\":\"Selection\"},{\"attributes\":{\"items\":[{\"id\":\"1143\",\"type\":\"LegendItem\"}]},\"id\":\"1142\",\"type\":\"Legend\"},{\"attributes\":{\"label\":{\"value\":\"outside_H\"},\"renderers\":[{\"id\":\"1727\",\"type\":\"GlyphRenderer\"}]},\"id\":\"1737\",\"type\":\"LegendItem\"},{\"attributes\":{\"line_color\":\"#2ba02b\",\"line_width\":2,\"x\":{\"field\":\"x\"},\"y\":{\"field\":\"y\"}},\"id\":\"1739\",\"type\":\"Line\"},{\"attributes\":{},\"id\":\"1139\",\"type\":\"BasicTickFormatter\"},{\"attributes\":{\"ticker\":{\"id\":\"1689\",\"type\":\"BasicTicker\"}},\"id\":\"1692\",\"type\":\"Grid\"},{\"attributes\":{},\"id\":\"1694\",\"type\":\"BasicTicker\"},{\"attributes\":{\"label\":{\"value\":\"atp\"},\"renderers\":[{\"id\":\"1134\",\"type\":\"GlyphRenderer\"}]},\"id\":\"1143\",\"type\":\"LegendItem\"},{\"attributes\":{\"axis_label\":\"concentration (nM)\",\"formatter\":{\"id\":\"1719\",\"type\":\"BasicTickFormatter\"},\"ticker\":{\"id\":\"1694\",\"type\":\"BasicTicker\"}},\"id\":\"1693\",\"type\":\"LinearAxis\"},{\"attributes\":{\"line_alpha\":0.1,\"line_color\":\"#1f77b4\",\"line_width\":2,\"x\":{\"field\":\"x\"},\"y\":{\"field\":\"y\"}},\"id\":\"1740\",\"type\":\"Line\"},{\"attributes\":{\"data_source\":{\"id\":\"1738\",\"type\":\"ColumnDataSource\"},\"glyph\":{\"id\":\"1739\",\"type\":\"Line\"},\"hover_glyph\":null,\"muted_glyph\":null,\"nonselection_glyph\":{\"id\":\"1740\",\"type\":\"Line\"},\"selection_glyph\":null,\"view\":{\"id\":\"1742\",\"type\":\"CDSView\"}},\"id\":\"1741\",\"type\":\"GlyphRenderer\"},{\"attributes\":{\"line_color\":\"#1f77b3\",\"line_width\":2,\"x\":{\"field\":\"x\"},\"y\":{\"field\":\"y\"}},\"id\":\"1712\",\"type\":\"Line\"},{\"attributes\":{\"callback\":null,\"data\":{\"x\":{\"__ndarray__\":\"AAAAAAAAAAAXqhByaWNCPxeqEHJpY1I/I/8YKx6VWz8XqhByaWNiP57UlM5D/GY/I/8YKx6Vaz/VlM5D/BZwPxeqEHJpY3I/W79SoNavdD+e1JTOQ/x2P+Hp1vywSHk/I/8YKx6Vez9mFFtZi+F9P9WUzkP8FoA/dp/v2jI9gT8XqhByaWOCP7q0MQmgiYM/W79SoNavhD/9yXM3DdaFP57UlM5D/IY/QN+1ZXoiiD/h6db8sEiJP4P095Pnboo/I/8YKx6Viz/FCTrCVLuMP2YUW1mL4Y0/Bx988MEHjz/VlM5D/BaQPyUaX48XqpA/dp/v2jI9kT/HJIAmTtCRPxeqEHJpY5I/aS+hvYT2kj+6tDEJoImTPws6wlS7HJQ/W79SoNavlD+sROPr8UKVP/3JczcN1pU/Tk8Egyhplj+e1JTOQ/yWP+9ZJRpfj5c/QN+1ZXoimD+QZEaxlbWYP+Hp1vywSJk/Mm9nSMzbmT+D9PeT526aP9N5iN8CAps/I/8YKx6Vmz90hKl2OSicP8UJOsJUu5w/FY/KDXBOnT9mFFtZi+GdP7eZ66SmdJ4/Bx988MEHnz9ZpAw83ZqfP9WUzkP8FqA/fdeW6YlgoD8lGl+PF6qgP85cJzWl86A/dp/v2jI9oT8f4reAwIahP8ckgCZO0KE/cGdIzNsZoj8XqhByaWOiP8Ds2Bf3rKI/aS+hvYT2oj8RcmljEkCjP7q0MQmgiaM/Yvf5ri3Toz8LOsJUuxykP7J8ivpIZqQ/W79SoNavpD8DAhtGZPmkP6xE4+vxQqU/VIerkX+MpT/9yXM3DdalP6UMPN2aH6Y/Tk8Egyhppj/1kcwotrKmP57UlM5D/KY/RhdddNFFpz/vWSUaX4+nP5ec7b/s2Kc/QN+1ZXoiqD/pIX4LCGyoP5BkRrGVtag/OacOVyP/qD/h6db8sEipP4osn6I+kqk/Mm9nSMzbqT/bsS/uWSWqP4P095Pnbqo/LDfAOXW4qj/TeYjfAgKrP3y8UIWQS6s/I/8YKx6Vqz/MQeHQq96rP3SEqXY5KKw/HcdxHMdxrD8=\",\"dtype\":\"float64\",\"shape\":[100]},\"y\":{\"__ndarray__\":\"AAAAAAAAAAA5o3CQtk3FPkOsQBsxEPU+K1GEa3uRET+Owbw6spYkPz4w0gyX4zM/ltbgG6EBQT9tX72fUr1KP53M6s93xVM/iUYIl6znWz8HpODDzftiP62IOAfEE2k/LMgBtqwpcD/Sz7BD0Wd0P80ZXmbDTXk/vJhc9hXkfj8t1q//U5mCP1C4+flkIIY/dlKd060Kij8ogl3NcVuOP+PA9wjoipE/3jpguWQelD+JKyrPoemWP38goxEF7pk/Refe0eYsnT/3caBsyFOgPwgH4HaeL6I/ZdfOl4kqpD+yntJHFEWmP+rzA8m+f6g/4kqzwP7aqj+ATWoRP1etP7+o+vTf9K8/E50fpxtasT+QwCSTyMqyP5hucSOYTLQ/Od6fcqfftT8wGM6oD4S3P4nIRFTmObk/Dk4OuT0Buz87MrUhJdq8P0TLkyWpxL4/7DPa9WlgwD8QYHiyVmfBPwWl3sEdd8I/frk1NsGPwz+BuyJRQrHEP40s6Zeh28U/ZGtk5d4Oxz/hEpl6+UrIP0A1lA3wj8k/DGLC1sDdyj+I73GdaTTMP2DnocLnk80/tzvASjj8zj+sHjzzqzbQPyVTtH2h89A/MiB/1fq00T/MnqbstXrSP7vHfJnQRNM/GcxMmUgT1D9PwdmSG+bUP7wdkxhHvdU/ojqIqsiY1j8bnUy4nXjXP1gul6LDXNg/sRDIvDdF2T+yQehN9zHaP55XTpL/Its/UY+evE0Y3D94Tcz23hHdP9nCmGKwD94/i3bkGr8R3z+X/yAaBAzgP35ZxV5EkeA/ciRB4J4Y4T8jAjYhEqLhPzeiPqKcLeI/sA4o4jy74j/9eyVe8UrjP+UW/5G43OM/4Vw7+JBw5D/+LUUKeQblPwUQjkBvnuU/nTyrEnI45j8dNHb3f9TmP1vSKGWXcuc/PqFm0bYS6D9aNVex3LToP5afwnkHWek/gGcanzX/6T8QhIiVZafqP47//tCVUes/5iJExcT96z+szP3l8KvsP9nIu6YYXO0/tyIBezoO7j8QcEzWVMLuPwh2HyxmeO8/4NyvdzYY8D8=\",\"dtype\":\"float64\",\"shape\":[100]}},\"selected\":{\"id\":\"1790\",\"type\":\"Selection\"},\"selection_policy\":{\"id\":\"1789\",\"type\":\"UnionRenderers\"}},\"id\":\"1754\",\"type\":\"ColumnDataSource\"},{\"attributes\":{},\"id\":\"1223\",\"type\":\"UnionRenderers\"},{\"attributes\":{\"source\":{\"id\":\"1738\",\"type\":\"ColumnDataSource\"}},\"id\":\"1742\",\"type\":\"CDSView\"},{\"attributes\":{},\"id\":\"1686\",\"type\":\"LinearScale\"},{\"attributes\":{},\"id\":\"1751\",\"type\":\"UnionRenderers\"},{\"attributes\":{\"active_drag\":\"auto\",\"active_inspect\":\"auto\",\"active_multi\":null,\"active_scroll\":\"auto\",\"active_tap\":\"auto\",\"tools\":[{\"id\":\"1698\",\"type\":\"PanTool\"},{\"id\":\"1699\",\"type\":\"WheelZoomTool\"},{\"id\":\"1700\",\"type\":\"BoxZoomTool\"},{\"id\":\"1701\",\"type\":\"SaveTool\"},{\"id\":\"1702\",\"type\":\"ResetTool\"},{\"id\":\"1703\",\"type\":\"HelpTool\"}]},\"id\":\"1704\",\"type\":\"Toolbar\"},{\"attributes\":{\"callback\":null,\"data\":{\"x\":{\"__ndarray__\":\"AAAAAAAAAAAXqhByaWNCPxeqEHJpY1I/I/8YKx6VWz8XqhByaWNiP57UlM5D/GY/I/8YKx6Vaz/VlM5D/BZwPxeqEHJpY3I/W79SoNavdD+e1JTOQ/x2P+Hp1vywSHk/I/8YKx6Vez9mFFtZi+F9P9WUzkP8FoA/dp/v2jI9gT8XqhByaWOCP7q0MQmgiYM/W79SoNavhD/9yXM3DdaFP57UlM5D/IY/QN+1ZXoiiD/h6db8sEiJP4P095Pnboo/I/8YKx6Viz/FCTrCVLuMP2YUW1mL4Y0/Bx988MEHjz/VlM5D/BaQPyUaX48XqpA/dp/v2jI9kT/HJIAmTtCRPxeqEHJpY5I/aS+hvYT2kj+6tDEJoImTPws6wlS7HJQ/W79SoNavlD+sROPr8UKVP/3JczcN1pU/Tk8Egyhplj+e1JTOQ/yWP+9ZJRpfj5c/QN+1ZXoimD+QZEaxlbWYP+Hp1vywSJk/Mm9nSMzbmT+D9PeT526aP9N5iN8CAps/I/8YKx6Vmz90hKl2OSicP8UJOsJUu5w/FY/KDXBOnT9mFFtZi+GdP7eZ66SmdJ4/Bx988MEHnz9ZpAw83ZqfP9WUzkP8FqA/fdeW6YlgoD8lGl+PF6qgP85cJzWl86A/dp/v2jI9oT8f4reAwIahP8ckgCZO0KE/cGdIzNsZoj8XqhByaWOiP8Ds2Bf3rKI/aS+hvYT2oj8RcmljEkCjP7q0MQmgiaM/Yvf5ri3Toz8LOsJUuxykP7J8ivpIZqQ/W79SoNavpD8DAhtGZPmkP6xE4+vxQqU/VIerkX+MpT/9yXM3DdalP6UMPN2aH6Y/Tk8Egyhppj/1kcwotrKmP57UlM5D/KY/RhdddNFFpz/vWSUaX4+nP5ec7b/s2Kc/QN+1ZXoiqD/pIX4LCGyoP5BkRrGVtag/OacOVyP/qD/h6db8sEipP4osn6I+kqk/Mm9nSMzbqT/bsS/uWSWqP4P095Pnbqo/LDfAOXW4qj/TeYjfAgKrP3y8UIWQS6s/I/8YKx6Vqz/MQeHQq96rP3SEqXY5KKw/HcdxHMdxrD8=\",\"dtype\":\"float64\",\"shape\":[100]},\"y\":{\"__ndarray__\":\"AAAAAAAAJEA61Q+pe8GjP1Xodzn399Q/ThofTXzs7z/u2PSvedr+PygQaa5ySAdAhD7YhIqADkAo30me3l0SQF79zO1d/RRAKDglhMYuF0DFiD9i3QQZQGzs+PGakBpAhXCTHNrfG0CYurlJof0cQLWQHyTK8h1AyI6eqXTGHkBEK+KEXn4fQCT9bMyUDyBA+Py+p0pWIEAJJgtY1pQgQBawdY51zCBA39VjsSz+IEA56tJR0iohQAYuMjMYUyFAO6gXa5J3IUAUdeUBvZghQBP7MG4AtyFAitUCJLXSIUDCFDlwJuwhQKotlcOUAyJAj08tjTcZIkDFgFy6Pi0iQGl7NO7TPyJAaRtvgBtRIkCXMJFNNWEiQL2Vt2E9cCJA/ya8hkx+IkCWreW3eIsiQHfdC4XVlyJAYT4rZHSjIkB4zh72ZK4iQLcW9UK1uCJAXYdq6XHCIkDsXypMpssiQPWdtrVc1CJApFg3eJ7cIkBCCI4KdOQiQDNm1h3l6yJAQd8GtfjyIkD+yDM2tfkiQDumEHsgACNApCPl3j8GI0A4g0hLGAwjQIuzPkSuESNA3aKA8AUXI0CNc3IjIxwjQOm2eWQJISNAKR/q9bslI0DucBncPSojQLhcz+GRLiNAJAjXnboyI0Bq2Jt4ujYjQCluEq2TOiNAavUxUEg+I0CoXadR2kEjQPxm/39LRSNApNPeip1II0ASAqAF0ksjQAdaqGnqTiNAxZE+GOhRI0CyrGJczFQjQBDBqWyYVyNAwZyebE1aI0BdoTVu7FwjQI8IC3N2XyNAeO9cbexhI0DN6QRCT2QjQA80FcifZiNA9+y2yt5oI0CpBeoJDWsjQBb3vDorbSNAOTI6CDpvI0CtKyIVOnEjQAm0o/orcyNAOCMvShB1I0DxILSN53YjQBS++keyeCNAF1pv9XB6I0Dc53sLJHwjQHzysvrLfSNAF/XELWl/I0DHYLUJ/IAjQHNKe++EgiNAn9AGOwSEI0Bb7NdDeoUjQBWjB17nhiNAJSLS2EuII0A4E4gAqIkjQHtKAh78iiNAAHcad0iMI0A=\",\"dtype\":\"float64\",\"shape\":[100]}},\"selected\":{\"id\":\"1736\",\"type\":\"Selection\"},\"selection_policy\":{\"id\":\"1735\",\"type\":\"UnionRenderers\"}},\"id\":\"1711\",\"type\":\"ColumnDataSource\"},{\"attributes\":{\"label\":{\"value\":\"inside_H\"},\"renderers\":[{\"id\":\"1741\",\"type\":\"GlyphRenderer\"}]},\"id\":\"1753\",\"type\":\"LegendItem\"},{\"attributes\":{},\"id\":\"1752\",\"type\":\"Selection\"},{\"attributes\":{},\"id\":\"1698\",\"type\":\"PanTool\"},{\"attributes\":{},\"id\":\"1699\",\"type\":\"WheelZoomTool\"},{\"attributes\":{\"overlay\":{\"id\":\"1721\",\"type\":\"BoxAnnotation\"}},\"id\":\"1700\",\"type\":\"BoxZoomTool\"},{\"attributes\":{\"line_color\":\"#9367bc\",\"line_width\":2,\"x\":{\"field\":\"x\"},\"y\":{\"field\":\"y\"}},\"id\":\"1755\",\"type\":\"Line\"},{\"attributes\":{},\"id\":\"1684\",\"type\":\"LinearScale\"},{\"attributes\":{\"callback\":null,\"data\":{\"x\":{\"__ndarray__\":\"AAAAAAAAAAAXqhByaWNCPxeqEHJpY1I/I/8YKx6VWz8XqhByaWNiP57UlM5D/GY/I/8YKx6Vaz/VlM5D/BZwPxeqEHJpY3I/W79SoNavdD+e1JTOQ/x2P+Hp1vywSHk/I/8YKx6Vez9mFFtZi+F9P9WUzkP8FoA/dp/v2jI9gT8XqhByaWOCP7q0MQmgiYM/W79SoNavhD/9yXM3DdaFP57UlM5D/IY/QN+1ZXoiiD/h6db8sEiJP4P095Pnboo/I/8YKx6Viz/FCTrCVLuMP2YUW1mL4Y0/Bx988MEHjz/VlM5D/BaQPyUaX48XqpA/dp/v2jI9kT/HJIAmTtCRPxeqEHJpY5I/aS+hvYT2kj+6tDEJoImTPws6wlS7HJQ/W79SoNavlD+sROPr8UKVP/3JczcN1pU/Tk8Egyhplj+e1JTOQ/yWP+9ZJRpfj5c/QN+1ZXoimD+QZEaxlbWYP+Hp1vywSJk/Mm9nSMzbmT+D9PeT526aP9N5iN8CAps/I/8YKx6Vmz90hKl2OSicP8UJOsJUu5w/FY/KDXBOnT9mFFtZi+GdP7eZ66SmdJ4/Bx988MEHnz9ZpAw83ZqfP9WUzkP8FqA/fdeW6YlgoD8lGl+PF6qgP85cJzWl86A/dp/v2jI9oT8f4reAwIahP8ckgCZO0KE/cGdIzNsZoj8XqhByaWOiP8Ds2Bf3rKI/aS+hvYT2oj8RcmljEkCjP7q0MQmgiaM/Yvf5ri3Toz8LOsJUuxykP7J8ivpIZqQ/W79SoNavpD8DAhtGZPmkP6xE4+vxQqU/VIerkX+MpT/9yXM3DdalP6UMPN2aH6Y/Tk8Egyhppj/1kcwotrKmP57UlM5D/KY/RhdddNFFpz/vWSUaX4+nP5ec7b/s2Kc/QN+1ZXoiqD/pIX4LCGyoP5BkRrGVtag/OacOVyP/qD/h6db8sEipP4osn6I+kqk/Mm9nSMzbqT/bsS/uWSWqP4P095Pnbqo/LDfAOXW4qj/TeYjfAgKrP3y8UIWQS6s/I/8YKx6Vqz/MQeHQq96rP3SEqXY5KKw/HcdxHMdxrD8=\",\"dtype\":\"float64\",\"shape\":[100]},\"y\":{\"__ndarray__\":\"AAAAAAAAAAD+onCQtk3FPgKsQBsxEPU+7VCEa3uRET9Hwbw6spYkP/0v0gyX4zM/Y9bgG6EBQT8iX72fUr1KP2zM6s93xVM/R0YIl6znWz/io+DDzftiP3SIOAfEE2k/58cBtqwpcD9Iz7BD0Wd0P9wYXmbDTXk/SZdc9hXkfj8k1a//U5mCP+i2+flkIIY/o1Cd060Kij/cf13NcVuOP32/9wjoipE/LzlguWQelD+MKSrPoemWPy0eoxEF7pk/l+Te0eYsnT9wcKBsyFOgP04F4HaeL6I/d9XOl4kqpD+KnNJHFEWmP4jxA8m+f6g/P0izwP7aqj+cSmoRP1etP5il+vTf9K8/XZsfpxtasT+2viSTyMqyP5hscSOYTLQ/D9yfcqfftT/dFc6oD4S3PwzGRFTmObk/ZksOuT0Buz9jL7UhJdq8PzzIkyWpxL4/UDLa9WlgwD9cXniyVmfBPzej3sEdd8I/l7c1NsGPwz+AuSJRQrHEP3Eq6Zeh28U/Kmlk5d4Oxz+NEJl6+UrIP84ylA3wj8k/fl/C1sDdyj/Y7HGdaTTMP5LkocLnk80/yjjASjj8zj8kHTzzqzbQP41RtH2h89A/iR5/1fq00T8SnabstXrSP/DFfJnQRNM/O8pMmUgT1D9gv9mSG+bUP7obkxhHvdU/jTiIqsiY1j/ymky4nXjXPxwsl6LDXNg/Yg7IvDdF2T9PP+hN9zHaPyZVTpL/Its/xoyevE0Y3D/YSsz23hHdPyTAmGKwD94/wHPkGr8R3z8n/iAaBAzgPwNYxV5EkeA/6yJB4J4Y4T+QADYhEqLhP5mgPqKcLeI/BQ0o4jy74j9GeiVe8UrjPyIV/5G43OM/E1s7+JBw5D8kLEUKeQblPx4OjkBvnuU/rDqrEnI45j8eMnb3f9TmP0/QKGWXcuc/JZ9m0bYS6D8zM1ex3LToP2GdwnkHWek/PGUanzX/6T++gYiVZafqPyz9/tCVUes/diBExcT96z8uyv3l8KvsP0zGu6YYXO0/HCABezoO7j9mbUzWVMLuP05zHyxmeO8/fNuvdzYY8D8=\",\"dtype\":\"float64\",\"shape\":[100]}},\"selected\":{\"id\":\"1853\",\"type\":\"Selection\"},\"selection_policy\":{\"id\":\"1852\",\"type\":\"UnionRenderers\"}},\"id\":\"1772\",\"type\":\"ColumnDataSource\"},{\"attributes\":{},\"id\":\"1224\",\"type\":\"Selection\"},{\"attributes\":{\"callback\":null},\"id\":\"1680\",\"type\":\"DataRange1d\"},{\"attributes\":{},\"id\":\"1009\",\"type\":\"LinearScale\"},{\"attributes\":{},\"id\":\"1701\",\"type\":\"SaveTool\"},{\"attributes\":{\"data_source\":{\"id\":\"1754\",\"type\":\"ColumnDataSource\"},\"glyph\":{\"id\":\"1755\",\"type\":\"Line\"},\"hover_glyph\":null,\"muted_glyph\":null,\"nonselection_glyph\":{\"id\":\"1756\",\"type\":\"Line\"},\"selection_glyph\":null,\"view\":{\"id\":\"1758\",\"type\":\"CDSView\"}},\"id\":\"1757\",\"type\":\"GlyphRenderer\"},{\"attributes\":{\"text\":\"with ATP Synthase, Proton Pump, ATP Use\"},\"id\":\"1678\",\"type\":\"Title\"},{\"attributes\":{},\"id\":\"1702\",\"type\":\"ResetTool\"},{\"attributes\":{},\"id\":\"1226\",\"type\":\"UnionRenderers\"},{\"attributes\":{\"source\":{\"id\":\"1754\",\"type\":\"ColumnDataSource\"}},\"id\":\"1758\",\"type\":\"CDSView\"},{\"attributes\":{},\"id\":\"1227\",\"type\":\"Selection\"},{\"attributes\":{},\"id\":\"1703\",\"type\":\"HelpTool\"},{\"attributes\":{},\"id\":\"1769\",\"type\":\"UnionRenderers\"},{\"attributes\":{\"line_alpha\":0.1,\"line_color\":\"#1f77b4\",\"line_width\":2,\"x\":{\"field\":\"x\"},\"y\":{\"field\":\"y\"}},\"id\":\"1713\",\"type\":\"Line\"},{\"attributes\":{\"label\":{\"value\":\"bound atp synthase\"},\"renderers\":[{\"id\":\"1757\",\"type\":\"GlyphRenderer\"}]},\"id\":\"1771\",\"type\":\"LegendItem\"},{\"attributes\":{},\"id\":\"1770\",\"type\":\"Selection\"},{\"attributes\":{},\"id\":\"1024\",\"type\":\"WheelZoomTool\"},{\"attributes\":{\"bottom_units\":\"screen\",\"fill_alpha\":{\"value\":0.5},\"fill_color\":{\"value\":\"lightgrey\"},\"left_units\":\"screen\",\"level\":\"overlay\",\"line_alpha\":{\"value\":1.0},\"line_color\":{\"value\":\"black\"},\"line_dash\":[4,4],\"line_width\":{\"value\":2},\"render_mode\":\"css\",\"right_units\":\"screen\",\"top_units\":\"screen\"},\"id\":\"1721\",\"type\":\"BoxAnnotation\"},{\"attributes\":{\"source\":{\"id\":\"1711\",\"type\":\"ColumnDataSource\"}},\"id\":\"1715\",\"type\":\"CDSView\"},{\"attributes\":{\"data_source\":{\"id\":\"1711\",\"type\":\"ColumnDataSource\"},\"glyph\":{\"id\":\"1712\",\"type\":\"Line\"},\"hover_glyph\":null,\"muted_glyph\":null,\"nonselection_glyph\":{\"id\":\"1713\",\"type\":\"Line\"},\"selection_glyph\":null,\"view\":{\"id\":\"1715\",\"type\":\"CDSView\"}},\"id\":\"1714\",\"type\":\"GlyphRenderer\"},{\"attributes\":{\"line_color\":\"#8c564b\",\"line_width\":2,\"x\":{\"field\":\"x\"},\"y\":{\"field\":\"y\"}},\"id\":\"1773\",\"type\":\"Line\"},{\"attributes\":{},\"id\":\"1717\",\"type\":\"BasicTickFormatter\"},{\"attributes\":{\"click_policy\":\"hide\",\"items\":[{\"id\":\"1723\",\"type\":\"LegendItem\"},{\"id\":\"1737\",\"type\":\"LegendItem\"},{\"id\":\"1753\",\"type\":\"LegendItem\"},{\"id\":\"1771\",\"type\":\"LegendItem\"},{\"id\":\"1791\",\"type\":\"LegendItem\"}],\"location\":\"center_right\"},\"id\":\"1722\",\"type\":\"Legend\"},{\"attributes\":{\"line_alpha\":0.1,\"line_color\":\"#1f77b4\",\"line_width\":2,\"x\":{\"field\":\"x\"},\"y\":{\"field\":\"y\"}},\"id\":\"1774\",\"type\":\"Line\"},{\"attributes\":{\"data_source\":{\"id\":\"1772\",\"type\":\"ColumnDataSource\"},\"glyph\":{\"id\":\"1773\",\"type\":\"Line\"},\"hover_glyph\":null,\"muted_glyph\":null,\"nonselection_glyph\":{\"id\":\"1774\",\"type\":\"Line\"},\"selection_glyph\":null,\"view\":{\"id\":\"1776\",\"type\":\"CDSView\"}},\"id\":\"1775\",\"type\":\"GlyphRenderer\"},{\"attributes\":{\"callback\":null},\"id\":\"1682\",\"type\":\"DataRange1d\"},{\"attributes\":{\"line_alpha\":0.1,\"line_color\":\"#1f77b4\",\"line_width\":2,\"x\":{\"field\":\"x\"},\"y\":{\"field\":\"y\"}},\"id\":\"1756\",\"type\":\"Line\"},{\"attributes\":{\"source\":{\"id\":\"1772\",\"type\":\"ColumnDataSource\"}},\"id\":\"1776\",\"type\":\"CDSView\"},{\"attributes\":{},\"id\":\"1719\",\"type\":\"BasicTickFormatter\"},{\"attributes\":{},\"id\":\"1789\",\"type\":\"UnionRenderers\"},{\"attributes\":{\"line_color\":\"#ff7e0e\",\"line_width\":2,\"x\":{\"field\":\"x\"},\"y\":{\"field\":\"y\"}},\"id\":\"1725\",\"type\":\"Line\"},{\"attributes\":{\"label\":{\"value\":\"bound proton pump\"},\"renderers\":[{\"id\":\"1775\",\"type\":\"GlyphRenderer\"}]},\"id\":\"1791\",\"type\":\"LegendItem\"},{\"attributes\":{\"label\":{\"value\":\"atp\"},\"renderers\":[{\"id\":\"1714\",\"type\":\"GlyphRenderer\"}]},\"id\":\"1723\",\"type\":\"LegendItem\"}],\"root_ids\":[\"1950\"]},\"title\":\"Bokeh Application\",\"version\":\"1.4.0\"}};\n",
       "  var render_items = [{\"docid\":\"5742dfd8-9e51-4467-b511-83c41a1b66b0\",\"roots\":{\"1950\":\"0ebdb4cf-9a4e-47d8-be0d-c3fe2889d27b\"}}];\n",
       "  root.Bokeh.embed.embed_items_notebook(docs_json, render_items);\n",
       "\n",
       "  }\n",
       "  if (root.Bokeh !== undefined) {\n",
       "    embed_document(root);\n",
       "  } else {\n",
       "    var attempts = 0;\n",
       "    var timer = setInterval(function(root) {\n",
       "      if (root.Bokeh !== undefined) {\n",
       "        clearInterval(timer);\n",
       "        embed_document(root);\n",
       "      } else {\n",
       "        attempts++;\n",
       "        if (attempts > 100) {\n",
       "          clearInterval(timer);\n",
       "          console.log(\"Bokeh: ERROR: Unable to run BokehJS code because BokehJS library is missing\");\n",
       "        }\n",
       "      }\n",
       "    }, 10, root)\n",
       "  }\n",
       "})(window);"
      ],
      "application/vnd.bokehjs_exec.v0+json": ""
     },
     "metadata": {
      "application/vnd.bokehjs_exec.v0+json": {
       "id": "1950"
      }
     },
     "output_type": "display_data"
    }
   ],
   "source": [
    "bokeh.io.show(row(p3,p_w_atp, p_no_atp))"
   ]
  },
  {
   "cell_type": "markdown",
   "metadata": {},
   "source": [
    "Cool. What's going on with the second plot. How come it looks like atp isn't being consumed?? Fix those params?? Next do temperature sensitivity."
   ]
  },
  {
   "cell_type": "code",
   "execution_count": 21,
   "metadata": {},
   "outputs": [
    {
     "ename": "KeyError",
     "evalue": "'metabolite_atp_protontransportbiocrnpyler_983878'",
     "output_type": "error",
     "traceback": [
      "\u001b[0;31m---------------------------------------------------------------------------\u001b[0m",
      "\u001b[0;31mKeyError\u001b[0m                                  Traceback (most recent call last)",
      "\u001b[0;32m~/opt/anaconda3/lib/python3.7/site-packages/pandas/core/indexes/base.py\u001b[0m in \u001b[0;36mget_loc\u001b[0;34m(self, key, method, tolerance)\u001b[0m\n\u001b[1;32m   2645\u001b[0m             \u001b[0;32mtry\u001b[0m\u001b[0;34m:\u001b[0m\u001b[0;34m\u001b[0m\u001b[0;34m\u001b[0m\u001b[0m\n\u001b[0;32m-> 2646\u001b[0;31m                 \u001b[0;32mreturn\u001b[0m \u001b[0mself\u001b[0m\u001b[0;34m.\u001b[0m\u001b[0m_engine\u001b[0m\u001b[0;34m.\u001b[0m\u001b[0mget_loc\u001b[0m\u001b[0;34m(\u001b[0m\u001b[0mkey\u001b[0m\u001b[0;34m)\u001b[0m\u001b[0;34m\u001b[0m\u001b[0;34m\u001b[0m\u001b[0m\n\u001b[0m\u001b[1;32m   2647\u001b[0m             \u001b[0;32mexcept\u001b[0m \u001b[0mKeyError\u001b[0m\u001b[0;34m:\u001b[0m\u001b[0;34m\u001b[0m\u001b[0;34m\u001b[0m\u001b[0m\n",
      "\u001b[0;32mpandas/_libs/index.pyx\u001b[0m in \u001b[0;36mpandas._libs.index.IndexEngine.get_loc\u001b[0;34m()\u001b[0m\n",
      "\u001b[0;32mpandas/_libs/index.pyx\u001b[0m in \u001b[0;36mpandas._libs.index.IndexEngine.get_loc\u001b[0;34m()\u001b[0m\n",
      "\u001b[0;32mpandas/_libs/hashtable_class_helper.pxi\u001b[0m in \u001b[0;36mpandas._libs.hashtable.PyObjectHashTable.get_item\u001b[0;34m()\u001b[0m\n",
      "\u001b[0;32mpandas/_libs/hashtable_class_helper.pxi\u001b[0m in \u001b[0;36mpandas._libs.hashtable.PyObjectHashTable.get_item\u001b[0;34m()\u001b[0m\n",
      "\u001b[0;31mKeyError\u001b[0m: 'metabolite_atp_protontransportbiocrnpyler_983878'",
      "\nDuring handling of the above exception, another exception occurred:\n",
      "\u001b[0;31mKeyError\u001b[0m                                  Traceback (most recent call last)",
      "\u001b[0;32m<ipython-input-21-accde41da287>\u001b[0m in \u001b[0;36m<module>\u001b[0;34m\u001b[0m\n\u001b[1;32m      3\u001b[0m                              \u001b[0mx_axis_label\u001b[0m \u001b[0;34m=\u001b[0m \u001b[0;34m'time (sec)'\u001b[0m\u001b[0;34m,\u001b[0m\u001b[0;34m\u001b[0m\u001b[0;34m\u001b[0m\u001b[0m\n\u001b[1;32m      4\u001b[0m                              y_axis_label = 'concentration (nM)')\n\u001b[0;32m----> 5\u001b[0;31m \u001b[0mp_atp\u001b[0m\u001b[0;34m.\u001b[0m\u001b[0mline\u001b[0m\u001b[0;34m(\u001b[0m\u001b[0mtimepoints\u001b[0m\u001b[0;34m,\u001b[0m \u001b[0mresults1\u001b[0m\u001b[0;34m[\u001b[0m\u001b[0mATP_id\u001b[0m\u001b[0;34m]\u001b[0m\u001b[0;34m,\u001b[0m \u001b[0mline_width\u001b[0m \u001b[0;34m=\u001b[0m \u001b[0;36m2\u001b[0m\u001b[0;34m,\u001b[0m \u001b[0mcolor\u001b[0m \u001b[0;34m=\u001b[0m \u001b[0mpalette\u001b[0m\u001b[0;34m[\u001b[0m\u001b[0;36m1\u001b[0m\u001b[0;34m]\u001b[0m\u001b[0;34m,\u001b[0m \u001b[0mlegend_label\u001b[0m \u001b[0;34m=\u001b[0m \u001b[0;34m'with ATP Synthase, ATP Use'\u001b[0m\u001b[0;34m)\u001b[0m\u001b[0;34m\u001b[0m\u001b[0;34m\u001b[0m\u001b[0m\n\u001b[0m\u001b[1;32m      6\u001b[0m \u001b[0mp_atp\u001b[0m\u001b[0;34m.\u001b[0m\u001b[0mline\u001b[0m\u001b[0;34m(\u001b[0m\u001b[0mtimepoints\u001b[0m\u001b[0;34m,\u001b[0m \u001b[0mresults2\u001b[0m\u001b[0;34m[\u001b[0m\u001b[0mATP_id2\u001b[0m\u001b[0;34m]\u001b[0m\u001b[0;34m,\u001b[0m\u001b[0mline_width\u001b[0m \u001b[0;34m=\u001b[0m \u001b[0;36m2\u001b[0m\u001b[0;34m,\u001b[0m \u001b[0mcolor\u001b[0m \u001b[0;34m=\u001b[0m \u001b[0mpalette\u001b[0m\u001b[0;34m[\u001b[0m\u001b[0;36m2\u001b[0m\u001b[0;34m]\u001b[0m\u001b[0;34m,\u001b[0m\u001b[0mlegend_label\u001b[0m \u001b[0;34m=\u001b[0m \u001b[0;34m'ATP Use only'\u001b[0m\u001b[0;34m)\u001b[0m\u001b[0;34m\u001b[0m\u001b[0;34m\u001b[0m\u001b[0m\n\u001b[1;32m      7\u001b[0m \u001b[0mp_atp\u001b[0m\u001b[0;34m.\u001b[0m\u001b[0mline\u001b[0m\u001b[0;34m(\u001b[0m\u001b[0mtimepoints\u001b[0m\u001b[0;34m,\u001b[0m \u001b[0mresults_everything\u001b[0m\u001b[0;34m[\u001b[0m\u001b[0mATP_id3\u001b[0m\u001b[0;34m]\u001b[0m\u001b[0;34m,\u001b[0m\u001b[0mline_width\u001b[0m \u001b[0;34m=\u001b[0m \u001b[0;36m2\u001b[0m\u001b[0;34m,\u001b[0m \u001b[0mcolor\u001b[0m \u001b[0;34m=\u001b[0m \u001b[0mpalette\u001b[0m\u001b[0;34m[\u001b[0m\u001b[0;36m0\u001b[0m\u001b[0;34m]\u001b[0m\u001b[0;34m,\u001b[0m\u001b[0mlegend_label\u001b[0m \u001b[0;34m=\u001b[0m \u001b[0;34m'with ATP Synthase, Proton Pump, ATP Use'\u001b[0m\u001b[0;34m)\u001b[0m\u001b[0;34m\u001b[0m\u001b[0;34m\u001b[0m\u001b[0m\n",
      "\u001b[0;32m~/opt/anaconda3/lib/python3.7/site-packages/pandas/core/frame.py\u001b[0m in \u001b[0;36m__getitem__\u001b[0;34m(self, key)\u001b[0m\n\u001b[1;32m   2798\u001b[0m             \u001b[0;32mif\u001b[0m \u001b[0mself\u001b[0m\u001b[0;34m.\u001b[0m\u001b[0mcolumns\u001b[0m\u001b[0;34m.\u001b[0m\u001b[0mnlevels\u001b[0m \u001b[0;34m>\u001b[0m \u001b[0;36m1\u001b[0m\u001b[0;34m:\u001b[0m\u001b[0;34m\u001b[0m\u001b[0;34m\u001b[0m\u001b[0m\n\u001b[1;32m   2799\u001b[0m                 \u001b[0;32mreturn\u001b[0m \u001b[0mself\u001b[0m\u001b[0;34m.\u001b[0m\u001b[0m_getitem_multilevel\u001b[0m\u001b[0;34m(\u001b[0m\u001b[0mkey\u001b[0m\u001b[0;34m)\u001b[0m\u001b[0;34m\u001b[0m\u001b[0;34m\u001b[0m\u001b[0m\n\u001b[0;32m-> 2800\u001b[0;31m             \u001b[0mindexer\u001b[0m \u001b[0;34m=\u001b[0m \u001b[0mself\u001b[0m\u001b[0;34m.\u001b[0m\u001b[0mcolumns\u001b[0m\u001b[0;34m.\u001b[0m\u001b[0mget_loc\u001b[0m\u001b[0;34m(\u001b[0m\u001b[0mkey\u001b[0m\u001b[0;34m)\u001b[0m\u001b[0;34m\u001b[0m\u001b[0;34m\u001b[0m\u001b[0m\n\u001b[0m\u001b[1;32m   2801\u001b[0m             \u001b[0;32mif\u001b[0m \u001b[0mis_integer\u001b[0m\u001b[0;34m(\u001b[0m\u001b[0mindexer\u001b[0m\u001b[0;34m)\u001b[0m\u001b[0;34m:\u001b[0m\u001b[0;34m\u001b[0m\u001b[0;34m\u001b[0m\u001b[0m\n\u001b[1;32m   2802\u001b[0m                 \u001b[0mindexer\u001b[0m \u001b[0;34m=\u001b[0m \u001b[0;34m[\u001b[0m\u001b[0mindexer\u001b[0m\u001b[0;34m]\u001b[0m\u001b[0;34m\u001b[0m\u001b[0;34m\u001b[0m\u001b[0m\n",
      "\u001b[0;32m~/opt/anaconda3/lib/python3.7/site-packages/pandas/core/indexes/base.py\u001b[0m in \u001b[0;36mget_loc\u001b[0;34m(self, key, method, tolerance)\u001b[0m\n\u001b[1;32m   2646\u001b[0m                 \u001b[0;32mreturn\u001b[0m \u001b[0mself\u001b[0m\u001b[0;34m.\u001b[0m\u001b[0m_engine\u001b[0m\u001b[0;34m.\u001b[0m\u001b[0mget_loc\u001b[0m\u001b[0;34m(\u001b[0m\u001b[0mkey\u001b[0m\u001b[0;34m)\u001b[0m\u001b[0;34m\u001b[0m\u001b[0;34m\u001b[0m\u001b[0m\n\u001b[1;32m   2647\u001b[0m             \u001b[0;32mexcept\u001b[0m \u001b[0mKeyError\u001b[0m\u001b[0;34m:\u001b[0m\u001b[0;34m\u001b[0m\u001b[0;34m\u001b[0m\u001b[0m\n\u001b[0;32m-> 2648\u001b[0;31m                 \u001b[0;32mreturn\u001b[0m \u001b[0mself\u001b[0m\u001b[0;34m.\u001b[0m\u001b[0m_engine\u001b[0m\u001b[0;34m.\u001b[0m\u001b[0mget_loc\u001b[0m\u001b[0;34m(\u001b[0m\u001b[0mself\u001b[0m\u001b[0;34m.\u001b[0m\u001b[0m_maybe_cast_indexer\u001b[0m\u001b[0;34m(\u001b[0m\u001b[0mkey\u001b[0m\u001b[0;34m)\u001b[0m\u001b[0;34m)\u001b[0m\u001b[0;34m\u001b[0m\u001b[0;34m\u001b[0m\u001b[0m\n\u001b[0m\u001b[1;32m   2649\u001b[0m         \u001b[0mindexer\u001b[0m \u001b[0;34m=\u001b[0m \u001b[0mself\u001b[0m\u001b[0;34m.\u001b[0m\u001b[0mget_indexer\u001b[0m\u001b[0;34m(\u001b[0m\u001b[0;34m[\u001b[0m\u001b[0mkey\u001b[0m\u001b[0;34m]\u001b[0m\u001b[0;34m,\u001b[0m \u001b[0mmethod\u001b[0m\u001b[0;34m=\u001b[0m\u001b[0mmethod\u001b[0m\u001b[0;34m,\u001b[0m \u001b[0mtolerance\u001b[0m\u001b[0;34m=\u001b[0m\u001b[0mtolerance\u001b[0m\u001b[0;34m)\u001b[0m\u001b[0;34m\u001b[0m\u001b[0;34m\u001b[0m\u001b[0m\n\u001b[1;32m   2650\u001b[0m         \u001b[0;32mif\u001b[0m \u001b[0mindexer\u001b[0m\u001b[0;34m.\u001b[0m\u001b[0mndim\u001b[0m \u001b[0;34m>\u001b[0m \u001b[0;36m1\u001b[0m \u001b[0;32mor\u001b[0m \u001b[0mindexer\u001b[0m\u001b[0;34m.\u001b[0m\u001b[0msize\u001b[0m \u001b[0;34m>\u001b[0m \u001b[0;36m1\u001b[0m\u001b[0;34m:\u001b[0m\u001b[0;34m\u001b[0m\u001b[0;34m\u001b[0m\u001b[0m\n",
      "\u001b[0;32mpandas/_libs/index.pyx\u001b[0m in \u001b[0;36mpandas._libs.index.IndexEngine.get_loc\u001b[0;34m()\u001b[0m\n",
      "\u001b[0;32mpandas/_libs/index.pyx\u001b[0m in \u001b[0;36mpandas._libs.index.IndexEngine.get_loc\u001b[0;34m()\u001b[0m\n",
      "\u001b[0;32mpandas/_libs/hashtable_class_helper.pxi\u001b[0m in \u001b[0;36mpandas._libs.hashtable.PyObjectHashTable.get_item\u001b[0;34m()\u001b[0m\n",
      "\u001b[0;32mpandas/_libs/hashtable_class_helper.pxi\u001b[0m in \u001b[0;36mpandas._libs.hashtable.PyObjectHashTable.get_item\u001b[0;34m()\u001b[0m\n",
      "\u001b[0;31mKeyError\u001b[0m: 'metabolite_atp_protontransportbiocrnpyler_983878'"
     ]
    }
   ],
   "source": [
    "p_atp = bokeh.plotting.figure(width = 450, height = 350,\n",
    "                             title = 'ATP Compare',\n",
    "                             x_axis_label = 'time (sec)',\n",
    "                             y_axis_label = 'concentration (nM)')\n",
    "p_atp.line(timepoints, results_everything[ATP_id3],line_width = 2, color = palette[0],legend_label = 'with ATP Synthase, Proton Pump, ATP Use')\n",
    "p_atp.line(timepoints, results1[ATP_id], line_width = 2, color = palette[1], legend_label = 'with ATP Synthase, ATP Use')\n",
    "p_atp.line(timepoints, results2[ATP_id2],line_width = 2, color = palette[2],legend_label = 'ATP Use only')\n",
    "p_atp.legend.location = 'center_right'\n",
    "bokeh.io.show(p_atp)"
   ]
  },
  {
   "cell_type": "code",
   "execution_count": null,
   "metadata": {},
   "outputs": [],
   "source": [
    "#watermark\n",
    "%reload_ext watermark\n",
    "%watermark -v -p numpy,bokeh,jupyterlab,scipy,biocrnpyler,bioscrape,colorcet,subsbml\n",
    "  "
   ]
  },
  {
   "cell_type": "code",
   "execution_count": null,
   "metadata": {},
   "outputs": [],
   "source": []
  }
 ],
 "metadata": {
  "kernelspec": {
   "display_name": "Python 3",
   "language": "python",
   "name": "python3"
  },
  "language_info": {
   "codemirror_mode": {
    "name": "ipython",
    "version": 3
   },
   "file_extension": ".py",
   "mimetype": "text/x-python",
   "name": "python",
   "nbconvert_exporter": "python",
   "pygments_lexer": "ipython3",
   "version": "3.7.7"
  }
 },
 "nbformat": 4,
 "nbformat_minor": 4
}
