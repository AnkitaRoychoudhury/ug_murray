{
 "cells": [
  {
   "cell_type": "markdown",
   "metadata": {},
   "source": [
    "# Combine All ATP Synthase and Proton Pump Models\n",
    "---"
   ]
  },
  {
   "cell_type": "code",
   "execution_count": 1,
   "metadata": {},
   "outputs": [
    {
     "data": {
      "text/html": [
       "\n",
       "    <div class=\"bk-root\">\n",
       "        <a href=\"https://bokeh.org\" target=\"_blank\" class=\"bk-logo bk-logo-small bk-logo-notebook\"></a>\n",
       "        <span id=\"1001\">Loading BokehJS ...</span>\n",
       "    </div>"
      ]
     },
     "metadata": {},
     "output_type": "display_data"
    },
    {
     "data": {
      "application/javascript": [
       "\n",
       "(function(root) {\n",
       "  function now() {\n",
       "    return new Date();\n",
       "  }\n",
       "\n",
       "  var force = true;\n",
       "\n",
       "  if (typeof root._bokeh_onload_callbacks === \"undefined\" || force === true) {\n",
       "    root._bokeh_onload_callbacks = [];\n",
       "    root._bokeh_is_loading = undefined;\n",
       "  }\n",
       "\n",
       "  var JS_MIME_TYPE = 'application/javascript';\n",
       "  var HTML_MIME_TYPE = 'text/html';\n",
       "  var EXEC_MIME_TYPE = 'application/vnd.bokehjs_exec.v0+json';\n",
       "  var CLASS_NAME = 'output_bokeh rendered_html';\n",
       "\n",
       "  /**\n",
       "   * Render data to the DOM node\n",
       "   */\n",
       "  function render(props, node) {\n",
       "    var script = document.createElement(\"script\");\n",
       "    node.appendChild(script);\n",
       "  }\n",
       "\n",
       "  /**\n",
       "   * Handle when an output is cleared or removed\n",
       "   */\n",
       "  function handleClearOutput(event, handle) {\n",
       "    var cell = handle.cell;\n",
       "\n",
       "    var id = cell.output_area._bokeh_element_id;\n",
       "    var server_id = cell.output_area._bokeh_server_id;\n",
       "    // Clean up Bokeh references\n",
       "    if (id != null && id in Bokeh.index) {\n",
       "      Bokeh.index[id].model.document.clear();\n",
       "      delete Bokeh.index[id];\n",
       "    }\n",
       "\n",
       "    if (server_id !== undefined) {\n",
       "      // Clean up Bokeh references\n",
       "      var cmd = \"from bokeh.io.state import curstate; print(curstate().uuid_to_server['\" + server_id + \"'].get_sessions()[0].document.roots[0]._id)\";\n",
       "      cell.notebook.kernel.execute(cmd, {\n",
       "        iopub: {\n",
       "          output: function(msg) {\n",
       "            var id = msg.content.text.trim();\n",
       "            if (id in Bokeh.index) {\n",
       "              Bokeh.index[id].model.document.clear();\n",
       "              delete Bokeh.index[id];\n",
       "            }\n",
       "          }\n",
       "        }\n",
       "      });\n",
       "      // Destroy server and session\n",
       "      var cmd = \"import bokeh.io.notebook as ion; ion.destroy_server('\" + server_id + \"')\";\n",
       "      cell.notebook.kernel.execute(cmd);\n",
       "    }\n",
       "  }\n",
       "\n",
       "  /**\n",
       "   * Handle when a new output is added\n",
       "   */\n",
       "  function handleAddOutput(event, handle) {\n",
       "    var output_area = handle.output_area;\n",
       "    var output = handle.output;\n",
       "\n",
       "    // limit handleAddOutput to display_data with EXEC_MIME_TYPE content only\n",
       "    if ((output.output_type != \"display_data\") || (!output.data.hasOwnProperty(EXEC_MIME_TYPE))) {\n",
       "      return\n",
       "    }\n",
       "\n",
       "    var toinsert = output_area.element.find(\".\" + CLASS_NAME.split(' ')[0]);\n",
       "\n",
       "    if (output.metadata[EXEC_MIME_TYPE][\"id\"] !== undefined) {\n",
       "      toinsert[toinsert.length - 1].firstChild.textContent = output.data[JS_MIME_TYPE];\n",
       "      // store reference to embed id on output_area\n",
       "      output_area._bokeh_element_id = output.metadata[EXEC_MIME_TYPE][\"id\"];\n",
       "    }\n",
       "    if (output.metadata[EXEC_MIME_TYPE][\"server_id\"] !== undefined) {\n",
       "      var bk_div = document.createElement(\"div\");\n",
       "      bk_div.innerHTML = output.data[HTML_MIME_TYPE];\n",
       "      var script_attrs = bk_div.children[0].attributes;\n",
       "      for (var i = 0; i < script_attrs.length; i++) {\n",
       "        toinsert[toinsert.length - 1].firstChild.setAttribute(script_attrs[i].name, script_attrs[i].value);\n",
       "      }\n",
       "      // store reference to server id on output_area\n",
       "      output_area._bokeh_server_id = output.metadata[EXEC_MIME_TYPE][\"server_id\"];\n",
       "    }\n",
       "  }\n",
       "\n",
       "  function register_renderer(events, OutputArea) {\n",
       "\n",
       "    function append_mime(data, metadata, element) {\n",
       "      // create a DOM node to render to\n",
       "      var toinsert = this.create_output_subarea(\n",
       "        metadata,\n",
       "        CLASS_NAME,\n",
       "        EXEC_MIME_TYPE\n",
       "      );\n",
       "      this.keyboard_manager.register_events(toinsert);\n",
       "      // Render to node\n",
       "      var props = {data: data, metadata: metadata[EXEC_MIME_TYPE]};\n",
       "      render(props, toinsert[toinsert.length - 1]);\n",
       "      element.append(toinsert);\n",
       "      return toinsert\n",
       "    }\n",
       "\n",
       "    /* Handle when an output is cleared or removed */\n",
       "    events.on('clear_output.CodeCell', handleClearOutput);\n",
       "    events.on('delete.Cell', handleClearOutput);\n",
       "\n",
       "    /* Handle when a new output is added */\n",
       "    events.on('output_added.OutputArea', handleAddOutput);\n",
       "\n",
       "    /**\n",
       "     * Register the mime type and append_mime function with output_area\n",
       "     */\n",
       "    OutputArea.prototype.register_mime_type(EXEC_MIME_TYPE, append_mime, {\n",
       "      /* Is output safe? */\n",
       "      safe: true,\n",
       "      /* Index of renderer in `output_area.display_order` */\n",
       "      index: 0\n",
       "    });\n",
       "  }\n",
       "\n",
       "  // register the mime type if in Jupyter Notebook environment and previously unregistered\n",
       "  if (root.Jupyter !== undefined) {\n",
       "    var events = require('base/js/events');\n",
       "    var OutputArea = require('notebook/js/outputarea').OutputArea;\n",
       "\n",
       "    if (OutputArea.prototype.mime_types().indexOf(EXEC_MIME_TYPE) == -1) {\n",
       "      register_renderer(events, OutputArea);\n",
       "    }\n",
       "  }\n",
       "\n",
       "  \n",
       "  if (typeof (root._bokeh_timeout) === \"undefined\" || force === true) {\n",
       "    root._bokeh_timeout = Date.now() + 5000;\n",
       "    root._bokeh_failed_load = false;\n",
       "  }\n",
       "\n",
       "  var NB_LOAD_WARNING = {'data': {'text/html':\n",
       "     \"<div style='background-color: #fdd'>\\n\"+\n",
       "     \"<p>\\n\"+\n",
       "     \"BokehJS does not appear to have successfully loaded. If loading BokehJS from CDN, this \\n\"+\n",
       "     \"may be due to a slow or bad network connection. Possible fixes:\\n\"+\n",
       "     \"</p>\\n\"+\n",
       "     \"<ul>\\n\"+\n",
       "     \"<li>re-rerun `output_notebook()` to attempt to load from CDN again, or</li>\\n\"+\n",
       "     \"<li>use INLINE resources instead, as so:</li>\\n\"+\n",
       "     \"</ul>\\n\"+\n",
       "     \"<code>\\n\"+\n",
       "     \"from bokeh.resources import INLINE\\n\"+\n",
       "     \"output_notebook(resources=INLINE)\\n\"+\n",
       "     \"</code>\\n\"+\n",
       "     \"</div>\"}};\n",
       "\n",
       "  function display_loaded() {\n",
       "    var el = document.getElementById(\"1001\");\n",
       "    if (el != null) {\n",
       "      el.textContent = \"BokehJS is loading...\";\n",
       "    }\n",
       "    if (root.Bokeh !== undefined) {\n",
       "      if (el != null) {\n",
       "        el.textContent = \"BokehJS \" + root.Bokeh.version + \" successfully loaded.\";\n",
       "      }\n",
       "    } else if (Date.now() < root._bokeh_timeout) {\n",
       "      setTimeout(display_loaded, 100)\n",
       "    }\n",
       "  }\n",
       "\n",
       "\n",
       "  function run_callbacks() {\n",
       "    try {\n",
       "      root._bokeh_onload_callbacks.forEach(function(callback) {\n",
       "        if (callback != null)\n",
       "          callback();\n",
       "      });\n",
       "    } finally {\n",
       "      delete root._bokeh_onload_callbacks\n",
       "    }\n",
       "    console.debug(\"Bokeh: all callbacks have finished\");\n",
       "  }\n",
       "\n",
       "  function load_libs(css_urls, js_urls, callback) {\n",
       "    if (css_urls == null) css_urls = [];\n",
       "    if (js_urls == null) js_urls = [];\n",
       "\n",
       "    root._bokeh_onload_callbacks.push(callback);\n",
       "    if (root._bokeh_is_loading > 0) {\n",
       "      console.debug(\"Bokeh: BokehJS is being loaded, scheduling callback at\", now());\n",
       "      return null;\n",
       "    }\n",
       "    if (js_urls == null || js_urls.length === 0) {\n",
       "      run_callbacks();\n",
       "      return null;\n",
       "    }\n",
       "    console.debug(\"Bokeh: BokehJS not loaded, scheduling load and callback at\", now());\n",
       "    root._bokeh_is_loading = css_urls.length + js_urls.length;\n",
       "\n",
       "    function on_load() {\n",
       "      root._bokeh_is_loading--;\n",
       "      if (root._bokeh_is_loading === 0) {\n",
       "        console.debug(\"Bokeh: all BokehJS libraries/stylesheets loaded\");\n",
       "        run_callbacks()\n",
       "      }\n",
       "    }\n",
       "\n",
       "    function on_error() {\n",
       "      console.error(\"failed to load \" + url);\n",
       "    }\n",
       "\n",
       "    for (var i = 0; i < css_urls.length; i++) {\n",
       "      var url = css_urls[i];\n",
       "      const element = document.createElement(\"link\");\n",
       "      element.onload = on_load;\n",
       "      element.onerror = on_error;\n",
       "      element.rel = \"stylesheet\";\n",
       "      element.type = \"text/css\";\n",
       "      element.href = url;\n",
       "      console.debug(\"Bokeh: injecting link tag for BokehJS stylesheet: \", url);\n",
       "      document.body.appendChild(element);\n",
       "    }\n",
       "\n",
       "    for (var i = 0; i < js_urls.length; i++) {\n",
       "      var url = js_urls[i];\n",
       "      var element = document.createElement('script');\n",
       "      element.onload = on_load;\n",
       "      element.onerror = on_error;\n",
       "      element.async = false;\n",
       "      element.src = url;\n",
       "      console.debug(\"Bokeh: injecting script tag for BokehJS library: \", url);\n",
       "      document.head.appendChild(element);\n",
       "    }\n",
       "  };var element = document.getElementById(\"1001\");\n",
       "  if (element == null) {\n",
       "    console.error(\"Bokeh: ERROR: autoload.js configured with elementid '1001' but no matching script tag was found. \")\n",
       "    return false;\n",
       "  }\n",
       "\n",
       "  function inject_raw_css(css) {\n",
       "    const element = document.createElement(\"style\");\n",
       "    element.appendChild(document.createTextNode(css));\n",
       "    document.body.appendChild(element);\n",
       "  }\n",
       "\n",
       "  \n",
       "  var js_urls = [\"https://cdn.pydata.org/bokeh/release/bokeh-1.4.0.min.js\", \"https://cdn.pydata.org/bokeh/release/bokeh-widgets-1.4.0.min.js\", \"https://cdn.pydata.org/bokeh/release/bokeh-tables-1.4.0.min.js\", \"https://cdn.pydata.org/bokeh/release/bokeh-gl-1.4.0.min.js\"];\n",
       "  var css_urls = [];\n",
       "  \n",
       "\n",
       "  var inline_js = [\n",
       "    function(Bokeh) {\n",
       "      Bokeh.set_log_level(\"info\");\n",
       "    },\n",
       "    function(Bokeh) {\n",
       "    \n",
       "    \n",
       "    }\n",
       "  ];\n",
       "\n",
       "  function run_inline_js() {\n",
       "    \n",
       "    if (root.Bokeh !== undefined || force === true) {\n",
       "      \n",
       "    for (var i = 0; i < inline_js.length; i++) {\n",
       "      inline_js[i].call(root, root.Bokeh);\n",
       "    }\n",
       "    if (force === true) {\n",
       "        display_loaded();\n",
       "      }} else if (Date.now() < root._bokeh_timeout) {\n",
       "      setTimeout(run_inline_js, 100);\n",
       "    } else if (!root._bokeh_failed_load) {\n",
       "      console.log(\"Bokeh: BokehJS failed to load within specified timeout.\");\n",
       "      root._bokeh_failed_load = true;\n",
       "    } else if (force !== true) {\n",
       "      var cell = $(document.getElementById(\"1001\")).parents('.cell').data().cell;\n",
       "      cell.output_area.append_execute_result(NB_LOAD_WARNING)\n",
       "    }\n",
       "\n",
       "  }\n",
       "\n",
       "  if (root._bokeh_is_loading === 0) {\n",
       "    console.debug(\"Bokeh: BokehJS loaded, going straight to plotting\");\n",
       "    run_inline_js();\n",
       "  } else {\n",
       "    load_libs(css_urls, js_urls, function() {\n",
       "      console.debug(\"Bokeh: BokehJS plotting callback run at\", now());\n",
       "      run_inline_js();\n",
       "    });\n",
       "  }\n",
       "}(window));"
      ],
      "application/vnd.bokehjs_load.v0+json": "\n(function(root) {\n  function now() {\n    return new Date();\n  }\n\n  var force = true;\n\n  if (typeof root._bokeh_onload_callbacks === \"undefined\" || force === true) {\n    root._bokeh_onload_callbacks = [];\n    root._bokeh_is_loading = undefined;\n  }\n\n  \n\n  \n  if (typeof (root._bokeh_timeout) === \"undefined\" || force === true) {\n    root._bokeh_timeout = Date.now() + 5000;\n    root._bokeh_failed_load = false;\n  }\n\n  var NB_LOAD_WARNING = {'data': {'text/html':\n     \"<div style='background-color: #fdd'>\\n\"+\n     \"<p>\\n\"+\n     \"BokehJS does not appear to have successfully loaded. If loading BokehJS from CDN, this \\n\"+\n     \"may be due to a slow or bad network connection. Possible fixes:\\n\"+\n     \"</p>\\n\"+\n     \"<ul>\\n\"+\n     \"<li>re-rerun `output_notebook()` to attempt to load from CDN again, or</li>\\n\"+\n     \"<li>use INLINE resources instead, as so:</li>\\n\"+\n     \"</ul>\\n\"+\n     \"<code>\\n\"+\n     \"from bokeh.resources import INLINE\\n\"+\n     \"output_notebook(resources=INLINE)\\n\"+\n     \"</code>\\n\"+\n     \"</div>\"}};\n\n  function display_loaded() {\n    var el = document.getElementById(\"1001\");\n    if (el != null) {\n      el.textContent = \"BokehJS is loading...\";\n    }\n    if (root.Bokeh !== undefined) {\n      if (el != null) {\n        el.textContent = \"BokehJS \" + root.Bokeh.version + \" successfully loaded.\";\n      }\n    } else if (Date.now() < root._bokeh_timeout) {\n      setTimeout(display_loaded, 100)\n    }\n  }\n\n\n  function run_callbacks() {\n    try {\n      root._bokeh_onload_callbacks.forEach(function(callback) {\n        if (callback != null)\n          callback();\n      });\n    } finally {\n      delete root._bokeh_onload_callbacks\n    }\n    console.debug(\"Bokeh: all callbacks have finished\");\n  }\n\n  function load_libs(css_urls, js_urls, callback) {\n    if (css_urls == null) css_urls = [];\n    if (js_urls == null) js_urls = [];\n\n    root._bokeh_onload_callbacks.push(callback);\n    if (root._bokeh_is_loading > 0) {\n      console.debug(\"Bokeh: BokehJS is being loaded, scheduling callback at\", now());\n      return null;\n    }\n    if (js_urls == null || js_urls.length === 0) {\n      run_callbacks();\n      return null;\n    }\n    console.debug(\"Bokeh: BokehJS not loaded, scheduling load and callback at\", now());\n    root._bokeh_is_loading = css_urls.length + js_urls.length;\n\n    function on_load() {\n      root._bokeh_is_loading--;\n      if (root._bokeh_is_loading === 0) {\n        console.debug(\"Bokeh: all BokehJS libraries/stylesheets loaded\");\n        run_callbacks()\n      }\n    }\n\n    function on_error() {\n      console.error(\"failed to load \" + url);\n    }\n\n    for (var i = 0; i < css_urls.length; i++) {\n      var url = css_urls[i];\n      const element = document.createElement(\"link\");\n      element.onload = on_load;\n      element.onerror = on_error;\n      element.rel = \"stylesheet\";\n      element.type = \"text/css\";\n      element.href = url;\n      console.debug(\"Bokeh: injecting link tag for BokehJS stylesheet: \", url);\n      document.body.appendChild(element);\n    }\n\n    for (var i = 0; i < js_urls.length; i++) {\n      var url = js_urls[i];\n      var element = document.createElement('script');\n      element.onload = on_load;\n      element.onerror = on_error;\n      element.async = false;\n      element.src = url;\n      console.debug(\"Bokeh: injecting script tag for BokehJS library: \", url);\n      document.head.appendChild(element);\n    }\n  };var element = document.getElementById(\"1001\");\n  if (element == null) {\n    console.error(\"Bokeh: ERROR: autoload.js configured with elementid '1001' but no matching script tag was found. \")\n    return false;\n  }\n\n  function inject_raw_css(css) {\n    const element = document.createElement(\"style\");\n    element.appendChild(document.createTextNode(css));\n    document.body.appendChild(element);\n  }\n\n  \n  var js_urls = [\"https://cdn.pydata.org/bokeh/release/bokeh-1.4.0.min.js\", \"https://cdn.pydata.org/bokeh/release/bokeh-widgets-1.4.0.min.js\", \"https://cdn.pydata.org/bokeh/release/bokeh-tables-1.4.0.min.js\", \"https://cdn.pydata.org/bokeh/release/bokeh-gl-1.4.0.min.js\"];\n  var css_urls = [];\n  \n\n  var inline_js = [\n    function(Bokeh) {\n      Bokeh.set_log_level(\"info\");\n    },\n    function(Bokeh) {\n    \n    \n    }\n  ];\n\n  function run_inline_js() {\n    \n    if (root.Bokeh !== undefined || force === true) {\n      \n    for (var i = 0; i < inline_js.length; i++) {\n      inline_js[i].call(root, root.Bokeh);\n    }\n    if (force === true) {\n        display_loaded();\n      }} else if (Date.now() < root._bokeh_timeout) {\n      setTimeout(run_inline_js, 100);\n    } else if (!root._bokeh_failed_load) {\n      console.log(\"Bokeh: BokehJS failed to load within specified timeout.\");\n      root._bokeh_failed_load = true;\n    } else if (force !== true) {\n      var cell = $(document.getElementById(\"1001\")).parents('.cell').data().cell;\n      cell.output_area.append_execute_result(NB_LOAD_WARNING)\n    }\n\n  }\n\n  if (root._bokeh_is_loading === 0) {\n    console.debug(\"Bokeh: BokehJS loaded, going straight to plotting\");\n    run_inline_js();\n  } else {\n    load_libs(css_urls, js_urls, function() {\n      console.debug(\"Bokeh: BokehJS plotting callback run at\", now());\n      run_inline_js();\n    });\n  }\n}(window));"
     },
     "metadata": {},
     "output_type": "display_data"
    }
   ],
   "source": [
    "from biocrnpyler import *\n",
    "#from biocrnpyler.chemical_reaction_network import Species, Reaction, ComplexSpecies, Multimer\n",
    "import numpy as np\n",
    "import pylab as plt \n",
    "%matplotlib inline\n",
    "\n",
    "import bokeh.io\n",
    "import bokeh.plotting\n",
    "bokeh.io.output_notebook()\n",
    "\n",
    "import colorcet\n",
    "\n",
    "from subsbml import createNewSubsystem, createSubsystem"
   ]
  },
  {
   "cell_type": "code",
   "execution_count": 2,
   "metadata": {},
   "outputs": [],
   "source": [
    "palette = colorcet.b_glasbey_category10\n",
    "palette.remove( '#d62628')"
   ]
  },
  {
   "cell_type": "markdown",
   "metadata": {},
   "source": [
    "## Combine ATP synthase tx, tl, membrane integration, atp synthesis models\n",
    "---"
   ]
  },
  {
   "cell_type": "code",
   "execution_count": 224,
   "metadata": {},
   "outputs": [],
   "source": [
    "# atp synthase models\n",
    "#ss1_atpsyn_txtl = createSubsystem('atpsynthase_tx_tl.xml', subsystemName = 'atpsyn_txtl')\n",
    "ss1_atpsyn_txtl = createSubsystem('atpsynthase_simple_txtl.xml', subsystemName = 'atpsyn_txtl')\n",
    "\n",
    "\n",
    "ss2_atpsyn_mi = createSubsystem('atpsynthase_membrane_integration.xml', subsystemName = 'atpsyn_mi')\n",
    "ss3_atpsynthesis = createSubsystem('atp_synthesis_through_atpsynthase.xml', subsystemName = 'atpsynthesis')\n",
    "\n",
    "# proton pump ss\n",
    "# ss4_pp_txtl = createSubsystem('proton_pump_tx_tl.xml', subsystemName = 'pp_txtl')\n",
    "# ss5_pp_mi = createSubsystem('proton_pump_membrane_integration.xml', subsystemName = 'pp_mi')\n",
    "# ss6_protontransport = createSubsystem('proton_transport_through_proton_pump.xml', subsystemName = 'protontransport')\n"
   ]
  },
  {
   "cell_type": "code",
   "execution_count": 225,
   "metadata": {},
   "outputs": [],
   "source": [
    "#atp_subsystem = ss1_atpsyn_txtl + ss2_atpsyn_mi + ss3_atpsynthesis\n",
    "atp_subsystem = ss1_atpsyn_txtl + ss2_atpsyn_mi + ss3_atpsynthesis\n"
   ]
  },
  {
   "cell_type": "code",
   "execution_count": 226,
   "metadata": {},
   "outputs": [],
   "source": [
    "#atp_subsystem.getSpeciesByName('protein_atpsyn_b')"
   ]
  },
  {
   "cell_type": "code",
   "execution_count": 234,
   "metadata": {},
   "outputs": [],
   "source": [
    "# spec_list_10 = ['metabolite_atp', 'proton_outside_H', 'dna_atpsyn', 'protein_RNAP_machinery',\n",
    "#                'protein_Ribo_machinery', 'protein_RNAase_machinery']\n",
    "spec_list_10 = ['dna_atpsyn', 'proton_outside_H', 'metabolite_atp']\n",
    "for i,spec in enumerate(spec_list_10):\n",
    "    atp_subsystem.setSpeciesAmount(spec,10)"
   ]
  },
  {
   "cell_type": "code",
   "execution_count": 235,
   "metadata": {},
   "outputs": [],
   "source": [
    "timepoints = np.linspace(0,10,100)\n",
    "results, _ = atp_subsystem.simulateWithBioscrape(timepoints, sbml_warnings = False)"
   ]
  },
  {
   "cell_type": "code",
   "execution_count": 236,
   "metadata": {},
   "outputs": [
    {
     "data": {
      "text/plain": [
       "Index(['rna_atpsyn_atpsyn_txtlbiocrnpyler_429022',\n",
       "       'dna_atpsyn_atpsyn_txtlbiocrnpyler_429022',\n",
       "       'protein_atpsyn_atpsyn_txtlbiocrnpyler_429022_1_combined',\n",
       "       'proton_outside_H_atpsynthesisbiocrnpyler_651495',\n",
       "       'proton_inside_H_atpsynthesisbiocrnpyler_651495',\n",
       "       'protein_atpsyn_b_atpsyn_mibiocrnpyler_494589_1_combined',\n",
       "       'metabolite_adp_atpsynthesisbiocrnpyler_651495',\n",
       "       'metabolite_atp_atpsynthesisbiocrnpyler_651495',\n",
       "       'metabolite_pi_atpsynthesisbiocrnpyler_651495', 'time'],\n",
       "      dtype='object')"
      ]
     },
     "execution_count": 236,
     "metadata": {},
     "output_type": "execute_result"
    }
   ],
   "source": [
    "results.columns"
   ]
  },
  {
   "cell_type": "code",
   "execution_count": 237,
   "metadata": {},
   "outputs": [],
   "source": [
    "ATP_id = atp_subsystem.getSpeciesByName('metabolite_atp').getId()\n",
    "ADP_id = atp_subsystem.getSpeciesByName('metabolite_adp').getId()\n",
    "\n",
    "outside_H_id = atp_subsystem.getSpeciesByName('proton_outside_H').getId()\n",
    "inside_H_id = atp_subsystem.getSpeciesByName('proton_inside_H').getId()\n",
    "atp_synthase_b_protein_id = atp_subsystem.getSpeciesByName('protein_atpsyn_b').getId()\n",
    "atp_synthase_f_protein_id = atp_subsystem.getSpeciesByName('protein_atpsyn').getId()\n",
    "\n",
    "rna_atpsyn_id = atp_subsystem.getSpeciesByName('rna_atpsyn').getId()\n",
    "\n",
    "dna_atpsyn_id = atp_subsystem.getSpeciesByName('dna_atpsyn').getId()"
   ]
  },
  {
   "cell_type": "code",
   "execution_count": 238,
   "metadata": {},
   "outputs": [
    {
     "data": {
      "text/plain": [
       "Index(['rna_atpsyn_atpsyn_txtlbiocrnpyler_429022',\n",
       "       'dna_atpsyn_atpsyn_txtlbiocrnpyler_429022',\n",
       "       'protein_atpsyn_atpsyn_txtlbiocrnpyler_429022_1_combined',\n",
       "       'proton_outside_H_atpsynthesisbiocrnpyler_651495',\n",
       "       'proton_inside_H_atpsynthesisbiocrnpyler_651495',\n",
       "       'protein_atpsyn_b_atpsyn_mibiocrnpyler_494589_1_combined',\n",
       "       'metabolite_adp_atpsynthesisbiocrnpyler_651495',\n",
       "       'metabolite_atp_atpsynthesisbiocrnpyler_651495',\n",
       "       'metabolite_pi_atpsynthesisbiocrnpyler_651495', 'time'],\n",
       "      dtype='object')"
      ]
     },
     "execution_count": 238,
     "metadata": {},
     "output_type": "execute_result"
    }
   ],
   "source": [
    "results.columns"
   ]
  },
  {
   "cell_type": "code",
   "execution_count": 239,
   "metadata": {},
   "outputs": [
    {
     "data": {
      "text/html": [
       "\n",
       "\n",
       "\n",
       "\n",
       "\n",
       "\n",
       "  <div class=\"bk-root\" id=\"8da69174-3285-4430-b3f6-27f113095de6\" data-root-id=\"15360\"></div>\n"
      ]
     },
     "metadata": {},
     "output_type": "display_data"
    },
    {
     "data": {
      "application/javascript": [
       "(function(root) {\n",
       "  function embed_document(root) {\n",
       "    \n",
       "  var docs_json = {\"e58eefce-4d16-4ed6-ae42-9bdfa2dd7b61\":{\"roots\":{\"references\":[{\"attributes\":{\"below\":[{\"id\":\"15369\",\"type\":\"LinearAxis\"}],\"center\":[{\"id\":\"15373\",\"type\":\"Grid\"},{\"id\":\"15378\",\"type\":\"Grid\"},{\"id\":\"15404\",\"type\":\"Legend\"}],\"left\":[{\"id\":\"15374\",\"type\":\"LinearAxis\"}],\"plot_height\":300,\"plot_width\":450,\"renderers\":[{\"id\":\"15395\",\"type\":\"GlyphRenderer\"},{\"id\":\"15409\",\"type\":\"GlyphRenderer\"},{\"id\":\"15424\",\"type\":\"GlyphRenderer\"},{\"id\":\"15441\",\"type\":\"GlyphRenderer\"}],\"title\":{\"id\":\"15397\",\"type\":\"Title\"},\"toolbar\":{\"id\":\"15385\",\"type\":\"Toolbar\"},\"x_range\":{\"id\":\"15361\",\"type\":\"DataRange1d\"},\"x_scale\":{\"id\":\"15365\",\"type\":\"LinearScale\"},\"y_range\":{\"id\":\"15363\",\"type\":\"DataRange1d\"},\"y_scale\":{\"id\":\"15367\",\"type\":\"LinearScale\"}},\"id\":\"15360\",\"subtype\":\"Figure\",\"type\":\"Plot\"},{\"attributes\":{\"callback\":null},\"id\":\"15361\",\"type\":\"DataRange1d\"},{\"attributes\":{\"active_drag\":\"auto\",\"active_inspect\":\"auto\",\"active_multi\":null,\"active_scroll\":\"auto\",\"active_tap\":\"auto\",\"tools\":[{\"id\":\"15379\",\"type\":\"PanTool\"},{\"id\":\"15380\",\"type\":\"WheelZoomTool\"},{\"id\":\"15381\",\"type\":\"BoxZoomTool\"},{\"id\":\"15382\",\"type\":\"SaveTool\"},{\"id\":\"15383\",\"type\":\"ResetTool\"},{\"id\":\"15384\",\"type\":\"HelpTool\"}]},\"id\":\"15385\",\"type\":\"Toolbar\"},{\"attributes\":{\"line_color\":\"#1f77b3\",\"line_width\":2,\"x\":{\"field\":\"x\"},\"y\":{\"field\":\"y\"}},\"id\":\"15393\",\"type\":\"Line\"},{\"attributes\":{},\"id\":\"15418\",\"type\":\"UnionRenderers\"},{\"attributes\":{},\"id\":\"15370\",\"type\":\"BasicTicker\"},{\"attributes\":{\"line_alpha\":0.1,\"line_color\":\"#1f77b4\",\"line_width\":2,\"x\":{\"field\":\"x\"},\"y\":{\"field\":\"y\"}},\"id\":\"15440\",\"type\":\"Line\"},{\"attributes\":{\"line_color\":\"#ff7e0e\",\"line_width\":2,\"x\":{\"field\":\"x\"},\"y\":{\"field\":\"y\"}},\"id\":\"15407\",\"type\":\"Line\"},{\"attributes\":{\"line_color\":\"#2ba02b\",\"line_width\":2,\"x\":{\"field\":\"x\"},\"y\":{\"field\":\"y\"}},\"id\":\"15422\",\"type\":\"Line\"},{\"attributes\":{\"callback\":null,\"data\":{\"x\":{\"__ndarray__\":\"AAAAAAAAAAAxb2dIzNu5PzFvZ0jM28k/ZZNNNtlk0z8xb2dIzNvZP3+lQK1fKeA/ZZNNNtlk4z9LgVq/UqDmPzFvZ0jM2+k/F1100UUX7T9/pUCtXynwP3Icx3Ecx/E/ZZNNNtlk8z9YCtT6lQL1P0uBWr9SoPY/Pvjggw8++D8xb2dIzNv5PyTm7QyJefs/F1100UUX/T8K1PqVArX+P3+lQK1fKQBA+OCDDz74AEByHMdxHMcBQOtXCtT6lQJAZZNNNtlkA0DezpCYtzMEQFgK1PqVAgVA0UUXXXTRBUBLgVq/UqAGQMS8nSExbwdAPvjggw8+CEC3MyTm7QwJQDFvZ0jM2wlAq6qqqqqqCkAk5u0MiXkLQJ4hMW9nSAxAF1100UUXDUCRmLczJOYNQArU+pUCtQ5AhA8++OCDD0B/pUCtXykQQDtDYt7OkBBA+OCDDz74EEC1fqVArV8RQHIcx3EcxxFALrrooosuEkDrVwrU+pUSQKj1KwVq/RJAZZNNNtlkE0AiMW9nSMwTQN7OkJi3MxRAm2yyySabFEBYCtT6lQIVQBWo9SsFahVA0UUXXXTRFUCO4ziO4zgWQEuBWr9SoBZACB988MEHF0DEvJ0hMW8XQIFav1Kg1hdAPvjggw8+GED7lQK1fqUYQLczJObtDBlAdNFFF110GUAxb2dIzNsZQO4MiXk7QxpAq6qqqqqqGkBnSMzbGRIbQCTm7QyJeRtA4YMPPvjgG0CeITFvZ0gcQFq/UqDWrxxAF1100UUXHUDU+pUCtX4dQJGYtzMk5h1ATTbZZJNNHkAK1PqVArUeQMdxHMdxHB9AhA8++OCDH0BArV8pUOsfQH+lQK1fKSBAXXTRRRddIEA7Q2LezpAgQBoS83aGxCBA+OCDDz74IEDXrxSo9SshQLV+pUCtXyFAk0022WSTIUByHMdxHMchQFDrVwrU+iFALrrooosuIkANiXk7Q2IiQOtXCtT6lSJAyiabbLLJIkCo9SsFav0iQIbEvJ0hMSNAZZNNNtlkI0BDYt7OkJgjQCIxb2dIzCNAAAAAAAAAJEA=\",\"dtype\":\"float64\",\"shape\":[100]},\"y\":{\"__ndarray__\":\"AAAAAAAAAAD4mQSyIxhaP1WCqUNdNIg/aXvm8nnzoj8O863zvtm0P9ZKSEP66MI/YM6E2fxbzj+ckn3gn2fWP5U2L2Y8Gd8/oSKEB4yY5D8JCyoVQ0vqP/Alim8ES/A/qxZi/0608z+geDpk+Fj3PyohiEdVMPs/jPnH2c4x/z8DgS9xhqoBQMDvMosKyQNAib0pz7DwBUAGRmk0+B0IQO1Np1SmTQpAbP9s1Ml8DEDYv8PwuqgOQPGNM02NZxBAucN6Oeh2EUDcUQz7g4ESQE17LoWWhhNAT8C7EnSFFEAn5G4YjX0VQGNjlCVsbhZAZkNKwLNXF0DNhSFHHDkYQGun499xEhlAWHtWeZLjGUDYO5vja6waQPShzQP6bBtAp1SKIkUlHECEPhBYYNUcQOYD0BVofR1AGgGXzYAdHkCUwka11bUeQP/zi6aXRh9A+P3JGfzPH0AnjrQcHikgQFM15wfKZiBAiUJm5CChIEDvvn6FQtggQJpyRzBPDCFAvxyrXGc9IUCET3l7q2shQJbYwsU7lyFAPFa1ETjAIUC44+uwv+YhQCTfdlDxCiJAAySf4OosIkBzVYGAyUwiQHWn822paiJAcGbr+KWGIkAgwTN62aAiQP5j+ExduSJAjFT9yknQIkA7WZ1KtuUiQBVVBB+5+SJACWz+mWcMI0ANkvkO1h0jQGc7VNcXLiNAKVSsVz89I0CDJ9kFXksjQA/xn2+EWCNA9SblQcJkI0CJ+kdQJnAjQM2T/Jy+eiNAQNDcYJiEI0AytJETwI0jQPxIxHNBliNA2LNVjyeeI0DDW3zLfKUjQHyjy+xKrCNAquVPH5uyI0A/z+D8dbgjQFn8+5bjvSNAod15fOvCI0BZIJnAlMcjQK3gGQLmyyNAnDm2ceXPI0CnvmrYmNMjQAEIc50F1yNAZ3D6yzDaI0B9bsoYH90jQA/1MefU3yNASOggTlbiI0DaWwMdp+QjQEPPD+DK5iNAdzWX5MToI0Da6Qg9mOojQHwhu8RH7CNA9KV8I9btI0Ck1PfQRe8jQFh94ReZ8CNAvyb4GNLxI0A=\",\"dtype\":\"float64\",\"shape\":[100]}},\"selected\":{\"id\":\"15949\",\"type\":\"Selection\"},\"selection_policy\":{\"id\":\"15948\",\"type\":\"UnionRenderers\"}},\"id\":\"15438\",\"type\":\"ColumnDataSource\"},{\"attributes\":{},\"id\":\"15365\",\"type\":\"LinearScale\"},{\"attributes\":{},\"id\":\"15436\",\"type\":\"Selection\"},{\"attributes\":{\"data_source\":{\"id\":\"15392\",\"type\":\"ColumnDataSource\"},\"glyph\":{\"id\":\"15393\",\"type\":\"Line\"},\"hover_glyph\":null,\"muted_glyph\":null,\"nonselection_glyph\":{\"id\":\"15394\",\"type\":\"Line\"},\"selection_glyph\":null,\"view\":{\"id\":\"15396\",\"type\":\"CDSView\"}},\"id\":\"15395\",\"type\":\"GlyphRenderer\"},{\"attributes\":{\"click_policy\":\"hide\",\"items\":[{\"id\":\"15405\",\"type\":\"LegendItem\"},{\"id\":\"15420\",\"type\":\"LegendItem\"},{\"id\":\"15437\",\"type\":\"LegendItem\"},{\"id\":\"15456\",\"type\":\"LegendItem\"}],\"location\":\"center_right\"},\"id\":\"15404\",\"type\":\"Legend\"},{\"attributes\":{\"callback\":null,\"data\":{\"x\":{\"__ndarray__\":\"AAAAAAAAAAAxb2dIzNu5PzFvZ0jM28k/ZZNNNtlk0z8xb2dIzNvZP3+lQK1fKeA/ZZNNNtlk4z9LgVq/UqDmPzFvZ0jM2+k/F1100UUX7T9/pUCtXynwP3Icx3Ecx/E/ZZNNNtlk8z9YCtT6lQL1P0uBWr9SoPY/Pvjggw8++D8xb2dIzNv5PyTm7QyJefs/F1100UUX/T8K1PqVArX+P3+lQK1fKQBA+OCDDz74AEByHMdxHMcBQOtXCtT6lQJAZZNNNtlkA0DezpCYtzMEQFgK1PqVAgVA0UUXXXTRBUBLgVq/UqAGQMS8nSExbwdAPvjggw8+CEC3MyTm7QwJQDFvZ0jM2wlAq6qqqqqqCkAk5u0MiXkLQJ4hMW9nSAxAF1100UUXDUCRmLczJOYNQArU+pUCtQ5AhA8++OCDD0B/pUCtXykQQDtDYt7OkBBA+OCDDz74EEC1fqVArV8RQHIcx3EcxxFALrrooosuEkDrVwrU+pUSQKj1KwVq/RJAZZNNNtlkE0AiMW9nSMwTQN7OkJi3MxRAm2yyySabFEBYCtT6lQIVQBWo9SsFahVA0UUXXXTRFUCO4ziO4zgWQEuBWr9SoBZACB988MEHF0DEvJ0hMW8XQIFav1Kg1hdAPvjggw8+GED7lQK1fqUYQLczJObtDBlAdNFFF110GUAxb2dIzNsZQO4MiXk7QxpAq6qqqqqqGkBnSMzbGRIbQCTm7QyJeRtA4YMPPvjgG0CeITFvZ0gcQFq/UqDWrxxAF1100UUXHUDU+pUCtX4dQJGYtzMk5h1ATTbZZJNNHkAK1PqVArUeQMdxHMdxHB9AhA8++OCDH0BArV8pUOsfQH+lQK1fKSBAXXTRRRddIEA7Q2LezpAgQBoS83aGxCBA+OCDDz74IEDXrxSo9SshQLV+pUCtXyFAk0022WSTIUByHMdxHMchQFDrVwrU+iFALrrooosuIkANiXk7Q2IiQOtXCtT6lSJAyiabbLLJIkCo9SsFav0iQIbEvJ0hMSNAZZNNNtlkI0BDYt7OkJgjQCIxb2dIzCNAAAAAAAAAJEA=\",\"dtype\":\"float64\",\"shape\":[100]},\"y\":{\"__ndarray__\":\"AAAAAAAAAABvqpMG5ysWQDXZiqrcBiBArg+UEaY6IkCr2r2C7zUjQDjEBvXvpSNAFHEkodvXI0CsGf2wG+4jQLWHj38G+CNAJ7GmE3L8I0BCc4dvav4jQEx/HTxL/yNAFRpAbq//I0Db7dwW3P8jQMEYgv7v/yNAu+Sw3fj/I0AFlPnR/P8jQMsbKpX+/yNAggtKXv//I0AuXe23//8jQHu14N///yNAOvau8f//I0AnVp75//8jQN/gKv3//yNAi2a7/v//I0CmsGr///8jQC7Pvv///yNAtCDe////I0DkufL///8jQCL2+f///yNA5PD8////I0BViv////8jQFnx/v///yNANDwBAAAAJECUzv////8jQBSY+////yNATBL/////I0CIHvz///8jQIZu/////yNAvLACAAAAJEDKzgEAAAAkQPskAAAAACRAA3AAAAAAJEAr9P////8jQBT+/////yNAvwQAAAAAJEDyBwAAAAAkQKUDAAAAACRAsgwAAAAAJECi+f////8jQGIsAAAAACRA6JUAAAAAJEAuKQAAAAAkQLqP/////yNAY2MAAAAAJEAz1gEAAAAkQDGv/////yNAZM78////I0BkGQEAAAAkQNWPCgAAACRApWkKAAAAJEAtGfT///8jQOFp3////yNAQoj8////I0A/tD0AAAAkQLD9QgAAACRA1B/a////I0CyffH///8jQOuw+f///yNAfajx////I0C9WwMAAAAkQCA8AgAAACRAEfb/////I0DVvwAAAAAkQC06AAAAACRAHBcAAAAAJEDfEAAAAAAkQBcBAAAAACRA3ff/////I0CKAAEAAAAkQFIvAwAAACRAzvYEAAAAJEAAYwMAAAAkQHQ6/////yNAlG/9////I0B/ZgIAAAAkQMR3BwAAACRA0nkDAAAAJEBw1u3///8jQFq/1////yNAyN/d////I0CwPRMAAAAkQK0cYAAAACRAmSlRAAAAJEDbeyMAAAAkQNDlDQAAACRAqy0IAAAAJEDC0wMAAAAkQONtAQAAACRAtt4AAAAAJEA=\",\"dtype\":\"float64\",\"shape\":[100]}},\"selected\":{\"id\":\"15455\",\"type\":\"Selection\"},\"selection_policy\":{\"id\":\"15454\",\"type\":\"UnionRenderers\"}},\"id\":\"15421\",\"type\":\"ColumnDataSource\"},{\"attributes\":{},\"id\":\"15454\",\"type\":\"UnionRenderers\"},{\"attributes\":{\"formatter\":{\"id\":\"15400\",\"type\":\"BasicTickFormatter\"},\"ticker\":{\"id\":\"15370\",\"type\":\"BasicTicker\"}},\"id\":\"15369\",\"type\":\"LinearAxis\"},{\"attributes\":{},\"id\":\"15949\",\"type\":\"Selection\"},{\"attributes\":{\"callback\":null},\"id\":\"15363\",\"type\":\"DataRange1d\"},{\"attributes\":{\"bottom_units\":\"screen\",\"fill_alpha\":{\"value\":0.5},\"fill_color\":{\"value\":\"lightgrey\"},\"left_units\":\"screen\",\"level\":\"overlay\",\"line_alpha\":{\"value\":1.0},\"line_color\":{\"value\":\"black\"},\"line_dash\":[4,4],\"line_width\":{\"value\":2},\"render_mode\":\"css\",\"right_units\":\"screen\",\"top_units\":\"screen\"},\"id\":\"15403\",\"type\":\"BoxAnnotation\"},{\"attributes\":{},\"id\":\"15367\",\"type\":\"LinearScale\"},{\"attributes\":{},\"id\":\"15382\",\"type\":\"SaveTool\"},{\"attributes\":{\"line_alpha\":0.1,\"line_color\":\"#1f77b4\",\"line_width\":2,\"x\":{\"field\":\"x\"},\"y\":{\"field\":\"y\"}},\"id\":\"15394\",\"type\":\"Line\"},{\"attributes\":{\"data_source\":{\"id\":\"15438\",\"type\":\"ColumnDataSource\"},\"glyph\":{\"id\":\"15439\",\"type\":\"Line\"},\"hover_glyph\":null,\"muted_glyph\":null,\"nonselection_glyph\":{\"id\":\"15440\",\"type\":\"Line\"},\"selection_glyph\":null,\"view\":{\"id\":\"15442\",\"type\":\"CDSView\"}},\"id\":\"15441\",\"type\":\"GlyphRenderer\"},{\"attributes\":{\"source\":{\"id\":\"15438\",\"type\":\"ColumnDataSource\"}},\"id\":\"15442\",\"type\":\"CDSView\"},{\"attributes\":{\"callback\":null,\"data\":{\"x\":{\"__ndarray__\":\"AAAAAAAAAAAxb2dIzNu5PzFvZ0jM28k/ZZNNNtlk0z8xb2dIzNvZP3+lQK1fKeA/ZZNNNtlk4z9LgVq/UqDmPzFvZ0jM2+k/F1100UUX7T9/pUCtXynwP3Icx3Ecx/E/ZZNNNtlk8z9YCtT6lQL1P0uBWr9SoPY/Pvjggw8++D8xb2dIzNv5PyTm7QyJefs/F1100UUX/T8K1PqVArX+P3+lQK1fKQBA+OCDDz74AEByHMdxHMcBQOtXCtT6lQJAZZNNNtlkA0DezpCYtzMEQFgK1PqVAgVA0UUXXXTRBUBLgVq/UqAGQMS8nSExbwdAPvjggw8+CEC3MyTm7QwJQDFvZ0jM2wlAq6qqqqqqCkAk5u0MiXkLQJ4hMW9nSAxAF1100UUXDUCRmLczJOYNQArU+pUCtQ5AhA8++OCDD0B/pUCtXykQQDtDYt7OkBBA+OCDDz74EEC1fqVArV8RQHIcx3EcxxFALrrooosuEkDrVwrU+pUSQKj1KwVq/RJAZZNNNtlkE0AiMW9nSMwTQN7OkJi3MxRAm2yyySabFEBYCtT6lQIVQBWo9SsFahVA0UUXXXTRFUCO4ziO4zgWQEuBWr9SoBZACB988MEHF0DEvJ0hMW8XQIFav1Kg1hdAPvjggw8+GED7lQK1fqUYQLczJObtDBlAdNFFF110GUAxb2dIzNsZQO4MiXk7QxpAq6qqqqqqGkBnSMzbGRIbQCTm7QyJeRtA4YMPPvjgG0CeITFvZ0gcQFq/UqDWrxxAF1100UUXHUDU+pUCtX4dQJGYtzMk5h1ATTbZZJNNHkAK1PqVArUeQMdxHMdxHB9AhA8++OCDH0BArV8pUOsfQH+lQK1fKSBAXXTRRRddIEA7Q2LezpAgQBoS83aGxCBA+OCDDz74IEDXrxSo9SshQLV+pUCtXyFAk0022WSTIUByHMdxHMchQFDrVwrU+iFALrrooosuIkANiXk7Q2IiQOtXCtT6lSJAyiabbLLJIkCo9SsFav0iQIbEvJ0hMSNAZZNNNtlkI0BDYt7OkJgjQCIxb2dIzCNAAAAAAAAAJEA=\",\"dtype\":\"float64\",\"shape\":[100]},\"y\":{\"__ndarray__\":\"AAAAAAAAJEAAAAAAAAAkQAAAAAAAACRAAAAAAAAAJEAAAAAAAAAkQAAAAAAAACRAAAAAAAAAJEAAAAAAAAAkQAAAAAAAACRAAAAAAAAAJEAAAAAAAAAkQAAAAAAAACRAAAAAAAAAJEAAAAAAAAAkQAAAAAAAACRAAAAAAAAAJEAAAAAAAAAkQAAAAAAAACRAAAAAAAAAJEAAAAAAAAAkQAAAAAAAACRAAAAAAAAAJEAAAAAAAAAkQAAAAAAAACRAAAAAAAAAJEAAAAAAAAAkQAAAAAAAACRAAAAAAAAAJEAAAAAAAAAkQAAAAAAAACRAAAAAAAAAJEAAAAAAAAAkQAAAAAAAACRAAAAAAAAAJEAAAAAAAAAkQAAAAAAAACRAAAAAAAAAJEAAAAAAAAAkQAAAAAAAACRAAAAAAAAAJEAAAAAAAAAkQAAAAAAAACRAAAAAAAAAJEAAAAAAAAAkQAAAAAAAACRAAAAAAAAAJEAAAAAAAAAkQAAAAAAAACRAAAAAAAAAJEAAAAAAAAAkQAAAAAAAACRAAAAAAAAAJEAAAAAAAAAkQAAAAAAAACRAAAAAAAAAJEAAAAAAAAAkQAAAAAAAACRAAAAAAAAAJEAAAAAAAAAkQAAAAAAAACRAAAAAAAAAJEAAAAAAAAAkQAAAAAAAACRAAAAAAAAAJEAAAAAAAAAkQAAAAAAAACRAAAAAAAAAJEAAAAAAAAAkQAAAAAAAACRAAAAAAAAAJEAAAAAAAAAkQAAAAAAAACRAAAAAAAAAJEAAAAAAAAAkQAAAAAAAACRAAAAAAAAAJEAAAAAAAAAkQAAAAAAAACRAAAAAAAAAJEAAAAAAAAAkQAAAAAAAACRAAAAAAAAAJEAAAAAAAAAkQAAAAAAAACRAAAAAAAAAJEAAAAAAAAAkQAAAAAAAACRAAAAAAAAAJEAAAAAAAAAkQAAAAAAAACRAAAAAAAAAJEAAAAAAAAAkQAAAAAAAACRAAAAAAAAAJEAAAAAAAAAkQAAAAAAAACRAAAAAAAAAJEAAAAAAAAAkQAAAAAAAACRAAAAAAAAAJEA=\",\"dtype\":\"float64\",\"shape\":[100]}},\"selected\":{\"id\":\"15419\",\"type\":\"Selection\"},\"selection_policy\":{\"id\":\"15418\",\"type\":\"UnionRenderers\"}},\"id\":\"15392\",\"type\":\"ColumnDataSource\"},{\"attributes\":{},\"id\":\"15948\",\"type\":\"UnionRenderers\"},{\"attributes\":{\"data_source\":{\"id\":\"15421\",\"type\":\"ColumnDataSource\"},\"glyph\":{\"id\":\"15422\",\"type\":\"Line\"},\"hover_glyph\":null,\"muted_glyph\":null,\"nonselection_glyph\":{\"id\":\"15423\",\"type\":\"Line\"},\"selection_glyph\":null,\"view\":{\"id\":\"15425\",\"type\":\"CDSView\"}},\"id\":\"15424\",\"type\":\"GlyphRenderer\"},{\"attributes\":{\"label\":{\"value\":\"outside_H\"},\"renderers\":[{\"id\":\"15409\",\"type\":\"GlyphRenderer\"}]},\"id\":\"15420\",\"type\":\"LegendItem\"},{\"attributes\":{\"label\":{\"value\":\"atp\"},\"renderers\":[{\"id\":\"15395\",\"type\":\"GlyphRenderer\"}]},\"id\":\"15405\",\"type\":\"LegendItem\"},{\"attributes\":{\"label\":{\"value\":\"atp synthase bound\"},\"renderers\":[{\"id\":\"15441\",\"type\":\"GlyphRenderer\"}]},\"id\":\"15456\",\"type\":\"LegendItem\"},{\"attributes\":{\"line_alpha\":0.1,\"line_color\":\"#1f77b4\",\"line_width\":2,\"x\":{\"field\":\"x\"},\"y\":{\"field\":\"y\"}},\"id\":\"15423\",\"type\":\"Line\"},{\"attributes\":{\"line_color\":\"#9367bc\",\"line_width\":2,\"x\":{\"field\":\"x\"},\"y\":{\"field\":\"y\"}},\"id\":\"15439\",\"type\":\"Line\"},{\"attributes\":{\"dimension\":1,\"ticker\":{\"id\":\"15375\",\"type\":\"BasicTicker\"}},\"id\":\"15378\",\"type\":\"Grid\"},{\"attributes\":{},\"id\":\"15384\",\"type\":\"HelpTool\"},{\"attributes\":{\"line_alpha\":0.1,\"line_color\":\"#1f77b4\",\"line_width\":2,\"x\":{\"field\":\"x\"},\"y\":{\"field\":\"y\"}},\"id\":\"15408\",\"type\":\"Line\"},{\"attributes\":{},\"id\":\"15435\",\"type\":\"UnionRenderers\"},{\"attributes\":{\"text\":\"\"},\"id\":\"15397\",\"type\":\"Title\"},{\"attributes\":{},\"id\":\"15380\",\"type\":\"WheelZoomTool\"},{\"attributes\":{\"source\":{\"id\":\"15406\",\"type\":\"ColumnDataSource\"}},\"id\":\"15410\",\"type\":\"CDSView\"},{\"attributes\":{\"source\":{\"id\":\"15421\",\"type\":\"ColumnDataSource\"}},\"id\":\"15425\",\"type\":\"CDSView\"},{\"attributes\":{},\"id\":\"15383\",\"type\":\"ResetTool\"},{\"attributes\":{\"label\":{\"value\":\"inside_H\"},\"renderers\":[{\"id\":\"15424\",\"type\":\"GlyphRenderer\"}]},\"id\":\"15437\",\"type\":\"LegendItem\"},{\"attributes\":{},\"id\":\"15379\",\"type\":\"PanTool\"},{\"attributes\":{},\"id\":\"15400\",\"type\":\"BasicTickFormatter\"},{\"attributes\":{\"formatter\":{\"id\":\"15402\",\"type\":\"BasicTickFormatter\"},\"ticker\":{\"id\":\"15375\",\"type\":\"BasicTicker\"}},\"id\":\"15374\",\"type\":\"LinearAxis\"},{\"attributes\":{\"data_source\":{\"id\":\"15406\",\"type\":\"ColumnDataSource\"},\"glyph\":{\"id\":\"15407\",\"type\":\"Line\"},\"hover_glyph\":null,\"muted_glyph\":null,\"nonselection_glyph\":{\"id\":\"15408\",\"type\":\"Line\"},\"selection_glyph\":null,\"view\":{\"id\":\"15410\",\"type\":\"CDSView\"}},\"id\":\"15409\",\"type\":\"GlyphRenderer\"},{\"attributes\":{},\"id\":\"15402\",\"type\":\"BasicTickFormatter\"},{\"attributes\":{\"overlay\":{\"id\":\"15403\",\"type\":\"BoxAnnotation\"}},\"id\":\"15381\",\"type\":\"BoxZoomTool\"},{\"attributes\":{\"source\":{\"id\":\"15392\",\"type\":\"ColumnDataSource\"}},\"id\":\"15396\",\"type\":\"CDSView\"},{\"attributes\":{},\"id\":\"15455\",\"type\":\"Selection\"},{\"attributes\":{\"ticker\":{\"id\":\"15370\",\"type\":\"BasicTicker\"}},\"id\":\"15373\",\"type\":\"Grid\"},{\"attributes\":{},\"id\":\"15419\",\"type\":\"Selection\"},{\"attributes\":{},\"id\":\"15375\",\"type\":\"BasicTicker\"},{\"attributes\":{\"callback\":null,\"data\":{\"x\":{\"__ndarray__\":\"AAAAAAAAAAAxb2dIzNu5PzFvZ0jM28k/ZZNNNtlk0z8xb2dIzNvZP3+lQK1fKeA/ZZNNNtlk4z9LgVq/UqDmPzFvZ0jM2+k/F1100UUX7T9/pUCtXynwP3Icx3Ecx/E/ZZNNNtlk8z9YCtT6lQL1P0uBWr9SoPY/Pvjggw8++D8xb2dIzNv5PyTm7QyJefs/F1100UUX/T8K1PqVArX+P3+lQK1fKQBA+OCDDz74AEByHMdxHMcBQOtXCtT6lQJAZZNNNtlkA0DezpCYtzMEQFgK1PqVAgVA0UUXXXTRBUBLgVq/UqAGQMS8nSExbwdAPvjggw8+CEC3MyTm7QwJQDFvZ0jM2wlAq6qqqqqqCkAk5u0MiXkLQJ4hMW9nSAxAF1100UUXDUCRmLczJOYNQArU+pUCtQ5AhA8++OCDD0B/pUCtXykQQDtDYt7OkBBA+OCDDz74EEC1fqVArV8RQHIcx3EcxxFALrrooosuEkDrVwrU+pUSQKj1KwVq/RJAZZNNNtlkE0AiMW9nSMwTQN7OkJi3MxRAm2yyySabFEBYCtT6lQIVQBWo9SsFahVA0UUXXXTRFUCO4ziO4zgWQEuBWr9SoBZACB988MEHF0DEvJ0hMW8XQIFav1Kg1hdAPvjggw8+GED7lQK1fqUYQLczJObtDBlAdNFFF110GUAxb2dIzNsZQO4MiXk7QxpAq6qqqqqqGkBnSMzbGRIbQCTm7QyJeRtA4YMPPvjgG0CeITFvZ0gcQFq/UqDWrxxAF1100UUXHUDU+pUCtX4dQJGYtzMk5h1ATTbZZJNNHkAK1PqVArUeQMdxHMdxHB9AhA8++OCDH0BArV8pUOsfQH+lQK1fKSBAXXTRRRddIEA7Q2LezpAgQBoS83aGxCBA+OCDDz74IEDXrxSo9SshQLV+pUCtXyFAk0022WSTIUByHMdxHMchQFDrVwrU+iFALrrooosuIkANiXk7Q2IiQOtXCtT6lSJAyiabbLLJIkCo9SsFav0iQIbEvJ0hMSNAZZNNNtlkI0BDYt7OkJgjQCIxb2dIzCNAAAAAAAAAJEA=\",\"dtype\":\"float64\",\"shape\":[100]},\"y\":{\"__ndarray__\":\"AAAAAAAAJECTVWz5GNQRQFM2qasayf8/HAW/5p5V7D+KqkSoD0LZP8LxTr4ChMY/J3bHbS8StD/GUuYCT+ShP8Uq4cEB5o8/icp2ymJvfD+H5cuIB1lpP3anFlB8mFY/DdF6+W8kRD+pgBKJkfQxPxcKPud9ASA/i60JbTyJDD8pWb1fM3D5Ps8VKkNereY+RLZ3j7421D4kftizqATCPkL1lUGlD7A+OqqoiBOinD7H1Llhp4aJPsKQWgD5qHY+gkeYSJdJZD4lzTMx66lSPjCxlCE0TEA+LXKFbqXvMD72VLgXN4waPlY5UKZxJwg+zwi5W9x4+D2UI+JWhWrNPQqtAKFf6uA9PIy+lkbD470IbXdh97W4PZwQnpivnwE+yrlSupK23T3GWS9ywAv/PUDe89pKL9I9EC78h9+F9b17JMKXmOzsvTq7i1BpfbK9cHmZiN4AzL2sCwL8u6eXPfykI404uW495sVNYlsBg730T3z/Z8uPvaBBvWSyNX29/32WB/9lmb04yBPo6GyJPdiqwqNsMra9RRfhLjy90r366JVgFZi0vTDepOLFEMw98BW/C3/ZyL14euAIXmPtvTSN2esGM8Q9uDb9K8eM+T3wvu1IdJbhvUbIsZOvHxW+gkH1FE7TFL5etDInoc0XPqbRvkoOSzA+uMhh7dq9+z21RKq0INo+vpOWzKJsv0C+edEQyBTwMj6sK1YKlwQdPjZd/rxDPAk+5eNSO/yuHD534hfxF976vW8Irsgo4fG94Kj4iubTkz1FY+xPXvvXvZzG2ArvGb29qX9Q2/8ip73ANOZ5TeWgvTDxxHn63mG9rmsvECo4kD0kK7eODwngvYI4XB3Levm9swWQ8VXbA75hGW/oNhj7vWIY9iaqsNg9HrEjliuD9D0O8yI/LzTzvR+IFwQt3w2+rn79asvO+73xo9TViCkiPlXG/AdQIDQ+dQ5ZyBgQMT643vfJtj0jvjWotP4sB0i+KXeZumdKRL7O5Qla8L0xvoQqS1+tyxu+C0+rDGJbEL66jgVjPp7+vQRC62iP3ua9ZjrPR1/X270=\",\"dtype\":\"float64\",\"shape\":[100]}},\"selected\":{\"id\":\"15436\",\"type\":\"Selection\"},\"selection_policy\":{\"id\":\"15435\",\"type\":\"UnionRenderers\"}},\"id\":\"15406\",\"type\":\"ColumnDataSource\"}],\"root_ids\":[\"15360\"]},\"title\":\"Bokeh Application\",\"version\":\"1.4.0\"}};\n",
       "  var render_items = [{\"docid\":\"e58eefce-4d16-4ed6-ae42-9bdfa2dd7b61\",\"roots\":{\"15360\":\"8da69174-3285-4430-b3f6-27f113095de6\"}}];\n",
       "  root.Bokeh.embed.embed_items_notebook(docs_json, render_items);\n",
       "\n",
       "  }\n",
       "  if (root.Bokeh !== undefined) {\n",
       "    embed_document(root);\n",
       "  } else {\n",
       "    var attempts = 0;\n",
       "    var timer = setInterval(function(root) {\n",
       "      if (root.Bokeh !== undefined) {\n",
       "        clearInterval(timer);\n",
       "        embed_document(root);\n",
       "      } else {\n",
       "        attempts++;\n",
       "        if (attempts > 100) {\n",
       "          clearInterval(timer);\n",
       "          console.log(\"Bokeh: ERROR: Unable to run BokehJS code because BokehJS library is missing\");\n",
       "        }\n",
       "      }\n",
       "    }, 10, root)\n",
       "  }\n",
       "})(window);"
      ],
      "application/vnd.bokehjs_exec.v0+json": ""
     },
     "metadata": {
      "application/vnd.bokehjs_exec.v0+json": {
       "id": "15360"
      }
     },
     "output_type": "display_data"
    }
   ],
   "source": [
    "p = bokeh.plotting.figure(width = 450, height = 300)\n",
    "plot_list = [ATP_id, outside_H_id, inside_H_id, atp_synthase_b_protein_id]\n",
    "plot_str = ['atp', 'outside_H', 'inside_H', 'atp synthase bound']\n",
    "# plot_list = [atp_synthase_b_protein_id,rna_atpsyn_id, atp_synthase_f_protein_id,dna_atpsyn_id,  ]\n",
    "# plot_str = [ 'bound atp synthase', 'atpsyn rna','free atp synthase', 'atpsyn dna', ]\n",
    "for i,item in enumerate(plot_list):\n",
    "    p.line(timepoints, results[item], line_width = 2, legend_label = plot_str[i], color = palette[i])\n",
    "    \n",
    "p.legend.location = 'center_right'\n",
    "p.legend.click_policy = 'hide'\n",
    "bokeh.io.show(p)\n"
   ]
  },
  {
   "cell_type": "markdown",
   "metadata": {},
   "source": [
    "**don't know problem with dna assembly process** ADD RNA POLYMERASES and mrna degradation (take rate params from default_parameters.txt)"
   ]
  },
  {
   "cell_type": "markdown",
   "metadata": {},
   "source": [
    "## Combine ATP synthase tx, tl, membrane integration, atp synthesis models & ATP USE \n",
    "---"
   ]
  },
  {
   "cell_type": "code",
   "execution_count": 240,
   "metadata": {},
   "outputs": [],
   "source": [
    "ss4_atp_use = createSubsystem('atp_use.xml', subsystemName = 'atp_use')"
   ]
  },
  {
   "cell_type": "code",
   "execution_count": 241,
   "metadata": {},
   "outputs": [],
   "source": [
    "atp_subsystem_w_use = ss1_atpsyn_txtl + ss2_atpsyn_mi + ss3_atpsynthesis + ss4_atp_use"
   ]
  },
  {
   "cell_type": "code",
   "execution_count": 248,
   "metadata": {},
   "outputs": [],
   "source": [
    "# SIMULATE WITH ATP SYNTHASE\n",
    "# Initial conditions\n",
    "spec_list_10 = ['dna_atpsyn', 'proton_outside_H', 'metabolite_atp']\n",
    "for i,spec in enumerate(spec_list_10):\n",
    "    atp_subsystem_w_use.setSpeciesAmount(spec,10)\n",
    "\n",
    "\n",
    "# timepoints and get results\n",
    "timepoints = np.linspace(0,10,100)\n",
    "results, _ = atp_subsystem_w_use.simulateWithBioscrape(timepoints, sbml_warnings = False)\n",
    "\n",
    "# Get species IDs\n",
    "ATP_id = atp_subsystem_w_use.getSpeciesByName('metabolite_atp').getId()\n",
    "ADP_id = atp_subsystem_w_use.getSpeciesByName('metabolite_adp').getId()\n",
    "\n",
    "outside_H_id = atp_subsystem_w_use.getSpeciesByName('proton_outside_H').getId()\n",
    "inside_H_id = atp_subsystem_w_use.getSpeciesByName('proton_inside_H').getId()\n",
    "atp_synthase_b_protein_id = atp_subsystem_w_use.getSpeciesByName('protein_atpsyn_b').getId()\n",
    "atp_synthase_f_protein_id = atp_subsystem_w_use.getSpeciesByName('protein_atpsyn').getId()"
   ]
  },
  {
   "cell_type": "code",
   "execution_count": null,
   "metadata": {},
   "outputs": [],
   "source": [
    "# SIMUALTE WITHOUT ATP SYNTHASE\n",
    "ss4_atp_use.setSpeciesAmount('proton_outside_H',10)\n",
    "ss4_atp_use.setSpeciesAmount('metabolite_atp',10)\n",
    "\n",
    "timepoints = np.linspace(0,10,100)\n",
    "results2, _ = ss4_atp_use.simulateWithBioscrape(timepoints, sbml_warnings = False)\n",
    "\n",
    "timepoints = np.linspace(0,10,100)\n",
    "results, _ = atp_subsystem_w_use.simulateWithBioscrape(timepoints, sbml_warnings = False)"
   ]
  },
  {
   "cell_type": "code",
   "execution_count": 247,
   "metadata": {},
   "outputs": [
    {
     "data": {
      "text/html": [
       "\n",
       "\n",
       "\n",
       "\n",
       "\n",
       "\n",
       "  <div class=\"bk-root\" id=\"0a59738c-3f52-4ebc-8e2f-67361f222e06\" data-root-id=\"18794\"></div>\n"
      ]
     },
     "metadata": {},
     "output_type": "display_data"
    },
    {
     "data": {
      "application/javascript": [
       "(function(root) {\n",
       "  function embed_document(root) {\n",
       "    \n",
       "  var docs_json = {\"6979d341-fff2-4568-8226-c27e0f39d10e\":{\"roots\":{\"references\":[{\"attributes\":{\"below\":[{\"id\":\"18803\",\"type\":\"LinearAxis\"}],\"center\":[{\"id\":\"18807\",\"type\":\"Grid\"},{\"id\":\"18812\",\"type\":\"Grid\"},{\"id\":\"18838\",\"type\":\"Legend\"}],\"left\":[{\"id\":\"18808\",\"type\":\"LinearAxis\"}],\"plot_height\":300,\"plot_width\":450,\"renderers\":[{\"id\":\"18829\",\"type\":\"GlyphRenderer\"},{\"id\":\"18843\",\"type\":\"GlyphRenderer\"},{\"id\":\"18858\",\"type\":\"GlyphRenderer\"},{\"id\":\"18875\",\"type\":\"GlyphRenderer\"}],\"title\":{\"id\":\"18831\",\"type\":\"Title\"},\"toolbar\":{\"id\":\"18819\",\"type\":\"Toolbar\"},\"x_range\":{\"id\":\"18795\",\"type\":\"DataRange1d\"},\"x_scale\":{\"id\":\"18799\",\"type\":\"LinearScale\"},\"y_range\":{\"id\":\"18797\",\"type\":\"DataRange1d\"},\"y_scale\":{\"id\":\"18801\",\"type\":\"LinearScale\"}},\"id\":\"18794\",\"subtype\":\"Figure\",\"type\":\"Plot\"},{\"attributes\":{\"data_source\":{\"id\":\"18872\",\"type\":\"ColumnDataSource\"},\"glyph\":{\"id\":\"18873\",\"type\":\"Line\"},\"hover_glyph\":null,\"muted_glyph\":null,\"nonselection_glyph\":{\"id\":\"18874\",\"type\":\"Line\"},\"selection_glyph\":null,\"view\":{\"id\":\"18876\",\"type\":\"CDSView\"}},\"id\":\"18875\",\"type\":\"GlyphRenderer\"},{\"attributes\":{\"label\":{\"value\":\"outside_H\"},\"renderers\":[{\"id\":\"18843\",\"type\":\"GlyphRenderer\"}]},\"id\":\"18854\",\"type\":\"LegendItem\"},{\"attributes\":{},\"id\":\"18852\",\"type\":\"UnionRenderers\"},{\"attributes\":{},\"id\":\"18801\",\"type\":\"LinearScale\"},{\"attributes\":{},\"id\":\"18809\",\"type\":\"BasicTicker\"},{\"attributes\":{\"data_source\":{\"id\":\"18826\",\"type\":\"ColumnDataSource\"},\"glyph\":{\"id\":\"18827\",\"type\":\"Line\"},\"hover_glyph\":null,\"muted_glyph\":null,\"nonselection_glyph\":{\"id\":\"18828\",\"type\":\"Line\"},\"selection_glyph\":null,\"view\":{\"id\":\"18830\",\"type\":\"CDSView\"}},\"id\":\"18829\",\"type\":\"GlyphRenderer\"},{\"attributes\":{\"source\":{\"id\":\"18872\",\"type\":\"ColumnDataSource\"}},\"id\":\"18876\",\"type\":\"CDSView\"},{\"attributes\":{},\"id\":\"18818\",\"type\":\"HelpTool\"},{\"attributes\":{\"source\":{\"id\":\"18840\",\"type\":\"ColumnDataSource\"}},\"id\":\"18844\",\"type\":\"CDSView\"},{\"attributes\":{\"callback\":null,\"data\":{\"x\":{\"__ndarray__\":\"AAAAAAAAAAAxb2dIzNu5PzFvZ0jM28k/ZZNNNtlk0z8xb2dIzNvZP3+lQK1fKeA/ZZNNNtlk4z9LgVq/UqDmPzFvZ0jM2+k/F1100UUX7T9/pUCtXynwP3Icx3Ecx/E/ZZNNNtlk8z9YCtT6lQL1P0uBWr9SoPY/Pvjggw8++D8xb2dIzNv5PyTm7QyJefs/F1100UUX/T8K1PqVArX+P3+lQK1fKQBA+OCDDz74AEByHMdxHMcBQOtXCtT6lQJAZZNNNtlkA0DezpCYtzMEQFgK1PqVAgVA0UUXXXTRBUBLgVq/UqAGQMS8nSExbwdAPvjggw8+CEC3MyTm7QwJQDFvZ0jM2wlAq6qqqqqqCkAk5u0MiXkLQJ4hMW9nSAxAF1100UUXDUCRmLczJOYNQArU+pUCtQ5AhA8++OCDD0B/pUCtXykQQDtDYt7OkBBA+OCDDz74EEC1fqVArV8RQHIcx3EcxxFALrrooosuEkDrVwrU+pUSQKj1KwVq/RJAZZNNNtlkE0AiMW9nSMwTQN7OkJi3MxRAm2yyySabFEBYCtT6lQIVQBWo9SsFahVA0UUXXXTRFUCO4ziO4zgWQEuBWr9SoBZACB988MEHF0DEvJ0hMW8XQIFav1Kg1hdAPvjggw8+GED7lQK1fqUYQLczJObtDBlAdNFFF110GUAxb2dIzNsZQO4MiXk7QxpAq6qqqqqqGkBnSMzbGRIbQCTm7QyJeRtA4YMPPvjgG0CeITFvZ0gcQFq/UqDWrxxAF1100UUXHUDU+pUCtX4dQJGYtzMk5h1ATTbZZJNNHkAK1PqVArUeQMdxHMdxHB9AhA8++OCDH0BArV8pUOsfQH+lQK1fKSBAXXTRRRddIEA7Q2LezpAgQBoS83aGxCBA+OCDDz74IEDXrxSo9SshQLV+pUCtXyFAk0022WSTIUByHMdxHMchQFDrVwrU+iFALrrooosuIkANiXk7Q2IiQOtXCtT6lSJAyiabbLLJIkCo9SsFav0iQIbEvJ0hMSNAZZNNNtlkI0BDYt7OkJgjQCIxb2dIzCNAAAAAAAAAJEA=\",\"dtype\":\"float64\",\"shape\":[100]},\"y\":{\"__ndarray__\":\"AAAAAAAAAAA5GfwF5ysWQEI/jqrcBiBAZaqTEaY6IkAxR+2C7zUjQEjZJPXvpSNA7NdbodvXI0BLTeywG+4jQKRrd38G+CNAfXdKE3L8I0DlDQZvav4jQGUPhztL/yNAtlfIba//I0AKE3UW3P8jQLcDKv7v/yNA72J23fj/I0AlMtTR/P8jQD4GFJX+/yNAL101Xv//I0CXBOC3//8jQO402d///yNA+1yq8f//I0BixJv5//8jQM5rJv3//yNAiLS6/v//I0Bl9m7///8jQPJAv////yNAyw3j////I0DMEvP///8jQAYx+v///yNAgGP9////I0DJ1P7///8jQB56/////yNAbMT/////I0B55f////8jQDD0/////yNAv/r/////I0Cr/f////8jQPj+/////yNAjP//////I0DO//////8jQOv//////yNA+P//////I0D9//////8jQAAAAAAAACRAAgAAAAAAJEADAAAAAAAkQAMAAAAAACRAAwAAAAAAJEADAAAAAAAkQAMAAAAAACRAAwAAAAAAJEADAAAAAAAkQAMAAAAAACRAAwAAAAAAJEADAAAAAAAkQAMAAAAAACRAAwAAAAAAJEADAAAAAAAkQAMAAAAAACRAAwAAAAAAJEADAAAAAAAkQAMAAAAAACRAAwAAAAAAJEADAAAAAAAkQAMAAAAAACRAAwAAAAAAJEADAAAAAAAkQAMAAAAAACRAAwAAAAAAJEADAAAAAAAkQAMAAAAAACRAAwAAAAAAJEADAAAAAAAkQAMAAAAAACRAAwAAAAAAJEADAAAAAAAkQAMAAAAAACRAAwAAAAAAJEADAAAAAAAkQAMAAAAAACRAAwAAAAAAJEADAAAAAAAkQAMAAAAAACRAAwAAAAAAJEADAAAAAAAkQAMAAAAAACRAAwAAAAAAJEADAAAAAAAkQAMAAAAAACRAAwAAAAAAJEADAAAAAAAkQAMAAAAAACRAAwAAAAAAJEADAAAAAAAkQAMAAAAAACRAAwAAAAAAJEADAAAAAAAkQAMAAAAAACRAAwAAAAAAJEA=\",\"dtype\":\"float64\",\"shape\":[100]}},\"selected\":{\"id\":\"18889\",\"type\":\"Selection\"},\"selection_policy\":{\"id\":\"18888\",\"type\":\"UnionRenderers\"}},\"id\":\"18855\",\"type\":\"ColumnDataSource\"},{\"attributes\":{},\"id\":\"18888\",\"type\":\"UnionRenderers\"},{\"attributes\":{},\"id\":\"18853\",\"type\":\"Selection\"},{\"attributes\":{\"line_alpha\":0.1,\"line_color\":\"#1f77b4\",\"line_width\":2,\"x\":{\"field\":\"x\"},\"y\":{\"field\":\"y\"}},\"id\":\"18874\",\"type\":\"Line\"},{\"attributes\":{\"label\":{\"value\":\"atp synthase\"},\"renderers\":[{\"id\":\"18875\",\"type\":\"GlyphRenderer\"}]},\"id\":\"18890\",\"type\":\"LegendItem\"},{\"attributes\":{\"active_drag\":\"auto\",\"active_inspect\":\"auto\",\"active_multi\":null,\"active_scroll\":\"auto\",\"active_tap\":\"auto\",\"tools\":[{\"id\":\"18813\",\"type\":\"PanTool\"},{\"id\":\"18814\",\"type\":\"WheelZoomTool\"},{\"id\":\"18815\",\"type\":\"BoxZoomTool\"},{\"id\":\"18816\",\"type\":\"SaveTool\"},{\"id\":\"18817\",\"type\":\"ResetTool\"},{\"id\":\"18818\",\"type\":\"HelpTool\"}]},\"id\":\"18819\",\"type\":\"Toolbar\"},{\"attributes\":{},\"id\":\"18817\",\"type\":\"ResetTool\"},{\"attributes\":{\"line_color\":\"#2ba02b\",\"line_width\":2,\"x\":{\"field\":\"x\"},\"y\":{\"field\":\"y\"}},\"id\":\"18856\",\"type\":\"Line\"},{\"attributes\":{\"line_color\":\"#ff7e0e\",\"line_width\":2,\"x\":{\"field\":\"x\"},\"y\":{\"field\":\"y\"}},\"id\":\"18841\",\"type\":\"Line\"},{\"attributes\":{\"bottom_units\":\"screen\",\"fill_alpha\":{\"value\":0.5},\"fill_color\":{\"value\":\"lightgrey\"},\"left_units\":\"screen\",\"level\":\"overlay\",\"line_alpha\":{\"value\":1.0},\"line_color\":{\"value\":\"black\"},\"line_dash\":[4,4],\"line_width\":{\"value\":2},\"render_mode\":\"css\",\"right_units\":\"screen\",\"top_units\":\"screen\"},\"id\":\"18837\",\"type\":\"BoxAnnotation\"},{\"attributes\":{},\"id\":\"18889\",\"type\":\"Selection\"},{\"attributes\":{},\"id\":\"19449\",\"type\":\"UnionRenderers\"},{\"attributes\":{\"formatter\":{\"id\":\"18836\",\"type\":\"BasicTickFormatter\"},\"ticker\":{\"id\":\"18809\",\"type\":\"BasicTicker\"}},\"id\":\"18808\",\"type\":\"LinearAxis\"},{\"attributes\":{\"callback\":null,\"data\":{\"x\":{\"__ndarray__\":\"AAAAAAAAAAAxb2dIzNu5PzFvZ0jM28k/ZZNNNtlk0z8xb2dIzNvZP3+lQK1fKeA/ZZNNNtlk4z9LgVq/UqDmPzFvZ0jM2+k/F1100UUX7T9/pUCtXynwP3Icx3Ecx/E/ZZNNNtlk8z9YCtT6lQL1P0uBWr9SoPY/Pvjggw8++D8xb2dIzNv5PyTm7QyJefs/F1100UUX/T8K1PqVArX+P3+lQK1fKQBA+OCDDz74AEByHMdxHMcBQOtXCtT6lQJAZZNNNtlkA0DezpCYtzMEQFgK1PqVAgVA0UUXXXTRBUBLgVq/UqAGQMS8nSExbwdAPvjggw8+CEC3MyTm7QwJQDFvZ0jM2wlAq6qqqqqqCkAk5u0MiXkLQJ4hMW9nSAxAF1100UUXDUCRmLczJOYNQArU+pUCtQ5AhA8++OCDD0B/pUCtXykQQDtDYt7OkBBA+OCDDz74EEC1fqVArV8RQHIcx3EcxxFALrrooosuEkDrVwrU+pUSQKj1KwVq/RJAZZNNNtlkE0AiMW9nSMwTQN7OkJi3MxRAm2yyySabFEBYCtT6lQIVQBWo9SsFahVA0UUXXXTRFUCO4ziO4zgWQEuBWr9SoBZACB988MEHF0DEvJ0hMW8XQIFav1Kg1hdAPvjggw8+GED7lQK1fqUYQLczJObtDBlAdNFFF110GUAxb2dIzNsZQO4MiXk7QxpAq6qqqqqqGkBnSMzbGRIbQCTm7QyJeRtA4YMPPvjgG0CeITFvZ0gcQFq/UqDWrxxAF1100UUXHUDU+pUCtX4dQJGYtzMk5h1ATTbZZJNNHkAK1PqVArUeQMdxHMdxHB9AhA8++OCDH0BArV8pUOsfQH+lQK1fKSBAXXTRRRddIEA7Q2LezpAgQBoS83aGxCBA+OCDDz74IEDXrxSo9SshQLV+pUCtXyFAk0022WSTIUByHMdxHMchQFDrVwrU+iFALrrooosuIkANiXk7Q2IiQOtXCtT6lSJAyiabbLLJIkCo9SsFav0iQIbEvJ0hMSNAZZNNNtlkI0BDYt7OkJgjQCIxb2dIzCNAAAAAAAAAJEA=\",\"dtype\":\"float64\",\"shape\":[100]},\"y\":{\"__ndarray__\":\"AAAAAAAAJECRlMPJMCQYQMThwwrdMg1Al2beyVvHAUAgFpgqKgT2P3qARHfLPOw//lt900tJ4z/UsdY6zfHcP4bQ6eHzSNg/NZE7GOSR1j9HYBnbgY7WP/+ggFwUe9c/gtG8qRjf2D+wxmFJhXDaP/WX5XI5Atw/2nZhKzN53T9xXD945MXeP5SBmr8L4N8/LT94QAti4D+GRNBcu7jgP+F6+KTH9OA/L5mrY38X4T97aEM3kyLhPwtcW/XrF+E/hXzmVI754D/UuDQth8ngP0b1e5XdieA/+SkXMIk84D+9hS0E18bfP/0FjOCWAN8/Ez8Ay6Qp3j87gjx0FUXdPwkfRwq+Vdw/8Mo6bjRe2z8OkIND0GDaPyCG6vSsX9k/Pd1ZR6xc2D93MMpceVnXPwoY7uGLV9Y/X0yYeStY1T9GyIg7c1zUP93uKC1VZdM/805Vn51z0j9eftyM9ofRP8HWJsjqotA/tpwnB9KJzz/aaMdrjdzNP/qxxp2FPsw/BLWhehCwyj+7KPqMYDHJPzb+wHSJwsc/nhw2sINjxj/2SU2lMBTFP/uT2Xhd1MM/7/QAmMajwj/j0yL/GYLBP47WXvT5bsA/9Z7KWf7Tvj9wkpZ9deW8P4gCYMRvEbs/lMYTHvtWuT/cpR59H7W3PyrIxHXhKrY/6ydK5EO3tD8wh8dLSlmzPy3oQO75D7I//21NUlvasD9dx1ya9m6vP+pnaNrXTK0/fLTGgYpMqz+pgqbUS2ypPxpZUVBnqqc/T6IjTjcFpj9ZiL6AJXukPz77XlqrCqM/dkPhRVKyoT8Wtoqxs3CgP7bNBfnxiJ4/U+7uo7ZYnD8ek1XhRk6aP1FmkMRSZ5g/FGbzQ6ihlj81VU5iMvuUPy/dnVr4cZM/ooD9pRwEkj9a0foC3K+QP0wLJEMZ544/VfIkXzmbjD+o5r0yJHmKPzU0EywSfog/bPvswmGnhj84vfaHpPKEPw7C1uGFXYM/6Nm6Ht7lgT9zWWSapYmAP46/Aj7qjX4/aMA1tgk4fD8y/lSjVg56P3NWbLqzDXg/kBSo/Dczdj8=\",\"dtype\":\"float64\",\"shape\":[100]}},\"selected\":{\"id\":\"18853\",\"type\":\"Selection\"},\"selection_policy\":{\"id\":\"18852\",\"type\":\"UnionRenderers\"}},\"id\":\"18826\",\"type\":\"ColumnDataSource\"},{\"attributes\":{\"formatter\":{\"id\":\"18834\",\"type\":\"BasicTickFormatter\"},\"ticker\":{\"id\":\"18804\",\"type\":\"BasicTicker\"}},\"id\":\"18803\",\"type\":\"LinearAxis\"},{\"attributes\":{\"line_alpha\":0.1,\"line_color\":\"#1f77b4\",\"line_width\":2,\"x\":{\"field\":\"x\"},\"y\":{\"field\":\"y\"}},\"id\":\"18857\",\"type\":\"Line\"},{\"attributes\":{},\"id\":\"19450\",\"type\":\"Selection\"},{\"attributes\":{\"data_source\":{\"id\":\"18855\",\"type\":\"ColumnDataSource\"},\"glyph\":{\"id\":\"18856\",\"type\":\"Line\"},\"hover_glyph\":null,\"muted_glyph\":null,\"nonselection_glyph\":{\"id\":\"18857\",\"type\":\"Line\"},\"selection_glyph\":null,\"view\":{\"id\":\"18859\",\"type\":\"CDSView\"}},\"id\":\"18858\",\"type\":\"GlyphRenderer\"},{\"attributes\":{},\"id\":\"18816\",\"type\":\"SaveTool\"},{\"attributes\":{\"callback\":null,\"data\":{\"x\":{\"__ndarray__\":\"AAAAAAAAAAAxb2dIzNu5PzFvZ0jM28k/ZZNNNtlk0z8xb2dIzNvZP3+lQK1fKeA/ZZNNNtlk4z9LgVq/UqDmPzFvZ0jM2+k/F1100UUX7T9/pUCtXynwP3Icx3Ecx/E/ZZNNNtlk8z9YCtT6lQL1P0uBWr9SoPY/Pvjggw8++D8xb2dIzNv5PyTm7QyJefs/F1100UUX/T8K1PqVArX+P3+lQK1fKQBA+OCDDz74AEByHMdxHMcBQOtXCtT6lQJAZZNNNtlkA0DezpCYtzMEQFgK1PqVAgVA0UUXXXTRBUBLgVq/UqAGQMS8nSExbwdAPvjggw8+CEC3MyTm7QwJQDFvZ0jM2wlAq6qqqqqqCkAk5u0MiXkLQJ4hMW9nSAxAF1100UUXDUCRmLczJOYNQArU+pUCtQ5AhA8++OCDD0B/pUCtXykQQDtDYt7OkBBA+OCDDz74EEC1fqVArV8RQHIcx3EcxxFALrrooosuEkDrVwrU+pUSQKj1KwVq/RJAZZNNNtlkE0AiMW9nSMwTQN7OkJi3MxRAm2yyySabFEBYCtT6lQIVQBWo9SsFahVA0UUXXXTRFUCO4ziO4zgWQEuBWr9SoBZACB988MEHF0DEvJ0hMW8XQIFav1Kg1hdAPvjggw8+GED7lQK1fqUYQLczJObtDBlAdNFFF110GUAxb2dIzNsZQO4MiXk7QxpAq6qqqqqqGkBnSMzbGRIbQCTm7QyJeRtA4YMPPvjgG0CeITFvZ0gcQFq/UqDWrxxAF1100UUXHUDU+pUCtX4dQJGYtzMk5h1ATTbZZJNNHkAK1PqVArUeQMdxHMdxHB9AhA8++OCDH0BArV8pUOsfQH+lQK1fKSBAXXTRRRddIEA7Q2LezpAgQBoS83aGxCBA+OCDDz74IEDXrxSo9SshQLV+pUCtXyFAk0022WSTIUByHMdxHMchQFDrVwrU+iFALrrooosuIkANiXk7Q2IiQOtXCtT6lSJAyiabbLLJIkCo9SsFav0iQIbEvJ0hMSNAZZNNNtlkI0BDYt7OkJgjQCIxb2dIzCNAAAAAAAAAJEA=\",\"dtype\":\"float64\",\"shape\":[100]},\"y\":{\"__ndarray__\":\"AAAAAAAAAABGs97geyZPPww3PoqcNWA/4nfXlSlrZj/98SUzqIJtPzNYmUAPt3I/HjWBrdf8dj/2hjOrYHJ7Pxgxk5DJ9X8/aC2Yn28zgj8oVaB/iFSEP0dTKlpTUoY/7H7ZSY0jiD/PLXbQgMGJPyU0LC3QJ4s/rJ+5+S5UjD/wpnZSEkaNP8+9jCVi/o0/VRse/C1/jj+ebwkgacuOP19Q+/Os5o4/WFUO6wPVjj85A5z9u5qOP8LHBYJBPI4/KeUxUf+9jT+O5lBbRSSNPwu25VE3c4w/5A/Pib6uiz+sXOuTftqKPwuPuLPR+Yk/NpaYPsQPiT8Moey/FB+IP0jDVGg2Koc/AEhMelAzhj+VH7ueRTyFP8joGEO3RoQ/tg7pOQpUgz+dW7XXamWCP1twYO7Te4E/XIOxkBKYgD99N70Sl3V/P2dnVDP/yH0/YK6+nh8rfD9Uk1UWg5x6P/0pszeEHXk/rnZhElSudz/mVSQyAE92PyAlEeN3/3Q/18xhJ5G/cz8CWMEHDY9yP206rVmZbXE/tkVhANtacD/xuy1Sx6xuP+yADM+Gv2w/JfQa/gDtaj9qC2dXOjRpPy6UYjUxlGc/6zkj1+ALZj+PCOx/Q5pkPxy9QXZUPmM/MYKu8RH3YT+E6vpEf8NgPxHnuHo+RV8/YuKrMgonXT/v1EKGgypbP6dcBO/iTVk/ZgvZL2+PVz+oCFc2f+1VP9WRAF96ZlQ/vfpD19j4Uj89ILOLI6NRPymFcTD0Y1A/bhTXEOpzTj/1fdg6wUdMP4nwP+gCQUo/ilfrWWNdSD/cM3sktZpGP6p48Dvo9kQ/prrY9ghwQz99mskLPwRCPyIOt4bMsUA/LAVjVRnuPj8wmYkZ5qQ8PzHYD2MUhTo/5qnjNeWLOD+ze9DXxbY2P6d2xX5DAzU/ivv9oyRvMz/lT87ENvgxPw9HCr9mnDA/m527oJi0Lj/aqkjAoV4sP8cZ+pQONSo/7tDwPzo0KD9RN7kmUVkmP7ZgQdKooSQ/bsHLqr8KIz+mbIaSP5IhPxV+nln6NSA/WnpCZc3nHT8=\",\"dtype\":\"float64\",\"shape\":[100]}},\"selected\":{\"id\":\"19450\",\"type\":\"Selection\"},\"selection_policy\":{\"id\":\"19449\",\"type\":\"UnionRenderers\"}},\"id\":\"18872\",\"type\":\"ColumnDataSource\"},{\"attributes\":{\"callback\":null},\"id\":\"18797\",\"type\":\"DataRange1d\"},{\"attributes\":{\"callback\":null,\"data\":{\"x\":{\"__ndarray__\":\"AAAAAAAAAAAxb2dIzNu5PzFvZ0jM28k/ZZNNNtlk0z8xb2dIzNvZP3+lQK1fKeA/ZZNNNtlk4z9LgVq/UqDmPzFvZ0jM2+k/F1100UUX7T9/pUCtXynwP3Icx3Ecx/E/ZZNNNtlk8z9YCtT6lQL1P0uBWr9SoPY/Pvjggw8++D8xb2dIzNv5PyTm7QyJefs/F1100UUX/T8K1PqVArX+P3+lQK1fKQBA+OCDDz74AEByHMdxHMcBQOtXCtT6lQJAZZNNNtlkA0DezpCYtzMEQFgK1PqVAgVA0UUXXXTRBUBLgVq/UqAGQMS8nSExbwdAPvjggw8+CEC3MyTm7QwJQDFvZ0jM2wlAq6qqqqqqCkAk5u0MiXkLQJ4hMW9nSAxAF1100UUXDUCRmLczJOYNQArU+pUCtQ5AhA8++OCDD0B/pUCtXykQQDtDYt7OkBBA+OCDDz74EEC1fqVArV8RQHIcx3EcxxFALrrooosuEkDrVwrU+pUSQKj1KwVq/RJAZZNNNtlkE0AiMW9nSMwTQN7OkJi3MxRAm2yyySabFEBYCtT6lQIVQBWo9SsFahVA0UUXXXTRFUCO4ziO4zgWQEuBWr9SoBZACB988MEHF0DEvJ0hMW8XQIFav1Kg1hdAPvjggw8+GED7lQK1fqUYQLczJObtDBlAdNFFF110GUAxb2dIzNsZQO4MiXk7QxpAq6qqqqqqGkBnSMzbGRIbQCTm7QyJeRtA4YMPPvjgG0CeITFvZ0gcQFq/UqDWrxxAF1100UUXHUDU+pUCtX4dQJGYtzMk5h1ATTbZZJNNHkAK1PqVArUeQMdxHMdxHB9AhA8++OCDH0BArV8pUOsfQH+lQK1fKSBAXXTRRRddIEA7Q2LezpAgQBoS83aGxCBA+OCDDz74IEDXrxSo9SshQLV+pUCtXyFAk0022WSTIUByHMdxHMchQFDrVwrU+iFALrrooosuIkANiXk7Q2IiQOtXCtT6lSJAyiabbLLJIkCo9SsFav0iQIbEvJ0hMSNAZZNNNtlkI0BDYt7OkJgjQCIxb2dIzCNAAAAAAAAAJEA=\",\"dtype\":\"float64\",\"shape\":[100]},\"y\":{\"__ndarray__\":\"AAAAAAAAJEDK5gP6GNQRQO4Fjqsayf8/oVnF5p5V7D+eGVeiD0LZP2KtybYChMY/swgUUi8StD/MtLITT+ShP8txUSIC5o8/rRtErGVvfD+fyyGfD1lpP7W0Ex6PmFY/Wf0S6o0kRD9Uj3x2xfQxP5kMTfzVASA/FyxSdCaKDD8O+PduXnH5PiCVXpy/ruY+yVGXWlQ51D5IOtDa/gfCPrgY4oplE7A+rwL6EUarnD6PRomF7pCJPqlBoq6hzHY+HH9Vu7dUZD4cQYTZMyFSPgd/Yo3EL0A+OcLdfjjyLD7VGmLvcdoZPniKBLP7Owc+bP83bibk9D2Nh0M2vLPiPbWdBRq/vNA9tCWei43MvT0x+oUigouqPUhzZ7pmqpc9n+SUzFAahT3t66oxoMRyPTzA8GZxs2A9qcbx+XXVTT1DA6l7x8Y6Pen9bPrI1Cc9+IX6AyGpFT0+ass5rcoDPcRS/k2eYPE8ioAWZiqn4DzmMu0WkGnRPEEvs+Ov6748YCdhUMIapjwbJig8goiZPPYUP6xNTJI8v223UlNZfjy7cS985/9qPAknoQUlIlg8ns3KEtN1RTyu9kTJMB4zPNNbLngO/CA8mEuy6hYaDjze29SmaeP6Ox8YoxPoPOk7Z/nw704g2DuK2K+A7CnFO1YMbsd0qLI7rTTR+wCloDswoD+TE72NO7IXzbApWXo7+BP8NAaGZzuE0i6Pac1UOxIJB6COU0I7SHCGX5xkMDvRcyecliQgOyaK96UoaBA7pP/UjuSY/Dqiop1xirzoOkJkQfA69eE68oPFQURH3Tq8vO8hjJLKOvBn+th6N2k6EJTylswTjroJsKQelS+1OqdsW2Dwwsc6eeDQMEuQxDp6nrmh9TqoOuDwDBzRJqG6HmqpKap1srrmn05sg3afunSzETTIzoo6KRyz2gFmojqeu8GRA+GXOkVQuOjuK2O60rIsuFy+Ybp1tDG2wVpxOtZZt5+0lFw6zXd+z+j7SDrSQQs0YZM2OmKKOTmJ1yM6l04KMhP9EDqXQsr7ZzX/OQhoq9HshOw5idJ4ihAR1zk=\",\"dtype\":\"float64\",\"shape\":[100]}},\"selected\":{\"id\":\"18870\",\"type\":\"Selection\"},\"selection_policy\":{\"id\":\"18869\",\"type\":\"UnionRenderers\"}},\"id\":\"18840\",\"type\":\"ColumnDataSource\"},{\"attributes\":{\"source\":{\"id\":\"18855\",\"type\":\"ColumnDataSource\"}},\"id\":\"18859\",\"type\":\"CDSView\"},{\"attributes\":{},\"id\":\"18834\",\"type\":\"BasicTickFormatter\"},{\"attributes\":{\"label\":{\"value\":\"atp\"},\"renderers\":[{\"id\":\"18829\",\"type\":\"GlyphRenderer\"}]},\"id\":\"18839\",\"type\":\"LegendItem\"},{\"attributes\":{},\"id\":\"18869\",\"type\":\"UnionRenderers\"},{\"attributes\":{\"overlay\":{\"id\":\"18837\",\"type\":\"BoxAnnotation\"}},\"id\":\"18815\",\"type\":\"BoxZoomTool\"},{\"attributes\":{\"label\":{\"value\":\"inside_H\"},\"renderers\":[{\"id\":\"18858\",\"type\":\"GlyphRenderer\"}]},\"id\":\"18871\",\"type\":\"LegendItem\"},{\"attributes\":{\"ticker\":{\"id\":\"18804\",\"type\":\"BasicTicker\"}},\"id\":\"18807\",\"type\":\"Grid\"},{\"attributes\":{\"line_alpha\":0.1,\"line_color\":\"#1f77b4\",\"line_width\":2,\"x\":{\"field\":\"x\"},\"y\":{\"field\":\"y\"}},\"id\":\"18842\",\"type\":\"Line\"},{\"attributes\":{},\"id\":\"18836\",\"type\":\"BasicTickFormatter\"},{\"attributes\":{},\"id\":\"18870\",\"type\":\"Selection\"},{\"attributes\":{},\"id\":\"18804\",\"type\":\"BasicTicker\"},{\"attributes\":{},\"id\":\"18814\",\"type\":\"WheelZoomTool\"},{\"attributes\":{\"line_alpha\":0.1,\"line_color\":\"#1f77b4\",\"line_width\":2,\"x\":{\"field\":\"x\"},\"y\":{\"field\":\"y\"}},\"id\":\"18828\",\"type\":\"Line\"},{\"attributes\":{\"line_color\":\"#9367bc\",\"line_width\":2,\"x\":{\"field\":\"x\"},\"y\":{\"field\":\"y\"}},\"id\":\"18873\",\"type\":\"Line\"},{\"attributes\":{},\"id\":\"18813\",\"type\":\"PanTool\"},{\"attributes\":{\"text\":\"\"},\"id\":\"18831\",\"type\":\"Title\"},{\"attributes\":{\"data_source\":{\"id\":\"18840\",\"type\":\"ColumnDataSource\"},\"glyph\":{\"id\":\"18841\",\"type\":\"Line\"},\"hover_glyph\":null,\"muted_glyph\":null,\"nonselection_glyph\":{\"id\":\"18842\",\"type\":\"Line\"},\"selection_glyph\":null,\"view\":{\"id\":\"18844\",\"type\":\"CDSView\"}},\"id\":\"18843\",\"type\":\"GlyphRenderer\"},{\"attributes\":{\"items\":[{\"id\":\"18839\",\"type\":\"LegendItem\"},{\"id\":\"18854\",\"type\":\"LegendItem\"},{\"id\":\"18871\",\"type\":\"LegendItem\"},{\"id\":\"18890\",\"type\":\"LegendItem\"}]},\"id\":\"18838\",\"type\":\"Legend\"},{\"attributes\":{\"callback\":null},\"id\":\"18795\",\"type\":\"DataRange1d\"},{\"attributes\":{},\"id\":\"18799\",\"type\":\"LinearScale\"},{\"attributes\":{\"line_color\":\"#1f77b3\",\"line_width\":2,\"x\":{\"field\":\"x\"},\"y\":{\"field\":\"y\"}},\"id\":\"18827\",\"type\":\"Line\"},{\"attributes\":{\"source\":{\"id\":\"18826\",\"type\":\"ColumnDataSource\"}},\"id\":\"18830\",\"type\":\"CDSView\"},{\"attributes\":{\"dimension\":1,\"ticker\":{\"id\":\"18809\",\"type\":\"BasicTicker\"}},\"id\":\"18812\",\"type\":\"Grid\"}],\"root_ids\":[\"18794\"]},\"title\":\"Bokeh Application\",\"version\":\"1.4.0\"}};\n",
       "  var render_items = [{\"docid\":\"6979d341-fff2-4568-8226-c27e0f39d10e\",\"roots\":{\"18794\":\"0a59738c-3f52-4ebc-8e2f-67361f222e06\"}}];\n",
       "  root.Bokeh.embed.embed_items_notebook(docs_json, render_items);\n",
       "\n",
       "  }\n",
       "  if (root.Bokeh !== undefined) {\n",
       "    embed_document(root);\n",
       "  } else {\n",
       "    var attempts = 0;\n",
       "    var timer = setInterval(function(root) {\n",
       "      if (root.Bokeh !== undefined) {\n",
       "        clearInterval(timer);\n",
       "        embed_document(root);\n",
       "      } else {\n",
       "        attempts++;\n",
       "        if (attempts > 100) {\n",
       "          clearInterval(timer);\n",
       "          console.log(\"Bokeh: ERROR: Unable to run BokehJS code because BokehJS library is missing\");\n",
       "        }\n",
       "      }\n",
       "    }, 10, root)\n",
       "  }\n",
       "})(window);"
      ],
      "application/vnd.bokehjs_exec.v0+json": ""
     },
     "metadata": {
      "application/vnd.bokehjs_exec.v0+json": {
       "id": "18794"
      }
     },
     "output_type": "display_data"
    }
   ],
   "source": [
    "\n",
    "\n",
    "# PLOT\n",
    "p_w_atp = bokeh.plotting.figure(width = 450, height = 300)\n",
    "plot_list = [ATP_id, outside_H_id, inside_H_id, atp_synthase_b_protein_id]\n",
    "plot_str = ['atp', 'outside_H', 'inside_H', 'atp synthase']\n",
    "# plot_list = [atp_synthase_b_protein_id, atp_synthase_f_protein_id]\n",
    "# plot_str = ['atp synthase bound', 'atp synthase free']\n",
    "for i,item in enumerate(plot_list):\n",
    "    p_w_atp.line(timepoints, results[item], line_width = 2, legend_label = plot_str[i], color = palette[i])\n",
    "    \n",
    "bokeh.io.show(p_w_atp)\n",
    "\n"
   ]
  },
  {
   "cell_type": "markdown",
   "metadata": {},
   "source": [
    "Nice we see that there's just a lower steady state when we add atp use, as expected"
   ]
  },
  {
   "cell_type": "markdown",
   "metadata": {},
   "source": [
    "But how come it's staying regenerated for ever. Once there's no more outside H, no flow in of protons so no ATP synthesis via atp synthase. But atp should still be used by the atp_use subsbml so why isn't atp degrading?"
   ]
  },
  {
   "cell_type": "markdown",
   "metadata": {},
   "source": [
    "We need to get it to say, once there is 1 atp synthase, something happens."
   ]
  },
  {
   "cell_type": "markdown",
   "metadata": {},
   "source": [
    "For the 'SBML for ATP synthesis via ATP synthase membrane protein' we need to include ATP synthase!!"
   ]
  },
  {
   "cell_type": "code",
   "execution_count": null,
   "metadata": {},
   "outputs": [],
   "source": []
  }
 ],
 "metadata": {
  "kernelspec": {
   "display_name": "Python 3",
   "language": "python",
   "name": "python3"
  },
  "language_info": {
   "codemirror_mode": {
    "name": "ipython",
    "version": 3
   },
   "file_extension": ".py",
   "mimetype": "text/x-python",
   "name": "python",
   "nbconvert_exporter": "python",
   "pygments_lexer": "ipython3",
   "version": "3.7.7"
  }
 },
 "nbformat": 4,
 "nbformat_minor": 4
}
