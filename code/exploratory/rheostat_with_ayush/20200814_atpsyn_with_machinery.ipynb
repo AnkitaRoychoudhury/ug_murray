{
 "cells": [
  {
   "cell_type": "markdown",
   "metadata": {},
   "source": [
    "# Combine Sub-SBML models with TXTL Machinery\n",
    "---"
   ]
  },
  {
   "cell_type": "markdown",
   "metadata": {},
   "source": [
    "Do this so you can incorporate temperature control <br>\n",
    "2020.08.14"
   ]
  },
  {
   "cell_type": "code",
   "execution_count": 31,
   "metadata": {},
   "outputs": [
    {
     "data": {
      "text/html": [
       "\n",
       "    <div class=\"bk-root\">\n",
       "        <a href=\"https://bokeh.org\" target=\"_blank\" class=\"bk-logo bk-logo-small bk-logo-notebook\"></a>\n",
       "        <span id=\"5657\">Loading BokehJS ...</span>\n",
       "    </div>"
      ]
     },
     "metadata": {},
     "output_type": "display_data"
    },
    {
     "data": {
      "application/javascript": [
       "\n",
       "(function(root) {\n",
       "  function now() {\n",
       "    return new Date();\n",
       "  }\n",
       "\n",
       "  var force = true;\n",
       "\n",
       "  if (typeof root._bokeh_onload_callbacks === \"undefined\" || force === true) {\n",
       "    root._bokeh_onload_callbacks = [];\n",
       "    root._bokeh_is_loading = undefined;\n",
       "  }\n",
       "\n",
       "  var JS_MIME_TYPE = 'application/javascript';\n",
       "  var HTML_MIME_TYPE = 'text/html';\n",
       "  var EXEC_MIME_TYPE = 'application/vnd.bokehjs_exec.v0+json';\n",
       "  var CLASS_NAME = 'output_bokeh rendered_html';\n",
       "\n",
       "  /**\n",
       "   * Render data to the DOM node\n",
       "   */\n",
       "  function render(props, node) {\n",
       "    var script = document.createElement(\"script\");\n",
       "    node.appendChild(script);\n",
       "  }\n",
       "\n",
       "  /**\n",
       "   * Handle when an output is cleared or removed\n",
       "   */\n",
       "  function handleClearOutput(event, handle) {\n",
       "    var cell = handle.cell;\n",
       "\n",
       "    var id = cell.output_area._bokeh_element_id;\n",
       "    var server_id = cell.output_area._bokeh_server_id;\n",
       "    // Clean up Bokeh references\n",
       "    if (id != null && id in Bokeh.index) {\n",
       "      Bokeh.index[id].model.document.clear();\n",
       "      delete Bokeh.index[id];\n",
       "    }\n",
       "\n",
       "    if (server_id !== undefined) {\n",
       "      // Clean up Bokeh references\n",
       "      var cmd = \"from bokeh.io.state import curstate; print(curstate().uuid_to_server['\" + server_id + \"'].get_sessions()[0].document.roots[0]._id)\";\n",
       "      cell.notebook.kernel.execute(cmd, {\n",
       "        iopub: {\n",
       "          output: function(msg) {\n",
       "            var id = msg.content.text.trim();\n",
       "            if (id in Bokeh.index) {\n",
       "              Bokeh.index[id].model.document.clear();\n",
       "              delete Bokeh.index[id];\n",
       "            }\n",
       "          }\n",
       "        }\n",
       "      });\n",
       "      // Destroy server and session\n",
       "      var cmd = \"import bokeh.io.notebook as ion; ion.destroy_server('\" + server_id + \"')\";\n",
       "      cell.notebook.kernel.execute(cmd);\n",
       "    }\n",
       "  }\n",
       "\n",
       "  /**\n",
       "   * Handle when a new output is added\n",
       "   */\n",
       "  function handleAddOutput(event, handle) {\n",
       "    var output_area = handle.output_area;\n",
       "    var output = handle.output;\n",
       "\n",
       "    // limit handleAddOutput to display_data with EXEC_MIME_TYPE content only\n",
       "    if ((output.output_type != \"display_data\") || (!output.data.hasOwnProperty(EXEC_MIME_TYPE))) {\n",
       "      return\n",
       "    }\n",
       "\n",
       "    var toinsert = output_area.element.find(\".\" + CLASS_NAME.split(' ')[0]);\n",
       "\n",
       "    if (output.metadata[EXEC_MIME_TYPE][\"id\"] !== undefined) {\n",
       "      toinsert[toinsert.length - 1].firstChild.textContent = output.data[JS_MIME_TYPE];\n",
       "      // store reference to embed id on output_area\n",
       "      output_area._bokeh_element_id = output.metadata[EXEC_MIME_TYPE][\"id\"];\n",
       "    }\n",
       "    if (output.metadata[EXEC_MIME_TYPE][\"server_id\"] !== undefined) {\n",
       "      var bk_div = document.createElement(\"div\");\n",
       "      bk_div.innerHTML = output.data[HTML_MIME_TYPE];\n",
       "      var script_attrs = bk_div.children[0].attributes;\n",
       "      for (var i = 0; i < script_attrs.length; i++) {\n",
       "        toinsert[toinsert.length - 1].firstChild.setAttribute(script_attrs[i].name, script_attrs[i].value);\n",
       "      }\n",
       "      // store reference to server id on output_area\n",
       "      output_area._bokeh_server_id = output.metadata[EXEC_MIME_TYPE][\"server_id\"];\n",
       "    }\n",
       "  }\n",
       "\n",
       "  function register_renderer(events, OutputArea) {\n",
       "\n",
       "    function append_mime(data, metadata, element) {\n",
       "      // create a DOM node to render to\n",
       "      var toinsert = this.create_output_subarea(\n",
       "        metadata,\n",
       "        CLASS_NAME,\n",
       "        EXEC_MIME_TYPE\n",
       "      );\n",
       "      this.keyboard_manager.register_events(toinsert);\n",
       "      // Render to node\n",
       "      var props = {data: data, metadata: metadata[EXEC_MIME_TYPE]};\n",
       "      render(props, toinsert[toinsert.length - 1]);\n",
       "      element.append(toinsert);\n",
       "      return toinsert\n",
       "    }\n",
       "\n",
       "    /* Handle when an output is cleared or removed */\n",
       "    events.on('clear_output.CodeCell', handleClearOutput);\n",
       "    events.on('delete.Cell', handleClearOutput);\n",
       "\n",
       "    /* Handle when a new output is added */\n",
       "    events.on('output_added.OutputArea', handleAddOutput);\n",
       "\n",
       "    /**\n",
       "     * Register the mime type and append_mime function with output_area\n",
       "     */\n",
       "    OutputArea.prototype.register_mime_type(EXEC_MIME_TYPE, append_mime, {\n",
       "      /* Is output safe? */\n",
       "      safe: true,\n",
       "      /* Index of renderer in `output_area.display_order` */\n",
       "      index: 0\n",
       "    });\n",
       "  }\n",
       "\n",
       "  // register the mime type if in Jupyter Notebook environment and previously unregistered\n",
       "  if (root.Jupyter !== undefined) {\n",
       "    var events = require('base/js/events');\n",
       "    var OutputArea = require('notebook/js/outputarea').OutputArea;\n",
       "\n",
       "    if (OutputArea.prototype.mime_types().indexOf(EXEC_MIME_TYPE) == -1) {\n",
       "      register_renderer(events, OutputArea);\n",
       "    }\n",
       "  }\n",
       "\n",
       "  \n",
       "  if (typeof (root._bokeh_timeout) === \"undefined\" || force === true) {\n",
       "    root._bokeh_timeout = Date.now() + 5000;\n",
       "    root._bokeh_failed_load = false;\n",
       "  }\n",
       "\n",
       "  var NB_LOAD_WARNING = {'data': {'text/html':\n",
       "     \"<div style='background-color: #fdd'>\\n\"+\n",
       "     \"<p>\\n\"+\n",
       "     \"BokehJS does not appear to have successfully loaded. If loading BokehJS from CDN, this \\n\"+\n",
       "     \"may be due to a slow or bad network connection. Possible fixes:\\n\"+\n",
       "     \"</p>\\n\"+\n",
       "     \"<ul>\\n\"+\n",
       "     \"<li>re-rerun `output_notebook()` to attempt to load from CDN again, or</li>\\n\"+\n",
       "     \"<li>use INLINE resources instead, as so:</li>\\n\"+\n",
       "     \"</ul>\\n\"+\n",
       "     \"<code>\\n\"+\n",
       "     \"from bokeh.resources import INLINE\\n\"+\n",
       "     \"output_notebook(resources=INLINE)\\n\"+\n",
       "     \"</code>\\n\"+\n",
       "     \"</div>\"}};\n",
       "\n",
       "  function display_loaded() {\n",
       "    var el = document.getElementById(\"5657\");\n",
       "    if (el != null) {\n",
       "      el.textContent = \"BokehJS is loading...\";\n",
       "    }\n",
       "    if (root.Bokeh !== undefined) {\n",
       "      if (el != null) {\n",
       "        el.textContent = \"BokehJS \" + root.Bokeh.version + \" successfully loaded.\";\n",
       "      }\n",
       "    } else if (Date.now() < root._bokeh_timeout) {\n",
       "      setTimeout(display_loaded, 100)\n",
       "    }\n",
       "  }\n",
       "\n",
       "\n",
       "  function run_callbacks() {\n",
       "    try {\n",
       "      root._bokeh_onload_callbacks.forEach(function(callback) {\n",
       "        if (callback != null)\n",
       "          callback();\n",
       "      });\n",
       "    } finally {\n",
       "      delete root._bokeh_onload_callbacks\n",
       "    }\n",
       "    console.debug(\"Bokeh: all callbacks have finished\");\n",
       "  }\n",
       "\n",
       "  function load_libs(css_urls, js_urls, callback) {\n",
       "    if (css_urls == null) css_urls = [];\n",
       "    if (js_urls == null) js_urls = [];\n",
       "\n",
       "    root._bokeh_onload_callbacks.push(callback);\n",
       "    if (root._bokeh_is_loading > 0) {\n",
       "      console.debug(\"Bokeh: BokehJS is being loaded, scheduling callback at\", now());\n",
       "      return null;\n",
       "    }\n",
       "    if (js_urls == null || js_urls.length === 0) {\n",
       "      run_callbacks();\n",
       "      return null;\n",
       "    }\n",
       "    console.debug(\"Bokeh: BokehJS not loaded, scheduling load and callback at\", now());\n",
       "    root._bokeh_is_loading = css_urls.length + js_urls.length;\n",
       "\n",
       "    function on_load() {\n",
       "      root._bokeh_is_loading--;\n",
       "      if (root._bokeh_is_loading === 0) {\n",
       "        console.debug(\"Bokeh: all BokehJS libraries/stylesheets loaded\");\n",
       "        run_callbacks()\n",
       "      }\n",
       "    }\n",
       "\n",
       "    function on_error() {\n",
       "      console.error(\"failed to load \" + url);\n",
       "    }\n",
       "\n",
       "    for (var i = 0; i < css_urls.length; i++) {\n",
       "      var url = css_urls[i];\n",
       "      const element = document.createElement(\"link\");\n",
       "      element.onload = on_load;\n",
       "      element.onerror = on_error;\n",
       "      element.rel = \"stylesheet\";\n",
       "      element.type = \"text/css\";\n",
       "      element.href = url;\n",
       "      console.debug(\"Bokeh: injecting link tag for BokehJS stylesheet: \", url);\n",
       "      document.body.appendChild(element);\n",
       "    }\n",
       "\n",
       "    for (var i = 0; i < js_urls.length; i++) {\n",
       "      var url = js_urls[i];\n",
       "      var element = document.createElement('script');\n",
       "      element.onload = on_load;\n",
       "      element.onerror = on_error;\n",
       "      element.async = false;\n",
       "      element.src = url;\n",
       "      console.debug(\"Bokeh: injecting script tag for BokehJS library: \", url);\n",
       "      document.head.appendChild(element);\n",
       "    }\n",
       "  };var element = document.getElementById(\"5657\");\n",
       "  if (element == null) {\n",
       "    console.error(\"Bokeh: ERROR: autoload.js configured with elementid '5657' but no matching script tag was found. \")\n",
       "    return false;\n",
       "  }\n",
       "\n",
       "  function inject_raw_css(css) {\n",
       "    const element = document.createElement(\"style\");\n",
       "    element.appendChild(document.createTextNode(css));\n",
       "    document.body.appendChild(element);\n",
       "  }\n",
       "\n",
       "  \n",
       "  var js_urls = [\"https://cdn.pydata.org/bokeh/release/bokeh-1.4.0.min.js\", \"https://cdn.pydata.org/bokeh/release/bokeh-widgets-1.4.0.min.js\", \"https://cdn.pydata.org/bokeh/release/bokeh-tables-1.4.0.min.js\", \"https://cdn.pydata.org/bokeh/release/bokeh-gl-1.4.0.min.js\"];\n",
       "  var css_urls = [];\n",
       "  \n",
       "\n",
       "  var inline_js = [\n",
       "    function(Bokeh) {\n",
       "      Bokeh.set_log_level(\"info\");\n",
       "    },\n",
       "    function(Bokeh) {\n",
       "    \n",
       "    \n",
       "    }\n",
       "  ];\n",
       "\n",
       "  function run_inline_js() {\n",
       "    \n",
       "    if (root.Bokeh !== undefined || force === true) {\n",
       "      \n",
       "    for (var i = 0; i < inline_js.length; i++) {\n",
       "      inline_js[i].call(root, root.Bokeh);\n",
       "    }\n",
       "    if (force === true) {\n",
       "        display_loaded();\n",
       "      }} else if (Date.now() < root._bokeh_timeout) {\n",
       "      setTimeout(run_inline_js, 100);\n",
       "    } else if (!root._bokeh_failed_load) {\n",
       "      console.log(\"Bokeh: BokehJS failed to load within specified timeout.\");\n",
       "      root._bokeh_failed_load = true;\n",
       "    } else if (force !== true) {\n",
       "      var cell = $(document.getElementById(\"5657\")).parents('.cell').data().cell;\n",
       "      cell.output_area.append_execute_result(NB_LOAD_WARNING)\n",
       "    }\n",
       "\n",
       "  }\n",
       "\n",
       "  if (root._bokeh_is_loading === 0) {\n",
       "    console.debug(\"Bokeh: BokehJS loaded, going straight to plotting\");\n",
       "    run_inline_js();\n",
       "  } else {\n",
       "    load_libs(css_urls, js_urls, function() {\n",
       "      console.debug(\"Bokeh: BokehJS plotting callback run at\", now());\n",
       "      run_inline_js();\n",
       "    });\n",
       "  }\n",
       "}(window));"
      ],
      "application/vnd.bokehjs_load.v0+json": "\n(function(root) {\n  function now() {\n    return new Date();\n  }\n\n  var force = true;\n\n  if (typeof root._bokeh_onload_callbacks === \"undefined\" || force === true) {\n    root._bokeh_onload_callbacks = [];\n    root._bokeh_is_loading = undefined;\n  }\n\n  \n\n  \n  if (typeof (root._bokeh_timeout) === \"undefined\" || force === true) {\n    root._bokeh_timeout = Date.now() + 5000;\n    root._bokeh_failed_load = false;\n  }\n\n  var NB_LOAD_WARNING = {'data': {'text/html':\n     \"<div style='background-color: #fdd'>\\n\"+\n     \"<p>\\n\"+\n     \"BokehJS does not appear to have successfully loaded. If loading BokehJS from CDN, this \\n\"+\n     \"may be due to a slow or bad network connection. Possible fixes:\\n\"+\n     \"</p>\\n\"+\n     \"<ul>\\n\"+\n     \"<li>re-rerun `output_notebook()` to attempt to load from CDN again, or</li>\\n\"+\n     \"<li>use INLINE resources instead, as so:</li>\\n\"+\n     \"</ul>\\n\"+\n     \"<code>\\n\"+\n     \"from bokeh.resources import INLINE\\n\"+\n     \"output_notebook(resources=INLINE)\\n\"+\n     \"</code>\\n\"+\n     \"</div>\"}};\n\n  function display_loaded() {\n    var el = document.getElementById(\"5657\");\n    if (el != null) {\n      el.textContent = \"BokehJS is loading...\";\n    }\n    if (root.Bokeh !== undefined) {\n      if (el != null) {\n        el.textContent = \"BokehJS \" + root.Bokeh.version + \" successfully loaded.\";\n      }\n    } else if (Date.now() < root._bokeh_timeout) {\n      setTimeout(display_loaded, 100)\n    }\n  }\n\n\n  function run_callbacks() {\n    try {\n      root._bokeh_onload_callbacks.forEach(function(callback) {\n        if (callback != null)\n          callback();\n      });\n    } finally {\n      delete root._bokeh_onload_callbacks\n    }\n    console.debug(\"Bokeh: all callbacks have finished\");\n  }\n\n  function load_libs(css_urls, js_urls, callback) {\n    if (css_urls == null) css_urls = [];\n    if (js_urls == null) js_urls = [];\n\n    root._bokeh_onload_callbacks.push(callback);\n    if (root._bokeh_is_loading > 0) {\n      console.debug(\"Bokeh: BokehJS is being loaded, scheduling callback at\", now());\n      return null;\n    }\n    if (js_urls == null || js_urls.length === 0) {\n      run_callbacks();\n      return null;\n    }\n    console.debug(\"Bokeh: BokehJS not loaded, scheduling load and callback at\", now());\n    root._bokeh_is_loading = css_urls.length + js_urls.length;\n\n    function on_load() {\n      root._bokeh_is_loading--;\n      if (root._bokeh_is_loading === 0) {\n        console.debug(\"Bokeh: all BokehJS libraries/stylesheets loaded\");\n        run_callbacks()\n      }\n    }\n\n    function on_error() {\n      console.error(\"failed to load \" + url);\n    }\n\n    for (var i = 0; i < css_urls.length; i++) {\n      var url = css_urls[i];\n      const element = document.createElement(\"link\");\n      element.onload = on_load;\n      element.onerror = on_error;\n      element.rel = \"stylesheet\";\n      element.type = \"text/css\";\n      element.href = url;\n      console.debug(\"Bokeh: injecting link tag for BokehJS stylesheet: \", url);\n      document.body.appendChild(element);\n    }\n\n    for (var i = 0; i < js_urls.length; i++) {\n      var url = js_urls[i];\n      var element = document.createElement('script');\n      element.onload = on_load;\n      element.onerror = on_error;\n      element.async = false;\n      element.src = url;\n      console.debug(\"Bokeh: injecting script tag for BokehJS library: \", url);\n      document.head.appendChild(element);\n    }\n  };var element = document.getElementById(\"5657\");\n  if (element == null) {\n    console.error(\"Bokeh: ERROR: autoload.js configured with elementid '5657' but no matching script tag was found. \")\n    return false;\n  }\n\n  function inject_raw_css(css) {\n    const element = document.createElement(\"style\");\n    element.appendChild(document.createTextNode(css));\n    document.body.appendChild(element);\n  }\n\n  \n  var js_urls = [\"https://cdn.pydata.org/bokeh/release/bokeh-1.4.0.min.js\", \"https://cdn.pydata.org/bokeh/release/bokeh-widgets-1.4.0.min.js\", \"https://cdn.pydata.org/bokeh/release/bokeh-tables-1.4.0.min.js\", \"https://cdn.pydata.org/bokeh/release/bokeh-gl-1.4.0.min.js\"];\n  var css_urls = [];\n  \n\n  var inline_js = [\n    function(Bokeh) {\n      Bokeh.set_log_level(\"info\");\n    },\n    function(Bokeh) {\n    \n    \n    }\n  ];\n\n  function run_inline_js() {\n    \n    if (root.Bokeh !== undefined || force === true) {\n      \n    for (var i = 0; i < inline_js.length; i++) {\n      inline_js[i].call(root, root.Bokeh);\n    }\n    if (force === true) {\n        display_loaded();\n      }} else if (Date.now() < root._bokeh_timeout) {\n      setTimeout(run_inline_js, 100);\n    } else if (!root._bokeh_failed_load) {\n      console.log(\"Bokeh: BokehJS failed to load within specified timeout.\");\n      root._bokeh_failed_load = true;\n    } else if (force !== true) {\n      var cell = $(document.getElementById(\"5657\")).parents('.cell').data().cell;\n      cell.output_area.append_execute_result(NB_LOAD_WARNING)\n    }\n\n  }\n\n  if (root._bokeh_is_loading === 0) {\n    console.debug(\"Bokeh: BokehJS loaded, going straight to plotting\");\n    run_inline_js();\n  } else {\n    load_libs(css_urls, js_urls, function() {\n      console.debug(\"Bokeh: BokehJS plotting callback run at\", now());\n      run_inline_js();\n    });\n  }\n}(window));"
     },
     "metadata": {},
     "output_type": "display_data"
    }
   ],
   "source": [
    "from biocrnpyler import *\n",
    "#from biocrnpyler.chemical_reaction_network import Species, Reaction, ComplexSpecies, Multimer\n",
    "import numpy as np\n",
    "#import pylab as plt \n",
    "#%matplotlib inline\n",
    "\n",
    "import bokeh.io\n",
    "import bokeh.plotting\n",
    "from bokeh.layouts import row\n",
    "\n",
    "bokeh.io.output_notebook()\n",
    "\n",
    "import colorcet\n",
    "\n",
    "from subsbml import createNewSubsystem, createSubsystem"
   ]
  },
  {
   "cell_type": "code",
   "execution_count": 32,
   "metadata": {},
   "outputs": [
    {
     "ename": "ValueError",
     "evalue": "list.remove(x): x not in list",
     "output_type": "error",
     "traceback": [
      "\u001b[0;31m---------------------------------------------------------------------------\u001b[0m",
      "\u001b[0;31mValueError\u001b[0m                                Traceback (most recent call last)",
      "\u001b[0;32m<ipython-input-32-9f1acf1eaf8d>\u001b[0m in \u001b[0;36m<module>\u001b[0;34m\u001b[0m\n\u001b[1;32m      1\u001b[0m \u001b[0mpalette\u001b[0m \u001b[0;34m=\u001b[0m \u001b[0mcolorcet\u001b[0m\u001b[0;34m.\u001b[0m\u001b[0mb_glasbey_category10\u001b[0m\u001b[0;34m\u001b[0m\u001b[0;34m\u001b[0m\u001b[0m\n\u001b[0;32m----> 2\u001b[0;31m \u001b[0mpalette\u001b[0m\u001b[0;34m.\u001b[0m\u001b[0mremove\u001b[0m\u001b[0;34m(\u001b[0m \u001b[0;34m'#d62628'\u001b[0m\u001b[0;34m)\u001b[0m\u001b[0;34m\u001b[0m\u001b[0;34m\u001b[0m\u001b[0m\n\u001b[0m",
      "\u001b[0;31mValueError\u001b[0m: list.remove(x): x not in list"
     ]
    }
   ],
   "source": [
    "palette = colorcet.b_glasbey_category10\n",
    "palette.remove( '#d62628')"
   ]
  },
  {
   "cell_type": "code",
   "execution_count": 33,
   "metadata": {},
   "outputs": [],
   "source": [
    "p_atp = bokeh.plotting.figure(width = 450, height = 350,\n",
    "                             title = 'ATP Compare',\n",
    "                             x_axis_label = 'time (sec)',\n",
    "                             y_axis_label = 'concentration (nM)')"
   ]
  },
  {
   "cell_type": "markdown",
   "metadata": {},
   "source": [
    "## Combine atp synthase with txtl machinery \n",
    "---"
   ]
  },
  {
   "cell_type": "markdown",
   "metadata": {},
   "source": [
    "Load in subsystem models"
   ]
  },
  {
   "cell_type": "code",
   "execution_count": 34,
   "metadata": {},
   "outputs": [],
   "source": [
    "# atp synthase models\n",
    "ss1_atpsyn_txtl = createSubsystem('atpsynthase_machinery_txtl.xml', subsystemName = 'atpsyn_txtl')\n",
    "ss2_atpsyn_mi = createSubsystem('atpsynthase_membrane_integration.xml', subsystemName = 'atpsyn_mi')\n",
    "ss3_atpsynthesis = createSubsystem('atp_synthesis_through_atpsynthase.xml', subsystemName = 'atpsynthesis')\n",
    "ss4_atp_use = createSubsystem('atp_use.xml', subsystemName = 'atp_use')"
   ]
  },
  {
   "cell_type": "markdown",
   "metadata": {},
   "source": [
    "Combine all models"
   ]
  },
  {
   "cell_type": "code",
   "execution_count": 35,
   "metadata": {},
   "outputs": [],
   "source": [
    "atp_subsystem_w_use = ss1_atpsyn_txtl + ss2_atpsyn_mi + ss3_atpsynthesis + ss4_atp_use"
   ]
  },
  {
   "cell_type": "markdown",
   "metadata": {},
   "source": [
    "Indicate initial conditions and timepoints, simulate with bioscrape, and get species IDs that you may want to plot"
   ]
  },
  {
   "cell_type": "code",
   "execution_count": 43,
   "metadata": {},
   "outputs": [
    {
     "name": "stderr",
     "output_type": "stream",
     "text": [
      "odeint failed with mxstep=500..."
     ]
    }
   ],
   "source": [
    "# SIMULATE WITH ATP SYNTHASE\n",
    "# Initial conditions\n",
    "spec_list_10 = ['dna_atpsyn', 'proton_outside_H', 'metabolite_atp',\n",
    "                 'protein_RNAP_machinery', \n",
    "                'protein_Ribo_machinery', 'protein_RNAse_machinery']\n",
    "for i,spec in enumerate(spec_list_10):\n",
    "    atp_subsystem_w_use.setSpeciesAmount(spec,10)\n",
    "\n",
    "\n",
    "# timepoints and get WITH ATP SYNTHASE\n",
    "timepoints = np.linspace(0,31600,100)\n",
    "results1, _ = atp_subsystem_w_use.simulateWithBioscrape(timepoints, sbml_warnings = False)\n",
    "\n",
    "# Get species IDs\n",
    "ATP_id = atp_subsystem_w_use.getSpeciesByName('metabolite_atp').getId()\n",
    "ADP_id = atp_subsystem_w_use.getSpeciesByName('metabolite_adp').getId()\n",
    "\n",
    "outside_H_id = atp_subsystem_w_use.getSpeciesByName('proton_outside_H').getId()\n",
    "inside_H_id = atp_subsystem_w_use.getSpeciesByName('proton_inside_H').getId()\n",
    "atp_synthase_b_protein_id = atp_subsystem_w_use.getSpeciesByName('protein_atpsyn_b').getId()\n",
    "atp_synthase_f_protein_id = atp_subsystem_w_use.getSpeciesByName('protein_atpsyn').getId()"
   ]
  },
  {
   "cell_type": "markdown",
   "metadata": {},
   "source": [
    "Perform simulations with the system with **only** ATP use, no atp synthase"
   ]
  },
  {
   "cell_type": "code",
   "execution_count": 44,
   "metadata": {},
   "outputs": [],
   "source": [
    "# SIMULATE WITHOUT ATP SYNTHASE\n",
    "#ss4_atp_use.setSpeciesAmount('proton_outside_H',10)\n",
    "ss4_atp_use.setSpeciesAmount('metabolite_atp',10)\n",
    "\n",
    "results2, _ = ss4_atp_use.simulateWithBioscrape(timepoints, sbml_warnings = False)\n",
    "\n",
    "# GET ATP species ID s\n",
    "ATP_id2 = ss4_atp_use.getSpeciesByName('metabolite_atp').getId()"
   ]
  },
  {
   "cell_type": "markdown",
   "metadata": {},
   "source": [
    "Plot!"
   ]
  },
  {
   "cell_type": "code",
   "execution_count": 45,
   "metadata": {},
   "outputs": [
    {
     "data": {
      "text/html": [
       "\n",
       "\n",
       "\n",
       "\n",
       "\n",
       "\n",
       "  <div class=\"bk-root\" id=\"cd5d907b-f08d-4193-b64c-c6d2b838d4a9\" data-root-id=\"7721\"></div>\n"
      ]
     },
     "metadata": {},
     "output_type": "display_data"
    },
    {
     "data": {
      "application/javascript": [
       "(function(root) {\n",
       "  function embed_document(root) {\n",
       "    \n",
       "  var docs_json = {\"769652fe-dd23-42f1-8751-64c4b370dc8b\":{\"roots\":{\"references\":[{\"attributes\":{\"children\":[{\"id\":\"7518\",\"subtype\":\"Figure\",\"type\":\"Plot\"},{\"id\":\"7613\",\"subtype\":\"Figure\",\"type\":\"Plot\"}]},\"id\":\"7721\",\"type\":\"Row\"},{\"attributes\":{\"source\":{\"id\":\"7552\",\"type\":\"ColumnDataSource\"}},\"id\":\"7556\",\"type\":\"CDSView\"},{\"attributes\":{\"line_alpha\":0.1,\"line_color\":\"#1f77b4\",\"line_width\":2,\"x\":{\"field\":\"x\"},\"y\":{\"field\":\"y\"}},\"id\":\"7554\",\"type\":\"Line\"},{\"attributes\":{\"axis_label\":\"time (min)\",\"formatter\":{\"id\":\"7558\",\"type\":\"BasicTickFormatter\"},\"ticker\":{\"id\":\"7530\",\"type\":\"BasicTicker\"}},\"id\":\"7529\",\"type\":\"LinearAxis\"},{\"attributes\":{\"overlay\":{\"id\":\"7562\",\"type\":\"BoxAnnotation\"}},\"id\":\"7541\",\"type\":\"BoxZoomTool\"},{\"attributes\":{},\"id\":\"7530\",\"type\":\"BasicTicker\"},{\"attributes\":{},\"id\":\"7591\",\"type\":\"Selection\"},{\"attributes\":{},\"id\":\"7542\",\"type\":\"SaveTool\"},{\"attributes\":{\"callback\":null},\"id\":\"7523\",\"type\":\"DataRange1d\"},{\"attributes\":{},\"id\":\"7942\",\"type\":\"Selection\"},{\"attributes\":{\"data_source\":{\"id\":\"7552\",\"type\":\"ColumnDataSource\"},\"glyph\":{\"id\":\"7553\",\"type\":\"Line\"},\"hover_glyph\":null,\"muted_glyph\":null,\"nonselection_glyph\":{\"id\":\"7554\",\"type\":\"Line\"},\"selection_glyph\":null,\"view\":{\"id\":\"7556\",\"type\":\"CDSView\"}},\"id\":\"7555\",\"type\":\"GlyphRenderer\"},{\"attributes\":{\"active_drag\":\"auto\",\"active_inspect\":\"auto\",\"active_multi\":null,\"active_scroll\":\"auto\",\"active_tap\":\"auto\",\"tools\":[{\"id\":\"7539\",\"type\":\"PanTool\"},{\"id\":\"7540\",\"type\":\"WheelZoomTool\"},{\"id\":\"7541\",\"type\":\"BoxZoomTool\"},{\"id\":\"7542\",\"type\":\"SaveTool\"},{\"id\":\"7543\",\"type\":\"ResetTool\"},{\"id\":\"7544\",\"type\":\"HelpTool\"}]},\"id\":\"7545\",\"type\":\"Toolbar\"},{\"attributes\":{\"axis_label\":\"concentration (nM)\",\"formatter\":{\"id\":\"7560\",\"type\":\"BasicTickFormatter\"},\"ticker\":{\"id\":\"7535\",\"type\":\"BasicTicker\"}},\"id\":\"7534\",\"type\":\"LinearAxis\"},{\"attributes\":{},\"id\":\"7543\",\"type\":\"ResetTool\"},{\"attributes\":{\"callback\":null},\"id\":\"7521\",\"type\":\"DataRange1d\"},{\"attributes\":{},\"id\":\"7540\",\"type\":\"WheelZoomTool\"},{\"attributes\":{\"ticker\":{\"id\":\"7530\",\"type\":\"BasicTicker\"}},\"id\":\"7533\",\"type\":\"Grid\"},{\"attributes\":{\"click_policy\":\"hide\",\"items\":[{\"id\":\"7564\",\"type\":\"LegendItem\"},{\"id\":\"7578\",\"type\":\"LegendItem\"},{\"id\":\"7594\",\"type\":\"LegendItem\"},{\"id\":\"7612\",\"type\":\"LegendItem\"}],\"location\":\"bottom_right\"},\"id\":\"7563\",\"type\":\"Legend\"},{\"attributes\":{},\"id\":\"7544\",\"type\":\"HelpTool\"},{\"attributes\":{},\"id\":\"7535\",\"type\":\"BasicTicker\"},{\"attributes\":{\"below\":[{\"id\":\"7529\",\"type\":\"LinearAxis\"}],\"center\":[{\"id\":\"7533\",\"type\":\"Grid\"},{\"id\":\"7538\",\"type\":\"Grid\"},{\"id\":\"7563\",\"type\":\"Legend\"}],\"left\":[{\"id\":\"7534\",\"type\":\"LinearAxis\"}],\"plot_height\":350,\"plot_width\":450,\"renderers\":[{\"id\":\"7555\",\"type\":\"GlyphRenderer\"},{\"id\":\"7568\",\"type\":\"GlyphRenderer\"},{\"id\":\"7582\",\"type\":\"GlyphRenderer\"},{\"id\":\"7598\",\"type\":\"GlyphRenderer\"}],\"title\":{\"id\":\"7519\",\"type\":\"Title\"},\"toolbar\":{\"id\":\"7545\",\"type\":\"Toolbar\"},\"x_range\":{\"id\":\"7521\",\"type\":\"DataRange1d\"},\"x_scale\":{\"id\":\"7525\",\"type\":\"LinearScale\"},\"y_range\":{\"id\":\"7523\",\"type\":\"DataRange1d\"},\"y_scale\":{\"id\":\"7527\",\"type\":\"LinearScale\"}},\"id\":\"7518\",\"subtype\":\"Figure\",\"type\":\"Plot\"},{\"attributes\":{\"line_alpha\":0.1,\"line_color\":\"#1f77b4\",\"line_width\":2,\"x\":{\"field\":\"x\"},\"y\":{\"field\":\"y\"}},\"id\":\"7649\",\"type\":\"Line\"},{\"attributes\":{\"text\":\"only ATP Use\"},\"id\":\"7614\",\"type\":\"Title\"},{\"attributes\":{},\"id\":\"7560\",\"type\":\"BasicTickFormatter\"},{\"attributes\":{\"callback\":null},\"id\":\"7616\",\"type\":\"DataRange1d\"},{\"attributes\":{},\"id\":\"7558\",\"type\":\"BasicTickFormatter\"},{\"attributes\":{\"text\":\"with ATP Synthase, ATP Use\"},\"id\":\"7519\",\"type\":\"Title\"},{\"attributes\":{},\"id\":\"7945\",\"type\":\"Selection\"},{\"attributes\":{},\"id\":\"7525\",\"type\":\"LinearScale\"},{\"attributes\":{},\"id\":\"7946\",\"type\":\"UnionRenderers\"},{\"attributes\":{\"callback\":null},\"id\":\"7618\",\"type\":\"DataRange1d\"},{\"attributes\":{\"bottom_units\":\"screen\",\"fill_alpha\":{\"value\":0.5},\"fill_color\":{\"value\":\"lightgrey\"},\"left_units\":\"screen\",\"level\":\"overlay\",\"line_alpha\":{\"value\":1.0},\"line_color\":{\"value\":\"black\"},\"line_dash\":[4,4],\"line_width\":{\"value\":2},\"render_mode\":\"css\",\"right_units\":\"screen\",\"top_units\":\"screen\"},\"id\":\"7562\",\"type\":\"BoxAnnotation\"},{\"attributes\":{},\"id\":\"7620\",\"type\":\"LinearScale\"},{\"attributes\":{},\"id\":\"7943\",\"type\":\"UnionRenderers\"},{\"attributes\":{},\"id\":\"7622\",\"type\":\"LinearScale\"},{\"attributes\":{\"label\":{\"value\":\"atp\"},\"renderers\":[{\"id\":\"7555\",\"type\":\"GlyphRenderer\"}]},\"id\":\"7564\",\"type\":\"LegendItem\"},{\"attributes\":{\"callback\":null,\"data\":{\"x\":{\"__ndarray__\":\"AAAAAAAAAADVyD/GikcVQNXIP8aKRyVAQK1fKVDrL0DVyD/Gikc1QAu7z3dtmTpAQK1fKVDrP0C7z3dtmZ5CQNXIP8aKR0VA8MEHH3zwR0ALu893bZlKQCW0l9BeQk1AQK1fKVDrT0At0xPBIEpRQLvPd22ZnlJASczbGRLzU0DVyD/GikdVQGLFo3IDnFZA8MEHH3zwV0B+vmvL9ERZQAu7z3dtmVpAl7czJObtW0AltJfQXkJdQLOw+3zXll5AQK1fKVDrX0Dm1OFq5J9gQC3TE8EgSmFAdNFFF130YUC7z3dtmZ5iQAHOqcPVSGNASczbGRLzY0CPyg1wTp1kQNXIP8aKR2VAHMdxHMfxZUBixaNyA5xmQKrD1cg/RmdA8MEHH3zwZ0A2wDl1uJpoQH6+a8v0RGlAxLydITHvaUALu893bZlqQFG5Ac6pQ2tAl7czJObta0DftWV6IphsQCW0l9BeQm1AbLLJJpvsbUCzsPt815ZuQPquLdMTQW9AQK1fKVDrb0DD1cg/xkpwQObU4Wrkn3BACtT6lQL1cEAt0xPBIEpxQFHSLOw+n3FAdNFFF130cUCX0F5Ce0lyQLvPd22ZnnJA3s6QmLfzckABzqnD1UhzQCTNwu7znXNASczbGRLzc0Bsy/REMEh0QI/KDXBOnXRAsskmm2zydEDVyD/Gikd1QPnHWPGonHVAHMdxHMfxdUA/xopH5UZ2QGLFo3IDnHZAhsS8nSHxdkCqw9XIP0Z3QM3C7vNdm3dA8MEHH3zwd0ATwSBKmkV4QDbAOXW4mnhAWr9SoNbveEB+vmvL9ER5QKG9hPYSmnlAxLydITHveUDnu7ZMT0R6QAu7z3dtmXpALrrooovuekBRuQHOqUN7QHS4GvnHmHtAl7czJObte0C8tkxPBEN8QN+1ZXoimHxAArV+pUDtfEAltJfQXkJ9QEmzsPt8l31AbLLJJpvsfUCPseJRuUF+QLOw+3zXln5A1q8UqPXrfkD6ri3TE0F/QB2uRv4xln9AQK1fKVDrf0AyVjwqNyCAQMPVyD/GSoBAVVVVVVV1gEA=\",\"dtype\":\"float64\",\"shape\":[100]},\"y\":{\"__ndarray__\":\"AAAAAAAAJECcyRRmM9LoPWhKgx+mPH+98MFuNaVoDz38Ridox+q/PILCCyd6Z9c8d5dXlsZPUD1wpW0+rwe7PRRkhQxnqiU9QKQhaVyJrzxQeFC+6G6QPZxx7DPgd549yPs2bCfaqb2vVRSC6C3TPOk1+16OO9e83Rs9TcT5BT2khbllTW4AveAPrgpxQMg8uH70lS6MRz1SXUhoqBRovbqmi2OSmWq94NPI29pTtj3ubrQ/ICqcPW4JTkabwp+9IkmYYqWapr3cL6Mogq6YvVGfQoXUScS9p5YtweJe4j1Qxrm14B6WvYwFrti+LsY9LP4TMgTewr3kDnYmozLJvTS9JNf0O3+9UD+n0tzygj2WyPQMlMlTvdAWO0cP9fE8GrlS6oPaDj1hXu+7c1YwvdBSTDFGdyg9yITr6VSXQz3oUgnhCllVPfhVwoGnbnq9rKYK05CGfz1WxTX0zqmNvViod/7Ei5E96KakHJT6nj0YbAjFQLKsvYjKkte518y9LHo2+0Ca1D1erSVY+9vLvSGlhnitxlK9JypZFAXuwLycMVtxbAJSvHxO9MvLGFk8JMSKTnQSczxmO2xn8miyvK7OGDbFOik8EZ2aRcgzhDzr4udNu2IxvFjQ11/lnmK8KHxe4/GKVjyIiLYToC5wvCS7iZFejZO8oZ1INQO9rjzQsNUco6eVvL3GOSCoYVi8HHiXrhuIQTzJeOX1nGQiPCJQBRul4hC8t6eK7VKb8ju3l4MQJurAu/2iL43sB3+77ZuooH6TALtg5aLIuv0yu9i11BQRTGA7cFpGyz2nfrvEwXkSY9iMOxBq0N0lJ6K7tLqgvGpStjtQUD3Lc3TJu/iNXxpWtOs7iDu+GV879btdd+bQCu4KvNevd82f6gc8+Kd5tTxd+rscXn785xfeO4xHwzm0DLw7rKeQNasT07tgBSoTjp7gO6zXcdR4PNA7bCf1H3Qq+LuMsxflcfMNPFgbjE9a5x28UIs+0IChJTxI4gPGgncuvBjohof+W1C82EfVNtxlaTywIFNxxrRzvBC8LRXG8me8NHE7E7S5njw=\",\"dtype\":\"float64\",\"shape\":[100]}},\"selected\":{\"id\":\"7575\",\"type\":\"Selection\"},\"selection_policy\":{\"id\":\"7576\",\"type\":\"UnionRenderers\"}},\"id\":\"7552\",\"type\":\"ColumnDataSource\"},{\"attributes\":{\"callback\":null,\"data\":{\"x\":{\"__ndarray__\":\"AAAAAAAAAADVyD/GikcVQNXIP8aKRyVAQK1fKVDrL0DVyD/Gikc1QAu7z3dtmTpAQK1fKVDrP0C7z3dtmZ5CQNXIP8aKR0VA8MEHH3zwR0ALu893bZlKQCW0l9BeQk1AQK1fKVDrT0At0xPBIEpRQLvPd22ZnlJASczbGRLzU0DVyD/GikdVQGLFo3IDnFZA8MEHH3zwV0B+vmvL9ERZQAu7z3dtmVpAl7czJObtW0AltJfQXkJdQLOw+3zXll5AQK1fKVDrX0Dm1OFq5J9gQC3TE8EgSmFAdNFFF130YUC7z3dtmZ5iQAHOqcPVSGNASczbGRLzY0CPyg1wTp1kQNXIP8aKR2VAHMdxHMfxZUBixaNyA5xmQKrD1cg/RmdA8MEHH3zwZ0A2wDl1uJpoQH6+a8v0RGlAxLydITHvaUALu893bZlqQFG5Ac6pQ2tAl7czJObta0DftWV6IphsQCW0l9BeQm1AbLLJJpvsbUCzsPt815ZuQPquLdMTQW9AQK1fKVDrb0DD1cg/xkpwQObU4Wrkn3BACtT6lQL1cEAt0xPBIEpxQFHSLOw+n3FAdNFFF130cUCX0F5Ce0lyQLvPd22ZnnJA3s6QmLfzckABzqnD1UhzQCTNwu7znXNASczbGRLzc0Bsy/REMEh0QI/KDXBOnXRAsskmm2zydEDVyD/Gikd1QPnHWPGonHVAHMdxHMfxdUA/xopH5UZ2QGLFo3IDnHZAhsS8nSHxdkCqw9XIP0Z3QM3C7vNdm3dA8MEHH3zwd0ATwSBKmkV4QDbAOXW4mnhAWr9SoNbveEB+vmvL9ER5QKG9hPYSmnlAxLydITHveUDnu7ZMT0R6QAu7z3dtmXpALrrooovuekBRuQHOqUN7QHS4GvnHmHtAl7czJObte0C8tkxPBEN8QN+1ZXoimHxAArV+pUDtfEAltJfQXkJ9QEmzsPt8l31AbLLJJpvsfUCPseJRuUF+QLOw+3zXln5A1q8UqPXrfkD6ri3TE0F/QB2uRv4xln9AQK1fKVDrf0AyVjwqNyCAQMPVyD/GSoBAVVVVVVV1gEA=\",\"dtype\":\"float64\",\"shape\":[100]},\"y\":{\"__ndarray__\":\"AAAAAAAAJEBdrEhyiUQ0vmD97aIY/1m9NB5meGUkZb3YJyQI5v70vB5KllSIpx69xwpRt2luxb2+CDYciqdAvj6FibYg2TM9gCyb/c3hCL2c2fNyFVr5vcaGSD4tEAW+vJORybJRFz7hfiXrxHDyPELoRLNHQem87uTrSp+TEz2E8qcdz1ECPfCrol8N84u9OD/T2P0Qyz2kIgJU8GPRPb4jtP5BUeI9Xop6zYJKLb7feo2yVWYovsxyEQdoGB++HgX1hFhLBz7JFaXlPQEkvkTHv42SQRg+RgII849uIr4olZ8qRJ7/PcpuQ/WEkPG9Aa8mXMY88z3cJ5EzoinzPZw0MguktfA9aJLo47YuAL7RnhzF47gIPbAMS5xyc0k9tiLOxGUPgT1Hc/UNmUp4PfD9jkHvOYy9KFnALvc9pb2IzViJaha/vbxwdPoAJ+E9bMtlrvpB4b2LaU4ofULuPST7dv6bcey9MD+tI4Za+72YWj2QobkKPpMeoZyrby4+lL7Yk+jQMr4AIAb7OLAoPrdAFwH0bDE9ROOUggi7lzyv7/7PMblQPKjYG/VXEzA8sMeyU9BjFzzfc8HlTgB3vDhmNLjocf27BgqwX0DmSTyZftvC6l0JPHyaed1Xjzc8hE0SJ9DxMrzYNbZ7tlFIPPS5A3XjH208bguUV0iAh7xuj8etjnxwPIBMDGc5lTU8FyTVCruxIrxcWjA89bJ7uylUWjvAD3U7g9H4XwTYZbunjVuMhy1LO80w28BNAhy79ZE+V7zwXzoQUCyeT5l0OlD8DKf29LY6Jw8mPDiI9LpwBPH6aWDYOojZzocNfxG7bAitQpOKHzssjL49WiM0u6+7w8kpTlU7FhRQrMrPYLsksQwEPv90u1pri5BfwHI7Vw6aMnzjZLsJsu/uPZdIO2CGZwk+NCQ7mM4Py9/ePrtUkRm5LiNJO2AjGdGxaDg7/l86d2u7Yru8U72aUmB3OxreeXJyZYe7yBJKgUb+kDv0LF4xEPmXu1jm/jaqp7m7oLKkTdwB1DsPdHBhJyvfu/AhUi6rt9K7YNDr6RNKCDw=\",\"dtype\":\"float64\",\"shape\":[100]}},\"selected\":{\"id\":\"7591\",\"type\":\"Selection\"},\"selection_policy\":{\"id\":\"7592\",\"type\":\"UnionRenderers\"}},\"id\":\"7565\",\"type\":\"ColumnDataSource\"},{\"attributes\":{\"axis_label\":\"time (sec)\",\"formatter\":{\"id\":\"7653\",\"type\":\"BasicTickFormatter\"},\"ticker\":{\"id\":\"7625\",\"type\":\"BasicTicker\"}},\"id\":\"7624\",\"type\":\"LinearAxis\"},{\"attributes\":{\"dimension\":1,\"ticker\":{\"id\":\"7630\",\"type\":\"BasicTicker\"}},\"id\":\"7633\",\"type\":\"Grid\"},{\"attributes\":{\"line_color\":\"#1f77b3\",\"line_width\":2,\"x\":{\"field\":\"x\"},\"y\":{\"field\":\"y\"}},\"id\":\"7553\",\"type\":\"Line\"},{\"attributes\":{\"line_color\":\"#ff7e0e\",\"line_width\":2,\"x\":{\"field\":\"x\"},\"y\":{\"field\":\"y\"}},\"id\":\"7566\",\"type\":\"Line\"},{\"attributes\":{},\"id\":\"7625\",\"type\":\"BasicTicker\"},{\"attributes\":{\"ticker\":{\"id\":\"7625\",\"type\":\"BasicTicker\"}},\"id\":\"7628\",\"type\":\"Grid\"},{\"attributes\":{\"line_alpha\":0.1,\"line_color\":\"#1f77b4\",\"line_width\":2,\"x\":{\"field\":\"x\"},\"y\":{\"field\":\"y\"}},\"id\":\"7567\",\"type\":\"Line\"},{\"attributes\":{},\"id\":\"7630\",\"type\":\"BasicTicker\"},{\"attributes\":{\"data_source\":{\"id\":\"7565\",\"type\":\"ColumnDataSource\"},\"glyph\":{\"id\":\"7566\",\"type\":\"Line\"},\"hover_glyph\":null,\"muted_glyph\":null,\"nonselection_glyph\":{\"id\":\"7567\",\"type\":\"Line\"},\"selection_glyph\":null,\"view\":{\"id\":\"7569\",\"type\":\"CDSView\"}},\"id\":\"7568\",\"type\":\"GlyphRenderer\"},{\"attributes\":{\"axis_label\":\"concentration (nM)\",\"formatter\":{\"id\":\"7655\",\"type\":\"BasicTickFormatter\"},\"ticker\":{\"id\":\"7630\",\"type\":\"BasicTicker\"}},\"id\":\"7629\",\"type\":\"LinearAxis\"},{\"attributes\":{\"callback\":null,\"data\":{\"x\":{\"__ndarray__\":\"AAAAAAAAAADVyD/GikcVQNXIP8aKRyVAQK1fKVDrL0DVyD/Gikc1QAu7z3dtmTpAQK1fKVDrP0C7z3dtmZ5CQNXIP8aKR0VA8MEHH3zwR0ALu893bZlKQCW0l9BeQk1AQK1fKVDrT0At0xPBIEpRQLvPd22ZnlJASczbGRLzU0DVyD/GikdVQGLFo3IDnFZA8MEHH3zwV0B+vmvL9ERZQAu7z3dtmVpAl7czJObtW0AltJfQXkJdQLOw+3zXll5AQK1fKVDrX0Dm1OFq5J9gQC3TE8EgSmFAdNFFF130YUC7z3dtmZ5iQAHOqcPVSGNASczbGRLzY0CPyg1wTp1kQNXIP8aKR2VAHMdxHMfxZUBixaNyA5xmQKrD1cg/RmdA8MEHH3zwZ0A2wDl1uJpoQH6+a8v0RGlAxLydITHvaUALu893bZlqQFG5Ac6pQ2tAl7czJObta0DftWV6IphsQCW0l9BeQm1AbLLJJpvsbUCzsPt815ZuQPquLdMTQW9AQK1fKVDrb0DD1cg/xkpwQObU4Wrkn3BACtT6lQL1cEAt0xPBIEpxQFHSLOw+n3FAdNFFF130cUCX0F5Ce0lyQLvPd22ZnnJA3s6QmLfzckABzqnD1UhzQCTNwu7znXNASczbGRLzc0Bsy/REMEh0QI/KDXBOnXRAsskmm2zydEDVyD/Gikd1QPnHWPGonHVAHMdxHMfxdUA/xopH5UZ2QGLFo3IDnHZAhsS8nSHxdkCqw9XIP0Z3QM3C7vNdm3dA8MEHH3zwd0ATwSBKmkV4QDbAOXW4mnhAWr9SoNbveEB+vmvL9ER5QKG9hPYSmnlAxLydITHveUDnu7ZMT0R6QAu7z3dtmXpALrrooovuekBRuQHOqUN7QHS4GvnHmHtAl7czJObte0C8tkxPBEN8QN+1ZXoimHxAArV+pUDtfEAltJfQXkJ9QEmzsPt8l31AbLLJJpvsfUCPseJRuUF+QLOw+3zXln5A1q8UqPXrfkD6ri3TE0F/QB2uRv4xln9AQK1fKVDrf0AyVjwqNyCAQMPVyD/GSoBAVVVVVVV1gEA=\",\"dtype\":\"float64\",\"shape\":[100]},\"y\":{\"__ndarray__\":\"AAAAAAAAAAAmiSgAAAAkQOIAAAAAACRAYQEAAAAAJEAQAAAAAAAkQBwAAAAAACRAxVUAAAAAJEA0nkIAAAAkQOP//////yNAEgAAAAAAJEBMKwMAAAAkQBNEBQAAACRALVf0////I0AGAAAAAAAkQAsAAAAAACRA////////I0AFAAAAAAAkQAcHAAAAACRAxpP/////I0DpdP////8jQPfa/v///yNAjkodAAAAJEBgZhgAAAAkQD6MDwAAACRAMy36////I0BHARQAAAAkQEDf8////yNAmW4SAAAAJEBADPz///8jQBoyAgAAACRAb5j9////I0DTmv3///8jQFPp/f///yNAtQsEAAAAJEACAAAAAAAkQKD//////yNAwvv/////I0D8/P////8jQBMHAAAAACRAQhUAAAAAJEAxPgAAAAAkQJXt/v///yNAJRQBAAAAJEDeG/7///8jQB/HAQAAACRAVmsDAAAAJECeUfn///8jQFqQ4f///yNA1qElAAAAJEDNT+f///8jQOL//////yNABAAAAAAAJEAEAAAAAAAkQAQAAAAAACRABAAAAAAAJEAEAAAAAAAkQAQAAAAAACRABAAAAAAAJEAEAAAAAAAkQAQAAAAAACRABAAAAAAAJEAEAAAAAAAkQAQAAAAAACRABAAAAAAAJEAEAAAAAAAkQAQAAAAAACRABAAAAAAAJEAEAAAAAAAkQAQAAAAAACRABAAAAAAAJEAEAAAAAAAkQAQAAAAAACRABAAAAAAAJEAEAAAAAAAkQAQAAAAAACRABAAAAAAAJEAEAAAAAAAkQAQAAAAAACRABAAAAAAAJEAEAAAAAAAkQAQAAAAAACRABAAAAAAAJEAEAAAAAAAkQAQAAAAAACRABAAAAAAAJEAEAAAAAAAkQAQAAAAAACRABAAAAAAAJEAEAAAAAAAkQAQAAAAAACRABAAAAAAAJEAEAAAAAAAkQAQAAAAAACRABAAAAAAAJEAEAAAAAAAkQAQAAAAAACRABAAAAAAAJEAEAAAAAAAkQAQAAAAAACRABAAAAAAAJEA=\",\"dtype\":\"float64\",\"shape\":[100]}},\"selected\":{\"id\":\"7609\",\"type\":\"Selection\"},\"selection_policy\":{\"id\":\"7610\",\"type\":\"UnionRenderers\"}},\"id\":\"7579\",\"type\":\"ColumnDataSource\"},{\"attributes\":{\"line_color\":\"#1f77b3\",\"line_width\":2,\"x\":{\"field\":\"x\"},\"y\":{\"field\":\"y\"}},\"id\":\"7648\",\"type\":\"Line\"},{\"attributes\":{\"source\":{\"id\":\"7565\",\"type\":\"ColumnDataSource\"}},\"id\":\"7569\",\"type\":\"CDSView\"},{\"attributes\":{\"callback\":null,\"data\":{\"x\":{\"__ndarray__\":\"AAAAAAAAAADVyD/GikcVQNXIP8aKRyVAQK1fKVDrL0DVyD/Gikc1QAu7z3dtmTpAQK1fKVDrP0C7z3dtmZ5CQNXIP8aKR0VA8MEHH3zwR0ALu893bZlKQCW0l9BeQk1AQK1fKVDrT0At0xPBIEpRQLvPd22ZnlJASczbGRLzU0DVyD/GikdVQGLFo3IDnFZA8MEHH3zwV0B+vmvL9ERZQAu7z3dtmVpAl7czJObtW0AltJfQXkJdQLOw+3zXll5AQK1fKVDrX0Dm1OFq5J9gQC3TE8EgSmFAdNFFF130YUC7z3dtmZ5iQAHOqcPVSGNASczbGRLzY0CPyg1wTp1kQNXIP8aKR2VAHMdxHMfxZUBixaNyA5xmQKrD1cg/RmdA8MEHH3zwZ0A2wDl1uJpoQH6+a8v0RGlAxLydITHvaUALu893bZlqQFG5Ac6pQ2tAl7czJObta0DftWV6IphsQCW0l9BeQm1AbLLJJpvsbUCzsPt815ZuQPquLdMTQW9AQK1fKVDrb0DD1cg/xkpwQObU4Wrkn3BACtT6lQL1cEAt0xPBIEpxQFHSLOw+n3FAdNFFF130cUCX0F5Ce0lyQLvPd22ZnnJA3s6QmLfzckABzqnD1UhzQCTNwu7znXNASczbGRLzc0Bsy/REMEh0QI/KDXBOnXRAsskmm2zydEDVyD/Gikd1QPnHWPGonHVAHMdxHMfxdUA/xopH5UZ2QGLFo3IDnHZAhsS8nSHxdkCqw9XIP0Z3QM3C7vNdm3dA8MEHH3zwd0ATwSBKmkV4QDbAOXW4mnhAWr9SoNbveEB+vmvL9ER5QKG9hPYSmnlAxLydITHveUDnu7ZMT0R6QAu7z3dtmXpALrrooovuekBRuQHOqUN7QHS4GvnHmHtAl7czJObte0C8tkxPBEN8QN+1ZXoimHxAArV+pUDtfEAltJfQXkJ9QEmzsPt8l31AbLLJJpvsfUCPseJRuUF+QLOw+3zXln5A1q8UqPXrfkD6ri3TE0F/QB2uRv4xln9AQK1fKVDrf0AyVjwqNyCAQMPVyD/GSoBAVVVVVVV1gEA=\",\"dtype\":\"float64\",\"shape\":[100]},\"y\":{\"__ndarray__\":\"AAAAAAAAJEBxWthsUScAvGv5U1eTFOq7+ay/AKx/RLujyo0Qzd0yu87Vwpc0dIu6vSK8husuirqsb7V1oumIup28rmRZpIe6jQmoUxBfhrp9VqFCxxmFumyjmjF+1IO6XPCTIDWPgrpNPY0P7EmBujyKhv6iBIC6WK7/2rN+fbo4SPK4IfR6uhji5JaPaXi6+HvXdP3edbrWFcpSa1RzurevvDDZyXC6L5NeHY5+bLruxkPZaWlnuqv6KJVFVGK62lwcokJ+WrpexOYZ+lNQuoOvxEbGpji6O6XD3KLItznW2YRnrau2OXEORvK3jrU5CkMHfcJxtDmld8gHzVSzOUCsiZLXN7I52+BKHeIasTnsKhhQ2fuvOR6UmmXuwa05VP0cewOIqzmKZp+QGE6pOb3PIaYtFKc58jiku0LapDkooibRV6CiOV4LqeZsZqA5KelW+ANZnDmOu1sjLuWXOfqNYE5YcZM5y8DK8gT7jTmVZdRIWROFOdkUvD1bV3g5IXo9pw8gWjl4tzsviHnZOGB9qgB4W9k4SEMZ0mc92TgvCYijVx/ZOBbP9nRHAdk4/pRlRjfj2DjmWtQXJ8XYOMwgQ+kWp9g4tOaxugaJ2DicrCCM9mrYOIJyj13mTNg4ajj+LtYu2DhR/mwAxhDYODnE29G18tc4IIpKo6XU1zgIULl0lbbXOO8VKEaFmNc41tuWF3V61zi+oQXpZFzXOKZndLpUPtc4jC3ji0Qg1zhz81FdNALXOFu5wC4k5NY4Q38vABTG1jgqRZ7RA6jWOBELDaPzidY4+dB7dONr1jjglupF003WOMdcWRfDL9Y4ryLI6LIR1jiX6Da6ovPVOH6upYuS1dU4ZHQUXYK31ThNOoMucpnVODUA8v9he9U4HMZg0VFd1TgCjM+iQT/VOOpRPnQxIdU40RetRSED1Ti53RsXEeXUOKCjiugAx9Q4iGn5ufCo1DhvL2iL4IrUOFb11lzQbNQ4PrtFLsBO1DglgbT/rzDUOAxHI9GfEtQ49AySoo/00zjb0gB0f9bTOMOYb0VvuNM4ql7eFl+a0zg=\",\"dtype\":\"float64\",\"shape\":[100]}},\"selected\":{\"id\":\"7945\",\"type\":\"Selection\"},\"selection_policy\":{\"id\":\"7946\",\"type\":\"UnionRenderers\"}},\"id\":\"7647\",\"type\":\"ColumnDataSource\"},{\"attributes\":{},\"id\":\"7575\",\"type\":\"Selection\"},{\"attributes\":{\"label\":{\"value\":\"outside_H\"},\"renderers\":[{\"id\":\"7568\",\"type\":\"GlyphRenderer\"}]},\"id\":\"7578\",\"type\":\"LegendItem\"},{\"attributes\":{\"active_drag\":\"auto\",\"active_inspect\":\"auto\",\"active_multi\":null,\"active_scroll\":\"auto\",\"active_tap\":\"auto\",\"tools\":[{\"id\":\"7634\",\"type\":\"PanTool\"},{\"id\":\"7635\",\"type\":\"WheelZoomTool\"},{\"id\":\"7636\",\"type\":\"BoxZoomTool\"},{\"id\":\"7637\",\"type\":\"SaveTool\"},{\"id\":\"7638\",\"type\":\"ResetTool\"},{\"id\":\"7639\",\"type\":\"HelpTool\"}]},\"id\":\"7640\",\"type\":\"Toolbar\"},{\"attributes\":{},\"id\":\"7576\",\"type\":\"UnionRenderers\"},{\"attributes\":{\"data_source\":{\"id\":\"7647\",\"type\":\"ColumnDataSource\"},\"glyph\":{\"id\":\"7648\",\"type\":\"Line\"},\"hover_glyph\":null,\"muted_glyph\":null,\"nonselection_glyph\":{\"id\":\"7649\",\"type\":\"Line\"},\"selection_glyph\":null,\"view\":{\"id\":\"7651\",\"type\":\"CDSView\"}},\"id\":\"7650\",\"type\":\"GlyphRenderer\"},{\"attributes\":{},\"id\":\"7634\",\"type\":\"PanTool\"},{\"attributes\":{\"below\":[{\"id\":\"7624\",\"type\":\"LinearAxis\"}],\"center\":[{\"id\":\"7628\",\"type\":\"Grid\"},{\"id\":\"7633\",\"type\":\"Grid\"},{\"id\":\"7658\",\"type\":\"Legend\"}],\"left\":[{\"id\":\"7629\",\"type\":\"LinearAxis\"}],\"plot_height\":350,\"plot_width\":450,\"renderers\":[{\"id\":\"7650\",\"type\":\"GlyphRenderer\"}],\"title\":{\"id\":\"7614\",\"type\":\"Title\"},\"toolbar\":{\"id\":\"7640\",\"type\":\"Toolbar\"},\"x_range\":{\"id\":\"7616\",\"type\":\"DataRange1d\"},\"x_scale\":{\"id\":\"7620\",\"type\":\"LinearScale\"},\"y_range\":{\"id\":\"7618\",\"type\":\"DataRange1d\"},\"y_scale\":{\"id\":\"7622\",\"type\":\"LinearScale\"}},\"id\":\"7613\",\"subtype\":\"Figure\",\"type\":\"Plot\"},{\"attributes\":{\"line_color\":\"#2ba02b\",\"line_width\":2,\"x\":{\"field\":\"x\"},\"y\":{\"field\":\"y\"}},\"id\":\"7580\",\"type\":\"Line\"},{\"attributes\":{},\"id\":\"7635\",\"type\":\"WheelZoomTool\"},{\"attributes\":{\"overlay\":{\"id\":\"7657\",\"type\":\"BoxAnnotation\"}},\"id\":\"7636\",\"type\":\"BoxZoomTool\"},{\"attributes\":{\"line_alpha\":0.1,\"line_color\":\"#1f77b4\",\"line_width\":2,\"x\":{\"field\":\"x\"},\"y\":{\"field\":\"y\"}},\"id\":\"7581\",\"type\":\"Line\"},{\"attributes\":{},\"id\":\"7637\",\"type\":\"SaveTool\"},{\"attributes\":{\"data_source\":{\"id\":\"7579\",\"type\":\"ColumnDataSource\"},\"glyph\":{\"id\":\"7580\",\"type\":\"Line\"},\"hover_glyph\":null,\"muted_glyph\":null,\"nonselection_glyph\":{\"id\":\"7581\",\"type\":\"Line\"},\"selection_glyph\":null,\"view\":{\"id\":\"7583\",\"type\":\"CDSView\"}},\"id\":\"7582\",\"type\":\"GlyphRenderer\"},{\"attributes\":{\"callback\":null,\"data\":{\"x\":{\"__ndarray__\":\"AAAAAAAAAADVyD/GikcVQNXIP8aKRyVAQK1fKVDrL0DVyD/Gikc1QAu7z3dtmTpAQK1fKVDrP0C7z3dtmZ5CQNXIP8aKR0VA8MEHH3zwR0ALu893bZlKQCW0l9BeQk1AQK1fKVDrT0At0xPBIEpRQLvPd22ZnlJASczbGRLzU0DVyD/GikdVQGLFo3IDnFZA8MEHH3zwV0B+vmvL9ERZQAu7z3dtmVpAl7czJObtW0AltJfQXkJdQLOw+3zXll5AQK1fKVDrX0Dm1OFq5J9gQC3TE8EgSmFAdNFFF130YUC7z3dtmZ5iQAHOqcPVSGNASczbGRLzY0CPyg1wTp1kQNXIP8aKR2VAHMdxHMfxZUBixaNyA5xmQKrD1cg/RmdA8MEHH3zwZ0A2wDl1uJpoQH6+a8v0RGlAxLydITHvaUALu893bZlqQFG5Ac6pQ2tAl7czJObta0DftWV6IphsQCW0l9BeQm1AbLLJJpvsbUCzsPt815ZuQPquLdMTQW9AQK1fKVDrb0DD1cg/xkpwQObU4Wrkn3BACtT6lQL1cEAt0xPBIEpxQFHSLOw+n3FAdNFFF130cUCX0F5Ce0lyQLvPd22ZnnJA3s6QmLfzckABzqnD1UhzQCTNwu7znXNASczbGRLzc0Bsy/REMEh0QI/KDXBOnXRAsskmm2zydEDVyD/Gikd1QPnHWPGonHVAHMdxHMfxdUA/xopH5UZ2QGLFo3IDnHZAhsS8nSHxdkCqw9XIP0Z3QM3C7vNdm3dA8MEHH3zwd0ATwSBKmkV4QDbAOXW4mnhAWr9SoNbveEB+vmvL9ER5QKG9hPYSmnlAxLydITHveUDnu7ZMT0R6QAu7z3dtmXpALrrooovuekBRuQHOqUN7QHS4GvnHmHtAl7czJObte0C8tkxPBEN8QN+1ZXoimHxAArV+pUDtfEAltJfQXkJ9QEmzsPt8l31AbLLJJpvsfUCPseJRuUF+QLOw+3zXln5A1q8UqPXrfkD6ri3TE0F/QB2uRv4xln9AQK1fKVDrf0AyVjwqNyCAQMPVyD/GSoBAVVVVVVV1gEA=\",\"dtype\":\"float64\",\"shape\":[100]},\"y\":{\"__ndarray__\":\"AAAAAAAAAABMd40JSg/zP2G6Fv/kHgdAWOxmftTREUAmPoVVF4IXQM3nZ5NfrRxAfa8w1+ivIED8uSQ2O9IiQGZQZlCqwiRAD3e+XcSFJkAhwlgXrR8oQJSBdnEnlClAMcKPcZ7mKkBstNY1LRosQGluSUGmMS1AapK1HJovLkCe41BdXRYvQDpnER4O6C9AC1OefExTMEBDVc3G3qkwQDpHA02J+DBAMcF03ARAMUAsnkZi+YAxQIwWB3b/uzFAZqwlwKHxMUD0nas/XiIyQDm7R3KnTjJAkvMzYeV2MkDMOqKVdpsyQHp70fawvDJAivnZk+LaMkAsxgxbUvYyQLEYn8BADzNANLX8VeglM0BEO4RTfjozQBsKWxUzTTNAwihejTJeM0A97BaqpG0zQN0OCrStezNAH9fPo26IM0DvdA1wBZQzQFRw3FGNnjNA9XWBBh+oM0DnutYI0bAzQOM5Ica3uDNAOKIwzuW/M0CTauH+a8YzQA0z2KtZzDNACQ5qwrzRM0CBbUrqodYzQA2DSqMU2zNABHK6YB/fM0DZTi2hy+IzQDJcmQUi5jNA8SgNZSrpM0DyShHf6+szQOo7dO1s7jNATV4IcrPwM0Dr4SHFxPIzQOkrVsKl9DNAVgaJ01r2M0An2Xn75/czQN2kLN9Q+TNAjjxqzpj6M0ARQpDLwvszQH1wq5LR/DNAszPcn8f9M0AYUyg1p/4zQAmDyl9y/zNA7Y0J/SoANEBqFJi+0gA0QCNWjS5rATRAzUADs/UBNECJiV+RcwI0QBN+UPHlAjRAHy6H300DNEDZfC1QrAM0QAdYICECBDRAHl74G1AENEC54+T3lgQ0QPPWWFvXBDRAi6eX3REFNED7CRgIRwU0QAAQwVd3BTRAwz4PPqMFNEBtGCIiywU0QCVArmHvBTRAGpraURAGNEAZjwdALgY0QCBkh3JJBjRAEHRAKWIGNEC7RkCeeAY0QF54RwaNBjRA2I5FkZ8GNEDWs8ZqsAY0QFQGZLq/BjRAV4EVpM0GNEBGVYlI2gY0QEW1dMXlBjRAqZzUNfAGNEA=\",\"dtype\":\"float64\",\"shape\":[100]}},\"selected\":{\"id\":\"7942\",\"type\":\"Selection\"},\"selection_policy\":{\"id\":\"7943\",\"type\":\"UnionRenderers\"}},\"id\":\"7595\",\"type\":\"ColumnDataSource\"},{\"attributes\":{},\"id\":\"7638\",\"type\":\"ResetTool\"},{\"attributes\":{\"source\":{\"id\":\"7579\",\"type\":\"ColumnDataSource\"}},\"id\":\"7583\",\"type\":\"CDSView\"},{\"attributes\":{},\"id\":\"7639\",\"type\":\"HelpTool\"},{\"attributes\":{},\"id\":\"7592\",\"type\":\"UnionRenderers\"},{\"attributes\":{\"label\":{\"value\":\"inside_H\"},\"renderers\":[{\"id\":\"7582\",\"type\":\"GlyphRenderer\"}]},\"id\":\"7594\",\"type\":\"LegendItem\"},{\"attributes\":{\"source\":{\"id\":\"7647\",\"type\":\"ColumnDataSource\"}},\"id\":\"7651\",\"type\":\"CDSView\"},{\"attributes\":{},\"id\":\"7539\",\"type\":\"PanTool\"},{\"attributes\":{},\"id\":\"7653\",\"type\":\"BasicTickFormatter\"},{\"attributes\":{\"line_color\":\"#9367bc\",\"line_width\":2,\"x\":{\"field\":\"x\"},\"y\":{\"field\":\"y\"}},\"id\":\"7596\",\"type\":\"Line\"},{\"attributes\":{},\"id\":\"7655\",\"type\":\"BasicTickFormatter\"},{\"attributes\":{\"line_alpha\":0.1,\"line_color\":\"#1f77b4\",\"line_width\":2,\"x\":{\"field\":\"x\"},\"y\":{\"field\":\"y\"}},\"id\":\"7597\",\"type\":\"Line\"},{\"attributes\":{},\"id\":\"7527\",\"type\":\"LinearScale\"},{\"attributes\":{\"items\":[{\"id\":\"7659\",\"type\":\"LegendItem\"}]},\"id\":\"7658\",\"type\":\"Legend\"},{\"attributes\":{\"data_source\":{\"id\":\"7595\",\"type\":\"ColumnDataSource\"},\"glyph\":{\"id\":\"7596\",\"type\":\"Line\"},\"hover_glyph\":null,\"muted_glyph\":null,\"nonselection_glyph\":{\"id\":\"7597\",\"type\":\"Line\"},\"selection_glyph\":null,\"view\":{\"id\":\"7599\",\"type\":\"CDSView\"}},\"id\":\"7598\",\"type\":\"GlyphRenderer\"},{\"attributes\":{\"dimension\":1,\"ticker\":{\"id\":\"7535\",\"type\":\"BasicTicker\"}},\"id\":\"7538\",\"type\":\"Grid\"},{\"attributes\":{\"bottom_units\":\"screen\",\"fill_alpha\":{\"value\":0.5},\"fill_color\":{\"value\":\"lightgrey\"},\"left_units\":\"screen\",\"level\":\"overlay\",\"line_alpha\":{\"value\":1.0},\"line_color\":{\"value\":\"black\"},\"line_dash\":[4,4],\"line_width\":{\"value\":2},\"render_mode\":\"css\",\"right_units\":\"screen\",\"top_units\":\"screen\"},\"id\":\"7657\",\"type\":\"BoxAnnotation\"},{\"attributes\":{\"source\":{\"id\":\"7595\",\"type\":\"ColumnDataSource\"}},\"id\":\"7599\",\"type\":\"CDSView\"},{\"attributes\":{},\"id\":\"7609\",\"type\":\"Selection\"},{\"attributes\":{\"label\":{\"value\":\"atp\"},\"renderers\":[{\"id\":\"7650\",\"type\":\"GlyphRenderer\"}]},\"id\":\"7659\",\"type\":\"LegendItem\"},{\"attributes\":{\"label\":{\"value\":\"bound atp synthase\"},\"renderers\":[{\"id\":\"7598\",\"type\":\"GlyphRenderer\"}]},\"id\":\"7612\",\"type\":\"LegendItem\"},{\"attributes\":{},\"id\":\"7610\",\"type\":\"UnionRenderers\"}],\"root_ids\":[\"7721\"]},\"title\":\"Bokeh Application\",\"version\":\"1.4.0\"}};\n",
       "  var render_items = [{\"docid\":\"769652fe-dd23-42f1-8751-64c4b370dc8b\",\"roots\":{\"7721\":\"cd5d907b-f08d-4193-b64c-c6d2b838d4a9\"}}];\n",
       "  root.Bokeh.embed.embed_items_notebook(docs_json, render_items);\n",
       "\n",
       "  }\n",
       "  if (root.Bokeh !== undefined) {\n",
       "    embed_document(root);\n",
       "  } else {\n",
       "    var attempts = 0;\n",
       "    var timer = setInterval(function(root) {\n",
       "      if (root.Bokeh !== undefined) {\n",
       "        clearInterval(timer);\n",
       "        embed_document(root);\n",
       "      } else {\n",
       "        attempts++;\n",
       "        if (attempts > 100) {\n",
       "          clearInterval(timer);\n",
       "          console.log(\"Bokeh: ERROR: Unable to run BokehJS code because BokehJS library is missing\");\n",
       "        }\n",
       "      }\n",
       "    }, 10, root)\n",
       "  }\n",
       "})(window);"
      ],
      "application/vnd.bokehjs_exec.v0+json": ""
     },
     "metadata": {
      "application/vnd.bokehjs_exec.v0+json": {
       "id": "7721"
      }
     },
     "output_type": "display_data"
    },
    {
     "data": {
      "text/html": [
       "\n",
       "\n",
       "\n",
       "\n",
       "\n",
       "\n",
       "  <div class=\"bk-root\" id=\"afb650a1-4277-4042-adf4-aaef18f0987e\" data-root-id=\"7660\"></div>\n"
      ]
     },
     "metadata": {},
     "output_type": "display_data"
    },
    {
     "data": {
      "application/javascript": [
       "(function(root) {\n",
       "  function embed_document(root) {\n",
       "    \n",
       "  var docs_json = {\"141315bd-41d2-4a67-a751-b8b6eb444a62\":{\"roots\":{\"references\":[{\"attributes\":{\"below\":[{\"id\":\"7671\",\"type\":\"LinearAxis\"}],\"center\":[{\"id\":\"7675\",\"type\":\"Grid\"},{\"id\":\"7680\",\"type\":\"Grid\"},{\"id\":\"7705\",\"type\":\"Legend\"}],\"left\":[{\"id\":\"7676\",\"type\":\"LinearAxis\"}],\"plot_height\":350,\"plot_width\":450,\"renderers\":[{\"id\":\"7697\",\"type\":\"GlyphRenderer\"},{\"id\":\"7710\",\"type\":\"GlyphRenderer\"}],\"title\":{\"id\":\"7661\",\"type\":\"Title\"},\"toolbar\":{\"id\":\"7687\",\"type\":\"Toolbar\"},\"x_range\":{\"id\":\"7663\",\"type\":\"DataRange1d\"},\"x_scale\":{\"id\":\"7667\",\"type\":\"LinearScale\"},\"y_range\":{\"id\":\"7665\",\"type\":\"DataRange1d\"},\"y_scale\":{\"id\":\"7669\",\"type\":\"LinearScale\"}},\"id\":\"7660\",\"subtype\":\"Figure\",\"type\":\"Plot\"},{\"attributes\":{},\"id\":\"7682\",\"type\":\"WheelZoomTool\"},{\"attributes\":{},\"id\":\"8314\",\"type\":\"UnionRenderers\"},{\"attributes\":{},\"id\":\"7717\",\"type\":\"Selection\"},{\"attributes\":{\"callback\":null},\"id\":\"7663\",\"type\":\"DataRange1d\"},{\"attributes\":{\"source\":{\"id\":\"7707\",\"type\":\"ColumnDataSource\"}},\"id\":\"7711\",\"type\":\"CDSView\"},{\"attributes\":{\"overlay\":{\"id\":\"7704\",\"type\":\"BoxAnnotation\"}},\"id\":\"7683\",\"type\":\"BoxZoomTool\"},{\"attributes\":{},\"id\":\"8313\",\"type\":\"Selection\"},{\"attributes\":{},\"id\":\"7718\",\"type\":\"UnionRenderers\"},{\"attributes\":{},\"id\":\"7684\",\"type\":\"SaveTool\"},{\"attributes\":{},\"id\":\"7685\",\"type\":\"ResetTool\"},{\"attributes\":{\"callback\":null},\"id\":\"7665\",\"type\":\"DataRange1d\"},{\"attributes\":{},\"id\":\"7686\",\"type\":\"HelpTool\"},{\"attributes\":{},\"id\":\"7667\",\"type\":\"LinearScale\"},{\"attributes\":{},\"id\":\"7669\",\"type\":\"LinearScale\"},{\"attributes\":{\"items\":[{\"id\":\"7706\",\"type\":\"LegendItem\"},{\"id\":\"7720\",\"type\":\"LegendItem\"}]},\"id\":\"7705\",\"type\":\"Legend\"},{\"attributes\":{\"axis_label\":\"time (sec)\",\"formatter\":{\"id\":\"7700\",\"type\":\"BasicTickFormatter\"},\"ticker\":{\"id\":\"7672\",\"type\":\"BasicTicker\"}},\"id\":\"7671\",\"type\":\"LinearAxis\"},{\"attributes\":{\"dimension\":1,\"ticker\":{\"id\":\"7677\",\"type\":\"BasicTicker\"}},\"id\":\"7680\",\"type\":\"Grid\"},{\"attributes\":{},\"id\":\"7672\",\"type\":\"BasicTicker\"},{\"attributes\":{\"ticker\":{\"id\":\"7672\",\"type\":\"BasicTicker\"}},\"id\":\"7675\",\"type\":\"Grid\"},{\"attributes\":{},\"id\":\"7702\",\"type\":\"BasicTickFormatter\"},{\"attributes\":{},\"id\":\"7700\",\"type\":\"BasicTickFormatter\"},{\"attributes\":{},\"id\":\"7681\",\"type\":\"PanTool\"},{\"attributes\":{},\"id\":\"7677\",\"type\":\"BasicTicker\"},{\"attributes\":{\"bottom_units\":\"screen\",\"fill_alpha\":{\"value\":0.5},\"fill_color\":{\"value\":\"lightgrey\"},\"left_units\":\"screen\",\"level\":\"overlay\",\"line_alpha\":{\"value\":1.0},\"line_color\":{\"value\":\"black\"},\"line_dash\":[4,4],\"line_width\":{\"value\":2},\"render_mode\":\"css\",\"right_units\":\"screen\",\"top_units\":\"screen\"},\"id\":\"7704\",\"type\":\"BoxAnnotation\"},{\"attributes\":{\"axis_label\":\"concentration (nM)\",\"formatter\":{\"id\":\"7702\",\"type\":\"BasicTickFormatter\"},\"ticker\":{\"id\":\"7677\",\"type\":\"BasicTicker\"}},\"id\":\"7676\",\"type\":\"LinearAxis\"},{\"attributes\":{\"data_source\":{\"id\":\"7694\",\"type\":\"ColumnDataSource\"},\"glyph\":{\"id\":\"7695\",\"type\":\"Line\"},\"hover_glyph\":null,\"muted_glyph\":null,\"nonselection_glyph\":{\"id\":\"7696\",\"type\":\"Line\"},\"selection_glyph\":null,\"view\":{\"id\":\"7698\",\"type\":\"CDSView\"}},\"id\":\"7697\",\"type\":\"GlyphRenderer\"},{\"attributes\":{\"label\":{\"value\":\"ATP Synthase, ATP Use\"},\"renderers\":[{\"id\":\"7697\",\"type\":\"GlyphRenderer\"}]},\"id\":\"7706\",\"type\":\"LegendItem\"},{\"attributes\":{\"line_alpha\":0.1,\"line_color\":\"#1f77b4\",\"line_width\":2,\"x\":{\"field\":\"x\"},\"y\":{\"field\":\"y\"}},\"id\":\"7696\",\"type\":\"Line\"},{\"attributes\":{\"label\":{\"value\":\"ATP Use\"},\"renderers\":[{\"id\":\"7710\",\"type\":\"GlyphRenderer\"}]},\"id\":\"7720\",\"type\":\"LegendItem\"},{\"attributes\":{\"data_source\":{\"id\":\"7707\",\"type\":\"ColumnDataSource\"},\"glyph\":{\"id\":\"7708\",\"type\":\"Line\"},\"hover_glyph\":null,\"muted_glyph\":null,\"nonselection_glyph\":{\"id\":\"7709\",\"type\":\"Line\"},\"selection_glyph\":null,\"view\":{\"id\":\"7711\",\"type\":\"CDSView\"}},\"id\":\"7710\",\"type\":\"GlyphRenderer\"},{\"attributes\":{\"callback\":null,\"data\":{\"x\":{\"__ndarray__\":\"AAAAAAAAAABIzNsZEvNzQEjM2xkS84NAbLLJJpvsjUBIzNsZEvOTQFq/UqDW75hAbLLJJpvsnUC/UqDWr3ShQEjM2xkS86NA0UUXXXRxpkBav1Kg1u+oQOM4juM4bqtAbLLJJpvsrUD6lQK1fjWwQL9SoNavdLFAhA8++OCzskBIzNsZEvOzQAyJeTtDMrVA0UUXXXRxtkCWArV+pbC3QFq/UqDW77hAHnzwwQcvukDjOI7jOG67QKj1KwVqrbxAbLLJJpvsvUAwb2dIzCu/QPqVArV+NcBAXXTRRRfVwEC/UqDWr3TBQCExb2dIFMJAhA8++OCzwkDm7QyJeVPDQEjM2xkS88NAqqqqqqqSxEAMiXk7QzLFQG9nSMzb0cVA0UUXXXRxxkAzJObtDBHHQJYCtX6lsMdA+OCDDz5QyEBav1Kg1u/IQLydITFvj8lAHnzwwQcvykCBWr9SoM7KQOM4juM4bstARRdddNENzECo9SsFaq3MQArU+pUCTc1AbLLJJpvszUDOkJi3M4zOQDBvZ0jMK89Ak0022WTLz0D6lQK1fjXQQCwFav1KhdBAXXTRRRfV0ECO4ziO4yTRQL9SoNavdNFA8MEHH3zE0UAhMW9nSBTSQFKg1q8UZNJAhA8++OCz0kC1fqVArQPTQObtDIl5U9NAF1100UWj00BIzNsZEvPTQHk7Q2LeQtRAqqqqqqqS1EDbGRLzduLUQAyJeTtDMtVAPvjggw+C1UBvZ0jM29HVQKDWrxSoIdZA0UUXXXRx1kACtX6lQMHWQDMk5u0MEddAZJNNNtlg10CWArV+pbDXQMdxHMdxANhA+OCDDz5Q2EApUOtXCqDYQFq/UqDW79hAiy666KI/2UC8nSExb4/ZQO0MiXk739lAHnzwwQcv2kBQ61cK1H7aQIFav1KgztpAsskmm2we20DjOI7jOG7bQBSo9SsFvttARRdddNEN3EB2hsS8nV3cQKj1KwVqrdxA2WSTTTb93EAK1PqVAk3dQDtDYt7OnN1AbLLJJpvs3UCdITFvZzzeQM6QmLczjN5AAAAAAADc3kA=\",\"dtype\":\"float64\",\"shape\":[100]},\"y\":{\"__ndarray__\":\"AAAAAAAAJEBxWthsUScAvGv5U1eTFOq7+ay/AKx/RLujyo0Qzd0yu87Vwpc0dIu6vSK8husuirqsb7V1oumIup28rmRZpIe6jQmoUxBfhrp9VqFCxxmFumyjmjF+1IO6XPCTIDWPgrpNPY0P7EmBujyKhv6iBIC6WK7/2rN+fbo4SPK4IfR6uhji5JaPaXi6+HvXdP3edbrWFcpSa1RzurevvDDZyXC6L5NeHY5+bLruxkPZaWlnuqv6KJVFVGK62lwcokJ+WrpexOYZ+lNQuoOvxEbGpji6O6XD3KLItznW2YRnrau2OXEORvK3jrU5CkMHfcJxtDmld8gHzVSzOUCsiZLXN7I52+BKHeIasTnsKhhQ2fuvOR6UmmXuwa05VP0cewOIqzmKZp+QGE6pOb3PIaYtFKc58jiku0LapDkooibRV6CiOV4LqeZsZqA5KelW+ANZnDmOu1sjLuWXOfqNYE5YcZM5y8DK8gT7jTmVZdRIWROFOdkUvD1bV3g5IXo9pw8gWjl4tzsviHnZOGB9qgB4W9k4SEMZ0mc92TgvCYijVx/ZOBbP9nRHAdk4/pRlRjfj2DjmWtQXJ8XYOMwgQ+kWp9g4tOaxugaJ2DicrCCM9mrYOIJyj13mTNg4ajj+LtYu2DhR/mwAxhDYODnE29G18tc4IIpKo6XU1zgIULl0lbbXOO8VKEaFmNc41tuWF3V61zi+oQXpZFzXOKZndLpUPtc4jC3ji0Qg1zhz81FdNALXOFu5wC4k5NY4Q38vABTG1jgqRZ7RA6jWOBELDaPzidY4+dB7dONr1jjglupF003WOMdcWRfDL9Y4ryLI6LIR1jiX6Da6ovPVOH6upYuS1dU4ZHQUXYK31ThNOoMucpnVODUA8v9he9U4HMZg0VFd1TgCjM+iQT/VOOpRPnQxIdU40RetRSED1Ti53RsXEeXUOKCjiugAx9Q4iGn5ufCo1DhvL2iL4IrUOFb11lzQbNQ4PrtFLsBO1DglgbT/rzDUOAxHI9GfEtQ49AySoo/00zjb0gB0f9bTOMOYb0VvuNM4ql7eFl+a0zg=\",\"dtype\":\"float64\",\"shape\":[100]}},\"selected\":{\"id\":\"8313\",\"type\":\"Selection\"},\"selection_policy\":{\"id\":\"8314\",\"type\":\"UnionRenderers\"}},\"id\":\"7707\",\"type\":\"ColumnDataSource\"},{\"attributes\":{\"line_color\":\"#ff7e0e\",\"line_width\":2,\"x\":{\"field\":\"x\"},\"y\":{\"field\":\"y\"}},\"id\":\"7708\",\"type\":\"Line\"},{\"attributes\":{\"active_drag\":\"auto\",\"active_inspect\":\"auto\",\"active_multi\":null,\"active_scroll\":\"auto\",\"active_tap\":\"auto\",\"tools\":[{\"id\":\"7681\",\"type\":\"PanTool\"},{\"id\":\"7682\",\"type\":\"WheelZoomTool\"},{\"id\":\"7683\",\"type\":\"BoxZoomTool\"},{\"id\":\"7684\",\"type\":\"SaveTool\"},{\"id\":\"7685\",\"type\":\"ResetTool\"},{\"id\":\"7686\",\"type\":\"HelpTool\"}]},\"id\":\"7687\",\"type\":\"Toolbar\"},{\"attributes\":{\"callback\":null,\"data\":{\"x\":{\"__ndarray__\":\"AAAAAAAAAABIzNsZEvNzQEjM2xkS84NAbLLJJpvsjUBIzNsZEvOTQFq/UqDW75hAbLLJJpvsnUC/UqDWr3ShQEjM2xkS86NA0UUXXXRxpkBav1Kg1u+oQOM4juM4bqtAbLLJJpvsrUD6lQK1fjWwQL9SoNavdLFAhA8++OCzskBIzNsZEvOzQAyJeTtDMrVA0UUXXXRxtkCWArV+pbC3QFq/UqDW77hAHnzwwQcvukDjOI7jOG67QKj1KwVqrbxAbLLJJpvsvUAwb2dIzCu/QPqVArV+NcBAXXTRRRfVwEC/UqDWr3TBQCExb2dIFMJAhA8++OCzwkDm7QyJeVPDQEjM2xkS88NAqqqqqqqSxEAMiXk7QzLFQG9nSMzb0cVA0UUXXXRxxkAzJObtDBHHQJYCtX6lsMdA+OCDDz5QyEBav1Kg1u/IQLydITFvj8lAHnzwwQcvykCBWr9SoM7KQOM4juM4bstARRdddNENzECo9SsFaq3MQArU+pUCTc1AbLLJJpvszUDOkJi3M4zOQDBvZ0jMK89Ak0022WTLz0D6lQK1fjXQQCwFav1KhdBAXXTRRRfV0ECO4ziO4yTRQL9SoNavdNFA8MEHH3zE0UAhMW9nSBTSQFKg1q8UZNJAhA8++OCz0kC1fqVArQPTQObtDIl5U9NAF1100UWj00BIzNsZEvPTQHk7Q2LeQtRAqqqqqqqS1EDbGRLzduLUQAyJeTtDMtVAPvjggw+C1UBvZ0jM29HVQKDWrxSoIdZA0UUXXXRx1kACtX6lQMHWQDMk5u0MEddAZJNNNtlg10CWArV+pbDXQMdxHMdxANhA+OCDDz5Q2EApUOtXCqDYQFq/UqDW79hAiy666KI/2UC8nSExb4/ZQO0MiXk739lAHnzwwQcv2kBQ61cK1H7aQIFav1KgztpAsskmm2we20DjOI7jOG7bQBSo9SsFvttARRdddNEN3EB2hsS8nV3cQKj1KwVqrdxA2WSTTTb93EAK1PqVAk3dQDtDYt7OnN1AbLLJJpvs3UCdITFvZzzeQM6QmLczjN5AAAAAAADc3kA=\",\"dtype\":\"float64\",\"shape\":[100]},\"y\":{\"__ndarray__\":\"AAAAAAAAJECcyRRmM9LoPWhKgx+mPH+98MFuNaVoDz38Ridox+q/PILCCyd6Z9c8d5dXlsZPUD1wpW0+rwe7PRRkhQxnqiU9QKQhaVyJrzxQeFC+6G6QPZxx7DPgd549yPs2bCfaqb2vVRSC6C3TPOk1+16OO9e83Rs9TcT5BT2khbllTW4AveAPrgpxQMg8uH70lS6MRz1SXUhoqBRovbqmi2OSmWq94NPI29pTtj3ubrQ/ICqcPW4JTkabwp+9IkmYYqWapr3cL6Mogq6YvVGfQoXUScS9p5YtweJe4j1Qxrm14B6WvYwFrti+LsY9LP4TMgTewr3kDnYmozLJvTS9JNf0O3+9UD+n0tzygj2WyPQMlMlTvdAWO0cP9fE8GrlS6oPaDj1hXu+7c1YwvdBSTDFGdyg9yITr6VSXQz3oUgnhCllVPfhVwoGnbnq9rKYK05CGfz1WxTX0zqmNvViod/7Ei5E96KakHJT6nj0YbAjFQLKsvYjKkte518y9LHo2+0Ca1D1erSVY+9vLvSGlhnitxlK9JypZFAXuwLycMVtxbAJSvHxO9MvLGFk8JMSKTnQSczxmO2xn8miyvK7OGDbFOik8EZ2aRcgzhDzr4udNu2IxvFjQ11/lnmK8KHxe4/GKVjyIiLYToC5wvCS7iZFejZO8oZ1INQO9rjzQsNUco6eVvL3GOSCoYVi8HHiXrhuIQTzJeOX1nGQiPCJQBRul4hC8t6eK7VKb8ju3l4MQJurAu/2iL43sB3+77ZuooH6TALtg5aLIuv0yu9i11BQRTGA7cFpGyz2nfrvEwXkSY9iMOxBq0N0lJ6K7tLqgvGpStjtQUD3Lc3TJu/iNXxpWtOs7iDu+GV879btdd+bQCu4KvNevd82f6gc8+Kd5tTxd+rscXn785xfeO4xHwzm0DLw7rKeQNasT07tgBSoTjp7gO6zXcdR4PNA7bCf1H3Qq+LuMsxflcfMNPFgbjE9a5x28UIs+0IChJTxI4gPGgncuvBjohof+W1C82EfVNtxlaTywIFNxxrRzvBC8LRXG8me8NHE7E7S5njw=\",\"dtype\":\"float64\",\"shape\":[100]}},\"selected\":{\"id\":\"7717\",\"type\":\"Selection\"},\"selection_policy\":{\"id\":\"7718\",\"type\":\"UnionRenderers\"}},\"id\":\"7694\",\"type\":\"ColumnDataSource\"},{\"attributes\":{\"line_alpha\":0.1,\"line_color\":\"#1f77b4\",\"line_width\":2,\"x\":{\"field\":\"x\"},\"y\":{\"field\":\"y\"}},\"id\":\"7709\",\"type\":\"Line\"},{\"attributes\":{\"source\":{\"id\":\"7694\",\"type\":\"ColumnDataSource\"}},\"id\":\"7698\",\"type\":\"CDSView\"},{\"attributes\":{\"line_color\":\"#1f77b3\",\"line_width\":2,\"x\":{\"field\":\"x\"},\"y\":{\"field\":\"y\"}},\"id\":\"7695\",\"type\":\"Line\"},{\"attributes\":{\"text\":\"Compare ATP \"},\"id\":\"7661\",\"type\":\"Title\"}],\"root_ids\":[\"7660\"]},\"title\":\"Bokeh Application\",\"version\":\"1.4.0\"}};\n",
       "  var render_items = [{\"docid\":\"141315bd-41d2-4a67-a751-b8b6eb444a62\",\"roots\":{\"7660\":\"afb650a1-4277-4042-adf4-aaef18f0987e\"}}];\n",
       "  root.Bokeh.embed.embed_items_notebook(docs_json, render_items);\n",
       "\n",
       "  }\n",
       "  if (root.Bokeh !== undefined) {\n",
       "    embed_document(root);\n",
       "  } else {\n",
       "    var attempts = 0;\n",
       "    var timer = setInterval(function(root) {\n",
       "      if (root.Bokeh !== undefined) {\n",
       "        clearInterval(timer);\n",
       "        embed_document(root);\n",
       "      } else {\n",
       "        attempts++;\n",
       "        if (attempts > 100) {\n",
       "          clearInterval(timer);\n",
       "          console.log(\"Bokeh: ERROR: Unable to run BokehJS code because BokehJS library is missing\");\n",
       "        }\n",
       "      }\n",
       "    }, 10, root)\n",
       "  }\n",
       "})(window);"
      ],
      "application/vnd.bokehjs_exec.v0+json": ""
     },
     "metadata": {
      "application/vnd.bokehjs_exec.v0+json": {
       "id": "7660"
      }
     },
     "output_type": "display_data"
    }
   ],
   "source": [
    "# PLOT WITH ATP SYNTHASE\n",
    "\n",
    "plt_timepoints = timepoints/60\n",
    "\n",
    "p_w_atp = bokeh.plotting.figure(width = 450, height = 350, title = 'with ATP Synthase, ATP Use',\n",
    "                          x_axis_label = 'time (min)',\n",
    "                          y_axis_label = 'concentration (nM)')\n",
    "plot_list = [ATP_id, outside_H_id, inside_H_id, atp_synthase_b_protein_id]\n",
    "plot_str = ['atp', 'outside_H', 'inside_H', 'bound atp synthase']\n",
    "# plot_list = [atp_synthase_b_protein_id, atp_synthase_f_protein_id]\n",
    "# plot_str = ['atp synthase bound', 'atp synthase free']\n",
    "for i,item in enumerate(plot_list):\n",
    "    p_w_atp.line(plt_timepoints, results1[item], line_width = 2, legend_label = plot_str[i], color = palette[i])\n",
    "    \n",
    "\n",
    "# PLOT WITHOUT ATP SYNTHASE\n",
    "p_no_atp = bokeh.plotting.figure(width = 450, height = 350, title = 'only ATP Use',\n",
    "                          x_axis_label = 'time (sec)',\n",
    "                          y_axis_label = 'concentration (nM)')\n",
    "p_no_atp.line(plt_timepoints, results2[ATP_id2], line_width = 2, legend_label = 'atp', color = palette[0])\n",
    "\n",
    "p_compare = bokeh.plotting.figure(width = 450, height = 350, title = 'Compare ATP ',\n",
    "                          x_axis_label = 'time (sec)',\n",
    "                          y_axis_label = 'concentration (nM)')\n",
    "p_compare.line(timepoints, results1[ATP_id], legend_label = 'ATP Synthase, ATP Use', line_width = 2, color = palette[0])\n",
    "p_compare.line(timepoints, results2[ATP_id2], legend_label = 'ATP Use', line_width = 2, color = palette[1])\n",
    "\n",
    "\n",
    "p_w_atp.legend.location = 'bottom_right'\n",
    "p_w_atp.legend.click_policy = 'hide'\n",
    "    \n",
    "bokeh.io.show(row(p_w_atp, p_no_atp))\n",
    "bokeh.io.show(p_compare)\n",
    "\n",
    "# p_atp.line(plt_timepoints, results1[ATP_id], line_width = 2, color = palette[1], legend_label = 'with ATP Synthase, ATP Use')\n",
    "# p_atp.line(plt_timepoints, results2[ATP_id2],line_width = 2, color = palette[2],legend_label = 'ATP Use only')\n",
    "\n",
    "#bokeh.io.show(p_atp)\n"
   ]
  },
  {
   "cell_type": "markdown",
   "metadata": {},
   "source": [
    "Why does bound atp synthase shoot infinitely high:( got em, it's because you kept remaking the transcript silly"
   ]
  },
  {
   "cell_type": "markdown",
   "metadata": {},
   "source": [
    "## Combine all proton pump with txtl machinery\n",
    "---"
   ]
  },
  {
   "cell_type": "code",
   "execution_count": 9,
   "metadata": {},
   "outputs": [],
   "source": [
    "#ss5_pp_txtl = createSubsystem('proton_pump_tx_tl.xml', subsystemName = 'pp_txtl')\n",
    "ss5_pp_txtl = createSubsystem('proton_pump_machinery_txtl.xml', subsystemName = 'pp_txtl')\n",
    "ss6_pp_mi = createSubsystem('proton_pump_membrane_integration.xml', subsystemName = 'pp_mi')\n",
    "ss7_protontransport = createSubsystem('proton_transport_through_proton_pump.xml', subsystemName = 'protontransport')"
   ]
  },
  {
   "cell_type": "code",
   "execution_count": 10,
   "metadata": {},
   "outputs": [],
   "source": [
    "pp_subsystem = ss5_pp_txtl + ss6_pp_mi + ss7_protontransport"
   ]
  },
  {
   "cell_type": "code",
   "execution_count": 11,
   "metadata": {},
   "outputs": [],
   "source": [
    "# Initial conditions\n",
    "\n",
    "spec_list_10 = ['dna_proton_pump', 'proton_outside_H', 'metabolite_atp', 'protein_RNAP_machinery', \n",
    "                'protein_Ribo_machinery', 'protein_RNAse_machinery']\n",
    "for i,spec in enumerate(spec_list_10):\n",
    "    pp_subsystem.setSpeciesAmount(spec,10)\n",
    "\n",
    "\n",
    "# timepoints and get results\n",
    "timepoints = np.linspace(0,200,100)\n",
    "results, _ = pp_subsystem.simulateWithBioscrape(timepoints, sbml_warnings = False)\n",
    "\n",
    "# Get species IDs\n",
    "ATP_id = pp_subsystem.getSpeciesByName('metabolite_atp').getId()\n",
    "ADP_id = pp_subsystem.getSpeciesByName('metabolite_adp').getId()\n",
    "\n",
    "outside_H_id = pp_subsystem.getSpeciesByName('proton_outside_H').getId()\n",
    "inside_H_id = pp_subsystem.getSpeciesByName('proton_inside_H').getId()\n",
    "proton_pump_b_protein_id = pp_subsystem.getSpeciesByName('protein_proton_pump_b').getId()\n",
    "proton_pump_f_protein_id = pp_subsystem.getSpeciesByName('protein_proton_pump').getId()\n",
    "\n",
    "\n",
    "\n",
    "dna_pp = pp_subsystem.getSpeciesByName('dna_proton_pump').getId()"
   ]
  },
  {
   "cell_type": "code",
   "execution_count": 12,
   "metadata": {},
   "outputs": [
    {
     "data": {
      "text/html": [
       "\n",
       "\n",
       "\n",
       "\n",
       "\n",
       "\n",
       "  <div class=\"bk-root\" id=\"e54a0b04-7579-4527-8a7d-84aad507f94e\" data-root-id=\"1486\"></div>\n"
      ]
     },
     "metadata": {},
     "output_type": "display_data"
    },
    {
     "data": {
      "application/javascript": [
       "(function(root) {\n",
       "  function embed_document(root) {\n",
       "    \n",
       "  var docs_json = {\"6de0d811-a2f8-463c-98cb-b1d841641bb1\":{\"roots\":{\"references\":[{\"attributes\":{\"below\":[{\"id\":\"1497\",\"type\":\"LinearAxis\"}],\"center\":[{\"id\":\"1501\",\"type\":\"Grid\"},{\"id\":\"1506\",\"type\":\"Grid\"},{\"id\":\"1531\",\"type\":\"Legend\"}],\"left\":[{\"id\":\"1502\",\"type\":\"LinearAxis\"}],\"plot_height\":350,\"plot_width\":450,\"renderers\":[{\"id\":\"1523\",\"type\":\"GlyphRenderer\"},{\"id\":\"1536\",\"type\":\"GlyphRenderer\"},{\"id\":\"1550\",\"type\":\"GlyphRenderer\"},{\"id\":\"1566\",\"type\":\"GlyphRenderer\"}],\"title\":{\"id\":\"1487\",\"type\":\"Title\"},\"toolbar\":{\"id\":\"1513\",\"type\":\"Toolbar\"},\"x_range\":{\"id\":\"1489\",\"type\":\"DataRange1d\"},\"x_scale\":{\"id\":\"1493\",\"type\":\"LinearScale\"},\"y_range\":{\"id\":\"1491\",\"type\":\"DataRange1d\"},\"y_scale\":{\"id\":\"1495\",\"type\":\"LinearScale\"}},\"id\":\"1486\",\"subtype\":\"Figure\",\"type\":\"Plot\"},{\"attributes\":{\"line_alpha\":0.1,\"line_color\":\"#1f77b4\",\"line_width\":2,\"x\":{\"field\":\"x\"},\"y\":{\"field\":\"y\"}},\"id\":\"1565\",\"type\":\"Line\"},{\"attributes\":{\"dimension\":1,\"ticker\":{\"id\":\"1503\",\"type\":\"BasicTicker\"}},\"id\":\"1506\",\"type\":\"Grid\"},{\"attributes\":{\"click_policy\":\"hide\",\"items\":[{\"id\":\"1532\",\"type\":\"LegendItem\"},{\"id\":\"1546\",\"type\":\"LegendItem\"},{\"id\":\"1562\",\"type\":\"LegendItem\"},{\"id\":\"1580\",\"type\":\"LegendItem\"}],\"location\":\"bottom_right\"},\"id\":\"1531\",\"type\":\"Legend\"},{\"attributes\":{\"data_source\":{\"id\":\"1563\",\"type\":\"ColumnDataSource\"},\"glyph\":{\"id\":\"1564\",\"type\":\"Line\"},\"hover_glyph\":null,\"muted_glyph\":null,\"nonselection_glyph\":{\"id\":\"1565\",\"type\":\"Line\"},\"selection_glyph\":null,\"view\":{\"id\":\"1567\",\"type\":\"CDSView\"}},\"id\":\"1566\",\"type\":\"GlyphRenderer\"},{\"attributes\":{},\"id\":\"1503\",\"type\":\"BasicTicker\"},{\"attributes\":{},\"id\":\"1543\",\"type\":\"Selection\"},{\"attributes\":{\"data_source\":{\"id\":\"1547\",\"type\":\"ColumnDataSource\"},\"glyph\":{\"id\":\"1548\",\"type\":\"Line\"},\"hover_glyph\":null,\"muted_glyph\":null,\"nonselection_glyph\":{\"id\":\"1549\",\"type\":\"Line\"},\"selection_glyph\":null,\"view\":{\"id\":\"1551\",\"type\":\"CDSView\"}},\"id\":\"1550\",\"type\":\"GlyphRenderer\"},{\"attributes\":{\"line_color\":\"#2ba02b\",\"line_width\":2,\"x\":{\"field\":\"x\"},\"y\":{\"field\":\"y\"}},\"id\":\"1548\",\"type\":\"Line\"},{\"attributes\":{},\"id\":\"1508\",\"type\":\"WheelZoomTool\"},{\"attributes\":{\"line_color\":\"#1f77b3\",\"line_width\":2,\"x\":{\"field\":\"x\"},\"y\":{\"field\":\"y\"}},\"id\":\"1521\",\"type\":\"Line\"},{\"attributes\":{\"label\":{\"value\":\"inside_H\"},\"renderers\":[{\"id\":\"1550\",\"type\":\"GlyphRenderer\"}]},\"id\":\"1562\",\"type\":\"LegendItem\"},{\"attributes\":{\"source\":{\"id\":\"1563\",\"type\":\"ColumnDataSource\"}},\"id\":\"1567\",\"type\":\"CDSView\"},{\"attributes\":{\"label\":{\"value\":\"outside_H\"},\"renderers\":[{\"id\":\"1536\",\"type\":\"GlyphRenderer\"}]},\"id\":\"1546\",\"type\":\"LegendItem\"},{\"attributes\":{},\"id\":\"1498\",\"type\":\"BasicTicker\"},{\"attributes\":{},\"id\":\"1526\",\"type\":\"BasicTickFormatter\"},{\"attributes\":{},\"id\":\"1577\",\"type\":\"Selection\"},{\"attributes\":{\"source\":{\"id\":\"1520\",\"type\":\"ColumnDataSource\"}},\"id\":\"1524\",\"type\":\"CDSView\"},{\"attributes\":{},\"id\":\"1507\",\"type\":\"PanTool\"},{\"attributes\":{\"callback\":null,\"data\":{\"x\":{\"__ndarray__\":\"AAAAAAAAAAB2n+/aMj2hP3af79oyPbE/MW9nSMzbuT92n+/aMj3BP1SHq5F/jMU/MW9nSMzbyT8PVyP/GCvOP3af79oyPdE/ZZNNNtlk0z9Uh6uRf4zVP0N7Ce0ltNc/MW9nSMzb2T8gY8WjcgPcPw9XI/8YK94/f6VArV8p4D92n+/aMj3hP26ZnggGUeI/ZZNNNtlk4z9djfxjrHjkP1SHq5F/jOU/TIFav1Kg5j9DewntJbTnPzt1uBr5x+g/MW9nSMzb6T8paRZ2n+/qPyBjxaNyA+w/F1100UUX7T8PVyP/GCvuPwZR0izsPu8/f6VArV8p8D97IhhESbPwP3af79oyPfE/chzHcRzH8T9umZ4IBlHyP2oWdp/v2vI/ZZNNNtlk8z9hECXNwu7zP12N/GOsePQ/WQrU+pUC9T9Uh6uRf4z1P1AEgyhpFvY/TIFav1Kg9j9H/jFWPCr3P0N7Ce0ltPc/P/jggw8++D87dbga+cf4Pzbyj7HiUfk/MW9nSMzb+T8t7D7ftWX6PylpFnaf7/o/JObtDIl5+z8gY8WjcgP8PxzgnDpcjfw/F1100UUX/T8T2ktoL6H9Pw9XI/8YK/4/C9T6lQK1/j8GUdIs7D7/PwLOqcPVyP8/f6VArV8pAED9Y6x4VG4AQHsiGERJswBA+eCDDz74AEB2n+/aMj0BQPRdW6YnggFAchzHcRzHAUDw2jI9EQwCQG6ZnggGUQJA7FcK1PqVAkBqFnaf79oCQOfU4WrkHwNAZZNNNtlkA0DjUbkBzqkDQGEQJc3C7gNA386QmLczBEBdjfxjrHgEQNtLaC+hvQRAWQrU+pUCBUDWyD/GikcFQFSHq5F/jAVA0kUXXXTRBUBQBIMoaRYGQM7C7vNdWwZATIFav1KgBkDKP8aKR+UGQEf+MVY8KgdAxbydITFvB0BDewntJbQHQME5dbga+QdAP/jggw8+CEC9tkxPBIMIQDt1uBr5xwhAuTMk5u0MCUA28o+x4lEJQLSw+3zXlglAMW9nSMzbCUCvLdMTwSAKQC3sPt+1ZQpAq6qqqqqqCkA=\",\"dtype\":\"float64\",\"shape\":[100]},\"y\":{\"__ndarray__\":\"AAAAAAAAAAAAAAAAAAAAAAAAAAAAAAAAAAAAAAAAAAAAAAAAAAAAAAAAAAAAAAAAAAAAAAAAAAAAAAAAAAAAAAAAAAAAAAAAAAAAAAAAAAAAAAAAAAAAAAAAAAAAAAAAAAAAAAAAAAAAAAAAAAAAAAAAAAAAAAAAAAAAAAAAAAAAAAAAAAAAAAAAAAAAAAAAAAAAAAAAAAAAAAAAAAAAAAAAAAAAAAAAAAAAAAAAAAAAAAAAAAAAAAAAAAAAAAAAAAAAAAAAAAAAAAAAAAAAAAAAAAAAAAAAAAAAAAAAAAAAAAAAAAAAAAAAAAAAAAAAAAAAAAAAAAAAAAAAAAAAAAAAAAAAAAAAAAAAAAAAAAAAAAAAAAAAAAAAAAAAAAAAAAAAAAAAAAAAAAAAAAAAAAAAAAAAAAAAAAAAAAAAAAAAAAAAAAAAAAAAAAAAAAAAAAAAAAAAAAAAAAAAAAAAAAAAAAAAAAAAAAAAAAAAAAAAAAAAAAAAAAAAAAAAAAAAAAAAAAAAAAAAAAAAAAAAAAAAAAAAAAAAAAAAAAAAAAAAAAAAAAAAAAAAAAAAAAAAAAAAAAAAAAAAAAAAAAAAAAAAAAAAAAAAAAAAAAAAAAAAAAAAAAAAAAAAAAAAAAAAAAAAAAAAAAAAAAAAAAAAAAAAAAAAAAAAAAAAAAAAAAAAAAAAAAAAAAAAAAAAAAAAAAAAAAAAAAAAAAAAAAAAAAAAAAAAAAAAAAAAAAAAAAAAAAAAAAAAAAAAAAAAAAAAAAAAAAAAAAAAAAAAAAAAAAAAAAAAAAAAAAAAAAAAAAAAAAAAAAAAAAAAAAAAAAAAAAAAAAAAAAAAAAAAAAAAAAAAAAAAAAAAAAAAAAAAAAAAAAAAAAAAAAAAAAAAAAAAAAAAAAAAAAAAAAAAAAAAAAAAAAAAAAAAAAAAAAAAAAAAAAAAAAAAAAAAAAAAAAAAAAAAAAAAAAAAAAAAAAAAAAAAAAAAAAAAAAAAAAAAAAAAAAAAAAAAAAAAAAAAAAAAAAAAAAAAAAAAAAAAAAAAAAAAAAAAAAAAAAAAAAAAAAA=\",\"dtype\":\"float64\",\"shape\":[100]}},\"selected\":{\"id\":\"1577\",\"type\":\"Selection\"},\"selection_policy\":{\"id\":\"1578\",\"type\":\"UnionRenderers\"}},\"id\":\"1547\",\"type\":\"ColumnDataSource\"},{\"attributes\":{\"label\":{\"value\":\"bound proton pump\"},\"renderers\":[{\"id\":\"1566\",\"type\":\"GlyphRenderer\"}]},\"id\":\"1580\",\"type\":\"LegendItem\"},{\"attributes\":{},\"id\":\"1578\",\"type\":\"UnionRenderers\"},{\"attributes\":{\"data_source\":{\"id\":\"1533\",\"type\":\"ColumnDataSource\"},\"glyph\":{\"id\":\"1534\",\"type\":\"Line\"},\"hover_glyph\":null,\"muted_glyph\":null,\"nonselection_glyph\":{\"id\":\"1535\",\"type\":\"Line\"},\"selection_glyph\":null,\"view\":{\"id\":\"1537\",\"type\":\"CDSView\"}},\"id\":\"1536\",\"type\":\"GlyphRenderer\"},{\"attributes\":{\"text\":\"with Proton Pump\"},\"id\":\"1487\",\"type\":\"Title\"},{\"attributes\":{},\"id\":\"1624\",\"type\":\"Selection\"},{\"attributes\":{\"line_alpha\":0.1,\"line_color\":\"#1f77b4\",\"line_width\":2,\"x\":{\"field\":\"x\"},\"y\":{\"field\":\"y\"}},\"id\":\"1522\",\"type\":\"Line\"},{\"attributes\":{\"callback\":null,\"data\":{\"x\":{\"__ndarray__\":\"AAAAAAAAAAB2n+/aMj2hP3af79oyPbE/MW9nSMzbuT92n+/aMj3BP1SHq5F/jMU/MW9nSMzbyT8PVyP/GCvOP3af79oyPdE/ZZNNNtlk0z9Uh6uRf4zVP0N7Ce0ltNc/MW9nSMzb2T8gY8WjcgPcPw9XI/8YK94/f6VArV8p4D92n+/aMj3hP26ZnggGUeI/ZZNNNtlk4z9djfxjrHjkP1SHq5F/jOU/TIFav1Kg5j9DewntJbTnPzt1uBr5x+g/MW9nSMzb6T8paRZ2n+/qPyBjxaNyA+w/F1100UUX7T8PVyP/GCvuPwZR0izsPu8/f6VArV8p8D97IhhESbPwP3af79oyPfE/chzHcRzH8T9umZ4IBlHyP2oWdp/v2vI/ZZNNNtlk8z9hECXNwu7zP12N/GOsePQ/WQrU+pUC9T9Uh6uRf4z1P1AEgyhpFvY/TIFav1Kg9j9H/jFWPCr3P0N7Ce0ltPc/P/jggw8++D87dbga+cf4Pzbyj7HiUfk/MW9nSMzb+T8t7D7ftWX6PylpFnaf7/o/JObtDIl5+z8gY8WjcgP8PxzgnDpcjfw/F1100UUX/T8T2ktoL6H9Pw9XI/8YK/4/C9T6lQK1/j8GUdIs7D7/PwLOqcPVyP8/f6VArV8pAED9Y6x4VG4AQHsiGERJswBA+eCDDz74AEB2n+/aMj0BQPRdW6YnggFAchzHcRzHAUDw2jI9EQwCQG6ZnggGUQJA7FcK1PqVAkBqFnaf79oCQOfU4WrkHwNAZZNNNtlkA0DjUbkBzqkDQGEQJc3C7gNA386QmLczBEBdjfxjrHgEQNtLaC+hvQRAWQrU+pUCBUDWyD/GikcFQFSHq5F/jAVA0kUXXXTRBUBQBIMoaRYGQM7C7vNdWwZATIFav1KgBkDKP8aKR+UGQEf+MVY8KgdAxbydITFvB0BDewntJbQHQME5dbga+QdAP/jggw8+CEC9tkxPBIMIQDt1uBr5xwhAuTMk5u0MCUA28o+x4lEJQLSw+3zXlglAMW9nSMzbCUCvLdMTwSAKQC3sPt+1ZQpAq6qqqqqqCkA=\",\"dtype\":\"float64\",\"shape\":[100]},\"y\":{\"__ndarray__\":\"AAAAAAAAAABRA4rS2qTUPkNzbcLo+AM/xkYmG+REID9Fqo6qBJ0yP7wHezFMjUE/rNl3JoFMTT8ays03hHtWPxEATYWWOWA/8kBPzS9ZZj+1OqZB0qttPziLR8XwHnM/qMbTOqAMeD+In4Ec0qJ9PywR+zo38oE/82Y/WMVphT9P96mQwjiJPzeSj7COX40/NYVjXyLvkD9DJAkkYlqTP35GXcNc8ZU/iBQJRNKzmD828Hq8b6GbP0oC8hDSuZ4/G8e8MkT+oD+Y1lEdi7SiP3SZSax6f6Q/DzWQtMtepj8fFSq6M1KoPzJosZFlWao/nibU8BF0rD+YVrnr56GuP/7m7rFKcbA/QFFXtOOasT8mudpFlc2yPxqAD5U1CbQ/ccKF1ppNtT/Xe11gm5q2PxPYMcIN8Lc/O4a32chNuT/eOkTko7O6P9eNvY12Ibw/oIMX/RiXvT9dNuzeYxS/P8XAEDeYTMA/R0l3PawSwT/bQVE4W9zBP59p5qySqcI/vzLKcUB6wz/d8g2wUk7EPyqe8eO3JcU/EI453V4Axj/ukT2/Nt7GP2NMsAAvv8c/b/8gazejyD/B1UwaQIrJP6JlRXs5dMo/QSlxSxRhyz/0XGyXwVDMP1P/zbkyQ80/R2rYWVk4zj+F4BlqJzDPP+X7f5NHFdA/gvivisGT0D/Q6HsAexPRP6KZdX1tlNE/R+MerJIW0j+xayZY5JnSP3i3pG1cHtM/6Zla+PSj0z+DlPEiqCrUP6lMPjZwstQ/76aFmEc71T/L/cTMKMXVP1Sx/XEOUNY/soKEQvPb1j/MhVQT0mjXP7t0ZtOl9tc/D70Li2mF2D8i3kxbGBXZPzjITX2tpdk/5FS0QSQ32j9YMhQQeMnaP3qVX2akXNs/rvhZ2KTw2z9AOiAPdYXcP5u/2cgQG90/Ffyi13Ox3T881QUhmkjePxPCJ51/4N4/eGxvWCB53z/gsC45PAngP2TQwQ1CVuA/+w3Xyp+j4D8Ek/eZU/HgP5pFKa1bP+E/GYWwPraN4T9HvdOQYdzhP/QBr+1bK+I/jWoZp6N64j8=\",\"dtype\":\"float64\",\"shape\":[100]}},\"selected\":{\"id\":\"1624\",\"type\":\"Selection\"},\"selection_policy\":{\"id\":\"1625\",\"type\":\"UnionRenderers\"}},\"id\":\"1563\",\"type\":\"ColumnDataSource\"},{\"attributes\":{\"overlay\":{\"id\":\"1530\",\"type\":\"BoxAnnotation\"}},\"id\":\"1509\",\"type\":\"BoxZoomTool\"},{\"attributes\":{\"callback\":null,\"data\":{\"x\":{\"__ndarray__\":\"AAAAAAAAAAB2n+/aMj2hP3af79oyPbE/MW9nSMzbuT92n+/aMj3BP1SHq5F/jMU/MW9nSMzbyT8PVyP/GCvOP3af79oyPdE/ZZNNNtlk0z9Uh6uRf4zVP0N7Ce0ltNc/MW9nSMzb2T8gY8WjcgPcPw9XI/8YK94/f6VArV8p4D92n+/aMj3hP26ZnggGUeI/ZZNNNtlk4z9djfxjrHjkP1SHq5F/jOU/TIFav1Kg5j9DewntJbTnPzt1uBr5x+g/MW9nSMzb6T8paRZ2n+/qPyBjxaNyA+w/F1100UUX7T8PVyP/GCvuPwZR0izsPu8/f6VArV8p8D97IhhESbPwP3af79oyPfE/chzHcRzH8T9umZ4IBlHyP2oWdp/v2vI/ZZNNNtlk8z9hECXNwu7zP12N/GOsePQ/WQrU+pUC9T9Uh6uRf4z1P1AEgyhpFvY/TIFav1Kg9j9H/jFWPCr3P0N7Ce0ltPc/P/jggw8++D87dbga+cf4Pzbyj7HiUfk/MW9nSMzb+T8t7D7ftWX6PylpFnaf7/o/JObtDIl5+z8gY8WjcgP8PxzgnDpcjfw/F1100UUX/T8T2ktoL6H9Pw9XI/8YK/4/C9T6lQK1/j8GUdIs7D7/PwLOqcPVyP8/f6VArV8pAED9Y6x4VG4AQHsiGERJswBA+eCDDz74AEB2n+/aMj0BQPRdW6YnggFAchzHcRzHAUDw2jI9EQwCQG6ZnggGUQJA7FcK1PqVAkBqFnaf79oCQOfU4WrkHwNAZZNNNtlkA0DjUbkBzqkDQGEQJc3C7gNA386QmLczBEBdjfxjrHgEQNtLaC+hvQRAWQrU+pUCBUDWyD/GikcFQFSHq5F/jAVA0kUXXXTRBUBQBIMoaRYGQM7C7vNdWwZATIFav1KgBkDKP8aKR+UGQEf+MVY8KgdAxbydITFvB0BDewntJbQHQME5dbga+QdAP/jggw8+CEC9tkxPBIMIQDt1uBr5xwhAuTMk5u0MCUA28o+x4lEJQLSw+3zXlglAMW9nSMzbCUCvLdMTwSAKQC3sPt+1ZQpAq6qqqqqqCkA=\",\"dtype\":\"float64\",\"shape\":[100]},\"y\":{\"__ndarray__\":\"AAAAAAAAJEAAAAAAAAAkQAAAAAAAACRAAAAAAAAAJEAAAAAAAAAkQAAAAAAAACRAAAAAAAAAJEAAAAAAAAAkQAAAAAAAACRAAAAAAAAAJEAAAAAAAAAkQAAAAAAAACRAAAAAAAAAJEAAAAAAAAAkQAAAAAAAACRAAAAAAAAAJEAAAAAAAAAkQAAAAAAAACRAAAAAAAAAJEAAAAAAAAAkQAAAAAAAACRAAAAAAAAAJEAAAAAAAAAkQAAAAAAAACRAAAAAAAAAJEAAAAAAAAAkQAAAAAAAACRAAAAAAAAAJEAAAAAAAAAkQAAAAAAAACRAAAAAAAAAJEAAAAAAAAAkQAAAAAAAACRAAAAAAAAAJEAAAAAAAAAkQAAAAAAAACRAAAAAAAAAJEAAAAAAAAAkQAAAAAAAACRAAAAAAAAAJEAAAAAAAAAkQAAAAAAAACRAAAAAAAAAJEAAAAAAAAAkQAAAAAAAACRAAAAAAAAAJEAAAAAAAAAkQAAAAAAAACRAAAAAAAAAJEAAAAAAAAAkQAAAAAAAACRAAAAAAAAAJEAAAAAAAAAkQAAAAAAAACRAAAAAAAAAJEAAAAAAAAAkQAAAAAAAACRAAAAAAAAAJEAAAAAAAAAkQAAAAAAAACRAAAAAAAAAJEAAAAAAAAAkQAAAAAAAACRAAAAAAAAAJEAAAAAAAAAkQAAAAAAAACRAAAAAAAAAJEAAAAAAAAAkQAAAAAAAACRAAAAAAAAAJEAAAAAAAAAkQAAAAAAAACRAAAAAAAAAJEAAAAAAAAAkQAAAAAAAACRAAAAAAAAAJEAAAAAAAAAkQAAAAAAAACRAAAAAAAAAJEAAAAAAAAAkQAAAAAAAACRAAAAAAAAAJEAAAAAAAAAkQAAAAAAAACRAAAAAAAAAJEAAAAAAAAAkQAAAAAAAACRAAAAAAAAAJEAAAAAAAAAkQAAAAAAAACRAAAAAAAAAJEAAAAAAAAAkQAAAAAAAACRAAAAAAAAAJEAAAAAAAAAkQAAAAAAAACRAAAAAAAAAJEAAAAAAAAAkQAAAAAAAACRAAAAAAAAAJEA=\",\"dtype\":\"float64\",\"shape\":[100]}},\"selected\":{\"id\":\"1559\",\"type\":\"Selection\"},\"selection_policy\":{\"id\":\"1560\",\"type\":\"UnionRenderers\"}},\"id\":\"1533\",\"type\":\"ColumnDataSource\"},{\"attributes\":{\"source\":{\"id\":\"1547\",\"type\":\"ColumnDataSource\"}},\"id\":\"1551\",\"type\":\"CDSView\"},{\"attributes\":{\"callback\":null},\"id\":\"1489\",\"type\":\"DataRange1d\"},{\"attributes\":{\"line_alpha\":0.1,\"line_color\":\"#1f77b4\",\"line_width\":2,\"x\":{\"field\":\"x\"},\"y\":{\"field\":\"y\"}},\"id\":\"1535\",\"type\":\"Line\"},{\"attributes\":{},\"id\":\"1511\",\"type\":\"ResetTool\"},{\"attributes\":{},\"id\":\"1544\",\"type\":\"UnionRenderers\"},{\"attributes\":{\"label\":{\"value\":\"atp\"},\"renderers\":[{\"id\":\"1523\",\"type\":\"GlyphRenderer\"}]},\"id\":\"1532\",\"type\":\"LegendItem\"},{\"attributes\":{},\"id\":\"1560\",\"type\":\"UnionRenderers\"},{\"attributes\":{},\"id\":\"1625\",\"type\":\"UnionRenderers\"},{\"attributes\":{\"axis_label\":\"time (min)\",\"formatter\":{\"id\":\"1526\",\"type\":\"BasicTickFormatter\"},\"ticker\":{\"id\":\"1498\",\"type\":\"BasicTicker\"}},\"id\":\"1497\",\"type\":\"LinearAxis\"},{\"attributes\":{},\"id\":\"1493\",\"type\":\"LinearScale\"},{\"attributes\":{\"line_alpha\":0.1,\"line_color\":\"#1f77b4\",\"line_width\":2,\"x\":{\"field\":\"x\"},\"y\":{\"field\":\"y\"}},\"id\":\"1549\",\"type\":\"Line\"},{\"attributes\":{\"callback\":null},\"id\":\"1491\",\"type\":\"DataRange1d\"},{\"attributes\":{\"callback\":null,\"data\":{\"x\":{\"__ndarray__\":\"AAAAAAAAAAB2n+/aMj2hP3af79oyPbE/MW9nSMzbuT92n+/aMj3BP1SHq5F/jMU/MW9nSMzbyT8PVyP/GCvOP3af79oyPdE/ZZNNNtlk0z9Uh6uRf4zVP0N7Ce0ltNc/MW9nSMzb2T8gY8WjcgPcPw9XI/8YK94/f6VArV8p4D92n+/aMj3hP26ZnggGUeI/ZZNNNtlk4z9djfxjrHjkP1SHq5F/jOU/TIFav1Kg5j9DewntJbTnPzt1uBr5x+g/MW9nSMzb6T8paRZ2n+/qPyBjxaNyA+w/F1100UUX7T8PVyP/GCvuPwZR0izsPu8/f6VArV8p8D97IhhESbPwP3af79oyPfE/chzHcRzH8T9umZ4IBlHyP2oWdp/v2vI/ZZNNNtlk8z9hECXNwu7zP12N/GOsePQ/WQrU+pUC9T9Uh6uRf4z1P1AEgyhpFvY/TIFav1Kg9j9H/jFWPCr3P0N7Ce0ltPc/P/jggw8++D87dbga+cf4Pzbyj7HiUfk/MW9nSMzb+T8t7D7ftWX6PylpFnaf7/o/JObtDIl5+z8gY8WjcgP8PxzgnDpcjfw/F1100UUX/T8T2ktoL6H9Pw9XI/8YK/4/C9T6lQK1/j8GUdIs7D7/PwLOqcPVyP8/f6VArV8pAED9Y6x4VG4AQHsiGERJswBA+eCDDz74AEB2n+/aMj0BQPRdW6YnggFAchzHcRzHAUDw2jI9EQwCQG6ZnggGUQJA7FcK1PqVAkBqFnaf79oCQOfU4WrkHwNAZZNNNtlkA0DjUbkBzqkDQGEQJc3C7gNA386QmLczBEBdjfxjrHgEQNtLaC+hvQRAWQrU+pUCBUDWyD/GikcFQFSHq5F/jAVA0kUXXXTRBUBQBIMoaRYGQM7C7vNdWwZATIFav1KgBkDKP8aKR+UGQEf+MVY8KgdAxbydITFvB0BDewntJbQHQME5dbga+QdAP/jggw8+CEC9tkxPBIMIQDt1uBr5xwhAuTMk5u0MCUA28o+x4lEJQLSw+3zXlglAMW9nSMzbCUCvLdMTwSAKQC3sPt+1ZQpAq6qqqqqqCkA=\",\"dtype\":\"float64\",\"shape\":[100]},\"y\":{\"__ndarray__\":\"AAAAAAAAJEAAAAAAAAAkQAAAAAAAACRAAAAAAAAAJEAAAAAAAAAkQAAAAAAAACRAAAAAAAAAJEAAAAAAAAAkQAAAAAAAACRAAAAAAAAAJEAAAAAAAAAkQAAAAAAAACRAAAAAAAAAJEAAAAAAAAAkQAAAAAAAACRAAAAAAAAAJEAAAAAAAAAkQAAAAAAAACRAAAAAAAAAJEAAAAAAAAAkQAAAAAAAACRAAAAAAAAAJEAAAAAAAAAkQAAAAAAAACRAAAAAAAAAJEAAAAAAAAAkQAAAAAAAACRAAAAAAAAAJEAAAAAAAAAkQAAAAAAAACRAAAAAAAAAJEAAAAAAAAAkQAAAAAAAACRAAAAAAAAAJEAAAAAAAAAkQAAAAAAAACRAAAAAAAAAJEAAAAAAAAAkQAAAAAAAACRAAAAAAAAAJEAAAAAAAAAkQAAAAAAAACRAAAAAAAAAJEAAAAAAAAAkQAAAAAAAACRAAAAAAAAAJEAAAAAAAAAkQAAAAAAAACRAAAAAAAAAJEAAAAAAAAAkQAAAAAAAACRAAAAAAAAAJEAAAAAAAAAkQAAAAAAAACRAAAAAAAAAJEAAAAAAAAAkQAAAAAAAACRAAAAAAAAAJEAAAAAAAAAkQAAAAAAAACRAAAAAAAAAJEAAAAAAAAAkQAAAAAAAACRAAAAAAAAAJEAAAAAAAAAkQAAAAAAAACRAAAAAAAAAJEAAAAAAAAAkQAAAAAAAACRAAAAAAAAAJEAAAAAAAAAkQAAAAAAAACRAAAAAAAAAJEAAAAAAAAAkQAAAAAAAACRAAAAAAAAAJEAAAAAAAAAkQAAAAAAAACRAAAAAAAAAJEAAAAAAAAAkQAAAAAAAACRAAAAAAAAAJEAAAAAAAAAkQAAAAAAAACRAAAAAAAAAJEAAAAAAAAAkQAAAAAAAACRAAAAAAAAAJEAAAAAAAAAkQAAAAAAAACRAAAAAAAAAJEAAAAAAAAAkQAAAAAAAACRAAAAAAAAAJEAAAAAAAAAkQAAAAAAAACRAAAAAAAAAJEAAAAAAAAAkQAAAAAAAACRAAAAAAAAAJEA=\",\"dtype\":\"float64\",\"shape\":[100]}},\"selected\":{\"id\":\"1543\",\"type\":\"Selection\"},\"selection_policy\":{\"id\":\"1544\",\"type\":\"UnionRenderers\"}},\"id\":\"1520\",\"type\":\"ColumnDataSource\"},{\"attributes\":{},\"id\":\"1495\",\"type\":\"LinearScale\"},{\"attributes\":{},\"id\":\"1510\",\"type\":\"SaveTool\"},{\"attributes\":{},\"id\":\"1528\",\"type\":\"BasicTickFormatter\"},{\"attributes\":{},\"id\":\"1559\",\"type\":\"Selection\"},{\"attributes\":{\"active_drag\":\"auto\",\"active_inspect\":\"auto\",\"active_multi\":null,\"active_scroll\":\"auto\",\"active_tap\":\"auto\",\"tools\":[{\"id\":\"1507\",\"type\":\"PanTool\"},{\"id\":\"1508\",\"type\":\"WheelZoomTool\"},{\"id\":\"1509\",\"type\":\"BoxZoomTool\"},{\"id\":\"1510\",\"type\":\"SaveTool\"},{\"id\":\"1511\",\"type\":\"ResetTool\"},{\"id\":\"1512\",\"type\":\"HelpTool\"}]},\"id\":\"1513\",\"type\":\"Toolbar\"},{\"attributes\":{\"axis_label\":\"concentration (nM)\",\"formatter\":{\"id\":\"1528\",\"type\":\"BasicTickFormatter\"},\"ticker\":{\"id\":\"1503\",\"type\":\"BasicTicker\"}},\"id\":\"1502\",\"type\":\"LinearAxis\"},{\"attributes\":{\"line_color\":\"#ff7e0e\",\"line_width\":2,\"x\":{\"field\":\"x\"},\"y\":{\"field\":\"y\"}},\"id\":\"1534\",\"type\":\"Line\"},{\"attributes\":{\"source\":{\"id\":\"1533\",\"type\":\"ColumnDataSource\"}},\"id\":\"1537\",\"type\":\"CDSView\"},{\"attributes\":{\"line_color\":\"#9367bc\",\"line_width\":2,\"x\":{\"field\":\"x\"},\"y\":{\"field\":\"y\"}},\"id\":\"1564\",\"type\":\"Line\"},{\"attributes\":{\"ticker\":{\"id\":\"1498\",\"type\":\"BasicTicker\"}},\"id\":\"1501\",\"type\":\"Grid\"},{\"attributes\":{},\"id\":\"1512\",\"type\":\"HelpTool\"},{\"attributes\":{\"bottom_units\":\"screen\",\"fill_alpha\":{\"value\":0.5},\"fill_color\":{\"value\":\"lightgrey\"},\"left_units\":\"screen\",\"level\":\"overlay\",\"line_alpha\":{\"value\":1.0},\"line_color\":{\"value\":\"black\"},\"line_dash\":[4,4],\"line_width\":{\"value\":2},\"render_mode\":\"css\",\"right_units\":\"screen\",\"top_units\":\"screen\"},\"id\":\"1530\",\"type\":\"BoxAnnotation\"},{\"attributes\":{\"data_source\":{\"id\":\"1520\",\"type\":\"ColumnDataSource\"},\"glyph\":{\"id\":\"1521\",\"type\":\"Line\"},\"hover_glyph\":null,\"muted_glyph\":null,\"nonselection_glyph\":{\"id\":\"1522\",\"type\":\"Line\"},\"selection_glyph\":null,\"view\":{\"id\":\"1524\",\"type\":\"CDSView\"}},\"id\":\"1523\",\"type\":\"GlyphRenderer\"}],\"root_ids\":[\"1486\"]},\"title\":\"Bokeh Application\",\"version\":\"1.4.0\"}};\n",
       "  var render_items = [{\"docid\":\"6de0d811-a2f8-463c-98cb-b1d841641bb1\",\"roots\":{\"1486\":\"e54a0b04-7579-4527-8a7d-84aad507f94e\"}}];\n",
       "  root.Bokeh.embed.embed_items_notebook(docs_json, render_items);\n",
       "\n",
       "  }\n",
       "  if (root.Bokeh !== undefined) {\n",
       "    embed_document(root);\n",
       "  } else {\n",
       "    var attempts = 0;\n",
       "    var timer = setInterval(function(root) {\n",
       "      if (root.Bokeh !== undefined) {\n",
       "        clearInterval(timer);\n",
       "        embed_document(root);\n",
       "      } else {\n",
       "        attempts++;\n",
       "        if (attempts > 100) {\n",
       "          clearInterval(timer);\n",
       "          console.log(\"Bokeh: ERROR: Unable to run BokehJS code because BokehJS library is missing\");\n",
       "        }\n",
       "      }\n",
       "    }, 10, root)\n",
       "  }\n",
       "})(window);"
      ],
      "application/vnd.bokehjs_exec.v0+json": ""
     },
     "metadata": {
      "application/vnd.bokehjs_exec.v0+json": {
       "id": "1486"
      }
     },
     "output_type": "display_data"
    }
   ],
   "source": [
    "plt_timepoints = timepoints/60\n",
    "\n",
    "p_pp = bokeh.plotting.figure(width = 450, height = 350, title = 'with Proton Pump',\n",
    "                            x_axis_label = 'time (min)',\n",
    "                            y_axis_label = 'concentration (nM)')\n",
    "plot_list = [ATP_id, outside_H_id, inside_H_id, proton_pump_b_protein_id]\n",
    "plot_str = ['atp', 'outside_H', 'inside_H', 'bound proton pump']\n",
    "for i,item in enumerate(plot_list):\n",
    "    p_pp.line(plt_timepoints, results[item], line_width = 2, legend_label = plot_str[i], color = palette[i])\n",
    "    \n",
    "p_pp.legend.click_policy = 'hide'\n",
    "p_pp.legend.location = 'bottom_right'\n",
    "bokeh.io.show(p_pp)"
   ]
  },
  {
   "cell_type": "markdown",
   "metadata": {},
   "source": [
    "## Combine atp synthase and proton pump subsystems (with machinery txtl)\n",
    "---"
   ]
  },
  {
   "cell_type": "code",
   "execution_count": 39,
   "metadata": {},
   "outputs": [],
   "source": [
    "entire_subsystem = ss1_atpsyn_txtl + ss2_atpsyn_mi + ss3_atpsynthesis + ss4_atp_use + ss5_pp_txtl + ss6_pp_mi + ss7_protontransport"
   ]
  },
  {
   "cell_type": "code",
   "execution_count": 40,
   "metadata": {},
   "outputs": [],
   "source": [
    "# Initial conditions\n",
    "spec_list_10 = ['dna_proton_pump', 'dna_atpsyn','proton_outside_H', 'metabolite_atp','protein_RNAP_machinery', \n",
    "                'protein_Ribo_machinery', 'protein_RNAse_machinery']\n",
    "for i,spec in enumerate(spec_list_10):\n",
    "    entire_subsystem.setSpeciesAmount(spec,10)\n",
    "\n",
    "\n",
    "# timepoints and get results\n",
    "# timepoints = np.linspace(0,10,100)\n",
    "# results, _ = entire_subsystem.simulateWithBioscrape(timepoints, sbml_warnings = False)\n",
    "\n",
    "# Get species IDs\n",
    "ATP_id3 = entire_subsystem.getSpeciesByName('metabolite_atp').getId()\n",
    "ADP_id = entire_subsystem.getSpeciesByName('metabolite_adp').getId()\n",
    "\n",
    "outside_H_id = entire_subsystem.getSpeciesByName('proton_outside_H').getId()\n",
    "inside_H_id = entire_subsystem.getSpeciesByName('proton_inside_H').getId()\n",
    "\n",
    "proton_pump_b_protein_id = entire_subsystem.getSpeciesByName('protein_proton_pump_b').getId()\n",
    "proton_pump_f_protein_id = entire_subsystem.getSpeciesByName('protein_proton_pump').getId()\n",
    "\n",
    "atp_synthase_b_protein_id = entire_subsystem.getSpeciesByName('protein_atpsyn_b').getId()\n",
    "atp_synthase_f_protein_id = entire_subsystem.getSpeciesByName('protein_atpsyn').getId()\n"
   ]
  },
  {
   "cell_type": "code",
   "execution_count": 41,
   "metadata": {},
   "outputs": [],
   "source": [
    "timepoints = np.linspace(0,200,100)\n",
    "results_everything, _ = entire_subsystem.simulateWithBioscrape(timepoints, sbml_warnings = False)"
   ]
  },
  {
   "cell_type": "code",
   "execution_count": 42,
   "metadata": {},
   "outputs": [
    {
     "data": {
      "text/html": [
       "\n",
       "\n",
       "\n",
       "\n",
       "\n",
       "\n",
       "  <div class=\"bk-root\" id=\"34cda282-37aa-4c9d-9c8b-9c1c48b9a7d4\" data-root-id=\"6450\"></div>\n"
      ]
     },
     "metadata": {},
     "output_type": "display_data"
    },
    {
     "data": {
      "application/javascript": [
       "(function(root) {\n",
       "  function embed_document(root) {\n",
       "    \n",
       "  var docs_json = {\"ea03e157-995f-44f0-b3d5-22dcf3df45dd\":{\"roots\":{\"references\":[{\"attributes\":{\"below\":[{\"id\":\"6461\",\"type\":\"LinearAxis\"}],\"center\":[{\"id\":\"6465\",\"type\":\"Grid\"},{\"id\":\"6470\",\"type\":\"Grid\"},{\"id\":\"6495\",\"type\":\"Legend\"}],\"left\":[{\"id\":\"6466\",\"type\":\"LinearAxis\"}],\"plot_height\":350,\"plot_width\":450,\"renderers\":[{\"id\":\"6487\",\"type\":\"GlyphRenderer\"},{\"id\":\"6500\",\"type\":\"GlyphRenderer\"},{\"id\":\"6514\",\"type\":\"GlyphRenderer\"},{\"id\":\"6530\",\"type\":\"GlyphRenderer\"},{\"id\":\"6548\",\"type\":\"GlyphRenderer\"}],\"title\":{\"id\":\"6451\",\"type\":\"Title\"},\"toolbar\":{\"id\":\"6477\",\"type\":\"Toolbar\"},\"x_range\":{\"id\":\"6453\",\"type\":\"DataRange1d\"},\"x_scale\":{\"id\":\"6457\",\"type\":\"LinearScale\"},\"y_range\":{\"id\":\"6455\",\"type\":\"DataRange1d\"},\"y_scale\":{\"id\":\"6459\",\"type\":\"LinearScale\"}},\"id\":\"6450\",\"subtype\":\"Figure\",\"type\":\"Plot\"},{\"attributes\":{\"ticker\":{\"id\":\"6462\",\"type\":\"BasicTicker\"}},\"id\":\"6465\",\"type\":\"Grid\"},{\"attributes\":{\"line_color\":\"#1f77b3\",\"line_width\":2,\"x\":{\"field\":\"x\"},\"y\":{\"field\":\"y\"}},\"id\":\"6485\",\"type\":\"Line\"},{\"attributes\":{},\"id\":\"6467\",\"type\":\"BasicTicker\"},{\"attributes\":{\"bottom_units\":\"screen\",\"fill_alpha\":{\"value\":0.5},\"fill_color\":{\"value\":\"lightgrey\"},\"left_units\":\"screen\",\"level\":\"overlay\",\"line_alpha\":{\"value\":1.0},\"line_color\":{\"value\":\"black\"},\"line_dash\":[4,4],\"line_width\":{\"value\":2},\"render_mode\":\"css\",\"right_units\":\"screen\",\"top_units\":\"screen\"},\"id\":\"6494\",\"type\":\"BoxAnnotation\"},{\"attributes\":{\"data_source\":{\"id\":\"6511\",\"type\":\"ColumnDataSource\"},\"glyph\":{\"id\":\"6512\",\"type\":\"Line\"},\"hover_glyph\":null,\"muted_glyph\":null,\"nonselection_glyph\":{\"id\":\"6513\",\"type\":\"Line\"},\"selection_glyph\":null,\"view\":{\"id\":\"6515\",\"type\":\"CDSView\"}},\"id\":\"6514\",\"type\":\"GlyphRenderer\"},{\"attributes\":{\"axis_label\":\"concentration (nM)\",\"formatter\":{\"id\":\"6492\",\"type\":\"BasicTickFormatter\"},\"ticker\":{\"id\":\"6467\",\"type\":\"BasicTicker\"}},\"id\":\"6466\",\"type\":\"LinearAxis\"},{\"attributes\":{},\"id\":\"6561\",\"type\":\"Selection\"},{\"attributes\":{\"callback\":null,\"data\":{\"x\":{\"__ndarray__\":\"AAAAAAAAAAB2n+/aMj2hP3af79oyPbE/MW9nSMzbuT92n+/aMj3BP1SHq5F/jMU/MW9nSMzbyT8PVyP/GCvOP3af79oyPdE/ZZNNNtlk0z9Uh6uRf4zVP0N7Ce0ltNc/MW9nSMzb2T8gY8WjcgPcPw9XI/8YK94/f6VArV8p4D92n+/aMj3hP26ZnggGUeI/ZZNNNtlk4z9djfxjrHjkP1SHq5F/jOU/TIFav1Kg5j9DewntJbTnPzt1uBr5x+g/MW9nSMzb6T8paRZ2n+/qPyBjxaNyA+w/F1100UUX7T8PVyP/GCvuPwZR0izsPu8/f6VArV8p8D97IhhESbPwP3af79oyPfE/chzHcRzH8T9umZ4IBlHyP2oWdp/v2vI/ZZNNNtlk8z9hECXNwu7zP12N/GOsePQ/WQrU+pUC9T9Uh6uRf4z1P1AEgyhpFvY/TIFav1Kg9j9H/jFWPCr3P0N7Ce0ltPc/P/jggw8++D87dbga+cf4Pzbyj7HiUfk/MW9nSMzb+T8t7D7ftWX6PylpFnaf7/o/JObtDIl5+z8gY8WjcgP8PxzgnDpcjfw/F1100UUX/T8T2ktoL6H9Pw9XI/8YK/4/C9T6lQK1/j8GUdIs7D7/PwLOqcPVyP8/f6VArV8pAED9Y6x4VG4AQHsiGERJswBA+eCDDz74AEB2n+/aMj0BQPRdW6YnggFAchzHcRzHAUDw2jI9EQwCQG6ZnggGUQJA7FcK1PqVAkBqFnaf79oCQOfU4WrkHwNAZZNNNtlkA0DjUbkBzqkDQGEQJc3C7gNA386QmLczBEBdjfxjrHgEQNtLaC+hvQRAWQrU+pUCBUDWyD/GikcFQFSHq5F/jAVA0kUXXXTRBUBQBIMoaRYGQM7C7vNdWwZATIFav1KgBkDKP8aKR+UGQEf+MVY8KgdAxbydITFvB0BDewntJbQHQME5dbga+QdAP/jggw8+CEC9tkxPBIMIQDt1uBr5xwhAuTMk5u0MCUA28o+x4lEJQLSw+3zXlglAMW9nSMzbCUCvLdMTwSAKQC3sPt+1ZQpAq6qqqqqqCkA=\",\"dtype\":\"float64\",\"shape\":[100]},\"y\":{\"__ndarray__\":\"AAAAAAAAAACUknnBNJBkP7nYuCXCLJM/z3UVE4Ohqz+7McltAuu5P9tQ0fRlOcM/YQePxeDtyD/+q0armdXNPy6UauOr+tA/uFKqWO2z0j+3CKQjjiXUP+OaRknqXNU/4pjb59dk1j9lNNuW90XXP1gBt003B9g/tlaMXyuu2D922HDBUj/ZPw6v6FtOvtk/duzO8A0u2j90Gtsl9JDaP4F5bEjz6No/Tpym/KM32z+V/+woV37bP5jxawwkvts/CYDbdfP32z9mWuZtiCzcP02siViHXNw/otbLc3uI3D+I8m1h27DcPzwbubEM1tw/Kk8AyGb43D945Z1KNRjdP2UCqu65Nd0/BNhCBC5R3T8eqjX6w2rdPyOFZBKogt0/7JgRkwGZ3T/hu6Iq863dP+nucdKbwd0/3fX6KxfU3T8GUozxfeXdPzBcDmLm9d0/hHdVcmQF3j+kGMUtChTeP6tcfeLnId4/zUDmVAwv3j++NP/xhDvePwkfLeldR94/ZE3KWKJS3j9MCfRmXF3eP0sqJluVZ94/F0cptVVx3j84oHw+pXreP85dfiOLg94/ePUQ+g2M3j+zQijVM5TeP4pQPU8CnN4/ohcHkn6j3j/ebJlqrareP4X6WEeTsd4/FMDjQjS43j+Hfqw8lL7eP5vsR6y2xN4/WSwt8J7K3j8vWq8SUNDeP0pHb/bM1d4/i0bqSBjb3j/iyMiLNODeP7m3cxYk5d4/j0+oGunp3j+Qzqamhe7eP9WQWqj78t4/RfRQ70z33j99K1wve/veP3jaMgKI/94/Rjis6HQD3z808ThPQwffP4gx/ov0Ct8/Wr6K4YkO3z+/Ky2DBBLfP4vU5Y9lFd8/aY3XFa4Y3z/mVbob3xvfP4wavpL5Ht8/XvlYY/4h3z8luu1o7iTfP3Tgb3PKJ98/NUfxSZMq3z/k2qmlSS3fPwIzHzruL98/StAftIEy3z828KavBDXfPwN7Z8p3N98/kOqEl9s53z+nFeKdMDzfP+3PLGx3Pt8/sw3fc7BA3z+BqJc73ELfP3+MySv7RN8/WqfDvA1H3z8=\",\"dtype\":\"float64\",\"shape\":[100]}},\"selected\":{\"id\":\"6541\",\"type\":\"Selection\"},\"selection_policy\":{\"id\":\"6542\",\"type\":\"UnionRenderers\"}},\"id\":\"6511\",\"type\":\"ColumnDataSource\"},{\"attributes\":{\"label\":{\"value\":\"outside_H\"},\"renderers\":[{\"id\":\"6500\",\"type\":\"GlyphRenderer\"}]},\"id\":\"6510\",\"type\":\"LegendItem\"},{\"attributes\":{\"label\":{\"value\":\"inside_H\"},\"renderers\":[{\"id\":\"6514\",\"type\":\"GlyphRenderer\"}]},\"id\":\"6526\",\"type\":\"LegendItem\"},{\"attributes\":{},\"id\":\"6492\",\"type\":\"BasicTickFormatter\"},{\"attributes\":{\"source\":{\"id\":\"6484\",\"type\":\"ColumnDataSource\"}},\"id\":\"6488\",\"type\":\"CDSView\"},{\"attributes\":{\"line_alpha\":0.1,\"line_color\":\"#1f77b4\",\"line_width\":2,\"x\":{\"field\":\"x\"},\"y\":{\"field\":\"y\"}},\"id\":\"6513\",\"type\":\"Line\"},{\"attributes\":{\"line_color\":\"#8c564b\",\"line_width\":2,\"x\":{\"field\":\"x\"},\"y\":{\"field\":\"y\"}},\"id\":\"6546\",\"type\":\"Line\"},{\"attributes\":{\"label\":{\"value\":\"bound proton pump\"},\"renderers\":[{\"id\":\"6548\",\"type\":\"GlyphRenderer\"}]},\"id\":\"6564\",\"type\":\"LegendItem\"},{\"attributes\":{},\"id\":\"6490\",\"type\":\"BasicTickFormatter\"},{\"attributes\":{},\"id\":\"6524\",\"type\":\"UnionRenderers\"},{\"attributes\":{},\"id\":\"6562\",\"type\":\"UnionRenderers\"},{\"attributes\":{\"callback\":null,\"data\":{\"x\":{\"__ndarray__\":\"AAAAAAAAAAB2n+/aMj2hP3af79oyPbE/MW9nSMzbuT92n+/aMj3BP1SHq5F/jMU/MW9nSMzbyT8PVyP/GCvOP3af79oyPdE/ZZNNNtlk0z9Uh6uRf4zVP0N7Ce0ltNc/MW9nSMzb2T8gY8WjcgPcPw9XI/8YK94/f6VArV8p4D92n+/aMj3hP26ZnggGUeI/ZZNNNtlk4z9djfxjrHjkP1SHq5F/jOU/TIFav1Kg5j9DewntJbTnPzt1uBr5x+g/MW9nSMzb6T8paRZ2n+/qPyBjxaNyA+w/F1100UUX7T8PVyP/GCvuPwZR0izsPu8/f6VArV8p8D97IhhESbPwP3af79oyPfE/chzHcRzH8T9umZ4IBlHyP2oWdp/v2vI/ZZNNNtlk8z9hECXNwu7zP12N/GOsePQ/WQrU+pUC9T9Uh6uRf4z1P1AEgyhpFvY/TIFav1Kg9j9H/jFWPCr3P0N7Ce0ltPc/P/jggw8++D87dbga+cf4Pzbyj7HiUfk/MW9nSMzb+T8t7D7ftWX6PylpFnaf7/o/JObtDIl5+z8gY8WjcgP8PxzgnDpcjfw/F1100UUX/T8T2ktoL6H9Pw9XI/8YK/4/C9T6lQK1/j8GUdIs7D7/PwLOqcPVyP8/f6VArV8pAED9Y6x4VG4AQHsiGERJswBA+eCDDz74AEB2n+/aMj0BQPRdW6YnggFAchzHcRzHAUDw2jI9EQwCQG6ZnggGUQJA7FcK1PqVAkBqFnaf79oCQOfU4WrkHwNAZZNNNtlkA0DjUbkBzqkDQGEQJc3C7gNA386QmLczBEBdjfxjrHgEQNtLaC+hvQRAWQrU+pUCBUDWyD/GikcFQFSHq5F/jAVA0kUXXXTRBUBQBIMoaRYGQM7C7vNdWwZATIFav1KgBkDKP8aKR+UGQEf+MVY8KgdAxbydITFvB0BDewntJbQHQME5dbga+QdAP/jggw8+CEC9tkxPBIMIQDt1uBr5xwhAuTMk5u0MCUA28o+x4lEJQLSw+3zXlglAMW9nSMzbCUCvLdMTwSAKQC3sPt+1ZQpAq6qqqqqqCkA=\",\"dtype\":\"float64\",\"shape\":[100]},\"y\":{\"__ndarray__\":\"AAAAAAAAAAA5o3CQtk3FPkOsQBsxEPU+K1GEa3uRET+Owbw6spYkPz4w0gyX4zM/ltbgG6EBQT9tX72fUr1KP53M6s93xVM/iUYIl6znWz8HpODDzftiP62IOAfEE2k/LMgBtqwpcD/Sz7BD0Wd0P80ZXmbDTXk/vJhc9hXkfj8t1q//U5mCP1C4+flkIIY/dlKd060Kij8ogl3NcVuOP+PA9wjoipE/3jpguWQelD+JKyrPoemWP38goxEF7pk/Refe0eYsnT/3caBsyFOgPwgH4HaeL6I/ZdfOl4kqpD+yntJHFEWmP+rzA8m+f6g/4kqzwP7aqj+ATWoRP1etP7+o+vTf9K8/E50fpxtasT+QwCSTyMqyP5hucSOYTLQ/Od6fcqfftT8wGM6oD4S3P4nIRFTmObk/Dk4OuT0Buz87MrUhJdq8P0TLkyWpxL4/7DPa9WlgwD8QYHiyVmfBPwWl3sEdd8I/frk1NsGPwz+BuyJRQrHEP40s6Zeh28U/ZGtk5d4Oxz/hEpl6+UrIP0A1lA3wj8k/DGLC1sDdyj+I73GdaTTMP2DnocLnk80/tzvASjj8zj+sHjzzqzbQPyVTtH2h89A/MiB/1fq00T/MnqbstXrSP7vHfJnQRNM/GcxMmUgT1D9PwdmSG+bUP7wdkxhHvdU/ojqIqsiY1j8bnUy4nXjXP1gul6LDXNg/sRDIvDdF2T+yQehN9zHaP55XTpL/Its/UY+evE0Y3D94Tcz23hHdP9nCmGKwD94/i3bkGr8R3z+X/yAaBAzgP35ZxV5EkeA/ciRB4J4Y4T8jAjYhEqLhPzeiPqKcLeI/sA4o4jy74j/9eyVe8UrjP+UW/5G43OM/4Vw7+JBw5D/+LUUKeQblPwUQjkBvnuU/nTyrEnI45j8dNHb3f9TmP1vSKGWXcuc/PqFm0bYS6D9aNVex3LToP5afwnkHWek/gGcanzX/6T8QhIiVZafqP47//tCVUes/5iJExcT96z+szP3l8KvsP9nIu6YYXO0/tyIBezoO7j8QcEzWVMLuPwh2HyxmeO8/4NyvdzYY8D8=\",\"dtype\":\"float64\",\"shape\":[100]}},\"selected\":{\"id\":\"6561\",\"type\":\"Selection\"},\"selection_policy\":{\"id\":\"6562\",\"type\":\"UnionRenderers\"}},\"id\":\"6527\",\"type\":\"ColumnDataSource\"},{\"attributes\":{\"data_source\":{\"id\":\"6497\",\"type\":\"ColumnDataSource\"},\"glyph\":{\"id\":\"6498\",\"type\":\"Line\"},\"hover_glyph\":null,\"muted_glyph\":null,\"nonselection_glyph\":{\"id\":\"6499\",\"type\":\"Line\"},\"selection_glyph\":null,\"view\":{\"id\":\"6501\",\"type\":\"CDSView\"}},\"id\":\"6500\",\"type\":\"GlyphRenderer\"},{\"attributes\":{\"click_policy\":\"hide\",\"items\":[{\"id\":\"6496\",\"type\":\"LegendItem\"},{\"id\":\"6510\",\"type\":\"LegendItem\"},{\"id\":\"6526\",\"type\":\"LegendItem\"},{\"id\":\"6544\",\"type\":\"LegendItem\"},{\"id\":\"6564\",\"type\":\"LegendItem\"}],\"location\":\"center_right\"},\"id\":\"6495\",\"type\":\"Legend\"},{\"attributes\":{\"line_color\":\"#9367bc\",\"line_width\":2,\"x\":{\"field\":\"x\"},\"y\":{\"field\":\"y\"}},\"id\":\"6528\",\"type\":\"Line\"},{\"attributes\":{},\"id\":\"6472\",\"type\":\"WheelZoomTool\"},{\"attributes\":{\"text\":\"with ATP Synthase, Proton Pump, ATP Use\"},\"id\":\"6451\",\"type\":\"Title\"},{\"attributes\":{\"source\":{\"id\":\"6511\",\"type\":\"ColumnDataSource\"}},\"id\":\"6515\",\"type\":\"CDSView\"},{\"attributes\":{},\"id\":\"6475\",\"type\":\"ResetTool\"},{\"attributes\":{\"line_alpha\":0.1,\"line_color\":\"#1f77b4\",\"line_width\":2,\"x\":{\"field\":\"x\"},\"y\":{\"field\":\"y\"}},\"id\":\"6529\",\"type\":\"Line\"},{\"attributes\":{\"line_alpha\":0.1,\"line_color\":\"#1f77b4\",\"line_width\":2,\"x\":{\"field\":\"x\"},\"y\":{\"field\":\"y\"}},\"id\":\"6547\",\"type\":\"Line\"},{\"attributes\":{\"callback\":null},\"id\":\"6453\",\"type\":\"DataRange1d\"},{\"attributes\":{\"data_source\":{\"id\":\"6527\",\"type\":\"ColumnDataSource\"},\"glyph\":{\"id\":\"6528\",\"type\":\"Line\"},\"hover_glyph\":null,\"muted_glyph\":null,\"nonselection_glyph\":{\"id\":\"6529\",\"type\":\"Line\"},\"selection_glyph\":null,\"view\":{\"id\":\"6531\",\"type\":\"CDSView\"}},\"id\":\"6530\",\"type\":\"GlyphRenderer\"},{\"attributes\":{\"callback\":null},\"id\":\"6455\",\"type\":\"DataRange1d\"},{\"attributes\":{},\"id\":\"6476\",\"type\":\"HelpTool\"},{\"attributes\":{},\"id\":\"6457\",\"type\":\"LinearScale\"},{\"attributes\":{\"active_drag\":\"auto\",\"active_inspect\":\"auto\",\"active_multi\":null,\"active_scroll\":\"auto\",\"active_tap\":\"auto\",\"tools\":[{\"id\":\"6471\",\"type\":\"PanTool\"},{\"id\":\"6472\",\"type\":\"WheelZoomTool\"},{\"id\":\"6473\",\"type\":\"BoxZoomTool\"},{\"id\":\"6474\",\"type\":\"SaveTool\"},{\"id\":\"6475\",\"type\":\"ResetTool\"},{\"id\":\"6476\",\"type\":\"HelpTool\"}]},\"id\":\"6477\",\"type\":\"Toolbar\"},{\"attributes\":{\"line_color\":\"#2ba02b\",\"line_width\":2,\"x\":{\"field\":\"x\"},\"y\":{\"field\":\"y\"}},\"id\":\"6512\",\"type\":\"Line\"},{\"attributes\":{\"callback\":null,\"data\":{\"x\":{\"__ndarray__\":\"AAAAAAAAAAB2n+/aMj2hP3af79oyPbE/MW9nSMzbuT92n+/aMj3BP1SHq5F/jMU/MW9nSMzbyT8PVyP/GCvOP3af79oyPdE/ZZNNNtlk0z9Uh6uRf4zVP0N7Ce0ltNc/MW9nSMzb2T8gY8WjcgPcPw9XI/8YK94/f6VArV8p4D92n+/aMj3hP26ZnggGUeI/ZZNNNtlk4z9djfxjrHjkP1SHq5F/jOU/TIFav1Kg5j9DewntJbTnPzt1uBr5x+g/MW9nSMzb6T8paRZ2n+/qPyBjxaNyA+w/F1100UUX7T8PVyP/GCvuPwZR0izsPu8/f6VArV8p8D97IhhESbPwP3af79oyPfE/chzHcRzH8T9umZ4IBlHyP2oWdp/v2vI/ZZNNNtlk8z9hECXNwu7zP12N/GOsePQ/WQrU+pUC9T9Uh6uRf4z1P1AEgyhpFvY/TIFav1Kg9j9H/jFWPCr3P0N7Ce0ltPc/P/jggw8++D87dbga+cf4Pzbyj7HiUfk/MW9nSMzb+T8t7D7ftWX6PylpFnaf7/o/JObtDIl5+z8gY8WjcgP8PxzgnDpcjfw/F1100UUX/T8T2ktoL6H9Pw9XI/8YK/4/C9T6lQK1/j8GUdIs7D7/PwLOqcPVyP8/f6VArV8pAED9Y6x4VG4AQHsiGERJswBA+eCDDz74AEB2n+/aMj0BQPRdW6YnggFAchzHcRzHAUDw2jI9EQwCQG6ZnggGUQJA7FcK1PqVAkBqFnaf79oCQOfU4WrkHwNAZZNNNtlkA0DjUbkBzqkDQGEQJc3C7gNA386QmLczBEBdjfxjrHgEQNtLaC+hvQRAWQrU+pUCBUDWyD/GikcFQFSHq5F/jAVA0kUXXXTRBUBQBIMoaRYGQM7C7vNdWwZATIFav1KgBkDKP8aKR+UGQEf+MVY8KgdAxbydITFvB0BDewntJbQHQME5dbga+QdAP/jggw8+CEC9tkxPBIMIQDt1uBr5xwhAuTMk5u0MCUA28o+x4lEJQLSw+3zXlglAMW9nSMzbCUCvLdMTwSAKQC3sPt+1ZQpAq6qqqqqqCkA=\",\"dtype\":\"float64\",\"shape\":[100]},\"y\":{\"__ndarray__\":\"AAAAAAAAAAD+onCQtk3FPgKsQBsxEPU+7VCEa3uRET9Hwbw6spYkP/0v0gyX4zM/Y9bgG6EBQT8iX72fUr1KP2zM6s93xVM/R0YIl6znWz/io+DDzftiP3SIOAfEE2k/58cBtqwpcD9Iz7BD0Wd0P9wYXmbDTXk/SZdc9hXkfj8k1a//U5mCP+i2+flkIIY/o1Cd060Kij/cf13NcVuOP32/9wjoipE/LzlguWQelD+MKSrPoemWPy0eoxEF7pk/l+Te0eYsnT9wcKBsyFOgP04F4HaeL6I/d9XOl4kqpD+KnNJHFEWmP4jxA8m+f6g/P0izwP7aqj+cSmoRP1etP5il+vTf9K8/XZsfpxtasT+2viSTyMqyP5hscSOYTLQ/D9yfcqfftT/dFc6oD4S3PwzGRFTmObk/ZksOuT0Buz9jL7UhJdq8PzzIkyWpxL4/UDLa9WlgwD9cXniyVmfBPzej3sEdd8I/l7c1NsGPwz+AuSJRQrHEP3Eq6Zeh28U/Kmlk5d4Oxz+NEJl6+UrIP84ylA3wj8k/fl/C1sDdyj/Y7HGdaTTMP5LkocLnk80/yjjASjj8zj8kHTzzqzbQP41RtH2h89A/iR5/1fq00T8SnabstXrSP/DFfJnQRNM/O8pMmUgT1D9gv9mSG+bUP7obkxhHvdU/jTiIqsiY1j/ymky4nXjXPxwsl6LDXNg/Yg7IvDdF2T9PP+hN9zHaPyZVTpL/Its/xoyevE0Y3D/YSsz23hHdPyTAmGKwD94/wHPkGr8R3z8n/iAaBAzgPwNYxV5EkeA/6yJB4J4Y4T+QADYhEqLhP5mgPqKcLeI/BQ0o4jy74j9GeiVe8UrjPyIV/5G43OM/E1s7+JBw5D8kLEUKeQblPx4OjkBvnuU/rDqrEnI45j8eMnb3f9TmP0/QKGWXcuc/JZ9m0bYS6D8zM1ex3LToP2GdwnkHWek/PGUanzX/6T++gYiVZafqPyz9/tCVUes/diBExcT96z8uyv3l8KvsP0zGu6YYXO0/HCABezoO7j9mbUzWVMLuP05zHyxmeO8/fNuvdzYY8D8=\",\"dtype\":\"float64\",\"shape\":[100]}},\"selected\":{\"id\":\"7347\",\"type\":\"Selection\"},\"selection_policy\":{\"id\":\"7348\",\"type\":\"UnionRenderers\"}},\"id\":\"6545\",\"type\":\"ColumnDataSource\"},{\"attributes\":{},\"id\":\"6471\",\"type\":\"PanTool\"},{\"attributes\":{\"line_alpha\":0.1,\"line_color\":\"#1f77b4\",\"line_width\":2,\"x\":{\"field\":\"x\"},\"y\":{\"field\":\"y\"}},\"id\":\"6486\",\"type\":\"Line\"},{\"attributes\":{\"source\":{\"id\":\"6527\",\"type\":\"ColumnDataSource\"}},\"id\":\"6531\",\"type\":\"CDSView\"},{\"attributes\":{\"label\":{\"value\":\"atp\"},\"renderers\":[{\"id\":\"6487\",\"type\":\"GlyphRenderer\"}]},\"id\":\"6496\",\"type\":\"LegendItem\"},{\"attributes\":{},\"id\":\"6541\",\"type\":\"Selection\"},{\"attributes\":{\"callback\":null,\"data\":{\"x\":{\"__ndarray__\":\"AAAAAAAAAAB2n+/aMj2hP3af79oyPbE/MW9nSMzbuT92n+/aMj3BP1SHq5F/jMU/MW9nSMzbyT8PVyP/GCvOP3af79oyPdE/ZZNNNtlk0z9Uh6uRf4zVP0N7Ce0ltNc/MW9nSMzb2T8gY8WjcgPcPw9XI/8YK94/f6VArV8p4D92n+/aMj3hP26ZnggGUeI/ZZNNNtlk4z9djfxjrHjkP1SHq5F/jOU/TIFav1Kg5j9DewntJbTnPzt1uBr5x+g/MW9nSMzb6T8paRZ2n+/qPyBjxaNyA+w/F1100UUX7T8PVyP/GCvuPwZR0izsPu8/f6VArV8p8D97IhhESbPwP3af79oyPfE/chzHcRzH8T9umZ4IBlHyP2oWdp/v2vI/ZZNNNtlk8z9hECXNwu7zP12N/GOsePQ/WQrU+pUC9T9Uh6uRf4z1P1AEgyhpFvY/TIFav1Kg9j9H/jFWPCr3P0N7Ce0ltPc/P/jggw8++D87dbga+cf4Pzbyj7HiUfk/MW9nSMzb+T8t7D7ftWX6PylpFnaf7/o/JObtDIl5+z8gY8WjcgP8PxzgnDpcjfw/F1100UUX/T8T2ktoL6H9Pw9XI/8YK/4/C9T6lQK1/j8GUdIs7D7/PwLOqcPVyP8/f6VArV8pAED9Y6x4VG4AQHsiGERJswBA+eCDDz74AEB2n+/aMj0BQPRdW6YnggFAchzHcRzHAUDw2jI9EQwCQG6ZnggGUQJA7FcK1PqVAkBqFnaf79oCQOfU4WrkHwNAZZNNNtlkA0DjUbkBzqkDQGEQJc3C7gNA386QmLczBEBdjfxjrHgEQNtLaC+hvQRAWQrU+pUCBUDWyD/GikcFQFSHq5F/jAVA0kUXXXTRBUBQBIMoaRYGQM7C7vNdWwZATIFav1KgBkDKP8aKR+UGQEf+MVY8KgdAxbydITFvB0BDewntJbQHQME5dbga+QdAP/jggw8+CEC9tkxPBIMIQDt1uBr5xwhAuTMk5u0MCUA28o+x4lEJQLSw+3zXlglAMW9nSMzbCUCvLdMTwSAKQC3sPt+1ZQpAq6qqqqqqCkA=\",\"dtype\":\"float64\",\"shape\":[100]},\"y\":{\"__ndarray__\":\"AAAAAAAAJEBt6LP8tv4jQJoj7Z5p9iNAkOrsfF7kI0CjbST7KcwjQMS6LGgasyNA7sPpfEicI0Bc5VKZqYgjQGir5KAqeCNAdK06lWBqI0DF3+KO014jQDLLta0YVSNAQCPBQNlMI0BkJklD0EUjQPxHkkXGPyNAUJ0DpY46I0BDefRpBTYjQI26II0NMiNAooh5kI8uI0AzJ9FeeCsjQDqcvGW4KCNAJMsa4EImI0AJmLhGDSQjQHignN8OIiNABSRRZEAgI0AzzZC8mx4jQKOyO8UbHSNAUaFhJLwbI0BxkPQkeRojQCk3cppPGSNAi/2/yTwYI0DYEKtVPhcjQPGvijBSFiNAQundj3YVI0CzUi7gqRQjQNvbbL/qEyNAOnNn8zcTI0Aj6qpmkBIjQIxwbCHzESNAVSigRl8RI0B0nXMQ1BAjQCKN78xQECNASVRt3NQPI0A/15GuXw8jQCAV7MDwDiNA/81YnYcOI0BgBnDYIw4jQA+XthDFDSNAna057WoNI0C8X8gcFQ0jQLTOJlXDDCNAzrVWUnUMI0AEGwzWKgwjQBgN5KbjCyNAW3gvkJ8LI0DxvVZhXgsjQIMVhu0fCyNASsdvC+QKI0CgNKuUqgojQDQ4xWVzCiNACOLoXT4KI0AVnBpeCwojQKXAnUraCSNAqJZ+CKsJI0A6hWp/fQkjQNKFTJhRCSNA2a24PScJI0DGuaFb/ggjQE9iTN/WCCNAkL0qt7AII0CaycrSiwgjQIgrvSJoCCNAbHiFmEUII0CzHoUmJAgjQDtp7r8DCCNATJ66WOQHI0CFOIblxQcjQIMOoFuoByNAHarzsIsHI0CzlubbbwcjQGzRgNNUByNApUNRjzoHI0BhLSIHIQcjQD0PajMIByNARzjlDPAGI0BBkriM2AYjQA+BZKzBBiNA2XWwZasGI0A7sdKylQYjQHkGL46ABiNAjwFf8msGI0CPyILaVwYjQDnErEFEBiNAvthDIzEGI0Bm7xB7HgYjQJOZnkQMBiNApQdhfPoFI0DPQiMe6QUjQK6zoSbYBSNA2OIZkscFI0A=\",\"dtype\":\"float64\",\"shape\":[100]}},\"selected\":{\"id\":\"6523\",\"type\":\"Selection\"},\"selection_policy\":{\"id\":\"6524\",\"type\":\"UnionRenderers\"}},\"id\":\"6497\",\"type\":\"ColumnDataSource\"},{\"attributes\":{\"label\":{\"value\":\"bound atp synthase\"},\"renderers\":[{\"id\":\"6530\",\"type\":\"GlyphRenderer\"}]},\"id\":\"6544\",\"type\":\"LegendItem\"},{\"attributes\":{\"dimension\":1,\"ticker\":{\"id\":\"6467\",\"type\":\"BasicTicker\"}},\"id\":\"6470\",\"type\":\"Grid\"},{\"attributes\":{\"line_alpha\":0.1,\"line_color\":\"#1f77b4\",\"line_width\":2,\"x\":{\"field\":\"x\"},\"y\":{\"field\":\"y\"}},\"id\":\"6499\",\"type\":\"Line\"},{\"attributes\":{},\"id\":\"6542\",\"type\":\"UnionRenderers\"},{\"attributes\":{},\"id\":\"7347\",\"type\":\"Selection\"},{\"attributes\":{\"data_source\":{\"id\":\"6484\",\"type\":\"ColumnDataSource\"},\"glyph\":{\"id\":\"6485\",\"type\":\"Line\"},\"hover_glyph\":null,\"muted_glyph\":null,\"nonselection_glyph\":{\"id\":\"6486\",\"type\":\"Line\"},\"selection_glyph\":null,\"view\":{\"id\":\"6488\",\"type\":\"CDSView\"}},\"id\":\"6487\",\"type\":\"GlyphRenderer\"},{\"attributes\":{},\"id\":\"6459\",\"type\":\"LinearScale\"},{\"attributes\":{\"line_color\":\"#ff7e0e\",\"line_width\":2,\"x\":{\"field\":\"x\"},\"y\":{\"field\":\"y\"}},\"id\":\"6498\",\"type\":\"Line\"},{\"attributes\":{},\"id\":\"6507\",\"type\":\"Selection\"},{\"attributes\":{\"callback\":null,\"data\":{\"x\":{\"__ndarray__\":\"AAAAAAAAAAB2n+/aMj2hP3af79oyPbE/MW9nSMzbuT92n+/aMj3BP1SHq5F/jMU/MW9nSMzbyT8PVyP/GCvOP3af79oyPdE/ZZNNNtlk0z9Uh6uRf4zVP0N7Ce0ltNc/MW9nSMzb2T8gY8WjcgPcPw9XI/8YK94/f6VArV8p4D92n+/aMj3hP26ZnggGUeI/ZZNNNtlk4z9djfxjrHjkP1SHq5F/jOU/TIFav1Kg5j9DewntJbTnPzt1uBr5x+g/MW9nSMzb6T8paRZ2n+/qPyBjxaNyA+w/F1100UUX7T8PVyP/GCvuPwZR0izsPu8/f6VArV8p8D97IhhESbPwP3af79oyPfE/chzHcRzH8T9umZ4IBlHyP2oWdp/v2vI/ZZNNNtlk8z9hECXNwu7zP12N/GOsePQ/WQrU+pUC9T9Uh6uRf4z1P1AEgyhpFvY/TIFav1Kg9j9H/jFWPCr3P0N7Ce0ltPc/P/jggw8++D87dbga+cf4Pzbyj7HiUfk/MW9nSMzb+T8t7D7ftWX6PylpFnaf7/o/JObtDIl5+z8gY8WjcgP8PxzgnDpcjfw/F1100UUX/T8T2ktoL6H9Pw9XI/8YK/4/C9T6lQK1/j8GUdIs7D7/PwLOqcPVyP8/f6VArV8pAED9Y6x4VG4AQHsiGERJswBA+eCDDz74AEB2n+/aMj0BQPRdW6YnggFAchzHcRzHAUDw2jI9EQwCQG6ZnggGUQJA7FcK1PqVAkBqFnaf79oCQOfU4WrkHwNAZZNNNtlkA0DjUbkBzqkDQGEQJc3C7gNA386QmLczBEBdjfxjrHgEQNtLaC+hvQRAWQrU+pUCBUDWyD/GikcFQFSHq5F/jAVA0kUXXXTRBUBQBIMoaRYGQM7C7vNdWwZATIFav1KgBkDKP8aKR+UGQEf+MVY8KgdAxbydITFvB0BDewntJbQHQME5dbga+QdAP/jggw8+CEC9tkxPBIMIQDt1uBr5xwhAuTMk5u0MCUA28o+x4lEJQLSw+3zXlglAMW9nSMzbCUCvLdMTwSAKQC3sPt+1ZQpAq6qqqqqqCkA=\",\"dtype\":\"float64\",\"shape\":[100]},\"y\":{\"__ndarray__\":\"AAAAAAAAJEA61Q+pe8GjP1Xodzn399Q/ThofTXzs7z/u2PSvedr+PygQaa5ySAdAhD7YhIqADkAo30me3l0SQF79zO1d/RRAKDglhMYuF0DFiD9i3QQZQGzs+PGakBpAhXCTHNrfG0CYurlJof0cQLWQHyTK8h1AyI6eqXTGHkBEK+KEXn4fQCT9bMyUDyBA+Py+p0pWIEAJJgtY1pQgQBawdY51zCBA39VjsSz+IEA56tJR0iohQAYuMjMYUyFAO6gXa5J3IUAUdeUBvZghQBP7MG4AtyFAitUCJLXSIUDCFDlwJuwhQKotlcOUAyJAj08tjTcZIkDFgFy6Pi0iQGl7NO7TPyJAaRtvgBtRIkCXMJFNNWEiQL2Vt2E9cCJA/ya8hkx+IkCWreW3eIsiQHfdC4XVlyJAYT4rZHSjIkB4zh72ZK4iQLcW9UK1uCJAXYdq6XHCIkDsXypMpssiQPWdtrVc1CJApFg3eJ7cIkBCCI4KdOQiQDNm1h3l6yJAQd8GtfjyIkD+yDM2tfkiQDumEHsgACNApCPl3j8GI0A4g0hLGAwjQIuzPkSuESNA3aKA8AUXI0CNc3IjIxwjQOm2eWQJISNAKR/q9bslI0DucBncPSojQLhcz+GRLiNAJAjXnboyI0Bq2Jt4ujYjQCluEq2TOiNAavUxUEg+I0CoXadR2kEjQPxm/39LRSNApNPeip1II0ASAqAF0ksjQAdaqGnqTiNAxZE+GOhRI0CyrGJczFQjQBDBqWyYVyNAwZyebE1aI0BdoTVu7FwjQI8IC3N2XyNAeO9cbexhI0DN6QRCT2QjQA80FcifZiNA9+y2yt5oI0CpBeoJDWsjQBb3vDorbSNAOTI6CDpvI0CtKyIVOnEjQAm0o/orcyNAOCMvShB1I0DxILSN53YjQBS++keyeCNAF1pv9XB6I0Dc53sLJHwjQHzysvrLfSNAF/XELWl/I0DHYLUJ/IAjQHNKe++EgiNAn9AGOwSEI0Bb7NdDeoUjQBWjB17nhiNAJSLS2EuII0A4E4gAqIkjQHtKAh78iiNAAHcad0iMI0A=\",\"dtype\":\"float64\",\"shape\":[100]}},\"selected\":{\"id\":\"6507\",\"type\":\"Selection\"},\"selection_policy\":{\"id\":\"6508\",\"type\":\"UnionRenderers\"}},\"id\":\"6484\",\"type\":\"ColumnDataSource\"},{\"attributes\":{\"source\":{\"id\":\"6497\",\"type\":\"ColumnDataSource\"}},\"id\":\"6501\",\"type\":\"CDSView\"},{\"attributes\":{\"source\":{\"id\":\"6545\",\"type\":\"ColumnDataSource\"}},\"id\":\"6549\",\"type\":\"CDSView\"},{\"attributes\":{},\"id\":\"6508\",\"type\":\"UnionRenderers\"},{\"attributes\":{\"axis_label\":\"time (hrs)\",\"formatter\":{\"id\":\"6490\",\"type\":\"BasicTickFormatter\"},\"ticker\":{\"id\":\"6462\",\"type\":\"BasicTicker\"}},\"id\":\"6461\",\"type\":\"LinearAxis\"},{\"attributes\":{\"overlay\":{\"id\":\"6494\",\"type\":\"BoxAnnotation\"}},\"id\":\"6473\",\"type\":\"BoxZoomTool\"},{\"attributes\":{},\"id\":\"7348\",\"type\":\"UnionRenderers\"},{\"attributes\":{\"data_source\":{\"id\":\"6545\",\"type\":\"ColumnDataSource\"},\"glyph\":{\"id\":\"6546\",\"type\":\"Line\"},\"hover_glyph\":null,\"muted_glyph\":null,\"nonselection_glyph\":{\"id\":\"6547\",\"type\":\"Line\"},\"selection_glyph\":null,\"view\":{\"id\":\"6549\",\"type\":\"CDSView\"}},\"id\":\"6548\",\"type\":\"GlyphRenderer\"},{\"attributes\":{},\"id\":\"6523\",\"type\":\"Selection\"},{\"attributes\":{},\"id\":\"6462\",\"type\":\"BasicTicker\"},{\"attributes\":{},\"id\":\"6474\",\"type\":\"SaveTool\"}],\"root_ids\":[\"6450\"]},\"title\":\"Bokeh Application\",\"version\":\"1.4.0\"}};\n",
       "  var render_items = [{\"docid\":\"ea03e157-995f-44f0-b3d5-22dcf3df45dd\",\"roots\":{\"6450\":\"34cda282-37aa-4c9d-9c8b-9c1c48b9a7d4\"}}];\n",
       "  root.Bokeh.embed.embed_items_notebook(docs_json, render_items);\n",
       "\n",
       "  }\n",
       "  if (root.Bokeh !== undefined) {\n",
       "    embed_document(root);\n",
       "  } else {\n",
       "    var attempts = 0;\n",
       "    var timer = setInterval(function(root) {\n",
       "      if (root.Bokeh !== undefined) {\n",
       "        clearInterval(timer);\n",
       "        embed_document(root);\n",
       "      } else {\n",
       "        attempts++;\n",
       "        if (attempts > 100) {\n",
       "          clearInterval(timer);\n",
       "          console.log(\"Bokeh: ERROR: Unable to run BokehJS code because BokehJS library is missing\");\n",
       "        }\n",
       "      }\n",
       "    }, 10, root)\n",
       "  }\n",
       "})(window);"
      ],
      "application/vnd.bokehjs_exec.v0+json": ""
     },
     "metadata": {
      "application/vnd.bokehjs_exec.v0+json": {
       "id": "6450"
      }
     },
     "output_type": "display_data"
    },
    {
     "data": {
      "text/html": [
       "\n",
       "\n",
       "\n",
       "\n",
       "\n",
       "\n",
       "  <div class=\"bk-root\" id=\"e0e391b6-f219-4fa0-8388-58860f14530d\" data-root-id=\"5834\"></div>\n"
      ]
     },
     "metadata": {},
     "output_type": "display_data"
    },
    {
     "data": {
      "application/javascript": [
       "(function(root) {\n",
       "  function embed_document(root) {\n",
       "    \n",
       "  var docs_json = {\"50d72d41-a2ad-4bdc-8fd2-edcbf9c68f9f\":{\"roots\":{\"references\":[{\"attributes\":{\"below\":[{\"id\":\"5845\",\"type\":\"LinearAxis\"}],\"center\":[{\"id\":\"5849\",\"type\":\"Grid\"},{\"id\":\"5854\",\"type\":\"Grid\"},{\"id\":\"5879\",\"type\":\"Legend\"}],\"left\":[{\"id\":\"5850\",\"type\":\"LinearAxis\"}],\"plot_height\":350,\"plot_width\":450,\"renderers\":[{\"id\":\"5871\",\"type\":\"GlyphRenderer\"},{\"id\":\"5884\",\"type\":\"GlyphRenderer\"},{\"id\":\"6568\",\"type\":\"GlyphRenderer\"}],\"title\":{\"id\":\"6957\",\"type\":\"Title\"},\"toolbar\":{\"id\":\"5861\",\"type\":\"Toolbar\"},\"x_range\":{\"id\":\"5837\",\"type\":\"DataRange1d\"},\"x_scale\":{\"id\":\"5841\",\"type\":\"LinearScale\"},\"y_range\":{\"id\":\"5839\",\"type\":\"DataRange1d\"},\"y_scale\":{\"id\":\"5843\",\"type\":\"LinearScale\"}},\"id\":\"5834\",\"subtype\":\"Figure\",\"type\":\"Plot\"},{\"attributes\":{\"text\":\"Compare ATP All\"},\"id\":\"6957\",\"type\":\"Title\"},{\"attributes\":{\"line_alpha\":0.1,\"line_color\":\"#1f77b4\",\"line_width\":2,\"x\":{\"field\":\"x\"},\"y\":{\"field\":\"y\"}},\"id\":\"5870\",\"type\":\"Line\"},{\"attributes\":{\"line_color\":\"#9367bc\",\"line_width\":2,\"x\":{\"field\":\"x\"},\"y\":{\"field\":\"y\"}},\"id\":\"6566\",\"type\":\"Line\"},{\"attributes\":{\"data_source\":{\"id\":\"5868\",\"type\":\"ColumnDataSource\"},\"glyph\":{\"id\":\"5869\",\"type\":\"Line\"},\"hover_glyph\":null,\"muted_glyph\":null,\"nonselection_glyph\":{\"id\":\"5870\",\"type\":\"Line\"},\"selection_glyph\":null,\"view\":{\"id\":\"5872\",\"type\":\"CDSView\"}},\"id\":\"5871\",\"type\":\"GlyphRenderer\"},{\"attributes\":{\"active_drag\":\"auto\",\"active_inspect\":\"auto\",\"active_multi\":null,\"active_scroll\":\"auto\",\"active_tap\":\"auto\",\"tools\":[{\"id\":\"5855\",\"type\":\"PanTool\"},{\"id\":\"5856\",\"type\":\"WheelZoomTool\"},{\"id\":\"5857\",\"type\":\"BoxZoomTool\"},{\"id\":\"5858\",\"type\":\"SaveTool\"},{\"id\":\"5859\",\"type\":\"ResetTool\"},{\"id\":\"5860\",\"type\":\"HelpTool\"}]},\"id\":\"5861\",\"type\":\"Toolbar\"},{\"attributes\":{\"callback\":null,\"data\":{\"x\":{\"__ndarray__\":\"AAAAAAAAAAB/pUCtXykAQH+lQK1fKRBAPvjggw8+GEB/pUCtXykgQN/OkJi3MyRAPvjggw8+KECeITFvZ0gsQH+lQK1fKTBAL7rooosuMkDfzpCYtzM0QI/jOI7jODZAPvjggw8+OEDuDIl5O0M6QJ4hMW9nSDxATjbZZJNNPkB/pUCtXylAQNevFKj1K0FAL7rooosuQkCHxLydITFDQN/OkJi3M0RAN9lkk002RUCP4ziO4zhGQOftDIl5O0dAPvjggw8+SECWArV+pUBJQO4MiXk7Q0pARhdddNFFS0CeITFvZ0hMQPYrBWr9Sk1ATjbZZJNNTkCmQK1fKVBPQH+lQK1fKVBAq6qqqqqqUEDXrxSo9StRQAO1fqVArVFAL7rooosuUkBbv1Kg1q9SQIfEvJ0hMVNAs8kmm2yyU0DfzpCYtzNUQAvU+pUCtVRAN9lkk002VUBj3s6QmLdVQI/jOI7jOFZAu+iiiy66VkDn7QyJeTtXQBPzdobEvFdAPvjggw8+WEBq/UqBWr9YQJYCtX6lQFlAwgcffPDBWUDuDIl5O0NaQBoS83aGxFpARhdddNFFW0ByHMdxHMdbQJ4hMW9nSFxAyiabbLLJXED2KwVq/UpdQCIxb2dIzF1ATjbZZJNNXkB6O0Ni3s5eQKZArV8pUF9A0kUXXXTRX0B/pUCtXylgQBWo9SsFamBAq6qqqqqqYEBBrV8pUOtgQNevFKj1K2FAbbLJJptsYUADtX6lQK1hQJm3MyTm7WFAL7rooosuYkDFvJ0hMW9iQFu/UqDWr2JA8cEHH3zwYkCHxLydITFjQB3HcRzHcWNAs8kmm2yyY0BJzNsZEvNjQN/OkJi3M2RAddFFF110ZEAL1PqVArVkQKHWrxSo9WRAN9lkk002ZUDN2xkS83ZlQGPezpCYt2VA+eCDDz74ZUCP4ziO4zhmQCXm7QyJeWZAu+iiiy66ZkBR61cK1PpmQOftDIl5O2dAffDBBx98Z0AT83aGxLxnQKn1KwVq/WdAPvjggw8+aEDU+pUCtX5oQGr9SoFav2hAAAAAAAAAaUA=\",\"dtype\":\"float64\",\"shape\":[100]},\"y\":{\"__ndarray__\":\"AAAAAAAAJECbJdxgCuU6P2/7RgnanFE+4Lno+JBF6r0BZEK+BH20vas7VJ62Squ9rF5HgMc2m71hgXXU9whlvR9aE7C1z129fbE7t3uNUb1nI5D5Bi01vbW7+tS6ChO9sK9/wIl6Er2powSsWOoRvaOXiZcnWhG9nYsOg/bJEL2Wf5NuxTkQvSDnMLQoUw+9Fc86i8YyDr0It0RiZBINvfueTjkC8gu974ZYEKDRCr3jbmLnPbEJvddWbL7bkAi9yz52lXlwB72+JoBsF1AGvbMOikO1LwW9pvaTGlMPBL2a3p3x8O4CvY7Gp8iOzgG9ga6xnyyuAL3qLHftlBv/vND8ipvQ2vy8uMyeSQya+ryfnLL3R1n4vIdsxqWDGPa8bTzaU7/X87xVDO4B+5bxvHm4A2BtrO68R1grvOQq6rwW+FIYXKnlvOWXenTTJ+G8Zm9EoZVM2bwDr5NZhEnQvIK6i0fMGb28nKrzg49NjLxTZVlUmHmLvAsgvyShpYq8xNok9anRibx8lYrFsv2IvDRQ8JW7KYi86wpWZsRVh7yjxbs2zYGGvFuAIQfWrYW8EzuH197ZhLzK9eyn5wWEvIKwUnjwMYO8Omu4SPldgrzyJR4ZAoqBvKrgg+kKtoC8xDbTcyfEf7wzrJ4UORx+vKMharVKdHy8E5c1VlzMeryCDAH3bSR5vPKBzJd/fHe8YfeXOJHUdbzRbGPZoix0vEDiLnq0hHK8r1f6GsbccLw/mot3r2luvB6FIrnSGWu8/m+5+vXJZ7zdWlA8GXpkvLtF5308KmG8NWH8fr+0W7zzNioCBhVVvGQZsAqZ6ky8wYkXIkxWP7zqgju7mF0TvF/2ewi37AS87v0vPBjdBLx9BeRvec0EvA0NmKPavQS8nBRM1zuuBLwrHAALnZ4EvLojtD7+jgS8Sytocl9/BLzaMhymwG8EvGk60NkhYAS8+EGEDYNQBLyISThB5EAEvBdR7HRFMQS8pligqKYhBLw1YFTcBxIEvMZnCBBpAgS8VW+8Q8ryA7zkdnB3K+MDvHN+JKuM0wO8A4bY3u3DA7w=\",\"dtype\":\"float64\",\"shape\":[100]}},\"selected\":{\"id\":\"6387\",\"type\":\"Selection\"},\"selection_policy\":{\"id\":\"6388\",\"type\":\"UnionRenderers\"}},\"id\":\"5881\",\"type\":\"ColumnDataSource\"},{\"attributes\":{\"line_color\":\"#ff7e0e\",\"line_width\":2,\"x\":{\"field\":\"x\"},\"y\":{\"field\":\"y\"}},\"id\":\"5882\",\"type\":\"Line\"},{\"attributes\":{},\"id\":\"6387\",\"type\":\"Selection\"},{\"attributes\":{\"line_color\":\"#1f77b3\",\"line_width\":2,\"x\":{\"field\":\"x\"},\"y\":{\"field\":\"y\"}},\"id\":\"5869\",\"type\":\"Line\"},{\"attributes\":{\"callback\":null,\"data\":{\"x\":{\"__ndarray__\":\"AAAAAAAAAAB/pUCtXykAQH+lQK1fKRBAPvjggw8+GEB/pUCtXykgQN/OkJi3MyRAPvjggw8+KECeITFvZ0gsQH+lQK1fKTBAL7rooosuMkDfzpCYtzM0QI/jOI7jODZAPvjggw8+OEDuDIl5O0M6QJ4hMW9nSDxATjbZZJNNPkB/pUCtXylAQNevFKj1K0FAL7rooosuQkCHxLydITFDQN/OkJi3M0RAN9lkk002RUCP4ziO4zhGQOftDIl5O0dAPvjggw8+SECWArV+pUBJQO4MiXk7Q0pARhdddNFFS0CeITFvZ0hMQPYrBWr9Sk1ATjbZZJNNTkCmQK1fKVBPQH+lQK1fKVBAq6qqqqqqUEDXrxSo9StRQAO1fqVArVFAL7rooosuUkBbv1Kg1q9SQIfEvJ0hMVNAs8kmm2yyU0DfzpCYtzNUQAvU+pUCtVRAN9lkk002VUBj3s6QmLdVQI/jOI7jOFZAu+iiiy66VkDn7QyJeTtXQBPzdobEvFdAPvjggw8+WEBq/UqBWr9YQJYCtX6lQFlAwgcffPDBWUDuDIl5O0NaQBoS83aGxFpARhdddNFFW0ByHMdxHMdbQJ4hMW9nSFxAyiabbLLJXED2KwVq/UpdQCIxb2dIzF1ATjbZZJNNXkB6O0Ni3s5eQKZArV8pUF9A0kUXXXTRX0B/pUCtXylgQBWo9SsFamBAq6qqqqqqYEBBrV8pUOtgQNevFKj1K2FAbbLJJptsYUADtX6lQK1hQJm3MyTm7WFAL7rooosuYkDFvJ0hMW9iQFu/UqDWr2JA8cEHH3zwYkCHxLydITFjQB3HcRzHcWNAs8kmm2yyY0BJzNsZEvNjQN/OkJi3M2RAddFFF110ZEAL1PqVArVkQKHWrxSo9WRAN9lkk002ZUDN2xkS83ZlQGPezpCYt2VA+eCDDz74ZUCP4ziO4zhmQCXm7QyJeWZAu+iiiy66ZkBR61cK1PpmQOftDIl5O2dAffDBBx98Z0AT83aGxLxnQKn1KwVq/WdAPvjggw8+aEDU+pUCtX5oQGr9SoFav2hAAAAAAAAAaUA=\",\"dtype\":\"float64\",\"shape\":[100]},\"y\":{\"__ndarray__\":\"AAAAAAAAJEDaCFyXjp2xP6EuIqwaDcc/+0fRrkL4cD91KwQ+ak+dPm5VbduB6h8+Dut68Boh1b2w4xu08qjTPZDwQM5NvMC9DoXxvI/eDT7Aaxr/cTMDvjDuOzuLgRU+cuxM1c3F5z0e89D3rRvzvWbPbJce/us9zMyEFti66D165z//tTYIPljIkLC12KK9RRYy4KPFYL2KZL5sL4V2veR94dnRVVy9qHShgTPEsD1XgHBhSh2jvbASZOBQQ409wLoAyrCakj0C7TMSmnEMPtGjPAyO0te9nxynWo9grD0TFOsh8R6DPWa3PDWO0qu9AKqxvKjTlz0wXs9czLmaPVJvjHkRYbc9KlI5Bxj40D3cVH7FSxPkPZZPD1Qu5vG9nSHEeYQcAj5+egRHpHnqPUhxKPXvH9k9MaGySboZ9j2cyt5mqurwvTgO5o/mdsO9vYvjglVEAb7tjjeTxjLnvTDydDN3jOG9pluSRYMq4z04Wn6JhLsmPtMgSFBLZiS+YER9+t82/b0sR1w3l6QUPpZbvrEMv/y9QuwTmMC5yD2IBdOYqMCmPfKGvMiHkwo+4M8UOZ/06D3ItopsWqauPSw53JNSEuE9HCN5oKo4x71hDJkrzjCzvWCrUv++fJc9ksHFzD8IaT3kSbrUXi4QvdSfW8uL5Cs9VhhKAE03bD2OvJ8FTzN1PUoTY0ttLmE9eNvHDEmuQr1WMudMjik3vVbsd/hITUY9MKvjvRgwTz3N9DHXoORYvbh84A8faEM96EygnswxO70kB40caC1bPY7quvOWGmO9qL/1UZ+lVD1AxwzFJiVyPRjbe529Wp294Fvdi1wdvz0IlkoCtHXdvX4bR42hKPs9bu5IxtaB+z3kzkzRL8j9PZtAZIaOZda9LMBzA7bypT2Rl2jj8iiKvfC4KWsKr4C9z7BO2mkc0z0qx9vKyKTKvWSy/LRoos+9E6m9h4Bc2D10l6aZxwK4PTD7wMoEg9+9jHEMinqqwz1mpef8nT3lPa3A4mnzmNA9/iugGvDyzT2BZ5zpNFzXPSCadKdPl4+9ERjlquz44j0=\",\"dtype\":\"float64\",\"shape\":[100]}},\"selected\":{\"id\":\"5891\",\"type\":\"Selection\"},\"selection_policy\":{\"id\":\"5892\",\"type\":\"UnionRenderers\"}},\"id\":\"5868\",\"type\":\"ColumnDataSource\"},{\"attributes\":{\"line_alpha\":0.1,\"line_color\":\"#1f77b4\",\"line_width\":2,\"x\":{\"field\":\"x\"},\"y\":{\"field\":\"y\"}},\"id\":\"5883\",\"type\":\"Line\"},{\"attributes\":{},\"id\":\"5855\",\"type\":\"PanTool\"},{\"attributes\":{\"data_source\":{\"id\":\"5881\",\"type\":\"ColumnDataSource\"},\"glyph\":{\"id\":\"5882\",\"type\":\"Line\"},\"hover_glyph\":null,\"muted_glyph\":null,\"nonselection_glyph\":{\"id\":\"5883\",\"type\":\"Line\"},\"selection_glyph\":null,\"view\":{\"id\":\"5885\",\"type\":\"CDSView\"}},\"id\":\"5884\",\"type\":\"GlyphRenderer\"},{\"attributes\":{},\"id\":\"5856\",\"type\":\"WheelZoomTool\"},{\"attributes\":{\"callback\":null},\"id\":\"5837\",\"type\":\"DataRange1d\"},{\"attributes\":{\"callback\":null,\"data\":{\"x\":{\"__ndarray__\":\"AAAAAAAAAAB/pUCtXykAQH+lQK1fKRBAPvjggw8+GEB/pUCtXykgQN/OkJi3MyRAPvjggw8+KECeITFvZ0gsQH+lQK1fKTBAL7rooosuMkDfzpCYtzM0QI/jOI7jODZAPvjggw8+OEDuDIl5O0M6QJ4hMW9nSDxATjbZZJNNPkB/pUCtXylAQNevFKj1K0FAL7rooosuQkCHxLydITFDQN/OkJi3M0RAN9lkk002RUCP4ziO4zhGQOftDIl5O0dAPvjggw8+SECWArV+pUBJQO4MiXk7Q0pARhdddNFFS0CeITFvZ0hMQPYrBWr9Sk1ATjbZZJNNTkCmQK1fKVBPQH+lQK1fKVBAq6qqqqqqUEDXrxSo9StRQAO1fqVArVFAL7rooosuUkBbv1Kg1q9SQIfEvJ0hMVNAs8kmm2yyU0DfzpCYtzNUQAvU+pUCtVRAN9lkk002VUBj3s6QmLdVQI/jOI7jOFZAu+iiiy66VkDn7QyJeTtXQBPzdobEvFdAPvjggw8+WEBq/UqBWr9YQJYCtX6lQFlAwgcffPDBWUDuDIl5O0NaQBoS83aGxFpARhdddNFFW0ByHMdxHMdbQJ4hMW9nSFxAyiabbLLJXED2KwVq/UpdQCIxb2dIzF1ATjbZZJNNXkB6O0Ni3s5eQKZArV8pUF9A0kUXXXTRX0B/pUCtXylgQBWo9SsFamBAq6qqqqqqYEBBrV8pUOtgQNevFKj1K2FAbbLJJptsYUADtX6lQK1hQJm3MyTm7WFAL7rooosuYkDFvJ0hMW9iQFu/UqDWr2JA8cEHH3zwYkCHxLydITFjQB3HcRzHcWNAs8kmm2yyY0BJzNsZEvNjQN/OkJi3M2RAddFFF110ZEAL1PqVArVkQKHWrxSo9WRAN9lkk002ZUDN2xkS83ZlQGPezpCYt2VA+eCDDz74ZUCP4ziO4zhmQCXm7QyJeWZAu+iiiy66ZkBR61cK1PpmQOftDIl5O2dAffDBBx98Z0AT83aGxLxnQKn1KwVq/WdAPvjggw8+aEDU+pUCtX5oQGr9SoFav2hAAAAAAAAAaUA=\",\"dtype\":\"float64\",\"shape\":[100]},\"y\":{\"__ndarray__\":\"AAAAAAAAJEA61Q+pe8GjP1Xodzn399Q/ThofTXzs7z/u2PSvedr+PygQaa5ySAdAhD7YhIqADkAo30me3l0SQF79zO1d/RRAKDglhMYuF0DFiD9i3QQZQGzs+PGakBpAhXCTHNrfG0CYurlJof0cQLWQHyTK8h1AyI6eqXTGHkBEK+KEXn4fQCT9bMyUDyBA+Py+p0pWIEAJJgtY1pQgQBawdY51zCBA39VjsSz+IEA56tJR0iohQAYuMjMYUyFAO6gXa5J3IUAUdeUBvZghQBP7MG4AtyFAitUCJLXSIUDCFDlwJuwhQKotlcOUAyJAj08tjTcZIkDFgFy6Pi0iQGl7NO7TPyJAaRtvgBtRIkCXMJFNNWEiQL2Vt2E9cCJA/ya8hkx+IkCWreW3eIsiQHfdC4XVlyJAYT4rZHSjIkB4zh72ZK4iQLcW9UK1uCJAXYdq6XHCIkDsXypMpssiQPWdtrVc1CJApFg3eJ7cIkBCCI4KdOQiQDNm1h3l6yJAQd8GtfjyIkD+yDM2tfkiQDumEHsgACNApCPl3j8GI0A4g0hLGAwjQIuzPkSuESNA3aKA8AUXI0CNc3IjIxwjQOm2eWQJISNAKR/q9bslI0DucBncPSojQLhcz+GRLiNAJAjXnboyI0Bq2Jt4ujYjQCluEq2TOiNAavUxUEg+I0CoXadR2kEjQPxm/39LRSNApNPeip1II0ASAqAF0ksjQAdaqGnqTiNAxZE+GOhRI0CyrGJczFQjQBDBqWyYVyNAwZyebE1aI0BdoTVu7FwjQI8IC3N2XyNAeO9cbexhI0DN6QRCT2QjQA80FcifZiNA9+y2yt5oI0CpBeoJDWsjQBb3vDorbSNAOTI6CDpvI0CtKyIVOnEjQAm0o/orcyNAOCMvShB1I0DxILSN53YjQBS++keyeCNAF1pv9XB6I0Dc53sLJHwjQHzysvrLfSNAF/XELWl/I0DHYLUJ/IAjQHNKe++EgiNAn9AGOwSEI0Bb7NdDeoUjQBWjB17nhiNAJSLS2EuII0A4E4gAqIkjQHtKAh78iiNAAHcad0iMI0A=\",\"dtype\":\"float64\",\"shape\":[100]}},\"selected\":{\"id\":\"6767\",\"type\":\"Selection\"},\"selection_policy\":{\"id\":\"6768\",\"type\":\"UnionRenderers\"}},\"id\":\"6565\",\"type\":\"ColumnDataSource\"},{\"attributes\":{\"overlay\":{\"id\":\"5878\",\"type\":\"BoxAnnotation\"}},\"id\":\"5857\",\"type\":\"BoxZoomTool\"},{\"attributes\":{\"source\":{\"id\":\"5881\",\"type\":\"ColumnDataSource\"}},\"id\":\"5885\",\"type\":\"CDSView\"},{\"attributes\":{},\"id\":\"6388\",\"type\":\"UnionRenderers\"},{\"attributes\":{\"line_alpha\":0.1,\"line_color\":\"#1f77b4\",\"line_width\":2,\"x\":{\"field\":\"x\"},\"y\":{\"field\":\"y\"}},\"id\":\"6567\",\"type\":\"Line\"},{\"attributes\":{},\"id\":\"5858\",\"type\":\"SaveTool\"},{\"attributes\":{},\"id\":\"5891\",\"type\":\"Selection\"},{\"attributes\":{},\"id\":\"6767\",\"type\":\"Selection\"},{\"attributes\":{\"label\":{\"value\":\"ATP Use\"},\"renderers\":[{\"id\":\"5884\",\"type\":\"GlyphRenderer\"}]},\"id\":\"5894\",\"type\":\"LegendItem\"},{\"attributes\":{},\"id\":\"5859\",\"type\":\"ResetTool\"},{\"attributes\":{\"callback\":null},\"id\":\"5839\",\"type\":\"DataRange1d\"},{\"attributes\":{},\"id\":\"5892\",\"type\":\"UnionRenderers\"},{\"attributes\":{\"data_source\":{\"id\":\"6565\",\"type\":\"ColumnDataSource\"},\"glyph\":{\"id\":\"6566\",\"type\":\"Line\"},\"hover_glyph\":null,\"muted_glyph\":null,\"nonselection_glyph\":{\"id\":\"6567\",\"type\":\"Line\"},\"selection_glyph\":null,\"view\":{\"id\":\"6569\",\"type\":\"CDSView\"}},\"id\":\"6568\",\"type\":\"GlyphRenderer\"},{\"attributes\":{},\"id\":\"5860\",\"type\":\"HelpTool\"},{\"attributes\":{},\"id\":\"5841\",\"type\":\"LinearScale\"},{\"attributes\":{},\"id\":\"5843\",\"type\":\"LinearScale\"},{\"attributes\":{\"source\":{\"id\":\"6565\",\"type\":\"ColumnDataSource\"}},\"id\":\"6569\",\"type\":\"CDSView\"},{\"attributes\":{\"axis_label\":\"time (sec)\",\"formatter\":{\"id\":\"5874\",\"type\":\"BasicTickFormatter\"},\"ticker\":{\"id\":\"5846\",\"type\":\"BasicTicker\"}},\"id\":\"5845\",\"type\":\"LinearAxis\"},{\"attributes\":{},\"id\":\"5874\",\"type\":\"BasicTickFormatter\"},{\"attributes\":{\"dimension\":1,\"ticker\":{\"id\":\"5851\",\"type\":\"BasicTicker\"}},\"id\":\"5854\",\"type\":\"Grid\"},{\"attributes\":{\"label\":{\"value\":\"ATP Synthase, Proton Pump, ATP Use\"},\"renderers\":[{\"id\":\"6568\",\"type\":\"GlyphRenderer\"}]},\"id\":\"6580\",\"type\":\"LegendItem\"},{\"attributes\":{},\"id\":\"5846\",\"type\":\"BasicTicker\"},{\"attributes\":{\"items\":[{\"id\":\"5880\",\"type\":\"LegendItem\"},{\"id\":\"5894\",\"type\":\"LegendItem\"},{\"id\":\"6580\",\"type\":\"LegendItem\"}],\"location\":\"center_right\"},\"id\":\"5879\",\"type\":\"Legend\"},{\"attributes\":{},\"id\":\"6768\",\"type\":\"UnionRenderers\"},{\"attributes\":{\"ticker\":{\"id\":\"5846\",\"type\":\"BasicTicker\"}},\"id\":\"5849\",\"type\":\"Grid\"},{\"attributes\":{\"source\":{\"id\":\"5868\",\"type\":\"ColumnDataSource\"}},\"id\":\"5872\",\"type\":\"CDSView\"},{\"attributes\":{},\"id\":\"5876\",\"type\":\"BasicTickFormatter\"},{\"attributes\":{},\"id\":\"5851\",\"type\":\"BasicTicker\"},{\"attributes\":{\"axis_label\":\"concentration (nM)\",\"formatter\":{\"id\":\"5876\",\"type\":\"BasicTickFormatter\"},\"ticker\":{\"id\":\"5851\",\"type\":\"BasicTicker\"}},\"id\":\"5850\",\"type\":\"LinearAxis\"},{\"attributes\":{\"bottom_units\":\"screen\",\"fill_alpha\":{\"value\":0.5},\"fill_color\":{\"value\":\"lightgrey\"},\"left_units\":\"screen\",\"level\":\"overlay\",\"line_alpha\":{\"value\":1.0},\"line_color\":{\"value\":\"black\"},\"line_dash\":[4,4],\"line_width\":{\"value\":2},\"render_mode\":\"css\",\"right_units\":\"screen\",\"top_units\":\"screen\"},\"id\":\"5878\",\"type\":\"BoxAnnotation\"},{\"attributes\":{\"label\":{\"value\":\"ATP Synthase, ATP Use\"},\"renderers\":[{\"id\":\"5871\",\"type\":\"GlyphRenderer\"}]},\"id\":\"5880\",\"type\":\"LegendItem\"}],\"root_ids\":[\"5834\"]},\"title\":\"Bokeh Application\",\"version\":\"1.4.0\"}};\n",
       "  var render_items = [{\"docid\":\"50d72d41-a2ad-4bdc-8fd2-edcbf9c68f9f\",\"roots\":{\"5834\":\"e0e391b6-f219-4fa0-8388-58860f14530d\"}}];\n",
       "  root.Bokeh.embed.embed_items_notebook(docs_json, render_items);\n",
       "\n",
       "  }\n",
       "  if (root.Bokeh !== undefined) {\n",
       "    embed_document(root);\n",
       "  } else {\n",
       "    var attempts = 0;\n",
       "    var timer = setInterval(function(root) {\n",
       "      if (root.Bokeh !== undefined) {\n",
       "        clearInterval(timer);\n",
       "        embed_document(root);\n",
       "      } else {\n",
       "        attempts++;\n",
       "        if (attempts > 100) {\n",
       "          clearInterval(timer);\n",
       "          console.log(\"Bokeh: ERROR: Unable to run BokehJS code because BokehJS library is missing\");\n",
       "        }\n",
       "      }\n",
       "    }, 10, root)\n",
       "  }\n",
       "})(window);"
      ],
      "application/vnd.bokehjs_exec.v0+json": ""
     },
     "metadata": {
      "application/vnd.bokehjs_exec.v0+json": {
       "id": "5834"
      }
     },
     "output_type": "display_data"
    }
   ],
   "source": [
    "plt_timepoints = timepoints/60\n",
    "\n",
    "p3 = bokeh.plotting.figure(width = 450, height = 350, title = 'with ATP Synthase, Proton Pump, ATP Use',\n",
    "                          x_axis_label = 'time (hrs)',\n",
    "                          y_axis_label = 'concentration (nM)')\n",
    "plot_list = [ATP_id3, outside_H_id, inside_H_id, atp_synthase_b_protein_id, proton_pump_b_protein_id]\n",
    "plot_str = ['atp', 'outside_H', 'inside_H', 'bound atp synthase', 'bound proton pump']\n",
    "for i,item in enumerate(plot_list):\n",
    "    p3.line(plt_timepoints, results_everything[item], line_width = 2, legend_label = plot_str[i], color = palette[i])\n",
    "p_compare.line(timepoints, results_everything[ATP_id3], line_width = 2, legend_label = 'ATP Synthase, Proton Pump, ATP Use', color = palette[3])\n",
    "#p3.line(plt_timepoints, results_everything[ATP_id3])\n",
    "p3.legend.click_policy = 'hide'\n",
    "p3.legend.location = 'center_right'\n",
    "#p_compare.title = 'Compare ATP All'\n",
    "t = Title()\n",
    "t.text = 'Compare ATP All'\n",
    "p_compare.title = t\n",
    "p_compare.legend.location = 'center_right'\n",
    "bokeh.io.show(p3)\n",
    "bokeh.io.show(p_compare)"
   ]
  },
  {
   "cell_type": "code",
   "execution_count": 18,
   "metadata": {},
   "outputs": [],
   "source": [
    "from bokeh.models.annotations import Title\n"
   ]
  },
  {
   "cell_type": "markdown",
   "metadata": {},
   "source": [
    "## Compare with atpsyn + proton pump, only atpsyn, only atpuse (with txtl machinery)\n",
    "---"
   ]
  },
  {
   "cell_type": "code",
   "execution_count": null,
   "metadata": {},
   "outputs": [],
   "source": [
    "bokeh.io.show(row(p3,p_w_atp, p_no_atp))"
   ]
  },
  {
   "cell_type": "markdown",
   "metadata": {},
   "source": [
    "Cool. What's going on with the second plot. How come it looks like atp isn't being consumed?? Fix those params?? Next do temperature sensitivity."
   ]
  },
  {
   "cell_type": "code",
   "execution_count": null,
   "metadata": {},
   "outputs": [],
   "source": [
    "p_atp = bokeh.plotting.figure(width = 450, height = 350,\n",
    "                             title = 'ATP Compare',\n",
    "                             x_axis_label = 'time (sec)',\n",
    "                             y_axis_label = 'concentration (nM)')\n",
    "\n",
    "p_atp.line(plt_timepoints, results_everything[ATP_id3],line_width = 2, color = palette[0],legend_label = 'with ATP Synthase, Proton Pump, ATP Use')\n",
    "p_atp.line(plt_timepoints, results1[ATP_id], line_width = 2, color = palette[1], legend_label = 'with ATP Synthase, ATP Use')\n",
    "p_atp.line(plt_timepoints, results2[ATP_id2],line_width = 2, color = palette[2],legend_label = 'ATP Use only')\n",
    "p_atp.legend.location = 'center_right'\n",
    "bokeh.io.show(p_atp)"
   ]
  },
  {
   "cell_type": "code",
   "execution_count": null,
   "metadata": {},
   "outputs": [],
   "source": [
    "#watermark\n",
    "%reload_ext watermark\n",
    "%watermark -v -p numpy,bokeh,jupyterlab,scipy,biocrnpyler,bioscrape,colorcet,subsbml\n",
    "  "
   ]
  },
  {
   "cell_type": "code",
   "execution_count": null,
   "metadata": {},
   "outputs": [],
   "source": []
  }
 ],
 "metadata": {
  "kernelspec": {
   "display_name": "Python 3",
   "language": "python",
   "name": "python3"
  },
  "language_info": {
   "codemirror_mode": {
    "name": "ipython",
    "version": 3
   },
   "file_extension": ".py",
   "mimetype": "text/x-python",
   "name": "python",
   "nbconvert_exporter": "python",
   "pygments_lexer": "ipython3",
   "version": "3.7.7"
  }
 },
 "nbformat": 4,
 "nbformat_minor": 4
}
