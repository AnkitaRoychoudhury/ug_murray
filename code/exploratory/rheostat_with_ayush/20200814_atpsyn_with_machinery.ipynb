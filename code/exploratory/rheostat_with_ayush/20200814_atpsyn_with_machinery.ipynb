{
 "cells": [
  {
   "cell_type": "markdown",
   "metadata": {},
   "source": [
    "# Combine Sub-SBML models with TXTL Machinery\n",
    "---"
   ]
  },
  {
   "cell_type": "markdown",
   "metadata": {},
   "source": [
    "Do this so you can incorporate temperature control <br>\n",
    "2020.08.14"
   ]
  },
  {
   "cell_type": "code",
   "execution_count": 26,
   "metadata": {},
   "outputs": [
    {
     "data": {
      "text/html": [
       "\n",
       "    <div class=\"bk-root\">\n",
       "        <a href=\"https://bokeh.org\" target=\"_blank\" class=\"bk-logo bk-logo-small bk-logo-notebook\"></a>\n",
       "        <span id=\"3295\">Loading BokehJS ...</span>\n",
       "    </div>"
      ]
     },
     "metadata": {},
     "output_type": "display_data"
    },
    {
     "data": {
      "application/javascript": [
       "\n",
       "(function(root) {\n",
       "  function now() {\n",
       "    return new Date();\n",
       "  }\n",
       "\n",
       "  var force = true;\n",
       "\n",
       "  if (typeof root._bokeh_onload_callbacks === \"undefined\" || force === true) {\n",
       "    root._bokeh_onload_callbacks = [];\n",
       "    root._bokeh_is_loading = undefined;\n",
       "  }\n",
       "\n",
       "  var JS_MIME_TYPE = 'application/javascript';\n",
       "  var HTML_MIME_TYPE = 'text/html';\n",
       "  var EXEC_MIME_TYPE = 'application/vnd.bokehjs_exec.v0+json';\n",
       "  var CLASS_NAME = 'output_bokeh rendered_html';\n",
       "\n",
       "  /**\n",
       "   * Render data to the DOM node\n",
       "   */\n",
       "  function render(props, node) {\n",
       "    var script = document.createElement(\"script\");\n",
       "    node.appendChild(script);\n",
       "  }\n",
       "\n",
       "  /**\n",
       "   * Handle when an output is cleared or removed\n",
       "   */\n",
       "  function handleClearOutput(event, handle) {\n",
       "    var cell = handle.cell;\n",
       "\n",
       "    var id = cell.output_area._bokeh_element_id;\n",
       "    var server_id = cell.output_area._bokeh_server_id;\n",
       "    // Clean up Bokeh references\n",
       "    if (id != null && id in Bokeh.index) {\n",
       "      Bokeh.index[id].model.document.clear();\n",
       "      delete Bokeh.index[id];\n",
       "    }\n",
       "\n",
       "    if (server_id !== undefined) {\n",
       "      // Clean up Bokeh references\n",
       "      var cmd = \"from bokeh.io.state import curstate; print(curstate().uuid_to_server['\" + server_id + \"'].get_sessions()[0].document.roots[0]._id)\";\n",
       "      cell.notebook.kernel.execute(cmd, {\n",
       "        iopub: {\n",
       "          output: function(msg) {\n",
       "            var id = msg.content.text.trim();\n",
       "            if (id in Bokeh.index) {\n",
       "              Bokeh.index[id].model.document.clear();\n",
       "              delete Bokeh.index[id];\n",
       "            }\n",
       "          }\n",
       "        }\n",
       "      });\n",
       "      // Destroy server and session\n",
       "      var cmd = \"import bokeh.io.notebook as ion; ion.destroy_server('\" + server_id + \"')\";\n",
       "      cell.notebook.kernel.execute(cmd);\n",
       "    }\n",
       "  }\n",
       "\n",
       "  /**\n",
       "   * Handle when a new output is added\n",
       "   */\n",
       "  function handleAddOutput(event, handle) {\n",
       "    var output_area = handle.output_area;\n",
       "    var output = handle.output;\n",
       "\n",
       "    // limit handleAddOutput to display_data with EXEC_MIME_TYPE content only\n",
       "    if ((output.output_type != \"display_data\") || (!output.data.hasOwnProperty(EXEC_MIME_TYPE))) {\n",
       "      return\n",
       "    }\n",
       "\n",
       "    var toinsert = output_area.element.find(\".\" + CLASS_NAME.split(' ')[0]);\n",
       "\n",
       "    if (output.metadata[EXEC_MIME_TYPE][\"id\"] !== undefined) {\n",
       "      toinsert[toinsert.length - 1].firstChild.textContent = output.data[JS_MIME_TYPE];\n",
       "      // store reference to embed id on output_area\n",
       "      output_area._bokeh_element_id = output.metadata[EXEC_MIME_TYPE][\"id\"];\n",
       "    }\n",
       "    if (output.metadata[EXEC_MIME_TYPE][\"server_id\"] !== undefined) {\n",
       "      var bk_div = document.createElement(\"div\");\n",
       "      bk_div.innerHTML = output.data[HTML_MIME_TYPE];\n",
       "      var script_attrs = bk_div.children[0].attributes;\n",
       "      for (var i = 0; i < script_attrs.length; i++) {\n",
       "        toinsert[toinsert.length - 1].firstChild.setAttribute(script_attrs[i].name, script_attrs[i].value);\n",
       "      }\n",
       "      // store reference to server id on output_area\n",
       "      output_area._bokeh_server_id = output.metadata[EXEC_MIME_TYPE][\"server_id\"];\n",
       "    }\n",
       "  }\n",
       "\n",
       "  function register_renderer(events, OutputArea) {\n",
       "\n",
       "    function append_mime(data, metadata, element) {\n",
       "      // create a DOM node to render to\n",
       "      var toinsert = this.create_output_subarea(\n",
       "        metadata,\n",
       "        CLASS_NAME,\n",
       "        EXEC_MIME_TYPE\n",
       "      );\n",
       "      this.keyboard_manager.register_events(toinsert);\n",
       "      // Render to node\n",
       "      var props = {data: data, metadata: metadata[EXEC_MIME_TYPE]};\n",
       "      render(props, toinsert[toinsert.length - 1]);\n",
       "      element.append(toinsert);\n",
       "      return toinsert\n",
       "    }\n",
       "\n",
       "    /* Handle when an output is cleared or removed */\n",
       "    events.on('clear_output.CodeCell', handleClearOutput);\n",
       "    events.on('delete.Cell', handleClearOutput);\n",
       "\n",
       "    /* Handle when a new output is added */\n",
       "    events.on('output_added.OutputArea', handleAddOutput);\n",
       "\n",
       "    /**\n",
       "     * Register the mime type and append_mime function with output_area\n",
       "     */\n",
       "    OutputArea.prototype.register_mime_type(EXEC_MIME_TYPE, append_mime, {\n",
       "      /* Is output safe? */\n",
       "      safe: true,\n",
       "      /* Index of renderer in `output_area.display_order` */\n",
       "      index: 0\n",
       "    });\n",
       "  }\n",
       "\n",
       "  // register the mime type if in Jupyter Notebook environment and previously unregistered\n",
       "  if (root.Jupyter !== undefined) {\n",
       "    var events = require('base/js/events');\n",
       "    var OutputArea = require('notebook/js/outputarea').OutputArea;\n",
       "\n",
       "    if (OutputArea.prototype.mime_types().indexOf(EXEC_MIME_TYPE) == -1) {\n",
       "      register_renderer(events, OutputArea);\n",
       "    }\n",
       "  }\n",
       "\n",
       "  \n",
       "  if (typeof (root._bokeh_timeout) === \"undefined\" || force === true) {\n",
       "    root._bokeh_timeout = Date.now() + 5000;\n",
       "    root._bokeh_failed_load = false;\n",
       "  }\n",
       "\n",
       "  var NB_LOAD_WARNING = {'data': {'text/html':\n",
       "     \"<div style='background-color: #fdd'>\\n\"+\n",
       "     \"<p>\\n\"+\n",
       "     \"BokehJS does not appear to have successfully loaded. If loading BokehJS from CDN, this \\n\"+\n",
       "     \"may be due to a slow or bad network connection. Possible fixes:\\n\"+\n",
       "     \"</p>\\n\"+\n",
       "     \"<ul>\\n\"+\n",
       "     \"<li>re-rerun `output_notebook()` to attempt to load from CDN again, or</li>\\n\"+\n",
       "     \"<li>use INLINE resources instead, as so:</li>\\n\"+\n",
       "     \"</ul>\\n\"+\n",
       "     \"<code>\\n\"+\n",
       "     \"from bokeh.resources import INLINE\\n\"+\n",
       "     \"output_notebook(resources=INLINE)\\n\"+\n",
       "     \"</code>\\n\"+\n",
       "     \"</div>\"}};\n",
       "\n",
       "  function display_loaded() {\n",
       "    var el = document.getElementById(\"3295\");\n",
       "    if (el != null) {\n",
       "      el.textContent = \"BokehJS is loading...\";\n",
       "    }\n",
       "    if (root.Bokeh !== undefined) {\n",
       "      if (el != null) {\n",
       "        el.textContent = \"BokehJS \" + root.Bokeh.version + \" successfully loaded.\";\n",
       "      }\n",
       "    } else if (Date.now() < root._bokeh_timeout) {\n",
       "      setTimeout(display_loaded, 100)\n",
       "    }\n",
       "  }\n",
       "\n",
       "\n",
       "  function run_callbacks() {\n",
       "    try {\n",
       "      root._bokeh_onload_callbacks.forEach(function(callback) {\n",
       "        if (callback != null)\n",
       "          callback();\n",
       "      });\n",
       "    } finally {\n",
       "      delete root._bokeh_onload_callbacks\n",
       "    }\n",
       "    console.debug(\"Bokeh: all callbacks have finished\");\n",
       "  }\n",
       "\n",
       "  function load_libs(css_urls, js_urls, callback) {\n",
       "    if (css_urls == null) css_urls = [];\n",
       "    if (js_urls == null) js_urls = [];\n",
       "\n",
       "    root._bokeh_onload_callbacks.push(callback);\n",
       "    if (root._bokeh_is_loading > 0) {\n",
       "      console.debug(\"Bokeh: BokehJS is being loaded, scheduling callback at\", now());\n",
       "      return null;\n",
       "    }\n",
       "    if (js_urls == null || js_urls.length === 0) {\n",
       "      run_callbacks();\n",
       "      return null;\n",
       "    }\n",
       "    console.debug(\"Bokeh: BokehJS not loaded, scheduling load and callback at\", now());\n",
       "    root._bokeh_is_loading = css_urls.length + js_urls.length;\n",
       "\n",
       "    function on_load() {\n",
       "      root._bokeh_is_loading--;\n",
       "      if (root._bokeh_is_loading === 0) {\n",
       "        console.debug(\"Bokeh: all BokehJS libraries/stylesheets loaded\");\n",
       "        run_callbacks()\n",
       "      }\n",
       "    }\n",
       "\n",
       "    function on_error() {\n",
       "      console.error(\"failed to load \" + url);\n",
       "    }\n",
       "\n",
       "    for (var i = 0; i < css_urls.length; i++) {\n",
       "      var url = css_urls[i];\n",
       "      const element = document.createElement(\"link\");\n",
       "      element.onload = on_load;\n",
       "      element.onerror = on_error;\n",
       "      element.rel = \"stylesheet\";\n",
       "      element.type = \"text/css\";\n",
       "      element.href = url;\n",
       "      console.debug(\"Bokeh: injecting link tag for BokehJS stylesheet: \", url);\n",
       "      document.body.appendChild(element);\n",
       "    }\n",
       "\n",
       "    for (var i = 0; i < js_urls.length; i++) {\n",
       "      var url = js_urls[i];\n",
       "      var element = document.createElement('script');\n",
       "      element.onload = on_load;\n",
       "      element.onerror = on_error;\n",
       "      element.async = false;\n",
       "      element.src = url;\n",
       "      console.debug(\"Bokeh: injecting script tag for BokehJS library: \", url);\n",
       "      document.head.appendChild(element);\n",
       "    }\n",
       "  };var element = document.getElementById(\"3295\");\n",
       "  if (element == null) {\n",
       "    console.error(\"Bokeh: ERROR: autoload.js configured with elementid '3295' but no matching script tag was found. \")\n",
       "    return false;\n",
       "  }\n",
       "\n",
       "  function inject_raw_css(css) {\n",
       "    const element = document.createElement(\"style\");\n",
       "    element.appendChild(document.createTextNode(css));\n",
       "    document.body.appendChild(element);\n",
       "  }\n",
       "\n",
       "  \n",
       "  var js_urls = [\"https://cdn.pydata.org/bokeh/release/bokeh-1.4.0.min.js\", \"https://cdn.pydata.org/bokeh/release/bokeh-widgets-1.4.0.min.js\", \"https://cdn.pydata.org/bokeh/release/bokeh-tables-1.4.0.min.js\", \"https://cdn.pydata.org/bokeh/release/bokeh-gl-1.4.0.min.js\"];\n",
       "  var css_urls = [];\n",
       "  \n",
       "\n",
       "  var inline_js = [\n",
       "    function(Bokeh) {\n",
       "      Bokeh.set_log_level(\"info\");\n",
       "    },\n",
       "    function(Bokeh) {\n",
       "    \n",
       "    \n",
       "    }\n",
       "  ];\n",
       "\n",
       "  function run_inline_js() {\n",
       "    \n",
       "    if (root.Bokeh !== undefined || force === true) {\n",
       "      \n",
       "    for (var i = 0; i < inline_js.length; i++) {\n",
       "      inline_js[i].call(root, root.Bokeh);\n",
       "    }\n",
       "    if (force === true) {\n",
       "        display_loaded();\n",
       "      }} else if (Date.now() < root._bokeh_timeout) {\n",
       "      setTimeout(run_inline_js, 100);\n",
       "    } else if (!root._bokeh_failed_load) {\n",
       "      console.log(\"Bokeh: BokehJS failed to load within specified timeout.\");\n",
       "      root._bokeh_failed_load = true;\n",
       "    } else if (force !== true) {\n",
       "      var cell = $(document.getElementById(\"3295\")).parents('.cell').data().cell;\n",
       "      cell.output_area.append_execute_result(NB_LOAD_WARNING)\n",
       "    }\n",
       "\n",
       "  }\n",
       "\n",
       "  if (root._bokeh_is_loading === 0) {\n",
       "    console.debug(\"Bokeh: BokehJS loaded, going straight to plotting\");\n",
       "    run_inline_js();\n",
       "  } else {\n",
       "    load_libs(css_urls, js_urls, function() {\n",
       "      console.debug(\"Bokeh: BokehJS plotting callback run at\", now());\n",
       "      run_inline_js();\n",
       "    });\n",
       "  }\n",
       "}(window));"
      ],
      "application/vnd.bokehjs_load.v0+json": "\n(function(root) {\n  function now() {\n    return new Date();\n  }\n\n  var force = true;\n\n  if (typeof root._bokeh_onload_callbacks === \"undefined\" || force === true) {\n    root._bokeh_onload_callbacks = [];\n    root._bokeh_is_loading = undefined;\n  }\n\n  \n\n  \n  if (typeof (root._bokeh_timeout) === \"undefined\" || force === true) {\n    root._bokeh_timeout = Date.now() + 5000;\n    root._bokeh_failed_load = false;\n  }\n\n  var NB_LOAD_WARNING = {'data': {'text/html':\n     \"<div style='background-color: #fdd'>\\n\"+\n     \"<p>\\n\"+\n     \"BokehJS does not appear to have successfully loaded. If loading BokehJS from CDN, this \\n\"+\n     \"may be due to a slow or bad network connection. Possible fixes:\\n\"+\n     \"</p>\\n\"+\n     \"<ul>\\n\"+\n     \"<li>re-rerun `output_notebook()` to attempt to load from CDN again, or</li>\\n\"+\n     \"<li>use INLINE resources instead, as so:</li>\\n\"+\n     \"</ul>\\n\"+\n     \"<code>\\n\"+\n     \"from bokeh.resources import INLINE\\n\"+\n     \"output_notebook(resources=INLINE)\\n\"+\n     \"</code>\\n\"+\n     \"</div>\"}};\n\n  function display_loaded() {\n    var el = document.getElementById(\"3295\");\n    if (el != null) {\n      el.textContent = \"BokehJS is loading...\";\n    }\n    if (root.Bokeh !== undefined) {\n      if (el != null) {\n        el.textContent = \"BokehJS \" + root.Bokeh.version + \" successfully loaded.\";\n      }\n    } else if (Date.now() < root._bokeh_timeout) {\n      setTimeout(display_loaded, 100)\n    }\n  }\n\n\n  function run_callbacks() {\n    try {\n      root._bokeh_onload_callbacks.forEach(function(callback) {\n        if (callback != null)\n          callback();\n      });\n    } finally {\n      delete root._bokeh_onload_callbacks\n    }\n    console.debug(\"Bokeh: all callbacks have finished\");\n  }\n\n  function load_libs(css_urls, js_urls, callback) {\n    if (css_urls == null) css_urls = [];\n    if (js_urls == null) js_urls = [];\n\n    root._bokeh_onload_callbacks.push(callback);\n    if (root._bokeh_is_loading > 0) {\n      console.debug(\"Bokeh: BokehJS is being loaded, scheduling callback at\", now());\n      return null;\n    }\n    if (js_urls == null || js_urls.length === 0) {\n      run_callbacks();\n      return null;\n    }\n    console.debug(\"Bokeh: BokehJS not loaded, scheduling load and callback at\", now());\n    root._bokeh_is_loading = css_urls.length + js_urls.length;\n\n    function on_load() {\n      root._bokeh_is_loading--;\n      if (root._bokeh_is_loading === 0) {\n        console.debug(\"Bokeh: all BokehJS libraries/stylesheets loaded\");\n        run_callbacks()\n      }\n    }\n\n    function on_error() {\n      console.error(\"failed to load \" + url);\n    }\n\n    for (var i = 0; i < css_urls.length; i++) {\n      var url = css_urls[i];\n      const element = document.createElement(\"link\");\n      element.onload = on_load;\n      element.onerror = on_error;\n      element.rel = \"stylesheet\";\n      element.type = \"text/css\";\n      element.href = url;\n      console.debug(\"Bokeh: injecting link tag for BokehJS stylesheet: \", url);\n      document.body.appendChild(element);\n    }\n\n    for (var i = 0; i < js_urls.length; i++) {\n      var url = js_urls[i];\n      var element = document.createElement('script');\n      element.onload = on_load;\n      element.onerror = on_error;\n      element.async = false;\n      element.src = url;\n      console.debug(\"Bokeh: injecting script tag for BokehJS library: \", url);\n      document.head.appendChild(element);\n    }\n  };var element = document.getElementById(\"3295\");\n  if (element == null) {\n    console.error(\"Bokeh: ERROR: autoload.js configured with elementid '3295' but no matching script tag was found. \")\n    return false;\n  }\n\n  function inject_raw_css(css) {\n    const element = document.createElement(\"style\");\n    element.appendChild(document.createTextNode(css));\n    document.body.appendChild(element);\n  }\n\n  \n  var js_urls = [\"https://cdn.pydata.org/bokeh/release/bokeh-1.4.0.min.js\", \"https://cdn.pydata.org/bokeh/release/bokeh-widgets-1.4.0.min.js\", \"https://cdn.pydata.org/bokeh/release/bokeh-tables-1.4.0.min.js\", \"https://cdn.pydata.org/bokeh/release/bokeh-gl-1.4.0.min.js\"];\n  var css_urls = [];\n  \n\n  var inline_js = [\n    function(Bokeh) {\n      Bokeh.set_log_level(\"info\");\n    },\n    function(Bokeh) {\n    \n    \n    }\n  ];\n\n  function run_inline_js() {\n    \n    if (root.Bokeh !== undefined || force === true) {\n      \n    for (var i = 0; i < inline_js.length; i++) {\n      inline_js[i].call(root, root.Bokeh);\n    }\n    if (force === true) {\n        display_loaded();\n      }} else if (Date.now() < root._bokeh_timeout) {\n      setTimeout(run_inline_js, 100);\n    } else if (!root._bokeh_failed_load) {\n      console.log(\"Bokeh: BokehJS failed to load within specified timeout.\");\n      root._bokeh_failed_load = true;\n    } else if (force !== true) {\n      var cell = $(document.getElementById(\"3295\")).parents('.cell').data().cell;\n      cell.output_area.append_execute_result(NB_LOAD_WARNING)\n    }\n\n  }\n\n  if (root._bokeh_is_loading === 0) {\n    console.debug(\"Bokeh: BokehJS loaded, going straight to plotting\");\n    run_inline_js();\n  } else {\n    load_libs(css_urls, js_urls, function() {\n      console.debug(\"Bokeh: BokehJS plotting callback run at\", now());\n      run_inline_js();\n    });\n  }\n}(window));"
     },
     "metadata": {},
     "output_type": "display_data"
    }
   ],
   "source": [
    "from biocrnpyler import *\n",
    "#from biocrnpyler.chemical_reaction_network import Species, Reaction, ComplexSpecies, Multimer\n",
    "import numpy as np\n",
    "#import pylab as plt \n",
    "#%matplotlib inline\n",
    "\n",
    "import bokeh.io\n",
    "import bokeh.plotting\n",
    "from bokeh.layouts import row\n",
    "\n",
    "bokeh.io.output_notebook()\n",
    "\n",
    "import colorcet\n",
    "\n",
    "from subsbml import createNewSubsystem, createSubsystem"
   ]
  },
  {
   "cell_type": "code",
   "execution_count": 27,
   "metadata": {},
   "outputs": [
    {
     "ename": "ValueError",
     "evalue": "list.remove(x): x not in list",
     "output_type": "error",
     "traceback": [
      "\u001b[0;31m---------------------------------------------------------------------------\u001b[0m",
      "\u001b[0;31mValueError\u001b[0m                                Traceback (most recent call last)",
      "\u001b[0;32m<ipython-input-27-9f1acf1eaf8d>\u001b[0m in \u001b[0;36m<module>\u001b[0;34m\u001b[0m\n\u001b[1;32m      1\u001b[0m \u001b[0mpalette\u001b[0m \u001b[0;34m=\u001b[0m \u001b[0mcolorcet\u001b[0m\u001b[0;34m.\u001b[0m\u001b[0mb_glasbey_category10\u001b[0m\u001b[0;34m\u001b[0m\u001b[0;34m\u001b[0m\u001b[0m\n\u001b[0;32m----> 2\u001b[0;31m \u001b[0mpalette\u001b[0m\u001b[0;34m.\u001b[0m\u001b[0mremove\u001b[0m\u001b[0;34m(\u001b[0m \u001b[0;34m'#d62628'\u001b[0m\u001b[0;34m)\u001b[0m\u001b[0;34m\u001b[0m\u001b[0;34m\u001b[0m\u001b[0m\n\u001b[0m",
      "\u001b[0;31mValueError\u001b[0m: list.remove(x): x not in list"
     ]
    }
   ],
   "source": [
    "palette = colorcet.b_glasbey_category10\n",
    "palette.remove( '#d62628')"
   ]
  },
  {
   "cell_type": "code",
   "execution_count": 56,
   "metadata": {},
   "outputs": [],
   "source": [
    "p_atp = bokeh.plotting.figure(width = 450, height = 350,\n",
    "                             title = 'ATP Compare',\n",
    "                             x_axis_label = 'time (sec)',\n",
    "                             y_axis_label = 'concentration (nM)')"
   ]
  },
  {
   "cell_type": "markdown",
   "metadata": {},
   "source": [
    "## Combine atp synthase with txtl machinery \n",
    "---"
   ]
  },
  {
   "cell_type": "markdown",
   "metadata": {},
   "source": [
    "Load in subsystem models"
   ]
  },
  {
   "cell_type": "code",
   "execution_count": 72,
   "metadata": {},
   "outputs": [],
   "source": [
    "# atp synthase models\n",
    "ss1_atpsyn_txtl = createSubsystem('atpsynthase_machinery_txtl.xml', subsystemName = 'atpsyn_txtl')\n",
    "ss2_atpsyn_mi = createSubsystem('atpsynthase_membrane_integration.xml', subsystemName = 'atpsyn_mi')\n",
    "ss3_atpsynthesis = createSubsystem('atp_synthesis_through_atpsynthase_try.xml', subsystemName = 'atpsynthesis')\n",
    "ss4_atp_use = createSubsystem('atp_75_use.xml', subsystemName = 'atp_use')"
   ]
  },
  {
   "cell_type": "markdown",
   "metadata": {},
   "source": [
    "Combine all models"
   ]
  },
  {
   "cell_type": "code",
   "execution_count": 73,
   "metadata": {},
   "outputs": [],
   "source": [
    "atp_subsystem_w_use = ss1_atpsyn_txtl + ss2_atpsyn_mi + ss3_atpsynthesis + ss4_atp_use"
   ]
  },
  {
   "cell_type": "markdown",
   "metadata": {},
   "source": [
    "Indicate initial conditions and timepoints, simulate with bioscrape, and get species IDs that you may want to plot"
   ]
  },
  {
   "cell_type": "code",
   "execution_count": 74,
   "metadata": {},
   "outputs": [],
   "source": [
    "# SIMULATE WITH ATP SYNTHASE\n",
    "# Initial conditions\n",
    "spec_list_10 = ['dna_atpsyn', 'proton_outside_H', 'metabolite_atp',\n",
    "                 'protein_RNAP_machinery', \n",
    "                'protein_Ribo_machinery', 'protein_RNAse_machinery']\n",
    "for i,spec in enumerate(spec_list_10):\n",
    "    atp_subsystem_w_use.setSpeciesAmount(spec,10)\n",
    "\n",
    "\n",
    "# timepoints and get WITH ATP SYNTHASE\n",
    "timepoints = np.linspace(0,200,100)\n",
    "results1, _ = atp_subsystem_w_use.simulateWithBioscrape(timepoints, sbml_warnings = False)\n",
    "\n",
    "# Get species IDs\n",
    "ATP_id = atp_subsystem_w_use.getSpeciesByName('metabolite_atp').getId()\n",
    "ADP_id = atp_subsystem_w_use.getSpeciesByName('metabolite_adp').getId()\n",
    "\n",
    "outside_H_id = atp_subsystem_w_use.getSpeciesByName('proton_outside_H').getId()\n",
    "inside_H_id = atp_subsystem_w_use.getSpeciesByName('proton_inside_H').getId()\n",
    "atp_synthase_b_protein_id = atp_subsystem_w_use.getSpeciesByName('protein_atpsyn_b').getId()\n",
    "atp_synthase_f_protein_id = atp_subsystem_w_use.getSpeciesByName('protein_atpsyn').getId()"
   ]
  },
  {
   "cell_type": "markdown",
   "metadata": {},
   "source": [
    "Perform simulations with the system with **only** ATP use, no atp synthase"
   ]
  },
  {
   "cell_type": "code",
   "execution_count": 75,
   "metadata": {},
   "outputs": [],
   "source": [
    "# SIMULATE WITHOUT ATP SYNTHASE\n",
    "#ss4_atp_use.setSpeciesAmount('proton_outside_H',10)\n",
    "ss4_atp_use.setSpeciesAmount('metabolite_atp',10)\n",
    "\n",
    "results2, _ = ss4_atp_use.simulateWithBioscrape(timepoints, sbml_warnings = False)\n",
    "\n",
    "# GET ATP species ID s\n",
    "ATP_id2 = ss4_atp_use.getSpeciesByName('metabolite_atp').getId()"
   ]
  },
  {
   "cell_type": "markdown",
   "metadata": {},
   "source": [
    "Plot!"
   ]
  },
  {
   "cell_type": "code",
   "execution_count": 76,
   "metadata": {},
   "outputs": [
    {
     "data": {
      "text/html": [
       "\n",
       "\n",
       "\n",
       "\n",
       "\n",
       "\n",
       "  <div class=\"bk-root\" id=\"168a6258-0c41-4519-b460-e1cc9544c7b9\" data-root-id=\"11255\"></div>\n"
      ]
     },
     "metadata": {},
     "output_type": "display_data"
    },
    {
     "data": {
      "application/javascript": [
       "(function(root) {\n",
       "  function embed_document(root) {\n",
       "    \n",
       "  var docs_json = {\"d5fbaa79-62c6-4fbd-87f2-0118b6ed8972\":{\"roots\":{\"references\":[{\"attributes\":{\"children\":[{\"id\":\"11052\",\"subtype\":\"Figure\",\"type\":\"Plot\"},{\"id\":\"11147\",\"subtype\":\"Figure\",\"type\":\"Plot\"}]},\"id\":\"11255\",\"type\":\"Row\"},{\"attributes\":{\"line_alpha\":0.1,\"line_color\":\"#1f77b4\",\"line_width\":2,\"x\":{\"field\":\"x\"},\"y\":{\"field\":\"y\"}},\"id\":\"11088\",\"type\":\"Line\"},{\"attributes\":{\"ticker\":{\"id\":\"11159\",\"type\":\"BasicTicker\"}},\"id\":\"11162\",\"type\":\"Grid\"},{\"attributes\":{\"line_color\":\"#1f77b3\",\"line_width\":2,\"x\":{\"field\":\"x\"},\"y\":{\"field\":\"y\"}},\"id\":\"11087\",\"type\":\"Line\"},{\"attributes\":{\"text\":\"with ATP Synthase\"},\"id\":\"11053\",\"type\":\"Title\"},{\"attributes\":{\"dimension\":1,\"ticker\":{\"id\":\"11164\",\"type\":\"BasicTicker\"}},\"id\":\"11167\",\"type\":\"Grid\"},{\"attributes\":{\"callback\":null},\"id\":\"11055\",\"type\":\"DataRange1d\"},{\"attributes\":{},\"id\":\"11164\",\"type\":\"BasicTicker\"},{\"attributes\":{\"axis_label\":\"concentration (nM)\",\"formatter\":{\"id\":\"11189\",\"type\":\"BasicTickFormatter\"},\"ticker\":{\"id\":\"11164\",\"type\":\"BasicTicker\"}},\"id\":\"11163\",\"type\":\"LinearAxis\"},{\"attributes\":{\"callback\":null},\"id\":\"11057\",\"type\":\"DataRange1d\"},{\"attributes\":{\"line_alpha\":0.1,\"line_color\":\"#1f77b4\",\"line_width\":2,\"x\":{\"field\":\"x\"},\"y\":{\"field\":\"y\"}},\"id\":\"11183\",\"type\":\"Line\"},{\"attributes\":{},\"id\":\"11059\",\"type\":\"LinearScale\"},{\"attributes\":{},\"id\":\"11061\",\"type\":\"LinearScale\"},{\"attributes\":{\"active_drag\":\"auto\",\"active_inspect\":\"auto\",\"active_multi\":null,\"active_scroll\":\"auto\",\"active_tap\":\"auto\",\"tools\":[{\"id\":\"11168\",\"type\":\"PanTool\"},{\"id\":\"11169\",\"type\":\"WheelZoomTool\"},{\"id\":\"11170\",\"type\":\"BoxZoomTool\"},{\"id\":\"11171\",\"type\":\"SaveTool\"},{\"id\":\"11172\",\"type\":\"ResetTool\"},{\"id\":\"11173\",\"type\":\"HelpTool\"}]},\"id\":\"11174\",\"type\":\"Toolbar\"},{\"attributes\":{\"axis_label\":\"time (hrs)\",\"formatter\":{\"id\":\"11092\",\"type\":\"BasicTickFormatter\"},\"ticker\":{\"id\":\"11064\",\"type\":\"BasicTicker\"}},\"id\":\"11063\",\"type\":\"LinearAxis\"},{\"attributes\":{\"callback\":null,\"data\":{\"x\":{\"__ndarray__\":\"AAAAAAAAAAAXqhByaWNCPxeqEHJpY1I/I/8YKx6VWz8XqhByaWNiP57UlM5D/GY/I/8YKx6Vaz/VlM5D/BZwPxeqEHJpY3I/W79SoNavdD+e1JTOQ/x2P+Hp1vywSHk/I/8YKx6Vez9mFFtZi+F9P9WUzkP8FoA/dp/v2jI9gT8XqhByaWOCP7q0MQmgiYM/W79SoNavhD/9yXM3DdaFP57UlM5D/IY/QN+1ZXoiiD/h6db8sEiJP4P095Pnboo/I/8YKx6Viz/FCTrCVLuMP2YUW1mL4Y0/Bx988MEHjz/VlM5D/BaQPyUaX48XqpA/dp/v2jI9kT/HJIAmTtCRPxeqEHJpY5I/aS+hvYT2kj+6tDEJoImTPws6wlS7HJQ/W79SoNavlD+sROPr8UKVP/3JczcN1pU/Tk8Egyhplj+e1JTOQ/yWP+9ZJRpfj5c/QN+1ZXoimD+QZEaxlbWYP+Hp1vywSJk/Mm9nSMzbmT+D9PeT526aP9N5iN8CAps/I/8YKx6Vmz90hKl2OSicP8UJOsJUu5w/FY/KDXBOnT9mFFtZi+GdP7eZ66SmdJ4/Bx988MEHnz9ZpAw83ZqfP9WUzkP8FqA/fdeW6YlgoD8lGl+PF6qgP85cJzWl86A/dp/v2jI9oT8f4reAwIahP8ckgCZO0KE/cGdIzNsZoj8XqhByaWOiP8Ds2Bf3rKI/aS+hvYT2oj8RcmljEkCjP7q0MQmgiaM/Yvf5ri3Toz8LOsJUuxykP7J8ivpIZqQ/W79SoNavpD8DAhtGZPmkP6xE4+vxQqU/VIerkX+MpT/9yXM3DdalP6UMPN2aH6Y/Tk8Egyhppj/1kcwotrKmP57UlM5D/KY/RhdddNFFpz/vWSUaX4+nP5ec7b/s2Kc/QN+1ZXoiqD/pIX4LCGyoP5BkRrGVtag/OacOVyP/qD/h6db8sEipP4osn6I+kqk/Mm9nSMzbqT/bsS/uWSWqP4P095Pnbqo/LDfAOXW4qj/TeYjfAgKrP3y8UIWQS6s/I/8YKx6Vqz/MQeHQq96rP3SEqXY5KKw/HcdxHMdxrD8=\",\"dtype\":\"float64\",\"shape\":[100]},\"y\":{\"__ndarray__\":\"AAAAAAAAJEBJwXc68MkQvYW1inMvrgC99pEVCWZTjLyzlQTGxsp/vOYdeOcFu1u8hJlaqeVYBLwg++gvOm4DvL1cd7aOgwK8Wb4FPeOYAbz2H5TDN64AvCQDRZQYh/+7XMZhocGx/buUiX6uatz7u85Mm7sTB/q7BhC4yLwx+Ls/09TVZVz2u3eW8eIOh/S7r1kO8Lex8rvoHCv9YNzwu0LAjxQUDu67skbJLmZj6rskzQJJuLjmu5VTPGMKDuO7E7Tr+rjG3rv2wF4vXXHXu9jN0WMBHNC7dbWJMEuNwbvOeX7LnBSXuyZF7wC6wEq7HMS4ZAWLSbsTQ4LIUFVIuwrCSyycH0e7AUEVkOfpRbv4v97zMrREu+8+qFd+fkO75r1xu8lIQrvdPDsfFRNBu6d3CQbBuj+7lXWczVdPPbuDcy+V7uM6u3FxwlyFeDi7Xm9VJBwNNrtNbejrsqEzuztre7NJNjG7UNIc9sCVLbsszkKF7r4ouwjKaBQc6CO724sdR5MiHruSg2ll7nQUu5T2ageTjgW7FTAXIEqa0bo7/+WuFAaSupBKNe/d8ZG65JWEL6fdkbo64dNvcMmRuo4sI7A5tZG65Hdy8AKhkbo4w8EwzIyRuo0OEXGVeJG64llgsV5kkbo3pa/xJ1CRuovw/jHxO5G64TtOcronkbo1h52ygxORuovS7PJM/5C63x08MxbrkLo1aYtz39aQuom02rOowpC63v8p9HGukLozS3k0O5qQuoiWyHQEhpC63OEXtc1xkLoyLWf1ll2QuoZ4tjVgSZC628MFdik1kLowD1W28iCQuoZapPa7DJC6tEvnbQrxj7pe4oXunMiPugd5JG8voI+6sg/D78F3j7papmFwVE+PugU9APHmJo+6rtOecXn+jrpaaj3yC9aOugEB3HKerY66rZd68zCFjrpWLhl0w1yOugHFt/RVNI66qVtWdegLjrpU8vT1euONuv2Ik3YNu426px8y95+SjbpQttB3MmqNuvtMb/jEQY26peMNeVcZjbpOeqz56fCMuvgQS3p8yIy6oqfp+g6gjLo=\",\"dtype\":\"float64\",\"shape\":[100]}},\"selected\":{\"id\":\"11657\",\"type\":\"Selection\"},\"selection_policy\":{\"id\":\"11658\",\"type\":\"UnionRenderers\"}},\"id\":\"11181\",\"type\":\"ColumnDataSource\"},{\"attributes\":{\"dimension\":1,\"ticker\":{\"id\":\"11069\",\"type\":\"BasicTicker\"}},\"id\":\"11072\",\"type\":\"Grid\"},{\"attributes\":{},\"id\":\"11064\",\"type\":\"BasicTicker\"},{\"attributes\":{},\"id\":\"11168\",\"type\":\"PanTool\"},{\"attributes\":{\"ticker\":{\"id\":\"11064\",\"type\":\"BasicTicker\"}},\"id\":\"11067\",\"type\":\"Grid\"},{\"attributes\":{},\"id\":\"11169\",\"type\":\"WheelZoomTool\"},{\"attributes\":{},\"id\":\"11069\",\"type\":\"BasicTicker\"},{\"attributes\":{\"overlay\":{\"id\":\"11191\",\"type\":\"BoxAnnotation\"}},\"id\":\"11170\",\"type\":\"BoxZoomTool\"},{\"attributes\":{\"axis_label\":\"concentration (nM)\",\"formatter\":{\"id\":\"11094\",\"type\":\"BasicTickFormatter\"},\"ticker\":{\"id\":\"11069\",\"type\":\"BasicTicker\"}},\"id\":\"11068\",\"type\":\"LinearAxis\"},{\"attributes\":{},\"id\":\"11171\",\"type\":\"SaveTool\"},{\"attributes\":{},\"id\":\"11172\",\"type\":\"ResetTool\"},{\"attributes\":{},\"id\":\"11173\",\"type\":\"HelpTool\"},{\"attributes\":{\"active_drag\":\"auto\",\"active_inspect\":\"auto\",\"active_multi\":null,\"active_scroll\":\"auto\",\"active_tap\":\"auto\",\"tools\":[{\"id\":\"11073\",\"type\":\"PanTool\"},{\"id\":\"11074\",\"type\":\"WheelZoomTool\"},{\"id\":\"11075\",\"type\":\"BoxZoomTool\"},{\"id\":\"11076\",\"type\":\"SaveTool\"},{\"id\":\"11077\",\"type\":\"ResetTool\"},{\"id\":\"11078\",\"type\":\"HelpTool\"}]},\"id\":\"11079\",\"type\":\"Toolbar\"},{\"attributes\":{\"callback\":null,\"data\":{\"x\":{\"__ndarray__\":\"AAAAAAAAAAAXqhByaWNCPxeqEHJpY1I/I/8YKx6VWz8XqhByaWNiP57UlM5D/GY/I/8YKx6Vaz/VlM5D/BZwPxeqEHJpY3I/W79SoNavdD+e1JTOQ/x2P+Hp1vywSHk/I/8YKx6Vez9mFFtZi+F9P9WUzkP8FoA/dp/v2jI9gT8XqhByaWOCP7q0MQmgiYM/W79SoNavhD/9yXM3DdaFP57UlM5D/IY/QN+1ZXoiiD/h6db8sEiJP4P095Pnboo/I/8YKx6Viz/FCTrCVLuMP2YUW1mL4Y0/Bx988MEHjz/VlM5D/BaQPyUaX48XqpA/dp/v2jI9kT/HJIAmTtCRPxeqEHJpY5I/aS+hvYT2kj+6tDEJoImTPws6wlS7HJQ/W79SoNavlD+sROPr8UKVP/3JczcN1pU/Tk8Egyhplj+e1JTOQ/yWP+9ZJRpfj5c/QN+1ZXoimD+QZEaxlbWYP+Hp1vywSJk/Mm9nSMzbmT+D9PeT526aP9N5iN8CAps/I/8YKx6Vmz90hKl2OSicP8UJOsJUu5w/FY/KDXBOnT9mFFtZi+GdP7eZ66SmdJ4/Bx988MEHnz9ZpAw83ZqfP9WUzkP8FqA/fdeW6YlgoD8lGl+PF6qgP85cJzWl86A/dp/v2jI9oT8f4reAwIahP8ckgCZO0KE/cGdIzNsZoj8XqhByaWOiP8Ds2Bf3rKI/aS+hvYT2oj8RcmljEkCjP7q0MQmgiaM/Yvf5ri3Toz8LOsJUuxykP7J8ivpIZqQ/W79SoNavpD8DAhtGZPmkP6xE4+vxQqU/VIerkX+MpT/9yXM3DdalP6UMPN2aH6Y/Tk8Egyhppj/1kcwotrKmP57UlM5D/KY/RhdddNFFpz/vWSUaX4+nP5ec7b/s2Kc/QN+1ZXoiqD/pIX4LCGyoP5BkRrGVtag/OacOVyP/qD/h6db8sEipP4osn6I+kqk/Mm9nSMzbqT/bsS/uWSWqP4P095Pnbqo/LDfAOXW4qj/TeYjfAgKrP3y8UIWQS6s/I/8YKx6Vqz/MQeHQq96rP3SEqXY5KKw/HcdxHMdxrD8=\",\"dtype\":\"float64\",\"shape\":[100]},\"y\":{\"__ndarray__\":\"AAAAAAAAJECJQl3ufXEeQIpCXe59cR5AikJd7n1xHkCHQl3ufXEeQIdCXe59cR5AhkJd7n1xHkCOQl3ufXEeQKtBXe59cR5AhEJd7n1xHkCFQl3ufXEeQIRCXe59cR5Ah0Jd7n1xHkCHQl3ufXEeQIZCXe59cR5AhUJd7n1xHkCGQl3ufXEeQIRCXe59cR5ACEJd7n1xHkCEQl3ufXEeQINCXe59cR5AhEJd7n1xHkCDQl3ufXEeQINCXe59cR5Ag0Jd7n1xHkCCQl3ufXEeQIZCXe59cR5AgkJd7n1xHkB4Ql3ufXEeQGFCXe59cR5AkkFd7n1xHkDrPl3ufXEeQJ5CXe59cR5AgkJd7n1xHkCEQl3ufXEeQIVCXe59cR5AhUJd7n1xHkCEQl3ufXEeQINCXe59cR5Ag0Jd7n1xHkCCQl3ufXEeQIJCXe59cR5AgUJd7n1xHkCCQl3ufXEeQINCXe59cR5AhEJd7n1xHkCFQl3ufXEeQIRCXe59cR5Ag0Jd7n1xHkCDQl3ufXEeQINCXe59cR5Ag0Jd7n1xHkCDQl3ufXEeQINCXe59cR5Ag0Jd7n1xHkCDQl3ufXEeQINCXe59cR5Ag0Jd7n1xHkCDQl3ufXEeQINCXe59cR5Ag0Jd7n1xHkCDQl3ufXEeQINCXe59cR5Ag0Jd7n1xHkCDQl3ufXEeQIRCXe59cR5Ag0Jd7n1xHkCDQl3ufXEeQIRCXe59cR5AhEJd7n1xHkCEQl3ufXEeQINCXe59cR5Ag0Jd7n1xHkCDQl3ufXEeQINCXe59cR5Ag0Jd7n1xHkCDQl3ufXEeQINCXe59cR5Ag0Jd7n1xHkCEQl3ufXEeQIRCXe59cR5Ag0Jd7n1xHkCDQl3ufXEeQINCXe59cR5Ag0Jd7n1xHkCDQl3ufXEeQINCXe59cR5Ag0Jd7n1xHkCDQl3ufXEeQINCXe59cR5Ag0Jd7n1xHkCDQl3ufXEeQINCXe59cR5Ag0Jd7n1xHkCDQl3ufXEeQIRCXe59cR5AhEJd7n1xHkCEQl3ufXEeQIRCXe59cR5AhEJd7n1xHkA=\",\"dtype\":\"float64\",\"shape\":[100]}},\"selected\":{\"id\":\"11109\",\"type\":\"Selection\"},\"selection_policy\":{\"id\":\"11110\",\"type\":\"UnionRenderers\"}},\"id\":\"11086\",\"type\":\"ColumnDataSource\"},{\"attributes\":{\"data_source\":{\"id\":\"11181\",\"type\":\"ColumnDataSource\"},\"glyph\":{\"id\":\"11182\",\"type\":\"Line\"},\"hover_glyph\":null,\"muted_glyph\":null,\"nonselection_glyph\":{\"id\":\"11183\",\"type\":\"Line\"},\"selection_glyph\":null,\"view\":{\"id\":\"11185\",\"type\":\"CDSView\"}},\"id\":\"11184\",\"type\":\"GlyphRenderer\"},{\"attributes\":{\"data_source\":{\"id\":\"11086\",\"type\":\"ColumnDataSource\"},\"glyph\":{\"id\":\"11087\",\"type\":\"Line\"},\"hover_glyph\":null,\"muted_glyph\":null,\"nonselection_glyph\":{\"id\":\"11088\",\"type\":\"Line\"},\"selection_glyph\":null,\"view\":{\"id\":\"11090\",\"type\":\"CDSView\"}},\"id\":\"11089\",\"type\":\"GlyphRenderer\"},{\"attributes\":{},\"id\":\"11073\",\"type\":\"PanTool\"},{\"attributes\":{\"bottom_units\":\"screen\",\"fill_alpha\":{\"value\":0.5},\"fill_color\":{\"value\":\"lightgrey\"},\"left_units\":\"screen\",\"level\":\"overlay\",\"line_alpha\":{\"value\":1.0},\"line_color\":{\"value\":\"black\"},\"line_dash\":[4,4],\"line_width\":{\"value\":2},\"render_mode\":\"css\",\"right_units\":\"screen\",\"top_units\":\"screen\"},\"id\":\"11191\",\"type\":\"BoxAnnotation\"},{\"attributes\":{\"items\":[{\"id\":\"11193\",\"type\":\"LegendItem\"}]},\"id\":\"11192\",\"type\":\"Legend\"},{\"attributes\":{\"below\":[{\"id\":\"11158\",\"type\":\"LinearAxis\"}],\"center\":[{\"id\":\"11162\",\"type\":\"Grid\"},{\"id\":\"11167\",\"type\":\"Grid\"},{\"id\":\"11192\",\"type\":\"Legend\"}],\"left\":[{\"id\":\"11163\",\"type\":\"LinearAxis\"}],\"plot_height\":350,\"plot_width\":450,\"renderers\":[{\"id\":\"11184\",\"type\":\"GlyphRenderer\"}],\"title\":{\"id\":\"11148\",\"type\":\"Title\"},\"toolbar\":{\"id\":\"11174\",\"type\":\"Toolbar\"},\"x_range\":{\"id\":\"11150\",\"type\":\"DataRange1d\"},\"x_scale\":{\"id\":\"11154\",\"type\":\"LinearScale\"},\"y_range\":{\"id\":\"11152\",\"type\":\"DataRange1d\"},\"y_scale\":{\"id\":\"11156\",\"type\":\"LinearScale\"}},\"id\":\"11147\",\"subtype\":\"Figure\",\"type\":\"Plot\"},{\"attributes\":{},\"id\":\"11187\",\"type\":\"BasicTickFormatter\"},{\"attributes\":{\"overlay\":{\"id\":\"11096\",\"type\":\"BoxAnnotation\"}},\"id\":\"11075\",\"type\":\"BoxZoomTool\"},{\"attributes\":{},\"id\":\"11076\",\"type\":\"SaveTool\"},{\"attributes\":{\"source\":{\"id\":\"11181\",\"type\":\"ColumnDataSource\"}},\"id\":\"11185\",\"type\":\"CDSView\"},{\"attributes\":{},\"id\":\"11077\",\"type\":\"ResetTool\"},{\"attributes\":{},\"id\":\"11189\",\"type\":\"BasicTickFormatter\"},{\"attributes\":{},\"id\":\"11078\",\"type\":\"HelpTool\"},{\"attributes\":{\"label\":{\"value\":\"atp\"},\"renderers\":[{\"id\":\"11184\",\"type\":\"GlyphRenderer\"}]},\"id\":\"11193\",\"type\":\"LegendItem\"},{\"attributes\":{\"source\":{\"id\":\"11086\",\"type\":\"ColumnDataSource\"}},\"id\":\"11090\",\"type\":\"CDSView\"},{\"attributes\":{},\"id\":\"11092\",\"type\":\"BasicTickFormatter\"},{\"attributes\":{\"bottom_units\":\"screen\",\"fill_alpha\":{\"value\":0.5},\"fill_color\":{\"value\":\"lightgrey\"},\"left_units\":\"screen\",\"level\":\"overlay\",\"line_alpha\":{\"value\":1.0},\"line_color\":{\"value\":\"black\"},\"line_dash\":[4,4],\"line_width\":{\"value\":2},\"render_mode\":\"css\",\"right_units\":\"screen\",\"top_units\":\"screen\"},\"id\":\"11096\",\"type\":\"BoxAnnotation\"},{\"attributes\":{\"line_color\":\"#ff7e0e\",\"line_width\":2,\"x\":{\"field\":\"x\"},\"y\":{\"field\":\"y\"}},\"id\":\"11100\",\"type\":\"Line\"},{\"attributes\":{\"click_policy\":\"hide\",\"items\":[{\"id\":\"11098\",\"type\":\"LegendItem\"},{\"id\":\"11112\",\"type\":\"LegendItem\"},{\"id\":\"11128\",\"type\":\"LegendItem\"},{\"id\":\"11146\",\"type\":\"LegendItem\"}],\"location\":\"bottom_right\"},\"id\":\"11097\",\"type\":\"Legend\"},{\"attributes\":{},\"id\":\"11094\",\"type\":\"BasicTickFormatter\"},{\"attributes\":{},\"id\":\"11657\",\"type\":\"Selection\"},{\"attributes\":{},\"id\":\"11655\",\"type\":\"UnionRenderers\"},{\"attributes\":{\"label\":{\"value\":\"atp\"},\"renderers\":[{\"id\":\"11089\",\"type\":\"GlyphRenderer\"}]},\"id\":\"11098\",\"type\":\"LegendItem\"},{\"attributes\":{\"callback\":null,\"data\":{\"x\":{\"__ndarray__\":\"AAAAAAAAAAAXqhByaWNCPxeqEHJpY1I/I/8YKx6VWz8XqhByaWNiP57UlM5D/GY/I/8YKx6Vaz/VlM5D/BZwPxeqEHJpY3I/W79SoNavdD+e1JTOQ/x2P+Hp1vywSHk/I/8YKx6Vez9mFFtZi+F9P9WUzkP8FoA/dp/v2jI9gT8XqhByaWOCP7q0MQmgiYM/W79SoNavhD/9yXM3DdaFP57UlM5D/IY/QN+1ZXoiiD/h6db8sEiJP4P095Pnboo/I/8YKx6Viz/FCTrCVLuMP2YUW1mL4Y0/Bx988MEHjz/VlM5D/BaQPyUaX48XqpA/dp/v2jI9kT/HJIAmTtCRPxeqEHJpY5I/aS+hvYT2kj+6tDEJoImTPws6wlS7HJQ/W79SoNavlD+sROPr8UKVP/3JczcN1pU/Tk8Egyhplj+e1JTOQ/yWP+9ZJRpfj5c/QN+1ZXoimD+QZEaxlbWYP+Hp1vywSJk/Mm9nSMzbmT+D9PeT526aP9N5iN8CAps/I/8YKx6Vmz90hKl2OSicP8UJOsJUu5w/FY/KDXBOnT9mFFtZi+GdP7eZ66SmdJ4/Bx988MEHnz9ZpAw83ZqfP9WUzkP8FqA/fdeW6YlgoD8lGl+PF6qgP85cJzWl86A/dp/v2jI9oT8f4reAwIahP8ckgCZO0KE/cGdIzNsZoj8XqhByaWOiP8Ds2Bf3rKI/aS+hvYT2oj8RcmljEkCjP7q0MQmgiaM/Yvf5ri3Toz8LOsJUuxykP7J8ivpIZqQ/W79SoNavpD8DAhtGZPmkP6xE4+vxQqU/VIerkX+MpT/9yXM3DdalP6UMPN2aH6Y/Tk8Egyhppj/1kcwotrKmP57UlM5D/KY/RhdddNFFpz/vWSUaX4+nP5ec7b/s2Kc/QN+1ZXoiqD/pIX4LCGyoP5BkRrGVtag/OacOVyP/qD/h6db8sEipP4osn6I+kqk/Mm9nSMzbqT/bsS/uWSWqP4P095Pnbqo/LDfAOXW4qj/TeYjfAgKrP3y8UIWQS6s/I/8YKx6Vqz/MQeHQq96rP3SEqXY5KKw/HcdxHMdxrD8=\",\"dtype\":\"float64\",\"shape\":[100]},\"y\":{\"__ndarray__\":\"AAAAAAAAJEBNf7rm4vojQJq5qO69sCNAjVOuDFaFIkDJ/yqVT5YfQB4JGwnA1RZAZuBToJ7TCUDtBwumRtn0P4JJBEETt9U/DbDFCmIrqj9ooRSPaUFwP3BVay7ociI/gWUxaYPxwD51vGimFO5GPkZmwGobpOe9YBQ9k+6i1b0OAvQYDAvFvda3xrN6suQ9CPuipOKpTz50hXDgJ9K3vVJSUQ/mkXi9tOtkV950hb0jff7VhaBivfH1FEiwh3+9sBKpNQTaxz1S7AXMiw0DPkawwMkNykO+k0dpHmz4Gb4txtf67BQlPldnnw6xRBI+AGH3I96lhL1g8wOr2wsyvlMQoljpRgk+JFV8Fg7J3T3aDmCGU/7zPchXv5Kcpgq+FrAlE05dIz4a1eBEvtAGvhgZvYnBsP69ONRQdjHEGL5LzcUCB+MSPlTeB281RB4+hA/twsWAsz0c2WovI9whvbGFa2rda+S8mngzs+i3xbxXLDNKOyOCPHYFSmLqS4k89IJqbMoosDyjucfdA1KAPH6B9pbrp7k8ZPzPyh9ExzxoTv3o4HeYvE0QrRrnxJ48sBSI5CcXqTwMiXL3Aa7VPIzCAUFnbNu8gGfmPIu+3DzQtA5hKA3zPECcqv+mazG9UGdSPrUkYD3Afydm2HmHvSCbz3n/G6o9SIWZAN5qy73oxNrXoLvoPUCcXItcQ+Q9KXlhl35Cwr0ZiafbUKF2PR1wIFvj4j89Z1HgYwRcHD1XAv8ar9IMvYkg2ryWJAI9YX/UkgAMCT3bfbCcOP3uvEYLo4lnu+G8QOP4GK6ltzxkSBGs1koZvYqvn172UBA92Td3aJQhJr0yCZum5A/ovI/WyGJODB89hPYQV9DAEb0QNNlj2YjrvBag1NUEMCK9VqhLOz5mI7106SNbhNk2PQD6XLChb0i9FF+9esveOT2gsDVsmFNdPTgO8ZBJVIC97GdykKkQkz1gtEa1t+9zvVw5jkrLLbO9GBjhZe8p1z1m+0I+UsnlvTCkdyNEPu89aFyOv8/eKD7AMalUNaw2vtXurXYv+EQ9HhbDkHs08Tw=\",\"dtype\":\"float64\",\"shape\":[100]}},\"selected\":{\"id\":\"11125\",\"type\":\"Selection\"},\"selection_policy\":{\"id\":\"11126\",\"type\":\"UnionRenderers\"}},\"id\":\"11099\",\"type\":\"ColumnDataSource\"},{\"attributes\":{},\"id\":\"11658\",\"type\":\"UnionRenderers\"},{\"attributes\":{\"data_source\":{\"id\":\"11099\",\"type\":\"ColumnDataSource\"},\"glyph\":{\"id\":\"11100\",\"type\":\"Line\"},\"hover_glyph\":null,\"muted_glyph\":null,\"nonselection_glyph\":{\"id\":\"11101\",\"type\":\"Line\"},\"selection_glyph\":null,\"view\":{\"id\":\"11103\",\"type\":\"CDSView\"}},\"id\":\"11102\",\"type\":\"GlyphRenderer\"},{\"attributes\":{},\"id\":\"11109\",\"type\":\"Selection\"},{\"attributes\":{\"line_alpha\":0.1,\"line_color\":\"#1f77b4\",\"line_width\":2,\"x\":{\"field\":\"x\"},\"y\":{\"field\":\"y\"}},\"id\":\"11101\",\"type\":\"Line\"},{\"attributes\":{\"source\":{\"id\":\"11099\",\"type\":\"ColumnDataSource\"}},\"id\":\"11103\",\"type\":\"CDSView\"},{\"attributes\":{\"callback\":null,\"data\":{\"x\":{\"__ndarray__\":\"AAAAAAAAAAAXqhByaWNCPxeqEHJpY1I/I/8YKx6VWz8XqhByaWNiP57UlM5D/GY/I/8YKx6Vaz/VlM5D/BZwPxeqEHJpY3I/W79SoNavdD+e1JTOQ/x2P+Hp1vywSHk/I/8YKx6Vez9mFFtZi+F9P9WUzkP8FoA/dp/v2jI9gT8XqhByaWOCP7q0MQmgiYM/W79SoNavhD/9yXM3DdaFP57UlM5D/IY/QN+1ZXoiiD/h6db8sEiJP4P095Pnboo/I/8YKx6Viz/FCTrCVLuMP2YUW1mL4Y0/Bx988MEHjz/VlM5D/BaQPyUaX48XqpA/dp/v2jI9kT/HJIAmTtCRPxeqEHJpY5I/aS+hvYT2kj+6tDEJoImTPws6wlS7HJQ/W79SoNavlD+sROPr8UKVP/3JczcN1pU/Tk8Egyhplj+e1JTOQ/yWP+9ZJRpfj5c/QN+1ZXoimD+QZEaxlbWYP+Hp1vywSJk/Mm9nSMzbmT+D9PeT526aP9N5iN8CAps/I/8YKx6Vmz90hKl2OSicP8UJOsJUu5w/FY/KDXBOnT9mFFtZi+GdP7eZ66SmdJ4/Bx988MEHnz9ZpAw83ZqfP9WUzkP8FqA/fdeW6YlgoD8lGl+PF6qgP85cJzWl86A/dp/v2jI9oT8f4reAwIahP8ckgCZO0KE/cGdIzNsZoj8XqhByaWOiP8Ds2Bf3rKI/aS+hvYT2oj8RcmljEkCjP7q0MQmgiaM/Yvf5ri3Toz8LOsJUuxykP7J8ivpIZqQ/W79SoNavpD8DAhtGZPmkP6xE4+vxQqU/VIerkX+MpT/9yXM3DdalP6UMPN2aH6Y/Tk8Egyhppj/1kcwotrKmP57UlM5D/KY/RhdddNFFpz/vWSUaX4+nP5ec7b/s2Kc/QN+1ZXoiqD/pIX4LCGyoP5BkRrGVtag/OacOVyP/qD/h6db8sEipP4osn6I+kqk/Mm9nSMzbqT/bsS/uWSWqP4P095Pnbqo/LDfAOXW4qj/TeYjfAgKrP3y8UIWQS6s/I/8YKx6Vqz/MQeHQq96rP3SEqXY5KKw/HcdxHMdxrD8=\",\"dtype\":\"float64\",\"shape\":[100]},\"y\":{\"__ndarray__\":\"AAAAAAAAAABHqwIWZXSEPw2X0VWE0MM/VsYaNZ+q5z9FAKrVYNMAQM/25PY/KhFAuQ/WrzAWG0D3nj4r12QhQKvd92VHUiNARzr1ndTlI0BjHc7S9/0jQJHRF43t/yNAV/I5vP//I0CrR6T///8jQD56AQAAACRAE60AAAAAJEAoVAAAAAAkQNS0/v///yNAcliB////I0CgLwAAAAAkQA4DAAAAACRAWgUAAAAAJEAnAQAAAAAkQO0DAAAAACRAlKD/////I0CZPPv///8jQDMoTwAAACRAMvwMAAAAJEAQ6+r///8jQKPd9v///yNAJQUAAAAAJEC0FyQAAAAkQEKu+f///yNAtBH/////I0AygP3///8jQKSpBgAAACRAr6Ls////I0ArtAUAAAAkQBTWAwAAACRAFGIMAAAAJEB4jvb///8jQOHd8P///yNA+tj/////I0AMAAAAAAAkQPr//////yNA+f//////I0D4//////8jQPn//////yNA+f//////I0D5//////8jQPn//////yNA+f//////I0D6//////8jQPr//////yNA+v//////I0D5//////8jQPv//////yNA+f//////I0D4//////8jQBwAAAAAACRA+P7/////I0DZBQAAAAAkQN7l/////yNApm0AAAAAJEBAdP7///8jQMW7/v///yNAB0kAAAAAJEAq/f////8jQL///////yNA8P//////I0AFAAAAAAAkQPr//////yNA+P//////I0ABAAAAAAAkQAAAAAAAACRA////////I0ALAAAAAAAkQPb//////yNAFAAAAAAAJED///////8jQO7//////yNABQAAAAAAJED+//////8jQA4AAAAAACRAEAAAAAAAJEDP//////8jQF8AAAAAACRAyv//////I0AT//////8jQBIEAAAAACRAdfb/////I0B8AgAAAAAkQFkmAAAAACRArkb/////I0CTXAEAAAAkQBoM/v///yNALiHn////I0BpWC0AAAAkQKr//////yNA/P//////I0A=\",\"dtype\":\"float64\",\"shape\":[100]}},\"selected\":{\"id\":\"11143\",\"type\":\"Selection\"},\"selection_policy\":{\"id\":\"11144\",\"type\":\"UnionRenderers\"}},\"id\":\"11113\",\"type\":\"ColumnDataSource\"},{\"attributes\":{},\"id\":\"11110\",\"type\":\"UnionRenderers\"},{\"attributes\":{\"line_color\":\"#1f77b3\",\"line_width\":2,\"x\":{\"field\":\"x\"},\"y\":{\"field\":\"y\"}},\"id\":\"11182\",\"type\":\"Line\"},{\"attributes\":{\"line_color\":\"#2ba02b\",\"line_width\":2,\"x\":{\"field\":\"x\"},\"y\":{\"field\":\"y\"}},\"id\":\"11114\",\"type\":\"Line\"},{\"attributes\":{},\"id\":\"11654\",\"type\":\"Selection\"},{\"attributes\":{\"line_alpha\":0.1,\"line_color\":\"#1f77b4\",\"line_width\":2,\"x\":{\"field\":\"x\"},\"y\":{\"field\":\"y\"}},\"id\":\"11115\",\"type\":\"Line\"},{\"attributes\":{\"data_source\":{\"id\":\"11113\",\"type\":\"ColumnDataSource\"},\"glyph\":{\"id\":\"11114\",\"type\":\"Line\"},\"hover_glyph\":null,\"muted_glyph\":null,\"nonselection_glyph\":{\"id\":\"11115\",\"type\":\"Line\"},\"selection_glyph\":null,\"view\":{\"id\":\"11117\",\"type\":\"CDSView\"}},\"id\":\"11116\",\"type\":\"GlyphRenderer\"},{\"attributes\":{\"callback\":null,\"data\":{\"x\":{\"__ndarray__\":\"AAAAAAAAAAAXqhByaWNCPxeqEHJpY1I/I/8YKx6VWz8XqhByaWNiP57UlM5D/GY/I/8YKx6Vaz/VlM5D/BZwPxeqEHJpY3I/W79SoNavdD+e1JTOQ/x2P+Hp1vywSHk/I/8YKx6Vez9mFFtZi+F9P9WUzkP8FoA/dp/v2jI9gT8XqhByaWOCP7q0MQmgiYM/W79SoNavhD/9yXM3DdaFP57UlM5D/IY/QN+1ZXoiiD/h6db8sEiJP4P095Pnboo/I/8YKx6Viz/FCTrCVLuMP2YUW1mL4Y0/Bx988MEHjz/VlM5D/BaQPyUaX48XqpA/dp/v2jI9kT/HJIAmTtCRPxeqEHJpY5I/aS+hvYT2kj+6tDEJoImTPws6wlS7HJQ/W79SoNavlD+sROPr8UKVP/3JczcN1pU/Tk8Egyhplj+e1JTOQ/yWP+9ZJRpfj5c/QN+1ZXoimD+QZEaxlbWYP+Hp1vywSJk/Mm9nSMzbmT+D9PeT526aP9N5iN8CAps/I/8YKx6Vmz90hKl2OSicP8UJOsJUu5w/FY/KDXBOnT9mFFtZi+GdP7eZ66SmdJ4/Bx988MEHnz9ZpAw83ZqfP9WUzkP8FqA/fdeW6YlgoD8lGl+PF6qgP85cJzWl86A/dp/v2jI9oT8f4reAwIahP8ckgCZO0KE/cGdIzNsZoj8XqhByaWOiP8Ds2Bf3rKI/aS+hvYT2oj8RcmljEkCjP7q0MQmgiaM/Yvf5ri3Toz8LOsJUuxykP7J8ivpIZqQ/W79SoNavpD8DAhtGZPmkP6xE4+vxQqU/VIerkX+MpT/9yXM3DdalP6UMPN2aH6Y/Tk8Egyhppj/1kcwotrKmP57UlM5D/KY/RhdddNFFpz/vWSUaX4+nP5ec7b/s2Kc/QN+1ZXoiqD/pIX4LCGyoP5BkRrGVtag/OacOVyP/qD/h6db8sEipP4osn6I+kqk/Mm9nSMzbqT/bsS/uWSWqP4P095Pnbqo/LDfAOXW4qj/TeYjfAgKrP3y8UIWQS6s/I/8YKx6Vqz/MQeHQq96rP3SEqXY5KKw/HcdxHMdxrD8=\",\"dtype\":\"float64\",\"shape\":[100]},\"y\":{\"__ndarray__\":\"AAAAAAAAAADw8MQc9qTUPgPipg3q+AM/Tb3gV+REID9X+rXIBJ0yP+87CUNMjUE/u4I4N4FMTT/mueA5hHtWPy4w7YKWOWA/ZhrvzS9ZZj8sOdQ70qttP0tzacXwHnM/BrZSQaAMeD9k71Mj0qJ9P/7FpkI38oE/e5/dZMVphT9oEjKiwjiJP9RrG76OX40/g0AYZiLvkD+03DMqYlqTP8Fux8lc8ZU/XhZcS9KzmD8tVUbCb6GbP07wARXSuZ4/7cw+NET+oD8X6/kei7SiP0c4i616f6Q/UoPxtctepj9Sl5G7M1KoP4FdPJNlWao/LiuA8hF0rD8gGaXt56GuP1bdD7NKcbA/FoObteOasT/3HTRHlc2yP9ODhZY1CbQ/F5wY2JpNtT+mRQ9im5q2P5e+C8QN8Lc/Y2O+28hNuT9nInfmo7O6Px4yEZB2Ibw/N5mK/xiXvT9+Aa/hYxS/P/+GiDiYTMA/bdr6PqwSwT9aZeY5W9zBP6yUiK6SqcI/uO59c0B6wz/4Ic+xUk7EPyy9uuW3JcU/H+4K314Axj+QahXBNt7GP0WjiQIvv8c/1xf6bDejyD8YMyccQIrJP547In05dMo/h21QTRRhyz/YV02ZwVDMPw0EsLsyQ80/vOi6W1k4zj8OSPxrJzDPPxfCcJRHFdA/cvmfi8GT0D9b22oBexPRPyk7Y35tlNE/ifMKrZIW0j/eGx1Z5JnSP+YOkm5cHtM/wjU9+fSj0z9Q39IjqCrUPx4cFzdwstQ/4S1UmUc71T+h+oXNKMXVP3b0u3IOUNY/9uRIQ/Pb1j/nCRsU0mjXP/MDKNSl9tc/86bGi2mF2D/rIANcGBXZP3UlBX6tpdk/mVRvQiQ32j85rtMQeMnaP/2VI2ekXNs/bR8h2aTw2z9P5doPdYXcP/ZDJckQG90/oRkb13Ox3T+wG54fmkjePz1245t/4N4/mzT+VyB53z+jtTY5PAngPzdS1w1CVuA/xOnqyp+j4D926BKaU/HgP+hUVq1bP+E/ENnwPraN4T+qLSeRYdzhPzeu8e1bK+I/2WS3pKN64j8=\",\"dtype\":\"float64\",\"shape\":[100]}},\"selected\":{\"id\":\"11654\",\"type\":\"Selection\"},\"selection_policy\":{\"id\":\"11655\",\"type\":\"UnionRenderers\"}},\"id\":\"11129\",\"type\":\"ColumnDataSource\"},{\"attributes\":{\"source\":{\"id\":\"11113\",\"type\":\"ColumnDataSource\"}},\"id\":\"11117\",\"type\":\"CDSView\"},{\"attributes\":{},\"id\":\"11125\",\"type\":\"Selection\"},{\"attributes\":{\"label\":{\"value\":\"inside_H\"},\"renderers\":[{\"id\":\"11116\",\"type\":\"GlyphRenderer\"}]},\"id\":\"11128\",\"type\":\"LegendItem\"},{\"attributes\":{},\"id\":\"11126\",\"type\":\"UnionRenderers\"},{\"attributes\":{},\"id\":\"11074\",\"type\":\"WheelZoomTool\"},{\"attributes\":{\"line_color\":\"#9367bc\",\"line_width\":2,\"x\":{\"field\":\"x\"},\"y\":{\"field\":\"y\"}},\"id\":\"11130\",\"type\":\"Line\"},{\"attributes\":{\"line_alpha\":0.1,\"line_color\":\"#1f77b4\",\"line_width\":2,\"x\":{\"field\":\"x\"},\"y\":{\"field\":\"y\"}},\"id\":\"11131\",\"type\":\"Line\"},{\"attributes\":{\"data_source\":{\"id\":\"11129\",\"type\":\"ColumnDataSource\"},\"glyph\":{\"id\":\"11130\",\"type\":\"Line\"},\"hover_glyph\":null,\"muted_glyph\":null,\"nonselection_glyph\":{\"id\":\"11131\",\"type\":\"Line\"},\"selection_glyph\":null,\"view\":{\"id\":\"11133\",\"type\":\"CDSView\"}},\"id\":\"11132\",\"type\":\"GlyphRenderer\"},{\"attributes\":{\"source\":{\"id\":\"11129\",\"type\":\"ColumnDataSource\"}},\"id\":\"11133\",\"type\":\"CDSView\"},{\"attributes\":{},\"id\":\"11143\",\"type\":\"Selection\"},{\"attributes\":{\"label\":{\"value\":\"bound atp synthase\"},\"renderers\":[{\"id\":\"11132\",\"type\":\"GlyphRenderer\"}]},\"id\":\"11146\",\"type\":\"LegendItem\"},{\"attributes\":{},\"id\":\"11144\",\"type\":\"UnionRenderers\"},{\"attributes\":{\"text\":\"only ATP Use\"},\"id\":\"11148\",\"type\":\"Title\"},{\"attributes\":{\"callback\":null},\"id\":\"11150\",\"type\":\"DataRange1d\"},{\"attributes\":{\"below\":[{\"id\":\"11063\",\"type\":\"LinearAxis\"}],\"center\":[{\"id\":\"11067\",\"type\":\"Grid\"},{\"id\":\"11072\",\"type\":\"Grid\"},{\"id\":\"11097\",\"type\":\"Legend\"}],\"left\":[{\"id\":\"11068\",\"type\":\"LinearAxis\"}],\"plot_height\":350,\"plot_width\":450,\"renderers\":[{\"id\":\"11089\",\"type\":\"GlyphRenderer\"},{\"id\":\"11102\",\"type\":\"GlyphRenderer\"},{\"id\":\"11116\",\"type\":\"GlyphRenderer\"},{\"id\":\"11132\",\"type\":\"GlyphRenderer\"}],\"title\":{\"id\":\"11053\",\"type\":\"Title\"},\"toolbar\":{\"id\":\"11079\",\"type\":\"Toolbar\"},\"x_range\":{\"id\":\"11055\",\"type\":\"DataRange1d\"},\"x_scale\":{\"id\":\"11059\",\"type\":\"LinearScale\"},\"y_range\":{\"id\":\"11057\",\"type\":\"DataRange1d\"},\"y_scale\":{\"id\":\"11061\",\"type\":\"LinearScale\"}},\"id\":\"11052\",\"subtype\":\"Figure\",\"type\":\"Plot\"},{\"attributes\":{},\"id\":\"11159\",\"type\":\"BasicTicker\"},{\"attributes\":{\"callback\":null},\"id\":\"11152\",\"type\":\"DataRange1d\"},{\"attributes\":{\"label\":{\"value\":\"outside_H\"},\"renderers\":[{\"id\":\"11102\",\"type\":\"GlyphRenderer\"}]},\"id\":\"11112\",\"type\":\"LegendItem\"},{\"attributes\":{},\"id\":\"11154\",\"type\":\"LinearScale\"},{\"attributes\":{},\"id\":\"11156\",\"type\":\"LinearScale\"},{\"attributes\":{\"axis_label\":\"time (hrs)\",\"formatter\":{\"id\":\"11187\",\"type\":\"BasicTickFormatter\"},\"ticker\":{\"id\":\"11159\",\"type\":\"BasicTicker\"}},\"id\":\"11158\",\"type\":\"LinearAxis\"}],\"root_ids\":[\"11255\"]},\"title\":\"Bokeh Application\",\"version\":\"1.4.0\"}};\n",
       "  var render_items = [{\"docid\":\"d5fbaa79-62c6-4fbd-87f2-0118b6ed8972\",\"roots\":{\"11255\":\"168a6258-0c41-4519-b460-e1cc9544c7b9\"}}];\n",
       "  root.Bokeh.embed.embed_items_notebook(docs_json, render_items);\n",
       "\n",
       "  }\n",
       "  if (root.Bokeh !== undefined) {\n",
       "    embed_document(root);\n",
       "  } else {\n",
       "    var attempts = 0;\n",
       "    var timer = setInterval(function(root) {\n",
       "      if (root.Bokeh !== undefined) {\n",
       "        clearInterval(timer);\n",
       "        embed_document(root);\n",
       "      } else {\n",
       "        attempts++;\n",
       "        if (attempts > 100) {\n",
       "          clearInterval(timer);\n",
       "          console.log(\"Bokeh: ERROR: Unable to run BokehJS code because BokehJS library is missing\");\n",
       "        }\n",
       "      }\n",
       "    }, 10, root)\n",
       "  }\n",
       "})(window);"
      ],
      "application/vnd.bokehjs_exec.v0+json": ""
     },
     "metadata": {
      "application/vnd.bokehjs_exec.v0+json": {
       "id": "11255"
      }
     },
     "output_type": "display_data"
    },
    {
     "data": {
      "text/html": [
       "\n",
       "\n",
       "\n",
       "\n",
       "\n",
       "\n",
       "  <div class=\"bk-root\" id=\"a5a71455-9153-46a6-9529-473248f2f7a0\" data-root-id=\"11194\"></div>\n"
      ]
     },
     "metadata": {},
     "output_type": "display_data"
    },
    {
     "data": {
      "application/javascript": [
       "(function(root) {\n",
       "  function embed_document(root) {\n",
       "    \n",
       "  var docs_json = {\"e65a2564-7115-4932-a918-febcdcffcdf6\":{\"roots\":{\"references\":[{\"attributes\":{\"below\":[{\"id\":\"11205\",\"type\":\"LinearAxis\"}],\"center\":[{\"id\":\"11209\",\"type\":\"Grid\"},{\"id\":\"11214\",\"type\":\"Grid\"},{\"id\":\"11239\",\"type\":\"Legend\"}],\"left\":[{\"id\":\"11210\",\"type\":\"LinearAxis\"}],\"plot_height\":350,\"plot_width\":450,\"renderers\":[{\"id\":\"11231\",\"type\":\"GlyphRenderer\"},{\"id\":\"11244\",\"type\":\"GlyphRenderer\"}],\"title\":{\"id\":\"11195\",\"type\":\"Title\"},\"toolbar\":{\"id\":\"11221\",\"type\":\"Toolbar\"},\"x_range\":{\"id\":\"11197\",\"type\":\"DataRange1d\"},\"x_scale\":{\"id\":\"11201\",\"type\":\"LinearScale\"},\"y_range\":{\"id\":\"11199\",\"type\":\"DataRange1d\"},\"y_scale\":{\"id\":\"11203\",\"type\":\"LinearScale\"}},\"id\":\"11194\",\"subtype\":\"Figure\",\"type\":\"Plot\"},{\"attributes\":{\"dimension\":1,\"ticker\":{\"id\":\"11211\",\"type\":\"BasicTicker\"}},\"id\":\"11214\",\"type\":\"Grid\"},{\"attributes\":{\"items\":[{\"id\":\"11240\",\"type\":\"LegendItem\"},{\"id\":\"11254\",\"type\":\"LegendItem\"}]},\"id\":\"11239\",\"type\":\"Legend\"},{\"attributes\":{\"source\":{\"id\":\"11228\",\"type\":\"ColumnDataSource\"}},\"id\":\"11232\",\"type\":\"CDSView\"},{\"attributes\":{},\"id\":\"11234\",\"type\":\"BasicTickFormatter\"},{\"attributes\":{},\"id\":\"11211\",\"type\":\"BasicTicker\"},{\"attributes\":{\"axis_label\":\"concentration (nM)\",\"formatter\":{\"id\":\"11236\",\"type\":\"BasicTickFormatter\"},\"ticker\":{\"id\":\"11211\",\"type\":\"BasicTicker\"}},\"id\":\"11210\",\"type\":\"LinearAxis\"},{\"attributes\":{\"label\":{\"value\":\"ATP Synthase, ATP Use\"},\"renderers\":[{\"id\":\"11231\",\"type\":\"GlyphRenderer\"}]},\"id\":\"11240\",\"type\":\"LegendItem\"},{\"attributes\":{\"line_alpha\":0.1,\"line_color\":\"#1f77b4\",\"line_width\":2,\"x\":{\"field\":\"x\"},\"y\":{\"field\":\"y\"}},\"id\":\"11230\",\"type\":\"Line\"},{\"attributes\":{\"callback\":null,\"data\":{\"x\":{\"__ndarray__\":\"AAAAAAAAAAB/pUCtXykAQH+lQK1fKRBAPvjggw8+GEB/pUCtXykgQN/OkJi3MyRAPvjggw8+KECeITFvZ0gsQH+lQK1fKTBAL7rooosuMkDfzpCYtzM0QI/jOI7jODZAPvjggw8+OEDuDIl5O0M6QJ4hMW9nSDxATjbZZJNNPkB/pUCtXylAQNevFKj1K0FAL7rooosuQkCHxLydITFDQN/OkJi3M0RAN9lkk002RUCP4ziO4zhGQOftDIl5O0dAPvjggw8+SECWArV+pUBJQO4MiXk7Q0pARhdddNFFS0CeITFvZ0hMQPYrBWr9Sk1ATjbZZJNNTkCmQK1fKVBPQH+lQK1fKVBAq6qqqqqqUEDXrxSo9StRQAO1fqVArVFAL7rooosuUkBbv1Kg1q9SQIfEvJ0hMVNAs8kmm2yyU0DfzpCYtzNUQAvU+pUCtVRAN9lkk002VUBj3s6QmLdVQI/jOI7jOFZAu+iiiy66VkDn7QyJeTtXQBPzdobEvFdAPvjggw8+WEBq/UqBWr9YQJYCtX6lQFlAwgcffPDBWUDuDIl5O0NaQBoS83aGxFpARhdddNFFW0ByHMdxHMdbQJ4hMW9nSFxAyiabbLLJXED2KwVq/UpdQCIxb2dIzF1ATjbZZJNNXkB6O0Ni3s5eQKZArV8pUF9A0kUXXXTRX0B/pUCtXylgQBWo9SsFamBAq6qqqqqqYEBBrV8pUOtgQNevFKj1K2FAbbLJJptsYUADtX6lQK1hQJm3MyTm7WFAL7rooosuYkDFvJ0hMW9iQFu/UqDWr2JA8cEHH3zwYkCHxLydITFjQB3HcRzHcWNAs8kmm2yyY0BJzNsZEvNjQN/OkJi3M2RAddFFF110ZEAL1PqVArVkQKHWrxSo9WRAN9lkk002ZUDN2xkS83ZlQGPezpCYt2VA+eCDDz74ZUCP4ziO4zhmQCXm7QyJeWZAu+iiiy66ZkBR61cK1PpmQOftDIl5O2dAffDBBx98Z0AT83aGxLxnQKn1KwVq/WdAPvjggw8+aEDU+pUCtX5oQGr9SoFav2hAAAAAAAAAaUA=\",\"dtype\":\"float64\",\"shape\":[100]},\"y\":{\"__ndarray__\":\"AAAAAAAAJEBJwXc68MkQvYW1inMvrgC99pEVCWZTjLyzlQTGxsp/vOYdeOcFu1u8hJlaqeVYBLwg++gvOm4DvL1cd7aOgwK8Wb4FPeOYAbz2H5TDN64AvCQDRZQYh/+7XMZhocGx/buUiX6uatz7u85Mm7sTB/q7BhC4yLwx+Ls/09TVZVz2u3eW8eIOh/S7r1kO8Lex8rvoHCv9YNzwu0LAjxQUDu67skbJLmZj6rskzQJJuLjmu5VTPGMKDuO7E7Tr+rjG3rv2wF4vXXHXu9jN0WMBHNC7dbWJMEuNwbvOeX7LnBSXuyZF7wC6wEq7HMS4ZAWLSbsTQ4LIUFVIuwrCSyycH0e7AUEVkOfpRbv4v97zMrREu+8+qFd+fkO75r1xu8lIQrvdPDsfFRNBu6d3CQbBuj+7lXWczVdPPbuDcy+V7uM6u3FxwlyFeDi7Xm9VJBwNNrtNbejrsqEzuztre7NJNjG7UNIc9sCVLbsszkKF7r4ouwjKaBQc6CO724sdR5MiHruSg2ll7nQUu5T2ageTjgW7FTAXIEqa0bo7/+WuFAaSupBKNe/d8ZG65JWEL6fdkbo64dNvcMmRuo4sI7A5tZG65Hdy8AKhkbo4w8EwzIyRuo0OEXGVeJG64llgsV5kkbo3pa/xJ1CRuovw/jHxO5G64TtOcronkbo1h52ygxORuovS7PJM/5C63x08MxbrkLo1aYtz39aQuom02rOowpC63v8p9HGukLozS3k0O5qQuoiWyHQEhpC63OEXtc1xkLoyLWf1ll2QuoZ4tjVgSZC628MFdik1kLowD1W28iCQuoZapPa7DJC6tEvnbQrxj7pe4oXunMiPugd5JG8voI+6sg/D78F3j7papmFwVE+PugU9APHmJo+6rtOecXn+jrpaaj3yC9aOugEB3HKerY66rZd68zCFjrpWLhl0w1yOugHFt/RVNI66qVtWdegLjrpU8vT1euONuv2Ik3YNu426px8y95+SjbpQttB3MmqNuvtMb/jEQY26peMNeVcZjbpOeqz56fCMuvgQS3p8yIy6oqfp+g6gjLo=\",\"dtype\":\"float64\",\"shape\":[100]}},\"selected\":{\"id\":\"12203\",\"type\":\"Selection\"},\"selection_policy\":{\"id\":\"12204\",\"type\":\"UnionRenderers\"}},\"id\":\"11241\",\"type\":\"ColumnDataSource\"},{\"attributes\":{\"line_color\":\"#ff7e0e\",\"line_width\":2,\"x\":{\"field\":\"x\"},\"y\":{\"field\":\"y\"}},\"id\":\"11242\",\"type\":\"Line\"},{\"attributes\":{\"bottom_units\":\"screen\",\"fill_alpha\":{\"value\":0.5},\"fill_color\":{\"value\":\"lightgrey\"},\"left_units\":\"screen\",\"level\":\"overlay\",\"line_alpha\":{\"value\":1.0},\"line_color\":{\"value\":\"black\"},\"line_dash\":[4,4],\"line_width\":{\"value\":2},\"render_mode\":\"css\",\"right_units\":\"screen\",\"top_units\":\"screen\"},\"id\":\"11238\",\"type\":\"BoxAnnotation\"},{\"attributes\":{\"active_drag\":\"auto\",\"active_inspect\":\"auto\",\"active_multi\":null,\"active_scroll\":\"auto\",\"active_tap\":\"auto\",\"tools\":[{\"id\":\"11215\",\"type\":\"PanTool\"},{\"id\":\"11216\",\"type\":\"WheelZoomTool\"},{\"id\":\"11217\",\"type\":\"BoxZoomTool\"},{\"id\":\"11218\",\"type\":\"SaveTool\"},{\"id\":\"11219\",\"type\":\"ResetTool\"},{\"id\":\"11220\",\"type\":\"HelpTool\"}]},\"id\":\"11221\",\"type\":\"Toolbar\"},{\"attributes\":{},\"id\":\"12203\",\"type\":\"Selection\"},{\"attributes\":{\"callback\":null,\"data\":{\"x\":{\"__ndarray__\":\"AAAAAAAAAAB/pUCtXykAQH+lQK1fKRBAPvjggw8+GEB/pUCtXykgQN/OkJi3MyRAPvjggw8+KECeITFvZ0gsQH+lQK1fKTBAL7rooosuMkDfzpCYtzM0QI/jOI7jODZAPvjggw8+OEDuDIl5O0M6QJ4hMW9nSDxATjbZZJNNPkB/pUCtXylAQNevFKj1K0FAL7rooosuQkCHxLydITFDQN/OkJi3M0RAN9lkk002RUCP4ziO4zhGQOftDIl5O0dAPvjggw8+SECWArV+pUBJQO4MiXk7Q0pARhdddNFFS0CeITFvZ0hMQPYrBWr9Sk1ATjbZZJNNTkCmQK1fKVBPQH+lQK1fKVBAq6qqqqqqUEDXrxSo9StRQAO1fqVArVFAL7rooosuUkBbv1Kg1q9SQIfEvJ0hMVNAs8kmm2yyU0DfzpCYtzNUQAvU+pUCtVRAN9lkk002VUBj3s6QmLdVQI/jOI7jOFZAu+iiiy66VkDn7QyJeTtXQBPzdobEvFdAPvjggw8+WEBq/UqBWr9YQJYCtX6lQFlAwgcffPDBWUDuDIl5O0NaQBoS83aGxFpARhdddNFFW0ByHMdxHMdbQJ4hMW9nSFxAyiabbLLJXED2KwVq/UpdQCIxb2dIzF1ATjbZZJNNXkB6O0Ni3s5eQKZArV8pUF9A0kUXXXTRX0B/pUCtXylgQBWo9SsFamBAq6qqqqqqYEBBrV8pUOtgQNevFKj1K2FAbbLJJptsYUADtX6lQK1hQJm3MyTm7WFAL7rooosuYkDFvJ0hMW9iQFu/UqDWr2JA8cEHH3zwYkCHxLydITFjQB3HcRzHcWNAs8kmm2yyY0BJzNsZEvNjQN/OkJi3M2RAddFFF110ZEAL1PqVArVkQKHWrxSo9WRAN9lkk002ZUDN2xkS83ZlQGPezpCYt2VA+eCDDz74ZUCP4ziO4zhmQCXm7QyJeWZAu+iiiy66ZkBR61cK1PpmQOftDIl5O2dAffDBBx98Z0AT83aGxLxnQKn1KwVq/WdAPvjggw8+aEDU+pUCtX5oQGr9SoFav2hAAAAAAAAAaUA=\",\"dtype\":\"float64\",\"shape\":[100]},\"y\":{\"__ndarray__\":\"AAAAAAAAJECJQl3ufXEeQIpCXe59cR5AikJd7n1xHkCHQl3ufXEeQIdCXe59cR5AhkJd7n1xHkCOQl3ufXEeQKtBXe59cR5AhEJd7n1xHkCFQl3ufXEeQIRCXe59cR5Ah0Jd7n1xHkCHQl3ufXEeQIZCXe59cR5AhUJd7n1xHkCGQl3ufXEeQIRCXe59cR5ACEJd7n1xHkCEQl3ufXEeQINCXe59cR5AhEJd7n1xHkCDQl3ufXEeQINCXe59cR5Ag0Jd7n1xHkCCQl3ufXEeQIZCXe59cR5AgkJd7n1xHkB4Ql3ufXEeQGFCXe59cR5AkkFd7n1xHkDrPl3ufXEeQJ5CXe59cR5AgkJd7n1xHkCEQl3ufXEeQIVCXe59cR5AhUJd7n1xHkCEQl3ufXEeQINCXe59cR5Ag0Jd7n1xHkCCQl3ufXEeQIJCXe59cR5AgUJd7n1xHkCCQl3ufXEeQINCXe59cR5AhEJd7n1xHkCFQl3ufXEeQIRCXe59cR5Ag0Jd7n1xHkCDQl3ufXEeQINCXe59cR5Ag0Jd7n1xHkCDQl3ufXEeQINCXe59cR5Ag0Jd7n1xHkCDQl3ufXEeQINCXe59cR5Ag0Jd7n1xHkCDQl3ufXEeQINCXe59cR5Ag0Jd7n1xHkCDQl3ufXEeQINCXe59cR5Ag0Jd7n1xHkCDQl3ufXEeQIRCXe59cR5Ag0Jd7n1xHkCDQl3ufXEeQIRCXe59cR5AhEJd7n1xHkCEQl3ufXEeQINCXe59cR5Ag0Jd7n1xHkCDQl3ufXEeQINCXe59cR5Ag0Jd7n1xHkCDQl3ufXEeQINCXe59cR5Ag0Jd7n1xHkCEQl3ufXEeQIRCXe59cR5Ag0Jd7n1xHkCDQl3ufXEeQINCXe59cR5Ag0Jd7n1xHkCDQl3ufXEeQINCXe59cR5Ag0Jd7n1xHkCDQl3ufXEeQINCXe59cR5Ag0Jd7n1xHkCDQl3ufXEeQINCXe59cR5Ag0Jd7n1xHkCDQl3ufXEeQIRCXe59cR5AhEJd7n1xHkCEQl3ufXEeQIRCXe59cR5AhEJd7n1xHkA=\",\"dtype\":\"float64\",\"shape\":[100]}},\"selected\":{\"id\":\"11251\",\"type\":\"Selection\"},\"selection_policy\":{\"id\":\"11252\",\"type\":\"UnionRenderers\"}},\"id\":\"11228\",\"type\":\"ColumnDataSource\"},{\"attributes\":{\"line_alpha\":0.1,\"line_color\":\"#1f77b4\",\"line_width\":2,\"x\":{\"field\":\"x\"},\"y\":{\"field\":\"y\"}},\"id\":\"11243\",\"type\":\"Line\"},{\"attributes\":{\"label\":{\"value\":\"ATP Use\"},\"renderers\":[{\"id\":\"11244\",\"type\":\"GlyphRenderer\"}]},\"id\":\"11254\",\"type\":\"LegendItem\"},{\"attributes\":{\"text\":\"Compare ATP \"},\"id\":\"11195\",\"type\":\"Title\"},{\"attributes\":{\"data_source\":{\"id\":\"11241\",\"type\":\"ColumnDataSource\"},\"glyph\":{\"id\":\"11242\",\"type\":\"Line\"},\"hover_glyph\":null,\"muted_glyph\":null,\"nonselection_glyph\":{\"id\":\"11243\",\"type\":\"Line\"},\"selection_glyph\":null,\"view\":{\"id\":\"11245\",\"type\":\"CDSView\"}},\"id\":\"11244\",\"type\":\"GlyphRenderer\"},{\"attributes\":{},\"id\":\"11215\",\"type\":\"PanTool\"},{\"attributes\":{\"line_color\":\"#1f77b3\",\"line_width\":2,\"x\":{\"field\":\"x\"},\"y\":{\"field\":\"y\"}},\"id\":\"11229\",\"type\":\"Line\"},{\"attributes\":{},\"id\":\"11216\",\"type\":\"WheelZoomTool\"},{\"attributes\":{\"callback\":null},\"id\":\"11197\",\"type\":\"DataRange1d\"},{\"attributes\":{\"source\":{\"id\":\"11241\",\"type\":\"ColumnDataSource\"}},\"id\":\"11245\",\"type\":\"CDSView\"},{\"attributes\":{\"overlay\":{\"id\":\"11238\",\"type\":\"BoxAnnotation\"}},\"id\":\"11217\",\"type\":\"BoxZoomTool\"},{\"attributes\":{},\"id\":\"11251\",\"type\":\"Selection\"},{\"attributes\":{},\"id\":\"11218\",\"type\":\"SaveTool\"},{\"attributes\":{},\"id\":\"11252\",\"type\":\"UnionRenderers\"},{\"attributes\":{\"callback\":null},\"id\":\"11199\",\"type\":\"DataRange1d\"},{\"attributes\":{},\"id\":\"11219\",\"type\":\"ResetTool\"},{\"attributes\":{\"data_source\":{\"id\":\"11228\",\"type\":\"ColumnDataSource\"},\"glyph\":{\"id\":\"11229\",\"type\":\"Line\"},\"hover_glyph\":null,\"muted_glyph\":null,\"nonselection_glyph\":{\"id\":\"11230\",\"type\":\"Line\"},\"selection_glyph\":null,\"view\":{\"id\":\"11232\",\"type\":\"CDSView\"}},\"id\":\"11231\",\"type\":\"GlyphRenderer\"},{\"attributes\":{},\"id\":\"11201\",\"type\":\"LinearScale\"},{\"attributes\":{},\"id\":\"11220\",\"type\":\"HelpTool\"},{\"attributes\":{},\"id\":\"11203\",\"type\":\"LinearScale\"},{\"attributes\":{},\"id\":\"12204\",\"type\":\"UnionRenderers\"},{\"attributes\":{\"axis_label\":\"time (sec)\",\"formatter\":{\"id\":\"11234\",\"type\":\"BasicTickFormatter\"},\"ticker\":{\"id\":\"11206\",\"type\":\"BasicTicker\"}},\"id\":\"11205\",\"type\":\"LinearAxis\"},{\"attributes\":{},\"id\":\"11236\",\"type\":\"BasicTickFormatter\"},{\"attributes\":{\"ticker\":{\"id\":\"11206\",\"type\":\"BasicTicker\"}},\"id\":\"11209\",\"type\":\"Grid\"},{\"attributes\":{},\"id\":\"11206\",\"type\":\"BasicTicker\"}],\"root_ids\":[\"11194\"]},\"title\":\"Bokeh Application\",\"version\":\"1.4.0\"}};\n",
       "  var render_items = [{\"docid\":\"e65a2564-7115-4932-a918-febcdcffcdf6\",\"roots\":{\"11194\":\"a5a71455-9153-46a6-9529-473248f2f7a0\"}}];\n",
       "  root.Bokeh.embed.embed_items_notebook(docs_json, render_items);\n",
       "\n",
       "  }\n",
       "  if (root.Bokeh !== undefined) {\n",
       "    embed_document(root);\n",
       "  } else {\n",
       "    var attempts = 0;\n",
       "    var timer = setInterval(function(root) {\n",
       "      if (root.Bokeh !== undefined) {\n",
       "        clearInterval(timer);\n",
       "        embed_document(root);\n",
       "      } else {\n",
       "        attempts++;\n",
       "        if (attempts > 100) {\n",
       "          clearInterval(timer);\n",
       "          console.log(\"Bokeh: ERROR: Unable to run BokehJS code because BokehJS library is missing\");\n",
       "        }\n",
       "      }\n",
       "    }, 10, root)\n",
       "  }\n",
       "})(window);"
      ],
      "application/vnd.bokehjs_exec.v0+json": ""
     },
     "metadata": {
      "application/vnd.bokehjs_exec.v0+json": {
       "id": "11194"
      }
     },
     "output_type": "display_data"
    }
   ],
   "source": [
    "# PLOT WITH ATP SYNTHASE\n",
    "\n",
    "plt_timepoints = timepoints/60/60\n",
    "\n",
    "p_w_atp = bokeh.plotting.figure(width = 450, height = 350, title = 'with ATP Synthase',\n",
    "                          x_axis_label = 'time (hrs)',\n",
    "                          y_axis_label = 'concentration (nM)')\n",
    "plot_list = [ATP_id, outside_H_id, inside_H_id, atp_synthase_b_protein_id]\n",
    "plot_str = ['atp', 'outside_H', 'inside_H', 'bound atp synthase']\n",
    "# plot_list = [atp_synthase_b_protein_id, atp_synthase_f_protein_id]\n",
    "# plot_str = ['atp synthase bound', 'atp synthase free']\n",
    "for i,item in enumerate(plot_list):\n",
    "    p_w_atp.line(plt_timepoints, results1[item], line_width = 2, legend_label = plot_str[i], color = palette[i])\n",
    "    \n",
    "\n",
    "# PLOT WITHOUT ATP SYNTHASE\n",
    "p_no_atp = bokeh.plotting.figure(width = 450, height = 350, title = 'only ATP Use',\n",
    "                          x_axis_label = 'time (hrs)',\n",
    "                          y_axis_label = 'concentration (nM)')\n",
    "p_no_atp.line(plt_timepoints, results2[ATP_id2], line_width = 2, legend_label = 'atp', color = palette[0])\n",
    "\n",
    "p_compare = bokeh.plotting.figure(width = 450, height = 350, title = 'Compare ATP ',\n",
    "                          x_axis_label = 'time (sec)',\n",
    "                          y_axis_label = 'concentration (nM)')\n",
    "p_compare.line(timepoints, results1[ATP_id], legend_label = 'ATP Synthase, ATP Use', line_width = 2, color = palette[0])\n",
    "p_compare.line(timepoints, results2[ATP_id2], legend_label = 'ATP Use', line_width = 2, color = palette[1])\n",
    "\n",
    "\n",
    "p_w_atp.legend.location = 'bottom_right'\n",
    "p_w_atp.legend.click_policy = 'hide'\n",
    "    \n",
    "bokeh.io.show(row(p_w_atp, p_no_atp))\n",
    "bokeh.io.show(p_compare)\n",
    "\n",
    "# p_atp.line(plt_timepoints, results1[ATP_id], line_width = 2, color = palette[1], legend_label = 'with ATP Synthase, ATP Use')\n",
    "# p_atp.line(plt_timepoints, results2[ATP_id2],line_width = 2, color = palette[2],legend_label = 'ATP Use only')\n",
    "\n",
    "#bokeh.io.show(p_atp)\n"
   ]
  },
  {
   "cell_type": "markdown",
   "metadata": {},
   "source": [
    "Why does bound atp synthase shoot infinitely high:( got em, it's because you kept remaking the transcript silly"
   ]
  },
  {
   "cell_type": "markdown",
   "metadata": {},
   "source": [
    "## Combine all proton pump with txtl machinery\n",
    "---"
   ]
  },
  {
   "cell_type": "code",
   "execution_count": 45,
   "metadata": {},
   "outputs": [],
   "source": [
    "#ss5_pp_txtl = createSubsystem('proton_pump_tx_tl.xml', subsystemName = 'pp_txtl')\n",
    "ss5_pp_txtl = createSubsystem('proton_pump_machinery_txtl.xml', subsystemName = 'pp_txtl')\n",
    "ss6_pp_mi = createSubsystem('proton_pump_membrane_integration.xml', subsystemName = 'pp_mi')\n",
    "ss7_protontransport = createSubsystem('proton_transport_through_proton_pump.xml', subsystemName = 'protontransport')"
   ]
  },
  {
   "cell_type": "code",
   "execution_count": 46,
   "metadata": {},
   "outputs": [],
   "source": [
    "pp_subsystem = ss5_pp_txtl + ss6_pp_mi + ss7_protontransport"
   ]
  },
  {
   "cell_type": "code",
   "execution_count": 47,
   "metadata": {},
   "outputs": [],
   "source": [
    "# Initial conditions\n",
    "\n",
    "spec_list_10 = ['dna_proton_pump', 'proton_outside_H', 'metabolite_atp', 'protein_RNAP_machinery', \n",
    "                'protein_Ribo_machinery', 'protein_RNAse_machinery']\n",
    "for i,spec in enumerate(spec_list_10):\n",
    "    pp_subsystem.setSpeciesAmount(spec,10)\n",
    "\n",
    "\n",
    "# timepoints and get results\n",
    "timepoints = np.linspace(0,200,100)\n",
    "results, _ = pp_subsystem.simulateWithBioscrape(timepoints, sbml_warnings = False)\n",
    "\n",
    "# Get species IDs\n",
    "ATP_id = pp_subsystem.getSpeciesByName('metabolite_atp').getId()\n",
    "ADP_id = pp_subsystem.getSpeciesByName('metabolite_adp').getId()\n",
    "\n",
    "outside_H_id = pp_subsystem.getSpeciesByName('proton_outside_H').getId()\n",
    "inside_H_id = pp_subsystem.getSpeciesByName('proton_inside_H').getId()\n",
    "proton_pump_b_protein_id = pp_subsystem.getSpeciesByName('protein_proton_pump_b').getId()\n",
    "proton_pump_f_protein_id = pp_subsystem.getSpeciesByName('protein_proton_pump').getId()\n",
    "\n",
    "\n",
    "\n",
    "dna_pp = pp_subsystem.getSpeciesByName('dna_proton_pump').getId()"
   ]
  },
  {
   "cell_type": "code",
   "execution_count": 48,
   "metadata": {},
   "outputs": [
    {
     "data": {
      "text/html": [
       "\n",
       "\n",
       "\n",
       "\n",
       "\n",
       "\n",
       "  <div class=\"bk-root\" id=\"12949441-f476-4149-98b0-93e736a878c6\" data-root-id=\"5592\"></div>\n"
      ]
     },
     "metadata": {},
     "output_type": "display_data"
    },
    {
     "data": {
      "application/javascript": [
       "(function(root) {\n",
       "  function embed_document(root) {\n",
       "    \n",
       "  var docs_json = {\"468ba794-a3e7-4630-99d6-34f6c9dad418\":{\"roots\":{\"references\":[{\"attributes\":{\"below\":[{\"id\":\"5603\",\"type\":\"LinearAxis\"}],\"center\":[{\"id\":\"5607\",\"type\":\"Grid\"},{\"id\":\"5612\",\"type\":\"Grid\"},{\"id\":\"5637\",\"type\":\"Legend\"}],\"left\":[{\"id\":\"5608\",\"type\":\"LinearAxis\"}],\"plot_height\":350,\"plot_width\":450,\"renderers\":[{\"id\":\"5629\",\"type\":\"GlyphRenderer\"},{\"id\":\"5642\",\"type\":\"GlyphRenderer\"},{\"id\":\"5656\",\"type\":\"GlyphRenderer\"},{\"id\":\"5672\",\"type\":\"GlyphRenderer\"}],\"title\":{\"id\":\"5593\",\"type\":\"Title\"},\"toolbar\":{\"id\":\"5619\",\"type\":\"Toolbar\"},\"x_range\":{\"id\":\"5595\",\"type\":\"DataRange1d\"},\"x_scale\":{\"id\":\"5599\",\"type\":\"LinearScale\"},\"y_range\":{\"id\":\"5597\",\"type\":\"DataRange1d\"},\"y_scale\":{\"id\":\"5601\",\"type\":\"LinearScale\"}},\"id\":\"5592\",\"subtype\":\"Figure\",\"type\":\"Plot\"},{\"attributes\":{},\"id\":\"5650\",\"type\":\"UnionRenderers\"},{\"attributes\":{},\"id\":\"5604\",\"type\":\"BasicTicker\"},{\"attributes\":{\"label\":{\"value\":\"atp\"},\"renderers\":[{\"id\":\"5629\",\"type\":\"GlyphRenderer\"}]},\"id\":\"5638\",\"type\":\"LegendItem\"},{\"attributes\":{\"label\":{\"value\":\"inside_H\"},\"renderers\":[{\"id\":\"5656\",\"type\":\"GlyphRenderer\"}]},\"id\":\"5668\",\"type\":\"LegendItem\"},{\"attributes\":{},\"id\":\"5632\",\"type\":\"BasicTickFormatter\"},{\"attributes\":{\"line_color\":\"#ff7e0e\",\"line_width\":2,\"x\":{\"field\":\"x\"},\"y\":{\"field\":\"y\"}},\"id\":\"5640\",\"type\":\"Line\"},{\"attributes\":{},\"id\":\"5599\",\"type\":\"LinearScale\"},{\"attributes\":{\"label\":{\"value\":\"outside_H\"},\"renderers\":[{\"id\":\"5642\",\"type\":\"GlyphRenderer\"}]},\"id\":\"5652\",\"type\":\"LegendItem\"},{\"attributes\":{},\"id\":\"5649\",\"type\":\"Selection\"},{\"attributes\":{\"bottom_units\":\"screen\",\"fill_alpha\":{\"value\":0.5},\"fill_color\":{\"value\":\"lightgrey\"},\"left_units\":\"screen\",\"level\":\"overlay\",\"line_alpha\":{\"value\":1.0},\"line_color\":{\"value\":\"black\"},\"line_dash\":[4,4],\"line_width\":{\"value\":2},\"render_mode\":\"css\",\"right_units\":\"screen\",\"top_units\":\"screen\"},\"id\":\"5636\",\"type\":\"BoxAnnotation\"},{\"attributes\":{\"callback\":null,\"data\":{\"x\":{\"__ndarray__\":\"AAAAAAAAAAAXqhByaWNCPxeqEHJpY1I/I/8YKx6VWz8XqhByaWNiP57UlM5D/GY/I/8YKx6Vaz/VlM5D/BZwPxeqEHJpY3I/W79SoNavdD+e1JTOQ/x2P+Hp1vywSHk/I/8YKx6Vez9mFFtZi+F9P9WUzkP8FoA/dp/v2jI9gT8XqhByaWOCP7q0MQmgiYM/W79SoNavhD/9yXM3DdaFP57UlM5D/IY/QN+1ZXoiiD/h6db8sEiJP4P095Pnboo/I/8YKx6Viz/FCTrCVLuMP2YUW1mL4Y0/Bx988MEHjz/VlM5D/BaQPyUaX48XqpA/dp/v2jI9kT/HJIAmTtCRPxeqEHJpY5I/aS+hvYT2kj+6tDEJoImTPws6wlS7HJQ/W79SoNavlD+sROPr8UKVP/3JczcN1pU/Tk8Egyhplj+e1JTOQ/yWP+9ZJRpfj5c/QN+1ZXoimD+QZEaxlbWYP+Hp1vywSJk/Mm9nSMzbmT+D9PeT526aP9N5iN8CAps/I/8YKx6Vmz90hKl2OSicP8UJOsJUu5w/FY/KDXBOnT9mFFtZi+GdP7eZ66SmdJ4/Bx988MEHnz9ZpAw83ZqfP9WUzkP8FqA/fdeW6YlgoD8lGl+PF6qgP85cJzWl86A/dp/v2jI9oT8f4reAwIahP8ckgCZO0KE/cGdIzNsZoj8XqhByaWOiP8Ds2Bf3rKI/aS+hvYT2oj8RcmljEkCjP7q0MQmgiaM/Yvf5ri3Toz8LOsJUuxykP7J8ivpIZqQ/W79SoNavpD8DAhtGZPmkP6xE4+vxQqU/VIerkX+MpT/9yXM3DdalP6UMPN2aH6Y/Tk8Egyhppj/1kcwotrKmP57UlM5D/KY/RhdddNFFpz/vWSUaX4+nP5ec7b/s2Kc/QN+1ZXoiqD/pIX4LCGyoP5BkRrGVtag/OacOVyP/qD/h6db8sEipP4osn6I+kqk/Mm9nSMzbqT/bsS/uWSWqP4P095Pnbqo/LDfAOXW4qj/TeYjfAgKrP3y8UIWQS6s/I/8YKx6Vqz/MQeHQq96rP3SEqXY5KKw/HcdxHMdxrD8=\",\"dtype\":\"float64\",\"shape\":[100]},\"y\":{\"__ndarray__\":\"AAAAAAAAAAD9o9uk9aTUPhZbjBXq+AM/lCsPW+REID9evM3JBJ0yP9LtQ0NMjUE/NTiPOYFMTT/WGCw7hHtWP8aMfYOWOWA/UQRpzi9ZZj+cYTg80qttP+jDpMXwHnM/AahzQaAMeD9WoVoj0qJ9P3DFKUI38oE/qJNlYMVphT+s0iaawjiJPxtyvrqOX40/IKmeZCLvkD+zok8pYlqTPxEElshc8ZU/u6Z6SdKzmD8sBfrAb6GbP+mArRTSuZ4/VI/tM0T+oD8oHQYfi7SiP3gpuq16f6Q/0g/6tctepj/cAXq7M1KoPwmy+ZJlWao/690T8hF0rD93yRnt56GuPy1ftrJKcbA/CzYiteOasT98IaNGlc2yP5pc2ZU1CbQ/hW9S15pNtT9gfzhhm5q2P0aAI8MN8Lc/OqG72shNuT9IWV3lo7O6P3b+5I52Ibw/IXMv/hiXvT9mhNzfYxS/P31PgDeYTMA/JuvcPawSwT/Yuag4W9zBPzNMLa2SqcI/S9EBckB6wz8roTWwUk7EPwhGA+S3JcU/4Jcv3V4Axj9MoBa/Nt7GPxuUawAvv8c/HW+8ajejyD8IWMYZQIrJP7Opm3o5dMo/A5ijShRhyz/XaXmWwVDMP1dns7gyQ80/xGeTWFk4zj/jrqhoJzDPPwq+sJJHFdA/I4fJicGT0D+qnn3/ehPRP6rXXnxtlNE/Eg/vqpIW0j/z1NxW5JnSP5KQQGxcHtM/Z/fa9vSj0z/qhFUhqCrUP9/7hDRwstQ/E16ulkc71T8H/87KKMXVP7+B6G8OUNY/rA5QQPPb1j+IQgER0mjXP1oX9dCl9tc/3858iGmF2D+ELKFYGBXZP+/ThXqtpdk/ds3QPiQ32j+NHBYNeMnaP1eRR2OkXNs/LcAo1aTw2z9W98YLdYXcP1en9cQQG90/llTO0nOx3T+riDQbmkjeP6yTXZd/4N4/73xcUyB53z9ORdg2PAngP2pqbAtCVuA/fXRzyJ+j4D+dWo6XU/HgP+8MxKpbP+E/s+BQPLaN4T9J9neOYdzhP+vdVutbK+I/D5K5pKN64j8=\",\"dtype\":\"float64\",\"shape\":[100]}},\"selected\":{\"id\":\"5914\",\"type\":\"Selection\"},\"selection_policy\":{\"id\":\"5915\",\"type\":\"UnionRenderers\"}},\"id\":\"5669\",\"type\":\"ColumnDataSource\"},{\"attributes\":{\"callback\":null,\"data\":{\"x\":{\"__ndarray__\":\"AAAAAAAAAAAXqhByaWNCPxeqEHJpY1I/I/8YKx6VWz8XqhByaWNiP57UlM5D/GY/I/8YKx6Vaz/VlM5D/BZwPxeqEHJpY3I/W79SoNavdD+e1JTOQ/x2P+Hp1vywSHk/I/8YKx6Vez9mFFtZi+F9P9WUzkP8FoA/dp/v2jI9gT8XqhByaWOCP7q0MQmgiYM/W79SoNavhD/9yXM3DdaFP57UlM5D/IY/QN+1ZXoiiD/h6db8sEiJP4P095Pnboo/I/8YKx6Viz/FCTrCVLuMP2YUW1mL4Y0/Bx988MEHjz/VlM5D/BaQPyUaX48XqpA/dp/v2jI9kT/HJIAmTtCRPxeqEHJpY5I/aS+hvYT2kj+6tDEJoImTPws6wlS7HJQ/W79SoNavlD+sROPr8UKVP/3JczcN1pU/Tk8Egyhplj+e1JTOQ/yWP+9ZJRpfj5c/QN+1ZXoimD+QZEaxlbWYP+Hp1vywSJk/Mm9nSMzbmT+D9PeT526aP9N5iN8CAps/I/8YKx6Vmz90hKl2OSicP8UJOsJUu5w/FY/KDXBOnT9mFFtZi+GdP7eZ66SmdJ4/Bx988MEHnz9ZpAw83ZqfP9WUzkP8FqA/fdeW6YlgoD8lGl+PF6qgP85cJzWl86A/dp/v2jI9oT8f4reAwIahP8ckgCZO0KE/cGdIzNsZoj8XqhByaWOiP8Ds2Bf3rKI/aS+hvYT2oj8RcmljEkCjP7q0MQmgiaM/Yvf5ri3Toz8LOsJUuxykP7J8ivpIZqQ/W79SoNavpD8DAhtGZPmkP6xE4+vxQqU/VIerkX+MpT/9yXM3DdalP6UMPN2aH6Y/Tk8Egyhppj/1kcwotrKmP57UlM5D/KY/RhdddNFFpz/vWSUaX4+nP5ec7b/s2Kc/QN+1ZXoiqD/pIX4LCGyoP5BkRrGVtag/OacOVyP/qD/h6db8sEipP4osn6I+kqk/Mm9nSMzbqT/bsS/uWSWqP4P095Pnbqo/LDfAOXW4qj/TeYjfAgKrP3y8UIWQS6s/I/8YKx6Vqz/MQeHQq96rP3SEqXY5KKw/HcdxHMdxrD8=\",\"dtype\":\"float64\",\"shape\":[100]},\"y\":{\"__ndarray__\":\"AAAAAAAAAAAAAAAAAAAAAAAAAAAAAAAAAAAAAAAAAAAAAAAAAAAAAAAAAAAAAAAAAAAAAAAAAAAAAAAAAAAAAAAAAAAAAAAAAAAAAAAAAAAAAAAAAAAAAAAAAAAAAAAAAAAAAAAAAAAAAAAAAAAAAAAAAAAAAAAAAAAAAAAAAAAAAAAAAAAAAAAAAAAAAAAAAAAAAAAAAAAAAAAAAAAAAAAAAAAAAAAAAAAAAAAAAAAAAAAAAAAAAAAAAAAAAAAAAAAAAAAAAAAAAAAAAAAAAAAAAAAAAAAAAAAAAAAAAAAAAAAAAAAAAAAAAAAAAAAAAAAAAAAAAAAAAAAAAAAAAAAAAAAAAAAAAAAAAAAAAAAAAAAAAAAAAAAAAAAAAAAAAAAAAAAAAAAAAAAAAAAAAAAAAAAAAAAAAAAAAAAAAAAAAAAAAAAAAAAAAAAAAAAAAAAAAAAAAAAAAAAAAAAAAAAAAAAAAAAAAAAAAAAAAAAAAAAAAAAAAAAAAAAAAAAAAAAAAAAAAAAAAAAAAAAAAAAAAAAAAAAAAAAAAAAAAAAAAAAAAAAAAAAAAAAAAAAAAAAAAAAAAAAAAAAAAAAAAAAAAAAAAAAAAAAAAAAAAAAAAAAAAAAAAAAAAAAAAAAAAAAAAAAAAAAAAAAAAAAAAAAAAAAAAAAAAAAAAAAAAAAAAAAAAAAAAAAAAAAAAAAAAAAAAAAAAAAAAAAAAAAAAAAAAAAAAAAAAAAAAAAAAAAAAAAAAAAAAAAAAAAAAAAAAAAAAAAAAAAAAAAAAAAAAAAAAAAAAAAAAAAAAAAAAAAAAAAAAAAAAAAAAAAAAAAAAAAAAAAAAAAAAAAAAAAAAAAAAAAAAAAAAAAAAAAAAAAAAAAAAAAAAAAAAAAAAAAAAAAAAAAAAAAAAAAAAAAAAAAAAAAAAAAAAAAAAAAAAAAAAAAAAAAAAAAAAAAAAAAAAAAAAAAAAAAAAAAAAAAAAAAAAAAAAAAAAAAAAAAAAAAAAAAAAAAAAAAAAAAAAAAAAAAAAAAAAAAAAAAAAAAAAAAAAAAAAAAAAAAAAAAAAAA=\",\"dtype\":\"float64\",\"shape\":[100]}},\"selected\":{\"id\":\"5683\",\"type\":\"Selection\"},\"selection_policy\":{\"id\":\"5684\",\"type\":\"UnionRenderers\"}},\"id\":\"5653\",\"type\":\"ColumnDataSource\"},{\"attributes\":{},\"id\":\"5666\",\"type\":\"UnionRenderers\"},{\"attributes\":{\"line_alpha\":0.1,\"line_color\":\"#1f77b4\",\"line_width\":2,\"x\":{\"field\":\"x\"},\"y\":{\"field\":\"y\"}},\"id\":\"5628\",\"type\":\"Line\"},{\"attributes\":{\"line_color\":\"#1f77b3\",\"line_width\":2,\"x\":{\"field\":\"x\"},\"y\":{\"field\":\"y\"}},\"id\":\"5627\",\"type\":\"Line\"},{\"attributes\":{\"line_color\":\"#9367bc\",\"line_width\":2,\"x\":{\"field\":\"x\"},\"y\":{\"field\":\"y\"}},\"id\":\"5670\",\"type\":\"Line\"},{\"attributes\":{},\"id\":\"5601\",\"type\":\"LinearScale\"},{\"attributes\":{\"active_drag\":\"auto\",\"active_inspect\":\"auto\",\"active_multi\":null,\"active_scroll\":\"auto\",\"active_tap\":\"auto\",\"tools\":[{\"id\":\"5613\",\"type\":\"PanTool\"},{\"id\":\"5614\",\"type\":\"WheelZoomTool\"},{\"id\":\"5615\",\"type\":\"BoxZoomTool\"},{\"id\":\"5616\",\"type\":\"SaveTool\"},{\"id\":\"5617\",\"type\":\"ResetTool\"},{\"id\":\"5618\",\"type\":\"HelpTool\"}]},\"id\":\"5619\",\"type\":\"Toolbar\"},{\"attributes\":{\"callback\":null,\"data\":{\"x\":{\"__ndarray__\":\"AAAAAAAAAAAXqhByaWNCPxeqEHJpY1I/I/8YKx6VWz8XqhByaWNiP57UlM5D/GY/I/8YKx6Vaz/VlM5D/BZwPxeqEHJpY3I/W79SoNavdD+e1JTOQ/x2P+Hp1vywSHk/I/8YKx6Vez9mFFtZi+F9P9WUzkP8FoA/dp/v2jI9gT8XqhByaWOCP7q0MQmgiYM/W79SoNavhD/9yXM3DdaFP57UlM5D/IY/QN+1ZXoiiD/h6db8sEiJP4P095Pnboo/I/8YKx6Viz/FCTrCVLuMP2YUW1mL4Y0/Bx988MEHjz/VlM5D/BaQPyUaX48XqpA/dp/v2jI9kT/HJIAmTtCRPxeqEHJpY5I/aS+hvYT2kj+6tDEJoImTPws6wlS7HJQ/W79SoNavlD+sROPr8UKVP/3JczcN1pU/Tk8Egyhplj+e1JTOQ/yWP+9ZJRpfj5c/QN+1ZXoimD+QZEaxlbWYP+Hp1vywSJk/Mm9nSMzbmT+D9PeT526aP9N5iN8CAps/I/8YKx6Vmz90hKl2OSicP8UJOsJUu5w/FY/KDXBOnT9mFFtZi+GdP7eZ66SmdJ4/Bx988MEHnz9ZpAw83ZqfP9WUzkP8FqA/fdeW6YlgoD8lGl+PF6qgP85cJzWl86A/dp/v2jI9oT8f4reAwIahP8ckgCZO0KE/cGdIzNsZoj8XqhByaWOiP8Ds2Bf3rKI/aS+hvYT2oj8RcmljEkCjP7q0MQmgiaM/Yvf5ri3Toz8LOsJUuxykP7J8ivpIZqQ/W79SoNavpD8DAhtGZPmkP6xE4+vxQqU/VIerkX+MpT/9yXM3DdalP6UMPN2aH6Y/Tk8Egyhppj/1kcwotrKmP57UlM5D/KY/RhdddNFFpz/vWSUaX4+nP5ec7b/s2Kc/QN+1ZXoiqD/pIX4LCGyoP5BkRrGVtag/OacOVyP/qD/h6db8sEipP4osn6I+kqk/Mm9nSMzbqT/bsS/uWSWqP4P095Pnbqo/LDfAOXW4qj/TeYjfAgKrP3y8UIWQS6s/I/8YKx6Vqz/MQeHQq96rP3SEqXY5KKw/HcdxHMdxrD8=\",\"dtype\":\"float64\",\"shape\":[100]},\"y\":{\"__ndarray__\":\"AAAAAAAAJECHfK1KZrQaQECgkvIY1BFAfXG1qCPOB0AMBXeQGsn/P81I9VJ4OPU/5n+7z55V7D/f/ZUqpOriPzZOCI0PQtk//C7YZdrc0D/02M+sAoTGP0yDc7NNEL4/ZE1iQC8StD+4wVRgrsyqP2D3IztP5KE/tLRA1snjlz8CgYKwAeaPP+FJyR7FS4U/W1s+gmVvfD/rRyDV3PtyP1qeQ2QSWWk/Q/VVqznsYD86wB5DkJhWP4zfeurIK04/rGdd95UkRD8O34L8TuU6P01z/QPU9DE/6cb7HwT6Jz/NQcDV8AEgP6/gigT8XxU/pEzxwMuKDD8GrWSyXg4DP0xls8dUcvk+EDCFh9H98D7v5q+Ks7DmPm+RBEUHTd4+3EUDEnY71D5X/U1syAPLPurf2ocgCcI+ueo6y+IUuD4El/6brxOwPq/KXIDudqU+n2uGsuKpnD7BzbM+ESSTPsFrPyDjjYk+qL4CrDsQgT6QmoWEfch2Phh/PNpPa24+QBuVHFNQZD51ErO5myBbPjeo5PRzHFI+GtgCSbMxSD7j4X4lgypAPp68g6E5mDU+nsc1acjWLD7Kadti10MjPvyVmYzmvhk+eKIGa6gxET78mwllOPYGPmTUBp48rv49X/XZYGKE9D1qh6eHaHHrPRdaFREvV+I9svY5XJKC2D1Jus7YAGTQPWJlNwwn78U93s4/RCBVvT1207+pA5izPenbzX95Lqo9SKkAtDqCoT3pAbh3tmuXPQOBA91DUo89Dlf1TU/0hD1TQzMQIhd8PaNO6ukc3HI96W71xOFIaT0rNm4MDedgPeRC4x/YlFY9t8+ZtwY/Tj1zwfwapFFEPXLhBH+rRzs9pMmDyTA5Mj1ePTnqS0MoPXSCA6kXNyA9oalA6eHdFT3E6XU7OXwNPU4Q+SrjqgM9xvawodAK+jxxFxNpBF3xPBbK39puf+c85XGs0WUT4DxjOrrP20rWPOxXOo4Ik848yviueENXxDxG3MOBeqa6PP+3EOlck7E8p+YoMn+TqDzn8XKWiZqhPK3rN6aQ+Jg8P1jP85yEkDw=\",\"dtype\":\"float64\",\"shape\":[100]}},\"selected\":{\"id\":\"5649\",\"type\":\"Selection\"},\"selection_policy\":{\"id\":\"5650\",\"type\":\"UnionRenderers\"}},\"id\":\"5626\",\"type\":\"ColumnDataSource\"},{\"attributes\":{},\"id\":\"5614\",\"type\":\"WheelZoomTool\"},{\"attributes\":{\"click_policy\":\"hide\",\"items\":[{\"id\":\"5638\",\"type\":\"LegendItem\"},{\"id\":\"5652\",\"type\":\"LegendItem\"},{\"id\":\"5668\",\"type\":\"LegendItem\"},{\"id\":\"5686\",\"type\":\"LegendItem\"}],\"location\":\"bottom_right\"},\"id\":\"5637\",\"type\":\"Legend\"},{\"attributes\":{\"data_source\":{\"id\":\"5626\",\"type\":\"ColumnDataSource\"},\"glyph\":{\"id\":\"5627\",\"type\":\"Line\"},\"hover_glyph\":null,\"muted_glyph\":null,\"nonselection_glyph\":{\"id\":\"5628\",\"type\":\"Line\"},\"selection_glyph\":null,\"view\":{\"id\":\"5630\",\"type\":\"CDSView\"}},\"id\":\"5629\",\"type\":\"GlyphRenderer\"},{\"attributes\":{\"source\":{\"id\":\"5669\",\"type\":\"ColumnDataSource\"}},\"id\":\"5673\",\"type\":\"CDSView\"},{\"attributes\":{\"dimension\":1,\"ticker\":{\"id\":\"5609\",\"type\":\"BasicTicker\"}},\"id\":\"5612\",\"type\":\"Grid\"},{\"attributes\":{\"line_color\":\"#2ba02b\",\"line_width\":2,\"x\":{\"field\":\"x\"},\"y\":{\"field\":\"y\"}},\"id\":\"5654\",\"type\":\"Line\"},{\"attributes\":{},\"id\":\"5613\",\"type\":\"PanTool\"},{\"attributes\":{\"ticker\":{\"id\":\"5604\",\"type\":\"BasicTicker\"}},\"id\":\"5607\",\"type\":\"Grid\"},{\"attributes\":{\"axis_label\":\"time (hrs)\",\"formatter\":{\"id\":\"5632\",\"type\":\"BasicTickFormatter\"},\"ticker\":{\"id\":\"5604\",\"type\":\"BasicTicker\"}},\"id\":\"5603\",\"type\":\"LinearAxis\"},{\"attributes\":{\"line_alpha\":0.1,\"line_color\":\"#1f77b4\",\"line_width\":2,\"x\":{\"field\":\"x\"},\"y\":{\"field\":\"y\"}},\"id\":\"5641\",\"type\":\"Line\"},{\"attributes\":{},\"id\":\"5665\",\"type\":\"Selection\"},{\"attributes\":{},\"id\":\"5915\",\"type\":\"UnionRenderers\"},{\"attributes\":{\"callback\":null},\"id\":\"5597\",\"type\":\"DataRange1d\"},{\"attributes\":{\"overlay\":{\"id\":\"5636\",\"type\":\"BoxAnnotation\"}},\"id\":\"5615\",\"type\":\"BoxZoomTool\"},{\"attributes\":{\"axis_label\":\"concentration (nM)\",\"formatter\":{\"id\":\"5634\",\"type\":\"BasicTickFormatter\"},\"ticker\":{\"id\":\"5609\",\"type\":\"BasicTicker\"}},\"id\":\"5608\",\"type\":\"LinearAxis\"},{\"attributes\":{\"source\":{\"id\":\"5639\",\"type\":\"ColumnDataSource\"}},\"id\":\"5643\",\"type\":\"CDSView\"},{\"attributes\":{},\"id\":\"5616\",\"type\":\"SaveTool\"},{\"attributes\":{},\"id\":\"5914\",\"type\":\"Selection\"},{\"attributes\":{},\"id\":\"5634\",\"type\":\"BasicTickFormatter\"},{\"attributes\":{},\"id\":\"5617\",\"type\":\"ResetTool\"},{\"attributes\":{\"callback\":null},\"id\":\"5595\",\"type\":\"DataRange1d\"},{\"attributes\":{\"data_source\":{\"id\":\"5653\",\"type\":\"ColumnDataSource\"},\"glyph\":{\"id\":\"5654\",\"type\":\"Line\"},\"hover_glyph\":null,\"muted_glyph\":null,\"nonselection_glyph\":{\"id\":\"5655\",\"type\":\"Line\"},\"selection_glyph\":null,\"view\":{\"id\":\"5657\",\"type\":\"CDSView\"}},\"id\":\"5656\",\"type\":\"GlyphRenderer\"},{\"attributes\":{\"data_source\":{\"id\":\"5639\",\"type\":\"ColumnDataSource\"},\"glyph\":{\"id\":\"5640\",\"type\":\"Line\"},\"hover_glyph\":null,\"muted_glyph\":null,\"nonselection_glyph\":{\"id\":\"5641\",\"type\":\"Line\"},\"selection_glyph\":null,\"view\":{\"id\":\"5643\",\"type\":\"CDSView\"}},\"id\":\"5642\",\"type\":\"GlyphRenderer\"},{\"attributes\":{\"line_alpha\":0.1,\"line_color\":\"#1f77b4\",\"line_width\":2,\"x\":{\"field\":\"x\"},\"y\":{\"field\":\"y\"}},\"id\":\"5671\",\"type\":\"Line\"},{\"attributes\":{},\"id\":\"5609\",\"type\":\"BasicTicker\"},{\"attributes\":{},\"id\":\"5618\",\"type\":\"HelpTool\"},{\"attributes\":{\"text\":\"with Proton Pump\"},\"id\":\"5593\",\"type\":\"Title\"},{\"attributes\":{\"source\":{\"id\":\"5653\",\"type\":\"ColumnDataSource\"}},\"id\":\"5657\",\"type\":\"CDSView\"},{\"attributes\":{},\"id\":\"5683\",\"type\":\"Selection\"},{\"attributes\":{\"line_alpha\":0.1,\"line_color\":\"#1f77b4\",\"line_width\":2,\"x\":{\"field\":\"x\"},\"y\":{\"field\":\"y\"}},\"id\":\"5655\",\"type\":\"Line\"},{\"attributes\":{\"label\":{\"value\":\"bound proton pump\"},\"renderers\":[{\"id\":\"5672\",\"type\":\"GlyphRenderer\"}]},\"id\":\"5686\",\"type\":\"LegendItem\"},{\"attributes\":{\"source\":{\"id\":\"5626\",\"type\":\"ColumnDataSource\"}},\"id\":\"5630\",\"type\":\"CDSView\"},{\"attributes\":{},\"id\":\"5684\",\"type\":\"UnionRenderers\"},{\"attributes\":{\"data_source\":{\"id\":\"5669\",\"type\":\"ColumnDataSource\"},\"glyph\":{\"id\":\"5670\",\"type\":\"Line\"},\"hover_glyph\":null,\"muted_glyph\":null,\"nonselection_glyph\":{\"id\":\"5671\",\"type\":\"Line\"},\"selection_glyph\":null,\"view\":{\"id\":\"5673\",\"type\":\"CDSView\"}},\"id\":\"5672\",\"type\":\"GlyphRenderer\"},{\"attributes\":{\"callback\":null,\"data\":{\"x\":{\"__ndarray__\":\"AAAAAAAAAAAXqhByaWNCPxeqEHJpY1I/I/8YKx6VWz8XqhByaWNiP57UlM5D/GY/I/8YKx6Vaz/VlM5D/BZwPxeqEHJpY3I/W79SoNavdD+e1JTOQ/x2P+Hp1vywSHk/I/8YKx6Vez9mFFtZi+F9P9WUzkP8FoA/dp/v2jI9gT8XqhByaWOCP7q0MQmgiYM/W79SoNavhD/9yXM3DdaFP57UlM5D/IY/QN+1ZXoiiD/h6db8sEiJP4P095Pnboo/I/8YKx6Viz/FCTrCVLuMP2YUW1mL4Y0/Bx988MEHjz/VlM5D/BaQPyUaX48XqpA/dp/v2jI9kT/HJIAmTtCRPxeqEHJpY5I/aS+hvYT2kj+6tDEJoImTPws6wlS7HJQ/W79SoNavlD+sROPr8UKVP/3JczcN1pU/Tk8Egyhplj+e1JTOQ/yWP+9ZJRpfj5c/QN+1ZXoimD+QZEaxlbWYP+Hp1vywSJk/Mm9nSMzbmT+D9PeT526aP9N5iN8CAps/I/8YKx6Vmz90hKl2OSicP8UJOsJUu5w/FY/KDXBOnT9mFFtZi+GdP7eZ66SmdJ4/Bx988MEHnz9ZpAw83ZqfP9WUzkP8FqA/fdeW6YlgoD8lGl+PF6qgP85cJzWl86A/dp/v2jI9oT8f4reAwIahP8ckgCZO0KE/cGdIzNsZoj8XqhByaWOiP8Ds2Bf3rKI/aS+hvYT2oj8RcmljEkCjP7q0MQmgiaM/Yvf5ri3Toz8LOsJUuxykP7J8ivpIZqQ/W79SoNavpD8DAhtGZPmkP6xE4+vxQqU/VIerkX+MpT/9yXM3DdalP6UMPN2aH6Y/Tk8Egyhppj/1kcwotrKmP57UlM5D/KY/RhdddNFFpz/vWSUaX4+nP5ec7b/s2Kc/QN+1ZXoiqD/pIX4LCGyoP5BkRrGVtag/OacOVyP/qD/h6db8sEipP4osn6I+kqk/Mm9nSMzbqT/bsS/uWSWqP4P095Pnbqo/LDfAOXW4qj/TeYjfAgKrP3y8UIWQS6s/I/8YKx6Vqz/MQeHQq96rP3SEqXY5KKw/HcdxHMdxrD8=\",\"dtype\":\"float64\",\"shape\":[100]},\"y\":{\"__ndarray__\":\"AAAAAAAAJEAAAAAAAAAkQAAAAAAAACRAAAAAAAAAJEAAAAAAAAAkQAAAAAAAACRAAAAAAAAAJEAAAAAAAAAkQAAAAAAAACRAAAAAAAAAJEAAAAAAAAAkQAAAAAAAACRAAAAAAAAAJEAAAAAAAAAkQAAAAAAAACRAAAAAAAAAJEAAAAAAAAAkQAAAAAAAACRAAAAAAAAAJEAAAAAAAAAkQAAAAAAAACRAAAAAAAAAJEAAAAAAAAAkQAAAAAAAACRAAAAAAAAAJEAAAAAAAAAkQAAAAAAAACRAAAAAAAAAJEAAAAAAAAAkQAAAAAAAACRAAAAAAAAAJEAAAAAAAAAkQAAAAAAAACRAAAAAAAAAJEAAAAAAAAAkQAAAAAAAACRAAAAAAAAAJEAAAAAAAAAkQAAAAAAAACRAAAAAAAAAJEAAAAAAAAAkQAAAAAAAACRAAAAAAAAAJEAAAAAAAAAkQAAAAAAAACRAAAAAAAAAJEAAAAAAAAAkQAAAAAAAACRAAAAAAAAAJEAAAAAAAAAkQAAAAAAAACRAAAAAAAAAJEAAAAAAAAAkQAAAAAAAACRAAAAAAAAAJEAAAAAAAAAkQAAAAAAAACRAAAAAAAAAJEAAAAAAAAAkQAAAAAAAACRAAAAAAAAAJEAAAAAAAAAkQAAAAAAAACRAAAAAAAAAJEAAAAAAAAAkQAAAAAAAACRAAAAAAAAAJEAAAAAAAAAkQAAAAAAAACRAAAAAAAAAJEAAAAAAAAAkQAAAAAAAACRAAAAAAAAAJEAAAAAAAAAkQAAAAAAAACRAAAAAAAAAJEAAAAAAAAAkQAAAAAAAACRAAAAAAAAAJEAAAAAAAAAkQAAAAAAAACRAAAAAAAAAJEAAAAAAAAAkQAAAAAAAACRAAAAAAAAAJEAAAAAAAAAkQAAAAAAAACRAAAAAAAAAJEAAAAAAAAAkQAAAAAAAACRAAAAAAAAAJEAAAAAAAAAkQAAAAAAAACRAAAAAAAAAJEAAAAAAAAAkQAAAAAAAACRAAAAAAAAAJEAAAAAAAAAkQAAAAAAAACRAAAAAAAAAJEA=\",\"dtype\":\"float64\",\"shape\":[100]}},\"selected\":{\"id\":\"5665\",\"type\":\"Selection\"},\"selection_policy\":{\"id\":\"5666\",\"type\":\"UnionRenderers\"}},\"id\":\"5639\",\"type\":\"ColumnDataSource\"}],\"root_ids\":[\"5592\"]},\"title\":\"Bokeh Application\",\"version\":\"1.4.0\"}};\n",
       "  var render_items = [{\"docid\":\"468ba794-a3e7-4630-99d6-34f6c9dad418\",\"roots\":{\"5592\":\"12949441-f476-4149-98b0-93e736a878c6\"}}];\n",
       "  root.Bokeh.embed.embed_items_notebook(docs_json, render_items);\n",
       "\n",
       "  }\n",
       "  if (root.Bokeh !== undefined) {\n",
       "    embed_document(root);\n",
       "  } else {\n",
       "    var attempts = 0;\n",
       "    var timer = setInterval(function(root) {\n",
       "      if (root.Bokeh !== undefined) {\n",
       "        clearInterval(timer);\n",
       "        embed_document(root);\n",
       "      } else {\n",
       "        attempts++;\n",
       "        if (attempts > 100) {\n",
       "          clearInterval(timer);\n",
       "          console.log(\"Bokeh: ERROR: Unable to run BokehJS code because BokehJS library is missing\");\n",
       "        }\n",
       "      }\n",
       "    }, 10, root)\n",
       "  }\n",
       "})(window);"
      ],
      "application/vnd.bokehjs_exec.v0+json": ""
     },
     "metadata": {
      "application/vnd.bokehjs_exec.v0+json": {
       "id": "5592"
      }
     },
     "output_type": "display_data"
    }
   ],
   "source": [
    "plt_timepoints = timepoints/60/60\n",
    "\n",
    "p_pp = bokeh.plotting.figure(width = 450, height = 350, title = 'with Proton Pump',\n",
    "                            x_axis_label = 'time (hrs)',\n",
    "                            y_axis_label = 'concentration (nM)')\n",
    "plot_list = [ATP_id, outside_H_id, inside_H_id, proton_pump_b_protein_id]\n",
    "plot_str = ['atp', 'outside_H', 'inside_H', 'bound proton pump']\n",
    "for i,item in enumerate(plot_list):\n",
    "    p_pp.line(plt_timepoints, results[item], line_width = 2, legend_label = plot_str[i], color = palette[i])\n",
    "    \n",
    "p_pp.legend.click_policy = 'hide'\n",
    "p_pp.legend.location = 'bottom_right'\n",
    "bokeh.io.show(p_pp)"
   ]
  },
  {
   "cell_type": "markdown",
   "metadata": {},
   "source": [
    "## Combine atp synthase and proton pump subsystems (with machinery txtl)\n",
    "---"
   ]
  },
  {
   "cell_type": "code",
   "execution_count": 49,
   "metadata": {},
   "outputs": [],
   "source": [
    "entire_subsystem = ss1_atpsyn_txtl + ss2_atpsyn_mi + ss3_atpsynthesis + ss4_atp_use + ss5_pp_txtl + ss6_pp_mi + ss7_protontransport"
   ]
  },
  {
   "cell_type": "code",
   "execution_count": 50,
   "metadata": {},
   "outputs": [],
   "source": [
    "# Initial conditions\n",
    "spec_list_10 = ['dna_proton_pump', 'dna_atpsyn','proton_outside_H', 'metabolite_atp']\n",
    "for i,spec in enumerate(spec_list_10):\n",
    "    entire_subsystem.setSpeciesAmount(spec,10)\n",
    "    \n",
    "x0_list_mach = ['protein_RNAP_machinery',\n",
    "          'protein_Ribo_machinery','protein_RNAse_machinery']\n",
    "for i,spec in enumerate(x0_list_mach):\n",
    "    entire_subsystem.setSpeciesAmount(spec,20)\n",
    "\n",
    "\n",
    "# timepoints and get results\n",
    "# timepoints = np.linspace(0,10,100)\n",
    "# results, _ = entire_subsystem.simulateWithBioscrape(timepoints, sbml_warnings = False)\n",
    "\n",
    "# Get species IDs\n",
    "ATP_id3 = entire_subsystem.getSpeciesByName('metabolite_atp').getId()\n",
    "ADP_id = entire_subsystem.getSpeciesByName('metabolite_adp').getId()\n",
    "\n",
    "outside_H_id = entire_subsystem.getSpeciesByName('proton_outside_H').getId()\n",
    "inside_H_id = entire_subsystem.getSpeciesByName('proton_inside_H').getId()\n",
    "\n",
    "proton_pump_b_protein_id = entire_subsystem.getSpeciesByName('protein_proton_pump_b').getId()\n",
    "proton_pump_f_protein_id = entire_subsystem.getSpeciesByName('protein_proton_pump').getId()\n",
    "\n",
    "atp_synthase_b_protein_id = entire_subsystem.getSpeciesByName('protein_atpsyn_b').getId()\n",
    "atp_synthase_f_protein_id = entire_subsystem.getSpeciesByName('protein_atpsyn').getId()\n"
   ]
  },
  {
   "cell_type": "code",
   "execution_count": 51,
   "metadata": {},
   "outputs": [],
   "source": [
    "timepoints = np.linspace(0,200,100)\n",
    "results_everything, _ = entire_subsystem.simulateWithBioscrape(timepoints, sbml_warnings = False)"
   ]
  },
  {
   "cell_type": "code",
   "execution_count": 52,
   "metadata": {},
   "outputs": [],
   "source": [
    "from bokeh.models.annotations import Title\n",
    "\n"
   ]
  },
  {
   "cell_type": "code",
   "execution_count": 53,
   "metadata": {},
   "outputs": [
    {
     "data": {
      "text/html": [
       "\n",
       "\n",
       "\n",
       "\n",
       "\n",
       "\n",
       "  <div class=\"bk-root\" id=\"d2929d59-bccb-40d2-bf52-30b23ced9dc2\" data-root-id=\"6001\"></div>\n"
      ]
     },
     "metadata": {},
     "output_type": "display_data"
    },
    {
     "data": {
      "application/javascript": [
       "(function(root) {\n",
       "  function embed_document(root) {\n",
       "    \n",
       "  var docs_json = {\"cde8470e-c9b1-4bc8-9c87-28a77b4d11cf\":{\"roots\":{\"references\":[{\"attributes\":{\"below\":[{\"id\":\"6012\",\"type\":\"LinearAxis\"}],\"center\":[{\"id\":\"6016\",\"type\":\"Grid\"},{\"id\":\"6021\",\"type\":\"Grid\"},{\"id\":\"6046\",\"type\":\"Legend\"}],\"left\":[{\"id\":\"6017\",\"type\":\"LinearAxis\"}],\"plot_height\":350,\"plot_width\":450,\"renderers\":[{\"id\":\"6038\",\"type\":\"GlyphRenderer\"},{\"id\":\"6051\",\"type\":\"GlyphRenderer\"},{\"id\":\"6065\",\"type\":\"GlyphRenderer\"},{\"id\":\"6081\",\"type\":\"GlyphRenderer\"},{\"id\":\"6099\",\"type\":\"GlyphRenderer\"}],\"title\":{\"id\":\"6002\",\"type\":\"Title\"},\"toolbar\":{\"id\":\"6028\",\"type\":\"Toolbar\"},\"x_range\":{\"id\":\"6004\",\"type\":\"DataRange1d\"},\"x_scale\":{\"id\":\"6008\",\"type\":\"LinearScale\"},\"y_range\":{\"id\":\"6006\",\"type\":\"DataRange1d\"},\"y_scale\":{\"id\":\"6010\",\"type\":\"LinearScale\"}},\"id\":\"6001\",\"subtype\":\"Figure\",\"type\":\"Plot\"},{\"attributes\":{\"active_drag\":\"auto\",\"active_inspect\":\"auto\",\"active_multi\":null,\"active_scroll\":\"auto\",\"active_tap\":\"auto\",\"tools\":[{\"id\":\"6022\",\"type\":\"PanTool\"},{\"id\":\"6023\",\"type\":\"WheelZoomTool\"},{\"id\":\"6024\",\"type\":\"BoxZoomTool\"},{\"id\":\"6025\",\"type\":\"SaveTool\"},{\"id\":\"6026\",\"type\":\"ResetTool\"},{\"id\":\"6027\",\"type\":\"HelpTool\"}]},\"id\":\"6028\",\"type\":\"Toolbar\"},{\"attributes\":{\"line_color\":\"#9367bc\",\"line_width\":2,\"x\":{\"field\":\"x\"},\"y\":{\"field\":\"y\"}},\"id\":\"6079\",\"type\":\"Line\"},{\"attributes\":{},\"id\":\"6013\",\"type\":\"BasicTicker\"},{\"attributes\":{\"axis_label\":\"time (hrs)\",\"formatter\":{\"id\":\"6041\",\"type\":\"BasicTickFormatter\"},\"ticker\":{\"id\":\"6013\",\"type\":\"BasicTicker\"}},\"id\":\"6012\",\"type\":\"LinearAxis\"},{\"attributes\":{},\"id\":\"6025\",\"type\":\"SaveTool\"},{\"attributes\":{\"axis_label\":\"concentration (nM)\",\"formatter\":{\"id\":\"6043\",\"type\":\"BasicTickFormatter\"},\"ticker\":{\"id\":\"6018\",\"type\":\"BasicTicker\"}},\"id\":\"6017\",\"type\":\"LinearAxis\"},{\"attributes\":{\"line_alpha\":0.1,\"line_color\":\"#1f77b4\",\"line_width\":2,\"x\":{\"field\":\"x\"},\"y\":{\"field\":\"y\"}},\"id\":\"6080\",\"type\":\"Line\"},{\"attributes\":{\"ticker\":{\"id\":\"6013\",\"type\":\"BasicTicker\"}},\"id\":\"6016\",\"type\":\"Grid\"},{\"attributes\":{},\"id\":\"6018\",\"type\":\"BasicTicker\"},{\"attributes\":{\"dimension\":1,\"ticker\":{\"id\":\"6018\",\"type\":\"BasicTicker\"}},\"id\":\"6021\",\"type\":\"Grid\"},{\"attributes\":{\"data_source\":{\"id\":\"6078\",\"type\":\"ColumnDataSource\"},\"glyph\":{\"id\":\"6079\",\"type\":\"Line\"},\"hover_glyph\":null,\"muted_glyph\":null,\"nonselection_glyph\":{\"id\":\"6080\",\"type\":\"Line\"},\"selection_glyph\":null,\"view\":{\"id\":\"6082\",\"type\":\"CDSView\"}},\"id\":\"6081\",\"type\":\"GlyphRenderer\"},{\"attributes\":{\"line_alpha\":0.1,\"line_color\":\"#1f77b4\",\"line_width\":2,\"x\":{\"field\":\"x\"},\"y\":{\"field\":\"y\"}},\"id\":\"6064\",\"type\":\"Line\"},{\"attributes\":{\"data_source\":{\"id\":\"6062\",\"type\":\"ColumnDataSource\"},\"glyph\":{\"id\":\"6063\",\"type\":\"Line\"},\"hover_glyph\":null,\"muted_glyph\":null,\"nonselection_glyph\":{\"id\":\"6064\",\"type\":\"Line\"},\"selection_glyph\":null,\"view\":{\"id\":\"6066\",\"type\":\"CDSView\"}},\"id\":\"6065\",\"type\":\"GlyphRenderer\"},{\"attributes\":{\"source\":{\"id\":\"6048\",\"type\":\"ColumnDataSource\"}},\"id\":\"6052\",\"type\":\"CDSView\"},{\"attributes\":{\"callback\":null,\"data\":{\"x\":{\"__ndarray__\":\"AAAAAAAAAAAXqhByaWNCPxeqEHJpY1I/I/8YKx6VWz8XqhByaWNiP57UlM5D/GY/I/8YKx6Vaz/VlM5D/BZwPxeqEHJpY3I/W79SoNavdD+e1JTOQ/x2P+Hp1vywSHk/I/8YKx6Vez9mFFtZi+F9P9WUzkP8FoA/dp/v2jI9gT8XqhByaWOCP7q0MQmgiYM/W79SoNavhD/9yXM3DdaFP57UlM5D/IY/QN+1ZXoiiD/h6db8sEiJP4P095Pnboo/I/8YKx6Viz/FCTrCVLuMP2YUW1mL4Y0/Bx988MEHjz/VlM5D/BaQPyUaX48XqpA/dp/v2jI9kT/HJIAmTtCRPxeqEHJpY5I/aS+hvYT2kj+6tDEJoImTPws6wlS7HJQ/W79SoNavlD+sROPr8UKVP/3JczcN1pU/Tk8Egyhplj+e1JTOQ/yWP+9ZJRpfj5c/QN+1ZXoimD+QZEaxlbWYP+Hp1vywSJk/Mm9nSMzbmT+D9PeT526aP9N5iN8CAps/I/8YKx6Vmz90hKl2OSicP8UJOsJUu5w/FY/KDXBOnT9mFFtZi+GdP7eZ66SmdJ4/Bx988MEHnz9ZpAw83ZqfP9WUzkP8FqA/fdeW6YlgoD8lGl+PF6qgP85cJzWl86A/dp/v2jI9oT8f4reAwIahP8ckgCZO0KE/cGdIzNsZoj8XqhByaWOiP8Ds2Bf3rKI/aS+hvYT2oj8RcmljEkCjP7q0MQmgiaM/Yvf5ri3Toz8LOsJUuxykP7J8ivpIZqQ/W79SoNavpD8DAhtGZPmkP6xE4+vxQqU/VIerkX+MpT/9yXM3DdalP6UMPN2aH6Y/Tk8Egyhppj/1kcwotrKmP57UlM5D/KY/RhdddNFFpz/vWSUaX4+nP5ec7b/s2Kc/QN+1ZXoiqD/pIX4LCGyoP5BkRrGVtag/OacOVyP/qD/h6db8sEipP4osn6I+kqk/Mm9nSMzbqT/bsS/uWSWqP4P095Pnbqo/LDfAOXW4qj/TeYjfAgKrP3y8UIWQS6s/I/8YKx6Vqz/MQeHQq96rP3SEqXY5KKw/HcdxHMdxrD8=\",\"dtype\":\"float64\",\"shape\":[100]},\"y\":{\"__ndarray__\":\"AAAAAAAAAAAlAaBz8rjUPk8EEU25AgQ/CFuYtTVKID/kDnCkjqEyP5SfVTizkEE/SXmpozRRTT9ophZbln5WP92HX4uDO2A/ffR/ZIdbZj9vHPL4ma5tP8rP8wyPIHM/wZur4XoOeD9nPAyr6qR9P6pO4iRj84E/LEQaYxFrhT90YWclLzqJPyQAchscYY0/sUJ1mvnvkD+ECFT2SVuTP7HDXjVV8pU/i+wXV9u0mD/r2EdqiaKbP7pijk38up4/yjwRkOH+oD8jZmmwMLWiPyL+eGcogKQ/Fq+iiYFfpj9x0+GZ8VKoP4AnRmsrWqo/13CJst90rD90b/aCvaKuPzhtrl65cbA/ZvsvOFabsT/GRHqWC86yP8R3PaivCbQ/K8ikoRhOtT8AU67YHJu2P7IxBN2S8Lc/FcQ2jFFOuT+yQI4jMLS6Pz7B4E4GIrw/wek4NayXvT8E4UeD+hS/PzhT/DnlTMA/9+jQ6/oSwT+cnb6Mq9zBP8sXJqLkqcI/+zivApR6wz8h42nXp07EP59En5wOJsU/NnApIrcAxj++hHGLkN7GP3HKM0+Kv8c/l7QMN5SjyD9u5slenorJP7fcjDOZdMo/RXbKcnVhyz+KiCwpJFHMP8H1V7GWQ80/Hkaesr44zj8TX5wfjjDPPy/sZpp7FdA/zy2LO/aT0D9XUSFZsBPRP44CxXujlNE/psoTTskW0j/8inqbG5rSP5XJWlCUHtM/S/VseC2k0z+UQFY+4SrUPxgP9uqpstQ/f1qd5IE71T8h51euY8XVP9rsIudJUNY/YYRPSS/c1j+souGpDmnXP/RI3Pfi9tc/9LqZO6eF2D+klieWVhXZP1OErkDspdk/JBXVi2M32j9HPTTft8naP5+Hw7jkXNs/Yr1MrOXw2z8wyeFitoXcPxBkWppSG90/m4HUJLax3T8agDjo3EjeP9u7vt3C4N4/Rax+EWR53z9y+P1QXgngP3rR3F9kVuA/M4RnVsKj4D/8+EBedvHgP1D/cql+P+E/nJcdctmN4T+ZT7/6hNzhPwMGgY1/K+I/ZMIvfMd64j8=\",\"dtype\":\"float64\",\"shape\":[100]}},\"selected\":{\"id\":\"7074\",\"type\":\"Selection\"},\"selection_policy\":{\"id\":\"7075\",\"type\":\"UnionRenderers\"}},\"id\":\"6096\",\"type\":\"ColumnDataSource\"},{\"attributes\":{\"click_policy\":\"hide\",\"items\":[{\"id\":\"6047\",\"type\":\"LegendItem\"},{\"id\":\"6061\",\"type\":\"LegendItem\"},{\"id\":\"6077\",\"type\":\"LegendItem\"},{\"id\":\"6095\",\"type\":\"LegendItem\"},{\"id\":\"6115\",\"type\":\"LegendItem\"}],\"location\":\"center_right\"},\"id\":\"6046\",\"type\":\"Legend\"},{\"attributes\":{\"data_source\":{\"id\":\"6035\",\"type\":\"ColumnDataSource\"},\"glyph\":{\"id\":\"6036\",\"type\":\"Line\"},\"hover_glyph\":null,\"muted_glyph\":null,\"nonselection_glyph\":{\"id\":\"6037\",\"type\":\"Line\"},\"selection_glyph\":null,\"view\":{\"id\":\"6039\",\"type\":\"CDSView\"}},\"id\":\"6038\",\"type\":\"GlyphRenderer\"},{\"attributes\":{},\"id\":\"6041\",\"type\":\"BasicTickFormatter\"},{\"attributes\":{\"source\":{\"id\":\"6078\",\"type\":\"ColumnDataSource\"}},\"id\":\"6082\",\"type\":\"CDSView\"},{\"attributes\":{},\"id\":\"6022\",\"type\":\"PanTool\"},{\"attributes\":{\"line_alpha\":0.1,\"line_color\":\"#1f77b4\",\"line_width\":2,\"x\":{\"field\":\"x\"},\"y\":{\"field\":\"y\"}},\"id\":\"6037\",\"type\":\"Line\"},{\"attributes\":{\"callback\":null,\"data\":{\"x\":{\"__ndarray__\":\"AAAAAAAAAAAXqhByaWNCPxeqEHJpY1I/I/8YKx6VWz8XqhByaWNiP57UlM5D/GY/I/8YKx6Vaz/VlM5D/BZwPxeqEHJpY3I/W79SoNavdD+e1JTOQ/x2P+Hp1vywSHk/I/8YKx6Vez9mFFtZi+F9P9WUzkP8FoA/dp/v2jI9gT8XqhByaWOCP7q0MQmgiYM/W79SoNavhD/9yXM3DdaFP57UlM5D/IY/QN+1ZXoiiD/h6db8sEiJP4P095Pnboo/I/8YKx6Viz/FCTrCVLuMP2YUW1mL4Y0/Bx988MEHjz/VlM5D/BaQPyUaX48XqpA/dp/v2jI9kT/HJIAmTtCRPxeqEHJpY5I/aS+hvYT2kj+6tDEJoImTPws6wlS7HJQ/W79SoNavlD+sROPr8UKVP/3JczcN1pU/Tk8Egyhplj+e1JTOQ/yWP+9ZJRpfj5c/QN+1ZXoimD+QZEaxlbWYP+Hp1vywSJk/Mm9nSMzbmT+D9PeT526aP9N5iN8CAps/I/8YKx6Vmz90hKl2OSicP8UJOsJUu5w/FY/KDXBOnT9mFFtZi+GdP7eZ66SmdJ4/Bx988MEHnz9ZpAw83ZqfP9WUzkP8FqA/fdeW6YlgoD8lGl+PF6qgP85cJzWl86A/dp/v2jI9oT8f4reAwIahP8ckgCZO0KE/cGdIzNsZoj8XqhByaWOiP8Ds2Bf3rKI/aS+hvYT2oj8RcmljEkCjP7q0MQmgiaM/Yvf5ri3Toz8LOsJUuxykP7J8ivpIZqQ/W79SoNavpD8DAhtGZPmkP6xE4+vxQqU/VIerkX+MpT/9yXM3DdalP6UMPN2aH6Y/Tk8Egyhppj/1kcwotrKmP57UlM5D/KY/RhdddNFFpz/vWSUaX4+nP5ec7b/s2Kc/QN+1ZXoiqD/pIX4LCGyoP5BkRrGVtag/OacOVyP/qD/h6db8sEipP4osn6I+kqk/Mm9nSMzbqT/bsS/uWSWqP4P095Pnbqo/LDfAOXW4qj/TeYjfAgKrP3y8UIWQS6s/I/8YKx6Vqz/MQeHQq96rP3SEqXY5KKw/HcdxHMdxrD8=\",\"dtype\":\"float64\",\"shape\":[100]},\"y\":{\"__ndarray__\":\"AAAAAAAAAADvmzEP3c4JPzzyS4SS9zg/pAX8y+ZVVD9cpvPF/EJnP6zEdvvw7XU//q3gx91Lgj/KQFF83RCMP8pV+yDwPZQ/fHJqHk3cmz8CWUjqbHqiP0lAepFzyqc/Z9XXTxvjrT80NDle2GOyP+5ZDSkNPbY/aDe9l4B9uj+0in4i+yS/P2+WBdNkGcI/TdakMubSxD97+jFIQr7HP3QyYz6Q2so/JuR1VcMmzj8ulqkg2NDQP6qujYQIpdI/PdMr8USP1D+PXyNS1o7WP/Kdah7+otg/Tzue6PfK2j8QI0fE+gXdPy+YE4g6U98/6IDlffTY4D8fKfRkmxDiP5EvM0MqUOM/in0qpTmX5D+yarYAY+XlP/EriIlAOuc/7N2f7m2V6D96kvdhiPbpP+poatouXes/0SYCQwLJ7D+kiimipTnuP7tWdDm+ru8/HcIB1vmT8D+xMo8DeFLxP9u+7e2vEvI/y955JXnU8j/QMwaHrJfzP3CD5D4kXPQ/N/Ixyrsh9T8tPLf2T+j1P+xct+G+r/Y/nOJ79ed39z9vG+jlq0D4Pz7tNKzsCfk/ggsFgo3T+T8497Lbcp36P+oGRmKCZ/s/aaui7KIx/D8Yz7l4vPv8P0xxQSS4xf0/h2WcJICP/j9iDXvA/1j/P0o2q6IREQBAoiSSAmx1AEDnQtAehtkAQA56rJ1XPQFAU4xyhtigAUDdfmpcAQQCQOX4rwzLZgJAN5uJ7C7JAkBHIs21JisDQM/rH4OsjANA8qldzLrtA0BqbIhiTE4EQJhxtWxcrgRAUjpLZOYNBUA5F7ER5mwFQFT6H4lXywVAzFI+JzcpBkAI1RuOgYYGQGX9MqIz4wZAYT5mh0o/B0De/UKew5oHQNtLLYGc9QdAp5/fAdNPCEAiw64mZakIQAlPHShRAglAtKS3bpVaCUBYQ1OQMLIJQLhgOE4hCQpAAl49k2ZfCkAAEGJw/7QKQMAecR3rCQtAgiZL9CheC0DqxLttuLELQN8MWy6ZBAxAYw565cpWDEBD/lpuTagMQF2/brkg+QxA8PeO0URJDUA=\",\"dtype\":\"float64\",\"shape\":[100]}},\"selected\":{\"id\":\"6092\",\"type\":\"Selection\"},\"selection_policy\":{\"id\":\"6093\",\"type\":\"UnionRenderers\"}},\"id\":\"6062\",\"type\":\"ColumnDataSource\"},{\"attributes\":{},\"id\":\"6092\",\"type\":\"Selection\"},{\"attributes\":{\"source\":{\"id\":\"6062\",\"type\":\"ColumnDataSource\"}},\"id\":\"6066\",\"type\":\"CDSView\"},{\"attributes\":{\"label\":{\"value\":\"inside_H\"},\"renderers\":[{\"id\":\"6065\",\"type\":\"GlyphRenderer\"}]},\"id\":\"6077\",\"type\":\"LegendItem\"},{\"attributes\":{},\"id\":\"6010\",\"type\":\"LinearScale\"},{\"attributes\":{\"line_color\":\"#1f77b3\",\"line_width\":2,\"x\":{\"field\":\"x\"},\"y\":{\"field\":\"y\"}},\"id\":\"6036\",\"type\":\"Line\"},{\"attributes\":{\"label\":{\"value\":\"bound atp synthase\"},\"renderers\":[{\"id\":\"6081\",\"type\":\"GlyphRenderer\"}]},\"id\":\"6095\",\"type\":\"LegendItem\"},{\"attributes\":{},\"id\":\"6059\",\"type\":\"UnionRenderers\"},{\"attributes\":{\"line_alpha\":0.1,\"line_color\":\"#1f77b4\",\"line_width\":2,\"x\":{\"field\":\"x\"},\"y\":{\"field\":\"y\"}},\"id\":\"6050\",\"type\":\"Line\"},{\"attributes\":{},\"id\":\"6093\",\"type\":\"UnionRenderers\"},{\"attributes\":{\"label\":{\"value\":\"outside_H\"},\"renderers\":[{\"id\":\"6051\",\"type\":\"GlyphRenderer\"}]},\"id\":\"6061\",\"type\":\"LegendItem\"},{\"attributes\":{},\"id\":\"6058\",\"type\":\"Selection\"},{\"attributes\":{\"callback\":null,\"data\":{\"x\":{\"__ndarray__\":\"AAAAAAAAAAAXqhByaWNCPxeqEHJpY1I/I/8YKx6VWz8XqhByaWNiP57UlM5D/GY/I/8YKx6Vaz/VlM5D/BZwPxeqEHJpY3I/W79SoNavdD+e1JTOQ/x2P+Hp1vywSHk/I/8YKx6Vez9mFFtZi+F9P9WUzkP8FoA/dp/v2jI9gT8XqhByaWOCP7q0MQmgiYM/W79SoNavhD/9yXM3DdaFP57UlM5D/IY/QN+1ZXoiiD/h6db8sEiJP4P095Pnboo/I/8YKx6Viz/FCTrCVLuMP2YUW1mL4Y0/Bx988MEHjz/VlM5D/BaQPyUaX48XqpA/dp/v2jI9kT/HJIAmTtCRPxeqEHJpY5I/aS+hvYT2kj+6tDEJoImTPws6wlS7HJQ/W79SoNavlD+sROPr8UKVP/3JczcN1pU/Tk8Egyhplj+e1JTOQ/yWP+9ZJRpfj5c/QN+1ZXoimD+QZEaxlbWYP+Hp1vywSJk/Mm9nSMzbmT+D9PeT526aP9N5iN8CAps/I/8YKx6Vmz90hKl2OSicP8UJOsJUu5w/FY/KDXBOnT9mFFtZi+GdP7eZ66SmdJ4/Bx988MEHnz9ZpAw83ZqfP9WUzkP8FqA/fdeW6YlgoD8lGl+PF6qgP85cJzWl86A/dp/v2jI9oT8f4reAwIahP8ckgCZO0KE/cGdIzNsZoj8XqhByaWOiP8Ds2Bf3rKI/aS+hvYT2oj8RcmljEkCjP7q0MQmgiaM/Yvf5ri3Toz8LOsJUuxykP7J8ivpIZqQ/W79SoNavpD8DAhtGZPmkP6xE4+vxQqU/VIerkX+MpT/9yXM3DdalP6UMPN2aH6Y/Tk8Egyhppj/1kcwotrKmP57UlM5D/KY/RhdddNFFpz/vWSUaX4+nP5ec7b/s2Kc/QN+1ZXoiqD/pIX4LCGyoP5BkRrGVtag/OacOVyP/qD/h6db8sEipP4osn6I+kqk/Mm9nSMzbqT/bsS/uWSWqP4P095Pnbqo/LDfAOXW4qj/TeYjfAgKrP3y8UIWQS6s/I/8YKx6Vqz/MQeHQq96rP3SEqXY5KKw/HcdxHMdxrD8=\",\"dtype\":\"float64\",\"shape\":[100]},\"y\":{\"__ndarray__\":\"AAAAAAAAAAAhAaBz8rjUPkgEEU25AgQ/BFuYtTVKID/gDnCkjqEyP5KfVTizkEE/RnmpozRRTT9jphZbln5WP9qHX4uDO2A/efR/ZIdbZj9oHPL4ma5tP8XP8wyPIHM/u5ur4XoOeD9hPAyr6qR9P6hO4iRj84E/KEQaYxFrhT9uYWclLzqJPx4AchscYY0/rUJ1mvnvkD9/CFT2SVuTP6zDXjVV8pU/hewXV9u0mD/l2EdqiaKbP7Rijk38up4/xzwRkOH+oD8fZmmwMLWiPx/+eGcogKQ/Eq+iiYFfpj9s0+GZ8VKoP3onRmsrWqo/0XCJst90rD9ub/aCvaKuPzVtrl65cbA/Y/svOFabsT/DRHqWC86yP8B3PaivCbQ/JsikoRhOtT/8Uq7YHJu2P6wxBN2S8Lc/D8Q2jFFOuT+sQI4jMLS6PzjB4E4GIrw/u+k4NayXvT/+4EeD+hS/PzVT/DnlTMA/9OjQ6/oSwT+Znb6Mq9zBP8kXJqLkqcI/+jivApR6wz8g42nXp07EP55En5wOJsU/NXApIrcAxj+9hHGLkN7GP2/KM0+Kv8c/l7QMN5SjyD9t5slenorJP7fcjDOZdMo/RXbKcnVhyz+JiCwpJFHMP8H1V7GWQ80/H0aesr44zj8UX5wfjjDPPy/sZpp7FdA/0C2LO/aT0D9YUSFZsBPRP48CxXujlNE/p8oTTskW0j/9inqbG5rSP5bJWlCUHtM/TPVseC2k0z+VQFY+4SrUPxoP9uqpstQ/gVqd5IE71T8j51euY8XVP9zsIudJUNY/Y4RPSS/c1j+uouGpDmnXP/ZI3Pfi9tc/9rqZO6eF2D+nlieWVhXZP1aErkDspdk/KBXVi2M32j9LPTTft8naP6OHw7jkXNs/Zr1MrOXw2z80yeFitoXcPxRkWppSG90/noHUJLax3T8egDjo3EjeP9+7vt3C4N4/Sqx+EWR53z90+P1QXgngP33R3F9kVuA/N4RnVsKj4D8B+UBedvHgP1X/cql+P+E/oZcdctmN4T+dT7/6hNzhPwgGgY1/K+I/acIvfMd64j8=\",\"dtype\":\"float64\",\"shape\":[100]}},\"selected\":{\"id\":\"6112\",\"type\":\"Selection\"},\"selection_policy\":{\"id\":\"6113\",\"type\":\"UnionRenderers\"}},\"id\":\"6078\",\"type\":\"ColumnDataSource\"},{\"attributes\":{},\"id\":\"6023\",\"type\":\"WheelZoomTool\"},{\"attributes\":{},\"id\":\"6113\",\"type\":\"UnionRenderers\"},{\"attributes\":{},\"id\":\"6026\",\"type\":\"ResetTool\"},{\"attributes\":{},\"id\":\"6027\",\"type\":\"HelpTool\"},{\"attributes\":{},\"id\":\"6074\",\"type\":\"Selection\"},{\"attributes\":{},\"id\":\"7074\",\"type\":\"Selection\"},{\"attributes\":{\"text\":\"with ATP Synthase, Proton Pump, ATP Use\"},\"id\":\"6002\",\"type\":\"Title\"},{\"attributes\":{\"data_source\":{\"id\":\"6048\",\"type\":\"ColumnDataSource\"},\"glyph\":{\"id\":\"6049\",\"type\":\"Line\"},\"hover_glyph\":null,\"muted_glyph\":null,\"nonselection_glyph\":{\"id\":\"6050\",\"type\":\"Line\"},\"selection_glyph\":null,\"view\":{\"id\":\"6052\",\"type\":\"CDSView\"}},\"id\":\"6051\",\"type\":\"GlyphRenderer\"},{\"attributes\":{\"line_color\":\"#8c564b\",\"line_width\":2,\"x\":{\"field\":\"x\"},\"y\":{\"field\":\"y\"}},\"id\":\"6097\",\"type\":\"Line\"},{\"attributes\":{},\"id\":\"7075\",\"type\":\"UnionRenderers\"},{\"attributes\":{\"callback\":null},\"id\":\"6004\",\"type\":\"DataRange1d\"},{\"attributes\":{\"label\":{\"value\":\"atp\"},\"renderers\":[{\"id\":\"6038\",\"type\":\"GlyphRenderer\"}]},\"id\":\"6047\",\"type\":\"LegendItem\"},{\"attributes\":{\"line_alpha\":0.1,\"line_color\":\"#1f77b4\",\"line_width\":2,\"x\":{\"field\":\"x\"},\"y\":{\"field\":\"y\"}},\"id\":\"6098\",\"type\":\"Line\"},{\"attributes\":{\"data_source\":{\"id\":\"6096\",\"type\":\"ColumnDataSource\"},\"glyph\":{\"id\":\"6097\",\"type\":\"Line\"},\"hover_glyph\":null,\"muted_glyph\":null,\"nonselection_glyph\":{\"id\":\"6098\",\"type\":\"Line\"},\"selection_glyph\":null,\"view\":{\"id\":\"6100\",\"type\":\"CDSView\"}},\"id\":\"6099\",\"type\":\"GlyphRenderer\"},{\"attributes\":{\"overlay\":{\"id\":\"6045\",\"type\":\"BoxAnnotation\"}},\"id\":\"6024\",\"type\":\"BoxZoomTool\"},{\"attributes\":{\"callback\":null},\"id\":\"6006\",\"type\":\"DataRange1d\"},{\"attributes\":{\"source\":{\"id\":\"6035\",\"type\":\"ColumnDataSource\"}},\"id\":\"6039\",\"type\":\"CDSView\"},{\"attributes\":{\"source\":{\"id\":\"6096\",\"type\":\"ColumnDataSource\"}},\"id\":\"6100\",\"type\":\"CDSView\"},{\"attributes\":{\"line_color\":\"#2ba02b\",\"line_width\":2,\"x\":{\"field\":\"x\"},\"y\":{\"field\":\"y\"}},\"id\":\"6063\",\"type\":\"Line\"},{\"attributes\":{},\"id\":\"6112\",\"type\":\"Selection\"},{\"attributes\":{\"bottom_units\":\"screen\",\"fill_alpha\":{\"value\":0.5},\"fill_color\":{\"value\":\"lightgrey\"},\"left_units\":\"screen\",\"level\":\"overlay\",\"line_alpha\":{\"value\":1.0},\"line_color\":{\"value\":\"black\"},\"line_dash\":[4,4],\"line_width\":{\"value\":2},\"render_mode\":\"css\",\"right_units\":\"screen\",\"top_units\":\"screen\"},\"id\":\"6045\",\"type\":\"BoxAnnotation\"},{\"attributes\":{},\"id\":\"6008\",\"type\":\"LinearScale\"},{\"attributes\":{},\"id\":\"6043\",\"type\":\"BasicTickFormatter\"},{\"attributes\":{\"callback\":null,\"data\":{\"x\":{\"__ndarray__\":\"AAAAAAAAAAAXqhByaWNCPxeqEHJpY1I/I/8YKx6VWz8XqhByaWNiP57UlM5D/GY/I/8YKx6Vaz/VlM5D/BZwPxeqEHJpY3I/W79SoNavdD+e1JTOQ/x2P+Hp1vywSHk/I/8YKx6Vez9mFFtZi+F9P9WUzkP8FoA/dp/v2jI9gT8XqhByaWOCP7q0MQmgiYM/W79SoNavhD/9yXM3DdaFP57UlM5D/IY/QN+1ZXoiiD/h6db8sEiJP4P095Pnboo/I/8YKx6Viz/FCTrCVLuMP2YUW1mL4Y0/Bx988MEHjz/VlM5D/BaQPyUaX48XqpA/dp/v2jI9kT/HJIAmTtCRPxeqEHJpY5I/aS+hvYT2kj+6tDEJoImTPws6wlS7HJQ/W79SoNavlD+sROPr8UKVP/3JczcN1pU/Tk8Egyhplj+e1JTOQ/yWP+9ZJRpfj5c/QN+1ZXoimD+QZEaxlbWYP+Hp1vywSJk/Mm9nSMzbmT+D9PeT526aP9N5iN8CAps/I/8YKx6Vmz90hKl2OSicP8UJOsJUu5w/FY/KDXBOnT9mFFtZi+GdP7eZ66SmdJ4/Bx988MEHnz9ZpAw83ZqfP9WUzkP8FqA/fdeW6YlgoD8lGl+PF6qgP85cJzWl86A/dp/v2jI9oT8f4reAwIahP8ckgCZO0KE/cGdIzNsZoj8XqhByaWOiP8Ds2Bf3rKI/aS+hvYT2oj8RcmljEkCjP7q0MQmgiaM/Yvf5ri3Toz8LOsJUuxykP7J8ivpIZqQ/W79SoNavpD8DAhtGZPmkP6xE4+vxQqU/VIerkX+MpT/9yXM3DdalP6UMPN2aH6Y/Tk8Egyhppj/1kcwotrKmP57UlM5D/KY/RhdddNFFpz/vWSUaX4+nP5ec7b/s2Kc/QN+1ZXoiqD/pIX4LCGyoP5BkRrGVtag/OacOVyP/qD/h6db8sEipP4osn6I+kqk/Mm9nSMzbqT/bsS/uWSWqP4P095Pnbqo/LDfAOXW4qj/TeYjfAgKrP3y8UIWQS6s/I/8YKx6Vqz/MQeHQq96rP3SEqXY5KKw/HcdxHMdxrD8=\",\"dtype\":\"float64\",\"shape\":[100]},\"y\":{\"__ndarray__\":\"AAAAAAAAJEA1vEiM+f8jQGf32hDO/yNAIKDJUF3/I0DEoDPQi/4jQCWR4EFC/SNA0geOCG37I0Ct66DI+/gjQFKC7wfh9SNAwspw2RHyI0ChtxWThe0jQLmFbow16CNAJSiw5BziI0CTjUNPONsjQEflreWF0yNAjIXQ/gTLI0DmArsJtsEjQKHps2yatyNAomw1Z7SsI0ARON/2BqEjQDBzBr+VlCNAaSiq8mSHI0BIs/o+eXkjQIWS27vXaiNAYqF22IVbI0D+5G5NiUsjQAurDA/oOiNAHw67QKgpI0Dhxt0p0BcjQDljvytmBSNA7KchuHDyIkBpvbBJ9t4iQALNzFv9yiJAIlitZYy2IkBQmfTPqaEiQDx9Z/dbjCJAHAIWIal2IkDUhuB5l2AiQG1ZWRItSiJAjt3P228zIkBRZ92lZRwiQI+6aBwUBSJAtsc/xYDtIUCjGY7/sNUhQB1IQgKqvSFAH8RQ23ClIUB/OR9vCo0hQItvI3h7dCFAssG5hshbIUB0GCkB9kIhQFwUySMIKiFApoNQAQMRIUCM/EKD6vcgQFFieWrC3iBAiV6/T47FIEARoYmkUawgQBw/t7MPkyBAjaprost5IEAXxuhwiGAgQNDRd/tIRyBASXNs+w8uIEBNnvAH4BQgQM5kqi539x9Aou22/knFH0B/3pfwPJMfQOrCKTFUYR9Ax7nGvJMvH0CCwMpR//0eQHwDqHmazB5AUzK7iWibHkDLbhmlbGoeQAgKcL6pOR5A9irRmSIJHkC7ybvO2dgdQCRHpcnRqB1Ax2LazQx5HUBUdCf3jEkdQMYCcDtUGh1AitZgbGTrHEBsFfI4v7wcQD6B5i5mjhxAwOBMvFpgHEABgd4wnjIcQAJaab8xBRxAHDAQfxbYG0BfnqhsTasbQGxY8WvXfhtAlS2kSLVSG0BDXta35yYbQJXP41hv+xpA71BhtkzQGkDw985HgKUaQJBwR3EKexpArmzahetQGkB6HSLJIycaQIB50miz/RlAwPhCjZrUGUDRgNJI2asZQEOgSKNvgxlA+YM4l11bGUA=\",\"dtype\":\"float64\",\"shape\":[100]}},\"selected\":{\"id\":\"6074\",\"type\":\"Selection\"},\"selection_policy\":{\"id\":\"6075\",\"type\":\"UnionRenderers\"}},\"id\":\"6048\",\"type\":\"ColumnDataSource\"},{\"attributes\":{\"line_color\":\"#ff7e0e\",\"line_width\":2,\"x\":{\"field\":\"x\"},\"y\":{\"field\":\"y\"}},\"id\":\"6049\",\"type\":\"Line\"},{\"attributes\":{\"label\":{\"value\":\"bound proton pump\"},\"renderers\":[{\"id\":\"6099\",\"type\":\"GlyphRenderer\"}]},\"id\":\"6115\",\"type\":\"LegendItem\"},{\"attributes\":{\"callback\":null,\"data\":{\"x\":{\"__ndarray__\":\"AAAAAAAAAAAXqhByaWNCPxeqEHJpY1I/I/8YKx6VWz8XqhByaWNiP57UlM5D/GY/I/8YKx6Vaz/VlM5D/BZwPxeqEHJpY3I/W79SoNavdD+e1JTOQ/x2P+Hp1vywSHk/I/8YKx6Vez9mFFtZi+F9P9WUzkP8FoA/dp/v2jI9gT8XqhByaWOCP7q0MQmgiYM/W79SoNavhD/9yXM3DdaFP57UlM5D/IY/QN+1ZXoiiD/h6db8sEiJP4P095Pnboo/I/8YKx6Viz/FCTrCVLuMP2YUW1mL4Y0/Bx988MEHjz/VlM5D/BaQPyUaX48XqpA/dp/v2jI9kT/HJIAmTtCRPxeqEHJpY5I/aS+hvYT2kj+6tDEJoImTPws6wlS7HJQ/W79SoNavlD+sROPr8UKVP/3JczcN1pU/Tk8Egyhplj+e1JTOQ/yWP+9ZJRpfj5c/QN+1ZXoimD+QZEaxlbWYP+Hp1vywSJk/Mm9nSMzbmT+D9PeT526aP9N5iN8CAps/I/8YKx6Vmz90hKl2OSicP8UJOsJUu5w/FY/KDXBOnT9mFFtZi+GdP7eZ66SmdJ4/Bx988MEHnz9ZpAw83ZqfP9WUzkP8FqA/fdeW6YlgoD8lGl+PF6qgP85cJzWl86A/dp/v2jI9oT8f4reAwIahP8ckgCZO0KE/cGdIzNsZoj8XqhByaWOiP8Ds2Bf3rKI/aS+hvYT2oj8RcmljEkCjP7q0MQmgiaM/Yvf5ri3Toz8LOsJUuxykP7J8ivpIZqQ/W79SoNavpD8DAhtGZPmkP6xE4+vxQqU/VIerkX+MpT/9yXM3DdalP6UMPN2aH6Y/Tk8Egyhppj/1kcwotrKmP57UlM5D/KY/RhdddNFFpz/vWSUaX4+nP5ec7b/s2Kc/QN+1ZXoiqD/pIX4LCGyoP5BkRrGVtag/OacOVyP/qD/h6db8sEipP4osn6I+kqk/Mm9nSMzbqT/bsS/uWSWqP4P095Pnbqo/LDfAOXW4qj/TeYjfAgKrP3y8UIWQS6s/I/8YKx6Vqz/MQeHQq96rP3SEqXY5KKw/HcdxHMdxrD8=\",\"dtype\":\"float64\",\"shape\":[100]},\"y\":{\"__ndarray__\":\"AAAAAAAAJED+//////8fQP7//////x9A////////H0AAAAAAAAAgQAAAAAAAACBAAAAAAAAAIED///////8fQAAAAAAAACBA////////H0AAAAAAAAAgQAEAAAAAACBAAAAAAAAAIEAAAAAAAAAgQP///////x9A////////H0D///////8fQAAAAAAAACBAAAAAAAAAIED///////8fQPP//////x9Akf//////H0Dq//////8fQP7//////x9A/v//////H0D+//////8fQP7//////x9A/P//////H0D8//////8fQAIAAAAAACBA9P//////H0D9//////8fQNX//////x9ATQAAAAAAIED+//////8fQPv//////x9A+///////H0D6//////8fQPr//////x9A8P//////H0Da//////8fQPr//////x9A+///////H0D8//////8fQPv//////x9A+///////H0D7//////8fQPv//////x9A+///////H0D7//////8fQPv//////x9A+///////H0D7//////8fQPr//////x9A+v//////H0D6//////8fQPr//////x9A+v//////H0D6//////8fQPr//////x9A+v//////H0D6//////8fQPn//////x9A+f//////H0D6//////8fQPn//////x9A+f//////H0D6//////8fQPr//////x9A+v//////H0D6//////8fQPr//////x9A+v//////H0D6//////8fQPn//////x9A+f//////H0D5//////8fQPn//////x9A+f//////H0D5//////8fQPn//////x9A+f//////H0D5//////8fQPj//////x9A+P//////H0D4//////8fQPn//////x9A+f//////H0D5//////8fQPn//////x9A+f//////H0D5//////8fQPn//////x9A+P//////H0D5//////8fQPj//////x9A+P//////H0D3//////8fQPf//////x9A9///////H0A=\",\"dtype\":\"float64\",\"shape\":[100]}},\"selected\":{\"id\":\"6058\",\"type\":\"Selection\"},\"selection_policy\":{\"id\":\"6059\",\"type\":\"UnionRenderers\"}},\"id\":\"6035\",\"type\":\"ColumnDataSource\"},{\"attributes\":{},\"id\":\"6075\",\"type\":\"UnionRenderers\"}],\"root_ids\":[\"6001\"]},\"title\":\"Bokeh Application\",\"version\":\"1.4.0\"}};\n",
       "  var render_items = [{\"docid\":\"cde8470e-c9b1-4bc8-9c87-28a77b4d11cf\",\"roots\":{\"6001\":\"d2929d59-bccb-40d2-bf52-30b23ced9dc2\"}}];\n",
       "  root.Bokeh.embed.embed_items_notebook(docs_json, render_items);\n",
       "\n",
       "  }\n",
       "  if (root.Bokeh !== undefined) {\n",
       "    embed_document(root);\n",
       "  } else {\n",
       "    var attempts = 0;\n",
       "    var timer = setInterval(function(root) {\n",
       "      if (root.Bokeh !== undefined) {\n",
       "        clearInterval(timer);\n",
       "        embed_document(root);\n",
       "      } else {\n",
       "        attempts++;\n",
       "        if (attempts > 100) {\n",
       "          clearInterval(timer);\n",
       "          console.log(\"Bokeh: ERROR: Unable to run BokehJS code because BokehJS library is missing\");\n",
       "        }\n",
       "      }\n",
       "    }, 10, root)\n",
       "  }\n",
       "})(window);"
      ],
      "application/vnd.bokehjs_exec.v0+json": ""
     },
     "metadata": {
      "application/vnd.bokehjs_exec.v0+json": {
       "id": "6001"
      }
     },
     "output_type": "display_data"
    },
    {
     "data": {
      "text/html": [
       "\n",
       "\n",
       "\n",
       "\n",
       "\n",
       "\n",
       "  <div class=\"bk-root\" id=\"9a915dfc-c2ce-4745-ab5c-5e0f88b1773a\" data-root-id=\"4916\"></div>\n"
      ]
     },
     "metadata": {},
     "output_type": "display_data"
    },
    {
     "data": {
      "application/javascript": [
       "(function(root) {\n",
       "  function embed_document(root) {\n",
       "    \n",
       "  var docs_json = {\"be15fe3a-b728-4bc0-9462-16152597ab4b\":{\"roots\":{\"references\":[{\"attributes\":{\"below\":[{\"id\":\"4927\",\"type\":\"LinearAxis\"}],\"center\":[{\"id\":\"4931\",\"type\":\"Grid\"},{\"id\":\"4936\",\"type\":\"Grid\"},{\"id\":\"4961\",\"type\":\"Legend\"}],\"left\":[{\"id\":\"4932\",\"type\":\"LinearAxis\"}],\"plot_height\":350,\"plot_width\":450,\"renderers\":[{\"id\":\"4953\",\"type\":\"GlyphRenderer\"},{\"id\":\"4966\",\"type\":\"GlyphRenderer\"},{\"id\":\"6119\",\"type\":\"GlyphRenderer\"}],\"title\":{\"id\":\"6596\",\"type\":\"Title\"},\"toolbar\":{\"id\":\"4943\",\"type\":\"Toolbar\"},\"x_range\":{\"id\":\"4919\",\"type\":\"DataRange1d\"},\"x_scale\":{\"id\":\"4923\",\"type\":\"LinearScale\"},\"y_range\":{\"id\":\"4921\",\"type\":\"DataRange1d\"},\"y_scale\":{\"id\":\"4925\",\"type\":\"LinearScale\"}},\"id\":\"4916\",\"subtype\":\"Figure\",\"type\":\"Plot\"},{\"attributes\":{\"overlay\":{\"id\":\"4960\",\"type\":\"BoxAnnotation\"}},\"id\":\"4939\",\"type\":\"BoxZoomTool\"},{\"attributes\":{},\"id\":\"4973\",\"type\":\"Selection\"},{\"attributes\":{\"source\":{\"id\":\"4963\",\"type\":\"ColumnDataSource\"}},\"id\":\"4967\",\"type\":\"CDSView\"},{\"attributes\":{},\"id\":\"4940\",\"type\":\"SaveTool\"},{\"attributes\":{\"callback\":null,\"data\":{\"x\":{\"__ndarray__\":\"AAAAAAAAAAB/pUCtXykAQH+lQK1fKRBAPvjggw8+GEB/pUCtXykgQN/OkJi3MyRAPvjggw8+KECeITFvZ0gsQH+lQK1fKTBAL7rooosuMkDfzpCYtzM0QI/jOI7jODZAPvjggw8+OEDuDIl5O0M6QJ4hMW9nSDxATjbZZJNNPkB/pUCtXylAQNevFKj1K0FAL7rooosuQkCHxLydITFDQN/OkJi3M0RAN9lkk002RUCP4ziO4zhGQOftDIl5O0dAPvjggw8+SECWArV+pUBJQO4MiXk7Q0pARhdddNFFS0CeITFvZ0hMQPYrBWr9Sk1ATjbZZJNNTkCmQK1fKVBPQH+lQK1fKVBAq6qqqqqqUEDXrxSo9StRQAO1fqVArVFAL7rooosuUkBbv1Kg1q9SQIfEvJ0hMVNAs8kmm2yyU0DfzpCYtzNUQAvU+pUCtVRAN9lkk002VUBj3s6QmLdVQI/jOI7jOFZAu+iiiy66VkDn7QyJeTtXQBPzdobEvFdAPvjggw8+WEBq/UqBWr9YQJYCtX6lQFlAwgcffPDBWUDuDIl5O0NaQBoS83aGxFpARhdddNFFW0ByHMdxHMdbQJ4hMW9nSFxAyiabbLLJXED2KwVq/UpdQCIxb2dIzF1ATjbZZJNNXkB6O0Ni3s5eQKZArV8pUF9A0kUXXXTRX0B/pUCtXylgQBWo9SsFamBAq6qqqqqqYEBBrV8pUOtgQNevFKj1K2FAbbLJJptsYUADtX6lQK1hQJm3MyTm7WFAL7rooosuYkDFvJ0hMW9iQFu/UqDWr2JA8cEHH3zwYkCHxLydITFjQB3HcRzHcWNAs8kmm2yyY0BJzNsZEvNjQN/OkJi3M2RAddFFF110ZEAL1PqVArVkQKHWrxSo9WRAN9lkk002ZUDN2xkS83ZlQGPezpCYt2VA+eCDDz74ZUCP4ziO4zhmQCXm7QyJeWZAu+iiiy66ZkBR61cK1PpmQOftDIl5O2dAffDBBx98Z0AT83aGxLxnQKn1KwVq/WdAPvjggw8+aEDU+pUCtX5oQGr9SoFav2hAAAAAAAAAaUA=\",\"dtype\":\"float64\",\"shape\":[100]},\"y\":{\"__ndarray__\":\"AAAAAAAAJED+//////8fQP7//////x9A////////H0AAAAAAAAAgQAAAAAAAACBAAAAAAAAAIED///////8fQAAAAAAAACBA////////H0AAAAAAAAAgQAEAAAAAACBAAAAAAAAAIEAAAAAAAAAgQP///////x9A////////H0D///////8fQAAAAAAAACBAAAAAAAAAIED///////8fQPP//////x9Akf//////H0Dq//////8fQP7//////x9A/v//////H0D+//////8fQP7//////x9A/P//////H0D8//////8fQAIAAAAAACBA9P//////H0D9//////8fQNX//////x9ATQAAAAAAIED+//////8fQPv//////x9A+///////H0D6//////8fQPr//////x9A8P//////H0Da//////8fQPr//////x9A+///////H0D8//////8fQPv//////x9A+///////H0D7//////8fQPv//////x9A+///////H0D7//////8fQPv//////x9A+///////H0D7//////8fQPr//////x9A+v//////H0D6//////8fQPr//////x9A+v//////H0D6//////8fQPr//////x9A+v//////H0D6//////8fQPn//////x9A+f//////H0D6//////8fQPn//////x9A+f//////H0D6//////8fQPr//////x9A+v//////H0D6//////8fQPr//////x9A+v//////H0D6//////8fQPn//////x9A+f//////H0D5//////8fQPn//////x9A+f//////H0D5//////8fQPn//////x9A+f//////H0D5//////8fQPj//////x9A+P//////H0D4//////8fQPn//////x9A+f//////H0D5//////8fQPn//////x9A+f//////H0D5//////8fQPn//////x9A+P//////H0D5//////8fQPj//////x9A+P//////H0D3//////8fQPf//////x9A9///////H0A=\",\"dtype\":\"float64\",\"shape\":[100]}},\"selected\":{\"id\":\"6348\",\"type\":\"Selection\"},\"selection_policy\":{\"id\":\"6349\",\"type\":\"UnionRenderers\"}},\"id\":\"6116\",\"type\":\"ColumnDataSource\"},{\"attributes\":{},\"id\":\"4941\",\"type\":\"ResetTool\"},{\"attributes\":{\"callback\":null},\"id\":\"4921\",\"type\":\"DataRange1d\"},{\"attributes\":{\"line_alpha\":0.1,\"line_color\":\"#1f77b4\",\"line_width\":2,\"x\":{\"field\":\"x\"},\"y\":{\"field\":\"y\"}},\"id\":\"6118\",\"type\":\"Line\"},{\"attributes\":{},\"id\":\"4974\",\"type\":\"UnionRenderers\"},{\"attributes\":{\"data_source\":{\"id\":\"4950\",\"type\":\"ColumnDataSource\"},\"glyph\":{\"id\":\"4951\",\"type\":\"Line\"},\"hover_glyph\":null,\"muted_glyph\":null,\"nonselection_glyph\":{\"id\":\"4952\",\"type\":\"Line\"},\"selection_glyph\":null,\"view\":{\"id\":\"4954\",\"type\":\"CDSView\"}},\"id\":\"4953\",\"type\":\"GlyphRenderer\"},{\"attributes\":{},\"id\":\"4942\",\"type\":\"HelpTool\"},{\"attributes\":{},\"id\":\"4923\",\"type\":\"LinearScale\"},{\"attributes\":{},\"id\":\"5530\",\"type\":\"UnionRenderers\"},{\"attributes\":{},\"id\":\"4925\",\"type\":\"LinearScale\"},{\"attributes\":{\"data_source\":{\"id\":\"6116\",\"type\":\"ColumnDataSource\"},\"glyph\":{\"id\":\"6117\",\"type\":\"Line\"},\"hover_glyph\":null,\"muted_glyph\":null,\"nonselection_glyph\":{\"id\":\"6118\",\"type\":\"Line\"},\"selection_glyph\":null,\"view\":{\"id\":\"6120\",\"type\":\"CDSView\"}},\"id\":\"6119\",\"type\":\"GlyphRenderer\"},{\"attributes\":{\"axis_label\":\"time (sec)\",\"formatter\":{\"id\":\"4956\",\"type\":\"BasicTickFormatter\"},\"ticker\":{\"id\":\"4928\",\"type\":\"BasicTicker\"}},\"id\":\"4927\",\"type\":\"LinearAxis\"},{\"attributes\":{},\"id\":\"4956\",\"type\":\"BasicTickFormatter\"},{\"attributes\":{\"dimension\":1,\"ticker\":{\"id\":\"4933\",\"type\":\"BasicTicker\"}},\"id\":\"4936\",\"type\":\"Grid\"},{\"attributes\":{\"source\":{\"id\":\"6116\",\"type\":\"ColumnDataSource\"}},\"id\":\"6120\",\"type\":\"CDSView\"},{\"attributes\":{},\"id\":\"4928\",\"type\":\"BasicTicker\"},{\"attributes\":{\"items\":[{\"id\":\"4962\",\"type\":\"LegendItem\"},{\"id\":\"4976\",\"type\":\"LegendItem\"},{\"id\":\"6131\",\"type\":\"LegendItem\"}],\"location\":\"center_right\"},\"id\":\"4961\",\"type\":\"Legend\"},{\"attributes\":{\"text\":\"Compare ATP All\"},\"id\":\"6596\",\"type\":\"Title\"},{\"attributes\":{},\"id\":\"6348\",\"type\":\"Selection\"},{\"attributes\":{\"ticker\":{\"id\":\"4928\",\"type\":\"BasicTicker\"}},\"id\":\"4931\",\"type\":\"Grid\"},{\"attributes\":{\"source\":{\"id\":\"4950\",\"type\":\"ColumnDataSource\"}},\"id\":\"4954\",\"type\":\"CDSView\"},{\"attributes\":{\"label\":{\"value\":\"ATP Synthase, Proton Pump, ATP Use\"},\"renderers\":[{\"id\":\"6119\",\"type\":\"GlyphRenderer\"}]},\"id\":\"6131\",\"type\":\"LegendItem\"},{\"attributes\":{\"line_color\":\"#1f77b3\",\"line_width\":2,\"x\":{\"field\":\"x\"},\"y\":{\"field\":\"y\"}},\"id\":\"4951\",\"type\":\"Line\"},{\"attributes\":{},\"id\":\"6349\",\"type\":\"UnionRenderers\"},{\"attributes\":{\"bottom_units\":\"screen\",\"fill_alpha\":{\"value\":0.5},\"fill_color\":{\"value\":\"lightgrey\"},\"left_units\":\"screen\",\"level\":\"overlay\",\"line_alpha\":{\"value\":1.0},\"line_color\":{\"value\":\"black\"},\"line_dash\":[4,4],\"line_width\":{\"value\":2},\"render_mode\":\"css\",\"right_units\":\"screen\",\"top_units\":\"screen\"},\"id\":\"4960\",\"type\":\"BoxAnnotation\"},{\"attributes\":{},\"id\":\"4958\",\"type\":\"BasicTickFormatter\"},{\"attributes\":{},\"id\":\"4933\",\"type\":\"BasicTicker\"},{\"attributes\":{\"axis_label\":\"concentration (nM)\",\"formatter\":{\"id\":\"4958\",\"type\":\"BasicTickFormatter\"},\"ticker\":{\"id\":\"4933\",\"type\":\"BasicTicker\"}},\"id\":\"4932\",\"type\":\"LinearAxis\"},{\"attributes\":{},\"id\":\"5529\",\"type\":\"Selection\"},{\"attributes\":{\"label\":{\"value\":\"ATP Use\"},\"renderers\":[{\"id\":\"4966\",\"type\":\"GlyphRenderer\"}]},\"id\":\"4976\",\"type\":\"LegendItem\"},{\"attributes\":{\"label\":{\"value\":\"ATP Synthase, ATP Use\"},\"renderers\":[{\"id\":\"4953\",\"type\":\"GlyphRenderer\"}]},\"id\":\"4962\",\"type\":\"LegendItem\"},{\"attributes\":{\"line_alpha\":0.1,\"line_color\":\"#1f77b4\",\"line_width\":2,\"x\":{\"field\":\"x\"},\"y\":{\"field\":\"y\"}},\"id\":\"4952\",\"type\":\"Line\"},{\"attributes\":{\"line_color\":\"#ff7e0e\",\"line_width\":2,\"x\":{\"field\":\"x\"},\"y\":{\"field\":\"y\"}},\"id\":\"4964\",\"type\":\"Line\"},{\"attributes\":{\"active_drag\":\"auto\",\"active_inspect\":\"auto\",\"active_multi\":null,\"active_scroll\":\"auto\",\"active_tap\":\"auto\",\"tools\":[{\"id\":\"4937\",\"type\":\"PanTool\"},{\"id\":\"4938\",\"type\":\"WheelZoomTool\"},{\"id\":\"4939\",\"type\":\"BoxZoomTool\"},{\"id\":\"4940\",\"type\":\"SaveTool\"},{\"id\":\"4941\",\"type\":\"ResetTool\"},{\"id\":\"4942\",\"type\":\"HelpTool\"}]},\"id\":\"4943\",\"type\":\"Toolbar\"},{\"attributes\":{\"callback\":null,\"data\":{\"x\":{\"__ndarray__\":\"AAAAAAAAAAB/pUCtXykAQH+lQK1fKRBAPvjggw8+GEB/pUCtXykgQN/OkJi3MyRAPvjggw8+KECeITFvZ0gsQH+lQK1fKTBAL7rooosuMkDfzpCYtzM0QI/jOI7jODZAPvjggw8+OEDuDIl5O0M6QJ4hMW9nSDxATjbZZJNNPkB/pUCtXylAQNevFKj1K0FAL7rooosuQkCHxLydITFDQN/OkJi3M0RAN9lkk002RUCP4ziO4zhGQOftDIl5O0dAPvjggw8+SECWArV+pUBJQO4MiXk7Q0pARhdddNFFS0CeITFvZ0hMQPYrBWr9Sk1ATjbZZJNNTkCmQK1fKVBPQH+lQK1fKVBAq6qqqqqqUEDXrxSo9StRQAO1fqVArVFAL7rooosuUkBbv1Kg1q9SQIfEvJ0hMVNAs8kmm2yyU0DfzpCYtzNUQAvU+pUCtVRAN9lkk002VUBj3s6QmLdVQI/jOI7jOFZAu+iiiy66VkDn7QyJeTtXQBPzdobEvFdAPvjggw8+WEBq/UqBWr9YQJYCtX6lQFlAwgcffPDBWUDuDIl5O0NaQBoS83aGxFpARhdddNFFW0ByHMdxHMdbQJ4hMW9nSFxAyiabbLLJXED2KwVq/UpdQCIxb2dIzF1ATjbZZJNNXkB6O0Ni3s5eQKZArV8pUF9A0kUXXXTRX0B/pUCtXylgQBWo9SsFamBAq6qqqqqqYEBBrV8pUOtgQNevFKj1K2FAbbLJJptsYUADtX6lQK1hQJm3MyTm7WFAL7rooosuYkDFvJ0hMW9iQFu/UqDWr2JA8cEHH3zwYkCHxLydITFjQB3HcRzHcWNAs8kmm2yyY0BJzNsZEvNjQN/OkJi3M2RAddFFF110ZEAL1PqVArVkQKHWrxSo9WRAN9lkk002ZUDN2xkS83ZlQGPezpCYt2VA+eCDDz74ZUCP4ziO4zhmQCXm7QyJeWZAu+iiiy66ZkBR61cK1PpmQOftDIl5O2dAffDBBx98Z0AT83aGxLxnQKn1KwVq/WdAPvjggw8+aEDU+pUCtX5oQGr9SoFav2hAAAAAAAAAaUA=\",\"dtype\":\"float64\",\"shape\":[100]},\"y\":{\"__ndarray__\":\"AAAAAAAAJEAC7P3H+Sw1vX3QIefj8Qu9byzqQxiuAL2AIcqCMqnlvKUQ34TiJIi8wRXbDMW9f7xoFPAfimNuvMu8usNn5AS8Zz9fyXFIBLwDwgPPe6wDvJ9EqNSFEAO8PMdM2o90ArzYSfHfmdgBvHTMleWjPAG8EE86662gALys0d7wtwQAvJGoBu2D0f67ya1P+JeZ/bsBs5gDrGH8uzm44Q7AKfu7cb0qGtTx+burwnMl6Ln4u+PHvDD8gfe7HM0FPBBK9rtV0k5HJBL1u43Xl1I42vO7xdzgXUyi8rv94SlpYGrxuzXncnR0MvC72th3/xD17btL4wkWOYXru7ztmyxhFem7LPgtQ4ml5rudAsBZsTXkuw0NUnDZxeG7+i7IDQOs3rvcQ+w6U8zZu7xYEGij7NS7nW00lfMM0Lv8BLGEh1rGu3xd8r1PNrm7/8MKykHelrv3zY+c2g5Hu0EBiDmIX0a7izSA1jWwRbvVZ3hz4wBFux+bcBCRUUS7as5orT6iQ7u0AWFK7PJCu/40WeeZQ0K7SGhRhEeUQbuSm0kh9eRAu9vOQb6iNUC7SwR0tqAMP7veamTw+609u3PRVCpXTzy7BzhFZLLwOrubnjWeDZI5uy0FJthoMzi7wWsWEsTUNrtV0gZMH3Y1u+k494V6FzS7fZ/nv9W4MrsRBtj5MFoxu0nZkGcY9y+7caZx2845LbuZc1JPhXwqu8FAM8M7vye76A0UN/IBJbsP2/SqqEQiu25Qqz2+Dh+7vupsJSuUGbsMhS4NmBkUu7g+4OkJPg27V3NjueNIArvTn5oj9k7tuhGkDjAXYoq6MNGqImxOirpS/kYVwTqKunEr4wcWJ4q6k1h/+moTirqyhRvtv/+JutOyt98U7Im68t9T0mnYiboTDfDEvsSJujM6jLcTsYm6U2coqmidibpzlMScvYmJupTBYI8Sdom6tO78gWdiibrVG5l0vE6JuvVINWcRO4m6FXbRWWYnibo1o21MuxOJulbQCT8QAIm6df2lMWXsiLqWKkIkutiIurdX3hYPxYi614R6CWSxiLo=\",\"dtype\":\"float64\",\"shape\":[100]}},\"selected\":{\"id\":\"5529\",\"type\":\"Selection\"},\"selection_policy\":{\"id\":\"5530\",\"type\":\"UnionRenderers\"}},\"id\":\"4963\",\"type\":\"ColumnDataSource\"},{\"attributes\":{\"callback\":null,\"data\":{\"x\":{\"__ndarray__\":\"AAAAAAAAAAB/pUCtXykAQH+lQK1fKRBAPvjggw8+GEB/pUCtXykgQN/OkJi3MyRAPvjggw8+KECeITFvZ0gsQH+lQK1fKTBAL7rooosuMkDfzpCYtzM0QI/jOI7jODZAPvjggw8+OEDuDIl5O0M6QJ4hMW9nSDxATjbZZJNNPkB/pUCtXylAQNevFKj1K0FAL7rooosuQkCHxLydITFDQN/OkJi3M0RAN9lkk002RUCP4ziO4zhGQOftDIl5O0dAPvjggw8+SECWArV+pUBJQO4MiXk7Q0pARhdddNFFS0CeITFvZ0hMQPYrBWr9Sk1ATjbZZJNNTkCmQK1fKVBPQH+lQK1fKVBAq6qqqqqqUEDXrxSo9StRQAO1fqVArVFAL7rooosuUkBbv1Kg1q9SQIfEvJ0hMVNAs8kmm2yyU0DfzpCYtzNUQAvU+pUCtVRAN9lkk002VUBj3s6QmLdVQI/jOI7jOFZAu+iiiy66VkDn7QyJeTtXQBPzdobEvFdAPvjggw8+WEBq/UqBWr9YQJYCtX6lQFlAwgcffPDBWUDuDIl5O0NaQBoS83aGxFpARhdddNFFW0ByHMdxHMdbQJ4hMW9nSFxAyiabbLLJXED2KwVq/UpdQCIxb2dIzF1ATjbZZJNNXkB6O0Ni3s5eQKZArV8pUF9A0kUXXXTRX0B/pUCtXylgQBWo9SsFamBAq6qqqqqqYEBBrV8pUOtgQNevFKj1K2FAbbLJJptsYUADtX6lQK1hQJm3MyTm7WFAL7rooosuYkDFvJ0hMW9iQFu/UqDWr2JA8cEHH3zwYkCHxLydITFjQB3HcRzHcWNAs8kmm2yyY0BJzNsZEvNjQN/OkJi3M2RAddFFF110ZEAL1PqVArVkQKHWrxSo9WRAN9lkk002ZUDN2xkS83ZlQGPezpCYt2VA+eCDDz74ZUCP4ziO4zhmQCXm7QyJeWZAu+iiiy66ZkBR61cK1PpmQOftDIl5O2dAffDBBx98Z0AT83aGxLxnQKn1KwVq/WdAPvjggw8+aEDU+pUCtX5oQGr9SoFav2hAAAAAAAAAaUA=\",\"dtype\":\"float64\",\"shape\":[100]},\"y\":{\"__ndarray__\":\"AAAAAAAAJEAGAAAAAAAgQAMAAAAAACBAAwAAAAAAIEAEAAAAAAAgQAIAAAAAACBAuv//////H0AEAAAAAAAgQAcAAAAAACBACAAAAAAAIEAJAAAAAAAgQPgDAAAAACBA/IIDAAAAIEC7af////8fQBUAAAAAACBACQAAAAAAIEAJAAAAAAAgQAkAAAAAACBAav//////H0AKAAAAAAAgQAsAAAAAACBADAAAAAAAIEAMAAAAAAAgQA8AAAAAACBADwAAAAAAIEADAAAAAAAgQA8AAAAAACBAEwAAAAAAIEAOAAAAAAAgQA4AAAAAACBADgAAAAAAIEAOAAAAAAAgQA4AAAAAACBADgAAAAAAIEAOAAAAAAAgQA8AAAAAACBADwAAAAAAIEAPAAAAAAAgQA0AAAAAACBADwAAAAAAIEATAAAAAAAgQAkAAAAAACBAFwAAAAAAIEAOAAAAAAAgQA4AAAAAACBADgAAAAAAIEAOAAAAAAAgQA8AAAAAACBAEwAAAAAAIEAOAAAAAAAgQA4AAAAAACBADgAAAAAAIEAOAAAAAAAgQA4AAAAAACBADgAAAAAAIEAOAAAAAAAgQA4AAAAAACBADwAAAAAAIEAOAAAAAAAgQA4AAAAAACBADgAAAAAAIEAOAAAAAAAgQA8AAAAAACBADwAAAAAAIEAPAAAAAAAgQBAAAAAAACBAEAAAAAAAIEAOAAAAAAAgQBEAAAAAACBAEAAAAAAAIEAQAAAAAAAgQBAAAAAAACBAEAAAAAAAIEAQAAAAAAAgQBAAAAAAACBAEAAAAAAAIEAQAAAAAAAgQBAAAAAAACBAEAAAAAAAIEAQAAAAAAAgQBAAAAAAACBAEAAAAAAAIEAQAAAAAAAgQBAAAAAAACBAEAAAAAAAIEAQAAAAAAAgQBAAAAAAACBAEAAAAAAAIEAQAAAAAAAgQBAAAAAAACBAEAAAAAAAIEAPAAAAAAAgQA8AAAAAACBADwAAAAAAIEAPAAAAAAAgQA8AAAAAACBADwAAAAAAIEAPAAAAAAAgQA8AAAAAACBADgAAAAAAIEA=\",\"dtype\":\"float64\",\"shape\":[100]}},\"selected\":{\"id\":\"4973\",\"type\":\"Selection\"},\"selection_policy\":{\"id\":\"4974\",\"type\":\"UnionRenderers\"}},\"id\":\"4950\",\"type\":\"ColumnDataSource\"},{\"attributes\":{\"line_alpha\":0.1,\"line_color\":\"#1f77b4\",\"line_width\":2,\"x\":{\"field\":\"x\"},\"y\":{\"field\":\"y\"}},\"id\":\"4965\",\"type\":\"Line\"},{\"attributes\":{\"line_color\":\"#9367bc\",\"line_width\":2,\"x\":{\"field\":\"x\"},\"y\":{\"field\":\"y\"}},\"id\":\"6117\",\"type\":\"Line\"},{\"attributes\":{},\"id\":\"4937\",\"type\":\"PanTool\"},{\"attributes\":{\"data_source\":{\"id\":\"4963\",\"type\":\"ColumnDataSource\"},\"glyph\":{\"id\":\"4964\",\"type\":\"Line\"},\"hover_glyph\":null,\"muted_glyph\":null,\"nonselection_glyph\":{\"id\":\"4965\",\"type\":\"Line\"},\"selection_glyph\":null,\"view\":{\"id\":\"4967\",\"type\":\"CDSView\"}},\"id\":\"4966\",\"type\":\"GlyphRenderer\"},{\"attributes\":{},\"id\":\"4938\",\"type\":\"WheelZoomTool\"},{\"attributes\":{\"callback\":null},\"id\":\"4919\",\"type\":\"DataRange1d\"}],\"root_ids\":[\"4916\"]},\"title\":\"Bokeh Application\",\"version\":\"1.4.0\"}};\n",
       "  var render_items = [{\"docid\":\"be15fe3a-b728-4bc0-9462-16152597ab4b\",\"roots\":{\"4916\":\"9a915dfc-c2ce-4745-ab5c-5e0f88b1773a\"}}];\n",
       "  root.Bokeh.embed.embed_items_notebook(docs_json, render_items);\n",
       "\n",
       "  }\n",
       "  if (root.Bokeh !== undefined) {\n",
       "    embed_document(root);\n",
       "  } else {\n",
       "    var attempts = 0;\n",
       "    var timer = setInterval(function(root) {\n",
       "      if (root.Bokeh !== undefined) {\n",
       "        clearInterval(timer);\n",
       "        embed_document(root);\n",
       "      } else {\n",
       "        attempts++;\n",
       "        if (attempts > 100) {\n",
       "          clearInterval(timer);\n",
       "          console.log(\"Bokeh: ERROR: Unable to run BokehJS code because BokehJS library is missing\");\n",
       "        }\n",
       "      }\n",
       "    }, 10, root)\n",
       "  }\n",
       "})(window);"
      ],
      "application/vnd.bokehjs_exec.v0+json": ""
     },
     "metadata": {
      "application/vnd.bokehjs_exec.v0+json": {
       "id": "4916"
      }
     },
     "output_type": "display_data"
    }
   ],
   "source": [
    "plt_timepoints = timepoints/60/60\n",
    "\n",
    "p3 = bokeh.plotting.figure(width = 450, height = 350, title = 'with ATP Synthase, Proton Pump, ATP Use',\n",
    "                          x_axis_label = 'time (hrs)',\n",
    "                          y_axis_label = 'concentration (nM)')\n",
    "plot_list = [ATP_id3, outside_H_id, inside_H_id, atp_synthase_b_protein_id, proton_pump_b_protein_id]\n",
    "plot_str = ['atp', 'outside_H', 'inside_H', 'bound atp synthase', 'bound proton pump']\n",
    "for i,item in enumerate(plot_list):\n",
    "    p3.line(plt_timepoints, results_everything[item], line_width = 2, legend_label = plot_str[i], color = palette[i])\n",
    "p_compare.line(timepoints, results_everything[ATP_id3], line_width = 2, legend_label = 'ATP Synthase, Proton Pump, ATP Use', color = palette[3])\n",
    "#p3.line(plt_timepoints, results_everything[ATP_id3])\n",
    "p3.legend.click_policy = 'hide'\n",
    "p3.legend.location = 'center_right'\n",
    "#p_compare.title = 'Compare ATP All'\n",
    "t = Title()\n",
    "t.text = 'Compare ATP All'\n",
    "p_compare.title = t\n",
    "p_compare.legend.location = 'center_right'\n",
    "bokeh.io.show(p3)\n",
    "bokeh.io.show(p_compare)"
   ]
  },
  {
   "cell_type": "code",
   "execution_count": null,
   "metadata": {},
   "outputs": [],
   "source": []
  },
  {
   "cell_type": "markdown",
   "metadata": {},
   "source": [
    "## Compare with atpsyn + proton pump, only atpsyn, only atpuse (with txtl machinery)\n",
    "---"
   ]
  },
  {
   "cell_type": "code",
   "execution_count": 54,
   "metadata": {},
   "outputs": [
    {
     "data": {
      "text/html": [
       "\n",
       "\n",
       "\n",
       "\n",
       "\n",
       "\n",
       "  <div class=\"bk-root\" id=\"69f451a2-7f4d-4682-a84d-d08801039950\" data-root-id=\"7245\"></div>\n"
      ]
     },
     "metadata": {},
     "output_type": "display_data"
    },
    {
     "data": {
      "application/javascript": [
       "(function(root) {\n",
       "  function embed_document(root) {\n",
       "    \n",
       "  var docs_json = {\"330489bb-7349-47a0-8924-7a78d69264cb\":{\"roots\":{\"references\":[{\"attributes\":{\"children\":[{\"id\":\"6001\",\"subtype\":\"Figure\",\"type\":\"Plot\"},{\"id\":\"4774\",\"subtype\":\"Figure\",\"type\":\"Plot\"},{\"id\":\"4869\",\"subtype\":\"Figure\",\"type\":\"Plot\"}]},\"id\":\"7245\",\"type\":\"Row\"},{\"attributes\":{},\"id\":\"4866\",\"type\":\"UnionRenderers\"},{\"attributes\":{},\"id\":\"6013\",\"type\":\"BasicTicker\"},{\"attributes\":{\"source\":{\"id\":\"4903\",\"type\":\"ColumnDataSource\"}},\"id\":\"4907\",\"type\":\"CDSView\"},{\"attributes\":{\"text\":\"only ATP Use\"},\"id\":\"4870\",\"type\":\"Title\"},{\"attributes\":{\"ticker\":{\"id\":\"6013\",\"type\":\"BasicTicker\"}},\"id\":\"6016\",\"type\":\"Grid\"},{\"attributes\":{\"line_alpha\":0.1,\"line_color\":\"#1f77b4\",\"line_width\":2,\"x\":{\"field\":\"x\"},\"y\":{\"field\":\"y\"}},\"id\":\"4905\",\"type\":\"Line\"},{\"attributes\":{\"callback\":null},\"id\":\"4872\",\"type\":\"DataRange1d\"},{\"attributes\":{},\"id\":\"6022\",\"type\":\"PanTool\"},{\"attributes\":{\"line_alpha\":0.1,\"line_color\":\"#1f77b4\",\"line_width\":2,\"x\":{\"field\":\"x\"},\"y\":{\"field\":\"y\"}},\"id\":\"6037\",\"type\":\"Line\"},{\"attributes\":{},\"id\":\"6010\",\"type\":\"LinearScale\"},{\"attributes\":{\"callback\":null},\"id\":\"4874\",\"type\":\"DataRange1d\"},{\"attributes\":{},\"id\":\"4876\",\"type\":\"LinearScale\"},{\"attributes\":{},\"id\":\"6023\",\"type\":\"WheelZoomTool\"},{\"attributes\":{},\"id\":\"6113\",\"type\":\"UnionRenderers\"},{\"attributes\":{},\"id\":\"4878\",\"type\":\"LinearScale\"},{\"attributes\":{\"axis_label\":\"time (hrs)\",\"formatter\":{\"id\":\"4909\",\"type\":\"BasicTickFormatter\"},\"ticker\":{\"id\":\"4881\",\"type\":\"BasicTicker\"}},\"id\":\"4880\",\"type\":\"LinearAxis\"},{\"attributes\":{\"dimension\":1,\"ticker\":{\"id\":\"4886\",\"type\":\"BasicTicker\"}},\"id\":\"4889\",\"type\":\"Grid\"},{\"attributes\":{},\"id\":\"5179\",\"type\":\"UnionRenderers\"},{\"attributes\":{},\"id\":\"4881\",\"type\":\"BasicTicker\"},{\"attributes\":{\"ticker\":{\"id\":\"4881\",\"type\":\"BasicTicker\"}},\"id\":\"4884\",\"type\":\"Grid\"},{\"attributes\":{},\"id\":\"5178\",\"type\":\"Selection\"},{\"attributes\":{},\"id\":\"4886\",\"type\":\"BasicTicker\"},{\"attributes\":{\"axis_label\":\"concentration (nM)\",\"formatter\":{\"id\":\"4911\",\"type\":\"BasicTickFormatter\"},\"ticker\":{\"id\":\"4886\",\"type\":\"BasicTicker\"}},\"id\":\"4885\",\"type\":\"LinearAxis\"},{\"attributes\":{\"line_color\":\"#1f77b3\",\"line_width\":2,\"x\":{\"field\":\"x\"},\"y\":{\"field\":\"y\"}},\"id\":\"4904\",\"type\":\"Line\"},{\"attributes\":{\"callback\":null,\"data\":{\"x\":{\"__ndarray__\":\"AAAAAAAAAAAXqhByaWNCPxeqEHJpY1I/I/8YKx6VWz8XqhByaWNiP57UlM5D/GY/I/8YKx6Vaz/VlM5D/BZwPxeqEHJpY3I/W79SoNavdD+e1JTOQ/x2P+Hp1vywSHk/I/8YKx6Vez9mFFtZi+F9P9WUzkP8FoA/dp/v2jI9gT8XqhByaWOCP7q0MQmgiYM/W79SoNavhD/9yXM3DdaFP57UlM5D/IY/QN+1ZXoiiD/h6db8sEiJP4P095Pnboo/I/8YKx6Viz/FCTrCVLuMP2YUW1mL4Y0/Bx988MEHjz/VlM5D/BaQPyUaX48XqpA/dp/v2jI9kT/HJIAmTtCRPxeqEHJpY5I/aS+hvYT2kj+6tDEJoImTPws6wlS7HJQ/W79SoNavlD+sROPr8UKVP/3JczcN1pU/Tk8Egyhplj+e1JTOQ/yWP+9ZJRpfj5c/QN+1ZXoimD+QZEaxlbWYP+Hp1vywSJk/Mm9nSMzbmT+D9PeT526aP9N5iN8CAps/I/8YKx6Vmz90hKl2OSicP8UJOsJUu5w/FY/KDXBOnT9mFFtZi+GdP7eZ66SmdJ4/Bx988MEHnz9ZpAw83ZqfP9WUzkP8FqA/fdeW6YlgoD8lGl+PF6qgP85cJzWl86A/dp/v2jI9oT8f4reAwIahP8ckgCZO0KE/cGdIzNsZoj8XqhByaWOiP8Ds2Bf3rKI/aS+hvYT2oj8RcmljEkCjP7q0MQmgiaM/Yvf5ri3Toz8LOsJUuxykP7J8ivpIZqQ/W79SoNavpD8DAhtGZPmkP6xE4+vxQqU/VIerkX+MpT/9yXM3DdalP6UMPN2aH6Y/Tk8Egyhppj/1kcwotrKmP57UlM5D/KY/RhdddNFFpz/vWSUaX4+nP5ec7b/s2Kc/QN+1ZXoiqD/pIX4LCGyoP5BkRrGVtag/OacOVyP/qD/h6db8sEipP4osn6I+kqk/Mm9nSMzbqT/bsS/uWSWqP4P095Pnbqo/LDfAOXW4qj/TeYjfAgKrP3y8UIWQS6s/I/8YKx6Vqz/MQeHQq96rP3SEqXY5KKw/HcdxHMdxrD8=\",\"dtype\":\"float64\",\"shape\":[100]},\"y\":{\"__ndarray__\":\"AAAAAAAAJEAC7P3H+Sw1vX3QIefj8Qu9byzqQxiuAL2AIcqCMqnlvKUQ34TiJIi8wRXbDMW9f7xoFPAfimNuvMu8usNn5AS8Zz9fyXFIBLwDwgPPe6wDvJ9EqNSFEAO8PMdM2o90ArzYSfHfmdgBvHTMleWjPAG8EE86662gALys0d7wtwQAvJGoBu2D0f67ya1P+JeZ/bsBs5gDrGH8uzm44Q7AKfu7cb0qGtTx+burwnMl6Ln4u+PHvDD8gfe7HM0FPBBK9rtV0k5HJBL1u43Xl1I42vO7xdzgXUyi8rv94SlpYGrxuzXncnR0MvC72th3/xD17btL4wkWOYXru7ztmyxhFem7LPgtQ4ml5rudAsBZsTXkuw0NUnDZxeG7+i7IDQOs3rvcQ+w6U8zZu7xYEGij7NS7nW00lfMM0Lv8BLGEh1rGu3xd8r1PNrm7/8MKykHelrv3zY+c2g5Hu0EBiDmIX0a7izSA1jWwRbvVZ3hz4wBFux+bcBCRUUS7as5orT6iQ7u0AWFK7PJCu/40WeeZQ0K7SGhRhEeUQbuSm0kh9eRAu9vOQb6iNUC7SwR0tqAMP7veamTw+609u3PRVCpXTzy7BzhFZLLwOrubnjWeDZI5uy0FJthoMzi7wWsWEsTUNrtV0gZMH3Y1u+k494V6FzS7fZ/nv9W4MrsRBtj5MFoxu0nZkGcY9y+7caZx2845LbuZc1JPhXwqu8FAM8M7vye76A0UN/IBJbsP2/SqqEQiu25Qqz2+Dh+7vupsJSuUGbsMhS4NmBkUu7g+4OkJPg27V3NjueNIArvTn5oj9k7tuhGkDjAXYoq6MNGqImxOirpS/kYVwTqKunEr4wcWJ4q6k1h/+moTirqyhRvtv/+JutOyt98U7Im68t9T0mnYiboTDfDEvsSJujM6jLcTsYm6U2coqmidibpzlMScvYmJupTBYI8Sdom6tO78gWdiibrVG5l0vE6JuvVINWcRO4m6FXbRWWYnibo1o21MuxOJulbQCT8QAIm6df2lMWXsiLqWKkIkutiIurdX3hYPxYi614R6CWSxiLo=\",\"dtype\":\"float64\",\"shape\":[100]}},\"selected\":{\"id\":\"5181\",\"type\":\"Selection\"},\"selection_policy\":{\"id\":\"5182\",\"type\":\"UnionRenderers\"}},\"id\":\"4903\",\"type\":\"ColumnDataSource\"},{\"attributes\":{},\"id\":\"4909\",\"type\":\"BasicTickFormatter\"},{\"attributes\":{\"callback\":null,\"data\":{\"x\":{\"__ndarray__\":\"AAAAAAAAAAAXqhByaWNCPxeqEHJpY1I/I/8YKx6VWz8XqhByaWNiP57UlM5D/GY/I/8YKx6Vaz/VlM5D/BZwPxeqEHJpY3I/W79SoNavdD+e1JTOQ/x2P+Hp1vywSHk/I/8YKx6Vez9mFFtZi+F9P9WUzkP8FoA/dp/v2jI9gT8XqhByaWOCP7q0MQmgiYM/W79SoNavhD/9yXM3DdaFP57UlM5D/IY/QN+1ZXoiiD/h6db8sEiJP4P095Pnboo/I/8YKx6Viz/FCTrCVLuMP2YUW1mL4Y0/Bx988MEHjz/VlM5D/BaQPyUaX48XqpA/dp/v2jI9kT/HJIAmTtCRPxeqEHJpY5I/aS+hvYT2kj+6tDEJoImTPws6wlS7HJQ/W79SoNavlD+sROPr8UKVP/3JczcN1pU/Tk8Egyhplj+e1JTOQ/yWP+9ZJRpfj5c/QN+1ZXoimD+QZEaxlbWYP+Hp1vywSJk/Mm9nSMzbmT+D9PeT526aP9N5iN8CAps/I/8YKx6Vmz90hKl2OSicP8UJOsJUu5w/FY/KDXBOnT9mFFtZi+GdP7eZ66SmdJ4/Bx988MEHnz9ZpAw83ZqfP9WUzkP8FqA/fdeW6YlgoD8lGl+PF6qgP85cJzWl86A/dp/v2jI9oT8f4reAwIahP8ckgCZO0KE/cGdIzNsZoj8XqhByaWOiP8Ds2Bf3rKI/aS+hvYT2oj8RcmljEkCjP7q0MQmgiaM/Yvf5ri3Toz8LOsJUuxykP7J8ivpIZqQ/W79SoNavpD8DAhtGZPmkP6xE4+vxQqU/VIerkX+MpT/9yXM3DdalP6UMPN2aH6Y/Tk8Egyhppj/1kcwotrKmP57UlM5D/KY/RhdddNFFpz/vWSUaX4+nP5ec7b/s2Kc/QN+1ZXoiqD/pIX4LCGyoP5BkRrGVtag/OacOVyP/qD/h6db8sEipP4osn6I+kqk/Mm9nSMzbqT/bsS/uWSWqP4P095Pnbqo/LDfAOXW4qj/TeYjfAgKrP3y8UIWQS6s/I/8YKx6Vqz/MQeHQq96rP3SEqXY5KKw/HcdxHMdxrD8=\",\"dtype\":\"float64\",\"shape\":[100]},\"y\":{\"__ndarray__\":\"AAAAAAAAJED+//////8fQP7//////x9A////////H0AAAAAAAAAgQAAAAAAAACBAAAAAAAAAIED///////8fQAAAAAAAACBA////////H0AAAAAAAAAgQAEAAAAAACBAAAAAAAAAIEAAAAAAAAAgQP///////x9A////////H0D///////8fQAAAAAAAACBAAAAAAAAAIED///////8fQPP//////x9Akf//////H0Dq//////8fQP7//////x9A/v//////H0D+//////8fQP7//////x9A/P//////H0D8//////8fQAIAAAAAACBA9P//////H0D9//////8fQNX//////x9ATQAAAAAAIED+//////8fQPv//////x9A+///////H0D6//////8fQPr//////x9A8P//////H0Da//////8fQPr//////x9A+///////H0D8//////8fQPv//////x9A+///////H0D7//////8fQPv//////x9A+///////H0D7//////8fQPv//////x9A+///////H0D7//////8fQPr//////x9A+v//////H0D6//////8fQPr//////x9A+v//////H0D6//////8fQPr//////x9A+v//////H0D6//////8fQPn//////x9A+f//////H0D6//////8fQPn//////x9A+f//////H0D6//////8fQPr//////x9A+v//////H0D6//////8fQPr//////x9A+v//////H0D6//////8fQPn//////x9A+f//////H0D5//////8fQPn//////x9A+f//////H0D5//////8fQPn//////x9A+f//////H0D5//////8fQPj//////x9A+P//////H0D4//////8fQPn//////x9A+f//////H0D5//////8fQPn//////x9A+f//////H0D5//////8fQPn//////x9A+P//////H0D5//////8fQPj//////x9A+P//////H0D3//////8fQPf//////x9A9///////H0A=\",\"dtype\":\"float64\",\"shape\":[100]}},\"selected\":{\"id\":\"6058\",\"type\":\"Selection\"},\"selection_policy\":{\"id\":\"6059\",\"type\":\"UnionRenderers\"}},\"id\":\"6035\",\"type\":\"ColumnDataSource\"},{\"attributes\":{\"items\":[{\"id\":\"4915\",\"type\":\"LegendItem\"}]},\"id\":\"4914\",\"type\":\"Legend\"},{\"attributes\":{},\"id\":\"4865\",\"type\":\"Selection\"},{\"attributes\":{\"active_drag\":\"auto\",\"active_inspect\":\"auto\",\"active_multi\":null,\"active_scroll\":\"auto\",\"active_tap\":\"auto\",\"tools\":[{\"id\":\"6022\",\"type\":\"PanTool\"},{\"id\":\"6023\",\"type\":\"WheelZoomTool\"},{\"id\":\"6024\",\"type\":\"BoxZoomTool\"},{\"id\":\"6025\",\"type\":\"SaveTool\"},{\"id\":\"6026\",\"type\":\"ResetTool\"},{\"id\":\"6027\",\"type\":\"HelpTool\"}]},\"id\":\"6028\",\"type\":\"Toolbar\"},{\"attributes\":{\"active_drag\":\"auto\",\"active_inspect\":\"auto\",\"active_multi\":null,\"active_scroll\":\"auto\",\"active_tap\":\"auto\",\"tools\":[{\"id\":\"4890\",\"type\":\"PanTool\"},{\"id\":\"4891\",\"type\":\"WheelZoomTool\"},{\"id\":\"4892\",\"type\":\"BoxZoomTool\"},{\"id\":\"4893\",\"type\":\"SaveTool\"},{\"id\":\"4894\",\"type\":\"ResetTool\"},{\"id\":\"4895\",\"type\":\"HelpTool\"}]},\"id\":\"4896\",\"type\":\"Toolbar\"},{\"attributes\":{\"bottom_units\":\"screen\",\"fill_alpha\":{\"value\":0.5},\"fill_color\":{\"value\":\"lightgrey\"},\"left_units\":\"screen\",\"level\":\"overlay\",\"line_alpha\":{\"value\":1.0},\"line_color\":{\"value\":\"black\"},\"line_dash\":[4,4],\"line_width\":{\"value\":2},\"render_mode\":\"css\",\"right_units\":\"screen\",\"top_units\":\"screen\"},\"id\":\"4913\",\"type\":\"BoxAnnotation\"},{\"attributes\":{\"axis_label\":\"time (hrs)\",\"formatter\":{\"id\":\"6041\",\"type\":\"BasicTickFormatter\"},\"ticker\":{\"id\":\"6013\",\"type\":\"BasicTicker\"}},\"id\":\"6012\",\"type\":\"LinearAxis\"},{\"attributes\":{},\"id\":\"6025\",\"type\":\"SaveTool\"},{\"attributes\":{},\"id\":\"4890\",\"type\":\"PanTool\"},{\"attributes\":{\"axis_label\":\"concentration (nM)\",\"formatter\":{\"id\":\"6043\",\"type\":\"BasicTickFormatter\"},\"ticker\":{\"id\":\"6018\",\"type\":\"BasicTicker\"}},\"id\":\"6017\",\"type\":\"LinearAxis\"},{\"attributes\":{},\"id\":\"6018\",\"type\":\"BasicTicker\"},{\"attributes\":{},\"id\":\"4891\",\"type\":\"WheelZoomTool\"},{\"attributes\":{\"dimension\":1,\"ticker\":{\"id\":\"6018\",\"type\":\"BasicTicker\"}},\"id\":\"6021\",\"type\":\"Grid\"},{\"attributes\":{\"overlay\":{\"id\":\"4913\",\"type\":\"BoxAnnotation\"}},\"id\":\"4892\",\"type\":\"BoxZoomTool\"},{\"attributes\":{\"data_source\":{\"id\":\"6035\",\"type\":\"ColumnDataSource\"},\"glyph\":{\"id\":\"6036\",\"type\":\"Line\"},\"hover_glyph\":null,\"muted_glyph\":null,\"nonselection_glyph\":{\"id\":\"6037\",\"type\":\"Line\"},\"selection_glyph\":null,\"view\":{\"id\":\"6039\",\"type\":\"CDSView\"}},\"id\":\"6038\",\"type\":\"GlyphRenderer\"},{\"attributes\":{},\"id\":\"4893\",\"type\":\"SaveTool\"},{\"attributes\":{},\"id\":\"4894\",\"type\":\"ResetTool\"},{\"attributes\":{\"line_color\":\"#1f77b3\",\"line_width\":2,\"x\":{\"field\":\"x\"},\"y\":{\"field\":\"y\"}},\"id\":\"6036\",\"type\":\"Line\"},{\"attributes\":{},\"id\":\"4895\",\"type\":\"HelpTool\"},{\"attributes\":{},\"id\":\"6026\",\"type\":\"ResetTool\"},{\"attributes\":{},\"id\":\"6027\",\"type\":\"HelpTool\"},{\"attributes\":{},\"id\":\"4911\",\"type\":\"BasicTickFormatter\"},{\"attributes\":{\"label\":{\"value\":\"atp\"},\"renderers\":[{\"id\":\"6038\",\"type\":\"GlyphRenderer\"}]},\"id\":\"6047\",\"type\":\"LegendItem\"},{\"attributes\":{\"data_source\":{\"id\":\"4903\",\"type\":\"ColumnDataSource\"},\"glyph\":{\"id\":\"4904\",\"type\":\"Line\"},\"hover_glyph\":null,\"muted_glyph\":null,\"nonselection_glyph\":{\"id\":\"4905\",\"type\":\"Line\"},\"selection_glyph\":null,\"view\":{\"id\":\"4907\",\"type\":\"CDSView\"}},\"id\":\"4906\",\"type\":\"GlyphRenderer\"},{\"attributes\":{\"overlay\":{\"id\":\"6045\",\"type\":\"BoxAnnotation\"}},\"id\":\"6024\",\"type\":\"BoxZoomTool\"},{\"attributes\":{\"label\":{\"value\":\"atp\"},\"renderers\":[{\"id\":\"4906\",\"type\":\"GlyphRenderer\"}]},\"id\":\"4915\",\"type\":\"LegendItem\"},{\"attributes\":{},\"id\":\"5181\",\"type\":\"Selection\"},{\"attributes\":{\"line_color\":\"#2ba02b\",\"line_width\":2,\"x\":{\"field\":\"x\"},\"y\":{\"field\":\"y\"}},\"id\":\"6063\",\"type\":\"Line\"},{\"attributes\":{\"active_drag\":\"auto\",\"active_inspect\":\"auto\",\"active_multi\":null,\"active_scroll\":\"auto\",\"active_tap\":\"auto\",\"tools\":[{\"id\":\"4795\",\"type\":\"PanTool\"},{\"id\":\"4796\",\"type\":\"WheelZoomTool\"},{\"id\":\"4797\",\"type\":\"BoxZoomTool\"},{\"id\":\"4798\",\"type\":\"SaveTool\"},{\"id\":\"4799\",\"type\":\"ResetTool\"},{\"id\":\"4800\",\"type\":\"HelpTool\"}]},\"id\":\"4801\",\"type\":\"Toolbar\"},{\"attributes\":{},\"id\":\"4814\",\"type\":\"BasicTickFormatter\"},{\"attributes\":{\"bottom_units\":\"screen\",\"fill_alpha\":{\"value\":0.5},\"fill_color\":{\"value\":\"lightgrey\"},\"left_units\":\"screen\",\"level\":\"overlay\",\"line_alpha\":{\"value\":1.0},\"line_color\":{\"value\":\"black\"},\"line_dash\":[4,4],\"line_width\":{\"value\":2},\"render_mode\":\"css\",\"right_units\":\"screen\",\"top_units\":\"screen\"},\"id\":\"4818\",\"type\":\"BoxAnnotation\"},{\"attributes\":{\"data_source\":{\"id\":\"6062\",\"type\":\"ColumnDataSource\"},\"glyph\":{\"id\":\"6063\",\"type\":\"Line\"},\"hover_glyph\":null,\"muted_glyph\":null,\"nonselection_glyph\":{\"id\":\"6064\",\"type\":\"Line\"},\"selection_glyph\":null,\"view\":{\"id\":\"6066\",\"type\":\"CDSView\"}},\"id\":\"6065\",\"type\":\"GlyphRenderer\"},{\"attributes\":{\"click_policy\":\"hide\",\"items\":[{\"id\":\"6047\",\"type\":\"LegendItem\"},{\"id\":\"6061\",\"type\":\"LegendItem\"},{\"id\":\"6077\",\"type\":\"LegendItem\"},{\"id\":\"6095\",\"type\":\"LegendItem\"},{\"id\":\"6115\",\"type\":\"LegendItem\"}],\"location\":\"center_right\"},\"id\":\"6046\",\"type\":\"Legend\"},{\"attributes\":{\"click_policy\":\"hide\",\"items\":[{\"id\":\"4820\",\"type\":\"LegendItem\"},{\"id\":\"4834\",\"type\":\"LegendItem\"},{\"id\":\"4850\",\"type\":\"LegendItem\"},{\"id\":\"4868\",\"type\":\"LegendItem\"}],\"location\":\"bottom_right\"},\"id\":\"4819\",\"type\":\"Legend\"},{\"attributes\":{},\"id\":\"5182\",\"type\":\"UnionRenderers\"},{\"attributes\":{\"callback\":null,\"data\":{\"x\":{\"__ndarray__\":\"AAAAAAAAAAAXqhByaWNCPxeqEHJpY1I/I/8YKx6VWz8XqhByaWNiP57UlM5D/GY/I/8YKx6Vaz/VlM5D/BZwPxeqEHJpY3I/W79SoNavdD+e1JTOQ/x2P+Hp1vywSHk/I/8YKx6Vez9mFFtZi+F9P9WUzkP8FoA/dp/v2jI9gT8XqhByaWOCP7q0MQmgiYM/W79SoNavhD/9yXM3DdaFP57UlM5D/IY/QN+1ZXoiiD/h6db8sEiJP4P095Pnboo/I/8YKx6Viz/FCTrCVLuMP2YUW1mL4Y0/Bx988MEHjz/VlM5D/BaQPyUaX48XqpA/dp/v2jI9kT/HJIAmTtCRPxeqEHJpY5I/aS+hvYT2kj+6tDEJoImTPws6wlS7HJQ/W79SoNavlD+sROPr8UKVP/3JczcN1pU/Tk8Egyhplj+e1JTOQ/yWP+9ZJRpfj5c/QN+1ZXoimD+QZEaxlbWYP+Hp1vywSJk/Mm9nSMzbmT+D9PeT526aP9N5iN8CAps/I/8YKx6Vmz90hKl2OSicP8UJOsJUu5w/FY/KDXBOnT9mFFtZi+GdP7eZ66SmdJ4/Bx988MEHnz9ZpAw83ZqfP9WUzkP8FqA/fdeW6YlgoD8lGl+PF6qgP85cJzWl86A/dp/v2jI9oT8f4reAwIahP8ckgCZO0KE/cGdIzNsZoj8XqhByaWOiP8Ds2Bf3rKI/aS+hvYT2oj8RcmljEkCjP7q0MQmgiaM/Yvf5ri3Toz8LOsJUuxykP7J8ivpIZqQ/W79SoNavpD8DAhtGZPmkP6xE4+vxQqU/VIerkX+MpT/9yXM3DdalP6UMPN2aH6Y/Tk8Egyhppj/1kcwotrKmP57UlM5D/KY/RhdddNFFpz/vWSUaX4+nP5ec7b/s2Kc/QN+1ZXoiqD/pIX4LCGyoP5BkRrGVtag/OacOVyP/qD/h6db8sEipP4osn6I+kqk/Mm9nSMzbqT/bsS/uWSWqP4P095Pnbqo/LDfAOXW4qj/TeYjfAgKrP3y8UIWQS6s/I/8YKx6Vqz/MQeHQq96rP3SEqXY5KKw/HcdxHMdxrD8=\",\"dtype\":\"float64\",\"shape\":[100]},\"y\":{\"__ndarray__\":\"AAAAAAAAAADvmzEP3c4JPzzyS4SS9zg/pAX8y+ZVVD9cpvPF/EJnP6zEdvvw7XU//q3gx91Lgj/KQFF83RCMP8pV+yDwPZQ/fHJqHk3cmz8CWUjqbHqiP0lAepFzyqc/Z9XXTxvjrT80NDle2GOyP+5ZDSkNPbY/aDe9l4B9uj+0in4i+yS/P2+WBdNkGcI/TdakMubSxD97+jFIQr7HP3QyYz6Q2so/JuR1VcMmzj8ulqkg2NDQP6qujYQIpdI/PdMr8USP1D+PXyNS1o7WP/Kdah7+otg/Tzue6PfK2j8QI0fE+gXdPy+YE4g6U98/6IDlffTY4D8fKfRkmxDiP5EvM0MqUOM/in0qpTmX5D+yarYAY+XlP/EriIlAOuc/7N2f7m2V6D96kvdhiPbpP+poatouXes/0SYCQwLJ7D+kiimipTnuP7tWdDm+ru8/HcIB1vmT8D+xMo8DeFLxP9u+7e2vEvI/y955JXnU8j/QMwaHrJfzP3CD5D4kXPQ/N/Ixyrsh9T8tPLf2T+j1P+xct+G+r/Y/nOJ79ed39z9vG+jlq0D4Pz7tNKzsCfk/ggsFgo3T+T8497Lbcp36P+oGRmKCZ/s/aaui7KIx/D8Yz7l4vPv8P0xxQSS4xf0/h2WcJICP/j9iDXvA/1j/P0o2q6IREQBAoiSSAmx1AEDnQtAehtkAQA56rJ1XPQFAU4xyhtigAUDdfmpcAQQCQOX4rwzLZgJAN5uJ7C7JAkBHIs21JisDQM/rH4OsjANA8qldzLrtA0BqbIhiTE4EQJhxtWxcrgRAUjpLZOYNBUA5F7ER5mwFQFT6H4lXywVAzFI+JzcpBkAI1RuOgYYGQGX9MqIz4wZAYT5mh0o/B0De/UKew5oHQNtLLYGc9QdAp5/fAdNPCEAiw64mZakIQAlPHShRAglAtKS3bpVaCUBYQ1OQMLIJQLhgOE4hCQpAAl49k2ZfCkAAEGJw/7QKQMAecR3rCQtAgiZL9CheC0DqxLttuLELQN8MWy6ZBAxAYw565cpWDEBD/lpuTagMQF2/brkg+QxA8PeO0URJDUA=\",\"dtype\":\"float64\",\"shape\":[100]}},\"selected\":{\"id\":\"6092\",\"type\":\"Selection\"},\"selection_policy\":{\"id\":\"6093\",\"type\":\"UnionRenderers\"}},\"id\":\"6062\",\"type\":\"ColumnDataSource\"},{\"attributes\":{\"source\":{\"id\":\"6062\",\"type\":\"ColumnDataSource\"}},\"id\":\"6066\",\"type\":\"CDSView\"},{\"attributes\":{},\"id\":\"4816\",\"type\":\"BasicTickFormatter\"},{\"attributes\":{\"below\":[{\"id\":\"6012\",\"type\":\"LinearAxis\"}],\"center\":[{\"id\":\"6016\",\"type\":\"Grid\"},{\"id\":\"6021\",\"type\":\"Grid\"},{\"id\":\"6046\",\"type\":\"Legend\"}],\"left\":[{\"id\":\"6017\",\"type\":\"LinearAxis\"}],\"plot_height\":350,\"plot_width\":450,\"renderers\":[{\"id\":\"6038\",\"type\":\"GlyphRenderer\"},{\"id\":\"6051\",\"type\":\"GlyphRenderer\"},{\"id\":\"6065\",\"type\":\"GlyphRenderer\"},{\"id\":\"6081\",\"type\":\"GlyphRenderer\"},{\"id\":\"6099\",\"type\":\"GlyphRenderer\"}],\"title\":{\"id\":\"6002\",\"type\":\"Title\"},\"toolbar\":{\"id\":\"6028\",\"type\":\"Toolbar\"},\"x_range\":{\"id\":\"6004\",\"type\":\"DataRange1d\"},\"x_scale\":{\"id\":\"6008\",\"type\":\"LinearScale\"},\"y_range\":{\"id\":\"6006\",\"type\":\"DataRange1d\"},\"y_scale\":{\"id\":\"6010\",\"type\":\"LinearScale\"}},\"id\":\"6001\",\"subtype\":\"Figure\",\"type\":\"Plot\"},{\"attributes\":{\"line_alpha\":0.1,\"line_color\":\"#1f77b4\",\"line_width\":2,\"x\":{\"field\":\"x\"},\"y\":{\"field\":\"y\"}},\"id\":\"6050\",\"type\":\"Line\"},{\"attributes\":{},\"id\":\"6058\",\"type\":\"Selection\"},{\"attributes\":{\"below\":[{\"id\":\"4785\",\"type\":\"LinearAxis\"}],\"center\":[{\"id\":\"4789\",\"type\":\"Grid\"},{\"id\":\"4794\",\"type\":\"Grid\"},{\"id\":\"4819\",\"type\":\"Legend\"}],\"left\":[{\"id\":\"4790\",\"type\":\"LinearAxis\"}],\"plot_height\":350,\"plot_width\":450,\"renderers\":[{\"id\":\"4811\",\"type\":\"GlyphRenderer\"},{\"id\":\"4824\",\"type\":\"GlyphRenderer\"},{\"id\":\"4838\",\"type\":\"GlyphRenderer\"},{\"id\":\"4854\",\"type\":\"GlyphRenderer\"}],\"title\":{\"id\":\"4775\",\"type\":\"Title\"},\"toolbar\":{\"id\":\"4801\",\"type\":\"Toolbar\"},\"x_range\":{\"id\":\"4777\",\"type\":\"DataRange1d\"},\"x_scale\":{\"id\":\"4781\",\"type\":\"LinearScale\"},\"y_range\":{\"id\":\"4779\",\"type\":\"DataRange1d\"},\"y_scale\":{\"id\":\"4783\",\"type\":\"LinearScale\"}},\"id\":\"4774\",\"subtype\":\"Figure\",\"type\":\"Plot\"},{\"attributes\":{\"callback\":null,\"data\":{\"x\":{\"__ndarray__\":\"AAAAAAAAAAAXqhByaWNCPxeqEHJpY1I/I/8YKx6VWz8XqhByaWNiP57UlM5D/GY/I/8YKx6Vaz/VlM5D/BZwPxeqEHJpY3I/W79SoNavdD+e1JTOQ/x2P+Hp1vywSHk/I/8YKx6Vez9mFFtZi+F9P9WUzkP8FoA/dp/v2jI9gT8XqhByaWOCP7q0MQmgiYM/W79SoNavhD/9yXM3DdaFP57UlM5D/IY/QN+1ZXoiiD/h6db8sEiJP4P095Pnboo/I/8YKx6Viz/FCTrCVLuMP2YUW1mL4Y0/Bx988MEHjz/VlM5D/BaQPyUaX48XqpA/dp/v2jI9kT/HJIAmTtCRPxeqEHJpY5I/aS+hvYT2kj+6tDEJoImTPws6wlS7HJQ/W79SoNavlD+sROPr8UKVP/3JczcN1pU/Tk8Egyhplj+e1JTOQ/yWP+9ZJRpfj5c/QN+1ZXoimD+QZEaxlbWYP+Hp1vywSJk/Mm9nSMzbmT+D9PeT526aP9N5iN8CAps/I/8YKx6Vmz90hKl2OSicP8UJOsJUu5w/FY/KDXBOnT9mFFtZi+GdP7eZ66SmdJ4/Bx988MEHnz9ZpAw83ZqfP9WUzkP8FqA/fdeW6YlgoD8lGl+PF6qgP85cJzWl86A/dp/v2jI9oT8f4reAwIahP8ckgCZO0KE/cGdIzNsZoj8XqhByaWOiP8Ds2Bf3rKI/aS+hvYT2oj8RcmljEkCjP7q0MQmgiaM/Yvf5ri3Toz8LOsJUuxykP7J8ivpIZqQ/W79SoNavpD8DAhtGZPmkP6xE4+vxQqU/VIerkX+MpT/9yXM3DdalP6UMPN2aH6Y/Tk8Egyhppj/1kcwotrKmP57UlM5D/KY/RhdddNFFpz/vWSUaX4+nP5ec7b/s2Kc/QN+1ZXoiqD/pIX4LCGyoP5BkRrGVtag/OacOVyP/qD/h6db8sEipP4osn6I+kqk/Mm9nSMzbqT/bsS/uWSWqP4P095Pnbqo/LDfAOXW4qj/TeYjfAgKrP3y8UIWQS6s/I/8YKx6Vqz/MQeHQq96rP3SEqXY5KKw/HcdxHMdxrD8=\",\"dtype\":\"float64\",\"shape\":[100]},\"y\":{\"__ndarray__\":\"AAAAAAAAAAAhAaBz8rjUPkgEEU25AgQ/BFuYtTVKID/gDnCkjqEyP5KfVTizkEE/RnmpozRRTT9jphZbln5WP9qHX4uDO2A/efR/ZIdbZj9oHPL4ma5tP8XP8wyPIHM/u5ur4XoOeD9hPAyr6qR9P6hO4iRj84E/KEQaYxFrhT9uYWclLzqJPx4AchscYY0/rUJ1mvnvkD9/CFT2SVuTP6zDXjVV8pU/hewXV9u0mD/l2EdqiaKbP7Rijk38up4/xzwRkOH+oD8fZmmwMLWiPx/+eGcogKQ/Eq+iiYFfpj9s0+GZ8VKoP3onRmsrWqo/0XCJst90rD9ub/aCvaKuPzVtrl65cbA/Y/svOFabsT/DRHqWC86yP8B3PaivCbQ/JsikoRhOtT/8Uq7YHJu2P6wxBN2S8Lc/D8Q2jFFOuT+sQI4jMLS6PzjB4E4GIrw/u+k4NayXvT/+4EeD+hS/PzVT/DnlTMA/9OjQ6/oSwT+Znb6Mq9zBP8kXJqLkqcI/+jivApR6wz8g42nXp07EP55En5wOJsU/NXApIrcAxj+9hHGLkN7GP2/KM0+Kv8c/l7QMN5SjyD9t5slenorJP7fcjDOZdMo/RXbKcnVhyz+JiCwpJFHMP8H1V7GWQ80/H0aesr44zj8UX5wfjjDPPy/sZpp7FdA/0C2LO/aT0D9YUSFZsBPRP48CxXujlNE/p8oTTskW0j/9inqbG5rSP5bJWlCUHtM/TPVseC2k0z+VQFY+4SrUPxoP9uqpstQ/gVqd5IE71T8j51euY8XVP9zsIudJUNY/Y4RPSS/c1j+uouGpDmnXP/ZI3Pfi9tc/9rqZO6eF2D+nlieWVhXZP1aErkDspdk/KBXVi2M32j9LPTTft8naP6OHw7jkXNs/Zr1MrOXw2z80yeFitoXcPxRkWppSG90/noHUJLax3T8egDjo3EjeP9+7vt3C4N4/Sqx+EWR53z90+P1QXgngP33R3F9kVuA/N4RnVsKj4D8B+UBedvHgP1X/cql+P+E/oZcdctmN4T+dT7/6hNzhPwgGgY1/K+I/acIvfMd64j8=\",\"dtype\":\"float64\",\"shape\":[100]}},\"selected\":{\"id\":\"6112\",\"type\":\"Selection\"},\"selection_policy\":{\"id\":\"6113\",\"type\":\"UnionRenderers\"}},\"id\":\"6078\",\"type\":\"ColumnDataSource\"},{\"attributes\":{\"label\":{\"value\":\"atp\"},\"renderers\":[{\"id\":\"4811\",\"type\":\"GlyphRenderer\"}]},\"id\":\"4820\",\"type\":\"LegendItem\"},{\"attributes\":{\"below\":[{\"id\":\"4880\",\"type\":\"LinearAxis\"}],\"center\":[{\"id\":\"4884\",\"type\":\"Grid\"},{\"id\":\"4889\",\"type\":\"Grid\"},{\"id\":\"4914\",\"type\":\"Legend\"}],\"left\":[{\"id\":\"4885\",\"type\":\"LinearAxis\"}],\"plot_height\":350,\"plot_width\":450,\"renderers\":[{\"id\":\"4906\",\"type\":\"GlyphRenderer\"}],\"title\":{\"id\":\"4870\",\"type\":\"Title\"},\"toolbar\":{\"id\":\"4896\",\"type\":\"Toolbar\"},\"x_range\":{\"id\":\"4872\",\"type\":\"DataRange1d\"},\"x_scale\":{\"id\":\"4876\",\"type\":\"LinearScale\"},\"y_range\":{\"id\":\"4874\",\"type\":\"DataRange1d\"},\"y_scale\":{\"id\":\"4878\",\"type\":\"LinearScale\"}},\"id\":\"4869\",\"subtype\":\"Figure\",\"type\":\"Plot\"},{\"attributes\":{\"callback\":null,\"data\":{\"x\":{\"__ndarray__\":\"AAAAAAAAAAAXqhByaWNCPxeqEHJpY1I/I/8YKx6VWz8XqhByaWNiP57UlM5D/GY/I/8YKx6Vaz/VlM5D/BZwPxeqEHJpY3I/W79SoNavdD+e1JTOQ/x2P+Hp1vywSHk/I/8YKx6Vez9mFFtZi+F9P9WUzkP8FoA/dp/v2jI9gT8XqhByaWOCP7q0MQmgiYM/W79SoNavhD/9yXM3DdaFP57UlM5D/IY/QN+1ZXoiiD/h6db8sEiJP4P095Pnboo/I/8YKx6Viz/FCTrCVLuMP2YUW1mL4Y0/Bx988MEHjz/VlM5D/BaQPyUaX48XqpA/dp/v2jI9kT/HJIAmTtCRPxeqEHJpY5I/aS+hvYT2kj+6tDEJoImTPws6wlS7HJQ/W79SoNavlD+sROPr8UKVP/3JczcN1pU/Tk8Egyhplj+e1JTOQ/yWP+9ZJRpfj5c/QN+1ZXoimD+QZEaxlbWYP+Hp1vywSJk/Mm9nSMzbmT+D9PeT526aP9N5iN8CAps/I/8YKx6Vmz90hKl2OSicP8UJOsJUu5w/FY/KDXBOnT9mFFtZi+GdP7eZ66SmdJ4/Bx988MEHnz9ZpAw83ZqfP9WUzkP8FqA/fdeW6YlgoD8lGl+PF6qgP85cJzWl86A/dp/v2jI9oT8f4reAwIahP8ckgCZO0KE/cGdIzNsZoj8XqhByaWOiP8Ds2Bf3rKI/aS+hvYT2oj8RcmljEkCjP7q0MQmgiaM/Yvf5ri3Toz8LOsJUuxykP7J8ivpIZqQ/W79SoNavpD8DAhtGZPmkP6xE4+vxQqU/VIerkX+MpT/9yXM3DdalP6UMPN2aH6Y/Tk8Egyhppj/1kcwotrKmP57UlM5D/KY/RhdddNFFpz/vWSUaX4+nP5ec7b/s2Kc/QN+1ZXoiqD/pIX4LCGyoP5BkRrGVtag/OacOVyP/qD/h6db8sEipP4osn6I+kqk/Mm9nSMzbqT/bsS/uWSWqP4P095Pnbqo/LDfAOXW4qj/TeYjfAgKrP3y8UIWQS6s/I/8YKx6Vqz/MQeHQq96rP3SEqXY5KKw/HcdxHMdxrD8=\",\"dtype\":\"float64\",\"shape\":[100]},\"y\":{\"__ndarray__\":\"AAAAAAAAJECiqPLl4vojQFS36+69sCNAe7Q3ClaFIkDguZGNT5YfQD5wVADA1RZACWrcwJ7TCUDgicTWRtn0P1euz2cTt9U/kkk/5GQrqj8U6I2ibEFwP5lJuUSgcyI/mOCh8pHxwD72dYTXKzxGPlVsboaf9OC9UPgKnBpX0L0xK/2HXli7vcjRhG4fWcg9vvF23q64Rz4OJ2+phfuzvSh9szsbrFO91DziG5hmdr3U2hDDGzV+PdiFeA2JjCg9JEPh9vW+Uz2cxbNZKJmIvfHVpK4Pnde9cASdPwS2Lr4ouLkpdNDZPfhvcCqAP5g97k3Gm2Z6rj2i2Y95LpCTPWIEPNX+cLM9KJbuYyZmlD0ICPw01XSqvUhKHwb25Q2+lO3j3TusJL6+PYZo3zmRPW9hmTcLqro9+GvhM2xelT2O/bU/MQC6vTBIopPkmfY92As5pOlpMD4DiybG4Q2nvRxKwvgZmWW9EnEhDc4AaT08tBjtCCOIvejI8aQ1AJM9MorMzAf0z72ELFzoHi+YPZ8elNAvLLS9jyPmrxkAzb0O5a9r4LXBPcWL6jY5/be9bYv42bCKxr28UjpCrKzTPaC6Km1xN+C9gMcYSJeKET7KByCuAsgzvmY74a+1DgG+b9S2L5rLhL020geNJLX0PCAR6k7HCIs85Dxk1PU1lDyg7iKny0+fPNB3CZeKwr88mNXDnvvb+TxrRpKQWwE5PRyAbaB56SO9Mfg5Y0oqDz1sTPiioFgBPSDfBgzX2Rg9OD1R4T36Fr3zzKf9+708PTlQGxEwdDW9UJ8TIumqGz2w/AEqJSYEPbzVKDkUEDk9yJQXBcj/LT3I8Aa/qMtGvQ4i1t5iE2A9EPyHdnw8eL0gqrvBrbuJPUjqASv9Y4a96EXZTMJslL3Emnchk6vGPVCOFVTa4em98BxxD3OPCD5S7n/6/Toivkx71/AaMTe+CH8G4uawQr3sTmNpSLMnvXUs2kae/VG9zz1s7T0vID10K2n7299HPVphApj4PDI95OxwzhK3WT2Ykjj83Po+vcBM2DSzODM9TGGRCndWhr0=\",\"dtype\":\"float64\",\"shape\":[100]}},\"selected\":{\"id\":\"4847\",\"type\":\"Selection\"},\"selection_policy\":{\"id\":\"4848\",\"type\":\"UnionRenderers\"}},\"id\":\"4821\",\"type\":\"ColumnDataSource\"},{\"attributes\":{\"line_alpha\":0.1,\"line_color\":\"#1f77b4\",\"line_width\":2,\"x\":{\"field\":\"x\"},\"y\":{\"field\":\"y\"}},\"id\":\"4810\",\"type\":\"Line\"},{\"attributes\":{},\"id\":\"6074\",\"type\":\"Selection\"},{\"attributes\":{},\"id\":\"7074\",\"type\":\"Selection\"},{\"attributes\":{\"text\":\"with ATP Synthase, Proton Pump, ATP Use\"},\"id\":\"6002\",\"type\":\"Title\"},{\"attributes\":{\"data_source\":{\"id\":\"6048\",\"type\":\"ColumnDataSource\"},\"glyph\":{\"id\":\"6049\",\"type\":\"Line\"},\"hover_glyph\":null,\"muted_glyph\":null,\"nonselection_glyph\":{\"id\":\"6050\",\"type\":\"Line\"},\"selection_glyph\":null,\"view\":{\"id\":\"6052\",\"type\":\"CDSView\"}},\"id\":\"6051\",\"type\":\"GlyphRenderer\"},{\"attributes\":{\"callback\":null,\"data\":{\"x\":{\"__ndarray__\":\"AAAAAAAAAAAXqhByaWNCPxeqEHJpY1I/I/8YKx6VWz8XqhByaWNiP57UlM5D/GY/I/8YKx6Vaz/VlM5D/BZwPxeqEHJpY3I/W79SoNavdD+e1JTOQ/x2P+Hp1vywSHk/I/8YKx6Vez9mFFtZi+F9P9WUzkP8FoA/dp/v2jI9gT8XqhByaWOCP7q0MQmgiYM/W79SoNavhD/9yXM3DdaFP57UlM5D/IY/QN+1ZXoiiD/h6db8sEiJP4P095Pnboo/I/8YKx6Viz/FCTrCVLuMP2YUW1mL4Y0/Bx988MEHjz/VlM5D/BaQPyUaX48XqpA/dp/v2jI9kT/HJIAmTtCRPxeqEHJpY5I/aS+hvYT2kj+6tDEJoImTPws6wlS7HJQ/W79SoNavlD+sROPr8UKVP/3JczcN1pU/Tk8Egyhplj+e1JTOQ/yWP+9ZJRpfj5c/QN+1ZXoimD+QZEaxlbWYP+Hp1vywSJk/Mm9nSMzbmT+D9PeT526aP9N5iN8CAps/I/8YKx6Vmz90hKl2OSicP8UJOsJUu5w/FY/KDXBOnT9mFFtZi+GdP7eZ66SmdJ4/Bx988MEHnz9ZpAw83ZqfP9WUzkP8FqA/fdeW6YlgoD8lGl+PF6qgP85cJzWl86A/dp/v2jI9oT8f4reAwIahP8ckgCZO0KE/cGdIzNsZoj8XqhByaWOiP8Ds2Bf3rKI/aS+hvYT2oj8RcmljEkCjP7q0MQmgiaM/Yvf5ri3Toz8LOsJUuxykP7J8ivpIZqQ/W79SoNavpD8DAhtGZPmkP6xE4+vxQqU/VIerkX+MpT/9yXM3DdalP6UMPN2aH6Y/Tk8Egyhppj/1kcwotrKmP57UlM5D/KY/RhdddNFFpz/vWSUaX4+nP5ec7b/s2Kc/QN+1ZXoiqD/pIX4LCGyoP5BkRrGVtag/OacOVyP/qD/h6db8sEipP4osn6I+kqk/Mm9nSMzbqT/bsS/uWSWqP4P095Pnbqo/LDfAOXW4qj/TeYjfAgKrP3y8UIWQS6s/I/8YKx6Vqz/MQeHQq96rP3SEqXY5KKw/HcdxHMdxrD8=\",\"dtype\":\"float64\",\"shape\":[100]},\"y\":{\"__ndarray__\":\"AAAAAAAAAAAWVF01aHSEP/goEkWE0MM/zbeEXJ+q5z8ejNzkYNMAQLKPq/8/KhFA68qRnzAWG0C6bicl12QhQIiCwWRHUiNAssAbm9TlI0BErmvS9/0jQEi7X4zt/yNAOLg5vP//I0BSD6f///8jQEoPAQAAACRAuYIAAAAAJECxNgAAAAAkQJ2e/////yNARR2h////I0D4JwAAAAAkQJ4AAAAAACRAzwIAAAAAJEA7/P////8jQOr//////yNAZv//////I0AqBgAAAAAkQO28AAAAACRACLYeAAAAJECBMf////8jQOXz/////yNAi+H/////I0A99v////8jQCPZ/////yNA0PX/////I0B3GgAAAAAkQH95BwAAACRAPqwUAAAAJEBm9/////8jQK7K/////yNAVPX/////I0AENAAAAAAkQMcs/f///yNAMCzf////I0ARFwAAAAAkQFwBAAAAACRAc/7/////I0AOBgAAAAAkQIb2/////yNA1n8AAAAAJEDu8/////8jQF4oAAAAACRABnQAAAAAJEAuuf////8jQAAwAAAAACRAMVoAAAAAJEChYv////8jQH0DAQAAACRAujr3////I0AMkCcAAAAkQLRDBAAAACRAOQUAAAAAJEACAAAAAAAkQAQAAAAAACRABAAAAAAAJEAEAAAAAAAkQAQAAAAAACRAAQAAAAAAJEDS//////8jQBgAAAAAACRA/P//////I0AAAAAAAAAkQPn//////yNAEAAAAAAAJEDK//////8jQC4AAAAAACRA9v//////I0D///////8jQNL//////yNA5f//////I0BfAAAAAAAkQAP//////yNADAMAAAAAJECV+f////8jQJ0FAAAAACRAOwoAAAAAJEBWpf////8jQCKeAQAAACRAJtz5////I0ABOxIAAAAkQDliLgAAACRATgAAAAAAJEAaAAAAAAAkQJIAAAAAACRA8v//////I0Cj//////8jQN7//////yNANP//////I0BAAAAAAAAkQNz//////yNAmAUAAAAAJEA=\",\"dtype\":\"float64\",\"shape\":[100]}},\"selected\":{\"id\":\"4865\",\"type\":\"Selection\"},\"selection_policy\":{\"id\":\"4866\",\"type\":\"UnionRenderers\"}},\"id\":\"4835\",\"type\":\"ColumnDataSource\"},{\"attributes\":{\"line_color\":\"#1f77b3\",\"line_width\":2,\"x\":{\"field\":\"x\"},\"y\":{\"field\":\"y\"}},\"id\":\"4809\",\"type\":\"Line\"},{\"attributes\":{\"line_color\":\"#ff7e0e\",\"line_width\":2,\"x\":{\"field\":\"x\"},\"y\":{\"field\":\"y\"}},\"id\":\"4822\",\"type\":\"Line\"},{\"attributes\":{},\"id\":\"7075\",\"type\":\"UnionRenderers\"},{\"attributes\":{\"callback\":null},\"id\":\"6004\",\"type\":\"DataRange1d\"},{\"attributes\":{\"text\":\"with ATP Synthase\"},\"id\":\"4775\",\"type\":\"Title\"},{\"attributes\":{\"callback\":null},\"id\":\"4777\",\"type\":\"DataRange1d\"},{\"attributes\":{\"line_alpha\":0.1,\"line_color\":\"#1f77b4\",\"line_width\":2,\"x\":{\"field\":\"x\"},\"y\":{\"field\":\"y\"}},\"id\":\"4823\",\"type\":\"Line\"},{\"attributes\":{\"data_source\":{\"id\":\"4821\",\"type\":\"ColumnDataSource\"},\"glyph\":{\"id\":\"4822\",\"type\":\"Line\"},\"hover_glyph\":null,\"muted_glyph\":null,\"nonselection_glyph\":{\"id\":\"4823\",\"type\":\"Line\"},\"selection_glyph\":null,\"view\":{\"id\":\"4825\",\"type\":\"CDSView\"}},\"id\":\"4824\",\"type\":\"GlyphRenderer\"},{\"attributes\":{\"callback\":null},\"id\":\"6006\",\"type\":\"DataRange1d\"},{\"attributes\":{},\"id\":\"4831\",\"type\":\"Selection\"},{\"attributes\":{\"callback\":null},\"id\":\"4779\",\"type\":\"DataRange1d\"},{\"attributes\":{\"source\":{\"id\":\"4821\",\"type\":\"ColumnDataSource\"}},\"id\":\"4825\",\"type\":\"CDSView\"},{\"attributes\":{},\"id\":\"6008\",\"type\":\"LinearScale\"},{\"attributes\":{},\"id\":\"6043\",\"type\":\"BasicTickFormatter\"},{\"attributes\":{\"line_color\":\"#ff7e0e\",\"line_width\":2,\"x\":{\"field\":\"x\"},\"y\":{\"field\":\"y\"}},\"id\":\"6049\",\"type\":\"Line\"},{\"attributes\":{\"label\":{\"value\":\"outside_H\"},\"renderers\":[{\"id\":\"4824\",\"type\":\"GlyphRenderer\"}]},\"id\":\"4834\",\"type\":\"LegendItem\"},{\"attributes\":{},\"id\":\"4781\",\"type\":\"LinearScale\"},{\"attributes\":{},\"id\":\"4832\",\"type\":\"UnionRenderers\"},{\"attributes\":{},\"id\":\"4783\",\"type\":\"LinearScale\"},{\"attributes\":{},\"id\":\"6075\",\"type\":\"UnionRenderers\"},{\"attributes\":{\"axis_label\":\"time (hrs)\",\"formatter\":{\"id\":\"4814\",\"type\":\"BasicTickFormatter\"},\"ticker\":{\"id\":\"4786\",\"type\":\"BasicTicker\"}},\"id\":\"4785\",\"type\":\"LinearAxis\"},{\"attributes\":{\"line_color\":\"#9367bc\",\"line_width\":2,\"x\":{\"field\":\"x\"},\"y\":{\"field\":\"y\"}},\"id\":\"6079\",\"type\":\"Line\"},{\"attributes\":{},\"id\":\"4786\",\"type\":\"BasicTicker\"},{\"attributes\":{\"line_color\":\"#2ba02b\",\"line_width\":2,\"x\":{\"field\":\"x\"},\"y\":{\"field\":\"y\"}},\"id\":\"4836\",\"type\":\"Line\"},{\"attributes\":{},\"id\":\"4796\",\"type\":\"WheelZoomTool\"},{\"attributes\":{\"line_alpha\":0.1,\"line_color\":\"#1f77b4\",\"line_width\":2,\"x\":{\"field\":\"x\"},\"y\":{\"field\":\"y\"}},\"id\":\"6080\",\"type\":\"Line\"},{\"attributes\":{\"ticker\":{\"id\":\"4786\",\"type\":\"BasicTicker\"}},\"id\":\"4789\",\"type\":\"Grid\"},{\"attributes\":{\"data_source\":{\"id\":\"6078\",\"type\":\"ColumnDataSource\"},\"glyph\":{\"id\":\"6079\",\"type\":\"Line\"},\"hover_glyph\":null,\"muted_glyph\":null,\"nonselection_glyph\":{\"id\":\"6080\",\"type\":\"Line\"},\"selection_glyph\":null,\"view\":{\"id\":\"6082\",\"type\":\"CDSView\"}},\"id\":\"6081\",\"type\":\"GlyphRenderer\"},{\"attributes\":{\"dimension\":1,\"ticker\":{\"id\":\"4791\",\"type\":\"BasicTicker\"}},\"id\":\"4794\",\"type\":\"Grid\"},{\"attributes\":{\"line_alpha\":0.1,\"line_color\":\"#1f77b4\",\"line_width\":2,\"x\":{\"field\":\"x\"},\"y\":{\"field\":\"y\"}},\"id\":\"6064\",\"type\":\"Line\"},{\"attributes\":{\"line_alpha\":0.1,\"line_color\":\"#1f77b4\",\"line_width\":2,\"x\":{\"field\":\"x\"},\"y\":{\"field\":\"y\"}},\"id\":\"4837\",\"type\":\"Line\"},{\"attributes\":{\"source\":{\"id\":\"6048\",\"type\":\"ColumnDataSource\"}},\"id\":\"6052\",\"type\":\"CDSView\"},{\"attributes\":{\"callback\":null,\"data\":{\"x\":{\"__ndarray__\":\"AAAAAAAAAAAXqhByaWNCPxeqEHJpY1I/I/8YKx6VWz8XqhByaWNiP57UlM5D/GY/I/8YKx6Vaz/VlM5D/BZwPxeqEHJpY3I/W79SoNavdD+e1JTOQ/x2P+Hp1vywSHk/I/8YKx6Vez9mFFtZi+F9P9WUzkP8FoA/dp/v2jI9gT8XqhByaWOCP7q0MQmgiYM/W79SoNavhD/9yXM3DdaFP57UlM5D/IY/QN+1ZXoiiD/h6db8sEiJP4P095Pnboo/I/8YKx6Viz/FCTrCVLuMP2YUW1mL4Y0/Bx988MEHjz/VlM5D/BaQPyUaX48XqpA/dp/v2jI9kT/HJIAmTtCRPxeqEHJpY5I/aS+hvYT2kj+6tDEJoImTPws6wlS7HJQ/W79SoNavlD+sROPr8UKVP/3JczcN1pU/Tk8Egyhplj+e1JTOQ/yWP+9ZJRpfj5c/QN+1ZXoimD+QZEaxlbWYP+Hp1vywSJk/Mm9nSMzbmT+D9PeT526aP9N5iN8CAps/I/8YKx6Vmz90hKl2OSicP8UJOsJUu5w/FY/KDXBOnT9mFFtZi+GdP7eZ66SmdJ4/Bx988MEHnz9ZpAw83ZqfP9WUzkP8FqA/fdeW6YlgoD8lGl+PF6qgP85cJzWl86A/dp/v2jI9oT8f4reAwIahP8ckgCZO0KE/cGdIzNsZoj8XqhByaWOiP8Ds2Bf3rKI/aS+hvYT2oj8RcmljEkCjP7q0MQmgiaM/Yvf5ri3Toz8LOsJUuxykP7J8ivpIZqQ/W79SoNavpD8DAhtGZPmkP6xE4+vxQqU/VIerkX+MpT/9yXM3DdalP6UMPN2aH6Y/Tk8Egyhppj/1kcwotrKmP57UlM5D/KY/RhdddNFFpz/vWSUaX4+nP5ec7b/s2Kc/QN+1ZXoiqD/pIX4LCGyoP5BkRrGVtag/OacOVyP/qD/h6db8sEipP4osn6I+kqk/Mm9nSMzbqT/bsS/uWSWqP4P095Pnbqo/LDfAOXW4qj/TeYjfAgKrP3y8UIWQS6s/I/8YKx6Vqz/MQeHQq96rP3SEqXY5KKw/HcdxHMdxrD8=\",\"dtype\":\"float64\",\"shape\":[100]},\"y\":{\"__ndarray__\":\"AAAAAAAAAAAlAaBz8rjUPk8EEU25AgQ/CFuYtTVKID/kDnCkjqEyP5SfVTizkEE/SXmpozRRTT9ophZbln5WP92HX4uDO2A/ffR/ZIdbZj9vHPL4ma5tP8rP8wyPIHM/wZur4XoOeD9nPAyr6qR9P6pO4iRj84E/LEQaYxFrhT90YWclLzqJPyQAchscYY0/sUJ1mvnvkD+ECFT2SVuTP7HDXjVV8pU/i+wXV9u0mD/r2EdqiaKbP7pijk38up4/yjwRkOH+oD8jZmmwMLWiPyL+eGcogKQ/Fq+iiYFfpj9x0+GZ8VKoP4AnRmsrWqo/13CJst90rD90b/aCvaKuPzhtrl65cbA/ZvsvOFabsT/GRHqWC86yP8R3PaivCbQ/K8ikoRhOtT8AU67YHJu2P7IxBN2S8Lc/FcQ2jFFOuT+yQI4jMLS6Pz7B4E4GIrw/wek4NayXvT8E4UeD+hS/PzhT/DnlTMA/9+jQ6/oSwT+cnb6Mq9zBP8sXJqLkqcI/+zivApR6wz8h42nXp07EP59En5wOJsU/NnApIrcAxj++hHGLkN7GP3HKM0+Kv8c/l7QMN5SjyD9u5slenorJP7fcjDOZdMo/RXbKcnVhyz+KiCwpJFHMP8H1V7GWQ80/Hkaesr44zj8TX5wfjjDPPy/sZpp7FdA/zy2LO/aT0D9XUSFZsBPRP44CxXujlNE/psoTTskW0j/8inqbG5rSP5XJWlCUHtM/S/VseC2k0z+UQFY+4SrUPxgP9uqpstQ/f1qd5IE71T8h51euY8XVP9rsIudJUNY/YYRPSS/c1j+souGpDmnXP/RI3Pfi9tc/9LqZO6eF2D+klieWVhXZP1OErkDspdk/JBXVi2M32j9HPTTft8naP5+Hw7jkXNs/Yr1MrOXw2z8wyeFitoXcPxBkWppSG90/m4HUJLax3T8agDjo3EjeP9u7vt3C4N4/Rax+EWR53z9y+P1QXgngP3rR3F9kVuA/M4RnVsKj4D/8+EBedvHgP1D/cql+P+E/nJcdctmN4T+ZT7/6hNzhPwMGgY1/K+I/ZMIvfMd64j8=\",\"dtype\":\"float64\",\"shape\":[100]}},\"selected\":{\"id\":\"7074\",\"type\":\"Selection\"},\"selection_policy\":{\"id\":\"7075\",\"type\":\"UnionRenderers\"}},\"id\":\"6096\",\"type\":\"ColumnDataSource\"},{\"attributes\":{},\"id\":\"4791\",\"type\":\"BasicTicker\"},{\"attributes\":{\"data_source\":{\"id\":\"4835\",\"type\":\"ColumnDataSource\"},\"glyph\":{\"id\":\"4836\",\"type\":\"Line\"},\"hover_glyph\":null,\"muted_glyph\":null,\"nonselection_glyph\":{\"id\":\"4837\",\"type\":\"Line\"},\"selection_glyph\":null,\"view\":{\"id\":\"4839\",\"type\":\"CDSView\"}},\"id\":\"4838\",\"type\":\"GlyphRenderer\"},{\"attributes\":{},\"id\":\"6041\",\"type\":\"BasicTickFormatter\"},{\"attributes\":{\"source\":{\"id\":\"6078\",\"type\":\"ColumnDataSource\"}},\"id\":\"6082\",\"type\":\"CDSView\"},{\"attributes\":{\"callback\":null,\"data\":{\"x\":{\"__ndarray__\":\"AAAAAAAAAAAXqhByaWNCPxeqEHJpY1I/I/8YKx6VWz8XqhByaWNiP57UlM5D/GY/I/8YKx6Vaz/VlM5D/BZwPxeqEHJpY3I/W79SoNavdD+e1JTOQ/x2P+Hp1vywSHk/I/8YKx6Vez9mFFtZi+F9P9WUzkP8FoA/dp/v2jI9gT8XqhByaWOCP7q0MQmgiYM/W79SoNavhD/9yXM3DdaFP57UlM5D/IY/QN+1ZXoiiD/h6db8sEiJP4P095Pnboo/I/8YKx6Viz/FCTrCVLuMP2YUW1mL4Y0/Bx988MEHjz/VlM5D/BaQPyUaX48XqpA/dp/v2jI9kT/HJIAmTtCRPxeqEHJpY5I/aS+hvYT2kj+6tDEJoImTPws6wlS7HJQ/W79SoNavlD+sROPr8UKVP/3JczcN1pU/Tk8Egyhplj+e1JTOQ/yWP+9ZJRpfj5c/QN+1ZXoimD+QZEaxlbWYP+Hp1vywSJk/Mm9nSMzbmT+D9PeT526aP9N5iN8CAps/I/8YKx6Vmz90hKl2OSicP8UJOsJUu5w/FY/KDXBOnT9mFFtZi+GdP7eZ66SmdJ4/Bx988MEHnz9ZpAw83ZqfP9WUzkP8FqA/fdeW6YlgoD8lGl+PF6qgP85cJzWl86A/dp/v2jI9oT8f4reAwIahP8ckgCZO0KE/cGdIzNsZoj8XqhByaWOiP8Ds2Bf3rKI/aS+hvYT2oj8RcmljEkCjP7q0MQmgiaM/Yvf5ri3Toz8LOsJUuxykP7J8ivpIZqQ/W79SoNavpD8DAhtGZPmkP6xE4+vxQqU/VIerkX+MpT/9yXM3DdalP6UMPN2aH6Y/Tk8Egyhppj/1kcwotrKmP57UlM5D/KY/RhdddNFFpz/vWSUaX4+nP5ec7b/s2Kc/QN+1ZXoiqD/pIX4LCGyoP5BkRrGVtag/OacOVyP/qD/h6db8sEipP4osn6I+kqk/Mm9nSMzbqT/bsS/uWSWqP4P095Pnbqo/LDfAOXW4qj/TeYjfAgKrP3y8UIWQS6s/I/8YKx6Vqz/MQeHQq96rP3SEqXY5KKw/HcdxHMdxrD8=\",\"dtype\":\"float64\",\"shape\":[100]},\"y\":{\"__ndarray__\":\"AAAAAAAAAADdYYiB9qTUPkkarCLq+AM/Gn+6W+REID+KNFTKBJ0yP8KYEERMjUE/8xpNOoFMTT9gtTg7hHtWPzzZg4OWOWA/AW9Kzi9ZZj/3wSE80qttP3Xji8XwHnM/VVJuQaAMeD9lxGQj0qJ9P0DElEI38oE/ATSJZMVphT+r5haiwjiJPxYHG76OX40/tiEDZiLvkD+kn/wpYlqTPzqHo8lc8ZU/9+IKS9KzmD+ghb/Cb6GbP/VGWRXSuZ4/WQhbNET+oD8CTGQfi7SiP8dIHa56f6Q/hAFYtstepj8d9N27M1KoP3UXNZNlWao/YTal8hF0rD9LyeLt56GuPwbkQbNKcbA/GnOhteOasT/0Wy1Hlc2yP3DkcZY1CbQ/27Do15pNtT/0z9Vhm5q2P5bS0MMN8Lc/xIFo28hNuT+bkA3mo7O6P7zNjo92Ibw/s7/Y/hiXvT9H7JngYxS/P0Qz/zeYTMA/acVVPqwSwT/cOys5W9zBP9RetK2SqcI/23qPckB6wz+giMawUk7EPw4Ol+S3JcU/UCPK3V4Axj8YQLa/Nt7GP5Q3DQEvv8c/tcZgazejyD8i2G4aQIrJP2g3SHs5dMo/Uq9SSxRhyz+C3SuXwVDMP9XObLkyQ80/MpWKWVk4zj9gyvRpJzDPPyx6ZZNHFdA/DzuIisGT0D/ZYyoAexPRP+SPD31tlNE/Ue2eq5IW0j/bZYlX5JnSPxGF6GxcHtM/NHOI9/Sj0z8+0Q0iqCrUP9Z+QjVwstQ/x3lsl0c71T8qcI3LKMXVP8goqnAOUNY/dfgWQfPb1j+s5M0R0mjXP2ifxtGl9tc/FcpRiWmF2D/JPnlZGBXZP1U9YXutpdk/B9KvPyQ32j8R4vgNeMnaP5fVLWSkXNs/Q9YR1qTw2z9Mn7IMdYXcP3zJ48UQG90/3uS+03Ox3T81KykcmkjeP7DEVJh/4N4/O3ItVCB53z+ZN+w0PAngP1y2KQpCVuA/jVJQx5+j4D9YGrmWU/HgPy+IAKpbP+E/z0xuO7aN4T+rtXyNYdzhP2gHWOpbK+I/FGS9o6N64j8=\",\"dtype\":\"float64\",\"shape\":[100]}},\"selected\":{\"id\":\"5178\",\"type\":\"Selection\"},\"selection_policy\":{\"id\":\"5179\",\"type\":\"UnionRenderers\"}},\"id\":\"4851\",\"type\":\"ColumnDataSource\"},{\"attributes\":{\"axis_label\":\"concentration (nM)\",\"formatter\":{\"id\":\"4816\",\"type\":\"BasicTickFormatter\"},\"ticker\":{\"id\":\"4791\",\"type\":\"BasicTicker\"}},\"id\":\"4790\",\"type\":\"LinearAxis\"},{\"attributes\":{},\"id\":\"6092\",\"type\":\"Selection\"},{\"attributes\":{\"label\":{\"value\":\"inside_H\"},\"renderers\":[{\"id\":\"6065\",\"type\":\"GlyphRenderer\"}]},\"id\":\"6077\",\"type\":\"LegendItem\"},{\"attributes\":{\"source\":{\"id\":\"4835\",\"type\":\"ColumnDataSource\"}},\"id\":\"4839\",\"type\":\"CDSView\"},{\"attributes\":{\"label\":{\"value\":\"bound atp synthase\"},\"renderers\":[{\"id\":\"6081\",\"type\":\"GlyphRenderer\"}]},\"id\":\"6095\",\"type\":\"LegendItem\"},{\"attributes\":{},\"id\":\"6059\",\"type\":\"UnionRenderers\"},{\"attributes\":{},\"id\":\"4847\",\"type\":\"Selection\"},{\"attributes\":{},\"id\":\"6093\",\"type\":\"UnionRenderers\"},{\"attributes\":{\"label\":{\"value\":\"outside_H\"},\"renderers\":[{\"id\":\"6051\",\"type\":\"GlyphRenderer\"}]},\"id\":\"6061\",\"type\":\"LegendItem\"},{\"attributes\":{\"label\":{\"value\":\"inside_H\"},\"renderers\":[{\"id\":\"4838\",\"type\":\"GlyphRenderer\"}]},\"id\":\"4850\",\"type\":\"LegendItem\"},{\"attributes\":{},\"id\":\"4848\",\"type\":\"UnionRenderers\"},{\"attributes\":{\"source\":{\"id\":\"4808\",\"type\":\"ColumnDataSource\"}},\"id\":\"4812\",\"type\":\"CDSView\"},{\"attributes\":{\"data_source\":{\"id\":\"4808\",\"type\":\"ColumnDataSource\"},\"glyph\":{\"id\":\"4809\",\"type\":\"Line\"},\"hover_glyph\":null,\"muted_glyph\":null,\"nonselection_glyph\":{\"id\":\"4810\",\"type\":\"Line\"},\"selection_glyph\":null,\"view\":{\"id\":\"4812\",\"type\":\"CDSView\"}},\"id\":\"4811\",\"type\":\"GlyphRenderer\"},{\"attributes\":{\"line_color\":\"#8c564b\",\"line_width\":2,\"x\":{\"field\":\"x\"},\"y\":{\"field\":\"y\"}},\"id\":\"6097\",\"type\":\"Line\"},{\"attributes\":{\"callback\":null,\"data\":{\"x\":{\"__ndarray__\":\"AAAAAAAAAAAXqhByaWNCPxeqEHJpY1I/I/8YKx6VWz8XqhByaWNiP57UlM5D/GY/I/8YKx6Vaz/VlM5D/BZwPxeqEHJpY3I/W79SoNavdD+e1JTOQ/x2P+Hp1vywSHk/I/8YKx6Vez9mFFtZi+F9P9WUzkP8FoA/dp/v2jI9gT8XqhByaWOCP7q0MQmgiYM/W79SoNavhD/9yXM3DdaFP57UlM5D/IY/QN+1ZXoiiD/h6db8sEiJP4P095Pnboo/I/8YKx6Viz/FCTrCVLuMP2YUW1mL4Y0/Bx988MEHjz/VlM5D/BaQPyUaX48XqpA/dp/v2jI9kT/HJIAmTtCRPxeqEHJpY5I/aS+hvYT2kj+6tDEJoImTPws6wlS7HJQ/W79SoNavlD+sROPr8UKVP/3JczcN1pU/Tk8Egyhplj+e1JTOQ/yWP+9ZJRpfj5c/QN+1ZXoimD+QZEaxlbWYP+Hp1vywSJk/Mm9nSMzbmT+D9PeT526aP9N5iN8CAps/I/8YKx6Vmz90hKl2OSicP8UJOsJUu5w/FY/KDXBOnT9mFFtZi+GdP7eZ66SmdJ4/Bx988MEHnz9ZpAw83ZqfP9WUzkP8FqA/fdeW6YlgoD8lGl+PF6qgP85cJzWl86A/dp/v2jI9oT8f4reAwIahP8ckgCZO0KE/cGdIzNsZoj8XqhByaWOiP8Ds2Bf3rKI/aS+hvYT2oj8RcmljEkCjP7q0MQmgiaM/Yvf5ri3Toz8LOsJUuxykP7J8ivpIZqQ/W79SoNavpD8DAhtGZPmkP6xE4+vxQqU/VIerkX+MpT/9yXM3DdalP6UMPN2aH6Y/Tk8Egyhppj/1kcwotrKmP57UlM5D/KY/RhdddNFFpz/vWSUaX4+nP5ec7b/s2Kc/QN+1ZXoiqD/pIX4LCGyoP5BkRrGVtag/OacOVyP/qD/h6db8sEipP4osn6I+kqk/Mm9nSMzbqT/bsS/uWSWqP4P095Pnbqo/LDfAOXW4qj/TeYjfAgKrP3y8UIWQS6s/I/8YKx6Vqz/MQeHQq96rP3SEqXY5KKw/HcdxHMdxrD8=\",\"dtype\":\"float64\",\"shape\":[100]},\"y\":{\"__ndarray__\":\"AAAAAAAAJEAGAAAAAAAgQAMAAAAAACBAAwAAAAAAIEAEAAAAAAAgQAIAAAAAACBAuv//////H0AEAAAAAAAgQAcAAAAAACBACAAAAAAAIEAJAAAAAAAgQPgDAAAAACBA/IIDAAAAIEC7af////8fQBUAAAAAACBACQAAAAAAIEAJAAAAAAAgQAkAAAAAACBAav//////H0AKAAAAAAAgQAsAAAAAACBADAAAAAAAIEAMAAAAAAAgQA8AAAAAACBADwAAAAAAIEADAAAAAAAgQA8AAAAAACBAEwAAAAAAIEAOAAAAAAAgQA4AAAAAACBADgAAAAAAIEAOAAAAAAAgQA4AAAAAACBADgAAAAAAIEAOAAAAAAAgQA8AAAAAACBADwAAAAAAIEAPAAAAAAAgQA0AAAAAACBADwAAAAAAIEATAAAAAAAgQAkAAAAAACBAFwAAAAAAIEAOAAAAAAAgQA4AAAAAACBADgAAAAAAIEAOAAAAAAAgQA8AAAAAACBAEwAAAAAAIEAOAAAAAAAgQA4AAAAAACBADgAAAAAAIEAOAAAAAAAgQA4AAAAAACBADgAAAAAAIEAOAAAAAAAgQA4AAAAAACBADwAAAAAAIEAOAAAAAAAgQA4AAAAAACBADgAAAAAAIEAOAAAAAAAgQA8AAAAAACBADwAAAAAAIEAPAAAAAAAgQBAAAAAAACBAEAAAAAAAIEAOAAAAAAAgQBEAAAAAACBAEAAAAAAAIEAQAAAAAAAgQBAAAAAAACBAEAAAAAAAIEAQAAAAAAAgQBAAAAAAACBAEAAAAAAAIEAQAAAAAAAgQBAAAAAAACBAEAAAAAAAIEAQAAAAAAAgQBAAAAAAACBAEAAAAAAAIEAQAAAAAAAgQBAAAAAAACBAEAAAAAAAIEAQAAAAAAAgQBAAAAAAACBAEAAAAAAAIEAQAAAAAAAgQBAAAAAAACBAEAAAAAAAIEAPAAAAAAAgQA8AAAAAACBADwAAAAAAIEAPAAAAAAAgQA8AAAAAACBADwAAAAAAIEAPAAAAAAAgQA8AAAAAACBADgAAAAAAIEA=\",\"dtype\":\"float64\",\"shape\":[100]}},\"selected\":{\"id\":\"4831\",\"type\":\"Selection\"},\"selection_policy\":{\"id\":\"4832\",\"type\":\"UnionRenderers\"}},\"id\":\"4808\",\"type\":\"ColumnDataSource\"},{\"attributes\":{\"line_color\":\"#9367bc\",\"line_width\":2,\"x\":{\"field\":\"x\"},\"y\":{\"field\":\"y\"}},\"id\":\"4852\",\"type\":\"Line\"},{\"attributes\":{},\"id\":\"4795\",\"type\":\"PanTool\"},{\"attributes\":{\"line_alpha\":0.1,\"line_color\":\"#1f77b4\",\"line_width\":2,\"x\":{\"field\":\"x\"},\"y\":{\"field\":\"y\"}},\"id\":\"6098\",\"type\":\"Line\"},{\"attributes\":{\"data_source\":{\"id\":\"6096\",\"type\":\"ColumnDataSource\"},\"glyph\":{\"id\":\"6097\",\"type\":\"Line\"},\"hover_glyph\":null,\"muted_glyph\":null,\"nonselection_glyph\":{\"id\":\"6098\",\"type\":\"Line\"},\"selection_glyph\":null,\"view\":{\"id\":\"6100\",\"type\":\"CDSView\"}},\"id\":\"6099\",\"type\":\"GlyphRenderer\"},{\"attributes\":{\"line_alpha\":0.1,\"line_color\":\"#1f77b4\",\"line_width\":2,\"x\":{\"field\":\"x\"},\"y\":{\"field\":\"y\"}},\"id\":\"4853\",\"type\":\"Line\"},{\"attributes\":{\"overlay\":{\"id\":\"4818\",\"type\":\"BoxAnnotation\"}},\"id\":\"4797\",\"type\":\"BoxZoomTool\"},{\"attributes\":{\"data_source\":{\"id\":\"4851\",\"type\":\"ColumnDataSource\"},\"glyph\":{\"id\":\"4852\",\"type\":\"Line\"},\"hover_glyph\":null,\"muted_glyph\":null,\"nonselection_glyph\":{\"id\":\"4853\",\"type\":\"Line\"},\"selection_glyph\":null,\"view\":{\"id\":\"4855\",\"type\":\"CDSView\"}},\"id\":\"4854\",\"type\":\"GlyphRenderer\"},{\"attributes\":{},\"id\":\"4798\",\"type\":\"SaveTool\"},{\"attributes\":{\"source\":{\"id\":\"6035\",\"type\":\"ColumnDataSource\"}},\"id\":\"6039\",\"type\":\"CDSView\"},{\"attributes\":{\"source\":{\"id\":\"6096\",\"type\":\"ColumnDataSource\"}},\"id\":\"6100\",\"type\":\"CDSView\"},{\"attributes\":{},\"id\":\"4799\",\"type\":\"ResetTool\"},{\"attributes\":{},\"id\":\"6112\",\"type\":\"Selection\"},{\"attributes\":{\"bottom_units\":\"screen\",\"fill_alpha\":{\"value\":0.5},\"fill_color\":{\"value\":\"lightgrey\"},\"left_units\":\"screen\",\"level\":\"overlay\",\"line_alpha\":{\"value\":1.0},\"line_color\":{\"value\":\"black\"},\"line_dash\":[4,4],\"line_width\":{\"value\":2},\"render_mode\":\"css\",\"right_units\":\"screen\",\"top_units\":\"screen\"},\"id\":\"6045\",\"type\":\"BoxAnnotation\"},{\"attributes\":{\"source\":{\"id\":\"4851\",\"type\":\"ColumnDataSource\"}},\"id\":\"4855\",\"type\":\"CDSView\"},{\"attributes\":{\"callback\":null,\"data\":{\"x\":{\"__ndarray__\":\"AAAAAAAAAAAXqhByaWNCPxeqEHJpY1I/I/8YKx6VWz8XqhByaWNiP57UlM5D/GY/I/8YKx6Vaz/VlM5D/BZwPxeqEHJpY3I/W79SoNavdD+e1JTOQ/x2P+Hp1vywSHk/I/8YKx6Vez9mFFtZi+F9P9WUzkP8FoA/dp/v2jI9gT8XqhByaWOCP7q0MQmgiYM/W79SoNavhD/9yXM3DdaFP57UlM5D/IY/QN+1ZXoiiD/h6db8sEiJP4P095Pnboo/I/8YKx6Viz/FCTrCVLuMP2YUW1mL4Y0/Bx988MEHjz/VlM5D/BaQPyUaX48XqpA/dp/v2jI9kT/HJIAmTtCRPxeqEHJpY5I/aS+hvYT2kj+6tDEJoImTPws6wlS7HJQ/W79SoNavlD+sROPr8UKVP/3JczcN1pU/Tk8Egyhplj+e1JTOQ/yWP+9ZJRpfj5c/QN+1ZXoimD+QZEaxlbWYP+Hp1vywSJk/Mm9nSMzbmT+D9PeT526aP9N5iN8CAps/I/8YKx6Vmz90hKl2OSicP8UJOsJUu5w/FY/KDXBOnT9mFFtZi+GdP7eZ66SmdJ4/Bx988MEHnz9ZpAw83ZqfP9WUzkP8FqA/fdeW6YlgoD8lGl+PF6qgP85cJzWl86A/dp/v2jI9oT8f4reAwIahP8ckgCZO0KE/cGdIzNsZoj8XqhByaWOiP8Ds2Bf3rKI/aS+hvYT2oj8RcmljEkCjP7q0MQmgiaM/Yvf5ri3Toz8LOsJUuxykP7J8ivpIZqQ/W79SoNavpD8DAhtGZPmkP6xE4+vxQqU/VIerkX+MpT/9yXM3DdalP6UMPN2aH6Y/Tk8Egyhppj/1kcwotrKmP57UlM5D/KY/RhdddNFFpz/vWSUaX4+nP5ec7b/s2Kc/QN+1ZXoiqD/pIX4LCGyoP5BkRrGVtag/OacOVyP/qD/h6db8sEipP4osn6I+kqk/Mm9nSMzbqT/bsS/uWSWqP4P095Pnbqo/LDfAOXW4qj/TeYjfAgKrP3y8UIWQS6s/I/8YKx6Vqz/MQeHQq96rP3SEqXY5KKw/HcdxHMdxrD8=\",\"dtype\":\"float64\",\"shape\":[100]},\"y\":{\"__ndarray__\":\"AAAAAAAAJEA1vEiM+f8jQGf32hDO/yNAIKDJUF3/I0DEoDPQi/4jQCWR4EFC/SNA0geOCG37I0Ct66DI+/gjQFKC7wfh9SNAwspw2RHyI0ChtxWThe0jQLmFbow16CNAJSiw5BziI0CTjUNPONsjQEflreWF0yNAjIXQ/gTLI0DmArsJtsEjQKHps2yatyNAomw1Z7SsI0ARON/2BqEjQDBzBr+VlCNAaSiq8mSHI0BIs/o+eXkjQIWS27vXaiNAYqF22IVbI0D+5G5NiUsjQAurDA/oOiNAHw67QKgpI0Dhxt0p0BcjQDljvytmBSNA7KchuHDyIkBpvbBJ9t4iQALNzFv9yiJAIlitZYy2IkBQmfTPqaEiQDx9Z/dbjCJAHAIWIal2IkDUhuB5l2AiQG1ZWRItSiJAjt3P228zIkBRZ92lZRwiQI+6aBwUBSJAtsc/xYDtIUCjGY7/sNUhQB1IQgKqvSFAH8RQ23ClIUB/OR9vCo0hQItvI3h7dCFAssG5hshbIUB0GCkB9kIhQFwUySMIKiFApoNQAQMRIUCM/EKD6vcgQFFieWrC3iBAiV6/T47FIEARoYmkUawgQBw/t7MPkyBAjaprost5IEAXxuhwiGAgQNDRd/tIRyBASXNs+w8uIEBNnvAH4BQgQM5kqi539x9Aou22/knFH0B/3pfwPJMfQOrCKTFUYR9Ax7nGvJMvH0CCwMpR//0eQHwDqHmazB5AUzK7iWibHkDLbhmlbGoeQAgKcL6pOR5A9irRmSIJHkC7ybvO2dgdQCRHpcnRqB1Ax2LazQx5HUBUdCf3jEkdQMYCcDtUGh1AitZgbGTrHEBsFfI4v7wcQD6B5i5mjhxAwOBMvFpgHEABgd4wnjIcQAJaab8xBRxAHDAQfxbYG0BfnqhsTasbQGxY8WvXfhtAlS2kSLVSG0BDXta35yYbQJXP41hv+xpA71BhtkzQGkDw985HgKUaQJBwR3EKexpArmzahetQGkB6HSLJIycaQIB50miz/RlAwPhCjZrUGUDRgNJI2asZQEOgSKNvgxlA+YM4l11bGUA=\",\"dtype\":\"float64\",\"shape\":[100]}},\"selected\":{\"id\":\"6074\",\"type\":\"Selection\"},\"selection_policy\":{\"id\":\"6075\",\"type\":\"UnionRenderers\"}},\"id\":\"6048\",\"type\":\"ColumnDataSource\"},{\"attributes\":{\"label\":{\"value\":\"bound proton pump\"},\"renderers\":[{\"id\":\"6099\",\"type\":\"GlyphRenderer\"}]},\"id\":\"6115\",\"type\":\"LegendItem\"},{\"attributes\":{\"label\":{\"value\":\"bound atp synthase\"},\"renderers\":[{\"id\":\"4854\",\"type\":\"GlyphRenderer\"}]},\"id\":\"4868\",\"type\":\"LegendItem\"},{\"attributes\":{},\"id\":\"4800\",\"type\":\"HelpTool\"}],\"root_ids\":[\"7245\"]},\"title\":\"Bokeh Application\",\"version\":\"1.4.0\"}};\n",
       "  var render_items = [{\"docid\":\"330489bb-7349-47a0-8924-7a78d69264cb\",\"roots\":{\"7245\":\"69f451a2-7f4d-4682-a84d-d08801039950\"}}];\n",
       "  root.Bokeh.embed.embed_items_notebook(docs_json, render_items);\n",
       "\n",
       "  }\n",
       "  if (root.Bokeh !== undefined) {\n",
       "    embed_document(root);\n",
       "  } else {\n",
       "    var attempts = 0;\n",
       "    var timer = setInterval(function(root) {\n",
       "      if (root.Bokeh !== undefined) {\n",
       "        clearInterval(timer);\n",
       "        embed_document(root);\n",
       "      } else {\n",
       "        attempts++;\n",
       "        if (attempts > 100) {\n",
       "          clearInterval(timer);\n",
       "          console.log(\"Bokeh: ERROR: Unable to run BokehJS code because BokehJS library is missing\");\n",
       "        }\n",
       "      }\n",
       "    }, 10, root)\n",
       "  }\n",
       "})(window);"
      ],
      "application/vnd.bokehjs_exec.v0+json": ""
     },
     "metadata": {
      "application/vnd.bokehjs_exec.v0+json": {
       "id": "7245"
      }
     },
     "output_type": "display_data"
    }
   ],
   "source": [
    "bokeh.io.show(row(p3,p_w_atp, p_no_atp))"
   ]
  },
  {
   "cell_type": "markdown",
   "metadata": {},
   "source": [
    "Cool. What's going on with the second plot. How come it looks like atp isn't being consumed?? Fix those params?? Next do temperature sensitivity."
   ]
  },
  {
   "cell_type": "code",
   "execution_count": 55,
   "metadata": {},
   "outputs": [],
   "source": [
    "# p_atp = bokeh.plotting.figure(width = 450, height = 350,\n",
    "#                              title = 'ATP Compare',\n",
    "#                              x_axis_label = 'time (sec)',\n",
    "#                              y_axis_label = 'concentration (nM)')\n",
    "\n",
    "# p_atp.line(plt_timepoints, results_everything[ATP_id3],line_width = 2, color = palette[0],legend_label = 'with ATP Synthase, Proton Pump, ATP Use')\n",
    "# p_atp.line(plt_timepoints, results1[ATP_id], line_width = 2, color = palette[1], legend_label = 'with ATP Synthase, ATP Use')\n",
    "# p_atp.line(plt_timepoints, results2[ATP_id2],line_width = 2, color = palette[2],legend_label = 'ATP Use only')\n",
    "# p_atp.legend.location = 'center_right'\n",
    "# bokeh.io.show(p_atp)"
   ]
  },
  {
   "cell_type": "code",
   "execution_count": 20,
   "metadata": {},
   "outputs": [
    {
     "name": "stdout",
     "output_type": "stream",
     "text": [
      "CPython 3.7.7\n",
      "IPython 7.13.0\n",
      "\n",
      "numpy 1.18.1\n",
      "bokeh 1.4.0\n",
      "jupyterlab 1.2.6\n",
      "scipy 1.4.1\n",
      "biocrnpyler 0.2.1\n",
      "bioscrape 1.0.0\n",
      "colorcet 2.0.2\n",
      "subsbml unknown\n"
     ]
    }
   ],
   "source": [
    "#watermark\n",
    "%reload_ext watermark\n",
    "%watermark -v -p numpy,bokeh,jupyterlab,scipy,biocrnpyler,bioscrape,colorcet,subsbml\n",
    "  "
   ]
  },
  {
   "cell_type": "code",
   "execution_count": null,
   "metadata": {},
   "outputs": [],
   "source": []
  }
 ],
 "metadata": {
  "kernelspec": {
   "display_name": "Python 3",
   "language": "python",
   "name": "python3"
  },
  "language_info": {
   "codemirror_mode": {
    "name": "ipython",
    "version": 3
   },
   "file_extension": ".py",
   "mimetype": "text/x-python",
   "name": "python",
   "nbconvert_exporter": "python",
   "pygments_lexer": "ipython3",
   "version": "3.7.7"
  }
 },
 "nbformat": 4,
 "nbformat_minor": 4
}
