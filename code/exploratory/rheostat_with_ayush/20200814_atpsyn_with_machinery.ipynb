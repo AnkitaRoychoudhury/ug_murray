{
 "cells": [
  {
   "cell_type": "markdown",
   "metadata": {},
   "source": [
    "# Combine Sub-SBML models with TXTL Machinery\n",
    "---"
   ]
  },
  {
   "cell_type": "markdown",
   "metadata": {},
   "source": [
    "Do this so you can incorporate temperature control <br>\n",
    "2020.08.14"
   ]
  },
  {
   "cell_type": "code",
   "execution_count": 1,
   "metadata": {},
   "outputs": [
    {
     "data": {
      "text/html": [
       "\n",
       "    <div class=\"bk-root\">\n",
       "        <a href=\"https://bokeh.org\" target=\"_blank\" class=\"bk-logo bk-logo-small bk-logo-notebook\"></a>\n",
       "        <span id=\"1001\">Loading BokehJS ...</span>\n",
       "    </div>"
      ]
     },
     "metadata": {},
     "output_type": "display_data"
    },
    {
     "data": {
      "application/javascript": [
       "\n",
       "(function(root) {\n",
       "  function now() {\n",
       "    return new Date();\n",
       "  }\n",
       "\n",
       "  var force = true;\n",
       "\n",
       "  if (typeof root._bokeh_onload_callbacks === \"undefined\" || force === true) {\n",
       "    root._bokeh_onload_callbacks = [];\n",
       "    root._bokeh_is_loading = undefined;\n",
       "  }\n",
       "\n",
       "  var JS_MIME_TYPE = 'application/javascript';\n",
       "  var HTML_MIME_TYPE = 'text/html';\n",
       "  var EXEC_MIME_TYPE = 'application/vnd.bokehjs_exec.v0+json';\n",
       "  var CLASS_NAME = 'output_bokeh rendered_html';\n",
       "\n",
       "  /**\n",
       "   * Render data to the DOM node\n",
       "   */\n",
       "  function render(props, node) {\n",
       "    var script = document.createElement(\"script\");\n",
       "    node.appendChild(script);\n",
       "  }\n",
       "\n",
       "  /**\n",
       "   * Handle when an output is cleared or removed\n",
       "   */\n",
       "  function handleClearOutput(event, handle) {\n",
       "    var cell = handle.cell;\n",
       "\n",
       "    var id = cell.output_area._bokeh_element_id;\n",
       "    var server_id = cell.output_area._bokeh_server_id;\n",
       "    // Clean up Bokeh references\n",
       "    if (id != null && id in Bokeh.index) {\n",
       "      Bokeh.index[id].model.document.clear();\n",
       "      delete Bokeh.index[id];\n",
       "    }\n",
       "\n",
       "    if (server_id !== undefined) {\n",
       "      // Clean up Bokeh references\n",
       "      var cmd = \"from bokeh.io.state import curstate; print(curstate().uuid_to_server['\" + server_id + \"'].get_sessions()[0].document.roots[0]._id)\";\n",
       "      cell.notebook.kernel.execute(cmd, {\n",
       "        iopub: {\n",
       "          output: function(msg) {\n",
       "            var id = msg.content.text.trim();\n",
       "            if (id in Bokeh.index) {\n",
       "              Bokeh.index[id].model.document.clear();\n",
       "              delete Bokeh.index[id];\n",
       "            }\n",
       "          }\n",
       "        }\n",
       "      });\n",
       "      // Destroy server and session\n",
       "      var cmd = \"import bokeh.io.notebook as ion; ion.destroy_server('\" + server_id + \"')\";\n",
       "      cell.notebook.kernel.execute(cmd);\n",
       "    }\n",
       "  }\n",
       "\n",
       "  /**\n",
       "   * Handle when a new output is added\n",
       "   */\n",
       "  function handleAddOutput(event, handle) {\n",
       "    var output_area = handle.output_area;\n",
       "    var output = handle.output;\n",
       "\n",
       "    // limit handleAddOutput to display_data with EXEC_MIME_TYPE content only\n",
       "    if ((output.output_type != \"display_data\") || (!output.data.hasOwnProperty(EXEC_MIME_TYPE))) {\n",
       "      return\n",
       "    }\n",
       "\n",
       "    var toinsert = output_area.element.find(\".\" + CLASS_NAME.split(' ')[0]);\n",
       "\n",
       "    if (output.metadata[EXEC_MIME_TYPE][\"id\"] !== undefined) {\n",
       "      toinsert[toinsert.length - 1].firstChild.textContent = output.data[JS_MIME_TYPE];\n",
       "      // store reference to embed id on output_area\n",
       "      output_area._bokeh_element_id = output.metadata[EXEC_MIME_TYPE][\"id\"];\n",
       "    }\n",
       "    if (output.metadata[EXEC_MIME_TYPE][\"server_id\"] !== undefined) {\n",
       "      var bk_div = document.createElement(\"div\");\n",
       "      bk_div.innerHTML = output.data[HTML_MIME_TYPE];\n",
       "      var script_attrs = bk_div.children[0].attributes;\n",
       "      for (var i = 0; i < script_attrs.length; i++) {\n",
       "        toinsert[toinsert.length - 1].firstChild.setAttribute(script_attrs[i].name, script_attrs[i].value);\n",
       "      }\n",
       "      // store reference to server id on output_area\n",
       "      output_area._bokeh_server_id = output.metadata[EXEC_MIME_TYPE][\"server_id\"];\n",
       "    }\n",
       "  }\n",
       "\n",
       "  function register_renderer(events, OutputArea) {\n",
       "\n",
       "    function append_mime(data, metadata, element) {\n",
       "      // create a DOM node to render to\n",
       "      var toinsert = this.create_output_subarea(\n",
       "        metadata,\n",
       "        CLASS_NAME,\n",
       "        EXEC_MIME_TYPE\n",
       "      );\n",
       "      this.keyboard_manager.register_events(toinsert);\n",
       "      // Render to node\n",
       "      var props = {data: data, metadata: metadata[EXEC_MIME_TYPE]};\n",
       "      render(props, toinsert[toinsert.length - 1]);\n",
       "      element.append(toinsert);\n",
       "      return toinsert\n",
       "    }\n",
       "\n",
       "    /* Handle when an output is cleared or removed */\n",
       "    events.on('clear_output.CodeCell', handleClearOutput);\n",
       "    events.on('delete.Cell', handleClearOutput);\n",
       "\n",
       "    /* Handle when a new output is added */\n",
       "    events.on('output_added.OutputArea', handleAddOutput);\n",
       "\n",
       "    /**\n",
       "     * Register the mime type and append_mime function with output_area\n",
       "     */\n",
       "    OutputArea.prototype.register_mime_type(EXEC_MIME_TYPE, append_mime, {\n",
       "      /* Is output safe? */\n",
       "      safe: true,\n",
       "      /* Index of renderer in `output_area.display_order` */\n",
       "      index: 0\n",
       "    });\n",
       "  }\n",
       "\n",
       "  // register the mime type if in Jupyter Notebook environment and previously unregistered\n",
       "  if (root.Jupyter !== undefined) {\n",
       "    var events = require('base/js/events');\n",
       "    var OutputArea = require('notebook/js/outputarea').OutputArea;\n",
       "\n",
       "    if (OutputArea.prototype.mime_types().indexOf(EXEC_MIME_TYPE) == -1) {\n",
       "      register_renderer(events, OutputArea);\n",
       "    }\n",
       "  }\n",
       "\n",
       "  \n",
       "  if (typeof (root._bokeh_timeout) === \"undefined\" || force === true) {\n",
       "    root._bokeh_timeout = Date.now() + 5000;\n",
       "    root._bokeh_failed_load = false;\n",
       "  }\n",
       "\n",
       "  var NB_LOAD_WARNING = {'data': {'text/html':\n",
       "     \"<div style='background-color: #fdd'>\\n\"+\n",
       "     \"<p>\\n\"+\n",
       "     \"BokehJS does not appear to have successfully loaded. If loading BokehJS from CDN, this \\n\"+\n",
       "     \"may be due to a slow or bad network connection. Possible fixes:\\n\"+\n",
       "     \"</p>\\n\"+\n",
       "     \"<ul>\\n\"+\n",
       "     \"<li>re-rerun `output_notebook()` to attempt to load from CDN again, or</li>\\n\"+\n",
       "     \"<li>use INLINE resources instead, as so:</li>\\n\"+\n",
       "     \"</ul>\\n\"+\n",
       "     \"<code>\\n\"+\n",
       "     \"from bokeh.resources import INLINE\\n\"+\n",
       "     \"output_notebook(resources=INLINE)\\n\"+\n",
       "     \"</code>\\n\"+\n",
       "     \"</div>\"}};\n",
       "\n",
       "  function display_loaded() {\n",
       "    var el = document.getElementById(\"1001\");\n",
       "    if (el != null) {\n",
       "      el.textContent = \"BokehJS is loading...\";\n",
       "    }\n",
       "    if (root.Bokeh !== undefined) {\n",
       "      if (el != null) {\n",
       "        el.textContent = \"BokehJS \" + root.Bokeh.version + \" successfully loaded.\";\n",
       "      }\n",
       "    } else if (Date.now() < root._bokeh_timeout) {\n",
       "      setTimeout(display_loaded, 100)\n",
       "    }\n",
       "  }\n",
       "\n",
       "\n",
       "  function run_callbacks() {\n",
       "    try {\n",
       "      root._bokeh_onload_callbacks.forEach(function(callback) {\n",
       "        if (callback != null)\n",
       "          callback();\n",
       "      });\n",
       "    } finally {\n",
       "      delete root._bokeh_onload_callbacks\n",
       "    }\n",
       "    console.debug(\"Bokeh: all callbacks have finished\");\n",
       "  }\n",
       "\n",
       "  function load_libs(css_urls, js_urls, callback) {\n",
       "    if (css_urls == null) css_urls = [];\n",
       "    if (js_urls == null) js_urls = [];\n",
       "\n",
       "    root._bokeh_onload_callbacks.push(callback);\n",
       "    if (root._bokeh_is_loading > 0) {\n",
       "      console.debug(\"Bokeh: BokehJS is being loaded, scheduling callback at\", now());\n",
       "      return null;\n",
       "    }\n",
       "    if (js_urls == null || js_urls.length === 0) {\n",
       "      run_callbacks();\n",
       "      return null;\n",
       "    }\n",
       "    console.debug(\"Bokeh: BokehJS not loaded, scheduling load and callback at\", now());\n",
       "    root._bokeh_is_loading = css_urls.length + js_urls.length;\n",
       "\n",
       "    function on_load() {\n",
       "      root._bokeh_is_loading--;\n",
       "      if (root._bokeh_is_loading === 0) {\n",
       "        console.debug(\"Bokeh: all BokehJS libraries/stylesheets loaded\");\n",
       "        run_callbacks()\n",
       "      }\n",
       "    }\n",
       "\n",
       "    function on_error() {\n",
       "      console.error(\"failed to load \" + url);\n",
       "    }\n",
       "\n",
       "    for (var i = 0; i < css_urls.length; i++) {\n",
       "      var url = css_urls[i];\n",
       "      const element = document.createElement(\"link\");\n",
       "      element.onload = on_load;\n",
       "      element.onerror = on_error;\n",
       "      element.rel = \"stylesheet\";\n",
       "      element.type = \"text/css\";\n",
       "      element.href = url;\n",
       "      console.debug(\"Bokeh: injecting link tag for BokehJS stylesheet: \", url);\n",
       "      document.body.appendChild(element);\n",
       "    }\n",
       "\n",
       "    for (var i = 0; i < js_urls.length; i++) {\n",
       "      var url = js_urls[i];\n",
       "      var element = document.createElement('script');\n",
       "      element.onload = on_load;\n",
       "      element.onerror = on_error;\n",
       "      element.async = false;\n",
       "      element.src = url;\n",
       "      console.debug(\"Bokeh: injecting script tag for BokehJS library: \", url);\n",
       "      document.head.appendChild(element);\n",
       "    }\n",
       "  };var element = document.getElementById(\"1001\");\n",
       "  if (element == null) {\n",
       "    console.error(\"Bokeh: ERROR: autoload.js configured with elementid '1001' but no matching script tag was found. \")\n",
       "    return false;\n",
       "  }\n",
       "\n",
       "  function inject_raw_css(css) {\n",
       "    const element = document.createElement(\"style\");\n",
       "    element.appendChild(document.createTextNode(css));\n",
       "    document.body.appendChild(element);\n",
       "  }\n",
       "\n",
       "  \n",
       "  var js_urls = [\"https://cdn.pydata.org/bokeh/release/bokeh-1.4.0.min.js\", \"https://cdn.pydata.org/bokeh/release/bokeh-widgets-1.4.0.min.js\", \"https://cdn.pydata.org/bokeh/release/bokeh-tables-1.4.0.min.js\", \"https://cdn.pydata.org/bokeh/release/bokeh-gl-1.4.0.min.js\"];\n",
       "  var css_urls = [];\n",
       "  \n",
       "\n",
       "  var inline_js = [\n",
       "    function(Bokeh) {\n",
       "      Bokeh.set_log_level(\"info\");\n",
       "    },\n",
       "    function(Bokeh) {\n",
       "    \n",
       "    \n",
       "    }\n",
       "  ];\n",
       "\n",
       "  function run_inline_js() {\n",
       "    \n",
       "    if (root.Bokeh !== undefined || force === true) {\n",
       "      \n",
       "    for (var i = 0; i < inline_js.length; i++) {\n",
       "      inline_js[i].call(root, root.Bokeh);\n",
       "    }\n",
       "    if (force === true) {\n",
       "        display_loaded();\n",
       "      }} else if (Date.now() < root._bokeh_timeout) {\n",
       "      setTimeout(run_inline_js, 100);\n",
       "    } else if (!root._bokeh_failed_load) {\n",
       "      console.log(\"Bokeh: BokehJS failed to load within specified timeout.\");\n",
       "      root._bokeh_failed_load = true;\n",
       "    } else if (force !== true) {\n",
       "      var cell = $(document.getElementById(\"1001\")).parents('.cell').data().cell;\n",
       "      cell.output_area.append_execute_result(NB_LOAD_WARNING)\n",
       "    }\n",
       "\n",
       "  }\n",
       "\n",
       "  if (root._bokeh_is_loading === 0) {\n",
       "    console.debug(\"Bokeh: BokehJS loaded, going straight to plotting\");\n",
       "    run_inline_js();\n",
       "  } else {\n",
       "    load_libs(css_urls, js_urls, function() {\n",
       "      console.debug(\"Bokeh: BokehJS plotting callback run at\", now());\n",
       "      run_inline_js();\n",
       "    });\n",
       "  }\n",
       "}(window));"
      ],
      "application/vnd.bokehjs_load.v0+json": "\n(function(root) {\n  function now() {\n    return new Date();\n  }\n\n  var force = true;\n\n  if (typeof root._bokeh_onload_callbacks === \"undefined\" || force === true) {\n    root._bokeh_onload_callbacks = [];\n    root._bokeh_is_loading = undefined;\n  }\n\n  \n\n  \n  if (typeof (root._bokeh_timeout) === \"undefined\" || force === true) {\n    root._bokeh_timeout = Date.now() + 5000;\n    root._bokeh_failed_load = false;\n  }\n\n  var NB_LOAD_WARNING = {'data': {'text/html':\n     \"<div style='background-color: #fdd'>\\n\"+\n     \"<p>\\n\"+\n     \"BokehJS does not appear to have successfully loaded. If loading BokehJS from CDN, this \\n\"+\n     \"may be due to a slow or bad network connection. Possible fixes:\\n\"+\n     \"</p>\\n\"+\n     \"<ul>\\n\"+\n     \"<li>re-rerun `output_notebook()` to attempt to load from CDN again, or</li>\\n\"+\n     \"<li>use INLINE resources instead, as so:</li>\\n\"+\n     \"</ul>\\n\"+\n     \"<code>\\n\"+\n     \"from bokeh.resources import INLINE\\n\"+\n     \"output_notebook(resources=INLINE)\\n\"+\n     \"</code>\\n\"+\n     \"</div>\"}};\n\n  function display_loaded() {\n    var el = document.getElementById(\"1001\");\n    if (el != null) {\n      el.textContent = \"BokehJS is loading...\";\n    }\n    if (root.Bokeh !== undefined) {\n      if (el != null) {\n        el.textContent = \"BokehJS \" + root.Bokeh.version + \" successfully loaded.\";\n      }\n    } else if (Date.now() < root._bokeh_timeout) {\n      setTimeout(display_loaded, 100)\n    }\n  }\n\n\n  function run_callbacks() {\n    try {\n      root._bokeh_onload_callbacks.forEach(function(callback) {\n        if (callback != null)\n          callback();\n      });\n    } finally {\n      delete root._bokeh_onload_callbacks\n    }\n    console.debug(\"Bokeh: all callbacks have finished\");\n  }\n\n  function load_libs(css_urls, js_urls, callback) {\n    if (css_urls == null) css_urls = [];\n    if (js_urls == null) js_urls = [];\n\n    root._bokeh_onload_callbacks.push(callback);\n    if (root._bokeh_is_loading > 0) {\n      console.debug(\"Bokeh: BokehJS is being loaded, scheduling callback at\", now());\n      return null;\n    }\n    if (js_urls == null || js_urls.length === 0) {\n      run_callbacks();\n      return null;\n    }\n    console.debug(\"Bokeh: BokehJS not loaded, scheduling load and callback at\", now());\n    root._bokeh_is_loading = css_urls.length + js_urls.length;\n\n    function on_load() {\n      root._bokeh_is_loading--;\n      if (root._bokeh_is_loading === 0) {\n        console.debug(\"Bokeh: all BokehJS libraries/stylesheets loaded\");\n        run_callbacks()\n      }\n    }\n\n    function on_error() {\n      console.error(\"failed to load \" + url);\n    }\n\n    for (var i = 0; i < css_urls.length; i++) {\n      var url = css_urls[i];\n      const element = document.createElement(\"link\");\n      element.onload = on_load;\n      element.onerror = on_error;\n      element.rel = \"stylesheet\";\n      element.type = \"text/css\";\n      element.href = url;\n      console.debug(\"Bokeh: injecting link tag for BokehJS stylesheet: \", url);\n      document.body.appendChild(element);\n    }\n\n    for (var i = 0; i < js_urls.length; i++) {\n      var url = js_urls[i];\n      var element = document.createElement('script');\n      element.onload = on_load;\n      element.onerror = on_error;\n      element.async = false;\n      element.src = url;\n      console.debug(\"Bokeh: injecting script tag for BokehJS library: \", url);\n      document.head.appendChild(element);\n    }\n  };var element = document.getElementById(\"1001\");\n  if (element == null) {\n    console.error(\"Bokeh: ERROR: autoload.js configured with elementid '1001' but no matching script tag was found. \")\n    return false;\n  }\n\n  function inject_raw_css(css) {\n    const element = document.createElement(\"style\");\n    element.appendChild(document.createTextNode(css));\n    document.body.appendChild(element);\n  }\n\n  \n  var js_urls = [\"https://cdn.pydata.org/bokeh/release/bokeh-1.4.0.min.js\", \"https://cdn.pydata.org/bokeh/release/bokeh-widgets-1.4.0.min.js\", \"https://cdn.pydata.org/bokeh/release/bokeh-tables-1.4.0.min.js\", \"https://cdn.pydata.org/bokeh/release/bokeh-gl-1.4.0.min.js\"];\n  var css_urls = [];\n  \n\n  var inline_js = [\n    function(Bokeh) {\n      Bokeh.set_log_level(\"info\");\n    },\n    function(Bokeh) {\n    \n    \n    }\n  ];\n\n  function run_inline_js() {\n    \n    if (root.Bokeh !== undefined || force === true) {\n      \n    for (var i = 0; i < inline_js.length; i++) {\n      inline_js[i].call(root, root.Bokeh);\n    }\n    if (force === true) {\n        display_loaded();\n      }} else if (Date.now() < root._bokeh_timeout) {\n      setTimeout(run_inline_js, 100);\n    } else if (!root._bokeh_failed_load) {\n      console.log(\"Bokeh: BokehJS failed to load within specified timeout.\");\n      root._bokeh_failed_load = true;\n    } else if (force !== true) {\n      var cell = $(document.getElementById(\"1001\")).parents('.cell').data().cell;\n      cell.output_area.append_execute_result(NB_LOAD_WARNING)\n    }\n\n  }\n\n  if (root._bokeh_is_loading === 0) {\n    console.debug(\"Bokeh: BokehJS loaded, going straight to plotting\");\n    run_inline_js();\n  } else {\n    load_libs(css_urls, js_urls, function() {\n      console.debug(\"Bokeh: BokehJS plotting callback run at\", now());\n      run_inline_js();\n    });\n  }\n}(window));"
     },
     "metadata": {},
     "output_type": "display_data"
    }
   ],
   "source": [
    "from biocrnpyler import *\n",
    "#from biocrnpyler.chemical_reaction_network import Species, Reaction, ComplexSpecies, Multimer\n",
    "import numpy as np\n",
    "#import pylab as plt \n",
    "#%matplotlib inline\n",
    "\n",
    "import bokeh.io\n",
    "import bokeh.plotting\n",
    "from bokeh.layouts import row\n",
    "\n",
    "bokeh.io.output_notebook()\n",
    "\n",
    "import colorcet\n",
    "\n",
    "from subsbml import createNewSubsystem, createSubsystem"
   ]
  },
  {
   "cell_type": "code",
   "execution_count": 2,
   "metadata": {},
   "outputs": [],
   "source": [
    "palette = colorcet.b_glasbey_category10\n",
    "palette.remove( '#d62628')"
   ]
  },
  {
   "cell_type": "code",
   "execution_count": 3,
   "metadata": {},
   "outputs": [],
   "source": [
    "p_atp = bokeh.plotting.figure(width = 450, height = 350,\n",
    "                             title = 'ATP Compare',\n",
    "                             x_axis_label = 'time (sec)',\n",
    "                             y_axis_label = 'concentration (nM)')"
   ]
  },
  {
   "cell_type": "markdown",
   "metadata": {},
   "source": [
    "## Combine atp synthase with txtl machinery \n",
    "---"
   ]
  },
  {
   "cell_type": "markdown",
   "metadata": {},
   "source": [
    "Load in subsystem models"
   ]
  },
  {
   "cell_type": "code",
   "execution_count": 22,
   "metadata": {},
   "outputs": [],
   "source": [
    "# atp synthase models\n",
    "ss1_atpsyn_txtl = createSubsystem('atpsynthase_machinery_txtl.xml', subsystemName = 'atpsyn_txtl')\n",
    "ss2_atpsyn_mi = createSubsystem('atpsynthase_membrane_integration.xml', subsystemName = 'atpsyn_mi')\n",
    "ss3_atpsynthesis = createSubsystem('atp_synthesis_through_atpsynthase_try.xml', subsystemName = 'atpsynthesis')\n",
    "ss4_atp_use = createSubsystem('atp_50_use.xml', subsystemName = 'atp_use')"
   ]
  },
  {
   "cell_type": "markdown",
   "metadata": {},
   "source": [
    "Combine all models"
   ]
  },
  {
   "cell_type": "code",
   "execution_count": 5,
   "metadata": {},
   "outputs": [],
   "source": [
    "atp_subsystem_w_use = ss1_atpsyn_txtl + ss2_atpsyn_mi + ss3_atpsynthesis #+ ss4_atp_use"
   ]
  },
  {
   "cell_type": "markdown",
   "metadata": {},
   "source": [
    "Indicate initial conditions and timepoints, simulate with bioscrape, and get species IDs that you may want to plot"
   ]
  },
  {
   "cell_type": "code",
   "execution_count": 6,
   "metadata": {},
   "outputs": [
    {
     "name": "stderr",
     "output_type": "stream",
     "text": [
      "/Users/ankitaroychoudhury/opt/anaconda3/lib/python3.7/site-packages/scipy/integrate/odepack.py:248: ODEintWarning: Excess work done on this call (perhaps wrong Dfun type). Run with full_output = 1 to get quantitative information.\n",
      "  warnings.warn(warning_msg, ODEintWarning)\n",
      "odeint failed with mxstep=500..."
     ]
    }
   ],
   "source": [
    "# SIMULATE WITH ATP SYNTHASE\n",
    "# Initial conditions\n",
    "spec_list_10 = ['dna_atpsyn', 'proton_outside_H', 'metabolite_atp',\n",
    "                 'protein_RNAP_machinery', \n",
    "                'protein_Ribo_machinery', 'protein_RNAse_machinery']\n",
    "for i,spec in enumerate(spec_list_10):\n",
    "    atp_subsystem_w_use.setSpeciesAmount(spec,10)\n",
    "\n",
    "\n",
    "# timepoints and get WITH ATP SYNTHASE\n",
    "timepoints = np.linspace(0,31600,100)\n",
    "results1, _ = atp_subsystem_w_use.simulateWithBioscrape(timepoints, sbml_warnings = False)\n",
    "\n",
    "# Get species IDs\n",
    "ATP_id = atp_subsystem_w_use.getSpeciesByName('metabolite_atp').getId()\n",
    "ADP_id = atp_subsystem_w_use.getSpeciesByName('metabolite_adp').getId()\n",
    "\n",
    "outside_H_id = atp_subsystem_w_use.getSpeciesByName('proton_outside_H').getId()\n",
    "inside_H_id = atp_subsystem_w_use.getSpeciesByName('proton_inside_H').getId()\n",
    "atp_synthase_b_protein_id = atp_subsystem_w_use.getSpeciesByName('protein_atpsyn_b').getId()\n",
    "atp_synthase_f_protein_id = atp_subsystem_w_use.getSpeciesByName('protein_atpsyn').getId()"
   ]
  },
  {
   "cell_type": "markdown",
   "metadata": {},
   "source": [
    "Perform simulations with the system with **only** ATP use, no atp synthase"
   ]
  },
  {
   "cell_type": "code",
   "execution_count": 7,
   "metadata": {},
   "outputs": [],
   "source": [
    "# SIMULATE WITHOUT ATP SYNTHASE\n",
    "#ss4_atp_use.setSpeciesAmount('proton_outside_H',10)\n",
    "ss4_atp_use.setSpeciesAmount('metabolite_atp',10)\n",
    "\n",
    "results2, _ = ss4_atp_use.simulateWithBioscrape(timepoints, sbml_warnings = False)\n",
    "\n",
    "# GET ATP species ID s\n",
    "ATP_id2 = ss4_atp_use.getSpeciesByName('metabolite_atp').getId()"
   ]
  },
  {
   "cell_type": "markdown",
   "metadata": {},
   "source": [
    "Plot!"
   ]
  },
  {
   "cell_type": "code",
   "execution_count": 8,
   "metadata": {},
   "outputs": [
    {
     "data": {
      "text/html": [
       "\n",
       "\n",
       "\n",
       "\n",
       "\n",
       "\n",
       "  <div class=\"bk-root\" id=\"7bd01dda-c0ff-43dd-9922-5adec4ea40aa\" data-root-id=\"1239\"></div>\n"
      ]
     },
     "metadata": {},
     "output_type": "display_data"
    },
    {
     "data": {
      "application/javascript": [
       "(function(root) {\n",
       "  function embed_document(root) {\n",
       "    \n",
       "  var docs_json = {\"6c19d998-38fd-41fe-a239-043be2a4a339\":{\"roots\":{\"references\":[{\"attributes\":{\"children\":[{\"id\":\"1036\",\"subtype\":\"Figure\",\"type\":\"Plot\"},{\"id\":\"1131\",\"subtype\":\"Figure\",\"type\":\"Plot\"}]},\"id\":\"1239\",\"type\":\"Row\"},{\"attributes\":{\"data_source\":{\"id\":\"1165\",\"type\":\"ColumnDataSource\"},\"glyph\":{\"id\":\"1166\",\"type\":\"Line\"},\"hover_glyph\":null,\"muted_glyph\":null,\"nonselection_glyph\":{\"id\":\"1167\",\"type\":\"Line\"},\"selection_glyph\":null,\"view\":{\"id\":\"1169\",\"type\":\"CDSView\"}},\"id\":\"1168\",\"type\":\"GlyphRenderer\"},{\"attributes\":{},\"id\":\"1128\",\"type\":\"Selection\"},{\"attributes\":{\"label\":{\"value\":\"bound atp synthase\"},\"renderers\":[{\"id\":\"1116\",\"type\":\"GlyphRenderer\"}]},\"id\":\"1130\",\"type\":\"LegendItem\"},{\"attributes\":{\"text\":\"only ATP Use\"},\"id\":\"1132\",\"type\":\"Title\"},{\"attributes\":{\"line_color\":\"#1f77b3\",\"line_width\":2,\"x\":{\"field\":\"x\"},\"y\":{\"field\":\"y\"}},\"id\":\"1166\",\"type\":\"Line\"},{\"attributes\":{\"callback\":null},\"id\":\"1134\",\"type\":\"DataRange1d\"},{\"attributes\":{\"callback\":null},\"id\":\"1136\",\"type\":\"DataRange1d\"},{\"attributes\":{},\"id\":\"1138\",\"type\":\"LinearScale\"},{\"attributes\":{},\"id\":\"1140\",\"type\":\"LinearScale\"},{\"attributes\":{\"axis_label\":\"time (hrs)\",\"formatter\":{\"id\":\"1172\",\"type\":\"BasicTickFormatter\"},\"ticker\":{\"id\":\"1143\",\"type\":\"BasicTicker\"}},\"id\":\"1142\",\"type\":\"LinearAxis\"},{\"attributes\":{\"dimension\":1,\"ticker\":{\"id\":\"1148\",\"type\":\"BasicTicker\"}},\"id\":\"1151\",\"type\":\"Grid\"},{\"attributes\":{},\"id\":\"1143\",\"type\":\"BasicTicker\"},{\"attributes\":{\"below\":[{\"id\":\"1047\",\"type\":\"LinearAxis\"}],\"center\":[{\"id\":\"1051\",\"type\":\"Grid\"},{\"id\":\"1056\",\"type\":\"Grid\"},{\"id\":\"1081\",\"type\":\"Legend\"}],\"left\":[{\"id\":\"1052\",\"type\":\"LinearAxis\"}],\"plot_height\":350,\"plot_width\":450,\"renderers\":[{\"id\":\"1073\",\"type\":\"GlyphRenderer\"},{\"id\":\"1086\",\"type\":\"GlyphRenderer\"},{\"id\":\"1100\",\"type\":\"GlyphRenderer\"},{\"id\":\"1116\",\"type\":\"GlyphRenderer\"}],\"title\":{\"id\":\"1037\",\"type\":\"Title\"},\"toolbar\":{\"id\":\"1063\",\"type\":\"Toolbar\"},\"x_range\":{\"id\":\"1039\",\"type\":\"DataRange1d\"},\"x_scale\":{\"id\":\"1043\",\"type\":\"LinearScale\"},\"y_range\":{\"id\":\"1041\",\"type\":\"DataRange1d\"},\"y_scale\":{\"id\":\"1045\",\"type\":\"LinearScale\"}},\"id\":\"1036\",\"subtype\":\"Figure\",\"type\":\"Plot\"},{\"attributes\":{\"ticker\":{\"id\":\"1143\",\"type\":\"BasicTicker\"}},\"id\":\"1146\",\"type\":\"Grid\"},{\"attributes\":{\"text\":\"with ATP Synthase\"},\"id\":\"1037\",\"type\":\"Title\"},{\"attributes\":{},\"id\":\"1148\",\"type\":\"BasicTicker\"},{\"attributes\":{\"axis_label\":\"concentration (nM)\",\"formatter\":{\"id\":\"1174\",\"type\":\"BasicTickFormatter\"},\"ticker\":{\"id\":\"1148\",\"type\":\"BasicTicker\"}},\"id\":\"1147\",\"type\":\"LinearAxis\"},{\"attributes\":{\"data_source\":{\"id\":\"1070\",\"type\":\"ColumnDataSource\"},\"glyph\":{\"id\":\"1071\",\"type\":\"Line\"},\"hover_glyph\":null,\"muted_glyph\":null,\"nonselection_glyph\":{\"id\":\"1072\",\"type\":\"Line\"},\"selection_glyph\":null,\"view\":{\"id\":\"1074\",\"type\":\"CDSView\"}},\"id\":\"1073\",\"type\":\"GlyphRenderer\"},{\"attributes\":{\"callback\":null},\"id\":\"1039\",\"type\":\"DataRange1d\"},{\"attributes\":{\"callback\":null},\"id\":\"1041\",\"type\":\"DataRange1d\"},{\"attributes\":{\"line_alpha\":0.1,\"line_color\":\"#1f77b4\",\"line_width\":2,\"x\":{\"field\":\"x\"},\"y\":{\"field\":\"y\"}},\"id\":\"1167\",\"type\":\"Line\"},{\"attributes\":{\"source\":{\"id\":\"1070\",\"type\":\"ColumnDataSource\"}},\"id\":\"1074\",\"type\":\"CDSView\"},{\"attributes\":{\"active_drag\":\"auto\",\"active_inspect\":\"auto\",\"active_multi\":null,\"active_scroll\":\"auto\",\"active_tap\":\"auto\",\"tools\":[{\"id\":\"1152\",\"type\":\"PanTool\"},{\"id\":\"1153\",\"type\":\"WheelZoomTool\"},{\"id\":\"1154\",\"type\":\"BoxZoomTool\"},{\"id\":\"1155\",\"type\":\"SaveTool\"},{\"id\":\"1156\",\"type\":\"ResetTool\"},{\"id\":\"1157\",\"type\":\"HelpTool\"}]},\"id\":\"1158\",\"type\":\"Toolbar\"},{\"attributes\":{\"callback\":null,\"data\":{\"x\":{\"__ndarray__\":\"AAAAAAAAAAD0kcwotrK2P/SRzCi2ssY/d22ZnggG0T/0kcwotrLWP3K2/7JjX9w/d22ZnggG4T+2/7JjX9zjP/SRzCi2suY/MyTm7QyJ6T9ytv+yY1/sP7BIGXi6Ne8/d22ZnggG8T+WNiYBNHHyP7b/smNf3PM/1sg/xopH9T/0kcwotrL2PxNbWYvhHfg/MyTm7QyJ+T9T7XJQOPT6P3K2/7JjX/w/kH+MFY/K/T+wSBl4ujX/P+gIU+1yUABAd22ZnggGAUAG0t9PnrsBQJY2JgE0cQJAJptssskmA0C2/7JjX9wDQEVk+RT1kQRA1sg/xopHBUBlLYZ3IP0FQPSRzCi2sgZAhPYS2ktoB0ATW1mL4R0IQKS/nzx30whAMyTm7QyJCUDCiCyfoj4KQFPtclA49ApA4lG5Ac6pC0Bytv+yY18MQAEbRmT5FA1AkH+MFY/KDUAh5NLGJIAOQLBIGXi6NQ9AQK1fKVDrD0DoCFPtclAQQDA79sU9qxBAd22ZnggGEUC/nzx302ARQAbS30+euxFATwSDKGkWEkCWNiYBNHESQN9oydn+yxJAJptssskmE0BuzQ+LlIETQLb/smNf3BNA/jFWPCo3FEBFZPkU9ZEUQI2WnO2/7BRA1sg/xopHFUAe++KeVaIVQGUthncg/RVArV8pUOtXFkD0kcwotrIWQD3EbwGBDRdAhPYS2ktoF0DMKLayFsMXQBNbWYvhHRhAXI38Y6x4GECkv588d9MYQOzxQhVCLhlAMyTm7QyJGUB7VonG1+MZQMKILJ+iPhpAC7vPd22ZGkBT7XJQOPQaQJsfFikDTxtA4lG5Ac6pG0AqhFzamAQcQHK2/7JjXxxAuuiiiy66HEABG0Zk+RQdQElN6TzEbx1AkH+MFY/KHUDasS/uWSUeQCHk0sYkgB5AaRZ2n+/aHkCwSBl4ujUfQPl6vFCFkB9AQK1fKVDrH0DEbwGBDSMgQOgIU+1yUCBADKKkWdh9IEAwO/bFPasgQFTURzKj2CBAd22ZnggGIUCcBusKbjMhQL+fPHfTYCFA4ziO4ziOIUA=\",\"dtype\":\"float64\",\"shape\":[100]},\"y\":{\"__ndarray__\":\"AAAAAAAAJEAVXf4fOi2FuoWDYJE423C6TzNPSP8Mt7lfKWkHEQClubNhgGMZRNa4qwlEqyA81biisQfzJzTUuJpZyzovLNO4kQGPgjYk0riIqVLKPRzRuH9RFhJFFNC47vKzs5gYzrjfQjtDpwjMuMySwtK1+Mm4u+JJYsTox7iqMtHx0tjFuJqCWIHhyMO4iNLfEPC4wbjsRM5A/VG/uMvk3F8aMru4qoTrfjcSt7iHJPqdVPKyuMWIEXrjpK24g8guuB1lpbiFEJjsr0qauAUgpdFIloO4EUt5opQB37dGWVa4y43dt3tnM84CGty3rXUQ5Dmm2rfig+35cDLZtxaSyg+ovte3S6CnJd9K1reAroQ7FtfUt7K8YVFNY9O358o+Z4Tv0bcc2Rt9u3vQt5zO8SXlD863BeurUVMoy7dvB2Z9wUDIt9gjIKkvWcW3QUDa1J1xwrdMuSgBGBS/tx7ynFj0RLm38CoRsNB1s7d0xwoPWk2rtzNy5nslXp+3+6pusy1DgLfvjIlUedLNtsmTph1Hr822pJrD5hSMzbaAoeCv4mjNtlmo/XiwRc22M68aQn4izbYNtjcLTP/Mtui8VNQZ3My2w8Nxnee4zLaeyo5mtZXMtnjRqy+Dcsy2UtjI+FBPzLYt3+XBHizMtgfmAovsCMy24ewfVLrly7a88zwdiMLLtpf6WeZVn8u2cQF3ryN8y7ZLCJR48VjLticPsUG/Ncu2ABbOCo0Sy7bbHOvTWu/KtrYjCJ0ozMq2kColZvaoyrZrMUIvxIXKtkU4X/iRYsq2Hz98wV8/yrb6RZmKLRzKttRMtlP7+Mm2rlPTHMnVybaKWvDllrLJtmRhDa9kj8m2PmgqeDJsybYZb0dBAEnJtvR1ZArOJcm2znyB05sCybaog56cad/ItoOKu2U3vMi2XZHYLgWZyLY3mPX30nXIthOfEsGgUsi27aUvim4vyLbHrExTPAzItqKzaRwK6ce2fLqG5dfFx7ZWwaOupaLHtjHIwHdzf8e2C8/dQEFcx7bm1foJDznHtsHcF9PcFce2muM0nKryxrY=\",\"dtype\":\"float64\",\"shape\":[100]}},\"selected\":{\"id\":\"1260\",\"type\":\"Selection\"},\"selection_policy\":{\"id\":\"1259\",\"type\":\"UnionRenderers\"}},\"id\":\"1165\",\"type\":\"ColumnDataSource\"},{\"attributes\":{},\"id\":\"1043\",\"type\":\"LinearScale\"},{\"attributes\":{\"line_alpha\":0.1,\"line_color\":\"#1f77b4\",\"line_width\":2,\"x\":{\"field\":\"x\"},\"y\":{\"field\":\"y\"}},\"id\":\"1072\",\"type\":\"Line\"},{\"attributes\":{},\"id\":\"1152\",\"type\":\"PanTool\"},{\"attributes\":{},\"id\":\"1153\",\"type\":\"WheelZoomTool\"},{\"attributes\":{},\"id\":\"1045\",\"type\":\"LinearScale\"},{\"attributes\":{\"overlay\":{\"id\":\"1175\",\"type\":\"BoxAnnotation\"}},\"id\":\"1154\",\"type\":\"BoxZoomTool\"},{\"attributes\":{\"axis_label\":\"time (hrs)\",\"formatter\":{\"id\":\"1077\",\"type\":\"BasicTickFormatter\"},\"ticker\":{\"id\":\"1048\",\"type\":\"BasicTicker\"}},\"id\":\"1047\",\"type\":\"LinearAxis\"},{\"attributes\":{},\"id\":\"1155\",\"type\":\"SaveTool\"},{\"attributes\":{\"dimension\":1,\"ticker\":{\"id\":\"1053\",\"type\":\"BasicTicker\"}},\"id\":\"1056\",\"type\":\"Grid\"},{\"attributes\":{},\"id\":\"1048\",\"type\":\"BasicTicker\"},{\"attributes\":{},\"id\":\"1156\",\"type\":\"ResetTool\"},{\"attributes\":{\"ticker\":{\"id\":\"1048\",\"type\":\"BasicTicker\"}},\"id\":\"1051\",\"type\":\"Grid\"},{\"attributes\":{},\"id\":\"1157\",\"type\":\"HelpTool\"},{\"attributes\":{},\"id\":\"1053\",\"type\":\"BasicTicker\"},{\"attributes\":{\"axis_label\":\"concentration (nM)\",\"formatter\":{\"id\":\"1079\",\"type\":\"BasicTickFormatter\"},\"ticker\":{\"id\":\"1053\",\"type\":\"BasicTicker\"}},\"id\":\"1052\",\"type\":\"LinearAxis\"},{\"attributes\":{\"source\":{\"id\":\"1165\",\"type\":\"ColumnDataSource\"}},\"id\":\"1169\",\"type\":\"CDSView\"},{\"attributes\":{\"items\":[{\"id\":\"1177\",\"type\":\"LegendItem\"}]},\"id\":\"1176\",\"type\":\"Legend\"},{\"attributes\":{\"callback\":null,\"data\":{\"x\":{\"__ndarray__\":\"AAAAAAAAAAD0kcwotrK2P/SRzCi2ssY/d22ZnggG0T/0kcwotrLWP3K2/7JjX9w/d22ZnggG4T+2/7JjX9zjP/SRzCi2suY/MyTm7QyJ6T9ytv+yY1/sP7BIGXi6Ne8/d22ZnggG8T+WNiYBNHHyP7b/smNf3PM/1sg/xopH9T/0kcwotrL2PxNbWYvhHfg/MyTm7QyJ+T9T7XJQOPT6P3K2/7JjX/w/kH+MFY/K/T+wSBl4ujX/P+gIU+1yUABAd22ZnggGAUAG0t9PnrsBQJY2JgE0cQJAJptssskmA0C2/7JjX9wDQEVk+RT1kQRA1sg/xopHBUBlLYZ3IP0FQPSRzCi2sgZAhPYS2ktoB0ATW1mL4R0IQKS/nzx30whAMyTm7QyJCUDCiCyfoj4KQFPtclA49ApA4lG5Ac6pC0Bytv+yY18MQAEbRmT5FA1AkH+MFY/KDUAh5NLGJIAOQLBIGXi6NQ9AQK1fKVDrD0DoCFPtclAQQDA79sU9qxBAd22ZnggGEUC/nzx302ARQAbS30+euxFATwSDKGkWEkCWNiYBNHESQN9oydn+yxJAJptssskmE0BuzQ+LlIETQLb/smNf3BNA/jFWPCo3FEBFZPkU9ZEUQI2WnO2/7BRA1sg/xopHFUAe++KeVaIVQGUthncg/RVArV8pUOtXFkD0kcwotrIWQD3EbwGBDRdAhPYS2ktoF0DMKLayFsMXQBNbWYvhHRhAXI38Y6x4GECkv588d9MYQOzxQhVCLhlAMyTm7QyJGUB7VonG1+MZQMKILJ+iPhpAC7vPd22ZGkBT7XJQOPQaQJsfFikDTxtA4lG5Ac6pG0AqhFzamAQcQHK2/7JjXxxAuuiiiy66HEABG0Zk+RQdQElN6TzEbx1AkH+MFY/KHUDasS/uWSUeQCHk0sYkgB5AaRZ2n+/aHkCwSBl4ujUfQPl6vFCFkB9AQK1fKVDrH0DEbwGBDSMgQOgIU+1yUCBADKKkWdh9IEAwO/bFPasgQFTURzKj2CBAd22ZnggGIUCcBusKbjMhQL+fPHfTYCFA4ziO4ziOIUA=\",\"dtype\":\"float64\",\"shape\":[100]},\"y\":{\"__ndarray__\":\"AAAAAAAAJEAAAAAAAAAkQAAAAAAAACRAAAAAAAAAJEAAAAAAAAAkQAAAAAAAACRAAAAAAAAAJEAAAAAAAAAkQAAAAAAAACRAAAAAAAAAJEAAAAAAAAAkQAAAAAAAACRAAAAAAAAAJEAAAAAAAAAkQAAAAAAAACRAAAAAAAAAJEAAAAAAAAAkQAAAAAAAACRAAAAAAAAAJEAAAAAAAAAkQAAAAAAAACRAAAAAAAAAJEAAAAAAAAAkQAAAAAAAACRAAAAAAAAAJEAAAAAAAAAkQAAAAAAAACRAAAAAAAAAJEAAAAAAAAAkQAAAAAAAACRAAAAAAAAAJEAAAAAAAAAkQAAAAAAAACRAAAAAAAAAJEAAAAAAAAAkQAAAAAAAACRAAAAAAAAAJEAAAAAAAAAkQAAAAAAAACRAAAAAAAAAJEAAAAAAAAAkQAAAAAAAACRAAAAAAAAAJEAAAAAAAAAkQAAAAAAAACRAAAAAAAAAJEAAAAAAAAAkQAAAAAAAACRAAAAAAAAAJEAAAAAAAAAkQAAAAAAAACRAAAAAAAAAJEAAAAAAAAAkQAAAAAAAACRAAAAAAAAAJEAAAAAAAAAkQAAAAAAAACRAAAAAAAAAJEAAAAAAAAAkQAAAAAAAACRAAAAAAAAAJEAAAAAAAAAkQAAAAAAAACRAAAAAAAAAJEAAAAAAAAAkQAAAAAAAACRAAAAAAAAAJEAAAAAAAAAkQAAAAAAAACRAAAAAAAAAJEAAAAAAAAAkQAAAAAAAACRAAAAAAAAAJEAAAAAAAAAkQAAAAAAAACRAAAAAAAAAJEAAAAAAAAAkQAAAAAAAACRAAAAAAAAAJEAAAAAAAAAkQAAAAAAAACRAAAAAAAAAJEAAAAAAAAAkQAAAAAAAACRAAAAAAAAAJEAAAAAAAAAkQAAAAAAAACRAAAAAAAAAJEAAAAAAAAAkQAAAAAAAACRAAAAAAAAAJEAAAAAAAAAkQAAAAAAAACRAAAAAAAAAJEAAAAAAAAAkQAAAAAAAACRAAAAAAAAAJEAAAAAAAAAkQAAAAAAAACRAAAAAAAAAJEA=\",\"dtype\":\"float64\",\"shape\":[100]}},\"selected\":{\"id\":\"1094\",\"type\":\"Selection\"},\"selection_policy\":{\"id\":\"1093\",\"type\":\"UnionRenderers\"}},\"id\":\"1070\",\"type\":\"ColumnDataSource\"},{\"attributes\":{},\"id\":\"1172\",\"type\":\"BasicTickFormatter\"},{\"attributes\":{},\"id\":\"1174\",\"type\":\"BasicTickFormatter\"},{\"attributes\":{\"click_policy\":\"hide\",\"items\":[{\"id\":\"1082\",\"type\":\"LegendItem\"},{\"id\":\"1096\",\"type\":\"LegendItem\"},{\"id\":\"1112\",\"type\":\"LegendItem\"},{\"id\":\"1130\",\"type\":\"LegendItem\"}],\"location\":\"bottom_right\"},\"id\":\"1081\",\"type\":\"Legend\"},{\"attributes\":{\"below\":[{\"id\":\"1142\",\"type\":\"LinearAxis\"}],\"center\":[{\"id\":\"1146\",\"type\":\"Grid\"},{\"id\":\"1151\",\"type\":\"Grid\"},{\"id\":\"1176\",\"type\":\"Legend\"}],\"left\":[{\"id\":\"1147\",\"type\":\"LinearAxis\"}],\"plot_height\":350,\"plot_width\":450,\"renderers\":[{\"id\":\"1168\",\"type\":\"GlyphRenderer\"}],\"title\":{\"id\":\"1132\",\"type\":\"Title\"},\"toolbar\":{\"id\":\"1158\",\"type\":\"Toolbar\"},\"x_range\":{\"id\":\"1134\",\"type\":\"DataRange1d\"},\"x_scale\":{\"id\":\"1138\",\"type\":\"LinearScale\"},\"y_range\":{\"id\":\"1136\",\"type\":\"DataRange1d\"},\"y_scale\":{\"id\":\"1140\",\"type\":\"LinearScale\"}},\"id\":\"1131\",\"subtype\":\"Figure\",\"type\":\"Plot\"},{\"attributes\":{\"bottom_units\":\"screen\",\"fill_alpha\":{\"value\":0.5},\"fill_color\":{\"value\":\"lightgrey\"},\"left_units\":\"screen\",\"level\":\"overlay\",\"line_alpha\":{\"value\":1.0},\"line_color\":{\"value\":\"black\"},\"line_dash\":[4,4],\"line_width\":{\"value\":2},\"render_mode\":\"css\",\"right_units\":\"screen\",\"top_units\":\"screen\"},\"id\":\"1175\",\"type\":\"BoxAnnotation\"},{\"attributes\":{},\"id\":\"1057\",\"type\":\"PanTool\"},{\"attributes\":{\"label\":{\"value\":\"atp\"},\"renderers\":[{\"id\":\"1168\",\"type\":\"GlyphRenderer\"}]},\"id\":\"1177\",\"type\":\"LegendItem\"},{\"attributes\":{},\"id\":\"1058\",\"type\":\"WheelZoomTool\"},{\"attributes\":{\"overlay\":{\"id\":\"1080\",\"type\":\"BoxAnnotation\"}},\"id\":\"1059\",\"type\":\"BoxZoomTool\"},{\"attributes\":{},\"id\":\"1060\",\"type\":\"SaveTool\"},{\"attributes\":{},\"id\":\"1256\",\"type\":\"UnionRenderers\"},{\"attributes\":{},\"id\":\"1061\",\"type\":\"ResetTool\"},{\"attributes\":{\"line_color\":\"#ff7e0e\",\"line_width\":2,\"x\":{\"field\":\"x\"},\"y\":{\"field\":\"y\"}},\"id\":\"1084\",\"type\":\"Line\"},{\"attributes\":{},\"id\":\"1062\",\"type\":\"HelpTool\"},{\"attributes\":{\"active_drag\":\"auto\",\"active_inspect\":\"auto\",\"active_multi\":null,\"active_scroll\":\"auto\",\"active_tap\":\"auto\",\"tools\":[{\"id\":\"1057\",\"type\":\"PanTool\"},{\"id\":\"1058\",\"type\":\"WheelZoomTool\"},{\"id\":\"1059\",\"type\":\"BoxZoomTool\"},{\"id\":\"1060\",\"type\":\"SaveTool\"},{\"id\":\"1061\",\"type\":\"ResetTool\"},{\"id\":\"1062\",\"type\":\"HelpTool\"}]},\"id\":\"1063\",\"type\":\"Toolbar\"},{\"attributes\":{},\"id\":\"1077\",\"type\":\"BasicTickFormatter\"},{\"attributes\":{\"bottom_units\":\"screen\",\"fill_alpha\":{\"value\":0.5},\"fill_color\":{\"value\":\"lightgrey\"},\"left_units\":\"screen\",\"level\":\"overlay\",\"line_alpha\":{\"value\":1.0},\"line_color\":{\"value\":\"black\"},\"line_dash\":[4,4],\"line_width\":{\"value\":2},\"render_mode\":\"css\",\"right_units\":\"screen\",\"top_units\":\"screen\"},\"id\":\"1080\",\"type\":\"BoxAnnotation\"},{\"attributes\":{\"label\":{\"value\":\"atp\"},\"renderers\":[{\"id\":\"1073\",\"type\":\"GlyphRenderer\"}]},\"id\":\"1082\",\"type\":\"LegendItem\"},{\"attributes\":{},\"id\":\"1079\",\"type\":\"BasicTickFormatter\"},{\"attributes\":{},\"id\":\"1257\",\"type\":\"Selection\"},{\"attributes\":{\"line_alpha\":0.1,\"line_color\":\"#1f77b4\",\"line_width\":2,\"x\":{\"field\":\"x\"},\"y\":{\"field\":\"y\"}},\"id\":\"1085\",\"type\":\"Line\"},{\"attributes\":{},\"id\":\"1259\",\"type\":\"UnionRenderers\"},{\"attributes\":{},\"id\":\"1260\",\"type\":\"Selection\"},{\"attributes\":{\"callback\":null,\"data\":{\"x\":{\"__ndarray__\":\"AAAAAAAAAAD0kcwotrK2P/SRzCi2ssY/d22ZnggG0T/0kcwotrLWP3K2/7JjX9w/d22ZnggG4T+2/7JjX9zjP/SRzCi2suY/MyTm7QyJ6T9ytv+yY1/sP7BIGXi6Ne8/d22ZnggG8T+WNiYBNHHyP7b/smNf3PM/1sg/xopH9T/0kcwotrL2PxNbWYvhHfg/MyTm7QyJ+T9T7XJQOPT6P3K2/7JjX/w/kH+MFY/K/T+wSBl4ujX/P+gIU+1yUABAd22ZnggGAUAG0t9PnrsBQJY2JgE0cQJAJptssskmA0C2/7JjX9wDQEVk+RT1kQRA1sg/xopHBUBlLYZ3IP0FQPSRzCi2sgZAhPYS2ktoB0ATW1mL4R0IQKS/nzx30whAMyTm7QyJCUDCiCyfoj4KQFPtclA49ApA4lG5Ac6pC0Bytv+yY18MQAEbRmT5FA1AkH+MFY/KDUAh5NLGJIAOQLBIGXi6NQ9AQK1fKVDrD0DoCFPtclAQQDA79sU9qxBAd22ZnggGEUC/nzx302ARQAbS30+euxFATwSDKGkWEkCWNiYBNHESQN9oydn+yxJAJptssskmE0BuzQ+LlIETQLb/smNf3BNA/jFWPCo3FEBFZPkU9ZEUQI2WnO2/7BRA1sg/xopHFUAe++KeVaIVQGUthncg/RVArV8pUOtXFkD0kcwotrIWQD3EbwGBDRdAhPYS2ktoF0DMKLayFsMXQBNbWYvhHRhAXI38Y6x4GECkv588d9MYQOzxQhVCLhlAMyTm7QyJGUB7VonG1+MZQMKILJ+iPhpAC7vPd22ZGkBT7XJQOPQaQJsfFikDTxtA4lG5Ac6pG0AqhFzamAQcQHK2/7JjXxxAuuiiiy66HEABG0Zk+RQdQElN6TzEbx1AkH+MFY/KHUDasS/uWSUeQCHk0sYkgB5AaRZ2n+/aHkCwSBl4ujUfQPl6vFCFkB9AQK1fKVDrH0DEbwGBDSMgQOgIU+1yUCBADKKkWdh9IEAwO/bFPasgQFTURzKj2CBAd22ZnggGIUCcBusKbjMhQL+fPHfTYCFA4ziO4ziOIUA=\",\"dtype\":\"float64\",\"shape\":[100]},\"y\":{\"__ndarray__\":\"AAAAAAAAJEDQDvRdFS7Bva2cDhBN5ya+CM1D2ANm4T1N4KyKpqPyPBBPSboUoJ69tNA6gL78q71YZ6WNxr2PPal2kVXFAKo9mPkkUwkC1b14qPMYbO4QviLTTkJWvAE+SqkalWDgGL7wkkOPGHz8PZ7Aa7RFVCM+/qtua4l5IT4fGGYygS8jvp4YMzmi6NC8kmv6HVtzoTzaZxrDZgwxPF/MzJYVtNS7oZTw2th1l7s2str0i9hou0z5LQS3iUW7jL15JT0HIbtsh5YP7U4+O3Aa/R53mY87tv7TVU3zjbugdYqaIVS2u5BApeP3itC7yHctvfCqGryw/CNz0UVJvKlgvYmzIqi8QR3JV78YirzQOJdSUwYqvG1LasumKfG7x0w5NwsPBDwQ8koc/Xvfu9irb4utYPm7ypEjiTyzRDyMfivzQvtnPBxzXmMd/3K8VK3bVxROqrw8xQVfBvS1vEPwvUe6m+88ihbI7sRisDzHJiQ+fny+vAyuXICX2bU83Ee7J+50xbzM/DasrEfwvFzqKavtHgM9Q1wyX3BRID0UYCcanl1AvYQ/sR7dAkC94Isa/vdyeT28EO4je7mAPaViIeWnjcC9GAvMXlT65D3T1ogA+7wHvriGMruHyPc9Hl/RLC8xvj0oZqwM/Iq4vTOi0iTjK8G9IFqjcpH6vr1atBcK0ifovRaL6yk9hwA+DBp/2IgxEr7chn6jbGkoPi3paC1+/Bu+q0OYc+OrAD5HhwA9YfcVPkBpGz5ytd694OtQJ0dd971gCTSWuqI9vucQNw8ZFzg+0lhLgXquM701FTuRv2qUvFeYMfw4dOK8c/i9KA079bw/TxairrizvGxq1LZN20u8+Q+WeJ0VirzJ7w4MvLQyPB1Y+kQVFmc8klJnNOrZTLy8dkNP2d4PPBYRkGkOVaE7E3ixzxZo/br7L/z2n08xu1/Va8xS1xM747Lqbzbu6LpgPTo4Gs2qOoY45a0gQEm6sqsMLBsVdbpYzlQElblAukg7j6W+IDS6sCKSX4b5i7oGjufVLpPGunC12OnhWt06Vba7HPxRBTs=\",\"dtype\":\"float64\",\"shape\":[100]}},\"selected\":{\"id\":\"1110\",\"type\":\"Selection\"},\"selection_policy\":{\"id\":\"1109\",\"type\":\"UnionRenderers\"}},\"id\":\"1083\",\"type\":\"ColumnDataSource\"},{\"attributes\":{\"data_source\":{\"id\":\"1083\",\"type\":\"ColumnDataSource\"},\"glyph\":{\"id\":\"1084\",\"type\":\"Line\"},\"hover_glyph\":null,\"muted_glyph\":null,\"nonselection_glyph\":{\"id\":\"1085\",\"type\":\"Line\"},\"selection_glyph\":null,\"view\":{\"id\":\"1087\",\"type\":\"CDSView\"}},\"id\":\"1086\",\"type\":\"GlyphRenderer\"},{\"attributes\":{\"callback\":null,\"data\":{\"x\":{\"__ndarray__\":\"AAAAAAAAAAD0kcwotrK2P/SRzCi2ssY/d22ZnggG0T/0kcwotrLWP3K2/7JjX9w/d22ZnggG4T+2/7JjX9zjP/SRzCi2suY/MyTm7QyJ6T9ytv+yY1/sP7BIGXi6Ne8/d22ZnggG8T+WNiYBNHHyP7b/smNf3PM/1sg/xopH9T/0kcwotrL2PxNbWYvhHfg/MyTm7QyJ+T9T7XJQOPT6P3K2/7JjX/w/kH+MFY/K/T+wSBl4ujX/P+gIU+1yUABAd22ZnggGAUAG0t9PnrsBQJY2JgE0cQJAJptssskmA0C2/7JjX9wDQEVk+RT1kQRA1sg/xopHBUBlLYZ3IP0FQPSRzCi2sgZAhPYS2ktoB0ATW1mL4R0IQKS/nzx30whAMyTm7QyJCUDCiCyfoj4KQFPtclA49ApA4lG5Ac6pC0Bytv+yY18MQAEbRmT5FA1AkH+MFY/KDUAh5NLGJIAOQLBIGXi6NQ9AQK1fKVDrD0DoCFPtclAQQDA79sU9qxBAd22ZnggGEUC/nzx302ARQAbS30+euxFATwSDKGkWEkCWNiYBNHESQN9oydn+yxJAJptssskmE0BuzQ+LlIETQLb/smNf3BNA/jFWPCo3FEBFZPkU9ZEUQI2WnO2/7BRA1sg/xopHFUAe++KeVaIVQGUthncg/RVArV8pUOtXFkD0kcwotrIWQD3EbwGBDRdAhPYS2ktoF0DMKLayFsMXQBNbWYvhHRhAXI38Y6x4GECkv588d9MYQOzxQhVCLhlAMyTm7QyJGUB7VonG1+MZQMKILJ+iPhpAC7vPd22ZGkBT7XJQOPQaQJsfFikDTxtA4lG5Ac6pG0AqhFzamAQcQHK2/7JjXxxAuuiiiy66HEABG0Zk+RQdQElN6TzEbx1AkH+MFY/KHUDasS/uWSUeQCHk0sYkgB5AaRZ2n+/aHkCwSBl4ujUfQPl6vFCFkB9AQK1fKVDrH0DEbwGBDSMgQOgIU+1yUCBADKKkWdh9IEAwO/bFPasgQFTURzKj2CBAd22ZnggGIUCcBusKbjMhQL+fPHfTYCFA4ziO4ziOIUA=\",\"dtype\":\"float64\",\"shape\":[100]},\"y\":{\"__ndarray__\":\"AAAAAAAAAACwRAAAAAAkQEfnFgAAACRAl+n+////I0D2//////8jQEYPAAAAACRA9BsAAAAAJEAI+P////8jQPbl/////yNACKgAAAAAJEAtdwgAAAAkQOWQ+////yNAKXAMAAAAJEB0cPz///8jQLOr7P///yNAcobu////I0B9LxMAAAAkQPv//////yNA+///////I0D7//////8jQPv//////yNA+///////I0D7//////8jQPv//////yNA+///////I0D7//////8jQPv//////yNA+///////I0D7//////8jQPv//////yNA+///////I0D7//////8jQPv//////yNA+///////I0D7//////8jQPv//////yNA+///////I0D7//////8jQPv//////yNA+///////I0D7//////8jQPv//////yNA+v//////I0D7//////8jQPn//////yNA+///////I0D7//////8jQPv//////yNA/P//////I0D9//////8jQPb//////yNA6///////I0A9AAAAAAAkQDwAAAAAACRAzvz/////I0DN+/////8jQDNCAAAAACRAVrD+////I0A67wUAAAAkQOoG/f///yNAmsP/////I0ASMQAAAAAkQKxEAAAAACRA8j0AAAAAJEB5ggEAAAAkQC7e+////yNAwhgJAAAAJECRluf///8jQDz+DQAAACRABNX7////I0BNBPX///8jQKj1AAAAACRApesCAAAAJEBxRTsAAAAkQMrRz////yNAJAAAAAAAJED9//////8jQP7//////yNAAAAAAAAAJED9//////8jQP3//////yNA/f//////I0D9//////8jQP3//////yNA/f//////I0D9//////8jQP3//////yNA/f//////I0D9//////8jQP3//////yNA/f//////I0D9//////8jQP3//////yNA/f//////I0D9//////8jQP3//////yNA/f//////I0D9//////8jQP3//////yNA/f//////I0A=\",\"dtype\":\"float64\",\"shape\":[100]}},\"selected\":{\"id\":\"1128\",\"type\":\"Selection\"},\"selection_policy\":{\"id\":\"1127\",\"type\":\"UnionRenderers\"}},\"id\":\"1097\",\"type\":\"ColumnDataSource\"},{\"attributes\":{\"line_color\":\"#1f77b3\",\"line_width\":2,\"x\":{\"field\":\"x\"},\"y\":{\"field\":\"y\"}},\"id\":\"1071\",\"type\":\"Line\"},{\"attributes\":{\"source\":{\"id\":\"1083\",\"type\":\"ColumnDataSource\"}},\"id\":\"1087\",\"type\":\"CDSView\"},{\"attributes\":{},\"id\":\"1093\",\"type\":\"UnionRenderers\"},{\"attributes\":{\"label\":{\"value\":\"outside_H\"},\"renderers\":[{\"id\":\"1086\",\"type\":\"GlyphRenderer\"}]},\"id\":\"1096\",\"type\":\"LegendItem\"},{\"attributes\":{},\"id\":\"1127\",\"type\":\"UnionRenderers\"},{\"attributes\":{},\"id\":\"1094\",\"type\":\"Selection\"},{\"attributes\":{\"line_color\":\"#2ba02b\",\"line_width\":2,\"x\":{\"field\":\"x\"},\"y\":{\"field\":\"y\"}},\"id\":\"1098\",\"type\":\"Line\"},{\"attributes\":{\"line_alpha\":0.1,\"line_color\":\"#1f77b4\",\"line_width\":2,\"x\":{\"field\":\"x\"},\"y\":{\"field\":\"y\"}},\"id\":\"1099\",\"type\":\"Line\"},{\"attributes\":{\"data_source\":{\"id\":\"1097\",\"type\":\"ColumnDataSource\"},\"glyph\":{\"id\":\"1098\",\"type\":\"Line\"},\"hover_glyph\":null,\"muted_glyph\":null,\"nonselection_glyph\":{\"id\":\"1099\",\"type\":\"Line\"},\"selection_glyph\":null,\"view\":{\"id\":\"1101\",\"type\":\"CDSView\"}},\"id\":\"1100\",\"type\":\"GlyphRenderer\"},{\"attributes\":{\"callback\":null,\"data\":{\"x\":{\"__ndarray__\":\"AAAAAAAAAAD0kcwotrK2P/SRzCi2ssY/d22ZnggG0T/0kcwotrLWP3K2/7JjX9w/d22ZnggG4T+2/7JjX9zjP/SRzCi2suY/MyTm7QyJ6T9ytv+yY1/sP7BIGXi6Ne8/d22ZnggG8T+WNiYBNHHyP7b/smNf3PM/1sg/xopH9T/0kcwotrL2PxNbWYvhHfg/MyTm7QyJ+T9T7XJQOPT6P3K2/7JjX/w/kH+MFY/K/T+wSBl4ujX/P+gIU+1yUABAd22ZnggGAUAG0t9PnrsBQJY2JgE0cQJAJptssskmA0C2/7JjX9wDQEVk+RT1kQRA1sg/xopHBUBlLYZ3IP0FQPSRzCi2sgZAhPYS2ktoB0ATW1mL4R0IQKS/nzx30whAMyTm7QyJCUDCiCyfoj4KQFPtclA49ApA4lG5Ac6pC0Bytv+yY18MQAEbRmT5FA1AkH+MFY/KDUAh5NLGJIAOQLBIGXi6NQ9AQK1fKVDrD0DoCFPtclAQQDA79sU9qxBAd22ZnggGEUC/nzx302ARQAbS30+euxFATwSDKGkWEkCWNiYBNHESQN9oydn+yxJAJptssskmE0BuzQ+LlIETQLb/smNf3BNA/jFWPCo3FEBFZPkU9ZEUQI2WnO2/7BRA1sg/xopHFUAe++KeVaIVQGUthncg/RVArV8pUOtXFkD0kcwotrIWQD3EbwGBDRdAhPYS2ktoF0DMKLayFsMXQBNbWYvhHRhAXI38Y6x4GECkv588d9MYQOzxQhVCLhlAMyTm7QyJGUB7VonG1+MZQMKILJ+iPhpAC7vPd22ZGkBT7XJQOPQaQJsfFikDTxtA4lG5Ac6pG0AqhFzamAQcQHK2/7JjXxxAuuiiiy66HEABG0Zk+RQdQElN6TzEbx1AkH+MFY/KHUDasS/uWSUeQCHk0sYkgB5AaRZ2n+/aHkCwSBl4ujUfQPl6vFCFkB9AQK1fKVDrH0DEbwGBDSMgQOgIU+1yUCBADKKkWdh9IEAwO/bFPasgQFTURzKj2CBAd22ZnggGIUCcBusKbjMhQL+fPHfTYCFA4ziO4ziOIUA=\",\"dtype\":\"float64\",\"shape\":[100]},\"y\":{\"__ndarray__\":\"AAAAAAAAAAD+t6gESg/zP2KOzvbkHgdA7rbke9TREUCA77dUF4IXQL1XIJRfrRxAhX1N2OivIEC+Zf43O9IiQMeq7FKqwiRA4TXOYMSFJkC1ZOQarR8oQKh4g3UnlClAO5cTdp7mKkBH6sQ6LRosQCWzhkamMS1AMmo/IpovLkAQuB5jXRYvQP+OECQO6C9AJK7Df0xTMEBS2ADK3qkwQOhbSlCJ+DBAgfHO3wRAMUDqW7Fl+YAxQBDogXn/uzFASiqvw6HxMUBfzUNDXiIyQOhu7XWnTjJAsQDiZOV2MkCLdFaZdpsyQIJkivqwvDJATA+Ql+LaMkBaVMVeUvYyQCoPV8RADzNAa1uyWeglM0BEYTdXfjozQCZ5GhkzTTNA05H/kDJeM0DB42GtpG0zQDuuN7etezNAJJE8p26IM0AVaWRzBZQzQLyZPVWNnjNAJffwCR+oM0DFEkwM0bAzQORbosm3uDNATPjA0eW/M0AKgIYCbMYzQKomia9ZzDNA16QTxrzRM0CVyfDtodYzQL14AKcU2zNAFUBZZB/fM0DFjcSky+IzQNXiGAki5jNAXnp2aCrpM0C8gLHi6+szQG4PF/Fs7jNAYKqfdbPwM0CAg8DIxPIzQGg09sWl9DNAefEt11r2M0AUgyb/5/czQIps3uJQ+TNAtmkg0pj6M0BovlHPwvszQBkDepbR/DNAUAK2o8f9M0DYXgo5p/4zQLTztGNy/zNASdz8ACsANED46ZLC0gA0QMskjTJrATRAnOQFt/UBNECF6GGVcwI0QPBzV/XlAjRA6gOd400DNEBlx1FUrAM0QPABUyUCBDRA260yIFAENEDThB/8lgQ0QBRAml/XBDRA3pzk4REFNEBTP2wMRwU0QANSD1x3BTRAprBQQqMFNECqm1gmywU0QPjf3mXvBTRAznIKVhAGNECIyjhELgY0QBYzunZJBjRA5r9yLWIGNEBxTHGieAY0QACIdwqNBjRAqLB0lZ8GNED/qvlusAY0QMfymr6/BjRAyXFPqM0GNEDoRMRM2gY0QKtkrcnlBjRAToYKOvAGNEA=\",\"dtype\":\"float64\",\"shape\":[100]}},\"selected\":{\"id\":\"1257\",\"type\":\"Selection\"},\"selection_policy\":{\"id\":\"1256\",\"type\":\"UnionRenderers\"}},\"id\":\"1113\",\"type\":\"ColumnDataSource\"},{\"attributes\":{\"source\":{\"id\":\"1097\",\"type\":\"ColumnDataSource\"}},\"id\":\"1101\",\"type\":\"CDSView\"},{\"attributes\":{},\"id\":\"1109\",\"type\":\"UnionRenderers\"},{\"attributes\":{\"label\":{\"value\":\"inside_H\"},\"renderers\":[{\"id\":\"1100\",\"type\":\"GlyphRenderer\"}]},\"id\":\"1112\",\"type\":\"LegendItem\"},{\"attributes\":{},\"id\":\"1110\",\"type\":\"Selection\"},{\"attributes\":{\"source\":{\"id\":\"1113\",\"type\":\"ColumnDataSource\"}},\"id\":\"1117\",\"type\":\"CDSView\"},{\"attributes\":{\"line_color\":\"#9367bc\",\"line_width\":2,\"x\":{\"field\":\"x\"},\"y\":{\"field\":\"y\"}},\"id\":\"1114\",\"type\":\"Line\"},{\"attributes\":{\"line_alpha\":0.1,\"line_color\":\"#1f77b4\",\"line_width\":2,\"x\":{\"field\":\"x\"},\"y\":{\"field\":\"y\"}},\"id\":\"1115\",\"type\":\"Line\"},{\"attributes\":{\"data_source\":{\"id\":\"1113\",\"type\":\"ColumnDataSource\"},\"glyph\":{\"id\":\"1114\",\"type\":\"Line\"},\"hover_glyph\":null,\"muted_glyph\":null,\"nonselection_glyph\":{\"id\":\"1115\",\"type\":\"Line\"},\"selection_glyph\":null,\"view\":{\"id\":\"1117\",\"type\":\"CDSView\"}},\"id\":\"1116\",\"type\":\"GlyphRenderer\"}],\"root_ids\":[\"1239\"]},\"title\":\"Bokeh Application\",\"version\":\"1.4.0\"}};\n",
       "  var render_items = [{\"docid\":\"6c19d998-38fd-41fe-a239-043be2a4a339\",\"roots\":{\"1239\":\"7bd01dda-c0ff-43dd-9922-5adec4ea40aa\"}}];\n",
       "  root.Bokeh.embed.embed_items_notebook(docs_json, render_items);\n",
       "\n",
       "  }\n",
       "  if (root.Bokeh !== undefined) {\n",
       "    embed_document(root);\n",
       "  } else {\n",
       "    var attempts = 0;\n",
       "    var timer = setInterval(function(root) {\n",
       "      if (root.Bokeh !== undefined) {\n",
       "        clearInterval(timer);\n",
       "        embed_document(root);\n",
       "      } else {\n",
       "        attempts++;\n",
       "        if (attempts > 100) {\n",
       "          clearInterval(timer);\n",
       "          console.log(\"Bokeh: ERROR: Unable to run BokehJS code because BokehJS library is missing\");\n",
       "        }\n",
       "      }\n",
       "    }, 10, root)\n",
       "  }\n",
       "})(window);"
      ],
      "application/vnd.bokehjs_exec.v0+json": ""
     },
     "metadata": {
      "application/vnd.bokehjs_exec.v0+json": {
       "id": "1239"
      }
     },
     "output_type": "display_data"
    },
    {
     "data": {
      "text/html": [
       "\n",
       "\n",
       "\n",
       "\n",
       "\n",
       "\n",
       "  <div class=\"bk-root\" id=\"ca270485-5e18-4f41-9824-08a0e1e27530\" data-root-id=\"1178\"></div>\n"
      ]
     },
     "metadata": {},
     "output_type": "display_data"
    },
    {
     "data": {
      "application/javascript": [
       "(function(root) {\n",
       "  function embed_document(root) {\n",
       "    \n",
       "  var docs_json = {\"28c14b92-b28b-4f8f-9382-96f9854f6a3a\":{\"roots\":{\"references\":[{\"attributes\":{\"below\":[{\"id\":\"1189\",\"type\":\"LinearAxis\"}],\"center\":[{\"id\":\"1193\",\"type\":\"Grid\"},{\"id\":\"1198\",\"type\":\"Grid\"},{\"id\":\"1223\",\"type\":\"Legend\"}],\"left\":[{\"id\":\"1194\",\"type\":\"LinearAxis\"}],\"plot_height\":350,\"plot_width\":450,\"renderers\":[{\"id\":\"1215\",\"type\":\"GlyphRenderer\"},{\"id\":\"1228\",\"type\":\"GlyphRenderer\"}],\"title\":{\"id\":\"1179\",\"type\":\"Title\"},\"toolbar\":{\"id\":\"1205\",\"type\":\"Toolbar\"},\"x_range\":{\"id\":\"1181\",\"type\":\"DataRange1d\"},\"x_scale\":{\"id\":\"1185\",\"type\":\"LinearScale\"},\"y_range\":{\"id\":\"1183\",\"type\":\"DataRange1d\"},\"y_scale\":{\"id\":\"1187\",\"type\":\"LinearScale\"}},\"id\":\"1178\",\"subtype\":\"Figure\",\"type\":\"Plot\"},{\"attributes\":{\"active_drag\":\"auto\",\"active_inspect\":\"auto\",\"active_multi\":null,\"active_scroll\":\"auto\",\"active_tap\":\"auto\",\"tools\":[{\"id\":\"1199\",\"type\":\"PanTool\"},{\"id\":\"1200\",\"type\":\"WheelZoomTool\"},{\"id\":\"1201\",\"type\":\"BoxZoomTool\"},{\"id\":\"1202\",\"type\":\"SaveTool\"},{\"id\":\"1203\",\"type\":\"ResetTool\"},{\"id\":\"1204\",\"type\":\"HelpTool\"}]},\"id\":\"1205\",\"type\":\"Toolbar\"},{\"attributes\":{\"callback\":null,\"data\":{\"x\":{\"__ndarray__\":\"AAAAAAAAAABIzNsZEvNzQEjM2xkS84NAbLLJJpvsjUBIzNsZEvOTQFq/UqDW75hAbLLJJpvsnUC/UqDWr3ShQEjM2xkS86NA0UUXXXRxpkBav1Kg1u+oQOM4juM4bqtAbLLJJpvsrUD6lQK1fjWwQL9SoNavdLFAhA8++OCzskBIzNsZEvOzQAyJeTtDMrVA0UUXXXRxtkCWArV+pbC3QFq/UqDW77hAHnzwwQcvukDjOI7jOG67QKj1KwVqrbxAbLLJJpvsvUAwb2dIzCu/QPqVArV+NcBAXXTRRRfVwEC/UqDWr3TBQCExb2dIFMJAhA8++OCzwkDm7QyJeVPDQEjM2xkS88NAqqqqqqqSxEAMiXk7QzLFQG9nSMzb0cVA0UUXXXRxxkAzJObtDBHHQJYCtX6lsMdA+OCDDz5QyEBav1Kg1u/IQLydITFvj8lAHnzwwQcvykCBWr9SoM7KQOM4juM4bstARRdddNENzECo9SsFaq3MQArU+pUCTc1AbLLJJpvszUDOkJi3M4zOQDBvZ0jMK89Ak0022WTLz0D6lQK1fjXQQCwFav1KhdBAXXTRRRfV0ECO4ziO4yTRQL9SoNavdNFA8MEHH3zE0UAhMW9nSBTSQFKg1q8UZNJAhA8++OCz0kC1fqVArQPTQObtDIl5U9NAF1100UWj00BIzNsZEvPTQHk7Q2LeQtRAqqqqqqqS1EDbGRLzduLUQAyJeTtDMtVAPvjggw+C1UBvZ0jM29HVQKDWrxSoIdZA0UUXXXRx1kACtX6lQMHWQDMk5u0MEddAZJNNNtlg10CWArV+pbDXQMdxHMdxANhA+OCDDz5Q2EApUOtXCqDYQFq/UqDW79hAiy666KI/2UC8nSExb4/ZQO0MiXk739lAHnzwwQcv2kBQ61cK1H7aQIFav1KgztpAsskmm2we20DjOI7jOG7bQBSo9SsFvttARRdddNEN3EB2hsS8nV3cQKj1KwVqrdxA2WSTTTb93EAK1PqVAk3dQDtDYt7OnN1AbLLJJpvs3UCdITFvZzzeQM6QmLczjN5AAAAAAADc3kA=\",\"dtype\":\"float64\",\"shape\":[100]},\"y\":{\"__ndarray__\":\"AAAAAAAAJEAAAAAAAAAkQAAAAAAAACRAAAAAAAAAJEAAAAAAAAAkQAAAAAAAACRAAAAAAAAAJEAAAAAAAAAkQAAAAAAAACRAAAAAAAAAJEAAAAAAAAAkQAAAAAAAACRAAAAAAAAAJEAAAAAAAAAkQAAAAAAAACRAAAAAAAAAJEAAAAAAAAAkQAAAAAAAACRAAAAAAAAAJEAAAAAAAAAkQAAAAAAAACRAAAAAAAAAJEAAAAAAAAAkQAAAAAAAACRAAAAAAAAAJEAAAAAAAAAkQAAAAAAAACRAAAAAAAAAJEAAAAAAAAAkQAAAAAAAACRAAAAAAAAAJEAAAAAAAAAkQAAAAAAAACRAAAAAAAAAJEAAAAAAAAAkQAAAAAAAACRAAAAAAAAAJEAAAAAAAAAkQAAAAAAAACRAAAAAAAAAJEAAAAAAAAAkQAAAAAAAACRAAAAAAAAAJEAAAAAAAAAkQAAAAAAAACRAAAAAAAAAJEAAAAAAAAAkQAAAAAAAACRAAAAAAAAAJEAAAAAAAAAkQAAAAAAAACRAAAAAAAAAJEAAAAAAAAAkQAAAAAAAACRAAAAAAAAAJEAAAAAAAAAkQAAAAAAAACRAAAAAAAAAJEAAAAAAAAAkQAAAAAAAACRAAAAAAAAAJEAAAAAAAAAkQAAAAAAAACRAAAAAAAAAJEAAAAAAAAAkQAAAAAAAACRAAAAAAAAAJEAAAAAAAAAkQAAAAAAAACRAAAAAAAAAJEAAAAAAAAAkQAAAAAAAACRAAAAAAAAAJEAAAAAAAAAkQAAAAAAAACRAAAAAAAAAJEAAAAAAAAAkQAAAAAAAACRAAAAAAAAAJEAAAAAAAAAkQAAAAAAAACRAAAAAAAAAJEAAAAAAAAAkQAAAAAAAACRAAAAAAAAAJEAAAAAAAAAkQAAAAAAAACRAAAAAAAAAJEAAAAAAAAAkQAAAAAAAACRAAAAAAAAAJEAAAAAAAAAkQAAAAAAAACRAAAAAAAAAJEAAAAAAAAAkQAAAAAAAACRAAAAAAAAAJEAAAAAAAAAkQAAAAAAAACRAAAAAAAAAJEA=\",\"dtype\":\"float64\",\"shape\":[100]}},\"selected\":{\"id\":\"1236\",\"type\":\"Selection\"},\"selection_policy\":{\"id\":\"1235\",\"type\":\"UnionRenderers\"}},\"id\":\"1212\",\"type\":\"ColumnDataSource\"},{\"attributes\":{\"line_alpha\":0.1,\"line_color\":\"#1f77b4\",\"line_width\":2,\"x\":{\"field\":\"x\"},\"y\":{\"field\":\"y\"}},\"id\":\"1227\",\"type\":\"Line\"},{\"attributes\":{\"line_color\":\"#ff7e0e\",\"line_width\":2,\"x\":{\"field\":\"x\"},\"y\":{\"field\":\"y\"}},\"id\":\"1226\",\"type\":\"Line\"},{\"attributes\":{\"line_color\":\"#1f77b3\",\"line_width\":2,\"x\":{\"field\":\"x\"},\"y\":{\"field\":\"y\"}},\"id\":\"1213\",\"type\":\"Line\"},{\"attributes\":{\"data_source\":{\"id\":\"1225\",\"type\":\"ColumnDataSource\"},\"glyph\":{\"id\":\"1226\",\"type\":\"Line\"},\"hover_glyph\":null,\"muted_glyph\":null,\"nonselection_glyph\":{\"id\":\"1227\",\"type\":\"Line\"},\"selection_glyph\":null,\"view\":{\"id\":\"1229\",\"type\":\"CDSView\"}},\"id\":\"1228\",\"type\":\"GlyphRenderer\"},{\"attributes\":{\"data_source\":{\"id\":\"1212\",\"type\":\"ColumnDataSource\"},\"glyph\":{\"id\":\"1213\",\"type\":\"Line\"},\"hover_glyph\":null,\"muted_glyph\":null,\"nonselection_glyph\":{\"id\":\"1214\",\"type\":\"Line\"},\"selection_glyph\":null,\"view\":{\"id\":\"1216\",\"type\":\"CDSView\"}},\"id\":\"1215\",\"type\":\"GlyphRenderer\"},{\"attributes\":{},\"id\":\"1199\",\"type\":\"PanTool\"},{\"attributes\":{\"text\":\"Compare ATP \"},\"id\":\"1179\",\"type\":\"Title\"},{\"attributes\":{},\"id\":\"1200\",\"type\":\"WheelZoomTool\"},{\"attributes\":{\"callback\":null},\"id\":\"1181\",\"type\":\"DataRange1d\"},{\"attributes\":{\"overlay\":{\"id\":\"1222\",\"type\":\"BoxAnnotation\"}},\"id\":\"1201\",\"type\":\"BoxZoomTool\"},{\"attributes\":{\"source\":{\"id\":\"1225\",\"type\":\"ColumnDataSource\"}},\"id\":\"1229\",\"type\":\"CDSView\"},{\"attributes\":{},\"id\":\"1202\",\"type\":\"SaveTool\"},{\"attributes\":{},\"id\":\"1235\",\"type\":\"UnionRenderers\"},{\"attributes\":{},\"id\":\"1203\",\"type\":\"ResetTool\"},{\"attributes\":{\"label\":{\"value\":\"ATP Use\"},\"renderers\":[{\"id\":\"1228\",\"type\":\"GlyphRenderer\"}]},\"id\":\"1238\",\"type\":\"LegendItem\"},{\"attributes\":{\"callback\":null},\"id\":\"1183\",\"type\":\"DataRange1d\"},{\"attributes\":{},\"id\":\"1236\",\"type\":\"Selection\"},{\"attributes\":{},\"id\":\"1204\",\"type\":\"HelpTool\"},{\"attributes\":{},\"id\":\"1185\",\"type\":\"LinearScale\"},{\"attributes\":{},\"id\":\"1423\",\"type\":\"UnionRenderers\"},{\"attributes\":{},\"id\":\"1187\",\"type\":\"LinearScale\"},{\"attributes\":{\"axis_label\":\"time (sec)\",\"formatter\":{\"id\":\"1219\",\"type\":\"BasicTickFormatter\"},\"ticker\":{\"id\":\"1190\",\"type\":\"BasicTicker\"}},\"id\":\"1189\",\"type\":\"LinearAxis\"},{\"attributes\":{},\"id\":\"1219\",\"type\":\"BasicTickFormatter\"},{\"attributes\":{\"dimension\":1,\"ticker\":{\"id\":\"1195\",\"type\":\"BasicTicker\"}},\"id\":\"1198\",\"type\":\"Grid\"},{\"attributes\":{},\"id\":\"1424\",\"type\":\"Selection\"},{\"attributes\":{},\"id\":\"1190\",\"type\":\"BasicTicker\"},{\"attributes\":{\"items\":[{\"id\":\"1224\",\"type\":\"LegendItem\"},{\"id\":\"1238\",\"type\":\"LegendItem\"}]},\"id\":\"1223\",\"type\":\"Legend\"},{\"attributes\":{\"ticker\":{\"id\":\"1190\",\"type\":\"BasicTicker\"}},\"id\":\"1193\",\"type\":\"Grid\"},{\"attributes\":{\"source\":{\"id\":\"1212\",\"type\":\"ColumnDataSource\"}},\"id\":\"1216\",\"type\":\"CDSView\"},{\"attributes\":{},\"id\":\"1221\",\"type\":\"BasicTickFormatter\"},{\"attributes\":{},\"id\":\"1195\",\"type\":\"BasicTicker\"},{\"attributes\":{\"axis_label\":\"concentration (nM)\",\"formatter\":{\"id\":\"1221\",\"type\":\"BasicTickFormatter\"},\"ticker\":{\"id\":\"1195\",\"type\":\"BasicTicker\"}},\"id\":\"1194\",\"type\":\"LinearAxis\"},{\"attributes\":{\"bottom_units\":\"screen\",\"fill_alpha\":{\"value\":0.5},\"fill_color\":{\"value\":\"lightgrey\"},\"left_units\":\"screen\",\"level\":\"overlay\",\"line_alpha\":{\"value\":1.0},\"line_color\":{\"value\":\"black\"},\"line_dash\":[4,4],\"line_width\":{\"value\":2},\"render_mode\":\"css\",\"right_units\":\"screen\",\"top_units\":\"screen\"},\"id\":\"1222\",\"type\":\"BoxAnnotation\"},{\"attributes\":{\"callback\":null,\"data\":{\"x\":{\"__ndarray__\":\"AAAAAAAAAABIzNsZEvNzQEjM2xkS84NAbLLJJpvsjUBIzNsZEvOTQFq/UqDW75hAbLLJJpvsnUC/UqDWr3ShQEjM2xkS86NA0UUXXXRxpkBav1Kg1u+oQOM4juM4bqtAbLLJJpvsrUD6lQK1fjWwQL9SoNavdLFAhA8++OCzskBIzNsZEvOzQAyJeTtDMrVA0UUXXXRxtkCWArV+pbC3QFq/UqDW77hAHnzwwQcvukDjOI7jOG67QKj1KwVqrbxAbLLJJpvsvUAwb2dIzCu/QPqVArV+NcBAXXTRRRfVwEC/UqDWr3TBQCExb2dIFMJAhA8++OCzwkDm7QyJeVPDQEjM2xkS88NAqqqqqqqSxEAMiXk7QzLFQG9nSMzb0cVA0UUXXXRxxkAzJObtDBHHQJYCtX6lsMdA+OCDDz5QyEBav1Kg1u/IQLydITFvj8lAHnzwwQcvykCBWr9SoM7KQOM4juM4bstARRdddNENzECo9SsFaq3MQArU+pUCTc1AbLLJJpvszUDOkJi3M4zOQDBvZ0jMK89Ak0022WTLz0D6lQK1fjXQQCwFav1KhdBAXXTRRRfV0ECO4ziO4yTRQL9SoNavdNFA8MEHH3zE0UAhMW9nSBTSQFKg1q8UZNJAhA8++OCz0kC1fqVArQPTQObtDIl5U9NAF1100UWj00BIzNsZEvPTQHk7Q2LeQtRAqqqqqqqS1EDbGRLzduLUQAyJeTtDMtVAPvjggw+C1UBvZ0jM29HVQKDWrxSoIdZA0UUXXXRx1kACtX6lQMHWQDMk5u0MEddAZJNNNtlg10CWArV+pbDXQMdxHMdxANhA+OCDDz5Q2EApUOtXCqDYQFq/UqDW79hAiy666KI/2UC8nSExb4/ZQO0MiXk739lAHnzwwQcv2kBQ61cK1H7aQIFav1KgztpAsskmm2we20DjOI7jOG7bQBSo9SsFvttARRdddNEN3EB2hsS8nV3cQKj1KwVqrdxA2WSTTTb93EAK1PqVAk3dQDtDYt7OnN1AbLLJJpvs3UCdITFvZzzeQM6QmLczjN5AAAAAAADc3kA=\",\"dtype\":\"float64\",\"shape\":[100]},\"y\":{\"__ndarray__\":\"AAAAAAAAJEAVXf4fOi2FuoWDYJE423C6TzNPSP8Mt7lfKWkHEQClubNhgGMZRNa4qwlEqyA81biisQfzJzTUuJpZyzovLNO4kQGPgjYk0riIqVLKPRzRuH9RFhJFFNC47vKzs5gYzrjfQjtDpwjMuMySwtK1+Mm4u+JJYsTox7iqMtHx0tjFuJqCWIHhyMO4iNLfEPC4wbjsRM5A/VG/uMvk3F8aMru4qoTrfjcSt7iHJPqdVPKyuMWIEXrjpK24g8guuB1lpbiFEJjsr0qauAUgpdFIloO4EUt5opQB37dGWVa4y43dt3tnM84CGty3rXUQ5Dmm2rfig+35cDLZtxaSyg+ovte3S6CnJd9K1reAroQ7FtfUt7K8YVFNY9O358o+Z4Tv0bcc2Rt9u3vQt5zO8SXlD863BeurUVMoy7dvB2Z9wUDIt9gjIKkvWcW3QUDa1J1xwrdMuSgBGBS/tx7ynFj0RLm38CoRsNB1s7d0xwoPWk2rtzNy5nslXp+3+6pusy1DgLfvjIlUedLNtsmTph1Hr822pJrD5hSMzbaAoeCv4mjNtlmo/XiwRc22M68aQn4izbYNtjcLTP/Mtui8VNQZ3My2w8Nxnee4zLaeyo5mtZXMtnjRqy+Dcsy2UtjI+FBPzLYt3+XBHizMtgfmAovsCMy24ewfVLrly7a88zwdiMLLtpf6WeZVn8u2cQF3ryN8y7ZLCJR48VjLticPsUG/Ncu2ABbOCo0Sy7bbHOvTWu/KtrYjCJ0ozMq2kColZvaoyrZrMUIvxIXKtkU4X/iRYsq2Hz98wV8/yrb6RZmKLRzKttRMtlP7+Mm2rlPTHMnVybaKWvDllrLJtmRhDa9kj8m2PmgqeDJsybYZb0dBAEnJtvR1ZArOJcm2znyB05sCybaog56cad/ItoOKu2U3vMi2XZHYLgWZyLY3mPX30nXIthOfEsGgUsi27aUvim4vyLbHrExTPAzItqKzaRwK6ce2fLqG5dfFx7ZWwaOupaLHtjHIwHdzf8e2C8/dQEFcx7bm1foJDznHtsHcF9PcFce2muM0nKryxrY=\",\"dtype\":\"float64\",\"shape\":[100]}},\"selected\":{\"id\":\"1424\",\"type\":\"Selection\"},\"selection_policy\":{\"id\":\"1423\",\"type\":\"UnionRenderers\"}},\"id\":\"1225\",\"type\":\"ColumnDataSource\"},{\"attributes\":{\"label\":{\"value\":\"ATP Synthase, ATP Use\"},\"renderers\":[{\"id\":\"1215\",\"type\":\"GlyphRenderer\"}]},\"id\":\"1224\",\"type\":\"LegendItem\"},{\"attributes\":{\"line_alpha\":0.1,\"line_color\":\"#1f77b4\",\"line_width\":2,\"x\":{\"field\":\"x\"},\"y\":{\"field\":\"y\"}},\"id\":\"1214\",\"type\":\"Line\"}],\"root_ids\":[\"1178\"]},\"title\":\"Bokeh Application\",\"version\":\"1.4.0\"}};\n",
       "  var render_items = [{\"docid\":\"28c14b92-b28b-4f8f-9382-96f9854f6a3a\",\"roots\":{\"1178\":\"ca270485-5e18-4f41-9824-08a0e1e27530\"}}];\n",
       "  root.Bokeh.embed.embed_items_notebook(docs_json, render_items);\n",
       "\n",
       "  }\n",
       "  if (root.Bokeh !== undefined) {\n",
       "    embed_document(root);\n",
       "  } else {\n",
       "    var attempts = 0;\n",
       "    var timer = setInterval(function(root) {\n",
       "      if (root.Bokeh !== undefined) {\n",
       "        clearInterval(timer);\n",
       "        embed_document(root);\n",
       "      } else {\n",
       "        attempts++;\n",
       "        if (attempts > 100) {\n",
       "          clearInterval(timer);\n",
       "          console.log(\"Bokeh: ERROR: Unable to run BokehJS code because BokehJS library is missing\");\n",
       "        }\n",
       "      }\n",
       "    }, 10, root)\n",
       "  }\n",
       "})(window);"
      ],
      "application/vnd.bokehjs_exec.v0+json": ""
     },
     "metadata": {
      "application/vnd.bokehjs_exec.v0+json": {
       "id": "1178"
      }
     },
     "output_type": "display_data"
    }
   ],
   "source": [
    "# PLOT WITH ATP SYNTHASE\n",
    "\n",
    "plt_timepoints = timepoints/60/60\n",
    "\n",
    "p_w_atp = bokeh.plotting.figure(width = 450, height = 350, title = 'with ATP Synthase',\n",
    "                          x_axis_label = 'time (hrs)',\n",
    "                          y_axis_label = 'concentration (nM)')\n",
    "plot_list = [ATP_id, outside_H_id, inside_H_id, atp_synthase_b_protein_id]\n",
    "plot_str = ['atp', 'outside_H', 'inside_H', 'bound atp synthase']\n",
    "# plot_list = [atp_synthase_b_protein_id, atp_synthase_f_protein_id]\n",
    "# plot_str = ['atp synthase bound', 'atp synthase free']\n",
    "for i,item in enumerate(plot_list):\n",
    "    p_w_atp.line(plt_timepoints, results1[item], line_width = 2, legend_label = plot_str[i], color = palette[i])\n",
    "    \n",
    "\n",
    "# PLOT WITHOUT ATP SYNTHASE\n",
    "p_no_atp = bokeh.plotting.figure(width = 450, height = 350, title = 'only ATP Use',\n",
    "                          x_axis_label = 'time (hrs)',\n",
    "                          y_axis_label = 'concentration (nM)')\n",
    "p_no_atp.line(plt_timepoints, results2[ATP_id2], line_width = 2, legend_label = 'atp', color = palette[0])\n",
    "\n",
    "p_compare = bokeh.plotting.figure(width = 450, height = 350, title = 'Compare ATP ',\n",
    "                          x_axis_label = 'time (sec)',\n",
    "                          y_axis_label = 'concentration (nM)')\n",
    "p_compare.line(timepoints, results1[ATP_id], legend_label = 'ATP Synthase, ATP Use', line_width = 2, color = palette[0])\n",
    "p_compare.line(timepoints, results2[ATP_id2], legend_label = 'ATP Use', line_width = 2, color = palette[1])\n",
    "\n",
    "\n",
    "p_w_atp.legend.location = 'bottom_right'\n",
    "p_w_atp.legend.click_policy = 'hide'\n",
    "    \n",
    "bokeh.io.show(row(p_w_atp, p_no_atp))\n",
    "bokeh.io.show(p_compare)\n",
    "\n",
    "# p_atp.line(plt_timepoints, results1[ATP_id], line_width = 2, color = palette[1], legend_label = 'with ATP Synthase, ATP Use')\n",
    "# p_atp.line(plt_timepoints, results2[ATP_id2],line_width = 2, color = palette[2],legend_label = 'ATP Use only')\n",
    "\n",
    "#bokeh.io.show(p_atp)\n"
   ]
  },
  {
   "cell_type": "markdown",
   "metadata": {},
   "source": [
    "Why does bound atp synthase shoot infinitely high:( got em, it's because you kept remaking the transcript silly"
   ]
  },
  {
   "cell_type": "markdown",
   "metadata": {},
   "source": [
    "## Combine all proton pump with txtl machinery\n",
    "---"
   ]
  },
  {
   "cell_type": "code",
   "execution_count": 23,
   "metadata": {},
   "outputs": [],
   "source": [
    "#ss5_pp_txtl = createSubsystem('proton_pump_tx_tl.xml', subsystemName = 'pp_txtl')\n",
    "ss5_pp_txtl = createSubsystem('proton_pump_machinery_txtl.xml', subsystemName = 'pp_txtl')\n",
    "ss6_pp_mi = createSubsystem('proton_pump_membrane_integration.xml', subsystemName = 'pp_mi')\n",
    "ss7_protontransport = createSubsystem('proton_transport_through_proton_pump.xml', subsystemName = 'protontransport')"
   ]
  },
  {
   "cell_type": "code",
   "execution_count": 10,
   "metadata": {},
   "outputs": [],
   "source": [
    "pp_subsystem = ss5_pp_txtl + ss6_pp_mi + ss7_protontransport"
   ]
  },
  {
   "cell_type": "code",
   "execution_count": 11,
   "metadata": {},
   "outputs": [
    {
     "name": "stderr",
     "output_type": "stream",
     "text": [
      "odeint failed with mxstep=500..."
     ]
    }
   ],
   "source": [
    "# Initial conditions\n",
    "\n",
    "spec_list_10 = ['dna_proton_pump', 'proton_outside_H', 'metabolite_atp', 'protein_RNAP_machinery', \n",
    "                'protein_Ribo_machinery', 'protein_RNAse_machinery']\n",
    "for i,spec in enumerate(spec_list_10):\n",
    "    pp_subsystem.setSpeciesAmount(spec,10)\n",
    "\n",
    "\n",
    "# timepoints and get results\n",
    "timepoints = np.linspace(0,31600,100)\n",
    "results, _ = pp_subsystem.simulateWithBioscrape(timepoints, sbml_warnings = False)\n",
    "\n",
    "# Get species IDs\n",
    "ATP_id = pp_subsystem.getSpeciesByName('metabolite_atp').getId()\n",
    "ADP_id = pp_subsystem.getSpeciesByName('metabolite_adp').getId()\n",
    "\n",
    "outside_H_id = pp_subsystem.getSpeciesByName('proton_outside_H').getId()\n",
    "inside_H_id = pp_subsystem.getSpeciesByName('proton_inside_H').getId()\n",
    "proton_pump_b_protein_id = pp_subsystem.getSpeciesByName('protein_proton_pump_b').getId()\n",
    "proton_pump_f_protein_id = pp_subsystem.getSpeciesByName('protein_proton_pump').getId()\n",
    "\n",
    "\n",
    "\n",
    "dna_pp = pp_subsystem.getSpeciesByName('dna_proton_pump').getId()"
   ]
  },
  {
   "cell_type": "code",
   "execution_count": 12,
   "metadata": {},
   "outputs": [
    {
     "data": {
      "text/html": [
       "\n",
       "\n",
       "\n",
       "\n",
       "\n",
       "\n",
       "  <div class=\"bk-root\" id=\"aa5c100d-dfb8-42fb-8c24-9cf888ed5e9b\" data-root-id=\"1486\"></div>\n"
      ]
     },
     "metadata": {},
     "output_type": "display_data"
    },
    {
     "data": {
      "application/javascript": [
       "(function(root) {\n",
       "  function embed_document(root) {\n",
       "    \n",
       "  var docs_json = {\"40ea5f1f-de28-42b1-b7b7-d4e9c896a6a5\":{\"roots\":{\"references\":[{\"attributes\":{\"below\":[{\"id\":\"1497\",\"type\":\"LinearAxis\"}],\"center\":[{\"id\":\"1501\",\"type\":\"Grid\"},{\"id\":\"1506\",\"type\":\"Grid\"},{\"id\":\"1531\",\"type\":\"Legend\"}],\"left\":[{\"id\":\"1502\",\"type\":\"LinearAxis\"}],\"plot_height\":350,\"plot_width\":450,\"renderers\":[{\"id\":\"1523\",\"type\":\"GlyphRenderer\"},{\"id\":\"1536\",\"type\":\"GlyphRenderer\"},{\"id\":\"1550\",\"type\":\"GlyphRenderer\"},{\"id\":\"1566\",\"type\":\"GlyphRenderer\"}],\"title\":{\"id\":\"1487\",\"type\":\"Title\"},\"toolbar\":{\"id\":\"1513\",\"type\":\"Toolbar\"},\"x_range\":{\"id\":\"1489\",\"type\":\"DataRange1d\"},\"x_scale\":{\"id\":\"1493\",\"type\":\"LinearScale\"},\"y_range\":{\"id\":\"1491\",\"type\":\"DataRange1d\"},\"y_scale\":{\"id\":\"1495\",\"type\":\"LinearScale\"}},\"id\":\"1486\",\"subtype\":\"Figure\",\"type\":\"Plot\"},{\"attributes\":{\"axis_label\":\"time (hrs)\",\"formatter\":{\"id\":\"1527\",\"type\":\"BasicTickFormatter\"},\"ticker\":{\"id\":\"1498\",\"type\":\"BasicTicker\"}},\"id\":\"1497\",\"type\":\"LinearAxis\"},{\"attributes\":{\"callback\":null,\"data\":{\"x\":{\"__ndarray__\":\"AAAAAAAAAAD0kcwotrK2P/SRzCi2ssY/d22ZnggG0T/0kcwotrLWP3K2/7JjX9w/d22ZnggG4T+2/7JjX9zjP/SRzCi2suY/MyTm7QyJ6T9ytv+yY1/sP7BIGXi6Ne8/d22ZnggG8T+WNiYBNHHyP7b/smNf3PM/1sg/xopH9T/0kcwotrL2PxNbWYvhHfg/MyTm7QyJ+T9T7XJQOPT6P3K2/7JjX/w/kH+MFY/K/T+wSBl4ujX/P+gIU+1yUABAd22ZnggGAUAG0t9PnrsBQJY2JgE0cQJAJptssskmA0C2/7JjX9wDQEVk+RT1kQRA1sg/xopHBUBlLYZ3IP0FQPSRzCi2sgZAhPYS2ktoB0ATW1mL4R0IQKS/nzx30whAMyTm7QyJCUDCiCyfoj4KQFPtclA49ApA4lG5Ac6pC0Bytv+yY18MQAEbRmT5FA1AkH+MFY/KDUAh5NLGJIAOQLBIGXi6NQ9AQK1fKVDrD0DoCFPtclAQQDA79sU9qxBAd22ZnggGEUC/nzx302ARQAbS30+euxFATwSDKGkWEkCWNiYBNHESQN9oydn+yxJAJptssskmE0BuzQ+LlIETQLb/smNf3BNA/jFWPCo3FEBFZPkU9ZEUQI2WnO2/7BRA1sg/xopHFUAe++KeVaIVQGUthncg/RVArV8pUOtXFkD0kcwotrIWQD3EbwGBDRdAhPYS2ktoF0DMKLayFsMXQBNbWYvhHRhAXI38Y6x4GECkv588d9MYQOzxQhVCLhlAMyTm7QyJGUB7VonG1+MZQMKILJ+iPhpAC7vPd22ZGkBT7XJQOPQaQJsfFikDTxtA4lG5Ac6pG0AqhFzamAQcQHK2/7JjXxxAuuiiiy66HEABG0Zk+RQdQElN6TzEbx1AkH+MFY/KHUDasS/uWSUeQCHk0sYkgB5AaRZ2n+/aHkCwSBl4ujUfQPl6vFCFkB9AQK1fKVDrH0DEbwGBDSMgQOgIU+1yUCBADKKkWdh9IEAwO/bFPasgQFTURzKj2CBAd22ZnggGIUCcBusKbjMhQL+fPHfTYCFA4ziO4ziOIUA=\",\"dtype\":\"float64\",\"shape\":[100]},\"y\":{\"__ndarray__\":\"AAAAAAAAJEAAAAAAAAAkQAAAAAAAACRAAAAAAAAAJEAAAAAAAAAkQAAAAAAAACRAAAAAAAAAJEAAAAAAAAAkQAAAAAAAACRAAAAAAAAAJEAAAAAAAAAkQAAAAAAAACRAAAAAAAAAJEAAAAAAAAAkQAAAAAAAACRAAAAAAAAAJEAAAAAAAAAkQAAAAAAAACRAAAAAAAAAJEAAAAAAAAAkQAAAAAAAACRAAAAAAAAAJEAAAAAAAAAkQAAAAAAAACRAAAAAAAAAJEAAAAAAAAAkQAAAAAAAACRAAAAAAAAAJEAAAAAAAAAkQAAAAAAAACRAAAAAAAAAJEAAAAAAAAAkQAAAAAAAACRAAAAAAAAAJEAAAAAAAAAkQAAAAAAAACRAAAAAAAAAJEAAAAAAAAAkQAAAAAAAACRAAAAAAAAAJEAAAAAAAAAkQAAAAAAAACRAAAAAAAAAJEAAAAAAAAAkQAAAAAAAACRAAAAAAAAAJEAAAAAAAAAkQAAAAAAAACRAAAAAAAAAJEAAAAAAAAAkQAAAAAAAACRAAAAAAAAAJEAAAAAAAAAkQAAAAAAAACRAAAAAAAAAJEAAAAAAAAAkQAAAAAAAACRAAAAAAAAAJEAAAAAAAAAkQAAAAAAAACRAAAAAAAAAJEAAAAAAAAAkQAAAAAAAACRAAAAAAAAAJEAAAAAAAAAkQAAAAAAAACRAAAAAAAAAJEAAAAAAAAAkQAAAAAAAACRAAAAAAAAAJEAAAAAAAAAkQAAAAAAAACRAAAAAAAAAJEAAAAAAAAAkQAAAAAAAACRAAAAAAAAAJEAAAAAAAAAkQAAAAAAAACRAAAAAAAAAJEAAAAAAAAAkQAAAAAAAACRAAAAAAAAAJEAAAAAAAAAkQAAAAAAAACRAAAAAAAAAJEAAAAAAAAAkQAAAAAAAACRAAAAAAAAAJEAAAAAAAAAkQAAAAAAAACRAAAAAAAAAJEAAAAAAAAAkQAAAAAAAACRAAAAAAAAAJEAAAAAAAAAkQAAAAAAAACRAAAAAAAAAJEAAAAAAAAAkQAAAAAAAACRAAAAAAAAAJEA=\",\"dtype\":\"float64\",\"shape\":[100]}},\"selected\":{\"id\":\"1560\",\"type\":\"Selection\"},\"selection_policy\":{\"id\":\"1559\",\"type\":\"UnionRenderers\"}},\"id\":\"1533\",\"type\":\"ColumnDataSource\"},{\"attributes\":{\"line_color\":\"#2ba02b\",\"line_width\":2,\"x\":{\"field\":\"x\"},\"y\":{\"field\":\"y\"}},\"id\":\"1548\",\"type\":\"Line\"},{\"attributes\":{\"data_source\":{\"id\":\"1533\",\"type\":\"ColumnDataSource\"},\"glyph\":{\"id\":\"1534\",\"type\":\"Line\"},\"hover_glyph\":null,\"muted_glyph\":null,\"nonselection_glyph\":{\"id\":\"1535\",\"type\":\"Line\"},\"selection_glyph\":null,\"view\":{\"id\":\"1537\",\"type\":\"CDSView\"}},\"id\":\"1536\",\"type\":\"GlyphRenderer\"},{\"attributes\":{\"data_source\":{\"id\":\"1547\",\"type\":\"ColumnDataSource\"},\"glyph\":{\"id\":\"1548\",\"type\":\"Line\"},\"hover_glyph\":null,\"muted_glyph\":null,\"nonselection_glyph\":{\"id\":\"1549\",\"type\":\"Line\"},\"selection_glyph\":null,\"view\":{\"id\":\"1551\",\"type\":\"CDSView\"}},\"id\":\"1550\",\"type\":\"GlyphRenderer\"},{\"attributes\":{\"callback\":null,\"data\":{\"x\":{\"__ndarray__\":\"AAAAAAAAAAD0kcwotrK2P/SRzCi2ssY/d22ZnggG0T/0kcwotrLWP3K2/7JjX9w/d22ZnggG4T+2/7JjX9zjP/SRzCi2suY/MyTm7QyJ6T9ytv+yY1/sP7BIGXi6Ne8/d22ZnggG8T+WNiYBNHHyP7b/smNf3PM/1sg/xopH9T/0kcwotrL2PxNbWYvhHfg/MyTm7QyJ+T9T7XJQOPT6P3K2/7JjX/w/kH+MFY/K/T+wSBl4ujX/P+gIU+1yUABAd22ZnggGAUAG0t9PnrsBQJY2JgE0cQJAJptssskmA0C2/7JjX9wDQEVk+RT1kQRA1sg/xopHBUBlLYZ3IP0FQPSRzCi2sgZAhPYS2ktoB0ATW1mL4R0IQKS/nzx30whAMyTm7QyJCUDCiCyfoj4KQFPtclA49ApA4lG5Ac6pC0Bytv+yY18MQAEbRmT5FA1AkH+MFY/KDUAh5NLGJIAOQLBIGXi6NQ9AQK1fKVDrD0DoCFPtclAQQDA79sU9qxBAd22ZnggGEUC/nzx302ARQAbS30+euxFATwSDKGkWEkCWNiYBNHESQN9oydn+yxJAJptssskmE0BuzQ+LlIETQLb/smNf3BNA/jFWPCo3FEBFZPkU9ZEUQI2WnO2/7BRA1sg/xopHFUAe++KeVaIVQGUthncg/RVArV8pUOtXFkD0kcwotrIWQD3EbwGBDRdAhPYS2ktoF0DMKLayFsMXQBNbWYvhHRhAXI38Y6x4GECkv588d9MYQOzxQhVCLhlAMyTm7QyJGUB7VonG1+MZQMKILJ+iPhpAC7vPd22ZGkBT7XJQOPQaQJsfFikDTxtA4lG5Ac6pG0AqhFzamAQcQHK2/7JjXxxAuuiiiy66HEABG0Zk+RQdQElN6TzEbx1AkH+MFY/KHUDasS/uWSUeQCHk0sYkgB5AaRZ2n+/aHkCwSBl4ujUfQPl6vFCFkB9AQK1fKVDrH0DEbwGBDSMgQOgIU+1yUCBADKKkWdh9IEAwO/bFPasgQFTURzKj2CBAd22ZnggGIUCcBusKbjMhQL+fPHfTYCFA4ziO4ziOIUA=\",\"dtype\":\"float64\",\"shape\":[100]},\"y\":{\"__ndarray__\":\"AAAAAAAAAAAAAAAAAAAAAAAAAAAAAAAAAAAAAAAAAAAAAAAAAAAAAAAAAAAAAAAAAAAAAAAAAAAAAAAAAAAAAAAAAAAAAAAAAAAAAAAAAAAAAAAAAAAAAAAAAAAAAAAAAAAAAAAAAAAAAAAAAAAAAAAAAAAAAAAAAAAAAAAAAAAAAAAAAAAAAAAAAAAAAAAAAAAAAAAAAAAAAAAAAAAAAAAAAAAAAAAAAAAAAAAAAAAAAAAAAAAAAAAAAAAAAAAAAAAAAAAAAAAAAAAAAAAAAAAAAAAAAAAAAAAAAAAAAAAAAAAAAAAAAAAAAAAAAAAAAAAAAAAAAAAAAAAAAAAAAAAAAAAAAAAAAAAAAAAAAAAAAAAAAAAAAAAAAAAAAAAAAAAAAAAAAAAAAAAAAAAAAAAAAAAAAAAAAAAAAAAAAAAAAAAAAAAAAAAAAAAAAAAAAAAAAAAAAAAAAAAAAAAAAAAAAAAAAAAAAAAAAAAAAAAAAAAAAAAAAAAAAAAAAAAAAAAAAAAAAAAAAAAAAAAAAAAAAAAAAAAAAAAAAAAAAAAAAAAAAAAAAAAAAAAAAAAAAAAAAAAAAAAAAAAAAAAAAAAAAAAAAAAAAAAAAAAAAAAAAAAAAAAAAAAAAAAAAAAAAAAAAAAAAAAAAAAAAAAAAAAAAAAAAAAAAAAAAAAAAAAAAAAAAAAAAAAAAAAAAAAAAAAAAAAAAAAAAAAAAAAAAAAAAAAAAAAAAAAAAAAAAAAAAAAAAAAAAAAAAAAAAAAAAAAAAAAAAAAAAAAAAAAAAAAAAAAAAAAAAAAAAAAAAAAAAAAAAAAAAAAAAAAAAAAAAAAAAAAAAAAAAAAAAAAAAAAAAAAAAAAAAAAAAAAAAAAAAAAAAAAAAAAAAAAAAAAAAAAAAAAAAAAAAAAAAAAAAAAAAAAAAAAAAAAAAAAAAAAAAAAAAAAAAAAAAAAAAAAAAAAAAAAAAAAAAAAAAAAAAAAAAAAAAAAAAAAAAAAAAAAAAAAAAAAAAAAAAAAAAAAAAAAAAAAAAAAAAAAAAAAAAAAAAAAAAAAAAAAAAAAAAAA=\",\"dtype\":\"float64\",\"shape\":[100]}},\"selected\":{\"id\":\"1578\",\"type\":\"Selection\"},\"selection_policy\":{\"id\":\"1577\",\"type\":\"UnionRenderers\"}},\"id\":\"1547\",\"type\":\"ColumnDataSource\"},{\"attributes\":{\"line_color\":\"#9367bc\",\"line_width\":2,\"x\":{\"field\":\"x\"},\"y\":{\"field\":\"y\"}},\"id\":\"1564\",\"type\":\"Line\"},{\"attributes\":{\"dimension\":1,\"ticker\":{\"id\":\"1503\",\"type\":\"BasicTicker\"}},\"id\":\"1506\",\"type\":\"Grid\"},{\"attributes\":{\"line_alpha\":0.1,\"line_color\":\"#1f77b4\",\"line_width\":2,\"x\":{\"field\":\"x\"},\"y\":{\"field\":\"y\"}},\"id\":\"1522\",\"type\":\"Line\"},{\"attributes\":{\"line_alpha\":0.1,\"line_color\":\"#1f77b4\",\"line_width\":2,\"x\":{\"field\":\"x\"},\"y\":{\"field\":\"y\"}},\"id\":\"1565\",\"type\":\"Line\"},{\"attributes\":{\"click_policy\":\"hide\",\"items\":[{\"id\":\"1532\",\"type\":\"LegendItem\"},{\"id\":\"1546\",\"type\":\"LegendItem\"},{\"id\":\"1562\",\"type\":\"LegendItem\"},{\"id\":\"1580\",\"type\":\"LegendItem\"}],\"location\":\"bottom_right\"},\"id\":\"1531\",\"type\":\"Legend\"},{\"attributes\":{\"label\":{\"value\":\"atp\"},\"renderers\":[{\"id\":\"1523\",\"type\":\"GlyphRenderer\"}]},\"id\":\"1532\",\"type\":\"LegendItem\"},{\"attributes\":{\"callback\":null,\"data\":{\"x\":{\"__ndarray__\":\"AAAAAAAAAAD0kcwotrK2P/SRzCi2ssY/d22ZnggG0T/0kcwotrLWP3K2/7JjX9w/d22ZnggG4T+2/7JjX9zjP/SRzCi2suY/MyTm7QyJ6T9ytv+yY1/sP7BIGXi6Ne8/d22ZnggG8T+WNiYBNHHyP7b/smNf3PM/1sg/xopH9T/0kcwotrL2PxNbWYvhHfg/MyTm7QyJ+T9T7XJQOPT6P3K2/7JjX/w/kH+MFY/K/T+wSBl4ujX/P+gIU+1yUABAd22ZnggGAUAG0t9PnrsBQJY2JgE0cQJAJptssskmA0C2/7JjX9wDQEVk+RT1kQRA1sg/xopHBUBlLYZ3IP0FQPSRzCi2sgZAhPYS2ktoB0ATW1mL4R0IQKS/nzx30whAMyTm7QyJCUDCiCyfoj4KQFPtclA49ApA4lG5Ac6pC0Bytv+yY18MQAEbRmT5FA1AkH+MFY/KDUAh5NLGJIAOQLBIGXi6NQ9AQK1fKVDrD0DoCFPtclAQQDA79sU9qxBAd22ZnggGEUC/nzx302ARQAbS30+euxFATwSDKGkWEkCWNiYBNHESQN9oydn+yxJAJptssskmE0BuzQ+LlIETQLb/smNf3BNA/jFWPCo3FEBFZPkU9ZEUQI2WnO2/7BRA1sg/xopHFUAe++KeVaIVQGUthncg/RVArV8pUOtXFkD0kcwotrIWQD3EbwGBDRdAhPYS2ktoF0DMKLayFsMXQBNbWYvhHRhAXI38Y6x4GECkv588d9MYQOzxQhVCLhlAMyTm7QyJGUB7VonG1+MZQMKILJ+iPhpAC7vPd22ZGkBT7XJQOPQaQJsfFikDTxtA4lG5Ac6pG0AqhFzamAQcQHK2/7JjXxxAuuiiiy66HEABG0Zk+RQdQElN6TzEbx1AkH+MFY/KHUDasS/uWSUeQCHk0sYkgB5AaRZ2n+/aHkCwSBl4ujUfQPl6vFCFkB9AQK1fKVDrH0DEbwGBDSMgQOgIU+1yUCBADKKkWdh9IEAwO/bFPasgQFTURzKj2CBAd22ZnggGIUCcBusKbjMhQL+fPHfTYCFA4ziO4ziOIUA=\",\"dtype\":\"float64\",\"shape\":[100]},\"y\":{\"__ndarray__\":\"AAAAAAAAJECEuKLq3lUbu4Danrcfl9M6Sbn8bA2W2rmB4ORZcdcauRSbIlfe9S05gLkQiA+AAjlfhlTDW9jGOCBbuSnad1O4kDcmoRKmR7gkMEDu36+nuOSeNUk/Yna4FuGxCCkcSDjOPEadxccXuNeTDD3t4BK4in1/2m048zdJ90lQMazJtywHyBpsreK3qmKYPJhVIbih2hjDNTYwOLQI4/UhJCw4V+mNZoSh8zeLS1uVpT0iOMLN1v/Y1lK41A4l0lNTPLgupDJ6kGlRuKq5JM065SK43ySeKtYA4bebNIP5VrLUNyDYrdhQDQS48Bm99EmJ6jco7rXQ9EkRuH4T0f2QLzs4KFB9JnCzCLgw+fIPf+LrtyBXrsHkqAk4kMGEAu0jArjkx9/eBMhiuMCcg9oAVEw4Qqb0GfGFkTjFbdUIQ/CFOK+ZE7LchoQ4VKibXmFjprhAawnsJjzEuAAPmXw3q5+4wM4KrycoqDiO6xs//I6FOH1bjlLDsY44hW/qoquLnDguBil8V7IxOKroSfYLaGI4XMyjL76bW7hLLMu9+uoPOO0hH0N85ka4kBWFzjYCO7hGVi0v9bJeOAzL5sIUjW2470qV/94zcThA0qdCKp4suIh7JaQBeYi4R2B/BAECoDjZjx1SIF6kuGgHKGvi34s4sp9B613KVrj/bMR9LSQIuJiFiqNzkLw3lou5lAGwmjeMkP/01eOYtwfDQ2HO5Zo36oCItOknuzcMPm7eRwKnN50KrkcuySe30JkM+lRpUDeNY1ess2hKN9ybvvMIjkS3faeCs5Fy6jaAzG8UkPQDN0UGYMxqwPA2cPQvyAvRCbeNaY3gWEH2NtHSnoyahsc2GUD5M1Uo1bYvOvmTEQq3NtpwHj8xNYU2ol4suCvEhbYbai1lmaY7NiJ7Qa0us1A2oxvXebz7Q7a2yiHFYsJUthCffy5EHEo2AIQFwYEDMjZQOjHzaeNNtlCD+16c5WI2CJKMi89xRLbY/EgjMIxytmCE4gmko482Z0i+oi7DorbBFAqBBbmbtiAKZVj41502KlxWsF3IljY=\",\"dtype\":\"float64\",\"shape\":[100]}},\"selected\":{\"id\":\"1544\",\"type\":\"Selection\"},\"selection_policy\":{\"id\":\"1543\",\"type\":\"UnionRenderers\"}},\"id\":\"1520\",\"type\":\"ColumnDataSource\"},{\"attributes\":{\"data_source\":{\"id\":\"1563\",\"type\":\"ColumnDataSource\"},\"glyph\":{\"id\":\"1564\",\"type\":\"Line\"},\"hover_glyph\":null,\"muted_glyph\":null,\"nonselection_glyph\":{\"id\":\"1565\",\"type\":\"Line\"},\"selection_glyph\":null,\"view\":{\"id\":\"1567\",\"type\":\"CDSView\"}},\"id\":\"1566\",\"type\":\"GlyphRenderer\"},{\"attributes\":{\"callback\":null},\"id\":\"1489\",\"type\":\"DataRange1d\"},{\"attributes\":{\"line_alpha\":0.1,\"line_color\":\"#1f77b4\",\"line_width\":2,\"x\":{\"field\":\"x\"},\"y\":{\"field\":\"y\"}},\"id\":\"1549\",\"type\":\"Line\"},{\"attributes\":{},\"id\":\"1498\",\"type\":\"BasicTicker\"},{\"attributes\":{\"source\":{\"id\":\"1563\",\"type\":\"ColumnDataSource\"}},\"id\":\"1567\",\"type\":\"CDSView\"},{\"attributes\":{},\"id\":\"1508\",\"type\":\"WheelZoomTool\"},{\"attributes\":{\"line_color\":\"#1f77b3\",\"line_width\":2,\"x\":{\"field\":\"x\"},\"y\":{\"field\":\"y\"}},\"id\":\"1521\",\"type\":\"Line\"},{\"attributes\":{},\"id\":\"1503\",\"type\":\"BasicTicker\"},{\"attributes\":{},\"id\":\"1577\",\"type\":\"UnionRenderers\"},{\"attributes\":{},\"id\":\"1512\",\"type\":\"HelpTool\"},{\"attributes\":{\"label\":{\"value\":\"bound proton pump\"},\"renderers\":[{\"id\":\"1566\",\"type\":\"GlyphRenderer\"}]},\"id\":\"1580\",\"type\":\"LegendItem\"},{\"attributes\":{},\"id\":\"1578\",\"type\":\"Selection\"},{\"attributes\":{},\"id\":\"1511\",\"type\":\"ResetTool\"},{\"attributes\":{},\"id\":\"1559\",\"type\":\"UnionRenderers\"},{\"attributes\":{},\"id\":\"1624\",\"type\":\"UnionRenderers\"},{\"attributes\":{\"active_drag\":\"auto\",\"active_inspect\":\"auto\",\"active_multi\":null,\"active_scroll\":\"auto\",\"active_tap\":\"auto\",\"tools\":[{\"id\":\"1507\",\"type\":\"PanTool\"},{\"id\":\"1508\",\"type\":\"WheelZoomTool\"},{\"id\":\"1509\",\"type\":\"BoxZoomTool\"},{\"id\":\"1510\",\"type\":\"SaveTool\"},{\"id\":\"1511\",\"type\":\"ResetTool\"},{\"id\":\"1512\",\"type\":\"HelpTool\"}]},\"id\":\"1513\",\"type\":\"Toolbar\"},{\"attributes\":{\"line_alpha\":0.1,\"line_color\":\"#1f77b4\",\"line_width\":2,\"x\":{\"field\":\"x\"},\"y\":{\"field\":\"y\"}},\"id\":\"1535\",\"type\":\"Line\"},{\"attributes\":{},\"id\":\"1625\",\"type\":\"Selection\"},{\"attributes\":{},\"id\":\"1493\",\"type\":\"LinearScale\"},{\"attributes\":{},\"id\":\"1560\",\"type\":\"Selection\"},{\"attributes\":{},\"id\":\"1495\",\"type\":\"LinearScale\"},{\"attributes\":{\"callback\":null,\"data\":{\"x\":{\"__ndarray__\":\"AAAAAAAAAAD0kcwotrK2P/SRzCi2ssY/d22ZnggG0T/0kcwotrLWP3K2/7JjX9w/d22ZnggG4T+2/7JjX9zjP/SRzCi2suY/MyTm7QyJ6T9ytv+yY1/sP7BIGXi6Ne8/d22ZnggG8T+WNiYBNHHyP7b/smNf3PM/1sg/xopH9T/0kcwotrL2PxNbWYvhHfg/MyTm7QyJ+T9T7XJQOPT6P3K2/7JjX/w/kH+MFY/K/T+wSBl4ujX/P+gIU+1yUABAd22ZnggGAUAG0t9PnrsBQJY2JgE0cQJAJptssskmA0C2/7JjX9wDQEVk+RT1kQRA1sg/xopHBUBlLYZ3IP0FQPSRzCi2sgZAhPYS2ktoB0ATW1mL4R0IQKS/nzx30whAMyTm7QyJCUDCiCyfoj4KQFPtclA49ApA4lG5Ac6pC0Bytv+yY18MQAEbRmT5FA1AkH+MFY/KDUAh5NLGJIAOQLBIGXi6NQ9AQK1fKVDrD0DoCFPtclAQQDA79sU9qxBAd22ZnggGEUC/nzx302ARQAbS30+euxFATwSDKGkWEkCWNiYBNHESQN9oydn+yxJAJptssskmE0BuzQ+LlIETQLb/smNf3BNA/jFWPCo3FEBFZPkU9ZEUQI2WnO2/7BRA1sg/xopHFUAe++KeVaIVQGUthncg/RVArV8pUOtXFkD0kcwotrIWQD3EbwGBDRdAhPYS2ktoF0DMKLayFsMXQBNbWYvhHRhAXI38Y6x4GECkv588d9MYQOzxQhVCLhlAMyTm7QyJGUB7VonG1+MZQMKILJ+iPhpAC7vPd22ZGkBT7XJQOPQaQJsfFikDTxtA4lG5Ac6pG0AqhFzamAQcQHK2/7JjXxxAuuiiiy66HEABG0Zk+RQdQElN6TzEbx1AkH+MFY/KHUDasS/uWSUeQCHk0sYkgB5AaRZ2n+/aHkCwSBl4ujUfQPl6vFCFkB9AQK1fKVDrH0DEbwGBDSMgQOgIU+1yUCBADKKkWdh9IEAwO/bFPasgQFTURzKj2CBAd22ZnggGIUCcBusKbjMhQL+fPHfTYCFA4ziO4ziOIUA=\",\"dtype\":\"float64\",\"shape\":[100]},\"y\":{\"__ndarray__\":\"AAAAAAAAAADdN/IJSg/zP2MLSALlHgdAotAsgtTREUABXFxbF4IXQKsQL5tfrRxAfj702+ivIECRs7o7O9IiQPhYxFaqwiRA2OrEZMSFJkCizPcerR8oQEenm3knlClA6eUtep7mKkBf4uw+LRosQOwuv0qmMS1AfaKGJpovLkDrF3VnXRYvQKZcgSgO6C9ABfT4gUxTMECTGEfM3qkwQFUMlFKJ+DBAv4kS4gRAMUA8Iu9n+YAxQGajt3v/uzFAVzzbxaHxMUCT8WFFXiIyQMlIAninTjJA4pzwZuV2MkDnQWKbdpsyQMvYjPywvDJA2+GMmeLaMkADyb5gUvYyQP1NSMZADzNA2iumW+glM0AaHy5ZfjozQEFTAxszTTNAemLPkjJeM0Bs1SWvpG0zQIjCALmtezNAGy8fqW6IM0At8WN1BZQzQPxmZleNnjNAwnc+DB+oM0BzVYwO0bAzQE0V4cu3uDNAiOoD1OW/M0DQyNAEbMYzQO9w57FZzDNADoV2yLzRM0AIi0LwodYzQGbXXKkU2zNA/mOqZh/fM0DGOeamy+IzQHiAIgsi5jNAFNqAairpM0BTA7jk6+szQLktGfNs7jNAYtijd7PwM0CT5sbKxPIzQDUP+cel9DNAxLYs2Vr2M0DL2iMB6PczQFmW3ORQ+TNACGQl1Jj6M0AMHT3RwvszQOvKhpjR/DNAbnfIpcf9M0BIois7p/4zQDHk6GVy/zNA/P85AysANEAeLK7E0gA0QKYUijRrATRAaXUBufUBNEAHmmeXcwI0QDJSWPflAjRA6IyC5U0DNED/qBlWrAM0QOhKAycCBDRAwr7YIVAENEDOUsT9lgQ0QOJQOGHXBDRAFBV54xEFNEAhjvsNRwU0QP3IpV13BTRA7rD0Q6MFNECL/gcoywU0QLJmlWfvBTRAcQTEVxAGNEB0KvZFLgY0QF1we3hJBjRAi8w1L2IGNECIMDSkeAY0QEoSOAyNBjRAuDgxl58GNECJubNwsAY0QGzGU8C/BjRAuFMIqs0GNEC4QH9O2gY0QN1ZasvlBjRAoGnIO/AGNEA=\",\"dtype\":\"float64\",\"shape\":[100]}},\"selected\":{\"id\":\"1625\",\"type\":\"Selection\"},\"selection_policy\":{\"id\":\"1624\",\"type\":\"UnionRenderers\"}},\"id\":\"1563\",\"type\":\"ColumnDataSource\"},{\"attributes\":{},\"id\":\"1544\",\"type\":\"Selection\"},{\"attributes\":{\"label\":{\"value\":\"outside_H\"},\"renderers\":[{\"id\":\"1536\",\"type\":\"GlyphRenderer\"}]},\"id\":\"1546\",\"type\":\"LegendItem\"},{\"attributes\":{\"ticker\":{\"id\":\"1498\",\"type\":\"BasicTicker\"}},\"id\":\"1501\",\"type\":\"Grid\"},{\"attributes\":{\"source\":{\"id\":\"1533\",\"type\":\"ColumnDataSource\"}},\"id\":\"1537\",\"type\":\"CDSView\"},{\"attributes\":{\"overlay\":{\"id\":\"1530\",\"type\":\"BoxAnnotation\"}},\"id\":\"1509\",\"type\":\"BoxZoomTool\"},{\"attributes\":{},\"id\":\"1543\",\"type\":\"UnionRenderers\"},{\"attributes\":{\"line_color\":\"#ff7e0e\",\"line_width\":2,\"x\":{\"field\":\"x\"},\"y\":{\"field\":\"y\"}},\"id\":\"1534\",\"type\":\"Line\"},{\"attributes\":{},\"id\":\"1527\",\"type\":\"BasicTickFormatter\"},{\"attributes\":{\"label\":{\"value\":\"inside_H\"},\"renderers\":[{\"id\":\"1550\",\"type\":\"GlyphRenderer\"}]},\"id\":\"1562\",\"type\":\"LegendItem\"},{\"attributes\":{\"data_source\":{\"id\":\"1520\",\"type\":\"ColumnDataSource\"},\"glyph\":{\"id\":\"1521\",\"type\":\"Line\"},\"hover_glyph\":null,\"muted_glyph\":null,\"nonselection_glyph\":{\"id\":\"1522\",\"type\":\"Line\"},\"selection_glyph\":null,\"view\":{\"id\":\"1524\",\"type\":\"CDSView\"}},\"id\":\"1523\",\"type\":\"GlyphRenderer\"},{\"attributes\":{\"source\":{\"id\":\"1547\",\"type\":\"ColumnDataSource\"}},\"id\":\"1551\",\"type\":\"CDSView\"},{\"attributes\":{},\"id\":\"1507\",\"type\":\"PanTool\"},{\"attributes\":{\"bottom_units\":\"screen\",\"fill_alpha\":{\"value\":0.5},\"fill_color\":{\"value\":\"lightgrey\"},\"left_units\":\"screen\",\"level\":\"overlay\",\"line_alpha\":{\"value\":1.0},\"line_color\":{\"value\":\"black\"},\"line_dash\":[4,4],\"line_width\":{\"value\":2},\"render_mode\":\"css\",\"right_units\":\"screen\",\"top_units\":\"screen\"},\"id\":\"1530\",\"type\":\"BoxAnnotation\"},{\"attributes\":{},\"id\":\"1510\",\"type\":\"SaveTool\"},{\"attributes\":{\"callback\":null},\"id\":\"1491\",\"type\":\"DataRange1d\"},{\"attributes\":{\"text\":\"with Proton Pump\"},\"id\":\"1487\",\"type\":\"Title\"},{\"attributes\":{},\"id\":\"1529\",\"type\":\"BasicTickFormatter\"},{\"attributes\":{\"source\":{\"id\":\"1520\",\"type\":\"ColumnDataSource\"}},\"id\":\"1524\",\"type\":\"CDSView\"},{\"attributes\":{\"axis_label\":\"concentration (nM)\",\"formatter\":{\"id\":\"1529\",\"type\":\"BasicTickFormatter\"},\"ticker\":{\"id\":\"1503\",\"type\":\"BasicTicker\"}},\"id\":\"1502\",\"type\":\"LinearAxis\"}],\"root_ids\":[\"1486\"]},\"title\":\"Bokeh Application\",\"version\":\"1.4.0\"}};\n",
       "  var render_items = [{\"docid\":\"40ea5f1f-de28-42b1-b7b7-d4e9c896a6a5\",\"roots\":{\"1486\":\"aa5c100d-dfb8-42fb-8c24-9cf888ed5e9b\"}}];\n",
       "  root.Bokeh.embed.embed_items_notebook(docs_json, render_items);\n",
       "\n",
       "  }\n",
       "  if (root.Bokeh !== undefined) {\n",
       "    embed_document(root);\n",
       "  } else {\n",
       "    var attempts = 0;\n",
       "    var timer = setInterval(function(root) {\n",
       "      if (root.Bokeh !== undefined) {\n",
       "        clearInterval(timer);\n",
       "        embed_document(root);\n",
       "      } else {\n",
       "        attempts++;\n",
       "        if (attempts > 100) {\n",
       "          clearInterval(timer);\n",
       "          console.log(\"Bokeh: ERROR: Unable to run BokehJS code because BokehJS library is missing\");\n",
       "        }\n",
       "      }\n",
       "    }, 10, root)\n",
       "  }\n",
       "})(window);"
      ],
      "application/vnd.bokehjs_exec.v0+json": ""
     },
     "metadata": {
      "application/vnd.bokehjs_exec.v0+json": {
       "id": "1486"
      }
     },
     "output_type": "display_data"
    }
   ],
   "source": [
    "plt_timepoints = timepoints/60/60\n",
    "\n",
    "p_pp = bokeh.plotting.figure(width = 450, height = 350, title = 'with Proton Pump',\n",
    "                            x_axis_label = 'time (hrs)',\n",
    "                            y_axis_label = 'concentration (nM)')\n",
    "plot_list = [ATP_id, outside_H_id, inside_H_id, proton_pump_b_protein_id]\n",
    "plot_str = ['atp', 'outside_H', 'inside_H', 'bound proton pump']\n",
    "for i,item in enumerate(plot_list):\n",
    "    p_pp.line(plt_timepoints, results[item], line_width = 2, legend_label = plot_str[i], color = palette[i])\n",
    "    \n",
    "p_pp.legend.click_policy = 'hide'\n",
    "p_pp.legend.location = 'bottom_right'\n",
    "bokeh.io.show(p_pp)"
   ]
  },
  {
   "cell_type": "markdown",
   "metadata": {},
   "source": [
    "## Combine atp synthase and proton pump subsystems (with machinery txtl)\n",
    "---"
   ]
  },
  {
   "cell_type": "code",
   "execution_count": 24,
   "metadata": {},
   "outputs": [],
   "source": [
    "entire_subsystem = ss1_atpsyn_txtl + ss2_atpsyn_mi + ss3_atpsynthesis + ss4_atp_use + ss5_pp_txtl + ss6_pp_mi + ss7_protontransport"
   ]
  },
  {
   "cell_type": "code",
   "execution_count": 25,
   "metadata": {},
   "outputs": [],
   "source": [
    "# Initial conditions\n",
    "spec_list_10 = ['dna_proton_pump', 'dna_atpsyn','proton_outside_H', 'metabolite_atp','protein_RNAP_machinery', \n",
    "                'protein_Ribo_machinery', 'protein_RNAse_machinery']\n",
    "for i,spec in enumerate(spec_list_10):\n",
    "    entire_subsystem.setSpeciesAmount(spec,10)\n",
    "\n",
    "\n",
    "# timepoints and get results\n",
    "# timepoints = np.linspace(0,10,100)\n",
    "# results, _ = entire_subsystem.simulateWithBioscrape(timepoints, sbml_warnings = False)\n",
    "\n",
    "# Get species IDs\n",
    "ATP_id3 = entire_subsystem.getSpeciesByName('metabolite_atp').getId()\n",
    "ADP_id = entire_subsystem.getSpeciesByName('metabolite_adp').getId()\n",
    "\n",
    "outside_H_id = entire_subsystem.getSpeciesByName('proton_outside_H').getId()\n",
    "inside_H_id = entire_subsystem.getSpeciesByName('proton_inside_H').getId()\n",
    "\n",
    "proton_pump_b_protein_id = entire_subsystem.getSpeciesByName('protein_proton_pump_b').getId()\n",
    "proton_pump_f_protein_id = entire_subsystem.getSpeciesByName('protein_proton_pump').getId()\n",
    "\n",
    "atp_synthase_b_protein_id = entire_subsystem.getSpeciesByName('protein_atpsyn_b').getId()\n",
    "atp_synthase_f_protein_id = entire_subsystem.getSpeciesByName('protein_atpsyn').getId()\n"
   ]
  },
  {
   "cell_type": "code",
   "execution_count": 26,
   "metadata": {},
   "outputs": [
    {
     "name": "stderr",
     "output_type": "stream",
     "text": [
      "odeint failed with mxstep=500..."
     ]
    }
   ],
   "source": [
    "timepoints = np.linspace(0,31600,100)\n",
    "results_everything, _ = entire_subsystem.simulateWithBioscrape(timepoints, sbml_warnings = False)"
   ]
  },
  {
   "cell_type": "code",
   "execution_count": 27,
   "metadata": {},
   "outputs": [],
   "source": [
    "from bokeh.models.annotations import Title\n",
    "\n"
   ]
  },
  {
   "cell_type": "code",
   "execution_count": 28,
   "metadata": {},
   "outputs": [
    {
     "data": {
      "text/html": [
       "\n",
       "\n",
       "\n",
       "\n",
       "\n",
       "\n",
       "  <div class=\"bk-root\" id=\"da975d41-d464-4e82-a508-de1ac13866e6\" data-root-id=\"2644\"></div>\n"
      ]
     },
     "metadata": {},
     "output_type": "display_data"
    },
    {
     "data": {
      "application/javascript": [
       "(function(root) {\n",
       "  function embed_document(root) {\n",
       "    \n",
       "  var docs_json = {\"735eef45-3b95-46cf-9bc8-73850335ca3f\":{\"roots\":{\"references\":[{\"attributes\":{\"below\":[{\"id\":\"2655\",\"type\":\"LinearAxis\"}],\"center\":[{\"id\":\"2659\",\"type\":\"Grid\"},{\"id\":\"2664\",\"type\":\"Grid\"},{\"id\":\"2689\",\"type\":\"Legend\"}],\"left\":[{\"id\":\"2660\",\"type\":\"LinearAxis\"}],\"plot_height\":350,\"plot_width\":450,\"renderers\":[{\"id\":\"2681\",\"type\":\"GlyphRenderer\"},{\"id\":\"2694\",\"type\":\"GlyphRenderer\"},{\"id\":\"2708\",\"type\":\"GlyphRenderer\"},{\"id\":\"2724\",\"type\":\"GlyphRenderer\"},{\"id\":\"2742\",\"type\":\"GlyphRenderer\"}],\"title\":{\"id\":\"2645\",\"type\":\"Title\"},\"toolbar\":{\"id\":\"2671\",\"type\":\"Toolbar\"},\"x_range\":{\"id\":\"2647\",\"type\":\"DataRange1d\"},\"x_scale\":{\"id\":\"2651\",\"type\":\"LinearScale\"},\"y_range\":{\"id\":\"2649\",\"type\":\"DataRange1d\"},\"y_scale\":{\"id\":\"2653\",\"type\":\"LinearScale\"}},\"id\":\"2644\",\"subtype\":\"Figure\",\"type\":\"Plot\"},{\"attributes\":{\"bottom_units\":\"screen\",\"fill_alpha\":{\"value\":0.5},\"fill_color\":{\"value\":\"lightgrey\"},\"left_units\":\"screen\",\"level\":\"overlay\",\"line_alpha\":{\"value\":1.0},\"line_color\":{\"value\":\"black\"},\"line_dash\":[4,4],\"line_width\":{\"value\":2},\"render_mode\":\"css\",\"right_units\":\"screen\",\"top_units\":\"screen\"},\"id\":\"2688\",\"type\":\"BoxAnnotation\"},{\"attributes\":{},\"id\":\"2670\",\"type\":\"HelpTool\"},{\"attributes\":{\"data_source\":{\"id\":\"2705\",\"type\":\"ColumnDataSource\"},\"glyph\":{\"id\":\"2706\",\"type\":\"Line\"},\"hover_glyph\":null,\"muted_glyph\":null,\"nonselection_glyph\":{\"id\":\"2707\",\"type\":\"Line\"},\"selection_glyph\":null,\"view\":{\"id\":\"2709\",\"type\":\"CDSView\"}},\"id\":\"2708\",\"type\":\"GlyphRenderer\"},{\"attributes\":{\"axis_label\":\"time (hrs)\",\"formatter\":{\"id\":\"2685\",\"type\":\"BasicTickFormatter\"},\"ticker\":{\"id\":\"2656\",\"type\":\"BasicTicker\"}},\"id\":\"2655\",\"type\":\"LinearAxis\"},{\"attributes\":{},\"id\":\"2661\",\"type\":\"BasicTicker\"},{\"attributes\":{},\"id\":\"2735\",\"type\":\"UnionRenderers\"},{\"attributes\":{\"click_policy\":\"hide\",\"items\":[{\"id\":\"2690\",\"type\":\"LegendItem\"},{\"id\":\"2704\",\"type\":\"LegendItem\"},{\"id\":\"2720\",\"type\":\"LegendItem\"},{\"id\":\"2738\",\"type\":\"LegendItem\"},{\"id\":\"2758\",\"type\":\"LegendItem\"}],\"location\":\"center_right\"},\"id\":\"2689\",\"type\":\"Legend\"},{\"attributes\":{\"data_source\":{\"id\":\"2721\",\"type\":\"ColumnDataSource\"},\"glyph\":{\"id\":\"2722\",\"type\":\"Line\"},\"hover_glyph\":null,\"muted_glyph\":null,\"nonselection_glyph\":{\"id\":\"2723\",\"type\":\"Line\"},\"selection_glyph\":null,\"view\":{\"id\":\"2725\",\"type\":\"CDSView\"}},\"id\":\"2724\",\"type\":\"GlyphRenderer\"},{\"attributes\":{\"data_source\":{\"id\":\"2739\",\"type\":\"ColumnDataSource\"},\"glyph\":{\"id\":\"2740\",\"type\":\"Line\"},\"hover_glyph\":null,\"muted_glyph\":null,\"nonselection_glyph\":{\"id\":\"2741\",\"type\":\"Line\"},\"selection_glyph\":null,\"view\":{\"id\":\"2743\",\"type\":\"CDSView\"}},\"id\":\"2742\",\"type\":\"GlyphRenderer\"},{\"attributes\":{\"callback\":null,\"data\":{\"x\":{\"__ndarray__\":\"AAAAAAAAAAD0kcwotrK2P/SRzCi2ssY/d22ZnggG0T/0kcwotrLWP3K2/7JjX9w/d22ZnggG4T+2/7JjX9zjP/SRzCi2suY/MyTm7QyJ6T9ytv+yY1/sP7BIGXi6Ne8/d22ZnggG8T+WNiYBNHHyP7b/smNf3PM/1sg/xopH9T/0kcwotrL2PxNbWYvhHfg/MyTm7QyJ+T9T7XJQOPT6P3K2/7JjX/w/kH+MFY/K/T+wSBl4ujX/P+gIU+1yUABAd22ZnggGAUAG0t9PnrsBQJY2JgE0cQJAJptssskmA0C2/7JjX9wDQEVk+RT1kQRA1sg/xopHBUBlLYZ3IP0FQPSRzCi2sgZAhPYS2ktoB0ATW1mL4R0IQKS/nzx30whAMyTm7QyJCUDCiCyfoj4KQFPtclA49ApA4lG5Ac6pC0Bytv+yY18MQAEbRmT5FA1AkH+MFY/KDUAh5NLGJIAOQLBIGXi6NQ9AQK1fKVDrD0DoCFPtclAQQDA79sU9qxBAd22ZnggGEUC/nzx302ARQAbS30+euxFATwSDKGkWEkCWNiYBNHESQN9oydn+yxJAJptssskmE0BuzQ+LlIETQLb/smNf3BNA/jFWPCo3FEBFZPkU9ZEUQI2WnO2/7BRA1sg/xopHFUAe++KeVaIVQGUthncg/RVArV8pUOtXFkD0kcwotrIWQD3EbwGBDRdAhPYS2ktoF0DMKLayFsMXQBNbWYvhHRhAXI38Y6x4GECkv588d9MYQOzxQhVCLhlAMyTm7QyJGUB7VonG1+MZQMKILJ+iPhpAC7vPd22ZGkBT7XJQOPQaQJsfFikDTxtA4lG5Ac6pG0AqhFzamAQcQHK2/7JjXxxAuuiiiy66HEABG0Zk+RQdQElN6TzEbx1AkH+MFY/KHUDasS/uWSUeQCHk0sYkgB5AaRZ2n+/aHkCwSBl4ujUfQPl6vFCFkB9AQK1fKVDrH0DEbwGBDSMgQOgIU+1yUCBADKKkWdh9IEAwO/bFPasgQFTURzKj2CBAd22ZnggGIUCcBusKbjMhQL+fPHfTYCFA4ziO4ziOIUA=\",\"dtype\":\"float64\",\"shape\":[100]},\"y\":{\"__ndarray__\":\"AAAAAAAAAAD8uWSoNdMFQFVf3cHunSRADBLggwE3NECRdwmkqG8+QIh7OjG5+UNAV77/IeJNSEAXeKsV3jxMQNUQVPXlz09AgbS0qK+HUUCdKxa6dQFTQI91MKW8WFRA4zsy1qqQVUAoz68VHaxWQHatLkKtrVdAqzFUbLiXWEBZJxxkZGxZQKQqvcSkLVpAemo+ij/dWkD7JuU70XxbQMNZYbXQDVxAVwpnl5KRXEDmj7NnTAldQO+w6GgXdl1AF8ogLvPYXUBiHazzxzJeQGjL6cFohF5AUsgFW5XOXkB2SBL/+xFfQDrgXgQ7T19Aa7v3S+KGX0BfBmCTdLlfQA0M1ado519A8M68PpUIYEC6SWgWjhtgQIbfimzLLGBAaznuwHU8YECjTJ/gsUpgQEN5+juhV2BA1yeCNmJjYEA98pxsEG5gQGB1kPXEd2BAjH/0nZaAYEDGfnodmohgQE1Adkfij2BACsQsN4CWYEAFSB14g5xgQISPMCr6oWBAgTM5I/GmYEDQf+IMdKtgQNg9ZYCNr2BAa6oMH0ezYECighqpqbZgQCUSORK9uWBAExgplIi8YECmAM2/Er9gQIELh4xhwWBASVE7ZnrDYEB85BQ6YsVgQGQJF4Idx2BAcS6YT7DIYECMHttUHspgQFpIuu1qy2BAbnGJJ5nMYEA5LTbIq81gQBP3/lSlzmBAysIZGIjPYEDgyTQmVtBgQIbyZmMR0WBAC7CMh7vRYEDOulUiVtJgQOo99J7i0mBAUJxwR2LTYEDbaa9H1tNgQAgLMrA/1GBAcvCYeJ/UYECUcuaB9tRgQBg/kZhF1WBAaGtldo3VYEDs3DbEztVgQPMGbxsK1mBAtfB0B0DWYECQ0fQGcdZgQDJcCY2d1mBAoJpKAsbWYEBoCsTF6tZgQAtn0y0M12BAjgPziCrXYEDQZHIeRtdgQB5zHi9f12BAqjfZ9XXXYEB74COoitdgQNbznHad12BAFuZyja7XYECzTssUvtdgQLH9IDHM12BAGOWZA9nXYEBpJFWq5NdgQLazsUDv12BAW7WO3/jXYEA=\",\"dtype\":\"float64\",\"shape\":[100]}},\"selected\":{\"id\":\"2756\",\"type\":\"Selection\"},\"selection_policy\":{\"id\":\"2755\",\"type\":\"UnionRenderers\"}},\"id\":\"2721\",\"type\":\"ColumnDataSource\"},{\"attributes\":{\"source\":{\"id\":\"2678\",\"type\":\"ColumnDataSource\"}},\"id\":\"2682\",\"type\":\"CDSView\"},{\"attributes\":{\"line_color\":\"#ff7e0e\",\"line_width\":2,\"x\":{\"field\":\"x\"},\"y\":{\"field\":\"y\"}},\"id\":\"2692\",\"type\":\"Line\"},{\"attributes\":{\"overlay\":{\"id\":\"2688\",\"type\":\"BoxAnnotation\"}},\"id\":\"2667\",\"type\":\"BoxZoomTool\"},{\"attributes\":{\"label\":{\"value\":\"bound proton pump\"},\"renderers\":[{\"id\":\"2742\",\"type\":\"GlyphRenderer\"}]},\"id\":\"2758\",\"type\":\"LegendItem\"},{\"attributes\":{},\"id\":\"2685\",\"type\":\"BasicTickFormatter\"},{\"attributes\":{\"line_alpha\":0.1,\"line_color\":\"#1f77b4\",\"line_width\":2,\"x\":{\"field\":\"x\"},\"y\":{\"field\":\"y\"}},\"id\":\"2693\",\"type\":\"Line\"},{\"attributes\":{\"source\":{\"id\":\"2691\",\"type\":\"ColumnDataSource\"}},\"id\":\"2695\",\"type\":\"CDSView\"},{\"attributes\":{},\"id\":\"2702\",\"type\":\"Selection\"},{\"attributes\":{},\"id\":\"3206\",\"type\":\"UnionRenderers\"},{\"attributes\":{\"source\":{\"id\":\"2721\",\"type\":\"ColumnDataSource\"}},\"id\":\"2725\",\"type\":\"CDSView\"},{\"attributes\":{},\"id\":\"2687\",\"type\":\"BasicTickFormatter\"},{\"attributes\":{\"line_alpha\":0.1,\"line_color\":\"#1f77b4\",\"line_width\":2,\"x\":{\"field\":\"x\"},\"y\":{\"field\":\"y\"}},\"id\":\"2723\",\"type\":\"Line\"},{\"attributes\":{\"text\":\"with ATP Synthase, Proton Pump, ATP Use\"},\"id\":\"2645\",\"type\":\"Title\"},{\"attributes\":{\"label\":{\"value\":\"atp\"},\"renderers\":[{\"id\":\"2681\",\"type\":\"GlyphRenderer\"}]},\"id\":\"2690\",\"type\":\"LegendItem\"},{\"attributes\":{},\"id\":\"2717\",\"type\":\"UnionRenderers\"},{\"attributes\":{},\"id\":\"2755\",\"type\":\"UnionRenderers\"},{\"attributes\":{\"callback\":null,\"data\":{\"x\":{\"__ndarray__\":\"AAAAAAAAAAD0kcwotrK2P/SRzCi2ssY/d22ZnggG0T/0kcwotrLWP3K2/7JjX9w/d22ZnggG4T+2/7JjX9zjP/SRzCi2suY/MyTm7QyJ6T9ytv+yY1/sP7BIGXi6Ne8/d22ZnggG8T+WNiYBNHHyP7b/smNf3PM/1sg/xopH9T/0kcwotrL2PxNbWYvhHfg/MyTm7QyJ+T9T7XJQOPT6P3K2/7JjX/w/kH+MFY/K/T+wSBl4ujX/P+gIU+1yUABAd22ZnggGAUAG0t9PnrsBQJY2JgE0cQJAJptssskmA0C2/7JjX9wDQEVk+RT1kQRA1sg/xopHBUBlLYZ3IP0FQPSRzCi2sgZAhPYS2ktoB0ATW1mL4R0IQKS/nzx30whAMyTm7QyJCUDCiCyfoj4KQFPtclA49ApA4lG5Ac6pC0Bytv+yY18MQAEbRmT5FA1AkH+MFY/KDUAh5NLGJIAOQLBIGXi6NQ9AQK1fKVDrD0DoCFPtclAQQDA79sU9qxBAd22ZnggGEUC/nzx302ARQAbS30+euxFATwSDKGkWEkCWNiYBNHESQN9oydn+yxJAJptssskmE0BuzQ+LlIETQLb/smNf3BNA/jFWPCo3FEBFZPkU9ZEUQI2WnO2/7BRA1sg/xopHFUAe++KeVaIVQGUthncg/RVArV8pUOtXFkD0kcwotrIWQD3EbwGBDRdAhPYS2ktoF0DMKLayFsMXQBNbWYvhHRhAXI38Y6x4GECkv588d9MYQOzxQhVCLhlAMyTm7QyJGUB7VonG1+MZQMKILJ+iPhpAC7vPd22ZGkBT7XJQOPQaQJsfFikDTxtA4lG5Ac6pG0AqhFzamAQcQHK2/7JjXxxAuuiiiy66HEABG0Zk+RQdQElN6TzEbx1AkH+MFY/KHUDasS/uWSUeQCHk0sYkgB5AaRZ2n+/aHkCwSBl4ujUfQPl6vFCFkB9AQK1fKVDrH0DEbwGBDSMgQOgIU+1yUCBADKKkWdh9IEAwO/bFPasgQFTURzKj2CBAd22ZnggGIUCcBusKbjMhQL+fPHfTYCFA4ziO4ziOIUA=\",\"dtype\":\"float64\",\"shape\":[100]},\"y\":{\"__ndarray__\":\"AAAAAAAAJEA7ocBwY3UFQNrcVPwiTOw/W9HxMOMq3j9rccPs1FvUP/3nxgXEQc8/VIpNHVPNyT/TGoiNNUXGPxhlO8WLzsM/3cW0+Wr/wT/E2R77Up7AP0m34TOzEr8/xouKWWRWvT/QuwZ0nuu7P68kxzYWv7o/5hlPixvDuT8gywRms+24P36LEYZqN7g/IVwnNJSatz8vpj1cyhK3Py2KbY6WnLY/Q66gdjU1tj/Ojayka9q1P6AGLbdmirU/nRw4DKZDtT99My3F6QS1P/bhH7wlzbQ/+v2+iXebtD+utwzGHm+0P/coy/V2R7Q/DfBvuvIjtD9mJj36FwS0PyFVrsV857M/GcyQxcTNsz+ybQ1mn7azP4rnAfrFobM/p0KK8fmOsz9y6QRvBH6zP41IcMy0brM/ssfQ499gsz+pfJ1aX1SzPw5kVgcRSbM/M9NNdNY+sz9Mqj1glDWzP3kJhYMyLbM/HHwq0Jolsz+dJNfcuR6zP5kmIP99GLM/yWD6YNcSsz+hws3Btw2zP7GqrEoSCbM/Uf0gaNsEsz+sHHGoCAGzP8O9yp2Q/bI/1q24w2r6sj8l2oBnj/eyP85nXpP39LI/H0Zv+Jzysj8iiZbOefCyP0k2KoeJ7rI/EpQAO8bssj++h+K0LOuyPySqJdC46bI/W1WcEmfosj/MjkhVNOeyP09aObwd5rI/Z3G0ryDlsj//t6PVOuSyP/YCtwtq47I/usY7Yqzisj+0mlkXAOKyP/BgxJJj4bI/lsPcYdXgsj9nUy80VOCyP2IuR9je37I/ThLLOHTfsj+ynOVZE9+yP6ii5la73rI/EHYeYGvesj/Ia++4It6yPyseDLbg3bI/TvLZu6Tdsj94mwc9bt2yP1AjNLk83bI/NxXDuw/dsj9dWMXa5tyyP7Ym/7XB3LI/8QAF9p/csj8g3mhLgdyyP+1QCm5l3LI/EBtNHEzcsj8X3LEaNdyyP/0nGzMg3LI/c4I4NA3csj+VSqzy+9uyPzxrkT7s27I/+8vU8d3bsj95EHUP0duyPxauaErF27I/HV0Nmrrbsj8=\",\"dtype\":\"float64\",\"shape\":[100]}},\"selected\":{\"id\":\"2718\",\"type\":\"Selection\"},\"selection_policy\":{\"id\":\"2717\",\"type\":\"UnionRenderers\"}},\"id\":\"2691\",\"type\":\"ColumnDataSource\"},{\"attributes\":{},\"id\":\"2718\",\"type\":\"Selection\"},{\"attributes\":{\"line_color\":\"#8c564b\",\"line_width\":2,\"x\":{\"field\":\"x\"},\"y\":{\"field\":\"y\"}},\"id\":\"2740\",\"type\":\"Line\"},{\"attributes\":{\"label\":{\"value\":\"bound atp synthase\"},\"renderers\":[{\"id\":\"2724\",\"type\":\"GlyphRenderer\"}]},\"id\":\"2738\",\"type\":\"LegendItem\"},{\"attributes\":{},\"id\":\"2668\",\"type\":\"SaveTool\"},{\"attributes\":{\"ticker\":{\"id\":\"2656\",\"type\":\"BasicTicker\"}},\"id\":\"2659\",\"type\":\"Grid\"},{\"attributes\":{\"line_alpha\":0.1,\"line_color\":\"#1f77b4\",\"line_width\":2,\"x\":{\"field\":\"x\"},\"y\":{\"field\":\"y\"}},\"id\":\"2741\",\"type\":\"Line\"},{\"attributes\":{\"label\":{\"value\":\"outside_H\"},\"renderers\":[{\"id\":\"2694\",\"type\":\"GlyphRenderer\"}]},\"id\":\"2704\",\"type\":\"LegendItem\"},{\"attributes\":{\"callback\":null},\"id\":\"2649\",\"type\":\"DataRange1d\"},{\"attributes\":{\"line_color\":\"#1f77b3\",\"line_width\":2,\"x\":{\"field\":\"x\"},\"y\":{\"field\":\"y\"}},\"id\":\"2679\",\"type\":\"Line\"},{\"attributes\":{\"line_color\":\"#9367bc\",\"line_width\":2,\"x\":{\"field\":\"x\"},\"y\":{\"field\":\"y\"}},\"id\":\"2722\",\"type\":\"Line\"},{\"attributes\":{\"line_alpha\":0.1,\"line_color\":\"#1f77b4\",\"line_width\":2,\"x\":{\"field\":\"x\"},\"y\":{\"field\":\"y\"}},\"id\":\"2707\",\"type\":\"Line\"},{\"attributes\":{\"callback\":null,\"data\":{\"x\":{\"__ndarray__\":\"AAAAAAAAAAD0kcwotrK2P/SRzCi2ssY/d22ZnggG0T/0kcwotrLWP3K2/7JjX9w/d22ZnggG4T+2/7JjX9zjP/SRzCi2suY/MyTm7QyJ6T9ytv+yY1/sP7BIGXi6Ne8/d22ZnggG8T+WNiYBNHHyP7b/smNf3PM/1sg/xopH9T/0kcwotrL2PxNbWYvhHfg/MyTm7QyJ+T9T7XJQOPT6P3K2/7JjX/w/kH+MFY/K/T+wSBl4ujX/P+gIU+1yUABAd22ZnggGAUAG0t9PnrsBQJY2JgE0cQJAJptssskmA0C2/7JjX9wDQEVk+RT1kQRA1sg/xopHBUBlLYZ3IP0FQPSRzCi2sgZAhPYS2ktoB0ATW1mL4R0IQKS/nzx30whAMyTm7QyJCUDCiCyfoj4KQFPtclA49ApA4lG5Ac6pC0Bytv+yY18MQAEbRmT5FA1AkH+MFY/KDUAh5NLGJIAOQLBIGXi6NQ9AQK1fKVDrD0DoCFPtclAQQDA79sU9qxBAd22ZnggGEUC/nzx302ARQAbS30+euxFATwSDKGkWEkCWNiYBNHESQN9oydn+yxJAJptssskmE0BuzQ+LlIETQLb/smNf3BNA/jFWPCo3FEBFZPkU9ZEUQI2WnO2/7BRA1sg/xopHFUAe++KeVaIVQGUthncg/RVArV8pUOtXFkD0kcwotrIWQD3EbwGBDRdAhPYS2ktoF0DMKLayFsMXQBNbWYvhHRhAXI38Y6x4GECkv588d9MYQOzxQhVCLhlAMyTm7QyJGUB7VonG1+MZQMKILJ+iPhpAC7vPd22ZGkBT7XJQOPQaQJsfFikDTxtA4lG5Ac6pG0AqhFzamAQcQHK2/7JjXxxAuuiiiy66HEABG0Zk+RQdQElN6TzEbx1AkH+MFY/KHUDasS/uWSUeQCHk0sYkgB5AaRZ2n+/aHkCwSBl4ujUfQPl6vFCFkB9AQK1fKVDrH0DEbwGBDSMgQOgIU+1yUCBADKKkWdh9IEAwO/bFPasgQFTURzKj2CBAd22ZnggGIUCcBusKbjMhQL+fPHfTYCFA4ziO4ziOIUA=\",\"dtype\":\"float64\",\"shape\":[100]},\"y\":{\"__ndarray__\":\"AAAAAAAAAACsumSoNdMFQBFg3cHunSRAzxLggwE3NEC+eAmkqG8+QFF8OjG5+UNAUL//IeJNSEA6easV3jxMQCMSVPXlz09AO7W0qK+HUUBnLBa6dQFTQGd2MKW8WFRAyjwy1qqQVUAd0K8VHaxWQHmuLkKtrVdAuDJUbLiXWEBvKBxkZGxZQMYrvcSkLVpApGs+ij/dWkAtKOU70XxbQPtaYbXQDVxAlQtnl5KRXEArkbNnTAldQDmy6GgXdl1AZcsgLvPYXUC0HqzzxzJeQL7M6cFohF5ArMkFW5XOXkDSSRL/+xFfQJnhXgQ7T19AzLz3S+KGX0DCB2CTdLlfQHMN1ado519ApM+8PpUIYEBvSmgWjhtgQDzgimzLLGBAIjruwHU8YEBaTZ/gsUpgQPt5+juhV2BAjyiCNmJjYED28pxsEG5gQBl2kPXEd2BARYD0nZaAYEB+f3odmohgQAdBdkfij2BAxMQsN4CWYEC/SB14g5xgQD6QMCr6oWBAOzQ5I/GmYECKgOIMdKtgQJI+ZYCNr2BAJasMH0ezYEBcgxqpqbZgQN8SORK9uWBAzRgplIi8YEBgAc2/Er9gQDsMh4xhwWBAA1I7ZnrDYEA25RQ6YsVgQB4KF4Idx2BAKy+YT7DIYEBGH9tUHspgQBRJuu1qy2BAKHKJJ5nMYEDzLTbIq81gQM33/lSlzmBAhMMZGIjPYECayjQmVtBgQEDzZmMR0WBAxbCMh7vRYECIu1UiVtJgQKQ+9J7i0mBACp1wR2LTYECVaq9H1tNgQMILMrA/1GBALPGYeJ/UYEBOc+aB9tRgQNI/kZhF1WBAImxldo3VYECm3TbEztVgQK0HbxsK1mBAb/F0B0DWYEBK0vQGcdZgQOxcCY2d1mBAWptKAsbWYEAiC8TF6tZgQMVn0y0M12BASATziCrXYECKZXIeRtdgQNhzHi9f12BAZDjZ9XXXYEA14SOoitdgQJD0nHad12BA0OZyja7XYEBtT8sUvtdgQGv+IDHM12BA0uWZA9nXYEAjJVWq5NdgQHC0sUDv12BAFbaO3/jXYEA=\",\"dtype\":\"float64\",\"shape\":[100]}},\"selected\":{\"id\":\"3207\",\"type\":\"Selection\"},\"selection_policy\":{\"id\":\"3206\",\"type\":\"UnionRenderers\"}},\"id\":\"2739\",\"type\":\"ColumnDataSource\"},{\"attributes\":{\"source\":{\"id\":\"2739\",\"type\":\"ColumnDataSource\"}},\"id\":\"2743\",\"type\":\"CDSView\"},{\"attributes\":{},\"id\":\"2669\",\"type\":\"ResetTool\"},{\"attributes\":{\"callback\":null,\"data\":{\"x\":{\"__ndarray__\":\"AAAAAAAAAAD0kcwotrK2P/SRzCi2ssY/d22ZnggG0T/0kcwotrLWP3K2/7JjX9w/d22ZnggG4T+2/7JjX9zjP/SRzCi2suY/MyTm7QyJ6T9ytv+yY1/sP7BIGXi6Ne8/d22ZnggG8T+WNiYBNHHyP7b/smNf3PM/1sg/xopH9T/0kcwotrL2PxNbWYvhHfg/MyTm7QyJ+T9T7XJQOPT6P3K2/7JjX/w/kH+MFY/K/T+wSBl4ujX/P+gIU+1yUABAd22ZnggGAUAG0t9PnrsBQJY2JgE0cQJAJptssskmA0C2/7JjX9wDQEVk+RT1kQRA1sg/xopHBUBlLYZ3IP0FQPSRzCi2sgZAhPYS2ktoB0ATW1mL4R0IQKS/nzx30whAMyTm7QyJCUDCiCyfoj4KQFPtclA49ApA4lG5Ac6pC0Bytv+yY18MQAEbRmT5FA1AkH+MFY/KDUAh5NLGJIAOQLBIGXi6NQ9AQK1fKVDrD0DoCFPtclAQQDA79sU9qxBAd22ZnggGEUC/nzx302ARQAbS30+euxFATwSDKGkWEkCWNiYBNHESQN9oydn+yxJAJptssskmE0BuzQ+LlIETQLb/smNf3BNA/jFWPCo3FEBFZPkU9ZEUQI2WnO2/7BRA1sg/xopHFUAe++KeVaIVQGUthncg/RVArV8pUOtXFkD0kcwotrIWQD3EbwGBDRdAhPYS2ktoF0DMKLayFsMXQBNbWYvhHRhAXI38Y6x4GECkv588d9MYQOzxQhVCLhlAMyTm7QyJGUB7VonG1+MZQMKILJ+iPhpAC7vPd22ZGkBT7XJQOPQaQJsfFikDTxtA4lG5Ac6pG0AqhFzamAQcQHK2/7JjXxxAuuiiiy66HEABG0Zk+RQdQElN6TzEbx1AkH+MFY/KHUDasS/uWSUeQCHk0sYkgB5AaRZ2n+/aHkCwSBl4ujUfQPl6vFCFkB9AQK1fKVDrH0DEbwGBDSMgQOgIU+1yUCBADKKkWdh9IEAwO/bFPasgQFTURzKj2CBAd22ZnggGIUCcBusKbjMhQL+fPHfTYCFA4ziO4ziOIUA=\",\"dtype\":\"float64\",\"shape\":[100]},\"y\":{\"__ndarray__\":\"AAAAAAAAJEDx//////8fQPH//////x9A9v//////H0Dy//////8fQPX//////x9A9f//////H0Dw//////8fQPH//////x9A9P//////H0D2//////8fQPX//////x9A8///////H0Dy//////8fQPL//////x9A8///////H0Dy//////8fQPP//////x9A8v//////H0Dy//////8fQPH//////x9A4v//////H0Dx//////8fQPD//////x9A8P//////H0Dw//////8fQPD//////x9A8P//////H0Dw//////8fQPD//////x9A8P//////H0Dw//////8fQO7//////x9A3f//////H0Du//////8fQPH//////x9A8f//////H0Dw//////8fQO7//////x9A8///////H0Dz//////8fQN3//////x9A9f//////H0Co//////8fQGYAAAAAACBA6f//////H0Dr//////8fQOj//////x9A6P//////H0Dp//////8fQOn//////x9A6f//////H0Dp//////8fQOj//////x9A6P//////H0Dm//////8fQNf//////x9AEAAAAAAAIEDbAQAAAAAgQJT0/////x9A6P//////H0Dp//////8fQOn//////x9A6f//////H0Dp//////8fQOn//////x9A6f//////H0Dp//////8fQOn//////x9A6f//////H0Dp//////8fQOn//////x9A6f//////H0Do//////8fQOj//////x9A6P//////H0Do//////8fQOj//////x9A6f//////H0Dj//////8fQPH//////x9A4f//////H0Dk//////8fQOT//////x9A5v//////H0Dl//////8fQOP//////x9A7f//////H0DO//////8fQAkAAAAAACBAmP//////H0B///////8fQKH//////x9AI/3/////H0BvCAAAAAAgQAWv/////x9Af8D+////H0AFAAAAAAAgQKbw/////x9ACQAAAAAAIEA=\",\"dtype\":\"float64\",\"shape\":[100]}},\"selected\":{\"id\":\"2702\",\"type\":\"Selection\"},\"selection_policy\":{\"id\":\"2701\",\"type\":\"UnionRenderers\"}},\"id\":\"2678\",\"type\":\"ColumnDataSource\"},{\"attributes\":{},\"id\":\"2666\",\"type\":\"WheelZoomTool\"},{\"attributes\":{},\"id\":\"2656\",\"type\":\"BasicTicker\"},{\"attributes\":{},\"id\":\"2736\",\"type\":\"Selection\"},{\"attributes\":{\"axis_label\":\"concentration (nM)\",\"formatter\":{\"id\":\"2687\",\"type\":\"BasicTickFormatter\"},\"ticker\":{\"id\":\"2661\",\"type\":\"BasicTicker\"}},\"id\":\"2660\",\"type\":\"LinearAxis\"},{\"attributes\":{\"callback\":null,\"data\":{\"x\":{\"__ndarray__\":\"AAAAAAAAAAD0kcwotrK2P/SRzCi2ssY/d22ZnggG0T/0kcwotrLWP3K2/7JjX9w/d22ZnggG4T+2/7JjX9zjP/SRzCi2suY/MyTm7QyJ6T9ytv+yY1/sP7BIGXi6Ne8/d22ZnggG8T+WNiYBNHHyP7b/smNf3PM/1sg/xopH9T/0kcwotrL2PxNbWYvhHfg/MyTm7QyJ+T9T7XJQOPT6P3K2/7JjX/w/kH+MFY/K/T+wSBl4ujX/P+gIU+1yUABAd22ZnggGAUAG0t9PnrsBQJY2JgE0cQJAJptssskmA0C2/7JjX9wDQEVk+RT1kQRA1sg/xopHBUBlLYZ3IP0FQPSRzCi2sgZAhPYS2ktoB0ATW1mL4R0IQKS/nzx30whAMyTm7QyJCUDCiCyfoj4KQFPtclA49ApA4lG5Ac6pC0Bytv+yY18MQAEbRmT5FA1AkH+MFY/KDUAh5NLGJIAOQLBIGXi6NQ9AQK1fKVDrD0DoCFPtclAQQDA79sU9qxBAd22ZnggGEUC/nzx302ARQAbS30+euxFATwSDKGkWEkCWNiYBNHESQN9oydn+yxJAJptssskmE0BuzQ+LlIETQLb/smNf3BNA/jFWPCo3FEBFZPkU9ZEUQI2WnO2/7BRA1sg/xopHFUAe++KeVaIVQGUthncg/RVArV8pUOtXFkD0kcwotrIWQD3EbwGBDRdAhPYS2ktoF0DMKLayFsMXQBNbWYvhHRhAXI38Y6x4GECkv588d9MYQOzxQhVCLhlAMyTm7QyJGUB7VonG1+MZQMKILJ+iPhpAC7vPd22ZGkBT7XJQOPQaQJsfFikDTxtA4lG5Ac6pG0AqhFzamAQcQHK2/7JjXxxAuuiiiy66HEABG0Zk+RQdQElN6TzEbx1AkH+MFY/KHUDasS/uWSUeQCHk0sYkgB5AaRZ2n+/aHkCwSBl4ujUfQPl6vFCFkB9AQK1fKVDrH0DEbwGBDSMgQOgIU+1yUCBADKKkWdh9IEAwO/bFPasgQFTURzKj2CBAd22ZnggGIUCcBusKbjMhQL+fPHfTYCFA4ziO4ziOIUA=\",\"dtype\":\"float64\",\"shape\":[100]},\"y\":{\"__ndarray__\":\"AAAAAAAAAABnr59HTkUdQDiyOtA9OyJAenF45qgOI0B45JlYIV0jQGnk6O/4giNA4MmKs8qYI0Cg38kp66YjQHkS69DFsCNA8ywZVAK4I0CihBO0hr0jQJs8mJnawSNA8upMN1PFI0CT8hfDKMgjQMJxktOByiNA2GHpyHnMI0B19jOZJM4jQPTc8yqRzyNAU7GX18rQI0DAhEdr2tEjQPck49LG0iNArr4SlZXTI0DuprYoS9QjQPylkTLr1CNAz4/ns3jVI0ChpXUs9tUjQETAh7Rl1iNADILsEMnWI0CZ5nPCIdcjQLZpFBJx1yNAJyCLGrjXI0C5hQvQ99cjQFyjdAYx2CNAbt50dmTYI0Ar5TPBktgjQDj8C3S82CNAguscDOLYI0A09iH3A9kjQHYfZ5Yi2SNAeV44QD7ZI0AOxUpBV9kjQEBT8d1t2SNAYWQXU4LZI0CyhD/XlNkjQPP1+Jql2SNADatfyrTZI0C8UUaMwtkjQLe/AQTP2SNAQws+UdrZI0B+ZHyQ5NkjQK6matvt2SNACb4vSfbZI0DKHa/u/dkjQIlqxN4E2iNAqY54KgvaI0BS/jDhENojQDZD2RAW2iNAeiEPxhraI0D10mIMH9ojQJqr8ewi2iNA4f6JcybaI0D4OpamKdojQLK0X44s2iNAXMfaMS/aI0DpblWXMdojQFGNh8Qz2iNAJJegvjXaI0CXuFSKN9ojQAGS6Cs52iNAeYg7pzraI0DQTNH/O9ojQER32jg92iNAgEY8VT7aI0BgoZdXP9ojQKtxT0JA2iNA42mOF0HaI0DPNEzZQdojQMIyUolC2iNAG8M/KUPaI0AvIY66Q9ojQMrnkz5E2iNAIUyItkTaI0DQ8IUjRdojQMCXjYZF2iNA3HmI4EXaI0BVdUoyRtojQLgBlHxG2iNAA/YTwEbaI0BJLmn9RtojQGPrIzVH2iNAz2XHZ0faI0BNnMqVR9ojQLXJmb9H2iNAAI+X5UfaI0BwpxoISNojQC/dgidI2iNAbVYcREjaI0DlFeFdSNojQKoua3VI2iNATeXLikjaI0A=\",\"dtype\":\"float64\",\"shape\":[100]}},\"selected\":{\"id\":\"2736\",\"type\":\"Selection\"},\"selection_policy\":{\"id\":\"2735\",\"type\":\"UnionRenderers\"}},\"id\":\"2705\",\"type\":\"ColumnDataSource\"},{\"attributes\":{},\"id\":\"2665\",\"type\":\"PanTool\"},{\"attributes\":{\"dimension\":1,\"ticker\":{\"id\":\"2661\",\"type\":\"BasicTicker\"}},\"id\":\"2664\",\"type\":\"Grid\"},{\"attributes\":{\"source\":{\"id\":\"2705\",\"type\":\"ColumnDataSource\"}},\"id\":\"2709\",\"type\":\"CDSView\"},{\"attributes\":{\"data_source\":{\"id\":\"2678\",\"type\":\"ColumnDataSource\"},\"glyph\":{\"id\":\"2679\",\"type\":\"Line\"},\"hover_glyph\":null,\"muted_glyph\":null,\"nonselection_glyph\":{\"id\":\"2680\",\"type\":\"Line\"},\"selection_glyph\":null,\"view\":{\"id\":\"2682\",\"type\":\"CDSView\"}},\"id\":\"2681\",\"type\":\"GlyphRenderer\"},{\"attributes\":{},\"id\":\"2653\",\"type\":\"LinearScale\"},{\"attributes\":{\"line_color\":\"#2ba02b\",\"line_width\":2,\"x\":{\"field\":\"x\"},\"y\":{\"field\":\"y\"}},\"id\":\"2706\",\"type\":\"Line\"},{\"attributes\":{},\"id\":\"2701\",\"type\":\"UnionRenderers\"},{\"attributes\":{\"data_source\":{\"id\":\"2691\",\"type\":\"ColumnDataSource\"},\"glyph\":{\"id\":\"2692\",\"type\":\"Line\"},\"hover_glyph\":null,\"muted_glyph\":null,\"nonselection_glyph\":{\"id\":\"2693\",\"type\":\"Line\"},\"selection_glyph\":null,\"view\":{\"id\":\"2695\",\"type\":\"CDSView\"}},\"id\":\"2694\",\"type\":\"GlyphRenderer\"},{\"attributes\":{},\"id\":\"2651\",\"type\":\"LinearScale\"},{\"attributes\":{\"label\":{\"value\":\"inside_H\"},\"renderers\":[{\"id\":\"2708\",\"type\":\"GlyphRenderer\"}]},\"id\":\"2720\",\"type\":\"LegendItem\"},{\"attributes\":{},\"id\":\"2756\",\"type\":\"Selection\"},{\"attributes\":{\"callback\":null},\"id\":\"2647\",\"type\":\"DataRange1d\"},{\"attributes\":{},\"id\":\"3207\",\"type\":\"Selection\"},{\"attributes\":{\"active_drag\":\"auto\",\"active_inspect\":\"auto\",\"active_multi\":null,\"active_scroll\":\"auto\",\"active_tap\":\"auto\",\"tools\":[{\"id\":\"2665\",\"type\":\"PanTool\"},{\"id\":\"2666\",\"type\":\"WheelZoomTool\"},{\"id\":\"2667\",\"type\":\"BoxZoomTool\"},{\"id\":\"2668\",\"type\":\"SaveTool\"},{\"id\":\"2669\",\"type\":\"ResetTool\"},{\"id\":\"2670\",\"type\":\"HelpTool\"}]},\"id\":\"2671\",\"type\":\"Toolbar\"},{\"attributes\":{\"line_alpha\":0.1,\"line_color\":\"#1f77b4\",\"line_width\":2,\"x\":{\"field\":\"x\"},\"y\":{\"field\":\"y\"}},\"id\":\"2680\",\"type\":\"Line\"}],\"root_ids\":[\"2644\"]},\"title\":\"Bokeh Application\",\"version\":\"1.4.0\"}};\n",
       "  var render_items = [{\"docid\":\"735eef45-3b95-46cf-9bc8-73850335ca3f\",\"roots\":{\"2644\":\"da975d41-d464-4e82-a508-de1ac13866e6\"}}];\n",
       "  root.Bokeh.embed.embed_items_notebook(docs_json, render_items);\n",
       "\n",
       "  }\n",
       "  if (root.Bokeh !== undefined) {\n",
       "    embed_document(root);\n",
       "  } else {\n",
       "    var attempts = 0;\n",
       "    var timer = setInterval(function(root) {\n",
       "      if (root.Bokeh !== undefined) {\n",
       "        clearInterval(timer);\n",
       "        embed_document(root);\n",
       "      } else {\n",
       "        attempts++;\n",
       "        if (attempts > 100) {\n",
       "          clearInterval(timer);\n",
       "          console.log(\"Bokeh: ERROR: Unable to run BokehJS code because BokehJS library is missing\");\n",
       "        }\n",
       "      }\n",
       "    }, 10, root)\n",
       "  }\n",
       "})(window);"
      ],
      "application/vnd.bokehjs_exec.v0+json": ""
     },
     "metadata": {
      "application/vnd.bokehjs_exec.v0+json": {
       "id": "2644"
      }
     },
     "output_type": "display_data"
    },
    {
     "data": {
      "text/html": [
       "\n",
       "\n",
       "\n",
       "\n",
       "\n",
       "\n",
       "  <div class=\"bk-root\" id=\"7b048127-5254-4359-aece-bfa9860705fc\" data-root-id=\"1178\"></div>\n"
      ]
     },
     "metadata": {},
     "output_type": "display_data"
    },
    {
     "data": {
      "application/javascript": [
       "(function(root) {\n",
       "  function embed_document(root) {\n",
       "    \n",
       "  var docs_json = {\"775de876-3237-455e-8159-b0c3426b6b61\":{\"roots\":{\"references\":[{\"attributes\":{\"below\":[{\"id\":\"1189\",\"type\":\"LinearAxis\"}],\"center\":[{\"id\":\"1193\",\"type\":\"Grid\"},{\"id\":\"1198\",\"type\":\"Grid\"},{\"id\":\"1223\",\"type\":\"Legend\"}],\"left\":[{\"id\":\"1194\",\"type\":\"LinearAxis\"}],\"plot_height\":350,\"plot_width\":450,\"renderers\":[{\"id\":\"1215\",\"type\":\"GlyphRenderer\"},{\"id\":\"1228\",\"type\":\"GlyphRenderer\"},{\"id\":\"1829\",\"type\":\"GlyphRenderer\"},{\"id\":\"2762\",\"type\":\"GlyphRenderer\"}],\"title\":{\"id\":\"2984\",\"type\":\"Title\"},\"toolbar\":{\"id\":\"1205\",\"type\":\"Toolbar\"},\"x_range\":{\"id\":\"1181\",\"type\":\"DataRange1d\"},\"x_scale\":{\"id\":\"1185\",\"type\":\"LinearScale\"},\"y_range\":{\"id\":\"1183\",\"type\":\"DataRange1d\"},\"y_scale\":{\"id\":\"1187\",\"type\":\"LinearScale\"}},\"id\":\"1178\",\"subtype\":\"Figure\",\"type\":\"Plot\"},{\"attributes\":{\"active_drag\":\"auto\",\"active_inspect\":\"auto\",\"active_multi\":null,\"active_scroll\":\"auto\",\"active_tap\":\"auto\",\"tools\":[{\"id\":\"1199\",\"type\":\"PanTool\"},{\"id\":\"1200\",\"type\":\"WheelZoomTool\"},{\"id\":\"1201\",\"type\":\"BoxZoomTool\"},{\"id\":\"1202\",\"type\":\"SaveTool\"},{\"id\":\"1203\",\"type\":\"ResetTool\"},{\"id\":\"1204\",\"type\":\"HelpTool\"}]},\"id\":\"1205\",\"type\":\"Toolbar\"},{\"attributes\":{\"callback\":null,\"data\":{\"x\":{\"__ndarray__\":\"AAAAAAAAAABIzNsZEvNzQEjM2xkS84NAbLLJJpvsjUBIzNsZEvOTQFq/UqDW75hAbLLJJpvsnUC/UqDWr3ShQEjM2xkS86NA0UUXXXRxpkBav1Kg1u+oQOM4juM4bqtAbLLJJpvsrUD6lQK1fjWwQL9SoNavdLFAhA8++OCzskBIzNsZEvOzQAyJeTtDMrVA0UUXXXRxtkCWArV+pbC3QFq/UqDW77hAHnzwwQcvukDjOI7jOG67QKj1KwVqrbxAbLLJJpvsvUAwb2dIzCu/QPqVArV+NcBAXXTRRRfVwEC/UqDWr3TBQCExb2dIFMJAhA8++OCzwkDm7QyJeVPDQEjM2xkS88NAqqqqqqqSxEAMiXk7QzLFQG9nSMzb0cVA0UUXXXRxxkAzJObtDBHHQJYCtX6lsMdA+OCDDz5QyEBav1Kg1u/IQLydITFvj8lAHnzwwQcvykCBWr9SoM7KQOM4juM4bstARRdddNENzECo9SsFaq3MQArU+pUCTc1AbLLJJpvszUDOkJi3M4zOQDBvZ0jMK89Ak0022WTLz0D6lQK1fjXQQCwFav1KhdBAXXTRRRfV0ECO4ziO4yTRQL9SoNavdNFA8MEHH3zE0UAhMW9nSBTSQFKg1q8UZNJAhA8++OCz0kC1fqVArQPTQObtDIl5U9NAF1100UWj00BIzNsZEvPTQHk7Q2LeQtRAqqqqqqqS1EDbGRLzduLUQAyJeTtDMtVAPvjggw+C1UBvZ0jM29HVQKDWrxSoIdZA0UUXXXRx1kACtX6lQMHWQDMk5u0MEddAZJNNNtlg10CWArV+pbDXQMdxHMdxANhA+OCDDz5Q2EApUOtXCqDYQFq/UqDW79hAiy666KI/2UC8nSExb4/ZQO0MiXk739lAHnzwwQcv2kBQ61cK1H7aQIFav1KgztpAsskmm2we20DjOI7jOG7bQBSo9SsFvttARRdddNEN3EB2hsS8nV3cQKj1KwVqrdxA2WSTTTb93EAK1PqVAk3dQDtDYt7OnN1AbLLJJpvs3UCdITFvZzzeQM6QmLczjN5AAAAAAADc3kA=\",\"dtype\":\"float64\",\"shape\":[100]},\"y\":{\"__ndarray__\":\"AAAAAAAAJEAAAAAAAAAkQAAAAAAAACRAAAAAAAAAJEAAAAAAAAAkQAAAAAAAACRAAAAAAAAAJEAAAAAAAAAkQAAAAAAAACRAAAAAAAAAJEAAAAAAAAAkQAAAAAAAACRAAAAAAAAAJEAAAAAAAAAkQAAAAAAAACRAAAAAAAAAJEAAAAAAAAAkQAAAAAAAACRAAAAAAAAAJEAAAAAAAAAkQAAAAAAAACRAAAAAAAAAJEAAAAAAAAAkQAAAAAAAACRAAAAAAAAAJEAAAAAAAAAkQAAAAAAAACRAAAAAAAAAJEAAAAAAAAAkQAAAAAAAACRAAAAAAAAAJEAAAAAAAAAkQAAAAAAAACRAAAAAAAAAJEAAAAAAAAAkQAAAAAAAACRAAAAAAAAAJEAAAAAAAAAkQAAAAAAAACRAAAAAAAAAJEAAAAAAAAAkQAAAAAAAACRAAAAAAAAAJEAAAAAAAAAkQAAAAAAAACRAAAAAAAAAJEAAAAAAAAAkQAAAAAAAACRAAAAAAAAAJEAAAAAAAAAkQAAAAAAAACRAAAAAAAAAJEAAAAAAAAAkQAAAAAAAACRAAAAAAAAAJEAAAAAAAAAkQAAAAAAAACRAAAAAAAAAJEAAAAAAAAAkQAAAAAAAACRAAAAAAAAAJEAAAAAAAAAkQAAAAAAAACRAAAAAAAAAJEAAAAAAAAAkQAAAAAAAACRAAAAAAAAAJEAAAAAAAAAkQAAAAAAAACRAAAAAAAAAJEAAAAAAAAAkQAAAAAAAACRAAAAAAAAAJEAAAAAAAAAkQAAAAAAAACRAAAAAAAAAJEAAAAAAAAAkQAAAAAAAACRAAAAAAAAAJEAAAAAAAAAkQAAAAAAAACRAAAAAAAAAJEAAAAAAAAAkQAAAAAAAACRAAAAAAAAAJEAAAAAAAAAkQAAAAAAAACRAAAAAAAAAJEAAAAAAAAAkQAAAAAAAACRAAAAAAAAAJEAAAAAAAAAkQAAAAAAAACRAAAAAAAAAJEAAAAAAAAAkQAAAAAAAACRAAAAAAAAAJEAAAAAAAAAkQAAAAAAAACRAAAAAAAAAJEA=\",\"dtype\":\"float64\",\"shape\":[100]}},\"selected\":{\"id\":\"1236\",\"type\":\"Selection\"},\"selection_policy\":{\"id\":\"1235\",\"type\":\"UnionRenderers\"}},\"id\":\"1212\",\"type\":\"ColumnDataSource\"},{\"attributes\":{\"line_alpha\":0.1,\"line_color\":\"#1f77b4\",\"line_width\":2,\"x\":{\"field\":\"x\"},\"y\":{\"field\":\"y\"}},\"id\":\"1227\",\"type\":\"Line\"},{\"attributes\":{\"line_color\":\"#ff7e0e\",\"line_width\":2,\"x\":{\"field\":\"x\"},\"y\":{\"field\":\"y\"}},\"id\":\"1226\",\"type\":\"Line\"},{\"attributes\":{\"line_color\":\"#1f77b3\",\"line_width\":2,\"x\":{\"field\":\"x\"},\"y\":{\"field\":\"y\"}},\"id\":\"1213\",\"type\":\"Line\"},{\"attributes\":{\"data_source\":{\"id\":\"1212\",\"type\":\"ColumnDataSource\"},\"glyph\":{\"id\":\"1213\",\"type\":\"Line\"},\"hover_glyph\":null,\"muted_glyph\":null,\"nonselection_glyph\":{\"id\":\"1214\",\"type\":\"Line\"},\"selection_glyph\":null,\"view\":{\"id\":\"1216\",\"type\":\"CDSView\"}},\"id\":\"1215\",\"type\":\"GlyphRenderer\"},{\"attributes\":{\"data_source\":{\"id\":\"1225\",\"type\":\"ColumnDataSource\"},\"glyph\":{\"id\":\"1226\",\"type\":\"Line\"},\"hover_glyph\":null,\"muted_glyph\":null,\"nonselection_glyph\":{\"id\":\"1227\",\"type\":\"Line\"},\"selection_glyph\":null,\"view\":{\"id\":\"1229\",\"type\":\"CDSView\"}},\"id\":\"1228\",\"type\":\"GlyphRenderer\"},{\"attributes\":{},\"id\":\"1199\",\"type\":\"PanTool\"},{\"attributes\":{\"line_color\":\"#9367bc\",\"line_width\":2,\"x\":{\"field\":\"x\"},\"y\":{\"field\":\"y\"}},\"id\":\"2760\",\"type\":\"Line\"},{\"attributes\":{},\"id\":\"2811\",\"type\":\"Selection\"},{\"attributes\":{},\"id\":\"1200\",\"type\":\"WheelZoomTool\"},{\"attributes\":{\"label\":{\"value\":\"ATP Synthase, Proton Pump, ATP Use\"},\"renderers\":[{\"id\":\"1829\",\"type\":\"GlyphRenderer\"},{\"id\":\"2762\",\"type\":\"GlyphRenderer\"}]},\"id\":\"1841\",\"type\":\"LegendItem\"},{\"attributes\":{\"callback\":null},\"id\":\"1181\",\"type\":\"DataRange1d\"},{\"attributes\":{\"overlay\":{\"id\":\"1222\",\"type\":\"BoxAnnotation\"}},\"id\":\"1201\",\"type\":\"BoxZoomTool\"},{\"attributes\":{\"source\":{\"id\":\"1225\",\"type\":\"ColumnDataSource\"}},\"id\":\"1229\",\"type\":\"CDSView\"},{\"attributes\":{\"callback\":null,\"data\":{\"x\":{\"__ndarray__\":\"AAAAAAAAAABIzNsZEvNzQEjM2xkS84NAbLLJJpvsjUBIzNsZEvOTQFq/UqDW75hAbLLJJpvsnUC/UqDWr3ShQEjM2xkS86NA0UUXXXRxpkBav1Kg1u+oQOM4juM4bqtAbLLJJpvsrUD6lQK1fjWwQL9SoNavdLFAhA8++OCzskBIzNsZEvOzQAyJeTtDMrVA0UUXXXRxtkCWArV+pbC3QFq/UqDW77hAHnzwwQcvukDjOI7jOG67QKj1KwVqrbxAbLLJJpvsvUAwb2dIzCu/QPqVArV+NcBAXXTRRRfVwEC/UqDWr3TBQCExb2dIFMJAhA8++OCzwkDm7QyJeVPDQEjM2xkS88NAqqqqqqqSxEAMiXk7QzLFQG9nSMzb0cVA0UUXXXRxxkAzJObtDBHHQJYCtX6lsMdA+OCDDz5QyEBav1Kg1u/IQLydITFvj8lAHnzwwQcvykCBWr9SoM7KQOM4juM4bstARRdddNENzECo9SsFaq3MQArU+pUCTc1AbLLJJpvszUDOkJi3M4zOQDBvZ0jMK89Ak0022WTLz0D6lQK1fjXQQCwFav1KhdBAXXTRRRfV0ECO4ziO4yTRQL9SoNavdNFA8MEHH3zE0UAhMW9nSBTSQFKg1q8UZNJAhA8++OCz0kC1fqVArQPTQObtDIl5U9NAF1100UWj00BIzNsZEvPTQHk7Q2LeQtRAqqqqqqqS1EDbGRLzduLUQAyJeTtDMtVAPvjggw+C1UBvZ0jM29HVQKDWrxSoIdZA0UUXXXRx1kACtX6lQMHWQDMk5u0MEddAZJNNNtlg10CWArV+pbDXQMdxHMdxANhA+OCDDz5Q2EApUOtXCqDYQFq/UqDW79hAiy666KI/2UC8nSExb4/ZQO0MiXk739lAHnzwwQcv2kBQ61cK1H7aQIFav1KgztpAsskmm2we20DjOI7jOG7bQBSo9SsFvttARRdddNEN3EB2hsS8nV3cQKj1KwVqrdxA2WSTTTb93EAK1PqVAk3dQDtDYt7OnN1AbLLJJpvs3UCdITFvZzzeQM6QmLczjN5AAAAAAADc3kA=\",\"dtype\":\"float64\",\"shape\":[100]},\"y\":{\"__ndarray__\":\"AAAAAAAAJEDx//////8fQPH//////x9A9v//////H0Dy//////8fQPX//////x9A9f//////H0Dw//////8fQPH//////x9A9P//////H0D2//////8fQPX//////x9A8///////H0Dy//////8fQPL//////x9A8///////H0Dy//////8fQPP//////x9A8v//////H0Dy//////8fQPH//////x9A4v//////H0Dx//////8fQPD//////x9A8P//////H0Dw//////8fQPD//////x9A8P//////H0Dw//////8fQPD//////x9A8P//////H0Dw//////8fQO7//////x9A3f//////H0Du//////8fQPH//////x9A8f//////H0Dw//////8fQO7//////x9A8///////H0Dz//////8fQN3//////x9A9f//////H0Co//////8fQGYAAAAAACBA6f//////H0Dr//////8fQOj//////x9A6P//////H0Dp//////8fQOn//////x9A6f//////H0Dp//////8fQOj//////x9A6P//////H0Dm//////8fQNf//////x9AEAAAAAAAIEDbAQAAAAAgQJT0/////x9A6P//////H0Dp//////8fQOn//////x9A6f//////H0Dp//////8fQOn//////x9A6f//////H0Dp//////8fQOn//////x9A6f//////H0Dp//////8fQOn//////x9A6f//////H0Do//////8fQOj//////x9A6P//////H0Do//////8fQOj//////x9A6f//////H0Dj//////8fQPH//////x9A4f//////H0Dk//////8fQOT//////x9A5v//////H0Dl//////8fQOP//////x9A7f//////H0DO//////8fQAkAAAAAACBAmP//////H0B///////8fQKH//////x9AI/3/////H0BvCAAAAAAgQAWv/////x9Af8D+////H0AFAAAAAAAgQKbw/////x9ACQAAAAAAIEA=\",\"dtype\":\"float64\",\"shape\":[100]}},\"selected\":{\"id\":\"1875\",\"type\":\"Selection\"},\"selection_policy\":{\"id\":\"1874\",\"type\":\"UnionRenderers\"}},\"id\":\"1826\",\"type\":\"ColumnDataSource\"},{\"attributes\":{},\"id\":\"1202\",\"type\":\"SaveTool\"},{\"attributes\":{},\"id\":\"1235\",\"type\":\"UnionRenderers\"},{\"attributes\":{\"data_source\":{\"id\":\"1826\",\"type\":\"ColumnDataSource\"},\"glyph\":{\"id\":\"1827\",\"type\":\"Line\"},\"hover_glyph\":null,\"muted_glyph\":null,\"nonselection_glyph\":{\"id\":\"1828\",\"type\":\"Line\"},\"selection_glyph\":null,\"view\":{\"id\":\"1830\",\"type\":\"CDSView\"}},\"id\":\"1829\",\"type\":\"GlyphRenderer\"},{\"attributes\":{},\"id\":\"1203\",\"type\":\"ResetTool\"},{\"attributes\":{\"label\":{\"value\":\"ATP Use\"},\"renderers\":[{\"id\":\"1228\",\"type\":\"GlyphRenderer\"}]},\"id\":\"1238\",\"type\":\"LegendItem\"},{\"attributes\":{\"callback\":null},\"id\":\"1183\",\"type\":\"DataRange1d\"},{\"attributes\":{},\"id\":\"1236\",\"type\":\"Selection\"},{\"attributes\":{\"callback\":null,\"data\":{\"x\":{\"__ndarray__\":\"AAAAAAAAAABIzNsZEvNzQEjM2xkS84NAbLLJJpvsjUBIzNsZEvOTQFq/UqDW75hAbLLJJpvsnUC/UqDWr3ShQEjM2xkS86NA0UUXXXRxpkBav1Kg1u+oQOM4juM4bqtAbLLJJpvsrUD6lQK1fjWwQL9SoNavdLFAhA8++OCzskBIzNsZEvOzQAyJeTtDMrVA0UUXXXRxtkCWArV+pbC3QFq/UqDW77hAHnzwwQcvukDjOI7jOG67QKj1KwVqrbxAbLLJJpvsvUAwb2dIzCu/QPqVArV+NcBAXXTRRRfVwEC/UqDWr3TBQCExb2dIFMJAhA8++OCzwkDm7QyJeVPDQEjM2xkS88NAqqqqqqqSxEAMiXk7QzLFQG9nSMzb0cVA0UUXXXRxxkAzJObtDBHHQJYCtX6lsMdA+OCDDz5QyEBav1Kg1u/IQLydITFvj8lAHnzwwQcvykCBWr9SoM7KQOM4juM4bstARRdddNENzECo9SsFaq3MQArU+pUCTc1AbLLJJpvszUDOkJi3M4zOQDBvZ0jMK89Ak0022WTLz0D6lQK1fjXQQCwFav1KhdBAXXTRRRfV0ECO4ziO4yTRQL9SoNavdNFA8MEHH3zE0UAhMW9nSBTSQFKg1q8UZNJAhA8++OCz0kC1fqVArQPTQObtDIl5U9NAF1100UWj00BIzNsZEvPTQHk7Q2LeQtRAqqqqqqqS1EDbGRLzduLUQAyJeTtDMtVAPvjggw+C1UBvZ0jM29HVQKDWrxSoIdZA0UUXXXRx1kACtX6lQMHWQDMk5u0MEddAZJNNNtlg10CWArV+pbDXQMdxHMdxANhA+OCDDz5Q2EApUOtXCqDYQFq/UqDW79hAiy666KI/2UC8nSExb4/ZQO0MiXk739lAHnzwwQcv2kBQ61cK1H7aQIFav1KgztpAsskmm2we20DjOI7jOG7bQBSo9SsFvttARRdddNEN3EB2hsS8nV3cQKj1KwVqrdxA2WSTTTb93EAK1PqVAk3dQDtDYt7OnN1AbLLJJpvs3UCdITFvZzzeQM6QmLczjN5AAAAAAADc3kA=\",\"dtype\":\"float64\",\"shape\":[100]},\"y\":{\"__ndarray__\":\"AAAAAAAAJEDx//////8fQPH//////x9A9v//////H0Dy//////8fQPX//////x9A9f//////H0Dw//////8fQPH//////x9A9P//////H0D2//////8fQPX//////x9A8///////H0Dy//////8fQPL//////x9A8///////H0Dy//////8fQPP//////x9A8v//////H0Dy//////8fQPH//////x9A4v//////H0Dx//////8fQPD//////x9A8P//////H0Dw//////8fQPD//////x9A8P//////H0Dw//////8fQPD//////x9A8P//////H0Dw//////8fQO7//////x9A3f//////H0Du//////8fQPH//////x9A8f//////H0Dw//////8fQO7//////x9A8///////H0Dz//////8fQN3//////x9A9f//////H0Co//////8fQGYAAAAAACBA6f//////H0Dr//////8fQOj//////x9A6P//////H0Dp//////8fQOn//////x9A6f//////H0Dp//////8fQOj//////x9A6P//////H0Dm//////8fQNf//////x9AEAAAAAAAIEDbAQAAAAAgQJT0/////x9A6P//////H0Dp//////8fQOn//////x9A6f//////H0Dp//////8fQOn//////x9A6f//////H0Dp//////8fQOn//////x9A6f//////H0Dp//////8fQOn//////x9A6f//////H0Do//////8fQOj//////x9A6P//////H0Do//////8fQOj//////x9A6f//////H0Dj//////8fQPH//////x9A4f//////H0Dk//////8fQOT//////x9A5v//////H0Dl//////8fQOP//////x9A7f//////H0DO//////8fQAkAAAAAACBAmP//////H0B///////8fQKH//////x9AI/3/////H0BvCAAAAAAgQAWv/////x9Af8D+////H0AFAAAAAAAgQKbw/////x9ACQAAAAAAIEA=\",\"dtype\":\"float64\",\"shape\":[100]}},\"selected\":{\"id\":\"2811\",\"type\":\"Selection\"},\"selection_policy\":{\"id\":\"2810\",\"type\":\"UnionRenderers\"}},\"id\":\"2759\",\"type\":\"ColumnDataSource\"},{\"attributes\":{},\"id\":\"1204\",\"type\":\"HelpTool\"},{\"attributes\":{},\"id\":\"1185\",\"type\":\"LinearScale\"},{\"attributes\":{},\"id\":\"1423\",\"type\":\"UnionRenderers\"},{\"attributes\":{},\"id\":\"1187\",\"type\":\"LinearScale\"},{\"attributes\":{\"source\":{\"id\":\"1826\",\"type\":\"ColumnDataSource\"}},\"id\":\"1830\",\"type\":\"CDSView\"},{\"attributes\":{\"text\":\"Compare ATP All\"},\"id\":\"2984\",\"type\":\"Title\"},{\"attributes\":{\"data_source\":{\"id\":\"2759\",\"type\":\"ColumnDataSource\"},\"glyph\":{\"id\":\"2760\",\"type\":\"Line\"},\"hover_glyph\":null,\"muted_glyph\":null,\"nonselection_glyph\":{\"id\":\"2761\",\"type\":\"Line\"},\"selection_glyph\":null,\"view\":{\"id\":\"2763\",\"type\":\"CDSView\"}},\"id\":\"2762\",\"type\":\"GlyphRenderer\"},{\"attributes\":{\"axis_label\":\"time (sec)\",\"formatter\":{\"id\":\"1219\",\"type\":\"BasicTickFormatter\"},\"ticker\":{\"id\":\"1190\",\"type\":\"BasicTicker\"}},\"id\":\"1189\",\"type\":\"LinearAxis\"},{\"attributes\":{},\"id\":\"1219\",\"type\":\"BasicTickFormatter\"},{\"attributes\":{},\"id\":\"1874\",\"type\":\"UnionRenderers\"},{\"attributes\":{\"dimension\":1,\"ticker\":{\"id\":\"1195\",\"type\":\"BasicTicker\"}},\"id\":\"1198\",\"type\":\"Grid\"},{\"attributes\":{\"line_alpha\":0.1,\"line_color\":\"#1f77b4\",\"line_width\":2,\"x\":{\"field\":\"x\"},\"y\":{\"field\":\"y\"}},\"id\":\"1828\",\"type\":\"Line\"},{\"attributes\":{\"line_alpha\":0.1,\"line_color\":\"#1f77b4\",\"line_width\":2,\"x\":{\"field\":\"x\"},\"y\":{\"field\":\"y\"}},\"id\":\"2761\",\"type\":\"Line\"},{\"attributes\":{},\"id\":\"1424\",\"type\":\"Selection\"},{\"attributes\":{},\"id\":\"1190\",\"type\":\"BasicTicker\"},{\"attributes\":{},\"id\":\"1875\",\"type\":\"Selection\"},{\"attributes\":{},\"id\":\"2810\",\"type\":\"UnionRenderers\"},{\"attributes\":{\"items\":[{\"id\":\"1224\",\"type\":\"LegendItem\"},{\"id\":\"1238\",\"type\":\"LegendItem\"},{\"id\":\"1841\",\"type\":\"LegendItem\"}],\"location\":\"center_right\"},\"id\":\"1223\",\"type\":\"Legend\"},{\"attributes\":{\"ticker\":{\"id\":\"1190\",\"type\":\"BasicTicker\"}},\"id\":\"1193\",\"type\":\"Grid\"},{\"attributes\":{\"source\":{\"id\":\"1212\",\"type\":\"ColumnDataSource\"}},\"id\":\"1216\",\"type\":\"CDSView\"},{\"attributes\":{},\"id\":\"1221\",\"type\":\"BasicTickFormatter\"},{\"attributes\":{\"source\":{\"id\":\"2759\",\"type\":\"ColumnDataSource\"}},\"id\":\"2763\",\"type\":\"CDSView\"},{\"attributes\":{},\"id\":\"1195\",\"type\":\"BasicTicker\"},{\"attributes\":{\"axis_label\":\"concentration (nM)\",\"formatter\":{\"id\":\"1221\",\"type\":\"BasicTickFormatter\"},\"ticker\":{\"id\":\"1195\",\"type\":\"BasicTicker\"}},\"id\":\"1194\",\"type\":\"LinearAxis\"},{\"attributes\":{\"bottom_units\":\"screen\",\"fill_alpha\":{\"value\":0.5},\"fill_color\":{\"value\":\"lightgrey\"},\"left_units\":\"screen\",\"level\":\"overlay\",\"line_alpha\":{\"value\":1.0},\"line_color\":{\"value\":\"black\"},\"line_dash\":[4,4],\"line_width\":{\"value\":2},\"render_mode\":\"css\",\"right_units\":\"screen\",\"top_units\":\"screen\"},\"id\":\"1222\",\"type\":\"BoxAnnotation\"},{\"attributes\":{\"callback\":null,\"data\":{\"x\":{\"__ndarray__\":\"AAAAAAAAAABIzNsZEvNzQEjM2xkS84NAbLLJJpvsjUBIzNsZEvOTQFq/UqDW75hAbLLJJpvsnUC/UqDWr3ShQEjM2xkS86NA0UUXXXRxpkBav1Kg1u+oQOM4juM4bqtAbLLJJpvsrUD6lQK1fjWwQL9SoNavdLFAhA8++OCzskBIzNsZEvOzQAyJeTtDMrVA0UUXXXRxtkCWArV+pbC3QFq/UqDW77hAHnzwwQcvukDjOI7jOG67QKj1KwVqrbxAbLLJJpvsvUAwb2dIzCu/QPqVArV+NcBAXXTRRRfVwEC/UqDWr3TBQCExb2dIFMJAhA8++OCzwkDm7QyJeVPDQEjM2xkS88NAqqqqqqqSxEAMiXk7QzLFQG9nSMzb0cVA0UUXXXRxxkAzJObtDBHHQJYCtX6lsMdA+OCDDz5QyEBav1Kg1u/IQLydITFvj8lAHnzwwQcvykCBWr9SoM7KQOM4juM4bstARRdddNENzECo9SsFaq3MQArU+pUCTc1AbLLJJpvszUDOkJi3M4zOQDBvZ0jMK89Ak0022WTLz0D6lQK1fjXQQCwFav1KhdBAXXTRRRfV0ECO4ziO4yTRQL9SoNavdNFA8MEHH3zE0UAhMW9nSBTSQFKg1q8UZNJAhA8++OCz0kC1fqVArQPTQObtDIl5U9NAF1100UWj00BIzNsZEvPTQHk7Q2LeQtRAqqqqqqqS1EDbGRLzduLUQAyJeTtDMtVAPvjggw+C1UBvZ0jM29HVQKDWrxSoIdZA0UUXXXRx1kACtX6lQMHWQDMk5u0MEddAZJNNNtlg10CWArV+pbDXQMdxHMdxANhA+OCDDz5Q2EApUOtXCqDYQFq/UqDW79hAiy666KI/2UC8nSExb4/ZQO0MiXk739lAHnzwwQcv2kBQ61cK1H7aQIFav1KgztpAsskmm2we20DjOI7jOG7bQBSo9SsFvttARRdddNEN3EB2hsS8nV3cQKj1KwVqrdxA2WSTTTb93EAK1PqVAk3dQDtDYt7OnN1AbLLJJpvs3UCdITFvZzzeQM6QmLczjN5AAAAAAADc3kA=\",\"dtype\":\"float64\",\"shape\":[100]},\"y\":{\"__ndarray__\":\"AAAAAAAAJEAVXf4fOi2FuoWDYJE423C6TzNPSP8Mt7lfKWkHEQClubNhgGMZRNa4qwlEqyA81biisQfzJzTUuJpZyzovLNO4kQGPgjYk0riIqVLKPRzRuH9RFhJFFNC47vKzs5gYzrjfQjtDpwjMuMySwtK1+Mm4u+JJYsTox7iqMtHx0tjFuJqCWIHhyMO4iNLfEPC4wbjsRM5A/VG/uMvk3F8aMru4qoTrfjcSt7iHJPqdVPKyuMWIEXrjpK24g8guuB1lpbiFEJjsr0qauAUgpdFIloO4EUt5opQB37dGWVa4y43dt3tnM84CGty3rXUQ5Dmm2rfig+35cDLZtxaSyg+ovte3S6CnJd9K1reAroQ7FtfUt7K8YVFNY9O358o+Z4Tv0bcc2Rt9u3vQt5zO8SXlD863BeurUVMoy7dvB2Z9wUDIt9gjIKkvWcW3QUDa1J1xwrdMuSgBGBS/tx7ynFj0RLm38CoRsNB1s7d0xwoPWk2rtzNy5nslXp+3+6pusy1DgLfvjIlUedLNtsmTph1Hr822pJrD5hSMzbaAoeCv4mjNtlmo/XiwRc22M68aQn4izbYNtjcLTP/Mtui8VNQZ3My2w8Nxnee4zLaeyo5mtZXMtnjRqy+Dcsy2UtjI+FBPzLYt3+XBHizMtgfmAovsCMy24ewfVLrly7a88zwdiMLLtpf6WeZVn8u2cQF3ryN8y7ZLCJR48VjLticPsUG/Ncu2ABbOCo0Sy7bbHOvTWu/KtrYjCJ0ozMq2kColZvaoyrZrMUIvxIXKtkU4X/iRYsq2Hz98wV8/yrb6RZmKLRzKttRMtlP7+Mm2rlPTHMnVybaKWvDllrLJtmRhDa9kj8m2PmgqeDJsybYZb0dBAEnJtvR1ZArOJcm2znyB05sCybaog56cad/ItoOKu2U3vMi2XZHYLgWZyLY3mPX30nXIthOfEsGgUsi27aUvim4vyLbHrExTPAzItqKzaRwK6ce2fLqG5dfFx7ZWwaOupaLHtjHIwHdzf8e2C8/dQEFcx7bm1foJDznHtsHcF9PcFce2muM0nKryxrY=\",\"dtype\":\"float64\",\"shape\":[100]}},\"selected\":{\"id\":\"1424\",\"type\":\"Selection\"},\"selection_policy\":{\"id\":\"1423\",\"type\":\"UnionRenderers\"}},\"id\":\"1225\",\"type\":\"ColumnDataSource\"},{\"attributes\":{\"label\":{\"value\":\"ATP Synthase, ATP Use\"},\"renderers\":[{\"id\":\"1215\",\"type\":\"GlyphRenderer\"}]},\"id\":\"1224\",\"type\":\"LegendItem\"},{\"attributes\":{\"line_alpha\":0.1,\"line_color\":\"#1f77b4\",\"line_width\":2,\"x\":{\"field\":\"x\"},\"y\":{\"field\":\"y\"}},\"id\":\"1214\",\"type\":\"Line\"},{\"attributes\":{\"line_color\":\"#9367bc\",\"line_width\":2,\"x\":{\"field\":\"x\"},\"y\":{\"field\":\"y\"}},\"id\":\"1827\",\"type\":\"Line\"}],\"root_ids\":[\"1178\"]},\"title\":\"Bokeh Application\",\"version\":\"1.4.0\"}};\n",
       "  var render_items = [{\"docid\":\"775de876-3237-455e-8159-b0c3426b6b61\",\"roots\":{\"1178\":\"7b048127-5254-4359-aece-bfa9860705fc\"}}];\n",
       "  root.Bokeh.embed.embed_items_notebook(docs_json, render_items);\n",
       "\n",
       "  }\n",
       "  if (root.Bokeh !== undefined) {\n",
       "    embed_document(root);\n",
       "  } else {\n",
       "    var attempts = 0;\n",
       "    var timer = setInterval(function(root) {\n",
       "      if (root.Bokeh !== undefined) {\n",
       "        clearInterval(timer);\n",
       "        embed_document(root);\n",
       "      } else {\n",
       "        attempts++;\n",
       "        if (attempts > 100) {\n",
       "          clearInterval(timer);\n",
       "          console.log(\"Bokeh: ERROR: Unable to run BokehJS code because BokehJS library is missing\");\n",
       "        }\n",
       "      }\n",
       "    }, 10, root)\n",
       "  }\n",
       "})(window);"
      ],
      "application/vnd.bokehjs_exec.v0+json": ""
     },
     "metadata": {
      "application/vnd.bokehjs_exec.v0+json": {
       "id": "1178"
      }
     },
     "output_type": "display_data"
    }
   ],
   "source": [
    "plt_timepoints = timepoints/60/60\n",
    "\n",
    "p3 = bokeh.plotting.figure(width = 450, height = 350, title = 'with ATP Synthase, Proton Pump, ATP Use',\n",
    "                          x_axis_label = 'time (hrs)',\n",
    "                          y_axis_label = 'concentration (nM)')\n",
    "plot_list = [ATP_id3, outside_H_id, inside_H_id, atp_synthase_b_protein_id, proton_pump_b_protein_id]\n",
    "plot_str = ['atp', 'outside_H', 'inside_H', 'bound atp synthase', 'bound proton pump']\n",
    "for i,item in enumerate(plot_list):\n",
    "    p3.line(plt_timepoints, results_everything[item], line_width = 2, legend_label = plot_str[i], color = palette[i])\n",
    "p_compare.line(timepoints, results_everything[ATP_id3], line_width = 2, legend_label = 'ATP Synthase, Proton Pump, ATP Use', color = palette[3])\n",
    "#p3.line(plt_timepoints, results_everything[ATP_id3])\n",
    "p3.legend.click_policy = 'hide'\n",
    "p3.legend.location = 'center_right'\n",
    "#p_compare.title = 'Compare ATP All'\n",
    "t = Title()\n",
    "t.text = 'Compare ATP All'\n",
    "p_compare.title = t\n",
    "p_compare.legend.location = 'center_right'\n",
    "bokeh.io.show(p3)\n",
    "bokeh.io.show(p_compare)"
   ]
  },
  {
   "cell_type": "code",
   "execution_count": null,
   "metadata": {},
   "outputs": [],
   "source": []
  },
  {
   "cell_type": "markdown",
   "metadata": {},
   "source": [
    "## Compare with atpsyn + proton pump, only atpsyn, only atpuse (with txtl machinery)\n",
    "---"
   ]
  },
  {
   "cell_type": "code",
   "execution_count": 18,
   "metadata": {},
   "outputs": [
    {
     "data": {
      "text/html": [
       "\n",
       "\n",
       "\n",
       "\n",
       "\n",
       "\n",
       "  <div class=\"bk-root\" id=\"3c563879-6b07-4bc2-99c7-f2a3be374d65\" data-root-id=\"2219\"></div>\n"
      ]
     },
     "metadata": {},
     "output_type": "display_data"
    },
    {
     "data": {
      "application/javascript": [
       "(function(root) {\n",
       "  function embed_document(root) {\n",
       "    \n",
       "  var docs_json = {\"2b107b08-2db7-4866-919b-7f019ebb4c46\":{\"roots\":{\"references\":[{\"attributes\":{\"children\":[{\"id\":\"1711\",\"subtype\":\"Figure\",\"type\":\"Plot\"},{\"id\":\"1036\",\"subtype\":\"Figure\",\"type\":\"Plot\"},{\"id\":\"1131\",\"subtype\":\"Figure\",\"type\":\"Plot\"}]},\"id\":\"2219\",\"type\":\"Row\"},{\"attributes\":{\"active_drag\":\"auto\",\"active_inspect\":\"auto\",\"active_multi\":null,\"active_scroll\":\"auto\",\"active_tap\":\"auto\",\"tools\":[{\"id\":\"1732\",\"type\":\"PanTool\"},{\"id\":\"1733\",\"type\":\"WheelZoomTool\"},{\"id\":\"1734\",\"type\":\"BoxZoomTool\"},{\"id\":\"1735\",\"type\":\"SaveTool\"},{\"id\":\"1736\",\"type\":\"ResetTool\"},{\"id\":\"1737\",\"type\":\"HelpTool\"}]},\"id\":\"1738\",\"type\":\"Toolbar\"},{\"attributes\":{\"data_source\":{\"id\":\"1165\",\"type\":\"ColumnDataSource\"},\"glyph\":{\"id\":\"1166\",\"type\":\"Line\"},\"hover_glyph\":null,\"muted_glyph\":null,\"nonselection_glyph\":{\"id\":\"1167\",\"type\":\"Line\"},\"selection_glyph\":null,\"view\":{\"id\":\"1169\",\"type\":\"CDSView\"}},\"id\":\"1168\",\"type\":\"GlyphRenderer\"},{\"attributes\":{},\"id\":\"1823\",\"type\":\"Selection\"},{\"attributes\":{},\"id\":\"1732\",\"type\":\"PanTool\"},{\"attributes\":{},\"id\":\"1822\",\"type\":\"UnionRenderers\"},{\"attributes\":{},\"id\":\"1128\",\"type\":\"Selection\"},{\"attributes\":{},\"id\":\"1733\",\"type\":\"WheelZoomTool\"},{\"attributes\":{\"label\":{\"value\":\"bound atp synthase\"},\"renderers\":[{\"id\":\"1116\",\"type\":\"GlyphRenderer\"}]},\"id\":\"1130\",\"type\":\"LegendItem\"},{\"attributes\":{\"overlay\":{\"id\":\"1755\",\"type\":\"BoxAnnotation\"}},\"id\":\"1734\",\"type\":\"BoxZoomTool\"},{\"attributes\":{\"text\":\"only ATP Use\"},\"id\":\"1132\",\"type\":\"Title\"},{\"attributes\":{},\"id\":\"1735\",\"type\":\"SaveTool\"},{\"attributes\":{\"line_color\":\"#1f77b3\",\"line_width\":2,\"x\":{\"field\":\"x\"},\"y\":{\"field\":\"y\"}},\"id\":\"1166\",\"type\":\"Line\"},{\"attributes\":{\"callback\":null},\"id\":\"1134\",\"type\":\"DataRange1d\"},{\"attributes\":{},\"id\":\"1736\",\"type\":\"ResetTool\"},{\"attributes\":{},\"id\":\"1737\",\"type\":\"HelpTool\"},{\"attributes\":{\"callback\":null},\"id\":\"1136\",\"type\":\"DataRange1d\"},{\"attributes\":{},\"id\":\"2048\",\"type\":\"UnionRenderers\"},{\"attributes\":{},\"id\":\"1138\",\"type\":\"LinearScale\"},{\"attributes\":{\"callback\":null,\"data\":{\"x\":{\"__ndarray__\":\"AAAAAAAAAAD0kcwotrK2P/SRzCi2ssY/d22ZnggG0T/0kcwotrLWP3K2/7JjX9w/d22ZnggG4T+2/7JjX9zjP/SRzCi2suY/MyTm7QyJ6T9ytv+yY1/sP7BIGXi6Ne8/d22ZnggG8T+WNiYBNHHyP7b/smNf3PM/1sg/xopH9T/0kcwotrL2PxNbWYvhHfg/MyTm7QyJ+T9T7XJQOPT6P3K2/7JjX/w/kH+MFY/K/T+wSBl4ujX/P+gIU+1yUABAd22ZnggGAUAG0t9PnrsBQJY2JgE0cQJAJptssskmA0C2/7JjX9wDQEVk+RT1kQRA1sg/xopHBUBlLYZ3IP0FQPSRzCi2sgZAhPYS2ktoB0ATW1mL4R0IQKS/nzx30whAMyTm7QyJCUDCiCyfoj4KQFPtclA49ApA4lG5Ac6pC0Bytv+yY18MQAEbRmT5FA1AkH+MFY/KDUAh5NLGJIAOQLBIGXi6NQ9AQK1fKVDrD0DoCFPtclAQQDA79sU9qxBAd22ZnggGEUC/nzx302ARQAbS30+euxFATwSDKGkWEkCWNiYBNHESQN9oydn+yxJAJptssskmE0BuzQ+LlIETQLb/smNf3BNA/jFWPCo3FEBFZPkU9ZEUQI2WnO2/7BRA1sg/xopHFUAe++KeVaIVQGUthncg/RVArV8pUOtXFkD0kcwotrIWQD3EbwGBDRdAhPYS2ktoF0DMKLayFsMXQBNbWYvhHRhAXI38Y6x4GECkv588d9MYQOzxQhVCLhlAMyTm7QyJGUB7VonG1+MZQMKILJ+iPhpAC7vPd22ZGkBT7XJQOPQaQJsfFikDTxtA4lG5Ac6pG0AqhFzamAQcQHK2/7JjXxxAuuiiiy66HEABG0Zk+RQdQElN6TzEbx1AkH+MFY/KHUDasS/uWSUeQCHk0sYkgB5AaRZ2n+/aHkCwSBl4ujUfQPl6vFCFkB9AQK1fKVDrH0DEbwGBDSMgQOgIU+1yUCBADKKkWdh9IEAwO/bFPasgQFTURzKj2CBAd22ZnggGIUCcBusKbjMhQL+fPHfTYCFA4ziO4ziOIUA=\",\"dtype\":\"float64\",\"shape\":[100]},\"y\":{\"__ndarray__\":\"AAAAAAAAAAD8uWSoNdMFQFVf3cHunSRADBLggwE3NECRdwmkqG8+QIh7OjG5+UNAV77/IeJNSEAXeKsV3jxMQNUQVPXlz09AgbS0qK+HUUCdKxa6dQFTQI91MKW8WFRA4zsy1qqQVUAoz68VHaxWQHatLkKtrVdAqzFUbLiXWEBZJxxkZGxZQKQqvcSkLVpAemo+ij/dWkD7JuU70XxbQMNZYbXQDVxAVwpnl5KRXEDmj7NnTAldQO+w6GgXdl1AF8ogLvPYXUBiHazzxzJeQGjL6cFohF5AUsgFW5XOXkB2SBL/+xFfQDrgXgQ7T19Aa7v3S+KGX0BfBmCTdLlfQA0M1ado519A8M68PpUIYEC6SWgWjhtgQIbfimzLLGBAaznuwHU8YECjTJ/gsUpgQEN5+juhV2BA1yeCNmJjYEA98pxsEG5gQGB1kPXEd2BAjH/0nZaAYEDGfnodmohgQE1Adkfij2BACsQsN4CWYEAFSB14g5xgQISPMCr6oWBAgTM5I/GmYEDQf+IMdKtgQNg9ZYCNr2BAa6oMH0ezYECighqpqbZgQCUSORK9uWBAExgplIi8YECmAM2/Er9gQIELh4xhwWBASVE7ZnrDYEB85BQ6YsVgQGQJF4Idx2BAcS6YT7DIYECMHttUHspgQFpIuu1qy2BAbnGJJ5nMYEA5LTbIq81gQBP3/lSlzmBAysIZGIjPYEDgyTQmVtBgQIbyZmMR0WBAC7CMh7vRYEDOulUiVtJgQOo99J7i0mBAUJxwR2LTYEDbaa9H1tNgQAgLMrA/1GBAcvCYeJ/UYECUcuaB9tRgQBg/kZhF1WBAaGtldo3VYEDs3DbEztVgQPMGbxsK1mBAtfB0B0DWYECQ0fQGcdZgQDJcCY2d1mBAoJpKAsbWYEBoCsTF6tZgQAtn0y0M12BAjgPziCrXYEDQZHIeRtdgQB5zHi9f12BAqjfZ9XXXYEB74COoitdgQNbznHad12BAFuZyja7XYECzTssUvtdgQLH9IDHM12BAGOWZA9nXYEBpJFWq5NdgQLazsUDv12BAW7WO3/jXYEA=\",\"dtype\":\"float64\",\"shape\":[100]}},\"selected\":{\"id\":\"1823\",\"type\":\"Selection\"},\"selection_policy\":{\"id\":\"1822\",\"type\":\"UnionRenderers\"}},\"id\":\"1788\",\"type\":\"ColumnDataSource\"},{\"attributes\":{},\"id\":\"1140\",\"type\":\"LinearScale\"},{\"attributes\":{\"data_source\":{\"id\":\"1745\",\"type\":\"ColumnDataSource\"},\"glyph\":{\"id\":\"1746\",\"type\":\"Line\"},\"hover_glyph\":null,\"muted_glyph\":null,\"nonselection_glyph\":{\"id\":\"1747\",\"type\":\"Line\"},\"selection_glyph\":null,\"view\":{\"id\":\"1749\",\"type\":\"CDSView\"}},\"id\":\"1748\",\"type\":\"GlyphRenderer\"},{\"attributes\":{\"axis_label\":\"time (hrs)\",\"formatter\":{\"id\":\"1172\",\"type\":\"BasicTickFormatter\"},\"ticker\":{\"id\":\"1143\",\"type\":\"BasicTicker\"}},\"id\":\"1142\",\"type\":\"LinearAxis\"},{\"attributes\":{\"dimension\":1,\"ticker\":{\"id\":\"1148\",\"type\":\"BasicTicker\"}},\"id\":\"1151\",\"type\":\"Grid\"},{\"attributes\":{\"line_alpha\":0.1,\"line_color\":\"#1f77b4\",\"line_width\":2,\"x\":{\"field\":\"x\"},\"y\":{\"field\":\"y\"}},\"id\":\"1747\",\"type\":\"Line\"},{\"attributes\":{},\"id\":\"1143\",\"type\":\"BasicTicker\"},{\"attributes\":{\"source\":{\"id\":\"1745\",\"type\":\"ColumnDataSource\"}},\"id\":\"1749\",\"type\":\"CDSView\"},{\"attributes\":{\"below\":[{\"id\":\"1047\",\"type\":\"LinearAxis\"}],\"center\":[{\"id\":\"1051\",\"type\":\"Grid\"},{\"id\":\"1056\",\"type\":\"Grid\"},{\"id\":\"1081\",\"type\":\"Legend\"}],\"left\":[{\"id\":\"1052\",\"type\":\"LinearAxis\"}],\"plot_height\":350,\"plot_width\":450,\"renderers\":[{\"id\":\"1073\",\"type\":\"GlyphRenderer\"},{\"id\":\"1086\",\"type\":\"GlyphRenderer\"},{\"id\":\"1100\",\"type\":\"GlyphRenderer\"},{\"id\":\"1116\",\"type\":\"GlyphRenderer\"}],\"title\":{\"id\":\"1037\",\"type\":\"Title\"},\"toolbar\":{\"id\":\"1063\",\"type\":\"Toolbar\"},\"x_range\":{\"id\":\"1039\",\"type\":\"DataRange1d\"},\"x_scale\":{\"id\":\"1043\",\"type\":\"LinearScale\"},\"y_range\":{\"id\":\"1041\",\"type\":\"DataRange1d\"},\"y_scale\":{\"id\":\"1045\",\"type\":\"LinearScale\"}},\"id\":\"1036\",\"subtype\":\"Figure\",\"type\":\"Plot\"},{\"attributes\":{\"ticker\":{\"id\":\"1143\",\"type\":\"BasicTicker\"}},\"id\":\"1146\",\"type\":\"Grid\"},{\"attributes\":{\"source\":{\"id\":\"1772\",\"type\":\"ColumnDataSource\"}},\"id\":\"1776\",\"type\":\"CDSView\"},{\"attributes\":{},\"id\":\"2049\",\"type\":\"Selection\"},{\"attributes\":{\"text\":\"with ATP Synthase\"},\"id\":\"1037\",\"type\":\"Title\"},{\"attributes\":{},\"id\":\"1148\",\"type\":\"BasicTicker\"},{\"attributes\":{\"data_source\":{\"id\":\"1070\",\"type\":\"ColumnDataSource\"},\"glyph\":{\"id\":\"1071\",\"type\":\"Line\"},\"hover_glyph\":null,\"muted_glyph\":null,\"nonselection_glyph\":{\"id\":\"1072\",\"type\":\"Line\"},\"selection_glyph\":null,\"view\":{\"id\":\"1074\",\"type\":\"CDSView\"}},\"id\":\"1073\",\"type\":\"GlyphRenderer\"},{\"attributes\":{\"axis_label\":\"concentration (nM)\",\"formatter\":{\"id\":\"1174\",\"type\":\"BasicTickFormatter\"},\"ticker\":{\"id\":\"1148\",\"type\":\"BasicTicker\"}},\"id\":\"1147\",\"type\":\"LinearAxis\"},{\"attributes\":{},\"id\":\"1784\",\"type\":\"UnionRenderers\"},{\"attributes\":{\"callback\":null},\"id\":\"1039\",\"type\":\"DataRange1d\"},{\"attributes\":{\"label\":{\"value\":\"inside_H\"},\"renderers\":[{\"id\":\"1775\",\"type\":\"GlyphRenderer\"}]},\"id\":\"1787\",\"type\":\"LegendItem\"},{\"attributes\":{},\"id\":\"1769\",\"type\":\"Selection\"},{\"attributes\":{\"callback\":null},\"id\":\"1041\",\"type\":\"DataRange1d\"},{\"attributes\":{\"line_alpha\":0.1,\"line_color\":\"#1f77b4\",\"line_width\":2,\"x\":{\"field\":\"x\"},\"y\":{\"field\":\"y\"}},\"id\":\"1167\",\"type\":\"Line\"},{\"attributes\":{},\"id\":\"1785\",\"type\":\"Selection\"},{\"attributes\":{\"data_source\":{\"id\":\"1758\",\"type\":\"ColumnDataSource\"},\"glyph\":{\"id\":\"1759\",\"type\":\"Line\"},\"hover_glyph\":null,\"muted_glyph\":null,\"nonselection_glyph\":{\"id\":\"1760\",\"type\":\"Line\"},\"selection_glyph\":null,\"view\":{\"id\":\"1762\",\"type\":\"CDSView\"}},\"id\":\"1761\",\"type\":\"GlyphRenderer\"},{\"attributes\":{\"source\":{\"id\":\"1070\",\"type\":\"ColumnDataSource\"}},\"id\":\"1074\",\"type\":\"CDSView\"},{\"attributes\":{\"active_drag\":\"auto\",\"active_inspect\":\"auto\",\"active_multi\":null,\"active_scroll\":\"auto\",\"active_tap\":\"auto\",\"tools\":[{\"id\":\"1152\",\"type\":\"PanTool\"},{\"id\":\"1153\",\"type\":\"WheelZoomTool\"},{\"id\":\"1154\",\"type\":\"BoxZoomTool\"},{\"id\":\"1155\",\"type\":\"SaveTool\"},{\"id\":\"1156\",\"type\":\"ResetTool\"},{\"id\":\"1157\",\"type\":\"HelpTool\"}]},\"id\":\"1158\",\"type\":\"Toolbar\"},{\"attributes\":{\"callback\":null,\"data\":{\"x\":{\"__ndarray__\":\"AAAAAAAAAAD0kcwotrK2P/SRzCi2ssY/d22ZnggG0T/0kcwotrLWP3K2/7JjX9w/d22ZnggG4T+2/7JjX9zjP/SRzCi2suY/MyTm7QyJ6T9ytv+yY1/sP7BIGXi6Ne8/d22ZnggG8T+WNiYBNHHyP7b/smNf3PM/1sg/xopH9T/0kcwotrL2PxNbWYvhHfg/MyTm7QyJ+T9T7XJQOPT6P3K2/7JjX/w/kH+MFY/K/T+wSBl4ujX/P+gIU+1yUABAd22ZnggGAUAG0t9PnrsBQJY2JgE0cQJAJptssskmA0C2/7JjX9wDQEVk+RT1kQRA1sg/xopHBUBlLYZ3IP0FQPSRzCi2sgZAhPYS2ktoB0ATW1mL4R0IQKS/nzx30whAMyTm7QyJCUDCiCyfoj4KQFPtclA49ApA4lG5Ac6pC0Bytv+yY18MQAEbRmT5FA1AkH+MFY/KDUAh5NLGJIAOQLBIGXi6NQ9AQK1fKVDrD0DoCFPtclAQQDA79sU9qxBAd22ZnggGEUC/nzx302ARQAbS30+euxFATwSDKGkWEkCWNiYBNHESQN9oydn+yxJAJptssskmE0BuzQ+LlIETQLb/smNf3BNA/jFWPCo3FEBFZPkU9ZEUQI2WnO2/7BRA1sg/xopHFUAe++KeVaIVQGUthncg/RVArV8pUOtXFkD0kcwotrIWQD3EbwGBDRdAhPYS2ktoF0DMKLayFsMXQBNbWYvhHRhAXI38Y6x4GECkv588d9MYQOzxQhVCLhlAMyTm7QyJGUB7VonG1+MZQMKILJ+iPhpAC7vPd22ZGkBT7XJQOPQaQJsfFikDTxtA4lG5Ac6pG0AqhFzamAQcQHK2/7JjXxxAuuiiiy66HEABG0Zk+RQdQElN6TzEbx1AkH+MFY/KHUDasS/uWSUeQCHk0sYkgB5AaRZ2n+/aHkCwSBl4ujUfQPl6vFCFkB9AQK1fKVDrH0DEbwGBDSMgQOgIU+1yUCBADKKkWdh9IEAwO/bFPasgQFTURzKj2CBAd22ZnggGIUCcBusKbjMhQL+fPHfTYCFA4ziO4ziOIUA=\",\"dtype\":\"float64\",\"shape\":[100]},\"y\":{\"__ndarray__\":\"AAAAAAAAJEAVXf4fOi2FuoWDYJE423C6TzNPSP8Mt7lfKWkHEQClubNhgGMZRNa4qwlEqyA81biisQfzJzTUuJpZyzovLNO4kQGPgjYk0riIqVLKPRzRuH9RFhJFFNC47vKzs5gYzrjfQjtDpwjMuMySwtK1+Mm4u+JJYsTox7iqMtHx0tjFuJqCWIHhyMO4iNLfEPC4wbjsRM5A/VG/uMvk3F8aMru4qoTrfjcSt7iHJPqdVPKyuMWIEXrjpK24g8guuB1lpbiFEJjsr0qauAUgpdFIloO4EUt5opQB37dGWVa4y43dt3tnM84CGty3rXUQ5Dmm2rfig+35cDLZtxaSyg+ovte3S6CnJd9K1reAroQ7FtfUt7K8YVFNY9O358o+Z4Tv0bcc2Rt9u3vQt5zO8SXlD863BeurUVMoy7dvB2Z9wUDIt9gjIKkvWcW3QUDa1J1xwrdMuSgBGBS/tx7ynFj0RLm38CoRsNB1s7d0xwoPWk2rtzNy5nslXp+3+6pusy1DgLfvjIlUedLNtsmTph1Hr822pJrD5hSMzbaAoeCv4mjNtlmo/XiwRc22M68aQn4izbYNtjcLTP/Mtui8VNQZ3My2w8Nxnee4zLaeyo5mtZXMtnjRqy+Dcsy2UtjI+FBPzLYt3+XBHizMtgfmAovsCMy24ewfVLrly7a88zwdiMLLtpf6WeZVn8u2cQF3ryN8y7ZLCJR48VjLticPsUG/Ncu2ABbOCo0Sy7bbHOvTWu/KtrYjCJ0ozMq2kColZvaoyrZrMUIvxIXKtkU4X/iRYsq2Hz98wV8/yrb6RZmKLRzKttRMtlP7+Mm2rlPTHMnVybaKWvDllrLJtmRhDa9kj8m2PmgqeDJsybYZb0dBAEnJtvR1ZArOJcm2znyB05sCybaog56cad/ItoOKu2U3vMi2XZHYLgWZyLY3mPX30nXIthOfEsGgUsi27aUvim4vyLbHrExTPAzItqKzaRwK6ce2fLqG5dfFx7ZWwaOupaLHtjHIwHdzf8e2C8/dQEFcx7bm1foJDznHtsHcF9PcFce2muM0nKryxrY=\",\"dtype\":\"float64\",\"shape\":[100]}},\"selected\":{\"id\":\"1260\",\"type\":\"Selection\"},\"selection_policy\":{\"id\":\"1259\",\"type\":\"UnionRenderers\"}},\"id\":\"1165\",\"type\":\"ColumnDataSource\"},{\"attributes\":{\"line_color\":\"#9367bc\",\"line_width\":2,\"x\":{\"field\":\"x\"},\"y\":{\"field\":\"y\"}},\"id\":\"1789\",\"type\":\"Line\"},{\"attributes\":{},\"id\":\"1043\",\"type\":\"LinearScale\"},{\"attributes\":{\"callback\":null,\"data\":{\"x\":{\"__ndarray__\":\"AAAAAAAAAAD0kcwotrK2P/SRzCi2ssY/d22ZnggG0T/0kcwotrLWP3K2/7JjX9w/d22ZnggG4T+2/7JjX9zjP/SRzCi2suY/MyTm7QyJ6T9ytv+yY1/sP7BIGXi6Ne8/d22ZnggG8T+WNiYBNHHyP7b/smNf3PM/1sg/xopH9T/0kcwotrL2PxNbWYvhHfg/MyTm7QyJ+T9T7XJQOPT6P3K2/7JjX/w/kH+MFY/K/T+wSBl4ujX/P+gIU+1yUABAd22ZnggGAUAG0t9PnrsBQJY2JgE0cQJAJptssskmA0C2/7JjX9wDQEVk+RT1kQRA1sg/xopHBUBlLYZ3IP0FQPSRzCi2sgZAhPYS2ktoB0ATW1mL4R0IQKS/nzx30whAMyTm7QyJCUDCiCyfoj4KQFPtclA49ApA4lG5Ac6pC0Bytv+yY18MQAEbRmT5FA1AkH+MFY/KDUAh5NLGJIAOQLBIGXi6NQ9AQK1fKVDrD0DoCFPtclAQQDA79sU9qxBAd22ZnggGEUC/nzx302ARQAbS30+euxFATwSDKGkWEkCWNiYBNHESQN9oydn+yxJAJptssskmE0BuzQ+LlIETQLb/smNf3BNA/jFWPCo3FEBFZPkU9ZEUQI2WnO2/7BRA1sg/xopHFUAe++KeVaIVQGUthncg/RVArV8pUOtXFkD0kcwotrIWQD3EbwGBDRdAhPYS2ktoF0DMKLayFsMXQBNbWYvhHRhAXI38Y6x4GECkv588d9MYQOzxQhVCLhlAMyTm7QyJGUB7VonG1+MZQMKILJ+iPhpAC7vPd22ZGkBT7XJQOPQaQJsfFikDTxtA4lG5Ac6pG0AqhFzamAQcQHK2/7JjXxxAuuiiiy66HEABG0Zk+RQdQElN6TzEbx1AkH+MFY/KHUDasS/uWSUeQCHk0sYkgB5AaRZ2n+/aHkCwSBl4ujUfQPl6vFCFkB9AQK1fKVDrH0DEbwGBDSMgQOgIU+1yUCBADKKkWdh9IEAwO/bFPasgQFTURzKj2CBAd22ZnggGIUCcBusKbjMhQL+fPHfTYCFA4ziO4ziOIUA=\",\"dtype\":\"float64\",\"shape\":[100]},\"y\":{\"__ndarray__\":\"AAAAAAAAAACsumSoNdMFQBFg3cHunSRAzxLggwE3NEC+eAmkqG8+QFF8OjG5+UNAUL//IeJNSEA6easV3jxMQCMSVPXlz09AO7W0qK+HUUBnLBa6dQFTQGd2MKW8WFRAyjwy1qqQVUAd0K8VHaxWQHmuLkKtrVdAuDJUbLiXWEBvKBxkZGxZQMYrvcSkLVpApGs+ij/dWkAtKOU70XxbQPtaYbXQDVxAlQtnl5KRXEArkbNnTAldQDmy6GgXdl1AZcsgLvPYXUC0HqzzxzJeQL7M6cFohF5ArMkFW5XOXkDSSRL/+xFfQJnhXgQ7T19AzLz3S+KGX0DCB2CTdLlfQHMN1ado519ApM+8PpUIYEBvSmgWjhtgQDzgimzLLGBAIjruwHU8YEBaTZ/gsUpgQPt5+juhV2BAjyiCNmJjYED28pxsEG5gQBl2kPXEd2BARYD0nZaAYEB+f3odmohgQAdBdkfij2BAxMQsN4CWYEC/SB14g5xgQD6QMCr6oWBAOzQ5I/GmYECKgOIMdKtgQJI+ZYCNr2BAJasMH0ezYEBcgxqpqbZgQN8SORK9uWBAzRgplIi8YEBgAc2/Er9gQDsMh4xhwWBAA1I7ZnrDYEA25RQ6YsVgQB4KF4Idx2BAKy+YT7DIYEBGH9tUHspgQBRJuu1qy2BAKHKJJ5nMYEDzLTbIq81gQM33/lSlzmBAhMMZGIjPYECayjQmVtBgQEDzZmMR0WBAxbCMh7vRYECIu1UiVtJgQKQ+9J7i0mBACp1wR2LTYECVaq9H1tNgQMILMrA/1GBALPGYeJ/UYEBOc+aB9tRgQNI/kZhF1WBAImxldo3VYECm3TbEztVgQK0HbxsK1mBAb/F0B0DWYEBK0vQGcdZgQOxcCY2d1mBAWptKAsbWYEAiC8TF6tZgQMVn0y0M12BASATziCrXYECKZXIeRtdgQNhzHi9f12BAZDjZ9XXXYEA14SOoitdgQJD0nHad12BA0OZyja7XYEBtT8sUvtdgQGv+IDHM12BA0uWZA9nXYEAjJVWq5NdgQHC0sUDv12BAFbaO3/jXYEA=\",\"dtype\":\"float64\",\"shape\":[100]}},\"selected\":{\"id\":\"2049\",\"type\":\"Selection\"},\"selection_policy\":{\"id\":\"2048\",\"type\":\"UnionRenderers\"}},\"id\":\"1806\",\"type\":\"ColumnDataSource\"},{\"attributes\":{\"line_alpha\":0.1,\"line_color\":\"#1f77b4\",\"line_width\":2,\"x\":{\"field\":\"x\"},\"y\":{\"field\":\"y\"}},\"id\":\"1072\",\"type\":\"Line\"},{\"attributes\":{},\"id\":\"1152\",\"type\":\"PanTool\"},{\"attributes\":{\"line_alpha\":0.1,\"line_color\":\"#1f77b4\",\"line_width\":2,\"x\":{\"field\":\"x\"},\"y\":{\"field\":\"y\"}},\"id\":\"1790\",\"type\":\"Line\"},{\"attributes\":{},\"id\":\"1153\",\"type\":\"WheelZoomTool\"},{\"attributes\":{\"data_source\":{\"id\":\"1788\",\"type\":\"ColumnDataSource\"},\"glyph\":{\"id\":\"1789\",\"type\":\"Line\"},\"hover_glyph\":null,\"muted_glyph\":null,\"nonselection_glyph\":{\"id\":\"1790\",\"type\":\"Line\"},\"selection_glyph\":null,\"view\":{\"id\":\"1792\",\"type\":\"CDSView\"}},\"id\":\"1791\",\"type\":\"GlyphRenderer\"},{\"attributes\":{},\"id\":\"1045\",\"type\":\"LinearScale\"},{\"attributes\":{\"overlay\":{\"id\":\"1175\",\"type\":\"BoxAnnotation\"}},\"id\":\"1154\",\"type\":\"BoxZoomTool\"},{\"attributes\":{\"axis_label\":\"time (hrs)\",\"formatter\":{\"id\":\"1077\",\"type\":\"BasicTickFormatter\"},\"ticker\":{\"id\":\"1048\",\"type\":\"BasicTicker\"}},\"id\":\"1047\",\"type\":\"LinearAxis\"},{\"attributes\":{},\"id\":\"1155\",\"type\":\"SaveTool\"},{\"attributes\":{\"dimension\":1,\"ticker\":{\"id\":\"1053\",\"type\":\"BasicTicker\"}},\"id\":\"1056\",\"type\":\"Grid\"},{\"attributes\":{\"callback\":null,\"data\":{\"x\":{\"__ndarray__\":\"AAAAAAAAAAD0kcwotrK2P/SRzCi2ssY/d22ZnggG0T/0kcwotrLWP3K2/7JjX9w/d22ZnggG4T+2/7JjX9zjP/SRzCi2suY/MyTm7QyJ6T9ytv+yY1/sP7BIGXi6Ne8/d22ZnggG8T+WNiYBNHHyP7b/smNf3PM/1sg/xopH9T/0kcwotrL2PxNbWYvhHfg/MyTm7QyJ+T9T7XJQOPT6P3K2/7JjX/w/kH+MFY/K/T+wSBl4ujX/P+gIU+1yUABAd22ZnggGAUAG0t9PnrsBQJY2JgE0cQJAJptssskmA0C2/7JjX9wDQEVk+RT1kQRA1sg/xopHBUBlLYZ3IP0FQPSRzCi2sgZAhPYS2ktoB0ATW1mL4R0IQKS/nzx30whAMyTm7QyJCUDCiCyfoj4KQFPtclA49ApA4lG5Ac6pC0Bytv+yY18MQAEbRmT5FA1AkH+MFY/KDUAh5NLGJIAOQLBIGXi6NQ9AQK1fKVDrD0DoCFPtclAQQDA79sU9qxBAd22ZnggGEUC/nzx302ARQAbS30+euxFATwSDKGkWEkCWNiYBNHESQN9oydn+yxJAJptssskmE0BuzQ+LlIETQLb/smNf3BNA/jFWPCo3FEBFZPkU9ZEUQI2WnO2/7BRA1sg/xopHFUAe++KeVaIVQGUthncg/RVArV8pUOtXFkD0kcwotrIWQD3EbwGBDRdAhPYS2ktoF0DMKLayFsMXQBNbWYvhHRhAXI38Y6x4GECkv588d9MYQOzxQhVCLhlAMyTm7QyJGUB7VonG1+MZQMKILJ+iPhpAC7vPd22ZGkBT7XJQOPQaQJsfFikDTxtA4lG5Ac6pG0AqhFzamAQcQHK2/7JjXxxAuuiiiy66HEABG0Zk+RQdQElN6TzEbx1AkH+MFY/KHUDasS/uWSUeQCHk0sYkgB5AaRZ2n+/aHkCwSBl4ujUfQPl6vFCFkB9AQK1fKVDrH0DEbwGBDSMgQOgIU+1yUCBADKKkWdh9IEAwO/bFPasgQFTURzKj2CBAd22ZnggGIUCcBusKbjMhQL+fPHfTYCFA4ziO4ziOIUA=\",\"dtype\":\"float64\",\"shape\":[100]},\"y\":{\"__ndarray__\":\"AAAAAAAAAABnr59HTkUdQDiyOtA9OyJAenF45qgOI0B45JlYIV0jQGnk6O/4giNA4MmKs8qYI0Cg38kp66YjQHkS69DFsCNA8ywZVAK4I0CihBO0hr0jQJs8mJnawSNA8upMN1PFI0CT8hfDKMgjQMJxktOByiNA2GHpyHnMI0B19jOZJM4jQPTc8yqRzyNAU7GX18rQI0DAhEdr2tEjQPck49LG0iNArr4SlZXTI0DuprYoS9QjQPylkTLr1CNAz4/ns3jVI0ChpXUs9tUjQETAh7Rl1iNADILsEMnWI0CZ5nPCIdcjQLZpFBJx1yNAJyCLGrjXI0C5hQvQ99cjQFyjdAYx2CNAbt50dmTYI0Ar5TPBktgjQDj8C3S82CNAguscDOLYI0A09iH3A9kjQHYfZ5Yi2SNAeV44QD7ZI0AOxUpBV9kjQEBT8d1t2SNAYWQXU4LZI0CyhD/XlNkjQPP1+Jql2SNADatfyrTZI0C8UUaMwtkjQLe/AQTP2SNAQws+UdrZI0B+ZHyQ5NkjQK6matvt2SNACb4vSfbZI0DKHa/u/dkjQIlqxN4E2iNAqY54KgvaI0BS/jDhENojQDZD2RAW2iNAeiEPxhraI0D10mIMH9ojQJqr8ewi2iNA4f6JcybaI0D4OpamKdojQLK0X44s2iNAXMfaMS/aI0DpblWXMdojQFGNh8Qz2iNAJJegvjXaI0CXuFSKN9ojQAGS6Cs52iNAeYg7pzraI0DQTNH/O9ojQER32jg92iNAgEY8VT7aI0BgoZdXP9ojQKtxT0JA2iNA42mOF0HaI0DPNEzZQdojQMIyUolC2iNAG8M/KUPaI0AvIY66Q9ojQMrnkz5E2iNAIUyItkTaI0DQ8IUjRdojQMCXjYZF2iNA3HmI4EXaI0BVdUoyRtojQLgBlHxG2iNAA/YTwEbaI0BJLmn9RtojQGPrIzVH2iNAz2XHZ0faI0BNnMqVR9ojQLXJmb9H2iNAAI+X5UfaI0BwpxoISNojQC/dgidI2iNAbVYcREjaI0DlFeFdSNojQKoua3VI2iNATeXLikjaI0A=\",\"dtype\":\"float64\",\"shape\":[100]}},\"selected\":{\"id\":\"1803\",\"type\":\"Selection\"},\"selection_policy\":{\"id\":\"1802\",\"type\":\"UnionRenderers\"}},\"id\":\"1772\",\"type\":\"ColumnDataSource\"},{\"attributes\":{\"source\":{\"id\":\"1788\",\"type\":\"ColumnDataSource\"}},\"id\":\"1792\",\"type\":\"CDSView\"},{\"attributes\":{},\"id\":\"1048\",\"type\":\"BasicTicker\"},{\"attributes\":{},\"id\":\"1156\",\"type\":\"ResetTool\"},{\"attributes\":{},\"id\":\"1802\",\"type\":\"UnionRenderers\"},{\"attributes\":{\"data_source\":{\"id\":\"1772\",\"type\":\"ColumnDataSource\"},\"glyph\":{\"id\":\"1773\",\"type\":\"Line\"},\"hover_glyph\":null,\"muted_glyph\":null,\"nonselection_glyph\":{\"id\":\"1774\",\"type\":\"Line\"},\"selection_glyph\":null,\"view\":{\"id\":\"1776\",\"type\":\"CDSView\"}},\"id\":\"1775\",\"type\":\"GlyphRenderer\"},{\"attributes\":{\"ticker\":{\"id\":\"1048\",\"type\":\"BasicTicker\"}},\"id\":\"1051\",\"type\":\"Grid\"},{\"attributes\":{\"label\":{\"value\":\"bound atp synthase\"},\"renderers\":[{\"id\":\"1791\",\"type\":\"GlyphRenderer\"}]},\"id\":\"1805\",\"type\":\"LegendItem\"},{\"attributes\":{},\"id\":\"1157\",\"type\":\"HelpTool\"},{\"attributes\":{},\"id\":\"1803\",\"type\":\"Selection\"},{\"attributes\":{\"label\":{\"value\":\"outside_H\"},\"renderers\":[{\"id\":\"1761\",\"type\":\"GlyphRenderer\"}]},\"id\":\"1771\",\"type\":\"LegendItem\"},{\"attributes\":{},\"id\":\"1053\",\"type\":\"BasicTicker\"},{\"attributes\":{\"axis_label\":\"concentration (nM)\",\"formatter\":{\"id\":\"1079\",\"type\":\"BasicTickFormatter\"},\"ticker\":{\"id\":\"1053\",\"type\":\"BasicTicker\"}},\"id\":\"1052\",\"type\":\"LinearAxis\"},{\"attributes\":{\"source\":{\"id\":\"1758\",\"type\":\"ColumnDataSource\"}},\"id\":\"1762\",\"type\":\"CDSView\"},{\"attributes\":{\"label\":{\"value\":\"bound proton pump\"},\"renderers\":[{\"id\":\"1809\",\"type\":\"GlyphRenderer\"}]},\"id\":\"1825\",\"type\":\"LegendItem\"},{\"attributes\":{\"line_color\":\"#8c564b\",\"line_width\":2,\"x\":{\"field\":\"x\"},\"y\":{\"field\":\"y\"}},\"id\":\"1807\",\"type\":\"Line\"},{\"attributes\":{\"source\":{\"id\":\"1165\",\"type\":\"ColumnDataSource\"}},\"id\":\"1169\",\"type\":\"CDSView\"},{\"attributes\":{\"items\":[{\"id\":\"1177\",\"type\":\"LegendItem\"}]},\"id\":\"1176\",\"type\":\"Legend\"},{\"attributes\":{\"line_alpha\":0.1,\"line_color\":\"#1f77b4\",\"line_width\":2,\"x\":{\"field\":\"x\"},\"y\":{\"field\":\"y\"}},\"id\":\"1808\",\"type\":\"Line\"},{\"attributes\":{\"callback\":null,\"data\":{\"x\":{\"__ndarray__\":\"AAAAAAAAAAD0kcwotrK2P/SRzCi2ssY/d22ZnggG0T/0kcwotrLWP3K2/7JjX9w/d22ZnggG4T+2/7JjX9zjP/SRzCi2suY/MyTm7QyJ6T9ytv+yY1/sP7BIGXi6Ne8/d22ZnggG8T+WNiYBNHHyP7b/smNf3PM/1sg/xopH9T/0kcwotrL2PxNbWYvhHfg/MyTm7QyJ+T9T7XJQOPT6P3K2/7JjX/w/kH+MFY/K/T+wSBl4ujX/P+gIU+1yUABAd22ZnggGAUAG0t9PnrsBQJY2JgE0cQJAJptssskmA0C2/7JjX9wDQEVk+RT1kQRA1sg/xopHBUBlLYZ3IP0FQPSRzCi2sgZAhPYS2ktoB0ATW1mL4R0IQKS/nzx30whAMyTm7QyJCUDCiCyfoj4KQFPtclA49ApA4lG5Ac6pC0Bytv+yY18MQAEbRmT5FA1AkH+MFY/KDUAh5NLGJIAOQLBIGXi6NQ9AQK1fKVDrD0DoCFPtclAQQDA79sU9qxBAd22ZnggGEUC/nzx302ARQAbS30+euxFATwSDKGkWEkCWNiYBNHESQN9oydn+yxJAJptssskmE0BuzQ+LlIETQLb/smNf3BNA/jFWPCo3FEBFZPkU9ZEUQI2WnO2/7BRA1sg/xopHFUAe++KeVaIVQGUthncg/RVArV8pUOtXFkD0kcwotrIWQD3EbwGBDRdAhPYS2ktoF0DMKLayFsMXQBNbWYvhHRhAXI38Y6x4GECkv588d9MYQOzxQhVCLhlAMyTm7QyJGUB7VonG1+MZQMKILJ+iPhpAC7vPd22ZGkBT7XJQOPQaQJsfFikDTxtA4lG5Ac6pG0AqhFzamAQcQHK2/7JjXxxAuuiiiy66HEABG0Zk+RQdQElN6TzEbx1AkH+MFY/KHUDasS/uWSUeQCHk0sYkgB5AaRZ2n+/aHkCwSBl4ujUfQPl6vFCFkB9AQK1fKVDrH0DEbwGBDSMgQOgIU+1yUCBADKKkWdh9IEAwO/bFPasgQFTURzKj2CBAd22ZnggGIUCcBusKbjMhQL+fPHfTYCFA4ziO4ziOIUA=\",\"dtype\":\"float64\",\"shape\":[100]},\"y\":{\"__ndarray__\":\"AAAAAAAAJEAAAAAAAAAkQAAAAAAAACRAAAAAAAAAJEAAAAAAAAAkQAAAAAAAACRAAAAAAAAAJEAAAAAAAAAkQAAAAAAAACRAAAAAAAAAJEAAAAAAAAAkQAAAAAAAACRAAAAAAAAAJEAAAAAAAAAkQAAAAAAAACRAAAAAAAAAJEAAAAAAAAAkQAAAAAAAACRAAAAAAAAAJEAAAAAAAAAkQAAAAAAAACRAAAAAAAAAJEAAAAAAAAAkQAAAAAAAACRAAAAAAAAAJEAAAAAAAAAkQAAAAAAAACRAAAAAAAAAJEAAAAAAAAAkQAAAAAAAACRAAAAAAAAAJEAAAAAAAAAkQAAAAAAAACRAAAAAAAAAJEAAAAAAAAAkQAAAAAAAACRAAAAAAAAAJEAAAAAAAAAkQAAAAAAAACRAAAAAAAAAJEAAAAAAAAAkQAAAAAAAACRAAAAAAAAAJEAAAAAAAAAkQAAAAAAAACRAAAAAAAAAJEAAAAAAAAAkQAAAAAAAACRAAAAAAAAAJEAAAAAAAAAkQAAAAAAAACRAAAAAAAAAJEAAAAAAAAAkQAAAAAAAACRAAAAAAAAAJEAAAAAAAAAkQAAAAAAAACRAAAAAAAAAJEAAAAAAAAAkQAAAAAAAACRAAAAAAAAAJEAAAAAAAAAkQAAAAAAAACRAAAAAAAAAJEAAAAAAAAAkQAAAAAAAACRAAAAAAAAAJEAAAAAAAAAkQAAAAAAAACRAAAAAAAAAJEAAAAAAAAAkQAAAAAAAACRAAAAAAAAAJEAAAAAAAAAkQAAAAAAAACRAAAAAAAAAJEAAAAAAAAAkQAAAAAAAACRAAAAAAAAAJEAAAAAAAAAkQAAAAAAAACRAAAAAAAAAJEAAAAAAAAAkQAAAAAAAACRAAAAAAAAAJEAAAAAAAAAkQAAAAAAAACRAAAAAAAAAJEAAAAAAAAAkQAAAAAAAACRAAAAAAAAAJEAAAAAAAAAkQAAAAAAAACRAAAAAAAAAJEAAAAAAAAAkQAAAAAAAACRAAAAAAAAAJEAAAAAAAAAkQAAAAAAAACRAAAAAAAAAJEA=\",\"dtype\":\"float64\",\"shape\":[100]}},\"selected\":{\"id\":\"1094\",\"type\":\"Selection\"},\"selection_policy\":{\"id\":\"1093\",\"type\":\"UnionRenderers\"}},\"id\":\"1070\",\"type\":\"ColumnDataSource\"},{\"attributes\":{},\"id\":\"1172\",\"type\":\"BasicTickFormatter\"},{\"attributes\":{\"line_color\":\"#2ba02b\",\"line_width\":2,\"x\":{\"field\":\"x\"},\"y\":{\"field\":\"y\"}},\"id\":\"1773\",\"type\":\"Line\"},{\"attributes\":{},\"id\":\"1174\",\"type\":\"BasicTickFormatter\"},{\"attributes\":{\"click_policy\":\"hide\",\"items\":[{\"id\":\"1082\",\"type\":\"LegendItem\"},{\"id\":\"1096\",\"type\":\"LegendItem\"},{\"id\":\"1112\",\"type\":\"LegendItem\"},{\"id\":\"1130\",\"type\":\"LegendItem\"}],\"location\":\"bottom_right\"},\"id\":\"1081\",\"type\":\"Legend\"},{\"attributes\":{\"below\":[{\"id\":\"1142\",\"type\":\"LinearAxis\"}],\"center\":[{\"id\":\"1146\",\"type\":\"Grid\"},{\"id\":\"1151\",\"type\":\"Grid\"},{\"id\":\"1176\",\"type\":\"Legend\"}],\"left\":[{\"id\":\"1147\",\"type\":\"LinearAxis\"}],\"plot_height\":350,\"plot_width\":450,\"renderers\":[{\"id\":\"1168\",\"type\":\"GlyphRenderer\"}],\"title\":{\"id\":\"1132\",\"type\":\"Title\"},\"toolbar\":{\"id\":\"1158\",\"type\":\"Toolbar\"},\"x_range\":{\"id\":\"1134\",\"type\":\"DataRange1d\"},\"x_scale\":{\"id\":\"1138\",\"type\":\"LinearScale\"},\"y_range\":{\"id\":\"1136\",\"type\":\"DataRange1d\"},\"y_scale\":{\"id\":\"1140\",\"type\":\"LinearScale\"}},\"id\":\"1131\",\"subtype\":\"Figure\",\"type\":\"Plot\"},{\"attributes\":{\"data_source\":{\"id\":\"1806\",\"type\":\"ColumnDataSource\"},\"glyph\":{\"id\":\"1807\",\"type\":\"Line\"},\"hover_glyph\":null,\"muted_glyph\":null,\"nonselection_glyph\":{\"id\":\"1808\",\"type\":\"Line\"},\"selection_glyph\":null,\"view\":{\"id\":\"1810\",\"type\":\"CDSView\"}},\"id\":\"1809\",\"type\":\"GlyphRenderer\"},{\"attributes\":{\"line_alpha\":0.1,\"line_color\":\"#1f77b4\",\"line_width\":2,\"x\":{\"field\":\"x\"},\"y\":{\"field\":\"y\"}},\"id\":\"1760\",\"type\":\"Line\"},{\"attributes\":{\"line_alpha\":0.1,\"line_color\":\"#1f77b4\",\"line_width\":2,\"x\":{\"field\":\"x\"},\"y\":{\"field\":\"y\"}},\"id\":\"1774\",\"type\":\"Line\"},{\"attributes\":{\"bottom_units\":\"screen\",\"fill_alpha\":{\"value\":0.5},\"fill_color\":{\"value\":\"lightgrey\"},\"left_units\":\"screen\",\"level\":\"overlay\",\"line_alpha\":{\"value\":1.0},\"line_color\":{\"value\":\"black\"},\"line_dash\":[4,4],\"line_width\":{\"value\":2},\"render_mode\":\"css\",\"right_units\":\"screen\",\"top_units\":\"screen\"},\"id\":\"1175\",\"type\":\"BoxAnnotation\"},{\"attributes\":{\"source\":{\"id\":\"1806\",\"type\":\"ColumnDataSource\"}},\"id\":\"1810\",\"type\":\"CDSView\"},{\"attributes\":{},\"id\":\"1057\",\"type\":\"PanTool\"},{\"attributes\":{\"label\":{\"value\":\"atp\"},\"renderers\":[{\"id\":\"1168\",\"type\":\"GlyphRenderer\"}]},\"id\":\"1177\",\"type\":\"LegendItem\"},{\"attributes\":{},\"id\":\"1058\",\"type\":\"WheelZoomTool\"},{\"attributes\":{\"overlay\":{\"id\":\"1080\",\"type\":\"BoxAnnotation\"}},\"id\":\"1059\",\"type\":\"BoxZoomTool\"},{\"attributes\":{},\"id\":\"1060\",\"type\":\"SaveTool\"},{\"attributes\":{},\"id\":\"1256\",\"type\":\"UnionRenderers\"},{\"attributes\":{},\"id\":\"1061\",\"type\":\"ResetTool\"},{\"attributes\":{\"line_color\":\"#ff7e0e\",\"line_width\":2,\"x\":{\"field\":\"x\"},\"y\":{\"field\":\"y\"}},\"id\":\"1084\",\"type\":\"Line\"},{\"attributes\":{},\"id\":\"1062\",\"type\":\"HelpTool\"},{\"attributes\":{\"active_drag\":\"auto\",\"active_inspect\":\"auto\",\"active_multi\":null,\"active_scroll\":\"auto\",\"active_tap\":\"auto\",\"tools\":[{\"id\":\"1057\",\"type\":\"PanTool\"},{\"id\":\"1058\",\"type\":\"WheelZoomTool\"},{\"id\":\"1059\",\"type\":\"BoxZoomTool\"},{\"id\":\"1060\",\"type\":\"SaveTool\"},{\"id\":\"1061\",\"type\":\"ResetTool\"},{\"id\":\"1062\",\"type\":\"HelpTool\"}]},\"id\":\"1063\",\"type\":\"Toolbar\"},{\"attributes\":{\"bottom_units\":\"screen\",\"fill_alpha\":{\"value\":0.5},\"fill_color\":{\"value\":\"lightgrey\"},\"left_units\":\"screen\",\"level\":\"overlay\",\"line_alpha\":{\"value\":1.0},\"line_color\":{\"value\":\"black\"},\"line_dash\":[4,4],\"line_width\":{\"value\":2},\"render_mode\":\"css\",\"right_units\":\"screen\",\"top_units\":\"screen\"},\"id\":\"1755\",\"type\":\"BoxAnnotation\"},{\"attributes\":{},\"id\":\"1077\",\"type\":\"BasicTickFormatter\"},{\"attributes\":{\"bottom_units\":\"screen\",\"fill_alpha\":{\"value\":0.5},\"fill_color\":{\"value\":\"lightgrey\"},\"left_units\":\"screen\",\"level\":\"overlay\",\"line_alpha\":{\"value\":1.0},\"line_color\":{\"value\":\"black\"},\"line_dash\":[4,4],\"line_width\":{\"value\":2},\"render_mode\":\"css\",\"right_units\":\"screen\",\"top_units\":\"screen\"},\"id\":\"1080\",\"type\":\"BoxAnnotation\"},{\"attributes\":{\"label\":{\"value\":\"atp\"},\"renderers\":[{\"id\":\"1073\",\"type\":\"GlyphRenderer\"}]},\"id\":\"1082\",\"type\":\"LegendItem\"},{\"attributes\":{},\"id\":\"1079\",\"type\":\"BasicTickFormatter\"},{\"attributes\":{},\"id\":\"1257\",\"type\":\"Selection\"},{\"attributes\":{\"line_alpha\":0.1,\"line_color\":\"#1f77b4\",\"line_width\":2,\"x\":{\"field\":\"x\"},\"y\":{\"field\":\"y\"}},\"id\":\"1085\",\"type\":\"Line\"},{\"attributes\":{},\"id\":\"1259\",\"type\":\"UnionRenderers\"},{\"attributes\":{},\"id\":\"1260\",\"type\":\"Selection\"},{\"attributes\":{\"callback\":null,\"data\":{\"x\":{\"__ndarray__\":\"AAAAAAAAAAD0kcwotrK2P/SRzCi2ssY/d22ZnggG0T/0kcwotrLWP3K2/7JjX9w/d22ZnggG4T+2/7JjX9zjP/SRzCi2suY/MyTm7QyJ6T9ytv+yY1/sP7BIGXi6Ne8/d22ZnggG8T+WNiYBNHHyP7b/smNf3PM/1sg/xopH9T/0kcwotrL2PxNbWYvhHfg/MyTm7QyJ+T9T7XJQOPT6P3K2/7JjX/w/kH+MFY/K/T+wSBl4ujX/P+gIU+1yUABAd22ZnggGAUAG0t9PnrsBQJY2JgE0cQJAJptssskmA0C2/7JjX9wDQEVk+RT1kQRA1sg/xopHBUBlLYZ3IP0FQPSRzCi2sgZAhPYS2ktoB0ATW1mL4R0IQKS/nzx30whAMyTm7QyJCUDCiCyfoj4KQFPtclA49ApA4lG5Ac6pC0Bytv+yY18MQAEbRmT5FA1AkH+MFY/KDUAh5NLGJIAOQLBIGXi6NQ9AQK1fKVDrD0DoCFPtclAQQDA79sU9qxBAd22ZnggGEUC/nzx302ARQAbS30+euxFATwSDKGkWEkCWNiYBNHESQN9oydn+yxJAJptssskmE0BuzQ+LlIETQLb/smNf3BNA/jFWPCo3FEBFZPkU9ZEUQI2WnO2/7BRA1sg/xopHFUAe++KeVaIVQGUthncg/RVArV8pUOtXFkD0kcwotrIWQD3EbwGBDRdAhPYS2ktoF0DMKLayFsMXQBNbWYvhHRhAXI38Y6x4GECkv588d9MYQOzxQhVCLhlAMyTm7QyJGUB7VonG1+MZQMKILJ+iPhpAC7vPd22ZGkBT7XJQOPQaQJsfFikDTxtA4lG5Ac6pG0AqhFzamAQcQHK2/7JjXxxAuuiiiy66HEABG0Zk+RQdQElN6TzEbx1AkH+MFY/KHUDasS/uWSUeQCHk0sYkgB5AaRZ2n+/aHkCwSBl4ujUfQPl6vFCFkB9AQK1fKVDrH0DEbwGBDSMgQOgIU+1yUCBADKKkWdh9IEAwO/bFPasgQFTURzKj2CBAd22ZnggGIUCcBusKbjMhQL+fPHfTYCFA4ziO4ziOIUA=\",\"dtype\":\"float64\",\"shape\":[100]},\"y\":{\"__ndarray__\":\"AAAAAAAAJEDQDvRdFS7Bva2cDhBN5ya+CM1D2ANm4T1N4KyKpqPyPBBPSboUoJ69tNA6gL78q71YZ6WNxr2PPal2kVXFAKo9mPkkUwkC1b14qPMYbO4QviLTTkJWvAE+SqkalWDgGL7wkkOPGHz8PZ7Aa7RFVCM+/qtua4l5IT4fGGYygS8jvp4YMzmi6NC8kmv6HVtzoTzaZxrDZgwxPF/MzJYVtNS7oZTw2th1l7s2str0i9hou0z5LQS3iUW7jL15JT0HIbtsh5YP7U4+O3Aa/R53mY87tv7TVU3zjbugdYqaIVS2u5BApeP3itC7yHctvfCqGryw/CNz0UVJvKlgvYmzIqi8QR3JV78YirzQOJdSUwYqvG1LasumKfG7x0w5NwsPBDwQ8koc/Xvfu9irb4utYPm7ypEjiTyzRDyMfivzQvtnPBxzXmMd/3K8VK3bVxROqrw8xQVfBvS1vEPwvUe6m+88ihbI7sRisDzHJiQ+fny+vAyuXICX2bU83Ee7J+50xbzM/DasrEfwvFzqKavtHgM9Q1wyX3BRID0UYCcanl1AvYQ/sR7dAkC94Isa/vdyeT28EO4je7mAPaViIeWnjcC9GAvMXlT65D3T1ogA+7wHvriGMruHyPc9Hl/RLC8xvj0oZqwM/Iq4vTOi0iTjK8G9IFqjcpH6vr1atBcK0ifovRaL6yk9hwA+DBp/2IgxEr7chn6jbGkoPi3paC1+/Bu+q0OYc+OrAD5HhwA9YfcVPkBpGz5ytd694OtQJ0dd971gCTSWuqI9vucQNw8ZFzg+0lhLgXquM701FTuRv2qUvFeYMfw4dOK8c/i9KA079bw/TxairrizvGxq1LZN20u8+Q+WeJ0VirzJ7w4MvLQyPB1Y+kQVFmc8klJnNOrZTLy8dkNP2d4PPBYRkGkOVaE7E3ixzxZo/br7L/z2n08xu1/Va8xS1xM747Lqbzbu6LpgPTo4Gs2qOoY45a0gQEm6sqsMLBsVdbpYzlQElblAukg7j6W+IDS6sCKSX4b5i7oGjufVLpPGunC12OnhWt06Vba7HPxRBTs=\",\"dtype\":\"float64\",\"shape\":[100]}},\"selected\":{\"id\":\"1110\",\"type\":\"Selection\"},\"selection_policy\":{\"id\":\"1109\",\"type\":\"UnionRenderers\"}},\"id\":\"1083\",\"type\":\"ColumnDataSource\"},{\"attributes\":{\"data_source\":{\"id\":\"1083\",\"type\":\"ColumnDataSource\"},\"glyph\":{\"id\":\"1084\",\"type\":\"Line\"},\"hover_glyph\":null,\"muted_glyph\":null,\"nonselection_glyph\":{\"id\":\"1085\",\"type\":\"Line\"},\"selection_glyph\":null,\"view\":{\"id\":\"1087\",\"type\":\"CDSView\"}},\"id\":\"1086\",\"type\":\"GlyphRenderer\"},{\"attributes\":{\"below\":[{\"id\":\"1722\",\"type\":\"LinearAxis\"}],\"center\":[{\"id\":\"1726\",\"type\":\"Grid\"},{\"id\":\"1731\",\"type\":\"Grid\"},{\"id\":\"1756\",\"type\":\"Legend\"}],\"left\":[{\"id\":\"1727\",\"type\":\"LinearAxis\"}],\"plot_height\":350,\"plot_width\":450,\"renderers\":[{\"id\":\"1748\",\"type\":\"GlyphRenderer\"},{\"id\":\"1761\",\"type\":\"GlyphRenderer\"},{\"id\":\"1775\",\"type\":\"GlyphRenderer\"},{\"id\":\"1791\",\"type\":\"GlyphRenderer\"},{\"id\":\"1809\",\"type\":\"GlyphRenderer\"}],\"title\":{\"id\":\"1712\",\"type\":\"Title\"},\"toolbar\":{\"id\":\"1738\",\"type\":\"Toolbar\"},\"x_range\":{\"id\":\"1714\",\"type\":\"DataRange1d\"},\"x_scale\":{\"id\":\"1718\",\"type\":\"LinearScale\"},\"y_range\":{\"id\":\"1716\",\"type\":\"DataRange1d\"},\"y_scale\":{\"id\":\"1720\",\"type\":\"LinearScale\"}},\"id\":\"1711\",\"subtype\":\"Figure\",\"type\":\"Plot\"},{\"attributes\":{\"callback\":null,\"data\":{\"x\":{\"__ndarray__\":\"AAAAAAAAAAD0kcwotrK2P/SRzCi2ssY/d22ZnggG0T/0kcwotrLWP3K2/7JjX9w/d22ZnggG4T+2/7JjX9zjP/SRzCi2suY/MyTm7QyJ6T9ytv+yY1/sP7BIGXi6Ne8/d22ZnggG8T+WNiYBNHHyP7b/smNf3PM/1sg/xopH9T/0kcwotrL2PxNbWYvhHfg/MyTm7QyJ+T9T7XJQOPT6P3K2/7JjX/w/kH+MFY/K/T+wSBl4ujX/P+gIU+1yUABAd22ZnggGAUAG0t9PnrsBQJY2JgE0cQJAJptssskmA0C2/7JjX9wDQEVk+RT1kQRA1sg/xopHBUBlLYZ3IP0FQPSRzCi2sgZAhPYS2ktoB0ATW1mL4R0IQKS/nzx30whAMyTm7QyJCUDCiCyfoj4KQFPtclA49ApA4lG5Ac6pC0Bytv+yY18MQAEbRmT5FA1AkH+MFY/KDUAh5NLGJIAOQLBIGXi6NQ9AQK1fKVDrD0DoCFPtclAQQDA79sU9qxBAd22ZnggGEUC/nzx302ARQAbS30+euxFATwSDKGkWEkCWNiYBNHESQN9oydn+yxJAJptssskmE0BuzQ+LlIETQLb/smNf3BNA/jFWPCo3FEBFZPkU9ZEUQI2WnO2/7BRA1sg/xopHFUAe++KeVaIVQGUthncg/RVArV8pUOtXFkD0kcwotrIWQD3EbwGBDRdAhPYS2ktoF0DMKLayFsMXQBNbWYvhHRhAXI38Y6x4GECkv588d9MYQOzxQhVCLhlAMyTm7QyJGUB7VonG1+MZQMKILJ+iPhpAC7vPd22ZGkBT7XJQOPQaQJsfFikDTxtA4lG5Ac6pG0AqhFzamAQcQHK2/7JjXxxAuuiiiy66HEABG0Zk+RQdQElN6TzEbx1AkH+MFY/KHUDasS/uWSUeQCHk0sYkgB5AaRZ2n+/aHkCwSBl4ujUfQPl6vFCFkB9AQK1fKVDrH0DEbwGBDSMgQOgIU+1yUCBADKKkWdh9IEAwO/bFPasgQFTURzKj2CBAd22ZnggGIUCcBusKbjMhQL+fPHfTYCFA4ziO4ziOIUA=\",\"dtype\":\"float64\",\"shape\":[100]},\"y\":{\"__ndarray__\":\"AAAAAAAAAACwRAAAAAAkQEfnFgAAACRAl+n+////I0D2//////8jQEYPAAAAACRA9BsAAAAAJEAI+P////8jQPbl/////yNACKgAAAAAJEAtdwgAAAAkQOWQ+////yNAKXAMAAAAJEB0cPz///8jQLOr7P///yNAcobu////I0B9LxMAAAAkQPv//////yNA+///////I0D7//////8jQPv//////yNA+///////I0D7//////8jQPv//////yNA+///////I0D7//////8jQPv//////yNA+///////I0D7//////8jQPv//////yNA+///////I0D7//////8jQPv//////yNA+///////I0D7//////8jQPv//////yNA+///////I0D7//////8jQPv//////yNA+///////I0D7//////8jQPv//////yNA+v//////I0D7//////8jQPn//////yNA+///////I0D7//////8jQPv//////yNA/P//////I0D9//////8jQPb//////yNA6///////I0A9AAAAAAAkQDwAAAAAACRAzvz/////I0DN+/////8jQDNCAAAAACRAVrD+////I0A67wUAAAAkQOoG/f///yNAmsP/////I0ASMQAAAAAkQKxEAAAAACRA8j0AAAAAJEB5ggEAAAAkQC7e+////yNAwhgJAAAAJECRluf///8jQDz+DQAAACRABNX7////I0BNBPX///8jQKj1AAAAACRApesCAAAAJEBxRTsAAAAkQMrRz////yNAJAAAAAAAJED9//////8jQP7//////yNAAAAAAAAAJED9//////8jQP3//////yNA/f//////I0D9//////8jQP3//////yNA/f//////I0D9//////8jQP3//////yNA/f//////I0D9//////8jQP3//////yNA/f//////I0D9//////8jQP3//////yNA/f//////I0D9//////8jQP3//////yNA/f//////I0D9//////8jQP3//////yNA/f//////I0A=\",\"dtype\":\"float64\",\"shape\":[100]}},\"selected\":{\"id\":\"1128\",\"type\":\"Selection\"},\"selection_policy\":{\"id\":\"1127\",\"type\":\"UnionRenderers\"}},\"id\":\"1097\",\"type\":\"ColumnDataSource\"},{\"attributes\":{\"line_color\":\"#1f77b3\",\"line_width\":2,\"x\":{\"field\":\"x\"},\"y\":{\"field\":\"y\"}},\"id\":\"1071\",\"type\":\"Line\"},{\"attributes\":{\"callback\":null,\"data\":{\"x\":{\"__ndarray__\":\"AAAAAAAAAAD0kcwotrK2P/SRzCi2ssY/d22ZnggG0T/0kcwotrLWP3K2/7JjX9w/d22ZnggG4T+2/7JjX9zjP/SRzCi2suY/MyTm7QyJ6T9ytv+yY1/sP7BIGXi6Ne8/d22ZnggG8T+WNiYBNHHyP7b/smNf3PM/1sg/xopH9T/0kcwotrL2PxNbWYvhHfg/MyTm7QyJ+T9T7XJQOPT6P3K2/7JjX/w/kH+MFY/K/T+wSBl4ujX/P+gIU+1yUABAd22ZnggGAUAG0t9PnrsBQJY2JgE0cQJAJptssskmA0C2/7JjX9wDQEVk+RT1kQRA1sg/xopHBUBlLYZ3IP0FQPSRzCi2sgZAhPYS2ktoB0ATW1mL4R0IQKS/nzx30whAMyTm7QyJCUDCiCyfoj4KQFPtclA49ApA4lG5Ac6pC0Bytv+yY18MQAEbRmT5FA1AkH+MFY/KDUAh5NLGJIAOQLBIGXi6NQ9AQK1fKVDrD0DoCFPtclAQQDA79sU9qxBAd22ZnggGEUC/nzx302ARQAbS30+euxFATwSDKGkWEkCWNiYBNHESQN9oydn+yxJAJptssskmE0BuzQ+LlIETQLb/smNf3BNA/jFWPCo3FEBFZPkU9ZEUQI2WnO2/7BRA1sg/xopHFUAe++KeVaIVQGUthncg/RVArV8pUOtXFkD0kcwotrIWQD3EbwGBDRdAhPYS2ktoF0DMKLayFsMXQBNbWYvhHRhAXI38Y6x4GECkv588d9MYQOzxQhVCLhlAMyTm7QyJGUB7VonG1+MZQMKILJ+iPhpAC7vPd22ZGkBT7XJQOPQaQJsfFikDTxtA4lG5Ac6pG0AqhFzamAQcQHK2/7JjXxxAuuiiiy66HEABG0Zk+RQdQElN6TzEbx1AkH+MFY/KHUDasS/uWSUeQCHk0sYkgB5AaRZ2n+/aHkCwSBl4ujUfQPl6vFCFkB9AQK1fKVDrH0DEbwGBDSMgQOgIU+1yUCBADKKkWdh9IEAwO/bFPasgQFTURzKj2CBAd22ZnggGIUCcBusKbjMhQL+fPHfTYCFA4ziO4ziOIUA=\",\"dtype\":\"float64\",\"shape\":[100]},\"y\":{\"__ndarray__\":\"AAAAAAAAJEDx//////8fQPH//////x9A9v//////H0Dy//////8fQPX//////x9A9f//////H0Dw//////8fQPH//////x9A9P//////H0D2//////8fQPX//////x9A8///////H0Dy//////8fQPL//////x9A8///////H0Dy//////8fQPP//////x9A8v//////H0Dy//////8fQPH//////x9A4v//////H0Dx//////8fQPD//////x9A8P//////H0Dw//////8fQPD//////x9A8P//////H0Dw//////8fQPD//////x9A8P//////H0Dw//////8fQO7//////x9A3f//////H0Du//////8fQPH//////x9A8f//////H0Dw//////8fQO7//////x9A8///////H0Dz//////8fQN3//////x9A9f//////H0Co//////8fQGYAAAAAACBA6f//////H0Dr//////8fQOj//////x9A6P//////H0Dp//////8fQOn//////x9A6f//////H0Dp//////8fQOj//////x9A6P//////H0Dm//////8fQNf//////x9AEAAAAAAAIEDbAQAAAAAgQJT0/////x9A6P//////H0Dp//////8fQOn//////x9A6f//////H0Dp//////8fQOn//////x9A6f//////H0Dp//////8fQOn//////x9A6f//////H0Dp//////8fQOn//////x9A6f//////H0Do//////8fQOj//////x9A6P//////H0Do//////8fQOj//////x9A6f//////H0Dj//////8fQPH//////x9A4f//////H0Dk//////8fQOT//////x9A5v//////H0Dl//////8fQOP//////x9A7f//////H0DO//////8fQAkAAAAAACBAmP//////H0B///////8fQKH//////x9AI/3/////H0BvCAAAAAAgQAWv/////x9Af8D+////H0AFAAAAAAAgQKbw/////x9ACQAAAAAAIEA=\",\"dtype\":\"float64\",\"shape\":[100]}},\"selected\":{\"id\":\"1769\",\"type\":\"Selection\"},\"selection_policy\":{\"id\":\"1768\",\"type\":\"UnionRenderers\"}},\"id\":\"1745\",\"type\":\"ColumnDataSource\"},{\"attributes\":{\"source\":{\"id\":\"1083\",\"type\":\"ColumnDataSource\"}},\"id\":\"1087\",\"type\":\"CDSView\"},{\"attributes\":{},\"id\":\"1093\",\"type\":\"UnionRenderers\"},{\"attributes\":{\"text\":\"with ATP Synthase, Proton Pump, ATP Use\"},\"id\":\"1712\",\"type\":\"Title\"},{\"attributes\":{\"label\":{\"value\":\"outside_H\"},\"renderers\":[{\"id\":\"1086\",\"type\":\"GlyphRenderer\"}]},\"id\":\"1096\",\"type\":\"LegendItem\"},{\"attributes\":{},\"id\":\"1127\",\"type\":\"UnionRenderers\"},{\"attributes\":{},\"id\":\"1094\",\"type\":\"Selection\"},{\"attributes\":{\"callback\":null},\"id\":\"1714\",\"type\":\"DataRange1d\"},{\"attributes\":{},\"id\":\"1718\",\"type\":\"LinearScale\"},{\"attributes\":{\"line_color\":\"#ff7e0e\",\"line_width\":2,\"x\":{\"field\":\"x\"},\"y\":{\"field\":\"y\"}},\"id\":\"1759\",\"type\":\"Line\"},{\"attributes\":{\"line_color\":\"#2ba02b\",\"line_width\":2,\"x\":{\"field\":\"x\"},\"y\":{\"field\":\"y\"}},\"id\":\"1098\",\"type\":\"Line\"},{\"attributes\":{\"line_alpha\":0.1,\"line_color\":\"#1f77b4\",\"line_width\":2,\"x\":{\"field\":\"x\"},\"y\":{\"field\":\"y\"}},\"id\":\"1099\",\"type\":\"Line\"},{\"attributes\":{\"callback\":null},\"id\":\"1716\",\"type\":\"DataRange1d\"},{\"attributes\":{\"data_source\":{\"id\":\"1097\",\"type\":\"ColumnDataSource\"},\"glyph\":{\"id\":\"1098\",\"type\":\"Line\"},\"hover_glyph\":null,\"muted_glyph\":null,\"nonselection_glyph\":{\"id\":\"1099\",\"type\":\"Line\"},\"selection_glyph\":null,\"view\":{\"id\":\"1101\",\"type\":\"CDSView\"}},\"id\":\"1100\",\"type\":\"GlyphRenderer\"},{\"attributes\":{},\"id\":\"1720\",\"type\":\"LinearScale\"},{\"attributes\":{\"callback\":null,\"data\":{\"x\":{\"__ndarray__\":\"AAAAAAAAAAD0kcwotrK2P/SRzCi2ssY/d22ZnggG0T/0kcwotrLWP3K2/7JjX9w/d22ZnggG4T+2/7JjX9zjP/SRzCi2suY/MyTm7QyJ6T9ytv+yY1/sP7BIGXi6Ne8/d22ZnggG8T+WNiYBNHHyP7b/smNf3PM/1sg/xopH9T/0kcwotrL2PxNbWYvhHfg/MyTm7QyJ+T9T7XJQOPT6P3K2/7JjX/w/kH+MFY/K/T+wSBl4ujX/P+gIU+1yUABAd22ZnggGAUAG0t9PnrsBQJY2JgE0cQJAJptssskmA0C2/7JjX9wDQEVk+RT1kQRA1sg/xopHBUBlLYZ3IP0FQPSRzCi2sgZAhPYS2ktoB0ATW1mL4R0IQKS/nzx30whAMyTm7QyJCUDCiCyfoj4KQFPtclA49ApA4lG5Ac6pC0Bytv+yY18MQAEbRmT5FA1AkH+MFY/KDUAh5NLGJIAOQLBIGXi6NQ9AQK1fKVDrD0DoCFPtclAQQDA79sU9qxBAd22ZnggGEUC/nzx302ARQAbS30+euxFATwSDKGkWEkCWNiYBNHESQN9oydn+yxJAJptssskmE0BuzQ+LlIETQLb/smNf3BNA/jFWPCo3FEBFZPkU9ZEUQI2WnO2/7BRA1sg/xopHFUAe++KeVaIVQGUthncg/RVArV8pUOtXFkD0kcwotrIWQD3EbwGBDRdAhPYS2ktoF0DMKLayFsMXQBNbWYvhHRhAXI38Y6x4GECkv588d9MYQOzxQhVCLhlAMyTm7QyJGUB7VonG1+MZQMKILJ+iPhpAC7vPd22ZGkBT7XJQOPQaQJsfFikDTxtA4lG5Ac6pG0AqhFzamAQcQHK2/7JjXxxAuuiiiy66HEABG0Zk+RQdQElN6TzEbx1AkH+MFY/KHUDasS/uWSUeQCHk0sYkgB5AaRZ2n+/aHkCwSBl4ujUfQPl6vFCFkB9AQK1fKVDrH0DEbwGBDSMgQOgIU+1yUCBADKKkWdh9IEAwO/bFPasgQFTURzKj2CBAd22ZnggGIUCcBusKbjMhQL+fPHfTYCFA4ziO4ziOIUA=\",\"dtype\":\"float64\",\"shape\":[100]},\"y\":{\"__ndarray__\":\"AAAAAAAAAAD+t6gESg/zP2KOzvbkHgdA7rbke9TREUCA77dUF4IXQL1XIJRfrRxAhX1N2OivIEC+Zf43O9IiQMeq7FKqwiRA4TXOYMSFJkC1ZOQarR8oQKh4g3UnlClAO5cTdp7mKkBH6sQ6LRosQCWzhkamMS1AMmo/IpovLkAQuB5jXRYvQP+OECQO6C9AJK7Df0xTMEBS2ADK3qkwQOhbSlCJ+DBAgfHO3wRAMUDqW7Fl+YAxQBDogXn/uzFASiqvw6HxMUBfzUNDXiIyQOhu7XWnTjJAsQDiZOV2MkCLdFaZdpsyQIJkivqwvDJATA+Ql+LaMkBaVMVeUvYyQCoPV8RADzNAa1uyWeglM0BEYTdXfjozQCZ5GhkzTTNA05H/kDJeM0DB42GtpG0zQDuuN7etezNAJJE8p26IM0AVaWRzBZQzQLyZPVWNnjNAJffwCR+oM0DFEkwM0bAzQORbosm3uDNATPjA0eW/M0AKgIYCbMYzQKomia9ZzDNA16QTxrzRM0CVyfDtodYzQL14AKcU2zNAFUBZZB/fM0DFjcSky+IzQNXiGAki5jNAXnp2aCrpM0C8gLHi6+szQG4PF/Fs7jNAYKqfdbPwM0CAg8DIxPIzQGg09sWl9DNAefEt11r2M0AUgyb/5/czQIps3uJQ+TNAtmkg0pj6M0BovlHPwvszQBkDepbR/DNAUAK2o8f9M0DYXgo5p/4zQLTztGNy/zNASdz8ACsANED46ZLC0gA0QMskjTJrATRAnOQFt/UBNECF6GGVcwI0QPBzV/XlAjRA6gOd400DNEBlx1FUrAM0QPABUyUCBDRA260yIFAENEDThB/8lgQ0QBRAml/XBDRA3pzk4REFNEBTP2wMRwU0QANSD1x3BTRAprBQQqMFNECqm1gmywU0QPjf3mXvBTRAznIKVhAGNECIyjhELgY0QBYzunZJBjRA5r9yLWIGNEBxTHGieAY0QACIdwqNBjRAqLB0lZ8GNED/qvlusAY0QMfymr6/BjRAyXFPqM0GNEDoRMRM2gY0QKtkrcnlBjRAToYKOvAGNEA=\",\"dtype\":\"float64\",\"shape\":[100]}},\"selected\":{\"id\":\"1257\",\"type\":\"Selection\"},\"selection_policy\":{\"id\":\"1256\",\"type\":\"UnionRenderers\"}},\"id\":\"1113\",\"type\":\"ColumnDataSource\"},{\"attributes\":{\"dimension\":1,\"ticker\":{\"id\":\"1728\",\"type\":\"BasicTicker\"}},\"id\":\"1731\",\"type\":\"Grid\"},{\"attributes\":{\"axis_label\":\"time (hrs)\",\"formatter\":{\"id\":\"1752\",\"type\":\"BasicTickFormatter\"},\"ticker\":{\"id\":\"1723\",\"type\":\"BasicTicker\"}},\"id\":\"1722\",\"type\":\"LinearAxis\"},{\"attributes\":{\"source\":{\"id\":\"1097\",\"type\":\"ColumnDataSource\"}},\"id\":\"1101\",\"type\":\"CDSView\"},{\"attributes\":{\"axis_label\":\"concentration (nM)\",\"formatter\":{\"id\":\"1754\",\"type\":\"BasicTickFormatter\"},\"ticker\":{\"id\":\"1728\",\"type\":\"BasicTicker\"}},\"id\":\"1727\",\"type\":\"LinearAxis\"},{\"attributes\":{\"label\":{\"value\":\"atp\"},\"renderers\":[{\"id\":\"1748\",\"type\":\"GlyphRenderer\"}]},\"id\":\"1757\",\"type\":\"LegendItem\"},{\"attributes\":{},\"id\":\"1109\",\"type\":\"UnionRenderers\"},{\"attributes\":{},\"id\":\"1723\",\"type\":\"BasicTicker\"},{\"attributes\":{},\"id\":\"1754\",\"type\":\"BasicTickFormatter\"},{\"attributes\":{\"label\":{\"value\":\"inside_H\"},\"renderers\":[{\"id\":\"1100\",\"type\":\"GlyphRenderer\"}]},\"id\":\"1112\",\"type\":\"LegendItem\"},{\"attributes\":{\"ticker\":{\"id\":\"1723\",\"type\":\"BasicTicker\"}},\"id\":\"1726\",\"type\":\"Grid\"},{\"attributes\":{},\"id\":\"1110\",\"type\":\"Selection\"},{\"attributes\":{},\"id\":\"1728\",\"type\":\"BasicTicker\"},{\"attributes\":{\"source\":{\"id\":\"1113\",\"type\":\"ColumnDataSource\"}},\"id\":\"1117\",\"type\":\"CDSView\"},{\"attributes\":{\"line_color\":\"#9367bc\",\"line_width\":2,\"x\":{\"field\":\"x\"},\"y\":{\"field\":\"y\"}},\"id\":\"1114\",\"type\":\"Line\"},{\"attributes\":{},\"id\":\"1768\",\"type\":\"UnionRenderers\"},{\"attributes\":{\"line_color\":\"#1f77b3\",\"line_width\":2,\"x\":{\"field\":\"x\"},\"y\":{\"field\":\"y\"}},\"id\":\"1746\",\"type\":\"Line\"},{\"attributes\":{},\"id\":\"1752\",\"type\":\"BasicTickFormatter\"},{\"attributes\":{\"callback\":null,\"data\":{\"x\":{\"__ndarray__\":\"AAAAAAAAAAD0kcwotrK2P/SRzCi2ssY/d22ZnggG0T/0kcwotrLWP3K2/7JjX9w/d22ZnggG4T+2/7JjX9zjP/SRzCi2suY/MyTm7QyJ6T9ytv+yY1/sP7BIGXi6Ne8/d22ZnggG8T+WNiYBNHHyP7b/smNf3PM/1sg/xopH9T/0kcwotrL2PxNbWYvhHfg/MyTm7QyJ+T9T7XJQOPT6P3K2/7JjX/w/kH+MFY/K/T+wSBl4ujX/P+gIU+1yUABAd22ZnggGAUAG0t9PnrsBQJY2JgE0cQJAJptssskmA0C2/7JjX9wDQEVk+RT1kQRA1sg/xopHBUBlLYZ3IP0FQPSRzCi2sgZAhPYS2ktoB0ATW1mL4R0IQKS/nzx30whAMyTm7QyJCUDCiCyfoj4KQFPtclA49ApA4lG5Ac6pC0Bytv+yY18MQAEbRmT5FA1AkH+MFY/KDUAh5NLGJIAOQLBIGXi6NQ9AQK1fKVDrD0DoCFPtclAQQDA79sU9qxBAd22ZnggGEUC/nzx302ARQAbS30+euxFATwSDKGkWEkCWNiYBNHESQN9oydn+yxJAJptssskmE0BuzQ+LlIETQLb/smNf3BNA/jFWPCo3FEBFZPkU9ZEUQI2WnO2/7BRA1sg/xopHFUAe++KeVaIVQGUthncg/RVArV8pUOtXFkD0kcwotrIWQD3EbwGBDRdAhPYS2ktoF0DMKLayFsMXQBNbWYvhHRhAXI38Y6x4GECkv588d9MYQOzxQhVCLhlAMyTm7QyJGUB7VonG1+MZQMKILJ+iPhpAC7vPd22ZGkBT7XJQOPQaQJsfFikDTxtA4lG5Ac6pG0AqhFzamAQcQHK2/7JjXxxAuuiiiy66HEABG0Zk+RQdQElN6TzEbx1AkH+MFY/KHUDasS/uWSUeQCHk0sYkgB5AaRZ2n+/aHkCwSBl4ujUfQPl6vFCFkB9AQK1fKVDrH0DEbwGBDSMgQOgIU+1yUCBADKKkWdh9IEAwO/bFPasgQFTURzKj2CBAd22ZnggGIUCcBusKbjMhQL+fPHfTYCFA4ziO4ziOIUA=\",\"dtype\":\"float64\",\"shape\":[100]},\"y\":{\"__ndarray__\":\"AAAAAAAAJEA7ocBwY3UFQNrcVPwiTOw/W9HxMOMq3j9rccPs1FvUP/3nxgXEQc8/VIpNHVPNyT/TGoiNNUXGPxhlO8WLzsM/3cW0+Wr/wT/E2R77Up7AP0m34TOzEr8/xouKWWRWvT/QuwZ0nuu7P68kxzYWv7o/5hlPixvDuT8gywRms+24P36LEYZqN7g/IVwnNJSatz8vpj1cyhK3Py2KbY6WnLY/Q66gdjU1tj/Ojayka9q1P6AGLbdmirU/nRw4DKZDtT99My3F6QS1P/bhH7wlzbQ/+v2+iXebtD+utwzGHm+0P/coy/V2R7Q/DfBvuvIjtD9mJj36FwS0PyFVrsV857M/GcyQxcTNsz+ybQ1mn7azP4rnAfrFobM/p0KK8fmOsz9y6QRvBH6zP41IcMy0brM/ssfQ499gsz+pfJ1aX1SzPw5kVgcRSbM/M9NNdNY+sz9Mqj1glDWzP3kJhYMyLbM/HHwq0Jolsz+dJNfcuR6zP5kmIP99GLM/yWD6YNcSsz+hws3Btw2zP7GqrEoSCbM/Uf0gaNsEsz+sHHGoCAGzP8O9yp2Q/bI/1q24w2r6sj8l2oBnj/eyP85nXpP39LI/H0Zv+Jzysj8iiZbOefCyP0k2KoeJ7rI/EpQAO8bssj++h+K0LOuyPySqJdC46bI/W1WcEmfosj/MjkhVNOeyP09aObwd5rI/Z3G0ryDlsj//t6PVOuSyP/YCtwtq47I/usY7Yqzisj+0mlkXAOKyP/BgxJJj4bI/lsPcYdXgsj9nUy80VOCyP2IuR9je37I/ThLLOHTfsj+ynOVZE9+yP6ii5la73rI/EHYeYGvesj/Ia++4It6yPyseDLbg3bI/TvLZu6Tdsj94mwc9bt2yP1AjNLk83bI/NxXDuw/dsj9dWMXa5tyyP7Ym/7XB3LI/8QAF9p/csj8g3mhLgdyyP+1QCm5l3LI/EBtNHEzcsj8X3LEaNdyyP/0nGzMg3LI/c4I4NA3csj+VSqzy+9uyPzxrkT7s27I/+8vU8d3bsj95EHUP0duyPxauaErF27I/HV0Nmrrbsj8=\",\"dtype\":\"float64\",\"shape\":[100]}},\"selected\":{\"id\":\"1785\",\"type\":\"Selection\"},\"selection_policy\":{\"id\":\"1784\",\"type\":\"UnionRenderers\"}},\"id\":\"1758\",\"type\":\"ColumnDataSource\"},{\"attributes\":{\"click_policy\":\"hide\",\"items\":[{\"id\":\"1757\",\"type\":\"LegendItem\"},{\"id\":\"1771\",\"type\":\"LegendItem\"},{\"id\":\"1787\",\"type\":\"LegendItem\"},{\"id\":\"1805\",\"type\":\"LegendItem\"},{\"id\":\"1825\",\"type\":\"LegendItem\"}],\"location\":\"center_right\"},\"id\":\"1756\",\"type\":\"Legend\"},{\"attributes\":{\"line_alpha\":0.1,\"line_color\":\"#1f77b4\",\"line_width\":2,\"x\":{\"field\":\"x\"},\"y\":{\"field\":\"y\"}},\"id\":\"1115\",\"type\":\"Line\"},{\"attributes\":{\"data_source\":{\"id\":\"1113\",\"type\":\"ColumnDataSource\"},\"glyph\":{\"id\":\"1114\",\"type\":\"Line\"},\"hover_glyph\":null,\"muted_glyph\":null,\"nonselection_glyph\":{\"id\":\"1115\",\"type\":\"Line\"},\"selection_glyph\":null,\"view\":{\"id\":\"1117\",\"type\":\"CDSView\"}},\"id\":\"1116\",\"type\":\"GlyphRenderer\"}],\"root_ids\":[\"2219\"]},\"title\":\"Bokeh Application\",\"version\":\"1.4.0\"}};\n",
       "  var render_items = [{\"docid\":\"2b107b08-2db7-4866-919b-7f019ebb4c46\",\"roots\":{\"2219\":\"3c563879-6b07-4bc2-99c7-f2a3be374d65\"}}];\n",
       "  root.Bokeh.embed.embed_items_notebook(docs_json, render_items);\n",
       "\n",
       "  }\n",
       "  if (root.Bokeh !== undefined) {\n",
       "    embed_document(root);\n",
       "  } else {\n",
       "    var attempts = 0;\n",
       "    var timer = setInterval(function(root) {\n",
       "      if (root.Bokeh !== undefined) {\n",
       "        clearInterval(timer);\n",
       "        embed_document(root);\n",
       "      } else {\n",
       "        attempts++;\n",
       "        if (attempts > 100) {\n",
       "          clearInterval(timer);\n",
       "          console.log(\"Bokeh: ERROR: Unable to run BokehJS code because BokehJS library is missing\");\n",
       "        }\n",
       "      }\n",
       "    }, 10, root)\n",
       "  }\n",
       "})(window);"
      ],
      "application/vnd.bokehjs_exec.v0+json": ""
     },
     "metadata": {
      "application/vnd.bokehjs_exec.v0+json": {
       "id": "2219"
      }
     },
     "output_type": "display_data"
    }
   ],
   "source": [
    "bokeh.io.show(row(p3,p_w_atp, p_no_atp))"
   ]
  },
  {
   "cell_type": "markdown",
   "metadata": {},
   "source": [
    "Cool. What's going on with the second plot. How come it looks like atp isn't being consumed?? Fix those params?? Next do temperature sensitivity."
   ]
  },
  {
   "cell_type": "code",
   "execution_count": 21,
   "metadata": {},
   "outputs": [],
   "source": [
    "# p_atp = bokeh.plotting.figure(width = 450, height = 350,\n",
    "#                              title = 'ATP Compare',\n",
    "#                              x_axis_label = 'time (sec)',\n",
    "#                              y_axis_label = 'concentration (nM)')\n",
    "\n",
    "# p_atp.line(plt_timepoints, results_everything[ATP_id3],line_width = 2, color = palette[0],legend_label = 'with ATP Synthase, Proton Pump, ATP Use')\n",
    "# p_atp.line(plt_timepoints, results1[ATP_id], line_width = 2, color = palette[1], legend_label = 'with ATP Synthase, ATP Use')\n",
    "# p_atp.line(plt_timepoints, results2[ATP_id2],line_width = 2, color = palette[2],legend_label = 'ATP Use only')\n",
    "# p_atp.legend.location = 'center_right'\n",
    "# bokeh.io.show(p_atp)"
   ]
  },
  {
   "cell_type": "code",
   "execution_count": null,
   "metadata": {},
   "outputs": [],
   "source": [
    "#watermark\n",
    "%reload_ext watermark\n",
    "%watermark -v -p numpy,bokeh,jupyterlab,scipy,biocrnpyler,bioscrape,colorcet,subsbml\n",
    "  "
   ]
  },
  {
   "cell_type": "code",
   "execution_count": null,
   "metadata": {},
   "outputs": [],
   "source": []
  }
 ],
 "metadata": {
  "kernelspec": {
   "display_name": "Python 3",
   "language": "python",
   "name": "python3"
  },
  "language_info": {
   "codemirror_mode": {
    "name": "ipython",
    "version": 3
   },
   "file_extension": ".py",
   "mimetype": "text/x-python",
   "name": "python",
   "nbconvert_exporter": "python",
   "pygments_lexer": "ipython3",
   "version": "3.7.7"
  }
 },
 "nbformat": 4,
 "nbformat_minor": 4
}
