{
 "cells": [
  {
   "cell_type": "markdown",
   "metadata": {},
   "source": [
    "# Combine Sub-SBML models with TXTL Machinery\n",
    "---"
   ]
  },
  {
   "cell_type": "markdown",
   "metadata": {},
   "source": [
    "Do this so you can incorporate temperature control <br>\n",
    "2020.08.14"
   ]
  },
  {
   "cell_type": "code",
   "execution_count": 114,
   "metadata": {},
   "outputs": [
    {
     "data": {
      "text/html": [
       "\n",
       "    <div class=\"bk-root\">\n",
       "        <a href=\"https://bokeh.org\" target=\"_blank\" class=\"bk-logo bk-logo-small bk-logo-notebook\"></a>\n",
       "        <span id=\"31773\">Loading BokehJS ...</span>\n",
       "    </div>"
      ]
     },
     "metadata": {},
     "output_type": "display_data"
    },
    {
     "data": {
      "application/javascript": [
       "\n",
       "(function(root) {\n",
       "  function now() {\n",
       "    return new Date();\n",
       "  }\n",
       "\n",
       "  var force = true;\n",
       "\n",
       "  if (typeof root._bokeh_onload_callbacks === \"undefined\" || force === true) {\n",
       "    root._bokeh_onload_callbacks = [];\n",
       "    root._bokeh_is_loading = undefined;\n",
       "  }\n",
       "\n",
       "  var JS_MIME_TYPE = 'application/javascript';\n",
       "  var HTML_MIME_TYPE = 'text/html';\n",
       "  var EXEC_MIME_TYPE = 'application/vnd.bokehjs_exec.v0+json';\n",
       "  var CLASS_NAME = 'output_bokeh rendered_html';\n",
       "\n",
       "  /**\n",
       "   * Render data to the DOM node\n",
       "   */\n",
       "  function render(props, node) {\n",
       "    var script = document.createElement(\"script\");\n",
       "    node.appendChild(script);\n",
       "  }\n",
       "\n",
       "  /**\n",
       "   * Handle when an output is cleared or removed\n",
       "   */\n",
       "  function handleClearOutput(event, handle) {\n",
       "    var cell = handle.cell;\n",
       "\n",
       "    var id = cell.output_area._bokeh_element_id;\n",
       "    var server_id = cell.output_area._bokeh_server_id;\n",
       "    // Clean up Bokeh references\n",
       "    if (id != null && id in Bokeh.index) {\n",
       "      Bokeh.index[id].model.document.clear();\n",
       "      delete Bokeh.index[id];\n",
       "    }\n",
       "\n",
       "    if (server_id !== undefined) {\n",
       "      // Clean up Bokeh references\n",
       "      var cmd = \"from bokeh.io.state import curstate; print(curstate().uuid_to_server['\" + server_id + \"'].get_sessions()[0].document.roots[0]._id)\";\n",
       "      cell.notebook.kernel.execute(cmd, {\n",
       "        iopub: {\n",
       "          output: function(msg) {\n",
       "            var id = msg.content.text.trim();\n",
       "            if (id in Bokeh.index) {\n",
       "              Bokeh.index[id].model.document.clear();\n",
       "              delete Bokeh.index[id];\n",
       "            }\n",
       "          }\n",
       "        }\n",
       "      });\n",
       "      // Destroy server and session\n",
       "      var cmd = \"import bokeh.io.notebook as ion; ion.destroy_server('\" + server_id + \"')\";\n",
       "      cell.notebook.kernel.execute(cmd);\n",
       "    }\n",
       "  }\n",
       "\n",
       "  /**\n",
       "   * Handle when a new output is added\n",
       "   */\n",
       "  function handleAddOutput(event, handle) {\n",
       "    var output_area = handle.output_area;\n",
       "    var output = handle.output;\n",
       "\n",
       "    // limit handleAddOutput to display_data with EXEC_MIME_TYPE content only\n",
       "    if ((output.output_type != \"display_data\") || (!output.data.hasOwnProperty(EXEC_MIME_TYPE))) {\n",
       "      return\n",
       "    }\n",
       "\n",
       "    var toinsert = output_area.element.find(\".\" + CLASS_NAME.split(' ')[0]);\n",
       "\n",
       "    if (output.metadata[EXEC_MIME_TYPE][\"id\"] !== undefined) {\n",
       "      toinsert[toinsert.length - 1].firstChild.textContent = output.data[JS_MIME_TYPE];\n",
       "      // store reference to embed id on output_area\n",
       "      output_area._bokeh_element_id = output.metadata[EXEC_MIME_TYPE][\"id\"];\n",
       "    }\n",
       "    if (output.metadata[EXEC_MIME_TYPE][\"server_id\"] !== undefined) {\n",
       "      var bk_div = document.createElement(\"div\");\n",
       "      bk_div.innerHTML = output.data[HTML_MIME_TYPE];\n",
       "      var script_attrs = bk_div.children[0].attributes;\n",
       "      for (var i = 0; i < script_attrs.length; i++) {\n",
       "        toinsert[toinsert.length - 1].firstChild.setAttribute(script_attrs[i].name, script_attrs[i].value);\n",
       "      }\n",
       "      // store reference to server id on output_area\n",
       "      output_area._bokeh_server_id = output.metadata[EXEC_MIME_TYPE][\"server_id\"];\n",
       "    }\n",
       "  }\n",
       "\n",
       "  function register_renderer(events, OutputArea) {\n",
       "\n",
       "    function append_mime(data, metadata, element) {\n",
       "      // create a DOM node to render to\n",
       "      var toinsert = this.create_output_subarea(\n",
       "        metadata,\n",
       "        CLASS_NAME,\n",
       "        EXEC_MIME_TYPE\n",
       "      );\n",
       "      this.keyboard_manager.register_events(toinsert);\n",
       "      // Render to node\n",
       "      var props = {data: data, metadata: metadata[EXEC_MIME_TYPE]};\n",
       "      render(props, toinsert[toinsert.length - 1]);\n",
       "      element.append(toinsert);\n",
       "      return toinsert\n",
       "    }\n",
       "\n",
       "    /* Handle when an output is cleared or removed */\n",
       "    events.on('clear_output.CodeCell', handleClearOutput);\n",
       "    events.on('delete.Cell', handleClearOutput);\n",
       "\n",
       "    /* Handle when a new output is added */\n",
       "    events.on('output_added.OutputArea', handleAddOutput);\n",
       "\n",
       "    /**\n",
       "     * Register the mime type and append_mime function with output_area\n",
       "     */\n",
       "    OutputArea.prototype.register_mime_type(EXEC_MIME_TYPE, append_mime, {\n",
       "      /* Is output safe? */\n",
       "      safe: true,\n",
       "      /* Index of renderer in `output_area.display_order` */\n",
       "      index: 0\n",
       "    });\n",
       "  }\n",
       "\n",
       "  // register the mime type if in Jupyter Notebook environment and previously unregistered\n",
       "  if (root.Jupyter !== undefined) {\n",
       "    var events = require('base/js/events');\n",
       "    var OutputArea = require('notebook/js/outputarea').OutputArea;\n",
       "\n",
       "    if (OutputArea.prototype.mime_types().indexOf(EXEC_MIME_TYPE) == -1) {\n",
       "      register_renderer(events, OutputArea);\n",
       "    }\n",
       "  }\n",
       "\n",
       "  \n",
       "  if (typeof (root._bokeh_timeout) === \"undefined\" || force === true) {\n",
       "    root._bokeh_timeout = Date.now() + 5000;\n",
       "    root._bokeh_failed_load = false;\n",
       "  }\n",
       "\n",
       "  var NB_LOAD_WARNING = {'data': {'text/html':\n",
       "     \"<div style='background-color: #fdd'>\\n\"+\n",
       "     \"<p>\\n\"+\n",
       "     \"BokehJS does not appear to have successfully loaded. If loading BokehJS from CDN, this \\n\"+\n",
       "     \"may be due to a slow or bad network connection. Possible fixes:\\n\"+\n",
       "     \"</p>\\n\"+\n",
       "     \"<ul>\\n\"+\n",
       "     \"<li>re-rerun `output_notebook()` to attempt to load from CDN again, or</li>\\n\"+\n",
       "     \"<li>use INLINE resources instead, as so:</li>\\n\"+\n",
       "     \"</ul>\\n\"+\n",
       "     \"<code>\\n\"+\n",
       "     \"from bokeh.resources import INLINE\\n\"+\n",
       "     \"output_notebook(resources=INLINE)\\n\"+\n",
       "     \"</code>\\n\"+\n",
       "     \"</div>\"}};\n",
       "\n",
       "  function display_loaded() {\n",
       "    var el = document.getElementById(\"31773\");\n",
       "    if (el != null) {\n",
       "      el.textContent = \"BokehJS is loading...\";\n",
       "    }\n",
       "    if (root.Bokeh !== undefined) {\n",
       "      if (el != null) {\n",
       "        el.textContent = \"BokehJS \" + root.Bokeh.version + \" successfully loaded.\";\n",
       "      }\n",
       "    } else if (Date.now() < root._bokeh_timeout) {\n",
       "      setTimeout(display_loaded, 100)\n",
       "    }\n",
       "  }\n",
       "\n",
       "\n",
       "  function run_callbacks() {\n",
       "    try {\n",
       "      root._bokeh_onload_callbacks.forEach(function(callback) {\n",
       "        if (callback != null)\n",
       "          callback();\n",
       "      });\n",
       "    } finally {\n",
       "      delete root._bokeh_onload_callbacks\n",
       "    }\n",
       "    console.debug(\"Bokeh: all callbacks have finished\");\n",
       "  }\n",
       "\n",
       "  function load_libs(css_urls, js_urls, callback) {\n",
       "    if (css_urls == null) css_urls = [];\n",
       "    if (js_urls == null) js_urls = [];\n",
       "\n",
       "    root._bokeh_onload_callbacks.push(callback);\n",
       "    if (root._bokeh_is_loading > 0) {\n",
       "      console.debug(\"Bokeh: BokehJS is being loaded, scheduling callback at\", now());\n",
       "      return null;\n",
       "    }\n",
       "    if (js_urls == null || js_urls.length === 0) {\n",
       "      run_callbacks();\n",
       "      return null;\n",
       "    }\n",
       "    console.debug(\"Bokeh: BokehJS not loaded, scheduling load and callback at\", now());\n",
       "    root._bokeh_is_loading = css_urls.length + js_urls.length;\n",
       "\n",
       "    function on_load() {\n",
       "      root._bokeh_is_loading--;\n",
       "      if (root._bokeh_is_loading === 0) {\n",
       "        console.debug(\"Bokeh: all BokehJS libraries/stylesheets loaded\");\n",
       "        run_callbacks()\n",
       "      }\n",
       "    }\n",
       "\n",
       "    function on_error() {\n",
       "      console.error(\"failed to load \" + url);\n",
       "    }\n",
       "\n",
       "    for (var i = 0; i < css_urls.length; i++) {\n",
       "      var url = css_urls[i];\n",
       "      const element = document.createElement(\"link\");\n",
       "      element.onload = on_load;\n",
       "      element.onerror = on_error;\n",
       "      element.rel = \"stylesheet\";\n",
       "      element.type = \"text/css\";\n",
       "      element.href = url;\n",
       "      console.debug(\"Bokeh: injecting link tag for BokehJS stylesheet: \", url);\n",
       "      document.body.appendChild(element);\n",
       "    }\n",
       "\n",
       "    for (var i = 0; i < js_urls.length; i++) {\n",
       "      var url = js_urls[i];\n",
       "      var element = document.createElement('script');\n",
       "      element.onload = on_load;\n",
       "      element.onerror = on_error;\n",
       "      element.async = false;\n",
       "      element.src = url;\n",
       "      console.debug(\"Bokeh: injecting script tag for BokehJS library: \", url);\n",
       "      document.head.appendChild(element);\n",
       "    }\n",
       "  };var element = document.getElementById(\"31773\");\n",
       "  if (element == null) {\n",
       "    console.error(\"Bokeh: ERROR: autoload.js configured with elementid '31773' but no matching script tag was found. \")\n",
       "    return false;\n",
       "  }\n",
       "\n",
       "  function inject_raw_css(css) {\n",
       "    const element = document.createElement(\"style\");\n",
       "    element.appendChild(document.createTextNode(css));\n",
       "    document.body.appendChild(element);\n",
       "  }\n",
       "\n",
       "  \n",
       "  var js_urls = [\"https://cdn.pydata.org/bokeh/release/bokeh-1.4.0.min.js\", \"https://cdn.pydata.org/bokeh/release/bokeh-widgets-1.4.0.min.js\", \"https://cdn.pydata.org/bokeh/release/bokeh-tables-1.4.0.min.js\", \"https://cdn.pydata.org/bokeh/release/bokeh-gl-1.4.0.min.js\"];\n",
       "  var css_urls = [];\n",
       "  \n",
       "\n",
       "  var inline_js = [\n",
       "    function(Bokeh) {\n",
       "      Bokeh.set_log_level(\"info\");\n",
       "    },\n",
       "    function(Bokeh) {\n",
       "    \n",
       "    \n",
       "    }\n",
       "  ];\n",
       "\n",
       "  function run_inline_js() {\n",
       "    \n",
       "    if (root.Bokeh !== undefined || force === true) {\n",
       "      \n",
       "    for (var i = 0; i < inline_js.length; i++) {\n",
       "      inline_js[i].call(root, root.Bokeh);\n",
       "    }\n",
       "    if (force === true) {\n",
       "        display_loaded();\n",
       "      }} else if (Date.now() < root._bokeh_timeout) {\n",
       "      setTimeout(run_inline_js, 100);\n",
       "    } else if (!root._bokeh_failed_load) {\n",
       "      console.log(\"Bokeh: BokehJS failed to load within specified timeout.\");\n",
       "      root._bokeh_failed_load = true;\n",
       "    } else if (force !== true) {\n",
       "      var cell = $(document.getElementById(\"31773\")).parents('.cell').data().cell;\n",
       "      cell.output_area.append_execute_result(NB_LOAD_WARNING)\n",
       "    }\n",
       "\n",
       "  }\n",
       "\n",
       "  if (root._bokeh_is_loading === 0) {\n",
       "    console.debug(\"Bokeh: BokehJS loaded, going straight to plotting\");\n",
       "    run_inline_js();\n",
       "  } else {\n",
       "    load_libs(css_urls, js_urls, function() {\n",
       "      console.debug(\"Bokeh: BokehJS plotting callback run at\", now());\n",
       "      run_inline_js();\n",
       "    });\n",
       "  }\n",
       "}(window));"
      ],
      "application/vnd.bokehjs_load.v0+json": "\n(function(root) {\n  function now() {\n    return new Date();\n  }\n\n  var force = true;\n\n  if (typeof root._bokeh_onload_callbacks === \"undefined\" || force === true) {\n    root._bokeh_onload_callbacks = [];\n    root._bokeh_is_loading = undefined;\n  }\n\n  \n\n  \n  if (typeof (root._bokeh_timeout) === \"undefined\" || force === true) {\n    root._bokeh_timeout = Date.now() + 5000;\n    root._bokeh_failed_load = false;\n  }\n\n  var NB_LOAD_WARNING = {'data': {'text/html':\n     \"<div style='background-color: #fdd'>\\n\"+\n     \"<p>\\n\"+\n     \"BokehJS does not appear to have successfully loaded. If loading BokehJS from CDN, this \\n\"+\n     \"may be due to a slow or bad network connection. Possible fixes:\\n\"+\n     \"</p>\\n\"+\n     \"<ul>\\n\"+\n     \"<li>re-rerun `output_notebook()` to attempt to load from CDN again, or</li>\\n\"+\n     \"<li>use INLINE resources instead, as so:</li>\\n\"+\n     \"</ul>\\n\"+\n     \"<code>\\n\"+\n     \"from bokeh.resources import INLINE\\n\"+\n     \"output_notebook(resources=INLINE)\\n\"+\n     \"</code>\\n\"+\n     \"</div>\"}};\n\n  function display_loaded() {\n    var el = document.getElementById(\"31773\");\n    if (el != null) {\n      el.textContent = \"BokehJS is loading...\";\n    }\n    if (root.Bokeh !== undefined) {\n      if (el != null) {\n        el.textContent = \"BokehJS \" + root.Bokeh.version + \" successfully loaded.\";\n      }\n    } else if (Date.now() < root._bokeh_timeout) {\n      setTimeout(display_loaded, 100)\n    }\n  }\n\n\n  function run_callbacks() {\n    try {\n      root._bokeh_onload_callbacks.forEach(function(callback) {\n        if (callback != null)\n          callback();\n      });\n    } finally {\n      delete root._bokeh_onload_callbacks\n    }\n    console.debug(\"Bokeh: all callbacks have finished\");\n  }\n\n  function load_libs(css_urls, js_urls, callback) {\n    if (css_urls == null) css_urls = [];\n    if (js_urls == null) js_urls = [];\n\n    root._bokeh_onload_callbacks.push(callback);\n    if (root._bokeh_is_loading > 0) {\n      console.debug(\"Bokeh: BokehJS is being loaded, scheduling callback at\", now());\n      return null;\n    }\n    if (js_urls == null || js_urls.length === 0) {\n      run_callbacks();\n      return null;\n    }\n    console.debug(\"Bokeh: BokehJS not loaded, scheduling load and callback at\", now());\n    root._bokeh_is_loading = css_urls.length + js_urls.length;\n\n    function on_load() {\n      root._bokeh_is_loading--;\n      if (root._bokeh_is_loading === 0) {\n        console.debug(\"Bokeh: all BokehJS libraries/stylesheets loaded\");\n        run_callbacks()\n      }\n    }\n\n    function on_error() {\n      console.error(\"failed to load \" + url);\n    }\n\n    for (var i = 0; i < css_urls.length; i++) {\n      var url = css_urls[i];\n      const element = document.createElement(\"link\");\n      element.onload = on_load;\n      element.onerror = on_error;\n      element.rel = \"stylesheet\";\n      element.type = \"text/css\";\n      element.href = url;\n      console.debug(\"Bokeh: injecting link tag for BokehJS stylesheet: \", url);\n      document.body.appendChild(element);\n    }\n\n    for (var i = 0; i < js_urls.length; i++) {\n      var url = js_urls[i];\n      var element = document.createElement('script');\n      element.onload = on_load;\n      element.onerror = on_error;\n      element.async = false;\n      element.src = url;\n      console.debug(\"Bokeh: injecting script tag for BokehJS library: \", url);\n      document.head.appendChild(element);\n    }\n  };var element = document.getElementById(\"31773\");\n  if (element == null) {\n    console.error(\"Bokeh: ERROR: autoload.js configured with elementid '31773' but no matching script tag was found. \")\n    return false;\n  }\n\n  function inject_raw_css(css) {\n    const element = document.createElement(\"style\");\n    element.appendChild(document.createTextNode(css));\n    document.body.appendChild(element);\n  }\n\n  \n  var js_urls = [\"https://cdn.pydata.org/bokeh/release/bokeh-1.4.0.min.js\", \"https://cdn.pydata.org/bokeh/release/bokeh-widgets-1.4.0.min.js\", \"https://cdn.pydata.org/bokeh/release/bokeh-tables-1.4.0.min.js\", \"https://cdn.pydata.org/bokeh/release/bokeh-gl-1.4.0.min.js\"];\n  var css_urls = [];\n  \n\n  var inline_js = [\n    function(Bokeh) {\n      Bokeh.set_log_level(\"info\");\n    },\n    function(Bokeh) {\n    \n    \n    }\n  ];\n\n  function run_inline_js() {\n    \n    if (root.Bokeh !== undefined || force === true) {\n      \n    for (var i = 0; i < inline_js.length; i++) {\n      inline_js[i].call(root, root.Bokeh);\n    }\n    if (force === true) {\n        display_loaded();\n      }} else if (Date.now() < root._bokeh_timeout) {\n      setTimeout(run_inline_js, 100);\n    } else if (!root._bokeh_failed_load) {\n      console.log(\"Bokeh: BokehJS failed to load within specified timeout.\");\n      root._bokeh_failed_load = true;\n    } else if (force !== true) {\n      var cell = $(document.getElementById(\"31773\")).parents('.cell').data().cell;\n      cell.output_area.append_execute_result(NB_LOAD_WARNING)\n    }\n\n  }\n\n  if (root._bokeh_is_loading === 0) {\n    console.debug(\"Bokeh: BokehJS loaded, going straight to plotting\");\n    run_inline_js();\n  } else {\n    load_libs(css_urls, js_urls, function() {\n      console.debug(\"Bokeh: BokehJS plotting callback run at\", now());\n      run_inline_js();\n    });\n  }\n}(window));"
     },
     "metadata": {},
     "output_type": "display_data"
    }
   ],
   "source": [
    "from biocrnpyler import *\n",
    "#from biocrnpyler.chemical_reaction_network import Species, Reaction, ComplexSpecies, Multimer\n",
    "import numpy as np\n",
    "#import pylab as plt \n",
    "#%matplotlib inline\n",
    "\n",
    "import bokeh.io\n",
    "import bokeh.plotting\n",
    "from bokeh.layouts import row\n",
    "bokeh.io.output_notebook()\n",
    "\n",
    "import colorcet\n",
    "\n",
    "from subsbml import createNewSubsystem, createSubsystem"
   ]
  },
  {
   "cell_type": "code",
   "execution_count": 115,
   "metadata": {},
   "outputs": [
    {
     "ename": "ValueError",
     "evalue": "list.remove(x): x not in list",
     "output_type": "error",
     "traceback": [
      "\u001b[0;31m---------------------------------------------------------------------------\u001b[0m",
      "\u001b[0;31mValueError\u001b[0m                                Traceback (most recent call last)",
      "\u001b[0;32m<ipython-input-115-9f1acf1eaf8d>\u001b[0m in \u001b[0;36m<module>\u001b[0;34m\u001b[0m\n\u001b[1;32m      1\u001b[0m \u001b[0mpalette\u001b[0m \u001b[0;34m=\u001b[0m \u001b[0mcolorcet\u001b[0m\u001b[0;34m.\u001b[0m\u001b[0mb_glasbey_category10\u001b[0m\u001b[0;34m\u001b[0m\u001b[0;34m\u001b[0m\u001b[0m\n\u001b[0;32m----> 2\u001b[0;31m \u001b[0mpalette\u001b[0m\u001b[0;34m.\u001b[0m\u001b[0mremove\u001b[0m\u001b[0;34m(\u001b[0m \u001b[0;34m'#d62628'\u001b[0m\u001b[0;34m)\u001b[0m\u001b[0;34m\u001b[0m\u001b[0;34m\u001b[0m\u001b[0m\n\u001b[0m",
      "\u001b[0;31mValueError\u001b[0m: list.remove(x): x not in list"
     ]
    }
   ],
   "source": [
    "palette = colorcet.b_glasbey_category10\n",
    "palette.remove( '#d62628')"
   ]
  },
  {
   "cell_type": "markdown",
   "metadata": {},
   "source": [
    "## Combine atp synthase with txtl machinery \n",
    "---"
   ]
  },
  {
   "cell_type": "code",
   "execution_count": 116,
   "metadata": {},
   "outputs": [],
   "source": [
    "# atp synthase models\n",
    "ss1_atpsyn_txtl = createSubsystem('atpsynthase_machinery_txtl.xml', subsystemName = 'atpsyn_txtl')\n",
    "ss2_atpsyn_mi = createSubsystem('atpsynthase_membrane_integration.xml', subsystemName = 'atpsyn_mi')\n",
    "ss3_atpsynthesis = createSubsystem('atp_synthesis_through_atpsynthase.xml', subsystemName = 'atpsynthesis')\n",
    "ss4_atp_use = createSubsystem('atp_use.xml', subsystemName = 'atp_use')"
   ]
  },
  {
   "cell_type": "code",
   "execution_count": 117,
   "metadata": {},
   "outputs": [],
   "source": [
    "atp_subsystem_w_use = ss1_atpsyn_txtl + ss2_atpsyn_mi + ss3_atpsynthesis + ss4_atp_use"
   ]
  },
  {
   "cell_type": "code",
   "execution_count": 118,
   "metadata": {},
   "outputs": [
    {
     "name": "stderr",
     "output_type": "stream",
     "text": [
      "odeint failed with mxstep=500..."
     ]
    }
   ],
   "source": [
    "# SIMULATE WITH ATP SYNTHASE\n",
    "# Initial conditions\n",
    "spec_list_10 = ['dna_atpsyn', 'proton_outside_H', 'metabolite_atp',\n",
    "                 'protein_RNAP_machinery', \n",
    "                'protein_Ribo_machinery', 'protein_RNAse_machinery']\n",
    "for i,spec in enumerate(spec_list_10):\n",
    "    atp_subsystem_w_use.setSpeciesAmount(spec,10)\n",
    "\n",
    "\n",
    "# timepoints and get WITH ATP SYNTHASE\n",
    "timepoints = np.linspace(0,31600,100)\n",
    "results, _ = atp_subsystem_w_use.simulateWithBioscrape(timepoints, sbml_warnings = False)\n",
    "\n",
    "# Get species IDs\n",
    "ATP_id = atp_subsystem_w_use.getSpeciesByName('metabolite_atp').getId()\n",
    "ADP_id = atp_subsystem_w_use.getSpeciesByName('metabolite_adp').getId()\n",
    "\n",
    "outside_H_id = atp_subsystem_w_use.getSpeciesByName('proton_outside_H').getId()\n",
    "inside_H_id = atp_subsystem_w_use.getSpeciesByName('proton_inside_H').getId()\n",
    "atp_synthase_b_protein_id = atp_subsystem_w_use.getSpeciesByName('protein_atpsyn_b').getId()\n",
    "atp_synthase_f_protein_id = atp_subsystem_w_use.getSpeciesByName('protein_atpsyn').getId()"
   ]
  },
  {
   "cell_type": "code",
   "execution_count": 119,
   "metadata": {},
   "outputs": [],
   "source": [
    "# SIMULATE WITHOUT ATP SYNTHASE\n",
    "#ss4_atp_use.setSpeciesAmount('proton_outside_H',10)\n",
    "ss4_atp_use.setSpeciesAmount('metabolite_atp',10)\n",
    "\n",
    "results2, _ = ss4_atp_use.simulateWithBioscrape(timepoints, sbml_warnings = False)\n",
    "\n",
    "# GET ATP species ID\n",
    "ATP_id2 = ss4_atp_use.getSpeciesByName('metabolite_atp').getId()"
   ]
  },
  {
   "cell_type": "code",
   "execution_count": 120,
   "metadata": {},
   "outputs": [
    {
     "data": {
      "text/html": [
       "\n",
       "\n",
       "\n",
       "\n",
       "\n",
       "\n",
       "  <div class=\"bk-root\" id=\"e56aa7a7-f973-416e-8185-f3ae65e1b9c5\" data-root-id=\"31977\"></div>\n"
      ]
     },
     "metadata": {},
     "output_type": "display_data"
    },
    {
     "data": {
      "application/javascript": [
       "(function(root) {\n",
       "  function embed_document(root) {\n",
       "    \n",
       "  var docs_json = {\"538ee52e-72a7-48d5-9194-5ba19e6beac1\":{\"roots\":{\"references\":[{\"attributes\":{\"children\":[{\"id\":\"31774\",\"subtype\":\"Figure\",\"type\":\"Plot\"},{\"id\":\"31869\",\"subtype\":\"Figure\",\"type\":\"Plot\"}]},\"id\":\"31977\",\"type\":\"Row\"},{\"attributes\":{},\"id\":\"32839\",\"type\":\"UnionRenderers\"},{\"attributes\":{},\"id\":\"32840\",\"type\":\"Selection\"},{\"attributes\":{\"line_alpha\":0.1,\"line_color\":\"#1f77b4\",\"line_width\":2,\"x\":{\"field\":\"x\"},\"y\":{\"field\":\"y\"}},\"id\":\"31905\",\"type\":\"Line\"},{\"attributes\":{\"data_source\":{\"id\":\"31808\",\"type\":\"ColumnDataSource\"},\"glyph\":{\"id\":\"31809\",\"type\":\"Line\"},\"hover_glyph\":null,\"muted_glyph\":null,\"nonselection_glyph\":{\"id\":\"31810\",\"type\":\"Line\"},\"selection_glyph\":null,\"view\":{\"id\":\"31812\",\"type\":\"CDSView\"}},\"id\":\"31811\",\"type\":\"GlyphRenderer\"},{\"attributes\":{},\"id\":\"31865\",\"type\":\"UnionRenderers\"},{\"attributes\":{\"active_drag\":\"auto\",\"active_inspect\":\"auto\",\"active_multi\":null,\"active_scroll\":\"auto\",\"active_tap\":\"auto\",\"tools\":[{\"id\":\"31795\",\"type\":\"PanTool\"},{\"id\":\"31796\",\"type\":\"WheelZoomTool\"},{\"id\":\"31797\",\"type\":\"BoxZoomTool\"},{\"id\":\"31798\",\"type\":\"SaveTool\"},{\"id\":\"31799\",\"type\":\"ResetTool\"},{\"id\":\"31800\",\"type\":\"HelpTool\"}]},\"id\":\"31801\",\"type\":\"Toolbar\"},{\"attributes\":{},\"id\":\"31866\",\"type\":\"Selection\"},{\"attributes\":{\"below\":[{\"id\":\"31785\",\"type\":\"LinearAxis\"}],\"center\":[{\"id\":\"31789\",\"type\":\"Grid\"},{\"id\":\"31794\",\"type\":\"Grid\"},{\"id\":\"31819\",\"type\":\"Legend\"}],\"left\":[{\"id\":\"31790\",\"type\":\"LinearAxis\"}],\"plot_height\":350,\"plot_width\":450,\"renderers\":[{\"id\":\"31811\",\"type\":\"GlyphRenderer\"},{\"id\":\"31824\",\"type\":\"GlyphRenderer\"},{\"id\":\"31838\",\"type\":\"GlyphRenderer\"},{\"id\":\"31854\",\"type\":\"GlyphRenderer\"}],\"title\":{\"id\":\"31775\",\"type\":\"Title\"},\"toolbar\":{\"id\":\"31801\",\"type\":\"Toolbar\"},\"x_range\":{\"id\":\"31777\",\"type\":\"DataRange1d\"},\"x_scale\":{\"id\":\"31781\",\"type\":\"LinearScale\"},\"y_range\":{\"id\":\"31779\",\"type\":\"DataRange1d\"},\"y_scale\":{\"id\":\"31783\",\"type\":\"LinearScale\"}},\"id\":\"31774\",\"subtype\":\"Figure\",\"type\":\"Plot\"},{\"attributes\":{\"text\":\"only ATP Use\"},\"id\":\"31870\",\"type\":\"Title\"},{\"attributes\":{\"line_color\":\"#1f77b3\",\"line_width\":2,\"x\":{\"field\":\"x\"},\"y\":{\"field\":\"y\"}},\"id\":\"31809\",\"type\":\"Line\"},{\"attributes\":{\"text\":\"with ATP Synthase, ATP Use\"},\"id\":\"31775\",\"type\":\"Title\"},{\"attributes\":{},\"id\":\"32836\",\"type\":\"UnionRenderers\"},{\"attributes\":{\"callback\":null},\"id\":\"31872\",\"type\":\"DataRange1d\"},{\"attributes\":{\"source\":{\"id\":\"31808\",\"type\":\"ColumnDataSource\"}},\"id\":\"31812\",\"type\":\"CDSView\"},{\"attributes\":{},\"id\":\"31815\",\"type\":\"BasicTickFormatter\"},{\"attributes\":{\"callback\":null},\"id\":\"31777\",\"type\":\"DataRange1d\"},{\"attributes\":{\"click_policy\":\"hide\",\"items\":[{\"id\":\"31820\",\"type\":\"LegendItem\"},{\"id\":\"31834\",\"type\":\"LegendItem\"},{\"id\":\"31850\",\"type\":\"LegendItem\"},{\"id\":\"31868\",\"type\":\"LegendItem\"}],\"location\":\"bottom_right\"},\"id\":\"31819\",\"type\":\"Legend\"},{\"attributes\":{},\"id\":\"31781\",\"type\":\"LinearScale\"},{\"attributes\":{\"bottom_units\":\"screen\",\"fill_alpha\":{\"value\":0.5},\"fill_color\":{\"value\":\"lightgrey\"},\"left_units\":\"screen\",\"level\":\"overlay\",\"line_alpha\":{\"value\":1.0},\"line_color\":{\"value\":\"black\"},\"line_dash\":[4,4],\"line_width\":{\"value\":2},\"render_mode\":\"css\",\"right_units\":\"screen\",\"top_units\":\"screen\"},\"id\":\"31818\",\"type\":\"BoxAnnotation\"},{\"attributes\":{\"callback\":null},\"id\":\"31874\",\"type\":\"DataRange1d\"},{\"attributes\":{},\"id\":\"31817\",\"type\":\"BasicTickFormatter\"},{\"attributes\":{},\"id\":\"31876\",\"type\":\"LinearScale\"},{\"attributes\":{\"callback\":null},\"id\":\"31779\",\"type\":\"DataRange1d\"},{\"attributes\":{},\"id\":\"31878\",\"type\":\"LinearScale\"},{\"attributes\":{\"label\":{\"value\":\"atp\"},\"renderers\":[{\"id\":\"31811\",\"type\":\"GlyphRenderer\"}]},\"id\":\"31820\",\"type\":\"LegendItem\"},{\"attributes\":{},\"id\":\"31783\",\"type\":\"LinearScale\"},{\"attributes\":{\"callback\":null,\"data\":{\"x\":{\"__ndarray__\":\"AAAAAAAAAABIzNsZEvNzQEjM2xkS84NAbLLJJpvsjUBIzNsZEvOTQFq/UqDW75hAbLLJJpvsnUC/UqDWr3ShQEjM2xkS86NA0UUXXXRxpkBav1Kg1u+oQOM4juM4bqtAbLLJJpvsrUD6lQK1fjWwQL9SoNavdLFAhA8++OCzskBIzNsZEvOzQAyJeTtDMrVA0UUXXXRxtkCWArV+pbC3QFq/UqDW77hAHnzwwQcvukDjOI7jOG67QKj1KwVqrbxAbLLJJpvsvUAwb2dIzCu/QPqVArV+NcBAXXTRRRfVwEC/UqDWr3TBQCExb2dIFMJAhA8++OCzwkDm7QyJeVPDQEjM2xkS88NAqqqqqqqSxEAMiXk7QzLFQG9nSMzb0cVA0UUXXXRxxkAzJObtDBHHQJYCtX6lsMdA+OCDDz5QyEBav1Kg1u/IQLydITFvj8lAHnzwwQcvykCBWr9SoM7KQOM4juM4bstARRdddNENzECo9SsFaq3MQArU+pUCTc1AbLLJJpvszUDOkJi3M4zOQDBvZ0jMK89Ak0022WTLz0D6lQK1fjXQQCwFav1KhdBAXXTRRRfV0ECO4ziO4yTRQL9SoNavdNFA8MEHH3zE0UAhMW9nSBTSQFKg1q8UZNJAhA8++OCz0kC1fqVArQPTQObtDIl5U9NAF1100UWj00BIzNsZEvPTQHk7Q2LeQtRAqqqqqqqS1EDbGRLzduLUQAyJeTtDMtVAPvjggw+C1UBvZ0jM29HVQKDWrxSoIdZA0UUXXXRx1kACtX6lQMHWQDMk5u0MEddAZJNNNtlg10CWArV+pbDXQMdxHMdxANhA+OCDDz5Q2EApUOtXCqDYQFq/UqDW79hAiy666KI/2UC8nSExb4/ZQO0MiXk739lAHnzwwQcv2kBQ61cK1H7aQIFav1KgztpAsskmm2we20DjOI7jOG7bQBSo9SsFvttARRdddNEN3EB2hsS8nV3cQKj1KwVqrdxA2WSTTTb93EAK1PqVAk3dQDtDYt7OnN1AbLLJJpvs3UCdITFvZzzeQM6QmLczjN5AAAAAAADc3kA=\",\"dtype\":\"float64\",\"shape\":[100]},\"y\":{\"__ndarray__\":\"AAAAAAAAJEDv93xvTMSmvUDF0m8UD5U9jNtRYm8mjbzkuW5SmyKlvDS6/KNTaRQ9FjkwxqC6sL1KdQVE002UvV1UC6i0ZTA+cO3yQoKB6T0A0M6/9Z+rvYIqDVW+sUQ+cmeVV/jVpzzk7nNwQeCFvGP5Z/rNFLY8KzP1Lxpj8rzpbiMGJ5ObPPBJH+0TdWC8+NQjNxxTNzzIQc4sB1w7vPk4k9fGyLk81b8eiNJcfLwgLrixEsa3PHhm4zP7/P681bngQwQqVj1c/KYyWLmQvRH/FQRcRaC987SMDFqHob3IFzplaOHOPVoIPnUrDvI9kD/lcxNxJT7AucUX0xy7vQZdUYQ8QRO+jwesieeYAb46xSQ256HjvcA0QlYmeMC9/irrE9Pc+L20bDkw2sclPsxffiOB8+s8Xm8ilMQmNjz4TuI4bwpqPH2UbRIC8vG7sCUD7Ud9VbyYHG3t09QBvMhjbwY3EWq7wGa2IIe2cTv25qezuXSoO3jH0jRCN7c7zCQG/1Us0rujrM1nyrPwO9JkXth147g7tQq4/13hwruZjhb4k3mcO2lZ3BokSOq6K6bXTna1+jo6iCcnatfput6Mc07WG5s6SHvxS/a5ULqDWV1QIc5FOib3yzsethm6qj23imPD1rmQVl86x5rQuZOZBsWA3cm5UNJmW/LMF7rn44UVlb5SOht+B3NXlkW6jiVTIu8IQDpJL4kQQ8gnuti9CoVAk/U58jeYNCLHArkw/fwJ7AjyONDU8VMg9yY5jNZGpzn2Djn0xBCkLSorORgqehL8vD25GCM4zL5NTTmQ4LJnle1VuahYswV8wIE5oHj7APIzmLmozrSJ6wSzOSC0Kr0tKs25nHuxl9XQ5TkYlPw/fxQAuih99g3DoBM6rDJ8Brq3Dzqv2igb4WcSunCEfqZ2aQo6IqvbcKzFGDqitA16OnYEOoLtProh1RY6GqG+7Q0OI7o4Vm1cNdkEOpRQYNRMPCg6YI8/A4FsNLrokpHxKD51OuP8rY+Qen66wHWv+rFZY7rsjtiVsjyqOsSj5EZ9zMi6+swo+4X2yjo=\",\"dtype\":\"float64\",\"shape\":[100]}},\"selected\":{\"id\":\"31848\",\"type\":\"Selection\"},\"selection_policy\":{\"id\":\"31847\",\"type\":\"UnionRenderers\"}},\"id\":\"31821\",\"type\":\"ColumnDataSource\"},{\"attributes\":{\"axis_label\":\"time\",\"formatter\":{\"id\":\"31910\",\"type\":\"BasicTickFormatter\"},\"ticker\":{\"id\":\"31881\",\"type\":\"BasicTicker\"}},\"id\":\"31880\",\"type\":\"LinearAxis\"},{\"attributes\":{\"dimension\":1,\"ticker\":{\"id\":\"31886\",\"type\":\"BasicTicker\"}},\"id\":\"31889\",\"type\":\"Grid\"},{\"attributes\":{},\"id\":\"31796\",\"type\":\"WheelZoomTool\"},{\"attributes\":{\"axis_label\":\"time\",\"formatter\":{\"id\":\"31815\",\"type\":\"BasicTickFormatter\"},\"ticker\":{\"id\":\"31786\",\"type\":\"BasicTicker\"}},\"id\":\"31785\",\"type\":\"LinearAxis\"},{\"attributes\":{\"line_color\":\"#ff7e0e\",\"line_width\":2,\"x\":{\"field\":\"x\"},\"y\":{\"field\":\"y\"}},\"id\":\"31822\",\"type\":\"Line\"},{\"attributes\":{},\"id\":\"31881\",\"type\":\"BasicTicker\"},{\"attributes\":{\"axis_label\":\"concentration\",\"formatter\":{\"id\":\"31817\",\"type\":\"BasicTickFormatter\"},\"ticker\":{\"id\":\"31791\",\"type\":\"BasicTicker\"}},\"id\":\"31790\",\"type\":\"LinearAxis\"},{\"attributes\":{\"ticker\":{\"id\":\"31881\",\"type\":\"BasicTicker\"}},\"id\":\"31884\",\"type\":\"Grid\"},{\"attributes\":{\"line_alpha\":0.1,\"line_color\":\"#1f77b4\",\"line_width\":2,\"x\":{\"field\":\"x\"},\"y\":{\"field\":\"y\"}},\"id\":\"31823\",\"type\":\"Line\"},{\"attributes\":{},\"id\":\"31886\",\"type\":\"BasicTicker\"},{\"attributes\":{\"data_source\":{\"id\":\"31821\",\"type\":\"ColumnDataSource\"},\"glyph\":{\"id\":\"31822\",\"type\":\"Line\"},\"hover_glyph\":null,\"muted_glyph\":null,\"nonselection_glyph\":{\"id\":\"31823\",\"type\":\"Line\"},\"selection_glyph\":null,\"view\":{\"id\":\"31825\",\"type\":\"CDSView\"}},\"id\":\"31824\",\"type\":\"GlyphRenderer\"},{\"attributes\":{\"axis_label\":\"concentration\",\"formatter\":{\"id\":\"31912\",\"type\":\"BasicTickFormatter\"},\"ticker\":{\"id\":\"31886\",\"type\":\"BasicTicker\"}},\"id\":\"31885\",\"type\":\"LinearAxis\"},{\"attributes\":{\"callback\":null,\"data\":{\"x\":{\"__ndarray__\":\"AAAAAAAAAABIzNsZEvNzQEjM2xkS84NAbLLJJpvsjUBIzNsZEvOTQFq/UqDW75hAbLLJJpvsnUC/UqDWr3ShQEjM2xkS86NA0UUXXXRxpkBav1Kg1u+oQOM4juM4bqtAbLLJJpvsrUD6lQK1fjWwQL9SoNavdLFAhA8++OCzskBIzNsZEvOzQAyJeTtDMrVA0UUXXXRxtkCWArV+pbC3QFq/UqDW77hAHnzwwQcvukDjOI7jOG67QKj1KwVqrbxAbLLJJpvsvUAwb2dIzCu/QPqVArV+NcBAXXTRRRfVwEC/UqDWr3TBQCExb2dIFMJAhA8++OCzwkDm7QyJeVPDQEjM2xkS88NAqqqqqqqSxEAMiXk7QzLFQG9nSMzb0cVA0UUXXXRxxkAzJObtDBHHQJYCtX6lsMdA+OCDDz5QyEBav1Kg1u/IQLydITFvj8lAHnzwwQcvykCBWr9SoM7KQOM4juM4bstARRdddNENzECo9SsFaq3MQArU+pUCTc1AbLLJJpvszUDOkJi3M4zOQDBvZ0jMK89Ak0022WTLz0D6lQK1fjXQQCwFav1KhdBAXXTRRRfV0ECO4ziO4yTRQL9SoNavdNFA8MEHH3zE0UAhMW9nSBTSQFKg1q8UZNJAhA8++OCz0kC1fqVArQPTQObtDIl5U9NAF1100UWj00BIzNsZEvPTQHk7Q2LeQtRAqqqqqqqS1EDbGRLzduLUQAyJeTtDMtVAPvjggw+C1UBvZ0jM29HVQKDWrxSoIdZA0UUXXXRx1kACtX6lQMHWQDMk5u0MEddAZJNNNtlg10CWArV+pbDXQMdxHMdxANhA+OCDDz5Q2EApUOtXCqDYQFq/UqDW79hAiy666KI/2UC8nSExb4/ZQO0MiXk739lAHnzwwQcv2kBQ61cK1H7aQIFav1KgztpAsskmm2we20DjOI7jOG7bQBSo9SsFvttARRdddNEN3EB2hsS8nV3cQKj1KwVqrdxA2WSTTTb93EAK1PqVAk3dQDtDYt7OnN1AbLLJJpvs3UCdITFvZzzeQM6QmLczjN5AAAAAAADc3kA=\",\"dtype\":\"float64\",\"shape\":[100]},\"y\":{\"__ndarray__\":\"AAAAAAAAAADJFgAAAAAkQH71/////yNACQAAAAAAJEAIAAAAAAAkQP7//////yNAfiEAAAAAJEAzCgAAAAAkQKM03////yNA9Gf+////I0CsGwAAAAAkQBA5rf///yNADQAAAAAAJEANAAAAAAAkQA0AAAAAACRADQAAAAAAJEALAAAAAAAkQAsAAAAAACRACwAAAAAAJEALAAAAAAAkQAoAAAAAACRACgAAAAAAJEAKAAAAAAAkQA4AAAAAACRAWP//////I0BmCAAAAAAkQE4QAAAAACRAkBEAAAAAJECEhP////8jQES+/f///yNA9o7q////I0BENgAAAAAkQKigCQAAACRARGYEAAAAJEAoOgEAAAAkQOlBAAAAACRAoxsDAAAAJEAuOOr///8jQAcAAAAAACRACQAAAAAAJEAJAAAAAAAkQAkAAAAAACRACQAAAAAAJEAJAAAAAAAkQAkAAAAAACRACQAAAAAAJEAJAAAAAAAkQAkAAAAAACRACQAAAAAAJEAJAAAAAAAkQAkAAAAAACRACQAAAAAAJEAJAAAAAAAkQAkAAAAAACRACQAAAAAAJEAJAAAAAAAkQAkAAAAAACRACQAAAAAAJEAJAAAAAAAkQAkAAAAAACRACQAAAAAAJEAJAAAAAAAkQAkAAAAAACRACQAAAAAAJEAJAAAAAAAkQAkAAAAAACRACQAAAAAAJEAJAAAAAAAkQAkAAAAAACRACQAAAAAAJEAJAAAAAAAkQAkAAAAAACRACQAAAAAAJEAJAAAAAAAkQAkAAAAAACRACQAAAAAAJEAJAAAAAAAkQAkAAAAAACRACQAAAAAAJEAJAAAAAAAkQAkAAAAAACRACQAAAAAAJEAJAAAAAAAkQAkAAAAAACRACQAAAAAAJEAJAAAAAAAkQAkAAAAAACRACQAAAAAAJEAJAAAAAAAkQAkAAAAAACRACQAAAAAAJEAJAAAAAAAkQAkAAAAAACRACQAAAAAAJEAJAAAAAAAkQAkAAAAAACRACQAAAAAAJEAJAAAAAAAkQAkAAAAAACRACQAAAAAAJEA=\",\"dtype\":\"float64\",\"shape\":[100]}},\"selected\":{\"id\":\"31866\",\"type\":\"Selection\"},\"selection_policy\":{\"id\":\"31865\",\"type\":\"UnionRenderers\"}},\"id\":\"31835\",\"type\":\"ColumnDataSource\"},{\"attributes\":{\"line_color\":\"#1f77b3\",\"line_width\":2,\"x\":{\"field\":\"x\"},\"y\":{\"field\":\"y\"}},\"id\":\"31904\",\"type\":\"Line\"},{\"attributes\":{\"dimension\":1,\"ticker\":{\"id\":\"31791\",\"type\":\"BasicTicker\"}},\"id\":\"31794\",\"type\":\"Grid\"},{\"attributes\":{},\"id\":\"31798\",\"type\":\"SaveTool\"},{\"attributes\":{\"callback\":null,\"data\":{\"x\":{\"__ndarray__\":\"AAAAAAAAAABIzNsZEvNzQEjM2xkS84NAbLLJJpvsjUBIzNsZEvOTQFq/UqDW75hAbLLJJpvsnUC/UqDWr3ShQEjM2xkS86NA0UUXXXRxpkBav1Kg1u+oQOM4juM4bqtAbLLJJpvsrUD6lQK1fjWwQL9SoNavdLFAhA8++OCzskBIzNsZEvOzQAyJeTtDMrVA0UUXXXRxtkCWArV+pbC3QFq/UqDW77hAHnzwwQcvukDjOI7jOG67QKj1KwVqrbxAbLLJJpvsvUAwb2dIzCu/QPqVArV+NcBAXXTRRRfVwEC/UqDWr3TBQCExb2dIFMJAhA8++OCzwkDm7QyJeVPDQEjM2xkS88NAqqqqqqqSxEAMiXk7QzLFQG9nSMzb0cVA0UUXXXRxxkAzJObtDBHHQJYCtX6lsMdA+OCDDz5QyEBav1Kg1u/IQLydITFvj8lAHnzwwQcvykCBWr9SoM7KQOM4juM4bstARRdddNENzECo9SsFaq3MQArU+pUCTc1AbLLJJpvszUDOkJi3M4zOQDBvZ0jMK89Ak0022WTLz0D6lQK1fjXQQCwFav1KhdBAXXTRRRfV0ECO4ziO4yTRQL9SoNavdNFA8MEHH3zE0UAhMW9nSBTSQFKg1q8UZNJAhA8++OCz0kC1fqVArQPTQObtDIl5U9NAF1100UWj00BIzNsZEvPTQHk7Q2LeQtRAqqqqqqqS1EDbGRLzduLUQAyJeTtDMtVAPvjggw+C1UBvZ0jM29HVQKDWrxSoIdZA0UUXXXRx1kACtX6lQMHWQDMk5u0MEddAZJNNNtlg10CWArV+pbDXQMdxHMdxANhA+OCDDz5Q2EApUOtXCqDYQFq/UqDW79hAiy666KI/2UC8nSExb4/ZQO0MiXk739lAHnzwwQcv2kBQ61cK1H7aQIFav1KgztpAsskmm2we20DjOI7jOG7bQBSo9SsFvttARRdddNEN3EB2hsS8nV3cQKj1KwVqrdxA2WSTTTb93EAK1PqVAk3dQDtDYt7OnN1AbLLJJpvs3UCdITFvZzzeQM6QmLczjN5AAAAAAADc3kA=\",\"dtype\":\"float64\",\"shape\":[100]},\"y\":{\"__ndarray__\":\"AAAAAAAAJEBxWthsUScAvGv5U1eTFOq7+ay/AKx/RLujyo0Qzd0yu87Vwpc0dIu6vSK8husuirqsb7V1oumIup28rmRZpIe6jQmoUxBfhrp9VqFCxxmFumyjmjF+1IO6XPCTIDWPgrpNPY0P7EmBujyKhv6iBIC6WK7/2rN+fbo4SPK4IfR6uhji5JaPaXi6+HvXdP3edbrWFcpSa1RzurevvDDZyXC6L5NeHY5+bLruxkPZaWlnuqv6KJVFVGK62lwcokJ+WrpexOYZ+lNQuoOvxEbGpji6O6XD3KLItznW2YRnrau2OXEORvK3jrU5CkMHfcJxtDmld8gHzVSzOUCsiZLXN7I52+BKHeIasTnsKhhQ2fuvOR6UmmXuwa05VP0cewOIqzmKZp+QGE6pOb3PIaYtFKc58jiku0LapDkooibRV6CiOV4LqeZsZqA5KelW+ANZnDmOu1sjLuWXOfqNYE5YcZM5y8DK8gT7jTmVZdRIWROFOdkUvD1bV3g5IXo9pw8gWjl4tzsviHnZOGB9qgB4W9k4SEMZ0mc92TgvCYijVx/ZOBbP9nRHAdk4/pRlRjfj2DjmWtQXJ8XYOMwgQ+kWp9g4tOaxugaJ2DicrCCM9mrYOIJyj13mTNg4ajj+LtYu2DhR/mwAxhDYODnE29G18tc4IIpKo6XU1zgIULl0lbbXOO8VKEaFmNc41tuWF3V61zi+oQXpZFzXOKZndLpUPtc4jC3ji0Qg1zhz81FdNALXOFu5wC4k5NY4Q38vABTG1jgqRZ7RA6jWOBELDaPzidY4+dB7dONr1jjglupF003WOMdcWRfDL9Y4ryLI6LIR1jiX6Da6ovPVOH6upYuS1dU4ZHQUXYK31ThNOoMucpnVODUA8v9he9U4HMZg0VFd1TgCjM+iQT/VOOpRPnQxIdU40RetRSED1Ti53RsXEeXUOKCjiugAx9Q4iGn5ufCo1DhvL2iL4IrUOFb11lzQbNQ4PrtFLsBO1DglgbT/rzDUOAxHI9GfEtQ49AySoo/00zjb0gB0f9bTOMOYb0VvuNM4ql7eFl+a0zg=\",\"dtype\":\"float64\",\"shape\":[100]}},\"selected\":{\"id\":\"32840\",\"type\":\"Selection\"},\"selection_policy\":{\"id\":\"32839\",\"type\":\"UnionRenderers\"}},\"id\":\"31903\",\"type\":\"ColumnDataSource\"},{\"attributes\":{\"source\":{\"id\":\"31821\",\"type\":\"ColumnDataSource\"}},\"id\":\"31825\",\"type\":\"CDSView\"},{\"attributes\":{\"line_alpha\":0.1,\"line_color\":\"#1f77b4\",\"line_width\":2,\"x\":{\"field\":\"x\"},\"y\":{\"field\":\"y\"}},\"id\":\"31810\",\"type\":\"Line\"},{\"attributes\":{},\"id\":\"31832\",\"type\":\"Selection\"},{\"attributes\":{\"label\":{\"value\":\"outside_H\"},\"renderers\":[{\"id\":\"31824\",\"type\":\"GlyphRenderer\"}]},\"id\":\"31834\",\"type\":\"LegendItem\"},{\"attributes\":{\"active_drag\":\"auto\",\"active_inspect\":\"auto\",\"active_multi\":null,\"active_scroll\":\"auto\",\"active_tap\":\"auto\",\"tools\":[{\"id\":\"31890\",\"type\":\"PanTool\"},{\"id\":\"31891\",\"type\":\"WheelZoomTool\"},{\"id\":\"31892\",\"type\":\"BoxZoomTool\"},{\"id\":\"31893\",\"type\":\"SaveTool\"},{\"id\":\"31894\",\"type\":\"ResetTool\"},{\"id\":\"31895\",\"type\":\"HelpTool\"}]},\"id\":\"31896\",\"type\":\"Toolbar\"},{\"attributes\":{\"ticker\":{\"id\":\"31786\",\"type\":\"BasicTicker\"}},\"id\":\"31789\",\"type\":\"Grid\"},{\"attributes\":{\"data_source\":{\"id\":\"31903\",\"type\":\"ColumnDataSource\"},\"glyph\":{\"id\":\"31904\",\"type\":\"Line\"},\"hover_glyph\":null,\"muted_glyph\":null,\"nonselection_glyph\":{\"id\":\"31905\",\"type\":\"Line\"},\"selection_glyph\":null,\"view\":{\"id\":\"31907\",\"type\":\"CDSView\"}},\"id\":\"31906\",\"type\":\"GlyphRenderer\"},{\"attributes\":{},\"id\":\"31831\",\"type\":\"UnionRenderers\"},{\"attributes\":{},\"id\":\"31791\",\"type\":\"BasicTicker\"},{\"attributes\":{\"line_color\":\"#2ba02b\",\"line_width\":2,\"x\":{\"field\":\"x\"},\"y\":{\"field\":\"y\"}},\"id\":\"31836\",\"type\":\"Line\"},{\"attributes\":{},\"id\":\"31890\",\"type\":\"PanTool\"},{\"attributes\":{},\"id\":\"31891\",\"type\":\"WheelZoomTool\"},{\"attributes\":{},\"id\":\"31786\",\"type\":\"BasicTicker\"},{\"attributes\":{\"line_alpha\":0.1,\"line_color\":\"#1f77b4\",\"line_width\":2,\"x\":{\"field\":\"x\"},\"y\":{\"field\":\"y\"}},\"id\":\"31837\",\"type\":\"Line\"},{\"attributes\":{\"overlay\":{\"id\":\"31913\",\"type\":\"BoxAnnotation\"}},\"id\":\"31892\",\"type\":\"BoxZoomTool\"},{\"attributes\":{\"data_source\":{\"id\":\"31835\",\"type\":\"ColumnDataSource\"},\"glyph\":{\"id\":\"31836\",\"type\":\"Line\"},\"hover_glyph\":null,\"muted_glyph\":null,\"nonselection_glyph\":{\"id\":\"31837\",\"type\":\"Line\"},\"selection_glyph\":null,\"view\":{\"id\":\"31839\",\"type\":\"CDSView\"}},\"id\":\"31838\",\"type\":\"GlyphRenderer\"},{\"attributes\":{},\"id\":\"31795\",\"type\":\"PanTool\"},{\"attributes\":{\"callback\":null,\"data\":{\"x\":{\"__ndarray__\":\"AAAAAAAAAABIzNsZEvNzQEjM2xkS84NAbLLJJpvsjUBIzNsZEvOTQFq/UqDW75hAbLLJJpvsnUC/UqDWr3ShQEjM2xkS86NA0UUXXXRxpkBav1Kg1u+oQOM4juM4bqtAbLLJJpvsrUD6lQK1fjWwQL9SoNavdLFAhA8++OCzskBIzNsZEvOzQAyJeTtDMrVA0UUXXXRxtkCWArV+pbC3QFq/UqDW77hAHnzwwQcvukDjOI7jOG67QKj1KwVqrbxAbLLJJpvsvUAwb2dIzCu/QPqVArV+NcBAXXTRRRfVwEC/UqDWr3TBQCExb2dIFMJAhA8++OCzwkDm7QyJeVPDQEjM2xkS88NAqqqqqqqSxEAMiXk7QzLFQG9nSMzb0cVA0UUXXXRxxkAzJObtDBHHQJYCtX6lsMdA+OCDDz5QyEBav1Kg1u/IQLydITFvj8lAHnzwwQcvykCBWr9SoM7KQOM4juM4bstARRdddNENzECo9SsFaq3MQArU+pUCTc1AbLLJJpvszUDOkJi3M4zOQDBvZ0jMK89Ak0022WTLz0D6lQK1fjXQQCwFav1KhdBAXXTRRRfV0ECO4ziO4yTRQL9SoNavdNFA8MEHH3zE0UAhMW9nSBTSQFKg1q8UZNJAhA8++OCz0kC1fqVArQPTQObtDIl5U9NAF1100UWj00BIzNsZEvPTQHk7Q2LeQtRAqqqqqqqS1EDbGRLzduLUQAyJeTtDMtVAPvjggw+C1UBvZ0jM29HVQKDWrxSoIdZA0UUXXXRx1kACtX6lQMHWQDMk5u0MEddAZJNNNtlg10CWArV+pbDXQMdxHMdxANhA+OCDDz5Q2EApUOtXCqDYQFq/UqDW79hAiy666KI/2UC8nSExb4/ZQO0MiXk739lAHnzwwQcv2kBQ61cK1H7aQIFav1KgztpAsskmm2we20DjOI7jOG7bQBSo9SsFvttARRdddNEN3EB2hsS8nV3cQKj1KwVqrdxA2WSTTTb93EAK1PqVAk3dQDtDYt7OnN1AbLLJJpvs3UCdITFvZzzeQM6QmLczjN5AAAAAAADc3kA=\",\"dtype\":\"float64\",\"shape\":[100]},\"y\":{\"__ndarray__\":\"AAAAAAAAAAAyBUsISg/zPxw7tPrkHgdAmygkgNTREUDilgxbF4IXQI2eeJxfrRxADztV3eivIEByF5w9O9IiQMF/F1mqwiRAdyt6Z8SFJkCSmhgirR8oQBamJH0nlClAFMXqfZ7mKkDXUO9CLRosQJrbBU+mMS1AVfEJK5ovLkDx7itsXRYvQM+maC0O6C9Aix2DhExTMEA4Z+bO3qkwQEC5SlWJ+DBACCXo5ARAMUDSEuBq+YAxQJzHwn7/uzFAron9yKHxMUAYT6JIXiIyQC4bV3unTjJAvPVYauV2MkCvstmedpsyQCTDEwCxvDJAaRopneLaMkB2JmxkUvYyQFbvB8pADzNAPGtpX+glM0DHo/VcfjozQB8p3h4zTTNApyvFljJeM0AUvCezpG0zQPhp+LytezNAvHj1rG6IM0AI6Eh5BZQzQCERWFuNnjNAeEw8EB+oM0AwG0oS0bAzQFqmpM+3uDNAM/PW1+W/M0AuuYEIbMYzQNr0drVZzDNAKuYJzLzRM0CQjuDzodYzQGW+5KwU2zNA/pwxah/fM0AJ5piqy+IzQIlN6g4i5jNAvQtBbirpM0Bfunvo6+szQKi35/Zs7jNAUDR2e7PwM0BYDpvOxPIzQMnI08ul9DNA3lQN3Vr2M0BYQAgF6PczQG+7xOhQ+TNANtEK2Jj6M0DJTzrVwvszQAKZYZzR/DNAK/idqcf9M0DVUfM+p/4zQBs4nmly/zNARCfmBisANEDsDXvI0gA0QKsscjhrATRA2fLmvPUBNEArhkObcwI0QDB/OfvlAjRA5zx46U0DNEAz4yRarAM0QGNEGSsCBDRAgFDwJVAENEBOsdwBlwQ0QPYiVWXXBDRAXKKb5xEFNEBGGyISRwU0QB6tzWF3BTRA5WIdSKMFNEAqYzIsywU0QJafv2vvBTRAwDHtWxAGNECgsxxKLgY0QJw5n3xJBjRAiYJZM2IGNEBqPFmoeAY0QHnOYBCNBjRAwR9em58GNECrqOB0sAY0QD1QfMS/BjRAfocsrs0GNEDEFKJS2gY0QGDajs/lBjRAhOrtP/AGNEA=\",\"dtype\":\"float64\",\"shape\":[100]}},\"selected\":{\"id\":\"32837\",\"type\":\"Selection\"},\"selection_policy\":{\"id\":\"32836\",\"type\":\"UnionRenderers\"}},\"id\":\"31851\",\"type\":\"ColumnDataSource\"},{\"attributes\":{},\"id\":\"31893\",\"type\":\"SaveTool\"},{\"attributes\":{\"source\":{\"id\":\"31835\",\"type\":\"ColumnDataSource\"}},\"id\":\"31839\",\"type\":\"CDSView\"},{\"attributes\":{},\"id\":\"31894\",\"type\":\"ResetTool\"},{\"attributes\":{},\"id\":\"31847\",\"type\":\"UnionRenderers\"},{\"attributes\":{\"label\":{\"value\":\"inside_H\"},\"renderers\":[{\"id\":\"31838\",\"type\":\"GlyphRenderer\"}]},\"id\":\"31850\",\"type\":\"LegendItem\"},{\"attributes\":{},\"id\":\"31895\",\"type\":\"HelpTool\"},{\"attributes\":{},\"id\":\"31848\",\"type\":\"Selection\"},{\"attributes\":{\"below\":[{\"id\":\"31880\",\"type\":\"LinearAxis\"}],\"center\":[{\"id\":\"31884\",\"type\":\"Grid\"},{\"id\":\"31889\",\"type\":\"Grid\"},{\"id\":\"31914\",\"type\":\"Legend\"}],\"left\":[{\"id\":\"31885\",\"type\":\"LinearAxis\"}],\"plot_height\":350,\"plot_width\":450,\"renderers\":[{\"id\":\"31906\",\"type\":\"GlyphRenderer\"}],\"title\":{\"id\":\"31870\",\"type\":\"Title\"},\"toolbar\":{\"id\":\"31896\",\"type\":\"Toolbar\"},\"x_range\":{\"id\":\"31872\",\"type\":\"DataRange1d\"},\"x_scale\":{\"id\":\"31876\",\"type\":\"LinearScale\"},\"y_range\":{\"id\":\"31874\",\"type\":\"DataRange1d\"},\"y_scale\":{\"id\":\"31878\",\"type\":\"LinearScale\"}},\"id\":\"31869\",\"subtype\":\"Figure\",\"type\":\"Plot\"},{\"attributes\":{},\"id\":\"32837\",\"type\":\"Selection\"},{\"attributes\":{\"callback\":null,\"data\":{\"x\":{\"__ndarray__\":\"AAAAAAAAAABIzNsZEvNzQEjM2xkS84NAbLLJJpvsjUBIzNsZEvOTQFq/UqDW75hAbLLJJpvsnUC/UqDWr3ShQEjM2xkS86NA0UUXXXRxpkBav1Kg1u+oQOM4juM4bqtAbLLJJpvsrUD6lQK1fjWwQL9SoNavdLFAhA8++OCzskBIzNsZEvOzQAyJeTtDMrVA0UUXXXRxtkCWArV+pbC3QFq/UqDW77hAHnzwwQcvukDjOI7jOG67QKj1KwVqrbxAbLLJJpvsvUAwb2dIzCu/QPqVArV+NcBAXXTRRRfVwEC/UqDWr3TBQCExb2dIFMJAhA8++OCzwkDm7QyJeVPDQEjM2xkS88NAqqqqqqqSxEAMiXk7QzLFQG9nSMzb0cVA0UUXXXRxxkAzJObtDBHHQJYCtX6lsMdA+OCDDz5QyEBav1Kg1u/IQLydITFvj8lAHnzwwQcvykCBWr9SoM7KQOM4juM4bstARRdddNENzECo9SsFaq3MQArU+pUCTc1AbLLJJpvszUDOkJi3M4zOQDBvZ0jMK89Ak0022WTLz0D6lQK1fjXQQCwFav1KhdBAXXTRRRfV0ECO4ziO4yTRQL9SoNavdNFA8MEHH3zE0UAhMW9nSBTSQFKg1q8UZNJAhA8++OCz0kC1fqVArQPTQObtDIl5U9NAF1100UWj00BIzNsZEvPTQHk7Q2LeQtRAqqqqqqqS1EDbGRLzduLUQAyJeTtDMtVAPvjggw+C1UBvZ0jM29HVQKDWrxSoIdZA0UUXXXRx1kACtX6lQMHWQDMk5u0MEddAZJNNNtlg10CWArV+pbDXQMdxHMdxANhA+OCDDz5Q2EApUOtXCqDYQFq/UqDW79hAiy666KI/2UC8nSExb4/ZQO0MiXk739lAHnzwwQcv2kBQ61cK1H7aQIFav1KgztpAsskmm2we20DjOI7jOG7bQBSo9SsFvttARRdddNEN3EB2hsS8nV3cQKj1KwVqrdxA2WSTTTb93EAK1PqVAk3dQDtDYt7OnN1AbLLJJpvs3UCdITFvZzzeQM6QmLczjN5AAAAAAADc3kA=\",\"dtype\":\"float64\",\"shape\":[100]},\"y\":{\"__ndarray__\":\"AAAAAAAAJEBudeBTzoCBPfhbxBy5c3W9R6OuFeziYjykiTHLQqGgvCA+yR3S1K28Y8vx6X35db2mpFMVi/wkPWSd6wfCqrA9lpdrVDngo73Rl7+g91awPcyZ29NDGeq9TDM81qBiSj34Hj0AlOQyPblP816qDlW9WhbXzq26kT2bYS+LDLIkveQPcKAxlqs8iwK+0+KwMbzwuYHA3PA3PBhpvZCkaIe8+HDfJU7gSjywys0ATYd6vOjCZfRpBbg8UZS7EEDBCL0YRTYmEUIwPXMrMpVn+FQ9BCD5RJeoPj2gIYXNl/VevVYmQdduzIK9QIybUOsKtb0XaHOwYIucvTiY/rJIGIi9hArmKPfSXr3JxvEmFemCPZAwc3dIyVa9NHnnpv7Ggz3kUNSwQUe7vYt+aone1W89Po3XsjBLOD1CPHPfsbJoPW+FUfpTsNC8+hSqfn0SUb10SwDcCZL3vDL0Upwj/JK8AFCW4C4OjTxAXDcoAT3kPHVI8FzYfvQ8BE2OWjUIEL3gANH6NSIsPU8XcBSTffM8ABvcykyO/bxdo9zx8CnSPNqIlfU/6Um81MrOPqK4Zjy3i2l3hFM/vKSv3UuTauW7linwHSdM0rsznTJPYZ2qO3yqvn2A1W47qzeFdv0kPTtxakHHCocWu6CoweNyUem6KOSTCnze5zpAZiEUDKDeOrYWGB8g08S6I0UYeskxyjolyjplnXG6uvhVhBGflos66E1h3q7txLkQAKo7fl31uagMyjdYTDY6lCzUviPUP7qGzmhnA5BVOkSUTS5VR2e6ePLbCJ2KeTokYevhGCCDutjvittE+K06cMVy3idXxLpIaMwsYsHfOjRBvaTGKfi6uKaj0eTwETuosO0o1T8qu8gAkwHbxT87ohaNL8fkOTvypnn2yd09uy2JSaYeDzU7NbRt9ZkGRDtwZGUc0LYvO9ydsNYwJ0M7PXy3Mk7uT7sYrZGeG80xO6CUTx2PhVQ7EA5hkRZEYbsUPtP6NNahOzv7r2IGfKm7QB2oKRKEkLtUV2onRPTVO5SQn6izrvS72KfYQ85h9js=\",\"dtype\":\"float64\",\"shape\":[100]}},\"selected\":{\"id\":\"31832\",\"type\":\"Selection\"},\"selection_policy\":{\"id\":\"31831\",\"type\":\"UnionRenderers\"}},\"id\":\"31808\",\"type\":\"ColumnDataSource\"},{\"attributes\":{\"source\":{\"id\":\"31903\",\"type\":\"ColumnDataSource\"}},\"id\":\"31907\",\"type\":\"CDSView\"},{\"attributes\":{\"line_color\":\"#9367bc\",\"line_width\":2,\"x\":{\"field\":\"x\"},\"y\":{\"field\":\"y\"}},\"id\":\"31852\",\"type\":\"Line\"},{\"attributes\":{\"label\":{\"value\":\"bound atp synthase\"},\"renderers\":[{\"id\":\"31854\",\"type\":\"GlyphRenderer\"}]},\"id\":\"31868\",\"type\":\"LegendItem\"},{\"attributes\":{},\"id\":\"31910\",\"type\":\"BasicTickFormatter\"},{\"attributes\":{\"label\":{\"value\":\"atp\"},\"renderers\":[{\"id\":\"31906\",\"type\":\"GlyphRenderer\"}]},\"id\":\"31915\",\"type\":\"LegendItem\"},{\"attributes\":{\"line_alpha\":0.1,\"line_color\":\"#1f77b4\",\"line_width\":2,\"x\":{\"field\":\"x\"},\"y\":{\"field\":\"y\"}},\"id\":\"31853\",\"type\":\"Line\"},{\"attributes\":{},\"id\":\"31800\",\"type\":\"HelpTool\"},{\"attributes\":{\"items\":[{\"id\":\"31915\",\"type\":\"LegendItem\"}]},\"id\":\"31914\",\"type\":\"Legend\"},{\"attributes\":{\"data_source\":{\"id\":\"31851\",\"type\":\"ColumnDataSource\"},\"glyph\":{\"id\":\"31852\",\"type\":\"Line\"},\"hover_glyph\":null,\"muted_glyph\":null,\"nonselection_glyph\":{\"id\":\"31853\",\"type\":\"Line\"},\"selection_glyph\":null,\"view\":{\"id\":\"31855\",\"type\":\"CDSView\"}},\"id\":\"31854\",\"type\":\"GlyphRenderer\"},{\"attributes\":{},\"id\":\"31799\",\"type\":\"ResetTool\"},{\"attributes\":{\"bottom_units\":\"screen\",\"fill_alpha\":{\"value\":0.5},\"fill_color\":{\"value\":\"lightgrey\"},\"left_units\":\"screen\",\"level\":\"overlay\",\"line_alpha\":{\"value\":1.0},\"line_color\":{\"value\":\"black\"},\"line_dash\":[4,4],\"line_width\":{\"value\":2},\"render_mode\":\"css\",\"right_units\":\"screen\",\"top_units\":\"screen\"},\"id\":\"31913\",\"type\":\"BoxAnnotation\"},{\"attributes\":{},\"id\":\"31912\",\"type\":\"BasicTickFormatter\"},{\"attributes\":{\"overlay\":{\"id\":\"31818\",\"type\":\"BoxAnnotation\"}},\"id\":\"31797\",\"type\":\"BoxZoomTool\"},{\"attributes\":{\"source\":{\"id\":\"31851\",\"type\":\"ColumnDataSource\"}},\"id\":\"31855\",\"type\":\"CDSView\"}],\"root_ids\":[\"31977\"]},\"title\":\"Bokeh Application\",\"version\":\"1.4.0\"}};\n",
       "  var render_items = [{\"docid\":\"538ee52e-72a7-48d5-9194-5ba19e6beac1\",\"roots\":{\"31977\":\"e56aa7a7-f973-416e-8185-f3ae65e1b9c5\"}}];\n",
       "  root.Bokeh.embed.embed_items_notebook(docs_json, render_items);\n",
       "\n",
       "  }\n",
       "  if (root.Bokeh !== undefined) {\n",
       "    embed_document(root);\n",
       "  } else {\n",
       "    var attempts = 0;\n",
       "    var timer = setInterval(function(root) {\n",
       "      if (root.Bokeh !== undefined) {\n",
       "        clearInterval(timer);\n",
       "        embed_document(root);\n",
       "      } else {\n",
       "        attempts++;\n",
       "        if (attempts > 100) {\n",
       "          clearInterval(timer);\n",
       "          console.log(\"Bokeh: ERROR: Unable to run BokehJS code because BokehJS library is missing\");\n",
       "        }\n",
       "      }\n",
       "    }, 10, root)\n",
       "  }\n",
       "})(window);"
      ],
      "application/vnd.bokehjs_exec.v0+json": ""
     },
     "metadata": {
      "application/vnd.bokehjs_exec.v0+json": {
       "id": "31977"
      }
     },
     "output_type": "display_data"
    },
    {
     "data": {
      "text/html": [
       "\n",
       "\n",
       "\n",
       "\n",
       "\n",
       "\n",
       "  <div class=\"bk-root\" id=\"b4e9f37e-be79-44dd-a4fd-864d6cfb8052\" data-root-id=\"31916\"></div>\n"
      ]
     },
     "metadata": {},
     "output_type": "display_data"
    },
    {
     "data": {
      "application/javascript": [
       "(function(root) {\n",
       "  function embed_document(root) {\n",
       "    \n",
       "  var docs_json = {\"fd86012b-cd9b-4788-9e11-d7f457954b0a\":{\"roots\":{\"references\":[{\"attributes\":{\"below\":[{\"id\":\"31927\",\"type\":\"LinearAxis\"}],\"center\":[{\"id\":\"31931\",\"type\":\"Grid\"},{\"id\":\"31936\",\"type\":\"Grid\"},{\"id\":\"31961\",\"type\":\"Legend\"}],\"left\":[{\"id\":\"31932\",\"type\":\"LinearAxis\"}],\"plot_height\":350,\"plot_width\":450,\"renderers\":[{\"id\":\"31953\",\"type\":\"GlyphRenderer\"},{\"id\":\"31966\",\"type\":\"GlyphRenderer\"}],\"title\":{\"id\":\"31917\",\"type\":\"Title\"},\"toolbar\":{\"id\":\"31943\",\"type\":\"Toolbar\"},\"x_range\":{\"id\":\"31919\",\"type\":\"DataRange1d\"},\"x_scale\":{\"id\":\"31923\",\"type\":\"LinearScale\"},\"y_range\":{\"id\":\"31921\",\"type\":\"DataRange1d\"},\"y_scale\":{\"id\":\"31925\",\"type\":\"LinearScale\"}},\"id\":\"31916\",\"subtype\":\"Figure\",\"type\":\"Plot\"},{\"attributes\":{},\"id\":\"33845\",\"type\":\"UnionRenderers\"},{\"attributes\":{\"active_drag\":\"auto\",\"active_inspect\":\"auto\",\"active_multi\":null,\"active_scroll\":\"auto\",\"active_tap\":\"auto\",\"tools\":[{\"id\":\"31937\",\"type\":\"PanTool\"},{\"id\":\"31938\",\"type\":\"WheelZoomTool\"},{\"id\":\"31939\",\"type\":\"BoxZoomTool\"},{\"id\":\"31940\",\"type\":\"SaveTool\"},{\"id\":\"31941\",\"type\":\"ResetTool\"},{\"id\":\"31942\",\"type\":\"HelpTool\"}]},\"id\":\"31943\",\"type\":\"Toolbar\"},{\"attributes\":{\"line_color\":\"#1f77b3\",\"line_width\":2,\"x\":{\"field\":\"x\"},\"y\":{\"field\":\"y\"}},\"id\":\"31951\",\"type\":\"Line\"},{\"attributes\":{\"data_source\":{\"id\":\"31950\",\"type\":\"ColumnDataSource\"},\"glyph\":{\"id\":\"31951\",\"type\":\"Line\"},\"hover_glyph\":null,\"muted_glyph\":null,\"nonselection_glyph\":{\"id\":\"31952\",\"type\":\"Line\"},\"selection_glyph\":null,\"view\":{\"id\":\"31954\",\"type\":\"CDSView\"}},\"id\":\"31953\",\"type\":\"GlyphRenderer\"},{\"attributes\":{\"line_color\":\"#ff7e0e\",\"line_width\":2,\"x\":{\"field\":\"x\"},\"y\":{\"field\":\"y\"}},\"id\":\"31964\",\"type\":\"Line\"},{\"attributes\":{\"callback\":null,\"data\":{\"x\":{\"__ndarray__\":\"AAAAAAAAAABIzNsZEvNzQEjM2xkS84NAbLLJJpvsjUBIzNsZEvOTQFq/UqDW75hAbLLJJpvsnUC/UqDWr3ShQEjM2xkS86NA0UUXXXRxpkBav1Kg1u+oQOM4juM4bqtAbLLJJpvsrUD6lQK1fjWwQL9SoNavdLFAhA8++OCzskBIzNsZEvOzQAyJeTtDMrVA0UUXXXRxtkCWArV+pbC3QFq/UqDW77hAHnzwwQcvukDjOI7jOG67QKj1KwVqrbxAbLLJJpvsvUAwb2dIzCu/QPqVArV+NcBAXXTRRRfVwEC/UqDWr3TBQCExb2dIFMJAhA8++OCzwkDm7QyJeVPDQEjM2xkS88NAqqqqqqqSxEAMiXk7QzLFQG9nSMzb0cVA0UUXXXRxxkAzJObtDBHHQJYCtX6lsMdA+OCDDz5QyEBav1Kg1u/IQLydITFvj8lAHnzwwQcvykCBWr9SoM7KQOM4juM4bstARRdddNENzECo9SsFaq3MQArU+pUCTc1AbLLJJpvszUDOkJi3M4zOQDBvZ0jMK89Ak0022WTLz0D6lQK1fjXQQCwFav1KhdBAXXTRRRfV0ECO4ziO4yTRQL9SoNavdNFA8MEHH3zE0UAhMW9nSBTSQFKg1q8UZNJAhA8++OCz0kC1fqVArQPTQObtDIl5U9NAF1100UWj00BIzNsZEvPTQHk7Q2LeQtRAqqqqqqqS1EDbGRLzduLUQAyJeTtDMtVAPvjggw+C1UBvZ0jM29HVQKDWrxSoIdZA0UUXXXRx1kACtX6lQMHWQDMk5u0MEddAZJNNNtlg10CWArV+pbDXQMdxHMdxANhA+OCDDz5Q2EApUOtXCqDYQFq/UqDW79hAiy666KI/2UC8nSExb4/ZQO0MiXk739lAHnzwwQcv2kBQ61cK1H7aQIFav1KgztpAsskmm2we20DjOI7jOG7bQBSo9SsFvttARRdddNEN3EB2hsS8nV3cQKj1KwVqrdxA2WSTTTb93EAK1PqVAk3dQDtDYt7OnN1AbLLJJpvs3UCdITFvZzzeQM6QmLczjN5AAAAAAADc3kA=\",\"dtype\":\"float64\",\"shape\":[100]},\"y\":{\"__ndarray__\":\"AAAAAAAAJEBudeBTzoCBPfhbxBy5c3W9R6OuFeziYjykiTHLQqGgvCA+yR3S1K28Y8vx6X35db2mpFMVi/wkPWSd6wfCqrA9lpdrVDngo73Rl7+g91awPcyZ29NDGeq9TDM81qBiSj34Hj0AlOQyPblP816qDlW9WhbXzq26kT2bYS+LDLIkveQPcKAxlqs8iwK+0+KwMbzwuYHA3PA3PBhpvZCkaIe8+HDfJU7gSjywys0ATYd6vOjCZfRpBbg8UZS7EEDBCL0YRTYmEUIwPXMrMpVn+FQ9BCD5RJeoPj2gIYXNl/VevVYmQdduzIK9QIybUOsKtb0XaHOwYIucvTiY/rJIGIi9hArmKPfSXr3JxvEmFemCPZAwc3dIyVa9NHnnpv7Ggz3kUNSwQUe7vYt+aone1W89Po3XsjBLOD1CPHPfsbJoPW+FUfpTsNC8+hSqfn0SUb10SwDcCZL3vDL0Upwj/JK8AFCW4C4OjTxAXDcoAT3kPHVI8FzYfvQ8BE2OWjUIEL3gANH6NSIsPU8XcBSTffM8ABvcykyO/bxdo9zx8CnSPNqIlfU/6Um81MrOPqK4Zjy3i2l3hFM/vKSv3UuTauW7linwHSdM0rsznTJPYZ2qO3yqvn2A1W47qzeFdv0kPTtxakHHCocWu6CoweNyUem6KOSTCnze5zpAZiEUDKDeOrYWGB8g08S6I0UYeskxyjolyjplnXG6uvhVhBGflos66E1h3q7txLkQAKo7fl31uagMyjdYTDY6lCzUviPUP7qGzmhnA5BVOkSUTS5VR2e6ePLbCJ2KeTokYevhGCCDutjvittE+K06cMVy3idXxLpIaMwsYsHfOjRBvaTGKfi6uKaj0eTwETuosO0o1T8qu8gAkwHbxT87ohaNL8fkOTvypnn2yd09uy2JSaYeDzU7NbRt9ZkGRDtwZGUc0LYvO9ydsNYwJ0M7PXy3Mk7uT7sYrZGeG80xO6CUTx2PhVQ7EA5hkRZEYbsUPtP6NNahOzv7r2IGfKm7QB2oKRKEkLtUV2onRPTVO5SQn6izrvS72KfYQ85h9js=\",\"dtype\":\"float64\",\"shape\":[100]}},\"selected\":{\"id\":\"31974\",\"type\":\"Selection\"},\"selection_policy\":{\"id\":\"31973\",\"type\":\"UnionRenderers\"}},\"id\":\"31950\",\"type\":\"ColumnDataSource\"},{\"attributes\":{\"line_alpha\":0.1,\"line_color\":\"#1f77b4\",\"line_width\":2,\"x\":{\"field\":\"x\"},\"y\":{\"field\":\"y\"}},\"id\":\"31965\",\"type\":\"Line\"},{\"attributes\":{},\"id\":\"31937\",\"type\":\"PanTool\"},{\"attributes\":{\"text\":\"Compare ATP\"},\"id\":\"31917\",\"type\":\"Title\"},{\"attributes\":{\"data_source\":{\"id\":\"31963\",\"type\":\"ColumnDataSource\"},\"glyph\":{\"id\":\"31964\",\"type\":\"Line\"},\"hover_glyph\":null,\"muted_glyph\":null,\"nonselection_glyph\":{\"id\":\"31965\",\"type\":\"Line\"},\"selection_glyph\":null,\"view\":{\"id\":\"31967\",\"type\":\"CDSView\"}},\"id\":\"31966\",\"type\":\"GlyphRenderer\"},{\"attributes\":{},\"id\":\"31938\",\"type\":\"WheelZoomTool\"},{\"attributes\":{\"callback\":null},\"id\":\"31919\",\"type\":\"DataRange1d\"},{\"attributes\":{\"overlay\":{\"id\":\"31960\",\"type\":\"BoxAnnotation\"}},\"id\":\"31939\",\"type\":\"BoxZoomTool\"},{\"attributes\":{\"source\":{\"id\":\"31963\",\"type\":\"ColumnDataSource\"}},\"id\":\"31967\",\"type\":\"CDSView\"},{\"attributes\":{},\"id\":\"31940\",\"type\":\"SaveTool\"},{\"attributes\":{},\"id\":\"31974\",\"type\":\"Selection\"},{\"attributes\":{\"label\":{\"value\":\"only atp\"},\"renderers\":[{\"id\":\"31966\",\"type\":\"GlyphRenderer\"}]},\"id\":\"31976\",\"type\":\"LegendItem\"},{\"attributes\":{},\"id\":\"31941\",\"type\":\"ResetTool\"},{\"attributes\":{},\"id\":\"31973\",\"type\":\"UnionRenderers\"},{\"attributes\":{\"callback\":null},\"id\":\"31921\",\"type\":\"DataRange1d\"},{\"attributes\":{},\"id\":\"31942\",\"type\":\"HelpTool\"},{\"attributes\":{},\"id\":\"31923\",\"type\":\"LinearScale\"},{\"attributes\":{},\"id\":\"31925\",\"type\":\"LinearScale\"},{\"attributes\":{\"axis_label\":\"time\",\"formatter\":{\"id\":\"31957\",\"type\":\"BasicTickFormatter\"},\"ticker\":{\"id\":\"31928\",\"type\":\"BasicTicker\"}},\"id\":\"31927\",\"type\":\"LinearAxis\"},{\"attributes\":{\"dimension\":1,\"ticker\":{\"id\":\"31933\",\"type\":\"BasicTicker\"}},\"id\":\"31936\",\"type\":\"Grid\"},{\"attributes\":{\"bottom_units\":\"screen\",\"fill_alpha\":{\"value\":0.5},\"fill_color\":{\"value\":\"lightgrey\"},\"left_units\":\"screen\",\"level\":\"overlay\",\"line_alpha\":{\"value\":1.0},\"line_color\":{\"value\":\"black\"},\"line_dash\":[4,4],\"line_width\":{\"value\":2},\"render_mode\":\"css\",\"right_units\":\"screen\",\"top_units\":\"screen\"},\"id\":\"31960\",\"type\":\"BoxAnnotation\"},{\"attributes\":{},\"id\":\"31928\",\"type\":\"BasicTicker\"},{\"attributes\":{\"items\":[{\"id\":\"31962\",\"type\":\"LegendItem\"},{\"id\":\"31976\",\"type\":\"LegendItem\"}]},\"id\":\"31961\",\"type\":\"Legend\"},{\"attributes\":{\"ticker\":{\"id\":\"31928\",\"type\":\"BasicTicker\"}},\"id\":\"31931\",\"type\":\"Grid\"},{\"attributes\":{\"source\":{\"id\":\"31950\",\"type\":\"ColumnDataSource\"}},\"id\":\"31954\",\"type\":\"CDSView\"},{\"attributes\":{},\"id\":\"31957\",\"type\":\"BasicTickFormatter\"},{\"attributes\":{},\"id\":\"31933\",\"type\":\"BasicTicker\"},{\"attributes\":{},\"id\":\"31959\",\"type\":\"BasicTickFormatter\"},{\"attributes\":{\"axis_label\":\"concentration\",\"formatter\":{\"id\":\"31959\",\"type\":\"BasicTickFormatter\"},\"ticker\":{\"id\":\"31933\",\"type\":\"BasicTicker\"}},\"id\":\"31932\",\"type\":\"LinearAxis\"},{\"attributes\":{\"callback\":null,\"data\":{\"x\":{\"__ndarray__\":\"AAAAAAAAAABIzNsZEvNzQEjM2xkS84NAbLLJJpvsjUBIzNsZEvOTQFq/UqDW75hAbLLJJpvsnUC/UqDWr3ShQEjM2xkS86NA0UUXXXRxpkBav1Kg1u+oQOM4juM4bqtAbLLJJpvsrUD6lQK1fjWwQL9SoNavdLFAhA8++OCzskBIzNsZEvOzQAyJeTtDMrVA0UUXXXRxtkCWArV+pbC3QFq/UqDW77hAHnzwwQcvukDjOI7jOG67QKj1KwVqrbxAbLLJJpvsvUAwb2dIzCu/QPqVArV+NcBAXXTRRRfVwEC/UqDWr3TBQCExb2dIFMJAhA8++OCzwkDm7QyJeVPDQEjM2xkS88NAqqqqqqqSxEAMiXk7QzLFQG9nSMzb0cVA0UUXXXRxxkAzJObtDBHHQJYCtX6lsMdA+OCDDz5QyEBav1Kg1u/IQLydITFvj8lAHnzwwQcvykCBWr9SoM7KQOM4juM4bstARRdddNENzECo9SsFaq3MQArU+pUCTc1AbLLJJpvszUDOkJi3M4zOQDBvZ0jMK89Ak0022WTLz0D6lQK1fjXQQCwFav1KhdBAXXTRRRfV0ECO4ziO4yTRQL9SoNavdNFA8MEHH3zE0UAhMW9nSBTSQFKg1q8UZNJAhA8++OCz0kC1fqVArQPTQObtDIl5U9NAF1100UWj00BIzNsZEvPTQHk7Q2LeQtRAqqqqqqqS1EDbGRLzduLUQAyJeTtDMtVAPvjggw+C1UBvZ0jM29HVQKDWrxSoIdZA0UUXXXRx1kACtX6lQMHWQDMk5u0MEddAZJNNNtlg10CWArV+pbDXQMdxHMdxANhA+OCDDz5Q2EApUOtXCqDYQFq/UqDW79hAiy666KI/2UC8nSExb4/ZQO0MiXk739lAHnzwwQcv2kBQ61cK1H7aQIFav1KgztpAsskmm2we20DjOI7jOG7bQBSo9SsFvttARRdddNEN3EB2hsS8nV3cQKj1KwVqrdxA2WSTTTb93EAK1PqVAk3dQDtDYt7OnN1AbLLJJpvs3UCdITFvZzzeQM6QmLczjN5AAAAAAADc3kA=\",\"dtype\":\"float64\",\"shape\":[100]},\"y\":{\"__ndarray__\":\"AAAAAAAAJEBxWthsUScAvGv5U1eTFOq7+ay/AKx/RLujyo0Qzd0yu87Vwpc0dIu6vSK8husuirqsb7V1oumIup28rmRZpIe6jQmoUxBfhrp9VqFCxxmFumyjmjF+1IO6XPCTIDWPgrpNPY0P7EmBujyKhv6iBIC6WK7/2rN+fbo4SPK4IfR6uhji5JaPaXi6+HvXdP3edbrWFcpSa1RzurevvDDZyXC6L5NeHY5+bLruxkPZaWlnuqv6KJVFVGK62lwcokJ+WrpexOYZ+lNQuoOvxEbGpji6O6XD3KLItznW2YRnrau2OXEORvK3jrU5CkMHfcJxtDmld8gHzVSzOUCsiZLXN7I52+BKHeIasTnsKhhQ2fuvOR6UmmXuwa05VP0cewOIqzmKZp+QGE6pOb3PIaYtFKc58jiku0LapDkooibRV6CiOV4LqeZsZqA5KelW+ANZnDmOu1sjLuWXOfqNYE5YcZM5y8DK8gT7jTmVZdRIWROFOdkUvD1bV3g5IXo9pw8gWjl4tzsviHnZOGB9qgB4W9k4SEMZ0mc92TgvCYijVx/ZOBbP9nRHAdk4/pRlRjfj2DjmWtQXJ8XYOMwgQ+kWp9g4tOaxugaJ2DicrCCM9mrYOIJyj13mTNg4ajj+LtYu2DhR/mwAxhDYODnE29G18tc4IIpKo6XU1zgIULl0lbbXOO8VKEaFmNc41tuWF3V61zi+oQXpZFzXOKZndLpUPtc4jC3ji0Qg1zhz81FdNALXOFu5wC4k5NY4Q38vABTG1jgqRZ7RA6jWOBELDaPzidY4+dB7dONr1jjglupF003WOMdcWRfDL9Y4ryLI6LIR1jiX6Da6ovPVOH6upYuS1dU4ZHQUXYK31ThNOoMucpnVODUA8v9he9U4HMZg0VFd1TgCjM+iQT/VOOpRPnQxIdU40RetRSED1Ti53RsXEeXUOKCjiugAx9Q4iGn5ufCo1DhvL2iL4IrUOFb11lzQbNQ4PrtFLsBO1DglgbT/rzDUOAxHI9GfEtQ49AySoo/00zjb0gB0f9bTOMOYb0VvuNM4ql7eFl+a0zg=\",\"dtype\":\"float64\",\"shape\":[100]}},\"selected\":{\"id\":\"33846\",\"type\":\"Selection\"},\"selection_policy\":{\"id\":\"33845\",\"type\":\"UnionRenderers\"}},\"id\":\"31963\",\"type\":\"ColumnDataSource\"},{\"attributes\":{},\"id\":\"33846\",\"type\":\"Selection\"},{\"attributes\":{\"label\":{\"value\":\"atp synthase atp\"},\"renderers\":[{\"id\":\"31953\",\"type\":\"GlyphRenderer\"}]},\"id\":\"31962\",\"type\":\"LegendItem\"},{\"attributes\":{\"line_alpha\":0.1,\"line_color\":\"#1f77b4\",\"line_width\":2,\"x\":{\"field\":\"x\"},\"y\":{\"field\":\"y\"}},\"id\":\"31952\",\"type\":\"Line\"}],\"root_ids\":[\"31916\"]},\"title\":\"Bokeh Application\",\"version\":\"1.4.0\"}};\n",
       "  var render_items = [{\"docid\":\"fd86012b-cd9b-4788-9e11-d7f457954b0a\",\"roots\":{\"31916\":\"b4e9f37e-be79-44dd-a4fd-864d6cfb8052\"}}];\n",
       "  root.Bokeh.embed.embed_items_notebook(docs_json, render_items);\n",
       "\n",
       "  }\n",
       "  if (root.Bokeh !== undefined) {\n",
       "    embed_document(root);\n",
       "  } else {\n",
       "    var attempts = 0;\n",
       "    var timer = setInterval(function(root) {\n",
       "      if (root.Bokeh !== undefined) {\n",
       "        clearInterval(timer);\n",
       "        embed_document(root);\n",
       "      } else {\n",
       "        attempts++;\n",
       "        if (attempts > 100) {\n",
       "          clearInterval(timer);\n",
       "          console.log(\"Bokeh: ERROR: Unable to run BokehJS code because BokehJS library is missing\");\n",
       "        }\n",
       "      }\n",
       "    }, 10, root)\n",
       "  }\n",
       "})(window);"
      ],
      "application/vnd.bokehjs_exec.v0+json": ""
     },
     "metadata": {
      "application/vnd.bokehjs_exec.v0+json": {
       "id": "31916"
      }
     },
     "output_type": "display_data"
    }
   ],
   "source": [
    "# PLOT WITH ATP SYNTHASE\n",
    "p_w_atp = bokeh.plotting.figure(width = 450, height = 350, title = 'with ATP Synthase, ATP Use',\n",
    "                          x_axis_label = 'time',\n",
    "                          y_axis_label = 'concentration')\n",
    "plot_list = [ATP_id, outside_H_id, inside_H_id, atp_synthase_b_protein_id]\n",
    "plot_str = ['atp', 'outside_H', 'inside_H', 'bound atp synthase']\n",
    "# plot_list = [atp_synthase_b_protein_id, atp_synthase_f_protein_id]\n",
    "# plot_str = ['atp synthase bound', 'atp synthase free']\n",
    "for i,item in enumerate(plot_list):\n",
    "    p_w_atp.line(timepoints, results[item], line_width = 2, legend_label = plot_str[i], color = palette[i])\n",
    "    \n",
    "\n",
    "# PLOT WITHOUT ATP SYNTHASE\n",
    "p_no_atp = bokeh.plotting.figure(width = 450, height = 350, title = 'only ATP Use',\n",
    "                          x_axis_label = 'time',\n",
    "                          y_axis_label = 'concentration')\n",
    "p_no_atp.line(timepoints, results2[ATP_id2], line_width = 2, legend_label = 'atp', color = palette[0])\n",
    "\n",
    "p_compare = bokeh.plotting.figure(width = 450, height = 350, title = 'Compare ATP',\n",
    "                          x_axis_label = 'time',\n",
    "                          y_axis_label = 'concentration')\n",
    "p_compare.line(timepoints, results[ATP_id], legend_label = 'atp synthase atp', line_width = 2, color = palette[0])\n",
    "p_compare.line(timepoints, results2[ATP_id2], legend_label = 'only atp', line_width = 2, color = palette[1])\n",
    "\n",
    "\n",
    "p_w_atp.legend.location = 'bottom_right'\n",
    "p_w_atp.legend.click_policy = 'hide'\n",
    "    \n",
    "bokeh.io.show(row(p_w_atp, p_no_atp))\n",
    "bokeh.io.show(p_compare)\n",
    "\n",
    "\n"
   ]
  },
  {
   "cell_type": "markdown",
   "metadata": {},
   "source": [
    "Why does bound atp synthase shoot infinitely high:( got em, it's because you kept remaking the transcript silly"
   ]
  },
  {
   "cell_type": "markdown",
   "metadata": {},
   "source": [
    "## Combine all proton pump with txtl machinery\n",
    "---"
   ]
  },
  {
   "cell_type": "code",
   "execution_count": 121,
   "metadata": {},
   "outputs": [],
   "source": [
    "#ss5_pp_txtl = createSubsystem('proton_pump_tx_tl.xml', subsystemName = 'pp_txtl')\n",
    "ss5_pp_txtl = createSubsystem('proton_pump_machinery_txtl.xml', subsystemName = 'pp_txtl')\n",
    "ss6_pp_mi = createSubsystem('proton_pump_membrane_integration.xml', subsystemName = 'pp_mi')\n",
    "ss7_protontransport = createSubsystem('proton_transport_through_proton_pump.xml', subsystemName = 'protontransport')"
   ]
  },
  {
   "cell_type": "code",
   "execution_count": 122,
   "metadata": {},
   "outputs": [],
   "source": [
    "pp_subsystem = ss5_pp_txtl + ss6_pp_mi + ss7_protontransport"
   ]
  },
  {
   "cell_type": "code",
   "execution_count": 123,
   "metadata": {},
   "outputs": [
    {
     "name": "stderr",
     "output_type": "stream",
     "text": [
      "odeint failed with mxstep=500..."
     ]
    }
   ],
   "source": [
    "# Initial conditions\n",
    "spec_list_10 = ['dna_proton_pump', 'proton_outside_H', 'metabolite_atp', 'protein_RNAP_machinery', \n",
    "                'protein_Ribo_machinery', 'protein_RNAse_machinery']\n",
    "for i,spec in enumerate(spec_list_10):\n",
    "    pp_subsystem.setSpeciesAmount(spec,10)\n",
    "\n",
    "\n",
    "# timepoints and get results\n",
    "timepoints = np.linspace(0,31600,100)\n",
    "results, _ = pp_subsystem.simulateWithBioscrape(timepoints, sbml_warnings = False)\n",
    "\n",
    "# Get species IDs\n",
    "ATP_id = pp_subsystem.getSpeciesByName('metabolite_atp').getId()\n",
    "ADP_id = pp_subsystem.getSpeciesByName('metabolite_adp').getId()\n",
    "\n",
    "outside_H_id = pp_subsystem.getSpeciesByName('proton_outside_H').getId()\n",
    "inside_H_id = pp_subsystem.getSpeciesByName('proton_inside_H').getId()\n",
    "proton_pump_b_protein_id = pp_subsystem.getSpeciesByName('protein_proton_pump_b').getId()\n",
    "proton_pump_f_protein_id = pp_subsystem.getSpeciesByName('protein_proton_pump').getId()\n",
    "\n",
    "\n",
    "\n",
    "dna_pp = pp_subsystem.getSpeciesByName('dna_proton_pump').getId()"
   ]
  },
  {
   "cell_type": "code",
   "execution_count": 124,
   "metadata": {},
   "outputs": [
    {
     "data": {
      "text/html": [
       "\n",
       "\n",
       "\n",
       "\n",
       "\n",
       "\n",
       "  <div class=\"bk-root\" id=\"910b2a37-db3b-419f-8b61-a35b0df688da\" data-root-id=\"33908\"></div>\n"
      ]
     },
     "metadata": {},
     "output_type": "display_data"
    },
    {
     "data": {
      "application/javascript": [
       "(function(root) {\n",
       "  function embed_document(root) {\n",
       "    \n",
       "  var docs_json = {\"84bae162-e7ac-434f-9e66-f258aaee71e3\":{\"roots\":{\"references\":[{\"attributes\":{\"below\":[{\"id\":\"33919\",\"type\":\"LinearAxis\"}],\"center\":[{\"id\":\"33923\",\"type\":\"Grid\"},{\"id\":\"33928\",\"type\":\"Grid\"},{\"id\":\"33953\",\"type\":\"Legend\"}],\"left\":[{\"id\":\"33924\",\"type\":\"LinearAxis\"}],\"plot_height\":350,\"plot_width\":450,\"renderers\":[{\"id\":\"33945\",\"type\":\"GlyphRenderer\"},{\"id\":\"33958\",\"type\":\"GlyphRenderer\"},{\"id\":\"33972\",\"type\":\"GlyphRenderer\"},{\"id\":\"33988\",\"type\":\"GlyphRenderer\"},{\"id\":\"34006\",\"type\":\"GlyphRenderer\"}],\"title\":{\"id\":\"33909\",\"type\":\"Title\"},\"toolbar\":{\"id\":\"33935\",\"type\":\"Toolbar\"},\"x_range\":{\"id\":\"33911\",\"type\":\"DataRange1d\"},\"x_scale\":{\"id\":\"33915\",\"type\":\"LinearScale\"},\"y_range\":{\"id\":\"33913\",\"type\":\"DataRange1d\"},\"y_scale\":{\"id\":\"33917\",\"type\":\"LinearScale\"}},\"id\":\"33908\",\"subtype\":\"Figure\",\"type\":\"Plot\"},{\"attributes\":{\"callback\":null},\"id\":\"33911\",\"type\":\"DataRange1d\"},{\"attributes\":{\"source\":{\"id\":\"33955\",\"type\":\"ColumnDataSource\"}},\"id\":\"33959\",\"type\":\"CDSView\"},{\"attributes\":{\"callback\":null,\"data\":{\"x\":{\"__ndarray__\":\"AAAAAAAAAABIzNsZEvNzQEjM2xkS84NAbLLJJpvsjUBIzNsZEvOTQFq/UqDW75hAbLLJJpvsnUC/UqDWr3ShQEjM2xkS86NA0UUXXXRxpkBav1Kg1u+oQOM4juM4bqtAbLLJJpvsrUD6lQK1fjWwQL9SoNavdLFAhA8++OCzskBIzNsZEvOzQAyJeTtDMrVA0UUXXXRxtkCWArV+pbC3QFq/UqDW77hAHnzwwQcvukDjOI7jOG67QKj1KwVqrbxAbLLJJpvsvUAwb2dIzCu/QPqVArV+NcBAXXTRRRfVwEC/UqDWr3TBQCExb2dIFMJAhA8++OCzwkDm7QyJeVPDQEjM2xkS88NAqqqqqqqSxEAMiXk7QzLFQG9nSMzb0cVA0UUXXXRxxkAzJObtDBHHQJYCtX6lsMdA+OCDDz5QyEBav1Kg1u/IQLydITFvj8lAHnzwwQcvykCBWr9SoM7KQOM4juM4bstARRdddNENzECo9SsFaq3MQArU+pUCTc1AbLLJJpvszUDOkJi3M4zOQDBvZ0jMK89Ak0022WTLz0D6lQK1fjXQQCwFav1KhdBAXXTRRRfV0ECO4ziO4yTRQL9SoNavdNFA8MEHH3zE0UAhMW9nSBTSQFKg1q8UZNJAhA8++OCz0kC1fqVArQPTQObtDIl5U9NAF1100UWj00BIzNsZEvPTQHk7Q2LeQtRAqqqqqqqS1EDbGRLzduLUQAyJeTtDMtVAPvjggw+C1UBvZ0jM29HVQKDWrxSoIdZA0UUXXXRx1kACtX6lQMHWQDMk5u0MEddAZJNNNtlg10CWArV+pbDXQMdxHMdxANhA+OCDDz5Q2EApUOtXCqDYQFq/UqDW79hAiy666KI/2UC8nSExb4/ZQO0MiXk739lAHnzwwQcv2kBQ61cK1H7aQIFav1KgztpAsskmm2we20DjOI7jOG7bQBSo9SsFvttARRdddNEN3EB2hsS8nV3cQKj1KwVqrdxA2WSTTTb93EAK1PqVAk3dQDtDYt7OnN1AbLLJJpvs3UCdITFvZzzeQM6QmLczjN5AAAAAAADc3kA=\",\"dtype\":\"float64\",\"shape\":[100]},\"y\":{\"__ndarray__\":\"AAAAAAAAAABGbVcFSg/zPzfawvfkHgdA+wlqetTREUB4Xh1RF4IXQNMc3o5frRxA58zf1OivIEDnF8ozO9IiQJHdB06qwiRAKExxW8SFJkAMRQgVrR8oQGq/Jm8nlClAr6s+b57mKkAeQI4zLRosQGja+z6mMS1AoKJoGpovLkC3jQFbXRYvQKhfwRsO6C9Axrp1e0xTMEBCjKXF3qkwQGAe7EuJ+DBAqrFx2wRAMUBhIlVh+YAxQE39JHX/uzFAcaVPv6HxMUCO3+g+XiIyQMDKk3GnTjJA6gKJYOV2MkCt8AGVdpsyQHX7OvawvDJA7kxXk+LaMkClS55aUvYyQPoTJMBADzNA1k/RVeglM0CcaZxTfjozQL1xwxUzTTNAU1Z0jTJeM0CcVwmqpG0zQFWU9rOtezNAU/nvo26IM0AYGCFwBZQzQLgt/VGNnjNAgJyjBh+oM0D8H/II0bAzQOz6Rca3uDNAF9RdzuW/M0D4Lh//a8YzQGnBJaxZzDNAzJS6wrzRM0AtKp/qodYzQEEHtaMU2zNAGL8UYR/fM0AJOoWhy+IzQIUD3wUi5jNAOVJAZSrpM0Agh4Lf6+szQKJ57u1s7jNApIx4crPwM0AdeZrFxPIzQHET0sKl9DNA8G8J1Fr2M0ARjwL85/czQK2zvd9Q+TNA+sQDz5j6M0CteDPMwvszQPeEWpPR/DNA9E6WoMf9M0DNUes1p/4zQLsllmBy/zNAPxTe/SoANECIe3O/0gA0QKBdbi9rATRANX3ps/UBNEB6EkmScwI0QAGjO/LlAjRANnRz4E0DNEAXAhxRrAM0QOnqESICBDRApj7tHFAENEAwLt34lgQ0QEL7VlzXBDRARd6d3hEFNECrFiUJRwU0QICN0lh3BTRA5+YjP6MFNEDjGTojywU0QIqpzGLvBTRActAAUxAGNECTrjZBLgY0QIpkvnNJBjRAmGV8KmIGNEAqdX+feAY0QMTYiAeNBjRAYx2Ikp8GNECIygxssAY0QFvFrLu/BjRAvNpgpc0GNEDRydhJ2gY0QJKtxsblBjRA6jAiN/AGNEA=\",\"dtype\":\"float64\",\"shape\":[100]}},\"selected\":{\"id\":\"34020\",\"type\":\"Selection\"},\"selection_policy\":{\"id\":\"34019\",\"type\":\"UnionRenderers\"}},\"id\":\"33985\",\"type\":\"ColumnDataSource\"},{\"attributes\":{},\"id\":\"33929\",\"type\":\"PanTool\"},{\"attributes\":{\"source\":{\"id\":\"33969\",\"type\":\"ColumnDataSource\"}},\"id\":\"33973\",\"type\":\"CDSView\"},{\"attributes\":{\"label\":{\"value\":\"outside_H\"},\"renderers\":[{\"id\":\"33958\",\"type\":\"GlyphRenderer\"}]},\"id\":\"33968\",\"type\":\"LegendItem\"},{\"attributes\":{\"callback\":null,\"data\":{\"x\":{\"__ndarray__\":\"AAAAAAAAAABIzNsZEvNzQEjM2xkS84NAbLLJJpvsjUBIzNsZEvOTQFq/UqDW75hAbLLJJpvsnUC/UqDWr3ShQEjM2xkS86NA0UUXXXRxpkBav1Kg1u+oQOM4juM4bqtAbLLJJpvsrUD6lQK1fjWwQL9SoNavdLFAhA8++OCzskBIzNsZEvOzQAyJeTtDMrVA0UUXXXRxtkCWArV+pbC3QFq/UqDW77hAHnzwwQcvukDjOI7jOG67QKj1KwVqrbxAbLLJJpvsvUAwb2dIzCu/QPqVArV+NcBAXXTRRRfVwEC/UqDWr3TBQCExb2dIFMJAhA8++OCzwkDm7QyJeVPDQEjM2xkS88NAqqqqqqqSxEAMiXk7QzLFQG9nSMzb0cVA0UUXXXRxxkAzJObtDBHHQJYCtX6lsMdA+OCDDz5QyEBav1Kg1u/IQLydITFvj8lAHnzwwQcvykCBWr9SoM7KQOM4juM4bstARRdddNENzECo9SsFaq3MQArU+pUCTc1AbLLJJpvszUDOkJi3M4zOQDBvZ0jMK89Ak0022WTLz0D6lQK1fjXQQCwFav1KhdBAXXTRRRfV0ECO4ziO4yTRQL9SoNavdNFA8MEHH3zE0UAhMW9nSBTSQFKg1q8UZNJAhA8++OCz0kC1fqVArQPTQObtDIl5U9NAF1100UWj00BIzNsZEvPTQHk7Q2LeQtRAqqqqqqqS1EDbGRLzduLUQAyJeTtDMtVAPvjggw+C1UBvZ0jM29HVQKDWrxSoIdZA0UUXXXRx1kACtX6lQMHWQDMk5u0MEddAZJNNNtlg10CWArV+pbDXQMdxHMdxANhA+OCDDz5Q2EApUOtXCqDYQFq/UqDW79hAiy666KI/2UC8nSExb4/ZQO0MiXk739lAHnzwwQcv2kBQ61cK1H7aQIFav1KgztpAsskmm2we20DjOI7jOG7bQBSo9SsFvttARRdddNEN3EB2hsS8nV3cQKj1KwVqrdxA2WSTTTb93EAK1PqVAk3dQDtDYt7OnN1AbLLJJpvs3UCdITFvZzzeQM6QmLczjN5AAAAAAADc3kA=\",\"dtype\":\"float64\",\"shape\":[100]},\"y\":{\"__ndarray__\":\"AAAAAAAAAAAAAAAAAAAAAAAAAAAAAAAAAAAAAAAAAAAAAAAAAAAAAAAAAAAAAAAAAAAAAAAAAAAAAAAAAAAAAAAAAAAAAAAAAAAAAAAAAAAAAAAAAAAAAAAAAAAAAAAAAAAAAAAAAAAAAAAAAAAAAAAAAAAAAAAAAAAAAAAAAAAAAAAAAAAAAAAAAAAAAAAAAAAAAAAAAAAAAAAAAAAAAAAAAAAAAAAAAAAAAAAAAAAAAAAAAAAAAAAAAAAAAAAAAAAAAAAAAAAAAAAAAAAAAAAAAAAAAAAAAAAAAAAAAAAAAAAAAAAAAAAAAAAAAAAAAAAAAAAAAAAAAAAAAAAAAAAAAAAAAAAAAAAAAAAAAAAAAAAAAAAAAAAAAAAAAAAAAAAAAAAAAAAAAAAAAAAAAAAAAAAAAAAAAAAAAAAAAAAAAAAAAAAAAAAAAAAAAAAAAAAAAAAAAAAAAAAAAAAAAAAAAAAAAAAAAAAAAAAAAAAAAAAAAAAAAAAAAAAAAAAAAAAAAAAAAAAAAAAAAAAAAAAAAAAAAAAAAAAAAAAAAAAAAAAAAAAAAAAAAAAAAAAAAAAAAAAAAAAAAAAAAAAAAAAAAAAAAAAAAAAAAAAAAAAAAAAAAAAAAAAAAAAAAAAAAAAAAAAAAAAAAAAAAAAAAAAAAAAAAAAAAAAAAAAAAAAAAAAAAAAAAAAAAAAAAAAAAAAAAAAAAAAAAAAAAAAAAAAAAAAAAAAAAAAAAAAAAAAAAAAAAAAAAAAAAAAAAAAAAAAAAAAAAAAAAAAAAAAAAAAAAAAAAAAAAAAAAAAAAAAAAAAAAAAAAAAAAAAAAAAAAAAAAAAAAAAAAAAAAAAAAAAAAAAAAAAAAAAAAAAAAAAAAAAAAAAAAAAAAAAAAAAAAAAAAAAAAAAAAAAAAAAAAAAAAAAAAAAAAAAAAAAAAAAAAAAAAAAAAAAAAAAAAAAAAAAAAAAAAAAAAAAAAAAAAAAAAAAAAAAAAAAAAAAAAAAAAAAAAAAAAAAAAAAAAAAAAAAAAAAAAAAAAAAAAAAAAAAAAAAAAAAAAAAAAAAAAAA=\",\"dtype\":\"float64\",\"shape\":[100]}},\"selected\":{\"id\":\"34000\",\"type\":\"Selection\"},\"selection_policy\":{\"id\":\"33999\",\"type\":\"UnionRenderers\"}},\"id\":\"33969\",\"type\":\"ColumnDataSource\"},{\"attributes\":{\"bottom_units\":\"screen\",\"fill_alpha\":{\"value\":0.5},\"fill_color\":{\"value\":\"lightgrey\"},\"left_units\":\"screen\",\"level\":\"overlay\",\"line_alpha\":{\"value\":1.0},\"line_color\":{\"value\":\"black\"},\"line_dash\":[4,4],\"line_width\":{\"value\":2},\"render_mode\":\"css\",\"right_units\":\"screen\",\"top_units\":\"screen\"},\"id\":\"33952\",\"type\":\"BoxAnnotation\"},{\"attributes\":{\"text\":\"with Proton Pump\"},\"id\":\"33909\",\"type\":\"Title\"},{\"attributes\":{\"callback\":null},\"id\":\"33913\",\"type\":\"DataRange1d\"},{\"attributes\":{},\"id\":\"33999\",\"type\":\"UnionRenderers\"},{\"attributes\":{\"data_source\":{\"id\":\"33942\",\"type\":\"ColumnDataSource\"},\"glyph\":{\"id\":\"33943\",\"type\":\"Line\"},\"hover_glyph\":null,\"muted_glyph\":null,\"nonselection_glyph\":{\"id\":\"33944\",\"type\":\"Line\"},\"selection_glyph\":null,\"view\":{\"id\":\"33946\",\"type\":\"CDSView\"}},\"id\":\"33945\",\"type\":\"GlyphRenderer\"},{\"attributes\":{\"click_policy\":\"hide\",\"items\":[{\"id\":\"33954\",\"type\":\"LegendItem\"},{\"id\":\"33968\",\"type\":\"LegendItem\"},{\"id\":\"33984\",\"type\":\"LegendItem\"},{\"id\":\"34002\",\"type\":\"LegendItem\"},{\"id\":\"34022\",\"type\":\"LegendItem\"}]},\"id\":\"33953\",\"type\":\"Legend\"},{\"attributes\":{\"source\":{\"id\":\"34003\",\"type\":\"ColumnDataSource\"}},\"id\":\"34007\",\"type\":\"CDSView\"},{\"attributes\":{\"line_color\":\"#9367bc\",\"line_width\":2,\"x\":{\"field\":\"x\"},\"y\":{\"field\":\"y\"}},\"id\":\"33986\",\"type\":\"Line\"},{\"attributes\":{},\"id\":\"33915\",\"type\":\"LinearScale\"},{\"attributes\":{\"callback\":null,\"data\":{\"x\":{\"__ndarray__\":\"AAAAAAAAAABIzNsZEvNzQEjM2xkS84NAbLLJJpvsjUBIzNsZEvOTQFq/UqDW75hAbLLJJpvsnUC/UqDWr3ShQEjM2xkS86NA0UUXXXRxpkBav1Kg1u+oQOM4juM4bqtAbLLJJpvsrUD6lQK1fjWwQL9SoNavdLFAhA8++OCzskBIzNsZEvOzQAyJeTtDMrVA0UUXXXRxtkCWArV+pbC3QFq/UqDW77hAHnzwwQcvukDjOI7jOG67QKj1KwVqrbxAbLLJJpvsvUAwb2dIzCu/QPqVArV+NcBAXXTRRRfVwEC/UqDWr3TBQCExb2dIFMJAhA8++OCzwkDm7QyJeVPDQEjM2xkS88NAqqqqqqqSxEAMiXk7QzLFQG9nSMzb0cVA0UUXXXRxxkAzJObtDBHHQJYCtX6lsMdA+OCDDz5QyEBav1Kg1u/IQLydITFvj8lAHnzwwQcvykCBWr9SoM7KQOM4juM4bstARRdddNENzECo9SsFaq3MQArU+pUCTc1AbLLJJpvszUDOkJi3M4zOQDBvZ0jMK89Ak0022WTLz0D6lQK1fjXQQCwFav1KhdBAXXTRRRfV0ECO4ziO4yTRQL9SoNavdNFA8MEHH3zE0UAhMW9nSBTSQFKg1q8UZNJAhA8++OCz0kC1fqVArQPTQObtDIl5U9NAF1100UWj00BIzNsZEvPTQHk7Q2LeQtRAqqqqqqqS1EDbGRLzduLUQAyJeTtDMtVAPvjggw+C1UBvZ0jM29HVQKDWrxSoIdZA0UUXXXRx1kACtX6lQMHWQDMk5u0MEddAZJNNNtlg10CWArV+pbDXQMdxHMdxANhA+OCDDz5Q2EApUOtXCqDYQFq/UqDW79hAiy666KI/2UC8nSExb4/ZQO0MiXk739lAHnzwwQcv2kBQ61cK1H7aQIFav1KgztpAsskmm2we20DjOI7jOG7bQBSo9SsFvttARRdddNEN3EB2hsS8nV3cQKj1KwVqrdxA2WSTTTb93EAK1PqVAk3dQDtDYt7OnN1AbLLJJpvs3UCdITFvZzzeQM6QmLczjN5AAAAAAADc3kA=\",\"dtype\":\"float64\",\"shape\":[100]},\"y\":{\"__ndarray__\":\"AAAAAAAAJEAAAAAAAAAkQAAAAAAAACRAAAAAAAAAJEAAAAAAAAAkQAAAAAAAACRAAAAAAAAAJEAAAAAAAAAkQAAAAAAAACRAAAAAAAAAJEAAAAAAAAAkQAAAAAAAACRAAAAAAAAAJEAAAAAAAAAkQAAAAAAAACRAAAAAAAAAJEAAAAAAAAAkQAAAAAAAACRAAAAAAAAAJEAAAAAAAAAkQAAAAAAAACRAAAAAAAAAJEAAAAAAAAAkQAAAAAAAACRAAAAAAAAAJEAAAAAAAAAkQAAAAAAAACRAAAAAAAAAJEAAAAAAAAAkQAAAAAAAACRAAAAAAAAAJEAAAAAAAAAkQAAAAAAAACRAAAAAAAAAJEAAAAAAAAAkQAAAAAAAACRAAAAAAAAAJEAAAAAAAAAkQAAAAAAAACRAAAAAAAAAJEAAAAAAAAAkQAAAAAAAACRAAAAAAAAAJEAAAAAAAAAkQAAAAAAAACRAAAAAAAAAJEAAAAAAAAAkQAAAAAAAACRAAAAAAAAAJEAAAAAAAAAkQAAAAAAAACRAAAAAAAAAJEAAAAAAAAAkQAAAAAAAACRAAAAAAAAAJEAAAAAAAAAkQAAAAAAAACRAAAAAAAAAJEAAAAAAAAAkQAAAAAAAACRAAAAAAAAAJEAAAAAAAAAkQAAAAAAAACRAAAAAAAAAJEAAAAAAAAAkQAAAAAAAACRAAAAAAAAAJEAAAAAAAAAkQAAAAAAAACRAAAAAAAAAJEAAAAAAAAAkQAAAAAAAACRAAAAAAAAAJEAAAAAAAAAkQAAAAAAAACRAAAAAAAAAJEAAAAAAAAAkQAAAAAAAACRAAAAAAAAAJEAAAAAAAAAkQAAAAAAAACRAAAAAAAAAJEAAAAAAAAAkQAAAAAAAACRAAAAAAAAAJEAAAAAAAAAkQAAAAAAAACRAAAAAAAAAJEAAAAAAAAAkQAAAAAAAACRAAAAAAAAAJEAAAAAAAAAkQAAAAAAAACRAAAAAAAAAJEAAAAAAAAAkQAAAAAAAACRAAAAAAAAAJEAAAAAAAAAkQAAAAAAAACRAAAAAAAAAJEA=\",\"dtype\":\"float64\",\"shape\":[100]}},\"selected\":{\"id\":\"33966\",\"type\":\"Selection\"},\"selection_policy\":{\"id\":\"33965\",\"type\":\"UnionRenderers\"}},\"id\":\"33942\",\"type\":\"ColumnDataSource\"},{\"attributes\":{},\"id\":\"33949\",\"type\":\"BasicTickFormatter\"},{\"attributes\":{\"line_alpha\":0.1,\"line_color\":\"#1f77b4\",\"line_width\":2,\"x\":{\"field\":\"x\"},\"y\":{\"field\":\"y\"}},\"id\":\"34005\",\"type\":\"Line\"},{\"attributes\":{\"data_source\":{\"id\":\"33955\",\"type\":\"ColumnDataSource\"},\"glyph\":{\"id\":\"33956\",\"type\":\"Line\"},\"hover_glyph\":null,\"muted_glyph\":null,\"nonselection_glyph\":{\"id\":\"33957\",\"type\":\"Line\"},\"selection_glyph\":null,\"view\":{\"id\":\"33959\",\"type\":\"CDSView\"}},\"id\":\"33958\",\"type\":\"GlyphRenderer\"},{\"attributes\":{\"line_alpha\":0.1,\"line_color\":\"#1f77b4\",\"line_width\":2,\"x\":{\"field\":\"x\"},\"y\":{\"field\":\"y\"}},\"id\":\"33957\",\"type\":\"Line\"},{\"attributes\":{},\"id\":\"34910\",\"type\":\"UnionRenderers\"},{\"attributes\":{},\"id\":\"34911\",\"type\":\"Selection\"},{\"attributes\":{\"label\":{\"value\":\"atp\"},\"renderers\":[{\"id\":\"33945\",\"type\":\"GlyphRenderer\"}]},\"id\":\"33954\",\"type\":\"LegendItem\"},{\"attributes\":{\"data_source\":{\"id\":\"34003\",\"type\":\"ColumnDataSource\"},\"glyph\":{\"id\":\"34004\",\"type\":\"Line\"},\"hover_glyph\":null,\"muted_glyph\":null,\"nonselection_glyph\":{\"id\":\"34005\",\"type\":\"Line\"},\"selection_glyph\":null,\"view\":{\"id\":\"34007\",\"type\":\"CDSView\"}},\"id\":\"34006\",\"type\":\"GlyphRenderer\"},{\"attributes\":{\"source\":{\"id\":\"33985\",\"type\":\"ColumnDataSource\"}},\"id\":\"33989\",\"type\":\"CDSView\"},{\"attributes\":{\"callback\":null,\"data\":{\"x\":{\"__ndarray__\":\"AAAAAAAAAABIzNsZEvNzQEjM2xkS84NAbLLJJpvsjUBIzNsZEvOTQFq/UqDW75hAbLLJJpvsnUC/UqDWr3ShQEjM2xkS86NA0UUXXXRxpkBav1Kg1u+oQOM4juM4bqtAbLLJJpvsrUD6lQK1fjWwQL9SoNavdLFAhA8++OCzskBIzNsZEvOzQAyJeTtDMrVA0UUXXXRxtkCWArV+pbC3QFq/UqDW77hAHnzwwQcvukDjOI7jOG67QKj1KwVqrbxAbLLJJpvsvUAwb2dIzCu/QPqVArV+NcBAXXTRRRfVwEC/UqDWr3TBQCExb2dIFMJAhA8++OCzwkDm7QyJeVPDQEjM2xkS88NAqqqqqqqSxEAMiXk7QzLFQG9nSMzb0cVA0UUXXXRxxkAzJObtDBHHQJYCtX6lsMdA+OCDDz5QyEBav1Kg1u/IQLydITFvj8lAHnzwwQcvykCBWr9SoM7KQOM4juM4bstARRdddNENzECo9SsFaq3MQArU+pUCTc1AbLLJJpvszUDOkJi3M4zOQDBvZ0jMK89Ak0022WTLz0D6lQK1fjXQQCwFav1KhdBAXXTRRRfV0ECO4ziO4yTRQL9SoNavdNFA8MEHH3zE0UAhMW9nSBTSQFKg1q8UZNJAhA8++OCz0kC1fqVArQPTQObtDIl5U9NAF1100UWj00BIzNsZEvPTQHk7Q2LeQtRAqqqqqqqS1EDbGRLzduLUQAyJeTtDMtVAPvjggw+C1UBvZ0jM29HVQKDWrxSoIdZA0UUXXXRx1kACtX6lQMHWQDMk5u0MEddAZJNNNtlg10CWArV+pbDXQMdxHMdxANhA+OCDDz5Q2EApUOtXCqDYQFq/UqDW79hAiy666KI/2UC8nSExb4/ZQO0MiXk739lAHnzwwQcv2kBQ61cK1H7aQIFav1KgztpAsskmm2we20DjOI7jOG7bQBSo9SsFvttARRdddNEN3EB2hsS8nV3cQKj1KwVqrdxA2WSTTTb93EAK1PqVAk3dQDtDYt7OnN1AbLLJJpvs3UCdITFvZzzeQM6QmLczjN5AAAAAAADc3kA=\",\"dtype\":\"float64\",\"shape\":[100]},\"y\":{\"__ndarray__\":\"AAAAAAAAJECZ5U9PtNJPuBTpkKq4bdE1kbJ+9LRr27J9NFTXdtvesBR6kPcTqI2w3MWov2phlLCg09PITj2AMEMUtz6zmLIuyiHgnNSA4q0gmdSH8CZlLZf3RzeiaQguExUnV6UiFy2UhNBNTHn3K6Ld/PBtRx2rHBzCFFYZFaqgk2Z116f6Kezg78gjD4iqMGLH5MBY36okcoxdXqU/q8rfHDSaJzAr8EMjX6zlDSoE1lHmkqmAKjRjylzKh8Sq9Zyqh8YXwipcUqKsmaV7Kqj2wIvJ1RsqwNz6RI90DCpA2I4WaGJvqjbgL72VraOqyHkCQNOnpKrEI47rIfN1KuWtOlG7IZmo710AsZVysCf4sromDfWjJoEilBx33tcmpGrgJoc2sCVA/RGbVU3BpaqsC8/OWwGmAgMiy8PbHybwFW3lfU5ApvZMF2y1hGQmuX/U7husBCa9KJoLkUczpv//QjqiX/klU0IZvbGCRKXpKwslKTgpJQNS5N6TFLgkmpLEwtRGSCSU9OE0wuPhI/JJ1gqWSsyjnRRHgSp25iKqdN5Bz2z4opm//A8WhrUiRJwzx1X5OiJ7Bq37NCTyIWDe0XxOAfGhGNV6U70NDiL8ClqY5/MEojip5loLgzmixu28Cvz0VSJIiKnEZQJkoiTNq3k8P2KiqGO3D5xhsCJQl0shbvzIojQIUiD4beMiwPcE+Lc09qJA7073Y/7cImQlFy/ppjQjKkhqJs/yZaNYf92wWSGFIzdWL9RT9qWjzMkg6U4KnSM8I161GNiJo8CwVmxVHayjCBx24dALsSO4PLoyEV3co8CInGrykJ0jaycGoCA90iPAS0aLmkXUo0CS+2vGl6CjriGvy1oX2iMwWNvkBIDiIzF76VjOFcGjysksV/9K1qMvUbXFnG/QIyMfxR8W1sejLij2l8woxCMD7EjQwQ6po0pEHtpT01wj5zJ6VfkupaIKgjd+L5WXIgNYDhO7EXOi543HLMQlpaKcFmhkqBqyotAGwkHSxpMiUI6CTiBw06I5Zsd9eoG5Ik7quFTcAMmh0S9Juwsux6A=\",\"dtype\":\"float64\",\"shape\":[100]}},\"selected\":{\"id\":\"34911\",\"type\":\"Selection\"},\"selection_policy\":{\"id\":\"34910\",\"type\":\"UnionRenderers\"}},\"id\":\"34003\",\"type\":\"ColumnDataSource\"},{\"attributes\":{},\"id\":\"34020\",\"type\":\"Selection\"},{\"attributes\":{},\"id\":\"33966\",\"type\":\"Selection\"},{\"attributes\":{},\"id\":\"33982\",\"type\":\"Selection\"},{\"attributes\":{},\"id\":\"33917\",\"type\":\"LinearScale\"},{\"attributes\":{\"source\":{\"id\":\"33942\",\"type\":\"ColumnDataSource\"}},\"id\":\"33946\",\"type\":\"CDSView\"},{\"attributes\":{},\"id\":\"33981\",\"type\":\"UnionRenderers\"},{\"attributes\":{\"line_color\":\"#8c564b\",\"line_width\":2,\"x\":{\"field\":\"x\"},\"y\":{\"field\":\"y\"}},\"id\":\"34004\",\"type\":\"Line\"},{\"attributes\":{},\"id\":\"33930\",\"type\":\"WheelZoomTool\"},{\"attributes\":{\"formatter\":{\"id\":\"33949\",\"type\":\"BasicTickFormatter\"},\"ticker\":{\"id\":\"33920\",\"type\":\"BasicTicker\"}},\"id\":\"33919\",\"type\":\"LinearAxis\"},{\"attributes\":{\"line_color\":\"#1f77b3\",\"line_width\":2,\"x\":{\"field\":\"x\"},\"y\":{\"field\":\"y\"}},\"id\":\"33943\",\"type\":\"Line\"},{\"attributes\":{\"line_alpha\":0.1,\"line_color\":\"#1f77b4\",\"line_width\":2,\"x\":{\"field\":\"x\"},\"y\":{\"field\":\"y\"}},\"id\":\"33987\",\"type\":\"Line\"},{\"attributes\":{},\"id\":\"33965\",\"type\":\"UnionRenderers\"},{\"attributes\":{},\"id\":\"33925\",\"type\":\"BasicTicker\"},{\"attributes\":{\"label\":{\"value\":\"inside_H\"},\"renderers\":[{\"id\":\"33972\",\"type\":\"GlyphRenderer\"}]},\"id\":\"33984\",\"type\":\"LegendItem\"},{\"attributes\":{\"data_source\":{\"id\":\"33969\",\"type\":\"ColumnDataSource\"},\"glyph\":{\"id\":\"33970\",\"type\":\"Line\"},\"hover_glyph\":null,\"muted_glyph\":null,\"nonselection_glyph\":{\"id\":\"33971\",\"type\":\"Line\"},\"selection_glyph\":null,\"view\":{\"id\":\"33973\",\"type\":\"CDSView\"}},\"id\":\"33972\",\"type\":\"GlyphRenderer\"},{\"attributes\":{},\"id\":\"33920\",\"type\":\"BasicTicker\"},{\"attributes\":{\"label\":{\"value\":\"dna protein pump\"},\"renderers\":[{\"id\":\"34006\",\"type\":\"GlyphRenderer\"}]},\"id\":\"34022\",\"type\":\"LegendItem\"},{\"attributes\":{},\"id\":\"33934\",\"type\":\"HelpTool\"},{\"attributes\":{\"active_drag\":\"auto\",\"active_inspect\":\"auto\",\"active_multi\":null,\"active_scroll\":\"auto\",\"active_tap\":\"auto\",\"tools\":[{\"id\":\"33929\",\"type\":\"PanTool\"},{\"id\":\"33930\",\"type\":\"WheelZoomTool\"},{\"id\":\"33931\",\"type\":\"BoxZoomTool\"},{\"id\":\"33932\",\"type\":\"SaveTool\"},{\"id\":\"33933\",\"type\":\"ResetTool\"},{\"id\":\"33934\",\"type\":\"HelpTool\"}]},\"id\":\"33935\",\"type\":\"Toolbar\"},{\"attributes\":{},\"id\":\"33951\",\"type\":\"BasicTickFormatter\"},{\"attributes\":{\"callback\":null,\"data\":{\"x\":{\"__ndarray__\":\"AAAAAAAAAABIzNsZEvNzQEjM2xkS84NAbLLJJpvsjUBIzNsZEvOTQFq/UqDW75hAbLLJJpvsnUC/UqDWr3ShQEjM2xkS86NA0UUXXXRxpkBav1Kg1u+oQOM4juM4bqtAbLLJJpvsrUD6lQK1fjWwQL9SoNavdLFAhA8++OCzskBIzNsZEvOzQAyJeTtDMrVA0UUXXXRxtkCWArV+pbC3QFq/UqDW77hAHnzwwQcvukDjOI7jOG67QKj1KwVqrbxAbLLJJpvsvUAwb2dIzCu/QPqVArV+NcBAXXTRRRfVwEC/UqDWr3TBQCExb2dIFMJAhA8++OCzwkDm7QyJeVPDQEjM2xkS88NAqqqqqqqSxEAMiXk7QzLFQG9nSMzb0cVA0UUXXXRxxkAzJObtDBHHQJYCtX6lsMdA+OCDDz5QyEBav1Kg1u/IQLydITFvj8lAHnzwwQcvykCBWr9SoM7KQOM4juM4bstARRdddNENzECo9SsFaq3MQArU+pUCTc1AbLLJJpvszUDOkJi3M4zOQDBvZ0jMK89Ak0022WTLz0D6lQK1fjXQQCwFav1KhdBAXXTRRRfV0ECO4ziO4yTRQL9SoNavdNFA8MEHH3zE0UAhMW9nSBTSQFKg1q8UZNJAhA8++OCz0kC1fqVArQPTQObtDIl5U9NAF1100UWj00BIzNsZEvPTQHk7Q2LeQtRAqqqqqqqS1EDbGRLzduLUQAyJeTtDMtVAPvjggw+C1UBvZ0jM29HVQKDWrxSoIdZA0UUXXXRx1kACtX6lQMHWQDMk5u0MEddAZJNNNtlg10CWArV+pbDXQMdxHMdxANhA+OCDDz5Q2EApUOtXCqDYQFq/UqDW79hAiy666KI/2UC8nSExb4/ZQO0MiXk739lAHnzwwQcv2kBQ61cK1H7aQIFav1KgztpAsskmm2we20DjOI7jOG7bQBSo9SsFvttARRdddNEN3EB2hsS8nV3cQKj1KwVqrdxA2WSTTTb93EAK1PqVAk3dQDtDYt7OnN1AbLLJJpvs3UCdITFvZzzeQM6QmLczjN5AAAAAAADc3kA=\",\"dtype\":\"float64\",\"shape\":[100]},\"y\":{\"__ndarray__\":\"AAAAAAAAJEAAAAAAAAAkQAAAAAAAACRAAAAAAAAAJEAAAAAAAAAkQAAAAAAAACRAAAAAAAAAJEAAAAAAAAAkQAAAAAAAACRAAAAAAAAAJEAAAAAAAAAkQAAAAAAAACRAAAAAAAAAJEAAAAAAAAAkQAAAAAAAACRAAAAAAAAAJEAAAAAAAAAkQAAAAAAAACRAAAAAAAAAJEAAAAAAAAAkQAAAAAAAACRAAAAAAAAAJEAAAAAAAAAkQAAAAAAAACRAAAAAAAAAJEAAAAAAAAAkQAAAAAAAACRAAAAAAAAAJEAAAAAAAAAkQAAAAAAAACRAAAAAAAAAJEAAAAAAAAAkQAAAAAAAACRAAAAAAAAAJEAAAAAAAAAkQAAAAAAAACRAAAAAAAAAJEAAAAAAAAAkQAAAAAAAACRAAAAAAAAAJEAAAAAAAAAkQAAAAAAAACRAAAAAAAAAJEAAAAAAAAAkQAAAAAAAACRAAAAAAAAAJEAAAAAAAAAkQAAAAAAAACRAAAAAAAAAJEAAAAAAAAAkQAAAAAAAACRAAAAAAAAAJEAAAAAAAAAkQAAAAAAAACRAAAAAAAAAJEAAAAAAAAAkQAAAAAAAACRAAAAAAAAAJEAAAAAAAAAkQAAAAAAAACRAAAAAAAAAJEAAAAAAAAAkQAAAAAAAACRAAAAAAAAAJEAAAAAAAAAkQAAAAAAAACRAAAAAAAAAJEAAAAAAAAAkQAAAAAAAACRAAAAAAAAAJEAAAAAAAAAkQAAAAAAAACRAAAAAAAAAJEAAAAAAAAAkQAAAAAAAACRAAAAAAAAAJEAAAAAAAAAkQAAAAAAAACRAAAAAAAAAJEAAAAAAAAAkQAAAAAAAACRAAAAAAAAAJEAAAAAAAAAkQAAAAAAAACRAAAAAAAAAJEAAAAAAAAAkQAAAAAAAACRAAAAAAAAAJEAAAAAAAAAkQAAAAAAAACRAAAAAAAAAJEAAAAAAAAAkQAAAAAAAACRAAAAAAAAAJEAAAAAAAAAkQAAAAAAAACRAAAAAAAAAJEAAAAAAAAAkQAAAAAAAACRAAAAAAAAAJEA=\",\"dtype\":\"float64\",\"shape\":[100]}},\"selected\":{\"id\":\"33982\",\"type\":\"Selection\"},\"selection_policy\":{\"id\":\"33981\",\"type\":\"UnionRenderers\"}},\"id\":\"33955\",\"type\":\"ColumnDataSource\"},{\"attributes\":{},\"id\":\"33933\",\"type\":\"ResetTool\"},{\"attributes\":{\"formatter\":{\"id\":\"33951\",\"type\":\"BasicTickFormatter\"},\"ticker\":{\"id\":\"33925\",\"type\":\"BasicTicker\"}},\"id\":\"33924\",\"type\":\"LinearAxis\"},{\"attributes\":{\"line_alpha\":0.1,\"line_color\":\"#1f77b4\",\"line_width\":2,\"x\":{\"field\":\"x\"},\"y\":{\"field\":\"y\"}},\"id\":\"33971\",\"type\":\"Line\"},{\"attributes\":{\"label\":{\"value\":\"bound proton pump\"},\"renderers\":[{\"id\":\"33988\",\"type\":\"GlyphRenderer\"}]},\"id\":\"34002\",\"type\":\"LegendItem\"},{\"attributes\":{},\"id\":\"33932\",\"type\":\"SaveTool\"},{\"attributes\":{\"line_color\":\"#2ba02b\",\"line_width\":2,\"x\":{\"field\":\"x\"},\"y\":{\"field\":\"y\"}},\"id\":\"33970\",\"type\":\"Line\"},{\"attributes\":{},\"id\":\"34000\",\"type\":\"Selection\"},{\"attributes\":{\"line_alpha\":0.1,\"line_color\":\"#1f77b4\",\"line_width\":2,\"x\":{\"field\":\"x\"},\"y\":{\"field\":\"y\"}},\"id\":\"33944\",\"type\":\"Line\"},{\"attributes\":{\"ticker\":{\"id\":\"33920\",\"type\":\"BasicTicker\"}},\"id\":\"33923\",\"type\":\"Grid\"},{\"attributes\":{\"line_color\":\"#ff7e0e\",\"line_width\":2,\"x\":{\"field\":\"x\"},\"y\":{\"field\":\"y\"}},\"id\":\"33956\",\"type\":\"Line\"},{\"attributes\":{\"overlay\":{\"id\":\"33952\",\"type\":\"BoxAnnotation\"}},\"id\":\"33931\",\"type\":\"BoxZoomTool\"},{\"attributes\":{},\"id\":\"34019\",\"type\":\"UnionRenderers\"},{\"attributes\":{\"dimension\":1,\"ticker\":{\"id\":\"33925\",\"type\":\"BasicTicker\"}},\"id\":\"33928\",\"type\":\"Grid\"},{\"attributes\":{\"data_source\":{\"id\":\"33985\",\"type\":\"ColumnDataSource\"},\"glyph\":{\"id\":\"33986\",\"type\":\"Line\"},\"hover_glyph\":null,\"muted_glyph\":null,\"nonselection_glyph\":{\"id\":\"33987\",\"type\":\"Line\"},\"selection_glyph\":null,\"view\":{\"id\":\"33989\",\"type\":\"CDSView\"}},\"id\":\"33988\",\"type\":\"GlyphRenderer\"}],\"root_ids\":[\"33908\"]},\"title\":\"Bokeh Application\",\"version\":\"1.4.0\"}};\n",
       "  var render_items = [{\"docid\":\"84bae162-e7ac-434f-9e66-f258aaee71e3\",\"roots\":{\"33908\":\"910b2a37-db3b-419f-8b61-a35b0df688da\"}}];\n",
       "  root.Bokeh.embed.embed_items_notebook(docs_json, render_items);\n",
       "\n",
       "  }\n",
       "  if (root.Bokeh !== undefined) {\n",
       "    embed_document(root);\n",
       "  } else {\n",
       "    var attempts = 0;\n",
       "    var timer = setInterval(function(root) {\n",
       "      if (root.Bokeh !== undefined) {\n",
       "        clearInterval(timer);\n",
       "        embed_document(root);\n",
       "      } else {\n",
       "        attempts++;\n",
       "        if (attempts > 100) {\n",
       "          clearInterval(timer);\n",
       "          console.log(\"Bokeh: ERROR: Unable to run BokehJS code because BokehJS library is missing\");\n",
       "        }\n",
       "      }\n",
       "    }, 10, root)\n",
       "  }\n",
       "})(window);"
      ],
      "application/vnd.bokehjs_exec.v0+json": ""
     },
     "metadata": {
      "application/vnd.bokehjs_exec.v0+json": {
       "id": "33908"
      }
     },
     "output_type": "display_data"
    }
   ],
   "source": [
    "p_pp = bokeh.plotting.figure(width = 450, height = 350, title = 'with Proton Pump')\n",
    "plot_list = [ATP_id, outside_H_id, inside_H_id, proton_pump_b_protein_id, dna_pp]\n",
    "plot_str = ['atp', 'outside_H', 'inside_H', 'bound proton pump', 'dna protein pump']\n",
    "for i,item in enumerate(plot_list):\n",
    "    p_pp.line(timepoints, results[item], line_width = 2, legend_label = plot_str[i], color = palette[i])\n",
    "    \n",
    "p_pp.legend.click_policy = 'hide'\n",
    "bokeh.io.show(p_pp)"
   ]
  },
  {
   "cell_type": "markdown",
   "metadata": {},
   "source": [
    "## Combine atp synthase and proton pump subsystems (with machinery txtl)\n",
    "---"
   ]
  },
  {
   "cell_type": "code",
   "execution_count": 125,
   "metadata": {},
   "outputs": [],
   "source": [
    "entire_subsystem = ss1_atpsyn_txtl + ss2_atpsyn_mi + ss3_atpsynthesis + ss4_atp_use + ss5_pp_txtl + ss6_pp_mi + ss7_protontransport"
   ]
  },
  {
   "cell_type": "code",
   "execution_count": 134,
   "metadata": {},
   "outputs": [],
   "source": [
    "# Initial conditions\n",
    "spec_list_10 = ['dna_proton_pump', 'dna_atpsyn','proton_outside_H', 'metabolite_atp','protein_RNAP_machinery', \n",
    "                'protein_Ribo_machinery', 'protein_RNAse_machinery']\n",
    "for i,spec in enumerate(spec_list_10):\n",
    "    entire_subsystem.setSpeciesAmount(spec,10)\n",
    "\n",
    "\n",
    "# timepoints and get results\n",
    "# timepoints = np.linspace(0,10,100)\n",
    "# results, _ = entire_subsystem.simulateWithBioscrape(timepoints, sbml_warnings = False)\n",
    "\n",
    "# Get species IDs\n",
    "ATP_id = entire_subsystem.getSpeciesByName('metabolite_atp').getId()\n",
    "ADP_id = entire_subsystem.getSpeciesByName('metabolite_adp').getId()\n",
    "\n",
    "outside_H_id = entire_subsystem.getSpeciesByName('proton_outside_H').getId()\n",
    "inside_H_id = entire_subsystem.getSpeciesByName('proton_inside_H').getId()\n",
    "\n",
    "proton_pump_b_protein_id = entire_subsystem.getSpeciesByName('protein_proton_pump_b').getId()\n",
    "proton_pump_f_protein_id = entire_subsystem.getSpeciesByName('protein_proton_pump').getId()\n",
    "\n",
    "atp_synthase_b_protein_id = entire_subsystem.getSpeciesByName('protein_atpsyn_b').getId()\n",
    "atp_synthase_f_protein_id = entire_subsystem.getSpeciesByName('protein_atpsyn').getId()\n"
   ]
  },
  {
   "cell_type": "code",
   "execution_count": 135,
   "metadata": {},
   "outputs": [
    {
     "name": "stderr",
     "output_type": "stream",
     "text": [
      "odeint failed with mxstep=500..."
     ]
    }
   ],
   "source": [
    "timepoints = np.linspace(0,31600,100)\n",
    "results_everything, _ = entire_subsystem.simulateWithBioscrape(timepoints, sbml_warnings = False)"
   ]
  },
  {
   "cell_type": "code",
   "execution_count": 136,
   "metadata": {},
   "outputs": [
    {
     "data": {
      "text/html": [
       "\n",
       "\n",
       "\n",
       "\n",
       "\n",
       "\n",
       "  <div class=\"bk-root\" id=\"714e10a4-981e-4295-99fa-dc00d10a738b\" data-root-id=\"38470\"></div>\n"
      ]
     },
     "metadata": {},
     "output_type": "display_data"
    },
    {
     "data": {
      "application/javascript": [
       "(function(root) {\n",
       "  function embed_document(root) {\n",
       "    \n",
       "  var docs_json = {\"f77a1156-6ae2-4ecc-8252-a3ece64c0d8c\":{\"roots\":{\"references\":[{\"attributes\":{\"below\":[{\"id\":\"38481\",\"type\":\"LinearAxis\"}],\"center\":[{\"id\":\"38485\",\"type\":\"Grid\"},{\"id\":\"38490\",\"type\":\"Grid\"},{\"id\":\"38515\",\"type\":\"Legend\"}],\"left\":[{\"id\":\"38486\",\"type\":\"LinearAxis\"}],\"plot_height\":350,\"plot_width\":450,\"renderers\":[{\"id\":\"38507\",\"type\":\"GlyphRenderer\"},{\"id\":\"38520\",\"type\":\"GlyphRenderer\"},{\"id\":\"38534\",\"type\":\"GlyphRenderer\"},{\"id\":\"38550\",\"type\":\"GlyphRenderer\"},{\"id\":\"38568\",\"type\":\"GlyphRenderer\"}],\"title\":{\"id\":\"38471\",\"type\":\"Title\"},\"toolbar\":{\"id\":\"38497\",\"type\":\"Toolbar\"},\"x_range\":{\"id\":\"38473\",\"type\":\"DataRange1d\"},\"x_scale\":{\"id\":\"38477\",\"type\":\"LinearScale\"},\"y_range\":{\"id\":\"38475\",\"type\":\"DataRange1d\"},\"y_scale\":{\"id\":\"38479\",\"type\":\"LinearScale\"}},\"id\":\"38470\",\"subtype\":\"Figure\",\"type\":\"Plot\"},{\"attributes\":{\"callback\":null},\"id\":\"38475\",\"type\":\"DataRange1d\"},{\"attributes\":{},\"id\":\"38513\",\"type\":\"BasicTickFormatter\"},{\"attributes\":{},\"id\":\"38492\",\"type\":\"WheelZoomTool\"},{\"attributes\":{},\"id\":\"38582\",\"type\":\"Selection\"},{\"attributes\":{},\"id\":\"38479\",\"type\":\"LinearScale\"},{\"attributes\":{},\"id\":\"38477\",\"type\":\"LinearScale\"},{\"attributes\":{},\"id\":\"38543\",\"type\":\"UnionRenderers\"},{\"attributes\":{},\"id\":\"39558\",\"type\":\"UnionRenderers\"},{\"attributes\":{\"callback\":null,\"data\":{\"x\":{\"__ndarray__\":\"AAAAAAAAAABIzNsZEvNzQEjM2xkS84NAbLLJJpvsjUBIzNsZEvOTQFq/UqDW75hAbLLJJpvsnUC/UqDWr3ShQEjM2xkS86NA0UUXXXRxpkBav1Kg1u+oQOM4juM4bqtAbLLJJpvsrUD6lQK1fjWwQL9SoNavdLFAhA8++OCzskBIzNsZEvOzQAyJeTtDMrVA0UUXXXRxtkCWArV+pbC3QFq/UqDW77hAHnzwwQcvukDjOI7jOG67QKj1KwVqrbxAbLLJJpvsvUAwb2dIzCu/QPqVArV+NcBAXXTRRRfVwEC/UqDWr3TBQCExb2dIFMJAhA8++OCzwkDm7QyJeVPDQEjM2xkS88NAqqqqqqqSxEAMiXk7QzLFQG9nSMzb0cVA0UUXXXRxxkAzJObtDBHHQJYCtX6lsMdA+OCDDz5QyEBav1Kg1u/IQLydITFvj8lAHnzwwQcvykCBWr9SoM7KQOM4juM4bstARRdddNENzECo9SsFaq3MQArU+pUCTc1AbLLJJpvszUDOkJi3M4zOQDBvZ0jMK89Ak0022WTLz0D6lQK1fjXQQCwFav1KhdBAXXTRRRfV0ECO4ziO4yTRQL9SoNavdNFA8MEHH3zE0UAhMW9nSBTSQFKg1q8UZNJAhA8++OCz0kC1fqVArQPTQObtDIl5U9NAF1100UWj00BIzNsZEvPTQHk7Q2LeQtRAqqqqqqqS1EDbGRLzduLUQAyJeTtDMtVAPvjggw+C1UBvZ0jM29HVQKDWrxSoIdZA0UUXXXRx1kACtX6lQMHWQDMk5u0MEddAZJNNNtlg10CWArV+pbDXQMdxHMdxANhA+OCDDz5Q2EApUOtXCqDYQFq/UqDW79hAiy666KI/2UC8nSExb4/ZQO0MiXk739lAHnzwwQcv2kBQ61cK1H7aQIFav1KgztpAsskmm2we20DjOI7jOG7bQBSo9SsFvttARRdddNEN3EB2hsS8nV3cQKj1KwVqrdxA2WSTTTb93EAK1PqVAk3dQDtDYt7OnN1AbLLJJpvs3UCdITFvZzzeQM6QmLczjN5AAAAAAADc3kA=\",\"dtype\":\"float64\",\"shape\":[100]},\"y\":{\"__ndarray__\":\"AAAAAAAAAAD0XF+nNdMFQEbIf8HunSRAlXpzgwE3NECk+XyjqG8+QEiEcDC5+UNAgkDHIeJNSEB/dCQW3jxMQOpDfvblz09AXNGYqa+HUUBE9EK7dQFTQCnRgqa8WFRAaNKk16qQVUAhQUsXHaxWQKrj70OtrVdAZsIZbriXWEC6Ou1lZGxZQFtpxcakLVpAvzxvjD/dWkAAsuY+0XxbQFkIW7jQDVxA2/OGmpKRXECkfd5qTAldQC/2/2sXdl1A87gMMfPYXUA8M8n2xzJeQBEkAMVohF5ALlszXpXOXkCV9kMC/BFfQBRqlAc7T19AFyMvT+KGX0DX41uWdLlfQLGMG6to519AiZWFQJUIYEASXxcYjhtgQCb3OG7LLGBAD4qBwnU8YEAkZQnisUpgQJROhj2hV2BAjyXvN2JjYEAGr/9tEG5gQBpf5PbEd2BAIitEn5aAYEBoftQemohgQBLo6Ejij2BAzynNOICWYEBuJcd5g5xgQDeRxSv6oWBAO4/LJPGmYEAOkHoOdKtgQIl2+YGNr2BAPhyjIEezYEAfY6uqqbZgQFJlxBO9uWBAOwm3lYi8YEBVo13BEr9gQBYMGI5hwWBAw0vRZ3rDYEALJrM7YsVgQI5UvIMdx2BAZIA+UbDIYED2AnRWHspgQG6DUO9qy2BAajUbKZnMYEBH4M3Jq81gQJqtlValzmBAc1mvGYjPYEBhHMwnVtBgQLbY/mQR0WBAuNwkibvRYEC6Uu4jVtJgQDm4jaDi0mBArpkKSWLTYECwrElJ1tNgQNFGzbE/1GBANW80ep/UYEDStYKD9tRgQJoiL5pF1WBAOoYEeI3VYEDwONfFztVgQLf3Dx0K1mBAaKYVCUDWYEDmZZUIcdZgQJ5fqo6d1mBA4p3sA8bWYECB42bH6tZgQHnVdi8M12BATZyWiirXYEB/3BUgRtdgQLW2wTBf12BAHHB893XXYEB6ZsepitdgQKQfQXid12BAs8AXj67XYEDcp3AWvtdgQD1/xjLM12BA1hI/BdnXYEDywPmr5NdgQLfUVULv12BAJIsy4fjXYEA=\",\"dtype\":\"float64\",\"shape\":[100]}},\"selected\":{\"id\":\"39559\",\"type\":\"Selection\"},\"selection_policy\":{\"id\":\"39558\",\"type\":\"UnionRenderers\"}},\"id\":\"38565\",\"type\":\"ColumnDataSource\"},{\"attributes\":{\"bottom_units\":\"screen\",\"fill_alpha\":{\"value\":0.5},\"fill_color\":{\"value\":\"lightgrey\"},\"left_units\":\"screen\",\"level\":\"overlay\",\"line_alpha\":{\"value\":1.0},\"line_color\":{\"value\":\"black\"},\"line_dash\":[4,4],\"line_width\":{\"value\":2},\"render_mode\":\"css\",\"right_units\":\"screen\",\"top_units\":\"screen\"},\"id\":\"38514\",\"type\":\"BoxAnnotation\"},{\"attributes\":{\"line_color\":\"#2ba02b\",\"line_width\":2,\"x\":{\"field\":\"x\"},\"y\":{\"field\":\"y\"}},\"id\":\"38532\",\"type\":\"Line\"},{\"attributes\":{},\"id\":\"38495\",\"type\":\"ResetTool\"},{\"attributes\":{\"callback\":null,\"data\":{\"x\":{\"__ndarray__\":\"AAAAAAAAAABIzNsZEvNzQEjM2xkS84NAbLLJJpvsjUBIzNsZEvOTQFq/UqDW75hAbLLJJpvsnUC/UqDWr3ShQEjM2xkS86NA0UUXXXRxpkBav1Kg1u+oQOM4juM4bqtAbLLJJpvsrUD6lQK1fjWwQL9SoNavdLFAhA8++OCzskBIzNsZEvOzQAyJeTtDMrVA0UUXXXRxtkCWArV+pbC3QFq/UqDW77hAHnzwwQcvukDjOI7jOG67QKj1KwVqrbxAbLLJJpvsvUAwb2dIzCu/QPqVArV+NcBAXXTRRRfVwEC/UqDWr3TBQCExb2dIFMJAhA8++OCzwkDm7QyJeVPDQEjM2xkS88NAqqqqqqqSxEAMiXk7QzLFQG9nSMzb0cVA0UUXXXRxxkAzJObtDBHHQJYCtX6lsMdA+OCDDz5QyEBav1Kg1u/IQLydITFvj8lAHnzwwQcvykCBWr9SoM7KQOM4juM4bstARRdddNENzECo9SsFaq3MQArU+pUCTc1AbLLJJpvszUDOkJi3M4zOQDBvZ0jMK89Ak0022WTLz0D6lQK1fjXQQCwFav1KhdBAXXTRRRfV0ECO4ziO4yTRQL9SoNavdNFA8MEHH3zE0UAhMW9nSBTSQFKg1q8UZNJAhA8++OCz0kC1fqVArQPTQObtDIl5U9NAF1100UWj00BIzNsZEvPTQHk7Q2LeQtRAqqqqqqqS1EDbGRLzduLUQAyJeTtDMtVAPvjggw+C1UBvZ0jM29HVQKDWrxSoIdZA0UUXXXRx1kACtX6lQMHWQDMk5u0MEddAZJNNNtlg10CWArV+pbDXQMdxHMdxANhA+OCDDz5Q2EApUOtXCqDYQFq/UqDW79hAiy666KI/2UC8nSExb4/ZQO0MiXk739lAHnzwwQcv2kBQ61cK1H7aQIFav1KgztpAsskmm2we20DjOI7jOG7bQBSo9SsFvttARRdddNEN3EB2hsS8nV3cQKj1KwVqrdxA2WSTTTb93EAK1PqVAk3dQDtDYt7OnN1AbLLJJpvs3UCdITFvZzzeQM6QmLczjN5AAAAAAADc3kA=\",\"dtype\":\"float64\",\"shape\":[100]},\"y\":{\"__ndarray__\":\"AAAAAAAAJEAaXngucIMcQLqEswukqRxABBJjU+SwHECJHVJhd7McQP8cnrevtBxAvPhSOGK1HEAOr5ot1bUcQCsKfhUlthxAQx6XnV+2HEDvYD8ojLYcQOG9ywuvthxANylj/8q2HEBKQnbM4bYcQEpWZ6z0thxA1ZolfQS3HECin0vgEbccQCFyT04dtxxAfpfdIie3HEBg//2kL7ccQBNPdAw3txxA3IXMhT23HEA6hPY0Q7ccQL9BRTdItxxA/X3ipEy3HEDroOSRULccQCEMIg9UtxxAVPbLKle3HEBBCvbwWbccQDsV8GtctxxAfKeZpF63HEC8T5aiYLccQDN6iWxitxxAZTU7CGS3HEDRKLl6ZbccQNr7cchmtxxAQBRM9We3HEB4d7gEabccQPKVwvlptxxAMq0d12q3HEBeODCfa7ccQJ0AHVRstxxAu8G/92y3HEDz4vCLbbccQFqnExJutxxA/12Qi263HEArUqH5brccQDlfYF1vtxxAKtXKt2+3HEDTYMUJcLccQMIXHVRwtxxA3kaLl3C3HECiLrfUcLccQBDBNwxxtxxANVuWPnG3HEBUxENscbccQG4ex5VxtxxAAENwu3G3HEDP3aDdcbccQNZ/q/xxtxxAVu/aGHK3HEBj6XIycrccQEjSsElytxxAhUzMXnK3HEApyfdxcrccQBkGYYNytxxAT30xk3K3HECz2Y6hcrccQCYxm65ytxxAVYp1unK3HEDD/TnFcrccQMUQAs9ytxxAIu3k13K3HEDLmfffcrccQN4tTedytxxAlv727XK3HEAlyQT0crccQFfYhPlytxxA1iaE/nK3HEBMfg4Dc7ccQGOTLgdztxxAax/uCnO3HECJ91UOc7ccQJEhbhFztxxALOc9FHO3HEAY58sWc7ccQO4kHhlztxxAThc6G3O3HEDWtCQdc7ccQOh/4h5ztxxARJF3IHO3HEDMoechc7ccQOYSNiNztxxAwPdlJHO3HEBrGXolc7ccQNgDdSZztxxAWv1YJ3O3HEB/Oigoc7ccQBFB5ChztxxAo02QKXO3HEA=\",\"dtype\":\"float64\",\"shape\":[100]}},\"selected\":{\"id\":\"38528\",\"type\":\"Selection\"},\"selection_policy\":{\"id\":\"38527\",\"type\":\"UnionRenderers\"}},\"id\":\"38504\",\"type\":\"ColumnDataSource\"},{\"attributes\":{\"callback\":null},\"id\":\"38473\",\"type\":\"DataRange1d\"},{\"attributes\":{\"source\":{\"id\":\"38504\",\"type\":\"ColumnDataSource\"}},\"id\":\"38508\",\"type\":\"CDSView\"},{\"attributes\":{\"source\":{\"id\":\"38517\",\"type\":\"ColumnDataSource\"}},\"id\":\"38521\",\"type\":\"CDSView\"},{\"attributes\":{\"source\":{\"id\":\"38547\",\"type\":\"ColumnDataSource\"}},\"id\":\"38551\",\"type\":\"CDSView\"},{\"attributes\":{\"line_alpha\":0.1,\"line_color\":\"#1f77b4\",\"line_width\":2,\"x\":{\"field\":\"x\"},\"y\":{\"field\":\"y\"}},\"id\":\"38567\",\"type\":\"Line\"},{\"attributes\":{\"line_alpha\":0.1,\"line_color\":\"#1f77b4\",\"line_width\":2,\"x\":{\"field\":\"x\"},\"y\":{\"field\":\"y\"}},\"id\":\"38533\",\"type\":\"Line\"},{\"attributes\":{\"label\":{\"value\":\"inside_H\"},\"renderers\":[{\"id\":\"38534\",\"type\":\"GlyphRenderer\"}]},\"id\":\"38546\",\"type\":\"LegendItem\"},{\"attributes\":{\"click_policy\":\"hide\",\"items\":[{\"id\":\"38516\",\"type\":\"LegendItem\"},{\"id\":\"38530\",\"type\":\"LegendItem\"},{\"id\":\"38546\",\"type\":\"LegendItem\"},{\"id\":\"38564\",\"type\":\"LegendItem\"},{\"id\":\"38584\",\"type\":\"LegendItem\"}],\"location\":\"bottom_right\"},\"id\":\"38515\",\"type\":\"Legend\"},{\"attributes\":{\"callback\":null,\"data\":{\"x\":{\"__ndarray__\":\"AAAAAAAAAABIzNsZEvNzQEjM2xkS84NAbLLJJpvsjUBIzNsZEvOTQFq/UqDW75hAbLLJJpvsnUC/UqDWr3ShQEjM2xkS86NA0UUXXXRxpkBav1Kg1u+oQOM4juM4bqtAbLLJJpvsrUD6lQK1fjWwQL9SoNavdLFAhA8++OCzskBIzNsZEvOzQAyJeTtDMrVA0UUXXXRxtkCWArV+pbC3QFq/UqDW77hAHnzwwQcvukDjOI7jOG67QKj1KwVqrbxAbLLJJpvsvUAwb2dIzCu/QPqVArV+NcBAXXTRRRfVwEC/UqDWr3TBQCExb2dIFMJAhA8++OCzwkDm7QyJeVPDQEjM2xkS88NAqqqqqqqSxEAMiXk7QzLFQG9nSMzb0cVA0UUXXXRxxkAzJObtDBHHQJYCtX6lsMdA+OCDDz5QyEBav1Kg1u/IQLydITFvj8lAHnzwwQcvykCBWr9SoM7KQOM4juM4bstARRdddNENzECo9SsFaq3MQArU+pUCTc1AbLLJJpvszUDOkJi3M4zOQDBvZ0jMK89Ak0022WTLz0D6lQK1fjXQQCwFav1KhdBAXXTRRRfV0ECO4ziO4yTRQL9SoNavdNFA8MEHH3zE0UAhMW9nSBTSQFKg1q8UZNJAhA8++OCz0kC1fqVArQPTQObtDIl5U9NAF1100UWj00BIzNsZEvPTQHk7Q2LeQtRAqqqqqqqS1EDbGRLzduLUQAyJeTtDMtVAPvjggw+C1UBvZ0jM29HVQKDWrxSoIdZA0UUXXXRx1kACtX6lQMHWQDMk5u0MEddAZJNNNtlg10CWArV+pbDXQMdxHMdxANhA+OCDDz5Q2EApUOtXCqDYQFq/UqDW79hAiy666KI/2UC8nSExb4/ZQO0MiXk739lAHnzwwQcv2kBQ61cK1H7aQIFav1KgztpAsskmm2we20DjOI7jOG7bQBSo9SsFvttARRdddNEN3EB2hsS8nV3cQKj1KwVqrdxA2WSTTTb93EAK1PqVAk3dQDtDYt7OnN1AbLLJJpvs3UCdITFvZzzeQM6QmLczjN5AAAAAAADc3kA=\",\"dtype\":\"float64\",\"shape\":[100]},\"y\":{\"__ndarray__\":\"AAAAAAAAJEBrP+UkAj3bPw0SbSJii74/dlRNecV9rz8CWwOTAP+kP3wzOEZVBqA//QDtwV1emj/7E/CT7LWWP938zGQVK5Q/dkd7dl9Okj9dceqnn+OQP7bXEYL/jo8/634MWMHHjT/WEZxBaFSMP3ajz/cCIYs/KxRDDnIfij+kvjowbUWJP8MeeilKi4g/G6iVujPrhz8c3BMXpWCHP3z7/NYR6IY/tJTrfKR+hj9mfPS8EyKGP49a7gCC0IU/I65BwmWIhT9HPJ/bd0iFP8ENDxemD4U/NSRaUwndhD/ubTbj3K+EP5uvz9h4h4Q/nHqMs0xjhD+w2GIM3EKEPxWhNcm6JYQ/bGcjw4oLhD9slYav+fODPzdI62C/3oM/56rfVJzLgz9yimyAWLqDP9P33U7CqoM/7SrQx62cgz9qzOTU84+DP+PpHK5xhIM/L8j8Dgl6gz/MQZDpm3CDPwPXqrETaIM/gywPbFlggz/7t5IgWVmDPzstcOEAU4M/LnGckUBNgz+kZ62lCUiDP+vq1BFPQ4M/hamlDAU/gz+WOavyIDuDPxW0+imZN4M/Y2+T9mQ0gz9C2PYjfTGDP1AD6SvZLoM/Ej4W6nMsgz+8DQItRyqDP8k0LLRNKIM/+7n5vYImgz8+CV/74SSDP+pKrIRnI4M/VbTvzw8igz/uzMen1yCDP5xvWyO8H4M/7zFGn7oegz8WeCm20B2DPyCj+jz8HIM/otSBOjscgz9a0j3lixuDP3dbm53sGoM/V75r6lsagz8KiUh12BmDP4kmVQdhGYM/+edShvQYgz9ToffxkRiDPy9biGE4GIM/YrurAecXgz/CC28SnReDPzoCfuVZF4M/lU+B3BwXgz/QR6Vn5RaDPw3ERQSzFoM/zf62O4UWgz+ISCyiWxaDP8Egt9U1FoM/MMVgfRMWgz8I5lZI9BWDP4TkK+3XFYM/N/spKb4Vgz9crLW/phWDP7HBv3mRFYM/g40+JX4Vgz8HJcOUbBWDP5DU955cFYM/MJlxHk4Vgz/+grPwQBWDP6mbGvg0FYM/36IqEyoVgz8=\",\"dtype\":\"float64\",\"shape\":[100]}},\"selected\":{\"id\":\"38544\",\"type\":\"Selection\"},\"selection_policy\":{\"id\":\"38543\",\"type\":\"UnionRenderers\"}},\"id\":\"38517\",\"type\":\"ColumnDataSource\"},{\"attributes\":{\"label\":{\"value\":\"bound atp synthase\"},\"renderers\":[{\"id\":\"38550\",\"type\":\"GlyphRenderer\"}]},\"id\":\"38564\",\"type\":\"LegendItem\"},{\"attributes\":{\"axis_label\":\"concentration\",\"formatter\":{\"id\":\"38513\",\"type\":\"BasicTickFormatter\"},\"ticker\":{\"id\":\"38487\",\"type\":\"BasicTicker\"}},\"id\":\"38486\",\"type\":\"LinearAxis\"},{\"attributes\":{\"source\":{\"id\":\"38531\",\"type\":\"ColumnDataSource\"}},\"id\":\"38535\",\"type\":\"CDSView\"},{\"attributes\":{},\"id\":\"38496\",\"type\":\"HelpTool\"},{\"attributes\":{},\"id\":\"38562\",\"type\":\"Selection\"},{\"attributes\":{\"active_drag\":\"auto\",\"active_inspect\":\"auto\",\"active_multi\":null,\"active_scroll\":\"auto\",\"active_tap\":\"auto\",\"tools\":[{\"id\":\"38491\",\"type\":\"PanTool\"},{\"id\":\"38492\",\"type\":\"WheelZoomTool\"},{\"id\":\"38493\",\"type\":\"BoxZoomTool\"},{\"id\":\"38494\",\"type\":\"SaveTool\"},{\"id\":\"38495\",\"type\":\"ResetTool\"},{\"id\":\"38496\",\"type\":\"HelpTool\"}]},\"id\":\"38497\",\"type\":\"Toolbar\"},{\"attributes\":{\"line_alpha\":0.1,\"line_color\":\"#1f77b4\",\"line_width\":2,\"x\":{\"field\":\"x\"},\"y\":{\"field\":\"y\"}},\"id\":\"38519\",\"type\":\"Line\"},{\"attributes\":{\"line_color\":\"#9367bc\",\"line_width\":2,\"x\":{\"field\":\"x\"},\"y\":{\"field\":\"y\"}},\"id\":\"38548\",\"type\":\"Line\"},{\"attributes\":{\"line_color\":\"#8c564b\",\"line_width\":2,\"x\":{\"field\":\"x\"},\"y\":{\"field\":\"y\"}},\"id\":\"38566\",\"type\":\"Line\"},{\"attributes\":{},\"id\":\"38494\",\"type\":\"SaveTool\"},{\"attributes\":{},\"id\":\"38544\",\"type\":\"Selection\"},{\"attributes\":{},\"id\":\"39559\",\"type\":\"Selection\"},{\"attributes\":{},\"id\":\"38491\",\"type\":\"PanTool\"},{\"attributes\":{},\"id\":\"38482\",\"type\":\"BasicTicker\"},{\"attributes\":{\"line_alpha\":0.1,\"line_color\":\"#1f77b4\",\"line_width\":2,\"x\":{\"field\":\"x\"},\"y\":{\"field\":\"y\"}},\"id\":\"38549\",\"type\":\"Line\"},{\"attributes\":{\"label\":{\"value\":\"outside_H\"},\"renderers\":[{\"id\":\"38520\",\"type\":\"GlyphRenderer\"}]},\"id\":\"38530\",\"type\":\"LegendItem\"},{\"attributes\":{},\"id\":\"38487\",\"type\":\"BasicTicker\"},{\"attributes\":{\"source\":{\"id\":\"38565\",\"type\":\"ColumnDataSource\"}},\"id\":\"38569\",\"type\":\"CDSView\"},{\"attributes\":{\"callback\":null,\"data\":{\"x\":{\"__ndarray__\":\"AAAAAAAAAABIzNsZEvNzQEjM2xkS84NAbLLJJpvsjUBIzNsZEvOTQFq/UqDW75hAbLLJJpvsnUC/UqDWr3ShQEjM2xkS86NA0UUXXXRxpkBav1Kg1u+oQOM4juM4bqtAbLLJJpvsrUD6lQK1fjWwQL9SoNavdLFAhA8++OCzskBIzNsZEvOzQAyJeTtDMrVA0UUXXXRxtkCWArV+pbC3QFq/UqDW77hAHnzwwQcvukDjOI7jOG67QKj1KwVqrbxAbLLJJpvsvUAwb2dIzCu/QPqVArV+NcBAXXTRRRfVwEC/UqDWr3TBQCExb2dIFMJAhA8++OCzwkDm7QyJeVPDQEjM2xkS88NAqqqqqqqSxEAMiXk7QzLFQG9nSMzb0cVA0UUXXXRxxkAzJObtDBHHQJYCtX6lsMdA+OCDDz5QyEBav1Kg1u/IQLydITFvj8lAHnzwwQcvykCBWr9SoM7KQOM4juM4bstARRdddNENzECo9SsFaq3MQArU+pUCTc1AbLLJJpvszUDOkJi3M4zOQDBvZ0jMK89Ak0022WTLz0D6lQK1fjXQQCwFav1KhdBAXXTRRRfV0ECO4ziO4yTRQL9SoNavdNFA8MEHH3zE0UAhMW9nSBTSQFKg1q8UZNJAhA8++OCz0kC1fqVArQPTQObtDIl5U9NAF1100UWj00BIzNsZEvPTQHk7Q2LeQtRAqqqqqqqS1EDbGRLzduLUQAyJeTtDMtVAPvjggw+C1UBvZ0jM29HVQKDWrxSoIdZA0UUXXXRx1kACtX6lQMHWQDMk5u0MEddAZJNNNtlg10CWArV+pbDXQMdxHMdxANhA+OCDDz5Q2EApUOtXCqDYQFq/UqDW79hAiy666KI/2UC8nSExb4/ZQO0MiXk739lAHnzwwQcv2kBQ61cK1H7aQIFav1KgztpAsskmm2we20DjOI7jOG7bQBSo9SsFvttARRdddNEN3EB2hsS8nV3cQKj1KwVqrdxA2WSTTTb93EAK1PqVAk3dQDtDYt7OnN1AbLLJJpvs3UCdITFvZzzeQM6QmLczjN5AAAAAAADc3kA=\",\"dtype\":\"float64\",\"shape\":[100]},\"y\":{\"__ndarray__\":\"AAAAAAAAAADfXF+nNdMFQC3If8HunSRAenpzgwE3NEB9+XyjqG8+QDGEcDC5+UNAaEDHIeJNSEBsciQW3jxMQKQ+fvblz09ARs2Yqa+HUUDd7kK7dQFTQI/Kgqa8WFRAuMqk16qQVUB1OEsXHaxWQBna70OtrVdABrgZbriXWECcL+1lZGxZQJFdxcakLVpAWjBvjD/dWkALpeY+0XxbQOL6WrjQDVxA7uWGmpKRXEBNb95qTAldQHfn/2sXdl1A4qkMMfPYXUDbI8n2xzJeQGcUAMVohF5AQEszXpXOXkBr5kMC/BFfQLNZlAc7T19AgxIvT+KGX0AV01uWdLlfQMd7G6to519AAI2FQJUIYEB3VhcYjhtgQHzuOG7LLGBAVoGBwnU8YEBfXAnisUpgQMRFhj2hV2BAsxzvN2JjYEAhpv9tEG5gQC1W5PbEd2BALCJEn5aAYEBpddQemohgQA3f6Ejij2BAxSDNOICWYEBfHMd5g5xgQCKIxSv6oWBAIobLJPGmYEDxhnoOdKtgQGht+YGNr2BAGhOjIEezYED5WauqqbZgQClcxBO9uWBAEAC3lYi8YEAnml3BEr9gQOgCGI5hwWBAkkLRZ3rDYEDXHLM7YsVgQFdLvIMdx2BALnc+UbDIYEC/+XNWHspgQDV6UO9qy2BALywbKZnMYEAM183Jq81gQF+klValzmBAN1CvGYjPYEAkE8wnVtBgQHnP/mQR0WBAfNMkibvRYEB9Se4jVtJgQPyujaDi0mBAcZAKSWLTYEByo0lJ1tNgQJI9zbE/1GBA9mU0ep/UYECTrIKD9tRgQFkZL5pF1WBA+XwEeI3VYECvL9fFztVgQHXuDx0K1mBAJ50VCUDWYECkXJUIcdZgQFxWqo6d1mBAoJTsA8bWYEA/2mbH6tZgQDfMdi8M12BAC5OWiirXYEA90xUgRtdgQHOtwTBf12BA2mZ893XXYEA5XcepitdgQGIWQXid12BAcbcXj67XYECannAWvtdgQPt1xjLM12BAlAk/BdnXYECwt/mr5NdgQHXLVULv12BA4oEy4fjXYEA=\",\"dtype\":\"float64\",\"shape\":[100]}},\"selected\":{\"id\":\"38582\",\"type\":\"Selection\"},\"selection_policy\":{\"id\":\"38581\",\"type\":\"UnionRenderers\"}},\"id\":\"38547\",\"type\":\"ColumnDataSource\"},{\"attributes\":{\"label\":{\"value\":\"bound proton pump\"},\"renderers\":[{\"id\":\"38568\",\"type\":\"GlyphRenderer\"}]},\"id\":\"38584\",\"type\":\"LegendItem\"},{\"attributes\":{},\"id\":\"38581\",\"type\":\"UnionRenderers\"},{\"attributes\":{\"data_source\":{\"id\":\"38517\",\"type\":\"ColumnDataSource\"},\"glyph\":{\"id\":\"38518\",\"type\":\"Line\"},\"hover_glyph\":null,\"muted_glyph\":null,\"nonselection_glyph\":{\"id\":\"38519\",\"type\":\"Line\"},\"selection_glyph\":null,\"view\":{\"id\":\"38521\",\"type\":\"CDSView\"}},\"id\":\"38520\",\"type\":\"GlyphRenderer\"},{\"attributes\":{\"text\":\"with ATP Synthase, Proton Pump, ATP Use\"},\"id\":\"38471\",\"type\":\"Title\"},{\"attributes\":{\"line_alpha\":0.1,\"line_color\":\"#1f77b4\",\"line_width\":2,\"x\":{\"field\":\"x\"},\"y\":{\"field\":\"y\"}},\"id\":\"38506\",\"type\":\"Line\"},{\"attributes\":{\"line_color\":\"#ff7e0e\",\"line_width\":2,\"x\":{\"field\":\"x\"},\"y\":{\"field\":\"y\"}},\"id\":\"38518\",\"type\":\"Line\"},{\"attributes\":{},\"id\":\"38527\",\"type\":\"UnionRenderers\"},{\"attributes\":{\"axis_label\":\"time\",\"formatter\":{\"id\":\"38511\",\"type\":\"BasicTickFormatter\"},\"ticker\":{\"id\":\"38482\",\"type\":\"BasicTicker\"}},\"id\":\"38481\",\"type\":\"LinearAxis\"},{\"attributes\":{\"line_color\":\"#1f77b3\",\"line_width\":2,\"x\":{\"field\":\"x\"},\"y\":{\"field\":\"y\"}},\"id\":\"38505\",\"type\":\"Line\"},{\"attributes\":{\"data_source\":{\"id\":\"38565\",\"type\":\"ColumnDataSource\"},\"glyph\":{\"id\":\"38566\",\"type\":\"Line\"},\"hover_glyph\":null,\"muted_glyph\":null,\"nonselection_glyph\":{\"id\":\"38567\",\"type\":\"Line\"},\"selection_glyph\":null,\"view\":{\"id\":\"38569\",\"type\":\"CDSView\"}},\"id\":\"38568\",\"type\":\"GlyphRenderer\"},{\"attributes\":{\"callback\":null,\"data\":{\"x\":{\"__ndarray__\":\"AAAAAAAAAABIzNsZEvNzQEjM2xkS84NAbLLJJpvsjUBIzNsZEvOTQFq/UqDW75hAbLLJJpvsnUC/UqDWr3ShQEjM2xkS86NA0UUXXXRxpkBav1Kg1u+oQOM4juM4bqtAbLLJJpvsrUD6lQK1fjWwQL9SoNavdLFAhA8++OCzskBIzNsZEvOzQAyJeTtDMrVA0UUXXXRxtkCWArV+pbC3QFq/UqDW77hAHnzwwQcvukDjOI7jOG67QKj1KwVqrbxAbLLJJpvsvUAwb2dIzCu/QPqVArV+NcBAXXTRRRfVwEC/UqDWr3TBQCExb2dIFMJAhA8++OCzwkDm7QyJeVPDQEjM2xkS88NAqqqqqqqSxEAMiXk7QzLFQG9nSMzb0cVA0UUXXXRxxkAzJObtDBHHQJYCtX6lsMdA+OCDDz5QyEBav1Kg1u/IQLydITFvj8lAHnzwwQcvykCBWr9SoM7KQOM4juM4bstARRdddNENzECo9SsFaq3MQArU+pUCTc1AbLLJJpvszUDOkJi3M4zOQDBvZ0jMK89Ak0022WTLz0D6lQK1fjXQQCwFav1KhdBAXXTRRRfV0ECO4ziO4yTRQL9SoNavdNFA8MEHH3zE0UAhMW9nSBTSQFKg1q8UZNJAhA8++OCz0kC1fqVArQPTQObtDIl5U9NAF1100UWj00BIzNsZEvPTQHk7Q2LeQtRAqqqqqqqS1EDbGRLzduLUQAyJeTtDMtVAPvjggw+C1UBvZ0jM29HVQKDWrxSoIdZA0UUXXXRx1kACtX6lQMHWQDMk5u0MEddAZJNNNtlg10CWArV+pbDXQMdxHMdxANhA+OCDDz5Q2EApUOtXCqDYQFq/UqDW79hAiy666KI/2UC8nSExb4/ZQO0MiXk739lAHnzwwQcv2kBQ61cK1H7aQIFav1KgztpAsskmm2we20DjOI7jOG7bQBSo9SsFvttARRdddNEN3EB2hsS8nV3cQKj1KwVqrdxA2WSTTTb93EAK1PqVAk3dQDtDYt7OnN1AbLLJJpvs3UCdITFvZzzeQM6QmLczjN5AAAAAAADc3kA=\",\"dtype\":\"float64\",\"shape\":[100]},\"y\":{\"__ndarray__\":\"AAAAAAAAAAD41djuFyYjQM0luzvpwiNAnrKGOoLgI0CV/Gz/AOsjQLvHuar57yNAbwkf0dDyI0DkB7YJpfQjQGuZTXXq9SNARcJE0Nj2I0CvCiwwjvcjQHF7H0Ac+CNAyPypD474I0DkmO/l6vgjQP8LQr83+SNAI298I3j5I0A58bOkrvkjQGKhdS3d+SNAf1oRMwX6I0D1OrrWJ/ojQKxAivtF+iNABcXgVmD6I0DLwhB7d/ojQFTEf9+L+iNAf2+P5p36I0AcGAnirfojQCg8eha8+iNAZCmrvcj6I0BRMscI1PojQAHMySHe+iNAzxzTLOf6I0A25/xI7/ojQISyTZH2+iNAETdPHf36I0BFHpQBA/sjQBnFJ1AI+yNAAMjqGA37I0DJ5N9pEfsjQG5IbE8V+yNA4QuO1Bj7I0C5xgoDHPsjQLJ4lOMe+yNAukC8fSH7I0DcmwXZI/sjQDWVE/sl+yNAIPyk6Sf7I0A927epKfsjQN+jxz8r+yNAzpjbryz7I0CRlJb9LfsjQLCKOywv+yNAgNa8PjD7I0AcVcM3MfsjQDyBtRky+yNADVvC5jL7I0AyAregM/sjQKYFtUk0+yNAV3oF4zT7I0BjvzRuNfsjQNn0kuw1+yNAd4FQXzb7I0AjKIHHNvsjQNTUHiY3+yNA+QMMfDf7I0DyDRbKN/sjQAop9xA4+yNAWS5YUTj7I0CIddKLOPsjQD7B8MA4+yNAcF8x8Tj7I0BxsAYdOfsjQA6Z2EQ5+yNA9mQFaTn7I0DDreKJOfsjQJsqvqc5+yNAK2vewjn7I0D9gYPbOfsjQM+d5/E5+yNA95Q/Bjr7I0AiZLsYOvsjQGWghik6+yNAkd/IODr7I0CTFqZGOvsjQHTuPlM6+yNAJBKxXjr7I0DRdBdpOvsjQBqSinI6+yNAsacgezr7I0Ap6u2COvsjQOm0BIo6+yNAY7V1kDr7I0B4ElCWOvsjQPKPoZs6+yNAP7B2oDr7I0AZz9qkOvsjQO1B2Kg6+yNAfGN4rDr7I0AB08OvOvsjQDv5wbI6+yNAOTV7tTr7I0A=\",\"dtype\":\"float64\",\"shape\":[100]}},\"selected\":{\"id\":\"38562\",\"type\":\"Selection\"},\"selection_policy\":{\"id\":\"38561\",\"type\":\"UnionRenderers\"}},\"id\":\"38531\",\"type\":\"ColumnDataSource\"},{\"attributes\":{\"overlay\":{\"id\":\"38514\",\"type\":\"BoxAnnotation\"}},\"id\":\"38493\",\"type\":\"BoxZoomTool\"},{\"attributes\":{\"data_source\":{\"id\":\"38531\",\"type\":\"ColumnDataSource\"},\"glyph\":{\"id\":\"38532\",\"type\":\"Line\"},\"hover_glyph\":null,\"muted_glyph\":null,\"nonselection_glyph\":{\"id\":\"38533\",\"type\":\"Line\"},\"selection_glyph\":null,\"view\":{\"id\":\"38535\",\"type\":\"CDSView\"}},\"id\":\"38534\",\"type\":\"GlyphRenderer\"},{\"attributes\":{\"label\":{\"value\":\"atp\"},\"renderers\":[{\"id\":\"38507\",\"type\":\"GlyphRenderer\"}]},\"id\":\"38516\",\"type\":\"LegendItem\"},{\"attributes\":{},\"id\":\"38561\",\"type\":\"UnionRenderers\"},{\"attributes\":{\"data_source\":{\"id\":\"38504\",\"type\":\"ColumnDataSource\"},\"glyph\":{\"id\":\"38505\",\"type\":\"Line\"},\"hover_glyph\":null,\"muted_glyph\":null,\"nonselection_glyph\":{\"id\":\"38506\",\"type\":\"Line\"},\"selection_glyph\":null,\"view\":{\"id\":\"38508\",\"type\":\"CDSView\"}},\"id\":\"38507\",\"type\":\"GlyphRenderer\"},{\"attributes\":{},\"id\":\"38511\",\"type\":\"BasicTickFormatter\"},{\"attributes\":{},\"id\":\"38528\",\"type\":\"Selection\"},{\"attributes\":{\"dimension\":1,\"ticker\":{\"id\":\"38487\",\"type\":\"BasicTicker\"}},\"id\":\"38490\",\"type\":\"Grid\"},{\"attributes\":{\"ticker\":{\"id\":\"38482\",\"type\":\"BasicTicker\"}},\"id\":\"38485\",\"type\":\"Grid\"},{\"attributes\":{\"data_source\":{\"id\":\"38547\",\"type\":\"ColumnDataSource\"},\"glyph\":{\"id\":\"38548\",\"type\":\"Line\"},\"hover_glyph\":null,\"muted_glyph\":null,\"nonselection_glyph\":{\"id\":\"38549\",\"type\":\"Line\"},\"selection_glyph\":null,\"view\":{\"id\":\"38551\",\"type\":\"CDSView\"}},\"id\":\"38550\",\"type\":\"GlyphRenderer\"}],\"root_ids\":[\"38470\"]},\"title\":\"Bokeh Application\",\"version\":\"1.4.0\"}};\n",
       "  var render_items = [{\"docid\":\"f77a1156-6ae2-4ecc-8252-a3ece64c0d8c\",\"roots\":{\"38470\":\"714e10a4-981e-4295-99fa-dc00d10a738b\"}}];\n",
       "  root.Bokeh.embed.embed_items_notebook(docs_json, render_items);\n",
       "\n",
       "  }\n",
       "  if (root.Bokeh !== undefined) {\n",
       "    embed_document(root);\n",
       "  } else {\n",
       "    var attempts = 0;\n",
       "    var timer = setInterval(function(root) {\n",
       "      if (root.Bokeh !== undefined) {\n",
       "        clearInterval(timer);\n",
       "        embed_document(root);\n",
       "      } else {\n",
       "        attempts++;\n",
       "        if (attempts > 100) {\n",
       "          clearInterval(timer);\n",
       "          console.log(\"Bokeh: ERROR: Unable to run BokehJS code because BokehJS library is missing\");\n",
       "        }\n",
       "      }\n",
       "    }, 10, root)\n",
       "  }\n",
       "})(window);"
      ],
      "application/vnd.bokehjs_exec.v0+json": ""
     },
     "metadata": {
      "application/vnd.bokehjs_exec.v0+json": {
       "id": "38470"
      }
     },
     "output_type": "display_data"
    }
   ],
   "source": [
    "p3 = bokeh.plotting.figure(width = 450, height = 350, title = 'with ATP Synthase, Proton Pump, ATP Use',\n",
    "                          x_axis_label = 'time',\n",
    "                          y_axis_label = 'concentration')\n",
    "plot_list = [ATP_id, outside_H_id, inside_H_id, atp_synthase_b_protein_id, proton_pump_b_protein_id]\n",
    "plot_str = ['atp', 'outside_H', 'inside_H', 'bound atp synthase', 'bound proton pump']\n",
    "for i,item in enumerate(plot_list):\n",
    "    p3.line(timepoints, results_everything[item], line_width = 2, legend_label = plot_str[i], color = palette[i])\n",
    "    \n",
    "p3.legend.click_policy = 'hide'\n",
    "p3.legend.location = 'bottom_right'\n",
    "bokeh.io.show(p3)"
   ]
  },
  {
   "cell_type": "markdown",
   "metadata": {},
   "source": [
    "## Compare with atpsyn + proton pump, only atpsyn, only atpuse (with txtl machinery)\n",
    "---"
   ]
  },
  {
   "cell_type": "code",
   "execution_count": 129,
   "metadata": {},
   "outputs": [
    {
     "data": {
      "text/html": [
       "\n",
       "\n",
       "\n",
       "\n",
       "\n",
       "\n",
       "  <div class=\"bk-root\" id=\"c99c582b-d677-44d1-a21e-3df77a4a89ff\" data-root-id=\"36126\"></div>\n"
      ]
     },
     "metadata": {},
     "output_type": "display_data"
    },
    {
     "data": {
      "application/javascript": [
       "(function(root) {\n",
       "  function embed_document(root) {\n",
       "    \n",
       "  var docs_json = {\"dbd29f3d-1f99-4e34-8c2a-05ac718b0de6\":{\"roots\":{\"references\":[{\"attributes\":{\"children\":[{\"id\":\"35009\",\"subtype\":\"Figure\",\"type\":\"Plot\"},{\"id\":\"31774\",\"subtype\":\"Figure\",\"type\":\"Plot\"},{\"id\":\"31869\",\"subtype\":\"Figure\",\"type\":\"Plot\"}]},\"id\":\"36126\",\"type\":\"Row\"},{\"attributes\":{\"callback\":null,\"data\":{\"x\":{\"__ndarray__\":\"AAAAAAAAAABIzNsZEvNzQEjM2xkS84NAbLLJJpvsjUBIzNsZEvOTQFq/UqDW75hAbLLJJpvsnUC/UqDWr3ShQEjM2xkS86NA0UUXXXRxpkBav1Kg1u+oQOM4juM4bqtAbLLJJpvsrUD6lQK1fjWwQL9SoNavdLFAhA8++OCzskBIzNsZEvOzQAyJeTtDMrVA0UUXXXRxtkCWArV+pbC3QFq/UqDW77hAHnzwwQcvukDjOI7jOG67QKj1KwVqrbxAbLLJJpvsvUAwb2dIzCu/QPqVArV+NcBAXXTRRRfVwEC/UqDWr3TBQCExb2dIFMJAhA8++OCzwkDm7QyJeVPDQEjM2xkS88NAqqqqqqqSxEAMiXk7QzLFQG9nSMzb0cVA0UUXXXRxxkAzJObtDBHHQJYCtX6lsMdA+OCDDz5QyEBav1Kg1u/IQLydITFvj8lAHnzwwQcvykCBWr9SoM7KQOM4juM4bstARRdddNENzECo9SsFaq3MQArU+pUCTc1AbLLJJpvszUDOkJi3M4zOQDBvZ0jMK89Ak0022WTLz0D6lQK1fjXQQCwFav1KhdBAXXTRRRfV0ECO4ziO4yTRQL9SoNavdNFA8MEHH3zE0UAhMW9nSBTSQFKg1q8UZNJAhA8++OCz0kC1fqVArQPTQObtDIl5U9NAF1100UWj00BIzNsZEvPTQHk7Q2LeQtRAqqqqqqqS1EDbGRLzduLUQAyJeTtDMtVAPvjggw+C1UBvZ0jM29HVQKDWrxSoIdZA0UUXXXRx1kACtX6lQMHWQDMk5u0MEddAZJNNNtlg10CWArV+pbDXQMdxHMdxANhA+OCDDz5Q2EApUOtXCqDYQFq/UqDW79hAiy666KI/2UC8nSExb4/ZQO0MiXk739lAHnzwwQcv2kBQ61cK1H7aQIFav1KgztpAsskmm2we20DjOI7jOG7bQBSo9SsFvttARRdddNEN3EB2hsS8nV3cQKj1KwVqrdxA2WSTTTb93EAK1PqVAk3dQDtDYt7OnN1AbLLJJpvs3UCdITFvZzzeQM6QmLczjN5AAAAAAADc3kA=\",\"dtype\":\"float64\",\"shape\":[100]},\"y\":{\"__ndarray__\":\"AAAAAAAAAAD0XF+nNdMFQEbIf8HunSRAlXpzgwE3NECk+XyjqG8+QEiEcDC5+UNAgkDHIeJNSEB/dCQW3jxMQOpDfvblz09AXNGYqa+HUUBE9EK7dQFTQCnRgqa8WFRAaNKk16qQVUAhQUsXHaxWQKrj70OtrVdAZsIZbriXWEC6Ou1lZGxZQFtpxcakLVpAvzxvjD/dWkAAsuY+0XxbQFkIW7jQDVxA2/OGmpKRXECkfd5qTAldQC/2/2sXdl1A87gMMfPYXUA8M8n2xzJeQBEkAMVohF5ALlszXpXOXkCV9kMC/BFfQBRqlAc7T19AFyMvT+KGX0DX41uWdLlfQLGMG6to519AiZWFQJUIYEASXxcYjhtgQCb3OG7LLGBAD4qBwnU8YEAkZQnisUpgQJROhj2hV2BAjyXvN2JjYEAGr/9tEG5gQBpf5PbEd2BAIitEn5aAYEBoftQemohgQBLo6Ejij2BAzynNOICWYEBuJcd5g5xgQDeRxSv6oWBAO4/LJPGmYEAOkHoOdKtgQIl2+YGNr2BAPhyjIEezYEAfY6uqqbZgQFJlxBO9uWBAOwm3lYi8YEBVo13BEr9gQBYMGI5hwWBAw0vRZ3rDYEALJrM7YsVgQI5UvIMdx2BAZIA+UbDIYED2AnRWHspgQG6DUO9qy2BAajUbKZnMYEBH4M3Jq81gQJqtlValzmBAc1mvGYjPYEBhHMwnVtBgQLbY/mQR0WBAuNwkibvRYEC6Uu4jVtJgQDm4jaDi0mBArpkKSWLTYECwrElJ1tNgQNFGzbE/1GBANW80ep/UYEDStYKD9tRgQJoiL5pF1WBAOoYEeI3VYEDwONfFztVgQLf3Dx0K1mBAaKYVCUDWYEDmZZUIcdZgQJ5fqo6d1mBA4p3sA8bWYECB42bH6tZgQHnVdi8M12BATZyWiirXYEB/3BUgRtdgQLW2wTBf12BAHHB893XXYEB6ZsepitdgQKQfQXid12BAs8AXj67XYEDcp3AWvtdgQD1/xjLM12BA1hI/BdnXYEDywPmr5NdgQLfUVULv12BAJIsy4fjXYEA=\",\"dtype\":\"float64\",\"shape\":[100]}},\"selected\":{\"id\":\"36028\",\"type\":\"Selection\"},\"selection_policy\":{\"id\":\"36027\",\"type\":\"UnionRenderers\"}},\"id\":\"35104\",\"type\":\"ColumnDataSource\"},{\"attributes\":{\"active_drag\":\"auto\",\"active_inspect\":\"auto\",\"active_multi\":null,\"active_scroll\":\"auto\",\"active_tap\":\"auto\",\"tools\":[{\"id\":\"35030\",\"type\":\"PanTool\"},{\"id\":\"35031\",\"type\":\"WheelZoomTool\"},{\"id\":\"35032\",\"type\":\"BoxZoomTool\"},{\"id\":\"35033\",\"type\":\"SaveTool\"},{\"id\":\"35034\",\"type\":\"ResetTool\"},{\"id\":\"35035\",\"type\":\"HelpTool\"}]},\"id\":\"35036\",\"type\":\"Toolbar\"},{\"attributes\":{\"callback\":null,\"data\":{\"x\":{\"__ndarray__\":\"AAAAAAAAAABIzNsZEvNzQEjM2xkS84NAbLLJJpvsjUBIzNsZEvOTQFq/UqDW75hAbLLJJpvsnUC/UqDWr3ShQEjM2xkS86NA0UUXXXRxpkBav1Kg1u+oQOM4juM4bqtAbLLJJpvsrUD6lQK1fjWwQL9SoNavdLFAhA8++OCzskBIzNsZEvOzQAyJeTtDMrVA0UUXXXRxtkCWArV+pbC3QFq/UqDW77hAHnzwwQcvukDjOI7jOG67QKj1KwVqrbxAbLLJJpvsvUAwb2dIzCu/QPqVArV+NcBAXXTRRRfVwEC/UqDWr3TBQCExb2dIFMJAhA8++OCzwkDm7QyJeVPDQEjM2xkS88NAqqqqqqqSxEAMiXk7QzLFQG9nSMzb0cVA0UUXXXRxxkAzJObtDBHHQJYCtX6lsMdA+OCDDz5QyEBav1Kg1u/IQLydITFvj8lAHnzwwQcvykCBWr9SoM7KQOM4juM4bstARRdddNENzECo9SsFaq3MQArU+pUCTc1AbLLJJpvszUDOkJi3M4zOQDBvZ0jMK89Ak0022WTLz0D6lQK1fjXQQCwFav1KhdBAXXTRRRfV0ECO4ziO4yTRQL9SoNavdNFA8MEHH3zE0UAhMW9nSBTSQFKg1q8UZNJAhA8++OCz0kC1fqVArQPTQObtDIl5U9NAF1100UWj00BIzNsZEvPTQHk7Q2LeQtRAqqqqqqqS1EDbGRLzduLUQAyJeTtDMtVAPvjggw+C1UBvZ0jM29HVQKDWrxSoIdZA0UUXXXRx1kACtX6lQMHWQDMk5u0MEddAZJNNNtlg10CWArV+pbDXQMdxHMdxANhA+OCDDz5Q2EApUOtXCqDYQFq/UqDW79hAiy666KI/2UC8nSExb4/ZQO0MiXk739lAHnzwwQcv2kBQ61cK1H7aQIFav1KgztpAsskmm2we20DjOI7jOG7bQBSo9SsFvttARRdddNEN3EB2hsS8nV3cQKj1KwVqrdxA2WSTTTb93EAK1PqVAk3dQDtDYt7OnN1AbLLJJpvs3UCdITFvZzzeQM6QmLczjN5AAAAAAADc3kA=\",\"dtype\":\"float64\",\"shape\":[100]},\"y\":{\"__ndarray__\":\"AAAAAAAAJEAaXngucIMcQLqEswukqRxABBJjU+SwHECJHVJhd7McQP8cnrevtBxAvPhSOGK1HEAOr5ot1bUcQCsKfhUlthxAQx6XnV+2HEDvYD8ojLYcQOG9ywuvthxANylj/8q2HEBKQnbM4bYcQEpWZ6z0thxA1ZolfQS3HECin0vgEbccQCFyT04dtxxAfpfdIie3HEBg//2kL7ccQBNPdAw3txxA3IXMhT23HEA6hPY0Q7ccQL9BRTdItxxA/X3ipEy3HEDroOSRULccQCEMIg9UtxxAVPbLKle3HEBBCvbwWbccQDsV8GtctxxAfKeZpF63HEC8T5aiYLccQDN6iWxitxxAZTU7CGS3HEDRKLl6ZbccQNr7cchmtxxAQBRM9We3HEB4d7gEabccQPKVwvlptxxAMq0d12q3HEBeODCfa7ccQJ0AHVRstxxAu8G/92y3HEDz4vCLbbccQFqnExJutxxA/12Qi263HEArUqH5brccQDlfYF1vtxxAKtXKt2+3HEDTYMUJcLccQMIXHVRwtxxA3kaLl3C3HECiLrfUcLccQBDBNwxxtxxANVuWPnG3HEBUxENscbccQG4ex5VxtxxAAENwu3G3HEDP3aDdcbccQNZ/q/xxtxxAVu/aGHK3HEBj6XIycrccQEjSsElytxxAhUzMXnK3HEApyfdxcrccQBkGYYNytxxAT30xk3K3HECz2Y6hcrccQCYxm65ytxxAVYp1unK3HEDD/TnFcrccQMUQAs9ytxxAIu3k13K3HEDLmfffcrccQN4tTedytxxAlv727XK3HEAlyQT0crccQFfYhPlytxxA1iaE/nK3HEBMfg4Dc7ccQGOTLgdztxxAax/uCnO3HECJ91UOc7ccQJEhbhFztxxALOc9FHO3HEAY58sWc7ccQO4kHhlztxxAThc6G3O3HEDWtCQdc7ccQOh/4h5ztxxARJF3IHO3HEDMoechc7ccQOYSNiNztxxAwPdlJHO3HEBrGXolc7ccQNgDdSZztxxAWv1YJ3O3HEB/Oigoc7ccQBFB5ChztxxAo02QKXO3HEA=\",\"dtype\":\"float64\",\"shape\":[100]}},\"selected\":{\"id\":\"35067\",\"type\":\"Selection\"},\"selection_policy\":{\"id\":\"35066\",\"type\":\"UnionRenderers\"}},\"id\":\"35043\",\"type\":\"ColumnDataSource\"},{\"attributes\":{},\"id\":\"35030\",\"type\":\"PanTool\"},{\"attributes\":{},\"id\":\"35066\",\"type\":\"UnionRenderers\"},{\"attributes\":{},\"id\":\"35121\",\"type\":\"Selection\"},{\"attributes\":{\"data_source\":{\"id\":\"35086\",\"type\":\"ColumnDataSource\"},\"glyph\":{\"id\":\"35087\",\"type\":\"Line\"},\"hover_glyph\":null,\"muted_glyph\":null,\"nonselection_glyph\":{\"id\":\"35088\",\"type\":\"Line\"},\"selection_glyph\":null,\"view\":{\"id\":\"35090\",\"type\":\"CDSView\"}},\"id\":\"35089\",\"type\":\"GlyphRenderer\"},{\"attributes\":{\"line_color\":\"#ff7e0e\",\"line_width\":2,\"x\":{\"field\":\"x\"},\"y\":{\"field\":\"y\"}},\"id\":\"35057\",\"type\":\"Line\"},{\"attributes\":{},\"id\":\"35031\",\"type\":\"WheelZoomTool\"},{\"attributes\":{\"line_alpha\":0.1,\"line_color\":\"#1f77b4\",\"line_width\":2,\"x\":{\"field\":\"x\"},\"y\":{\"field\":\"y\"}},\"id\":\"35088\",\"type\":\"Line\"},{\"attributes\":{\"callback\":null,\"data\":{\"x\":{\"__ndarray__\":\"AAAAAAAAAABIzNsZEvNzQEjM2xkS84NAbLLJJpvsjUBIzNsZEvOTQFq/UqDW75hAbLLJJpvsnUC/UqDWr3ShQEjM2xkS86NA0UUXXXRxpkBav1Kg1u+oQOM4juM4bqtAbLLJJpvsrUD6lQK1fjWwQL9SoNavdLFAhA8++OCzskBIzNsZEvOzQAyJeTtDMrVA0UUXXXRxtkCWArV+pbC3QFq/UqDW77hAHnzwwQcvukDjOI7jOG67QKj1KwVqrbxAbLLJJpvsvUAwb2dIzCu/QPqVArV+NcBAXXTRRRfVwEC/UqDWr3TBQCExb2dIFMJAhA8++OCzwkDm7QyJeVPDQEjM2xkS88NAqqqqqqqSxEAMiXk7QzLFQG9nSMzb0cVA0UUXXXRxxkAzJObtDBHHQJYCtX6lsMdA+OCDDz5QyEBav1Kg1u/IQLydITFvj8lAHnzwwQcvykCBWr9SoM7KQOM4juM4bstARRdddNENzECo9SsFaq3MQArU+pUCTc1AbLLJJpvszUDOkJi3M4zOQDBvZ0jMK89Ak0022WTLz0D6lQK1fjXQQCwFav1KhdBAXXTRRRfV0ECO4ziO4yTRQL9SoNavdNFA8MEHH3zE0UAhMW9nSBTSQFKg1q8UZNJAhA8++OCz0kC1fqVArQPTQObtDIl5U9NAF1100UWj00BIzNsZEvPTQHk7Q2LeQtRAqqqqqqqS1EDbGRLzduLUQAyJeTtDMtVAPvjggw+C1UBvZ0jM29HVQKDWrxSoIdZA0UUXXXRx1kACtX6lQMHWQDMk5u0MEddAZJNNNtlg10CWArV+pbDXQMdxHMdxANhA+OCDDz5Q2EApUOtXCqDYQFq/UqDW79hAiy666KI/2UC8nSExb4/ZQO0MiXk739lAHnzwwQcv2kBQ61cK1H7aQIFav1KgztpAsskmm2we20DjOI7jOG7bQBSo9SsFvttARRdddNEN3EB2hsS8nV3cQKj1KwVqrdxA2WSTTTb93EAK1PqVAk3dQDtDYt7OnN1AbLLJJpvs3UCdITFvZzzeQM6QmLczjN5AAAAAAADc3kA=\",\"dtype\":\"float64\",\"shape\":[100]},\"y\":{\"__ndarray__\":\"AAAAAAAAJEBrP+UkAj3bPw0SbSJii74/dlRNecV9rz8CWwOTAP+kP3wzOEZVBqA//QDtwV1emj/7E/CT7LWWP938zGQVK5Q/dkd7dl9Okj9dceqnn+OQP7bXEYL/jo8/634MWMHHjT/WEZxBaFSMP3ajz/cCIYs/KxRDDnIfij+kvjowbUWJP8MeeilKi4g/G6iVujPrhz8c3BMXpWCHP3z7/NYR6IY/tJTrfKR+hj9mfPS8EyKGP49a7gCC0IU/I65BwmWIhT9HPJ/bd0iFP8ENDxemD4U/NSRaUwndhD/ubTbj3K+EP5uvz9h4h4Q/nHqMs0xjhD+w2GIM3EKEPxWhNcm6JYQ/bGcjw4oLhD9slYav+fODPzdI62C/3oM/56rfVJzLgz9yimyAWLqDP9P33U7CqoM/7SrQx62cgz9qzOTU84+DP+PpHK5xhIM/L8j8Dgl6gz/MQZDpm3CDPwPXqrETaIM/gywPbFlggz/7t5IgWVmDPzstcOEAU4M/LnGckUBNgz+kZ62lCUiDP+vq1BFPQ4M/hamlDAU/gz+WOavyIDuDPxW0+imZN4M/Y2+T9mQ0gz9C2PYjfTGDP1AD6SvZLoM/Ej4W6nMsgz+8DQItRyqDP8k0LLRNKIM/+7n5vYImgz8+CV/74SSDP+pKrIRnI4M/VbTvzw8igz/uzMen1yCDP5xvWyO8H4M/7zFGn7oegz8WeCm20B2DPyCj+jz8HIM/otSBOjscgz9a0j3lixuDP3dbm53sGoM/V75r6lsagz8KiUh12BmDP4kmVQdhGYM/+edShvQYgz9ToffxkRiDPy9biGE4GIM/YrurAecXgz/CC28SnReDPzoCfuVZF4M/lU+B3BwXgz/QR6Vn5RaDPw3ERQSzFoM/zf62O4UWgz+ISCyiWxaDP8Egt9U1FoM/MMVgfRMWgz8I5lZI9BWDP4TkK+3XFYM/N/spKb4Vgz9crLW/phWDP7HBv3mRFYM/g40+JX4Vgz8HJcOUbBWDP5DU955cFYM/MJlxHk4Vgz/+grPwQBWDP6mbGvg0FYM/36IqEyoVgz8=\",\"dtype\":\"float64\",\"shape\":[100]}},\"selected\":{\"id\":\"35083\",\"type\":\"Selection\"},\"selection_policy\":{\"id\":\"35082\",\"type\":\"UnionRenderers\"}},\"id\":\"35056\",\"type\":\"ColumnDataSource\"},{\"attributes\":{\"overlay\":{\"id\":\"35053\",\"type\":\"BoxAnnotation\"}},\"id\":\"35032\",\"type\":\"BoxZoomTool\"},{\"attributes\":{},\"id\":\"35033\",\"type\":\"SaveTool\"},{\"attributes\":{},\"id\":\"35034\",\"type\":\"ResetTool\"},{\"attributes\":{},\"id\":\"32839\",\"type\":\"UnionRenderers\"},{\"attributes\":{},\"id\":\"35035\",\"type\":\"HelpTool\"},{\"attributes\":{},\"id\":\"32840\",\"type\":\"Selection\"},{\"attributes\":{\"click_policy\":\"hide\",\"items\":[{\"id\":\"35055\",\"type\":\"LegendItem\"},{\"id\":\"35069\",\"type\":\"LegendItem\"},{\"id\":\"35085\",\"type\":\"LegendItem\"},{\"id\":\"35103\",\"type\":\"LegendItem\"},{\"id\":\"35123\",\"type\":\"LegendItem\"}],\"location\":\"bottom_right\"},\"id\":\"35054\",\"type\":\"Legend\"},{\"attributes\":{},\"id\":\"35101\",\"type\":\"Selection\"},{\"attributes\":{},\"id\":\"35083\",\"type\":\"Selection\"},{\"attributes\":{},\"id\":\"35100\",\"type\":\"UnionRenderers\"},{\"attributes\":{\"line_color\":\"#8c564b\",\"line_width\":2,\"x\":{\"field\":\"x\"},\"y\":{\"field\":\"y\"}},\"id\":\"35105\",\"type\":\"Line\"},{\"attributes\":{\"line_alpha\":0.1,\"line_color\":\"#1f77b4\",\"line_width\":2,\"x\":{\"field\":\"x\"},\"y\":{\"field\":\"y\"}},\"id\":\"35106\",\"type\":\"Line\"},{\"attributes\":{\"data_source\":{\"id\":\"35104\",\"type\":\"ColumnDataSource\"},\"glyph\":{\"id\":\"35105\",\"type\":\"Line\"},\"hover_glyph\":null,\"muted_glyph\":null,\"nonselection_glyph\":{\"id\":\"35106\",\"type\":\"Line\"},\"selection_glyph\":null,\"view\":{\"id\":\"35108\",\"type\":\"CDSView\"}},\"id\":\"35107\",\"type\":\"GlyphRenderer\"},{\"attributes\":{\"line_alpha\":0.1,\"line_color\":\"#1f77b4\",\"line_width\":2,\"x\":{\"field\":\"x\"},\"y\":{\"field\":\"y\"}},\"id\":\"35058\",\"type\":\"Line\"},{\"attributes\":{\"label\":{\"value\":\"bound atp synthase\"},\"renderers\":[{\"id\":\"35089\",\"type\":\"GlyphRenderer\"}]},\"id\":\"35103\",\"type\":\"LegendItem\"},{\"attributes\":{},\"id\":\"35067\",\"type\":\"Selection\"},{\"attributes\":{\"source\":{\"id\":\"35104\",\"type\":\"ColumnDataSource\"}},\"id\":\"35108\",\"type\":\"CDSView\"},{\"attributes\":{\"below\":[{\"id\":\"35020\",\"type\":\"LinearAxis\"}],\"center\":[{\"id\":\"35024\",\"type\":\"Grid\"},{\"id\":\"35029\",\"type\":\"Grid\"},{\"id\":\"35054\",\"type\":\"Legend\"}],\"left\":[{\"id\":\"35025\",\"type\":\"LinearAxis\"}],\"plot_height\":350,\"plot_width\":450,\"renderers\":[{\"id\":\"35046\",\"type\":\"GlyphRenderer\"},{\"id\":\"35059\",\"type\":\"GlyphRenderer\"},{\"id\":\"35073\",\"type\":\"GlyphRenderer\"},{\"id\":\"35089\",\"type\":\"GlyphRenderer\"},{\"id\":\"35107\",\"type\":\"GlyphRenderer\"}],\"title\":{\"id\":\"35010\",\"type\":\"Title\"},\"toolbar\":{\"id\":\"35036\",\"type\":\"Toolbar\"},\"x_range\":{\"id\":\"35012\",\"type\":\"DataRange1d\"},\"x_scale\":{\"id\":\"35016\",\"type\":\"LinearScale\"},\"y_range\":{\"id\":\"35014\",\"type\":\"DataRange1d\"},\"y_scale\":{\"id\":\"35018\",\"type\":\"LinearScale\"}},\"id\":\"35009\",\"subtype\":\"Figure\",\"type\":\"Plot\"},{\"attributes\":{\"source\":{\"id\":\"35056\",\"type\":\"ColumnDataSource\"}},\"id\":\"35060\",\"type\":\"CDSView\"},{\"attributes\":{\"line_color\":\"#9367bc\",\"line_width\":2,\"x\":{\"field\":\"x\"},\"y\":{\"field\":\"y\"}},\"id\":\"35087\",\"type\":\"Line\"},{\"attributes\":{\"label\":{\"value\":\"bound proton pump\"},\"renderers\":[{\"id\":\"35107\",\"type\":\"GlyphRenderer\"}]},\"id\":\"35123\",\"type\":\"LegendItem\"},{\"attributes\":{},\"id\":\"36028\",\"type\":\"Selection\"},{\"attributes\":{\"text\":\"with ATP Synthase, Proton Pump, ATP Use\"},\"id\":\"35010\",\"type\":\"Title\"},{\"attributes\":{},\"id\":\"35052\",\"type\":\"BasicTickFormatter\"},{\"attributes\":{\"callback\":null},\"id\":\"35012\",\"type\":\"DataRange1d\"},{\"attributes\":{\"callback\":null},\"id\":\"35014\",\"type\":\"DataRange1d\"},{\"attributes\":{\"data_source\":{\"id\":\"35056\",\"type\":\"ColumnDataSource\"},\"glyph\":{\"id\":\"35057\",\"type\":\"Line\"},\"hover_glyph\":null,\"muted_glyph\":null,\"nonselection_glyph\":{\"id\":\"35058\",\"type\":\"Line\"},\"selection_glyph\":null,\"view\":{\"id\":\"35060\",\"type\":\"CDSView\"}},\"id\":\"35059\",\"type\":\"GlyphRenderer\"},{\"attributes\":{},\"id\":\"35016\",\"type\":\"LinearScale\"},{\"attributes\":{},\"id\":\"35018\",\"type\":\"LinearScale\"},{\"attributes\":{\"axis_label\":\"time\",\"formatter\":{\"id\":\"35050\",\"type\":\"BasicTickFormatter\"},\"ticker\":{\"id\":\"35021\",\"type\":\"BasicTicker\"}},\"id\":\"35020\",\"type\":\"LinearAxis\"},{\"attributes\":{},\"id\":\"35082\",\"type\":\"UnionRenderers\"},{\"attributes\":{\"dimension\":1,\"ticker\":{\"id\":\"35026\",\"type\":\"BasicTicker\"}},\"id\":\"35029\",\"type\":\"Grid\"},{\"attributes\":{\"source\":{\"id\":\"35086\",\"type\":\"ColumnDataSource\"}},\"id\":\"35090\",\"type\":\"CDSView\"},{\"attributes\":{},\"id\":\"35021\",\"type\":\"BasicTicker\"},{\"attributes\":{\"callback\":null,\"data\":{\"x\":{\"__ndarray__\":\"AAAAAAAAAABIzNsZEvNzQEjM2xkS84NAbLLJJpvsjUBIzNsZEvOTQFq/UqDW75hAbLLJJpvsnUC/UqDWr3ShQEjM2xkS86NA0UUXXXRxpkBav1Kg1u+oQOM4juM4bqtAbLLJJpvsrUD6lQK1fjWwQL9SoNavdLFAhA8++OCzskBIzNsZEvOzQAyJeTtDMrVA0UUXXXRxtkCWArV+pbC3QFq/UqDW77hAHnzwwQcvukDjOI7jOG67QKj1KwVqrbxAbLLJJpvsvUAwb2dIzCu/QPqVArV+NcBAXXTRRRfVwEC/UqDWr3TBQCExb2dIFMJAhA8++OCzwkDm7QyJeVPDQEjM2xkS88NAqqqqqqqSxEAMiXk7QzLFQG9nSMzb0cVA0UUXXXRxxkAzJObtDBHHQJYCtX6lsMdA+OCDDz5QyEBav1Kg1u/IQLydITFvj8lAHnzwwQcvykCBWr9SoM7KQOM4juM4bstARRdddNENzECo9SsFaq3MQArU+pUCTc1AbLLJJpvszUDOkJi3M4zOQDBvZ0jMK89Ak0022WTLz0D6lQK1fjXQQCwFav1KhdBAXXTRRRfV0ECO4ziO4yTRQL9SoNavdNFA8MEHH3zE0UAhMW9nSBTSQFKg1q8UZNJAhA8++OCz0kC1fqVArQPTQObtDIl5U9NAF1100UWj00BIzNsZEvPTQHk7Q2LeQtRAqqqqqqqS1EDbGRLzduLUQAyJeTtDMtVAPvjggw+C1UBvZ0jM29HVQKDWrxSoIdZA0UUXXXRx1kACtX6lQMHWQDMk5u0MEddAZJNNNtlg10CWArV+pbDXQMdxHMdxANhA+OCDDz5Q2EApUOtXCqDYQFq/UqDW79hAiy666KI/2UC8nSExb4/ZQO0MiXk739lAHnzwwQcv2kBQ61cK1H7aQIFav1KgztpAsskmm2we20DjOI7jOG7bQBSo9SsFvttARRdddNEN3EB2hsS8nV3cQKj1KwVqrdxA2WSTTTb93EAK1PqVAk3dQDtDYt7OnN1AbLLJJpvs3UCdITFvZzzeQM6QmLczjN5AAAAAAADc3kA=\",\"dtype\":\"float64\",\"shape\":[100]},\"y\":{\"__ndarray__\":\"AAAAAAAAAADfXF+nNdMFQC3If8HunSRAenpzgwE3NEB9+XyjqG8+QDGEcDC5+UNAaEDHIeJNSEBsciQW3jxMQKQ+fvblz09ARs2Yqa+HUUDd7kK7dQFTQI/Kgqa8WFRAuMqk16qQVUB1OEsXHaxWQBna70OtrVdABrgZbriXWECcL+1lZGxZQJFdxcakLVpAWjBvjD/dWkALpeY+0XxbQOL6WrjQDVxA7uWGmpKRXEBNb95qTAldQHfn/2sXdl1A4qkMMfPYXUDbI8n2xzJeQGcUAMVohF5AQEszXpXOXkBr5kMC/BFfQLNZlAc7T19AgxIvT+KGX0AV01uWdLlfQMd7G6to519AAI2FQJUIYEB3VhcYjhtgQHzuOG7LLGBAVoGBwnU8YEBfXAnisUpgQMRFhj2hV2BAsxzvN2JjYEAhpv9tEG5gQC1W5PbEd2BALCJEn5aAYEBpddQemohgQA3f6Ejij2BAxSDNOICWYEBfHMd5g5xgQCKIxSv6oWBAIobLJPGmYEDxhnoOdKtgQGht+YGNr2BAGhOjIEezYED5WauqqbZgQClcxBO9uWBAEAC3lYi8YEAnml3BEr9gQOgCGI5hwWBAkkLRZ3rDYEDXHLM7YsVgQFdLvIMdx2BALnc+UbDIYEC/+XNWHspgQDV6UO9qy2BALywbKZnMYEAM183Jq81gQF+klValzmBAN1CvGYjPYEAkE8wnVtBgQHnP/mQR0WBAfNMkibvRYEB9Se4jVtJgQPyujaDi0mBAcZAKSWLTYEByo0lJ1tNgQJI9zbE/1GBA9mU0ep/UYECTrIKD9tRgQFkZL5pF1WBA+XwEeI3VYECvL9fFztVgQHXuDx0K1mBAJ50VCUDWYECkXJUIcdZgQFxWqo6d1mBAoJTsA8bWYEA/2mbH6tZgQDfMdi8M12BAC5OWiirXYEA90xUgRtdgQHOtwTBf12BA2mZ893XXYEA5XcepitdgQGIWQXid12BAcbcXj67XYECannAWvtdgQPt1xjLM12BAlAk/BdnXYECwt/mr5NdgQHXLVULv12BA4oEy4fjXYEA=\",\"dtype\":\"float64\",\"shape\":[100]}},\"selected\":{\"id\":\"35121\",\"type\":\"Selection\"},\"selection_policy\":{\"id\":\"35120\",\"type\":\"UnionRenderers\"}},\"id\":\"35086\",\"type\":\"ColumnDataSource\"},{\"attributes\":{\"label\":{\"value\":\"outside_H\"},\"renderers\":[{\"id\":\"35059\",\"type\":\"GlyphRenderer\"}]},\"id\":\"35069\",\"type\":\"LegendItem\"},{\"attributes\":{\"ticker\":{\"id\":\"35021\",\"type\":\"BasicTicker\"}},\"id\":\"35024\",\"type\":\"Grid\"},{\"attributes\":{},\"id\":\"35026\",\"type\":\"BasicTicker\"},{\"attributes\":{\"axis_label\":\"concentration\",\"formatter\":{\"id\":\"35052\",\"type\":\"BasicTickFormatter\"},\"ticker\":{\"id\":\"35026\",\"type\":\"BasicTicker\"}},\"id\":\"35025\",\"type\":\"LinearAxis\"},{\"attributes\":{},\"id\":\"35120\",\"type\":\"UnionRenderers\"},{\"attributes\":{\"line_alpha\":0.1,\"line_color\":\"#1f77b4\",\"line_width\":2,\"x\":{\"field\":\"x\"},\"y\":{\"field\":\"y\"}},\"id\":\"31905\",\"type\":\"Line\"},{\"attributes\":{\"data_source\":{\"id\":\"31808\",\"type\":\"ColumnDataSource\"},\"glyph\":{\"id\":\"31809\",\"type\":\"Line\"},\"hover_glyph\":null,\"muted_glyph\":null,\"nonselection_glyph\":{\"id\":\"31810\",\"type\":\"Line\"},\"selection_glyph\":null,\"view\":{\"id\":\"31812\",\"type\":\"CDSView\"}},\"id\":\"31811\",\"type\":\"GlyphRenderer\"},{\"attributes\":{},\"id\":\"31865\",\"type\":\"UnionRenderers\"},{\"attributes\":{\"active_drag\":\"auto\",\"active_inspect\":\"auto\",\"active_multi\":null,\"active_scroll\":\"auto\",\"active_tap\":\"auto\",\"tools\":[{\"id\":\"31795\",\"type\":\"PanTool\"},{\"id\":\"31796\",\"type\":\"WheelZoomTool\"},{\"id\":\"31797\",\"type\":\"BoxZoomTool\"},{\"id\":\"31798\",\"type\":\"SaveTool\"},{\"id\":\"31799\",\"type\":\"ResetTool\"},{\"id\":\"31800\",\"type\":\"HelpTool\"}]},\"id\":\"31801\",\"type\":\"Toolbar\"},{\"attributes\":{\"source\":{\"id\":\"35043\",\"type\":\"ColumnDataSource\"}},\"id\":\"35047\",\"type\":\"CDSView\"},{\"attributes\":{},\"id\":\"31866\",\"type\":\"Selection\"},{\"attributes\":{\"below\":[{\"id\":\"31785\",\"type\":\"LinearAxis\"}],\"center\":[{\"id\":\"31789\",\"type\":\"Grid\"},{\"id\":\"31794\",\"type\":\"Grid\"},{\"id\":\"31819\",\"type\":\"Legend\"}],\"left\":[{\"id\":\"31790\",\"type\":\"LinearAxis\"}],\"plot_height\":350,\"plot_width\":450,\"renderers\":[{\"id\":\"31811\",\"type\":\"GlyphRenderer\"},{\"id\":\"31824\",\"type\":\"GlyphRenderer\"},{\"id\":\"31838\",\"type\":\"GlyphRenderer\"},{\"id\":\"31854\",\"type\":\"GlyphRenderer\"}],\"title\":{\"id\":\"31775\",\"type\":\"Title\"},\"toolbar\":{\"id\":\"31801\",\"type\":\"Toolbar\"},\"x_range\":{\"id\":\"31777\",\"type\":\"DataRange1d\"},\"x_scale\":{\"id\":\"31781\",\"type\":\"LinearScale\"},\"y_range\":{\"id\":\"31779\",\"type\":\"DataRange1d\"},\"y_scale\":{\"id\":\"31783\",\"type\":\"LinearScale\"}},\"id\":\"31774\",\"subtype\":\"Figure\",\"type\":\"Plot\"},{\"attributes\":{\"text\":\"only ATP Use\"},\"id\":\"31870\",\"type\":\"Title\"},{\"attributes\":{\"line_color\":\"#1f77b3\",\"line_width\":2,\"x\":{\"field\":\"x\"},\"y\":{\"field\":\"y\"}},\"id\":\"31809\",\"type\":\"Line\"},{\"attributes\":{\"text\":\"with ATP Synthase, ATP Use\"},\"id\":\"31775\",\"type\":\"Title\"},{\"attributes\":{},\"id\":\"32836\",\"type\":\"UnionRenderers\"},{\"attributes\":{\"callback\":null},\"id\":\"31872\",\"type\":\"DataRange1d\"},{\"attributes\":{\"source\":{\"id\":\"31808\",\"type\":\"ColumnDataSource\"}},\"id\":\"31812\",\"type\":\"CDSView\"},{\"attributes\":{},\"id\":\"31815\",\"type\":\"BasicTickFormatter\"},{\"attributes\":{\"callback\":null},\"id\":\"31777\",\"type\":\"DataRange1d\"},{\"attributes\":{\"click_policy\":\"hide\",\"items\":[{\"id\":\"31820\",\"type\":\"LegendItem\"},{\"id\":\"31834\",\"type\":\"LegendItem\"},{\"id\":\"31850\",\"type\":\"LegendItem\"},{\"id\":\"31868\",\"type\":\"LegendItem\"}],\"location\":\"bottom_right\"},\"id\":\"31819\",\"type\":\"Legend\"},{\"attributes\":{},\"id\":\"31781\",\"type\":\"LinearScale\"},{\"attributes\":{\"label\":{\"value\":\"atp\"},\"renderers\":[{\"id\":\"35046\",\"type\":\"GlyphRenderer\"}]},\"id\":\"35055\",\"type\":\"LegendItem\"},{\"attributes\":{\"bottom_units\":\"screen\",\"fill_alpha\":{\"value\":0.5},\"fill_color\":{\"value\":\"lightgrey\"},\"left_units\":\"screen\",\"level\":\"overlay\",\"line_alpha\":{\"value\":1.0},\"line_color\":{\"value\":\"black\"},\"line_dash\":[4,4],\"line_width\":{\"value\":2},\"render_mode\":\"css\",\"right_units\":\"screen\",\"top_units\":\"screen\"},\"id\":\"31818\",\"type\":\"BoxAnnotation\"},{\"attributes\":{\"callback\":null},\"id\":\"31874\",\"type\":\"DataRange1d\"},{\"attributes\":{},\"id\":\"31817\",\"type\":\"BasicTickFormatter\"},{\"attributes\":{},\"id\":\"31876\",\"type\":\"LinearScale\"},{\"attributes\":{\"line_color\":\"#2ba02b\",\"line_width\":2,\"x\":{\"field\":\"x\"},\"y\":{\"field\":\"y\"}},\"id\":\"35071\",\"type\":\"Line\"},{\"attributes\":{\"callback\":null},\"id\":\"31779\",\"type\":\"DataRange1d\"},{\"attributes\":{},\"id\":\"31878\",\"type\":\"LinearScale\"},{\"attributes\":{\"label\":{\"value\":\"atp\"},\"renderers\":[{\"id\":\"31811\",\"type\":\"GlyphRenderer\"}]},\"id\":\"31820\",\"type\":\"LegendItem\"},{\"attributes\":{\"data_source\":{\"id\":\"35070\",\"type\":\"ColumnDataSource\"},\"glyph\":{\"id\":\"35071\",\"type\":\"Line\"},\"hover_glyph\":null,\"muted_glyph\":null,\"nonselection_glyph\":{\"id\":\"35072\",\"type\":\"Line\"},\"selection_glyph\":null,\"view\":{\"id\":\"35074\",\"type\":\"CDSView\"}},\"id\":\"35073\",\"type\":\"GlyphRenderer\"},{\"attributes\":{},\"id\":\"31783\",\"type\":\"LinearScale\"},{\"attributes\":{\"callback\":null,\"data\":{\"x\":{\"__ndarray__\":\"AAAAAAAAAABIzNsZEvNzQEjM2xkS84NAbLLJJpvsjUBIzNsZEvOTQFq/UqDW75hAbLLJJpvsnUC/UqDWr3ShQEjM2xkS86NA0UUXXXRxpkBav1Kg1u+oQOM4juM4bqtAbLLJJpvsrUD6lQK1fjWwQL9SoNavdLFAhA8++OCzskBIzNsZEvOzQAyJeTtDMrVA0UUXXXRxtkCWArV+pbC3QFq/UqDW77hAHnzwwQcvukDjOI7jOG67QKj1KwVqrbxAbLLJJpvsvUAwb2dIzCu/QPqVArV+NcBAXXTRRRfVwEC/UqDWr3TBQCExb2dIFMJAhA8++OCzwkDm7QyJeVPDQEjM2xkS88NAqqqqqqqSxEAMiXk7QzLFQG9nSMzb0cVA0UUXXXRxxkAzJObtDBHHQJYCtX6lsMdA+OCDDz5QyEBav1Kg1u/IQLydITFvj8lAHnzwwQcvykCBWr9SoM7KQOM4juM4bstARRdddNENzECo9SsFaq3MQArU+pUCTc1AbLLJJpvszUDOkJi3M4zOQDBvZ0jMK89Ak0022WTLz0D6lQK1fjXQQCwFav1KhdBAXXTRRRfV0ECO4ziO4yTRQL9SoNavdNFA8MEHH3zE0UAhMW9nSBTSQFKg1q8UZNJAhA8++OCz0kC1fqVArQPTQObtDIl5U9NAF1100UWj00BIzNsZEvPTQHk7Q2LeQtRAqqqqqqqS1EDbGRLzduLUQAyJeTtDMtVAPvjggw+C1UBvZ0jM29HVQKDWrxSoIdZA0UUXXXRx1kACtX6lQMHWQDMk5u0MEddAZJNNNtlg10CWArV+pbDXQMdxHMdxANhA+OCDDz5Q2EApUOtXCqDYQFq/UqDW79hAiy666KI/2UC8nSExb4/ZQO0MiXk739lAHnzwwQcv2kBQ61cK1H7aQIFav1KgztpAsskmm2we20DjOI7jOG7bQBSo9SsFvttARRdddNEN3EB2hsS8nV3cQKj1KwVqrdxA2WSTTTb93EAK1PqVAk3dQDtDYt7OnN1AbLLJJpvs3UCdITFvZzzeQM6QmLczjN5AAAAAAADc3kA=\",\"dtype\":\"float64\",\"shape\":[100]},\"y\":{\"__ndarray__\":\"AAAAAAAAJEDv93xvTMSmvUDF0m8UD5U9jNtRYm8mjbzkuW5SmyKlvDS6/KNTaRQ9FjkwxqC6sL1KdQVE002UvV1UC6i0ZTA+cO3yQoKB6T0A0M6/9Z+rvYIqDVW+sUQ+cmeVV/jVpzzk7nNwQeCFvGP5Z/rNFLY8KzP1Lxpj8rzpbiMGJ5ObPPBJH+0TdWC8+NQjNxxTNzzIQc4sB1w7vPk4k9fGyLk81b8eiNJcfLwgLrixEsa3PHhm4zP7/P681bngQwQqVj1c/KYyWLmQvRH/FQRcRaC987SMDFqHob3IFzplaOHOPVoIPnUrDvI9kD/lcxNxJT7AucUX0xy7vQZdUYQ8QRO+jwesieeYAb46xSQ256HjvcA0QlYmeMC9/irrE9Pc+L20bDkw2sclPsxffiOB8+s8Xm8ilMQmNjz4TuI4bwpqPH2UbRIC8vG7sCUD7Ud9VbyYHG3t09QBvMhjbwY3EWq7wGa2IIe2cTv25qezuXSoO3jH0jRCN7c7zCQG/1Us0rujrM1nyrPwO9JkXth147g7tQq4/13hwruZjhb4k3mcO2lZ3BokSOq6K6bXTna1+jo6iCcnatfput6Mc07WG5s6SHvxS/a5ULqDWV1QIc5FOib3yzsethm6qj23imPD1rmQVl86x5rQuZOZBsWA3cm5UNJmW/LMF7rn44UVlb5SOht+B3NXlkW6jiVTIu8IQDpJL4kQQ8gnuti9CoVAk/U58jeYNCLHArkw/fwJ7AjyONDU8VMg9yY5jNZGpzn2Djn0xBCkLSorORgqehL8vD25GCM4zL5NTTmQ4LJnle1VuahYswV8wIE5oHj7APIzmLmozrSJ6wSzOSC0Kr0tKs25nHuxl9XQ5TkYlPw/fxQAuih99g3DoBM6rDJ8Brq3Dzqv2igb4WcSunCEfqZ2aQo6IqvbcKzFGDqitA16OnYEOoLtProh1RY6GqG+7Q0OI7o4Vm1cNdkEOpRQYNRMPCg6YI8/A4FsNLrokpHxKD51OuP8rY+Qen66wHWv+rFZY7rsjtiVsjyqOsSj5EZ9zMi6+swo+4X2yjo=\",\"dtype\":\"float64\",\"shape\":[100]}},\"selected\":{\"id\":\"31848\",\"type\":\"Selection\"},\"selection_policy\":{\"id\":\"31847\",\"type\":\"UnionRenderers\"}},\"id\":\"31821\",\"type\":\"ColumnDataSource\"},{\"attributes\":{\"axis_label\":\"time\",\"formatter\":{\"id\":\"31910\",\"type\":\"BasicTickFormatter\"},\"ticker\":{\"id\":\"31881\",\"type\":\"BasicTicker\"}},\"id\":\"31880\",\"type\":\"LinearAxis\"},{\"attributes\":{\"dimension\":1,\"ticker\":{\"id\":\"31886\",\"type\":\"BasicTicker\"}},\"id\":\"31889\",\"type\":\"Grid\"},{\"attributes\":{},\"id\":\"31796\",\"type\":\"WheelZoomTool\"},{\"attributes\":{\"axis_label\":\"time\",\"formatter\":{\"id\":\"31815\",\"type\":\"BasicTickFormatter\"},\"ticker\":{\"id\":\"31786\",\"type\":\"BasicTicker\"}},\"id\":\"31785\",\"type\":\"LinearAxis\"},{\"attributes\":{\"line_color\":\"#ff7e0e\",\"line_width\":2,\"x\":{\"field\":\"x\"},\"y\":{\"field\":\"y\"}},\"id\":\"31822\",\"type\":\"Line\"},{\"attributes\":{},\"id\":\"31881\",\"type\":\"BasicTicker\"},{\"attributes\":{\"axis_label\":\"concentration\",\"formatter\":{\"id\":\"31817\",\"type\":\"BasicTickFormatter\"},\"ticker\":{\"id\":\"31791\",\"type\":\"BasicTicker\"}},\"id\":\"31790\",\"type\":\"LinearAxis\"},{\"attributes\":{\"ticker\":{\"id\":\"31881\",\"type\":\"BasicTicker\"}},\"id\":\"31884\",\"type\":\"Grid\"},{\"attributes\":{\"line_alpha\":0.1,\"line_color\":\"#1f77b4\",\"line_width\":2,\"x\":{\"field\":\"x\"},\"y\":{\"field\":\"y\"}},\"id\":\"31823\",\"type\":\"Line\"},{\"attributes\":{},\"id\":\"31886\",\"type\":\"BasicTicker\"},{\"attributes\":{\"data_source\":{\"id\":\"31821\",\"type\":\"ColumnDataSource\"},\"glyph\":{\"id\":\"31822\",\"type\":\"Line\"},\"hover_glyph\":null,\"muted_glyph\":null,\"nonselection_glyph\":{\"id\":\"31823\",\"type\":\"Line\"},\"selection_glyph\":null,\"view\":{\"id\":\"31825\",\"type\":\"CDSView\"}},\"id\":\"31824\",\"type\":\"GlyphRenderer\"},{\"attributes\":{\"axis_label\":\"concentration\",\"formatter\":{\"id\":\"31912\",\"type\":\"BasicTickFormatter\"},\"ticker\":{\"id\":\"31886\",\"type\":\"BasicTicker\"}},\"id\":\"31885\",\"type\":\"LinearAxis\"},{\"attributes\":{\"line_alpha\":0.1,\"line_color\":\"#1f77b4\",\"line_width\":2,\"x\":{\"field\":\"x\"},\"y\":{\"field\":\"y\"}},\"id\":\"35045\",\"type\":\"Line\"},{\"attributes\":{\"callback\":null,\"data\":{\"x\":{\"__ndarray__\":\"AAAAAAAAAABIzNsZEvNzQEjM2xkS84NAbLLJJpvsjUBIzNsZEvOTQFq/UqDW75hAbLLJJpvsnUC/UqDWr3ShQEjM2xkS86NA0UUXXXRxpkBav1Kg1u+oQOM4juM4bqtAbLLJJpvsrUD6lQK1fjWwQL9SoNavdLFAhA8++OCzskBIzNsZEvOzQAyJeTtDMrVA0UUXXXRxtkCWArV+pbC3QFq/UqDW77hAHnzwwQcvukDjOI7jOG67QKj1KwVqrbxAbLLJJpvsvUAwb2dIzCu/QPqVArV+NcBAXXTRRRfVwEC/UqDWr3TBQCExb2dIFMJAhA8++OCzwkDm7QyJeVPDQEjM2xkS88NAqqqqqqqSxEAMiXk7QzLFQG9nSMzb0cVA0UUXXXRxxkAzJObtDBHHQJYCtX6lsMdA+OCDDz5QyEBav1Kg1u/IQLydITFvj8lAHnzwwQcvykCBWr9SoM7KQOM4juM4bstARRdddNENzECo9SsFaq3MQArU+pUCTc1AbLLJJpvszUDOkJi3M4zOQDBvZ0jMK89Ak0022WTLz0D6lQK1fjXQQCwFav1KhdBAXXTRRRfV0ECO4ziO4yTRQL9SoNavdNFA8MEHH3zE0UAhMW9nSBTSQFKg1q8UZNJAhA8++OCz0kC1fqVArQPTQObtDIl5U9NAF1100UWj00BIzNsZEvPTQHk7Q2LeQtRAqqqqqqqS1EDbGRLzduLUQAyJeTtDMtVAPvjggw+C1UBvZ0jM29HVQKDWrxSoIdZA0UUXXXRx1kACtX6lQMHWQDMk5u0MEddAZJNNNtlg10CWArV+pbDXQMdxHMdxANhA+OCDDz5Q2EApUOtXCqDYQFq/UqDW79hAiy666KI/2UC8nSExb4/ZQO0MiXk739lAHnzwwQcv2kBQ61cK1H7aQIFav1KgztpAsskmm2we20DjOI7jOG7bQBSo9SsFvttARRdddNEN3EB2hsS8nV3cQKj1KwVqrdxA2WSTTTb93EAK1PqVAk3dQDtDYt7OnN1AbLLJJpvs3UCdITFvZzzeQM6QmLczjN5AAAAAAADc3kA=\",\"dtype\":\"float64\",\"shape\":[100]},\"y\":{\"__ndarray__\":\"AAAAAAAAAADJFgAAAAAkQH71/////yNACQAAAAAAJEAIAAAAAAAkQP7//////yNAfiEAAAAAJEAzCgAAAAAkQKM03////yNA9Gf+////I0CsGwAAAAAkQBA5rf///yNADQAAAAAAJEANAAAAAAAkQA0AAAAAACRADQAAAAAAJEALAAAAAAAkQAsAAAAAACRACwAAAAAAJEALAAAAAAAkQAoAAAAAACRACgAAAAAAJEAKAAAAAAAkQA4AAAAAACRAWP//////I0BmCAAAAAAkQE4QAAAAACRAkBEAAAAAJECEhP////8jQES+/f///yNA9o7q////I0BENgAAAAAkQKigCQAAACRARGYEAAAAJEAoOgEAAAAkQOlBAAAAACRAoxsDAAAAJEAuOOr///8jQAcAAAAAACRACQAAAAAAJEAJAAAAAAAkQAkAAAAAACRACQAAAAAAJEAJAAAAAAAkQAkAAAAAACRACQAAAAAAJEAJAAAAAAAkQAkAAAAAACRACQAAAAAAJEAJAAAAAAAkQAkAAAAAACRACQAAAAAAJEAJAAAAAAAkQAkAAAAAACRACQAAAAAAJEAJAAAAAAAkQAkAAAAAACRACQAAAAAAJEAJAAAAAAAkQAkAAAAAACRACQAAAAAAJEAJAAAAAAAkQAkAAAAAACRACQAAAAAAJEAJAAAAAAAkQAkAAAAAACRACQAAAAAAJEAJAAAAAAAkQAkAAAAAACRACQAAAAAAJEAJAAAAAAAkQAkAAAAAACRACQAAAAAAJEAJAAAAAAAkQAkAAAAAACRACQAAAAAAJEAJAAAAAAAkQAkAAAAAACRACQAAAAAAJEAJAAAAAAAkQAkAAAAAACRACQAAAAAAJEAJAAAAAAAkQAkAAAAAACRACQAAAAAAJEAJAAAAAAAkQAkAAAAAACRACQAAAAAAJEAJAAAAAAAkQAkAAAAAACRACQAAAAAAJEAJAAAAAAAkQAkAAAAAACRACQAAAAAAJEAJAAAAAAAkQAkAAAAAACRACQAAAAAAJEAJAAAAAAAkQAkAAAAAACRACQAAAAAAJEA=\",\"dtype\":\"float64\",\"shape\":[100]}},\"selected\":{\"id\":\"31866\",\"type\":\"Selection\"},\"selection_policy\":{\"id\":\"31865\",\"type\":\"UnionRenderers\"}},\"id\":\"31835\",\"type\":\"ColumnDataSource\"},{\"attributes\":{\"dimension\":1,\"ticker\":{\"id\":\"31791\",\"type\":\"BasicTicker\"}},\"id\":\"31794\",\"type\":\"Grid\"},{\"attributes\":{\"line_color\":\"#1f77b3\",\"line_width\":2,\"x\":{\"field\":\"x\"},\"y\":{\"field\":\"y\"}},\"id\":\"31904\",\"type\":\"Line\"},{\"attributes\":{\"source\":{\"id\":\"31821\",\"type\":\"ColumnDataSource\"}},\"id\":\"31825\",\"type\":\"CDSView\"},{\"attributes\":{},\"id\":\"31798\",\"type\":\"SaveTool\"},{\"attributes\":{\"callback\":null,\"data\":{\"x\":{\"__ndarray__\":\"AAAAAAAAAABIzNsZEvNzQEjM2xkS84NAbLLJJpvsjUBIzNsZEvOTQFq/UqDW75hAbLLJJpvsnUC/UqDWr3ShQEjM2xkS86NA0UUXXXRxpkBav1Kg1u+oQOM4juM4bqtAbLLJJpvsrUD6lQK1fjWwQL9SoNavdLFAhA8++OCzskBIzNsZEvOzQAyJeTtDMrVA0UUXXXRxtkCWArV+pbC3QFq/UqDW77hAHnzwwQcvukDjOI7jOG67QKj1KwVqrbxAbLLJJpvsvUAwb2dIzCu/QPqVArV+NcBAXXTRRRfVwEC/UqDWr3TBQCExb2dIFMJAhA8++OCzwkDm7QyJeVPDQEjM2xkS88NAqqqqqqqSxEAMiXk7QzLFQG9nSMzb0cVA0UUXXXRxxkAzJObtDBHHQJYCtX6lsMdA+OCDDz5QyEBav1Kg1u/IQLydITFvj8lAHnzwwQcvykCBWr9SoM7KQOM4juM4bstARRdddNENzECo9SsFaq3MQArU+pUCTc1AbLLJJpvszUDOkJi3M4zOQDBvZ0jMK89Ak0022WTLz0D6lQK1fjXQQCwFav1KhdBAXXTRRRfV0ECO4ziO4yTRQL9SoNavdNFA8MEHH3zE0UAhMW9nSBTSQFKg1q8UZNJAhA8++OCz0kC1fqVArQPTQObtDIl5U9NAF1100UWj00BIzNsZEvPTQHk7Q2LeQtRAqqqqqqqS1EDbGRLzduLUQAyJeTtDMtVAPvjggw+C1UBvZ0jM29HVQKDWrxSoIdZA0UUXXXRx1kACtX6lQMHWQDMk5u0MEddAZJNNNtlg10CWArV+pbDXQMdxHMdxANhA+OCDDz5Q2EApUOtXCqDYQFq/UqDW79hAiy666KI/2UC8nSExb4/ZQO0MiXk739lAHnzwwQcv2kBQ61cK1H7aQIFav1KgztpAsskmm2we20DjOI7jOG7bQBSo9SsFvttARRdddNEN3EB2hsS8nV3cQKj1KwVqrdxA2WSTTTb93EAK1PqVAk3dQDtDYt7OnN1AbLLJJpvs3UCdITFvZzzeQM6QmLczjN5AAAAAAADc3kA=\",\"dtype\":\"float64\",\"shape\":[100]},\"y\":{\"__ndarray__\":\"AAAAAAAAJEBxWthsUScAvGv5U1eTFOq7+ay/AKx/RLujyo0Qzd0yu87Vwpc0dIu6vSK8husuirqsb7V1oumIup28rmRZpIe6jQmoUxBfhrp9VqFCxxmFumyjmjF+1IO6XPCTIDWPgrpNPY0P7EmBujyKhv6iBIC6WK7/2rN+fbo4SPK4IfR6uhji5JaPaXi6+HvXdP3edbrWFcpSa1RzurevvDDZyXC6L5NeHY5+bLruxkPZaWlnuqv6KJVFVGK62lwcokJ+WrpexOYZ+lNQuoOvxEbGpji6O6XD3KLItznW2YRnrau2OXEORvK3jrU5CkMHfcJxtDmld8gHzVSzOUCsiZLXN7I52+BKHeIasTnsKhhQ2fuvOR6UmmXuwa05VP0cewOIqzmKZp+QGE6pOb3PIaYtFKc58jiku0LapDkooibRV6CiOV4LqeZsZqA5KelW+ANZnDmOu1sjLuWXOfqNYE5YcZM5y8DK8gT7jTmVZdRIWROFOdkUvD1bV3g5IXo9pw8gWjl4tzsviHnZOGB9qgB4W9k4SEMZ0mc92TgvCYijVx/ZOBbP9nRHAdk4/pRlRjfj2DjmWtQXJ8XYOMwgQ+kWp9g4tOaxugaJ2DicrCCM9mrYOIJyj13mTNg4ajj+LtYu2DhR/mwAxhDYODnE29G18tc4IIpKo6XU1zgIULl0lbbXOO8VKEaFmNc41tuWF3V61zi+oQXpZFzXOKZndLpUPtc4jC3ji0Qg1zhz81FdNALXOFu5wC4k5NY4Q38vABTG1jgqRZ7RA6jWOBELDaPzidY4+dB7dONr1jjglupF003WOMdcWRfDL9Y4ryLI6LIR1jiX6Da6ovPVOH6upYuS1dU4ZHQUXYK31ThNOoMucpnVODUA8v9he9U4HMZg0VFd1TgCjM+iQT/VOOpRPnQxIdU40RetRSED1Ti53RsXEeXUOKCjiugAx9Q4iGn5ufCo1DhvL2iL4IrUOFb11lzQbNQ4PrtFLsBO1DglgbT/rzDUOAxHI9GfEtQ49AySoo/00zjb0gB0f9bTOMOYb0VvuNM4ql7eFl+a0zg=\",\"dtype\":\"float64\",\"shape\":[100]}},\"selected\":{\"id\":\"32840\",\"type\":\"Selection\"},\"selection_policy\":{\"id\":\"32839\",\"type\":\"UnionRenderers\"}},\"id\":\"31903\",\"type\":\"ColumnDataSource\"},{\"attributes\":{\"line_alpha\":0.1,\"line_color\":\"#1f77b4\",\"line_width\":2,\"x\":{\"field\":\"x\"},\"y\":{\"field\":\"y\"}},\"id\":\"31810\",\"type\":\"Line\"},{\"attributes\":{},\"id\":\"31832\",\"type\":\"Selection\"},{\"attributes\":{\"label\":{\"value\":\"outside_H\"},\"renderers\":[{\"id\":\"31824\",\"type\":\"GlyphRenderer\"}]},\"id\":\"31834\",\"type\":\"LegendItem\"},{\"attributes\":{\"active_drag\":\"auto\",\"active_inspect\":\"auto\",\"active_multi\":null,\"active_scroll\":\"auto\",\"active_tap\":\"auto\",\"tools\":[{\"id\":\"31890\",\"type\":\"PanTool\"},{\"id\":\"31891\",\"type\":\"WheelZoomTool\"},{\"id\":\"31892\",\"type\":\"BoxZoomTool\"},{\"id\":\"31893\",\"type\":\"SaveTool\"},{\"id\":\"31894\",\"type\":\"ResetTool\"},{\"id\":\"31895\",\"type\":\"HelpTool\"}]},\"id\":\"31896\",\"type\":\"Toolbar\"},{\"attributes\":{\"label\":{\"value\":\"inside_H\"},\"renderers\":[{\"id\":\"35073\",\"type\":\"GlyphRenderer\"}]},\"id\":\"35085\",\"type\":\"LegendItem\"},{\"attributes\":{\"ticker\":{\"id\":\"31786\",\"type\":\"BasicTicker\"}},\"id\":\"31789\",\"type\":\"Grid\"},{\"attributes\":{\"data_source\":{\"id\":\"31903\",\"type\":\"ColumnDataSource\"},\"glyph\":{\"id\":\"31904\",\"type\":\"Line\"},\"hover_glyph\":null,\"muted_glyph\":null,\"nonselection_glyph\":{\"id\":\"31905\",\"type\":\"Line\"},\"selection_glyph\":null,\"view\":{\"id\":\"31907\",\"type\":\"CDSView\"}},\"id\":\"31906\",\"type\":\"GlyphRenderer\"},{\"attributes\":{},\"id\":\"31831\",\"type\":\"UnionRenderers\"},{\"attributes\":{},\"id\":\"31791\",\"type\":\"BasicTicker\"},{\"attributes\":{\"line_color\":\"#2ba02b\",\"line_width\":2,\"x\":{\"field\":\"x\"},\"y\":{\"field\":\"y\"}},\"id\":\"31836\",\"type\":\"Line\"},{\"attributes\":{},\"id\":\"31890\",\"type\":\"PanTool\"},{\"attributes\":{\"line_alpha\":0.1,\"line_color\":\"#1f77b4\",\"line_width\":2,\"x\":{\"field\":\"x\"},\"y\":{\"field\":\"y\"}},\"id\":\"35072\",\"type\":\"Line\"},{\"attributes\":{},\"id\":\"31891\",\"type\":\"WheelZoomTool\"},{\"attributes\":{},\"id\":\"31786\",\"type\":\"BasicTicker\"},{\"attributes\":{\"line_alpha\":0.1,\"line_color\":\"#1f77b4\",\"line_width\":2,\"x\":{\"field\":\"x\"},\"y\":{\"field\":\"y\"}},\"id\":\"31837\",\"type\":\"Line\"},{\"attributes\":{\"overlay\":{\"id\":\"31913\",\"type\":\"BoxAnnotation\"}},\"id\":\"31892\",\"type\":\"BoxZoomTool\"},{\"attributes\":{\"data_source\":{\"id\":\"31835\",\"type\":\"ColumnDataSource\"},\"glyph\":{\"id\":\"31836\",\"type\":\"Line\"},\"hover_glyph\":null,\"muted_glyph\":null,\"nonselection_glyph\":{\"id\":\"31837\",\"type\":\"Line\"},\"selection_glyph\":null,\"view\":{\"id\":\"31839\",\"type\":\"CDSView\"}},\"id\":\"31838\",\"type\":\"GlyphRenderer\"},{\"attributes\":{},\"id\":\"31795\",\"type\":\"PanTool\"},{\"attributes\":{\"callback\":null,\"data\":{\"x\":{\"__ndarray__\":\"AAAAAAAAAABIzNsZEvNzQEjM2xkS84NAbLLJJpvsjUBIzNsZEvOTQFq/UqDW75hAbLLJJpvsnUC/UqDWr3ShQEjM2xkS86NA0UUXXXRxpkBav1Kg1u+oQOM4juM4bqtAbLLJJpvsrUD6lQK1fjWwQL9SoNavdLFAhA8++OCzskBIzNsZEvOzQAyJeTtDMrVA0UUXXXRxtkCWArV+pbC3QFq/UqDW77hAHnzwwQcvukDjOI7jOG67QKj1KwVqrbxAbLLJJpvsvUAwb2dIzCu/QPqVArV+NcBAXXTRRRfVwEC/UqDWr3TBQCExb2dIFMJAhA8++OCzwkDm7QyJeVPDQEjM2xkS88NAqqqqqqqSxEAMiXk7QzLFQG9nSMzb0cVA0UUXXXRxxkAzJObtDBHHQJYCtX6lsMdA+OCDDz5QyEBav1Kg1u/IQLydITFvj8lAHnzwwQcvykCBWr9SoM7KQOM4juM4bstARRdddNENzECo9SsFaq3MQArU+pUCTc1AbLLJJpvszUDOkJi3M4zOQDBvZ0jMK89Ak0022WTLz0D6lQK1fjXQQCwFav1KhdBAXXTRRRfV0ECO4ziO4yTRQL9SoNavdNFA8MEHH3zE0UAhMW9nSBTSQFKg1q8UZNJAhA8++OCz0kC1fqVArQPTQObtDIl5U9NAF1100UWj00BIzNsZEvPTQHk7Q2LeQtRAqqqqqqqS1EDbGRLzduLUQAyJeTtDMtVAPvjggw+C1UBvZ0jM29HVQKDWrxSoIdZA0UUXXXRx1kACtX6lQMHWQDMk5u0MEddAZJNNNtlg10CWArV+pbDXQMdxHMdxANhA+OCDDz5Q2EApUOtXCqDYQFq/UqDW79hAiy666KI/2UC8nSExb4/ZQO0MiXk739lAHnzwwQcv2kBQ61cK1H7aQIFav1KgztpAsskmm2we20DjOI7jOG7bQBSo9SsFvttARRdddNEN3EB2hsS8nV3cQKj1KwVqrdxA2WSTTTb93EAK1PqVAk3dQDtDYt7OnN1AbLLJJpvs3UCdITFvZzzeQM6QmLczjN5AAAAAAADc3kA=\",\"dtype\":\"float64\",\"shape\":[100]},\"y\":{\"__ndarray__\":\"AAAAAAAAAAAyBUsISg/zPxw7tPrkHgdAmygkgNTREUDilgxbF4IXQI2eeJxfrRxADztV3eivIEByF5w9O9IiQMF/F1mqwiRAdyt6Z8SFJkCSmhgirR8oQBamJH0nlClAFMXqfZ7mKkDXUO9CLRosQJrbBU+mMS1AVfEJK5ovLkDx7itsXRYvQM+maC0O6C9Aix2DhExTMEA4Z+bO3qkwQEC5SlWJ+DBACCXo5ARAMUDSEuBq+YAxQJzHwn7/uzFAron9yKHxMUAYT6JIXiIyQC4bV3unTjJAvPVYauV2MkCvstmedpsyQCTDEwCxvDJAaRopneLaMkB2JmxkUvYyQFbvB8pADzNAPGtpX+glM0DHo/VcfjozQB8p3h4zTTNApyvFljJeM0AUvCezpG0zQPhp+LytezNAvHj1rG6IM0AI6Eh5BZQzQCERWFuNnjNAeEw8EB+oM0AwG0oS0bAzQFqmpM+3uDNAM/PW1+W/M0AuuYEIbMYzQNr0drVZzDNAKuYJzLzRM0CQjuDzodYzQGW+5KwU2zNA/pwxah/fM0AJ5piqy+IzQIlN6g4i5jNAvQtBbirpM0Bfunvo6+szQKi35/Zs7jNAUDR2e7PwM0BYDpvOxPIzQMnI08ul9DNA3lQN3Vr2M0BYQAgF6PczQG+7xOhQ+TNANtEK2Jj6M0DJTzrVwvszQAKZYZzR/DNAK/idqcf9M0DVUfM+p/4zQBs4nmly/zNARCfmBisANEDsDXvI0gA0QKsscjhrATRA2fLmvPUBNEArhkObcwI0QDB/OfvlAjRA5zx46U0DNEAz4yRarAM0QGNEGSsCBDRAgFDwJVAENEBOsdwBlwQ0QPYiVWXXBDRAXKKb5xEFNEBGGyISRwU0QB6tzWF3BTRA5WIdSKMFNEAqYzIsywU0QJafv2vvBTRAwDHtWxAGNECgsxxKLgY0QJw5n3xJBjRAiYJZM2IGNEBqPFmoeAY0QHnOYBCNBjRAwR9em58GNECrqOB0sAY0QD1QfMS/BjRAfocsrs0GNEDEFKJS2gY0QGDajs/lBjRAhOrtP/AGNEA=\",\"dtype\":\"float64\",\"shape\":[100]}},\"selected\":{\"id\":\"32837\",\"type\":\"Selection\"},\"selection_policy\":{\"id\":\"32836\",\"type\":\"UnionRenderers\"}},\"id\":\"31851\",\"type\":\"ColumnDataSource\"},{\"attributes\":{},\"id\":\"31893\",\"type\":\"SaveTool\"},{\"attributes\":{\"source\":{\"id\":\"31835\",\"type\":\"ColumnDataSource\"}},\"id\":\"31839\",\"type\":\"CDSView\"},{\"attributes\":{},\"id\":\"31894\",\"type\":\"ResetTool\"},{\"attributes\":{},\"id\":\"31847\",\"type\":\"UnionRenderers\"},{\"attributes\":{\"source\":{\"id\":\"35070\",\"type\":\"ColumnDataSource\"}},\"id\":\"35074\",\"type\":\"CDSView\"},{\"attributes\":{\"label\":{\"value\":\"inside_H\"},\"renderers\":[{\"id\":\"31838\",\"type\":\"GlyphRenderer\"}]},\"id\":\"31850\",\"type\":\"LegendItem\"},{\"attributes\":{},\"id\":\"31895\",\"type\":\"HelpTool\"},{\"attributes\":{},\"id\":\"31848\",\"type\":\"Selection\"},{\"attributes\":{\"below\":[{\"id\":\"31880\",\"type\":\"LinearAxis\"}],\"center\":[{\"id\":\"31884\",\"type\":\"Grid\"},{\"id\":\"31889\",\"type\":\"Grid\"},{\"id\":\"31914\",\"type\":\"Legend\"}],\"left\":[{\"id\":\"31885\",\"type\":\"LinearAxis\"}],\"plot_height\":350,\"plot_width\":450,\"renderers\":[{\"id\":\"31906\",\"type\":\"GlyphRenderer\"}],\"title\":{\"id\":\"31870\",\"type\":\"Title\"},\"toolbar\":{\"id\":\"31896\",\"type\":\"Toolbar\"},\"x_range\":{\"id\":\"31872\",\"type\":\"DataRange1d\"},\"x_scale\":{\"id\":\"31876\",\"type\":\"LinearScale\"},\"y_range\":{\"id\":\"31874\",\"type\":\"DataRange1d\"},\"y_scale\":{\"id\":\"31878\",\"type\":\"LinearScale\"}},\"id\":\"31869\",\"subtype\":\"Figure\",\"type\":\"Plot\"},{\"attributes\":{},\"id\":\"32837\",\"type\":\"Selection\"},{\"attributes\":{\"bottom_units\":\"screen\",\"fill_alpha\":{\"value\":0.5},\"fill_color\":{\"value\":\"lightgrey\"},\"left_units\":\"screen\",\"level\":\"overlay\",\"line_alpha\":{\"value\":1.0},\"line_color\":{\"value\":\"black\"},\"line_dash\":[4,4],\"line_width\":{\"value\":2},\"render_mode\":\"css\",\"right_units\":\"screen\",\"top_units\":\"screen\"},\"id\":\"35053\",\"type\":\"BoxAnnotation\"},{\"attributes\":{\"callback\":null,\"data\":{\"x\":{\"__ndarray__\":\"AAAAAAAAAABIzNsZEvNzQEjM2xkS84NAbLLJJpvsjUBIzNsZEvOTQFq/UqDW75hAbLLJJpvsnUC/UqDWr3ShQEjM2xkS86NA0UUXXXRxpkBav1Kg1u+oQOM4juM4bqtAbLLJJpvsrUD6lQK1fjWwQL9SoNavdLFAhA8++OCzskBIzNsZEvOzQAyJeTtDMrVA0UUXXXRxtkCWArV+pbC3QFq/UqDW77hAHnzwwQcvukDjOI7jOG67QKj1KwVqrbxAbLLJJpvsvUAwb2dIzCu/QPqVArV+NcBAXXTRRRfVwEC/UqDWr3TBQCExb2dIFMJAhA8++OCzwkDm7QyJeVPDQEjM2xkS88NAqqqqqqqSxEAMiXk7QzLFQG9nSMzb0cVA0UUXXXRxxkAzJObtDBHHQJYCtX6lsMdA+OCDDz5QyEBav1Kg1u/IQLydITFvj8lAHnzwwQcvykCBWr9SoM7KQOM4juM4bstARRdddNENzECo9SsFaq3MQArU+pUCTc1AbLLJJpvszUDOkJi3M4zOQDBvZ0jMK89Ak0022WTLz0D6lQK1fjXQQCwFav1KhdBAXXTRRRfV0ECO4ziO4yTRQL9SoNavdNFA8MEHH3zE0UAhMW9nSBTSQFKg1q8UZNJAhA8++OCz0kC1fqVArQPTQObtDIl5U9NAF1100UWj00BIzNsZEvPTQHk7Q2LeQtRAqqqqqqqS1EDbGRLzduLUQAyJeTtDMtVAPvjggw+C1UBvZ0jM29HVQKDWrxSoIdZA0UUXXXRx1kACtX6lQMHWQDMk5u0MEddAZJNNNtlg10CWArV+pbDXQMdxHMdxANhA+OCDDz5Q2EApUOtXCqDYQFq/UqDW79hAiy666KI/2UC8nSExb4/ZQO0MiXk739lAHnzwwQcv2kBQ61cK1H7aQIFav1KgztpAsskmm2we20DjOI7jOG7bQBSo9SsFvttARRdddNEN3EB2hsS8nV3cQKj1KwVqrdxA2WSTTTb93EAK1PqVAk3dQDtDYt7OnN1AbLLJJpvs3UCdITFvZzzeQM6QmLczjN5AAAAAAADc3kA=\",\"dtype\":\"float64\",\"shape\":[100]},\"y\":{\"__ndarray__\":\"AAAAAAAAJEBudeBTzoCBPfhbxBy5c3W9R6OuFeziYjykiTHLQqGgvCA+yR3S1K28Y8vx6X35db2mpFMVi/wkPWSd6wfCqrA9lpdrVDngo73Rl7+g91awPcyZ29NDGeq9TDM81qBiSj34Hj0AlOQyPblP816qDlW9WhbXzq26kT2bYS+LDLIkveQPcKAxlqs8iwK+0+KwMbzwuYHA3PA3PBhpvZCkaIe8+HDfJU7gSjywys0ATYd6vOjCZfRpBbg8UZS7EEDBCL0YRTYmEUIwPXMrMpVn+FQ9BCD5RJeoPj2gIYXNl/VevVYmQdduzIK9QIybUOsKtb0XaHOwYIucvTiY/rJIGIi9hArmKPfSXr3JxvEmFemCPZAwc3dIyVa9NHnnpv7Ggz3kUNSwQUe7vYt+aone1W89Po3XsjBLOD1CPHPfsbJoPW+FUfpTsNC8+hSqfn0SUb10SwDcCZL3vDL0Upwj/JK8AFCW4C4OjTxAXDcoAT3kPHVI8FzYfvQ8BE2OWjUIEL3gANH6NSIsPU8XcBSTffM8ABvcykyO/bxdo9zx8CnSPNqIlfU/6Um81MrOPqK4Zjy3i2l3hFM/vKSv3UuTauW7linwHSdM0rsznTJPYZ2qO3yqvn2A1W47qzeFdv0kPTtxakHHCocWu6CoweNyUem6KOSTCnze5zpAZiEUDKDeOrYWGB8g08S6I0UYeskxyjolyjplnXG6uvhVhBGflos66E1h3q7txLkQAKo7fl31uagMyjdYTDY6lCzUviPUP7qGzmhnA5BVOkSUTS5VR2e6ePLbCJ2KeTokYevhGCCDutjvittE+K06cMVy3idXxLpIaMwsYsHfOjRBvaTGKfi6uKaj0eTwETuosO0o1T8qu8gAkwHbxT87ohaNL8fkOTvypnn2yd09uy2JSaYeDzU7NbRt9ZkGRDtwZGUc0LYvO9ydsNYwJ0M7PXy3Mk7uT7sYrZGeG80xO6CUTx2PhVQ7EA5hkRZEYbsUPtP6NNahOzv7r2IGfKm7QB2oKRKEkLtUV2onRPTVO5SQn6izrvS72KfYQ85h9js=\",\"dtype\":\"float64\",\"shape\":[100]}},\"selected\":{\"id\":\"31832\",\"type\":\"Selection\"},\"selection_policy\":{\"id\":\"31831\",\"type\":\"UnionRenderers\"}},\"id\":\"31808\",\"type\":\"ColumnDataSource\"},{\"attributes\":{\"source\":{\"id\":\"31903\",\"type\":\"ColumnDataSource\"}},\"id\":\"31907\",\"type\":\"CDSView\"},{\"attributes\":{},\"id\":\"36027\",\"type\":\"UnionRenderers\"},{\"attributes\":{\"data_source\":{\"id\":\"35043\",\"type\":\"ColumnDataSource\"},\"glyph\":{\"id\":\"35044\",\"type\":\"Line\"},\"hover_glyph\":null,\"muted_glyph\":null,\"nonselection_glyph\":{\"id\":\"35045\",\"type\":\"Line\"},\"selection_glyph\":null,\"view\":{\"id\":\"35047\",\"type\":\"CDSView\"}},\"id\":\"35046\",\"type\":\"GlyphRenderer\"},{\"attributes\":{\"line_color\":\"#9367bc\",\"line_width\":2,\"x\":{\"field\":\"x\"},\"y\":{\"field\":\"y\"}},\"id\":\"31852\",\"type\":\"Line\"},{\"attributes\":{\"line_color\":\"#1f77b3\",\"line_width\":2,\"x\":{\"field\":\"x\"},\"y\":{\"field\":\"y\"}},\"id\":\"35044\",\"type\":\"Line\"},{\"attributes\":{\"label\":{\"value\":\"bound atp synthase\"},\"renderers\":[{\"id\":\"31854\",\"type\":\"GlyphRenderer\"}]},\"id\":\"31868\",\"type\":\"LegendItem\"},{\"attributes\":{},\"id\":\"31910\",\"type\":\"BasicTickFormatter\"},{\"attributes\":{\"label\":{\"value\":\"atp\"},\"renderers\":[{\"id\":\"31906\",\"type\":\"GlyphRenderer\"}]},\"id\":\"31915\",\"type\":\"LegendItem\"},{\"attributes\":{\"line_alpha\":0.1,\"line_color\":\"#1f77b4\",\"line_width\":2,\"x\":{\"field\":\"x\"},\"y\":{\"field\":\"y\"}},\"id\":\"31853\",\"type\":\"Line\"},{\"attributes\":{},\"id\":\"31800\",\"type\":\"HelpTool\"},{\"attributes\":{\"items\":[{\"id\":\"31915\",\"type\":\"LegendItem\"}]},\"id\":\"31914\",\"type\":\"Legend\"},{\"attributes\":{\"data_source\":{\"id\":\"31851\",\"type\":\"ColumnDataSource\"},\"glyph\":{\"id\":\"31852\",\"type\":\"Line\"},\"hover_glyph\":null,\"muted_glyph\":null,\"nonselection_glyph\":{\"id\":\"31853\",\"type\":\"Line\"},\"selection_glyph\":null,\"view\":{\"id\":\"31855\",\"type\":\"CDSView\"}},\"id\":\"31854\",\"type\":\"GlyphRenderer\"},{\"attributes\":{\"callback\":null,\"data\":{\"x\":{\"__ndarray__\":\"AAAAAAAAAABIzNsZEvNzQEjM2xkS84NAbLLJJpvsjUBIzNsZEvOTQFq/UqDW75hAbLLJJpvsnUC/UqDWr3ShQEjM2xkS86NA0UUXXXRxpkBav1Kg1u+oQOM4juM4bqtAbLLJJpvsrUD6lQK1fjWwQL9SoNavdLFAhA8++OCzskBIzNsZEvOzQAyJeTtDMrVA0UUXXXRxtkCWArV+pbC3QFq/UqDW77hAHnzwwQcvukDjOI7jOG67QKj1KwVqrbxAbLLJJpvsvUAwb2dIzCu/QPqVArV+NcBAXXTRRRfVwEC/UqDWr3TBQCExb2dIFMJAhA8++OCzwkDm7QyJeVPDQEjM2xkS88NAqqqqqqqSxEAMiXk7QzLFQG9nSMzb0cVA0UUXXXRxxkAzJObtDBHHQJYCtX6lsMdA+OCDDz5QyEBav1Kg1u/IQLydITFvj8lAHnzwwQcvykCBWr9SoM7KQOM4juM4bstARRdddNENzECo9SsFaq3MQArU+pUCTc1AbLLJJpvszUDOkJi3M4zOQDBvZ0jMK89Ak0022WTLz0D6lQK1fjXQQCwFav1KhdBAXXTRRRfV0ECO4ziO4yTRQL9SoNavdNFA8MEHH3zE0UAhMW9nSBTSQFKg1q8UZNJAhA8++OCz0kC1fqVArQPTQObtDIl5U9NAF1100UWj00BIzNsZEvPTQHk7Q2LeQtRAqqqqqqqS1EDbGRLzduLUQAyJeTtDMtVAPvjggw+C1UBvZ0jM29HVQKDWrxSoIdZA0UUXXXRx1kACtX6lQMHWQDMk5u0MEddAZJNNNtlg10CWArV+pbDXQMdxHMdxANhA+OCDDz5Q2EApUOtXCqDYQFq/UqDW79hAiy666KI/2UC8nSExb4/ZQO0MiXk739lAHnzwwQcv2kBQ61cK1H7aQIFav1KgztpAsskmm2we20DjOI7jOG7bQBSo9SsFvttARRdddNEN3EB2hsS8nV3cQKj1KwVqrdxA2WSTTTb93EAK1PqVAk3dQDtDYt7OnN1AbLLJJpvs3UCdITFvZzzeQM6QmLczjN5AAAAAAADc3kA=\",\"dtype\":\"float64\",\"shape\":[100]},\"y\":{\"__ndarray__\":\"AAAAAAAAAAD41djuFyYjQM0luzvpwiNAnrKGOoLgI0CV/Gz/AOsjQLvHuar57yNAbwkf0dDyI0DkB7YJpfQjQGuZTXXq9SNARcJE0Nj2I0CvCiwwjvcjQHF7H0Ac+CNAyPypD474I0DkmO/l6vgjQP8LQr83+SNAI298I3j5I0A58bOkrvkjQGKhdS3d+SNAf1oRMwX6I0D1OrrWJ/ojQKxAivtF+iNABcXgVmD6I0DLwhB7d/ojQFTEf9+L+iNAf2+P5p36I0AcGAnirfojQCg8eha8+iNAZCmrvcj6I0BRMscI1PojQAHMySHe+iNAzxzTLOf6I0A25/xI7/ojQISyTZH2+iNAETdPHf36I0BFHpQBA/sjQBnFJ1AI+yNAAMjqGA37I0DJ5N9pEfsjQG5IbE8V+yNA4QuO1Bj7I0C5xgoDHPsjQLJ4lOMe+yNAukC8fSH7I0DcmwXZI/sjQDWVE/sl+yNAIPyk6Sf7I0A927epKfsjQN+jxz8r+yNAzpjbryz7I0CRlJb9LfsjQLCKOywv+yNAgNa8PjD7I0AcVcM3MfsjQDyBtRky+yNADVvC5jL7I0AyAregM/sjQKYFtUk0+yNAV3oF4zT7I0BjvzRuNfsjQNn0kuw1+yNAd4FQXzb7I0AjKIHHNvsjQNTUHiY3+yNA+QMMfDf7I0DyDRbKN/sjQAop9xA4+yNAWS5YUTj7I0CIddKLOPsjQD7B8MA4+yNAcF8x8Tj7I0BxsAYdOfsjQA6Z2EQ5+yNA9mQFaTn7I0DDreKJOfsjQJsqvqc5+yNAK2vewjn7I0D9gYPbOfsjQM+d5/E5+yNA95Q/Bjr7I0AiZLsYOvsjQGWghik6+yNAkd/IODr7I0CTFqZGOvsjQHTuPlM6+yNAJBKxXjr7I0DRdBdpOvsjQBqSinI6+yNAsacgezr7I0Ap6u2COvsjQOm0BIo6+yNAY7V1kDr7I0B4ElCWOvsjQPKPoZs6+yNAP7B2oDr7I0AZz9qkOvsjQO1B2Kg6+yNAfGN4rDr7I0AB08OvOvsjQDv5wbI6+yNAOTV7tTr7I0A=\",\"dtype\":\"float64\",\"shape\":[100]}},\"selected\":{\"id\":\"35101\",\"type\":\"Selection\"},\"selection_policy\":{\"id\":\"35100\",\"type\":\"UnionRenderers\"}},\"id\":\"35070\",\"type\":\"ColumnDataSource\"},{\"attributes\":{},\"id\":\"31799\",\"type\":\"ResetTool\"},{\"attributes\":{\"bottom_units\":\"screen\",\"fill_alpha\":{\"value\":0.5},\"fill_color\":{\"value\":\"lightgrey\"},\"left_units\":\"screen\",\"level\":\"overlay\",\"line_alpha\":{\"value\":1.0},\"line_color\":{\"value\":\"black\"},\"line_dash\":[4,4],\"line_width\":{\"value\":2},\"render_mode\":\"css\",\"right_units\":\"screen\",\"top_units\":\"screen\"},\"id\":\"31913\",\"type\":\"BoxAnnotation\"},{\"attributes\":{},\"id\":\"35050\",\"type\":\"BasicTickFormatter\"},{\"attributes\":{},\"id\":\"31912\",\"type\":\"BasicTickFormatter\"},{\"attributes\":{\"overlay\":{\"id\":\"31818\",\"type\":\"BoxAnnotation\"}},\"id\":\"31797\",\"type\":\"BoxZoomTool\"},{\"attributes\":{\"source\":{\"id\":\"31851\",\"type\":\"ColumnDataSource\"}},\"id\":\"31855\",\"type\":\"CDSView\"}],\"root_ids\":[\"36126\"]},\"title\":\"Bokeh Application\",\"version\":\"1.4.0\"}};\n",
       "  var render_items = [{\"docid\":\"dbd29f3d-1f99-4e34-8c2a-05ac718b0de6\",\"roots\":{\"36126\":\"c99c582b-d677-44d1-a21e-3df77a4a89ff\"}}];\n",
       "  root.Bokeh.embed.embed_items_notebook(docs_json, render_items);\n",
       "\n",
       "  }\n",
       "  if (root.Bokeh !== undefined) {\n",
       "    embed_document(root);\n",
       "  } else {\n",
       "    var attempts = 0;\n",
       "    var timer = setInterval(function(root) {\n",
       "      if (root.Bokeh !== undefined) {\n",
       "        clearInterval(timer);\n",
       "        embed_document(root);\n",
       "      } else {\n",
       "        attempts++;\n",
       "        if (attempts > 100) {\n",
       "          clearInterval(timer);\n",
       "          console.log(\"Bokeh: ERROR: Unable to run BokehJS code because BokehJS library is missing\");\n",
       "        }\n",
       "      }\n",
       "    }, 10, root)\n",
       "  }\n",
       "})(window);"
      ],
      "application/vnd.bokehjs_exec.v0+json": ""
     },
     "metadata": {
      "application/vnd.bokehjs_exec.v0+json": {
       "id": "36126"
      }
     },
     "output_type": "display_data"
    }
   ],
   "source": [
    "bokeh.io.show(row(p3,p_w_atp, p_no_atp))"
   ]
  },
  {
   "cell_type": "markdown",
   "metadata": {},
   "source": [
    "Cool. What's going on with the second plot. How come it looks like atp isn't being consumed?? Fix those params?? Next do temperature sensitivity."
   ]
  },
  {
   "cell_type": "code",
   "execution_count": 130,
   "metadata": {},
   "outputs": [
    {
     "name": "stdout",
     "output_type": "stream",
     "text": [
      "CPython 3.7.7\n",
      "IPython 7.13.0\n",
      "\n",
      "numpy 1.18.1\n",
      "bokeh 1.4.0\n",
      "jupyterlab 1.2.6\n",
      "scipy 1.4.1\n",
      "biocrnpyler 0.2.1\n",
      "bioscrape 1.0.0\n",
      "colorcet 2.0.2\n",
      "subsbml unknown\n"
     ]
    }
   ],
   "source": [
    "#watermark\n",
    "%reload_ext watermark\n",
    "%watermark -v -p numpy,bokeh,jupyterlab,scipy,biocrnpyler,bioscrape,colorcet,subsbml\n",
    "  "
   ]
  },
  {
   "cell_type": "code",
   "execution_count": null,
   "metadata": {},
   "outputs": [],
   "source": []
  }
 ],
 "metadata": {
  "kernelspec": {
   "display_name": "Python 3",
   "language": "python",
   "name": "python3"
  },
  "language_info": {
   "codemirror_mode": {
    "name": "ipython",
    "version": 3
   },
   "file_extension": ".py",
   "mimetype": "text/x-python",
   "name": "python",
   "nbconvert_exporter": "python",
   "pygments_lexer": "ipython3",
   "version": "3.7.7"
  }
 },
 "nbformat": 4,
 "nbformat_minor": 4
}
