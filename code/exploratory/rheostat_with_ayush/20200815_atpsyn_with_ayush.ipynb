{
 "cells": [
  {
   "cell_type": "markdown",
   "metadata": {},
   "source": [
    "# ATP Synthase with transcription temperature regulation\n",
    "---"
   ]
  },
  {
   "cell_type": "code",
   "execution_count": 1,
   "metadata": {},
   "outputs": [
    {
     "data": {
      "text/html": [
       "\n",
       "    <div class=\"bk-root\">\n",
       "        <a href=\"https://bokeh.org\" target=\"_blank\" class=\"bk-logo bk-logo-small bk-logo-notebook\"></a>\n",
       "        <span id=\"1001\">Loading BokehJS ...</span>\n",
       "    </div>"
      ]
     },
     "metadata": {},
     "output_type": "display_data"
    },
    {
     "data": {
      "application/javascript": [
       "\n",
       "(function(root) {\n",
       "  function now() {\n",
       "    return new Date();\n",
       "  }\n",
       "\n",
       "  var force = true;\n",
       "\n",
       "  if (typeof root._bokeh_onload_callbacks === \"undefined\" || force === true) {\n",
       "    root._bokeh_onload_callbacks = [];\n",
       "    root._bokeh_is_loading = undefined;\n",
       "  }\n",
       "\n",
       "  var JS_MIME_TYPE = 'application/javascript';\n",
       "  var HTML_MIME_TYPE = 'text/html';\n",
       "  var EXEC_MIME_TYPE = 'application/vnd.bokehjs_exec.v0+json';\n",
       "  var CLASS_NAME = 'output_bokeh rendered_html';\n",
       "\n",
       "  /**\n",
       "   * Render data to the DOM node\n",
       "   */\n",
       "  function render(props, node) {\n",
       "    var script = document.createElement(\"script\");\n",
       "    node.appendChild(script);\n",
       "  }\n",
       "\n",
       "  /**\n",
       "   * Handle when an output is cleared or removed\n",
       "   */\n",
       "  function handleClearOutput(event, handle) {\n",
       "    var cell = handle.cell;\n",
       "\n",
       "    var id = cell.output_area._bokeh_element_id;\n",
       "    var server_id = cell.output_area._bokeh_server_id;\n",
       "    // Clean up Bokeh references\n",
       "    if (id != null && id in Bokeh.index) {\n",
       "      Bokeh.index[id].model.document.clear();\n",
       "      delete Bokeh.index[id];\n",
       "    }\n",
       "\n",
       "    if (server_id !== undefined) {\n",
       "      // Clean up Bokeh references\n",
       "      var cmd = \"from bokeh.io.state import curstate; print(curstate().uuid_to_server['\" + server_id + \"'].get_sessions()[0].document.roots[0]._id)\";\n",
       "      cell.notebook.kernel.execute(cmd, {\n",
       "        iopub: {\n",
       "          output: function(msg) {\n",
       "            var id = msg.content.text.trim();\n",
       "            if (id in Bokeh.index) {\n",
       "              Bokeh.index[id].model.document.clear();\n",
       "              delete Bokeh.index[id];\n",
       "            }\n",
       "          }\n",
       "        }\n",
       "      });\n",
       "      // Destroy server and session\n",
       "      var cmd = \"import bokeh.io.notebook as ion; ion.destroy_server('\" + server_id + \"')\";\n",
       "      cell.notebook.kernel.execute(cmd);\n",
       "    }\n",
       "  }\n",
       "\n",
       "  /**\n",
       "   * Handle when a new output is added\n",
       "   */\n",
       "  function handleAddOutput(event, handle) {\n",
       "    var output_area = handle.output_area;\n",
       "    var output = handle.output;\n",
       "\n",
       "    // limit handleAddOutput to display_data with EXEC_MIME_TYPE content only\n",
       "    if ((output.output_type != \"display_data\") || (!output.data.hasOwnProperty(EXEC_MIME_TYPE))) {\n",
       "      return\n",
       "    }\n",
       "\n",
       "    var toinsert = output_area.element.find(\".\" + CLASS_NAME.split(' ')[0]);\n",
       "\n",
       "    if (output.metadata[EXEC_MIME_TYPE][\"id\"] !== undefined) {\n",
       "      toinsert[toinsert.length - 1].firstChild.textContent = output.data[JS_MIME_TYPE];\n",
       "      // store reference to embed id on output_area\n",
       "      output_area._bokeh_element_id = output.metadata[EXEC_MIME_TYPE][\"id\"];\n",
       "    }\n",
       "    if (output.metadata[EXEC_MIME_TYPE][\"server_id\"] !== undefined) {\n",
       "      var bk_div = document.createElement(\"div\");\n",
       "      bk_div.innerHTML = output.data[HTML_MIME_TYPE];\n",
       "      var script_attrs = bk_div.children[0].attributes;\n",
       "      for (var i = 0; i < script_attrs.length; i++) {\n",
       "        toinsert[toinsert.length - 1].firstChild.setAttribute(script_attrs[i].name, script_attrs[i].value);\n",
       "      }\n",
       "      // store reference to server id on output_area\n",
       "      output_area._bokeh_server_id = output.metadata[EXEC_MIME_TYPE][\"server_id\"];\n",
       "    }\n",
       "  }\n",
       "\n",
       "  function register_renderer(events, OutputArea) {\n",
       "\n",
       "    function append_mime(data, metadata, element) {\n",
       "      // create a DOM node to render to\n",
       "      var toinsert = this.create_output_subarea(\n",
       "        metadata,\n",
       "        CLASS_NAME,\n",
       "        EXEC_MIME_TYPE\n",
       "      );\n",
       "      this.keyboard_manager.register_events(toinsert);\n",
       "      // Render to node\n",
       "      var props = {data: data, metadata: metadata[EXEC_MIME_TYPE]};\n",
       "      render(props, toinsert[toinsert.length - 1]);\n",
       "      element.append(toinsert);\n",
       "      return toinsert\n",
       "    }\n",
       "\n",
       "    /* Handle when an output is cleared or removed */\n",
       "    events.on('clear_output.CodeCell', handleClearOutput);\n",
       "    events.on('delete.Cell', handleClearOutput);\n",
       "\n",
       "    /* Handle when a new output is added */\n",
       "    events.on('output_added.OutputArea', handleAddOutput);\n",
       "\n",
       "    /**\n",
       "     * Register the mime type and append_mime function with output_area\n",
       "     */\n",
       "    OutputArea.prototype.register_mime_type(EXEC_MIME_TYPE, append_mime, {\n",
       "      /* Is output safe? */\n",
       "      safe: true,\n",
       "      /* Index of renderer in `output_area.display_order` */\n",
       "      index: 0\n",
       "    });\n",
       "  }\n",
       "\n",
       "  // register the mime type if in Jupyter Notebook environment and previously unregistered\n",
       "  if (root.Jupyter !== undefined) {\n",
       "    var events = require('base/js/events');\n",
       "    var OutputArea = require('notebook/js/outputarea').OutputArea;\n",
       "\n",
       "    if (OutputArea.prototype.mime_types().indexOf(EXEC_MIME_TYPE) == -1) {\n",
       "      register_renderer(events, OutputArea);\n",
       "    }\n",
       "  }\n",
       "\n",
       "  \n",
       "  if (typeof (root._bokeh_timeout) === \"undefined\" || force === true) {\n",
       "    root._bokeh_timeout = Date.now() + 5000;\n",
       "    root._bokeh_failed_load = false;\n",
       "  }\n",
       "\n",
       "  var NB_LOAD_WARNING = {'data': {'text/html':\n",
       "     \"<div style='background-color: #fdd'>\\n\"+\n",
       "     \"<p>\\n\"+\n",
       "     \"BokehJS does not appear to have successfully loaded. If loading BokehJS from CDN, this \\n\"+\n",
       "     \"may be due to a slow or bad network connection. Possible fixes:\\n\"+\n",
       "     \"</p>\\n\"+\n",
       "     \"<ul>\\n\"+\n",
       "     \"<li>re-rerun `output_notebook()` to attempt to load from CDN again, or</li>\\n\"+\n",
       "     \"<li>use INLINE resources instead, as so:</li>\\n\"+\n",
       "     \"</ul>\\n\"+\n",
       "     \"<code>\\n\"+\n",
       "     \"from bokeh.resources import INLINE\\n\"+\n",
       "     \"output_notebook(resources=INLINE)\\n\"+\n",
       "     \"</code>\\n\"+\n",
       "     \"</div>\"}};\n",
       "\n",
       "  function display_loaded() {\n",
       "    var el = document.getElementById(\"1001\");\n",
       "    if (el != null) {\n",
       "      el.textContent = \"BokehJS is loading...\";\n",
       "    }\n",
       "    if (root.Bokeh !== undefined) {\n",
       "      if (el != null) {\n",
       "        el.textContent = \"BokehJS \" + root.Bokeh.version + \" successfully loaded.\";\n",
       "      }\n",
       "    } else if (Date.now() < root._bokeh_timeout) {\n",
       "      setTimeout(display_loaded, 100)\n",
       "    }\n",
       "  }\n",
       "\n",
       "\n",
       "  function run_callbacks() {\n",
       "    try {\n",
       "      root._bokeh_onload_callbacks.forEach(function(callback) {\n",
       "        if (callback != null)\n",
       "          callback();\n",
       "      });\n",
       "    } finally {\n",
       "      delete root._bokeh_onload_callbacks\n",
       "    }\n",
       "    console.debug(\"Bokeh: all callbacks have finished\");\n",
       "  }\n",
       "\n",
       "  function load_libs(css_urls, js_urls, callback) {\n",
       "    if (css_urls == null) css_urls = [];\n",
       "    if (js_urls == null) js_urls = [];\n",
       "\n",
       "    root._bokeh_onload_callbacks.push(callback);\n",
       "    if (root._bokeh_is_loading > 0) {\n",
       "      console.debug(\"Bokeh: BokehJS is being loaded, scheduling callback at\", now());\n",
       "      return null;\n",
       "    }\n",
       "    if (js_urls == null || js_urls.length === 0) {\n",
       "      run_callbacks();\n",
       "      return null;\n",
       "    }\n",
       "    console.debug(\"Bokeh: BokehJS not loaded, scheduling load and callback at\", now());\n",
       "    root._bokeh_is_loading = css_urls.length + js_urls.length;\n",
       "\n",
       "    function on_load() {\n",
       "      root._bokeh_is_loading--;\n",
       "      if (root._bokeh_is_loading === 0) {\n",
       "        console.debug(\"Bokeh: all BokehJS libraries/stylesheets loaded\");\n",
       "        run_callbacks()\n",
       "      }\n",
       "    }\n",
       "\n",
       "    function on_error() {\n",
       "      console.error(\"failed to load \" + url);\n",
       "    }\n",
       "\n",
       "    for (var i = 0; i < css_urls.length; i++) {\n",
       "      var url = css_urls[i];\n",
       "      const element = document.createElement(\"link\");\n",
       "      element.onload = on_load;\n",
       "      element.onerror = on_error;\n",
       "      element.rel = \"stylesheet\";\n",
       "      element.type = \"text/css\";\n",
       "      element.href = url;\n",
       "      console.debug(\"Bokeh: injecting link tag for BokehJS stylesheet: \", url);\n",
       "      document.body.appendChild(element);\n",
       "    }\n",
       "\n",
       "    for (var i = 0; i < js_urls.length; i++) {\n",
       "      var url = js_urls[i];\n",
       "      var element = document.createElement('script');\n",
       "      element.onload = on_load;\n",
       "      element.onerror = on_error;\n",
       "      element.async = false;\n",
       "      element.src = url;\n",
       "      console.debug(\"Bokeh: injecting script tag for BokehJS library: \", url);\n",
       "      document.head.appendChild(element);\n",
       "    }\n",
       "  };var element = document.getElementById(\"1001\");\n",
       "  if (element == null) {\n",
       "    console.error(\"Bokeh: ERROR: autoload.js configured with elementid '1001' but no matching script tag was found. \")\n",
       "    return false;\n",
       "  }\n",
       "\n",
       "  function inject_raw_css(css) {\n",
       "    const element = document.createElement(\"style\");\n",
       "    element.appendChild(document.createTextNode(css));\n",
       "    document.body.appendChild(element);\n",
       "  }\n",
       "\n",
       "  \n",
       "  var js_urls = [\"https://cdn.pydata.org/bokeh/release/bokeh-1.4.0.min.js\", \"https://cdn.pydata.org/bokeh/release/bokeh-widgets-1.4.0.min.js\", \"https://cdn.pydata.org/bokeh/release/bokeh-tables-1.4.0.min.js\", \"https://cdn.pydata.org/bokeh/release/bokeh-gl-1.4.0.min.js\"];\n",
       "  var css_urls = [];\n",
       "  \n",
       "\n",
       "  var inline_js = [\n",
       "    function(Bokeh) {\n",
       "      Bokeh.set_log_level(\"info\");\n",
       "    },\n",
       "    function(Bokeh) {\n",
       "    \n",
       "    \n",
       "    }\n",
       "  ];\n",
       "\n",
       "  function run_inline_js() {\n",
       "    \n",
       "    if (root.Bokeh !== undefined || force === true) {\n",
       "      \n",
       "    for (var i = 0; i < inline_js.length; i++) {\n",
       "      inline_js[i].call(root, root.Bokeh);\n",
       "    }\n",
       "    if (force === true) {\n",
       "        display_loaded();\n",
       "      }} else if (Date.now() < root._bokeh_timeout) {\n",
       "      setTimeout(run_inline_js, 100);\n",
       "    } else if (!root._bokeh_failed_load) {\n",
       "      console.log(\"Bokeh: BokehJS failed to load within specified timeout.\");\n",
       "      root._bokeh_failed_load = true;\n",
       "    } else if (force !== true) {\n",
       "      var cell = $(document.getElementById(\"1001\")).parents('.cell').data().cell;\n",
       "      cell.output_area.append_execute_result(NB_LOAD_WARNING)\n",
       "    }\n",
       "\n",
       "  }\n",
       "\n",
       "  if (root._bokeh_is_loading === 0) {\n",
       "    console.debug(\"Bokeh: BokehJS loaded, going straight to plotting\");\n",
       "    run_inline_js();\n",
       "  } else {\n",
       "    load_libs(css_urls, js_urls, function() {\n",
       "      console.debug(\"Bokeh: BokehJS plotting callback run at\", now());\n",
       "      run_inline_js();\n",
       "    });\n",
       "  }\n",
       "}(window));"
      ],
      "application/vnd.bokehjs_load.v0+json": "\n(function(root) {\n  function now() {\n    return new Date();\n  }\n\n  var force = true;\n\n  if (typeof root._bokeh_onload_callbacks === \"undefined\" || force === true) {\n    root._bokeh_onload_callbacks = [];\n    root._bokeh_is_loading = undefined;\n  }\n\n  \n\n  \n  if (typeof (root._bokeh_timeout) === \"undefined\" || force === true) {\n    root._bokeh_timeout = Date.now() + 5000;\n    root._bokeh_failed_load = false;\n  }\n\n  var NB_LOAD_WARNING = {'data': {'text/html':\n     \"<div style='background-color: #fdd'>\\n\"+\n     \"<p>\\n\"+\n     \"BokehJS does not appear to have successfully loaded. If loading BokehJS from CDN, this \\n\"+\n     \"may be due to a slow or bad network connection. Possible fixes:\\n\"+\n     \"</p>\\n\"+\n     \"<ul>\\n\"+\n     \"<li>re-rerun `output_notebook()` to attempt to load from CDN again, or</li>\\n\"+\n     \"<li>use INLINE resources instead, as so:</li>\\n\"+\n     \"</ul>\\n\"+\n     \"<code>\\n\"+\n     \"from bokeh.resources import INLINE\\n\"+\n     \"output_notebook(resources=INLINE)\\n\"+\n     \"</code>\\n\"+\n     \"</div>\"}};\n\n  function display_loaded() {\n    var el = document.getElementById(\"1001\");\n    if (el != null) {\n      el.textContent = \"BokehJS is loading...\";\n    }\n    if (root.Bokeh !== undefined) {\n      if (el != null) {\n        el.textContent = \"BokehJS \" + root.Bokeh.version + \" successfully loaded.\";\n      }\n    } else if (Date.now() < root._bokeh_timeout) {\n      setTimeout(display_loaded, 100)\n    }\n  }\n\n\n  function run_callbacks() {\n    try {\n      root._bokeh_onload_callbacks.forEach(function(callback) {\n        if (callback != null)\n          callback();\n      });\n    } finally {\n      delete root._bokeh_onload_callbacks\n    }\n    console.debug(\"Bokeh: all callbacks have finished\");\n  }\n\n  function load_libs(css_urls, js_urls, callback) {\n    if (css_urls == null) css_urls = [];\n    if (js_urls == null) js_urls = [];\n\n    root._bokeh_onload_callbacks.push(callback);\n    if (root._bokeh_is_loading > 0) {\n      console.debug(\"Bokeh: BokehJS is being loaded, scheduling callback at\", now());\n      return null;\n    }\n    if (js_urls == null || js_urls.length === 0) {\n      run_callbacks();\n      return null;\n    }\n    console.debug(\"Bokeh: BokehJS not loaded, scheduling load and callback at\", now());\n    root._bokeh_is_loading = css_urls.length + js_urls.length;\n\n    function on_load() {\n      root._bokeh_is_loading--;\n      if (root._bokeh_is_loading === 0) {\n        console.debug(\"Bokeh: all BokehJS libraries/stylesheets loaded\");\n        run_callbacks()\n      }\n    }\n\n    function on_error() {\n      console.error(\"failed to load \" + url);\n    }\n\n    for (var i = 0; i < css_urls.length; i++) {\n      var url = css_urls[i];\n      const element = document.createElement(\"link\");\n      element.onload = on_load;\n      element.onerror = on_error;\n      element.rel = \"stylesheet\";\n      element.type = \"text/css\";\n      element.href = url;\n      console.debug(\"Bokeh: injecting link tag for BokehJS stylesheet: \", url);\n      document.body.appendChild(element);\n    }\n\n    for (var i = 0; i < js_urls.length; i++) {\n      var url = js_urls[i];\n      var element = document.createElement('script');\n      element.onload = on_load;\n      element.onerror = on_error;\n      element.async = false;\n      element.src = url;\n      console.debug(\"Bokeh: injecting script tag for BokehJS library: \", url);\n      document.head.appendChild(element);\n    }\n  };var element = document.getElementById(\"1001\");\n  if (element == null) {\n    console.error(\"Bokeh: ERROR: autoload.js configured with elementid '1001' but no matching script tag was found. \")\n    return false;\n  }\n\n  function inject_raw_css(css) {\n    const element = document.createElement(\"style\");\n    element.appendChild(document.createTextNode(css));\n    document.body.appendChild(element);\n  }\n\n  \n  var js_urls = [\"https://cdn.pydata.org/bokeh/release/bokeh-1.4.0.min.js\", \"https://cdn.pydata.org/bokeh/release/bokeh-widgets-1.4.0.min.js\", \"https://cdn.pydata.org/bokeh/release/bokeh-tables-1.4.0.min.js\", \"https://cdn.pydata.org/bokeh/release/bokeh-gl-1.4.0.min.js\"];\n  var css_urls = [];\n  \n\n  var inline_js = [\n    function(Bokeh) {\n      Bokeh.set_log_level(\"info\");\n    },\n    function(Bokeh) {\n    \n    \n    }\n  ];\n\n  function run_inline_js() {\n    \n    if (root.Bokeh !== undefined || force === true) {\n      \n    for (var i = 0; i < inline_js.length; i++) {\n      inline_js[i].call(root, root.Bokeh);\n    }\n    if (force === true) {\n        display_loaded();\n      }} else if (Date.now() < root._bokeh_timeout) {\n      setTimeout(run_inline_js, 100);\n    } else if (!root._bokeh_failed_load) {\n      console.log(\"Bokeh: BokehJS failed to load within specified timeout.\");\n      root._bokeh_failed_load = true;\n    } else if (force !== true) {\n      var cell = $(document.getElementById(\"1001\")).parents('.cell').data().cell;\n      cell.output_area.append_execute_result(NB_LOAD_WARNING)\n    }\n\n  }\n\n  if (root._bokeh_is_loading === 0) {\n    console.debug(\"Bokeh: BokehJS loaded, going straight to plotting\");\n    run_inline_js();\n  } else {\n    load_libs(css_urls, js_urls, function() {\n      console.debug(\"Bokeh: BokehJS plotting callback run at\", now());\n      run_inline_js();\n    });\n  }\n}(window));"
     },
     "metadata": {},
     "output_type": "display_data"
    }
   ],
   "source": [
    "from biocrnpyler import *\n",
    "#from biocrnpyler.chemical_reaction_network import Species, Reaction, ComplexSpecies, Multimer\n",
    "import numpy as np\n",
    "#import pylab as plt \n",
    "#%matplotlib inline\n",
    "\n",
    "import bokeh.io\n",
    "import bokeh.plotting\n",
    "from bokeh.layouts import row\n",
    "\n",
    "bokeh.io.output_notebook()\n",
    "\n",
    "import colorcet\n",
    "\n",
    "from subsbml import createNewSubsystem, createSubsystem"
   ]
  },
  {
   "cell_type": "code",
   "execution_count": 2,
   "metadata": {},
   "outputs": [],
   "source": [
    "palette = colorcet.b_glasbey_category10\n",
    "palette.remove( '#d62628')"
   ]
  },
  {
   "cell_type": "markdown",
   "metadata": {},
   "source": [
    "## Combine at 25 C\n",
    "---"
   ]
  },
  {
   "cell_type": "code",
   "execution_count": 49,
   "metadata": {},
   "outputs": [],
   "source": [
    "# atp synthase models\n",
    "ss1_atpsyn_txtl = createSubsystem('atpsyn_25temp_machinery_txtl.xml', subsystemName = 'atpsyn_txtl')\n",
    "ss2_atpsyn_mi = createSubsystem('atpsynthase_membrane_integration.xml', subsystemName = 'atpsyn_mi')\n",
    "ss3_atpsynthesis = createSubsystem('atp_synthesis_through_atpsynthase.xml', subsystemName = 'atpsynthesis')\n",
    "ss4_atp_use = createSubsystem('atp_use.xml', subsystemName = 'atp_use')"
   ]
  },
  {
   "cell_type": "code",
   "execution_count": 50,
   "metadata": {},
   "outputs": [],
   "source": [
    "#ss5_pp_txtl = createSubsystem('proton_pump_tx_tl.xml', subsystemName = 'pp_txtl')\n",
    "ss5_pp_txtl = createSubsystem('proton_pump_25temp_machinery_txtl.xml', subsystemName = 'pp_txtl')\n",
    "ss6_pp_mi = createSubsystem('proton_pump_membrane_integration.xml', subsystemName = 'pp_mi')\n",
    "ss7_protontransport = createSubsystem('proton_transport_through_proton_pump.xml', subsystemName = 'protontransport')"
   ]
  },
  {
   "cell_type": "code",
   "execution_count": 51,
   "metadata": {},
   "outputs": [],
   "source": [
    "entire_subsystem = ss1_atpsyn_txtl + ss2_atpsyn_mi + ss3_atpsynthesis + ss4_atp_use + ss5_pp_txtl + ss6_pp_mi + ss7_protontransport"
   ]
  },
  {
   "cell_type": "code",
   "execution_count": 52,
   "metadata": {},
   "outputs": [],
   "source": [
    "# Initial conditions\n",
    "spec_list_10 = ['dna_proton_pump', 'dna_atpsyn','proton_outside_H', 'metabolite_atp','protein_RNAP_machinery', \n",
    "                'protein_Ribo_machinery', 'protein_RNAse_machinery']\n",
    "for i,spec in enumerate(spec_list_10):\n",
    "    entire_subsystem.setSpeciesAmount(spec,10)\n",
    "\n",
    "\n",
    "# timepoints and get results\n",
    "# timepoints = np.linspace(0,10,100)\n",
    "# results, _ = entire_subsystem.simulateWithBioscrape(timepoints, sbml_warnings = False)\n",
    "\n",
    "# Get species IDs\n",
    "ATP_id_25 = entire_subsystem.getSpeciesByName('metabolite_atp').getId()\n",
    "ADP_id = entire_subsystem.getSpeciesByName('metabolite_adp').getId()\n",
    "\n",
    "outside_H_id = entire_subsystem.getSpeciesByName('proton_outside_H').getId()\n",
    "inside_H_id = entire_subsystem.getSpeciesByName('proton_inside_H').getId()\n",
    "\n",
    "proton_pump_b_protein_id = entire_subsystem.getSpeciesByName('protein_proton_pump_b').getId()\n",
    "proton_pump_f_protein_id = entire_subsystem.getSpeciesByName('protein_proton_pump').getId()\n",
    "\n",
    "atp_synthase_b_protein_id = entire_subsystem.getSpeciesByName('protein_atpsyn_b').getId()\n",
    "atp_synthase_f_protein_id = entire_subsystem.getSpeciesByName('protein_atpsyn').getId()\n",
    "\n"
   ]
  },
  {
   "cell_type": "code",
   "execution_count": 55,
   "metadata": {},
   "outputs": [],
   "source": [
    "timepoints = np.linspace(0,800,100)\n",
    "results_25, _ = entire_subsystem.simulateWithBioscrape(timepoints, sbml_warnings = False)"
   ]
  },
  {
   "cell_type": "code",
   "execution_count": 56,
   "metadata": {},
   "outputs": [
    {
     "data": {
      "text/html": [
       "\n",
       "\n",
       "\n",
       "\n",
       "\n",
       "\n",
       "  <div class=\"bk-root\" id=\"ade6a3a2-35a9-44e1-ad0c-990f9b8c52bb\" data-root-id=\"5113\"></div>\n"
      ]
     },
     "metadata": {},
     "output_type": "display_data"
    },
    {
     "data": {
      "application/javascript": [
       "(function(root) {\n",
       "  function embed_document(root) {\n",
       "    \n",
       "  var docs_json = {\"62b6df4c-9ecf-4205-8d14-00f83053d89e\":{\"roots\":{\"references\":[{\"attributes\":{\"below\":[{\"id\":\"5124\",\"type\":\"LinearAxis\"}],\"center\":[{\"id\":\"5128\",\"type\":\"Grid\"},{\"id\":\"5133\",\"type\":\"Grid\"},{\"id\":\"5158\",\"type\":\"Legend\"}],\"left\":[{\"id\":\"5129\",\"type\":\"LinearAxis\"}],\"plot_height\":350,\"plot_width\":450,\"renderers\":[{\"id\":\"5150\",\"type\":\"GlyphRenderer\"},{\"id\":\"5163\",\"type\":\"GlyphRenderer\"},{\"id\":\"5177\",\"type\":\"GlyphRenderer\"},{\"id\":\"5193\",\"type\":\"GlyphRenderer\"},{\"id\":\"5211\",\"type\":\"GlyphRenderer\"}],\"title\":{\"id\":\"5114\",\"type\":\"Title\"},\"toolbar\":{\"id\":\"5140\",\"type\":\"Toolbar\"},\"x_range\":{\"id\":\"5116\",\"type\":\"DataRange1d\"},\"x_scale\":{\"id\":\"5120\",\"type\":\"LinearScale\"},\"y_range\":{\"id\":\"5118\",\"type\":\"DataRange1d\"},\"y_scale\":{\"id\":\"5122\",\"type\":\"LinearScale\"}},\"id\":\"5113\",\"subtype\":\"Figure\",\"type\":\"Plot\"},{\"attributes\":{\"text\":\"with ATP Synthase, Proton Pump, ATP Use\"},\"id\":\"5114\",\"type\":\"Title\"},{\"attributes\":{\"label\":{\"value\":\"atp\"},\"renderers\":[{\"id\":\"5150\",\"type\":\"GlyphRenderer\"}]},\"id\":\"5159\",\"type\":\"LegendItem\"},{\"attributes\":{\"callback\":null,\"data\":{\"x\":{\"__ndarray__\":\"AAAAAAAAAAB/pUCtXykgQH+lQK1fKTBAPvjggw8+OEB/pUCtXylAQN/OkJi3M0RAPvjggw8+SECeITFvZ0hMQH+lQK1fKVBAL7rooosuUkDfzpCYtzNUQI/jOI7jOFZAPvjggw8+WEDuDIl5O0NaQJ4hMW9nSFxATjbZZJNNXkB/pUCtXylgQNevFKj1K2FAL7rooosuYkCHxLydITFjQN/OkJi3M2RAN9lkk002ZUCP4ziO4zhmQOftDIl5O2dAPvjggw8+aECWArV+pUBpQO4MiXk7Q2pARhdddNFFa0CeITFvZ0hsQPYrBWr9Sm1ATjbZZJNNbkCmQK1fKVBvQH+lQK1fKXBAq6qqqqqqcEDXrxSo9StxQAO1fqVArXFAL7rooosuckBbv1Kg1q9yQIfEvJ0hMXNAs8kmm2yyc0DfzpCYtzN0QAvU+pUCtXRAN9lkk002dUBj3s6QmLd1QI/jOI7jOHZAu+iiiy66dkDn7QyJeTt3QBPzdobEvHdAPvjggw8+eEBq/UqBWr94QJYCtX6lQHlAwgcffPDBeUDuDIl5O0N6QBoS83aGxHpARhdddNFFe0ByHMdxHMd7QJ4hMW9nSHxAyiabbLLJfED2KwVq/Up9QCIxb2dIzH1ATjbZZJNNfkB6O0Ni3s5+QKZArV8pUH9A0kUXXXTRf0B/pUCtXymAQBWo9SsFaoBAq6qqqqqqgEBBrV8pUOuAQNevFKj1K4FAbbLJJptsgUADtX6lQK2BQJm3MyTm7YFAL7rooosugkDFvJ0hMW+CQFu/UqDWr4JA8cEHH3zwgkCHxLydITGDQB3HcRzHcYNAs8kmm2yyg0BJzNsZEvODQN/OkJi3M4RAddFFF110hEAL1PqVArWEQKHWrxSo9YRAN9lkk002hUDN2xkS83aFQGPezpCYt4VA+eCDDz74hUCP4ziO4ziGQCXm7QyJeYZAu+iiiy66hkBR61cK1PqGQOftDIl5O4dAffDBBx98h0AT83aGxLyHQKn1KwVq/YdAPvjggw8+iEDU+pUCtX6IQGr9SoFav4hAAAAAAAAAiUA=\",\"dtype\":\"float64\",\"shape\":[100]},\"y\":{\"__ndarray__\":\"AAAAAAAAAABxgZegJh+5Ptg64b6tI/Y+rSoxAlXQGD+YOj0A+nExP9XTplooCUM/LXIptVu4UT99L/5WoJldP32z2Hh122Y/SxB60QWjcD+ylC6nCCF3P2v6YXnc/n4/Z9yvj0QohD+twAjRx5OJP/r+eXGyyY8/ZxpxqnZokz/f0MH23VeXP4JXgFbwtZs/pzBPt65CoD/M18S5V+SiP1Ym5nwqwaU/5tbIcFTaqD86biZb/DCsP9XbxOZExq8/ndqOWKfNsT8neiT4nNizPxqHb+KTBLY/T9T0oh1SuD/UGN8qzcG6P7heHiU3VL0/w8xaG/kEwD+Oxf6Xy3HBP0B69Jfg8MI/broa3oaCxD+fAatnDifGP3Cz127I3sc/nzzXZweqyT+IrTz9HonLPyI6ZQZkfM0/u8iyeiyEzz9GuUGxZ9DQP8T/QWJS6dE/XIMSyAIN0z/4pJDCpTvUP3qgH4xoddU/xTCpqni61j9QaUDfAwvYP6F4qRQ4Z9k/3xiNTEPP2j8JKLiLU0PcPyUTlsSWw90/fwLmwTpQ3z/AC+yHtnTgP6tSQHKtR+E/zGfdgxgh4j/mU13dDQHjP/E1lk+j5+M/bWvvTu7U5D8367rmA8nlPyJSvaz4w+Y/ReU/teDF5z/m4fOFz87oPyHh6ArY3uk/fOXoiQz26j+N9yqXfhTsPyFUYAs/Ou0/eTt1+V1n7j/QGR2k6pvvPyRXY7r5a/A/z8ul+cIN8T/nuwJfV7PxPwNhQMG8XPI/OoF8e/gJ8z9PT0tqD7vzP3ssHOkFcPQ/Wf2Lz98o9T/hEM5xoOX1PzslrJtKpvY/3KUrkeBq9z9F11wNZDP4P4EqKkTW//g/SDlv3jfQ+T/63uX5iKT6P+m6Oi3JfPs/CHHAhfdY/D8G/KKIEjn9PzimMjQYHf4/B1AZAQYF/z86mb3j2PD/P3Je4aZGcABAOSXjlw/qAEDHLq39xGUBQHHUhlJk4wFA4vBJ0+piAkD9MIaAVeQCQPbNsx+hZwNA3bRxPMrsA0ATzs0pzXMEQPYKlwOm/ARA/oOyr1CHBUA=\",\"dtype\":\"float64\",\"shape\":[100]}},\"selected\":{\"id\":\"5225\",\"type\":\"Selection\"},\"selection_policy\":{\"id\":\"5226\",\"type\":\"UnionRenderers\"}},\"id\":\"5190\",\"type\":\"ColumnDataSource\"},{\"attributes\":{\"line_color\":\"#1f77b3\",\"line_width\":2,\"x\":{\"field\":\"x\"},\"y\":{\"field\":\"y\"}},\"id\":\"5148\",\"type\":\"Line\"},{\"attributes\":{\"bottom_units\":\"screen\",\"fill_alpha\":{\"value\":0.5},\"fill_color\":{\"value\":\"lightgrey\"},\"left_units\":\"screen\",\"level\":\"overlay\",\"line_alpha\":{\"value\":1.0},\"line_color\":{\"value\":\"black\"},\"line_dash\":[4,4],\"line_width\":{\"value\":2},\"render_mode\":\"css\",\"right_units\":\"screen\",\"top_units\":\"screen\"},\"id\":\"5157\",\"type\":\"BoxAnnotation\"},{\"attributes\":{},\"id\":\"5446\",\"type\":\"Selection\"},{\"attributes\":{},\"id\":\"5205\",\"type\":\"Selection\"},{\"attributes\":{},\"id\":\"5447\",\"type\":\"UnionRenderers\"},{\"attributes\":{\"active_drag\":\"auto\",\"active_inspect\":\"auto\",\"active_multi\":null,\"active_scroll\":\"auto\",\"active_tap\":\"auto\",\"tools\":[{\"id\":\"5134\",\"type\":\"PanTool\"},{\"id\":\"5135\",\"type\":\"WheelZoomTool\"},{\"id\":\"5136\",\"type\":\"BoxZoomTool\"},{\"id\":\"5137\",\"type\":\"SaveTool\"},{\"id\":\"5138\",\"type\":\"ResetTool\"},{\"id\":\"5139\",\"type\":\"HelpTool\"}]},\"id\":\"5140\",\"type\":\"Toolbar\"},{\"attributes\":{},\"id\":\"5120\",\"type\":\"LinearScale\"},{\"attributes\":{\"line_color\":\"#9367bc\",\"line_width\":2,\"x\":{\"field\":\"x\"},\"y\":{\"field\":\"y\"}},\"id\":\"5191\",\"type\":\"Line\"},{\"attributes\":{\"callback\":null,\"data\":{\"x\":{\"__ndarray__\":\"AAAAAAAAAAB/pUCtXykgQH+lQK1fKTBAPvjggw8+OEB/pUCtXylAQN/OkJi3M0RAPvjggw8+SECeITFvZ0hMQH+lQK1fKVBAL7rooosuUkDfzpCYtzNUQI/jOI7jOFZAPvjggw8+WEDuDIl5O0NaQJ4hMW9nSFxATjbZZJNNXkB/pUCtXylgQNevFKj1K2FAL7rooosuYkCHxLydITFjQN/OkJi3M2RAN9lkk002ZUCP4ziO4zhmQOftDIl5O2dAPvjggw8+aECWArV+pUBpQO4MiXk7Q2pARhdddNFFa0CeITFvZ0hsQPYrBWr9Sm1ATjbZZJNNbkCmQK1fKVBvQH+lQK1fKXBAq6qqqqqqcEDXrxSo9StxQAO1fqVArXFAL7rooosuckBbv1Kg1q9yQIfEvJ0hMXNAs8kmm2yyc0DfzpCYtzN0QAvU+pUCtXRAN9lkk002dUBj3s6QmLd1QI/jOI7jOHZAu+iiiy66dkDn7QyJeTt3QBPzdobEvHdAPvjggw8+eEBq/UqBWr94QJYCtX6lQHlAwgcffPDBeUDuDIl5O0N6QBoS83aGxHpARhdddNFFe0ByHMdxHMd7QJ4hMW9nSHxAyiabbLLJfED2KwVq/Up9QCIxb2dIzH1ATjbZZJNNfkB6O0Ni3s5+QKZArV8pUH9A0kUXXXTRf0B/pUCtXymAQBWo9SsFaoBAq6qqqqqqgEBBrV8pUOuAQNevFKj1K4FAbbLJJptsgUADtX6lQK2BQJm3MyTm7YFAL7rooosugkDFvJ0hMW+CQFu/UqDWr4JA8cEHH3zwgkCHxLydITGDQB3HcRzHcYNAs8kmm2yyg0BJzNsZEvODQN/OkJi3M4RAddFFF110hEAL1PqVArWEQKHWrxSo9YRAN9lkk002hUDN2xkS83aFQGPezpCYt4VA+eCDDz74hUCP4ziO4ziGQCXm7QyJeYZAu+iiiy66hkBR61cK1PqGQOftDIl5O4dAffDBBx98h0AT83aGxLyHQKn1KwVq/YdAPvjggw8+iEDU+pUCtX6IQGr9SoFav4hAAAAAAAAAiUA=\",\"dtype\":\"float64\",\"shape\":[100]},\"y\":{\"__ndarray__\":\"AAAAAAAAJEDDWbbiaMibP8YlNu1n8tc/LV/7Clzn9T9fNVEiZeMFQMk8DtW8HRBALm0gGspRFED75SVKeZMXQGTeVSlFFRpAHKkJ1+MHHEA06ya36ZAdQIYdLlmWyx5Ap6KMS2TLH0B+3MzTJk8gQM8zTxo7pyBAyAxbh6nxIEAqFfNdOjEhQHNUfbEIaCFADgX6GLKXIUD0z4/8d8EhQETgiiBX5iFAIU1/hxgHIkDJpcmyXSQiQKcW46SpPiJAYRJxlmdWIkD2HbIA8GsiQIATyHaMfyJAZjvglHqRIkAj3/VN7qEiQKAFrLITsSJAkDRQXRC/IkB6qWyQBMwiQNo9pR0M2CJAMV6XID/jIkBjZHqUsu0iQMUJ49B49yJA0UM376EAI0AvxwMePAkjQFCsBuhTESNAqQOKbfQYI0BA6cuVJyAjQC5ohzj2JiNASidsQGgtI0DJNq7JhDMjQJ5yuDpSOSNAyYWKWtY+I0DxjSpjFkQjQK+jIhIXSSNAndY6ttxNI0AAF607a1IjQGT93jbGViNAeeCJ7vBaI0DxtTBi7l4jQF1kf1LBYiNAW2tcR2xmI0DzfGOV8WkjQLI5LWNTbSNAtlnirJNwI0A6hwhJtHMjQFW0o+u2diNAtcZDKZ15I0CVH/J5aHwjQF6HfTsafyNAS6f8s7OBI0AP/MwTNoQjQMZux3aihiNAIVFO5/mII0AqXAFePYsjQJS2f8RtjSNAmTfO9YuPI0AusjrAmJEjQBe6b+WUkyNAITDgG4GVI0Afg+cPXpcjQIGq5mMsmSNAO2FYseyaI0BCxnKJn5wjQIbZ7HVFniNAe2sX+N6fI0CQJ1eMbKEjQPQ4mKfuoiNAeVkxuWWkI0Aw7/wq0qUjQOeMtGE0pyNA3ZY9vYyoI0D9Hv2Y26kjQF61D0whqyNAxZakKV6sI0CngR2Bkq0jQBuvRp6+riNAmau8yeKvI0DfuL5I/7AjQAjtpl0UsiNAJn8fSCKzI0Car/hEKbQjQOMrj44ptSNAJpG7XCO2I0C8bYPlFrcjQJ3bOlwEuCNABrU08uu4I0A=\",\"dtype\":\"float64\",\"shape\":[100]}},\"selected\":{\"id\":\"5171\",\"type\":\"Selection\"},\"selection_policy\":{\"id\":\"5172\",\"type\":\"UnionRenderers\"}},\"id\":\"5147\",\"type\":\"ColumnDataSource\"},{\"attributes\":{\"line_alpha\":0.1,\"line_color\":\"#1f77b4\",\"line_width\":2,\"x\":{\"field\":\"x\"},\"y\":{\"field\":\"y\"}},\"id\":\"5176\",\"type\":\"Line\"},{\"attributes\":{\"callback\":null,\"data\":{\"x\":{\"__ndarray__\":\"AAAAAAAAAAB/pUCtXykgQH+lQK1fKTBAPvjggw8+OEB/pUCtXylAQN/OkJi3M0RAPvjggw8+SECeITFvZ0hMQH+lQK1fKVBAL7rooosuUkDfzpCYtzNUQI/jOI7jOFZAPvjggw8+WEDuDIl5O0NaQJ4hMW9nSFxATjbZZJNNXkB/pUCtXylgQNevFKj1K2FAL7rooosuYkCHxLydITFjQN/OkJi3M2RAN9lkk002ZUCP4ziO4zhmQOftDIl5O2dAPvjggw8+aECWArV+pUBpQO4MiXk7Q2pARhdddNFFa0CeITFvZ0hsQPYrBWr9Sm1ATjbZZJNNbkCmQK1fKVBvQH+lQK1fKXBAq6qqqqqqcEDXrxSo9StxQAO1fqVArXFAL7rooosuckBbv1Kg1q9yQIfEvJ0hMXNAs8kmm2yyc0DfzpCYtzN0QAvU+pUCtXRAN9lkk002dUBj3s6QmLd1QI/jOI7jOHZAu+iiiy66dkDn7QyJeTt3QBPzdobEvHdAPvjggw8+eEBq/UqBWr94QJYCtX6lQHlAwgcffPDBeUDuDIl5O0N6QBoS83aGxHpARhdddNFFe0ByHMdxHMd7QJ4hMW9nSHxAyiabbLLJfED2KwVq/Up9QCIxb2dIzH1ATjbZZJNNfkB6O0Ni3s5+QKZArV8pUH9A0kUXXXTRf0B/pUCtXymAQBWo9SsFaoBAq6qqqqqqgEBBrV8pUOuAQNevFKj1K4FAbbLJJptsgUADtX6lQK2BQJm3MyTm7YFAL7rooosugkDFvJ0hMW+CQFu/UqDWr4JA8cEHH3zwgkCHxLydITGDQB3HcRzHcYNAs8kmm2yyg0BJzNsZEvODQN/OkJi3M4RAddFFF110hEAL1PqVArWEQKHWrxSo9YRAN9lkk002hUDN2xkS83aFQGPezpCYt4VA+eCDDz74hUCP4ziO4ziGQCXm7QyJeYZAu+iiiy66hkBR61cK1PqGQOftDIl5O4dAffDBBx98h0AT83aGxLyHQKn1KwVq/YdAPvjggw8+iEDU+pUCtX6IQGr9SoFav4hAAAAAAAAAiUA=\",\"dtype\":\"float64\",\"shape\":[100]},\"y\":{\"__ndarray__\":\"AAAAAAAAAAAcGJ+hJh+5PhFZlL+tI/Y+X++sAlXQGD+7uncA+nExP/UJ1VooCUM/J1RKtVu4UT/x5ilXoJldP0to9Hh122Y/QQSL0QWjcD/4xkKnCCF3PwKJeXnc/n4/HF69j0QohD/MBhjRx5OJP64Ri3GyyY8/Wo16qnZokz8bMMz23VeXPzWli1bwtZs/nE9Vt65CoD+Rb8u5V+SiP3Y37XwqwaU/0GHQcFTaqD9Bcy5b/DCsPzVbzeZExq8/j1eTWKfNsT9mNCn4nNizP7B+dOKTBLY/Own6oh1SuD8Ti+QqzcG6P0EOJCU3VL0/KMNdG/kEwD+L2gGYy3HBP8ut95fg8MI/fwwe3oaCxD8tcq5nDifGP29C227I3sc/AuraZweqyT9EeUD9HonLPyckaQZkfM0//dC2eiyEzz9+zEOxZ9DQPwsiRGJS6dE/q7QUyAIN0z9I5ZLCpTvUP8TvIYxoddU//46rqni61j901kLfAwvYP6f0qxQ4Z9k/vKOPTEPP2j+4wbqLU0PcP527mMSWw90/uLnowTpQ3z+7bu2HtnTgP/28QXKtR+E/ctnegxgh4j/czF7dDQHjPzO2l0+j5+M/9/LwTu7U5D8EerzmA8nlPy3ovqz4w+Y/jIJBteDF5z9khvWFz87oP9KM6grY3uk/W5jqiQz26j+YsSyXfhTsP1IVYgs/Ou0/zAN3+V1n7j8/6R6k6pvvP2hCZLr5a/A/nbqm+cIN8T8+rgNfV7PxP99WQcG8XPI/mnp9e/gJ8z8yTExqD7vzP+AsHekFcPQ/PAGNz98o9T9AGM9xoOX1PxQwrZtKpvY/K7QskeBq9z8K6V0NZDP4P7k/K0TW//g/8lFw3jfQ+T8V++b5iKT6P3LaOy3JfPs//JPBhfdY/D9kIqSIEjn9P/7PMzQYHf4/Mn0aAQYF/z/Jyb7j2PD/P2n44aZGcABA38Djlw/qAEAczK39xGUBQHNzh1Jk4wFAkJFK0+piAkBX04aAVeQCQPpxtB+hZwNAilpyPMrsA0Bodc4pzXMEQPKzlwOm/ARAoS6zr1CHBUA=\",\"dtype\":\"float64\",\"shape\":[100]}},\"selected\":{\"id\":\"5446\",\"type\":\"Selection\"},\"selection_policy\":{\"id\":\"5447\",\"type\":\"UnionRenderers\"}},\"id\":\"5208\",\"type\":\"ColumnDataSource\"},{\"attributes\":{},\"id\":\"5172\",\"type\":\"UnionRenderers\"},{\"attributes\":{\"source\":{\"id\":\"5190\",\"type\":\"ColumnDataSource\"}},\"id\":\"5194\",\"type\":\"CDSView\"},{\"attributes\":{\"axis_label\":\"concentration (nM)\",\"formatter\":{\"id\":\"5156\",\"type\":\"BasicTickFormatter\"},\"ticker\":{\"id\":\"5130\",\"type\":\"BasicTicker\"}},\"id\":\"5129\",\"type\":\"LinearAxis\"},{\"attributes\":{},\"id\":\"5134\",\"type\":\"PanTool\"},{\"attributes\":{\"source\":{\"id\":\"5160\",\"type\":\"ColumnDataSource\"}},\"id\":\"5164\",\"type\":\"CDSView\"},{\"attributes\":{\"source\":{\"id\":\"5174\",\"type\":\"ColumnDataSource\"}},\"id\":\"5178\",\"type\":\"CDSView\"},{\"attributes\":{\"label\":{\"value\":\"bound atp synthase\"},\"renderers\":[{\"id\":\"5193\",\"type\":\"GlyphRenderer\"}]},\"id\":\"5207\",\"type\":\"LegendItem\"},{\"attributes\":{\"callback\":null,\"data\":{\"x\":{\"__ndarray__\":\"AAAAAAAAAAB/pUCtXykgQH+lQK1fKTBAPvjggw8+OEB/pUCtXylAQN/OkJi3M0RAPvjggw8+SECeITFvZ0hMQH+lQK1fKVBAL7rooosuUkDfzpCYtzNUQI/jOI7jOFZAPvjggw8+WEDuDIl5O0NaQJ4hMW9nSFxATjbZZJNNXkB/pUCtXylgQNevFKj1K2FAL7rooosuYkCHxLydITFjQN/OkJi3M2RAN9lkk002ZUCP4ziO4zhmQOftDIl5O2dAPvjggw8+aECWArV+pUBpQO4MiXk7Q2pARhdddNFFa0CeITFvZ0hsQPYrBWr9Sm1ATjbZZJNNbkCmQK1fKVBvQH+lQK1fKXBAq6qqqqqqcEDXrxSo9StxQAO1fqVArXFAL7rooosuckBbv1Kg1q9yQIfEvJ0hMXNAs8kmm2yyc0DfzpCYtzN0QAvU+pUCtXRAN9lkk002dUBj3s6QmLd1QI/jOI7jOHZAu+iiiy66dkDn7QyJeTt3QBPzdobEvHdAPvjggw8+eEBq/UqBWr94QJYCtX6lQHlAwgcffPDBeUDuDIl5O0N6QBoS83aGxHpARhdddNFFe0ByHMdxHMd7QJ4hMW9nSHxAyiabbLLJfED2KwVq/Up9QCIxb2dIzH1ATjbZZJNNfkB6O0Ni3s5+QKZArV8pUH9A0kUXXXTRf0B/pUCtXymAQBWo9SsFaoBAq6qqqqqqgEBBrV8pUOuAQNevFKj1K4FAbbLJJptsgUADtX6lQK2BQJm3MyTm7YFAL7rooosugkDFvJ0hMW+CQFu/UqDWr4JA8cEHH3zwgkCHxLydITGDQB3HcRzHcYNAs8kmm2yyg0BJzNsZEvODQN/OkJi3M4RAddFFF110hEAL1PqVArWEQKHWrxSo9YRAN9lkk002hUDN2xkS83aFQGPezpCYt4VA+eCDDz74hUCP4ziO4ziGQCXm7QyJeYZAu+iiiy66hkBR61cK1PqGQOftDIl5O4dAffDBBx98h0AT83aGxLyHQKn1KwVq/YdAPvjggw8+iEDU+pUCtX6IQGr9SoFav4hAAAAAAAAAiUA=\",\"dtype\":\"float64\",\"shape\":[100]},\"y\":{\"__ndarray__\":\"AAAAAAAAAACmS7zvBl5YP+1ZlzOk+5M/g8s+EJTrsT/IRLuOELrBP8XeoKto+Mk/tLUY4PVT0D9gv3F+oerSP2+LFhXT6NQ/Rpg7VlN11j8RuGSf+a3XP0pNcORkqNg/u7rXuwl02T8W36K4/xvaP9RT74RTqNo/Pyu1OPEe2z/ab4x0RITbPyVvZhGm29s/Stbalqcn3D/vtAcvSGrcP+J8rPYZpdw/8A65x1zZ3D9HxcGxEQjdP+0wgUUJMt0/NIhzPu5X3T9nS1iETXrdP1lYFEqcmd0/M97xuDy23T8VYPyWgdDdP6fkJR6x6N0/rFAhPgf/3T8kRNxjtxPeP1wKaentJt4/JbhNP9E43j9eUjzagkneP0+luPwfWd4/H0FIUsJn3j8sHbN6gHXeP9MN+Hdugt4/i6QvCp6O3j9wmYb+HpreP0d263D/pN4/sh8pA0yv3j9O43gOELneP3zibslVwt4/q9OLbCbL3j/ZhXpPitPeP+96ZgOJ294/wpGeaCnj3j9BE3PCcereP8iLZMhn8d4/Ue7ksxD43j9UxEhPcf7eP1hJ9/+NBN8/n6I00GoK3z9/9Kh4CxDfPw/90mhzFd8/kgjxy6Ua3z+EXmGRpR/fP7tlk3F1JN8/b7ml8hcp3z8aHDFtjy3fP1GB6Q/eMd8/tF+r4wU23z/91KPOCDrfP9l2JpboPd8/QgLz46ZB3z+myN9ERUXfPxCWfy7FSN8/t4xQ/idM3z8KS0j+bk/fPz28pGObUt8/z6DXUa5V3z9iuV/cqFjfPzOARgaMW98/QyPQxVhe3z9GxfoBEGHfP5Wph5eyY98/1kMIVEFm3z80IVT/vGjfP7df5FMma98/t0OoA35t3z/13MO3xG/fP8jhMxH7cd8/FltNqSF03z8KZ20ROXbfP869ldZBeN8/yPqUezx63z/yP4SAKXzfP1vfPF4Jft8/On3WiNx/3z/jNfNuo4HfP+bjoHpeg98/LIanEQ6F3z8jqDWVsobfPzrxlmJMiN8//zD/0tuJ3z/LCu08YYvfP1hWTfLcjN8/bLvlQU+O3z8=\",\"dtype\":\"float64\",\"shape\":[100]}},\"selected\":{\"id\":\"5205\",\"type\":\"Selection\"},\"selection_policy\":{\"id\":\"5206\",\"type\":\"UnionRenderers\"}},\"id\":\"5174\",\"type\":\"ColumnDataSource\"},{\"attributes\":{\"line_color\":\"#2ba02b\",\"line_width\":2,\"x\":{\"field\":\"x\"},\"y\":{\"field\":\"y\"}},\"id\":\"5175\",\"type\":\"Line\"},{\"attributes\":{},\"id\":\"5135\",\"type\":\"WheelZoomTool\"},{\"attributes\":{},\"id\":\"5206\",\"type\":\"UnionRenderers\"},{\"attributes\":{\"axis_label\":\"time (sec)\",\"formatter\":{\"id\":\"5154\",\"type\":\"BasicTickFormatter\"},\"ticker\":{\"id\":\"5125\",\"type\":\"BasicTicker\"}},\"id\":\"5124\",\"type\":\"LinearAxis\"},{\"attributes\":{},\"id\":\"5130\",\"type\":\"BasicTicker\"},{\"attributes\":{\"overlay\":{\"id\":\"5157\",\"type\":\"BoxAnnotation\"}},\"id\":\"5136\",\"type\":\"BoxZoomTool\"},{\"attributes\":{},\"id\":\"5125\",\"type\":\"BasicTicker\"},{\"attributes\":{\"click_policy\":\"hide\",\"items\":[{\"id\":\"5159\",\"type\":\"LegendItem\"},{\"id\":\"5173\",\"type\":\"LegendItem\"},{\"id\":\"5189\",\"type\":\"LegendItem\"},{\"id\":\"5207\",\"type\":\"LegendItem\"},{\"id\":\"5227\",\"type\":\"LegendItem\"}],\"location\":\"center_right\"},\"id\":\"5158\",\"type\":\"Legend\"},{\"attributes\":{\"callback\":null},\"id\":\"5118\",\"type\":\"DataRange1d\"},{\"attributes\":{},\"id\":\"5137\",\"type\":\"SaveTool\"},{\"attributes\":{\"dimension\":1,\"ticker\":{\"id\":\"5130\",\"type\":\"BasicTicker\"}},\"id\":\"5133\",\"type\":\"Grid\"},{\"attributes\":{\"data_source\":{\"id\":\"5160\",\"type\":\"ColumnDataSource\"},\"glyph\":{\"id\":\"5161\",\"type\":\"Line\"},\"hover_glyph\":null,\"muted_glyph\":null,\"nonselection_glyph\":{\"id\":\"5162\",\"type\":\"Line\"},\"selection_glyph\":null,\"view\":{\"id\":\"5164\",\"type\":\"CDSView\"}},\"id\":\"5163\",\"type\":\"GlyphRenderer\"},{\"attributes\":{\"label\":{\"value\":\"outside_H\"},\"renderers\":[{\"id\":\"5163\",\"type\":\"GlyphRenderer\"}]},\"id\":\"5173\",\"type\":\"LegendItem\"},{\"attributes\":{\"line_color\":\"#8c564b\",\"line_width\":2,\"x\":{\"field\":\"x\"},\"y\":{\"field\":\"y\"}},\"id\":\"5209\",\"type\":\"Line\"},{\"attributes\":{},\"id\":\"5138\",\"type\":\"ResetTool\"},{\"attributes\":{\"line_color\":\"#ff7e0e\",\"line_width\":2,\"x\":{\"field\":\"x\"},\"y\":{\"field\":\"y\"}},\"id\":\"5161\",\"type\":\"Line\"},{\"attributes\":{\"line_alpha\":0.1,\"line_color\":\"#1f77b4\",\"line_width\":2,\"x\":{\"field\":\"x\"},\"y\":{\"field\":\"y\"}},\"id\":\"5210\",\"type\":\"Line\"},{\"attributes\":{},\"id\":\"5139\",\"type\":\"HelpTool\"},{\"attributes\":{\"data_source\":{\"id\":\"5208\",\"type\":\"ColumnDataSource\"},\"glyph\":{\"id\":\"5209\",\"type\":\"Line\"},\"hover_glyph\":null,\"muted_glyph\":null,\"nonselection_glyph\":{\"id\":\"5210\",\"type\":\"Line\"},\"selection_glyph\":null,\"view\":{\"id\":\"5212\",\"type\":\"CDSView\"}},\"id\":\"5211\",\"type\":\"GlyphRenderer\"},{\"attributes\":{\"ticker\":{\"id\":\"5125\",\"type\":\"BasicTicker\"}},\"id\":\"5128\",\"type\":\"Grid\"},{\"attributes\":{},\"id\":\"5171\",\"type\":\"Selection\"},{\"attributes\":{\"line_alpha\":0.1,\"line_color\":\"#1f77b4\",\"line_width\":2,\"x\":{\"field\":\"x\"},\"y\":{\"field\":\"y\"}},\"id\":\"5149\",\"type\":\"Line\"},{\"attributes\":{},\"id\":\"5154\",\"type\":\"BasicTickFormatter\"},{\"attributes\":{},\"id\":\"5187\",\"type\":\"Selection\"},{\"attributes\":{\"data_source\":{\"id\":\"5174\",\"type\":\"ColumnDataSource\"},\"glyph\":{\"id\":\"5175\",\"type\":\"Line\"},\"hover_glyph\":null,\"muted_glyph\":null,\"nonselection_glyph\":{\"id\":\"5176\",\"type\":\"Line\"},\"selection_glyph\":null,\"view\":{\"id\":\"5178\",\"type\":\"CDSView\"}},\"id\":\"5177\",\"type\":\"GlyphRenderer\"},{\"attributes\":{\"source\":{\"id\":\"5208\",\"type\":\"ColumnDataSource\"}},\"id\":\"5212\",\"type\":\"CDSView\"},{\"attributes\":{\"callback\":null},\"id\":\"5116\",\"type\":\"DataRange1d\"},{\"attributes\":{\"label\":{\"value\":\"inside_H\"},\"renderers\":[{\"id\":\"5177\",\"type\":\"GlyphRenderer\"}]},\"id\":\"5189\",\"type\":\"LegendItem\"},{\"attributes\":{\"callback\":null,\"data\":{\"x\":{\"__ndarray__\":\"AAAAAAAAAAB/pUCtXykgQH+lQK1fKTBAPvjggw8+OEB/pUCtXylAQN/OkJi3M0RAPvjggw8+SECeITFvZ0hMQH+lQK1fKVBAL7rooosuUkDfzpCYtzNUQI/jOI7jOFZAPvjggw8+WEDuDIl5O0NaQJ4hMW9nSFxATjbZZJNNXkB/pUCtXylgQNevFKj1K2FAL7rooosuYkCHxLydITFjQN/OkJi3M2RAN9lkk002ZUCP4ziO4zhmQOftDIl5O2dAPvjggw8+aECWArV+pUBpQO4MiXk7Q2pARhdddNFFa0CeITFvZ0hsQPYrBWr9Sm1ATjbZZJNNbkCmQK1fKVBvQH+lQK1fKXBAq6qqqqqqcEDXrxSo9StxQAO1fqVArXFAL7rooosuckBbv1Kg1q9yQIfEvJ0hMXNAs8kmm2yyc0DfzpCYtzN0QAvU+pUCtXRAN9lkk002dUBj3s6QmLd1QI/jOI7jOHZAu+iiiy66dkDn7QyJeTt3QBPzdobEvHdAPvjggw8+eEBq/UqBWr94QJYCtX6lQHlAwgcffPDBeUDuDIl5O0N6QBoS83aGxHpARhdddNFFe0ByHMdxHMd7QJ4hMW9nSHxAyiabbLLJfED2KwVq/Up9QCIxb2dIzH1ATjbZZJNNfkB6O0Ni3s5+QKZArV8pUH9A0kUXXXTRf0B/pUCtXymAQBWo9SsFaoBAq6qqqqqqgEBBrV8pUOuAQNevFKj1K4FAbbLJJptsgUADtX6lQK2BQJm3MyTm7YFAL7rooosugkDFvJ0hMW+CQFu/UqDWr4JA8cEHH3zwgkCHxLydITGDQB3HcRzHcYNAs8kmm2yyg0BJzNsZEvODQN/OkJi3M4RAddFFF110hEAL1PqVArWEQKHWrxSo9YRAN9lkk002hUDN2xkS83aFQGPezpCYt4VA+eCDDz74hUCP4ziO4ziGQCXm7QyJeYZAu+iiiy66hkBR61cK1PqGQOftDIl5O4dAffDBBx98h0AT83aGxLyHQKn1KwVq/YdAPvjggw8+iEDU+pUCtX6IQGr9SoFav4hAAAAAAAAAiUA=\",\"dtype\":\"float64\",\"shape\":[100]},\"y\":{\"__ndarray__\":\"AAAAAAAAJEAegsgPPf8jQFI05i0C9iNAaILf1yjcI0DqEsW9F7kjQIV8UV0emCNAUzr/UGB9I0AGcgz0qmgjQKVLV2e5WCNAPyNOZVVMI0BB2gQzkEIjQJh93Ni8OiNAMEIhsl80I0AN6ToCIC8jQGeF2GO9KiNAq1Y6dggnI0CFnFvc3SMjQIvMdM8iISNAUClJw8IeI0Bawoe+rRwjQBqcSjDXGiNAijfCGTUZI0DX8XFyvxcjQHr207VvFiNAv2MMjkAVI0ClPd2TLRQjQD9drx0zEyNAEHE4Gk4SI0D+HEjzexEjQNnQDne6ECNAe/UOxgcQI0DeHeFEYg8jQKy3tJDIDiNAPpIFdjkOI0BtHS7psw0jQNU6GgA3DSNA+L1t7cEMI0AYZyr8UwwjQJE/QIzsCyNA24KuD4sLI0AzywsILwsjQEykeATYCiNAAbfmn4UKI0DlOIx/NwojQOyItFHtCSNAY6GbzKYJI0DRK4StYwkjQCnM5LcjCSNAcgu7tOYII0BoZ+xxrAgjQKTbvMF0CCNAkdhgej8II0DguYV1DAgjQLhFAJDbByNA7Vp+qawHI0BeuDqkfwcjQBlouWRUByNAvXeg0SoHI0AO9XTTAgcjQNRkc1TcBiNAN9JqQLcGI0Aid5aEkwYjQPizgA9xBiNABKXi0E8GI0Ba4Yq5LwYjQEvMTrsQBiNA72fgyPIFI0C8AdnV1QUjQFADjNa5BSNAm3sNwJ4FI0CqvQ2IhAUjQCDa4iRrBSNA/EJxjVIFI0A3Ah25OgUjQAHMzZ8jBSNA6n7ROQ0FI0DbKfB/9wQjQLnCQ2viBCNA6b1f9c0EI0D+XgUYugQjQArdYM2mBCNA6r3iD5QEI0Af4UHagQQjQPlgdidwBCNAL5W18l4EI0DQlHQ3TgQjQBpSS/E9BCNAMlgjHC4EI0AJ3vuzHgQjQA4ZDrUPBCNAHky5GwEEI0BZZojk8gMjQOn4KgzlAyNA18Nyj9cDI0DHUlZrygMjQH5I65y9AyNAgQZoIbEDI0Cylxj2pAMjQFWVbRiZAyNALdLwhY0DI0A=\",\"dtype\":\"float64\",\"shape\":[100]}},\"selected\":{\"id\":\"5187\",\"type\":\"Selection\"},\"selection_policy\":{\"id\":\"5188\",\"type\":\"UnionRenderers\"}},\"id\":\"5160\",\"type\":\"ColumnDataSource\"},{\"attributes\":{},\"id\":\"5156\",\"type\":\"BasicTickFormatter\"},{\"attributes\":{},\"id\":\"5122\",\"type\":\"LinearScale\"},{\"attributes\":{\"line_alpha\":0.1,\"line_color\":\"#1f77b4\",\"line_width\":2,\"x\":{\"field\":\"x\"},\"y\":{\"field\":\"y\"}},\"id\":\"5192\",\"type\":\"Line\"},{\"attributes\":{},\"id\":\"5225\",\"type\":\"Selection\"},{\"attributes\":{\"label\":{\"value\":\"bound proton pump\"},\"renderers\":[{\"id\":\"5211\",\"type\":\"GlyphRenderer\"}]},\"id\":\"5227\",\"type\":\"LegendItem\"},{\"attributes\":{\"source\":{\"id\":\"5147\",\"type\":\"ColumnDataSource\"}},\"id\":\"5151\",\"type\":\"CDSView\"},{\"attributes\":{},\"id\":\"5188\",\"type\":\"UnionRenderers\"},{\"attributes\":{\"data_source\":{\"id\":\"5147\",\"type\":\"ColumnDataSource\"},\"glyph\":{\"id\":\"5148\",\"type\":\"Line\"},\"hover_glyph\":null,\"muted_glyph\":null,\"nonselection_glyph\":{\"id\":\"5149\",\"type\":\"Line\"},\"selection_glyph\":null,\"view\":{\"id\":\"5151\",\"type\":\"CDSView\"}},\"id\":\"5150\",\"type\":\"GlyphRenderer\"},{\"attributes\":{},\"id\":\"5226\",\"type\":\"UnionRenderers\"},{\"attributes\":{\"data_source\":{\"id\":\"5190\",\"type\":\"ColumnDataSource\"},\"glyph\":{\"id\":\"5191\",\"type\":\"Line\"},\"hover_glyph\":null,\"muted_glyph\":null,\"nonselection_glyph\":{\"id\":\"5192\",\"type\":\"Line\"},\"selection_glyph\":null,\"view\":{\"id\":\"5194\",\"type\":\"CDSView\"}},\"id\":\"5193\",\"type\":\"GlyphRenderer\"},{\"attributes\":{\"line_alpha\":0.1,\"line_color\":\"#1f77b4\",\"line_width\":2,\"x\":{\"field\":\"x\"},\"y\":{\"field\":\"y\"}},\"id\":\"5162\",\"type\":\"Line\"}],\"root_ids\":[\"5113\"]},\"title\":\"Bokeh Application\",\"version\":\"1.4.0\"}};\n",
       "  var render_items = [{\"docid\":\"62b6df4c-9ecf-4205-8d14-00f83053d89e\",\"roots\":{\"5113\":\"ade6a3a2-35a9-44e1-ad0c-990f9b8c52bb\"}}];\n",
       "  root.Bokeh.embed.embed_items_notebook(docs_json, render_items);\n",
       "\n",
       "  }\n",
       "  if (root.Bokeh !== undefined) {\n",
       "    embed_document(root);\n",
       "  } else {\n",
       "    var attempts = 0;\n",
       "    var timer = setInterval(function(root) {\n",
       "      if (root.Bokeh !== undefined) {\n",
       "        clearInterval(timer);\n",
       "        embed_document(root);\n",
       "      } else {\n",
       "        attempts++;\n",
       "        if (attempts > 100) {\n",
       "          clearInterval(timer);\n",
       "          console.log(\"Bokeh: ERROR: Unable to run BokehJS code because BokehJS library is missing\");\n",
       "        }\n",
       "      }\n",
       "    }, 10, root)\n",
       "  }\n",
       "})(window);"
      ],
      "application/vnd.bokehjs_exec.v0+json": ""
     },
     "metadata": {
      "application/vnd.bokehjs_exec.v0+json": {
       "id": "5113"
      }
     },
     "output_type": "display_data"
    }
   ],
   "source": [
    "#plt_timepoints = timepoints/60\n",
    "\n",
    "p3 = bokeh.plotting.figure(width = 450, height = 350, title = 'with ATP Synthase, Proton Pump, ATP Use',\n",
    "                          x_axis_label = 'time (sec)',\n",
    "                          y_axis_label = 'concentration (nM)')\n",
    "plot_list = [ATP_id_25, outside_H_id, inside_H_id, atp_synthase_b_protein_id, proton_pump_b_protein_id]\n",
    "plot_str = ['atp', 'outside_H', 'inside_H', 'bound atp synthase', 'bound proton pump']\n",
    "for i,item in enumerate(plot_list):\n",
    "    p3.line(timepoints, results_25[item], line_width = 2, legend_label = plot_str[i], color = palette[i])\n",
    "#p3.line(plt_timepoints, results_everything[ATP_id3])\n",
    "p3.legend.click_policy = 'hide'\n",
    "p3.legend.location = 'center_right'\n",
    "\n",
    "bokeh.io.show(p3)\n"
   ]
  },
  {
   "cell_type": "markdown",
   "metadata": {},
   "source": [
    "## Combine at 37 C\n",
    "---"
   ]
  },
  {
   "cell_type": "code",
   "execution_count": 30,
   "metadata": {},
   "outputs": [],
   "source": [
    "# atp synthase models\n",
    "ss1_atpsyn_txtl = createSubsystem('atpsyn_37temp_machinery_txtl.xml', subsystemName = 'atpsyn_txtl')\n",
    "ss2_atpsyn_mi = createSubsystem('atpsynthase_membrane_integration.xml', subsystemName = 'atpsyn_mi')\n",
    "ss3_atpsynthesis = createSubsystem('atp_synthesis_through_atpsynthase.xml', subsystemName = 'atpsynthesis')\n",
    "ss4_atp_use = createSubsystem('atp_use.xml', subsystemName = 'atp_use')"
   ]
  },
  {
   "cell_type": "code",
   "execution_count": 31,
   "metadata": {},
   "outputs": [],
   "source": [
    "#ss5_pp_txtl = createSubsystem('proton_pump_tx_tl.xml', subsystemName = 'pp_txtl')\n",
    "ss5_pp_txtl = createSubsystem('proton_pump_37temp_machinery_txtl.xml', subsystemName = 'pp_txtl')\n",
    "ss6_pp_mi = createSubsystem('proton_pump_membrane_integration.xml', subsystemName = 'pp_mi')\n",
    "ss7_protontransport = createSubsystem('proton_transport_through_proton_pump.xml', subsystemName = 'protontransport')"
   ]
  },
  {
   "cell_type": "code",
   "execution_count": 32,
   "metadata": {},
   "outputs": [],
   "source": [
    "entire_subsystem = ss1_atpsyn_txtl + ss2_atpsyn_mi + ss3_atpsynthesis + ss4_atp_use + ss5_pp_txtl + ss6_pp_mi + ss7_protontransport"
   ]
  },
  {
   "cell_type": "code",
   "execution_count": 33,
   "metadata": {},
   "outputs": [],
   "source": [
    "# Initial conditions\n",
    "spec_list_10 = ['dna_proton_pump', 'dna_atpsyn','proton_outside_H', 'metabolite_atp','protein_RNAP_machinery', \n",
    "                'protein_Ribo_machinery', 'protein_RNAse_machinery']\n",
    "for i,spec in enumerate(spec_list_10):\n",
    "    entire_subsystem.setSpeciesAmount(spec,10)\n",
    "\n",
    "\n",
    "# timepoints and get results\n",
    "# timepoints = np.linspace(0,10,100)\n",
    "# results, _ = entire_subsystem.simulateWithBioscrape(timepoints, sbml_warnings = False)\n",
    "\n",
    "# Get species IDs\n",
    "ATP_id_37 = entire_subsystem.getSpeciesByName('metabolite_atp').getId()\n",
    "ADP_id = entire_subsystem.getSpeciesByName('metabolite_adp').getId()\n",
    "\n",
    "outside_H_id = entire_subsystem.getSpeciesByName('proton_outside_H').getId()\n",
    "inside_H_id = entire_subsystem.getSpeciesByName('proton_inside_H').getId()\n",
    "\n",
    "proton_pump_b_protein_id = entire_subsystem.getSpeciesByName('protein_proton_pump_b').getId()\n",
    "proton_pump_f_protein_id = entire_subsystem.getSpeciesByName('protein_proton_pump').getId()\n",
    "\n",
    "atp_synthase_b_protein_id = entire_subsystem.getSpeciesByName('protein_atpsyn_b').getId()\n",
    "atp_synthase_f_protein_id = entire_subsystem.getSpeciesByName('protein_atpsyn').getId()"
   ]
  },
  {
   "cell_type": "code",
   "execution_count": 34,
   "metadata": {},
   "outputs": [],
   "source": [
    "timepoints = np.linspace(0,800,100)\n",
    "results_37, _ = entire_subsystem.simulateWithBioscrape(timepoints, sbml_warnings = False)"
   ]
  },
  {
   "cell_type": "code",
   "execution_count": 35,
   "metadata": {},
   "outputs": [
    {
     "data": {
      "text/html": [
       "\n",
       "\n",
       "\n",
       "\n",
       "\n",
       "\n",
       "  <div class=\"bk-root\" id=\"42e8c1d6-04f2-4ebf-bc80-7299dab091cc\" data-root-id=\"2889\"></div>\n"
      ]
     },
     "metadata": {},
     "output_type": "display_data"
    },
    {
     "data": {
      "application/javascript": [
       "(function(root) {\n",
       "  function embed_document(root) {\n",
       "    \n",
       "  var docs_json = {\"78122ed6-598f-475e-967c-19a536ec6be3\":{\"roots\":{\"references\":[{\"attributes\":{\"below\":[{\"id\":\"2900\",\"type\":\"LinearAxis\"}],\"center\":[{\"id\":\"2904\",\"type\":\"Grid\"},{\"id\":\"2909\",\"type\":\"Grid\"},{\"id\":\"2934\",\"type\":\"Legend\"}],\"left\":[{\"id\":\"2905\",\"type\":\"LinearAxis\"}],\"plot_height\":350,\"plot_width\":450,\"renderers\":[{\"id\":\"2926\",\"type\":\"GlyphRenderer\"},{\"id\":\"2939\",\"type\":\"GlyphRenderer\"},{\"id\":\"2953\",\"type\":\"GlyphRenderer\"},{\"id\":\"2969\",\"type\":\"GlyphRenderer\"},{\"id\":\"2987\",\"type\":\"GlyphRenderer\"}],\"title\":{\"id\":\"2890\",\"type\":\"Title\"},\"toolbar\":{\"id\":\"2916\",\"type\":\"Toolbar\"},\"x_range\":{\"id\":\"2892\",\"type\":\"DataRange1d\"},\"x_scale\":{\"id\":\"2896\",\"type\":\"LinearScale\"},\"y_range\":{\"id\":\"2894\",\"type\":\"DataRange1d\"},\"y_scale\":{\"id\":\"2898\",\"type\":\"LinearScale\"}},\"id\":\"2889\",\"subtype\":\"Figure\",\"type\":\"Plot\"},{\"attributes\":{\"data_source\":{\"id\":\"2966\",\"type\":\"ColumnDataSource\"},\"glyph\":{\"id\":\"2967\",\"type\":\"Line\"},\"hover_glyph\":null,\"muted_glyph\":null,\"nonselection_glyph\":{\"id\":\"2968\",\"type\":\"Line\"},\"selection_glyph\":null,\"view\":{\"id\":\"2970\",\"type\":\"CDSView\"}},\"id\":\"2969\",\"type\":\"GlyphRenderer\"},{\"attributes\":{\"dimension\":1,\"ticker\":{\"id\":\"2906\",\"type\":\"BasicTicker\"}},\"id\":\"2909\",\"type\":\"Grid\"},{\"attributes\":{},\"id\":\"2963\",\"type\":\"Selection\"},{\"attributes\":{\"source\":{\"id\":\"2950\",\"type\":\"ColumnDataSource\"}},\"id\":\"2954\",\"type\":\"CDSView\"},{\"attributes\":{},\"id\":\"2906\",\"type\":\"BasicTicker\"},{\"attributes\":{\"label\":{\"value\":\"inside_H\"},\"renderers\":[{\"id\":\"2953\",\"type\":\"GlyphRenderer\"}]},\"id\":\"2965\",\"type\":\"LegendItem\"},{\"attributes\":{\"source\":{\"id\":\"2966\",\"type\":\"ColumnDataSource\"}},\"id\":\"2970\",\"type\":\"CDSView\"},{\"attributes\":{\"line_color\":\"#8c564b\",\"line_width\":2,\"x\":{\"field\":\"x\"},\"y\":{\"field\":\"y\"}},\"id\":\"2985\",\"type\":\"Line\"},{\"attributes\":{\"axis_label\":\"concentration (nM)\",\"formatter\":{\"id\":\"2932\",\"type\":\"BasicTickFormatter\"},\"ticker\":{\"id\":\"2906\",\"type\":\"BasicTicker\"}},\"id\":\"2905\",\"type\":\"LinearAxis\"},{\"attributes\":{\"line_alpha\":0.1,\"line_color\":\"#1f77b4\",\"line_width\":2,\"x\":{\"field\":\"x\"},\"y\":{\"field\":\"y\"}},\"id\":\"2938\",\"type\":\"Line\"},{\"attributes\":{},\"id\":\"3001\",\"type\":\"Selection\"},{\"attributes\":{\"data_source\":{\"id\":\"2984\",\"type\":\"ColumnDataSource\"},\"glyph\":{\"id\":\"2985\",\"type\":\"Line\"},\"hover_glyph\":null,\"muted_glyph\":null,\"nonselection_glyph\":{\"id\":\"2986\",\"type\":\"Line\"},\"selection_glyph\":null,\"view\":{\"id\":\"2988\",\"type\":\"CDSView\"}},\"id\":\"2987\",\"type\":\"GlyphRenderer\"},{\"attributes\":{\"data_source\":{\"id\":\"2923\",\"type\":\"ColumnDataSource\"},\"glyph\":{\"id\":\"2924\",\"type\":\"Line\"},\"hover_glyph\":null,\"muted_glyph\":null,\"nonselection_glyph\":{\"id\":\"2925\",\"type\":\"Line\"},\"selection_glyph\":null,\"view\":{\"id\":\"2927\",\"type\":\"CDSView\"}},\"id\":\"2926\",\"type\":\"GlyphRenderer\"},{\"attributes\":{\"label\":{\"value\":\"bound proton pump\"},\"renderers\":[{\"id\":\"2987\",\"type\":\"GlyphRenderer\"}]},\"id\":\"3003\",\"type\":\"LegendItem\"},{\"attributes\":{\"click_policy\":\"hide\",\"items\":[{\"id\":\"2935\",\"type\":\"LegendItem\"},{\"id\":\"2949\",\"type\":\"LegendItem\"},{\"id\":\"2965\",\"type\":\"LegendItem\"},{\"id\":\"2983\",\"type\":\"LegendItem\"},{\"id\":\"3003\",\"type\":\"LegendItem\"}],\"location\":\"center_right\"},\"id\":\"2934\",\"type\":\"Legend\"},{\"attributes\":{\"callback\":null,\"data\":{\"x\":{\"__ndarray__\":\"AAAAAAAAAAB/pUCtXykgQH+lQK1fKTBAPvjggw8+OEB/pUCtXylAQN/OkJi3M0RAPvjggw8+SECeITFvZ0hMQH+lQK1fKVBAL7rooosuUkDfzpCYtzNUQI/jOI7jOFZAPvjggw8+WEDuDIl5O0NaQJ4hMW9nSFxATjbZZJNNXkB/pUCtXylgQNevFKj1K2FAL7rooosuYkCHxLydITFjQN/OkJi3M2RAN9lkk002ZUCP4ziO4zhmQOftDIl5O2dAPvjggw8+aECWArV+pUBpQO4MiXk7Q2pARhdddNFFa0CeITFvZ0hsQPYrBWr9Sm1ATjbZZJNNbkCmQK1fKVBvQH+lQK1fKXBAq6qqqqqqcEDXrxSo9StxQAO1fqVArXFAL7rooosuckBbv1Kg1q9yQIfEvJ0hMXNAs8kmm2yyc0DfzpCYtzN0QAvU+pUCtXRAN9lkk002dUBj3s6QmLd1QI/jOI7jOHZAu+iiiy66dkDn7QyJeTt3QBPzdobEvHdAPvjggw8+eEBq/UqBWr94QJYCtX6lQHlAwgcffPDBeUDuDIl5O0N6QBoS83aGxHpARhdddNFFe0ByHMdxHMd7QJ4hMW9nSHxAyiabbLLJfED2KwVq/Up9QCIxb2dIzH1ATjbZZJNNfkB6O0Ni3s5+QKZArV8pUH9A0kUXXXTRf0B/pUCtXymAQBWo9SsFaoBAq6qqqqqqgEBBrV8pUOuAQNevFKj1K4FAbbLJJptsgUADtX6lQK2BQJm3MyTm7YFAL7rooosugkDFvJ0hMW+CQFu/UqDWr4JA8cEHH3zwgkCHxLydITGDQB3HcRzHcYNAs8kmm2yyg0BJzNsZEvODQN/OkJi3M4RAddFFF110hEAL1PqVArWEQKHWrxSo9YRAN9lkk002hUDN2xkS83aFQGPezpCYt4VA+eCDDz74hUCP4ziO4ziGQCXm7QyJeYZAu+iiiy66hkBR61cK1PqGQOftDIl5O4dAffDBBx98h0AT83aGxLyHQKn1KwVq/YdAPvjggw8+iEDU+pUCtX6IQGr9SoFav4hAAAAAAAAAiUA=\",\"dtype\":\"float64\",\"shape\":[100]},\"y\":{\"__ndarray__\":\"AAAAAAAAAADZvhz43vLCPpCl63tjmwA/BNQEd2aFIj+dH4T8l+05P5gY0p3ULkw/cho8eaElWj/zwLYMbMZlPx3gkTYCxnA/ZnZBCwdeeD/dDkd55eiAP6hl39uGoYY/oMpfYddnjT8eUQQjn6SSPxha1d35KJc/DkpqCKZGnD+FoAJufQGhP0b+0PuKMaQ/z2uH9fe1pz/UZwFlNpGrPw/oTMO0xa8/CTDoqvEqsj9+HKE9HKK0P8TjWg2aSbc/SE0FLrEiuj9lvlLkri69P+BsvTp0N8A/eVx6313ywT+3MjXOx8jDPwBNig9qu8U/+XaoTgHLxz9sZGbKTvjJP/YukDUYRMw/q9TOgSevzj/XVMhMJZ3QP14MaYAp89E/Ihw/uQpa0z9ZhnauNNLUP2zXcSsUXNY/Y2bjwRb41z/CBqd0qqbZPzKitlw9aNs/m2cISz093T9Dh1FlFybfP6bte+CbkeA/JNJ8foSa4T+fqjvu+a3iP2VgpnIvzOM/DLhu/1b15D+RRZILoSnmPz01UmU8aec/BXB2Cla06D86zBcHGQvqP3V4+lCubes/BiYlrjzc7D/7s+6a6FbuP8k3djbU3e8/GRb7mI+48D+VkAVic4jxPzxnzs+iXvI/BvPn9ik78z9d5c2lEx70P7CHd2VpB/U/7OMTezP39T9DXxzneO32P6Ub6Gw/6vc/p6tRlIvt+D+Ul1uvYPf5P8zhf9/AB/s/3GdjG60e/D8ENCw1JTz9P/bftuQnYP4/Cd4nxrKK/z+sa2I04V0AQGKy5Cmp+QBAtUp4hq6YAUAo4k8Q7joCQCX6gxRk4AJAUwLiagyJA0Deypd54jQEQI9zvDjh4wRAIacuNgOWBUDbS/mYQksGQF7PFyWZAwdAgIvHPgC/B0BJaf7tcH0IQO59zOHjPglAT/Kcc1EDCkB+XlGqscoKQKnVEUD8lAtAiRSypChiDEDBb+n5LTINQJtpOx0DBQ5ATD0HrJ7aDkA77MMD97IPQLPnWCIBRxBAH56ZKtu1EEAfUG9yBCYRQPmv47R3lxFArzXqnC8KEkA=\",\"dtype\":\"float64\",\"shape\":[100]}},\"selected\":{\"id\":\"3128\",\"type\":\"Selection\"},\"selection_policy\":{\"id\":\"3129\",\"type\":\"UnionRenderers\"}},\"id\":\"2984\",\"type\":\"ColumnDataSource\"},{\"attributes\":{\"source\":{\"id\":\"2984\",\"type\":\"ColumnDataSource\"}},\"id\":\"2988\",\"type\":\"CDSView\"},{\"attributes\":{\"bottom_units\":\"screen\",\"fill_alpha\":{\"value\":0.5},\"fill_color\":{\"value\":\"lightgrey\"},\"left_units\":\"screen\",\"level\":\"overlay\",\"line_alpha\":{\"value\":1.0},\"line_color\":{\"value\":\"black\"},\"line_dash\":[4,4],\"line_width\":{\"value\":2},\"render_mode\":\"css\",\"right_units\":\"screen\",\"top_units\":\"screen\"},\"id\":\"2933\",\"type\":\"BoxAnnotation\"},{\"attributes\":{\"callback\":null,\"data\":{\"x\":{\"__ndarray__\":\"AAAAAAAAAAB/pUCtXykgQH+lQK1fKTBAPvjggw8+OEB/pUCtXylAQN/OkJi3M0RAPvjggw8+SECeITFvZ0hMQH+lQK1fKVBAL7rooosuUkDfzpCYtzNUQI/jOI7jOFZAPvjggw8+WEDuDIl5O0NaQJ4hMW9nSFxATjbZZJNNXkB/pUCtXylgQNevFKj1K2FAL7rooosuYkCHxLydITFjQN/OkJi3M2RAN9lkk002ZUCP4ziO4zhmQOftDIl5O2dAPvjggw8+aECWArV+pUBpQO4MiXk7Q2pARhdddNFFa0CeITFvZ0hsQPYrBWr9Sm1ATjbZZJNNbkCmQK1fKVBvQH+lQK1fKXBAq6qqqqqqcEDXrxSo9StxQAO1fqVArXFAL7rooosuckBbv1Kg1q9yQIfEvJ0hMXNAs8kmm2yyc0DfzpCYtzN0QAvU+pUCtXRAN9lkk002dUBj3s6QmLd1QI/jOI7jOHZAu+iiiy66dkDn7QyJeTt3QBPzdobEvHdAPvjggw8+eEBq/UqBWr94QJYCtX6lQHlAwgcffPDBeUDuDIl5O0N6QBoS83aGxHpARhdddNFFe0ByHMdxHMd7QJ4hMW9nSHxAyiabbLLJfED2KwVq/Up9QCIxb2dIzH1ATjbZZJNNfkB6O0Ni3s5+QKZArV8pUH9A0kUXXXTRf0B/pUCtXymAQBWo9SsFaoBAq6qqqqqqgEBBrV8pUOuAQNevFKj1K4FAbbLJJptsgUADtX6lQK2BQJm3MyTm7YFAL7rooosugkDFvJ0hMW+CQFu/UqDWr4JA8cEHH3zwgkCHxLydITGDQB3HcRzHcYNAs8kmm2yyg0BJzNsZEvODQN/OkJi3M4RAddFFF110hEAL1PqVArWEQKHWrxSo9YRAN9lkk002hUDN2xkS83aFQGPezpCYt4VA+eCDDz74hUCP4ziO4ziGQCXm7QyJeYZAu+iiiy66hkBR61cK1PqGQOftDIl5O4dAffDBBx98h0AT83aGxLyHQKn1KwVq/YdAPvjggw8+iEDU+pUCtX6IQGr9SoFav4hAAAAAAAAAiUA=\",\"dtype\":\"float64\",\"shape\":[100]},\"y\":{\"__ndarray__\":\"AAAAAAAAJEBaRanA2v4jQJ5iSrOK8SNAEnkYei3QI0BnU5ehpqgjQLafRi4OhyNAnEornHVtI0DO5Ua8YVojQD5/MfYLTCNA81mXvBVBI0DfOSqJiTgjQDw547a+MSNAv0UpyEAsI0C+CqoVvicjQPSzoF/8IyNAckw6V9EgI0CIuOO3HR4jQETEggTKGyNAl/sSU8QZI0CdJN3I/hcjQORTcYtuFiNAKHdvAAsVI0AeUg9DzRMjQM2x8b6vEiNAdkNW5a0RI0Csif30wxAjQHApts/uDyNAaWvJ2SsPI0A7qPzgeA4jQOM0twjUDSNAo0+xujsNI0Awm52argwjQHOxYHwrDCNA49MYXLELI0DVlLxXPwsjQITi2KnUCiNADQ1BpXAKI0AvUHyxEgojQHOu0Ee6CSNAe/7R8GYJI0BbyDlCGAkjQJxMPd3NCCNAOIsBbYcII0A25mKlRAgjQLtMzUEFCCNA4OdtBMkHI0DvYkq1jwcjQNcbniFZByNASV4+GyUHI0CJfxd48wYjQOv0thHEBiNAWHbmxJYGI0B3BFZxawYjQAyDTPlBBiNAJWdkQRoGI0Dz5U8w9AUjQMYApK7PBSNAShiqpqwFI0CMnDYEiwUjQCJbhLRqBSNADssVpksFI0BfpZrILQUjQAYMxwwRBSNAKqRSZPUEI0BhcNbB2gQjQA6LvRjBBCNAuVs1XagEI0DQvR2EkAQjQNwFAIN5BCNADpz2T2MEI0BaYLPhTQQjQCoraC85BCNA6qjDMCUEI0DyiufdEQQjQMAsYS//AyNA5isjHu0DI0DMyH2j2wMjQCeZGbnKAyNAhufyWLoDI0DQBFJ9qgMjQJ0UzSCbAyNAF2o3PowDI0B64a/QfQMjQC/whdNvAyNAEHJOQmIDI0A/vsoYVQMjQLKz/lJIAyNAt3YI7TsDI0BuskTjLwMjQDZiNjIkAyNANv6J1hgDI0AquBLNDQMjQIrzyBIDAyNA2XzHpPgCI0DP8kmA7gIjQBSwrKLkAiNA5aBnCdsCI0AvOg2y0QIjQCJqWJrIAiNArHUHwL8CI0A=\",\"dtype\":\"float64\",\"shape\":[100]}},\"selected\":{\"id\":\"2963\",\"type\":\"Selection\"},\"selection_policy\":{\"id\":\"2964\",\"type\":\"UnionRenderers\"}},\"id\":\"2936\",\"type\":\"ColumnDataSource\"},{\"attributes\":{},\"id\":\"2932\",\"type\":\"BasicTickFormatter\"},{\"attributes\":{},\"id\":\"2982\",\"type\":\"UnionRenderers\"},{\"attributes\":{\"label\":{\"value\":\"outside_H\"},\"renderers\":[{\"id\":\"2939\",\"type\":\"GlyphRenderer\"}]},\"id\":\"2949\",\"type\":\"LegendItem\"},{\"attributes\":{\"line_color\":\"#2ba02b\",\"line_width\":2,\"x\":{\"field\":\"x\"},\"y\":{\"field\":\"y\"}},\"id\":\"2951\",\"type\":\"Line\"},{\"attributes\":{\"data_source\":{\"id\":\"2936\",\"type\":\"ColumnDataSource\"},\"glyph\":{\"id\":\"2937\",\"type\":\"Line\"},\"hover_glyph\":null,\"muted_glyph\":null,\"nonselection_glyph\":{\"id\":\"2938\",\"type\":\"Line\"},\"selection_glyph\":null,\"view\":{\"id\":\"2940\",\"type\":\"CDSView\"}},\"id\":\"2939\",\"type\":\"GlyphRenderer\"},{\"attributes\":{\"line_color\":\"#1f77b3\",\"line_width\":2,\"x\":{\"field\":\"x\"},\"y\":{\"field\":\"y\"}},\"id\":\"2924\",\"type\":\"Line\"},{\"attributes\":{\"callback\":null,\"data\":{\"x\":{\"__ndarray__\":\"AAAAAAAAAAB/pUCtXykgQH+lQK1fKTBAPvjggw8+OEB/pUCtXylAQN/OkJi3M0RAPvjggw8+SECeITFvZ0hMQH+lQK1fKVBAL7rooosuUkDfzpCYtzNUQI/jOI7jOFZAPvjggw8+WEDuDIl5O0NaQJ4hMW9nSFxATjbZZJNNXkB/pUCtXylgQNevFKj1K2FAL7rooosuYkCHxLydITFjQN/OkJi3M2RAN9lkk002ZUCP4ziO4zhmQOftDIl5O2dAPvjggw8+aECWArV+pUBpQO4MiXk7Q2pARhdddNFFa0CeITFvZ0hsQPYrBWr9Sm1ATjbZZJNNbkCmQK1fKVBvQH+lQK1fKXBAq6qqqqqqcEDXrxSo9StxQAO1fqVArXFAL7rooosuckBbv1Kg1q9yQIfEvJ0hMXNAs8kmm2yyc0DfzpCYtzN0QAvU+pUCtXRAN9lkk002dUBj3s6QmLd1QI/jOI7jOHZAu+iiiy66dkDn7QyJeTt3QBPzdobEvHdAPvjggw8+eEBq/UqBWr94QJYCtX6lQHlAwgcffPDBeUDuDIl5O0N6QBoS83aGxHpARhdddNFFe0ByHMdxHMd7QJ4hMW9nSHxAyiabbLLJfED2KwVq/Up9QCIxb2dIzH1ATjbZZJNNfkB6O0Ni3s5+QKZArV8pUH9A0kUXXXTRf0B/pUCtXymAQBWo9SsFaoBAq6qqqqqqgEBBrV8pUOuAQNevFKj1K4FAbbLJJptsgUADtX6lQK2BQJm3MyTm7YFAL7rooosugkDFvJ0hMW+CQFu/UqDWr4JA8cEHH3zwgkCHxLydITGDQB3HcRzHcYNAs8kmm2yyg0BJzNsZEvODQN/OkJi3M4RAddFFF110hEAL1PqVArWEQKHWrxSo9YRAN9lkk002hUDN2xkS83aFQGPezpCYt4VA+eCDDz74hUCP4ziO4ziGQCXm7QyJeYZAu+iiiy66hkBR61cK1PqGQOftDIl5O4dAffDBBx98h0AT83aGxLyHQKn1KwVq/YdAPvjggw8+iEDU+pUCtX6IQGr9SoFav4hAAAAAAAAAiUA=\",\"dtype\":\"float64\",\"shape\":[100]},\"y\":{\"__ndarray__\":\"AAAAAAAAAADm7NX33vLCPjlMzntjmwA/M6nydmaFIj9IwHP8l+05P3iAxZ3ULkw/aUozeaElWj9m9rAMbMZlP0I8jjYCxnA/DQk9CwdeeD/4bkR55eiAP+BY3NuGoYY/6U1cYddnjT+MWQIjn6SSP0Yo0935KJc/JN1nCKZGnD8rTAFufQGhP7qLz/uKMaQ/2NqF9fe1pz8/uP9kNpGrP7EZS8O0xa8/ZjnnqvEqsj9ZFqA9HKK0PxPOWQ2aSbc/AigELrEiuj+EiVHkri69P5/KvDp0N8A/aLJ5313ywT/TgDTOx8jDP0eTiQ9qu8U/brWnTgHLxz8Nm2XKTvjJP8JdjzUYRMw/qPvNgSevzj9u5MdMJZ3QPw2YaIAp89E/6qM+uQpa0z87CnauNNLUP2lXcSsUXNY/fOLiwRb41z/6fqZ0qqbZP4kWtlw9aNs/ENgHSz093T/a81BlFybfPwOie+CbkeA/k4R8foSa4T8jWzvu+a3iP/0OpnIvzOM/uGRu/1b15D9Q8JELoSnmPxLeUWU8aec/8BZ2Cla06D87cRcHGQvqP40b+lCubes/N8ckrjzc7D9FU+6a6FbuPy/VdTbU3e8/2eP6mI+48D9jXQVic4jxPxgzzs+iXvI/8r3n9ik78z9Xr82lEx70P7lQd2VpB/U/BawTezP39T9sJhzneO32P9/h52w/6vc/9HBRlIvt+D/yW1uvYPf5Pzylf9/AB/s/XypjG60e/D+Z9Ss1JTz9P5+gtuQnYP4/xp0nxrKK/z8US2I04V0AQFWR5Cmp+QBAMyl4hq6YAUAwwE8Q7joCQLjXgxRk4AJAcN/hagyJA0CIp5d54jQEQMRPvDjh4wRA4YIuNgOWBUAnJ/mYQksGQDeqFyWZAwdA52XHPgC/B0A7Q/7tcH0IQGxXzOHjPglAW8ucc1EDCkAYN1GqscoKQNCtEUD8lAtAPuyxpChiDEAER+n5LTINQGxAOx0DBQ5ArBMHrJ7aDkApwsMD97IPQHHSWCIBRxBApoiZKtu1EEBuOm9yBCYRQBGa47R3lxFAjx/qnC8KEkA=\",\"dtype\":\"float64\",\"shape\":[100]}},\"selected\":{\"id\":\"3001\",\"type\":\"Selection\"},\"selection_policy\":{\"id\":\"3002\",\"type\":\"UnionRenderers\"}},\"id\":\"2966\",\"type\":\"ColumnDataSource\"},{\"attributes\":{},\"id\":\"2981\",\"type\":\"Selection\"},{\"attributes\":{\"data_source\":{\"id\":\"2950\",\"type\":\"ColumnDataSource\"},\"glyph\":{\"id\":\"2951\",\"type\":\"Line\"},\"hover_glyph\":null,\"muted_glyph\":null,\"nonselection_glyph\":{\"id\":\"2952\",\"type\":\"Line\"},\"selection_glyph\":null,\"view\":{\"id\":\"2954\",\"type\":\"CDSView\"}},\"id\":\"2953\",\"type\":\"GlyphRenderer\"},{\"attributes\":{},\"id\":\"2913\",\"type\":\"SaveTool\"},{\"attributes\":{\"callback\":null,\"data\":{\"x\":{\"__ndarray__\":\"AAAAAAAAAAB/pUCtXykgQH+lQK1fKTBAPvjggw8+OEB/pUCtXylAQN/OkJi3M0RAPvjggw8+SECeITFvZ0hMQH+lQK1fKVBAL7rooosuUkDfzpCYtzNUQI/jOI7jOFZAPvjggw8+WEDuDIl5O0NaQJ4hMW9nSFxATjbZZJNNXkB/pUCtXylgQNevFKj1K2FAL7rooosuYkCHxLydITFjQN/OkJi3M2RAN9lkk002ZUCP4ziO4zhmQOftDIl5O2dAPvjggw8+aECWArV+pUBpQO4MiXk7Q2pARhdddNFFa0CeITFvZ0hsQPYrBWr9Sm1ATjbZZJNNbkCmQK1fKVBvQH+lQK1fKXBAq6qqqqqqcEDXrxSo9StxQAO1fqVArXFAL7rooosuckBbv1Kg1q9yQIfEvJ0hMXNAs8kmm2yyc0DfzpCYtzN0QAvU+pUCtXRAN9lkk002dUBj3s6QmLd1QI/jOI7jOHZAu+iiiy66dkDn7QyJeTt3QBPzdobEvHdAPvjggw8+eEBq/UqBWr94QJYCtX6lQHlAwgcffPDBeUDuDIl5O0N6QBoS83aGxHpARhdddNFFe0ByHMdxHMd7QJ4hMW9nSHxAyiabbLLJfED2KwVq/Up9QCIxb2dIzH1ATjbZZJNNfkB6O0Ni3s5+QKZArV8pUH9A0kUXXXTRf0B/pUCtXymAQBWo9SsFaoBAq6qqqqqqgEBBrV8pUOuAQNevFKj1K4FAbbLJJptsgUADtX6lQK2BQJm3MyTm7YFAL7rooosugkDFvJ0hMW+CQFu/UqDWr4JA8cEHH3zwgkCHxLydITGDQB3HcRzHcYNAs8kmm2yyg0BJzNsZEvODQN/OkJi3M4RAddFFF110hEAL1PqVArWEQKHWrxSo9YRAN9lkk002hUDN2xkS83aFQGPezpCYt4VA+eCDDz74hUCP4ziO4ziGQCXm7QyJeYZAu+iiiy66hkBR61cK1PqGQOftDIl5O4dAffDBBx98h0AT83aGxLyHQKn1KwVq/YdAPvjggw8+iEDU+pUCtX6IQGr9SoFav4hAAAAAAAAAiUA=\",\"dtype\":\"float64\",\"shape\":[100]},\"y\":{\"__ndarray__\":\"AAAAAAAAJEAPbJXbjeekP4b8me0TWuE/rjO9yrxJ/T8s1n+gPAILQFdRQmbHyBJARB7MHPDPFkAiuoPYitAZQEZcvNXeERxA/jobFSPLHUANwA2wDiMfQC09QfAcGiBAiYXmCoGIIEAVGqy1IuMgQOpFcV6YLiFAryBZqzZuIUA64Ol/c6QhQKl5Ldsn0yFAlVBIWbz7IUDgF0zGRx8iQGzjbXikPiJAFkfGdH9aIkB3QQRXY3MiQNHZ1kfAiSJAofTr3/GdIkAz27iRQ7AiQN9X0wD0wCJA7JZYkDfQIkBD40BcOt4iQImb8cUh6yJAH7Juqg33IkDUSqNZGQIjQChKUVtcDCNA2qUdD+sVI0BJzv4s1x4jQFRaAC8wJyNAup52pwMvI0CZdzmJXTYjQF2E5GJIPSNAwUjvj81DI0CSD8tj9UkjQDlwlEvHTyNAJ5f17ElVI0AUxrU+g1ojQMjYx594XyNAOQze5y5kI0DhPC15qmgjQNk7d03vbCNA60kxAgFxI0Agssbi4nQjQIPt4vGXeCNA2y438SJ8I0Dzrl5ohn8jQLBcA6vEgiNA9rUo3t+FI0DJQtz82YgjQORPWdy0iyNAYtOwL3KOI0C+bwCLE5EjQEWNU2aakyNAeWT0HwiWI0CyQTL/XZgjQOtY7DWdmiNAOK1u4sacI0CqRDcR3J4jQDT7Q77doCNAxVdi1syiI0Dbo2k4qqQjQLQfJrZ2piNAsi8+FTOoI0BluJcQ4KkjQH1yYVh+qyNAF6Avkw6tI0B7RJZeka4jQG2evE8HsCNAw5rh83CxI0DQ6+3QzrIjQBoA2GUhtCNA49EYK2m1I0DaWCSTprYjQM56cAratyNABXST+AO5I0AJ7Ve/JLojQFomS7w8uyNA1+9hSEy8I0DbVKO4U70jQMK5WVxTviNATLGSgUu/I0DCTRxxPMAjQF8eznAmwSNAdjVEwwnCI0CBAQyo5sIjQEPg1Fu9wyNAalSWGI7EI0B96rEVWcUjQBfiC4gexiNAhMJDot7GI0CNj+qUmccjQKkquI1PyCNAeFOVuQDJI0A=\",\"dtype\":\"float64\",\"shape\":[100]}},\"selected\":{\"id\":\"2947\",\"type\":\"Selection\"},\"selection_policy\":{\"id\":\"2948\",\"type\":\"UnionRenderers\"}},\"id\":\"2923\",\"type\":\"ColumnDataSource\"},{\"attributes\":{},\"id\":\"3002\",\"type\":\"UnionRenderers\"},{\"attributes\":{\"text\":\"with ATP Synthase, Proton Pump, ATP Use\"},\"id\":\"2890\",\"type\":\"Title\"},{\"attributes\":{},\"id\":\"3129\",\"type\":\"UnionRenderers\"},{\"attributes\":{},\"id\":\"2910\",\"type\":\"PanTool\"},{\"attributes\":{},\"id\":\"2911\",\"type\":\"WheelZoomTool\"},{\"attributes\":{\"callback\":null},\"id\":\"2892\",\"type\":\"DataRange1d\"},{\"attributes\":{\"line_color\":\"#ff7e0e\",\"line_width\":2,\"x\":{\"field\":\"x\"},\"y\":{\"field\":\"y\"}},\"id\":\"2937\",\"type\":\"Line\"},{\"attributes\":{\"line_alpha\":0.1,\"line_color\":\"#1f77b4\",\"line_width\":2,\"x\":{\"field\":\"x\"},\"y\":{\"field\":\"y\"}},\"id\":\"2968\",\"type\":\"Line\"},{\"attributes\":{},\"id\":\"2914\",\"type\":\"ResetTool\"},{\"attributes\":{\"label\":{\"value\":\"bound atp synthase\"},\"renderers\":[{\"id\":\"2969\",\"type\":\"GlyphRenderer\"}]},\"id\":\"2983\",\"type\":\"LegendItem\"},{\"attributes\":{\"line_alpha\":0.1,\"line_color\":\"#1f77b4\",\"line_width\":2,\"x\":{\"field\":\"x\"},\"y\":{\"field\":\"y\"}},\"id\":\"2925\",\"type\":\"Line\"},{\"attributes\":{},\"id\":\"2964\",\"type\":\"UnionRenderers\"},{\"attributes\":{},\"id\":\"2915\",\"type\":\"HelpTool\"},{\"attributes\":{\"line_alpha\":0.1,\"line_color\":\"#1f77b4\",\"line_width\":2,\"x\":{\"field\":\"x\"},\"y\":{\"field\":\"y\"}},\"id\":\"2952\",\"type\":\"Line\"},{\"attributes\":{\"active_drag\":\"auto\",\"active_inspect\":\"auto\",\"active_multi\":null,\"active_scroll\":\"auto\",\"active_tap\":\"auto\",\"tools\":[{\"id\":\"2910\",\"type\":\"PanTool\"},{\"id\":\"2911\",\"type\":\"WheelZoomTool\"},{\"id\":\"2912\",\"type\":\"BoxZoomTool\"},{\"id\":\"2913\",\"type\":\"SaveTool\"},{\"id\":\"2914\",\"type\":\"ResetTool\"},{\"id\":\"2915\",\"type\":\"HelpTool\"}]},\"id\":\"2916\",\"type\":\"Toolbar\"},{\"attributes\":{\"callback\":null},\"id\":\"2894\",\"type\":\"DataRange1d\"},{\"attributes\":{\"overlay\":{\"id\":\"2933\",\"type\":\"BoxAnnotation\"}},\"id\":\"2912\",\"type\":\"BoxZoomTool\"},{\"attributes\":{},\"id\":\"2947\",\"type\":\"Selection\"},{\"attributes\":{\"label\":{\"value\":\"atp\"},\"renderers\":[{\"id\":\"2926\",\"type\":\"GlyphRenderer\"}]},\"id\":\"2935\",\"type\":\"LegendItem\"},{\"attributes\":{\"line_alpha\":0.1,\"line_color\":\"#1f77b4\",\"line_width\":2,\"x\":{\"field\":\"x\"},\"y\":{\"field\":\"y\"}},\"id\":\"2986\",\"type\":\"Line\"},{\"attributes\":{},\"id\":\"2948\",\"type\":\"UnionRenderers\"},{\"attributes\":{\"callback\":null,\"data\":{\"x\":{\"__ndarray__\":\"AAAAAAAAAAB/pUCtXykgQH+lQK1fKTBAPvjggw8+OEB/pUCtXylAQN/OkJi3M0RAPvjggw8+SECeITFvZ0hMQH+lQK1fKVBAL7rooosuUkDfzpCYtzNUQI/jOI7jOFZAPvjggw8+WEDuDIl5O0NaQJ4hMW9nSFxATjbZZJNNXkB/pUCtXylgQNevFKj1K2FAL7rooosuYkCHxLydITFjQN/OkJi3M2RAN9lkk002ZUCP4ziO4zhmQOftDIl5O2dAPvjggw8+aECWArV+pUBpQO4MiXk7Q2pARhdddNFFa0CeITFvZ0hsQPYrBWr9Sm1ATjbZZJNNbkCmQK1fKVBvQH+lQK1fKXBAq6qqqqqqcEDXrxSo9StxQAO1fqVArXFAL7rooosuckBbv1Kg1q9yQIfEvJ0hMXNAs8kmm2yyc0DfzpCYtzN0QAvU+pUCtXRAN9lkk002dUBj3s6QmLd1QI/jOI7jOHZAu+iiiy66dkDn7QyJeTt3QBPzdobEvHdAPvjggw8+eEBq/UqBWr94QJYCtX6lQHlAwgcffPDBeUDuDIl5O0N6QBoS83aGxHpARhdddNFFe0ByHMdxHMd7QJ4hMW9nSHxAyiabbLLJfED2KwVq/Up9QCIxb2dIzH1ATjbZZJNNfkB6O0Ni3s5+QKZArV8pUH9A0kUXXXTRf0B/pUCtXymAQBWo9SsFaoBAq6qqqqqqgEBBrV8pUOuAQNevFKj1K4FAbbLJJptsgUADtX6lQK2BQJm3MyTm7YFAL7rooosugkDFvJ0hMW+CQFu/UqDWr4JA8cEHH3zwgkCHxLydITGDQB3HcRzHcYNAs8kmm2yyg0BJzNsZEvODQN/OkJi3M4RAddFFF110hEAL1PqVArWEQKHWrxSo9YRAN9lkk002hUDN2xkS83aFQGPezpCYt4VA+eCDDz74hUCP4ziO4ziGQCXm7QyJeYZAu+iiiy66hkBR61cK1PqGQOftDIl5O4dAffDBBx98h0AT83aGxLyHQKn1KwVq/YdAPvjggw8+iEDU+pUCtX6IQGr9SoFav4hAAAAAAAAAiUA=\",\"dtype\":\"float64\",\"shape\":[100]},\"y\":{\"__ndarray__\":\"AAAAAAAAAABULatr9VNiP/DfOmuZ6pw/LH/D80Lptz/oKiuaV9bFP5wXWG50PM4/gq6WekxR0j+KSCN3yLPUP5ga0DmBftY/8MMUbUjd1z8bxrjazu7YPyzamCMpyNk//0nX+uZ32j8Cqr5KPQjbP1GD6Qt0gNs/bnO2GNXl2z+v8IgDSTzcPzR5p2+/htw/IY+gnXXH3D8xblvkJgDdPziF1ZEuMt0/sRwR8p9e3T8UvhWeV4bdP0jIySEIqt0/FZM3VUPK3T8pzE5ggefdP6HTOgkmAt4/Z5TSxoQa3j8y+mrg4zDePxtlGel+Rd4/Cg3WqYhY3j+Fm0ysLGrePzvT6XOQet4/NoXlfNSJ3j/0Zm0IFZjePwqx48Rqpd4/DGDeV+ux3j/m+3XQqb3eP2Ez6gW3yN4/QDLA5SHT3j879sa499zePyduVlhE5t4/k5rOXxLv3j+oOqNTa/feP2dqVsZX/94/ywVDct8G3z/1o7NWCQ7fP+OGPMzbFN8/qjg0mFwb3z+lEBD9kCHfP4tkIcl9J98/CjcxYyct3z/3cj/VkTLfP1ygb9bAN98/VR1z07c83z+ZQwP2eUHfP0PpfysKRt8/nvi8KmtK3z9ncCx5n07fP8OddG+pUt8/JKBGPYtW3z8gVqvsRlrfPwmBHmfeXd8/Z3yrdVNh3z969THFp2TfP+qfTujcZ98/hIpUWfRq3z+ZR0h8723fPxhG/5/PcN8/2n8sAZZz3z9S9pPJQ3bfP1Wc+hLaeN8/XeSK51l73z9Fow5DxH3fP2dp2hMagN8/xoSaO1yC3z8L6EaQi4TfP8DczNyoht8/vRCj4bSI3z95Z79VsIrfP9ltXeabjN8/e74SOXiO3z8a0gPqRZDfP3z7QY8Fkt8/dL8xtreT3z+DOajmXJXfPw6LKaD1lt8/MyrxXoKY3z9ls2mXA5rfP1G6M7l5m98/TDrALuWc3z/A+6hdRp7fP9qP4aadn98/0mUQZ+ug3z8Rp8H2L6LfP2X+aapro98/V+QL056k3z8Qu1i+yaXfP5G88rTspt8/QEsR/weo3z8=\",\"dtype\":\"float64\",\"shape\":[100]}},\"selected\":{\"id\":\"2981\",\"type\":\"Selection\"},\"selection_policy\":{\"id\":\"2982\",\"type\":\"UnionRenderers\"}},\"id\":\"2950\",\"type\":\"ColumnDataSource\"},{\"attributes\":{},\"id\":\"3128\",\"type\":\"Selection\"},{\"attributes\":{},\"id\":\"2896\",\"type\":\"LinearScale\"},{\"attributes\":{},\"id\":\"2898\",\"type\":\"LinearScale\"},{\"attributes\":{\"source\":{\"id\":\"2936\",\"type\":\"ColumnDataSource\"}},\"id\":\"2940\",\"type\":\"CDSView\"},{\"attributes\":{\"ticker\":{\"id\":\"2901\",\"type\":\"BasicTicker\"}},\"id\":\"2904\",\"type\":\"Grid\"},{\"attributes\":{\"source\":{\"id\":\"2923\",\"type\":\"ColumnDataSource\"}},\"id\":\"2927\",\"type\":\"CDSView\"},{\"attributes\":{\"line_color\":\"#9367bc\",\"line_width\":2,\"x\":{\"field\":\"x\"},\"y\":{\"field\":\"y\"}},\"id\":\"2967\",\"type\":\"Line\"},{\"attributes\":{},\"id\":\"2930\",\"type\":\"BasicTickFormatter\"},{\"attributes\":{\"axis_label\":\"time (sec)\",\"formatter\":{\"id\":\"2930\",\"type\":\"BasicTickFormatter\"},\"ticker\":{\"id\":\"2901\",\"type\":\"BasicTicker\"}},\"id\":\"2900\",\"type\":\"LinearAxis\"},{\"attributes\":{},\"id\":\"2901\",\"type\":\"BasicTicker\"}],\"root_ids\":[\"2889\"]},\"title\":\"Bokeh Application\",\"version\":\"1.4.0\"}};\n",
       "  var render_items = [{\"docid\":\"78122ed6-598f-475e-967c-19a536ec6be3\",\"roots\":{\"2889\":\"42e8c1d6-04f2-4ebf-bc80-7299dab091cc\"}}];\n",
       "  root.Bokeh.embed.embed_items_notebook(docs_json, render_items);\n",
       "\n",
       "  }\n",
       "  if (root.Bokeh !== undefined) {\n",
       "    embed_document(root);\n",
       "  } else {\n",
       "    var attempts = 0;\n",
       "    var timer = setInterval(function(root) {\n",
       "      if (root.Bokeh !== undefined) {\n",
       "        clearInterval(timer);\n",
       "        embed_document(root);\n",
       "      } else {\n",
       "        attempts++;\n",
       "        if (attempts > 100) {\n",
       "          clearInterval(timer);\n",
       "          console.log(\"Bokeh: ERROR: Unable to run BokehJS code because BokehJS library is missing\");\n",
       "        }\n",
       "      }\n",
       "    }, 10, root)\n",
       "  }\n",
       "})(window);"
      ],
      "application/vnd.bokehjs_exec.v0+json": ""
     },
     "metadata": {
      "application/vnd.bokehjs_exec.v0+json": {
       "id": "2889"
      }
     },
     "output_type": "display_data"
    }
   ],
   "source": [
    "#plt_timepoints = timepoints/60\n",
    "\n",
    "p4 = bokeh.plotting.figure(width = 450, height = 350, title = 'with ATP Synthase, Proton Pump, ATP Use',\n",
    "                          x_axis_label = 'time (sec)',\n",
    "                          y_axis_label = 'concentration (nM)')\n",
    "plot_list = [ATP_id_37, outside_H_id, inside_H_id, atp_synthase_b_protein_id, proton_pump_b_protein_id]\n",
    "plot_str = ['atp', 'outside_H', 'inside_H', 'bound atp synthase', 'bound proton pump']\n",
    "for i,item in enumerate(plot_list):\n",
    "    p4.line(timepoints, results_37[item], line_width = 2, legend_label = plot_str[i], color = palette[i])\n",
    "#p3.line(plt_timepoints, results_everything[ATP_id3])\n",
    "p4.legend.click_policy = 'hide'\n",
    "p4.legend.location = 'center_right'\n",
    "\n",
    "bokeh.io.show(p4)\n",
    "\n"
   ]
  },
  {
   "cell_type": "markdown",
   "metadata": {},
   "source": [
    "## Combine at 100 C\n",
    "---"
   ]
  },
  {
   "cell_type": "code",
   "execution_count": 36,
   "metadata": {},
   "outputs": [],
   "source": [
    "# atp synthase models\n",
    "ss1_atpsyn_txtl = createSubsystem('atpsyn_100temp_machinery_txtl.xml', subsystemName = 'atpsyn_txtl')\n",
    "ss2_atpsyn_mi = createSubsystem('atpsynthase_membrane_integration.xml', subsystemName = 'atpsyn_mi')\n",
    "ss3_atpsynthesis = createSubsystem('atp_synthesis_through_atpsynthase.xml', subsystemName = 'atpsynthesis')\n",
    "ss4_atp_use = createSubsystem('atp_use.xml', subsystemName = 'atp_use')\n",
    "#ss5_pp_txtl = createSubsystem('proton_pump_tx_tl.xml', subsystemName = 'pp_txtl')\n",
    "ss5_pp_txtl = createSubsystem('proton_pump_100temp_machinery_txtl.xml', subsystemName = 'pp_txtl')\n",
    "ss6_pp_mi = createSubsystem('proton_pump_membrane_integration.xml', subsystemName = 'pp_mi')\n",
    "ss7_protontransport = createSubsystem('proton_transport_through_proton_pump.xml', subsystemName = 'protontransport')"
   ]
  },
  {
   "cell_type": "code",
   "execution_count": 37,
   "metadata": {},
   "outputs": [],
   "source": [
    "entire_subsystem = ss1_atpsyn_txtl + ss2_atpsyn_mi + ss3_atpsynthesis + ss4_atp_use + ss5_pp_txtl + ss6_pp_mi + ss7_protontransport"
   ]
  },
  {
   "cell_type": "code",
   "execution_count": 38,
   "metadata": {},
   "outputs": [],
   "source": [
    "# Initial conditions\n",
    "spec_list_10 = ['dna_proton_pump', 'dna_atpsyn','proton_outside_H', 'metabolite_atp','protein_RNAP_machinery', \n",
    "                'protein_Ribo_machinery', 'protein_RNAse_machinery']\n",
    "for i,spec in enumerate(spec_list_10):\n",
    "    entire_subsystem.setSpeciesAmount(spec,10)\n",
    "\n",
    "\n",
    "# timepoints and get results\n",
    "# timepoints = np.linspace(0,10,100)\n",
    "# results, _ = entire_subsystem.simulateWithBioscrape(timepoints, sbml_warnings = False)\n",
    "\n",
    "# Get species IDs\n",
    "ATP_id_100 = entire_subsystem.getSpeciesByName('metabolite_atp').getId()\n",
    "ADP_id = entire_subsystem.getSpeciesByName('metabolite_adp').getId()\n",
    "\n",
    "outside_H_id = entire_subsystem.getSpeciesByName('proton_outside_H').getId()\n",
    "inside_H_id = entire_subsystem.getSpeciesByName('proton_inside_H').getId()\n",
    "\n",
    "proton_pump_b_protein_id = entire_subsystem.getSpeciesByName('protein_proton_pump_b').getId()\n",
    "proton_pump_f_protein_id = entire_subsystem.getSpeciesByName('protein_proton_pump').getId()\n",
    "\n",
    "atp_synthase_b_protein_id = entire_subsystem.getSpeciesByName('protein_atpsyn_b').getId()\n",
    "atp_synthase_f_protein_id = entire_subsystem.getSpeciesByName('protein_atpsyn').getId()"
   ]
  },
  {
   "cell_type": "code",
   "execution_count": 39,
   "metadata": {},
   "outputs": [],
   "source": [
    "timepoints = np.linspace(0,800,100)\n",
    "results_100, _ = entire_subsystem.simulateWithBioscrape(timepoints, sbml_warnings = False)"
   ]
  },
  {
   "cell_type": "code",
   "execution_count": 40,
   "metadata": {},
   "outputs": [
    {
     "data": {
      "text/html": [
       "\n",
       "\n",
       "\n",
       "\n",
       "\n",
       "\n",
       "  <div class=\"bk-root\" id=\"53c943e8-5747-483a-9756-0fa329d26edc\" data-root-id=\"3226\"></div>\n"
      ]
     },
     "metadata": {},
     "output_type": "display_data"
    },
    {
     "data": {
      "application/javascript": [
       "(function(root) {\n",
       "  function embed_document(root) {\n",
       "    \n",
       "  var docs_json = {\"e8a0b8ad-38aa-4e8a-9fff-3306d72d85a9\":{\"roots\":{\"references\":[{\"attributes\":{\"below\":[{\"id\":\"3237\",\"type\":\"LinearAxis\"}],\"center\":[{\"id\":\"3241\",\"type\":\"Grid\"},{\"id\":\"3246\",\"type\":\"Grid\"},{\"id\":\"3271\",\"type\":\"Legend\"}],\"left\":[{\"id\":\"3242\",\"type\":\"LinearAxis\"}],\"plot_height\":350,\"plot_width\":450,\"renderers\":[{\"id\":\"3263\",\"type\":\"GlyphRenderer\"},{\"id\":\"3276\",\"type\":\"GlyphRenderer\"},{\"id\":\"3290\",\"type\":\"GlyphRenderer\"},{\"id\":\"3306\",\"type\":\"GlyphRenderer\"},{\"id\":\"3324\",\"type\":\"GlyphRenderer\"}],\"title\":{\"id\":\"3227\",\"type\":\"Title\"},\"toolbar\":{\"id\":\"3253\",\"type\":\"Toolbar\"},\"x_range\":{\"id\":\"3229\",\"type\":\"DataRange1d\"},\"x_scale\":{\"id\":\"3233\",\"type\":\"LinearScale\"},\"y_range\":{\"id\":\"3231\",\"type\":\"DataRange1d\"},\"y_scale\":{\"id\":\"3235\",\"type\":\"LinearScale\"}},\"id\":\"3226\",\"subtype\":\"Figure\",\"type\":\"Plot\"},{\"attributes\":{\"label\":{\"value\":\"bound atp synthase\"},\"renderers\":[{\"id\":\"3306\",\"type\":\"GlyphRenderer\"}]},\"id\":\"3320\",\"type\":\"LegendItem\"},{\"attributes\":{\"line_alpha\":0.1,\"line_color\":\"#1f77b4\",\"line_width\":2,\"x\":{\"field\":\"x\"},\"y\":{\"field\":\"y\"}},\"id\":\"3262\",\"type\":\"Line\"},{\"attributes\":{\"data_source\":{\"id\":\"3273\",\"type\":\"ColumnDataSource\"},\"glyph\":{\"id\":\"3274\",\"type\":\"Line\"},\"hover_glyph\":null,\"muted_glyph\":null,\"nonselection_glyph\":{\"id\":\"3275\",\"type\":\"Line\"},\"selection_glyph\":null,\"view\":{\"id\":\"3277\",\"type\":\"CDSView\"}},\"id\":\"3276\",\"type\":\"GlyphRenderer\"},{\"attributes\":{\"dimension\":1,\"ticker\":{\"id\":\"3243\",\"type\":\"BasicTicker\"}},\"id\":\"3246\",\"type\":\"Grid\"},{\"attributes\":{\"line_color\":\"#ff7e0e\",\"line_width\":2,\"x\":{\"field\":\"x\"},\"y\":{\"field\":\"y\"}},\"id\":\"3274\",\"type\":\"Line\"},{\"attributes\":{\"callback\":null,\"data\":{\"x\":{\"__ndarray__\":\"AAAAAAAAAAB/pUCtXykgQH+lQK1fKTBAPvjggw8+OEB/pUCtXylAQN/OkJi3M0RAPvjggw8+SECeITFvZ0hMQH+lQK1fKVBAL7rooosuUkDfzpCYtzNUQI/jOI7jOFZAPvjggw8+WEDuDIl5O0NaQJ4hMW9nSFxATjbZZJNNXkB/pUCtXylgQNevFKj1K2FAL7rooosuYkCHxLydITFjQN/OkJi3M2RAN9lkk002ZUCP4ziO4zhmQOftDIl5O2dAPvjggw8+aECWArV+pUBpQO4MiXk7Q2pARhdddNFFa0CeITFvZ0hsQPYrBWr9Sm1ATjbZZJNNbkCmQK1fKVBvQH+lQK1fKXBAq6qqqqqqcEDXrxSo9StxQAO1fqVArXFAL7rooosuckBbv1Kg1q9yQIfEvJ0hMXNAs8kmm2yyc0DfzpCYtzN0QAvU+pUCtXRAN9lkk002dUBj3s6QmLd1QI/jOI7jOHZAu+iiiy66dkDn7QyJeTt3QBPzdobEvHdAPvjggw8+eEBq/UqBWr94QJYCtX6lQHlAwgcffPDBeUDuDIl5O0N6QBoS83aGxHpARhdddNFFe0ByHMdxHMd7QJ4hMW9nSHxAyiabbLLJfED2KwVq/Up9QCIxb2dIzH1ATjbZZJNNfkB6O0Ni3s5+QKZArV8pUH9A0kUXXXTRf0B/pUCtXymAQBWo9SsFaoBAq6qqqqqqgEBBrV8pUOuAQNevFKj1K4FAbbLJJptsgUADtX6lQK2BQJm3MyTm7YFAL7rooosugkDFvJ0hMW+CQFu/UqDWr4JA8cEHH3zwgkCHxLydITGDQB3HcRzHcYNAs8kmm2yyg0BJzNsZEvODQN/OkJi3M4RAddFFF110hEAL1PqVArWEQKHWrxSo9YRAN9lkk002hUDN2xkS83aFQGPezpCYt4VA+eCDDz74hUCP4ziO4ziGQCXm7QyJeYZAu+iiiy66hkBR61cK1PqGQOftDIl5O4dAffDBBx98h0AT83aGxLyHQKn1KwVq/YdAPvjggw8+iEDU+pUCtX6IQGr9SoFav4hAAAAAAAAAiUA=\",\"dtype\":\"float64\",\"shape\":[100]},\"y\":{\"__ndarray__\":\"AAAAAAAAAABKAQxqMVyRPphvvl9V4c4+nhJMWGFz8T5T8/zQRLkIP9afp19TKRs/Vg5cXM9vKT95qN7ig1s1P1bVxLxkkUA/SJyDSXU2SD+k9ME51eJQP1g6oizAsFY/R7XxhHeTXT8GeLn9istiP1NpjC7XYmc/uEZ9fM6TbD94SmzL8zBxP/NnVTYAaHQ/2DBtKDzwdz9ptbD2osp7P2HZp84E+H8/wkEbKYc8gj/TsMdwJ6eEP0DLUeQePIc/bTmrQJ/7iT9MGSIX0uWMPyUV/jra+o8/YUo9dmqdkT+t54Zm7VKTPyFmUFMAHpU/sUClBqz+lj9rXXvy9/SYP5FOk2bqAJs/4oyQvIginT/MwuZ711mfP7ewkjtt06A/Z8TnccoEoj9BhPS2BEGjPwK9zSMdiKQ/tj8OmxTapT/SoBHO6zanPwNXL0Gjnqg/CRMpTzsRqj/MhPErtI6rP3BO5eYNF60/I96ZbEiqrj9noSTEMSSwP0EKg3Kv+LA/BtNGB53SsT9FQgM5+rGyPwAEQ6/GlrM/1QzJAgKBtD/U4r29q3C1PxPYlFvDZbY/tNRwSUhgtz8K8gDmOWC4P5a5ioGXZbk/pmj1XWBwuj9Xq8auk4C7P1Z6HJkwlrw/pkqmMzaxvT8G3ZyGo9G+P6pJuIt3978/4doSl1iRwD/whT2lpynBP+ndVVeoxME/B1r+DFpiwj/4L3wevALDP/5nsdzNpcM/oykXkY5LxD8zO7h9/fPEP4dxK90Zn8U/PgSP4uJMxj9dnoO5V/3GP8ZoJ4Z3sMc/HGwSZUFmyD87J1NrtB7JP5gAa6bP2ck/ux5LHJKXyj/hllHL+lfLP4wfOaoIG8w/JP00qLrgzD/A2BytD6nNPy1/ypgGdM4/UM2PQ55Bzz8+8iO/6gjQP+1wG4lVctA/iTKC4A7d0D/MrlwiFknRPyAn5KdqttE/IF+Kxgsl0j8UX/rP+JTSPzeAGRIxBtM/NP0I17N40z8gBShlgOzTPzlbFf+VYdQ/BDuz4/PX1D+EZilOmU/VP48g6HWFyNU/SmKrjrdC1j8=\",\"dtype\":\"float64\",\"shape\":[100]}},\"selected\":{\"id\":\"3338\",\"type\":\"Selection\"},\"selection_policy\":{\"id\":\"3339\",\"type\":\"UnionRenderers\"}},\"id\":\"3303\",\"type\":\"ColumnDataSource\"},{\"attributes\":{},\"id\":\"3238\",\"type\":\"BasicTicker\"},{\"attributes\":{\"source\":{\"id\":\"3260\",\"type\":\"ColumnDataSource\"}},\"id\":\"3264\",\"type\":\"CDSView\"},{\"attributes\":{\"data_source\":{\"id\":\"3260\",\"type\":\"ColumnDataSource\"},\"glyph\":{\"id\":\"3261\",\"type\":\"Line\"},\"hover_glyph\":null,\"muted_glyph\":null,\"nonselection_glyph\":{\"id\":\"3262\",\"type\":\"Line\"},\"selection_glyph\":null,\"view\":{\"id\":\"3264\",\"type\":\"CDSView\"}},\"id\":\"3263\",\"type\":\"GlyphRenderer\"},{\"attributes\":{\"ticker\":{\"id\":\"3238\",\"type\":\"BasicTicker\"}},\"id\":\"3241\",\"type\":\"Grid\"},{\"attributes\":{\"source\":{\"id\":\"3273\",\"type\":\"ColumnDataSource\"}},\"id\":\"3277\",\"type\":\"CDSView\"},{\"attributes\":{\"line_color\":\"#9367bc\",\"line_width\":2,\"x\":{\"field\":\"x\"},\"y\":{\"field\":\"y\"}},\"id\":\"3304\",\"type\":\"Line\"},{\"attributes\":{},\"id\":\"3243\",\"type\":\"BasicTicker\"},{\"attributes\":{},\"id\":\"3267\",\"type\":\"BasicTickFormatter\"},{\"attributes\":{},\"id\":\"3338\",\"type\":\"Selection\"},{\"attributes\":{\"axis_label\":\"concentration (nM)\",\"formatter\":{\"id\":\"3269\",\"type\":\"BasicTickFormatter\"},\"ticker\":{\"id\":\"3243\",\"type\":\"BasicTicker\"}},\"id\":\"3242\",\"type\":\"LinearAxis\"},{\"attributes\":{},\"id\":\"3319\",\"type\":\"UnionRenderers\"},{\"attributes\":{\"line_color\":\"#2ba02b\",\"line_width\":2,\"x\":{\"field\":\"x\"},\"y\":{\"field\":\"y\"}},\"id\":\"3288\",\"type\":\"Line\"},{\"attributes\":{\"source\":{\"id\":\"3321\",\"type\":\"ColumnDataSource\"}},\"id\":\"3325\",\"type\":\"CDSView\"},{\"attributes\":{\"line_color\":\"#1f77b3\",\"line_width\":2,\"x\":{\"field\":\"x\"},\"y\":{\"field\":\"y\"}},\"id\":\"3261\",\"type\":\"Line\"},{\"attributes\":{\"line_alpha\":0.1,\"line_color\":\"#1f77b4\",\"line_width\":2,\"x\":{\"field\":\"x\"},\"y\":{\"field\":\"y\"}},\"id\":\"3289\",\"type\":\"Line\"},{\"attributes\":{},\"id\":\"3301\",\"type\":\"UnionRenderers\"},{\"attributes\":{\"label\":{\"value\":\"atp\"},\"renderers\":[{\"id\":\"3263\",\"type\":\"GlyphRenderer\"}]},\"id\":\"3272\",\"type\":\"LegendItem\"},{\"attributes\":{\"label\":{\"value\":\"outside_H\"},\"renderers\":[{\"id\":\"3276\",\"type\":\"GlyphRenderer\"}]},\"id\":\"3286\",\"type\":\"LegendItem\"},{\"attributes\":{},\"id\":\"3300\",\"type\":\"Selection\"},{\"attributes\":{\"data_source\":{\"id\":\"3287\",\"type\":\"ColumnDataSource\"},\"glyph\":{\"id\":\"3288\",\"type\":\"Line\"},\"hover_glyph\":null,\"muted_glyph\":null,\"nonselection_glyph\":{\"id\":\"3289\",\"type\":\"Line\"},\"selection_glyph\":null,\"view\":{\"id\":\"3291\",\"type\":\"CDSView\"}},\"id\":\"3290\",\"type\":\"GlyphRenderer\"},{\"attributes\":{\"callback\":null,\"data\":{\"x\":{\"__ndarray__\":\"AAAAAAAAAAB/pUCtXykgQH+lQK1fKTBAPvjggw8+OEB/pUCtXylAQN/OkJi3M0RAPvjggw8+SECeITFvZ0hMQH+lQK1fKVBAL7rooosuUkDfzpCYtzNUQI/jOI7jOFZAPvjggw8+WEDuDIl5O0NaQJ4hMW9nSFxATjbZZJNNXkB/pUCtXylgQNevFKj1K2FAL7rooosuYkCHxLydITFjQN/OkJi3M2RAN9lkk002ZUCP4ziO4zhmQOftDIl5O2dAPvjggw8+aECWArV+pUBpQO4MiXk7Q2pARhdddNFFa0CeITFvZ0hsQPYrBWr9Sm1ATjbZZJNNbkCmQK1fKVBvQH+lQK1fKXBAq6qqqqqqcEDXrxSo9StxQAO1fqVArXFAL7rooosuckBbv1Kg1q9yQIfEvJ0hMXNAs8kmm2yyc0DfzpCYtzN0QAvU+pUCtXRAN9lkk002dUBj3s6QmLd1QI/jOI7jOHZAu+iiiy66dkDn7QyJeTt3QBPzdobEvHdAPvjggw8+eEBq/UqBWr94QJYCtX6lQHlAwgcffPDBeUDuDIl5O0N6QBoS83aGxHpARhdddNFFe0ByHMdxHMd7QJ4hMW9nSHxAyiabbLLJfED2KwVq/Up9QCIxb2dIzH1ATjbZZJNNfkB6O0Ni3s5+QKZArV8pUH9A0kUXXXTRf0B/pUCtXymAQBWo9SsFaoBAq6qqqqqqgEBBrV8pUOuAQNevFKj1K4FAbbLJJptsgUADtX6lQK2BQJm3MyTm7YFAL7rooosugkDFvJ0hMW+CQFu/UqDWr4JA8cEHH3zwgkCHxLydITGDQB3HcRzHcYNAs8kmm2yyg0BJzNsZEvODQN/OkJi3M4RAddFFF110hEAL1PqVArWEQKHWrxSo9YRAN9lkk002hUDN2xkS83aFQGPezpCYt4VA+eCDDz74hUCP4ziO4ziGQCXm7QyJeYZAu+iiiy66hkBR61cK1PqGQOftDIl5O4dAffDBBx98h0AT83aGxLyHQKn1KwVq/YdAPvjggw8+iEDU+pUCtX6IQGr9SoFav4hAAAAAAAAAiUA=\",\"dtype\":\"float64\",\"shape\":[100]},\"y\":{\"__ndarray__\":\"AAAAAAAAAAApAsLqo+owP6wcRPAwtm0/6cf2k6j7jz8X49VZjmykP/ULpRuQILM/oHfL64ZUvT/6vOPdfb7DP5wxipiTasg/5dCHQfuJzD99P0qWZw3QP/2CIbwQldE/aYwkYsPk0j+v71E5NAXUP1rjMQ8h/tQ/zdaOehnW1T/KxUYLjZLWP/YnkyDxN9c/XqCa3erJ1z9MYkucdUvYP9Kejp4Dv9g/1XuRyZgm2T/Ol1sr4IPZP47TjiE92Nk/4jys9Ngk2j8XmWivrWraP1jL67qOqto/44E7xS/l2j9Oz79DKhvbPx7EFOoBTds/5xwURih72z8jaueq/6XbP3TNzJndzds/Kdobuwzz2z9rL2d8zhXcP53RaW1cNtw/Vf8aYOlU3D8IVJJQonHcP7scDj2vjNw/qXeTyTOm3D8ev/rNT77cP/jim9kf1dw/zM2Ekr3q3D+lsdEXQP/cPzAphEq8Et0/0D6GEUUl3T951qyT6zbdP6qDUWm/R90/OSIQyM5X3T9haMmoJmfdP/Q6uerSdd0/z1W0bN6D3T9omN8qU5HdPyKGkFM6nt0/rFSuW5yq3T+kl0wQgbbdP6zHqKbvwd0/OFEhyu7M3T9s7FmphNfdP+6BHv+24d0/TdFSIYvr3T9evksDBvXdP2BhOUMs/t0/BAjWMQIH3j/TP6/Piw/eP09SAePMF94/wux+7cgf3j8r/hA7gyfePy0RGOL+Lt4/LuIDyT423j+uH8yoRT3ePzSMPhAWRN4/mjgMarJK3j8A9Of5HFHePxb+JOVXV94/2nEuMGVd3j/o5PrDRmPeP4tGJm7+aN4/qKrl4o1u3j/NNrXA9nPeP2Rcqo46ed4/MXzMv1p+3j/TN4W0WIPeP5t2KLs1iN4/wNE9EfOM3j9BZ6DkkZHePwMsdVQTlt4/zKr4cXia3j94hVdBwp7eP1LYerrxot4/G5OYyQen3j+nHmJQBaveP58WqiXrrt4/1nVxF7qy3j/+wVTpcrbeP4DLQlcWut4/vQhuFaW93j+eRXTOH8HePwK7DieHxN4/eZ9DvdvH3j8=\",\"dtype\":\"float64\",\"shape\":[100]}},\"selected\":{\"id\":\"3318\",\"type\":\"Selection\"},\"selection_policy\":{\"id\":\"3319\",\"type\":\"UnionRenderers\"}},\"id\":\"3287\",\"type\":\"ColumnDataSource\"},{\"attributes\":{\"bottom_units\":\"screen\",\"fill_alpha\":{\"value\":0.5},\"fill_color\":{\"value\":\"lightgrey\"},\"left_units\":\"screen\",\"level\":\"overlay\",\"line_alpha\":{\"value\":1.0},\"line_color\":{\"value\":\"black\"},\"line_dash\":[4,4],\"line_width\":{\"value\":2},\"render_mode\":\"css\",\"right_units\":\"screen\",\"top_units\":\"screen\"},\"id\":\"3270\",\"type\":\"BoxAnnotation\"},{\"attributes\":{\"active_drag\":\"auto\",\"active_inspect\":\"auto\",\"active_multi\":null,\"active_scroll\":\"auto\",\"active_tap\":\"auto\",\"tools\":[{\"id\":\"3247\",\"type\":\"PanTool\"},{\"id\":\"3248\",\"type\":\"WheelZoomTool\"},{\"id\":\"3249\",\"type\":\"BoxZoomTool\"},{\"id\":\"3250\",\"type\":\"SaveTool\"},{\"id\":\"3251\",\"type\":\"ResetTool\"},{\"id\":\"3252\",\"type\":\"HelpTool\"}]},\"id\":\"3253\",\"type\":\"Toolbar\"},{\"attributes\":{\"text\":\"with ATP Synthase, Proton Pump, ATP Use\"},\"id\":\"3227\",\"type\":\"Title\"},{\"attributes\":{\"line_color\":\"#8c564b\",\"line_width\":2,\"x\":{\"field\":\"x\"},\"y\":{\"field\":\"y\"}},\"id\":\"3322\",\"type\":\"Line\"},{\"attributes\":{},\"id\":\"3284\",\"type\":\"Selection\"},{\"attributes\":{\"label\":{\"value\":\"inside_H\"},\"renderers\":[{\"id\":\"3290\",\"type\":\"GlyphRenderer\"}]},\"id\":\"3302\",\"type\":\"LegendItem\"},{\"attributes\":{\"callback\":null,\"data\":{\"x\":{\"__ndarray__\":\"AAAAAAAAAAB/pUCtXykgQH+lQK1fKTBAPvjggw8+OEB/pUCtXylAQN/OkJi3M0RAPvjggw8+SECeITFvZ0hMQH+lQK1fKVBAL7rooosuUkDfzpCYtzNUQI/jOI7jOFZAPvjggw8+WEDuDIl5O0NaQJ4hMW9nSFxATjbZZJNNXkB/pUCtXylgQNevFKj1K2FAL7rooosuYkCHxLydITFjQN/OkJi3M2RAN9lkk002ZUCP4ziO4zhmQOftDIl5O2dAPvjggw8+aECWArV+pUBpQO4MiXk7Q2pARhdddNFFa0CeITFvZ0hsQPYrBWr9Sm1ATjbZZJNNbkCmQK1fKVBvQH+lQK1fKXBAq6qqqqqqcEDXrxSo9StxQAO1fqVArXFAL7rooosuckBbv1Kg1q9yQIfEvJ0hMXNAs8kmm2yyc0DfzpCYtzN0QAvU+pUCtXRAN9lkk002dUBj3s6QmLd1QI/jOI7jOHZAu+iiiy66dkDn7QyJeTt3QBPzdobEvHdAPvjggw8+eEBq/UqBWr94QJYCtX6lQHlAwgcffPDBeUDuDIl5O0N6QBoS83aGxHpARhdddNFFe0ByHMdxHMd7QJ4hMW9nSHxAyiabbLLJfED2KwVq/Up9QCIxb2dIzH1ATjbZZJNNfkB6O0Ni3s5+QKZArV8pUH9A0kUXXXTRf0B/pUCtXymAQBWo9SsFaoBAq6qqqqqqgEBBrV8pUOuAQNevFKj1K4FAbbLJJptsgUADtX6lQK2BQJm3MyTm7YFAL7rooosugkDFvJ0hMW+CQFu/UqDWr4JA8cEHH3zwgkCHxLydITGDQB3HcRzHcYNAs8kmm2yyg0BJzNsZEvODQN/OkJi3M4RAddFFF110hEAL1PqVArWEQKHWrxSo9YRAN9lkk002hUDN2xkS83aFQGPezpCYt4VA+eCDDz74hUCP4ziO4ziGQCXm7QyJeYZAu+iiiy66hkBR61cK1PqGQOftDIl5O4dAffDBBx98h0AT83aGxLyHQKn1KwVq/YdAPvjggw8+iEDU+pUCtX6IQGr9SoFav4hAAAAAAAAAiUA=\",\"dtype\":\"float64\",\"shape\":[100]},\"y\":{\"__ndarray__\":\"AAAAAAAAJEDiwXW8v0ZzP7u736TUwLE/a/YkG0Fw0z+oKGCneA/pP3i5WWIsnPc/DlzdglAsAkDH7xD0lYcIQEput8+lYg5A5x7DOSzHEUCCIrFbywMUQKg4hnk57xVA2d2LMW2UF0Clb9+STf4YQOCmEL+QNhpAkcN8bXNFG0Dsw8tfyTEcQLp4EFQsAR1AdKz8fTC4HUCR1ku8lFoeQEFLoqVr6x5AkhcMIz1tH0BcTtt2IeIfQGoTJ2jrJSBADT2/MulVIECHNNwIp4EgQNts25WpqSBAquwQl2HOIECi4RJUL/AgQIdaB2tlDyFALiYGFUssIUA1yHv9HUchQJpmI8MTYCFAA1R3Nlt3IUC8ngZeHY0hQMO6DU9+oSFA7iph5Z20IUAtSaFUmMYhQHy+eq2G1yFA+3UORn/nIUDGN7MTlvYhQEdLkPvcBCJALamKEGQSIkDtuyTPOR8iQJ3+TkxrKyJAp2+gXwQ3IkCIzuDHD0IiQPN090mXTCJA93CXzKNWIkDUuw9wPWAiQJQ8XaNraSJAsRUjNjVyIkBRE/xooHoiQN7S7PuygiJA/ravOnKKIkDqmuQH45EiQN+lDOcJmSJAM6RABeufIkAhd3RBiqYiQPeZLTLrrCJASTZsLhGzIkDvbv5P/7giQI3fw3q4viJALvIIYj/EIkAkom2IlskiQBFiKEnAziJA+J12177TIkBFeyVDlNgiQC1/DntC3SJArnXOT8vhIkA0yMV1MOYiQLSj9oZz6iJArhE9BpbuIkAfuNxemfIiQNUrVOh+9iJA2hQR5kf6IkB0WPSJ9f0iQEp++vSIASNAEQYnOAMFI0BkC+RWZQgjQGIcrUWwCyNAyCsK7eQOI0CFJGspBBIjQI48+ssOFSNAxOh6mwUYI0CHJMlU6RojQBVylqu6HSNAfiHdSnogI0AAy2rVKCMjQJWjX+bGJSNAtsiKEVUoI0BrNiDk0yojQIr6keRDLSNAHVK7k6UvI0AY1A1s+TEjQB0lGeM/NCNAm/2KaXk2I0B3bkNqpjgjQCAqU0zHOiNAIlFmctw8I0A=\",\"dtype\":\"float64\",\"shape\":[100]}},\"selected\":{\"id\":\"3284\",\"type\":\"Selection\"},\"selection_policy\":{\"id\":\"3285\",\"type\":\"UnionRenderers\"}},\"id\":\"3260\",\"type\":\"ColumnDataSource\"},{\"attributes\":{\"source\":{\"id\":\"3287\",\"type\":\"ColumnDataSource\"}},\"id\":\"3291\",\"type\":\"CDSView\"},{\"attributes\":{\"callback\":null},\"id\":\"3229\",\"type\":\"DataRange1d\"},{\"attributes\":{},\"id\":\"3247\",\"type\":\"PanTool\"},{\"attributes\":{},\"id\":\"3233\",\"type\":\"LinearScale\"},{\"attributes\":{},\"id\":\"3252\",\"type\":\"HelpTool\"},{\"attributes\":{},\"id\":\"3248\",\"type\":\"WheelZoomTool\"},{\"attributes\":{\"line_alpha\":0.1,\"line_color\":\"#1f77b4\",\"line_width\":2,\"x\":{\"field\":\"x\"},\"y\":{\"field\":\"y\"}},\"id\":\"3275\",\"type\":\"Line\"},{\"attributes\":{\"line_alpha\":0.1,\"line_color\":\"#1f77b4\",\"line_width\":2,\"x\":{\"field\":\"x\"},\"y\":{\"field\":\"y\"}},\"id\":\"3323\",\"type\":\"Line\"},{\"attributes\":{\"callback\":null},\"id\":\"3231\",\"type\":\"DataRange1d\"},{\"attributes\":{\"overlay\":{\"id\":\"3270\",\"type\":\"BoxAnnotation\"}},\"id\":\"3249\",\"type\":\"BoxZoomTool\"},{\"attributes\":{\"label\":{\"value\":\"bound proton pump\"},\"renderers\":[{\"id\":\"3324\",\"type\":\"GlyphRenderer\"}]},\"id\":\"3340\",\"type\":\"LegendItem\"},{\"attributes\":{\"callback\":null,\"data\":{\"x\":{\"__ndarray__\":\"AAAAAAAAAAB/pUCtXykgQH+lQK1fKTBAPvjggw8+OEB/pUCtXylAQN/OkJi3M0RAPvjggw8+SECeITFvZ0hMQH+lQK1fKVBAL7rooosuUkDfzpCYtzNUQI/jOI7jOFZAPvjggw8+WEDuDIl5O0NaQJ4hMW9nSFxATjbZZJNNXkB/pUCtXylgQNevFKj1K2FAL7rooosuYkCHxLydITFjQN/OkJi3M2RAN9lkk002ZUCP4ziO4zhmQOftDIl5O2dAPvjggw8+aECWArV+pUBpQO4MiXk7Q2pARhdddNFFa0CeITFvZ0hsQPYrBWr9Sm1ATjbZZJNNbkCmQK1fKVBvQH+lQK1fKXBAq6qqqqqqcEDXrxSo9StxQAO1fqVArXFAL7rooosuckBbv1Kg1q9yQIfEvJ0hMXNAs8kmm2yyc0DfzpCYtzN0QAvU+pUCtXRAN9lkk002dUBj3s6QmLd1QI/jOI7jOHZAu+iiiy66dkDn7QyJeTt3QBPzdobEvHdAPvjggw8+eEBq/UqBWr94QJYCtX6lQHlAwgcffPDBeUDuDIl5O0N6QBoS83aGxHpARhdddNFFe0ByHMdxHMd7QJ4hMW9nSHxAyiabbLLJfED2KwVq/Up9QCIxb2dIzH1ATjbZZJNNfkB6O0Ni3s5+QKZArV8pUH9A0kUXXXTRf0B/pUCtXymAQBWo9SsFaoBAq6qqqqqqgEBBrV8pUOuAQNevFKj1K4FAbbLJJptsgUADtX6lQK2BQJm3MyTm7YFAL7rooosugkDFvJ0hMW+CQFu/UqDWr4JA8cEHH3zwgkCHxLydITGDQB3HcRzHcYNAs8kmm2yyg0BJzNsZEvODQN/OkJi3M4RAddFFF110hEAL1PqVArWEQKHWrxSo9YRAN9lkk002hUDN2xkS83aFQGPezpCYt4VA+eCDDz74hUCP4ziO4ziGQCXm7QyJeYZAu+iiiy66hkBR61cK1PqGQOftDIl5O4dAffDBBx98h0AT83aGxLyHQKn1KwVq/YdAPvjggw8+iEDU+pUCtX6IQGr9SoFav4hAAAAAAAAAiUA=\",\"dtype\":\"float64\",\"shape\":[100]},\"y\":{\"__ndarray__\":\"AAAAAAAAJECAKrgq3v8jQML78Jwk/iNATwLbFQH4I0AgKqZxk+sjQO61yN++2SNAFWko8lbFI0AQcYgIBrEjQDzXnbFVniNAv+D5EtiNI0AFrk3DlH8jQOnzHnpXcyNAntvu5NloI0CCcDVe1l8jQONwhvcOWCNAR4krNE9RI0DQyaWXa0sjQL9m+3ZARiNA/SoTqbBBI0DtpB1TpD0jQAqLC+MHOiNAInSzOcs2I0BBI6X+4DMjQGaJ8xY+MSNAGp5aONkuI0A5u4SSqiwjQKahKIqrKiNA8iPWgdYoI0CHAeKtJicjQOFZr/CXJSNAG1/PvSYkI0CxxKgC0CIjQJaZMRORISNAMCEnmmcgI0CGxhyMUR8jQHWxlBxNHiNAByj/tFgdI0BibXvtchwjQByPF4aaGyNARWSzYc4aI0AJKpCBDRojQOogMwFXGSNAldlrE6oYI0B3ckH/BRgjQLreqx1qFyNADc5z19UWI0BPmWKjSBYjQOVztQTCFSNA8X6/iUEVI0C/tLnKxhQjQCo2qmhRFCNAU12aDOETI0A+A6lmdRMjQNB7Yy0OEyNAXI0iHasSI0BEm333SxIjQMW5yoLwESNAd/WuiZgRI0CdMLXaQxEjQPELB0jyECNAdmn1pqMQI0AOouXPVxAjQPc05p0OECNAwk9x7scPI0AEhoKhgw8jQHD155hBDyNAnQiUuAEPI0ASeCfmww4jQHo/7wiIDiNA8eC3CU4OI0AHn7nSFQ4jQKMLfk/fDSNAP56vbKoNI0BkwDAYdw0jQBTY1kBFDSNAdYx+1hQNI0DdKODJ5QwjQNHNjgy4DCNAsNLokIsMI0BOVvpJYAwjQCGtiis2DCNAI5wBKg0MI0BF1ls65QsjQE+8JlK+CyNAdhF2Z5gLI0DK/NpwcwsjQKRWXGVPCyNArzpwPCwLI0DaQ/XtCQsjQEMpLHLoCiNAbTuzwccKI0AR73zVpwojQFGv0qaICiNAV3REL2oKI0D2WbVoTAojQKnpRU0vCiNAv49U1xIKI0DYXYwB9wkjQC2Kx8bbCSNACeMVIsEJI0A=\",\"dtype\":\"float64\",\"shape\":[100]}},\"selected\":{\"id\":\"3300\",\"type\":\"Selection\"},\"selection_policy\":{\"id\":\"3301\",\"type\":\"UnionRenderers\"}},\"id\":\"3273\",\"type\":\"ColumnDataSource\"},{\"attributes\":{},\"id\":\"3339\",\"type\":\"UnionRenderers\"},{\"attributes\":{},\"id\":\"3481\",\"type\":\"Selection\"},{\"attributes\":{},\"id\":\"3250\",\"type\":\"SaveTool\"},{\"attributes\":{\"source\":{\"id\":\"3303\",\"type\":\"ColumnDataSource\"}},\"id\":\"3307\",\"type\":\"CDSView\"},{\"attributes\":{},\"id\":\"3482\",\"type\":\"UnionRenderers\"},{\"attributes\":{\"click_policy\":\"hide\",\"items\":[{\"id\":\"3272\",\"type\":\"LegendItem\"},{\"id\":\"3286\",\"type\":\"LegendItem\"},{\"id\":\"3302\",\"type\":\"LegendItem\"},{\"id\":\"3320\",\"type\":\"LegendItem\"},{\"id\":\"3340\",\"type\":\"LegendItem\"}],\"location\":\"center_right\"},\"id\":\"3271\",\"type\":\"Legend\"},{\"attributes\":{\"data_source\":{\"id\":\"3303\",\"type\":\"ColumnDataSource\"},\"glyph\":{\"id\":\"3304\",\"type\":\"Line\"},\"hover_glyph\":null,\"muted_glyph\":null,\"nonselection_glyph\":{\"id\":\"3305\",\"type\":\"Line\"},\"selection_glyph\":null,\"view\":{\"id\":\"3307\",\"type\":\"CDSView\"}},\"id\":\"3306\",\"type\":\"GlyphRenderer\"},{\"attributes\":{},\"id\":\"3251\",\"type\":\"ResetTool\"},{\"attributes\":{},\"id\":\"3269\",\"type\":\"BasicTickFormatter\"},{\"attributes\":{\"data_source\":{\"id\":\"3321\",\"type\":\"ColumnDataSource\"},\"glyph\":{\"id\":\"3322\",\"type\":\"Line\"},\"hover_glyph\":null,\"muted_glyph\":null,\"nonselection_glyph\":{\"id\":\"3323\",\"type\":\"Line\"},\"selection_glyph\":null,\"view\":{\"id\":\"3325\",\"type\":\"CDSView\"}},\"id\":\"3324\",\"type\":\"GlyphRenderer\"},{\"attributes\":{},\"id\":\"3285\",\"type\":\"UnionRenderers\"},{\"attributes\":{\"line_alpha\":0.1,\"line_color\":\"#1f77b4\",\"line_width\":2,\"x\":{\"field\":\"x\"},\"y\":{\"field\":\"y\"}},\"id\":\"3305\",\"type\":\"Line\"},{\"attributes\":{\"callback\":null,\"data\":{\"x\":{\"__ndarray__\":\"AAAAAAAAAAB/pUCtXykgQH+lQK1fKTBAPvjggw8+OEB/pUCtXylAQN/OkJi3M0RAPvjggw8+SECeITFvZ0hMQH+lQK1fKVBAL7rooosuUkDfzpCYtzNUQI/jOI7jOFZAPvjggw8+WEDuDIl5O0NaQJ4hMW9nSFxATjbZZJNNXkB/pUCtXylgQNevFKj1K2FAL7rooosuYkCHxLydITFjQN/OkJi3M2RAN9lkk002ZUCP4ziO4zhmQOftDIl5O2dAPvjggw8+aECWArV+pUBpQO4MiXk7Q2pARhdddNFFa0CeITFvZ0hsQPYrBWr9Sm1ATjbZZJNNbkCmQK1fKVBvQH+lQK1fKXBAq6qqqqqqcEDXrxSo9StxQAO1fqVArXFAL7rooosuckBbv1Kg1q9yQIfEvJ0hMXNAs8kmm2yyc0DfzpCYtzN0QAvU+pUCtXRAN9lkk002dUBj3s6QmLd1QI/jOI7jOHZAu+iiiy66dkDn7QyJeTt3QBPzdobEvHdAPvjggw8+eEBq/UqBWr94QJYCtX6lQHlAwgcffPDBeUDuDIl5O0N6QBoS83aGxHpARhdddNFFe0ByHMdxHMd7QJ4hMW9nSHxAyiabbLLJfED2KwVq/Up9QCIxb2dIzH1ATjbZZJNNfkB6O0Ni3s5+QKZArV8pUH9A0kUXXXTRf0B/pUCtXymAQBWo9SsFaoBAq6qqqqqqgEBBrV8pUOuAQNevFKj1K4FAbbLJJptsgUADtX6lQK2BQJm3MyTm7YFAL7rooosugkDFvJ0hMW+CQFu/UqDWr4JA8cEHH3zwgkCHxLydITGDQB3HcRzHcYNAs8kmm2yyg0BJzNsZEvODQN/OkJi3M4RAddFFF110hEAL1PqVArWEQKHWrxSo9YRAN9lkk002hUDN2xkS83aFQGPezpCYt4VA+eCDDz74hUCP4ziO4ziGQCXm7QyJeYZAu+iiiy66hkBR61cK1PqGQOftDIl5O4dAffDBBx98h0AT83aGxLyHQKn1KwVq/YdAPvjggw8+iEDU+pUCtX6IQGr9SoFav4hAAAAAAAAAiUA=\",\"dtype\":\"float64\",\"shape\":[100]},\"y\":{\"__ndarray__\":\"AAAAAAAAAADelwtqMVyRPmsRvl9V4c4+hvRLWGFz8T7J1/zQRLkIP3SKp19TKRs/Rv9bXM9vKT+Gnt7ig1s1Pw7PxLxkkUA/pJSDSXU2SD8c8ME51eJQPxM1oizAsFY/Qq/xhHeTXT+hdLn9istiP4tljC7XYmc/iUJ9fM6TbD8uSGzL8zBxP3NlVTYAaHQ/JS5tKDzwdz+AsrD2osp7P0PWp84E+H8/GEAbKYc8gj8Or8dwJ6eEP2LJUeQePIc/dTerQJ/7iT84FyIX0uWMP/YS/jra+o8/PUk9dmqdkT965oZm7VKTP+BkUFMAHpU/YT+lBqz+lj8OXHvy9/SYPydNk2bqAJs/aouQvIginT9HweZ711mfP+6vkjtt06A/mMPnccoEoj9sg/S2BEGjPya8zSMdiKQ/0j4OmxTapT/nnxHO6zanPxJWL0Gjnqg/ERIpTzsRqj/Ng/ErtI6rP2pN5eYNF60/GN2ZbEiqrj/eoCTEMSSwP7QJg3Kv+LA/d9JGB53SsT+zQQM5+rGyP2sDQ6/GlrM/PgzJAgKBtD844r29q3C1P3PXlFvDZbY/D9RwSUhgtz9j8QDmOWC4P+y4ioGXZbk/+Wf1XWBwuj+nqsauk4C7P6N5HJkwlrw/70mmMzaxvT9N3JyGo9G+P+9IuIt3978/gtoSl1iRwD+PhT2lpynBP4fdVVeoxME/oln+DFpiwj+RL3wevALDP5ZnsdzNpcM/OSkXkY5LxD/IOrh9/fPEPxtxK90Zn8U/0QOP4uJMxj/vnYO5V/3GP1doJ4Z3sMc/qmsSZUFmyD/HJlNrtB7JPyIAa6bP2ck/RB5LHJKXyj9pllHL+lfLPxIfOaoIG8w/qPw0qLrgzD9D2BytD6nNP69+ypgGdM4/0MyPQ55Bzz/98SO/6gjQP6twG4lVctA/RjKC4A7d0D+JrlwiFknRP9sm5KdqttE/216Kxgsl0j/NXvrP+JTSP/B/GRIxBtM/7PwI17N40z/XBChlgOzTP+9aFf+VYdQ/uTqz4/PX1D84ZilOmU/VP0Eg6HWFyNU//GGrjrdC1j8=\",\"dtype\":\"float64\",\"shape\":[100]}},\"selected\":{\"id\":\"3481\",\"type\":\"Selection\"},\"selection_policy\":{\"id\":\"3482\",\"type\":\"UnionRenderers\"}},\"id\":\"3321\",\"type\":\"ColumnDataSource\"},{\"attributes\":{},\"id\":\"3318\",\"type\":\"Selection\"},{\"attributes\":{\"axis_label\":\"time (sec)\",\"formatter\":{\"id\":\"3267\",\"type\":\"BasicTickFormatter\"},\"ticker\":{\"id\":\"3238\",\"type\":\"BasicTicker\"}},\"id\":\"3237\",\"type\":\"LinearAxis\"},{\"attributes\":{},\"id\":\"3235\",\"type\":\"LinearScale\"}],\"root_ids\":[\"3226\"]},\"title\":\"Bokeh Application\",\"version\":\"1.4.0\"}};\n",
       "  var render_items = [{\"docid\":\"e8a0b8ad-38aa-4e8a-9fff-3306d72d85a9\",\"roots\":{\"3226\":\"53c943e8-5747-483a-9756-0fa329d26edc\"}}];\n",
       "  root.Bokeh.embed.embed_items_notebook(docs_json, render_items);\n",
       "\n",
       "  }\n",
       "  if (root.Bokeh !== undefined) {\n",
       "    embed_document(root);\n",
       "  } else {\n",
       "    var attempts = 0;\n",
       "    var timer = setInterval(function(root) {\n",
       "      if (root.Bokeh !== undefined) {\n",
       "        clearInterval(timer);\n",
       "        embed_document(root);\n",
       "      } else {\n",
       "        attempts++;\n",
       "        if (attempts > 100) {\n",
       "          clearInterval(timer);\n",
       "          console.log(\"Bokeh: ERROR: Unable to run BokehJS code because BokehJS library is missing\");\n",
       "        }\n",
       "      }\n",
       "    }, 10, root)\n",
       "  }\n",
       "})(window);"
      ],
      "application/vnd.bokehjs_exec.v0+json": ""
     },
     "metadata": {
      "application/vnd.bokehjs_exec.v0+json": {
       "id": "3226"
      }
     },
     "output_type": "display_data"
    }
   ],
   "source": [
    "#plt_timepoints = timepoints/60\n",
    "\n",
    "p4 = bokeh.plotting.figure(width = 450, height = 350, title = 'with ATP Synthase, Proton Pump, ATP Use',\n",
    "                          x_axis_label = 'time (sec)',\n",
    "                          y_axis_label = 'concentration (nM)')\n",
    "plot_list = [ATP_id_100, outside_H_id, inside_H_id, atp_synthase_b_protein_id, proton_pump_b_protein_id]\n",
    "plot_str = ['atp', 'outside_H', 'inside_H', 'bound atp synthase', 'bound proton pump']\n",
    "for i,item in enumerate(plot_list):\n",
    "    p4.line(timepoints, results_100[item], line_width = 2, legend_label = plot_str[i], color = palette[i])\n",
    "#p3.line(plt_timepoints, results_everything[ATP_id3])\n",
    "p4.legend.click_policy = 'hide'\n",
    "p4.legend.location = 'center_right'\n",
    "\n",
    "bokeh.io.show(p4)\n",
    "\n",
    "\n"
   ]
  },
  {
   "cell_type": "markdown",
   "metadata": {},
   "source": [
    "## Compare at whatever param value you had before \n",
    "---"
   ]
  },
  {
   "cell_type": "code",
   "execution_count": 41,
   "metadata": {},
   "outputs": [],
   "source": [
    "#ss5_pp_txtl = createSubsystem('proton_pump_tx_tl.xml', subsystemName = 'pp_txtl')\n",
    "# atp synthase models\n",
    "ss1_atpsyn_txtl = createSubsystem('atpsynthase_machinery_txtl.xml', subsystemName = 'atpsyn_txtl')\n",
    "ss2_atpsyn_mi = createSubsystem('atpsynthase_membrane_integration.xml', subsystemName = 'atpsyn_mi')\n",
    "ss3_atpsynthesis = createSubsystem('atp_synthesis_through_atpsynthase.xml', subsystemName = 'atpsynthesis')\n",
    "ss4_atp_use = createSubsystem('atp_use.xml', subsystemName = 'atp_use')\n",
    "ss5_pp_txtl = createSubsystem('proton_pump_machinery_txtl.xml', subsystemName = 'pp_txtl')\n",
    "ss6_pp_mi = createSubsystem('proton_pump_membrane_integration.xml', subsystemName = 'pp_mi')\n",
    "ss7_protontransport = createSubsystem('proton_transport_through_proton_pump.xml', subsystemName = 'protontransport')"
   ]
  },
  {
   "cell_type": "code",
   "execution_count": 42,
   "metadata": {},
   "outputs": [],
   "source": [
    "entire_subsystem = ss1_atpsyn_txtl + ss2_atpsyn_mi + ss3_atpsynthesis + ss4_atp_use + ss5_pp_txtl + ss6_pp_mi + ss7_protontransport"
   ]
  },
  {
   "cell_type": "code",
   "execution_count": 43,
   "metadata": {},
   "outputs": [],
   "source": [
    "# Initial conditions\n",
    "spec_list_10 = ['dna_proton_pump', 'dna_atpsyn','proton_outside_H', 'metabolite_atp','protein_RNAP_machinery', \n",
    "                'protein_Ribo_machinery', 'protein_RNAse_machinery']\n",
    "for i,spec in enumerate(spec_list_10):\n",
    "    entire_subsystem.setSpeciesAmount(spec,10)\n",
    "\n",
    "\n",
    "# timepoints and get results\n",
    "# timepoints = np.linspace(0,10,100)\n",
    "# results, _ = entire_subsystem.simulateWithBioscrape(timepoints, sbml_warnings = False)\n",
    "\n",
    "# Get species IDs\n",
    "ATP_id_orig = entire_subsystem.getSpeciesByName('metabolite_atp').getId()\n",
    "ADP_id = entire_subsystem.getSpeciesByName('metabolite_adp').getId()\n",
    "\n",
    "outside_H_id = entire_subsystem.getSpeciesByName('proton_outside_H').getId()\n",
    "inside_H_id = entire_subsystem.getSpeciesByName('proton_inside_H').getId()\n",
    "\n",
    "proton_pump_b_protein_id = entire_subsystem.getSpeciesByName('protein_proton_pump_b').getId()\n",
    "proton_pump_f_protein_id = entire_subsystem.getSpeciesByName('protein_proton_pump').getId()\n",
    "\n",
    "atp_synthase_b_protein_id = entire_subsystem.getSpeciesByName('protein_atpsyn_b').getId()\n",
    "atp_synthase_f_protein_id = entire_subsystem.getSpeciesByName('protein_atpsyn').getId()\n",
    "\n"
   ]
  },
  {
   "cell_type": "code",
   "execution_count": 44,
   "metadata": {},
   "outputs": [],
   "source": [
    "timepoints = np.linspace(0,800,100)\n",
    "results_original, _ = entire_subsystem.simulateWithBioscrape(timepoints, sbml_warnings = False)"
   ]
  },
  {
   "cell_type": "code",
   "execution_count": 45,
   "metadata": {},
   "outputs": [
    {
     "data": {
      "text/html": [
       "\n",
       "\n",
       "\n",
       "\n",
       "\n",
       "\n",
       "  <div class=\"bk-root\" id=\"107b8d5a-614e-4d07-934f-2eb47898f44f\" data-root-id=\"3579\"></div>\n"
      ]
     },
     "metadata": {},
     "output_type": "display_data"
    },
    {
     "data": {
      "application/javascript": [
       "(function(root) {\n",
       "  function embed_document(root) {\n",
       "    \n",
       "  var docs_json = {\"69f961cc-0f6e-4476-9fbf-da7dc2722766\":{\"roots\":{\"references\":[{\"attributes\":{\"below\":[{\"id\":\"3590\",\"type\":\"LinearAxis\"}],\"center\":[{\"id\":\"3594\",\"type\":\"Grid\"},{\"id\":\"3599\",\"type\":\"Grid\"},{\"id\":\"3624\",\"type\":\"Legend\"}],\"left\":[{\"id\":\"3595\",\"type\":\"LinearAxis\"}],\"plot_height\":350,\"plot_width\":450,\"renderers\":[{\"id\":\"3616\",\"type\":\"GlyphRenderer\"},{\"id\":\"3629\",\"type\":\"GlyphRenderer\"},{\"id\":\"3643\",\"type\":\"GlyphRenderer\"},{\"id\":\"3659\",\"type\":\"GlyphRenderer\"},{\"id\":\"3677\",\"type\":\"GlyphRenderer\"}],\"title\":{\"id\":\"3580\",\"type\":\"Title\"},\"toolbar\":{\"id\":\"3606\",\"type\":\"Toolbar\"},\"x_range\":{\"id\":\"3582\",\"type\":\"DataRange1d\"},\"x_scale\":{\"id\":\"3586\",\"type\":\"LinearScale\"},\"y_range\":{\"id\":\"3584\",\"type\":\"DataRange1d\"},\"y_scale\":{\"id\":\"3588\",\"type\":\"LinearScale\"}},\"id\":\"3579\",\"subtype\":\"Figure\",\"type\":\"Plot\"},{\"attributes\":{},\"id\":\"3603\",\"type\":\"SaveTool\"},{\"attributes\":{},\"id\":\"3850\",\"type\":\"Selection\"},{\"attributes\":{},\"id\":\"3604\",\"type\":\"ResetTool\"},{\"attributes\":{\"line_alpha\":0.1,\"line_color\":\"#1f77b4\",\"line_width\":2,\"x\":{\"field\":\"x\"},\"y\":{\"field\":\"y\"}},\"id\":\"3642\",\"type\":\"Line\"},{\"attributes\":{},\"id\":\"3620\",\"type\":\"BasicTickFormatter\"},{\"attributes\":{},\"id\":\"3672\",\"type\":\"UnionRenderers\"},{\"attributes\":{},\"id\":\"3588\",\"type\":\"LinearScale\"},{\"attributes\":{\"label\":{\"value\":\"bound proton pump\"},\"renderers\":[{\"id\":\"3677\",\"type\":\"GlyphRenderer\"}]},\"id\":\"3693\",\"type\":\"LegendItem\"},{\"attributes\":{\"line_alpha\":0.1,\"line_color\":\"#1f77b4\",\"line_width\":2,\"x\":{\"field\":\"x\"},\"y\":{\"field\":\"y\"}},\"id\":\"3658\",\"type\":\"Line\"},{\"attributes\":{\"click_policy\":\"hide\",\"items\":[{\"id\":\"3625\",\"type\":\"LegendItem\"},{\"id\":\"3639\",\"type\":\"LegendItem\"},{\"id\":\"3655\",\"type\":\"LegendItem\"},{\"id\":\"3673\",\"type\":\"LegendItem\"},{\"id\":\"3693\",\"type\":\"LegendItem\"}],\"location\":\"center_right\"},\"id\":\"3624\",\"type\":\"Legend\"},{\"attributes\":{},\"id\":\"3605\",\"type\":\"HelpTool\"},{\"attributes\":{\"label\":{\"value\":\"atp\"},\"renderers\":[{\"id\":\"3616\",\"type\":\"GlyphRenderer\"}]},\"id\":\"3625\",\"type\":\"LegendItem\"},{\"attributes\":{},\"id\":\"3692\",\"type\":\"UnionRenderers\"},{\"attributes\":{\"axis_label\":\"time\",\"formatter\":{\"id\":\"3620\",\"type\":\"BasicTickFormatter\"},\"ticker\":{\"id\":\"3591\",\"type\":\"BasicTicker\"}},\"id\":\"3590\",\"type\":\"LinearAxis\"},{\"attributes\":{\"dimension\":1,\"ticker\":{\"id\":\"3596\",\"type\":\"BasicTicker\"}},\"id\":\"3599\",\"type\":\"Grid\"},{\"attributes\":{\"line_alpha\":0.1,\"line_color\":\"#1f77b4\",\"line_width\":2,\"x\":{\"field\":\"x\"},\"y\":{\"field\":\"y\"}},\"id\":\"3615\",\"type\":\"Line\"},{\"attributes\":{},\"id\":\"3591\",\"type\":\"BasicTicker\"},{\"attributes\":{\"data_source\":{\"id\":\"3656\",\"type\":\"ColumnDataSource\"},\"glyph\":{\"id\":\"3657\",\"type\":\"Line\"},\"hover_glyph\":null,\"muted_glyph\":null,\"nonselection_glyph\":{\"id\":\"3658\",\"type\":\"Line\"},\"selection_glyph\":null,\"view\":{\"id\":\"3660\",\"type\":\"CDSView\"}},\"id\":\"3659\",\"type\":\"GlyphRenderer\"},{\"attributes\":{\"bottom_units\":\"screen\",\"fill_alpha\":{\"value\":0.5},\"fill_color\":{\"value\":\"lightgrey\"},\"left_units\":\"screen\",\"level\":\"overlay\",\"line_alpha\":{\"value\":1.0},\"line_color\":{\"value\":\"black\"},\"line_dash\":[4,4],\"line_width\":{\"value\":2},\"render_mode\":\"css\",\"right_units\":\"screen\",\"top_units\":\"screen\"},\"id\":\"3623\",\"type\":\"BoxAnnotation\"},{\"attributes\":{},\"id\":\"3637\",\"type\":\"Selection\"},{\"attributes\":{\"ticker\":{\"id\":\"3591\",\"type\":\"BasicTicker\"}},\"id\":\"3594\",\"type\":\"Grid\"},{\"attributes\":{\"label\":{\"value\":\"bound atp synthase\"},\"renderers\":[{\"id\":\"3659\",\"type\":\"GlyphRenderer\"}]},\"id\":\"3673\",\"type\":\"LegendItem\"},{\"attributes\":{\"callback\":null,\"data\":{\"x\":{\"__ndarray__\":\"AAAAAAAAAAB/pUCtXykgQH+lQK1fKTBAPvjggw8+OEB/pUCtXylAQN/OkJi3M0RAPvjggw8+SECeITFvZ0hMQH+lQK1fKVBAL7rooosuUkDfzpCYtzNUQI/jOI7jOFZAPvjggw8+WEDuDIl5O0NaQJ4hMW9nSFxATjbZZJNNXkB/pUCtXylgQNevFKj1K2FAL7rooosuYkCHxLydITFjQN/OkJi3M2RAN9lkk002ZUCP4ziO4zhmQOftDIl5O2dAPvjggw8+aECWArV+pUBpQO4MiXk7Q2pARhdddNFFa0CeITFvZ0hsQPYrBWr9Sm1ATjbZZJNNbkCmQK1fKVBvQH+lQK1fKXBAq6qqqqqqcEDXrxSo9StxQAO1fqVArXFAL7rooosuckBbv1Kg1q9yQIfEvJ0hMXNAs8kmm2yyc0DfzpCYtzN0QAvU+pUCtXRAN9lkk002dUBj3s6QmLd1QI/jOI7jOHZAu+iiiy66dkDn7QyJeTt3QBPzdobEvHdAPvjggw8+eEBq/UqBWr94QJYCtX6lQHlAwgcffPDBeUDuDIl5O0N6QBoS83aGxHpARhdddNFFe0ByHMdxHMd7QJ4hMW9nSHxAyiabbLLJfED2KwVq/Up9QCIxb2dIzH1ATjbZZJNNfkB6O0Ni3s5+QKZArV8pUH9A0kUXXXTRf0B/pUCtXymAQBWo9SsFaoBAq6qqqqqqgEBBrV8pUOuAQNevFKj1K4FAbbLJJptsgUADtX6lQK2BQJm3MyTm7YFAL7rooosugkDFvJ0hMW+CQFu/UqDWr4JA8cEHH3zwgkCHxLydITGDQB3HcRzHcYNAs8kmm2yyg0BJzNsZEvODQN/OkJi3M4RAddFFF110hEAL1PqVArWEQKHWrxSo9YRAN9lkk002hUDN2xkS83aFQGPezpCYt4VA+eCDDz74hUCP4ziO4ziGQCXm7QyJeYZAu+iiiy66hkBR61cK1PqGQOftDIl5O4dAffDBBx98h0AT83aGxLyHQKn1KwVq/YdAPvjggw8+iEDU+pUCtX6IQGr9SoFav4hAAAAAAAAAiUA=\",\"dtype\":\"float64\",\"shape\":[100]},\"y\":{\"__ndarray__\":\"AAAAAAAAJEA3I2H7KcwjQKsy3KAqeCNAwQ++QNlMI0Arg/JpBTYjQFQfvmW4KCNAzVNFZEAgI0BFVPQkeRojQDgfxzBSFiNAYsNn8zcTI0CEwVwQ1BAjQJKv7MDwDiNA0jVF7WoNI0Ad7gvWKgwjQGkdk+0fCyNAgSO5XT4KI0CzE2t/fQkjQI9jS9/WCCNAQp+ImEUII0DHDoflxQcjQMq/htNUByNAqj7lDPAGI0BeTtWylQYjQBNWokFEBiNAh2RVfPoFI0B5kWNdtwUjQG4oTAt6BSNA1Saaz0EFI0CFsnEQDgUjQIGAFEveBCNADhyWD7IEI0A69+D9iAQjQCVE4cJiBCNAM5huFj8EI0CkaJS5HQQjQFEVF3X+AyNAVgB2GOEDI0B1OsV4xQMjQOFx/W+rAyNAUShJ3JIDI0CO/nWfewMjQOmVe55lAyNApp8OwVADI0AzSlnxPAMjQJF0nhsqAyNAiK0ALhgDI0CcyU4YBwMjQL9ezcv2AiNAoNAPO+cCI0B1X9RZ2AIjQHq+4xzKAiNAm9b2ebwCI0AOyJtnrwIjQAm4JN2iAiNAj0+O0pYCI0BcQnNAiwIjQBetBSCAAiNAoL3qanUCI0BrbkkbawIjQHh4sCthAiNA7yUNl1cCI0AdGatYTgIjQJO7JWxFAiNA7ytjzTwCI0DiFI94NAIjQIyJFGosAiNAg7WYniQCI0A9jfYSHQIjQAQtO8QVAiNAaYCgrw4CI0CaAIzSBwIjQDuUiioBAiNArsJMtfoBI0CUuqNw9AEjQFHAgFruASNA3dT3cOgBI0BneDGy4gEjQDyObxzdASNA67gNrtcBI0BDHYNl0gEjQHPDU0HNASNAiu0WQMgBI0D/+3tgwwEjQHk7P6G+ASNAYlguAboBI0BHOyV/tQEjQA1FDhqxASNAdivh0KwBI0BB0qGiqAEjQKEHYI6kASNAVrY2k6ABI0Ds+kqwnAEjQBUMzOSYASNAHRnyL5UBI0Co1v2QkQEjQCQKOweOASNAbVr7kYoBI0CnV48whwEjQBfEYOKDASNA0bjRpoABI0A=\",\"dtype\":\"float64\",\"shape\":[100]}},\"selected\":{\"id\":\"3653\",\"type\":\"Selection\"},\"selection_policy\":{\"id\":\"3654\",\"type\":\"UnionRenderers\"}},\"id\":\"3626\",\"type\":\"ColumnDataSource\"},{\"attributes\":{\"source\":{\"id\":\"3674\",\"type\":\"ColumnDataSource\"}},\"id\":\"3678\",\"type\":\"CDSView\"},{\"attributes\":{\"line_color\":\"#2ba02b\",\"line_width\":2,\"x\":{\"field\":\"x\"},\"y\":{\"field\":\"y\"}},\"id\":\"3641\",\"type\":\"Line\"},{\"attributes\":{},\"id\":\"3691\",\"type\":\"Selection\"},{\"attributes\":{},\"id\":\"3596\",\"type\":\"BasicTicker\"},{\"attributes\":{\"source\":{\"id\":\"3613\",\"type\":\"ColumnDataSource\"}},\"id\":\"3617\",\"type\":\"CDSView\"},{\"attributes\":{\"data_source\":{\"id\":\"3613\",\"type\":\"ColumnDataSource\"},\"glyph\":{\"id\":\"3614\",\"type\":\"Line\"},\"hover_glyph\":null,\"muted_glyph\":null,\"nonselection_glyph\":{\"id\":\"3615\",\"type\":\"Line\"},\"selection_glyph\":null,\"view\":{\"id\":\"3617\",\"type\":\"CDSView\"}},\"id\":\"3616\",\"type\":\"GlyphRenderer\"},{\"attributes\":{\"axis_label\":\"concentration (nM)\",\"formatter\":{\"id\":\"3622\",\"type\":\"BasicTickFormatter\"},\"ticker\":{\"id\":\"3596\",\"type\":\"BasicTicker\"}},\"id\":\"3595\",\"type\":\"LinearAxis\"},{\"attributes\":{},\"id\":\"3653\",\"type\":\"Selection\"},{\"attributes\":{\"line_color\":\"#1f77b3\",\"line_width\":2,\"x\":{\"field\":\"x\"},\"y\":{\"field\":\"y\"}},\"id\":\"3614\",\"type\":\"Line\"},{\"attributes\":{\"source\":{\"id\":\"3640\",\"type\":\"ColumnDataSource\"}},\"id\":\"3644\",\"type\":\"CDSView\"},{\"attributes\":{},\"id\":\"3671\",\"type\":\"Selection\"},{\"attributes\":{},\"id\":\"3638\",\"type\":\"UnionRenderers\"},{\"attributes\":{\"data_source\":{\"id\":\"3674\",\"type\":\"ColumnDataSource\"},\"glyph\":{\"id\":\"3675\",\"type\":\"Line\"},\"hover_glyph\":null,\"muted_glyph\":null,\"nonselection_glyph\":{\"id\":\"3676\",\"type\":\"Line\"},\"selection_glyph\":null,\"view\":{\"id\":\"3678\",\"type\":\"CDSView\"}},\"id\":\"3677\",\"type\":\"GlyphRenderer\"},{\"attributes\":{\"line_alpha\":0.1,\"line_color\":\"#1f77b4\",\"line_width\":2,\"x\":{\"field\":\"x\"},\"y\":{\"field\":\"y\"}},\"id\":\"3628\",\"type\":\"Line\"},{\"attributes\":{\"source\":{\"id\":\"3656\",\"type\":\"ColumnDataSource\"}},\"id\":\"3660\",\"type\":\"CDSView\"},{\"attributes\":{\"data_source\":{\"id\":\"3640\",\"type\":\"ColumnDataSource\"},\"glyph\":{\"id\":\"3641\",\"type\":\"Line\"},\"hover_glyph\":null,\"muted_glyph\":null,\"nonselection_glyph\":{\"id\":\"3642\",\"type\":\"Line\"},\"selection_glyph\":null,\"view\":{\"id\":\"3644\",\"type\":\"CDSView\"}},\"id\":\"3643\",\"type\":\"GlyphRenderer\"},{\"attributes\":{\"callback\":null,\"data\":{\"x\":{\"__ndarray__\":\"AAAAAAAAAAB/pUCtXykgQH+lQK1fKTBAPvjggw8+OEB/pUCtXylAQN/OkJi3M0RAPvjggw8+SECeITFvZ0hMQH+lQK1fKVBAL7rooosuUkDfzpCYtzNUQI/jOI7jOFZAPvjggw8+WEDuDIl5O0NaQJ4hMW9nSFxATjbZZJNNXkB/pUCtXylgQNevFKj1K2FAL7rooosuYkCHxLydITFjQN/OkJi3M2RAN9lkk002ZUCP4ziO4zhmQOftDIl5O2dAPvjggw8+aECWArV+pUBpQO4MiXk7Q2pARhdddNFFa0CeITFvZ0hsQPYrBWr9Sm1ATjbZZJNNbkCmQK1fKVBvQH+lQK1fKXBAq6qqqqqqcEDXrxSo9StxQAO1fqVArXFAL7rooosuckBbv1Kg1q9yQIfEvJ0hMXNAs8kmm2yyc0DfzpCYtzN0QAvU+pUCtXRAN9lkk002dUBj3s6QmLd1QI/jOI7jOHZAu+iiiy66dkDn7QyJeTt3QBPzdobEvHdAPvjggw8+eEBq/UqBWr94QJYCtX6lQHlAwgcffPDBeUDuDIl5O0N6QBoS83aGxHpARhdddNFFe0ByHMdxHMd7QJ4hMW9nSHxAyiabbLLJfED2KwVq/Up9QCIxb2dIzH1ATjbZZJNNfkB6O0Ni3s5+QKZArV8pUH9A0kUXXXTRf0B/pUCtXymAQBWo9SsFaoBAq6qqqqqqgEBBrV8pUOuAQNevFKj1K4FAbbLJJptsgUADtX6lQK2BQJm3MyTm7YFAL7rooosugkDFvJ0hMW+CQFu/UqDWr4JA8cEHH3zwgkCHxLydITGDQB3HcRzHcYNAs8kmm2yyg0BJzNsZEvODQN/OkJi3M4RAddFFF110hEAL1PqVArWEQKHWrxSo9YRAN9lkk002hUDN2xkS83aFQGPezpCYt4VA+eCDDz74hUCP4ziO4ziGQCXm7QyJeYZAu+iiiy66hkBR61cK1PqGQOftDIl5O4dAffDBBx98h0AT83aGxLyHQKn1KwVq/YdAPvjggw8+iEDU+pUCtX6IQGr9SoFav4hAAAAAAAAAiUA=\",\"dtype\":\"float64\",\"shape\":[100]},\"y\":{\"__ndarray__\":\"AAAAAAAAAACOaG5PAuu5P6OreeSr+tA/9gg+6Ndk1j8HnK/BUj/ZP4IWPEjz6No/d4dVd/P32z+seHVh27DcPxwaHOe5Nd0/rJQHkwGZ3T9s0Gf0feXdP4gOauLnId4/qUZZV6JS3j8XPYI+pXrePwlUnE0CnN4/0JDbSDS43j+lip0SUNDeP+6OkxYk5d4/hxjs7kz33j/xJx5PQwffP2gHKI9lFd8/ZytYY/4h3z/9NFalSS3fP00+tct3N98/r29TdbBA3z9O0Y1TFEnfP6zyepa+UN8/xiW7DMZX3z/Zr8nxPV7fP2rwb502ZN8/hX48Db5p3z/0GOFD4G7fP5x716Onc98/1fksMh143z+q63LNSHzfP+9VHV0xgN8/NvU/8dyD3z9gsVjnUIffP97DUQCSit8/ufXadqSN3z8qLkARjJDfP99CjTBMk98/Twss3ueV3z+WudbUYZjfP71tMYy8mt8//07qP/qc3z+WzCb2HJ/fP1koVIYmod8/PewFnhij3z+AEXTF9KTfP/QwiGO8pt8/0ywlwXCo3z+F/oYME6rfP/3+aFukq98/Sw42riWt3z+utJfxl67fP05dSv/7r98/LUyoolKx3z+2MtKWnLLfPwjx8Inas98/AkJbHg213z8y3JzqNLbfP3yNSHtSt98//YGaU2a43z+GYx3ucLnfP0LObr1yut8/bU/pLGy73z8tWC6hXbzfP1JfmnhHvd8/p/LvCyq+3z+Z7H+uBb/fP394ra7av98/G6pnVqnA3z9brYjrccHfP7z15680wt8/GGQF4fHC3z/k8tC5qcPfP044DnJcxN8/hOJIPgrF3z+GV5xPs8XfP5eRh9VXxt8/yk4i/ffG3z9BgIDwk8ffP/OQGNgryN8/6fM02r/I3z89l1gbUMnfP2ZeN77cyd8/R5Ha42XK3z/kt8Wr68rfP+AL/zNuy98/WzUpme3L3z+JoqD2aczfP199fmbjzN8/X9y8AVrN3z8VK0Xgzc3fP4O7nhg/zt8/hLKUwK3O3z8qCxXuGc/fP2J957ODz98/I+bIJevP3z8=\",\"dtype\":\"float64\",\"shape\":[100]}},\"selected\":{\"id\":\"3671\",\"type\":\"Selection\"},\"selection_policy\":{\"id\":\"3672\",\"type\":\"UnionRenderers\"}},\"id\":\"3640\",\"type\":\"ColumnDataSource\"},{\"attributes\":{\"active_drag\":\"auto\",\"active_inspect\":\"auto\",\"active_multi\":null,\"active_scroll\":\"auto\",\"active_tap\":\"auto\",\"tools\":[{\"id\":\"3600\",\"type\":\"PanTool\"},{\"id\":\"3601\",\"type\":\"WheelZoomTool\"},{\"id\":\"3602\",\"type\":\"BoxZoomTool\"},{\"id\":\"3603\",\"type\":\"SaveTool\"},{\"id\":\"3604\",\"type\":\"ResetTool\"},{\"id\":\"3605\",\"type\":\"HelpTool\"}]},\"id\":\"3606\",\"type\":\"Toolbar\"},{\"attributes\":{\"callback\":null,\"data\":{\"x\":{\"__ndarray__\":\"AAAAAAAAAAB/pUCtXykgQH+lQK1fKTBAPvjggw8+OEB/pUCtXylAQN/OkJi3M0RAPvjggw8+SECeITFvZ0hMQH+lQK1fKVBAL7rooosuUkDfzpCYtzNUQI/jOI7jOFZAPvjggw8+WEDuDIl5O0NaQJ4hMW9nSFxATjbZZJNNXkB/pUCtXylgQNevFKj1K2FAL7rooosuYkCHxLydITFjQN/OkJi3M2RAN9lkk002ZUCP4ziO4zhmQOftDIl5O2dAPvjggw8+aECWArV+pUBpQO4MiXk7Q2pARhdddNFFa0CeITFvZ0hsQPYrBWr9Sm1ATjbZZJNNbkCmQK1fKVBvQH+lQK1fKXBAq6qqqqqqcEDXrxSo9StxQAO1fqVArXFAL7rooosuckBbv1Kg1q9yQIfEvJ0hMXNAs8kmm2yyc0DfzpCYtzN0QAvU+pUCtXRAN9lkk002dUBj3s6QmLd1QI/jOI7jOHZAu+iiiy66dkDn7QyJeTt3QBPzdobEvHdAPvjggw8+eEBq/UqBWr94QJYCtX6lQHlAwgcffPDBeUDuDIl5O0N6QBoS83aGxHpARhdddNFFe0ByHMdxHMd7QJ4hMW9nSHxAyiabbLLJfED2KwVq/Up9QCIxb2dIzH1ATjbZZJNNfkB6O0Ni3s5+QKZArV8pUH9A0kUXXXTRf0B/pUCtXymAQBWo9SsFaoBAq6qqqqqqgEBBrV8pUOuAQNevFKj1K4FAbbLJJptsgUADtX6lQK2BQJm3MyTm7YFAL7rooosugkDFvJ0hMW+CQFu/UqDWr4JA8cEHH3zwgkCHxLydITGDQB3HcRzHcYNAs8kmm2yyg0BJzNsZEvODQN/OkJi3M4RAddFFF110hEAL1PqVArWEQKHWrxSo9YRAN9lkk002hUDN2xkS83aFQGPezpCYt4VA+eCDDz74hUCP4ziO4ziGQCXm7QyJeYZAu+iiiy66hkBR61cK1PqGQOftDIl5O4dAffDBBx98h0AT83aGxLyHQKn1KwVq/YdAPvjggw8+iEDU+pUCtX6IQGr9SoFav4hAAAAAAAAAiUA=\",\"dtype\":\"float64\",\"shape\":[100]},\"y\":{\"__ndarray__\":\"AAAAAAAAJEAZenSsedr+Pyk9qu1d/RRAxf9XHdrfG0Cbx5uEXn4fQEDFVI51zCBAFdsOa5J3IUA7TiZwJuwhQLyYMO7TPyJARLW2hkx+IkDtok72ZK4iQMfBrLVc1CJA8WV7tfjyIkDJTUlLGAwjQDHwT2QJISNAjm4unroyI0Chu6RR2kEjQJmYtmnqTiNABfp/bE1aI0BztwBCT2QjQEDSsjorbSNANsM8ShB1I0C8snALJHwjQCsMie+EgiNAOUPD2EuII0DdR+NNjY0jQKB5BWFakiNAHKIZYcGWI0BbjTBhzpojQLIgZKOLniNAM8+V7AGiI0C1kUzGOKUjQLcA7LM2qCNA9G6HXQGrI0BpfG6yna0jQKaddgYQsCNAdXgzJ1yyI0Av2E1xhbQjQMXtot+OtiNADDXLGHu4I0DFWl96TLojQP7qfCIFvCNANi5C+Ka9I0Cvl4GxM78jQCSpDtqswCNAngzm1xPCI0CSSc/vacMjQElUC0mwxCNAehq08OfFI0DfJnPcEccjQI3KGO0uyCNAgVuh8D/JI0DBP1akRcojQEZqJLZAyyNASfmkxjHMI0CYhgNqGc0jQAe5pij4zSNAzxvKgc7OI0B7ULrqnM8jQLorcdBj0CNANdJ/mCPRI0DDSUah3NEjQOvNvEKP0iNASYoJzzvTI0BgE+aS4tMjQMB+D9aD1CNANwy82x/VI0DY0unittUjQMcbqiZJ1iNAKaeK3tbWI0CHTLQ+YNcjQJoRNXjl1yNAXQJVuWbYI0Dadc4t5NgjQOO1z/5d2SNAmR7jUtTZI0DJ5t9OR9ojQOdSqxW32iNAQ90yyCPbI0CboiaFjdsjQCnSXmr02yNAxqfXk1jcI0CvIxYcutwjQGKHXxwZ3SNA1MyorHXdI0Awicvjz90jQGPgftcn3iNAJxRunH3eI0CXGFJG0d4jQL0c9Oci3yNAVyo/k3LfI0D+ylFZwN8jQCXDgEoM4CNAgVZsdlbgI0CNvgnsnuAjQEA1dbnl4CNANhxS7CrhI0CA/kmSbuEjQASLLrew4SNAeiVVZ/HhI0A=\",\"dtype\":\"float64\",\"shape\":[100]}},\"selected\":{\"id\":\"3637\",\"type\":\"Selection\"},\"selection_policy\":{\"id\":\"3638\",\"type\":\"UnionRenderers\"}},\"id\":\"3613\",\"type\":\"ColumnDataSource\"},{\"attributes\":{\"label\":{\"value\":\"inside_H\"},\"renderers\":[{\"id\":\"3643\",\"type\":\"GlyphRenderer\"}]},\"id\":\"3655\",\"type\":\"LegendItem\"},{\"attributes\":{\"line_color\":\"#ff7e0e\",\"line_width\":2,\"x\":{\"field\":\"x\"},\"y\":{\"field\":\"y\"}},\"id\":\"3627\",\"type\":\"Line\"},{\"attributes\":{},\"id\":\"3600\",\"type\":\"PanTool\"},{\"attributes\":{\"text\":\"with ATP Synthase, Proton Pump, ATP Use\"},\"id\":\"3580\",\"type\":\"Title\"},{\"attributes\":{\"callback\":null,\"data\":{\"x\":{\"__ndarray__\":\"AAAAAAAAAAB/pUCtXykgQH+lQK1fKTBAPvjggw8+OEB/pUCtXylAQN/OkJi3M0RAPvjggw8+SECeITFvZ0hMQH+lQK1fKVBAL7rooosuUkDfzpCYtzNUQI/jOI7jOFZAPvjggw8+WEDuDIl5O0NaQJ4hMW9nSFxATjbZZJNNXkB/pUCtXylgQNevFKj1K2FAL7rooosuYkCHxLydITFjQN/OkJi3M2RAN9lkk002ZUCP4ziO4zhmQOftDIl5O2dAPvjggw8+aECWArV+pUBpQO4MiXk7Q2pARhdddNFFa0CeITFvZ0hsQPYrBWr9Sm1ATjbZZJNNbkCmQK1fKVBvQH+lQK1fKXBAq6qqqqqqcEDXrxSo9StxQAO1fqVArXFAL7rooosuckBbv1Kg1q9yQIfEvJ0hMXNAs8kmm2yyc0DfzpCYtzN0QAvU+pUCtXRAN9lkk002dUBj3s6QmLd1QI/jOI7jOHZAu+iiiy66dkDn7QyJeTt3QBPzdobEvHdAPvjggw8+eEBq/UqBWr94QJYCtX6lQHlAwgcffPDBeUDuDIl5O0N6QBoS83aGxHpARhdddNFFe0ByHMdxHMd7QJ4hMW9nSHxAyiabbLLJfED2KwVq/Up9QCIxb2dIzH1ATjbZZJNNfkB6O0Ni3s5+QKZArV8pUH9A0kUXXXTRf0B/pUCtXymAQBWo9SsFaoBAq6qqqqqqgEBBrV8pUOuAQNevFKj1K4FAbbLJJptsgUADtX6lQK2BQJm3MyTm7YFAL7rooosugkDFvJ0hMW+CQFu/UqDWr4JA8cEHH3zwgkCHxLydITGDQB3HcRzHcYNAs8kmm2yyg0BJzNsZEvODQN/OkJi3M4RAddFFF110hEAL1PqVArWEQKHWrxSo9YRAN9lkk002hUDN2xkS83aFQGPezpCYt4VA+eCDDz74hUCP4ziO4ziGQCXm7QyJeYZAu+iiiy66hkBR61cK1PqGQOftDIl5O4dAffDBBx98h0AT83aGxLyHQKn1KwVq/YdAPvjggw8+iEDU+pUCtX6IQGr9SoFav4hAAAAAAAAAiUA=\",\"dtype\":\"float64\",\"shape\":[100]},\"y\":{\"__ndarray__\":\"AAAAAAAAAAAYbEc4spYkP9sq/M93xVM/befatqwpcD/MCvT+U5mCPyIImQjoipE/j8ff0eYsnT+t/RNIFEWmP9kIsPTf9K8/4TkJcqfftT9/zXIgJdq8P0zb9sAdd8I/kZ8w5N4Oxz9RhwqcaTTMP7dP3Xyh89A/d41mmEgT1D/7GWG3nXjXP1uLOpH/Its/p4GjGb8R3z9NKoMgEqLhP1FdPZG43OM/GszXEXI45j80Dmuw3LToP1EE/8+VUes/QHDqeToO7j/YtDfKM3XwP19EogPd8vE/Yx//aed/8z8dAmGTIRz1P8VPoDBax/Y/0jYoEWCB+D+faIklAkr6P3nPO4EPIfw/8tzhW1cG/j+rsiYSqfn/PwG8MBNq/QBAXwiKINQEAkA7F6WY+hIDQBBidHbFJwRAFv94yBxDBUAkXeGw6GQGQNy8pWURjQdAI52jMH+7CEAIjLZvGvAJQEua05TLKgtAnn4rJntrDEDeFDK+EbINQFd5sgt4/g5Adh4gaUsoEEATwe10K9QQQBRNqJ/QghFAhtgtai80EkCBQd5fPOgSQKGSqhbsnhNAQowpLzNYFECAoapUBhQVQC67Rz1a0hVAYwr5qSOTFkDSdqpmV1YXQPu5UUrqGxhAZRgWN9HjGEAORjkaAa4ZQLl+HuxuehpAezkFsQ9JG0CYIIN42BkcQCvFqF2+7BxAsyxLh7bBHUCXDiMotpgeQAYy5H6ycR9AjAAsa1AmIECGEr5Cu5QgQEB303cUBCFAN1xYwlZ0IUCaHY7gfOUhQFLhGZeBVyJA3J0ZsV/KIkAgdDkAEj4jQNQ/yVyTsiNAndnUpd4nJECN8DrB7p0kQEqcxpu+FCVAv5lfKUmMJUAk2etkiQQmQFTrSlB6fSZAZ9gD9Rb3JkA9STxkWnEnQLM5gbY/7CdA0wfuC8JnKECddoGM3OMoQG29I2iKYClAa2Tc1sbdKUCM4PcYjVsqQPMRJnfY2SpAtCKRQqRYK0AGGAfV69crQPqCOZGqVyxAQ07f4tvXLEBB2OY+e1gtQDwanCOE2S1AX53aGPJaLkA=\",\"dtype\":\"float64\",\"shape\":[100]}},\"selected\":{\"id\":\"3850\",\"type\":\"Selection\"},\"selection_policy\":{\"id\":\"3851\",\"type\":\"UnionRenderers\"}},\"id\":\"3674\",\"type\":\"ColumnDataSource\"},{\"attributes\":{},\"id\":\"3654\",\"type\":\"UnionRenderers\"},{\"attributes\":{},\"id\":\"3601\",\"type\":\"WheelZoomTool\"},{\"attributes\":{\"label\":{\"value\":\"outside_H\"},\"renderers\":[{\"id\":\"3629\",\"type\":\"GlyphRenderer\"}]},\"id\":\"3639\",\"type\":\"LegendItem\"},{\"attributes\":{\"line_alpha\":0.1,\"line_color\":\"#1f77b4\",\"line_width\":2,\"x\":{\"field\":\"x\"},\"y\":{\"field\":\"y\"}},\"id\":\"3676\",\"type\":\"Line\"},{\"attributes\":{\"callback\":null},\"id\":\"3582\",\"type\":\"DataRange1d\"},{\"attributes\":{},\"id\":\"3851\",\"type\":\"UnionRenderers\"},{\"attributes\":{},\"id\":\"3586\",\"type\":\"LinearScale\"},{\"attributes\":{\"overlay\":{\"id\":\"3623\",\"type\":\"BoxAnnotation\"}},\"id\":\"3602\",\"type\":\"BoxZoomTool\"},{\"attributes\":{\"callback\":null,\"data\":{\"x\":{\"__ndarray__\":\"AAAAAAAAAAB/pUCtXykgQH+lQK1fKTBAPvjggw8+OEB/pUCtXylAQN/OkJi3M0RAPvjggw8+SECeITFvZ0hMQH+lQK1fKVBAL7rooosuUkDfzpCYtzNUQI/jOI7jOFZAPvjggw8+WEDuDIl5O0NaQJ4hMW9nSFxATjbZZJNNXkB/pUCtXylgQNevFKj1K2FAL7rooosuYkCHxLydITFjQN/OkJi3M2RAN9lkk002ZUCP4ziO4zhmQOftDIl5O2dAPvjggw8+aECWArV+pUBpQO4MiXk7Q2pARhdddNFFa0CeITFvZ0hsQPYrBWr9Sm1ATjbZZJNNbkCmQK1fKVBvQH+lQK1fKXBAq6qqqqqqcEDXrxSo9StxQAO1fqVArXFAL7rooosuckBbv1Kg1q9yQIfEvJ0hMXNAs8kmm2yyc0DfzpCYtzN0QAvU+pUCtXRAN9lkk002dUBj3s6QmLd1QI/jOI7jOHZAu+iiiy66dkDn7QyJeTt3QBPzdobEvHdAPvjggw8+eEBq/UqBWr94QJYCtX6lQHlAwgcffPDBeUDuDIl5O0N6QBoS83aGxHpARhdddNFFe0ByHMdxHMd7QJ4hMW9nSHxAyiabbLLJfED2KwVq/Up9QCIxb2dIzH1ATjbZZJNNfkB6O0Ni3s5+QKZArV8pUH9A0kUXXXTRf0B/pUCtXymAQBWo9SsFaoBAq6qqqqqqgEBBrV8pUOuAQNevFKj1K4FAbbLJJptsgUADtX6lQK2BQJm3MyTm7YFAL7rooosugkDFvJ0hMW+CQFu/UqDWr4JA8cEHH3zwgkCHxLydITGDQB3HcRzHcYNAs8kmm2yyg0BJzNsZEvODQN/OkJi3M4RAddFFF110hEAL1PqVArWEQKHWrxSo9YRAN9lkk002hUDN2xkS83aFQGPezpCYt4VA+eCDDz74hUCP4ziO4ziGQCXm7QyJeYZAu+iiiy66hkBR61cK1PqGQOftDIl5O4dAffDBBx98h0AT83aGxLyHQKn1KwVq/YdAPvjggw8+iEDU+pUCtX6IQGr9SoFav4hAAAAAAAAAiUA=\",\"dtype\":\"float64\",\"shape\":[100]},\"y\":{\"__ndarray__\":\"AAAAAAAAAAAybEc4spYkP/Iq/M93xVM/gOfatqwpcD/cCvT+U5mCPy8ImQjoipE/nsff0eYsnT+4/RNIFEWmP+UIsPTf9K8/6TkJcqfftT+KzXIgJdq8P1Lb9sAdd8I/mJ8w5N4Oxz9YhwqcaTTMP7tP3Xyh89A/e41mmEgT1D//GWG3nXjXP1+LOpH/Its/roGjGb8R3z9RKoMgEqLhP1VdPZG43OM/HszXEXI45j85Dmuw3LToP1UE/8+VUes/RHDqeToO7j/atDfKM3XwP2FEogPd8vE/ZR//aed/8z8fAmGTIRz1P8dPoDBax/Y/1DYoEWCB+D+haIklAkr6P3vPO4EPIfw/9NzhW1cG/j+tsiYSqfn/PwK8MBNq/QBAYAiKINQEAkA8F6WY+hIDQBFidHbFJwRAF/94yBxDBUAlXeGw6GQGQN28pWURjQdAJJ2jMH+7CEAJjLZvGvAJQEya05TLKgtAn34rJntrDEDfFDK+EbINQFh5sgt4/g5Adh4gaUsoEEATwe10K9QQQBRNqJ/QghFAhtgtai80EkCBQd5fPOgSQKGSqhbsnhNAQowpLzNYFECAoapUBhQVQC+7Rz1a0hVAZQr5qSOTFkDUdqpmV1YXQP25UUrqGxhAZxgWN9HjGEARRjkaAa4ZQLt+HuxuehpAfTkFsQ9JG0CaIIN42BkcQC3FqF2+7BxAtSxLh7bBHUCZDiMotpgeQAgy5H6ycR9AjQAsa1AmIECHEr5Cu5QgQEF303cUBCFAOFxYwlZ0IUCaHY7gfOUhQFLhGZeBVyJA3J0ZsV/KIkAgdDkAEj4jQNM/yVyTsiNAndnUpd4nJECN8DrB7p0kQEqcxpu+FCVAv5lfKUmMJUAk2etkiQQmQFTrSlB6fSZAZ9gD9Rb3JkA9STxkWnEnQLM5gbY/7CdA0wfuC8JnKECddoGM3OMoQG29I2iKYClAbGTc1sbdKUCN4PcYjVsqQPQRJnfY2SpAtiKRQqRYK0AIGAfV69crQPyCOZGqVyxARU7f4tvXLEBD2OY+e1gtQD4anCOE2S1AYZ3aGPJaLkA=\",\"dtype\":\"float64\",\"shape\":[100]}},\"selected\":{\"id\":\"3691\",\"type\":\"Selection\"},\"selection_policy\":{\"id\":\"3692\",\"type\":\"UnionRenderers\"}},\"id\":\"3656\",\"type\":\"ColumnDataSource\"},{\"attributes\":{\"line_color\":\"#8c564b\",\"line_width\":2,\"x\":{\"field\":\"x\"},\"y\":{\"field\":\"y\"}},\"id\":\"3675\",\"type\":\"Line\"},{\"attributes\":{\"source\":{\"id\":\"3626\",\"type\":\"ColumnDataSource\"}},\"id\":\"3630\",\"type\":\"CDSView\"},{\"attributes\":{\"data_source\":{\"id\":\"3626\",\"type\":\"ColumnDataSource\"},\"glyph\":{\"id\":\"3627\",\"type\":\"Line\"},\"hover_glyph\":null,\"muted_glyph\":null,\"nonselection_glyph\":{\"id\":\"3628\",\"type\":\"Line\"},\"selection_glyph\":null,\"view\":{\"id\":\"3630\",\"type\":\"CDSView\"}},\"id\":\"3629\",\"type\":\"GlyphRenderer\"},{\"attributes\":{},\"id\":\"3622\",\"type\":\"BasicTickFormatter\"},{\"attributes\":{\"line_color\":\"#9367bc\",\"line_width\":2,\"x\":{\"field\":\"x\"},\"y\":{\"field\":\"y\"}},\"id\":\"3657\",\"type\":\"Line\"},{\"attributes\":{\"callback\":null},\"id\":\"3584\",\"type\":\"DataRange1d\"}],\"root_ids\":[\"3579\"]},\"title\":\"Bokeh Application\",\"version\":\"1.4.0\"}};\n",
       "  var render_items = [{\"docid\":\"69f961cc-0f6e-4476-9fbf-da7dc2722766\",\"roots\":{\"3579\":\"107b8d5a-614e-4d07-934f-2eb47898f44f\"}}];\n",
       "  root.Bokeh.embed.embed_items_notebook(docs_json, render_items);\n",
       "\n",
       "  }\n",
       "  if (root.Bokeh !== undefined) {\n",
       "    embed_document(root);\n",
       "  } else {\n",
       "    var attempts = 0;\n",
       "    var timer = setInterval(function(root) {\n",
       "      if (root.Bokeh !== undefined) {\n",
       "        clearInterval(timer);\n",
       "        embed_document(root);\n",
       "      } else {\n",
       "        attempts++;\n",
       "        if (attempts > 100) {\n",
       "          clearInterval(timer);\n",
       "          console.log(\"Bokeh: ERROR: Unable to run BokehJS code because BokehJS library is missing\");\n",
       "        }\n",
       "      }\n",
       "    }, 10, root)\n",
       "  }\n",
       "})(window);"
      ],
      "application/vnd.bokehjs_exec.v0+json": ""
     },
     "metadata": {
      "application/vnd.bokehjs_exec.v0+json": {
       "id": "3579"
      }
     },
     "output_type": "display_data"
    }
   ],
   "source": [
    "#plt_timepoints = timepoints/60\n",
    "\n",
    "p3 = bokeh.plotting.figure(width = 450, height = 350, title = 'with ATP Synthase, Proton Pump, ATP Use',\n",
    "                          x_axis_label = 'time',\n",
    "                          y_axis_label = 'concentration (nM)')\n",
    "plot_list = [ATP_id_orig, outside_H_id, inside_H_id, atp_synthase_b_protein_id, proton_pump_b_protein_id]\n",
    "plot_str = ['atp', 'outside_H', 'inside_H', 'bound atp synthase', 'bound proton pump']\n",
    "for i,item in enumerate(plot_list):\n",
    "    p3.line(timepoints, results_original[item], line_width = 2, legend_label = plot_str[i], color = palette[i])\n",
    "\n",
    "    #p3.line(plt_timepoints, results_everything[ATP_id3])\n",
    "p3.legend.click_policy = 'hide'\n",
    "p3.legend.location = 'center_right'\n",
    "\n",
    "bokeh.io.show(p3)\n"
   ]
  },
  {
   "cell_type": "markdown",
   "metadata": {},
   "source": [
    "## Compare 25, 37, 100 C\n",
    "---"
   ]
  },
  {
   "cell_type": "code",
   "execution_count": 58,
   "metadata": {},
   "outputs": [
    {
     "data": {
      "text/html": [
       "\n",
       "\n",
       "\n",
       "\n",
       "\n",
       "\n",
       "  <div class=\"bk-root\" id=\"8fee5915-3bc6-4039-8600-4afd392124dd\" data-root-id=\"5957\"></div>\n"
      ]
     },
     "metadata": {},
     "output_type": "display_data"
    },
    {
     "data": {
      "application/javascript": [
       "(function(root) {\n",
       "  function embed_document(root) {\n",
       "    \n",
       "  var docs_json = {\"17de293a-33d6-46f2-9e2c-f2307a07bf35\":{\"roots\":{\"references\":[{\"attributes\":{\"below\":[{\"id\":\"5968\",\"type\":\"LinearAxis\"}],\"center\":[{\"id\":\"5972\",\"type\":\"Grid\"},{\"id\":\"5977\",\"type\":\"Grid\"},{\"id\":\"6002\",\"type\":\"Legend\"}],\"left\":[{\"id\":\"5973\",\"type\":\"LinearAxis\"}],\"plot_height\":350,\"plot_width\":450,\"renderers\":[{\"id\":\"5994\",\"type\":\"GlyphRenderer\"},{\"id\":\"6007\",\"type\":\"GlyphRenderer\"},{\"id\":\"6021\",\"type\":\"GlyphRenderer\"},{\"id\":\"6037\",\"type\":\"GlyphRenderer\"}],\"title\":{\"id\":\"5958\",\"type\":\"Title\"},\"toolbar\":{\"id\":\"5984\",\"type\":\"Toolbar\"},\"x_range\":{\"id\":\"5960\",\"type\":\"DataRange1d\"},\"x_scale\":{\"id\":\"5964\",\"type\":\"LinearScale\"},\"y_range\":{\"id\":\"5962\",\"type\":\"DataRange1d\"},\"y_scale\":{\"id\":\"5966\",\"type\":\"LinearScale\"}},\"id\":\"5957\",\"subtype\":\"Figure\",\"type\":\"Plot\"},{\"attributes\":{\"data_source\":{\"id\":\"6004\",\"type\":\"ColumnDataSource\"},\"glyph\":{\"id\":\"6005\",\"type\":\"Line\"},\"hover_glyph\":null,\"muted_glyph\":null,\"nonselection_glyph\":{\"id\":\"6006\",\"type\":\"Line\"},\"selection_glyph\":null,\"view\":{\"id\":\"6008\",\"type\":\"CDSView\"}},\"id\":\"6007\",\"type\":\"GlyphRenderer\"},{\"attributes\":{},\"id\":\"6050\",\"type\":\"UnionRenderers\"},{\"attributes\":{\"dimension\":1,\"ticker\":{\"id\":\"5974\",\"type\":\"BasicTicker\"}},\"id\":\"5977\",\"type\":\"Grid\"},{\"attributes\":{\"source\":{\"id\":\"5991\",\"type\":\"ColumnDataSource\"}},\"id\":\"5995\",\"type\":\"CDSView\"},{\"attributes\":{\"line_color\":\"#ff7e0e\",\"line_width\":2,\"x\":{\"field\":\"x\"},\"y\":{\"field\":\"y\"}},\"id\":\"6005\",\"type\":\"Line\"},{\"attributes\":{},\"id\":\"5974\",\"type\":\"BasicTicker\"},{\"attributes\":{\"source\":{\"id\":\"6018\",\"type\":\"ColumnDataSource\"}},\"id\":\"6022\",\"type\":\"CDSView\"},{\"attributes\":{\"axis_label\":\"concentration (nM)\",\"formatter\":{\"id\":\"6000\",\"type\":\"BasicTickFormatter\"},\"ticker\":{\"id\":\"5974\",\"type\":\"BasicTicker\"}},\"id\":\"5973\",\"type\":\"LinearAxis\"},{\"attributes\":{\"line_alpha\":0.1,\"line_color\":\"#1f77b4\",\"line_width\":2,\"x\":{\"field\":\"x\"},\"y\":{\"field\":\"y\"}},\"id\":\"6036\",\"type\":\"Line\"},{\"attributes\":{},\"id\":\"5998\",\"type\":\"BasicTickFormatter\"},{\"attributes\":{},\"id\":\"6015\",\"type\":\"Selection\"},{\"attributes\":{},\"id\":\"6031\",\"type\":\"Selection\"},{\"attributes\":{\"axis_label\":\"time (sec)\",\"formatter\":{\"id\":\"5998\",\"type\":\"BasicTickFormatter\"},\"ticker\":{\"id\":\"5969\",\"type\":\"BasicTicker\"}},\"id\":\"5968\",\"type\":\"LinearAxis\"},{\"attributes\":{\"line_alpha\":0.1,\"line_color\":\"#1f77b4\",\"line_width\":2,\"x\":{\"field\":\"x\"},\"y\":{\"field\":\"y\"}},\"id\":\"6006\",\"type\":\"Line\"},{\"attributes\":{},\"id\":\"6032\",\"type\":\"UnionRenderers\"},{\"attributes\":{},\"id\":\"5969\",\"type\":\"BasicTicker\"},{\"attributes\":{\"label\":{\"value\":\"original\"},\"renderers\":[{\"id\":\"6037\",\"type\":\"GlyphRenderer\"}]},\"id\":\"6051\",\"type\":\"LegendItem\"},{\"attributes\":{\"line_alpha\":0.1,\"line_color\":\"#1f77b4\",\"line_width\":2,\"x\":{\"field\":\"x\"},\"y\":{\"field\":\"y\"}},\"id\":\"5993\",\"type\":\"Line\"},{\"attributes\":{\"callback\":null,\"data\":{\"x\":{\"__ndarray__\":\"AAAAAAAAAAB/pUCtXykgQH+lQK1fKTBAPvjggw8+OEB/pUCtXylAQN/OkJi3M0RAPvjggw8+SECeITFvZ0hMQH+lQK1fKVBAL7rooosuUkDfzpCYtzNUQI/jOI7jOFZAPvjggw8+WEDuDIl5O0NaQJ4hMW9nSFxATjbZZJNNXkB/pUCtXylgQNevFKj1K2FAL7rooosuYkCHxLydITFjQN/OkJi3M2RAN9lkk002ZUCP4ziO4zhmQOftDIl5O2dAPvjggw8+aECWArV+pUBpQO4MiXk7Q2pARhdddNFFa0CeITFvZ0hsQPYrBWr9Sm1ATjbZZJNNbkCmQK1fKVBvQH+lQK1fKXBAq6qqqqqqcEDXrxSo9StxQAO1fqVArXFAL7rooosuckBbv1Kg1q9yQIfEvJ0hMXNAs8kmm2yyc0DfzpCYtzN0QAvU+pUCtXRAN9lkk002dUBj3s6QmLd1QI/jOI7jOHZAu+iiiy66dkDn7QyJeTt3QBPzdobEvHdAPvjggw8+eEBq/UqBWr94QJYCtX6lQHlAwgcffPDBeUDuDIl5O0N6QBoS83aGxHpARhdddNFFe0ByHMdxHMd7QJ4hMW9nSHxAyiabbLLJfED2KwVq/Up9QCIxb2dIzH1ATjbZZJNNfkB6O0Ni3s5+QKZArV8pUH9A0kUXXXTRf0B/pUCtXymAQBWo9SsFaoBAq6qqqqqqgEBBrV8pUOuAQNevFKj1K4FAbbLJJptsgUADtX6lQK2BQJm3MyTm7YFAL7rooosugkDFvJ0hMW+CQFu/UqDWr4JA8cEHH3zwgkCHxLydITGDQB3HcRzHcYNAs8kmm2yyg0BJzNsZEvODQN/OkJi3M4RAddFFF110hEAL1PqVArWEQKHWrxSo9YRAN9lkk002hUDN2xkS83aFQGPezpCYt4VA+eCDDz74hUCP4ziO4ziGQCXm7QyJeYZAu+iiiy66hkBR61cK1PqGQOftDIl5O4dAffDBBx98h0AT83aGxLyHQKn1KwVq/YdAPvjggw8+iEDU+pUCtX6IQGr9SoFav4hAAAAAAAAAiUA=\",\"dtype\":\"float64\",\"shape\":[100]},\"y\":{\"__ndarray__\":\"AAAAAAAAJEAPbJXbjeekP4b8me0TWuE/rjO9yrxJ/T8s1n+gPAILQFdRQmbHyBJARB7MHPDPFkAiuoPYitAZQEZcvNXeERxA/jobFSPLHUANwA2wDiMfQC09QfAcGiBAiYXmCoGIIEAVGqy1IuMgQOpFcV6YLiFAryBZqzZuIUA64Ol/c6QhQKl5Ldsn0yFAlVBIWbz7IUDgF0zGRx8iQGzjbXikPiJAFkfGdH9aIkB3QQRXY3MiQNHZ1kfAiSJAofTr3/GdIkAz27iRQ7AiQN9X0wD0wCJA7JZYkDfQIkBD40BcOt4iQImb8cUh6yJAH7Juqg33IkDUSqNZGQIjQChKUVtcDCNA2qUdD+sVI0BJzv4s1x4jQFRaAC8wJyNAup52pwMvI0CZdzmJXTYjQF2E5GJIPSNAwUjvj81DI0CSD8tj9UkjQDlwlEvHTyNAJ5f17ElVI0AUxrU+g1ojQMjYx594XyNAOQze5y5kI0DhPC15qmgjQNk7d03vbCNA60kxAgFxI0Agssbi4nQjQIPt4vGXeCNA2y438SJ8I0Dzrl5ohn8jQLBcA6vEgiNA9rUo3t+FI0DJQtz82YgjQORPWdy0iyNAYtOwL3KOI0C+bwCLE5EjQEWNU2aakyNAeWT0HwiWI0CyQTL/XZgjQOtY7DWdmiNAOK1u4sacI0CqRDcR3J4jQDT7Q77doCNAxVdi1syiI0Dbo2k4qqQjQLQfJrZ2piNAsi8+FTOoI0BluJcQ4KkjQH1yYVh+qyNAF6Avkw6tI0B7RJZeka4jQG2evE8HsCNAw5rh83CxI0DQ6+3QzrIjQBoA2GUhtCNA49EYK2m1I0DaWCSTprYjQM56cAratyNABXST+AO5I0AJ7Ve/JLojQFomS7w8uyNA1+9hSEy8I0DbVKO4U70jQMK5WVxTviNATLGSgUu/I0DCTRxxPMAjQF8eznAmwSNAdjVEwwnCI0CBAQyo5sIjQEPg1Fu9wyNAalSWGI7EI0B96rEVWcUjQBfiC4gexiNAhMJDot7GI0CNj+qUmccjQKkquI1PyCNAeFOVuQDJI0A=\",\"dtype\":\"float64\",\"shape\":[100]}},\"selected\":{\"id\":\"6031\",\"type\":\"Selection\"},\"selection_policy\":{\"id\":\"6032\",\"type\":\"UnionRenderers\"}},\"id\":\"6004\",\"type\":\"ColumnDataSource\"},{\"attributes\":{\"active_drag\":\"auto\",\"active_inspect\":\"auto\",\"active_multi\":null,\"active_scroll\":\"auto\",\"active_tap\":\"auto\",\"tools\":[{\"id\":\"5978\",\"type\":\"PanTool\"},{\"id\":\"5979\",\"type\":\"WheelZoomTool\"},{\"id\":\"5980\",\"type\":\"BoxZoomTool\"},{\"id\":\"5981\",\"type\":\"SaveTool\"},{\"id\":\"5982\",\"type\":\"ResetTool\"},{\"id\":\"5983\",\"type\":\"HelpTool\"}]},\"id\":\"5984\",\"type\":\"Toolbar\"},{\"attributes\":{\"callback\":null,\"data\":{\"x\":{\"__ndarray__\":\"AAAAAAAAAAB/pUCtXykgQH+lQK1fKTBAPvjggw8+OEB/pUCtXylAQN/OkJi3M0RAPvjggw8+SECeITFvZ0hMQH+lQK1fKVBAL7rooosuUkDfzpCYtzNUQI/jOI7jOFZAPvjggw8+WEDuDIl5O0NaQJ4hMW9nSFxATjbZZJNNXkB/pUCtXylgQNevFKj1K2FAL7rooosuYkCHxLydITFjQN/OkJi3M2RAN9lkk002ZUCP4ziO4zhmQOftDIl5O2dAPvjggw8+aECWArV+pUBpQO4MiXk7Q2pARhdddNFFa0CeITFvZ0hsQPYrBWr9Sm1ATjbZZJNNbkCmQK1fKVBvQH+lQK1fKXBAq6qqqqqqcEDXrxSo9StxQAO1fqVArXFAL7rooosuckBbv1Kg1q9yQIfEvJ0hMXNAs8kmm2yyc0DfzpCYtzN0QAvU+pUCtXRAN9lkk002dUBj3s6QmLd1QI/jOI7jOHZAu+iiiy66dkDn7QyJeTt3QBPzdobEvHdAPvjggw8+eEBq/UqBWr94QJYCtX6lQHlAwgcffPDBeUDuDIl5O0N6QBoS83aGxHpARhdddNFFe0ByHMdxHMd7QJ4hMW9nSHxAyiabbLLJfED2KwVq/Up9QCIxb2dIzH1ATjbZZJNNfkB6O0Ni3s5+QKZArV8pUH9A0kUXXXTRf0B/pUCtXymAQBWo9SsFaoBAq6qqqqqqgEBBrV8pUOuAQNevFKj1K4FAbbLJJptsgUADtX6lQK2BQJm3MyTm7YFAL7rooosugkDFvJ0hMW+CQFu/UqDWr4JA8cEHH3zwgkCHxLydITGDQB3HcRzHcYNAs8kmm2yyg0BJzNsZEvODQN/OkJi3M4RAddFFF110hEAL1PqVArWEQKHWrxSo9YRAN9lkk002hUDN2xkS83aFQGPezpCYt4VA+eCDDz74hUCP4ziO4ziGQCXm7QyJeYZAu+iiiy66hkBR61cK1PqGQOftDIl5O4dAffDBBx98h0AT83aGxLyHQKn1KwVq/YdAPvjggw8+iEDU+pUCtX6IQGr9SoFav4hAAAAAAAAAiUA=\",\"dtype\":\"float64\",\"shape\":[100]},\"y\":{\"__ndarray__\":\"AAAAAAAAJEDiwXW8v0ZzP7u736TUwLE/a/YkG0Fw0z+oKGCneA/pP3i5WWIsnPc/DlzdglAsAkDH7xD0lYcIQEput8+lYg5A5x7DOSzHEUCCIrFbywMUQKg4hnk57xVA2d2LMW2UF0Clb9+STf4YQOCmEL+QNhpAkcN8bXNFG0Dsw8tfyTEcQLp4EFQsAR1AdKz8fTC4HUCR1ku8lFoeQEFLoqVr6x5AkhcMIz1tH0BcTtt2IeIfQGoTJ2jrJSBADT2/MulVIECHNNwIp4EgQNts25WpqSBAquwQl2HOIECi4RJUL/AgQIdaB2tlDyFALiYGFUssIUA1yHv9HUchQJpmI8MTYCFAA1R3Nlt3IUC8ngZeHY0hQMO6DU9+oSFA7iph5Z20IUAtSaFUmMYhQHy+eq2G1yFA+3UORn/nIUDGN7MTlvYhQEdLkPvcBCJALamKEGQSIkDtuyTPOR8iQJ3+TkxrKyJAp2+gXwQ3IkCIzuDHD0IiQPN090mXTCJA93CXzKNWIkDUuw9wPWAiQJQ8XaNraSJAsRUjNjVyIkBRE/xooHoiQN7S7PuygiJA/ravOnKKIkDqmuQH45EiQN+lDOcJmSJAM6RABeufIkAhd3RBiqYiQPeZLTLrrCJASTZsLhGzIkDvbv5P/7giQI3fw3q4viJALvIIYj/EIkAkom2IlskiQBFiKEnAziJA+J12177TIkBFeyVDlNgiQC1/DntC3SJArnXOT8vhIkA0yMV1MOYiQLSj9oZz6iJArhE9BpbuIkAfuNxemfIiQNUrVOh+9iJA2hQR5kf6IkB0WPSJ9f0iQEp++vSIASNAEQYnOAMFI0BkC+RWZQgjQGIcrUWwCyNAyCsK7eQOI0CFJGspBBIjQI48+ssOFSNAxOh6mwUYI0CHJMlU6RojQBVylqu6HSNAfiHdSnogI0AAy2rVKCMjQJWjX+bGJSNAtsiKEVUoI0BrNiDk0yojQIr6keRDLSNAHVK7k6UvI0AY1A1s+TEjQB0lGeM/NCNAm/2KaXk2I0B3bkNqpjgjQCAqU0zHOiNAIlFmctw8I0A=\",\"dtype\":\"float64\",\"shape\":[100]}},\"selected\":{\"id\":\"6049\",\"type\":\"Selection\"},\"selection_policy\":{\"id\":\"6050\",\"type\":\"UnionRenderers\"}},\"id\":\"6018\",\"type\":\"ColumnDataSource\"},{\"attributes\":{},\"id\":\"6016\",\"type\":\"UnionRenderers\"},{\"attributes\":{\"data_source\":{\"id\":\"6018\",\"type\":\"ColumnDataSource\"},\"glyph\":{\"id\":\"6019\",\"type\":\"Line\"},\"hover_glyph\":null,\"muted_glyph\":null,\"nonselection_glyph\":{\"id\":\"6020\",\"type\":\"Line\"},\"selection_glyph\":null,\"view\":{\"id\":\"6022\",\"type\":\"CDSView\"}},\"id\":\"6021\",\"type\":\"GlyphRenderer\"},{\"attributes\":{\"label\":{\"value\":\"37\"},\"renderers\":[{\"id\":\"6007\",\"type\":\"GlyphRenderer\"}]},\"id\":\"6017\",\"type\":\"LegendItem\"},{\"attributes\":{\"line_color\":\"#1f77b3\",\"line_width\":2,\"x\":{\"field\":\"x\"},\"y\":{\"field\":\"y\"}},\"id\":\"5992\",\"type\":\"Line\"},{\"attributes\":{\"line_color\":\"#2ba02b\",\"line_width\":2,\"x\":{\"field\":\"x\"},\"y\":{\"field\":\"y\"}},\"id\":\"6019\",\"type\":\"Line\"},{\"attributes\":{},\"id\":\"5978\",\"type\":\"PanTool\"},{\"attributes\":{\"line_alpha\":0.1,\"line_color\":\"#1f77b4\",\"line_width\":2,\"x\":{\"field\":\"x\"},\"y\":{\"field\":\"y\"}},\"id\":\"6020\",\"type\":\"Line\"},{\"attributes\":{\"source\":{\"id\":\"6004\",\"type\":\"ColumnDataSource\"}},\"id\":\"6008\",\"type\":\"CDSView\"},{\"attributes\":{},\"id\":\"5979\",\"type\":\"WheelZoomTool\"},{\"attributes\":{\"callback\":null,\"data\":{\"x\":{\"__ndarray__\":\"AAAAAAAAAAB/pUCtXykgQH+lQK1fKTBAPvjggw8+OEB/pUCtXylAQN/OkJi3M0RAPvjggw8+SECeITFvZ0hMQH+lQK1fKVBAL7rooosuUkDfzpCYtzNUQI/jOI7jOFZAPvjggw8+WEDuDIl5O0NaQJ4hMW9nSFxATjbZZJNNXkB/pUCtXylgQNevFKj1K2FAL7rooosuYkCHxLydITFjQN/OkJi3M2RAN9lkk002ZUCP4ziO4zhmQOftDIl5O2dAPvjggw8+aECWArV+pUBpQO4MiXk7Q2pARhdddNFFa0CeITFvZ0hsQPYrBWr9Sm1ATjbZZJNNbkCmQK1fKVBvQH+lQK1fKXBAq6qqqqqqcEDXrxSo9StxQAO1fqVArXFAL7rooosuckBbv1Kg1q9yQIfEvJ0hMXNAs8kmm2yyc0DfzpCYtzN0QAvU+pUCtXRAN9lkk002dUBj3s6QmLd1QI/jOI7jOHZAu+iiiy66dkDn7QyJeTt3QBPzdobEvHdAPvjggw8+eEBq/UqBWr94QJYCtX6lQHlAwgcffPDBeUDuDIl5O0N6QBoS83aGxHpARhdddNFFe0ByHMdxHMd7QJ4hMW9nSHxAyiabbLLJfED2KwVq/Up9QCIxb2dIzH1ATjbZZJNNfkB6O0Ni3s5+QKZArV8pUH9A0kUXXXTRf0B/pUCtXymAQBWo9SsFaoBAq6qqqqqqgEBBrV8pUOuAQNevFKj1K4FAbbLJJptsgUADtX6lQK2BQJm3MyTm7YFAL7rooosugkDFvJ0hMW+CQFu/UqDWr4JA8cEHH3zwgkCHxLydITGDQB3HcRzHcYNAs8kmm2yyg0BJzNsZEvODQN/OkJi3M4RAddFFF110hEAL1PqVArWEQKHWrxSo9YRAN9lkk002hUDN2xkS83aFQGPezpCYt4VA+eCDDz74hUCP4ziO4ziGQCXm7QyJeYZAu+iiiy66hkBR61cK1PqGQOftDIl5O4dAffDBBx98h0AT83aGxLyHQKn1KwVq/YdAPvjggw8+iEDU+pUCtX6IQGr9SoFav4hAAAAAAAAAiUA=\",\"dtype\":\"float64\",\"shape\":[100]},\"y\":{\"__ndarray__\":\"AAAAAAAAJEDDWbbiaMibP8YlNu1n8tc/LV/7Clzn9T9fNVEiZeMFQMk8DtW8HRBALm0gGspRFED75SVKeZMXQGTeVSlFFRpAHKkJ1+MHHEA06ya36ZAdQIYdLlmWyx5Ap6KMS2TLH0B+3MzTJk8gQM8zTxo7pyBAyAxbh6nxIEAqFfNdOjEhQHNUfbEIaCFADgX6GLKXIUD0z4/8d8EhQETgiiBX5iFAIU1/hxgHIkDJpcmyXSQiQKcW46SpPiJAYRJxlmdWIkD2HbIA8GsiQIATyHaMfyJAZjvglHqRIkAj3/VN7qEiQKAFrLITsSJAkDRQXRC/IkB6qWyQBMwiQNo9pR0M2CJAMV6XID/jIkBjZHqUsu0iQMUJ49B49yJA0UM376EAI0AvxwMePAkjQFCsBuhTESNAqQOKbfQYI0BA6cuVJyAjQC5ohzj2JiNASidsQGgtI0DJNq7JhDMjQJ5yuDpSOSNAyYWKWtY+I0DxjSpjFkQjQK+jIhIXSSNAndY6ttxNI0AAF607a1IjQGT93jbGViNAeeCJ7vBaI0DxtTBi7l4jQF1kf1LBYiNAW2tcR2xmI0DzfGOV8WkjQLI5LWNTbSNAtlnirJNwI0A6hwhJtHMjQFW0o+u2diNAtcZDKZ15I0CVH/J5aHwjQF6HfTsafyNAS6f8s7OBI0AP/MwTNoQjQMZux3aihiNAIVFO5/mII0AqXAFePYsjQJS2f8RtjSNAmTfO9YuPI0AusjrAmJEjQBe6b+WUkyNAITDgG4GVI0Afg+cPXpcjQIGq5mMsmSNAO2FYseyaI0BCxnKJn5wjQIbZ7HVFniNAe2sX+N6fI0CQJ1eMbKEjQPQ4mKfuoiNAeVkxuWWkI0Aw7/wq0qUjQOeMtGE0pyNA3ZY9vYyoI0D9Hv2Y26kjQF61D0whqyNAxZakKV6sI0CngR2Bkq0jQBuvRp6+riNAmau8yeKvI0DfuL5I/7AjQAjtpl0UsiNAJn8fSCKzI0Car/hEKbQjQOMrj44ptSNAJpG7XCO2I0C8bYPlFrcjQJ3bOlwEuCNABrU08uu4I0A=\",\"dtype\":\"float64\",\"shape\":[100]}},\"selected\":{\"id\":\"6015\",\"type\":\"Selection\"},\"selection_policy\":{\"id\":\"6016\",\"type\":\"UnionRenderers\"}},\"id\":\"5991\",\"type\":\"ColumnDataSource\"},{\"attributes\":{\"source\":{\"id\":\"6034\",\"type\":\"ColumnDataSource\"}},\"id\":\"6038\",\"type\":\"CDSView\"},{\"attributes\":{\"line_color\":\"#9367bc\",\"line_width\":2,\"x\":{\"field\":\"x\"},\"y\":{\"field\":\"y\"}},\"id\":\"6035\",\"type\":\"Line\"},{\"attributes\":{\"data_source\":{\"id\":\"6034\",\"type\":\"ColumnDataSource\"},\"glyph\":{\"id\":\"6035\",\"type\":\"Line\"},\"hover_glyph\":null,\"muted_glyph\":null,\"nonselection_glyph\":{\"id\":\"6036\",\"type\":\"Line\"},\"selection_glyph\":null,\"view\":{\"id\":\"6038\",\"type\":\"CDSView\"}},\"id\":\"6037\",\"type\":\"GlyphRenderer\"},{\"attributes\":{\"overlay\":{\"id\":\"6001\",\"type\":\"BoxAnnotation\"}},\"id\":\"5980\",\"type\":\"BoxZoomTool\"},{\"attributes\":{},\"id\":\"6299\",\"type\":\"UnionRenderers\"},{\"attributes\":{},\"id\":\"5981\",\"type\":\"SaveTool\"},{\"attributes\":{\"click_policy\":\"hide\",\"items\":[{\"id\":\"6003\",\"type\":\"LegendItem\"},{\"id\":\"6017\",\"type\":\"LegendItem\"},{\"id\":\"6033\",\"type\":\"LegendItem\"},{\"id\":\"6051\",\"type\":\"LegendItem\"}],\"location\":\"bottom_right\"},\"id\":\"6002\",\"type\":\"Legend\"},{\"attributes\":{\"ticker\":{\"id\":\"5969\",\"type\":\"BasicTicker\"}},\"id\":\"5972\",\"type\":\"Grid\"},{\"attributes\":{\"callback\":null},\"id\":\"5960\",\"type\":\"DataRange1d\"},{\"attributes\":{},\"id\":\"6000\",\"type\":\"BasicTickFormatter\"},{\"attributes\":{},\"id\":\"5982\",\"type\":\"ResetTool\"},{\"attributes\":{\"data_source\":{\"id\":\"5991\",\"type\":\"ColumnDataSource\"},\"glyph\":{\"id\":\"5992\",\"type\":\"Line\"},\"hover_glyph\":null,\"muted_glyph\":null,\"nonselection_glyph\":{\"id\":\"5993\",\"type\":\"Line\"},\"selection_glyph\":null,\"view\":{\"id\":\"5995\",\"type\":\"CDSView\"}},\"id\":\"5994\",\"type\":\"GlyphRenderer\"},{\"attributes\":{\"bottom_units\":\"screen\",\"fill_alpha\":{\"value\":0.5},\"fill_color\":{\"value\":\"lightgrey\"},\"left_units\":\"screen\",\"level\":\"overlay\",\"line_alpha\":{\"value\":1.0},\"line_color\":{\"value\":\"black\"},\"line_dash\":[4,4],\"line_width\":{\"value\":2},\"render_mode\":\"css\",\"right_units\":\"screen\",\"top_units\":\"screen\"},\"id\":\"6001\",\"type\":\"BoxAnnotation\"},{\"attributes\":{\"callback\":null},\"id\":\"5962\",\"type\":\"DataRange1d\"},{\"attributes\":{},\"id\":\"5983\",\"type\":\"HelpTool\"},{\"attributes\":{\"text\":\"Effect of Different Temperatures on ATP Curves\"},\"id\":\"5958\",\"type\":\"Title\"},{\"attributes\":{\"label\":{\"value\":\"25\"},\"renderers\":[{\"id\":\"5994\",\"type\":\"GlyphRenderer\"}]},\"id\":\"6003\",\"type\":\"LegendItem\"},{\"attributes\":{},\"id\":\"5966\",\"type\":\"LinearScale\"},{\"attributes\":{},\"id\":\"6049\",\"type\":\"Selection\"},{\"attributes\":{},\"id\":\"6298\",\"type\":\"Selection\"},{\"attributes\":{\"callback\":null,\"data\":{\"x\":{\"__ndarray__\":\"AAAAAAAAAAB/pUCtXykgQH+lQK1fKTBAPvjggw8+OEB/pUCtXylAQN/OkJi3M0RAPvjggw8+SECeITFvZ0hMQH+lQK1fKVBAL7rooosuUkDfzpCYtzNUQI/jOI7jOFZAPvjggw8+WEDuDIl5O0NaQJ4hMW9nSFxATjbZZJNNXkB/pUCtXylgQNevFKj1K2FAL7rooosuYkCHxLydITFjQN/OkJi3M2RAN9lkk002ZUCP4ziO4zhmQOftDIl5O2dAPvjggw8+aECWArV+pUBpQO4MiXk7Q2pARhdddNFFa0CeITFvZ0hsQPYrBWr9Sm1ATjbZZJNNbkCmQK1fKVBvQH+lQK1fKXBAq6qqqqqqcEDXrxSo9StxQAO1fqVArXFAL7rooosuckBbv1Kg1q9yQIfEvJ0hMXNAs8kmm2yyc0DfzpCYtzN0QAvU+pUCtXRAN9lkk002dUBj3s6QmLd1QI/jOI7jOHZAu+iiiy66dkDn7QyJeTt3QBPzdobEvHdAPvjggw8+eEBq/UqBWr94QJYCtX6lQHlAwgcffPDBeUDuDIl5O0N6QBoS83aGxHpARhdddNFFe0ByHMdxHMd7QJ4hMW9nSHxAyiabbLLJfED2KwVq/Up9QCIxb2dIzH1ATjbZZJNNfkB6O0Ni3s5+QKZArV8pUH9A0kUXXXTRf0B/pUCtXymAQBWo9SsFaoBAq6qqqqqqgEBBrV8pUOuAQNevFKj1K4FAbbLJJptsgUADtX6lQK2BQJm3MyTm7YFAL7rooosugkDFvJ0hMW+CQFu/UqDWr4JA8cEHH3zwgkCHxLydITGDQB3HcRzHcYNAs8kmm2yyg0BJzNsZEvODQN/OkJi3M4RAddFFF110hEAL1PqVArWEQKHWrxSo9YRAN9lkk002hUDN2xkS83aFQGPezpCYt4VA+eCDDz74hUCP4ziO4ziGQCXm7QyJeYZAu+iiiy66hkBR61cK1PqGQOftDIl5O4dAffDBBx98h0AT83aGxLyHQKn1KwVq/YdAPvjggw8+iEDU+pUCtX6IQGr9SoFav4hAAAAAAAAAiUA=\",\"dtype\":\"float64\",\"shape\":[100]},\"y\":{\"__ndarray__\":\"AAAAAAAAJEAZenSsedr+Pyk9qu1d/RRAxf9XHdrfG0Cbx5uEXn4fQEDFVI51zCBAFdsOa5J3IUA7TiZwJuwhQLyYMO7TPyJARLW2hkx+IkDtok72ZK4iQMfBrLVc1CJA8WV7tfjyIkDJTUlLGAwjQDHwT2QJISNAjm4unroyI0Chu6RR2kEjQJmYtmnqTiNABfp/bE1aI0BztwBCT2QjQEDSsjorbSNANsM8ShB1I0C8snALJHwjQCsMie+EgiNAOUPD2EuII0DdR+NNjY0jQKB5BWFakiNAHKIZYcGWI0BbjTBhzpojQLIgZKOLniNAM8+V7AGiI0C1kUzGOKUjQLcA7LM2qCNA9G6HXQGrI0BpfG6yna0jQKaddgYQsCNAdXgzJ1yyI0Av2E1xhbQjQMXtot+OtiNADDXLGHu4I0DFWl96TLojQP7qfCIFvCNANi5C+Ka9I0Cvl4GxM78jQCSpDtqswCNAngzm1xPCI0CSSc/vacMjQElUC0mwxCNAehq08OfFI0DfJnPcEccjQI3KGO0uyCNAgVuh8D/JI0DBP1akRcojQEZqJLZAyyNASfmkxjHMI0CYhgNqGc0jQAe5pij4zSNAzxvKgc7OI0B7ULrqnM8jQLorcdBj0CNANdJ/mCPRI0DDSUah3NEjQOvNvEKP0iNASYoJzzvTI0BgE+aS4tMjQMB+D9aD1CNANwy82x/VI0DY0unittUjQMcbqiZJ1iNAKaeK3tbWI0CHTLQ+YNcjQJoRNXjl1yNAXQJVuWbYI0Dadc4t5NgjQOO1z/5d2SNAmR7jUtTZI0DJ5t9OR9ojQOdSqxW32iNAQ90yyCPbI0CboiaFjdsjQCnSXmr02yNAxqfXk1jcI0CvIxYcutwjQGKHXxwZ3SNA1MyorHXdI0Awicvjz90jQGPgftcn3iNAJxRunH3eI0CXGFJG0d4jQL0c9Oci3yNAVyo/k3LfI0D+ylFZwN8jQCXDgEoM4CNAgVZsdlbgI0CNvgnsnuAjQEA1dbnl4CNANhxS7CrhI0CA/kmSbuEjQASLLrew4SNAeiVVZ/HhI0A=\",\"dtype\":\"float64\",\"shape\":[100]}},\"selected\":{\"id\":\"6298\",\"type\":\"Selection\"},\"selection_policy\":{\"id\":\"6299\",\"type\":\"UnionRenderers\"}},\"id\":\"6034\",\"type\":\"ColumnDataSource\"},{\"attributes\":{},\"id\":\"5964\",\"type\":\"LinearScale\"},{\"attributes\":{\"label\":{\"value\":\"100\"},\"renderers\":[{\"id\":\"6021\",\"type\":\"GlyphRenderer\"}]},\"id\":\"6033\",\"type\":\"LegendItem\"}],\"root_ids\":[\"5957\"]},\"title\":\"Bokeh Application\",\"version\":\"1.4.0\"}};\n",
       "  var render_items = [{\"docid\":\"17de293a-33d6-46f2-9e2c-f2307a07bf35\",\"roots\":{\"5957\":\"8fee5915-3bc6-4039-8600-4afd392124dd\"}}];\n",
       "  root.Bokeh.embed.embed_items_notebook(docs_json, render_items);\n",
       "\n",
       "  }\n",
       "  if (root.Bokeh !== undefined) {\n",
       "    embed_document(root);\n",
       "  } else {\n",
       "    var attempts = 0;\n",
       "    var timer = setInterval(function(root) {\n",
       "      if (root.Bokeh !== undefined) {\n",
       "        clearInterval(timer);\n",
       "        embed_document(root);\n",
       "      } else {\n",
       "        attempts++;\n",
       "        if (attempts > 100) {\n",
       "          clearInterval(timer);\n",
       "          console.log(\"Bokeh: ERROR: Unable to run BokehJS code because BokehJS library is missing\");\n",
       "        }\n",
       "      }\n",
       "    }, 10, root)\n",
       "  }\n",
       "})(window);"
      ],
      "application/vnd.bokehjs_exec.v0+json": ""
     },
     "metadata": {
      "application/vnd.bokehjs_exec.v0+json": {
       "id": "5957"
      }
     },
     "output_type": "display_data"
    }
   ],
   "source": [
    "p = bokeh.plotting.figure(width = 450, height = 350, title = 'Effect of Different Temperatures on ATP Curves',\n",
    "                          x_axis_label = 'time (sec)',\n",
    "                          y_axis_label = 'concentration (nM)')\n",
    "p.line(timepoints, results_25[ATP_id_25], color = palette[0], line_width = 2, legend_label = '25')\n",
    "p.line(timepoints, results_37[ATP_id_37], color = palette[1], line_width = 2, legend_label = '37')\n",
    "p.line(timepoints, results_100[ATP_id_100], color = palette[2], line_width = 2, legend_label = '100')\n",
    "p.line(timepoints, results_original[ATP_id_orig], color = palette[3], line_width = 2, legend_label = 'original')\n",
    "p.legend.location = 'bottom_right'\n",
    "\n",
    "p.legend.click_policy = 'hide'\n",
    "bokeh.io.show(p)"
   ]
  },
  {
   "cell_type": "code",
   "execution_count": null,
   "metadata": {},
   "outputs": [],
   "source": []
  },
  {
   "cell_type": "code",
   "execution_count": null,
   "metadata": {},
   "outputs": [],
   "source": []
  }
 ],
 "metadata": {
  "kernelspec": {
   "display_name": "Python 3",
   "language": "python",
   "name": "python3"
  },
  "language_info": {
   "codemirror_mode": {
    "name": "ipython",
    "version": 3
   },
   "file_extension": ".py",
   "mimetype": "text/x-python",
   "name": "python",
   "nbconvert_exporter": "python",
   "pygments_lexer": "ipython3",
   "version": "3.7.7"
  }
 },
 "nbformat": 4,
 "nbformat_minor": 4
}
