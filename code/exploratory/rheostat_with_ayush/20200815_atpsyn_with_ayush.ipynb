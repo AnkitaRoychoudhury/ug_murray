{
 "cells": [
  {
   "cell_type": "markdown",
   "metadata": {},
   "source": [
    "# ATP Synthase with transcription temperature regulation\n",
    "---"
   ]
  },
  {
   "cell_type": "code",
   "execution_count": 2,
   "metadata": {},
   "outputs": [
    {
     "data": {
      "text/html": [
       "\n",
       "    <div class=\"bk-root\">\n",
       "        <a href=\"https://bokeh.org\" target=\"_blank\" class=\"bk-logo bk-logo-small bk-logo-notebook\"></a>\n",
       "        <span id=\"1001\">Loading BokehJS ...</span>\n",
       "    </div>"
      ]
     },
     "metadata": {},
     "output_type": "display_data"
    },
    {
     "data": {
      "application/javascript": [
       "\n",
       "(function(root) {\n",
       "  function now() {\n",
       "    return new Date();\n",
       "  }\n",
       "\n",
       "  var force = true;\n",
       "\n",
       "  if (typeof root._bokeh_onload_callbacks === \"undefined\" || force === true) {\n",
       "    root._bokeh_onload_callbacks = [];\n",
       "    root._bokeh_is_loading = undefined;\n",
       "  }\n",
       "\n",
       "  var JS_MIME_TYPE = 'application/javascript';\n",
       "  var HTML_MIME_TYPE = 'text/html';\n",
       "  var EXEC_MIME_TYPE = 'application/vnd.bokehjs_exec.v0+json';\n",
       "  var CLASS_NAME = 'output_bokeh rendered_html';\n",
       "\n",
       "  /**\n",
       "   * Render data to the DOM node\n",
       "   */\n",
       "  function render(props, node) {\n",
       "    var script = document.createElement(\"script\");\n",
       "    node.appendChild(script);\n",
       "  }\n",
       "\n",
       "  /**\n",
       "   * Handle when an output is cleared or removed\n",
       "   */\n",
       "  function handleClearOutput(event, handle) {\n",
       "    var cell = handle.cell;\n",
       "\n",
       "    var id = cell.output_area._bokeh_element_id;\n",
       "    var server_id = cell.output_area._bokeh_server_id;\n",
       "    // Clean up Bokeh references\n",
       "    if (id != null && id in Bokeh.index) {\n",
       "      Bokeh.index[id].model.document.clear();\n",
       "      delete Bokeh.index[id];\n",
       "    }\n",
       "\n",
       "    if (server_id !== undefined) {\n",
       "      // Clean up Bokeh references\n",
       "      var cmd = \"from bokeh.io.state import curstate; print(curstate().uuid_to_server['\" + server_id + \"'].get_sessions()[0].document.roots[0]._id)\";\n",
       "      cell.notebook.kernel.execute(cmd, {\n",
       "        iopub: {\n",
       "          output: function(msg) {\n",
       "            var id = msg.content.text.trim();\n",
       "            if (id in Bokeh.index) {\n",
       "              Bokeh.index[id].model.document.clear();\n",
       "              delete Bokeh.index[id];\n",
       "            }\n",
       "          }\n",
       "        }\n",
       "      });\n",
       "      // Destroy server and session\n",
       "      var cmd = \"import bokeh.io.notebook as ion; ion.destroy_server('\" + server_id + \"')\";\n",
       "      cell.notebook.kernel.execute(cmd);\n",
       "    }\n",
       "  }\n",
       "\n",
       "  /**\n",
       "   * Handle when a new output is added\n",
       "   */\n",
       "  function handleAddOutput(event, handle) {\n",
       "    var output_area = handle.output_area;\n",
       "    var output = handle.output;\n",
       "\n",
       "    // limit handleAddOutput to display_data with EXEC_MIME_TYPE content only\n",
       "    if ((output.output_type != \"display_data\") || (!output.data.hasOwnProperty(EXEC_MIME_TYPE))) {\n",
       "      return\n",
       "    }\n",
       "\n",
       "    var toinsert = output_area.element.find(\".\" + CLASS_NAME.split(' ')[0]);\n",
       "\n",
       "    if (output.metadata[EXEC_MIME_TYPE][\"id\"] !== undefined) {\n",
       "      toinsert[toinsert.length - 1].firstChild.textContent = output.data[JS_MIME_TYPE];\n",
       "      // store reference to embed id on output_area\n",
       "      output_area._bokeh_element_id = output.metadata[EXEC_MIME_TYPE][\"id\"];\n",
       "    }\n",
       "    if (output.metadata[EXEC_MIME_TYPE][\"server_id\"] !== undefined) {\n",
       "      var bk_div = document.createElement(\"div\");\n",
       "      bk_div.innerHTML = output.data[HTML_MIME_TYPE];\n",
       "      var script_attrs = bk_div.children[0].attributes;\n",
       "      for (var i = 0; i < script_attrs.length; i++) {\n",
       "        toinsert[toinsert.length - 1].firstChild.setAttribute(script_attrs[i].name, script_attrs[i].value);\n",
       "      }\n",
       "      // store reference to server id on output_area\n",
       "      output_area._bokeh_server_id = output.metadata[EXEC_MIME_TYPE][\"server_id\"];\n",
       "    }\n",
       "  }\n",
       "\n",
       "  function register_renderer(events, OutputArea) {\n",
       "\n",
       "    function append_mime(data, metadata, element) {\n",
       "      // create a DOM node to render to\n",
       "      var toinsert = this.create_output_subarea(\n",
       "        metadata,\n",
       "        CLASS_NAME,\n",
       "        EXEC_MIME_TYPE\n",
       "      );\n",
       "      this.keyboard_manager.register_events(toinsert);\n",
       "      // Render to node\n",
       "      var props = {data: data, metadata: metadata[EXEC_MIME_TYPE]};\n",
       "      render(props, toinsert[toinsert.length - 1]);\n",
       "      element.append(toinsert);\n",
       "      return toinsert\n",
       "    }\n",
       "\n",
       "    /* Handle when an output is cleared or removed */\n",
       "    events.on('clear_output.CodeCell', handleClearOutput);\n",
       "    events.on('delete.Cell', handleClearOutput);\n",
       "\n",
       "    /* Handle when a new output is added */\n",
       "    events.on('output_added.OutputArea', handleAddOutput);\n",
       "\n",
       "    /**\n",
       "     * Register the mime type and append_mime function with output_area\n",
       "     */\n",
       "    OutputArea.prototype.register_mime_type(EXEC_MIME_TYPE, append_mime, {\n",
       "      /* Is output safe? */\n",
       "      safe: true,\n",
       "      /* Index of renderer in `output_area.display_order` */\n",
       "      index: 0\n",
       "    });\n",
       "  }\n",
       "\n",
       "  // register the mime type if in Jupyter Notebook environment and previously unregistered\n",
       "  if (root.Jupyter !== undefined) {\n",
       "    var events = require('base/js/events');\n",
       "    var OutputArea = require('notebook/js/outputarea').OutputArea;\n",
       "\n",
       "    if (OutputArea.prototype.mime_types().indexOf(EXEC_MIME_TYPE) == -1) {\n",
       "      register_renderer(events, OutputArea);\n",
       "    }\n",
       "  }\n",
       "\n",
       "  \n",
       "  if (typeof (root._bokeh_timeout) === \"undefined\" || force === true) {\n",
       "    root._bokeh_timeout = Date.now() + 5000;\n",
       "    root._bokeh_failed_load = false;\n",
       "  }\n",
       "\n",
       "  var NB_LOAD_WARNING = {'data': {'text/html':\n",
       "     \"<div style='background-color: #fdd'>\\n\"+\n",
       "     \"<p>\\n\"+\n",
       "     \"BokehJS does not appear to have successfully loaded. If loading BokehJS from CDN, this \\n\"+\n",
       "     \"may be due to a slow or bad network connection. Possible fixes:\\n\"+\n",
       "     \"</p>\\n\"+\n",
       "     \"<ul>\\n\"+\n",
       "     \"<li>re-rerun `output_notebook()` to attempt to load from CDN again, or</li>\\n\"+\n",
       "     \"<li>use INLINE resources instead, as so:</li>\\n\"+\n",
       "     \"</ul>\\n\"+\n",
       "     \"<code>\\n\"+\n",
       "     \"from bokeh.resources import INLINE\\n\"+\n",
       "     \"output_notebook(resources=INLINE)\\n\"+\n",
       "     \"</code>\\n\"+\n",
       "     \"</div>\"}};\n",
       "\n",
       "  function display_loaded() {\n",
       "    var el = document.getElementById(\"1001\");\n",
       "    if (el != null) {\n",
       "      el.textContent = \"BokehJS is loading...\";\n",
       "    }\n",
       "    if (root.Bokeh !== undefined) {\n",
       "      if (el != null) {\n",
       "        el.textContent = \"BokehJS \" + root.Bokeh.version + \" successfully loaded.\";\n",
       "      }\n",
       "    } else if (Date.now() < root._bokeh_timeout) {\n",
       "      setTimeout(display_loaded, 100)\n",
       "    }\n",
       "  }\n",
       "\n",
       "\n",
       "  function run_callbacks() {\n",
       "    try {\n",
       "      root._bokeh_onload_callbacks.forEach(function(callback) {\n",
       "        if (callback != null)\n",
       "          callback();\n",
       "      });\n",
       "    } finally {\n",
       "      delete root._bokeh_onload_callbacks\n",
       "    }\n",
       "    console.debug(\"Bokeh: all callbacks have finished\");\n",
       "  }\n",
       "\n",
       "  function load_libs(css_urls, js_urls, callback) {\n",
       "    if (css_urls == null) css_urls = [];\n",
       "    if (js_urls == null) js_urls = [];\n",
       "\n",
       "    root._bokeh_onload_callbacks.push(callback);\n",
       "    if (root._bokeh_is_loading > 0) {\n",
       "      console.debug(\"Bokeh: BokehJS is being loaded, scheduling callback at\", now());\n",
       "      return null;\n",
       "    }\n",
       "    if (js_urls == null || js_urls.length === 0) {\n",
       "      run_callbacks();\n",
       "      return null;\n",
       "    }\n",
       "    console.debug(\"Bokeh: BokehJS not loaded, scheduling load and callback at\", now());\n",
       "    root._bokeh_is_loading = css_urls.length + js_urls.length;\n",
       "\n",
       "    function on_load() {\n",
       "      root._bokeh_is_loading--;\n",
       "      if (root._bokeh_is_loading === 0) {\n",
       "        console.debug(\"Bokeh: all BokehJS libraries/stylesheets loaded\");\n",
       "        run_callbacks()\n",
       "      }\n",
       "    }\n",
       "\n",
       "    function on_error() {\n",
       "      console.error(\"failed to load \" + url);\n",
       "    }\n",
       "\n",
       "    for (var i = 0; i < css_urls.length; i++) {\n",
       "      var url = css_urls[i];\n",
       "      const element = document.createElement(\"link\");\n",
       "      element.onload = on_load;\n",
       "      element.onerror = on_error;\n",
       "      element.rel = \"stylesheet\";\n",
       "      element.type = \"text/css\";\n",
       "      element.href = url;\n",
       "      console.debug(\"Bokeh: injecting link tag for BokehJS stylesheet: \", url);\n",
       "      document.body.appendChild(element);\n",
       "    }\n",
       "\n",
       "    for (var i = 0; i < js_urls.length; i++) {\n",
       "      var url = js_urls[i];\n",
       "      var element = document.createElement('script');\n",
       "      element.onload = on_load;\n",
       "      element.onerror = on_error;\n",
       "      element.async = false;\n",
       "      element.src = url;\n",
       "      console.debug(\"Bokeh: injecting script tag for BokehJS library: \", url);\n",
       "      document.head.appendChild(element);\n",
       "    }\n",
       "  };var element = document.getElementById(\"1001\");\n",
       "  if (element == null) {\n",
       "    console.error(\"Bokeh: ERROR: autoload.js configured with elementid '1001' but no matching script tag was found. \")\n",
       "    return false;\n",
       "  }\n",
       "\n",
       "  function inject_raw_css(css) {\n",
       "    const element = document.createElement(\"style\");\n",
       "    element.appendChild(document.createTextNode(css));\n",
       "    document.body.appendChild(element);\n",
       "  }\n",
       "\n",
       "  \n",
       "  var js_urls = [\"https://cdn.pydata.org/bokeh/release/bokeh-1.4.0.min.js\", \"https://cdn.pydata.org/bokeh/release/bokeh-widgets-1.4.0.min.js\", \"https://cdn.pydata.org/bokeh/release/bokeh-tables-1.4.0.min.js\", \"https://cdn.pydata.org/bokeh/release/bokeh-gl-1.4.0.min.js\"];\n",
       "  var css_urls = [];\n",
       "  \n",
       "\n",
       "  var inline_js = [\n",
       "    function(Bokeh) {\n",
       "      Bokeh.set_log_level(\"info\");\n",
       "    },\n",
       "    function(Bokeh) {\n",
       "    \n",
       "    \n",
       "    }\n",
       "  ];\n",
       "\n",
       "  function run_inline_js() {\n",
       "    \n",
       "    if (root.Bokeh !== undefined || force === true) {\n",
       "      \n",
       "    for (var i = 0; i < inline_js.length; i++) {\n",
       "      inline_js[i].call(root, root.Bokeh);\n",
       "    }\n",
       "    if (force === true) {\n",
       "        display_loaded();\n",
       "      }} else if (Date.now() < root._bokeh_timeout) {\n",
       "      setTimeout(run_inline_js, 100);\n",
       "    } else if (!root._bokeh_failed_load) {\n",
       "      console.log(\"Bokeh: BokehJS failed to load within specified timeout.\");\n",
       "      root._bokeh_failed_load = true;\n",
       "    } else if (force !== true) {\n",
       "      var cell = $(document.getElementById(\"1001\")).parents('.cell').data().cell;\n",
       "      cell.output_area.append_execute_result(NB_LOAD_WARNING)\n",
       "    }\n",
       "\n",
       "  }\n",
       "\n",
       "  if (root._bokeh_is_loading === 0) {\n",
       "    console.debug(\"Bokeh: BokehJS loaded, going straight to plotting\");\n",
       "    run_inline_js();\n",
       "  } else {\n",
       "    load_libs(css_urls, js_urls, function() {\n",
       "      console.debug(\"Bokeh: BokehJS plotting callback run at\", now());\n",
       "      run_inline_js();\n",
       "    });\n",
       "  }\n",
       "}(window));"
      ],
      "application/vnd.bokehjs_load.v0+json": "\n(function(root) {\n  function now() {\n    return new Date();\n  }\n\n  var force = true;\n\n  if (typeof root._bokeh_onload_callbacks === \"undefined\" || force === true) {\n    root._bokeh_onload_callbacks = [];\n    root._bokeh_is_loading = undefined;\n  }\n\n  \n\n  \n  if (typeof (root._bokeh_timeout) === \"undefined\" || force === true) {\n    root._bokeh_timeout = Date.now() + 5000;\n    root._bokeh_failed_load = false;\n  }\n\n  var NB_LOAD_WARNING = {'data': {'text/html':\n     \"<div style='background-color: #fdd'>\\n\"+\n     \"<p>\\n\"+\n     \"BokehJS does not appear to have successfully loaded. If loading BokehJS from CDN, this \\n\"+\n     \"may be due to a slow or bad network connection. Possible fixes:\\n\"+\n     \"</p>\\n\"+\n     \"<ul>\\n\"+\n     \"<li>re-rerun `output_notebook()` to attempt to load from CDN again, or</li>\\n\"+\n     \"<li>use INLINE resources instead, as so:</li>\\n\"+\n     \"</ul>\\n\"+\n     \"<code>\\n\"+\n     \"from bokeh.resources import INLINE\\n\"+\n     \"output_notebook(resources=INLINE)\\n\"+\n     \"</code>\\n\"+\n     \"</div>\"}};\n\n  function display_loaded() {\n    var el = document.getElementById(\"1001\");\n    if (el != null) {\n      el.textContent = \"BokehJS is loading...\";\n    }\n    if (root.Bokeh !== undefined) {\n      if (el != null) {\n        el.textContent = \"BokehJS \" + root.Bokeh.version + \" successfully loaded.\";\n      }\n    } else if (Date.now() < root._bokeh_timeout) {\n      setTimeout(display_loaded, 100)\n    }\n  }\n\n\n  function run_callbacks() {\n    try {\n      root._bokeh_onload_callbacks.forEach(function(callback) {\n        if (callback != null)\n          callback();\n      });\n    } finally {\n      delete root._bokeh_onload_callbacks\n    }\n    console.debug(\"Bokeh: all callbacks have finished\");\n  }\n\n  function load_libs(css_urls, js_urls, callback) {\n    if (css_urls == null) css_urls = [];\n    if (js_urls == null) js_urls = [];\n\n    root._bokeh_onload_callbacks.push(callback);\n    if (root._bokeh_is_loading > 0) {\n      console.debug(\"Bokeh: BokehJS is being loaded, scheduling callback at\", now());\n      return null;\n    }\n    if (js_urls == null || js_urls.length === 0) {\n      run_callbacks();\n      return null;\n    }\n    console.debug(\"Bokeh: BokehJS not loaded, scheduling load and callback at\", now());\n    root._bokeh_is_loading = css_urls.length + js_urls.length;\n\n    function on_load() {\n      root._bokeh_is_loading--;\n      if (root._bokeh_is_loading === 0) {\n        console.debug(\"Bokeh: all BokehJS libraries/stylesheets loaded\");\n        run_callbacks()\n      }\n    }\n\n    function on_error() {\n      console.error(\"failed to load \" + url);\n    }\n\n    for (var i = 0; i < css_urls.length; i++) {\n      var url = css_urls[i];\n      const element = document.createElement(\"link\");\n      element.onload = on_load;\n      element.onerror = on_error;\n      element.rel = \"stylesheet\";\n      element.type = \"text/css\";\n      element.href = url;\n      console.debug(\"Bokeh: injecting link tag for BokehJS stylesheet: \", url);\n      document.body.appendChild(element);\n    }\n\n    for (var i = 0; i < js_urls.length; i++) {\n      var url = js_urls[i];\n      var element = document.createElement('script');\n      element.onload = on_load;\n      element.onerror = on_error;\n      element.async = false;\n      element.src = url;\n      console.debug(\"Bokeh: injecting script tag for BokehJS library: \", url);\n      document.head.appendChild(element);\n    }\n  };var element = document.getElementById(\"1001\");\n  if (element == null) {\n    console.error(\"Bokeh: ERROR: autoload.js configured with elementid '1001' but no matching script tag was found. \")\n    return false;\n  }\n\n  function inject_raw_css(css) {\n    const element = document.createElement(\"style\");\n    element.appendChild(document.createTextNode(css));\n    document.body.appendChild(element);\n  }\n\n  \n  var js_urls = [\"https://cdn.pydata.org/bokeh/release/bokeh-1.4.0.min.js\", \"https://cdn.pydata.org/bokeh/release/bokeh-widgets-1.4.0.min.js\", \"https://cdn.pydata.org/bokeh/release/bokeh-tables-1.4.0.min.js\", \"https://cdn.pydata.org/bokeh/release/bokeh-gl-1.4.0.min.js\"];\n  var css_urls = [];\n  \n\n  var inline_js = [\n    function(Bokeh) {\n      Bokeh.set_log_level(\"info\");\n    },\n    function(Bokeh) {\n    \n    \n    }\n  ];\n\n  function run_inline_js() {\n    \n    if (root.Bokeh !== undefined || force === true) {\n      \n    for (var i = 0; i < inline_js.length; i++) {\n      inline_js[i].call(root, root.Bokeh);\n    }\n    if (force === true) {\n        display_loaded();\n      }} else if (Date.now() < root._bokeh_timeout) {\n      setTimeout(run_inline_js, 100);\n    } else if (!root._bokeh_failed_load) {\n      console.log(\"Bokeh: BokehJS failed to load within specified timeout.\");\n      root._bokeh_failed_load = true;\n    } else if (force !== true) {\n      var cell = $(document.getElementById(\"1001\")).parents('.cell').data().cell;\n      cell.output_area.append_execute_result(NB_LOAD_WARNING)\n    }\n\n  }\n\n  if (root._bokeh_is_loading === 0) {\n    console.debug(\"Bokeh: BokehJS loaded, going straight to plotting\");\n    run_inline_js();\n  } else {\n    load_libs(css_urls, js_urls, function() {\n      console.debug(\"Bokeh: BokehJS plotting callback run at\", now());\n      run_inline_js();\n    });\n  }\n}(window));"
     },
     "metadata": {},
     "output_type": "display_data"
    }
   ],
   "source": [
    "from biocrnpyler import *\n",
    "#from biocrnpyler.chemical_reaction_network import Species, Reaction, ComplexSpecies, Multimer\n",
    "import numpy as np\n",
    "#import pylab as plt \n",
    "#%matplotlib inline\n",
    "\n",
    "import bokeh.io\n",
    "import bokeh.plotting\n",
    "from bokeh.layouts import row\n",
    "\n",
    "bokeh.io.output_notebook()\n",
    "\n",
    "import colorcet\n",
    "\n",
    "from subsbml import createNewSubsystem, createSubsystem"
   ]
  },
  {
   "cell_type": "code",
   "execution_count": 3,
   "metadata": {},
   "outputs": [],
   "source": [
    "palette = colorcet.b_glasbey_category10\n",
    "palette.remove( '#d62628')"
   ]
  },
  {
   "cell_type": "markdown",
   "metadata": {},
   "source": [
    "## Combine at 25 C\n",
    "---"
   ]
  },
  {
   "cell_type": "code",
   "execution_count": 24,
   "metadata": {},
   "outputs": [],
   "source": [
    "# atp synthase models\n",
    "ss1_atpsyn_txtl = createSubsystem('atpsyn_25temp_machinery_txtl.xml', subsystemName = 'atpsyn_txtl')\n",
    "ss2_atpsyn_mi = createSubsystem('atpsynthase_membrane_integration.xml', subsystemName = 'atpsyn_mi')\n",
    "ss3_atpsynthesis = createSubsystem('atp_synthesis_through_atpsynthase.xml', subsystemName = 'atpsynthesis')\n",
    "ss4_atp_use = createSubsystem('atp_use.xml', subsystemName = 'atp_use')"
   ]
  },
  {
   "cell_type": "code",
   "execution_count": 25,
   "metadata": {},
   "outputs": [],
   "source": [
    "#ss5_pp_txtl = createSubsystem('proton_pump_tx_tl.xml', subsystemName = 'pp_txtl')\n",
    "ss5_pp_txtl = createSubsystem('proton_pump_25temp_machinery_txtl.xml', subsystemName = 'pp_txtl')\n",
    "ss6_pp_mi = createSubsystem('proton_pump_membrane_integration.xml', subsystemName = 'pp_mi')\n",
    "ss7_protontransport = createSubsystem('proton_transport_through_proton_pump.xml', subsystemName = 'protontransport')"
   ]
  },
  {
   "cell_type": "code",
   "execution_count": 26,
   "metadata": {},
   "outputs": [],
   "source": [
    "entire_subsystem = ss1_atpsyn_txtl + ss2_atpsyn_mi + ss3_atpsynthesis + ss4_atp_use + ss5_pp_txtl + ss6_pp_mi + ss7_protontransport"
   ]
  },
  {
   "cell_type": "code",
   "execution_count": 36,
   "metadata": {},
   "outputs": [],
   "source": [
    "# Initial conditions\n",
    "spec_list_10 = ['dna_proton_pump', 'dna_atpsyn','proton_outside_H', 'metabolite_atp','protein_RNAP_machinery', \n",
    "                'protein_Ribo_machinery', 'protein_RNAse_machinery']\n",
    "for i,spec in enumerate(spec_list_10):\n",
    "    entire_subsystem.setSpeciesAmount(spec,10)\n",
    "\n",
    "\n",
    "# timepoints and get results\n",
    "# timepoints = np.linspace(0,10,100)\n",
    "# results, _ = entire_subsystem.simulateWithBioscrape(timepoints, sbml_warnings = False)\n",
    "\n",
    "# Get species IDs\n",
    "ATP_id_25 = entire_subsystem.getSpeciesByName('metabolite_atp').getId()\n",
    "ADP_id = entire_subsystem.getSpeciesByName('metabolite_adp').getId()\n",
    "\n",
    "outside_H_id = entire_subsystem.getSpeciesByName('proton_outside_H').getId()\n",
    "inside_H_id = entire_subsystem.getSpeciesByName('proton_inside_H').getId()\n",
    "\n",
    "proton_pump_b_protein_id = entire_subsystem.getSpeciesByName('protein_proton_pump_b').getId()\n",
    "proton_pump_f_protein_id = entire_subsystem.getSpeciesByName('protein_proton_pump').getId()\n",
    "\n",
    "atp_synthase_b_protein_id = entire_subsystem.getSpeciesByName('protein_atpsyn_b').getId()\n",
    "atp_synthase_f_protein_id = entire_subsystem.getSpeciesByName('protein_atpsyn').getId()\n",
    "\n"
   ]
  },
  {
   "cell_type": "code",
   "execution_count": 37,
   "metadata": {},
   "outputs": [
    {
     "name": "stderr",
     "output_type": "stream",
     "text": [
      "odeint failed with mxstep=500..."
     ]
    }
   ],
   "source": [
    "timepoints = np.linspace(0,31600,100)\n",
    "results_25, _ = entire_subsystem.simulateWithBioscrape(timepoints, sbml_warnings = False)"
   ]
  },
  {
   "cell_type": "code",
   "execution_count": 38,
   "metadata": {},
   "outputs": [
    {
     "data": {
      "text/html": [
       "\n",
       "\n",
       "\n",
       "\n",
       "\n",
       "\n",
       "  <div class=\"bk-root\" id=\"86601165-bce9-4779-a13e-4cdcd392d411\" data-root-id=\"4773\"></div>\n"
      ]
     },
     "metadata": {},
     "output_type": "display_data"
    },
    {
     "data": {
      "application/javascript": [
       "(function(root) {\n",
       "  function embed_document(root) {\n",
       "    \n",
       "  var docs_json = {\"504be8ce-4f0c-4ddf-b4a7-ced54dba79eb\":{\"roots\":{\"references\":[{\"attributes\":{\"below\":[{\"id\":\"4784\",\"type\":\"LinearAxis\"}],\"center\":[{\"id\":\"4788\",\"type\":\"Grid\"},{\"id\":\"4793\",\"type\":\"Grid\"},{\"id\":\"4818\",\"type\":\"Legend\"}],\"left\":[{\"id\":\"4789\",\"type\":\"LinearAxis\"}],\"plot_height\":350,\"plot_width\":450,\"renderers\":[{\"id\":\"4810\",\"type\":\"GlyphRenderer\"},{\"id\":\"4823\",\"type\":\"GlyphRenderer\"},{\"id\":\"4837\",\"type\":\"GlyphRenderer\"},{\"id\":\"4853\",\"type\":\"GlyphRenderer\"},{\"id\":\"4871\",\"type\":\"GlyphRenderer\"}],\"title\":{\"id\":\"4774\",\"type\":\"Title\"},\"toolbar\":{\"id\":\"4800\",\"type\":\"Toolbar\"},\"x_range\":{\"id\":\"4776\",\"type\":\"DataRange1d\"},\"x_scale\":{\"id\":\"4780\",\"type\":\"LinearScale\"},\"y_range\":{\"id\":\"4778\",\"type\":\"DataRange1d\"},\"y_scale\":{\"id\":\"4782\",\"type\":\"LinearScale\"}},\"id\":\"4773\",\"subtype\":\"Figure\",\"type\":\"Plot\"},{\"attributes\":{\"data_source\":{\"id\":\"4807\",\"type\":\"ColumnDataSource\"},\"glyph\":{\"id\":\"4808\",\"type\":\"Line\"},\"hover_glyph\":null,\"muted_glyph\":null,\"nonselection_glyph\":{\"id\":\"4809\",\"type\":\"Line\"},\"selection_glyph\":null,\"view\":{\"id\":\"4811\",\"type\":\"CDSView\"}},\"id\":\"4810\",\"type\":\"GlyphRenderer\"},{\"attributes\":{\"callback\":null,\"data\":{\"x\":{\"__ndarray__\":\"AAAAAAAAAAB2n+/aMj2hP3af79oyPbE/MW9nSMzbuT92n+/aMj3BP1SHq5F/jMU/MW9nSMzbyT8PVyP/GCvOP3af79oyPdE/ZZNNNtlk0z9Uh6uRf4zVP0N7Ce0ltNc/MW9nSMzb2T8gY8WjcgPcPw9XI/8YK94/f6VArV8p4D92n+/aMj3hP26ZnggGUeI/ZZNNNtlk4z9djfxjrHjkP1SHq5F/jOU/TIFav1Kg5j9DewntJbTnPzt1uBr5x+g/MW9nSMzb6T8paRZ2n+/qPyBjxaNyA+w/F1100UUX7T8PVyP/GCvuPwZR0izsPu8/f6VArV8p8D97IhhESbPwP3af79oyPfE/chzHcRzH8T9umZ4IBlHyP2oWdp/v2vI/ZZNNNtlk8z9hECXNwu7zP12N/GOsePQ/WQrU+pUC9T9Uh6uRf4z1P1AEgyhpFvY/TIFav1Kg9j9H/jFWPCr3P0N7Ce0ltPc/P/jggw8++D87dbga+cf4Pzbyj7HiUfk/MW9nSMzb+T8t7D7ftWX6PylpFnaf7/o/JObtDIl5+z8gY8WjcgP8PxzgnDpcjfw/F1100UUX/T8T2ktoL6H9Pw9XI/8YK/4/C9T6lQK1/j8GUdIs7D7/PwLOqcPVyP8/f6VArV8pAED9Y6x4VG4AQHsiGERJswBA+eCDDz74AEB2n+/aMj0BQPRdW6YnggFAchzHcRzHAUDw2jI9EQwCQG6ZnggGUQJA7FcK1PqVAkBqFnaf79oCQOfU4WrkHwNAZZNNNtlkA0DjUbkBzqkDQGEQJc3C7gNA386QmLczBEBdjfxjrHgEQNtLaC+hvQRAWQrU+pUCBUDWyD/GikcFQFSHq5F/jAVA0kUXXXTRBUBQBIMoaRYGQM7C7vNdWwZATIFav1KgBkDKP8aKR+UGQEf+MVY8KgdAxbydITFvB0BDewntJbQHQME5dbga+QdAP/jggw8+CEC9tkxPBIMIQDt1uBr5xwhAuTMk5u0MCUA28o+x4lEJQLSw+3zXlglAMW9nSMzbCUCvLdMTwSAKQC3sPt+1ZQpAq6qqqqqqCkA=\",\"dtype\":\"float64\",\"shape\":[100]},\"y\":{\"__ndarray__\":\"AAAAAAAAJEBuAKUKPwkjQMh+Un2qAyNA0KpCLzkCI0DVlW7fpwEjQNjoYIFgASNA40OPHjcBI0BiE3vlGwEjQLHlln8IASNAX2em7/kAI0A3WTSZ7gAjQKs3E4jlACNADi15Id4AI0ACi/X91wAjQEgShtXSACNArQhGdM4AI0Bfms2zygAjQCJa/3bHACNAJgRUp8QAI0D6ECMzwgAjQKdaPQzAACNAZQE4J74AI0APNLh6vAAjQNp6Av+6ACNA87+jrbkAI0Dwhy+BuAAjQB/9DXW3ACNAl65ThbYAI0Cf/qSutQAjQP8oHu60ACNAbOE5QbQAI0ClgsmlswAjQDZT5xmzACNAVlDkm7IAI0B6jEgqsgAjQPDyx8OxACNA//89Z7EAI0CJMqITsQAjQGUkD8iwACNAFda2g7AAI0BQCeBFsAAjQELP5w2wACNAmic6268AI0BGBlOtrwAjQK0bvIOvACNASgELXq8AI0ACEOA7rwAjQAE05RyvACNAdVLNAK8AI0AJW1DnrgAjQCIcMtCuACNAsAU4u64AI0A4xy6orgAjQNXu55auACNAbGo5h64AI0CTJv14rgAjQAivEGyuACNAY9JUYK4AI0BBUK1VrgAjQCqQAEyuACNAPmA3Q64AI0Aiujw7rgAjQAeO/TOuACNAuZJoLa4AI0CaGm4nrgAjQKrs/yGuACNAiCERHa4AI0CbA5YYrgAjQHPygxSuACNA7EjREK4AI0C2RXUNrgAjQM71ZwquACNAcyKiB64AI0BUPx0FrgAjQKBS0wKuACNAnPK+AK4AI0C4XNv+rQAjQIThI/2tACNAxayU+60AI0Bk4Sn6rQAjQA5G4PitACNABMm0960AI0BkqqT2rQAjQIxprfWtACNAzb/M9K0AI0CnnQD0rQAjQNIgR/OtACNAQJee8q0AI0DddAXyrQAjQARAevGtACNAGvv78K0AI0CfLojwrQAjQJJ1IvCtACNAp+jB760AI0A9mGrvrQAjQKfHHe+tACNA+SzV7q0AI0BG95burQAjQHOsWe6tACNAGEQm7q0AI0A=\",\"dtype\":\"float64\",\"shape\":[100]}},\"selected\":{\"id\":\"4847\",\"type\":\"Selection\"},\"selection_policy\":{\"id\":\"4848\",\"type\":\"UnionRenderers\"}},\"id\":\"4820\",\"type\":\"ColumnDataSource\"},{\"attributes\":{\"source\":{\"id\":\"4807\",\"type\":\"ColumnDataSource\"}},\"id\":\"4811\",\"type\":\"CDSView\"},{\"attributes\":{},\"id\":\"4813\",\"type\":\"BasicTickFormatter\"},{\"attributes\":{\"line_color\":\"#2ba02b\",\"line_width\":2,\"x\":{\"field\":\"x\"},\"y\":{\"field\":\"y\"}},\"id\":\"4835\",\"type\":\"Line\"},{\"attributes\":{\"click_policy\":\"hide\",\"items\":[{\"id\":\"4819\",\"type\":\"LegendItem\"},{\"id\":\"4833\",\"type\":\"LegendItem\"},{\"id\":\"4849\",\"type\":\"LegendItem\"},{\"id\":\"4867\",\"type\":\"LegendItem\"},{\"id\":\"4887\",\"type\":\"LegendItem\"}],\"location\":\"center_right\"},\"id\":\"4818\",\"type\":\"Legend\"},{\"attributes\":{\"callback\":null,\"data\":{\"x\":{\"__ndarray__\":\"AAAAAAAAAAB2n+/aMj2hP3af79oyPbE/MW9nSMzbuT92n+/aMj3BP1SHq5F/jMU/MW9nSMzbyT8PVyP/GCvOP3af79oyPdE/ZZNNNtlk0z9Uh6uRf4zVP0N7Ce0ltNc/MW9nSMzb2T8gY8WjcgPcPw9XI/8YK94/f6VArV8p4D92n+/aMj3hP26ZnggGUeI/ZZNNNtlk4z9djfxjrHjkP1SHq5F/jOU/TIFav1Kg5j9DewntJbTnPzt1uBr5x+g/MW9nSMzb6T8paRZ2n+/qPyBjxaNyA+w/F1100UUX7T8PVyP/GCvuPwZR0izsPu8/f6VArV8p8D97IhhESbPwP3af79oyPfE/chzHcRzH8T9umZ4IBlHyP2oWdp/v2vI/ZZNNNtlk8z9hECXNwu7zP12N/GOsePQ/WQrU+pUC9T9Uh6uRf4z1P1AEgyhpFvY/TIFav1Kg9j9H/jFWPCr3P0N7Ce0ltPc/P/jggw8++D87dbga+cf4Pzbyj7HiUfk/MW9nSMzb+T8t7D7ftWX6PylpFnaf7/o/JObtDIl5+z8gY8WjcgP8PxzgnDpcjfw/F1100UUX/T8T2ktoL6H9Pw9XI/8YK/4/C9T6lQK1/j8GUdIs7D7/PwLOqcPVyP8/f6VArV8pAED9Y6x4VG4AQHsiGERJswBA+eCDDz74AEB2n+/aMj0BQPRdW6YnggFAchzHcRzHAUDw2jI9EQwCQG6ZnggGUQJA7FcK1PqVAkBqFnaf79oCQOfU4WrkHwNAZZNNNtlkA0DjUbkBzqkDQGEQJc3C7gNA386QmLczBEBdjfxjrHgEQNtLaC+hvQRAWQrU+pUCBUDWyD/GikcFQFSHq5F/jAVA0kUXXXTRBUBQBIMoaRYGQM7C7vNdWwZATIFav1KgBkDKP8aKR+UGQEf+MVY8KgdAxbydITFvB0BDewntJbQHQME5dbga+QdAP/jggw8+CEC9tkxPBIMIQDt1uBr5xwhAuTMk5u0MCUA28o+x4lEJQLSw+3zXlglAMW9nSMzbCUCvLdMTwSAKQC3sPt+1ZQpAq6qqqqqqCkA=\",\"dtype\":\"float64\",\"shape\":[100]},\"y\":{\"__ndarray__\":\"AAAAAAAAJECVyzqp7EYjQKegHZOmtiNAx4j+qIXTI0Cd1VdY4d4jQAwCfT515CNALNfsNLHnI0CycanK0ekjQDaggtNV6yNA7B+UHnnsI0A+GPrnW+0jQFHzqUQR7iNAbRhCTaXuI0A+bAkXIO8jQKr2gkKH7yNAjUm33d7vI0AK4eroKfAjQEl1gqpq8CNAqmAd5aLwI0CSgP350/AjQL1V0QT/8CNAMj796STxI0AUW59kRvEjQDaVYQ9k8SNAHj9Fa37xI0BT5sbklfEjQFeyxdeq8SNAeg2okr3xI0BSQphYzvEjQPuVY2Pd8SNAY3pz5erxI0DZzG0K9/EjQJ4fSfgB8iNA2O6u0AvyI0BAV/+wFPIjQPv6LLMc8iNABGEf7iPyI0ClQWB2KvIjQAoD8l0w8iNAM4fttDXyI0Bb0sSJOvIjQKEiO+k+8iNAt1/c3kLyI0CpM/l0RvIjQHt60LRJ8iNAGUCypkzyI0CxvxdST/IjQDrVur1R8iNAKTqk71PyI0DV/2ntVfIjQIi1z7tX8iNAFWFgX1nyI0D7BR/cWvIjQMM4rTVc8iNAuWBUb13yI0ClCg6MXvIjQERWi45f8iNA6yk8eWDyI0A7llVOYfIjQIqM1w9i8iNAgPmRv2LyI0DhYilfY/IjQLUKG/Bj8iNAU67Ac2TyI0D24lPrZPIjQPQg8Vdl8iNAEICaumXyI0C0MzoUZvIjQOTHpGVm8iNAUCabr2byI0AIbMzyZvIjQL2X1y9n8iNAn/JMZ2fyI0AXda+ZZ/IjQBqldsdn8iNAIMUO8WfyI0AIE9cWaPIjQNovLTlo8iNAmdNdWGjyI0COG7Z0aPIjQCindo5o8iNA38XcpWjyI0AYfR+7aPIjQBfacM5o8iNAIl/+32jyI0CtSvHvaPIjQE8/b/5o8iNAATWaC2nyI0CCIJEXafIjQDIWcSJp8iNAtrJPLGnyI0B3I1Y1afIjQNZ8WT1p8iNAH+3ZRGnyI0AHe6VLafIjQFkTr1Fp8iNAY3dSV2nyI0CQSD5cafIjQOQT+GBp8iNAYCMJZWnyI0A=\",\"dtype\":\"float64\",\"shape\":[100]}},\"selected\":{\"id\":\"4831\",\"type\":\"Selection\"},\"selection_policy\":{\"id\":\"4832\",\"type\":\"UnionRenderers\"}},\"id\":\"4807\",\"type\":\"ColumnDataSource\"},{\"attributes\":{},\"id\":\"5068\",\"type\":\"Selection\"},{\"attributes\":{},\"id\":\"4785\",\"type\":\"BasicTicker\"},{\"attributes\":{},\"id\":\"4848\",\"type\":\"UnionRenderers\"},{\"attributes\":{\"callback\":null},\"id\":\"4778\",\"type\":\"DataRange1d\"},{\"attributes\":{\"source\":{\"id\":\"4820\",\"type\":\"ColumnDataSource\"}},\"id\":\"4824\",\"type\":\"CDSView\"},{\"attributes\":{},\"id\":\"5069\",\"type\":\"UnionRenderers\"},{\"attributes\":{\"ticker\":{\"id\":\"4785\",\"type\":\"BasicTicker\"}},\"id\":\"4788\",\"type\":\"Grid\"},{\"attributes\":{\"callback\":null,\"data\":{\"x\":{\"__ndarray__\":\"AAAAAAAAAAB2n+/aMj2hP3af79oyPbE/MW9nSMzbuT92n+/aMj3BP1SHq5F/jMU/MW9nSMzbyT8PVyP/GCvOP3af79oyPdE/ZZNNNtlk0z9Uh6uRf4zVP0N7Ce0ltNc/MW9nSMzb2T8gY8WjcgPcPw9XI/8YK94/f6VArV8p4D92n+/aMj3hP26ZnggGUeI/ZZNNNtlk4z9djfxjrHjkP1SHq5F/jOU/TIFav1Kg5j9DewntJbTnPzt1uBr5x+g/MW9nSMzb6T8paRZ2n+/qPyBjxaNyA+w/F1100UUX7T8PVyP/GCvuPwZR0izsPu8/f6VArV8p8D97IhhESbPwP3af79oyPfE/chzHcRzH8T9umZ4IBlHyP2oWdp/v2vI/ZZNNNtlk8z9hECXNwu7zP12N/GOsePQ/WQrU+pUC9T9Uh6uRf4z1P1AEgyhpFvY/TIFav1Kg9j9H/jFWPCr3P0N7Ce0ltPc/P/jggw8++D87dbga+cf4Pzbyj7HiUfk/MW9nSMzb+T8t7D7ftWX6PylpFnaf7/o/JObtDIl5+z8gY8WjcgP8PxzgnDpcjfw/F1100UUX/T8T2ktoL6H9Pw9XI/8YK/4/C9T6lQK1/j8GUdIs7D7/PwLOqcPVyP8/f6VArV8pAED9Y6x4VG4AQHsiGERJswBA+eCDDz74AEB2n+/aMj0BQPRdW6YnggFAchzHcRzHAUDw2jI9EQwCQG6ZnggGUQJA7FcK1PqVAkBqFnaf79oCQOfU4WrkHwNAZZNNNtlkA0DjUbkBzqkDQGEQJc3C7gNA386QmLczBEBdjfxjrHgEQNtLaC+hvQRAWQrU+pUCBUDWyD/GikcFQFSHq5F/jAVA0kUXXXTRBUBQBIMoaRYGQM7C7vNdWwZATIFav1KgBkDKP8aKR+UGQEf+MVY8KgdAxbydITFvB0BDewntJbQHQME5dbga+QdAP/jggw8+CEC9tkxPBIMIQDt1uBr5xwhAuTMk5u0MCUA28o+x4lEJQLSw+3zXlglAMW9nSMzbCUCvLdMTwSAKQC3sPt+1ZQpAq6qqqqqqCkA=\",\"dtype\":\"float64\",\"shape\":[100]},\"y\":{\"__ndarray__\":\"AAAAAAAAAADgGoyVB83YP9UBlnriNARAez9DMWGkG0CjK6URHvwoQMq+cAPhFTJAVPSHwdo7N0D5O5I8mOo7QJXjjXcDFkBA4d0/oQEFQkBtloCVzcZDQHx0aQaHX0VASgv+3u3SRkDANfCLaiRIQJy9kNoVV0lA2MUQNsBtSkDK4WJB+GpLQHNlfNgQUUxAhw4nhSYiTUAWioF1JOBNQJY5XP3IjE5AIbV0rqkpT0DWTCoSN7hPQJXjJQXgHFBAzeMdcrpXUEDhLuERNY1QQDrcTobNvVBAXB1n+PXpUEBpd3IkFhJRQEpEuU2MNlFAIwHyG65XUUDP9XRkyXVRQLn6yuAkkVFAJA9x1gCqUUDTXNGql8BRQAvg6W4e1VFAVbo9W8XnUUClAA5BuPhRQMuxRPEeCFJAB2QFmh0WUkC0/48b1SJSQMatuFVjLlJADMPubeM4UkABzPAObkJSQGmQ4aIZS1JA1x1FiPpSUkAdYvhAI1pSQGSueZ6kYFJA+Q8J6Y1mUkCMGpsD7WtSQLyEnozOcFJAksh6+z11UkB0toW7RXlSQETJhUTvfFJAEzPvMEOAUkBAaBVSSYNSQL1Ui8IIhlJA3yjV9oeIUkAQLY7MzIpSQAhYNZjcjFJAkzytMbyOUkBpDqP/b5BSQMOc3gH8kVJANRGu2mOTUkA/NWnXqpRSQFHiOPjTlVJAfQMe9+GWUkC2Ll5O15dSQB3kUz62mFJAJRC50oCZUkB/tnPnOJpSQD9x8yzgmlJAAAktLHibUkDzPzJKApxSQAMfect/nFJA9AjX1vGcUkBubDV4WZ1SQE5EB6O3nVJAjOuENA2eUkDHE7L1Wp5SQDyyN52hnlJAELAQ0eGeUkC9nA8oHJ9SQOT1QCtRn1JAtZcuV4GfUkDxUgMdrZ9SQMvVk+PUn1JAJJJQCPmfUkAy1CHgGaBSQCk9L7g3oFJAHJ6U1lKgUkAsKgZ7a6BSQHu2Z9+BoFJA1YNUOJagUkB/RJu1qKBSQODAqoK5oFJAD9b6xsigUkDl6Gem1qBSQHMbiEHjoFJAmWj5te6gUkA=\",\"dtype\":\"float64\",\"shape\":[100]}},\"selected\":{\"id\":\"4885\",\"type\":\"Selection\"},\"selection_policy\":{\"id\":\"4886\",\"type\":\"UnionRenderers\"}},\"id\":\"4850\",\"type\":\"ColumnDataSource\"},{\"attributes\":{},\"id\":\"4866\",\"type\":\"UnionRenderers\"},{\"attributes\":{\"dimension\":1,\"ticker\":{\"id\":\"4790\",\"type\":\"BasicTicker\"}},\"id\":\"4793\",\"type\":\"Grid\"},{\"attributes\":{},\"id\":\"4790\",\"type\":\"BasicTicker\"},{\"attributes\":{\"line_alpha\":0.1,\"line_color\":\"#1f77b4\",\"line_width\":2,\"x\":{\"field\":\"x\"},\"y\":{\"field\":\"y\"}},\"id\":\"4822\",\"type\":\"Line\"},{\"attributes\":{\"axis_label\":\"concentration (nM)\",\"formatter\":{\"id\":\"4813\",\"type\":\"BasicTickFormatter\"},\"ticker\":{\"id\":\"4790\",\"type\":\"BasicTicker\"}},\"id\":\"4789\",\"type\":\"LinearAxis\"},{\"attributes\":{},\"id\":\"4815\",\"type\":\"BasicTickFormatter\"},{\"attributes\":{\"bottom_units\":\"screen\",\"fill_alpha\":{\"value\":0.5},\"fill_color\":{\"value\":\"lightgrey\"},\"left_units\":\"screen\",\"level\":\"overlay\",\"line_alpha\":{\"value\":1.0},\"line_color\":{\"value\":\"black\"},\"line_dash\":[4,4],\"line_width\":{\"value\":2},\"render_mode\":\"css\",\"right_units\":\"screen\",\"top_units\":\"screen\"},\"id\":\"4817\",\"type\":\"BoxAnnotation\"},{\"attributes\":{\"data_source\":{\"id\":\"4850\",\"type\":\"ColumnDataSource\"},\"glyph\":{\"id\":\"4851\",\"type\":\"Line\"},\"hover_glyph\":null,\"muted_glyph\":null,\"nonselection_glyph\":{\"id\":\"4852\",\"type\":\"Line\"},\"selection_glyph\":null,\"view\":{\"id\":\"4854\",\"type\":\"CDSView\"}},\"id\":\"4853\",\"type\":\"GlyphRenderer\"},{\"attributes\":{\"label\":{\"value\":\"bound atp synthase\"},\"renderers\":[{\"id\":\"4853\",\"type\":\"GlyphRenderer\"}]},\"id\":\"4867\",\"type\":\"LegendItem\"},{\"attributes\":{\"line_alpha\":0.1,\"line_color\":\"#1f77b4\",\"line_width\":2,\"x\":{\"field\":\"x\"},\"y\":{\"field\":\"y\"}},\"id\":\"4809\",\"type\":\"Line\"},{\"attributes\":{\"label\":{\"value\":\"atp\"},\"renderers\":[{\"id\":\"4810\",\"type\":\"GlyphRenderer\"}]},\"id\":\"4819\",\"type\":\"LegendItem\"},{\"attributes\":{\"text\":\"with ATP Synthase, Proton Pump, ATP Use\"},\"id\":\"4774\",\"type\":\"Title\"},{\"attributes\":{\"line_alpha\":0.1,\"line_color\":\"#1f77b4\",\"line_width\":2,\"x\":{\"field\":\"x\"},\"y\":{\"field\":\"y\"}},\"id\":\"4836\",\"type\":\"Line\"},{\"attributes\":{},\"id\":\"4865\",\"type\":\"Selection\"},{\"attributes\":{\"active_drag\":\"auto\",\"active_inspect\":\"auto\",\"active_multi\":null,\"active_scroll\":\"auto\",\"active_tap\":\"auto\",\"tools\":[{\"id\":\"4794\",\"type\":\"PanTool\"},{\"id\":\"4795\",\"type\":\"WheelZoomTool\"},{\"id\":\"4796\",\"type\":\"BoxZoomTool\"},{\"id\":\"4797\",\"type\":\"SaveTool\"},{\"id\":\"4798\",\"type\":\"ResetTool\"},{\"id\":\"4799\",\"type\":\"HelpTool\"}]},\"id\":\"4800\",\"type\":\"Toolbar\"},{\"attributes\":{\"line_alpha\":0.1,\"line_color\":\"#1f77b4\",\"line_width\":2,\"x\":{\"field\":\"x\"},\"y\":{\"field\":\"y\"}},\"id\":\"4852\",\"type\":\"Line\"},{\"attributes\":{\"line_color\":\"#8c564b\",\"line_width\":2,\"x\":{\"field\":\"x\"},\"y\":{\"field\":\"y\"}},\"id\":\"4869\",\"type\":\"Line\"},{\"attributes\":{\"data_source\":{\"id\":\"4834\",\"type\":\"ColumnDataSource\"},\"glyph\":{\"id\":\"4835\",\"type\":\"Line\"},\"hover_glyph\":null,\"muted_glyph\":null,\"nonselection_glyph\":{\"id\":\"4836\",\"type\":\"Line\"},\"selection_glyph\":null,\"view\":{\"id\":\"4838\",\"type\":\"CDSView\"}},\"id\":\"4837\",\"type\":\"GlyphRenderer\"},{\"attributes\":{\"callback\":null,\"data\":{\"x\":{\"__ndarray__\":\"AAAAAAAAAAB2n+/aMj2hP3af79oyPbE/MW9nSMzbuT92n+/aMj3BP1SHq5F/jMU/MW9nSMzbyT8PVyP/GCvOP3af79oyPdE/ZZNNNtlk0z9Uh6uRf4zVP0N7Ce0ltNc/MW9nSMzb2T8gY8WjcgPcPw9XI/8YK94/f6VArV8p4D92n+/aMj3hP26ZnggGUeI/ZZNNNtlk4z9djfxjrHjkP1SHq5F/jOU/TIFav1Kg5j9DewntJbTnPzt1uBr5x+g/MW9nSMzb6T8paRZ2n+/qPyBjxaNyA+w/F1100UUX7T8PVyP/GCvuPwZR0izsPu8/f6VArV8p8D97IhhESbPwP3af79oyPfE/chzHcRzH8T9umZ4IBlHyP2oWdp/v2vI/ZZNNNtlk8z9hECXNwu7zP12N/GOsePQ/WQrU+pUC9T9Uh6uRf4z1P1AEgyhpFvY/TIFav1Kg9j9H/jFWPCr3P0N7Ce0ltPc/P/jggw8++D87dbga+cf4Pzbyj7HiUfk/MW9nSMzb+T8t7D7ftWX6PylpFnaf7/o/JObtDIl5+z8gY8WjcgP8PxzgnDpcjfw/F1100UUX/T8T2ktoL6H9Pw9XI/8YK/4/C9T6lQK1/j8GUdIs7D7/PwLOqcPVyP8/f6VArV8pAED9Y6x4VG4AQHsiGERJswBA+eCDDz74AEB2n+/aMj0BQPRdW6YnggFAchzHcRzHAUDw2jI9EQwCQG6ZnggGUQJA7FcK1PqVAkBqFnaf79oCQOfU4WrkHwNAZZNNNtlkA0DjUbkBzqkDQGEQJc3C7gNA386QmLczBEBdjfxjrHgEQNtLaC+hvQRAWQrU+pUCBUDWyD/GikcFQFSHq5F/jAVA0kUXXXTRBUBQBIMoaRYGQM7C7vNdWwZATIFav1KgBkDKP8aKR+UGQEf+MVY8KgdAxbydITFvB0BDewntJbQHQME5dbga+QdAP/jggw8+CEC9tkxPBIMIQDt1uBr5xwhAuTMk5u0MCUA28o+x4lEJQLSw+3zXlglAMW9nSMzbCUCvLdMTwSAKQC3sPt+1ZQpAq6qqqqqqCkA=\",\"dtype\":\"float64\",\"shape\":[100]},\"y\":{\"__ndarray__\":\"AAAAAAAAAACN0Y+VB83YP3cEl3riNARA6QFEMWGkG0C5qqURHvwoQPYLcQPhFTJA5k2Iwdo7N0DNoJI8mOo7QCQbjncDFkBAJBpAoQEFQkAA14CVzcZDQPa4aQaHX0VAUFP+3u3SRkAAgfCLaiRIQMoLkdoVV0lAsBYRNsBtSkANNWNB+GpLQOm6fNgQUUxA/WUnhSYiTUBc44F1JOBNQIOUXP3IjE5AjBF1rqkpT0CfqioSN7hPQBgTJgXgHFBA4BMecrpXUEB3X+ERNY1QQEcNT4bNvVBA1U5n+PXpUEBDqXIkFhJRQH12uU2MNlFAqDPyG65XUUCeKHVkyXVRQMoty+AkkVFAcEJx1gCqUUBWkNGql8BRQMET6m4e1VFAOe49W8XnUUC0NA5BuPhRQP/lRPEeCFJAXJgFmh0WUkApNJAb1SJSQFjiuFVjLlJAt/fubeM4UkDEAPEObkJSQEHF4aIZS1JAwlJFiPpSUkAal/hAI1pSQHLjeZ6kYFJAFEUJ6Y1mUkC1T5sD7WtSQPC5nozOcFJA0f16+z11UkC964W7RXlSQJb+hUTvfFJAbWjvMEOAUkCinRVSSYNSQCaKi8IIhlJATl7V9oeIUkCEYo7MzIpSQIGNNZjcjFJAEHKtMbyOUkDqQ6P/b5BSQEnS3gH8kVJAvkau2mOTUkDLamnXqpRSQOAXOfjTlVJADjke9+GWUkBIZF5O15dSQLEZVD62mFJAu0W50oCZUkAW7HPnOJpSQNem8yzgmlJAmj4tLHibUkCNdTJKApxSQJ9Uect/nFJAkD7X1vGcUkAMojV4WZ1SQO15B6O3nVJALSGFNA2eUkBpSbL1Wp5SQN7nN52hnlJAsuUQ0eGeUkBg0g8oHJ9SQIgrQStRn1JAWc0uV4GfUkCWiAMdrZ9SQHALlOPUn1JAycdQCPmfUkDXCSLgGaBSQM5yL7g3oFJAwdOU1lKgUkDRXwZ7a6BSQCDsZ9+BoFJAerlUOJagUkAkepu1qKBSQIT2qoK5oFJAtAv7xsigUkCKHmim1qBSQBhRiEHjoFJAPp75te6gUkA=\",\"dtype\":\"float64\",\"shape\":[100]}},\"selected\":{\"id\":\"5068\",\"type\":\"Selection\"},\"selection_policy\":{\"id\":\"5069\",\"type\":\"UnionRenderers\"}},\"id\":\"4868\",\"type\":\"ColumnDataSource\"},{\"attributes\":{},\"id\":\"4794\",\"type\":\"PanTool\"},{\"attributes\":{\"line_color\":\"#ff7e0e\",\"line_width\":2,\"x\":{\"field\":\"x\"},\"y\":{\"field\":\"y\"}},\"id\":\"4821\",\"type\":\"Line\"},{\"attributes\":{\"callback\":null,\"data\":{\"x\":{\"__ndarray__\":\"AAAAAAAAAAB2n+/aMj2hP3af79oyPbE/MW9nSMzbuT92n+/aMj3BP1SHq5F/jMU/MW9nSMzbyT8PVyP/GCvOP3af79oyPdE/ZZNNNtlk0z9Uh6uRf4zVP0N7Ce0ltNc/MW9nSMzb2T8gY8WjcgPcPw9XI/8YK94/f6VArV8p4D92n+/aMj3hP26ZnggGUeI/ZZNNNtlk4z9djfxjrHjkP1SHq5F/jOU/TIFav1Kg5j9DewntJbTnPzt1uBr5x+g/MW9nSMzb6T8paRZ2n+/qPyBjxaNyA+w/F1100UUX7T8PVyP/GCvuPwZR0izsPu8/f6VArV8p8D97IhhESbPwP3af79oyPfE/chzHcRzH8T9umZ4IBlHyP2oWdp/v2vI/ZZNNNtlk8z9hECXNwu7zP12N/GOsePQ/WQrU+pUC9T9Uh6uRf4z1P1AEgyhpFvY/TIFav1Kg9j9H/jFWPCr3P0N7Ce0ltPc/P/jggw8++D87dbga+cf4Pzbyj7HiUfk/MW9nSMzb+T8t7D7ftWX6PylpFnaf7/o/JObtDIl5+z8gY8WjcgP8PxzgnDpcjfw/F1100UUX/T8T2ktoL6H9Pw9XI/8YK/4/C9T6lQK1/j8GUdIs7D7/PwLOqcPVyP8/f6VArV8pAED9Y6x4VG4AQHsiGERJswBA+eCDDz74AEB2n+/aMj0BQPRdW6YnggFAchzHcRzHAUDw2jI9EQwCQG6ZnggGUQJA7FcK1PqVAkBqFnaf79oCQOfU4WrkHwNAZZNNNtlkA0DjUbkBzqkDQGEQJc3C7gNA386QmLczBEBdjfxjrHgEQNtLaC+hvQRAWQrU+pUCBUDWyD/GikcFQFSHq5F/jAVA0kUXXXTRBUBQBIMoaRYGQM7C7vNdWwZATIFav1KgBkDKP8aKR+UGQEf+MVY8KgdAxbydITFvB0BDewntJbQHQME5dbga+QdAP/jggw8+CEC9tkxPBIMIQDt1uBr5xwhAuTMk5u0MCUA28o+x4lEJQLSw+3zXlglAMW9nSMzbCUCvLdMTwSAKQC3sPt+1ZQpAq6qqqqqqCkA=\",\"dtype\":\"float64\",\"shape\":[100]},\"y\":{\"__ndarray__\":\"AAAAAAAAAACl9F+rHtjePxEqsFWwit8/PamqF9q43z/iSC0SBMvfP/ro4tPv098/NIgXLhzZ3z8PmJ1Qg9zfPw5OIw3w3t8/TRgzC8Lg3z9v3XTZLOLfP9gOmf1O498/yWLa0Dvk3z/to05BAOXfP0e7PU+l5d8/mO4+dzHm3z9VuEyGqebfP92/FCAR598/VH9/FWvn3z+U5J2bueffPyGvVHj+598/b9f/GDvo3z8RgvmocOjfP8iosB+g6N8/dAWIS8ro3z/cBQ/a7+jfPxNgQF4R6d8/CTGKVS/p3z8SMGArSunfPxnkOjxi6d8/gtbD2Hfp3z9Sr89Gi+nfPwmdFcOc6d8/M/l1g6zp3z+ndO62uunfP8elAYfH6d8//gNAGNPp3z+9srmL3enfP0h3G/7m6d8/G0Elie/p3z/A2f5D9+nfP54bBkP+6d8/sRC7mATq3z8kO59VCurfPz2OfIgP6t8/nNqfPhTq3z+cA/6DGOrfP8mDWWMc6t8/YrVV5h/q3z/+ovQVI+rfP9N/vPkl6t8/L07/mCjq3z8VHSf6KurfP3MpAiMt6t8/lrbSGC/q3z+7MVvgMOrfPwYj6n0y6t8/pLdl9TPq3z/l+1VKNerfP8T+7X826t8/LPwTmTfq3z+3v2iYOOrfPyVDToA56t8/2KztUjrq3z+lsDwSO+rfP3JuAsA76t8/utLbXTzq3z9jkD/tPOrfP2a1gW896t8/LubW5T3q3z/oTFdRPurfP+RJAbM+6t8/XrW7Cz/q3z9IGVhcP+rfP7CvlaU/6t8/L7Ah6D/q3z+TbJQkQOrfPxLTg1tA6t8/IGtqjUDq3z9D18O6QOrfP/NB9+NA6t8/EONmCUHq3z8Yt2orQerfPzTSUkpB6t8/EgpoZkHq3z+5Tux/QerfP1PpG5dB6t8/nxstrEHq3z/3Z1G/QerfPx8DuNBB6t8/UaCA4EHq3z+1L/ruQerfP1lRsftB6t8/lu7CB0Lq3z/c+6wSQurfP5IORxxC6t8/MGRaJULq3z+MGiEtQurfP/N0yjRC6t8/RoA3O0Lq3z8=\",\"dtype\":\"float64\",\"shape\":[100]}},\"selected\":{\"id\":\"4865\",\"type\":\"Selection\"},\"selection_policy\":{\"id\":\"4866\",\"type\":\"UnionRenderers\"}},\"id\":\"4834\",\"type\":\"ColumnDataSource\"},{\"attributes\":{\"line_alpha\":0.1,\"line_color\":\"#1f77b4\",\"line_width\":2,\"x\":{\"field\":\"x\"},\"y\":{\"field\":\"y\"}},\"id\":\"4870\",\"type\":\"Line\"},{\"attributes\":{\"data_source\":{\"id\":\"4820\",\"type\":\"ColumnDataSource\"},\"glyph\":{\"id\":\"4821\",\"type\":\"Line\"},\"hover_glyph\":null,\"muted_glyph\":null,\"nonselection_glyph\":{\"id\":\"4822\",\"type\":\"Line\"},\"selection_glyph\":null,\"view\":{\"id\":\"4824\",\"type\":\"CDSView\"}},\"id\":\"4823\",\"type\":\"GlyphRenderer\"},{\"attributes\":{},\"id\":\"4780\",\"type\":\"LinearScale\"},{\"attributes\":{},\"id\":\"4832\",\"type\":\"UnionRenderers\"},{\"attributes\":{\"data_source\":{\"id\":\"4868\",\"type\":\"ColumnDataSource\"},\"glyph\":{\"id\":\"4869\",\"type\":\"Line\"},\"hover_glyph\":null,\"muted_glyph\":null,\"nonselection_glyph\":{\"id\":\"4870\",\"type\":\"Line\"},\"selection_glyph\":null,\"view\":{\"id\":\"4872\",\"type\":\"CDSView\"}},\"id\":\"4871\",\"type\":\"GlyphRenderer\"},{\"attributes\":{},\"id\":\"4795\",\"type\":\"WheelZoomTool\"},{\"attributes\":{\"source\":{\"id\":\"4834\",\"type\":\"ColumnDataSource\"}},\"id\":\"4838\",\"type\":\"CDSView\"},{\"attributes\":{\"overlay\":{\"id\":\"4817\",\"type\":\"BoxAnnotation\"}},\"id\":\"4796\",\"type\":\"BoxZoomTool\"},{\"attributes\":{\"label\":{\"value\":\"outside_H\"},\"renderers\":[{\"id\":\"4823\",\"type\":\"GlyphRenderer\"}]},\"id\":\"4833\",\"type\":\"LegendItem\"},{\"attributes\":{\"source\":{\"id\":\"4868\",\"type\":\"ColumnDataSource\"}},\"id\":\"4872\",\"type\":\"CDSView\"},{\"attributes\":{},\"id\":\"4831\",\"type\":\"Selection\"},{\"attributes\":{},\"id\":\"4797\",\"type\":\"SaveTool\"},{\"attributes\":{\"line_color\":\"#1f77b3\",\"line_width\":2,\"x\":{\"field\":\"x\"},\"y\":{\"field\":\"y\"}},\"id\":\"4808\",\"type\":\"Line\"},{\"attributes\":{\"line_color\":\"#9367bc\",\"line_width\":2,\"x\":{\"field\":\"x\"},\"y\":{\"field\":\"y\"}},\"id\":\"4851\",\"type\":\"Line\"},{\"attributes\":{},\"id\":\"4885\",\"type\":\"Selection\"},{\"attributes\":{},\"id\":\"4798\",\"type\":\"ResetTool\"},{\"attributes\":{\"label\":{\"value\":\"bound proton pump\"},\"renderers\":[{\"id\":\"4871\",\"type\":\"GlyphRenderer\"}]},\"id\":\"4887\",\"type\":\"LegendItem\"},{\"attributes\":{},\"id\":\"4847\",\"type\":\"Selection\"},{\"attributes\":{\"callback\":null},\"id\":\"4776\",\"type\":\"DataRange1d\"},{\"attributes\":{\"source\":{\"id\":\"4850\",\"type\":\"ColumnDataSource\"}},\"id\":\"4854\",\"type\":\"CDSView\"},{\"attributes\":{},\"id\":\"4886\",\"type\":\"UnionRenderers\"},{\"attributes\":{},\"id\":\"4782\",\"type\":\"LinearScale\"},{\"attributes\":{\"axis_label\":\"time (sec)\",\"formatter\":{\"id\":\"4815\",\"type\":\"BasicTickFormatter\"},\"ticker\":{\"id\":\"4785\",\"type\":\"BasicTicker\"}},\"id\":\"4784\",\"type\":\"LinearAxis\"},{\"attributes\":{\"label\":{\"value\":\"inside_H\"},\"renderers\":[{\"id\":\"4837\",\"type\":\"GlyphRenderer\"}]},\"id\":\"4849\",\"type\":\"LegendItem\"},{\"attributes\":{},\"id\":\"4799\",\"type\":\"HelpTool\"}],\"root_ids\":[\"4773\"]},\"title\":\"Bokeh Application\",\"version\":\"1.4.0\"}};\n",
       "  var render_items = [{\"docid\":\"504be8ce-4f0c-4ddf-b4a7-ced54dba79eb\",\"roots\":{\"4773\":\"86601165-bce9-4779-a13e-4cdcd392d411\"}}];\n",
       "  root.Bokeh.embed.embed_items_notebook(docs_json, render_items);\n",
       "\n",
       "  }\n",
       "  if (root.Bokeh !== undefined) {\n",
       "    embed_document(root);\n",
       "  } else {\n",
       "    var attempts = 0;\n",
       "    var timer = setInterval(function(root) {\n",
       "      if (root.Bokeh !== undefined) {\n",
       "        clearInterval(timer);\n",
       "        embed_document(root);\n",
       "      } else {\n",
       "        attempts++;\n",
       "        if (attempts > 100) {\n",
       "          clearInterval(timer);\n",
       "          console.log(\"Bokeh: ERROR: Unable to run BokehJS code because BokehJS library is missing\");\n",
       "        }\n",
       "      }\n",
       "    }, 10, root)\n",
       "  }\n",
       "})(window);"
      ],
      "application/vnd.bokehjs_exec.v0+json": ""
     },
     "metadata": {
      "application/vnd.bokehjs_exec.v0+json": {
       "id": "4773"
      }
     },
     "output_type": "display_data"
    }
   ],
   "source": [
    "#plt_timepoints = timepoints/60\n",
    "\n",
    "p3 = bokeh.plotting.figure(width = 450, height = 350, title = 'with ATP Synthase, Proton Pump, ATP Use',\n",
    "                          x_axis_label = 'time (sec)',\n",
    "                          y_axis_label = 'concentration (nM)')\n",
    "plot_list = [ATP_id_25, outside_H_id, inside_H_id, atp_synthase_b_protein_id, proton_pump_b_protein_id]\n",
    "plot_str = ['atp', 'outside_H', 'inside_H', 'bound atp synthase', 'bound proton pump']\n",
    "for i,item in enumerate(plot_list):\n",
    "    p3.line(plt_timepoints, results_25[item], line_width = 2, legend_label = plot_str[i], color = palette[i])\n",
    "#p3.line(plt_timepoints, results_everything[ATP_id3])\n",
    "p3.legend.click_policy = 'hide'\n",
    "p3.legend.location = 'center_right'\n",
    "\n",
    "bokeh.io.show(p3)\n"
   ]
  },
  {
   "cell_type": "markdown",
   "metadata": {},
   "source": [
    "## Combine at 37 C\n",
    "---"
   ]
  },
  {
   "cell_type": "code",
   "execution_count": 39,
   "metadata": {},
   "outputs": [],
   "source": [
    "# atp synthase models\n",
    "ss1_atpsyn_txtl = createSubsystem('atpsyn_37temp_machinery_txtl.xml', subsystemName = 'atpsyn_txtl')\n",
    "ss2_atpsyn_mi = createSubsystem('atpsynthase_membrane_integration.xml', subsystemName = 'atpsyn_mi')\n",
    "ss3_atpsynthesis = createSubsystem('atp_synthesis_through_atpsynthase.xml', subsystemName = 'atpsynthesis')\n",
    "ss4_atp_use = createSubsystem('atp_use.xml', subsystemName = 'atp_use')"
   ]
  },
  {
   "cell_type": "code",
   "execution_count": 40,
   "metadata": {},
   "outputs": [],
   "source": [
    "#ss5_pp_txtl = createSubsystem('proton_pump_tx_tl.xml', subsystemName = 'pp_txtl')\n",
    "ss5_pp_txtl = createSubsystem('proton_pump_37temp_machinery_txtl.xml', subsystemName = 'pp_txtl')\n",
    "ss6_pp_mi = createSubsystem('proton_pump_membrane_integration.xml', subsystemName = 'pp_mi')\n",
    "ss7_protontransport = createSubsystem('proton_transport_through_proton_pump.xml', subsystemName = 'protontransport')"
   ]
  },
  {
   "cell_type": "code",
   "execution_count": 41,
   "metadata": {},
   "outputs": [],
   "source": [
    "entire_subsystem = ss1_atpsyn_txtl + ss2_atpsyn_mi + ss3_atpsynthesis + ss4_atp_use + ss5_pp_txtl + ss6_pp_mi + ss7_protontransport"
   ]
  },
  {
   "cell_type": "code",
   "execution_count": 43,
   "metadata": {},
   "outputs": [],
   "source": [
    "# Initial conditions\n",
    "spec_list_10 = ['dna_proton_pump', 'dna_atpsyn','proton_outside_H', 'metabolite_atp','protein_RNAP_machinery', \n",
    "                'protein_Ribo_machinery', 'protein_RNAse_machinery']\n",
    "for i,spec in enumerate(spec_list_10):\n",
    "    entire_subsystem.setSpeciesAmount(spec,10)\n",
    "\n",
    "\n",
    "# timepoints and get results\n",
    "# timepoints = np.linspace(0,10,100)\n",
    "# results, _ = entire_subsystem.simulateWithBioscrape(timepoints, sbml_warnings = False)\n",
    "\n",
    "# Get species IDs\n",
    "ATP_id_37 = entire_subsystem.getSpeciesByName('metabolite_atp').getId()\n",
    "ADP_id = entire_subsystem.getSpeciesByName('metabolite_adp').getId()\n",
    "\n",
    "outside_H_id = entire_subsystem.getSpeciesByName('proton_outside_H').getId()\n",
    "inside_H_id = entire_subsystem.getSpeciesByName('proton_inside_H').getId()\n",
    "\n",
    "proton_pump_b_protein_id = entire_subsystem.getSpeciesByName('protein_proton_pump_b').getId()\n",
    "proton_pump_f_protein_id = entire_subsystem.getSpeciesByName('protein_proton_pump').getId()\n",
    "\n",
    "atp_synthase_b_protein_id = entire_subsystem.getSpeciesByName('protein_atpsyn_b').getId()\n",
    "atp_synthase_f_protein_id = entire_subsystem.getSpeciesByName('protein_atpsyn').getId()"
   ]
  },
  {
   "cell_type": "code",
   "execution_count": 44,
   "metadata": {},
   "outputs": [
    {
     "name": "stderr",
     "output_type": "stream",
     "text": [
      "odeint failed with mxstep=500..."
     ]
    }
   ],
   "source": [
    "timepoints = np.linspace(0,31600,100)\n",
    "results_37, _ = entire_subsystem.simulateWithBioscrape(timepoints, sbml_warnings = False)"
   ]
  },
  {
   "cell_type": "code",
   "execution_count": 45,
   "metadata": {},
   "outputs": [
    {
     "data": {
      "text/html": [
       "\n",
       "\n",
       "\n",
       "\n",
       "\n",
       "\n",
       "  <div class=\"bk-root\" id=\"ad3a6f53-fb4f-4dc7-bdbc-d3ebc79af8f5\" data-root-id=\"5200\"></div>\n"
      ]
     },
     "metadata": {},
     "output_type": "display_data"
    },
    {
     "data": {
      "application/javascript": [
       "(function(root) {\n",
       "  function embed_document(root) {\n",
       "    \n",
       "  var docs_json = {\"8a94ccb8-1060-4829-bb0d-c5dde209f243\":{\"roots\":{\"references\":[{\"attributes\":{\"below\":[{\"id\":\"5211\",\"type\":\"LinearAxis\"}],\"center\":[{\"id\":\"5215\",\"type\":\"Grid\"},{\"id\":\"5220\",\"type\":\"Grid\"},{\"id\":\"5245\",\"type\":\"Legend\"}],\"left\":[{\"id\":\"5216\",\"type\":\"LinearAxis\"}],\"plot_height\":350,\"plot_width\":450,\"renderers\":[{\"id\":\"5237\",\"type\":\"GlyphRenderer\"},{\"id\":\"5250\",\"type\":\"GlyphRenderer\"},{\"id\":\"5264\",\"type\":\"GlyphRenderer\"},{\"id\":\"5280\",\"type\":\"GlyphRenderer\"},{\"id\":\"5298\",\"type\":\"GlyphRenderer\"}],\"title\":{\"id\":\"5201\",\"type\":\"Title\"},\"toolbar\":{\"id\":\"5227\",\"type\":\"Toolbar\"},\"x_range\":{\"id\":\"5203\",\"type\":\"DataRange1d\"},\"x_scale\":{\"id\":\"5207\",\"type\":\"LinearScale\"},\"y_range\":{\"id\":\"5205\",\"type\":\"DataRange1d\"},\"y_scale\":{\"id\":\"5209\",\"type\":\"LinearScale\"}},\"id\":\"5200\",\"subtype\":\"Figure\",\"type\":\"Plot\"},{\"attributes\":{\"callback\":null},\"id\":\"5205\",\"type\":\"DataRange1d\"},{\"attributes\":{\"label\":{\"value\":\"inside_H\"},\"renderers\":[{\"id\":\"5264\",\"type\":\"GlyphRenderer\"}]},\"id\":\"5276\",\"type\":\"LegendItem\"},{\"attributes\":{\"callback\":null,\"data\":{\"x\":{\"__ndarray__\":\"AAAAAAAAAAB2n+/aMj2hP3af79oyPbE/MW9nSMzbuT92n+/aMj3BP1SHq5F/jMU/MW9nSMzbyT8PVyP/GCvOP3af79oyPdE/ZZNNNtlk0z9Uh6uRf4zVP0N7Ce0ltNc/MW9nSMzb2T8gY8WjcgPcPw9XI/8YK94/f6VArV8p4D92n+/aMj3hP26ZnggGUeI/ZZNNNtlk4z9djfxjrHjkP1SHq5F/jOU/TIFav1Kg5j9DewntJbTnPzt1uBr5x+g/MW9nSMzb6T8paRZ2n+/qPyBjxaNyA+w/F1100UUX7T8PVyP/GCvuPwZR0izsPu8/f6VArV8p8D97IhhESbPwP3af79oyPfE/chzHcRzH8T9umZ4IBlHyP2oWdp/v2vI/ZZNNNtlk8z9hECXNwu7zP12N/GOsePQ/WQrU+pUC9T9Uh6uRf4z1P1AEgyhpFvY/TIFav1Kg9j9H/jFWPCr3P0N7Ce0ltPc/P/jggw8++D87dbga+cf4Pzbyj7HiUfk/MW9nSMzb+T8t7D7ftWX6PylpFnaf7/o/JObtDIl5+z8gY8WjcgP8PxzgnDpcjfw/F1100UUX/T8T2ktoL6H9Pw9XI/8YK/4/C9T6lQK1/j8GUdIs7D7/PwLOqcPVyP8/f6VArV8pAED9Y6x4VG4AQHsiGERJswBA+eCDDz74AEB2n+/aMj0BQPRdW6YnggFAchzHcRzHAUDw2jI9EQwCQG6ZnggGUQJA7FcK1PqVAkBqFnaf79oCQOfU4WrkHwNAZZNNNtlkA0DjUbkBzqkDQGEQJc3C7gNA386QmLczBEBdjfxjrHgEQNtLaC+hvQRAWQrU+pUCBUDWyD/GikcFQFSHq5F/jAVA0kUXXXTRBUBQBIMoaRYGQM7C7vNdWwZATIFav1KgBkDKP8aKR+UGQEf+MVY8KgdAxbydITFvB0BDewntJbQHQME5dbga+QdAP/jggw8+CEC9tkxPBIMIQDt1uBr5xwhAuTMk5u0MCUA28o+x4lEJQLSw+3zXlglAMW9nSMzbCUCvLdMTwSAKQC3sPt+1ZQpAq6qqqqqqCkA=\",\"dtype\":\"float64\",\"shape\":[100]},\"y\":{\"__ndarray__\":\"AAAAAAAAJEBuAKUKPwkjQMh+Un2qAyNA0KpCLzkCI0DVlW7fpwEjQNjoYIFgASNA40OPHjcBI0BiE3vlGwEjQLHlln8IASNAX2em7/kAI0A3WTSZ7gAjQKs3E4jlACNADi15Id4AI0ACi/X91wAjQEgShtXSACNArQhGdM4AI0Bfms2zygAjQCJa/3bHACNAJgRUp8QAI0D6ECMzwgAjQKdaPQzAACNAZQE4J74AI0APNLh6vAAjQNp6Av+6ACNA87+jrbkAI0Dwhy+BuAAjQB/9DXW3ACNAl65ThbYAI0Cf/qSutQAjQP8oHu60ACNAbOE5QbQAI0ClgsmlswAjQDZT5xmzACNAVlDkm7IAI0B6jEgqsgAjQPDyx8OxACNA//89Z7EAI0CJMqITsQAjQGUkD8iwACNAFda2g7AAI0BQCeBFsAAjQELP5w2wACNAmic6268AI0BGBlOtrwAjQK0bvIOvACNASgELXq8AI0ACEOA7rwAjQAE05RyvACNAdVLNAK8AI0AJW1DnrgAjQCIcMtCuACNAsAU4u64AI0A4xy6orgAjQNXu55auACNAbGo5h64AI0CTJv14rgAjQAivEGyuACNAY9JUYK4AI0BBUK1VrgAjQCqQAEyuACNAPmA3Q64AI0Aiujw7rgAjQAeO/TOuACNAuZJoLa4AI0CaGm4nrgAjQKrs/yGuACNAiCERHa4AI0CbA5YYrgAjQHPygxSuACNA7EjREK4AI0C2RXUNrgAjQM71ZwquACNAcyKiB64AI0BUPx0FrgAjQKBS0wKuACNAnPK+AK4AI0C4XNv+rQAjQIThI/2tACNAxayU+60AI0Bk4Sn6rQAjQA5G4PitACNABMm0960AI0BkqqT2rQAjQIxprfWtACNAzb/M9K0AI0CnnQD0rQAjQNIgR/OtACNAQJee8q0AI0DddAXyrQAjQARAevGtACNAGvv78K0AI0CfLojwrQAjQJJ1IvCtACNAp+jB760AI0A9mGrvrQAjQKfHHe+tACNA+SzV7q0AI0BG95burQAjQHOsWe6tACNAGEQm7q0AI0A=\",\"dtype\":\"float64\",\"shape\":[100]}},\"selected\":{\"id\":\"5274\",\"type\":\"Selection\"},\"selection_policy\":{\"id\":\"5275\",\"type\":\"UnionRenderers\"}},\"id\":\"5247\",\"type\":\"ColumnDataSource\"},{\"attributes\":{},\"id\":\"5217\",\"type\":\"BasicTicker\"},{\"attributes\":{},\"id\":\"5259\",\"type\":\"UnionRenderers\"},{\"attributes\":{\"data_source\":{\"id\":\"5277\",\"type\":\"ColumnDataSource\"},\"glyph\":{\"id\":\"5278\",\"type\":\"Line\"},\"hover_glyph\":null,\"muted_glyph\":null,\"nonselection_glyph\":{\"id\":\"5279\",\"type\":\"Line\"},\"selection_glyph\":null,\"view\":{\"id\":\"5281\",\"type\":\"CDSView\"}},\"id\":\"5280\",\"type\":\"GlyphRenderer\"},{\"attributes\":{\"source\":{\"id\":\"5261\",\"type\":\"ColumnDataSource\"}},\"id\":\"5265\",\"type\":\"CDSView\"},{\"attributes\":{},\"id\":\"5512\",\"type\":\"UnionRenderers\"},{\"attributes\":{\"data_source\":{\"id\":\"5261\",\"type\":\"ColumnDataSource\"},\"glyph\":{\"id\":\"5262\",\"type\":\"Line\"},\"hover_glyph\":null,\"muted_glyph\":null,\"nonselection_glyph\":{\"id\":\"5263\",\"type\":\"Line\"},\"selection_glyph\":null,\"view\":{\"id\":\"5265\",\"type\":\"CDSView\"}},\"id\":\"5264\",\"type\":\"GlyphRenderer\"},{\"attributes\":{},\"id\":\"5275\",\"type\":\"UnionRenderers\"},{\"attributes\":{\"click_policy\":\"hide\",\"items\":[{\"id\":\"5246\",\"type\":\"LegendItem\"},{\"id\":\"5260\",\"type\":\"LegendItem\"},{\"id\":\"5276\",\"type\":\"LegendItem\"},{\"id\":\"5294\",\"type\":\"LegendItem\"},{\"id\":\"5314\",\"type\":\"LegendItem\"}],\"location\":\"center_right\"},\"id\":\"5245\",\"type\":\"Legend\"},{\"attributes\":{\"line_alpha\":0.1,\"line_color\":\"#1f77b4\",\"line_width\":2,\"x\":{\"field\":\"x\"},\"y\":{\"field\":\"y\"}},\"id\":\"5263\",\"type\":\"Line\"},{\"attributes\":{\"line_color\":\"#ff7e0e\",\"line_width\":2,\"x\":{\"field\":\"x\"},\"y\":{\"field\":\"y\"}},\"id\":\"5248\",\"type\":\"Line\"},{\"attributes\":{},\"id\":\"5225\",\"type\":\"ResetTool\"},{\"attributes\":{\"callback\":null,\"data\":{\"x\":{\"__ndarray__\":\"AAAAAAAAAAB2n+/aMj2hP3af79oyPbE/MW9nSMzbuT92n+/aMj3BP1SHq5F/jMU/MW9nSMzbyT8PVyP/GCvOP3af79oyPdE/ZZNNNtlk0z9Uh6uRf4zVP0N7Ce0ltNc/MW9nSMzb2T8gY8WjcgPcPw9XI/8YK94/f6VArV8p4D92n+/aMj3hP26ZnggGUeI/ZZNNNtlk4z9djfxjrHjkP1SHq5F/jOU/TIFav1Kg5j9DewntJbTnPzt1uBr5x+g/MW9nSMzb6T8paRZ2n+/qPyBjxaNyA+w/F1100UUX7T8PVyP/GCvuPwZR0izsPu8/f6VArV8p8D97IhhESbPwP3af79oyPfE/chzHcRzH8T9umZ4IBlHyP2oWdp/v2vI/ZZNNNtlk8z9hECXNwu7zP12N/GOsePQ/WQrU+pUC9T9Uh6uRf4z1P1AEgyhpFvY/TIFav1Kg9j9H/jFWPCr3P0N7Ce0ltPc/P/jggw8++D87dbga+cf4Pzbyj7HiUfk/MW9nSMzb+T8t7D7ftWX6PylpFnaf7/o/JObtDIl5+z8gY8WjcgP8PxzgnDpcjfw/F1100UUX/T8T2ktoL6H9Pw9XI/8YK/4/C9T6lQK1/j8GUdIs7D7/PwLOqcPVyP8/f6VArV8pAED9Y6x4VG4AQHsiGERJswBA+eCDDz74AEB2n+/aMj0BQPRdW6YnggFAchzHcRzHAUDw2jI9EQwCQG6ZnggGUQJA7FcK1PqVAkBqFnaf79oCQOfU4WrkHwNAZZNNNtlkA0DjUbkBzqkDQGEQJc3C7gNA386QmLczBEBdjfxjrHgEQNtLaC+hvQRAWQrU+pUCBUDWyD/GikcFQFSHq5F/jAVA0kUXXXTRBUBQBIMoaRYGQM7C7vNdWwZATIFav1KgBkDKP8aKR+UGQEf+MVY8KgdAxbydITFvB0BDewntJbQHQME5dbga+QdAP/jggw8+CEC9tkxPBIMIQDt1uBr5xwhAuTMk5u0MCUA28o+x4lEJQLSw+3zXlglAMW9nSMzbCUCvLdMTwSAKQC3sPt+1ZQpAq6qqqqqqCkA=\",\"dtype\":\"float64\",\"shape\":[100]},\"y\":{\"__ndarray__\":\"AAAAAAAAAACN0Y+VB83YP3cEl3riNARA6QFEMWGkG0C5qqURHvwoQPYLcQPhFTJA5k2Iwdo7N0DNoJI8mOo7QCQbjncDFkBAJBpAoQEFQkAA14CVzcZDQPa4aQaHX0VAUFP+3u3SRkAAgfCLaiRIQMoLkdoVV0lAsBYRNsBtSkANNWNB+GpLQOm6fNgQUUxA/WUnhSYiTUBc44F1JOBNQIOUXP3IjE5AjBF1rqkpT0CfqioSN7hPQBgTJgXgHFBA4BMecrpXUEB3X+ERNY1QQEcNT4bNvVBA1U5n+PXpUEBDqXIkFhJRQH12uU2MNlFAqDPyG65XUUCeKHVkyXVRQMoty+AkkVFAcEJx1gCqUUBWkNGql8BRQMET6m4e1VFAOe49W8XnUUC0NA5BuPhRQP/lRPEeCFJAXJgFmh0WUkApNJAb1SJSQFjiuFVjLlJAt/fubeM4UkDEAPEObkJSQEHF4aIZS1JAwlJFiPpSUkAal/hAI1pSQHLjeZ6kYFJAFEUJ6Y1mUkC1T5sD7WtSQPC5nozOcFJA0f16+z11UkC964W7RXlSQJb+hUTvfFJAbWjvMEOAUkCinRVSSYNSQCaKi8IIhlJATl7V9oeIUkCEYo7MzIpSQIGNNZjcjFJAEHKtMbyOUkDqQ6P/b5BSQEnS3gH8kVJAvkau2mOTUkDLamnXqpRSQOAXOfjTlVJADjke9+GWUkBIZF5O15dSQLEZVD62mFJAu0W50oCZUkAW7HPnOJpSQNem8yzgmlJAmj4tLHibUkCNdTJKApxSQJ9Uect/nFJAkD7X1vGcUkAMojV4WZ1SQO15B6O3nVJALSGFNA2eUkBpSbL1Wp5SQN7nN52hnlJAsuUQ0eGeUkBg0g8oHJ9SQIgrQStRn1JAWc0uV4GfUkCWiAMdrZ9SQHALlOPUn1JAycdQCPmfUkDXCSLgGaBSQM5yL7g3oFJAwdOU1lKgUkDRXwZ7a6BSQCDsZ9+BoFJAerlUOJagUkAkepu1qKBSQIT2qoK5oFJAtAv7xsigUkCKHmim1qBSQBhRiEHjoFJAPp75te6gUkA=\",\"dtype\":\"float64\",\"shape\":[100]}},\"selected\":{\"id\":\"5511\",\"type\":\"Selection\"},\"selection_policy\":{\"id\":\"5512\",\"type\":\"UnionRenderers\"}},\"id\":\"5295\",\"type\":\"ColumnDataSource\"},{\"attributes\":{\"active_drag\":\"auto\",\"active_inspect\":\"auto\",\"active_multi\":null,\"active_scroll\":\"auto\",\"active_tap\":\"auto\",\"tools\":[{\"id\":\"5221\",\"type\":\"PanTool\"},{\"id\":\"5222\",\"type\":\"WheelZoomTool\"},{\"id\":\"5223\",\"type\":\"BoxZoomTool\"},{\"id\":\"5224\",\"type\":\"SaveTool\"},{\"id\":\"5225\",\"type\":\"ResetTool\"},{\"id\":\"5226\",\"type\":\"HelpTool\"}]},\"id\":\"5227\",\"type\":\"Toolbar\"},{\"attributes\":{},\"id\":\"5222\",\"type\":\"WheelZoomTool\"},{\"attributes\":{\"line_alpha\":0.1,\"line_color\":\"#1f77b4\",\"line_width\":2,\"x\":{\"field\":\"x\"},\"y\":{\"field\":\"y\"}},\"id\":\"5236\",\"type\":\"Line\"},{\"attributes\":{\"overlay\":{\"id\":\"5244\",\"type\":\"BoxAnnotation\"}},\"id\":\"5223\",\"type\":\"BoxZoomTool\"},{\"attributes\":{\"source\":{\"id\":\"5247\",\"type\":\"ColumnDataSource\"}},\"id\":\"5251\",\"type\":\"CDSView\"},{\"attributes\":{\"source\":{\"id\":\"5234\",\"type\":\"ColumnDataSource\"}},\"id\":\"5238\",\"type\":\"CDSView\"},{\"attributes\":{\"line_color\":\"#1f77b3\",\"line_width\":2,\"x\":{\"field\":\"x\"},\"y\":{\"field\":\"y\"}},\"id\":\"5235\",\"type\":\"Line\"},{\"attributes\":{\"text\":\"with ATP Synthase, Proton Pump, ATP Use\"},\"id\":\"5201\",\"type\":\"Title\"},{\"attributes\":{\"label\":{\"value\":\"atp\"},\"renderers\":[{\"id\":\"5237\",\"type\":\"GlyphRenderer\"}]},\"id\":\"5246\",\"type\":\"LegendItem\"},{\"attributes\":{},\"id\":\"5221\",\"type\":\"PanTool\"},{\"attributes\":{},\"id\":\"5274\",\"type\":\"Selection\"},{\"attributes\":{},\"id\":\"5242\",\"type\":\"BasicTickFormatter\"},{\"attributes\":{\"line_color\":\"#9367bc\",\"line_width\":2,\"x\":{\"field\":\"x\"},\"y\":{\"field\":\"y\"}},\"id\":\"5278\",\"type\":\"Line\"},{\"attributes\":{},\"id\":\"5258\",\"type\":\"Selection\"},{\"attributes\":{\"label\":{\"value\":\"bound atp synthase\"},\"renderers\":[{\"id\":\"5280\",\"type\":\"GlyphRenderer\"}]},\"id\":\"5294\",\"type\":\"LegendItem\"},{\"attributes\":{},\"id\":\"5293\",\"type\":\"UnionRenderers\"},{\"attributes\":{\"label\":{\"value\":\"outside_H\"},\"renderers\":[{\"id\":\"5250\",\"type\":\"GlyphRenderer\"}]},\"id\":\"5260\",\"type\":\"LegendItem\"},{\"attributes\":{\"line_color\":\"#2ba02b\",\"line_width\":2,\"x\":{\"field\":\"x\"},\"y\":{\"field\":\"y\"}},\"id\":\"5262\",\"type\":\"Line\"},{\"attributes\":{},\"id\":\"5226\",\"type\":\"HelpTool\"},{\"attributes\":{\"line_alpha\":0.1,\"line_color\":\"#1f77b4\",\"line_width\":2,\"x\":{\"field\":\"x\"},\"y\":{\"field\":\"y\"}},\"id\":\"5297\",\"type\":\"Line\"},{\"attributes\":{\"line_color\":\"#8c564b\",\"line_width\":2,\"x\":{\"field\":\"x\"},\"y\":{\"field\":\"y\"}},\"id\":\"5296\",\"type\":\"Line\"},{\"attributes\":{},\"id\":\"5511\",\"type\":\"Selection\"},{\"attributes\":{\"axis_label\":\"time (sec)\",\"formatter\":{\"id\":\"5242\",\"type\":\"BasicTickFormatter\"},\"ticker\":{\"id\":\"5212\",\"type\":\"BasicTicker\"}},\"id\":\"5211\",\"type\":\"LinearAxis\"},{\"attributes\":{\"data_source\":{\"id\":\"5295\",\"type\":\"ColumnDataSource\"},\"glyph\":{\"id\":\"5296\",\"type\":\"Line\"},\"hover_glyph\":null,\"muted_glyph\":null,\"nonselection_glyph\":{\"id\":\"5297\",\"type\":\"Line\"},\"selection_glyph\":null,\"view\":{\"id\":\"5299\",\"type\":\"CDSView\"}},\"id\":\"5298\",\"type\":\"GlyphRenderer\"},{\"attributes\":{},\"id\":\"5292\",\"type\":\"Selection\"},{\"attributes\":{\"axis_label\":\"concentration (nM)\",\"formatter\":{\"id\":\"5240\",\"type\":\"BasicTickFormatter\"},\"ticker\":{\"id\":\"5217\",\"type\":\"BasicTicker\"}},\"id\":\"5216\",\"type\":\"LinearAxis\"},{\"attributes\":{\"callback\":null,\"data\":{\"x\":{\"__ndarray__\":\"AAAAAAAAAAB2n+/aMj2hP3af79oyPbE/MW9nSMzbuT92n+/aMj3BP1SHq5F/jMU/MW9nSMzbyT8PVyP/GCvOP3af79oyPdE/ZZNNNtlk0z9Uh6uRf4zVP0N7Ce0ltNc/MW9nSMzb2T8gY8WjcgPcPw9XI/8YK94/f6VArV8p4D92n+/aMj3hP26ZnggGUeI/ZZNNNtlk4z9djfxjrHjkP1SHq5F/jOU/TIFav1Kg5j9DewntJbTnPzt1uBr5x+g/MW9nSMzb6T8paRZ2n+/qPyBjxaNyA+w/F1100UUX7T8PVyP/GCvuPwZR0izsPu8/f6VArV8p8D97IhhESbPwP3af79oyPfE/chzHcRzH8T9umZ4IBlHyP2oWdp/v2vI/ZZNNNtlk8z9hECXNwu7zP12N/GOsePQ/WQrU+pUC9T9Uh6uRf4z1P1AEgyhpFvY/TIFav1Kg9j9H/jFWPCr3P0N7Ce0ltPc/P/jggw8++D87dbga+cf4Pzbyj7HiUfk/MW9nSMzb+T8t7D7ftWX6PylpFnaf7/o/JObtDIl5+z8gY8WjcgP8PxzgnDpcjfw/F1100UUX/T8T2ktoL6H9Pw9XI/8YK/4/C9T6lQK1/j8GUdIs7D7/PwLOqcPVyP8/f6VArV8pAED9Y6x4VG4AQHsiGERJswBA+eCDDz74AEB2n+/aMj0BQPRdW6YnggFAchzHcRzHAUDw2jI9EQwCQG6ZnggGUQJA7FcK1PqVAkBqFnaf79oCQOfU4WrkHwNAZZNNNtlkA0DjUbkBzqkDQGEQJc3C7gNA386QmLczBEBdjfxjrHgEQNtLaC+hvQRAWQrU+pUCBUDWyD/GikcFQFSHq5F/jAVA0kUXXXTRBUBQBIMoaRYGQM7C7vNdWwZATIFav1KgBkDKP8aKR+UGQEf+MVY8KgdAxbydITFvB0BDewntJbQHQME5dbga+QdAP/jggw8+CEC9tkxPBIMIQDt1uBr5xwhAuTMk5u0MCUA28o+x4lEJQLSw+3zXlglAMW9nSMzbCUCvLdMTwSAKQC3sPt+1ZQpAq6qqqqqqCkA=\",\"dtype\":\"float64\",\"shape\":[100]},\"y\":{\"__ndarray__\":\"AAAAAAAAAACl9F+rHtjePxEqsFWwit8/PamqF9q43z/iSC0SBMvfP/ro4tPv098/NIgXLhzZ3z8PmJ1Qg9zfPw5OIw3w3t8/TRgzC8Lg3z9v3XTZLOLfP9gOmf1O498/yWLa0Dvk3z/to05BAOXfP0e7PU+l5d8/mO4+dzHm3z9VuEyGqebfP92/FCAR598/VH9/FWvn3z+U5J2bueffPyGvVHj+598/b9f/GDvo3z8RgvmocOjfP8iosB+g6N8/dAWIS8ro3z/cBQ/a7+jfPxNgQF4R6d8/CTGKVS/p3z8SMGArSunfPxnkOjxi6d8/gtbD2Hfp3z9Sr89Gi+nfPwmdFcOc6d8/M/l1g6zp3z+ndO62uunfP8elAYfH6d8//gNAGNPp3z+9srmL3enfP0h3G/7m6d8/G0Elie/p3z/A2f5D9+nfP54bBkP+6d8/sRC7mATq3z8kO59VCurfPz2OfIgP6t8/nNqfPhTq3z+cA/6DGOrfP8mDWWMc6t8/YrVV5h/q3z/+ovQVI+rfP9N/vPkl6t8/L07/mCjq3z8VHSf6KurfP3MpAiMt6t8/lrbSGC/q3z+7MVvgMOrfPwYj6n0y6t8/pLdl9TPq3z/l+1VKNerfP8T+7X826t8/LPwTmTfq3z+3v2iYOOrfPyVDToA56t8/2KztUjrq3z+lsDwSO+rfP3JuAsA76t8/utLbXTzq3z9jkD/tPOrfP2a1gW896t8/LubW5T3q3z/oTFdRPurfP+RJAbM+6t8/XrW7Cz/q3z9IGVhcP+rfP7CvlaU/6t8/L7Ah6D/q3z+TbJQkQOrfPxLTg1tA6t8/IGtqjUDq3z9D18O6QOrfP/NB9+NA6t8/EONmCUHq3z8Yt2orQerfPzTSUkpB6t8/EgpoZkHq3z+5Tux/QerfP1PpG5dB6t8/nxstrEHq3z/3Z1G/QerfPx8DuNBB6t8/UaCA4EHq3z+1L/ruQerfP1lRsftB6t8/lu7CB0Lq3z/c+6wSQurfP5IORxxC6t8/MGRaJULq3z+MGiEtQurfP/N0yjRC6t8/RoA3O0Lq3z8=\",\"dtype\":\"float64\",\"shape\":[100]}},\"selected\":{\"id\":\"5292\",\"type\":\"Selection\"},\"selection_policy\":{\"id\":\"5293\",\"type\":\"UnionRenderers\"}},\"id\":\"5261\",\"type\":\"ColumnDataSource\"},{\"attributes\":{\"source\":{\"id\":\"5295\",\"type\":\"ColumnDataSource\"}},\"id\":\"5299\",\"type\":\"CDSView\"},{\"attributes\":{\"data_source\":{\"id\":\"5234\",\"type\":\"ColumnDataSource\"},\"glyph\":{\"id\":\"5235\",\"type\":\"Line\"},\"hover_glyph\":null,\"muted_glyph\":null,\"nonselection_glyph\":{\"id\":\"5236\",\"type\":\"Line\"},\"selection_glyph\":null,\"view\":{\"id\":\"5238\",\"type\":\"CDSView\"}},\"id\":\"5237\",\"type\":\"GlyphRenderer\"},{\"attributes\":{},\"id\":\"5312\",\"type\":\"Selection\"},{\"attributes\":{\"callback\":null},\"id\":\"5203\",\"type\":\"DataRange1d\"},{\"attributes\":{},\"id\":\"5209\",\"type\":\"LinearScale\"},{\"attributes\":{},\"id\":\"5240\",\"type\":\"BasicTickFormatter\"},{\"attributes\":{\"line_alpha\":0.1,\"line_color\":\"#1f77b4\",\"line_width\":2,\"x\":{\"field\":\"x\"},\"y\":{\"field\":\"y\"}},\"id\":\"5279\",\"type\":\"Line\"},{\"attributes\":{\"label\":{\"value\":\"bound proton pump\"},\"renderers\":[{\"id\":\"5298\",\"type\":\"GlyphRenderer\"}]},\"id\":\"5314\",\"type\":\"LegendItem\"},{\"attributes\":{\"callback\":null,\"data\":{\"x\":{\"__ndarray__\":\"AAAAAAAAAAB2n+/aMj2hP3af79oyPbE/MW9nSMzbuT92n+/aMj3BP1SHq5F/jMU/MW9nSMzbyT8PVyP/GCvOP3af79oyPdE/ZZNNNtlk0z9Uh6uRf4zVP0N7Ce0ltNc/MW9nSMzb2T8gY8WjcgPcPw9XI/8YK94/f6VArV8p4D92n+/aMj3hP26ZnggGUeI/ZZNNNtlk4z9djfxjrHjkP1SHq5F/jOU/TIFav1Kg5j9DewntJbTnPzt1uBr5x+g/MW9nSMzb6T8paRZ2n+/qPyBjxaNyA+w/F1100UUX7T8PVyP/GCvuPwZR0izsPu8/f6VArV8p8D97IhhESbPwP3af79oyPfE/chzHcRzH8T9umZ4IBlHyP2oWdp/v2vI/ZZNNNtlk8z9hECXNwu7zP12N/GOsePQ/WQrU+pUC9T9Uh6uRf4z1P1AEgyhpFvY/TIFav1Kg9j9H/jFWPCr3P0N7Ce0ltPc/P/jggw8++D87dbga+cf4Pzbyj7HiUfk/MW9nSMzb+T8t7D7ftWX6PylpFnaf7/o/JObtDIl5+z8gY8WjcgP8PxzgnDpcjfw/F1100UUX/T8T2ktoL6H9Pw9XI/8YK/4/C9T6lQK1/j8GUdIs7D7/PwLOqcPVyP8/f6VArV8pAED9Y6x4VG4AQHsiGERJswBA+eCDDz74AEB2n+/aMj0BQPRdW6YnggFAchzHcRzHAUDw2jI9EQwCQG6ZnggGUQJA7FcK1PqVAkBqFnaf79oCQOfU4WrkHwNAZZNNNtlkA0DjUbkBzqkDQGEQJc3C7gNA386QmLczBEBdjfxjrHgEQNtLaC+hvQRAWQrU+pUCBUDWyD/GikcFQFSHq5F/jAVA0kUXXXTRBUBQBIMoaRYGQM7C7vNdWwZATIFav1KgBkDKP8aKR+UGQEf+MVY8KgdAxbydITFvB0BDewntJbQHQME5dbga+QdAP/jggw8+CEC9tkxPBIMIQDt1uBr5xwhAuTMk5u0MCUA28o+x4lEJQLSw+3zXlglAMW9nSMzbCUCvLdMTwSAKQC3sPt+1ZQpAq6qqqqqqCkA=\",\"dtype\":\"float64\",\"shape\":[100]},\"y\":{\"__ndarray__\":\"AAAAAAAAJECVyzqp7EYjQKegHZOmtiNAx4j+qIXTI0Cd1VdY4d4jQAwCfT515CNALNfsNLHnI0CycanK0ekjQDaggtNV6yNA7B+UHnnsI0A+GPrnW+0jQFHzqUQR7iNAbRhCTaXuI0A+bAkXIO8jQKr2gkKH7yNAjUm33d7vI0AK4eroKfAjQEl1gqpq8CNAqmAd5aLwI0CSgP350/AjQL1V0QT/8CNAMj796STxI0AUW59kRvEjQDaVYQ9k8SNAHj9Fa37xI0BT5sbklfEjQFeyxdeq8SNAeg2okr3xI0BSQphYzvEjQPuVY2Pd8SNAY3pz5erxI0DZzG0K9/EjQJ4fSfgB8iNA2O6u0AvyI0BAV/+wFPIjQPv6LLMc8iNABGEf7iPyI0ClQWB2KvIjQAoD8l0w8iNAM4fttDXyI0Bb0sSJOvIjQKEiO+k+8iNAt1/c3kLyI0CpM/l0RvIjQHt60LRJ8iNAGUCypkzyI0CxvxdST/IjQDrVur1R8iNAKTqk71PyI0DV/2ntVfIjQIi1z7tX8iNAFWFgX1nyI0D7BR/cWvIjQMM4rTVc8iNAuWBUb13yI0ClCg6MXvIjQERWi45f8iNA6yk8eWDyI0A7llVOYfIjQIqM1w9i8iNAgPmRv2LyI0DhYilfY/IjQLUKG/Bj8iNAU67Ac2TyI0D24lPrZPIjQPQg8Vdl8iNAEICaumXyI0C0MzoUZvIjQOTHpGVm8iNAUCabr2byI0AIbMzyZvIjQL2X1y9n8iNAn/JMZ2fyI0AXda+ZZ/IjQBqldsdn8iNAIMUO8WfyI0AIE9cWaPIjQNovLTlo8iNAmdNdWGjyI0COG7Z0aPIjQCindo5o8iNA38XcpWjyI0AYfR+7aPIjQBfacM5o8iNAIl/+32jyI0CtSvHvaPIjQE8/b/5o8iNAATWaC2nyI0CCIJEXafIjQDIWcSJp8iNAtrJPLGnyI0B3I1Y1afIjQNZ8WT1p8iNAH+3ZRGnyI0AHe6VLafIjQFkTr1Fp8iNAY3dSV2nyI0CQSD5cafIjQOQT+GBp8iNAYCMJZWnyI0A=\",\"dtype\":\"float64\",\"shape\":[100]}},\"selected\":{\"id\":\"5258\",\"type\":\"Selection\"},\"selection_policy\":{\"id\":\"5259\",\"type\":\"UnionRenderers\"}},\"id\":\"5234\",\"type\":\"ColumnDataSource\"},{\"attributes\":{\"source\":{\"id\":\"5277\",\"type\":\"ColumnDataSource\"}},\"id\":\"5281\",\"type\":\"CDSView\"},{\"attributes\":{\"ticker\":{\"id\":\"5212\",\"type\":\"BasicTicker\"}},\"id\":\"5215\",\"type\":\"Grid\"},{\"attributes\":{\"dimension\":1,\"ticker\":{\"id\":\"5217\",\"type\":\"BasicTicker\"}},\"id\":\"5220\",\"type\":\"Grid\"},{\"attributes\":{},\"id\":\"5224\",\"type\":\"SaveTool\"},{\"attributes\":{},\"id\":\"5313\",\"type\":\"UnionRenderers\"},{\"attributes\":{\"line_alpha\":0.1,\"line_color\":\"#1f77b4\",\"line_width\":2,\"x\":{\"field\":\"x\"},\"y\":{\"field\":\"y\"}},\"id\":\"5249\",\"type\":\"Line\"},{\"attributes\":{},\"id\":\"5207\",\"type\":\"LinearScale\"},{\"attributes\":{\"callback\":null,\"data\":{\"x\":{\"__ndarray__\":\"AAAAAAAAAAB2n+/aMj2hP3af79oyPbE/MW9nSMzbuT92n+/aMj3BP1SHq5F/jMU/MW9nSMzbyT8PVyP/GCvOP3af79oyPdE/ZZNNNtlk0z9Uh6uRf4zVP0N7Ce0ltNc/MW9nSMzb2T8gY8WjcgPcPw9XI/8YK94/f6VArV8p4D92n+/aMj3hP26ZnggGUeI/ZZNNNtlk4z9djfxjrHjkP1SHq5F/jOU/TIFav1Kg5j9DewntJbTnPzt1uBr5x+g/MW9nSMzb6T8paRZ2n+/qPyBjxaNyA+w/F1100UUX7T8PVyP/GCvuPwZR0izsPu8/f6VArV8p8D97IhhESbPwP3af79oyPfE/chzHcRzH8T9umZ4IBlHyP2oWdp/v2vI/ZZNNNtlk8z9hECXNwu7zP12N/GOsePQ/WQrU+pUC9T9Uh6uRf4z1P1AEgyhpFvY/TIFav1Kg9j9H/jFWPCr3P0N7Ce0ltPc/P/jggw8++D87dbga+cf4Pzbyj7HiUfk/MW9nSMzb+T8t7D7ftWX6PylpFnaf7/o/JObtDIl5+z8gY8WjcgP8PxzgnDpcjfw/F1100UUX/T8T2ktoL6H9Pw9XI/8YK/4/C9T6lQK1/j8GUdIs7D7/PwLOqcPVyP8/f6VArV8pAED9Y6x4VG4AQHsiGERJswBA+eCDDz74AEB2n+/aMj0BQPRdW6YnggFAchzHcRzHAUDw2jI9EQwCQG6ZnggGUQJA7FcK1PqVAkBqFnaf79oCQOfU4WrkHwNAZZNNNtlkA0DjUbkBzqkDQGEQJc3C7gNA386QmLczBEBdjfxjrHgEQNtLaC+hvQRAWQrU+pUCBUDWyD/GikcFQFSHq5F/jAVA0kUXXXTRBUBQBIMoaRYGQM7C7vNdWwZATIFav1KgBkDKP8aKR+UGQEf+MVY8KgdAxbydITFvB0BDewntJbQHQME5dbga+QdAP/jggw8+CEC9tkxPBIMIQDt1uBr5xwhAuTMk5u0MCUA28o+x4lEJQLSw+3zXlglAMW9nSMzbCUCvLdMTwSAKQC3sPt+1ZQpAq6qqqqqqCkA=\",\"dtype\":\"float64\",\"shape\":[100]},\"y\":{\"__ndarray__\":\"AAAAAAAAAADgGoyVB83YP9UBlnriNARAez9DMWGkG0CjK6URHvwoQMq+cAPhFTJAVPSHwdo7N0D5O5I8mOo7QJXjjXcDFkBA4d0/oQEFQkBtloCVzcZDQHx0aQaHX0VASgv+3u3SRkDANfCLaiRIQJy9kNoVV0lA2MUQNsBtSkDK4WJB+GpLQHNlfNgQUUxAhw4nhSYiTUAWioF1JOBNQJY5XP3IjE5AIbV0rqkpT0DWTCoSN7hPQJXjJQXgHFBAzeMdcrpXUEDhLuERNY1QQDrcTobNvVBAXB1n+PXpUEBpd3IkFhJRQEpEuU2MNlFAIwHyG65XUUDP9XRkyXVRQLn6yuAkkVFAJA9x1gCqUUDTXNGql8BRQAvg6W4e1VFAVbo9W8XnUUClAA5BuPhRQMuxRPEeCFJAB2QFmh0WUkC0/48b1SJSQMatuFVjLlJADMPubeM4UkABzPAObkJSQGmQ4aIZS1JA1x1FiPpSUkAdYvhAI1pSQGSueZ6kYFJA+Q8J6Y1mUkCMGpsD7WtSQLyEnozOcFJAksh6+z11UkB0toW7RXlSQETJhUTvfFJAEzPvMEOAUkBAaBVSSYNSQL1Ui8IIhlJA3yjV9oeIUkAQLY7MzIpSQAhYNZjcjFJAkzytMbyOUkBpDqP/b5BSQMOc3gH8kVJANRGu2mOTUkA/NWnXqpRSQFHiOPjTlVJAfQMe9+GWUkC2Ll5O15dSQB3kUz62mFJAJRC50oCZUkB/tnPnOJpSQD9x8yzgmlJAAAktLHibUkDzPzJKApxSQAMfect/nFJA9AjX1vGcUkBubDV4WZ1SQE5EB6O3nVJAjOuENA2eUkDHE7L1Wp5SQDyyN52hnlJAELAQ0eGeUkC9nA8oHJ9SQOT1QCtRn1JAtZcuV4GfUkDxUgMdrZ9SQMvVk+PUn1JAJJJQCPmfUkAy1CHgGaBSQCk9L7g3oFJAHJ6U1lKgUkAsKgZ7a6BSQHu2Z9+BoFJA1YNUOJagUkB/RJu1qKBSQODAqoK5oFJAD9b6xsigUkDl6Gem1qBSQHMbiEHjoFJAmWj5te6gUkA=\",\"dtype\":\"float64\",\"shape\":[100]}},\"selected\":{\"id\":\"5312\",\"type\":\"Selection\"},\"selection_policy\":{\"id\":\"5313\",\"type\":\"UnionRenderers\"}},\"id\":\"5277\",\"type\":\"ColumnDataSource\"},{\"attributes\":{},\"id\":\"5212\",\"type\":\"BasicTicker\"},{\"attributes\":{\"bottom_units\":\"screen\",\"fill_alpha\":{\"value\":0.5},\"fill_color\":{\"value\":\"lightgrey\"},\"left_units\":\"screen\",\"level\":\"overlay\",\"line_alpha\":{\"value\":1.0},\"line_color\":{\"value\":\"black\"},\"line_dash\":[4,4],\"line_width\":{\"value\":2},\"render_mode\":\"css\",\"right_units\":\"screen\",\"top_units\":\"screen\"},\"id\":\"5244\",\"type\":\"BoxAnnotation\"},{\"attributes\":{\"data_source\":{\"id\":\"5247\",\"type\":\"ColumnDataSource\"},\"glyph\":{\"id\":\"5248\",\"type\":\"Line\"},\"hover_glyph\":null,\"muted_glyph\":null,\"nonselection_glyph\":{\"id\":\"5249\",\"type\":\"Line\"},\"selection_glyph\":null,\"view\":{\"id\":\"5251\",\"type\":\"CDSView\"}},\"id\":\"5250\",\"type\":\"GlyphRenderer\"}],\"root_ids\":[\"5200\"]},\"title\":\"Bokeh Application\",\"version\":\"1.4.0\"}};\n",
       "  var render_items = [{\"docid\":\"8a94ccb8-1060-4829-bb0d-c5dde209f243\",\"roots\":{\"5200\":\"ad3a6f53-fb4f-4dc7-bdbc-d3ebc79af8f5\"}}];\n",
       "  root.Bokeh.embed.embed_items_notebook(docs_json, render_items);\n",
       "\n",
       "  }\n",
       "  if (root.Bokeh !== undefined) {\n",
       "    embed_document(root);\n",
       "  } else {\n",
       "    var attempts = 0;\n",
       "    var timer = setInterval(function(root) {\n",
       "      if (root.Bokeh !== undefined) {\n",
       "        clearInterval(timer);\n",
       "        embed_document(root);\n",
       "      } else {\n",
       "        attempts++;\n",
       "        if (attempts > 100) {\n",
       "          clearInterval(timer);\n",
       "          console.log(\"Bokeh: ERROR: Unable to run BokehJS code because BokehJS library is missing\");\n",
       "        }\n",
       "      }\n",
       "    }, 10, root)\n",
       "  }\n",
       "})(window);"
      ],
      "application/vnd.bokehjs_exec.v0+json": ""
     },
     "metadata": {
      "application/vnd.bokehjs_exec.v0+json": {
       "id": "5200"
      }
     },
     "output_type": "display_data"
    }
   ],
   "source": [
    "#plt_timepoints = timepoints/60\n",
    "\n",
    "p4 = bokeh.plotting.figure(width = 450, height = 350, title = 'with ATP Synthase, Proton Pump, ATP Use',\n",
    "                          x_axis_label = 'time (sec)',\n",
    "                          y_axis_label = 'concentration (nM)')\n",
    "plot_list = [ATP_id_37, outside_H_id, inside_H_id, atp_synthase_b_protein_id, proton_pump_b_protein_id]\n",
    "plot_str = ['atp', 'outside_H', 'inside_H', 'bound atp synthase', 'bound proton pump']\n",
    "for i,item in enumerate(plot_list):\n",
    "    p4.line(plt_timepoints, results_37[item], line_width = 2, legend_label = plot_str[i], color = palette[i])\n",
    "#p3.line(plt_timepoints, results_everything[ATP_id3])\n",
    "p4.legend.click_policy = 'hide'\n",
    "p4.legend.location = 'center_right'\n",
    "\n",
    "bokeh.io.show(p4)\n",
    "\n"
   ]
  },
  {
   "cell_type": "markdown",
   "metadata": {},
   "source": [
    "## Combine at 100 C\n",
    "---"
   ]
  },
  {
   "cell_type": "code",
   "execution_count": 48,
   "metadata": {},
   "outputs": [],
   "source": [
    "# atp synthase models\n",
    "ss1_atpsyn_txtl = createSubsystem('atpsyn_100temp_machinery_txtl.xml', subsystemName = 'atpsyn_txtl')\n",
    "ss2_atpsyn_mi = createSubsystem('atpsynthase_membrane_integration.xml', subsystemName = 'atpsyn_mi')\n",
    "ss3_atpsynthesis = createSubsystem('atp_synthesis_through_atpsynthase.xml', subsystemName = 'atpsynthesis')\n",
    "ss4_atp_use = createSubsystem('atp_use.xml', subsystemName = 'atp_use')\n",
    "#ss5_pp_txtl = createSubsystem('proton_pump_tx_tl.xml', subsystemName = 'pp_txtl')\n",
    "ss5_pp_txtl = createSubsystem('proton_pump_100temp_machinery_txtl.xml', subsystemName = 'pp_txtl')\n",
    "ss6_pp_mi = createSubsystem('proton_pump_membrane_integration.xml', subsystemName = 'pp_mi')\n",
    "ss7_protontransport = createSubsystem('proton_transport_through_proton_pump.xml', subsystemName = 'protontransport')"
   ]
  },
  {
   "cell_type": "code",
   "execution_count": 49,
   "metadata": {},
   "outputs": [],
   "source": [
    "entire_subsystem = ss1_atpsyn_txtl + ss2_atpsyn_mi + ss3_atpsynthesis + ss4_atp_use + ss5_pp_txtl + ss6_pp_mi + ss7_protontransport"
   ]
  },
  {
   "cell_type": "code",
   "execution_count": 52,
   "metadata": {},
   "outputs": [],
   "source": [
    "# Initial conditions\n",
    "spec_list_10 = ['dna_proton_pump', 'dna_atpsyn','proton_outside_H', 'metabolite_atp','protein_RNAP_machinery', \n",
    "                'protein_Ribo_machinery', 'protein_RNAse_machinery']\n",
    "for i,spec in enumerate(spec_list_10):\n",
    "    entire_subsystem.setSpeciesAmount(spec,10)\n",
    "\n",
    "\n",
    "# timepoints and get results\n",
    "# timepoints = np.linspace(0,10,100)\n",
    "# results, _ = entire_subsystem.simulateWithBioscrape(timepoints, sbml_warnings = False)\n",
    "\n",
    "# Get species IDs\n",
    "ATP_id_100 = entire_subsystem.getSpeciesByName('metabolite_atp').getId()\n",
    "ADP_id = entire_subsystem.getSpeciesByName('metabolite_adp').getId()\n",
    "\n",
    "outside_H_id = entire_subsystem.getSpeciesByName('proton_outside_H').getId()\n",
    "inside_H_id = entire_subsystem.getSpeciesByName('proton_inside_H').getId()\n",
    "\n",
    "proton_pump_b_protein_id = entire_subsystem.getSpeciesByName('protein_proton_pump_b').getId()\n",
    "proton_pump_f_protein_id = entire_subsystem.getSpeciesByName('protein_proton_pump').getId()\n",
    "\n",
    "atp_synthase_b_protein_id = entire_subsystem.getSpeciesByName('protein_atpsyn_b').getId()\n",
    "atp_synthase_f_protein_id = entire_subsystem.getSpeciesByName('protein_atpsyn').getId()"
   ]
  },
  {
   "cell_type": "code",
   "execution_count": 53,
   "metadata": {},
   "outputs": [
    {
     "name": "stderr",
     "output_type": "stream",
     "text": [
      "odeint failed with mxstep=500..."
     ]
    }
   ],
   "source": [
    "timepoints = np.linspace(0,31600,100)\n",
    "results_100, _ = entire_subsystem.simulateWithBioscrape(timepoints, sbml_warnings = False)"
   ]
  },
  {
   "cell_type": "code",
   "execution_count": 54,
   "metadata": {},
   "outputs": [
    {
     "data": {
      "text/html": [
       "\n",
       "\n",
       "\n",
       "\n",
       "\n",
       "\n",
       "  <div class=\"bk-root\" id=\"4a746d65-520e-4ea0-b477-a55fb952c646\" data-root-id=\"6273\"></div>\n"
      ]
     },
     "metadata": {},
     "output_type": "display_data"
    },
    {
     "data": {
      "application/javascript": [
       "(function(root) {\n",
       "  function embed_document(root) {\n",
       "    \n",
       "  var docs_json = {\"323b1436-cc39-4688-a893-4ba470d93259\":{\"roots\":{\"references\":[{\"attributes\":{\"below\":[{\"id\":\"6284\",\"type\":\"LinearAxis\"}],\"center\":[{\"id\":\"6288\",\"type\":\"Grid\"},{\"id\":\"6293\",\"type\":\"Grid\"},{\"id\":\"6318\",\"type\":\"Legend\"}],\"left\":[{\"id\":\"6289\",\"type\":\"LinearAxis\"}],\"plot_height\":350,\"plot_width\":450,\"renderers\":[{\"id\":\"6310\",\"type\":\"GlyphRenderer\"},{\"id\":\"6323\",\"type\":\"GlyphRenderer\"},{\"id\":\"6337\",\"type\":\"GlyphRenderer\"},{\"id\":\"6353\",\"type\":\"GlyphRenderer\"},{\"id\":\"6371\",\"type\":\"GlyphRenderer\"}],\"title\":{\"id\":\"6274\",\"type\":\"Title\"},\"toolbar\":{\"id\":\"6300\",\"type\":\"Toolbar\"},\"x_range\":{\"id\":\"6276\",\"type\":\"DataRange1d\"},\"x_scale\":{\"id\":\"6280\",\"type\":\"LinearScale\"},\"y_range\":{\"id\":\"6278\",\"type\":\"DataRange1d\"},\"y_scale\":{\"id\":\"6282\",\"type\":\"LinearScale\"}},\"id\":\"6273\",\"subtype\":\"Figure\",\"type\":\"Plot\"},{\"attributes\":{\"data_source\":{\"id\":\"6368\",\"type\":\"ColumnDataSource\"},\"glyph\":{\"id\":\"6369\",\"type\":\"Line\"},\"hover_glyph\":null,\"muted_glyph\":null,\"nonselection_glyph\":{\"id\":\"6370\",\"type\":\"Line\"},\"selection_glyph\":null,\"view\":{\"id\":\"6372\",\"type\":\"CDSView\"}},\"id\":\"6371\",\"type\":\"GlyphRenderer\"},{\"attributes\":{\"callback\":null},\"id\":\"6278\",\"type\":\"DataRange1d\"},{\"attributes\":{\"line_color\":\"#ff7e0e\",\"line_width\":2,\"x\":{\"field\":\"x\"},\"y\":{\"field\":\"y\"}},\"id\":\"6321\",\"type\":\"Line\"},{\"attributes\":{\"axis_label\":\"time (sec)\",\"formatter\":{\"id\":\"6315\",\"type\":\"BasicTickFormatter\"},\"ticker\":{\"id\":\"6285\",\"type\":\"BasicTicker\"}},\"id\":\"6284\",\"type\":\"LinearAxis\"},{\"attributes\":{},\"id\":\"6297\",\"type\":\"SaveTool\"},{\"attributes\":{\"label\":{\"value\":\"inside_H\"},\"renderers\":[{\"id\":\"6337\",\"type\":\"GlyphRenderer\"}]},\"id\":\"6349\",\"type\":\"LegendItem\"},{\"attributes\":{},\"id\":\"6280\",\"type\":\"LinearScale\"},{\"attributes\":{},\"id\":\"6298\",\"type\":\"ResetTool\"},{\"attributes\":{\"source\":{\"id\":\"6368\",\"type\":\"ColumnDataSource\"}},\"id\":\"6372\",\"type\":\"CDSView\"},{\"attributes\":{},\"id\":\"6385\",\"type\":\"Selection\"},{\"attributes\":{},\"id\":\"6282\",\"type\":\"LinearScale\"},{\"attributes\":{\"line_alpha\":0.1,\"line_color\":\"#1f77b4\",\"line_width\":2,\"x\":{\"field\":\"x\"},\"y\":{\"field\":\"y\"}},\"id\":\"6352\",\"type\":\"Line\"},{\"attributes\":{},\"id\":\"6299\",\"type\":\"HelpTool\"},{\"attributes\":{\"label\":{\"value\":\"bound proton pump\"},\"renderers\":[{\"id\":\"6371\",\"type\":\"GlyphRenderer\"}]},\"id\":\"6387\",\"type\":\"LegendItem\"},{\"attributes\":{\"data_source\":{\"id\":\"6350\",\"type\":\"ColumnDataSource\"},\"glyph\":{\"id\":\"6351\",\"type\":\"Line\"},\"hover_glyph\":null,\"muted_glyph\":null,\"nonselection_glyph\":{\"id\":\"6352\",\"type\":\"Line\"},\"selection_glyph\":null,\"view\":{\"id\":\"6354\",\"type\":\"CDSView\"}},\"id\":\"6353\",\"type\":\"GlyphRenderer\"},{\"attributes\":{},\"id\":\"6386\",\"type\":\"UnionRenderers\"},{\"attributes\":{\"active_drag\":\"auto\",\"active_inspect\":\"auto\",\"active_multi\":null,\"active_scroll\":\"auto\",\"active_tap\":\"auto\",\"tools\":[{\"id\":\"6294\",\"type\":\"PanTool\"},{\"id\":\"6295\",\"type\":\"WheelZoomTool\"},{\"id\":\"6296\",\"type\":\"BoxZoomTool\"},{\"id\":\"6297\",\"type\":\"SaveTool\"},{\"id\":\"6298\",\"type\":\"ResetTool\"},{\"id\":\"6299\",\"type\":\"HelpTool\"}]},\"id\":\"6300\",\"type\":\"Toolbar\"},{\"attributes\":{\"source\":{\"id\":\"6334\",\"type\":\"ColumnDataSource\"}},\"id\":\"6338\",\"type\":\"CDSView\"},{\"attributes\":{\"line_color\":\"#2ba02b\",\"line_width\":2,\"x\":{\"field\":\"x\"},\"y\":{\"field\":\"y\"}},\"id\":\"6335\",\"type\":\"Line\"},{\"attributes\":{\"dimension\":1,\"ticker\":{\"id\":\"6290\",\"type\":\"BasicTicker\"}},\"id\":\"6293\",\"type\":\"Grid\"},{\"attributes\":{\"data_source\":{\"id\":\"6334\",\"type\":\"ColumnDataSource\"},\"glyph\":{\"id\":\"6335\",\"type\":\"Line\"},\"hover_glyph\":null,\"muted_glyph\":null,\"nonselection_glyph\":{\"id\":\"6336\",\"type\":\"Line\"},\"selection_glyph\":null,\"view\":{\"id\":\"6338\",\"type\":\"CDSView\"}},\"id\":\"6337\",\"type\":\"GlyphRenderer\"},{\"attributes\":{\"source\":{\"id\":\"6307\",\"type\":\"ColumnDataSource\"}},\"id\":\"6311\",\"type\":\"CDSView\"},{\"attributes\":{},\"id\":\"6348\",\"type\":\"UnionRenderers\"},{\"attributes\":{},\"id\":\"6285\",\"type\":\"BasicTicker\"},{\"attributes\":{\"data_source\":{\"id\":\"6320\",\"type\":\"ColumnDataSource\"},\"glyph\":{\"id\":\"6321\",\"type\":\"Line\"},\"hover_glyph\":null,\"muted_glyph\":null,\"nonselection_glyph\":{\"id\":\"6322\",\"type\":\"Line\"},\"selection_glyph\":null,\"view\":{\"id\":\"6324\",\"type\":\"CDSView\"}},\"id\":\"6323\",\"type\":\"GlyphRenderer\"},{\"attributes\":{\"label\":{\"value\":\"atp\"},\"renderers\":[{\"id\":\"6310\",\"type\":\"GlyphRenderer\"}]},\"id\":\"6319\",\"type\":\"LegendItem\"},{\"attributes\":{\"line_color\":\"#9367bc\",\"line_width\":2,\"x\":{\"field\":\"x\"},\"y\":{\"field\":\"y\"}},\"id\":\"6351\",\"type\":\"Line\"},{\"attributes\":{\"ticker\":{\"id\":\"6285\",\"type\":\"BasicTicker\"}},\"id\":\"6288\",\"type\":\"Grid\"},{\"attributes\":{},\"id\":\"6313\",\"type\":\"BasicTickFormatter\"},{\"attributes\":{\"line_alpha\":0.1,\"line_color\":\"#1f77b4\",\"line_width\":2,\"x\":{\"field\":\"x\"},\"y\":{\"field\":\"y\"}},\"id\":\"6322\",\"type\":\"Line\"},{\"attributes\":{\"source\":{\"id\":\"6350\",\"type\":\"ColumnDataSource\"}},\"id\":\"6354\",\"type\":\"CDSView\"},{\"attributes\":{},\"id\":\"6332\",\"type\":\"UnionRenderers\"},{\"attributes\":{},\"id\":\"6290\",\"type\":\"BasicTicker\"},{\"attributes\":{\"label\":{\"value\":\"bound atp synthase\"},\"renderers\":[{\"id\":\"6353\",\"type\":\"GlyphRenderer\"}]},\"id\":\"6367\",\"type\":\"LegendItem\"},{\"attributes\":{},\"id\":\"6365\",\"type\":\"Selection\"},{\"attributes\":{\"axis_label\":\"concentration (nM)\",\"formatter\":{\"id\":\"6313\",\"type\":\"BasicTickFormatter\"},\"ticker\":{\"id\":\"6290\",\"type\":\"BasicTicker\"}},\"id\":\"6289\",\"type\":\"LinearAxis\"},{\"attributes\":{},\"id\":\"6623\",\"type\":\"UnionRenderers\"},{\"attributes\":{\"label\":{\"value\":\"outside_H\"},\"renderers\":[{\"id\":\"6323\",\"type\":\"GlyphRenderer\"}]},\"id\":\"6333\",\"type\":\"LegendItem\"},{\"attributes\":{\"bottom_units\":\"screen\",\"fill_alpha\":{\"value\":0.5},\"fill_color\":{\"value\":\"lightgrey\"},\"left_units\":\"screen\",\"level\":\"overlay\",\"line_alpha\":{\"value\":1.0},\"line_color\":{\"value\":\"black\"},\"line_dash\":[4,4],\"line_width\":{\"value\":2},\"render_mode\":\"css\",\"right_units\":\"screen\",\"top_units\":\"screen\"},\"id\":\"6317\",\"type\":\"BoxAnnotation\"},{\"attributes\":{},\"id\":\"6315\",\"type\":\"BasicTickFormatter\"},{\"attributes\":{\"callback\":null,\"data\":{\"x\":{\"__ndarray__\":\"AAAAAAAAAAB2n+/aMj2hP3af79oyPbE/MW9nSMzbuT92n+/aMj3BP1SHq5F/jMU/MW9nSMzbyT8PVyP/GCvOP3af79oyPdE/ZZNNNtlk0z9Uh6uRf4zVP0N7Ce0ltNc/MW9nSMzb2T8gY8WjcgPcPw9XI/8YK94/f6VArV8p4D92n+/aMj3hP26ZnggGUeI/ZZNNNtlk4z9djfxjrHjkP1SHq5F/jOU/TIFav1Kg5j9DewntJbTnPzt1uBr5x+g/MW9nSMzb6T8paRZ2n+/qPyBjxaNyA+w/F1100UUX7T8PVyP/GCvuPwZR0izsPu8/f6VArV8p8D97IhhESbPwP3af79oyPfE/chzHcRzH8T9umZ4IBlHyP2oWdp/v2vI/ZZNNNtlk8z9hECXNwu7zP12N/GOsePQ/WQrU+pUC9T9Uh6uRf4z1P1AEgyhpFvY/TIFav1Kg9j9H/jFWPCr3P0N7Ce0ltPc/P/jggw8++D87dbga+cf4Pzbyj7HiUfk/MW9nSMzb+T8t7D7ftWX6PylpFnaf7/o/JObtDIl5+z8gY8WjcgP8PxzgnDpcjfw/F1100UUX/T8T2ktoL6H9Pw9XI/8YK/4/C9T6lQK1/j8GUdIs7D7/PwLOqcPVyP8/f6VArV8pAED9Y6x4VG4AQHsiGERJswBA+eCDDz74AEB2n+/aMj0BQPRdW6YnggFAchzHcRzHAUDw2jI9EQwCQG6ZnggGUQJA7FcK1PqVAkBqFnaf79oCQOfU4WrkHwNAZZNNNtlkA0DjUbkBzqkDQGEQJc3C7gNA386QmLczBEBdjfxjrHgEQNtLaC+hvQRAWQrU+pUCBUDWyD/GikcFQFSHq5F/jAVA0kUXXXTRBUBQBIMoaRYGQM7C7vNdWwZATIFav1KgBkDKP8aKR+UGQEf+MVY8KgdAxbydITFvB0BDewntJbQHQME5dbga+QdAP/jggw8+CEC9tkxPBIMIQDt1uBr5xwhAuTMk5u0MCUA28o+x4lEJQLSw+3zXlglAMW9nSMzbCUCvLdMTwSAKQC3sPt+1ZQpAq6qqqqqqCkA=\",\"dtype\":\"float64\",\"shape\":[100]},\"y\":{\"__ndarray__\":\"AAAAAAAAJEC9MIa8Je8hQPHe0VZlCCNAxX8E0gleI0At2uq924YjQEJ9EyJpniNA0+DQ0ImtI0DF5pCW9LcjQFZe4Ut+vyNAaJ1hASjFI0AcshaxickjQCcSJnICzSNA7XyIf9DPI0B31NEaHtIjQHPUTd0I1CNAA7ubEqbVI0D+yx1pBdcjQEjc7Kky2CNAYy3w2TbZI0Buo7v8GNojQEBBMZve2iNAOISTIYzbI0AnumIjJdwjQO7tRo2s3CNASUe2yCTdI0DRltDXj90jQDOw+2nv3SNA+FTi60TeI0DPNNaTkd4jQHtOiWvW3iNAWALCVxTfI0CC+HoeTN8jQFJR7mt+3yNAToFl1qvfI0Beprfh1N8jQB8s/QH63yNAcDSgnRvgI0BtVCoPOuAjQHoHW6dV4CNABhffrW7gI0DZBbdiheAjQLazHf+Z4CNAUtJbtqzgI0ArF3e2veAjQKLkzCjN4CNANpiqMtvgI0AsNJT15+AjQLrV2I/z4CNA+oDYHP7gI0DyN1O1B+EjQNFvrm8Q4SNAj/YyYBjhI0DvBkOZH+EjQB88iism4SNAAM8oJizhI0BWuNmWMeEjQO/6FIo24SNAsmEuCzvhI0ApInEkP+EjQLLsON9C4SNAkbkHREbhI0BZT5paSeEjQMK7+ylM4SNAMTmNuE7hI0DrBzUMUeEjQEr+GipT4SNAY8c9F1XhI0Da6ODXVuEjQDz6FHBY4SNAFB1241nhI0AIxFU1W+EjQPEut2hc4SNAjqtYgF3hI0Bkkrl+XuEjQCzIH2Zf4SNAZQidOGDhI0AIdhP4YOEjQDfzOaZh4SNATP2fRGLhI0ATL7HUYuEjQEl0uFdj4SNAXPrizmPhI0B03EI7ZOEjQJ3d0Z1k4SNADtdx92ThI0COnPJIZeEjQNRvD5Nl4SNAJFN21mXhI0BHhLkTZuEjQC1GfEtm4SNAdokOfmbhI0D08y6sZuEjQNwNFtZm4SNAOuch/GbhI0DYaLoeZ+EjQOS8MT5n4SNAG5nKWmfhI0DNYgx1Z+EjQBZiioxn4SNAeAH2oWfhI0A=\",\"dtype\":\"float64\",\"shape\":[100]}},\"selected\":{\"id\":\"6331\",\"type\":\"Selection\"},\"selection_policy\":{\"id\":\"6332\",\"type\":\"UnionRenderers\"}},\"id\":\"6307\",\"type\":\"ColumnDataSource\"},{\"attributes\":{\"line_alpha\":0.1,\"line_color\":\"#1f77b4\",\"line_width\":2,\"x\":{\"field\":\"x\"},\"y\":{\"field\":\"y\"}},\"id\":\"6370\",\"type\":\"Line\"},{\"attributes\":{\"line_alpha\":0.1,\"line_color\":\"#1f77b4\",\"line_width\":2,\"x\":{\"field\":\"x\"},\"y\":{\"field\":\"y\"}},\"id\":\"6309\",\"type\":\"Line\"},{\"attributes\":{\"line_color\":\"#1f77b3\",\"line_width\":2,\"x\":{\"field\":\"x\"},\"y\":{\"field\":\"y\"}},\"id\":\"6308\",\"type\":\"Line\"},{\"attributes\":{},\"id\":\"6622\",\"type\":\"Selection\"},{\"attributes\":{\"callback\":null,\"data\":{\"x\":{\"__ndarray__\":\"AAAAAAAAAAB2n+/aMj2hP3af79oyPbE/MW9nSMzbuT92n+/aMj3BP1SHq5F/jMU/MW9nSMzbyT8PVyP/GCvOP3af79oyPdE/ZZNNNtlk0z9Uh6uRf4zVP0N7Ce0ltNc/MW9nSMzb2T8gY8WjcgPcPw9XI/8YK94/f6VArV8p4D92n+/aMj3hP26ZnggGUeI/ZZNNNtlk4z9djfxjrHjkP1SHq5F/jOU/TIFav1Kg5j9DewntJbTnPzt1uBr5x+g/MW9nSMzb6T8paRZ2n+/qPyBjxaNyA+w/F1100UUX7T8PVyP/GCvuPwZR0izsPu8/f6VArV8p8D97IhhESbPwP3af79oyPfE/chzHcRzH8T9umZ4IBlHyP2oWdp/v2vI/ZZNNNtlk8z9hECXNwu7zP12N/GOsePQ/WQrU+pUC9T9Uh6uRf4z1P1AEgyhpFvY/TIFav1Kg9j9H/jFWPCr3P0N7Ce0ltPc/P/jggw8++D87dbga+cf4Pzbyj7HiUfk/MW9nSMzb+T8t7D7ftWX6PylpFnaf7/o/JObtDIl5+z8gY8WjcgP8PxzgnDpcjfw/F1100UUX/T8T2ktoL6H9Pw9XI/8YK/4/C9T6lQK1/j8GUdIs7D7/PwLOqcPVyP8/f6VArV8pAED9Y6x4VG4AQHsiGERJswBA+eCDDz74AEB2n+/aMj0BQPRdW6YnggFAchzHcRzHAUDw2jI9EQwCQG6ZnggGUQJA7FcK1PqVAkBqFnaf79oCQOfU4WrkHwNAZZNNNtlkA0DjUbkBzqkDQGEQJc3C7gNA386QmLczBEBdjfxjrHgEQNtLaC+hvQRAWQrU+pUCBUDWyD/GikcFQFSHq5F/jAVA0kUXXXTRBUBQBIMoaRYGQM7C7vNdWwZATIFav1KgBkDKP8aKR+UGQEf+MVY8KgdAxbydITFvB0BDewntJbQHQME5dbga+QdAP/jggw8+CEC9tkxPBIMIQDt1uBr5xwhAuTMk5u0MCUA28o+x4lEJQLSw+3zXlglAMW9nSMzbCUCvLdMTwSAKQC3sPt+1ZQpAq6qqqqqqCkA=\",\"dtype\":\"float64\",\"shape\":[100]},\"y\":{\"__ndarray__\":\"AAAAAAAAAADPucczJIemPzdKQsv6V8s/sahnaI1F4D+zvs40M1btP1CsX07/tvY/xrTG4QXq/z/IDA9IYPMEQHPj1AaYLApAJ9SWGtN9D0C+vx+X4GUSQJpZoCPuABVABDRXpqOIF0AEDC1N1PcZQNftR0MUSxxAHBWEAU+AHkCi2f60OUsgQGeAqy+ZRiFAv943GWYyIkDO8xfX9A4jQJualRS/3CNAIqo9SFicJEBW3MDmZE4lQDRbbaeT8yVAufrQZpiMJkC82hpFKBonQICo37v2nCdAx8ZoebMVKEAhrV7OCIUoQBOwxZSa6yhAyDeocAVKKUCg+19Z3qApQOZ/iFqy8ClA/jZofgY6KkA7gtTdV30qQJfDqb4buypA++QP0L/zKkC+yuJsqicrQHfsrOk6VytA/C+m58mCK0CqsJOwqaorQIRx9oUmzytASaQEBIfwK0CpSgh0DA8sQHvzqCTzKixABRBBu3JELEDptT+FvlssQOVwecQFcSxAciXj93OELEA6agohMZYsQDODfAVipixAdKsjbCi1LECNTgZXo8IsQAndbjnvzixAqX6iKibaLEDJ7OoUYOQsQHcng+Gy7SxA4hNloTL2LECZQjiz8f0sQL0xgOYABS1A8wwJnG8LLUB5/eXjSxEtQEoZPJmiFi1AKjLge38bLUDWOAhI7R8tQO4z98v1Iy1A6EUF/KEnLUC6Dg4F+iotQM5EYF0FLi1A/d9J1MowLUDXl1ygUDMtQI/piWycNS1A1hwrZLM3LUDkbP89mjktQBdERUZVOy1AZWn4Z+g8LUBp3UA1Vz4tQII6QO+kPy1A2cgmjdRALUCI8qTC6EEtQMjZ1AXkQi1AvsanlMhDLUCq1Nt5mEQtQIbIgJFVRS1APaIWjQFGLUB340r3nUYtQJPsdjcsRy1AJlzAlK1HLUAK2vE4I0gtQKQNFjOOSC1Ay2Daee9ILUBcb73tR0ktQHETCluYSS1AvaWle+FJLUB7Tbf4I0otQHy1HmxgSi1AWtfgYZdKLUD9a19ZyUotQLt8e8b2Si1AZDypEiBLLUA=\",\"dtype\":\"float64\",\"shape\":[100]}},\"selected\":{\"id\":\"6622\",\"type\":\"Selection\"},\"selection_policy\":{\"id\":\"6623\",\"type\":\"UnionRenderers\"}},\"id\":\"6368\",\"type\":\"ColumnDataSource\"},{\"attributes\":{},\"id\":\"6366\",\"type\":\"UnionRenderers\"},{\"attributes\":{\"data_source\":{\"id\":\"6307\",\"type\":\"ColumnDataSource\"},\"glyph\":{\"id\":\"6308\",\"type\":\"Line\"},\"hover_glyph\":null,\"muted_glyph\":null,\"nonselection_glyph\":{\"id\":\"6309\",\"type\":\"Line\"},\"selection_glyph\":null,\"view\":{\"id\":\"6311\",\"type\":\"CDSView\"}},\"id\":\"6310\",\"type\":\"GlyphRenderer\"},{\"attributes\":{},\"id\":\"6347\",\"type\":\"Selection\"},{\"attributes\":{\"callback\":null,\"data\":{\"x\":{\"__ndarray__\":\"AAAAAAAAAAB2n+/aMj2hP3af79oyPbE/MW9nSMzbuT92n+/aMj3BP1SHq5F/jMU/MW9nSMzbyT8PVyP/GCvOP3af79oyPdE/ZZNNNtlk0z9Uh6uRf4zVP0N7Ce0ltNc/MW9nSMzb2T8gY8WjcgPcPw9XI/8YK94/f6VArV8p4D92n+/aMj3hP26ZnggGUeI/ZZNNNtlk4z9djfxjrHjkP1SHq5F/jOU/TIFav1Kg5j9DewntJbTnPzt1uBr5x+g/MW9nSMzb6T8paRZ2n+/qPyBjxaNyA+w/F1100UUX7T8PVyP/GCvuPwZR0izsPu8/f6VArV8p8D97IhhESbPwP3af79oyPfE/chzHcRzH8T9umZ4IBlHyP2oWdp/v2vI/ZZNNNtlk8z9hECXNwu7zP12N/GOsePQ/WQrU+pUC9T9Uh6uRf4z1P1AEgyhpFvY/TIFav1Kg9j9H/jFWPCr3P0N7Ce0ltPc/P/jggw8++D87dbga+cf4Pzbyj7HiUfk/MW9nSMzb+T8t7D7ftWX6PylpFnaf7/o/JObtDIl5+z8gY8WjcgP8PxzgnDpcjfw/F1100UUX/T8T2ktoL6H9Pw9XI/8YK/4/C9T6lQK1/j8GUdIs7D7/PwLOqcPVyP8/f6VArV8pAED9Y6x4VG4AQHsiGERJswBA+eCDDz74AEB2n+/aMj0BQPRdW6YnggFAchzHcRzHAUDw2jI9EQwCQG6ZnggGUQJA7FcK1PqVAkBqFnaf79oCQOfU4WrkHwNAZZNNNtlkA0DjUbkBzqkDQGEQJc3C7gNA386QmLczBEBdjfxjrHgEQNtLaC+hvQRAWQrU+pUCBUDWyD/GikcFQFSHq5F/jAVA0kUXXXTRBUBQBIMoaRYGQM7C7vNdWwZATIFav1KgBkDKP8aKR+UGQEf+MVY8KgdAxbydITFvB0BDewntJbQHQME5dbga+QdAP/jggw8+CEC9tkxPBIMIQDt1uBr5xwhAuTMk5u0MCUA28o+x4lEJQLSw+3zXlglAMW9nSMzbCUCvLdMTwSAKQC3sPt+1ZQpAq6qqqqqqCkA=\",\"dtype\":\"float64\",\"shape\":[100]},\"y\":{\"__ndarray__\":\"AAAAAAAAAAC/g7IBbbLcPxNrxsD2c94/9h98ker83j8TYZz6Mz7fP5vRvBfgY98/TD+l1hJ83z+s/uvCvIzfP2OhK7fLmN8/oAi23Nqh3z88kh9K3ajfP12Vuxlrrt8/XvGs1uey3z+jNSsZl7bfP2JFRjqoud8/b2LjSj283z973Nlgb77fP7FgsVZRwN8/SRYRmvHB3z+ARHZjW8PfPyxyko2XxN8/Es3FK63F3z8CeKf2ocbfP81J8pt6x98/Jdh29zrI3z8hO7c/5sjfP4Uv3SZ/yd8/SxRR9AfK3z86LImYgsrfP4n/l7zwyt8/rjl/zlPL3z+W5fsKrcvfPyqBmIX9y98/zCvFLkbM3z/Gs27Zh8zfP9h6VD/DzN8/xVxSBPnM3z+nzTW5Kc3fP4jMOd9Vzd8/YW0I6X3N3z8PLgY9os3fP4HYwjbDzd8/DutKKOHN3z+q3D9b/M3fP2lrzxEVzt8/gSCohyvO3z+FxGjyP87fP4fwjoJSzt8/yfvmY2PO3z/43wm+cs7fPyeVzLSAzt8/qROjaI3O3z+A3fb2mM7fP960c3qjzt8/q8hMC63O3z9ft3m/tc7fP9Jq7aq9zt8/okfH38TO3z+yY39uy87fP1mfDmbRzt8/k4YR1NbO3z+JJunE287fPyo+2kPgzt8/gLAZW+TO3z9LLRgU6M7fP1BjFHfrzt8/mF0NjO7O3z9NK9RZ8c7fP+Gn6ubzzt8/sbYWOfbO3z9nq6dV+M7fP7Zeb0H6zt8/2HDRAPzO3z8ZyMyX/c7fPx1dBAr/zt8/TrbHWgDP3z8SMxqNAc/fP4X/uaMCz98/I0EmoQPP3z/Js6SHBM/fP77IRlkFz98/BFvuFwbP3z8x9lHFBs/fP0w/AWMHz98/T1tl8gfP3z+bAct0CM/fP3ypXesIz98/+kE0VwnP3z99Cje5Cc/fP55GbxIKz98/7YlTYwrP3z9/DCOtCs/fPx5NLvAKz98/c4ALLQvP3z9M4GNkC8/fP1tvu5YLz98/gkV8xAvP3z8qAobuC8/fP8zpFhQMz98/ViZaNgzP3z8=\",\"dtype\":\"float64\",\"shape\":[100]}},\"selected\":{\"id\":\"6365\",\"type\":\"Selection\"},\"selection_policy\":{\"id\":\"6366\",\"type\":\"UnionRenderers\"}},\"id\":\"6334\",\"type\":\"ColumnDataSource\"},{\"attributes\":{\"text\":\"with ATP Synthase, Proton Pump, ATP Use\"},\"id\":\"6274\",\"type\":\"Title\"},{\"attributes\":{\"click_policy\":\"hide\",\"items\":[{\"id\":\"6319\",\"type\":\"LegendItem\"},{\"id\":\"6333\",\"type\":\"LegendItem\"},{\"id\":\"6349\",\"type\":\"LegendItem\"},{\"id\":\"6367\",\"type\":\"LegendItem\"},{\"id\":\"6387\",\"type\":\"LegendItem\"}],\"location\":\"center_right\"},\"id\":\"6318\",\"type\":\"Legend\"},{\"attributes\":{},\"id\":\"6294\",\"type\":\"PanTool\"},{\"attributes\":{\"callback\":null},\"id\":\"6276\",\"type\":\"DataRange1d\"},{\"attributes\":{\"line_alpha\":0.1,\"line_color\":\"#1f77b4\",\"line_width\":2,\"x\":{\"field\":\"x\"},\"y\":{\"field\":\"y\"}},\"id\":\"6336\",\"type\":\"Line\"},{\"attributes\":{\"line_color\":\"#8c564b\",\"line_width\":2,\"x\":{\"field\":\"x\"},\"y\":{\"field\":\"y\"}},\"id\":\"6369\",\"type\":\"Line\"},{\"attributes\":{},\"id\":\"6295\",\"type\":\"WheelZoomTool\"},{\"attributes\":{\"source\":{\"id\":\"6320\",\"type\":\"ColumnDataSource\"}},\"id\":\"6324\",\"type\":\"CDSView\"},{\"attributes\":{},\"id\":\"6331\",\"type\":\"Selection\"},{\"attributes\":{\"callback\":null,\"data\":{\"x\":{\"__ndarray__\":\"AAAAAAAAAAB2n+/aMj2hP3af79oyPbE/MW9nSMzbuT92n+/aMj3BP1SHq5F/jMU/MW9nSMzbyT8PVyP/GCvOP3af79oyPdE/ZZNNNtlk0z9Uh6uRf4zVP0N7Ce0ltNc/MW9nSMzb2T8gY8WjcgPcPw9XI/8YK94/f6VArV8p4D92n+/aMj3hP26ZnggGUeI/ZZNNNtlk4z9djfxjrHjkP1SHq5F/jOU/TIFav1Kg5j9DewntJbTnPzt1uBr5x+g/MW9nSMzb6T8paRZ2n+/qPyBjxaNyA+w/F1100UUX7T8PVyP/GCvuPwZR0izsPu8/f6VArV8p8D97IhhESbPwP3af79oyPfE/chzHcRzH8T9umZ4IBlHyP2oWdp/v2vI/ZZNNNtlk8z9hECXNwu7zP12N/GOsePQ/WQrU+pUC9T9Uh6uRf4z1P1AEgyhpFvY/TIFav1Kg9j9H/jFWPCr3P0N7Ce0ltPc/P/jggw8++D87dbga+cf4Pzbyj7HiUfk/MW9nSMzb+T8t7D7ftWX6PylpFnaf7/o/JObtDIl5+z8gY8WjcgP8PxzgnDpcjfw/F1100UUX/T8T2ktoL6H9Pw9XI/8YK/4/C9T6lQK1/j8GUdIs7D7/PwLOqcPVyP8/f6VArV8pAED9Y6x4VG4AQHsiGERJswBA+eCDDz74AEB2n+/aMj0BQPRdW6YnggFAchzHcRzHAUDw2jI9EQwCQG6ZnggGUQJA7FcK1PqVAkBqFnaf79oCQOfU4WrkHwNAZZNNNtlkA0DjUbkBzqkDQGEQJc3C7gNA386QmLczBEBdjfxjrHgEQNtLaC+hvQRAWQrU+pUCBUDWyD/GikcFQFSHq5F/jAVA0kUXXXTRBUBQBIMoaRYGQM7C7vNdWwZATIFav1KgBkDKP8aKR+UGQEf+MVY8KgdAxbydITFvB0BDewntJbQHQME5dbga+QdAP/jggw8+CEC9tkxPBIMIQDt1uBr5xwhAuTMk5u0MCUA28o+x4lEJQLSw+3zXlglAMW9nSMzbCUCvLdMTwSAKQC3sPt+1ZQpAq6qqqqqqCkA=\",\"dtype\":\"float64\",\"shape\":[100]},\"y\":{\"__ndarray__\":\"AAAAAAAAJEDka/KXbBojQKjM+UlgDCNAAR90qxgII0D1HCtgDgYjQG8ZQv/gBCNAA9ZKaR8EI0AIoOgZmgMjQPOiRqI5AyNAt08aKfECI0BqA68VuQIjQFMjMqeMAiNAcphKwWgCI0BQpjZHSwIjQNLNLb4yAiNA6eSoFR4CI0AZMfmEDAIjQPd0SnX9ASNAS3cvc/ABI0DaTeQk5QEjQGtsk0PbASNAktGhltIBI0A4xErwygEjQKltICvEASNANklEKL4BI0AeRgLOuAEjQHoWyQa0ASNAVHddwK8BI0CVtjvrqwEjQPo/G3qoASNAKQaMYaUBI0DKIKiXogEjQPA70xOgASNAnNaJzp0BI0BbijTBmwEjQCFcBeaZASNAEW3dN5gBI0CJUTaylgEjQJExBlGVASNAiby3EJQBI0CEzhfukgEjQDHpSeaRASNAnKi99pABI0APASYdkAEjQJmEcVePASNA8b7Co44BI0DQuWwAjgEjQG+I62uNASNAFsjg5IwBI0D1sA9qjAEjQEubWfqLASNAWOe6lIsBI0AJSUg4iwEjQE1iLOSKASNAr5mll4oBI0A5MgRSigEjQJ6UqBKKASNAuMUB2YkBI0DXBIykiQEjQPmKz3SJASNAwHNfSYkBI0DBttghiQEjQAMu4f2IASNAcTIn3YgBI0CLPl+/iAEjQNtcR6SIASNACJWfi4gBI0CaXjF1iAEjQLaqyGCIASNAP0o3TogBI0CZwlI9iAEjQP2E9C2IASNAbHT5H4gBI0CymUETiAEjQArdrweIASNAQcIp/YcBI0BbLpfzhwEjQPgv4uqHASNA68324ocBI0BX2sLbhwEjQK/JNdWHASNAHY1Az4cBI0BEcNXJhwEjQPv158SHASNAG9VswIcBI0Dpp1m8hwEjQKoSpbiHASNA511GtYcBI0CiRzayhwEjQMGFbK+HASNAp2PlrIcBI0CT55aqhwEjQI6NfqiHASNA8qOXpocBI0D04NykhwEjQHskSqOHASNAyh3coYcBI0Dlz4ughwEjQKhIX5+HASNAxC5NnocBI0A=\",\"dtype\":\"float64\",\"shape\":[100]}},\"selected\":{\"id\":\"6347\",\"type\":\"Selection\"},\"selection_policy\":{\"id\":\"6348\",\"type\":\"UnionRenderers\"}},\"id\":\"6320\",\"type\":\"ColumnDataSource\"},{\"attributes\":{\"callback\":null,\"data\":{\"x\":{\"__ndarray__\":\"AAAAAAAAAAB2n+/aMj2hP3af79oyPbE/MW9nSMzbuT92n+/aMj3BP1SHq5F/jMU/MW9nSMzbyT8PVyP/GCvOP3af79oyPdE/ZZNNNtlk0z9Uh6uRf4zVP0N7Ce0ltNc/MW9nSMzb2T8gY8WjcgPcPw9XI/8YK94/f6VArV8p4D92n+/aMj3hP26ZnggGUeI/ZZNNNtlk4z9djfxjrHjkP1SHq5F/jOU/TIFav1Kg5j9DewntJbTnPzt1uBr5x+g/MW9nSMzb6T8paRZ2n+/qPyBjxaNyA+w/F1100UUX7T8PVyP/GCvuPwZR0izsPu8/f6VArV8p8D97IhhESbPwP3af79oyPfE/chzHcRzH8T9umZ4IBlHyP2oWdp/v2vI/ZZNNNtlk8z9hECXNwu7zP12N/GOsePQ/WQrU+pUC9T9Uh6uRf4z1P1AEgyhpFvY/TIFav1Kg9j9H/jFWPCr3P0N7Ce0ltPc/P/jggw8++D87dbga+cf4Pzbyj7HiUfk/MW9nSMzb+T8t7D7ftWX6PylpFnaf7/o/JObtDIl5+z8gY8WjcgP8PxzgnDpcjfw/F1100UUX/T8T2ktoL6H9Pw9XI/8YK/4/C9T6lQK1/j8GUdIs7D7/PwLOqcPVyP8/f6VArV8pAED9Y6x4VG4AQHsiGERJswBA+eCDDz74AEB2n+/aMj0BQPRdW6YnggFAchzHcRzHAUDw2jI9EQwCQG6ZnggGUQJA7FcK1PqVAkBqFnaf79oCQOfU4WrkHwNAZZNNNtlkA0DjUbkBzqkDQGEQJc3C7gNA386QmLczBEBdjfxjrHgEQNtLaC+hvQRAWQrU+pUCBUDWyD/GikcFQFSHq5F/jAVA0kUXXXTRBUBQBIMoaRYGQM7C7vNdWwZATIFav1KgBkDKP8aKR+UGQEf+MVY8KgdAxbydITFvB0BDewntJbQHQME5dbga+QdAP/jggw8+CEC9tkxPBIMIQDt1uBr5xwhAuTMk5u0MCUA28o+x4lEJQLSw+3zXlglAMW9nSMzbCUCvLdMTwSAKQC3sPt+1ZQpAq6qqqqqqCkA=\",\"dtype\":\"float64\",\"shape\":[100]},\"y\":{\"__ndarray__\":\"AAAAAAAAAAAVu8czJIemP+JKQsv6V8s/86hnaI1F4D8Iv840M1btP4SsX07/tvY/BLXG4QXq/z/qDA9IYPMEQJjj1AaYLApAT9SWGtN9D0DUvx+X4GUSQLJZoCPuABVAHDRXpqOIF0AcDC1N1PcZQO7tR0MUSxxANRWEAU+AHkCv2f60OUsgQHOAqy+ZRiFAy943GWYyIkDb8xfX9A4jQKealRS/3CNAL6o9SFicJEBk3MDmZE4lQEJbbaeT8yVAx/rQZpiMJkDJ2hpFKBonQI2o37v2nCdA1MZoebMVKEAvrV7OCIUoQCGwxZSa6yhA1jeocAVKKUCu+19Z3qApQPN/iFqy8ClADDdofgY6KkBJgtTdV30qQKXDqb4buypACeUP0L/zKkDMyuJsqicrQIXsrOk6VytACzCm58mCK0C5sJOwqaorQJNx9oUmzytAWKQEBIfwK0C4Sgh0DA8sQIrzqCTzKixAFBBBu3JELED4tT+FvlssQPRwecQFcSxAgSXj93OELEBJagohMZYsQEKDfAVipixAg6sjbCi1LECcTgZXo8IsQBjdbjnvzixAt36iKibaLEDX7OoUYOQsQIUng+Gy7SxA8BNloTL2LECnQjiz8f0sQMsxgOYABS1AAQ0JnG8LLUCH/eXjSxEtQFgZPJmiFi1AODLge38bLUDkOAhI7R8tQPwz98v1Iy1A9kUF/KEnLUDIDg4F+iotQNxEYF0FLi1AC+BJ1MowLUDll1ygUDMtQJ3piWycNS1A5BwrZLM3LUDybP89mjktQCVERUZVOy1Ac2n4Z+g8LUB33UA1Vz4tQJA6QO+kPy1A58gmjdRALUCW8qTC6EEtQNbZ1AXkQi1AzManlMhDLUC41Nt5mEQtQJTIgJFVRS1AS6IWjQFGLUCF40r3nUYtQKHsdjcsRy1ANFzAlK1HLUAY2vE4I0gtQLINFjOOSC1A2WDaee9ILUBpb73tR0ktQH4TCluYSS1AyqWle+FJLUCITbf4I0otQIm1HmxgSi1AZ9fgYZdKLUAKbF9ZyUotQMh8e8b2Si1AcTypEiBLLUA=\",\"dtype\":\"float64\",\"shape\":[100]}},\"selected\":{\"id\":\"6385\",\"type\":\"Selection\"},\"selection_policy\":{\"id\":\"6386\",\"type\":\"UnionRenderers\"}},\"id\":\"6350\",\"type\":\"ColumnDataSource\"},{\"attributes\":{\"overlay\":{\"id\":\"6317\",\"type\":\"BoxAnnotation\"}},\"id\":\"6296\",\"type\":\"BoxZoomTool\"}],\"root_ids\":[\"6273\"]},\"title\":\"Bokeh Application\",\"version\":\"1.4.0\"}};\n",
       "  var render_items = [{\"docid\":\"323b1436-cc39-4688-a893-4ba470d93259\",\"roots\":{\"6273\":\"4a746d65-520e-4ea0-b477-a55fb952c646\"}}];\n",
       "  root.Bokeh.embed.embed_items_notebook(docs_json, render_items);\n",
       "\n",
       "  }\n",
       "  if (root.Bokeh !== undefined) {\n",
       "    embed_document(root);\n",
       "  } else {\n",
       "    var attempts = 0;\n",
       "    var timer = setInterval(function(root) {\n",
       "      if (root.Bokeh !== undefined) {\n",
       "        clearInterval(timer);\n",
       "        embed_document(root);\n",
       "      } else {\n",
       "        attempts++;\n",
       "        if (attempts > 100) {\n",
       "          clearInterval(timer);\n",
       "          console.log(\"Bokeh: ERROR: Unable to run BokehJS code because BokehJS library is missing\");\n",
       "        }\n",
       "      }\n",
       "    }, 10, root)\n",
       "  }\n",
       "})(window);"
      ],
      "application/vnd.bokehjs_exec.v0+json": ""
     },
     "metadata": {
      "application/vnd.bokehjs_exec.v0+json": {
       "id": "6273"
      }
     },
     "output_type": "display_data"
    }
   ],
   "source": [
    "#plt_timepoints = timepoints/60\n",
    "\n",
    "p4 = bokeh.plotting.figure(width = 450, height = 350, title = 'with ATP Synthase, Proton Pump, ATP Use',\n",
    "                          x_axis_label = 'time (sec)',\n",
    "                          y_axis_label = 'concentration (nM)')\n",
    "plot_list = [ATP_id_100, outside_H_id, inside_H_id, atp_synthase_b_protein_id, proton_pump_b_protein_id]\n",
    "plot_str = ['atp', 'outside_H', 'inside_H', 'bound atp synthase', 'bound proton pump']\n",
    "for i,item in enumerate(plot_list):\n",
    "    p4.line(plt_timepoints, results_100[item], line_width = 2, legend_label = plot_str[i], color = palette[i])\n",
    "#p3.line(plt_timepoints, results_everything[ATP_id3])\n",
    "p4.legend.click_policy = 'hide'\n",
    "p4.legend.location = 'center_right'\n",
    "\n",
    "bokeh.io.show(p4)\n",
    "\n",
    "\n"
   ]
  },
  {
   "cell_type": "markdown",
   "metadata": {},
   "source": [
    "## Compare 25, 37, 100 C\n",
    "---"
   ]
  },
  {
   "cell_type": "code",
   "execution_count": 58,
   "metadata": {},
   "outputs": [
    {
     "data": {
      "text/html": [
       "\n",
       "\n",
       "\n",
       "\n",
       "\n",
       "\n",
       "  <div class=\"bk-root\" id=\"ea4c542d-6ec6-437e-b590-58d6060f60b7\" data-root-id=\"7965\"></div>\n"
      ]
     },
     "metadata": {},
     "output_type": "display_data"
    },
    {
     "data": {
      "application/javascript": [
       "(function(root) {\n",
       "  function embed_document(root) {\n",
       "    \n",
       "  var docs_json = {\"54d34b21-1926-4bc0-82f8-9eb54b5861ff\":{\"roots\":{\"references\":[{\"attributes\":{\"below\":[{\"id\":\"7976\",\"type\":\"LinearAxis\"}],\"center\":[{\"id\":\"7980\",\"type\":\"Grid\"},{\"id\":\"7985\",\"type\":\"Grid\"},{\"id\":\"8010\",\"type\":\"Legend\"}],\"left\":[{\"id\":\"7981\",\"type\":\"LinearAxis\"}],\"plot_height\":350,\"plot_width\":450,\"renderers\":[{\"id\":\"8002\",\"type\":\"GlyphRenderer\"},{\"id\":\"8015\",\"type\":\"GlyphRenderer\"},{\"id\":\"8029\",\"type\":\"GlyphRenderer\"}],\"title\":{\"id\":\"7966\",\"type\":\"Title\"},\"toolbar\":{\"id\":\"7992\",\"type\":\"Toolbar\"},\"x_range\":{\"id\":\"7968\",\"type\":\"DataRange1d\"},\"x_scale\":{\"id\":\"7972\",\"type\":\"LinearScale\"},\"y_range\":{\"id\":\"7970\",\"type\":\"DataRange1d\"},\"y_scale\":{\"id\":\"7974\",\"type\":\"LinearScale\"}},\"id\":\"7965\",\"subtype\":\"Figure\",\"type\":\"Plot\"},{\"attributes\":{},\"id\":\"7986\",\"type\":\"PanTool\"},{\"attributes\":{\"callback\":null,\"data\":{\"x\":{\"__ndarray__\":\"AAAAAAAAAABIzNsZEvNzQEjM2xkS84NAbLLJJpvsjUBIzNsZEvOTQFq/UqDW75hAbLLJJpvsnUC/UqDWr3ShQEjM2xkS86NA0UUXXXRxpkBav1Kg1u+oQOM4juM4bqtAbLLJJpvsrUD6lQK1fjWwQL9SoNavdLFAhA8++OCzskBIzNsZEvOzQAyJeTtDMrVA0UUXXXRxtkCWArV+pbC3QFq/UqDW77hAHnzwwQcvukDjOI7jOG67QKj1KwVqrbxAbLLJJpvsvUAwb2dIzCu/QPqVArV+NcBAXXTRRRfVwEC/UqDWr3TBQCExb2dIFMJAhA8++OCzwkDm7QyJeVPDQEjM2xkS88NAqqqqqqqSxEAMiXk7QzLFQG9nSMzb0cVA0UUXXXRxxkAzJObtDBHHQJYCtX6lsMdA+OCDDz5QyEBav1Kg1u/IQLydITFvj8lAHnzwwQcvykCBWr9SoM7KQOM4juM4bstARRdddNENzECo9SsFaq3MQArU+pUCTc1AbLLJJpvszUDOkJi3M4zOQDBvZ0jMK89Ak0022WTLz0D6lQK1fjXQQCwFav1KhdBAXXTRRRfV0ECO4ziO4yTRQL9SoNavdNFA8MEHH3zE0UAhMW9nSBTSQFKg1q8UZNJAhA8++OCz0kC1fqVArQPTQObtDIl5U9NAF1100UWj00BIzNsZEvPTQHk7Q2LeQtRAqqqqqqqS1EDbGRLzduLUQAyJeTtDMtVAPvjggw+C1UBvZ0jM29HVQKDWrxSoIdZA0UUXXXRx1kACtX6lQMHWQDMk5u0MEddAZJNNNtlg10CWArV+pbDXQMdxHMdxANhA+OCDDz5Q2EApUOtXCqDYQFq/UqDW79hAiy666KI/2UC8nSExb4/ZQO0MiXk739lAHnzwwQcv2kBQ61cK1H7aQIFav1KgztpAsskmm2we20DjOI7jOG7bQBSo9SsFvttARRdddNEN3EB2hsS8nV3cQKj1KwVqrdxA2WSTTTb93EAK1PqVAk3dQDtDYt7OnN1AbLLJJpvs3UCdITFvZzzeQM6QmLczjN5AAAAAAADc3kA=\",\"dtype\":\"float64\",\"shape\":[100]},\"y\":{\"__ndarray__\":\"AAAAAAAAJECVyzqp7EYjQKegHZOmtiNAx4j+qIXTI0Cd1VdY4d4jQAwCfT515CNALNfsNLHnI0CycanK0ekjQDaggtNV6yNA7B+UHnnsI0A+GPrnW+0jQFHzqUQR7iNAbRhCTaXuI0A+bAkXIO8jQKr2gkKH7yNAjUm33d7vI0AK4eroKfAjQEl1gqpq8CNAqmAd5aLwI0CSgP350/AjQL1V0QT/8CNAMj796STxI0AUW59kRvEjQDaVYQ9k8SNAHj9Fa37xI0BT5sbklfEjQFeyxdeq8SNAeg2okr3xI0BSQphYzvEjQPuVY2Pd8SNAY3pz5erxI0DZzG0K9/EjQJ4fSfgB8iNA2O6u0AvyI0BAV/+wFPIjQPv6LLMc8iNABGEf7iPyI0ClQWB2KvIjQAoD8l0w8iNAM4fttDXyI0Bb0sSJOvIjQKEiO+k+8iNAt1/c3kLyI0CpM/l0RvIjQHt60LRJ8iNAGUCypkzyI0CxvxdST/IjQDrVur1R8iNAKTqk71PyI0DV/2ntVfIjQIi1z7tX8iNAFWFgX1nyI0D7BR/cWvIjQMM4rTVc8iNAuWBUb13yI0ClCg6MXvIjQERWi45f8iNA6yk8eWDyI0A7llVOYfIjQIqM1w9i8iNAgPmRv2LyI0DhYilfY/IjQLUKG/Bj8iNAU67Ac2TyI0D24lPrZPIjQPQg8Vdl8iNAEICaumXyI0C0MzoUZvIjQOTHpGVm8iNAUCabr2byI0AIbMzyZvIjQL2X1y9n8iNAn/JMZ2fyI0AXda+ZZ/IjQBqldsdn8iNAIMUO8WfyI0AIE9cWaPIjQNovLTlo8iNAmdNdWGjyI0COG7Z0aPIjQCindo5o8iNA38XcpWjyI0AYfR+7aPIjQBfacM5o8iNAIl/+32jyI0CtSvHvaPIjQE8/b/5o8iNAATWaC2nyI0CCIJEXafIjQDIWcSJp8iNAtrJPLGnyI0B3I1Y1afIjQNZ8WT1p8iNAH+3ZRGnyI0AHe6VLafIjQFkTr1Fp8iNAY3dSV2nyI0CQSD5cafIjQOQT+GBp8iNAYCMJZWnyI0A=\",\"dtype\":\"float64\",\"shape\":[100]}},\"selected\":{\"id\":\"8023\",\"type\":\"Selection\"},\"selection_policy\":{\"id\":\"8024\",\"type\":\"UnionRenderers\"}},\"id\":\"7999\",\"type\":\"ColumnDataSource\"},{\"attributes\":{\"line_alpha\":0.1,\"line_color\":\"#1f77b4\",\"line_width\":2,\"x\":{\"field\":\"x\"},\"y\":{\"field\":\"y\"}},\"id\":\"8028\",\"type\":\"Line\"},{\"attributes\":{\"data_source\":{\"id\":\"7999\",\"type\":\"ColumnDataSource\"},\"glyph\":{\"id\":\"8000\",\"type\":\"Line\"},\"hover_glyph\":null,\"muted_glyph\":null,\"nonselection_glyph\":{\"id\":\"8001\",\"type\":\"Line\"},\"selection_glyph\":null,\"view\":{\"id\":\"8003\",\"type\":\"CDSView\"}},\"id\":\"8002\",\"type\":\"GlyphRenderer\"},{\"attributes\":{\"line_color\":\"#1f77b3\",\"line_width\":2,\"x\":{\"field\":\"x\"},\"y\":{\"field\":\"y\"}},\"id\":\"8000\",\"type\":\"Line\"},{\"attributes\":{\"text\":\"with ATP Synthase, Proton Pump, ATP Use\"},\"id\":\"7966\",\"type\":\"Title\"},{\"attributes\":{\"data_source\":{\"id\":\"8026\",\"type\":\"ColumnDataSource\"},\"glyph\":{\"id\":\"8027\",\"type\":\"Line\"},\"hover_glyph\":null,\"muted_glyph\":null,\"nonselection_glyph\":{\"id\":\"8028\",\"type\":\"Line\"},\"selection_glyph\":null,\"view\":{\"id\":\"8030\",\"type\":\"CDSView\"}},\"id\":\"8029\",\"type\":\"GlyphRenderer\"},{\"attributes\":{},\"id\":\"7987\",\"type\":\"WheelZoomTool\"},{\"attributes\":{\"source\":{\"id\":\"8012\",\"type\":\"ColumnDataSource\"}},\"id\":\"8016\",\"type\":\"CDSView\"},{\"attributes\":{\"callback\":null},\"id\":\"7968\",\"type\":\"DataRange1d\"},{\"attributes\":{\"overlay\":{\"id\":\"8009\",\"type\":\"BoxAnnotation\"}},\"id\":\"7988\",\"type\":\"BoxZoomTool\"},{\"attributes\":{},\"id\":\"7989\",\"type\":\"SaveTool\"},{\"attributes\":{\"label\":{\"value\":\"25\"},\"renderers\":[{\"id\":\"8002\",\"type\":\"GlyphRenderer\"}]},\"id\":\"8011\",\"type\":\"LegendItem\"},{\"attributes\":{\"source\":{\"id\":\"8026\",\"type\":\"ColumnDataSource\"}},\"id\":\"8030\",\"type\":\"CDSView\"},{\"attributes\":{},\"id\":\"7990\",\"type\":\"ResetTool\"},{\"attributes\":{\"line_color\":\"#ff7e0e\",\"line_width\":2,\"x\":{\"field\":\"x\"},\"y\":{\"field\":\"y\"}},\"id\":\"8013\",\"type\":\"Line\"},{\"attributes\":{},\"id\":\"8039\",\"type\":\"Selection\"},{\"attributes\":{\"callback\":null},\"id\":\"7970\",\"type\":\"DataRange1d\"},{\"attributes\":{\"click_policy\":\"hide\",\"items\":[{\"id\":\"8011\",\"type\":\"LegendItem\"},{\"id\":\"8025\",\"type\":\"LegendItem\"},{\"id\":\"8041\",\"type\":\"LegendItem\"}]},\"id\":\"8010\",\"type\":\"Legend\"},{\"attributes\":{\"label\":{\"value\":\"100\"},\"renderers\":[{\"id\":\"8029\",\"type\":\"GlyphRenderer\"}]},\"id\":\"8041\",\"type\":\"LegendItem\"},{\"attributes\":{},\"id\":\"8327\",\"type\":\"UnionRenderers\"},{\"attributes\":{},\"id\":\"7991\",\"type\":\"HelpTool\"},{\"attributes\":{},\"id\":\"8040\",\"type\":\"UnionRenderers\"},{\"attributes\":{},\"id\":\"7972\",\"type\":\"LinearScale\"},{\"attributes\":{},\"id\":\"7974\",\"type\":\"LinearScale\"},{\"attributes\":{\"line_alpha\":0.1,\"line_color\":\"#1f77b4\",\"line_width\":2,\"x\":{\"field\":\"x\"},\"y\":{\"field\":\"y\"}},\"id\":\"8014\",\"type\":\"Line\"},{\"attributes\":{},\"id\":\"8023\",\"type\":\"Selection\"},{\"attributes\":{\"axis_label\":\"time (sec)\",\"formatter\":{\"id\":\"8007\",\"type\":\"BasicTickFormatter\"},\"ticker\":{\"id\":\"7977\",\"type\":\"BasicTicker\"}},\"id\":\"7976\",\"type\":\"LinearAxis\"},{\"attributes\":{\"dimension\":1,\"ticker\":{\"id\":\"7982\",\"type\":\"BasicTicker\"}},\"id\":\"7985\",\"type\":\"Grid\"},{\"attributes\":{\"bottom_units\":\"screen\",\"fill_alpha\":{\"value\":0.5},\"fill_color\":{\"value\":\"lightgrey\"},\"left_units\":\"screen\",\"level\":\"overlay\",\"line_alpha\":{\"value\":1.0},\"line_color\":{\"value\":\"black\"},\"line_dash\":[4,4],\"line_width\":{\"value\":2},\"render_mode\":\"css\",\"right_units\":\"screen\",\"top_units\":\"screen\"},\"id\":\"8009\",\"type\":\"BoxAnnotation\"},{\"attributes\":{},\"id\":\"7977\",\"type\":\"BasicTicker\"},{\"attributes\":{},\"id\":\"8326\",\"type\":\"Selection\"},{\"attributes\":{\"ticker\":{\"id\":\"7977\",\"type\":\"BasicTicker\"}},\"id\":\"7980\",\"type\":\"Grid\"},{\"attributes\":{},\"id\":\"7982\",\"type\":\"BasicTicker\"},{\"attributes\":{\"source\":{\"id\":\"7999\",\"type\":\"ColumnDataSource\"}},\"id\":\"8003\",\"type\":\"CDSView\"},{\"attributes\":{},\"id\":\"8005\",\"type\":\"BasicTickFormatter\"},{\"attributes\":{\"axis_label\":\"concentration (nM)\",\"formatter\":{\"id\":\"8005\",\"type\":\"BasicTickFormatter\"},\"ticker\":{\"id\":\"7982\",\"type\":\"BasicTicker\"}},\"id\":\"7981\",\"type\":\"LinearAxis\"},{\"attributes\":{},\"id\":\"8007\",\"type\":\"BasicTickFormatter\"},{\"attributes\":{\"callback\":null,\"data\":{\"x\":{\"__ndarray__\":\"AAAAAAAAAABIzNsZEvNzQEjM2xkS84NAbLLJJpvsjUBIzNsZEvOTQFq/UqDW75hAbLLJJpvsnUC/UqDWr3ShQEjM2xkS86NA0UUXXXRxpkBav1Kg1u+oQOM4juM4bqtAbLLJJpvsrUD6lQK1fjWwQL9SoNavdLFAhA8++OCzskBIzNsZEvOzQAyJeTtDMrVA0UUXXXRxtkCWArV+pbC3QFq/UqDW77hAHnzwwQcvukDjOI7jOG67QKj1KwVqrbxAbLLJJpvsvUAwb2dIzCu/QPqVArV+NcBAXXTRRRfVwEC/UqDWr3TBQCExb2dIFMJAhA8++OCzwkDm7QyJeVPDQEjM2xkS88NAqqqqqqqSxEAMiXk7QzLFQG9nSMzb0cVA0UUXXXRxxkAzJObtDBHHQJYCtX6lsMdA+OCDDz5QyEBav1Kg1u/IQLydITFvj8lAHnzwwQcvykCBWr9SoM7KQOM4juM4bstARRdddNENzECo9SsFaq3MQArU+pUCTc1AbLLJJpvszUDOkJi3M4zOQDBvZ0jMK89Ak0022WTLz0D6lQK1fjXQQCwFav1KhdBAXXTRRRfV0ECO4ziO4yTRQL9SoNavdNFA8MEHH3zE0UAhMW9nSBTSQFKg1q8UZNJAhA8++OCz0kC1fqVArQPTQObtDIl5U9NAF1100UWj00BIzNsZEvPTQHk7Q2LeQtRAqqqqqqqS1EDbGRLzduLUQAyJeTtDMtVAPvjggw+C1UBvZ0jM29HVQKDWrxSoIdZA0UUXXXRx1kACtX6lQMHWQDMk5u0MEddAZJNNNtlg10CWArV+pbDXQMdxHMdxANhA+OCDDz5Q2EApUOtXCqDYQFq/UqDW79hAiy666KI/2UC8nSExb4/ZQO0MiXk739lAHnzwwQcv2kBQ61cK1H7aQIFav1KgztpAsskmm2we20DjOI7jOG7bQBSo9SsFvttARRdddNEN3EB2hsS8nV3cQKj1KwVqrdxA2WSTTTb93EAK1PqVAk3dQDtDYt7OnN1AbLLJJpvs3UCdITFvZzzeQM6QmLczjN5AAAAAAADc3kA=\",\"dtype\":\"float64\",\"shape\":[100]},\"y\":{\"__ndarray__\":\"AAAAAAAAJEC9MIa8Je8hQPHe0VZlCCNAxX8E0gleI0At2uq924YjQEJ9EyJpniNA0+DQ0ImtI0DF5pCW9LcjQFZe4Ut+vyNAaJ1hASjFI0AcshaxickjQCcSJnICzSNA7XyIf9DPI0B31NEaHtIjQHPUTd0I1CNAA7ubEqbVI0D+yx1pBdcjQEjc7Kky2CNAYy3w2TbZI0Buo7v8GNojQEBBMZve2iNAOISTIYzbI0AnumIjJdwjQO7tRo2s3CNASUe2yCTdI0DRltDXj90jQDOw+2nv3SNA+FTi60TeI0DPNNaTkd4jQHtOiWvW3iNAWALCVxTfI0CC+HoeTN8jQFJR7mt+3yNAToFl1qvfI0Beprfh1N8jQB8s/QH63yNAcDSgnRvgI0BtVCoPOuAjQHoHW6dV4CNABhffrW7gI0DZBbdiheAjQLazHf+Z4CNAUtJbtqzgI0ArF3e2veAjQKLkzCjN4CNANpiqMtvgI0AsNJT15+AjQLrV2I/z4CNA+oDYHP7gI0DyN1O1B+EjQNFvrm8Q4SNAj/YyYBjhI0DvBkOZH+EjQB88iism4SNAAM8oJizhI0BWuNmWMeEjQO/6FIo24SNAsmEuCzvhI0ApInEkP+EjQLLsON9C4SNAkbkHREbhI0BZT5paSeEjQMK7+ylM4SNAMTmNuE7hI0DrBzUMUeEjQEr+GipT4SNAY8c9F1XhI0Da6ODXVuEjQDz6FHBY4SNAFB1241nhI0AIxFU1W+EjQPEut2hc4SNAjqtYgF3hI0Bkkrl+XuEjQCzIH2Zf4SNAZQidOGDhI0AIdhP4YOEjQDfzOaZh4SNATP2fRGLhI0ATL7HUYuEjQEl0uFdj4SNAXPrizmPhI0B03EI7ZOEjQJ3d0Z1k4SNADtdx92ThI0COnPJIZeEjQNRvD5Nl4SNAJFN21mXhI0BHhLkTZuEjQC1GfEtm4SNAdokOfmbhI0D08y6sZuEjQNwNFtZm4SNAOuch/GbhI0DYaLoeZ+EjQOS8MT5n4SNAG5nKWmfhI0DNYgx1Z+EjQBZiioxn4SNAeAH2oWfhI0A=\",\"dtype\":\"float64\",\"shape\":[100]}},\"selected\":{\"id\":\"8039\",\"type\":\"Selection\"},\"selection_policy\":{\"id\":\"8040\",\"type\":\"UnionRenderers\"}},\"id\":\"8012\",\"type\":\"ColumnDataSource\"},{\"attributes\":{\"label\":{\"value\":\"37\"},\"renderers\":[{\"id\":\"8015\",\"type\":\"GlyphRenderer\"}]},\"id\":\"8025\",\"type\":\"LegendItem\"},{\"attributes\":{\"line_alpha\":0.1,\"line_color\":\"#1f77b4\",\"line_width\":2,\"x\":{\"field\":\"x\"},\"y\":{\"field\":\"y\"}},\"id\":\"8001\",\"type\":\"Line\"},{\"attributes\":{},\"id\":\"8024\",\"type\":\"UnionRenderers\"},{\"attributes\":{\"data_source\":{\"id\":\"8012\",\"type\":\"ColumnDataSource\"},\"glyph\":{\"id\":\"8013\",\"type\":\"Line\"},\"hover_glyph\":null,\"muted_glyph\":null,\"nonselection_glyph\":{\"id\":\"8014\",\"type\":\"Line\"},\"selection_glyph\":null,\"view\":{\"id\":\"8016\",\"type\":\"CDSView\"}},\"id\":\"8015\",\"type\":\"GlyphRenderer\"},{\"attributes\":{\"line_color\":\"#2ba02b\",\"line_width\":2,\"x\":{\"field\":\"x\"},\"y\":{\"field\":\"y\"}},\"id\":\"8027\",\"type\":\"Line\"},{\"attributes\":{\"callback\":null,\"data\":{\"x\":{\"__ndarray__\":\"AAAAAAAAAABIzNsZEvNzQEjM2xkS84NAbLLJJpvsjUBIzNsZEvOTQFq/UqDW75hAbLLJJpvsnUC/UqDWr3ShQEjM2xkS86NA0UUXXXRxpkBav1Kg1u+oQOM4juM4bqtAbLLJJpvsrUD6lQK1fjWwQL9SoNavdLFAhA8++OCzskBIzNsZEvOzQAyJeTtDMrVA0UUXXXRxtkCWArV+pbC3QFq/UqDW77hAHnzwwQcvukDjOI7jOG67QKj1KwVqrbxAbLLJJpvsvUAwb2dIzCu/QPqVArV+NcBAXXTRRRfVwEC/UqDWr3TBQCExb2dIFMJAhA8++OCzwkDm7QyJeVPDQEjM2xkS88NAqqqqqqqSxEAMiXk7QzLFQG9nSMzb0cVA0UUXXXRxxkAzJObtDBHHQJYCtX6lsMdA+OCDDz5QyEBav1Kg1u/IQLydITFvj8lAHnzwwQcvykCBWr9SoM7KQOM4juM4bstARRdddNENzECo9SsFaq3MQArU+pUCTc1AbLLJJpvszUDOkJi3M4zOQDBvZ0jMK89Ak0022WTLz0D6lQK1fjXQQCwFav1KhdBAXXTRRRfV0ECO4ziO4yTRQL9SoNavdNFA8MEHH3zE0UAhMW9nSBTSQFKg1q8UZNJAhA8++OCz0kC1fqVArQPTQObtDIl5U9NAF1100UWj00BIzNsZEvPTQHk7Q2LeQtRAqqqqqqqS1EDbGRLzduLUQAyJeTtDMtVAPvjggw+C1UBvZ0jM29HVQKDWrxSoIdZA0UUXXXRx1kACtX6lQMHWQDMk5u0MEddAZJNNNtlg10CWArV+pbDXQMdxHMdxANhA+OCDDz5Q2EApUOtXCqDYQFq/UqDW79hAiy666KI/2UC8nSExb4/ZQO0MiXk739lAHnzwwQcv2kBQ61cK1H7aQIFav1KgztpAsskmm2we20DjOI7jOG7bQBSo9SsFvttARRdddNEN3EB2hsS8nV3cQKj1KwVqrdxA2WSTTTb93EAK1PqVAk3dQDtDYt7OnN1AbLLJJpvs3UCdITFvZzzeQM6QmLczjN5AAAAAAADc3kA=\",\"dtype\":\"float64\",\"shape\":[100]},\"y\":{\"__ndarray__\":\"AAAAAAAAJEC9MIa8Je8hQPHe0VZlCCNAxX8E0gleI0At2uq924YjQEJ9EyJpniNA0+DQ0ImtI0DF5pCW9LcjQFZe4Ut+vyNAaJ1hASjFI0AcshaxickjQCcSJnICzSNA7XyIf9DPI0B31NEaHtIjQHPUTd0I1CNAA7ubEqbVI0D+yx1pBdcjQEjc7Kky2CNAYy3w2TbZI0Buo7v8GNojQEBBMZve2iNAOISTIYzbI0AnumIjJdwjQO7tRo2s3CNASUe2yCTdI0DRltDXj90jQDOw+2nv3SNA+FTi60TeI0DPNNaTkd4jQHtOiWvW3iNAWALCVxTfI0CC+HoeTN8jQFJR7mt+3yNAToFl1qvfI0Beprfh1N8jQB8s/QH63yNAcDSgnRvgI0BtVCoPOuAjQHoHW6dV4CNABhffrW7gI0DZBbdiheAjQLazHf+Z4CNAUtJbtqzgI0ArF3e2veAjQKLkzCjN4CNANpiqMtvgI0AsNJT15+AjQLrV2I/z4CNA+oDYHP7gI0DyN1O1B+EjQNFvrm8Q4SNAj/YyYBjhI0DvBkOZH+EjQB88iism4SNAAM8oJizhI0BWuNmWMeEjQO/6FIo24SNAsmEuCzvhI0ApInEkP+EjQLLsON9C4SNAkbkHREbhI0BZT5paSeEjQMK7+ylM4SNAMTmNuE7hI0DrBzUMUeEjQEr+GipT4SNAY8c9F1XhI0Da6ODXVuEjQDz6FHBY4SNAFB1241nhI0AIxFU1W+EjQPEut2hc4SNAjqtYgF3hI0Bkkrl+XuEjQCzIH2Zf4SNAZQidOGDhI0AIdhP4YOEjQDfzOaZh4SNATP2fRGLhI0ATL7HUYuEjQEl0uFdj4SNAXPrizmPhI0B03EI7ZOEjQJ3d0Z1k4SNADtdx92ThI0COnPJIZeEjQNRvD5Nl4SNAJFN21mXhI0BHhLkTZuEjQC1GfEtm4SNAdokOfmbhI0D08y6sZuEjQNwNFtZm4SNAOuch/GbhI0DYaLoeZ+EjQOS8MT5n4SNAG5nKWmfhI0DNYgx1Z+EjQBZiioxn4SNAeAH2oWfhI0A=\",\"dtype\":\"float64\",\"shape\":[100]}},\"selected\":{\"id\":\"8326\",\"type\":\"Selection\"},\"selection_policy\":{\"id\":\"8327\",\"type\":\"UnionRenderers\"}},\"id\":\"8026\",\"type\":\"ColumnDataSource\"},{\"attributes\":{\"active_drag\":\"auto\",\"active_inspect\":\"auto\",\"active_multi\":null,\"active_scroll\":\"auto\",\"active_tap\":\"auto\",\"tools\":[{\"id\":\"7986\",\"type\":\"PanTool\"},{\"id\":\"7987\",\"type\":\"WheelZoomTool\"},{\"id\":\"7988\",\"type\":\"BoxZoomTool\"},{\"id\":\"7989\",\"type\":\"SaveTool\"},{\"id\":\"7990\",\"type\":\"ResetTool\"},{\"id\":\"7991\",\"type\":\"HelpTool\"}]},\"id\":\"7992\",\"type\":\"Toolbar\"}],\"root_ids\":[\"7965\"]},\"title\":\"Bokeh Application\",\"version\":\"1.4.0\"}};\n",
       "  var render_items = [{\"docid\":\"54d34b21-1926-4bc0-82f8-9eb54b5861ff\",\"roots\":{\"7965\":\"ea4c542d-6ec6-437e-b590-58d6060f60b7\"}}];\n",
       "  root.Bokeh.embed.embed_items_notebook(docs_json, render_items);\n",
       "\n",
       "  }\n",
       "  if (root.Bokeh !== undefined) {\n",
       "    embed_document(root);\n",
       "  } else {\n",
       "    var attempts = 0;\n",
       "    var timer = setInterval(function(root) {\n",
       "      if (root.Bokeh !== undefined) {\n",
       "        clearInterval(timer);\n",
       "        embed_document(root);\n",
       "      } else {\n",
       "        attempts++;\n",
       "        if (attempts > 100) {\n",
       "          clearInterval(timer);\n",
       "          console.log(\"Bokeh: ERROR: Unable to run BokehJS code because BokehJS library is missing\");\n",
       "        }\n",
       "      }\n",
       "    }, 10, root)\n",
       "  }\n",
       "})(window);"
      ],
      "application/vnd.bokehjs_exec.v0+json": ""
     },
     "metadata": {
      "application/vnd.bokehjs_exec.v0+json": {
       "id": "7965"
      }
     },
     "output_type": "display_data"
    }
   ],
   "source": [
    "p = bokeh.plotting.figure(width = 450, height = 350, title = 'with ATP Synthase, Proton Pump, ATP Use',\n",
    "                          x_axis_label = 'time (sec)',\n",
    "                          y_axis_label = 'concentration (nM)')\n",
    "p.line(timepoints, results_25[ATP_id_25], color = palette[0], line_width = 2, legend_label = '25')\n",
    "p.line(timepoints, results_37[ATP_id_37], color = palette[1], line_width = 2, legend_label = '37')\n",
    "p.line(timepoints, results_100[ATP_id_100], color = palette[2], line_width = 2, legend_label = '100')\n",
    "p.legend.click_policy = 'hide'\n",
    "bokeh.io.show(p)"
   ]
  },
  {
   "cell_type": "code",
   "execution_count": null,
   "metadata": {},
   "outputs": [],
   "source": []
  }
 ],
 "metadata": {
  "kernelspec": {
   "display_name": "Python 3",
   "language": "python",
   "name": "python3"
  },
  "language_info": {
   "codemirror_mode": {
    "name": "ipython",
    "version": 3
   },
   "file_extension": ".py",
   "mimetype": "text/x-python",
   "name": "python",
   "nbconvert_exporter": "python",
   "pygments_lexer": "ipython3",
   "version": "3.7.7"
  }
 },
 "nbformat": 4,
 "nbformat_minor": 4
}
