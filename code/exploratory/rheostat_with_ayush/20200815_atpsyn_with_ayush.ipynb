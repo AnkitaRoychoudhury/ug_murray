{
 "cells": [
  {
   "cell_type": "markdown",
   "metadata": {},
   "source": [
    "# ATP Synthase with transcription temperature regulation\n",
    "---"
   ]
  },
  {
   "cell_type": "code",
   "execution_count": 1,
   "metadata": {},
   "outputs": [
    {
     "data": {
      "text/html": [
       "\n",
       "    <div class=\"bk-root\">\n",
       "        <a href=\"https://bokeh.org\" target=\"_blank\" class=\"bk-logo bk-logo-small bk-logo-notebook\"></a>\n",
       "        <span id=\"1001\">Loading BokehJS ...</span>\n",
       "    </div>"
      ]
     },
     "metadata": {},
     "output_type": "display_data"
    },
    {
     "data": {
      "application/javascript": [
       "\n",
       "(function(root) {\n",
       "  function now() {\n",
       "    return new Date();\n",
       "  }\n",
       "\n",
       "  var force = true;\n",
       "\n",
       "  if (typeof root._bokeh_onload_callbacks === \"undefined\" || force === true) {\n",
       "    root._bokeh_onload_callbacks = [];\n",
       "    root._bokeh_is_loading = undefined;\n",
       "  }\n",
       "\n",
       "  var JS_MIME_TYPE = 'application/javascript';\n",
       "  var HTML_MIME_TYPE = 'text/html';\n",
       "  var EXEC_MIME_TYPE = 'application/vnd.bokehjs_exec.v0+json';\n",
       "  var CLASS_NAME = 'output_bokeh rendered_html';\n",
       "\n",
       "  /**\n",
       "   * Render data to the DOM node\n",
       "   */\n",
       "  function render(props, node) {\n",
       "    var script = document.createElement(\"script\");\n",
       "    node.appendChild(script);\n",
       "  }\n",
       "\n",
       "  /**\n",
       "   * Handle when an output is cleared or removed\n",
       "   */\n",
       "  function handleClearOutput(event, handle) {\n",
       "    var cell = handle.cell;\n",
       "\n",
       "    var id = cell.output_area._bokeh_element_id;\n",
       "    var server_id = cell.output_area._bokeh_server_id;\n",
       "    // Clean up Bokeh references\n",
       "    if (id != null && id in Bokeh.index) {\n",
       "      Bokeh.index[id].model.document.clear();\n",
       "      delete Bokeh.index[id];\n",
       "    }\n",
       "\n",
       "    if (server_id !== undefined) {\n",
       "      // Clean up Bokeh references\n",
       "      var cmd = \"from bokeh.io.state import curstate; print(curstate().uuid_to_server['\" + server_id + \"'].get_sessions()[0].document.roots[0]._id)\";\n",
       "      cell.notebook.kernel.execute(cmd, {\n",
       "        iopub: {\n",
       "          output: function(msg) {\n",
       "            var id = msg.content.text.trim();\n",
       "            if (id in Bokeh.index) {\n",
       "              Bokeh.index[id].model.document.clear();\n",
       "              delete Bokeh.index[id];\n",
       "            }\n",
       "          }\n",
       "        }\n",
       "      });\n",
       "      // Destroy server and session\n",
       "      var cmd = \"import bokeh.io.notebook as ion; ion.destroy_server('\" + server_id + \"')\";\n",
       "      cell.notebook.kernel.execute(cmd);\n",
       "    }\n",
       "  }\n",
       "\n",
       "  /**\n",
       "   * Handle when a new output is added\n",
       "   */\n",
       "  function handleAddOutput(event, handle) {\n",
       "    var output_area = handle.output_area;\n",
       "    var output = handle.output;\n",
       "\n",
       "    // limit handleAddOutput to display_data with EXEC_MIME_TYPE content only\n",
       "    if ((output.output_type != \"display_data\") || (!output.data.hasOwnProperty(EXEC_MIME_TYPE))) {\n",
       "      return\n",
       "    }\n",
       "\n",
       "    var toinsert = output_area.element.find(\".\" + CLASS_NAME.split(' ')[0]);\n",
       "\n",
       "    if (output.metadata[EXEC_MIME_TYPE][\"id\"] !== undefined) {\n",
       "      toinsert[toinsert.length - 1].firstChild.textContent = output.data[JS_MIME_TYPE];\n",
       "      // store reference to embed id on output_area\n",
       "      output_area._bokeh_element_id = output.metadata[EXEC_MIME_TYPE][\"id\"];\n",
       "    }\n",
       "    if (output.metadata[EXEC_MIME_TYPE][\"server_id\"] !== undefined) {\n",
       "      var bk_div = document.createElement(\"div\");\n",
       "      bk_div.innerHTML = output.data[HTML_MIME_TYPE];\n",
       "      var script_attrs = bk_div.children[0].attributes;\n",
       "      for (var i = 0; i < script_attrs.length; i++) {\n",
       "        toinsert[toinsert.length - 1].firstChild.setAttribute(script_attrs[i].name, script_attrs[i].value);\n",
       "      }\n",
       "      // store reference to server id on output_area\n",
       "      output_area._bokeh_server_id = output.metadata[EXEC_MIME_TYPE][\"server_id\"];\n",
       "    }\n",
       "  }\n",
       "\n",
       "  function register_renderer(events, OutputArea) {\n",
       "\n",
       "    function append_mime(data, metadata, element) {\n",
       "      // create a DOM node to render to\n",
       "      var toinsert = this.create_output_subarea(\n",
       "        metadata,\n",
       "        CLASS_NAME,\n",
       "        EXEC_MIME_TYPE\n",
       "      );\n",
       "      this.keyboard_manager.register_events(toinsert);\n",
       "      // Render to node\n",
       "      var props = {data: data, metadata: metadata[EXEC_MIME_TYPE]};\n",
       "      render(props, toinsert[toinsert.length - 1]);\n",
       "      element.append(toinsert);\n",
       "      return toinsert\n",
       "    }\n",
       "\n",
       "    /* Handle when an output is cleared or removed */\n",
       "    events.on('clear_output.CodeCell', handleClearOutput);\n",
       "    events.on('delete.Cell', handleClearOutput);\n",
       "\n",
       "    /* Handle when a new output is added */\n",
       "    events.on('output_added.OutputArea', handleAddOutput);\n",
       "\n",
       "    /**\n",
       "     * Register the mime type and append_mime function with output_area\n",
       "     */\n",
       "    OutputArea.prototype.register_mime_type(EXEC_MIME_TYPE, append_mime, {\n",
       "      /* Is output safe? */\n",
       "      safe: true,\n",
       "      /* Index of renderer in `output_area.display_order` */\n",
       "      index: 0\n",
       "    });\n",
       "  }\n",
       "\n",
       "  // register the mime type if in Jupyter Notebook environment and previously unregistered\n",
       "  if (root.Jupyter !== undefined) {\n",
       "    var events = require('base/js/events');\n",
       "    var OutputArea = require('notebook/js/outputarea').OutputArea;\n",
       "\n",
       "    if (OutputArea.prototype.mime_types().indexOf(EXEC_MIME_TYPE) == -1) {\n",
       "      register_renderer(events, OutputArea);\n",
       "    }\n",
       "  }\n",
       "\n",
       "  \n",
       "  if (typeof (root._bokeh_timeout) === \"undefined\" || force === true) {\n",
       "    root._bokeh_timeout = Date.now() + 5000;\n",
       "    root._bokeh_failed_load = false;\n",
       "  }\n",
       "\n",
       "  var NB_LOAD_WARNING = {'data': {'text/html':\n",
       "     \"<div style='background-color: #fdd'>\\n\"+\n",
       "     \"<p>\\n\"+\n",
       "     \"BokehJS does not appear to have successfully loaded. If loading BokehJS from CDN, this \\n\"+\n",
       "     \"may be due to a slow or bad network connection. Possible fixes:\\n\"+\n",
       "     \"</p>\\n\"+\n",
       "     \"<ul>\\n\"+\n",
       "     \"<li>re-rerun `output_notebook()` to attempt to load from CDN again, or</li>\\n\"+\n",
       "     \"<li>use INLINE resources instead, as so:</li>\\n\"+\n",
       "     \"</ul>\\n\"+\n",
       "     \"<code>\\n\"+\n",
       "     \"from bokeh.resources import INLINE\\n\"+\n",
       "     \"output_notebook(resources=INLINE)\\n\"+\n",
       "     \"</code>\\n\"+\n",
       "     \"</div>\"}};\n",
       "\n",
       "  function display_loaded() {\n",
       "    var el = document.getElementById(\"1001\");\n",
       "    if (el != null) {\n",
       "      el.textContent = \"BokehJS is loading...\";\n",
       "    }\n",
       "    if (root.Bokeh !== undefined) {\n",
       "      if (el != null) {\n",
       "        el.textContent = \"BokehJS \" + root.Bokeh.version + \" successfully loaded.\";\n",
       "      }\n",
       "    } else if (Date.now() < root._bokeh_timeout) {\n",
       "      setTimeout(display_loaded, 100)\n",
       "    }\n",
       "  }\n",
       "\n",
       "\n",
       "  function run_callbacks() {\n",
       "    try {\n",
       "      root._bokeh_onload_callbacks.forEach(function(callback) {\n",
       "        if (callback != null)\n",
       "          callback();\n",
       "      });\n",
       "    } finally {\n",
       "      delete root._bokeh_onload_callbacks\n",
       "    }\n",
       "    console.debug(\"Bokeh: all callbacks have finished\");\n",
       "  }\n",
       "\n",
       "  function load_libs(css_urls, js_urls, callback) {\n",
       "    if (css_urls == null) css_urls = [];\n",
       "    if (js_urls == null) js_urls = [];\n",
       "\n",
       "    root._bokeh_onload_callbacks.push(callback);\n",
       "    if (root._bokeh_is_loading > 0) {\n",
       "      console.debug(\"Bokeh: BokehJS is being loaded, scheduling callback at\", now());\n",
       "      return null;\n",
       "    }\n",
       "    if (js_urls == null || js_urls.length === 0) {\n",
       "      run_callbacks();\n",
       "      return null;\n",
       "    }\n",
       "    console.debug(\"Bokeh: BokehJS not loaded, scheduling load and callback at\", now());\n",
       "    root._bokeh_is_loading = css_urls.length + js_urls.length;\n",
       "\n",
       "    function on_load() {\n",
       "      root._bokeh_is_loading--;\n",
       "      if (root._bokeh_is_loading === 0) {\n",
       "        console.debug(\"Bokeh: all BokehJS libraries/stylesheets loaded\");\n",
       "        run_callbacks()\n",
       "      }\n",
       "    }\n",
       "\n",
       "    function on_error() {\n",
       "      console.error(\"failed to load \" + url);\n",
       "    }\n",
       "\n",
       "    for (var i = 0; i < css_urls.length; i++) {\n",
       "      var url = css_urls[i];\n",
       "      const element = document.createElement(\"link\");\n",
       "      element.onload = on_load;\n",
       "      element.onerror = on_error;\n",
       "      element.rel = \"stylesheet\";\n",
       "      element.type = \"text/css\";\n",
       "      element.href = url;\n",
       "      console.debug(\"Bokeh: injecting link tag for BokehJS stylesheet: \", url);\n",
       "      document.body.appendChild(element);\n",
       "    }\n",
       "\n",
       "    for (var i = 0; i < js_urls.length; i++) {\n",
       "      var url = js_urls[i];\n",
       "      var element = document.createElement('script');\n",
       "      element.onload = on_load;\n",
       "      element.onerror = on_error;\n",
       "      element.async = false;\n",
       "      element.src = url;\n",
       "      console.debug(\"Bokeh: injecting script tag for BokehJS library: \", url);\n",
       "      document.head.appendChild(element);\n",
       "    }\n",
       "  };var element = document.getElementById(\"1001\");\n",
       "  if (element == null) {\n",
       "    console.error(\"Bokeh: ERROR: autoload.js configured with elementid '1001' but no matching script tag was found. \")\n",
       "    return false;\n",
       "  }\n",
       "\n",
       "  function inject_raw_css(css) {\n",
       "    const element = document.createElement(\"style\");\n",
       "    element.appendChild(document.createTextNode(css));\n",
       "    document.body.appendChild(element);\n",
       "  }\n",
       "\n",
       "  \n",
       "  var js_urls = [\"https://cdn.pydata.org/bokeh/release/bokeh-1.4.0.min.js\", \"https://cdn.pydata.org/bokeh/release/bokeh-widgets-1.4.0.min.js\", \"https://cdn.pydata.org/bokeh/release/bokeh-tables-1.4.0.min.js\", \"https://cdn.pydata.org/bokeh/release/bokeh-gl-1.4.0.min.js\"];\n",
       "  var css_urls = [];\n",
       "  \n",
       "\n",
       "  var inline_js = [\n",
       "    function(Bokeh) {\n",
       "      Bokeh.set_log_level(\"info\");\n",
       "    },\n",
       "    function(Bokeh) {\n",
       "    \n",
       "    \n",
       "    }\n",
       "  ];\n",
       "\n",
       "  function run_inline_js() {\n",
       "    \n",
       "    if (root.Bokeh !== undefined || force === true) {\n",
       "      \n",
       "    for (var i = 0; i < inline_js.length; i++) {\n",
       "      inline_js[i].call(root, root.Bokeh);\n",
       "    }\n",
       "    if (force === true) {\n",
       "        display_loaded();\n",
       "      }} else if (Date.now() < root._bokeh_timeout) {\n",
       "      setTimeout(run_inline_js, 100);\n",
       "    } else if (!root._bokeh_failed_load) {\n",
       "      console.log(\"Bokeh: BokehJS failed to load within specified timeout.\");\n",
       "      root._bokeh_failed_load = true;\n",
       "    } else if (force !== true) {\n",
       "      var cell = $(document.getElementById(\"1001\")).parents('.cell').data().cell;\n",
       "      cell.output_area.append_execute_result(NB_LOAD_WARNING)\n",
       "    }\n",
       "\n",
       "  }\n",
       "\n",
       "  if (root._bokeh_is_loading === 0) {\n",
       "    console.debug(\"Bokeh: BokehJS loaded, going straight to plotting\");\n",
       "    run_inline_js();\n",
       "  } else {\n",
       "    load_libs(css_urls, js_urls, function() {\n",
       "      console.debug(\"Bokeh: BokehJS plotting callback run at\", now());\n",
       "      run_inline_js();\n",
       "    });\n",
       "  }\n",
       "}(window));"
      ],
      "application/vnd.bokehjs_load.v0+json": "\n(function(root) {\n  function now() {\n    return new Date();\n  }\n\n  var force = true;\n\n  if (typeof root._bokeh_onload_callbacks === \"undefined\" || force === true) {\n    root._bokeh_onload_callbacks = [];\n    root._bokeh_is_loading = undefined;\n  }\n\n  \n\n  \n  if (typeof (root._bokeh_timeout) === \"undefined\" || force === true) {\n    root._bokeh_timeout = Date.now() + 5000;\n    root._bokeh_failed_load = false;\n  }\n\n  var NB_LOAD_WARNING = {'data': {'text/html':\n     \"<div style='background-color: #fdd'>\\n\"+\n     \"<p>\\n\"+\n     \"BokehJS does not appear to have successfully loaded. If loading BokehJS from CDN, this \\n\"+\n     \"may be due to a slow or bad network connection. Possible fixes:\\n\"+\n     \"</p>\\n\"+\n     \"<ul>\\n\"+\n     \"<li>re-rerun `output_notebook()` to attempt to load from CDN again, or</li>\\n\"+\n     \"<li>use INLINE resources instead, as so:</li>\\n\"+\n     \"</ul>\\n\"+\n     \"<code>\\n\"+\n     \"from bokeh.resources import INLINE\\n\"+\n     \"output_notebook(resources=INLINE)\\n\"+\n     \"</code>\\n\"+\n     \"</div>\"}};\n\n  function display_loaded() {\n    var el = document.getElementById(\"1001\");\n    if (el != null) {\n      el.textContent = \"BokehJS is loading...\";\n    }\n    if (root.Bokeh !== undefined) {\n      if (el != null) {\n        el.textContent = \"BokehJS \" + root.Bokeh.version + \" successfully loaded.\";\n      }\n    } else if (Date.now() < root._bokeh_timeout) {\n      setTimeout(display_loaded, 100)\n    }\n  }\n\n\n  function run_callbacks() {\n    try {\n      root._bokeh_onload_callbacks.forEach(function(callback) {\n        if (callback != null)\n          callback();\n      });\n    } finally {\n      delete root._bokeh_onload_callbacks\n    }\n    console.debug(\"Bokeh: all callbacks have finished\");\n  }\n\n  function load_libs(css_urls, js_urls, callback) {\n    if (css_urls == null) css_urls = [];\n    if (js_urls == null) js_urls = [];\n\n    root._bokeh_onload_callbacks.push(callback);\n    if (root._bokeh_is_loading > 0) {\n      console.debug(\"Bokeh: BokehJS is being loaded, scheduling callback at\", now());\n      return null;\n    }\n    if (js_urls == null || js_urls.length === 0) {\n      run_callbacks();\n      return null;\n    }\n    console.debug(\"Bokeh: BokehJS not loaded, scheduling load and callback at\", now());\n    root._bokeh_is_loading = css_urls.length + js_urls.length;\n\n    function on_load() {\n      root._bokeh_is_loading--;\n      if (root._bokeh_is_loading === 0) {\n        console.debug(\"Bokeh: all BokehJS libraries/stylesheets loaded\");\n        run_callbacks()\n      }\n    }\n\n    function on_error() {\n      console.error(\"failed to load \" + url);\n    }\n\n    for (var i = 0; i < css_urls.length; i++) {\n      var url = css_urls[i];\n      const element = document.createElement(\"link\");\n      element.onload = on_load;\n      element.onerror = on_error;\n      element.rel = \"stylesheet\";\n      element.type = \"text/css\";\n      element.href = url;\n      console.debug(\"Bokeh: injecting link tag for BokehJS stylesheet: \", url);\n      document.body.appendChild(element);\n    }\n\n    for (var i = 0; i < js_urls.length; i++) {\n      var url = js_urls[i];\n      var element = document.createElement('script');\n      element.onload = on_load;\n      element.onerror = on_error;\n      element.async = false;\n      element.src = url;\n      console.debug(\"Bokeh: injecting script tag for BokehJS library: \", url);\n      document.head.appendChild(element);\n    }\n  };var element = document.getElementById(\"1001\");\n  if (element == null) {\n    console.error(\"Bokeh: ERROR: autoload.js configured with elementid '1001' but no matching script tag was found. \")\n    return false;\n  }\n\n  function inject_raw_css(css) {\n    const element = document.createElement(\"style\");\n    element.appendChild(document.createTextNode(css));\n    document.body.appendChild(element);\n  }\n\n  \n  var js_urls = [\"https://cdn.pydata.org/bokeh/release/bokeh-1.4.0.min.js\", \"https://cdn.pydata.org/bokeh/release/bokeh-widgets-1.4.0.min.js\", \"https://cdn.pydata.org/bokeh/release/bokeh-tables-1.4.0.min.js\", \"https://cdn.pydata.org/bokeh/release/bokeh-gl-1.4.0.min.js\"];\n  var css_urls = [];\n  \n\n  var inline_js = [\n    function(Bokeh) {\n      Bokeh.set_log_level(\"info\");\n    },\n    function(Bokeh) {\n    \n    \n    }\n  ];\n\n  function run_inline_js() {\n    \n    if (root.Bokeh !== undefined || force === true) {\n      \n    for (var i = 0; i < inline_js.length; i++) {\n      inline_js[i].call(root, root.Bokeh);\n    }\n    if (force === true) {\n        display_loaded();\n      }} else if (Date.now() < root._bokeh_timeout) {\n      setTimeout(run_inline_js, 100);\n    } else if (!root._bokeh_failed_load) {\n      console.log(\"Bokeh: BokehJS failed to load within specified timeout.\");\n      root._bokeh_failed_load = true;\n    } else if (force !== true) {\n      var cell = $(document.getElementById(\"1001\")).parents('.cell').data().cell;\n      cell.output_area.append_execute_result(NB_LOAD_WARNING)\n    }\n\n  }\n\n  if (root._bokeh_is_loading === 0) {\n    console.debug(\"Bokeh: BokehJS loaded, going straight to plotting\");\n    run_inline_js();\n  } else {\n    load_libs(css_urls, js_urls, function() {\n      console.debug(\"Bokeh: BokehJS plotting callback run at\", now());\n      run_inline_js();\n    });\n  }\n}(window));"
     },
     "metadata": {},
     "output_type": "display_data"
    }
   ],
   "source": [
    "from biocrnpyler import *\n",
    "#from biocrnpyler.chemical_reaction_network import Species, Reaction, ComplexSpecies, Multimer\n",
    "import numpy as np\n",
    "#import pylab as plt \n",
    "#%matplotlib inline\n",
    "\n",
    "import bokeh.io\n",
    "import bokeh.plotting\n",
    "from bokeh.layouts import row\n",
    "\n",
    "bokeh.io.output_notebook()\n",
    "\n",
    "import colorcet\n",
    "\n",
    "from subsbml import createNewSubsystem, createSubsystem"
   ]
  },
  {
   "cell_type": "code",
   "execution_count": 2,
   "metadata": {},
   "outputs": [],
   "source": [
    "palette = colorcet.b_glasbey_category10\n",
    "palette.remove( '#d62628')"
   ]
  },
  {
   "cell_type": "markdown",
   "metadata": {},
   "source": [
    "## Combine at 25 C\n",
    "---"
   ]
  },
  {
   "cell_type": "code",
   "execution_count": 29,
   "metadata": {},
   "outputs": [],
   "source": [
    "# atp synthase models\n",
    "ss1_atpsyn_txtl = createSubsystem('atpsyn_25temp_machinery_txtl.xml', subsystemName = 'atpsyn_txtl')\n",
    "ss2_atpsyn_mi = createSubsystem('atpsynthase_membrane_integration.xml', subsystemName = 'atpsyn_mi')\n",
    "ss3_atpsynthesis = createSubsystem('atp_synthesis_through_atpsynthase.xml', subsystemName = 'atpsynthesis')\n",
    "ss4_atp_use = createSubsystem('atp_50_use.xml', subsystemName = 'atp_use')"
   ]
  },
  {
   "cell_type": "code",
   "execution_count": 30,
   "metadata": {},
   "outputs": [],
   "source": [
    "#ss5_pp_txtl = createSubsystem('proton_pump_tx_tl.xml', subsystemName = 'pp_txtl')\n",
    "ss5_pp_txtl = createSubsystem('proton_pump_25temp_machinery_txtl.xml', subsystemName = 'pp_txtl')\n",
    "ss6_pp_mi = createSubsystem('proton_pump_membrane_integration.xml', subsystemName = 'pp_mi')\n",
    "ss7_protontransport = createSubsystem('proton_transport_through_proton_pump.xml', subsystemName = 'protontransport')"
   ]
  },
  {
   "cell_type": "code",
   "execution_count": 31,
   "metadata": {},
   "outputs": [],
   "source": [
    "entire_subsystem = ss1_atpsyn_txtl + ss2_atpsyn_mi + ss3_atpsynthesis + ss4_atp_use + ss5_pp_txtl + ss6_pp_mi + ss7_protontransport"
   ]
  },
  {
   "cell_type": "code",
   "execution_count": 32,
   "metadata": {},
   "outputs": [],
   "source": [
    "# Initial conditions\n",
    "spec_list_10 = ['dna_proton_pump', 'dna_atpsyn','proton_outside_H', 'metabolite_atp','protein_RNAP_machinery', \n",
    "                'protein_Ribo_machinery', 'protein_RNAse_machinery']\n",
    "for i,spec in enumerate(spec_list_10):\n",
    "    entire_subsystem.setSpeciesAmount(spec,10)\n",
    "\n",
    "\n",
    "# timepoints and get results\n",
    "# timepoints = np.linspace(0,10,100)\n",
    "# results, _ = entire_subsystem.simulateWithBioscrape(timepoints, sbml_warnings = False)\n",
    "\n",
    "# Get species IDs\n",
    "ATP_id_25 = entire_subsystem.getSpeciesByName('metabolite_atp').getId()\n",
    "ADP_id = entire_subsystem.getSpeciesByName('metabolite_adp').getId()\n",
    "\n",
    "outside_H_id = entire_subsystem.getSpeciesByName('proton_outside_H').getId()\n",
    "inside_H_id = entire_subsystem.getSpeciesByName('proton_inside_H').getId()\n",
    "\n",
    "proton_pump_b_protein_id_25 = entire_subsystem.getSpeciesByName('protein_proton_pump_b').getId()\n",
    "proton_pump_f_protein_id = entire_subsystem.getSpeciesByName('protein_proton_pump').getId()\n",
    "\n",
    "atp_synthase_b_protein_id_25 = entire_subsystem.getSpeciesByName('protein_atpsyn_b').getId()\n",
    "atp_synthase_f_protein_id = entire_subsystem.getSpeciesByName('protein_atpsyn').getId()\n",
    "\n"
   ]
  },
  {
   "cell_type": "code",
   "execution_count": 33,
   "metadata": {},
   "outputs": [],
   "source": [
    "timepoints = np.linspace(0,800,100)\n",
    "results_25, _ = entire_subsystem.simulateWithBioscrape(timepoints, sbml_warnings = False)"
   ]
  },
  {
   "cell_type": "code",
   "execution_count": 34,
   "metadata": {},
   "outputs": [
    {
     "data": {
      "text/html": [
       "\n",
       "\n",
       "\n",
       "\n",
       "\n",
       "\n",
       "  <div class=\"bk-root\" id=\"ff6c478d-e790-4ea9-9197-bce28f3532a0\" data-root-id=\"2534\"></div>\n"
      ]
     },
     "metadata": {},
     "output_type": "display_data"
    },
    {
     "data": {
      "application/javascript": [
       "(function(root) {\n",
       "  function embed_document(root) {\n",
       "    \n",
       "  var docs_json = {\"7ecb3dcc-2789-4899-8408-06e294bd5cfa\":{\"roots\":{\"references\":[{\"attributes\":{\"below\":[{\"id\":\"2545\",\"type\":\"LinearAxis\"}],\"center\":[{\"id\":\"2549\",\"type\":\"Grid\"},{\"id\":\"2554\",\"type\":\"Grid\"},{\"id\":\"2579\",\"type\":\"Legend\"}],\"left\":[{\"id\":\"2550\",\"type\":\"LinearAxis\"}],\"plot_height\":350,\"plot_width\":450,\"renderers\":[{\"id\":\"2571\",\"type\":\"GlyphRenderer\"},{\"id\":\"2584\",\"type\":\"GlyphRenderer\"},{\"id\":\"2598\",\"type\":\"GlyphRenderer\"},{\"id\":\"2614\",\"type\":\"GlyphRenderer\"},{\"id\":\"2632\",\"type\":\"GlyphRenderer\"}],\"title\":{\"id\":\"2535\",\"type\":\"Title\"},\"toolbar\":{\"id\":\"2561\",\"type\":\"Toolbar\"},\"x_range\":{\"id\":\"2537\",\"type\":\"DataRange1d\"},\"x_scale\":{\"id\":\"2541\",\"type\":\"LinearScale\"},\"y_range\":{\"id\":\"2539\",\"type\":\"DataRange1d\"},\"y_scale\":{\"id\":\"2543\",\"type\":\"LinearScale\"}},\"id\":\"2534\",\"subtype\":\"Figure\",\"type\":\"Plot\"},{\"attributes\":{\"line_alpha\":0.1,\"line_color\":\"#1f77b4\",\"line_width\":2,\"x\":{\"field\":\"x\"},\"y\":{\"field\":\"y\"}},\"id\":\"2583\",\"type\":\"Line\"},{\"attributes\":{\"source\":{\"id\":\"2629\",\"type\":\"ColumnDataSource\"}},\"id\":\"2633\",\"type\":\"CDSView\"},{\"attributes\":{\"dimension\":1,\"ticker\":{\"id\":\"2551\",\"type\":\"BasicTicker\"}},\"id\":\"2554\",\"type\":\"Grid\"},{\"attributes\":{\"axis_label\":\"time (sec)\",\"formatter\":{\"id\":\"2575\",\"type\":\"BasicTickFormatter\"},\"ticker\":{\"id\":\"2546\",\"type\":\"BasicTicker\"}},\"id\":\"2545\",\"type\":\"LinearAxis\"},{\"attributes\":{\"line_color\":\"#ff7e0e\",\"line_width\":2,\"x\":{\"field\":\"x\"},\"y\":{\"field\":\"y\"}},\"id\":\"2582\",\"type\":\"Line\"},{\"attributes\":{\"source\":{\"id\":\"2595\",\"type\":\"ColumnDataSource\"}},\"id\":\"2599\",\"type\":\"CDSView\"},{\"attributes\":{},\"id\":\"2575\",\"type\":\"BasicTickFormatter\"},{\"attributes\":{\"ticker\":{\"id\":\"2546\",\"type\":\"BasicTicker\"}},\"id\":\"2549\",\"type\":\"Grid\"},{\"attributes\":{\"data_source\":{\"id\":\"2629\",\"type\":\"ColumnDataSource\"},\"glyph\":{\"id\":\"2630\",\"type\":\"Line\"},\"hover_glyph\":null,\"muted_glyph\":null,\"nonselection_glyph\":{\"id\":\"2631\",\"type\":\"Line\"},\"selection_glyph\":null,\"view\":{\"id\":\"2633\",\"type\":\"CDSView\"}},\"id\":\"2632\",\"type\":\"GlyphRenderer\"},{\"attributes\":{\"line_alpha\":0.1,\"line_color\":\"#1f77b4\",\"line_width\":2,\"x\":{\"field\":\"x\"},\"y\":{\"field\":\"y\"}},\"id\":\"2570\",\"type\":\"Line\"},{\"attributes\":{},\"id\":\"2551\",\"type\":\"BasicTicker\"},{\"attributes\":{\"axis_label\":\"concentration (nM)\",\"formatter\":{\"id\":\"2577\",\"type\":\"BasicTickFormatter\"},\"ticker\":{\"id\":\"2551\",\"type\":\"BasicTicker\"}},\"id\":\"2550\",\"type\":\"LinearAxis\"},{\"attributes\":{\"source\":{\"id\":\"2568\",\"type\":\"ColumnDataSource\"}},\"id\":\"2572\",\"type\":\"CDSView\"},{\"attributes\":{\"callback\":null,\"data\":{\"x\":{\"__ndarray__\":\"AAAAAAAAAAB/pUCtXykgQH+lQK1fKTBAPvjggw8+OEB/pUCtXylAQN/OkJi3M0RAPvjggw8+SECeITFvZ0hMQH+lQK1fKVBAL7rooosuUkDfzpCYtzNUQI/jOI7jOFZAPvjggw8+WEDuDIl5O0NaQJ4hMW9nSFxATjbZZJNNXkB/pUCtXylgQNevFKj1K2FAL7rooosuYkCHxLydITFjQN/OkJi3M2RAN9lkk002ZUCP4ziO4zhmQOftDIl5O2dAPvjggw8+aECWArV+pUBpQO4MiXk7Q2pARhdddNFFa0CeITFvZ0hsQPYrBWr9Sm1ATjbZZJNNbkCmQK1fKVBvQH+lQK1fKXBAq6qqqqqqcEDXrxSo9StxQAO1fqVArXFAL7rooosuckBbv1Kg1q9yQIfEvJ0hMXNAs8kmm2yyc0DfzpCYtzN0QAvU+pUCtXRAN9lkk002dUBj3s6QmLd1QI/jOI7jOHZAu+iiiy66dkDn7QyJeTt3QBPzdobEvHdAPvjggw8+eEBq/UqBWr94QJYCtX6lQHlAwgcffPDBeUDuDIl5O0N6QBoS83aGxHpARhdddNFFe0ByHMdxHMd7QJ4hMW9nSHxAyiabbLLJfED2KwVq/Up9QCIxb2dIzH1ATjbZZJNNfkB6O0Ni3s5+QKZArV8pUH9A0kUXXXTRf0B/pUCtXymAQBWo9SsFaoBAq6qqqqqqgEBBrV8pUOuAQNevFKj1K4FAbbLJJptsgUADtX6lQK2BQJm3MyTm7YFAL7rooosugkDFvJ0hMW+CQFu/UqDWr4JA8cEHH3zwgkCHxLydITGDQB3HcRzHcYNAs8kmm2yyg0BJzNsZEvODQN/OkJi3M4RAddFFF110hEAL1PqVArWEQKHWrxSo9YRAN9lkk002hUDN2xkS83aFQGPezpCYt4VA+eCDDz74hUCP4ziO4ziGQCXm7QyJeYZAu+iiiy66hkBR61cK1PqGQOftDIl5O4dAffDBBx98h0AT83aGxLyHQKn1KwVq/YdAPvjggw8+iEDU+pUCtX6IQGr9SoFav4hAAAAAAAAAiUA=\",\"dtype\":\"float64\",\"shape\":[100]},\"y\":{\"__ndarray__\":\"AAAAAAAAAADgwfNyQnxYP+Br5WhIYpU/orwdt3Yltz/cVpi9ZTPOP6kGiVWsSN0/4SV3QNxj5z84MZ+fg2bwP0FMG3zCDfU/U4acrTpv+T/b2pX8THL9P/4A3ImliABApZnyMBkoAkAKjtklmpsDQCXSjpXn5wRAjEXhVLERBkC71iABSB0HQPK5xSaBDghAELzmp7ToCECsMuxpxa4JQEaXd1guYwpAnG5UHRAIC0A0TsIjPp8LQNA4MCxKKgxAuPjLWY6qDECqR3C9NSENQB/8motDjw1Abs9gLZn1DUAR1QhK+1QOQA4K+REWrg5AeRxZu4ABD0ANlO2IwE8PQMuLEU1LmQ9AiT98gIneD0ALDIMF7A8QQN7FpefELhBAzLivd/RLEEDzxe7zm2cQQIpaXkDZgRBADfvYTceaEEBpd5B1frIQQObdGMMUyRBAF5bfN57eEEBMsJkFLfMQQNph/sHRBhFAgNOGkpsZEUDHBbhPmCsRQJXqnqvUPBFA1KY5T1xNEUAC1xrwOV0RQO2ehW93bBFAzMGH5x17EUBUysvCNYkRQKZ/6srGlhFAxGisNtijEUALF3W3cLARQMEasoeWvBFA/1R9bk/IEUANsh7ToNMRQB5S7ruP3hFAACrS2yDpEUDWLqeXWPMRQEyslww7/RFAEo51FcwGEkC2NZxQDxASQMUkSCQIGRJAra40wrkhEkCeZIYuJyoSQGBY0T1TMhJAYyrHnkA6EkBB37XX8UESQPUOEk1pSRJAvfD/QalQEkDEkCvbs1cSQBSH5CCLXhJAi274ADFlEkCDOXxQp2sSQJYPZ83vcRJAVzqdIAx4EkBOqWbd/X0SQGHExYXGgxJAOaYQiWeJEkDbGRFG4o4SQNfV4gs4lBJAZjngGmqZEkCbMXyleZ4SQI2779BnoxJArZ5EtjWoEkDb1Zxi5KwSQBRyJ9h0sRJAdtdoDui1EkB7mB/zProSQDr8y2p6vhJAo8loUJvCEkDgRLR2osYSQDm0GqmQyhJAq0zmqWbOEkB4AI40JdISQE3pF//M1RJAtBoTtl7ZEkA=\",\"dtype\":\"float64\",\"shape\":[100]}},\"selected\":{\"id\":\"2627\",\"type\":\"Selection\"},\"selection_policy\":{\"id\":\"2626\",\"type\":\"UnionRenderers\"}},\"id\":\"2595\",\"type\":\"ColumnDataSource\"},{\"attributes\":{},\"id\":\"2577\",\"type\":\"BasicTickFormatter\"},{\"attributes\":{\"callback\":null,\"data\":{\"x\":{\"__ndarray__\":\"AAAAAAAAAAB/pUCtXykgQH+lQK1fKTBAPvjggw8+OEB/pUCtXylAQN/OkJi3M0RAPvjggw8+SECeITFvZ0hMQH+lQK1fKVBAL7rooosuUkDfzpCYtzNUQI/jOI7jOFZAPvjggw8+WEDuDIl5O0NaQJ4hMW9nSFxATjbZZJNNXkB/pUCtXylgQNevFKj1K2FAL7rooosuYkCHxLydITFjQN/OkJi3M2RAN9lkk002ZUCP4ziO4zhmQOftDIl5O2dAPvjggw8+aECWArV+pUBpQO4MiXk7Q2pARhdddNFFa0CeITFvZ0hsQPYrBWr9Sm1ATjbZZJNNbkCmQK1fKVBvQH+lQK1fKXBAq6qqqqqqcEDXrxSo9StxQAO1fqVArXFAL7rooosuckBbv1Kg1q9yQIfEvJ0hMXNAs8kmm2yyc0DfzpCYtzN0QAvU+pUCtXRAN9lkk002dUBj3s6QmLd1QI/jOI7jOHZAu+iiiy66dkDn7QyJeTt3QBPzdobEvHdAPvjggw8+eEBq/UqBWr94QJYCtX6lQHlAwgcffPDBeUDuDIl5O0N6QBoS83aGxHpARhdddNFFe0ByHMdxHMd7QJ4hMW9nSHxAyiabbLLJfED2KwVq/Up9QCIxb2dIzH1ATjbZZJNNfkB6O0Ni3s5+QKZArV8pUH9A0kUXXXTRf0B/pUCtXymAQBWo9SsFaoBAq6qqqqqqgEBBrV8pUOuAQNevFKj1K4FAbbLJJptsgUADtX6lQK2BQJm3MyTm7YFAL7rooosugkDFvJ0hMW+CQFu/UqDWr4JA8cEHH3zwgkCHxLydITGDQB3HcRzHcYNAs8kmm2yyg0BJzNsZEvODQN/OkJi3M4RAddFFF110hEAL1PqVArWEQKHWrxSo9YRAN9lkk002hUDN2xkS83aFQGPezpCYt4VA+eCDDz74hUCP4ziO4ziGQCXm7QyJeYZAu+iiiy66hkBR61cK1PqGQOftDIl5O4dAffDBBx98h0AT83aGxLyHQKn1KwVq/YdAPvjggw8+iEDU+pUCtX6IQGr9SoFav4hAAAAAAAAAiUA=\",\"dtype\":\"float64\",\"shape\":[100]},\"y\":{\"__ndarray__\":\"AAAAAAAAJEBcaOwdPP8jQEONy9tO9SNAgMSRErXRI0CenglpMocjQMW3U526FSNAoI34O8KJIkDXGQyML/MhQHaWfLBHXiFANW9MqhjSIECmRG1gtlEgQIb/ETutux9AMrOGZ/PrHkD9OBPtMjIeQO6WODUMjB1AOF2PVSf3HEChlG//W3EcQAYjnWy/+BtA96EMrKWLG0Cp5glLnSgbQFw0xNNozhpAschV8fd7GkDm2B7uYDAaQJbj5+na6hlAogMa07iqGUAp3EchZW8ZQO+BMjpeOBlAR5hPaTMFGUB2lftagtUYQPd6A/f0qBhAwnFToj9/GED4NYm7H1gYQBo6d1laMxhAOuDBP7sQGED083z6E/AXQCE6Whg70RdAM0dQiAu0F0AMOhEMZJgXQHWlob8mfhdA8gQnsjhlF0CWiG+KgU0XQBki5zzrNhdA6GkgyGEhF0CzT2b60gwXQCWeAT4u+RZAfyx5bWTmFkA4+kewZ9QWQGoVYVQrwxZAK1nGsKOyFkD9KOUPxqIWQBJhepCIkxZAMz54GOKEFkCrNTQ9ynYWQFmAFTU5aRZAO5dTySdcFkD06IpIj08WQD7lTXhpQxZAAKuCkbA3FkDyTeEsXywWQOGtEURwIRZA/9UtJN8WFkAp0VhopwwWQLNTaPPEAhZA7XGK6jP5FUBJymOv8O8VQDrbt9v35hVAUlHLPUbeFUBhm3nR2NUVQJ+nLsKszRVAnNU4Yb/FFUC+IEooDr4VQArx7bKWthVAQg8AvlavFUA7b9QkTKgVQOt4G990oRVAdJEH/86aFUB8xoOvWJQVQGnwmDIQjhVAqMVi3/OHFUCxVpkiAoIVQJ47Ono5fBVAxlnvdph2FUAk5u65HXEVQCgqHfTHaxVAmcYf5ZVmFUBkzoNahmEVQHJEEC+YXBVAUmG7ScpXFUAkKmOdG1MVQOuN2CeLThVAiSiX8RdKFUCEZ+AMwUUVQMUDNJWFQRVAXDaXr2Q9FUAfu0uJXTkVQMZL5VZvNRVAVLMZVpkxFUCH/3HL2i0VQLIW6AAzKhVAS+XsSaEmFUA=\",\"dtype\":\"float64\",\"shape\":[100]}},\"selected\":{\"id\":\"2609\",\"type\":\"Selection\"},\"selection_policy\":{\"id\":\"2608\",\"type\":\"UnionRenderers\"}},\"id\":\"2581\",\"type\":\"ColumnDataSource\"},{\"attributes\":{},\"id\":\"2592\",\"type\":\"UnionRenderers\"},{\"attributes\":{\"line_color\":\"#1f77b3\",\"line_width\":2,\"x\":{\"field\":\"x\"},\"y\":{\"field\":\"y\"}},\"id\":\"2569\",\"type\":\"Line\"},{\"attributes\":{},\"id\":\"2626\",\"type\":\"UnionRenderers\"},{\"attributes\":{\"callback\":null,\"data\":{\"x\":{\"__ndarray__\":\"AAAAAAAAAAB/pUCtXykgQH+lQK1fKTBAPvjggw8+OEB/pUCtXylAQN/OkJi3M0RAPvjggw8+SECeITFvZ0hMQH+lQK1fKVBAL7rooosuUkDfzpCYtzNUQI/jOI7jOFZAPvjggw8+WEDuDIl5O0NaQJ4hMW9nSFxATjbZZJNNXkB/pUCtXylgQNevFKj1K2FAL7rooosuYkCHxLydITFjQN/OkJi3M2RAN9lkk002ZUCP4ziO4zhmQOftDIl5O2dAPvjggw8+aECWArV+pUBpQO4MiXk7Q2pARhdddNFFa0CeITFvZ0hsQPYrBWr9Sm1ATjbZZJNNbkCmQK1fKVBvQH+lQK1fKXBAq6qqqqqqcEDXrxSo9StxQAO1fqVArXFAL7rooosuckBbv1Kg1q9yQIfEvJ0hMXNAs8kmm2yyc0DfzpCYtzN0QAvU+pUCtXRAN9lkk002dUBj3s6QmLd1QI/jOI7jOHZAu+iiiy66dkDn7QyJeTt3QBPzdobEvHdAPvjggw8+eEBq/UqBWr94QJYCtX6lQHlAwgcffPDBeUDuDIl5O0N6QBoS83aGxHpARhdddNFFe0ByHMdxHMd7QJ4hMW9nSHxAyiabbLLJfED2KwVq/Up9QCIxb2dIzH1ATjbZZJNNfkB6O0Ni3s5+QKZArV8pUH9A0kUXXXTRf0B/pUCtXymAQBWo9SsFaoBAq6qqqqqqgEBBrV8pUOuAQNevFKj1K4FAbbLJJptsgUADtX6lQK2BQJm3MyTm7YFAL7rooosugkDFvJ0hMW+CQFu/UqDWr4JA8cEHH3zwgkCHxLydITGDQB3HcRzHcYNAs8kmm2yyg0BJzNsZEvODQN/OkJi3M4RAddFFF110hEAL1PqVArWEQKHWrxSo9YRAN9lkk002hUDN2xkS83aFQGPezpCYt4VA+eCDDz74hUCP4ziO4ziGQCXm7QyJeYZAu+iiiy66hkBR61cK1PqGQOftDIl5O4dAffDBBx98h0AT83aGxLyHQKn1KwVq/YdAPvjggw8+iEDU+pUCtX6IQGr9SoFav4hAAAAAAAAAiUA=\",\"dtype\":\"float64\",\"shape\":[100]},\"y\":{\"__ndarray__\":\"AAAAAAAAAADzEAx+Jx+5PtNBeo+tI/Y+qX0P/VTQGD+g9TAB+nExP00lBlsoCUM/VGSTrlu4UT8faiNOoJldP8M/THR122Y//ZtNzQWjcD96hHuiCCF3P1/Ia3bc/n4/sM8Ij0QohD/+MibSx5OJPyh47XSyyY8/xbejq3Zokz+ddFj33VeXPx1cy1bwtZs/Nrb/tq5CoD9u31W5V+SiP6s4CH0qwaU/3UOTcVTaqD9p90Bc/DCsP4r2JOhExq8/MY8hWafNsT9w57n4nNizP8lMAOOTBLY/fj5xox1SuD8mmWcrzcG6P6ksoiU3VL0/wi6YG/kEwD/wOTGYy3HBPxnNH5jg8MI/sYFZ3oaCxD9TrelnDifGP+Ihvm7I3sc/6TahZweqyT9eGv78HonLP3ECCgZkfM0/9XBGeiyEzz/MVA2xZ9DQP20GEmJS6dE/9h3pxwIN0z8reXDCpTvUP+ueBYxoddU/luyQqni61j816jjfAwvYP2iepRQ4Z9k/ERxmTEPP2j+C3S2LU0PcP8W2psOWw90/KEGQwDpQ3z9PaAuHtnTgP8R+KXGtR+E/gWqYghgh4j/WcNrbDQHjP7pKz02j5+M/Y8zsTO7U5D9kIZTkA8nlPy9snar4w+Y/Bcy4suDF5z/BFw6Dz87oP2l/NwfY3uk/DNYbhQz26j/ppYKRfhTsP9f1PwU/Ou0/K+rr8l1n7j/6EpWd6pvvP95GJ7f5a/A/0DV59sIN8T/n2e1bV7PxPzoVT768XPI/RyazePgJ8z/ogKBnD7vzP8uikOYFcPQ/Yi/Ezd8o9T99kTxwoOX1P+OaOppKpvY/RLFEkOBq9z8oA90NZDP4P70mRUXW//g//z9V3zfQ+T/eYUj7iKT6P7smFS/JfPs/T075h/dY/D/ryUqLEjn9P/VRYTcYHf4/2HbMBAYF/z8ME9rn2PD/P8WaGqlGcABA/lpJmg/qAEBvTEUAxWUBQPuMUVVk4wFAm5dE1upiAkCS4a+DVeQCQAw7DiOhZwNAzwb+P8rsA0DRpootzXMEQFLrgAem/ARAuP/Ks1CHBUA=\",\"dtype\":\"float64\",\"shape\":[100]}},\"selected\":{\"id\":\"2756\",\"type\":\"Selection\"},\"selection_policy\":{\"id\":\"2755\",\"type\":\"UnionRenderers\"}},\"id\":\"2629\",\"type\":\"ColumnDataSource\"},{\"attributes\":{},\"id\":\"2627\",\"type\":\"Selection\"},{\"attributes\":{},\"id\":\"2756\",\"type\":\"Selection\"},{\"attributes\":{\"label\":{\"value\":\"bound proton pump\"},\"renderers\":[{\"id\":\"2632\",\"type\":\"GlyphRenderer\"}]},\"id\":\"2648\",\"type\":\"LegendItem\"},{\"attributes\":{\"line_alpha\":0.1,\"line_color\":\"#1f77b4\",\"line_width\":2,\"x\":{\"field\":\"x\"},\"y\":{\"field\":\"y\"}},\"id\":\"2597\",\"type\":\"Line\"},{\"attributes\":{\"label\":{\"value\":\"atp\"},\"renderers\":[{\"id\":\"2571\",\"type\":\"GlyphRenderer\"}]},\"id\":\"2580\",\"type\":\"LegendItem\"},{\"attributes\":{\"callback\":null,\"data\":{\"x\":{\"__ndarray__\":\"AAAAAAAAAAB/pUCtXykgQH+lQK1fKTBAPvjggw8+OEB/pUCtXylAQN/OkJi3M0RAPvjggw8+SECeITFvZ0hMQH+lQK1fKVBAL7rooosuUkDfzpCYtzNUQI/jOI7jOFZAPvjggw8+WEDuDIl5O0NaQJ4hMW9nSFxATjbZZJNNXkB/pUCtXylgQNevFKj1K2FAL7rooosuYkCHxLydITFjQN/OkJi3M2RAN9lkk002ZUCP4ziO4zhmQOftDIl5O2dAPvjggw8+aECWArV+pUBpQO4MiXk7Q2pARhdddNFFa0CeITFvZ0hsQPYrBWr9Sm1ATjbZZJNNbkCmQK1fKVBvQH+lQK1fKXBAq6qqqqqqcEDXrxSo9StxQAO1fqVArXFAL7rooosuckBbv1Kg1q9yQIfEvJ0hMXNAs8kmm2yyc0DfzpCYtzN0QAvU+pUCtXRAN9lkk002dUBj3s6QmLd1QI/jOI7jOHZAu+iiiy66dkDn7QyJeTt3QBPzdobEvHdAPvjggw8+eEBq/UqBWr94QJYCtX6lQHlAwgcffPDBeUDuDIl5O0N6QBoS83aGxHpARhdddNFFe0ByHMdxHMd7QJ4hMW9nSHxAyiabbLLJfED2KwVq/Up9QCIxb2dIzH1ATjbZZJNNfkB6O0Ni3s5+QKZArV8pUH9A0kUXXXTRf0B/pUCtXymAQBWo9SsFaoBAq6qqqqqqgEBBrV8pUOuAQNevFKj1K4FAbbLJJptsgUADtX6lQK2BQJm3MyTm7YFAL7rooosugkDFvJ0hMW+CQFu/UqDWr4JA8cEHH3zwgkCHxLydITGDQB3HcRzHcYNAs8kmm2yyg0BJzNsZEvODQN/OkJi3M4RAddFFF110hEAL1PqVArWEQKHWrxSo9YRAN9lkk002hUDN2xkS83aFQGPezpCYt4VA+eCDDz74hUCP4ziO4ziGQCXm7QyJeYZAu+iiiy66hkBR61cK1PqGQOftDIl5O4dAffDBBx98h0AT83aGxLyHQKn1KwVq/YdAPvjggw8+iEDU+pUCtX6IQGr9SoFav4hAAAAAAAAAiUA=\",\"dtype\":\"float64\",\"shape\":[100]},\"y\":{\"__ndarray__\":\"AAAAAAAAAADVDwx+Jx+5PqhBeo+tI/Y+kn0P/VTQGD+X9TAB+nExP0glBlsoCUM/UGSTrlu4UT8aaiNOoJldP8E/THR122Y//JtNzQWjcD95hHuiCCF3P17Ia3bc/n4/sM8Ij0QohD/+MibSx5OJPyh47XSyyY8/xLejq3Zokz+bdFj33VeXPxtcy1bwtZs/Nbb/tq5CoD9t31W5V+SiP6k4CH0qwaU/2kOTcVTaqD9m90Bc/DCsP4j2JOhExq8/L48hWafNsT9u57n4nNizP8hMAOOTBLY/fT5xox1SuD8lmWcrzcG6P6gsoiU3VL0/wS6YG/kEwD/vOTGYy3HBPxjNH5jg8MI/sIFZ3oaCxD9TrelnDifGP+Ehvm7I3sc/5zahZweqyT9cGv78HonLP24CCgZkfM0/83BGeiyEzz/LVA2xZ9DQP2wGEmJS6dE/9B3pxwIN0z8peXDCpTvUP+ieBYxoddU/k+yQqni61j8y6jjfAwvYP2WepRQ4Z9k/DhxmTEPP2j9/3S2LU0PcP8K2psOWw90/JUGQwDpQ3z9NaAuHtnTgP8J+KXGtR+E/f2qYghgh4j/UcNrbDQHjP7hKz02j5+M/YczsTO7U5D9iIZTkA8nlPyxsnar4w+Y/Asy4suDF5z++Fw6Dz87oP2Z/NwfY3uk/CdYbhQz26j/mpYKRfhTsP9X1PwU/Ou0/Kerr8l1n7j/4EpWd6pvvP91GJ7f5a/A/zzV59sIN8T/m2e1bV7PxPzkVT768XPI/RiazePgJ8z/mgKBnD7vzP8uikOYFcPQ/Yi/Ezd8o9T99kTxwoOX1P+WaOppKpvY/RLFEkOBq9z8pA90NZDP4P74mRUXW//g/AEBV3zfQ+T/fYUj7iKT6P70mFS/JfPs/UU75h/dY/D/uyUqLEjn9P/hRYTcYHf4/2nbMBAYF/z8PE9rn2PD/P8aaGqlGcABA/1pJmg/qAEBwTEUAxWUBQPuMUVVk4wFAm5dE1upiAkCR4a+DVeQCQAw7DiOhZwNAzwb+P8rsA0DRpootzXMEQFLrgAem/ARAuP/Ks1CHBUA=\",\"dtype\":\"float64\",\"shape\":[100]}},\"selected\":{\"id\":\"2647\",\"type\":\"Selection\"},\"selection_policy\":{\"id\":\"2646\",\"type\":\"UnionRenderers\"}},\"id\":\"2611\",\"type\":\"ColumnDataSource\"},{\"attributes\":{\"line_alpha\":0.1,\"line_color\":\"#1f77b4\",\"line_width\":2,\"x\":{\"field\":\"x\"},\"y\":{\"field\":\"y\"}},\"id\":\"2631\",\"type\":\"Line\"},{\"attributes\":{},\"id\":\"2647\",\"type\":\"Selection\"},{\"attributes\":{\"active_drag\":\"auto\",\"active_inspect\":\"auto\",\"active_multi\":null,\"active_scroll\":\"auto\",\"active_tap\":\"auto\",\"tools\":[{\"id\":\"2555\",\"type\":\"PanTool\"},{\"id\":\"2556\",\"type\":\"WheelZoomTool\"},{\"id\":\"2557\",\"type\":\"BoxZoomTool\"},{\"id\":\"2558\",\"type\":\"SaveTool\"},{\"id\":\"2559\",\"type\":\"ResetTool\"},{\"id\":\"2560\",\"type\":\"HelpTool\"}]},\"id\":\"2561\",\"type\":\"Toolbar\"},{\"attributes\":{\"label\":{\"value\":\"inside_H\"},\"renderers\":[{\"id\":\"2598\",\"type\":\"GlyphRenderer\"}]},\"id\":\"2610\",\"type\":\"LegendItem\"},{\"attributes\":{\"data_source\":{\"id\":\"2568\",\"type\":\"ColumnDataSource\"},\"glyph\":{\"id\":\"2569\",\"type\":\"Line\"},\"hover_glyph\":null,\"muted_glyph\":null,\"nonselection_glyph\":{\"id\":\"2570\",\"type\":\"Line\"},\"selection_glyph\":null,\"view\":{\"id\":\"2572\",\"type\":\"CDSView\"}},\"id\":\"2571\",\"type\":\"GlyphRenderer\"},{\"attributes\":{\"data_source\":{\"id\":\"2595\",\"type\":\"ColumnDataSource\"},\"glyph\":{\"id\":\"2596\",\"type\":\"Line\"},\"hover_glyph\":null,\"muted_glyph\":null,\"nonselection_glyph\":{\"id\":\"2597\",\"type\":\"Line\"},\"selection_glyph\":null,\"view\":{\"id\":\"2599\",\"type\":\"CDSView\"}},\"id\":\"2598\",\"type\":\"GlyphRenderer\"},{\"attributes\":{\"text\":\"with ATP Synthase, Proton Pump, ATP Use\"},\"id\":\"2535\",\"type\":\"Title\"},{\"attributes\":{\"label\":{\"value\":\"bound atp synthase\"},\"renderers\":[{\"id\":\"2614\",\"type\":\"GlyphRenderer\"}]},\"id\":\"2628\",\"type\":\"LegendItem\"},{\"attributes\":{\"data_source\":{\"id\":\"2611\",\"type\":\"ColumnDataSource\"},\"glyph\":{\"id\":\"2612\",\"type\":\"Line\"},\"hover_glyph\":null,\"muted_glyph\":null,\"nonselection_glyph\":{\"id\":\"2613\",\"type\":\"Line\"},\"selection_glyph\":null,\"view\":{\"id\":\"2615\",\"type\":\"CDSView\"}},\"id\":\"2614\",\"type\":\"GlyphRenderer\"},{\"attributes\":{\"callback\":null,\"data\":{\"x\":{\"__ndarray__\":\"AAAAAAAAAAB/pUCtXykgQH+lQK1fKTBAPvjggw8+OEB/pUCtXylAQN/OkJi3M0RAPvjggw8+SECeITFvZ0hMQH+lQK1fKVBAL7rooosuUkDfzpCYtzNUQI/jOI7jOFZAPvjggw8+WEDuDIl5O0NaQJ4hMW9nSFxATjbZZJNNXkB/pUCtXylgQNevFKj1K2FAL7rooosuYkCHxLydITFjQN/OkJi3M2RAN9lkk002ZUCP4ziO4zhmQOftDIl5O2dAPvjggw8+aECWArV+pUBpQO4MiXk7Q2pARhdddNFFa0CeITFvZ0hsQPYrBWr9Sm1ATjbZZJNNbkCmQK1fKVBvQH+lQK1fKXBAq6qqqqqqcEDXrxSo9StxQAO1fqVArXFAL7rooosuckBbv1Kg1q9yQIfEvJ0hMXNAs8kmm2yyc0DfzpCYtzN0QAvU+pUCtXRAN9lkk002dUBj3s6QmLd1QI/jOI7jOHZAu+iiiy66dkDn7QyJeTt3QBPzdobEvHdAPvjggw8+eEBq/UqBWr94QJYCtX6lQHlAwgcffPDBeUDuDIl5O0N6QBoS83aGxHpARhdddNFFe0ByHMdxHMd7QJ4hMW9nSHxAyiabbLLJfED2KwVq/Up9QCIxb2dIzH1ATjbZZJNNfkB6O0Ni3s5+QKZArV8pUH9A0kUXXXTRf0B/pUCtXymAQBWo9SsFaoBAq6qqqqqqgEBBrV8pUOuAQNevFKj1K4FAbbLJJptsgUADtX6lQK2BQJm3MyTm7YFAL7rooosugkDFvJ0hMW+CQFu/UqDWr4JA8cEHH3zwgkCHxLydITGDQB3HcRzHcYNAs8kmm2yyg0BJzNsZEvODQN/OkJi3M4RAddFFF110hEAL1PqVArWEQKHWrxSo9YRAN9lkk002hUDN2xkS83aFQGPezpCYt4VA+eCDDz74hUCP4ziO4ziGQCXm7QyJeYZAu+iiiy66hkBR61cK1PqGQOftDIl5O4dAffDBBx98h0AT83aGxLyHQKn1KwVq/YdAPvjggw8+iEDU+pUCtX6IQGr9SoFav4hAAAAAAAAAiUA=\",\"dtype\":\"float64\",\"shape\":[100]},\"y\":{\"__ndarray__\":\"AAAAAAAAJEB7B4J2GkhoP/814N9WTKU/lpLxjJcWxz9jyZhDNSbePwaZ3Jq1P+0/2Zhb2L1e9z9dHX1p5GMAQEujMtA9CwVA7yMdy+VsCUBrTzE8L3ANQOxnACWyhxBA+KvHaT8nEkBe+XFx15oTQBxhgks55xRAfvjl8RQRFkAZj65BuxwXQAATMw4CDhhAglhAfEHoGEA2Zg2wXK4ZQDXJicrOYhpAEmO7o7gHG0CRmXXO7Z4bQByFjiwAKhxAbTes/UmqHEBvNUtq9iAdQIgYGLwIjx1A9Q1TbGL1HUDYanI0yFQeQG/mXUrmrR5A/7LB9FMBH0DJ4/V9lk8fQEE1U8AjmR9AKW0dO2TeH0BkNklu2g8gQBBJLEa0LiBANmaCuORLIEDz8ZYFjWcgQLkUIhPLgSBAl26K07maIEBD9V6hcbIgQIqzPokIySBA3ljHjZLeIEDCnufhIfMgQH8a3RvHBiFAsm65YZEZIUB+zwSNjishQOYDS1DLPCFAZUn8VFNNIUB+Sm1RMV0hQOOx6iZvbCFAYH9q8BV7IUCd7kcYLokhQBaAamm/liFAvWmrGdGjIUD7R2XcabAhQGBv2umPvCFAYUJNDEnIIUCDDH+omtMhQHJOhsaJ3iFAPf0qGRvpIUAuGGEFU/MhQM/fgqg1/SFAlQGA3cYGIkAf59NCChAiQJX82D4DGSJAEddoA7UhIkA8lbmUIioiQP0ZhMdOMiJAXeuCSjw6IkC6jh6k7UEiQNhc3jhlSSJAevX3S6VQIkDCciYCsFciQDc+yWOHXiJA7V68Xi1lIkDFuSHIo2siQBIl/V3scSJAO9U8yQh4IkCt9TWd+n0iQCTn9VvDgyJAykDZdGSJIkBtBbRG344iQBJyqiA1lCJAx9oeQ2eZIkCqpIvgdp4iQM/xMB5loyJAv9YeFTOoIkA4QH7S4awiQMIohFhysSJA6YW5nuW1IkCLKeOSPLoiQORQiBl4viJAFDmlDZnCIkC/dvpBoMYiQKmKAoKOyiJAlBQLkGTOIkDAJHYnI9IiQOIyaP7K1SJA90p4wVzZIkA=\",\"dtype\":\"float64\",\"shape\":[100]}},\"selected\":{\"id\":\"2593\",\"type\":\"Selection\"},\"selection_policy\":{\"id\":\"2592\",\"type\":\"UnionRenderers\"}},\"id\":\"2568\",\"type\":\"ColumnDataSource\"},{\"attributes\":{\"source\":{\"id\":\"2581\",\"type\":\"ColumnDataSource\"}},\"id\":\"2585\",\"type\":\"CDSView\"},{\"attributes\":{\"line_color\":\"#2ba02b\",\"line_width\":2,\"x\":{\"field\":\"x\"},\"y\":{\"field\":\"y\"}},\"id\":\"2596\",\"type\":\"Line\"},{\"attributes\":{\"callback\":null},\"id\":\"2537\",\"type\":\"DataRange1d\"},{\"attributes\":{},\"id\":\"2555\",\"type\":\"PanTool\"},{\"attributes\":{\"source\":{\"id\":\"2611\",\"type\":\"ColumnDataSource\"}},\"id\":\"2615\",\"type\":\"CDSView\"},{\"attributes\":{\"line_color\":\"#8c564b\",\"line_width\":2,\"x\":{\"field\":\"x\"},\"y\":{\"field\":\"y\"}},\"id\":\"2630\",\"type\":\"Line\"},{\"attributes\":{},\"id\":\"2593\",\"type\":\"Selection\"},{\"attributes\":{},\"id\":\"2755\",\"type\":\"UnionRenderers\"},{\"attributes\":{\"click_policy\":\"hide\",\"items\":[{\"id\":\"2580\",\"type\":\"LegendItem\"},{\"id\":\"2594\",\"type\":\"LegendItem\"},{\"id\":\"2610\",\"type\":\"LegendItem\"},{\"id\":\"2628\",\"type\":\"LegendItem\"},{\"id\":\"2648\",\"type\":\"LegendItem\"}],\"location\":\"center_right\"},\"id\":\"2579\",\"type\":\"Legend\"},{\"attributes\":{},\"id\":\"2556\",\"type\":\"WheelZoomTool\"},{\"attributes\":{},\"id\":\"2560\",\"type\":\"HelpTool\"},{\"attributes\":{\"line_color\":\"#9367bc\",\"line_width\":2,\"x\":{\"field\":\"x\"},\"y\":{\"field\":\"y\"}},\"id\":\"2612\",\"type\":\"Line\"},{\"attributes\":{\"overlay\":{\"id\":\"2578\",\"type\":\"BoxAnnotation\"}},\"id\":\"2557\",\"type\":\"BoxZoomTool\"},{\"attributes\":{\"callback\":null},\"id\":\"2539\",\"type\":\"DataRange1d\"},{\"attributes\":{},\"id\":\"2646\",\"type\":\"UnionRenderers\"},{\"attributes\":{},\"id\":\"2558\",\"type\":\"SaveTool\"},{\"attributes\":{\"line_alpha\":0.1,\"line_color\":\"#1f77b4\",\"line_width\":2,\"x\":{\"field\":\"x\"},\"y\":{\"field\":\"y\"}},\"id\":\"2613\",\"type\":\"Line\"},{\"attributes\":{},\"id\":\"2608\",\"type\":\"UnionRenderers\"},{\"attributes\":{},\"id\":\"2541\",\"type\":\"LinearScale\"},{\"attributes\":{},\"id\":\"2559\",\"type\":\"ResetTool\"},{\"attributes\":{},\"id\":\"2543\",\"type\":\"LinearScale\"},{\"attributes\":{\"label\":{\"value\":\"outside_H\"},\"renderers\":[{\"id\":\"2584\",\"type\":\"GlyphRenderer\"}]},\"id\":\"2594\",\"type\":\"LegendItem\"},{\"attributes\":{\"bottom_units\":\"screen\",\"fill_alpha\":{\"value\":0.5},\"fill_color\":{\"value\":\"lightgrey\"},\"left_units\":\"screen\",\"level\":\"overlay\",\"line_alpha\":{\"value\":1.0},\"line_color\":{\"value\":\"black\"},\"line_dash\":[4,4],\"line_width\":{\"value\":2},\"render_mode\":\"css\",\"right_units\":\"screen\",\"top_units\":\"screen\"},\"id\":\"2578\",\"type\":\"BoxAnnotation\"},{\"attributes\":{},\"id\":\"2609\",\"type\":\"Selection\"},{\"attributes\":{},\"id\":\"2546\",\"type\":\"BasicTicker\"},{\"attributes\":{\"data_source\":{\"id\":\"2581\",\"type\":\"ColumnDataSource\"},\"glyph\":{\"id\":\"2582\",\"type\":\"Line\"},\"hover_glyph\":null,\"muted_glyph\":null,\"nonselection_glyph\":{\"id\":\"2583\",\"type\":\"Line\"},\"selection_glyph\":null,\"view\":{\"id\":\"2585\",\"type\":\"CDSView\"}},\"id\":\"2584\",\"type\":\"GlyphRenderer\"}],\"root_ids\":[\"2534\"]},\"title\":\"Bokeh Application\",\"version\":\"1.4.0\"}};\n",
       "  var render_items = [{\"docid\":\"7ecb3dcc-2789-4899-8408-06e294bd5cfa\",\"roots\":{\"2534\":\"ff6c478d-e790-4ea9-9197-bce28f3532a0\"}}];\n",
       "  root.Bokeh.embed.embed_items_notebook(docs_json, render_items);\n",
       "\n",
       "  }\n",
       "  if (root.Bokeh !== undefined) {\n",
       "    embed_document(root);\n",
       "  } else {\n",
       "    var attempts = 0;\n",
       "    var timer = setInterval(function(root) {\n",
       "      if (root.Bokeh !== undefined) {\n",
       "        clearInterval(timer);\n",
       "        embed_document(root);\n",
       "      } else {\n",
       "        attempts++;\n",
       "        if (attempts > 100) {\n",
       "          clearInterval(timer);\n",
       "          console.log(\"Bokeh: ERROR: Unable to run BokehJS code because BokehJS library is missing\");\n",
       "        }\n",
       "      }\n",
       "    }, 10, root)\n",
       "  }\n",
       "})(window);"
      ],
      "application/vnd.bokehjs_exec.v0+json": ""
     },
     "metadata": {
      "application/vnd.bokehjs_exec.v0+json": {
       "id": "2534"
      }
     },
     "output_type": "display_data"
    }
   ],
   "source": [
    "#plt_timepoints = timepoints/60\n",
    "\n",
    "p3 = bokeh.plotting.figure(width = 450, height = 350, title = 'with ATP Synthase, Proton Pump, ATP Use',\n",
    "                          x_axis_label = 'time (sec)',\n",
    "                          y_axis_label = 'concentration (nM)')\n",
    "plot_list = [ATP_id_25, outside_H_id, inside_H_id, atp_synthase_b_protein_id_25, proton_pump_b_protein_id_25]\n",
    "plot_str = ['atp', 'outside_H', 'inside_H', 'bound atp synthase', 'bound proton pump']\n",
    "for i,item in enumerate(plot_list):\n",
    "    p3.line(timepoints, results_25[item], line_width = 2, legend_label = plot_str[i], color = palette[i])\n",
    "#p3.line(plt_timepoints, results_everything[ATP_id3])\n",
    "p3.legend.click_policy = 'hide'\n",
    "p3.legend.location = 'center_right'\n",
    "\n",
    "bokeh.io.show(p3)\n"
   ]
  },
  {
   "cell_type": "markdown",
   "metadata": {},
   "source": [
    "## Combine at 37 C\n",
    "---"
   ]
  },
  {
   "cell_type": "code",
   "execution_count": 35,
   "metadata": {},
   "outputs": [],
   "source": [
    "# atp synthase models\n",
    "ss1_atpsyn_txtl = createSubsystem('atpsyn_37temp_machinery_txtl.xml', subsystemName = 'atpsyn_txtl')\n",
    "ss2_atpsyn_mi = createSubsystem('atpsynthase_membrane_integration.xml', subsystemName = 'atpsyn_mi')\n",
    "ss3_atpsynthesis = createSubsystem('atp_synthesis_through_atpsynthase.xml', subsystemName = 'atpsynthesis')\n",
    "ss4_atp_use = createSubsystem('atp_50_use.xml', subsystemName = 'atp_use')"
   ]
  },
  {
   "cell_type": "code",
   "execution_count": 36,
   "metadata": {},
   "outputs": [],
   "source": [
    "#ss5_pp_txtl = createSubsystem('proton_pump_tx_tl.xml', subsystemName = 'pp_txtl')\n",
    "ss5_pp_txtl = createSubsystem('proton_pump_37temp_machinery_txtl.xml', subsystemName = 'pp_txtl')\n",
    "ss6_pp_mi = createSubsystem('proton_pump_membrane_integration.xml', subsystemName = 'pp_mi')\n",
    "ss7_protontransport = createSubsystem('proton_transport_through_proton_pump.xml', subsystemName = 'protontransport')"
   ]
  },
  {
   "cell_type": "code",
   "execution_count": 37,
   "metadata": {},
   "outputs": [],
   "source": [
    "entire_subsystem = ss1_atpsyn_txtl + ss2_atpsyn_mi + ss3_atpsynthesis + ss4_atp_use + ss5_pp_txtl + ss6_pp_mi + ss7_protontransport"
   ]
  },
  {
   "cell_type": "code",
   "execution_count": 38,
   "metadata": {},
   "outputs": [],
   "source": [
    "# Initial conditions\n",
    "spec_list_10 = ['dna_proton_pump', 'dna_atpsyn','proton_outside_H', 'metabolite_atp','protein_RNAP_machinery', \n",
    "                'protein_Ribo_machinery', 'protein_RNAse_machinery']\n",
    "for i,spec in enumerate(spec_list_10):\n",
    "    entire_subsystem.setSpeciesAmount(spec,10)\n",
    "\n",
    "\n",
    "# timepoints and get results\n",
    "# timepoints = np.linspace(0,10,100)\n",
    "# results, _ = entire_subsystem.simulateWithBioscrape(timepoints, sbml_warnings = False)\n",
    "\n",
    "# Get species IDs\n",
    "ATP_id_37 = entire_subsystem.getSpeciesByName('metabolite_atp').getId()\n",
    "ADP_id = entire_subsystem.getSpeciesByName('metabolite_adp').getId()\n",
    "\n",
    "outside_H_id = entire_subsystem.getSpeciesByName('proton_outside_H').getId()\n",
    "inside_H_id = entire_subsystem.getSpeciesByName('proton_inside_H').getId()\n",
    "\n",
    "proton_pump_b_protein_id_37  = entire_subsystem.getSpeciesByName('protein_proton_pump_b').getId()\n",
    "proton_pump_f_protein_id = entire_subsystem.getSpeciesByName('protein_proton_pump').getId()\n",
    "\n",
    "atp_synthase_b_protein_id_37 = entire_subsystem.getSpeciesByName('protein_atpsyn_b').getId()\n",
    "atp_synthase_f_protein_id = entire_subsystem.getSpeciesByName('protein_atpsyn').getId()"
   ]
  },
  {
   "cell_type": "code",
   "execution_count": 39,
   "metadata": {},
   "outputs": [
    {
     "name": "stderr",
     "output_type": "stream",
     "text": [
      "odeint failed with mxstep=500..."
     ]
    }
   ],
   "source": [
    "timepoints = np.linspace(0,800,100)\n",
    "results_37, _ = entire_subsystem.simulateWithBioscrape(timepoints, sbml_warnings = False)"
   ]
  },
  {
   "cell_type": "code",
   "execution_count": 40,
   "metadata": {},
   "outputs": [
    {
     "data": {
      "text/html": [
       "\n",
       "\n",
       "\n",
       "\n",
       "\n",
       "\n",
       "  <div class=\"bk-root\" id=\"8ee6a190-e877-4964-a83e-acdb0f52de75\" data-root-id=\"2853\"></div>\n"
      ]
     },
     "metadata": {},
     "output_type": "display_data"
    },
    {
     "data": {
      "application/javascript": [
       "(function(root) {\n",
       "  function embed_document(root) {\n",
       "    \n",
       "  var docs_json = {\"bfdaad44-8c65-4db9-8b0f-f0f6028dc8ef\":{\"roots\":{\"references\":[{\"attributes\":{\"below\":[{\"id\":\"2864\",\"type\":\"LinearAxis\"}],\"center\":[{\"id\":\"2868\",\"type\":\"Grid\"},{\"id\":\"2873\",\"type\":\"Grid\"},{\"id\":\"2898\",\"type\":\"Legend\"}],\"left\":[{\"id\":\"2869\",\"type\":\"LinearAxis\"}],\"plot_height\":350,\"plot_width\":450,\"renderers\":[{\"id\":\"2890\",\"type\":\"GlyphRenderer\"},{\"id\":\"2903\",\"type\":\"GlyphRenderer\"},{\"id\":\"2917\",\"type\":\"GlyphRenderer\"},{\"id\":\"2933\",\"type\":\"GlyphRenderer\"},{\"id\":\"2951\",\"type\":\"GlyphRenderer\"}],\"title\":{\"id\":\"2854\",\"type\":\"Title\"},\"toolbar\":{\"id\":\"2880\",\"type\":\"Toolbar\"},\"x_range\":{\"id\":\"2856\",\"type\":\"DataRange1d\"},\"x_scale\":{\"id\":\"2860\",\"type\":\"LinearScale\"},\"y_range\":{\"id\":\"2858\",\"type\":\"DataRange1d\"},\"y_scale\":{\"id\":\"2862\",\"type\":\"LinearScale\"}},\"id\":\"2853\",\"subtype\":\"Figure\",\"type\":\"Plot\"},{\"attributes\":{\"label\":{\"value\":\"outside_H\"},\"renderers\":[{\"id\":\"2903\",\"type\":\"GlyphRenderer\"}]},\"id\":\"2913\",\"type\":\"LegendItem\"},{\"attributes\":{\"line_color\":\"#9367bc\",\"line_width\":2,\"x\":{\"field\":\"x\"},\"y\":{\"field\":\"y\"}},\"id\":\"2931\",\"type\":\"Line\"},{\"attributes\":{\"data_source\":{\"id\":\"2930\",\"type\":\"ColumnDataSource\"},\"glyph\":{\"id\":\"2931\",\"type\":\"Line\"},\"hover_glyph\":null,\"muted_glyph\":null,\"nonselection_glyph\":{\"id\":\"2932\",\"type\":\"Line\"},\"selection_glyph\":null,\"view\":{\"id\":\"2934\",\"type\":\"CDSView\"}},\"id\":\"2933\",\"type\":\"GlyphRenderer\"},{\"attributes\":{},\"id\":\"2911\",\"type\":\"UnionRenderers\"},{\"attributes\":{\"line_alpha\":0.1,\"line_color\":\"#1f77b4\",\"line_width\":2,\"x\":{\"field\":\"x\"},\"y\":{\"field\":\"y\"}},\"id\":\"2889\",\"type\":\"Line\"},{\"attributes\":{},\"id\":\"2894\",\"type\":\"BasicTickFormatter\"},{\"attributes\":{\"label\":{\"value\":\"inside_H\"},\"renderers\":[{\"id\":\"2917\",\"type\":\"GlyphRenderer\"}]},\"id\":\"2929\",\"type\":\"LegendItem\"},{\"attributes\":{\"line_alpha\":0.1,\"line_color\":\"#1f77b4\",\"line_width\":2,\"x\":{\"field\":\"x\"},\"y\":{\"field\":\"y\"}},\"id\":\"2916\",\"type\":\"Line\"},{\"attributes\":{},\"id\":\"2945\",\"type\":\"UnionRenderers\"},{\"attributes\":{\"active_drag\":\"auto\",\"active_inspect\":\"auto\",\"active_multi\":null,\"active_scroll\":\"auto\",\"active_tap\":\"auto\",\"tools\":[{\"id\":\"2874\",\"type\":\"PanTool\"},{\"id\":\"2875\",\"type\":\"WheelZoomTool\"},{\"id\":\"2876\",\"type\":\"BoxZoomTool\"},{\"id\":\"2877\",\"type\":\"SaveTool\"},{\"id\":\"2878\",\"type\":\"ResetTool\"},{\"id\":\"2879\",\"type\":\"HelpTool\"}]},\"id\":\"2880\",\"type\":\"Toolbar\"},{\"attributes\":{\"callback\":null,\"data\":{\"x\":{\"__ndarray__\":\"AAAAAAAAAAB/pUCtXykgQH+lQK1fKTBAPvjggw8+OEB/pUCtXylAQN/OkJi3M0RAPvjggw8+SECeITFvZ0hMQH+lQK1fKVBAL7rooosuUkDfzpCYtzNUQI/jOI7jOFZAPvjggw8+WEDuDIl5O0NaQJ4hMW9nSFxATjbZZJNNXkB/pUCtXylgQNevFKj1K2FAL7rooosuYkCHxLydITFjQN/OkJi3M2RAN9lkk002ZUCP4ziO4zhmQOftDIl5O2dAPvjggw8+aECWArV+pUBpQO4MiXk7Q2pARhdddNFFa0CeITFvZ0hsQPYrBWr9Sm1ATjbZZJNNbkCmQK1fKVBvQH+lQK1fKXBAq6qqqqqqcEDXrxSo9StxQAO1fqVArXFAL7rooosuckBbv1Kg1q9yQIfEvJ0hMXNAs8kmm2yyc0DfzpCYtzN0QAvU+pUCtXRAN9lkk002dUBj3s6QmLd1QI/jOI7jOHZAu+iiiy66dkDn7QyJeTt3QBPzdobEvHdAPvjggw8+eEBq/UqBWr94QJYCtX6lQHlAwgcffPDBeUDuDIl5O0N6QBoS83aGxHpARhdddNFFe0ByHMdxHMd7QJ4hMW9nSHxAyiabbLLJfED2KwVq/Up9QCIxb2dIzH1ATjbZZJNNfkB6O0Ni3s5+QKZArV8pUH9A0kUXXXTRf0B/pUCtXymAQBWo9SsFaoBAq6qqqqqqgEBBrV8pUOuAQNevFKj1K4FAbbLJJptsgUADtX6lQK2BQJm3MyTm7YFAL7rooosugkDFvJ0hMW+CQFu/UqDWr4JA8cEHH3zwgkCHxLydITGDQB3HcRzHcYNAs8kmm2yyg0BJzNsZEvODQN/OkJi3M4RAddFFF110hEAL1PqVArWEQKHWrxSo9YRAN9lkk002hUDN2xkS83aFQGPezpCYt4VA+eCDDz74hUCP4ziO4ziGQCXm7QyJeYZAu+iiiy66hkBR61cK1PqGQOftDIl5O4dAffDBBx98h0AT83aGxLyHQKn1KwVq/YdAPvjggw8+iEDU+pUCtX6IQGr9SoFav4hAAAAAAAAAiUA=\",\"dtype\":\"float64\",\"shape\":[100]},\"y\":{\"__ndarray__\":\"AAAAAAAAJEDwsHq/+U5yP4MaMp7+ya8/y9umfzzf0D9iHNrD8knlP+a/usRxzPM/4cAeyRxV/j/f5eM7k38EQLboxdXQhQlAMXzgJLIUDkCyug570BERQMsFlB+c3BJAfsonVvVwFEAgDiiMutUVQFes+XxwERdAxob7DeQpGEC2+v8QFiQZQEQNq4BGBBpARysJFgvOGkBCHrg5aIQbQPXFPkroKRxAtciCI7DAHEBXadNjkEodQObIEdYTyR1A2P+qSIs9HkBUJexDF6keQKs+igCwDB9A7peh6StpH0Dj9Fn5RL8fQJdsdpHOByBAsGBD+WAtIEDs0cLLl1AgQELAL7CpcSBAVYy+8MaQIEC4tlpUGq4gQCXe6eLJySBAlgPFgvfjIEBDI3SCwfwgQFEIwgxDFCFASF0njJQqIUBaluz/yz8hQBTp5Ub9UyFAUUuiXjpnIUDLHuuXk3khQAo1tcwXiyFABcdwhNSbIUA3+mQb1qshQO8rZOInuyFAKyLyOtTJIUCXHEGw5NchQLx/Jw1i5SFADnhpb1TyIUDv/h1Zw/4hQFmb4b+1CiJAG9Z6GTIWIkCNKY5pPiEiQCkSr0rgKyJAK9iF+Bw2IkACDBdY+T8iQFQKQ/95SSJAhfKoO6NSIkC2oysYeVsiQCCr7mL/YyJAoApksTlsIkDNGyZlK3QiQHrPza/XeyJAMQwqlkGDIkDseZLza4oiQLPDvnxZkSJA/nNTwgyYIkBmo0oziJ4iQHx9EB/OpCJAB26Ct+CqIkB7a70SwrAiQNcexSx0tiJAJb0V6fi7IkAX5fsTUsEiQIh4AWSBxiJAe6oSe4jLIkBLAlTnaNAiQElAniUk1SJANe6Tn7vZIkCYhuOvMN4iQMx3DaGE4iJAoK6BrrjmIkDaXv8FzuoiQJ7w8cfF7iJAb2z6B6HyIkBunTfNYPYiQPcgehQG+iJA8O3RzpH9IkBmX07jBAEjQG0MNi9gBCNAINpAhqQHI0DxJ2Wz0gojQGTWIHnrDSNALgLJke8QI0BVHoyw3xMjQLRmjX+8FiNAz+wSpYYZI0A=\",\"dtype\":\"float64\",\"shape\":[100]}},\"selected\":{\"id\":\"2912\",\"type\":\"Selection\"},\"selection_policy\":{\"id\":\"2911\",\"type\":\"UnionRenderers\"}},\"id\":\"2887\",\"type\":\"ColumnDataSource\"},{\"attributes\":{\"line_alpha\":0.1,\"line_color\":\"#1f77b4\",\"line_width\":2,\"x\":{\"field\":\"x\"},\"y\":{\"field\":\"y\"}},\"id\":\"2902\",\"type\":\"Line\"},{\"attributes\":{\"source\":{\"id\":\"2948\",\"type\":\"ColumnDataSource\"}},\"id\":\"2952\",\"type\":\"CDSView\"},{\"attributes\":{\"callback\":null,\"data\":{\"x\":{\"__ndarray__\":\"AAAAAAAAAAB/pUCtXykgQH+lQK1fKTBAPvjggw8+OEB/pUCtXylAQN/OkJi3M0RAPvjggw8+SECeITFvZ0hMQH+lQK1fKVBAL7rooosuUkDfzpCYtzNUQI/jOI7jOFZAPvjggw8+WEDuDIl5O0NaQJ4hMW9nSFxATjbZZJNNXkB/pUCtXylgQNevFKj1K2FAL7rooosuYkCHxLydITFjQN/OkJi3M2RAN9lkk002ZUCP4ziO4zhmQOftDIl5O2dAPvjggw8+aECWArV+pUBpQO4MiXk7Q2pARhdddNFFa0CeITFvZ0hsQPYrBWr9Sm1ATjbZZJNNbkCmQK1fKVBvQH+lQK1fKXBAq6qqqqqqcEDXrxSo9StxQAO1fqVArXFAL7rooosuckBbv1Kg1q9yQIfEvJ0hMXNAs8kmm2yyc0DfzpCYtzN0QAvU+pUCtXRAN9lkk002dUBj3s6QmLd1QI/jOI7jOHZAu+iiiy66dkDn7QyJeTt3QBPzdobEvHdAPvjggw8+eEBq/UqBWr94QJYCtX6lQHlAwgcffPDBeUDuDIl5O0N6QBoS83aGxHpARhdddNFFe0ByHMdxHMd7QJ4hMW9nSHxAyiabbLLJfED2KwVq/Up9QCIxb2dIzH1ATjbZZJNNfkB6O0Ni3s5+QKZArV8pUH9A0kUXXXTRf0B/pUCtXymAQBWo9SsFaoBAq6qqqqqqgEBBrV8pUOuAQNevFKj1K4FAbbLJJptsgUADtX6lQK2BQJm3MyTm7YFAL7rooosugkDFvJ0hMW+CQFu/UqDWr4JA8cEHH3zwgkCHxLydITGDQB3HcRzHcYNAs8kmm2yyg0BJzNsZEvODQN/OkJi3M4RAddFFF110hEAL1PqVArWEQKHWrxSo9YRAN9lkk002hUDN2xkS83aFQGPezpCYt4VA+eCDDz74hUCP4ziO4ziGQCXm7QyJeYZAu+iiiy66hkBR61cK1PqGQOftDIl5O4dAffDBBx98h0AT83aGxLyHQKn1KwVq/YdAPvjggw8+iEDU+pUCtX6IQGr9SoFav4hAAAAAAAAAiUA=\",\"dtype\":\"float64\",\"shape\":[100]},\"y\":{\"__ndarray__\":\"AAAAAAAAAACEDctqO3ZiP9MolmB96p8/3a4cytfpwD+np0oqy1LVP363djIJ0uM/Rx71+BRb7j+pVzgHeIL0P1LkGr56iPk/YSs9ehUX/j+qqWQq3xIBQOOv3MOK3QJAOj+XssdxBECTXNlkdNYFQBn4SEAVEgdA5lzPunYqCEDXx8Y1mSQJQCvVSke8BApA+eXCUHXOCkCaPehwyIQLQFmmpsg/KgxARNWWAADBDEAZM7qM2UoNQIl0qxRXyQ1AibU0Sck9DkAedJSaUKkOQLVuGy3lDA9A2zWoWl1pD0DjFuoOc78PQOfkbhjkBxBAXIEfIXUtEECxoMW0qlAQQAktzXa7cRBAipUgrteQEEB/KtYeKq4QQPMKYs7YyRBAmF/7oAXkEEDCHU7jzvwQQAHPg75PFBFAWr+nm6AqEUBg68F41z8RQL6/fjMIVBFA7JSKyERnEUDwbb2HnXkRQN+ZSkohixFAWtv0lt2bEUCkdGTJ3qsRQJhH4DEwuxFAVnVuMdzJEUDNhM5S7NcRQMQ5emBp5RFAeuTQd1vyEUC+vJsayv4RQIyiMT68ChJAlvsJWDgWEkD1+pVrRCESQPQBMRPmKxJAT19PiiI2EkAPQ8i1/j8SQGbnUSt/SRJA2rBlOKhSEkCl/cHnfVsSQOfNawcEZBJAsMS1LD5sEkBHZR65L3QSQE/JJN7bexJA3YmAoEWDEkDxB3Pbb4oSQIw/n0NdkRJAukiWaRCYEkB/S0C8i54SQF2E+IrRpBJAm3KMB+SqEkCxMwpIxbASQBFTZ0h3thJA5u0S7Pu7EkAPB03/VMESQKXskziExhJAX7bIOYvLEkBrcwSRa9ASQPatGLsm1RJAepqcIb7ZEkBk1y8fM94SQCDCYP6G4hJAmLN2+rrmEkBwKD1B0OoSQIEaGPPH7hJAqMGcI6PyEkB6t9rZYvYSQC1FuRII+hJA7Lonv5P9EkApMTjGBgETQIZbKwViBBNAO361T6YHE0AopcZw1AoTQKPW2CrtDRNAmJg8OPEQE0BIuh1M4RMTQBgYlhC+FhNAzLjwK4gZE0A=\",\"dtype\":\"float64\",\"shape\":[100]}},\"selected\":{\"id\":\"2946\",\"type\":\"Selection\"},\"selection_policy\":{\"id\":\"2945\",\"type\":\"UnionRenderers\"}},\"id\":\"2914\",\"type\":\"ColumnDataSource\"},{\"attributes\":{\"source\":{\"id\":\"2930\",\"type\":\"ColumnDataSource\"}},\"id\":\"2934\",\"type\":\"CDSView\"},{\"attributes\":{},\"id\":\"2965\",\"type\":\"UnionRenderers\"},{\"attributes\":{},\"id\":\"2966\",\"type\":\"Selection\"},{\"attributes\":{\"data_source\":{\"id\":\"2887\",\"type\":\"ColumnDataSource\"},\"glyph\":{\"id\":\"2888\",\"type\":\"Line\"},\"hover_glyph\":null,\"muted_glyph\":null,\"nonselection_glyph\":{\"id\":\"2889\",\"type\":\"Line\"},\"selection_glyph\":null,\"view\":{\"id\":\"2891\",\"type\":\"CDSView\"}},\"id\":\"2890\",\"type\":\"GlyphRenderer\"},{\"attributes\":{},\"id\":\"2874\",\"type\":\"PanTool\"},{\"attributes\":{\"data_source\":{\"id\":\"2900\",\"type\":\"ColumnDataSource\"},\"glyph\":{\"id\":\"2901\",\"type\":\"Line\"},\"hover_glyph\":null,\"muted_glyph\":null,\"nonselection_glyph\":{\"id\":\"2902\",\"type\":\"Line\"},\"selection_glyph\":null,\"view\":{\"id\":\"2904\",\"type\":\"CDSView\"}},\"id\":\"2903\",\"type\":\"GlyphRenderer\"},{\"attributes\":{\"callback\":null,\"data\":{\"x\":{\"__ndarray__\":\"AAAAAAAAAAB/pUCtXykgQH+lQK1fKTBAPvjggw8+OEB/pUCtXylAQN/OkJi3M0RAPvjggw8+SECeITFvZ0hMQH+lQK1fKVBAL7rooosuUkDfzpCYtzNUQI/jOI7jOFZAPvjggw8+WEDuDIl5O0NaQJ4hMW9nSFxATjbZZJNNXkB/pUCtXylgQNevFKj1K2FAL7rooosuYkCHxLydITFjQN/OkJi3M2RAN9lkk002ZUCP4ziO4zhmQOftDIl5O2dAPvjggw8+aECWArV+pUBpQO4MiXk7Q2pARhdddNFFa0CeITFvZ0hsQPYrBWr9Sm1ATjbZZJNNbkCmQK1fKVBvQH+lQK1fKXBAq6qqqqqqcEDXrxSo9StxQAO1fqVArXFAL7rooosuckBbv1Kg1q9yQIfEvJ0hMXNAs8kmm2yyc0DfzpCYtzN0QAvU+pUCtXRAN9lkk002dUBj3s6QmLd1QI/jOI7jOHZAu+iiiy66dkDn7QyJeTt3QBPzdobEvHdAPvjggw8+eEBq/UqBWr94QJYCtX6lQHlAwgcffPDBeUDuDIl5O0N6QBoS83aGxHpARhdddNFFe0ByHMdxHMd7QJ4hMW9nSHxAyiabbLLJfED2KwVq/Up9QCIxb2dIzH1ATjbZZJNNfkB6O0Ni3s5+QKZArV8pUH9A0kUXXXTRf0B/pUCtXymAQBWo9SsFaoBAq6qqqqqqgEBBrV8pUOuAQNevFKj1K4FAbbLJJptsgUADtX6lQK2BQJm3MyTm7YFAL7rooosugkDFvJ0hMW+CQFu/UqDWr4JA8cEHH3zwgkCHxLydITGDQB3HcRzHcYNAs8kmm2yyg0BJzNsZEvODQN/OkJi3M4RAddFFF110hEAL1PqVArWEQKHWrxSo9YRAN9lkk002hUDN2xkS83aFQGPezpCYt4VA+eCDDz74hUCP4ziO4ziGQCXm7QyJeYZAu+iiiy66hkBR61cK1PqGQOftDIl5O4dAffDBBx98h0AT83aGxLyHQKn1KwVq/YdAPvjggw8+iEDU+pUCtX6IQGr9SoFav4hAAAAAAAAAiUA=\",\"dtype\":\"float64\",\"shape\":[100]},\"y\":{\"__ndarray__\":\"AAAAAAAAAAB9vgDm3vLCPvxyDNJjmwA/bF6kdWaFIj/1V9Ltl+05P8Ie3m7ULkw/9zziW6ElWj8JZncNbMZlP+TRwzYCxnA/MHUiDAdeeD+dVJ955eiAPytTE9SGoYY/C0x5WNdnjT/BFi4hn6SSP1U0gN35KJc//LyEB6ZGnD+Wb25tfQGhP03VTvyKMaQ/MkIP9ve1pz+uQ4JlNpGrPyN5bcS0xa8/6+8ZrPEqsj9jUf0+HKK0P3JSpw6aSbc/uQI2L7Eiuj+cy4Tlri69P2RMSzt0N8A/01vu313ywT+NOXDOx8jDPwk7oA9qu8U/V3phTgHLxz9QDAHKTvjJP0IHWjUYRMw/ZRrIgSevzj/Gs6FMJZ3QP2KOIIAp89E/+rj+uApa0z/NfOytNNLUPzf6qyoUXNY/fC+4wBb41z9fUidzqqbZPz2AQls9aNs/q0CRST093T9hGihkFybfPxS85d+bkeA/HyPYfYSa4T/2m4rt+a3iP+TzC3IvzOM/NakK/1b15D+xmioLoSnmP9vrAmQ8aec//N1ACVa06D/I6MoFGQvqP3g2yE+ubes/KoEHrTzc7D8/lfaZ6FbuP3PJnjXU3e8/7zKTmI+48D+Q74Zhc4jxP9ZmH8+iXvI/nNok9ik78z8UE1ulEx70P4+JjGVpB/U/HdjSejP39T97ovXmeO32P+Sxv2w/6vc/P5MnlIvt+D/rdzGvYPf5P8dCPN/AB/s/Ek9HG60e/D9ENRk2JTz9P3Vz0+QnYP4/zqT5xbKK/z+2MUo04V0AQNWHtymp+QBAqio0hq6YAUCWj+wP7joCQLiTARRk4AJA1po9agyJA0D1T8V44jQEQN5wwzfh4wRAGPgSNQOWBUCNytCXQksGQHLx0iOZAwdA/GpMPQC/B0D8aVDscH0IQMwXIODjPglAR7N8clEDCkBOD+mqscoKQOwvvEH8lAtAlDQ6oyhiDEDGmwj1LTINQM0/CBkDBQ5Ab7PIqZ7aDkBlb+8B97IPQOhSPSEBRxBARQFhKdu1EEDyNT1xBCYRQKPpXbZ3lxFAEHe9nS8KEkA=\",\"dtype\":\"float64\",\"shape\":[100]}},\"selected\":{\"id\":\"2966\",\"type\":\"Selection\"},\"selection_policy\":{\"id\":\"2965\",\"type\":\"UnionRenderers\"}},\"id\":\"2930\",\"type\":\"ColumnDataSource\"},{\"attributes\":{},\"id\":\"2928\",\"type\":\"Selection\"},{\"attributes\":{\"text\":\"with ATP Synthase, Proton Pump, ATP Use\"},\"id\":\"2854\",\"type\":\"Title\"},{\"attributes\":{},\"id\":\"2875\",\"type\":\"WheelZoomTool\"},{\"attributes\":{\"data_source\":{\"id\":\"2914\",\"type\":\"ColumnDataSource\"},\"glyph\":{\"id\":\"2915\",\"type\":\"Line\"},\"hover_glyph\":null,\"muted_glyph\":null,\"nonselection_glyph\":{\"id\":\"2916\",\"type\":\"Line\"},\"selection_glyph\":null,\"view\":{\"id\":\"2918\",\"type\":\"CDSView\"}},\"id\":\"2917\",\"type\":\"GlyphRenderer\"},{\"attributes\":{\"callback\":null},\"id\":\"2856\",\"type\":\"DataRange1d\"},{\"attributes\":{\"overlay\":{\"id\":\"2897\",\"type\":\"BoxAnnotation\"}},\"id\":\"2876\",\"type\":\"BoxZoomTool\"},{\"attributes\":{\"line_color\":\"#8c564b\",\"line_width\":2,\"x\":{\"field\":\"x\"},\"y\":{\"field\":\"y\"}},\"id\":\"2949\",\"type\":\"Line\"},{\"attributes\":{\"line_alpha\":0.1,\"line_color\":\"#1f77b4\",\"line_width\":2,\"x\":{\"field\":\"x\"},\"y\":{\"field\":\"y\"}},\"id\":\"2950\",\"type\":\"Line\"},{\"attributes\":{},\"id\":\"2877\",\"type\":\"SaveTool\"},{\"attributes\":{\"line_color\":\"#1f77b3\",\"line_width\":2,\"x\":{\"field\":\"x\"},\"y\":{\"field\":\"y\"}},\"id\":\"2888\",\"type\":\"Line\"},{\"attributes\":{\"source\":{\"id\":\"2914\",\"type\":\"ColumnDataSource\"}},\"id\":\"2918\",\"type\":\"CDSView\"},{\"attributes\":{\"line_alpha\":0.1,\"line_color\":\"#1f77b4\",\"line_width\":2,\"x\":{\"field\":\"x\"},\"y\":{\"field\":\"y\"}},\"id\":\"2932\",\"type\":\"Line\"},{\"attributes\":{},\"id\":\"3091\",\"type\":\"Selection\"},{\"attributes\":{\"data_source\":{\"id\":\"2948\",\"type\":\"ColumnDataSource\"},\"glyph\":{\"id\":\"2949\",\"type\":\"Line\"},\"hover_glyph\":null,\"muted_glyph\":null,\"nonselection_glyph\":{\"id\":\"2950\",\"type\":\"Line\"},\"selection_glyph\":null,\"view\":{\"id\":\"2952\",\"type\":\"CDSView\"}},\"id\":\"2951\",\"type\":\"GlyphRenderer\"},{\"attributes\":{},\"id\":\"2878\",\"type\":\"ResetTool\"},{\"attributes\":{\"label\":{\"value\":\"bound proton pump\"},\"renderers\":[{\"id\":\"2951\",\"type\":\"GlyphRenderer\"}]},\"id\":\"2967\",\"type\":\"LegendItem\"},{\"attributes\":{\"source\":{\"id\":\"2900\",\"type\":\"ColumnDataSource\"}},\"id\":\"2904\",\"type\":\"CDSView\"},{\"attributes\":{\"callback\":null},\"id\":\"2858\",\"type\":\"DataRange1d\"},{\"attributes\":{\"label\":{\"value\":\"atp\"},\"renderers\":[{\"id\":\"2890\",\"type\":\"GlyphRenderer\"}]},\"id\":\"2899\",\"type\":\"LegendItem\"},{\"attributes\":{},\"id\":\"2912\",\"type\":\"Selection\"},{\"attributes\":{},\"id\":\"2927\",\"type\":\"UnionRenderers\"},{\"attributes\":{},\"id\":\"2879\",\"type\":\"HelpTool\"},{\"attributes\":{\"callback\":null,\"data\":{\"x\":{\"__ndarray__\":\"AAAAAAAAAAB/pUCtXykgQH+lQK1fKTBAPvjggw8+OEB/pUCtXylAQN/OkJi3M0RAPvjggw8+SECeITFvZ0hMQH+lQK1fKVBAL7rooosuUkDfzpCYtzNUQI/jOI7jOFZAPvjggw8+WEDuDIl5O0NaQJ4hMW9nSFxATjbZZJNNXkB/pUCtXylgQNevFKj1K2FAL7rooosuYkCHxLydITFjQN/OkJi3M2RAN9lkk002ZUCP4ziO4zhmQOftDIl5O2dAPvjggw8+aECWArV+pUBpQO4MiXk7Q2pARhdddNFFa0CeITFvZ0hsQPYrBWr9Sm1ATjbZZJNNbkCmQK1fKVBvQH+lQK1fKXBAq6qqqqqqcEDXrxSo9StxQAO1fqVArXFAL7rooosuckBbv1Kg1q9yQIfEvJ0hMXNAs8kmm2yyc0DfzpCYtzN0QAvU+pUCtXRAN9lkk002dUBj3s6QmLd1QI/jOI7jOHZAu+iiiy66dkDn7QyJeTt3QBPzdobEvHdAPvjggw8+eEBq/UqBWr94QJYCtX6lQHlAwgcffPDBeUDuDIl5O0N6QBoS83aGxHpARhdddNFFe0ByHMdxHMd7QJ4hMW9nSHxAyiabbLLJfED2KwVq/Up9QCIxb2dIzH1ATjbZZJNNfkB6O0Ni3s5+QKZArV8pUH9A0kUXXXTRf0B/pUCtXymAQBWo9SsFaoBAq6qqqqqqgEBBrV8pUOuAQNevFKj1K4FAbbLJJptsgUADtX6lQK2BQJm3MyTm7YFAL7rooosugkDFvJ0hMW+CQFu/UqDWr4JA8cEHH3zwgkCHxLydITGDQB3HcRzHcYNAs8kmm2yyg0BJzNsZEvODQN/OkJi3M4RAddFFF110hEAL1PqVArWEQKHWrxSo9YRAN9lkk002hUDN2xkS83aFQGPezpCYt4VA+eCDDz74hUCP4ziO4ziGQCXm7QyJeYZAu+iiiy66hkBR61cK1PqGQOftDIl5O4dAffDBBx98h0AT83aGxLyHQKn1KwVq/YdAPvjggw8+iEDU+pUCtX6IQGr9SoFav4hAAAAAAAAAiUA=\",\"dtype\":\"float64\",\"shape\":[100]},\"y\":{\"__ndarray__\":\"AAAAAAAAAAB/vgDm3vLCPv9yDNJjmwA/bF6kdWaFIj/1V9Ltl+05P8Ae3m7ULkw/8zziW6ElWj8JZncNbMZlP+TRwzYCxnA/MHUiDAdeeD+eVJ955eiAPy5TE9SGoYY/D0x5WNdnjT/DFi4hn6SSP1c0gN35KJc/AL2EB6ZGnD+Yb25tfQGhP1DVTvyKMaQ/NUIP9ve1pz+xQ4JlNpGrPyl5bcS0xa8/7+8ZrPEqsj9nUf0+HKK0P3ZSpw6aSbc/vQI2L7Eiuj+gy4Tlri69P2ZMSzt0N8A/1Vvu313ywT+QOXDOx8jDPww7oA9qu8U/WnphTgHLxz9SDAHKTvjJP0UHWjUYRMw/aBrIgSevzj/Hs6FMJZ3QP2SOIIAp89E//Lj+uApa0z/PfOytNNLUPzn6qyoUXNY/fi+4wBb41z9gUidzqqbZPz6AQls9aNs/rECRST093T9iGihkFybfPxO85d+bkeA/HiPYfYSa4T/1m4rt+a3iP+PzC3IvzOM/NKkK/1b15D+wmioLoSnmP9nrAmQ8aec/+t1ACVa06D/G6MoFGQvqP3Y2yE+ubes/KIEHrTzc7D89lfaZ6FbuP3HJnjXU3e8/7jKTmI+48D+P74Zhc4jxP9VmH8+iXvI/m9ok9ik78z8TE1ulEx70P46JjGVpB/U/HNjSejP39T96ovXmeO32P+Oxv2w/6vc/PpMnlIvt+D/sdzGvYPf5P8lCPN/AB/s/FU9HG60e/D9HNRk2JTz9P3lz0+QnYP4/0qT5xbKK/z+4MUo04V0AQNeHtymp+QBArCo0hq6YAUCYj+wP7joCQLqTARRk4AJA2Jo9agyJA0D3T8V44jQEQOBwwzfh4wRAGvgSNQOWBUCPytCXQksGQHPx0iOZAwdA/WpMPQC/B0D9aVDscH0IQM0XIODjPglASLN8clEDCkBPD+mqscoKQO0vvEH8lAtAlTQ6oyhiDEDHmwj1LTINQM4/CBkDBQ5Ab7PIqZ7aDkBlb+8B97IPQOhSPSEBRxBARQFhKdu1EEDyNT1xBCYRQKPpXbZ3lxFAEHe9nS8KEkA=\",\"dtype\":\"float64\",\"shape\":[100]}},\"selected\":{\"id\":\"3091\",\"type\":\"Selection\"},\"selection_policy\":{\"id\":\"3090\",\"type\":\"UnionRenderers\"}},\"id\":\"2948\",\"type\":\"ColumnDataSource\"},{\"attributes\":{},\"id\":\"2860\",\"type\":\"LinearScale\"},{\"attributes\":{},\"id\":\"2862\",\"type\":\"LinearScale\"},{\"attributes\":{},\"id\":\"2896\",\"type\":\"BasicTickFormatter\"},{\"attributes\":{},\"id\":\"2946\",\"type\":\"Selection\"},{\"attributes\":{},\"id\":\"3090\",\"type\":\"UnionRenderers\"},{\"attributes\":{\"axis_label\":\"time (sec)\",\"formatter\":{\"id\":\"2894\",\"type\":\"BasicTickFormatter\"},\"ticker\":{\"id\":\"2865\",\"type\":\"BasicTicker\"}},\"id\":\"2864\",\"type\":\"LinearAxis\"},{\"attributes\":{\"source\":{\"id\":\"2887\",\"type\":\"ColumnDataSource\"}},\"id\":\"2891\",\"type\":\"CDSView\"},{\"attributes\":{\"dimension\":1,\"ticker\":{\"id\":\"2870\",\"type\":\"BasicTicker\"}},\"id\":\"2873\",\"type\":\"Grid\"},{\"attributes\":{\"line_color\":\"#ff7e0e\",\"line_width\":2,\"x\":{\"field\":\"x\"},\"y\":{\"field\":\"y\"}},\"id\":\"2901\",\"type\":\"Line\"},{\"attributes\":{\"click_policy\":\"hide\",\"items\":[{\"id\":\"2899\",\"type\":\"LegendItem\"},{\"id\":\"2913\",\"type\":\"LegendItem\"},{\"id\":\"2929\",\"type\":\"LegendItem\"},{\"id\":\"2947\",\"type\":\"LegendItem\"},{\"id\":\"2967\",\"type\":\"LegendItem\"}],\"location\":\"center_right\"},\"id\":\"2898\",\"type\":\"Legend\"},{\"attributes\":{},\"id\":\"2865\",\"type\":\"BasicTicker\"},{\"attributes\":{\"label\":{\"value\":\"bound atp synthase\"},\"renderers\":[{\"id\":\"2933\",\"type\":\"GlyphRenderer\"}]},\"id\":\"2947\",\"type\":\"LegendItem\"},{\"attributes\":{\"line_color\":\"#2ba02b\",\"line_width\":2,\"x\":{\"field\":\"x\"},\"y\":{\"field\":\"y\"}},\"id\":\"2915\",\"type\":\"Line\"},{\"attributes\":{\"bottom_units\":\"screen\",\"fill_alpha\":{\"value\":0.5},\"fill_color\":{\"value\":\"lightgrey\"},\"left_units\":\"screen\",\"level\":\"overlay\",\"line_alpha\":{\"value\":1.0},\"line_color\":{\"value\":\"black\"},\"line_dash\":[4,4],\"line_width\":{\"value\":2},\"render_mode\":\"css\",\"right_units\":\"screen\",\"top_units\":\"screen\"},\"id\":\"2897\",\"type\":\"BoxAnnotation\"},{\"attributes\":{\"ticker\":{\"id\":\"2865\",\"type\":\"BasicTicker\"}},\"id\":\"2868\",\"type\":\"Grid\"},{\"attributes\":{\"callback\":null,\"data\":{\"x\":{\"__ndarray__\":\"AAAAAAAAAAB/pUCtXykgQH+lQK1fKTBAPvjggw8+OEB/pUCtXylAQN/OkJi3M0RAPvjggw8+SECeITFvZ0hMQH+lQK1fKVBAL7rooosuUkDfzpCYtzNUQI/jOI7jOFZAPvjggw8+WEDuDIl5O0NaQJ4hMW9nSFxATjbZZJNNXkB/pUCtXylgQNevFKj1K2FAL7rooosuYkCHxLydITFjQN/OkJi3M2RAN9lkk002ZUCP4ziO4zhmQOftDIl5O2dAPvjggw8+aECWArV+pUBpQO4MiXk7Q2pARhdddNFFa0CeITFvZ0hsQPYrBWr9Sm1ATjbZZJNNbkCmQK1fKVBvQH+lQK1fKXBAq6qqqqqqcEDXrxSo9StxQAO1fqVArXFAL7rooosuckBbv1Kg1q9yQIfEvJ0hMXNAs8kmm2yyc0DfzpCYtzN0QAvU+pUCtXRAN9lkk002dUBj3s6QmLd1QI/jOI7jOHZAu+iiiy66dkDn7QyJeTt3QBPzdobEvHdAPvjggw8+eEBq/UqBWr94QJYCtX6lQHlAwgcffPDBeUDuDIl5O0N6QBoS83aGxHpARhdddNFFe0ByHMdxHMd7QJ4hMW9nSHxAyiabbLLJfED2KwVq/Up9QCIxb2dIzH1ATjbZZJNNfkB6O0Ni3s5+QKZArV8pUH9A0kUXXXTRf0B/pUCtXymAQBWo9SsFaoBAq6qqqqqqgEBBrV8pUOuAQNevFKj1K4FAbbLJJptsgUADtX6lQK2BQJm3MyTm7YFAL7rooosugkDFvJ0hMW+CQFu/UqDWr4JA8cEHH3zwgkCHxLydITGDQB3HcRzHcYNAs8kmm2yyg0BJzNsZEvODQN/OkJi3M4RAddFFF110hEAL1PqVArWEQKHWrxSo9YRAN9lkk002hUDN2xkS83aFQGPezpCYt4VA+eCDDz74hUCP4ziO4ziGQCXm7QyJeYZAu+iiiy66hkBR61cK1PqGQOftDIl5O4dAffDBBx98h0AT83aGxLyHQKn1KwVq/YdAPvjggw8+iEDU+pUCtX6IQGr9SoFav4hAAAAAAAAAiUA=\",\"dtype\":\"float64\",\"shape\":[100]},\"y\":{\"__ndarray__\":\"AAAAAAAAJEBfU0mc2P4jQP60T8EK8CNAV43XoFi8I0DVqq2maVUjQJiU2GzfwiJAKq5wsE4aIkAY9Rj/sG8hQIKjPKjwziBAoVq4UB09IEBDq81qkHYfQCWoEZ46kR5AeWC0JhzHHUDLUZPNxRQdQAiE21/1dhxAolGYosTqG0AqnBxls20bQICVWtyh/RpAF42eV8WYGkBH4YvHmz0aQOasrBvg6hlAcZW0/3+fGUCG5qI5k1oZQMxFqnVUGxlATKVlWxvhGEACxrWyV6sYQLhIcmmNeRhAJuWrUlFLGECh9Ip4RiAYQCwbkecb+BdAt37g3orSF0BiXzpLVa8XQArTMolEjhdAiWrfUShvF0CU1Snh1VEXQCD1nTEnNhdAe6AEX/obF0BR4rEcMQMXQBIxfEGw6xZAuUBYZF/VFkCzFD6HKMAWQFVAgcz3qxZAJ2t1N7uYFkAjkkJ4YoYWQDRmtbXedBZAuSQLaSJkFkBvi5s2IVQWQHu4H87PRBZAvYqRziM2FkBGezGtEygWQE/GhZ+WGhZAmBsviKQNFkBUQ2TlNQEWQIZdzsFD9RVAfAT2p8fpFUAdBWqUu94VQB7+zuwZ1BVAw6Cwdd3JFUADvTdKAcAVQKwYrtSAthVAOE+ax1etFUBtAj4YgqQVQCsylPj7mxVAYjtK08GTFUDLmuFG0IsVQMM22yEkhBVANXZ/X7p8FUAh+IwkkHUVQIbAYLyibhVAWLdplu9nFUCTtL9DdGEVQLV7B3UuWxVAd41z+BtVFUBhzPW3Ok8VQAGtmLeISRVALBLtEwREFUAD+bIAqz4VQG0TbMd7ORVAs0k3xnQ0FUCnjPtulC8VQBxS50TZKhVAmGVj3kEmFUCuKNDgzCEVQPI9nwF5HRVAekyJBUUZFUCi18K+LxUVQJHl5ww4ERVAaj5j3FwNFUCYSCUmnQkVQOW6Ru33BRVAJkXYQGwCFUDpzsc5+f4UQIyk1Pqd+xRA14FKsFn4FEDqWjmPK/UUQG8pJ9US8hRAemfDxw7vFEDKReKzHuwUQPrnae9B6RRARkcP1HfmFEA=\",\"dtype\":\"float64\",\"shape\":[100]}},\"selected\":{\"id\":\"2928\",\"type\":\"Selection\"},\"selection_policy\":{\"id\":\"2927\",\"type\":\"UnionRenderers\"}},\"id\":\"2900\",\"type\":\"ColumnDataSource\"},{\"attributes\":{},\"id\":\"2870\",\"type\":\"BasicTicker\"},{\"attributes\":{\"axis_label\":\"concentration (nM)\",\"formatter\":{\"id\":\"2896\",\"type\":\"BasicTickFormatter\"},\"ticker\":{\"id\":\"2870\",\"type\":\"BasicTicker\"}},\"id\":\"2869\",\"type\":\"LinearAxis\"}],\"root_ids\":[\"2853\"]},\"title\":\"Bokeh Application\",\"version\":\"1.4.0\"}};\n",
       "  var render_items = [{\"docid\":\"bfdaad44-8c65-4db9-8b0f-f0f6028dc8ef\",\"roots\":{\"2853\":\"8ee6a190-e877-4964-a83e-acdb0f52de75\"}}];\n",
       "  root.Bokeh.embed.embed_items_notebook(docs_json, render_items);\n",
       "\n",
       "  }\n",
       "  if (root.Bokeh !== undefined) {\n",
       "    embed_document(root);\n",
       "  } else {\n",
       "    var attempts = 0;\n",
       "    var timer = setInterval(function(root) {\n",
       "      if (root.Bokeh !== undefined) {\n",
       "        clearInterval(timer);\n",
       "        embed_document(root);\n",
       "      } else {\n",
       "        attempts++;\n",
       "        if (attempts > 100) {\n",
       "          clearInterval(timer);\n",
       "          console.log(\"Bokeh: ERROR: Unable to run BokehJS code because BokehJS library is missing\");\n",
       "        }\n",
       "      }\n",
       "    }, 10, root)\n",
       "  }\n",
       "})(window);"
      ],
      "application/vnd.bokehjs_exec.v0+json": ""
     },
     "metadata": {
      "application/vnd.bokehjs_exec.v0+json": {
       "id": "2853"
      }
     },
     "output_type": "display_data"
    }
   ],
   "source": [
    "#plt_timepoints = timepoints/60\n",
    "\n",
    "p4 = bokeh.plotting.figure(width = 450, height = 350, title = 'with ATP Synthase, Proton Pump, ATP Use',\n",
    "                          x_axis_label = 'time (sec)',\n",
    "                          y_axis_label = 'concentration (nM)')\n",
    "plot_list = [ATP_id_37, outside_H_id, inside_H_id, atp_synthase_b_protein_id_37, proton_pump_b_protein_id_37]\n",
    "plot_str = ['atp', 'outside_H', 'inside_H', 'bound atp synthase', 'bound proton pump']\n",
    "for i,item in enumerate(plot_list):\n",
    "    p4.line(timepoints, results_37[item], line_width = 2, legend_label = plot_str[i], color = palette[i])\n",
    "#p3.line(plt_timepoints, results_everything[ATP_id3])\n",
    "p4.legend.click_policy = 'hide'\n",
    "p4.legend.location = 'center_right'\n",
    "\n",
    "bokeh.io.show(p4)\n",
    "\n"
   ]
  },
  {
   "cell_type": "markdown",
   "metadata": {},
   "source": [
    "## Combine at 100 C\n",
    "---"
   ]
  },
  {
   "cell_type": "code",
   "execution_count": 41,
   "metadata": {},
   "outputs": [],
   "source": [
    "# atp synthase models\n",
    "ss1_atpsyn_txtl = createSubsystem('atpsyn_100temp_machinery_txtl.xml', subsystemName = 'atpsyn_txtl')\n",
    "ss2_atpsyn_mi = createSubsystem('atpsynthase_membrane_integration.xml', subsystemName = 'atpsyn_mi')\n",
    "ss3_atpsynthesis = createSubsystem('atp_synthesis_through_atpsynthase.xml', subsystemName = 'atpsynthesis')\n",
    "ss4_atp_use = createSubsystem('atp_50_use.xml', subsystemName = 'atp_use')\n",
    "#ss5_pp_txtl = createSubsystem('proton_pump_tx_tl.xml', subsystemName = 'pp_txtl')\n",
    "ss5_pp_txtl = createSubsystem('proton_pump_100temp_machinery_txtl.xml', subsystemName = 'pp_txtl')\n",
    "ss6_pp_mi = createSubsystem('proton_pump_membrane_integration.xml', subsystemName = 'pp_mi')\n",
    "ss7_protontransport = createSubsystem('proton_transport_through_proton_pump.xml', subsystemName = 'protontransport')"
   ]
  },
  {
   "cell_type": "code",
   "execution_count": 42,
   "metadata": {},
   "outputs": [],
   "source": [
    "entire_subsystem = ss1_atpsyn_txtl + ss2_atpsyn_mi + ss3_atpsynthesis + ss4_atp_use + ss5_pp_txtl + ss6_pp_mi + ss7_protontransport"
   ]
  },
  {
   "cell_type": "code",
   "execution_count": 43,
   "metadata": {},
   "outputs": [],
   "source": [
    "# Initial conditions\n",
    "spec_list_10 = ['dna_proton_pump', 'dna_atpsyn','proton_outside_H', 'metabolite_atp','protein_RNAP_machinery', \n",
    "                'protein_Ribo_machinery', 'protein_RNAse_machinery']\n",
    "for i,spec in enumerate(spec_list_10):\n",
    "    entire_subsystem.setSpeciesAmount(spec,10)\n",
    "\n",
    "\n",
    "# timepoints and get results\n",
    "# timepoints = np.linspace(0,10,100)\n",
    "# results, _ = entire_subsystem.simulateWithBioscrape(timepoints, sbml_warnings = False)\n",
    "\n",
    "# Get species IDs\n",
    "ATP_id_100 = entire_subsystem.getSpeciesByName('metabolite_atp').getId()\n",
    "ADP_id = entire_subsystem.getSpeciesByName('metabolite_adp').getId()\n",
    "\n",
    "outside_H_id = entire_subsystem.getSpeciesByName('proton_outside_H').getId()\n",
    "inside_H_id = entire_subsystem.getSpeciesByName('proton_inside_H').getId()\n",
    "\n",
    "proton_pump_b_protein_id_100 = entire_subsystem.getSpeciesByName('protein_proton_pump_b').getId()\n",
    "proton_pump_f_protein_id = entire_subsystem.getSpeciesByName('protein_proton_pump').getId()\n",
    "\n",
    "atp_synthase_b_protein_id_100 = entire_subsystem.getSpeciesByName('protein_atpsyn_b').getId()\n",
    "atp_synthase_f_protein_id = entire_subsystem.getSpeciesByName('protein_atpsyn').getId()"
   ]
  },
  {
   "cell_type": "code",
   "execution_count": 44,
   "metadata": {},
   "outputs": [
    {
     "name": "stderr",
     "output_type": "stream",
     "text": [
      "odeint failed with mxstep=500..."
     ]
    }
   ],
   "source": [
    "timepoints = np.linspace(0,800,100)\n",
    "results_100, _ = entire_subsystem.simulateWithBioscrape(timepoints, sbml_warnings = False)"
   ]
  },
  {
   "cell_type": "code",
   "execution_count": 45,
   "metadata": {},
   "outputs": [
    {
     "data": {
      "text/html": [
       "\n",
       "\n",
       "\n",
       "\n",
       "\n",
       "\n",
       "  <div class=\"bk-root\" id=\"713b91b1-dac9-4ff0-831d-1fce96da4df2\" data-root-id=\"3188\"></div>\n"
      ]
     },
     "metadata": {},
     "output_type": "display_data"
    },
    {
     "data": {
      "application/javascript": [
       "(function(root) {\n",
       "  function embed_document(root) {\n",
       "    \n",
       "  var docs_json = {\"cb7be8c1-1cd3-4429-afaa-b46f8fd92e7a\":{\"roots\":{\"references\":[{\"attributes\":{\"below\":[{\"id\":\"3199\",\"type\":\"LinearAxis\"}],\"center\":[{\"id\":\"3203\",\"type\":\"Grid\"},{\"id\":\"3208\",\"type\":\"Grid\"},{\"id\":\"3233\",\"type\":\"Legend\"}],\"left\":[{\"id\":\"3204\",\"type\":\"LinearAxis\"}],\"plot_height\":350,\"plot_width\":450,\"renderers\":[{\"id\":\"3225\",\"type\":\"GlyphRenderer\"},{\"id\":\"3238\",\"type\":\"GlyphRenderer\"},{\"id\":\"3252\",\"type\":\"GlyphRenderer\"},{\"id\":\"3268\",\"type\":\"GlyphRenderer\"},{\"id\":\"3286\",\"type\":\"GlyphRenderer\"}],\"title\":{\"id\":\"3189\",\"type\":\"Title\"},\"toolbar\":{\"id\":\"3215\",\"type\":\"Toolbar\"},\"x_range\":{\"id\":\"3191\",\"type\":\"DataRange1d\"},\"x_scale\":{\"id\":\"3195\",\"type\":\"LinearScale\"},\"y_range\":{\"id\":\"3193\",\"type\":\"DataRange1d\"},\"y_scale\":{\"id\":\"3197\",\"type\":\"LinearScale\"}},\"id\":\"3188\",\"subtype\":\"Figure\",\"type\":\"Plot\"},{\"attributes\":{},\"id\":\"3231\",\"type\":\"BasicTickFormatter\"},{\"attributes\":{},\"id\":\"3263\",\"type\":\"Selection\"},{\"attributes\":{},\"id\":\"3205\",\"type\":\"BasicTicker\"},{\"attributes\":{\"bottom_units\":\"screen\",\"fill_alpha\":{\"value\":0.5},\"fill_color\":{\"value\":\"lightgrey\"},\"left_units\":\"screen\",\"level\":\"overlay\",\"line_alpha\":{\"value\":1.0},\"line_color\":{\"value\":\"black\"},\"line_dash\":[4,4],\"line_width\":{\"value\":2},\"render_mode\":\"css\",\"right_units\":\"screen\",\"top_units\":\"screen\"},\"id\":\"3232\",\"type\":\"BoxAnnotation\"},{\"attributes\":{\"axis_label\":\"concentration (nM)\",\"formatter\":{\"id\":\"3231\",\"type\":\"BasicTickFormatter\"},\"ticker\":{\"id\":\"3205\",\"type\":\"BasicTicker\"}},\"id\":\"3204\",\"type\":\"LinearAxis\"},{\"attributes\":{\"line_alpha\":0.1,\"line_color\":\"#1f77b4\",\"line_width\":2,\"x\":{\"field\":\"x\"},\"y\":{\"field\":\"y\"}},\"id\":\"3237\",\"type\":\"Line\"},{\"attributes\":{\"label\":{\"value\":\"atp\"},\"renderers\":[{\"id\":\"3225\",\"type\":\"GlyphRenderer\"}]},\"id\":\"3234\",\"type\":\"LegendItem\"},{\"attributes\":{\"callback\":null,\"data\":{\"x\":{\"__ndarray__\":\"AAAAAAAAAAB/pUCtXykgQH+lQK1fKTBAPvjggw8+OEB/pUCtXylAQN/OkJi3M0RAPvjggw8+SECeITFvZ0hMQH+lQK1fKVBAL7rooosuUkDfzpCYtzNUQI/jOI7jOFZAPvjggw8+WEDuDIl5O0NaQJ4hMW9nSFxATjbZZJNNXkB/pUCtXylgQNevFKj1K2FAL7rooosuYkCHxLydITFjQN/OkJi3M2RAN9lkk002ZUCP4ziO4zhmQOftDIl5O2dAPvjggw8+aECWArV+pUBpQO4MiXk7Q2pARhdddNFFa0CeITFvZ0hsQPYrBWr9Sm1ATjbZZJNNbkCmQK1fKVBvQH+lQK1fKXBAq6qqqqqqcEDXrxSo9StxQAO1fqVArXFAL7rooosuckBbv1Kg1q9yQIfEvJ0hMXNAs8kmm2yyc0DfzpCYtzN0QAvU+pUCtXRAN9lkk002dUBj3s6QmLd1QI/jOI7jOHZAu+iiiy66dkDn7QyJeTt3QBPzdobEvHdAPvjggw8+eEBq/UqBWr94QJYCtX6lQHlAwgcffPDBeUDuDIl5O0N6QBoS83aGxHpARhdddNFFe0ByHMdxHMd7QJ4hMW9nSHxAyiabbLLJfED2KwVq/Up9QCIxb2dIzH1ATjbZZJNNfkB6O0Ni3s5+QKZArV8pUH9A0kUXXXTRf0B/pUCtXymAQBWo9SsFaoBAq6qqqqqqgEBBrV8pUOuAQNevFKj1K4FAbbLJJptsgUADtX6lQK2BQJm3MyTm7YFAL7rooosugkDFvJ0hMW+CQFu/UqDWr4JA8cEHH3zwgkCHxLydITGDQB3HcRzHcYNAs8kmm2yyg0BJzNsZEvODQN/OkJi3M4RAddFFF110hEAL1PqVArWEQKHWrxSo9YRAN9lkk002hUDN2xkS83aFQGPezpCYt4VA+eCDDz74hUCP4ziO4ziGQCXm7QyJeYZAu+iiiy66hkBR61cK1PqGQOftDIl5O4dAffDBBx98h0AT83aGxLyHQKn1KwVq/YdAPvjggw8+iEDU+pUCtX6IQGr9SoFav4hAAAAAAAAAiUA=\",\"dtype\":\"float64\",\"shape\":[100]},\"y\":{\"__ndarray__\":\"AAAAAAAAJEAmYH3tRcpAP09Zv3M69n0/MOeutOfZoD+pXRzdyoq3P26+TSa4Msk/vOHjrjms1j+1Abtf0wfiPydFbltDJuo/YGRbC5qq8T+R6D2z4pf2P+sIO80frfs/xDo4y7xiAECPilqfAOMCQMdYZBBOTgVA+x83mxmfB0DvZ06kbtIJQOTdV20o5wtAJy3eSljdDUDpb6xa1bUPQDihB6z2uBBAEVxbYpeJEUAsVblZok0SQKO+crDvBRNAX6lmzFKzE0CC6lHklVYUQDwtUq138BRAZ6CqDKqBFUDggTzy0QoWQK9BAISHjBZA19b0p1YHF0ACH4C9v3sXQFNAiWk46hdA76WNcSxTGEBo2qx+/rYYQAn//vQIFhlAAb8Ep55wGUCzqbuFC8cZQMmO1UOVGRpAuFe+5XtoGkBTIvVK+rMaQBwYUKBG/BpAtjZz2pJBG0AylosLDYQbQG+hwsDfwxtAFbLKVTIBHECXk1E9KTwcQPy1Xz3mdBxAAbXdr4irHEBNnJC1LeAcQJdKUGbwEh1AVO8k/OlDHUCXBO/9MXMdQD2GP17eoB1A4P7rnwPNHUC+eD/vtPcdQKT5iUAEIR5AtPeVZwJJHkBAZ6krv28eQAjq7l1JlR5AcFaK6q65HkDcTPXp/NweQHftWLA//x5AZaI324IgH0B9gSBf0UAfQOMd4ZE1YB9AAirHN7l+H0AhT0WMZZwfQH4A10dDuR9AtvalsVrVH0DYS/acs/AfQMyoSruqBSBAvzK7pKMSIEATDm3iRx8gQLrugaGaKyBAUIQ95p43IEA4PQOQV0MgQC//slzHTiBAHMX64PBZIEABQBKc1mQgQNWb/ul6byBAisE2DOB5IEBwOKopCIQgQJ83F1D1jSBAlXD6dqmXIEByjdl+JqEgQAWjUTNuqiBAz+RfTIKzIEDbiCxvZLwgQBW9Ji8WxSBASFTjDpnNIECiBPyA7tUgQFvd+ugX3iBAI5C1mxbmIECgfvTg6+0gQD839vKY9SBAE6rl/x79IEAG0QMqfwQhQDH0nIi6CyFAHss+KNISIUA=\",\"dtype\":\"float64\",\"shape\":[100]}},\"selected\":{\"id\":\"3247\",\"type\":\"Selection\"},\"selection_policy\":{\"id\":\"3246\",\"type\":\"UnionRenderers\"}},\"id\":\"3222\",\"type\":\"ColumnDataSource\"},{\"attributes\":{\"callback\":null,\"data\":{\"x\":{\"__ndarray__\":\"AAAAAAAAAAB/pUCtXykgQH+lQK1fKTBAPvjggw8+OEB/pUCtXylAQN/OkJi3M0RAPvjggw8+SECeITFvZ0hMQH+lQK1fKVBAL7rooosuUkDfzpCYtzNUQI/jOI7jOFZAPvjggw8+WEDuDIl5O0NaQJ4hMW9nSFxATjbZZJNNXkB/pUCtXylgQNevFKj1K2FAL7rooosuYkCHxLydITFjQN/OkJi3M2RAN9lkk002ZUCP4ziO4zhmQOftDIl5O2dAPvjggw8+aECWArV+pUBpQO4MiXk7Q2pARhdddNFFa0CeITFvZ0hsQPYrBWr9Sm1ATjbZZJNNbkCmQK1fKVBvQH+lQK1fKXBAq6qqqqqqcEDXrxSo9StxQAO1fqVArXFAL7rooosuckBbv1Kg1q9yQIfEvJ0hMXNAs8kmm2yyc0DfzpCYtzN0QAvU+pUCtXRAN9lkk002dUBj3s6QmLd1QI/jOI7jOHZAu+iiiy66dkDn7QyJeTt3QBPzdobEvHdAPvjggw8+eEBq/UqBWr94QJYCtX6lQHlAwgcffPDBeUDuDIl5O0N6QBoS83aGxHpARhdddNFFe0ByHMdxHMd7QJ4hMW9nSHxAyiabbLLJfED2KwVq/Up9QCIxb2dIzH1ATjbZZJNNfkB6O0Ni3s5+QKZArV8pUH9A0kUXXXTRf0B/pUCtXymAQBWo9SsFaoBAq6qqqqqqgEBBrV8pUOuAQNevFKj1K4FAbbLJJptsgUADtX6lQK2BQJm3MyTm7YFAL7rooosugkDFvJ0hMW+CQFu/UqDWr4JA8cEHH3zwgkCHxLydITGDQB3HcRzHcYNAs8kmm2yyg0BJzNsZEvODQN/OkJi3M4RAddFFF110hEAL1PqVArWEQKHWrxSo9YRAN9lkk002hUDN2xkS83aFQGPezpCYt4VA+eCDDz74hUCP4ziO4ziGQCXm7QyJeYZAu+iiiy66hkBR61cK1PqGQOftDIl5O4dAffDBBx98h0AT83aGxLyHQKn1KwVq/YdAPvjggw8+iEDU+pUCtX6IQGr9SoFav4hAAAAAAAAAiUA=\",\"dtype\":\"float64\",\"shape\":[100]},\"y\":{\"__ndarray__\":\"AAAAAAAAAADm651+c+4wP62prt2BFW4/Jkn5qzzlkD9K+j+sL5anPyAsxyP9O7k/0FQZHcGyxj+kA6b49QvSP7MkXXcYK9o/Me68EUKt4T/7NH7jrJrmP4VMgQL1r+s/4xmiFSRk8D+ceRFvXuTyP/8FYHCeT/U/CL2kRFqg9z9BMOaDntP5PwGa9UJH6Ps/4s2/X2be/T+1iDpN07b/P+vjUvttuQBAhXCdeweKAUD5/eG0C04CQF3QfMRSBgNAz7VjDLCzA0BOvza97VYEQORvdIXK8ARAD2EEQ/iBBUCzx63eGwsGQAnMbnfNjAZANoir7JgHB0CKx5yX/nsHQErccBd06gdAGo+FLGVTCEAbodR6NLcIQFN9bmI8FglALr/hsc9wCUCLR9JVOscJQB/Cgf7BGQpAqfABraZoCkBFSA0+I7QKQA3AG9xt/ApA9mJ4ebhBC0AK82EmMYQLQAy7Im4CxAtAOv6aqlMBDEBZUvBMSTwMQIK3FRoFdQxAQDc8aqarDECgYTBdSuAMQAy6rwkMEw1AqXbCqAREDUCKSWrAS3MNQBnjTkL3oA1AnY+csBvNDUBehsk2zPcNQDzJlsgaIQ5AZfgsORhJDkBsdUNP1G8OQKftgNtdlQ5AIqCRycK5DkAb7HwxEN0OQHvGAmdS/w5AnnlDB5UgD0B0yXUG40APQPRmD7pGYA9AV9AS5sl+D0CE8KrFdZwPQBpJ9xBTuQ9Ae6wXD2rVD0BK6uSSwvAPQCakgASyBRBAAC8WvqoSEEC1ebzNTh8QQBBafWChKxBAuWmDeqU3EEB6uyf7XUMQQIwULaDNThBA6qYv/vZZEEBzmlyU3GQQQLykpb6AbxBA94pzvuV5EEDa+qS6DYQQQFBN8MD6jRBAdcHAyK6XEECvbJGyK6EQQMEh9UlzqhBAklHdRoezEECxYGhOabwQQEf6+/MaxRBAY7ojup3NEEB3yXAT89UQQOwBZWMc3hBAvjjO/hrmEECuEm4t8O0QQFJneymd9RBAX9AZISP9EEB3cIU2gwQRQITdA4G+CxFAIN8cDdYSEUA=\",\"dtype\":\"float64\",\"shape\":[100]}},\"selected\":{\"id\":\"3281\",\"type\":\"Selection\"},\"selection_policy\":{\"id\":\"3280\",\"type\":\"UnionRenderers\"}},\"id\":\"3249\",\"type\":\"ColumnDataSource\"},{\"attributes\":{\"line_alpha\":0.1,\"line_color\":\"#1f77b4\",\"line_width\":2,\"x\":{\"field\":\"x\"},\"y\":{\"field\":\"y\"}},\"id\":\"3285\",\"type\":\"Line\"},{\"attributes\":{\"data_source\":{\"id\":\"3222\",\"type\":\"ColumnDataSource\"},\"glyph\":{\"id\":\"3223\",\"type\":\"Line\"},\"hover_glyph\":null,\"muted_glyph\":null,\"nonselection_glyph\":{\"id\":\"3224\",\"type\":\"Line\"},\"selection_glyph\":null,\"view\":{\"id\":\"3226\",\"type\":\"CDSView\"}},\"id\":\"3225\",\"type\":\"GlyphRenderer\"},{\"attributes\":{\"data_source\":{\"id\":\"3265\",\"type\":\"ColumnDataSource\"},\"glyph\":{\"id\":\"3266\",\"type\":\"Line\"},\"hover_glyph\":null,\"muted_glyph\":null,\"nonselection_glyph\":{\"id\":\"3267\",\"type\":\"Line\"},\"selection_glyph\":null,\"view\":{\"id\":\"3269\",\"type\":\"CDSView\"}},\"id\":\"3268\",\"type\":\"GlyphRenderer\"},{\"attributes\":{},\"id\":\"3229\",\"type\":\"BasicTickFormatter\"},{\"attributes\":{\"callback\":null,\"data\":{\"x\":{\"__ndarray__\":\"AAAAAAAAAAB/pUCtXykgQH+lQK1fKTBAPvjggw8+OEB/pUCtXylAQN/OkJi3M0RAPvjggw8+SECeITFvZ0hMQH+lQK1fKVBAL7rooosuUkDfzpCYtzNUQI/jOI7jOFZAPvjggw8+WEDuDIl5O0NaQJ4hMW9nSFxATjbZZJNNXkB/pUCtXylgQNevFKj1K2FAL7rooosuYkCHxLydITFjQN/OkJi3M2RAN9lkk002ZUCP4ziO4zhmQOftDIl5O2dAPvjggw8+aECWArV+pUBpQO4MiXk7Q2pARhdddNFFa0CeITFvZ0hsQPYrBWr9Sm1ATjbZZJNNbkCmQK1fKVBvQH+lQK1fKXBAq6qqqqqqcEDXrxSo9StxQAO1fqVArXFAL7rooosuckBbv1Kg1q9yQIfEvJ0hMXNAs8kmm2yyc0DfzpCYtzN0QAvU+pUCtXRAN9lkk002dUBj3s6QmLd1QI/jOI7jOHZAu+iiiy66dkDn7QyJeTt3QBPzdobEvHdAPvjggw8+eEBq/UqBWr94QJYCtX6lQHlAwgcffPDBeUDuDIl5O0N6QBoS83aGxHpARhdddNFFe0ByHMdxHMd7QJ4hMW9nSHxAyiabbLLJfED2KwVq/Up9QCIxb2dIzH1ATjbZZJNNfkB6O0Ni3s5+QKZArV8pUH9A0kUXXXTRf0B/pUCtXymAQBWo9SsFaoBAq6qqqqqqgEBBrV8pUOuAQNevFKj1K4FAbbLJJptsgUADtX6lQK2BQJm3MyTm7YFAL7rooosugkDFvJ0hMW+CQFu/UqDWr4JA8cEHH3zwgkCHxLydITGDQB3HcRzHcYNAs8kmm2yyg0BJzNsZEvODQN/OkJi3M4RAddFFF110hEAL1PqVArWEQKHWrxSo9YRAN9lkk002hUDN2xkS83aFQGPezpCYt4VA+eCDDz74hUCP4ziO4ziGQCXm7QyJeYZAu+iiiy66hkBR61cK1PqGQOftDIl5O4dAffDBBx98h0AT83aGxLyHQKn1KwVq/YdAPvjggw8+iEDU+pUCtX6IQGr9SoFav4hAAAAAAAAAiUA=\",\"dtype\":\"float64\",\"shape\":[100]},\"y\":{\"__ndarray__\":\"AAAAAAAAJEDTAhkj3v8jQCQl4qce/iNAawOqYY33I0AWwFPQaegjQLhxuAWIzSNAvpqL+zSlI0D0zzpQoG8jQO0WRTynLiNALzHk3ivlIkDBHMgxVZYiQEnr168ARSJA1bxLfXvzIUDc0B0ydKMhQE//8zEMViFAbmhrt/QLIUAHOoMvjMUgQM9MoRf3giBAUgYINDNEIED3rliWJQkgQCeOVgJJox9A2kcxQvw6H0AgAY8l+tgeQO6XwZ3WfB5ANyXO+ScmHkB4oGQhidQdQCzIRb2ahx1Als993gM/HUBFHKkQcvocQByaSESZuRxABDyqiTN8HEBbnDG0AEIcQPuRR/TFChxAkzi9aU3WG0CSr5XCZaQbQHXByM7hdBtAiSAPJ5hHG0Bb3BbVYhwbQBAfvwAf8xpAywd/qazLGkD9W/lg7qUaQBkg8hHJgRpApM5DwyNfGkCcBs9s5z0aQJui7sj+HRpAA4GyKlb/GUDz1odZ2+EZQF4k9XJ9xRlAgOThyiyqGUBQz2fR2o8ZQBojKPt5dhlAy8Seq/1dGUBb28ofWkYZQJOO2F6ELxlAULixJ3IZGUDwPJvkGQQZQICbtJty7xhA64Np43PbGEBoRV7YFcgYQEmJPxJRtRhADDA3mx6jGEAOikHnd5EYQN6cfsxWgBhATENefLVvGEBhG8V8jl8YQKJM+KLcTxhA8Zf2DJtAGEDahyodxTEYQJBbhHdWIxhA3il0+EoVGED3io22ngcYQPZbf/tN+hdAHNHpQVXtF0BnhkMyseAXQAymgp9e1BdAY5Z8hVrIF0CiRNgEorwXQJDr0l8ysRdAMlnQAQmmF0CpZaNrI5sXQGBbWkF/kBdAJXWMQRqGF0BCBVtF8nsXQMyyDz8FchdApz4/N1FoF0Btk25N1F4XQFveCraMVRdAiq4iuXhMF0Brn5exlkMXQNUFBAzlOhdAuUXcRWIyF0ClNo/sDCoXQDD+mpzjIRdAXscxAeUZF0Bu7ZHSDxIXQMqYhNZiChdAvS/m3twCF0Clj3rJfPsWQJgi/H5B9BZA/CDj8intFkA=\",\"dtype\":\"float64\",\"shape\":[100]}},\"selected\":{\"id\":\"3263\",\"type\":\"Selection\"},\"selection_policy\":{\"id\":\"3262\",\"type\":\"UnionRenderers\"}},\"id\":\"3235\",\"type\":\"ColumnDataSource\"},{\"attributes\":{\"active_drag\":\"auto\",\"active_inspect\":\"auto\",\"active_multi\":null,\"active_scroll\":\"auto\",\"active_tap\":\"auto\",\"tools\":[{\"id\":\"3209\",\"type\":\"PanTool\"},{\"id\":\"3210\",\"type\":\"WheelZoomTool\"},{\"id\":\"3211\",\"type\":\"BoxZoomTool\"},{\"id\":\"3212\",\"type\":\"SaveTool\"},{\"id\":\"3213\",\"type\":\"ResetTool\"},{\"id\":\"3214\",\"type\":\"HelpTool\"}]},\"id\":\"3215\",\"type\":\"Toolbar\"},{\"attributes\":{\"label\":{\"value\":\"bound atp synthase\"},\"renderers\":[{\"id\":\"3268\",\"type\":\"GlyphRenderer\"}]},\"id\":\"3282\",\"type\":\"LegendItem\"},{\"attributes\":{\"line_color\":\"#8c564b\",\"line_width\":2,\"x\":{\"field\":\"x\"},\"y\":{\"field\":\"y\"}},\"id\":\"3284\",\"type\":\"Line\"},{\"attributes\":{},\"id\":\"3300\",\"type\":\"UnionRenderers\"},{\"attributes\":{\"line_color\":\"#1f77b3\",\"line_width\":2,\"x\":{\"field\":\"x\"},\"y\":{\"field\":\"y\"}},\"id\":\"3223\",\"type\":\"Line\"},{\"attributes\":{\"line_color\":\"#2ba02b\",\"line_width\":2,\"x\":{\"field\":\"x\"},\"y\":{\"field\":\"y\"}},\"id\":\"3250\",\"type\":\"Line\"},{\"attributes\":{\"text\":\"with ATP Synthase, Proton Pump, ATP Use\"},\"id\":\"3189\",\"type\":\"Title\"},{\"attributes\":{},\"id\":\"3209\",\"type\":\"PanTool\"},{\"attributes\":{\"data_source\":{\"id\":\"3283\",\"type\":\"ColumnDataSource\"},\"glyph\":{\"id\":\"3284\",\"type\":\"Line\"},\"hover_glyph\":null,\"muted_glyph\":null,\"nonselection_glyph\":{\"id\":\"3285\",\"type\":\"Line\"},\"selection_glyph\":null,\"view\":{\"id\":\"3287\",\"type\":\"CDSView\"}},\"id\":\"3286\",\"type\":\"GlyphRenderer\"},{\"attributes\":{\"data_source\":{\"id\":\"3249\",\"type\":\"ColumnDataSource\"},\"glyph\":{\"id\":\"3250\",\"type\":\"Line\"},\"hover_glyph\":null,\"muted_glyph\":null,\"nonselection_glyph\":{\"id\":\"3251\",\"type\":\"Line\"},\"selection_glyph\":null,\"view\":{\"id\":\"3253\",\"type\":\"CDSView\"}},\"id\":\"3252\",\"type\":\"GlyphRenderer\"},{\"attributes\":{},\"id\":\"3281\",\"type\":\"Selection\"},{\"attributes\":{\"click_policy\":\"hide\",\"items\":[{\"id\":\"3234\",\"type\":\"LegendItem\"},{\"id\":\"3248\",\"type\":\"LegendItem\"},{\"id\":\"3264\",\"type\":\"LegendItem\"},{\"id\":\"3282\",\"type\":\"LegendItem\"},{\"id\":\"3302\",\"type\":\"LegendItem\"}],\"location\":\"center_right\"},\"id\":\"3233\",\"type\":\"Legend\"},{\"attributes\":{\"callback\":null},\"id\":\"3191\",\"type\":\"DataRange1d\"},{\"attributes\":{},\"id\":\"3210\",\"type\":\"WheelZoomTool\"},{\"attributes\":{\"line_alpha\":0.1,\"line_color\":\"#1f77b4\",\"line_width\":2,\"x\":{\"field\":\"x\"},\"y\":{\"field\":\"y\"}},\"id\":\"3251\",\"type\":\"Line\"},{\"attributes\":{\"overlay\":{\"id\":\"3232\",\"type\":\"BoxAnnotation\"}},\"id\":\"3211\",\"type\":\"BoxZoomTool\"},{\"attributes\":{\"source\":{\"id\":\"3235\",\"type\":\"ColumnDataSource\"}},\"id\":\"3239\",\"type\":\"CDSView\"},{\"attributes\":{\"source\":{\"id\":\"3249\",\"type\":\"ColumnDataSource\"}},\"id\":\"3253\",\"type\":\"CDSView\"},{\"attributes\":{\"line_color\":\"#9367bc\",\"line_width\":2,\"x\":{\"field\":\"x\"},\"y\":{\"field\":\"y\"}},\"id\":\"3266\",\"type\":\"Line\"},{\"attributes\":{},\"id\":\"3212\",\"type\":\"SaveTool\"},{\"attributes\":{\"label\":{\"value\":\"outside_H\"},\"renderers\":[{\"id\":\"3238\",\"type\":\"GlyphRenderer\"}]},\"id\":\"3248\",\"type\":\"LegendItem\"},{\"attributes\":{\"callback\":null},\"id\":\"3193\",\"type\":\"DataRange1d\"},{\"attributes\":{\"label\":{\"value\":\"bound proton pump\"},\"renderers\":[{\"id\":\"3286\",\"type\":\"GlyphRenderer\"}]},\"id\":\"3302\",\"type\":\"LegendItem\"},{\"attributes\":{\"line_color\":\"#ff7e0e\",\"line_width\":2,\"x\":{\"field\":\"x\"},\"y\":{\"field\":\"y\"}},\"id\":\"3236\",\"type\":\"Line\"},{\"attributes\":{},\"id\":\"3213\",\"type\":\"ResetTool\"},{\"attributes\":{},\"id\":\"3247\",\"type\":\"Selection\"},{\"attributes\":{},\"id\":\"3195\",\"type\":\"LinearScale\"},{\"attributes\":{\"callback\":null,\"data\":{\"x\":{\"__ndarray__\":\"AAAAAAAAAAB/pUCtXykgQH+lQK1fKTBAPvjggw8+OEB/pUCtXylAQN/OkJi3M0RAPvjggw8+SECeITFvZ0hMQH+lQK1fKVBAL7rooosuUkDfzpCYtzNUQI/jOI7jOFZAPvjggw8+WEDuDIl5O0NaQJ4hMW9nSFxATjbZZJNNXkB/pUCtXylgQNevFKj1K2FAL7rooosuYkCHxLydITFjQN/OkJi3M2RAN9lkk002ZUCP4ziO4zhmQOftDIl5O2dAPvjggw8+aECWArV+pUBpQO4MiXk7Q2pARhdddNFFa0CeITFvZ0hsQPYrBWr9Sm1ATjbZZJNNbkCmQK1fKVBvQH+lQK1fKXBAq6qqqqqqcEDXrxSo9StxQAO1fqVArXFAL7rooosuckBbv1Kg1q9yQIfEvJ0hMXNAs8kmm2yyc0DfzpCYtzN0QAvU+pUCtXRAN9lkk002dUBj3s6QmLd1QI/jOI7jOHZAu+iiiy66dkDn7QyJeTt3QBPzdobEvHdAPvjggw8+eEBq/UqBWr94QJYCtX6lQHlAwgcffPDBeUDuDIl5O0N6QBoS83aGxHpARhdddNFFe0ByHMdxHMd7QJ4hMW9nSHxAyiabbLLJfED2KwVq/Up9QCIxb2dIzH1ATjbZZJNNfkB6O0Ni3s5+QKZArV8pUH9A0kUXXXTRf0B/pUCtXymAQBWo9SsFaoBAq6qqqqqqgEBBrV8pUOuAQNevFKj1K4FAbbLJJptsgUADtX6lQK2BQJm3MyTm7YFAL7rooosugkDFvJ0hMW+CQFu/UqDWr4JA8cEHH3zwgkCHxLydITGDQB3HcRzHcYNAs8kmm2yyg0BJzNsZEvODQN/OkJi3M4RAddFFF110hEAL1PqVArWEQKHWrxSo9YRAN9lkk002hUDN2xkS83aFQGPezpCYt4VA+eCDDz74hUCP4ziO4ziGQCXm7QyJeYZAu+iiiy66hkBR61cK1PqGQOftDIl5O4dAffDBBx98h0AT83aGxLyHQKn1KwVq/YdAPvjggw8+iEDU+pUCtX6IQGr9SoFav4hAAAAAAAAAiUA=\",\"dtype\":\"float64\",\"shape\":[100]},\"y\":{\"__ndarray__\":\"AAAAAAAAAAAYzD/MYFyRPgrmZzdl4c4+ahNUPmJz8T7b220kRbkIP0TxRoBTKRs/pitibc9vKT+RfNDug1s1P5NbqMRkkUA/SmXVRnQ2SD+mf5ja1OJQP3f4a+C/sFY/a68+b3eTXT9XC7T8istiP/zn0S3XYmc/b4yie86TbD8Y0KTK8zBxP9uYhjYAaHQ/Qu+kKTzwdz/uTnv4osp7P0SQEtAE+H8/2edIJ4c8gj+frmJxJ6eEP7j2W+UePIc/PiFHQJ/7iT864aAS0uWMP7+Nuzba+o8/BYq2c2qdkT+yuPdk7VKTP3O0KVIAHpU/USl+Bqz+lj/7zf/y9/SYP6wYYGfqAJs/KFMyvYginT+KpF1811mfP+G4vjtt06A/SEUCcsoEoj9iOAW3BEGjP1fm1CMdiKQ/IysKmxTapT8weQnO6zanP+WqJEGjnqg/o+4XTzsRqj9ZuNQrtI6rP5H3vuYNF60/VBxsbEiqrj+XJw7EMSSwPxRYbHKv+LA/UhkvB53SsT8cf+o4+rGyP2dpLq/GlrM/9oW7AgKBtD/+hKe9q3C1PwYSgVvDZbY/GFxfSUhgtz9dzO7lOWC4PzEPc4GXZbk/9MHMXWBwuj+2CKyuk4C7Pz+xBJkwlrw/7m2GMzaxvT++Y3mGo9G+P43ulYt3978/lGECl1iRwD+MTC2lpynBPyvKRVeoxME/kZTuDFpiwj/e2WwevALDPyGxotzNpcM/4wUHkY5LxD81y499/fPEP20V29wZn8U/SYA+4uJMxj+ztie5V/3GP2JHpoV3sMc/lWqeZEFmyD980elqtB7JP8bFAKbP2ck/so7gG5KXyj9d0s7K+lfLPxfOiKkIG8w/5bRcp7rgzD82hEmsD6nNPyM75ZcGdM4/pl2gQp5Bzz/Ha7S+6gjQP4PctohVctA/xlgf4A7d0D9NA/chFknRPzh2fKdqttE/OS4ixgsl0j9eMZLP+JTSP6JrsRExBtM/DFag1rN40z/Z2L1kgOzTPwE/qf6VYdQ/c6lF4/PX1D+0q7pNmU/VPyGqeHWFyNU/zyo7jrdC1j8=\",\"dtype\":\"float64\",\"shape\":[100]}},\"selected\":{\"id\":\"3442\",\"type\":\"Selection\"},\"selection_policy\":{\"id\":\"3441\",\"type\":\"UnionRenderers\"}},\"id\":\"3283\",\"type\":\"ColumnDataSource\"},{\"attributes\":{},\"id\":\"3197\",\"type\":\"LinearScale\"},{\"attributes\":{},\"id\":\"3214\",\"type\":\"HelpTool\"},{\"attributes\":{\"source\":{\"id\":\"3283\",\"type\":\"ColumnDataSource\"}},\"id\":\"3287\",\"type\":\"CDSView\"},{\"attributes\":{},\"id\":\"3442\",\"type\":\"Selection\"},{\"attributes\":{},\"id\":\"3246\",\"type\":\"UnionRenderers\"},{\"attributes\":{},\"id\":\"3280\",\"type\":\"UnionRenderers\"},{\"attributes\":{\"axis_label\":\"time (sec)\",\"formatter\":{\"id\":\"3229\",\"type\":\"BasicTickFormatter\"},\"ticker\":{\"id\":\"3200\",\"type\":\"BasicTicker\"}},\"id\":\"3199\",\"type\":\"LinearAxis\"},{\"attributes\":{\"label\":{\"value\":\"inside_H\"},\"renderers\":[{\"id\":\"3252\",\"type\":\"GlyphRenderer\"}]},\"id\":\"3264\",\"type\":\"LegendItem\"},{\"attributes\":{\"line_alpha\":0.1,\"line_color\":\"#1f77b4\",\"line_width\":2,\"x\":{\"field\":\"x\"},\"y\":{\"field\":\"y\"}},\"id\":\"3224\",\"type\":\"Line\"},{\"attributes\":{\"source\":{\"id\":\"3265\",\"type\":\"ColumnDataSource\"}},\"id\":\"3269\",\"type\":\"CDSView\"},{\"attributes\":{\"ticker\":{\"id\":\"3200\",\"type\":\"BasicTicker\"}},\"id\":\"3203\",\"type\":\"Grid\"},{\"attributes\":{\"line_alpha\":0.1,\"line_color\":\"#1f77b4\",\"line_width\":2,\"x\":{\"field\":\"x\"},\"y\":{\"field\":\"y\"}},\"id\":\"3267\",\"type\":\"Line\"},{\"attributes\":{\"callback\":null,\"data\":{\"x\":{\"__ndarray__\":\"AAAAAAAAAAB/pUCtXykgQH+lQK1fKTBAPvjggw8+OEB/pUCtXylAQN/OkJi3M0RAPvjggw8+SECeITFvZ0hMQH+lQK1fKVBAL7rooosuUkDfzpCYtzNUQI/jOI7jOFZAPvjggw8+WEDuDIl5O0NaQJ4hMW9nSFxATjbZZJNNXkB/pUCtXylgQNevFKj1K2FAL7rooosuYkCHxLydITFjQN/OkJi3M2RAN9lkk002ZUCP4ziO4zhmQOftDIl5O2dAPvjggw8+aECWArV+pUBpQO4MiXk7Q2pARhdddNFFa0CeITFvZ0hsQPYrBWr9Sm1ATjbZZJNNbkCmQK1fKVBvQH+lQK1fKXBAq6qqqqqqcEDXrxSo9StxQAO1fqVArXFAL7rooosuckBbv1Kg1q9yQIfEvJ0hMXNAs8kmm2yyc0DfzpCYtzN0QAvU+pUCtXRAN9lkk002dUBj3s6QmLd1QI/jOI7jOHZAu+iiiy66dkDn7QyJeTt3QBPzdobEvHdAPvjggw8+eEBq/UqBWr94QJYCtX6lQHlAwgcffPDBeUDuDIl5O0N6QBoS83aGxHpARhdddNFFe0ByHMdxHMd7QJ4hMW9nSHxAyiabbLLJfED2KwVq/Up9QCIxb2dIzH1ATjbZZJNNfkB6O0Ni3s5+QKZArV8pUH9A0kUXXXTRf0B/pUCtXymAQBWo9SsFaoBAq6qqqqqqgEBBrV8pUOuAQNevFKj1K4FAbbLJJptsgUADtX6lQK2BQJm3MyTm7YFAL7rooosugkDFvJ0hMW+CQFu/UqDWr4JA8cEHH3zwgkCHxLydITGDQB3HcRzHcYNAs8kmm2yyg0BJzNsZEvODQN/OkJi3M4RAddFFF110hEAL1PqVArWEQKHWrxSo9YRAN9lkk002hUDN2xkS83aFQGPezpCYt4VA+eCDDz74hUCP4ziO4ziGQCXm7QyJeYZAu+iiiy66hkBR61cK1PqGQOftDIl5O4dAffDBBx98h0AT83aGxLyHQKn1KwVq/YdAPvjggw8+iEDU+pUCtX6IQGr9SoFav4hAAAAAAAAAiUA=\",\"dtype\":\"float64\",\"shape\":[100]},\"y\":{\"__ndarray__\":\"AAAAAAAAAAAYzD/MYFyRPgrmZzdl4c4+ZhNUPmJz8T7S220kRbkIPz7xRoBTKRs/oStibc9vKT+MfNDug1s1P5BbqMRkkUA/RGXVRnQ2SD+if5ja1OJQP3L4a+C/sFY/Z68+b3eTXT9VC7T8istiP/nn0S3XYmc/bIyie86TbD8W0KTK8zBxP9mYhjYAaHQ/P++kKTzwdz/rTnv4osp7P0KQEtAE+H8/2OdIJ4c8gj+drmJxJ6eEP7b2W+UePIc/PiFHQJ/7iT864aAS0uWMP7+Nuzba+o8/BYq2c2qdkT+yuPdk7VKTP3O0KVIAHpU/USl+Bqz+lj/7zf/y9/SYP6wYYGfqAJs/KVMyvYginT+MpF1811mfP+K4vjtt06A/SUUCcsoEoj9jOAW3BEGjP1jm1CMdiKQ/JCsKmxTapT8xeQnO6zanP+aqJEGjnqg/pO4XTzsRqj9auNQrtI6rP5L3vuYNF60/VRxsbEiqrj+YJw7EMSSwPxVYbHKv+LA/UxkvB53SsT8df+o4+rGyP2lpLq/GlrM/+IW7AgKBtD8Ahae9q3C1PwgSgVvDZbY/GlxfSUhgtz9fzO7lOWC4PzMPc4GXZbk/9sHMXWBwuj+4CKyuk4C7P0GxBJkwlrw/8G2GMzaxvT/AY3mGo9G+P4/ulYt3978/lWECl1iRwD+NTC2lpynBPyzKRVeoxME/kpTuDFpiwj/f2WwevALDPyKxotzNpcM/5AUHkY5LxD82y499/fPEP24V29wZn8U/SoA+4uJMxj+0tie5V/3GP2NHpoV3sMc/lmqeZEFmyD990elqtB7JP8fFAKbP2ck/s47gG5KXyj9e0s7K+lfLPxjOiKkIG8w/5rRcp7rgzD83hEmsD6nNPyM75ZcGdM4/p12gQp5Bzz/Ia7S+6gjQP4TctohVctA/x1gf4A7d0D9OA/chFknRPzl2fKdqttE/Oi4ixgsl0j9fMZLP+JTSP6NrsRExBtM/DVag1rN40z/a2L1kgOzTPwI/qf6VYdQ/dKlF4/PX1D+1q7pNmU/VPyKqeHWFyNU/0Co7jrdC1j8=\",\"dtype\":\"float64\",\"shape\":[100]}},\"selected\":{\"id\":\"3301\",\"type\":\"Selection\"},\"selection_policy\":{\"id\":\"3300\",\"type\":\"UnionRenderers\"}},\"id\":\"3265\",\"type\":\"ColumnDataSource\"},{\"attributes\":{},\"id\":\"3262\",\"type\":\"UnionRenderers\"},{\"attributes\":{\"dimension\":1,\"ticker\":{\"id\":\"3205\",\"type\":\"BasicTicker\"}},\"id\":\"3208\",\"type\":\"Grid\"},{\"attributes\":{\"source\":{\"id\":\"3222\",\"type\":\"ColumnDataSource\"}},\"id\":\"3226\",\"type\":\"CDSView\"},{\"attributes\":{},\"id\":\"3301\",\"type\":\"Selection\"},{\"attributes\":{},\"id\":\"3441\",\"type\":\"UnionRenderers\"},{\"attributes\":{},\"id\":\"3200\",\"type\":\"BasicTicker\"},{\"attributes\":{\"data_source\":{\"id\":\"3235\",\"type\":\"ColumnDataSource\"},\"glyph\":{\"id\":\"3236\",\"type\":\"Line\"},\"hover_glyph\":null,\"muted_glyph\":null,\"nonselection_glyph\":{\"id\":\"3237\",\"type\":\"Line\"},\"selection_glyph\":null,\"view\":{\"id\":\"3239\",\"type\":\"CDSView\"}},\"id\":\"3238\",\"type\":\"GlyphRenderer\"}],\"root_ids\":[\"3188\"]},\"title\":\"Bokeh Application\",\"version\":\"1.4.0\"}};\n",
       "  var render_items = [{\"docid\":\"cb7be8c1-1cd3-4429-afaa-b46f8fd92e7a\",\"roots\":{\"3188\":\"713b91b1-dac9-4ff0-831d-1fce96da4df2\"}}];\n",
       "  root.Bokeh.embed.embed_items_notebook(docs_json, render_items);\n",
       "\n",
       "  }\n",
       "  if (root.Bokeh !== undefined) {\n",
       "    embed_document(root);\n",
       "  } else {\n",
       "    var attempts = 0;\n",
       "    var timer = setInterval(function(root) {\n",
       "      if (root.Bokeh !== undefined) {\n",
       "        clearInterval(timer);\n",
       "        embed_document(root);\n",
       "      } else {\n",
       "        attempts++;\n",
       "        if (attempts > 100) {\n",
       "          clearInterval(timer);\n",
       "          console.log(\"Bokeh: ERROR: Unable to run BokehJS code because BokehJS library is missing\");\n",
       "        }\n",
       "      }\n",
       "    }, 10, root)\n",
       "  }\n",
       "})(window);"
      ],
      "application/vnd.bokehjs_exec.v0+json": ""
     },
     "metadata": {
      "application/vnd.bokehjs_exec.v0+json": {
       "id": "3188"
      }
     },
     "output_type": "display_data"
    }
   ],
   "source": [
    "#plt_timepoints = timepoints/60\n",
    "\n",
    "p4 = bokeh.plotting.figure(width = 450, height = 350, title = 'with ATP Synthase, Proton Pump, ATP Use',\n",
    "                          x_axis_label = 'time (sec)',\n",
    "                          y_axis_label = 'concentration (nM)')\n",
    "plot_list = [ATP_id_100, outside_H_id, inside_H_id, atp_synthase_b_protein_id_100, proton_pump_b_protein_id_100]\n",
    "plot_str = ['atp', 'outside_H', 'inside_H', 'bound atp synthase', 'bound proton pump']\n",
    "for i,item in enumerate(plot_list):\n",
    "    p4.line(timepoints, results_100[item], line_width = 2, legend_label = plot_str[i], color = palette[i])\n",
    "#p3.line(plt_timepoints, results_everything[ATP_id3])\n",
    "p4.legend.click_policy = 'hide'\n",
    "p4.legend.location = 'center_right'\n",
    "\n",
    "bokeh.io.show(p4)\n",
    "\n",
    "\n"
   ]
  },
  {
   "cell_type": "markdown",
   "metadata": {},
   "source": [
    "## Compare at whatever param value you had before \n",
    "---"
   ]
  },
  {
   "cell_type": "code",
   "execution_count": 46,
   "metadata": {},
   "outputs": [],
   "source": [
    "#ss5_pp_txtl = createSubsystem('proton_pump_tx_tl.xml', subsystemName = 'pp_txtl')\n",
    "# atp synthase models\n",
    "ss1_atpsyn_txtl = createSubsystem('atpsynthase_machinery_txtl.xml', subsystemName = 'atpsyn_txtl')\n",
    "ss2_atpsyn_mi = createSubsystem('atpsynthase_membrane_integration.xml', subsystemName = 'atpsyn_mi')\n",
    "ss3_atpsynthesis = createSubsystem('atp_synthesis_through_atpsynthase.xml', subsystemName = 'atpsynthesis')\n",
    "ss4_atp_use = createSubsystem('atp_50_use.xml', subsystemName = 'atp_use')\n",
    "ss5_pp_txtl = createSubsystem('proton_pump_machinery_txtl.xml', subsystemName = 'pp_txtl')\n",
    "ss6_pp_mi = createSubsystem('proton_pump_membrane_integration.xml', subsystemName = 'pp_mi')\n",
    "ss7_protontransport = createSubsystem('proton_transport_through_proton_pump.xml', subsystemName = 'protontransport')"
   ]
  },
  {
   "cell_type": "code",
   "execution_count": 47,
   "metadata": {},
   "outputs": [],
   "source": [
    "entire_subsystem = ss1_atpsyn_txtl + ss2_atpsyn_mi + ss3_atpsynthesis + ss4_atp_use + ss5_pp_txtl + ss6_pp_mi + ss7_protontransport"
   ]
  },
  {
   "cell_type": "code",
   "execution_count": 48,
   "metadata": {},
   "outputs": [],
   "source": [
    "# Initial conditions\n",
    "spec_list_10 = ['dna_proton_pump', 'dna_atpsyn','proton_outside_H', 'metabolite_atp','protein_RNAP_machinery', \n",
    "                'protein_Ribo_machinery', 'protein_RNAse_machinery']\n",
    "for i,spec in enumerate(spec_list_10):\n",
    "    entire_subsystem.setSpeciesAmount(spec,10)\n",
    "\n",
    "\n",
    "# timepoints and get results\n",
    "# timepoints = np.linspace(0,10,100)\n",
    "# results, _ = entire_subsystem.simulateWithBioscrape(timepoints, sbml_warnings = False)\n",
    "\n",
    "# Get species IDs\n",
    "ATP_id_orig = entire_subsystem.getSpeciesByName('metabolite_atp').getId()\n",
    "ADP_id = entire_subsystem.getSpeciesByName('metabolite_adp').getId()\n",
    "\n",
    "outside_H_id = entire_subsystem.getSpeciesByName('proton_outside_H').getId()\n",
    "inside_H_id = entire_subsystem.getSpeciesByName('proton_inside_H').getId()\n",
    "\n",
    "proton_pump_b_protein_id_orig = entire_subsystem.getSpeciesByName('protein_proton_pump_b').getId()\n",
    "proton_pump_f_protein_id = entire_subsystem.getSpeciesByName('protein_proton_pump').getId()\n",
    "\n",
    "atp_synthase_b_protein_id_orig = entire_subsystem.getSpeciesByName('protein_atpsyn_b').getId()\n",
    "atp_synthase_f_protein_id = entire_subsystem.getSpeciesByName('protein_atpsyn').getId()\n",
    "\n"
   ]
  },
  {
   "cell_type": "code",
   "execution_count": 49,
   "metadata": {},
   "outputs": [
    {
     "name": "stderr",
     "output_type": "stream",
     "text": [
      "odeint failed with mxstep=500..."
     ]
    }
   ],
   "source": [
    "timepoints = np.linspace(0,800,100)\n",
    "results_original, _ = entire_subsystem.simulateWithBioscrape(timepoints, sbml_warnings = False)"
   ]
  },
  {
   "cell_type": "code",
   "execution_count": 50,
   "metadata": {},
   "outputs": [
    {
     "data": {
      "text/html": [
       "\n",
       "\n",
       "\n",
       "\n",
       "\n",
       "\n",
       "  <div class=\"bk-root\" id=\"7ae89733-256f-4d10-8217-9563a0301e96\" data-root-id=\"3539\"></div>\n"
      ]
     },
     "metadata": {},
     "output_type": "display_data"
    },
    {
     "data": {
      "application/javascript": [
       "(function(root) {\n",
       "  function embed_document(root) {\n",
       "    \n",
       "  var docs_json = {\"3145bfc7-2edd-445f-bfe0-da2145049d93\":{\"roots\":{\"references\":[{\"attributes\":{\"below\":[{\"id\":\"3550\",\"type\":\"LinearAxis\"}],\"center\":[{\"id\":\"3554\",\"type\":\"Grid\"},{\"id\":\"3559\",\"type\":\"Grid\"},{\"id\":\"3584\",\"type\":\"Legend\"}],\"left\":[{\"id\":\"3555\",\"type\":\"LinearAxis\"}],\"plot_height\":350,\"plot_width\":450,\"renderers\":[{\"id\":\"3576\",\"type\":\"GlyphRenderer\"},{\"id\":\"3589\",\"type\":\"GlyphRenderer\"},{\"id\":\"3603\",\"type\":\"GlyphRenderer\"},{\"id\":\"3619\",\"type\":\"GlyphRenderer\"},{\"id\":\"3637\",\"type\":\"GlyphRenderer\"}],\"title\":{\"id\":\"3540\",\"type\":\"Title\"},\"toolbar\":{\"id\":\"3566\",\"type\":\"Toolbar\"},\"x_range\":{\"id\":\"3542\",\"type\":\"DataRange1d\"},\"x_scale\":{\"id\":\"3546\",\"type\":\"LinearScale\"},\"y_range\":{\"id\":\"3544\",\"type\":\"DataRange1d\"},\"y_scale\":{\"id\":\"3548\",\"type\":\"LinearScale\"}},\"id\":\"3539\",\"subtype\":\"Figure\",\"type\":\"Plot\"},{\"attributes\":{\"callback\":null},\"id\":\"3542\",\"type\":\"DataRange1d\"},{\"attributes\":{},\"id\":\"3561\",\"type\":\"WheelZoomTool\"},{\"attributes\":{},\"id\":\"3651\",\"type\":\"UnionRenderers\"},{\"attributes\":{\"data_source\":{\"id\":\"3573\",\"type\":\"ColumnDataSource\"},\"glyph\":{\"id\":\"3574\",\"type\":\"Line\"},\"hover_glyph\":null,\"muted_glyph\":null,\"nonselection_glyph\":{\"id\":\"3575\",\"type\":\"Line\"},\"selection_glyph\":null,\"view\":{\"id\":\"3577\",\"type\":\"CDSView\"}},\"id\":\"3576\",\"type\":\"GlyphRenderer\"},{\"attributes\":{\"overlay\":{\"id\":\"3583\",\"type\":\"BoxAnnotation\"}},\"id\":\"3562\",\"type\":\"BoxZoomTool\"},{\"attributes\":{\"line_alpha\":0.1,\"line_color\":\"#1f77b4\",\"line_width\":2,\"x\":{\"field\":\"x\"},\"y\":{\"field\":\"y\"}},\"id\":\"3588\",\"type\":\"Line\"},{\"attributes\":{\"source\":{\"id\":\"3600\",\"type\":\"ColumnDataSource\"}},\"id\":\"3604\",\"type\":\"CDSView\"},{\"attributes\":{\"click_policy\":\"hide\",\"items\":[{\"id\":\"3585\",\"type\":\"LegendItem\"},{\"id\":\"3599\",\"type\":\"LegendItem\"},{\"id\":\"3615\",\"type\":\"LegendItem\"},{\"id\":\"3633\",\"type\":\"LegendItem\"},{\"id\":\"3653\",\"type\":\"LegendItem\"}],\"location\":\"center_right\"},\"id\":\"3584\",\"type\":\"Legend\"},{\"attributes\":{\"callback\":null},\"id\":\"3544\",\"type\":\"DataRange1d\"},{\"attributes\":{},\"id\":\"3563\",\"type\":\"SaveTool\"},{\"attributes\":{\"line_color\":\"#8c564b\",\"line_width\":2,\"x\":{\"field\":\"x\"},\"y\":{\"field\":\"y\"}},\"id\":\"3635\",\"type\":\"Line\"},{\"attributes\":{},\"id\":\"3546\",\"type\":\"LinearScale\"},{\"attributes\":{},\"id\":\"3564\",\"type\":\"ResetTool\"},{\"attributes\":{},\"id\":\"3548\",\"type\":\"LinearScale\"},{\"attributes\":{\"line_alpha\":0.1,\"line_color\":\"#1f77b4\",\"line_width\":2,\"x\":{\"field\":\"x\"},\"y\":{\"field\":\"y\"}},\"id\":\"3602\",\"type\":\"Line\"},{\"attributes\":{},\"id\":\"3556\",\"type\":\"BasicTicker\"},{\"attributes\":{\"axis_label\":\"time\",\"formatter\":{\"id\":\"3580\",\"type\":\"BasicTickFormatter\"},\"ticker\":{\"id\":\"3551\",\"type\":\"BasicTicker\"}},\"id\":\"3550\",\"type\":\"LinearAxis\"},{\"attributes\":{},\"id\":\"3565\",\"type\":\"HelpTool\"},{\"attributes\":{\"label\":{\"value\":\"bound proton pump\"},\"renderers\":[{\"id\":\"3637\",\"type\":\"GlyphRenderer\"}]},\"id\":\"3653\",\"type\":\"LegendItem\"},{\"attributes\":{},\"id\":\"3632\",\"type\":\"Selection\"},{\"attributes\":{\"label\":{\"value\":\"inside_H\"},\"renderers\":[{\"id\":\"3603\",\"type\":\"GlyphRenderer\"}]},\"id\":\"3615\",\"type\":\"LegendItem\"},{\"attributes\":{\"active_drag\":\"auto\",\"active_inspect\":\"auto\",\"active_multi\":null,\"active_scroll\":\"auto\",\"active_tap\":\"auto\",\"tools\":[{\"id\":\"3560\",\"type\":\"PanTool\"},{\"id\":\"3561\",\"type\":\"WheelZoomTool\"},{\"id\":\"3562\",\"type\":\"BoxZoomTool\"},{\"id\":\"3563\",\"type\":\"SaveTool\"},{\"id\":\"3564\",\"type\":\"ResetTool\"},{\"id\":\"3565\",\"type\":\"HelpTool\"}]},\"id\":\"3566\",\"type\":\"Toolbar\"},{\"attributes\":{},\"id\":\"3551\",\"type\":\"BasicTicker\"},{\"attributes\":{},\"id\":\"3631\",\"type\":\"UnionRenderers\"},{\"attributes\":{\"data_source\":{\"id\":\"3600\",\"type\":\"ColumnDataSource\"},\"glyph\":{\"id\":\"3601\",\"type\":\"Line\"},\"hover_glyph\":null,\"muted_glyph\":null,\"nonselection_glyph\":{\"id\":\"3602\",\"type\":\"Line\"},\"selection_glyph\":null,\"view\":{\"id\":\"3604\",\"type\":\"CDSView\"}},\"id\":\"3603\",\"type\":\"GlyphRenderer\"},{\"attributes\":{\"label\":{\"value\":\"bound atp synthase\"},\"renderers\":[{\"id\":\"3619\",\"type\":\"GlyphRenderer\"}]},\"id\":\"3633\",\"type\":\"LegendItem\"},{\"attributes\":{\"ticker\":{\"id\":\"3551\",\"type\":\"BasicTicker\"}},\"id\":\"3554\",\"type\":\"Grid\"},{\"attributes\":{\"source\":{\"id\":\"3573\",\"type\":\"ColumnDataSource\"}},\"id\":\"3577\",\"type\":\"CDSView\"},{\"attributes\":{},\"id\":\"3598\",\"type\":\"Selection\"},{\"attributes\":{\"bottom_units\":\"screen\",\"fill_alpha\":{\"value\":0.5},\"fill_color\":{\"value\":\"lightgrey\"},\"left_units\":\"screen\",\"level\":\"overlay\",\"line_alpha\":{\"value\":1.0},\"line_color\":{\"value\":\"black\"},\"line_dash\":[4,4],\"line_width\":{\"value\":2},\"render_mode\":\"css\",\"right_units\":\"screen\",\"top_units\":\"screen\"},\"id\":\"3583\",\"type\":\"BoxAnnotation\"},{\"attributes\":{},\"id\":\"3613\",\"type\":\"UnionRenderers\"},{\"attributes\":{\"source\":{\"id\":\"3586\",\"type\":\"ColumnDataSource\"}},\"id\":\"3590\",\"type\":\"CDSView\"},{\"attributes\":{\"callback\":null,\"data\":{\"x\":{\"__ndarray__\":\"AAAAAAAAAAB/pUCtXykgQH+lQK1fKTBAPvjggw8+OEB/pUCtXylAQN/OkJi3M0RAPvjggw8+SECeITFvZ0hMQH+lQK1fKVBAL7rooosuUkDfzpCYtzNUQI/jOI7jOFZAPvjggw8+WEDuDIl5O0NaQJ4hMW9nSFxATjbZZJNNXkB/pUCtXylgQNevFKj1K2FAL7rooosuYkCHxLydITFjQN/OkJi3M2RAN9lkk002ZUCP4ziO4zhmQOftDIl5O2dAPvjggw8+aECWArV+pUBpQO4MiXk7Q2pARhdddNFFa0CeITFvZ0hsQPYrBWr9Sm1ATjbZZJNNbkCmQK1fKVBvQH+lQK1fKXBAq6qqqqqqcEDXrxSo9StxQAO1fqVArXFAL7rooosuckBbv1Kg1q9yQIfEvJ0hMXNAs8kmm2yyc0DfzpCYtzN0QAvU+pUCtXRAN9lkk002dUBj3s6QmLd1QI/jOI7jOHZAu+iiiy66dkDn7QyJeTt3QBPzdobEvHdAPvjggw8+eEBq/UqBWr94QJYCtX6lQHlAwgcffPDBeUDuDIl5O0N6QBoS83aGxHpARhdddNFFe0ByHMdxHMd7QJ4hMW9nSHxAyiabbLLJfED2KwVq/Up9QCIxb2dIzH1ATjbZZJNNfkB6O0Ni3s5+QKZArV8pUH9A0kUXXXTRf0B/pUCtXymAQBWo9SsFaoBAq6qqqqqqgEBBrV8pUOuAQNevFKj1K4FAbbLJJptsgUADtX6lQK2BQJm3MyTm7YFAL7rooosugkDFvJ0hMW+CQFu/UqDWr4JA8cEHH3zwgkCHxLydITGDQB3HcRzHcYNAs8kmm2yyg0BJzNsZEvODQN/OkJi3M4RAddFFF110hEAL1PqVArWEQKHWrxSo9YRAN9lkk002hUDN2xkS83aFQGPezpCYt4VA+eCDDz74hUCP4ziO4ziGQCXm7QyJeYZAu+iiiy66hkBR61cK1PqGQOftDIl5O4dAffDBBx98h0AT83aGxLyHQKn1KwVq/YdAPvjggw8+iEDU+pUCtX6IQGr9SoFav4hAAAAAAAAAiUA=\",\"dtype\":\"float64\",\"shape\":[100]},\"y\":{\"__ndarray__\":\"AAAAAAAAJEAowM8jV7UjQEWwqEMZbCJAYKve9frcIEC7rFVL8CofQH8II3KiQR1A+44lzvnUG0Cvd5rye78aQPtIJidk5xlAgfWt1aI7GUBhMCarrrAYQFR/tyl+PhhA188e9VTfF0ArxAXdBo8XQERD/a99ShdAuhwHyWcPF0AbPgGqANwWQJobMrfqrhZAtlMLYBSHFkDlHS4KpWMWQGK2j1DvQxZA/vtz+WYnFkC7MQKKmQ0WQLlsF7so9hVAsAUiQ8bgFUBJ5eujMM0VQPULpq8wuxVAy8g9mpeqFUBfT5h1PZsVQPlyGf3/jBVAT4dBoMF/FUASAES8aHMVQKJqqfveZxVA1rhE0xBdFUD6MrQW7VIVQDP0xaBkSRVAby67BmpAFUAZ9wFe8TcVQH23ywbwLxVALeT3gFwoFUCpyt9GLiEVQG+39a5dGhVAuhHSzuMTFUBujP1mug0VQCiEX83bBxVAMOLn20ICFUCSEJfj6vwUQPyRmJ3P9xRAlPo9Ie3yFEC7gCnaP+4UQPvX537E6RRAetCQCXjlFEAk22CyV+EUQJO4++dg3RRAiCIhS5HZFECoWxaq5tUUQIvsOvxe0hRAVMFVXvjOFEDIOm0PscsUQNqfpG2HyBRARh/083nFFEAViRE3h8IUQJiHDuStvxRAUP/dvey8FEAJoeCbQroUQGw/6mautxRA44sUHC+1FEBfZPrEw7IUQJ7UAnxrsBRAtmSJaCWuFECl5dS+8KsUQIyWnb7MqRRAf+OusrinFECDeP7vs6UUQAEO4dS9oxRA4C19yNWhFEAhMTA6+58UQCI2AaEtnhRA6ZUme2ycFEAA8H5Nt5oUQM73SaMNmRRAerqGDW+XFEAl3bEi25UUQPrNon5RlBRA+gb2wdGSFECoCsyRW5EUQHAPlJfujxRAUOr2gIqOFEATfBv/Lo0UQNCb/8bbixRA7XtFkZCKFEBaapgYTYkUQGwVWxwRiBRAtuUwXtyGFEAC1fqgroUUQLw1I6yHhBRAmKzjSGeDFEDp4VVCTYIUQM7OEmY5gRRAgzXXgyuAFEA=\",\"dtype\":\"float64\",\"shape\":[100]}},\"selected\":{\"id\":\"3614\",\"type\":\"Selection\"},\"selection_policy\":{\"id\":\"3613\",\"type\":\"UnionRenderers\"}},\"id\":\"3586\",\"type\":\"ColumnDataSource\"},{\"attributes\":{\"data_source\":{\"id\":\"3586\",\"type\":\"ColumnDataSource\"},\"glyph\":{\"id\":\"3587\",\"type\":\"Line\"},\"hover_glyph\":null,\"muted_glyph\":null,\"nonselection_glyph\":{\"id\":\"3588\",\"type\":\"Line\"},\"selection_glyph\":null,\"view\":{\"id\":\"3590\",\"type\":\"CDSView\"}},\"id\":\"3589\",\"type\":\"GlyphRenderer\"},{\"attributes\":{\"axis_label\":\"concentration (nM)\",\"formatter\":{\"id\":\"3582\",\"type\":\"BasicTickFormatter\"},\"ticker\":{\"id\":\"3556\",\"type\":\"BasicTicker\"}},\"id\":\"3555\",\"type\":\"LinearAxis\"},{\"attributes\":{},\"id\":\"3652\",\"type\":\"Selection\"},{\"attributes\":{\"data_source\":{\"id\":\"3634\",\"type\":\"ColumnDataSource\"},\"glyph\":{\"id\":\"3635\",\"type\":\"Line\"},\"hover_glyph\":null,\"muted_glyph\":null,\"nonselection_glyph\":{\"id\":\"3636\",\"type\":\"Line\"},\"selection_glyph\":null,\"view\":{\"id\":\"3638\",\"type\":\"CDSView\"}},\"id\":\"3637\",\"type\":\"GlyphRenderer\"},{\"attributes\":{\"label\":{\"value\":\"atp\"},\"renderers\":[{\"id\":\"3576\",\"type\":\"GlyphRenderer\"}]},\"id\":\"3585\",\"type\":\"LegendItem\"},{\"attributes\":{\"line_color\":\"#ff7e0e\",\"line_width\":2,\"x\":{\"field\":\"x\"},\"y\":{\"field\":\"y\"}},\"id\":\"3587\",\"type\":\"Line\"},{\"attributes\":{\"callback\":null,\"data\":{\"x\":{\"__ndarray__\":\"AAAAAAAAAAB/pUCtXykgQH+lQK1fKTBAPvjggw8+OEB/pUCtXylAQN/OkJi3M0RAPvjggw8+SECeITFvZ0hMQH+lQK1fKVBAL7rooosuUkDfzpCYtzNUQI/jOI7jOFZAPvjggw8+WEDuDIl5O0NaQJ4hMW9nSFxATjbZZJNNXkB/pUCtXylgQNevFKj1K2FAL7rooosuYkCHxLydITFjQN/OkJi3M2RAN9lkk002ZUCP4ziO4zhmQOftDIl5O2dAPvjggw8+aECWArV+pUBpQO4MiXk7Q2pARhdddNFFa0CeITFvZ0hsQPYrBWr9Sm1ATjbZZJNNbkCmQK1fKVBvQH+lQK1fKXBAq6qqqqqqcEDXrxSo9StxQAO1fqVArXFAL7rooosuckBbv1Kg1q9yQIfEvJ0hMXNAs8kmm2yyc0DfzpCYtzN0QAvU+pUCtXRAN9lkk002dUBj3s6QmLd1QI/jOI7jOHZAu+iiiy66dkDn7QyJeTt3QBPzdobEvHdAPvjggw8+eEBq/UqBWr94QJYCtX6lQHlAwgcffPDBeUDuDIl5O0N6QBoS83aGxHpARhdddNFFe0ByHMdxHMd7QJ4hMW9nSHxAyiabbLLJfED2KwVq/Up9QCIxb2dIzH1ATjbZZJNNfkB6O0Ni3s5+QKZArV8pUH9A0kUXXXTRf0B/pUCtXymAQBWo9SsFaoBAq6qqqqqqgEBBrV8pUOuAQNevFKj1K4FAbbLJJptsgUADtX6lQK2BQJm3MyTm7YFAL7rooosugkDFvJ0hMW+CQFu/UqDWr4JA8cEHH3zwgkCHxLydITGDQB3HcRzHcYNAs8kmm2yyg0BJzNsZEvODQN/OkJi3M4RAddFFF110hEAL1PqVArWEQKHWrxSo9YRAN9lkk002hUDN2xkS83aFQGPezpCYt4VA+eCDDz74hUCP4ziO4ziGQCXm7QyJeYZAu+iiiy66hkBR61cK1PqGQOftDIl5O4dAffDBBx98h0AT83aGxLyHQKn1KwVq/YdAPvjggw8+iEDU+pUCtX6IQGr9SoFav4hAAAAAAAAAiUA=\",\"dtype\":\"float64\",\"shape\":[100]},\"y\":{\"__ndarray__\":\"AAAAAAAAAAB930knspYkP1pCwtd3xVM/OuFruKwpcD+xzWT5U5mCP0kmaQfoipE/4DmD0eYsnT/TwoVHFEWmP8FRTvPf9K8/3oC0cKfftT/uuKEeJdq8P7i8vb8dd8I/JB1q4t4Oxz8j4eWZaTTMPwd/nXuh89A/QYXDlkgT1D85d5e1nXjXP74WFI//Its/rp00F78R3z9bRykfEqLhPyAFv4+43OM/5Fo8EHI45j9HzLOu3LToP+DnEc6VUes/PRz+djoO7j9Fq7LIM3XwP9ngCQLd8vE/OWVYaOd/8z8xBqqRIRz1P2z+1S5ax/Y/p3NMD2CB+D+F0ZkjAkr6P45KOX8PIfw/pqjOWVcG/j9gqQIQqfn/P+kbGRJq/QBAHsxpH9QEAkD6jX2X+hIDQOX4RHXFJwRAtZdAxxxDBUBfb6Cv6GQGQFJPXGQRjQdATEtRL3+7CEBNUVtuGvAJQEiqb5PLKgtATYy3JHtrDEBbfqu8EbINQOv1Lgp4/g5A7LVWaEsoEECYfxt0K9QQQKoa0J7QghFAl71QaS80EkBcz/tePOgSQI83wxXsnhNAigc+LjNYFECP9LpTBhQVQJtxVDxa0hVA7FQDqSOTFkAf+7JlV1YXQK1LWEnqGxhAUz4INtHjGECQ8g4ZAa4ZQIHYB+tuehpABP72rw9JG0CQ1GF32BkcQGDGbly+7BxAvDf+hbbBHUCV3sgmtpgeQPqifn2ycR9AdnxzalAmIEAn1P9Bu5QgQJ7EFHcUBCFAxKudwVZ0IUCNr8rffOUhQCe1UpaBVyJAjdxTsF/KIkAUEXX/ET4jQJIgBVyTsiNAd9QQpd4nJED233jA7p0kQC4LBpu+FCVAlWaCKEmMJUCNzdZjiQQmQI8OLE96fSZAtsb+8xb3JkD1A0BjWnEnQMdqbrU/7CdAwmy5CsJnKEClrSKL3OMoQLKknmaKYClAFgo61cbdKUD6fDwXjVsqQE/VTXXY2SpAyKOaQKRYK0DaUfzS69crQOZrI4+qVyxAAD/I4NvXLEDnRNE8e1gtQMGXgSGE2S1AiBunFvJaLkA=\",\"dtype\":\"float64\",\"shape\":[100]}},\"selected\":{\"id\":\"3652\",\"type\":\"Selection\"},\"selection_policy\":{\"id\":\"3651\",\"type\":\"UnionRenderers\"}},\"id\":\"3616\",\"type\":\"ColumnDataSource\"},{\"attributes\":{\"line_alpha\":0.1,\"line_color\":\"#1f77b4\",\"line_width\":2,\"x\":{\"field\":\"x\"},\"y\":{\"field\":\"y\"}},\"id\":\"3575\",\"type\":\"Line\"},{\"attributes\":{\"callback\":null,\"data\":{\"x\":{\"__ndarray__\":\"AAAAAAAAAAB/pUCtXykgQH+lQK1fKTBAPvjggw8+OEB/pUCtXylAQN/OkJi3M0RAPvjggw8+SECeITFvZ0hMQH+lQK1fKVBAL7rooosuUkDfzpCYtzNUQI/jOI7jOFZAPvjggw8+WEDuDIl5O0NaQJ4hMW9nSFxATjbZZJNNXkB/pUCtXylgQNevFKj1K2FAL7rooosuYkCHxLydITFjQN/OkJi3M2RAN9lkk002ZUCP4ziO4zhmQOftDIl5O2dAPvjggw8+aECWArV+pUBpQO4MiXk7Q2pARhdddNFFa0CeITFvZ0hsQPYrBWr9Sm1ATjbZZJNNbkCmQK1fKVBvQH+lQK1fKXBAq6qqqqqqcEDXrxSo9StxQAO1fqVArXFAL7rooosuckBbv1Kg1q9yQIfEvJ0hMXNAs8kmm2yyc0DfzpCYtzN0QAvU+pUCtXRAN9lkk002dUBj3s6QmLd1QI/jOI7jOHZAu+iiiy66dkDn7QyJeTt3QBPzdobEvHdAPvjggw8+eEBq/UqBWr94QJYCtX6lQHlAwgcffPDBeUDuDIl5O0N6QBoS83aGxHpARhdddNFFe0ByHMdxHMd7QJ4hMW9nSHxAyiabbLLJfED2KwVq/Up9QCIxb2dIzH1ATjbZZJNNfkB6O0Ni3s5+QKZArV8pUH9A0kUXXXTRf0B/pUCtXymAQBWo9SsFaoBAq6qqqqqqgEBBrV8pUOuAQNevFKj1K4FAbbLJJptsgUADtX6lQK2BQJm3MyTm7YFAL7rooosugkDFvJ0hMW+CQFu/UqDWr4JA8cEHH3zwgkCHxLydITGDQB3HcRzHcYNAs8kmm2yyg0BJzNsZEvODQN/OkJi3M4RAddFFF110hEAL1PqVArWEQKHWrxSo9YRAN9lkk002hUDN2xkS83aFQGPezpCYt4VA+eCDDz74hUCP4ziO4ziGQCXm7QyJeYZAu+iiiy66hkBR61cK1PqGQOftDIl5O4dAffDBBx98h0AT83aGxLyHQKn1KwVq/YdAPvjggw8+iEDU+pUCtX6IQGr9SoFav4hAAAAAAAAAiUA=\",\"dtype\":\"float64\",\"shape\":[100]},\"y\":{\"__ndarray__\":\"AAAAAAAAAAB+30knspYkP1tCwtd3xVM/OeFruKwpcD+VzWT5U5mCPxwmaQfoipE/ijmD0eYsnT+PwoVHFEWmP1lRTvPf9K8/mIC0cKfftT+TuKEeJdq8P328vb8dd8I/2xxq4t4Oxz/I4OWZaTTMP89+nXuh89A//4TDlkgT1D/udpe1nXjXP2wWFI//Its/Up00F78R3z8oRykfEqLhP+YEv4+43OM/pFo8EHI45j8AzLOu3LToP5HnEc6VUes/5xv+djoO7j8Xq7LIM3XwP6ngCQLd8vE/BWVYaOd/8z/4BaqRIRz1Py/+1S5ax/Y/ZXNMD2CB+D890ZkjAkr6P0NKOX8PIfw/VqjOWVcG/j8NqQIQqfn/P74bGRJq/QBA8MtpH9QEAkDKjX2X+hIDQLP4RHXFJwRAgZdAxxxDBUAob6Cv6GQGQBdPXGQRjQdAD0tRL3+7CEAOUVtuGvAJQAaqb5PLKgtACYy3JHtrDEAUfqu8EbINQKL1Lgp4/g5Ax7VWaEsoEEBxfxt0K9QQQIEa0J7QghFAbb1QaS80EkAvz/tePOgSQGE3wxXsnhNAWwc+LjNYFEBf9LpTBhQVQGlxVDxa0hVAuFQDqSOTFkDp+rJlV1YXQHZLWEnqGxhAGT4INtHjGEBW8g4ZAa4ZQEXYB+tuehpAxv32rw9JG0BR1GF32BkcQB7Gbly+7BxAeDf+hbbBHUBQ3sgmtpgeQLOifn2ycR9AUXxzalAmIEAB1P9Bu5QgQHjEFHcUBCFAnqudwVZ0IUBmr8rffOUhQP+0UpaBVyJAZNxTsF/KIkDpEHX/ET4jQGYgBVyTsiNAStQQpd4nJEDJ33jA7p0kQP8KBpu+FCVAZWaCKEmMJUBdzdZjiQQmQGAOLE96fSZAhsb+8xb3JkDFA0BjWnEnQJZqbrU/7CdAkGy5CsJnKEByrSKL3OMoQH6knmaKYClA4gk61cbdKUDFfDwXjVsqQBnVTXXY2SpAkaOaQKRYK0ChUfzS69crQKxrI4+qVyxAxT7I4NvXLECsRNE8e1gtQIWXgSGE2S1ATBunFvJaLkA=\",\"dtype\":\"float64\",\"shape\":[100]}},\"selected\":{\"id\":\"3809\",\"type\":\"Selection\"},\"selection_policy\":{\"id\":\"3808\",\"type\":\"UnionRenderers\"}},\"id\":\"3634\",\"type\":\"ColumnDataSource\"},{\"attributes\":{},\"id\":\"3614\",\"type\":\"Selection\"},{\"attributes\":{\"dimension\":1,\"ticker\":{\"id\":\"3556\",\"type\":\"BasicTicker\"}},\"id\":\"3559\",\"type\":\"Grid\"},{\"attributes\":{\"source\":{\"id\":\"3634\",\"type\":\"ColumnDataSource\"}},\"id\":\"3638\",\"type\":\"CDSView\"},{\"attributes\":{\"data_source\":{\"id\":\"3616\",\"type\":\"ColumnDataSource\"},\"glyph\":{\"id\":\"3617\",\"type\":\"Line\"},\"hover_glyph\":null,\"muted_glyph\":null,\"nonselection_glyph\":{\"id\":\"3618\",\"type\":\"Line\"},\"selection_glyph\":null,\"view\":{\"id\":\"3620\",\"type\":\"CDSView\"}},\"id\":\"3619\",\"type\":\"GlyphRenderer\"},{\"attributes\":{\"line_color\":\"#2ba02b\",\"line_width\":2,\"x\":{\"field\":\"x\"},\"y\":{\"field\":\"y\"}},\"id\":\"3601\",\"type\":\"Line\"},{\"attributes\":{\"line_color\":\"#9367bc\",\"line_width\":2,\"x\":{\"field\":\"x\"},\"y\":{\"field\":\"y\"}},\"id\":\"3617\",\"type\":\"Line\"},{\"attributes\":{},\"id\":\"3808\",\"type\":\"UnionRenderers\"},{\"attributes\":{\"callback\":null,\"data\":{\"x\":{\"__ndarray__\":\"AAAAAAAAAAB/pUCtXykgQH+lQK1fKTBAPvjggw8+OEB/pUCtXylAQN/OkJi3M0RAPvjggw8+SECeITFvZ0hMQH+lQK1fKVBAL7rooosuUkDfzpCYtzNUQI/jOI7jOFZAPvjggw8+WEDuDIl5O0NaQJ4hMW9nSFxATjbZZJNNXkB/pUCtXylgQNevFKj1K2FAL7rooosuYkCHxLydITFjQN/OkJi3M2RAN9lkk002ZUCP4ziO4zhmQOftDIl5O2dAPvjggw8+aECWArV+pUBpQO4MiXk7Q2pARhdddNFFa0CeITFvZ0hsQPYrBWr9Sm1ATjbZZJNNbkCmQK1fKVBvQH+lQK1fKXBAq6qqqqqqcEDXrxSo9StxQAO1fqVArXFAL7rooosuckBbv1Kg1q9yQIfEvJ0hMXNAs8kmm2yyc0DfzpCYtzN0QAvU+pUCtXRAN9lkk002dUBj3s6QmLd1QI/jOI7jOHZAu+iiiy66dkDn7QyJeTt3QBPzdobEvHdAPvjggw8+eEBq/UqBWr94QJYCtX6lQHlAwgcffPDBeUDuDIl5O0N6QBoS83aGxHpARhdddNFFe0ByHMdxHMd7QJ4hMW9nSHxAyiabbLLJfED2KwVq/Up9QCIxb2dIzH1ATjbZZJNNfkB6O0Ni3s5+QKZArV8pUH9A0kUXXXTRf0B/pUCtXymAQBWo9SsFaoBAq6qqqqqqgEBBrV8pUOuAQNevFKj1K4FAbbLJJptsgUADtX6lQK2BQJm3MyTm7YFAL7rooosugkDFvJ0hMW+CQFu/UqDWr4JA8cEHH3zwgkCHxLydITGDQB3HcRzHcYNAs8kmm2yyg0BJzNsZEvODQN/OkJi3M4RAddFFF110hEAL1PqVArWEQKHWrxSo9YRAN9lkk002hUDN2xkS83aFQGPezpCYt4VA+eCDDz74hUCP4ziO4ziGQCXm7QyJeYZAu+iiiy66hkBR61cK1PqGQOftDIl5O4dAffDBBx98h0AT83aGxLyHQKn1KwVq/YdAPvjggw8+iEDU+pUCtX6IQGr9SoFav4hAAAAAAAAAiUA=\",\"dtype\":\"float64\",\"shape\":[100]},\"y\":{\"__ndarray__\":\"AAAAAAAAJEBxdHl82o3SP0HRVoBkMPk/a22PGLcRCUDZkcXEqqcRQPzkLVvpehVAjUdy7K1UGEBy2/wc+n8aQMRCDRljMBxAhcnOuw+IHUCYMdZ9F54eQPgM1HOQgh9ALccctnogIEBbAFob0HAgQN6PshtftSBAtzkluHnwIEDfIwex5CMhQLF+59L9UCFAjWan0tZ4IUBe4AlmSJwhQLpp9wYAvCFAvDte/4nYIUC7bWHWWPIhQG7KzN3KCSJA+gl3Zi4fIkBa3hT1xDIiQGftq7zFRCJAV9VyjV9VIkCORv1YumQiQOBnwWb4ciJAvPagSTeAIkAijmWmkIwiQKbzNdQamCJANFWqX+miIkDO2Ft2Da0iQARyhz6WtiJAHIrNI5G/IkBP6oYRCsgiQDD2K6gL0CJA3oJyaJ/XIkDvnoHYzd4iQJwsXaKe5SJAWrPMsBjsIkCI6pxDQvIiQHIdQwUh+CJA3lMAHLr9IkBZiCE3EgMjQK9wpp0tCCNA59t6OBANI0DUECOcvREjQLkXLxI5FiNAdefKoIUaI0CEQJsPph4jQEBFdfCcIiNA40ljomwmI0B2nltXFyojQG4FDxifLSNAb7XJxwUxI0B3wJcnTTQjQIE+Ztl2NyNABJVMYoQ6I0AgD6Itdz0jQBeaYo5QQCNAv8imwRFDI0Bt4hjwu0UjQK056jBQSCNAgZcWh89KI0CqpP/oOk0jQCwGSjyTTyNAtOChWdlRI0BgRsgMDlQjQMxuCRYyViNA5mGgKkZYI0Bb1Zz1SlojQDQ3rxhBXCNA8qa1LCleI0DhHFfCA2AjQA+pkGLRYSNAXMsvj5JjI0BxcVnDR2UjQD1j0XPxZiNA9nqbD5BoI0DJCz4AJGojQJ8c5amtayNAlw72ay1tI0AR6lKho24jQI4Nj6AQcCNAqNwDvHRxI0A7GYxC0HIjQJ8CLH8jdCNAzSREuW51I0CY1ig2snYjQHifejbudyNAPGiZ+CJ5I0DgpqG5UHojQHYwK7J3eyNAkKEAGZh8I0C9PQcjsn0jQCexpwLGfiNAx1on6NN/I0A=\",\"dtype\":\"float64\",\"shape\":[100]}},\"selected\":{\"id\":\"3598\",\"type\":\"Selection\"},\"selection_policy\":{\"id\":\"3597\",\"type\":\"UnionRenderers\"}},\"id\":\"3573\",\"type\":\"ColumnDataSource\"},{\"attributes\":{},\"id\":\"3580\",\"type\":\"BasicTickFormatter\"},{\"attributes\":{\"line_alpha\":0.1,\"line_color\":\"#1f77b4\",\"line_width\":2,\"x\":{\"field\":\"x\"},\"y\":{\"field\":\"y\"}},\"id\":\"3636\",\"type\":\"Line\"},{\"attributes\":{},\"id\":\"3582\",\"type\":\"BasicTickFormatter\"},{\"attributes\":{},\"id\":\"3597\",\"type\":\"UnionRenderers\"},{\"attributes\":{\"label\":{\"value\":\"outside_H\"},\"renderers\":[{\"id\":\"3589\",\"type\":\"GlyphRenderer\"}]},\"id\":\"3599\",\"type\":\"LegendItem\"},{\"attributes\":{\"callback\":null,\"data\":{\"x\":{\"__ndarray__\":\"AAAAAAAAAAB/pUCtXykgQH+lQK1fKTBAPvjggw8+OEB/pUCtXylAQN/OkJi3M0RAPvjggw8+SECeITFvZ0hMQH+lQK1fKVBAL7rooosuUkDfzpCYtzNUQI/jOI7jOFZAPvjggw8+WEDuDIl5O0NaQJ4hMW9nSFxATjbZZJNNXkB/pUCtXylgQNevFKj1K2FAL7rooosuYkCHxLydITFjQN/OkJi3M2RAN9lkk002ZUCP4ziO4zhmQOftDIl5O2dAPvjggw8+aECWArV+pUBpQO4MiXk7Q2pARhdddNFFa0CeITFvZ0hsQPYrBWr9Sm1ATjbZZJNNbkCmQK1fKVBvQH+lQK1fKXBAq6qqqqqqcEDXrxSo9StxQAO1fqVArXFAL7rooosuckBbv1Kg1q9yQIfEvJ0hMXNAs8kmm2yyc0DfzpCYtzN0QAvU+pUCtXRAN9lkk002dUBj3s6QmLd1QI/jOI7jOHZAu+iiiy66dkDn7QyJeTt3QBPzdobEvHdAPvjggw8+eEBq/UqBWr94QJYCtX6lQHlAwgcffPDBeUDuDIl5O0N6QBoS83aGxHpARhdddNFFe0ByHMdxHMd7QJ4hMW9nSHxAyiabbLLJfED2KwVq/Up9QCIxb2dIzH1ATjbZZJNNfkB6O0Ni3s5+QKZArV8pUH9A0kUXXXTRf0B/pUCtXymAQBWo9SsFaoBAq6qqqqqqgEBBrV8pUOuAQNevFKj1K4FAbbLJJptsgUADtX6lQK2BQJm3MyTm7YFAL7rooosugkDFvJ0hMW+CQFu/UqDWr4JA8cEHH3zwgkCHxLydITGDQB3HcRzHcYNAs8kmm2yyg0BJzNsZEvODQN/OkJi3M4RAddFFF110hEAL1PqVArWEQKHWrxSo9YRAN9lkk002hUDN2xkS83aFQGPezpCYt4VA+eCDDz74hUCP4ziO4ziGQCXm7QyJeYZAu+iiiy66hkBR61cK1PqGQOftDIl5O4dAffDBBx98h0AT83aGxLyHQKn1KwVq/YdAPvjggw8+iEDU+pUCtX6IQGr9SoFav4hAAAAAAAAAiUA=\",\"dtype\":\"float64\",\"shape\":[100]},\"y\":{\"__ndarray__\":\"AAAAAAAAAAAK9A8MN6rCPyz7dMVrPuk/vqQKUSgY+T9kplRpH6oBQMzuuRu7fAVA0+G0YwxWCEBrEMsaCIEKQNRts7E3MQxAzhSkVLqIDUAQn7Opop4OQB4BkawDgw9ADTDhCqsgEEC5O/oi+XAQQKC8AlCCtRBAKuP4NpjwEEDJwf5V/yMRQErkzUgVURFALqz0n+t4EUD/4dH1WpwRQIJJcK8QvBFA5gOMBpnYEUApzv11ZvIRQCuT6ETXCRJANPrdvDkfEkCbGhRczzISQO/zWVDPRBJAGTfCZWhVEkCFsGeKwmQSQOuM5gIAcxJAlXi+Xz6AEkDS/7tDl4wSQEKVVgQhmBJADke7LO+iEkDqzEvpEq0SQLELOl+bthJAddFE+ZW/EkDLCP6hDsgSQGdINPkP0BJAtxsIf6PXEkA7NSC50d4SQHVIClGi5RJAKu4tMRzsEkB2cwKZRfISQLx7oDIk+BJAtB0YJL39EkBS72gcFQMTQOhtZ2IwCBNAUAXC3hINE0Apf9YlwBETQOknGIE7FhNAai9v9ocaE0DAJJ9NqB4TQFFHBBifIhNAXN3etG4mE0A8pOlVGSoTQFkTxQOhLRNAkD6qoQcxE0AcxZLwTjQTQApgW5J4NxNAnuALDIY6E0DPdu7IeD0TQEx48RtSQBNAlAAiQhNDE0DbXh9kvUUTQHjAFZlRSBNAAXTr49BKE0CFmwU7PE0TQEYr/YOUTxNALpt2l9pRE0A/GitBD1QTQFhpYkEzVhNAZRxRTUdYE0BhhwEQTFoTQOPxHitCXBNABNKCNypeE0DDzs/FBGATQMLJ/l7SYRNA+2nZhJNjE0DkD4GySGUTQBYItlzyZhNAakV58pBoE0C/Ik7dJGoTQOoxXYGuaxNA6vgJPi5tE0A89TNupG4TQHTwa2gRcBNAlBUJf3VxE0DRg+QA0XITQBRkADkkdBNA94O6bm91E0CKlWfnsnYTQHjqpOPudxNALhrPoSN5E0DiKgVfUXoTQCjK3FN4exNATFMct5h8E0D7Haq9sn0TQBYx7ZnGfhNAYcoofNR/E0A=\",\"dtype\":\"float64\",\"shape\":[100]}},\"selected\":{\"id\":\"3632\",\"type\":\"Selection\"},\"selection_policy\":{\"id\":\"3631\",\"type\":\"UnionRenderers\"}},\"id\":\"3600\",\"type\":\"ColumnDataSource\"},{\"attributes\":{},\"id\":\"3809\",\"type\":\"Selection\"},{\"attributes\":{\"line_color\":\"#1f77b3\",\"line_width\":2,\"x\":{\"field\":\"x\"},\"y\":{\"field\":\"y\"}},\"id\":\"3574\",\"type\":\"Line\"},{\"attributes\":{\"line_alpha\":0.1,\"line_color\":\"#1f77b4\",\"line_width\":2,\"x\":{\"field\":\"x\"},\"y\":{\"field\":\"y\"}},\"id\":\"3618\",\"type\":\"Line\"},{\"attributes\":{\"source\":{\"id\":\"3616\",\"type\":\"ColumnDataSource\"}},\"id\":\"3620\",\"type\":\"CDSView\"},{\"attributes\":{\"text\":\"with ATP Synthase, Proton Pump, ATP Use\"},\"id\":\"3540\",\"type\":\"Title\"},{\"attributes\":{},\"id\":\"3560\",\"type\":\"PanTool\"}],\"root_ids\":[\"3539\"]},\"title\":\"Bokeh Application\",\"version\":\"1.4.0\"}};\n",
       "  var render_items = [{\"docid\":\"3145bfc7-2edd-445f-bfe0-da2145049d93\",\"roots\":{\"3539\":\"7ae89733-256f-4d10-8217-9563a0301e96\"}}];\n",
       "  root.Bokeh.embed.embed_items_notebook(docs_json, render_items);\n",
       "\n",
       "  }\n",
       "  if (root.Bokeh !== undefined) {\n",
       "    embed_document(root);\n",
       "  } else {\n",
       "    var attempts = 0;\n",
       "    var timer = setInterval(function(root) {\n",
       "      if (root.Bokeh !== undefined) {\n",
       "        clearInterval(timer);\n",
       "        embed_document(root);\n",
       "      } else {\n",
       "        attempts++;\n",
       "        if (attempts > 100) {\n",
       "          clearInterval(timer);\n",
       "          console.log(\"Bokeh: ERROR: Unable to run BokehJS code because BokehJS library is missing\");\n",
       "        }\n",
       "      }\n",
       "    }, 10, root)\n",
       "  }\n",
       "})(window);"
      ],
      "application/vnd.bokehjs_exec.v0+json": ""
     },
     "metadata": {
      "application/vnd.bokehjs_exec.v0+json": {
       "id": "3539"
      }
     },
     "output_type": "display_data"
    }
   ],
   "source": [
    "#plt_timepoints = timepoints/60\n",
    "\n",
    "p3 = bokeh.plotting.figure(width = 450, height = 350, title = 'with ATP Synthase, Proton Pump, ATP Use',\n",
    "                          x_axis_label = 'time',\n",
    "                          y_axis_label = 'concentration (nM)')\n",
    "plot_list = [ATP_id_orig, outside_H_id, inside_H_id, atp_synthase_b_protein_id_orig, proton_pump_b_protein_id_orig]\n",
    "plot_str = ['atp', 'outside_H', 'inside_H', 'bound atp synthase', 'bound proton pump']\n",
    "for i,item in enumerate(plot_list):\n",
    "    p3.line(timepoints, results_original[item], line_width = 2, legend_label = plot_str[i], color = palette[i])\n",
    "\n",
    "    #p3.line(plt_timepoints, results_everything[ATP_id3])\n",
    "p3.legend.click_policy = 'hide'\n",
    "p3.legend.location = 'center_right'\n",
    "\n",
    "bokeh.io.show(p3)\n"
   ]
  },
  {
   "cell_type": "markdown",
   "metadata": {},
   "source": [
    "## Compare 25, 37, 100 C\n",
    "---"
   ]
  },
  {
   "cell_type": "code",
   "execution_count": 51,
   "metadata": {},
   "outputs": [
    {
     "data": {
      "text/html": [
       "\n",
       "\n",
       "\n",
       "\n",
       "\n",
       "\n",
       "  <div class=\"bk-root\" id=\"a83e7c94-1314-42a7-bc0c-d0f5c5eb0f1e\" data-root-id=\"3906\"></div>\n"
      ]
     },
     "metadata": {},
     "output_type": "display_data"
    },
    {
     "data": {
      "application/javascript": [
       "(function(root) {\n",
       "  function embed_document(root) {\n",
       "    \n",
       "  var docs_json = {\"7e48ef8a-8b57-4748-b427-cea637423939\":{\"roots\":{\"references\":[{\"attributes\":{\"below\":[{\"id\":\"3917\",\"type\":\"LinearAxis\"}],\"center\":[{\"id\":\"3921\",\"type\":\"Grid\"},{\"id\":\"3926\",\"type\":\"Grid\"},{\"id\":\"3951\",\"type\":\"Legend\"}],\"left\":[{\"id\":\"3922\",\"type\":\"LinearAxis\"}],\"plot_height\":350,\"plot_width\":450,\"renderers\":[{\"id\":\"3943\",\"type\":\"GlyphRenderer\"},{\"id\":\"3956\",\"type\":\"GlyphRenderer\"},{\"id\":\"3970\",\"type\":\"GlyphRenderer\"},{\"id\":\"3986\",\"type\":\"GlyphRenderer\"}],\"title\":{\"id\":\"3907\",\"type\":\"Title\"},\"toolbar\":{\"id\":\"3933\",\"type\":\"Toolbar\"},\"x_range\":{\"id\":\"3909\",\"type\":\"DataRange1d\"},\"x_scale\":{\"id\":\"3913\",\"type\":\"LinearScale\"},\"y_range\":{\"id\":\"3911\",\"type\":\"DataRange1d\"},\"y_scale\":{\"id\":\"3915\",\"type\":\"LinearScale\"}},\"id\":\"3906\",\"subtype\":\"Figure\",\"type\":\"Plot\"},{\"attributes\":{\"data_source\":{\"id\":\"3953\",\"type\":\"ColumnDataSource\"},\"glyph\":{\"id\":\"3954\",\"type\":\"Line\"},\"hover_glyph\":null,\"muted_glyph\":null,\"nonselection_glyph\":{\"id\":\"3955\",\"type\":\"Line\"},\"selection_glyph\":null,\"view\":{\"id\":\"3957\",\"type\":\"CDSView\"}},\"id\":\"3956\",\"type\":\"GlyphRenderer\"},{\"attributes\":{\"text\":\"Effect of Different Temperatures on ATP Curves\"},\"id\":\"3907\",\"type\":\"Title\"},{\"attributes\":{},\"id\":\"3927\",\"type\":\"PanTool\"},{\"attributes\":{\"source\":{\"id\":\"3967\",\"type\":\"ColumnDataSource\"}},\"id\":\"3971\",\"type\":\"CDSView\"},{\"attributes\":{\"callback\":null},\"id\":\"3909\",\"type\":\"DataRange1d\"},{\"attributes\":{},\"id\":\"3928\",\"type\":\"WheelZoomTool\"},{\"attributes\":{},\"id\":\"3980\",\"type\":\"UnionRenderers\"},{\"attributes\":{\"overlay\":{\"id\":\"3950\",\"type\":\"BoxAnnotation\"}},\"id\":\"3929\",\"type\":\"BoxZoomTool\"},{\"attributes\":{},\"id\":\"3930\",\"type\":\"SaveTool\"},{\"attributes\":{\"label\":{\"value\":\"ATP at 100C\"},\"renderers\":[{\"id\":\"3970\",\"type\":\"GlyphRenderer\"}]},\"id\":\"3982\",\"type\":\"LegendItem\"},{\"attributes\":{\"callback\":null},\"id\":\"3911\",\"type\":\"DataRange1d\"},{\"attributes\":{\"label\":{\"value\":\"ATP for original\"},\"renderers\":[{\"id\":\"3986\",\"type\":\"GlyphRenderer\"}]},\"id\":\"4000\",\"type\":\"LegendItem\"},{\"attributes\":{},\"id\":\"3981\",\"type\":\"Selection\"},{\"attributes\":{},\"id\":\"3931\",\"type\":\"ResetTool\"},{\"attributes\":{\"click_policy\":\"hide\",\"items\":[{\"id\":\"3952\",\"type\":\"LegendItem\"},{\"id\":\"3966\",\"type\":\"LegendItem\"},{\"id\":\"3982\",\"type\":\"LegendItem\"},{\"id\":\"4000\",\"type\":\"LegendItem\"}],\"location\":\"bottom_right\"},\"id\":\"3951\",\"type\":\"Legend\"},{\"attributes\":{\"data_source\":{\"id\":\"3940\",\"type\":\"ColumnDataSource\"},\"glyph\":{\"id\":\"3941\",\"type\":\"Line\"},\"hover_glyph\":null,\"muted_glyph\":null,\"nonselection_glyph\":{\"id\":\"3942\",\"type\":\"Line\"},\"selection_glyph\":null,\"view\":{\"id\":\"3944\",\"type\":\"CDSView\"}},\"id\":\"3943\",\"type\":\"GlyphRenderer\"},{\"attributes\":{},\"id\":\"3932\",\"type\":\"HelpTool\"},{\"attributes\":{},\"id\":\"3913\",\"type\":\"LinearScale\"},{\"attributes\":{\"callback\":null,\"data\":{\"x\":{\"__ndarray__\":\"AAAAAAAAAAB/pUCtXykgQH+lQK1fKTBAPvjggw8+OEB/pUCtXylAQN/OkJi3M0RAPvjggw8+SECeITFvZ0hMQH+lQK1fKVBAL7rooosuUkDfzpCYtzNUQI/jOI7jOFZAPvjggw8+WEDuDIl5O0NaQJ4hMW9nSFxATjbZZJNNXkB/pUCtXylgQNevFKj1K2FAL7rooosuYkCHxLydITFjQN/OkJi3M2RAN9lkk002ZUCP4ziO4zhmQOftDIl5O2dAPvjggw8+aECWArV+pUBpQO4MiXk7Q2pARhdddNFFa0CeITFvZ0hsQPYrBWr9Sm1ATjbZZJNNbkCmQK1fKVBvQH+lQK1fKXBAq6qqqqqqcEDXrxSo9StxQAO1fqVArXFAL7rooosuckBbv1Kg1q9yQIfEvJ0hMXNAs8kmm2yyc0DfzpCYtzN0QAvU+pUCtXRAN9lkk002dUBj3s6QmLd1QI/jOI7jOHZAu+iiiy66dkDn7QyJeTt3QBPzdobEvHdAPvjggw8+eEBq/UqBWr94QJYCtX6lQHlAwgcffPDBeUDuDIl5O0N6QBoS83aGxHpARhdddNFFe0ByHMdxHMd7QJ4hMW9nSHxAyiabbLLJfED2KwVq/Up9QCIxb2dIzH1ATjbZZJNNfkB6O0Ni3s5+QKZArV8pUH9A0kUXXXTRf0B/pUCtXymAQBWo9SsFaoBAq6qqqqqqgEBBrV8pUOuAQNevFKj1K4FAbbLJJptsgUADtX6lQK2BQJm3MyTm7YFAL7rooosugkDFvJ0hMW+CQFu/UqDWr4JA8cEHH3zwgkCHxLydITGDQB3HcRzHcYNAs8kmm2yyg0BJzNsZEvODQN/OkJi3M4RAddFFF110hEAL1PqVArWEQKHWrxSo9YRAN9lkk002hUDN2xkS83aFQGPezpCYt4VA+eCDDz74hUCP4ziO4ziGQCXm7QyJeYZAu+iiiy66hkBR61cK1PqGQOftDIl5O4dAffDBBx98h0AT83aGxLyHQKn1KwVq/YdAPvjggw8+iEDU+pUCtX6IQGr9SoFav4hAAAAAAAAAiUA=\",\"dtype\":\"float64\",\"shape\":[100]},\"y\":{\"__ndarray__\":\"AAAAAAAAJEB7B4J2GkhoP/814N9WTKU/lpLxjJcWxz9jyZhDNSbePwaZ3Jq1P+0/2Zhb2L1e9z9dHX1p5GMAQEujMtA9CwVA7yMdy+VsCUBrTzE8L3ANQOxnACWyhxBA+KvHaT8nEkBe+XFx15oTQBxhgks55xRAfvjl8RQRFkAZj65BuxwXQAATMw4CDhhAglhAfEHoGEA2Zg2wXK4ZQDXJicrOYhpAEmO7o7gHG0CRmXXO7Z4bQByFjiwAKhxAbTes/UmqHEBvNUtq9iAdQIgYGLwIjx1A9Q1TbGL1HUDYanI0yFQeQG/mXUrmrR5A/7LB9FMBH0DJ4/V9lk8fQEE1U8AjmR9AKW0dO2TeH0BkNklu2g8gQBBJLEa0LiBANmaCuORLIEDz8ZYFjWcgQLkUIhPLgSBAl26K07maIEBD9V6hcbIgQIqzPokIySBA3ljHjZLeIEDCnufhIfMgQH8a3RvHBiFAsm65YZEZIUB+zwSNjishQOYDS1DLPCFAZUn8VFNNIUB+Sm1RMV0hQOOx6iZvbCFAYH9q8BV7IUCd7kcYLokhQBaAamm/liFAvWmrGdGjIUD7R2XcabAhQGBv2umPvCFAYUJNDEnIIUCDDH+omtMhQHJOhsaJ3iFAPf0qGRvpIUAuGGEFU/MhQM/fgqg1/SFAlQGA3cYGIkAf59NCChAiQJX82D4DGSJAEddoA7UhIkA8lbmUIioiQP0ZhMdOMiJAXeuCSjw6IkC6jh6k7UEiQNhc3jhlSSJAevX3S6VQIkDCciYCsFciQDc+yWOHXiJA7V68Xi1lIkDFuSHIo2siQBIl/V3scSJAO9U8yQh4IkCt9TWd+n0iQCTn9VvDgyJAykDZdGSJIkBtBbRG344iQBJyqiA1lCJAx9oeQ2eZIkCqpIvgdp4iQM/xMB5loyJAv9YeFTOoIkA4QH7S4awiQMIohFhysSJA6YW5nuW1IkCLKeOSPLoiQORQiBl4viJAFDmlDZnCIkC/dvpBoMYiQKmKAoKOyiJAlBQLkGTOIkDAJHYnI9IiQOIyaP7K1SJA90p4wVzZIkA=\",\"dtype\":\"float64\",\"shape\":[100]}},\"selected\":{\"id\":\"3965\",\"type\":\"Selection\"},\"selection_policy\":{\"id\":\"3964\",\"type\":\"UnionRenderers\"}},\"id\":\"3940\",\"type\":\"ColumnDataSource\"},{\"attributes\":{\"callback\":null,\"data\":{\"x\":{\"__ndarray__\":\"AAAAAAAAAAB/pUCtXykgQH+lQK1fKTBAPvjggw8+OEB/pUCtXylAQN/OkJi3M0RAPvjggw8+SECeITFvZ0hMQH+lQK1fKVBAL7rooosuUkDfzpCYtzNUQI/jOI7jOFZAPvjggw8+WEDuDIl5O0NaQJ4hMW9nSFxATjbZZJNNXkB/pUCtXylgQNevFKj1K2FAL7rooosuYkCHxLydITFjQN/OkJi3M2RAN9lkk002ZUCP4ziO4zhmQOftDIl5O2dAPvjggw8+aECWArV+pUBpQO4MiXk7Q2pARhdddNFFa0CeITFvZ0hsQPYrBWr9Sm1ATjbZZJNNbkCmQK1fKVBvQH+lQK1fKXBAq6qqqqqqcEDXrxSo9StxQAO1fqVArXFAL7rooosuckBbv1Kg1q9yQIfEvJ0hMXNAs8kmm2yyc0DfzpCYtzN0QAvU+pUCtXRAN9lkk002dUBj3s6QmLd1QI/jOI7jOHZAu+iiiy66dkDn7QyJeTt3QBPzdobEvHdAPvjggw8+eEBq/UqBWr94QJYCtX6lQHlAwgcffPDBeUDuDIl5O0N6QBoS83aGxHpARhdddNFFe0ByHMdxHMd7QJ4hMW9nSHxAyiabbLLJfED2KwVq/Up9QCIxb2dIzH1ATjbZZJNNfkB6O0Ni3s5+QKZArV8pUH9A0kUXXXTRf0B/pUCtXymAQBWo9SsFaoBAq6qqqqqqgEBBrV8pUOuAQNevFKj1K4FAbbLJJptsgUADtX6lQK2BQJm3MyTm7YFAL7rooosugkDFvJ0hMW+CQFu/UqDWr4JA8cEHH3zwgkCHxLydITGDQB3HcRzHcYNAs8kmm2yyg0BJzNsZEvODQN/OkJi3M4RAddFFF110hEAL1PqVArWEQKHWrxSo9YRAN9lkk002hUDN2xkS83aFQGPezpCYt4VA+eCDDz74hUCP4ziO4ziGQCXm7QyJeYZAu+iiiy66hkBR61cK1PqGQOftDIl5O4dAffDBBx98h0AT83aGxLyHQKn1KwVq/YdAPvjggw8+iEDU+pUCtX6IQGr9SoFav4hAAAAAAAAAiUA=\",\"dtype\":\"float64\",\"shape\":[100]},\"y\":{\"__ndarray__\":\"AAAAAAAAJEBxdHl82o3SP0HRVoBkMPk/a22PGLcRCUDZkcXEqqcRQPzkLVvpehVAjUdy7K1UGEBy2/wc+n8aQMRCDRljMBxAhcnOuw+IHUCYMdZ9F54eQPgM1HOQgh9ALccctnogIEBbAFob0HAgQN6PshtftSBAtzkluHnwIEDfIwex5CMhQLF+59L9UCFAjWan0tZ4IUBe4AlmSJwhQLpp9wYAvCFAvDte/4nYIUC7bWHWWPIhQG7KzN3KCSJA+gl3Zi4fIkBa3hT1xDIiQGftq7zFRCJAV9VyjV9VIkCORv1YumQiQOBnwWb4ciJAvPagSTeAIkAijmWmkIwiQKbzNdQamCJANFWqX+miIkDO2Ft2Da0iQARyhz6WtiJAHIrNI5G/IkBP6oYRCsgiQDD2K6gL0CJA3oJyaJ/XIkDvnoHYzd4iQJwsXaKe5SJAWrPMsBjsIkCI6pxDQvIiQHIdQwUh+CJA3lMAHLr9IkBZiCE3EgMjQK9wpp0tCCNA59t6OBANI0DUECOcvREjQLkXLxI5FiNAdefKoIUaI0CEQJsPph4jQEBFdfCcIiNA40ljomwmI0B2nltXFyojQG4FDxifLSNAb7XJxwUxI0B3wJcnTTQjQIE+Ztl2NyNABJVMYoQ6I0AgD6Itdz0jQBeaYo5QQCNAv8imwRFDI0Bt4hjwu0UjQK056jBQSCNAgZcWh89KI0CqpP/oOk0jQCwGSjyTTyNAtOChWdlRI0BgRsgMDlQjQMxuCRYyViNA5mGgKkZYI0Bb1Zz1SlojQDQ3rxhBXCNA8qa1LCleI0DhHFfCA2AjQA+pkGLRYSNAXMsvj5JjI0BxcVnDR2UjQD1j0XPxZiNA9nqbD5BoI0DJCz4AJGojQJ8c5amtayNAlw72ay1tI0AR6lKho24jQI4Nj6AQcCNAqNwDvHRxI0A7GYxC0HIjQJ8CLH8jdCNAzSREuW51I0CY1ig2snYjQHifejbudyNAPGiZ+CJ5I0DgpqG5UHojQHYwK7J3eyNAkKEAGZh8I0C9PQcjsn0jQCexpwLGfiNAx1on6NN/I0A=\",\"dtype\":\"float64\",\"shape\":[100]}},\"selected\":{\"id\":\"4170\",\"type\":\"Selection\"},\"selection_policy\":{\"id\":\"4169\",\"type\":\"UnionRenderers\"}},\"id\":\"3983\",\"type\":\"ColumnDataSource\"},{\"attributes\":{},\"id\":\"3915\",\"type\":\"LinearScale\"},{\"attributes\":{\"line_alpha\":0.1,\"line_color\":\"#1f77b4\",\"line_width\":2,\"x\":{\"field\":\"x\"},\"y\":{\"field\":\"y\"}},\"id\":\"3985\",\"type\":\"Line\"},{\"attributes\":{\"bottom_units\":\"screen\",\"fill_alpha\":{\"value\":0.5},\"fill_color\":{\"value\":\"lightgrey\"},\"left_units\":\"screen\",\"level\":\"overlay\",\"line_alpha\":{\"value\":1.0},\"line_color\":{\"value\":\"black\"},\"line_dash\":[4,4],\"line_width\":{\"value\":2},\"render_mode\":\"css\",\"right_units\":\"screen\",\"top_units\":\"screen\"},\"id\":\"3950\",\"type\":\"BoxAnnotation\"},{\"attributes\":{},\"id\":\"4169\",\"type\":\"UnionRenderers\"},{\"attributes\":{\"axis_label\":\"time (sec)\",\"formatter\":{\"id\":\"3947\",\"type\":\"BasicTickFormatter\"},\"ticker\":{\"id\":\"3918\",\"type\":\"BasicTicker\"}},\"id\":\"3917\",\"type\":\"LinearAxis\"},{\"attributes\":{},\"id\":\"3949\",\"type\":\"BasicTickFormatter\"},{\"attributes\":{\"dimension\":1,\"ticker\":{\"id\":\"3923\",\"type\":\"BasicTicker\"}},\"id\":\"3926\",\"type\":\"Grid\"},{\"attributes\":{\"data_source\":{\"id\":\"3983\",\"type\":\"ColumnDataSource\"},\"glyph\":{\"id\":\"3984\",\"type\":\"Line\"},\"hover_glyph\":null,\"muted_glyph\":null,\"nonselection_glyph\":{\"id\":\"3985\",\"type\":\"Line\"},\"selection_glyph\":null,\"view\":{\"id\":\"3987\",\"type\":\"CDSView\"}},\"id\":\"3986\",\"type\":\"GlyphRenderer\"},{\"attributes\":{},\"id\":\"3918\",\"type\":\"BasicTicker\"},{\"attributes\":{\"ticker\":{\"id\":\"3918\",\"type\":\"BasicTicker\"}},\"id\":\"3921\",\"type\":\"Grid\"},{\"attributes\":{\"source\":{\"id\":\"3940\",\"type\":\"ColumnDataSource\"}},\"id\":\"3944\",\"type\":\"CDSView\"},{\"attributes\":{\"line_alpha\":0.1,\"line_color\":\"#1f77b4\",\"line_width\":2,\"x\":{\"field\":\"x\"},\"y\":{\"field\":\"y\"}},\"id\":\"3955\",\"type\":\"Line\"},{\"attributes\":{\"source\":{\"id\":\"3983\",\"type\":\"ColumnDataSource\"}},\"id\":\"3987\",\"type\":\"CDSView\"},{\"attributes\":{},\"id\":\"3947\",\"type\":\"BasicTickFormatter\"},{\"attributes\":{},\"id\":\"3999\",\"type\":\"Selection\"},{\"attributes\":{},\"id\":\"3923\",\"type\":\"BasicTicker\"},{\"attributes\":{\"label\":{\"value\":\"ATP at 37C\"},\"renderers\":[{\"id\":\"3956\",\"type\":\"GlyphRenderer\"}]},\"id\":\"3966\",\"type\":\"LegendItem\"},{\"attributes\":{\"axis_label\":\"concentration (nM)\",\"formatter\":{\"id\":\"3949\",\"type\":\"BasicTickFormatter\"},\"ticker\":{\"id\":\"3923\",\"type\":\"BasicTicker\"}},\"id\":\"3922\",\"type\":\"LinearAxis\"},{\"attributes\":{},\"id\":\"3965\",\"type\":\"Selection\"},{\"attributes\":{},\"id\":\"3998\",\"type\":\"UnionRenderers\"},{\"attributes\":{\"callback\":null,\"data\":{\"x\":{\"__ndarray__\":\"AAAAAAAAAAB/pUCtXykgQH+lQK1fKTBAPvjggw8+OEB/pUCtXylAQN/OkJi3M0RAPvjggw8+SECeITFvZ0hMQH+lQK1fKVBAL7rooosuUkDfzpCYtzNUQI/jOI7jOFZAPvjggw8+WEDuDIl5O0NaQJ4hMW9nSFxATjbZZJNNXkB/pUCtXylgQNevFKj1K2FAL7rooosuYkCHxLydITFjQN/OkJi3M2RAN9lkk002ZUCP4ziO4zhmQOftDIl5O2dAPvjggw8+aECWArV+pUBpQO4MiXk7Q2pARhdddNFFa0CeITFvZ0hsQPYrBWr9Sm1ATjbZZJNNbkCmQK1fKVBvQH+lQK1fKXBAq6qqqqqqcEDXrxSo9StxQAO1fqVArXFAL7rooosuckBbv1Kg1q9yQIfEvJ0hMXNAs8kmm2yyc0DfzpCYtzN0QAvU+pUCtXRAN9lkk002dUBj3s6QmLd1QI/jOI7jOHZAu+iiiy66dkDn7QyJeTt3QBPzdobEvHdAPvjggw8+eEBq/UqBWr94QJYCtX6lQHlAwgcffPDBeUDuDIl5O0N6QBoS83aGxHpARhdddNFFe0ByHMdxHMd7QJ4hMW9nSHxAyiabbLLJfED2KwVq/Up9QCIxb2dIzH1ATjbZZJNNfkB6O0Ni3s5+QKZArV8pUH9A0kUXXXTRf0B/pUCtXymAQBWo9SsFaoBAq6qqqqqqgEBBrV8pUOuAQNevFKj1K4FAbbLJJptsgUADtX6lQK2BQJm3MyTm7YFAL7rooosugkDFvJ0hMW+CQFu/UqDWr4JA8cEHH3zwgkCHxLydITGDQB3HcRzHcYNAs8kmm2yyg0BJzNsZEvODQN/OkJi3M4RAddFFF110hEAL1PqVArWEQKHWrxSo9YRAN9lkk002hUDN2xkS83aFQGPezpCYt4VA+eCDDz74hUCP4ziO4ziGQCXm7QyJeYZAu+iiiy66hkBR61cK1PqGQOftDIl5O4dAffDBBx98h0AT83aGxLyHQKn1KwVq/YdAPvjggw8+iEDU+pUCtX6IQGr9SoFav4hAAAAAAAAAiUA=\",\"dtype\":\"float64\",\"shape\":[100]},\"y\":{\"__ndarray__\":\"AAAAAAAAJEDwsHq/+U5yP4MaMp7+ya8/y9umfzzf0D9iHNrD8knlP+a/usRxzPM/4cAeyRxV/j/f5eM7k38EQLboxdXQhQlAMXzgJLIUDkCyug570BERQMsFlB+c3BJAfsonVvVwFEAgDiiMutUVQFes+XxwERdAxob7DeQpGEC2+v8QFiQZQEQNq4BGBBpARysJFgvOGkBCHrg5aIQbQPXFPkroKRxAtciCI7DAHEBXadNjkEodQObIEdYTyR1A2P+qSIs9HkBUJexDF6keQKs+igCwDB9A7peh6StpH0Dj9Fn5RL8fQJdsdpHOByBAsGBD+WAtIEDs0cLLl1AgQELAL7CpcSBAVYy+8MaQIEC4tlpUGq4gQCXe6eLJySBAlgPFgvfjIEBDI3SCwfwgQFEIwgxDFCFASF0njJQqIUBaluz/yz8hQBTp5Ub9UyFAUUuiXjpnIUDLHuuXk3khQAo1tcwXiyFABcdwhNSbIUA3+mQb1qshQO8rZOInuyFAKyLyOtTJIUCXHEGw5NchQLx/Jw1i5SFADnhpb1TyIUDv/h1Zw/4hQFmb4b+1CiJAG9Z6GTIWIkCNKY5pPiEiQCkSr0rgKyJAK9iF+Bw2IkACDBdY+T8iQFQKQ/95SSJAhfKoO6NSIkC2oysYeVsiQCCr7mL/YyJAoApksTlsIkDNGyZlK3QiQHrPza/XeyJAMQwqlkGDIkDseZLza4oiQLPDvnxZkSJA/nNTwgyYIkBmo0oziJ4iQHx9EB/OpCJAB26Ct+CqIkB7a70SwrAiQNcexSx0tiJAJb0V6fi7IkAX5fsTUsEiQIh4AWSBxiJAe6oSe4jLIkBLAlTnaNAiQElAniUk1SJANe6Tn7vZIkCYhuOvMN4iQMx3DaGE4iJAoK6BrrjmIkDaXv8FzuoiQJ7w8cfF7iJAb2z6B6HyIkBunTfNYPYiQPcgehQG+iJA8O3RzpH9IkBmX07jBAEjQG0MNi9gBCNAINpAhqQHI0DxJ2Wz0gojQGTWIHnrDSNALgLJke8QI0BVHoyw3xMjQLRmjX+8FiNAz+wSpYYZI0A=\",\"dtype\":\"float64\",\"shape\":[100]}},\"selected\":{\"id\":\"3981\",\"type\":\"Selection\"},\"selection_policy\":{\"id\":\"3980\",\"type\":\"UnionRenderers\"}},\"id\":\"3953\",\"type\":\"ColumnDataSource\"},{\"attributes\":{\"line_color\":\"#2ba02b\",\"line_width\":2,\"x\":{\"field\":\"x\"},\"y\":{\"field\":\"y\"}},\"id\":\"3968\",\"type\":\"Line\"},{\"attributes\":{\"line_color\":\"#9367bc\",\"line_width\":2,\"x\":{\"field\":\"x\"},\"y\":{\"field\":\"y\"}},\"id\":\"3984\",\"type\":\"Line\"},{\"attributes\":{},\"id\":\"4170\",\"type\":\"Selection\"},{\"attributes\":{\"data_source\":{\"id\":\"3967\",\"type\":\"ColumnDataSource\"},\"glyph\":{\"id\":\"3968\",\"type\":\"Line\"},\"hover_glyph\":null,\"muted_glyph\":null,\"nonselection_glyph\":{\"id\":\"3969\",\"type\":\"Line\"},\"selection_glyph\":null,\"view\":{\"id\":\"3971\",\"type\":\"CDSView\"}},\"id\":\"3970\",\"type\":\"GlyphRenderer\"},{\"attributes\":{\"source\":{\"id\":\"3953\",\"type\":\"ColumnDataSource\"}},\"id\":\"3957\",\"type\":\"CDSView\"},{\"attributes\":{},\"id\":\"3964\",\"type\":\"UnionRenderers\"},{\"attributes\":{\"line_alpha\":0.1,\"line_color\":\"#1f77b4\",\"line_width\":2,\"x\":{\"field\":\"x\"},\"y\":{\"field\":\"y\"}},\"id\":\"3969\",\"type\":\"Line\"},{\"attributes\":{\"callback\":null,\"data\":{\"x\":{\"__ndarray__\":\"AAAAAAAAAAB/pUCtXykgQH+lQK1fKTBAPvjggw8+OEB/pUCtXylAQN/OkJi3M0RAPvjggw8+SECeITFvZ0hMQH+lQK1fKVBAL7rooosuUkDfzpCYtzNUQI/jOI7jOFZAPvjggw8+WEDuDIl5O0NaQJ4hMW9nSFxATjbZZJNNXkB/pUCtXylgQNevFKj1K2FAL7rooosuYkCHxLydITFjQN/OkJi3M2RAN9lkk002ZUCP4ziO4zhmQOftDIl5O2dAPvjggw8+aECWArV+pUBpQO4MiXk7Q2pARhdddNFFa0CeITFvZ0hsQPYrBWr9Sm1ATjbZZJNNbkCmQK1fKVBvQH+lQK1fKXBAq6qqqqqqcEDXrxSo9StxQAO1fqVArXFAL7rooosuckBbv1Kg1q9yQIfEvJ0hMXNAs8kmm2yyc0DfzpCYtzN0QAvU+pUCtXRAN9lkk002dUBj3s6QmLd1QI/jOI7jOHZAu+iiiy66dkDn7QyJeTt3QBPzdobEvHdAPvjggw8+eEBq/UqBWr94QJYCtX6lQHlAwgcffPDBeUDuDIl5O0N6QBoS83aGxHpARhdddNFFe0ByHMdxHMd7QJ4hMW9nSHxAyiabbLLJfED2KwVq/Up9QCIxb2dIzH1ATjbZZJNNfkB6O0Ni3s5+QKZArV8pUH9A0kUXXXTRf0B/pUCtXymAQBWo9SsFaoBAq6qqqqqqgEBBrV8pUOuAQNevFKj1K4FAbbLJJptsgUADtX6lQK2BQJm3MyTm7YFAL7rooosugkDFvJ0hMW+CQFu/UqDWr4JA8cEHH3zwgkCHxLydITGDQB3HcRzHcYNAs8kmm2yyg0BJzNsZEvODQN/OkJi3M4RAddFFF110hEAL1PqVArWEQKHWrxSo9YRAN9lkk002hUDN2xkS83aFQGPezpCYt4VA+eCDDz74hUCP4ziO4ziGQCXm7QyJeYZAu+iiiy66hkBR61cK1PqGQOftDIl5O4dAffDBBx98h0AT83aGxLyHQKn1KwVq/YdAPvjggw8+iEDU+pUCtX6IQGr9SoFav4hAAAAAAAAAiUA=\",\"dtype\":\"float64\",\"shape\":[100]},\"y\":{\"__ndarray__\":\"AAAAAAAAJEAmYH3tRcpAP09Zv3M69n0/MOeutOfZoD+pXRzdyoq3P26+TSa4Msk/vOHjrjms1j+1Abtf0wfiPydFbltDJuo/YGRbC5qq8T+R6D2z4pf2P+sIO80frfs/xDo4y7xiAECPilqfAOMCQMdYZBBOTgVA+x83mxmfB0DvZ06kbtIJQOTdV20o5wtAJy3eSljdDUDpb6xa1bUPQDihB6z2uBBAEVxbYpeJEUAsVblZok0SQKO+crDvBRNAX6lmzFKzE0CC6lHklVYUQDwtUq138BRAZ6CqDKqBFUDggTzy0QoWQK9BAISHjBZA19b0p1YHF0ACH4C9v3sXQFNAiWk46hdA76WNcSxTGEBo2qx+/rYYQAn//vQIFhlAAb8Ep55wGUCzqbuFC8cZQMmO1UOVGRpAuFe+5XtoGkBTIvVK+rMaQBwYUKBG/BpAtjZz2pJBG0AylosLDYQbQG+hwsDfwxtAFbLKVTIBHECXk1E9KTwcQPy1Xz3mdBxAAbXdr4irHEBNnJC1LeAcQJdKUGbwEh1AVO8k/OlDHUCXBO/9MXMdQD2GP17eoB1A4P7rnwPNHUC+eD/vtPcdQKT5iUAEIR5AtPeVZwJJHkBAZ6krv28eQAjq7l1JlR5AcFaK6q65HkDcTPXp/NweQHftWLA//x5AZaI324IgH0B9gSBf0UAfQOMd4ZE1YB9AAirHN7l+H0AhT0WMZZwfQH4A10dDuR9AtvalsVrVH0DYS/acs/AfQMyoSruqBSBAvzK7pKMSIEATDm3iRx8gQLrugaGaKyBAUIQ95p43IEA4PQOQV0MgQC//slzHTiBAHMX64PBZIEABQBKc1mQgQNWb/ul6byBAisE2DOB5IEBwOKopCIQgQJ83F1D1jSBAlXD6dqmXIEByjdl+JqEgQAWjUTNuqiBAz+RfTIKzIEDbiCxvZLwgQBW9Ji8WxSBASFTjDpnNIECiBPyA7tUgQFvd+ugX3iBAI5C1mxbmIECgfvTg6+0gQD839vKY9SBAE6rl/x79IEAG0QMqfwQhQDH0nIi6CyFAHss+KNISIUA=\",\"dtype\":\"float64\",\"shape\":[100]}},\"selected\":{\"id\":\"3999\",\"type\":\"Selection\"},\"selection_policy\":{\"id\":\"3998\",\"type\":\"UnionRenderers\"}},\"id\":\"3967\",\"type\":\"ColumnDataSource\"},{\"attributes\":{\"label\":{\"value\":\"ATP at 25C\"},\"renderers\":[{\"id\":\"3943\",\"type\":\"GlyphRenderer\"}]},\"id\":\"3952\",\"type\":\"LegendItem\"},{\"attributes\":{\"line_alpha\":0.1,\"line_color\":\"#1f77b4\",\"line_width\":2,\"x\":{\"field\":\"x\"},\"y\":{\"field\":\"y\"}},\"id\":\"3942\",\"type\":\"Line\"},{\"attributes\":{\"line_color\":\"#ff7e0e\",\"line_width\":2,\"x\":{\"field\":\"x\"},\"y\":{\"field\":\"y\"}},\"id\":\"3954\",\"type\":\"Line\"},{\"attributes\":{\"active_drag\":\"auto\",\"active_inspect\":\"auto\",\"active_multi\":null,\"active_scroll\":\"auto\",\"active_tap\":\"auto\",\"tools\":[{\"id\":\"3927\",\"type\":\"PanTool\"},{\"id\":\"3928\",\"type\":\"WheelZoomTool\"},{\"id\":\"3929\",\"type\":\"BoxZoomTool\"},{\"id\":\"3930\",\"type\":\"SaveTool\"},{\"id\":\"3931\",\"type\":\"ResetTool\"},{\"id\":\"3932\",\"type\":\"HelpTool\"}]},\"id\":\"3933\",\"type\":\"Toolbar\"},{\"attributes\":{\"line_color\":\"#1f77b3\",\"line_width\":2,\"x\":{\"field\":\"x\"},\"y\":{\"field\":\"y\"}},\"id\":\"3941\",\"type\":\"Line\"}],\"root_ids\":[\"3906\"]},\"title\":\"Bokeh Application\",\"version\":\"1.4.0\"}};\n",
       "  var render_items = [{\"docid\":\"7e48ef8a-8b57-4748-b427-cea637423939\",\"roots\":{\"3906\":\"a83e7c94-1314-42a7-bc0c-d0f5c5eb0f1e\"}}];\n",
       "  root.Bokeh.embed.embed_items_notebook(docs_json, render_items);\n",
       "\n",
       "  }\n",
       "  if (root.Bokeh !== undefined) {\n",
       "    embed_document(root);\n",
       "  } else {\n",
       "    var attempts = 0;\n",
       "    var timer = setInterval(function(root) {\n",
       "      if (root.Bokeh !== undefined) {\n",
       "        clearInterval(timer);\n",
       "        embed_document(root);\n",
       "      } else {\n",
       "        attempts++;\n",
       "        if (attempts > 100) {\n",
       "          clearInterval(timer);\n",
       "          console.log(\"Bokeh: ERROR: Unable to run BokehJS code because BokehJS library is missing\");\n",
       "        }\n",
       "      }\n",
       "    }, 10, root)\n",
       "  }\n",
       "})(window);"
      ],
      "application/vnd.bokehjs_exec.v0+json": ""
     },
     "metadata": {
      "application/vnd.bokehjs_exec.v0+json": {
       "id": "3906"
      }
     },
     "output_type": "display_data"
    }
   ],
   "source": [
    "p = bokeh.plotting.figure(width = 450, height = 350, title = 'Effect of Different Temperatures on ATP Curves',\n",
    "                          x_axis_label = 'time (sec)',\n",
    "                          y_axis_label = 'concentration (nM)')\n",
    "p.line(timepoints, results_25[ATP_id_25], color = palette[0], line_width = 2, legend_label = 'ATP at 25C')\n",
    "p.line(timepoints, results_37[ATP_id_37], color = palette[1], line_width = 2, legend_label = 'ATP at 37C')\n",
    "p.line(timepoints, results_100[ATP_id_100], color = palette[2], line_width = 2, legend_label = 'ATP at 100C')\n",
    "p.line(timepoints, results_original[ATP_id_orig], color = palette[3], line_width = 2, legend_label = 'ATP for original')\n",
    "p.legend.location = 'bottom_right'\n",
    "\n",
    "p.legend.click_policy = 'hide'\n",
    "bokeh.io.show(p)"
   ]
  },
  {
   "cell_type": "code",
   "execution_count": 28,
   "metadata": {},
   "outputs": [
    {
     "data": {
      "text/html": [
       "\n",
       "\n",
       "\n",
       "\n",
       "\n",
       "\n",
       "  <div class=\"bk-root\" id=\"697ad5a9-06e1-4176-80c7-1704dbe821a5\" data-root-id=\"2263\"></div>\n"
      ]
     },
     "metadata": {},
     "output_type": "display_data"
    },
    {
     "data": {
      "application/javascript": [
       "(function(root) {\n",
       "  function embed_document(root) {\n",
       "    \n",
       "  var docs_json = {\"54da6cc7-8f41-414e-b339-1f413850da37\":{\"roots\":{\"references\":[{\"attributes\":{\"below\":[{\"id\":\"2274\",\"type\":\"LinearAxis\"}],\"center\":[{\"id\":\"2278\",\"type\":\"Grid\"},{\"id\":\"2283\",\"type\":\"Grid\"},{\"id\":\"2308\",\"type\":\"Legend\"}],\"left\":[{\"id\":\"2279\",\"type\":\"LinearAxis\"}],\"plot_height\":350,\"plot_width\":450,\"renderers\":[{\"id\":\"2300\",\"type\":\"GlyphRenderer\"},{\"id\":\"2313\",\"type\":\"GlyphRenderer\"},{\"id\":\"2327\",\"type\":\"GlyphRenderer\"},{\"id\":\"2343\",\"type\":\"GlyphRenderer\"}],\"title\":{\"id\":\"2264\",\"type\":\"Title\"},\"toolbar\":{\"id\":\"2290\",\"type\":\"Toolbar\"},\"x_range\":{\"id\":\"2266\",\"type\":\"DataRange1d\"},\"x_scale\":{\"id\":\"2270\",\"type\":\"LinearScale\"},\"y_range\":{\"id\":\"2268\",\"type\":\"DataRange1d\"},\"y_scale\":{\"id\":\"2272\",\"type\":\"LinearScale\"}},\"id\":\"2263\",\"subtype\":\"Figure\",\"type\":\"Plot\"},{\"attributes\":{\"active_drag\":\"auto\",\"active_inspect\":\"auto\",\"active_multi\":null,\"active_scroll\":\"auto\",\"active_tap\":\"auto\",\"tools\":[{\"id\":\"2284\",\"type\":\"PanTool\"},{\"id\":\"2285\",\"type\":\"WheelZoomTool\"},{\"id\":\"2286\",\"type\":\"BoxZoomTool\"},{\"id\":\"2287\",\"type\":\"SaveTool\"},{\"id\":\"2288\",\"type\":\"ResetTool\"},{\"id\":\"2289\",\"type\":\"HelpTool\"}]},\"id\":\"2290\",\"type\":\"Toolbar\"},{\"attributes\":{},\"id\":\"2449\",\"type\":\"Selection\"},{\"attributes\":{\"data_source\":{\"id\":\"2297\",\"type\":\"ColumnDataSource\"},\"glyph\":{\"id\":\"2298\",\"type\":\"Line\"},\"hover_glyph\":null,\"muted_glyph\":null,\"nonselection_glyph\":{\"id\":\"2299\",\"type\":\"Line\"},\"selection_glyph\":null,\"view\":{\"id\":\"2301\",\"type\":\"CDSView\"}},\"id\":\"2300\",\"type\":\"GlyphRenderer\"},{\"attributes\":{\"line_color\":\"#1f77b3\",\"line_width\":2,\"x\":{\"field\":\"x\"},\"y\":{\"field\":\"y\"}},\"id\":\"2298\",\"type\":\"Line\"},{\"attributes\":{\"line_color\":\"#2ba02b\",\"line_width\":2,\"x\":{\"field\":\"x\"},\"y\":{\"field\":\"y\"}},\"id\":\"2325\",\"type\":\"Line\"},{\"attributes\":{\"bottom_units\":\"screen\",\"fill_alpha\":{\"value\":0.5},\"fill_color\":{\"value\":\"lightgrey\"},\"left_units\":\"screen\",\"level\":\"overlay\",\"line_alpha\":{\"value\":1.0},\"line_color\":{\"value\":\"black\"},\"line_dash\":[4,4],\"line_width\":{\"value\":2},\"render_mode\":\"css\",\"right_units\":\"screen\",\"top_units\":\"screen\"},\"id\":\"2307\",\"type\":\"BoxAnnotation\"},{\"attributes\":{\"text\":\"Effect of Different Temperatures on Bound Protein\"},\"id\":\"2264\",\"type\":\"Title\"},{\"attributes\":{\"line_alpha\":0.1,\"line_color\":\"#1f77b4\",\"line_width\":2,\"x\":{\"field\":\"x\"},\"y\":{\"field\":\"y\"}},\"id\":\"2326\",\"type\":\"Line\"},{\"attributes\":{},\"id\":\"2284\",\"type\":\"PanTool\"},{\"attributes\":{\"callback\":null},\"id\":\"2266\",\"type\":\"DataRange1d\"},{\"attributes\":{\"data_source\":{\"id\":\"2324\",\"type\":\"ColumnDataSource\"},\"glyph\":{\"id\":\"2325\",\"type\":\"Line\"},\"hover_glyph\":null,\"muted_glyph\":null,\"nonselection_glyph\":{\"id\":\"2326\",\"type\":\"Line\"},\"selection_glyph\":null,\"view\":{\"id\":\"2328\",\"type\":\"CDSView\"}},\"id\":\"2327\",\"type\":\"GlyphRenderer\"},{\"attributes\":{\"line_color\":\"#ff7e0e\",\"line_width\":2,\"x\":{\"field\":\"x\"},\"y\":{\"field\":\"y\"}},\"id\":\"2311\",\"type\":\"Line\"},{\"attributes\":{},\"id\":\"2306\",\"type\":\"BasicTickFormatter\"},{\"attributes\":{},\"id\":\"2285\",\"type\":\"WheelZoomTool\"},{\"attributes\":{\"line_color\":\"#9367bc\",\"line_width\":2,\"x\":{\"field\":\"x\"},\"y\":{\"field\":\"y\"}},\"id\":\"2341\",\"type\":\"Line\"},{\"attributes\":{\"overlay\":{\"id\":\"2307\",\"type\":\"BoxAnnotation\"}},\"id\":\"2286\",\"type\":\"BoxZoomTool\"},{\"attributes\":{\"source\":{\"id\":\"2324\",\"type\":\"ColumnDataSource\"}},\"id\":\"2328\",\"type\":\"CDSView\"},{\"attributes\":{},\"id\":\"2337\",\"type\":\"UnionRenderers\"},{\"attributes\":{\"callback\":null},\"id\":\"2268\",\"type\":\"DataRange1d\"},{\"attributes\":{},\"id\":\"2287\",\"type\":\"SaveTool\"},{\"attributes\":{},\"id\":\"2270\",\"type\":\"LinearScale\"},{\"attributes\":{\"label\":{\"value\":\"100C\"},\"renderers\":[{\"id\":\"2327\",\"type\":\"GlyphRenderer\"}]},\"id\":\"2339\",\"type\":\"LegendItem\"},{\"attributes\":{\"callback\":null,\"data\":{\"x\":{\"__ndarray__\":\"AAAAAAAAAAD0kcwotrK2P/SRzCi2ssY/d22ZnggG0T/0kcwotrLWP3K2/7JjX9w/d22ZnggG4T+2/7JjX9zjP/SRzCi2suY/MyTm7QyJ6T9ytv+yY1/sP7BIGXi6Ne8/d22ZnggG8T+WNiYBNHHyP7b/smNf3PM/1sg/xopH9T/0kcwotrL2PxNbWYvhHfg/MyTm7QyJ+T9T7XJQOPT6P3K2/7JjX/w/kH+MFY/K/T+wSBl4ujX/P+gIU+1yUABAd22ZnggGAUAG0t9PnrsBQJY2JgE0cQJAJptssskmA0C2/7JjX9wDQEVk+RT1kQRA1sg/xopHBUBlLYZ3IP0FQPSRzCi2sgZAhPYS2ktoB0ATW1mL4R0IQKS/nzx30whAMyTm7QyJCUDCiCyfoj4KQFPtclA49ApA4lG5Ac6pC0Bytv+yY18MQAEbRmT5FA1AkH+MFY/KDUAh5NLGJIAOQLBIGXi6NQ9AQK1fKVDrD0DoCFPtclAQQDA79sU9qxBAd22ZnggGEUC/nzx302ARQAbS30+euxFATwSDKGkWEkCWNiYBNHESQN9oydn+yxJAJptssskmE0BuzQ+LlIETQLb/smNf3BNA/jFWPCo3FEBFZPkU9ZEUQI2WnO2/7BRA1sg/xopHFUAe++KeVaIVQGUthncg/RVArV8pUOtXFkD0kcwotrIWQD3EbwGBDRdAhPYS2ktoF0DMKLayFsMXQBNbWYvhHRhAXI38Y6x4GECkv588d9MYQOzxQhVCLhlAMyTm7QyJGUB7VonG1+MZQMKILJ+iPhpAC7vPd22ZGkBT7XJQOPQaQJsfFikDTxtA4lG5Ac6pG0AqhFzamAQcQHK2/7JjXxxAuuiiiy66HEABG0Zk+RQdQElN6TzEbx1AkH+MFY/KHUDasS/uWSUeQCHk0sYkgB5AaRZ2n+/aHkCwSBl4ujUfQPl6vFCFkB9AQK1fKVDrH0DEbwGBDSMgQOgIU+1yUCBADKKkWdh9IEAwO/bFPasgQFTURzKj2CBAd22ZnggGIUCcBusKbjMhQL+fPHfTYCFA4ziO4ziOIUA=\",\"dtype\":\"float64\",\"shape\":[100]},\"y\":{\"__ndarray__\":\"AAAAAAAAAADlO6I0JIemP9LRrcr6V8s/kbr2Z41F4D9VERg1M1btPxdNokv/tvY/FWyc2QXq/z8j9KVIYPMEQJJUAQmYLApAeWNNHtN9D0AiQlOb4GUSQK+1JyruABVA280draOIF0AvrSJW1PcZQNJamk0USxxACr+ZC0+AHkCu9wO5OUsgQGOEeDOZRiFAP7ErHWYyIkCS9I/b9A4jQGpmcBm/3CNAs7mWTVicJECTfEnsZE4lQBPokK2T8yVAqGQdbZiMJkAxdtBKKBonQMXk38H2nCdA/eEwf7MVKEALPVLUCIUoQMPCsJqa6yhAkUN8dgVKKUDZ0VZf3qApQKcNmmCy8ClAyyJ3hQY6KkCs65DkV30qQCs4TcUbuypAYT2i1r/zKkCDvyNzqicrQCBrne86VytAH3BZ7smCK0Ah8/y1qaorQCNTGYsmzytAzuLiCIfwK0AqoPl4DA8sQOqYaynzKixA7+Prv3JELEBsC9uJvlssQDSr/cgFcSxAzzBr/HOELEATnC4lMZYsQJL/UQlipixAX5OpcCi1LEDaWdZbo8IsQG/Pvj7vzixAoLEYMCbaLEAP1C4aYOQsQAwt8uay7SxAQw4HpzL2LEBz9em48f0sQC2YS+wABS1ACGb6oW8LLUAzwOXpSxEtQGrFIJ+iFi1AC4+hgX8bLUDAvq1N7R8tQJfmiNH1Iy1Al3yDAaInLUAEXHcK+iotQPq6z2IFLi1AAo442cowLUA2tbWlUDMtQAS8F3KcNS1ATN7babM3LUCEvt9DmjktQCf1WUxVOy1ASSP2beg8LUBbcwM7Vz4tQOz6BPWkPy1AkMQKk9RALUDJtJXI6EEtQIiJrwvkQi1AUuBfmshDLUDURoF/mEQtQCMmIZdVRS1ApyixkgFGLUDyFtj8nUYtQDKQ9DwsRy1Aqpkwmq1HLUDqlFg+I0gtQL/HdjiOSC1AI7czf+9ILUB86w/zR0ktQObzVmCYSS1ADknvgOFJLUAzrP79I0otQPgUanFgSi1AqwgzZ5dKLUAYdrleyUotQCvt3cv2Si1AkfUDGCBLLUA=\",\"dtype\":\"float64\",\"shape\":[100]}},\"selected\":{\"id\":\"2356\",\"type\":\"Selection\"},\"selection_policy\":{\"id\":\"2355\",\"type\":\"UnionRenderers\"}},\"id\":\"2324\",\"type\":\"ColumnDataSource\"},{\"attributes\":{\"click_policy\":\"hide\",\"items\":[{\"id\":\"2309\",\"type\":\"LegendItem\"},{\"id\":\"2323\",\"type\":\"LegendItem\"},{\"id\":\"2339\",\"type\":\"LegendItem\"},{\"id\":\"2357\",\"type\":\"LegendItem\"}],\"location\":\"bottom_right\"},\"id\":\"2308\",\"type\":\"Legend\"},{\"attributes\":{},\"id\":\"2288\",\"type\":\"ResetTool\"},{\"attributes\":{},\"id\":\"2338\",\"type\":\"Selection\"},{\"attributes\":{},\"id\":\"2289\",\"type\":\"HelpTool\"},{\"attributes\":{\"callback\":null,\"data\":{\"x\":{\"__ndarray__\":\"AAAAAAAAAAD0kcwotrK2P/SRzCi2ssY/d22ZnggG0T/0kcwotrLWP3K2/7JjX9w/d22ZnggG4T+2/7JjX9zjP/SRzCi2suY/MyTm7QyJ6T9ytv+yY1/sP7BIGXi6Ne8/d22ZnggG8T+WNiYBNHHyP7b/smNf3PM/1sg/xopH9T/0kcwotrL2PxNbWYvhHfg/MyTm7QyJ+T9T7XJQOPT6P3K2/7JjX/w/kH+MFY/K/T+wSBl4ujX/P+gIU+1yUABAd22ZnggGAUAG0t9PnrsBQJY2JgE0cQJAJptssskmA0C2/7JjX9wDQEVk+RT1kQRA1sg/xopHBUBlLYZ3IP0FQPSRzCi2sgZAhPYS2ktoB0ATW1mL4R0IQKS/nzx30whAMyTm7QyJCUDCiCyfoj4KQFPtclA49ApA4lG5Ac6pC0Bytv+yY18MQAEbRmT5FA1AkH+MFY/KDUAh5NLGJIAOQLBIGXi6NQ9AQK1fKVDrD0DoCFPtclAQQDA79sU9qxBAd22ZnggGEUC/nzx302ARQAbS30+euxFATwSDKGkWEkCWNiYBNHESQN9oydn+yxJAJptssskmE0BuzQ+LlIETQLb/smNf3BNA/jFWPCo3FEBFZPkU9ZEUQI2WnO2/7BRA1sg/xopHFUAe++KeVaIVQGUthncg/RVArV8pUOtXFkD0kcwotrIWQD3EbwGBDRdAhPYS2ktoF0DMKLayFsMXQBNbWYvhHRhAXI38Y6x4GECkv588d9MYQOzxQhVCLhlAMyTm7QyJGUB7VonG1+MZQMKILJ+iPhpAC7vPd22ZGkBT7XJQOPQaQJsfFikDTxtA4lG5Ac6pG0AqhFzamAQcQHK2/7JjXxxAuuiiiy66HEABG0Zk+RQdQElN6TzEbx1AkH+MFY/KHUDasS/uWSUeQCHk0sYkgB5AaRZ2n+/aHkCwSBl4ujUfQPl6vFCFkB9AQK1fKVDrH0DEbwGBDSMgQOgIU+1yUCBADKKkWdh9IEAwO/bFPasgQFTURzKj2CBAd22ZnggGIUCcBusKbjMhQL+fPHfTYCFA4ziO4ziOIUA=\",\"dtype\":\"float64\",\"shape\":[100]},\"y\":{\"__ndarray__\":\"AAAAAAAAAACQHriXB83YP0frkHriNARAz+KRMGGkG0BduPwRHvwoQIXIMgHhFTJAu2zcv9o7N0Aqg5c5mOo7QHwNRnUDFkBAgDxDngEFQkA/zM2RzcZDQH2REwKHX0VANfsN2u3SRkAll4yGaiRIQNSypNQVV0lAMPjNL8BtSkAawbY6+GpLQIqhYtEQUUxAqkDLfSYiTUCsZ+ZtJOBNQM0ugvXIjE5AEm2mpqkpT0A++xUKN7hPQL50pADgHFBA/cmdbbpXUEATpGkNNY1QQDSKu4HNvVBAy6XO8/XpUEDOjcMfFhJRQKHN/UiMNlFAP68dF65XUUDDUJJfyXVRQMxwONwkkVFAIZWO0QCqUUD7csOll8BRQDTPy2ke1VFArMIXVsXnUUBZEts7uPhRQCd/+eseCFJAhOGRlB0WUkBBZfwV1SJSQC3QBVBjLlJAPm0YaOM4UkAw1w8JbkJSQCspIp0ZS1JAk6iBgvpSUkBS6UI7I1pSQGzBzpikYFJACopm441mUkCXfwv+7GtSQMmaIIfOcFJAmmEK9j11UkDMayG2RXlSQDl7LD/vfFJA5P6eK0OAUkB44MxMSYNSQF3GRr0IhlJA+yOT8YeIUkD8CU/HzIpSQCo8+JLcjFJA7KtyLLyOUkCZr2n6b5BSQKmUp/z7kVJAy8931WOTUkCT4jTSqpRSQKFVBfPTlVJAKV/s8eGWUkBmJC5J15dSQP/+JDm2mFJAhSuKzYCZUkCLAkXiOJpSQJqTxSfgmlJAIUH/JnibUkDixQRFApxSQJrfSsZ/nFJADdun0fGcUkAthAZzWZ1SQFub2Z23nVJAsrVXLw2eUkAI8ITwWp5SQByuCpihnlJAhTTjy+GeUkDeRuEiHJ9SQIieFCZRn1JA/CcGUoGfUkBCb94XrZ9SQJ+Rbt7Un1JAUu0wA/mfUkCVKgfbGaBSQEsdGLM3oFJAElqB0VKgUkAb3fZ1a6BSQDsvXdqBoFJAOcdGM5agUkDBRoWwqKBSQKmej325oFJAdWHcwcigUkDf0ESh1qBSQG/MXTzjoFJANfzFsO6gUkA=\",\"dtype\":\"float64\",\"shape\":[100]}},\"selected\":{\"id\":\"2338\",\"type\":\"Selection\"},\"selection_policy\":{\"id\":\"2337\",\"type\":\"UnionRenderers\"}},\"id\":\"2310\",\"type\":\"ColumnDataSource\"},{\"attributes\":{},\"id\":\"2272\",\"type\":\"LinearScale\"},{\"attributes\":{\"callback\":null,\"data\":{\"x\":{\"__ndarray__\":\"AAAAAAAAAAD0kcwotrK2P/SRzCi2ssY/d22ZnggG0T/0kcwotrLWP3K2/7JjX9w/d22ZnggG4T+2/7JjX9zjP/SRzCi2suY/MyTm7QyJ6T9ytv+yY1/sP7BIGXi6Ne8/d22ZnggG8T+WNiYBNHHyP7b/smNf3PM/1sg/xopH9T/0kcwotrL2PxNbWYvhHfg/MyTm7QyJ+T9T7XJQOPT6P3K2/7JjX/w/kH+MFY/K/T+wSBl4ujX/P+gIU+1yUABAd22ZnggGAUAG0t9PnrsBQJY2JgE0cQJAJptssskmA0C2/7JjX9wDQEVk+RT1kQRA1sg/xopHBUBlLYZ3IP0FQPSRzCi2sgZAhPYS2ktoB0ATW1mL4R0IQKS/nzx30whAMyTm7QyJCUDCiCyfoj4KQFPtclA49ApA4lG5Ac6pC0Bytv+yY18MQAEbRmT5FA1AkH+MFY/KDUAh5NLGJIAOQLBIGXi6NQ9AQK1fKVDrD0DoCFPtclAQQDA79sU9qxBAd22ZnggGEUC/nzx302ARQAbS30+euxFATwSDKGkWEkCWNiYBNHESQN9oydn+yxJAJptssskmE0BuzQ+LlIETQLb/smNf3BNA/jFWPCo3FEBFZPkU9ZEUQI2WnO2/7BRA1sg/xopHFUAe++KeVaIVQGUthncg/RVArV8pUOtXFkD0kcwotrIWQD3EbwGBDRdAhPYS2ktoF0DMKLayFsMXQBNbWYvhHRhAXI38Y6x4GECkv588d9MYQOzxQhVCLhlAMyTm7QyJGUB7VonG1+MZQMKILJ+iPhpAC7vPd22ZGkBT7XJQOPQaQJsfFikDTxtA4lG5Ac6pG0AqhFzamAQcQHK2/7JjXxxAuuiiiy66HEABG0Zk+RQdQElN6TzEbx1AkH+MFY/KHUDasS/uWSUeQCHk0sYkgB5AaRZ2n+/aHkCwSBl4ujUfQPl6vFCFkB9AQK1fKVDrH0DEbwGBDSMgQOgIU+1yUCBADKKkWdh9IEAwO/bFPasgQFTURzKj2CBAd22ZnggGIUCcBusKbjMhQL+fPHfTYCFA4ziO4ziOIUA=\",\"dtype\":\"float64\",\"shape\":[100]},\"y\":{\"__ndarray__\":\"AAAAAAAAAAD4CcKmNdMFQIuc6r3unSRAc0cnhAE3NEChjgupqG8+QC+AWTS5+UNApbzKJeJNSECvTysa3jxMQMRuXfrlz09Avv6zq6+HUUBEs2C9dQFTQHdzq6i8WFRACivT2aqQVUCUq3gZHaxWQFHMKUatrVdAi9QvcLiXWEA5BzBoZGxZQNHW78ikLVpA4oeQjj/dWkCqmFZA0XxbQBA28bnQDVxABFDLm5KRXECT81NsTAldQFfqrG0Xdl1AwQAOM/PYXUDHzSH5xzJeQDOor8dohF5ALsDFYJXOXkCmPeME/BFfQKwbQQo7T19Ani7XUeKGX0AxtECZdLlfQETawa1o519A/KCoQZUIYEAd2j8ZjhtgQBuxTW/LLGBAZ26Rw3U8YECmlBfjsUpgQBU3oT6hV2BA7fkWOWJjYECIR0ZvEG5gQNxVTfjEd2BAA8usoJaAYEAf+CYgmohgQEDhNUrij2BA7JX0OYCWYEA3i9x6g5xgQFd36iz6oWBAb9fjJfGmYEDLfY8PdKtgQFX8DIONr2BAupyzIUezYEByY8GrqbZgQBuj4BS9uWBAzkPWloi8YEC7GYHCEr9gQECuP49hwWBA9bH4aHrDYEBzYtY8YsVgQHyk14Qdx2BAqGZXUrDIYEAqq5dXHspgQK5BcvBqy2BAaQo9KpnMYECGq/PKq81gQCa0vVelzmBAP3TYGojPYEBwmfgoVtBgQCAZLmYR0WBApl1UirvRYEAe2h4lVtJgQCP4vqHi0mBABoU8SmLTYEAmN3xK1tNgQPoJALM/1GBA3eJne5/UYECUJbaE9tRgQCzSYZtF1WBAFbE2eY3VYECvxwjHztVgQNuNQR4K1mBAKRJICkDWYEDhM8gJcdZgQKQP3Y+d1mBA3pUeBcbWYEDgY5jI6tZgQL4WqDAM12BAGeTHiyrXYECqoEchRtdgQHwG9DFf12BAExuv+HXXYEDD9/mqitdgQCtHc3md12BAp4FJkK7XYEA8L6IXvtdgQCcd+DPM12BA4ixxBtnXYECtfCyt5NdgQFcNiUPv12BAH/xl4vjXYEA=\",\"dtype\":\"float64\",\"shape\":[100]}},\"selected\":{\"id\":\"2449\",\"type\":\"Selection\"},\"selection_policy\":{\"id\":\"2448\",\"type\":\"UnionRenderers\"}},\"id\":\"2340\",\"type\":\"ColumnDataSource\"},{\"attributes\":{},\"id\":\"2448\",\"type\":\"UnionRenderers\"},{\"attributes\":{\"axis_label\":\"time (hrs)\",\"formatter\":{\"id\":\"2304\",\"type\":\"BasicTickFormatter\"},\"ticker\":{\"id\":\"2275\",\"type\":\"BasicTicker\"}},\"id\":\"2274\",\"type\":\"LinearAxis\"},{\"attributes\":{},\"id\":\"2304\",\"type\":\"BasicTickFormatter\"},{\"attributes\":{\"source\":{\"id\":\"2310\",\"type\":\"ColumnDataSource\"}},\"id\":\"2314\",\"type\":\"CDSView\"},{\"attributes\":{\"line_alpha\":0.1,\"line_color\":\"#1f77b4\",\"line_width\":2,\"x\":{\"field\":\"x\"},\"y\":{\"field\":\"y\"}},\"id\":\"2342\",\"type\":\"Line\"},{\"attributes\":{\"dimension\":1,\"ticker\":{\"id\":\"2280\",\"type\":\"BasicTicker\"}},\"id\":\"2283\",\"type\":\"Grid\"},{\"attributes\":{},\"id\":\"2321\",\"type\":\"UnionRenderers\"},{\"attributes\":{\"data_source\":{\"id\":\"2340\",\"type\":\"ColumnDataSource\"},\"glyph\":{\"id\":\"2341\",\"type\":\"Line\"},\"hover_glyph\":null,\"muted_glyph\":null,\"nonselection_glyph\":{\"id\":\"2342\",\"type\":\"Line\"},\"selection_glyph\":null,\"view\":{\"id\":\"2344\",\"type\":\"CDSView\"}},\"id\":\"2343\",\"type\":\"GlyphRenderer\"},{\"attributes\":{},\"id\":\"2275\",\"type\":\"BasicTicker\"},{\"attributes\":{\"line_alpha\":0.1,\"line_color\":\"#1f77b4\",\"line_width\":2,\"x\":{\"field\":\"x\"},\"y\":{\"field\":\"y\"}},\"id\":\"2312\",\"type\":\"Line\"},{\"attributes\":{\"data_source\":{\"id\":\"2310\",\"type\":\"ColumnDataSource\"},\"glyph\":{\"id\":\"2311\",\"type\":\"Line\"},\"hover_glyph\":null,\"muted_glyph\":null,\"nonselection_glyph\":{\"id\":\"2312\",\"type\":\"Line\"},\"selection_glyph\":null,\"view\":{\"id\":\"2314\",\"type\":\"CDSView\"}},\"id\":\"2313\",\"type\":\"GlyphRenderer\"},{\"attributes\":{\"ticker\":{\"id\":\"2275\",\"type\":\"BasicTicker\"}},\"id\":\"2278\",\"type\":\"Grid\"},{\"attributes\":{\"source\":{\"id\":\"2297\",\"type\":\"ColumnDataSource\"}},\"id\":\"2301\",\"type\":\"CDSView\"},{\"attributes\":{},\"id\":\"2355\",\"type\":\"UnionRenderers\"},{\"attributes\":{\"source\":{\"id\":\"2340\",\"type\":\"ColumnDataSource\"}},\"id\":\"2344\",\"type\":\"CDSView\"},{\"attributes\":{},\"id\":\"2280\",\"type\":\"BasicTicker\"},{\"attributes\":{},\"id\":\"2356\",\"type\":\"Selection\"},{\"attributes\":{\"axis_label\":\"concentration (nM)\",\"formatter\":{\"id\":\"2306\",\"type\":\"BasicTickFormatter\"},\"ticker\":{\"id\":\"2280\",\"type\":\"BasicTicker\"}},\"id\":\"2279\",\"type\":\"LinearAxis\"},{\"attributes\":{\"label\":{\"value\":\"37C\"},\"renderers\":[{\"id\":\"2313\",\"type\":\"GlyphRenderer\"}]},\"id\":\"2323\",\"type\":\"LegendItem\"},{\"attributes\":{\"label\":{\"value\":\"original\"},\"renderers\":[{\"id\":\"2343\",\"type\":\"GlyphRenderer\"}]},\"id\":\"2357\",\"type\":\"LegendItem\"},{\"attributes\":{},\"id\":\"2322\",\"type\":\"Selection\"},{\"attributes\":{\"label\":{\"value\":\"25C\"},\"renderers\":[{\"id\":\"2300\",\"type\":\"GlyphRenderer\"}]},\"id\":\"2309\",\"type\":\"LegendItem\"},{\"attributes\":{\"callback\":null,\"data\":{\"x\":{\"__ndarray__\":\"AAAAAAAAAAD0kcwotrK2P/SRzCi2ssY/d22ZnggG0T/0kcwotrLWP3K2/7JjX9w/d22ZnggG4T+2/7JjX9zjP/SRzCi2suY/MyTm7QyJ6T9ytv+yY1/sP7BIGXi6Ne8/d22ZnggG8T+WNiYBNHHyP7b/smNf3PM/1sg/xopH9T/0kcwotrL2PxNbWYvhHfg/MyTm7QyJ+T9T7XJQOPT6P3K2/7JjX/w/kH+MFY/K/T+wSBl4ujX/P+gIU+1yUABAd22ZnggGAUAG0t9PnrsBQJY2JgE0cQJAJptssskmA0C2/7JjX9wDQEVk+RT1kQRA1sg/xopHBUBlLYZ3IP0FQPSRzCi2sgZAhPYS2ktoB0ATW1mL4R0IQKS/nzx30whAMyTm7QyJCUDCiCyfoj4KQFPtclA49ApA4lG5Ac6pC0Bytv+yY18MQAEbRmT5FA1AkH+MFY/KDUAh5NLGJIAOQLBIGXi6NQ9AQK1fKVDrD0DoCFPtclAQQDA79sU9qxBAd22ZnggGEUC/nzx302ARQAbS30+euxFATwSDKGkWEkCWNiYBNHESQN9oydn+yxJAJptssskmE0BuzQ+LlIETQLb/smNf3BNA/jFWPCo3FEBFZPkU9ZEUQI2WnO2/7BRA1sg/xopHFUAe++KeVaIVQGUthncg/RVArV8pUOtXFkD0kcwotrIWQD3EbwGBDRdAhPYS2ktoF0DMKLayFsMXQBNbWYvhHRhAXI38Y6x4GECkv588d9MYQOzxQhVCLhlAMyTm7QyJGUB7VonG1+MZQMKILJ+iPhpAC7vPd22ZGkBT7XJQOPQaQJsfFikDTxtA4lG5Ac6pG0AqhFzamAQcQHK2/7JjXxxAuuiiiy66HEABG0Zk+RQdQElN6TzEbx1AkH+MFY/KHUDasS/uWSUeQCHk0sYkgB5AaRZ2n+/aHkCwSBl4ujUfQPl6vFCFkB9AQK1fKVDrH0DEbwGBDSMgQOgIU+1yUCBADKKkWdh9IEAwO/bFPasgQFTURzKj2CBAd22ZnggGIUCcBusKbjMhQL+fPHfTYCFA4ziO4ziOIUA=\",\"dtype\":\"float64\",\"shape\":[100]},\"y\":{\"__ndarray__\":\"AAAAAAAAAAASINiT7kfQP+IO7g1kM/g/tobXhyKzEEDv+19IKFMfQELP36WLYydADQCm2cyoLkCIWS1xBagyQBFdiNqFrzVAdzMAW8lwOECvBzHj3vE6QHcsftiAOD1AADAeOvhJP0BEwbIyjZVAQD74h3UncEFAes3T28s2QkAxv+3LTOtCQGI96TNSj0NAgJDKWF0kREBsXARXzKtEQK6ZBVXdJkVAjQ4AbbGWRUDXK1dTT/xFQL18bL+lWEZAQ59LnI2sRkCy9SsGzPhGQEXIgxkUPkdAMv65lwh9R0AAmXxlPbZHQM71OOY46kdApmPJN3UZSEDsv05RYURIQNl28wdia0hA7a+r+9KOSEDacIpuB69IQD9XZghLzEhAfw5qiOLmSED0b7JmDP9IQHF8B2cBFUlA8pYzHvUoSUAT/zhrFjtJQMLuZ+WPS0lA2w5aQIhaSUAkNwKnImhJQMRsCA5/dElAVyiff7p/SUApgm1e74lJQFHCoqQ1k0lA2hKjG6ObSUAQBx+QS6NJQFUQW/9AqklAGHxCwpOwSUCCWLSzUrZJQEL5JVOLu0lATVSQ5EnASUCexT2NmcRJQPrE5m2EyElAeE51uhPMSUB9lL/PT89JQKJ8FUdA0klAbQUoCOzUSUClADtZWddJQBDn5O2N2UlAZ+J19I7bSUBvPh0iYd1JQGVtAb4I30lAo0tDq4ngSUDQhChy5+FJQNVNX0gl40lAKC+QGEbkSUBJ6jiJTOVJQLye3wI75klAp8i6tRPnSUCqWNye2OdJQL+H2YyL6ElACBoHJC7pSUB5EFniwelJQL3A5SJI6klA8ycQIcLqSUDajW37MOtJQB96Z7aV60lA4UegPvHrSUB6GR5rROxJQLZLRf+P7ElA6H+irNTsSUADs4sUE+1JQHI6m8lL7UlAIFUIUX/tSUAGtd4jru1JQEhGHrDY7UlAHuK7Wf/tSUBqQot7Iu5JQJ1fFGhC7klAOcBVal/uSUAT/nTGee5JQKmzXrqR7klAH05XfqfuSUCZxn9Fu+5JQCW4Tj7N7klA3an8kt3uSUA=\",\"dtype\":\"float64\",\"shape\":[100]}},\"selected\":{\"id\":\"2322\",\"type\":\"Selection\"},\"selection_policy\":{\"id\":\"2321\",\"type\":\"UnionRenderers\"}},\"id\":\"2297\",\"type\":\"ColumnDataSource\"},{\"attributes\":{\"line_alpha\":0.1,\"line_color\":\"#1f77b4\",\"line_width\":2,\"x\":{\"field\":\"x\"},\"y\":{\"field\":\"y\"}},\"id\":\"2299\",\"type\":\"Line\"}],\"root_ids\":[\"2263\"]},\"title\":\"Bokeh Application\",\"version\":\"1.4.0\"}};\n",
       "  var render_items = [{\"docid\":\"54da6cc7-8f41-414e-b339-1f413850da37\",\"roots\":{\"2263\":\"697ad5a9-06e1-4176-80c7-1704dbe821a5\"}}];\n",
       "  root.Bokeh.embed.embed_items_notebook(docs_json, render_items);\n",
       "\n",
       "  }\n",
       "  if (root.Bokeh !== undefined) {\n",
       "    embed_document(root);\n",
       "  } else {\n",
       "    var attempts = 0;\n",
       "    var timer = setInterval(function(root) {\n",
       "      if (root.Bokeh !== undefined) {\n",
       "        clearInterval(timer);\n",
       "        embed_document(root);\n",
       "      } else {\n",
       "        attempts++;\n",
       "        if (attempts > 100) {\n",
       "          clearInterval(timer);\n",
       "          console.log(\"Bokeh: ERROR: Unable to run BokehJS code because BokehJS library is missing\");\n",
       "        }\n",
       "      }\n",
       "    }, 10, root)\n",
       "  }\n",
       "})(window);"
      ],
      "application/vnd.bokehjs_exec.v0+json": ""
     },
     "metadata": {
      "application/vnd.bokehjs_exec.v0+json": {
       "id": "2263"
      }
     },
     "output_type": "display_data"
    }
   ],
   "source": [
    "p1 = bokeh.plotting.figure(width = 450, height = 350, title = 'Effect of Different Temperatures on Bound Protein',\n",
    "                          x_axis_label = 'time (hrs)',\n",
    "                          y_axis_label = 'concentration (nM)')\n",
    "plt_timepoints = timepoints/60/60\n",
    "p1.line(plt_timepoints, results_25[atp_synthase_b_protein_id_25], color = palette[0], line_width = 2, legend_label = '25C')\n",
    "p1.line(plt_timepoints, results_37[atp_synthase_b_protein_id_37], color = palette[1], line_width = 2, legend_label = '37C')\n",
    "p1.line(plt_timepoints, results_100[atp_synthase_b_protein_id_100], color = palette[2], line_width = 2, legend_label = '100C')\n",
    "p1.line(plt_timepoints, results_original[atp_synthase_b_protein_id_orig], color = palette[3], line_width = 2, legend_label = 'original')\n",
    "\n",
    "p1.legend.location = 'bottom_right'\n",
    "\n",
    "p1.legend.click_policy = 'hide'\n",
    "bokeh.io.show(p1)"
   ]
  },
  {
   "cell_type": "code",
   "execution_count": 56,
   "metadata": {},
   "outputs": [
    {
     "data": {
      "text/html": [
       "\n",
       "\n",
       "\n",
       "\n",
       "\n",
       "\n",
       "  <div class=\"bk-root\" id=\"2cf172e9-7ebe-4c21-a538-272bc6733a62\" data-root-id=\"5775\"></div>\n"
      ]
     },
     "metadata": {},
     "output_type": "display_data"
    },
    {
     "data": {
      "application/javascript": [
       "(function(root) {\n",
       "  function embed_document(root) {\n",
       "    \n",
       "  var docs_json = {\"e8c10028-935c-410e-8fe7-b40a85654362\":{\"roots\":{\"references\":[{\"attributes\":{\"below\":[{\"id\":\"5786\",\"type\":\"LinearAxis\"}],\"center\":[{\"id\":\"5790\",\"type\":\"Grid\"},{\"id\":\"5795\",\"type\":\"Grid\"},{\"id\":\"5820\",\"type\":\"Legend\"}],\"left\":[{\"id\":\"5791\",\"type\":\"LinearAxis\"}],\"plot_height\":350,\"plot_width\":450,\"renderers\":[{\"id\":\"5812\",\"type\":\"GlyphRenderer\"},{\"id\":\"5825\",\"type\":\"GlyphRenderer\"},{\"id\":\"5839\",\"type\":\"GlyphRenderer\"},{\"id\":\"5855\",\"type\":\"GlyphRenderer\"}],\"title\":{\"id\":\"5776\",\"type\":\"Title\"},\"toolbar\":{\"id\":\"5802\",\"type\":\"Toolbar\"},\"x_range\":{\"id\":\"5778\",\"type\":\"DataRange1d\"},\"x_scale\":{\"id\":\"5782\",\"type\":\"LinearScale\"},\"y_range\":{\"id\":\"5780\",\"type\":\"DataRange1d\"},\"y_scale\":{\"id\":\"5784\",\"type\":\"LinearScale\"}},\"id\":\"5775\",\"subtype\":\"Figure\",\"type\":\"Plot\"},{\"attributes\":{\"source\":{\"id\":\"5836\",\"type\":\"ColumnDataSource\"}},\"id\":\"5840\",\"type\":\"CDSView\"},{\"attributes\":{},\"id\":\"5797\",\"type\":\"WheelZoomTool\"},{\"attributes\":{},\"id\":\"5867\",\"type\":\"UnionRenderers\"},{\"attributes\":{\"line_color\":\"#1f77b3\",\"line_width\":2,\"x\":{\"field\":\"x\"},\"y\":{\"field\":\"y\"}},\"id\":\"5810\",\"type\":\"Line\"},{\"attributes\":{},\"id\":\"5849\",\"type\":\"UnionRenderers\"},{\"attributes\":{\"click_policy\":\"hide\",\"items\":[{\"id\":\"5821\",\"type\":\"LegendItem\"},{\"id\":\"5835\",\"type\":\"LegendItem\"},{\"id\":\"5851\",\"type\":\"LegendItem\"},{\"id\":\"5869\",\"type\":\"LegendItem\"}],\"location\":\"bottom_right\"},\"id\":\"5820\",\"type\":\"Legend\"},{\"attributes\":{\"active_drag\":\"auto\",\"active_inspect\":\"auto\",\"active_multi\":null,\"active_scroll\":\"auto\",\"active_tap\":\"auto\",\"tools\":[{\"id\":\"5796\",\"type\":\"PanTool\"},{\"id\":\"5797\",\"type\":\"WheelZoomTool\"},{\"id\":\"5798\",\"type\":\"BoxZoomTool\"},{\"id\":\"5799\",\"type\":\"SaveTool\"},{\"id\":\"5800\",\"type\":\"ResetTool\"},{\"id\":\"5801\",\"type\":\"HelpTool\"}]},\"id\":\"5802\",\"type\":\"Toolbar\"},{\"attributes\":{\"line_color\":\"#2ba02b\",\"line_width\":2,\"x\":{\"field\":\"x\"},\"y\":{\"field\":\"y\"}},\"id\":\"5837\",\"type\":\"Line\"},{\"attributes\":{\"callback\":null,\"data\":{\"x\":{\"__ndarray__\":\"AAAAAAAAAABIzNsZEvNzQEjM2xkS84NAbLLJJpvsjUBIzNsZEvOTQFq/UqDW75hAbLLJJpvsnUC/UqDWr3ShQEjM2xkS86NA0UUXXXRxpkBav1Kg1u+oQOM4juM4bqtAbLLJJpvsrUD6lQK1fjWwQL9SoNavdLFAhA8++OCzskBIzNsZEvOzQAyJeTtDMrVA0UUXXXRxtkCWArV+pbC3QFq/UqDW77hAHnzwwQcvukDjOI7jOG67QKj1KwVqrbxAbLLJJpvsvUAwb2dIzCu/QPqVArV+NcBAXXTRRRfVwEC/UqDWr3TBQCExb2dIFMJAhA8++OCzwkDm7QyJeVPDQEjM2xkS88NAqqqqqqqSxEAMiXk7QzLFQG9nSMzb0cVA0UUXXXRxxkAzJObtDBHHQJYCtX6lsMdA+OCDDz5QyEBav1Kg1u/IQLydITFvj8lAHnzwwQcvykCBWr9SoM7KQOM4juM4bstARRdddNENzECo9SsFaq3MQArU+pUCTc1AbLLJJpvszUDOkJi3M4zOQDBvZ0jMK89Ak0022WTLz0D6lQK1fjXQQCwFav1KhdBAXXTRRRfV0ECO4ziO4yTRQL9SoNavdNFA8MEHH3zE0UAhMW9nSBTSQFKg1q8UZNJAhA8++OCz0kC1fqVArQPTQObtDIl5U9NAF1100UWj00BIzNsZEvPTQHk7Q2LeQtRAqqqqqqqS1EDbGRLzduLUQAyJeTtDMtVAPvjggw+C1UBvZ0jM29HVQKDWrxSoIdZA0UUXXXRx1kACtX6lQMHWQDMk5u0MEddAZJNNNtlg10CWArV+pbDXQMdxHMdxANhA+OCDDz5Q2EApUOtXCqDYQFq/UqDW79hAiy666KI/2UC8nSExb4/ZQO0MiXk739lAHnzwwQcv2kBQ61cK1H7aQIFav1KgztpAsskmm2we20DjOI7jOG7bQBSo9SsFvttARRdddNEN3EB2hsS8nV3cQKj1KwVqrdxA2WSTTTb93EAK1PqVAk3dQDtDYt7OnN1AbLLJJpvs3UCdITFvZzzeQM6QmLczjN5AAAAAAADc3kA=\",\"dtype\":\"float64\",\"shape\":[100]},\"y\":{\"__ndarray__\":\"AAAAAAAAAAA+/+6R7kfQP/n+vwtkM/g/ypLbgyKzEEB0939HKFMfQEUN9qCLYydANWrf0MyoLkCNrYVqBagyQHi8vdGFrzVAskR5UMlwOEC0MPfW3vE6QLp9hsqAOD1AxEeaKvhJP0DWCzsqjZVAQDWEaGwncEFACAQg0ss2QkBegLHBTOtCQMD0NylSj0NAQ228TV0kRECkeZRLzKtEQL4sPkndJkVAoHXtYLGWRUBVFgpHT/xFQCknyLKlWEZAHYFqj42sRkD51wn5y/hGQN0SLQwUPkdAj08yigh9R0ActMpXPbZHQLY8Xdg46kdAaRbKKXUZSEACuS5DYURIQLA2s/lha0hArVZV7dKOSECZVxtgB69IQNdX1/lKzEhAeCTEeeLmSEAfUfhXDP9IQEroOlgBFUlA1WBXD/UoSUDoFEtcFjtJQP4AYdaPS0lAwxA/MYhaSUByWNSXImhJQLY28v5+dElAHERbcLp/SUBo7gVP74lJQBO6GJU1k0lAyE83DKObSUD+RG+AS6NJQNC82e9AqklA2KrcspOwSUBEb3CkUrZJQADezkOLu0lAzY5F1UnASUD55QR+mcRJQMDvsl6EyElAI4tMqxPMSUD78ZjAT89JQMlG8jdA0klA4IEB+evUSUAFsgtKWddJQLK/r96N2UlAnZg65Y7bSUCmOt4SYd1JQDxVvK4I30lA7pv6m4ngSUB6ltxi5+FJQJfyETkl40lAVhhFCUbkSUBEsO15TOVJQFi4j/M65klAiulmphPnSUCpOoaP2OdJQACEgH2L6ElAHPqsFC7pSUDffQDTwelJQMEqjxNI6klAXEC4EcLqSUCZIxLsMOtJQPmxCKeV60lANP8+L/HrSUC7N7tbROxJQFsJ4e+P7ElAHAM9ndTsSUDzNCUFE+1JQDwFMrpL7UlANRKbQX/tSUA33m4Uru1JQPmeraDY7UlAaj5LSv/tSUDpsRpsIu5JQHCoo1hC7klAP+zkWl/uSUAjQQS3ee5JQChA7qqR7klAVNLnbqfuSUBkfxI2u+5JQKqW5C7N7klAjUmWg93uSUA=\",\"dtype\":\"float64\",\"shape\":[100]}},\"selected\":{\"id\":\"5832\",\"type\":\"Selection\"},\"selection_policy\":{\"id\":\"5833\",\"type\":\"UnionRenderers\"}},\"id\":\"5809\",\"type\":\"ColumnDataSource\"},{\"attributes\":{\"line_alpha\":0.1,\"line_color\":\"#1f77b4\",\"line_width\":2,\"x\":{\"field\":\"x\"},\"y\":{\"field\":\"y\"}},\"id\":\"5824\",\"type\":\"Line\"},{\"attributes\":{},\"id\":\"5866\",\"type\":\"Selection\"},{\"attributes\":{\"line_alpha\":0.1,\"line_color\":\"#1f77b4\",\"line_width\":2,\"x\":{\"field\":\"x\"},\"y\":{\"field\":\"y\"}},\"id\":\"5811\",\"type\":\"Line\"},{\"attributes\":{},\"id\":\"5796\",\"type\":\"PanTool\"},{\"attributes\":{\"text\":\"Effect of Different Temperatures on Bound Proton Pump\"},\"id\":\"5776\",\"type\":\"Title\"},{\"attributes\":{\"callback\":null,\"data\":{\"x\":{\"__ndarray__\":\"AAAAAAAAAABIzNsZEvNzQEjM2xkS84NAbLLJJpvsjUBIzNsZEvOTQFq/UqDW75hAbLLJJpvsnUC/UqDWr3ShQEjM2xkS86NA0UUXXXRxpkBav1Kg1u+oQOM4juM4bqtAbLLJJpvsrUD6lQK1fjWwQL9SoNavdLFAhA8++OCzskBIzNsZEvOzQAyJeTtDMrVA0UUXXXRxtkCWArV+pbC3QFq/UqDW77hAHnzwwQcvukDjOI7jOG67QKj1KwVqrbxAbLLJJpvsvUAwb2dIzCu/QPqVArV+NcBAXXTRRRfVwEC/UqDWr3TBQCExb2dIFMJAhA8++OCzwkDm7QyJeVPDQEjM2xkS88NAqqqqqqqSxEAMiXk7QzLFQG9nSMzb0cVA0UUXXXRxxkAzJObtDBHHQJYCtX6lsMdA+OCDDz5QyEBav1Kg1u/IQLydITFvj8lAHnzwwQcvykCBWr9SoM7KQOM4juM4bstARRdddNENzECo9SsFaq3MQArU+pUCTc1AbLLJJpvszUDOkJi3M4zOQDBvZ0jMK89Ak0022WTLz0D6lQK1fjXQQCwFav1KhdBAXXTRRRfV0ECO4ziO4yTRQL9SoNavdNFA8MEHH3zE0UAhMW9nSBTSQFKg1q8UZNJAhA8++OCz0kC1fqVArQPTQObtDIl5U9NAF1100UWj00BIzNsZEvPTQHk7Q2LeQtRAqqqqqqqS1EDbGRLzduLUQAyJeTtDMtVAPvjggw+C1UBvZ0jM29HVQKDWrxSoIdZA0UUXXXRx1kACtX6lQMHWQDMk5u0MEddAZJNNNtlg10CWArV+pbDXQMdxHMdxANhA+OCDDz5Q2EApUOtXCqDYQFq/UqDW79hAiy666KI/2UC8nSExb4/ZQO0MiXk739lAHnzwwQcv2kBQ61cK1H7aQIFav1KgztpAsskmm2we20DjOI7jOG7bQBSo9SsFvttARRdddNEN3EB2hsS8nV3cQKj1KwVqrdxA2WSTTTb93EAK1PqVAk3dQDtDYt7OnN1AbLLJJpvs3UCdITFvZzzeQM6QmLczjN5AAAAAAADc3kA=\",\"dtype\":\"float64\",\"shape\":[100]},\"y\":{\"__ndarray__\":\"AAAAAAAAAACN0Y+VB83YP3cEl3riNARA6QFEMWGkG0C5qqURHvwoQPYLcQPhFTJA5k2Iwdo7N0DNoJI8mOo7QCQbjncDFkBAJBpAoQEFQkAA14CVzcZDQPa4aQaHX0VAUFP+3u3SRkAAgfCLaiRIQMoLkdoVV0lAsBYRNsBtSkANNWNB+GpLQOm6fNgQUUxA/WUnhSYiTUBc44F1JOBNQIOUXP3IjE5AjBF1rqkpT0CfqioSN7hPQBgTJgXgHFBA4BMecrpXUEB3X+ERNY1QQEcNT4bNvVBA1U5n+PXpUEBDqXIkFhJRQH12uU2MNlFAqDPyG65XUUCeKHVkyXVRQMoty+AkkVFAcEJx1gCqUUBWkNGql8BRQMET6m4e1VFAOe49W8XnUUC0NA5BuPhRQP/lRPEeCFJAXJgFmh0WUkApNJAb1SJSQFjiuFVjLlJAt/fubeM4UkDEAPEObkJSQEHF4aIZS1JAwlJFiPpSUkAal/hAI1pSQHLjeZ6kYFJAFEUJ6Y1mUkC1T5sD7WtSQPC5nozOcFJA0f16+z11UkC964W7RXlSQJb+hUTvfFJAbWjvMEOAUkCinRVSSYNSQCaKi8IIhlJATl7V9oeIUkCEYo7MzIpSQIGNNZjcjFJAEHKtMbyOUkDqQ6P/b5BSQEnS3gH8kVJAvkau2mOTUkDLamnXqpRSQOAXOfjTlVJADjke9+GWUkBIZF5O15dSQLEZVD62mFJAu0W50oCZUkAW7HPnOJpSQNem8yzgmlJAmj4tLHibUkCNdTJKApxSQJ9Uect/nFJAkD7X1vGcUkAMojV4WZ1SQO15B6O3nVJALSGFNA2eUkBpSbL1Wp5SQN7nN52hnlJAsuUQ0eGeUkBg0g8oHJ9SQIgrQStRn1JAWc0uV4GfUkCWiAMdrZ9SQHALlOPUn1JAycdQCPmfUkDXCSLgGaBSQM5yL7g3oFJAwdOU1lKgUkDRXwZ7a6BSQCDsZ9+BoFJAerlUOJagUkAkepu1qKBSQIT2qoK5oFJAtAv7xsigUkCKHmim1qBSQBhRiEHjoFJAPp75te6gUkA=\",\"dtype\":\"float64\",\"shape\":[100]}},\"selected\":{\"id\":\"5848\",\"type\":\"Selection\"},\"selection_policy\":{\"id\":\"5849\",\"type\":\"UnionRenderers\"}},\"id\":\"5822\",\"type\":\"ColumnDataSource\"},{\"attributes\":{},\"id\":\"5799\",\"type\":\"SaveTool\"},{\"attributes\":{\"bottom_units\":\"screen\",\"fill_alpha\":{\"value\":0.5},\"fill_color\":{\"value\":\"lightgrey\"},\"left_units\":\"screen\",\"level\":\"overlay\",\"line_alpha\":{\"value\":1.0},\"line_color\":{\"value\":\"black\"},\"line_dash\":[4,4],\"line_width\":{\"value\":2},\"render_mode\":\"css\",\"right_units\":\"screen\",\"top_units\":\"screen\"},\"id\":\"5819\",\"type\":\"BoxAnnotation\"},{\"attributes\":{\"data_source\":{\"id\":\"5809\",\"type\":\"ColumnDataSource\"},\"glyph\":{\"id\":\"5810\",\"type\":\"Line\"},\"hover_glyph\":null,\"muted_glyph\":null,\"nonselection_glyph\":{\"id\":\"5811\",\"type\":\"Line\"},\"selection_glyph\":null,\"view\":{\"id\":\"5813\",\"type\":\"CDSView\"}},\"id\":\"5812\",\"type\":\"GlyphRenderer\"},{\"attributes\":{\"callback\":null},\"id\":\"5778\",\"type\":\"DataRange1d\"},{\"attributes\":{\"data_source\":{\"id\":\"5822\",\"type\":\"ColumnDataSource\"},\"glyph\":{\"id\":\"5823\",\"type\":\"Line\"},\"hover_glyph\":null,\"muted_glyph\":null,\"nonselection_glyph\":{\"id\":\"5824\",\"type\":\"Line\"},\"selection_glyph\":null,\"view\":{\"id\":\"5826\",\"type\":\"CDSView\"}},\"id\":\"5825\",\"type\":\"GlyphRenderer\"},{\"attributes\":{\"label\":{\"value\":\"100C\"},\"renderers\":[{\"id\":\"5839\",\"type\":\"GlyphRenderer\"}]},\"id\":\"5851\",\"type\":\"LegendItem\"},{\"attributes\":{\"overlay\":{\"id\":\"5819\",\"type\":\"BoxAnnotation\"}},\"id\":\"5798\",\"type\":\"BoxZoomTool\"},{\"attributes\":{},\"id\":\"5832\",\"type\":\"Selection\"},{\"attributes\":{},\"id\":\"5784\",\"type\":\"LinearScale\"},{\"attributes\":{},\"id\":\"5800\",\"type\":\"ResetTool\"},{\"attributes\":{\"callback\":null},\"id\":\"5780\",\"type\":\"DataRange1d\"},{\"attributes\":{\"label\":{\"value\":\"25C\"},\"renderers\":[{\"id\":\"5812\",\"type\":\"GlyphRenderer\"}]},\"id\":\"5821\",\"type\":\"LegendItem\"},{\"attributes\":{\"source\":{\"id\":\"5822\",\"type\":\"ColumnDataSource\"}},\"id\":\"5826\",\"type\":\"CDSView\"},{\"attributes\":{},\"id\":\"5782\",\"type\":\"LinearScale\"},{\"attributes\":{},\"id\":\"5801\",\"type\":\"HelpTool\"},{\"attributes\":{},\"id\":\"5833\",\"type\":\"UnionRenderers\"},{\"attributes\":{\"axis_label\":\"time (sec)\",\"formatter\":{\"id\":\"5817\",\"type\":\"BasicTickFormatter\"},\"ticker\":{\"id\":\"5787\",\"type\":\"BasicTicker\"}},\"id\":\"5786\",\"type\":\"LinearAxis\"},{\"attributes\":{\"data_source\":{\"id\":\"5852\",\"type\":\"ColumnDataSource\"},\"glyph\":{\"id\":\"5853\",\"type\":\"Line\"},\"hover_glyph\":null,\"muted_glyph\":null,\"nonselection_glyph\":{\"id\":\"5854\",\"type\":\"Line\"},\"selection_glyph\":null,\"view\":{\"id\":\"5856\",\"type\":\"CDSView\"}},\"id\":\"5855\",\"type\":\"GlyphRenderer\"},{\"attributes\":{\"label\":{\"value\":\"37C\"},\"renderers\":[{\"id\":\"5825\",\"type\":\"GlyphRenderer\"}]},\"id\":\"5835\",\"type\":\"LegendItem\"},{\"attributes\":{\"line_alpha\":0.1,\"line_color\":\"#1f77b4\",\"line_width\":2,\"x\":{\"field\":\"x\"},\"y\":{\"field\":\"y\"}},\"id\":\"5854\",\"type\":\"Line\"},{\"attributes\":{\"dimension\":1,\"ticker\":{\"id\":\"5792\",\"type\":\"BasicTicker\"}},\"id\":\"5795\",\"type\":\"Grid\"},{\"attributes\":{\"callback\":null,\"data\":{\"x\":{\"__ndarray__\":\"AAAAAAAAAABIzNsZEvNzQEjM2xkS84NAbLLJJpvsjUBIzNsZEvOTQFq/UqDW75hAbLLJJpvsnUC/UqDWr3ShQEjM2xkS86NA0UUXXXRxpkBav1Kg1u+oQOM4juM4bqtAbLLJJpvsrUD6lQK1fjWwQL9SoNavdLFAhA8++OCzskBIzNsZEvOzQAyJeTtDMrVA0UUXXXRxtkCWArV+pbC3QFq/UqDW77hAHnzwwQcvukDjOI7jOG67QKj1KwVqrbxAbLLJJpvsvUAwb2dIzCu/QPqVArV+NcBAXXTRRRfVwEC/UqDWr3TBQCExb2dIFMJAhA8++OCzwkDm7QyJeVPDQEjM2xkS88NAqqqqqqqSxEAMiXk7QzLFQG9nSMzb0cVA0UUXXXRxxkAzJObtDBHHQJYCtX6lsMdA+OCDDz5QyEBav1Kg1u/IQLydITFvj8lAHnzwwQcvykCBWr9SoM7KQOM4juM4bstARRdddNENzECo9SsFaq3MQArU+pUCTc1AbLLJJpvszUDOkJi3M4zOQDBvZ0jMK89Ak0022WTLz0D6lQK1fjXQQCwFav1KhdBAXXTRRRfV0ECO4ziO4yTRQL9SoNavdNFA8MEHH3zE0UAhMW9nSBTSQFKg1q8UZNJAhA8++OCz0kC1fqVArQPTQObtDIl5U9NAF1100UWj00BIzNsZEvPTQHk7Q2LeQtRAqqqqqqqS1EDbGRLzduLUQAyJeTtDMtVAPvjggw+C1UBvZ0jM29HVQKDWrxSoIdZA0UUXXXRx1kACtX6lQMHWQDMk5u0MEddAZJNNNtlg10CWArV+pbDXQMdxHMdxANhA+OCDDz5Q2EApUOtXCqDYQFq/UqDW79hAiy666KI/2UC8nSExb4/ZQO0MiXk739lAHnzwwQcv2kBQ61cK1H7aQIFav1KgztpAsskmm2we20DjOI7jOG7bQBSo9SsFvttARRdddNEN3EB2hsS8nV3cQKj1KwVqrdxA2WSTTTb93EAK1PqVAk3dQDtDYt7OnN1AbLLJJpvs3UCdITFvZzzeQM6QmLczjN5AAAAAAADc3kA=\",\"dtype\":\"float64\",\"shape\":[100]},\"y\":{\"__ndarray__\":\"AAAAAAAAAADPucczJIemPzdKQsv6V8s/sahnaI1F4D+zvs40M1btP1CsX07/tvY/xrTG4QXq/z/IDA9IYPMEQHPj1AaYLApAJ9SWGtN9D0C+vx+X4GUSQJpZoCPuABVABDRXpqOIF0AEDC1N1PcZQNftR0MUSxxAHBWEAU+AHkCi2f60OUsgQGeAqy+ZRiFAv943GWYyIkDO8xfX9A4jQJualRS/3CNAIqo9SFicJEBW3MDmZE4lQDRbbaeT8yVAufrQZpiMJkC82hpFKBonQICo37v2nCdAx8ZoebMVKEAhrV7OCIUoQBOwxZSa6yhAyDeocAVKKUCg+19Z3qApQOZ/iFqy8ClA/jZofgY6KkA7gtTdV30qQJfDqb4buypA++QP0L/zKkC+yuJsqicrQHfsrOk6VytA/C+m58mCK0CqsJOwqaorQIRx9oUmzytASaQEBIfwK0CpSgh0DA8sQHvzqCTzKixABRBBu3JELEDptT+FvlssQOVwecQFcSxAciXj93OELEA6agohMZYsQDODfAVipixAdKsjbCi1LECNTgZXo8IsQAndbjnvzixAqX6iKibaLEDJ7OoUYOQsQHcng+Gy7SxA4hNloTL2LECZQjiz8f0sQL0xgOYABS1A8wwJnG8LLUB5/eXjSxEtQEoZPJmiFi1AKjLge38bLUDWOAhI7R8tQO4z98v1Iy1A6EUF/KEnLUC6Dg4F+iotQM5EYF0FLi1A/d9J1MowLUDXl1ygUDMtQI/piWycNS1A1hwrZLM3LUDkbP89mjktQBdERUZVOy1AZWn4Z+g8LUBp3UA1Vz4tQII6QO+kPy1A2cgmjdRALUCI8qTC6EEtQMjZ1AXkQi1AvsanlMhDLUCq1Nt5mEQtQIbIgJFVRS1APaIWjQFGLUB340r3nUYtQJPsdjcsRy1AJlzAlK1HLUAK2vE4I0gtQKQNFjOOSC1Ay2Daee9ILUBcb73tR0ktQHETCluYSS1AvaWle+FJLUB7Tbf4I0otQHy1HmxgSi1AWtfgYZdKLUD9a19ZyUotQLt8e8b2Si1AZDypEiBLLUA=\",\"dtype\":\"float64\",\"shape\":[100]}},\"selected\":{\"id\":\"5866\",\"type\":\"Selection\"},\"selection_policy\":{\"id\":\"5867\",\"type\":\"UnionRenderers\"}},\"id\":\"5836\",\"type\":\"ColumnDataSource\"},{\"attributes\":{},\"id\":\"5787\",\"type\":\"BasicTicker\"},{\"attributes\":{\"source\":{\"id\":\"5852\",\"type\":\"ColumnDataSource\"}},\"id\":\"5856\",\"type\":\"CDSView\"},{\"attributes\":{\"callback\":null,\"data\":{\"x\":{\"__ndarray__\":\"AAAAAAAAAABIzNsZEvNzQEjM2xkS84NAbLLJJpvsjUBIzNsZEvOTQFq/UqDW75hAbLLJJpvsnUC/UqDWr3ShQEjM2xkS86NA0UUXXXRxpkBav1Kg1u+oQOM4juM4bqtAbLLJJpvsrUD6lQK1fjWwQL9SoNavdLFAhA8++OCzskBIzNsZEvOzQAyJeTtDMrVA0UUXXXRxtkCWArV+pbC3QFq/UqDW77hAHnzwwQcvukDjOI7jOG67QKj1KwVqrbxAbLLJJpvsvUAwb2dIzCu/QPqVArV+NcBAXXTRRRfVwEC/UqDWr3TBQCExb2dIFMJAhA8++OCzwkDm7QyJeVPDQEjM2xkS88NAqqqqqqqSxEAMiXk7QzLFQG9nSMzb0cVA0UUXXXRxxkAzJObtDBHHQJYCtX6lsMdA+OCDDz5QyEBav1Kg1u/IQLydITFvj8lAHnzwwQcvykCBWr9SoM7KQOM4juM4bstARRdddNENzECo9SsFaq3MQArU+pUCTc1AbLLJJpvszUDOkJi3M4zOQDBvZ0jMK89Ak0022WTLz0D6lQK1fjXQQCwFav1KhdBAXXTRRRfV0ECO4ziO4yTRQL9SoNavdNFA8MEHH3zE0UAhMW9nSBTSQFKg1q8UZNJAhA8++OCz0kC1fqVArQPTQObtDIl5U9NAF1100UWj00BIzNsZEvPTQHk7Q2LeQtRAqqqqqqqS1EDbGRLzduLUQAyJeTtDMtVAPvjggw+C1UBvZ0jM29HVQKDWrxSoIdZA0UUXXXRx1kACtX6lQMHWQDMk5u0MEddAZJNNNtlg10CWArV+pbDXQMdxHMdxANhA+OCDDz5Q2EApUOtXCqDYQFq/UqDW79hAiy666KI/2UC8nSExb4/ZQO0MiXk739lAHnzwwQcv2kBQ61cK1H7aQIFav1KgztpAsskmm2we20DjOI7jOG7bQBSo9SsFvttARRdddNEN3EB2hsS8nV3cQKj1KwVqrdxA2WSTTTb93EAK1PqVAk3dQDtDYt7OnN1AbLLJJpvs3UCdITFvZzzeQM6QmLczjN5AAAAAAADc3kA=\",\"dtype\":\"float64\",\"shape\":[100]},\"y\":{\"__ndarray__\":\"AAAAAAAAAADafpulNdMFQHdYN8HunSRAy1pphgE3NEDnNWGnqG8+QJ0zEzK5+UNAoArQIeJNSEDrC9IU3jxMQFct4vPlz09A2Nyxp6+HUUBCk9O4dQFTQPMDoaO8WFRAg2dU1KqQVUBqb5kTHaxWQOlo6D+trVdAZ4PRabiXWEAaBnNhZGxZQMEaCcKkLVpAk3x/hz/dWkCzqSs50XxbQJA6m7LQDVxAV1SDlJKRXEATboxkTAldQKuLo2UXdl1A5P6VKvPYXUDHpEXwxzJeQIH4bb5ohF5AHg2fV5XOXkD3/sn7+xFfQG02PgE7T19ATA3sSOKGX0B/yluQdLlfQFI566Ro519ATMNaPZUIYEBUZd0UjhtgQF9M+GrLLGBA3SArv3U8YEA5IJLesUpgQKIxADqhV2BAXK5oNGJjYECulHdqEG5gQIfkW/PEd2BAkzC4m5aAYEAVejgbmohgQPnkNkXij2BAZCf5NICWYEAoluF1g5xgQJ557if6oWBAbtnrIPGmYEBn65wKdKtgQA+hHH6Nr2BAYfzFHEezYEC/VdamqbZgQHs29w+9uWBAkK7ukYi8YEBuupq9Er9gQEuxWophwWBAUIoUZHrDYEBjwvI3YsVgQFET9X8dx2BAWhR1TbDIYEB0pLVSHspgQPjIkOtqy2BAXZRbJZnMYEAmcRHGq81gQDci2lKlzmBAmrLzFYjPYEDuXRMkVtBgQMd+SGER0WBAROlvhbvRYEC6rzogVtJgQEpf25zi0mBAL3JYRWLTYEA0YZdF1tNgQCfyGq4/1GBAhTWCdp/UYEDGitB/9tRgQB7VfJZF1WBAvj9SdI3VYECoDiXCztVgQI/6XRkK1mBAEMVjBUDWYEAEQ+MEcdZgQJAN+Iqd1mBASvU5AMbWYEByHbTD6tZgQOrswysM12BAzerjhirXYEADf2McRtdgQAlWDy1f12BAir7J83XXYEBrfRSmitdgQO0sjnSd12BAnclki67XYEDOpL0SvtdgQLWfEy/M12BAAneMAdnXYEC7Nkeo5NdgQAInoz7v12BABK5/3fjXYEA=\",\"dtype\":\"float64\",\"shape\":[100]}},\"selected\":{\"id\":\"6107\",\"type\":\"Selection\"},\"selection_policy\":{\"id\":\"6108\",\"type\":\"UnionRenderers\"}},\"id\":\"5852\",\"type\":\"ColumnDataSource\"},{\"attributes\":{},\"id\":\"6108\",\"type\":\"UnionRenderers\"},{\"attributes\":{\"line_color\":\"#ff7e0e\",\"line_width\":2,\"x\":{\"field\":\"x\"},\"y\":{\"field\":\"y\"}},\"id\":\"5823\",\"type\":\"Line\"},{\"attributes\":{\"line_color\":\"#9367bc\",\"line_width\":2,\"x\":{\"field\":\"x\"},\"y\":{\"field\":\"y\"}},\"id\":\"5853\",\"type\":\"Line\"},{\"attributes\":{\"ticker\":{\"id\":\"5787\",\"type\":\"BasicTicker\"}},\"id\":\"5790\",\"type\":\"Grid\"},{\"attributes\":{},\"id\":\"5848\",\"type\":\"Selection\"},{\"attributes\":{},\"id\":\"5792\",\"type\":\"BasicTicker\"},{\"attributes\":{\"source\":{\"id\":\"5809\",\"type\":\"ColumnDataSource\"}},\"id\":\"5813\",\"type\":\"CDSView\"},{\"attributes\":{\"line_alpha\":0.1,\"line_color\":\"#1f77b4\",\"line_width\":2,\"x\":{\"field\":\"x\"},\"y\":{\"field\":\"y\"}},\"id\":\"5838\",\"type\":\"Line\"},{\"attributes\":{\"axis_label\":\"concentration (nM)\",\"formatter\":{\"id\":\"5815\",\"type\":\"BasicTickFormatter\"},\"ticker\":{\"id\":\"5792\",\"type\":\"BasicTicker\"}},\"id\":\"5791\",\"type\":\"LinearAxis\"},{\"attributes\":{\"data_source\":{\"id\":\"5836\",\"type\":\"ColumnDataSource\"},\"glyph\":{\"id\":\"5837\",\"type\":\"Line\"},\"hover_glyph\":null,\"muted_glyph\":null,\"nonselection_glyph\":{\"id\":\"5838\",\"type\":\"Line\"},\"selection_glyph\":null,\"view\":{\"id\":\"5840\",\"type\":\"CDSView\"}},\"id\":\"5839\",\"type\":\"GlyphRenderer\"},{\"attributes\":{},\"id\":\"6107\",\"type\":\"Selection\"},{\"attributes\":{},\"id\":\"5815\",\"type\":\"BasicTickFormatter\"},{\"attributes\":{\"label\":{\"value\":\"original\"},\"renderers\":[{\"id\":\"5855\",\"type\":\"GlyphRenderer\"}]},\"id\":\"5869\",\"type\":\"LegendItem\"},{\"attributes\":{},\"id\":\"5817\",\"type\":\"BasicTickFormatter\"}],\"root_ids\":[\"5775\"]},\"title\":\"Bokeh Application\",\"version\":\"1.4.0\"}};\n",
       "  var render_items = [{\"docid\":\"e8c10028-935c-410e-8fe7-b40a85654362\",\"roots\":{\"5775\":\"2cf172e9-7ebe-4c21-a538-272bc6733a62\"}}];\n",
       "  root.Bokeh.embed.embed_items_notebook(docs_json, render_items);\n",
       "\n",
       "  }\n",
       "  if (root.Bokeh !== undefined) {\n",
       "    embed_document(root);\n",
       "  } else {\n",
       "    var attempts = 0;\n",
       "    var timer = setInterval(function(root) {\n",
       "      if (root.Bokeh !== undefined) {\n",
       "        clearInterval(timer);\n",
       "        embed_document(root);\n",
       "      } else {\n",
       "        attempts++;\n",
       "        if (attempts > 100) {\n",
       "          clearInterval(timer);\n",
       "          console.log(\"Bokeh: ERROR: Unable to run BokehJS code because BokehJS library is missing\");\n",
       "        }\n",
       "      }\n",
       "    }, 10, root)\n",
       "  }\n",
       "})(window);"
      ],
      "application/vnd.bokehjs_exec.v0+json": ""
     },
     "metadata": {
      "application/vnd.bokehjs_exec.v0+json": {
       "id": "5775"
      }
     },
     "output_type": "display_data"
    }
   ],
   "source": [
    "p1 = bokeh.plotting.figure(width = 450, height = 350, title = 'Effect of Different Temperatures on Bound Proton Pump',\n",
    "                          x_axis_label = 'time (hr)',\n",
    "                          y_axis_label = 'concentration (nM)')\n",
    "plt_timepoints = timepoints/60/60\n",
    "p1.line(plt_timepoints, results_25[proton_pump_b_protein_id_25], color = palette[0], line_width = 2, legend_label = '25C')\n",
    "p1.line(plt_timepoints, results_37[proton_pump_b_protein_id_37], color = palette[1], line_width = 2, legend_label = '37C')\n",
    "p1.line(timepoints, results_100[proton_pump_b_protein_id_100], color = palette[2], line_width = 2, legend_label = '100C')\n",
    "p1.line(timepoints, results_original[proton_pump_b_protein_id_orig], color = palette[3], line_width = 2, legend_label = 'original')\n",
    "p1.legend.location = 'bottom_right'\n",
    "\n",
    "p1.legend.click_policy = 'hide'\n",
    "bokeh.io.show(p1)"
   ]
  },
  {
   "cell_type": "code",
   "execution_count": null,
   "metadata": {},
   "outputs": [],
   "source": []
  }
 ],
 "metadata": {
  "kernelspec": {
   "display_name": "Python 3",
   "language": "python",
   "name": "python3"
  },
  "language_info": {
   "codemirror_mode": {
    "name": "ipython",
    "version": 3
   },
   "file_extension": ".py",
   "mimetype": "text/x-python",
   "name": "python",
   "nbconvert_exporter": "python",
   "pygments_lexer": "ipython3",
   "version": "3.7.7"
  }
 },
 "nbformat": 4,
 "nbformat_minor": 4
}
