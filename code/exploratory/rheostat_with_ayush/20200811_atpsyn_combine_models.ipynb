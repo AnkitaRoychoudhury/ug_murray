{
 "cells": [
  {
   "cell_type": "markdown",
   "metadata": {},
   "source": [
    "# Combine All ATP Synthase and Proton Pump Models\n",
    "---"
   ]
  },
  {
   "cell_type": "code",
   "execution_count": 1,
   "metadata": {},
   "outputs": [
    {
     "data": {
      "text/html": [
       "\n",
       "    <div class=\"bk-root\">\n",
       "        <a href=\"https://bokeh.org\" target=\"_blank\" class=\"bk-logo bk-logo-small bk-logo-notebook\"></a>\n",
       "        <span id=\"1001\">Loading BokehJS ...</span>\n",
       "    </div>"
      ]
     },
     "metadata": {},
     "output_type": "display_data"
    },
    {
     "data": {
      "application/javascript": [
       "\n",
       "(function(root) {\n",
       "  function now() {\n",
       "    return new Date();\n",
       "  }\n",
       "\n",
       "  var force = true;\n",
       "\n",
       "  if (typeof root._bokeh_onload_callbacks === \"undefined\" || force === true) {\n",
       "    root._bokeh_onload_callbacks = [];\n",
       "    root._bokeh_is_loading = undefined;\n",
       "  }\n",
       "\n",
       "  var JS_MIME_TYPE = 'application/javascript';\n",
       "  var HTML_MIME_TYPE = 'text/html';\n",
       "  var EXEC_MIME_TYPE = 'application/vnd.bokehjs_exec.v0+json';\n",
       "  var CLASS_NAME = 'output_bokeh rendered_html';\n",
       "\n",
       "  /**\n",
       "   * Render data to the DOM node\n",
       "   */\n",
       "  function render(props, node) {\n",
       "    var script = document.createElement(\"script\");\n",
       "    node.appendChild(script);\n",
       "  }\n",
       "\n",
       "  /**\n",
       "   * Handle when an output is cleared or removed\n",
       "   */\n",
       "  function handleClearOutput(event, handle) {\n",
       "    var cell = handle.cell;\n",
       "\n",
       "    var id = cell.output_area._bokeh_element_id;\n",
       "    var server_id = cell.output_area._bokeh_server_id;\n",
       "    // Clean up Bokeh references\n",
       "    if (id != null && id in Bokeh.index) {\n",
       "      Bokeh.index[id].model.document.clear();\n",
       "      delete Bokeh.index[id];\n",
       "    }\n",
       "\n",
       "    if (server_id !== undefined) {\n",
       "      // Clean up Bokeh references\n",
       "      var cmd = \"from bokeh.io.state import curstate; print(curstate().uuid_to_server['\" + server_id + \"'].get_sessions()[0].document.roots[0]._id)\";\n",
       "      cell.notebook.kernel.execute(cmd, {\n",
       "        iopub: {\n",
       "          output: function(msg) {\n",
       "            var id = msg.content.text.trim();\n",
       "            if (id in Bokeh.index) {\n",
       "              Bokeh.index[id].model.document.clear();\n",
       "              delete Bokeh.index[id];\n",
       "            }\n",
       "          }\n",
       "        }\n",
       "      });\n",
       "      // Destroy server and session\n",
       "      var cmd = \"import bokeh.io.notebook as ion; ion.destroy_server('\" + server_id + \"')\";\n",
       "      cell.notebook.kernel.execute(cmd);\n",
       "    }\n",
       "  }\n",
       "\n",
       "  /**\n",
       "   * Handle when a new output is added\n",
       "   */\n",
       "  function handleAddOutput(event, handle) {\n",
       "    var output_area = handle.output_area;\n",
       "    var output = handle.output;\n",
       "\n",
       "    // limit handleAddOutput to display_data with EXEC_MIME_TYPE content only\n",
       "    if ((output.output_type != \"display_data\") || (!output.data.hasOwnProperty(EXEC_MIME_TYPE))) {\n",
       "      return\n",
       "    }\n",
       "\n",
       "    var toinsert = output_area.element.find(\".\" + CLASS_NAME.split(' ')[0]);\n",
       "\n",
       "    if (output.metadata[EXEC_MIME_TYPE][\"id\"] !== undefined) {\n",
       "      toinsert[toinsert.length - 1].firstChild.textContent = output.data[JS_MIME_TYPE];\n",
       "      // store reference to embed id on output_area\n",
       "      output_area._bokeh_element_id = output.metadata[EXEC_MIME_TYPE][\"id\"];\n",
       "    }\n",
       "    if (output.metadata[EXEC_MIME_TYPE][\"server_id\"] !== undefined) {\n",
       "      var bk_div = document.createElement(\"div\");\n",
       "      bk_div.innerHTML = output.data[HTML_MIME_TYPE];\n",
       "      var script_attrs = bk_div.children[0].attributes;\n",
       "      for (var i = 0; i < script_attrs.length; i++) {\n",
       "        toinsert[toinsert.length - 1].firstChild.setAttribute(script_attrs[i].name, script_attrs[i].value);\n",
       "      }\n",
       "      // store reference to server id on output_area\n",
       "      output_area._bokeh_server_id = output.metadata[EXEC_MIME_TYPE][\"server_id\"];\n",
       "    }\n",
       "  }\n",
       "\n",
       "  function register_renderer(events, OutputArea) {\n",
       "\n",
       "    function append_mime(data, metadata, element) {\n",
       "      // create a DOM node to render to\n",
       "      var toinsert = this.create_output_subarea(\n",
       "        metadata,\n",
       "        CLASS_NAME,\n",
       "        EXEC_MIME_TYPE\n",
       "      );\n",
       "      this.keyboard_manager.register_events(toinsert);\n",
       "      // Render to node\n",
       "      var props = {data: data, metadata: metadata[EXEC_MIME_TYPE]};\n",
       "      render(props, toinsert[toinsert.length - 1]);\n",
       "      element.append(toinsert);\n",
       "      return toinsert\n",
       "    }\n",
       "\n",
       "    /* Handle when an output is cleared or removed */\n",
       "    events.on('clear_output.CodeCell', handleClearOutput);\n",
       "    events.on('delete.Cell', handleClearOutput);\n",
       "\n",
       "    /* Handle when a new output is added */\n",
       "    events.on('output_added.OutputArea', handleAddOutput);\n",
       "\n",
       "    /**\n",
       "     * Register the mime type and append_mime function with output_area\n",
       "     */\n",
       "    OutputArea.prototype.register_mime_type(EXEC_MIME_TYPE, append_mime, {\n",
       "      /* Is output safe? */\n",
       "      safe: true,\n",
       "      /* Index of renderer in `output_area.display_order` */\n",
       "      index: 0\n",
       "    });\n",
       "  }\n",
       "\n",
       "  // register the mime type if in Jupyter Notebook environment and previously unregistered\n",
       "  if (root.Jupyter !== undefined) {\n",
       "    var events = require('base/js/events');\n",
       "    var OutputArea = require('notebook/js/outputarea').OutputArea;\n",
       "\n",
       "    if (OutputArea.prototype.mime_types().indexOf(EXEC_MIME_TYPE) == -1) {\n",
       "      register_renderer(events, OutputArea);\n",
       "    }\n",
       "  }\n",
       "\n",
       "  \n",
       "  if (typeof (root._bokeh_timeout) === \"undefined\" || force === true) {\n",
       "    root._bokeh_timeout = Date.now() + 5000;\n",
       "    root._bokeh_failed_load = false;\n",
       "  }\n",
       "\n",
       "  var NB_LOAD_WARNING = {'data': {'text/html':\n",
       "     \"<div style='background-color: #fdd'>\\n\"+\n",
       "     \"<p>\\n\"+\n",
       "     \"BokehJS does not appear to have successfully loaded. If loading BokehJS from CDN, this \\n\"+\n",
       "     \"may be due to a slow or bad network connection. Possible fixes:\\n\"+\n",
       "     \"</p>\\n\"+\n",
       "     \"<ul>\\n\"+\n",
       "     \"<li>re-rerun `output_notebook()` to attempt to load from CDN again, or</li>\\n\"+\n",
       "     \"<li>use INLINE resources instead, as so:</li>\\n\"+\n",
       "     \"</ul>\\n\"+\n",
       "     \"<code>\\n\"+\n",
       "     \"from bokeh.resources import INLINE\\n\"+\n",
       "     \"output_notebook(resources=INLINE)\\n\"+\n",
       "     \"</code>\\n\"+\n",
       "     \"</div>\"}};\n",
       "\n",
       "  function display_loaded() {\n",
       "    var el = document.getElementById(\"1001\");\n",
       "    if (el != null) {\n",
       "      el.textContent = \"BokehJS is loading...\";\n",
       "    }\n",
       "    if (root.Bokeh !== undefined) {\n",
       "      if (el != null) {\n",
       "        el.textContent = \"BokehJS \" + root.Bokeh.version + \" successfully loaded.\";\n",
       "      }\n",
       "    } else if (Date.now() < root._bokeh_timeout) {\n",
       "      setTimeout(display_loaded, 100)\n",
       "    }\n",
       "  }\n",
       "\n",
       "\n",
       "  function run_callbacks() {\n",
       "    try {\n",
       "      root._bokeh_onload_callbacks.forEach(function(callback) {\n",
       "        if (callback != null)\n",
       "          callback();\n",
       "      });\n",
       "    } finally {\n",
       "      delete root._bokeh_onload_callbacks\n",
       "    }\n",
       "    console.debug(\"Bokeh: all callbacks have finished\");\n",
       "  }\n",
       "\n",
       "  function load_libs(css_urls, js_urls, callback) {\n",
       "    if (css_urls == null) css_urls = [];\n",
       "    if (js_urls == null) js_urls = [];\n",
       "\n",
       "    root._bokeh_onload_callbacks.push(callback);\n",
       "    if (root._bokeh_is_loading > 0) {\n",
       "      console.debug(\"Bokeh: BokehJS is being loaded, scheduling callback at\", now());\n",
       "      return null;\n",
       "    }\n",
       "    if (js_urls == null || js_urls.length === 0) {\n",
       "      run_callbacks();\n",
       "      return null;\n",
       "    }\n",
       "    console.debug(\"Bokeh: BokehJS not loaded, scheduling load and callback at\", now());\n",
       "    root._bokeh_is_loading = css_urls.length + js_urls.length;\n",
       "\n",
       "    function on_load() {\n",
       "      root._bokeh_is_loading--;\n",
       "      if (root._bokeh_is_loading === 0) {\n",
       "        console.debug(\"Bokeh: all BokehJS libraries/stylesheets loaded\");\n",
       "        run_callbacks()\n",
       "      }\n",
       "    }\n",
       "\n",
       "    function on_error() {\n",
       "      console.error(\"failed to load \" + url);\n",
       "    }\n",
       "\n",
       "    for (var i = 0; i < css_urls.length; i++) {\n",
       "      var url = css_urls[i];\n",
       "      const element = document.createElement(\"link\");\n",
       "      element.onload = on_load;\n",
       "      element.onerror = on_error;\n",
       "      element.rel = \"stylesheet\";\n",
       "      element.type = \"text/css\";\n",
       "      element.href = url;\n",
       "      console.debug(\"Bokeh: injecting link tag for BokehJS stylesheet: \", url);\n",
       "      document.body.appendChild(element);\n",
       "    }\n",
       "\n",
       "    for (var i = 0; i < js_urls.length; i++) {\n",
       "      var url = js_urls[i];\n",
       "      var element = document.createElement('script');\n",
       "      element.onload = on_load;\n",
       "      element.onerror = on_error;\n",
       "      element.async = false;\n",
       "      element.src = url;\n",
       "      console.debug(\"Bokeh: injecting script tag for BokehJS library: \", url);\n",
       "      document.head.appendChild(element);\n",
       "    }\n",
       "  };var element = document.getElementById(\"1001\");\n",
       "  if (element == null) {\n",
       "    console.error(\"Bokeh: ERROR: autoload.js configured with elementid '1001' but no matching script tag was found. \")\n",
       "    return false;\n",
       "  }\n",
       "\n",
       "  function inject_raw_css(css) {\n",
       "    const element = document.createElement(\"style\");\n",
       "    element.appendChild(document.createTextNode(css));\n",
       "    document.body.appendChild(element);\n",
       "  }\n",
       "\n",
       "  \n",
       "  var js_urls = [\"https://cdn.pydata.org/bokeh/release/bokeh-1.4.0.min.js\", \"https://cdn.pydata.org/bokeh/release/bokeh-widgets-1.4.0.min.js\", \"https://cdn.pydata.org/bokeh/release/bokeh-tables-1.4.0.min.js\", \"https://cdn.pydata.org/bokeh/release/bokeh-gl-1.4.0.min.js\"];\n",
       "  var css_urls = [];\n",
       "  \n",
       "\n",
       "  var inline_js = [\n",
       "    function(Bokeh) {\n",
       "      Bokeh.set_log_level(\"info\");\n",
       "    },\n",
       "    function(Bokeh) {\n",
       "    \n",
       "    \n",
       "    }\n",
       "  ];\n",
       "\n",
       "  function run_inline_js() {\n",
       "    \n",
       "    if (root.Bokeh !== undefined || force === true) {\n",
       "      \n",
       "    for (var i = 0; i < inline_js.length; i++) {\n",
       "      inline_js[i].call(root, root.Bokeh);\n",
       "    }\n",
       "    if (force === true) {\n",
       "        display_loaded();\n",
       "      }} else if (Date.now() < root._bokeh_timeout) {\n",
       "      setTimeout(run_inline_js, 100);\n",
       "    } else if (!root._bokeh_failed_load) {\n",
       "      console.log(\"Bokeh: BokehJS failed to load within specified timeout.\");\n",
       "      root._bokeh_failed_load = true;\n",
       "    } else if (force !== true) {\n",
       "      var cell = $(document.getElementById(\"1001\")).parents('.cell').data().cell;\n",
       "      cell.output_area.append_execute_result(NB_LOAD_WARNING)\n",
       "    }\n",
       "\n",
       "  }\n",
       "\n",
       "  if (root._bokeh_is_loading === 0) {\n",
       "    console.debug(\"Bokeh: BokehJS loaded, going straight to plotting\");\n",
       "    run_inline_js();\n",
       "  } else {\n",
       "    load_libs(css_urls, js_urls, function() {\n",
       "      console.debug(\"Bokeh: BokehJS plotting callback run at\", now());\n",
       "      run_inline_js();\n",
       "    });\n",
       "  }\n",
       "}(window));"
      ],
      "application/vnd.bokehjs_load.v0+json": "\n(function(root) {\n  function now() {\n    return new Date();\n  }\n\n  var force = true;\n\n  if (typeof root._bokeh_onload_callbacks === \"undefined\" || force === true) {\n    root._bokeh_onload_callbacks = [];\n    root._bokeh_is_loading = undefined;\n  }\n\n  \n\n  \n  if (typeof (root._bokeh_timeout) === \"undefined\" || force === true) {\n    root._bokeh_timeout = Date.now() + 5000;\n    root._bokeh_failed_load = false;\n  }\n\n  var NB_LOAD_WARNING = {'data': {'text/html':\n     \"<div style='background-color: #fdd'>\\n\"+\n     \"<p>\\n\"+\n     \"BokehJS does not appear to have successfully loaded. If loading BokehJS from CDN, this \\n\"+\n     \"may be due to a slow or bad network connection. Possible fixes:\\n\"+\n     \"</p>\\n\"+\n     \"<ul>\\n\"+\n     \"<li>re-rerun `output_notebook()` to attempt to load from CDN again, or</li>\\n\"+\n     \"<li>use INLINE resources instead, as so:</li>\\n\"+\n     \"</ul>\\n\"+\n     \"<code>\\n\"+\n     \"from bokeh.resources import INLINE\\n\"+\n     \"output_notebook(resources=INLINE)\\n\"+\n     \"</code>\\n\"+\n     \"</div>\"}};\n\n  function display_loaded() {\n    var el = document.getElementById(\"1001\");\n    if (el != null) {\n      el.textContent = \"BokehJS is loading...\";\n    }\n    if (root.Bokeh !== undefined) {\n      if (el != null) {\n        el.textContent = \"BokehJS \" + root.Bokeh.version + \" successfully loaded.\";\n      }\n    } else if (Date.now() < root._bokeh_timeout) {\n      setTimeout(display_loaded, 100)\n    }\n  }\n\n\n  function run_callbacks() {\n    try {\n      root._bokeh_onload_callbacks.forEach(function(callback) {\n        if (callback != null)\n          callback();\n      });\n    } finally {\n      delete root._bokeh_onload_callbacks\n    }\n    console.debug(\"Bokeh: all callbacks have finished\");\n  }\n\n  function load_libs(css_urls, js_urls, callback) {\n    if (css_urls == null) css_urls = [];\n    if (js_urls == null) js_urls = [];\n\n    root._bokeh_onload_callbacks.push(callback);\n    if (root._bokeh_is_loading > 0) {\n      console.debug(\"Bokeh: BokehJS is being loaded, scheduling callback at\", now());\n      return null;\n    }\n    if (js_urls == null || js_urls.length === 0) {\n      run_callbacks();\n      return null;\n    }\n    console.debug(\"Bokeh: BokehJS not loaded, scheduling load and callback at\", now());\n    root._bokeh_is_loading = css_urls.length + js_urls.length;\n\n    function on_load() {\n      root._bokeh_is_loading--;\n      if (root._bokeh_is_loading === 0) {\n        console.debug(\"Bokeh: all BokehJS libraries/stylesheets loaded\");\n        run_callbacks()\n      }\n    }\n\n    function on_error() {\n      console.error(\"failed to load \" + url);\n    }\n\n    for (var i = 0; i < css_urls.length; i++) {\n      var url = css_urls[i];\n      const element = document.createElement(\"link\");\n      element.onload = on_load;\n      element.onerror = on_error;\n      element.rel = \"stylesheet\";\n      element.type = \"text/css\";\n      element.href = url;\n      console.debug(\"Bokeh: injecting link tag for BokehJS stylesheet: \", url);\n      document.body.appendChild(element);\n    }\n\n    for (var i = 0; i < js_urls.length; i++) {\n      var url = js_urls[i];\n      var element = document.createElement('script');\n      element.onload = on_load;\n      element.onerror = on_error;\n      element.async = false;\n      element.src = url;\n      console.debug(\"Bokeh: injecting script tag for BokehJS library: \", url);\n      document.head.appendChild(element);\n    }\n  };var element = document.getElementById(\"1001\");\n  if (element == null) {\n    console.error(\"Bokeh: ERROR: autoload.js configured with elementid '1001' but no matching script tag was found. \")\n    return false;\n  }\n\n  function inject_raw_css(css) {\n    const element = document.createElement(\"style\");\n    element.appendChild(document.createTextNode(css));\n    document.body.appendChild(element);\n  }\n\n  \n  var js_urls = [\"https://cdn.pydata.org/bokeh/release/bokeh-1.4.0.min.js\", \"https://cdn.pydata.org/bokeh/release/bokeh-widgets-1.4.0.min.js\", \"https://cdn.pydata.org/bokeh/release/bokeh-tables-1.4.0.min.js\", \"https://cdn.pydata.org/bokeh/release/bokeh-gl-1.4.0.min.js\"];\n  var css_urls = [];\n  \n\n  var inline_js = [\n    function(Bokeh) {\n      Bokeh.set_log_level(\"info\");\n    },\n    function(Bokeh) {\n    \n    \n    }\n  ];\n\n  function run_inline_js() {\n    \n    if (root.Bokeh !== undefined || force === true) {\n      \n    for (var i = 0; i < inline_js.length; i++) {\n      inline_js[i].call(root, root.Bokeh);\n    }\n    if (force === true) {\n        display_loaded();\n      }} else if (Date.now() < root._bokeh_timeout) {\n      setTimeout(run_inline_js, 100);\n    } else if (!root._bokeh_failed_load) {\n      console.log(\"Bokeh: BokehJS failed to load within specified timeout.\");\n      root._bokeh_failed_load = true;\n    } else if (force !== true) {\n      var cell = $(document.getElementById(\"1001\")).parents('.cell').data().cell;\n      cell.output_area.append_execute_result(NB_LOAD_WARNING)\n    }\n\n  }\n\n  if (root._bokeh_is_loading === 0) {\n    console.debug(\"Bokeh: BokehJS loaded, going straight to plotting\");\n    run_inline_js();\n  } else {\n    load_libs(css_urls, js_urls, function() {\n      console.debug(\"Bokeh: BokehJS plotting callback run at\", now());\n      run_inline_js();\n    });\n  }\n}(window));"
     },
     "metadata": {},
     "output_type": "display_data"
    }
   ],
   "source": [
    "from biocrnpyler import *\n",
    "#from biocrnpyler.chemical_reaction_network import Species, Reaction, ComplexSpecies, Multimer\n",
    "import numpy as np\n",
    "import pylab as plt \n",
    "%matplotlib inline\n",
    "\n",
    "import bokeh.io\n",
    "import bokeh.plotting\n",
    "from bokeh.layouts import row\n",
    "bokeh.io.output_notebook()\n",
    "\n",
    "import colorcet\n",
    "\n",
    "from subsbml import createNewSubsystem, createSubsystem"
   ]
  },
  {
   "cell_type": "code",
   "execution_count": 2,
   "metadata": {},
   "outputs": [],
   "source": [
    "palette = colorcet.b_glasbey_category10\n",
    "palette.remove( '#d62628')"
   ]
  },
  {
   "cell_type": "markdown",
   "metadata": {},
   "source": [
    "## Combine ATP synthase tx, tl, membrane integration, atp synthesis models\n",
    "---"
   ]
  },
  {
   "cell_type": "code",
   "execution_count": 3,
   "metadata": {},
   "outputs": [],
   "source": [
    "# atp synthase models\n",
    "#ss1_atpsyn_txtl = createSubsystem('atpsynthase_tx_tl.xml', subsystemName = 'atpsyn_txtl')\n",
    "ss1_atpsyn_txtl = createSubsystem('atpsynthase_simple_txtl.xml', subsystemName = 'atpsyn_txtl')\n",
    "\n",
    "\n",
    "ss2_atpsyn_mi = createSubsystem('atpsynthase_membrane_integration.xml', subsystemName = 'atpsyn_mi')\n",
    "ss3_atpsynthesis = createSubsystem('atp_synthesis_through_atpsynthase.xml', subsystemName = 'atpsynthesis')\n",
    "\n",
    "# proton pump ss\n",
    "# ss4_pp_txtl = createSubsystem('proton_pump_tx_tl.xml', subsystemName = 'pp_txtl')\n",
    "# ss5_pp_mi = createSubsystem('proton_pump_membrane_integration.xml', subsystemName = 'pp_mi')\n",
    "# ss6_protontransport = createSubsystem('proton_transport_through_proton_pump.xml', subsystemName = 'protontransport')\n"
   ]
  },
  {
   "cell_type": "code",
   "execution_count": 4,
   "metadata": {},
   "outputs": [],
   "source": [
    "#atp_subsystem = ss1_atpsyn_txtl + ss2_atpsyn_mi + ss3_atpsynthesis\n",
    "atp_subsystem = ss1_atpsyn_txtl + ss2_atpsyn_mi + ss3_atpsynthesis\n"
   ]
  },
  {
   "cell_type": "code",
   "execution_count": 5,
   "metadata": {},
   "outputs": [],
   "source": [
    "#atp_subsystem.getSpeciesByName('protein_atpsyn_b')"
   ]
  },
  {
   "cell_type": "code",
   "execution_count": 6,
   "metadata": {},
   "outputs": [],
   "source": [
    "# spec_list_10 = ['metabolite_atp', 'proton_outside_H', 'dna_atpsyn', 'protein_RNAP_machinery',\n",
    "#                'protein_Ribo_machinery', 'protein_RNAase_machinery']\n",
    "spec_list_10 = ['dna_atpsyn', 'proton_outside_H', 'metabolite_atp']\n",
    "for i,spec in enumerate(spec_list_10):\n",
    "    atp_subsystem.setSpeciesAmount(spec,10)"
   ]
  },
  {
   "cell_type": "code",
   "execution_count": 7,
   "metadata": {},
   "outputs": [],
   "source": [
    "timepoints = np.linspace(0,10,100)\n",
    "results, _ = atp_subsystem.simulateWithBioscrape(timepoints, sbml_warnings = False)"
   ]
  },
  {
   "cell_type": "code",
   "execution_count": 8,
   "metadata": {},
   "outputs": [
    {
     "data": {
      "text/plain": [
       "Index(['rna_atpsyn_atpsyn_txtlbiocrnpyler_429022',\n",
       "       'dna_atpsyn_atpsyn_txtlbiocrnpyler_429022',\n",
       "       'protein_atpsyn_atpsyn_txtlbiocrnpyler_429022_1_combined',\n",
       "       'proton_outside_H_atpsynthesisbiocrnpyler_634411',\n",
       "       'proton_inside_H_atpsynthesisbiocrnpyler_634411',\n",
       "       'protein_atpsyn_b_atpsyn_mibiocrnpyler_494589_1_combined',\n",
       "       'metabolite_adp_atpsynthesisbiocrnpyler_634411',\n",
       "       'metabolite_atp_atpsynthesisbiocrnpyler_634411',\n",
       "       'metabolite_pi_atpsynthesisbiocrnpyler_634411', 'time'],\n",
       "      dtype='object')"
      ]
     },
     "execution_count": 8,
     "metadata": {},
     "output_type": "execute_result"
    }
   ],
   "source": [
    "results.columns"
   ]
  },
  {
   "cell_type": "code",
   "execution_count": 9,
   "metadata": {},
   "outputs": [],
   "source": [
    "ATP_id = atp_subsystem.getSpeciesByName('metabolite_atp').getId()\n",
    "ADP_id = atp_subsystem.getSpeciesByName('metabolite_adp').getId()\n",
    "\n",
    "outside_H_id = atp_subsystem.getSpeciesByName('proton_outside_H').getId()\n",
    "inside_H_id = atp_subsystem.getSpeciesByName('proton_inside_H').getId()\n",
    "atp_synthase_b_protein_id = atp_subsystem.getSpeciesByName('protein_atpsyn_b').getId()\n",
    "atp_synthase_f_protein_id = atp_subsystem.getSpeciesByName('protein_atpsyn').getId()\n",
    "\n",
    "rna_atpsyn_id = atp_subsystem.getSpeciesByName('rna_atpsyn').getId()\n",
    "\n",
    "dna_atpsyn_id = atp_subsystem.getSpeciesByName('dna_atpsyn').getId()"
   ]
  },
  {
   "cell_type": "code",
   "execution_count": 10,
   "metadata": {},
   "outputs": [
    {
     "data": {
      "text/plain": [
       "Index(['rna_atpsyn_atpsyn_txtlbiocrnpyler_429022',\n",
       "       'dna_atpsyn_atpsyn_txtlbiocrnpyler_429022',\n",
       "       'protein_atpsyn_atpsyn_txtlbiocrnpyler_429022_1_combined',\n",
       "       'proton_outside_H_atpsynthesisbiocrnpyler_634411',\n",
       "       'proton_inside_H_atpsynthesisbiocrnpyler_634411',\n",
       "       'protein_atpsyn_b_atpsyn_mibiocrnpyler_494589_1_combined',\n",
       "       'metabolite_adp_atpsynthesisbiocrnpyler_634411',\n",
       "       'metabolite_atp_atpsynthesisbiocrnpyler_634411',\n",
       "       'metabolite_pi_atpsynthesisbiocrnpyler_634411', 'time'],\n",
       "      dtype='object')"
      ]
     },
     "execution_count": 10,
     "metadata": {},
     "output_type": "execute_result"
    }
   ],
   "source": [
    "results.columns"
   ]
  },
  {
   "cell_type": "code",
   "execution_count": 11,
   "metadata": {},
   "outputs": [
    {
     "data": {
      "text/html": [
       "\n",
       "\n",
       "\n",
       "\n",
       "\n",
       "\n",
       "  <div class=\"bk-root\" id=\"6a25f3b4-39e0-4b5d-81b5-ff116d18fab0\" data-root-id=\"1002\"></div>\n"
      ]
     },
     "metadata": {},
     "output_type": "display_data"
    },
    {
     "data": {
      "application/javascript": [
       "(function(root) {\n",
       "  function embed_document(root) {\n",
       "    \n",
       "  var docs_json = {\"c8612c51-168a-484d-a2eb-3ec97f0a3b32\":{\"roots\":{\"references\":[{\"attributes\":{\"below\":[{\"id\":\"1011\",\"type\":\"LinearAxis\"}],\"center\":[{\"id\":\"1015\",\"type\":\"Grid\"},{\"id\":\"1020\",\"type\":\"Grid\"},{\"id\":\"1046\",\"type\":\"Legend\"}],\"left\":[{\"id\":\"1016\",\"type\":\"LinearAxis\"}],\"plot_height\":300,\"plot_width\":450,\"renderers\":[{\"id\":\"1037\",\"type\":\"GlyphRenderer\"},{\"id\":\"1051\",\"type\":\"GlyphRenderer\"},{\"id\":\"1066\",\"type\":\"GlyphRenderer\"},{\"id\":\"1083\",\"type\":\"GlyphRenderer\"}],\"title\":{\"id\":\"1039\",\"type\":\"Title\"},\"toolbar\":{\"id\":\"1027\",\"type\":\"Toolbar\"},\"x_range\":{\"id\":\"1003\",\"type\":\"DataRange1d\"},\"x_scale\":{\"id\":\"1007\",\"type\":\"LinearScale\"},\"y_range\":{\"id\":\"1005\",\"type\":\"DataRange1d\"},\"y_scale\":{\"id\":\"1009\",\"type\":\"LinearScale\"}},\"id\":\"1002\",\"subtype\":\"Figure\",\"type\":\"Plot\"},{\"attributes\":{\"callback\":null},\"id\":\"1005\",\"type\":\"DataRange1d\"},{\"attributes\":{},\"id\":\"1007\",\"type\":\"LinearScale\"},{\"attributes\":{},\"id\":\"1077\",\"type\":\"Selection\"},{\"attributes\":{\"source\":{\"id\":\"1048\",\"type\":\"ColumnDataSource\"}},\"id\":\"1052\",\"type\":\"CDSView\"},{\"attributes\":{\"callback\":null,\"data\":{\"x\":{\"__ndarray__\":\"AAAAAAAAAAAxb2dIzNu5PzFvZ0jM28k/ZZNNNtlk0z8xb2dIzNvZP3+lQK1fKeA/ZZNNNtlk4z9LgVq/UqDmPzFvZ0jM2+k/F1100UUX7T9/pUCtXynwP3Icx3Ecx/E/ZZNNNtlk8z9YCtT6lQL1P0uBWr9SoPY/Pvjggw8++D8xb2dIzNv5PyTm7QyJefs/F1100UUX/T8K1PqVArX+P3+lQK1fKQBA+OCDDz74AEByHMdxHMcBQOtXCtT6lQJAZZNNNtlkA0DezpCYtzMEQFgK1PqVAgVA0UUXXXTRBUBLgVq/UqAGQMS8nSExbwdAPvjggw8+CEC3MyTm7QwJQDFvZ0jM2wlAq6qqqqqqCkAk5u0MiXkLQJ4hMW9nSAxAF1100UUXDUCRmLczJOYNQArU+pUCtQ5AhA8++OCDD0B/pUCtXykQQDtDYt7OkBBA+OCDDz74EEC1fqVArV8RQHIcx3EcxxFALrrooosuEkDrVwrU+pUSQKj1KwVq/RJAZZNNNtlkE0AiMW9nSMwTQN7OkJi3MxRAm2yyySabFEBYCtT6lQIVQBWo9SsFahVA0UUXXXTRFUCO4ziO4zgWQEuBWr9SoBZACB988MEHF0DEvJ0hMW8XQIFav1Kg1hdAPvjggw8+GED7lQK1fqUYQLczJObtDBlAdNFFF110GUAxb2dIzNsZQO4MiXk7QxpAq6qqqqqqGkBnSMzbGRIbQCTm7QyJeRtA4YMPPvjgG0CeITFvZ0gcQFq/UqDWrxxAF1100UUXHUDU+pUCtX4dQJGYtzMk5h1ATTbZZJNNHkAK1PqVArUeQMdxHMdxHB9AhA8++OCDH0BArV8pUOsfQH+lQK1fKSBAXXTRRRddIEA7Q2LezpAgQBoS83aGxCBA+OCDDz74IEDXrxSo9SshQLV+pUCtXyFAk0022WSTIUByHMdxHMchQFDrVwrU+iFALrrooosuIkANiXk7Q2IiQOtXCtT6lSJAyiabbLLJIkCo9SsFav0iQIbEvJ0hMSNAZZNNNtlkI0BDYt7OkJgjQCIxb2dIzCNAAAAAAAAAJEA=\",\"dtype\":\"float64\",\"shape\":[100]},\"y\":{\"__ndarray__\":\"AAAAAAAAAAD4mQSyIxhaP1WCqUNdNIg/aXvm8nnzoj8O863zvtm0P9ZKSEP66MI/YM6E2fxbzj+ckn3gn2fWP5U2L2Y8Gd8/oSKEB4yY5D8JCyoVQ0vqP/Alim8ES/A/qxZi/0608z+geDpk+Fj3PyohiEdVMPs/jPnH2c4x/z8DgS9xhqoBQMDvMosKyQNAib0pz7DwBUAGRmk0+B0IQO1Np1SmTQpAbP9s1Ml8DEDYv8PwuqgOQPGNM02NZxBAucN6Oeh2EUDcUQz7g4ESQE17LoWWhhNAT8C7EnSFFEAn5G4YjX0VQGNjlCVsbhZAZkNKwLNXF0DNhSFHHDkYQGun499xEhlAWHtWeZLjGUDYO5vja6waQPShzQP6bBtAp1SKIkUlHECEPhBYYNUcQOYD0BVofR1AGgGXzYAdHkCUwka11bUeQP/zi6aXRh9A+P3JGfzPH0AnjrQcHikgQFM15wfKZiBAiUJm5CChIEDvvn6FQtggQJpyRzBPDCFAvxyrXGc9IUCET3l7q2shQJbYwsU7lyFAPFa1ETjAIUC44+uwv+YhQCTfdlDxCiJAAySf4OosIkBzVYGAyUwiQHWn822paiJAcGbr+KWGIkAgwTN62aAiQP5j+ExduSJAjFT9yknQIkA7WZ1KtuUiQBVVBB+5+SJACWz+mWcMI0ANkvkO1h0jQGc7VNcXLiNAKVSsVz89I0CDJ9kFXksjQA/xn2+EWCNA9SblQcJkI0CJ+kdQJnAjQM2T/Jy+eiNAQNDcYJiEI0AytJETwI0jQPxIxHNBliNA2LNVjyeeI0DDW3zLfKUjQHyjy+xKrCNAquVPH5uyI0A/z+D8dbgjQFn8+5bjvSNAod15fOvCI0BZIJnAlMcjQK3gGQLmyyNAnDm2ceXPI0CnvmrYmNMjQAEIc50F1yNAZ3D6yzDaI0B9bsoYH90jQA/1MefU3yNASOggTlbiI0DaWwMdp+QjQEPPD+DK5iNAdzWX5MToI0Da6Qg9mOojQHwhu8RH7CNA9KV8I9btI0Ck1PfQRe8jQFh94ReZ8CNAvyb4GNLxI0A=\",\"dtype\":\"float64\",\"shape\":[100]}},\"selected\":{\"id\":\"1112\",\"type\":\"Selection\"},\"selection_policy\":{\"id\":\"1113\",\"type\":\"UnionRenderers\"}},\"id\":\"1080\",\"type\":\"ColumnDataSource\"},{\"attributes\":{},\"id\":\"1012\",\"type\":\"BasicTicker\"},{\"attributes\":{},\"id\":\"1078\",\"type\":\"UnionRenderers\"},{\"attributes\":{\"ticker\":{\"id\":\"1012\",\"type\":\"BasicTicker\"}},\"id\":\"1015\",\"type\":\"Grid\"},{\"attributes\":{\"line_color\":\"#1f77b3\",\"line_width\":2,\"x\":{\"field\":\"x\"},\"y\":{\"field\":\"y\"}},\"id\":\"1035\",\"type\":\"Line\"},{\"attributes\":{\"line_color\":\"#9367bc\",\"line_width\":2,\"x\":{\"field\":\"x\"},\"y\":{\"field\":\"y\"}},\"id\":\"1081\",\"type\":\"Line\"},{\"attributes\":{},\"id\":\"1009\",\"type\":\"LinearScale\"},{\"attributes\":{\"source\":{\"id\":\"1034\",\"type\":\"ColumnDataSource\"}},\"id\":\"1038\",\"type\":\"CDSView\"},{\"attributes\":{},\"id\":\"1044\",\"type\":\"BasicTickFormatter\"},{\"attributes\":{\"source\":{\"id\":\"1063\",\"type\":\"ColumnDataSource\"}},\"id\":\"1067\",\"type\":\"CDSView\"},{\"attributes\":{\"line_alpha\":0.1,\"line_color\":\"#1f77b4\",\"line_width\":2,\"x\":{\"field\":\"x\"},\"y\":{\"field\":\"y\"}},\"id\":\"1036\",\"type\":\"Line\"},{\"attributes\":{\"line_color\":\"#ff7e0e\",\"line_width\":2,\"x\":{\"field\":\"x\"},\"y\":{\"field\":\"y\"}},\"id\":\"1049\",\"type\":\"Line\"},{\"attributes\":{\"line_alpha\":0.1,\"line_color\":\"#1f77b4\",\"line_width\":2,\"x\":{\"field\":\"x\"},\"y\":{\"field\":\"y\"}},\"id\":\"1065\",\"type\":\"Line\"},{\"attributes\":{\"line_alpha\":0.1,\"line_color\":\"#1f77b4\",\"line_width\":2,\"x\":{\"field\":\"x\"},\"y\":{\"field\":\"y\"}},\"id\":\"1082\",\"type\":\"Line\"},{\"attributes\":{\"data_source\":{\"id\":\"1034\",\"type\":\"ColumnDataSource\"},\"glyph\":{\"id\":\"1035\",\"type\":\"Line\"},\"hover_glyph\":null,\"muted_glyph\":null,\"nonselection_glyph\":{\"id\":\"1036\",\"type\":\"Line\"},\"selection_glyph\":null,\"view\":{\"id\":\"1038\",\"type\":\"CDSView\"}},\"id\":\"1037\",\"type\":\"GlyphRenderer\"},{\"attributes\":{\"data_source\":{\"id\":\"1080\",\"type\":\"ColumnDataSource\"},\"glyph\":{\"id\":\"1081\",\"type\":\"Line\"},\"hover_glyph\":null,\"muted_glyph\":null,\"nonselection_glyph\":{\"id\":\"1082\",\"type\":\"Line\"},\"selection_glyph\":null,\"view\":{\"id\":\"1084\",\"type\":\"CDSView\"}},\"id\":\"1083\",\"type\":\"GlyphRenderer\"},{\"attributes\":{\"callback\":null,\"data\":{\"x\":{\"__ndarray__\":\"AAAAAAAAAAAxb2dIzNu5PzFvZ0jM28k/ZZNNNtlk0z8xb2dIzNvZP3+lQK1fKeA/ZZNNNtlk4z9LgVq/UqDmPzFvZ0jM2+k/F1100UUX7T9/pUCtXynwP3Icx3Ecx/E/ZZNNNtlk8z9YCtT6lQL1P0uBWr9SoPY/Pvjggw8++D8xb2dIzNv5PyTm7QyJefs/F1100UUX/T8K1PqVArX+P3+lQK1fKQBA+OCDDz74AEByHMdxHMcBQOtXCtT6lQJAZZNNNtlkA0DezpCYtzMEQFgK1PqVAgVA0UUXXXTRBUBLgVq/UqAGQMS8nSExbwdAPvjggw8+CEC3MyTm7QwJQDFvZ0jM2wlAq6qqqqqqCkAk5u0MiXkLQJ4hMW9nSAxAF1100UUXDUCRmLczJOYNQArU+pUCtQ5AhA8++OCDD0B/pUCtXykQQDtDYt7OkBBA+OCDDz74EEC1fqVArV8RQHIcx3EcxxFALrrooosuEkDrVwrU+pUSQKj1KwVq/RJAZZNNNtlkE0AiMW9nSMwTQN7OkJi3MxRAm2yyySabFEBYCtT6lQIVQBWo9SsFahVA0UUXXXTRFUCO4ziO4zgWQEuBWr9SoBZACB988MEHF0DEvJ0hMW8XQIFav1Kg1hdAPvjggw8+GED7lQK1fqUYQLczJObtDBlAdNFFF110GUAxb2dIzNsZQO4MiXk7QxpAq6qqqqqqGkBnSMzbGRIbQCTm7QyJeRtA4YMPPvjgG0CeITFvZ0gcQFq/UqDWrxxAF1100UUXHUDU+pUCtX4dQJGYtzMk5h1ATTbZZJNNHkAK1PqVArUeQMdxHMdxHB9AhA8++OCDH0BArV8pUOsfQH+lQK1fKSBAXXTRRRddIEA7Q2LezpAgQBoS83aGxCBA+OCDDz74IEDXrxSo9SshQLV+pUCtXyFAk0022WSTIUByHMdxHMchQFDrVwrU+iFALrrooosuIkANiXk7Q2IiQOtXCtT6lSJAyiabbLLJIkCo9SsFav0iQIbEvJ0hMSNAZZNNNtlkI0BDYt7OkJgjQCIxb2dIzCNAAAAAAAAAJEA=\",\"dtype\":\"float64\",\"shape\":[100]},\"y\":{\"__ndarray__\":\"AAAAAAAAJEAAAAAAAAAkQAAAAAAAACRAAAAAAAAAJEAAAAAAAAAkQAAAAAAAACRAAAAAAAAAJEAAAAAAAAAkQAAAAAAAACRAAAAAAAAAJEAAAAAAAAAkQAAAAAAAACRAAAAAAAAAJEAAAAAAAAAkQAAAAAAAACRAAAAAAAAAJEAAAAAAAAAkQAAAAAAAACRAAAAAAAAAJEAAAAAAAAAkQAAAAAAAACRAAAAAAAAAJEAAAAAAAAAkQAAAAAAAACRAAAAAAAAAJEAAAAAAAAAkQAAAAAAAACRAAAAAAAAAJEAAAAAAAAAkQAAAAAAAACRAAAAAAAAAJEAAAAAAAAAkQAAAAAAAACRAAAAAAAAAJEAAAAAAAAAkQAAAAAAAACRAAAAAAAAAJEAAAAAAAAAkQAAAAAAAACRAAAAAAAAAJEAAAAAAAAAkQAAAAAAAACRAAAAAAAAAJEAAAAAAAAAkQAAAAAAAACRAAAAAAAAAJEAAAAAAAAAkQAAAAAAAACRAAAAAAAAAJEAAAAAAAAAkQAAAAAAAACRAAAAAAAAAJEAAAAAAAAAkQAAAAAAAACRAAAAAAAAAJEAAAAAAAAAkQAAAAAAAACRAAAAAAAAAJEAAAAAAAAAkQAAAAAAAACRAAAAAAAAAJEAAAAAAAAAkQAAAAAAAACRAAAAAAAAAJEAAAAAAAAAkQAAAAAAAACRAAAAAAAAAJEAAAAAAAAAkQAAAAAAAACRAAAAAAAAAJEAAAAAAAAAkQAAAAAAAACRAAAAAAAAAJEAAAAAAAAAkQAAAAAAAACRAAAAAAAAAJEAAAAAAAAAkQAAAAAAAACRAAAAAAAAAJEAAAAAAAAAkQAAAAAAAACRAAAAAAAAAJEAAAAAAAAAkQAAAAAAAACRAAAAAAAAAJEAAAAAAAAAkQAAAAAAAACRAAAAAAAAAJEAAAAAAAAAkQAAAAAAAACRAAAAAAAAAJEAAAAAAAAAkQAAAAAAAACRAAAAAAAAAJEAAAAAAAAAkQAAAAAAAACRAAAAAAAAAJEAAAAAAAAAkQAAAAAAAACRAAAAAAAAAJEA=\",\"dtype\":\"float64\",\"shape\":[100]}},\"selected\":{\"id\":\"1060\",\"type\":\"Selection\"},\"selection_policy\":{\"id\":\"1061\",\"type\":\"UnionRenderers\"}},\"id\":\"1034\",\"type\":\"ColumnDataSource\"},{\"attributes\":{\"text\":\"\"},\"id\":\"1039\",\"type\":\"Title\"},{\"attributes\":{\"callback\":null,\"data\":{\"x\":{\"__ndarray__\":\"AAAAAAAAAAAxb2dIzNu5PzFvZ0jM28k/ZZNNNtlk0z8xb2dIzNvZP3+lQK1fKeA/ZZNNNtlk4z9LgVq/UqDmPzFvZ0jM2+k/F1100UUX7T9/pUCtXynwP3Icx3Ecx/E/ZZNNNtlk8z9YCtT6lQL1P0uBWr9SoPY/Pvjggw8++D8xb2dIzNv5PyTm7QyJefs/F1100UUX/T8K1PqVArX+P3+lQK1fKQBA+OCDDz74AEByHMdxHMcBQOtXCtT6lQJAZZNNNtlkA0DezpCYtzMEQFgK1PqVAgVA0UUXXXTRBUBLgVq/UqAGQMS8nSExbwdAPvjggw8+CEC3MyTm7QwJQDFvZ0jM2wlAq6qqqqqqCkAk5u0MiXkLQJ4hMW9nSAxAF1100UUXDUCRmLczJOYNQArU+pUCtQ5AhA8++OCDD0B/pUCtXykQQDtDYt7OkBBA+OCDDz74EEC1fqVArV8RQHIcx3EcxxFALrrooosuEkDrVwrU+pUSQKj1KwVq/RJAZZNNNtlkE0AiMW9nSMwTQN7OkJi3MxRAm2yyySabFEBYCtT6lQIVQBWo9SsFahVA0UUXXXTRFUCO4ziO4zgWQEuBWr9SoBZACB988MEHF0DEvJ0hMW8XQIFav1Kg1hdAPvjggw8+GED7lQK1fqUYQLczJObtDBlAdNFFF110GUAxb2dIzNsZQO4MiXk7QxpAq6qqqqqqGkBnSMzbGRIbQCTm7QyJeRtA4YMPPvjgG0CeITFvZ0gcQFq/UqDWrxxAF1100UUXHUDU+pUCtX4dQJGYtzMk5h1ATTbZZJNNHkAK1PqVArUeQMdxHMdxHB9AhA8++OCDH0BArV8pUOsfQH+lQK1fKSBAXXTRRRddIEA7Q2LezpAgQBoS83aGxCBA+OCDDz74IEDXrxSo9SshQLV+pUCtXyFAk0022WSTIUByHMdxHMchQFDrVwrU+iFALrrooosuIkANiXk7Q2IiQOtXCtT6lSJAyiabbLLJIkCo9SsFav0iQIbEvJ0hMSNAZZNNNtlkI0BDYt7OkJgjQCIxb2dIzCNAAAAAAAAAJEA=\",\"dtype\":\"float64\",\"shape\":[100]},\"y\":{\"__ndarray__\":\"AAAAAAAAAABvqpMG5ysWQDXZiqrcBiBArg+UEaY6IkCr2r2C7zUjQDjEBvXvpSNAFHEkodvXI0CsGf2wG+4jQLWHj38G+CNAJ7GmE3L8I0BCc4dvav4jQEx/HTxL/yNAFRpAbq//I0Db7dwW3P8jQMEYgv7v/yNAu+Sw3fj/I0AFlPnR/P8jQMsbKpX+/yNAggtKXv//I0AuXe23//8jQHu14N///yNAOvau8f//I0AnVp75//8jQN/gKv3//yNAi2a7/v//I0CmsGr///8jQC7Pvv///yNAtCDe////I0DkufL///8jQCL2+f///yNA5PD8////I0BViv////8jQFnx/v///yNANDwBAAAAJECUzv////8jQBSY+////yNATBL/////I0CIHvz///8jQIZu/////yNAvLACAAAAJEDKzgEAAAAkQPskAAAAACRAA3AAAAAAJEAr9P////8jQBT+/////yNAvwQAAAAAJEDyBwAAAAAkQKUDAAAAACRAsgwAAAAAJECi+f////8jQGIsAAAAACRA6JUAAAAAJEAuKQAAAAAkQLqP/////yNAY2MAAAAAJEAz1gEAAAAkQDGv/////yNAZM78////I0BkGQEAAAAkQNWPCgAAACRApWkKAAAAJEAtGfT///8jQOFp3////yNAQoj8////I0A/tD0AAAAkQLD9QgAAACRA1B/a////I0CyffH///8jQOuw+f///yNAfajx////I0C9WwMAAAAkQCA8AgAAACRAEfb/////I0DVvwAAAAAkQC06AAAAACRAHBcAAAAAJEDfEAAAAAAkQBcBAAAAACRA3ff/////I0CKAAEAAAAkQFIvAwAAACRAzvYEAAAAJEAAYwMAAAAkQHQ6/////yNAlG/9////I0B/ZgIAAAAkQMR3BwAAACRA0nkDAAAAJEBw1u3///8jQFq/1////yNAyN/d////I0CwPRMAAAAkQK0cYAAAACRAmSlRAAAAJEDbeyMAAAAkQNDlDQAAACRAqy0IAAAAJEDC0wMAAAAkQONtAQAAACRAtt4AAAAAJEA=\",\"dtype\":\"float64\",\"shape\":[100]}},\"selected\":{\"id\":\"1096\",\"type\":\"Selection\"},\"selection_policy\":{\"id\":\"1097\",\"type\":\"UnionRenderers\"}},\"id\":\"1063\",\"type\":\"ColumnDataSource\"},{\"attributes\":{\"line_color\":\"#2ba02b\",\"line_width\":2,\"x\":{\"field\":\"x\"},\"y\":{\"field\":\"y\"}},\"id\":\"1064\",\"type\":\"Line\"},{\"attributes\":{\"source\":{\"id\":\"1080\",\"type\":\"ColumnDataSource\"}},\"id\":\"1084\",\"type\":\"CDSView\"},{\"attributes\":{\"label\":{\"value\":\"atp\"},\"renderers\":[{\"id\":\"1037\",\"type\":\"GlyphRenderer\"}]},\"id\":\"1047\",\"type\":\"LegendItem\"},{\"attributes\":{},\"id\":\"1096\",\"type\":\"Selection\"},{\"attributes\":{\"data_source\":{\"id\":\"1048\",\"type\":\"ColumnDataSource\"},\"glyph\":{\"id\":\"1049\",\"type\":\"Line\"},\"hover_glyph\":null,\"muted_glyph\":null,\"nonselection_glyph\":{\"id\":\"1050\",\"type\":\"Line\"},\"selection_glyph\":null,\"view\":{\"id\":\"1052\",\"type\":\"CDSView\"}},\"id\":\"1051\",\"type\":\"GlyphRenderer\"},{\"attributes\":{},\"id\":\"1061\",\"type\":\"UnionRenderers\"},{\"attributes\":{\"label\":{\"value\":\"atp synthase bound\"},\"renderers\":[{\"id\":\"1083\",\"type\":\"GlyphRenderer\"}]},\"id\":\"1098\",\"type\":\"LegendItem\"},{\"attributes\":{},\"id\":\"1024\",\"type\":\"SaveTool\"},{\"attributes\":{},\"id\":\"1025\",\"type\":\"ResetTool\"},{\"attributes\":{\"active_drag\":\"auto\",\"active_inspect\":\"auto\",\"active_multi\":null,\"active_scroll\":\"auto\",\"active_tap\":\"auto\",\"tools\":[{\"id\":\"1021\",\"type\":\"PanTool\"},{\"id\":\"1022\",\"type\":\"WheelZoomTool\"},{\"id\":\"1023\",\"type\":\"BoxZoomTool\"},{\"id\":\"1024\",\"type\":\"SaveTool\"},{\"id\":\"1025\",\"type\":\"ResetTool\"},{\"id\":\"1026\",\"type\":\"HelpTool\"}]},\"id\":\"1027\",\"type\":\"Toolbar\"},{\"attributes\":{},\"id\":\"1021\",\"type\":\"PanTool\"},{\"attributes\":{},\"id\":\"1026\",\"type\":\"HelpTool\"},{\"attributes\":{\"bottom_units\":\"screen\",\"fill_alpha\":{\"value\":0.5},\"fill_color\":{\"value\":\"lightgrey\"},\"left_units\":\"screen\",\"level\":\"overlay\",\"line_alpha\":{\"value\":1.0},\"line_color\":{\"value\":\"black\"},\"line_dash\":[4,4],\"line_width\":{\"value\":2},\"render_mode\":\"css\",\"right_units\":\"screen\",\"top_units\":\"screen\"},\"id\":\"1045\",\"type\":\"BoxAnnotation\"},{\"attributes\":{},\"id\":\"1097\",\"type\":\"UnionRenderers\"},{\"attributes\":{\"click_policy\":\"hide\",\"items\":[{\"id\":\"1047\",\"type\":\"LegendItem\"},{\"id\":\"1062\",\"type\":\"LegendItem\"},{\"id\":\"1079\",\"type\":\"LegendItem\"},{\"id\":\"1098\",\"type\":\"LegendItem\"}],\"location\":\"center_right\"},\"id\":\"1046\",\"type\":\"Legend\"},{\"attributes\":{\"label\":{\"value\":\"outside_H\"},\"renderers\":[{\"id\":\"1051\",\"type\":\"GlyphRenderer\"}]},\"id\":\"1062\",\"type\":\"LegendItem\"},{\"attributes\":{},\"id\":\"1022\",\"type\":\"WheelZoomTool\"},{\"attributes\":{\"data_source\":{\"id\":\"1063\",\"type\":\"ColumnDataSource\"},\"glyph\":{\"id\":\"1064\",\"type\":\"Line\"},\"hover_glyph\":null,\"muted_glyph\":null,\"nonselection_glyph\":{\"id\":\"1065\",\"type\":\"Line\"},\"selection_glyph\":null,\"view\":{\"id\":\"1067\",\"type\":\"CDSView\"}},\"id\":\"1066\",\"type\":\"GlyphRenderer\"},{\"attributes\":{},\"id\":\"1017\",\"type\":\"BasicTicker\"},{\"attributes\":{\"line_alpha\":0.1,\"line_color\":\"#1f77b4\",\"line_width\":2,\"x\":{\"field\":\"x\"},\"y\":{\"field\":\"y\"}},\"id\":\"1050\",\"type\":\"Line\"},{\"attributes\":{\"formatter\":{\"id\":\"1044\",\"type\":\"BasicTickFormatter\"},\"ticker\":{\"id\":\"1012\",\"type\":\"BasicTicker\"}},\"id\":\"1011\",\"type\":\"LinearAxis\"},{\"attributes\":{\"overlay\":{\"id\":\"1045\",\"type\":\"BoxAnnotation\"}},\"id\":\"1023\",\"type\":\"BoxZoomTool\"},{\"attributes\":{},\"id\":\"1112\",\"type\":\"Selection\"},{\"attributes\":{},\"id\":\"1042\",\"type\":\"BasicTickFormatter\"},{\"attributes\":{\"callback\":null,\"data\":{\"x\":{\"__ndarray__\":\"AAAAAAAAAAAxb2dIzNu5PzFvZ0jM28k/ZZNNNtlk0z8xb2dIzNvZP3+lQK1fKeA/ZZNNNtlk4z9LgVq/UqDmPzFvZ0jM2+k/F1100UUX7T9/pUCtXynwP3Icx3Ecx/E/ZZNNNtlk8z9YCtT6lQL1P0uBWr9SoPY/Pvjggw8++D8xb2dIzNv5PyTm7QyJefs/F1100UUX/T8K1PqVArX+P3+lQK1fKQBA+OCDDz74AEByHMdxHMcBQOtXCtT6lQJAZZNNNtlkA0DezpCYtzMEQFgK1PqVAgVA0UUXXXTRBUBLgVq/UqAGQMS8nSExbwdAPvjggw8+CEC3MyTm7QwJQDFvZ0jM2wlAq6qqqqqqCkAk5u0MiXkLQJ4hMW9nSAxAF1100UUXDUCRmLczJOYNQArU+pUCtQ5AhA8++OCDD0B/pUCtXykQQDtDYt7OkBBA+OCDDz74EEC1fqVArV8RQHIcx3EcxxFALrrooosuEkDrVwrU+pUSQKj1KwVq/RJAZZNNNtlkE0AiMW9nSMwTQN7OkJi3MxRAm2yyySabFEBYCtT6lQIVQBWo9SsFahVA0UUXXXTRFUCO4ziO4zgWQEuBWr9SoBZACB988MEHF0DEvJ0hMW8XQIFav1Kg1hdAPvjggw8+GED7lQK1fqUYQLczJObtDBlAdNFFF110GUAxb2dIzNsZQO4MiXk7QxpAq6qqqqqqGkBnSMzbGRIbQCTm7QyJeRtA4YMPPvjgG0CeITFvZ0gcQFq/UqDWrxxAF1100UUXHUDU+pUCtX4dQJGYtzMk5h1ATTbZZJNNHkAK1PqVArUeQMdxHMdxHB9AhA8++OCDH0BArV8pUOsfQH+lQK1fKSBAXXTRRRddIEA7Q2LezpAgQBoS83aGxCBA+OCDDz74IEDXrxSo9SshQLV+pUCtXyFAk0022WSTIUByHMdxHMchQFDrVwrU+iFALrrooosuIkANiXk7Q2IiQOtXCtT6lSJAyiabbLLJIkCo9SsFav0iQIbEvJ0hMSNAZZNNNtlkI0BDYt7OkJgjQCIxb2dIzCNAAAAAAAAAJEA=\",\"dtype\":\"float64\",\"shape\":[100]},\"y\":{\"__ndarray__\":\"AAAAAAAAJECTVWz5GNQRQFM2qasayf8/HAW/5p5V7D+KqkSoD0LZP8LxTr4ChMY/J3bHbS8StD/GUuYCT+ShP8Uq4cEB5o8/icp2ymJvfD+H5cuIB1lpP3anFlB8mFY/DdF6+W8kRD+pgBKJkfQxPxcKPud9ASA/i60JbTyJDD8pWb1fM3D5Ps8VKkNereY+RLZ3j7421D4kftizqATCPkL1lUGlD7A+OqqoiBOinD7H1Llhp4aJPsKQWgD5qHY+gkeYSJdJZD4lzTMx66lSPjCxlCE0TEA+LXKFbqXvMD72VLgXN4waPlY5UKZxJwg+zwi5W9x4+D2UI+JWhWrNPQqtAKFf6uA9PIy+lkbD470IbXdh97W4PZwQnpivnwE+yrlSupK23T3GWS9ywAv/PUDe89pKL9I9EC78h9+F9b17JMKXmOzsvTq7i1BpfbK9cHmZiN4AzL2sCwL8u6eXPfykI404uW495sVNYlsBg730T3z/Z8uPvaBBvWSyNX29/32WB/9lmb04yBPo6GyJPdiqwqNsMra9RRfhLjy90r366JVgFZi0vTDepOLFEMw98BW/C3/ZyL14euAIXmPtvTSN2esGM8Q9uDb9K8eM+T3wvu1IdJbhvUbIsZOvHxW+gkH1FE7TFL5etDInoc0XPqbRvkoOSzA+uMhh7dq9+z21RKq0INo+vpOWzKJsv0C+edEQyBTwMj6sK1YKlwQdPjZd/rxDPAk+5eNSO/yuHD534hfxF976vW8Irsgo4fG94Kj4iubTkz1FY+xPXvvXvZzG2ArvGb29qX9Q2/8ip73ANOZ5TeWgvTDxxHn63mG9rmsvECo4kD0kK7eODwngvYI4XB3Levm9swWQ8VXbA75hGW/oNhj7vWIY9iaqsNg9HrEjliuD9D0O8yI/LzTzvR+IFwQt3w2+rn79asvO+73xo9TViCkiPlXG/AdQIDQ+dQ5ZyBgQMT643vfJtj0jvjWotP4sB0i+KXeZumdKRL7O5Qla8L0xvoQqS1+tyxu+C0+rDGJbEL66jgVjPp7+vQRC62iP3ua9ZjrPR1/X270=\",\"dtype\":\"float64\",\"shape\":[100]}},\"selected\":{\"id\":\"1077\",\"type\":\"Selection\"},\"selection_policy\":{\"id\":\"1078\",\"type\":\"UnionRenderers\"}},\"id\":\"1048\",\"type\":\"ColumnDataSource\"},{\"attributes\":{\"label\":{\"value\":\"inside_H\"},\"renderers\":[{\"id\":\"1066\",\"type\":\"GlyphRenderer\"}]},\"id\":\"1079\",\"type\":\"LegendItem\"},{\"attributes\":{},\"id\":\"1113\",\"type\":\"UnionRenderers\"},{\"attributes\":{\"dimension\":1,\"ticker\":{\"id\":\"1017\",\"type\":\"BasicTicker\"}},\"id\":\"1020\",\"type\":\"Grid\"},{\"attributes\":{\"callback\":null},\"id\":\"1003\",\"type\":\"DataRange1d\"},{\"attributes\":{},\"id\":\"1060\",\"type\":\"Selection\"},{\"attributes\":{\"formatter\":{\"id\":\"1042\",\"type\":\"BasicTickFormatter\"},\"ticker\":{\"id\":\"1017\",\"type\":\"BasicTicker\"}},\"id\":\"1016\",\"type\":\"LinearAxis\"}],\"root_ids\":[\"1002\"]},\"title\":\"Bokeh Application\",\"version\":\"1.4.0\"}};\n",
       "  var render_items = [{\"docid\":\"c8612c51-168a-484d-a2eb-3ec97f0a3b32\",\"roots\":{\"1002\":\"6a25f3b4-39e0-4b5d-81b5-ff116d18fab0\"}}];\n",
       "  root.Bokeh.embed.embed_items_notebook(docs_json, render_items);\n",
       "\n",
       "  }\n",
       "  if (root.Bokeh !== undefined) {\n",
       "    embed_document(root);\n",
       "  } else {\n",
       "    var attempts = 0;\n",
       "    var timer = setInterval(function(root) {\n",
       "      if (root.Bokeh !== undefined) {\n",
       "        clearInterval(timer);\n",
       "        embed_document(root);\n",
       "      } else {\n",
       "        attempts++;\n",
       "        if (attempts > 100) {\n",
       "          clearInterval(timer);\n",
       "          console.log(\"Bokeh: ERROR: Unable to run BokehJS code because BokehJS library is missing\");\n",
       "        }\n",
       "      }\n",
       "    }, 10, root)\n",
       "  }\n",
       "})(window);"
      ],
      "application/vnd.bokehjs_exec.v0+json": ""
     },
     "metadata": {
      "application/vnd.bokehjs_exec.v0+json": {
       "id": "1002"
      }
     },
     "output_type": "display_data"
    }
   ],
   "source": [
    "p = bokeh.plotting.figure(width = 450, height = 300)\n",
    "plot_list = [ATP_id, outside_H_id, inside_H_id, atp_synthase_b_protein_id]\n",
    "plot_str = ['atp', 'outside_H', 'inside_H', 'atp synthase bound']\n",
    "# plot_list = [atp_synthase_b_protein_id,rna_atpsyn_id, atp_synthase_f_protein_id,dna_atpsyn_id,  ]\n",
    "# plot_str = [ 'bound atp synthase', 'atpsyn rna','free atp synthase', 'atpsyn dna', ]\n",
    "for i,item in enumerate(plot_list):\n",
    "    p.line(timepoints, results[item], line_width = 2, legend_label = plot_str[i], color = palette[i])\n",
    "    \n",
    "p.legend.location = 'center_right'\n",
    "p.legend.click_policy = 'hide'\n",
    "bokeh.io.show(p)\n"
   ]
  },
  {
   "cell_type": "markdown",
   "metadata": {},
   "source": [
    "**don't know problem with dna assembly process** ADD RNA POLYMERASES and mrna degradation (take rate params from default_parameters.txt)"
   ]
  },
  {
   "cell_type": "markdown",
   "metadata": {},
   "source": [
    "## Combine ATP synthase tx, tl, membrane integration, atp synthesis models & ATP USE \n",
    "---"
   ]
  },
  {
   "cell_type": "code",
   "execution_count": 29,
   "metadata": {},
   "outputs": [],
   "source": [
    "ss4_atp_use = createSubsystem('atp_use.xml', subsystemName = 'atp_use')"
   ]
  },
  {
   "cell_type": "code",
   "execution_count": 30,
   "metadata": {},
   "outputs": [],
   "source": [
    "atp_subsystem_w_use = ss1_atpsyn_txtl + ss2_atpsyn_mi + ss3_atpsynthesis + ss4_atp_use"
   ]
  },
  {
   "cell_type": "code",
   "execution_count": 31,
   "metadata": {},
   "outputs": [],
   "source": [
    "# SIMULATE WITH ATP SYNTHASE\n",
    "# Initial conditions\n",
    "spec_list_10 = ['dna_atpsyn', 'proton_outside_H', 'metabolite_atp']\n",
    "for i,spec in enumerate(spec_list_10):\n",
    "    atp_subsystem_w_use.setSpeciesAmount(spec,10)\n",
    "\n",
    "\n",
    "# timepoints and get results\n",
    "timepoints = np.linspace(0,10,100)\n",
    "results, _ = atp_subsystem_w_use.simulateWithBioscrape(timepoints, sbml_warnings = False)\n",
    "\n",
    "# Get species IDs\n",
    "ATP_id = atp_subsystem_w_use.getSpeciesByName('metabolite_atp').getId()\n",
    "ADP_id = atp_subsystem_w_use.getSpeciesByName('metabolite_adp').getId()\n",
    "\n",
    "outside_H_id = atp_subsystem_w_use.getSpeciesByName('proton_outside_H').getId()\n",
    "inside_H_id = atp_subsystem_w_use.getSpeciesByName('proton_inside_H').getId()\n",
    "atp_synthase_b_protein_id = atp_subsystem_w_use.getSpeciesByName('protein_atpsyn_b').getId()\n",
    "atp_synthase_f_protein_id = atp_subsystem_w_use.getSpeciesByName('protein_atpsyn').getId()"
   ]
  },
  {
   "cell_type": "code",
   "execution_count": 32,
   "metadata": {},
   "outputs": [],
   "source": [
    "# SIMUALTE WITHOUT ATP SYNTHASE\n",
    "#ss4_atp_use.setSpeciesAmount('proton_outside_H',10)\n",
    "ss4_atp_use.setSpeciesAmount('metabolite_atp',10)\n",
    "\n",
    "timepoints = np.linspace(0,10,100)\n",
    "results2, _ = ss4_atp_use.simulateWithBioscrape(timepoints, sbml_warnings = False)\n",
    "\n",
    "ATP_id2 = ss4_atp_use.getSpeciesByName('metabolite_atp').getId()"
   ]
  },
  {
   "cell_type": "code",
   "execution_count": 33,
   "metadata": {},
   "outputs": [
    {
     "data": {
      "text/html": [
       "\n",
       "\n",
       "\n",
       "\n",
       "\n",
       "\n",
       "  <div class=\"bk-root\" id=\"ad96d792-ce95-40d8-84d1-66acf8b5dbad\" data-root-id=\"2914\"></div>\n"
      ]
     },
     "metadata": {},
     "output_type": "display_data"
    },
    {
     "data": {
      "application/javascript": [
       "(function(root) {\n",
       "  function embed_document(root) {\n",
       "    \n",
       "  var docs_json = {\"025baf6a-a22b-417f-bab9-22633416f91b\":{\"roots\":{\"references\":[{\"attributes\":{\"children\":[{\"id\":\"2752\",\"subtype\":\"Figure\",\"type\":\"Plot\"},{\"id\":\"2867\",\"subtype\":\"Figure\",\"type\":\"Plot\"}]},\"id\":\"2914\",\"type\":\"Row\"},{\"attributes\":{\"source\":{\"id\":\"2813\",\"type\":\"ColumnDataSource\"}},\"id\":\"2817\",\"type\":\"CDSView\"},{\"attributes\":{\"active_drag\":\"auto\",\"active_inspect\":\"auto\",\"active_multi\":null,\"active_scroll\":\"auto\",\"active_tap\":\"auto\",\"tools\":[{\"id\":\"2773\",\"type\":\"PanTool\"},{\"id\":\"2774\",\"type\":\"WheelZoomTool\"},{\"id\":\"2775\",\"type\":\"BoxZoomTool\"},{\"id\":\"2776\",\"type\":\"SaveTool\"},{\"id\":\"2777\",\"type\":\"ResetTool\"},{\"id\":\"2778\",\"type\":\"HelpTool\"}]},\"id\":\"2779\",\"type\":\"Toolbar\"},{\"attributes\":{\"line_alpha\":0.1,\"line_color\":\"#1f77b4\",\"line_width\":2,\"x\":{\"field\":\"x\"},\"y\":{\"field\":\"y\"}},\"id\":\"2815\",\"type\":\"Line\"},{\"attributes\":{\"callback\":null,\"data\":{\"x\":{\"__ndarray__\":\"AAAAAAAAAAAxb2dIzNu5PzFvZ0jM28k/ZZNNNtlk0z8xb2dIzNvZP3+lQK1fKeA/ZZNNNtlk4z9LgVq/UqDmPzFvZ0jM2+k/F1100UUX7T9/pUCtXynwP3Icx3Ecx/E/ZZNNNtlk8z9YCtT6lQL1P0uBWr9SoPY/Pvjggw8++D8xb2dIzNv5PyTm7QyJefs/F1100UUX/T8K1PqVArX+P3+lQK1fKQBA+OCDDz74AEByHMdxHMcBQOtXCtT6lQJAZZNNNtlkA0DezpCYtzMEQFgK1PqVAgVA0UUXXXTRBUBLgVq/UqAGQMS8nSExbwdAPvjggw8+CEC3MyTm7QwJQDFvZ0jM2wlAq6qqqqqqCkAk5u0MiXkLQJ4hMW9nSAxAF1100UUXDUCRmLczJOYNQArU+pUCtQ5AhA8++OCDD0B/pUCtXykQQDtDYt7OkBBA+OCDDz74EEC1fqVArV8RQHIcx3EcxxFALrrooosuEkDrVwrU+pUSQKj1KwVq/RJAZZNNNtlkE0AiMW9nSMwTQN7OkJi3MxRAm2yyySabFEBYCtT6lQIVQBWo9SsFahVA0UUXXXTRFUCO4ziO4zgWQEuBWr9SoBZACB988MEHF0DEvJ0hMW8XQIFav1Kg1hdAPvjggw8+GED7lQK1fqUYQLczJObtDBlAdNFFF110GUAxb2dIzNsZQO4MiXk7QxpAq6qqqqqqGkBnSMzbGRIbQCTm7QyJeRtA4YMPPvjgG0CeITFvZ0gcQFq/UqDWrxxAF1100UUXHUDU+pUCtX4dQJGYtzMk5h1ATTbZZJNNHkAK1PqVArUeQMdxHMdxHB9AhA8++OCDH0BArV8pUOsfQH+lQK1fKSBAXXTRRRddIEA7Q2LezpAgQBoS83aGxCBA+OCDDz74IEDXrxSo9SshQLV+pUCtXyFAk0022WSTIUByHMdxHMchQFDrVwrU+iFALrrooosuIkANiXk7Q2IiQOtXCtT6lSJAyiabbLLJIkCo9SsFav0iQIbEvJ0hMSNAZZNNNtlkI0BDYt7OkJgjQCIxb2dIzCNAAAAAAAAAJEA=\",\"dtype\":\"float64\",\"shape\":[100]},\"y\":{\"__ndarray__\":\"AAAAAAAAAADMAKYG5ysWQDHx9KvcBiBA/ttBEqY6IkAfgQKD7zUjQORYNPXvpSNAwjVOodvXI0D/axuxG+4jQOGZqH8G+CNA7Qq8E3L8I0C2XZVvav4jQIS2IDxL/yNATqo/bq//I0BU5/MW3P8jQKSIlP7v/yNA0cS93fj/I0ANoQTS/P8jQKYTM5X+/yNAaLtLXv//I0CxK+23//8jQKTK39///yNARzau8f//I0DuDZ75//8jQCu1J/3//yNAyWG7/v//I0BnT2////8jQCqCv////yNAK0Hj////I0D6L/P///8jQAFK+v///yNAV3T9////I0CJ3f7///8jQId+/////yNASMb/////I0BG5v////8jQIf0/////yNA5fr/////I0C8/f////8jQP/+/////yNAj///////I0DQ//////8jQO3//////yNA+///////I0ABAAAAAAAkQAMAAAAAACRAAwAAAAAAJEADAAAAAAAkQAMAAAAAACRAAwAAAAAAJEADAAAAAAAkQAMAAAAAACRAAwAAAAAAJEADAAAAAAAkQAMAAAAAACRAAwAAAAAAJEADAAAAAAAkQAMAAAAAACRAAwAAAAAAJEADAAAAAAAkQAMAAAAAACRAAwAAAAAAJEADAAAAAAAkQAMAAAAAACRAAwAAAAAAJEADAAAAAAAkQAMAAAAAACRAAwAAAAAAJEADAAAAAAAkQAMAAAAAACRAAwAAAAAAJEADAAAAAAAkQAMAAAAAACRAAwAAAAAAJEADAAAAAAAkQAMAAAAAACRAAwAAAAAAJEADAAAAAAAkQAMAAAAAACRAAwAAAAAAJEADAAAAAAAkQAMAAAAAACRAAwAAAAAAJEADAAAAAAAkQAMAAAAAACRAAwAAAAAAJEADAAAAAAAkQAMAAAAAACRAAwAAAAAAJEADAAAAAAAkQAMAAAAAACRAAwAAAAAAJEADAAAAAAAkQAMAAAAAACRAAwAAAAAAJEADAAAAAAAkQAMAAAAAACRAAwAAAAAAJEADAAAAAAAkQAMAAAAAACRAAwAAAAAAJEA=\",\"dtype\":\"float64\",\"shape\":[100]}},\"selected\":{\"id\":\"2844\",\"type\":\"Selection\"},\"selection_policy\":{\"id\":\"2845\",\"type\":\"UnionRenderers\"}},\"id\":\"2813\",\"type\":\"ColumnDataSource\"},{\"attributes\":{\"text\":\"with ATP Use\"},\"id\":\"2868\",\"type\":\"Title\"},{\"attributes\":{},\"id\":\"2864\",\"type\":\"Selection\"},{\"attributes\":{\"line_color\":\"#9367bc\",\"line_width\":2,\"x\":{\"field\":\"x\"},\"y\":{\"field\":\"y\"}},\"id\":\"2830\",\"type\":\"Line\"},{\"attributes\":{},\"id\":\"2827\",\"type\":\"UnionRenderers\"},{\"attributes\":{},\"id\":\"2865\",\"type\":\"UnionRenderers\"},{\"attributes\":{},\"id\":\"2826\",\"type\":\"Selection\"},{\"attributes\":{\"source\":{\"id\":\"2829\",\"type\":\"ColumnDataSource\"}},\"id\":\"2833\",\"type\":\"CDSView\"},{\"attributes\":{\"data_source\":{\"id\":\"2847\",\"type\":\"ColumnDataSource\"},\"glyph\":{\"id\":\"2848\",\"type\":\"Line\"},\"hover_glyph\":null,\"muted_glyph\":null,\"nonselection_glyph\":{\"id\":\"2849\",\"type\":\"Line\"},\"selection_glyph\":null,\"view\":{\"id\":\"2851\",\"type\":\"CDSView\"}},\"id\":\"2850\",\"type\":\"GlyphRenderer\"},{\"attributes\":{},\"id\":\"2793\",\"type\":\"BasicTickFormatter\"},{\"attributes\":{\"label\":{\"value\":\"inside_H\"},\"renderers\":[{\"id\":\"2816\",\"type\":\"GlyphRenderer\"}]},\"id\":\"2828\",\"type\":\"LegendItem\"},{\"attributes\":{},\"id\":\"2844\",\"type\":\"Selection\"},{\"attributes\":{\"data_source\":{\"id\":\"2813\",\"type\":\"ColumnDataSource\"},\"glyph\":{\"id\":\"2814\",\"type\":\"Line\"},\"hover_glyph\":null,\"muted_glyph\":null,\"nonselection_glyph\":{\"id\":\"2815\",\"type\":\"Line\"},\"selection_glyph\":null,\"view\":{\"id\":\"2817\",\"type\":\"CDSView\"}},\"id\":\"2816\",\"type\":\"GlyphRenderer\"},{\"attributes\":{\"callback\":null,\"data\":{\"x\":{\"__ndarray__\":\"AAAAAAAAAAAxb2dIzNu5PzFvZ0jM28k/ZZNNNtlk0z8xb2dIzNvZP3+lQK1fKeA/ZZNNNtlk4z9LgVq/UqDmPzFvZ0jM2+k/F1100UUX7T9/pUCtXynwP3Icx3Ecx/E/ZZNNNtlk8z9YCtT6lQL1P0uBWr9SoPY/Pvjggw8++D8xb2dIzNv5PyTm7QyJefs/F1100UUX/T8K1PqVArX+P3+lQK1fKQBA+OCDDz74AEByHMdxHMcBQOtXCtT6lQJAZZNNNtlkA0DezpCYtzMEQFgK1PqVAgVA0UUXXXTRBUBLgVq/UqAGQMS8nSExbwdAPvjggw8+CEC3MyTm7QwJQDFvZ0jM2wlAq6qqqqqqCkAk5u0MiXkLQJ4hMW9nSAxAF1100UUXDUCRmLczJOYNQArU+pUCtQ5AhA8++OCDD0B/pUCtXykQQDtDYt7OkBBA+OCDDz74EEC1fqVArV8RQHIcx3EcxxFALrrooosuEkDrVwrU+pUSQKj1KwVq/RJAZZNNNtlkE0AiMW9nSMwTQN7OkJi3MxRAm2yyySabFEBYCtT6lQIVQBWo9SsFahVA0UUXXXTRFUCO4ziO4zgWQEuBWr9SoBZACB988MEHF0DEvJ0hMW8XQIFav1Kg1hdAPvjggw8+GED7lQK1fqUYQLczJObtDBlAdNFFF110GUAxb2dIzNsZQO4MiXk7QxpAq6qqqqqqGkBnSMzbGRIbQCTm7QyJeRtA4YMPPvjgG0CeITFvZ0gcQFq/UqDWrxxAF1100UUXHUDU+pUCtX4dQJGYtzMk5h1ATTbZZJNNHkAK1PqVArUeQMdxHMdxHB9AhA8++OCDH0BArV8pUOsfQH+lQK1fKSBAXXTRRRddIEA7Q2LezpAgQBoS83aGxCBA+OCDDz74IEDXrxSo9SshQLV+pUCtXyFAk0022WSTIUByHMdxHMchQFDrVwrU+iFALrrooosuIkANiXk7Q2IiQOtXCtT6lSJAyiabbLLJIkCo9SsFav0iQIbEvJ0hMSNAZZNNNtlkI0BDYt7OkJgjQCIxb2dIzCNAAAAAAAAAJEA=\",\"dtype\":\"float64\",\"shape\":[100]},\"y\":{\"__ndarray__\":\"AAAAAAAAAAAAqAWyIxhaP1a9skNdNIg/1Bbo8nnzoj+coK7zvtm0P1CfSEP66MI/6i6F2fxbzj9KzH3gn2fWP2GNL2Y8Gd8/V4eEB4yY5D/WmCoVQ0vqP+G4iG8ES/A/g4Bk/0608z8HqK5k+Fj3P4KXIkhVMPs/2gls2s4x/z9ifo9xhqoBQEACp4sKyQNA5R+qz7DwBUCELg81+B0IQCOps1emTQpAAiw/2cl8DEAK4/n2uqgOQHYlrFCNZxBARpgXPeh2EUDfXd3+g4ESQNQ3FImWhhNAPqK7FnSFFECtoYwcjX0VQNSBzSlsbhZAVlKRxLNXF0AC+G9LHDkYQKP3L+RxEhlAFx2HfZLjGUDwZ8bna6waQH0E+Af6bBtAcuOaJkUlHECTiO5bYNUcQKHRfBlofR1ARi360IAdHkDRsVC41bUeQKacRKmXRh9ATBsbHPzPH0BkFtcdHikgQCLf+AjKZiBAug1V5SChIEBe19eFQtggQBYWUDBPDCFAFqZnXGc9IUBv9et6q2shQP7TvMQ7lyFAWR61EDjAIUA69tyvv+YhQCNISU/xCiJAuchE3+osIkBbYwB/yUwiQE0CVGypaiJANJcz96WGIkDMGUR42aAiQCAk5UtduSJApvBoyEnQIkDR8fRItuUiQLVHuxy5+SJAqhRhmWcMI0CxQ+UL1h0jQB5MeNQXLiNAf6i/VD89I0DAR5QDXksjQOC3bW2EWCNAalhRP8JkI0CRxqpNJnAjQCrQNp6+eiNATRRFXpiEI0AaBgMRwI0jQPQ6RnFBliNAxNgNjSeeI0DWaY3JfKUjQK7wnepKrCNAvdiyHJuyI0DCnWf7dbgjQJjh75TjvSNA1XebeuvCI0BBmd2+lMcjQOZMewDmyyNACuNhcOXPI0A+ZD7XmNMjQCoLOJwF1yNAz6n1yjDaI0BA4I8XH90jQIyK/ObU3yNAZoz3TFbiI0Cl/Sgcp+QjQMoIVeLK5iNAByxp48ToI0A08Oc7mOojQEMBBsRH7CNAqsF+ItbtI0CObg3QRe8jQACeDReZ8CNAZezKF9LxI0A=\",\"dtype\":\"float64\",\"shape\":[100]}},\"selected\":{\"id\":\"2864\",\"type\":\"Selection\"},\"selection_policy\":{\"id\":\"2865\",\"type\":\"UnionRenderers\"}},\"id\":\"2829\",\"type\":\"ColumnDataSource\"},{\"attributes\":{\"callback\":null},\"id\":\"2870\",\"type\":\"DataRange1d\"},{\"attributes\":{\"source\":{\"id\":\"2786\",\"type\":\"ColumnDataSource\"}},\"id\":\"2790\",\"type\":\"CDSView\"},{\"attributes\":{\"overlay\":{\"id\":\"2796\",\"type\":\"BoxAnnotation\"}},\"id\":\"2775\",\"type\":\"BoxZoomTool\"},{\"attributes\":{\"line_alpha\":0.1,\"line_color\":\"#1f77b4\",\"line_width\":2,\"x\":{\"field\":\"x\"},\"y\":{\"field\":\"y\"}},\"id\":\"2831\",\"type\":\"Line\"},{\"attributes\":{\"data_source\":{\"id\":\"2829\",\"type\":\"ColumnDataSource\"},\"glyph\":{\"id\":\"2830\",\"type\":\"Line\"},\"hover_glyph\":null,\"muted_glyph\":null,\"nonselection_glyph\":{\"id\":\"2831\",\"type\":\"Line\"},\"selection_glyph\":null,\"view\":{\"id\":\"2833\",\"type\":\"CDSView\"}},\"id\":\"2832\",\"type\":\"GlyphRenderer\"},{\"attributes\":{\"source\":{\"id\":\"2847\",\"type\":\"ColumnDataSource\"}},\"id\":\"2851\",\"type\":\"CDSView\"},{\"attributes\":{\"callback\":null,\"data\":{\"x\":{\"__ndarray__\":\"AAAAAAAAAAAxb2dIzNu5PzFvZ0jM28k/ZZNNNtlk0z8xb2dIzNvZP3+lQK1fKeA/ZZNNNtlk4z9LgVq/UqDmPzFvZ0jM2+k/F1100UUX7T9/pUCtXynwP3Icx3Ecx/E/ZZNNNtlk8z9YCtT6lQL1P0uBWr9SoPY/Pvjggw8++D8xb2dIzNv5PyTm7QyJefs/F1100UUX/T8K1PqVArX+P3+lQK1fKQBA+OCDDz74AEByHMdxHMcBQOtXCtT6lQJAZZNNNtlkA0DezpCYtzMEQFgK1PqVAgVA0UUXXXTRBUBLgVq/UqAGQMS8nSExbwdAPvjggw8+CEC3MyTm7QwJQDFvZ0jM2wlAq6qqqqqqCkAk5u0MiXkLQJ4hMW9nSAxAF1100UUXDUCRmLczJOYNQArU+pUCtQ5AhA8++OCDD0B/pUCtXykQQDtDYt7OkBBA+OCDDz74EEC1fqVArV8RQHIcx3EcxxFALrrooosuEkDrVwrU+pUSQKj1KwVq/RJAZZNNNtlkE0AiMW9nSMwTQN7OkJi3MxRAm2yyySabFEBYCtT6lQIVQBWo9SsFahVA0UUXXXTRFUCO4ziO4zgWQEuBWr9SoBZACB988MEHF0DEvJ0hMW8XQIFav1Kg1hdAPvjggw8+GED7lQK1fqUYQLczJObtDBlAdNFFF110GUAxb2dIzNsZQO4MiXk7QxpAq6qqqqqqGkBnSMzbGRIbQCTm7QyJeRtA4YMPPvjgG0CeITFvZ0gcQFq/UqDWrxxAF1100UUXHUDU+pUCtX4dQJGYtzMk5h1ATTbZZJNNHkAK1PqVArUeQMdxHMdxHB9AhA8++OCDH0BArV8pUOsfQH+lQK1fKSBAXXTRRRddIEA7Q2LezpAgQBoS83aGxCBA+OCDDz74IEDXrxSo9SshQLV+pUCtXyFAk0022WSTIUByHMdxHMchQFDrVwrU+iFALrrooosuIkANiXk7Q2IiQOtXCtT6lSJAyiabbLLJIkCo9SsFav0iQIbEvJ0hMSNAZZNNNtlkI0BDYt7OkJgjQCIxb2dIzCNAAAAAAAAAJEA=\",\"dtype\":\"float64\",\"shape\":[100]},\"y\":{\"__ndarray__\":\"AAAAAAAAAABSagJpPJynP80CE4WHV8U/gT5zD/Gz1T8kJNnHIXDhPyonKzsOoeg/yslkN30H8D+CbBG8sLjzP+TMr32pSPc/GYBkHSuj+j+LRLNX47n9PwpwvU2mQQBAPDJWx958AUAAQjWOT40CQJeCKsThcgNApYPK1mwuBEDqoK0pfMEEQJSWKvweLgVAWOij/8B2BUBD24hJCp4FQC/PRHvFpgVAK/sOJMuTBUA9opaG8WcFQHCCrgQAJgVABp0Ql6XQBECsfR/JcWoEQBuvv8XP9QNAqcxOFAN1A0AgaYazJeoCQIH8b0wnVwJAp+5bQ829AUC/WM51sx8BQJaAEH1NfgBAHBzMpdC1/z+16M16WG3+P9sOptM9Jf0/mGw7S0vf+z95IvhID536P5yRrpLgX/k/ZgeR0OIo+D8NSN/xCvn2P7Un4Wsj0fU/ht6lR9Cx9D8xaFb7kpvzP0+d0gbOjvI/A44pWsiL8T/Z3Hp7sJLwPzFvKOg+R+8/lXPAATd97T/Vn3oWNcfrP16OVdUIJeo/HJnx5GmW6D+PftGa+xrnP3b5F1ZQsuU/xHlqhexb5D/FhqxYSRfjP/cWuifX4+E/gH9xlP/A4D8WCeLYTlzfP/TH25VgVd0/tKI7VvRr2z/SVOyvyJ7ZP27T3OGd7Nc/eLRoyjZU1j9fqJl/W9TUPy9pdDnZa9M/YDLLzYQZ0j8wBVy7OtzQP9x7RI3AZc8/eNKujsc4zT+ETD87ei/LPxSn5KjbR8k/21GWOwWAxz+NEDVIIdbFP8zRVbFwSMQ/L8Aj+0fVwj88GNKpD3vBP7KFqAVEOMA/Kg+rv+gWvj/wH9SJhea7P9vpLz7I3Lk/WdiTTjz3tz+z9IB+kDO2P9+7gzmUj7Q/ds6zhDYJsz8iYcLthJ6xP2iJLACqTbA/uEizv9cprj9uJmsLV+WrP60DHcPEyqk/md0zHkfXpz+PZ4lGLQimP1T4KLXyWqQ/Djk8lkPNoj/bmvDH5FyhP82dHRbJB6A/c7JHkAiYnT+NSCUekk+bPxTsr1/TMpk/o0yqiKo+lz8=\",\"dtype\":\"float64\",\"shape\":[100]}},\"selected\":{\"id\":\"3060\",\"type\":\"Selection\"},\"selection_policy\":{\"id\":\"3061\",\"type\":\"UnionRenderers\"}},\"id\":\"2847\",\"type\":\"ColumnDataSource\"},{\"attributes\":{\"bottom_units\":\"screen\",\"fill_alpha\":{\"value\":0.5},\"fill_color\":{\"value\":\"lightgrey\"},\"left_units\":\"screen\",\"level\":\"overlay\",\"line_alpha\":{\"value\":1.0},\"line_color\":{\"value\":\"black\"},\"line_dash\":[4,4],\"line_width\":{\"value\":2},\"render_mode\":\"css\",\"right_units\":\"screen\",\"top_units\":\"screen\"},\"id\":\"2796\",\"type\":\"BoxAnnotation\"},{\"attributes\":{\"line_color\":\"#8c564b\",\"line_width\":2,\"x\":{\"field\":\"x\"},\"y\":{\"field\":\"y\"}},\"id\":\"2848\",\"type\":\"Line\"},{\"attributes\":{\"data_source\":{\"id\":\"2799\",\"type\":\"ColumnDataSource\"},\"glyph\":{\"id\":\"2800\",\"type\":\"Line\"},\"hover_glyph\":null,\"muted_glyph\":null,\"nonselection_glyph\":{\"id\":\"2801\",\"type\":\"Line\"},\"selection_glyph\":null,\"view\":{\"id\":\"2803\",\"type\":\"CDSView\"}},\"id\":\"2802\",\"type\":\"GlyphRenderer\"},{\"attributes\":{\"line_color\":\"#1f77b3\",\"line_width\":2,\"x\":{\"field\":\"x\"},\"y\":{\"field\":\"y\"}},\"id\":\"2902\",\"type\":\"Line\"},{\"attributes\":{},\"id\":\"2773\",\"type\":\"PanTool\"},{\"attributes\":{},\"id\":\"2776\",\"type\":\"SaveTool\"},{\"attributes\":{},\"id\":\"2845\",\"type\":\"UnionRenderers\"},{\"attributes\":{},\"id\":\"2795\",\"type\":\"BasicTickFormatter\"},{\"attributes\":{},\"id\":\"2777\",\"type\":\"ResetTool\"},{\"attributes\":{\"source\":{\"id\":\"2799\",\"type\":\"ColumnDataSource\"}},\"id\":\"2803\",\"type\":\"CDSView\"},{\"attributes\":{\"label\":{\"value\":\"bound atp synthase\"},\"renderers\":[{\"id\":\"2832\",\"type\":\"GlyphRenderer\"}]},\"id\":\"2846\",\"type\":\"LegendItem\"},{\"attributes\":{},\"id\":\"2774\",\"type\":\"WheelZoomTool\"},{\"attributes\":{\"line_alpha\":0.1,\"line_color\":\"#1f77b4\",\"line_width\":2,\"x\":{\"field\":\"x\"},\"y\":{\"field\":\"y\"}},\"id\":\"2849\",\"type\":\"Line\"},{\"attributes\":{},\"id\":\"2778\",\"type\":\"HelpTool\"},{\"attributes\":{\"axis_label\":\"concentration\",\"formatter\":{\"id\":\"2793\",\"type\":\"BasicTickFormatter\"},\"ticker\":{\"id\":\"2769\",\"type\":\"BasicTicker\"}},\"id\":\"2768\",\"type\":\"LinearAxis\"},{\"attributes\":{},\"id\":\"2769\",\"type\":\"BasicTicker\"},{\"attributes\":{\"dimension\":1,\"ticker\":{\"id\":\"2769\",\"type\":\"BasicTicker\"}},\"id\":\"2772\",\"type\":\"Grid\"},{\"attributes\":{},\"id\":\"2884\",\"type\":\"BasicTicker\"},{\"attributes\":{},\"id\":\"2908\",\"type\":\"BasicTickFormatter\"},{\"attributes\":{\"data_source\":{\"id\":\"2901\",\"type\":\"ColumnDataSource\"},\"glyph\":{\"id\":\"2902\",\"type\":\"Line\"},\"hover_glyph\":null,\"muted_glyph\":null,\"nonselection_glyph\":{\"id\":\"2903\",\"type\":\"Line\"},\"selection_glyph\":null,\"view\":{\"id\":\"2905\",\"type\":\"CDSView\"}},\"id\":\"2904\",\"type\":\"GlyphRenderer\"},{\"attributes\":{\"line_color\":\"#2ba02b\",\"line_width\":2,\"x\":{\"field\":\"x\"},\"y\":{\"field\":\"y\"}},\"id\":\"2814\",\"type\":\"Line\"},{\"attributes\":{\"axis_label\":\"concentration\",\"formatter\":{\"id\":\"2908\",\"type\":\"BasicTickFormatter\"},\"ticker\":{\"id\":\"2884\",\"type\":\"BasicTicker\"}},\"id\":\"2883\",\"type\":\"LinearAxis\"},{\"attributes\":{\"below\":[{\"id\":\"2878\",\"type\":\"LinearAxis\"}],\"center\":[{\"id\":\"2882\",\"type\":\"Grid\"},{\"id\":\"2887\",\"type\":\"Grid\"},{\"id\":\"2912\",\"type\":\"Legend\"}],\"left\":[{\"id\":\"2883\",\"type\":\"LinearAxis\"}],\"plot_height\":350,\"plot_width\":450,\"renderers\":[{\"id\":\"2904\",\"type\":\"GlyphRenderer\"}],\"title\":{\"id\":\"2868\",\"type\":\"Title\"},\"toolbar\":{\"id\":\"2894\",\"type\":\"Toolbar\"},\"x_range\":{\"id\":\"2870\",\"type\":\"DataRange1d\"},\"x_scale\":{\"id\":\"2874\",\"type\":\"LinearScale\"},\"y_range\":{\"id\":\"2872\",\"type\":\"DataRange1d\"},\"y_scale\":{\"id\":\"2876\",\"type\":\"LinearScale\"}},\"id\":\"2867\",\"subtype\":\"Figure\",\"type\":\"Plot\"},{\"attributes\":{\"label\":{\"value\":\"atp\"},\"renderers\":[{\"id\":\"2789\",\"type\":\"GlyphRenderer\"}]},\"id\":\"2798\",\"type\":\"LegendItem\"},{\"attributes\":{\"callback\":null},\"id\":\"2757\",\"type\":\"DataRange1d\"},{\"attributes\":{\"line_alpha\":0.1,\"line_color\":\"#1f77b4\",\"line_width\":2,\"x\":{\"field\":\"x\"},\"y\":{\"field\":\"y\"}},\"id\":\"2903\",\"type\":\"Line\"},{\"attributes\":{},\"id\":\"2810\",\"type\":\"Selection\"},{\"attributes\":{\"ticker\":{\"id\":\"2764\",\"type\":\"BasicTicker\"}},\"id\":\"2767\",\"type\":\"Grid\"},{\"attributes\":{\"callback\":null,\"data\":{\"x\":{\"__ndarray__\":\"AAAAAAAAAAAxb2dIzNu5PzFvZ0jM28k/ZZNNNtlk0z8xb2dIzNvZP3+lQK1fKeA/ZZNNNtlk4z9LgVq/UqDmPzFvZ0jM2+k/F1100UUX7T9/pUCtXynwP3Icx3Ecx/E/ZZNNNtlk8z9YCtT6lQL1P0uBWr9SoPY/Pvjggw8++D8xb2dIzNv5PyTm7QyJefs/F1100UUX/T8K1PqVArX+P3+lQK1fKQBA+OCDDz74AEByHMdxHMcBQOtXCtT6lQJAZZNNNtlkA0DezpCYtzMEQFgK1PqVAgVA0UUXXXTRBUBLgVq/UqAGQMS8nSExbwdAPvjggw8+CEC3MyTm7QwJQDFvZ0jM2wlAq6qqqqqqCkAk5u0MiXkLQJ4hMW9nSAxAF1100UUXDUCRmLczJOYNQArU+pUCtQ5AhA8++OCDD0B/pUCtXykQQDtDYt7OkBBA+OCDDz74EEC1fqVArV8RQHIcx3EcxxFALrrooosuEkDrVwrU+pUSQKj1KwVq/RJAZZNNNtlkE0AiMW9nSMwTQN7OkJi3MxRAm2yyySabFEBYCtT6lQIVQBWo9SsFahVA0UUXXXTRFUCO4ziO4zgWQEuBWr9SoBZACB988MEHF0DEvJ0hMW8XQIFav1Kg1hdAPvjggw8+GED7lQK1fqUYQLczJObtDBlAdNFFF110GUAxb2dIzNsZQO4MiXk7QxpAq6qqqqqqGkBnSMzbGRIbQCTm7QyJeRtA4YMPPvjgG0CeITFvZ0gcQFq/UqDWrxxAF1100UUXHUDU+pUCtX4dQJGYtzMk5h1ATTbZZJNNHkAK1PqVArUeQMdxHMdxHB9AhA8++OCDH0BArV8pUOsfQH+lQK1fKSBAXXTRRRddIEA7Q2LezpAgQBoS83aGxCBA+OCDDz74IEDXrxSo9SshQLV+pUCtXyFAk0022WSTIUByHMdxHMchQFDrVwrU+iFALrrooosuIkANiXk7Q2IiQOtXCtT6lSJAyiabbLLJIkCo9SsFav0iQIbEvJ0hMSNAZZNNNtlkI0BDYt7OkJgjQCIxb2dIzCNAAAAAAAAAJEA=\",\"dtype\":\"float64\",\"shape\":[100]},\"y\":{\"__ndarray__\":\"AAAAAAAAJEC+/lfycyQYQGTvWr7+Yw1A2HwdM2VRA0CHx/h+tlQAQAFZQtg40QJAfm6VrExeCEA9yKWyg6EOQOkwaGBtIhJADNVl9CB1FEA2XVEheFQWQBpVr8k72RdAVq7tNAkZGUAWtF6W3iMaQGH+SflGBRtArGi1k7bFG0CM+x2VgGscQNn9l1l4+xxAhpwscVx5HUBe8vCfH+gdQJbjWO0bSh5AaSOGFzehHkCR5dEk/e4eQG19Zf6zNB9AqqbyKWpzH0C2Euf4AawfQHdBZCE63x9ApqZBNtoGIEDVdAd6/RsgQKKtfCRCLyBAg1y8YdtAIEAxUK+W9VAgQJDfk3W3XyBAtAuM30JtIEDQatedtXkgQAMEzvophSBA8wfUQLePIECktaQkcpkgQGBHLR5toiBAfbZ9s7iqIEAq73u4Y7IgQMBq+oR7uSBAg2XBIgzAIEB7IrF0IMYgQNzv/FnCyyBAu3f/yfrQIEDYf/bu0dUgQCOFQztP2iBAVotEfXneIEDPOe7vVuIgQISBl0nt5SBAGhEVyUHpIEDEeVFBWewgQEA3PSM47yBA9/HWhuLxIEBsjFczXPQgQPjPQ6ao9iBAAmnwGcv4IEAKNv6KxvogQFmdir2d/CBADGKpQlP+IEAltGl56f8gQKhD7phiASFAgUonrMACIUD7vJGaBQQhQNcOaiozBSFA4WXW/koGIUDHQI+gTgchQGqd1no/CCFANE/z4B4JIUCWJ1UN7gkhQAIx+yWuCiFA33bFO2ALIUCYU8tLBQwhQGwxS0SeDCFAASn3/ysNIUBXpGdMrw0hQIoz1ecoDiFACE11hJkOIUAtMtbGAQ8hQHxtREhiDyFAtIBjmbsPIUCZ5Rg9DhAhQHNW+LBaECFAkHL6ZqEQIUCPiZ7K4hAhQBRx7D4fESFAJGsZIVcRIUCU0MnGihEhQKdm5H66ESFAUrb0lOYRIUDgn7lMDxIhQPIEhuc0EiFAmCbenlcSIUBKTfGqdxIhQFHGOT+VEiFAcjThibASIUCZ8OG4yRIhQOIHRfPgEiFASLEPX/YSIUA=\",\"dtype\":\"float64\",\"shape\":[100]}},\"selected\":{\"id\":\"2810\",\"type\":\"Selection\"},\"selection_policy\":{\"id\":\"2811\",\"type\":\"UnionRenderers\"}},\"id\":\"2786\",\"type\":\"ColumnDataSource\"},{\"attributes\":{\"line_alpha\":0.1,\"line_color\":\"#1f77b4\",\"line_width\":2,\"x\":{\"field\":\"x\"},\"y\":{\"field\":\"y\"}},\"id\":\"2788\",\"type\":\"Line\"},{\"attributes\":{\"line_alpha\":0.1,\"line_color\":\"#1f77b4\",\"line_width\":2,\"x\":{\"field\":\"x\"},\"y\":{\"field\":\"y\"}},\"id\":\"2801\",\"type\":\"Line\"},{\"attributes\":{},\"id\":\"2889\",\"type\":\"WheelZoomTool\"},{\"attributes\":{\"ticker\":{\"id\":\"2879\",\"type\":\"BasicTicker\"}},\"id\":\"2882\",\"type\":\"Grid\"},{\"attributes\":{},\"id\":\"2764\",\"type\":\"BasicTicker\"},{\"attributes\":{\"line_color\":\"#ff7e0e\",\"line_width\":2,\"x\":{\"field\":\"x\"},\"y\":{\"field\":\"y\"}},\"id\":\"2800\",\"type\":\"Line\"},{\"attributes\":{},\"id\":\"3064\",\"type\":\"UnionRenderers\"},{\"attributes\":{\"axis_label\":\"time\",\"formatter\":{\"id\":\"2795\",\"type\":\"BasicTickFormatter\"},\"ticker\":{\"id\":\"2764\",\"type\":\"BasicTicker\"}},\"id\":\"2763\",\"type\":\"LinearAxis\"},{\"attributes\":{\"callback\":null,\"data\":{\"x\":{\"__ndarray__\":\"AAAAAAAAAAAxb2dIzNu5PzFvZ0jM28k/ZZNNNtlk0z8xb2dIzNvZP3+lQK1fKeA/ZZNNNtlk4z9LgVq/UqDmPzFvZ0jM2+k/F1100UUX7T9/pUCtXynwP3Icx3Ecx/E/ZZNNNtlk8z9YCtT6lQL1P0uBWr9SoPY/Pvjggw8++D8xb2dIzNv5PyTm7QyJefs/F1100UUX/T8K1PqVArX+P3+lQK1fKQBA+OCDDz74AEByHMdxHMcBQOtXCtT6lQJAZZNNNtlkA0DezpCYtzMEQFgK1PqVAgVA0UUXXXTRBUBLgVq/UqAGQMS8nSExbwdAPvjggw8+CEC3MyTm7QwJQDFvZ0jM2wlAq6qqqqqqCkAk5u0MiXkLQJ4hMW9nSAxAF1100UUXDUCRmLczJOYNQArU+pUCtQ5AhA8++OCDD0B/pUCtXykQQDtDYt7OkBBA+OCDDz74EEC1fqVArV8RQHIcx3EcxxFALrrooosuEkDrVwrU+pUSQKj1KwVq/RJAZZNNNtlkE0AiMW9nSMwTQN7OkJi3MxRAm2yyySabFEBYCtT6lQIVQBWo9SsFahVA0UUXXXTRFUCO4ziO4zgWQEuBWr9SoBZACB988MEHF0DEvJ0hMW8XQIFav1Kg1hdAPvjggw8+GED7lQK1fqUYQLczJObtDBlAdNFFF110GUAxb2dIzNsZQO4MiXk7QxpAq6qqqqqqGkBnSMzbGRIbQCTm7QyJeRtA4YMPPvjgG0CeITFvZ0gcQFq/UqDWrxxAF1100UUXHUDU+pUCtX4dQJGYtzMk5h1ATTbZZJNNHkAK1PqVArUeQMdxHMdxHB9AhA8++OCDH0BArV8pUOsfQH+lQK1fKSBAXXTRRRddIEA7Q2LezpAgQBoS83aGxCBA+OCDDz74IEDXrxSo9SshQLV+pUCtXyFAk0022WSTIUByHMdxHMchQFDrVwrU+iFALrrooosuIkANiXk7Q2IiQOtXCtT6lSJAyiabbLLJIkCo9SsFav0iQIbEvJ0hMSNAZZNNNtlkI0BDYt7OkJgjQCIxb2dIzCNAAAAAAAAAJEA=\",\"dtype\":\"float64\",\"shape\":[100]},\"y\":{\"__ndarray__\":\"AAAAAAAAJEBD28HAlSMYQBXAqIZzIg1A417ZVv2UAUBCZqhmeDj1P/zC6Jy4nOk/DleGy6Lp3j/Fid2orqfSPxO1Tr4ChMY/tvvsvN8suz+Uib3kTGawP5tP1b4jy6M/Gf+/E8njlz+uLAfqctWMP+36glaFZoE/sXM7lGIAdT9NbMuIB1lpP9/wO4rvl14/Arrb42B2Uj+ghIhPgUhGP2/F2mAK5To/M0ClT/I6MD/qb1R/z5YjP9ByGlqfpBc/9Pa5bDyJDD9B1LQdnDgBPz79Dhb+yPQ+CwNBUWcW6T5osP8QR0fePgaI83KdRdI+ZZz7XC8Nxj7P070f2J26PvKNKCMwDrA+AvoCCStdoz5aHqZGgGaXPuVUedlPQ4w+IBN4bZwZgT4OTvpaj8Z0PlKRXzF792g+B5jaJJKpXT6LIbMA25xRPsgqSY9LFkU+9y8xief1OT6sqXrvVCwwPmosOMBfASQ+1kd2H3x7GD46SKy2vewNPgqu1fn1YAI+JuMCgDWm9j14+T8PUxzlPTgc0eIx0L29BR+3yWoc5r1lfGtMbQXxvWjY3NSqwvO9kKMv/u1F8724u8eQbR7vvU9I1PH4Huy9GHbpYHj97b0IoecrEk7uvSHJzlLGEO29YO6e1ZRF6r3EEFi0fezlvV4w+u6ABeC9xjc6hzjb2L0kDP6tD83VvYDgwdTmvtK9umkL93thz72EEpNEKkXJvT67GpLYKMO978dEvw0Zur2T/aHjvOi3vRbg5ywokbe9l8ItdpM5t70ZpXO//uG2vZqHuQhqira9HGr/UdUytr2eTEWbQNu1vR8vi+Srg7W9oRHRLRcstb0j9BZ3gtS0vaPWXMDtfLS9JrmiCVkltL2om+hSxM2zvSl+LpwvdrO9q2B05Zoes70sQ7ouBseyva4lAHhxb7K9MAhGwdwXsr2y6osKSMCxvTTN0VOzaLG9tq8XnR4Rsb03kl3mibmwvbh0oy/1YbC9OlfpeGAKsL14c16El2WvvX046hZutq69fv11qUQHrr2CwgE8G1itvYSHjc7xqKy9iEwZYcj5q70=\",\"dtype\":\"float64\",\"shape\":[100]}},\"selected\":{\"id\":\"3063\",\"type\":\"Selection\"},\"selection_policy\":{\"id\":\"3064\",\"type\":\"UnionRenderers\"}},\"id\":\"2901\",\"type\":\"ColumnDataSource\"},{\"attributes\":{},\"id\":\"2910\",\"type\":\"BasicTickFormatter\"},{\"attributes\":{\"source\":{\"id\":\"2901\",\"type\":\"ColumnDataSource\"}},\"id\":\"2905\",\"type\":\"CDSView\"},{\"attributes\":{\"dimension\":1,\"ticker\":{\"id\":\"2884\",\"type\":\"BasicTicker\"}},\"id\":\"2887\",\"type\":\"Grid\"},{\"attributes\":{},\"id\":\"2759\",\"type\":\"LinearScale\"},{\"attributes\":{},\"id\":\"2879\",\"type\":\"BasicTicker\"},{\"attributes\":{\"axis_label\":\"time\",\"formatter\":{\"id\":\"2910\",\"type\":\"BasicTickFormatter\"},\"ticker\":{\"id\":\"2879\",\"type\":\"BasicTicker\"}},\"id\":\"2878\",\"type\":\"LinearAxis\"},{\"attributes\":{\"label\":{\"value\":\"outside_H\"},\"renderers\":[{\"id\":\"2802\",\"type\":\"GlyphRenderer\"}]},\"id\":\"2812\",\"type\":\"LegendItem\"},{\"attributes\":{\"text\":\"with ATP Synthase, ATP Use\"},\"id\":\"2753\",\"type\":\"Title\"},{\"attributes\":{},\"id\":\"2892\",\"type\":\"ResetTool\"},{\"attributes\":{\"items\":[{\"id\":\"2913\",\"type\":\"LegendItem\"}]},\"id\":\"2912\",\"type\":\"Legend\"},{\"attributes\":{\"items\":[{\"id\":\"2798\",\"type\":\"LegendItem\"},{\"id\":\"2812\",\"type\":\"LegendItem\"},{\"id\":\"2828\",\"type\":\"LegendItem\"},{\"id\":\"2846\",\"type\":\"LegendItem\"},{\"id\":\"2866\",\"type\":\"LegendItem\"}],\"location\":\"bottom_right\"},\"id\":\"2797\",\"type\":\"Legend\"},{\"attributes\":{\"line_color\":\"#1f77b3\",\"line_width\":2,\"x\":{\"field\":\"x\"},\"y\":{\"field\":\"y\"}},\"id\":\"2787\",\"type\":\"Line\"},{\"attributes\":{\"active_drag\":\"auto\",\"active_inspect\":\"auto\",\"active_multi\":null,\"active_scroll\":\"auto\",\"active_tap\":\"auto\",\"tools\":[{\"id\":\"2888\",\"type\":\"PanTool\"},{\"id\":\"2889\",\"type\":\"WheelZoomTool\"},{\"id\":\"2890\",\"type\":\"BoxZoomTool\"},{\"id\":\"2891\",\"type\":\"SaveTool\"},{\"id\":\"2892\",\"type\":\"ResetTool\"},{\"id\":\"2893\",\"type\":\"HelpTool\"}]},\"id\":\"2894\",\"type\":\"Toolbar\"},{\"attributes\":{},\"id\":\"2888\",\"type\":\"PanTool\"},{\"attributes\":{},\"id\":\"2811\",\"type\":\"UnionRenderers\"},{\"attributes\":{},\"id\":\"3061\",\"type\":\"UnionRenderers\"},{\"attributes\":{\"bottom_units\":\"screen\",\"fill_alpha\":{\"value\":0.5},\"fill_color\":{\"value\":\"lightgrey\"},\"left_units\":\"screen\",\"level\":\"overlay\",\"line_alpha\":{\"value\":1.0},\"line_color\":{\"value\":\"black\"},\"line_dash\":[4,4],\"line_width\":{\"value\":2},\"render_mode\":\"css\",\"right_units\":\"screen\",\"top_units\":\"screen\"},\"id\":\"2911\",\"type\":\"BoxAnnotation\"},{\"attributes\":{\"callback\":null},\"id\":\"2755\",\"type\":\"DataRange1d\"},{\"attributes\":{\"callback\":null},\"id\":\"2872\",\"type\":\"DataRange1d\"},{\"attributes\":{\"label\":{\"value\":\"atp\"},\"renderers\":[{\"id\":\"2904\",\"type\":\"GlyphRenderer\"}]},\"id\":\"2913\",\"type\":\"LegendItem\"},{\"attributes\":{},\"id\":\"2761\",\"type\":\"LinearScale\"},{\"attributes\":{},\"id\":\"2874\",\"type\":\"LinearScale\"},{\"attributes\":{\"below\":[{\"id\":\"2763\",\"type\":\"LinearAxis\"}],\"center\":[{\"id\":\"2767\",\"type\":\"Grid\"},{\"id\":\"2772\",\"type\":\"Grid\"},{\"id\":\"2797\",\"type\":\"Legend\"}],\"left\":[{\"id\":\"2768\",\"type\":\"LinearAxis\"}],\"plot_height\":350,\"plot_width\":450,\"renderers\":[{\"id\":\"2789\",\"type\":\"GlyphRenderer\"},{\"id\":\"2802\",\"type\":\"GlyphRenderer\"},{\"id\":\"2816\",\"type\":\"GlyphRenderer\"},{\"id\":\"2832\",\"type\":\"GlyphRenderer\"},{\"id\":\"2850\",\"type\":\"GlyphRenderer\"}],\"title\":{\"id\":\"2753\",\"type\":\"Title\"},\"toolbar\":{\"id\":\"2779\",\"type\":\"Toolbar\"},\"x_range\":{\"id\":\"2755\",\"type\":\"DataRange1d\"},\"x_scale\":{\"id\":\"2759\",\"type\":\"LinearScale\"},\"y_range\":{\"id\":\"2757\",\"type\":\"DataRange1d\"},\"y_scale\":{\"id\":\"2761\",\"type\":\"LinearScale\"}},\"id\":\"2752\",\"subtype\":\"Figure\",\"type\":\"Plot\"},{\"attributes\":{\"overlay\":{\"id\":\"2911\",\"type\":\"BoxAnnotation\"}},\"id\":\"2890\",\"type\":\"BoxZoomTool\"},{\"attributes\":{\"callback\":null,\"data\":{\"x\":{\"__ndarray__\":\"AAAAAAAAAAAxb2dIzNu5PzFvZ0jM28k/ZZNNNtlk0z8xb2dIzNvZP3+lQK1fKeA/ZZNNNtlk4z9LgVq/UqDmPzFvZ0jM2+k/F1100UUX7T9/pUCtXynwP3Icx3Ecx/E/ZZNNNtlk8z9YCtT6lQL1P0uBWr9SoPY/Pvjggw8++D8xb2dIzNv5PyTm7QyJefs/F1100UUX/T8K1PqVArX+P3+lQK1fKQBA+OCDDz74AEByHMdxHMcBQOtXCtT6lQJAZZNNNtlkA0DezpCYtzMEQFgK1PqVAgVA0UUXXXTRBUBLgVq/UqAGQMS8nSExbwdAPvjggw8+CEC3MyTm7QwJQDFvZ0jM2wlAq6qqqqqqCkAk5u0MiXkLQJ4hMW9nSAxAF1100UUXDUCRmLczJOYNQArU+pUCtQ5AhA8++OCDD0B/pUCtXykQQDtDYt7OkBBA+OCDDz74EEC1fqVArV8RQHIcx3EcxxFALrrooosuEkDrVwrU+pUSQKj1KwVq/RJAZZNNNtlkE0AiMW9nSMwTQN7OkJi3MxRAm2yyySabFEBYCtT6lQIVQBWo9SsFahVA0UUXXXTRFUCO4ziO4zgWQEuBWr9SoBZACB988MEHF0DEvJ0hMW8XQIFav1Kg1hdAPvjggw8+GED7lQK1fqUYQLczJObtDBlAdNFFF110GUAxb2dIzNsZQO4MiXk7QxpAq6qqqqqqGkBnSMzbGRIbQCTm7QyJeRtA4YMPPvjgG0CeITFvZ0gcQFq/UqDWrxxAF1100UUXHUDU+pUCtX4dQJGYtzMk5h1ATTbZZJNNHkAK1PqVArUeQMdxHMdxHB9AhA8++OCDH0BArV8pUOsfQH+lQK1fKSBAXXTRRRddIEA7Q2LezpAgQBoS83aGxCBA+OCDDz74IEDXrxSo9SshQLV+pUCtXyFAk0022WSTIUByHMdxHMchQFDrVwrU+iFALrrooosuIkANiXk7Q2IiQOtXCtT6lSJAyiabbLLJIkCo9SsFav0iQIbEvJ0hMSNAZZNNNtlkI0BDYt7OkJgjQCIxb2dIzCNAAAAAAAAAJEA=\",\"dtype\":\"float64\",\"shape\":[100]},\"y\":{\"__ndarray__\":\"AAAAAAAAJEA4/1n5GNQRQIJ2WKAayf8/PkDi255V7D883K+fD0LZPz/H6bIChMY/Vh/lWC8StD9XA5TkTuShP8uGmF0B5o8/sqSoH2JvfD/rvSSqBllpP0HCL+l7mFY/01ltFXAkRD/8ZVcMhvQxP80GX3drASA/I0HE7AiJDD95f6T32m/5PiwYsMXOrOY+cuksk4g21D7NqN8TtQTCPm5Iyq0aELA+Ou12cJOjnD5Cqg5FyIeJPgnE35pWwnY+KxTRYeNJZD5+l7ghExZSPtwkGbh1H0A+14OSvda+LD5MwTbGD6AZPuuupQIF2AY+hgN2Okld9D07f3IIeifiPWyP8/IYL9A93QgHX/ravD104P2rW7mpPTvx7mXJ7pY9mrkz88JxhD2sCez63zlyPSza3NOoP2A9GI95f7v4TD2CpDM9GdQ5Pbc8CS7OBic9KJnbAmeHFD1268iEP00CPcYWFM8EUfA8+yZfPcsX3TwDWuIE+e/JPMinPYbBH7c8CcL3UqqdpDxboELwQWGSPJDuban0YoA8ZSfp68Y3bTwL63AbFwxaPG797JXAOEc8AtFqUgy0NDxEBdjUMHUiPLrtkFmIdBA8LeX18eBW/TsnhRYchSnqO3M8mQa5Utc7KEU9IZ7MxDvSubsSt4qyO5wILU3RiKA7OHixh/15jTv2rrkin0l6O9JfrOG5b2c7p8dJehPlVDuO5s3tgqBCO630lV5ImzA75JbExxWdHTuIDTWABGcKO0BJfPEyhvc6A+WudoH85DqtMBu15LXSOmH4cNlbrsA6ALtJlRi+rTpxG8OFv4OaOvN6rdkYpIc66MXthgAUdTpw/rP8k8liOuPuYakHwVA6sLKXtbnfPTpKJ4ZwTaIqOpWOjgLNvhc6gLtwQwkrBTpmqvSeK9/yOWBMZzSa0+A5CuczFyMAzjnSaJi4F8G6OTfSJiHU1qc5GLodt5xGlTnziv4ahfeCOTRngTor4XA5U+LCDpsrXjlwqUzT/eVKOeq5s6Io+Tc5uFlVwF1mJTnS1I1ROhMTOWlgMqJkAQE5d7Ws+VJb7jg=\",\"dtype\":\"float64\",\"shape\":[100]}},\"selected\":{\"id\":\"2826\",\"type\":\"Selection\"},\"selection_policy\":{\"id\":\"2827\",\"type\":\"UnionRenderers\"}},\"id\":\"2799\",\"type\":\"ColumnDataSource\"},{\"attributes\":{},\"id\":\"2891\",\"type\":\"SaveTool\"},{\"attributes\":{},\"id\":\"2893\",\"type\":\"HelpTool\"},{\"attributes\":{},\"id\":\"3060\",\"type\":\"Selection\"},{\"attributes\":{},\"id\":\"2876\",\"type\":\"LinearScale\"},{\"attributes\":{\"label\":{\"value\":\"free atp synthase\"},\"renderers\":[{\"id\":\"2850\",\"type\":\"GlyphRenderer\"}]},\"id\":\"2866\",\"type\":\"LegendItem\"},{\"attributes\":{},\"id\":\"3063\",\"type\":\"Selection\"},{\"attributes\":{\"data_source\":{\"id\":\"2786\",\"type\":\"ColumnDataSource\"},\"glyph\":{\"id\":\"2787\",\"type\":\"Line\"},\"hover_glyph\":null,\"muted_glyph\":null,\"nonselection_glyph\":{\"id\":\"2788\",\"type\":\"Line\"},\"selection_glyph\":null,\"view\":{\"id\":\"2790\",\"type\":\"CDSView\"}},\"id\":\"2789\",\"type\":\"GlyphRenderer\"}],\"root_ids\":[\"2914\"]},\"title\":\"Bokeh Application\",\"version\":\"1.4.0\"}};\n",
       "  var render_items = [{\"docid\":\"025baf6a-a22b-417f-bab9-22633416f91b\",\"roots\":{\"2914\":\"ad96d792-ce95-40d8-84d1-66acf8b5dbad\"}}];\n",
       "  root.Bokeh.embed.embed_items_notebook(docs_json, render_items);\n",
       "\n",
       "  }\n",
       "  if (root.Bokeh !== undefined) {\n",
       "    embed_document(root);\n",
       "  } else {\n",
       "    var attempts = 0;\n",
       "    var timer = setInterval(function(root) {\n",
       "      if (root.Bokeh !== undefined) {\n",
       "        clearInterval(timer);\n",
       "        embed_document(root);\n",
       "      } else {\n",
       "        attempts++;\n",
       "        if (attempts > 100) {\n",
       "          clearInterval(timer);\n",
       "          console.log(\"Bokeh: ERROR: Unable to run BokehJS code because BokehJS library is missing\");\n",
       "        }\n",
       "      }\n",
       "    }, 10, root)\n",
       "  }\n",
       "})(window);"
      ],
      "application/vnd.bokehjs_exec.v0+json": ""
     },
     "metadata": {
      "application/vnd.bokehjs_exec.v0+json": {
       "id": "2914"
      }
     },
     "output_type": "display_data"
    }
   ],
   "source": [
    "# PLOT WITH ATP SYNTHASE\n",
    "p_w_atp = bokeh.plotting.figure(width = 450, height = 350, title = 'with ATP Synthase, ATP Use',\n",
    "                          x_axis_label = 'time',\n",
    "                          y_axis_label = 'concentration')\n",
    "plot_list = [ATP_id, outside_H_id, inside_H_id, atp_synthase_b_protein_id, atp_synthase_f_protein_id]\n",
    "plot_str = ['atp', 'outside_H', 'inside_H', 'bound atp synthase', 'free atp synthase']\n",
    "# plot_list = [atp_synthase_b_protein_id, atp_synthase_f_protein_id]\n",
    "# plot_str = ['atp synthase bound', 'atp synthase free']\n",
    "for i,item in enumerate(plot_list):\n",
    "    p_w_atp.line(timepoints, results[item], line_width = 2, legend_label = plot_str[i], color = palette[i])\n",
    "    \n",
    "\n",
    "# PLOT WITHOUT ATP SYNTHASE\n",
    "p_no_atp = bokeh.plotting.figure(width = 450, height = 350, title = 'with ATP Use',\n",
    "                          x_axis_label = 'time',\n",
    "                          y_axis_label = 'concentration')\n",
    "p_no_atp.line(timepoints, results2[ATP_id2], line_width = 2, legend_label = 'atp', color = palette[0])\n",
    "\n",
    "\n",
    "p_w_atp.legend.location = 'bottom_right'\n",
    "    \n",
    "bokeh.io.show(row(p_w_atp, p_no_atp))\n",
    "\n"
   ]
  },
  {
   "cell_type": "markdown",
   "metadata": {},
   "source": [
    "Nice we see that there's just a lower steady state when we add atp use, as expected"
   ]
  },
  {
   "cell_type": "markdown",
   "metadata": {},
   "source": [
    "But how come it's staying regenerated for ever. Once there's no more outside H, no flow in of protons so no ATP synthesis via atp synthase. But atp should still be used by the atp_use subsbml so why isn't atp degrading?"
   ]
  },
  {
   "cell_type": "markdown",
   "metadata": {},
   "source": [
    "We need to get it to say, once there is 1 atp synthase, something happens."
   ]
  },
  {
   "cell_type": "markdown",
   "metadata": {},
   "source": [
    "For the 'SBML for ATP synthesis via ATP synthase membrane protein' we need to include ATP synthase!!"
   ]
  },
  {
   "cell_type": "markdown",
   "metadata": {},
   "source": [
    "## Assemble SUbSBmls for Proton Pump\n",
    "---"
   ]
  },
  {
   "cell_type": "code",
   "execution_count": 17,
   "metadata": {},
   "outputs": [],
   "source": [
    "#ss5_pp_txtl = createSubsystem('proton_pump_tx_tl.xml', subsystemName = 'pp_txtl')\n",
    "ss5_pp_txtl = createSubsystem('proton_pump_simple_txtl.xml', subsystemName = 'pp_txtl')\n",
    "ss6_pp_mi = createSubsystem('proton_pump_membrane_integration.xml', subsystemName = 'pp_mi')\n",
    "ss7_protontransport = createSubsystem('proton_transport_through_proton_pump.xml', subsystemName = 'protontransport')"
   ]
  },
  {
   "cell_type": "code",
   "execution_count": 18,
   "metadata": {},
   "outputs": [],
   "source": [
    "pp_subsystem = ss5_pp_txtl + ss6_pp_mi + ss7_protontransport"
   ]
  },
  {
   "cell_type": "code",
   "execution_count": 19,
   "metadata": {},
   "outputs": [],
   "source": [
    "# Initial conditions\n",
    "spec_list_10 = ['dna_proton_pump', 'proton_outside_H', 'metabolite_atp']\n",
    "for i,spec in enumerate(spec_list_10):\n",
    "    pp_subsystem.setSpeciesAmount(spec,10)\n",
    "\n",
    "\n",
    "# timepoints and get results\n",
    "timepoints = np.linspace(0,100,100)\n",
    "results, _ = pp_subsystem.simulateWithBioscrape(timepoints, sbml_warnings = False)\n",
    "\n",
    "# Get species IDs\n",
    "ATP_id = pp_subsystem.getSpeciesByName('metabolite_atp').getId()\n",
    "ADP_id = pp_subsystem.getSpeciesByName('metabolite_adp').getId()\n",
    "\n",
    "outside_H_id = pp_subsystem.getSpeciesByName('proton_outside_H').getId()\n",
    "inside_H_id = pp_subsystem.getSpeciesByName('proton_inside_H').getId()\n",
    "proton_pump_b_protein_id = pp_subsystem.getSpeciesByName('protein_proton_pump_b').getId()\n",
    "proton_pump_f_protein_id = pp_subsystem.getSpeciesByName('protein_proton_pump').getId()"
   ]
  },
  {
   "cell_type": "code",
   "execution_count": 20,
   "metadata": {},
   "outputs": [
    {
     "data": {
      "text/plain": [
       "0      0.000000\n",
       "1      0.821687\n",
       "2      3.287915\n",
       "3      5.835647\n",
       "4      7.677573\n",
       "        ...    \n",
       "95    10.000000\n",
       "96    10.000000\n",
       "97    10.000000\n",
       "98    10.000000\n",
       "99    10.000000\n",
       "Name: protein_proton_pump_b_pp_mibiocrnpyler_865448, Length: 100, dtype: float64"
      ]
     },
     "execution_count": 20,
     "metadata": {},
     "output_type": "execute_result"
    }
   ],
   "source": [
    "results[proton_pump_b_protein_id]"
   ]
  },
  {
   "cell_type": "code",
   "execution_count": 21,
   "metadata": {},
   "outputs": [],
   "source": [
    "# timepoints = np.linspace(0,10,100)\n",
    "# results2, _ = pp_subsystem.simulateWithBioscrape(timepoints, sbml_warnings = False)"
   ]
  },
  {
   "cell_type": "code",
   "execution_count": 22,
   "metadata": {},
   "outputs": [
    {
     "data": {
      "text/html": [
       "\n",
       "\n",
       "\n",
       "\n",
       "\n",
       "\n",
       "  <div class=\"bk-root\" id=\"0173af0d-f138-4abd-bdf1-a7b3be728b33\" data-root-id=\"1516\"></div>\n"
      ]
     },
     "metadata": {},
     "output_type": "display_data"
    },
    {
     "data": {
      "application/javascript": [
       "(function(root) {\n",
       "  function embed_document(root) {\n",
       "    \n",
       "  var docs_json = {\"ba698760-af3e-477e-9598-67c0b595de37\":{\"roots\":{\"references\":[{\"attributes\":{\"below\":[{\"id\":\"1525\",\"type\":\"LinearAxis\"}],\"center\":[{\"id\":\"1529\",\"type\":\"Grid\"},{\"id\":\"1534\",\"type\":\"Grid\"},{\"id\":\"1560\",\"type\":\"Legend\"}],\"left\":[{\"id\":\"1530\",\"type\":\"LinearAxis\"}],\"plot_height\":350,\"plot_width\":450,\"renderers\":[{\"id\":\"1551\",\"type\":\"GlyphRenderer\"},{\"id\":\"1565\",\"type\":\"GlyphRenderer\"},{\"id\":\"1580\",\"type\":\"GlyphRenderer\"},{\"id\":\"1597\",\"type\":\"GlyphRenderer\"}],\"title\":{\"id\":\"1553\",\"type\":\"Title\"},\"toolbar\":{\"id\":\"1541\",\"type\":\"Toolbar\"},\"x_range\":{\"id\":\"1517\",\"type\":\"DataRange1d\"},\"x_scale\":{\"id\":\"1521\",\"type\":\"LinearScale\"},\"y_range\":{\"id\":\"1519\",\"type\":\"DataRange1d\"},\"y_scale\":{\"id\":\"1523\",\"type\":\"LinearScale\"}},\"id\":\"1516\",\"subtype\":\"Figure\",\"type\":\"Plot\"},{\"attributes\":{},\"id\":\"1663\",\"type\":\"Selection\"},{\"attributes\":{\"click_policy\":\"hide\",\"items\":[{\"id\":\"1561\",\"type\":\"LegendItem\"},{\"id\":\"1576\",\"type\":\"LegendItem\"},{\"id\":\"1593\",\"type\":\"LegendItem\"},{\"id\":\"1612\",\"type\":\"LegendItem\"}]},\"id\":\"1560\",\"type\":\"Legend\"},{\"attributes\":{},\"id\":\"1536\",\"type\":\"WheelZoomTool\"},{\"attributes\":{\"callback\":null},\"id\":\"1517\",\"type\":\"DataRange1d\"},{\"attributes\":{},\"id\":\"1535\",\"type\":\"PanTool\"},{\"attributes\":{\"text\":\"\"},\"id\":\"1553\",\"type\":\"Title\"},{\"attributes\":{\"callback\":null},\"id\":\"1519\",\"type\":\"DataRange1d\"},{\"attributes\":{\"callback\":null,\"data\":{\"x\":{\"__ndarray__\":\"AAAAAAAAAAB/pUCtXynwP3+lQK1fKQBAPvjggw8+CEB/pUCtXykQQN/OkJi3MxRAPvjggw8+GECeITFvZ0gcQH+lQK1fKSBAL7rooosuIkDfzpCYtzMkQI/jOI7jOCZAPvjggw8+KEDuDIl5O0MqQJ4hMW9nSCxATjbZZJNNLkB/pUCtXykwQNevFKj1KzFAL7rooosuMkCHxLydITEzQN/OkJi3MzRAN9lkk002NUCP4ziO4zg2QOftDIl5OzdAPvjggw8+OECWArV+pUA5QO4MiXk7QzpARhdddNFFO0CeITFvZ0g8QPYrBWr9Sj1ATjbZZJNNPkCmQK1fKVA/QH+lQK1fKUBAq6qqqqqqQEDXrxSo9StBQAO1fqVArUFAL7rooosuQkBbv1Kg1q9CQIfEvJ0hMUNAs8kmm2yyQ0DfzpCYtzNEQAvU+pUCtURAN9lkk002RUBj3s6QmLdFQI/jOI7jOEZAu+iiiy66RkDn7QyJeTtHQBPzdobEvEdAPvjggw8+SEBq/UqBWr9IQJYCtX6lQElAwgcffPDBSUDuDIl5O0NKQBoS83aGxEpARhdddNFFS0ByHMdxHMdLQJ4hMW9nSExAyiabbLLJTED2KwVq/UpNQCIxb2dIzE1ATjbZZJNNTkB6O0Ni3s5OQKZArV8pUE9A0kUXXXTRT0B/pUCtXylQQBWo9SsFalBAq6qqqqqqUEBBrV8pUOtQQNevFKj1K1FAbbLJJptsUUADtX6lQK1RQJm3MyTm7VFAL7rooosuUkDFvJ0hMW9SQFu/UqDWr1JA8cEHH3zwUkCHxLydITFTQB3HcRzHcVNAs8kmm2yyU0BJzNsZEvNTQN/OkJi3M1RAddFFF110VEAL1PqVArVUQKHWrxSo9VRAN9lkk002VUDN2xkS83ZVQGPezpCYt1VA+eCDDz74VUCP4ziO4zhWQCXm7QyJeVZAu+iiiy66VkBR61cK1PpWQOftDIl5O1dAffDBBx98V0AT83aGxLxXQKn1KwVq/VdAPvjggw8+WEDU+pUCtX5YQGr9SoFav1hAAAAAAAAAWUA=\",\"dtype\":\"float64\",\"shape\":[100]},\"y\":{\"__ndarray__\":\"AAAAAAAAJEAAAAAAAAAkQAAAAAAAACRAAAAAAAAAJEAAAAAAAAAkQAAAAAAAACRAAAAAAAAAJEAAAAAAAAAkQAAAAAAAACRAAAAAAAAAJEAAAAAAAAAkQAAAAAAAACRAAAAAAAAAJEAAAAAAAAAkQAAAAAAAACRAAAAAAAAAJEAAAAAAAAAkQAAAAAAAACRAAAAAAAAAJEAAAAAAAAAkQAAAAAAAACRAAAAAAAAAJEAAAAAAAAAkQAAAAAAAACRAAAAAAAAAJEAAAAAAAAAkQAAAAAAAACRAAAAAAAAAJEAAAAAAAAAkQAAAAAAAACRAAAAAAAAAJEAAAAAAAAAkQAAAAAAAACRAAAAAAAAAJEAAAAAAAAAkQAAAAAAAACRAAAAAAAAAJEAAAAAAAAAkQAAAAAAAACRAAAAAAAAAJEAAAAAAAAAkQAAAAAAAACRAAAAAAAAAJEAAAAAAAAAkQAAAAAAAACRAAAAAAAAAJEAAAAAAAAAkQAAAAAAAACRAAAAAAAAAJEAAAAAAAAAkQAAAAAAAACRAAAAAAAAAJEAAAAAAAAAkQAAAAAAAACRAAAAAAAAAJEAAAAAAAAAkQAAAAAAAACRAAAAAAAAAJEAAAAAAAAAkQAAAAAAAACRAAAAAAAAAJEAAAAAAAAAkQAAAAAAAACRAAAAAAAAAJEAAAAAAAAAkQAAAAAAAACRAAAAAAAAAJEAAAAAAAAAkQAAAAAAAACRAAAAAAAAAJEAAAAAAAAAkQAAAAAAAACRAAAAAAAAAJEAAAAAAAAAkQAAAAAAAACRAAAAAAAAAJEAAAAAAAAAkQAAAAAAAACRAAAAAAAAAJEAAAAAAAAAkQAAAAAAAACRAAAAAAAAAJEAAAAAAAAAkQAAAAAAAACRAAAAAAAAAJEAAAAAAAAAkQAAAAAAAACRAAAAAAAAAJEAAAAAAAAAkQAAAAAAAACRAAAAAAAAAJEAAAAAAAAAkQAAAAAAAACRAAAAAAAAAJEAAAAAAAAAkQAAAAAAAACRAAAAAAAAAJEAAAAAAAAAkQAAAAAAAACRAAAAAAAAAJEA=\",\"dtype\":\"float64\",\"shape\":[100]}},\"selected\":{\"id\":\"1574\",\"type\":\"Selection\"},\"selection_policy\":{\"id\":\"1575\",\"type\":\"UnionRenderers\"}},\"id\":\"1548\",\"type\":\"ColumnDataSource\"},{\"attributes\":{\"line_alpha\":0.1,\"line_color\":\"#1f77b4\",\"line_width\":2,\"x\":{\"field\":\"x\"},\"y\":{\"field\":\"y\"}},\"id\":\"1579\",\"type\":\"Line\"},{\"attributes\":{},\"id\":\"1664\",\"type\":\"UnionRenderers\"},{\"attributes\":{},\"id\":\"1521\",\"type\":\"LinearScale\"},{\"attributes\":{\"label\":{\"value\":\"atp\"},\"renderers\":[{\"id\":\"1551\",\"type\":\"GlyphRenderer\"}]},\"id\":\"1561\",\"type\":\"LegendItem\"},{\"attributes\":{\"data_source\":{\"id\":\"1577\",\"type\":\"ColumnDataSource\"},\"glyph\":{\"id\":\"1578\",\"type\":\"Line\"},\"hover_glyph\":null,\"muted_glyph\":null,\"nonselection_glyph\":{\"id\":\"1579\",\"type\":\"Line\"},\"selection_glyph\":null,\"view\":{\"id\":\"1581\",\"type\":\"CDSView\"}},\"id\":\"1580\",\"type\":\"GlyphRenderer\"},{\"attributes\":{},\"id\":\"1539\",\"type\":\"ResetTool\"},{\"attributes\":{\"source\":{\"id\":\"1577\",\"type\":\"ColumnDataSource\"}},\"id\":\"1581\",\"type\":\"CDSView\"},{\"attributes\":{},\"id\":\"1540\",\"type\":\"HelpTool\"},{\"attributes\":{\"line_color\":\"#ff7e0e\",\"line_width\":2,\"x\":{\"field\":\"x\"},\"y\":{\"field\":\"y\"}},\"id\":\"1563\",\"type\":\"Line\"},{\"attributes\":{},\"id\":\"1591\",\"type\":\"Selection\"},{\"attributes\":{},\"id\":\"1523\",\"type\":\"LinearScale\"},{\"attributes\":{\"label\":{\"value\":\"inside_H\"},\"renderers\":[{\"id\":\"1580\",\"type\":\"GlyphRenderer\"}]},\"id\":\"1593\",\"type\":\"LegendItem\"},{\"attributes\":{},\"id\":\"1558\",\"type\":\"BasicTickFormatter\"},{\"attributes\":{\"formatter\":{\"id\":\"1558\",\"type\":\"BasicTickFormatter\"},\"ticker\":{\"id\":\"1526\",\"type\":\"BasicTicker\"}},\"id\":\"1525\",\"type\":\"LinearAxis\"},{\"attributes\":{\"overlay\":{\"id\":\"1559\",\"type\":\"BoxAnnotation\"}},\"id\":\"1537\",\"type\":\"BoxZoomTool\"},{\"attributes\":{},\"id\":\"1592\",\"type\":\"UnionRenderers\"},{\"attributes\":{\"dimension\":1,\"ticker\":{\"id\":\"1531\",\"type\":\"BasicTicker\"}},\"id\":\"1534\",\"type\":\"Grid\"},{\"attributes\":{},\"id\":\"1526\",\"type\":\"BasicTicker\"},{\"attributes\":{\"callback\":null,\"data\":{\"x\":{\"__ndarray__\":\"AAAAAAAAAAB/pUCtXynwP3+lQK1fKQBAPvjggw8+CEB/pUCtXykQQN/OkJi3MxRAPvjggw8+GECeITFvZ0gcQH+lQK1fKSBAL7rooosuIkDfzpCYtzMkQI/jOI7jOCZAPvjggw8+KEDuDIl5O0MqQJ4hMW9nSCxATjbZZJNNLkB/pUCtXykwQNevFKj1KzFAL7rooosuMkCHxLydITEzQN/OkJi3MzRAN9lkk002NUCP4ziO4zg2QOftDIl5OzdAPvjggw8+OECWArV+pUA5QO4MiXk7QzpARhdddNFFO0CeITFvZ0g8QPYrBWr9Sj1ATjbZZJNNPkCmQK1fKVA/QH+lQK1fKUBAq6qqqqqqQEDXrxSo9StBQAO1fqVArUFAL7rooosuQkBbv1Kg1q9CQIfEvJ0hMUNAs8kmm2yyQ0DfzpCYtzNEQAvU+pUCtURAN9lkk002RUBj3s6QmLdFQI/jOI7jOEZAu+iiiy66RkDn7QyJeTtHQBPzdobEvEdAPvjggw8+SEBq/UqBWr9IQJYCtX6lQElAwgcffPDBSUDuDIl5O0NKQBoS83aGxEpARhdddNFFS0ByHMdxHMdLQJ4hMW9nSExAyiabbLLJTED2KwVq/UpNQCIxb2dIzE1ATjbZZJNNTkB6O0Ni3s5OQKZArV8pUE9A0kUXXXTRT0B/pUCtXylQQBWo9SsFalBAq6qqqqqqUEBBrV8pUOtQQNevFKj1K1FAbbLJJptsUUADtX6lQK1RQJm3MyTm7VFAL7rooosuUkDFvJ0hMW9SQFu/UqDWr1JA8cEHH3zwUkCHxLydITFTQB3HcRzHcVNAs8kmm2yyU0BJzNsZEvNTQN/OkJi3M1RAddFFF110VEAL1PqVArVUQKHWrxSo9VRAN9lkk002VUDN2xkS83ZVQGPezpCYt1VA+eCDDz74VUCP4ziO4zhWQCXm7QyJeVZAu+iiiy66VkBR61cK1PpWQOftDIl5O1dAffDBBx98V0AT83aGxLxXQKn1KwVq/VdAPvjggw8+WEDU+pUCtX5YQGr9SoFav1hAAAAAAAAAWUA=\",\"dtype\":\"float64\",\"shape\":[100]},\"y\":{\"__ndarray__\":\"AAAAAAAAAABuEZUTQ0vqP9FiBFWmTQpAtxIZwLNXF0CzwCO11bUeQLNhkMU7lyFABVxWy0nQIkDLynpQJnAjQIbo7JbjvSNAR8ZfTlbiI0AjKOrN8vIjQMFjj4tZ+iNARnHtT5b9I0BPjzhK+/4jQJER0hCT/yNALF3Z4dL/I0BDLih17f8jQNOzdm74/yNAYNbz7fz/I0D8QebC/v8jQPA3uYD//yNAoncozf//I0DZbMTr//8jQJJv9vf//yNA7rTM/P//I0DDNcT+//8jQBhMh////yNAPZbO////I0AAx+v///8jQNba9////yNA2rf8////I0DfhwAAAAAkQJedAgAAACRAHMICAAAAJEDoOwIAAAAkQBheAgAAACRACgICAAAAJECeLQEAAAAkQIfqAAAAACRAcKcAAAAAJEBYZAAAAAAkQMVFAAAAACRAxUMAAAAAJEDGQQAAAAAkQMc/AAAAACRAyD0AAAAAJEDJOwAAAAAkQMo5AAAAACRAyzcAAAAAJEDMNQAAAAAkQMwzAAAAACRAzTEAAAAAJEDOLwAAAAAkQM8tAAAAACRA0CsAAAAAJEDRKQAAAAAkQNInAAAAACRA0iUAAAAAJEDTIwAAAAAkQNQhAAAAACRA1R8AAAAAJEDWHQAAAAAkQNcbAAAAACRA2BkAAAAAJEDZFwAAAAAkQNkVAAAAACRA2hMAAAAAJEDbEQAAAAAkQNwPAAAAACRA3Q0AAAAAJEDeCwAAAAAkQN8JAAAAACRA4AcAAAAAJEDgBQAAAAAkQOEDAAAAACRAFwIAAAAAJEAIAgAAAAAkQPkBAAAAACRA6gEAAAAAJEDbAQAAAAAkQMsBAAAAACRAvAEAAAAAJECtAQAAAAAkQJ4BAAAAACRAjwEAAAAAJECAAQAAAAAkQHABAAAAACRAYQEAAAAAJEBSAQAAAAAkQEMBAAAAACRANAEAAAAAJEAlAQAAAAAkQBUBAAAAACRABgEAAAAAJED3AAAAAAAkQOgAAAAAACRA2QAAAAAAJEDJAAAAAAAkQLoAAAAAACRAqwAAAAAAJEA=\",\"dtype\":\"float64\",\"shape\":[100]}},\"selected\":{\"id\":\"1663\",\"type\":\"Selection\"},\"selection_policy\":{\"id\":\"1664\",\"type\":\"UnionRenderers\"}},\"id\":\"1594\",\"type\":\"ColumnDataSource\"},{\"attributes\":{\"ticker\":{\"id\":\"1526\",\"type\":\"BasicTicker\"}},\"id\":\"1529\",\"type\":\"Grid\"},{\"attributes\":{\"callback\":null,\"data\":{\"x\":{\"__ndarray__\":\"AAAAAAAAAAB/pUCtXynwP3+lQK1fKQBAPvjggw8+CEB/pUCtXykQQN/OkJi3MxRAPvjggw8+GECeITFvZ0gcQH+lQK1fKSBAL7rooosuIkDfzpCYtzMkQI/jOI7jOCZAPvjggw8+KEDuDIl5O0MqQJ4hMW9nSCxATjbZZJNNLkB/pUCtXykwQNevFKj1KzFAL7rooosuMkCHxLydITEzQN/OkJi3MzRAN9lkk002NUCP4ziO4zg2QOftDIl5OzdAPvjggw8+OECWArV+pUA5QO4MiXk7QzpARhdddNFFO0CeITFvZ0g8QPYrBWr9Sj1ATjbZZJNNPkCmQK1fKVA/QH+lQK1fKUBAq6qqqqqqQEDXrxSo9StBQAO1fqVArUFAL7rooosuQkBbv1Kg1q9CQIfEvJ0hMUNAs8kmm2yyQ0DfzpCYtzNEQAvU+pUCtURAN9lkk002RUBj3s6QmLdFQI/jOI7jOEZAu+iiiy66RkDn7QyJeTtHQBPzdobEvEdAPvjggw8+SEBq/UqBWr9IQJYCtX6lQElAwgcffPDBSUDuDIl5O0NKQBoS83aGxEpARhdddNFFS0ByHMdxHMdLQJ4hMW9nSExAyiabbLLJTED2KwVq/UpNQCIxb2dIzE1ATjbZZJNNTkB6O0Ni3s5OQKZArV8pUE9A0kUXXXTRT0B/pUCtXylQQBWo9SsFalBAq6qqqqqqUEBBrV8pUOtQQNevFKj1K1FAbbLJJptsUUADtX6lQK1RQJm3MyTm7VFAL7rooosuUkDFvJ0hMW9SQFu/UqDWr1JA8cEHH3zwUkCHxLydITFTQB3HcRzHcVNAs8kmm2yyU0BJzNsZEvNTQN/OkJi3M1RAddFFF110VEAL1PqVArVUQKHWrxSo9VRAN9lkk002VUDN2xkS83ZVQGPezpCYt1VA+eCDDz74VUCP4ziO4zhWQCXm7QyJeVZAu+iiiy66VkBR61cK1PpWQOftDIl5O1dAffDBBx98V0AT83aGxLxXQKn1KwVq/VdAPvjggw8+WEDU+pUCtX5YQGr9SoFav1hAAAAAAAAAWUA=\",\"dtype\":\"float64\",\"shape\":[100]},\"y\":{\"__ndarray__\":\"AAAAAAAAJEAAAAAAAAAkQAAAAAAAACRAAAAAAAAAJEAAAAAAAAAkQAAAAAAAACRAAAAAAAAAJEAAAAAAAAAkQAAAAAAAACRAAAAAAAAAJEAAAAAAAAAkQAAAAAAAACRAAAAAAAAAJEAAAAAAAAAkQAAAAAAAACRAAAAAAAAAJEAAAAAAAAAkQAAAAAAAACRAAAAAAAAAJEAAAAAAAAAkQAAAAAAAACRAAAAAAAAAJEAAAAAAAAAkQAAAAAAAACRAAAAAAAAAJEAAAAAAAAAkQAAAAAAAACRAAAAAAAAAJEAAAAAAAAAkQAAAAAAAACRAAAAAAAAAJEAAAAAAAAAkQAAAAAAAACRAAAAAAAAAJEAAAAAAAAAkQAAAAAAAACRAAAAAAAAAJEAAAAAAAAAkQAAAAAAAACRAAAAAAAAAJEAAAAAAAAAkQAAAAAAAACRAAAAAAAAAJEAAAAAAAAAkQAAAAAAAACRAAAAAAAAAJEAAAAAAAAAkQAAAAAAAACRAAAAAAAAAJEAAAAAAAAAkQAAAAAAAACRAAAAAAAAAJEAAAAAAAAAkQAAAAAAAACRAAAAAAAAAJEAAAAAAAAAkQAAAAAAAACRAAAAAAAAAJEAAAAAAAAAkQAAAAAAAACRAAAAAAAAAJEAAAAAAAAAkQAAAAAAAACRAAAAAAAAAJEAAAAAAAAAkQAAAAAAAACRAAAAAAAAAJEAAAAAAAAAkQAAAAAAAACRAAAAAAAAAJEAAAAAAAAAkQAAAAAAAACRAAAAAAAAAJEAAAAAAAAAkQAAAAAAAACRAAAAAAAAAJEAAAAAAAAAkQAAAAAAAACRAAAAAAAAAJEAAAAAAAAAkQAAAAAAAACRAAAAAAAAAJEAAAAAAAAAkQAAAAAAAACRAAAAAAAAAJEAAAAAAAAAkQAAAAAAAACRAAAAAAAAAJEAAAAAAAAAkQAAAAAAAACRAAAAAAAAAJEAAAAAAAAAkQAAAAAAAACRAAAAAAAAAJEAAAAAAAAAkQAAAAAAAACRAAAAAAAAAJEAAAAAAAAAkQAAAAAAAACRAAAAAAAAAJEA=\",\"dtype\":\"float64\",\"shape\":[100]}},\"selected\":{\"id\":\"1591\",\"type\":\"Selection\"},\"selection_policy\":{\"id\":\"1592\",\"type\":\"UnionRenderers\"}},\"id\":\"1562\",\"type\":\"ColumnDataSource\"},{\"attributes\":{\"line_color\":\"#9367bc\",\"line_width\":2,\"x\":{\"field\":\"x\"},\"y\":{\"field\":\"y\"}},\"id\":\"1595\",\"type\":\"Line\"},{\"attributes\":{},\"id\":\"1538\",\"type\":\"SaveTool\"},{\"attributes\":{\"line_color\":\"#1f77b3\",\"line_width\":2,\"x\":{\"field\":\"x\"},\"y\":{\"field\":\"y\"}},\"id\":\"1549\",\"type\":\"Line\"},{\"attributes\":{\"line_alpha\":0.1,\"line_color\":\"#1f77b4\",\"line_width\":2,\"x\":{\"field\":\"x\"},\"y\":{\"field\":\"y\"}},\"id\":\"1564\",\"type\":\"Line\"},{\"attributes\":{\"formatter\":{\"id\":\"1556\",\"type\":\"BasicTickFormatter\"},\"ticker\":{\"id\":\"1531\",\"type\":\"BasicTicker\"}},\"id\":\"1530\",\"type\":\"LinearAxis\"},{\"attributes\":{\"line_alpha\":0.1,\"line_color\":\"#1f77b4\",\"line_width\":2,\"x\":{\"field\":\"x\"},\"y\":{\"field\":\"y\"}},\"id\":\"1596\",\"type\":\"Line\"},{\"attributes\":{\"data_source\":{\"id\":\"1562\",\"type\":\"ColumnDataSource\"},\"glyph\":{\"id\":\"1563\",\"type\":\"Line\"},\"hover_glyph\":null,\"muted_glyph\":null,\"nonselection_glyph\":{\"id\":\"1564\",\"type\":\"Line\"},\"selection_glyph\":null,\"view\":{\"id\":\"1566\",\"type\":\"CDSView\"}},\"id\":\"1565\",\"type\":\"GlyphRenderer\"},{\"attributes\":{\"data_source\":{\"id\":\"1594\",\"type\":\"ColumnDataSource\"},\"glyph\":{\"id\":\"1595\",\"type\":\"Line\"},\"hover_glyph\":null,\"muted_glyph\":null,\"nonselection_glyph\":{\"id\":\"1596\",\"type\":\"Line\"},\"selection_glyph\":null,\"view\":{\"id\":\"1598\",\"type\":\"CDSView\"}},\"id\":\"1597\",\"type\":\"GlyphRenderer\"},{\"attributes\":{\"active_drag\":\"auto\",\"active_inspect\":\"auto\",\"active_multi\":null,\"active_scroll\":\"auto\",\"active_tap\":\"auto\",\"tools\":[{\"id\":\"1535\",\"type\":\"PanTool\"},{\"id\":\"1536\",\"type\":\"WheelZoomTool\"},{\"id\":\"1537\",\"type\":\"BoxZoomTool\"},{\"id\":\"1538\",\"type\":\"SaveTool\"},{\"id\":\"1539\",\"type\":\"ResetTool\"},{\"id\":\"1540\",\"type\":\"HelpTool\"}]},\"id\":\"1541\",\"type\":\"Toolbar\"},{\"attributes\":{\"callback\":null,\"data\":{\"x\":{\"__ndarray__\":\"AAAAAAAAAAB/pUCtXynwP3+lQK1fKQBAPvjggw8+CEB/pUCtXykQQN/OkJi3MxRAPvjggw8+GECeITFvZ0gcQH+lQK1fKSBAL7rooosuIkDfzpCYtzMkQI/jOI7jOCZAPvjggw8+KEDuDIl5O0MqQJ4hMW9nSCxATjbZZJNNLkB/pUCtXykwQNevFKj1KzFAL7rooosuMkCHxLydITEzQN/OkJi3MzRAN9lkk002NUCP4ziO4zg2QOftDIl5OzdAPvjggw8+OECWArV+pUA5QO4MiXk7QzpARhdddNFFO0CeITFvZ0g8QPYrBWr9Sj1ATjbZZJNNPkCmQK1fKVA/QH+lQK1fKUBAq6qqqqqqQEDXrxSo9StBQAO1fqVArUFAL7rooosuQkBbv1Kg1q9CQIfEvJ0hMUNAs8kmm2yyQ0DfzpCYtzNEQAvU+pUCtURAN9lkk002RUBj3s6QmLdFQI/jOI7jOEZAu+iiiy66RkDn7QyJeTtHQBPzdobEvEdAPvjggw8+SEBq/UqBWr9IQJYCtX6lQElAwgcffPDBSUDuDIl5O0NKQBoS83aGxEpARhdddNFFS0ByHMdxHMdLQJ4hMW9nSExAyiabbLLJTED2KwVq/UpNQCIxb2dIzE1ATjbZZJNNTkB6O0Ni3s5OQKZArV8pUE9A0kUXXXTRT0B/pUCtXylQQBWo9SsFalBAq6qqqqqqUEBBrV8pUOtQQNevFKj1K1FAbbLJJptsUUADtX6lQK1RQJm3MyTm7VFAL7rooosuUkDFvJ0hMW9SQFu/UqDWr1JA8cEHH3zwUkCHxLydITFTQB3HcRzHcVNAs8kmm2yyU0BJzNsZEvNTQN/OkJi3M1RAddFFF110VEAL1PqVArVUQKHWrxSo9VRAN9lkk002VUDN2xkS83ZVQGPezpCYt1VA+eCDDz74VUCP4ziO4zhWQCXm7QyJeVZAu+iiiy66VkBR61cK1PpWQOftDIl5O1dAffDBBx98V0AT83aGxLxXQKn1KwVq/VdAPvjggw8+WEDU+pUCtX5YQGr9SoFav1hAAAAAAAAAWUA=\",\"dtype\":\"float64\",\"shape\":[100]},\"y\":{\"__ndarray__\":\"AAAAAAAAAAAAAAAAAAAAAAAAAAAAAAAAAAAAAAAAAAAAAAAAAAAAAAAAAAAAAAAAAAAAAAAAAAAAAAAAAAAAAAAAAAAAAAAAAAAAAAAAAAAAAAAAAAAAAAAAAAAAAAAAAAAAAAAAAAAAAAAAAAAAAAAAAAAAAAAAAAAAAAAAAAAAAAAAAAAAAAAAAAAAAAAAAAAAAAAAAAAAAAAAAAAAAAAAAAAAAAAAAAAAAAAAAAAAAAAAAAAAAAAAAAAAAAAAAAAAAAAAAAAAAAAAAAAAAAAAAAAAAAAAAAAAAAAAAAAAAAAAAAAAAAAAAAAAAAAAAAAAAAAAAAAAAAAAAAAAAAAAAAAAAAAAAAAAAAAAAAAAAAAAAAAAAAAAAAAAAAAAAAAAAAAAAAAAAAAAAAAAAAAAAAAAAAAAAAAAAAAAAAAAAAAAAAAAAAAAAAAAAAAAAAAAAAAAAAAAAAAAAAAAAAAAAAAAAAAAAAAAAAAAAAAAAAAAAAAAAAAAAAAAAAAAAAAAAAAAAAAAAAAAAAAAAAAAAAAAAAAAAAAAAAAAAAAAAAAAAAAAAAAAAAAAAAAAAAAAAAAAAAAAAAAAAAAAAAAAAAAAAAAAAAAAAAAAAAAAAAAAAAAAAAAAAAAAAAAAAAAAAAAAAAAAAAAAAAAAAAAAAAAAAAAAAAAAAAAAAAAAAAAAAAAAAAAAAAAAAAAAAAAAAAAAAAAAAAAAAAAAAAAAAAAAAAAAAAAAAAAAAAAAAAAAAAAAAAAAAAAAAAAAAAAAAAAAAAAAAAAAAAAAAAAAAAAAAAAAAAAAAAAAAAAAAAAAAAAAAAAAAAAAAAAAAAAAAAAAAAAAAAAAAAAAAAAAAAAAAAAAAAAAAAAAAAAAAAAAAAAAAAAAAAAAAAAAAAAAAAAAAAAAAAAAAAAAAAAAAAAAAAAAAAAAAAAAAAAAAAAAAAAAAAAAAAAAAAAAAAAAAAAAAAAAAAAAAAAAAAAAAAAAAAAAAAAAAAAAAAAAAAAAAAAAAAAAAAAAAAAAAAAAAAAAAAAAAAAAAAAAAAAAAAAAAAAAAAAAAAAAAAA=\",\"dtype\":\"float64\",\"shape\":[100]}},\"selected\":{\"id\":\"1610\",\"type\":\"Selection\"},\"selection_policy\":{\"id\":\"1611\",\"type\":\"UnionRenderers\"}},\"id\":\"1577\",\"type\":\"ColumnDataSource\"},{\"attributes\":{\"line_color\":\"#2ba02b\",\"line_width\":2,\"x\":{\"field\":\"x\"},\"y\":{\"field\":\"y\"}},\"id\":\"1578\",\"type\":\"Line\"},{\"attributes\":{\"bottom_units\":\"screen\",\"fill_alpha\":{\"value\":0.5},\"fill_color\":{\"value\":\"lightgrey\"},\"left_units\":\"screen\",\"level\":\"overlay\",\"line_alpha\":{\"value\":1.0},\"line_color\":{\"value\":\"black\"},\"line_dash\":[4,4],\"line_width\":{\"value\":2},\"render_mode\":\"css\",\"right_units\":\"screen\",\"top_units\":\"screen\"},\"id\":\"1559\",\"type\":\"BoxAnnotation\"},{\"attributes\":{\"source\":{\"id\":\"1562\",\"type\":\"ColumnDataSource\"}},\"id\":\"1566\",\"type\":\"CDSView\"},{\"attributes\":{\"source\":{\"id\":\"1594\",\"type\":\"ColumnDataSource\"}},\"id\":\"1598\",\"type\":\"CDSView\"},{\"attributes\":{},\"id\":\"1531\",\"type\":\"BasicTicker\"},{\"attributes\":{},\"id\":\"1575\",\"type\":\"UnionRenderers\"},{\"attributes\":{},\"id\":\"1610\",\"type\":\"Selection\"},{\"attributes\":{},\"id\":\"1556\",\"type\":\"BasicTickFormatter\"},{\"attributes\":{},\"id\":\"1574\",\"type\":\"Selection\"},{\"attributes\":{},\"id\":\"1611\",\"type\":\"UnionRenderers\"},{\"attributes\":{\"label\":{\"value\":\"outside_H\"},\"renderers\":[{\"id\":\"1565\",\"type\":\"GlyphRenderer\"}]},\"id\":\"1576\",\"type\":\"LegendItem\"},{\"attributes\":{\"label\":{\"value\":\"bound proton pump\"},\"renderers\":[{\"id\":\"1597\",\"type\":\"GlyphRenderer\"}]},\"id\":\"1612\",\"type\":\"LegendItem\"},{\"attributes\":{\"line_alpha\":0.1,\"line_color\":\"#1f77b4\",\"line_width\":2,\"x\":{\"field\":\"x\"},\"y\":{\"field\":\"y\"}},\"id\":\"1550\",\"type\":\"Line\"},{\"attributes\":{\"source\":{\"id\":\"1548\",\"type\":\"ColumnDataSource\"}},\"id\":\"1552\",\"type\":\"CDSView\"},{\"attributes\":{\"data_source\":{\"id\":\"1548\",\"type\":\"ColumnDataSource\"},\"glyph\":{\"id\":\"1549\",\"type\":\"Line\"},\"hover_glyph\":null,\"muted_glyph\":null,\"nonselection_glyph\":{\"id\":\"1550\",\"type\":\"Line\"},\"selection_glyph\":null,\"view\":{\"id\":\"1552\",\"type\":\"CDSView\"}},\"id\":\"1551\",\"type\":\"GlyphRenderer\"}],\"root_ids\":[\"1516\"]},\"title\":\"Bokeh Application\",\"version\":\"1.4.0\"}};\n",
       "  var render_items = [{\"docid\":\"ba698760-af3e-477e-9598-67c0b595de37\",\"roots\":{\"1516\":\"0173af0d-f138-4abd-bdf1-a7b3be728b33\"}}];\n",
       "  root.Bokeh.embed.embed_items_notebook(docs_json, render_items);\n",
       "\n",
       "  }\n",
       "  if (root.Bokeh !== undefined) {\n",
       "    embed_document(root);\n",
       "  } else {\n",
       "    var attempts = 0;\n",
       "    var timer = setInterval(function(root) {\n",
       "      if (root.Bokeh !== undefined) {\n",
       "        clearInterval(timer);\n",
       "        embed_document(root);\n",
       "      } else {\n",
       "        attempts++;\n",
       "        if (attempts > 100) {\n",
       "          clearInterval(timer);\n",
       "          console.log(\"Bokeh: ERROR: Unable to run BokehJS code because BokehJS library is missing\");\n",
       "        }\n",
       "      }\n",
       "    }, 10, root)\n",
       "  }\n",
       "})(window);"
      ],
      "application/vnd.bokehjs_exec.v0+json": ""
     },
     "metadata": {
      "application/vnd.bokehjs_exec.v0+json": {
       "id": "1516"
      }
     },
     "output_type": "display_data"
    }
   ],
   "source": [
    "p_pp = bokeh.plotting.figure(width = 450, height = 350)\n",
    "plot_list = [ATP_id, outside_H_id, inside_H_id, proton_pump_b_protein_id]\n",
    "plot_str = ['atp', 'outside_H', 'inside_H', 'bound proton pump']\n",
    "for i,item in enumerate(plot_list):\n",
    "    p_pp.line(timepoints, results[item], line_width = 2, legend_label = plot_str[i], color = palette[i])\n",
    "    \n",
    "p_pp.legend.click_policy = 'hide'\n",
    "bokeh.io.show(p_pp)"
   ]
  },
  {
   "cell_type": "markdown",
   "metadata": {},
   "source": [
    "## Combine ATP Synthase, ATP Use, and Proton pump\n",
    "---"
   ]
  },
  {
   "cell_type": "code",
   "execution_count": 23,
   "metadata": {},
   "outputs": [],
   "source": [
    "entire_subsystem = ss1_atpsyn_txtl + ss2_atpsyn_mi + ss3_atpsynthesis + ss4_atp_use + ss5_pp_txtl + ss6_pp_mi + ss7_protontransport"
   ]
  },
  {
   "cell_type": "code",
   "execution_count": 24,
   "metadata": {},
   "outputs": [],
   "source": [
    "# Initial conditions\n",
    "spec_list_10 = ['dna_proton_pump', 'dna_atpsyn','proton_outside_H', 'metabolite_atp']\n",
    "for i,spec in enumerate(spec_list_10):\n",
    "    entire_subsystem.setSpeciesAmount(spec,10)\n",
    "\n",
    "\n",
    "# timepoints and get results\n",
    "timepoints = np.linspace(0,10,100)\n",
    "results, _ = entire_subsystem.simulateWithBioscrape(timepoints, sbml_warnings = False)\n",
    "\n",
    "# Get species IDs\n",
    "ATP_id = entire_subsystem.getSpeciesByName('metabolite_atp').getId()\n",
    "ADP_id = entire_subsystem.getSpeciesByName('metabolite_adp').getId()\n",
    "\n",
    "outside_H_id = entire_subsystem.getSpeciesByName('proton_outside_H').getId()\n",
    "inside_H_id = entire_subsystem.getSpeciesByName('proton_inside_H').getId()\n",
    "proton_pump_b_protein_id = entire_subsystem.getSpeciesByName('protein_proton_pump_b').getId()\n",
    "proton_pump_f_protein_id = entire_subsystem.getSpeciesByName('protein_proton_pump').getId()"
   ]
  },
  {
   "cell_type": "code",
   "execution_count": 25,
   "metadata": {},
   "outputs": [],
   "source": [
    "timepoints = np.linspace(0,10,100)\n",
    "results3, _ = entire_subsystem.simulateWithBioscrape(timepoints, sbml_warnings = False)"
   ]
  },
  {
   "cell_type": "code",
   "execution_count": 26,
   "metadata": {},
   "outputs": [
    {
     "data": {
      "text/html": [
       "\n",
       "\n",
       "\n",
       "\n",
       "\n",
       "\n",
       "  <div class=\"bk-root\" id=\"0b6fc83b-dc54-45a5-9b06-1ae14433e600\" data-root-id=\"1755\"></div>\n"
      ]
     },
     "metadata": {},
     "output_type": "display_data"
    },
    {
     "data": {
      "application/javascript": [
       "(function(root) {\n",
       "  function embed_document(root) {\n",
       "    \n",
       "  var docs_json = {\"c978a73e-74e9-40fa-bcd4-fa4afa8fc4b5\":{\"roots\":{\"references\":[{\"attributes\":{\"below\":[{\"id\":\"1766\",\"type\":\"LinearAxis\"}],\"center\":[{\"id\":\"1770\",\"type\":\"Grid\"},{\"id\":\"1775\",\"type\":\"Grid\"},{\"id\":\"1800\",\"type\":\"Legend\"}],\"left\":[{\"id\":\"1771\",\"type\":\"LinearAxis\"}],\"plot_height\":350,\"plot_width\":450,\"renderers\":[{\"id\":\"1792\",\"type\":\"GlyphRenderer\"},{\"id\":\"1805\",\"type\":\"GlyphRenderer\"},{\"id\":\"1819\",\"type\":\"GlyphRenderer\"},{\"id\":\"1835\",\"type\":\"GlyphRenderer\"}],\"title\":{\"id\":\"1756\",\"type\":\"Title\"},\"toolbar\":{\"id\":\"1782\",\"type\":\"Toolbar\"},\"x_range\":{\"id\":\"1758\",\"type\":\"DataRange1d\"},\"x_scale\":{\"id\":\"1762\",\"type\":\"LinearScale\"},\"y_range\":{\"id\":\"1760\",\"type\":\"DataRange1d\"},\"y_scale\":{\"id\":\"1764\",\"type\":\"LinearScale\"}},\"id\":\"1755\",\"subtype\":\"Figure\",\"type\":\"Plot\"},{\"attributes\":{\"callback\":null},\"id\":\"1760\",\"type\":\"DataRange1d\"},{\"attributes\":{\"data_source\":{\"id\":\"1802\",\"type\":\"ColumnDataSource\"},\"glyph\":{\"id\":\"1803\",\"type\":\"Line\"},\"hover_glyph\":null,\"muted_glyph\":null,\"nonselection_glyph\":{\"id\":\"1804\",\"type\":\"Line\"},\"selection_glyph\":null,\"view\":{\"id\":\"1806\",\"type\":\"CDSView\"}},\"id\":\"1805\",\"type\":\"GlyphRenderer\"},{\"attributes\":{},\"id\":\"1780\",\"type\":\"ResetTool\"},{\"attributes\":{\"callback\":null,\"data\":{\"x\":{\"__ndarray__\":\"AAAAAAAAAAAxb2dIzNu5PzFvZ0jM28k/ZZNNNtlk0z8xb2dIzNvZP3+lQK1fKeA/ZZNNNtlk4z9LgVq/UqDmPzFvZ0jM2+k/F1100UUX7T9/pUCtXynwP3Icx3Ecx/E/ZZNNNtlk8z9YCtT6lQL1P0uBWr9SoPY/Pvjggw8++D8xb2dIzNv5PyTm7QyJefs/F1100UUX/T8K1PqVArX+P3+lQK1fKQBA+OCDDz74AEByHMdxHMcBQOtXCtT6lQJAZZNNNtlkA0DezpCYtzMEQFgK1PqVAgVA0UUXXXTRBUBLgVq/UqAGQMS8nSExbwdAPvjggw8+CEC3MyTm7QwJQDFvZ0jM2wlAq6qqqqqqCkAk5u0MiXkLQJ4hMW9nSAxAF1100UUXDUCRmLczJOYNQArU+pUCtQ5AhA8++OCDD0B/pUCtXykQQDtDYt7OkBBA+OCDDz74EEC1fqVArV8RQHIcx3EcxxFALrrooosuEkDrVwrU+pUSQKj1KwVq/RJAZZNNNtlkE0AiMW9nSMwTQN7OkJi3MxRAm2yyySabFEBYCtT6lQIVQBWo9SsFahVA0UUXXXTRFUCO4ziO4zgWQEuBWr9SoBZACB988MEHF0DEvJ0hMW8XQIFav1Kg1hdAPvjggw8+GED7lQK1fqUYQLczJObtDBlAdNFFF110GUAxb2dIzNsZQO4MiXk7QxpAq6qqqqqqGkBnSMzbGRIbQCTm7QyJeRtA4YMPPvjgG0CeITFvZ0gcQFq/UqDWrxxAF1100UUXHUDU+pUCtX4dQJGYtzMk5h1ATTbZZJNNHkAK1PqVArUeQMdxHMdxHB9AhA8++OCDH0BArV8pUOsfQH+lQK1fKSBAXXTRRRddIEA7Q2LezpAgQBoS83aGxCBA+OCDDz74IEDXrxSo9SshQLV+pUCtXyFAk0022WSTIUByHMdxHMchQFDrVwrU+iFALrrooosuIkANiXk7Q2IiQOtXCtT6lSJAyiabbLLJIkCo9SsFav0iQIbEvJ0hMSNAZZNNNtlkI0BDYt7OkJgjQCIxb2dIzCNAAAAAAAAAJEA=\",\"dtype\":\"float64\",\"shape\":[100]},\"y\":{\"__ndarray__\":\"AAAAAAAAAACneqaq3AYQQIV6MYTvNRNAPjQbo9vXE0DS6X6ABvgTQPjbYG9q/hNAPhzWba//E0AQbF3+7/8TQJs+AtL8/xNAP9FRXv//E0DWZeLf//8TQDK0nvn//xNAwoK7/v//E0AWhb////8TQEEu8////xNA+nP9////E0Bvfv////8TQEHm/////xNA4vr/////E0D7/v////8TQMz//////xNA9v//////E0D+//////8TQP7//////xNA////////E0D///////8TQP///////xNA////////E0D///////8TQP///////xNA////////E0D///////8TQP///////xNA////////E0D///////8TQP///////xNA////////E0D///////8TQP///////xNA////////E0D///////8TQP///////xNA////////E0D///////8TQP///////xNA////////E0D///////8TQP///////xNA////////E0D///////8TQP///////xNA////////E0D///////8TQP///////xNA////////E0D///////8TQP///////xNA////////E0D///////8TQP///////xNA////////E0D///////8TQP///////xNA////////E0D///////8TQP///////xNA////////E0D///////8TQP///////xNA////////E0D///////8TQP///////xNA////////E0D///////8TQP///////xNA////////E0D///////8TQP///////xNA////////E0D///////8TQP///////xNA////////E0D///////8TQP///////xNA////////E0D///////8TQP///////xNA////////E0D///////8TQP///////xNA////////E0D///////8TQP///////xNA////////E0D///////8TQP///////xNA////////E0D///////8TQP///////xNA////////E0A=\",\"dtype\":\"float64\",\"shape\":[100]}},\"selected\":{\"id\":\"1847\",\"type\":\"Selection\"},\"selection_policy\":{\"id\":\"1848\",\"type\":\"UnionRenderers\"}},\"id\":\"1816\",\"type\":\"ColumnDataSource\"},{\"attributes\":{},\"id\":\"1762\",\"type\":\"LinearScale\"},{\"attributes\":{},\"id\":\"1781\",\"type\":\"HelpTool\"},{\"attributes\":{\"source\":{\"id\":\"1802\",\"type\":\"ColumnDataSource\"}},\"id\":\"1806\",\"type\":\"CDSView\"},{\"attributes\":{\"line_alpha\":0.1,\"line_color\":\"#1f77b4\",\"line_width\":2,\"x\":{\"field\":\"x\"},\"y\":{\"field\":\"y\"}},\"id\":\"1834\",\"type\":\"Line\"},{\"attributes\":{\"ticker\":{\"id\":\"1767\",\"type\":\"BasicTicker\"}},\"id\":\"1770\",\"type\":\"Grid\"},{\"attributes\":{},\"id\":\"1813\",\"type\":\"Selection\"},{\"attributes\":{\"active_drag\":\"auto\",\"active_inspect\":\"auto\",\"active_multi\":null,\"active_scroll\":\"auto\",\"active_tap\":\"auto\",\"tools\":[{\"id\":\"1776\",\"type\":\"PanTool\"},{\"id\":\"1777\",\"type\":\"WheelZoomTool\"},{\"id\":\"1778\",\"type\":\"BoxZoomTool\"},{\"id\":\"1779\",\"type\":\"SaveTool\"},{\"id\":\"1780\",\"type\":\"ResetTool\"},{\"id\":\"1781\",\"type\":\"HelpTool\"}]},\"id\":\"1782\",\"type\":\"Toolbar\"},{\"attributes\":{\"data_source\":{\"id\":\"1832\",\"type\":\"ColumnDataSource\"},\"glyph\":{\"id\":\"1833\",\"type\":\"Line\"},\"hover_glyph\":null,\"muted_glyph\":null,\"nonselection_glyph\":{\"id\":\"1834\",\"type\":\"Line\"},\"selection_glyph\":null,\"view\":{\"id\":\"1836\",\"type\":\"CDSView\"}},\"id\":\"1835\",\"type\":\"GlyphRenderer\"},{\"attributes\":{},\"id\":\"1764\",\"type\":\"LinearScale\"},{\"attributes\":{\"label\":{\"value\":\"outside_H\"},\"renderers\":[{\"id\":\"1805\",\"type\":\"GlyphRenderer\"}]},\"id\":\"1815\",\"type\":\"LegendItem\"},{\"attributes\":{},\"id\":\"1914\",\"type\":\"Selection\"},{\"attributes\":{\"dimension\":1,\"ticker\":{\"id\":\"1772\",\"type\":\"BasicTicker\"}},\"id\":\"1775\",\"type\":\"Grid\"},{\"attributes\":{},\"id\":\"1767\",\"type\":\"BasicTicker\"},{\"attributes\":{\"source\":{\"id\":\"1832\",\"type\":\"ColumnDataSource\"}},\"id\":\"1836\",\"type\":\"CDSView\"},{\"attributes\":{},\"id\":\"1814\",\"type\":\"UnionRenderers\"},{\"attributes\":{\"axis_label\":\"time\",\"formatter\":{\"id\":\"1798\",\"type\":\"BasicTickFormatter\"},\"ticker\":{\"id\":\"1767\",\"type\":\"BasicTicker\"}},\"id\":\"1766\",\"type\":\"LinearAxis\"},{\"attributes\":{},\"id\":\"1848\",\"type\":\"UnionRenderers\"},{\"attributes\":{\"bottom_units\":\"screen\",\"fill_alpha\":{\"value\":0.5},\"fill_color\":{\"value\":\"lightgrey\"},\"left_units\":\"screen\",\"level\":\"overlay\",\"line_alpha\":{\"value\":1.0},\"line_color\":{\"value\":\"black\"},\"line_dash\":[4,4],\"line_width\":{\"value\":2},\"render_mode\":\"css\",\"right_units\":\"screen\",\"top_units\":\"screen\"},\"id\":\"1799\",\"type\":\"BoxAnnotation\"},{\"attributes\":{},\"id\":\"1772\",\"type\":\"BasicTicker\"},{\"attributes\":{\"label\":{\"value\":\"bound proton pump\"},\"renderers\":[{\"id\":\"1835\",\"type\":\"GlyphRenderer\"}]},\"id\":\"1849\",\"type\":\"LegendItem\"},{\"attributes\":{\"source\":{\"id\":\"1789\",\"type\":\"ColumnDataSource\"}},\"id\":\"1793\",\"type\":\"CDSView\"},{\"attributes\":{\"axis_label\":\"concentration\",\"formatter\":{\"id\":\"1796\",\"type\":\"BasicTickFormatter\"},\"ticker\":{\"id\":\"1772\",\"type\":\"BasicTicker\"}},\"id\":\"1771\",\"type\":\"LinearAxis\"},{\"attributes\":{\"line_color\":\"#2ba02b\",\"line_width\":2,\"x\":{\"field\":\"x\"},\"y\":{\"field\":\"y\"}},\"id\":\"1817\",\"type\":\"Line\"},{\"attributes\":{\"callback\":null,\"data\":{\"x\":{\"__ndarray__\":\"AAAAAAAAAAAxb2dIzNu5PzFvZ0jM28k/ZZNNNtlk0z8xb2dIzNvZP3+lQK1fKeA/ZZNNNtlk4z9LgVq/UqDmPzFvZ0jM2+k/F1100UUX7T9/pUCtXynwP3Icx3Ecx/E/ZZNNNtlk8z9YCtT6lQL1P0uBWr9SoPY/Pvjggw8++D8xb2dIzNv5PyTm7QyJefs/F1100UUX/T8K1PqVArX+P3+lQK1fKQBA+OCDDz74AEByHMdxHMcBQOtXCtT6lQJAZZNNNtlkA0DezpCYtzMEQFgK1PqVAgVA0UUXXXTRBUBLgVq/UqAGQMS8nSExbwdAPvjggw8+CEC3MyTm7QwJQDFvZ0jM2wlAq6qqqqqqCkAk5u0MiXkLQJ4hMW9nSAxAF1100UUXDUCRmLczJOYNQArU+pUCtQ5AhA8++OCDD0B/pUCtXykQQDtDYt7OkBBA+OCDDz74EEC1fqVArV8RQHIcx3EcxxFALrrooosuEkDrVwrU+pUSQKj1KwVq/RJAZZNNNtlkE0AiMW9nSMwTQN7OkJi3MxRAm2yyySabFEBYCtT6lQIVQBWo9SsFahVA0UUXXXTRFUCO4ziO4zgWQEuBWr9SoBZACB988MEHF0DEvJ0hMW8XQIFav1Kg1hdAPvjggw8+GED7lQK1fqUYQLczJObtDBlAdNFFF110GUAxb2dIzNsZQO4MiXk7QxpAq6qqqqqqGkBnSMzbGRIbQCTm7QyJeRtA4YMPPvjgG0CeITFvZ0gcQFq/UqDWrxxAF1100UUXHUDU+pUCtX4dQJGYtzMk5h1ATTbZZJNNHkAK1PqVArUeQMdxHMdxHB9AhA8++OCDH0BArV8pUOsfQH+lQK1fKSBAXXTRRRddIEA7Q2LezpAgQBoS83aGxCBA+OCDDz74IEDXrxSo9SshQLV+pUCtXyFAk0022WSTIUByHMdxHMchQFDrVwrU+iFALrrooosuIkANiXk7Q2IiQOtXCtT6lSJAyiabbLLJIkCo9SsFav0iQIbEvJ0hMSNAZZNNNtlkI0BDYt7OkJgjQCIxb2dIzCNAAAAAAAAAJEA=\",\"dtype\":\"float64\",\"shape\":[100]},\"y\":{\"__ndarray__\":\"AAAAAAAAJEBSzUJ7RUwbQBxL1FCRzhhAGrPWsDCTGEAdRcyrrbsYQDgsNC2gBxlA9jFq24dsGUCYQNhSO+QZQP60apkaaBpAJfH6rrjxGkA7eloPsnsbQOux9kcIAhxA0S3mRBiCHEAMGB31XPocQKxi25Ukah1AtjriVk3RHUCH59CMEDAeQLW+rLDchh5APmZKoDvWHkBhE1/lwR4fQIe942MEYR9ApocRSZKdH0AibB/Q8dQfQOJ4O2DPAyBAQFCFAAUbIED9jvjnTDAgQC2N0zXVQyBAWg6LXsdVIEAfs0OdSGYgQFiWB1t6dSBA73ZflHqDIED16so2ZJAgQPzOrHdPnCBA30O3H1KnIEDTwoLRf7EgQCfiNEXquiBAmn3fgKHDIEDfGVYFtMsgQHVY/fsu0yBADQvIWB7aIEBXxAv9jOAgQKgJOtOE5iBA6Pgx6Q7sIECffRuGM/EgQOqEgz769SBAZS4oBmr6IEDuxVs/if4gQNTHWshdAiFAFzLACO0FIUBcMKb7OwkhQMnIjzlPDCFA3x1WASsPIUAqj2M/0xEhQFHK+JVLFCFARlgyYpcWIUBhgV7CuRghQMS19pq1GiFADQfsm40cIUD5OlNBRB4hQLSvP9/bHyFAQ9o7m1YhIUD2Cl13tiIhQILKS0/9IyFAmgP14CwlIUAWFsbIRiYhQNmejodMJyFA6KSXhT8oIUALf+gOISkhQJsDoVzyKSFAT+2Sj7QqIUCTMLe2aCshQOsfj80PLCFA5xAiv6osIUDtw5ZlOi0hQJfipo2/LSFAdBVQ9DouIUCEjb1KrS4hQJAsUDYXLyFAwHsST3kvIUD88g8m1C8hQES0Jj4oMCFAmhcuFXYwIUAzEBcdvjAhQJ/zDsIAMSFASMuKZz4xIUDu0KpqdzEhQCjfFyKsMSFABu2U3NwxIUBZMXnnCTIhQNJFVoYzMiFAiNwF+lkyIUCXbtd+fTIhQNXb4kueMiFANIF4lbwyIUDDigWL2DIhQN77NlnyMiFAjpyHKQozIUAQupIiIDMhQBvXomY0MyFAgYDoF0czIUA=\",\"dtype\":\"float64\",\"shape\":[100]}},\"selected\":{\"id\":\"1813\",\"type\":\"Selection\"},\"selection_policy\":{\"id\":\"1814\",\"type\":\"UnionRenderers\"}},\"id\":\"1789\",\"type\":\"ColumnDataSource\"},{\"attributes\":{},\"id\":\"1915\",\"type\":\"UnionRenderers\"},{\"attributes\":{},\"id\":\"1796\",\"type\":\"BasicTickFormatter\"},{\"attributes\":{\"click_policy\":\"hide\",\"items\":[{\"id\":\"1801\",\"type\":\"LegendItem\"},{\"id\":\"1815\",\"type\":\"LegendItem\"},{\"id\":\"1831\",\"type\":\"LegendItem\"},{\"id\":\"1849\",\"type\":\"LegendItem\"}],\"location\":\"bottom_right\"},\"id\":\"1800\",\"type\":\"Legend\"},{\"attributes\":{\"line_alpha\":0.1,\"line_color\":\"#1f77b4\",\"line_width\":2,\"x\":{\"field\":\"x\"},\"y\":{\"field\":\"y\"}},\"id\":\"1818\",\"type\":\"Line\"},{\"attributes\":{\"data_source\":{\"id\":\"1816\",\"type\":\"ColumnDataSource\"},\"glyph\":{\"id\":\"1817\",\"type\":\"Line\"},\"hover_glyph\":null,\"muted_glyph\":null,\"nonselection_glyph\":{\"id\":\"1818\",\"type\":\"Line\"},\"selection_glyph\":null,\"view\":{\"id\":\"1820\",\"type\":\"CDSView\"}},\"id\":\"1819\",\"type\":\"GlyphRenderer\"},{\"attributes\":{\"line_color\":\"#9367bc\",\"line_width\":2,\"x\":{\"field\":\"x\"},\"y\":{\"field\":\"y\"}},\"id\":\"1833\",\"type\":\"Line\"},{\"attributes\":{},\"id\":\"1798\",\"type\":\"BasicTickFormatter\"},{\"attributes\":{\"line_alpha\":0.1,\"line_color\":\"#1f77b4\",\"line_width\":2,\"x\":{\"field\":\"x\"},\"y\":{\"field\":\"y\"}},\"id\":\"1791\",\"type\":\"Line\"},{\"attributes\":{\"source\":{\"id\":\"1816\",\"type\":\"ColumnDataSource\"}},\"id\":\"1820\",\"type\":\"CDSView\"},{\"attributes\":{},\"id\":\"1829\",\"type\":\"Selection\"},{\"attributes\":{\"label\":{\"value\":\"atp\"},\"renderers\":[{\"id\":\"1792\",\"type\":\"GlyphRenderer\"}]},\"id\":\"1801\",\"type\":\"LegendItem\"},{\"attributes\":{},\"id\":\"1776\",\"type\":\"PanTool\"},{\"attributes\":{\"line_color\":\"#1f77b3\",\"line_width\":2,\"x\":{\"field\":\"x\"},\"y\":{\"field\":\"y\"}},\"id\":\"1790\",\"type\":\"Line\"},{\"attributes\":{\"callback\":null,\"data\":{\"x\":{\"__ndarray__\":\"AAAAAAAAAAAxb2dIzNu5PzFvZ0jM28k/ZZNNNtlk0z8xb2dIzNvZP3+lQK1fKeA/ZZNNNtlk4z9LgVq/UqDmPzFvZ0jM2+k/F1100UUX7T9/pUCtXynwP3Icx3Ecx/E/ZZNNNtlk8z9YCtT6lQL1P0uBWr9SoPY/Pvjggw8++D8xb2dIzNv5PyTm7QyJefs/F1100UUX/T8K1PqVArX+P3+lQK1fKQBA+OCDDz74AEByHMdxHMcBQOtXCtT6lQJAZZNNNtlkA0DezpCYtzMEQFgK1PqVAgVA0UUXXXTRBUBLgVq/UqAGQMS8nSExbwdAPvjggw8+CEC3MyTm7QwJQDFvZ0jM2wlAq6qqqqqqCkAk5u0MiXkLQJ4hMW9nSAxAF1100UUXDUCRmLczJOYNQArU+pUCtQ5AhA8++OCDD0B/pUCtXykQQDtDYt7OkBBA+OCDDz74EEC1fqVArV8RQHIcx3EcxxFALrrooosuEkDrVwrU+pUSQKj1KwVq/RJAZZNNNtlkE0AiMW9nSMwTQN7OkJi3MxRAm2yyySabFEBYCtT6lQIVQBWo9SsFahVA0UUXXXTRFUCO4ziO4zgWQEuBWr9SoBZACB988MEHF0DEvJ0hMW8XQIFav1Kg1hdAPvjggw8+GED7lQK1fqUYQLczJObtDBlAdNFFF110GUAxb2dIzNsZQO4MiXk7QxpAq6qqqqqqGkBnSMzbGRIbQCTm7QyJeRtA4YMPPvjgG0CeITFvZ0gcQFq/UqDWrxxAF1100UUXHUDU+pUCtX4dQJGYtzMk5h1ATTbZZJNNHkAK1PqVArUeQMdxHMdxHB9AhA8++OCDH0BArV8pUOsfQH+lQK1fKSBAXXTRRRddIEA7Q2LezpAgQBoS83aGxCBA+OCDDz74IEDXrxSo9SshQLV+pUCtXyFAk0022WSTIUByHMdxHMchQFDrVwrU+iFALrrooosuIkANiXk7Q2IiQOtXCtT6lSJAyiabbLLJIkCo9SsFav0iQIbEvJ0hMSNAZZNNNtlkI0BDYt7OkJgjQCIxb2dIzCNAAAAAAAAAJEA=\",\"dtype\":\"float64\",\"shape\":[100]},\"y\":{\"__ndarray__\":\"AAAAAAAAAABbrw2vIxhaP7XZaENdNIg/u8Dc8nnzoj/kyavzvtm0P7OrQUP66MI/EBFc2fxbzj9BFjXgn2fWP6Qkr2U8Gd8/iMpfCIyY5D+dRDQXQ0vqPz9mmnEES/A/KOc1AU+08z/p7/dl+Fj3P8qKNUxVMPs/Nlf84s4x/z+uJyN3hqoBQC9835MKyQNACbtk17DwBUAfPGk++B0IQAQJzV+mTQpAYMGT4Ml8DEAT9zT8uqgOQPWm1VKNZxBA18d+Qeh2EUDhXmUDhIESQIwamI6WhhNA85/FHHSFFECD8wUjjX0VQPrQpDBsbhZAT6OOy7NXF0D6S1FSHDkYQMb47epxEhlAUrjog5LjGUADue/ta6waQL8ZeQ36bBtAeCi1K0UlHEAUq2NgYNUcQHhVTh1ofR1ALE891IAdHkCa/xG71bUeQNxYgKuXRh9ACjLXHfzPH0AU8H0eHikgQLwmZwnKZiBAL6qR5SChIECO3u+FQtggQAJpRTBPDCFA9aQ8XGc9IUAHR6p6q2shQNzvXMQ7lyFA/o0wEDjAIUCw50qvv+YhQOSelE7xCiJAuUVr3uosIkCYZQF+yUwiQAVWamypaiJA8YWd9aWGIkBkrlZ22aAiQNhdxElduSJAmCFgyEnQIkBuyahGtuUiQC3JcRu5+SJArBsymWcMI0B+/2QL1h0jQPc0utMXLiNA07k2VD89I0DmL2gCXksjQEJkSWyEWCNAFM6pPsJkI0BY0XxNJnAjQEOSXJq+eiNADCEkXpiEI0ALFbsQwI0jQOdI2XBBliNA//q9jCeeI0DE7SfKfKUjQKE6G+pKrCNAJ+5kHJuyI0Bi/Dz6dbgjQDA1rJTjvSNAClhceuvCI0Cta6W+lMcjQB7pVADmyyNAC7YzcOXPI0BDNvXWmNMjQDw8zZsF1yNAh5VbyjDaI0DopjwXH90jQJ9NiOXU3yNAUxSiTFbiI0D8RpIbp+QjQDqrg97K5iNAvi3X4sToI0Aa8GY7mOojQICpPcNH7CNAu2lBItbtI0CQMXHPRe8jQMmxmhaZ8CNA7PhyF9LxI0A=\",\"dtype\":\"float64\",\"shape\":[100]}},\"selected\":{\"id\":\"1914\",\"type\":\"Selection\"},\"selection_policy\":{\"id\":\"1915\",\"type\":\"UnionRenderers\"}},\"id\":\"1832\",\"type\":\"ColumnDataSource\"},{\"attributes\":{\"label\":{\"value\":\"inside_H\"},\"renderers\":[{\"id\":\"1819\",\"type\":\"GlyphRenderer\"}]},\"id\":\"1831\",\"type\":\"LegendItem\"},{\"attributes\":{\"callback\":null,\"data\":{\"x\":{\"__ndarray__\":\"AAAAAAAAAAAxb2dIzNu5PzFvZ0jM28k/ZZNNNtlk0z8xb2dIzNvZP3+lQK1fKeA/ZZNNNtlk4z9LgVq/UqDmPzFvZ0jM2+k/F1100UUX7T9/pUCtXynwP3Icx3Ecx/E/ZZNNNtlk8z9YCtT6lQL1P0uBWr9SoPY/Pvjggw8++D8xb2dIzNv5PyTm7QyJefs/F1100UUX/T8K1PqVArX+P3+lQK1fKQBA+OCDDz74AEByHMdxHMcBQOtXCtT6lQJAZZNNNtlkA0DezpCYtzMEQFgK1PqVAgVA0UUXXXTRBUBLgVq/UqAGQMS8nSExbwdAPvjggw8+CEC3MyTm7QwJQDFvZ0jM2wlAq6qqqqqqCkAk5u0MiXkLQJ4hMW9nSAxAF1100UUXDUCRmLczJOYNQArU+pUCtQ5AhA8++OCDD0B/pUCtXykQQDtDYt7OkBBA+OCDDz74EEC1fqVArV8RQHIcx3EcxxFALrrooosuEkDrVwrU+pUSQKj1KwVq/RJAZZNNNtlkE0AiMW9nSMwTQN7OkJi3MxRAm2yyySabFEBYCtT6lQIVQBWo9SsFahVA0UUXXXTRFUCO4ziO4zgWQEuBWr9SoBZACB988MEHF0DEvJ0hMW8XQIFav1Kg1hdAPvjggw8+GED7lQK1fqUYQLczJObtDBlAdNFFF110GUAxb2dIzNsZQO4MiXk7QxpAq6qqqqqqGkBnSMzbGRIbQCTm7QyJeRtA4YMPPvjgG0CeITFvZ0gcQFq/UqDWrxxAF1100UUXHUDU+pUCtX4dQJGYtzMk5h1ATTbZZJNNHkAK1PqVArUeQMdxHMdxHB9AhA8++OCDH0BArV8pUOsfQH+lQK1fKSBAXXTRRRddIEA7Q2LezpAgQBoS83aGxCBA+OCDDz74IEDXrxSo9SshQLV+pUCtXyFAk0022WSTIUByHMdxHMchQFDrVwrU+iFALrrooosuIkANiXk7Q2IiQOtXCtT6lSJAyiabbLLJIkCo9SsFav0iQIbEvJ0hMSNAZZNNNtlkI0BDYt7OkJgjQCIxb2dIzCNAAAAAAAAAJEA=\",\"dtype\":\"float64\",\"shape\":[100]},\"y\":{\"__ndarray__\":\"AAAAAAAAJEBYhVlVI/kXQHqFznsQyhRAwcvkXCQoFEAtFoF/+QcUQAckn5CVARRAweMpklAAFEDvk6IBEAAUQGTB/S0DABRAwC6uoQAAFEApmh0gAAAUQM1LYQYAABRAPX1EAQAAFEDpekAAAAAUQL7RDAAAABRABYwCAAAAFECQgQAAAAAUQL4ZAAAAABRAHQUAAAAAFEAEAQAAAAAUQDMAAAAAABRACQAAAAAAFEABAAAAAAAUQAEAAAAAABRAAAAAAAAAFEAAAAAAAAAUQAAAAAAAABRAAAAAAAAAFEAAAAAAAAAUQAAAAAAAABRAAAAAAAAAFEAAAAAAAAAUQAAAAAAAABRAAAAAAAAAFEAAAAAAAAAUQAAAAAAAABRAAAAAAAAAFEAAAAAAAAAUQAAAAAAAABRAAAAAAAAAFEAAAAAAAAAUQAAAAAAAABRAAAAAAAAAFEAAAAAAAAAUQAAAAAAAABRAAAAAAAAAFEAAAAAAAAAUQAAAAAAAABRAAAAAAAAAFEAAAAAAAAAUQAAAAAAAABRAAAAAAAAAFEAAAAAAAAAUQAAAAAAAABRAAAAAAAAAFEAAAAAAAAAUQAAAAAAAABRAAAAAAAAAFEAAAAAAAAAUQAAAAAAAABRAAAAAAAAAFEAAAAAAAAAUQAAAAAAAABRAAAAAAAAAFEAAAAAAAAAUQAAAAAAAABRAAAAAAAAAFEAAAAAAAAAUQAAAAAAAABRAAAAAAAAAFEAAAAAAAAAUQAAAAAAAABRAAAAAAAAAFEAAAAAAAAAUQAAAAAAAABRAAAAAAAAAFEAAAAAAAAAUQAAAAAAAABRAAAAAAAAAFEAAAAAAAAAUQAAAAAAAABRAAAAAAAAAFEAAAAAAAAAUQAAAAAAAABRAAAAAAAAAFEAAAAAAAAAUQAAAAAAAABRAAAAAAAAAFEAAAAAAAAAUQAAAAAAAABRAAAAAAAAAFEAAAAAAAAAUQAAAAAAAABRAAAAAAAAAFEAAAAAAAAAUQAAAAAAAABRAAAAAAAAAFEAAAAAAAAAUQAAAAAAAABRAAAAAAAAAFEA=\",\"dtype\":\"float64\",\"shape\":[100]}},\"selected\":{\"id\":\"1829\",\"type\":\"Selection\"},\"selection_policy\":{\"id\":\"1830\",\"type\":\"UnionRenderers\"}},\"id\":\"1802\",\"type\":\"ColumnDataSource\"},{\"attributes\":{\"data_source\":{\"id\":\"1789\",\"type\":\"ColumnDataSource\"},\"glyph\":{\"id\":\"1790\",\"type\":\"Line\"},\"hover_glyph\":null,\"muted_glyph\":null,\"nonselection_glyph\":{\"id\":\"1791\",\"type\":\"Line\"},\"selection_glyph\":null,\"view\":{\"id\":\"1793\",\"type\":\"CDSView\"}},\"id\":\"1792\",\"type\":\"GlyphRenderer\"},{\"attributes\":{},\"id\":\"1777\",\"type\":\"WheelZoomTool\"},{\"attributes\":{},\"id\":\"1830\",\"type\":\"UnionRenderers\"},{\"attributes\":{\"text\":\"with ATP Synthase, Proton Pump, ATP Use\"},\"id\":\"1756\",\"type\":\"Title\"},{\"attributes\":{\"overlay\":{\"id\":\"1799\",\"type\":\"BoxAnnotation\"}},\"id\":\"1778\",\"type\":\"BoxZoomTool\"},{\"attributes\":{\"line_color\":\"#ff7e0e\",\"line_width\":2,\"x\":{\"field\":\"x\"},\"y\":{\"field\":\"y\"}},\"id\":\"1803\",\"type\":\"Line\"},{\"attributes\":{\"callback\":null},\"id\":\"1758\",\"type\":\"DataRange1d\"},{\"attributes\":{},\"id\":\"1847\",\"type\":\"Selection\"},{\"attributes\":{},\"id\":\"1779\",\"type\":\"SaveTool\"},{\"attributes\":{\"line_alpha\":0.1,\"line_color\":\"#1f77b4\",\"line_width\":2,\"x\":{\"field\":\"x\"},\"y\":{\"field\":\"y\"}},\"id\":\"1804\",\"type\":\"Line\"}],\"root_ids\":[\"1755\"]},\"title\":\"Bokeh Application\",\"version\":\"1.4.0\"}};\n",
       "  var render_items = [{\"docid\":\"c978a73e-74e9-40fa-bcd4-fa4afa8fc4b5\",\"roots\":{\"1755\":\"0b6fc83b-dc54-45a5-9b06-1ae14433e600\"}}];\n",
       "  root.Bokeh.embed.embed_items_notebook(docs_json, render_items);\n",
       "\n",
       "  }\n",
       "  if (root.Bokeh !== undefined) {\n",
       "    embed_document(root);\n",
       "  } else {\n",
       "    var attempts = 0;\n",
       "    var timer = setInterval(function(root) {\n",
       "      if (root.Bokeh !== undefined) {\n",
       "        clearInterval(timer);\n",
       "        embed_document(root);\n",
       "      } else {\n",
       "        attempts++;\n",
       "        if (attempts > 100) {\n",
       "          clearInterval(timer);\n",
       "          console.log(\"Bokeh: ERROR: Unable to run BokehJS code because BokehJS library is missing\");\n",
       "        }\n",
       "      }\n",
       "    }, 10, root)\n",
       "  }\n",
       "})(window);"
      ],
      "application/vnd.bokehjs_exec.v0+json": ""
     },
     "metadata": {
      "application/vnd.bokehjs_exec.v0+json": {
       "id": "1755"
      }
     },
     "output_type": "display_data"
    }
   ],
   "source": [
    "p3 = bokeh.plotting.figure(width = 450, height = 350, title = 'with ATP Synthase, Proton Pump, ATP Use',\n",
    "                          x_axis_label = 'time',\n",
    "                          y_axis_label = 'concentration')\n",
    "plot_list = [ATP_id, outside_H_id, inside_H_id, proton_pump_b_protein_id]\n",
    "plot_str = ['atp', 'outside_H', 'inside_H', 'bound proton pump']\n",
    "for i,item in enumerate(plot_list):\n",
    "    p3.line(timepoints, results3[item], line_width = 2, legend_label = plot_str[i], color = palette[i])\n",
    "    \n",
    "p3.legend.click_policy = 'hide'\n",
    "p3.legend.location = 'bottom_right'\n",
    "bokeh.io.show(p3)"
   ]
  },
  {
   "cell_type": "markdown",
   "metadata": {},
   "source": [
    "## Compare with atpsyn+protonpump, only atpsyn, only atpuse\n",
    "---"
   ]
  },
  {
   "cell_type": "code",
   "execution_count": 27,
   "metadata": {},
   "outputs": [
    {
     "data": {
      "text/html": [
       "\n",
       "\n",
       "\n",
       "\n",
       "\n",
       "\n",
       "  <div class=\"bk-root\" id=\"7d477430-1ff1-4b3b-8696-2ff1972b3698\" data-root-id=\"2000\"></div>\n"
      ]
     },
     "metadata": {},
     "output_type": "display_data"
    },
    {
     "data": {
      "application/javascript": [
       "(function(root) {\n",
       "  function embed_document(root) {\n",
       "    \n",
       "  var docs_json = {\"4e41fcf0-54a1-4442-b2b9-e1e9b5d404cd\":{\"roots\":{\"references\":[{\"attributes\":{\"children\":[{\"id\":\"1755\",\"subtype\":\"Figure\",\"type\":\"Plot\"},{\"id\":\"1204\",\"subtype\":\"Figure\",\"type\":\"Plot\"},{\"id\":\"1299\",\"subtype\":\"Figure\",\"type\":\"Plot\"}]},\"id\":\"2000\",\"type\":\"Row\"},{\"attributes\":{\"axis_label\":\"time\",\"formatter\":{\"id\":\"1342\",\"type\":\"BasicTickFormatter\"},\"ticker\":{\"id\":\"1311\",\"type\":\"BasicTicker\"}},\"id\":\"1310\",\"type\":\"LinearAxis\"},{\"attributes\":{\"line_alpha\":0.1,\"line_color\":\"#1f77b4\",\"line_width\":2,\"x\":{\"field\":\"x\"},\"y\":{\"field\":\"y\"}},\"id\":\"1834\",\"type\":\"Line\"},{\"attributes\":{\"data_source\":{\"id\":\"1832\",\"type\":\"ColumnDataSource\"},\"glyph\":{\"id\":\"1833\",\"type\":\"Line\"},\"hover_glyph\":null,\"muted_glyph\":null,\"nonselection_glyph\":{\"id\":\"1834\",\"type\":\"Line\"},\"selection_glyph\":null,\"view\":{\"id\":\"1836\",\"type\":\"CDSView\"}},\"id\":\"1835\",\"type\":\"GlyphRenderer\"},{\"attributes\":{\"items\":[{\"id\":\"1250\",\"type\":\"LegendItem\"},{\"id\":\"1264\",\"type\":\"LegendItem\"},{\"id\":\"1280\",\"type\":\"LegendItem\"},{\"id\":\"1298\",\"type\":\"LegendItem\"}],\"location\":\"bottom_right\"},\"id\":\"1249\",\"type\":\"Legend\"},{\"attributes\":{\"dimension\":1,\"ticker\":{\"id\":\"1316\",\"type\":\"BasicTicker\"}},\"id\":\"1319\",\"type\":\"Grid\"},{\"attributes\":{},\"id\":\"1311\",\"type\":\"BasicTicker\"},{\"attributes\":{},\"id\":\"1914\",\"type\":\"Selection\"},{\"attributes\":{\"ticker\":{\"id\":\"1311\",\"type\":\"BasicTicker\"}},\"id\":\"1314\",\"type\":\"Grid\"},{\"attributes\":{\"source\":{\"id\":\"1832\",\"type\":\"ColumnDataSource\"}},\"id\":\"1836\",\"type\":\"CDSView\"},{\"attributes\":{},\"id\":\"1848\",\"type\":\"UnionRenderers\"},{\"attributes\":{},\"id\":\"1316\",\"type\":\"BasicTicker\"},{\"attributes\":{\"axis_label\":\"concentration\",\"formatter\":{\"id\":\"1340\",\"type\":\"BasicTickFormatter\"},\"ticker\":{\"id\":\"1316\",\"type\":\"BasicTicker\"}},\"id\":\"1315\",\"type\":\"LinearAxis\"},{\"attributes\":{\"label\":{\"value\":\"bound proton pump\"},\"renderers\":[{\"id\":\"1835\",\"type\":\"GlyphRenderer\"}]},\"id\":\"1849\",\"type\":\"LegendItem\"},{\"attributes\":{\"callback\":null,\"data\":{\"x\":{\"__ndarray__\":\"AAAAAAAAAAAxb2dIzNu5PzFvZ0jM28k/ZZNNNtlk0z8xb2dIzNvZP3+lQK1fKeA/ZZNNNtlk4z9LgVq/UqDmPzFvZ0jM2+k/F1100UUX7T9/pUCtXynwP3Icx3Ecx/E/ZZNNNtlk8z9YCtT6lQL1P0uBWr9SoPY/Pvjggw8++D8xb2dIzNv5PyTm7QyJefs/F1100UUX/T8K1PqVArX+P3+lQK1fKQBA+OCDDz74AEByHMdxHMcBQOtXCtT6lQJAZZNNNtlkA0DezpCYtzMEQFgK1PqVAgVA0UUXXXTRBUBLgVq/UqAGQMS8nSExbwdAPvjggw8+CEC3MyTm7QwJQDFvZ0jM2wlAq6qqqqqqCkAk5u0MiXkLQJ4hMW9nSAxAF1100UUXDUCRmLczJOYNQArU+pUCtQ5AhA8++OCDD0B/pUCtXykQQDtDYt7OkBBA+OCDDz74EEC1fqVArV8RQHIcx3EcxxFALrrooosuEkDrVwrU+pUSQKj1KwVq/RJAZZNNNtlkE0AiMW9nSMwTQN7OkJi3MxRAm2yyySabFEBYCtT6lQIVQBWo9SsFahVA0UUXXXTRFUCO4ziO4zgWQEuBWr9SoBZACB988MEHF0DEvJ0hMW8XQIFav1Kg1hdAPvjggw8+GED7lQK1fqUYQLczJObtDBlAdNFFF110GUAxb2dIzNsZQO4MiXk7QxpAq6qqqqqqGkBnSMzbGRIbQCTm7QyJeRtA4YMPPvjgG0CeITFvZ0gcQFq/UqDWrxxAF1100UUXHUDU+pUCtX4dQJGYtzMk5h1ATTbZZJNNHkAK1PqVArUeQMdxHMdxHB9AhA8++OCDH0BArV8pUOsfQH+lQK1fKSBAXXTRRRddIEA7Q2LezpAgQBoS83aGxCBA+OCDDz74IEDXrxSo9SshQLV+pUCtXyFAk0022WSTIUByHMdxHMchQFDrVwrU+iFALrrooosuIkANiXk7Q2IiQOtXCtT6lSJAyiabbLLJIkCo9SsFav0iQIbEvJ0hMSNAZZNNNtlkI0BDYt7OkJgjQCIxb2dIzCNAAAAAAAAAJEA=\",\"dtype\":\"float64\",\"shape\":[100]},\"y\":{\"__ndarray__\":\"AAAAAAAAJEBD28HAlSMYQBXAqIZzIg1A417ZVv2UAUBCZqhmeDj1P/zC6Jy4nOk/DleGy6Lp3j/Fid2orqfSPxO1Tr4ChMY/tvvsvN8suz+Uib3kTGawP5tP1b4jy6M/Gf+/E8njlz+uLAfqctWMP+36glaFZoE/sXM7lGIAdT9NbMuIB1lpP9/wO4rvl14/Arrb42B2Uj+ghIhPgUhGP2/F2mAK5To/M0ClT/I6MD/qb1R/z5YjP9ByGlqfpBc/9Pa5bDyJDD9B1LQdnDgBPz79Dhb+yPQ+CwNBUWcW6T5osP8QR0fePgaI83KdRdI+ZZz7XC8Nxj7P070f2J26PvKNKCMwDrA+AvoCCStdoz5aHqZGgGaXPuVUedlPQ4w+IBN4bZwZgT4OTvpaj8Z0PlKRXzF792g+B5jaJJKpXT6LIbMA25xRPsgqSY9LFkU+9y8xief1OT6sqXrvVCwwPmosOMBfASQ+1kd2H3x7GD46SKy2vewNPgqu1fn1YAI+JuMCgDWm9j14+T8PUxzlPTgc0eIx0L29BR+3yWoc5r1lfGtMbQXxvWjY3NSqwvO9kKMv/u1F8724u8eQbR7vvU9I1PH4Huy9GHbpYHj97b0IoecrEk7uvSHJzlLGEO29YO6e1ZRF6r3EEFi0fezlvV4w+u6ABeC9xjc6hzjb2L0kDP6tD83VvYDgwdTmvtK9umkL93thz72EEpNEKkXJvT67GpLYKMO978dEvw0Zur2T/aHjvOi3vRbg5ywokbe9l8ItdpM5t70ZpXO//uG2vZqHuQhqira9HGr/UdUytr2eTEWbQNu1vR8vi+Srg7W9oRHRLRcstb0j9BZ3gtS0vaPWXMDtfLS9JrmiCVkltL2om+hSxM2zvSl+LpwvdrO9q2B05Zoes70sQ7ouBseyva4lAHhxb7K9MAhGwdwXsr2y6osKSMCxvTTN0VOzaLG9tq8XnR4Rsb03kl3mibmwvbh0oy/1YbC9OlfpeGAKsL14c16El2WvvX046hZutq69fv11qUQHrr2CwgE8G1itvYSHjc7xqKy9iEwZYcj5q70=\",\"dtype\":\"float64\",\"shape\":[100]}},\"selected\":{\"id\":\"1382\",\"type\":\"Selection\"},\"selection_policy\":{\"id\":\"1383\",\"type\":\"UnionRenderers\"}},\"id\":\"1333\",\"type\":\"ColumnDataSource\"},{\"attributes\":{},\"id\":\"1915\",\"type\":\"UnionRenderers\"},{\"attributes\":{\"active_drag\":\"auto\",\"active_inspect\":\"auto\",\"active_multi\":null,\"active_scroll\":\"auto\",\"active_tap\":\"auto\",\"tools\":[{\"id\":\"1320\",\"type\":\"PanTool\"},{\"id\":\"1321\",\"type\":\"WheelZoomTool\"},{\"id\":\"1322\",\"type\":\"BoxZoomTool\"},{\"id\":\"1323\",\"type\":\"SaveTool\"},{\"id\":\"1324\",\"type\":\"ResetTool\"},{\"id\":\"1325\",\"type\":\"HelpTool\"}]},\"id\":\"1326\",\"type\":\"Toolbar\"},{\"attributes\":{\"line_color\":\"#1f77b3\",\"line_width\":2,\"x\":{\"field\":\"x\"},\"y\":{\"field\":\"y\"}},\"id\":\"1334\",\"type\":\"Line\"},{\"attributes\":{\"data_source\":{\"id\":\"1333\",\"type\":\"ColumnDataSource\"},\"glyph\":{\"id\":\"1334\",\"type\":\"Line\"},\"hover_glyph\":null,\"muted_glyph\":null,\"nonselection_glyph\":{\"id\":\"1335\",\"type\":\"Line\"},\"selection_glyph\":null,\"view\":{\"id\":\"1337\",\"type\":\"CDSView\"}},\"id\":\"1336\",\"type\":\"GlyphRenderer\"},{\"attributes\":{\"below\":[{\"id\":\"1766\",\"type\":\"LinearAxis\"}],\"center\":[{\"id\":\"1770\",\"type\":\"Grid\"},{\"id\":\"1775\",\"type\":\"Grid\"},{\"id\":\"1800\",\"type\":\"Legend\"}],\"left\":[{\"id\":\"1771\",\"type\":\"LinearAxis\"}],\"plot_height\":350,\"plot_width\":450,\"renderers\":[{\"id\":\"1792\",\"type\":\"GlyphRenderer\"},{\"id\":\"1805\",\"type\":\"GlyphRenderer\"},{\"id\":\"1819\",\"type\":\"GlyphRenderer\"},{\"id\":\"1835\",\"type\":\"GlyphRenderer\"}],\"title\":{\"id\":\"1756\",\"type\":\"Title\"},\"toolbar\":{\"id\":\"1782\",\"type\":\"Toolbar\"},\"x_range\":{\"id\":\"1758\",\"type\":\"DataRange1d\"},\"x_scale\":{\"id\":\"1762\",\"type\":\"LinearScale\"},\"y_range\":{\"id\":\"1760\",\"type\":\"DataRange1d\"},\"y_scale\":{\"id\":\"1764\",\"type\":\"LinearScale\"}},\"id\":\"1755\",\"subtype\":\"Figure\",\"type\":\"Plot\"},{\"attributes\":{},\"id\":\"1320\",\"type\":\"PanTool\"},{\"attributes\":{\"line_color\":\"#1f77b3\",\"line_width\":2,\"x\":{\"field\":\"x\"},\"y\":{\"field\":\"y\"}},\"id\":\"1790\",\"type\":\"Line\"},{\"attributes\":{},\"id\":\"1321\",\"type\":\"WheelZoomTool\"},{\"attributes\":{\"data_source\":{\"id\":\"1789\",\"type\":\"ColumnDataSource\"},\"glyph\":{\"id\":\"1790\",\"type\":\"Line\"},\"hover_glyph\":null,\"muted_glyph\":null,\"nonselection_glyph\":{\"id\":\"1791\",\"type\":\"Line\"},\"selection_glyph\":null,\"view\":{\"id\":\"1793\",\"type\":\"CDSView\"}},\"id\":\"1792\",\"type\":\"GlyphRenderer\"},{\"attributes\":{\"overlay\":{\"id\":\"1343\",\"type\":\"BoxAnnotation\"}},\"id\":\"1322\",\"type\":\"BoxZoomTool\"},{\"attributes\":{\"text\":\"with ATP Synthase, Proton Pump, ATP Use\"},\"id\":\"1756\",\"type\":\"Title\"},{\"attributes\":{},\"id\":\"1323\",\"type\":\"SaveTool\"},{\"attributes\":{\"callback\":null},\"id\":\"1758\",\"type\":\"DataRange1d\"},{\"attributes\":{},\"id\":\"1847\",\"type\":\"Selection\"},{\"attributes\":{},\"id\":\"1324\",\"type\":\"ResetTool\"},{\"attributes\":{\"line_alpha\":0.1,\"line_color\":\"#1f77b4\",\"line_width\":2,\"x\":{\"field\":\"x\"},\"y\":{\"field\":\"y\"}},\"id\":\"1335\",\"type\":\"Line\"},{\"attributes\":{\"callback\":null},\"id\":\"1760\",\"type\":\"DataRange1d\"},{\"attributes\":{},\"id\":\"1325\",\"type\":\"HelpTool\"},{\"attributes\":{},\"id\":\"1762\",\"type\":\"LinearScale\"},{\"attributes\":{\"ticker\":{\"id\":\"1767\",\"type\":\"BasicTicker\"}},\"id\":\"1770\",\"type\":\"Grid\"},{\"attributes\":{\"source\":{\"id\":\"1333\",\"type\":\"ColumnDataSource\"}},\"id\":\"1337\",\"type\":\"CDSView\"},{\"attributes\":{},\"id\":\"1764\",\"type\":\"LinearScale\"},{\"attributes\":{},\"id\":\"1340\",\"type\":\"BasicTickFormatter\"},{\"attributes\":{\"dimension\":1,\"ticker\":{\"id\":\"1772\",\"type\":\"BasicTicker\"}},\"id\":\"1775\",\"type\":\"Grid\"},{\"attributes\":{\"bottom_units\":\"screen\",\"fill_alpha\":{\"value\":0.5},\"fill_color\":{\"value\":\"lightgrey\"},\"left_units\":\"screen\",\"level\":\"overlay\",\"line_alpha\":{\"value\":1.0},\"line_color\":{\"value\":\"black\"},\"line_dash\":[4,4],\"line_width\":{\"value\":2},\"render_mode\":\"css\",\"right_units\":\"screen\",\"top_units\":\"screen\"},\"id\":\"1343\",\"type\":\"BoxAnnotation\"},{\"attributes\":{},\"id\":\"1767\",\"type\":\"BasicTicker\"},{\"attributes\":{\"axis_label\":\"time\",\"formatter\":{\"id\":\"1798\",\"type\":\"BasicTickFormatter\"},\"ticker\":{\"id\":\"1767\",\"type\":\"BasicTicker\"}},\"id\":\"1766\",\"type\":\"LinearAxis\"},{\"attributes\":{\"items\":[{\"id\":\"1345\",\"type\":\"LegendItem\"}]},\"id\":\"1344\",\"type\":\"Legend\"},{\"attributes\":{},\"id\":\"1772\",\"type\":\"BasicTicker\"},{\"attributes\":{},\"id\":\"1342\",\"type\":\"BasicTickFormatter\"},{\"attributes\":{\"axis_label\":\"concentration\",\"formatter\":{\"id\":\"1796\",\"type\":\"BasicTickFormatter\"},\"ticker\":{\"id\":\"1772\",\"type\":\"BasicTicker\"}},\"id\":\"1771\",\"type\":\"LinearAxis\"},{\"attributes\":{\"callback\":null,\"data\":{\"x\":{\"__ndarray__\":\"AAAAAAAAAAAxb2dIzNu5PzFvZ0jM28k/ZZNNNtlk0z8xb2dIzNvZP3+lQK1fKeA/ZZNNNtlk4z9LgVq/UqDmPzFvZ0jM2+k/F1100UUX7T9/pUCtXynwP3Icx3Ecx/E/ZZNNNtlk8z9YCtT6lQL1P0uBWr9SoPY/Pvjggw8++D8xb2dIzNv5PyTm7QyJefs/F1100UUX/T8K1PqVArX+P3+lQK1fKQBA+OCDDz74AEByHMdxHMcBQOtXCtT6lQJAZZNNNtlkA0DezpCYtzMEQFgK1PqVAgVA0UUXXXTRBUBLgVq/UqAGQMS8nSExbwdAPvjggw8+CEC3MyTm7QwJQDFvZ0jM2wlAq6qqqqqqCkAk5u0MiXkLQJ4hMW9nSAxAF1100UUXDUCRmLczJOYNQArU+pUCtQ5AhA8++OCDD0B/pUCtXykQQDtDYt7OkBBA+OCDDz74EEC1fqVArV8RQHIcx3EcxxFALrrooosuEkDrVwrU+pUSQKj1KwVq/RJAZZNNNtlkE0AiMW9nSMwTQN7OkJi3MxRAm2yyySabFEBYCtT6lQIVQBWo9SsFahVA0UUXXXTRFUCO4ziO4zgWQEuBWr9SoBZACB988MEHF0DEvJ0hMW8XQIFav1Kg1hdAPvjggw8+GED7lQK1fqUYQLczJObtDBlAdNFFF110GUAxb2dIzNsZQO4MiXk7QxpAq6qqqqqqGkBnSMzbGRIbQCTm7QyJeRtA4YMPPvjgG0CeITFvZ0gcQFq/UqDWrxxAF1100UUXHUDU+pUCtX4dQJGYtzMk5h1ATTbZZJNNHkAK1PqVArUeQMdxHMdxHB9AhA8++OCDH0BArV8pUOsfQH+lQK1fKSBAXXTRRRddIEA7Q2LezpAgQBoS83aGxCBA+OCDDz74IEDXrxSo9SshQLV+pUCtXyFAk0022WSTIUByHMdxHMchQFDrVwrU+iFALrrooosuIkANiXk7Q2IiQOtXCtT6lSJAyiabbLLJIkCo9SsFav0iQIbEvJ0hMSNAZZNNNtlkI0BDYt7OkJgjQCIxb2dIzCNAAAAAAAAAJEA=\",\"dtype\":\"float64\",\"shape\":[100]},\"y\":{\"__ndarray__\":\"AAAAAAAAJEBSzUJ7RUwbQBxL1FCRzhhAGrPWsDCTGEAdRcyrrbsYQDgsNC2gBxlA9jFq24dsGUCYQNhSO+QZQP60apkaaBpAJfH6rrjxGkA7eloPsnsbQOux9kcIAhxA0S3mRBiCHEAMGB31XPocQKxi25Ukah1AtjriVk3RHUCH59CMEDAeQLW+rLDchh5APmZKoDvWHkBhE1/lwR4fQIe942MEYR9ApocRSZKdH0AibB/Q8dQfQOJ4O2DPAyBAQFCFAAUbIED9jvjnTDAgQC2N0zXVQyBAWg6LXsdVIEAfs0OdSGYgQFiWB1t6dSBA73ZflHqDIED16so2ZJAgQPzOrHdPnCBA30O3H1KnIEDTwoLRf7EgQCfiNEXquiBAmn3fgKHDIEDfGVYFtMsgQHVY/fsu0yBADQvIWB7aIEBXxAv9jOAgQKgJOtOE5iBA6Pgx6Q7sIECffRuGM/EgQOqEgz769SBAZS4oBmr6IEDuxVs/if4gQNTHWshdAiFAFzLACO0FIUBcMKb7OwkhQMnIjzlPDCFA3x1WASsPIUAqj2M/0xEhQFHK+JVLFCFARlgyYpcWIUBhgV7CuRghQMS19pq1GiFADQfsm40cIUD5OlNBRB4hQLSvP9/bHyFAQ9o7m1YhIUD2Cl13tiIhQILKS0/9IyFAmgP14CwlIUAWFsbIRiYhQNmejodMJyFA6KSXhT8oIUALf+gOISkhQJsDoVzyKSFAT+2Sj7QqIUCTMLe2aCshQOsfj80PLCFA5xAiv6osIUDtw5ZlOi0hQJfipo2/LSFAdBVQ9DouIUCEjb1KrS4hQJAsUDYXLyFAwHsST3kvIUD88g8m1C8hQES0Jj4oMCFAmhcuFXYwIUAzEBcdvjAhQJ/zDsIAMSFASMuKZz4xIUDu0KpqdzEhQCjfFyKsMSFABu2U3NwxIUBZMXnnCTIhQNJFVoYzMiFAiNwF+lkyIUCXbtd+fTIhQNXb4kueMiFANIF4lbwyIUDDigWL2DIhQN77NlnyMiFAjpyHKQozIUAQupIiIDMhQBvXomY0MyFAgYDoF0czIUA=\",\"dtype\":\"float64\",\"shape\":[100]}},\"selected\":{\"id\":\"1813\",\"type\":\"Selection\"},\"selection_policy\":{\"id\":\"1814\",\"type\":\"UnionRenderers\"}},\"id\":\"1789\",\"type\":\"ColumnDataSource\"},{\"attributes\":{\"label\":{\"value\":\"atp\"},\"renderers\":[{\"id\":\"1336\",\"type\":\"GlyphRenderer\"}]},\"id\":\"1345\",\"type\":\"LegendItem\"},{\"attributes\":{\"line_alpha\":0.1,\"line_color\":\"#1f77b4\",\"line_width\":2,\"x\":{\"field\":\"x\"},\"y\":{\"field\":\"y\"}},\"id\":\"1791\",\"type\":\"Line\"},{\"attributes\":{},\"id\":\"1379\",\"type\":\"Selection\"},{\"attributes\":{},\"id\":\"1776\",\"type\":\"PanTool\"},{\"attributes\":{},\"id\":\"1777\",\"type\":\"WheelZoomTool\"},{\"attributes\":{},\"id\":\"1380\",\"type\":\"UnionRenderers\"},{\"attributes\":{},\"id\":\"1383\",\"type\":\"UnionRenderers\"},{\"attributes\":{\"overlay\":{\"id\":\"1799\",\"type\":\"BoxAnnotation\"}},\"id\":\"1778\",\"type\":\"BoxZoomTool\"},{\"attributes\":{},\"id\":\"1779\",\"type\":\"SaveTool\"},{\"attributes\":{},\"id\":\"1382\",\"type\":\"Selection\"},{\"attributes\":{},\"id\":\"1211\",\"type\":\"LinearScale\"},{\"attributes\":{},\"id\":\"1780\",\"type\":\"ResetTool\"},{\"attributes\":{\"line_color\":\"#1f77b3\",\"line_width\":2,\"x\":{\"field\":\"x\"},\"y\":{\"field\":\"y\"}},\"id\":\"1239\",\"type\":\"Line\"},{\"attributes\":{\"line_alpha\":0.1,\"line_color\":\"#1f77b4\",\"line_width\":2,\"x\":{\"field\":\"x\"},\"y\":{\"field\":\"y\"}},\"id\":\"1253\",\"type\":\"Line\"},{\"attributes\":{},\"id\":\"1781\",\"type\":\"HelpTool\"},{\"attributes\":{\"active_drag\":\"auto\",\"active_inspect\":\"auto\",\"active_multi\":null,\"active_scroll\":\"auto\",\"active_tap\":\"auto\",\"tools\":[{\"id\":\"1776\",\"type\":\"PanTool\"},{\"id\":\"1777\",\"type\":\"WheelZoomTool\"},{\"id\":\"1778\",\"type\":\"BoxZoomTool\"},{\"id\":\"1779\",\"type\":\"SaveTool\"},{\"id\":\"1780\",\"type\":\"ResetTool\"},{\"id\":\"1781\",\"type\":\"HelpTool\"}]},\"id\":\"1782\",\"type\":\"Toolbar\"},{\"attributes\":{\"callback\":null,\"data\":{\"x\":{\"__ndarray__\":\"AAAAAAAAAAAxb2dIzNu5PzFvZ0jM28k/ZZNNNtlk0z8xb2dIzNvZP3+lQK1fKeA/ZZNNNtlk4z9LgVq/UqDmPzFvZ0jM2+k/F1100UUX7T9/pUCtXynwP3Icx3Ecx/E/ZZNNNtlk8z9YCtT6lQL1P0uBWr9SoPY/Pvjggw8++D8xb2dIzNv5PyTm7QyJefs/F1100UUX/T8K1PqVArX+P3+lQK1fKQBA+OCDDz74AEByHMdxHMcBQOtXCtT6lQJAZZNNNtlkA0DezpCYtzMEQFgK1PqVAgVA0UUXXXTRBUBLgVq/UqAGQMS8nSExbwdAPvjggw8+CEC3MyTm7QwJQDFvZ0jM2wlAq6qqqqqqCkAk5u0MiXkLQJ4hMW9nSAxAF1100UUXDUCRmLczJOYNQArU+pUCtQ5AhA8++OCDD0B/pUCtXykQQDtDYt7OkBBA+OCDDz74EEC1fqVArV8RQHIcx3EcxxFALrrooosuEkDrVwrU+pUSQKj1KwVq/RJAZZNNNtlkE0AiMW9nSMwTQN7OkJi3MxRAm2yyySabFEBYCtT6lQIVQBWo9SsFahVA0UUXXXTRFUCO4ziO4zgWQEuBWr9SoBZACB988MEHF0DEvJ0hMW8XQIFav1Kg1hdAPvjggw8+GED7lQK1fqUYQLczJObtDBlAdNFFF110GUAxb2dIzNsZQO4MiXk7QxpAq6qqqqqqGkBnSMzbGRIbQCTm7QyJeRtA4YMPPvjgG0CeITFvZ0gcQFq/UqDWrxxAF1100UUXHUDU+pUCtX4dQJGYtzMk5h1ATTbZZJNNHkAK1PqVArUeQMdxHMdxHB9AhA8++OCDH0BArV8pUOsfQH+lQK1fKSBAXXTRRRddIEA7Q2LezpAgQBoS83aGxCBA+OCDDz74IEDXrxSo9SshQLV+pUCtXyFAk0022WSTIUByHMdxHMchQFDrVwrU+iFALrrooosuIkANiXk7Q2IiQOtXCtT6lSJAyiabbLLJIkCo9SsFav0iQIbEvJ0hMSNAZZNNNtlkI0BDYt7OkJgjQCIxb2dIzCNAAAAAAAAAJEA=\",\"dtype\":\"float64\",\"shape\":[100]},\"y\":{\"__ndarray__\":\"AAAAAAAAJEC+/lfycyQYQGTvWr7+Yw1A2HwdM2VRA0CHx/h+tlQAQAFZQtg40QJAfm6VrExeCEA9yKWyg6EOQOkwaGBtIhJADNVl9CB1FEA2XVEheFQWQBpVr8k72RdAVq7tNAkZGUAWtF6W3iMaQGH+SflGBRtArGi1k7bFG0CM+x2VgGscQNn9l1l4+xxAhpwscVx5HUBe8vCfH+gdQJbjWO0bSh5AaSOGFzehHkCR5dEk/e4eQG19Zf6zNB9AqqbyKWpzH0C2Euf4AawfQHdBZCE63x9ApqZBNtoGIEDVdAd6/RsgQKKtfCRCLyBAg1y8YdtAIEAxUK+W9VAgQJDfk3W3XyBAtAuM30JtIEDQatedtXkgQAMEzvophSBA8wfUQLePIECktaQkcpkgQGBHLR5toiBAfbZ9s7iqIEAq73u4Y7IgQMBq+oR7uSBAg2XBIgzAIEB7IrF0IMYgQNzv/FnCyyBAu3f/yfrQIEDYf/bu0dUgQCOFQztP2iBAVotEfXneIEDPOe7vVuIgQISBl0nt5SBAGhEVyUHpIEDEeVFBWewgQEA3PSM47yBA9/HWhuLxIEBsjFczXPQgQPjPQ6ao9iBAAmnwGcv4IEAKNv6KxvogQFmdir2d/CBADGKpQlP+IEAltGl56f8gQKhD7phiASFAgUonrMACIUD7vJGaBQQhQNcOaiozBSFA4WXW/koGIUDHQI+gTgchQGqd1no/CCFANE/z4B4JIUCWJ1UN7gkhQAIx+yWuCiFA33bFO2ALIUCYU8tLBQwhQGwxS0SeDCFAASn3/ysNIUBXpGdMrw0hQIoz1ecoDiFACE11hJkOIUAtMtbGAQ8hQHxtREhiDyFAtIBjmbsPIUCZ5Rg9DhAhQHNW+LBaECFAkHL6ZqEQIUCPiZ7K4hAhQBRx7D4fESFAJGsZIVcRIUCU0MnGihEhQKdm5H66ESFAUrb0lOYRIUDgn7lMDxIhQPIEhuc0EiFAmCbenlcSIUBKTfGqdxIhQFHGOT+VEiFAcjThibASIUCZ8OG4yRIhQOIHRfPgEiFASLEPX/YSIUA=\",\"dtype\":\"float64\",\"shape\":[100]}},\"selected\":{\"id\":\"1262\",\"type\":\"Selection\"},\"selection_policy\":{\"id\":\"1263\",\"type\":\"UnionRenderers\"}},\"id\":\"1238\",\"type\":\"ColumnDataSource\"},{\"attributes\":{\"line_color\":\"#ff7e0e\",\"line_width\":2,\"x\":{\"field\":\"x\"},\"y\":{\"field\":\"y\"}},\"id\":\"1252\",\"type\":\"Line\"},{\"attributes\":{\"active_drag\":\"auto\",\"active_inspect\":\"auto\",\"active_multi\":null,\"active_scroll\":\"auto\",\"active_tap\":\"auto\",\"tools\":[{\"id\":\"1225\",\"type\":\"PanTool\"},{\"id\":\"1226\",\"type\":\"WheelZoomTool\"},{\"id\":\"1227\",\"type\":\"BoxZoomTool\"},{\"id\":\"1228\",\"type\":\"SaveTool\"},{\"id\":\"1229\",\"type\":\"ResetTool\"},{\"id\":\"1230\",\"type\":\"HelpTool\"}]},\"id\":\"1231\",\"type\":\"Toolbar\"},{\"attributes\":{\"label\":{\"value\":\"outside_H\"},\"renderers\":[{\"id\":\"1254\",\"type\":\"GlyphRenderer\"}]},\"id\":\"1264\",\"type\":\"LegendItem\"},{\"attributes\":{},\"id\":\"1278\",\"type\":\"Selection\"},{\"attributes\":{},\"id\":\"1225\",\"type\":\"PanTool\"},{\"attributes\":{\"bottom_units\":\"screen\",\"fill_alpha\":{\"value\":0.5},\"fill_color\":{\"value\":\"lightgrey\"},\"left_units\":\"screen\",\"level\":\"overlay\",\"line_alpha\":{\"value\":1.0},\"line_color\":{\"value\":\"black\"},\"line_dash\":[4,4],\"line_width\":{\"value\":2},\"render_mode\":\"css\",\"right_units\":\"screen\",\"top_units\":\"screen\"},\"id\":\"1799\",\"type\":\"BoxAnnotation\"},{\"attributes\":{},\"id\":\"1226\",\"type\":\"WheelZoomTool\"},{\"attributes\":{\"source\":{\"id\":\"1789\",\"type\":\"ColumnDataSource\"}},\"id\":\"1793\",\"type\":\"CDSView\"},{\"attributes\":{},\"id\":\"1245\",\"type\":\"BasicTickFormatter\"},{\"attributes\":{\"data_source\":{\"id\":\"1251\",\"type\":\"ColumnDataSource\"},\"glyph\":{\"id\":\"1252\",\"type\":\"Line\"},\"hover_glyph\":null,\"muted_glyph\":null,\"nonselection_glyph\":{\"id\":\"1253\",\"type\":\"Line\"},\"selection_glyph\":null,\"view\":{\"id\":\"1255\",\"type\":\"CDSView\"}},\"id\":\"1254\",\"type\":\"GlyphRenderer\"},{\"attributes\":{\"overlay\":{\"id\":\"1248\",\"type\":\"BoxAnnotation\"}},\"id\":\"1227\",\"type\":\"BoxZoomTool\"},{\"attributes\":{},\"id\":\"1796\",\"type\":\"BasicTickFormatter\"},{\"attributes\":{},\"id\":\"1228\",\"type\":\"SaveTool\"},{\"attributes\":{\"click_policy\":\"hide\",\"items\":[{\"id\":\"1801\",\"type\":\"LegendItem\"},{\"id\":\"1815\",\"type\":\"LegendItem\"},{\"id\":\"1831\",\"type\":\"LegendItem\"},{\"id\":\"1849\",\"type\":\"LegendItem\"}],\"location\":\"bottom_right\"},\"id\":\"1800\",\"type\":\"Legend\"},{\"attributes\":{},\"id\":\"1229\",\"type\":\"ResetTool\"},{\"attributes\":{},\"id\":\"1262\",\"type\":\"Selection\"},{\"attributes\":{},\"id\":\"1798\",\"type\":\"BasicTickFormatter\"},{\"attributes\":{},\"id\":\"1230\",\"type\":\"HelpTool\"},{\"attributes\":{\"label\":{\"value\":\"atp\"},\"renderers\":[{\"id\":\"1792\",\"type\":\"GlyphRenderer\"}]},\"id\":\"1801\",\"type\":\"LegendItem\"},{\"attributes\":{},\"id\":\"1247\",\"type\":\"BasicTickFormatter\"},{\"attributes\":{\"callback\":null,\"data\":{\"x\":{\"__ndarray__\":\"AAAAAAAAAAAxb2dIzNu5PzFvZ0jM28k/ZZNNNtlk0z8xb2dIzNvZP3+lQK1fKeA/ZZNNNtlk4z9LgVq/UqDmPzFvZ0jM2+k/F1100UUX7T9/pUCtXynwP3Icx3Ecx/E/ZZNNNtlk8z9YCtT6lQL1P0uBWr9SoPY/Pvjggw8++D8xb2dIzNv5PyTm7QyJefs/F1100UUX/T8K1PqVArX+P3+lQK1fKQBA+OCDDz74AEByHMdxHMcBQOtXCtT6lQJAZZNNNtlkA0DezpCYtzMEQFgK1PqVAgVA0UUXXXTRBUBLgVq/UqAGQMS8nSExbwdAPvjggw8+CEC3MyTm7QwJQDFvZ0jM2wlAq6qqqqqqCkAk5u0MiXkLQJ4hMW9nSAxAF1100UUXDUCRmLczJOYNQArU+pUCtQ5AhA8++OCDD0B/pUCtXykQQDtDYt7OkBBA+OCDDz74EEC1fqVArV8RQHIcx3EcxxFALrrooosuEkDrVwrU+pUSQKj1KwVq/RJAZZNNNtlkE0AiMW9nSMwTQN7OkJi3MxRAm2yyySabFEBYCtT6lQIVQBWo9SsFahVA0UUXXXTRFUCO4ziO4zgWQEuBWr9SoBZACB988MEHF0DEvJ0hMW8XQIFav1Kg1hdAPvjggw8+GED7lQK1fqUYQLczJObtDBlAdNFFF110GUAxb2dIzNsZQO4MiXk7QxpAq6qqqqqqGkBnSMzbGRIbQCTm7QyJeRtA4YMPPvjgG0CeITFvZ0gcQFq/UqDWrxxAF1100UUXHUDU+pUCtX4dQJGYtzMk5h1ATTbZZJNNHkAK1PqVArUeQMdxHMdxHB9AhA8++OCDH0BArV8pUOsfQH+lQK1fKSBAXXTRRRddIEA7Q2LezpAgQBoS83aGxCBA+OCDDz74IEDXrxSo9SshQLV+pUCtXyFAk0022WSTIUByHMdxHMchQFDrVwrU+iFALrrooosuIkANiXk7Q2IiQOtXCtT6lSJAyiabbLLJIkCo9SsFav0iQIbEvJ0hMSNAZZNNNtlkI0BDYt7OkJgjQCIxb2dIzCNAAAAAAAAAJEA=\",\"dtype\":\"float64\",\"shape\":[100]},\"y\":{\"__ndarray__\":\"AAAAAAAAJEBYhVlVI/kXQHqFznsQyhRAwcvkXCQoFEAtFoF/+QcUQAckn5CVARRAweMpklAAFEDvk6IBEAAUQGTB/S0DABRAwC6uoQAAFEApmh0gAAAUQM1LYQYAABRAPX1EAQAAFEDpekAAAAAUQL7RDAAAABRABYwCAAAAFECQgQAAAAAUQL4ZAAAAABRAHQUAAAAAFEAEAQAAAAAUQDMAAAAAABRACQAAAAAAFEABAAAAAAAUQAEAAAAAABRAAAAAAAAAFEAAAAAAAAAUQAAAAAAAABRAAAAAAAAAFEAAAAAAAAAUQAAAAAAAABRAAAAAAAAAFEAAAAAAAAAUQAAAAAAAABRAAAAAAAAAFEAAAAAAAAAUQAAAAAAAABRAAAAAAAAAFEAAAAAAAAAUQAAAAAAAABRAAAAAAAAAFEAAAAAAAAAUQAAAAAAAABRAAAAAAAAAFEAAAAAAAAAUQAAAAAAAABRAAAAAAAAAFEAAAAAAAAAUQAAAAAAAABRAAAAAAAAAFEAAAAAAAAAUQAAAAAAAABRAAAAAAAAAFEAAAAAAAAAUQAAAAAAAABRAAAAAAAAAFEAAAAAAAAAUQAAAAAAAABRAAAAAAAAAFEAAAAAAAAAUQAAAAAAAABRAAAAAAAAAFEAAAAAAAAAUQAAAAAAAABRAAAAAAAAAFEAAAAAAAAAUQAAAAAAAABRAAAAAAAAAFEAAAAAAAAAUQAAAAAAAABRAAAAAAAAAFEAAAAAAAAAUQAAAAAAAABRAAAAAAAAAFEAAAAAAAAAUQAAAAAAAABRAAAAAAAAAFEAAAAAAAAAUQAAAAAAAABRAAAAAAAAAFEAAAAAAAAAUQAAAAAAAABRAAAAAAAAAFEAAAAAAAAAUQAAAAAAAABRAAAAAAAAAFEAAAAAAAAAUQAAAAAAAABRAAAAAAAAAFEAAAAAAAAAUQAAAAAAAABRAAAAAAAAAFEAAAAAAAAAUQAAAAAAAABRAAAAAAAAAFEAAAAAAAAAUQAAAAAAAABRAAAAAAAAAFEAAAAAAAAAUQAAAAAAAABRAAAAAAAAAFEA=\",\"dtype\":\"float64\",\"shape\":[100]}},\"selected\":{\"id\":\"1829\",\"type\":\"Selection\"},\"selection_policy\":{\"id\":\"1830\",\"type\":\"UnionRenderers\"}},\"id\":\"1802\",\"type\":\"ColumnDataSource\"},{\"attributes\":{},\"id\":\"1279\",\"type\":\"UnionRenderers\"},{\"attributes\":{\"data_source\":{\"id\":\"1238\",\"type\":\"ColumnDataSource\"},\"glyph\":{\"id\":\"1239\",\"type\":\"Line\"},\"hover_glyph\":null,\"muted_glyph\":null,\"nonselection_glyph\":{\"id\":\"1240\",\"type\":\"Line\"},\"selection_glyph\":null,\"view\":{\"id\":\"1242\",\"type\":\"CDSView\"}},\"id\":\"1241\",\"type\":\"GlyphRenderer\"},{\"attributes\":{\"line_color\":\"#ff7e0e\",\"line_width\":2,\"x\":{\"field\":\"x\"},\"y\":{\"field\":\"y\"}},\"id\":\"1803\",\"type\":\"Line\"},{\"attributes\":{\"below\":[{\"id\":\"1215\",\"type\":\"LinearAxis\"}],\"center\":[{\"id\":\"1219\",\"type\":\"Grid\"},{\"id\":\"1224\",\"type\":\"Grid\"},{\"id\":\"1249\",\"type\":\"Legend\"}],\"left\":[{\"id\":\"1220\",\"type\":\"LinearAxis\"}],\"plot_height\":350,\"plot_width\":450,\"renderers\":[{\"id\":\"1241\",\"type\":\"GlyphRenderer\"},{\"id\":\"1254\",\"type\":\"GlyphRenderer\"},{\"id\":\"1268\",\"type\":\"GlyphRenderer\"},{\"id\":\"1284\",\"type\":\"GlyphRenderer\"}],\"title\":{\"id\":\"1205\",\"type\":\"Title\"},\"toolbar\":{\"id\":\"1231\",\"type\":\"Toolbar\"},\"x_range\":{\"id\":\"1207\",\"type\":\"DataRange1d\"},\"x_scale\":{\"id\":\"1211\",\"type\":\"LinearScale\"},\"y_range\":{\"id\":\"1209\",\"type\":\"DataRange1d\"},\"y_scale\":{\"id\":\"1213\",\"type\":\"LinearScale\"}},\"id\":\"1204\",\"subtype\":\"Figure\",\"type\":\"Plot\"},{\"attributes\":{\"line_alpha\":0.1,\"line_color\":\"#1f77b4\",\"line_width\":2,\"x\":{\"field\":\"x\"},\"y\":{\"field\":\"y\"}},\"id\":\"1240\",\"type\":\"Line\"},{\"attributes\":{\"line_alpha\":0.1,\"line_color\":\"#1f77b4\",\"line_width\":2,\"x\":{\"field\":\"x\"},\"y\":{\"field\":\"y\"}},\"id\":\"1804\",\"type\":\"Line\"},{\"attributes\":{\"data_source\":{\"id\":\"1265\",\"type\":\"ColumnDataSource\"},\"glyph\":{\"id\":\"1266\",\"type\":\"Line\"},\"hover_glyph\":null,\"muted_glyph\":null,\"nonselection_glyph\":{\"id\":\"1267\",\"type\":\"Line\"},\"selection_glyph\":null,\"view\":{\"id\":\"1269\",\"type\":\"CDSView\"}},\"id\":\"1268\",\"type\":\"GlyphRenderer\"},{\"attributes\":{\"source\":{\"id\":\"1238\",\"type\":\"ColumnDataSource\"}},\"id\":\"1242\",\"type\":\"CDSView\"},{\"attributes\":{\"data_source\":{\"id\":\"1802\",\"type\":\"ColumnDataSource\"},\"glyph\":{\"id\":\"1803\",\"type\":\"Line\"},\"hover_glyph\":null,\"muted_glyph\":null,\"nonselection_glyph\":{\"id\":\"1804\",\"type\":\"Line\"},\"selection_glyph\":null,\"view\":{\"id\":\"1806\",\"type\":\"CDSView\"}},\"id\":\"1805\",\"type\":\"GlyphRenderer\"},{\"attributes\":{\"below\":[{\"id\":\"1310\",\"type\":\"LinearAxis\"}],\"center\":[{\"id\":\"1314\",\"type\":\"Grid\"},{\"id\":\"1319\",\"type\":\"Grid\"},{\"id\":\"1344\",\"type\":\"Legend\"}],\"left\":[{\"id\":\"1315\",\"type\":\"LinearAxis\"}],\"plot_height\":350,\"plot_width\":450,\"renderers\":[{\"id\":\"1336\",\"type\":\"GlyphRenderer\"}],\"title\":{\"id\":\"1300\",\"type\":\"Title\"},\"toolbar\":{\"id\":\"1326\",\"type\":\"Toolbar\"},\"x_range\":{\"id\":\"1302\",\"type\":\"DataRange1d\"},\"x_scale\":{\"id\":\"1306\",\"type\":\"LinearScale\"},\"y_range\":{\"id\":\"1304\",\"type\":\"DataRange1d\"},\"y_scale\":{\"id\":\"1308\",\"type\":\"LinearScale\"}},\"id\":\"1299\",\"subtype\":\"Figure\",\"type\":\"Plot\"},{\"attributes\":{\"callback\":null,\"data\":{\"x\":{\"__ndarray__\":\"AAAAAAAAAAAxb2dIzNu5PzFvZ0jM28k/ZZNNNtlk0z8xb2dIzNvZP3+lQK1fKeA/ZZNNNtlk4z9LgVq/UqDmPzFvZ0jM2+k/F1100UUX7T9/pUCtXynwP3Icx3Ecx/E/ZZNNNtlk8z9YCtT6lQL1P0uBWr9SoPY/Pvjggw8++D8xb2dIzNv5PyTm7QyJefs/F1100UUX/T8K1PqVArX+P3+lQK1fKQBA+OCDDz74AEByHMdxHMcBQOtXCtT6lQJAZZNNNtlkA0DezpCYtzMEQFgK1PqVAgVA0UUXXXTRBUBLgVq/UqAGQMS8nSExbwdAPvjggw8+CEC3MyTm7QwJQDFvZ0jM2wlAq6qqqqqqCkAk5u0MiXkLQJ4hMW9nSAxAF1100UUXDUCRmLczJOYNQArU+pUCtQ5AhA8++OCDD0B/pUCtXykQQDtDYt7OkBBA+OCDDz74EEC1fqVArV8RQHIcx3EcxxFALrrooosuEkDrVwrU+pUSQKj1KwVq/RJAZZNNNtlkE0AiMW9nSMwTQN7OkJi3MxRAm2yyySabFEBYCtT6lQIVQBWo9SsFahVA0UUXXXTRFUCO4ziO4zgWQEuBWr9SoBZACB988MEHF0DEvJ0hMW8XQIFav1Kg1hdAPvjggw8+GED7lQK1fqUYQLczJObtDBlAdNFFF110GUAxb2dIzNsZQO4MiXk7QxpAq6qqqqqqGkBnSMzbGRIbQCTm7QyJeRtA4YMPPvjgG0CeITFvZ0gcQFq/UqDWrxxAF1100UUXHUDU+pUCtX4dQJGYtzMk5h1ATTbZZJNNHkAK1PqVArUeQMdxHMdxHB9AhA8++OCDH0BArV8pUOsfQH+lQK1fKSBAXXTRRRddIEA7Q2LezpAgQBoS83aGxCBA+OCDDz74IEDXrxSo9SshQLV+pUCtXyFAk0022WSTIUByHMdxHMchQFDrVwrU+iFALrrooosuIkANiXk7Q2IiQOtXCtT6lSJAyiabbLLJIkCo9SsFav0iQIbEvJ0hMSNAZZNNNtlkI0BDYt7OkJgjQCIxb2dIzCNAAAAAAAAAJEA=\",\"dtype\":\"float64\",\"shape\":[100]},\"y\":{\"__ndarray__\":\"AAAAAAAAAACneqaq3AYQQIV6MYTvNRNAPjQbo9vXE0DS6X6ABvgTQPjbYG9q/hNAPhzWba//E0AQbF3+7/8TQJs+AtL8/xNAP9FRXv//E0DWZeLf//8TQDK0nvn//xNAwoK7/v//E0AWhb////8TQEEu8////xNA+nP9////E0Bvfv////8TQEHm/////xNA4vr/////E0D7/v////8TQMz//////xNA9v//////E0D+//////8TQP7//////xNA////////E0D///////8TQP///////xNA////////E0D///////8TQP///////xNA////////E0D///////8TQP///////xNA////////E0D///////8TQP///////xNA////////E0D///////8TQP///////xNA////////E0D///////8TQP///////xNA////////E0D///////8TQP///////xNA////////E0D///////8TQP///////xNA////////E0D///////8TQP///////xNA////////E0D///////8TQP///////xNA////////E0D///////8TQP///////xNA////////E0D///////8TQP///////xNA////////E0D///////8TQP///////xNA////////E0D///////8TQP///////xNA////////E0D///////8TQP///////xNA////////E0D///////8TQP///////xNA////////E0D///////8TQP///////xNA////////E0D///////8TQP///////xNA////////E0D///////8TQP///////xNA////////E0D///////8TQP///////xNA////////E0D///////8TQP///////xNA////////E0D///////8TQP///////xNA////////E0D///////8TQP///////xNA////////E0D///////8TQP///////xNA////////E0D///////8TQP///////xNA////////E0A=\",\"dtype\":\"float64\",\"shape\":[100]}},\"selected\":{\"id\":\"1847\",\"type\":\"Selection\"},\"selection_policy\":{\"id\":\"1848\",\"type\":\"UnionRenderers\"}},\"id\":\"1816\",\"type\":\"ColumnDataSource\"},{\"attributes\":{\"text\":\"with ATP Synthase, ATP Use\"},\"id\":\"1205\",\"type\":\"Title\"},{\"attributes\":{\"source\":{\"id\":\"1802\",\"type\":\"ColumnDataSource\"}},\"id\":\"1806\",\"type\":\"CDSView\"},{\"attributes\":{\"source\":{\"id\":\"1251\",\"type\":\"ColumnDataSource\"}},\"id\":\"1255\",\"type\":\"CDSView\"},{\"attributes\":{\"line_color\":\"#2ba02b\",\"line_width\":2,\"x\":{\"field\":\"x\"},\"y\":{\"field\":\"y\"}},\"id\":\"1266\",\"type\":\"Line\"},{\"attributes\":{\"line_color\":\"#9367bc\",\"line_width\":2,\"x\":{\"field\":\"x\"},\"y\":{\"field\":\"y\"}},\"id\":\"1282\",\"type\":\"Line\"},{\"attributes\":{},\"id\":\"1813\",\"type\":\"Selection\"},{\"attributes\":{\"bottom_units\":\"screen\",\"fill_alpha\":{\"value\":0.5},\"fill_color\":{\"value\":\"lightgrey\"},\"left_units\":\"screen\",\"level\":\"overlay\",\"line_alpha\":{\"value\":1.0},\"line_color\":{\"value\":\"black\"},\"line_dash\":[4,4],\"line_width\":{\"value\":2},\"render_mode\":\"css\",\"right_units\":\"screen\",\"top_units\":\"screen\"},\"id\":\"1248\",\"type\":\"BoxAnnotation\"},{\"attributes\":{\"label\":{\"value\":\"outside_H\"},\"renderers\":[{\"id\":\"1805\",\"type\":\"GlyphRenderer\"}]},\"id\":\"1815\",\"type\":\"LegendItem\"},{\"attributes\":{\"callback\":null,\"data\":{\"x\":{\"__ndarray__\":\"AAAAAAAAAAAxb2dIzNu5PzFvZ0jM28k/ZZNNNtlk0z8xb2dIzNvZP3+lQK1fKeA/ZZNNNtlk4z9LgVq/UqDmPzFvZ0jM2+k/F1100UUX7T9/pUCtXynwP3Icx3Ecx/E/ZZNNNtlk8z9YCtT6lQL1P0uBWr9SoPY/Pvjggw8++D8xb2dIzNv5PyTm7QyJefs/F1100UUX/T8K1PqVArX+P3+lQK1fKQBA+OCDDz74AEByHMdxHMcBQOtXCtT6lQJAZZNNNtlkA0DezpCYtzMEQFgK1PqVAgVA0UUXXXTRBUBLgVq/UqAGQMS8nSExbwdAPvjggw8+CEC3MyTm7QwJQDFvZ0jM2wlAq6qqqqqqCkAk5u0MiXkLQJ4hMW9nSAxAF1100UUXDUCRmLczJOYNQArU+pUCtQ5AhA8++OCDD0B/pUCtXykQQDtDYt7OkBBA+OCDDz74EEC1fqVArV8RQHIcx3EcxxFALrrooosuEkDrVwrU+pUSQKj1KwVq/RJAZZNNNtlkE0AiMW9nSMwTQN7OkJi3MxRAm2yyySabFEBYCtT6lQIVQBWo9SsFahVA0UUXXXTRFUCO4ziO4zgWQEuBWr9SoBZACB988MEHF0DEvJ0hMW8XQIFav1Kg1hdAPvjggw8+GED7lQK1fqUYQLczJObtDBlAdNFFF110GUAxb2dIzNsZQO4MiXk7QxpAq6qqqqqqGkBnSMzbGRIbQCTm7QyJeRtA4YMPPvjgG0CeITFvZ0gcQFq/UqDWrxxAF1100UUXHUDU+pUCtX4dQJGYtzMk5h1ATTbZZJNNHkAK1PqVArUeQMdxHMdxHB9AhA8++OCDH0BArV8pUOsfQH+lQK1fKSBAXXTRRRddIEA7Q2LezpAgQBoS83aGxCBA+OCDDz74IEDXrxSo9SshQLV+pUCtXyFAk0022WSTIUByHMdxHMchQFDrVwrU+iFALrrooosuIkANiXk7Q2IiQOtXCtT6lSJAyiabbLLJIkCo9SsFav0iQIbEvJ0hMSNAZZNNNtlkI0BDYt7OkJgjQCIxb2dIzCNAAAAAAAAAJEA=\",\"dtype\":\"float64\",\"shape\":[100]},\"y\":{\"__ndarray__\":\"AAAAAAAAAAAAqAWyIxhaP1a9skNdNIg/1Bbo8nnzoj+coK7zvtm0P1CfSEP66MI/6i6F2fxbzj9KzH3gn2fWP2GNL2Y8Gd8/V4eEB4yY5D/WmCoVQ0vqP+G4iG8ES/A/g4Bk/0608z8HqK5k+Fj3P4KXIkhVMPs/2gls2s4x/z9ifo9xhqoBQEACp4sKyQNA5R+qz7DwBUCELg81+B0IQCOps1emTQpAAiw/2cl8DEAK4/n2uqgOQHYlrFCNZxBARpgXPeh2EUDfXd3+g4ESQNQ3FImWhhNAPqK7FnSFFECtoYwcjX0VQNSBzSlsbhZAVlKRxLNXF0AC+G9LHDkYQKP3L+RxEhlAFx2HfZLjGUDwZ8bna6waQH0E+Af6bBtAcuOaJkUlHECTiO5bYNUcQKHRfBlofR1ARi360IAdHkDRsVC41bUeQKacRKmXRh9ATBsbHPzPH0BkFtcdHikgQCLf+AjKZiBAug1V5SChIEBe19eFQtggQBYWUDBPDCFAFqZnXGc9IUBv9et6q2shQP7TvMQ7lyFAWR61EDjAIUA69tyvv+YhQCNISU/xCiJAuchE3+osIkBbYwB/yUwiQE0CVGypaiJANJcz96WGIkDMGUR42aAiQCAk5UtduSJApvBoyEnQIkDR8fRItuUiQLVHuxy5+SJAqhRhmWcMI0CxQ+UL1h0jQB5MeNQXLiNAf6i/VD89I0DAR5QDXksjQOC3bW2EWCNAalhRP8JkI0CRxqpNJnAjQCrQNp6+eiNATRRFXpiEI0AaBgMRwI0jQPQ6RnFBliNAxNgNjSeeI0DWaY3JfKUjQK7wnepKrCNAvdiyHJuyI0DCnWf7dbgjQJjh75TjvSNA1XebeuvCI0BBmd2+lMcjQOZMewDmyyNACuNhcOXPI0A+ZD7XmNMjQCoLOJwF1yNAz6n1yjDaI0BA4I8XH90jQIyK/ObU3yNAZoz3TFbiI0Cl/Sgcp+QjQMoIVeLK5iNAByxp48ToI0A08Oc7mOojQEMBBsRH7CNAqsF+ItbtI0CObg3QRe8jQACeDReZ8CNAZezKF9LxI0A=\",\"dtype\":\"float64\",\"shape\":[100]}},\"selected\":{\"id\":\"1379\",\"type\":\"Selection\"},\"selection_policy\":{\"id\":\"1380\",\"type\":\"UnionRenderers\"}},\"id\":\"1281\",\"type\":\"ColumnDataSource\"},{\"attributes\":{\"label\":{\"value\":\"atp\"},\"renderers\":[{\"id\":\"1241\",\"type\":\"GlyphRenderer\"}]},\"id\":\"1250\",\"type\":\"LegendItem\"},{\"attributes\":{},\"id\":\"1814\",\"type\":\"UnionRenderers\"},{\"attributes\":{\"label\":{\"value\":\"inside_H\"},\"renderers\":[{\"id\":\"1268\",\"type\":\"GlyphRenderer\"}]},\"id\":\"1280\",\"type\":\"LegendItem\"},{\"attributes\":{\"line_alpha\":0.1,\"line_color\":\"#1f77b4\",\"line_width\":2,\"x\":{\"field\":\"x\"},\"y\":{\"field\":\"y\"}},\"id\":\"1283\",\"type\":\"Line\"},{\"attributes\":{\"source\":{\"id\":\"1265\",\"type\":\"ColumnDataSource\"}},\"id\":\"1269\",\"type\":\"CDSView\"},{\"attributes\":{\"callback\":null},\"id\":\"1207\",\"type\":\"DataRange1d\"},{\"attributes\":{\"data_source\":{\"id\":\"1281\",\"type\":\"ColumnDataSource\"},\"glyph\":{\"id\":\"1282\",\"type\":\"Line\"},\"hover_glyph\":null,\"muted_glyph\":null,\"nonselection_glyph\":{\"id\":\"1283\",\"type\":\"Line\"},\"selection_glyph\":null,\"view\":{\"id\":\"1285\",\"type\":\"CDSView\"}},\"id\":\"1284\",\"type\":\"GlyphRenderer\"},{\"attributes\":{},\"id\":\"1213\",\"type\":\"LinearScale\"},{\"attributes\":{\"line_color\":\"#2ba02b\",\"line_width\":2,\"x\":{\"field\":\"x\"},\"y\":{\"field\":\"y\"}},\"id\":\"1817\",\"type\":\"Line\"},{\"attributes\":{\"callback\":null,\"data\":{\"x\":{\"__ndarray__\":\"AAAAAAAAAAAxb2dIzNu5PzFvZ0jM28k/ZZNNNtlk0z8xb2dIzNvZP3+lQK1fKeA/ZZNNNtlk4z9LgVq/UqDmPzFvZ0jM2+k/F1100UUX7T9/pUCtXynwP3Icx3Ecx/E/ZZNNNtlk8z9YCtT6lQL1P0uBWr9SoPY/Pvjggw8++D8xb2dIzNv5PyTm7QyJefs/F1100UUX/T8K1PqVArX+P3+lQK1fKQBA+OCDDz74AEByHMdxHMcBQOtXCtT6lQJAZZNNNtlkA0DezpCYtzMEQFgK1PqVAgVA0UUXXXTRBUBLgVq/UqAGQMS8nSExbwdAPvjggw8+CEC3MyTm7QwJQDFvZ0jM2wlAq6qqqqqqCkAk5u0MiXkLQJ4hMW9nSAxAF1100UUXDUCRmLczJOYNQArU+pUCtQ5AhA8++OCDD0B/pUCtXykQQDtDYt7OkBBA+OCDDz74EEC1fqVArV8RQHIcx3EcxxFALrrooosuEkDrVwrU+pUSQKj1KwVq/RJAZZNNNtlkE0AiMW9nSMwTQN7OkJi3MxRAm2yyySabFEBYCtT6lQIVQBWo9SsFahVA0UUXXXTRFUCO4ziO4zgWQEuBWr9SoBZACB988MEHF0DEvJ0hMW8XQIFav1Kg1hdAPvjggw8+GED7lQK1fqUYQLczJObtDBlAdNFFF110GUAxb2dIzNsZQO4MiXk7QxpAq6qqqqqqGkBnSMzbGRIbQCTm7QyJeRtA4YMPPvjgG0CeITFvZ0gcQFq/UqDWrxxAF1100UUXHUDU+pUCtX4dQJGYtzMk5h1ATTbZZJNNHkAK1PqVArUeQMdxHMdxHB9AhA8++OCDH0BArV8pUOsfQH+lQK1fKSBAXXTRRRddIEA7Q2LezpAgQBoS83aGxCBA+OCDDz74IEDXrxSo9SshQLV+pUCtXyFAk0022WSTIUByHMdxHMchQFDrVwrU+iFALrrooosuIkANiXk7Q2IiQOtXCtT6lSJAyiabbLLJIkCo9SsFav0iQIbEvJ0hMSNAZZNNNtlkI0BDYt7OkJgjQCIxb2dIzCNAAAAAAAAAJEA=\",\"dtype\":\"float64\",\"shape\":[100]},\"y\":{\"__ndarray__\":\"AAAAAAAAAADMAKYG5ysWQDHx9KvcBiBA/ttBEqY6IkAfgQKD7zUjQORYNPXvpSNAwjVOodvXI0D/axuxG+4jQOGZqH8G+CNA7Qq8E3L8I0C2XZVvav4jQIS2IDxL/yNATqo/bq//I0BU5/MW3P8jQKSIlP7v/yNA0cS93fj/I0ANoQTS/P8jQKYTM5X+/yNAaLtLXv//I0CxK+23//8jQKTK39///yNARzau8f//I0DuDZ75//8jQCu1J/3//yNAyWG7/v//I0BnT2////8jQCqCv////yNAK0Hj////I0D6L/P///8jQAFK+v///yNAV3T9////I0CJ3f7///8jQId+/////yNASMb/////I0BG5v////8jQIf0/////yNA5fr/////I0C8/f////8jQP/+/////yNAj///////I0DQ//////8jQO3//////yNA+///////I0ABAAAAAAAkQAMAAAAAACRAAwAAAAAAJEADAAAAAAAkQAMAAAAAACRAAwAAAAAAJEADAAAAAAAkQAMAAAAAACRAAwAAAAAAJEADAAAAAAAkQAMAAAAAACRAAwAAAAAAJEADAAAAAAAkQAMAAAAAACRAAwAAAAAAJEADAAAAAAAkQAMAAAAAACRAAwAAAAAAJEADAAAAAAAkQAMAAAAAACRAAwAAAAAAJEADAAAAAAAkQAMAAAAAACRAAwAAAAAAJEADAAAAAAAkQAMAAAAAACRAAwAAAAAAJEADAAAAAAAkQAMAAAAAACRAAwAAAAAAJEADAAAAAAAkQAMAAAAAACRAAwAAAAAAJEADAAAAAAAkQAMAAAAAACRAAwAAAAAAJEADAAAAAAAkQAMAAAAAACRAAwAAAAAAJEADAAAAAAAkQAMAAAAAACRAAwAAAAAAJEADAAAAAAAkQAMAAAAAACRAAwAAAAAAJEADAAAAAAAkQAMAAAAAACRAAwAAAAAAJEADAAAAAAAkQAMAAAAAACRAAwAAAAAAJEADAAAAAAAkQAMAAAAAACRAAwAAAAAAJEADAAAAAAAkQAMAAAAAACRAAwAAAAAAJEA=\",\"dtype\":\"float64\",\"shape\":[100]}},\"selected\":{\"id\":\"1296\",\"type\":\"Selection\"},\"selection_policy\":{\"id\":\"1297\",\"type\":\"UnionRenderers\"}},\"id\":\"1265\",\"type\":\"ColumnDataSource\"},{\"attributes\":{\"source\":{\"id\":\"1281\",\"type\":\"ColumnDataSource\"}},\"id\":\"1285\",\"type\":\"CDSView\"},{\"attributes\":{\"axis_label\":\"concentration\",\"formatter\":{\"id\":\"1245\",\"type\":\"BasicTickFormatter\"},\"ticker\":{\"id\":\"1221\",\"type\":\"BasicTicker\"}},\"id\":\"1220\",\"type\":\"LinearAxis\"},{\"attributes\":{},\"id\":\"1296\",\"type\":\"Selection\"},{\"attributes\":{\"line_alpha\":0.1,\"line_color\":\"#1f77b4\",\"line_width\":2,\"x\":{\"field\":\"x\"},\"y\":{\"field\":\"y\"}},\"id\":\"1818\",\"type\":\"Line\"},{\"attributes\":{\"axis_label\":\"time\",\"formatter\":{\"id\":\"1247\",\"type\":\"BasicTickFormatter\"},\"ticker\":{\"id\":\"1216\",\"type\":\"BasicTicker\"}},\"id\":\"1215\",\"type\":\"LinearAxis\"},{\"attributes\":{\"label\":{\"value\":\"bound atp synthase\"},\"renderers\":[{\"id\":\"1284\",\"type\":\"GlyphRenderer\"}]},\"id\":\"1298\",\"type\":\"LegendItem\"},{\"attributes\":{\"data_source\":{\"id\":\"1816\",\"type\":\"ColumnDataSource\"},\"glyph\":{\"id\":\"1817\",\"type\":\"Line\"},\"hover_glyph\":null,\"muted_glyph\":null,\"nonselection_glyph\":{\"id\":\"1818\",\"type\":\"Line\"},\"selection_glyph\":null,\"view\":{\"id\":\"1820\",\"type\":\"CDSView\"}},\"id\":\"1819\",\"type\":\"GlyphRenderer\"},{\"attributes\":{\"line_color\":\"#9367bc\",\"line_width\":2,\"x\":{\"field\":\"x\"},\"y\":{\"field\":\"y\"}},\"id\":\"1833\",\"type\":\"Line\"},{\"attributes\":{},\"id\":\"1297\",\"type\":\"UnionRenderers\"},{\"attributes\":{\"callback\":null},\"id\":\"1209\",\"type\":\"DataRange1d\"},{\"attributes\":{\"text\":\"with ATP Use\"},\"id\":\"1300\",\"type\":\"Title\"},{\"attributes\":{\"source\":{\"id\":\"1816\",\"type\":\"ColumnDataSource\"}},\"id\":\"1820\",\"type\":\"CDSView\"},{\"attributes\":{\"callback\":null,\"data\":{\"x\":{\"__ndarray__\":\"AAAAAAAAAAAxb2dIzNu5PzFvZ0jM28k/ZZNNNtlk0z8xb2dIzNvZP3+lQK1fKeA/ZZNNNtlk4z9LgVq/UqDmPzFvZ0jM2+k/F1100UUX7T9/pUCtXynwP3Icx3Ecx/E/ZZNNNtlk8z9YCtT6lQL1P0uBWr9SoPY/Pvjggw8++D8xb2dIzNv5PyTm7QyJefs/F1100UUX/T8K1PqVArX+P3+lQK1fKQBA+OCDDz74AEByHMdxHMcBQOtXCtT6lQJAZZNNNtlkA0DezpCYtzMEQFgK1PqVAgVA0UUXXXTRBUBLgVq/UqAGQMS8nSExbwdAPvjggw8+CEC3MyTm7QwJQDFvZ0jM2wlAq6qqqqqqCkAk5u0MiXkLQJ4hMW9nSAxAF1100UUXDUCRmLczJOYNQArU+pUCtQ5AhA8++OCDD0B/pUCtXykQQDtDYt7OkBBA+OCDDz74EEC1fqVArV8RQHIcx3EcxxFALrrooosuEkDrVwrU+pUSQKj1KwVq/RJAZZNNNtlkE0AiMW9nSMwTQN7OkJi3MxRAm2yyySabFEBYCtT6lQIVQBWo9SsFahVA0UUXXXTRFUCO4ziO4zgWQEuBWr9SoBZACB988MEHF0DEvJ0hMW8XQIFav1Kg1hdAPvjggw8+GED7lQK1fqUYQLczJObtDBlAdNFFF110GUAxb2dIzNsZQO4MiXk7QxpAq6qqqqqqGkBnSMzbGRIbQCTm7QyJeRtA4YMPPvjgG0CeITFvZ0gcQFq/UqDWrxxAF1100UUXHUDU+pUCtX4dQJGYtzMk5h1ATTbZZJNNHkAK1PqVArUeQMdxHMdxHB9AhA8++OCDH0BArV8pUOsfQH+lQK1fKSBAXXTRRRddIEA7Q2LezpAgQBoS83aGxCBA+OCDDz74IEDXrxSo9SshQLV+pUCtXyFAk0022WSTIUByHMdxHMchQFDrVwrU+iFALrrooosuIkANiXk7Q2IiQOtXCtT6lSJAyiabbLLJIkCo9SsFav0iQIbEvJ0hMSNAZZNNNtlkI0BDYt7OkJgjQCIxb2dIzCNAAAAAAAAAJEA=\",\"dtype\":\"float64\",\"shape\":[100]},\"y\":{\"__ndarray__\":\"AAAAAAAAJEA4/1n5GNQRQIJ2WKAayf8/PkDi255V7D883K+fD0LZPz/H6bIChMY/Vh/lWC8StD9XA5TkTuShP8uGmF0B5o8/sqSoH2JvfD/rvSSqBllpP0HCL+l7mFY/01ltFXAkRD/8ZVcMhvQxP80GX3drASA/I0HE7AiJDD95f6T32m/5PiwYsMXOrOY+cuksk4g21D7NqN8TtQTCPm5Iyq0aELA+Ou12cJOjnD5Cqg5FyIeJPgnE35pWwnY+KxTRYeNJZD5+l7ghExZSPtwkGbh1H0A+14OSvda+LD5MwTbGD6AZPuuupQIF2AY+hgN2Okld9D07f3IIeifiPWyP8/IYL9A93QgHX/ravD104P2rW7mpPTvx7mXJ7pY9mrkz88JxhD2sCez63zlyPSza3NOoP2A9GI95f7v4TD2CpDM9GdQ5Pbc8CS7OBic9KJnbAmeHFD1268iEP00CPcYWFM8EUfA8+yZfPcsX3TwDWuIE+e/JPMinPYbBH7c8CcL3UqqdpDxboELwQWGSPJDuban0YoA8ZSfp68Y3bTwL63AbFwxaPG797JXAOEc8AtFqUgy0NDxEBdjUMHUiPLrtkFmIdBA8LeX18eBW/TsnhRYchSnqO3M8mQa5Utc7KEU9IZ7MxDvSubsSt4qyO5wILU3RiKA7OHixh/15jTv2rrkin0l6O9JfrOG5b2c7p8dJehPlVDuO5s3tgqBCO630lV5ImzA75JbExxWdHTuIDTWABGcKO0BJfPEyhvc6A+WudoH85DqtMBu15LXSOmH4cNlbrsA6ALtJlRi+rTpxG8OFv4OaOvN6rdkYpIc66MXthgAUdTpw/rP8k8liOuPuYakHwVA6sLKXtbnfPTpKJ4ZwTaIqOpWOjgLNvhc6gLtwQwkrBTpmqvSeK9/yOWBMZzSa0+A5CuczFyMAzjnSaJi4F8G6OTfSJiHU1qc5GLodt5xGlTnziv4ahfeCOTRngTor4XA5U+LCDpsrXjlwqUzT/eVKOeq5s6Io+Tc5uFlVwF1mJTnS1I1ROhMTOWlgMqJkAQE5d7Ws+VJb7jg=\",\"dtype\":\"float64\",\"shape\":[100]}},\"selected\":{\"id\":\"1278\",\"type\":\"Selection\"},\"selection_policy\":{\"id\":\"1279\",\"type\":\"UnionRenderers\"}},\"id\":\"1251\",\"type\":\"ColumnDataSource\"},{\"attributes\":{\"line_alpha\":0.1,\"line_color\":\"#1f77b4\",\"line_width\":2,\"x\":{\"field\":\"x\"},\"y\":{\"field\":\"y\"}},\"id\":\"1267\",\"type\":\"Line\"},{\"attributes\":{},\"id\":\"1829\",\"type\":\"Selection\"},{\"attributes\":{\"dimension\":1,\"ticker\":{\"id\":\"1221\",\"type\":\"BasicTicker\"}},\"id\":\"1224\",\"type\":\"Grid\"},{\"attributes\":{\"callback\":null},\"id\":\"1302\",\"type\":\"DataRange1d\"},{\"attributes\":{\"label\":{\"value\":\"inside_H\"},\"renderers\":[{\"id\":\"1819\",\"type\":\"GlyphRenderer\"}]},\"id\":\"1831\",\"type\":\"LegendItem\"},{\"attributes\":{},\"id\":\"1216\",\"type\":\"BasicTicker\"},{\"attributes\":{},\"id\":\"1306\",\"type\":\"LinearScale\"},{\"attributes\":{\"ticker\":{\"id\":\"1216\",\"type\":\"BasicTicker\"}},\"id\":\"1219\",\"type\":\"Grid\"},{\"attributes\":{},\"id\":\"1830\",\"type\":\"UnionRenderers\"},{\"attributes\":{},\"id\":\"1221\",\"type\":\"BasicTicker\"},{\"attributes\":{},\"id\":\"1263\",\"type\":\"UnionRenderers\"},{\"attributes\":{},\"id\":\"1308\",\"type\":\"LinearScale\"},{\"attributes\":{\"callback\":null},\"id\":\"1304\",\"type\":\"DataRange1d\"},{\"attributes\":{\"callback\":null,\"data\":{\"x\":{\"__ndarray__\":\"AAAAAAAAAAAxb2dIzNu5PzFvZ0jM28k/ZZNNNtlk0z8xb2dIzNvZP3+lQK1fKeA/ZZNNNtlk4z9LgVq/UqDmPzFvZ0jM2+k/F1100UUX7T9/pUCtXynwP3Icx3Ecx/E/ZZNNNtlk8z9YCtT6lQL1P0uBWr9SoPY/Pvjggw8++D8xb2dIzNv5PyTm7QyJefs/F1100UUX/T8K1PqVArX+P3+lQK1fKQBA+OCDDz74AEByHMdxHMcBQOtXCtT6lQJAZZNNNtlkA0DezpCYtzMEQFgK1PqVAgVA0UUXXXTRBUBLgVq/UqAGQMS8nSExbwdAPvjggw8+CEC3MyTm7QwJQDFvZ0jM2wlAq6qqqqqqCkAk5u0MiXkLQJ4hMW9nSAxAF1100UUXDUCRmLczJOYNQArU+pUCtQ5AhA8++OCDD0B/pUCtXykQQDtDYt7OkBBA+OCDDz74EEC1fqVArV8RQHIcx3EcxxFALrrooosuEkDrVwrU+pUSQKj1KwVq/RJAZZNNNtlkE0AiMW9nSMwTQN7OkJi3MxRAm2yyySabFEBYCtT6lQIVQBWo9SsFahVA0UUXXXTRFUCO4ziO4zgWQEuBWr9SoBZACB988MEHF0DEvJ0hMW8XQIFav1Kg1hdAPvjggw8+GED7lQK1fqUYQLczJObtDBlAdNFFF110GUAxb2dIzNsZQO4MiXk7QxpAq6qqqqqqGkBnSMzbGRIbQCTm7QyJeRtA4YMPPvjgG0CeITFvZ0gcQFq/UqDWrxxAF1100UUXHUDU+pUCtX4dQJGYtzMk5h1ATTbZZJNNHkAK1PqVArUeQMdxHMdxHB9AhA8++OCDH0BArV8pUOsfQH+lQK1fKSBAXXTRRRddIEA7Q2LezpAgQBoS83aGxCBA+OCDDz74IEDXrxSo9SshQLV+pUCtXyFAk0022WSTIUByHMdxHMchQFDrVwrU+iFALrrooosuIkANiXk7Q2IiQOtXCtT6lSJAyiabbLLJIkCo9SsFav0iQIbEvJ0hMSNAZZNNNtlkI0BDYt7OkJgjQCIxb2dIzCNAAAAAAAAAJEA=\",\"dtype\":\"float64\",\"shape\":[100]},\"y\":{\"__ndarray__\":\"AAAAAAAAAABbrw2vIxhaP7XZaENdNIg/u8Dc8nnzoj/kyavzvtm0P7OrQUP66MI/EBFc2fxbzj9BFjXgn2fWP6Qkr2U8Gd8/iMpfCIyY5D+dRDQXQ0vqPz9mmnEES/A/KOc1AU+08z/p7/dl+Fj3P8qKNUxVMPs/Nlf84s4x/z+uJyN3hqoBQC9835MKyQNACbtk17DwBUAfPGk++B0IQAQJzV+mTQpAYMGT4Ml8DEAT9zT8uqgOQPWm1VKNZxBA18d+Qeh2EUDhXmUDhIESQIwamI6WhhNA85/FHHSFFECD8wUjjX0VQPrQpDBsbhZAT6OOy7NXF0D6S1FSHDkYQMb47epxEhlAUrjog5LjGUADue/ta6waQL8ZeQ36bBtAeCi1K0UlHEAUq2NgYNUcQHhVTh1ofR1ALE891IAdHkCa/xG71bUeQNxYgKuXRh9ACjLXHfzPH0AU8H0eHikgQLwmZwnKZiBAL6qR5SChIECO3u+FQtggQAJpRTBPDCFA9aQ8XGc9IUAHR6p6q2shQNzvXMQ7lyFA/o0wEDjAIUCw50qvv+YhQOSelE7xCiJAuUVr3uosIkCYZQF+yUwiQAVWamypaiJA8YWd9aWGIkBkrlZ22aAiQNhdxElduSJAmCFgyEnQIkBuyahGtuUiQC3JcRu5+SJArBsymWcMI0B+/2QL1h0jQPc0utMXLiNA07k2VD89I0DmL2gCXksjQEJkSWyEWCNAFM6pPsJkI0BY0XxNJnAjQEOSXJq+eiNADCEkXpiEI0ALFbsQwI0jQOdI2XBBliNA//q9jCeeI0DE7SfKfKUjQKE6G+pKrCNAJ+5kHJuyI0Bi/Dz6dbgjQDA1rJTjvSNAClhceuvCI0Cta6W+lMcjQB7pVADmyyNAC7YzcOXPI0BDNvXWmNMjQDw8zZsF1yNAh5VbyjDaI0DopjwXH90jQJ9NiOXU3yNAUxSiTFbiI0D8RpIbp+QjQDqrg97K5iNAvi3X4sToI0Aa8GY7mOojQICpPcNH7CNAu2lBItbtI0CQMXHPRe8jQMmxmhaZ8CNA7PhyF9LxI0A=\",\"dtype\":\"float64\",\"shape\":[100]}},\"selected\":{\"id\":\"1914\",\"type\":\"Selection\"},\"selection_policy\":{\"id\":\"1915\",\"type\":\"UnionRenderers\"}},\"id\":\"1832\",\"type\":\"ColumnDataSource\"}],\"root_ids\":[\"2000\"]},\"title\":\"Bokeh Application\",\"version\":\"1.4.0\"}};\n",
       "  var render_items = [{\"docid\":\"4e41fcf0-54a1-4442-b2b9-e1e9b5d404cd\",\"roots\":{\"2000\":\"7d477430-1ff1-4b3b-8696-2ff1972b3698\"}}];\n",
       "  root.Bokeh.embed.embed_items_notebook(docs_json, render_items);\n",
       "\n",
       "  }\n",
       "  if (root.Bokeh !== undefined) {\n",
       "    embed_document(root);\n",
       "  } else {\n",
       "    var attempts = 0;\n",
       "    var timer = setInterval(function(root) {\n",
       "      if (root.Bokeh !== undefined) {\n",
       "        clearInterval(timer);\n",
       "        embed_document(root);\n",
       "      } else {\n",
       "        attempts++;\n",
       "        if (attempts > 100) {\n",
       "          clearInterval(timer);\n",
       "          console.log(\"Bokeh: ERROR: Unable to run BokehJS code because BokehJS library is missing\");\n",
       "        }\n",
       "      }\n",
       "    }, 10, root)\n",
       "  }\n",
       "})(window);"
      ],
      "application/vnd.bokehjs_exec.v0+json": ""
     },
     "metadata": {
      "application/vnd.bokehjs_exec.v0+json": {
       "id": "2000"
      }
     },
     "output_type": "display_data"
    }
   ],
   "source": [
    "bokeh.io.show(row(p3,p_w_atp, p_no_atp))"
   ]
  },
  {
   "cell_type": "markdown",
   "metadata": {},
   "source": [
    "Why does plot 2 have higher steady state, how does temperature affect?"
   ]
  },
  {
   "cell_type": "markdown",
   "metadata": {},
   "source": []
  },
  {
   "cell_type": "code",
   "execution_count": 35,
   "metadata": {},
   "outputs": [
    {
     "name": "stdout",
     "output_type": "stream",
     "text": [
      "CPython 3.7.7\n",
      "IPython 7.13.0\n",
      "\n",
      "numpy 1.18.1\n",
      "bokeh 1.4.0\n",
      "jupyterlab 1.2.6\n",
      "scipy 1.4.1\n",
      "biocrnpyler 0.2.1\n",
      "bioscrape 1.0.0\n",
      "colorcet 2.0.2\n",
      "subsbml unknown\n"
     ]
    }
   ],
   "source": [
    "#watermark\n",
    "%reload_ext watermark\n",
    "%watermark -v -p numpy,bokeh,jupyterlab,scipy,biocrnpyler,bioscrape,colorcet,subsbml\n",
    "  "
   ]
  }
 ],
 "metadata": {
  "kernelspec": {
   "display_name": "Python 3",
   "language": "python",
   "name": "python3"
  },
  "language_info": {
   "codemirror_mode": {
    "name": "ipython",
    "version": 3
   },
   "file_extension": ".py",
   "mimetype": "text/x-python",
   "name": "python",
   "nbconvert_exporter": "python",
   "pygments_lexer": "ipython3",
   "version": "3.7.7"
  }
 },
 "nbformat": 4,
 "nbformat_minor": 4
}
