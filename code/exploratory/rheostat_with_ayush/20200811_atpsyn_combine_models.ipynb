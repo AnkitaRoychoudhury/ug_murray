{
 "cells": [
  {
   "cell_type": "markdown",
   "metadata": {},
   "source": [
    "# Combine All ATP Synthase and Proton Pump Models\n",
    "---"
   ]
  },
  {
   "cell_type": "code",
   "execution_count": 2,
   "metadata": {},
   "outputs": [
    {
     "data": {
      "text/html": [
       "\n",
       "    <div class=\"bk-root\">\n",
       "        <a href=\"https://bokeh.org\" target=\"_blank\" class=\"bk-logo bk-logo-small bk-logo-notebook\"></a>\n",
       "        <span id=\"1001\">Loading BokehJS ...</span>\n",
       "    </div>"
      ]
     },
     "metadata": {},
     "output_type": "display_data"
    },
    {
     "data": {
      "application/javascript": [
       "\n",
       "(function(root) {\n",
       "  function now() {\n",
       "    return new Date();\n",
       "  }\n",
       "\n",
       "  var force = true;\n",
       "\n",
       "  if (typeof root._bokeh_onload_callbacks === \"undefined\" || force === true) {\n",
       "    root._bokeh_onload_callbacks = [];\n",
       "    root._bokeh_is_loading = undefined;\n",
       "  }\n",
       "\n",
       "  var JS_MIME_TYPE = 'application/javascript';\n",
       "  var HTML_MIME_TYPE = 'text/html';\n",
       "  var EXEC_MIME_TYPE = 'application/vnd.bokehjs_exec.v0+json';\n",
       "  var CLASS_NAME = 'output_bokeh rendered_html';\n",
       "\n",
       "  /**\n",
       "   * Render data to the DOM node\n",
       "   */\n",
       "  function render(props, node) {\n",
       "    var script = document.createElement(\"script\");\n",
       "    node.appendChild(script);\n",
       "  }\n",
       "\n",
       "  /**\n",
       "   * Handle when an output is cleared or removed\n",
       "   */\n",
       "  function handleClearOutput(event, handle) {\n",
       "    var cell = handle.cell;\n",
       "\n",
       "    var id = cell.output_area._bokeh_element_id;\n",
       "    var server_id = cell.output_area._bokeh_server_id;\n",
       "    // Clean up Bokeh references\n",
       "    if (id != null && id in Bokeh.index) {\n",
       "      Bokeh.index[id].model.document.clear();\n",
       "      delete Bokeh.index[id];\n",
       "    }\n",
       "\n",
       "    if (server_id !== undefined) {\n",
       "      // Clean up Bokeh references\n",
       "      var cmd = \"from bokeh.io.state import curstate; print(curstate().uuid_to_server['\" + server_id + \"'].get_sessions()[0].document.roots[0]._id)\";\n",
       "      cell.notebook.kernel.execute(cmd, {\n",
       "        iopub: {\n",
       "          output: function(msg) {\n",
       "            var id = msg.content.text.trim();\n",
       "            if (id in Bokeh.index) {\n",
       "              Bokeh.index[id].model.document.clear();\n",
       "              delete Bokeh.index[id];\n",
       "            }\n",
       "          }\n",
       "        }\n",
       "      });\n",
       "      // Destroy server and session\n",
       "      var cmd = \"import bokeh.io.notebook as ion; ion.destroy_server('\" + server_id + \"')\";\n",
       "      cell.notebook.kernel.execute(cmd);\n",
       "    }\n",
       "  }\n",
       "\n",
       "  /**\n",
       "   * Handle when a new output is added\n",
       "   */\n",
       "  function handleAddOutput(event, handle) {\n",
       "    var output_area = handle.output_area;\n",
       "    var output = handle.output;\n",
       "\n",
       "    // limit handleAddOutput to display_data with EXEC_MIME_TYPE content only\n",
       "    if ((output.output_type != \"display_data\") || (!output.data.hasOwnProperty(EXEC_MIME_TYPE))) {\n",
       "      return\n",
       "    }\n",
       "\n",
       "    var toinsert = output_area.element.find(\".\" + CLASS_NAME.split(' ')[0]);\n",
       "\n",
       "    if (output.metadata[EXEC_MIME_TYPE][\"id\"] !== undefined) {\n",
       "      toinsert[toinsert.length - 1].firstChild.textContent = output.data[JS_MIME_TYPE];\n",
       "      // store reference to embed id on output_area\n",
       "      output_area._bokeh_element_id = output.metadata[EXEC_MIME_TYPE][\"id\"];\n",
       "    }\n",
       "    if (output.metadata[EXEC_MIME_TYPE][\"server_id\"] !== undefined) {\n",
       "      var bk_div = document.createElement(\"div\");\n",
       "      bk_div.innerHTML = output.data[HTML_MIME_TYPE];\n",
       "      var script_attrs = bk_div.children[0].attributes;\n",
       "      for (var i = 0; i < script_attrs.length; i++) {\n",
       "        toinsert[toinsert.length - 1].firstChild.setAttribute(script_attrs[i].name, script_attrs[i].value);\n",
       "      }\n",
       "      // store reference to server id on output_area\n",
       "      output_area._bokeh_server_id = output.metadata[EXEC_MIME_TYPE][\"server_id\"];\n",
       "    }\n",
       "  }\n",
       "\n",
       "  function register_renderer(events, OutputArea) {\n",
       "\n",
       "    function append_mime(data, metadata, element) {\n",
       "      // create a DOM node to render to\n",
       "      var toinsert = this.create_output_subarea(\n",
       "        metadata,\n",
       "        CLASS_NAME,\n",
       "        EXEC_MIME_TYPE\n",
       "      );\n",
       "      this.keyboard_manager.register_events(toinsert);\n",
       "      // Render to node\n",
       "      var props = {data: data, metadata: metadata[EXEC_MIME_TYPE]};\n",
       "      render(props, toinsert[toinsert.length - 1]);\n",
       "      element.append(toinsert);\n",
       "      return toinsert\n",
       "    }\n",
       "\n",
       "    /* Handle when an output is cleared or removed */\n",
       "    events.on('clear_output.CodeCell', handleClearOutput);\n",
       "    events.on('delete.Cell', handleClearOutput);\n",
       "\n",
       "    /* Handle when a new output is added */\n",
       "    events.on('output_added.OutputArea', handleAddOutput);\n",
       "\n",
       "    /**\n",
       "     * Register the mime type and append_mime function with output_area\n",
       "     */\n",
       "    OutputArea.prototype.register_mime_type(EXEC_MIME_TYPE, append_mime, {\n",
       "      /* Is output safe? */\n",
       "      safe: true,\n",
       "      /* Index of renderer in `output_area.display_order` */\n",
       "      index: 0\n",
       "    });\n",
       "  }\n",
       "\n",
       "  // register the mime type if in Jupyter Notebook environment and previously unregistered\n",
       "  if (root.Jupyter !== undefined) {\n",
       "    var events = require('base/js/events');\n",
       "    var OutputArea = require('notebook/js/outputarea').OutputArea;\n",
       "\n",
       "    if (OutputArea.prototype.mime_types().indexOf(EXEC_MIME_TYPE) == -1) {\n",
       "      register_renderer(events, OutputArea);\n",
       "    }\n",
       "  }\n",
       "\n",
       "  \n",
       "  if (typeof (root._bokeh_timeout) === \"undefined\" || force === true) {\n",
       "    root._bokeh_timeout = Date.now() + 5000;\n",
       "    root._bokeh_failed_load = false;\n",
       "  }\n",
       "\n",
       "  var NB_LOAD_WARNING = {'data': {'text/html':\n",
       "     \"<div style='background-color: #fdd'>\\n\"+\n",
       "     \"<p>\\n\"+\n",
       "     \"BokehJS does not appear to have successfully loaded. If loading BokehJS from CDN, this \\n\"+\n",
       "     \"may be due to a slow or bad network connection. Possible fixes:\\n\"+\n",
       "     \"</p>\\n\"+\n",
       "     \"<ul>\\n\"+\n",
       "     \"<li>re-rerun `output_notebook()` to attempt to load from CDN again, or</li>\\n\"+\n",
       "     \"<li>use INLINE resources instead, as so:</li>\\n\"+\n",
       "     \"</ul>\\n\"+\n",
       "     \"<code>\\n\"+\n",
       "     \"from bokeh.resources import INLINE\\n\"+\n",
       "     \"output_notebook(resources=INLINE)\\n\"+\n",
       "     \"</code>\\n\"+\n",
       "     \"</div>\"}};\n",
       "\n",
       "  function display_loaded() {\n",
       "    var el = document.getElementById(\"1001\");\n",
       "    if (el != null) {\n",
       "      el.textContent = \"BokehJS is loading...\";\n",
       "    }\n",
       "    if (root.Bokeh !== undefined) {\n",
       "      if (el != null) {\n",
       "        el.textContent = \"BokehJS \" + root.Bokeh.version + \" successfully loaded.\";\n",
       "      }\n",
       "    } else if (Date.now() < root._bokeh_timeout) {\n",
       "      setTimeout(display_loaded, 100)\n",
       "    }\n",
       "  }\n",
       "\n",
       "\n",
       "  function run_callbacks() {\n",
       "    try {\n",
       "      root._bokeh_onload_callbacks.forEach(function(callback) {\n",
       "        if (callback != null)\n",
       "          callback();\n",
       "      });\n",
       "    } finally {\n",
       "      delete root._bokeh_onload_callbacks\n",
       "    }\n",
       "    console.debug(\"Bokeh: all callbacks have finished\");\n",
       "  }\n",
       "\n",
       "  function load_libs(css_urls, js_urls, callback) {\n",
       "    if (css_urls == null) css_urls = [];\n",
       "    if (js_urls == null) js_urls = [];\n",
       "\n",
       "    root._bokeh_onload_callbacks.push(callback);\n",
       "    if (root._bokeh_is_loading > 0) {\n",
       "      console.debug(\"Bokeh: BokehJS is being loaded, scheduling callback at\", now());\n",
       "      return null;\n",
       "    }\n",
       "    if (js_urls == null || js_urls.length === 0) {\n",
       "      run_callbacks();\n",
       "      return null;\n",
       "    }\n",
       "    console.debug(\"Bokeh: BokehJS not loaded, scheduling load and callback at\", now());\n",
       "    root._bokeh_is_loading = css_urls.length + js_urls.length;\n",
       "\n",
       "    function on_load() {\n",
       "      root._bokeh_is_loading--;\n",
       "      if (root._bokeh_is_loading === 0) {\n",
       "        console.debug(\"Bokeh: all BokehJS libraries/stylesheets loaded\");\n",
       "        run_callbacks()\n",
       "      }\n",
       "    }\n",
       "\n",
       "    function on_error() {\n",
       "      console.error(\"failed to load \" + url);\n",
       "    }\n",
       "\n",
       "    for (var i = 0; i < css_urls.length; i++) {\n",
       "      var url = css_urls[i];\n",
       "      const element = document.createElement(\"link\");\n",
       "      element.onload = on_load;\n",
       "      element.onerror = on_error;\n",
       "      element.rel = \"stylesheet\";\n",
       "      element.type = \"text/css\";\n",
       "      element.href = url;\n",
       "      console.debug(\"Bokeh: injecting link tag for BokehJS stylesheet: \", url);\n",
       "      document.body.appendChild(element);\n",
       "    }\n",
       "\n",
       "    for (var i = 0; i < js_urls.length; i++) {\n",
       "      var url = js_urls[i];\n",
       "      var element = document.createElement('script');\n",
       "      element.onload = on_load;\n",
       "      element.onerror = on_error;\n",
       "      element.async = false;\n",
       "      element.src = url;\n",
       "      console.debug(\"Bokeh: injecting script tag for BokehJS library: \", url);\n",
       "      document.head.appendChild(element);\n",
       "    }\n",
       "  };var element = document.getElementById(\"1001\");\n",
       "  if (element == null) {\n",
       "    console.error(\"Bokeh: ERROR: autoload.js configured with elementid '1001' but no matching script tag was found. \")\n",
       "    return false;\n",
       "  }\n",
       "\n",
       "  function inject_raw_css(css) {\n",
       "    const element = document.createElement(\"style\");\n",
       "    element.appendChild(document.createTextNode(css));\n",
       "    document.body.appendChild(element);\n",
       "  }\n",
       "\n",
       "  \n",
       "  var js_urls = [\"https://cdn.pydata.org/bokeh/release/bokeh-1.4.0.min.js\", \"https://cdn.pydata.org/bokeh/release/bokeh-widgets-1.4.0.min.js\", \"https://cdn.pydata.org/bokeh/release/bokeh-tables-1.4.0.min.js\", \"https://cdn.pydata.org/bokeh/release/bokeh-gl-1.4.0.min.js\"];\n",
       "  var css_urls = [];\n",
       "  \n",
       "\n",
       "  var inline_js = [\n",
       "    function(Bokeh) {\n",
       "      Bokeh.set_log_level(\"info\");\n",
       "    },\n",
       "    function(Bokeh) {\n",
       "    \n",
       "    \n",
       "    }\n",
       "  ];\n",
       "\n",
       "  function run_inline_js() {\n",
       "    \n",
       "    if (root.Bokeh !== undefined || force === true) {\n",
       "      \n",
       "    for (var i = 0; i < inline_js.length; i++) {\n",
       "      inline_js[i].call(root, root.Bokeh);\n",
       "    }\n",
       "    if (force === true) {\n",
       "        display_loaded();\n",
       "      }} else if (Date.now() < root._bokeh_timeout) {\n",
       "      setTimeout(run_inline_js, 100);\n",
       "    } else if (!root._bokeh_failed_load) {\n",
       "      console.log(\"Bokeh: BokehJS failed to load within specified timeout.\");\n",
       "      root._bokeh_failed_load = true;\n",
       "    } else if (force !== true) {\n",
       "      var cell = $(document.getElementById(\"1001\")).parents('.cell').data().cell;\n",
       "      cell.output_area.append_execute_result(NB_LOAD_WARNING)\n",
       "    }\n",
       "\n",
       "  }\n",
       "\n",
       "  if (root._bokeh_is_loading === 0) {\n",
       "    console.debug(\"Bokeh: BokehJS loaded, going straight to plotting\");\n",
       "    run_inline_js();\n",
       "  } else {\n",
       "    load_libs(css_urls, js_urls, function() {\n",
       "      console.debug(\"Bokeh: BokehJS plotting callback run at\", now());\n",
       "      run_inline_js();\n",
       "    });\n",
       "  }\n",
       "}(window));"
      ],
      "application/vnd.bokehjs_load.v0+json": "\n(function(root) {\n  function now() {\n    return new Date();\n  }\n\n  var force = true;\n\n  if (typeof root._bokeh_onload_callbacks === \"undefined\" || force === true) {\n    root._bokeh_onload_callbacks = [];\n    root._bokeh_is_loading = undefined;\n  }\n\n  \n\n  \n  if (typeof (root._bokeh_timeout) === \"undefined\" || force === true) {\n    root._bokeh_timeout = Date.now() + 5000;\n    root._bokeh_failed_load = false;\n  }\n\n  var NB_LOAD_WARNING = {'data': {'text/html':\n     \"<div style='background-color: #fdd'>\\n\"+\n     \"<p>\\n\"+\n     \"BokehJS does not appear to have successfully loaded. If loading BokehJS from CDN, this \\n\"+\n     \"may be due to a slow or bad network connection. Possible fixes:\\n\"+\n     \"</p>\\n\"+\n     \"<ul>\\n\"+\n     \"<li>re-rerun `output_notebook()` to attempt to load from CDN again, or</li>\\n\"+\n     \"<li>use INLINE resources instead, as so:</li>\\n\"+\n     \"</ul>\\n\"+\n     \"<code>\\n\"+\n     \"from bokeh.resources import INLINE\\n\"+\n     \"output_notebook(resources=INLINE)\\n\"+\n     \"</code>\\n\"+\n     \"</div>\"}};\n\n  function display_loaded() {\n    var el = document.getElementById(\"1001\");\n    if (el != null) {\n      el.textContent = \"BokehJS is loading...\";\n    }\n    if (root.Bokeh !== undefined) {\n      if (el != null) {\n        el.textContent = \"BokehJS \" + root.Bokeh.version + \" successfully loaded.\";\n      }\n    } else if (Date.now() < root._bokeh_timeout) {\n      setTimeout(display_loaded, 100)\n    }\n  }\n\n\n  function run_callbacks() {\n    try {\n      root._bokeh_onload_callbacks.forEach(function(callback) {\n        if (callback != null)\n          callback();\n      });\n    } finally {\n      delete root._bokeh_onload_callbacks\n    }\n    console.debug(\"Bokeh: all callbacks have finished\");\n  }\n\n  function load_libs(css_urls, js_urls, callback) {\n    if (css_urls == null) css_urls = [];\n    if (js_urls == null) js_urls = [];\n\n    root._bokeh_onload_callbacks.push(callback);\n    if (root._bokeh_is_loading > 0) {\n      console.debug(\"Bokeh: BokehJS is being loaded, scheduling callback at\", now());\n      return null;\n    }\n    if (js_urls == null || js_urls.length === 0) {\n      run_callbacks();\n      return null;\n    }\n    console.debug(\"Bokeh: BokehJS not loaded, scheduling load and callback at\", now());\n    root._bokeh_is_loading = css_urls.length + js_urls.length;\n\n    function on_load() {\n      root._bokeh_is_loading--;\n      if (root._bokeh_is_loading === 0) {\n        console.debug(\"Bokeh: all BokehJS libraries/stylesheets loaded\");\n        run_callbacks()\n      }\n    }\n\n    function on_error() {\n      console.error(\"failed to load \" + url);\n    }\n\n    for (var i = 0; i < css_urls.length; i++) {\n      var url = css_urls[i];\n      const element = document.createElement(\"link\");\n      element.onload = on_load;\n      element.onerror = on_error;\n      element.rel = \"stylesheet\";\n      element.type = \"text/css\";\n      element.href = url;\n      console.debug(\"Bokeh: injecting link tag for BokehJS stylesheet: \", url);\n      document.body.appendChild(element);\n    }\n\n    for (var i = 0; i < js_urls.length; i++) {\n      var url = js_urls[i];\n      var element = document.createElement('script');\n      element.onload = on_load;\n      element.onerror = on_error;\n      element.async = false;\n      element.src = url;\n      console.debug(\"Bokeh: injecting script tag for BokehJS library: \", url);\n      document.head.appendChild(element);\n    }\n  };var element = document.getElementById(\"1001\");\n  if (element == null) {\n    console.error(\"Bokeh: ERROR: autoload.js configured with elementid '1001' but no matching script tag was found. \")\n    return false;\n  }\n\n  function inject_raw_css(css) {\n    const element = document.createElement(\"style\");\n    element.appendChild(document.createTextNode(css));\n    document.body.appendChild(element);\n  }\n\n  \n  var js_urls = [\"https://cdn.pydata.org/bokeh/release/bokeh-1.4.0.min.js\", \"https://cdn.pydata.org/bokeh/release/bokeh-widgets-1.4.0.min.js\", \"https://cdn.pydata.org/bokeh/release/bokeh-tables-1.4.0.min.js\", \"https://cdn.pydata.org/bokeh/release/bokeh-gl-1.4.0.min.js\"];\n  var css_urls = [];\n  \n\n  var inline_js = [\n    function(Bokeh) {\n      Bokeh.set_log_level(\"info\");\n    },\n    function(Bokeh) {\n    \n    \n    }\n  ];\n\n  function run_inline_js() {\n    \n    if (root.Bokeh !== undefined || force === true) {\n      \n    for (var i = 0; i < inline_js.length; i++) {\n      inline_js[i].call(root, root.Bokeh);\n    }\n    if (force === true) {\n        display_loaded();\n      }} else if (Date.now() < root._bokeh_timeout) {\n      setTimeout(run_inline_js, 100);\n    } else if (!root._bokeh_failed_load) {\n      console.log(\"Bokeh: BokehJS failed to load within specified timeout.\");\n      root._bokeh_failed_load = true;\n    } else if (force !== true) {\n      var cell = $(document.getElementById(\"1001\")).parents('.cell').data().cell;\n      cell.output_area.append_execute_result(NB_LOAD_WARNING)\n    }\n\n  }\n\n  if (root._bokeh_is_loading === 0) {\n    console.debug(\"Bokeh: BokehJS loaded, going straight to plotting\");\n    run_inline_js();\n  } else {\n    load_libs(css_urls, js_urls, function() {\n      console.debug(\"Bokeh: BokehJS plotting callback run at\", now());\n      run_inline_js();\n    });\n  }\n}(window));"
     },
     "metadata": {},
     "output_type": "display_data"
    }
   ],
   "source": [
    "from biocrnpyler import *\n",
    "#from biocrnpyler.chemical_reaction_network import Species, Reaction, ComplexSpecies, Multimer\n",
    "import numpy as np\n",
    "import pylab as plt \n",
    "%matplotlib inline\n",
    "\n",
    "import bokeh.io\n",
    "import bokeh.plotting\n",
    "bokeh.io.output_notebook()\n",
    "\n",
    "import colorcet\n",
    "\n",
    "from subsbml import createNewSubsystem, createSubsystem"
   ]
  },
  {
   "cell_type": "code",
   "execution_count": 3,
   "metadata": {},
   "outputs": [],
   "source": [
    "palette = colorcet.b_glasbey_category10\n",
    "palette.remove( '#d62628')"
   ]
  },
  {
   "cell_type": "markdown",
   "metadata": {},
   "source": [
    "## Combine ATP synthase tx, tl, membrane integration, atp synthesis models\n",
    "---"
   ]
  },
  {
   "cell_type": "code",
   "execution_count": 33,
   "metadata": {},
   "outputs": [],
   "source": [
    "# atp synthase models\n",
    "ss1_atpsyn_txtl = createSubsystem('atpsynthase_tx_tl.xml', subsystemName = 'atpsyn_txtl')\n",
    "ss2_atpsyn_mi = createSubsystem('atpsynthase_membrane_integration.xml', subsystemName = 'atpsyn_mi')\n",
    "ss3_atpsynthesis = createSubsystem('atp_synthesis_through_atpsynthase.xml', subsystemName = 'atpsynthesis')\n",
    "\n",
    "# proton pump ss\n",
    "# ss4_pp_txtl = createSubsystem('proton_pump_tx_tl.xml', subsystemName = 'pp_txtl')\n",
    "# ss5_pp_mi = createSubsystem('proton_pump_membrane_integration.xml', subsystemName = 'pp_mi')\n",
    "# ss6_protontransport = createSubsystem('proton_transport_through_proton_pump.xml', subsystemName = 'protontransport')\n"
   ]
  },
  {
   "cell_type": "code",
   "execution_count": 67,
   "metadata": {},
   "outputs": [],
   "source": [
    "#atp_subsystem = ss1_atpsyn_txtl + ss2_atpsyn_mi + ss3_atpsynthesis\n",
    "atp_subsystem = ss1_atpsyn_txtl + ss2_atpsyn_mi "
   ]
  },
  {
   "cell_type": "code",
   "execution_count": 68,
   "metadata": {},
   "outputs": [
    {
     "data": {
      "text/plain": [
       "<Species protein_atpsyn_b_atpsyn_mibiocrnpyler_203770 \"protein_atpsyn_b\">"
      ]
     },
     "execution_count": 68,
     "metadata": {},
     "output_type": "execute_result"
    }
   ],
   "source": [
    "atp_subsystem.getSpeciesByName('protein_atpsyn_b')"
   ]
  },
  {
   "cell_type": "code",
   "execution_count": 72,
   "metadata": {},
   "outputs": [],
   "source": [
    "# spec_list_10 = ['metabolite_atp', 'proton_outside_H', 'dna_atpsyn', 'protein_RNAP_machinery',\n",
    "#                'protein_Ribo_machinery', 'protein_RNAase_machinery']\n",
    "spec_list_10 = ['dna_atpsyn', 'protein_RNAP_machinery',\n",
    "               'protein_Ribo_machinery', 'protein_RNAase_machinery']\n",
    "for i,spec in enumerate(spec_list_10):\n",
    "    atp_subsystem.setSpeciesAmount(spec,10)\n"
   ]
  },
  {
   "cell_type": "code",
   "execution_count": 106,
   "metadata": {},
   "outputs": [
    {
     "name": "stderr",
     "output_type": "stream",
     "text": [
      "odeint failed with mxstep=500..."
     ]
    }
   ],
   "source": [
    "timepoints = np.linspace(0,10000,100)\n",
    "results, _ = atp_subsystem.simulateWithBioscrape(timepoints, sbml_warnings = False)"
   ]
  },
  {
   "cell_type": "code",
   "execution_count": 107,
   "metadata": {},
   "outputs": [],
   "source": [
    "#ATP_id = atp_subsystem.getSpeciesByName('metabolite_atp').getId()\n",
    "#ADP_id = atp_subsystem.getSpeciesByName('metabolite_adp').getId()\n",
    "\n",
    "#outside_H _id = atp_subsystem.getSpeciesByName('proton_outside_H').getId()\n",
    "#inside_H_id = atp_subsystem.getSpeciesByName('proton_inside_H').getId()\n",
    "atp_synthase_b_protein_id = atp_subsystem.getSpeciesByName('protein_atpsyn_b').getId()\n",
    "atp_synthase_f_protein_id = atp_subsystem.getSpeciesByName('protein_atpsyn').getId()\n",
    "\n",
    "rna_atpsyn_id = atp_subsystem.getSpeciesByName('rna_atpsyn').getId()\n",
    "\n",
    "dna_atpsyn_id = atp_subsystem.getSpeciesByName('dna_atpsyn').getId()"
   ]
  },
  {
   "cell_type": "code",
   "execution_count": 108,
   "metadata": {},
   "outputs": [
    {
     "data": {
      "text/html": [
       "\n",
       "\n",
       "\n",
       "\n",
       "\n",
       "\n",
       "  <div class=\"bk-root\" id=\"2338dfe5-242a-429a-a4e1-5e65f1c881aa\" data-root-id=\"12109\"></div>\n"
      ]
     },
     "metadata": {},
     "output_type": "display_data"
    },
    {
     "data": {
      "application/javascript": [
       "(function(root) {\n",
       "  function embed_document(root) {\n",
       "    \n",
       "  var docs_json = {\"972feeff-23bd-4770-b73d-c0a1217afadd\":{\"roots\":{\"references\":[{\"attributes\":{\"below\":[{\"id\":\"12118\",\"type\":\"LinearAxis\"}],\"center\":[{\"id\":\"12122\",\"type\":\"Grid\"},{\"id\":\"12127\",\"type\":\"Grid\"},{\"id\":\"12153\",\"type\":\"Legend\"}],\"left\":[{\"id\":\"12123\",\"type\":\"LinearAxis\"}],\"plot_height\":300,\"plot_width\":450,\"renderers\":[{\"id\":\"12144\",\"type\":\"GlyphRenderer\"},{\"id\":\"12158\",\"type\":\"GlyphRenderer\"},{\"id\":\"12173\",\"type\":\"GlyphRenderer\"}],\"title\":{\"id\":\"12146\",\"type\":\"Title\"},\"toolbar\":{\"id\":\"12134\",\"type\":\"Toolbar\"},\"x_range\":{\"id\":\"12110\",\"type\":\"DataRange1d\"},\"x_scale\":{\"id\":\"12114\",\"type\":\"LinearScale\"},\"y_range\":{\"id\":\"12112\",\"type\":\"DataRange1d\"},\"y_scale\":{\"id\":\"12116\",\"type\":\"LinearScale\"}},\"id\":\"12109\",\"subtype\":\"Figure\",\"type\":\"Plot\"},{\"attributes\":{},\"id\":\"12167\",\"type\":\"Selection\"},{\"attributes\":{\"source\":{\"id\":\"12170\",\"type\":\"ColumnDataSource\"}},\"id\":\"12174\",\"type\":\"CDSView\"},{\"attributes\":{},\"id\":\"12133\",\"type\":\"HelpTool\"},{\"attributes\":{\"line_color\":\"#2ba02b\",\"line_width\":2,\"x\":{\"field\":\"x\"},\"y\":{\"field\":\"y\"}},\"id\":\"12171\",\"type\":\"Line\"},{\"attributes\":{\"items\":[{\"id\":\"12154\",\"type\":\"LegendItem\"},{\"id\":\"12169\",\"type\":\"LegendItem\"},{\"id\":\"12186\",\"type\":\"LegendItem\"}]},\"id\":\"12153\",\"type\":\"Legend\"},{\"attributes\":{},\"id\":\"12116\",\"type\":\"LinearScale\"},{\"attributes\":{\"source\":{\"id\":\"12155\",\"type\":\"ColumnDataSource\"}},\"id\":\"12159\",\"type\":\"CDSView\"},{\"attributes\":{\"formatter\":{\"id\":\"12150\",\"type\":\"BasicTickFormatter\"},\"ticker\":{\"id\":\"12119\",\"type\":\"BasicTicker\"}},\"id\":\"12118\",\"type\":\"LinearAxis\"},{\"attributes\":{\"dimension\":1,\"ticker\":{\"id\":\"12124\",\"type\":\"BasicTicker\"}},\"id\":\"12127\",\"type\":\"Grid\"},{\"attributes\":{},\"id\":\"12119\",\"type\":\"BasicTicker\"},{\"attributes\":{},\"id\":\"12183\",\"type\":\"UnionRenderers\"},{\"attributes\":{\"data_source\":{\"id\":\"12141\",\"type\":\"ColumnDataSource\"},\"glyph\":{\"id\":\"12142\",\"type\":\"Line\"},\"hover_glyph\":null,\"muted_glyph\":null,\"nonselection_glyph\":{\"id\":\"12143\",\"type\":\"Line\"},\"selection_glyph\":null,\"view\":{\"id\":\"12145\",\"type\":\"CDSView\"}},\"id\":\"12144\",\"type\":\"GlyphRenderer\"},{\"attributes\":{},\"id\":\"12124\",\"type\":\"BasicTicker\"},{\"attributes\":{\"ticker\":{\"id\":\"12119\",\"type\":\"BasicTicker\"}},\"id\":\"12122\",\"type\":\"Grid\"},{\"attributes\":{\"line_alpha\":0.1,\"line_color\":\"#1f77b4\",\"line_width\":2,\"x\":{\"field\":\"x\"},\"y\":{\"field\":\"y\"}},\"id\":\"12143\",\"type\":\"Line\"},{\"attributes\":{\"source\":{\"id\":\"12141\",\"type\":\"ColumnDataSource\"}},\"id\":\"12145\",\"type\":\"CDSView\"},{\"attributes\":{\"text\":\"\"},\"id\":\"12146\",\"type\":\"Title\"},{\"attributes\":{\"line_color\":\"#ff7e0e\",\"line_width\":2,\"x\":{\"field\":\"x\"},\"y\":{\"field\":\"y\"}},\"id\":\"12156\",\"type\":\"Line\"},{\"attributes\":{\"line_alpha\":0.1,\"line_color\":\"#1f77b4\",\"line_width\":2,\"x\":{\"field\":\"x\"},\"y\":{\"field\":\"y\"}},\"id\":\"12172\",\"type\":\"Line\"},{\"attributes\":{\"data_source\":{\"id\":\"12170\",\"type\":\"ColumnDataSource\"},\"glyph\":{\"id\":\"12171\",\"type\":\"Line\"},\"hover_glyph\":null,\"muted_glyph\":null,\"nonselection_glyph\":{\"id\":\"12172\",\"type\":\"Line\"},\"selection_glyph\":null,\"view\":{\"id\":\"12174\",\"type\":\"CDSView\"}},\"id\":\"12173\",\"type\":\"GlyphRenderer\"},{\"attributes\":{},\"id\":\"12150\",\"type\":\"BasicTickFormatter\"},{\"attributes\":{\"callback\":null,\"data\":{\"x\":{\"__ndarray__\":\"AAAAAAAAAACWArV+pUBZQJYCtX6lQGlA8MEHH3zwckCWArV+pUB5QDxDYt7OkH9A8MEHH3zwgkBDYt7OkBiGQJYCtX6lQIlA6aKLLrpojEA8Q2LezpCPQMdxHMdxXJFA8MEHH3zwkkAaEvN2hoSUQENi3s6QGJZAbbLJJpusl0CWArV+pUCZQL9SoNav1JpA6aKLLrponEAS83aGxPydQDxDYt7OkJ9Asskmm2ySoEDHcRzHcVyhQNwZEvN2JqJA8MEHH3zwokAFav1KgbqjQBoS83aGhKRAL7roootOpUBDYt7OkBimQFgK1PqV4qZAbbLJJpusp0CBWr9SoHaoQJYCtX6lQKlAq6qqqqoKqkC/UqDWr9SqQNT6lQK1nqtA6aKLLrporED9SoFavzKtQBLzdobE/K1AJ5tsssnGrkA8Q2LezpCvQKj1KwVqLbBAsskmm2ySsEC9nSExb/ewQMdxHMdxXLFA0UUXXXTBsUDcGRLzdiayQObtDIl5i7JA8MEHH3zwskD7lQK1flWzQAVq/UqBurNAED744IMftEAaEvN2hoS0QCTm7QyJ6bRAL7roootOtUA5juM4jrO1QENi3s6QGLZATjbZZJN9tkBYCtT6leK2QGLezpCYR7dAbbLJJpust0B3hsS8nRG4QIFav1KgdrhAjC666KLbuECWArV+pUC5QKDWrxSopblAq6qqqqoKukC1fqVArW+6QL9SoNav1LpAyiabbLI5u0DU+pUCtZ67QN7OkJi3A7xA6aKLLrpovEDzdobEvM28QP1KgVq/Mr1ACB988MGXvUAS83aGxPy9QBzHcRzHYb5AJ5tsssnGvkAxb2dIzCu/QDxDYt7OkL9ARhdddNH1v0Co9SsFai3AQK1fKVDrX8BAsskmm2ySwEC4MyTm7cTAQL2dITFv98BAwgcffPApwUDHcRzHcVzBQMzbGRLzjsFA0UUXXXTBwUDXrxSo9fPBQNwZEvN2JsJA4YMPPvhYwkDm7QyJeYvCQOtXCtT6vcJA8MEHH3zwwkD2KwVq/SLDQPuVArV+VcNAAAAAAACIw0A=\",\"dtype\":\"float64\",\"shape\":[100]},\"y\":{\"__ndarray__\":\"AAAAAAAAAAA7Ooe7nxhDQIcA6rmDIVZAP/RbmU5dYUDVSre+dapnQCDM1fTo921AR8VgtMQickDETsrho0l1QIfYkKKNcHhAOREKO3+Xe0AiYPfYdr5+QD0/CZu58oBAmliysjmGgkD1VrRauxmEQI61304+rYVAisLJWcJAh0C629VQR9SIQIUhiBHNZ4pAI1yaf1P7i0BMlJ2D2o6NQE0O+AliIo9AG6EPAfVakEBCIgIvuSSRQDtD0Ih97pFAvoJNCUK4kkAPnQCsBoKTQONdBm3LS5RA+uD6SJAVlUCopeY8Vd+VQGFHLkYaqZZASz6GYt9yl0D9zOePpDyYQPHFh8xpBplAOebOFi/QmUBWQlNt9JmaQKLQ0s65Y5tAbG4uOn8tnEAr3GWuRPecQCoXlCoKwZ1Agijsrc+KnkCmi7Y3lVSfQD9lp2MtD6BAzpUQLhB0oECHs9T68tigQIAguMnVPaFAAmeFmriioUBMWgxtmweiQIrFIUF+bKJAZpqeFmHRokBtw1/tQzajQF2gRcUmm6NAwrEzngkApECcQxB47GSkQOIsxFLPyaRA/Ig6LrIupUDqe2AKlZOlQOQGJed3+KVAX9F4xFpdpkDL/U2iPcKmQHQHmIAgJ6dAOKtLXwOMp0BGtV4+5vCnQGTtxx3JVahAGQd//au6qEBQfnzdjh+pQCyLub1xhKlAEg0wnlTpqUCMedp+N06qQBjRs18as6pAA5C3QP0Xq0C8oeEh4HyrQABWLgPD4atAZlea5KVGrEBapCLGiKusQByExKdrEK1AcYB9iU51rUDHXktrMdqtQLgbLE0UP65AjucdL/ejrkD7Hh8R2givQDBHLvO8ba9A9whK1Z/Sr0Cil7hbwRuwQOhP0cwyTrBAWK/uPaSAsEB8QhCvFbOwQICiNSCH5bBAenFekfgXsUBOW4oCakqxQIwTuXPbfLFATlXq5EyvsUBa4h1WvuGxQEyCU8cvFLJAugGLOKFGskAWM8SpEnmyQMHr/hqEq7JA9gY7jPXdskAIYnj9ZhCzQHDetm7YQrNAYWD230l1s0A=\",\"dtype\":\"float64\",\"shape\":[100]}},\"selected\":{\"id\":\"12167\",\"type\":\"Selection\"},\"selection_policy\":{\"id\":\"12166\",\"type\":\"UnionRenderers\"}},\"id\":\"12141\",\"type\":\"ColumnDataSource\"},{\"attributes\":{\"line_color\":\"#1f77b3\",\"line_width\":2,\"x\":{\"field\":\"x\"},\"y\":{\"field\":\"y\"}},\"id\":\"12142\",\"type\":\"Line\"},{\"attributes\":{\"callback\":null,\"data\":{\"x\":{\"__ndarray__\":\"AAAAAAAAAACWArV+pUBZQJYCtX6lQGlA8MEHH3zwckCWArV+pUB5QDxDYt7OkH9A8MEHH3zwgkBDYt7OkBiGQJYCtX6lQIlA6aKLLrpojEA8Q2LezpCPQMdxHMdxXJFA8MEHH3zwkkAaEvN2hoSUQENi3s6QGJZAbbLJJpusl0CWArV+pUCZQL9SoNav1JpA6aKLLrponEAS83aGxPydQDxDYt7OkJ9Asskmm2ySoEDHcRzHcVyhQNwZEvN2JqJA8MEHH3zwokAFav1KgbqjQBoS83aGhKRAL7roootOpUBDYt7OkBimQFgK1PqV4qZAbbLJJpusp0CBWr9SoHaoQJYCtX6lQKlAq6qqqqoKqkC/UqDWr9SqQNT6lQK1nqtA6aKLLrporED9SoFavzKtQBLzdobE/K1AJ5tsssnGrkA8Q2LezpCvQKj1KwVqLbBAsskmm2ySsEC9nSExb/ewQMdxHMdxXLFA0UUXXXTBsUDcGRLzdiayQObtDIl5i7JA8MEHH3zwskD7lQK1flWzQAVq/UqBurNAED744IMftEAaEvN2hoS0QCTm7QyJ6bRAL7roootOtUA5juM4jrO1QENi3s6QGLZATjbZZJN9tkBYCtT6leK2QGLezpCYR7dAbbLJJpust0B3hsS8nRG4QIFav1KgdrhAjC666KLbuECWArV+pUC5QKDWrxSopblAq6qqqqoKukC1fqVArW+6QL9SoNav1LpAyiabbLI5u0DU+pUCtZ67QN7OkJi3A7xA6aKLLrpovEDzdobEvM28QP1KgVq/Mr1ACB988MGXvUAS83aGxPy9QBzHcRzHYb5AJ5tsssnGvkAxb2dIzCu/QDxDYt7OkL9ARhdddNH1v0Co9SsFai3AQK1fKVDrX8BAsskmm2ySwEC4MyTm7cTAQL2dITFv98BAwgcffPApwUDHcRzHcVzBQMzbGRLzjsFA0UUXXXTBwUDXrxSo9fPBQNwZEvN2JsJA4YMPPvhYwkDm7QyJeYvCQOtXCtT6vcJA8MEHH3zwwkD2KwVq/SLDQPuVArV+VcNAAAAAAACIw0A=\",\"dtype\":\"float64\",\"shape\":[100]},\"y\":{\"__ndarray__\":\"AAAAAAAAAADwz2rVhEg4QOpB43eyGVBAknp7reUsWUAla2cZoLBgQPMhPAj3ZWRAhJqhWh/AZ0AK2IOA2MdqQBS+VH0MhW1ADFb2Y+P+b0DVqh/H6h1xQIKRGUTeIHJAeYo98vAKc0Cit3uhht5zQO1KO3HInXRAC+VASapKdUBI7UcX8OZ1QJCh11cydHZA46BfT+LzdkBWxT/OTWd3QI7HMIaiz3dA0KqTNPEteEAUMJVgMIN4QF9NruE+0HhAXoFsJ+YVeUAbV/9E3FR5QFnWcNbFjXlAgtrPoDfBeUAb/jMguO95QPAml+TAGXpAbTpM0L8/ekAnxFU3GGJ6QO/ZGuIjgXpAIOvT+DOdekCM22DYkbZ6QLh+Q9J/zXpAsL5K1jniekCw3BAT9vR6QAt+woLlBXtASjzyajQVe0DJfYPQCiN7QCguHuCML3tAhR5UTNs6e0AbEQSjE0V7QG8A1JtQTntAQcOLXapWe0CDb/y8Nl57QPM5o3QJZXtACSVMWzRre0Da8YaQx3B7QI4M76bRdXtAg5kXy196e0DWYzLmfX57QIKgDrs2gntAQ2aOBJSFe0Cx70OOnoh7QFbxSUtei3tA5cRua9qNe0D4bNRtGZB7QC3+gzEhkntAZAU5BfeTe0Ci9mK1n5V7QMD8Epgfl3tA4OPPmHqYe0CcnOxCtJl7QIRmQ8rPmntAH03/E9Cbe0DWW9G+t5x7QD68FCiJnXtAj+rRckaee0A6MayN8Z57QJpg8zeMn3tAZWUUBhige0BDdeFklqB7QLaSvp4IoXtAHT2Z3m+he0CHGiAzzaF7QOZD5JAhontAZ9r/022ie0BAKX3DsqJ7QFi+OhPxontAL4IxZimje0A5eydPXKN7QGuuLFSKo3tAHAfu7LOje0A4hB6H2aN7QF7gc4T7o3tAtM0rPhqke0Bd4zcENqR7QP1qPh9PpHtAC9m70GWke0A/X9hTeqR7QA5dK96MpHtAvoyVoJ2ke0AtT2bGrKR7QKc/I3i6pHtAG3XA2Make0AEHDYJ0qR7QGMMiSbcpHtArP8pS+Wke0A=\",\"dtype\":\"float64\",\"shape\":[100]}},\"selected\":{\"id\":\"12591\",\"type\":\"Selection\"},\"selection_policy\":{\"id\":\"12590\",\"type\":\"UnionRenderers\"}},\"id\":\"12170\",\"type\":\"ColumnDataSource\"},{\"attributes\":{},\"id\":\"12184\",\"type\":\"Selection\"},{\"attributes\":{},\"id\":\"12148\",\"type\":\"BasicTickFormatter\"},{\"attributes\":{\"active_drag\":\"auto\",\"active_inspect\":\"auto\",\"active_multi\":null,\"active_scroll\":\"auto\",\"active_tap\":\"auto\",\"tools\":[{\"id\":\"12128\",\"type\":\"PanTool\"},{\"id\":\"12129\",\"type\":\"WheelZoomTool\"},{\"id\":\"12130\",\"type\":\"BoxZoomTool\"},{\"id\":\"12131\",\"type\":\"SaveTool\"},{\"id\":\"12132\",\"type\":\"ResetTool\"},{\"id\":\"12133\",\"type\":\"HelpTool\"}]},\"id\":\"12134\",\"type\":\"Toolbar\"},{\"attributes\":{\"line_alpha\":0.1,\"line_color\":\"#1f77b4\",\"line_width\":2,\"x\":{\"field\":\"x\"},\"y\":{\"field\":\"y\"}},\"id\":\"12157\",\"type\":\"Line\"},{\"attributes\":{},\"id\":\"12128\",\"type\":\"PanTool\"},{\"attributes\":{\"label\":{\"value\":\"free atp synthase\"},\"renderers\":[{\"id\":\"12158\",\"type\":\"GlyphRenderer\"}]},\"id\":\"12169\",\"type\":\"LegendItem\"},{\"attributes\":{\"label\":{\"value\":\"rna atpsyn\"},\"renderers\":[{\"id\":\"12173\",\"type\":\"GlyphRenderer\"}]},\"id\":\"12186\",\"type\":\"LegendItem\"},{\"attributes\":{},\"id\":\"12129\",\"type\":\"WheelZoomTool\"},{\"attributes\":{},\"id\":\"12166\",\"type\":\"UnionRenderers\"},{\"attributes\":{},\"id\":\"12591\",\"type\":\"Selection\"},{\"attributes\":{\"callback\":null},\"id\":\"12110\",\"type\":\"DataRange1d\"},{\"attributes\":{\"data_source\":{\"id\":\"12155\",\"type\":\"ColumnDataSource\"},\"glyph\":{\"id\":\"12156\",\"type\":\"Line\"},\"hover_glyph\":null,\"muted_glyph\":null,\"nonselection_glyph\":{\"id\":\"12157\",\"type\":\"Line\"},\"selection_glyph\":null,\"view\":{\"id\":\"12159\",\"type\":\"CDSView\"}},\"id\":\"12158\",\"type\":\"GlyphRenderer\"},{\"attributes\":{\"label\":{\"value\":\"bound atp synthase\"},\"renderers\":[{\"id\":\"12144\",\"type\":\"GlyphRenderer\"}]},\"id\":\"12154\",\"type\":\"LegendItem\"},{\"attributes\":{},\"id\":\"12590\",\"type\":\"UnionRenderers\"},{\"attributes\":{\"overlay\":{\"id\":\"12152\",\"type\":\"BoxAnnotation\"}},\"id\":\"12130\",\"type\":\"BoxZoomTool\"},{\"attributes\":{\"bottom_units\":\"screen\",\"fill_alpha\":{\"value\":0.5},\"fill_color\":{\"value\":\"lightgrey\"},\"left_units\":\"screen\",\"level\":\"overlay\",\"line_alpha\":{\"value\":1.0},\"line_color\":{\"value\":\"black\"},\"line_dash\":[4,4],\"line_width\":{\"value\":2},\"render_mode\":\"css\",\"right_units\":\"screen\",\"top_units\":\"screen\"},\"id\":\"12152\",\"type\":\"BoxAnnotation\"},{\"attributes\":{\"callback\":null},\"id\":\"12112\",\"type\":\"DataRange1d\"},{\"attributes\":{},\"id\":\"12131\",\"type\":\"SaveTool\"},{\"attributes\":{},\"id\":\"12114\",\"type\":\"LinearScale\"},{\"attributes\":{\"callback\":null,\"data\":{\"x\":{\"__ndarray__\":\"AAAAAAAAAACWArV+pUBZQJYCtX6lQGlA8MEHH3zwckCWArV+pUB5QDxDYt7OkH9A8MEHH3zwgkBDYt7OkBiGQJYCtX6lQIlA6aKLLrpojEA8Q2LezpCPQMdxHMdxXJFA8MEHH3zwkkAaEvN2hoSUQENi3s6QGJZAbbLJJpusl0CWArV+pUCZQL9SoNav1JpA6aKLLrponEAS83aGxPydQDxDYt7OkJ9Asskmm2ySoEDHcRzHcVyhQNwZEvN2JqJA8MEHH3zwokAFav1KgbqjQBoS83aGhKRAL7roootOpUBDYt7OkBimQFgK1PqV4qZAbbLJJpusp0CBWr9SoHaoQJYCtX6lQKlAq6qqqqoKqkC/UqDWr9SqQNT6lQK1nqtA6aKLLrporED9SoFavzKtQBLzdobE/K1AJ5tsssnGrkA8Q2LezpCvQKj1KwVqLbBAsskmm2ySsEC9nSExb/ewQMdxHMdxXLFA0UUXXXTBsUDcGRLzdiayQObtDIl5i7JA8MEHH3zwskD7lQK1flWzQAVq/UqBurNAED744IMftEAaEvN2hoS0QCTm7QyJ6bRAL7roootOtUA5juM4jrO1QENi3s6QGLZATjbZZJN9tkBYCtT6leK2QGLezpCYR7dAbbLJJpust0B3hsS8nRG4QIFav1KgdrhAjC666KLbuECWArV+pUC5QKDWrxSopblAq6qqqqoKukC1fqVArW+6QL9SoNav1LpAyiabbLI5u0DU+pUCtZ67QN7OkJi3A7xA6aKLLrpovEDzdobEvM28QP1KgVq/Mr1ACB988MGXvUAS83aGxPy9QBzHcRzHYb5AJ5tsssnGvkAxb2dIzCu/QDxDYt7OkL9ARhdddNH1v0Co9SsFai3AQK1fKVDrX8BAsskmm2ySwEC4MyTm7cTAQL2dITFv98BAwgcffPApwUDHcRzHcVzBQMzbGRLzjsFA0UUXXXTBwUDXrxSo9fPBQNwZEvN2JsJA4YMPPvhYwkDm7QyJeYvCQOtXCtT6vcJA8MEHH3zwwkD2KwVq/SLDQPuVArV+VcNAAAAAAACIw0A=\",\"dtype\":\"float64\",\"shape\":[100]},\"y\":{\"__ndarray__\":\"AAAAAAAAAACFAr4KfdXfP44eZ0796t8/YHBfCaHv3z9oywGGpfHfP5rDdEPF8t8/x+YH53vz3z/pR7mW+fPfP0IO8PZU9N8/cQ7NFJr03z/zzL7xz/TfP+ZJSef69N8/Pe2nzR313z/Z6ouVOvXfP2CUmJxS9d8/c9bc4Gb13z+7IUMfePXfP1YBguaG9d8/IG++pZP13z8r26qznvXfP5SDZFWo9d8/b8SkwrD13z/Pvs4ouPXfP9r3Lq2+9d8/6EbJbsT13z9OKoiHyfXfP5k3Tw3O9d8/TeK5EtL13z+yW12n1fXfPzjNCdnY9d8/tdpOs9v13z+8LFtA3vXfP/IYAIng9d8/emGwlOL13z8vfsRq5PXfP+K9SRDm9d8/TvYCi+f13z/4mavf6PXfP4HAXhHq9d8/ifHYJOv13z+lxBQd7PXfPyXDL/zs9d8/Lkh/xu313z++j2N67vXfP35c0B3v9d8/dAXIsO/13z+O0Gs28PXfP7C1ka3w9d8/7+vZGfH13z+mN3N78fXfPwG7itPx9d8/f9oHI/L13z8V/81q8vXfP3gLm6vy9d8/b9wH5vL13z8+nwgb8/XfP0GNxUrz9d8/gL3NdfP13z8mDYac8/XfPzpaz7/z9d8/YFK53/P13z/l+0v88/XfP+2IYxb09d8/d8jELfT13z83tvJC9PXfP7LgF1b09d8/ghBkZ/T13z8CYwV39PXfP/wkJYX09d8/DhHpkfT13z9YX3Kd9PXfPy1v36f09d8/bKtLsfT13z9VxM+59PXfP7IcgsH09d8/kNx2yPT13z8OZsDO9PXfP9I/b9T09d8/8geS2fT13z+H2Tbe9PXfP0gHaeL09d8/M8gz5vT13z8bOqHp9PXfP4Siuuz09d8/G6aH7/T13z++ng/y9PXfP3hjWfT09d8/Su1q9vT13z/NjUn49PXfP/Yw+vn09d8/ED+B+/T13z9XteL89PXfPygyIv709d8/z/5C//T13z9/AEgA9fXfP4buMwH19d8/pTEJAvX13z8yCcoC9fXfP9NTeAP19d8/ib4VBPX13z8=\",\"dtype\":\"float64\",\"shape\":[100]}},\"selected\":{\"id\":\"12184\",\"type\":\"Selection\"},\"selection_policy\":{\"id\":\"12183\",\"type\":\"UnionRenderers\"}},\"id\":\"12155\",\"type\":\"ColumnDataSource\"},{\"attributes\":{},\"id\":\"12132\",\"type\":\"ResetTool\"},{\"attributes\":{\"formatter\":{\"id\":\"12148\",\"type\":\"BasicTickFormatter\"},\"ticker\":{\"id\":\"12124\",\"type\":\"BasicTicker\"}},\"id\":\"12123\",\"type\":\"LinearAxis\"}],\"root_ids\":[\"12109\"]},\"title\":\"Bokeh Application\",\"version\":\"1.4.0\"}};\n",
       "  var render_items = [{\"docid\":\"972feeff-23bd-4770-b73d-c0a1217afadd\",\"roots\":{\"12109\":\"2338dfe5-242a-429a-a4e1-5e65f1c881aa\"}}];\n",
       "  root.Bokeh.embed.embed_items_notebook(docs_json, render_items);\n",
       "\n",
       "  }\n",
       "  if (root.Bokeh !== undefined) {\n",
       "    embed_document(root);\n",
       "  } else {\n",
       "    var attempts = 0;\n",
       "    var timer = setInterval(function(root) {\n",
       "      if (root.Bokeh !== undefined) {\n",
       "        clearInterval(timer);\n",
       "        embed_document(root);\n",
       "      } else {\n",
       "        attempts++;\n",
       "        if (attempts > 100) {\n",
       "          clearInterval(timer);\n",
       "          console.log(\"Bokeh: ERROR: Unable to run BokehJS code because BokehJS library is missing\");\n",
       "        }\n",
       "      }\n",
       "    }, 10, root)\n",
       "  }\n",
       "})(window);"
      ],
      "application/vnd.bokehjs_exec.v0+json": ""
     },
     "metadata": {
      "application/vnd.bokehjs_exec.v0+json": {
       "id": "12109"
      }
     },
     "output_type": "display_data"
    }
   ],
   "source": [
    "p = bokeh.plotting.figure(width = 450, height = 300)\n",
    "# plot_list = [ATP_id, outside_H_id, inside_H_id, atp_synthase_b_protein_id]\n",
    "# plot_str = ['atp', 'outside_H', 'inside_H', 'atp synthase bound']\n",
    "plot_list = [atp_synthase_b_protein_id, atp_synthase_f_protein_id, rna_atpsyn_id]\n",
    "plot_str = ['bound atp synthase', 'free atp synthase', 'rna atpsyn']\n",
    "for i,item in enumerate(plot_list):\n",
    "    p.line(timepoints, results[item], line_width = 2, legend_label = plot_str[i], color = palette[i])\n",
    "    \n",
    "bokeh.io.show(p)\n"
   ]
  },
  {
   "cell_type": "markdown",
   "metadata": {},
   "source": [
    "## Combine ATP synthase tx, tl, membrane integration, atp synthesis models & ATP USE \n",
    "---"
   ]
  },
  {
   "cell_type": "code",
   "execution_count": 39,
   "metadata": {},
   "outputs": [],
   "source": [
    "ss4_atp_use = createSubsystem('atp_use.xml', subsystemName = 'atp_use')"
   ]
  },
  {
   "cell_type": "code",
   "execution_count": 40,
   "metadata": {},
   "outputs": [],
   "source": [
    "atp_subsystem_w_use = ss1_atpsyn_txtl + ss2_atpsyn_mi + ss3_atpsynthesis + ss4_atp_use"
   ]
  },
  {
   "cell_type": "code",
   "execution_count": 46,
   "metadata": {},
   "outputs": [
    {
     "data": {
      "text/html": [
       "\n",
       "\n",
       "\n",
       "\n",
       "\n",
       "\n",
       "  <div class=\"bk-root\" id=\"5ab82b8b-78c3-4410-baef-f47c61900c59\" data-root-id=\"4227\"></div>\n"
      ]
     },
     "metadata": {},
     "output_type": "display_data"
    },
    {
     "data": {
      "application/javascript": [
       "(function(root) {\n",
       "  function embed_document(root) {\n",
       "    \n",
       "  var docs_json = {\"31245ae5-b321-4c5f-9f7f-294cc8a75e00\":{\"roots\":{\"references\":[{\"attributes\":{\"below\":[{\"id\":\"4236\",\"type\":\"LinearAxis\"}],\"center\":[{\"id\":\"4240\",\"type\":\"Grid\"},{\"id\":\"4245\",\"type\":\"Grid\"},{\"id\":\"4271\",\"type\":\"Legend\"}],\"left\":[{\"id\":\"4241\",\"type\":\"LinearAxis\"}],\"plot_height\":300,\"plot_width\":450,\"renderers\":[{\"id\":\"4262\",\"type\":\"GlyphRenderer\"},{\"id\":\"4276\",\"type\":\"GlyphRenderer\"}],\"title\":{\"id\":\"4264\",\"type\":\"Title\"},\"toolbar\":{\"id\":\"4252\",\"type\":\"Toolbar\"},\"x_range\":{\"id\":\"4228\",\"type\":\"DataRange1d\"},\"x_scale\":{\"id\":\"4232\",\"type\":\"LinearScale\"},\"y_range\":{\"id\":\"4230\",\"type\":\"DataRange1d\"},\"y_scale\":{\"id\":\"4234\",\"type\":\"LinearScale\"}},\"id\":\"4227\",\"subtype\":\"Figure\",\"type\":\"Plot\"},{\"attributes\":{\"text\":\"\"},\"id\":\"4264\",\"type\":\"Title\"},{\"attributes\":{\"formatter\":{\"id\":\"4266\",\"type\":\"BasicTickFormatter\"},\"ticker\":{\"id\":\"4242\",\"type\":\"BasicTicker\"}},\"id\":\"4241\",\"type\":\"LinearAxis\"},{\"attributes\":{},\"id\":\"4237\",\"type\":\"BasicTicker\"},{\"attributes\":{\"ticker\":{\"id\":\"4237\",\"type\":\"BasicTicker\"}},\"id\":\"4240\",\"type\":\"Grid\"},{\"attributes\":{},\"id\":\"4285\",\"type\":\"Selection\"},{\"attributes\":{\"callback\":null},\"id\":\"4230\",\"type\":\"DataRange1d\"},{\"attributes\":{\"active_drag\":\"auto\",\"active_inspect\":\"auto\",\"active_multi\":null,\"active_scroll\":\"auto\",\"active_tap\":\"auto\",\"tools\":[{\"id\":\"4246\",\"type\":\"PanTool\"},{\"id\":\"4247\",\"type\":\"WheelZoomTool\"},{\"id\":\"4248\",\"type\":\"BoxZoomTool\"},{\"id\":\"4249\",\"type\":\"SaveTool\"},{\"id\":\"4250\",\"type\":\"ResetTool\"},{\"id\":\"4251\",\"type\":\"HelpTool\"}]},\"id\":\"4252\",\"type\":\"Toolbar\"},{\"attributes\":{\"dimension\":1,\"ticker\":{\"id\":\"4242\",\"type\":\"BasicTicker\"}},\"id\":\"4245\",\"type\":\"Grid\"},{\"attributes\":{},\"id\":\"4242\",\"type\":\"BasicTicker\"},{\"attributes\":{},\"id\":\"4266\",\"type\":\"BasicTickFormatter\"},{\"attributes\":{},\"id\":\"4268\",\"type\":\"BasicTickFormatter\"},{\"attributes\":{},\"id\":\"4458\",\"type\":\"Selection\"},{\"attributes\":{\"data_source\":{\"id\":\"4259\",\"type\":\"ColumnDataSource\"},\"glyph\":{\"id\":\"4260\",\"type\":\"Line\"},\"hover_glyph\":null,\"muted_glyph\":null,\"nonselection_glyph\":{\"id\":\"4261\",\"type\":\"Line\"},\"selection_glyph\":null,\"view\":{\"id\":\"4263\",\"type\":\"CDSView\"}},\"id\":\"4262\",\"type\":\"GlyphRenderer\"},{\"attributes\":{},\"id\":\"4232\",\"type\":\"LinearScale\"},{\"attributes\":{\"callback\":null,\"data\":{\"x\":{\"__ndarray__\":\"AAAAAAAAAAB/pUCtXykAQH+lQK1fKRBAPvjggw8+GEB/pUCtXykgQN/OkJi3MyRAPvjggw8+KECeITFvZ0gsQH+lQK1fKTBAL7rooosuMkDfzpCYtzM0QI/jOI7jODZAPvjggw8+OEDuDIl5O0M6QJ4hMW9nSDxATjbZZJNNPkB/pUCtXylAQNevFKj1K0FAL7rooosuQkCHxLydITFDQN/OkJi3M0RAN9lkk002RUCP4ziO4zhGQOftDIl5O0dAPvjggw8+SECWArV+pUBJQO4MiXk7Q0pARhdddNFFS0CeITFvZ0hMQPYrBWr9Sk1ATjbZZJNNTkCmQK1fKVBPQH+lQK1fKVBAq6qqqqqqUEDXrxSo9StRQAO1fqVArVFAL7rooosuUkBbv1Kg1q9SQIfEvJ0hMVNAs8kmm2yyU0DfzpCYtzNUQAvU+pUCtVRAN9lkk002VUBj3s6QmLdVQI/jOI7jOFZAu+iiiy66VkDn7QyJeTtXQBPzdobEvFdAPvjggw8+WEBq/UqBWr9YQJYCtX6lQFlAwgcffPDBWUDuDIl5O0NaQBoS83aGxFpARhdddNFFW0ByHMdxHMdbQJ4hMW9nSFxAyiabbLLJXED2KwVq/UpdQCIxb2dIzF1ATjbZZJNNXkB6O0Ni3s5eQKZArV8pUF9A0kUXXXTRX0B/pUCtXylgQBWo9SsFamBAq6qqqqqqYEBBrV8pUOtgQNevFKj1K2FAbbLJJptsYUADtX6lQK1hQJm3MyTm7WFAL7rooosuYkDFvJ0hMW9iQFu/UqDWr2JA8cEHH3zwYkCHxLydITFjQB3HcRzHcWNAs8kmm2yyY0BJzNsZEvNjQN/OkJi3M2RAddFFF110ZEAL1PqVArVkQKHWrxSo9WRAN9lkk002ZUDN2xkS83ZlQGPezpCYt2VA+eCDDz74ZUCP4ziO4zhmQCXm7QyJeWZAu+iiiy66ZkBR61cK1PpmQOftDIl5O2dAffDBBx98Z0AT83aGxLxnQKn1KwVq/WdAPvjggw8+aEDU+pUCtX5oQGr9SoFav2hAAAAAAAAAaUA=\",\"dtype\":\"float64\",\"shape\":[100]},\"y\":{\"__ndarray__\":\"AAAAAAAAAADd7lZDg9wQP6OHL6FqbiY/MTgX2qGWMj86wvnUQAM6P6WsyWIAuUA/jS6JgpZwRD8oVoYSIChIPxT0bJFk30s/k7ghZx+WTz8IJ3/5+6VRP+aJZZA8gFM/oqKbk4JZVT/DdphVYTFXPz8Xvl8/B1k/JtON3j3aWj/W4r8AD6lcP1Jxn2+tcV4/9qWrom0YYD9Nm4E9n/BgP9SQrBn5vGE/zJA1/Xh2Yj+JsHRk+xNjP4VzW78xjmM/knismSvlYz9+U8bxEiBkP3TB/KzCR2Q/Doq5BCZjZD90Jg6xunZkP5qIZKs9hWQ/szWRJ1mQZD+knKt0FplkP300yzIgoGQ/lXYd4OelZD9g4Sllu6pkP56KE8fRrmQ/zs893VKyZD9B3MYoXLVkP/eDrPIDuGQ/07ejWVu6ZD8i5Xy6b7xkPwQmrahLvmQ/3J3fnfe/ZD8xBRB4esFkP/D9cNfZwmQ/ZspHYBrEZD94dafyP8VkP/2iv85NxmQ//vwBtUbHZD+8v+b8LMhkP6XmhqgCyWQ/iaogc8nJZD8LWYXbgspkP2Qqei8wy2Q/N240k9LLZD/ItvwGa8xkP1/B1mz6zGQ/uZ2/jIHNZD84ObUYAc5kP44uAa95zmQ/P/tF3evOZD9RWKEiWM9kP/0uUPG+z2Q/5EB7sCDQZD8bhkW9fdBkPzTSJGzW0GQ/eD/oCSvRZD/IPGfce9FkP5lgEiPJ0WQ/PM7GGBPSZD+l3svyWdJkPwhZJuKd0mQ/rkYDFN/SZD+EuBqyHdNkP1zSPeJZ02Q/iuj7x5PTZD8oglKEy9NkP41hkzUB1GQ/ybXp9zTUZD/OcInlZtRkP/Yl2xaX1GQ/LDudosXUZD8goAGe8tRkP6N22hwe1WQ/73ixMUjVZD+2ANztcNVkPwwvlGGY1WQ/QMUCnL7VZD+DzJmr49VkP0c82J0H1mQ/HkJWfyrWZD9h+PlbTNZkP6kACj9t1mQ/GKklM43WZD8Wlk5CrNZkP52QAHbK1mQ/NEg41+fWZD81HERuBNdkPwY2KkMg12Q/caGiXTvXZD8=\",\"dtype\":\"float64\",\"shape\":[100]}},\"selected\":{\"id\":\"4285\",\"type\":\"Selection\"},\"selection_policy\":{\"id\":\"4284\",\"type\":\"UnionRenderers\"}},\"id\":\"4259\",\"type\":\"ColumnDataSource\"},{\"attributes\":{\"formatter\":{\"id\":\"4268\",\"type\":\"BasicTickFormatter\"},\"ticker\":{\"id\":\"4237\",\"type\":\"BasicTicker\"}},\"id\":\"4236\",\"type\":\"LinearAxis\"},{\"attributes\":{\"line_alpha\":0.1,\"line_color\":\"#1f77b4\",\"line_width\":2,\"x\":{\"field\":\"x\"},\"y\":{\"field\":\"y\"}},\"id\":\"4261\",\"type\":\"Line\"},{\"attributes\":{\"callback\":null,\"data\":{\"x\":{\"__ndarray__\":\"AAAAAAAAAAB/pUCtXykAQH+lQK1fKRBAPvjggw8+GEB/pUCtXykgQN/OkJi3MyRAPvjggw8+KECeITFvZ0gsQH+lQK1fKTBAL7rooosuMkDfzpCYtzM0QI/jOI7jODZAPvjggw8+OEDuDIl5O0M6QJ4hMW9nSDxATjbZZJNNPkB/pUCtXylAQNevFKj1K0FAL7rooosuQkCHxLydITFDQN/OkJi3M0RAN9lkk002RUCP4ziO4zhGQOftDIl5O0dAPvjggw8+SECWArV+pUBJQO4MiXk7Q0pARhdddNFFS0CeITFvZ0hMQPYrBWr9Sk1ATjbZZJNNTkCmQK1fKVBPQH+lQK1fKVBAq6qqqqqqUEDXrxSo9StRQAO1fqVArVFAL7rooosuUkBbv1Kg1q9SQIfEvJ0hMVNAs8kmm2yyU0DfzpCYtzNUQAvU+pUCtVRAN9lkk002VUBj3s6QmLdVQI/jOI7jOFZAu+iiiy66VkDn7QyJeTtXQBPzdobEvFdAPvjggw8+WEBq/UqBWr9YQJYCtX6lQFlAwgcffPDBWUDuDIl5O0NaQBoS83aGxFpARhdddNFFW0ByHMdxHMdbQJ4hMW9nSFxAyiabbLLJXED2KwVq/UpdQCIxb2dIzF1ATjbZZJNNXkB6O0Ni3s5eQKZArV8pUF9A0kUXXXTRX0B/pUCtXylgQBWo9SsFamBAq6qqqqqqYEBBrV8pUOtgQNevFKj1K2FAbbLJJptsYUADtX6lQK1hQJm3MyTm7WFAL7rooosuYkDFvJ0hMW9iQFu/UqDWr2JA8cEHH3zwYkCHxLydITFjQB3HcRzHcWNAs8kmm2yyY0BJzNsZEvNjQN/OkJi3M2RAddFFF110ZEAL1PqVArVkQKHWrxSo9WRAN9lkk002ZUDN2xkS83ZlQGPezpCYt2VA+eCDDz74ZUCP4ziO4zhmQCXm7QyJeWZAu+iiiy66ZkBR61cK1PpmQOftDIl5O2dAffDBBx98Z0AT83aGxLxnQKn1KwVq/WdAPvjggw8+aEDU+pUCtX5oQGr9SoFav2hAAAAAAAAAaUA=\",\"dtype\":\"float64\",\"shape\":[100]},\"y\":{\"__ndarray__\":\"AAAAAAAAAAB/iZOqf26KP+VhS06/h6E/zalV6IkCrT9yGmIhOka0PwN14J0qCro/MpOhLcbLvz981/zhU8XCP1CHyk09o8U/OaIg8Wt/yD92gHlYnVnLP0egg7F5Mc4/WQvkSkWD0D9fIX5vFuzRP/05bg69UtM/4Q6105G21D9Wx6gJmhbWP1Ljnh5Rcdc/VBbKwUfE2D/1DIQoeQvaP6YclII4QNs/1foPQQRY3D83HPeZNEXdP6IBaS34/N0/yap8Qpp/3j8VvlQFA9jeP7b95OmOE98/KDkUu6U83z94xl/2BVrfP3U1MYHLb98/31EJvHWA3z/gNRyeko3fP5K8dxYimN8/A2ddYs6g3z8KRodfDKjfP3e8G5curt8/qCTSzXCz3z+5qPNG/7ffP/cDfXH7u98/nKnc/H6/3z+ogYL1ncLfP/1+rjloxd8/5M/QgOrH3z/I77MYL8rfPyz+V3I+zN8/NmjHhB/O3z8bk6cg2M/fP/OpuyZt0d8/ST0YuOLS3z/YK1JYPNTfP/EA4Qp91d8/7ibraKfW3z/Lke2wvdffP0ojy9fB2N8/YXkHlLXZ3z8fsT5mmtrfPwXZn6Fx298/y69Ncjzc3z/mYWbj+9zfP0S/duKw3d8/zUgQRFze3z/1P/fG/t7fP9lHnhaZ398/RyXazSvg3z8ZKG14t+DfP6DBHJU84d8/6w0xl7vh3z8yO4XnNOLfP016P+Wo4t8/XnO+6Bfj3z/O+PhBguPfP80ngTro498/ZU4kFkrk3z9aHIATqOTfP0slVmsC5d8/3isHU1nl3z/LhBX8rOXfP3zvApT95d8/BdMWRUvm3z+gPaU2lubfP5CNUI3e5t8/PLE7ayTn3z9sdDbwZ+ffP0fRADqp598/j5dtZOjn3z/fEYGJJejfP3RSlsFg6N8/yi1tI5ro3z+dSbbE0ejfPwB2sbkH6d8/GoxGFTzp3z/2qlHpbunfP555v0ag6d8/2mKBPdDp3z/hXJzc/unfPypvTDIs6t8/1rYOTFjq3z8Zp1o2g+rfP2stPP2s6t8/5hNJrNXq3z8=\",\"dtype\":\"float64\",\"shape\":[100]}},\"selected\":{\"id\":\"4458\",\"type\":\"Selection\"},\"selection_policy\":{\"id\":\"4457\",\"type\":\"UnionRenderers\"}},\"id\":\"4273\",\"type\":\"ColumnDataSource\"},{\"attributes\":{\"overlay\":{\"id\":\"4270\",\"type\":\"BoxAnnotation\"}},\"id\":\"4248\",\"type\":\"BoxZoomTool\"},{\"attributes\":{\"label\":{\"value\":\"atp synthase free\"},\"renderers\":[{\"id\":\"4276\",\"type\":\"GlyphRenderer\"}]},\"id\":\"4287\",\"type\":\"LegendItem\"},{\"attributes\":{\"source\":{\"id\":\"4259\",\"type\":\"ColumnDataSource\"}},\"id\":\"4263\",\"type\":\"CDSView\"},{\"attributes\":{\"callback\":null},\"id\":\"4228\",\"type\":\"DataRange1d\"},{\"attributes\":{},\"id\":\"4249\",\"type\":\"SaveTool\"},{\"attributes\":{\"bottom_units\":\"screen\",\"fill_alpha\":{\"value\":0.5},\"fill_color\":{\"value\":\"lightgrey\"},\"left_units\":\"screen\",\"level\":\"overlay\",\"line_alpha\":{\"value\":1.0},\"line_color\":{\"value\":\"black\"},\"line_dash\":[4,4],\"line_width\":{\"value\":2},\"render_mode\":\"css\",\"right_units\":\"screen\",\"top_units\":\"screen\"},\"id\":\"4270\",\"type\":\"BoxAnnotation\"},{\"attributes\":{},\"id\":\"4457\",\"type\":\"UnionRenderers\"},{\"attributes\":{\"items\":[{\"id\":\"4272\",\"type\":\"LegendItem\"},{\"id\":\"4287\",\"type\":\"LegendItem\"}]},\"id\":\"4271\",\"type\":\"Legend\"},{\"attributes\":{\"line_color\":\"#ff7e0e\",\"line_width\":2,\"x\":{\"field\":\"x\"},\"y\":{\"field\":\"y\"}},\"id\":\"4274\",\"type\":\"Line\"},{\"attributes\":{},\"id\":\"4246\",\"type\":\"PanTool\"},{\"attributes\":{},\"id\":\"4247\",\"type\":\"WheelZoomTool\"},{\"attributes\":{\"data_source\":{\"id\":\"4273\",\"type\":\"ColumnDataSource\"},\"glyph\":{\"id\":\"4274\",\"type\":\"Line\"},\"hover_glyph\":null,\"muted_glyph\":null,\"nonselection_glyph\":{\"id\":\"4275\",\"type\":\"Line\"},\"selection_glyph\":null,\"view\":{\"id\":\"4277\",\"type\":\"CDSView\"}},\"id\":\"4276\",\"type\":\"GlyphRenderer\"},{\"attributes\":{},\"id\":\"4250\",\"type\":\"ResetTool\"},{\"attributes\":{\"source\":{\"id\":\"4273\",\"type\":\"ColumnDataSource\"}},\"id\":\"4277\",\"type\":\"CDSView\"},{\"attributes\":{},\"id\":\"4251\",\"type\":\"HelpTool\"},{\"attributes\":{\"line_alpha\":0.1,\"line_color\":\"#1f77b4\",\"line_width\":2,\"x\":{\"field\":\"x\"},\"y\":{\"field\":\"y\"}},\"id\":\"4275\",\"type\":\"Line\"},{\"attributes\":{},\"id\":\"4284\",\"type\":\"UnionRenderers\"},{\"attributes\":{\"line_color\":\"#1f77b3\",\"line_width\":2,\"x\":{\"field\":\"x\"},\"y\":{\"field\":\"y\"}},\"id\":\"4260\",\"type\":\"Line\"},{\"attributes\":{},\"id\":\"4234\",\"type\":\"LinearScale\"},{\"attributes\":{\"label\":{\"value\":\"atp synthase bound\"},\"renderers\":[{\"id\":\"4262\",\"type\":\"GlyphRenderer\"}]},\"id\":\"4272\",\"type\":\"LegendItem\"}],\"root_ids\":[\"4227\"]},\"title\":\"Bokeh Application\",\"version\":\"1.4.0\"}};\n",
       "  var render_items = [{\"docid\":\"31245ae5-b321-4c5f-9f7f-294cc8a75e00\",\"roots\":{\"4227\":\"5ab82b8b-78c3-4410-baef-f47c61900c59\"}}];\n",
       "  root.Bokeh.embed.embed_items_notebook(docs_json, render_items);\n",
       "\n",
       "  }\n",
       "  if (root.Bokeh !== undefined) {\n",
       "    embed_document(root);\n",
       "  } else {\n",
       "    var attempts = 0;\n",
       "    var timer = setInterval(function(root) {\n",
       "      if (root.Bokeh !== undefined) {\n",
       "        clearInterval(timer);\n",
       "        embed_document(root);\n",
       "      } else {\n",
       "        attempts++;\n",
       "        if (attempts > 100) {\n",
       "          clearInterval(timer);\n",
       "          console.log(\"Bokeh: ERROR: Unable to run BokehJS code because BokehJS library is missing\");\n",
       "        }\n",
       "      }\n",
       "    }, 10, root)\n",
       "  }\n",
       "})(window);"
      ],
      "application/vnd.bokehjs_exec.v0+json": ""
     },
     "metadata": {
      "application/vnd.bokehjs_exec.v0+json": {
       "id": "4227"
      }
     },
     "output_type": "display_data"
    }
   ],
   "source": [
    "# Initial conditions\n",
    "spec_list_10 = ['dna_atpsyn', 'protein_RNAP_machinery',\n",
    "               'protein_Ribo_machinery', 'protein_RNAase_machinery']\n",
    "for i,spec in enumerate(spec_list_10):\n",
    "    atp_subsystem_w_use.setSpeciesAmount(spec,10)\n",
    "\n",
    "# timepoints and get results\n",
    "timepoints = np.linspace(0,200,100)\n",
    "results, _ = atp_subsystem_w_use.simulateWithBioscrape(timepoints, sbml_warnings = False)\n",
    "\n",
    "# Get species IDs\n",
    "ATP_id = atp_subsystem_w_use.getSpeciesByName('metabolite_atp').getId()\n",
    "ADP_id = atp_subsystem_w_use.getSpeciesByName('metabolite_adp').getId()\n",
    "\n",
    "outside_H_id = atp_subsystem_w_use.getSpeciesByName('proton_outside_H').getId()\n",
    "inside_H_id = atp_subsystem_w_use.getSpeciesByName('proton_inside_H').getId()\n",
    "atp_synthase_b_protein_id = atp_subsystem_w_use.getSpeciesByName('protein_atpsyn_b').getId()\n",
    "atp_synthase_f_protein_id = atp_subsystem_w_use.getSpeciesByName('protein_atpsyn').getId()\n",
    "\n",
    "\n",
    "# PLOT\n",
    "p_w_atp = bokeh.plotting.figure(width = 450, height = 300)\n",
    "# plot_list = [ATP_id, outside_H_id, inside_H_id, atp_synthase_protein_id]\n",
    "# plot_str = ['atp', 'outside_H', 'inside_H', 'atp synthase']\n",
    "plot_list = [atp_synthase_b_protein_id, atp_synthase_f_protein_id]\n",
    "plot_str = ['atp synthase bound', 'atp synthase free']\n",
    "for i,item in enumerate(plot_list):\n",
    "    p_w_atp.line(timepoints, results[item], line_width = 2, legend_label = plot_str[i], color = palette[i])\n",
    "    \n",
    "bokeh.io.show(p_w_atp)\n",
    "\n"
   ]
  },
  {
   "cell_type": "markdown",
   "metadata": {},
   "source": [
    "Nice we see that there's just a lower steady state when we add atp use, as expected"
   ]
  },
  {
   "cell_type": "markdown",
   "metadata": {},
   "source": [
    "But how come it's staying regenerated for ever. Once there's no more outside H, no flow in of protons so no ATP synthesis via atp synthase. But atp should still be used by the atp_use subsbml so why isn't atp degrading?"
   ]
  },
  {
   "cell_type": "markdown",
   "metadata": {},
   "source": [
    "We need to get it to say, once there is 1 atp synthase, something happens."
   ]
  },
  {
   "cell_type": "markdown",
   "metadata": {},
   "source": [
    "For the 'SBML for ATP synthesis via ATP synthase membrane protein' we need to include ATP synthase!!"
   ]
  },
  {
   "cell_type": "code",
   "execution_count": null,
   "metadata": {},
   "outputs": [],
   "source": []
  }
 ],
 "metadata": {
  "kernelspec": {
   "display_name": "Python 3",
   "language": "python",
   "name": "python3"
  },
  "language_info": {
   "codemirror_mode": {
    "name": "ipython",
    "version": 3
   },
   "file_extension": ".py",
   "mimetype": "text/x-python",
   "name": "python",
   "nbconvert_exporter": "python",
   "pygments_lexer": "ipython3",
   "version": "3.7.7"
  }
 },
 "nbformat": 4,
 "nbformat_minor": 4
}
