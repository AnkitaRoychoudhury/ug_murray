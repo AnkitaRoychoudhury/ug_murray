{
 "cells": [
  {
   "cell_type": "markdown",
   "metadata": {},
   "source": [
    "# Combine All ATP Synthase and Proton Pump Models\n",
    "---"
   ]
  },
  {
   "cell_type": "code",
   "execution_count": 1,
   "metadata": {},
   "outputs": [
    {
     "data": {
      "text/html": [
       "\n",
       "    <div class=\"bk-root\">\n",
       "        <a href=\"https://bokeh.org\" target=\"_blank\" class=\"bk-logo bk-logo-small bk-logo-notebook\"></a>\n",
       "        <span id=\"1001\">Loading BokehJS ...</span>\n",
       "    </div>"
      ]
     },
     "metadata": {},
     "output_type": "display_data"
    },
    {
     "data": {
      "application/javascript": [
       "\n",
       "(function(root) {\n",
       "  function now() {\n",
       "    return new Date();\n",
       "  }\n",
       "\n",
       "  var force = true;\n",
       "\n",
       "  if (typeof root._bokeh_onload_callbacks === \"undefined\" || force === true) {\n",
       "    root._bokeh_onload_callbacks = [];\n",
       "    root._bokeh_is_loading = undefined;\n",
       "  }\n",
       "\n",
       "  var JS_MIME_TYPE = 'application/javascript';\n",
       "  var HTML_MIME_TYPE = 'text/html';\n",
       "  var EXEC_MIME_TYPE = 'application/vnd.bokehjs_exec.v0+json';\n",
       "  var CLASS_NAME = 'output_bokeh rendered_html';\n",
       "\n",
       "  /**\n",
       "   * Render data to the DOM node\n",
       "   */\n",
       "  function render(props, node) {\n",
       "    var script = document.createElement(\"script\");\n",
       "    node.appendChild(script);\n",
       "  }\n",
       "\n",
       "  /**\n",
       "   * Handle when an output is cleared or removed\n",
       "   */\n",
       "  function handleClearOutput(event, handle) {\n",
       "    var cell = handle.cell;\n",
       "\n",
       "    var id = cell.output_area._bokeh_element_id;\n",
       "    var server_id = cell.output_area._bokeh_server_id;\n",
       "    // Clean up Bokeh references\n",
       "    if (id != null && id in Bokeh.index) {\n",
       "      Bokeh.index[id].model.document.clear();\n",
       "      delete Bokeh.index[id];\n",
       "    }\n",
       "\n",
       "    if (server_id !== undefined) {\n",
       "      // Clean up Bokeh references\n",
       "      var cmd = \"from bokeh.io.state import curstate; print(curstate().uuid_to_server['\" + server_id + \"'].get_sessions()[0].document.roots[0]._id)\";\n",
       "      cell.notebook.kernel.execute(cmd, {\n",
       "        iopub: {\n",
       "          output: function(msg) {\n",
       "            var id = msg.content.text.trim();\n",
       "            if (id in Bokeh.index) {\n",
       "              Bokeh.index[id].model.document.clear();\n",
       "              delete Bokeh.index[id];\n",
       "            }\n",
       "          }\n",
       "        }\n",
       "      });\n",
       "      // Destroy server and session\n",
       "      var cmd = \"import bokeh.io.notebook as ion; ion.destroy_server('\" + server_id + \"')\";\n",
       "      cell.notebook.kernel.execute(cmd);\n",
       "    }\n",
       "  }\n",
       "\n",
       "  /**\n",
       "   * Handle when a new output is added\n",
       "   */\n",
       "  function handleAddOutput(event, handle) {\n",
       "    var output_area = handle.output_area;\n",
       "    var output = handle.output;\n",
       "\n",
       "    // limit handleAddOutput to display_data with EXEC_MIME_TYPE content only\n",
       "    if ((output.output_type != \"display_data\") || (!output.data.hasOwnProperty(EXEC_MIME_TYPE))) {\n",
       "      return\n",
       "    }\n",
       "\n",
       "    var toinsert = output_area.element.find(\".\" + CLASS_NAME.split(' ')[0]);\n",
       "\n",
       "    if (output.metadata[EXEC_MIME_TYPE][\"id\"] !== undefined) {\n",
       "      toinsert[toinsert.length - 1].firstChild.textContent = output.data[JS_MIME_TYPE];\n",
       "      // store reference to embed id on output_area\n",
       "      output_area._bokeh_element_id = output.metadata[EXEC_MIME_TYPE][\"id\"];\n",
       "    }\n",
       "    if (output.metadata[EXEC_MIME_TYPE][\"server_id\"] !== undefined) {\n",
       "      var bk_div = document.createElement(\"div\");\n",
       "      bk_div.innerHTML = output.data[HTML_MIME_TYPE];\n",
       "      var script_attrs = bk_div.children[0].attributes;\n",
       "      for (var i = 0; i < script_attrs.length; i++) {\n",
       "        toinsert[toinsert.length - 1].firstChild.setAttribute(script_attrs[i].name, script_attrs[i].value);\n",
       "      }\n",
       "      // store reference to server id on output_area\n",
       "      output_area._bokeh_server_id = output.metadata[EXEC_MIME_TYPE][\"server_id\"];\n",
       "    }\n",
       "  }\n",
       "\n",
       "  function register_renderer(events, OutputArea) {\n",
       "\n",
       "    function append_mime(data, metadata, element) {\n",
       "      // create a DOM node to render to\n",
       "      var toinsert = this.create_output_subarea(\n",
       "        metadata,\n",
       "        CLASS_NAME,\n",
       "        EXEC_MIME_TYPE\n",
       "      );\n",
       "      this.keyboard_manager.register_events(toinsert);\n",
       "      // Render to node\n",
       "      var props = {data: data, metadata: metadata[EXEC_MIME_TYPE]};\n",
       "      render(props, toinsert[toinsert.length - 1]);\n",
       "      element.append(toinsert);\n",
       "      return toinsert\n",
       "    }\n",
       "\n",
       "    /* Handle when an output is cleared or removed */\n",
       "    events.on('clear_output.CodeCell', handleClearOutput);\n",
       "    events.on('delete.Cell', handleClearOutput);\n",
       "\n",
       "    /* Handle when a new output is added */\n",
       "    events.on('output_added.OutputArea', handleAddOutput);\n",
       "\n",
       "    /**\n",
       "     * Register the mime type and append_mime function with output_area\n",
       "     */\n",
       "    OutputArea.prototype.register_mime_type(EXEC_MIME_TYPE, append_mime, {\n",
       "      /* Is output safe? */\n",
       "      safe: true,\n",
       "      /* Index of renderer in `output_area.display_order` */\n",
       "      index: 0\n",
       "    });\n",
       "  }\n",
       "\n",
       "  // register the mime type if in Jupyter Notebook environment and previously unregistered\n",
       "  if (root.Jupyter !== undefined) {\n",
       "    var events = require('base/js/events');\n",
       "    var OutputArea = require('notebook/js/outputarea').OutputArea;\n",
       "\n",
       "    if (OutputArea.prototype.mime_types().indexOf(EXEC_MIME_TYPE) == -1) {\n",
       "      register_renderer(events, OutputArea);\n",
       "    }\n",
       "  }\n",
       "\n",
       "  \n",
       "  if (typeof (root._bokeh_timeout) === \"undefined\" || force === true) {\n",
       "    root._bokeh_timeout = Date.now() + 5000;\n",
       "    root._bokeh_failed_load = false;\n",
       "  }\n",
       "\n",
       "  var NB_LOAD_WARNING = {'data': {'text/html':\n",
       "     \"<div style='background-color: #fdd'>\\n\"+\n",
       "     \"<p>\\n\"+\n",
       "     \"BokehJS does not appear to have successfully loaded. If loading BokehJS from CDN, this \\n\"+\n",
       "     \"may be due to a slow or bad network connection. Possible fixes:\\n\"+\n",
       "     \"</p>\\n\"+\n",
       "     \"<ul>\\n\"+\n",
       "     \"<li>re-rerun `output_notebook()` to attempt to load from CDN again, or</li>\\n\"+\n",
       "     \"<li>use INLINE resources instead, as so:</li>\\n\"+\n",
       "     \"</ul>\\n\"+\n",
       "     \"<code>\\n\"+\n",
       "     \"from bokeh.resources import INLINE\\n\"+\n",
       "     \"output_notebook(resources=INLINE)\\n\"+\n",
       "     \"</code>\\n\"+\n",
       "     \"</div>\"}};\n",
       "\n",
       "  function display_loaded() {\n",
       "    var el = document.getElementById(\"1001\");\n",
       "    if (el != null) {\n",
       "      el.textContent = \"BokehJS is loading...\";\n",
       "    }\n",
       "    if (root.Bokeh !== undefined) {\n",
       "      if (el != null) {\n",
       "        el.textContent = \"BokehJS \" + root.Bokeh.version + \" successfully loaded.\";\n",
       "      }\n",
       "    } else if (Date.now() < root._bokeh_timeout) {\n",
       "      setTimeout(display_loaded, 100)\n",
       "    }\n",
       "  }\n",
       "\n",
       "\n",
       "  function run_callbacks() {\n",
       "    try {\n",
       "      root._bokeh_onload_callbacks.forEach(function(callback) {\n",
       "        if (callback != null)\n",
       "          callback();\n",
       "      });\n",
       "    } finally {\n",
       "      delete root._bokeh_onload_callbacks\n",
       "    }\n",
       "    console.debug(\"Bokeh: all callbacks have finished\");\n",
       "  }\n",
       "\n",
       "  function load_libs(css_urls, js_urls, callback) {\n",
       "    if (css_urls == null) css_urls = [];\n",
       "    if (js_urls == null) js_urls = [];\n",
       "\n",
       "    root._bokeh_onload_callbacks.push(callback);\n",
       "    if (root._bokeh_is_loading > 0) {\n",
       "      console.debug(\"Bokeh: BokehJS is being loaded, scheduling callback at\", now());\n",
       "      return null;\n",
       "    }\n",
       "    if (js_urls == null || js_urls.length === 0) {\n",
       "      run_callbacks();\n",
       "      return null;\n",
       "    }\n",
       "    console.debug(\"Bokeh: BokehJS not loaded, scheduling load and callback at\", now());\n",
       "    root._bokeh_is_loading = css_urls.length + js_urls.length;\n",
       "\n",
       "    function on_load() {\n",
       "      root._bokeh_is_loading--;\n",
       "      if (root._bokeh_is_loading === 0) {\n",
       "        console.debug(\"Bokeh: all BokehJS libraries/stylesheets loaded\");\n",
       "        run_callbacks()\n",
       "      }\n",
       "    }\n",
       "\n",
       "    function on_error() {\n",
       "      console.error(\"failed to load \" + url);\n",
       "    }\n",
       "\n",
       "    for (var i = 0; i < css_urls.length; i++) {\n",
       "      var url = css_urls[i];\n",
       "      const element = document.createElement(\"link\");\n",
       "      element.onload = on_load;\n",
       "      element.onerror = on_error;\n",
       "      element.rel = \"stylesheet\";\n",
       "      element.type = \"text/css\";\n",
       "      element.href = url;\n",
       "      console.debug(\"Bokeh: injecting link tag for BokehJS stylesheet: \", url);\n",
       "      document.body.appendChild(element);\n",
       "    }\n",
       "\n",
       "    for (var i = 0; i < js_urls.length; i++) {\n",
       "      var url = js_urls[i];\n",
       "      var element = document.createElement('script');\n",
       "      element.onload = on_load;\n",
       "      element.onerror = on_error;\n",
       "      element.async = false;\n",
       "      element.src = url;\n",
       "      console.debug(\"Bokeh: injecting script tag for BokehJS library: \", url);\n",
       "      document.head.appendChild(element);\n",
       "    }\n",
       "  };var element = document.getElementById(\"1001\");\n",
       "  if (element == null) {\n",
       "    console.error(\"Bokeh: ERROR: autoload.js configured with elementid '1001' but no matching script tag was found. \")\n",
       "    return false;\n",
       "  }\n",
       "\n",
       "  function inject_raw_css(css) {\n",
       "    const element = document.createElement(\"style\");\n",
       "    element.appendChild(document.createTextNode(css));\n",
       "    document.body.appendChild(element);\n",
       "  }\n",
       "\n",
       "  \n",
       "  var js_urls = [\"https://cdn.pydata.org/bokeh/release/bokeh-1.4.0.min.js\", \"https://cdn.pydata.org/bokeh/release/bokeh-widgets-1.4.0.min.js\", \"https://cdn.pydata.org/bokeh/release/bokeh-tables-1.4.0.min.js\", \"https://cdn.pydata.org/bokeh/release/bokeh-gl-1.4.0.min.js\"];\n",
       "  var css_urls = [];\n",
       "  \n",
       "\n",
       "  var inline_js = [\n",
       "    function(Bokeh) {\n",
       "      Bokeh.set_log_level(\"info\");\n",
       "    },\n",
       "    function(Bokeh) {\n",
       "    \n",
       "    \n",
       "    }\n",
       "  ];\n",
       "\n",
       "  function run_inline_js() {\n",
       "    \n",
       "    if (root.Bokeh !== undefined || force === true) {\n",
       "      \n",
       "    for (var i = 0; i < inline_js.length; i++) {\n",
       "      inline_js[i].call(root, root.Bokeh);\n",
       "    }\n",
       "    if (force === true) {\n",
       "        display_loaded();\n",
       "      }} else if (Date.now() < root._bokeh_timeout) {\n",
       "      setTimeout(run_inline_js, 100);\n",
       "    } else if (!root._bokeh_failed_load) {\n",
       "      console.log(\"Bokeh: BokehJS failed to load within specified timeout.\");\n",
       "      root._bokeh_failed_load = true;\n",
       "    } else if (force !== true) {\n",
       "      var cell = $(document.getElementById(\"1001\")).parents('.cell').data().cell;\n",
       "      cell.output_area.append_execute_result(NB_LOAD_WARNING)\n",
       "    }\n",
       "\n",
       "  }\n",
       "\n",
       "  if (root._bokeh_is_loading === 0) {\n",
       "    console.debug(\"Bokeh: BokehJS loaded, going straight to plotting\");\n",
       "    run_inline_js();\n",
       "  } else {\n",
       "    load_libs(css_urls, js_urls, function() {\n",
       "      console.debug(\"Bokeh: BokehJS plotting callback run at\", now());\n",
       "      run_inline_js();\n",
       "    });\n",
       "  }\n",
       "}(window));"
      ],
      "application/vnd.bokehjs_load.v0+json": "\n(function(root) {\n  function now() {\n    return new Date();\n  }\n\n  var force = true;\n\n  if (typeof root._bokeh_onload_callbacks === \"undefined\" || force === true) {\n    root._bokeh_onload_callbacks = [];\n    root._bokeh_is_loading = undefined;\n  }\n\n  \n\n  \n  if (typeof (root._bokeh_timeout) === \"undefined\" || force === true) {\n    root._bokeh_timeout = Date.now() + 5000;\n    root._bokeh_failed_load = false;\n  }\n\n  var NB_LOAD_WARNING = {'data': {'text/html':\n     \"<div style='background-color: #fdd'>\\n\"+\n     \"<p>\\n\"+\n     \"BokehJS does not appear to have successfully loaded. If loading BokehJS from CDN, this \\n\"+\n     \"may be due to a slow or bad network connection. Possible fixes:\\n\"+\n     \"</p>\\n\"+\n     \"<ul>\\n\"+\n     \"<li>re-rerun `output_notebook()` to attempt to load from CDN again, or</li>\\n\"+\n     \"<li>use INLINE resources instead, as so:</li>\\n\"+\n     \"</ul>\\n\"+\n     \"<code>\\n\"+\n     \"from bokeh.resources import INLINE\\n\"+\n     \"output_notebook(resources=INLINE)\\n\"+\n     \"</code>\\n\"+\n     \"</div>\"}};\n\n  function display_loaded() {\n    var el = document.getElementById(\"1001\");\n    if (el != null) {\n      el.textContent = \"BokehJS is loading...\";\n    }\n    if (root.Bokeh !== undefined) {\n      if (el != null) {\n        el.textContent = \"BokehJS \" + root.Bokeh.version + \" successfully loaded.\";\n      }\n    } else if (Date.now() < root._bokeh_timeout) {\n      setTimeout(display_loaded, 100)\n    }\n  }\n\n\n  function run_callbacks() {\n    try {\n      root._bokeh_onload_callbacks.forEach(function(callback) {\n        if (callback != null)\n          callback();\n      });\n    } finally {\n      delete root._bokeh_onload_callbacks\n    }\n    console.debug(\"Bokeh: all callbacks have finished\");\n  }\n\n  function load_libs(css_urls, js_urls, callback) {\n    if (css_urls == null) css_urls = [];\n    if (js_urls == null) js_urls = [];\n\n    root._bokeh_onload_callbacks.push(callback);\n    if (root._bokeh_is_loading > 0) {\n      console.debug(\"Bokeh: BokehJS is being loaded, scheduling callback at\", now());\n      return null;\n    }\n    if (js_urls == null || js_urls.length === 0) {\n      run_callbacks();\n      return null;\n    }\n    console.debug(\"Bokeh: BokehJS not loaded, scheduling load and callback at\", now());\n    root._bokeh_is_loading = css_urls.length + js_urls.length;\n\n    function on_load() {\n      root._bokeh_is_loading--;\n      if (root._bokeh_is_loading === 0) {\n        console.debug(\"Bokeh: all BokehJS libraries/stylesheets loaded\");\n        run_callbacks()\n      }\n    }\n\n    function on_error() {\n      console.error(\"failed to load \" + url);\n    }\n\n    for (var i = 0; i < css_urls.length; i++) {\n      var url = css_urls[i];\n      const element = document.createElement(\"link\");\n      element.onload = on_load;\n      element.onerror = on_error;\n      element.rel = \"stylesheet\";\n      element.type = \"text/css\";\n      element.href = url;\n      console.debug(\"Bokeh: injecting link tag for BokehJS stylesheet: \", url);\n      document.body.appendChild(element);\n    }\n\n    for (var i = 0; i < js_urls.length; i++) {\n      var url = js_urls[i];\n      var element = document.createElement('script');\n      element.onload = on_load;\n      element.onerror = on_error;\n      element.async = false;\n      element.src = url;\n      console.debug(\"Bokeh: injecting script tag for BokehJS library: \", url);\n      document.head.appendChild(element);\n    }\n  };var element = document.getElementById(\"1001\");\n  if (element == null) {\n    console.error(\"Bokeh: ERROR: autoload.js configured with elementid '1001' but no matching script tag was found. \")\n    return false;\n  }\n\n  function inject_raw_css(css) {\n    const element = document.createElement(\"style\");\n    element.appendChild(document.createTextNode(css));\n    document.body.appendChild(element);\n  }\n\n  \n  var js_urls = [\"https://cdn.pydata.org/bokeh/release/bokeh-1.4.0.min.js\", \"https://cdn.pydata.org/bokeh/release/bokeh-widgets-1.4.0.min.js\", \"https://cdn.pydata.org/bokeh/release/bokeh-tables-1.4.0.min.js\", \"https://cdn.pydata.org/bokeh/release/bokeh-gl-1.4.0.min.js\"];\n  var css_urls = [];\n  \n\n  var inline_js = [\n    function(Bokeh) {\n      Bokeh.set_log_level(\"info\");\n    },\n    function(Bokeh) {\n    \n    \n    }\n  ];\n\n  function run_inline_js() {\n    \n    if (root.Bokeh !== undefined || force === true) {\n      \n    for (var i = 0; i < inline_js.length; i++) {\n      inline_js[i].call(root, root.Bokeh);\n    }\n    if (force === true) {\n        display_loaded();\n      }} else if (Date.now() < root._bokeh_timeout) {\n      setTimeout(run_inline_js, 100);\n    } else if (!root._bokeh_failed_load) {\n      console.log(\"Bokeh: BokehJS failed to load within specified timeout.\");\n      root._bokeh_failed_load = true;\n    } else if (force !== true) {\n      var cell = $(document.getElementById(\"1001\")).parents('.cell').data().cell;\n      cell.output_area.append_execute_result(NB_LOAD_WARNING)\n    }\n\n  }\n\n  if (root._bokeh_is_loading === 0) {\n    console.debug(\"Bokeh: BokehJS loaded, going straight to plotting\");\n    run_inline_js();\n  } else {\n    load_libs(css_urls, js_urls, function() {\n      console.debug(\"Bokeh: BokehJS plotting callback run at\", now());\n      run_inline_js();\n    });\n  }\n}(window));"
     },
     "metadata": {},
     "output_type": "display_data"
    }
   ],
   "source": [
    "from biocrnpyler import *\n",
    "#from biocrnpyler.chemical_reaction_network import Species, Reaction, ComplexSpecies, Multimer\n",
    "import numpy as np\n",
    "import pylab as plt \n",
    "%matplotlib inline\n",
    "\n",
    "import bokeh.io\n",
    "import bokeh.plotting\n",
    "from bokeh.layouts import row\n",
    "bokeh.io.output_notebook()\n",
    "\n",
    "import colorcet\n",
    "\n",
    "from subsbml import createNewSubsystem, createSubsystem"
   ]
  },
  {
   "cell_type": "code",
   "execution_count": 2,
   "metadata": {},
   "outputs": [],
   "source": [
    "palette = colorcet.b_glasbey_category10\n",
    "palette.remove( '#d62628')"
   ]
  },
  {
   "cell_type": "markdown",
   "metadata": {},
   "source": [
    "## Combine ATP synthase tx, tl, membrane integration, atp synthesis models\n",
    "---"
   ]
  },
  {
   "cell_type": "code",
   "execution_count": 91,
   "metadata": {},
   "outputs": [],
   "source": [
    "# atp synthase models\n",
    "#ss1_atpsyn_txtl = createSubsystem('atpsynthase_tx_tl.xml', subsystemName = 'atpsyn_txtl')\n",
    "ss1_atpsyn_txtl = createSubsystem('atpsynthase_simple_txtl.xml', subsystemName = 'atpsyn_txtl')\n",
    "\n",
    "\n",
    "ss2_atpsyn_mi = createSubsystem('atpsynthase_membrane_integration.xml', subsystemName = 'atpsyn_mi')\n",
    "ss3_atpsynthesis = createSubsystem('atp_synthesis_through_atpsynthase.xml', subsystemName = 'atpsynthesis')\n",
    "\n",
    "# proton pump ss\n",
    "# ss4_pp_txtl = createSubsystem('proton_pump_tx_tl.xml', subsystemName = 'pp_txtl')\n",
    "# ss5_pp_mi = createSubsystem('proton_pump_membrane_integration.xml', subsystemName = 'pp_mi')\n",
    "# ss6_protontransport = createSubsystem('proton_transport_through_proton_pump.xml', subsystemName = 'protontransport')\n"
   ]
  },
  {
   "cell_type": "code",
   "execution_count": 225,
   "metadata": {},
   "outputs": [],
   "source": [
    "#atp_subsystem = ss1_atpsyn_txtl + ss2_atpsyn_mi + ss3_atpsynthesis\n",
    "atp_subsystem = ss1_atpsyn_txtl + ss2_atpsyn_mi + ss3_atpsynthesis\n"
   ]
  },
  {
   "cell_type": "code",
   "execution_count": 226,
   "metadata": {},
   "outputs": [],
   "source": [
    "#atp_subsystem.getSpeciesByName('protein_atpsyn_b')"
   ]
  },
  {
   "cell_type": "code",
   "execution_count": 234,
   "metadata": {},
   "outputs": [],
   "source": [
    "# spec_list_10 = ['metabolite_atp', 'proton_outside_H', 'dna_atpsyn', 'protein_RNAP_machinery',\n",
    "#                'protein_Ribo_machinery', 'protein_RNAase_machinery']\n",
    "spec_list_10 = ['dna_atpsyn', 'proton_outside_H', 'metabolite_atp']\n",
    "for i,spec in enumerate(spec_list_10):\n",
    "    atp_subsystem.setSpeciesAmount(spec,10)"
   ]
  },
  {
   "cell_type": "code",
   "execution_count": 235,
   "metadata": {},
   "outputs": [],
   "source": [
    "timepoints = np.linspace(0,10,100)\n",
    "results, _ = atp_subsystem.simulateWithBioscrape(timepoints, sbml_warnings = False)"
   ]
  },
  {
   "cell_type": "code",
   "execution_count": 236,
   "metadata": {},
   "outputs": [
    {
     "data": {
      "text/plain": [
       "Index(['rna_atpsyn_atpsyn_txtlbiocrnpyler_429022',\n",
       "       'dna_atpsyn_atpsyn_txtlbiocrnpyler_429022',\n",
       "       'protein_atpsyn_atpsyn_txtlbiocrnpyler_429022_1_combined',\n",
       "       'proton_outside_H_atpsynthesisbiocrnpyler_651495',\n",
       "       'proton_inside_H_atpsynthesisbiocrnpyler_651495',\n",
       "       'protein_atpsyn_b_atpsyn_mibiocrnpyler_494589_1_combined',\n",
       "       'metabolite_adp_atpsynthesisbiocrnpyler_651495',\n",
       "       'metabolite_atp_atpsynthesisbiocrnpyler_651495',\n",
       "       'metabolite_pi_atpsynthesisbiocrnpyler_651495', 'time'],\n",
       "      dtype='object')"
      ]
     },
     "execution_count": 236,
     "metadata": {},
     "output_type": "execute_result"
    }
   ],
   "source": [
    "results.columns"
   ]
  },
  {
   "cell_type": "code",
   "execution_count": 237,
   "metadata": {},
   "outputs": [],
   "source": [
    "ATP_id = atp_subsystem.getSpeciesByName('metabolite_atp').getId()\n",
    "ADP_id = atp_subsystem.getSpeciesByName('metabolite_adp').getId()\n",
    "\n",
    "outside_H_id = atp_subsystem.getSpeciesByName('proton_outside_H').getId()\n",
    "inside_H_id = atp_subsystem.getSpeciesByName('proton_inside_H').getId()\n",
    "atp_synthase_b_protein_id = atp_subsystem.getSpeciesByName('protein_atpsyn_b').getId()\n",
    "atp_synthase_f_protein_id = atp_subsystem.getSpeciesByName('protein_atpsyn').getId()\n",
    "\n",
    "rna_atpsyn_id = atp_subsystem.getSpeciesByName('rna_atpsyn').getId()\n",
    "\n",
    "dna_atpsyn_id = atp_subsystem.getSpeciesByName('dna_atpsyn').getId()"
   ]
  },
  {
   "cell_type": "code",
   "execution_count": 238,
   "metadata": {},
   "outputs": [
    {
     "data": {
      "text/plain": [
       "Index(['rna_atpsyn_atpsyn_txtlbiocrnpyler_429022',\n",
       "       'dna_atpsyn_atpsyn_txtlbiocrnpyler_429022',\n",
       "       'protein_atpsyn_atpsyn_txtlbiocrnpyler_429022_1_combined',\n",
       "       'proton_outside_H_atpsynthesisbiocrnpyler_651495',\n",
       "       'proton_inside_H_atpsynthesisbiocrnpyler_651495',\n",
       "       'protein_atpsyn_b_atpsyn_mibiocrnpyler_494589_1_combined',\n",
       "       'metabolite_adp_atpsynthesisbiocrnpyler_651495',\n",
       "       'metabolite_atp_atpsynthesisbiocrnpyler_651495',\n",
       "       'metabolite_pi_atpsynthesisbiocrnpyler_651495', 'time'],\n",
       "      dtype='object')"
      ]
     },
     "execution_count": 238,
     "metadata": {},
     "output_type": "execute_result"
    }
   ],
   "source": [
    "results.columns"
   ]
  },
  {
   "cell_type": "code",
   "execution_count": 239,
   "metadata": {},
   "outputs": [
    {
     "data": {
      "text/html": [
       "\n",
       "\n",
       "\n",
       "\n",
       "\n",
       "\n",
       "  <div class=\"bk-root\" id=\"8da69174-3285-4430-b3f6-27f113095de6\" data-root-id=\"15360\"></div>\n"
      ]
     },
     "metadata": {},
     "output_type": "display_data"
    },
    {
     "data": {
      "application/javascript": [
       "(function(root) {\n",
       "  function embed_document(root) {\n",
       "    \n",
       "  var docs_json = {\"e58eefce-4d16-4ed6-ae42-9bdfa2dd7b61\":{\"roots\":{\"references\":[{\"attributes\":{\"below\":[{\"id\":\"15369\",\"type\":\"LinearAxis\"}],\"center\":[{\"id\":\"15373\",\"type\":\"Grid\"},{\"id\":\"15378\",\"type\":\"Grid\"},{\"id\":\"15404\",\"type\":\"Legend\"}],\"left\":[{\"id\":\"15374\",\"type\":\"LinearAxis\"}],\"plot_height\":300,\"plot_width\":450,\"renderers\":[{\"id\":\"15395\",\"type\":\"GlyphRenderer\"},{\"id\":\"15409\",\"type\":\"GlyphRenderer\"},{\"id\":\"15424\",\"type\":\"GlyphRenderer\"},{\"id\":\"15441\",\"type\":\"GlyphRenderer\"}],\"title\":{\"id\":\"15397\",\"type\":\"Title\"},\"toolbar\":{\"id\":\"15385\",\"type\":\"Toolbar\"},\"x_range\":{\"id\":\"15361\",\"type\":\"DataRange1d\"},\"x_scale\":{\"id\":\"15365\",\"type\":\"LinearScale\"},\"y_range\":{\"id\":\"15363\",\"type\":\"DataRange1d\"},\"y_scale\":{\"id\":\"15367\",\"type\":\"LinearScale\"}},\"id\":\"15360\",\"subtype\":\"Figure\",\"type\":\"Plot\"},{\"attributes\":{\"callback\":null},\"id\":\"15361\",\"type\":\"DataRange1d\"},{\"attributes\":{\"active_drag\":\"auto\",\"active_inspect\":\"auto\",\"active_multi\":null,\"active_scroll\":\"auto\",\"active_tap\":\"auto\",\"tools\":[{\"id\":\"15379\",\"type\":\"PanTool\"},{\"id\":\"15380\",\"type\":\"WheelZoomTool\"},{\"id\":\"15381\",\"type\":\"BoxZoomTool\"},{\"id\":\"15382\",\"type\":\"SaveTool\"},{\"id\":\"15383\",\"type\":\"ResetTool\"},{\"id\":\"15384\",\"type\":\"HelpTool\"}]},\"id\":\"15385\",\"type\":\"Toolbar\"},{\"attributes\":{\"line_color\":\"#1f77b3\",\"line_width\":2,\"x\":{\"field\":\"x\"},\"y\":{\"field\":\"y\"}},\"id\":\"15393\",\"type\":\"Line\"},{\"attributes\":{},\"id\":\"15418\",\"type\":\"UnionRenderers\"},{\"attributes\":{},\"id\":\"15370\",\"type\":\"BasicTicker\"},{\"attributes\":{\"line_alpha\":0.1,\"line_color\":\"#1f77b4\",\"line_width\":2,\"x\":{\"field\":\"x\"},\"y\":{\"field\":\"y\"}},\"id\":\"15440\",\"type\":\"Line\"},{\"attributes\":{\"line_color\":\"#ff7e0e\",\"line_width\":2,\"x\":{\"field\":\"x\"},\"y\":{\"field\":\"y\"}},\"id\":\"15407\",\"type\":\"Line\"},{\"attributes\":{\"line_color\":\"#2ba02b\",\"line_width\":2,\"x\":{\"field\":\"x\"},\"y\":{\"field\":\"y\"}},\"id\":\"15422\",\"type\":\"Line\"},{\"attributes\":{\"callback\":null,\"data\":{\"x\":{\"__ndarray__\":\"AAAAAAAAAAAxb2dIzNu5PzFvZ0jM28k/ZZNNNtlk0z8xb2dIzNvZP3+lQK1fKeA/ZZNNNtlk4z9LgVq/UqDmPzFvZ0jM2+k/F1100UUX7T9/pUCtXynwP3Icx3Ecx/E/ZZNNNtlk8z9YCtT6lQL1P0uBWr9SoPY/Pvjggw8++D8xb2dIzNv5PyTm7QyJefs/F1100UUX/T8K1PqVArX+P3+lQK1fKQBA+OCDDz74AEByHMdxHMcBQOtXCtT6lQJAZZNNNtlkA0DezpCYtzMEQFgK1PqVAgVA0UUXXXTRBUBLgVq/UqAGQMS8nSExbwdAPvjggw8+CEC3MyTm7QwJQDFvZ0jM2wlAq6qqqqqqCkAk5u0MiXkLQJ4hMW9nSAxAF1100UUXDUCRmLczJOYNQArU+pUCtQ5AhA8++OCDD0B/pUCtXykQQDtDYt7OkBBA+OCDDz74EEC1fqVArV8RQHIcx3EcxxFALrrooosuEkDrVwrU+pUSQKj1KwVq/RJAZZNNNtlkE0AiMW9nSMwTQN7OkJi3MxRAm2yyySabFEBYCtT6lQIVQBWo9SsFahVA0UUXXXTRFUCO4ziO4zgWQEuBWr9SoBZACB988MEHF0DEvJ0hMW8XQIFav1Kg1hdAPvjggw8+GED7lQK1fqUYQLczJObtDBlAdNFFF110GUAxb2dIzNsZQO4MiXk7QxpAq6qqqqqqGkBnSMzbGRIbQCTm7QyJeRtA4YMPPvjgG0CeITFvZ0gcQFq/UqDWrxxAF1100UUXHUDU+pUCtX4dQJGYtzMk5h1ATTbZZJNNHkAK1PqVArUeQMdxHMdxHB9AhA8++OCDH0BArV8pUOsfQH+lQK1fKSBAXXTRRRddIEA7Q2LezpAgQBoS83aGxCBA+OCDDz74IEDXrxSo9SshQLV+pUCtXyFAk0022WSTIUByHMdxHMchQFDrVwrU+iFALrrooosuIkANiXk7Q2IiQOtXCtT6lSJAyiabbLLJIkCo9SsFav0iQIbEvJ0hMSNAZZNNNtlkI0BDYt7OkJgjQCIxb2dIzCNAAAAAAAAAJEA=\",\"dtype\":\"float64\",\"shape\":[100]},\"y\":{\"__ndarray__\":\"AAAAAAAAAAD4mQSyIxhaP1WCqUNdNIg/aXvm8nnzoj8O863zvtm0P9ZKSEP66MI/YM6E2fxbzj+ckn3gn2fWP5U2L2Y8Gd8/oSKEB4yY5D8JCyoVQ0vqP/Alim8ES/A/qxZi/0608z+geDpk+Fj3PyohiEdVMPs/jPnH2c4x/z8DgS9xhqoBQMDvMosKyQNAib0pz7DwBUAGRmk0+B0IQO1Np1SmTQpAbP9s1Ml8DEDYv8PwuqgOQPGNM02NZxBAucN6Oeh2EUDcUQz7g4ESQE17LoWWhhNAT8C7EnSFFEAn5G4YjX0VQGNjlCVsbhZAZkNKwLNXF0DNhSFHHDkYQGun499xEhlAWHtWeZLjGUDYO5vja6waQPShzQP6bBtAp1SKIkUlHECEPhBYYNUcQOYD0BVofR1AGgGXzYAdHkCUwka11bUeQP/zi6aXRh9A+P3JGfzPH0AnjrQcHikgQFM15wfKZiBAiUJm5CChIEDvvn6FQtggQJpyRzBPDCFAvxyrXGc9IUCET3l7q2shQJbYwsU7lyFAPFa1ETjAIUC44+uwv+YhQCTfdlDxCiJAAySf4OosIkBzVYGAyUwiQHWn822paiJAcGbr+KWGIkAgwTN62aAiQP5j+ExduSJAjFT9yknQIkA7WZ1KtuUiQBVVBB+5+SJACWz+mWcMI0ANkvkO1h0jQGc7VNcXLiNAKVSsVz89I0CDJ9kFXksjQA/xn2+EWCNA9SblQcJkI0CJ+kdQJnAjQM2T/Jy+eiNAQNDcYJiEI0AytJETwI0jQPxIxHNBliNA2LNVjyeeI0DDW3zLfKUjQHyjy+xKrCNAquVPH5uyI0A/z+D8dbgjQFn8+5bjvSNAod15fOvCI0BZIJnAlMcjQK3gGQLmyyNAnDm2ceXPI0CnvmrYmNMjQAEIc50F1yNAZ3D6yzDaI0B9bsoYH90jQA/1MefU3yNASOggTlbiI0DaWwMdp+QjQEPPD+DK5iNAdzWX5MToI0Da6Qg9mOojQHwhu8RH7CNA9KV8I9btI0Ck1PfQRe8jQFh94ReZ8CNAvyb4GNLxI0A=\",\"dtype\":\"float64\",\"shape\":[100]}},\"selected\":{\"id\":\"15949\",\"type\":\"Selection\"},\"selection_policy\":{\"id\":\"15948\",\"type\":\"UnionRenderers\"}},\"id\":\"15438\",\"type\":\"ColumnDataSource\"},{\"attributes\":{},\"id\":\"15365\",\"type\":\"LinearScale\"},{\"attributes\":{},\"id\":\"15436\",\"type\":\"Selection\"},{\"attributes\":{\"data_source\":{\"id\":\"15392\",\"type\":\"ColumnDataSource\"},\"glyph\":{\"id\":\"15393\",\"type\":\"Line\"},\"hover_glyph\":null,\"muted_glyph\":null,\"nonselection_glyph\":{\"id\":\"15394\",\"type\":\"Line\"},\"selection_glyph\":null,\"view\":{\"id\":\"15396\",\"type\":\"CDSView\"}},\"id\":\"15395\",\"type\":\"GlyphRenderer\"},{\"attributes\":{\"click_policy\":\"hide\",\"items\":[{\"id\":\"15405\",\"type\":\"LegendItem\"},{\"id\":\"15420\",\"type\":\"LegendItem\"},{\"id\":\"15437\",\"type\":\"LegendItem\"},{\"id\":\"15456\",\"type\":\"LegendItem\"}],\"location\":\"center_right\"},\"id\":\"15404\",\"type\":\"Legend\"},{\"attributes\":{\"callback\":null,\"data\":{\"x\":{\"__ndarray__\":\"AAAAAAAAAAAxb2dIzNu5PzFvZ0jM28k/ZZNNNtlk0z8xb2dIzNvZP3+lQK1fKeA/ZZNNNtlk4z9LgVq/UqDmPzFvZ0jM2+k/F1100UUX7T9/pUCtXynwP3Icx3Ecx/E/ZZNNNtlk8z9YCtT6lQL1P0uBWr9SoPY/Pvjggw8++D8xb2dIzNv5PyTm7QyJefs/F1100UUX/T8K1PqVArX+P3+lQK1fKQBA+OCDDz74AEByHMdxHMcBQOtXCtT6lQJAZZNNNtlkA0DezpCYtzMEQFgK1PqVAgVA0UUXXXTRBUBLgVq/UqAGQMS8nSExbwdAPvjggw8+CEC3MyTm7QwJQDFvZ0jM2wlAq6qqqqqqCkAk5u0MiXkLQJ4hMW9nSAxAF1100UUXDUCRmLczJOYNQArU+pUCtQ5AhA8++OCDD0B/pUCtXykQQDtDYt7OkBBA+OCDDz74EEC1fqVArV8RQHIcx3EcxxFALrrooosuEkDrVwrU+pUSQKj1KwVq/RJAZZNNNtlkE0AiMW9nSMwTQN7OkJi3MxRAm2yyySabFEBYCtT6lQIVQBWo9SsFahVA0UUXXXTRFUCO4ziO4zgWQEuBWr9SoBZACB988MEHF0DEvJ0hMW8XQIFav1Kg1hdAPvjggw8+GED7lQK1fqUYQLczJObtDBlAdNFFF110GUAxb2dIzNsZQO4MiXk7QxpAq6qqqqqqGkBnSMzbGRIbQCTm7QyJeRtA4YMPPvjgG0CeITFvZ0gcQFq/UqDWrxxAF1100UUXHUDU+pUCtX4dQJGYtzMk5h1ATTbZZJNNHkAK1PqVArUeQMdxHMdxHB9AhA8++OCDH0BArV8pUOsfQH+lQK1fKSBAXXTRRRddIEA7Q2LezpAgQBoS83aGxCBA+OCDDz74IEDXrxSo9SshQLV+pUCtXyFAk0022WSTIUByHMdxHMchQFDrVwrU+iFALrrooosuIkANiXk7Q2IiQOtXCtT6lSJAyiabbLLJIkCo9SsFav0iQIbEvJ0hMSNAZZNNNtlkI0BDYt7OkJgjQCIxb2dIzCNAAAAAAAAAJEA=\",\"dtype\":\"float64\",\"shape\":[100]},\"y\":{\"__ndarray__\":\"AAAAAAAAAABvqpMG5ysWQDXZiqrcBiBArg+UEaY6IkCr2r2C7zUjQDjEBvXvpSNAFHEkodvXI0CsGf2wG+4jQLWHj38G+CNAJ7GmE3L8I0BCc4dvav4jQEx/HTxL/yNAFRpAbq//I0Db7dwW3P8jQMEYgv7v/yNAu+Sw3fj/I0AFlPnR/P8jQMsbKpX+/yNAggtKXv//I0AuXe23//8jQHu14N///yNAOvau8f//I0AnVp75//8jQN/gKv3//yNAi2a7/v//I0CmsGr///8jQC7Pvv///yNAtCDe////I0DkufL///8jQCL2+f///yNA5PD8////I0BViv////8jQFnx/v///yNANDwBAAAAJECUzv////8jQBSY+////yNATBL/////I0CIHvz///8jQIZu/////yNAvLACAAAAJEDKzgEAAAAkQPskAAAAACRAA3AAAAAAJEAr9P////8jQBT+/////yNAvwQAAAAAJEDyBwAAAAAkQKUDAAAAACRAsgwAAAAAJECi+f////8jQGIsAAAAACRA6JUAAAAAJEAuKQAAAAAkQLqP/////yNAY2MAAAAAJEAz1gEAAAAkQDGv/////yNAZM78////I0BkGQEAAAAkQNWPCgAAACRApWkKAAAAJEAtGfT///8jQOFp3////yNAQoj8////I0A/tD0AAAAkQLD9QgAAACRA1B/a////I0CyffH///8jQOuw+f///yNAfajx////I0C9WwMAAAAkQCA8AgAAACRAEfb/////I0DVvwAAAAAkQC06AAAAACRAHBcAAAAAJEDfEAAAAAAkQBcBAAAAACRA3ff/////I0CKAAEAAAAkQFIvAwAAACRAzvYEAAAAJEAAYwMAAAAkQHQ6/////yNAlG/9////I0B/ZgIAAAAkQMR3BwAAACRA0nkDAAAAJEBw1u3///8jQFq/1////yNAyN/d////I0CwPRMAAAAkQK0cYAAAACRAmSlRAAAAJEDbeyMAAAAkQNDlDQAAACRAqy0IAAAAJEDC0wMAAAAkQONtAQAAACRAtt4AAAAAJEA=\",\"dtype\":\"float64\",\"shape\":[100]}},\"selected\":{\"id\":\"15455\",\"type\":\"Selection\"},\"selection_policy\":{\"id\":\"15454\",\"type\":\"UnionRenderers\"}},\"id\":\"15421\",\"type\":\"ColumnDataSource\"},{\"attributes\":{},\"id\":\"15454\",\"type\":\"UnionRenderers\"},{\"attributes\":{\"formatter\":{\"id\":\"15400\",\"type\":\"BasicTickFormatter\"},\"ticker\":{\"id\":\"15370\",\"type\":\"BasicTicker\"}},\"id\":\"15369\",\"type\":\"LinearAxis\"},{\"attributes\":{},\"id\":\"15949\",\"type\":\"Selection\"},{\"attributes\":{\"callback\":null},\"id\":\"15363\",\"type\":\"DataRange1d\"},{\"attributes\":{\"bottom_units\":\"screen\",\"fill_alpha\":{\"value\":0.5},\"fill_color\":{\"value\":\"lightgrey\"},\"left_units\":\"screen\",\"level\":\"overlay\",\"line_alpha\":{\"value\":1.0},\"line_color\":{\"value\":\"black\"},\"line_dash\":[4,4],\"line_width\":{\"value\":2},\"render_mode\":\"css\",\"right_units\":\"screen\",\"top_units\":\"screen\"},\"id\":\"15403\",\"type\":\"BoxAnnotation\"},{\"attributes\":{},\"id\":\"15367\",\"type\":\"LinearScale\"},{\"attributes\":{},\"id\":\"15382\",\"type\":\"SaveTool\"},{\"attributes\":{\"line_alpha\":0.1,\"line_color\":\"#1f77b4\",\"line_width\":2,\"x\":{\"field\":\"x\"},\"y\":{\"field\":\"y\"}},\"id\":\"15394\",\"type\":\"Line\"},{\"attributes\":{\"data_source\":{\"id\":\"15438\",\"type\":\"ColumnDataSource\"},\"glyph\":{\"id\":\"15439\",\"type\":\"Line\"},\"hover_glyph\":null,\"muted_glyph\":null,\"nonselection_glyph\":{\"id\":\"15440\",\"type\":\"Line\"},\"selection_glyph\":null,\"view\":{\"id\":\"15442\",\"type\":\"CDSView\"}},\"id\":\"15441\",\"type\":\"GlyphRenderer\"},{\"attributes\":{\"source\":{\"id\":\"15438\",\"type\":\"ColumnDataSource\"}},\"id\":\"15442\",\"type\":\"CDSView\"},{\"attributes\":{\"callback\":null,\"data\":{\"x\":{\"__ndarray__\":\"AAAAAAAAAAAxb2dIzNu5PzFvZ0jM28k/ZZNNNtlk0z8xb2dIzNvZP3+lQK1fKeA/ZZNNNtlk4z9LgVq/UqDmPzFvZ0jM2+k/F1100UUX7T9/pUCtXynwP3Icx3Ecx/E/ZZNNNtlk8z9YCtT6lQL1P0uBWr9SoPY/Pvjggw8++D8xb2dIzNv5PyTm7QyJefs/F1100UUX/T8K1PqVArX+P3+lQK1fKQBA+OCDDz74AEByHMdxHMcBQOtXCtT6lQJAZZNNNtlkA0DezpCYtzMEQFgK1PqVAgVA0UUXXXTRBUBLgVq/UqAGQMS8nSExbwdAPvjggw8+CEC3MyTm7QwJQDFvZ0jM2wlAq6qqqqqqCkAk5u0MiXkLQJ4hMW9nSAxAF1100UUXDUCRmLczJOYNQArU+pUCtQ5AhA8++OCDD0B/pUCtXykQQDtDYt7OkBBA+OCDDz74EEC1fqVArV8RQHIcx3EcxxFALrrooosuEkDrVwrU+pUSQKj1KwVq/RJAZZNNNtlkE0AiMW9nSMwTQN7OkJi3MxRAm2yyySabFEBYCtT6lQIVQBWo9SsFahVA0UUXXXTRFUCO4ziO4zgWQEuBWr9SoBZACB988MEHF0DEvJ0hMW8XQIFav1Kg1hdAPvjggw8+GED7lQK1fqUYQLczJObtDBlAdNFFF110GUAxb2dIzNsZQO4MiXk7QxpAq6qqqqqqGkBnSMzbGRIbQCTm7QyJeRtA4YMPPvjgG0CeITFvZ0gcQFq/UqDWrxxAF1100UUXHUDU+pUCtX4dQJGYtzMk5h1ATTbZZJNNHkAK1PqVArUeQMdxHMdxHB9AhA8++OCDH0BArV8pUOsfQH+lQK1fKSBAXXTRRRddIEA7Q2LezpAgQBoS83aGxCBA+OCDDz74IEDXrxSo9SshQLV+pUCtXyFAk0022WSTIUByHMdxHMchQFDrVwrU+iFALrrooosuIkANiXk7Q2IiQOtXCtT6lSJAyiabbLLJIkCo9SsFav0iQIbEvJ0hMSNAZZNNNtlkI0BDYt7OkJgjQCIxb2dIzCNAAAAAAAAAJEA=\",\"dtype\":\"float64\",\"shape\":[100]},\"y\":{\"__ndarray__\":\"AAAAAAAAJEAAAAAAAAAkQAAAAAAAACRAAAAAAAAAJEAAAAAAAAAkQAAAAAAAACRAAAAAAAAAJEAAAAAAAAAkQAAAAAAAACRAAAAAAAAAJEAAAAAAAAAkQAAAAAAAACRAAAAAAAAAJEAAAAAAAAAkQAAAAAAAACRAAAAAAAAAJEAAAAAAAAAkQAAAAAAAACRAAAAAAAAAJEAAAAAAAAAkQAAAAAAAACRAAAAAAAAAJEAAAAAAAAAkQAAAAAAAACRAAAAAAAAAJEAAAAAAAAAkQAAAAAAAACRAAAAAAAAAJEAAAAAAAAAkQAAAAAAAACRAAAAAAAAAJEAAAAAAAAAkQAAAAAAAACRAAAAAAAAAJEAAAAAAAAAkQAAAAAAAACRAAAAAAAAAJEAAAAAAAAAkQAAAAAAAACRAAAAAAAAAJEAAAAAAAAAkQAAAAAAAACRAAAAAAAAAJEAAAAAAAAAkQAAAAAAAACRAAAAAAAAAJEAAAAAAAAAkQAAAAAAAACRAAAAAAAAAJEAAAAAAAAAkQAAAAAAAACRAAAAAAAAAJEAAAAAAAAAkQAAAAAAAACRAAAAAAAAAJEAAAAAAAAAkQAAAAAAAACRAAAAAAAAAJEAAAAAAAAAkQAAAAAAAACRAAAAAAAAAJEAAAAAAAAAkQAAAAAAAACRAAAAAAAAAJEAAAAAAAAAkQAAAAAAAACRAAAAAAAAAJEAAAAAAAAAkQAAAAAAAACRAAAAAAAAAJEAAAAAAAAAkQAAAAAAAACRAAAAAAAAAJEAAAAAAAAAkQAAAAAAAACRAAAAAAAAAJEAAAAAAAAAkQAAAAAAAACRAAAAAAAAAJEAAAAAAAAAkQAAAAAAAACRAAAAAAAAAJEAAAAAAAAAkQAAAAAAAACRAAAAAAAAAJEAAAAAAAAAkQAAAAAAAACRAAAAAAAAAJEAAAAAAAAAkQAAAAAAAACRAAAAAAAAAJEAAAAAAAAAkQAAAAAAAACRAAAAAAAAAJEAAAAAAAAAkQAAAAAAAACRAAAAAAAAAJEAAAAAAAAAkQAAAAAAAACRAAAAAAAAAJEA=\",\"dtype\":\"float64\",\"shape\":[100]}},\"selected\":{\"id\":\"15419\",\"type\":\"Selection\"},\"selection_policy\":{\"id\":\"15418\",\"type\":\"UnionRenderers\"}},\"id\":\"15392\",\"type\":\"ColumnDataSource\"},{\"attributes\":{},\"id\":\"15948\",\"type\":\"UnionRenderers\"},{\"attributes\":{\"data_source\":{\"id\":\"15421\",\"type\":\"ColumnDataSource\"},\"glyph\":{\"id\":\"15422\",\"type\":\"Line\"},\"hover_glyph\":null,\"muted_glyph\":null,\"nonselection_glyph\":{\"id\":\"15423\",\"type\":\"Line\"},\"selection_glyph\":null,\"view\":{\"id\":\"15425\",\"type\":\"CDSView\"}},\"id\":\"15424\",\"type\":\"GlyphRenderer\"},{\"attributes\":{\"label\":{\"value\":\"outside_H\"},\"renderers\":[{\"id\":\"15409\",\"type\":\"GlyphRenderer\"}]},\"id\":\"15420\",\"type\":\"LegendItem\"},{\"attributes\":{\"label\":{\"value\":\"atp\"},\"renderers\":[{\"id\":\"15395\",\"type\":\"GlyphRenderer\"}]},\"id\":\"15405\",\"type\":\"LegendItem\"},{\"attributes\":{\"label\":{\"value\":\"atp synthase bound\"},\"renderers\":[{\"id\":\"15441\",\"type\":\"GlyphRenderer\"}]},\"id\":\"15456\",\"type\":\"LegendItem\"},{\"attributes\":{\"line_alpha\":0.1,\"line_color\":\"#1f77b4\",\"line_width\":2,\"x\":{\"field\":\"x\"},\"y\":{\"field\":\"y\"}},\"id\":\"15423\",\"type\":\"Line\"},{\"attributes\":{\"line_color\":\"#9367bc\",\"line_width\":2,\"x\":{\"field\":\"x\"},\"y\":{\"field\":\"y\"}},\"id\":\"15439\",\"type\":\"Line\"},{\"attributes\":{\"dimension\":1,\"ticker\":{\"id\":\"15375\",\"type\":\"BasicTicker\"}},\"id\":\"15378\",\"type\":\"Grid\"},{\"attributes\":{},\"id\":\"15384\",\"type\":\"HelpTool\"},{\"attributes\":{\"line_alpha\":0.1,\"line_color\":\"#1f77b4\",\"line_width\":2,\"x\":{\"field\":\"x\"},\"y\":{\"field\":\"y\"}},\"id\":\"15408\",\"type\":\"Line\"},{\"attributes\":{},\"id\":\"15435\",\"type\":\"UnionRenderers\"},{\"attributes\":{\"text\":\"\"},\"id\":\"15397\",\"type\":\"Title\"},{\"attributes\":{},\"id\":\"15380\",\"type\":\"WheelZoomTool\"},{\"attributes\":{\"source\":{\"id\":\"15406\",\"type\":\"ColumnDataSource\"}},\"id\":\"15410\",\"type\":\"CDSView\"},{\"attributes\":{\"source\":{\"id\":\"15421\",\"type\":\"ColumnDataSource\"}},\"id\":\"15425\",\"type\":\"CDSView\"},{\"attributes\":{},\"id\":\"15383\",\"type\":\"ResetTool\"},{\"attributes\":{\"label\":{\"value\":\"inside_H\"},\"renderers\":[{\"id\":\"15424\",\"type\":\"GlyphRenderer\"}]},\"id\":\"15437\",\"type\":\"LegendItem\"},{\"attributes\":{},\"id\":\"15379\",\"type\":\"PanTool\"},{\"attributes\":{},\"id\":\"15400\",\"type\":\"BasicTickFormatter\"},{\"attributes\":{\"formatter\":{\"id\":\"15402\",\"type\":\"BasicTickFormatter\"},\"ticker\":{\"id\":\"15375\",\"type\":\"BasicTicker\"}},\"id\":\"15374\",\"type\":\"LinearAxis\"},{\"attributes\":{\"data_source\":{\"id\":\"15406\",\"type\":\"ColumnDataSource\"},\"glyph\":{\"id\":\"15407\",\"type\":\"Line\"},\"hover_glyph\":null,\"muted_glyph\":null,\"nonselection_glyph\":{\"id\":\"15408\",\"type\":\"Line\"},\"selection_glyph\":null,\"view\":{\"id\":\"15410\",\"type\":\"CDSView\"}},\"id\":\"15409\",\"type\":\"GlyphRenderer\"},{\"attributes\":{},\"id\":\"15402\",\"type\":\"BasicTickFormatter\"},{\"attributes\":{\"overlay\":{\"id\":\"15403\",\"type\":\"BoxAnnotation\"}},\"id\":\"15381\",\"type\":\"BoxZoomTool\"},{\"attributes\":{\"source\":{\"id\":\"15392\",\"type\":\"ColumnDataSource\"}},\"id\":\"15396\",\"type\":\"CDSView\"},{\"attributes\":{},\"id\":\"15455\",\"type\":\"Selection\"},{\"attributes\":{\"ticker\":{\"id\":\"15370\",\"type\":\"BasicTicker\"}},\"id\":\"15373\",\"type\":\"Grid\"},{\"attributes\":{},\"id\":\"15419\",\"type\":\"Selection\"},{\"attributes\":{},\"id\":\"15375\",\"type\":\"BasicTicker\"},{\"attributes\":{\"callback\":null,\"data\":{\"x\":{\"__ndarray__\":\"AAAAAAAAAAAxb2dIzNu5PzFvZ0jM28k/ZZNNNtlk0z8xb2dIzNvZP3+lQK1fKeA/ZZNNNtlk4z9LgVq/UqDmPzFvZ0jM2+k/F1100UUX7T9/pUCtXynwP3Icx3Ecx/E/ZZNNNtlk8z9YCtT6lQL1P0uBWr9SoPY/Pvjggw8++D8xb2dIzNv5PyTm7QyJefs/F1100UUX/T8K1PqVArX+P3+lQK1fKQBA+OCDDz74AEByHMdxHMcBQOtXCtT6lQJAZZNNNtlkA0DezpCYtzMEQFgK1PqVAgVA0UUXXXTRBUBLgVq/UqAGQMS8nSExbwdAPvjggw8+CEC3MyTm7QwJQDFvZ0jM2wlAq6qqqqqqCkAk5u0MiXkLQJ4hMW9nSAxAF1100UUXDUCRmLczJOYNQArU+pUCtQ5AhA8++OCDD0B/pUCtXykQQDtDYt7OkBBA+OCDDz74EEC1fqVArV8RQHIcx3EcxxFALrrooosuEkDrVwrU+pUSQKj1KwVq/RJAZZNNNtlkE0AiMW9nSMwTQN7OkJi3MxRAm2yyySabFEBYCtT6lQIVQBWo9SsFahVA0UUXXXTRFUCO4ziO4zgWQEuBWr9SoBZACB988MEHF0DEvJ0hMW8XQIFav1Kg1hdAPvjggw8+GED7lQK1fqUYQLczJObtDBlAdNFFF110GUAxb2dIzNsZQO4MiXk7QxpAq6qqqqqqGkBnSMzbGRIbQCTm7QyJeRtA4YMPPvjgG0CeITFvZ0gcQFq/UqDWrxxAF1100UUXHUDU+pUCtX4dQJGYtzMk5h1ATTbZZJNNHkAK1PqVArUeQMdxHMdxHB9AhA8++OCDH0BArV8pUOsfQH+lQK1fKSBAXXTRRRddIEA7Q2LezpAgQBoS83aGxCBA+OCDDz74IEDXrxSo9SshQLV+pUCtXyFAk0022WSTIUByHMdxHMchQFDrVwrU+iFALrrooosuIkANiXk7Q2IiQOtXCtT6lSJAyiabbLLJIkCo9SsFav0iQIbEvJ0hMSNAZZNNNtlkI0BDYt7OkJgjQCIxb2dIzCNAAAAAAAAAJEA=\",\"dtype\":\"float64\",\"shape\":[100]},\"y\":{\"__ndarray__\":\"AAAAAAAAJECTVWz5GNQRQFM2qasayf8/HAW/5p5V7D+KqkSoD0LZP8LxTr4ChMY/J3bHbS8StD/GUuYCT+ShP8Uq4cEB5o8/icp2ymJvfD+H5cuIB1lpP3anFlB8mFY/DdF6+W8kRD+pgBKJkfQxPxcKPud9ASA/i60JbTyJDD8pWb1fM3D5Ps8VKkNereY+RLZ3j7421D4kftizqATCPkL1lUGlD7A+OqqoiBOinD7H1Llhp4aJPsKQWgD5qHY+gkeYSJdJZD4lzTMx66lSPjCxlCE0TEA+LXKFbqXvMD72VLgXN4waPlY5UKZxJwg+zwi5W9x4+D2UI+JWhWrNPQqtAKFf6uA9PIy+lkbD470IbXdh97W4PZwQnpivnwE+yrlSupK23T3GWS9ywAv/PUDe89pKL9I9EC78h9+F9b17JMKXmOzsvTq7i1BpfbK9cHmZiN4AzL2sCwL8u6eXPfykI404uW495sVNYlsBg730T3z/Z8uPvaBBvWSyNX29/32WB/9lmb04yBPo6GyJPdiqwqNsMra9RRfhLjy90r366JVgFZi0vTDepOLFEMw98BW/C3/ZyL14euAIXmPtvTSN2esGM8Q9uDb9K8eM+T3wvu1IdJbhvUbIsZOvHxW+gkH1FE7TFL5etDInoc0XPqbRvkoOSzA+uMhh7dq9+z21RKq0INo+vpOWzKJsv0C+edEQyBTwMj6sK1YKlwQdPjZd/rxDPAk+5eNSO/yuHD534hfxF976vW8Irsgo4fG94Kj4iubTkz1FY+xPXvvXvZzG2ArvGb29qX9Q2/8ip73ANOZ5TeWgvTDxxHn63mG9rmsvECo4kD0kK7eODwngvYI4XB3Levm9swWQ8VXbA75hGW/oNhj7vWIY9iaqsNg9HrEjliuD9D0O8yI/LzTzvR+IFwQt3w2+rn79asvO+73xo9TViCkiPlXG/AdQIDQ+dQ5ZyBgQMT643vfJtj0jvjWotP4sB0i+KXeZumdKRL7O5Qla8L0xvoQqS1+tyxu+C0+rDGJbEL66jgVjPp7+vQRC62iP3ua9ZjrPR1/X270=\",\"dtype\":\"float64\",\"shape\":[100]}},\"selected\":{\"id\":\"15436\",\"type\":\"Selection\"},\"selection_policy\":{\"id\":\"15435\",\"type\":\"UnionRenderers\"}},\"id\":\"15406\",\"type\":\"ColumnDataSource\"}],\"root_ids\":[\"15360\"]},\"title\":\"Bokeh Application\",\"version\":\"1.4.0\"}};\n",
       "  var render_items = [{\"docid\":\"e58eefce-4d16-4ed6-ae42-9bdfa2dd7b61\",\"roots\":{\"15360\":\"8da69174-3285-4430-b3f6-27f113095de6\"}}];\n",
       "  root.Bokeh.embed.embed_items_notebook(docs_json, render_items);\n",
       "\n",
       "  }\n",
       "  if (root.Bokeh !== undefined) {\n",
       "    embed_document(root);\n",
       "  } else {\n",
       "    var attempts = 0;\n",
       "    var timer = setInterval(function(root) {\n",
       "      if (root.Bokeh !== undefined) {\n",
       "        clearInterval(timer);\n",
       "        embed_document(root);\n",
       "      } else {\n",
       "        attempts++;\n",
       "        if (attempts > 100) {\n",
       "          clearInterval(timer);\n",
       "          console.log(\"Bokeh: ERROR: Unable to run BokehJS code because BokehJS library is missing\");\n",
       "        }\n",
       "      }\n",
       "    }, 10, root)\n",
       "  }\n",
       "})(window);"
      ],
      "application/vnd.bokehjs_exec.v0+json": ""
     },
     "metadata": {
      "application/vnd.bokehjs_exec.v0+json": {
       "id": "15360"
      }
     },
     "output_type": "display_data"
    }
   ],
   "source": [
    "p = bokeh.plotting.figure(width = 450, height = 300)\n",
    "plot_list = [ATP_id, outside_H_id, inside_H_id, atp_synthase_b_protein_id]\n",
    "plot_str = ['atp', 'outside_H', 'inside_H', 'atp synthase bound']\n",
    "# plot_list = [atp_synthase_b_protein_id,rna_atpsyn_id, atp_synthase_f_protein_id,dna_atpsyn_id,  ]\n",
    "# plot_str = [ 'bound atp synthase', 'atpsyn rna','free atp synthase', 'atpsyn dna', ]\n",
    "for i,item in enumerate(plot_list):\n",
    "    p.line(timepoints, results[item], line_width = 2, legend_label = plot_str[i], color = palette[i])\n",
    "    \n",
    "p.legend.location = 'center_right'\n",
    "p.legend.click_policy = 'hide'\n",
    "bokeh.io.show(p)\n"
   ]
  },
  {
   "cell_type": "markdown",
   "metadata": {},
   "source": [
    "**don't know problem with dna assembly process** ADD RNA POLYMERASES and mrna degradation (take rate params from default_parameters.txt)"
   ]
  },
  {
   "cell_type": "markdown",
   "metadata": {},
   "source": [
    "## Combine ATP synthase tx, tl, membrane integration, atp synthesis models & ATP USE \n",
    "---"
   ]
  },
  {
   "cell_type": "code",
   "execution_count": 92,
   "metadata": {},
   "outputs": [],
   "source": [
    "ss4_atp_use = createSubsystem('atp_use.xml', subsystemName = 'atp_use')"
   ]
  },
  {
   "cell_type": "code",
   "execution_count": 93,
   "metadata": {},
   "outputs": [],
   "source": [
    "atp_subsystem_w_use = ss1_atpsyn_txtl + ss2_atpsyn_mi + ss3_atpsynthesis + ss4_atp_use"
   ]
  },
  {
   "cell_type": "code",
   "execution_count": 94,
   "metadata": {},
   "outputs": [],
   "source": [
    "# SIMULATE WITH ATP SYNTHASE\n",
    "# Initial conditions\n",
    "spec_list_10 = ['dna_atpsyn', 'proton_outside_H', 'metabolite_atp']\n",
    "for i,spec in enumerate(spec_list_10):\n",
    "    atp_subsystem_w_use.setSpeciesAmount(spec,10)\n",
    "\n",
    "\n",
    "# timepoints and get results\n",
    "timepoints = np.linspace(0,10,100)\n",
    "results, _ = atp_subsystem_w_use.simulateWithBioscrape(timepoints, sbml_warnings = False)\n",
    "\n",
    "# Get species IDs\n",
    "ATP_id = atp_subsystem_w_use.getSpeciesByName('metabolite_atp').getId()\n",
    "ADP_id = atp_subsystem_w_use.getSpeciesByName('metabolite_adp').getId()\n",
    "\n",
    "outside_H_id = atp_subsystem_w_use.getSpeciesByName('proton_outside_H').getId()\n",
    "inside_H_id = atp_subsystem_w_use.getSpeciesByName('proton_inside_H').getId()\n",
    "atp_synthase_b_protein_id = atp_subsystem_w_use.getSpeciesByName('protein_atpsyn_b').getId()\n",
    "atp_synthase_f_protein_id = atp_subsystem_w_use.getSpeciesByName('protein_atpsyn').getId()"
   ]
  },
  {
   "cell_type": "code",
   "execution_count": 95,
   "metadata": {},
   "outputs": [],
   "source": [
    "# SIMUALTE WITHOUT ATP SYNTHASE\n",
    "#ss4_atp_use.setSpeciesAmount('proton_outside_H',10)\n",
    "ss4_atp_use.setSpeciesAmount('metabolite_atp',10)\n",
    "\n",
    "timepoints = np.linspace(0,10,100)\n",
    "results2, _ = ss4_atp_use.simulateWithBioscrape(timepoints, sbml_warnings = False)\n",
    "\n",
    "ATP_id2 = ss4_atp_use.getSpeciesByName('metabolite_atp').getId()"
   ]
  },
  {
   "cell_type": "code",
   "execution_count": 97,
   "metadata": {},
   "outputs": [
    {
     "data": {
      "text/html": [
       "\n",
       "\n",
       "\n",
       "\n",
       "\n",
       "\n",
       "  <div class=\"bk-root\" id=\"b4e9a4f4-2c23-4955-a79f-238c7230e5d3\" data-root-id=\"18748\"></div>\n"
      ]
     },
     "metadata": {},
     "output_type": "display_data"
    },
    {
     "data": {
      "application/javascript": [
       "(function(root) {\n",
       "  function embed_document(root) {\n",
       "    \n",
       "  var docs_json = {\"fb950066-0590-450e-893a-cc644401a952\":{\"roots\":{\"references\":[{\"attributes\":{\"children\":[{\"id\":\"18606\",\"subtype\":\"Figure\",\"type\":\"Plot\"},{\"id\":\"18701\",\"subtype\":\"Figure\",\"type\":\"Plot\"}]},\"id\":\"18748\",\"type\":\"Row\"},{\"attributes\":{},\"id\":\"18708\",\"type\":\"LinearScale\"},{\"attributes\":{},\"id\":\"18628\",\"type\":\"WheelZoomTool\"},{\"attributes\":{\"overlay\":{\"id\":\"18650\",\"type\":\"BoxAnnotation\"}},\"id\":\"18629\",\"type\":\"BoxZoomTool\"},{\"attributes\":{},\"id\":\"18630\",\"type\":\"SaveTool\"},{\"attributes\":{},\"id\":\"18710\",\"type\":\"LinearScale\"},{\"attributes\":{},\"id\":\"18631\",\"type\":\"ResetTool\"},{\"attributes\":{\"axis_label\":\"time\",\"formatter\":{\"id\":\"18741\",\"type\":\"BasicTickFormatter\"},\"ticker\":{\"id\":\"18713\",\"type\":\"BasicTicker\"}},\"id\":\"18712\",\"type\":\"LinearAxis\"},{\"attributes\":{\"data_source\":{\"id\":\"18653\",\"type\":\"ColumnDataSource\"},\"glyph\":{\"id\":\"18654\",\"type\":\"Line\"},\"hover_glyph\":null,\"muted_glyph\":null,\"nonselection_glyph\":{\"id\":\"18655\",\"type\":\"Line\"},\"selection_glyph\":null,\"view\":{\"id\":\"18657\",\"type\":\"CDSView\"}},\"id\":\"18656\",\"type\":\"GlyphRenderer\"},{\"attributes\":{\"dimension\":1,\"ticker\":{\"id\":\"18718\",\"type\":\"BasicTicker\"}},\"id\":\"18721\",\"type\":\"Grid\"},{\"attributes\":{},\"id\":\"18632\",\"type\":\"HelpTool\"},{\"attributes\":{},\"id\":\"18713\",\"type\":\"BasicTicker\"},{\"attributes\":{\"active_drag\":\"auto\",\"active_inspect\":\"auto\",\"active_multi\":null,\"active_scroll\":\"auto\",\"active_tap\":\"auto\",\"tools\":[{\"id\":\"18627\",\"type\":\"PanTool\"},{\"id\":\"18628\",\"type\":\"WheelZoomTool\"},{\"id\":\"18629\",\"type\":\"BoxZoomTool\"},{\"id\":\"18630\",\"type\":\"SaveTool\"},{\"id\":\"18631\",\"type\":\"ResetTool\"},{\"id\":\"18632\",\"type\":\"HelpTool\"}]},\"id\":\"18633\",\"type\":\"Toolbar\"},{\"attributes\":{\"ticker\":{\"id\":\"18713\",\"type\":\"BasicTicker\"}},\"id\":\"18716\",\"type\":\"Grid\"},{\"attributes\":{},\"id\":\"18718\",\"type\":\"BasicTicker\"},{\"attributes\":{\"axis_label\":\"concentration\",\"formatter\":{\"id\":\"18743\",\"type\":\"BasicTickFormatter\"},\"ticker\":{\"id\":\"18718\",\"type\":\"BasicTicker\"}},\"id\":\"18717\",\"type\":\"LinearAxis\"},{\"attributes\":{\"line_alpha\":0.1,\"line_color\":\"#1f77b4\",\"line_width\":2,\"x\":{\"field\":\"x\"},\"y\":{\"field\":\"y\"}},\"id\":\"18655\",\"type\":\"Line\"},{\"attributes\":{\"source\":{\"id\":\"18653\",\"type\":\"ColumnDataSource\"}},\"id\":\"18657\",\"type\":\"CDSView\"},{\"attributes\":{\"line_alpha\":0.1,\"line_color\":\"#1f77b4\",\"line_width\":2,\"x\":{\"field\":\"x\"},\"y\":{\"field\":\"y\"}},\"id\":\"18737\",\"type\":\"Line\"},{\"attributes\":{},\"id\":\"18664\",\"type\":\"UnionRenderers\"},{\"attributes\":{\"active_drag\":\"auto\",\"active_inspect\":\"auto\",\"active_multi\":null,\"active_scroll\":\"auto\",\"active_tap\":\"auto\",\"tools\":[{\"id\":\"18722\",\"type\":\"PanTool\"},{\"id\":\"18723\",\"type\":\"WheelZoomTool\"},{\"id\":\"18724\",\"type\":\"BoxZoomTool\"},{\"id\":\"18725\",\"type\":\"SaveTool\"},{\"id\":\"18726\",\"type\":\"ResetTool\"},{\"id\":\"18727\",\"type\":\"HelpTool\"}]},\"id\":\"18728\",\"type\":\"Toolbar\"},{\"attributes\":{\"label\":{\"value\":\"outside_H\"},\"renderers\":[{\"id\":\"18656\",\"type\":\"GlyphRenderer\"}]},\"id\":\"18666\",\"type\":\"LegendItem\"},{\"attributes\":{},\"id\":\"18665\",\"type\":\"Selection\"},{\"attributes\":{},\"id\":\"18722\",\"type\":\"PanTool\"},{\"attributes\":{\"line_color\":\"#2ba02b\",\"line_width\":2,\"x\":{\"field\":\"x\"},\"y\":{\"field\":\"y\"}},\"id\":\"18668\",\"type\":\"Line\"},{\"attributes\":{},\"id\":\"18723\",\"type\":\"WheelZoomTool\"},{\"attributes\":{\"callback\":null,\"data\":{\"x\":{\"__ndarray__\":\"AAAAAAAAAAAxb2dIzNu5PzFvZ0jM28k/ZZNNNtlk0z8xb2dIzNvZP3+lQK1fKeA/ZZNNNtlk4z9LgVq/UqDmPzFvZ0jM2+k/F1100UUX7T9/pUCtXynwP3Icx3Ecx/E/ZZNNNtlk8z9YCtT6lQL1P0uBWr9SoPY/Pvjggw8++D8xb2dIzNv5PyTm7QyJefs/F1100UUX/T8K1PqVArX+P3+lQK1fKQBA+OCDDz74AEByHMdxHMcBQOtXCtT6lQJAZZNNNtlkA0DezpCYtzMEQFgK1PqVAgVA0UUXXXTRBUBLgVq/UqAGQMS8nSExbwdAPvjggw8+CEC3MyTm7QwJQDFvZ0jM2wlAq6qqqqqqCkAk5u0MiXkLQJ4hMW9nSAxAF1100UUXDUCRmLczJOYNQArU+pUCtQ5AhA8++OCDD0B/pUCtXykQQDtDYt7OkBBA+OCDDz74EEC1fqVArV8RQHIcx3EcxxFALrrooosuEkDrVwrU+pUSQKj1KwVq/RJAZZNNNtlkE0AiMW9nSMwTQN7OkJi3MxRAm2yyySabFEBYCtT6lQIVQBWo9SsFahVA0UUXXXTRFUCO4ziO4zgWQEuBWr9SoBZACB988MEHF0DEvJ0hMW8XQIFav1Kg1hdAPvjggw8+GED7lQK1fqUYQLczJObtDBlAdNFFF110GUAxb2dIzNsZQO4MiXk7QxpAq6qqqqqqGkBnSMzbGRIbQCTm7QyJeRtA4YMPPvjgG0CeITFvZ0gcQFq/UqDWrxxAF1100UUXHUDU+pUCtX4dQJGYtzMk5h1ATTbZZJNNHkAK1PqVArUeQMdxHMdxHB9AhA8++OCDH0BArV8pUOsfQH+lQK1fKSBAXXTRRRddIEA7Q2LezpAgQBoS83aGxCBA+OCDDz74IEDXrxSo9SshQLV+pUCtXyFAk0022WSTIUByHMdxHMchQFDrVwrU+iFALrrooosuIkANiXk7Q2IiQOtXCtT6lSJAyiabbLLJIkCo9SsFav0iQIbEvJ0hMSNAZZNNNtlkI0BDYt7OkJgjQCIxb2dIzCNAAAAAAAAAJEA=\",\"dtype\":\"float64\",\"shape\":[100]},\"y\":{\"__ndarray__\":\"AAAAAAAAAADMAKYG5ysWQDHx9KvcBiBA/ttBEqY6IkAfgQKD7zUjQORYNPXvpSNAwjVOodvXI0D/axuxG+4jQOGZqH8G+CNA7Qq8E3L8I0C2XZVvav4jQIS2IDxL/yNATqo/bq//I0BU5/MW3P8jQKSIlP7v/yNA0cS93fj/I0ANoQTS/P8jQKYTM5X+/yNAaLtLXv//I0CxK+23//8jQKTK39///yNARzau8f//I0DuDZ75//8jQCu1J/3//yNAyWG7/v//I0BnT2////8jQCqCv////yNAK0Hj////I0D6L/P///8jQAFK+v///yNAV3T9////I0CJ3f7///8jQId+/////yNASMb/////I0BG5v////8jQIf0/////yNA5fr/////I0C8/f////8jQP/+/////yNAj///////I0DQ//////8jQO3//////yNA+///////I0ABAAAAAAAkQAMAAAAAACRAAwAAAAAAJEADAAAAAAAkQAMAAAAAACRAAwAAAAAAJEADAAAAAAAkQAMAAAAAACRAAwAAAAAAJEADAAAAAAAkQAMAAAAAACRAAwAAAAAAJEADAAAAAAAkQAMAAAAAACRAAwAAAAAAJEADAAAAAAAkQAMAAAAAACRAAwAAAAAAJEADAAAAAAAkQAMAAAAAACRAAwAAAAAAJEADAAAAAAAkQAMAAAAAACRAAwAAAAAAJEADAAAAAAAkQAMAAAAAACRAAwAAAAAAJEADAAAAAAAkQAMAAAAAACRAAwAAAAAAJEADAAAAAAAkQAMAAAAAACRAAwAAAAAAJEADAAAAAAAkQAMAAAAAACRAAwAAAAAAJEADAAAAAAAkQAMAAAAAACRAAwAAAAAAJEADAAAAAAAkQAMAAAAAACRAAwAAAAAAJEADAAAAAAAkQAMAAAAAACRAAwAAAAAAJEADAAAAAAAkQAMAAAAAACRAAwAAAAAAJEADAAAAAAAkQAMAAAAAACRAAwAAAAAAJEADAAAAAAAkQAMAAAAAACRAAwAAAAAAJEADAAAAAAAkQAMAAAAAACRAAwAAAAAAJEA=\",\"dtype\":\"float64\",\"shape\":[100]}},\"selected\":{\"id\":\"18699\",\"type\":\"Selection\"},\"selection_policy\":{\"id\":\"18698\",\"type\":\"UnionRenderers\"}},\"id\":\"18667\",\"type\":\"ColumnDataSource\"},{\"attributes\":{\"overlay\":{\"id\":\"18745\",\"type\":\"BoxAnnotation\"}},\"id\":\"18724\",\"type\":\"BoxZoomTool\"},{\"attributes\":{},\"id\":\"19436\",\"type\":\"Selection\"},{\"attributes\":{\"line_alpha\":0.1,\"line_color\":\"#1f77b4\",\"line_width\":2,\"x\":{\"field\":\"x\"},\"y\":{\"field\":\"y\"}},\"id\":\"18669\",\"type\":\"Line\"},{\"attributes\":{},\"id\":\"18725\",\"type\":\"SaveTool\"},{\"attributes\":{\"data_source\":{\"id\":\"18667\",\"type\":\"ColumnDataSource\"},\"glyph\":{\"id\":\"18668\",\"type\":\"Line\"},\"hover_glyph\":null,\"muted_glyph\":null,\"nonselection_glyph\":{\"id\":\"18669\",\"type\":\"Line\"},\"selection_glyph\":null,\"view\":{\"id\":\"18671\",\"type\":\"CDSView\"}},\"id\":\"18670\",\"type\":\"GlyphRenderer\"},{\"attributes\":{},\"id\":\"18726\",\"type\":\"ResetTool\"},{\"attributes\":{\"data_source\":{\"id\":\"18735\",\"type\":\"ColumnDataSource\"},\"glyph\":{\"id\":\"18736\",\"type\":\"Line\"},\"hover_glyph\":null,\"muted_glyph\":null,\"nonselection_glyph\":{\"id\":\"18737\",\"type\":\"Line\"},\"selection_glyph\":null,\"view\":{\"id\":\"18739\",\"type\":\"CDSView\"}},\"id\":\"18738\",\"type\":\"GlyphRenderer\"},{\"attributes\":{},\"id\":\"18646\",\"type\":\"BasicTickFormatter\"},{\"attributes\":{\"source\":{\"id\":\"18667\",\"type\":\"ColumnDataSource\"}},\"id\":\"18671\",\"type\":\"CDSView\"},{\"attributes\":{},\"id\":\"18727\",\"type\":\"HelpTool\"},{\"attributes\":{},\"id\":\"18680\",\"type\":\"UnionRenderers\"},{\"attributes\":{\"label\":{\"value\":\"inside_H\"},\"renderers\":[{\"id\":\"18670\",\"type\":\"GlyphRenderer\"}]},\"id\":\"18682\",\"type\":\"LegendItem\"},{\"attributes\":{},\"id\":\"18741\",\"type\":\"BasicTickFormatter\"},{\"attributes\":{},\"id\":\"18681\",\"type\":\"Selection\"},{\"attributes\":{\"label\":{\"value\":\"atp\"},\"renderers\":[{\"id\":\"18643\",\"type\":\"GlyphRenderer\"}]},\"id\":\"18652\",\"type\":\"LegendItem\"},{\"attributes\":{\"text\":\"with ATP Synthase, ATP Use\"},\"id\":\"18607\",\"type\":\"Title\"},{\"attributes\":{\"line_color\":\"#9367bc\",\"line_width\":2,\"x\":{\"field\":\"x\"},\"y\":{\"field\":\"y\"}},\"id\":\"18684\",\"type\":\"Line\"},{\"attributes\":{\"items\":[{\"id\":\"18747\",\"type\":\"LegendItem\"}]},\"id\":\"18746\",\"type\":\"Legend\"},{\"attributes\":{\"source\":{\"id\":\"18735\",\"type\":\"ColumnDataSource\"}},\"id\":\"18739\",\"type\":\"CDSView\"},{\"attributes\":{\"callback\":null,\"data\":{\"x\":{\"__ndarray__\":\"AAAAAAAAAAAxb2dIzNu5PzFvZ0jM28k/ZZNNNtlk0z8xb2dIzNvZP3+lQK1fKeA/ZZNNNtlk4z9LgVq/UqDmPzFvZ0jM2+k/F1100UUX7T9/pUCtXynwP3Icx3Ecx/E/ZZNNNtlk8z9YCtT6lQL1P0uBWr9SoPY/Pvjggw8++D8xb2dIzNv5PyTm7QyJefs/F1100UUX/T8K1PqVArX+P3+lQK1fKQBA+OCDDz74AEByHMdxHMcBQOtXCtT6lQJAZZNNNtlkA0DezpCYtzMEQFgK1PqVAgVA0UUXXXTRBUBLgVq/UqAGQMS8nSExbwdAPvjggw8+CEC3MyTm7QwJQDFvZ0jM2wlAq6qqqqqqCkAk5u0MiXkLQJ4hMW9nSAxAF1100UUXDUCRmLczJOYNQArU+pUCtQ5AhA8++OCDD0B/pUCtXykQQDtDYt7OkBBA+OCDDz74EEC1fqVArV8RQHIcx3EcxxFALrrooosuEkDrVwrU+pUSQKj1KwVq/RJAZZNNNtlkE0AiMW9nSMwTQN7OkJi3MxRAm2yyySabFEBYCtT6lQIVQBWo9SsFahVA0UUXXXTRFUCO4ziO4zgWQEuBWr9SoBZACB988MEHF0DEvJ0hMW8XQIFav1Kg1hdAPvjggw8+GED7lQK1fqUYQLczJObtDBlAdNFFF110GUAxb2dIzNsZQO4MiXk7QxpAq6qqqqqqGkBnSMzbGRIbQCTm7QyJeRtA4YMPPvjgG0CeITFvZ0gcQFq/UqDWrxxAF1100UUXHUDU+pUCtX4dQJGYtzMk5h1ATTbZZJNNHkAK1PqVArUeQMdxHMdxHB9AhA8++OCDH0BArV8pUOsfQH+lQK1fKSBAXXTRRRddIEA7Q2LezpAgQBoS83aGxCBA+OCDDz74IEDXrxSo9SshQLV+pUCtXyFAk0022WSTIUByHMdxHMchQFDrVwrU+iFALrrooosuIkANiXk7Q2IiQOtXCtT6lSJAyiabbLLJIkCo9SsFav0iQIbEvJ0hMSNAZZNNNtlkI0BDYt7OkJgjQCIxb2dIzCNAAAAAAAAAJEA=\",\"dtype\":\"float64\",\"shape\":[100]},\"y\":{\"__ndarray__\":\"AAAAAAAAAAAAqAWyIxhaP1a9skNdNIg/1Bbo8nnzoj+coK7zvtm0P1CfSEP66MI/6i6F2fxbzj9KzH3gn2fWP2GNL2Y8Gd8/V4eEB4yY5D/WmCoVQ0vqP+G4iG8ES/A/g4Bk/0608z8HqK5k+Fj3P4KXIkhVMPs/2gls2s4x/z9ifo9xhqoBQEACp4sKyQNA5R+qz7DwBUCELg81+B0IQCOps1emTQpAAiw/2cl8DEAK4/n2uqgOQHYlrFCNZxBARpgXPeh2EUDfXd3+g4ESQNQ3FImWhhNAPqK7FnSFFECtoYwcjX0VQNSBzSlsbhZAVlKRxLNXF0AC+G9LHDkYQKP3L+RxEhlAFx2HfZLjGUDwZ8bna6waQH0E+Af6bBtAcuOaJkUlHECTiO5bYNUcQKHRfBlofR1ARi360IAdHkDRsVC41bUeQKacRKmXRh9ATBsbHPzPH0BkFtcdHikgQCLf+AjKZiBAug1V5SChIEBe19eFQtggQBYWUDBPDCFAFqZnXGc9IUBv9et6q2shQP7TvMQ7lyFAWR61EDjAIUA69tyvv+YhQCNISU/xCiJAuchE3+osIkBbYwB/yUwiQE0CVGypaiJANJcz96WGIkDMGUR42aAiQCAk5UtduSJApvBoyEnQIkDR8fRItuUiQLVHuxy5+SJAqhRhmWcMI0CxQ+UL1h0jQB5MeNQXLiNAf6i/VD89I0DAR5QDXksjQOC3bW2EWCNAalhRP8JkI0CRxqpNJnAjQCrQNp6+eiNATRRFXpiEI0AaBgMRwI0jQPQ6RnFBliNAxNgNjSeeI0DWaY3JfKUjQK7wnepKrCNAvdiyHJuyI0DCnWf7dbgjQJjh75TjvSNA1XebeuvCI0BBmd2+lMcjQOZMewDmyyNACuNhcOXPI0A+ZD7XmNMjQCoLOJwF1yNAz6n1yjDaI0BA4I8XH90jQIyK/ObU3yNAZoz3TFbiI0Cl/Sgcp+QjQMoIVeLK5iNAByxp48ToI0A08Oc7mOojQEMBBsRH7CNAqsF+ItbtI0CObg3QRe8jQACeDReZ8CNAZezKF9LxI0A=\",\"dtype\":\"float64\",\"shape\":[100]}},\"selected\":{\"id\":\"19436\",\"type\":\"Selection\"},\"selection_policy\":{\"id\":\"19435\",\"type\":\"UnionRenderers\"}},\"id\":\"18683\",\"type\":\"ColumnDataSource\"},{\"attributes\":{},\"id\":\"18743\",\"type\":\"BasicTickFormatter\"},{\"attributes\":{\"line_alpha\":0.1,\"line_color\":\"#1f77b4\",\"line_width\":2,\"x\":{\"field\":\"x\"},\"y\":{\"field\":\"y\"}},\"id\":\"18685\",\"type\":\"Line\"},{\"attributes\":{\"bottom_units\":\"screen\",\"fill_alpha\":{\"value\":0.5},\"fill_color\":{\"value\":\"lightgrey\"},\"left_units\":\"screen\",\"level\":\"overlay\",\"line_alpha\":{\"value\":1.0},\"line_color\":{\"value\":\"black\"},\"line_dash\":[4,4],\"line_width\":{\"value\":2},\"render_mode\":\"css\",\"right_units\":\"screen\",\"top_units\":\"screen\"},\"id\":\"18745\",\"type\":\"BoxAnnotation\"},{\"attributes\":{},\"id\":\"19438\",\"type\":\"UnionRenderers\"},{\"attributes\":{\"data_source\":{\"id\":\"18683\",\"type\":\"ColumnDataSource\"},\"glyph\":{\"id\":\"18684\",\"type\":\"Line\"},\"hover_glyph\":null,\"muted_glyph\":null,\"nonselection_glyph\":{\"id\":\"18685\",\"type\":\"Line\"},\"selection_glyph\":null,\"view\":{\"id\":\"18687\",\"type\":\"CDSView\"}},\"id\":\"18686\",\"type\":\"GlyphRenderer\"},{\"attributes\":{\"label\":{\"value\":\"atp\"},\"renderers\":[{\"id\":\"18738\",\"type\":\"GlyphRenderer\"}]},\"id\":\"18747\",\"type\":\"LegendItem\"},{\"attributes\":{\"source\":{\"id\":\"18683\",\"type\":\"ColumnDataSource\"}},\"id\":\"18687\",\"type\":\"CDSView\"},{\"attributes\":{},\"id\":\"18699\",\"type\":\"Selection\"},{\"attributes\":{},\"id\":\"18698\",\"type\":\"UnionRenderers\"},{\"attributes\":{\"label\":{\"value\":\"bound atp synthase\"},\"renderers\":[{\"id\":\"18686\",\"type\":\"GlyphRenderer\"}]},\"id\":\"18700\",\"type\":\"LegendItem\"},{\"attributes\":{\"text\":\"with ATP Use\"},\"id\":\"18702\",\"type\":\"Title\"},{\"attributes\":{\"callback\":null},\"id\":\"18704\",\"type\":\"DataRange1d\"},{\"attributes\":{},\"id\":\"19439\",\"type\":\"Selection\"},{\"attributes\":{\"callback\":null},\"id\":\"18706\",\"type\":\"DataRange1d\"},{\"attributes\":{},\"id\":\"19435\",\"type\":\"UnionRenderers\"},{\"attributes\":{\"callback\":null,\"data\":{\"x\":{\"__ndarray__\":\"AAAAAAAAAAAxb2dIzNu5PzFvZ0jM28k/ZZNNNtlk0z8xb2dIzNvZP3+lQK1fKeA/ZZNNNtlk4z9LgVq/UqDmPzFvZ0jM2+k/F1100UUX7T9/pUCtXynwP3Icx3Ecx/E/ZZNNNtlk8z9YCtT6lQL1P0uBWr9SoPY/Pvjggw8++D8xb2dIzNv5PyTm7QyJefs/F1100UUX/T8K1PqVArX+P3+lQK1fKQBA+OCDDz74AEByHMdxHMcBQOtXCtT6lQJAZZNNNtlkA0DezpCYtzMEQFgK1PqVAgVA0UUXXXTRBUBLgVq/UqAGQMS8nSExbwdAPvjggw8+CEC3MyTm7QwJQDFvZ0jM2wlAq6qqqqqqCkAk5u0MiXkLQJ4hMW9nSAxAF1100UUXDUCRmLczJOYNQArU+pUCtQ5AhA8++OCDD0B/pUCtXykQQDtDYt7OkBBA+OCDDz74EEC1fqVArV8RQHIcx3EcxxFALrrooosuEkDrVwrU+pUSQKj1KwVq/RJAZZNNNtlkE0AiMW9nSMwTQN7OkJi3MxRAm2yyySabFEBYCtT6lQIVQBWo9SsFahVA0UUXXXTRFUCO4ziO4zgWQEuBWr9SoBZACB988MEHF0DEvJ0hMW8XQIFav1Kg1hdAPvjggw8+GED7lQK1fqUYQLczJObtDBlAdNFFF110GUAxb2dIzNsZQO4MiXk7QxpAq6qqqqqqGkBnSMzbGRIbQCTm7QyJeRtA4YMPPvjgG0CeITFvZ0gcQFq/UqDWrxxAF1100UUXHUDU+pUCtX4dQJGYtzMk5h1ATTbZZJNNHkAK1PqVArUeQMdxHMdxHB9AhA8++OCDH0BArV8pUOsfQH+lQK1fKSBAXXTRRRddIEA7Q2LezpAgQBoS83aGxCBA+OCDDz74IEDXrxSo9SshQLV+pUCtXyFAk0022WSTIUByHMdxHMchQFDrVwrU+iFALrrooosuIkANiXk7Q2IiQOtXCtT6lSJAyiabbLLJIkCo9SsFav0iQIbEvJ0hMSNAZZNNNtlkI0BDYt7OkJgjQCIxb2dIzCNAAAAAAAAAJEA=\",\"dtype\":\"float64\",\"shape\":[100]},\"y\":{\"__ndarray__\":\"AAAAAAAAJEBD28HAlSMYQBXAqIZzIg1A417ZVv2UAUBCZqhmeDj1P/zC6Jy4nOk/DleGy6Lp3j/Fid2orqfSPxO1Tr4ChMY/tvvsvN8suz+Uib3kTGawP5tP1b4jy6M/Gf+/E8njlz+uLAfqctWMP+36glaFZoE/sXM7lGIAdT9NbMuIB1lpP9/wO4rvl14/Arrb42B2Uj+ghIhPgUhGP2/F2mAK5To/M0ClT/I6MD/qb1R/z5YjP9ByGlqfpBc/9Pa5bDyJDD9B1LQdnDgBPz79Dhb+yPQ+CwNBUWcW6T5osP8QR0fePgaI83KdRdI+ZZz7XC8Nxj7P070f2J26PvKNKCMwDrA+AvoCCStdoz5aHqZGgGaXPuVUedlPQ4w+IBN4bZwZgT4OTvpaj8Z0PlKRXzF792g+B5jaJJKpXT6LIbMA25xRPsgqSY9LFkU+9y8xief1OT6sqXrvVCwwPmosOMBfASQ+1kd2H3x7GD46SKy2vewNPgqu1fn1YAI+JuMCgDWm9j14+T8PUxzlPTgc0eIx0L29BR+3yWoc5r1lfGtMbQXxvWjY3NSqwvO9kKMv/u1F8724u8eQbR7vvU9I1PH4Huy9GHbpYHj97b0IoecrEk7uvSHJzlLGEO29YO6e1ZRF6r3EEFi0fezlvV4w+u6ABeC9xjc6hzjb2L0kDP6tD83VvYDgwdTmvtK9umkL93thz72EEpNEKkXJvT67GpLYKMO978dEvw0Zur2T/aHjvOi3vRbg5ywokbe9l8ItdpM5t70ZpXO//uG2vZqHuQhqira9HGr/UdUytr2eTEWbQNu1vR8vi+Srg7W9oRHRLRcstb0j9BZ3gtS0vaPWXMDtfLS9JrmiCVkltL2om+hSxM2zvSl+LpwvdrO9q2B05Zoes70sQ7ouBseyva4lAHhxb7K9MAhGwdwXsr2y6osKSMCxvTTN0VOzaLG9tq8XnR4Rsb03kl3mibmwvbh0oy/1YbC9OlfpeGAKsL14c16El2WvvX046hZutq69fv11qUQHrr2CwgE8G1itvYSHjc7xqKy9iEwZYcj5q70=\",\"dtype\":\"float64\",\"shape\":[100]}},\"selected\":{\"id\":\"19439\",\"type\":\"Selection\"},\"selection_policy\":{\"id\":\"19438\",\"type\":\"UnionRenderers\"}},\"id\":\"18735\",\"type\":\"ColumnDataSource\"},{\"attributes\":{\"items\":[{\"id\":\"18652\",\"type\":\"LegendItem\"},{\"id\":\"18666\",\"type\":\"LegendItem\"},{\"id\":\"18682\",\"type\":\"LegendItem\"},{\"id\":\"18700\",\"type\":\"LegendItem\"}],\"location\":\"bottom_right\"},\"id\":\"18651\",\"type\":\"Legend\"},{\"attributes\":{\"callback\":null,\"data\":{\"x\":{\"__ndarray__\":\"AAAAAAAAAAAxb2dIzNu5PzFvZ0jM28k/ZZNNNtlk0z8xb2dIzNvZP3+lQK1fKeA/ZZNNNtlk4z9LgVq/UqDmPzFvZ0jM2+k/F1100UUX7T9/pUCtXynwP3Icx3Ecx/E/ZZNNNtlk8z9YCtT6lQL1P0uBWr9SoPY/Pvjggw8++D8xb2dIzNv5PyTm7QyJefs/F1100UUX/T8K1PqVArX+P3+lQK1fKQBA+OCDDz74AEByHMdxHMcBQOtXCtT6lQJAZZNNNtlkA0DezpCYtzMEQFgK1PqVAgVA0UUXXXTRBUBLgVq/UqAGQMS8nSExbwdAPvjggw8+CEC3MyTm7QwJQDFvZ0jM2wlAq6qqqqqqCkAk5u0MiXkLQJ4hMW9nSAxAF1100UUXDUCRmLczJOYNQArU+pUCtQ5AhA8++OCDD0B/pUCtXykQQDtDYt7OkBBA+OCDDz74EEC1fqVArV8RQHIcx3EcxxFALrrooosuEkDrVwrU+pUSQKj1KwVq/RJAZZNNNtlkE0AiMW9nSMwTQN7OkJi3MxRAm2yyySabFEBYCtT6lQIVQBWo9SsFahVA0UUXXXTRFUCO4ziO4zgWQEuBWr9SoBZACB988MEHF0DEvJ0hMW8XQIFav1Kg1hdAPvjggw8+GED7lQK1fqUYQLczJObtDBlAdNFFF110GUAxb2dIzNsZQO4MiXk7QxpAq6qqqqqqGkBnSMzbGRIbQCTm7QyJeRtA4YMPPvjgG0CeITFvZ0gcQFq/UqDWrxxAF1100UUXHUDU+pUCtX4dQJGYtzMk5h1ATTbZZJNNHkAK1PqVArUeQMdxHMdxHB9AhA8++OCDH0BArV8pUOsfQH+lQK1fKSBAXXTRRRddIEA7Q2LezpAgQBoS83aGxCBA+OCDDz74IEDXrxSo9SshQLV+pUCtXyFAk0022WSTIUByHMdxHMchQFDrVwrU+iFALrrooosuIkANiXk7Q2IiQOtXCtT6lSJAyiabbLLJIkCo9SsFav0iQIbEvJ0hMSNAZZNNNtlkI0BDYt7OkJgjQCIxb2dIzCNAAAAAAAAAJEA=\",\"dtype\":\"float64\",\"shape\":[100]},\"y\":{\"__ndarray__\":\"AAAAAAAAJEA4/1n5GNQRQIJ2WKAayf8/PkDi255V7D883K+fD0LZPz/H6bIChMY/Vh/lWC8StD9XA5TkTuShP8uGmF0B5o8/sqSoH2JvfD/rvSSqBllpP0HCL+l7mFY/01ltFXAkRD/8ZVcMhvQxP80GX3drASA/I0HE7AiJDD95f6T32m/5PiwYsMXOrOY+cuksk4g21D7NqN8TtQTCPm5Iyq0aELA+Ou12cJOjnD5Cqg5FyIeJPgnE35pWwnY+KxTRYeNJZD5+l7ghExZSPtwkGbh1H0A+14OSvda+LD5MwTbGD6AZPuuupQIF2AY+hgN2Okld9D07f3IIeifiPWyP8/IYL9A93QgHX/ravD104P2rW7mpPTvx7mXJ7pY9mrkz88JxhD2sCez63zlyPSza3NOoP2A9GI95f7v4TD2CpDM9GdQ5Pbc8CS7OBic9KJnbAmeHFD1268iEP00CPcYWFM8EUfA8+yZfPcsX3TwDWuIE+e/JPMinPYbBH7c8CcL3UqqdpDxboELwQWGSPJDuban0YoA8ZSfp68Y3bTwL63AbFwxaPG797JXAOEc8AtFqUgy0NDxEBdjUMHUiPLrtkFmIdBA8LeX18eBW/TsnhRYchSnqO3M8mQa5Utc7KEU9IZ7MxDvSubsSt4qyO5wILU3RiKA7OHixh/15jTv2rrkin0l6O9JfrOG5b2c7p8dJehPlVDuO5s3tgqBCO630lV5ImzA75JbExxWdHTuIDTWABGcKO0BJfPEyhvc6A+WudoH85DqtMBu15LXSOmH4cNlbrsA6ALtJlRi+rTpxG8OFv4OaOvN6rdkYpIc66MXthgAUdTpw/rP8k8liOuPuYakHwVA6sLKXtbnfPTpKJ4ZwTaIqOpWOjgLNvhc6gLtwQwkrBTpmqvSeK9/yOWBMZzSa0+A5CuczFyMAzjnSaJi4F8G6OTfSJiHU1qc5GLodt5xGlTnziv4ahfeCOTRngTor4XA5U+LCDpsrXjlwqUzT/eVKOeq5s6Io+Tc5uFlVwF1mJTnS1I1ROhMTOWlgMqJkAQE5d7Ws+VJb7jg=\",\"dtype\":\"float64\",\"shape\":[100]}},\"selected\":{\"id\":\"18681\",\"type\":\"Selection\"},\"selection_policy\":{\"id\":\"18680\",\"type\":\"UnionRenderers\"}},\"id\":\"18653\",\"type\":\"ColumnDataSource\"},{\"attributes\":{},\"id\":\"18648\",\"type\":\"BasicTickFormatter\"},{\"attributes\":{\"line_color\":\"#1f77b3\",\"line_width\":2,\"x\":{\"field\":\"x\"},\"y\":{\"field\":\"y\"}},\"id\":\"18736\",\"type\":\"Line\"},{\"attributes\":{\"below\":[{\"id\":\"18617\",\"type\":\"LinearAxis\"}],\"center\":[{\"id\":\"18621\",\"type\":\"Grid\"},{\"id\":\"18626\",\"type\":\"Grid\"},{\"id\":\"18651\",\"type\":\"Legend\"}],\"left\":[{\"id\":\"18622\",\"type\":\"LinearAxis\"}],\"plot_height\":350,\"plot_width\":450,\"renderers\":[{\"id\":\"18643\",\"type\":\"GlyphRenderer\"},{\"id\":\"18656\",\"type\":\"GlyphRenderer\"},{\"id\":\"18670\",\"type\":\"GlyphRenderer\"},{\"id\":\"18686\",\"type\":\"GlyphRenderer\"}],\"title\":{\"id\":\"18607\",\"type\":\"Title\"},\"toolbar\":{\"id\":\"18633\",\"type\":\"Toolbar\"},\"x_range\":{\"id\":\"18609\",\"type\":\"DataRange1d\"},\"x_scale\":{\"id\":\"18613\",\"type\":\"LinearScale\"},\"y_range\":{\"id\":\"18611\",\"type\":\"DataRange1d\"},\"y_scale\":{\"id\":\"18615\",\"type\":\"LinearScale\"}},\"id\":\"18606\",\"subtype\":\"Figure\",\"type\":\"Plot\"},{\"attributes\":{\"line_alpha\":0.1,\"line_color\":\"#1f77b4\",\"line_width\":2,\"x\":{\"field\":\"x\"},\"y\":{\"field\":\"y\"}},\"id\":\"18642\",\"type\":\"Line\"},{\"attributes\":{\"bottom_units\":\"screen\",\"fill_alpha\":{\"value\":0.5},\"fill_color\":{\"value\":\"lightgrey\"},\"left_units\":\"screen\",\"level\":\"overlay\",\"line_alpha\":{\"value\":1.0},\"line_color\":{\"value\":\"black\"},\"line_dash\":[4,4],\"line_width\":{\"value\":2},\"render_mode\":\"css\",\"right_units\":\"screen\",\"top_units\":\"screen\"},\"id\":\"18650\",\"type\":\"BoxAnnotation\"},{\"attributes\":{\"callback\":null},\"id\":\"18609\",\"type\":\"DataRange1d\"},{\"attributes\":{\"callback\":null},\"id\":\"18611\",\"type\":\"DataRange1d\"},{\"attributes\":{},\"id\":\"18613\",\"type\":\"LinearScale\"},{\"attributes\":{},\"id\":\"18615\",\"type\":\"LinearScale\"},{\"attributes\":{\"line_color\":\"#ff7e0e\",\"line_width\":2,\"x\":{\"field\":\"x\"},\"y\":{\"field\":\"y\"}},\"id\":\"18654\",\"type\":\"Line\"},{\"attributes\":{\"axis_label\":\"time\",\"formatter\":{\"id\":\"18646\",\"type\":\"BasicTickFormatter\"},\"ticker\":{\"id\":\"18618\",\"type\":\"BasicTicker\"}},\"id\":\"18617\",\"type\":\"LinearAxis\"},{\"attributes\":{\"dimension\":1,\"ticker\":{\"id\":\"18623\",\"type\":\"BasicTicker\"}},\"id\":\"18626\",\"type\":\"Grid\"},{\"attributes\":{},\"id\":\"18618\",\"type\":\"BasicTicker\"},{\"attributes\":{\"ticker\":{\"id\":\"18618\",\"type\":\"BasicTicker\"}},\"id\":\"18621\",\"type\":\"Grid\"},{\"attributes\":{},\"id\":\"18623\",\"type\":\"BasicTicker\"},{\"attributes\":{\"axis_label\":\"concentration\",\"formatter\":{\"id\":\"18648\",\"type\":\"BasicTickFormatter\"},\"ticker\":{\"id\":\"18623\",\"type\":\"BasicTicker\"}},\"id\":\"18622\",\"type\":\"LinearAxis\"},{\"attributes\":{\"source\":{\"id\":\"18640\",\"type\":\"ColumnDataSource\"}},\"id\":\"18644\",\"type\":\"CDSView\"},{\"attributes\":{\"callback\":null,\"data\":{\"x\":{\"__ndarray__\":\"AAAAAAAAAAAxb2dIzNu5PzFvZ0jM28k/ZZNNNtlk0z8xb2dIzNvZP3+lQK1fKeA/ZZNNNtlk4z9LgVq/UqDmPzFvZ0jM2+k/F1100UUX7T9/pUCtXynwP3Icx3Ecx/E/ZZNNNtlk8z9YCtT6lQL1P0uBWr9SoPY/Pvjggw8++D8xb2dIzNv5PyTm7QyJefs/F1100UUX/T8K1PqVArX+P3+lQK1fKQBA+OCDDz74AEByHMdxHMcBQOtXCtT6lQJAZZNNNtlkA0DezpCYtzMEQFgK1PqVAgVA0UUXXXTRBUBLgVq/UqAGQMS8nSExbwdAPvjggw8+CEC3MyTm7QwJQDFvZ0jM2wlAq6qqqqqqCkAk5u0MiXkLQJ4hMW9nSAxAF1100UUXDUCRmLczJOYNQArU+pUCtQ5AhA8++OCDD0B/pUCtXykQQDtDYt7OkBBA+OCDDz74EEC1fqVArV8RQHIcx3EcxxFALrrooosuEkDrVwrU+pUSQKj1KwVq/RJAZZNNNtlkE0AiMW9nSMwTQN7OkJi3MxRAm2yyySabFEBYCtT6lQIVQBWo9SsFahVA0UUXXXTRFUCO4ziO4zgWQEuBWr9SoBZACB988MEHF0DEvJ0hMW8XQIFav1Kg1hdAPvjggw8+GED7lQK1fqUYQLczJObtDBlAdNFFF110GUAxb2dIzNsZQO4MiXk7QxpAq6qqqqqqGkBnSMzbGRIbQCTm7QyJeRtA4YMPPvjgG0CeITFvZ0gcQFq/UqDWrxxAF1100UUXHUDU+pUCtX4dQJGYtzMk5h1ATTbZZJNNHkAK1PqVArUeQMdxHMdxHB9AhA8++OCDH0BArV8pUOsfQH+lQK1fKSBAXXTRRRddIEA7Q2LezpAgQBoS83aGxCBA+OCDDz74IEDXrxSo9SshQLV+pUCtXyFAk0022WSTIUByHMdxHMchQFDrVwrU+iFALrrooosuIkANiXk7Q2IiQOtXCtT6lSJAyiabbLLJIkCo9SsFav0iQIbEvJ0hMSNAZZNNNtlkI0BDYt7OkJgjQCIxb2dIzCNAAAAAAAAAJEA=\",\"dtype\":\"float64\",\"shape\":[100]},\"y\":{\"__ndarray__\":\"AAAAAAAAJEC+/lfycyQYQGTvWr7+Yw1A2HwdM2VRA0CHx/h+tlQAQAFZQtg40QJAfm6VrExeCEA9yKWyg6EOQOkwaGBtIhJADNVl9CB1FEA2XVEheFQWQBpVr8k72RdAVq7tNAkZGUAWtF6W3iMaQGH+SflGBRtArGi1k7bFG0CM+x2VgGscQNn9l1l4+xxAhpwscVx5HUBe8vCfH+gdQJbjWO0bSh5AaSOGFzehHkCR5dEk/e4eQG19Zf6zNB9AqqbyKWpzH0C2Euf4AawfQHdBZCE63x9ApqZBNtoGIEDVdAd6/RsgQKKtfCRCLyBAg1y8YdtAIEAxUK+W9VAgQJDfk3W3XyBAtAuM30JtIEDQatedtXkgQAMEzvophSBA8wfUQLePIECktaQkcpkgQGBHLR5toiBAfbZ9s7iqIEAq73u4Y7IgQMBq+oR7uSBAg2XBIgzAIEB7IrF0IMYgQNzv/FnCyyBAu3f/yfrQIEDYf/bu0dUgQCOFQztP2iBAVotEfXneIEDPOe7vVuIgQISBl0nt5SBAGhEVyUHpIEDEeVFBWewgQEA3PSM47yBA9/HWhuLxIEBsjFczXPQgQPjPQ6ao9iBAAmnwGcv4IEAKNv6KxvogQFmdir2d/CBADGKpQlP+IEAltGl56f8gQKhD7phiASFAgUonrMACIUD7vJGaBQQhQNcOaiozBSFA4WXW/koGIUDHQI+gTgchQGqd1no/CCFANE/z4B4JIUCWJ1UN7gkhQAIx+yWuCiFA33bFO2ALIUCYU8tLBQwhQGwxS0SeDCFAASn3/ysNIUBXpGdMrw0hQIoz1ecoDiFACE11hJkOIUAtMtbGAQ8hQHxtREhiDyFAtIBjmbsPIUCZ5Rg9DhAhQHNW+LBaECFAkHL6ZqEQIUCPiZ7K4hAhQBRx7D4fESFAJGsZIVcRIUCU0MnGihEhQKdm5H66ESFAUrb0lOYRIUDgn7lMDxIhQPIEhuc0EiFAmCbenlcSIUBKTfGqdxIhQFHGOT+VEiFAcjThibASIUCZ8OG4yRIhQOIHRfPgEiFASLEPX/YSIUA=\",\"dtype\":\"float64\",\"shape\":[100]}},\"selected\":{\"id\":\"18665\",\"type\":\"Selection\"},\"selection_policy\":{\"id\":\"18664\",\"type\":\"UnionRenderers\"}},\"id\":\"18640\",\"type\":\"ColumnDataSource\"},{\"attributes\":{\"line_color\":\"#1f77b3\",\"line_width\":2,\"x\":{\"field\":\"x\"},\"y\":{\"field\":\"y\"}},\"id\":\"18641\",\"type\":\"Line\"},{\"attributes\":{\"data_source\":{\"id\":\"18640\",\"type\":\"ColumnDataSource\"},\"glyph\":{\"id\":\"18641\",\"type\":\"Line\"},\"hover_glyph\":null,\"muted_glyph\":null,\"nonselection_glyph\":{\"id\":\"18642\",\"type\":\"Line\"},\"selection_glyph\":null,\"view\":{\"id\":\"18644\",\"type\":\"CDSView\"}},\"id\":\"18643\",\"type\":\"GlyphRenderer\"},{\"attributes\":{\"below\":[{\"id\":\"18712\",\"type\":\"LinearAxis\"}],\"center\":[{\"id\":\"18716\",\"type\":\"Grid\"},{\"id\":\"18721\",\"type\":\"Grid\"},{\"id\":\"18746\",\"type\":\"Legend\"}],\"left\":[{\"id\":\"18717\",\"type\":\"LinearAxis\"}],\"plot_height\":350,\"plot_width\":450,\"renderers\":[{\"id\":\"18738\",\"type\":\"GlyphRenderer\"}],\"title\":{\"id\":\"18702\",\"type\":\"Title\"},\"toolbar\":{\"id\":\"18728\",\"type\":\"Toolbar\"},\"x_range\":{\"id\":\"18704\",\"type\":\"DataRange1d\"},\"x_scale\":{\"id\":\"18708\",\"type\":\"LinearScale\"},\"y_range\":{\"id\":\"18706\",\"type\":\"DataRange1d\"},\"y_scale\":{\"id\":\"18710\",\"type\":\"LinearScale\"}},\"id\":\"18701\",\"subtype\":\"Figure\",\"type\":\"Plot\"},{\"attributes\":{},\"id\":\"18627\",\"type\":\"PanTool\"}],\"root_ids\":[\"18748\"]},\"title\":\"Bokeh Application\",\"version\":\"1.4.0\"}};\n",
       "  var render_items = [{\"docid\":\"fb950066-0590-450e-893a-cc644401a952\",\"roots\":{\"18748\":\"b4e9a4f4-2c23-4955-a79f-238c7230e5d3\"}}];\n",
       "  root.Bokeh.embed.embed_items_notebook(docs_json, render_items);\n",
       "\n",
       "  }\n",
       "  if (root.Bokeh !== undefined) {\n",
       "    embed_document(root);\n",
       "  } else {\n",
       "    var attempts = 0;\n",
       "    var timer = setInterval(function(root) {\n",
       "      if (root.Bokeh !== undefined) {\n",
       "        clearInterval(timer);\n",
       "        embed_document(root);\n",
       "      } else {\n",
       "        attempts++;\n",
       "        if (attempts > 100) {\n",
       "          clearInterval(timer);\n",
       "          console.log(\"Bokeh: ERROR: Unable to run BokehJS code because BokehJS library is missing\");\n",
       "        }\n",
       "      }\n",
       "    }, 10, root)\n",
       "  }\n",
       "})(window);"
      ],
      "application/vnd.bokehjs_exec.v0+json": ""
     },
     "metadata": {
      "application/vnd.bokehjs_exec.v0+json": {
       "id": "18748"
      }
     },
     "output_type": "display_data"
    }
   ],
   "source": [
    "# PLOT WITH ATP SYNTHASE\n",
    "p_w_atp = bokeh.plotting.figure(width = 450, height = 350, title = 'with ATP Synthase, ATP Use',\n",
    "                          x_axis_label = 'time',\n",
    "                          y_axis_label = 'concentration')\n",
    "plot_list = [ATP_id, outside_H_id, inside_H_id, atp_synthase_b_protein_id]\n",
    "plot_str = ['atp', 'outside_H', 'inside_H', 'bound atp synthase']\n",
    "# plot_list = [atp_synthase_b_protein_id, atp_synthase_f_protein_id]\n",
    "# plot_str = ['atp synthase bound', 'atp synthase free']\n",
    "for i,item in enumerate(plot_list):\n",
    "    p_w_atp.line(timepoints, results[item], line_width = 2, legend_label = plot_str[i], color = palette[i])\n",
    "    \n",
    "\n",
    "# PLOT WITHOUT ATP SYNTHASE\n",
    "p_no_atp = bokeh.plotting.figure(width = 450, height = 350, title = 'with ATP Use',\n",
    "                          x_axis_label = 'time',\n",
    "                          y_axis_label = 'concentration')\n",
    "p_no_atp.line(timepoints, results2[ATP_id2], line_width = 2, legend_label = 'atp', color = palette[0])\n",
    "\n",
    "\n",
    "p_w_atp.legend.location = 'bottom_right'\n",
    "    \n",
    "bokeh.io.show(row(p_w_atp, p_no_atp))\n",
    "\n"
   ]
  },
  {
   "cell_type": "markdown",
   "metadata": {},
   "source": [
    "Nice we see that there's just a lower steady state when we add atp use, as expected"
   ]
  },
  {
   "cell_type": "markdown",
   "metadata": {},
   "source": [
    "But how come it's staying regenerated for ever. Once there's no more outside H, no flow in of protons so no ATP synthesis via atp synthase. But atp should still be used by the atp_use subsbml so why isn't atp degrading?"
   ]
  },
  {
   "cell_type": "markdown",
   "metadata": {},
   "source": [
    "We need to get it to say, once there is 1 atp synthase, something happens."
   ]
  },
  {
   "cell_type": "markdown",
   "metadata": {},
   "source": [
    "For the 'SBML for ATP synthesis via ATP synthase membrane protein' we need to include ATP synthase!!"
   ]
  },
  {
   "cell_type": "markdown",
   "metadata": {},
   "source": [
    "## Assemble SUbSBmls for Proton Pump\n",
    "---"
   ]
  },
  {
   "cell_type": "code",
   "execution_count": 76,
   "metadata": {},
   "outputs": [],
   "source": [
    "#ss5_pp_txtl = createSubsystem('proton_pump_tx_tl.xml', subsystemName = 'pp_txtl')\n",
    "ss5_pp_txtl = createSubsystem('proton_pump_simple_txtl.xml', subsystemName = 'pp_txtl')\n",
    "ss6_pp_mi = createSubsystem('proton_pump_membrane_integration.xml', subsystemName = 'pp_mi')\n",
    "ss7_protontransport = createSubsystem('proton_transport_through_proton_pump.xml', subsystemName = 'protontransport')"
   ]
  },
  {
   "cell_type": "code",
   "execution_count": 77,
   "metadata": {},
   "outputs": [],
   "source": [
    "pp_subsystem = ss5_pp_txtl + ss6_pp_mi + ss7_protontransport"
   ]
  },
  {
   "cell_type": "code",
   "execution_count": 79,
   "metadata": {},
   "outputs": [],
   "source": [
    "# Initial conditions\n",
    "spec_list_10 = ['dna_proton_pump', 'proton_outside_H', 'metabolite_atp']\n",
    "for i,spec in enumerate(spec_list_10):\n",
    "    pp_subsystem.setSpeciesAmount(spec,10)\n",
    "\n",
    "\n",
    "# timepoints and get results\n",
    "timepoints = np.linspace(0,100,100)\n",
    "results, _ = pp_subsystem.simulateWithBioscrape(timepoints, sbml_warnings = False)\n",
    "\n",
    "# Get species IDs\n",
    "ATP_id = pp_subsystem.getSpeciesByName('metabolite_atp').getId()\n",
    "ADP_id = pp_subsystem.getSpeciesByName('metabolite_adp').getId()\n",
    "\n",
    "outside_H_id = pp_subsystem.getSpeciesByName('proton_outside_H').getId()\n",
    "inside_H_id = pp_subsystem.getSpeciesByName('proton_inside_H').getId()\n",
    "proton_pump_b_protein_id = pp_subsystem.getSpeciesByName('protein_proton_pump_b').getId()\n",
    "proton_pump_f_protein_id = pp_subsystem.getSpeciesByName('protein_proton_pump').getId()"
   ]
  },
  {
   "cell_type": "code",
   "execution_count": 80,
   "metadata": {},
   "outputs": [
    {
     "data": {
      "text/plain": [
       "0      0.000000\n",
       "1      0.821687\n",
       "2      3.287915\n",
       "3      5.835647\n",
       "4      7.677573\n",
       "        ...    \n",
       "95    10.000000\n",
       "96    10.000000\n",
       "97    10.000000\n",
       "98    10.000000\n",
       "99    10.000000\n",
       "Name: protein_proton_pump_b_pp_mibiocrnpyler_865448, Length: 100, dtype: float64"
      ]
     },
     "execution_count": 80,
     "metadata": {},
     "output_type": "execute_result"
    }
   ],
   "source": [
    "results[proton_pump_b_protein_id]"
   ]
  },
  {
   "cell_type": "code",
   "execution_count": 81,
   "metadata": {},
   "outputs": [],
   "source": [
    "# timepoints = np.linspace(0,10,100)\n",
    "# results2, _ = pp_subsystem.simulateWithBioscrape(timepoints, sbml_warnings = False)"
   ]
  },
  {
   "cell_type": "code",
   "execution_count": 82,
   "metadata": {},
   "outputs": [
    {
     "data": {
      "text/html": [
       "\n",
       "\n",
       "\n",
       "\n",
       "\n",
       "\n",
       "  <div class=\"bk-root\" id=\"456ae5e2-ba4e-45ff-82a9-e671b0ecede2\" data-root-id=\"13720\"></div>\n"
      ]
     },
     "metadata": {},
     "output_type": "display_data"
    },
    {
     "data": {
      "application/javascript": [
       "(function(root) {\n",
       "  function embed_document(root) {\n",
       "    \n",
       "  var docs_json = {\"da1cc64e-1ea5-48c3-9bca-4f127e02d685\":{\"roots\":{\"references\":[{\"attributes\":{\"below\":[{\"id\":\"13729\",\"type\":\"LinearAxis\"}],\"center\":[{\"id\":\"13733\",\"type\":\"Grid\"},{\"id\":\"13738\",\"type\":\"Grid\"},{\"id\":\"13764\",\"type\":\"Legend\"}],\"left\":[{\"id\":\"13734\",\"type\":\"LinearAxis\"}],\"plot_height\":350,\"plot_width\":450,\"renderers\":[{\"id\":\"13755\",\"type\":\"GlyphRenderer\"},{\"id\":\"13769\",\"type\":\"GlyphRenderer\"},{\"id\":\"13784\",\"type\":\"GlyphRenderer\"},{\"id\":\"13801\",\"type\":\"GlyphRenderer\"}],\"title\":{\"id\":\"13758\",\"type\":\"Title\"},\"toolbar\":{\"id\":\"13745\",\"type\":\"Toolbar\"},\"x_range\":{\"id\":\"13721\",\"type\":\"DataRange1d\"},\"x_scale\":{\"id\":\"13725\",\"type\":\"LinearScale\"},\"y_range\":{\"id\":\"13723\",\"type\":\"DataRange1d\"},\"y_scale\":{\"id\":\"13727\",\"type\":\"LinearScale\"}},\"id\":\"13720\",\"subtype\":\"Figure\",\"type\":\"Plot\"},{\"attributes\":{\"formatter\":{\"id\":\"13761\",\"type\":\"BasicTickFormatter\"},\"ticker\":{\"id\":\"13735\",\"type\":\"BasicTicker\"}},\"id\":\"13734\",\"type\":\"LinearAxis\"},{\"attributes\":{},\"id\":\"13759\",\"type\":\"BasicTickFormatter\"},{\"attributes\":{},\"id\":\"13742\",\"type\":\"SaveTool\"},{\"attributes\":{},\"id\":\"13730\",\"type\":\"BasicTicker\"},{\"attributes\":{},\"id\":\"13779\",\"type\":\"Selection\"},{\"attributes\":{},\"id\":\"13778\",\"type\":\"UnionRenderers\"},{\"attributes\":{\"formatter\":{\"id\":\"13759\",\"type\":\"BasicTickFormatter\"},\"ticker\":{\"id\":\"13730\",\"type\":\"BasicTicker\"}},\"id\":\"13729\",\"type\":\"LinearAxis\"},{\"attributes\":{},\"id\":\"13795\",\"type\":\"UnionRenderers\"},{\"attributes\":{},\"id\":\"13744\",\"type\":\"HelpTool\"},{\"attributes\":{},\"id\":\"13743\",\"type\":\"ResetTool\"},{\"attributes\":{\"source\":{\"id\":\"13766\",\"type\":\"ColumnDataSource\"}},\"id\":\"13770\",\"type\":\"CDSView\"},{\"attributes\":{\"callback\":null,\"data\":{\"x\":{\"__ndarray__\":\"AAAAAAAAAAB/pUCtXynwP3+lQK1fKQBAPvjggw8+CEB/pUCtXykQQN/OkJi3MxRAPvjggw8+GECeITFvZ0gcQH+lQK1fKSBAL7rooosuIkDfzpCYtzMkQI/jOI7jOCZAPvjggw8+KEDuDIl5O0MqQJ4hMW9nSCxATjbZZJNNLkB/pUCtXykwQNevFKj1KzFAL7rooosuMkCHxLydITEzQN/OkJi3MzRAN9lkk002NUCP4ziO4zg2QOftDIl5OzdAPvjggw8+OECWArV+pUA5QO4MiXk7QzpARhdddNFFO0CeITFvZ0g8QPYrBWr9Sj1ATjbZZJNNPkCmQK1fKVA/QH+lQK1fKUBAq6qqqqqqQEDXrxSo9StBQAO1fqVArUFAL7rooosuQkBbv1Kg1q9CQIfEvJ0hMUNAs8kmm2yyQ0DfzpCYtzNEQAvU+pUCtURAN9lkk002RUBj3s6QmLdFQI/jOI7jOEZAu+iiiy66RkDn7QyJeTtHQBPzdobEvEdAPvjggw8+SEBq/UqBWr9IQJYCtX6lQElAwgcffPDBSUDuDIl5O0NKQBoS83aGxEpARhdddNFFS0ByHMdxHMdLQJ4hMW9nSExAyiabbLLJTED2KwVq/UpNQCIxb2dIzE1ATjbZZJNNTkB6O0Ni3s5OQKZArV8pUE9A0kUXXXTRT0B/pUCtXylQQBWo9SsFalBAq6qqqqqqUEBBrV8pUOtQQNevFKj1K1FAbbLJJptsUUADtX6lQK1RQJm3MyTm7VFAL7rooosuUkDFvJ0hMW9SQFu/UqDWr1JA8cEHH3zwUkCHxLydITFTQB3HcRzHcVNAs8kmm2yyU0BJzNsZEvNTQN/OkJi3M1RAddFFF110VEAL1PqVArVUQKHWrxSo9VRAN9lkk002VUDN2xkS83ZVQGPezpCYt1VA+eCDDz74VUCP4ziO4zhWQCXm7QyJeVZAu+iiiy66VkBR61cK1PpWQOftDIl5O1dAffDBBx98V0AT83aGxLxXQKn1KwVq/VdAPvjggw8+WEDU+pUCtX5YQGr9SoFav1hAAAAAAAAAWUA=\",\"dtype\":\"float64\",\"shape\":[100]},\"y\":{\"__ndarray__\":\"AAAAAAAAAABuEZUTQ0vqP9FiBFWmTQpAtxIZwLNXF0CzwCO11bUeQLNhkMU7lyFABVxWy0nQIkDLynpQJnAjQIbo7JbjvSNAR8ZfTlbiI0AjKOrN8vIjQMFjj4tZ+iNARnHtT5b9I0BPjzhK+/4jQJER0hCT/yNALF3Z4dL/I0BDLih17f8jQNOzdm74/yNAYNbz7fz/I0D8QebC/v8jQPA3uYD//yNAoncozf//I0DZbMTr//8jQJJv9vf//yNA7rTM/P//I0DDNcT+//8jQBhMh////yNAPZbO////I0AAx+v///8jQNba9////yNA2rf8////I0DfhwAAAAAkQJedAgAAACRAHMICAAAAJEDoOwIAAAAkQBheAgAAACRACgICAAAAJECeLQEAAAAkQIfqAAAAACRAcKcAAAAAJEBYZAAAAAAkQMVFAAAAACRAxUMAAAAAJEDGQQAAAAAkQMc/AAAAACRAyD0AAAAAJEDJOwAAAAAkQMo5AAAAACRAyzcAAAAAJEDMNQAAAAAkQMwzAAAAACRAzTEAAAAAJEDOLwAAAAAkQM8tAAAAACRA0CsAAAAAJEDRKQAAAAAkQNInAAAAACRA0iUAAAAAJEDTIwAAAAAkQNQhAAAAACRA1R8AAAAAJEDWHQAAAAAkQNcbAAAAACRA2BkAAAAAJEDZFwAAAAAkQNkVAAAAACRA2hMAAAAAJEDbEQAAAAAkQNwPAAAAACRA3Q0AAAAAJEDeCwAAAAAkQN8JAAAAACRA4AcAAAAAJEDgBQAAAAAkQOEDAAAAACRAFwIAAAAAJEAIAgAAAAAkQPkBAAAAACRA6gEAAAAAJEDbAQAAAAAkQMsBAAAAACRAvAEAAAAAJECtAQAAAAAkQJ4BAAAAACRAjwEAAAAAJECAAQAAAAAkQHABAAAAACRAYQEAAAAAJEBSAQAAAAAkQEMBAAAAACRANAEAAAAAJEAlAQAAAAAkQBUBAAAAACRABgEAAAAAJED3AAAAAAAkQOgAAAAAACRA2QAAAAAAJEDJAAAAAAAkQLoAAAAAACRAqwAAAAAAJEA=\",\"dtype\":\"float64\",\"shape\":[100]}},\"selected\":{\"id\":\"14363\",\"type\":\"Selection\"},\"selection_policy\":{\"id\":\"14362\",\"type\":\"UnionRenderers\"}},\"id\":\"13798\",\"type\":\"ColumnDataSource\"},{\"attributes\":{\"line_color\":\"#2ba02b\",\"line_width\":2,\"x\":{\"field\":\"x\"},\"y\":{\"field\":\"y\"}},\"id\":\"13782\",\"type\":\"Line\"},{\"attributes\":{\"active_drag\":\"auto\",\"active_inspect\":\"auto\",\"active_multi\":null,\"active_scroll\":\"auto\",\"active_tap\":\"auto\",\"tools\":[{\"id\":\"13739\",\"type\":\"PanTool\"},{\"id\":\"13740\",\"type\":\"WheelZoomTool\"},{\"id\":\"13741\",\"type\":\"BoxZoomTool\"},{\"id\":\"13742\",\"type\":\"SaveTool\"},{\"id\":\"13743\",\"type\":\"ResetTool\"},{\"id\":\"13744\",\"type\":\"HelpTool\"}]},\"id\":\"13745\",\"type\":\"Toolbar\"},{\"attributes\":{\"label\":{\"value\":\"outside_H\"},\"renderers\":[{\"id\":\"13769\",\"type\":\"GlyphRenderer\"}]},\"id\":\"13780\",\"type\":\"LegendItem\"},{\"attributes\":{\"line_color\":\"#9367bc\",\"line_width\":2,\"x\":{\"field\":\"x\"},\"y\":{\"field\":\"y\"}},\"id\":\"13799\",\"type\":\"Line\"},{\"attributes\":{\"data_source\":{\"id\":\"13781\",\"type\":\"ColumnDataSource\"},\"glyph\":{\"id\":\"13782\",\"type\":\"Line\"},\"hover_glyph\":null,\"muted_glyph\":null,\"nonselection_glyph\":{\"id\":\"13783\",\"type\":\"Line\"},\"selection_glyph\":null,\"view\":{\"id\":\"13785\",\"type\":\"CDSView\"}},\"id\":\"13784\",\"type\":\"GlyphRenderer\"},{\"attributes\":{\"line_color\":\"#ff7e0e\",\"line_width\":2,\"x\":{\"field\":\"x\"},\"y\":{\"field\":\"y\"}},\"id\":\"13767\",\"type\":\"Line\"},{\"attributes\":{},\"id\":\"13814\",\"type\":\"UnionRenderers\"},{\"attributes\":{},\"id\":\"13727\",\"type\":\"LinearScale\"},{\"attributes\":{\"line_color\":\"#1f77b3\",\"line_width\":2,\"x\":{\"field\":\"x\"},\"y\":{\"field\":\"y\"}},\"id\":\"13753\",\"type\":\"Line\"},{\"attributes\":{},\"id\":\"14363\",\"type\":\"Selection\"},{\"attributes\":{},\"id\":\"13740\",\"type\":\"WheelZoomTool\"},{\"attributes\":{\"line_alpha\":0.1,\"line_color\":\"#1f77b4\",\"line_width\":2,\"x\":{\"field\":\"x\"},\"y\":{\"field\":\"y\"}},\"id\":\"13783\",\"type\":\"Line\"},{\"attributes\":{\"label\":{\"value\":\"inside_H\"},\"renderers\":[{\"id\":\"13784\",\"type\":\"GlyphRenderer\"}]},\"id\":\"13797\",\"type\":\"LegendItem\"},{\"attributes\":{\"source\":{\"id\":\"13752\",\"type\":\"ColumnDataSource\"}},\"id\":\"13756\",\"type\":\"CDSView\"},{\"attributes\":{\"line_alpha\":0.1,\"line_color\":\"#1f77b4\",\"line_width\":2,\"x\":{\"field\":\"x\"},\"y\":{\"field\":\"y\"}},\"id\":\"13754\",\"type\":\"Line\"},{\"attributes\":{},\"id\":\"13725\",\"type\":\"LinearScale\"},{\"attributes\":{},\"id\":\"14362\",\"type\":\"UnionRenderers\"},{\"attributes\":{},\"id\":\"13739\",\"type\":\"PanTool\"},{\"attributes\":{},\"id\":\"13796\",\"type\":\"Selection\"},{\"attributes\":{},\"id\":\"13761\",\"type\":\"BasicTickFormatter\"},{\"attributes\":{\"line_alpha\":0.1,\"line_color\":\"#1f77b4\",\"line_width\":2,\"x\":{\"field\":\"x\"},\"y\":{\"field\":\"y\"}},\"id\":\"13768\",\"type\":\"Line\"},{\"attributes\":{\"callback\":null},\"id\":\"13723\",\"type\":\"DataRange1d\"},{\"attributes\":{\"source\":{\"id\":\"13781\",\"type\":\"ColumnDataSource\"}},\"id\":\"13785\",\"type\":\"CDSView\"},{\"attributes\":{\"line_alpha\":0.1,\"line_color\":\"#1f77b4\",\"line_width\":2,\"x\":{\"field\":\"x\"},\"y\":{\"field\":\"y\"}},\"id\":\"13800\",\"type\":\"Line\"},{\"attributes\":{\"data_source\":{\"id\":\"13798\",\"type\":\"ColumnDataSource\"},\"glyph\":{\"id\":\"13799\",\"type\":\"Line\"},\"hover_glyph\":null,\"muted_glyph\":null,\"nonselection_glyph\":{\"id\":\"13800\",\"type\":\"Line\"},\"selection_glyph\":null,\"view\":{\"id\":\"13802\",\"type\":\"CDSView\"}},\"id\":\"13801\",\"type\":\"GlyphRenderer\"},{\"attributes\":{\"overlay\":{\"id\":\"13763\",\"type\":\"BoxAnnotation\"}},\"id\":\"13741\",\"type\":\"BoxZoomTool\"},{\"attributes\":{\"label\":{\"value\":\"bound proton pump\"},\"renderers\":[{\"id\":\"13801\",\"type\":\"GlyphRenderer\"}]},\"id\":\"13816\",\"type\":\"LegendItem\"},{\"attributes\":{\"data_source\":{\"id\":\"13766\",\"type\":\"ColumnDataSource\"},\"glyph\":{\"id\":\"13767\",\"type\":\"Line\"},\"hover_glyph\":null,\"muted_glyph\":null,\"nonselection_glyph\":{\"id\":\"13768\",\"type\":\"Line\"},\"selection_glyph\":null,\"view\":{\"id\":\"13770\",\"type\":\"CDSView\"}},\"id\":\"13769\",\"type\":\"GlyphRenderer\"},{\"attributes\":{},\"id\":\"13815\",\"type\":\"Selection\"},{\"attributes\":{\"click_policy\":\"hide\",\"items\":[{\"id\":\"13765\",\"type\":\"LegendItem\"},{\"id\":\"13780\",\"type\":\"LegendItem\"},{\"id\":\"13797\",\"type\":\"LegendItem\"},{\"id\":\"13816\",\"type\":\"LegendItem\"}]},\"id\":\"13764\",\"type\":\"Legend\"},{\"attributes\":{\"callback\":null,\"data\":{\"x\":{\"__ndarray__\":\"AAAAAAAAAAB/pUCtXynwP3+lQK1fKQBAPvjggw8+CEB/pUCtXykQQN/OkJi3MxRAPvjggw8+GECeITFvZ0gcQH+lQK1fKSBAL7rooosuIkDfzpCYtzMkQI/jOI7jOCZAPvjggw8+KEDuDIl5O0MqQJ4hMW9nSCxATjbZZJNNLkB/pUCtXykwQNevFKj1KzFAL7rooosuMkCHxLydITEzQN/OkJi3MzRAN9lkk002NUCP4ziO4zg2QOftDIl5OzdAPvjggw8+OECWArV+pUA5QO4MiXk7QzpARhdddNFFO0CeITFvZ0g8QPYrBWr9Sj1ATjbZZJNNPkCmQK1fKVA/QH+lQK1fKUBAq6qqqqqqQEDXrxSo9StBQAO1fqVArUFAL7rooosuQkBbv1Kg1q9CQIfEvJ0hMUNAs8kmm2yyQ0DfzpCYtzNEQAvU+pUCtURAN9lkk002RUBj3s6QmLdFQI/jOI7jOEZAu+iiiy66RkDn7QyJeTtHQBPzdobEvEdAPvjggw8+SEBq/UqBWr9IQJYCtX6lQElAwgcffPDBSUDuDIl5O0NKQBoS83aGxEpARhdddNFFS0ByHMdxHMdLQJ4hMW9nSExAyiabbLLJTED2KwVq/UpNQCIxb2dIzE1ATjbZZJNNTkB6O0Ni3s5OQKZArV8pUE9A0kUXXXTRT0B/pUCtXylQQBWo9SsFalBAq6qqqqqqUEBBrV8pUOtQQNevFKj1K1FAbbLJJptsUUADtX6lQK1RQJm3MyTm7VFAL7rooosuUkDFvJ0hMW9SQFu/UqDWr1JA8cEHH3zwUkCHxLydITFTQB3HcRzHcVNAs8kmm2yyU0BJzNsZEvNTQN/OkJi3M1RAddFFF110VEAL1PqVArVUQKHWrxSo9VRAN9lkk002VUDN2xkS83ZVQGPezpCYt1VA+eCDDz74VUCP4ziO4zhWQCXm7QyJeVZAu+iiiy66VkBR61cK1PpWQOftDIl5O1dAffDBBx98V0AT83aGxLxXQKn1KwVq/VdAPvjggw8+WEDU+pUCtX5YQGr9SoFav1hAAAAAAAAAWUA=\",\"dtype\":\"float64\",\"shape\":[100]},\"y\":{\"__ndarray__\":\"AAAAAAAAJEAAAAAAAAAkQAAAAAAAACRAAAAAAAAAJEAAAAAAAAAkQAAAAAAAACRAAAAAAAAAJEAAAAAAAAAkQAAAAAAAACRAAAAAAAAAJEAAAAAAAAAkQAAAAAAAACRAAAAAAAAAJEAAAAAAAAAkQAAAAAAAACRAAAAAAAAAJEAAAAAAAAAkQAAAAAAAACRAAAAAAAAAJEAAAAAAAAAkQAAAAAAAACRAAAAAAAAAJEAAAAAAAAAkQAAAAAAAACRAAAAAAAAAJEAAAAAAAAAkQAAAAAAAACRAAAAAAAAAJEAAAAAAAAAkQAAAAAAAACRAAAAAAAAAJEAAAAAAAAAkQAAAAAAAACRAAAAAAAAAJEAAAAAAAAAkQAAAAAAAACRAAAAAAAAAJEAAAAAAAAAkQAAAAAAAACRAAAAAAAAAJEAAAAAAAAAkQAAAAAAAACRAAAAAAAAAJEAAAAAAAAAkQAAAAAAAACRAAAAAAAAAJEAAAAAAAAAkQAAAAAAAACRAAAAAAAAAJEAAAAAAAAAkQAAAAAAAACRAAAAAAAAAJEAAAAAAAAAkQAAAAAAAACRAAAAAAAAAJEAAAAAAAAAkQAAAAAAAACRAAAAAAAAAJEAAAAAAAAAkQAAAAAAAACRAAAAAAAAAJEAAAAAAAAAkQAAAAAAAACRAAAAAAAAAJEAAAAAAAAAkQAAAAAAAACRAAAAAAAAAJEAAAAAAAAAkQAAAAAAAACRAAAAAAAAAJEAAAAAAAAAkQAAAAAAAACRAAAAAAAAAJEAAAAAAAAAkQAAAAAAAACRAAAAAAAAAJEAAAAAAAAAkQAAAAAAAACRAAAAAAAAAJEAAAAAAAAAkQAAAAAAAACRAAAAAAAAAJEAAAAAAAAAkQAAAAAAAACRAAAAAAAAAJEAAAAAAAAAkQAAAAAAAACRAAAAAAAAAJEAAAAAAAAAkQAAAAAAAACRAAAAAAAAAJEAAAAAAAAAkQAAAAAAAACRAAAAAAAAAJEAAAAAAAAAkQAAAAAAAACRAAAAAAAAAJEAAAAAAAAAkQAAAAAAAACRAAAAAAAAAJEA=\",\"dtype\":\"float64\",\"shape\":[100]}},\"selected\":{\"id\":\"13779\",\"type\":\"Selection\"},\"selection_policy\":{\"id\":\"13778\",\"type\":\"UnionRenderers\"}},\"id\":\"13752\",\"type\":\"ColumnDataSource\"},{\"attributes\":{\"label\":{\"value\":\"atp\"},\"renderers\":[{\"id\":\"13755\",\"type\":\"GlyphRenderer\"}]},\"id\":\"13765\",\"type\":\"LegendItem\"},{\"attributes\":{\"callback\":null,\"data\":{\"x\":{\"__ndarray__\":\"AAAAAAAAAAB/pUCtXynwP3+lQK1fKQBAPvjggw8+CEB/pUCtXykQQN/OkJi3MxRAPvjggw8+GECeITFvZ0gcQH+lQK1fKSBAL7rooosuIkDfzpCYtzMkQI/jOI7jOCZAPvjggw8+KEDuDIl5O0MqQJ4hMW9nSCxATjbZZJNNLkB/pUCtXykwQNevFKj1KzFAL7rooosuMkCHxLydITEzQN/OkJi3MzRAN9lkk002NUCP4ziO4zg2QOftDIl5OzdAPvjggw8+OECWArV+pUA5QO4MiXk7QzpARhdddNFFO0CeITFvZ0g8QPYrBWr9Sj1ATjbZZJNNPkCmQK1fKVA/QH+lQK1fKUBAq6qqqqqqQEDXrxSo9StBQAO1fqVArUFAL7rooosuQkBbv1Kg1q9CQIfEvJ0hMUNAs8kmm2yyQ0DfzpCYtzNEQAvU+pUCtURAN9lkk002RUBj3s6QmLdFQI/jOI7jOEZAu+iiiy66RkDn7QyJeTtHQBPzdobEvEdAPvjggw8+SEBq/UqBWr9IQJYCtX6lQElAwgcffPDBSUDuDIl5O0NKQBoS83aGxEpARhdddNFFS0ByHMdxHMdLQJ4hMW9nSExAyiabbLLJTED2KwVq/UpNQCIxb2dIzE1ATjbZZJNNTkB6O0Ni3s5OQKZArV8pUE9A0kUXXXTRT0B/pUCtXylQQBWo9SsFalBAq6qqqqqqUEBBrV8pUOtQQNevFKj1K1FAbbLJJptsUUADtX6lQK1RQJm3MyTm7VFAL7rooosuUkDFvJ0hMW9SQFu/UqDWr1JA8cEHH3zwUkCHxLydITFTQB3HcRzHcVNAs8kmm2yyU0BJzNsZEvNTQN/OkJi3M1RAddFFF110VEAL1PqVArVUQKHWrxSo9VRAN9lkk002VUDN2xkS83ZVQGPezpCYt1VA+eCDDz74VUCP4ziO4zhWQCXm7QyJeVZAu+iiiy66VkBR61cK1PpWQOftDIl5O1dAffDBBx98V0AT83aGxLxXQKn1KwVq/VdAPvjggw8+WEDU+pUCtX5YQGr9SoFav1hAAAAAAAAAWUA=\",\"dtype\":\"float64\",\"shape\":[100]},\"y\":{\"__ndarray__\":\"AAAAAAAAAAAAAAAAAAAAAAAAAAAAAAAAAAAAAAAAAAAAAAAAAAAAAAAAAAAAAAAAAAAAAAAAAAAAAAAAAAAAAAAAAAAAAAAAAAAAAAAAAAAAAAAAAAAAAAAAAAAAAAAAAAAAAAAAAAAAAAAAAAAAAAAAAAAAAAAAAAAAAAAAAAAAAAAAAAAAAAAAAAAAAAAAAAAAAAAAAAAAAAAAAAAAAAAAAAAAAAAAAAAAAAAAAAAAAAAAAAAAAAAAAAAAAAAAAAAAAAAAAAAAAAAAAAAAAAAAAAAAAAAAAAAAAAAAAAAAAAAAAAAAAAAAAAAAAAAAAAAAAAAAAAAAAAAAAAAAAAAAAAAAAAAAAAAAAAAAAAAAAAAAAAAAAAAAAAAAAAAAAAAAAAAAAAAAAAAAAAAAAAAAAAAAAAAAAAAAAAAAAAAAAAAAAAAAAAAAAAAAAAAAAAAAAAAAAAAAAAAAAAAAAAAAAAAAAAAAAAAAAAAAAAAAAAAAAAAAAAAAAAAAAAAAAAAAAAAAAAAAAAAAAAAAAAAAAAAAAAAAAAAAAAAAAAAAAAAAAAAAAAAAAAAAAAAAAAAAAAAAAAAAAAAAAAAAAAAAAAAAAAAAAAAAAAAAAAAAAAAAAAAAAAAAAAAAAAAAAAAAAAAAAAAAAAAAAAAAAAAAAAAAAAAAAAAAAAAAAAAAAAAAAAAAAAAAAAAAAAAAAAAAAAAAAAAAAAAAAAAAAAAAAAAAAAAAAAAAAAAAAAAAAAAAAAAAAAAAAAAAAAAAAAAAAAAAAAAAAAAAAAAAAAAAAAAAAAAAAAAAAAAAAAAAAAAAAAAAAAAAAAAAAAAAAAAAAAAAAAAAAAAAAAAAAAAAAAAAAAAAAAAAAAAAAAAAAAAAAAAAAAAAAAAAAAAAAAAAAAAAAAAAAAAAAAAAAAAAAAAAAAAAAAAAAAAAAAAAAAAAAAAAAAAAAAAAAAAAAAAAAAAAAAAAAAAAAAAAAAAAAAAAAAAAAAAAAAAAAAAAAAAAAAAAAAAAAAAAAAAAAAAAAAAAAAAAAAAAAAAAAAAAAAAAAAAAAAAAAAAAAAA=\",\"dtype\":\"float64\",\"shape\":[100]}},\"selected\":{\"id\":\"13815\",\"type\":\"Selection\"},\"selection_policy\":{\"id\":\"13814\",\"type\":\"UnionRenderers\"}},\"id\":\"13781\",\"type\":\"ColumnDataSource\"},{\"attributes\":{\"text\":\"\"},\"id\":\"13758\",\"type\":\"Title\"},{\"attributes\":{\"data_source\":{\"id\":\"13752\",\"type\":\"ColumnDataSource\"},\"glyph\":{\"id\":\"13753\",\"type\":\"Line\"},\"hover_glyph\":null,\"muted_glyph\":null,\"nonselection_glyph\":{\"id\":\"13754\",\"type\":\"Line\"},\"selection_glyph\":null,\"view\":{\"id\":\"13756\",\"type\":\"CDSView\"}},\"id\":\"13755\",\"type\":\"GlyphRenderer\"},{\"attributes\":{},\"id\":\"13735\",\"type\":\"BasicTicker\"},{\"attributes\":{\"bottom_units\":\"screen\",\"fill_alpha\":{\"value\":0.5},\"fill_color\":{\"value\":\"lightgrey\"},\"left_units\":\"screen\",\"level\":\"overlay\",\"line_alpha\":{\"value\":1.0},\"line_color\":{\"value\":\"black\"},\"line_dash\":[4,4],\"line_width\":{\"value\":2},\"render_mode\":\"css\",\"right_units\":\"screen\",\"top_units\":\"screen\"},\"id\":\"13763\",\"type\":\"BoxAnnotation\"},{\"attributes\":{\"callback\":null},\"id\":\"13721\",\"type\":\"DataRange1d\"},{\"attributes\":{\"dimension\":1,\"ticker\":{\"id\":\"13735\",\"type\":\"BasicTicker\"}},\"id\":\"13738\",\"type\":\"Grid\"},{\"attributes\":{\"source\":{\"id\":\"13798\",\"type\":\"ColumnDataSource\"}},\"id\":\"13802\",\"type\":\"CDSView\"},{\"attributes\":{\"callback\":null,\"data\":{\"x\":{\"__ndarray__\":\"AAAAAAAAAAB/pUCtXynwP3+lQK1fKQBAPvjggw8+CEB/pUCtXykQQN/OkJi3MxRAPvjggw8+GECeITFvZ0gcQH+lQK1fKSBAL7rooosuIkDfzpCYtzMkQI/jOI7jOCZAPvjggw8+KEDuDIl5O0MqQJ4hMW9nSCxATjbZZJNNLkB/pUCtXykwQNevFKj1KzFAL7rooosuMkCHxLydITEzQN/OkJi3MzRAN9lkk002NUCP4ziO4zg2QOftDIl5OzdAPvjggw8+OECWArV+pUA5QO4MiXk7QzpARhdddNFFO0CeITFvZ0g8QPYrBWr9Sj1ATjbZZJNNPkCmQK1fKVA/QH+lQK1fKUBAq6qqqqqqQEDXrxSo9StBQAO1fqVArUFAL7rooosuQkBbv1Kg1q9CQIfEvJ0hMUNAs8kmm2yyQ0DfzpCYtzNEQAvU+pUCtURAN9lkk002RUBj3s6QmLdFQI/jOI7jOEZAu+iiiy66RkDn7QyJeTtHQBPzdobEvEdAPvjggw8+SEBq/UqBWr9IQJYCtX6lQElAwgcffPDBSUDuDIl5O0NKQBoS83aGxEpARhdddNFFS0ByHMdxHMdLQJ4hMW9nSExAyiabbLLJTED2KwVq/UpNQCIxb2dIzE1ATjbZZJNNTkB6O0Ni3s5OQKZArV8pUE9A0kUXXXTRT0B/pUCtXylQQBWo9SsFalBAq6qqqqqqUEBBrV8pUOtQQNevFKj1K1FAbbLJJptsUUADtX6lQK1RQJm3MyTm7VFAL7rooosuUkDFvJ0hMW9SQFu/UqDWr1JA8cEHH3zwUkCHxLydITFTQB3HcRzHcVNAs8kmm2yyU0BJzNsZEvNTQN/OkJi3M1RAddFFF110VEAL1PqVArVUQKHWrxSo9VRAN9lkk002VUDN2xkS83ZVQGPezpCYt1VA+eCDDz74VUCP4ziO4zhWQCXm7QyJeVZAu+iiiy66VkBR61cK1PpWQOftDIl5O1dAffDBBx98V0AT83aGxLxXQKn1KwVq/VdAPvjggw8+WEDU+pUCtX5YQGr9SoFav1hAAAAAAAAAWUA=\",\"dtype\":\"float64\",\"shape\":[100]},\"y\":{\"__ndarray__\":\"AAAAAAAAJEAAAAAAAAAkQAAAAAAAACRAAAAAAAAAJEAAAAAAAAAkQAAAAAAAACRAAAAAAAAAJEAAAAAAAAAkQAAAAAAAACRAAAAAAAAAJEAAAAAAAAAkQAAAAAAAACRAAAAAAAAAJEAAAAAAAAAkQAAAAAAAACRAAAAAAAAAJEAAAAAAAAAkQAAAAAAAACRAAAAAAAAAJEAAAAAAAAAkQAAAAAAAACRAAAAAAAAAJEAAAAAAAAAkQAAAAAAAACRAAAAAAAAAJEAAAAAAAAAkQAAAAAAAACRAAAAAAAAAJEAAAAAAAAAkQAAAAAAAACRAAAAAAAAAJEAAAAAAAAAkQAAAAAAAACRAAAAAAAAAJEAAAAAAAAAkQAAAAAAAACRAAAAAAAAAJEAAAAAAAAAkQAAAAAAAACRAAAAAAAAAJEAAAAAAAAAkQAAAAAAAACRAAAAAAAAAJEAAAAAAAAAkQAAAAAAAACRAAAAAAAAAJEAAAAAAAAAkQAAAAAAAACRAAAAAAAAAJEAAAAAAAAAkQAAAAAAAACRAAAAAAAAAJEAAAAAAAAAkQAAAAAAAACRAAAAAAAAAJEAAAAAAAAAkQAAAAAAAACRAAAAAAAAAJEAAAAAAAAAkQAAAAAAAACRAAAAAAAAAJEAAAAAAAAAkQAAAAAAAACRAAAAAAAAAJEAAAAAAAAAkQAAAAAAAACRAAAAAAAAAJEAAAAAAAAAkQAAAAAAAACRAAAAAAAAAJEAAAAAAAAAkQAAAAAAAACRAAAAAAAAAJEAAAAAAAAAkQAAAAAAAACRAAAAAAAAAJEAAAAAAAAAkQAAAAAAAACRAAAAAAAAAJEAAAAAAAAAkQAAAAAAAACRAAAAAAAAAJEAAAAAAAAAkQAAAAAAAACRAAAAAAAAAJEAAAAAAAAAkQAAAAAAAACRAAAAAAAAAJEAAAAAAAAAkQAAAAAAAACRAAAAAAAAAJEAAAAAAAAAkQAAAAAAAACRAAAAAAAAAJEAAAAAAAAAkQAAAAAAAACRAAAAAAAAAJEAAAAAAAAAkQAAAAAAAACRAAAAAAAAAJEA=\",\"dtype\":\"float64\",\"shape\":[100]}},\"selected\":{\"id\":\"13796\",\"type\":\"Selection\"},\"selection_policy\":{\"id\":\"13795\",\"type\":\"UnionRenderers\"}},\"id\":\"13766\",\"type\":\"ColumnDataSource\"},{\"attributes\":{\"ticker\":{\"id\":\"13730\",\"type\":\"BasicTicker\"}},\"id\":\"13733\",\"type\":\"Grid\"}],\"root_ids\":[\"13720\"]},\"title\":\"Bokeh Application\",\"version\":\"1.4.0\"}};\n",
       "  var render_items = [{\"docid\":\"da1cc64e-1ea5-48c3-9bca-4f127e02d685\",\"roots\":{\"13720\":\"456ae5e2-ba4e-45ff-82a9-e671b0ecede2\"}}];\n",
       "  root.Bokeh.embed.embed_items_notebook(docs_json, render_items);\n",
       "\n",
       "  }\n",
       "  if (root.Bokeh !== undefined) {\n",
       "    embed_document(root);\n",
       "  } else {\n",
       "    var attempts = 0;\n",
       "    var timer = setInterval(function(root) {\n",
       "      if (root.Bokeh !== undefined) {\n",
       "        clearInterval(timer);\n",
       "        embed_document(root);\n",
       "      } else {\n",
       "        attempts++;\n",
       "        if (attempts > 100) {\n",
       "          clearInterval(timer);\n",
       "          console.log(\"Bokeh: ERROR: Unable to run BokehJS code because BokehJS library is missing\");\n",
       "        }\n",
       "      }\n",
       "    }, 10, root)\n",
       "  }\n",
       "})(window);"
      ],
      "application/vnd.bokehjs_exec.v0+json": ""
     },
     "metadata": {
      "application/vnd.bokehjs_exec.v0+json": {
       "id": "13720"
      }
     },
     "output_type": "display_data"
    }
   ],
   "source": [
    "p_pp = bokeh.plotting.figure(width = 450, height = 350)\n",
    "plot_list = [ATP_id, outside_H_id, inside_H_id, proton_pump_b_protein_id]\n",
    "plot_str = ['atp', 'outside_H', 'inside_H', 'bound proton pump']\n",
    "for i,item in enumerate(plot_list):\n",
    "    p_pp.line(timepoints, results[item], line_width = 2, legend_label = plot_str[i], color = palette[i])\n",
    "    \n",
    "p_pp.legend.click_policy = 'hide'\n",
    "bokeh.io.show(p_pp)"
   ]
  },
  {
   "cell_type": "markdown",
   "metadata": {},
   "source": [
    "## Combine ATP Synthase, ATP Use, and Proton pump\n",
    "---"
   ]
  },
  {
   "cell_type": "code",
   "execution_count": 83,
   "metadata": {},
   "outputs": [],
   "source": [
    "entire_subsystem = ss1_atpsyn_txtl + ss2_atpsyn_mi + ss3_atpsynthesis + ss4_atp_use + ss5_pp_txtl + ss6_pp_mi + ss7_protontransport"
   ]
  },
  {
   "cell_type": "code",
   "execution_count": 85,
   "metadata": {},
   "outputs": [],
   "source": [
    "# Initial conditions\n",
    "spec_list_10 = ['dna_proton_pump', 'dna_atpsyn','proton_outside_H', 'metabolite_atp']\n",
    "for i,spec in enumerate(spec_list_10):\n",
    "    entire_subsystem.setSpeciesAmount(spec,10)\n",
    "\n",
    "\n",
    "# timepoints and get results\n",
    "timepoints = np.linspace(0,10,100)\n",
    "results, _ = entire_subsystem.simulateWithBioscrape(timepoints, sbml_warnings = False)\n",
    "\n",
    "# Get species IDs\n",
    "ATP_id = entire_subsystem.getSpeciesByName('metabolite_atp').getId()\n",
    "ADP_id = entire_subsystem.getSpeciesByName('metabolite_adp').getId()\n",
    "\n",
    "outside_H_id = entire_subsystem.getSpeciesByName('proton_outside_H').getId()\n",
    "inside_H_id = entire_subsystem.getSpeciesByName('proton_inside_H').getId()\n",
    "proton_pump_b_protein_id = entire_subsystem.getSpeciesByName('protein_proton_pump_b').getId()\n",
    "proton_pump_f_protein_id = entire_subsystem.getSpeciesByName('protein_proton_pump').getId()"
   ]
  },
  {
   "cell_type": "code",
   "execution_count": 86,
   "metadata": {},
   "outputs": [],
   "source": [
    "timepoints = np.linspace(0,10,100)\n",
    "results3, _ = entire_subsystem.simulateWithBioscrape(timepoints, sbml_warnings = False)"
   ]
  },
  {
   "cell_type": "code",
   "execution_count": 89,
   "metadata": {},
   "outputs": [
    {
     "data": {
      "text/html": [
       "\n",
       "\n",
       "\n",
       "\n",
       "\n",
       "\n",
       "  <div class=\"bk-root\" id=\"0f860695-64d2-4621-849d-1b38b462264f\" data-root-id=\"16008\"></div>\n"
      ]
     },
     "metadata": {},
     "output_type": "display_data"
    },
    {
     "data": {
      "application/javascript": [
       "(function(root) {\n",
       "  function embed_document(root) {\n",
       "    \n",
       "  var docs_json = {\"a8665fb8-1901-4ad9-9837-19d45d0b2e9c\":{\"roots\":{\"references\":[{\"attributes\":{\"below\":[{\"id\":\"16019\",\"type\":\"LinearAxis\"}],\"center\":[{\"id\":\"16023\",\"type\":\"Grid\"},{\"id\":\"16028\",\"type\":\"Grid\"},{\"id\":\"16053\",\"type\":\"Legend\"}],\"left\":[{\"id\":\"16024\",\"type\":\"LinearAxis\"}],\"plot_height\":350,\"plot_width\":450,\"renderers\":[{\"id\":\"16045\",\"type\":\"GlyphRenderer\"},{\"id\":\"16058\",\"type\":\"GlyphRenderer\"},{\"id\":\"16072\",\"type\":\"GlyphRenderer\"},{\"id\":\"16088\",\"type\":\"GlyphRenderer\"}],\"title\":{\"id\":\"16009\",\"type\":\"Title\"},\"toolbar\":{\"id\":\"16035\",\"type\":\"Toolbar\"},\"x_range\":{\"id\":\"16011\",\"type\":\"DataRange1d\"},\"x_scale\":{\"id\":\"16015\",\"type\":\"LinearScale\"},\"y_range\":{\"id\":\"16013\",\"type\":\"DataRange1d\"},\"y_scale\":{\"id\":\"16017\",\"type\":\"LinearScale\"}},\"id\":\"16008\",\"subtype\":\"Figure\",\"type\":\"Plot\"},{\"attributes\":{\"axis_label\":\"time\",\"formatter\":{\"id\":\"16048\",\"type\":\"BasicTickFormatter\"},\"ticker\":{\"id\":\"16020\",\"type\":\"BasicTicker\"}},\"id\":\"16019\",\"type\":\"LinearAxis\"},{\"attributes\":{\"active_drag\":\"auto\",\"active_inspect\":\"auto\",\"active_multi\":null,\"active_scroll\":\"auto\",\"active_tap\":\"auto\",\"tools\":[{\"id\":\"16029\",\"type\":\"PanTool\"},{\"id\":\"16030\",\"type\":\"WheelZoomTool\"},{\"id\":\"16031\",\"type\":\"BoxZoomTool\"},{\"id\":\"16032\",\"type\":\"SaveTool\"},{\"id\":\"16033\",\"type\":\"ResetTool\"},{\"id\":\"16034\",\"type\":\"HelpTool\"}]},\"id\":\"16035\",\"type\":\"Toolbar\"},{\"attributes\":{},\"id\":\"16029\",\"type\":\"PanTool\"},{\"attributes\":{\"line_alpha\":0.1,\"line_color\":\"#1f77b4\",\"line_width\":2,\"x\":{\"field\":\"x\"},\"y\":{\"field\":\"y\"}},\"id\":\"16071\",\"type\":\"Line\"},{\"attributes\":{\"data_source\":{\"id\":\"16069\",\"type\":\"ColumnDataSource\"},\"glyph\":{\"id\":\"16070\",\"type\":\"Line\"},\"hover_glyph\":null,\"muted_glyph\":null,\"nonselection_glyph\":{\"id\":\"16071\",\"type\":\"Line\"},\"selection_glyph\":null,\"view\":{\"id\":\"16073\",\"type\":\"CDSView\"}},\"id\":\"16072\",\"type\":\"GlyphRenderer\"},{\"attributes\":{},\"id\":\"16030\",\"type\":\"WheelZoomTool\"},{\"attributes\":{\"overlay\":{\"id\":\"16052\",\"type\":\"BoxAnnotation\"}},\"id\":\"16031\",\"type\":\"BoxZoomTool\"},{\"attributes\":{\"source\":{\"id\":\"16069\",\"type\":\"ColumnDataSource\"}},\"id\":\"16073\",\"type\":\"CDSView\"},{\"attributes\":{},\"id\":\"16032\",\"type\":\"SaveTool\"},{\"attributes\":{},\"id\":\"16082\",\"type\":\"UnionRenderers\"},{\"attributes\":{},\"id\":\"16033\",\"type\":\"ResetTool\"},{\"attributes\":{\"label\":{\"value\":\"inside_H\"},\"renderers\":[{\"id\":\"16072\",\"type\":\"GlyphRenderer\"}]},\"id\":\"16084\",\"type\":\"LegendItem\"},{\"attributes\":{\"line_alpha\":0.1,\"line_color\":\"#1f77b4\",\"line_width\":2,\"x\":{\"field\":\"x\"},\"y\":{\"field\":\"y\"}},\"id\":\"16044\",\"type\":\"Line\"},{\"attributes\":{},\"id\":\"16083\",\"type\":\"Selection\"},{\"attributes\":{\"axis_label\":\"concentration\",\"formatter\":{\"id\":\"16050\",\"type\":\"BasicTickFormatter\"},\"ticker\":{\"id\":\"16025\",\"type\":\"BasicTicker\"}},\"id\":\"16024\",\"type\":\"LinearAxis\"},{\"attributes\":{\"data_source\":{\"id\":\"16042\",\"type\":\"ColumnDataSource\"},\"glyph\":{\"id\":\"16043\",\"type\":\"Line\"},\"hover_glyph\":null,\"muted_glyph\":null,\"nonselection_glyph\":{\"id\":\"16044\",\"type\":\"Line\"},\"selection_glyph\":null,\"view\":{\"id\":\"16046\",\"type\":\"CDSView\"}},\"id\":\"16045\",\"type\":\"GlyphRenderer\"},{\"attributes\":{\"line_alpha\":0.1,\"line_color\":\"#1f77b4\",\"line_width\":2,\"x\":{\"field\":\"x\"},\"y\":{\"field\":\"y\"}},\"id\":\"16057\",\"type\":\"Line\"},{\"attributes\":{},\"id\":\"16015\",\"type\":\"LinearScale\"},{\"attributes\":{},\"id\":\"16034\",\"type\":\"HelpTool\"},{\"attributes\":{\"line_color\":\"#9367bc\",\"line_width\":2,\"x\":{\"field\":\"x\"},\"y\":{\"field\":\"y\"}},\"id\":\"16086\",\"type\":\"Line\"},{\"attributes\":{},\"id\":\"16020\",\"type\":\"BasicTicker\"},{\"attributes\":{},\"id\":\"16025\",\"type\":\"BasicTicker\"},{\"attributes\":{\"callback\":null,\"data\":{\"x\":{\"__ndarray__\":\"AAAAAAAAAAAxb2dIzNu5PzFvZ0jM28k/ZZNNNtlk0z8xb2dIzNvZP3+lQK1fKeA/ZZNNNtlk4z9LgVq/UqDmPzFvZ0jM2+k/F1100UUX7T9/pUCtXynwP3Icx3Ecx/E/ZZNNNtlk8z9YCtT6lQL1P0uBWr9SoPY/Pvjggw8++D8xb2dIzNv5PyTm7QyJefs/F1100UUX/T8K1PqVArX+P3+lQK1fKQBA+OCDDz74AEByHMdxHMcBQOtXCtT6lQJAZZNNNtlkA0DezpCYtzMEQFgK1PqVAgVA0UUXXXTRBUBLgVq/UqAGQMS8nSExbwdAPvjggw8+CEC3MyTm7QwJQDFvZ0jM2wlAq6qqqqqqCkAk5u0MiXkLQJ4hMW9nSAxAF1100UUXDUCRmLczJOYNQArU+pUCtQ5AhA8++OCDD0B/pUCtXykQQDtDYt7OkBBA+OCDDz74EEC1fqVArV8RQHIcx3EcxxFALrrooosuEkDrVwrU+pUSQKj1KwVq/RJAZZNNNtlkE0AiMW9nSMwTQN7OkJi3MxRAm2yyySabFEBYCtT6lQIVQBWo9SsFahVA0UUXXXTRFUCO4ziO4zgWQEuBWr9SoBZACB988MEHF0DEvJ0hMW8XQIFav1Kg1hdAPvjggw8+GED7lQK1fqUYQLczJObtDBlAdNFFF110GUAxb2dIzNsZQO4MiXk7QxpAq6qqqqqqGkBnSMzbGRIbQCTm7QyJeRtA4YMPPvjgG0CeITFvZ0gcQFq/UqDWrxxAF1100UUXHUDU+pUCtX4dQJGYtzMk5h1ATTbZZJNNHkAK1PqVArUeQMdxHMdxHB9AhA8++OCDH0BArV8pUOsfQH+lQK1fKSBAXXTRRRddIEA7Q2LezpAgQBoS83aGxCBA+OCDDz74IEDXrxSo9SshQLV+pUCtXyFAk0022WSTIUByHMdxHMchQFDrVwrU+iFALrrooosuIkANiXk7Q2IiQOtXCtT6lSJAyiabbLLJIkCo9SsFav0iQIbEvJ0hMSNAZZNNNtlkI0BDYt7OkJgjQCIxb2dIzCNAAAAAAAAAJEA=\",\"dtype\":\"float64\",\"shape\":[100]},\"y\":{\"__ndarray__\":\"AAAAAAAAAACvrw2vIxhaPx7ZaENdNIg/7L/c8nnzoj930avzvtm0PyGhQUP66MI/GcBX2fxbzj+8Jivgn2fWP1C0oGU8Gd8/j9vLCYyY5D8acgoaQ0vqP4XUF3MES/A/WDse/0608z86Ewxj+Fj3P6NJjEZVMPs/qivo2s4x/z/xYPtxhqoBQK0IVIsKyQNAU/A2z7DwBUCh07g0+B0IQC2lZlemTQpAUv8c1cl8DEAUiyHxuqgOQLPVNU2NZxBAyIJKOeh2EUBvvOb7g4ESQAfCbISWhhNAGZJlEXSFFEC7KNUXjX0VQKWXWCVsbhZAxWMNwLNXF0B3eg1HHDkYQGQ34N9xEhlAoORneZLjGUAeSuHja6waQOHjUAT6bBtAwKpCI0UlHECI6e1YYNUcQOwO0xZofR1A8Wm2zoAdHkBDZoy21bUeQP6QB6iXRh9AR1ZeG/zPH0BVpc8dHikgQJp4aAnKZiBA26so5iChIECxSAqHQtggQFdo5zFPDCFAzsZvXmc9IUCRZ119q2shQEi6fcc7lyFAeou5EzjAIUAT2Rizv+YhQKe7rVLxCiJAYIfO4uosIkB/YaaCyUwiQDLSAnCpaiJA6Fri+qWGIkDpcBF82aAiQGZ/w05duSJARyqvzEnQIkBO7TpMtuUiQJAakiC5+SJA8Ihwm2cMI0C270oQ1h0jQDLQiNgXLiNAUt/AWD89I0DhHckGXksjQPEEbHCEWCNAV5+RQsJkI0C+G9ZQJnAjQHZ0ap2+eiNApBYoYZiEI0AkErgTwI0jQLqdxXNBliNAho8xjyeeI0Co8DLLfKUjQGC2WexKrCNAT0xqHpuyI0BDZQv8dbgjQDJ0QZbjvSNA0/+ze+vCI0ApGry/lMcjQKQnJAHmyyNAfnWrcOXPI0BSd03XmNMjQFJyQ5wF1yNAN3rCyjDaI0AeiXMXH90jQAyKteXU3yNANVWLTFbiI0Blv1Ubp+QjQEFuT97K5iNACwvJ4sToI0B6fyY7mOojQBSpvcJH7CNAy15qIdbtI0CqY9fORe8jQFyitRWZ8CNAgKvAFtLxI0A=\",\"dtype\":\"float64\",\"shape\":[100]}},\"selected\":{\"id\":\"16713\",\"type\":\"Selection\"},\"selection_policy\":{\"id\":\"16712\",\"type\":\"UnionRenderers\"}},\"id\":\"16085\",\"type\":\"ColumnDataSource\"},{\"attributes\":{},\"id\":\"16050\",\"type\":\"BasicTickFormatter\"},{\"attributes\":{\"click_policy\":\"hide\",\"items\":[{\"id\":\"16054\",\"type\":\"LegendItem\"},{\"id\":\"16068\",\"type\":\"LegendItem\"},{\"id\":\"16084\",\"type\":\"LegendItem\"},{\"id\":\"16102\",\"type\":\"LegendItem\"}],\"location\":\"bottom_right\"},\"id\":\"16053\",\"type\":\"Legend\"},{\"attributes\":{\"data_source\":{\"id\":\"16055\",\"type\":\"ColumnDataSource\"},\"glyph\":{\"id\":\"16056\",\"type\":\"Line\"},\"hover_glyph\":null,\"muted_glyph\":null,\"nonselection_glyph\":{\"id\":\"16057\",\"type\":\"Line\"},\"selection_glyph\":null,\"view\":{\"id\":\"16059\",\"type\":\"CDSView\"}},\"id\":\"16058\",\"type\":\"GlyphRenderer\"},{\"attributes\":{\"label\":{\"value\":\"outside_H\"},\"renderers\":[{\"id\":\"16058\",\"type\":\"GlyphRenderer\"}]},\"id\":\"16068\",\"type\":\"LegendItem\"},{\"attributes\":{\"line_alpha\":0.1,\"line_color\":\"#1f77b4\",\"line_width\":2,\"x\":{\"field\":\"x\"},\"y\":{\"field\":\"y\"}},\"id\":\"16087\",\"type\":\"Line\"},{\"attributes\":{\"source\":{\"id\":\"16055\",\"type\":\"ColumnDataSource\"}},\"id\":\"16059\",\"type\":\"CDSView\"},{\"attributes\":{\"data_source\":{\"id\":\"16085\",\"type\":\"ColumnDataSource\"},\"glyph\":{\"id\":\"16086\",\"type\":\"Line\"},\"hover_glyph\":null,\"muted_glyph\":null,\"nonselection_glyph\":{\"id\":\"16087\",\"type\":\"Line\"},\"selection_glyph\":null,\"view\":{\"id\":\"16089\",\"type\":\"CDSView\"}},\"id\":\"16088\",\"type\":\"GlyphRenderer\"},{\"attributes\":{\"callback\":null},\"id\":\"16011\",\"type\":\"DataRange1d\"},{\"attributes\":{},\"id\":\"16048\",\"type\":\"BasicTickFormatter\"},{\"attributes\":{},\"id\":\"16067\",\"type\":\"Selection\"},{\"attributes\":{\"text\":\"with ATP Synthase, Proton Pump, ATP Use\"},\"id\":\"16009\",\"type\":\"Title\"},{\"attributes\":{\"callback\":null,\"data\":{\"x\":{\"__ndarray__\":\"AAAAAAAAAAAxb2dIzNu5PzFvZ0jM28k/ZZNNNtlk0z8xb2dIzNvZP3+lQK1fKeA/ZZNNNtlk4z9LgVq/UqDmPzFvZ0jM2+k/F1100UUX7T9/pUCtXynwP3Icx3Ecx/E/ZZNNNtlk8z9YCtT6lQL1P0uBWr9SoPY/Pvjggw8++D8xb2dIzNv5PyTm7QyJefs/F1100UUX/T8K1PqVArX+P3+lQK1fKQBA+OCDDz74AEByHMdxHMcBQOtXCtT6lQJAZZNNNtlkA0DezpCYtzMEQFgK1PqVAgVA0UUXXXTRBUBLgVq/UqAGQMS8nSExbwdAPvjggw8+CEC3MyTm7QwJQDFvZ0jM2wlAq6qqqqqqCkAk5u0MiXkLQJ4hMW9nSAxAF1100UUXDUCRmLczJOYNQArU+pUCtQ5AhA8++OCDD0B/pUCtXykQQDtDYt7OkBBA+OCDDz74EEC1fqVArV8RQHIcx3EcxxFALrrooosuEkDrVwrU+pUSQKj1KwVq/RJAZZNNNtlkE0AiMW9nSMwTQN7OkJi3MxRAm2yyySabFEBYCtT6lQIVQBWo9SsFahVA0UUXXXTRFUCO4ziO4zgWQEuBWr9SoBZACB988MEHF0DEvJ0hMW8XQIFav1Kg1hdAPvjggw8+GED7lQK1fqUYQLczJObtDBlAdNFFF110GUAxb2dIzNsZQO4MiXk7QxpAq6qqqqqqGkBnSMzbGRIbQCTm7QyJeRtA4YMPPvjgG0CeITFvZ0gcQFq/UqDWrxxAF1100UUXHUDU+pUCtX4dQJGYtzMk5h1ATTbZZJNNHkAK1PqVArUeQMdxHMdxHB9AhA8++OCDH0BArV8pUOsfQH+lQK1fKSBAXXTRRRddIEA7Q2LezpAgQBoS83aGxCBA+OCDDz74IEDXrxSo9SshQLV+pUCtXyFAk0022WSTIUByHMdxHMchQFDrVwrU+iFALrrooosuIkANiXk7Q2IiQOtXCtT6lSJAyiabbLLJIkCo9SsFav0iQIbEvJ0hMSNAZZNNNtlkI0BDYt7OkJgjQCIxb2dIzCNAAAAAAAAAJEA=\",\"dtype\":\"float64\",\"shape\":[100]},\"y\":{\"__ndarray__\":\"AAAAAAAAJEAXFjlEJUwbQCciAwpPyRhA+22PDDJ5GECWYVZTCHcYQE0NjpL4fxhAeZMIf/uKGEBPulgNeZYYQL9q3qrjoRhAQ0Y/Y+WsGEBSp8EfQbcYQGAFz33LwBhASjHMOWfJGEDDkYeEAtEYQJxLScWU1xhADIXiwRzdGECoP54Hn+EYQMAPmJYk5RhAw/4fzLnnGEB1V+VkbekYQKqTur1P6hhA0+6VMnLqGEA6YWeV5ukYQOAKhMC+6BhA63i5RQznGED5myoq4OQYQAfC4bRK4hhAMYLaS1vfGEAzJrVYINwYQC0870Kn2BhA+93IWPzUGECplRvfKtEYQBR8BAo9zRhA43g3CTzJGEC70EQVMMUYQKhRO3AgwRhAC0dXhxO9GECg6avrDrkYQEKgHXUXtRhAWfj+QTGxGEB88WPQX60YQCksTwqmqRhA5W7HTgamGEB0DBOHgqIYQPawAi4cnxhAxREqXdSbGEArGSfZq5gYQMFjKhqjlRhAz9NJVrqSGEBIS0mK8Y8YQIjqGoFIjRhA8R0O276KGECD6n8UVIgYQMyCqIsHhhhA4aC9hdiDGEChzK8zxoEYQKNkYLbPfxhAonZGIvR9GECPI7CCMnwYQDdFpdyJehhAxDxfMfl4GEAyS3aAf3cYQJHlwckbdhhAJEzwDs10GECkqN5UknMYQBQgwKRqchhAEJMRDVVxGECPGl+iUHAYQKTw4n9cbxhA5/AEyHduGEBKMrmkoW0YQJBBxUfZbBhA/L3q6h1sGEDBXwTQbmsYQBGUCkHLahhAnUsRkDJqGEDFlDIXpGkYQB26bzgfaRhAJQ6LXaNoGEAxqtr3L2gYQDNNFIDEZxhAo4IVdmBnGEBGMadgA2cYQLe2Pc2sZhhASPC4T1xmGECAIiGCEWYYQFYNaATMZRhALXwhfItlGEDOJkeUT2UYQAhJ8vwXZRhADBoda+RkGEAjXmmYtGQYQOwr1kKIZBhAexWZLF9kGEDsjMkbOWQYQDoxStoVZBhAgQiENfVjGEBfLgf+1mMYQKmjsge7YxhAuUdKKaFjGEA=\",\"dtype\":\"float64\",\"shape\":[100]}},\"selected\":{\"id\":\"16067\",\"type\":\"Selection\"},\"selection_policy\":{\"id\":\"16066\",\"type\":\"UnionRenderers\"}},\"id\":\"16042\",\"type\":\"ColumnDataSource\"},{\"attributes\":{\"source\":{\"id\":\"16042\",\"type\":\"ColumnDataSource\"}},\"id\":\"16046\",\"type\":\"CDSView\"},{\"attributes\":{\"line_color\":\"#1f77b3\",\"line_width\":2,\"x\":{\"field\":\"x\"},\"y\":{\"field\":\"y\"}},\"id\":\"16043\",\"type\":\"Line\"},{\"attributes\":{\"callback\":null,\"data\":{\"x\":{\"__ndarray__\":\"AAAAAAAAAAAxb2dIzNu5PzFvZ0jM28k/ZZNNNtlk0z8xb2dIzNvZP3+lQK1fKeA/ZZNNNtlk4z9LgVq/UqDmPzFvZ0jM2+k/F1100UUX7T9/pUCtXynwP3Icx3Ecx/E/ZZNNNtlk8z9YCtT6lQL1P0uBWr9SoPY/Pvjggw8++D8xb2dIzNv5PyTm7QyJefs/F1100UUX/T8K1PqVArX+P3+lQK1fKQBA+OCDDz74AEByHMdxHMcBQOtXCtT6lQJAZZNNNtlkA0DezpCYtzMEQFgK1PqVAgVA0UUXXXTRBUBLgVq/UqAGQMS8nSExbwdAPvjggw8+CEC3MyTm7QwJQDFvZ0jM2wlAq6qqqqqqCkAk5u0MiXkLQJ4hMW9nSAxAF1100UUXDUCRmLczJOYNQArU+pUCtQ5AhA8++OCDD0B/pUCtXykQQDtDYt7OkBBA+OCDDz74EEC1fqVArV8RQHIcx3EcxxFALrrooosuEkDrVwrU+pUSQKj1KwVq/RJAZZNNNtlkE0AiMW9nSMwTQN7OkJi3MxRAm2yyySabFEBYCtT6lQIVQBWo9SsFahVA0UUXXXTRFUCO4ziO4zgWQEuBWr9SoBZACB988MEHF0DEvJ0hMW8XQIFav1Kg1hdAPvjggw8+GED7lQK1fqUYQLczJObtDBlAdNFFF110GUAxb2dIzNsZQO4MiXk7QxpAq6qqqqqqGkBnSMzbGRIbQCTm7QyJeRtA4YMPPvjgG0CeITFvZ0gcQFq/UqDWrxxAF1100UUXHUDU+pUCtX4dQJGYtzMk5h1ATTbZZJNNHkAK1PqVArUeQMdxHMdxHB9AhA8++OCDH0BArV8pUOsfQH+lQK1fKSBAXXTRRRddIEA7Q2LezpAgQBoS83aGxCBA+OCDDz74IEDXrxSo9SshQLV+pUCtXyFAk0022WSTIUByHMdxHMchQFDrVwrU+iFALrrooosuIkANiXk7Q2IiQOtXCtT6lSJAyiabbLLJIkCo9SsFav0iQIbEvJ0hMSNAZZNNNtlkI0BDYt7OkJgjQCIxb2dIzCNAAAAAAAAAJEA=\",\"dtype\":\"float64\",\"shape\":[100]},\"y\":{\"__ndarray__\":\"AAAAAAAAJEBCtlhVI/kXQHA00XsQyhRArXbnXCQoFEB1JHd/+QcUQIrioJCVARRAxJYqklAAFEAtb6YBEAAUQOgY9i0DABRAN/WaoQAAFEBNlR8gAAAUQGMZaQYAABRAfEMhAQAAFEBHJUgAAAAUQMxhDgAAABRA99oCAAAAFEBlkQAAAAAUQF8fAAAAABRAafz/////E0BI//////8TQNz//////xNA+f//////E0D+//////8TQP///////xNA////////E0D///////8TQP///////xNAAAAAAAAAFED///////8TQAAAAAAAABRAAAAAAAAAFED///////8TQP///////xNA////////E0D///////8TQAAAAAAAABRAAAAAAAAAFEAAAAAAAAAUQAAAAAAAABRAAAAAAAAAFEAAAAAAAAAUQAAAAAAAABRAAAAAAAAAFED///////8TQAAAAAAAABRAAAAAAAAAFEAAAAAAAAAUQAAAAAAAABRAAAAAAAAAFEAAAAAAAAAUQP///////xNA////////E0D///////8TQP///////xNA////////E0D///////8TQAAAAAAAABRAAAAAAAAAFEAAAAAAAAAUQAAAAAAAABRA////////E0AAAAAAAAAUQAAAAAAAABRAAAAAAAAAFEAAAAAAAAAUQAAAAAAAABRAAAAAAAAAFEAAAAAAAAAUQAAAAAAAABRA////////E0AAAAAAAAAUQAAAAAAAABRA////////E0D///////8TQAAAAAAAABRAAAAAAAAAFED///////8TQP///////xNA////////E0AAAAAAAAAUQAAAAAAAABRAAAAAAAAAFED///////8TQP///////xNAAAAAAAAAFEAAAAAAAAAUQAAAAAAAABRAAQAAAAAAFEAAAAAAAAAUQAAAAAAAABRAAAAAAAAAFED///////8TQP///////xNA////////E0AAAAAAAAAUQAAAAAAAABRA////////E0D///////8TQP///////xNAAAAAAAAAFEA=\",\"dtype\":\"float64\",\"shape\":[100]}},\"selected\":{\"id\":\"16083\",\"type\":\"Selection\"},\"selection_policy\":{\"id\":\"16082\",\"type\":\"UnionRenderers\"}},\"id\":\"16055\",\"type\":\"ColumnDataSource\"},{\"attributes\":{\"line_color\":\"#2ba02b\",\"line_width\":2,\"x\":{\"field\":\"x\"},\"y\":{\"field\":\"y\"}},\"id\":\"16070\",\"type\":\"Line\"},{\"attributes\":{\"source\":{\"id\":\"16085\",\"type\":\"ColumnDataSource\"}},\"id\":\"16089\",\"type\":\"CDSView\"},{\"attributes\":{},\"id\":\"16713\",\"type\":\"Selection\"},{\"attributes\":{},\"id\":\"16100\",\"type\":\"UnionRenderers\"},{\"attributes\":{\"line_color\":\"#ff7e0e\",\"line_width\":2,\"x\":{\"field\":\"x\"},\"y\":{\"field\":\"y\"}},\"id\":\"16056\",\"type\":\"Line\"},{\"attributes\":{\"bottom_units\":\"screen\",\"fill_alpha\":{\"value\":0.5},\"fill_color\":{\"value\":\"lightgrey\"},\"left_units\":\"screen\",\"level\":\"overlay\",\"line_alpha\":{\"value\":1.0},\"line_color\":{\"value\":\"black\"},\"line_dash\":[4,4],\"line_width\":{\"value\":2},\"render_mode\":\"css\",\"right_units\":\"screen\",\"top_units\":\"screen\"},\"id\":\"16052\",\"type\":\"BoxAnnotation\"},{\"attributes\":{\"label\":{\"value\":\"bound proton pump\"},\"renderers\":[{\"id\":\"16088\",\"type\":\"GlyphRenderer\"}]},\"id\":\"16102\",\"type\":\"LegendItem\"},{\"attributes\":{},\"id\":\"16712\",\"type\":\"UnionRenderers\"},{\"attributes\":{\"callback\":null},\"id\":\"16013\",\"type\":\"DataRange1d\"},{\"attributes\":{\"ticker\":{\"id\":\"16020\",\"type\":\"BasicTicker\"}},\"id\":\"16023\",\"type\":\"Grid\"},{\"attributes\":{\"dimension\":1,\"ticker\":{\"id\":\"16025\",\"type\":\"BasicTicker\"}},\"id\":\"16028\",\"type\":\"Grid\"},{\"attributes\":{\"callback\":null,\"data\":{\"x\":{\"__ndarray__\":\"AAAAAAAAAAAxb2dIzNu5PzFvZ0jM28k/ZZNNNtlk0z8xb2dIzNvZP3+lQK1fKeA/ZZNNNtlk4z9LgVq/UqDmPzFvZ0jM2+k/F1100UUX7T9/pUCtXynwP3Icx3Ecx/E/ZZNNNtlk8z9YCtT6lQL1P0uBWr9SoPY/Pvjggw8++D8xb2dIzNv5PyTm7QyJefs/F1100UUX/T8K1PqVArX+P3+lQK1fKQBA+OCDDz74AEByHMdxHMcBQOtXCtT6lQJAZZNNNtlkA0DezpCYtzMEQFgK1PqVAgVA0UUXXXTRBUBLgVq/UqAGQMS8nSExbwdAPvjggw8+CEC3MyTm7QwJQDFvZ0jM2wlAq6qqqqqqCkAk5u0MiXkLQJ4hMW9nSAxAF1100UUXDUCRmLczJOYNQArU+pUCtQ5AhA8++OCDD0B/pUCtXykQQDtDYt7OkBBA+OCDDz74EEC1fqVArV8RQHIcx3EcxxFALrrooosuEkDrVwrU+pUSQKj1KwVq/RJAZZNNNtlkE0AiMW9nSMwTQN7OkJi3MxRAm2yyySabFEBYCtT6lQIVQBWo9SsFahVA0UUXXXTRFUCO4ziO4zgWQEuBWr9SoBZACB988MEHF0DEvJ0hMW8XQIFav1Kg1hdAPvjggw8+GED7lQK1fqUYQLczJObtDBlAdNFFF110GUAxb2dIzNsZQO4MiXk7QxpAq6qqqqqqGkBnSMzbGRIbQCTm7QyJeRtA4YMPPvjgG0CeITFvZ0gcQFq/UqDWrxxAF1100UUXHUDU+pUCtX4dQJGYtzMk5h1ATTbZZJNNHkAK1PqVArUeQMdxHMdxHB9AhA8++OCDH0BArV8pUOsfQH+lQK1fKSBAXXTRRRddIEA7Q2LezpAgQBoS83aGxCBA+OCDDz74IEDXrxSo9SshQLV+pUCtXyFAk0022WSTIUByHMdxHMchQFDrVwrU+iFALrrooosuIkANiXk7Q2IiQOtXCtT6lSJAyiabbLLJIkCo9SsFav0iQIbEvJ0hMSNAZZNNNtlkI0BDYt7OkJgjQCIxb2dIzCNAAAAAAAAAJEA=\",\"dtype\":\"float64\",\"shape\":[100]},\"y\":{\"__ndarray__\":\"AAAAAAAAAAC9Saeq3AYQQI/LLoTvNRNAUokYo9vXE0CK24iABvgTQHUdX29q/hNAO2nVba//E0DSkFn+7/8TQBfnCdL8/xNAyAplXv//E0CyauDf//8TQJzmlvn//xNAg7ze/v//E0C42rf///8TQDOe8f///xNACCX9////E0Cabv////8TQKDg/////xNAlgMAAAAAFEC3AAAAAAAUQCMAAAAAABRABgAAAAAAFEABAAAAAAAUQAAAAAAAABRAAAAAAAAAFEAAAAAAAAAUQAAAAAAAABRA////////E0AAAAAAAAAUQP///////xNA////////E0AAAAAAAAAUQAAAAAAAABRAAAAAAAAAFEAAAAAAAAAUQP///////xNA////////E0D///////8TQP///////xNA////////E0D///////8TQP///////xNA////////E0AAAAAAAAAUQP///////xNA////////E0D///////8TQP///////xNA////////E0D///////8TQAAAAAAAABRAAAAAAAAAFEAAAAAAAAAUQAAAAAAAABRAAAAAAAAAFEAAAAAAAAAUQP///////xNA////////E0D///////8TQP///////xNAAAAAAAAAFED///////8TQP///////xNA////////E0D///////8TQP///////xNA////////E0D///////8TQP///////xNAAAAAAAAAFED///////8TQP///////xNAAAAAAAAAFEAAAAAAAAAUQP///////xNA////////E0AAAAAAAAAUQAAAAAAAABRAAAAAAAAAFED///////8TQP///////xNA////////E0AAAAAAAAAUQAAAAAAAABRA////////E0D///////8TQP///////xNA/v//////E0D///////8TQP///////xNA////////E0AAAAAAAAAUQAAAAAAAABRAAAAAAAAAFED///////8TQP///////xNAAAAAAAAAFEAAAAAAAAAUQAAAAAAAABRA////////E0A=\",\"dtype\":\"float64\",\"shape\":[100]}},\"selected\":{\"id\":\"16101\",\"type\":\"Selection\"},\"selection_policy\":{\"id\":\"16100\",\"type\":\"UnionRenderers\"}},\"id\":\"16069\",\"type\":\"ColumnDataSource\"},{\"attributes\":{\"label\":{\"value\":\"atp\"},\"renderers\":[{\"id\":\"16045\",\"type\":\"GlyphRenderer\"}]},\"id\":\"16054\",\"type\":\"LegendItem\"},{\"attributes\":{},\"id\":\"16066\",\"type\":\"UnionRenderers\"},{\"attributes\":{},\"id\":\"16101\",\"type\":\"Selection\"},{\"attributes\":{},\"id\":\"16017\",\"type\":\"LinearScale\"}],\"root_ids\":[\"16008\"]},\"title\":\"Bokeh Application\",\"version\":\"1.4.0\"}};\n",
       "  var render_items = [{\"docid\":\"a8665fb8-1901-4ad9-9837-19d45d0b2e9c\",\"roots\":{\"16008\":\"0f860695-64d2-4621-849d-1b38b462264f\"}}];\n",
       "  root.Bokeh.embed.embed_items_notebook(docs_json, render_items);\n",
       "\n",
       "  }\n",
       "  if (root.Bokeh !== undefined) {\n",
       "    embed_document(root);\n",
       "  } else {\n",
       "    var attempts = 0;\n",
       "    var timer = setInterval(function(root) {\n",
       "      if (root.Bokeh !== undefined) {\n",
       "        clearInterval(timer);\n",
       "        embed_document(root);\n",
       "      } else {\n",
       "        attempts++;\n",
       "        if (attempts > 100) {\n",
       "          clearInterval(timer);\n",
       "          console.log(\"Bokeh: ERROR: Unable to run BokehJS code because BokehJS library is missing\");\n",
       "        }\n",
       "      }\n",
       "    }, 10, root)\n",
       "  }\n",
       "})(window);"
      ],
      "application/vnd.bokehjs_exec.v0+json": ""
     },
     "metadata": {
      "application/vnd.bokehjs_exec.v0+json": {
       "id": "16008"
      }
     },
     "output_type": "display_data"
    }
   ],
   "source": [
    "p3 = bokeh.plotting.figure(width = 450, height = 350, title = 'with ATP Synthase, Proton Pump, ATP Use',\n",
    "                          x_axis_label = 'time',\n",
    "                          y_axis_label = 'concentration')\n",
    "plot_list = [ATP_id, outside_H_id, inside_H_id, proton_pump_b_protein_id]\n",
    "plot_str = ['atp', 'outside_H', 'inside_H', 'bound proton pump']\n",
    "for i,item in enumerate(plot_list):\n",
    "    p3.line(timepoints, results3[item], line_width = 2, legend_label = plot_str[i], color = palette[i])\n",
    "    \n",
    "p3.legend.click_policy = 'hide'\n",
    "p3.legend.location = 'bottom_right'\n",
    "bokeh.io.show(p3)"
   ]
  },
  {
   "cell_type": "markdown",
   "metadata": {},
   "source": [
    "## Compare with atpsyn+protonpump, only atpsyn, only atpuse\n",
    "---"
   ]
  },
  {
   "cell_type": "code",
   "execution_count": 98,
   "metadata": {},
   "outputs": [
    {
     "data": {
      "text/html": [
       "\n",
       "\n",
       "\n",
       "\n",
       "\n",
       "\n",
       "  <div class=\"bk-root\" id=\"e4c5b07a-bf82-4601-a054-75b16dd160c2\" data-root-id=\"19572\"></div>\n"
      ]
     },
     "metadata": {},
     "output_type": "display_data"
    },
    {
     "data": {
      "application/javascript": [
       "(function(root) {\n",
       "  function embed_document(root) {\n",
       "    \n",
       "  var docs_json = {\"b345cf6a-78ad-4aff-988a-59eca46b5eeb\":{\"roots\":{\"references\":[{\"attributes\":{\"children\":[{\"id\":\"16008\",\"subtype\":\"Figure\",\"type\":\"Plot\"},{\"id\":\"18606\",\"subtype\":\"Figure\",\"type\":\"Plot\"},{\"id\":\"18701\",\"subtype\":\"Figure\",\"type\":\"Plot\"}]},\"id\":\"19572\",\"type\":\"Row\"},{\"attributes\":{\"active_drag\":\"auto\",\"active_inspect\":\"auto\",\"active_multi\":null,\"active_scroll\":\"auto\",\"active_tap\":\"auto\",\"tools\":[{\"id\":\"16029\",\"type\":\"PanTool\"},{\"id\":\"16030\",\"type\":\"WheelZoomTool\"},{\"id\":\"16031\",\"type\":\"BoxZoomTool\"},{\"id\":\"16032\",\"type\":\"SaveTool\"},{\"id\":\"16033\",\"type\":\"ResetTool\"},{\"id\":\"16034\",\"type\":\"HelpTool\"}]},\"id\":\"16035\",\"type\":\"Toolbar\"},{\"attributes\":{},\"id\":\"18708\",\"type\":\"LinearScale\"},{\"attributes\":{},\"id\":\"18628\",\"type\":\"WheelZoomTool\"},{\"attributes\":{},\"id\":\"16029\",\"type\":\"PanTool\"},{\"attributes\":{\"overlay\":{\"id\":\"18650\",\"type\":\"BoxAnnotation\"}},\"id\":\"18629\",\"type\":\"BoxZoomTool\"},{\"attributes\":{},\"id\":\"16030\",\"type\":\"WheelZoomTool\"},{\"attributes\":{},\"id\":\"18630\",\"type\":\"SaveTool\"},{\"attributes\":{},\"id\":\"18710\",\"type\":\"LinearScale\"},{\"attributes\":{\"overlay\":{\"id\":\"16052\",\"type\":\"BoxAnnotation\"}},\"id\":\"16031\",\"type\":\"BoxZoomTool\"},{\"attributes\":{},\"id\":\"18631\",\"type\":\"ResetTool\"},{\"attributes\":{\"axis_label\":\"time\",\"formatter\":{\"id\":\"18741\",\"type\":\"BasicTickFormatter\"},\"ticker\":{\"id\":\"18713\",\"type\":\"BasicTicker\"}},\"id\":\"18712\",\"type\":\"LinearAxis\"},{\"attributes\":{\"data_source\":{\"id\":\"18653\",\"type\":\"ColumnDataSource\"},\"glyph\":{\"id\":\"18654\",\"type\":\"Line\"},\"hover_glyph\":null,\"muted_glyph\":null,\"nonselection_glyph\":{\"id\":\"18655\",\"type\":\"Line\"},\"selection_glyph\":null,\"view\":{\"id\":\"18657\",\"type\":\"CDSView\"}},\"id\":\"18656\",\"type\":\"GlyphRenderer\"},{\"attributes\":{\"dimension\":1,\"ticker\":{\"id\":\"18718\",\"type\":\"BasicTicker\"}},\"id\":\"18721\",\"type\":\"Grid\"},{\"attributes\":{},\"id\":\"16032\",\"type\":\"SaveTool\"},{\"attributes\":{},\"id\":\"18632\",\"type\":\"HelpTool\"},{\"attributes\":{},\"id\":\"18713\",\"type\":\"BasicTicker\"},{\"attributes\":{},\"id\":\"16033\",\"type\":\"ResetTool\"},{\"attributes\":{\"active_drag\":\"auto\",\"active_inspect\":\"auto\",\"active_multi\":null,\"active_scroll\":\"auto\",\"active_tap\":\"auto\",\"tools\":[{\"id\":\"18627\",\"type\":\"PanTool\"},{\"id\":\"18628\",\"type\":\"WheelZoomTool\"},{\"id\":\"18629\",\"type\":\"BoxZoomTool\"},{\"id\":\"18630\",\"type\":\"SaveTool\"},{\"id\":\"18631\",\"type\":\"ResetTool\"},{\"id\":\"18632\",\"type\":\"HelpTool\"}]},\"id\":\"18633\",\"type\":\"Toolbar\"},{\"attributes\":{\"ticker\":{\"id\":\"18713\",\"type\":\"BasicTicker\"}},\"id\":\"18716\",\"type\":\"Grid\"},{\"attributes\":{\"data_source\":{\"id\":\"16042\",\"type\":\"ColumnDataSource\"},\"glyph\":{\"id\":\"16043\",\"type\":\"Line\"},\"hover_glyph\":null,\"muted_glyph\":null,\"nonselection_glyph\":{\"id\":\"16044\",\"type\":\"Line\"},\"selection_glyph\":null,\"view\":{\"id\":\"16046\",\"type\":\"CDSView\"}},\"id\":\"16045\",\"type\":\"GlyphRenderer\"},{\"attributes\":{},\"id\":\"16034\",\"type\":\"HelpTool\"},{\"attributes\":{},\"id\":\"18718\",\"type\":\"BasicTicker\"},{\"attributes\":{\"axis_label\":\"concentration\",\"formatter\":{\"id\":\"18743\",\"type\":\"BasicTickFormatter\"},\"ticker\":{\"id\":\"18718\",\"type\":\"BasicTicker\"}},\"id\":\"18717\",\"type\":\"LinearAxis\"},{\"attributes\":{\"line_alpha\":0.1,\"line_color\":\"#1f77b4\",\"line_width\":2,\"x\":{\"field\":\"x\"},\"y\":{\"field\":\"y\"}},\"id\":\"18655\",\"type\":\"Line\"},{\"attributes\":{},\"id\":\"16050\",\"type\":\"BasicTickFormatter\"},{\"attributes\":{\"click_policy\":\"hide\",\"items\":[{\"id\":\"16054\",\"type\":\"LegendItem\"},{\"id\":\"16068\",\"type\":\"LegendItem\"},{\"id\":\"16084\",\"type\":\"LegendItem\"},{\"id\":\"16102\",\"type\":\"LegendItem\"}],\"location\":\"bottom_right\"},\"id\":\"16053\",\"type\":\"Legend\"},{\"attributes\":{\"source\":{\"id\":\"18653\",\"type\":\"ColumnDataSource\"}},\"id\":\"18657\",\"type\":\"CDSView\"},{\"attributes\":{},\"id\":\"16048\",\"type\":\"BasicTickFormatter\"},{\"attributes\":{\"line_alpha\":0.1,\"line_color\":\"#1f77b4\",\"line_width\":2,\"x\":{\"field\":\"x\"},\"y\":{\"field\":\"y\"}},\"id\":\"18737\",\"type\":\"Line\"},{\"attributes\":{},\"id\":\"18664\",\"type\":\"UnionRenderers\"},{\"attributes\":{\"active_drag\":\"auto\",\"active_inspect\":\"auto\",\"active_multi\":null,\"active_scroll\":\"auto\",\"active_tap\":\"auto\",\"tools\":[{\"id\":\"18722\",\"type\":\"PanTool\"},{\"id\":\"18723\",\"type\":\"WheelZoomTool\"},{\"id\":\"18724\",\"type\":\"BoxZoomTool\"},{\"id\":\"18725\",\"type\":\"SaveTool\"},{\"id\":\"18726\",\"type\":\"ResetTool\"},{\"id\":\"18727\",\"type\":\"HelpTool\"}]},\"id\":\"18728\",\"type\":\"Toolbar\"},{\"attributes\":{\"source\":{\"id\":\"16042\",\"type\":\"ColumnDataSource\"}},\"id\":\"16046\",\"type\":\"CDSView\"},{\"attributes\":{\"label\":{\"value\":\"outside_H\"},\"renderers\":[{\"id\":\"18656\",\"type\":\"GlyphRenderer\"}]},\"id\":\"18666\",\"type\":\"LegendItem\"},{\"attributes\":{},\"id\":\"16713\",\"type\":\"Selection\"},{\"attributes\":{},\"id\":\"18665\",\"type\":\"Selection\"},{\"attributes\":{},\"id\":\"18722\",\"type\":\"PanTool\"},{\"attributes\":{\"line_color\":\"#2ba02b\",\"line_width\":2,\"x\":{\"field\":\"x\"},\"y\":{\"field\":\"y\"}},\"id\":\"18668\",\"type\":\"Line\"},{\"attributes\":{\"bottom_units\":\"screen\",\"fill_alpha\":{\"value\":0.5},\"fill_color\":{\"value\":\"lightgrey\"},\"left_units\":\"screen\",\"level\":\"overlay\",\"line_alpha\":{\"value\":1.0},\"line_color\":{\"value\":\"black\"},\"line_dash\":[4,4],\"line_width\":{\"value\":2},\"render_mode\":\"css\",\"right_units\":\"screen\",\"top_units\":\"screen\"},\"id\":\"16052\",\"type\":\"BoxAnnotation\"},{\"attributes\":{},\"id\":\"18723\",\"type\":\"WheelZoomTool\"},{\"attributes\":{},\"id\":\"16712\",\"type\":\"UnionRenderers\"},{\"attributes\":{\"ticker\":{\"id\":\"16020\",\"type\":\"BasicTicker\"}},\"id\":\"16023\",\"type\":\"Grid\"},{\"attributes\":{\"callback\":null,\"data\":{\"x\":{\"__ndarray__\":\"AAAAAAAAAAAxb2dIzNu5PzFvZ0jM28k/ZZNNNtlk0z8xb2dIzNvZP3+lQK1fKeA/ZZNNNtlk4z9LgVq/UqDmPzFvZ0jM2+k/F1100UUX7T9/pUCtXynwP3Icx3Ecx/E/ZZNNNtlk8z9YCtT6lQL1P0uBWr9SoPY/Pvjggw8++D8xb2dIzNv5PyTm7QyJefs/F1100UUX/T8K1PqVArX+P3+lQK1fKQBA+OCDDz74AEByHMdxHMcBQOtXCtT6lQJAZZNNNtlkA0DezpCYtzMEQFgK1PqVAgVA0UUXXXTRBUBLgVq/UqAGQMS8nSExbwdAPvjggw8+CEC3MyTm7QwJQDFvZ0jM2wlAq6qqqqqqCkAk5u0MiXkLQJ4hMW9nSAxAF1100UUXDUCRmLczJOYNQArU+pUCtQ5AhA8++OCDD0B/pUCtXykQQDtDYt7OkBBA+OCDDz74EEC1fqVArV8RQHIcx3EcxxFALrrooosuEkDrVwrU+pUSQKj1KwVq/RJAZZNNNtlkE0AiMW9nSMwTQN7OkJi3MxRAm2yyySabFEBYCtT6lQIVQBWo9SsFahVA0UUXXXTRFUCO4ziO4zgWQEuBWr9SoBZACB988MEHF0DEvJ0hMW8XQIFav1Kg1hdAPvjggw8+GED7lQK1fqUYQLczJObtDBlAdNFFF110GUAxb2dIzNsZQO4MiXk7QxpAq6qqqqqqGkBnSMzbGRIbQCTm7QyJeRtA4YMPPvjgG0CeITFvZ0gcQFq/UqDWrxxAF1100UUXHUDU+pUCtX4dQJGYtzMk5h1ATTbZZJNNHkAK1PqVArUeQMdxHMdxHB9AhA8++OCDH0BArV8pUOsfQH+lQK1fKSBAXXTRRRddIEA7Q2LezpAgQBoS83aGxCBA+OCDDz74IEDXrxSo9SshQLV+pUCtXyFAk0022WSTIUByHMdxHMchQFDrVwrU+iFALrrooosuIkANiXk7Q2IiQOtXCtT6lSJAyiabbLLJIkCo9SsFav0iQIbEvJ0hMSNAZZNNNtlkI0BDYt7OkJgjQCIxb2dIzCNAAAAAAAAAJEA=\",\"dtype\":\"float64\",\"shape\":[100]},\"y\":{\"__ndarray__\":\"AAAAAAAAAAC9Saeq3AYQQI/LLoTvNRNAUokYo9vXE0CK24iABvgTQHUdX29q/hNAO2nVba//E0DSkFn+7/8TQBfnCdL8/xNAyAplXv//E0CyauDf//8TQJzmlvn//xNAg7ze/v//E0C42rf///8TQDOe8f///xNACCX9////E0Cabv////8TQKDg/////xNAlgMAAAAAFEC3AAAAAAAUQCMAAAAAABRABgAAAAAAFEABAAAAAAAUQAAAAAAAABRAAAAAAAAAFEAAAAAAAAAUQAAAAAAAABRA////////E0AAAAAAAAAUQP///////xNA////////E0AAAAAAAAAUQAAAAAAAABRAAAAAAAAAFEAAAAAAAAAUQP///////xNA////////E0D///////8TQP///////xNA////////E0D///////8TQP///////xNA////////E0AAAAAAAAAUQP///////xNA////////E0D///////8TQP///////xNA////////E0D///////8TQAAAAAAAABRAAAAAAAAAFEAAAAAAAAAUQAAAAAAAABRAAAAAAAAAFEAAAAAAAAAUQP///////xNA////////E0D///////8TQP///////xNAAAAAAAAAFED///////8TQP///////xNA////////E0D///////8TQP///////xNA////////E0D///////8TQP///////xNAAAAAAAAAFED///////8TQP///////xNAAAAAAAAAFEAAAAAAAAAUQP///////xNA////////E0AAAAAAAAAUQAAAAAAAABRAAAAAAAAAFED///////8TQP///////xNA////////E0AAAAAAAAAUQAAAAAAAABRA////////E0D///////8TQP///////xNA/v//////E0D///////8TQP///////xNA////////E0AAAAAAAAAUQAAAAAAAABRAAAAAAAAAFED///////8TQP///////xNAAAAAAAAAFEAAAAAAAAAUQAAAAAAAABRA////////E0A=\",\"dtype\":\"float64\",\"shape\":[100]}},\"selected\":{\"id\":\"16101\",\"type\":\"Selection\"},\"selection_policy\":{\"id\":\"16100\",\"type\":\"UnionRenderers\"}},\"id\":\"16069\",\"type\":\"ColumnDataSource\"},{\"attributes\":{\"label\":{\"value\":\"atp\"},\"renderers\":[{\"id\":\"16045\",\"type\":\"GlyphRenderer\"}]},\"id\":\"16054\",\"type\":\"LegendItem\"},{\"attributes\":{\"callback\":null,\"data\":{\"x\":{\"__ndarray__\":\"AAAAAAAAAAAxb2dIzNu5PzFvZ0jM28k/ZZNNNtlk0z8xb2dIzNvZP3+lQK1fKeA/ZZNNNtlk4z9LgVq/UqDmPzFvZ0jM2+k/F1100UUX7T9/pUCtXynwP3Icx3Ecx/E/ZZNNNtlk8z9YCtT6lQL1P0uBWr9SoPY/Pvjggw8++D8xb2dIzNv5PyTm7QyJefs/F1100UUX/T8K1PqVArX+P3+lQK1fKQBA+OCDDz74AEByHMdxHMcBQOtXCtT6lQJAZZNNNtlkA0DezpCYtzMEQFgK1PqVAgVA0UUXXXTRBUBLgVq/UqAGQMS8nSExbwdAPvjggw8+CEC3MyTm7QwJQDFvZ0jM2wlAq6qqqqqqCkAk5u0MiXkLQJ4hMW9nSAxAF1100UUXDUCRmLczJOYNQArU+pUCtQ5AhA8++OCDD0B/pUCtXykQQDtDYt7OkBBA+OCDDz74EEC1fqVArV8RQHIcx3EcxxFALrrooosuEkDrVwrU+pUSQKj1KwVq/RJAZZNNNtlkE0AiMW9nSMwTQN7OkJi3MxRAm2yyySabFEBYCtT6lQIVQBWo9SsFahVA0UUXXXTRFUCO4ziO4zgWQEuBWr9SoBZACB988MEHF0DEvJ0hMW8XQIFav1Kg1hdAPvjggw8+GED7lQK1fqUYQLczJObtDBlAdNFFF110GUAxb2dIzNsZQO4MiXk7QxpAq6qqqqqqGkBnSMzbGRIbQCTm7QyJeRtA4YMPPvjgG0CeITFvZ0gcQFq/UqDWrxxAF1100UUXHUDU+pUCtX4dQJGYtzMk5h1ATTbZZJNNHkAK1PqVArUeQMdxHMdxHB9AhA8++OCDH0BArV8pUOsfQH+lQK1fKSBAXXTRRRddIEA7Q2LezpAgQBoS83aGxCBA+OCDDz74IEDXrxSo9SshQLV+pUCtXyFAk0022WSTIUByHMdxHMchQFDrVwrU+iFALrrooosuIkANiXk7Q2IiQOtXCtT6lSJAyiabbLLJIkCo9SsFav0iQIbEvJ0hMSNAZZNNNtlkI0BDYt7OkJgjQCIxb2dIzCNAAAAAAAAAJEA=\",\"dtype\":\"float64\",\"shape\":[100]},\"y\":{\"__ndarray__\":\"AAAAAAAAAADMAKYG5ysWQDHx9KvcBiBA/ttBEqY6IkAfgQKD7zUjQORYNPXvpSNAwjVOodvXI0D/axuxG+4jQOGZqH8G+CNA7Qq8E3L8I0C2XZVvav4jQIS2IDxL/yNATqo/bq//I0BU5/MW3P8jQKSIlP7v/yNA0cS93fj/I0ANoQTS/P8jQKYTM5X+/yNAaLtLXv//I0CxK+23//8jQKTK39///yNARzau8f//I0DuDZ75//8jQCu1J/3//yNAyWG7/v//I0BnT2////8jQCqCv////yNAK0Hj////I0D6L/P///8jQAFK+v///yNAV3T9////I0CJ3f7///8jQId+/////yNASMb/////I0BG5v////8jQIf0/////yNA5fr/////I0C8/f////8jQP/+/////yNAj///////I0DQ//////8jQO3//////yNA+///////I0ABAAAAAAAkQAMAAAAAACRAAwAAAAAAJEADAAAAAAAkQAMAAAAAACRAAwAAAAAAJEADAAAAAAAkQAMAAAAAACRAAwAAAAAAJEADAAAAAAAkQAMAAAAAACRAAwAAAAAAJEADAAAAAAAkQAMAAAAAACRAAwAAAAAAJEADAAAAAAAkQAMAAAAAACRAAwAAAAAAJEADAAAAAAAkQAMAAAAAACRAAwAAAAAAJEADAAAAAAAkQAMAAAAAACRAAwAAAAAAJEADAAAAAAAkQAMAAAAAACRAAwAAAAAAJEADAAAAAAAkQAMAAAAAACRAAwAAAAAAJEADAAAAAAAkQAMAAAAAACRAAwAAAAAAJEADAAAAAAAkQAMAAAAAACRAAwAAAAAAJEADAAAAAAAkQAMAAAAAACRAAwAAAAAAJEADAAAAAAAkQAMAAAAAACRAAwAAAAAAJEADAAAAAAAkQAMAAAAAACRAAwAAAAAAJEADAAAAAAAkQAMAAAAAACRAAwAAAAAAJEADAAAAAAAkQAMAAAAAACRAAwAAAAAAJEADAAAAAAAkQAMAAAAAACRAAwAAAAAAJEADAAAAAAAkQAMAAAAAACRAAwAAAAAAJEA=\",\"dtype\":\"float64\",\"shape\":[100]}},\"selected\":{\"id\":\"18699\",\"type\":\"Selection\"},\"selection_policy\":{\"id\":\"18698\",\"type\":\"UnionRenderers\"}},\"id\":\"18667\",\"type\":\"ColumnDataSource\"},{\"attributes\":{\"overlay\":{\"id\":\"18745\",\"type\":\"BoxAnnotation\"}},\"id\":\"18724\",\"type\":\"BoxZoomTool\"},{\"attributes\":{},\"id\":\"16017\",\"type\":\"LinearScale\"},{\"attributes\":{},\"id\":\"19436\",\"type\":\"Selection\"},{\"attributes\":{\"axis_label\":\"time\",\"formatter\":{\"id\":\"16048\",\"type\":\"BasicTickFormatter\"},\"ticker\":{\"id\":\"16020\",\"type\":\"BasicTicker\"}},\"id\":\"16019\",\"type\":\"LinearAxis\"},{\"attributes\":{\"line_alpha\":0.1,\"line_color\":\"#1f77b4\",\"line_width\":2,\"x\":{\"field\":\"x\"},\"y\":{\"field\":\"y\"}},\"id\":\"18669\",\"type\":\"Line\"},{\"attributes\":{},\"id\":\"18725\",\"type\":\"SaveTool\"},{\"attributes\":{\"data_source\":{\"id\":\"18667\",\"type\":\"ColumnDataSource\"},\"glyph\":{\"id\":\"18668\",\"type\":\"Line\"},\"hover_glyph\":null,\"muted_glyph\":null,\"nonselection_glyph\":{\"id\":\"18669\",\"type\":\"Line\"},\"selection_glyph\":null,\"view\":{\"id\":\"18671\",\"type\":\"CDSView\"}},\"id\":\"18670\",\"type\":\"GlyphRenderer\"},{\"attributes\":{},\"id\":\"18726\",\"type\":\"ResetTool\"},{\"attributes\":{\"data_source\":{\"id\":\"18735\",\"type\":\"ColumnDataSource\"},\"glyph\":{\"id\":\"18736\",\"type\":\"Line\"},\"hover_glyph\":null,\"muted_glyph\":null,\"nonselection_glyph\":{\"id\":\"18737\",\"type\":\"Line\"},\"selection_glyph\":null,\"view\":{\"id\":\"18739\",\"type\":\"CDSView\"}},\"id\":\"18738\",\"type\":\"GlyphRenderer\"},{\"attributes\":{\"line_alpha\":0.1,\"line_color\":\"#1f77b4\",\"line_width\":2,\"x\":{\"field\":\"x\"},\"y\":{\"field\":\"y\"}},\"id\":\"16071\",\"type\":\"Line\"},{\"attributes\":{},\"id\":\"18646\",\"type\":\"BasicTickFormatter\"},{\"attributes\":{\"source\":{\"id\":\"18667\",\"type\":\"ColumnDataSource\"}},\"id\":\"18671\",\"type\":\"CDSView\"},{\"attributes\":{},\"id\":\"18727\",\"type\":\"HelpTool\"},{\"attributes\":{\"data_source\":{\"id\":\"16069\",\"type\":\"ColumnDataSource\"},\"glyph\":{\"id\":\"16070\",\"type\":\"Line\"},\"hover_glyph\":null,\"muted_glyph\":null,\"nonselection_glyph\":{\"id\":\"16071\",\"type\":\"Line\"},\"selection_glyph\":null,\"view\":{\"id\":\"16073\",\"type\":\"CDSView\"}},\"id\":\"16072\",\"type\":\"GlyphRenderer\"},{\"attributes\":{},\"id\":\"18680\",\"type\":\"UnionRenderers\"},{\"attributes\":{\"label\":{\"value\":\"inside_H\"},\"renderers\":[{\"id\":\"18670\",\"type\":\"GlyphRenderer\"}]},\"id\":\"18682\",\"type\":\"LegendItem\"},{\"attributes\":{\"source\":{\"id\":\"16069\",\"type\":\"ColumnDataSource\"}},\"id\":\"16073\",\"type\":\"CDSView\"},{\"attributes\":{},\"id\":\"18741\",\"type\":\"BasicTickFormatter\"},{\"attributes\":{},\"id\":\"18681\",\"type\":\"Selection\"},{\"attributes\":{\"label\":{\"value\":\"atp\"},\"renderers\":[{\"id\":\"18643\",\"type\":\"GlyphRenderer\"}]},\"id\":\"18652\",\"type\":\"LegendItem\"},{\"attributes\":{},\"id\":\"16082\",\"type\":\"UnionRenderers\"},{\"attributes\":{\"text\":\"with ATP Synthase, ATP Use\"},\"id\":\"18607\",\"type\":\"Title\"},{\"attributes\":{\"line_color\":\"#9367bc\",\"line_width\":2,\"x\":{\"field\":\"x\"},\"y\":{\"field\":\"y\"}},\"id\":\"18684\",\"type\":\"Line\"},{\"attributes\":{\"items\":[{\"id\":\"18747\",\"type\":\"LegendItem\"}]},\"id\":\"18746\",\"type\":\"Legend\"},{\"attributes\":{\"label\":{\"value\":\"inside_H\"},\"renderers\":[{\"id\":\"16072\",\"type\":\"GlyphRenderer\"}]},\"id\":\"16084\",\"type\":\"LegendItem\"},{\"attributes\":{\"line_alpha\":0.1,\"line_color\":\"#1f77b4\",\"line_width\":2,\"x\":{\"field\":\"x\"},\"y\":{\"field\":\"y\"}},\"id\":\"16044\",\"type\":\"Line\"},{\"attributes\":{\"source\":{\"id\":\"18735\",\"type\":\"ColumnDataSource\"}},\"id\":\"18739\",\"type\":\"CDSView\"},{\"attributes\":{},\"id\":\"16083\",\"type\":\"Selection\"},{\"attributes\":{\"line_alpha\":0.1,\"line_color\":\"#1f77b4\",\"line_width\":2,\"x\":{\"field\":\"x\"},\"y\":{\"field\":\"y\"}},\"id\":\"16057\",\"type\":\"Line\"},{\"attributes\":{\"axis_label\":\"concentration\",\"formatter\":{\"id\":\"16050\",\"type\":\"BasicTickFormatter\"},\"ticker\":{\"id\":\"16025\",\"type\":\"BasicTicker\"}},\"id\":\"16024\",\"type\":\"LinearAxis\"},{\"attributes\":{\"callback\":null,\"data\":{\"x\":{\"__ndarray__\":\"AAAAAAAAAAAxb2dIzNu5PzFvZ0jM28k/ZZNNNtlk0z8xb2dIzNvZP3+lQK1fKeA/ZZNNNtlk4z9LgVq/UqDmPzFvZ0jM2+k/F1100UUX7T9/pUCtXynwP3Icx3Ecx/E/ZZNNNtlk8z9YCtT6lQL1P0uBWr9SoPY/Pvjggw8++D8xb2dIzNv5PyTm7QyJefs/F1100UUX/T8K1PqVArX+P3+lQK1fKQBA+OCDDz74AEByHMdxHMcBQOtXCtT6lQJAZZNNNtlkA0DezpCYtzMEQFgK1PqVAgVA0UUXXXTRBUBLgVq/UqAGQMS8nSExbwdAPvjggw8+CEC3MyTm7QwJQDFvZ0jM2wlAq6qqqqqqCkAk5u0MiXkLQJ4hMW9nSAxAF1100UUXDUCRmLczJOYNQArU+pUCtQ5AhA8++OCDD0B/pUCtXykQQDtDYt7OkBBA+OCDDz74EEC1fqVArV8RQHIcx3EcxxFALrrooosuEkDrVwrU+pUSQKj1KwVq/RJAZZNNNtlkE0AiMW9nSMwTQN7OkJi3MxRAm2yyySabFEBYCtT6lQIVQBWo9SsFahVA0UUXXXTRFUCO4ziO4zgWQEuBWr9SoBZACB988MEHF0DEvJ0hMW8XQIFav1Kg1hdAPvjggw8+GED7lQK1fqUYQLczJObtDBlAdNFFF110GUAxb2dIzNsZQO4MiXk7QxpAq6qqqqqqGkBnSMzbGRIbQCTm7QyJeRtA4YMPPvjgG0CeITFvZ0gcQFq/UqDWrxxAF1100UUXHUDU+pUCtX4dQJGYtzMk5h1ATTbZZJNNHkAK1PqVArUeQMdxHMdxHB9AhA8++OCDH0BArV8pUOsfQH+lQK1fKSBAXXTRRRddIEA7Q2LezpAgQBoS83aGxCBA+OCDDz74IEDXrxSo9SshQLV+pUCtXyFAk0022WSTIUByHMdxHMchQFDrVwrU+iFALrrooosuIkANiXk7Q2IiQOtXCtT6lSJAyiabbLLJIkCo9SsFav0iQIbEvJ0hMSNAZZNNNtlkI0BDYt7OkJgjQCIxb2dIzCNAAAAAAAAAJEA=\",\"dtype\":\"float64\",\"shape\":[100]},\"y\":{\"__ndarray__\":\"AAAAAAAAAAAAqAWyIxhaP1a9skNdNIg/1Bbo8nnzoj+coK7zvtm0P1CfSEP66MI/6i6F2fxbzj9KzH3gn2fWP2GNL2Y8Gd8/V4eEB4yY5D/WmCoVQ0vqP+G4iG8ES/A/g4Bk/0608z8HqK5k+Fj3P4KXIkhVMPs/2gls2s4x/z9ifo9xhqoBQEACp4sKyQNA5R+qz7DwBUCELg81+B0IQCOps1emTQpAAiw/2cl8DEAK4/n2uqgOQHYlrFCNZxBARpgXPeh2EUDfXd3+g4ESQNQ3FImWhhNAPqK7FnSFFECtoYwcjX0VQNSBzSlsbhZAVlKRxLNXF0AC+G9LHDkYQKP3L+RxEhlAFx2HfZLjGUDwZ8bna6waQH0E+Af6bBtAcuOaJkUlHECTiO5bYNUcQKHRfBlofR1ARi360IAdHkDRsVC41bUeQKacRKmXRh9ATBsbHPzPH0BkFtcdHikgQCLf+AjKZiBAug1V5SChIEBe19eFQtggQBYWUDBPDCFAFqZnXGc9IUBv9et6q2shQP7TvMQ7lyFAWR61EDjAIUA69tyvv+YhQCNISU/xCiJAuchE3+osIkBbYwB/yUwiQE0CVGypaiJANJcz96WGIkDMGUR42aAiQCAk5UtduSJApvBoyEnQIkDR8fRItuUiQLVHuxy5+SJAqhRhmWcMI0CxQ+UL1h0jQB5MeNQXLiNAf6i/VD89I0DAR5QDXksjQOC3bW2EWCNAalhRP8JkI0CRxqpNJnAjQCrQNp6+eiNATRRFXpiEI0AaBgMRwI0jQPQ6RnFBliNAxNgNjSeeI0DWaY3JfKUjQK7wnepKrCNAvdiyHJuyI0DCnWf7dbgjQJjh75TjvSNA1XebeuvCI0BBmd2+lMcjQOZMewDmyyNACuNhcOXPI0A+ZD7XmNMjQCoLOJwF1yNAz6n1yjDaI0BA4I8XH90jQIyK/ObU3yNAZoz3TFbiI0Cl/Sgcp+QjQMoIVeLK5iNAByxp48ToI0A08Oc7mOojQEMBBsRH7CNAqsF+ItbtI0CObg3QRe8jQACeDReZ8CNAZezKF9LxI0A=\",\"dtype\":\"float64\",\"shape\":[100]}},\"selected\":{\"id\":\"19436\",\"type\":\"Selection\"},\"selection_policy\":{\"id\":\"19435\",\"type\":\"UnionRenderers\"}},\"id\":\"18683\",\"type\":\"ColumnDataSource\"},{\"attributes\":{},\"id\":\"18743\",\"type\":\"BasicTickFormatter\"},{\"attributes\":{\"line_color\":\"#9367bc\",\"line_width\":2,\"x\":{\"field\":\"x\"},\"y\":{\"field\":\"y\"}},\"id\":\"16086\",\"type\":\"Line\"},{\"attributes\":{},\"id\":\"16020\",\"type\":\"BasicTicker\"},{\"attributes\":{\"line_alpha\":0.1,\"line_color\":\"#1f77b4\",\"line_width\":2,\"x\":{\"field\":\"x\"},\"y\":{\"field\":\"y\"}},\"id\":\"18685\",\"type\":\"Line\"},{\"attributes\":{\"bottom_units\":\"screen\",\"fill_alpha\":{\"value\":0.5},\"fill_color\":{\"value\":\"lightgrey\"},\"left_units\":\"screen\",\"level\":\"overlay\",\"line_alpha\":{\"value\":1.0},\"line_color\":{\"value\":\"black\"},\"line_dash\":[4,4],\"line_width\":{\"value\":2},\"render_mode\":\"css\",\"right_units\":\"screen\",\"top_units\":\"screen\"},\"id\":\"18745\",\"type\":\"BoxAnnotation\"},{\"attributes\":{},\"id\":\"19438\",\"type\":\"UnionRenderers\"},{\"attributes\":{\"data_source\":{\"id\":\"18683\",\"type\":\"ColumnDataSource\"},\"glyph\":{\"id\":\"18684\",\"type\":\"Line\"},\"hover_glyph\":null,\"muted_glyph\":null,\"nonselection_glyph\":{\"id\":\"18685\",\"type\":\"Line\"},\"selection_glyph\":null,\"view\":{\"id\":\"18687\",\"type\":\"CDSView\"}},\"id\":\"18686\",\"type\":\"GlyphRenderer\"},{\"attributes\":{},\"id\":\"16025\",\"type\":\"BasicTicker\"},{\"attributes\":{\"callback\":null,\"data\":{\"x\":{\"__ndarray__\":\"AAAAAAAAAAAxb2dIzNu5PzFvZ0jM28k/ZZNNNtlk0z8xb2dIzNvZP3+lQK1fKeA/ZZNNNtlk4z9LgVq/UqDmPzFvZ0jM2+k/F1100UUX7T9/pUCtXynwP3Icx3Ecx/E/ZZNNNtlk8z9YCtT6lQL1P0uBWr9SoPY/Pvjggw8++D8xb2dIzNv5PyTm7QyJefs/F1100UUX/T8K1PqVArX+P3+lQK1fKQBA+OCDDz74AEByHMdxHMcBQOtXCtT6lQJAZZNNNtlkA0DezpCYtzMEQFgK1PqVAgVA0UUXXXTRBUBLgVq/UqAGQMS8nSExbwdAPvjggw8+CEC3MyTm7QwJQDFvZ0jM2wlAq6qqqqqqCkAk5u0MiXkLQJ4hMW9nSAxAF1100UUXDUCRmLczJOYNQArU+pUCtQ5AhA8++OCDD0B/pUCtXykQQDtDYt7OkBBA+OCDDz74EEC1fqVArV8RQHIcx3EcxxFALrrooosuEkDrVwrU+pUSQKj1KwVq/RJAZZNNNtlkE0AiMW9nSMwTQN7OkJi3MxRAm2yyySabFEBYCtT6lQIVQBWo9SsFahVA0UUXXXTRFUCO4ziO4zgWQEuBWr9SoBZACB988MEHF0DEvJ0hMW8XQIFav1Kg1hdAPvjggw8+GED7lQK1fqUYQLczJObtDBlAdNFFF110GUAxb2dIzNsZQO4MiXk7QxpAq6qqqqqqGkBnSMzbGRIbQCTm7QyJeRtA4YMPPvjgG0CeITFvZ0gcQFq/UqDWrxxAF1100UUXHUDU+pUCtX4dQJGYtzMk5h1ATTbZZJNNHkAK1PqVArUeQMdxHMdxHB9AhA8++OCDH0BArV8pUOsfQH+lQK1fKSBAXXTRRRddIEA7Q2LezpAgQBoS83aGxCBA+OCDDz74IEDXrxSo9SshQLV+pUCtXyFAk0022WSTIUByHMdxHMchQFDrVwrU+iFALrrooosuIkANiXk7Q2IiQOtXCtT6lSJAyiabbLLJIkCo9SsFav0iQIbEvJ0hMSNAZZNNNtlkI0BDYt7OkJgjQCIxb2dIzCNAAAAAAAAAJEA=\",\"dtype\":\"float64\",\"shape\":[100]},\"y\":{\"__ndarray__\":\"AAAAAAAAAACvrw2vIxhaPx7ZaENdNIg/7L/c8nnzoj930avzvtm0PyGhQUP66MI/GcBX2fxbzj+8Jivgn2fWP1C0oGU8Gd8/j9vLCYyY5D8acgoaQ0vqP4XUF3MES/A/WDse/0608z86Ewxj+Fj3P6NJjEZVMPs/qivo2s4x/z/xYPtxhqoBQK0IVIsKyQNAU/A2z7DwBUCh07g0+B0IQC2lZlemTQpAUv8c1cl8DEAUiyHxuqgOQLPVNU2NZxBAyIJKOeh2EUBvvOb7g4ESQAfCbISWhhNAGZJlEXSFFEC7KNUXjX0VQKWXWCVsbhZAxWMNwLNXF0B3eg1HHDkYQGQ34N9xEhlAoORneZLjGUAeSuHja6waQOHjUAT6bBtAwKpCI0UlHECI6e1YYNUcQOwO0xZofR1A8Wm2zoAdHkBDZoy21bUeQP6QB6iXRh9AR1ZeG/zPH0BVpc8dHikgQJp4aAnKZiBA26so5iChIECxSAqHQtggQFdo5zFPDCFAzsZvXmc9IUCRZ119q2shQEi6fcc7lyFAeou5EzjAIUAT2Rizv+YhQKe7rVLxCiJAYIfO4uosIkB/YaaCyUwiQDLSAnCpaiJA6Fri+qWGIkDpcBF82aAiQGZ/w05duSJARyqvzEnQIkBO7TpMtuUiQJAakiC5+SJA8Ihwm2cMI0C270oQ1h0jQDLQiNgXLiNAUt/AWD89I0DhHckGXksjQPEEbHCEWCNAV5+RQsJkI0C+G9ZQJnAjQHZ0ap2+eiNApBYoYZiEI0AkErgTwI0jQLqdxXNBliNAho8xjyeeI0Co8DLLfKUjQGC2WexKrCNAT0xqHpuyI0BDZQv8dbgjQDJ0QZbjvSNA0/+ze+vCI0ApGry/lMcjQKQnJAHmyyNAfnWrcOXPI0BSd03XmNMjQFJyQ5wF1yNAN3rCyjDaI0AeiXMXH90jQAyKteXU3yNANVWLTFbiI0Blv1Ubp+QjQEFuT97K5iNACwvJ4sToI0B6fyY7mOojQBSpvcJH7CNAy15qIdbtI0CqY9fORe8jQFyitRWZ8CNAgKvAFtLxI0A=\",\"dtype\":\"float64\",\"shape\":[100]}},\"selected\":{\"id\":\"16713\",\"type\":\"Selection\"},\"selection_policy\":{\"id\":\"16712\",\"type\":\"UnionRenderers\"}},\"id\":\"16085\",\"type\":\"ColumnDataSource\"},{\"attributes\":{\"label\":{\"value\":\"atp\"},\"renderers\":[{\"id\":\"18738\",\"type\":\"GlyphRenderer\"}]},\"id\":\"18747\",\"type\":\"LegendItem\"},{\"attributes\":{\"data_source\":{\"id\":\"16055\",\"type\":\"ColumnDataSource\"},\"glyph\":{\"id\":\"16056\",\"type\":\"Line\"},\"hover_glyph\":null,\"muted_glyph\":null,\"nonselection_glyph\":{\"id\":\"16057\",\"type\":\"Line\"},\"selection_glyph\":null,\"view\":{\"id\":\"16059\",\"type\":\"CDSView\"}},\"id\":\"16058\",\"type\":\"GlyphRenderer\"},{\"attributes\":{\"line_alpha\":0.1,\"line_color\":\"#1f77b4\",\"line_width\":2,\"x\":{\"field\":\"x\"},\"y\":{\"field\":\"y\"}},\"id\":\"16087\",\"type\":\"Line\"},{\"attributes\":{\"source\":{\"id\":\"16055\",\"type\":\"ColumnDataSource\"}},\"id\":\"16059\",\"type\":\"CDSView\"},{\"attributes\":{\"source\":{\"id\":\"18683\",\"type\":\"ColumnDataSource\"}},\"id\":\"18687\",\"type\":\"CDSView\"},{\"attributes\":{\"data_source\":{\"id\":\"16085\",\"type\":\"ColumnDataSource\"},\"glyph\":{\"id\":\"16086\",\"type\":\"Line\"},\"hover_glyph\":null,\"muted_glyph\":null,\"nonselection_glyph\":{\"id\":\"16087\",\"type\":\"Line\"},\"selection_glyph\":null,\"view\":{\"id\":\"16089\",\"type\":\"CDSView\"}},\"id\":\"16088\",\"type\":\"GlyphRenderer\"},{\"attributes\":{},\"id\":\"18699\",\"type\":\"Selection\"},{\"attributes\":{},\"id\":\"16067\",\"type\":\"Selection\"},{\"attributes\":{},\"id\":\"18698\",\"type\":\"UnionRenderers\"},{\"attributes\":{\"callback\":null,\"data\":{\"x\":{\"__ndarray__\":\"AAAAAAAAAAAxb2dIzNu5PzFvZ0jM28k/ZZNNNtlk0z8xb2dIzNvZP3+lQK1fKeA/ZZNNNtlk4z9LgVq/UqDmPzFvZ0jM2+k/F1100UUX7T9/pUCtXynwP3Icx3Ecx/E/ZZNNNtlk8z9YCtT6lQL1P0uBWr9SoPY/Pvjggw8++D8xb2dIzNv5PyTm7QyJefs/F1100UUX/T8K1PqVArX+P3+lQK1fKQBA+OCDDz74AEByHMdxHMcBQOtXCtT6lQJAZZNNNtlkA0DezpCYtzMEQFgK1PqVAgVA0UUXXXTRBUBLgVq/UqAGQMS8nSExbwdAPvjggw8+CEC3MyTm7QwJQDFvZ0jM2wlAq6qqqqqqCkAk5u0MiXkLQJ4hMW9nSAxAF1100UUXDUCRmLczJOYNQArU+pUCtQ5AhA8++OCDD0B/pUCtXykQQDtDYt7OkBBA+OCDDz74EEC1fqVArV8RQHIcx3EcxxFALrrooosuEkDrVwrU+pUSQKj1KwVq/RJAZZNNNtlkE0AiMW9nSMwTQN7OkJi3MxRAm2yyySabFEBYCtT6lQIVQBWo9SsFahVA0UUXXXTRFUCO4ziO4zgWQEuBWr9SoBZACB988MEHF0DEvJ0hMW8XQIFav1Kg1hdAPvjggw8+GED7lQK1fqUYQLczJObtDBlAdNFFF110GUAxb2dIzNsZQO4MiXk7QxpAq6qqqqqqGkBnSMzbGRIbQCTm7QyJeRtA4YMPPvjgG0CeITFvZ0gcQFq/UqDWrxxAF1100UUXHUDU+pUCtX4dQJGYtzMk5h1ATTbZZJNNHkAK1PqVArUeQMdxHMdxHB9AhA8++OCDH0BArV8pUOsfQH+lQK1fKSBAXXTRRRddIEA7Q2LezpAgQBoS83aGxCBA+OCDDz74IEDXrxSo9SshQLV+pUCtXyFAk0022WSTIUByHMdxHMchQFDrVwrU+iFALrrooosuIkANiXk7Q2IiQOtXCtT6lSJAyiabbLLJIkCo9SsFav0iQIbEvJ0hMSNAZZNNNtlkI0BDYt7OkJgjQCIxb2dIzCNAAAAAAAAAJEA=\",\"dtype\":\"float64\",\"shape\":[100]},\"y\":{\"__ndarray__\":\"AAAAAAAAJEAXFjlEJUwbQCciAwpPyRhA+22PDDJ5GECWYVZTCHcYQE0NjpL4fxhAeZMIf/uKGEBPulgNeZYYQL9q3qrjoRhAQ0Y/Y+WsGEBSp8EfQbcYQGAFz33LwBhASjHMOWfJGEDDkYeEAtEYQJxLScWU1xhADIXiwRzdGECoP54Hn+EYQMAPmJYk5RhAw/4fzLnnGEB1V+VkbekYQKqTur1P6hhA0+6VMnLqGEA6YWeV5ukYQOAKhMC+6BhA63i5RQznGED5myoq4OQYQAfC4bRK4hhAMYLaS1vfGEAzJrVYINwYQC0870Kn2BhA+93IWPzUGECplRvfKtEYQBR8BAo9zRhA43g3CTzJGEC70EQVMMUYQKhRO3AgwRhAC0dXhxO9GECg6avrDrkYQEKgHXUXtRhAWfj+QTGxGEB88WPQX60YQCksTwqmqRhA5W7HTgamGEB0DBOHgqIYQPawAi4cnxhAxREqXdSbGEArGSfZq5gYQMFjKhqjlRhAz9NJVrqSGEBIS0mK8Y8YQIjqGoFIjRhA8R0O276KGECD6n8UVIgYQMyCqIsHhhhA4aC9hdiDGEChzK8zxoEYQKNkYLbPfxhAonZGIvR9GECPI7CCMnwYQDdFpdyJehhAxDxfMfl4GEAyS3aAf3cYQJHlwckbdhhAJEzwDs10GECkqN5UknMYQBQgwKRqchhAEJMRDVVxGECPGl+iUHAYQKTw4n9cbxhA5/AEyHduGEBKMrmkoW0YQJBBxUfZbBhA/L3q6h1sGEDBXwTQbmsYQBGUCkHLahhAnUsRkDJqGEDFlDIXpGkYQB26bzgfaRhAJQ6LXaNoGEAxqtr3L2gYQDNNFIDEZxhAo4IVdmBnGEBGMadgA2cYQLe2Pc2sZhhASPC4T1xmGECAIiGCEWYYQFYNaATMZRhALXwhfItlGEDOJkeUT2UYQAhJ8vwXZRhADBoda+RkGEAjXmmYtGQYQOwr1kKIZBhAexWZLF9kGEDsjMkbOWQYQDoxStoVZBhAgQiENfVjGEBfLgf+1mMYQKmjsge7YxhAuUdKKaFjGEA=\",\"dtype\":\"float64\",\"shape\":[100]}},\"selected\":{\"id\":\"16067\",\"type\":\"Selection\"},\"selection_policy\":{\"id\":\"16066\",\"type\":\"UnionRenderers\"}},\"id\":\"16042\",\"type\":\"ColumnDataSource\"},{\"attributes\":{\"label\":{\"value\":\"bound atp synthase\"},\"renderers\":[{\"id\":\"18686\",\"type\":\"GlyphRenderer\"}]},\"id\":\"18700\",\"type\":\"LegendItem\"},{\"attributes\":{\"text\":\"with ATP Use\"},\"id\":\"18702\",\"type\":\"Title\"},{\"attributes\":{\"callback\":null,\"data\":{\"x\":{\"__ndarray__\":\"AAAAAAAAAAAxb2dIzNu5PzFvZ0jM28k/ZZNNNtlk0z8xb2dIzNvZP3+lQK1fKeA/ZZNNNtlk4z9LgVq/UqDmPzFvZ0jM2+k/F1100UUX7T9/pUCtXynwP3Icx3Ecx/E/ZZNNNtlk8z9YCtT6lQL1P0uBWr9SoPY/Pvjggw8++D8xb2dIzNv5PyTm7QyJefs/F1100UUX/T8K1PqVArX+P3+lQK1fKQBA+OCDDz74AEByHMdxHMcBQOtXCtT6lQJAZZNNNtlkA0DezpCYtzMEQFgK1PqVAgVA0UUXXXTRBUBLgVq/UqAGQMS8nSExbwdAPvjggw8+CEC3MyTm7QwJQDFvZ0jM2wlAq6qqqqqqCkAk5u0MiXkLQJ4hMW9nSAxAF1100UUXDUCRmLczJOYNQArU+pUCtQ5AhA8++OCDD0B/pUCtXykQQDtDYt7OkBBA+OCDDz74EEC1fqVArV8RQHIcx3EcxxFALrrooosuEkDrVwrU+pUSQKj1KwVq/RJAZZNNNtlkE0AiMW9nSMwTQN7OkJi3MxRAm2yyySabFEBYCtT6lQIVQBWo9SsFahVA0UUXXXTRFUCO4ziO4zgWQEuBWr9SoBZACB988MEHF0DEvJ0hMW8XQIFav1Kg1hdAPvjggw8+GED7lQK1fqUYQLczJObtDBlAdNFFF110GUAxb2dIzNsZQO4MiXk7QxpAq6qqqqqqGkBnSMzbGRIbQCTm7QyJeRtA4YMPPvjgG0CeITFvZ0gcQFq/UqDWrxxAF1100UUXHUDU+pUCtX4dQJGYtzMk5h1ATTbZZJNNHkAK1PqVArUeQMdxHMdxHB9AhA8++OCDH0BArV8pUOsfQH+lQK1fKSBAXXTRRRddIEA7Q2LezpAgQBoS83aGxCBA+OCDDz74IEDXrxSo9SshQLV+pUCtXyFAk0022WSTIUByHMdxHMchQFDrVwrU+iFALrrooosuIkANiXk7Q2IiQOtXCtT6lSJAyiabbLLJIkCo9SsFav0iQIbEvJ0hMSNAZZNNNtlkI0BDYt7OkJgjQCIxb2dIzCNAAAAAAAAAJEA=\",\"dtype\":\"float64\",\"shape\":[100]},\"y\":{\"__ndarray__\":\"AAAAAAAAJEBCtlhVI/kXQHA00XsQyhRArXbnXCQoFEB1JHd/+QcUQIrioJCVARRAxJYqklAAFEAtb6YBEAAUQOgY9i0DABRAN/WaoQAAFEBNlR8gAAAUQGMZaQYAABRAfEMhAQAAFEBHJUgAAAAUQMxhDgAAABRA99oCAAAAFEBlkQAAAAAUQF8fAAAAABRAafz/////E0BI//////8TQNz//////xNA+f//////E0D+//////8TQP///////xNA////////E0D///////8TQP///////xNAAAAAAAAAFED///////8TQAAAAAAAABRAAAAAAAAAFED///////8TQP///////xNA////////E0D///////8TQAAAAAAAABRAAAAAAAAAFEAAAAAAAAAUQAAAAAAAABRAAAAAAAAAFEAAAAAAAAAUQAAAAAAAABRAAAAAAAAAFED///////8TQAAAAAAAABRAAAAAAAAAFEAAAAAAAAAUQAAAAAAAABRAAAAAAAAAFEAAAAAAAAAUQP///////xNA////////E0D///////8TQP///////xNA////////E0D///////8TQAAAAAAAABRAAAAAAAAAFEAAAAAAAAAUQAAAAAAAABRA////////E0AAAAAAAAAUQAAAAAAAABRAAAAAAAAAFEAAAAAAAAAUQAAAAAAAABRAAAAAAAAAFEAAAAAAAAAUQAAAAAAAABRA////////E0AAAAAAAAAUQAAAAAAAABRA////////E0D///////8TQAAAAAAAABRAAAAAAAAAFED///////8TQP///////xNA////////E0AAAAAAAAAUQAAAAAAAABRAAAAAAAAAFED///////8TQP///////xNAAAAAAAAAFEAAAAAAAAAUQAAAAAAAABRAAQAAAAAAFEAAAAAAAAAUQAAAAAAAABRAAAAAAAAAFED///////8TQP///////xNA////////E0AAAAAAAAAUQAAAAAAAABRA////////E0D///////8TQP///////xNAAAAAAAAAFEA=\",\"dtype\":\"float64\",\"shape\":[100]}},\"selected\":{\"id\":\"16083\",\"type\":\"Selection\"},\"selection_policy\":{\"id\":\"16082\",\"type\":\"UnionRenderers\"}},\"id\":\"16055\",\"type\":\"ColumnDataSource\"},{\"attributes\":{\"source\":{\"id\":\"16085\",\"type\":\"ColumnDataSource\"}},\"id\":\"16089\",\"type\":\"CDSView\"},{\"attributes\":{\"callback\":null},\"id\":\"18704\",\"type\":\"DataRange1d\"},{\"attributes\":{},\"id\":\"16100\",\"type\":\"UnionRenderers\"},{\"attributes\":{},\"id\":\"19439\",\"type\":\"Selection\"},{\"attributes\":{\"callback\":null},\"id\":\"18706\",\"type\":\"DataRange1d\"},{\"attributes\":{\"line_color\":\"#ff7e0e\",\"line_width\":2,\"x\":{\"field\":\"x\"},\"y\":{\"field\":\"y\"}},\"id\":\"16056\",\"type\":\"Line\"},{\"attributes\":{\"label\":{\"value\":\"bound proton pump\"},\"renderers\":[{\"id\":\"16088\",\"type\":\"GlyphRenderer\"}]},\"id\":\"16102\",\"type\":\"LegendItem\"},{\"attributes\":{},\"id\":\"19435\",\"type\":\"UnionRenderers\"},{\"attributes\":{\"dimension\":1,\"ticker\":{\"id\":\"16025\",\"type\":\"BasicTicker\"}},\"id\":\"16028\",\"type\":\"Grid\"},{\"attributes\":{},\"id\":\"16101\",\"type\":\"Selection\"},{\"attributes\":{\"callback\":null,\"data\":{\"x\":{\"__ndarray__\":\"AAAAAAAAAAAxb2dIzNu5PzFvZ0jM28k/ZZNNNtlk0z8xb2dIzNvZP3+lQK1fKeA/ZZNNNtlk4z9LgVq/UqDmPzFvZ0jM2+k/F1100UUX7T9/pUCtXynwP3Icx3Ecx/E/ZZNNNtlk8z9YCtT6lQL1P0uBWr9SoPY/Pvjggw8++D8xb2dIzNv5PyTm7QyJefs/F1100UUX/T8K1PqVArX+P3+lQK1fKQBA+OCDDz74AEByHMdxHMcBQOtXCtT6lQJAZZNNNtlkA0DezpCYtzMEQFgK1PqVAgVA0UUXXXTRBUBLgVq/UqAGQMS8nSExbwdAPvjggw8+CEC3MyTm7QwJQDFvZ0jM2wlAq6qqqqqqCkAk5u0MiXkLQJ4hMW9nSAxAF1100UUXDUCRmLczJOYNQArU+pUCtQ5AhA8++OCDD0B/pUCtXykQQDtDYt7OkBBA+OCDDz74EEC1fqVArV8RQHIcx3EcxxFALrrooosuEkDrVwrU+pUSQKj1KwVq/RJAZZNNNtlkE0AiMW9nSMwTQN7OkJi3MxRAm2yyySabFEBYCtT6lQIVQBWo9SsFahVA0UUXXXTRFUCO4ziO4zgWQEuBWr9SoBZACB988MEHF0DEvJ0hMW8XQIFav1Kg1hdAPvjggw8+GED7lQK1fqUYQLczJObtDBlAdNFFF110GUAxb2dIzNsZQO4MiXk7QxpAq6qqqqqqGkBnSMzbGRIbQCTm7QyJeRtA4YMPPvjgG0CeITFvZ0gcQFq/UqDWrxxAF1100UUXHUDU+pUCtX4dQJGYtzMk5h1ATTbZZJNNHkAK1PqVArUeQMdxHMdxHB9AhA8++OCDH0BArV8pUOsfQH+lQK1fKSBAXXTRRRddIEA7Q2LezpAgQBoS83aGxCBA+OCDDz74IEDXrxSo9SshQLV+pUCtXyFAk0022WSTIUByHMdxHMchQFDrVwrU+iFALrrooosuIkANiXk7Q2IiQOtXCtT6lSJAyiabbLLJIkCo9SsFav0iQIbEvJ0hMSNAZZNNNtlkI0BDYt7OkJgjQCIxb2dIzCNAAAAAAAAAJEA=\",\"dtype\":\"float64\",\"shape\":[100]},\"y\":{\"__ndarray__\":\"AAAAAAAAJEBD28HAlSMYQBXAqIZzIg1A417ZVv2UAUBCZqhmeDj1P/zC6Jy4nOk/DleGy6Lp3j/Fid2orqfSPxO1Tr4ChMY/tvvsvN8suz+Uib3kTGawP5tP1b4jy6M/Gf+/E8njlz+uLAfqctWMP+36glaFZoE/sXM7lGIAdT9NbMuIB1lpP9/wO4rvl14/Arrb42B2Uj+ghIhPgUhGP2/F2mAK5To/M0ClT/I6MD/qb1R/z5YjP9ByGlqfpBc/9Pa5bDyJDD9B1LQdnDgBPz79Dhb+yPQ+CwNBUWcW6T5osP8QR0fePgaI83KdRdI+ZZz7XC8Nxj7P070f2J26PvKNKCMwDrA+AvoCCStdoz5aHqZGgGaXPuVUedlPQ4w+IBN4bZwZgT4OTvpaj8Z0PlKRXzF792g+B5jaJJKpXT6LIbMA25xRPsgqSY9LFkU+9y8xief1OT6sqXrvVCwwPmosOMBfASQ+1kd2H3x7GD46SKy2vewNPgqu1fn1YAI+JuMCgDWm9j14+T8PUxzlPTgc0eIx0L29BR+3yWoc5r1lfGtMbQXxvWjY3NSqwvO9kKMv/u1F8724u8eQbR7vvU9I1PH4Huy9GHbpYHj97b0IoecrEk7uvSHJzlLGEO29YO6e1ZRF6r3EEFi0fezlvV4w+u6ABeC9xjc6hzjb2L0kDP6tD83VvYDgwdTmvtK9umkL93thz72EEpNEKkXJvT67GpLYKMO978dEvw0Zur2T/aHjvOi3vRbg5ywokbe9l8ItdpM5t70ZpXO//uG2vZqHuQhqira9HGr/UdUytr2eTEWbQNu1vR8vi+Srg7W9oRHRLRcstb0j9BZ3gtS0vaPWXMDtfLS9JrmiCVkltL2om+hSxM2zvSl+LpwvdrO9q2B05Zoes70sQ7ouBseyva4lAHhxb7K9MAhGwdwXsr2y6osKSMCxvTTN0VOzaLG9tq8XnR4Rsb03kl3mibmwvbh0oy/1YbC9OlfpeGAKsL14c16El2WvvX046hZutq69fv11qUQHrr2CwgE8G1itvYSHjc7xqKy9iEwZYcj5q70=\",\"dtype\":\"float64\",\"shape\":[100]}},\"selected\":{\"id\":\"19439\",\"type\":\"Selection\"},\"selection_policy\":{\"id\":\"19438\",\"type\":\"UnionRenderers\"}},\"id\":\"18735\",\"type\":\"ColumnDataSource\"},{\"attributes\":{\"items\":[{\"id\":\"18652\",\"type\":\"LegendItem\"},{\"id\":\"18666\",\"type\":\"LegendItem\"},{\"id\":\"18682\",\"type\":\"LegendItem\"},{\"id\":\"18700\",\"type\":\"LegendItem\"}],\"location\":\"bottom_right\"},\"id\":\"18651\",\"type\":\"Legend\"},{\"attributes\":{\"callback\":null,\"data\":{\"x\":{\"__ndarray__\":\"AAAAAAAAAAAxb2dIzNu5PzFvZ0jM28k/ZZNNNtlk0z8xb2dIzNvZP3+lQK1fKeA/ZZNNNtlk4z9LgVq/UqDmPzFvZ0jM2+k/F1100UUX7T9/pUCtXynwP3Icx3Ecx/E/ZZNNNtlk8z9YCtT6lQL1P0uBWr9SoPY/Pvjggw8++D8xb2dIzNv5PyTm7QyJefs/F1100UUX/T8K1PqVArX+P3+lQK1fKQBA+OCDDz74AEByHMdxHMcBQOtXCtT6lQJAZZNNNtlkA0DezpCYtzMEQFgK1PqVAgVA0UUXXXTRBUBLgVq/UqAGQMS8nSExbwdAPvjggw8+CEC3MyTm7QwJQDFvZ0jM2wlAq6qqqqqqCkAk5u0MiXkLQJ4hMW9nSAxAF1100UUXDUCRmLczJOYNQArU+pUCtQ5AhA8++OCDD0B/pUCtXykQQDtDYt7OkBBA+OCDDz74EEC1fqVArV8RQHIcx3EcxxFALrrooosuEkDrVwrU+pUSQKj1KwVq/RJAZZNNNtlkE0AiMW9nSMwTQN7OkJi3MxRAm2yyySabFEBYCtT6lQIVQBWo9SsFahVA0UUXXXTRFUCO4ziO4zgWQEuBWr9SoBZACB988MEHF0DEvJ0hMW8XQIFav1Kg1hdAPvjggw8+GED7lQK1fqUYQLczJObtDBlAdNFFF110GUAxb2dIzNsZQO4MiXk7QxpAq6qqqqqqGkBnSMzbGRIbQCTm7QyJeRtA4YMPPvjgG0CeITFvZ0gcQFq/UqDWrxxAF1100UUXHUDU+pUCtX4dQJGYtzMk5h1ATTbZZJNNHkAK1PqVArUeQMdxHMdxHB9AhA8++OCDH0BArV8pUOsfQH+lQK1fKSBAXXTRRRddIEA7Q2LezpAgQBoS83aGxCBA+OCDDz74IEDXrxSo9SshQLV+pUCtXyFAk0022WSTIUByHMdxHMchQFDrVwrU+iFALrrooosuIkANiXk7Q2IiQOtXCtT6lSJAyiabbLLJIkCo9SsFav0iQIbEvJ0hMSNAZZNNNtlkI0BDYt7OkJgjQCIxb2dIzCNAAAAAAAAAJEA=\",\"dtype\":\"float64\",\"shape\":[100]},\"y\":{\"__ndarray__\":\"AAAAAAAAJEA4/1n5GNQRQIJ2WKAayf8/PkDi255V7D883K+fD0LZPz/H6bIChMY/Vh/lWC8StD9XA5TkTuShP8uGmF0B5o8/sqSoH2JvfD/rvSSqBllpP0HCL+l7mFY/01ltFXAkRD/8ZVcMhvQxP80GX3drASA/I0HE7AiJDD95f6T32m/5PiwYsMXOrOY+cuksk4g21D7NqN8TtQTCPm5Iyq0aELA+Ou12cJOjnD5Cqg5FyIeJPgnE35pWwnY+KxTRYeNJZD5+l7ghExZSPtwkGbh1H0A+14OSvda+LD5MwTbGD6AZPuuupQIF2AY+hgN2Okld9D07f3IIeifiPWyP8/IYL9A93QgHX/ravD104P2rW7mpPTvx7mXJ7pY9mrkz88JxhD2sCez63zlyPSza3NOoP2A9GI95f7v4TD2CpDM9GdQ5Pbc8CS7OBic9KJnbAmeHFD1268iEP00CPcYWFM8EUfA8+yZfPcsX3TwDWuIE+e/JPMinPYbBH7c8CcL3UqqdpDxboELwQWGSPJDuban0YoA8ZSfp68Y3bTwL63AbFwxaPG797JXAOEc8AtFqUgy0NDxEBdjUMHUiPLrtkFmIdBA8LeX18eBW/TsnhRYchSnqO3M8mQa5Utc7KEU9IZ7MxDvSubsSt4qyO5wILU3RiKA7OHixh/15jTv2rrkin0l6O9JfrOG5b2c7p8dJehPlVDuO5s3tgqBCO630lV5ImzA75JbExxWdHTuIDTWABGcKO0BJfPEyhvc6A+WudoH85DqtMBu15LXSOmH4cNlbrsA6ALtJlRi+rTpxG8OFv4OaOvN6rdkYpIc66MXthgAUdTpw/rP8k8liOuPuYakHwVA6sLKXtbnfPTpKJ4ZwTaIqOpWOjgLNvhc6gLtwQwkrBTpmqvSeK9/yOWBMZzSa0+A5CuczFyMAzjnSaJi4F8G6OTfSJiHU1qc5GLodt5xGlTnziv4ahfeCOTRngTor4XA5U+LCDpsrXjlwqUzT/eVKOeq5s6Io+Tc5uFlVwF1mJTnS1I1ROhMTOWlgMqJkAQE5d7Ws+VJb7jg=\",\"dtype\":\"float64\",\"shape\":[100]}},\"selected\":{\"id\":\"18681\",\"type\":\"Selection\"},\"selection_policy\":{\"id\":\"18680\",\"type\":\"UnionRenderers\"}},\"id\":\"18653\",\"type\":\"ColumnDataSource\"},{\"attributes\":{},\"id\":\"18648\",\"type\":\"BasicTickFormatter\"},{\"attributes\":{\"label\":{\"value\":\"outside_H\"},\"renderers\":[{\"id\":\"16058\",\"type\":\"GlyphRenderer\"}]},\"id\":\"16068\",\"type\":\"LegendItem\"},{\"attributes\":{\"line_color\":\"#2ba02b\",\"line_width\":2,\"x\":{\"field\":\"x\"},\"y\":{\"field\":\"y\"}},\"id\":\"16070\",\"type\":\"Line\"},{\"attributes\":{\"line_color\":\"#1f77b3\",\"line_width\":2,\"x\":{\"field\":\"x\"},\"y\":{\"field\":\"y\"}},\"id\":\"18736\",\"type\":\"Line\"},{\"attributes\":{},\"id\":\"16066\",\"type\":\"UnionRenderers\"},{\"attributes\":{\"below\":[{\"id\":\"18617\",\"type\":\"LinearAxis\"}],\"center\":[{\"id\":\"18621\",\"type\":\"Grid\"},{\"id\":\"18626\",\"type\":\"Grid\"},{\"id\":\"18651\",\"type\":\"Legend\"}],\"left\":[{\"id\":\"18622\",\"type\":\"LinearAxis\"}],\"plot_height\":350,\"plot_width\":450,\"renderers\":[{\"id\":\"18643\",\"type\":\"GlyphRenderer\"},{\"id\":\"18656\",\"type\":\"GlyphRenderer\"},{\"id\":\"18670\",\"type\":\"GlyphRenderer\"},{\"id\":\"18686\",\"type\":\"GlyphRenderer\"}],\"title\":{\"id\":\"18607\",\"type\":\"Title\"},\"toolbar\":{\"id\":\"18633\",\"type\":\"Toolbar\"},\"x_range\":{\"id\":\"18609\",\"type\":\"DataRange1d\"},\"x_scale\":{\"id\":\"18613\",\"type\":\"LinearScale\"},\"y_range\":{\"id\":\"18611\",\"type\":\"DataRange1d\"},\"y_scale\":{\"id\":\"18615\",\"type\":\"LinearScale\"}},\"id\":\"18606\",\"subtype\":\"Figure\",\"type\":\"Plot\"},{\"attributes\":{\"line_alpha\":0.1,\"line_color\":\"#1f77b4\",\"line_width\":2,\"x\":{\"field\":\"x\"},\"y\":{\"field\":\"y\"}},\"id\":\"18642\",\"type\":\"Line\"},{\"attributes\":{\"bottom_units\":\"screen\",\"fill_alpha\":{\"value\":0.5},\"fill_color\":{\"value\":\"lightgrey\"},\"left_units\":\"screen\",\"level\":\"overlay\",\"line_alpha\":{\"value\":1.0},\"line_color\":{\"value\":\"black\"},\"line_dash\":[4,4],\"line_width\":{\"value\":2},\"render_mode\":\"css\",\"right_units\":\"screen\",\"top_units\":\"screen\"},\"id\":\"18650\",\"type\":\"BoxAnnotation\"},{\"attributes\":{\"callback\":null},\"id\":\"18609\",\"type\":\"DataRange1d\"},{\"attributes\":{\"callback\":null},\"id\":\"18611\",\"type\":\"DataRange1d\"},{\"attributes\":{},\"id\":\"18613\",\"type\":\"LinearScale\"},{\"attributes\":{},\"id\":\"18615\",\"type\":\"LinearScale\"},{\"attributes\":{\"line_color\":\"#ff7e0e\",\"line_width\":2,\"x\":{\"field\":\"x\"},\"y\":{\"field\":\"y\"}},\"id\":\"18654\",\"type\":\"Line\"},{\"attributes\":{\"below\":[{\"id\":\"16019\",\"type\":\"LinearAxis\"}],\"center\":[{\"id\":\"16023\",\"type\":\"Grid\"},{\"id\":\"16028\",\"type\":\"Grid\"},{\"id\":\"16053\",\"type\":\"Legend\"}],\"left\":[{\"id\":\"16024\",\"type\":\"LinearAxis\"}],\"plot_height\":350,\"plot_width\":450,\"renderers\":[{\"id\":\"16045\",\"type\":\"GlyphRenderer\"},{\"id\":\"16058\",\"type\":\"GlyphRenderer\"},{\"id\":\"16072\",\"type\":\"GlyphRenderer\"},{\"id\":\"16088\",\"type\":\"GlyphRenderer\"}],\"title\":{\"id\":\"16009\",\"type\":\"Title\"},\"toolbar\":{\"id\":\"16035\",\"type\":\"Toolbar\"},\"x_range\":{\"id\":\"16011\",\"type\":\"DataRange1d\"},\"x_scale\":{\"id\":\"16015\",\"type\":\"LinearScale\"},\"y_range\":{\"id\":\"16013\",\"type\":\"DataRange1d\"},\"y_scale\":{\"id\":\"16017\",\"type\":\"LinearScale\"}},\"id\":\"16008\",\"subtype\":\"Figure\",\"type\":\"Plot\"},{\"attributes\":{\"axis_label\":\"time\",\"formatter\":{\"id\":\"18646\",\"type\":\"BasicTickFormatter\"},\"ticker\":{\"id\":\"18618\",\"type\":\"BasicTicker\"}},\"id\":\"18617\",\"type\":\"LinearAxis\"},{\"attributes\":{},\"id\":\"16015\",\"type\":\"LinearScale\"},{\"attributes\":{\"dimension\":1,\"ticker\":{\"id\":\"18623\",\"type\":\"BasicTicker\"}},\"id\":\"18626\",\"type\":\"Grid\"},{\"attributes\":{},\"id\":\"18618\",\"type\":\"BasicTicker\"},{\"attributes\":{\"ticker\":{\"id\":\"18618\",\"type\":\"BasicTicker\"}},\"id\":\"18621\",\"type\":\"Grid\"},{\"attributes\":{},\"id\":\"18623\",\"type\":\"BasicTicker\"},{\"attributes\":{\"axis_label\":\"concentration\",\"formatter\":{\"id\":\"18648\",\"type\":\"BasicTickFormatter\"},\"ticker\":{\"id\":\"18623\",\"type\":\"BasicTicker\"}},\"id\":\"18622\",\"type\":\"LinearAxis\"},{\"attributes\":{\"callback\":null},\"id\":\"16011\",\"type\":\"DataRange1d\"},{\"attributes\":{\"source\":{\"id\":\"18640\",\"type\":\"ColumnDataSource\"}},\"id\":\"18644\",\"type\":\"CDSView\"},{\"attributes\":{\"text\":\"with ATP Synthase, Proton Pump, ATP Use\"},\"id\":\"16009\",\"type\":\"Title\"},{\"attributes\":{\"line_color\":\"#1f77b3\",\"line_width\":2,\"x\":{\"field\":\"x\"},\"y\":{\"field\":\"y\"}},\"id\":\"16043\",\"type\":\"Line\"},{\"attributes\":{\"callback\":null,\"data\":{\"x\":{\"__ndarray__\":\"AAAAAAAAAAAxb2dIzNu5PzFvZ0jM28k/ZZNNNtlk0z8xb2dIzNvZP3+lQK1fKeA/ZZNNNtlk4z9LgVq/UqDmPzFvZ0jM2+k/F1100UUX7T9/pUCtXynwP3Icx3Ecx/E/ZZNNNtlk8z9YCtT6lQL1P0uBWr9SoPY/Pvjggw8++D8xb2dIzNv5PyTm7QyJefs/F1100UUX/T8K1PqVArX+P3+lQK1fKQBA+OCDDz74AEByHMdxHMcBQOtXCtT6lQJAZZNNNtlkA0DezpCYtzMEQFgK1PqVAgVA0UUXXXTRBUBLgVq/UqAGQMS8nSExbwdAPvjggw8+CEC3MyTm7QwJQDFvZ0jM2wlAq6qqqqqqCkAk5u0MiXkLQJ4hMW9nSAxAF1100UUXDUCRmLczJOYNQArU+pUCtQ5AhA8++OCDD0B/pUCtXykQQDtDYt7OkBBA+OCDDz74EEC1fqVArV8RQHIcx3EcxxFALrrooosuEkDrVwrU+pUSQKj1KwVq/RJAZZNNNtlkE0AiMW9nSMwTQN7OkJi3MxRAm2yyySabFEBYCtT6lQIVQBWo9SsFahVA0UUXXXTRFUCO4ziO4zgWQEuBWr9SoBZACB988MEHF0DEvJ0hMW8XQIFav1Kg1hdAPvjggw8+GED7lQK1fqUYQLczJObtDBlAdNFFF110GUAxb2dIzNsZQO4MiXk7QxpAq6qqqqqqGkBnSMzbGRIbQCTm7QyJeRtA4YMPPvjgG0CeITFvZ0gcQFq/UqDWrxxAF1100UUXHUDU+pUCtX4dQJGYtzMk5h1ATTbZZJNNHkAK1PqVArUeQMdxHMdxHB9AhA8++OCDH0BArV8pUOsfQH+lQK1fKSBAXXTRRRddIEA7Q2LezpAgQBoS83aGxCBA+OCDDz74IEDXrxSo9SshQLV+pUCtXyFAk0022WSTIUByHMdxHMchQFDrVwrU+iFALrrooosuIkANiXk7Q2IiQOtXCtT6lSJAyiabbLLJIkCo9SsFav0iQIbEvJ0hMSNAZZNNNtlkI0BDYt7OkJgjQCIxb2dIzCNAAAAAAAAAJEA=\",\"dtype\":\"float64\",\"shape\":[100]},\"y\":{\"__ndarray__\":\"AAAAAAAAJEC+/lfycyQYQGTvWr7+Yw1A2HwdM2VRA0CHx/h+tlQAQAFZQtg40QJAfm6VrExeCEA9yKWyg6EOQOkwaGBtIhJADNVl9CB1FEA2XVEheFQWQBpVr8k72RdAVq7tNAkZGUAWtF6W3iMaQGH+SflGBRtArGi1k7bFG0CM+x2VgGscQNn9l1l4+xxAhpwscVx5HUBe8vCfH+gdQJbjWO0bSh5AaSOGFzehHkCR5dEk/e4eQG19Zf6zNB9AqqbyKWpzH0C2Euf4AawfQHdBZCE63x9ApqZBNtoGIEDVdAd6/RsgQKKtfCRCLyBAg1y8YdtAIEAxUK+W9VAgQJDfk3W3XyBAtAuM30JtIEDQatedtXkgQAMEzvophSBA8wfUQLePIECktaQkcpkgQGBHLR5toiBAfbZ9s7iqIEAq73u4Y7IgQMBq+oR7uSBAg2XBIgzAIEB7IrF0IMYgQNzv/FnCyyBAu3f/yfrQIEDYf/bu0dUgQCOFQztP2iBAVotEfXneIEDPOe7vVuIgQISBl0nt5SBAGhEVyUHpIEDEeVFBWewgQEA3PSM47yBA9/HWhuLxIEBsjFczXPQgQPjPQ6ao9iBAAmnwGcv4IEAKNv6KxvogQFmdir2d/CBADGKpQlP+IEAltGl56f8gQKhD7phiASFAgUonrMACIUD7vJGaBQQhQNcOaiozBSFA4WXW/koGIUDHQI+gTgchQGqd1no/CCFANE/z4B4JIUCWJ1UN7gkhQAIx+yWuCiFA33bFO2ALIUCYU8tLBQwhQGwxS0SeDCFAASn3/ysNIUBXpGdMrw0hQIoz1ecoDiFACE11hJkOIUAtMtbGAQ8hQHxtREhiDyFAtIBjmbsPIUCZ5Rg9DhAhQHNW+LBaECFAkHL6ZqEQIUCPiZ7K4hAhQBRx7D4fESFAJGsZIVcRIUCU0MnGihEhQKdm5H66ESFAUrb0lOYRIUDgn7lMDxIhQPIEhuc0EiFAmCbenlcSIUBKTfGqdxIhQFHGOT+VEiFAcjThibASIUCZ8OG4yRIhQOIHRfPgEiFASLEPX/YSIUA=\",\"dtype\":\"float64\",\"shape\":[100]}},\"selected\":{\"id\":\"18665\",\"type\":\"Selection\"},\"selection_policy\":{\"id\":\"18664\",\"type\":\"UnionRenderers\"}},\"id\":\"18640\",\"type\":\"ColumnDataSource\"},{\"attributes\":{\"line_color\":\"#1f77b3\",\"line_width\":2,\"x\":{\"field\":\"x\"},\"y\":{\"field\":\"y\"}},\"id\":\"18641\",\"type\":\"Line\"},{\"attributes\":{\"data_source\":{\"id\":\"18640\",\"type\":\"ColumnDataSource\"},\"glyph\":{\"id\":\"18641\",\"type\":\"Line\"},\"hover_glyph\":null,\"muted_glyph\":null,\"nonselection_glyph\":{\"id\":\"18642\",\"type\":\"Line\"},\"selection_glyph\":null,\"view\":{\"id\":\"18644\",\"type\":\"CDSView\"}},\"id\":\"18643\",\"type\":\"GlyphRenderer\"},{\"attributes\":{\"below\":[{\"id\":\"18712\",\"type\":\"LinearAxis\"}],\"center\":[{\"id\":\"18716\",\"type\":\"Grid\"},{\"id\":\"18721\",\"type\":\"Grid\"},{\"id\":\"18746\",\"type\":\"Legend\"}],\"left\":[{\"id\":\"18717\",\"type\":\"LinearAxis\"}],\"plot_height\":350,\"plot_width\":450,\"renderers\":[{\"id\":\"18738\",\"type\":\"GlyphRenderer\"}],\"title\":{\"id\":\"18702\",\"type\":\"Title\"},\"toolbar\":{\"id\":\"18728\",\"type\":\"Toolbar\"},\"x_range\":{\"id\":\"18704\",\"type\":\"DataRange1d\"},\"x_scale\":{\"id\":\"18708\",\"type\":\"LinearScale\"},\"y_range\":{\"id\":\"18706\",\"type\":\"DataRange1d\"},\"y_scale\":{\"id\":\"18710\",\"type\":\"LinearScale\"}},\"id\":\"18701\",\"subtype\":\"Figure\",\"type\":\"Plot\"},{\"attributes\":{\"callback\":null},\"id\":\"16013\",\"type\":\"DataRange1d\"},{\"attributes\":{},\"id\":\"18627\",\"type\":\"PanTool\"}],\"root_ids\":[\"19572\"]},\"title\":\"Bokeh Application\",\"version\":\"1.4.0\"}};\n",
       "  var render_items = [{\"docid\":\"b345cf6a-78ad-4aff-988a-59eca46b5eeb\",\"roots\":{\"19572\":\"e4c5b07a-bf82-4601-a054-75b16dd160c2\"}}];\n",
       "  root.Bokeh.embed.embed_items_notebook(docs_json, render_items);\n",
       "\n",
       "  }\n",
       "  if (root.Bokeh !== undefined) {\n",
       "    embed_document(root);\n",
       "  } else {\n",
       "    var attempts = 0;\n",
       "    var timer = setInterval(function(root) {\n",
       "      if (root.Bokeh !== undefined) {\n",
       "        clearInterval(timer);\n",
       "        embed_document(root);\n",
       "      } else {\n",
       "        attempts++;\n",
       "        if (attempts > 100) {\n",
       "          clearInterval(timer);\n",
       "          console.log(\"Bokeh: ERROR: Unable to run BokehJS code because BokehJS library is missing\");\n",
       "        }\n",
       "      }\n",
       "    }, 10, root)\n",
       "  }\n",
       "})(window);"
      ],
      "application/vnd.bokehjs_exec.v0+json": ""
     },
     "metadata": {
      "application/vnd.bokehjs_exec.v0+json": {
       "id": "19572"
      }
     },
     "output_type": "display_data"
    }
   ],
   "source": [
    "bokeh.io.show(row(p3,p_w_atp, p_no_atp))"
   ]
  },
  {
   "cell_type": "markdown",
   "metadata": {},
   "source": [
    "Why does plot 2 have higher steady state, how does temperature affect?"
   ]
  },
  {
   "cell_type": "code",
   "execution_count": null,
   "metadata": {},
   "outputs": [],
   "source": []
  }
 ],
 "metadata": {
  "kernelspec": {
   "display_name": "Python 3",
   "language": "python",
   "name": "python3"
  },
  "language_info": {
   "codemirror_mode": {
    "name": "ipython",
    "version": 3
   },
   "file_extension": ".py",
   "mimetype": "text/x-python",
   "name": "python",
   "nbconvert_exporter": "python",
   "pygments_lexer": "ipython3",
   "version": "3.7.7"
  }
 },
 "nbformat": 4,
 "nbformat_minor": 4
}
