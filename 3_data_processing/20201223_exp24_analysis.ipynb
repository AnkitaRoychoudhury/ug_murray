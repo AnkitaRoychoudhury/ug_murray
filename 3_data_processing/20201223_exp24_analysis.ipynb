{
 "cells": [
  {
   "cell_type": "markdown",
   "metadata": {},
   "source": [
    "# Experiment 24 Analysis"
   ]
  },
  {
   "cell_type": "code",
   "execution_count": 1,
   "metadata": {},
   "outputs": [],
   "source": [
    "# import cell\n"
   ]
  },
  {
   "cell_type": "markdown",
   "metadata": {},
   "source": [
    "Get fluor values"
   ]
  },
  {
   "cell_type": "code",
   "execution_count": 10,
   "metadata": {},
   "outputs": [],
   "source": [
    "adp_0 = [31,36264,46382,8158,8515]\n",
    "atp_0 = [54,76410,60933,231948,318]\n",
    "\n",
    "adp_1 = [30,10397,10289,23193,8879]\n",
    "atp_1 = [12,3807,4179,35835,46]"
   ]
  },
  {
   "cell_type": "markdown",
   "metadata": {},
   "source": [
    "Calculate atp/adp ratios"
   ]
  },
  {
   "cell_type": "code",
   "execution_count": 12,
   "metadata": {},
   "outputs": [
    {
     "data": {
      "text/plain": [
       "([1.7419354838709677,\n",
       "  2.10704831237591,\n",
       "  1.3137208399810272,\n",
       "  28.431968619759743,\n",
       "  0.037345860246623605],\n",
       " [0.4,\n",
       "  0.36616331634125227,\n",
       "  0.4061619204976188,\n",
       "  1.5450782563704566,\n",
       "  0.005180763599504448])"
      ]
     },
     "execution_count": 12,
     "metadata": {},
     "output_type": "execute_result"
    }
   ],
   "source": [
    "ratio_0 = [atp_0[i] / adp for i,adp in enumerate(adp_0)]\n",
    "ratio_1 = [atp_1[i] / adp1 for i,adp1 in enumerate(adp_1)]\n",
    "ratio_0,ratio_1"
   ]
  },
  {
   "cell_type": "code",
   "execution_count": 11,
   "metadata": {},
   "outputs": [],
   "source": [
    "p = bokeh.plotting.figure()\n"
   ]
  },
  {
   "cell_type": "code",
   "execution_count": null,
   "metadata": {},
   "outputs": [],
   "source": []
  }
 ],
 "metadata": {
  "kernelspec": {
   "display_name": "Python 3",
   "language": "python",
   "name": "python3"
  },
  "language_info": {
   "codemirror_mode": {
    "name": "ipython",
    "version": 3
   },
   "file_extension": ".py",
   "mimetype": "text/x-python",
   "name": "python",
   "nbconvert_exporter": "python",
   "pygments_lexer": "ipython3",
   "version": "3.7.7"
  }
 },
 "nbformat": 4,
 "nbformat_minor": 4
}
