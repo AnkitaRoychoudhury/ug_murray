{
 "cells": [
  {
   "cell_type": "markdown",
   "metadata": {},
   "source": [
    "# Combine Sub-SBML models with TXTL Machinery\n",
    "---"
   ]
  },
  {
   "cell_type": "markdown",
   "metadata": {},
   "source": [
    "Do this so you can incorporate temperature control <br>\n",
    "2020.08.14"
   ]
  },
  {
   "cell_type": "code",
   "execution_count": 1,
   "metadata": {},
   "outputs": [
    {
     "data": {
      "text/html": [
       "\n",
       "    <div class=\"bk-root\">\n",
       "        <a href=\"https://bokeh.org\" target=\"_blank\" class=\"bk-logo bk-logo-small bk-logo-notebook\"></a>\n",
       "        <span id=\"1001\">Loading BokehJS ...</span>\n",
       "    </div>"
      ]
     },
     "metadata": {},
     "output_type": "display_data"
    },
    {
     "data": {
      "application/javascript": [
       "\n",
       "(function(root) {\n",
       "  function now() {\n",
       "    return new Date();\n",
       "  }\n",
       "\n",
       "  var force = true;\n",
       "\n",
       "  if (typeof root._bokeh_onload_callbacks === \"undefined\" || force === true) {\n",
       "    root._bokeh_onload_callbacks = [];\n",
       "    root._bokeh_is_loading = undefined;\n",
       "  }\n",
       "\n",
       "  var JS_MIME_TYPE = 'application/javascript';\n",
       "  var HTML_MIME_TYPE = 'text/html';\n",
       "  var EXEC_MIME_TYPE = 'application/vnd.bokehjs_exec.v0+json';\n",
       "  var CLASS_NAME = 'output_bokeh rendered_html';\n",
       "\n",
       "  /**\n",
       "   * Render data to the DOM node\n",
       "   */\n",
       "  function render(props, node) {\n",
       "    var script = document.createElement(\"script\");\n",
       "    node.appendChild(script);\n",
       "  }\n",
       "\n",
       "  /**\n",
       "   * Handle when an output is cleared or removed\n",
       "   */\n",
       "  function handleClearOutput(event, handle) {\n",
       "    var cell = handle.cell;\n",
       "\n",
       "    var id = cell.output_area._bokeh_element_id;\n",
       "    var server_id = cell.output_area._bokeh_server_id;\n",
       "    // Clean up Bokeh references\n",
       "    if (id != null && id in Bokeh.index) {\n",
       "      Bokeh.index[id].model.document.clear();\n",
       "      delete Bokeh.index[id];\n",
       "    }\n",
       "\n",
       "    if (server_id !== undefined) {\n",
       "      // Clean up Bokeh references\n",
       "      var cmd = \"from bokeh.io.state import curstate; print(curstate().uuid_to_server['\" + server_id + \"'].get_sessions()[0].document.roots[0]._id)\";\n",
       "      cell.notebook.kernel.execute(cmd, {\n",
       "        iopub: {\n",
       "          output: function(msg) {\n",
       "            var id = msg.content.text.trim();\n",
       "            if (id in Bokeh.index) {\n",
       "              Bokeh.index[id].model.document.clear();\n",
       "              delete Bokeh.index[id];\n",
       "            }\n",
       "          }\n",
       "        }\n",
       "      });\n",
       "      // Destroy server and session\n",
       "      var cmd = \"import bokeh.io.notebook as ion; ion.destroy_server('\" + server_id + \"')\";\n",
       "      cell.notebook.kernel.execute(cmd);\n",
       "    }\n",
       "  }\n",
       "\n",
       "  /**\n",
       "   * Handle when a new output is added\n",
       "   */\n",
       "  function handleAddOutput(event, handle) {\n",
       "    var output_area = handle.output_area;\n",
       "    var output = handle.output;\n",
       "\n",
       "    // limit handleAddOutput to display_data with EXEC_MIME_TYPE content only\n",
       "    if ((output.output_type != \"display_data\") || (!output.data.hasOwnProperty(EXEC_MIME_TYPE))) {\n",
       "      return\n",
       "    }\n",
       "\n",
       "    var toinsert = output_area.element.find(\".\" + CLASS_NAME.split(' ')[0]);\n",
       "\n",
       "    if (output.metadata[EXEC_MIME_TYPE][\"id\"] !== undefined) {\n",
       "      toinsert[toinsert.length - 1].firstChild.textContent = output.data[JS_MIME_TYPE];\n",
       "      // store reference to embed id on output_area\n",
       "      output_area._bokeh_element_id = output.metadata[EXEC_MIME_TYPE][\"id\"];\n",
       "    }\n",
       "    if (output.metadata[EXEC_MIME_TYPE][\"server_id\"] !== undefined) {\n",
       "      var bk_div = document.createElement(\"div\");\n",
       "      bk_div.innerHTML = output.data[HTML_MIME_TYPE];\n",
       "      var script_attrs = bk_div.children[0].attributes;\n",
       "      for (var i = 0; i < script_attrs.length; i++) {\n",
       "        toinsert[toinsert.length - 1].firstChild.setAttribute(script_attrs[i].name, script_attrs[i].value);\n",
       "        toinsert[toinsert.length - 1].firstChild.textContent = bk_div.children[0].textContent\n",
       "      }\n",
       "      // store reference to server id on output_area\n",
       "      output_area._bokeh_server_id = output.metadata[EXEC_MIME_TYPE][\"server_id\"];\n",
       "    }\n",
       "  }\n",
       "\n",
       "  function register_renderer(events, OutputArea) {\n",
       "\n",
       "    function append_mime(data, metadata, element) {\n",
       "      // create a DOM node to render to\n",
       "      var toinsert = this.create_output_subarea(\n",
       "        metadata,\n",
       "        CLASS_NAME,\n",
       "        EXEC_MIME_TYPE\n",
       "      );\n",
       "      this.keyboard_manager.register_events(toinsert);\n",
       "      // Render to node\n",
       "      var props = {data: data, metadata: metadata[EXEC_MIME_TYPE]};\n",
       "      render(props, toinsert[toinsert.length - 1]);\n",
       "      element.append(toinsert);\n",
       "      return toinsert\n",
       "    }\n",
       "\n",
       "    /* Handle when an output is cleared or removed */\n",
       "    events.on('clear_output.CodeCell', handleClearOutput);\n",
       "    events.on('delete.Cell', handleClearOutput);\n",
       "\n",
       "    /* Handle when a new output is added */\n",
       "    events.on('output_added.OutputArea', handleAddOutput);\n",
       "\n",
       "    /**\n",
       "     * Register the mime type and append_mime function with output_area\n",
       "     */\n",
       "    OutputArea.prototype.register_mime_type(EXEC_MIME_TYPE, append_mime, {\n",
       "      /* Is output safe? */\n",
       "      safe: true,\n",
       "      /* Index of renderer in `output_area.display_order` */\n",
       "      index: 0\n",
       "    });\n",
       "  }\n",
       "\n",
       "  // register the mime type if in Jupyter Notebook environment and previously unregistered\n",
       "  if (root.Jupyter !== undefined) {\n",
       "    var events = require('base/js/events');\n",
       "    var OutputArea = require('notebook/js/outputarea').OutputArea;\n",
       "\n",
       "    if (OutputArea.prototype.mime_types().indexOf(EXEC_MIME_TYPE) == -1) {\n",
       "      register_renderer(events, OutputArea);\n",
       "    }\n",
       "  }\n",
       "\n",
       "  \n",
       "  if (typeof (root._bokeh_timeout) === \"undefined\" || force === true) {\n",
       "    root._bokeh_timeout = Date.now() + 5000;\n",
       "    root._bokeh_failed_load = false;\n",
       "  }\n",
       "\n",
       "  var NB_LOAD_WARNING = {'data': {'text/html':\n",
       "     \"<div style='background-color: #fdd'>\\n\"+\n",
       "     \"<p>\\n\"+\n",
       "     \"BokehJS does not appear to have successfully loaded. If loading BokehJS from CDN, this \\n\"+\n",
       "     \"may be due to a slow or bad network connection. Possible fixes:\\n\"+\n",
       "     \"</p>\\n\"+\n",
       "     \"<ul>\\n\"+\n",
       "     \"<li>re-rerun `output_notebook()` to attempt to load from CDN again, or</li>\\n\"+\n",
       "     \"<li>use INLINE resources instead, as so:</li>\\n\"+\n",
       "     \"</ul>\\n\"+\n",
       "     \"<code>\\n\"+\n",
       "     \"from bokeh.resources import INLINE\\n\"+\n",
       "     \"output_notebook(resources=INLINE)\\n\"+\n",
       "     \"</code>\\n\"+\n",
       "     \"</div>\"}};\n",
       "\n",
       "  function display_loaded() {\n",
       "    var el = document.getElementById(\"1001\");\n",
       "    if (el != null) {\n",
       "      el.textContent = \"BokehJS is loading...\";\n",
       "    }\n",
       "    if (root.Bokeh !== undefined) {\n",
       "      if (el != null) {\n",
       "        el.textContent = \"BokehJS \" + root.Bokeh.version + \" successfully loaded.\";\n",
       "      }\n",
       "    } else if (Date.now() < root._bokeh_timeout) {\n",
       "      setTimeout(display_loaded, 100)\n",
       "    }\n",
       "  }\n",
       "\n",
       "\n",
       "  function run_callbacks() {\n",
       "    try {\n",
       "      root._bokeh_onload_callbacks.forEach(function(callback) {\n",
       "        if (callback != null)\n",
       "          callback();\n",
       "      });\n",
       "    } finally {\n",
       "      delete root._bokeh_onload_callbacks\n",
       "    }\n",
       "    console.debug(\"Bokeh: all callbacks have finished\");\n",
       "  }\n",
       "\n",
       "  function load_libs(css_urls, js_urls, callback) {\n",
       "    if (css_urls == null) css_urls = [];\n",
       "    if (js_urls == null) js_urls = [];\n",
       "\n",
       "    root._bokeh_onload_callbacks.push(callback);\n",
       "    if (root._bokeh_is_loading > 0) {\n",
       "      console.debug(\"Bokeh: BokehJS is being loaded, scheduling callback at\", now());\n",
       "      return null;\n",
       "    }\n",
       "    if (js_urls == null || js_urls.length === 0) {\n",
       "      run_callbacks();\n",
       "      return null;\n",
       "    }\n",
       "    console.debug(\"Bokeh: BokehJS not loaded, scheduling load and callback at\", now());\n",
       "    root._bokeh_is_loading = css_urls.length + js_urls.length;\n",
       "\n",
       "    function on_load() {\n",
       "      root._bokeh_is_loading--;\n",
       "      if (root._bokeh_is_loading === 0) {\n",
       "        console.debug(\"Bokeh: all BokehJS libraries/stylesheets loaded\");\n",
       "        run_callbacks()\n",
       "      }\n",
       "    }\n",
       "\n",
       "    function on_error() {\n",
       "      console.error(\"failed to load \" + url);\n",
       "    }\n",
       "\n",
       "    for (var i = 0; i < css_urls.length; i++) {\n",
       "      var url = css_urls[i];\n",
       "      const element = document.createElement(\"link\");\n",
       "      element.onload = on_load;\n",
       "      element.onerror = on_error;\n",
       "      element.rel = \"stylesheet\";\n",
       "      element.type = \"text/css\";\n",
       "      element.href = url;\n",
       "      console.debug(\"Bokeh: injecting link tag for BokehJS stylesheet: \", url);\n",
       "      document.body.appendChild(element);\n",
       "    }\n",
       "\n",
       "    const hashes = {\"https://cdn.bokeh.org/bokeh/release/bokeh-2.2.1.min.js\": \"qkRvDQVAIfzsJo40iRBbxt6sttt0hv4lh74DG7OK4MCHv4C5oohXYoHUM5W11uqS\", \"https://cdn.bokeh.org/bokeh/release/bokeh-widgets-2.2.1.min.js\": \"Sb7Mr06a9TNlet/GEBeKaf5xH3eb6AlCzwjtU82wNPyDrnfoiVl26qnvlKjmcAd+\", \"https://cdn.bokeh.org/bokeh/release/bokeh-tables-2.2.1.min.js\": \"HaJ15vgfmcfRtB4c4YBOI4f1MUujukqInOWVqZJZZGK7Q+ivud0OKGSTn/Vm2iso\"};\n",
       "\n",
       "    for (var i = 0; i < js_urls.length; i++) {\n",
       "      var url = js_urls[i];\n",
       "      var element = document.createElement('script');\n",
       "      element.onload = on_load;\n",
       "      element.onerror = on_error;\n",
       "      element.async = false;\n",
       "      element.src = url;\n",
       "      if (url in hashes) {\n",
       "        element.crossOrigin = \"anonymous\";\n",
       "        element.integrity = \"sha384-\" + hashes[url];\n",
       "      }\n",
       "      console.debug(\"Bokeh: injecting script tag for BokehJS library: \", url);\n",
       "      document.head.appendChild(element);\n",
       "    }\n",
       "  };\n",
       "\n",
       "  function inject_raw_css(css) {\n",
       "    const element = document.createElement(\"style\");\n",
       "    element.appendChild(document.createTextNode(css));\n",
       "    document.body.appendChild(element);\n",
       "  }\n",
       "\n",
       "  \n",
       "  var js_urls = [\"https://cdn.bokeh.org/bokeh/release/bokeh-2.2.1.min.js\", \"https://cdn.bokeh.org/bokeh/release/bokeh-widgets-2.2.1.min.js\", \"https://cdn.bokeh.org/bokeh/release/bokeh-tables-2.2.1.min.js\"];\n",
       "  var css_urls = [];\n",
       "  \n",
       "\n",
       "  var inline_js = [\n",
       "    function(Bokeh) {\n",
       "      Bokeh.set_log_level(\"info\");\n",
       "    },\n",
       "    function(Bokeh) {\n",
       "    \n",
       "    \n",
       "    }\n",
       "  ];\n",
       "\n",
       "  function run_inline_js() {\n",
       "    \n",
       "    if (root.Bokeh !== undefined || force === true) {\n",
       "      \n",
       "    for (var i = 0; i < inline_js.length; i++) {\n",
       "      inline_js[i].call(root, root.Bokeh);\n",
       "    }\n",
       "    if (force === true) {\n",
       "        display_loaded();\n",
       "      }} else if (Date.now() < root._bokeh_timeout) {\n",
       "      setTimeout(run_inline_js, 100);\n",
       "    } else if (!root._bokeh_failed_load) {\n",
       "      console.log(\"Bokeh: BokehJS failed to load within specified timeout.\");\n",
       "      root._bokeh_failed_load = true;\n",
       "    } else if (force !== true) {\n",
       "      var cell = $(document.getElementById(\"1001\")).parents('.cell').data().cell;\n",
       "      cell.output_area.append_execute_result(NB_LOAD_WARNING)\n",
       "    }\n",
       "\n",
       "  }\n",
       "\n",
       "  if (root._bokeh_is_loading === 0) {\n",
       "    console.debug(\"Bokeh: BokehJS loaded, going straight to plotting\");\n",
       "    run_inline_js();\n",
       "  } else {\n",
       "    load_libs(css_urls, js_urls, function() {\n",
       "      console.debug(\"Bokeh: BokehJS plotting callback run at\", now());\n",
       "      run_inline_js();\n",
       "    });\n",
       "  }\n",
       "}(window));"
      ],
      "application/vnd.bokehjs_load.v0+json": "\n(function(root) {\n  function now() {\n    return new Date();\n  }\n\n  var force = true;\n\n  if (typeof root._bokeh_onload_callbacks === \"undefined\" || force === true) {\n    root._bokeh_onload_callbacks = [];\n    root._bokeh_is_loading = undefined;\n  }\n\n  \n\n  \n  if (typeof (root._bokeh_timeout) === \"undefined\" || force === true) {\n    root._bokeh_timeout = Date.now() + 5000;\n    root._bokeh_failed_load = false;\n  }\n\n  var NB_LOAD_WARNING = {'data': {'text/html':\n     \"<div style='background-color: #fdd'>\\n\"+\n     \"<p>\\n\"+\n     \"BokehJS does not appear to have successfully loaded. If loading BokehJS from CDN, this \\n\"+\n     \"may be due to a slow or bad network connection. Possible fixes:\\n\"+\n     \"</p>\\n\"+\n     \"<ul>\\n\"+\n     \"<li>re-rerun `output_notebook()` to attempt to load from CDN again, or</li>\\n\"+\n     \"<li>use INLINE resources instead, as so:</li>\\n\"+\n     \"</ul>\\n\"+\n     \"<code>\\n\"+\n     \"from bokeh.resources import INLINE\\n\"+\n     \"output_notebook(resources=INLINE)\\n\"+\n     \"</code>\\n\"+\n     \"</div>\"}};\n\n  function display_loaded() {\n    var el = document.getElementById(\"1001\");\n    if (el != null) {\n      el.textContent = \"BokehJS is loading...\";\n    }\n    if (root.Bokeh !== undefined) {\n      if (el != null) {\n        el.textContent = \"BokehJS \" + root.Bokeh.version + \" successfully loaded.\";\n      }\n    } else if (Date.now() < root._bokeh_timeout) {\n      setTimeout(display_loaded, 100)\n    }\n  }\n\n\n  function run_callbacks() {\n    try {\n      root._bokeh_onload_callbacks.forEach(function(callback) {\n        if (callback != null)\n          callback();\n      });\n    } finally {\n      delete root._bokeh_onload_callbacks\n    }\n    console.debug(\"Bokeh: all callbacks have finished\");\n  }\n\n  function load_libs(css_urls, js_urls, callback) {\n    if (css_urls == null) css_urls = [];\n    if (js_urls == null) js_urls = [];\n\n    root._bokeh_onload_callbacks.push(callback);\n    if (root._bokeh_is_loading > 0) {\n      console.debug(\"Bokeh: BokehJS is being loaded, scheduling callback at\", now());\n      return null;\n    }\n    if (js_urls == null || js_urls.length === 0) {\n      run_callbacks();\n      return null;\n    }\n    console.debug(\"Bokeh: BokehJS not loaded, scheduling load and callback at\", now());\n    root._bokeh_is_loading = css_urls.length + js_urls.length;\n\n    function on_load() {\n      root._bokeh_is_loading--;\n      if (root._bokeh_is_loading === 0) {\n        console.debug(\"Bokeh: all BokehJS libraries/stylesheets loaded\");\n        run_callbacks()\n      }\n    }\n\n    function on_error() {\n      console.error(\"failed to load \" + url);\n    }\n\n    for (var i = 0; i < css_urls.length; i++) {\n      var url = css_urls[i];\n      const element = document.createElement(\"link\");\n      element.onload = on_load;\n      element.onerror = on_error;\n      element.rel = \"stylesheet\";\n      element.type = \"text/css\";\n      element.href = url;\n      console.debug(\"Bokeh: injecting link tag for BokehJS stylesheet: \", url);\n      document.body.appendChild(element);\n    }\n\n    const hashes = {\"https://cdn.bokeh.org/bokeh/release/bokeh-2.2.1.min.js\": \"qkRvDQVAIfzsJo40iRBbxt6sttt0hv4lh74DG7OK4MCHv4C5oohXYoHUM5W11uqS\", \"https://cdn.bokeh.org/bokeh/release/bokeh-widgets-2.2.1.min.js\": \"Sb7Mr06a9TNlet/GEBeKaf5xH3eb6AlCzwjtU82wNPyDrnfoiVl26qnvlKjmcAd+\", \"https://cdn.bokeh.org/bokeh/release/bokeh-tables-2.2.1.min.js\": \"HaJ15vgfmcfRtB4c4YBOI4f1MUujukqInOWVqZJZZGK7Q+ivud0OKGSTn/Vm2iso\"};\n\n    for (var i = 0; i < js_urls.length; i++) {\n      var url = js_urls[i];\n      var element = document.createElement('script');\n      element.onload = on_load;\n      element.onerror = on_error;\n      element.async = false;\n      element.src = url;\n      if (url in hashes) {\n        element.crossOrigin = \"anonymous\";\n        element.integrity = \"sha384-\" + hashes[url];\n      }\n      console.debug(\"Bokeh: injecting script tag for BokehJS library: \", url);\n      document.head.appendChild(element);\n    }\n  };\n\n  function inject_raw_css(css) {\n    const element = document.createElement(\"style\");\n    element.appendChild(document.createTextNode(css));\n    document.body.appendChild(element);\n  }\n\n  \n  var js_urls = [\"https://cdn.bokeh.org/bokeh/release/bokeh-2.2.1.min.js\", \"https://cdn.bokeh.org/bokeh/release/bokeh-widgets-2.2.1.min.js\", \"https://cdn.bokeh.org/bokeh/release/bokeh-tables-2.2.1.min.js\"];\n  var css_urls = [];\n  \n\n  var inline_js = [\n    function(Bokeh) {\n      Bokeh.set_log_level(\"info\");\n    },\n    function(Bokeh) {\n    \n    \n    }\n  ];\n\n  function run_inline_js() {\n    \n    if (root.Bokeh !== undefined || force === true) {\n      \n    for (var i = 0; i < inline_js.length; i++) {\n      inline_js[i].call(root, root.Bokeh);\n    }\n    if (force === true) {\n        display_loaded();\n      }} else if (Date.now() < root._bokeh_timeout) {\n      setTimeout(run_inline_js, 100);\n    } else if (!root._bokeh_failed_load) {\n      console.log(\"Bokeh: BokehJS failed to load within specified timeout.\");\n      root._bokeh_failed_load = true;\n    } else if (force !== true) {\n      var cell = $(document.getElementById(\"1001\")).parents('.cell').data().cell;\n      cell.output_area.append_execute_result(NB_LOAD_WARNING)\n    }\n\n  }\n\n  if (root._bokeh_is_loading === 0) {\n    console.debug(\"Bokeh: BokehJS loaded, going straight to plotting\");\n    run_inline_js();\n  } else {\n    load_libs(css_urls, js_urls, function() {\n      console.debug(\"Bokeh: BokehJS plotting callback run at\", now());\n      run_inline_js();\n    });\n  }\n}(window));"
     },
     "metadata": {},
     "output_type": "display_data"
    }
   ],
   "source": [
    "from biocrnpyler import *\n",
    "#from biocrnpyler.chemical_reaction_network import Species, Reaction, ComplexSpecies, Multimer\n",
    "import numpy as np\n",
    "#import pylab as plt \n",
    "#%matplotlib inline\n",
    "\n",
    "import bokeh.io\n",
    "import bokeh.plotting\n",
    "from bokeh.layouts import row\n",
    "\n",
    "bokeh.io.output_notebook()\n",
    "\n",
    "import colorcet\n",
    "\n",
    "from subsbml import createNewSubsystem, createSubsystem"
   ]
  },
  {
   "cell_type": "code",
   "execution_count": 2,
   "metadata": {},
   "outputs": [],
   "source": [
    "palette = colorcet.b_glasbey_category10\n",
    "palette.remove( '#d62628')"
   ]
  },
  {
   "cell_type": "code",
   "execution_count": 3,
   "metadata": {},
   "outputs": [],
   "source": [
    "p_atp = bokeh.plotting.figure(width = 450, height = 350,\n",
    "                             title = 'ATP Compare',\n",
    "                             x_axis_label = 'time (sec)',\n",
    "                             y_axis_label = 'concentration (nM)')"
   ]
  },
  {
   "cell_type": "markdown",
   "metadata": {},
   "source": [
    "## Combine atp synthase with txtl machinery \n",
    "---"
   ]
  },
  {
   "cell_type": "markdown",
   "metadata": {},
   "source": [
    "Load in subsystem models"
   ]
  },
  {
   "cell_type": "code",
   "execution_count": 21,
   "metadata": {},
   "outputs": [],
   "source": [
    "# atp synthase models\n",
    "ss1_atpsyn_txtl = createSubsystem('atpsynthase_machinery_txtl.xml', subsystemName = 'atpsyn_txtl')\n",
    "ss2_atpsyn_mi = createSubsystem('atpsynthase_membrane_integration.xml', subsystemName = 'atpsyn_mi')\n",
    "ss3_atpsynthesis = createSubsystem('atp_synthesis_through_atpsynthase_try.xml', subsystemName = 'atpsynthesis')\n",
    "ss4_atp_use = createSubsystem('atp_50_use.xml', subsystemName = 'atp_use')"
   ]
  },
  {
   "cell_type": "markdown",
   "metadata": {},
   "source": [
    "Combine all models"
   ]
  },
  {
   "cell_type": "code",
   "execution_count": 22,
   "metadata": {},
   "outputs": [],
   "source": [
    "atp_subsystem_w_use = ss1_atpsyn_txtl + ss2_atpsyn_mi + ss3_atpsynthesis + ss4_atp_use"
   ]
  },
  {
   "cell_type": "markdown",
   "metadata": {},
   "source": [
    "Indicate initial conditions and timepoints, simulate with bioscrape, and get species IDs that you may want to plot"
   ]
  },
  {
   "cell_type": "code",
   "execution_count": 23,
   "metadata": {},
   "outputs": [
    {
     "name": "stderr",
     "output_type": "stream",
     "text": [
      "/Users/ankitaroychoudhury/opt/anaconda3/lib/python3.7/site-packages/subsbml-0.1-py3.7.egg/subsbml/Subsystem.py:1991: UserWarning: Depricated Warning: Bioscrape XML is being replaced by SBML and will no longer be supported in a future version of the software.\n",
      "/Users/ankitaroychoudhury/opt/anaconda3/lib/python3.7/site-packages/scipy/integrate/odepack.py:248: ODEintWarning: Excess work done on this call (perhaps wrong Dfun type). Run with full_output = 1 to get quantitative information.\n",
      "  warnings.warn(warning_msg, ODEintWarning)\n",
      "odeint failed with mxstep=500..."
     ]
    }
   ],
   "source": [
    "# SIMULATE WITH ATP SYNTHASE\n",
    "# Initial conditions\n",
    "spec_list_10 = ['dna_atpsyn', 'proton_outside_H',\n",
    "                 'protein_RNAP_machinery', \n",
    "                'protein_Ribo_machinery', 'protein_RNAse_machinery']\n",
    "for i,spec in enumerate(spec_list_10):\n",
    "    atp_subsystem_w_use.setSpeciesAmount(spec,10)\n",
    "    \n",
    "atp_subsystem_w_use.setSpeciesAmount('metabolite_atp',10)\n",
    "\n",
    "\n",
    "# timepoints and get WITH ATP SYNTHASE\n",
    "timepoints = np.linspace(0,31600,100) #31600\n",
    "results1, _ = atp_subsystem_w_use.simulateWithBioscrape(timepoints, sbml_warnings = False)\n",
    "\n",
    "# Get species IDs\n",
    "ATP_id = atp_subsystem_w_use.getSpeciesByName('metabolite_atp').getId()\n",
    "ADP_id = atp_subsystem_w_use.getSpeciesByName('metabolite_adp').getId()\n",
    "\n",
    "outside_H_id = atp_subsystem_w_use.getSpeciesByName('proton_outside_H').getId()\n",
    "inside_H_id = atp_subsystem_w_use.getSpeciesByName('proton_inside_H').getId()\n",
    "atp_synthase_b_protein_id = atp_subsystem_w_use.getSpeciesByName('protein_atpsyn_b').getId()\n",
    "atp_synthase_f_protein_id = atp_subsystem_w_use.getSpeciesByName('protein_atpsyn').getId()"
   ]
  },
  {
   "cell_type": "markdown",
   "metadata": {},
   "source": [
    "Perform simulations with the system with **only** ATP use, no atp synthase"
   ]
  },
  {
   "cell_type": "code",
   "execution_count": 24,
   "metadata": {},
   "outputs": [],
   "source": [
    "# SIMULATE WITHOUT ATP SYNTHASE\n",
    "#ss4_atp_use.setSpeciesAmount('proton_outside_H',10)\n",
    "ss4_atp_use.setSpeciesAmount('metabolite_atp',10)\n",
    "\n",
    "\n",
    "results2, _ = ss4_atp_use.simulateWithBioscrape(timepoints, sbml_warnings = False)\n",
    "\n",
    "# GET ATP species ID s\n",
    "ATP_id2 = ss4_atp_use.getSpeciesByName('metabolite_atp').getId()"
   ]
  },
  {
   "cell_type": "markdown",
   "metadata": {},
   "source": [
    "Plot!"
   ]
  },
  {
   "cell_type": "code",
   "execution_count": 25,
   "metadata": {},
   "outputs": [
    {
     "data": {
      "text/html": [
       "\n",
       "\n",
       "\n",
       "\n",
       "\n",
       "\n",
       "  <div class=\"bk-root\" id=\"73ddacd1-ef91-49ee-bd6e-d80d615da99f\" data-root-id=\"2936\"></div>\n"
      ]
     },
     "metadata": {},
     "output_type": "display_data"
    },
    {
     "data": {
      "application/javascript": [
       "(function(root) {\n",
       "  function embed_document(root) {\n",
       "    \n",
       "  var docs_json = {\"0711fbe0-a164-4039-89b7-ee74ded59e83\":{\"roots\":{\"references\":[{\"attributes\":{\"children\":[{\"id\":\"2722\"},{\"id\":\"2824\"}]},\"id\":\"2936\",\"type\":\"Row\"},{\"attributes\":{\"axis\":{\"id\":\"2835\"},\"ticker\":null},\"id\":\"2838\",\"type\":\"Grid\"},{\"attributes\":{\"axis\":{\"id\":\"2839\"},\"dimension\":1,\"ticker\":null},\"id\":\"2842\",\"type\":\"Grid\"},{\"attributes\":{},\"id\":\"2741\",\"type\":\"PanTool\"},{\"attributes\":{\"axis_label\":\"concentration (nM)\",\"formatter\":{\"id\":\"2761\"},\"ticker\":{\"id\":\"2738\"}},\"id\":\"2737\",\"type\":\"LinearAxis\"},{\"attributes\":{\"active_drag\":\"auto\",\"active_inspect\":\"auto\",\"active_multi\":null,\"active_scroll\":\"auto\",\"active_tap\":\"auto\",\"tools\":[{\"id\":\"2843\"},{\"id\":\"2844\"},{\"id\":\"2845\"},{\"id\":\"2846\"},{\"id\":\"2847\"},{\"id\":\"2848\"}]},\"id\":\"2850\",\"type\":\"Toolbar\"},{\"attributes\":{\"axis_label\":\"time (hrs)\",\"formatter\":{\"id\":\"2865\"},\"ticker\":{\"id\":\"2836\"}},\"id\":\"2835\",\"type\":\"LinearAxis\"},{\"attributes\":{},\"id\":\"2782\",\"type\":\"Selection\"},{\"attributes\":{\"source\":{\"id\":\"2786\"}},\"id\":\"2790\",\"type\":\"CDSView\"},{\"attributes\":{\"axis_label\":\"concentration (nM)\",\"formatter\":{\"id\":\"2863\"},\"ticker\":{\"id\":\"2840\"}},\"id\":\"2839\",\"type\":\"LinearAxis\"},{\"attributes\":{},\"id\":\"2846\",\"type\":\"SaveTool\"},{\"attributes\":{},\"id\":\"2746\",\"type\":\"HelpTool\"},{\"attributes\":{},\"id\":\"2821\",\"type\":\"UnionRenderers\"},{\"attributes\":{},\"id\":\"2829\",\"type\":\"DataRange1d\"},{\"attributes\":{},\"id\":\"2766\",\"type\":\"UnionRenderers\"},{\"attributes\":{\"line_color\":\"#2ba02b\",\"line_width\":2,\"x\":{\"field\":\"x\"},\"y\":{\"field\":\"y\"}},\"id\":\"2787\",\"type\":\"Line\"},{\"attributes\":{\"line_alpha\":0.1,\"line_color\":\"#1f77b3\",\"line_width\":2,\"x\":{\"field\":\"x\"},\"y\":{\"field\":\"y\"}},\"id\":\"2859\",\"type\":\"Line\"},{\"attributes\":{\"bottom_units\":\"screen\",\"fill_alpha\":0.5,\"fill_color\":\"lightgrey\",\"left_units\":\"screen\",\"level\":\"overlay\",\"line_alpha\":1.0,\"line_color\":\"black\",\"line_dash\":[4,4],\"line_width\":2,\"right_units\":\"screen\",\"top_units\":\"screen\"},\"id\":\"2849\",\"type\":\"BoxAnnotation\"},{\"attributes\":{},\"id\":\"2745\",\"type\":\"ResetTool\"},{\"attributes\":{\"data_source\":{\"id\":\"2770\"},\"glyph\":{\"id\":\"2771\"},\"hover_glyph\":null,\"muted_glyph\":null,\"nonselection_glyph\":{\"id\":\"2772\"},\"selection_glyph\":null,\"view\":{\"id\":\"2774\"}},\"id\":\"2773\",\"type\":\"GlyphRenderer\"},{\"attributes\":{},\"id\":\"2848\",\"type\":\"HelpTool\"},{\"attributes\":{},\"id\":\"2836\",\"type\":\"BasicTicker\"},{\"attributes\":{\"axis\":{\"id\":\"2733\"},\"ticker\":null},\"id\":\"2736\",\"type\":\"Grid\"},{\"attributes\":{\"data\":{\"x\":{\"__ndarray__\":\"AAAAAAAAAAD0kcwotrK2P/SRzCi2ssY/d22ZnggG0T/0kcwotrLWP3K2/7JjX9w/d22ZnggG4T+2/7JjX9zjP/SRzCi2suY/MyTm7QyJ6T9ytv+yY1/sP7BIGXi6Ne8/d22ZnggG8T+WNiYBNHHyP7b/smNf3PM/1sg/xopH9T/0kcwotrL2PxNbWYvhHfg/MyTm7QyJ+T9T7XJQOPT6P3K2/7JjX/w/kH+MFY/K/T+wSBl4ujX/P+gIU+1yUABAd22ZnggGAUAG0t9PnrsBQJY2JgE0cQJAJptssskmA0C2/7JjX9wDQEVk+RT1kQRA1sg/xopHBUBlLYZ3IP0FQPSRzCi2sgZAhPYS2ktoB0ATW1mL4R0IQKS/nzx30whAMyTm7QyJCUDCiCyfoj4KQFPtclA49ApA4lG5Ac6pC0Bytv+yY18MQAEbRmT5FA1AkH+MFY/KDUAh5NLGJIAOQLBIGXi6NQ9AQK1fKVDrD0DoCFPtclAQQDA79sU9qxBAd22ZnggGEUC/nzx302ARQAbS30+euxFATwSDKGkWEkCWNiYBNHESQN9oydn+yxJAJptssskmE0BuzQ+LlIETQLb/smNf3BNA/jFWPCo3FEBFZPkU9ZEUQI2WnO2/7BRA1sg/xopHFUAe++KeVaIVQGUthncg/RVArV8pUOtXFkD0kcwotrIWQD3EbwGBDRdAhPYS2ktoF0DMKLayFsMXQBNbWYvhHRhAXI38Y6x4GECkv588d9MYQOzxQhVCLhlAMyTm7QyJGUB7VonG1+MZQMKILJ+iPhpAC7vPd22ZGkBT7XJQOPQaQJsfFikDTxtA4lG5Ac6pG0AqhFzamAQcQHK2/7JjXxxAuuiiiy66HEABG0Zk+RQdQElN6TzEbx1AkH+MFY/KHUDasS/uWSUeQCHk0sYkgB5AaRZ2n+/aHkCwSBl4ujUfQPl6vFCFkB9AQK1fKVDrH0DEbwGBDSMgQOgIU+1yUCBADKKkWdh9IEAwO/bFPasgQFTURzKj2CBAd22ZnggGIUCcBusKbjMhQL+fPHfTYCFA4ziO4ziOIUA=\",\"dtype\":\"float64\",\"order\":\"little\",\"shape\":[100]},\"y\":{\"__ndarray__\":\"AAAAAAAAJECGUb28IVdCPThBNVyoDbg98EDCbt5mMr08siJaSqb3PWC2x7TUZmy9oO7iMen8pT01aDlTa3xAPdwVTj5p8is9AIDNc3pwLT1/RKkhGv2svZqkRLtShOE9cAYumm7q47wy7G0GefvyvMgK2/mtEfO8QJav4B4Ujb212cdV7I+yvXoiMbQyW6a9aEmfMuysxL0UqqTC6KMovit/5RVTPvk8KP5dmUbPSbxS0yUVLLGzO0A9FO9i8qc7uOPvJdaberszYQ9keN5QOyLmfnyy+V27NA1JNHkIprtAqOqI0dipOwqNN9Gy1io8gNCS9UYuczzsIQB9zraCPE60fRweU6g8Tai96TLQvjyUBw6lWK7YPA/6OY8rpfG8Gwre8b+1p7yU40ON0jygPEWsTqjS5Eq8vO1EDayNAjwyIZTlenH7OzmKJDW5bcK7zOdpzX2csTv6CbNQXBpQO1mOHPzrsD+7oO0JjtPoQDvUP4kx9NtDu5DWaoPb+Go7tSDkX7WNQDtESxzNOuNBu6ynp6KnJoc6lDakJKwnkbqI3hwxWOYDug++vHIFMkA6sFHbbUT4/blC2a8LnzhVOl66SJzwqGK6oJXzPK8vOrqEyK/uMB6YOtQg61vrrq26gH2wW9TNmzr6xQWOsHLhOhExPqxygdu6SMSEF7nozDqANQcNHb3dOlI3BDZk59g6aNZ3Hs2Y8Lp6E2aRE6oDO+hsDpmzwhe7DAhXi2LKJjvA6IudVpcku/ye4OhByF+7rJnlUv7rcTvkDRWxXbqWuwIgxrX7gbg741BrXTeF2buk9wqdVa7Iu8htDIgfJ9e7GJP0YRFk7Lt0vYOMOgYHuxMf3W88trc6F3fgAkvBnTrpCLIjknUFOnbJOzoND9q5ZE2k+BoUsTnBwrE/DDsxOZfJXldMND85yQqsqBJlOjnI3kNQzoRDORd97Vwi8Oc4ovB3ZnY+DbimOdj6PvEBONWBO6KGggY4y43ljiXlDziV3m2JCaYBuIuxgKhITM43YiTHJfTL1jff6VvnbWust4fSseOa7AM3AXmboCp3DTc=\",\"dtype\":\"float64\",\"order\":\"little\",\"shape\":[100]}},\"selected\":{\"id\":\"2782\"},\"selection_policy\":{\"id\":\"2783\"}},\"id\":\"2770\",\"type\":\"ColumnDataSource\"},{\"attributes\":{},\"id\":\"2765\",\"type\":\"Selection\"},{\"attributes\":{\"label\":{\"value\":\"inside_H\"},\"renderers\":[{\"id\":\"2789\"}]},\"id\":\"2803\",\"type\":\"LegendItem\"},{\"attributes\":{\"below\":[{\"id\":\"2733\"}],\"center\":[{\"id\":\"2736\"},{\"id\":\"2740\"},{\"id\":\"2768\"}],\"left\":[{\"id\":\"2737\"}],\"plot_height\":350,\"plot_width\":450,\"renderers\":[{\"id\":\"2758\"},{\"id\":\"2773\"},{\"id\":\"2789\"},{\"id\":\"2807\"}],\"title\":{\"id\":\"2723\"},\"toolbar\":{\"id\":\"2748\"},\"x_range\":{\"id\":\"2725\"},\"x_scale\":{\"id\":\"2729\"},\"y_range\":{\"id\":\"2727\"},\"y_scale\":{\"id\":\"2731\"}},\"id\":\"2722\",\"subtype\":\"Figure\",\"type\":\"Plot\"},{\"attributes\":{},\"id\":\"2738\",\"type\":\"BasicTicker\"},{\"attributes\":{\"data\":{\"x\":{\"__ndarray__\":\"AAAAAAAAAAD0kcwotrK2P/SRzCi2ssY/d22ZnggG0T/0kcwotrLWP3K2/7JjX9w/d22ZnggG4T+2/7JjX9zjP/SRzCi2suY/MyTm7QyJ6T9ytv+yY1/sP7BIGXi6Ne8/d22ZnggG8T+WNiYBNHHyP7b/smNf3PM/1sg/xopH9T/0kcwotrL2PxNbWYvhHfg/MyTm7QyJ+T9T7XJQOPT6P3K2/7JjX/w/kH+MFY/K/T+wSBl4ujX/P+gIU+1yUABAd22ZnggGAUAG0t9PnrsBQJY2JgE0cQJAJptssskmA0C2/7JjX9wDQEVk+RT1kQRA1sg/xopHBUBlLYZ3IP0FQPSRzCi2sgZAhPYS2ktoB0ATW1mL4R0IQKS/nzx30whAMyTm7QyJCUDCiCyfoj4KQFPtclA49ApA4lG5Ac6pC0Bytv+yY18MQAEbRmT5FA1AkH+MFY/KDUAh5NLGJIAOQLBIGXi6NQ9AQK1fKVDrD0DoCFPtclAQQDA79sU9qxBAd22ZnggGEUC/nzx302ARQAbS30+euxFATwSDKGkWEkCWNiYBNHESQN9oydn+yxJAJptssskmE0BuzQ+LlIETQLb/smNf3BNA/jFWPCo3FEBFZPkU9ZEUQI2WnO2/7BRA1sg/xopHFUAe++KeVaIVQGUthncg/RVArV8pUOtXFkD0kcwotrIWQD3EbwGBDRdAhPYS2ktoF0DMKLayFsMXQBNbWYvhHRhAXI38Y6x4GECkv588d9MYQOzxQhVCLhlAMyTm7QyJGUB7VonG1+MZQMKILJ+iPhpAC7vPd22ZGkBT7XJQOPQaQJsfFikDTxtA4lG5Ac6pG0AqhFzamAQcQHK2/7JjXxxAuuiiiy66HEABG0Zk+RQdQElN6TzEbx1AkH+MFY/KHUDasS/uWSUeQCHk0sYkgB5AaRZ2n+/aHkCwSBl4ujUfQPl6vFCFkB9AQK1fKVDrH0DEbwGBDSMgQOgIU+1yUCBADKKkWdh9IEAwO/bFPasgQFTURzKj2CBAd22ZnggGIUCcBusKbjMhQL+fPHfTYCFA4ziO4ziOIUA=\",\"dtype\":\"float64\",\"order\":\"little\",\"shape\":[100]},\"y\":{\"__ndarray__\":\"AAAAAAAAAACr//////8jQNXP/////yNAFQAAAAAAJEAnC/3///8jQLcBAAAAACRA8un/////I0Cp//////8jQM7//////yNAzf//////I0DlHAAAAAAkQKTn/v///yNA6v//////I0Dt//////8jQO3//////yNALgcAAAAAJEALJQAAAAAkQEYWAAAAACRAnVIAAAAAJEDSoxgAAAAkQOX//////yNA6P//////I0Do//////8jQOj//////yNA6P//////I0Do//////8jQOj//////yNA6P//////I0Do//////8jQOj//////yNA6P//////I0Do//////8jQOn//////yNA6P//////I0Do//////8jQOr//////yNA6P//////I0Do//////8jQOj//////yNA6P//////I0Do//////8jQOj//////yNA6P//////I0Do//////8jQOj//////yNA6P//////I0Do//////8jQOj//////yNA6P//////I0Do//////8jQOj//////yNA6P//////I0Do//////8jQOj//////yNA6P//////I0Do//////8jQOj//////yNA6P//////I0Do//////8jQOj//////yNA6P//////I0Do//////8jQOj//////yNA6P//////I0Do//////8jQOj//////yNA6P//////I0Do//////8jQOj//////yNA6P//////I0Do//////8jQOj//////yNA6P//////I0Do//////8jQOj//////yNA6P//////I0Do//////8jQOj//////yNA6P//////I0Do//////8jQOj//////yNA6P//////I0Do//////8jQOj//////yNA6P//////I0Do//////8jQOj//////yNA6P//////I0Do//////8jQOj//////yNA6P//////I0Do//////8jQOj//////yNA6P//////I0Do//////8jQOj//////yNA6P//////I0Do//////8jQOj//////yNA6P//////I0A=\",\"dtype\":\"float64\",\"order\":\"little\",\"shape\":[100]}},\"selected\":{\"id\":\"2800\"},\"selection_policy\":{\"id\":\"2801\"}},\"id\":\"2786\",\"type\":\"ColumnDataSource\"},{\"attributes\":{},\"id\":\"2783\",\"type\":\"UnionRenderers\"},{\"attributes\":{\"line_alpha\":0.1,\"line_color\":\"#ff7e0e\",\"line_width\":2,\"x\":{\"field\":\"x\"},\"y\":{\"field\":\"y\"}},\"id\":\"2772\",\"type\":\"Line\"},{\"attributes\":{},\"id\":\"2744\",\"type\":\"SaveTool\"},{\"attributes\":{\"source\":{\"id\":\"2770\"}},\"id\":\"2774\",\"type\":\"CDSView\"},{\"attributes\":{},\"id\":\"2731\",\"type\":\"LinearScale\"},{\"attributes\":{\"data\":{\"x\":{\"__ndarray__\":\"AAAAAAAAAAD0kcwotrK2P/SRzCi2ssY/d22ZnggG0T/0kcwotrLWP3K2/7JjX9w/d22ZnggG4T+2/7JjX9zjP/SRzCi2suY/MyTm7QyJ6T9ytv+yY1/sP7BIGXi6Ne8/d22ZnggG8T+WNiYBNHHyP7b/smNf3PM/1sg/xopH9T/0kcwotrL2PxNbWYvhHfg/MyTm7QyJ+T9T7XJQOPT6P3K2/7JjX/w/kH+MFY/K/T+wSBl4ujX/P+gIU+1yUABAd22ZnggGAUAG0t9PnrsBQJY2JgE0cQJAJptssskmA0C2/7JjX9wDQEVk+RT1kQRA1sg/xopHBUBlLYZ3IP0FQPSRzCi2sgZAhPYS2ktoB0ATW1mL4R0IQKS/nzx30whAMyTm7QyJCUDCiCyfoj4KQFPtclA49ApA4lG5Ac6pC0Bytv+yY18MQAEbRmT5FA1AkH+MFY/KDUAh5NLGJIAOQLBIGXi6NQ9AQK1fKVDrD0DoCFPtclAQQDA79sU9qxBAd22ZnggGEUC/nzx302ARQAbS30+euxFATwSDKGkWEkCWNiYBNHESQN9oydn+yxJAJptssskmE0BuzQ+LlIETQLb/smNf3BNA/jFWPCo3FEBFZPkU9ZEUQI2WnO2/7BRA1sg/xopHFUAe++KeVaIVQGUthncg/RVArV8pUOtXFkD0kcwotrIWQD3EbwGBDRdAhPYS2ktoF0DMKLayFsMXQBNbWYvhHRhAXI38Y6x4GECkv588d9MYQOzxQhVCLhlAMyTm7QyJGUB7VonG1+MZQMKILJ+iPhpAC7vPd22ZGkBT7XJQOPQaQJsfFikDTxtA4lG5Ac6pG0AqhFzamAQcQHK2/7JjXxxAuuiiiy66HEABG0Zk+RQdQElN6TzEbx1AkH+MFY/KHUDasS/uWSUeQCHk0sYkgB5AaRZ2n+/aHkCwSBl4ujUfQPl6vFCFkB9AQK1fKVDrH0DEbwGBDSMgQOgIU+1yUCBADKKkWdh9IEAwO/bFPasgQFTURzKj2CBAd22ZnggGIUCcBusKbjMhQL+fPHfTYCFA4ziO4ziOIUA=\",\"dtype\":\"float64\",\"order\":\"little\",\"shape\":[100]},\"y\":{\"__ndarray__\":\"AAAAAAAAJEAVXf4fOi2FuoWDYJE423C6TzNPSP8Mt7lfKWkHEQClubNhgGMZRNa4qwlEqyA81biisQfzJzTUuJpZyzovLNO4kQGPgjYk0riIqVLKPRzRuH9RFhJFFNC47vKzs5gYzrjfQjtDpwjMuMySwtK1+Mm4u+JJYsTox7iqMtHx0tjFuJqCWIHhyMO4iNLfEPC4wbjsRM5A/VG/uMvk3F8aMru4qoTrfjcSt7iHJPqdVPKyuMWIEXrjpK24g8guuB1lpbiFEJjsr0qauAUgpdFIloO4EUt5opQB37dGWVa4y43dt3tnM84CGty3rXUQ5Dmm2rfig+35cDLZtxaSyg+ovte3S6CnJd9K1reAroQ7FtfUt7K8YVFNY9O358o+Z4Tv0bcc2Rt9u3vQt5zO8SXlD863BeurUVMoy7dvB2Z9wUDIt9gjIKkvWcW3QUDa1J1xwrdMuSgBGBS/tx7ynFj0RLm38CoRsNB1s7d0xwoPWk2rtzNy5nslXp+3+6pusy1DgLfvjIlUedLNtsmTph1Hr822pJrD5hSMzbaAoeCv4mjNtlmo/XiwRc22M68aQn4izbYNtjcLTP/Mtui8VNQZ3My2w8Nxnee4zLaeyo5mtZXMtnjRqy+Dcsy2UtjI+FBPzLYt3+XBHizMtgfmAovsCMy24ewfVLrly7a88zwdiMLLtpf6WeZVn8u2cQF3ryN8y7ZLCJR48VjLticPsUG/Ncu2ABbOCo0Sy7bbHOvTWu/KtrYjCJ0ozMq2kColZvaoyrZrMUIvxIXKtkU4X/iRYsq2Hz98wV8/yrb6RZmKLRzKttRMtlP7+Mm2rlPTHMnVybaKWvDllrLJtmRhDa9kj8m2PmgqeDJsybYZb0dBAEnJtvR1ZArOJcm2znyB05sCybaog56cad/ItoOKu2U3vMi2XZHYLgWZyLY3mPX30nXIthOfEsGgUsi27aUvim4vyLbHrExTPAzItqKzaRwK6ce2fLqG5dfFx7ZWwaOupaLHtjHIwHdzf8e2C8/dQEFcx7bm1foJDznHtsHcF9PcFce2muM0nKryxrY=\",\"dtype\":\"float64\",\"order\":\"little\",\"shape\":[100]}},\"selected\":{\"id\":\"2867\"},\"selection_policy\":{\"id\":\"2868\"}},\"id\":\"2857\",\"type\":\"ColumnDataSource\"},{\"attributes\":{\"line_color\":\"#1f77b3\",\"line_width\":2,\"x\":{\"field\":\"x\"},\"y\":{\"field\":\"y\"}},\"id\":\"2858\",\"type\":\"Line\"},{\"attributes\":{\"bottom_units\":\"screen\",\"fill_alpha\":0.5,\"fill_color\":\"lightgrey\",\"left_units\":\"screen\",\"level\":\"overlay\",\"line_alpha\":1.0,\"line_color\":\"black\",\"line_dash\":[4,4],\"line_width\":2,\"right_units\":\"screen\",\"top_units\":\"screen\"},\"id\":\"2747\",\"type\":\"BoxAnnotation\"},{\"attributes\":{},\"id\":\"2761\",\"type\":\"BasicTickFormatter\"},{\"attributes\":{\"line_alpha\":0.1,\"line_color\":\"#2ba02b\",\"line_width\":2,\"x\":{\"field\":\"x\"},\"y\":{\"field\":\"y\"}},\"id\":\"2788\",\"type\":\"Line\"},{\"attributes\":{},\"id\":\"2840\",\"type\":\"BasicTicker\"},{\"attributes\":{},\"id\":\"2843\",\"type\":\"PanTool\"},{\"attributes\":{\"overlay\":{\"id\":\"2747\"}},\"id\":\"2743\",\"type\":\"BoxZoomTool\"},{\"attributes\":{},\"id\":\"2727\",\"type\":\"DataRange1d\"},{\"attributes\":{\"label\":{\"value\":\"outside_H\"},\"renderers\":[{\"id\":\"2773\"}]},\"id\":\"2785\",\"type\":\"LegendItem\"},{\"attributes\":{\"data_source\":{\"id\":\"2857\"},\"glyph\":{\"id\":\"2858\"},\"hover_glyph\":null,\"muted_glyph\":null,\"nonselection_glyph\":{\"id\":\"2859\"},\"selection_glyph\":null,\"view\":{\"id\":\"2861\"}},\"id\":\"2860\",\"type\":\"GlyphRenderer\"},{\"attributes\":{\"line_color\":\"#ff7e0e\",\"line_width\":2,\"x\":{\"field\":\"x\"},\"y\":{\"field\":\"y\"}},\"id\":\"2771\",\"type\":\"Line\"},{\"attributes\":{},\"id\":\"2827\",\"type\":\"DataRange1d\"},{\"attributes\":{\"click_policy\":\"hide\",\"items\":[{\"id\":\"2769\"},{\"id\":\"2785\"},{\"id\":\"2803\"},{\"id\":\"2823\"}],\"location\":\"bottom_right\"},\"id\":\"2768\",\"type\":\"Legend\"},{\"attributes\":{},\"id\":\"2868\",\"type\":\"UnionRenderers\"},{\"attributes\":{},\"id\":\"2725\",\"type\":\"DataRange1d\"},{\"attributes\":{\"data\":{\"x\":{\"__ndarray__\":\"AAAAAAAAAAD0kcwotrK2P/SRzCi2ssY/d22ZnggG0T/0kcwotrLWP3K2/7JjX9w/d22ZnggG4T+2/7JjX9zjP/SRzCi2suY/MyTm7QyJ6T9ytv+yY1/sP7BIGXi6Ne8/d22ZnggG8T+WNiYBNHHyP7b/smNf3PM/1sg/xopH9T/0kcwotrL2PxNbWYvhHfg/MyTm7QyJ+T9T7XJQOPT6P3K2/7JjX/w/kH+MFY/K/T+wSBl4ujX/P+gIU+1yUABAd22ZnggGAUAG0t9PnrsBQJY2JgE0cQJAJptssskmA0C2/7JjX9wDQEVk+RT1kQRA1sg/xopHBUBlLYZ3IP0FQPSRzCi2sgZAhPYS2ktoB0ATW1mL4R0IQKS/nzx30whAMyTm7QyJCUDCiCyfoj4KQFPtclA49ApA4lG5Ac6pC0Bytv+yY18MQAEbRmT5FA1AkH+MFY/KDUAh5NLGJIAOQLBIGXi6NQ9AQK1fKVDrD0DoCFPtclAQQDA79sU9qxBAd22ZnggGEUC/nzx302ARQAbS30+euxFATwSDKGkWEkCWNiYBNHESQN9oydn+yxJAJptssskmE0BuzQ+LlIETQLb/smNf3BNA/jFWPCo3FEBFZPkU9ZEUQI2WnO2/7BRA1sg/xopHFUAe++KeVaIVQGUthncg/RVArV8pUOtXFkD0kcwotrIWQD3EbwGBDRdAhPYS2ktoF0DMKLayFsMXQBNbWYvhHRhAXI38Y6x4GECkv588d9MYQOzxQhVCLhlAMyTm7QyJGUB7VonG1+MZQMKILJ+iPhpAC7vPd22ZGkBT7XJQOPQaQJsfFikDTxtA4lG5Ac6pG0AqhFzamAQcQHK2/7JjXxxAuuiiiy66HEABG0Zk+RQdQElN6TzEbx1AkH+MFY/KHUDasS/uWSUeQCHk0sYkgB5AaRZ2n+/aHkCwSBl4ujUfQPl6vFCFkB9AQK1fKVDrH0DEbwGBDSMgQOgIU+1yUCBADKKkWdh9IEAwO/bFPasgQFTURzKj2CBAd22ZnggGIUCcBusKbjMhQL+fPHfTYCFA4ziO4ziOIUA=\",\"dtype\":\"float64\",\"order\":\"little\",\"shape\":[100]},\"y\":{\"__ndarray__\":\"AAAAAAAAAAD0VOcJIA/zP/6Q32jOHgdAdwc8ZsnREUCKJ7hvDIIXQLfWWNpUrRxA864Fj+OvIEBJ1XwANtIiQPJQkSulwiRAFiEgSL+FJkBW+IcPqB8oQCcvMnYilClARg2tgZnmKkAjzWRQKBosQPOKNGWhMS1AybQzSZUvLkDhi5WRWBYvQOOcZlkJ6C9AT0p/HUpTMEBHo5lq3KkwQO/DfPOG+DBATo9vhQJAMUA+fmQN94AxQCa0JCP9uzFAHK8Jb5/xMUD2zjLwWyIyQIX8RiSlTjJAKwiLFON2MkCzGTFKdJsyQH3YdqyuvDJAb/96SuDaMkA/D5cSUPYyQIdb8Xg+DzNA7ZcLD+YlM0ADsj4NfDozQPYOsc8wTTNAfRojSDBeM0BbWwdlom0zQM/aVW+rezNAfM/GX2yIM0D0AU4sA5QzQLZCgw6LnjNAHnuFwxyoM0ATOyrGzrAzQIj8w4O1uDNA8TYcjOO/M0DIwRO9acYzQJxhQGpXzDNAzlr+gLrRM0ATcQSpn9YzQEqiPGIS2zNAiEm2Hx3fM0CvhENgyeIzQPKAs8Qf5jNAoEYnJCjpM0DAJXae6eszQJxv76xq7jNAtYGOMbHwM0CBs8OEwvIzQFuKB4Kj9DNAYFFMk1j2M0BVrVO75fczQMZrGZ9O+TNAMRtpjpb6M0BkRaKLwPszQPEe0VLP/DNAF6gTYMX9M0BxLW71pP4zQFaxHSBw/zNAyyNpvSgANEA9xAJ/0AA0QIPR/u5oATRAT2Z3c/MBNECoqdZRcQI0QOQKz7HjAjRA6W8QoEsDNED/MMEQqgM0QH6ZwOH/AzRAGNul3E0ENEAmrJ24lAQ0QH5AEBzVBDRAbw9kng8FNEDQCvzIRAU0QNzDrhh1BTRANEgK/6AFNEAn6ynjyAU0QJYpxiLtBTRAmLX7Eg4GNEBqNyABLAY0QHvJkDNHBjRApnZC6l8GNED41kRfdgY0QGUBUMeKBjRA54RNUp0GNEAGvMYrrgY0QH+gWnu9BjRAXBH/ZMsGNECKJ2wJ2AY0QDq4VYbjBjRAdLaz9u0GNEA=\",\"dtype\":\"float64\",\"order\":\"little\",\"shape\":[100]}},\"selected\":{\"id\":\"2820\"},\"selection_policy\":{\"id\":\"2821\"}},\"id\":\"2804\",\"type\":\"ColumnDataSource\"},{\"attributes\":{},\"id\":\"2844\",\"type\":\"WheelZoomTool\"},{\"attributes\":{\"text\":\"with ATP Synthase\"},\"id\":\"2723\",\"type\":\"Title\"},{\"attributes\":{\"axis\":{\"id\":\"2737\"},\"dimension\":1,\"ticker\":null},\"id\":\"2740\",\"type\":\"Grid\"},{\"attributes\":{\"label\":{\"value\":\"bound atp synthase\"},\"renderers\":[{\"id\":\"2807\"}]},\"id\":\"2823\",\"type\":\"LegendItem\"},{\"attributes\":{\"line_alpha\":0.1,\"line_color\":\"#9367bc\",\"line_width\":2,\"x\":{\"field\":\"x\"},\"y\":{\"field\":\"y\"}},\"id\":\"2806\",\"type\":\"Line\"},{\"attributes\":{},\"id\":\"2863\",\"type\":\"BasicTickFormatter\"},{\"attributes\":{\"overlay\":{\"id\":\"2849\"}},\"id\":\"2845\",\"type\":\"BoxZoomTool\"},{\"attributes\":{},\"id\":\"2742\",\"type\":\"WheelZoomTool\"},{\"attributes\":{\"source\":{\"id\":\"2857\"}},\"id\":\"2861\",\"type\":\"CDSView\"},{\"attributes\":{\"data_source\":{\"id\":\"2755\"},\"glyph\":{\"id\":\"2756\"},\"hover_glyph\":null,\"muted_glyph\":null,\"nonselection_glyph\":{\"id\":\"2757\"},\"selection_glyph\":null,\"view\":{\"id\":\"2759\"}},\"id\":\"2758\",\"type\":\"GlyphRenderer\"},{\"attributes\":{\"items\":[{\"id\":\"2871\"}]},\"id\":\"2870\",\"type\":\"Legend\"},{\"attributes\":{},\"id\":\"2734\",\"type\":\"BasicTicker\"},{\"attributes\":{\"data_source\":{\"id\":\"2786\"},\"glyph\":{\"id\":\"2787\"},\"hover_glyph\":null,\"muted_glyph\":null,\"nonselection_glyph\":{\"id\":\"2788\"},\"selection_glyph\":null,\"view\":{\"id\":\"2790\"}},\"id\":\"2789\",\"type\":\"GlyphRenderer\"},{\"attributes\":{},\"id\":\"2729\",\"type\":\"LinearScale\"},{\"attributes\":{},\"id\":\"2867\",\"type\":\"Selection\"},{\"attributes\":{},\"id\":\"2847\",\"type\":\"ResetTool\"},{\"attributes\":{},\"id\":\"2833\",\"type\":\"LinearScale\"},{\"attributes\":{\"source\":{\"id\":\"2804\"}},\"id\":\"2808\",\"type\":\"CDSView\"},{\"attributes\":{},\"id\":\"2801\",\"type\":\"UnionRenderers\"},{\"attributes\":{},\"id\":\"2831\",\"type\":\"LinearScale\"},{\"attributes\":{\"line_color\":\"#1f77b3\",\"line_width\":2,\"x\":{\"field\":\"x\"},\"y\":{\"field\":\"y\"}},\"id\":\"2756\",\"type\":\"Line\"},{\"attributes\":{\"label\":{\"value\":\"atp\"},\"renderers\":[{\"id\":\"2860\"}]},\"id\":\"2871\",\"type\":\"LegendItem\"},{\"attributes\":{},\"id\":\"2820\",\"type\":\"Selection\"},{\"attributes\":{\"below\":[{\"id\":\"2835\"}],\"center\":[{\"id\":\"2838\"},{\"id\":\"2842\"},{\"id\":\"2870\"}],\"left\":[{\"id\":\"2839\"}],\"plot_height\":350,\"plot_width\":450,\"renderers\":[{\"id\":\"2860\"}],\"title\":{\"id\":\"2825\"},\"toolbar\":{\"id\":\"2850\"},\"x_range\":{\"id\":\"2827\"},\"x_scale\":{\"id\":\"2831\"},\"y_range\":{\"id\":\"2829\"},\"y_scale\":{\"id\":\"2833\"}},\"id\":\"2824\",\"subtype\":\"Figure\",\"type\":\"Plot\"},{\"attributes\":{\"axis_label\":\"time (hrs)\",\"formatter\":{\"id\":\"2763\"},\"ticker\":{\"id\":\"2734\"}},\"id\":\"2733\",\"type\":\"LinearAxis\"},{\"attributes\":{\"text\":\"only ATP Use\"},\"id\":\"2825\",\"type\":\"Title\"},{\"attributes\":{\"active_drag\":\"auto\",\"active_inspect\":\"auto\",\"active_multi\":null,\"active_scroll\":\"auto\",\"active_tap\":\"auto\",\"tools\":[{\"id\":\"2741\"},{\"id\":\"2742\"},{\"id\":\"2743\"},{\"id\":\"2744\"},{\"id\":\"2745\"},{\"id\":\"2746\"}]},\"id\":\"2748\",\"type\":\"Toolbar\"},{\"attributes\":{\"data_source\":{\"id\":\"2804\"},\"glyph\":{\"id\":\"2805\"},\"hover_glyph\":null,\"muted_glyph\":null,\"nonselection_glyph\":{\"id\":\"2806\"},\"selection_glyph\":null,\"view\":{\"id\":\"2808\"}},\"id\":\"2807\",\"type\":\"GlyphRenderer\"},{\"attributes\":{\"line_color\":\"#9367bc\",\"line_width\":2,\"x\":{\"field\":\"x\"},\"y\":{\"field\":\"y\"}},\"id\":\"2805\",\"type\":\"Line\"},{\"attributes\":{\"source\":{\"id\":\"2755\"}},\"id\":\"2759\",\"type\":\"CDSView\"},{\"attributes\":{},\"id\":\"2800\",\"type\":\"Selection\"},{\"attributes\":{},\"id\":\"2763\",\"type\":\"BasicTickFormatter\"},{\"attributes\":{\"label\":{\"value\":\"atp\"},\"renderers\":[{\"id\":\"2758\"}]},\"id\":\"2769\",\"type\":\"LegendItem\"},{\"attributes\":{},\"id\":\"2865\",\"type\":\"BasicTickFormatter\"},{\"attributes\":{\"data\":{\"x\":{\"__ndarray__\":\"AAAAAAAAAAD0kcwotrK2P/SRzCi2ssY/d22ZnggG0T/0kcwotrLWP3K2/7JjX9w/d22ZnggG4T+2/7JjX9zjP/SRzCi2suY/MyTm7QyJ6T9ytv+yY1/sP7BIGXi6Ne8/d22ZnggG8T+WNiYBNHHyP7b/smNf3PM/1sg/xopH9T/0kcwotrL2PxNbWYvhHfg/MyTm7QyJ+T9T7XJQOPT6P3K2/7JjX/w/kH+MFY/K/T+wSBl4ujX/P+gIU+1yUABAd22ZnggGAUAG0t9PnrsBQJY2JgE0cQJAJptssskmA0C2/7JjX9wDQEVk+RT1kQRA1sg/xopHBUBlLYZ3IP0FQPSRzCi2sgZAhPYS2ktoB0ATW1mL4R0IQKS/nzx30whAMyTm7QyJCUDCiCyfoj4KQFPtclA49ApA4lG5Ac6pC0Bytv+yY18MQAEbRmT5FA1AkH+MFY/KDUAh5NLGJIAOQLBIGXi6NQ9AQK1fKVDrD0DoCFPtclAQQDA79sU9qxBAd22ZnggGEUC/nzx302ARQAbS30+euxFATwSDKGkWEkCWNiYBNHESQN9oydn+yxJAJptssskmE0BuzQ+LlIETQLb/smNf3BNA/jFWPCo3FEBFZPkU9ZEUQI2WnO2/7BRA1sg/xopHFUAe++KeVaIVQGUthncg/RVArV8pUOtXFkD0kcwotrIWQD3EbwGBDRdAhPYS2ktoF0DMKLayFsMXQBNbWYvhHRhAXI38Y6x4GECkv588d9MYQOzxQhVCLhlAMyTm7QyJGUB7VonG1+MZQMKILJ+iPhpAC7vPd22ZGkBT7XJQOPQaQJsfFikDTxtA4lG5Ac6pG0AqhFzamAQcQHK2/7JjXxxAuuiiiy66HEABG0Zk+RQdQElN6TzEbx1AkH+MFY/KHUDasS/uWSUeQCHk0sYkgB5AaRZ2n+/aHkCwSBl4ujUfQPl6vFCFkB9AQK1fKVDrH0DEbwGBDSMgQOgIU+1yUCBADKKkWdh9IEAwO/bFPasgQFTURzKj2CBAd22ZnggGIUCcBusKbjMhQL+fPHfTYCFA4ziO4ziOIUA=\",\"dtype\":\"float64\",\"order\":\"little\",\"shape\":[100]},\"y\":{\"__ndarray__\":\"AAAAAAAAJED0//////8fQPb//////x9A8f//////H0Dt//////8fQOz//////x9A6///////H0Ds//////8fQOv//////x9A6f//////H0Dr//////8fQOv//////x9A6f//////H0Do//////8fQOn//////x9AAQAAAAAAIEAbAAAAAAAgQOn//////x9A6f//////H0Dq//////8fQOr//////x9A6v//////H0Dr//////8fQOv//////x9A6///////H0Ds//////8fQOv//////x9A4P//////H0Dj//////8fQHkCAAAAACBAhywAAAAAIEBgRwAAAAAgQJJlAQAAACBA5BwDAAAAIEDHaAgAAAAgQJZ8y////x9AxMj9////H0CnxAAAAAAgQLn//////x9A7f//////H0Ds//////8fQOz//////x9A7P//////H0Ds//////8fQOz//////x9A7P//////H0Ds//////8fQOz//////x9A7P//////H0Ds//////8fQOv//////x9A6///////H0Dr//////8fQOv//////x9A6///////H0Dq//////8fQOv//////x9A6v//////H0Dm//////8fQPj//////x9A5P//////H0CA//////8fQCAAAAAAACBAwP//////H0CR//////8fQJ3//////x9AXgAAAAAAIED7/f////8fQEkCAAAAACBAAPf/////H0ALBAAAAAAgQIYwAAAAACBAwyf/////H0C8IwIAAAAgQOqc7f///x9APR0mAAAAIEBt5RIAAAAgQED1IgAAACBAK3VXAAAAIEAFEAAAAAAgQOr//////x9A6v//////H0Dq//////8fQOv//////x9A6///////H0Dr//////8fQOz//////x9A7P//////H0Ds//////8fQOz//////x9A7P//////H0Ds//////8fQOz//////x9A7P//////H0Ds//////8fQOz//////x9A7P//////H0Ds//////8fQOz//////x9A7P//////H0A=\",\"dtype\":\"float64\",\"order\":\"little\",\"shape\":[100]}},\"selected\":{\"id\":\"2765\"},\"selection_policy\":{\"id\":\"2766\"}},\"id\":\"2755\",\"type\":\"ColumnDataSource\"},{\"attributes\":{\"line_alpha\":0.1,\"line_color\":\"#1f77b3\",\"line_width\":2,\"x\":{\"field\":\"x\"},\"y\":{\"field\":\"y\"}},\"id\":\"2757\",\"type\":\"Line\"}],\"root_ids\":[\"2936\"]},\"title\":\"Bokeh Application\",\"version\":\"2.2.1\"}};\n",
       "  var render_items = [{\"docid\":\"0711fbe0-a164-4039-89b7-ee74ded59e83\",\"root_ids\":[\"2936\"],\"roots\":{\"2936\":\"73ddacd1-ef91-49ee-bd6e-d80d615da99f\"}}];\n",
       "  root.Bokeh.embed.embed_items_notebook(docs_json, render_items);\n",
       "\n",
       "  }\n",
       "  if (root.Bokeh !== undefined) {\n",
       "    embed_document(root);\n",
       "  } else {\n",
       "    var attempts = 0;\n",
       "    var timer = setInterval(function(root) {\n",
       "      if (root.Bokeh !== undefined) {\n",
       "        clearInterval(timer);\n",
       "        embed_document(root);\n",
       "      } else {\n",
       "        attempts++;\n",
       "        if (attempts > 100) {\n",
       "          clearInterval(timer);\n",
       "          console.log(\"Bokeh: ERROR: Unable to run BokehJS code because BokehJS library is missing\");\n",
       "        }\n",
       "      }\n",
       "    }, 10, root)\n",
       "  }\n",
       "})(window);"
      ],
      "application/vnd.bokehjs_exec.v0+json": ""
     },
     "metadata": {
      "application/vnd.bokehjs_exec.v0+json": {
       "id": "2936"
      }
     },
     "output_type": "display_data"
    },
    {
     "data": {
      "text/html": [
       "\n",
       "\n",
       "\n",
       "\n",
       "\n",
       "\n",
       "  <div class=\"bk-root\" id=\"5aac5bd1-bdbb-4d85-9f05-4830507eeec4\" data-root-id=\"2872\"></div>\n"
      ]
     },
     "metadata": {},
     "output_type": "display_data"
    },
    {
     "data": {
      "application/javascript": [
       "(function(root) {\n",
       "  function embed_document(root) {\n",
       "    \n",
       "  var docs_json = {\"7e10fed7-c546-4cf4-920a-a0eb13192c95\":{\"roots\":{\"references\":[{\"attributes\":{\"below\":[{\"id\":\"2883\"}],\"center\":[{\"id\":\"2886\"},{\"id\":\"2890\"},{\"id\":\"2918\"}],\"left\":[{\"id\":\"2887\"}],\"plot_height\":350,\"plot_width\":450,\"renderers\":[{\"id\":\"2908\"},{\"id\":\"2923\"}],\"title\":{\"id\":\"2873\"},\"toolbar\":{\"id\":\"2898\"},\"x_range\":{\"id\":\"2875\"},\"x_scale\":{\"id\":\"2879\"},\"y_range\":{\"id\":\"2877\"},\"y_scale\":{\"id\":\"2881\"}},\"id\":\"2872\",\"subtype\":\"Figure\",\"type\":\"Plot\"},{\"attributes\":{},\"id\":\"2891\",\"type\":\"PanTool\"},{\"attributes\":{},\"id\":\"2933\",\"type\":\"UnionRenderers\"},{\"attributes\":{\"data_source\":{\"id\":\"2920\"},\"glyph\":{\"id\":\"2921\"},\"hover_glyph\":null,\"muted_glyph\":null,\"nonselection_glyph\":{\"id\":\"2922\"},\"selection_glyph\":null,\"view\":{\"id\":\"2924\"}},\"id\":\"2923\",\"type\":\"GlyphRenderer\"},{\"attributes\":{\"line_color\":\"#ff7e0e\",\"line_width\":2,\"x\":{\"field\":\"x\"},\"y\":{\"field\":\"y\"}},\"id\":\"2921\",\"type\":\"Line\"},{\"attributes\":{},\"id\":\"2895\",\"type\":\"ResetTool\"},{\"attributes\":{\"active_drag\":\"auto\",\"active_inspect\":\"auto\",\"active_multi\":null,\"active_scroll\":\"auto\",\"active_tap\":\"auto\",\"tools\":[{\"id\":\"2891\"},{\"id\":\"2892\"},{\"id\":\"2893\"},{\"id\":\"2894\"},{\"id\":\"2895\"},{\"id\":\"2896\"}]},\"id\":\"2898\",\"type\":\"Toolbar\"},{\"attributes\":{},\"id\":\"2911\",\"type\":\"BasicTickFormatter\"},{\"attributes\":{\"overlay\":{\"id\":\"2897\"}},\"id\":\"2893\",\"type\":\"BoxZoomTool\"},{\"attributes\":{},\"id\":\"2879\",\"type\":\"LinearScale\"},{\"attributes\":{\"line_alpha\":0.1,\"line_color\":\"#1f77b3\",\"line_width\":2,\"x\":{\"field\":\"x\"},\"y\":{\"field\":\"y\"}},\"id\":\"2907\",\"type\":\"Line\"},{\"attributes\":{\"label\":{\"value\":\"ATP Synthase, ATP Use\"},\"renderers\":[{\"id\":\"2908\"}]},\"id\":\"2919\",\"type\":\"LegendItem\"},{\"attributes\":{\"bottom_units\":\"screen\",\"fill_alpha\":0.5,\"fill_color\":\"lightgrey\",\"left_units\":\"screen\",\"level\":\"overlay\",\"line_alpha\":1.0,\"line_color\":\"black\",\"line_dash\":[4,4],\"line_width\":2,\"right_units\":\"screen\",\"top_units\":\"screen\"},\"id\":\"2897\",\"type\":\"BoxAnnotation\"},{\"attributes\":{\"data\":{\"x\":{\"__ndarray__\":\"AAAAAAAAAAD0kcwotrK2P/SRzCi2ssY/d22ZnggG0T/0kcwotrLWP3K2/7JjX9w/d22ZnggG4T+2/7JjX9zjP/SRzCi2suY/MyTm7QyJ6T9ytv+yY1/sP7BIGXi6Ne8/d22ZnggG8T+WNiYBNHHyP7b/smNf3PM/1sg/xopH9T/0kcwotrL2PxNbWYvhHfg/MyTm7QyJ+T9T7XJQOPT6P3K2/7JjX/w/kH+MFY/K/T+wSBl4ujX/P+gIU+1yUABAd22ZnggGAUAG0t9PnrsBQJY2JgE0cQJAJptssskmA0C2/7JjX9wDQEVk+RT1kQRA1sg/xopHBUBlLYZ3IP0FQPSRzCi2sgZAhPYS2ktoB0ATW1mL4R0IQKS/nzx30whAMyTm7QyJCUDCiCyfoj4KQFPtclA49ApA4lG5Ac6pC0Bytv+yY18MQAEbRmT5FA1AkH+MFY/KDUAh5NLGJIAOQLBIGXi6NQ9AQK1fKVDrD0DoCFPtclAQQDA79sU9qxBAd22ZnggGEUC/nzx302ARQAbS30+euxFATwSDKGkWEkCWNiYBNHESQN9oydn+yxJAJptssskmE0BuzQ+LlIETQLb/smNf3BNA/jFWPCo3FEBFZPkU9ZEUQI2WnO2/7BRA1sg/xopHFUAe++KeVaIVQGUthncg/RVArV8pUOtXFkD0kcwotrIWQD3EbwGBDRdAhPYS2ktoF0DMKLayFsMXQBNbWYvhHRhAXI38Y6x4GECkv588d9MYQOzxQhVCLhlAMyTm7QyJGUB7VonG1+MZQMKILJ+iPhpAC7vPd22ZGkBT7XJQOPQaQJsfFikDTxtA4lG5Ac6pG0AqhFzamAQcQHK2/7JjXxxAuuiiiy66HEABG0Zk+RQdQElN6TzEbx1AkH+MFY/KHUDasS/uWSUeQCHk0sYkgB5AaRZ2n+/aHkCwSBl4ujUfQPl6vFCFkB9AQK1fKVDrH0DEbwGBDSMgQOgIU+1yUCBADKKkWdh9IEAwO/bFPasgQFTURzKj2CBAd22ZnggGIUCcBusKbjMhQL+fPHfTYCFA4ziO4ziOIUA=\",\"dtype\":\"float64\",\"order\":\"little\",\"shape\":[100]},\"y\":{\"__ndarray__\":\"AAAAAAAAJED0//////8fQPb//////x9A8f//////H0Dt//////8fQOz//////x9A6///////H0Ds//////8fQOv//////x9A6f//////H0Dr//////8fQOv//////x9A6f//////H0Do//////8fQOn//////x9AAQAAAAAAIEAbAAAAAAAgQOn//////x9A6f//////H0Dq//////8fQOr//////x9A6v//////H0Dr//////8fQOv//////x9A6///////H0Ds//////8fQOv//////x9A4P//////H0Dj//////8fQHkCAAAAACBAhywAAAAAIEBgRwAAAAAgQJJlAQAAACBA5BwDAAAAIEDHaAgAAAAgQJZ8y////x9AxMj9////H0CnxAAAAAAgQLn//////x9A7f//////H0Ds//////8fQOz//////x9A7P//////H0Ds//////8fQOz//////x9A7P//////H0Ds//////8fQOz//////x9A7P//////H0Ds//////8fQOv//////x9A6///////H0Dr//////8fQOv//////x9A6///////H0Dq//////8fQOv//////x9A6v//////H0Dm//////8fQPj//////x9A5P//////H0CA//////8fQCAAAAAAACBAwP//////H0CR//////8fQJ3//////x9AXgAAAAAAIED7/f////8fQEkCAAAAACBAAPf/////H0ALBAAAAAAgQIYwAAAAACBAwyf/////H0C8IwIAAAAgQOqc7f///x9APR0mAAAAIEBt5RIAAAAgQED1IgAAACBAK3VXAAAAIEAFEAAAAAAgQOr//////x9A6v//////H0Dq//////8fQOv//////x9A6///////H0Dr//////8fQOz//////x9A7P//////H0Ds//////8fQOz//////x9A7P//////H0Ds//////8fQOz//////x9A7P//////H0Ds//////8fQOz//////x9A7P//////H0Ds//////8fQOz//////x9A7P//////H0A=\",\"dtype\":\"float64\",\"order\":\"little\",\"shape\":[100]}},\"selected\":{\"id\":\"2915\"},\"selection_policy\":{\"id\":\"2916\"}},\"id\":\"2905\",\"type\":\"ColumnDataSource\"},{\"attributes\":{},\"id\":\"2892\",\"type\":\"WheelZoomTool\"},{\"attributes\":{},\"id\":\"2913\",\"type\":\"BasicTickFormatter\"},{\"attributes\":{\"axis_label\":\"time (hr)\",\"formatter\":{\"id\":\"2913\"},\"ticker\":{\"id\":\"2884\"}},\"id\":\"2883\",\"type\":\"LinearAxis\"},{\"attributes\":{\"axis\":{\"id\":\"2883\"},\"ticker\":null},\"id\":\"2886\",\"type\":\"Grid\"},{\"attributes\":{\"axis_label\":\"concentration (nM)\",\"formatter\":{\"id\":\"2911\"},\"ticker\":{\"id\":\"2888\"}},\"id\":\"2887\",\"type\":\"LinearAxis\"},{\"attributes\":{},\"id\":\"2894\",\"type\":\"SaveTool\"},{\"attributes\":{},\"id\":\"2932\",\"type\":\"Selection\"},{\"attributes\":{},\"id\":\"2884\",\"type\":\"BasicTicker\"},{\"attributes\":{\"text\":\"Compare ATP \"},\"id\":\"2873\",\"type\":\"Title\"},{\"attributes\":{\"line_alpha\":0.1,\"line_color\":\"#ff7e0e\",\"line_width\":2,\"x\":{\"field\":\"x\"},\"y\":{\"field\":\"y\"}},\"id\":\"2922\",\"type\":\"Line\"},{\"attributes\":{},\"id\":\"2896\",\"type\":\"HelpTool\"},{\"attributes\":{},\"id\":\"2915\",\"type\":\"Selection\"},{\"attributes\":{\"items\":[{\"id\":\"2919\"},{\"id\":\"2935\"}]},\"id\":\"2918\",\"type\":\"Legend\"},{\"attributes\":{\"data\":{\"x\":{\"__ndarray__\":\"AAAAAAAAAAD0kcwotrK2P/SRzCi2ssY/d22ZnggG0T/0kcwotrLWP3K2/7JjX9w/d22ZnggG4T+2/7JjX9zjP/SRzCi2suY/MyTm7QyJ6T9ytv+yY1/sP7BIGXi6Ne8/d22ZnggG8T+WNiYBNHHyP7b/smNf3PM/1sg/xopH9T/0kcwotrL2PxNbWYvhHfg/MyTm7QyJ+T9T7XJQOPT6P3K2/7JjX/w/kH+MFY/K/T+wSBl4ujX/P+gIU+1yUABAd22ZnggGAUAG0t9PnrsBQJY2JgE0cQJAJptssskmA0C2/7JjX9wDQEVk+RT1kQRA1sg/xopHBUBlLYZ3IP0FQPSRzCi2sgZAhPYS2ktoB0ATW1mL4R0IQKS/nzx30whAMyTm7QyJCUDCiCyfoj4KQFPtclA49ApA4lG5Ac6pC0Bytv+yY18MQAEbRmT5FA1AkH+MFY/KDUAh5NLGJIAOQLBIGXi6NQ9AQK1fKVDrD0DoCFPtclAQQDA79sU9qxBAd22ZnggGEUC/nzx302ARQAbS30+euxFATwSDKGkWEkCWNiYBNHESQN9oydn+yxJAJptssskmE0BuzQ+LlIETQLb/smNf3BNA/jFWPCo3FEBFZPkU9ZEUQI2WnO2/7BRA1sg/xopHFUAe++KeVaIVQGUthncg/RVArV8pUOtXFkD0kcwotrIWQD3EbwGBDRdAhPYS2ktoF0DMKLayFsMXQBNbWYvhHRhAXI38Y6x4GECkv588d9MYQOzxQhVCLhlAMyTm7QyJGUB7VonG1+MZQMKILJ+iPhpAC7vPd22ZGkBT7XJQOPQaQJsfFikDTxtA4lG5Ac6pG0AqhFzamAQcQHK2/7JjXxxAuuiiiy66HEABG0Zk+RQdQElN6TzEbx1AkH+MFY/KHUDasS/uWSUeQCHk0sYkgB5AaRZ2n+/aHkCwSBl4ujUfQPl6vFCFkB9AQK1fKVDrH0DEbwGBDSMgQOgIU+1yUCBADKKkWdh9IEAwO/bFPasgQFTURzKj2CBAd22ZnggGIUCcBusKbjMhQL+fPHfTYCFA4ziO4ziOIUA=\",\"dtype\":\"float64\",\"order\":\"little\",\"shape\":[100]},\"y\":{\"__ndarray__\":\"AAAAAAAAJEAVXf4fOi2FuoWDYJE423C6TzNPSP8Mt7lfKWkHEQClubNhgGMZRNa4qwlEqyA81biisQfzJzTUuJpZyzovLNO4kQGPgjYk0riIqVLKPRzRuH9RFhJFFNC47vKzs5gYzrjfQjtDpwjMuMySwtK1+Mm4u+JJYsTox7iqMtHx0tjFuJqCWIHhyMO4iNLfEPC4wbjsRM5A/VG/uMvk3F8aMru4qoTrfjcSt7iHJPqdVPKyuMWIEXrjpK24g8guuB1lpbiFEJjsr0qauAUgpdFIloO4EUt5opQB37dGWVa4y43dt3tnM84CGty3rXUQ5Dmm2rfig+35cDLZtxaSyg+ovte3S6CnJd9K1reAroQ7FtfUt7K8YVFNY9O358o+Z4Tv0bcc2Rt9u3vQt5zO8SXlD863BeurUVMoy7dvB2Z9wUDIt9gjIKkvWcW3QUDa1J1xwrdMuSgBGBS/tx7ynFj0RLm38CoRsNB1s7d0xwoPWk2rtzNy5nslXp+3+6pusy1DgLfvjIlUedLNtsmTph1Hr822pJrD5hSMzbaAoeCv4mjNtlmo/XiwRc22M68aQn4izbYNtjcLTP/Mtui8VNQZ3My2w8Nxnee4zLaeyo5mtZXMtnjRqy+Dcsy2UtjI+FBPzLYt3+XBHizMtgfmAovsCMy24ewfVLrly7a88zwdiMLLtpf6WeZVn8u2cQF3ryN8y7ZLCJR48VjLticPsUG/Ncu2ABbOCo0Sy7bbHOvTWu/KtrYjCJ0ozMq2kColZvaoyrZrMUIvxIXKtkU4X/iRYsq2Hz98wV8/yrb6RZmKLRzKttRMtlP7+Mm2rlPTHMnVybaKWvDllrLJtmRhDa9kj8m2PmgqeDJsybYZb0dBAEnJtvR1ZArOJcm2znyB05sCybaog56cad/ItoOKu2U3vMi2XZHYLgWZyLY3mPX30nXIthOfEsGgUsi27aUvim4vyLbHrExTPAzItqKzaRwK6ce2fLqG5dfFx7ZWwaOupaLHtjHIwHdzf8e2C8/dQEFcx7bm1foJDznHtsHcF9PcFce2muM0nKryxrY=\",\"dtype\":\"float64\",\"order\":\"little\",\"shape\":[100]}},\"selected\":{\"id\":\"2932\"},\"selection_policy\":{\"id\":\"2933\"}},\"id\":\"2920\",\"type\":\"ColumnDataSource\"},{\"attributes\":{\"source\":{\"id\":\"2920\"}},\"id\":\"2924\",\"type\":\"CDSView\"},{\"attributes\":{},\"id\":\"2916\",\"type\":\"UnionRenderers\"},{\"attributes\":{\"source\":{\"id\":\"2905\"}},\"id\":\"2909\",\"type\":\"CDSView\"},{\"attributes\":{},\"id\":\"2877\",\"type\":\"DataRange1d\"},{\"attributes\":{\"label\":{\"value\":\"ATP Use\"},\"renderers\":[{\"id\":\"2923\"}]},\"id\":\"2935\",\"type\":\"LegendItem\"},{\"attributes\":{},\"id\":\"2875\",\"type\":\"DataRange1d\"},{\"attributes\":{},\"id\":\"2881\",\"type\":\"LinearScale\"},{\"attributes\":{\"data_source\":{\"id\":\"2905\"},\"glyph\":{\"id\":\"2906\"},\"hover_glyph\":null,\"muted_glyph\":null,\"nonselection_glyph\":{\"id\":\"2907\"},\"selection_glyph\":null,\"view\":{\"id\":\"2909\"}},\"id\":\"2908\",\"type\":\"GlyphRenderer\"},{\"attributes\":{\"line_color\":\"#1f77b3\",\"line_width\":2,\"x\":{\"field\":\"x\"},\"y\":{\"field\":\"y\"}},\"id\":\"2906\",\"type\":\"Line\"},{\"attributes\":{},\"id\":\"2888\",\"type\":\"BasicTicker\"},{\"attributes\":{\"axis\":{\"id\":\"2887\"},\"dimension\":1,\"ticker\":null},\"id\":\"2890\",\"type\":\"Grid\"}],\"root_ids\":[\"2872\"]},\"title\":\"Bokeh Application\",\"version\":\"2.2.1\"}};\n",
       "  var render_items = [{\"docid\":\"7e10fed7-c546-4cf4-920a-a0eb13192c95\",\"root_ids\":[\"2872\"],\"roots\":{\"2872\":\"5aac5bd1-bdbb-4d85-9f05-4830507eeec4\"}}];\n",
       "  root.Bokeh.embed.embed_items_notebook(docs_json, render_items);\n",
       "\n",
       "  }\n",
       "  if (root.Bokeh !== undefined) {\n",
       "    embed_document(root);\n",
       "  } else {\n",
       "    var attempts = 0;\n",
       "    var timer = setInterval(function(root) {\n",
       "      if (root.Bokeh !== undefined) {\n",
       "        clearInterval(timer);\n",
       "        embed_document(root);\n",
       "      } else {\n",
       "        attempts++;\n",
       "        if (attempts > 100) {\n",
       "          clearInterval(timer);\n",
       "          console.log(\"Bokeh: ERROR: Unable to run BokehJS code because BokehJS library is missing\");\n",
       "        }\n",
       "      }\n",
       "    }, 10, root)\n",
       "  }\n",
       "})(window);"
      ],
      "application/vnd.bokehjs_exec.v0+json": ""
     },
     "metadata": {
      "application/vnd.bokehjs_exec.v0+json": {
       "id": "2872"
      }
     },
     "output_type": "display_data"
    }
   ],
   "source": [
    "# PLOT WITH ATP SYNTHASE\n",
    "\n",
    "plt_timepoints = timepoints/60/60\n",
    "\n",
    "p_w_atp = bokeh.plotting.figure(width = 450, height = 350, title = 'with ATP Synthase',\n",
    "                          x_axis_label = 'time (hrs)',\n",
    "                          y_axis_label = 'concentration (nM)')\n",
    "plot_list = [ATP_id, outside_H_id, inside_H_id, atp_synthase_b_protein_id]\n",
    "plot_str = ['atp', 'outside_H', 'inside_H', 'bound atp synthase']\n",
    "# plot_list = [atp_synthase_b_protein_id, atp_synthase_f_protein_id]\n",
    "# plot_str = ['atp synthase bound', 'atp synthase free']\n",
    "for i,item in enumerate(plot_list):\n",
    "    p_w_atp.line(plt_timepoints, results1[item], line_width = 2, legend_label = plot_str[i], color = palette[i])\n",
    "    \n",
    "\n",
    "# PLOT WITHOUT ATP SYNTHASE\n",
    "p_no_atp = bokeh.plotting.figure(width = 450, height = 350, title = 'only ATP Use',\n",
    "                          x_axis_label = 'time (hrs)',\n",
    "                          y_axis_label = 'concentration (nM)')\n",
    "p_no_atp.line(plt_timepoints, results2[ATP_id2], line_width = 2, legend_label = 'atp', color = palette[0])\n",
    "\n",
    "p_compare = bokeh.plotting.figure(width = 450, height = 350, title = 'Compare ATP ',\n",
    "                          x_axis_label = 'time (hr)',\n",
    "                          y_axis_label = 'concentration (nM)')\n",
    "p_compare.line(plt_timepoints, results1[ATP_id], legend_label = 'ATP Synthase, ATP Use', line_width = 2, color = palette[0])\n",
    "p_compare.line(plt_timepoints, results2[ATP_id2], legend_label = 'ATP Use', line_width = 2, color = palette[1])\n",
    "\n",
    "\n",
    "p_w_atp.legend.location = 'bottom_right'\n",
    "p_w_atp.legend.click_policy = 'hide'\n",
    "    \n",
    "bokeh.io.show(row(p_w_atp, p_no_atp))\n",
    "bokeh.io.show(p_compare)\n",
    "\n",
    "# p_atp.line(plt_timepoints, results1[ATP_id], line_width = 2, color = palette[1], legend_label = 'with ATP Synthase, ATP Use')\n",
    "# p_atp.line(plt_timepoints, results2[ATP_id2],line_width = 2, color = palette[2],legend_label = 'ATP Use only')\n",
    "\n",
    "#bokeh.io.show(p_atp)\n"
   ]
  },
  {
   "cell_type": "markdown",
   "metadata": {},
   "source": [
    "Why does bound atp synthase shoot infinitely high:( got em, it's because you kept remaking the transcript silly"
   ]
  },
  {
   "cell_type": "markdown",
   "metadata": {},
   "source": [
    "## Combine all proton pump with txtl machinery\n",
    "---"
   ]
  },
  {
   "cell_type": "code",
   "execution_count": 26,
   "metadata": {},
   "outputs": [],
   "source": [
    "#ss5_pp_txtl = createSubsystem('proton_pump_tx_tl.xml', subsystemName = 'pp_txtl')\n",
    "ss5_pp_txtl = createSubsystem('proton_pump_machinery_txtl.xml', subsystemName = 'pp_txtl')\n",
    "ss6_pp_mi = createSubsystem('proton_pump_membrane_integration.xml', subsystemName = 'pp_mi')\n",
    "ss7_protontransport = createSubsystem('proton_transport_through_proton_pump.xml', subsystemName = 'protontransport')"
   ]
  },
  {
   "cell_type": "code",
   "execution_count": 27,
   "metadata": {},
   "outputs": [],
   "source": [
    "pp_subsystem = ss5_pp_txtl + ss6_pp_mi + ss7_protontransport"
   ]
  },
  {
   "cell_type": "code",
   "execution_count": 28,
   "metadata": {},
   "outputs": [
    {
     "name": "stderr",
     "output_type": "stream",
     "text": [
      "odeint failed with mxstep=500..."
     ]
    }
   ],
   "source": [
    "# Initial conditions\n",
    "\n",
    "spec_list_10 = ['dna_proton_pump', 'proton_outside_H', 'protein_RNAP_machinery', \n",
    "                'protein_Ribo_machinery', 'protein_RNAse_machinery']\n",
    "for i,spec in enumerate(spec_list_10):\n",
    "    pp_subsystem.setSpeciesAmount(spec,10)\n",
    "pp_subsystem.setSpeciesAmount('metabolite_atp',10)\n",
    "\n",
    "# timepoints and get results\n",
    "timepoints = np.linspace(0,31600,100)\n",
    "results, _ = pp_subsystem.simulateWithBioscrape(timepoints, sbml_warnings = False)\n",
    "\n",
    "# Get species IDs\n",
    "ATP_id = pp_subsystem.getSpeciesByName('metabolite_atp').getId()\n",
    "ADP_id = pp_subsystem.getSpeciesByName('metabolite_adp').getId()\n",
    "\n",
    "outside_H_id = pp_subsystem.getSpeciesByName('proton_outside_H').getId()\n",
    "inside_H_id = pp_subsystem.getSpeciesByName('proton_inside_H').getId()\n",
    "proton_pump_b_protein_id = pp_subsystem.getSpeciesByName('protein_proton_pump_b').getId()\n",
    "proton_pump_f_protein_id = pp_subsystem.getSpeciesByName('protein_proton_pump').getId()\n",
    "\n",
    "\n",
    "\n",
    "dna_pp = pp_subsystem.getSpeciesByName('dna_proton_pump').getId()"
   ]
  },
  {
   "cell_type": "code",
   "execution_count": 29,
   "metadata": {},
   "outputs": [
    {
     "data": {
      "text/html": [
       "\n",
       "\n",
       "\n",
       "\n",
       "\n",
       "\n",
       "  <div class=\"bk-root\" id=\"c165f124-c5b9-4cb9-930a-710d90c3aee9\" data-root-id=\"3379\"></div>\n"
      ]
     },
     "metadata": {},
     "output_type": "display_data"
    },
    {
     "data": {
      "application/javascript": [
       "(function(root) {\n",
       "  function embed_document(root) {\n",
       "    \n",
       "  var docs_json = {\"5ac66060-7112-4ec1-a787-78b859316d0d\":{\"roots\":{\"references\":[{\"attributes\":{\"below\":[{\"id\":\"3390\"}],\"center\":[{\"id\":\"3393\"},{\"id\":\"3397\"},{\"id\":\"3425\"}],\"left\":[{\"id\":\"3394\"}],\"plot_height\":350,\"plot_width\":450,\"renderers\":[{\"id\":\"3415\"},{\"id\":\"3430\"},{\"id\":\"3446\"},{\"id\":\"3464\"}],\"title\":{\"id\":\"3380\"},\"toolbar\":{\"id\":\"3405\"},\"x_range\":{\"id\":\"3382\"},\"x_scale\":{\"id\":\"3386\"},\"y_range\":{\"id\":\"3384\"},\"y_scale\":{\"id\":\"3388\"}},\"id\":\"3379\",\"subtype\":\"Figure\",\"type\":\"Plot\"},{\"attributes\":{\"source\":{\"id\":\"3427\"}},\"id\":\"3431\",\"type\":\"CDSView\"},{\"attributes\":{},\"id\":\"3395\",\"type\":\"BasicTicker\"},{\"attributes\":{\"active_drag\":\"auto\",\"active_inspect\":\"auto\",\"active_multi\":null,\"active_scroll\":\"auto\",\"active_tap\":\"auto\",\"tools\":[{\"id\":\"3398\"},{\"id\":\"3399\"},{\"id\":\"3400\"},{\"id\":\"3401\"},{\"id\":\"3402\"},{\"id\":\"3403\"}]},\"id\":\"3405\",\"type\":\"Toolbar\"},{\"attributes\":{\"source\":{\"id\":\"3412\"}},\"id\":\"3416\",\"type\":\"CDSView\"},{\"attributes\":{},\"id\":\"3391\",\"type\":\"BasicTicker\"},{\"attributes\":{\"axis\":{\"id\":\"3390\"},\"ticker\":null},\"id\":\"3393\",\"type\":\"Grid\"},{\"attributes\":{},\"id\":\"3398\",\"type\":\"PanTool\"},{\"attributes\":{\"axis_label\":\"time (hrs)\",\"formatter\":{\"id\":\"3420\"},\"ticker\":{\"id\":\"3391\"}},\"id\":\"3390\",\"type\":\"LinearAxis\"},{\"attributes\":{},\"id\":\"3458\",\"type\":\"UnionRenderers\"},{\"attributes\":{\"click_policy\":\"hide\",\"items\":[{\"id\":\"3426\"},{\"id\":\"3442\"},{\"id\":\"3460\"},{\"id\":\"3480\"}],\"location\":\"bottom_right\"},\"id\":\"3425\",\"type\":\"Legend\"},{\"attributes\":{\"source\":{\"id\":\"3461\"}},\"id\":\"3465\",\"type\":\"CDSView\"},{\"attributes\":{},\"id\":\"3399\",\"type\":\"WheelZoomTool\"},{\"attributes\":{\"data_source\":{\"id\":\"3412\"},\"glyph\":{\"id\":\"3413\"},\"hover_glyph\":null,\"muted_glyph\":null,\"nonselection_glyph\":{\"id\":\"3414\"},\"selection_glyph\":null,\"view\":{\"id\":\"3416\"}},\"id\":\"3415\",\"type\":\"GlyphRenderer\"},{\"attributes\":{\"line_alpha\":0.1,\"line_color\":\"#1f77b3\",\"line_width\":2,\"x\":{\"field\":\"x\"},\"y\":{\"field\":\"y\"}},\"id\":\"3414\",\"type\":\"Line\"},{\"attributes\":{\"overlay\":{\"id\":\"3404\"}},\"id\":\"3400\",\"type\":\"BoxZoomTool\"},{\"attributes\":{},\"id\":\"3420\",\"type\":\"BasicTickFormatter\"},{\"attributes\":{},\"id\":\"3439\",\"type\":\"Selection\"},{\"attributes\":{\"line_color\":\"#ff7e0e\",\"line_width\":2,\"x\":{\"field\":\"x\"},\"y\":{\"field\":\"y\"}},\"id\":\"3428\",\"type\":\"Line\"},{\"attributes\":{\"line_alpha\":0.1,\"line_color\":\"#2ba02b\",\"line_width\":2,\"x\":{\"field\":\"x\"},\"y\":{\"field\":\"y\"}},\"id\":\"3445\",\"type\":\"Line\"},{\"attributes\":{\"axis_label\":\"concentration (nM)\",\"formatter\":{\"id\":\"3418\"},\"ticker\":{\"id\":\"3395\"}},\"id\":\"3394\",\"type\":\"LinearAxis\"},{\"attributes\":{\"line_color\":\"#1f77b3\",\"line_width\":2,\"x\":{\"field\":\"x\"},\"y\":{\"field\":\"y\"}},\"id\":\"3413\",\"type\":\"Line\"},{\"attributes\":{},\"id\":\"3401\",\"type\":\"SaveTool\"},{\"attributes\":{\"label\":{\"value\":\"atp\"},\"renderers\":[{\"id\":\"3415\"}]},\"id\":\"3426\",\"type\":\"LegendItem\"},{\"attributes\":{\"label\":{\"value\":\"outside_H\"},\"renderers\":[{\"id\":\"3430\"}]},\"id\":\"3442\",\"type\":\"LegendItem\"},{\"attributes\":{\"line_color\":\"#2ba02b\",\"line_width\":2,\"x\":{\"field\":\"x\"},\"y\":{\"field\":\"y\"}},\"id\":\"3444\",\"type\":\"Line\"},{\"attributes\":{},\"id\":\"3402\",\"type\":\"ResetTool\"},{\"attributes\":{},\"id\":\"3418\",\"type\":\"BasicTickFormatter\"},{\"attributes\":{\"source\":{\"id\":\"3443\"}},\"id\":\"3447\",\"type\":\"CDSView\"},{\"attributes\":{\"data\":{\"x\":{\"__ndarray__\":\"AAAAAAAAAAD0kcwotrK2P/SRzCi2ssY/d22ZnggG0T/0kcwotrLWP3K2/7JjX9w/d22ZnggG4T+2/7JjX9zjP/SRzCi2suY/MyTm7QyJ6T9ytv+yY1/sP7BIGXi6Ne8/d22ZnggG8T+WNiYBNHHyP7b/smNf3PM/1sg/xopH9T/0kcwotrL2PxNbWYvhHfg/MyTm7QyJ+T9T7XJQOPT6P3K2/7JjX/w/kH+MFY/K/T+wSBl4ujX/P+gIU+1yUABAd22ZnggGAUAG0t9PnrsBQJY2JgE0cQJAJptssskmA0C2/7JjX9wDQEVk+RT1kQRA1sg/xopHBUBlLYZ3IP0FQPSRzCi2sgZAhPYS2ktoB0ATW1mL4R0IQKS/nzx30whAMyTm7QyJCUDCiCyfoj4KQFPtclA49ApA4lG5Ac6pC0Bytv+yY18MQAEbRmT5FA1AkH+MFY/KDUAh5NLGJIAOQLBIGXi6NQ9AQK1fKVDrD0DoCFPtclAQQDA79sU9qxBAd22ZnggGEUC/nzx302ARQAbS30+euxFATwSDKGkWEkCWNiYBNHESQN9oydn+yxJAJptssskmE0BuzQ+LlIETQLb/smNf3BNA/jFWPCo3FEBFZPkU9ZEUQI2WnO2/7BRA1sg/xopHFUAe++KeVaIVQGUthncg/RVArV8pUOtXFkD0kcwotrIWQD3EbwGBDRdAhPYS2ktoF0DMKLayFsMXQBNbWYvhHRhAXI38Y6x4GECkv588d9MYQOzxQhVCLhlAMyTm7QyJGUB7VonG1+MZQMKILJ+iPhpAC7vPd22ZGkBT7XJQOPQaQJsfFikDTxtA4lG5Ac6pG0AqhFzamAQcQHK2/7JjXxxAuuiiiy66HEABG0Zk+RQdQElN6TzEbx1AkH+MFY/KHUDasS/uWSUeQCHk0sYkgB5AaRZ2n+/aHkCwSBl4ujUfQPl6vFCFkB9AQK1fKVDrH0DEbwGBDSMgQOgIU+1yUCBADKKkWdh9IEAwO/bFPasgQFTURzKj2CBAd22ZnggGIUCcBusKbjMhQL+fPHfTYCFA4ziO4ziOIUA=\",\"dtype\":\"float64\",\"order\":\"little\",\"shape\":[100]},\"y\":{\"__ndarray__\":\"AAAAAAAAAADdN/IJSg/zP2MLSALlHgdAotAsgtTREUABXFxbF4IXQKsQL5tfrRxAfj702+ivIECRs7o7O9IiQPhYxFaqwiRA2OrEZMSFJkCizPcerR8oQEenm3knlClA6eUtep7mKkBf4uw+LRosQOwuv0qmMS1AfaKGJpovLkDrF3VnXRYvQKZcgSgO6C9ABfT4gUxTMECTGEfM3qkwQFUMlFKJ+DBAv4kS4gRAMUA8Iu9n+YAxQGajt3v/uzFAVzzbxaHxMUCT8WFFXiIyQMlIAninTjJA4pzwZuV2MkDnQWKbdpsyQMvYjPywvDJA2+GMmeLaMkADyb5gUvYyQP1NSMZADzNA2iumW+glM0AaHy5ZfjozQEFTAxszTTNAemLPkjJeM0Bs1SWvpG0zQIjCALmtezNAGy8fqW6IM0At8WN1BZQzQPxmZleNnjNAwnc+DB+oM0BzVYwO0bAzQE0V4cu3uDNAiOoD1OW/M0DQyNAEbMYzQO9w57FZzDNADoV2yLzRM0AIi0LwodYzQGbXXKkU2zNA/mOqZh/fM0DGOeamy+IzQHiAIgsi5jNAFNqAairpM0BTA7jk6+szQLktGfNs7jNAYtijd7PwM0CT5sbKxPIzQDUP+cel9DNAxLYs2Vr2M0DL2iMB6PczQFmW3ORQ+TNACGQl1Jj6M0AMHT3RwvszQOvKhpjR/DNAbnfIpcf9M0BIois7p/4zQDHk6GVy/zNA/P85AysANEAeLK7E0gA0QKYUijRrATRAaXUBufUBNEAHmmeXcwI0QDJSWPflAjRA6IyC5U0DNED/qBlWrAM0QOhKAycCBDRAwr7YIVAENEDOUsT9lgQ0QOJQOGHXBDRAFBV54xEFNEAhjvsNRwU0QP3IpV13BTRA7rD0Q6MFNECL/gcoywU0QLJmlWfvBTRAcQTEVxAGNEB0KvZFLgY0QF1we3hJBjRAi8w1L2IGNECIMDSkeAY0QEoSOAyNBjRAuDgxl58GNECJubNwsAY0QGzGU8C/BjRAuFMIqs0GNEC4QH9O2gY0QN1ZasvlBjRAoGnIO/AGNEA=\",\"dtype\":\"float64\",\"order\":\"little\",\"shape\":[100]}},\"selected\":{\"id\":\"3477\"},\"selection_policy\":{\"id\":\"3478\"}},\"id\":\"3461\",\"type\":\"ColumnDataSource\"},{\"attributes\":{\"data_source\":{\"id\":\"3461\"},\"glyph\":{\"id\":\"3462\"},\"hover_glyph\":null,\"muted_glyph\":null,\"nonselection_glyph\":{\"id\":\"3463\"},\"selection_glyph\":null,\"view\":{\"id\":\"3465\"}},\"id\":\"3464\",\"type\":\"GlyphRenderer\"},{\"attributes\":{},\"id\":\"3403\",\"type\":\"HelpTool\"},{\"attributes\":{\"axis\":{\"id\":\"3394\"},\"dimension\":1,\"ticker\":null},\"id\":\"3397\",\"type\":\"Grid\"},{\"attributes\":{\"label\":{\"value\":\"bound proton pump\"},\"renderers\":[{\"id\":\"3464\"}]},\"id\":\"3480\",\"type\":\"LegendItem\"},{\"attributes\":{},\"id\":\"3440\",\"type\":\"UnionRenderers\"},{\"attributes\":{},\"id\":\"3388\",\"type\":\"LinearScale\"},{\"attributes\":{\"line_alpha\":0.1,\"line_color\":\"#9367bc\",\"line_width\":2,\"x\":{\"field\":\"x\"},\"y\":{\"field\":\"y\"}},\"id\":\"3463\",\"type\":\"Line\"},{\"attributes\":{},\"id\":\"3422\",\"type\":\"Selection\"},{\"attributes\":{},\"id\":\"3477\",\"type\":\"Selection\"},{\"attributes\":{},\"id\":\"3386\",\"type\":\"LinearScale\"},{\"attributes\":{},\"id\":\"3423\",\"type\":\"UnionRenderers\"},{\"attributes\":{\"bottom_units\":\"screen\",\"fill_alpha\":0.5,\"fill_color\":\"lightgrey\",\"left_units\":\"screen\",\"level\":\"overlay\",\"line_alpha\":1.0,\"line_color\":\"black\",\"line_dash\":[4,4],\"line_width\":2,\"right_units\":\"screen\",\"top_units\":\"screen\"},\"id\":\"3404\",\"type\":\"BoxAnnotation\"},{\"attributes\":{\"data\":{\"x\":{\"__ndarray__\":\"AAAAAAAAAAD0kcwotrK2P/SRzCi2ssY/d22ZnggG0T/0kcwotrLWP3K2/7JjX9w/d22ZnggG4T+2/7JjX9zjP/SRzCi2suY/MyTm7QyJ6T9ytv+yY1/sP7BIGXi6Ne8/d22ZnggG8T+WNiYBNHHyP7b/smNf3PM/1sg/xopH9T/0kcwotrL2PxNbWYvhHfg/MyTm7QyJ+T9T7XJQOPT6P3K2/7JjX/w/kH+MFY/K/T+wSBl4ujX/P+gIU+1yUABAd22ZnggGAUAG0t9PnrsBQJY2JgE0cQJAJptssskmA0C2/7JjX9wDQEVk+RT1kQRA1sg/xopHBUBlLYZ3IP0FQPSRzCi2sgZAhPYS2ktoB0ATW1mL4R0IQKS/nzx30whAMyTm7QyJCUDCiCyfoj4KQFPtclA49ApA4lG5Ac6pC0Bytv+yY18MQAEbRmT5FA1AkH+MFY/KDUAh5NLGJIAOQLBIGXi6NQ9AQK1fKVDrD0DoCFPtclAQQDA79sU9qxBAd22ZnggGEUC/nzx302ARQAbS30+euxFATwSDKGkWEkCWNiYBNHESQN9oydn+yxJAJptssskmE0BuzQ+LlIETQLb/smNf3BNA/jFWPCo3FEBFZPkU9ZEUQI2WnO2/7BRA1sg/xopHFUAe++KeVaIVQGUthncg/RVArV8pUOtXFkD0kcwotrIWQD3EbwGBDRdAhPYS2ktoF0DMKLayFsMXQBNbWYvhHRhAXI38Y6x4GECkv588d9MYQOzxQhVCLhlAMyTm7QyJGUB7VonG1+MZQMKILJ+iPhpAC7vPd22ZGkBT7XJQOPQaQJsfFikDTxtA4lG5Ac6pG0AqhFzamAQcQHK2/7JjXxxAuuiiiy66HEABG0Zk+RQdQElN6TzEbx1AkH+MFY/KHUDasS/uWSUeQCHk0sYkgB5AaRZ2n+/aHkCwSBl4ujUfQPl6vFCFkB9AQK1fKVDrH0DEbwGBDSMgQOgIU+1yUCBADKKkWdh9IEAwO/bFPasgQFTURzKj2CBAd22ZnggGIUCcBusKbjMhQL+fPHfTYCFA4ziO4ziOIUA=\",\"dtype\":\"float64\",\"order\":\"little\",\"shape\":[100]},\"y\":{\"__ndarray__\":\"AAAAAAAAAAAAAAAAAAAAAAAAAAAAAAAAAAAAAAAAAAAAAAAAAAAAAAAAAAAAAAAAAAAAAAAAAAAAAAAAAAAAAAAAAAAAAAAAAAAAAAAAAAAAAAAAAAAAAAAAAAAAAAAAAAAAAAAAAAAAAAAAAAAAAAAAAAAAAAAAAAAAAAAAAAAAAAAAAAAAAAAAAAAAAAAAAAAAAAAAAAAAAAAAAAAAAAAAAAAAAAAAAAAAAAAAAAAAAAAAAAAAAAAAAAAAAAAAAAAAAAAAAAAAAAAAAAAAAAAAAAAAAAAAAAAAAAAAAAAAAAAAAAAAAAAAAAAAAAAAAAAAAAAAAAAAAAAAAAAAAAAAAAAAAAAAAAAAAAAAAAAAAAAAAAAAAAAAAAAAAAAAAAAAAAAAAAAAAAAAAAAAAAAAAAAAAAAAAAAAAAAAAAAAAAAAAAAAAAAAAAAAAAAAAAAAAAAAAAAAAAAAAAAAAAAAAAAAAAAAAAAAAAAAAAAAAAAAAAAAAAAAAAAAAAAAAAAAAAAAAAAAAAAAAAAAAAAAAAAAAAAAAAAAAAAAAAAAAAAAAAAAAAAAAAAAAAAAAAAAAAAAAAAAAAAAAAAAAAAAAAAAAAAAAAAAAAAAAAAAAAAAAAAAAAAAAAAAAAAAAAAAAAAAAAAAAAAAAAAAAAAAAAAAAAAAAAAAAAAAAAAAAAAAAAAAAAAAAAAAAAAAAAAAAAAAAAAAAAAAAAAAAAAAAAAAAAAAAAAAAAAAAAAAAAAAAAAAAAAAAAAAAAAAAAAAAAAAAAAAAAAAAAAAAAAAAAAAAAAAAAAAAAAAAAAAAAAAAAAAAAAAAAAAAAAAAAAAAAAAAAAAAAAAAAAAAAAAAAAAAAAAAAAAAAAAAAAAAAAAAAAAAAAAAAAAAAAAAAAAAAAAAAAAAAAAAAAAAAAAAAAAAAAAAAAAAAAAAAAAAAAAAAAAAAAAAAAAAAAAAAAAAAAAAAAAAAAAAAAAAAAAAAAAAAAAAAAAAAAAAAAAAAAAAAAAAAAAAAAAAAAAAAAAAAAAAAAAAAAAAAAAAAAAAAAAAAAAAAAAAAAAAAA=\",\"dtype\":\"float64\",\"order\":\"little\",\"shape\":[100]}},\"selected\":{\"id\":\"3457\"},\"selection_policy\":{\"id\":\"3458\"}},\"id\":\"3443\",\"type\":\"ColumnDataSource\"},{\"attributes\":{},\"id\":\"3457\",\"type\":\"Selection\"},{\"attributes\":{},\"id\":\"3382\",\"type\":\"DataRange1d\"},{\"attributes\":{\"label\":{\"value\":\"inside_H\"},\"renderers\":[{\"id\":\"3446\"}]},\"id\":\"3460\",\"type\":\"LegendItem\"},{\"attributes\":{},\"id\":\"3478\",\"type\":\"UnionRenderers\"},{\"attributes\":{},\"id\":\"3384\",\"type\":\"DataRange1d\"},{\"attributes\":{\"data\":{\"x\":{\"__ndarray__\":\"AAAAAAAAAAD0kcwotrK2P/SRzCi2ssY/d22ZnggG0T/0kcwotrLWP3K2/7JjX9w/d22ZnggG4T+2/7JjX9zjP/SRzCi2suY/MyTm7QyJ6T9ytv+yY1/sP7BIGXi6Ne8/d22ZnggG8T+WNiYBNHHyP7b/smNf3PM/1sg/xopH9T/0kcwotrL2PxNbWYvhHfg/MyTm7QyJ+T9T7XJQOPT6P3K2/7JjX/w/kH+MFY/K/T+wSBl4ujX/P+gIU+1yUABAd22ZnggGAUAG0t9PnrsBQJY2JgE0cQJAJptssskmA0C2/7JjX9wDQEVk+RT1kQRA1sg/xopHBUBlLYZ3IP0FQPSRzCi2sgZAhPYS2ktoB0ATW1mL4R0IQKS/nzx30whAMyTm7QyJCUDCiCyfoj4KQFPtclA49ApA4lG5Ac6pC0Bytv+yY18MQAEbRmT5FA1AkH+MFY/KDUAh5NLGJIAOQLBIGXi6NQ9AQK1fKVDrD0DoCFPtclAQQDA79sU9qxBAd22ZnggGEUC/nzx302ARQAbS30+euxFATwSDKGkWEkCWNiYBNHESQN9oydn+yxJAJptssskmE0BuzQ+LlIETQLb/smNf3BNA/jFWPCo3FEBFZPkU9ZEUQI2WnO2/7BRA1sg/xopHFUAe++KeVaIVQGUthncg/RVArV8pUOtXFkD0kcwotrIWQD3EbwGBDRdAhPYS2ktoF0DMKLayFsMXQBNbWYvhHRhAXI38Y6x4GECkv588d9MYQOzxQhVCLhlAMyTm7QyJGUB7VonG1+MZQMKILJ+iPhpAC7vPd22ZGkBT7XJQOPQaQJsfFikDTxtA4lG5Ac6pG0AqhFzamAQcQHK2/7JjXxxAuuiiiy66HEABG0Zk+RQdQElN6TzEbx1AkH+MFY/KHUDasS/uWSUeQCHk0sYkgB5AaRZ2n+/aHkCwSBl4ujUfQPl6vFCFkB9AQK1fKVDrH0DEbwGBDSMgQOgIU+1yUCBADKKkWdh9IEAwO/bFPasgQFTURzKj2CBAd22ZnggGIUCcBusKbjMhQL+fPHfTYCFA4ziO4ziOIUA=\",\"dtype\":\"float64\",\"order\":\"little\",\"shape\":[100]},\"y\":{\"__ndarray__\":\"AAAAAAAAJEAAAAAAAAAkQAAAAAAAACRAAAAAAAAAJEAAAAAAAAAkQAAAAAAAACRAAAAAAAAAJEAAAAAAAAAkQAAAAAAAACRAAAAAAAAAJEAAAAAAAAAkQAAAAAAAACRAAAAAAAAAJEAAAAAAAAAkQAAAAAAAACRAAAAAAAAAJEAAAAAAAAAkQAAAAAAAACRAAAAAAAAAJEAAAAAAAAAkQAAAAAAAACRAAAAAAAAAJEAAAAAAAAAkQAAAAAAAACRAAAAAAAAAJEAAAAAAAAAkQAAAAAAAACRAAAAAAAAAJEAAAAAAAAAkQAAAAAAAACRAAAAAAAAAJEAAAAAAAAAkQAAAAAAAACRAAAAAAAAAJEAAAAAAAAAkQAAAAAAAACRAAAAAAAAAJEAAAAAAAAAkQAAAAAAAACRAAAAAAAAAJEAAAAAAAAAkQAAAAAAAACRAAAAAAAAAJEAAAAAAAAAkQAAAAAAAACRAAAAAAAAAJEAAAAAAAAAkQAAAAAAAACRAAAAAAAAAJEAAAAAAAAAkQAAAAAAAACRAAAAAAAAAJEAAAAAAAAAkQAAAAAAAACRAAAAAAAAAJEAAAAAAAAAkQAAAAAAAACRAAAAAAAAAJEAAAAAAAAAkQAAAAAAAACRAAAAAAAAAJEAAAAAAAAAkQAAAAAAAACRAAAAAAAAAJEAAAAAAAAAkQAAAAAAAACRAAAAAAAAAJEAAAAAAAAAkQAAAAAAAACRAAAAAAAAAJEAAAAAAAAAkQAAAAAAAACRAAAAAAAAAJEAAAAAAAAAkQAAAAAAAACRAAAAAAAAAJEAAAAAAAAAkQAAAAAAAACRAAAAAAAAAJEAAAAAAAAAkQAAAAAAAACRAAAAAAAAAJEAAAAAAAAAkQAAAAAAAACRAAAAAAAAAJEAAAAAAAAAkQAAAAAAAACRAAAAAAAAAJEAAAAAAAAAkQAAAAAAAACRAAAAAAAAAJEAAAAAAAAAkQAAAAAAAACRAAAAAAAAAJEAAAAAAAAAkQAAAAAAAACRAAAAAAAAAJEAAAAAAAAAkQAAAAAAAACRAAAAAAAAAJEA=\",\"dtype\":\"float64\",\"order\":\"little\",\"shape\":[100]}},\"selected\":{\"id\":\"3439\"},\"selection_policy\":{\"id\":\"3440\"}},\"id\":\"3427\",\"type\":\"ColumnDataSource\"},{\"attributes\":{\"line_alpha\":0.1,\"line_color\":\"#ff7e0e\",\"line_width\":2,\"x\":{\"field\":\"x\"},\"y\":{\"field\":\"y\"}},\"id\":\"3429\",\"type\":\"Line\"},{\"attributes\":{\"line_color\":\"#9367bc\",\"line_width\":2,\"x\":{\"field\":\"x\"},\"y\":{\"field\":\"y\"}},\"id\":\"3462\",\"type\":\"Line\"},{\"attributes\":{\"text\":\"with Proton Pump\"},\"id\":\"3380\",\"type\":\"Title\"},{\"attributes\":{\"data\":{\"x\":{\"__ndarray__\":\"AAAAAAAAAAD0kcwotrK2P/SRzCi2ssY/d22ZnggG0T/0kcwotrLWP3K2/7JjX9w/d22ZnggG4T+2/7JjX9zjP/SRzCi2suY/MyTm7QyJ6T9ytv+yY1/sP7BIGXi6Ne8/d22ZnggG8T+WNiYBNHHyP7b/smNf3PM/1sg/xopH9T/0kcwotrL2PxNbWYvhHfg/MyTm7QyJ+T9T7XJQOPT6P3K2/7JjX/w/kH+MFY/K/T+wSBl4ujX/P+gIU+1yUABAd22ZnggGAUAG0t9PnrsBQJY2JgE0cQJAJptssskmA0C2/7JjX9wDQEVk+RT1kQRA1sg/xopHBUBlLYZ3IP0FQPSRzCi2sgZAhPYS2ktoB0ATW1mL4R0IQKS/nzx30whAMyTm7QyJCUDCiCyfoj4KQFPtclA49ApA4lG5Ac6pC0Bytv+yY18MQAEbRmT5FA1AkH+MFY/KDUAh5NLGJIAOQLBIGXi6NQ9AQK1fKVDrD0DoCFPtclAQQDA79sU9qxBAd22ZnggGEUC/nzx302ARQAbS30+euxFATwSDKGkWEkCWNiYBNHESQN9oydn+yxJAJptssskmE0BuzQ+LlIETQLb/smNf3BNA/jFWPCo3FEBFZPkU9ZEUQI2WnO2/7BRA1sg/xopHFUAe++KeVaIVQGUthncg/RVArV8pUOtXFkD0kcwotrIWQD3EbwGBDRdAhPYS2ktoF0DMKLayFsMXQBNbWYvhHRhAXI38Y6x4GECkv588d9MYQOzxQhVCLhlAMyTm7QyJGUB7VonG1+MZQMKILJ+iPhpAC7vPd22ZGkBT7XJQOPQaQJsfFikDTxtA4lG5Ac6pG0AqhFzamAQcQHK2/7JjXxxAuuiiiy66HEABG0Zk+RQdQElN6TzEbx1AkH+MFY/KHUDasS/uWSUeQCHk0sYkgB5AaRZ2n+/aHkCwSBl4ujUfQPl6vFCFkB9AQK1fKVDrH0DEbwGBDSMgQOgIU+1yUCBADKKkWdh9IEAwO/bFPasgQFTURzKj2CBAd22ZnggGIUCcBusKbjMhQL+fPHfTYCFA4ziO4ziOIUA=\",\"dtype\":\"float64\",\"order\":\"little\",\"shape\":[100]},\"y\":{\"__ndarray__\":\"AAAAAAAAJECEuKLq3lUbu4Danrcfl9M6Sbn8bA2W2rmB4ORZcdcauRSbIlfe9S05gLkQiA+AAjlfhlTDW9jGOCBbuSnad1O4kDcmoRKmR7gkMEDu36+nuOSeNUk/Yna4FuGxCCkcSDjOPEadxccXuNeTDD3t4BK4in1/2m048zdJ90lQMazJtywHyBpsreK3qmKYPJhVIbih2hjDNTYwOLQI4/UhJCw4V+mNZoSh8zeLS1uVpT0iOMLN1v/Y1lK41A4l0lNTPLgupDJ6kGlRuKq5JM065SK43ySeKtYA4bebNIP5VrLUNyDYrdhQDQS48Bm99EmJ6jco7rXQ9EkRuH4T0f2QLzs4KFB9JnCzCLgw+fIPf+LrtyBXrsHkqAk4kMGEAu0jArjkx9/eBMhiuMCcg9oAVEw4Qqb0GfGFkTjFbdUIQ/CFOK+ZE7LchoQ4VKibXmFjprhAawnsJjzEuAAPmXw3q5+4wM4KrycoqDiO6xs//I6FOH1bjlLDsY44hW/qoquLnDguBil8V7IxOKroSfYLaGI4XMyjL76bW7hLLMu9+uoPOO0hH0N85ka4kBWFzjYCO7hGVi0v9bJeOAzL5sIUjW2470qV/94zcThA0qdCKp4suIh7JaQBeYi4R2B/BAECoDjZjx1SIF6kuGgHKGvi34s4sp9B613KVrj/bMR9LSQIuJiFiqNzkLw3lou5lAGwmjeMkP/01eOYtwfDQ2HO5Zo36oCItOknuzcMPm7eRwKnN50KrkcuySe30JkM+lRpUDeNY1ess2hKN9ybvvMIjkS3faeCs5Fy6jaAzG8UkPQDN0UGYMxqwPA2cPQvyAvRCbeNaY3gWEH2NtHSnoyahsc2GUD5M1Uo1bYvOvmTEQq3NtpwHj8xNYU2ol4suCvEhbYbai1lmaY7NiJ7Qa0us1A2oxvXebz7Q7a2yiHFYsJUthCffy5EHEo2AIQFwYEDMjZQOjHzaeNNtlCD+16c5WI2CJKMi89xRLbY/EgjMIxytmCE4gmko482Z0i+oi7DorbBFAqBBbmbtiAKZVj41502KlxWsF3IljY=\",\"dtype\":\"float64\",\"order\":\"little\",\"shape\":[100]}},\"selected\":{\"id\":\"3422\"},\"selection_policy\":{\"id\":\"3423\"}},\"id\":\"3412\",\"type\":\"ColumnDataSource\"},{\"attributes\":{\"data_source\":{\"id\":\"3443\"},\"glyph\":{\"id\":\"3444\"},\"hover_glyph\":null,\"muted_glyph\":null,\"nonselection_glyph\":{\"id\":\"3445\"},\"selection_glyph\":null,\"view\":{\"id\":\"3447\"}},\"id\":\"3446\",\"type\":\"GlyphRenderer\"},{\"attributes\":{\"data_source\":{\"id\":\"3427\"},\"glyph\":{\"id\":\"3428\"},\"hover_glyph\":null,\"muted_glyph\":null,\"nonselection_glyph\":{\"id\":\"3429\"},\"selection_glyph\":null,\"view\":{\"id\":\"3431\"}},\"id\":\"3430\",\"type\":\"GlyphRenderer\"}],\"root_ids\":[\"3379\"]},\"title\":\"Bokeh Application\",\"version\":\"2.2.1\"}};\n",
       "  var render_items = [{\"docid\":\"5ac66060-7112-4ec1-a787-78b859316d0d\",\"root_ids\":[\"3379\"],\"roots\":{\"3379\":\"c165f124-c5b9-4cb9-930a-710d90c3aee9\"}}];\n",
       "  root.Bokeh.embed.embed_items_notebook(docs_json, render_items);\n",
       "\n",
       "  }\n",
       "  if (root.Bokeh !== undefined) {\n",
       "    embed_document(root);\n",
       "  } else {\n",
       "    var attempts = 0;\n",
       "    var timer = setInterval(function(root) {\n",
       "      if (root.Bokeh !== undefined) {\n",
       "        clearInterval(timer);\n",
       "        embed_document(root);\n",
       "      } else {\n",
       "        attempts++;\n",
       "        if (attempts > 100) {\n",
       "          clearInterval(timer);\n",
       "          console.log(\"Bokeh: ERROR: Unable to run BokehJS code because BokehJS library is missing\");\n",
       "        }\n",
       "      }\n",
       "    }, 10, root)\n",
       "  }\n",
       "})(window);"
      ],
      "application/vnd.bokehjs_exec.v0+json": ""
     },
     "metadata": {
      "application/vnd.bokehjs_exec.v0+json": {
       "id": "3379"
      }
     },
     "output_type": "display_data"
    }
   ],
   "source": [
    "plt_timepoints = timepoints/60/60\n",
    "\n",
    "p_pp = bokeh.plotting.figure(width = 450, height = 350, title = 'with Proton Pump',\n",
    "                            x_axis_label = 'time (hrs)',\n",
    "                            y_axis_label = 'concentration (nM)')\n",
    "plot_list = [ATP_id, outside_H_id, inside_H_id, proton_pump_b_protein_id]\n",
    "plot_str = ['atp', 'outside_H', 'inside_H', 'bound proton pump']\n",
    "for i,item in enumerate(plot_list):\n",
    "    p_pp.line(plt_timepoints, results[item], line_width = 2, legend_label = plot_str[i], color = palette[i])\n",
    "    \n",
    "p_pp.legend.click_policy = 'hide'\n",
    "p_pp.legend.location = 'bottom_right'\n",
    "bokeh.io.show(p_pp)"
   ]
  },
  {
   "cell_type": "markdown",
   "metadata": {},
   "source": [
    "## Combine atp synthase and proton pump subsystems (with machinery txtl)\n",
    "---"
   ]
  },
  {
   "cell_type": "code",
   "execution_count": 30,
   "metadata": {},
   "outputs": [],
   "source": [
    "entire_subsystem = ss1_atpsyn_txtl + ss2_atpsyn_mi + ss3_atpsynthesis + ss4_atp_use + ss5_pp_txtl + ss6_pp_mi + ss7_protontransport"
   ]
  },
  {
   "cell_type": "code",
   "execution_count": 32,
   "metadata": {},
   "outputs": [],
   "source": [
    "# Initial conditions\n",
    "spec_list_10 = ['dna_proton_pump', 'dna_atpsyn','proton_outside_H','protein_RNAP_machinery', \n",
    "                'protein_Ribo_machinery', 'protein_RNAse_machinery']\n",
    "for i,spec in enumerate(spec_list_10):\n",
    "    entire_subsystem.setSpeciesAmount(spec,10)\n",
    "entire_subsystem.setSpeciesAmount('metabolite_atp',10)\n",
    "\n",
    "# timepoints and get results\n",
    "# timepoints = np.linspace(0,10,100)\n",
    "# results, _ = entire_subsystem.simulateWithBioscrape(timepoints, sbml_warnings = False)\n",
    "\n",
    "# Get species IDs\n",
    "ATP_id3 = entire_subsystem.getSpeciesByName('metabolite_atp').getId()\n",
    "ADP_id = entire_subsystem.getSpeciesByName('metabolite_adp').getId()\n",
    "\n",
    "outside_H_id = entire_subsystem.getSpeciesByName('proton_outside_H').getId()\n",
    "inside_H_id = entire_subsystem.getSpeciesByName('proton_inside_H').getId()\n",
    "\n",
    "proton_pump_b_protein_id = entire_subsystem.getSpeciesByName('protein_proton_pump_b').getId()\n",
    "proton_pump_f_protein_id = entire_subsystem.getSpeciesByName('protein_proton_pump').getId()\n",
    "\n",
    "atp_synthase_b_protein_id = entire_subsystem.getSpeciesByName('protein_atpsyn_b').getId()\n",
    "atp_synthase_f_protein_id = entire_subsystem.getSpeciesByName('protein_atpsyn').getId()\n"
   ]
  },
  {
   "cell_type": "code",
   "execution_count": 33,
   "metadata": {},
   "outputs": [
    {
     "name": "stderr",
     "output_type": "stream",
     "text": [
      "odeint failed with mxstep=500..."
     ]
    }
   ],
   "source": [
    "timepoints = np.linspace(0,31600,100)\n",
    "results_everything, _ = entire_subsystem.simulateWithBioscrape(timepoints, sbml_warnings = False)"
   ]
  },
  {
   "cell_type": "code",
   "execution_count": 34,
   "metadata": {},
   "outputs": [],
   "source": [
    "from bokeh.models.annotations import Title\n",
    "\n"
   ]
  },
  {
   "cell_type": "code",
   "execution_count": 35,
   "metadata": {},
   "outputs": [
    {
     "data": {
      "text/html": [
       "\n",
       "\n",
       "\n",
       "\n",
       "\n",
       "\n",
       "  <div class=\"bk-root\" id=\"82a0b01c-fefb-4a1f-b412-abfa1173a7a6\" data-root-id=\"3711\"></div>\n"
      ]
     },
     "metadata": {},
     "output_type": "display_data"
    },
    {
     "data": {
      "application/javascript": [
       "(function(root) {\n",
       "  function embed_document(root) {\n",
       "    \n",
       "  var docs_json = {\"92c9cc22-6b6f-4a52-80e4-57172321cd77\":{\"roots\":{\"references\":[{\"attributes\":{\"below\":[{\"id\":\"3722\"}],\"center\":[{\"id\":\"3725\"},{\"id\":\"3729\"},{\"id\":\"3757\"}],\"left\":[{\"id\":\"3726\"}],\"plot_height\":350,\"plot_width\":450,\"renderers\":[{\"id\":\"3747\"},{\"id\":\"3762\"},{\"id\":\"3778\"},{\"id\":\"3796\"},{\"id\":\"3816\"}],\"title\":{\"id\":\"3712\"},\"toolbar\":{\"id\":\"3737\"},\"x_range\":{\"id\":\"3714\"},\"x_scale\":{\"id\":\"3718\"},\"y_range\":{\"id\":\"3716\"},\"y_scale\":{\"id\":\"3720\"}},\"id\":\"3711\",\"subtype\":\"Figure\",\"type\":\"Plot\"},{\"attributes\":{},\"id\":\"3731\",\"type\":\"WheelZoomTool\"},{\"attributes\":{\"label\":{\"value\":\"bound proton pump\"},\"renderers\":[{\"id\":\"3816\"}]},\"id\":\"3834\",\"type\":\"LegendItem\"},{\"attributes\":{},\"id\":\"3790\",\"type\":\"UnionRenderers\"},{\"attributes\":{},\"id\":\"3714\",\"type\":\"DataRange1d\"},{\"attributes\":{\"overlay\":{\"id\":\"3736\"}},\"id\":\"3732\",\"type\":\"BoxZoomTool\"},{\"attributes\":{},\"id\":\"3754\",\"type\":\"Selection\"},{\"attributes\":{\"data\":{\"x\":{\"__ndarray__\":\"AAAAAAAAAAD0kcwotrK2P/SRzCi2ssY/d22ZnggG0T/0kcwotrLWP3K2/7JjX9w/d22ZnggG4T+2/7JjX9zjP/SRzCi2suY/MyTm7QyJ6T9ytv+yY1/sP7BIGXi6Ne8/d22ZnggG8T+WNiYBNHHyP7b/smNf3PM/1sg/xopH9T/0kcwotrL2PxNbWYvhHfg/MyTm7QyJ+T9T7XJQOPT6P3K2/7JjX/w/kH+MFY/K/T+wSBl4ujX/P+gIU+1yUABAd22ZnggGAUAG0t9PnrsBQJY2JgE0cQJAJptssskmA0C2/7JjX9wDQEVk+RT1kQRA1sg/xopHBUBlLYZ3IP0FQPSRzCi2sgZAhPYS2ktoB0ATW1mL4R0IQKS/nzx30whAMyTm7QyJCUDCiCyfoj4KQFPtclA49ApA4lG5Ac6pC0Bytv+yY18MQAEbRmT5FA1AkH+MFY/KDUAh5NLGJIAOQLBIGXi6NQ9AQK1fKVDrD0DoCFPtclAQQDA79sU9qxBAd22ZnggGEUC/nzx302ARQAbS30+euxFATwSDKGkWEkCWNiYBNHESQN9oydn+yxJAJptssskmE0BuzQ+LlIETQLb/smNf3BNA/jFWPCo3FEBFZPkU9ZEUQI2WnO2/7BRA1sg/xopHFUAe++KeVaIVQGUthncg/RVArV8pUOtXFkD0kcwotrIWQD3EbwGBDRdAhPYS2ktoF0DMKLayFsMXQBNbWYvhHRhAXI38Y6x4GECkv588d9MYQOzxQhVCLhlAMyTm7QyJGUB7VonG1+MZQMKILJ+iPhpAC7vPd22ZGkBT7XJQOPQaQJsfFikDTxtA4lG5Ac6pG0AqhFzamAQcQHK2/7JjXxxAuuiiiy66HEABG0Zk+RQdQElN6TzEbx1AkH+MFY/KHUDasS/uWSUeQCHk0sYkgB5AaRZ2n+/aHkCwSBl4ujUfQPl6vFCFkB9AQK1fKVDrH0DEbwGBDSMgQOgIU+1yUCBADKKkWdh9IEAwO/bFPasgQFTURzKj2CBAd22ZnggGIUCcBusKbjMhQL+fPHfTYCFA4ziO4ziOIUA=\",\"dtype\":\"float64\",\"order\":\"little\",\"shape\":[100]},\"y\":{\"__ndarray__\":\"AAAAAAAAAACvlq8yipIGQFyC6+OdfCVA3fg8fWwdNUD6aJm9UNI/QDIRrRn+5ERA/mEl8uBtSUBb0Ch0xoxNQBelUeyrpVBAO1pUezBZUkAb60sE8ORTQHcmNzeMTFVAB4n03lGTVkCE/cihQLxXQGTCzwwSylhA1KKi+j+/WUDoV0dkCp5aQJsod6p8aFtAfgnkYnIgXED9NqW1m8dcQIpCXFSBX11ApRy6FIjpXUDhldM29GZeQGBrxF7s2F5ASkvASHxAX0AJkog+l55fQMJbwVEa9F9AqL6uMucgYECWvpcBNURgQJQVQ4VJZGBAASBsGnCBYEDCfBg87ZtgQOdscyT/s2BA2ErsXt7JYECpeTRNvt1gQMEx2Z/N72BAQPzvwzYAYUAwKbVGIA9hQAhKPjCtHGFA3QCpVf0oYUACxa6jLTRhQJTuf2NYPmFAVJVCd5VHYUDifwqT+k9hQP5reW+bV2FAp203+IleYUARRPd11mRhQEZ60rSPamFA9qDlJsNvYUBjUAUEfXRhQCEeZWbIeGFAStCLZK98YUC56XwpO4BhQLC/pAl0g2FA2EbWlmGGYUDdO+OxColhQKgJ2pp1i2FAhPGn/6eNYUDsR3kJp49hQKDe1mh3kWFAOT+nYB2TYUDBLDLQnJRhQAyQOjz5lWFA3phD1zWXYUB8vhCJVZhhQIioe/VamWFA0ISmgkiaYUCXgJ5eIJthQA+ee4Tkm2FAuSoHwZacYUDo+Pi2OJ1hQEogyuLLnWFAZq02nlGeYUBWuGcjy55hQNr41o85n2FAfR/s5p2fYUCbgV4U+Z9hQCK3X+5LoGFAyiGSN5egYUB0wtKg26BhQOJ118oZoWFAjP6oR1KhYUA+iPqbhaFhQPoIYUC0oWFA8Khuot6hYUDtnbQlBaJhQGw+rCQoomFA09GL8UeiYUDQsQfXZKJhQOQIAhl/omFAuhYq9ZaiYUDyX4yjrKJhQAcBGFfAomFALqIVPtKiYUDszJOC4qJhQDuNyUrxomFAKopwuf6iYUD7whbuCqNhQO2uaAUWo2FAD290GSCjYUA=\",\"dtype\":\"float64\",\"order\":\"little\",\"shape\":[100]}},\"selected\":{\"id\":\"3809\"},\"selection_policy\":{\"id\":\"3810\"}},\"id\":\"3793\",\"type\":\"ColumnDataSource\"},{\"attributes\":{\"label\":{\"value\":\"outside_H\"},\"renderers\":[{\"id\":\"3762\"}]},\"id\":\"3774\",\"type\":\"LegendItem\"},{\"attributes\":{},\"id\":\"3831\",\"type\":\"Selection\"},{\"attributes\":{},\"id\":\"3733\",\"type\":\"SaveTool\"},{\"attributes\":{},\"id\":\"3752\",\"type\":\"BasicTickFormatter\"},{\"attributes\":{},\"id\":\"3755\",\"type\":\"UnionRenderers\"},{\"attributes\":{\"line_color\":\"#9367bc\",\"line_width\":2,\"x\":{\"field\":\"x\"},\"y\":{\"field\":\"y\"}},\"id\":\"3794\",\"type\":\"Line\"},{\"attributes\":{\"data_source\":{\"id\":\"3793\"},\"glyph\":{\"id\":\"3794\"},\"hover_glyph\":null,\"muted_glyph\":null,\"nonselection_glyph\":{\"id\":\"3795\"},\"selection_glyph\":null,\"view\":{\"id\":\"3797\"}},\"id\":\"3796\",\"type\":\"GlyphRenderer\"},{\"attributes\":{},\"id\":\"3734\",\"type\":\"ResetTool\"},{\"attributes\":{\"text\":\"with ATP Synthase, Proton Pump, ATP Use\"},\"id\":\"3712\",\"type\":\"Title\"},{\"attributes\":{},\"id\":\"3716\",\"type\":\"DataRange1d\"},{\"attributes\":{\"line_alpha\":0.1,\"line_color\":\"#1f77b3\",\"line_width\":2,\"x\":{\"field\":\"x\"},\"y\":{\"field\":\"y\"}},\"id\":\"3746\",\"type\":\"Line\"},{\"attributes\":{\"line_alpha\":0.1,\"line_color\":\"#2ba02b\",\"line_width\":2,\"x\":{\"field\":\"x\"},\"y\":{\"field\":\"y\"}},\"id\":\"3777\",\"type\":\"Line\"},{\"attributes\":{},\"id\":\"3750\",\"type\":\"BasicTickFormatter\"},{\"attributes\":{},\"id\":\"3735\",\"type\":\"HelpTool\"},{\"attributes\":{},\"id\":\"3718\",\"type\":\"LinearScale\"},{\"attributes\":{\"source\":{\"id\":\"3793\"}},\"id\":\"3797\",\"type\":\"CDSView\"},{\"attributes\":{},\"id\":\"3720\",\"type\":\"LinearScale\"},{\"attributes\":{\"click_policy\":\"hide\",\"items\":[{\"id\":\"3758\"},{\"id\":\"3774\"},{\"id\":\"3792\"},{\"id\":\"3812\"},{\"id\":\"3834\"}],\"location\":\"center_right\"},\"id\":\"3757\",\"type\":\"Legend\"},{\"attributes\":{\"axis_label\":\"time (hrs)\",\"formatter\":{\"id\":\"3752\"},\"ticker\":{\"id\":\"3723\"}},\"id\":\"3722\",\"type\":\"LinearAxis\"},{\"attributes\":{\"label\":{\"value\":\"inside_H\"},\"renderers\":[{\"id\":\"3778\"}]},\"id\":\"3792\",\"type\":\"LegendItem\"},{\"attributes\":{\"axis\":{\"id\":\"3726\"},\"dimension\":1,\"ticker\":null},\"id\":\"3729\",\"type\":\"Grid\"},{\"attributes\":{\"line_alpha\":0.1,\"line_color\":\"#9367bc\",\"line_width\":2,\"x\":{\"field\":\"x\"},\"y\":{\"field\":\"y\"}},\"id\":\"3795\",\"type\":\"Line\"},{\"attributes\":{\"source\":{\"id\":\"3744\"}},\"id\":\"3748\",\"type\":\"CDSView\"},{\"attributes\":{},\"id\":\"3723\",\"type\":\"BasicTicker\"},{\"attributes\":{},\"id\":\"3809\",\"type\":\"Selection\"},{\"attributes\":{\"line_color\":\"#ff7e0e\",\"line_width\":2,\"x\":{\"field\":\"x\"},\"y\":{\"field\":\"y\"}},\"id\":\"3760\",\"type\":\"Line\"},{\"attributes\":{\"label\":{\"value\":\"bound atp synthase\"},\"renderers\":[{\"id\":\"3796\"}]},\"id\":\"3812\",\"type\":\"LegendItem\"},{\"attributes\":{\"data_source\":{\"id\":\"3775\"},\"glyph\":{\"id\":\"3776\"},\"hover_glyph\":null,\"muted_glyph\":null,\"nonselection_glyph\":{\"id\":\"3777\"},\"selection_glyph\":null,\"view\":{\"id\":\"3779\"}},\"id\":\"3778\",\"type\":\"GlyphRenderer\"},{\"attributes\":{\"axis\":{\"id\":\"3722\"},\"ticker\":null},\"id\":\"3725\",\"type\":\"Grid\"},{\"attributes\":{\"source\":{\"id\":\"3759\"}},\"id\":\"3763\",\"type\":\"CDSView\"},{\"attributes\":{\"label\":{\"value\":\"atp\"},\"renderers\":[{\"id\":\"3747\"}]},\"id\":\"3758\",\"type\":\"LegendItem\"},{\"attributes\":{},\"id\":\"3810\",\"type\":\"UnionRenderers\"},{\"attributes\":{},\"id\":\"3727\",\"type\":\"BasicTicker\"},{\"attributes\":{\"axis_label\":\"concentration (nM)\",\"formatter\":{\"id\":\"3750\"},\"ticker\":{\"id\":\"3727\"}},\"id\":\"3726\",\"type\":\"LinearAxis\"},{\"attributes\":{\"line_color\":\"#2ba02b\",\"line_width\":2,\"x\":{\"field\":\"x\"},\"y\":{\"field\":\"y\"}},\"id\":\"3776\",\"type\":\"Line\"},{\"attributes\":{\"data\":{\"x\":{\"__ndarray__\":\"AAAAAAAAAAD0kcwotrK2P/SRzCi2ssY/d22ZnggG0T/0kcwotrLWP3K2/7JjX9w/d22ZnggG4T+2/7JjX9zjP/SRzCi2suY/MyTm7QyJ6T9ytv+yY1/sP7BIGXi6Ne8/d22ZnggG8T+WNiYBNHHyP7b/smNf3PM/1sg/xopH9T/0kcwotrL2PxNbWYvhHfg/MyTm7QyJ+T9T7XJQOPT6P3K2/7JjX/w/kH+MFY/K/T+wSBl4ujX/P+gIU+1yUABAd22ZnggGAUAG0t9PnrsBQJY2JgE0cQJAJptssskmA0C2/7JjX9wDQEVk+RT1kQRA1sg/xopHBUBlLYZ3IP0FQPSRzCi2sgZAhPYS2ktoB0ATW1mL4R0IQKS/nzx30whAMyTm7QyJCUDCiCyfoj4KQFPtclA49ApA4lG5Ac6pC0Bytv+yY18MQAEbRmT5FA1AkH+MFY/KDUAh5NLGJIAOQLBIGXi6NQ9AQK1fKVDrD0DoCFPtclAQQDA79sU9qxBAd22ZnggGEUC/nzx302ARQAbS30+euxFATwSDKGkWEkCWNiYBNHESQN9oydn+yxJAJptssskmE0BuzQ+LlIETQLb/smNf3BNA/jFWPCo3FEBFZPkU9ZEUQI2WnO2/7BRA1sg/xopHFUAe++KeVaIVQGUthncg/RVArV8pUOtXFkD0kcwotrIWQD3EbwGBDRdAhPYS2ktoF0DMKLayFsMXQBNbWYvhHRhAXI38Y6x4GECkv588d9MYQOzxQhVCLhlAMyTm7QyJGUB7VonG1+MZQMKILJ+iPhpAC7vPd22ZGkBT7XJQOPQaQJsfFikDTxtA4lG5Ac6pG0AqhFzamAQcQHK2/7JjXxxAuuiiiy66HEABG0Zk+RQdQElN6TzEbx1AkH+MFY/KHUDasS/uWSUeQCHk0sYkgB5AaRZ2n+/aHkCwSBl4ujUfQPl6vFCFkB9AQK1fKVDrH0DEbwGBDSMgQOgIU+1yUCBADKKkWdh9IEAwO/bFPasgQFTURzKj2CBAd22ZnggGIUCcBusKbjMhQL+fPHfTYCFA4ziO4ziOIUA=\",\"dtype\":\"float64\",\"order\":\"little\",\"shape\":[100]},\"y\":{\"__ndarray__\":\"AAAAAAAAAACFrc7vxREFQCIbj+SyvSNAa8AA50tPM0D+geZLPQs9QBuP23BcDUNAkPu9SZosR0AJoar9f+tKQHiC87vVUk5Aj3lrN021UEB7vvoMCR1SQNdQ03PrY1NAoNDKVfSMVEBVM0593ZpVQEIxs/wgkFZATeLA//5uV0BRwB0VgzlYQCAScPyI8VhAEuHEA8GYWUCoEUz/szBaQFi6G+TGulpAVlfBDj44W0A30Es9QKpbQJi/nkPZEVxA7HiIgPxvXEDGUO8Zh8VcQMO2PwNCE11AZ61k1+NZXUAuVJ2DEppdQNWV6c5k1F1AYvhWu2MJXkDfPSzIizleQEA1WRZOZV5AR2wbchGNXkCJdcVEM7FeQPpC/28I0l5AY/8oFd7vXkDJWnZK+gpfQPuS0b+cI19AWtxDVP85X0CZFYqdVk5fQD2gQmXSYF9AlmboFp5xX0CnWWQn4YBfQC0lF3G/jl9AArVUiFmbX0D2JMcHzaZfQDKtK9Y0sV9Al3Y+Zam6X0B3RF/rQMNfQKtcqJcPy19AnKMdwSfSX0Cw5JkSmthfQGkl2LB13l9AwMXLXsjjX0CRB52dnuhfQOMWMMoD7V9Am4a/NwLxX0DljS1Io/RfQMxhCoLv919AEemVpO76X0DtK/S5p/1fQGeO3JMQAGBA1ML4XjABYEBuymLiNQJgQAsYc4QjA2BAS3Noc/sDYEC1LIeqvwRgQJKRwfZxBWBAOAzy+hMGYEAzm7UzpwZgQOp/5fosB2BA3jzHiqYHYEDN8+wAFQhgQO6r1WB5CGBAWMFNltQIYECQFZl3JwlgQHo0a8dyCWBAMyCwNrcJYEBgfCxm9QlgQG4Y9uctCmBATpLLQGEKYEBBl0zpjwpgQJXuFE+6CmBAIxe+1eAKYEB3q8nXAwtgQPU+dacjC2BAPdB7j0ALYEAnV8XTWgtgQAeFBrJyC2BAmopRYogLYECsKJkXnAtgQAjhKQCuC2BADBcWRr4LYEByiZgPzQtgQKn5bX/aC2BAhhEnteYLYEAasHLN8QtgQKNKYeL7C2BA7gCiCwUMYEA=\",\"dtype\":\"float64\",\"order\":\"little\",\"shape\":[100]}},\"selected\":{\"id\":\"3831\"},\"selection_policy\":{\"id\":\"3832\"}},\"id\":\"3813\",\"type\":\"ColumnDataSource\"},{\"attributes\":{\"line_color\":\"#1f77b3\",\"line_width\":2,\"x\":{\"field\":\"x\"},\"y\":{\"field\":\"y\"}},\"id\":\"3745\",\"type\":\"Line\"},{\"attributes\":{\"source\":{\"id\":\"3775\"}},\"id\":\"3779\",\"type\":\"CDSView\"},{\"attributes\":{\"line_color\":\"#8c564b\",\"line_width\":2,\"x\":{\"field\":\"x\"},\"y\":{\"field\":\"y\"}},\"id\":\"3814\",\"type\":\"Line\"},{\"attributes\":{\"data_source\":{\"id\":\"3813\"},\"glyph\":{\"id\":\"3814\"},\"hover_glyph\":null,\"muted_glyph\":null,\"nonselection_glyph\":{\"id\":\"3815\"},\"selection_glyph\":null,\"view\":{\"id\":\"3817\"}},\"id\":\"3816\",\"type\":\"GlyphRenderer\"},{\"attributes\":{\"line_alpha\":0.1,\"line_color\":\"#ff7e0e\",\"line_width\":2,\"x\":{\"field\":\"x\"},\"y\":{\"field\":\"y\"}},\"id\":\"3761\",\"type\":\"Line\"},{\"attributes\":{\"data\":{\"x\":{\"__ndarray__\":\"AAAAAAAAAAD0kcwotrK2P/SRzCi2ssY/d22ZnggG0T/0kcwotrLWP3K2/7JjX9w/d22ZnggG4T+2/7JjX9zjP/SRzCi2suY/MyTm7QyJ6T9ytv+yY1/sP7BIGXi6Ne8/d22ZnggG8T+WNiYBNHHyP7b/smNf3PM/1sg/xopH9T/0kcwotrL2PxNbWYvhHfg/MyTm7QyJ+T9T7XJQOPT6P3K2/7JjX/w/kH+MFY/K/T+wSBl4ujX/P+gIU+1yUABAd22ZnggGAUAG0t9PnrsBQJY2JgE0cQJAJptssskmA0C2/7JjX9wDQEVk+RT1kQRA1sg/xopHBUBlLYZ3IP0FQPSRzCi2sgZAhPYS2ktoB0ATW1mL4R0IQKS/nzx30whAMyTm7QyJCUDCiCyfoj4KQFPtclA49ApA4lG5Ac6pC0Bytv+yY18MQAEbRmT5FA1AkH+MFY/KDUAh5NLGJIAOQLBIGXi6NQ9AQK1fKVDrD0DoCFPtclAQQDA79sU9qxBAd22ZnggGEUC/nzx302ARQAbS30+euxFATwSDKGkWEkCWNiYBNHESQN9oydn+yxJAJptssskmE0BuzQ+LlIETQLb/smNf3BNA/jFWPCo3FEBFZPkU9ZEUQI2WnO2/7BRA1sg/xopHFUAe++KeVaIVQGUthncg/RVArV8pUOtXFkD0kcwotrIWQD3EbwGBDRdAhPYS2ktoF0DMKLayFsMXQBNbWYvhHRhAXI38Y6x4GECkv588d9MYQOzxQhVCLhlAMyTm7QyJGUB7VonG1+MZQMKILJ+iPhpAC7vPd22ZGkBT7XJQOPQaQJsfFikDTxtA4lG5Ac6pG0AqhFzamAQcQHK2/7JjXxxAuuiiiy66HEABG0Zk+RQdQElN6TzEbx1AkH+MFY/KHUDasS/uWSUeQCHk0sYkgB5AaRZ2n+/aHkCwSBl4ujUfQPl6vFCFkB9AQK1fKVDrH0DEbwGBDSMgQOgIU+1yUCBADKKkWdh9IEAwO/bFPasgQFTURzKj2CBAd22ZnggGIUCcBusKbjMhQL+fPHfTYCFA4ziO4ziOIUA=\",\"dtype\":\"float64\",\"order\":\"little\",\"shape\":[100]},\"y\":{\"__ndarray__\":\"AAAAAAAAAAABnuyzZWgXQJ+X1ydy3CBADR4UEP9EIkC/OaEAPNEiQPp/rL0mFiNAbHiUZEY+I0DOG4vFZ1gjQEyuSz+0aiNAz3mp7i14I0CGfLCCeYIjQFfEVEGQiiNAvG2aRg+RI0B8IXeFXpYjQPWvhYXFmiNAE9wgHneeI0DGZ3hxmKEjQOsSfEFFpCNAFBsTuZKmI0BfWaVFkagjQIB7FNhNqiNAQxvTxtKrI0AuuHlsKK0jQELvr5xVriNA6qIU+V+vI0Cva0UxTLAjQPHkZTMesSNAxepcUdmxI0DlobhdgLIjQMERZMIVsyNAr5OjkpuzI0A+s3WZE7QjQMduLGV/tCNAnAPYUOC0I0B2RQSMN7UjQCV1QCGGtSNAsWto+sy1I0BLkgfnDLYjQLZOFJ5GtiNA0LQGwnq2I0CNAkzjqbYjQIORiYLUtiNAWPOGEvu2I0DxHOP5HbcjQBBGaZQ9tyNABQd2NFq3I0CAhaIjdLcjQIgxwKSLtyNA/f8g86C3I0AD55REtLcjQM+BgMnFtyNAeSyFrdW3I0B0lgEY5LcjQAyFgCzxtyNARIEdC/23I0BJdN3QB7gjQAwK/5cRuCNAQXk/eBq4I0DjuhyHIrgjQPeCCtgpuCNA/AygfDC4I0AeceOENrgjQPrIPv87uCNAvXvR+EC4I0B2HX99RbgjQJ4JD5hJuCNA7exHUk24I0ClHQi1ULgjQNpxW8hTuCNAdAGPk1a4I0BeF0MdWbgjQK1Te2tbuCNA8zGtg124I0C0Ec1qX7gjQL9zWyVhuCNAcY1tt2K4I0ApRbkkZLgjQKLhnHBluCNAq6Annma4I0C6fyCwZ7gjQB+1DalouCNAS0Y7i2m4I0BTPrhYargjQCDxbRNruCNA7NIGvWu4I0Dkf1VXbLgjQJt0O+NsuCNAqyCaYm24I0CzPTjWbbgjQM3/UT9uuCNAk9DLnm64I0Cup4n1brgjQJ8+aERvuCNA7731i2+4I0C0uhzNb7gjQHFbQQhwuCNACEj1PXC4I0Acac1ucLgjQEhLKZtwuCNASQ2Tw3C4I0A=\",\"dtype\":\"float64\",\"order\":\"little\",\"shape\":[100]}},\"selected\":{\"id\":\"3789\"},\"selection_policy\":{\"id\":\"3790\"}},\"id\":\"3775\",\"type\":\"ColumnDataSource\"},{\"attributes\":{},\"id\":\"3772\",\"type\":\"UnionRenderers\"},{\"attributes\":{\"data\":{\"x\":{\"__ndarray__\":\"AAAAAAAAAAD0kcwotrK2P/SRzCi2ssY/d22ZnggG0T/0kcwotrLWP3K2/7JjX9w/d22ZnggG4T+2/7JjX9zjP/SRzCi2suY/MyTm7QyJ6T9ytv+yY1/sP7BIGXi6Ne8/d22ZnggG8T+WNiYBNHHyP7b/smNf3PM/1sg/xopH9T/0kcwotrL2PxNbWYvhHfg/MyTm7QyJ+T9T7XJQOPT6P3K2/7JjX/w/kH+MFY/K/T+wSBl4ujX/P+gIU+1yUABAd22ZnggGAUAG0t9PnrsBQJY2JgE0cQJAJptssskmA0C2/7JjX9wDQEVk+RT1kQRA1sg/xopHBUBlLYZ3IP0FQPSRzCi2sgZAhPYS2ktoB0ATW1mL4R0IQKS/nzx30whAMyTm7QyJCUDCiCyfoj4KQFPtclA49ApA4lG5Ac6pC0Bytv+yY18MQAEbRmT5FA1AkH+MFY/KDUAh5NLGJIAOQLBIGXi6NQ9AQK1fKVDrD0DoCFPtclAQQDA79sU9qxBAd22ZnggGEUC/nzx302ARQAbS30+euxFATwSDKGkWEkCWNiYBNHESQN9oydn+yxJAJptssskmE0BuzQ+LlIETQLb/smNf3BNA/jFWPCo3FEBFZPkU9ZEUQI2WnO2/7BRA1sg/xopHFUAe++KeVaIVQGUthncg/RVArV8pUOtXFkD0kcwotrIWQD3EbwGBDRdAhPYS2ktoF0DMKLayFsMXQBNbWYvhHRhAXI38Y6x4GECkv588d9MYQOzxQhVCLhlAMyTm7QyJGUB7VonG1+MZQMKILJ+iPhpAC7vPd22ZGkBT7XJQOPQaQJsfFikDTxtA4lG5Ac6pG0AqhFzamAQcQHK2/7JjXxxAuuiiiy66HEABG0Zk+RQdQElN6TzEbx1AkH+MFY/KHUDasS/uWSUeQCHk0sYkgB5AaRZ2n+/aHkCwSBl4ujUfQPl6vFCFkB9AQK1fKVDrH0DEbwGBDSMgQOgIU+1yUCBADKKkWdh9IEAwO/bFPasgQFTURzKj2CBAd22ZnggGIUCcBusKbjMhQL+fPHfTYCFA4ziO4ziOIUA=\",\"dtype\":\"float64\",\"order\":\"little\",\"shape\":[100]},\"y\":{\"__ndarray__\":\"AAAAAAAAJEDz//////8fQO///////x9A7f//////H0Dt//////8fQOz//////x9A7f//////H0Dq//////8fQOr//////x9A6v//////H0Dp//////8fQOn//////x9A5v//////H0Dm//////8fQOX//////x9A4///////H0Dn//////8fQNL//////x9ADwAAAAAAIECl/v////8fQGYCAAAAACBAigEAAAAAIEDXAAAAAAAgQN///////x9A3v//////H0De//////8fQN///////x9A3///////H0Df//////8fQN///////x9A3///////H0Df//////8fQN///////x9A4P//////H0Df//////8fQPP//////x9A1///////H0Dc//////8fQNz//////x9A3P//////H0Dc//////8fQNr//////x9A4///////H0Dd//////8fQNL//////x9Axf//////H0AWAAAAAAAgQNz//////x9A3P//////H0Dc//////8fQNz//////x9A3P//////H0De//////8fQN///////x9A3f//////H0Df//////8fQN///////x9A4///////H0D2//////8fQBMAAAAAACBAH///////H0Dd//////8fQOb//////x9A4P//////H0Dg//////8fQOD//////x9A4P//////H0Dg//////8fQOH//////x9A3///////H0Dd//////8fQOX//////x9A8P//////H0DG//////8fQOX//////x9A3f//////H0De//////8fQN3//////x9A4f//////H0DW//////8fQND//////x9AGwAAAAAAIEAs//////8fQFz+/////x9AmPn/////H0D1AgAAAAAgQE74/////x9ALwAAAAAAIEA4/v////8fQAwAAAAAACBA3///////H0Cr/v////8fQN0AAAAAACBAgPv/////H0BWAAAAAAAgQFsAAAAAACBAsP3/////H0Cl/v////8fQJv9/////x9AhQIAAAAAIEA=\",\"dtype\":\"float64\",\"order\":\"little\",\"shape\":[100]}},\"selected\":{\"id\":\"3754\"},\"selection_policy\":{\"id\":\"3755\"}},\"id\":\"3744\",\"type\":\"ColumnDataSource\"},{\"attributes\":{},\"id\":\"3771\",\"type\":\"Selection\"},{\"attributes\":{\"data_source\":{\"id\":\"3759\"},\"glyph\":{\"id\":\"3760\"},\"hover_glyph\":null,\"muted_glyph\":null,\"nonselection_glyph\":{\"id\":\"3761\"},\"selection_glyph\":null,\"view\":{\"id\":\"3763\"}},\"id\":\"3762\",\"type\":\"GlyphRenderer\"},{\"attributes\":{},\"id\":\"3832\",\"type\":\"UnionRenderers\"},{\"attributes\":{\"bottom_units\":\"screen\",\"fill_alpha\":0.5,\"fill_color\":\"lightgrey\",\"left_units\":\"screen\",\"level\":\"overlay\",\"line_alpha\":1.0,\"line_color\":\"black\",\"line_dash\":[4,4],\"line_width\":2,\"right_units\":\"screen\",\"top_units\":\"screen\"},\"id\":\"3736\",\"type\":\"BoxAnnotation\"},{\"attributes\":{\"active_drag\":\"auto\",\"active_inspect\":\"auto\",\"active_multi\":null,\"active_scroll\":\"auto\",\"active_tap\":\"auto\",\"tools\":[{\"id\":\"3730\"},{\"id\":\"3731\"},{\"id\":\"3732\"},{\"id\":\"3733\"},{\"id\":\"3734\"},{\"id\":\"3735\"}]},\"id\":\"3737\",\"type\":\"Toolbar\"},{\"attributes\":{\"data\":{\"x\":{\"__ndarray__\":\"AAAAAAAAAAD0kcwotrK2P/SRzCi2ssY/d22ZnggG0T/0kcwotrLWP3K2/7JjX9w/d22ZnggG4T+2/7JjX9zjP/SRzCi2suY/MyTm7QyJ6T9ytv+yY1/sP7BIGXi6Ne8/d22ZnggG8T+WNiYBNHHyP7b/smNf3PM/1sg/xopH9T/0kcwotrL2PxNbWYvhHfg/MyTm7QyJ+T9T7XJQOPT6P3K2/7JjX/w/kH+MFY/K/T+wSBl4ujX/P+gIU+1yUABAd22ZnggGAUAG0t9PnrsBQJY2JgE0cQJAJptssskmA0C2/7JjX9wDQEVk+RT1kQRA1sg/xopHBUBlLYZ3IP0FQPSRzCi2sgZAhPYS2ktoB0ATW1mL4R0IQKS/nzx30whAMyTm7QyJCUDCiCyfoj4KQFPtclA49ApA4lG5Ac6pC0Bytv+yY18MQAEbRmT5FA1AkH+MFY/KDUAh5NLGJIAOQLBIGXi6NQ9AQK1fKVDrD0DoCFPtclAQQDA79sU9qxBAd22ZnggGEUC/nzx302ARQAbS30+euxFATwSDKGkWEkCWNiYBNHESQN9oydn+yxJAJptssskmE0BuzQ+LlIETQLb/smNf3BNA/jFWPCo3FEBFZPkU9ZEUQI2WnO2/7BRA1sg/xopHFUAe++KeVaIVQGUthncg/RVArV8pUOtXFkD0kcwotrIWQD3EbwGBDRdAhPYS2ktoF0DMKLayFsMXQBNbWYvhHRhAXI38Y6x4GECkv588d9MYQOzxQhVCLhlAMyTm7QyJGUB7VonG1+MZQMKILJ+iPhpAC7vPd22ZGkBT7XJQOPQaQJsfFikDTxtA4lG5Ac6pG0AqhFzamAQcQHK2/7JjXxxAuuiiiy66HEABG0Zk+RQdQElN6TzEbx1AkH+MFY/KHUDasS/uWSUeQCHk0sYkgB5AaRZ2n+/aHkCwSBl4ujUfQPl6vFCFkB9AQK1fKVDrH0DEbwGBDSMgQOgIU+1yUCBADKKkWdh9IEAwO/bFPasgQFTURzKj2CBAd22ZnggGIUCcBusKbjMhQL+fPHfTYCFA4ziO4ziOIUA=\",\"dtype\":\"float64\",\"order\":\"little\",\"shape\":[100]},\"y\":{\"__ndarray__\":\"AAAAAAAAJEAFYhNMmpcQQCdDQ8FuHPk/NR++/g6w6z/xY+z1P+ziP6EAcEooO90/UPJwbTM32D8VhpxOB/PUP5U2ihZ4qdI/Z8bQKkL60D/m3uBTn2HPP/3qzqrvW80/kJFkWS68yz9KoTeiXmjKP1MClJ6eTsk/TvrIdzhiyD+DDeah45nHPxpE+6Cv7sY/Gjo5u1Fbxj8zp6mWrtvFP5we4fqJbMU/kC05S04LxT/28pHh5LXEPw8uBNSYasQ/A0TXugEoxD/AEqWu8+zDPzDChiZzuMM/rUzFqKuJwz/bhNeR6F/DP3eN+2aPOsM/FRIbVxsZwz8YLpOiGfvCP65L5LQm4MI/dhb/yevHwj8MoO7+HLLCP1u04q93nsI/QBHlZcGMwj8Qaxs+xnzCP09Q7HpYbsI/uslSfk9hwj8rWv8sh1XCPw+dm13fSsI/zCdDXjtBwj+WwTiHgTjCP7Z5ruWaMMI/hDx+4nIpwj+DnV4X9yLCPxSc888WHcI/lf6/N8MXwj/6PMba7hLCP7+J35+NDsI/Pt+0npQKwj/2YJr/+QbCP6m63t+0A8I/j6yfOL0Awj+W66LIC/7BP8J6PQCa+8E/na0h8GH5wT8TRdE4XvfBP/k/X/2J9cE/qL781+DzwT/6tSPHXvLBP+C+TTAA8cE/Dw6hy8HvwT+7nzigoO7BPwiWPfyZ7cE/EsIEbqvswT8YlPi90uvBP+SGI+kN68E/daA/HFvqwT/pJTqvuOnBPz4SKyEl6cE/hYCzFJ/owT9PkLtMJejBP3cNI6m258E/8KCcJFLnwT/7sq7R9ubBP9qUx9ij5sE/U9IXdljmwT+ODuD3E+bBPzi1krzV5cE/RmouMZ3lwT+UaPDRaeXBP1O1gyQ75cE/YkJLvhDlwT9hBKAq6uTBP2bWIjHH5ME/JdJ3WafkwT9+kPBxiuTBP9kJgCtw5ME/UNgLTVjkwT+dEZadQuTBP0NV8OUu5ME/O4GQAh3kwT/AT9G4DOTBP5Egqe/948E/uvqtgvDjwT8GtqVM5OPBPwArrTXZ48E/lqo8G8/jwT8=\",\"dtype\":\"float64\",\"order\":\"little\",\"shape\":[100]}},\"selected\":{\"id\":\"3771\"},\"selection_policy\":{\"id\":\"3772\"}},\"id\":\"3759\",\"type\":\"ColumnDataSource\"},{\"attributes\":{\"source\":{\"id\":\"3813\"}},\"id\":\"3817\",\"type\":\"CDSView\"},{\"attributes\":{\"line_alpha\":0.1,\"line_color\":\"#8c564b\",\"line_width\":2,\"x\":{\"field\":\"x\"},\"y\":{\"field\":\"y\"}},\"id\":\"3815\",\"type\":\"Line\"},{\"attributes\":{},\"id\":\"3789\",\"type\":\"Selection\"},{\"attributes\":{},\"id\":\"3730\",\"type\":\"PanTool\"},{\"attributes\":{\"data_source\":{\"id\":\"3744\"},\"glyph\":{\"id\":\"3745\"},\"hover_glyph\":null,\"muted_glyph\":null,\"nonselection_glyph\":{\"id\":\"3746\"},\"selection_glyph\":null,\"view\":{\"id\":\"3748\"}},\"id\":\"3747\",\"type\":\"GlyphRenderer\"}],\"root_ids\":[\"3711\"]},\"title\":\"Bokeh Application\",\"version\":\"2.2.1\"}};\n",
       "  var render_items = [{\"docid\":\"92c9cc22-6b6f-4a52-80e4-57172321cd77\",\"root_ids\":[\"3711\"],\"roots\":{\"3711\":\"82a0b01c-fefb-4a1f-b412-abfa1173a7a6\"}}];\n",
       "  root.Bokeh.embed.embed_items_notebook(docs_json, render_items);\n",
       "\n",
       "  }\n",
       "  if (root.Bokeh !== undefined) {\n",
       "    embed_document(root);\n",
       "  } else {\n",
       "    var attempts = 0;\n",
       "    var timer = setInterval(function(root) {\n",
       "      if (root.Bokeh !== undefined) {\n",
       "        clearInterval(timer);\n",
       "        embed_document(root);\n",
       "      } else {\n",
       "        attempts++;\n",
       "        if (attempts > 100) {\n",
       "          clearInterval(timer);\n",
       "          console.log(\"Bokeh: ERROR: Unable to run BokehJS code because BokehJS library is missing\");\n",
       "        }\n",
       "      }\n",
       "    }, 10, root)\n",
       "  }\n",
       "})(window);"
      ],
      "application/vnd.bokehjs_exec.v0+json": ""
     },
     "metadata": {
      "application/vnd.bokehjs_exec.v0+json": {
       "id": "3711"
      }
     },
     "output_type": "display_data"
    },
    {
     "data": {
      "text/html": [
       "\n",
       "\n",
       "\n",
       "\n",
       "\n",
       "\n",
       "  <div class=\"bk-root\" id=\"ca982109-b3a5-443d-b0b3-d96ddc1a3775\" data-root-id=\"2872\"></div>\n"
      ]
     },
     "metadata": {},
     "output_type": "display_data"
    },
    {
     "data": {
      "application/javascript": [
       "(function(root) {\n",
       "  function embed_document(root) {\n",
       "    \n",
       "  var docs_json = {\"79a56a13-5521-4fd9-8173-958a35f4a8ac\":{\"roots\":{\"references\":[{\"attributes\":{\"below\":[{\"id\":\"2883\"}],\"center\":[{\"id\":\"2886\"},{\"id\":\"2890\"},{\"id\":\"2918\"}],\"left\":[{\"id\":\"2887\"}],\"plot_height\":350,\"plot_width\":450,\"renderers\":[{\"id\":\"2908\"},{\"id\":\"2923\"},{\"id\":\"3838\"}],\"title\":{\"id\":\"4177\"},\"toolbar\":{\"id\":\"2898\"},\"x_range\":{\"id\":\"2875\"},\"x_scale\":{\"id\":\"2879\"},\"y_range\":{\"id\":\"2877\"},\"y_scale\":{\"id\":\"2881\"}},\"id\":\"2872\",\"subtype\":\"Figure\",\"type\":\"Plot\"},{\"attributes\":{},\"id\":\"2891\",\"type\":\"PanTool\"},{\"attributes\":{},\"id\":\"2933\",\"type\":\"UnionRenderers\"},{\"attributes\":{\"data_source\":{\"id\":\"2920\"},\"glyph\":{\"id\":\"2921\"},\"hover_glyph\":null,\"muted_glyph\":null,\"nonselection_glyph\":{\"id\":\"2922\"},\"selection_glyph\":null,\"view\":{\"id\":\"2924\"}},\"id\":\"2923\",\"type\":\"GlyphRenderer\"},{\"attributes\":{\"line_color\":\"#ff7e0e\",\"line_width\":2,\"x\":{\"field\":\"x\"},\"y\":{\"field\":\"y\"}},\"id\":\"2921\",\"type\":\"Line\"},{\"attributes\":{},\"id\":\"2895\",\"type\":\"ResetTool\"},{\"attributes\":{\"active_drag\":\"auto\",\"active_inspect\":\"auto\",\"active_multi\":null,\"active_scroll\":\"auto\",\"active_tap\":\"auto\",\"tools\":[{\"id\":\"2891\"},{\"id\":\"2892\"},{\"id\":\"2893\"},{\"id\":\"2894\"},{\"id\":\"2895\"},{\"id\":\"2896\"}]},\"id\":\"2898\",\"type\":\"Toolbar\"},{\"attributes\":{},\"id\":\"2911\",\"type\":\"BasicTickFormatter\"},{\"attributes\":{\"overlay\":{\"id\":\"2897\"}},\"id\":\"2893\",\"type\":\"BoxZoomTool\"},{\"attributes\":{},\"id\":\"2879\",\"type\":\"LinearScale\"},{\"attributes\":{\"data_source\":{\"id\":\"3835\"},\"glyph\":{\"id\":\"3836\"},\"hover_glyph\":null,\"muted_glyph\":null,\"nonselection_glyph\":{\"id\":\"3837\"},\"selection_glyph\":null,\"view\":{\"id\":\"3839\"}},\"id\":\"3838\",\"type\":\"GlyphRenderer\"},{\"attributes\":{\"line_alpha\":0.1,\"line_color\":\"#1f77b3\",\"line_width\":2,\"x\":{\"field\":\"x\"},\"y\":{\"field\":\"y\"}},\"id\":\"2907\",\"type\":\"Line\"},{\"attributes\":{\"label\":{\"value\":\"ATP Synthase, ATP Use\"},\"renderers\":[{\"id\":\"2908\"}]},\"id\":\"2919\",\"type\":\"LegendItem\"},{\"attributes\":{\"bottom_units\":\"screen\",\"fill_alpha\":0.5,\"fill_color\":\"lightgrey\",\"left_units\":\"screen\",\"level\":\"overlay\",\"line_alpha\":1.0,\"line_color\":\"black\",\"line_dash\":[4,4],\"line_width\":2,\"right_units\":\"screen\",\"top_units\":\"screen\"},\"id\":\"2897\",\"type\":\"BoxAnnotation\"},{\"attributes\":{\"data\":{\"x\":{\"__ndarray__\":\"AAAAAAAAAAD0kcwotrK2P/SRzCi2ssY/d22ZnggG0T/0kcwotrLWP3K2/7JjX9w/d22ZnggG4T+2/7JjX9zjP/SRzCi2suY/MyTm7QyJ6T9ytv+yY1/sP7BIGXi6Ne8/d22ZnggG8T+WNiYBNHHyP7b/smNf3PM/1sg/xopH9T/0kcwotrL2PxNbWYvhHfg/MyTm7QyJ+T9T7XJQOPT6P3K2/7JjX/w/kH+MFY/K/T+wSBl4ujX/P+gIU+1yUABAd22ZnggGAUAG0t9PnrsBQJY2JgE0cQJAJptssskmA0C2/7JjX9wDQEVk+RT1kQRA1sg/xopHBUBlLYZ3IP0FQPSRzCi2sgZAhPYS2ktoB0ATW1mL4R0IQKS/nzx30whAMyTm7QyJCUDCiCyfoj4KQFPtclA49ApA4lG5Ac6pC0Bytv+yY18MQAEbRmT5FA1AkH+MFY/KDUAh5NLGJIAOQLBIGXi6NQ9AQK1fKVDrD0DoCFPtclAQQDA79sU9qxBAd22ZnggGEUC/nzx302ARQAbS30+euxFATwSDKGkWEkCWNiYBNHESQN9oydn+yxJAJptssskmE0BuzQ+LlIETQLb/smNf3BNA/jFWPCo3FEBFZPkU9ZEUQI2WnO2/7BRA1sg/xopHFUAe++KeVaIVQGUthncg/RVArV8pUOtXFkD0kcwotrIWQD3EbwGBDRdAhPYS2ktoF0DMKLayFsMXQBNbWYvhHRhAXI38Y6x4GECkv588d9MYQOzxQhVCLhlAMyTm7QyJGUB7VonG1+MZQMKILJ+iPhpAC7vPd22ZGkBT7XJQOPQaQJsfFikDTxtA4lG5Ac6pG0AqhFzamAQcQHK2/7JjXxxAuuiiiy66HEABG0Zk+RQdQElN6TzEbx1AkH+MFY/KHUDasS/uWSUeQCHk0sYkgB5AaRZ2n+/aHkCwSBl4ujUfQPl6vFCFkB9AQK1fKVDrH0DEbwGBDSMgQOgIU+1yUCBADKKkWdh9IEAwO/bFPasgQFTURzKj2CBAd22ZnggGIUCcBusKbjMhQL+fPHfTYCFA4ziO4ziOIUA=\",\"dtype\":\"float64\",\"order\":\"little\",\"shape\":[100]},\"y\":{\"__ndarray__\":\"AAAAAAAAJED0//////8fQPb//////x9A8f//////H0Dt//////8fQOz//////x9A6///////H0Ds//////8fQOv//////x9A6f//////H0Dr//////8fQOv//////x9A6f//////H0Do//////8fQOn//////x9AAQAAAAAAIEAbAAAAAAAgQOn//////x9A6f//////H0Dq//////8fQOr//////x9A6v//////H0Dr//////8fQOv//////x9A6///////H0Ds//////8fQOv//////x9A4P//////H0Dj//////8fQHkCAAAAACBAhywAAAAAIEBgRwAAAAAgQJJlAQAAACBA5BwDAAAAIEDHaAgAAAAgQJZ8y////x9AxMj9////H0CnxAAAAAAgQLn//////x9A7f//////H0Ds//////8fQOz//////x9A7P//////H0Ds//////8fQOz//////x9A7P//////H0Ds//////8fQOz//////x9A7P//////H0Ds//////8fQOv//////x9A6///////H0Dr//////8fQOv//////x9A6///////H0Dq//////8fQOv//////x9A6v//////H0Dm//////8fQPj//////x9A5P//////H0CA//////8fQCAAAAAAACBAwP//////H0CR//////8fQJ3//////x9AXgAAAAAAIED7/f////8fQEkCAAAAACBAAPf/////H0ALBAAAAAAgQIYwAAAAACBAwyf/////H0C8IwIAAAAgQOqc7f///x9APR0mAAAAIEBt5RIAAAAgQED1IgAAACBAK3VXAAAAIEAFEAAAAAAgQOr//////x9A6v//////H0Dq//////8fQOv//////x9A6///////H0Dr//////8fQOz//////x9A7P//////H0Ds//////8fQOz//////x9A7P//////H0Ds//////8fQOz//////x9A7P//////H0Ds//////8fQOz//////x9A7P//////H0Ds//////8fQOz//////x9A7P//////H0A=\",\"dtype\":\"float64\",\"order\":\"little\",\"shape\":[100]}},\"selected\":{\"id\":\"2915\"},\"selection_policy\":{\"id\":\"2916\"}},\"id\":\"2905\",\"type\":\"ColumnDataSource\"},{\"attributes\":{},\"id\":\"2892\",\"type\":\"WheelZoomTool\"},{\"attributes\":{},\"id\":\"2913\",\"type\":\"BasicTickFormatter\"},{\"attributes\":{\"axis_label\":\"time (hr)\",\"formatter\":{\"id\":\"2913\"},\"ticker\":{\"id\":\"2884\"}},\"id\":\"2883\",\"type\":\"LinearAxis\"},{\"attributes\":{\"data\":{\"x\":{\"__ndarray__\":\"AAAAAAAAAAD0kcwotrK2P/SRzCi2ssY/d22ZnggG0T/0kcwotrLWP3K2/7JjX9w/d22ZnggG4T+2/7JjX9zjP/SRzCi2suY/MyTm7QyJ6T9ytv+yY1/sP7BIGXi6Ne8/d22ZnggG8T+WNiYBNHHyP7b/smNf3PM/1sg/xopH9T/0kcwotrL2PxNbWYvhHfg/MyTm7QyJ+T9T7XJQOPT6P3K2/7JjX/w/kH+MFY/K/T+wSBl4ujX/P+gIU+1yUABAd22ZnggGAUAG0t9PnrsBQJY2JgE0cQJAJptssskmA0C2/7JjX9wDQEVk+RT1kQRA1sg/xopHBUBlLYZ3IP0FQPSRzCi2sgZAhPYS2ktoB0ATW1mL4R0IQKS/nzx30whAMyTm7QyJCUDCiCyfoj4KQFPtclA49ApA4lG5Ac6pC0Bytv+yY18MQAEbRmT5FA1AkH+MFY/KDUAh5NLGJIAOQLBIGXi6NQ9AQK1fKVDrD0DoCFPtclAQQDA79sU9qxBAd22ZnggGEUC/nzx302ARQAbS30+euxFATwSDKGkWEkCWNiYBNHESQN9oydn+yxJAJptssskmE0BuzQ+LlIETQLb/smNf3BNA/jFWPCo3FEBFZPkU9ZEUQI2WnO2/7BRA1sg/xopHFUAe++KeVaIVQGUthncg/RVArV8pUOtXFkD0kcwotrIWQD3EbwGBDRdAhPYS2ktoF0DMKLayFsMXQBNbWYvhHRhAXI38Y6x4GECkv588d9MYQOzxQhVCLhlAMyTm7QyJGUB7VonG1+MZQMKILJ+iPhpAC7vPd22ZGkBT7XJQOPQaQJsfFikDTxtA4lG5Ac6pG0AqhFzamAQcQHK2/7JjXxxAuuiiiy66HEABG0Zk+RQdQElN6TzEbx1AkH+MFY/KHUDasS/uWSUeQCHk0sYkgB5AaRZ2n+/aHkCwSBl4ujUfQPl6vFCFkB9AQK1fKVDrH0DEbwGBDSMgQOgIU+1yUCBADKKkWdh9IEAwO/bFPasgQFTURzKj2CBAd22ZnggGIUCcBusKbjMhQL+fPHfTYCFA4ziO4ziOIUA=\",\"dtype\":\"float64\",\"order\":\"little\",\"shape\":[100]},\"y\":{\"__ndarray__\":\"AAAAAAAAJEDz//////8fQO///////x9A7f//////H0Dt//////8fQOz//////x9A7f//////H0Dq//////8fQOr//////x9A6v//////H0Dp//////8fQOn//////x9A5v//////H0Dm//////8fQOX//////x9A4///////H0Dn//////8fQNL//////x9ADwAAAAAAIECl/v////8fQGYCAAAAACBAigEAAAAAIEDXAAAAAAAgQN///////x9A3v//////H0De//////8fQN///////x9A3///////H0Df//////8fQN///////x9A3///////H0Df//////8fQN///////x9A4P//////H0Df//////8fQPP//////x9A1///////H0Dc//////8fQNz//////x9A3P//////H0Dc//////8fQNr//////x9A4///////H0Dd//////8fQNL//////x9Axf//////H0AWAAAAAAAgQNz//////x9A3P//////H0Dc//////8fQNz//////x9A3P//////H0De//////8fQN///////x9A3f//////H0Df//////8fQN///////x9A4///////H0D2//////8fQBMAAAAAACBAH///////H0Dd//////8fQOb//////x9A4P//////H0Dg//////8fQOD//////x9A4P//////H0Dg//////8fQOH//////x9A3///////H0Dd//////8fQOX//////x9A8P//////H0DG//////8fQOX//////x9A3f//////H0De//////8fQN3//////x9A4f//////H0DW//////8fQND//////x9AGwAAAAAAIEAs//////8fQFz+/////x9AmPn/////H0D1AgAAAAAgQE74/////x9ALwAAAAAAIEA4/v////8fQAwAAAAAACBA3///////H0Cr/v////8fQN0AAAAAACBAgPv/////H0BWAAAAAAAgQFsAAAAAACBAsP3/////H0Cl/v////8fQJv9/////x9AhQIAAAAAIEA=\",\"dtype\":\"float64\",\"order\":\"little\",\"shape\":[100]}},\"selected\":{\"id\":\"3985\"},\"selection_policy\":{\"id\":\"3986\"}},\"id\":\"3835\",\"type\":\"ColumnDataSource\"},{\"attributes\":{\"line_color\":\"#9367bc\",\"line_width\":2,\"x\":{\"field\":\"x\"},\"y\":{\"field\":\"y\"}},\"id\":\"3836\",\"type\":\"Line\"},{\"attributes\":{\"source\":{\"id\":\"3835\"}},\"id\":\"3839\",\"type\":\"CDSView\"},{\"attributes\":{\"axis\":{\"id\":\"2883\"},\"ticker\":null},\"id\":\"2886\",\"type\":\"Grid\"},{\"attributes\":{\"axis_label\":\"concentration (nM)\",\"formatter\":{\"id\":\"2911\"},\"ticker\":{\"id\":\"2888\"}},\"id\":\"2887\",\"type\":\"LinearAxis\"},{\"attributes\":{},\"id\":\"2894\",\"type\":\"SaveTool\"},{\"attributes\":{},\"id\":\"2932\",\"type\":\"Selection\"},{\"attributes\":{\"line_alpha\":0.1,\"line_color\":\"#9367bc\",\"line_width\":2,\"x\":{\"field\":\"x\"},\"y\":{\"field\":\"y\"}},\"id\":\"3837\",\"type\":\"Line\"},{\"attributes\":{},\"id\":\"2884\",\"type\":\"BasicTicker\"},{\"attributes\":{\"line_alpha\":0.1,\"line_color\":\"#ff7e0e\",\"line_width\":2,\"x\":{\"field\":\"x\"},\"y\":{\"field\":\"y\"}},\"id\":\"2922\",\"type\":\"Line\"},{\"attributes\":{},\"id\":\"3985\",\"type\":\"Selection\"},{\"attributes\":{},\"id\":\"2896\",\"type\":\"HelpTool\"},{\"attributes\":{},\"id\":\"2915\",\"type\":\"Selection\"},{\"attributes\":{\"items\":[{\"id\":\"2919\"},{\"id\":\"2935\"},{\"id\":\"4014\"}],\"location\":\"center_right\"},\"id\":\"2918\",\"type\":\"Legend\"},{\"attributes\":{},\"id\":\"3986\",\"type\":\"UnionRenderers\"},{\"attributes\":{\"data\":{\"x\":{\"__ndarray__\":\"AAAAAAAAAAD0kcwotrK2P/SRzCi2ssY/d22ZnggG0T/0kcwotrLWP3K2/7JjX9w/d22ZnggG4T+2/7JjX9zjP/SRzCi2suY/MyTm7QyJ6T9ytv+yY1/sP7BIGXi6Ne8/d22ZnggG8T+WNiYBNHHyP7b/smNf3PM/1sg/xopH9T/0kcwotrL2PxNbWYvhHfg/MyTm7QyJ+T9T7XJQOPT6P3K2/7JjX/w/kH+MFY/K/T+wSBl4ujX/P+gIU+1yUABAd22ZnggGAUAG0t9PnrsBQJY2JgE0cQJAJptssskmA0C2/7JjX9wDQEVk+RT1kQRA1sg/xopHBUBlLYZ3IP0FQPSRzCi2sgZAhPYS2ktoB0ATW1mL4R0IQKS/nzx30whAMyTm7QyJCUDCiCyfoj4KQFPtclA49ApA4lG5Ac6pC0Bytv+yY18MQAEbRmT5FA1AkH+MFY/KDUAh5NLGJIAOQLBIGXi6NQ9AQK1fKVDrD0DoCFPtclAQQDA79sU9qxBAd22ZnggGEUC/nzx302ARQAbS30+euxFATwSDKGkWEkCWNiYBNHESQN9oydn+yxJAJptssskmE0BuzQ+LlIETQLb/smNf3BNA/jFWPCo3FEBFZPkU9ZEUQI2WnO2/7BRA1sg/xopHFUAe++KeVaIVQGUthncg/RVArV8pUOtXFkD0kcwotrIWQD3EbwGBDRdAhPYS2ktoF0DMKLayFsMXQBNbWYvhHRhAXI38Y6x4GECkv588d9MYQOzxQhVCLhlAMyTm7QyJGUB7VonG1+MZQMKILJ+iPhpAC7vPd22ZGkBT7XJQOPQaQJsfFikDTxtA4lG5Ac6pG0AqhFzamAQcQHK2/7JjXxxAuuiiiy66HEABG0Zk+RQdQElN6TzEbx1AkH+MFY/KHUDasS/uWSUeQCHk0sYkgB5AaRZ2n+/aHkCwSBl4ujUfQPl6vFCFkB9AQK1fKVDrH0DEbwGBDSMgQOgIU+1yUCBADKKkWdh9IEAwO/bFPasgQFTURzKj2CBAd22ZnggGIUCcBusKbjMhQL+fPHfTYCFA4ziO4ziOIUA=\",\"dtype\":\"float64\",\"order\":\"little\",\"shape\":[100]},\"y\":{\"__ndarray__\":\"AAAAAAAAJEAVXf4fOi2FuoWDYJE423C6TzNPSP8Mt7lfKWkHEQClubNhgGMZRNa4qwlEqyA81biisQfzJzTUuJpZyzovLNO4kQGPgjYk0riIqVLKPRzRuH9RFhJFFNC47vKzs5gYzrjfQjtDpwjMuMySwtK1+Mm4u+JJYsTox7iqMtHx0tjFuJqCWIHhyMO4iNLfEPC4wbjsRM5A/VG/uMvk3F8aMru4qoTrfjcSt7iHJPqdVPKyuMWIEXrjpK24g8guuB1lpbiFEJjsr0qauAUgpdFIloO4EUt5opQB37dGWVa4y43dt3tnM84CGty3rXUQ5Dmm2rfig+35cDLZtxaSyg+ovte3S6CnJd9K1reAroQ7FtfUt7K8YVFNY9O358o+Z4Tv0bcc2Rt9u3vQt5zO8SXlD863BeurUVMoy7dvB2Z9wUDIt9gjIKkvWcW3QUDa1J1xwrdMuSgBGBS/tx7ynFj0RLm38CoRsNB1s7d0xwoPWk2rtzNy5nslXp+3+6pusy1DgLfvjIlUedLNtsmTph1Hr822pJrD5hSMzbaAoeCv4mjNtlmo/XiwRc22M68aQn4izbYNtjcLTP/Mtui8VNQZ3My2w8Nxnee4zLaeyo5mtZXMtnjRqy+Dcsy2UtjI+FBPzLYt3+XBHizMtgfmAovsCMy24ewfVLrly7a88zwdiMLLtpf6WeZVn8u2cQF3ryN8y7ZLCJR48VjLticPsUG/Ncu2ABbOCo0Sy7bbHOvTWu/KtrYjCJ0ozMq2kColZvaoyrZrMUIvxIXKtkU4X/iRYsq2Hz98wV8/yrb6RZmKLRzKttRMtlP7+Mm2rlPTHMnVybaKWvDllrLJtmRhDa9kj8m2PmgqeDJsybYZb0dBAEnJtvR1ZArOJcm2znyB05sCybaog56cad/ItoOKu2U3vMi2XZHYLgWZyLY3mPX30nXIthOfEsGgUsi27aUvim4vyLbHrExTPAzItqKzaRwK6ce2fLqG5dfFx7ZWwaOupaLHtjHIwHdzf8e2C8/dQEFcx7bm1foJDznHtsHcF9PcFce2muM0nKryxrY=\",\"dtype\":\"float64\",\"order\":\"little\",\"shape\":[100]}},\"selected\":{\"id\":\"2932\"},\"selection_policy\":{\"id\":\"2933\"}},\"id\":\"2920\",\"type\":\"ColumnDataSource\"},{\"attributes\":{\"source\":{\"id\":\"2920\"}},\"id\":\"2924\",\"type\":\"CDSView\"},{\"attributes\":{},\"id\":\"2916\",\"type\":\"UnionRenderers\"},{\"attributes\":{\"source\":{\"id\":\"2905\"}},\"id\":\"2909\",\"type\":\"CDSView\"},{\"attributes\":{},\"id\":\"2877\",\"type\":\"DataRange1d\"},{\"attributes\":{\"label\":{\"value\":\"ATP Use\"},\"renderers\":[{\"id\":\"2923\"}]},\"id\":\"2935\",\"type\":\"LegendItem\"},{\"attributes\":{},\"id\":\"2875\",\"type\":\"DataRange1d\"},{\"attributes\":{},\"id\":\"2881\",\"type\":\"LinearScale\"},{\"attributes\":{\"text\":\"Compare ATP All\"},\"id\":\"4177\",\"type\":\"Title\"},{\"attributes\":{\"label\":{\"value\":\"ATP Synthase, Proton Pump, ATP Use\"},\"renderers\":[{\"id\":\"3838\"}]},\"id\":\"4014\",\"type\":\"LegendItem\"},{\"attributes\":{\"data_source\":{\"id\":\"2905\"},\"glyph\":{\"id\":\"2906\"},\"hover_glyph\":null,\"muted_glyph\":null,\"nonselection_glyph\":{\"id\":\"2907\"},\"selection_glyph\":null,\"view\":{\"id\":\"2909\"}},\"id\":\"2908\",\"type\":\"GlyphRenderer\"},{\"attributes\":{\"line_color\":\"#1f77b3\",\"line_width\":2,\"x\":{\"field\":\"x\"},\"y\":{\"field\":\"y\"}},\"id\":\"2906\",\"type\":\"Line\"},{\"attributes\":{},\"id\":\"2888\",\"type\":\"BasicTicker\"},{\"attributes\":{\"axis\":{\"id\":\"2887\"},\"dimension\":1,\"ticker\":null},\"id\":\"2890\",\"type\":\"Grid\"}],\"root_ids\":[\"2872\"]},\"title\":\"Bokeh Application\",\"version\":\"2.2.1\"}};\n",
       "  var render_items = [{\"docid\":\"79a56a13-5521-4fd9-8173-958a35f4a8ac\",\"root_ids\":[\"2872\"],\"roots\":{\"2872\":\"ca982109-b3a5-443d-b0b3-d96ddc1a3775\"}}];\n",
       "  root.Bokeh.embed.embed_items_notebook(docs_json, render_items);\n",
       "\n",
       "  }\n",
       "  if (root.Bokeh !== undefined) {\n",
       "    embed_document(root);\n",
       "  } else {\n",
       "    var attempts = 0;\n",
       "    var timer = setInterval(function(root) {\n",
       "      if (root.Bokeh !== undefined) {\n",
       "        clearInterval(timer);\n",
       "        embed_document(root);\n",
       "      } else {\n",
       "        attempts++;\n",
       "        if (attempts > 100) {\n",
       "          clearInterval(timer);\n",
       "          console.log(\"Bokeh: ERROR: Unable to run BokehJS code because BokehJS library is missing\");\n",
       "        }\n",
       "      }\n",
       "    }, 10, root)\n",
       "  }\n",
       "})(window);"
      ],
      "application/vnd.bokehjs_exec.v0+json": ""
     },
     "metadata": {
      "application/vnd.bokehjs_exec.v0+json": {
       "id": "2872"
      }
     },
     "output_type": "display_data"
    }
   ],
   "source": [
    "plt_timepoints = timepoints/60/60\n",
    "\n",
    "p3 = bokeh.plotting.figure(width = 450, height = 350, title = 'with ATP Synthase, Proton Pump, ATP Use',\n",
    "                          x_axis_label = 'time (hrs)',\n",
    "                          y_axis_label = 'concentration (nM)')\n",
    "plot_list = [ATP_id3, outside_H_id, inside_H_id, atp_synthase_b_protein_id, proton_pump_b_protein_id]\n",
    "plot_str = ['atp', 'outside_H', 'inside_H', 'bound atp synthase', 'bound proton pump']\n",
    "for i,item in enumerate(plot_list):\n",
    "    p3.line(plt_timepoints, results_everything[item], line_width = 2, legend_label = plot_str[i], color = palette[i])\n",
    "\n",
    "p_compare.line(plt_timepoints, results_everything[ATP_id3], line_width = 2, legend_label = 'ATP Synthase, Proton Pump, ATP Use', color = palette[3])\n",
    "#p3.line(plt_timepoints, results_everything[ATP_id3])\n",
    "p3.legend.click_policy = 'hide'\n",
    "p3.legend.location = 'center_right'\n",
    "#p_compare.title = 'Compare ATP All'\n",
    "t = Title()\n",
    "t.text = 'Compare ATP All'\n",
    "p_compare.title = t\n",
    "p_compare.legend.location = 'center_right'\n",
    "bokeh.io.show(p3)\n",
    "bokeh.io.show(p_compare)"
   ]
  },
  {
   "cell_type": "code",
   "execution_count": null,
   "metadata": {},
   "outputs": [],
   "source": []
  },
  {
   "cell_type": "markdown",
   "metadata": {},
   "source": [
    "## Compare with atpsyn + proton pump, only atpsyn, only atpuse (with txtl machinery)\n",
    "---"
   ]
  },
  {
   "cell_type": "code",
   "execution_count": 36,
   "metadata": {},
   "outputs": [
    {
     "data": {
      "text/html": [
       "\n",
       "\n",
       "\n",
       "\n",
       "\n",
       "\n",
       "  <div class=\"bk-root\" id=\"202fe5ac-14cc-4a0e-87c9-fa0bf4d0ed2e\" data-root-id=\"4658\"></div>\n"
      ]
     },
     "metadata": {},
     "output_type": "display_data"
    },
    {
     "data": {
      "application/javascript": [
       "(function(root) {\n",
       "  function embed_document(root) {\n",
       "    \n",
       "  var docs_json = {\"e7abb462-167c-4503-9098-428b76914804\":{\"roots\":{\"references\":[{\"attributes\":{\"children\":[{\"id\":\"3711\"},{\"id\":\"2722\"},{\"id\":\"2824\"}]},\"id\":\"4658\",\"type\":\"Row\"},{\"attributes\":{\"axis\":{\"id\":\"2835\"},\"ticker\":null},\"id\":\"2838\",\"type\":\"Grid\"},{\"attributes\":{},\"id\":\"3714\",\"type\":\"DataRange1d\"},{\"attributes\":{\"axis\":{\"id\":\"2839\"},\"dimension\":1,\"ticker\":null},\"id\":\"2842\",\"type\":\"Grid\"},{\"attributes\":{},\"id\":\"2741\",\"type\":\"PanTool\"},{\"attributes\":{\"axis_label\":\"concentration (nM)\",\"formatter\":{\"id\":\"2761\"},\"ticker\":{\"id\":\"2738\"}},\"id\":\"2737\",\"type\":\"LinearAxis\"},{\"attributes\":{\"active_drag\":\"auto\",\"active_inspect\":\"auto\",\"active_multi\":null,\"active_scroll\":\"auto\",\"active_tap\":\"auto\",\"tools\":[{\"id\":\"2843\"},{\"id\":\"2844\"},{\"id\":\"2845\"},{\"id\":\"2846\"},{\"id\":\"2847\"},{\"id\":\"2848\"}]},\"id\":\"2850\",\"type\":\"Toolbar\"},{\"attributes\":{},\"id\":\"3716\",\"type\":\"DataRange1d\"},{\"attributes\":{\"axis_label\":\"time (hrs)\",\"formatter\":{\"id\":\"2865\"},\"ticker\":{\"id\":\"2836\"}},\"id\":\"2835\",\"type\":\"LinearAxis\"},{\"attributes\":{},\"id\":\"2782\",\"type\":\"Selection\"},{\"attributes\":{\"source\":{\"id\":\"2786\"}},\"id\":\"2790\",\"type\":\"CDSView\"},{\"attributes\":{\"axis_label\":\"concentration (nM)\",\"formatter\":{\"id\":\"2863\"},\"ticker\":{\"id\":\"2840\"}},\"id\":\"2839\",\"type\":\"LinearAxis\"},{\"attributes\":{},\"id\":\"2846\",\"type\":\"SaveTool\"},{\"attributes\":{},\"id\":\"3718\",\"type\":\"LinearScale\"},{\"attributes\":{},\"id\":\"2746\",\"type\":\"HelpTool\"},{\"attributes\":{},\"id\":\"3720\",\"type\":\"LinearScale\"},{\"attributes\":{},\"id\":\"2821\",\"type\":\"UnionRenderers\"},{\"attributes\":{\"axis_label\":\"time (hrs)\",\"formatter\":{\"id\":\"3752\"},\"ticker\":{\"id\":\"3723\"}},\"id\":\"3722\",\"type\":\"LinearAxis\"},{\"attributes\":{},\"id\":\"2829\",\"type\":\"DataRange1d\"},{\"attributes\":{},\"id\":\"2766\",\"type\":\"UnionRenderers\"},{\"attributes\":{\"axis\":{\"id\":\"3726\"},\"dimension\":1,\"ticker\":null},\"id\":\"3729\",\"type\":\"Grid\"},{\"attributes\":{},\"id\":\"3723\",\"type\":\"BasicTicker\"},{\"attributes\":{\"line_color\":\"#2ba02b\",\"line_width\":2,\"x\":{\"field\":\"x\"},\"y\":{\"field\":\"y\"}},\"id\":\"2787\",\"type\":\"Line\"},{\"attributes\":{\"line_alpha\":0.1,\"line_color\":\"#1f77b3\",\"line_width\":2,\"x\":{\"field\":\"x\"},\"y\":{\"field\":\"y\"}},\"id\":\"2859\",\"type\":\"Line\"},{\"attributes\":{\"bottom_units\":\"screen\",\"fill_alpha\":0.5,\"fill_color\":\"lightgrey\",\"left_units\":\"screen\",\"level\":\"overlay\",\"line_alpha\":1.0,\"line_color\":\"black\",\"line_dash\":[4,4],\"line_width\":2,\"right_units\":\"screen\",\"top_units\":\"screen\"},\"id\":\"2849\",\"type\":\"BoxAnnotation\"},{\"attributes\":{},\"id\":\"2745\",\"type\":\"ResetTool\"},{\"attributes\":{\"axis\":{\"id\":\"3722\"},\"ticker\":null},\"id\":\"3725\",\"type\":\"Grid\"},{\"attributes\":{\"source\":{\"id\":\"3759\"}},\"id\":\"3763\",\"type\":\"CDSView\"},{\"attributes\":{},\"id\":\"3727\",\"type\":\"BasicTicker\"},{\"attributes\":{\"axis_label\":\"concentration (nM)\",\"formatter\":{\"id\":\"3750\"},\"ticker\":{\"id\":\"3727\"}},\"id\":\"3726\",\"type\":\"LinearAxis\"},{\"attributes\":{\"data_source\":{\"id\":\"2770\"},\"glyph\":{\"id\":\"2771\"},\"hover_glyph\":null,\"muted_glyph\":null,\"nonselection_glyph\":{\"id\":\"2772\"},\"selection_glyph\":null,\"view\":{\"id\":\"2774\"}},\"id\":\"2773\",\"type\":\"GlyphRenderer\"},{\"attributes\":{},\"id\":\"2848\",\"type\":\"HelpTool\"},{\"attributes\":{},\"id\":\"2836\",\"type\":\"BasicTicker\"},{\"attributes\":{\"axis\":{\"id\":\"2733\"},\"ticker\":null},\"id\":\"2736\",\"type\":\"Grid\"},{\"attributes\":{\"data\":{\"x\":{\"__ndarray__\":\"AAAAAAAAAAD0kcwotrK2P/SRzCi2ssY/d22ZnggG0T/0kcwotrLWP3K2/7JjX9w/d22ZnggG4T+2/7JjX9zjP/SRzCi2suY/MyTm7QyJ6T9ytv+yY1/sP7BIGXi6Ne8/d22ZnggG8T+WNiYBNHHyP7b/smNf3PM/1sg/xopH9T/0kcwotrL2PxNbWYvhHfg/MyTm7QyJ+T9T7XJQOPT6P3K2/7JjX/w/kH+MFY/K/T+wSBl4ujX/P+gIU+1yUABAd22ZnggGAUAG0t9PnrsBQJY2JgE0cQJAJptssskmA0C2/7JjX9wDQEVk+RT1kQRA1sg/xopHBUBlLYZ3IP0FQPSRzCi2sgZAhPYS2ktoB0ATW1mL4R0IQKS/nzx30whAMyTm7QyJCUDCiCyfoj4KQFPtclA49ApA4lG5Ac6pC0Bytv+yY18MQAEbRmT5FA1AkH+MFY/KDUAh5NLGJIAOQLBIGXi6NQ9AQK1fKVDrD0DoCFPtclAQQDA79sU9qxBAd22ZnggGEUC/nzx302ARQAbS30+euxFATwSDKGkWEkCWNiYBNHESQN9oydn+yxJAJptssskmE0BuzQ+LlIETQLb/smNf3BNA/jFWPCo3FEBFZPkU9ZEUQI2WnO2/7BRA1sg/xopHFUAe++KeVaIVQGUthncg/RVArV8pUOtXFkD0kcwotrIWQD3EbwGBDRdAhPYS2ktoF0DMKLayFsMXQBNbWYvhHRhAXI38Y6x4GECkv588d9MYQOzxQhVCLhlAMyTm7QyJGUB7VonG1+MZQMKILJ+iPhpAC7vPd22ZGkBT7XJQOPQaQJsfFikDTxtA4lG5Ac6pG0AqhFzamAQcQHK2/7JjXxxAuuiiiy66HEABG0Zk+RQdQElN6TzEbx1AkH+MFY/KHUDasS/uWSUeQCHk0sYkgB5AaRZ2n+/aHkCwSBl4ujUfQPl6vFCFkB9AQK1fKVDrH0DEbwGBDSMgQOgIU+1yUCBADKKkWdh9IEAwO/bFPasgQFTURzKj2CBAd22ZnggGIUCcBusKbjMhQL+fPHfTYCFA4ziO4ziOIUA=\",\"dtype\":\"float64\",\"order\":\"little\",\"shape\":[100]},\"y\":{\"__ndarray__\":\"AAAAAAAAJECGUb28IVdCPThBNVyoDbg98EDCbt5mMr08siJaSqb3PWC2x7TUZmy9oO7iMen8pT01aDlTa3xAPdwVTj5p8is9AIDNc3pwLT1/RKkhGv2svZqkRLtShOE9cAYumm7q47wy7G0GefvyvMgK2/mtEfO8QJav4B4Ujb212cdV7I+yvXoiMbQyW6a9aEmfMuysxL0UqqTC6KMovit/5RVTPvk8KP5dmUbPSbxS0yUVLLGzO0A9FO9i8qc7uOPvJdaberszYQ9keN5QOyLmfnyy+V27NA1JNHkIprtAqOqI0dipOwqNN9Gy1io8gNCS9UYuczzsIQB9zraCPE60fRweU6g8Tai96TLQvjyUBw6lWK7YPA/6OY8rpfG8Gwre8b+1p7yU40ON0jygPEWsTqjS5Eq8vO1EDayNAjwyIZTlenH7OzmKJDW5bcK7zOdpzX2csTv6CbNQXBpQO1mOHPzrsD+7oO0JjtPoQDvUP4kx9NtDu5DWaoPb+Go7tSDkX7WNQDtESxzNOuNBu6ynp6KnJoc6lDakJKwnkbqI3hwxWOYDug++vHIFMkA6sFHbbUT4/blC2a8LnzhVOl66SJzwqGK6oJXzPK8vOrqEyK/uMB6YOtQg61vrrq26gH2wW9TNmzr6xQWOsHLhOhExPqxygdu6SMSEF7nozDqANQcNHb3dOlI3BDZk59g6aNZ3Hs2Y8Lp6E2aRE6oDO+hsDpmzwhe7DAhXi2LKJjvA6IudVpcku/ye4OhByF+7rJnlUv7rcTvkDRWxXbqWuwIgxrX7gbg741BrXTeF2buk9wqdVa7Iu8htDIgfJ9e7GJP0YRFk7Lt0vYOMOgYHuxMf3W88trc6F3fgAkvBnTrpCLIjknUFOnbJOzoND9q5ZE2k+BoUsTnBwrE/DDsxOZfJXldMND85yQqsqBJlOjnI3kNQzoRDORd97Vwi8Oc4ovB3ZnY+DbimOdj6PvEBONWBO6KGggY4y43ljiXlDziV3m2JCaYBuIuxgKhITM43YiTHJfTL1jff6VvnbWust4fSseOa7AM3AXmboCp3DTc=\",\"dtype\":\"float64\",\"order\":\"little\",\"shape\":[100]}},\"selected\":{\"id\":\"2782\"},\"selection_policy\":{\"id\":\"2783\"}},\"id\":\"2770\",\"type\":\"ColumnDataSource\"},{\"attributes\":{},\"id\":\"2765\",\"type\":\"Selection\"},{\"attributes\":{\"label\":{\"value\":\"inside_H\"},\"renderers\":[{\"id\":\"2789\"}]},\"id\":\"2803\",\"type\":\"LegendItem\"},{\"attributes\":{\"below\":[{\"id\":\"2733\"}],\"center\":[{\"id\":\"2736\"},{\"id\":\"2740\"},{\"id\":\"2768\"}],\"left\":[{\"id\":\"2737\"}],\"plot_height\":350,\"plot_width\":450,\"renderers\":[{\"id\":\"2758\"},{\"id\":\"2773\"},{\"id\":\"2789\"},{\"id\":\"2807\"}],\"title\":{\"id\":\"2723\"},\"toolbar\":{\"id\":\"2748\"},\"x_range\":{\"id\":\"2725\"},\"x_scale\":{\"id\":\"2729\"},\"y_range\":{\"id\":\"2727\"},\"y_scale\":{\"id\":\"2731\"}},\"id\":\"2722\",\"subtype\":\"Figure\",\"type\":\"Plot\"},{\"attributes\":{\"data\":{\"x\":{\"__ndarray__\":\"AAAAAAAAAAD0kcwotrK2P/SRzCi2ssY/d22ZnggG0T/0kcwotrLWP3K2/7JjX9w/d22ZnggG4T+2/7JjX9zjP/SRzCi2suY/MyTm7QyJ6T9ytv+yY1/sP7BIGXi6Ne8/d22ZnggG8T+WNiYBNHHyP7b/smNf3PM/1sg/xopH9T/0kcwotrL2PxNbWYvhHfg/MyTm7QyJ+T9T7XJQOPT6P3K2/7JjX/w/kH+MFY/K/T+wSBl4ujX/P+gIU+1yUABAd22ZnggGAUAG0t9PnrsBQJY2JgE0cQJAJptssskmA0C2/7JjX9wDQEVk+RT1kQRA1sg/xopHBUBlLYZ3IP0FQPSRzCi2sgZAhPYS2ktoB0ATW1mL4R0IQKS/nzx30whAMyTm7QyJCUDCiCyfoj4KQFPtclA49ApA4lG5Ac6pC0Bytv+yY18MQAEbRmT5FA1AkH+MFY/KDUAh5NLGJIAOQLBIGXi6NQ9AQK1fKVDrD0DoCFPtclAQQDA79sU9qxBAd22ZnggGEUC/nzx302ARQAbS30+euxFATwSDKGkWEkCWNiYBNHESQN9oydn+yxJAJptssskmE0BuzQ+LlIETQLb/smNf3BNA/jFWPCo3FEBFZPkU9ZEUQI2WnO2/7BRA1sg/xopHFUAe++KeVaIVQGUthncg/RVArV8pUOtXFkD0kcwotrIWQD3EbwGBDRdAhPYS2ktoF0DMKLayFsMXQBNbWYvhHRhAXI38Y6x4GECkv588d9MYQOzxQhVCLhlAMyTm7QyJGUB7VonG1+MZQMKILJ+iPhpAC7vPd22ZGkBT7XJQOPQaQJsfFikDTxtA4lG5Ac6pG0AqhFzamAQcQHK2/7JjXxxAuuiiiy66HEABG0Zk+RQdQElN6TzEbx1AkH+MFY/KHUDasS/uWSUeQCHk0sYkgB5AaRZ2n+/aHkCwSBl4ujUfQPl6vFCFkB9AQK1fKVDrH0DEbwGBDSMgQOgIU+1yUCBADKKkWdh9IEAwO/bFPasgQFTURzKj2CBAd22ZnggGIUCcBusKbjMhQL+fPHfTYCFA4ziO4ziOIUA=\",\"dtype\":\"float64\",\"order\":\"little\",\"shape\":[100]},\"y\":{\"__ndarray__\":\"AAAAAAAAJEDz//////8fQO///////x9A7f//////H0Dt//////8fQOz//////x9A7f//////H0Dq//////8fQOr//////x9A6v//////H0Dp//////8fQOn//////x9A5v//////H0Dm//////8fQOX//////x9A4///////H0Dn//////8fQNL//////x9ADwAAAAAAIECl/v////8fQGYCAAAAACBAigEAAAAAIEDXAAAAAAAgQN///////x9A3v//////H0De//////8fQN///////x9A3///////H0Df//////8fQN///////x9A3///////H0Df//////8fQN///////x9A4P//////H0Df//////8fQPP//////x9A1///////H0Dc//////8fQNz//////x9A3P//////H0Dc//////8fQNr//////x9A4///////H0Dd//////8fQNL//////x9Axf//////H0AWAAAAAAAgQNz//////x9A3P//////H0Dc//////8fQNz//////x9A3P//////H0De//////8fQN///////x9A3f//////H0Df//////8fQN///////x9A4///////H0D2//////8fQBMAAAAAACBAH///////H0Dd//////8fQOb//////x9A4P//////H0Dg//////8fQOD//////x9A4P//////H0Dg//////8fQOH//////x9A3///////H0Dd//////8fQOX//////x9A8P//////H0DG//////8fQOX//////x9A3f//////H0De//////8fQN3//////x9A4f//////H0DW//////8fQND//////x9AGwAAAAAAIEAs//////8fQFz+/////x9AmPn/////H0D1AgAAAAAgQE74/////x9ALwAAAAAAIEA4/v////8fQAwAAAAAACBA3///////H0Cr/v////8fQN0AAAAAACBAgPv/////H0BWAAAAAAAgQFsAAAAAACBAsP3/////H0Cl/v////8fQJv9/////x9AhQIAAAAAIEA=\",\"dtype\":\"float64\",\"order\":\"little\",\"shape\":[100]}},\"selected\":{\"id\":\"3754\"},\"selection_policy\":{\"id\":\"3755\"}},\"id\":\"3744\",\"type\":\"ColumnDataSource\"},{\"attributes\":{},\"id\":\"2738\",\"type\":\"BasicTicker\"},{\"attributes\":{\"data\":{\"x\":{\"__ndarray__\":\"AAAAAAAAAAD0kcwotrK2P/SRzCi2ssY/d22ZnggG0T/0kcwotrLWP3K2/7JjX9w/d22ZnggG4T+2/7JjX9zjP/SRzCi2suY/MyTm7QyJ6T9ytv+yY1/sP7BIGXi6Ne8/d22ZnggG8T+WNiYBNHHyP7b/smNf3PM/1sg/xopH9T/0kcwotrL2PxNbWYvhHfg/MyTm7QyJ+T9T7XJQOPT6P3K2/7JjX/w/kH+MFY/K/T+wSBl4ujX/P+gIU+1yUABAd22ZnggGAUAG0t9PnrsBQJY2JgE0cQJAJptssskmA0C2/7JjX9wDQEVk+RT1kQRA1sg/xopHBUBlLYZ3IP0FQPSRzCi2sgZAhPYS2ktoB0ATW1mL4R0IQKS/nzx30whAMyTm7QyJCUDCiCyfoj4KQFPtclA49ApA4lG5Ac6pC0Bytv+yY18MQAEbRmT5FA1AkH+MFY/KDUAh5NLGJIAOQLBIGXi6NQ9AQK1fKVDrD0DoCFPtclAQQDA79sU9qxBAd22ZnggGEUC/nzx302ARQAbS30+euxFATwSDKGkWEkCWNiYBNHESQN9oydn+yxJAJptssskmE0BuzQ+LlIETQLb/smNf3BNA/jFWPCo3FEBFZPkU9ZEUQI2WnO2/7BRA1sg/xopHFUAe++KeVaIVQGUthncg/RVArV8pUOtXFkD0kcwotrIWQD3EbwGBDRdAhPYS2ktoF0DMKLayFsMXQBNbWYvhHRhAXI38Y6x4GECkv588d9MYQOzxQhVCLhlAMyTm7QyJGUB7VonG1+MZQMKILJ+iPhpAC7vPd22ZGkBT7XJQOPQaQJsfFikDTxtA4lG5Ac6pG0AqhFzamAQcQHK2/7JjXxxAuuiiiy66HEABG0Zk+RQdQElN6TzEbx1AkH+MFY/KHUDasS/uWSUeQCHk0sYkgB5AaRZ2n+/aHkCwSBl4ujUfQPl6vFCFkB9AQK1fKVDrH0DEbwGBDSMgQOgIU+1yUCBADKKkWdh9IEAwO/bFPasgQFTURzKj2CBAd22ZnggGIUCcBusKbjMhQL+fPHfTYCFA4ziO4ziOIUA=\",\"dtype\":\"float64\",\"order\":\"little\",\"shape\":[100]},\"y\":{\"__ndarray__\":\"AAAAAAAAAACr//////8jQNXP/////yNAFQAAAAAAJEAnC/3///8jQLcBAAAAACRA8un/////I0Cp//////8jQM7//////yNAzf//////I0DlHAAAAAAkQKTn/v///yNA6v//////I0Dt//////8jQO3//////yNALgcAAAAAJEALJQAAAAAkQEYWAAAAACRAnVIAAAAAJEDSoxgAAAAkQOX//////yNA6P//////I0Do//////8jQOj//////yNA6P//////I0Do//////8jQOj//////yNA6P//////I0Do//////8jQOj//////yNA6P//////I0Do//////8jQOn//////yNA6P//////I0Do//////8jQOr//////yNA6P//////I0Do//////8jQOj//////yNA6P//////I0Do//////8jQOj//////yNA6P//////I0Do//////8jQOj//////yNA6P//////I0Do//////8jQOj//////yNA6P//////I0Do//////8jQOj//////yNA6P//////I0Do//////8jQOj//////yNA6P//////I0Do//////8jQOj//////yNA6P//////I0Do//////8jQOj//////yNA6P//////I0Do//////8jQOj//////yNA6P//////I0Do//////8jQOj//////yNA6P//////I0Do//////8jQOj//////yNA6P//////I0Do//////8jQOj//////yNA6P//////I0Do//////8jQOj//////yNA6P//////I0Do//////8jQOj//////yNA6P//////I0Do//////8jQOj//////yNA6P//////I0Do//////8jQOj//////yNA6P//////I0Do//////8jQOj//////yNA6P//////I0Do//////8jQOj//////yNA6P//////I0Do//////8jQOj//////yNA6P//////I0Do//////8jQOj//////yNA6P//////I0Do//////8jQOj//////yNA6P//////I0A=\",\"dtype\":\"float64\",\"order\":\"little\",\"shape\":[100]}},\"selected\":{\"id\":\"2800\"},\"selection_policy\":{\"id\":\"2801\"}},\"id\":\"2786\",\"type\":\"ColumnDataSource\"},{\"attributes\":{},\"id\":\"2783\",\"type\":\"UnionRenderers\"},{\"attributes\":{\"active_drag\":\"auto\",\"active_inspect\":\"auto\",\"active_multi\":null,\"active_scroll\":\"auto\",\"active_tap\":\"auto\",\"tools\":[{\"id\":\"3730\"},{\"id\":\"3731\"},{\"id\":\"3732\"},{\"id\":\"3733\"},{\"id\":\"3734\"},{\"id\":\"3735\"}]},\"id\":\"3737\",\"type\":\"Toolbar\"},{\"attributes\":{\"line_alpha\":0.1,\"line_color\":\"#ff7e0e\",\"line_width\":2,\"x\":{\"field\":\"x\"},\"y\":{\"field\":\"y\"}},\"id\":\"2772\",\"type\":\"Line\"},{\"attributes\":{},\"id\":\"2744\",\"type\":\"SaveTool\"},{\"attributes\":{\"source\":{\"id\":\"2770\"}},\"id\":\"2774\",\"type\":\"CDSView\"},{\"attributes\":{},\"id\":\"2731\",\"type\":\"LinearScale\"},{\"attributes\":{\"data\":{\"x\":{\"__ndarray__\":\"AAAAAAAAAAD0kcwotrK2P/SRzCi2ssY/d22ZnggG0T/0kcwotrLWP3K2/7JjX9w/d22ZnggG4T+2/7JjX9zjP/SRzCi2suY/MyTm7QyJ6T9ytv+yY1/sP7BIGXi6Ne8/d22ZnggG8T+WNiYBNHHyP7b/smNf3PM/1sg/xopH9T/0kcwotrL2PxNbWYvhHfg/MyTm7QyJ+T9T7XJQOPT6P3K2/7JjX/w/kH+MFY/K/T+wSBl4ujX/P+gIU+1yUABAd22ZnggGAUAG0t9PnrsBQJY2JgE0cQJAJptssskmA0C2/7JjX9wDQEVk+RT1kQRA1sg/xopHBUBlLYZ3IP0FQPSRzCi2sgZAhPYS2ktoB0ATW1mL4R0IQKS/nzx30whAMyTm7QyJCUDCiCyfoj4KQFPtclA49ApA4lG5Ac6pC0Bytv+yY18MQAEbRmT5FA1AkH+MFY/KDUAh5NLGJIAOQLBIGXi6NQ9AQK1fKVDrD0DoCFPtclAQQDA79sU9qxBAd22ZnggGEUC/nzx302ARQAbS30+euxFATwSDKGkWEkCWNiYBNHESQN9oydn+yxJAJptssskmE0BuzQ+LlIETQLb/smNf3BNA/jFWPCo3FEBFZPkU9ZEUQI2WnO2/7BRA1sg/xopHFUAe++KeVaIVQGUthncg/RVArV8pUOtXFkD0kcwotrIWQD3EbwGBDRdAhPYS2ktoF0DMKLayFsMXQBNbWYvhHRhAXI38Y6x4GECkv588d9MYQOzxQhVCLhlAMyTm7QyJGUB7VonG1+MZQMKILJ+iPhpAC7vPd22ZGkBT7XJQOPQaQJsfFikDTxtA4lG5Ac6pG0AqhFzamAQcQHK2/7JjXxxAuuiiiy66HEABG0Zk+RQdQElN6TzEbx1AkH+MFY/KHUDasS/uWSUeQCHk0sYkgB5AaRZ2n+/aHkCwSBl4ujUfQPl6vFCFkB9AQK1fKVDrH0DEbwGBDSMgQOgIU+1yUCBADKKkWdh9IEAwO/bFPasgQFTURzKj2CBAd22ZnggGIUCcBusKbjMhQL+fPHfTYCFA4ziO4ziOIUA=\",\"dtype\":\"float64\",\"order\":\"little\",\"shape\":[100]},\"y\":{\"__ndarray__\":\"AAAAAAAAJEAVXf4fOi2FuoWDYJE423C6TzNPSP8Mt7lfKWkHEQClubNhgGMZRNa4qwlEqyA81biisQfzJzTUuJpZyzovLNO4kQGPgjYk0riIqVLKPRzRuH9RFhJFFNC47vKzs5gYzrjfQjtDpwjMuMySwtK1+Mm4u+JJYsTox7iqMtHx0tjFuJqCWIHhyMO4iNLfEPC4wbjsRM5A/VG/uMvk3F8aMru4qoTrfjcSt7iHJPqdVPKyuMWIEXrjpK24g8guuB1lpbiFEJjsr0qauAUgpdFIloO4EUt5opQB37dGWVa4y43dt3tnM84CGty3rXUQ5Dmm2rfig+35cDLZtxaSyg+ovte3S6CnJd9K1reAroQ7FtfUt7K8YVFNY9O358o+Z4Tv0bcc2Rt9u3vQt5zO8SXlD863BeurUVMoy7dvB2Z9wUDIt9gjIKkvWcW3QUDa1J1xwrdMuSgBGBS/tx7ynFj0RLm38CoRsNB1s7d0xwoPWk2rtzNy5nslXp+3+6pusy1DgLfvjIlUedLNtsmTph1Hr822pJrD5hSMzbaAoeCv4mjNtlmo/XiwRc22M68aQn4izbYNtjcLTP/Mtui8VNQZ3My2w8Nxnee4zLaeyo5mtZXMtnjRqy+Dcsy2UtjI+FBPzLYt3+XBHizMtgfmAovsCMy24ewfVLrly7a88zwdiMLLtpf6WeZVn8u2cQF3ryN8y7ZLCJR48VjLticPsUG/Ncu2ABbOCo0Sy7bbHOvTWu/KtrYjCJ0ozMq2kColZvaoyrZrMUIvxIXKtkU4X/iRYsq2Hz98wV8/yrb6RZmKLRzKttRMtlP7+Mm2rlPTHMnVybaKWvDllrLJtmRhDa9kj8m2PmgqeDJsybYZb0dBAEnJtvR1ZArOJcm2znyB05sCybaog56cad/ItoOKu2U3vMi2XZHYLgWZyLY3mPX30nXIthOfEsGgUsi27aUvim4vyLbHrExTPAzItqKzaRwK6ce2fLqG5dfFx7ZWwaOupaLHtjHIwHdzf8e2C8/dQEFcx7bm1foJDznHtsHcF9PcFce2muM0nKryxrY=\",\"dtype\":\"float64\",\"order\":\"little\",\"shape\":[100]}},\"selected\":{\"id\":\"2867\"},\"selection_policy\":{\"id\":\"2868\"}},\"id\":\"2857\",\"type\":\"ColumnDataSource\"},{\"attributes\":{},\"id\":\"3789\",\"type\":\"Selection\"},{\"attributes\":{},\"id\":\"3730\",\"type\":\"PanTool\"},{\"attributes\":{\"line_color\":\"#1f77b3\",\"line_width\":2,\"x\":{\"field\":\"x\"},\"y\":{\"field\":\"y\"}},\"id\":\"2858\",\"type\":\"Line\"},{\"attributes\":{\"bottom_units\":\"screen\",\"fill_alpha\":0.5,\"fill_color\":\"lightgrey\",\"left_units\":\"screen\",\"level\":\"overlay\",\"line_alpha\":1.0,\"line_color\":\"black\",\"line_dash\":[4,4],\"line_width\":2,\"right_units\":\"screen\",\"top_units\":\"screen\"},\"id\":\"2747\",\"type\":\"BoxAnnotation\"},{\"attributes\":{},\"id\":\"3731\",\"type\":\"WheelZoomTool\"},{\"attributes\":{},\"id\":\"2761\",\"type\":\"BasicTickFormatter\"},{\"attributes\":{\"line_alpha\":0.1,\"line_color\":\"#2ba02b\",\"line_width\":2,\"x\":{\"field\":\"x\"},\"y\":{\"field\":\"y\"}},\"id\":\"2788\",\"type\":\"Line\"},{\"attributes\":{},\"id\":\"2840\",\"type\":\"BasicTicker\"},{\"attributes\":{},\"id\":\"2843\",\"type\":\"PanTool\"},{\"attributes\":{\"overlay\":{\"id\":\"3736\"}},\"id\":\"3732\",\"type\":\"BoxZoomTool\"},{\"attributes\":{\"overlay\":{\"id\":\"2747\"}},\"id\":\"2743\",\"type\":\"BoxZoomTool\"},{\"attributes\":{\"label\":{\"value\":\"outside_H\"},\"renderers\":[{\"id\":\"3762\"}]},\"id\":\"3774\",\"type\":\"LegendItem\"},{\"attributes\":{},\"id\":\"2727\",\"type\":\"DataRange1d\"},{\"attributes\":{},\"id\":\"3733\",\"type\":\"SaveTool\"},{\"attributes\":{\"label\":{\"value\":\"outside_H\"},\"renderers\":[{\"id\":\"2773\"}]},\"id\":\"2785\",\"type\":\"LegendItem\"},{\"attributes\":{\"data_source\":{\"id\":\"2857\"},\"glyph\":{\"id\":\"2858\"},\"hover_glyph\":null,\"muted_glyph\":null,\"nonselection_glyph\":{\"id\":\"2859\"},\"selection_glyph\":null,\"view\":{\"id\":\"2861\"}},\"id\":\"2860\",\"type\":\"GlyphRenderer\"},{\"attributes\":{},\"id\":\"3734\",\"type\":\"ResetTool\"},{\"attributes\":{\"line_color\":\"#ff7e0e\",\"line_width\":2,\"x\":{\"field\":\"x\"},\"y\":{\"field\":\"y\"}},\"id\":\"2771\",\"type\":\"Line\"},{\"attributes\":{\"text\":\"with ATP Synthase, Proton Pump, ATP Use\"},\"id\":\"3712\",\"type\":\"Title\"},{\"attributes\":{},\"id\":\"2827\",\"type\":\"DataRange1d\"},{\"attributes\":{\"line_alpha\":0.1,\"line_color\":\"#2ba02b\",\"line_width\":2,\"x\":{\"field\":\"x\"},\"y\":{\"field\":\"y\"}},\"id\":\"3777\",\"type\":\"Line\"},{\"attributes\":{\"click_policy\":\"hide\",\"items\":[{\"id\":\"2769\"},{\"id\":\"2785\"},{\"id\":\"2803\"},{\"id\":\"2823\"}],\"location\":\"bottom_right\"},\"id\":\"2768\",\"type\":\"Legend\"},{\"attributes\":{},\"id\":\"3735\",\"type\":\"HelpTool\"},{\"attributes\":{},\"id\":\"2868\",\"type\":\"UnionRenderers\"},{\"attributes\":{},\"id\":\"2725\",\"type\":\"DataRange1d\"},{\"attributes\":{\"data\":{\"x\":{\"__ndarray__\":\"AAAAAAAAAAD0kcwotrK2P/SRzCi2ssY/d22ZnggG0T/0kcwotrLWP3K2/7JjX9w/d22ZnggG4T+2/7JjX9zjP/SRzCi2suY/MyTm7QyJ6T9ytv+yY1/sP7BIGXi6Ne8/d22ZnggG8T+WNiYBNHHyP7b/smNf3PM/1sg/xopH9T/0kcwotrL2PxNbWYvhHfg/MyTm7QyJ+T9T7XJQOPT6P3K2/7JjX/w/kH+MFY/K/T+wSBl4ujX/P+gIU+1yUABAd22ZnggGAUAG0t9PnrsBQJY2JgE0cQJAJptssskmA0C2/7JjX9wDQEVk+RT1kQRA1sg/xopHBUBlLYZ3IP0FQPSRzCi2sgZAhPYS2ktoB0ATW1mL4R0IQKS/nzx30whAMyTm7QyJCUDCiCyfoj4KQFPtclA49ApA4lG5Ac6pC0Bytv+yY18MQAEbRmT5FA1AkH+MFY/KDUAh5NLGJIAOQLBIGXi6NQ9AQK1fKVDrD0DoCFPtclAQQDA79sU9qxBAd22ZnggGEUC/nzx302ARQAbS30+euxFATwSDKGkWEkCWNiYBNHESQN9oydn+yxJAJptssskmE0BuzQ+LlIETQLb/smNf3BNA/jFWPCo3FEBFZPkU9ZEUQI2WnO2/7BRA1sg/xopHFUAe++KeVaIVQGUthncg/RVArV8pUOtXFkD0kcwotrIWQD3EbwGBDRdAhPYS2ktoF0DMKLayFsMXQBNbWYvhHRhAXI38Y6x4GECkv588d9MYQOzxQhVCLhlAMyTm7QyJGUB7VonG1+MZQMKILJ+iPhpAC7vPd22ZGkBT7XJQOPQaQJsfFikDTxtA4lG5Ac6pG0AqhFzamAQcQHK2/7JjXxxAuuiiiy66HEABG0Zk+RQdQElN6TzEbx1AkH+MFY/KHUDasS/uWSUeQCHk0sYkgB5AaRZ2n+/aHkCwSBl4ujUfQPl6vFCFkB9AQK1fKVDrH0DEbwGBDSMgQOgIU+1yUCBADKKkWdh9IEAwO/bFPasgQFTURzKj2CBAd22ZnggGIUCcBusKbjMhQL+fPHfTYCFA4ziO4ziOIUA=\",\"dtype\":\"float64\",\"order\":\"little\",\"shape\":[100]},\"y\":{\"__ndarray__\":\"AAAAAAAAAAD0VOcJIA/zP/6Q32jOHgdAdwc8ZsnREUCKJ7hvDIIXQLfWWNpUrRxA864Fj+OvIEBJ1XwANtIiQPJQkSulwiRAFiEgSL+FJkBW+IcPqB8oQCcvMnYilClARg2tgZnmKkAjzWRQKBosQPOKNGWhMS1AybQzSZUvLkDhi5WRWBYvQOOcZlkJ6C9AT0p/HUpTMEBHo5lq3KkwQO/DfPOG+DBATo9vhQJAMUA+fmQN94AxQCa0JCP9uzFAHK8Jb5/xMUD2zjLwWyIyQIX8RiSlTjJAKwiLFON2MkCzGTFKdJsyQH3YdqyuvDJAb/96SuDaMkA/D5cSUPYyQIdb8Xg+DzNA7ZcLD+YlM0ADsj4NfDozQPYOsc8wTTNAfRojSDBeM0BbWwdlom0zQM/aVW+rezNAfM/GX2yIM0D0AU4sA5QzQLZCgw6LnjNAHnuFwxyoM0ATOyrGzrAzQIj8w4O1uDNA8TYcjOO/M0DIwRO9acYzQJxhQGpXzDNAzlr+gLrRM0ATcQSpn9YzQEqiPGIS2zNAiEm2Hx3fM0CvhENgyeIzQPKAs8Qf5jNAoEYnJCjpM0DAJXae6eszQJxv76xq7jNAtYGOMbHwM0CBs8OEwvIzQFuKB4Kj9DNAYFFMk1j2M0BVrVO75fczQMZrGZ9O+TNAMRtpjpb6M0BkRaKLwPszQPEe0VLP/DNAF6gTYMX9M0BxLW71pP4zQFaxHSBw/zNAyyNpvSgANEA9xAJ/0AA0QIPR/u5oATRAT2Z3c/MBNECoqdZRcQI0QOQKz7HjAjRA6W8QoEsDNED/MMEQqgM0QH6ZwOH/AzRAGNul3E0ENEAmrJ24lAQ0QH5AEBzVBDRAbw9kng8FNEDQCvzIRAU0QNzDrhh1BTRANEgK/6AFNEAn6ynjyAU0QJYpxiLtBTRAmLX7Eg4GNEBqNyABLAY0QHvJkDNHBjRApnZC6l8GNED41kRfdgY0QGUBUMeKBjRA54RNUp0GNEAGvMYrrgY0QH+gWnu9BjRAXBH/ZMsGNECKJ2wJ2AY0QDq4VYbjBjRAdLaz9u0GNEA=\",\"dtype\":\"float64\",\"order\":\"little\",\"shape\":[100]}},\"selected\":{\"id\":\"2820\"},\"selection_policy\":{\"id\":\"2821\"}},\"id\":\"2804\",\"type\":\"ColumnDataSource\"},{\"attributes\":{},\"id\":\"2844\",\"type\":\"WheelZoomTool\"},{\"attributes\":{\"text\":\"with ATP Synthase\"},\"id\":\"2723\",\"type\":\"Title\"},{\"attributes\":{\"line_color\":\"#ff7e0e\",\"line_width\":2,\"x\":{\"field\":\"x\"},\"y\":{\"field\":\"y\"}},\"id\":\"3760\",\"type\":\"Line\"},{\"attributes\":{\"data_source\":{\"id\":\"3775\"},\"glyph\":{\"id\":\"3776\"},\"hover_glyph\":null,\"muted_glyph\":null,\"nonselection_glyph\":{\"id\":\"3777\"},\"selection_glyph\":null,\"view\":{\"id\":\"3779\"}},\"id\":\"3778\",\"type\":\"GlyphRenderer\"},{\"attributes\":{\"axis\":{\"id\":\"2737\"},\"dimension\":1,\"ticker\":null},\"id\":\"2740\",\"type\":\"Grid\"},{\"attributes\":{\"label\":{\"value\":\"bound atp synthase\"},\"renderers\":[{\"id\":\"2807\"}]},\"id\":\"2823\",\"type\":\"LegendItem\"},{\"attributes\":{\"line_alpha\":0.1,\"line_color\":\"#9367bc\",\"line_width\":2,\"x\":{\"field\":\"x\"},\"y\":{\"field\":\"y\"}},\"id\":\"2806\",\"type\":\"Line\"},{\"attributes\":{},\"id\":\"2863\",\"type\":\"BasicTickFormatter\"},{\"attributes\":{\"overlay\":{\"id\":\"2849\"}},\"id\":\"2845\",\"type\":\"BoxZoomTool\"},{\"attributes\":{\"line_color\":\"#2ba02b\",\"line_width\":2,\"x\":{\"field\":\"x\"},\"y\":{\"field\":\"y\"}},\"id\":\"3776\",\"type\":\"Line\"},{\"attributes\":{},\"id\":\"2742\",\"type\":\"WheelZoomTool\"},{\"attributes\":{\"source\":{\"id\":\"2857\"}},\"id\":\"2861\",\"type\":\"CDSView\"},{\"attributes\":{\"source\":{\"id\":\"3775\"}},\"id\":\"3779\",\"type\":\"CDSView\"},{\"attributes\":{\"data_source\":{\"id\":\"2755\"},\"glyph\":{\"id\":\"2756\"},\"hover_glyph\":null,\"muted_glyph\":null,\"nonselection_glyph\":{\"id\":\"2757\"},\"selection_glyph\":null,\"view\":{\"id\":\"2759\"}},\"id\":\"2758\",\"type\":\"GlyphRenderer\"},{\"attributes\":{\"items\":[{\"id\":\"2871\"}]},\"id\":\"2870\",\"type\":\"Legend\"},{\"attributes\":{},\"id\":\"2729\",\"type\":\"LinearScale\"},{\"attributes\":{\"data_source\":{\"id\":\"2786\"},\"glyph\":{\"id\":\"2787\"},\"hover_glyph\":null,\"muted_glyph\":null,\"nonselection_glyph\":{\"id\":\"2788\"},\"selection_glyph\":null,\"view\":{\"id\":\"2790\"}},\"id\":\"2789\",\"type\":\"GlyphRenderer\"},{\"attributes\":{\"line_alpha\":0.1,\"line_color\":\"#ff7e0e\",\"line_width\":2,\"x\":{\"field\":\"x\"},\"y\":{\"field\":\"y\"}},\"id\":\"3761\",\"type\":\"Line\"},{\"attributes\":{\"data\":{\"x\":{\"__ndarray__\":\"AAAAAAAAAAD0kcwotrK2P/SRzCi2ssY/d22ZnggG0T/0kcwotrLWP3K2/7JjX9w/d22ZnggG4T+2/7JjX9zjP/SRzCi2suY/MyTm7QyJ6T9ytv+yY1/sP7BIGXi6Ne8/d22ZnggG8T+WNiYBNHHyP7b/smNf3PM/1sg/xopH9T/0kcwotrL2PxNbWYvhHfg/MyTm7QyJ+T9T7XJQOPT6P3K2/7JjX/w/kH+MFY/K/T+wSBl4ujX/P+gIU+1yUABAd22ZnggGAUAG0t9PnrsBQJY2JgE0cQJAJptssskmA0C2/7JjX9wDQEVk+RT1kQRA1sg/xopHBUBlLYZ3IP0FQPSRzCi2sgZAhPYS2ktoB0ATW1mL4R0IQKS/nzx30whAMyTm7QyJCUDCiCyfoj4KQFPtclA49ApA4lG5Ac6pC0Bytv+yY18MQAEbRmT5FA1AkH+MFY/KDUAh5NLGJIAOQLBIGXi6NQ9AQK1fKVDrD0DoCFPtclAQQDA79sU9qxBAd22ZnggGEUC/nzx302ARQAbS30+euxFATwSDKGkWEkCWNiYBNHESQN9oydn+yxJAJptssskmE0BuzQ+LlIETQLb/smNf3BNA/jFWPCo3FEBFZPkU9ZEUQI2WnO2/7BRA1sg/xopHFUAe++KeVaIVQGUthncg/RVArV8pUOtXFkD0kcwotrIWQD3EbwGBDRdAhPYS2ktoF0DMKLayFsMXQBNbWYvhHRhAXI38Y6x4GECkv588d9MYQOzxQhVCLhlAMyTm7QyJGUB7VonG1+MZQMKILJ+iPhpAC7vPd22ZGkBT7XJQOPQaQJsfFikDTxtA4lG5Ac6pG0AqhFzamAQcQHK2/7JjXxxAuuiiiy66HEABG0Zk+RQdQElN6TzEbx1AkH+MFY/KHUDasS/uWSUeQCHk0sYkgB5AaRZ2n+/aHkCwSBl4ujUfQPl6vFCFkB9AQK1fKVDrH0DEbwGBDSMgQOgIU+1yUCBADKKkWdh9IEAwO/bFPasgQFTURzKj2CBAd22ZnggGIUCcBusKbjMhQL+fPHfTYCFA4ziO4ziOIUA=\",\"dtype\":\"float64\",\"order\":\"little\",\"shape\":[100]},\"y\":{\"__ndarray__\":\"AAAAAAAAAAABnuyzZWgXQJ+X1ydy3CBADR4UEP9EIkC/OaEAPNEiQPp/rL0mFiNAbHiUZEY+I0DOG4vFZ1gjQEyuSz+0aiNAz3mp7i14I0CGfLCCeYIjQFfEVEGQiiNAvG2aRg+RI0B8IXeFXpYjQPWvhYXFmiNAE9wgHneeI0DGZ3hxmKEjQOsSfEFFpCNAFBsTuZKmI0BfWaVFkagjQIB7FNhNqiNAQxvTxtKrI0AuuHlsKK0jQELvr5xVriNA6qIU+V+vI0Cva0UxTLAjQPHkZTMesSNAxepcUdmxI0DlobhdgLIjQMERZMIVsyNAr5OjkpuzI0A+s3WZE7QjQMduLGV/tCNAnAPYUOC0I0B2RQSMN7UjQCV1QCGGtSNAsWto+sy1I0BLkgfnDLYjQLZOFJ5GtiNA0LQGwnq2I0CNAkzjqbYjQIORiYLUtiNAWPOGEvu2I0DxHOP5HbcjQBBGaZQ9tyNABQd2NFq3I0CAhaIjdLcjQIgxwKSLtyNA/f8g86C3I0AD55REtLcjQM+BgMnFtyNAeSyFrdW3I0B0lgEY5LcjQAyFgCzxtyNARIEdC/23I0BJdN3QB7gjQAwK/5cRuCNAQXk/eBq4I0DjuhyHIrgjQPeCCtgpuCNA/AygfDC4I0AeceOENrgjQPrIPv87uCNAvXvR+EC4I0B2HX99RbgjQJ4JD5hJuCNA7exHUk24I0ClHQi1ULgjQNpxW8hTuCNAdAGPk1a4I0BeF0MdWbgjQK1Te2tbuCNA8zGtg124I0C0Ec1qX7gjQL9zWyVhuCNAcY1tt2K4I0ApRbkkZLgjQKLhnHBluCNAq6Annma4I0C6fyCwZ7gjQB+1DalouCNAS0Y7i2m4I0BTPrhYargjQCDxbRNruCNA7NIGvWu4I0Dkf1VXbLgjQJt0O+NsuCNAqyCaYm24I0CzPTjWbbgjQM3/UT9uuCNAk9DLnm64I0Cup4n1brgjQJ8+aERvuCNA7731i2+4I0C0uhzNb7gjQHFbQQhwuCNACEj1PXC4I0Acac1ucLgjQEhLKZtwuCNASQ2Tw3C4I0A=\",\"dtype\":\"float64\",\"order\":\"little\",\"shape\":[100]}},\"selected\":{\"id\":\"3789\"},\"selection_policy\":{\"id\":\"3790\"}},\"id\":\"3775\",\"type\":\"ColumnDataSource\"},{\"attributes\":{},\"id\":\"2734\",\"type\":\"BasicTicker\"},{\"attributes\":{},\"id\":\"3772\",\"type\":\"UnionRenderers\"},{\"attributes\":{},\"id\":\"2867\",\"type\":\"Selection\"},{\"attributes\":{},\"id\":\"2847\",\"type\":\"ResetTool\"},{\"attributes\":{},\"id\":\"3771\",\"type\":\"Selection\"},{\"attributes\":{\"data_source\":{\"id\":\"3759\"},\"glyph\":{\"id\":\"3760\"},\"hover_glyph\":null,\"muted_glyph\":null,\"nonselection_glyph\":{\"id\":\"3761\"},\"selection_glyph\":null,\"view\":{\"id\":\"3763\"}},\"id\":\"3762\",\"type\":\"GlyphRenderer\"},{\"attributes\":{},\"id\":\"2833\",\"type\":\"LinearScale\"},{\"attributes\":{\"source\":{\"id\":\"2804\"}},\"id\":\"2808\",\"type\":\"CDSView\"},{\"attributes\":{\"bottom_units\":\"screen\",\"fill_alpha\":0.5,\"fill_color\":\"lightgrey\",\"left_units\":\"screen\",\"level\":\"overlay\",\"line_alpha\":1.0,\"line_color\":\"black\",\"line_dash\":[4,4],\"line_width\":2,\"right_units\":\"screen\",\"top_units\":\"screen\"},\"id\":\"3736\",\"type\":\"BoxAnnotation\"},{\"attributes\":{},\"id\":\"2831\",\"type\":\"LinearScale\"},{\"attributes\":{\"data\":{\"x\":{\"__ndarray__\":\"AAAAAAAAAAD0kcwotrK2P/SRzCi2ssY/d22ZnggG0T/0kcwotrLWP3K2/7JjX9w/d22ZnggG4T+2/7JjX9zjP/SRzCi2suY/MyTm7QyJ6T9ytv+yY1/sP7BIGXi6Ne8/d22ZnggG8T+WNiYBNHHyP7b/smNf3PM/1sg/xopH9T/0kcwotrL2PxNbWYvhHfg/MyTm7QyJ+T9T7XJQOPT6P3K2/7JjX/w/kH+MFY/K/T+wSBl4ujX/P+gIU+1yUABAd22ZnggGAUAG0t9PnrsBQJY2JgE0cQJAJptssskmA0C2/7JjX9wDQEVk+RT1kQRA1sg/xopHBUBlLYZ3IP0FQPSRzCi2sgZAhPYS2ktoB0ATW1mL4R0IQKS/nzx30whAMyTm7QyJCUDCiCyfoj4KQFPtclA49ApA4lG5Ac6pC0Bytv+yY18MQAEbRmT5FA1AkH+MFY/KDUAh5NLGJIAOQLBIGXi6NQ9AQK1fKVDrD0DoCFPtclAQQDA79sU9qxBAd22ZnggGEUC/nzx302ARQAbS30+euxFATwSDKGkWEkCWNiYBNHESQN9oydn+yxJAJptssskmE0BuzQ+LlIETQLb/smNf3BNA/jFWPCo3FEBFZPkU9ZEUQI2WnO2/7BRA1sg/xopHFUAe++KeVaIVQGUthncg/RVArV8pUOtXFkD0kcwotrIWQD3EbwGBDRdAhPYS2ktoF0DMKLayFsMXQBNbWYvhHRhAXI38Y6x4GECkv588d9MYQOzxQhVCLhlAMyTm7QyJGUB7VonG1+MZQMKILJ+iPhpAC7vPd22ZGkBT7XJQOPQaQJsfFikDTxtA4lG5Ac6pG0AqhFzamAQcQHK2/7JjXxxAuuiiiy66HEABG0Zk+RQdQElN6TzEbx1AkH+MFY/KHUDasS/uWSUeQCHk0sYkgB5AaRZ2n+/aHkCwSBl4ujUfQPl6vFCFkB9AQK1fKVDrH0DEbwGBDSMgQOgIU+1yUCBADKKkWdh9IEAwO/bFPasgQFTURzKj2CBAd22ZnggGIUCcBusKbjMhQL+fPHfTYCFA4ziO4ziOIUA=\",\"dtype\":\"float64\",\"order\":\"little\",\"shape\":[100]},\"y\":{\"__ndarray__\":\"AAAAAAAAJEAFYhNMmpcQQCdDQ8FuHPk/NR++/g6w6z/xY+z1P+ziP6EAcEooO90/UPJwbTM32D8VhpxOB/PUP5U2ihZ4qdI/Z8bQKkL60D/m3uBTn2HPP/3qzqrvW80/kJFkWS68yz9KoTeiXmjKP1MClJ6eTsk/TvrIdzhiyD+DDeah45nHPxpE+6Cv7sY/Gjo5u1Fbxj8zp6mWrtvFP5we4fqJbMU/kC05S04LxT/28pHh5LXEPw8uBNSYasQ/A0TXugEoxD/AEqWu8+zDPzDChiZzuMM/rUzFqKuJwz/bhNeR6F/DP3eN+2aPOsM/FRIbVxsZwz8YLpOiGfvCP65L5LQm4MI/dhb/yevHwj8MoO7+HLLCP1u04q93nsI/QBHlZcGMwj8Qaxs+xnzCP09Q7HpYbsI/uslSfk9hwj8rWv8sh1XCPw+dm13fSsI/zCdDXjtBwj+WwTiHgTjCP7Z5ruWaMMI/hDx+4nIpwj+DnV4X9yLCPxSc888WHcI/lf6/N8MXwj/6PMba7hLCP7+J35+NDsI/Pt+0npQKwj/2YJr/+QbCP6m63t+0A8I/j6yfOL0Awj+W66LIC/7BP8J6PQCa+8E/na0h8GH5wT8TRdE4XvfBP/k/X/2J9cE/qL781+DzwT/6tSPHXvLBP+C+TTAA8cE/Dw6hy8HvwT+7nzigoO7BPwiWPfyZ7cE/EsIEbqvswT8YlPi90uvBP+SGI+kN68E/daA/HFvqwT/pJTqvuOnBPz4SKyEl6cE/hYCzFJ/owT9PkLtMJejBP3cNI6m258E/8KCcJFLnwT/7sq7R9ubBP9qUx9ij5sE/U9IXdljmwT+ODuD3E+bBPzi1krzV5cE/RmouMZ3lwT+UaPDRaeXBP1O1gyQ75cE/YkJLvhDlwT9hBKAq6uTBP2bWIjHH5ME/JdJ3WafkwT9+kPBxiuTBP9kJgCtw5ME/UNgLTVjkwT+dEZadQuTBP0NV8OUu5ME/O4GQAh3kwT/AT9G4DOTBP5Egqe/948E/uvqtgvDjwT8GtqVM5OPBPwArrTXZ48E/lqo8G8/jwT8=\",\"dtype\":\"float64\",\"order\":\"little\",\"shape\":[100]}},\"selected\":{\"id\":\"3771\"},\"selection_policy\":{\"id\":\"3772\"}},\"id\":\"3759\",\"type\":\"ColumnDataSource\"},{\"attributes\":{},\"id\":\"2801\",\"type\":\"UnionRenderers\"},{\"attributes\":{\"line_color\":\"#1f77b3\",\"line_width\":2,\"x\":{\"field\":\"x\"},\"y\":{\"field\":\"y\"}},\"id\":\"2756\",\"type\":\"Line\"},{\"attributes\":{\"label\":{\"value\":\"atp\"},\"renderers\":[{\"id\":\"2860\"}]},\"id\":\"2871\",\"type\":\"LegendItem\"},{\"attributes\":{},\"id\":\"2820\",\"type\":\"Selection\"},{\"attributes\":{\"axis_label\":\"time (hrs)\",\"formatter\":{\"id\":\"2763\"},\"ticker\":{\"id\":\"2734\"}},\"id\":\"2733\",\"type\":\"LinearAxis\"},{\"attributes\":{\"below\":[{\"id\":\"2835\"}],\"center\":[{\"id\":\"2838\"},{\"id\":\"2842\"},{\"id\":\"2870\"}],\"left\":[{\"id\":\"2839\"}],\"plot_height\":350,\"plot_width\":450,\"renderers\":[{\"id\":\"2860\"}],\"title\":{\"id\":\"2825\"},\"toolbar\":{\"id\":\"2850\"},\"x_range\":{\"id\":\"2827\"},\"x_scale\":{\"id\":\"2831\"},\"y_range\":{\"id\":\"2829\"},\"y_scale\":{\"id\":\"2833\"}},\"id\":\"2824\",\"subtype\":\"Figure\",\"type\":\"Plot\"},{\"attributes\":{\"label\":{\"value\":\"inside_H\"},\"renderers\":[{\"id\":\"3778\"}]},\"id\":\"3792\",\"type\":\"LegendItem\"},{\"attributes\":{\"data_source\":{\"id\":\"2804\"},\"glyph\":{\"id\":\"2805\"},\"hover_glyph\":null,\"muted_glyph\":null,\"nonselection_glyph\":{\"id\":\"2806\"},\"selection_glyph\":null,\"view\":{\"id\":\"2808\"}},\"id\":\"2807\",\"type\":\"GlyphRenderer\"},{\"attributes\":{\"text\":\"only ATP Use\"},\"id\":\"2825\",\"type\":\"Title\"},{\"attributes\":{\"active_drag\":\"auto\",\"active_inspect\":\"auto\",\"active_multi\":null,\"active_scroll\":\"auto\",\"active_tap\":\"auto\",\"tools\":[{\"id\":\"2741\"},{\"id\":\"2742\"},{\"id\":\"2743\"},{\"id\":\"2744\"},{\"id\":\"2745\"},{\"id\":\"2746\"}]},\"id\":\"2748\",\"type\":\"Toolbar\"},{\"attributes\":{},\"id\":\"3790\",\"type\":\"UnionRenderers\"},{\"attributes\":{\"data\":{\"x\":{\"__ndarray__\":\"AAAAAAAAAAD0kcwotrK2P/SRzCi2ssY/d22ZnggG0T/0kcwotrLWP3K2/7JjX9w/d22ZnggG4T+2/7JjX9zjP/SRzCi2suY/MyTm7QyJ6T9ytv+yY1/sP7BIGXi6Ne8/d22ZnggG8T+WNiYBNHHyP7b/smNf3PM/1sg/xopH9T/0kcwotrL2PxNbWYvhHfg/MyTm7QyJ+T9T7XJQOPT6P3K2/7JjX/w/kH+MFY/K/T+wSBl4ujX/P+gIU+1yUABAd22ZnggGAUAG0t9PnrsBQJY2JgE0cQJAJptssskmA0C2/7JjX9wDQEVk+RT1kQRA1sg/xopHBUBlLYZ3IP0FQPSRzCi2sgZAhPYS2ktoB0ATW1mL4R0IQKS/nzx30whAMyTm7QyJCUDCiCyfoj4KQFPtclA49ApA4lG5Ac6pC0Bytv+yY18MQAEbRmT5FA1AkH+MFY/KDUAh5NLGJIAOQLBIGXi6NQ9AQK1fKVDrD0DoCFPtclAQQDA79sU9qxBAd22ZnggGEUC/nzx302ARQAbS30+euxFATwSDKGkWEkCWNiYBNHESQN9oydn+yxJAJptssskmE0BuzQ+LlIETQLb/smNf3BNA/jFWPCo3FEBFZPkU9ZEUQI2WnO2/7BRA1sg/xopHFUAe++KeVaIVQGUthncg/RVArV8pUOtXFkD0kcwotrIWQD3EbwGBDRdAhPYS2ktoF0DMKLayFsMXQBNbWYvhHRhAXI38Y6x4GECkv588d9MYQOzxQhVCLhlAMyTm7QyJGUB7VonG1+MZQMKILJ+iPhpAC7vPd22ZGkBT7XJQOPQaQJsfFikDTxtA4lG5Ac6pG0AqhFzamAQcQHK2/7JjXxxAuuiiiy66HEABG0Zk+RQdQElN6TzEbx1AkH+MFY/KHUDasS/uWSUeQCHk0sYkgB5AaRZ2n+/aHkCwSBl4ujUfQPl6vFCFkB9AQK1fKVDrH0DEbwGBDSMgQOgIU+1yUCBADKKkWdh9IEAwO/bFPasgQFTURzKj2CBAd22ZnggGIUCcBusKbjMhQL+fPHfTYCFA4ziO4ziOIUA=\",\"dtype\":\"float64\",\"order\":\"little\",\"shape\":[100]},\"y\":{\"__ndarray__\":\"AAAAAAAAAACvlq8yipIGQFyC6+OdfCVA3fg8fWwdNUD6aJm9UNI/QDIRrRn+5ERA/mEl8uBtSUBb0Ch0xoxNQBelUeyrpVBAO1pUezBZUkAb60sE8ORTQHcmNzeMTFVAB4n03lGTVkCE/cihQLxXQGTCzwwSylhA1KKi+j+/WUDoV0dkCp5aQJsod6p8aFtAfgnkYnIgXED9NqW1m8dcQIpCXFSBX11ApRy6FIjpXUDhldM29GZeQGBrxF7s2F5ASkvASHxAX0AJkog+l55fQMJbwVEa9F9AqL6uMucgYECWvpcBNURgQJQVQ4VJZGBAASBsGnCBYEDCfBg87ZtgQOdscyT/s2BA2ErsXt7JYECpeTRNvt1gQMEx2Z/N72BAQPzvwzYAYUAwKbVGIA9hQAhKPjCtHGFA3QCpVf0oYUACxa6jLTRhQJTuf2NYPmFAVJVCd5VHYUDifwqT+k9hQP5reW+bV2FAp203+IleYUARRPd11mRhQEZ60rSPamFA9qDlJsNvYUBjUAUEfXRhQCEeZWbIeGFAStCLZK98YUC56XwpO4BhQLC/pAl0g2FA2EbWlmGGYUDdO+OxColhQKgJ2pp1i2FAhPGn/6eNYUDsR3kJp49hQKDe1mh3kWFAOT+nYB2TYUDBLDLQnJRhQAyQOjz5lWFA3phD1zWXYUB8vhCJVZhhQIioe/VamWFA0ISmgkiaYUCXgJ5eIJthQA+ee4Tkm2FAuSoHwZacYUDo+Pi2OJ1hQEogyuLLnWFAZq02nlGeYUBWuGcjy55hQNr41o85n2FAfR/s5p2fYUCbgV4U+Z9hQCK3X+5LoGFAyiGSN5egYUB0wtKg26BhQOJ118oZoWFAjP6oR1KhYUA+iPqbhaFhQPoIYUC0oWFA8Khuot6hYUDtnbQlBaJhQGw+rCQoomFA09GL8UeiYUDQsQfXZKJhQOQIAhl/omFAuhYq9ZaiYUDyX4yjrKJhQAcBGFfAomFALqIVPtKiYUDszJOC4qJhQDuNyUrxomFAKopwuf6iYUD7whbuCqNhQO2uaAUWo2FAD290GSCjYUA=\",\"dtype\":\"float64\",\"order\":\"little\",\"shape\":[100]}},\"selected\":{\"id\":\"3809\"},\"selection_policy\":{\"id\":\"3810\"}},\"id\":\"3793\",\"type\":\"ColumnDataSource\"},{\"attributes\":{},\"id\":\"3752\",\"type\":\"BasicTickFormatter\"},{\"attributes\":{\"line_color\":\"#9367bc\",\"line_width\":2,\"x\":{\"field\":\"x\"},\"y\":{\"field\":\"y\"}},\"id\":\"3794\",\"type\":\"Line\"},{\"attributes\":{\"data_source\":{\"id\":\"3793\"},\"glyph\":{\"id\":\"3794\"},\"hover_glyph\":null,\"muted_glyph\":null,\"nonselection_glyph\":{\"id\":\"3795\"},\"selection_glyph\":null,\"view\":{\"id\":\"3797\"}},\"id\":\"3796\",\"type\":\"GlyphRenderer\"},{\"attributes\":{\"line_alpha\":0.1,\"line_color\":\"#1f77b3\",\"line_width\":2,\"x\":{\"field\":\"x\"},\"y\":{\"field\":\"y\"}},\"id\":\"3746\",\"type\":\"Line\"},{\"attributes\":{},\"id\":\"3750\",\"type\":\"BasicTickFormatter\"},{\"attributes\":{\"source\":{\"id\":\"3793\"}},\"id\":\"3797\",\"type\":\"CDSView\"},{\"attributes\":{\"click_policy\":\"hide\",\"items\":[{\"id\":\"3758\"},{\"id\":\"3774\"},{\"id\":\"3792\"},{\"id\":\"3812\"},{\"id\":\"3834\"}],\"location\":\"center_right\"},\"id\":\"3757\",\"type\":\"Legend\"},{\"attributes\":{\"line_color\":\"#9367bc\",\"line_width\":2,\"x\":{\"field\":\"x\"},\"y\":{\"field\":\"y\"}},\"id\":\"2805\",\"type\":\"Line\"},{\"attributes\":{\"line_alpha\":0.1,\"line_color\":\"#9367bc\",\"line_width\":2,\"x\":{\"field\":\"x\"},\"y\":{\"field\":\"y\"}},\"id\":\"3795\",\"type\":\"Line\"},{\"attributes\":{\"source\":{\"id\":\"3744\"}},\"id\":\"3748\",\"type\":\"CDSView\"},{\"attributes\":{},\"id\":\"3809\",\"type\":\"Selection\"},{\"attributes\":{\"label\":{\"value\":\"bound atp synthase\"},\"renderers\":[{\"id\":\"3796\"}]},\"id\":\"3812\",\"type\":\"LegendItem\"},{\"attributes\":{\"label\":{\"value\":\"atp\"},\"renderers\":[{\"id\":\"3747\"}]},\"id\":\"3758\",\"type\":\"LegendItem\"},{\"attributes\":{},\"id\":\"3810\",\"type\":\"UnionRenderers\"},{\"attributes\":{\"data\":{\"x\":{\"__ndarray__\":\"AAAAAAAAAAD0kcwotrK2P/SRzCi2ssY/d22ZnggG0T/0kcwotrLWP3K2/7JjX9w/d22ZnggG4T+2/7JjX9zjP/SRzCi2suY/MyTm7QyJ6T9ytv+yY1/sP7BIGXi6Ne8/d22ZnggG8T+WNiYBNHHyP7b/smNf3PM/1sg/xopH9T/0kcwotrL2PxNbWYvhHfg/MyTm7QyJ+T9T7XJQOPT6P3K2/7JjX/w/kH+MFY/K/T+wSBl4ujX/P+gIU+1yUABAd22ZnggGAUAG0t9PnrsBQJY2JgE0cQJAJptssskmA0C2/7JjX9wDQEVk+RT1kQRA1sg/xopHBUBlLYZ3IP0FQPSRzCi2sgZAhPYS2ktoB0ATW1mL4R0IQKS/nzx30whAMyTm7QyJCUDCiCyfoj4KQFPtclA49ApA4lG5Ac6pC0Bytv+yY18MQAEbRmT5FA1AkH+MFY/KDUAh5NLGJIAOQLBIGXi6NQ9AQK1fKVDrD0DoCFPtclAQQDA79sU9qxBAd22ZnggGEUC/nzx302ARQAbS30+euxFATwSDKGkWEkCWNiYBNHESQN9oydn+yxJAJptssskmE0BuzQ+LlIETQLb/smNf3BNA/jFWPCo3FEBFZPkU9ZEUQI2WnO2/7BRA1sg/xopHFUAe++KeVaIVQGUthncg/RVArV8pUOtXFkD0kcwotrIWQD3EbwGBDRdAhPYS2ktoF0DMKLayFsMXQBNbWYvhHRhAXI38Y6x4GECkv588d9MYQOzxQhVCLhlAMyTm7QyJGUB7VonG1+MZQMKILJ+iPhpAC7vPd22ZGkBT7XJQOPQaQJsfFikDTxtA4lG5Ac6pG0AqhFzamAQcQHK2/7JjXxxAuuiiiy66HEABG0Zk+RQdQElN6TzEbx1AkH+MFY/KHUDasS/uWSUeQCHk0sYkgB5AaRZ2n+/aHkCwSBl4ujUfQPl6vFCFkB9AQK1fKVDrH0DEbwGBDSMgQOgIU+1yUCBADKKkWdh9IEAwO/bFPasgQFTURzKj2CBAd22ZnggGIUCcBusKbjMhQL+fPHfTYCFA4ziO4ziOIUA=\",\"dtype\":\"float64\",\"order\":\"little\",\"shape\":[100]},\"y\":{\"__ndarray__\":\"AAAAAAAAAACFrc7vxREFQCIbj+SyvSNAa8AA50tPM0D+geZLPQs9QBuP23BcDUNAkPu9SZosR0AJoar9f+tKQHiC87vVUk5Aj3lrN021UEB7vvoMCR1SQNdQ03PrY1NAoNDKVfSMVEBVM0593ZpVQEIxs/wgkFZATeLA//5uV0BRwB0VgzlYQCAScPyI8VhAEuHEA8GYWUCoEUz/szBaQFi6G+TGulpAVlfBDj44W0A30Es9QKpbQJi/nkPZEVxA7HiIgPxvXEDGUO8Zh8VcQMO2PwNCE11AZ61k1+NZXUAuVJ2DEppdQNWV6c5k1F1AYvhWu2MJXkDfPSzIizleQEA1WRZOZV5AR2wbchGNXkCJdcVEM7FeQPpC/28I0l5AY/8oFd7vXkDJWnZK+gpfQPuS0b+cI19AWtxDVP85X0CZFYqdVk5fQD2gQmXSYF9AlmboFp5xX0CnWWQn4YBfQC0lF3G/jl9AArVUiFmbX0D2JMcHzaZfQDKtK9Y0sV9Al3Y+Zam6X0B3RF/rQMNfQKtcqJcPy19AnKMdwSfSX0Cw5JkSmthfQGkl2LB13l9AwMXLXsjjX0CRB52dnuhfQOMWMMoD7V9Am4a/NwLxX0DljS1Io/RfQMxhCoLv919AEemVpO76X0DtK/S5p/1fQGeO3JMQAGBA1ML4XjABYEBuymLiNQJgQAsYc4QjA2BAS3Noc/sDYEC1LIeqvwRgQJKRwfZxBWBAOAzy+hMGYEAzm7UzpwZgQOp/5fosB2BA3jzHiqYHYEDN8+wAFQhgQO6r1WB5CGBAWMFNltQIYECQFZl3JwlgQHo0a8dyCWBAMyCwNrcJYEBgfCxm9QlgQG4Y9uctCmBATpLLQGEKYEBBl0zpjwpgQJXuFE+6CmBAIxe+1eAKYEB3q8nXAwtgQPU+dacjC2BAPdB7j0ALYEAnV8XTWgtgQAeFBrJyC2BAmopRYogLYECsKJkXnAtgQAjhKQCuC2BADBcWRr4LYEByiZgPzQtgQKn5bX/aC2BAhhEnteYLYEAasHLN8QtgQKNKYeL7C2BA7gCiCwUMYEA=\",\"dtype\":\"float64\",\"order\":\"little\",\"shape\":[100]}},\"selected\":{\"id\":\"3831\"},\"selection_policy\":{\"id\":\"3832\"}},\"id\":\"3813\",\"type\":\"ColumnDataSource\"},{\"attributes\":{\"line_color\":\"#8c564b\",\"line_width\":2,\"x\":{\"field\":\"x\"},\"y\":{\"field\":\"y\"}},\"id\":\"3814\",\"type\":\"Line\"},{\"attributes\":{\"data_source\":{\"id\":\"3813\"},\"glyph\":{\"id\":\"3814\"},\"hover_glyph\":null,\"muted_glyph\":null,\"nonselection_glyph\":{\"id\":\"3815\"},\"selection_glyph\":null,\"view\":{\"id\":\"3817\"}},\"id\":\"3816\",\"type\":\"GlyphRenderer\"},{\"attributes\":{\"source\":{\"id\":\"2755\"}},\"id\":\"2759\",\"type\":\"CDSView\"},{\"attributes\":{},\"id\":\"3832\",\"type\":\"UnionRenderers\"},{\"attributes\":{\"source\":{\"id\":\"3813\"}},\"id\":\"3817\",\"type\":\"CDSView\"},{\"attributes\":{},\"id\":\"2800\",\"type\":\"Selection\"},{\"attributes\":{\"line_alpha\":0.1,\"line_color\":\"#8c564b\",\"line_width\":2,\"x\":{\"field\":\"x\"},\"y\":{\"field\":\"y\"}},\"id\":\"3815\",\"type\":\"Line\"},{\"attributes\":{\"data_source\":{\"id\":\"3744\"},\"glyph\":{\"id\":\"3745\"},\"hover_glyph\":null,\"muted_glyph\":null,\"nonselection_glyph\":{\"id\":\"3746\"},\"selection_glyph\":null,\"view\":{\"id\":\"3748\"}},\"id\":\"3747\",\"type\":\"GlyphRenderer\"},{\"attributes\":{\"label\":{\"value\":\"bound proton pump\"},\"renderers\":[{\"id\":\"3816\"}]},\"id\":\"3834\",\"type\":\"LegendItem\"},{\"attributes\":{},\"id\":\"3754\",\"type\":\"Selection\"},{\"attributes\":{},\"id\":\"3831\",\"type\":\"Selection\"},{\"attributes\":{\"below\":[{\"id\":\"3722\"}],\"center\":[{\"id\":\"3725\"},{\"id\":\"3729\"},{\"id\":\"3757\"}],\"left\":[{\"id\":\"3726\"}],\"plot_height\":350,\"plot_width\":450,\"renderers\":[{\"id\":\"3747\"},{\"id\":\"3762\"},{\"id\":\"3778\"},{\"id\":\"3796\"},{\"id\":\"3816\"}],\"title\":{\"id\":\"3712\"},\"toolbar\":{\"id\":\"3737\"},\"x_range\":{\"id\":\"3714\"},\"x_scale\":{\"id\":\"3718\"},\"y_range\":{\"id\":\"3716\"},\"y_scale\":{\"id\":\"3720\"}},\"id\":\"3711\",\"subtype\":\"Figure\",\"type\":\"Plot\"},{\"attributes\":{},\"id\":\"2763\",\"type\":\"BasicTickFormatter\"},{\"attributes\":{},\"id\":\"3755\",\"type\":\"UnionRenderers\"},{\"attributes\":{\"label\":{\"value\":\"atp\"},\"renderers\":[{\"id\":\"2758\"}]},\"id\":\"2769\",\"type\":\"LegendItem\"},{\"attributes\":{},\"id\":\"2865\",\"type\":\"BasicTickFormatter\"},{\"attributes\":{\"line_color\":\"#1f77b3\",\"line_width\":2,\"x\":{\"field\":\"x\"},\"y\":{\"field\":\"y\"}},\"id\":\"3745\",\"type\":\"Line\"},{\"attributes\":{\"data\":{\"x\":{\"__ndarray__\":\"AAAAAAAAAAD0kcwotrK2P/SRzCi2ssY/d22ZnggG0T/0kcwotrLWP3K2/7JjX9w/d22ZnggG4T+2/7JjX9zjP/SRzCi2suY/MyTm7QyJ6T9ytv+yY1/sP7BIGXi6Ne8/d22ZnggG8T+WNiYBNHHyP7b/smNf3PM/1sg/xopH9T/0kcwotrL2PxNbWYvhHfg/MyTm7QyJ+T9T7XJQOPT6P3K2/7JjX/w/kH+MFY/K/T+wSBl4ujX/P+gIU+1yUABAd22ZnggGAUAG0t9PnrsBQJY2JgE0cQJAJptssskmA0C2/7JjX9wDQEVk+RT1kQRA1sg/xopHBUBlLYZ3IP0FQPSRzCi2sgZAhPYS2ktoB0ATW1mL4R0IQKS/nzx30whAMyTm7QyJCUDCiCyfoj4KQFPtclA49ApA4lG5Ac6pC0Bytv+yY18MQAEbRmT5FA1AkH+MFY/KDUAh5NLGJIAOQLBIGXi6NQ9AQK1fKVDrD0DoCFPtclAQQDA79sU9qxBAd22ZnggGEUC/nzx302ARQAbS30+euxFATwSDKGkWEkCWNiYBNHESQN9oydn+yxJAJptssskmE0BuzQ+LlIETQLb/smNf3BNA/jFWPCo3FEBFZPkU9ZEUQI2WnO2/7BRA1sg/xopHFUAe++KeVaIVQGUthncg/RVArV8pUOtXFkD0kcwotrIWQD3EbwGBDRdAhPYS2ktoF0DMKLayFsMXQBNbWYvhHRhAXI38Y6x4GECkv588d9MYQOzxQhVCLhlAMyTm7QyJGUB7VonG1+MZQMKILJ+iPhpAC7vPd22ZGkBT7XJQOPQaQJsfFikDTxtA4lG5Ac6pG0AqhFzamAQcQHK2/7JjXxxAuuiiiy66HEABG0Zk+RQdQElN6TzEbx1AkH+MFY/KHUDasS/uWSUeQCHk0sYkgB5AaRZ2n+/aHkCwSBl4ujUfQPl6vFCFkB9AQK1fKVDrH0DEbwGBDSMgQOgIU+1yUCBADKKkWdh9IEAwO/bFPasgQFTURzKj2CBAd22ZnggGIUCcBusKbjMhQL+fPHfTYCFA4ziO4ziOIUA=\",\"dtype\":\"float64\",\"order\":\"little\",\"shape\":[100]},\"y\":{\"__ndarray__\":\"AAAAAAAAJED0//////8fQPb//////x9A8f//////H0Dt//////8fQOz//////x9A6///////H0Ds//////8fQOv//////x9A6f//////H0Dr//////8fQOv//////x9A6f//////H0Do//////8fQOn//////x9AAQAAAAAAIEAbAAAAAAAgQOn//////x9A6f//////H0Dq//////8fQOr//////x9A6v//////H0Dr//////8fQOv//////x9A6///////H0Ds//////8fQOv//////x9A4P//////H0Dj//////8fQHkCAAAAACBAhywAAAAAIEBgRwAAAAAgQJJlAQAAACBA5BwDAAAAIEDHaAgAAAAgQJZ8y////x9AxMj9////H0CnxAAAAAAgQLn//////x9A7f//////H0Ds//////8fQOz//////x9A7P//////H0Ds//////8fQOz//////x9A7P//////H0Ds//////8fQOz//////x9A7P//////H0Ds//////8fQOv//////x9A6///////H0Dr//////8fQOv//////x9A6///////H0Dq//////8fQOv//////x9A6v//////H0Dm//////8fQPj//////x9A5P//////H0CA//////8fQCAAAAAAACBAwP//////H0CR//////8fQJ3//////x9AXgAAAAAAIED7/f////8fQEkCAAAAACBAAPf/////H0ALBAAAAAAgQIYwAAAAACBAwyf/////H0C8IwIAAAAgQOqc7f///x9APR0mAAAAIEBt5RIAAAAgQED1IgAAACBAK3VXAAAAIEAFEAAAAAAgQOr//////x9A6v//////H0Dq//////8fQOv//////x9A6///////H0Dr//////8fQOz//////x9A7P//////H0Ds//////8fQOz//////x9A7P//////H0Ds//////8fQOz//////x9A7P//////H0Ds//////8fQOz//////x9A7P//////H0Ds//////8fQOz//////x9A7P//////H0A=\",\"dtype\":\"float64\",\"order\":\"little\",\"shape\":[100]}},\"selected\":{\"id\":\"2765\"},\"selection_policy\":{\"id\":\"2766\"}},\"id\":\"2755\",\"type\":\"ColumnDataSource\"},{\"attributes\":{\"line_alpha\":0.1,\"line_color\":\"#1f77b3\",\"line_width\":2,\"x\":{\"field\":\"x\"},\"y\":{\"field\":\"y\"}},\"id\":\"2757\",\"type\":\"Line\"}],\"root_ids\":[\"4658\"]},\"title\":\"Bokeh Application\",\"version\":\"2.2.1\"}};\n",
       "  var render_items = [{\"docid\":\"e7abb462-167c-4503-9098-428b76914804\",\"root_ids\":[\"4658\"],\"roots\":{\"4658\":\"202fe5ac-14cc-4a0e-87c9-fa0bf4d0ed2e\"}}];\n",
       "  root.Bokeh.embed.embed_items_notebook(docs_json, render_items);\n",
       "\n",
       "  }\n",
       "  if (root.Bokeh !== undefined) {\n",
       "    embed_document(root);\n",
       "  } else {\n",
       "    var attempts = 0;\n",
       "    var timer = setInterval(function(root) {\n",
       "      if (root.Bokeh !== undefined) {\n",
       "        clearInterval(timer);\n",
       "        embed_document(root);\n",
       "      } else {\n",
       "        attempts++;\n",
       "        if (attempts > 100) {\n",
       "          clearInterval(timer);\n",
       "          console.log(\"Bokeh: ERROR: Unable to run BokehJS code because BokehJS library is missing\");\n",
       "        }\n",
       "      }\n",
       "    }, 10, root)\n",
       "  }\n",
       "})(window);"
      ],
      "application/vnd.bokehjs_exec.v0+json": ""
     },
     "metadata": {
      "application/vnd.bokehjs_exec.v0+json": {
       "id": "4658"
      }
     },
     "output_type": "display_data"
    }
   ],
   "source": [
    "bokeh.io.show(row(p3,p_w_atp, p_no_atp))"
   ]
  },
  {
   "cell_type": "markdown",
   "metadata": {},
   "source": [
    "Cool. What's going on with the second plot. How come it looks like atp isn't being consumed?? Fix those params?? Next do temperature sensitivity."
   ]
  },
  {
   "cell_type": "code",
   "execution_count": 37,
   "metadata": {},
   "outputs": [
    {
     "data": {
      "text/html": [
       "\n",
       "\n",
       "\n",
       "\n",
       "\n",
       "\n",
       "  <div class=\"bk-root\" id=\"b737d33c-c4ed-4fa7-81f5-f8b44efc572f\" data-root-id=\"5065\"></div>\n"
      ]
     },
     "metadata": {},
     "output_type": "display_data"
    },
    {
     "data": {
      "application/javascript": [
       "(function(root) {\n",
       "  function embed_document(root) {\n",
       "    \n",
       "  var docs_json = {\"2a01ed16-4ba0-40a3-aef5-e8dac2a388c8\":{\"roots\":{\"references\":[{\"attributes\":{\"below\":[{\"id\":\"5076\"}],\"center\":[{\"id\":\"5079\"},{\"id\":\"5083\"},{\"id\":\"5111\"}],\"left\":[{\"id\":\"5080\"}],\"plot_height\":350,\"plot_width\":450,\"renderers\":[{\"id\":\"5101\"},{\"id\":\"5116\"},{\"id\":\"5132\"}],\"title\":{\"id\":\"5066\"},\"toolbar\":{\"id\":\"5091\"},\"x_range\":{\"id\":\"5068\"},\"x_scale\":{\"id\":\"5072\"},\"y_range\":{\"id\":\"5070\"},\"y_scale\":{\"id\":\"5074\"}},\"id\":\"5065\",\"subtype\":\"Figure\",\"type\":\"Plot\"},{\"attributes\":{},\"id\":\"5068\",\"type\":\"DataRange1d\"},{\"attributes\":{\"data\":{\"x\":{\"__ndarray__\":\"AAAAAAAAAABIzNsZEvNzQEjM2xkS84NAbLLJJpvsjUBIzNsZEvOTQFq/UqDW75hAbLLJJpvsnUC/UqDWr3ShQEjM2xkS86NA0UUXXXRxpkBav1Kg1u+oQOM4juM4bqtAbLLJJpvsrUD6lQK1fjWwQL9SoNavdLFAhA8++OCzskBIzNsZEvOzQAyJeTtDMrVA0UUXXXRxtkCWArV+pbC3QFq/UqDW77hAHnzwwQcvukDjOI7jOG67QKj1KwVqrbxAbLLJJpvsvUAwb2dIzCu/QPqVArV+NcBAXXTRRRfVwEC/UqDWr3TBQCExb2dIFMJAhA8++OCzwkDm7QyJeVPDQEjM2xkS88NAqqqqqqqSxEAMiXk7QzLFQG9nSMzb0cVA0UUXXXRxxkAzJObtDBHHQJYCtX6lsMdA+OCDDz5QyEBav1Kg1u/IQLydITFvj8lAHnzwwQcvykCBWr9SoM7KQOM4juM4bstARRdddNENzECo9SsFaq3MQArU+pUCTc1AbLLJJpvszUDOkJi3M4zOQDBvZ0jMK89Ak0022WTLz0D6lQK1fjXQQCwFav1KhdBAXXTRRRfV0ECO4ziO4yTRQL9SoNavdNFA8MEHH3zE0UAhMW9nSBTSQFKg1q8UZNJAhA8++OCz0kC1fqVArQPTQObtDIl5U9NAF1100UWj00BIzNsZEvPTQHk7Q2LeQtRAqqqqqqqS1EDbGRLzduLUQAyJeTtDMtVAPvjggw+C1UBvZ0jM29HVQKDWrxSoIdZA0UUXXXRx1kACtX6lQMHWQDMk5u0MEddAZJNNNtlg10CWArV+pbDXQMdxHMdxANhA+OCDDz5Q2EApUOtXCqDYQFq/UqDW79hAiy666KI/2UC8nSExb4/ZQO0MiXk739lAHnzwwQcv2kBQ61cK1H7aQIFav1KgztpAsskmm2we20DjOI7jOG7bQBSo9SsFvttARRdddNEN3EB2hsS8nV3cQKj1KwVqrdxA2WSTTTb93EAK1PqVAk3dQDtDYt7OnN1AbLLJJpvs3UCdITFvZzzeQM6QmLczjN5AAAAAAADc3kA=\",\"dtype\":\"float64\",\"order\":\"little\",\"shape\":[100]},\"y\":{\"__ndarray__\":\"AAAAAAAAJEAVXf4fOi2FuoWDYJE423C6TzNPSP8Mt7lfKWkHEQClubNhgGMZRNa4qwlEqyA81biisQfzJzTUuJpZyzovLNO4kQGPgjYk0riIqVLKPRzRuH9RFhJFFNC47vKzs5gYzrjfQjtDpwjMuMySwtK1+Mm4u+JJYsTox7iqMtHx0tjFuJqCWIHhyMO4iNLfEPC4wbjsRM5A/VG/uMvk3F8aMru4qoTrfjcSt7iHJPqdVPKyuMWIEXrjpK24g8guuB1lpbiFEJjsr0qauAUgpdFIloO4EUt5opQB37dGWVa4y43dt3tnM84CGty3rXUQ5Dmm2rfig+35cDLZtxaSyg+ovte3S6CnJd9K1reAroQ7FtfUt7K8YVFNY9O358o+Z4Tv0bcc2Rt9u3vQt5zO8SXlD863BeurUVMoy7dvB2Z9wUDIt9gjIKkvWcW3QUDa1J1xwrdMuSgBGBS/tx7ynFj0RLm38CoRsNB1s7d0xwoPWk2rtzNy5nslXp+3+6pusy1DgLfvjIlUedLNtsmTph1Hr822pJrD5hSMzbaAoeCv4mjNtlmo/XiwRc22M68aQn4izbYNtjcLTP/Mtui8VNQZ3My2w8Nxnee4zLaeyo5mtZXMtnjRqy+Dcsy2UtjI+FBPzLYt3+XBHizMtgfmAovsCMy24ewfVLrly7a88zwdiMLLtpf6WeZVn8u2cQF3ryN8y7ZLCJR48VjLticPsUG/Ncu2ABbOCo0Sy7bbHOvTWu/KtrYjCJ0ozMq2kColZvaoyrZrMUIvxIXKtkU4X/iRYsq2Hz98wV8/yrb6RZmKLRzKttRMtlP7+Mm2rlPTHMnVybaKWvDllrLJtmRhDa9kj8m2PmgqeDJsybYZb0dBAEnJtvR1ZArOJcm2znyB05sCybaog56cad/ItoOKu2U3vMi2XZHYLgWZyLY3mPX30nXIthOfEsGgUsi27aUvim4vyLbHrExTPAzItqKzaRwK6ce2fLqG5dfFx7ZWwaOupaLHtjHIwHdzf8e2C8/dQEFcx7bm1foJDznHtsHcF9PcFce2muM0nKryxrY=\",\"dtype\":\"float64\",\"order\":\"little\",\"shape\":[100]}},\"selected\":{\"id\":\"5143\"},\"selection_policy\":{\"id\":\"5144\"}},\"id\":\"5129\",\"type\":\"ColumnDataSource\"},{\"attributes\":{\"line_alpha\":0.1,\"line_color\":\"#2ba02b\",\"line_width\":2,\"x\":{\"field\":\"x\"},\"y\":{\"field\":\"y\"}},\"id\":\"5131\",\"type\":\"Line\"},{\"attributes\":{},\"id\":\"5081\",\"type\":\"BasicTicker\"},{\"attributes\":{\"line_alpha\":0.1,\"line_color\":\"#ff7e0e\",\"line_width\":2,\"x\":{\"field\":\"x\"},\"y\":{\"field\":\"y\"}},\"id\":\"5115\",\"type\":\"Line\"},{\"attributes\":{\"source\":{\"id\":\"5129\"}},\"id\":\"5133\",\"type\":\"CDSView\"},{\"attributes\":{\"axis\":{\"id\":\"5080\"},\"dimension\":1,\"ticker\":null},\"id\":\"5083\",\"type\":\"Grid\"},{\"attributes\":{\"data_source\":{\"id\":\"5129\"},\"glyph\":{\"id\":\"5130\"},\"hover_glyph\":null,\"muted_glyph\":null,\"nonselection_glyph\":{\"id\":\"5131\"},\"selection_glyph\":null,\"view\":{\"id\":\"5133\"}},\"id\":\"5132\",\"type\":\"GlyphRenderer\"},{\"attributes\":{},\"id\":\"5108\",\"type\":\"Selection\"},{\"attributes\":{\"axis_label\":\"concentration (nM)\",\"formatter\":{\"id\":\"5104\"},\"ticker\":{\"id\":\"5081\"}},\"id\":\"5080\",\"type\":\"LinearAxis\"},{\"attributes\":{\"label\":{\"value\":\"with ATP Synthase, Proton Pump, ATP Use\"},\"renderers\":[{\"id\":\"5101\"}]},\"id\":\"5112\",\"type\":\"LegendItem\"},{\"attributes\":{\"line_color\":\"#1f77b3\",\"line_width\":2,\"x\":{\"field\":\"x\"},\"y\":{\"field\":\"y\"}},\"id\":\"5099\",\"type\":\"Line\"},{\"attributes\":{\"data\":{\"x\":{\"__ndarray__\":\"AAAAAAAAAABIzNsZEvNzQEjM2xkS84NAbLLJJpvsjUBIzNsZEvOTQFq/UqDW75hAbLLJJpvsnUC/UqDWr3ShQEjM2xkS86NA0UUXXXRxpkBav1Kg1u+oQOM4juM4bqtAbLLJJpvsrUD6lQK1fjWwQL9SoNavdLFAhA8++OCzskBIzNsZEvOzQAyJeTtDMrVA0UUXXXRxtkCWArV+pbC3QFq/UqDW77hAHnzwwQcvukDjOI7jOG67QKj1KwVqrbxAbLLJJpvsvUAwb2dIzCu/QPqVArV+NcBAXXTRRRfVwEC/UqDWr3TBQCExb2dIFMJAhA8++OCzwkDm7QyJeVPDQEjM2xkS88NAqqqqqqqSxEAMiXk7QzLFQG9nSMzb0cVA0UUXXXRxxkAzJObtDBHHQJYCtX6lsMdA+OCDDz5QyEBav1Kg1u/IQLydITFvj8lAHnzwwQcvykCBWr9SoM7KQOM4juM4bstARRdddNENzECo9SsFaq3MQArU+pUCTc1AbLLJJpvszUDOkJi3M4zOQDBvZ0jMK89Ak0022WTLz0D6lQK1fjXQQCwFav1KhdBAXXTRRRfV0ECO4ziO4yTRQL9SoNavdNFA8MEHH3zE0UAhMW9nSBTSQFKg1q8UZNJAhA8++OCz0kC1fqVArQPTQObtDIl5U9NAF1100UWj00BIzNsZEvPTQHk7Q2LeQtRAqqqqqqqS1EDbGRLzduLUQAyJeTtDMtVAPvjggw+C1UBvZ0jM29HVQKDWrxSoIdZA0UUXXXRx1kACtX6lQMHWQDMk5u0MEddAZJNNNtlg10CWArV+pbDXQMdxHMdxANhA+OCDDz5Q2EApUOtXCqDYQFq/UqDW79hAiy666KI/2UC8nSExb4/ZQO0MiXk739lAHnzwwQcv2kBQ61cK1H7aQIFav1KgztpAsskmm2we20DjOI7jOG7bQBSo9SsFvttARRdddNEN3EB2hsS8nV3cQKj1KwVqrdxA2WSTTTb93EAK1PqVAk3dQDtDYt7OnN1AbLLJJpvs3UCdITFvZzzeQM6QmLczjN5AAAAAAADc3kA=\",\"dtype\":\"float64\",\"order\":\"little\",\"shape\":[100]},\"y\":{\"__ndarray__\":\"AAAAAAAAJEDz//////8fQO///////x9A7f//////H0Dt//////8fQOz//////x9A7f//////H0Dq//////8fQOr//////x9A6v//////H0Dp//////8fQOn//////x9A5v//////H0Dm//////8fQOX//////x9A4///////H0Dn//////8fQNL//////x9ADwAAAAAAIECl/v////8fQGYCAAAAACBAigEAAAAAIEDXAAAAAAAgQN///////x9A3v//////H0De//////8fQN///////x9A3///////H0Df//////8fQN///////x9A3///////H0Df//////8fQN///////x9A4P//////H0Df//////8fQPP//////x9A1///////H0Dc//////8fQNz//////x9A3P//////H0Dc//////8fQNr//////x9A4///////H0Dd//////8fQNL//////x9Axf//////H0AWAAAAAAAgQNz//////x9A3P//////H0Dc//////8fQNz//////x9A3P//////H0De//////8fQN///////x9A3f//////H0Df//////8fQN///////x9A4///////H0D2//////8fQBMAAAAAACBAH///////H0Dd//////8fQOb//////x9A4P//////H0Dg//////8fQOD//////x9A4P//////H0Dg//////8fQOH//////x9A3///////H0Dd//////8fQOX//////x9A8P//////H0DG//////8fQOX//////x9A3f//////H0De//////8fQN3//////x9A4f//////H0DW//////8fQND//////x9AGwAAAAAAIEAs//////8fQFz+/////x9AmPn/////H0D1AgAAAAAgQE74/////x9ALwAAAAAAIEA4/v////8fQAwAAAAAACBA3///////H0Cr/v////8fQN0AAAAAACBAgPv/////H0BWAAAAAAAgQFsAAAAAACBAsP3/////H0Cl/v////8fQJv9/////x9AhQIAAAAAIEA=\",\"dtype\":\"float64\",\"order\":\"little\",\"shape\":[100]}},\"selected\":{\"id\":\"5108\"},\"selection_policy\":{\"id\":\"5109\"}},\"id\":\"5098\",\"type\":\"ColumnDataSource\"},{\"attributes\":{\"source\":{\"id\":\"5098\"}},\"id\":\"5102\",\"type\":\"CDSView\"},{\"attributes\":{\"source\":{\"id\":\"5113\"}},\"id\":\"5117\",\"type\":\"CDSView\"},{\"attributes\":{\"data_source\":{\"id\":\"5098\"},\"glyph\":{\"id\":\"5099\"},\"hover_glyph\":null,\"muted_glyph\":null,\"nonselection_glyph\":{\"id\":\"5100\"},\"selection_glyph\":null,\"view\":{\"id\":\"5102\"}},\"id\":\"5101\",\"type\":\"GlyphRenderer\"},{\"attributes\":{},\"id\":\"5126\",\"type\":\"UnionRenderers\"},{\"attributes\":{\"data_source\":{\"id\":\"5113\"},\"glyph\":{\"id\":\"5114\"},\"hover_glyph\":null,\"muted_glyph\":null,\"nonselection_glyph\":{\"id\":\"5115\"},\"selection_glyph\":null,\"view\":{\"id\":\"5117\"}},\"id\":\"5116\",\"type\":\"GlyphRenderer\"},{\"attributes\":{\"bottom_units\":\"screen\",\"fill_alpha\":0.5,\"fill_color\":\"lightgrey\",\"left_units\":\"screen\",\"level\":\"overlay\",\"line_alpha\":1.0,\"line_color\":\"black\",\"line_dash\":[4,4],\"line_width\":2,\"right_units\":\"screen\",\"top_units\":\"screen\"},\"id\":\"5090\",\"type\":\"BoxAnnotation\"},{\"attributes\":{},\"id\":\"5074\",\"type\":\"LinearScale\"},{\"attributes\":{\"active_drag\":\"auto\",\"active_inspect\":\"auto\",\"active_multi\":null,\"active_scroll\":\"auto\",\"active_tap\":\"auto\",\"tools\":[{\"id\":\"5084\"},{\"id\":\"5085\"},{\"id\":\"5086\"},{\"id\":\"5087\"},{\"id\":\"5088\"},{\"id\":\"5089\"}]},\"id\":\"5091\",\"type\":\"Toolbar\"},{\"attributes\":{\"line_color\":\"#ff7e0e\",\"line_width\":2,\"x\":{\"field\":\"x\"},\"y\":{\"field\":\"y\"}},\"id\":\"5114\",\"type\":\"Line\"},{\"attributes\":{},\"id\":\"5072\",\"type\":\"LinearScale\"},{\"attributes\":{},\"id\":\"5084\",\"type\":\"PanTool\"},{\"attributes\":{\"axis_label\":\"time (sec)\",\"formatter\":{\"id\":\"5106\"},\"ticker\":{\"id\":\"5077\"}},\"id\":\"5076\",\"type\":\"LinearAxis\"},{\"attributes\":{\"line_alpha\":0.1,\"line_color\":\"#1f77b3\",\"line_width\":2,\"x\":{\"field\":\"x\"},\"y\":{\"field\":\"y\"}},\"id\":\"5100\",\"type\":\"Line\"},{\"attributes\":{},\"id\":\"5109\",\"type\":\"UnionRenderers\"},{\"attributes\":{},\"id\":\"5085\",\"type\":\"WheelZoomTool\"},{\"attributes\":{},\"id\":\"5143\",\"type\":\"Selection\"},{\"attributes\":{\"line_color\":\"#2ba02b\",\"line_width\":2,\"x\":{\"field\":\"x\"},\"y\":{\"field\":\"y\"}},\"id\":\"5130\",\"type\":\"Line\"},{\"attributes\":{\"overlay\":{\"id\":\"5090\"}},\"id\":\"5086\",\"type\":\"BoxZoomTool\"},{\"attributes\":{},\"id\":\"5106\",\"type\":\"BasicTickFormatter\"},{\"attributes\":{},\"id\":\"5104\",\"type\":\"BasicTickFormatter\"},{\"attributes\":{},\"id\":\"5087\",\"type\":\"SaveTool\"},{\"attributes\":{},\"id\":\"5077\",\"type\":\"BasicTicker\"},{\"attributes\":{\"axis\":{\"id\":\"5076\"},\"ticker\":null},\"id\":\"5079\",\"type\":\"Grid\"},{\"attributes\":{\"label\":{\"value\":\"with ATP Synthase, ATP Use\"},\"renderers\":[{\"id\":\"5116\"}]},\"id\":\"5128\",\"type\":\"LegendItem\"},{\"attributes\":{},\"id\":\"5070\",\"type\":\"DataRange1d\"},{\"attributes\":{\"data\":{\"x\":{\"__ndarray__\":\"AAAAAAAAAABIzNsZEvNzQEjM2xkS84NAbLLJJpvsjUBIzNsZEvOTQFq/UqDW75hAbLLJJpvsnUC/UqDWr3ShQEjM2xkS86NA0UUXXXRxpkBav1Kg1u+oQOM4juM4bqtAbLLJJpvsrUD6lQK1fjWwQL9SoNavdLFAhA8++OCzskBIzNsZEvOzQAyJeTtDMrVA0UUXXXRxtkCWArV+pbC3QFq/UqDW77hAHnzwwQcvukDjOI7jOG67QKj1KwVqrbxAbLLJJpvsvUAwb2dIzCu/QPqVArV+NcBAXXTRRRfVwEC/UqDWr3TBQCExb2dIFMJAhA8++OCzwkDm7QyJeVPDQEjM2xkS88NAqqqqqqqSxEAMiXk7QzLFQG9nSMzb0cVA0UUXXXRxxkAzJObtDBHHQJYCtX6lsMdA+OCDDz5QyEBav1Kg1u/IQLydITFvj8lAHnzwwQcvykCBWr9SoM7KQOM4juM4bstARRdddNENzECo9SsFaq3MQArU+pUCTc1AbLLJJpvszUDOkJi3M4zOQDBvZ0jMK89Ak0022WTLz0D6lQK1fjXQQCwFav1KhdBAXXTRRRfV0ECO4ziO4yTRQL9SoNavdNFA8MEHH3zE0UAhMW9nSBTSQFKg1q8UZNJAhA8++OCz0kC1fqVArQPTQObtDIl5U9NAF1100UWj00BIzNsZEvPTQHk7Q2LeQtRAqqqqqqqS1EDbGRLzduLUQAyJeTtDMtVAPvjggw+C1UBvZ0jM29HVQKDWrxSoIdZA0UUXXXRx1kACtX6lQMHWQDMk5u0MEddAZJNNNtlg10CWArV+pbDXQMdxHMdxANhA+OCDDz5Q2EApUOtXCqDYQFq/UqDW79hAiy666KI/2UC8nSExb4/ZQO0MiXk739lAHnzwwQcv2kBQ61cK1H7aQIFav1KgztpAsskmm2we20DjOI7jOG7bQBSo9SsFvttARRdddNEN3EB2hsS8nV3cQKj1KwVqrdxA2WSTTTb93EAK1PqVAk3dQDtDYt7OnN1AbLLJJpvs3UCdITFvZzzeQM6QmLczjN5AAAAAAADc3kA=\",\"dtype\":\"float64\",\"order\":\"little\",\"shape\":[100]},\"y\":{\"__ndarray__\":\"AAAAAAAAJECEuKLq3lUbu4Danrcfl9M6Sbn8bA2W2rmB4ORZcdcauRSbIlfe9S05gLkQiA+AAjlfhlTDW9jGOCBbuSnad1O4kDcmoRKmR7gkMEDu36+nuOSeNUk/Yna4FuGxCCkcSDjOPEadxccXuNeTDD3t4BK4in1/2m048zdJ90lQMazJtywHyBpsreK3qmKYPJhVIbih2hjDNTYwOLQI4/UhJCw4V+mNZoSh8zeLS1uVpT0iOMLN1v/Y1lK41A4l0lNTPLgupDJ6kGlRuKq5JM065SK43ySeKtYA4bebNIP5VrLUNyDYrdhQDQS48Bm99EmJ6jco7rXQ9EkRuH4T0f2QLzs4KFB9JnCzCLgw+fIPf+LrtyBXrsHkqAk4kMGEAu0jArjkx9/eBMhiuMCcg9oAVEw4Qqb0GfGFkTjFbdUIQ/CFOK+ZE7LchoQ4VKibXmFjprhAawnsJjzEuAAPmXw3q5+4wM4KrycoqDiO6xs//I6FOH1bjlLDsY44hW/qoquLnDguBil8V7IxOKroSfYLaGI4XMyjL76bW7hLLMu9+uoPOO0hH0N85ka4kBWFzjYCO7hGVi0v9bJeOAzL5sIUjW2470qV/94zcThA0qdCKp4suIh7JaQBeYi4R2B/BAECoDjZjx1SIF6kuGgHKGvi34s4sp9B613KVrj/bMR9LSQIuJiFiqNzkLw3lou5lAGwmjeMkP/01eOYtwfDQ2HO5Zo36oCItOknuzcMPm7eRwKnN50KrkcuySe30JkM+lRpUDeNY1ess2hKN9ybvvMIjkS3faeCs5Fy6jaAzG8UkPQDN0UGYMxqwPA2cPQvyAvRCbeNaY3gWEH2NtHSnoyahsc2GUD5M1Uo1bYvOvmTEQq3NtpwHj8xNYU2ol4suCvEhbYbai1lmaY7NiJ7Qa0us1A2oxvXebz7Q7a2yiHFYsJUthCffy5EHEo2AIQFwYEDMjZQOjHzaeNNtlCD+16c5WI2CJKMi89xRLbY/EgjMIxytmCE4gmko482Z0i+oi7DorbBFAqBBbmbtiAKZVj41502KlxWsF3IljY=\",\"dtype\":\"float64\",\"order\":\"little\",\"shape\":[100]}},\"selected\":{\"id\":\"5125\"},\"selection_policy\":{\"id\":\"5126\"}},\"id\":\"5113\",\"type\":\"ColumnDataSource\"},{\"attributes\":{},\"id\":\"5088\",\"type\":\"ResetTool\"},{\"attributes\":{\"label\":{\"value\":\"ATP Use only\"},\"renderers\":[{\"id\":\"5132\"}]},\"id\":\"5146\",\"type\":\"LegendItem\"},{\"attributes\":{},\"id\":\"5144\",\"type\":\"UnionRenderers\"},{\"attributes\":{},\"id\":\"5125\",\"type\":\"Selection\"},{\"attributes\":{\"text\":\"ATP Compare\"},\"id\":\"5066\",\"type\":\"Title\"},{\"attributes\":{},\"id\":\"5089\",\"type\":\"HelpTool\"},{\"attributes\":{\"items\":[{\"id\":\"5112\"},{\"id\":\"5128\"},{\"id\":\"5146\"}],\"location\":\"center_right\"},\"id\":\"5111\",\"type\":\"Legend\"}],\"root_ids\":[\"5065\"]},\"title\":\"Bokeh Application\",\"version\":\"2.2.1\"}};\n",
       "  var render_items = [{\"docid\":\"2a01ed16-4ba0-40a3-aef5-e8dac2a388c8\",\"root_ids\":[\"5065\"],\"roots\":{\"5065\":\"b737d33c-c4ed-4fa7-81f5-f8b44efc572f\"}}];\n",
       "  root.Bokeh.embed.embed_items_notebook(docs_json, render_items);\n",
       "\n",
       "  }\n",
       "  if (root.Bokeh !== undefined) {\n",
       "    embed_document(root);\n",
       "  } else {\n",
       "    var attempts = 0;\n",
       "    var timer = setInterval(function(root) {\n",
       "      if (root.Bokeh !== undefined) {\n",
       "        clearInterval(timer);\n",
       "        embed_document(root);\n",
       "      } else {\n",
       "        attempts++;\n",
       "        if (attempts > 100) {\n",
       "          clearInterval(timer);\n",
       "          console.log(\"Bokeh: ERROR: Unable to run BokehJS code because BokehJS library is missing\");\n",
       "        }\n",
       "      }\n",
       "    }, 10, root)\n",
       "  }\n",
       "})(window);"
      ],
      "application/vnd.bokehjs_exec.v0+json": ""
     },
     "metadata": {
      "application/vnd.bokehjs_exec.v0+json": {
       "id": "5065"
      }
     },
     "output_type": "display_data"
    }
   ],
   "source": [
    "p_atp = bokeh.plotting.figure(width = 450, height = 350,\n",
    "                             title = 'ATP Compare',\n",
    "                             x_axis_label = 'time (sec)',\n",
    "                             y_axis_label = 'concentration (nM)')\n",
    "\n",
    "p_atp.line(timepoints, results_everything[ATP_id3],line_width = 2, color = palette[0],legend_label = 'with ATP Synthase, Proton Pump, ATP Use')\n",
    "p_atp.line(timepoints, results[ATP_id], line_width = 2, color = palette[1], legend_label = 'with ATP Synthase, ATP Use')\n",
    "p_atp.line(timepoints, results2[ATP_id2],line_width = 2, color = palette[2],legend_label = 'ATP Use only')\n",
    "p_atp.legend.location = 'center_right'\n",
    "bokeh.io.show(p_atp)"
   ]
  },
  {
   "cell_type": "code",
   "execution_count": 20,
   "metadata": {},
   "outputs": [
    {
     "name": "stdout",
     "output_type": "stream",
     "text": [
      "CPython 3.7.7\n",
      "IPython 7.13.0\n",
      "\n",
      "numpy 1.18.1\n",
      "bokeh 2.2.1\n",
      "jupyterlab 1.2.6\n",
      "scipy 1.4.1\n",
      "biocrnpyler unknown\n",
      "bioscrape 1.0.0\n",
      "colorcet 2.0.2\n",
      "subsbml unknown\n"
     ]
    }
   ],
   "source": [
    "#watermark\n",
    "%reload_ext watermark\n",
    "%watermark -v -p numpy,bokeh,jupyterlab,scipy,biocrnpyler,bioscrape,colorcet,subsbml\n",
    "  "
   ]
  },
  {
   "cell_type": "code",
   "execution_count": null,
   "metadata": {},
   "outputs": [],
   "source": []
  }
 ],
 "metadata": {
  "kernelspec": {
   "display_name": "Python 3",
   "language": "python",
   "name": "python3"
  },
  "language_info": {
   "codemirror_mode": {
    "name": "ipython",
    "version": 3
   },
   "file_extension": ".py",
   "mimetype": "text/x-python",
   "name": "python",
   "nbconvert_exporter": "python",
   "pygments_lexer": "ipython3",
   "version": "3.7.7"
  }
 },
 "nbformat": 4,
 "nbformat_minor": 4
}
