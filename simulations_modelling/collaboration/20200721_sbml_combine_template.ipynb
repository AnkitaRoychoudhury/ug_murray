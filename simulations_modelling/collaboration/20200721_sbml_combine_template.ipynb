{
 "cells": [
  {
   "cell_type": "markdown",
   "metadata": {},
   "source": [
    "# SBML Model Combine Template \n",
    "7.21.2020 <br>\n",
    "In this notebook, I will outline how to use the SBML file and what initial conditions will be necessary.<br>\n",
    "**Note: All cells are type 'raw', please change to type 'code' if you want to execute the cells.**\n",
    "---"
   ]
  },
  {
   "cell_type": "raw",
   "metadata": {},
   "source": [
    "# bioscrape\n",
    "from bioscrape.types import Model\n",
    "from bioscrape.simulator import py_simulate_model\n",
    "\n",
    "#For arrays and plotting\n",
    "import numpy as np\n",
    "import pandas as pd\n",
    "\n",
    "from scipy.integrate import simps\n",
    "from numpy import trapz\n",
    "\n",
    "# Import good plotting packages \n",
    "import bokeh.io\n",
    "import bokeh.plotting\n",
    "from bokeh.layouts import row\n",
    "from bokeh.layouts import column\n",
    "bokeh.io.output_notebook()\n",
    "\n",
    "# from biocrnpyler.mechanism import Mechanism\n",
    "from biocrnpyler.component import Component\n",
    "# from biocrnpyler import Mixture\n",
    "# from biocrnpyler.chemical_reaction_network import Species, Reaction, ComplexSpecies, ChemicalReactionNetwork\n",
    "from biocrnpyler import *\n",
    "\n",
    "from subsbml import createNewSubsystem, createSubsystem"
   ]
  },
  {
   "cell_type": "markdown",
   "metadata": {},
   "source": [
    "First, we will load in the two SBML models (the rheostat and your model)"
   ]
  },
  {
   "cell_type": "raw",
   "metadata": {},
   "source": [
    "# Load in your model\n",
    "ss1 = createSubsystem('your_model.xml', subsystemName = 'vire2')\n",
    "# Load in rheostat model\n",
    "ss2 = createSubsystem('atp_rheostat.xml', subsystemName = 'rheostat')"
   ]
  },
  {
   "cell_type": "markdown",
   "metadata": {},
   "source": [
    "Now, we will rename some important metabolites. The first string should be whatever you have named atp, adp, and pi in your model. The second is what we are changing the variable names to, which will align with the atp model"
   ]
  },
  {
   "cell_type": "raw",
   "metadata": {},
   "source": [
    "# rename so they are the same\n",
    "ss1.renameSName('ATP', 'metabolite_atp')\n",
    "ss1.renameSName('ADP', 'metabolite_adp')\n",
    "ss1.renameSName('P', 'metabolite_pi')"
   ]
  },
  {
   "cell_type": "markdown",
   "metadata": {},
   "source": [
    "Now, we will combine the subsystems and call it `atp_regen_subsystem`"
   ]
  },
  {
   "cell_type": "raw",
   "metadata": {},
   "source": [
    "atp_regen_subsystem = ss1 + ss2"
   ]
  },
  {
   "cell_type": "markdown",
   "metadata": {},
   "source": [
    "Next, we have to set the initial conditions for the rheostat. I am setting glucose, atp, nadp, and pi to 30 mM and all the enzymes to 0.20 mM. You may change these as desired."
   ]
  },
  {
   "cell_type": "raw",
   "metadata": {},
   "source": [
    "rheostat_30 = ['molecule_glucose', 'metabolite_atp', 'metabolite_nadp', 'metabolite_pi']\n",
    "for spec in rheostat_30:\n",
    "    atp_regen_subsystem.setSpeciesAmount(spec,30)\n",
    "    if spec == 'metabolite_atp':\n",
    "        atp_regen_subsystem.setSpeciesAmount(spec,10)\n",
    "\n",
    "\n",
    "rheostat_e = ['enzyme_hex', 'enzyme_pgi', 'enzyme_pfk', 'enzyme_ald_tpi', 'enzyme_gapN',\n",
    "             'enzyme_mGapDH', 'enzyme_pgk', 'enzyme_pgm', 'enzyme_eno', 'enzyme_pyk',\n",
    "             'enzyme_alsS', 'enzyme_IlvC', 'enzyme_kivD', 'enzyme_yahk']\n",
    "\n",
    "for spec_e in rheostat_e:\n",
    "    atp_regen_subsystem.setSpeciesAmount(spec_e, 0.20)"
   ]
  },
  {
   "cell_type": "markdown",
   "metadata": {},
   "source": [
    "It may also be helpful to define some variables that represent ID's since it can make plotting easier later on."
   ]
  },
  {
   "cell_type": "raw",
   "metadata": {},
   "source": [
    "# Examples of variables that represent ID's\n",
    "ATP_id = atp_regen_subsystem.getSpeciesByName('metabolite_atp').getId()\n",
    "ADP_id = atp_regen_subsystem.getSpeciesByName('metabolite_adp').getId()\n",
    "\n",
    "VirE2_b_id = atp_regen_subsystem.getSpeciesByName('VirE2_b').getId()\n",
    "VirE2_f_id = atp_regen_subsystem.getSpeciesByName('VirE2_f').getId()\n",
    "atc_i_id = atp_regen_subsystem.getSpeciesByName('aTc_i').getId()"
   ]
  },
  {
   "cell_type": "markdown",
   "metadata": {},
   "source": [
    "Next, we have to write the system to sbml again"
   ]
  },
  {
   "cell_type": "raw",
   "metadata": {},
   "source": [
    "_ = atp_regen_subsystem.writeSBML('atp_regen_ss.xml')"
   ]
  },
  {
   "cell_type": "markdown",
   "metadata": {},
   "source": [
    "Then, set timepoints, initial conditions and get the simulation"
   ]
  },
  {
   "cell_type": "raw",
   "metadata": {},
   "source": [
    "results, _ = atp_regen_subsystem.simulateWithBioscrape(timepoints, sbml_warnings = False)"
   ]
  },
  {
   "cell_type": "code",
   "execution_count": null,
   "metadata": {},
   "outputs": [],
   "source": []
  }
 ],
 "metadata": {
  "kernelspec": {
   "display_name": "Python 3",
   "language": "python",
   "name": "python3"
  },
  "language_info": {
   "codemirror_mode": {
    "name": "ipython",
    "version": 3
   },
   "file_extension": ".py",
   "mimetype": "text/x-python",
   "name": "python",
   "nbconvert_exporter": "python",
   "pygments_lexer": "ipython3",
   "version": "3.7.7"
  }
 },
 "nbformat": 4,
 "nbformat_minor": 4
}
