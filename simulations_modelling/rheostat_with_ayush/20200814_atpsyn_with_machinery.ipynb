{
 "cells": [
  {
   "cell_type": "markdown",
   "metadata": {},
   "source": [
    "# Combine Sub-SBML models with TXTL Machinery\n",
    "---"
   ]
  },
  {
   "cell_type": "markdown",
   "metadata": {},
   "source": [
    "Do this so you can incorporate temperature control <br>\n",
    "2020.08.14"
   ]
  },
  {
   "cell_type": "code",
   "execution_count": 1,
   "metadata": {},
   "outputs": [
    {
     "data": {
      "text/html": [
       "\n",
       "    <div class=\"bk-root\">\n",
       "        <a href=\"https://bokeh.org\" target=\"_blank\" class=\"bk-logo bk-logo-small bk-logo-notebook\"></a>\n",
       "        <span id=\"1001\">Loading BokehJS ...</span>\n",
       "    </div>"
      ]
     },
     "metadata": {},
     "output_type": "display_data"
    },
    {
     "data": {
      "application/javascript": [
       "\n",
       "(function(root) {\n",
       "  function now() {\n",
       "    return new Date();\n",
       "  }\n",
       "\n",
       "  var force = true;\n",
       "\n",
       "  if (typeof root._bokeh_onload_callbacks === \"undefined\" || force === true) {\n",
       "    root._bokeh_onload_callbacks = [];\n",
       "    root._bokeh_is_loading = undefined;\n",
       "  }\n",
       "\n",
       "  var JS_MIME_TYPE = 'application/javascript';\n",
       "  var HTML_MIME_TYPE = 'text/html';\n",
       "  var EXEC_MIME_TYPE = 'application/vnd.bokehjs_exec.v0+json';\n",
       "  var CLASS_NAME = 'output_bokeh rendered_html';\n",
       "\n",
       "  /**\n",
       "   * Render data to the DOM node\n",
       "   */\n",
       "  function render(props, node) {\n",
       "    var script = document.createElement(\"script\");\n",
       "    node.appendChild(script);\n",
       "  }\n",
       "\n",
       "  /**\n",
       "   * Handle when an output is cleared or removed\n",
       "   */\n",
       "  function handleClearOutput(event, handle) {\n",
       "    var cell = handle.cell;\n",
       "\n",
       "    var id = cell.output_area._bokeh_element_id;\n",
       "    var server_id = cell.output_area._bokeh_server_id;\n",
       "    // Clean up Bokeh references\n",
       "    if (id != null && id in Bokeh.index) {\n",
       "      Bokeh.index[id].model.document.clear();\n",
       "      delete Bokeh.index[id];\n",
       "    }\n",
       "\n",
       "    if (server_id !== undefined) {\n",
       "      // Clean up Bokeh references\n",
       "      var cmd = \"from bokeh.io.state import curstate; print(curstate().uuid_to_server['\" + server_id + \"'].get_sessions()[0].document.roots[0]._id)\";\n",
       "      cell.notebook.kernel.execute(cmd, {\n",
       "        iopub: {\n",
       "          output: function(msg) {\n",
       "            var id = msg.content.text.trim();\n",
       "            if (id in Bokeh.index) {\n",
       "              Bokeh.index[id].model.document.clear();\n",
       "              delete Bokeh.index[id];\n",
       "            }\n",
       "          }\n",
       "        }\n",
       "      });\n",
       "      // Destroy server and session\n",
       "      var cmd = \"import bokeh.io.notebook as ion; ion.destroy_server('\" + server_id + \"')\";\n",
       "      cell.notebook.kernel.execute(cmd);\n",
       "    }\n",
       "  }\n",
       "\n",
       "  /**\n",
       "   * Handle when a new output is added\n",
       "   */\n",
       "  function handleAddOutput(event, handle) {\n",
       "    var output_area = handle.output_area;\n",
       "    var output = handle.output;\n",
       "\n",
       "    // limit handleAddOutput to display_data with EXEC_MIME_TYPE content only\n",
       "    if ((output.output_type != \"display_data\") || (!output.data.hasOwnProperty(EXEC_MIME_TYPE))) {\n",
       "      return\n",
       "    }\n",
       "\n",
       "    var toinsert = output_area.element.find(\".\" + CLASS_NAME.split(' ')[0]);\n",
       "\n",
       "    if (output.metadata[EXEC_MIME_TYPE][\"id\"] !== undefined) {\n",
       "      toinsert[toinsert.length - 1].firstChild.textContent = output.data[JS_MIME_TYPE];\n",
       "      // store reference to embed id on output_area\n",
       "      output_area._bokeh_element_id = output.metadata[EXEC_MIME_TYPE][\"id\"];\n",
       "    }\n",
       "    if (output.metadata[EXEC_MIME_TYPE][\"server_id\"] !== undefined) {\n",
       "      var bk_div = document.createElement(\"div\");\n",
       "      bk_div.innerHTML = output.data[HTML_MIME_TYPE];\n",
       "      var script_attrs = bk_div.children[0].attributes;\n",
       "      for (var i = 0; i < script_attrs.length; i++) {\n",
       "        toinsert[toinsert.length - 1].firstChild.setAttribute(script_attrs[i].name, script_attrs[i].value);\n",
       "      }\n",
       "      // store reference to server id on output_area\n",
       "      output_area._bokeh_server_id = output.metadata[EXEC_MIME_TYPE][\"server_id\"];\n",
       "    }\n",
       "  }\n",
       "\n",
       "  function register_renderer(events, OutputArea) {\n",
       "\n",
       "    function append_mime(data, metadata, element) {\n",
       "      // create a DOM node to render to\n",
       "      var toinsert = this.create_output_subarea(\n",
       "        metadata,\n",
       "        CLASS_NAME,\n",
       "        EXEC_MIME_TYPE\n",
       "      );\n",
       "      this.keyboard_manager.register_events(toinsert);\n",
       "      // Render to node\n",
       "      var props = {data: data, metadata: metadata[EXEC_MIME_TYPE]};\n",
       "      render(props, toinsert[toinsert.length - 1]);\n",
       "      element.append(toinsert);\n",
       "      return toinsert\n",
       "    }\n",
       "\n",
       "    /* Handle when an output is cleared or removed */\n",
       "    events.on('clear_output.CodeCell', handleClearOutput);\n",
       "    events.on('delete.Cell', handleClearOutput);\n",
       "\n",
       "    /* Handle when a new output is added */\n",
       "    events.on('output_added.OutputArea', handleAddOutput);\n",
       "\n",
       "    /**\n",
       "     * Register the mime type and append_mime function with output_area\n",
       "     */\n",
       "    OutputArea.prototype.register_mime_type(EXEC_MIME_TYPE, append_mime, {\n",
       "      /* Is output safe? */\n",
       "      safe: true,\n",
       "      /* Index of renderer in `output_area.display_order` */\n",
       "      index: 0\n",
       "    });\n",
       "  }\n",
       "\n",
       "  // register the mime type if in Jupyter Notebook environment and previously unregistered\n",
       "  if (root.Jupyter !== undefined) {\n",
       "    var events = require('base/js/events');\n",
       "    var OutputArea = require('notebook/js/outputarea').OutputArea;\n",
       "\n",
       "    if (OutputArea.prototype.mime_types().indexOf(EXEC_MIME_TYPE) == -1) {\n",
       "      register_renderer(events, OutputArea);\n",
       "    }\n",
       "  }\n",
       "\n",
       "  \n",
       "  if (typeof (root._bokeh_timeout) === \"undefined\" || force === true) {\n",
       "    root._bokeh_timeout = Date.now() + 5000;\n",
       "    root._bokeh_failed_load = false;\n",
       "  }\n",
       "\n",
       "  var NB_LOAD_WARNING = {'data': {'text/html':\n",
       "     \"<div style='background-color: #fdd'>\\n\"+\n",
       "     \"<p>\\n\"+\n",
       "     \"BokehJS does not appear to have successfully loaded. If loading BokehJS from CDN, this \\n\"+\n",
       "     \"may be due to a slow or bad network connection. Possible fixes:\\n\"+\n",
       "     \"</p>\\n\"+\n",
       "     \"<ul>\\n\"+\n",
       "     \"<li>re-rerun `output_notebook()` to attempt to load from CDN again, or</li>\\n\"+\n",
       "     \"<li>use INLINE resources instead, as so:</li>\\n\"+\n",
       "     \"</ul>\\n\"+\n",
       "     \"<code>\\n\"+\n",
       "     \"from bokeh.resources import INLINE\\n\"+\n",
       "     \"output_notebook(resources=INLINE)\\n\"+\n",
       "     \"</code>\\n\"+\n",
       "     \"</div>\"}};\n",
       "\n",
       "  function display_loaded() {\n",
       "    var el = document.getElementById(\"1001\");\n",
       "    if (el != null) {\n",
       "      el.textContent = \"BokehJS is loading...\";\n",
       "    }\n",
       "    if (root.Bokeh !== undefined) {\n",
       "      if (el != null) {\n",
       "        el.textContent = \"BokehJS \" + root.Bokeh.version + \" successfully loaded.\";\n",
       "      }\n",
       "    } else if (Date.now() < root._bokeh_timeout) {\n",
       "      setTimeout(display_loaded, 100)\n",
       "    }\n",
       "  }\n",
       "\n",
       "\n",
       "  function run_callbacks() {\n",
       "    try {\n",
       "      root._bokeh_onload_callbacks.forEach(function(callback) {\n",
       "        if (callback != null)\n",
       "          callback();\n",
       "      });\n",
       "    } finally {\n",
       "      delete root._bokeh_onload_callbacks\n",
       "    }\n",
       "    console.debug(\"Bokeh: all callbacks have finished\");\n",
       "  }\n",
       "\n",
       "  function load_libs(css_urls, js_urls, callback) {\n",
       "    if (css_urls == null) css_urls = [];\n",
       "    if (js_urls == null) js_urls = [];\n",
       "\n",
       "    root._bokeh_onload_callbacks.push(callback);\n",
       "    if (root._bokeh_is_loading > 0) {\n",
       "      console.debug(\"Bokeh: BokehJS is being loaded, scheduling callback at\", now());\n",
       "      return null;\n",
       "    }\n",
       "    if (js_urls == null || js_urls.length === 0) {\n",
       "      run_callbacks();\n",
       "      return null;\n",
       "    }\n",
       "    console.debug(\"Bokeh: BokehJS not loaded, scheduling load and callback at\", now());\n",
       "    root._bokeh_is_loading = css_urls.length + js_urls.length;\n",
       "\n",
       "    function on_load() {\n",
       "      root._bokeh_is_loading--;\n",
       "      if (root._bokeh_is_loading === 0) {\n",
       "        console.debug(\"Bokeh: all BokehJS libraries/stylesheets loaded\");\n",
       "        run_callbacks()\n",
       "      }\n",
       "    }\n",
       "\n",
       "    function on_error() {\n",
       "      console.error(\"failed to load \" + url);\n",
       "    }\n",
       "\n",
       "    for (var i = 0; i < css_urls.length; i++) {\n",
       "      var url = css_urls[i];\n",
       "      const element = document.createElement(\"link\");\n",
       "      element.onload = on_load;\n",
       "      element.onerror = on_error;\n",
       "      element.rel = \"stylesheet\";\n",
       "      element.type = \"text/css\";\n",
       "      element.href = url;\n",
       "      console.debug(\"Bokeh: injecting link tag for BokehJS stylesheet: \", url);\n",
       "      document.body.appendChild(element);\n",
       "    }\n",
       "\n",
       "    for (var i = 0; i < js_urls.length; i++) {\n",
       "      var url = js_urls[i];\n",
       "      var element = document.createElement('script');\n",
       "      element.onload = on_load;\n",
       "      element.onerror = on_error;\n",
       "      element.async = false;\n",
       "      element.src = url;\n",
       "      console.debug(\"Bokeh: injecting script tag for BokehJS library: \", url);\n",
       "      document.head.appendChild(element);\n",
       "    }\n",
       "  };var element = document.getElementById(\"1001\");\n",
       "  if (element == null) {\n",
       "    console.error(\"Bokeh: ERROR: autoload.js configured with elementid '1001' but no matching script tag was found. \")\n",
       "    return false;\n",
       "  }\n",
       "\n",
       "  function inject_raw_css(css) {\n",
       "    const element = document.createElement(\"style\");\n",
       "    element.appendChild(document.createTextNode(css));\n",
       "    document.body.appendChild(element);\n",
       "  }\n",
       "\n",
       "  \n",
       "  var js_urls = [\"https://cdn.pydata.org/bokeh/release/bokeh-1.4.0.min.js\", \"https://cdn.pydata.org/bokeh/release/bokeh-widgets-1.4.0.min.js\", \"https://cdn.pydata.org/bokeh/release/bokeh-tables-1.4.0.min.js\", \"https://cdn.pydata.org/bokeh/release/bokeh-gl-1.4.0.min.js\"];\n",
       "  var css_urls = [];\n",
       "  \n",
       "\n",
       "  var inline_js = [\n",
       "    function(Bokeh) {\n",
       "      Bokeh.set_log_level(\"info\");\n",
       "    },\n",
       "    function(Bokeh) {\n",
       "    \n",
       "    \n",
       "    }\n",
       "  ];\n",
       "\n",
       "  function run_inline_js() {\n",
       "    \n",
       "    if (root.Bokeh !== undefined || force === true) {\n",
       "      \n",
       "    for (var i = 0; i < inline_js.length; i++) {\n",
       "      inline_js[i].call(root, root.Bokeh);\n",
       "    }\n",
       "    if (force === true) {\n",
       "        display_loaded();\n",
       "      }} else if (Date.now() < root._bokeh_timeout) {\n",
       "      setTimeout(run_inline_js, 100);\n",
       "    } else if (!root._bokeh_failed_load) {\n",
       "      console.log(\"Bokeh: BokehJS failed to load within specified timeout.\");\n",
       "      root._bokeh_failed_load = true;\n",
       "    } else if (force !== true) {\n",
       "      var cell = $(document.getElementById(\"1001\")).parents('.cell').data().cell;\n",
       "      cell.output_area.append_execute_result(NB_LOAD_WARNING)\n",
       "    }\n",
       "\n",
       "  }\n",
       "\n",
       "  if (root._bokeh_is_loading === 0) {\n",
       "    console.debug(\"Bokeh: BokehJS loaded, going straight to plotting\");\n",
       "    run_inline_js();\n",
       "  } else {\n",
       "    load_libs(css_urls, js_urls, function() {\n",
       "      console.debug(\"Bokeh: BokehJS plotting callback run at\", now());\n",
       "      run_inline_js();\n",
       "    });\n",
       "  }\n",
       "}(window));"
      ],
      "application/vnd.bokehjs_load.v0+json": "\n(function(root) {\n  function now() {\n    return new Date();\n  }\n\n  var force = true;\n\n  if (typeof root._bokeh_onload_callbacks === \"undefined\" || force === true) {\n    root._bokeh_onload_callbacks = [];\n    root._bokeh_is_loading = undefined;\n  }\n\n  \n\n  \n  if (typeof (root._bokeh_timeout) === \"undefined\" || force === true) {\n    root._bokeh_timeout = Date.now() + 5000;\n    root._bokeh_failed_load = false;\n  }\n\n  var NB_LOAD_WARNING = {'data': {'text/html':\n     \"<div style='background-color: #fdd'>\\n\"+\n     \"<p>\\n\"+\n     \"BokehJS does not appear to have successfully loaded. If loading BokehJS from CDN, this \\n\"+\n     \"may be due to a slow or bad network connection. Possible fixes:\\n\"+\n     \"</p>\\n\"+\n     \"<ul>\\n\"+\n     \"<li>re-rerun `output_notebook()` to attempt to load from CDN again, or</li>\\n\"+\n     \"<li>use INLINE resources instead, as so:</li>\\n\"+\n     \"</ul>\\n\"+\n     \"<code>\\n\"+\n     \"from bokeh.resources import INLINE\\n\"+\n     \"output_notebook(resources=INLINE)\\n\"+\n     \"</code>\\n\"+\n     \"</div>\"}};\n\n  function display_loaded() {\n    var el = document.getElementById(\"1001\");\n    if (el != null) {\n      el.textContent = \"BokehJS is loading...\";\n    }\n    if (root.Bokeh !== undefined) {\n      if (el != null) {\n        el.textContent = \"BokehJS \" + root.Bokeh.version + \" successfully loaded.\";\n      }\n    } else if (Date.now() < root._bokeh_timeout) {\n      setTimeout(display_loaded, 100)\n    }\n  }\n\n\n  function run_callbacks() {\n    try {\n      root._bokeh_onload_callbacks.forEach(function(callback) {\n        if (callback != null)\n          callback();\n      });\n    } finally {\n      delete root._bokeh_onload_callbacks\n    }\n    console.debug(\"Bokeh: all callbacks have finished\");\n  }\n\n  function load_libs(css_urls, js_urls, callback) {\n    if (css_urls == null) css_urls = [];\n    if (js_urls == null) js_urls = [];\n\n    root._bokeh_onload_callbacks.push(callback);\n    if (root._bokeh_is_loading > 0) {\n      console.debug(\"Bokeh: BokehJS is being loaded, scheduling callback at\", now());\n      return null;\n    }\n    if (js_urls == null || js_urls.length === 0) {\n      run_callbacks();\n      return null;\n    }\n    console.debug(\"Bokeh: BokehJS not loaded, scheduling load and callback at\", now());\n    root._bokeh_is_loading = css_urls.length + js_urls.length;\n\n    function on_load() {\n      root._bokeh_is_loading--;\n      if (root._bokeh_is_loading === 0) {\n        console.debug(\"Bokeh: all BokehJS libraries/stylesheets loaded\");\n        run_callbacks()\n      }\n    }\n\n    function on_error() {\n      console.error(\"failed to load \" + url);\n    }\n\n    for (var i = 0; i < css_urls.length; i++) {\n      var url = css_urls[i];\n      const element = document.createElement(\"link\");\n      element.onload = on_load;\n      element.onerror = on_error;\n      element.rel = \"stylesheet\";\n      element.type = \"text/css\";\n      element.href = url;\n      console.debug(\"Bokeh: injecting link tag for BokehJS stylesheet: \", url);\n      document.body.appendChild(element);\n    }\n\n    for (var i = 0; i < js_urls.length; i++) {\n      var url = js_urls[i];\n      var element = document.createElement('script');\n      element.onload = on_load;\n      element.onerror = on_error;\n      element.async = false;\n      element.src = url;\n      console.debug(\"Bokeh: injecting script tag for BokehJS library: \", url);\n      document.head.appendChild(element);\n    }\n  };var element = document.getElementById(\"1001\");\n  if (element == null) {\n    console.error(\"Bokeh: ERROR: autoload.js configured with elementid '1001' but no matching script tag was found. \")\n    return false;\n  }\n\n  function inject_raw_css(css) {\n    const element = document.createElement(\"style\");\n    element.appendChild(document.createTextNode(css));\n    document.body.appendChild(element);\n  }\n\n  \n  var js_urls = [\"https://cdn.pydata.org/bokeh/release/bokeh-1.4.0.min.js\", \"https://cdn.pydata.org/bokeh/release/bokeh-widgets-1.4.0.min.js\", \"https://cdn.pydata.org/bokeh/release/bokeh-tables-1.4.0.min.js\", \"https://cdn.pydata.org/bokeh/release/bokeh-gl-1.4.0.min.js\"];\n  var css_urls = [];\n  \n\n  var inline_js = [\n    function(Bokeh) {\n      Bokeh.set_log_level(\"info\");\n    },\n    function(Bokeh) {\n    \n    \n    }\n  ];\n\n  function run_inline_js() {\n    \n    if (root.Bokeh !== undefined || force === true) {\n      \n    for (var i = 0; i < inline_js.length; i++) {\n      inline_js[i].call(root, root.Bokeh);\n    }\n    if (force === true) {\n        display_loaded();\n      }} else if (Date.now() < root._bokeh_timeout) {\n      setTimeout(run_inline_js, 100);\n    } else if (!root._bokeh_failed_load) {\n      console.log(\"Bokeh: BokehJS failed to load within specified timeout.\");\n      root._bokeh_failed_load = true;\n    } else if (force !== true) {\n      var cell = $(document.getElementById(\"1001\")).parents('.cell').data().cell;\n      cell.output_area.append_execute_result(NB_LOAD_WARNING)\n    }\n\n  }\n\n  if (root._bokeh_is_loading === 0) {\n    console.debug(\"Bokeh: BokehJS loaded, going straight to plotting\");\n    run_inline_js();\n  } else {\n    load_libs(css_urls, js_urls, function() {\n      console.debug(\"Bokeh: BokehJS plotting callback run at\", now());\n      run_inline_js();\n    });\n  }\n}(window));"
     },
     "metadata": {},
     "output_type": "display_data"
    }
   ],
   "source": [
    "from biocrnpyler import *\n",
    "#from biocrnpyler.chemical_reaction_network import Species, Reaction, ComplexSpecies, Multimer\n",
    "import numpy as np\n",
    "#import pylab as plt \n",
    "#%matplotlib inline\n",
    "\n",
    "import bokeh.io\n",
    "import bokeh.plotting\n",
    "from bokeh.layouts import row\n",
    "\n",
    "bokeh.io.output_notebook()\n",
    "\n",
    "import colorcet\n",
    "\n",
    "from subsbml import createNewSubsystem, createSubsystem"
   ]
  },
  {
   "cell_type": "code",
   "execution_count": 2,
   "metadata": {},
   "outputs": [],
   "source": [
    "palette = colorcet.b_glasbey_category10\n",
    "palette.remove( '#d62628')"
   ]
  },
  {
   "cell_type": "code",
   "execution_count": 3,
   "metadata": {},
   "outputs": [],
   "source": [
    "p_atp = bokeh.plotting.figure(width = 450, height = 350,\n",
    "                             title = 'ATP Compare',\n",
    "                             x_axis_label = 'time (sec)',\n",
    "                             y_axis_label = 'concentration (nM)')"
   ]
  },
  {
   "cell_type": "markdown",
   "metadata": {},
   "source": [
    "## Combine atp synthase with txtl machinery \n",
    "---"
   ]
  },
  {
   "cell_type": "markdown",
   "metadata": {},
   "source": [
    "Load in subsystem models"
   ]
  },
  {
   "cell_type": "code",
   "execution_count": 4,
   "metadata": {},
   "outputs": [],
   "source": [
    "# atp synthase models\n",
    "ss1_atpsyn_txtl = createSubsystem('atpsynthase_machinery_txtl.xml', subsystemName = 'atpsyn_txtl')\n",
    "ss2_atpsyn_mi = createSubsystem('atpsynthase_membrane_integration.xml', subsystemName = 'atpsyn_mi')\n",
    "ss3_atpsynthesis = createSubsystem('atp_synthesis_through_atpsynthase_try2.xml', subsystemName = 'atpsynthesis')\n",
    "ss4_atp_use = createSubsystem('atp_75_use.xml', subsystemName = 'atp_use')"
   ]
  },
  {
   "cell_type": "markdown",
   "metadata": {},
   "source": [
    "Combine all models"
   ]
  },
  {
   "cell_type": "code",
   "execution_count": 5,
   "metadata": {},
   "outputs": [],
   "source": [
    "atp_subsystem_w_use = ss1_atpsyn_txtl + ss2_atpsyn_mi + ss3_atpsynthesis + ss4_atp_use"
   ]
  },
  {
   "cell_type": "markdown",
   "metadata": {},
   "source": [
    "Indicate initial conditions and timepoints, simulate with bioscrape, and get species IDs that you may want to plot"
   ]
  },
  {
   "cell_type": "code",
   "execution_count": 6,
   "metadata": {},
   "outputs": [
    {
     "name": "stderr",
     "output_type": "stream",
     "text": [
      "/Users/ankitaroychoudhury/opt/anaconda3/lib/python3.7/site-packages/scipy/integrate/odepack.py:248: ODEintWarning: Excess work done on this call (perhaps wrong Dfun type). Run with full_output = 1 to get quantitative information.\n",
      "  warnings.warn(warning_msg, ODEintWarning)\n",
      "odeint failed with mxstep=500..."
     ]
    }
   ],
   "source": [
    "# SIMULATE WITH ATP SYNTHASE\n",
    "# Initial conditions\n",
    "spec_list_10 = ['dna_atpsyn', 'proton_outside_H',\n",
    "                 'protein_RNAP_machinery', \n",
    "                'protein_Ribo_machinery', 'protein_RNAse_machinery']\n",
    "for i,spec in enumerate(spec_list_10):\n",
    "    atp_subsystem_w_use.setSpeciesAmount(spec,10)\n",
    "\n",
    "atp_subsystem_w_use.setSpeciesAmount('metabolite_atp',10) #1500000\n",
    "\n",
    "# timepoints and get WITH ATP SYNTHASE\n",
    "timepoints = np.linspace(0,200,100)\n",
    "results1, _ = atp_subsystem_w_use.simulateWithBioscrape(timepoints, sbml_warnings = False)\n",
    "\n",
    "# Get species IDs\n",
    "ATP_id = atp_subsystem_w_use.getSpeciesByName('metabolite_atp').getId()\n",
    "ADP_id = atp_subsystem_w_use.getSpeciesByName('metabolite_adp').getId()\n",
    "\n",
    "outside_H_id = atp_subsystem_w_use.getSpeciesByName('proton_outside_H').getId()\n",
    "inside_H_id = atp_subsystem_w_use.getSpeciesByName('proton_inside_H').getId()\n",
    "atp_synthase_b_protein_id = atp_subsystem_w_use.getSpeciesByName('protein_atpsyn_b').getId()\n",
    "atp_synthase_f_protein_id = atp_subsystem_w_use.getSpeciesByName('protein_atpsyn').getId()"
   ]
  },
  {
   "cell_type": "markdown",
   "metadata": {},
   "source": [
    "Perform simulations with the system with **only** ATP use, no atp synthase"
   ]
  },
  {
   "cell_type": "code",
   "execution_count": 7,
   "metadata": {},
   "outputs": [],
   "source": [
    "# SIMULATE WITHOUT ATP SYNTHASE\n",
    "#ss4_atp_use.setSpeciesAmount('proton_outside_H',10)\n",
    "ss4_atp_use.setSpeciesAmount('metabolite_atp',10)\n",
    "\n",
    "results2, _ = ss4_atp_use.simulateWithBioscrape(timepoints, sbml_warnings = False)\n",
    "\n",
    "# GET ATP species ID s\n",
    "ATP_id2 = ss4_atp_use.getSpeciesByName('metabolite_atp').getId()"
   ]
  },
  {
   "cell_type": "markdown",
   "metadata": {},
   "source": [
    "Plot!"
   ]
  },
  {
   "cell_type": "code",
   "execution_count": 8,
   "metadata": {},
   "outputs": [
    {
     "data": {
      "text/html": [
       "\n",
       "\n",
       "\n",
       "\n",
       "\n",
       "\n",
       "  <div class=\"bk-root\" id=\"c26d80fb-17d0-4a88-b6cb-5a0c6ff53996\" data-root-id=\"1221\"></div>\n"
      ]
     },
     "metadata": {},
     "output_type": "display_data"
    },
    {
     "data": {
      "application/javascript": [
       "(function(root) {\n",
       "  function embed_document(root) {\n",
       "    \n",
       "  var docs_json = {\"f3ab79b7-0c30-45da-9a32-64114b4fe572\":{\"roots\":{\"references\":[{\"attributes\":{\"children\":[{\"id\":\"1036\",\"subtype\":\"Figure\",\"type\":\"Plot\"},{\"id\":\"1113\",\"subtype\":\"Figure\",\"type\":\"Plot\"}]},\"id\":\"1221\",\"type\":\"Row\"},{\"attributes\":{\"callback\":null},\"id\":\"1039\",\"type\":\"DataRange1d\"},{\"attributes\":{\"callback\":null,\"data\":{\"x\":{\"__ndarray__\":\"AAAAAAAAAAAXqhByaWNCPxeqEHJpY1I/I/8YKx6VWz8XqhByaWNiP57UlM5D/GY/I/8YKx6Vaz/VlM5D/BZwPxeqEHJpY3I/W79SoNavdD+e1JTOQ/x2P+Hp1vywSHk/I/8YKx6Vez9mFFtZi+F9P9WUzkP8FoA/dp/v2jI9gT8XqhByaWOCP7q0MQmgiYM/W79SoNavhD/9yXM3DdaFP57UlM5D/IY/QN+1ZXoiiD/h6db8sEiJP4P095Pnboo/I/8YKx6Viz/FCTrCVLuMP2YUW1mL4Y0/Bx988MEHjz/VlM5D/BaQPyUaX48XqpA/dp/v2jI9kT/HJIAmTtCRPxeqEHJpY5I/aS+hvYT2kj+6tDEJoImTPws6wlS7HJQ/W79SoNavlD+sROPr8UKVP/3JczcN1pU/Tk8Egyhplj+e1JTOQ/yWP+9ZJRpfj5c/QN+1ZXoimD+QZEaxlbWYP+Hp1vywSJk/Mm9nSMzbmT+D9PeT526aP9N5iN8CAps/I/8YKx6Vmz90hKl2OSicP8UJOsJUu5w/FY/KDXBOnT9mFFtZi+GdP7eZ66SmdJ4/Bx988MEHnz9ZpAw83ZqfP9WUzkP8FqA/fdeW6YlgoD8lGl+PF6qgP85cJzWl86A/dp/v2jI9oT8f4reAwIahP8ckgCZO0KE/cGdIzNsZoj8XqhByaWOiP8Ds2Bf3rKI/aS+hvYT2oj8RcmljEkCjP7q0MQmgiaM/Yvf5ri3Toz8LOsJUuxykP7J8ivpIZqQ/W79SoNavpD8DAhtGZPmkP6xE4+vxQqU/VIerkX+MpT/9yXM3DdalP6UMPN2aH6Y/Tk8Egyhppj/1kcwotrKmP57UlM5D/KY/RhdddNFFpz/vWSUaX4+nP5ec7b/s2Kc/QN+1ZXoiqD/pIX4LCGyoP5BkRrGVtag/OacOVyP/qD/h6db8sEipP4osn6I+kqk/Mm9nSMzbqT/bsS/uWSWqP4P095Pnbqo/LDfAOXW4qj/TeYjfAgKrP3y8UIWQS6s/I/8YKx6Vqz/MQeHQq96rP3SEqXY5KKw/HcdxHMdxrD8=\",\"dtype\":\"float64\",\"shape\":[100]},\"y\":{\"__ndarray__\":\"AAAAAAAAAABuf69/9aTUPg4yCQfq+AM/JWPQVeREID9d4+HHBJ0yP0eu/idMjUE/r6hsLIFMTT99gj1NhHtWPxYZP4qWOWA/ANRU1C9ZZj/MjlNB0qttP5ykPcfwHnM/e7llQqAMeD8wVO0k0qJ9P0738kU38oE/s780ZcVphT9963KgwjiJP7z5TsGOX40/FkbjZyLvkD8+H7UsYlqTPxqOF8xc8ZU/28wWTdKzmD+kgILFb6GbPwMswhnSuZ4/I1zzNUT+oD/QyQYhi7SiPyQVI7B6f6Q/LaF8uMtepj8WAra9M1KoP+EGG5VlWao/xIJN9BF0rD/+wZHv56GuP2PoBbRKcbA/2GCktuOasT/UmUJIlc2yPzMhf5c1CbQ/VUL72JpNtT8xq85im5q2P/k2r8QN8Lc/X4VG3MhNuT8zp8/mo7O6PyzlLJB2Ibw/ihF3/xiXvT9qiS7hYxS/P0cDHziYTMA/HGV5PqwSwT8ObUQ5W9zBP06DxK2SqcI/Zv+UckB6wz+jq8ywUk7EP94Zp+S3JcU/lz3S3V4Axj+tnMK/Nt7GP4r4GQEvv8c/ULprazejyD8XR3oaQIrJPx46U3s5dMo/DnpbSxRhyz+JlC+XwVDMP+BIZ7kyQ80/c05GWVk4zj9Nu1tpJzDPP4FpCpNHFdA/BSkjisGT0D/eIdf/ehPRP+1JuHxtlNE/KnlIq5IW0j+NKTZX5JnSPwDMmWxcHtM/skE09/Sj0z+xk4whqCrUP9sU6jRwstQ/HKdjl0c71T/z8VDLKMXVP8QPMXAOUNY/5/2MQPPb1j+G9zwR0mjXP61jJtGl9tc/i8GaiGmF2D949KtYGBXZPz1RgHqtpdk/HCK9PiQ32j+UR/IMeMnaP90cI2OkXNs/N9MP1aTw2z9S5rULdYXcP/5V4sQQG90/KQ+00nOx3T+N7BMbmkjeP2lQOZd/4N4/fLI4UyB53z+dosY2PAngP7EMWQtCVuA/tcxdyJ+j4D9QY3WXU/HgP6Mpp6pbP+E/WzUwPLaN4T/XYlWOYdzhPwT3MetbK+I/XXSUpKN64j8=\",\"dtype\":\"float64\",\"shape\":[100]}},\"selected\":{\"id\":\"1238\",\"type\":\"Selection\"},\"selection_policy\":{\"id\":\"1237\",\"type\":\"UnionRenderers\"}},\"id\":\"1097\",\"type\":\"ColumnDataSource\"},{\"attributes\":{},\"id\":\"1155\",\"type\":\"BasicTickFormatter\"},{\"attributes\":{},\"id\":\"1153\",\"type\":\"BasicTickFormatter\"},{\"attributes\":{\"items\":[{\"id\":\"1159\",\"type\":\"LegendItem\"}]},\"id\":\"1158\",\"type\":\"Legend\"},{\"attributes\":{\"callback\":null},\"id\":\"1041\",\"type\":\"DataRange1d\"},{\"attributes\":{\"line_color\":\"#2ba02b\",\"line_width\":2,\"x\":{\"field\":\"x\"},\"y\":{\"field\":\"y\"}},\"id\":\"1098\",\"type\":\"Line\"},{\"attributes\":{},\"id\":\"1094\",\"type\":\"UnionRenderers\"},{\"attributes\":{\"line_color\":\"#ff7e0e\",\"line_width\":2,\"x\":{\"field\":\"x\"},\"y\":{\"field\":\"y\"}},\"id\":\"1084\",\"type\":\"Line\"},{\"attributes\":{\"bottom_units\":\"screen\",\"fill_alpha\":{\"value\":0.5},\"fill_color\":{\"value\":\"lightgrey\"},\"left_units\":\"screen\",\"level\":\"overlay\",\"line_alpha\":{\"value\":1.0},\"line_color\":{\"value\":\"black\"},\"line_dash\":[4,4],\"line_width\":{\"value\":2},\"render_mode\":\"css\",\"right_units\":\"screen\",\"top_units\":\"screen\"},\"id\":\"1157\",\"type\":\"BoxAnnotation\"},{\"attributes\":{},\"id\":\"1043\",\"type\":\"LinearScale\"},{\"attributes\":{\"line_alpha\":0.1,\"line_color\":\"#1f77b4\",\"line_width\":2,\"x\":{\"field\":\"x\"},\"y\":{\"field\":\"y\"}},\"id\":\"1099\",\"type\":\"Line\"},{\"attributes\":{},\"id\":\"1045\",\"type\":\"LinearScale\"},{\"attributes\":{\"data_source\":{\"id\":\"1097\",\"type\":\"ColumnDataSource\"},\"glyph\":{\"id\":\"1098\",\"type\":\"Line\"},\"hover_glyph\":null,\"muted_glyph\":null,\"nonselection_glyph\":{\"id\":\"1099\",\"type\":\"Line\"},\"selection_glyph\":null,\"view\":{\"id\":\"1101\",\"type\":\"CDSView\"}},\"id\":\"1100\",\"type\":\"GlyphRenderer\"},{\"attributes\":{\"label\":{\"value\":\"atp\"},\"renderers\":[{\"id\":\"1150\",\"type\":\"GlyphRenderer\"}]},\"id\":\"1159\",\"type\":\"LegendItem\"},{\"attributes\":{\"axis_label\":\"time (hrs)\",\"formatter\":{\"id\":\"1078\",\"type\":\"BasicTickFormatter\"},\"ticker\":{\"id\":\"1048\",\"type\":\"BasicTicker\"}},\"id\":\"1047\",\"type\":\"LinearAxis\"},{\"attributes\":{\"dimension\":1,\"ticker\":{\"id\":\"1053\",\"type\":\"BasicTicker\"}},\"id\":\"1056\",\"type\":\"Grid\"},{\"attributes\":{},\"id\":\"1048\",\"type\":\"BasicTicker\"},{\"attributes\":{\"source\":{\"id\":\"1097\",\"type\":\"ColumnDataSource\"}},\"id\":\"1101\",\"type\":\"CDSView\"},{\"attributes\":{\"text\":\"only ATP Use\"},\"id\":\"1114\",\"type\":\"Title\"},{\"attributes\":{\"ticker\":{\"id\":\"1048\",\"type\":\"BasicTicker\"}},\"id\":\"1051\",\"type\":\"Grid\"},{\"attributes\":{\"line_alpha\":0.1,\"line_color\":\"#1f77b4\",\"line_width\":2,\"x\":{\"field\":\"x\"},\"y\":{\"field\":\"y\"}},\"id\":\"1149\",\"type\":\"Line\"},{\"attributes\":{},\"id\":\"1053\",\"type\":\"BasicTicker\"},{\"attributes\":{\"axis_label\":\"concentration (nM)\",\"formatter\":{\"id\":\"1076\",\"type\":\"BasicTickFormatter\"},\"ticker\":{\"id\":\"1053\",\"type\":\"BasicTicker\"}},\"id\":\"1052\",\"type\":\"LinearAxis\"},{\"attributes\":{\"callback\":null},\"id\":\"1116\",\"type\":\"DataRange1d\"},{\"attributes\":{\"label\":{\"value\":\"bound atp synthase\"},\"renderers\":[{\"id\":\"1100\",\"type\":\"GlyphRenderer\"}]},\"id\":\"1112\",\"type\":\"LegendItem\"},{\"attributes\":{\"callback\":null},\"id\":\"1118\",\"type\":\"DataRange1d\"},{\"attributes\":{\"callback\":null,\"data\":{\"x\":{\"__ndarray__\":\"AAAAAAAAAAAXqhByaWNCPxeqEHJpY1I/I/8YKx6VWz8XqhByaWNiP57UlM5D/GY/I/8YKx6Vaz/VlM5D/BZwPxeqEHJpY3I/W79SoNavdD+e1JTOQ/x2P+Hp1vywSHk/I/8YKx6Vez9mFFtZi+F9P9WUzkP8FoA/dp/v2jI9gT8XqhByaWOCP7q0MQmgiYM/W79SoNavhD/9yXM3DdaFP57UlM5D/IY/QN+1ZXoiiD/h6db8sEiJP4P095Pnboo/I/8YKx6Viz/FCTrCVLuMP2YUW1mL4Y0/Bx988MEHjz/VlM5D/BaQPyUaX48XqpA/dp/v2jI9kT/HJIAmTtCRPxeqEHJpY5I/aS+hvYT2kj+6tDEJoImTPws6wlS7HJQ/W79SoNavlD+sROPr8UKVP/3JczcN1pU/Tk8Egyhplj+e1JTOQ/yWP+9ZJRpfj5c/QN+1ZXoimD+QZEaxlbWYP+Hp1vywSJk/Mm9nSMzbmT+D9PeT526aP9N5iN8CAps/I/8YKx6Vmz90hKl2OSicP8UJOsJUu5w/FY/KDXBOnT9mFFtZi+GdP7eZ66SmdJ4/Bx988MEHnz9ZpAw83ZqfP9WUzkP8FqA/fdeW6YlgoD8lGl+PF6qgP85cJzWl86A/dp/v2jI9oT8f4reAwIahP8ckgCZO0KE/cGdIzNsZoj8XqhByaWOiP8Ds2Bf3rKI/aS+hvYT2oj8RcmljEkCjP7q0MQmgiaM/Yvf5ri3Toz8LOsJUuxykP7J8ivpIZqQ/W79SoNavpD8DAhtGZPmkP6xE4+vxQqU/VIerkX+MpT/9yXM3DdalP6UMPN2aH6Y/Tk8Egyhppj/1kcwotrKmP57UlM5D/KY/RhdddNFFpz/vWSUaX4+nP5ec7b/s2Kc/QN+1ZXoiqD/pIX4LCGyoP5BkRrGVtag/OacOVyP/qD/h6db8sEipP4osn6I+kqk/Mm9nSMzbqT/bsS/uWSWqP4P095Pnbqo/LDfAOXW4qj/TeYjfAgKrP3y8UIWQS6s/I/8YKx6Vqz/MQeHQq96rP3SEqXY5KKw/HcdxHMdxrD8=\",\"dtype\":\"float64\",\"shape\":[100]},\"y\":{\"__ndarray__\":\"AAAAAAAAJECIE9O2jwYjQD2h3IhjXBJAYP9x3U6byz+saww7bKoTPziecVU18dc9UJLfkZ4Kvb3ALyJ29k6yvXiKNVue7jE+TOihiwGNET71g/eg6EoTvmRnKRPDlhK+IHj1er7MAz7Sqwe/3YsYPovxPziKrPM9fmuw3xHd7L0sdX+3Tww2vhq33YKXuhU+jBoaaxcd/72gn6p97fciPlywDaBfXeU90cenTaWVAb5ksWTMLwvRveBWmLRpDg2+aPO0wQ/4Oj18IFkC5awTvfqQdrkwKza9cAWNRzidmj2Y0p7V8eD8vVyJdxSM2lS9I5xRFpm0dj0hoZvmgsJ7PZqWrEUZ5Ji9gHZ9akPLpb1cKWE5STIZPlYkt9QHbZO9h2xivLonIz25GfryDBlaPd5d2bUrlYE9kBeZJVQErj0g4vUMryxMPRajNbzqYqG9yv3g/Hs6s70PsugpO6ipPfA1iyTO73m9jpxv8ASPsr04GdGlJiPVvTQGHgslDgc+gM58HLBiBr72897suKJAvZ3UWdjMcms9DPtn5NitYL3Zu8rozn1CvWYn33OG2EE9Pn4T9vVWWb2s4BF5cQcZvfp0Mxja5lu9oOssvyN4HT3bvexNmr1ivfzrFD6X1mI9V+JQhimzWr0HIdYo7v5ovVxnzZJ5KlE9jJIzTRZpeb0WUXm1OeKbPZeNKqnbXbm9C518dEXU2D2Ze7E2MLr5vQ/Kg3z78xs+9wpVFWrpP77jlpNQpB/bvJJ2bSTU0pq8st1xAXTRqzx6CaEG+cK+vAAPdBrTMcU8AHg/u5tCUzwfRTKf+v/NvIg/e6qspt88zvkQL20Zx7wUK2x8grnEPAB8Tj6xb2S8OVK1CUzc7LyW6u/VybwUPWLBZqj/Byu9JnDNNONQSD32nY6gcmdjvX4UOfkyIoE9LGThezoinr0oPv2cv5rCvcxotEHJD6Q9aQmMLUxisj0vnNwm7nKuvWDtGTG5+YS9oydzQYHAub2sNgvcmVu/vXiXkRzRX809hzfpeQFTz70wSQB9mATZPZB5uNMzyRI+gJcdoXnR7b0=\",\"dtype\":\"float64\",\"shape\":[100]}},\"selected\":{\"id\":\"1095\",\"type\":\"Selection\"},\"selection_policy\":{\"id\":\"1094\",\"type\":\"UnionRenderers\"}},\"id\":\"1070\",\"type\":\"ColumnDataSource\"},{\"attributes\":{},\"id\":\"1095\",\"type\":\"Selection\"},{\"attributes\":{\"active_drag\":\"auto\",\"active_inspect\":\"auto\",\"active_multi\":null,\"active_scroll\":\"auto\",\"active_tap\":\"auto\",\"tools\":[{\"id\":\"1057\",\"type\":\"PanTool\"},{\"id\":\"1058\",\"type\":\"WheelZoomTool\"},{\"id\":\"1059\",\"type\":\"BoxZoomTool\"},{\"id\":\"1060\",\"type\":\"SaveTool\"},{\"id\":\"1061\",\"type\":\"ResetTool\"},{\"id\":\"1062\",\"type\":\"HelpTool\"}]},\"id\":\"1063\",\"type\":\"Toolbar\"},{\"attributes\":{},\"id\":\"1120\",\"type\":\"LinearScale\"},{\"attributes\":{},\"id\":\"1122\",\"type\":\"LinearScale\"},{\"attributes\":{\"line_color\":\"#1f77b3\",\"line_width\":2,\"x\":{\"field\":\"x\"},\"y\":{\"field\":\"y\"}},\"id\":\"1071\",\"type\":\"Line\"},{\"attributes\":{},\"id\":\"1057\",\"type\":\"PanTool\"},{\"attributes\":{\"axis_label\":\"time (hrs)\",\"formatter\":{\"id\":\"1155\",\"type\":\"BasicTickFormatter\"},\"ticker\":{\"id\":\"1125\",\"type\":\"BasicTicker\"}},\"id\":\"1124\",\"type\":\"LinearAxis\"},{\"attributes\":{\"dimension\":1,\"ticker\":{\"id\":\"1130\",\"type\":\"BasicTicker\"}},\"id\":\"1133\",\"type\":\"Grid\"},{\"attributes\":{},\"id\":\"1125\",\"type\":\"BasicTicker\"},{\"attributes\":{\"overlay\":{\"id\":\"1080\",\"type\":\"BoxAnnotation\"}},\"id\":\"1059\",\"type\":\"BoxZoomTool\"},{\"attributes\":{\"ticker\":{\"id\":\"1125\",\"type\":\"BasicTicker\"}},\"id\":\"1128\",\"type\":\"Grid\"},{\"attributes\":{},\"id\":\"1060\",\"type\":\"SaveTool\"},{\"attributes\":{},\"id\":\"1061\",\"type\":\"ResetTool\"},{\"attributes\":{},\"id\":\"1130\",\"type\":\"BasicTicker\"},{\"attributes\":{\"axis_label\":\"concentration (nM)\",\"formatter\":{\"id\":\"1153\",\"type\":\"BasicTickFormatter\"},\"ticker\":{\"id\":\"1130\",\"type\":\"BasicTicker\"}},\"id\":\"1129\",\"type\":\"LinearAxis\"},{\"attributes\":{},\"id\":\"1062\",\"type\":\"HelpTool\"},{\"attributes\":{\"line_color\":\"#1f77b3\",\"line_width\":2,\"x\":{\"field\":\"x\"},\"y\":{\"field\":\"y\"}},\"id\":\"1148\",\"type\":\"Line\"},{\"attributes\":{\"callback\":null,\"data\":{\"x\":{\"__ndarray__\":\"AAAAAAAAAAAXqhByaWNCPxeqEHJpY1I/I/8YKx6VWz8XqhByaWNiP57UlM5D/GY/I/8YKx6Vaz/VlM5D/BZwPxeqEHJpY3I/W79SoNavdD+e1JTOQ/x2P+Hp1vywSHk/I/8YKx6Vez9mFFtZi+F9P9WUzkP8FoA/dp/v2jI9gT8XqhByaWOCP7q0MQmgiYM/W79SoNavhD/9yXM3DdaFP57UlM5D/IY/QN+1ZXoiiD/h6db8sEiJP4P095Pnboo/I/8YKx6Viz/FCTrCVLuMP2YUW1mL4Y0/Bx988MEHjz/VlM5D/BaQPyUaX48XqpA/dp/v2jI9kT/HJIAmTtCRPxeqEHJpY5I/aS+hvYT2kj+6tDEJoImTPws6wlS7HJQ/W79SoNavlD+sROPr8UKVP/3JczcN1pU/Tk8Egyhplj+e1JTOQ/yWP+9ZJRpfj5c/QN+1ZXoimD+QZEaxlbWYP+Hp1vywSJk/Mm9nSMzbmT+D9PeT526aP9N5iN8CAps/I/8YKx6Vmz90hKl2OSicP8UJOsJUu5w/FY/KDXBOnT9mFFtZi+GdP7eZ66SmdJ4/Bx988MEHnz9ZpAw83ZqfP9WUzkP8FqA/fdeW6YlgoD8lGl+PF6qgP85cJzWl86A/dp/v2jI9oT8f4reAwIahP8ckgCZO0KE/cGdIzNsZoj8XqhByaWOiP8Ds2Bf3rKI/aS+hvYT2oj8RcmljEkCjP7q0MQmgiaM/Yvf5ri3Toz8LOsJUuxykP7J8ivpIZqQ/W79SoNavpD8DAhtGZPmkP6xE4+vxQqU/VIerkX+MpT/9yXM3DdalP6UMPN2aH6Y/Tk8Egyhppj/1kcwotrKmP57UlM5D/KY/RhdddNFFpz/vWSUaX4+nP5ec7b/s2Kc/QN+1ZXoiqD/pIX4LCGyoP5BkRrGVtag/OacOVyP/qD/h6db8sEipP4osn6I+kqk/Mm9nSMzbqT/bsS/uWSWqP4P095Pnbqo/LDfAOXW4qj/TeYjfAgKrP3y8UIWQS6s/I/8YKx6Vqz/MQeHQq96rP3SEqXY5KKw/HcdxHMdxrD8=\",\"dtype\":\"float64\",\"shape\":[100]},\"y\":{\"__ndarray__\":\"AAAAAAAAJEBJwXc68MkQvYW1inMvrgC99pEVCWZTjLyzlQTGxsp/vOYdeOcFu1u8hJlaqeVYBLwg++gvOm4DvL1cd7aOgwK8Wb4FPeOYAbz2H5TDN64AvCQDRZQYh/+7XMZhocGx/buUiX6uatz7u85Mm7sTB/q7BhC4yLwx+Ls/09TVZVz2u3eW8eIOh/S7r1kO8Lex8rvoHCv9YNzwu0LAjxQUDu67skbJLmZj6rskzQJJuLjmu5VTPGMKDuO7E7Tr+rjG3rv2wF4vXXHXu9jN0WMBHNC7dbWJMEuNwbvOeX7LnBSXuyZF7wC6wEq7HMS4ZAWLSbsTQ4LIUFVIuwrCSyycH0e7AUEVkOfpRbv4v97zMrREu+8+qFd+fkO75r1xu8lIQrvdPDsfFRNBu6d3CQbBuj+7lXWczVdPPbuDcy+V7uM6u3FxwlyFeDi7Xm9VJBwNNrtNbejrsqEzuztre7NJNjG7UNIc9sCVLbsszkKF7r4ouwjKaBQc6CO724sdR5MiHruSg2ll7nQUu5T2ageTjgW7FTAXIEqa0bo7/+WuFAaSupBKNe/d8ZG65JWEL6fdkbo64dNvcMmRuo4sI7A5tZG65Hdy8AKhkbo4w8EwzIyRuo0OEXGVeJG64llgsV5kkbo3pa/xJ1CRuovw/jHxO5G64TtOcronkbo1h52ygxORuovS7PJM/5C63x08MxbrkLo1aYtz39aQuom02rOowpC63v8p9HGukLozS3k0O5qQuoiWyHQEhpC63OEXtc1xkLoyLWf1ll2QuoZ4tjVgSZC628MFdik1kLowD1W28iCQuoZapPa7DJC6tEvnbQrxj7pe4oXunMiPugd5JG8voI+6sg/D78F3j7papmFwVE+PugU9APHmJo+6rtOecXn+jrpaaj3yC9aOugEB3HKerY66rZd68zCFjrpWLhl0w1yOugHFt/RVNI66qVtWdegLjrpU8vT1euONuv2Ik3YNu426px8y95+SjbpQttB3MmqNuvtMb/jEQY26peMNeVcZjbpOeqz56fCMuvgQS3p8yIy6oqfp+g6gjLo=\",\"dtype\":\"float64\",\"shape\":[100]}},\"selected\":{\"id\":\"1241\",\"type\":\"Selection\"},\"selection_policy\":{\"id\":\"1240\",\"type\":\"UnionRenderers\"}},\"id\":\"1147\",\"type\":\"ColumnDataSource\"},{\"attributes\":{\"source\":{\"id\":\"1147\",\"type\":\"ColumnDataSource\"}},\"id\":\"1151\",\"type\":\"CDSView\"},{\"attributes\":{\"active_drag\":\"auto\",\"active_inspect\":\"auto\",\"active_multi\":null,\"active_scroll\":\"auto\",\"active_tap\":\"auto\",\"tools\":[{\"id\":\"1134\",\"type\":\"PanTool\"},{\"id\":\"1135\",\"type\":\"WheelZoomTool\"},{\"id\":\"1136\",\"type\":\"BoxZoomTool\"},{\"id\":\"1137\",\"type\":\"SaveTool\"},{\"id\":\"1138\",\"type\":\"ResetTool\"},{\"id\":\"1139\",\"type\":\"HelpTool\"}]},\"id\":\"1140\",\"type\":\"Toolbar\"},{\"attributes\":{\"data_source\":{\"id\":\"1147\",\"type\":\"ColumnDataSource\"},\"glyph\":{\"id\":\"1148\",\"type\":\"Line\"},\"hover_glyph\":null,\"muted_glyph\":null,\"nonselection_glyph\":{\"id\":\"1149\",\"type\":\"Line\"},\"selection_glyph\":null,\"view\":{\"id\":\"1151\",\"type\":\"CDSView\"}},\"id\":\"1150\",\"type\":\"GlyphRenderer\"},{\"attributes\":{\"label\":{\"value\":\"inside_H\"},\"renderers\":[{\"id\":\"1086\",\"type\":\"GlyphRenderer\"}]},\"id\":\"1096\",\"type\":\"LegendItem\"},{\"attributes\":{\"data_source\":{\"id\":\"1070\",\"type\":\"ColumnDataSource\"},\"glyph\":{\"id\":\"1071\",\"type\":\"Line\"},\"hover_glyph\":null,\"muted_glyph\":null,\"nonselection_glyph\":{\"id\":\"1072\",\"type\":\"Line\"},\"selection_glyph\":null,\"view\":{\"id\":\"1074\",\"type\":\"CDSView\"}},\"id\":\"1073\",\"type\":\"GlyphRenderer\"},{\"attributes\":{},\"id\":\"1134\",\"type\":\"PanTool\"},{\"attributes\":{\"line_alpha\":0.1,\"line_color\":\"#1f77b4\",\"line_width\":2,\"x\":{\"field\":\"x\"},\"y\":{\"field\":\"y\"}},\"id\":\"1072\",\"type\":\"Line\"},{\"attributes\":{\"source\":{\"id\":\"1070\",\"type\":\"ColumnDataSource\"}},\"id\":\"1074\",\"type\":\"CDSView\"},{\"attributes\":{},\"id\":\"1135\",\"type\":\"WheelZoomTool\"},{\"attributes\":{},\"id\":\"1078\",\"type\":\"BasicTickFormatter\"},{\"attributes\":{\"overlay\":{\"id\":\"1157\",\"type\":\"BoxAnnotation\"}},\"id\":\"1136\",\"type\":\"BoxZoomTool\"},{\"attributes\":{\"label\":{\"value\":\"outside_H\"},\"renderers\":[{\"id\":\"1073\",\"type\":\"GlyphRenderer\"}]},\"id\":\"1082\",\"type\":\"LegendItem\"},{\"attributes\":{},\"id\":\"1137\",\"type\":\"SaveTool\"},{\"attributes\":{\"bottom_units\":\"screen\",\"fill_alpha\":{\"value\":0.5},\"fill_color\":{\"value\":\"lightgrey\"},\"left_units\":\"screen\",\"level\":\"overlay\",\"line_alpha\":{\"value\":1.0},\"line_color\":{\"value\":\"black\"},\"line_dash\":[4,4],\"line_width\":{\"value\":2},\"render_mode\":\"css\",\"right_units\":\"screen\",\"top_units\":\"screen\"},\"id\":\"1080\",\"type\":\"BoxAnnotation\"},{\"attributes\":{},\"id\":\"1058\",\"type\":\"WheelZoomTool\"},{\"attributes\":{\"callback\":null,\"data\":{\"x\":{\"__ndarray__\":\"AAAAAAAAAAAXqhByaWNCPxeqEHJpY1I/I/8YKx6VWz8XqhByaWNiP57UlM5D/GY/I/8YKx6Vaz/VlM5D/BZwPxeqEHJpY3I/W79SoNavdD+e1JTOQ/x2P+Hp1vywSHk/I/8YKx6Vez9mFFtZi+F9P9WUzkP8FoA/dp/v2jI9gT8XqhByaWOCP7q0MQmgiYM/W79SoNavhD/9yXM3DdaFP57UlM5D/IY/QN+1ZXoiiD/h6db8sEiJP4P095Pnboo/I/8YKx6Viz/FCTrCVLuMP2YUW1mL4Y0/Bx988MEHjz/VlM5D/BaQPyUaX48XqpA/dp/v2jI9kT/HJIAmTtCRPxeqEHJpY5I/aS+hvYT2kj+6tDEJoImTPws6wlS7HJQ/W79SoNavlD+sROPr8UKVP/3JczcN1pU/Tk8Egyhplj+e1JTOQ/yWP+9ZJRpfj5c/QN+1ZXoimD+QZEaxlbWYP+Hp1vywSJk/Mm9nSMzbmT+D9PeT526aP9N5iN8CAps/I/8YKx6Vmz90hKl2OSicP8UJOsJUu5w/FY/KDXBOnT9mFFtZi+GdP7eZ66SmdJ4/Bx988MEHnz9ZpAw83ZqfP9WUzkP8FqA/fdeW6YlgoD8lGl+PF6qgP85cJzWl86A/dp/v2jI9oT8f4reAwIahP8ckgCZO0KE/cGdIzNsZoj8XqhByaWOiP8Ds2Bf3rKI/aS+hvYT2oj8RcmljEkCjP7q0MQmgiaM/Yvf5ri3Toz8LOsJUuxykP7J8ivpIZqQ/W79SoNavpD8DAhtGZPmkP6xE4+vxQqU/VIerkX+MpT/9yXM3DdalP6UMPN2aH6Y/Tk8Egyhppj/1kcwotrKmP57UlM5D/KY/RhdddNFFpz/vWSUaX4+nP5ec7b/s2Kc/QN+1ZXoiqD/pIX4LCGyoP5BkRrGVtag/OacOVyP/qD/h6db8sEipP4osn6I+kqk/Mm9nSMzbqT/bsS/uWSWqP4P095Pnbqo/LDfAOXW4qj/TeYjfAgKrP3y8UIWQS6s/I/8YKx6Vqz/MQeHQq96rP3SEqXY5KKw/HcdxHMdxrD8=\",\"dtype\":\"float64\",\"shape\":[100]},\"y\":{\"__ndarray__\":\"AAAAAAAAAAANjp0lCS7fP7ZeI3ecoxVA/zeKxJKRI0B04skq9v8jQHBA/////yNADjoAAAAAJECXJAAAAAAkQL0i3P///yNAeTn3////I0BrpQkAAAAkQFhLCQAAACRAxgz7////I0AHuvP///8jQGaK/f///yNAyM0BAAAAJECWGCwAAAAkQKsi9f///yNAmOMDAAAAJEAHCO3///8jQB+q/v///yNAX2UEAAAAJEBNiAAAAAAkQI1DBwAAACRAvP//////I0D8//////8jQB8AAAAAACRApfL/////I0ARnAMAAAAkQJoAAAAAACRAGv3/////I0B5/P////8jQGQMAAAAACRAvRUAAAAAJEDNZvP///8jQKgJAAAAACRA3///////I0Ai//////8jQI77/////yNA7uH/////I0CC//////8jQFURAAAAACRAZyYAAAAAJEBL5v////8jQDIDAAAAACRAEiUAAAAAJEANqQAAAAAkQGo8+v///yNAn5gFAAAAJEA1AAAAAAAkQDr+/////yNA+wAAAAAAJEA5AAAAAAAkQKj//////yNAugAAAAAAJED8//////8jQM4AAAAAACRA4P//////I0AbAQAAAAAkQMH+/////yNAxAAAAAAAJEB+AQAAAAAkQGX//////yNAHAMAAAAAJED+8f////8jQKsyAAAAACRATDn/////I0A0NwMAAAAkQPEF8v///yNAw9I/AAAAJEDu//////8jQO3//////yNA7v//////I0Du//////8jQO3//////yNA7f//////I0Du//////8jQO3//////yNA7///////I0Du//////8jQO///////yNA8f//////I0Dl//////8jQAsAAAAAACRAj///////I0AnAQAAAAAkQKj7/////yNAAQ8AAAAAJEBaSgAAAAAkQN/r/////yNAKtv/////I0BiHgAAAAAkQC4FAAAAACRAcDMAAAAAJECnPgAAAAAkQG+K/////yNAO30AAAAAJEDKN/////8jQFWb9v///yNABt0BAAAAJEA=\",\"dtype\":\"float64\",\"shape\":[100]}},\"selected\":{\"id\":\"1111\",\"type\":\"Selection\"},\"selection_policy\":{\"id\":\"1110\",\"type\":\"UnionRenderers\"}},\"id\":\"1083\",\"type\":\"ColumnDataSource\"},{\"attributes\":{},\"id\":\"1138\",\"type\":\"ResetTool\"},{\"attributes\":{\"data_source\":{\"id\":\"1083\",\"type\":\"ColumnDataSource\"},\"glyph\":{\"id\":\"1084\",\"type\":\"Line\"},\"hover_glyph\":null,\"muted_glyph\":null,\"nonselection_glyph\":{\"id\":\"1085\",\"type\":\"Line\"},\"selection_glyph\":null,\"view\":{\"id\":\"1087\",\"type\":\"CDSView\"}},\"id\":\"1086\",\"type\":\"GlyphRenderer\"},{\"attributes\":{\"line_alpha\":0.1,\"line_color\":\"#1f77b4\",\"line_width\":2,\"x\":{\"field\":\"x\"},\"y\":{\"field\":\"y\"}},\"id\":\"1085\",\"type\":\"Line\"},{\"attributes\":{},\"id\":\"1139\",\"type\":\"HelpTool\"},{\"attributes\":{\"source\":{\"id\":\"1083\",\"type\":\"ColumnDataSource\"}},\"id\":\"1087\",\"type\":\"CDSView\"},{\"attributes\":{},\"id\":\"1076\",\"type\":\"BasicTickFormatter\"},{\"attributes\":{},\"id\":\"1237\",\"type\":\"UnionRenderers\"},{\"attributes\":{},\"id\":\"1238\",\"type\":\"Selection\"},{\"attributes\":{},\"id\":\"1240\",\"type\":\"UnionRenderers\"},{\"attributes\":{},\"id\":\"1241\",\"type\":\"Selection\"},{\"attributes\":{},\"id\":\"1111\",\"type\":\"Selection\"},{\"attributes\":{\"click_policy\":\"hide\",\"items\":[{\"id\":\"1082\",\"type\":\"LegendItem\"},{\"id\":\"1096\",\"type\":\"LegendItem\"},{\"id\":\"1112\",\"type\":\"LegendItem\"}],\"location\":\"bottom_right\"},\"id\":\"1081\",\"type\":\"Legend\"},{\"attributes\":{\"below\":[{\"id\":\"1047\",\"type\":\"LinearAxis\"}],\"center\":[{\"id\":\"1051\",\"type\":\"Grid\"},{\"id\":\"1056\",\"type\":\"Grid\"},{\"id\":\"1081\",\"type\":\"Legend\"}],\"left\":[{\"id\":\"1052\",\"type\":\"LinearAxis\"}],\"plot_height\":350,\"plot_width\":450,\"renderers\":[{\"id\":\"1073\",\"type\":\"GlyphRenderer\"},{\"id\":\"1086\",\"type\":\"GlyphRenderer\"},{\"id\":\"1100\",\"type\":\"GlyphRenderer\"}],\"title\":{\"id\":\"1037\",\"type\":\"Title\"},\"toolbar\":{\"id\":\"1063\",\"type\":\"Toolbar\"},\"x_range\":{\"id\":\"1039\",\"type\":\"DataRange1d\"},\"x_scale\":{\"id\":\"1043\",\"type\":\"LinearScale\"},\"y_range\":{\"id\":\"1041\",\"type\":\"DataRange1d\"},\"y_scale\":{\"id\":\"1045\",\"type\":\"LinearScale\"}},\"id\":\"1036\",\"subtype\":\"Figure\",\"type\":\"Plot\"},{\"attributes\":{\"below\":[{\"id\":\"1124\",\"type\":\"LinearAxis\"}],\"center\":[{\"id\":\"1128\",\"type\":\"Grid\"},{\"id\":\"1133\",\"type\":\"Grid\"},{\"id\":\"1158\",\"type\":\"Legend\"}],\"left\":[{\"id\":\"1129\",\"type\":\"LinearAxis\"}],\"plot_height\":350,\"plot_width\":450,\"renderers\":[{\"id\":\"1150\",\"type\":\"GlyphRenderer\"}],\"title\":{\"id\":\"1114\",\"type\":\"Title\"},\"toolbar\":{\"id\":\"1140\",\"type\":\"Toolbar\"},\"x_range\":{\"id\":\"1116\",\"type\":\"DataRange1d\"},\"x_scale\":{\"id\":\"1120\",\"type\":\"LinearScale\"},\"y_range\":{\"id\":\"1118\",\"type\":\"DataRange1d\"},\"y_scale\":{\"id\":\"1122\",\"type\":\"LinearScale\"}},\"id\":\"1113\",\"subtype\":\"Figure\",\"type\":\"Plot\"},{\"attributes\":{},\"id\":\"1110\",\"type\":\"UnionRenderers\"},{\"attributes\":{\"text\":\"with ATP Synthase\"},\"id\":\"1037\",\"type\":\"Title\"}],\"root_ids\":[\"1221\"]},\"title\":\"Bokeh Application\",\"version\":\"1.4.0\"}};\n",
       "  var render_items = [{\"docid\":\"f3ab79b7-0c30-45da-9a32-64114b4fe572\",\"roots\":{\"1221\":\"c26d80fb-17d0-4a88-b6cb-5a0c6ff53996\"}}];\n",
       "  root.Bokeh.embed.embed_items_notebook(docs_json, render_items);\n",
       "\n",
       "  }\n",
       "  if (root.Bokeh !== undefined) {\n",
       "    embed_document(root);\n",
       "  } else {\n",
       "    var attempts = 0;\n",
       "    var timer = setInterval(function(root) {\n",
       "      if (root.Bokeh !== undefined) {\n",
       "        clearInterval(timer);\n",
       "        embed_document(root);\n",
       "      } else {\n",
       "        attempts++;\n",
       "        if (attempts > 100) {\n",
       "          clearInterval(timer);\n",
       "          console.log(\"Bokeh: ERROR: Unable to run BokehJS code because BokehJS library is missing\");\n",
       "        }\n",
       "      }\n",
       "    }, 10, root)\n",
       "  }\n",
       "})(window);"
      ],
      "application/vnd.bokehjs_exec.v0+json": ""
     },
     "metadata": {
      "application/vnd.bokehjs_exec.v0+json": {
       "id": "1221"
      }
     },
     "output_type": "display_data"
    },
    {
     "data": {
      "text/html": [
       "\n",
       "\n",
       "\n",
       "\n",
       "\n",
       "\n",
       "  <div class=\"bk-root\" id=\"dfca1f23-dcbb-4f51-a2d5-61547fff5cb2\" data-root-id=\"1160\"></div>\n"
      ]
     },
     "metadata": {},
     "output_type": "display_data"
    },
    {
     "data": {
      "application/javascript": [
       "(function(root) {\n",
       "  function embed_document(root) {\n",
       "    \n",
       "  var docs_json = {\"80f312c1-7d2e-423f-afd9-e66676ade48d\":{\"roots\":{\"references\":[{\"attributes\":{\"below\":[{\"id\":\"1171\",\"type\":\"LinearAxis\"}],\"center\":[{\"id\":\"1175\",\"type\":\"Grid\"},{\"id\":\"1180\",\"type\":\"Grid\"},{\"id\":\"1205\",\"type\":\"Legend\"}],\"left\":[{\"id\":\"1176\",\"type\":\"LinearAxis\"}],\"plot_height\":350,\"plot_width\":450,\"renderers\":[{\"id\":\"1197\",\"type\":\"GlyphRenderer\"},{\"id\":\"1210\",\"type\":\"GlyphRenderer\"}],\"title\":{\"id\":\"1161\",\"type\":\"Title\"},\"toolbar\":{\"id\":\"1187\",\"type\":\"Toolbar\"},\"x_range\":{\"id\":\"1163\",\"type\":\"DataRange1d\"},\"x_scale\":{\"id\":\"1167\",\"type\":\"LinearScale\"},\"y_range\":{\"id\":\"1165\",\"type\":\"DataRange1d\"},\"y_scale\":{\"id\":\"1169\",\"type\":\"LinearScale\"}},\"id\":\"1160\",\"subtype\":\"Figure\",\"type\":\"Plot\"},{\"attributes\":{\"ticker\":{\"id\":\"1172\",\"type\":\"BasicTicker\"}},\"id\":\"1175\",\"type\":\"Grid\"},{\"attributes\":{},\"id\":\"1202\",\"type\":\"BasicTickFormatter\"},{\"attributes\":{},\"id\":\"1200\",\"type\":\"BasicTickFormatter\"},{\"attributes\":{\"line_color\":\"#ff7e0e\",\"line_width\":2,\"x\":{\"field\":\"x\"},\"y\":{\"field\":\"y\"}},\"id\":\"1195\",\"type\":\"Line\"},{\"attributes\":{},\"id\":\"1177\",\"type\":\"BasicTicker\"},{\"attributes\":{\"axis_label\":\"concentration (nM)\",\"formatter\":{\"id\":\"1200\",\"type\":\"BasicTickFormatter\"},\"ticker\":{\"id\":\"1177\",\"type\":\"BasicTicker\"}},\"id\":\"1176\",\"type\":\"LinearAxis\"},{\"attributes\":{\"bottom_units\":\"screen\",\"fill_alpha\":{\"value\":0.5},\"fill_color\":{\"value\":\"lightgrey\"},\"left_units\":\"screen\",\"level\":\"overlay\",\"line_alpha\":{\"value\":1.0},\"line_color\":{\"value\":\"black\"},\"line_dash\":[4,4],\"line_width\":{\"value\":2},\"render_mode\":\"css\",\"right_units\":\"screen\",\"top_units\":\"screen\"},\"id\":\"1204\",\"type\":\"BoxAnnotation\"},{\"attributes\":{\"items\":[{\"id\":\"1206\",\"type\":\"LegendItem\"},{\"id\":\"1220\",\"type\":\"LegendItem\"}]},\"id\":\"1205\",\"type\":\"Legend\"},{\"attributes\":{\"line_alpha\":0.1,\"line_color\":\"#1f77b4\",\"line_width\":2,\"x\":{\"field\":\"x\"},\"y\":{\"field\":\"y\"}},\"id\":\"1196\",\"type\":\"Line\"},{\"attributes\":{\"callback\":null,\"data\":{\"x\":{\"__ndarray__\":\"AAAAAAAAAAB/pUCtXykAQH+lQK1fKRBAPvjggw8+GEB/pUCtXykgQN/OkJi3MyRAPvjggw8+KECeITFvZ0gsQH+lQK1fKTBAL7rooosuMkDfzpCYtzM0QI/jOI7jODZAPvjggw8+OEDuDIl5O0M6QJ4hMW9nSDxATjbZZJNNPkB/pUCtXylAQNevFKj1K0FAL7rooosuQkCHxLydITFDQN/OkJi3M0RAN9lkk002RUCP4ziO4zhGQOftDIl5O0dAPvjggw8+SECWArV+pUBJQO4MiXk7Q0pARhdddNFFS0CeITFvZ0hMQPYrBWr9Sk1ATjbZZJNNTkCmQK1fKVBPQH+lQK1fKVBAq6qqqqqqUEDXrxSo9StRQAO1fqVArVFAL7rooosuUkBbv1Kg1q9SQIfEvJ0hMVNAs8kmm2yyU0DfzpCYtzNUQAvU+pUCtVRAN9lkk002VUBj3s6QmLdVQI/jOI7jOFZAu+iiiy66VkDn7QyJeTtXQBPzdobEvFdAPvjggw8+WEBq/UqBWr9YQJYCtX6lQFlAwgcffPDBWUDuDIl5O0NaQBoS83aGxFpARhdddNFFW0ByHMdxHMdbQJ4hMW9nSFxAyiabbLLJXED2KwVq/UpdQCIxb2dIzF1ATjbZZJNNXkB6O0Ni3s5eQKZArV8pUF9A0kUXXXTRX0B/pUCtXylgQBWo9SsFamBAq6qqqqqqYEBBrV8pUOtgQNevFKj1K2FAbbLJJptsYUADtX6lQK1hQJm3MyTm7WFAL7rooosuYkDFvJ0hMW9iQFu/UqDWr2JA8cEHH3zwYkCHxLydITFjQB3HcRzHcWNAs8kmm2yyY0BJzNsZEvNjQN/OkJi3M2RAddFFF110ZEAL1PqVArVkQKHWrxSo9WRAN9lkk002ZUDN2xkS83ZlQGPezpCYt2VA+eCDDz74ZUCP4ziO4zhmQCXm7QyJeWZAu+iiiy66ZkBR61cK1PpmQOftDIl5O2dAffDBBx98Z0AT83aGxLxnQKn1KwVq/WdAPvjggw8+aEDU+pUCtX5oQGr9SoFav2hAAAAAAAAAaUA=\",\"dtype\":\"float64\",\"shape\":[100]},\"y\":{\"__ndarray__\":\"AAAAAAAAJEAExAhOwBdpP2ScwlGm04c/vumbKmQGXj8kcl5rb6O5PjblHCGf14W93pl+m6tAkD0wFuL3+n9gvfZ2N5ORgPS9YGnyUtJTgL0+FDbujburvU6ngO8AoOa9KHxaSJjACb6CulXi/f4fviD6cW5v3N297UDfZYQtGD4k7qc6OanpPVCKrtvuIvO9+GygxzFvGj7xm3mZdTvhvRZXOKTem8w9opSBHnHdqz1SXlYbiEqYvYis+LmwSr092iwnuVfIgr2elMiNyjd+vQEUuelS7AG9mNUArtQFR70gAdA8vK2jPXY1q891VIw9Ev40VVFW0j1wqUL85kXYPaDeg/UBeOW9WpnclEQn5j3gR+O7vxzxvQRRM0JKdLK9CwWnxndLN71ouWIOBVtdvTOHqddTABq9kbhi8YRhUr1qjb7NESxlvQId2UGGuTm9MhHiZEAMVD3pgOoN9nRTvZqFWRdqIkS97AlELUHnTT0FO01rAXhvPVRO/yTv/6C9AJjtiGBBpj37IPMwLg6fvd0QA4A8vIs9U/6+tzKsWz3ekEsW00f5vJlskJPQcfa8qN4nwOVdEb1Lsm14gO4JveRBfLHN7dE8qI2gTlZn3LxKcL0cOPj6PGEFrWYeHgC9q7gJO1d7BT0WVh6D0uf8vEBX8GPNf9K8St7gdiaPCT0OByccHggovR+hrbKGMEY9KKGjGPQmZb0CVNwJvTOFPTvRcIoeZKa9TWiBNQPmyD2r5Uj2aso3vYUKR/IAPde8QJVqWxBF6rxmfr45wOdRvQyzv3BiLlg9ALu5edOzMb0QwNDJ7U9mvYHgUVoxX3o9KByDY+KJZb1G9QTwzEFzvdQX59xoiH09JCfQR9z6c70ADmS0/6hcvRC9mbdYKTK9LGhHMav4a72I9cTGHiRmPf41tJQ7p3e9Iqexu6JwfT1nJAihbpdgPQAUOD6AEQ6946nhllvdSj3seiYhpLcVvdTEuXiVRUS9QPX+qoY787xQaFgOlNRNPdDuRkUmDlq9RXSebJJTVz3QZZ6rEANovWBHCKsjLp+9aOa7w6iHgD0=\",\"dtype\":\"float64\",\"shape\":[100]}},\"selected\":{\"id\":\"1391\",\"type\":\"Selection\"},\"selection_policy\":{\"id\":\"1390\",\"type\":\"UnionRenderers\"}},\"id\":\"1207\",\"type\":\"ColumnDataSource\"},{\"attributes\":{\"active_drag\":\"auto\",\"active_inspect\":\"auto\",\"active_multi\":null,\"active_scroll\":\"auto\",\"active_tap\":\"auto\",\"tools\":[{\"id\":\"1181\",\"type\":\"PanTool\"},{\"id\":\"1182\",\"type\":\"WheelZoomTool\"},{\"id\":\"1183\",\"type\":\"BoxZoomTool\"},{\"id\":\"1184\",\"type\":\"SaveTool\"},{\"id\":\"1185\",\"type\":\"ResetTool\"},{\"id\":\"1186\",\"type\":\"HelpTool\"}]},\"id\":\"1187\",\"type\":\"Toolbar\"},{\"attributes\":{\"data_source\":{\"id\":\"1194\",\"type\":\"ColumnDataSource\"},\"glyph\":{\"id\":\"1195\",\"type\":\"Line\"},\"hover_glyph\":null,\"muted_glyph\":null,\"nonselection_glyph\":{\"id\":\"1196\",\"type\":\"Line\"},\"selection_glyph\":null,\"view\":{\"id\":\"1198\",\"type\":\"CDSView\"}},\"id\":\"1197\",\"type\":\"GlyphRenderer\"},{\"attributes\":{},\"id\":\"1391\",\"type\":\"Selection\"},{\"attributes\":{\"line_color\":\"#1f77b3\",\"line_width\":2,\"x\":{\"field\":\"x\"},\"y\":{\"field\":\"y\"}},\"id\":\"1208\",\"type\":\"Line\"},{\"attributes\":{\"callback\":null,\"data\":{\"x\":{\"__ndarray__\":\"AAAAAAAAAAB/pUCtXykAQH+lQK1fKRBAPvjggw8+GEB/pUCtXykgQN/OkJi3MyRAPvjggw8+KECeITFvZ0gsQH+lQK1fKTBAL7rooosuMkDfzpCYtzM0QI/jOI7jODZAPvjggw8+OEDuDIl5O0M6QJ4hMW9nSDxATjbZZJNNPkB/pUCtXylAQNevFKj1K0FAL7rooosuQkCHxLydITFDQN/OkJi3M0RAN9lkk002RUCP4ziO4zhGQOftDIl5O0dAPvjggw8+SECWArV+pUBJQO4MiXk7Q0pARhdddNFFS0CeITFvZ0hMQPYrBWr9Sk1ATjbZZJNNTkCmQK1fKVBPQH+lQK1fKVBAq6qqqqqqUEDXrxSo9StRQAO1fqVArVFAL7rooosuUkBbv1Kg1q9SQIfEvJ0hMVNAs8kmm2yyU0DfzpCYtzNUQAvU+pUCtVRAN9lkk002VUBj3s6QmLdVQI/jOI7jOFZAu+iiiy66VkDn7QyJeTtXQBPzdobEvFdAPvjggw8+WEBq/UqBWr9YQJYCtX6lQFlAwgcffPDBWUDuDIl5O0NaQBoS83aGxFpARhdddNFFW0ByHMdxHMdbQJ4hMW9nSFxAyiabbLLJXED2KwVq/UpdQCIxb2dIzF1ATjbZZJNNXkB6O0Ni3s5eQKZArV8pUF9A0kUXXXTRX0B/pUCtXylgQBWo9SsFamBAq6qqqqqqYEBBrV8pUOtgQNevFKj1K2FAbbLJJptsYUADtX6lQK1hQJm3MyTm7WFAL7rooosuYkDFvJ0hMW9iQFu/UqDWr2JA8cEHH3zwYkCHxLydITFjQB3HcRzHcWNAs8kmm2yyY0BJzNsZEvNjQN/OkJi3M2RAddFFF110ZEAL1PqVArVkQKHWrxSo9WRAN9lkk002ZUDN2xkS83ZlQGPezpCYt2VA+eCDDz74ZUCP4ziO4zhmQCXm7QyJeWZAu+iiiy66ZkBR61cK1PpmQOftDIl5O2dAffDBBx98Z0AT83aGxLxnQKn1KwVq/WdAPvjggw8+aEDU+pUCtX5oQGr9SoFav2hAAAAAAAAAaUA=\",\"dtype\":\"float64\",\"shape\":[100]},\"y\":{\"__ndarray__\":\"AAAAAAAAJEBJwXc68MkQvYW1inMvrgC99pEVCWZTjLyzlQTGxsp/vOYdeOcFu1u8hJlaqeVYBLwg++gvOm4DvL1cd7aOgwK8Wb4FPeOYAbz2H5TDN64AvCQDRZQYh/+7XMZhocGx/buUiX6uatz7u85Mm7sTB/q7BhC4yLwx+Ls/09TVZVz2u3eW8eIOh/S7r1kO8Lex8rvoHCv9YNzwu0LAjxQUDu67skbJLmZj6rskzQJJuLjmu5VTPGMKDuO7E7Tr+rjG3rv2wF4vXXHXu9jN0WMBHNC7dbWJMEuNwbvOeX7LnBSXuyZF7wC6wEq7HMS4ZAWLSbsTQ4LIUFVIuwrCSyycH0e7AUEVkOfpRbv4v97zMrREu+8+qFd+fkO75r1xu8lIQrvdPDsfFRNBu6d3CQbBuj+7lXWczVdPPbuDcy+V7uM6u3FxwlyFeDi7Xm9VJBwNNrtNbejrsqEzuztre7NJNjG7UNIc9sCVLbsszkKF7r4ouwjKaBQc6CO724sdR5MiHruSg2ll7nQUu5T2ageTjgW7FTAXIEqa0bo7/+WuFAaSupBKNe/d8ZG65JWEL6fdkbo64dNvcMmRuo4sI7A5tZG65Hdy8AKhkbo4w8EwzIyRuo0OEXGVeJG64llgsV5kkbo3pa/xJ1CRuovw/jHxO5G64TtOcronkbo1h52ygxORuovS7PJM/5C63x08MxbrkLo1aYtz39aQuom02rOowpC63v8p9HGukLozS3k0O5qQuoiWyHQEhpC63OEXtc1xkLoyLWf1ll2QuoZ4tjVgSZC628MFdik1kLowD1W28iCQuoZapPa7DJC6tEvnbQrxj7pe4oXunMiPugd5JG8voI+6sg/D78F3j7papmFwVE+PugU9APHmJo+6rtOecXn+jrpaaj3yC9aOugEB3HKerY66rZd68zCFjrpWLhl0w1yOugHFt/RVNI66qVtWdegLjrpU8vT1euONuv2Ik3YNu426px8y95+SjbpQttB3MmqNuvtMb/jEQY26peMNeVcZjbpOeqz56fCMuvgQS3p8yIy6oqfp+g6gjLo=\",\"dtype\":\"float64\",\"shape\":[100]}},\"selected\":{\"id\":\"1219\",\"type\":\"Selection\"},\"selection_policy\":{\"id\":\"1218\",\"type\":\"UnionRenderers\"}},\"id\":\"1194\",\"type\":\"ColumnDataSource\"},{\"attributes\":{},\"id\":\"1181\",\"type\":\"PanTool\"},{\"attributes\":{\"text\":\"Compare ATP \"},\"id\":\"1161\",\"type\":\"Title\"},{\"attributes\":{\"line_alpha\":0.1,\"line_color\":\"#1f77b4\",\"line_width\":2,\"x\":{\"field\":\"x\"},\"y\":{\"field\":\"y\"}},\"id\":\"1209\",\"type\":\"Line\"},{\"attributes\":{},\"id\":\"1182\",\"type\":\"WheelZoomTool\"},{\"attributes\":{\"data_source\":{\"id\":\"1207\",\"type\":\"ColumnDataSource\"},\"glyph\":{\"id\":\"1208\",\"type\":\"Line\"},\"hover_glyph\":null,\"muted_glyph\":null,\"nonselection_glyph\":{\"id\":\"1209\",\"type\":\"Line\"},\"selection_glyph\":null,\"view\":{\"id\":\"1211\",\"type\":\"CDSView\"}},\"id\":\"1210\",\"type\":\"GlyphRenderer\"},{\"attributes\":{\"callback\":null},\"id\":\"1163\",\"type\":\"DataRange1d\"},{\"attributes\":{\"overlay\":{\"id\":\"1204\",\"type\":\"BoxAnnotation\"}},\"id\":\"1183\",\"type\":\"BoxZoomTool\"},{\"attributes\":{},\"id\":\"1184\",\"type\":\"SaveTool\"},{\"attributes\":{\"source\":{\"id\":\"1207\",\"type\":\"ColumnDataSource\"}},\"id\":\"1211\",\"type\":\"CDSView\"},{\"attributes\":{},\"id\":\"1218\",\"type\":\"UnionRenderers\"},{\"attributes\":{},\"id\":\"1185\",\"type\":\"ResetTool\"},{\"attributes\":{\"callback\":null},\"id\":\"1165\",\"type\":\"DataRange1d\"},{\"attributes\":{\"label\":{\"value\":\"ATP Synthase, ATP Use\"},\"renderers\":[{\"id\":\"1210\",\"type\":\"GlyphRenderer\"}]},\"id\":\"1220\",\"type\":\"LegendItem\"},{\"attributes\":{},\"id\":\"1390\",\"type\":\"UnionRenderers\"},{\"attributes\":{},\"id\":\"1219\",\"type\":\"Selection\"},{\"attributes\":{},\"id\":\"1186\",\"type\":\"HelpTool\"},{\"attributes\":{\"source\":{\"id\":\"1194\",\"type\":\"ColumnDataSource\"}},\"id\":\"1198\",\"type\":\"CDSView\"},{\"attributes\":{},\"id\":\"1167\",\"type\":\"LinearScale\"},{\"attributes\":{},\"id\":\"1169\",\"type\":\"LinearScale\"},{\"attributes\":{\"label\":{\"value\":\"ATP Use\"},\"renderers\":[{\"id\":\"1197\",\"type\":\"GlyphRenderer\"}]},\"id\":\"1206\",\"type\":\"LegendItem\"},{\"attributes\":{\"axis_label\":\"time (sec)\",\"formatter\":{\"id\":\"1202\",\"type\":\"BasicTickFormatter\"},\"ticker\":{\"id\":\"1172\",\"type\":\"BasicTicker\"}},\"id\":\"1171\",\"type\":\"LinearAxis\"},{\"attributes\":{\"dimension\":1,\"ticker\":{\"id\":\"1177\",\"type\":\"BasicTicker\"}},\"id\":\"1180\",\"type\":\"Grid\"},{\"attributes\":{},\"id\":\"1172\",\"type\":\"BasicTicker\"}],\"root_ids\":[\"1160\"]},\"title\":\"Bokeh Application\",\"version\":\"1.4.0\"}};\n",
       "  var render_items = [{\"docid\":\"80f312c1-7d2e-423f-afd9-e66676ade48d\",\"roots\":{\"1160\":\"dfca1f23-dcbb-4f51-a2d5-61547fff5cb2\"}}];\n",
       "  root.Bokeh.embed.embed_items_notebook(docs_json, render_items);\n",
       "\n",
       "  }\n",
       "  if (root.Bokeh !== undefined) {\n",
       "    embed_document(root);\n",
       "  } else {\n",
       "    var attempts = 0;\n",
       "    var timer = setInterval(function(root) {\n",
       "      if (root.Bokeh !== undefined) {\n",
       "        clearInterval(timer);\n",
       "        embed_document(root);\n",
       "      } else {\n",
       "        attempts++;\n",
       "        if (attempts > 100) {\n",
       "          clearInterval(timer);\n",
       "          console.log(\"Bokeh: ERROR: Unable to run BokehJS code because BokehJS library is missing\");\n",
       "        }\n",
       "      }\n",
       "    }, 10, root)\n",
       "  }\n",
       "})(window);"
      ],
      "application/vnd.bokehjs_exec.v0+json": ""
     },
     "metadata": {
      "application/vnd.bokehjs_exec.v0+json": {
       "id": "1160"
      }
     },
     "output_type": "display_data"
    }
   ],
   "source": [
    "# PLOT WITH ATP SYNTHASE\n",
    "\n",
    "plt_timepoints = timepoints/60/60\n",
    "\n",
    "p_w_atp = bokeh.plotting.figure(width = 450, height = 350, title = 'with ATP Synthase',\n",
    "                          x_axis_label = 'time (hrs)',\n",
    "                          y_axis_label = 'concentration (nM)')\n",
    "plot_list = [outside_H_id, inside_H_id, atp_synthase_b_protein_id]\n",
    "plot_str = ['outside_H', 'inside_H', 'bound atp synthase']\n",
    "# plot_list = [atp_synthase_b_protein_id, atp_synthase_f_protein_id]\n",
    "# plot_str = ['atp synthase bound', 'atp synthase free']\n",
    "for i,item in enumerate(plot_list):\n",
    "    p_w_atp.line(plt_timepoints, results1[item], line_width = 2, legend_label = plot_str[i], color = palette[i])\n",
    "    \n",
    "\n",
    "# PLOT WITHOUT ATP SYNTHASE\n",
    "p_no_atp = bokeh.plotting.figure(width = 450, height = 350, title = 'only ATP Use',\n",
    "                          x_axis_label = 'time (hrs)',\n",
    "                          y_axis_label = 'concentration (nM)')\n",
    "p_no_atp.line(plt_timepoints, results2[ATP_id2], line_width = 2, legend_label = 'atp', color = palette[0])\n",
    "\n",
    "p_compare = bokeh.plotting.figure(width = 450, height = 350, title = 'Compare ATP ',\n",
    "                          x_axis_label = 'time (sec)',\n",
    "                          y_axis_label = 'concentration (nM)')\n",
    "p_compare.line(timepoints, results2[ATP_id2], legend_label = 'ATP Use', line_width = 2, color = palette[1])\n",
    "p_compare.line(timepoints, results1[ATP_id], legend_label = 'ATP Synthase, ATP Use', line_width = 2, color = palette[0])\n",
    "\n",
    "\n",
    "p_w_atp.legend.location = 'bottom_right'\n",
    "p_w_atp.legend.click_policy = 'hide'\n",
    "\n",
    "    \n",
    "bokeh.io.show(row(p_w_atp, p_no_atp))\n",
    "bokeh.io.show(p_compare)\n",
    "\n",
    "# p_atp.line(plt_timepoints, results1[ATP_id], line_width = 2, color = palette[1], legend_label = 'with ATP Synthase, ATP Use')\n",
    "# p_atp.line(plt_timepoints, results2[ATP_id2],line_width = 2, color = palette[2],legend_label = 'ATP Use only')\n",
    "\n",
    "#bokeh.io.show(p_atp)\n"
   ]
  },
  {
   "cell_type": "code",
   "execution_count": 9,
   "metadata": {},
   "outputs": [],
   "source": [
    "p_compare.legend.click_policy = 'hide'"
   ]
  },
  {
   "cell_type": "markdown",
   "metadata": {},
   "source": [
    "Why does bound atp synthase shoot infinitely high:( got em, it's because you kept remaking the transcript silly"
   ]
  },
  {
   "cell_type": "markdown",
   "metadata": {},
   "source": [
    "## Combine all proton pump with txtl machinery\n",
    "---"
   ]
  },
  {
   "cell_type": "code",
   "execution_count": 10,
   "metadata": {},
   "outputs": [],
   "source": [
    "#ss5_pp_txtl = createSubsystem('proton_pump_tx_tl.xml', subsystemName = 'pp_txtl')\n",
    "ss5_pp_txtl = createSubsystem('proton_pump_machinery_txtl.xml', subsystemName = 'pp_txtl')\n",
    "ss6_pp_mi = createSubsystem('proton_pump_membrane_integration.xml', subsystemName = 'pp_mi')\n",
    "ss7_protontransport = createSubsystem('proton_transport_through_proton_pump.xml', subsystemName = 'protontransport')"
   ]
  },
  {
   "cell_type": "code",
   "execution_count": 11,
   "metadata": {},
   "outputs": [],
   "source": [
    "pp_subsystem = ss5_pp_txtl + ss6_pp_mi + ss7_protontransport"
   ]
  },
  {
   "cell_type": "code",
   "execution_count": 12,
   "metadata": {},
   "outputs": [],
   "source": [
    "# Initial conditions\n",
    "\n",
    "spec_list_10 = ['dna_proton_pump', 'proton_outside_H', 'protein_RNAP_machinery', \n",
    "                'protein_Ribo_machinery', 'protein_RNAse_machinery']\n",
    "for i,spec in enumerate(spec_list_10):\n",
    "    pp_subsystem.setSpeciesAmount(spec,10)\n",
    "pp_subsystem.setSpeciesAmount('metabolite_atp',10)\n",
    "\n",
    "# timepoints and get results\n",
    "timepoints = np.linspace(0,200,100)\n",
    "results, _ = pp_subsystem.simulateWithBioscrape(timepoints, sbml_warnings = False)\n",
    "\n",
    "# Get species IDs\n",
    "ATP_id = pp_subsystem.getSpeciesByName('metabolite_atp').getId()\n",
    "ADP_id = pp_subsystem.getSpeciesByName('metabolite_adp').getId()\n",
    "\n",
    "outside_H_id = pp_subsystem.getSpeciesByName('proton_outside_H').getId()\n",
    "inside_H_id = pp_subsystem.getSpeciesByName('proton_inside_H').getId()\n",
    "proton_pump_b_protein_id = pp_subsystem.getSpeciesByName('protein_proton_pump_b').getId()\n",
    "proton_pump_f_protein_id = pp_subsystem.getSpeciesByName('protein_proton_pump').getId()\n",
    "\n",
    "\n",
    "\n",
    "dna_pp = pp_subsystem.getSpeciesByName('dna_proton_pump').getId()"
   ]
  },
  {
   "cell_type": "code",
   "execution_count": 13,
   "metadata": {},
   "outputs": [
    {
     "data": {
      "text/html": [
       "\n",
       "\n",
       "\n",
       "\n",
       "\n",
       "\n",
       "  <div class=\"bk-root\" id=\"3b73d8e2-5aba-4e21-8cf6-e621c63ba5b7\" data-root-id=\"1452\"></div>\n"
      ]
     },
     "metadata": {},
     "output_type": "display_data"
    },
    {
     "data": {
      "application/javascript": [
       "(function(root) {\n",
       "  function embed_document(root) {\n",
       "    \n",
       "  var docs_json = {\"6dd07734-7e79-487f-962c-18a5164c0377\":{\"roots\":{\"references\":[{\"attributes\":{\"below\":[{\"id\":\"1463\",\"type\":\"LinearAxis\"}],\"center\":[{\"id\":\"1467\",\"type\":\"Grid\"},{\"id\":\"1472\",\"type\":\"Grid\"},{\"id\":\"1497\",\"type\":\"Legend\"}],\"left\":[{\"id\":\"1468\",\"type\":\"LinearAxis\"}],\"plot_height\":350,\"plot_width\":450,\"renderers\":[{\"id\":\"1489\",\"type\":\"GlyphRenderer\"},{\"id\":\"1502\",\"type\":\"GlyphRenderer\"},{\"id\":\"1516\",\"type\":\"GlyphRenderer\"}],\"title\":{\"id\":\"1453\",\"type\":\"Title\"},\"toolbar\":{\"id\":\"1479\",\"type\":\"Toolbar\"},\"x_range\":{\"id\":\"1455\",\"type\":\"DataRange1d\"},\"x_scale\":{\"id\":\"1459\",\"type\":\"LinearScale\"},\"y_range\":{\"id\":\"1457\",\"type\":\"DataRange1d\"},\"y_scale\":{\"id\":\"1461\",\"type\":\"LinearScale\"}},\"id\":\"1452\",\"subtype\":\"Figure\",\"type\":\"Plot\"},{\"attributes\":{\"ticker\":{\"id\":\"1464\",\"type\":\"BasicTicker\"}},\"id\":\"1467\",\"type\":\"Grid\"},{\"attributes\":{},\"id\":\"1526\",\"type\":\"UnionRenderers\"},{\"attributes\":{\"data_source\":{\"id\":\"1499\",\"type\":\"ColumnDataSource\"},\"glyph\":{\"id\":\"1500\",\"type\":\"Line\"},\"hover_glyph\":null,\"muted_glyph\":null,\"nonselection_glyph\":{\"id\":\"1501\",\"type\":\"Line\"},\"selection_glyph\":null,\"view\":{\"id\":\"1503\",\"type\":\"CDSView\"}},\"id\":\"1502\",\"type\":\"GlyphRenderer\"},{\"attributes\":{},\"id\":\"1492\",\"type\":\"BasicTickFormatter\"},{\"attributes\":{},\"id\":\"1570\",\"type\":\"Selection\"},{\"attributes\":{\"line_alpha\":0.1,\"line_color\":\"#1f77b4\",\"line_width\":2,\"x\":{\"field\":\"x\"},\"y\":{\"field\":\"y\"}},\"id\":\"1488\",\"type\":\"Line\"},{\"attributes\":{},\"id\":\"1473\",\"type\":\"PanTool\"},{\"attributes\":{\"source\":{\"id\":\"1513\",\"type\":\"ColumnDataSource\"}},\"id\":\"1517\",\"type\":\"CDSView\"},{\"attributes\":{\"dimension\":1,\"ticker\":{\"id\":\"1469\",\"type\":\"BasicTicker\"}},\"id\":\"1472\",\"type\":\"Grid\"},{\"attributes\":{},\"id\":\"1461\",\"type\":\"LinearScale\"},{\"attributes\":{\"line_color\":\"#2ba02b\",\"line_width\":2,\"x\":{\"field\":\"x\"},\"y\":{\"field\":\"y\"}},\"id\":\"1514\",\"type\":\"Line\"},{\"attributes\":{},\"id\":\"1464\",\"type\":\"BasicTicker\"},{\"attributes\":{\"line_color\":\"#ff7e0e\",\"line_width\":2,\"x\":{\"field\":\"x\"},\"y\":{\"field\":\"y\"}},\"id\":\"1500\",\"type\":\"Line\"},{\"attributes\":{},\"id\":\"1477\",\"type\":\"ResetTool\"},{\"attributes\":{\"click_policy\":\"hide\",\"items\":[{\"id\":\"1498\",\"type\":\"LegendItem\"},{\"id\":\"1512\",\"type\":\"LegendItem\"},{\"id\":\"1528\",\"type\":\"LegendItem\"}],\"location\":\"bottom_right\"},\"id\":\"1497\",\"type\":\"Legend\"},{\"attributes\":{},\"id\":\"1474\",\"type\":\"WheelZoomTool\"},{\"attributes\":{\"axis_label\":\"time (hrs)\",\"formatter\":{\"id\":\"1494\",\"type\":\"BasicTickFormatter\"},\"ticker\":{\"id\":\"1464\",\"type\":\"BasicTicker\"}},\"id\":\"1463\",\"type\":\"LinearAxis\"},{\"attributes\":{},\"id\":\"1569\",\"type\":\"UnionRenderers\"},{\"attributes\":{\"callback\":null},\"id\":\"1455\",\"type\":\"DataRange1d\"},{\"attributes\":{\"callback\":null,\"data\":{\"x\":{\"__ndarray__\":\"AAAAAAAAAAAXqhByaWNCPxeqEHJpY1I/I/8YKx6VWz8XqhByaWNiP57UlM5D/GY/I/8YKx6Vaz/VlM5D/BZwPxeqEHJpY3I/W79SoNavdD+e1JTOQ/x2P+Hp1vywSHk/I/8YKx6Vez9mFFtZi+F9P9WUzkP8FoA/dp/v2jI9gT8XqhByaWOCP7q0MQmgiYM/W79SoNavhD/9yXM3DdaFP57UlM5D/IY/QN+1ZXoiiD/h6db8sEiJP4P095Pnboo/I/8YKx6Viz/FCTrCVLuMP2YUW1mL4Y0/Bx988MEHjz/VlM5D/BaQPyUaX48XqpA/dp/v2jI9kT/HJIAmTtCRPxeqEHJpY5I/aS+hvYT2kj+6tDEJoImTPws6wlS7HJQ/W79SoNavlD+sROPr8UKVP/3JczcN1pU/Tk8Egyhplj+e1JTOQ/yWP+9ZJRpfj5c/QN+1ZXoimD+QZEaxlbWYP+Hp1vywSJk/Mm9nSMzbmT+D9PeT526aP9N5iN8CAps/I/8YKx6Vmz90hKl2OSicP8UJOsJUu5w/FY/KDXBOnT9mFFtZi+GdP7eZ66SmdJ4/Bx988MEHnz9ZpAw83ZqfP9WUzkP8FqA/fdeW6YlgoD8lGl+PF6qgP85cJzWl86A/dp/v2jI9oT8f4reAwIahP8ckgCZO0KE/cGdIzNsZoj8XqhByaWOiP8Ds2Bf3rKI/aS+hvYT2oj8RcmljEkCjP7q0MQmgiaM/Yvf5ri3Toz8LOsJUuxykP7J8ivpIZqQ/W79SoNavpD8DAhtGZPmkP6xE4+vxQqU/VIerkX+MpT/9yXM3DdalP6UMPN2aH6Y/Tk8Egyhppj/1kcwotrKmP57UlM5D/KY/RhdddNFFpz/vWSUaX4+nP5ec7b/s2Kc/QN+1ZXoiqD/pIX4LCGyoP5BkRrGVtag/OacOVyP/qD/h6db8sEipP4osn6I+kqk/Mm9nSMzbqT/bsS/uWSWqP4P095Pnbqo/LDfAOXW4qj/TeYjfAgKrP3y8UIWQS6s/I/8YKx6Vqz/MQeHQq96rP3SEqXY5KKw/HcdxHMdxrD8=\",\"dtype\":\"float64\",\"shape\":[100]},\"y\":{\"__ndarray__\":\"AAAAAAAAJEAAAAAAAAAkQAAAAAAAACRAAAAAAAAAJEAAAAAAAAAkQAAAAAAAACRAAAAAAAAAJEAAAAAAAAAkQAAAAAAAACRAAAAAAAAAJEAAAAAAAAAkQAAAAAAAACRAAAAAAAAAJEAAAAAAAAAkQAAAAAAAACRAAAAAAAAAJEAAAAAAAAAkQAAAAAAAACRAAAAAAAAAJEAAAAAAAAAkQAAAAAAAACRAAAAAAAAAJEAAAAAAAAAkQAAAAAAAACRAAAAAAAAAJEAAAAAAAAAkQAAAAAAAACRAAAAAAAAAJEAAAAAAAAAkQAAAAAAAACRAAAAAAAAAJEAAAAAAAAAkQAAAAAAAACRAAAAAAAAAJEAAAAAAAAAkQAAAAAAAACRAAAAAAAAAJEAAAAAAAAAkQAAAAAAAACRAAAAAAAAAJEAAAAAAAAAkQAAAAAAAACRAAAAAAAAAJEAAAAAAAAAkQAAAAAAAACRAAAAAAAAAJEAAAAAAAAAkQAAAAAAAACRAAAAAAAAAJEAAAAAAAAAkQAAAAAAAACRAAAAAAAAAJEAAAAAAAAAkQAAAAAAAACRAAAAAAAAAJEAAAAAAAAAkQAAAAAAAACRAAAAAAAAAJEAAAAAAAAAkQAAAAAAAACRAAAAAAAAAJEAAAAAAAAAkQAAAAAAAACRAAAAAAAAAJEAAAAAAAAAkQAAAAAAAACRAAAAAAAAAJEAAAAAAAAAkQAAAAAAAACRAAAAAAAAAJEAAAAAAAAAkQAAAAAAAACRAAAAAAAAAJEAAAAAAAAAkQAAAAAAAACRAAAAAAAAAJEAAAAAAAAAkQAAAAAAAACRAAAAAAAAAJEAAAAAAAAAkQAAAAAAAACRAAAAAAAAAJEAAAAAAAAAkQAAAAAAAACRAAAAAAAAAJEAAAAAAAAAkQAAAAAAAACRAAAAAAAAAJEAAAAAAAAAkQAAAAAAAACRAAAAAAAAAJEAAAAAAAAAkQAAAAAAAACRAAAAAAAAAJEAAAAAAAAAkQAAAAAAAACRAAAAAAAAAJEAAAAAAAAAkQAAAAAAAACRAAAAAAAAAJEA=\",\"dtype\":\"float64\",\"shape\":[100]}},\"selected\":{\"id\":\"1511\",\"type\":\"Selection\"},\"selection_policy\":{\"id\":\"1510\",\"type\":\"UnionRenderers\"}},\"id\":\"1486\",\"type\":\"ColumnDataSource\"},{\"attributes\":{},\"id\":\"1510\",\"type\":\"UnionRenderers\"},{\"attributes\":{},\"id\":\"1511\",\"type\":\"Selection\"},{\"attributes\":{\"active_drag\":\"auto\",\"active_inspect\":\"auto\",\"active_multi\":null,\"active_scroll\":\"auto\",\"active_tap\":\"auto\",\"tools\":[{\"id\":\"1473\",\"type\":\"PanTool\"},{\"id\":\"1474\",\"type\":\"WheelZoomTool\"},{\"id\":\"1475\",\"type\":\"BoxZoomTool\"},{\"id\":\"1476\",\"type\":\"SaveTool\"},{\"id\":\"1477\",\"type\":\"ResetTool\"},{\"id\":\"1478\",\"type\":\"HelpTool\"}]},\"id\":\"1479\",\"type\":\"Toolbar\"},{\"attributes\":{\"data_source\":{\"id\":\"1513\",\"type\":\"ColumnDataSource\"},\"glyph\":{\"id\":\"1514\",\"type\":\"Line\"},\"hover_glyph\":null,\"muted_glyph\":null,\"nonselection_glyph\":{\"id\":\"1515\",\"type\":\"Line\"},\"selection_glyph\":null,\"view\":{\"id\":\"1517\",\"type\":\"CDSView\"}},\"id\":\"1516\",\"type\":\"GlyphRenderer\"},{\"attributes\":{\"overlay\":{\"id\":\"1496\",\"type\":\"BoxAnnotation\"}},\"id\":\"1475\",\"type\":\"BoxZoomTool\"},{\"attributes\":{\"line_color\":\"#1f77b3\",\"line_width\":2,\"x\":{\"field\":\"x\"},\"y\":{\"field\":\"y\"}},\"id\":\"1487\",\"type\":\"Line\"},{\"attributes\":{\"source\":{\"id\":\"1499\",\"type\":\"ColumnDataSource\"}},\"id\":\"1503\",\"type\":\"CDSView\"},{\"attributes\":{},\"id\":\"1527\",\"type\":\"Selection\"},{\"attributes\":{\"callback\":null},\"id\":\"1457\",\"type\":\"DataRange1d\"},{\"attributes\":{\"label\":{\"value\":\"outside_H\"},\"renderers\":[{\"id\":\"1489\",\"type\":\"GlyphRenderer\"}]},\"id\":\"1498\",\"type\":\"LegendItem\"},{\"attributes\":{\"source\":{\"id\":\"1486\",\"type\":\"ColumnDataSource\"}},\"id\":\"1490\",\"type\":\"CDSView\"},{\"attributes\":{\"line_alpha\":0.1,\"line_color\":\"#1f77b4\",\"line_width\":2,\"x\":{\"field\":\"x\"},\"y\":{\"field\":\"y\"}},\"id\":\"1515\",\"type\":\"Line\"},{\"attributes\":{\"label\":{\"value\":\"bound proton pump\"},\"renderers\":[{\"id\":\"1516\",\"type\":\"GlyphRenderer\"}]},\"id\":\"1528\",\"type\":\"LegendItem\"},{\"attributes\":{},\"id\":\"1478\",\"type\":\"HelpTool\"},{\"attributes\":{\"axis_label\":\"concentration (nM)\",\"formatter\":{\"id\":\"1492\",\"type\":\"BasicTickFormatter\"},\"ticker\":{\"id\":\"1469\",\"type\":\"BasicTicker\"}},\"id\":\"1468\",\"type\":\"LinearAxis\"},{\"attributes\":{},\"id\":\"1494\",\"type\":\"BasicTickFormatter\"},{\"attributes\":{\"text\":\"with Proton Pump\"},\"id\":\"1453\",\"type\":\"Title\"},{\"attributes\":{},\"id\":\"1469\",\"type\":\"BasicTicker\"},{\"attributes\":{\"callback\":null,\"data\":{\"x\":{\"__ndarray__\":\"AAAAAAAAAAAXqhByaWNCPxeqEHJpY1I/I/8YKx6VWz8XqhByaWNiP57UlM5D/GY/I/8YKx6Vaz/VlM5D/BZwPxeqEHJpY3I/W79SoNavdD+e1JTOQ/x2P+Hp1vywSHk/I/8YKx6Vez9mFFtZi+F9P9WUzkP8FoA/dp/v2jI9gT8XqhByaWOCP7q0MQmgiYM/W79SoNavhD/9yXM3DdaFP57UlM5D/IY/QN+1ZXoiiD/h6db8sEiJP4P095Pnboo/I/8YKx6Viz/FCTrCVLuMP2YUW1mL4Y0/Bx988MEHjz/VlM5D/BaQPyUaX48XqpA/dp/v2jI9kT/HJIAmTtCRPxeqEHJpY5I/aS+hvYT2kj+6tDEJoImTPws6wlS7HJQ/W79SoNavlD+sROPr8UKVP/3JczcN1pU/Tk8Egyhplj+e1JTOQ/yWP+9ZJRpfj5c/QN+1ZXoimD+QZEaxlbWYP+Hp1vywSJk/Mm9nSMzbmT+D9PeT526aP9N5iN8CAps/I/8YKx6Vmz90hKl2OSicP8UJOsJUu5w/FY/KDXBOnT9mFFtZi+GdP7eZ66SmdJ4/Bx988MEHnz9ZpAw83ZqfP9WUzkP8FqA/fdeW6YlgoD8lGl+PF6qgP85cJzWl86A/dp/v2jI9oT8f4reAwIahP8ckgCZO0KE/cGdIzNsZoj8XqhByaWOiP8Ds2Bf3rKI/aS+hvYT2oj8RcmljEkCjP7q0MQmgiaM/Yvf5ri3Toz8LOsJUuxykP7J8ivpIZqQ/W79SoNavpD8DAhtGZPmkP6xE4+vxQqU/VIerkX+MpT/9yXM3DdalP6UMPN2aH6Y/Tk8Egyhppj/1kcwotrKmP57UlM5D/KY/RhdddNFFpz/vWSUaX4+nP5ec7b/s2Kc/QN+1ZXoiqD/pIX4LCGyoP5BkRrGVtag/OacOVyP/qD/h6db8sEipP4osn6I+kqk/Mm9nSMzbqT/bsS/uWSWqP4P095Pnbqo/LDfAOXW4qj/TeYjfAgKrP3y8UIWQS6s/I/8YKx6Vqz/MQeHQq96rP3SEqXY5KKw/HcdxHMdxrD8=\",\"dtype\":\"float64\",\"shape\":[100]},\"y\":{\"__ndarray__\":\"AAAAAAAAAAAAAAAAAAAAAAAAAAAAAAAAAAAAAAAAAAAAAAAAAAAAAAAAAAAAAAAAAAAAAAAAAAAAAAAAAAAAAAAAAAAAAAAAAAAAAAAAAAAAAAAAAAAAAAAAAAAAAAAAAAAAAAAAAAAAAAAAAAAAAAAAAAAAAAAAAAAAAAAAAAAAAAAAAAAAAAAAAAAAAAAAAAAAAAAAAAAAAAAAAAAAAAAAAAAAAAAAAAAAAAAAAAAAAAAAAAAAAAAAAAAAAAAAAAAAAAAAAAAAAAAAAAAAAAAAAAAAAAAAAAAAAAAAAAAAAAAAAAAAAAAAAAAAAAAAAAAAAAAAAAAAAAAAAAAAAAAAAAAAAAAAAAAAAAAAAAAAAAAAAAAAAAAAAAAAAAAAAAAAAAAAAAAAAAAAAAAAAAAAAAAAAAAAAAAAAAAAAAAAAAAAAAAAAAAAAAAAAAAAAAAAAAAAAAAAAAAAAAAAAAAAAAAAAAAAAAAAAAAAAAAAAAAAAAAAAAAAAAAAAAAAAAAAAAAAAAAAAAAAAAAAAAAAAAAAAAAAAAAAAAAAAAAAAAAAAAAAAAAAAAAAAAAAAAAAAAAAAAAAAAAAAAAAAAAAAAAAAAAAAAAAAAAAAAAAAAAAAAAAAAAAAAAAAAAAAAAAAAAAAAAAAAAAAAAAAAAAAAAAAAAAAAAAAAAAAAAAAAAAAAAAAAAAAAAAAAAAAAAAAAAAAAAAAAAAAAAAAAAAAAAAAAAAAAAAAAAAAAAAAAAAAAAAAAAAAAAAAAAAAAAAAAAAAAAAAAAAAAAAAAAAAAAAAAAAAAAAAAAAAAAAAAAAAAAAAAAAAAAAAAAAAAAAAAAAAAAAAAAAAAAAAAAAAAAAAAAAAAAAAAAAAAAAAAAAAAAAAAAAAAAAAAAAAAAAAAAAAAAAAAAAAAAAAAAAAAAAAAAAAAAAAAAAAAAAAAAAAAAAAAAAAAAAAAAAAAAAAAAAAAAAAAAAAAAAAAAAAAAAAAAAAAAAAAAAAAAAAAAAAAAAAAAAAAAAAAAAAAAAAAAAAAAAAAAAAAAAAAAAAAAAAAAAAAAAAAAAAAA=\",\"dtype\":\"float64\",\"shape\":[100]}},\"selected\":{\"id\":\"1527\",\"type\":\"Selection\"},\"selection_policy\":{\"id\":\"1526\",\"type\":\"UnionRenderers\"}},\"id\":\"1499\",\"type\":\"ColumnDataSource\"},{\"attributes\":{\"line_alpha\":0.1,\"line_color\":\"#1f77b4\",\"line_width\":2,\"x\":{\"field\":\"x\"},\"y\":{\"field\":\"y\"}},\"id\":\"1501\",\"type\":\"Line\"},{\"attributes\":{\"callback\":null,\"data\":{\"x\":{\"__ndarray__\":\"AAAAAAAAAAAXqhByaWNCPxeqEHJpY1I/I/8YKx6VWz8XqhByaWNiP57UlM5D/GY/I/8YKx6Vaz/VlM5D/BZwPxeqEHJpY3I/W79SoNavdD+e1JTOQ/x2P+Hp1vywSHk/I/8YKx6Vez9mFFtZi+F9P9WUzkP8FoA/dp/v2jI9gT8XqhByaWOCP7q0MQmgiYM/W79SoNavhD/9yXM3DdaFP57UlM5D/IY/QN+1ZXoiiD/h6db8sEiJP4P095Pnboo/I/8YKx6Viz/FCTrCVLuMP2YUW1mL4Y0/Bx988MEHjz/VlM5D/BaQPyUaX48XqpA/dp/v2jI9kT/HJIAmTtCRPxeqEHJpY5I/aS+hvYT2kj+6tDEJoImTPws6wlS7HJQ/W79SoNavlD+sROPr8UKVP/3JczcN1pU/Tk8Egyhplj+e1JTOQ/yWP+9ZJRpfj5c/QN+1ZXoimD+QZEaxlbWYP+Hp1vywSJk/Mm9nSMzbmT+D9PeT526aP9N5iN8CAps/I/8YKx6Vmz90hKl2OSicP8UJOsJUu5w/FY/KDXBOnT9mFFtZi+GdP7eZ66SmdJ4/Bx988MEHnz9ZpAw83ZqfP9WUzkP8FqA/fdeW6YlgoD8lGl+PF6qgP85cJzWl86A/dp/v2jI9oT8f4reAwIahP8ckgCZO0KE/cGdIzNsZoj8XqhByaWOiP8Ds2Bf3rKI/aS+hvYT2oj8RcmljEkCjP7q0MQmgiaM/Yvf5ri3Toz8LOsJUuxykP7J8ivpIZqQ/W79SoNavpD8DAhtGZPmkP6xE4+vxQqU/VIerkX+MpT/9yXM3DdalP6UMPN2aH6Y/Tk8Egyhppj/1kcwotrKmP57UlM5D/KY/RhdddNFFpz/vWSUaX4+nP5ec7b/s2Kc/QN+1ZXoiqD/pIX4LCGyoP5BkRrGVtag/OacOVyP/qD/h6db8sEipP4osn6I+kqk/Mm9nSMzbqT/bsS/uWSWqP4P095Pnbqo/LDfAOXW4qj/TeYjfAgKrP3y8UIWQS6s/I/8YKx6Vqz/MQeHQq96rP3SEqXY5KKw/HcdxHMdxrD8=\",\"dtype\":\"float64\",\"shape\":[100]},\"y\":{\"__ndarray__\":\"AAAAAAAAAAD9o9uk9aTUPhZbjBXq+AM/lCsPW+REID9evM3JBJ0yP9LtQ0NMjUE/NTiPOYFMTT/WGCw7hHtWP8aMfYOWOWA/UQRpzi9ZZj+cYTg80qttP+jDpMXwHnM/AahzQaAMeD9WoVoj0qJ9P3DFKUI38oE/qJNlYMVphT+s0iaawjiJPxtyvrqOX40/IKmeZCLvkD+zok8pYlqTPxEElshc8ZU/u6Z6SdKzmD8sBfrAb6GbP+mArRTSuZ4/VI/tM0T+oD8oHQYfi7SiP3gpuq16f6Q/0g/6tctepj/cAXq7M1KoPwmy+ZJlWao/690T8hF0rD93yRnt56GuPy1ftrJKcbA/CzYiteOasT98IaNGlc2yP5pc2ZU1CbQ/hW9S15pNtT9gfzhhm5q2P0aAI8MN8Lc/OqG72shNuT9IWV3lo7O6P3b+5I52Ibw/IXMv/hiXvT9mhNzfYxS/P31PgDeYTMA/JuvcPawSwT/Yuag4W9zBPzNMLa2SqcI/S9EBckB6wz8roTWwUk7EPwhGA+S3JcU/4Jcv3V4Axj9MoBa/Nt7GPxuUawAvv8c/HW+8ajejyD8IWMYZQIrJP7Opm3o5dMo/A5ijShRhyz/XaXmWwVDMP1dns7gyQ80/xGeTWFk4zj/jrqhoJzDPPwq+sJJHFdA/I4fJicGT0D+qnn3/ehPRP6rXXnxtlNE/Eg/vqpIW0j/z1NxW5JnSP5KQQGxcHtM/Z/fa9vSj0z/qhFUhqCrUP9/7hDRwstQ/E16ulkc71T8H/87KKMXVP7+B6G8OUNY/rA5QQPPb1j+IQgER0mjXP1oX9dCl9tc/3858iGmF2D+ELKFYGBXZP+/ThXqtpdk/ds3QPiQ32j+NHBYNeMnaP1eRR2OkXNs/LcAo1aTw2z9W98YLdYXcP1en9cQQG90/llTO0nOx3T+riDQbmkjeP6yTXZd/4N4/73xcUyB53z9ORdg2PAngP2pqbAtCVuA/fXRzyJ+j4D+dWo6XU/HgP+8MxKpbP+E/s+BQPLaN4T9J9neOYdzhP+vdVutbK+I/D5K5pKN64j8=\",\"dtype\":\"float64\",\"shape\":[100]}},\"selected\":{\"id\":\"1570\",\"type\":\"Selection\"},\"selection_policy\":{\"id\":\"1569\",\"type\":\"UnionRenderers\"}},\"id\":\"1513\",\"type\":\"ColumnDataSource\"},{\"attributes\":{},\"id\":\"1476\",\"type\":\"SaveTool\"},{\"attributes\":{\"label\":{\"value\":\"inside_H\"},\"renderers\":[{\"id\":\"1502\",\"type\":\"GlyphRenderer\"}]},\"id\":\"1512\",\"type\":\"LegendItem\"},{\"attributes\":{\"bottom_units\":\"screen\",\"fill_alpha\":{\"value\":0.5},\"fill_color\":{\"value\":\"lightgrey\"},\"left_units\":\"screen\",\"level\":\"overlay\",\"line_alpha\":{\"value\":1.0},\"line_color\":{\"value\":\"black\"},\"line_dash\":[4,4],\"line_width\":{\"value\":2},\"render_mode\":\"css\",\"right_units\":\"screen\",\"top_units\":\"screen\"},\"id\":\"1496\",\"type\":\"BoxAnnotation\"},{\"attributes\":{},\"id\":\"1459\",\"type\":\"LinearScale\"},{\"attributes\":{\"data_source\":{\"id\":\"1486\",\"type\":\"ColumnDataSource\"},\"glyph\":{\"id\":\"1487\",\"type\":\"Line\"},\"hover_glyph\":null,\"muted_glyph\":null,\"nonselection_glyph\":{\"id\":\"1488\",\"type\":\"Line\"},\"selection_glyph\":null,\"view\":{\"id\":\"1490\",\"type\":\"CDSView\"}},\"id\":\"1489\",\"type\":\"GlyphRenderer\"}],\"root_ids\":[\"1452\"]},\"title\":\"Bokeh Application\",\"version\":\"1.4.0\"}};\n",
       "  var render_items = [{\"docid\":\"6dd07734-7e79-487f-962c-18a5164c0377\",\"roots\":{\"1452\":\"3b73d8e2-5aba-4e21-8cf6-e621c63ba5b7\"}}];\n",
       "  root.Bokeh.embed.embed_items_notebook(docs_json, render_items);\n",
       "\n",
       "  }\n",
       "  if (root.Bokeh !== undefined) {\n",
       "    embed_document(root);\n",
       "  } else {\n",
       "    var attempts = 0;\n",
       "    var timer = setInterval(function(root) {\n",
       "      if (root.Bokeh !== undefined) {\n",
       "        clearInterval(timer);\n",
       "        embed_document(root);\n",
       "      } else {\n",
       "        attempts++;\n",
       "        if (attempts > 100) {\n",
       "          clearInterval(timer);\n",
       "          console.log(\"Bokeh: ERROR: Unable to run BokehJS code because BokehJS library is missing\");\n",
       "        }\n",
       "      }\n",
       "    }, 10, root)\n",
       "  }\n",
       "})(window);"
      ],
      "application/vnd.bokehjs_exec.v0+json": ""
     },
     "metadata": {
      "application/vnd.bokehjs_exec.v0+json": {
       "id": "1452"
      }
     },
     "output_type": "display_data"
    }
   ],
   "source": [
    "plt_timepoints = timepoints/60/60\n",
    "\n",
    "p_pp = bokeh.plotting.figure(width = 450, height = 350, title = 'with Proton Pump',\n",
    "                            x_axis_label = 'time (hrs)',\n",
    "                            y_axis_label = 'concentration (nM)')\n",
    "plot_list = [ outside_H_id, inside_H_id, proton_pump_b_protein_id]\n",
    "plot_str = [ 'outside_H', 'inside_H', 'bound proton pump']\n",
    "for i,item in enumerate(plot_list):\n",
    "    p_pp.line(plt_timepoints, results[item], line_width = 2, legend_label = plot_str[i], color = palette[i])\n",
    "    \n",
    "p_pp.legend.click_policy = 'hide'\n",
    "p_pp.legend.location = 'bottom_right'\n",
    "bokeh.io.show(p_pp)"
   ]
  },
  {
   "cell_type": "markdown",
   "metadata": {},
   "source": [
    "## Combine atp synthase and proton pump subsystems (with machinery txtl)\n",
    "---"
   ]
  },
  {
   "cell_type": "code",
   "execution_count": 14,
   "metadata": {},
   "outputs": [],
   "source": [
    "entire_subsystem = ss1_atpsyn_txtl + ss2_atpsyn_mi + ss3_atpsynthesis + ss4_atp_use + ss5_pp_txtl + ss6_pp_mi + ss7_protontransport"
   ]
  },
  {
   "cell_type": "code",
   "execution_count": 15,
   "metadata": {},
   "outputs": [],
   "source": [
    "# Initial conditions\n",
    "spec_list_10 = ['dna_proton_pump', 'dna_atpsyn','proton_outside_H']\n",
    "for i,spec in enumerate(spec_list_10):\n",
    "    entire_subsystem.setSpeciesAmount(spec,10)\n",
    "    \n",
    "\n",
    "entire_subsystem.setSpeciesAmount('metabolite_atp', 10)\n",
    "    \n",
    "x0_list_mach = ['protein_RNAP_machinery',\n",
    "          'protein_Ribo_machinery','protein_RNAse_machinery']\n",
    "for i,spec in enumerate(x0_list_mach):\n",
    "    entire_subsystem.setSpeciesAmount(spec,20)\n",
    "\n",
    "\n",
    "# timepoints and get results\n",
    "# timepoints = np.linspace(0,10,100)\n",
    "# results, _ = entire_subsystem.simulateWithBioscrape(timepoints, sbml_warnings = False)\n",
    "\n",
    "# Get species IDs\n",
    "ATP_id3 = entire_subsystem.getSpeciesByName('metabolite_atp').getId()\n",
    "ADP_id = entire_subsystem.getSpeciesByName('metabolite_adp').getId()\n",
    "\n",
    "outside_H_id = entire_subsystem.getSpeciesByName('proton_outside_H').getId()\n",
    "inside_H_id = entire_subsystem.getSpeciesByName('proton_inside_H').getId()\n",
    "\n",
    "proton_pump_b_protein_id = entire_subsystem.getSpeciesByName('protein_proton_pump_b').getId()\n",
    "proton_pump_f_protein_id = entire_subsystem.getSpeciesByName('protein_proton_pump').getId()\n",
    "\n",
    "atp_synthase_b_protein_id = entire_subsystem.getSpeciesByName('protein_atpsyn_b').getId()\n",
    "atp_synthase_f_protein_id = entire_subsystem.getSpeciesByName('protein_atpsyn').getId()\n"
   ]
  },
  {
   "cell_type": "code",
   "execution_count": 16,
   "metadata": {},
   "outputs": [],
   "source": [
    "timepoints = np.linspace(0,200,100)\n",
    "results_everything, _ = entire_subsystem.simulateWithBioscrape(timepoints, sbml_warnings = False)"
   ]
  },
  {
   "cell_type": "code",
   "execution_count": 17,
   "metadata": {},
   "outputs": [],
   "source": [
    "from bokeh.models.annotations import Title\n",
    "\n"
   ]
  },
  {
   "cell_type": "code",
   "execution_count": 18,
   "metadata": {},
   "outputs": [
    {
     "data": {
      "text/html": [
       "\n",
       "\n",
       "\n",
       "\n",
       "\n",
       "\n",
       "  <div class=\"bk-root\" id=\"aafe88b1-bed2-4c90-9d59-dbb956d912fa\" data-root-id=\"1643\"></div>\n"
      ]
     },
     "metadata": {},
     "output_type": "display_data"
    },
    {
     "data": {
      "application/javascript": [
       "(function(root) {\n",
       "  function embed_document(root) {\n",
       "    \n",
       "  var docs_json = {\"43469707-571e-4b64-9071-053fc3c18b23\":{\"roots\":{\"references\":[{\"attributes\":{\"below\":[{\"id\":\"1654\",\"type\":\"LinearAxis\"}],\"center\":[{\"id\":\"1658\",\"type\":\"Grid\"},{\"id\":\"1663\",\"type\":\"Grid\"},{\"id\":\"1688\",\"type\":\"Legend\"}],\"left\":[{\"id\":\"1659\",\"type\":\"LinearAxis\"}],\"plot_height\":350,\"plot_width\":450,\"renderers\":[{\"id\":\"1680\",\"type\":\"GlyphRenderer\"},{\"id\":\"1693\",\"type\":\"GlyphRenderer\"},{\"id\":\"1707\",\"type\":\"GlyphRenderer\"},{\"id\":\"1723\",\"type\":\"GlyphRenderer\"}],\"title\":{\"id\":\"1644\",\"type\":\"Title\"},\"toolbar\":{\"id\":\"1670\",\"type\":\"Toolbar\"},\"x_range\":{\"id\":\"1646\",\"type\":\"DataRange1d\"},\"x_scale\":{\"id\":\"1650\",\"type\":\"LinearScale\"},\"y_range\":{\"id\":\"1648\",\"type\":\"DataRange1d\"},\"y_scale\":{\"id\":\"1652\",\"type\":\"LinearScale\"}},\"id\":\"1643\",\"subtype\":\"Figure\",\"type\":\"Plot\"},{\"attributes\":{\"callback\":null,\"data\":{\"x\":{\"__ndarray__\":\"AAAAAAAAAAAXqhByaWNCPxeqEHJpY1I/I/8YKx6VWz8XqhByaWNiP57UlM5D/GY/I/8YKx6Vaz/VlM5D/BZwPxeqEHJpY3I/W79SoNavdD+e1JTOQ/x2P+Hp1vywSHk/I/8YKx6Vez9mFFtZi+F9P9WUzkP8FoA/dp/v2jI9gT8XqhByaWOCP7q0MQmgiYM/W79SoNavhD/9yXM3DdaFP57UlM5D/IY/QN+1ZXoiiD/h6db8sEiJP4P095Pnboo/I/8YKx6Viz/FCTrCVLuMP2YUW1mL4Y0/Bx988MEHjz/VlM5D/BaQPyUaX48XqpA/dp/v2jI9kT/HJIAmTtCRPxeqEHJpY5I/aS+hvYT2kj+6tDEJoImTPws6wlS7HJQ/W79SoNavlD+sROPr8UKVP/3JczcN1pU/Tk8Egyhplj+e1JTOQ/yWP+9ZJRpfj5c/QN+1ZXoimD+QZEaxlbWYP+Hp1vywSJk/Mm9nSMzbmT+D9PeT526aP9N5iN8CAps/I/8YKx6Vmz90hKl2OSicP8UJOsJUu5w/FY/KDXBOnT9mFFtZi+GdP7eZ66SmdJ4/Bx988MEHnz9ZpAw83ZqfP9WUzkP8FqA/fdeW6YlgoD8lGl+PF6qgP85cJzWl86A/dp/v2jI9oT8f4reAwIahP8ckgCZO0KE/cGdIzNsZoj8XqhByaWOiP8Ds2Bf3rKI/aS+hvYT2oj8RcmljEkCjP7q0MQmgiaM/Yvf5ri3Toz8LOsJUuxykP7J8ivpIZqQ/W79SoNavpD8DAhtGZPmkP6xE4+vxQqU/VIerkX+MpT/9yXM3DdalP6UMPN2aH6Y/Tk8Egyhppj/1kcwotrKmP57UlM5D/KY/RhdddNFFpz/vWSUaX4+nP5ec7b/s2Kc/QN+1ZXoiqD/pIX4LCGyoP5BkRrGVtag/OacOVyP/qD/h6db8sEipP4osn6I+kqk/Mm9nSMzbqT/bsS/uWSWqP4P095Pnbqo/LDfAOXW4qj/TeYjfAgKrP3y8UIWQS6s/I/8YKx6Vqz/MQeHQq96rP3SEqXY5KKw/HcdxHMdxrD8=\",\"dtype\":\"float64\",\"shape\":[100]},\"y\":{\"__ndarray__\":\"AAAAAAAAAADHEvStArnUPh7uh/a5AgQ//7Y4hDVKID/S7QC8jqEyP3I2P1CzkEE/zNBryDRRTT9PY8puln5WPyYWooyDO2A/B0kea4dbZj9Brcnyma5tPyjRNQaPIHM/V/Ud2XoOeD8KCLGr6qR9P0eT/SRj84E/zdfBZhFrhT9G79gqLzqJP6rXWCMcYY0/sj9rn/nvkD/HabH7SVuTP+TYtDlV8pU/6W3/W9u0mD8SbyVviaKbPwYunVL8up4/v79fkuH+oD+mrVCyMLWiP+AWfGkogKQ/vU47jIFfpj9gI2+c8VKoP5ToUG0rWqo/jyh/tN90rD8CCeaEvaKuP4sGrV+5cbA/6PJAOVabsT8u3K6XC86yPxJzM6mvCbQ/UYeHohhOtT+lfJPZHJu2P41NzN2S8Lc/Sn/1jFFOuT8AmlYkMLS6P4v0vU8GIrw/0r0wNqyXvT8otG6E+hS/P59NqjrlTMA/psaT7PoSwT9cp6GNq9zBP0KIJqPkqcI/L3TFA5R6wz8O45jYp07EP6F77Z0OJsU/zuuSI7cAxj94s/CMkN7GP571yVCKv8c/cX28OJSjyD9as5JgnorJP9mXbDWZdMo/5ALBdHVhyz+bVj4rJFHMP2cwrrOWQ80/4f3xtL44zj/zlwYijjDPP4mzqpt7FdA/UHbZPPaT0D+uVnlasBPRP6idKX2jlNE/jnlwT8kW0j9wA/ucG5rSP3hr6lGUHtM/RtAIei2k0z9tZgdA4SrUPzrHv+ypstQ/C4p75oE71T/BAz6wY8XVP3FQD+lJUNY/EAFLSy/c1j/+wfGrDmnXP9uQAfri9tc/75XQPaeF2D/iPzyYVhXZP+IjCkPspdk//rS7jmM32j9Unhzit8naP2QcTLvkXNs/geqjruXw2z8Iej9ltoXcP9XmxpxSG90/lKZHJ7ax3T9qba7q3EjeP+KCOeDC4N4/o639E2R53z9heTxSXgngP+BGGGFkVuA/SuOfV8Kj4D9JPHdfdvHgPwP3pqp+P+E/VQVtc9mN4T+MgA78hNzhP4Ogqo5/K+I/57MOfcd64j8=\",\"dtype\":\"float64\",\"shape\":[100]}},\"selected\":{\"id\":\"1736\",\"type\":\"Selection\"},\"selection_policy\":{\"id\":\"1735\",\"type\":\"UnionRenderers\"}},\"id\":\"1704\",\"type\":\"ColumnDataSource\"},{\"attributes\":{},\"id\":\"1685\",\"type\":\"BasicTickFormatter\"},{\"attributes\":{\"line_color\":\"#1f77b3\",\"line_width\":2,\"x\":{\"field\":\"x\"},\"y\":{\"field\":\"y\"}},\"id\":\"1678\",\"type\":\"Line\"},{\"attributes\":{\"callback\":null,\"data\":{\"x\":{\"__ndarray__\":\"AAAAAAAAAAAXqhByaWNCPxeqEHJpY1I/I/8YKx6VWz8XqhByaWNiP57UlM5D/GY/I/8YKx6Vaz/VlM5D/BZwPxeqEHJpY3I/W79SoNavdD+e1JTOQ/x2P+Hp1vywSHk/I/8YKx6Vez9mFFtZi+F9P9WUzkP8FoA/dp/v2jI9gT8XqhByaWOCP7q0MQmgiYM/W79SoNavhD/9yXM3DdaFP57UlM5D/IY/QN+1ZXoiiD/h6db8sEiJP4P095Pnboo/I/8YKx6Viz/FCTrCVLuMP2YUW1mL4Y0/Bx988MEHjz/VlM5D/BaQPyUaX48XqpA/dp/v2jI9kT/HJIAmTtCRPxeqEHJpY5I/aS+hvYT2kj+6tDEJoImTPws6wlS7HJQ/W79SoNavlD+sROPr8UKVP/3JczcN1pU/Tk8Egyhplj+e1JTOQ/yWP+9ZJRpfj5c/QN+1ZXoimD+QZEaxlbWYP+Hp1vywSJk/Mm9nSMzbmT+D9PeT526aP9N5iN8CAps/I/8YKx6Vmz90hKl2OSicP8UJOsJUu5w/FY/KDXBOnT9mFFtZi+GdP7eZ66SmdJ4/Bx988MEHnz9ZpAw83ZqfP9WUzkP8FqA/fdeW6YlgoD8lGl+PF6qgP85cJzWl86A/dp/v2jI9oT8f4reAwIahP8ckgCZO0KE/cGdIzNsZoj8XqhByaWOiP8Ds2Bf3rKI/aS+hvYT2oj8RcmljEkCjP7q0MQmgiaM/Yvf5ri3Toz8LOsJUuxykP7J8ivpIZqQ/W79SoNavpD8DAhtGZPmkP6xE4+vxQqU/VIerkX+MpT/9yXM3DdalP6UMPN2aH6Y/Tk8Egyhppj/1kcwotrKmP57UlM5D/KY/RhdddNFFpz/vWSUaX4+nP5ec7b/s2Kc/QN+1ZXoiqD/pIX4LCGyoP5BkRrGVtag/OacOVyP/qD/h6db8sEipP4osn6I+kqk/Mm9nSMzbqT/bsS/uWSWqP4P095Pnbqo/LDfAOXW4qj/TeYjfAgKrP3y8UIWQS6s/I/8YKx6Vqz/MQeHQq96rP3SEqXY5KKw/HcdxHMdxrD8=\",\"dtype\":\"float64\",\"shape\":[100]},\"y\":{\"__ndarray__\":\"AAAAAAAAJEDn91WGXv8jQBZ3IeQl+yNAq658l2fwI0C7LgvsKt0jQJGDH/ujwCNAAjIDrTWbI0Aal1D/MW4jQEBoDPpxOyNAoqKaCu4EI0AAwMdzc8wiQBEyfOZ9kyJA/7SRyy1bIkD3jtuCTyQiQCirJexp7yFAHubfPM68IUBjIhI0powhQHTSRaz/XiFAmPELedUzIUBdutX3FQshQPeG68en5CBAmjY7G23AIED3RD0BRp4gQFHT+PERfiBAmyku1LBfIECQ7yKhA0MgQHFn6sjsJyBAGo4haVAOIEAJjjLIKOwfQA2dWchAvh9AgNNKpLuSH0DCPNKAb2kfQJ0pUrM1Qh9A9G4qg+ocH0AkqQX7bPkeQLRIRLOe1x5Ak8lpn2O3HkADPvLdoZgeQL4i7opBex5ApPPElSxfHkBKCDqaTkQeQNIrV7yUKh5ABuqaie0RHkD2I/DSSPodQECFVZ6X4x1AKB3WAczNHUBoNyMS2bgdQAiWq8yypB1A7m2SBE6RHUBOwGlRoH4dQK+0YP+fbB1A1xHxAERbHUDU2dHhg0odQFTU4bpXOh1AA15kJ7gqHUDkxhQ7nhsdQHDnvHgDDR1A3qP+yuH+HEC51/B5M/EcQNZhfSjz4xxA8p8VyhvXHEA0PcSeqMocQFK3UC2VvhxAzpZfPt2yHEAfGubXfKccQNs87ThwnBxASlzK1bORHEAZa3VURIccQOMDZIkefRxAhMJsdD9zHEBCS+U9pGkcQFwhMzRKYBxAoVNLyS5XHEDk1H6QT04cQPCeZTyqRRxAW6cMnTw9HEAjswCeBDUcQPn/aEQALRxA6dKRry0lHEC2xhUSix0cQMQRY7gWFhxAowTlAM8OHEAlt09dsgccQAXtWVO/ABxAoc3XdvT5G0CbZEJuUPMbQN1b2+7R7BtATScCu3fmG0BbvyOlQOAbQHxxn4or2htAbsD0VTfUG0DMSL39Ys4bQM7Qk4KtyBtAzX0+8BXDG0CriWlcm70bQGJRC+Y8uBtAQSN3tfmyG0CFPaT60K0bQOdoMu/BqBtAglcG08ujG0A=\",\"dtype\":\"float64\",\"shape\":[100]}},\"selected\":{\"id\":\"1702\",\"type\":\"Selection\"},\"selection_policy\":{\"id\":\"1701\",\"type\":\"UnionRenderers\"}},\"id\":\"1677\",\"type\":\"ColumnDataSource\"},{\"attributes\":{\"callback\":null,\"data\":{\"x\":{\"__ndarray__\":\"AAAAAAAAAAAXqhByaWNCPxeqEHJpY1I/I/8YKx6VWz8XqhByaWNiP57UlM5D/GY/I/8YKx6Vaz/VlM5D/BZwPxeqEHJpY3I/W79SoNavdD+e1JTOQ/x2P+Hp1vywSHk/I/8YKx6Vez9mFFtZi+F9P9WUzkP8FoA/dp/v2jI9gT8XqhByaWOCP7q0MQmgiYM/W79SoNavhD/9yXM3DdaFP57UlM5D/IY/QN+1ZXoiiD/h6db8sEiJP4P095Pnboo/I/8YKx6Viz/FCTrCVLuMP2YUW1mL4Y0/Bx988MEHjz/VlM5D/BaQPyUaX48XqpA/dp/v2jI9kT/HJIAmTtCRPxeqEHJpY5I/aS+hvYT2kj+6tDEJoImTPws6wlS7HJQ/W79SoNavlD+sROPr8UKVP/3JczcN1pU/Tk8Egyhplj+e1JTOQ/yWP+9ZJRpfj5c/QN+1ZXoimD+QZEaxlbWYP+Hp1vywSJk/Mm9nSMzbmT+D9PeT526aP9N5iN8CAps/I/8YKx6Vmz90hKl2OSicP8UJOsJUu5w/FY/KDXBOnT9mFFtZi+GdP7eZ66SmdJ4/Bx988MEHnz9ZpAw83ZqfP9WUzkP8FqA/fdeW6YlgoD8lGl+PF6qgP85cJzWl86A/dp/v2jI9oT8f4reAwIahP8ckgCZO0KE/cGdIzNsZoj8XqhByaWOiP8Ds2Bf3rKI/aS+hvYT2oj8RcmljEkCjP7q0MQmgiaM/Yvf5ri3Toz8LOsJUuxykP7J8ivpIZqQ/W79SoNavpD8DAhtGZPmkP6xE4+vxQqU/VIerkX+MpT/9yXM3DdalP6UMPN2aH6Y/Tk8Egyhppj/1kcwotrKmP57UlM5D/KY/RhdddNFFpz/vWSUaX4+nP5ec7b/s2Kc/QN+1ZXoiqD/pIX4LCGyoP5BkRrGVtag/OacOVyP/qD/h6db8sEipP4osn6I+kqk/Mm9nSMzbqT/bsS/uWSWqP4P095Pnbqo/LDfAOXW4qj/TeYjfAgKrP3y8UIWQS6s/I/8YKx6Vqz/MQeHQq96rP3SEqXY5KKw/HcdxHMdxrD8=\",\"dtype\":\"float64\",\"shape\":[100]},\"y\":{\"__ndarray__\":\"AAAAAAAAAACKEvStArnUPuzth/a5AgQ/4bY4hDVKID+07QC8jqEyP1k2P1CzkEE/qdBryDRRTT83Y8puln5WPxYWooyDO2A/80gea4dbZj8prcnyma5tPxvRNQaPIHM/SPUd2XoOeD/5B7Gr6qR9Pz6T/SRj84E/wdfBZhFrhT8479gqLzqJP5vXWCMcYY0/qj9rn/nvkD++abH7SVuTP9vYtDlV8pU/3W3/W9u0mD8FbyVviaKbP/ctnVL8up4/t79fkuH+oD+erVCyMLWiP9YWfGkogKQ/tE47jIFfpj9VI2+c8VKoP4noUG0rWqo/hCh/tN90rD/2COaEvaKuP4QGrV+5cbA/4fJAOVabsT8m3K6XC86yPwlzM6mvCbQ/R4eHohhOtT+bfJPZHJu2P4RNzN2S8Lc/QH/1jFFOuT/2mVYkMLS6P4H0vU8GIrw/yL0wNqyXvT8etG6E+hS/P5lNqjrlTMA/oMaT7PoSwT9Wp6GNq9zBPzyIJqPkqcI/KXTFA5R6wz8H45jYp07EP5p77Z0OJsU/x+uSI7cAxj9xs/CMkN7GP5f1yVCKv8c/an28OJSjyD9Ts5JgnorJP9KXbDWZdMo/3QLBdHVhyz+UVj4rJFHMP18wrrOWQ80/2f3xtL44zj/rlwYijjDPP4Wzqpt7FdA/THbZPPaT0D+pVnlasBPRP6OdKX2jlNE/inlwT8kW0j9rA/ucG5rSP3Fr6lGUHtM/P9AIei2k0z9lZgdA4SrUPzLHv+ypstQ/Aop75oE71T+4Az6wY8XVP2hQD+lJUNY/BgFLSy/c1j/0wfGrDmnXP9GQAfri9tc/5pXQPaeF2D/ZPzyYVhXZP9kjCkPspdk/9bS7jmM32j9Lnhzit8naP1ocTLvkXNs/d+qjruXw2z/+eT9ltoXcP8vmxpxSG90/iqZHJ7ax3T9fba7q3EjeP9eCOeDC4N4/mK39E2R53z9ceTxSXgngP9tGGGFkVuA/ReOfV8Kj4D9EPHdfdvHgP/32pqp+P+E/TwVtc9mN4T+GgA78hNzhP32gqo5/K+I/4LMOfcd64j8=\",\"dtype\":\"float64\",\"shape\":[100]}},\"selected\":{\"id\":\"1944\",\"type\":\"Selection\"},\"selection_policy\":{\"id\":\"1943\",\"type\":\"UnionRenderers\"}},\"id\":\"1720\",\"type\":\"ColumnDataSource\"},{\"attributes\":{},\"id\":\"1683\",\"type\":\"BasicTickFormatter\"},{\"attributes\":{\"active_drag\":\"auto\",\"active_inspect\":\"auto\",\"active_multi\":null,\"active_scroll\":\"auto\",\"active_tap\":\"auto\",\"tools\":[{\"id\":\"1664\",\"type\":\"PanTool\"},{\"id\":\"1665\",\"type\":\"WheelZoomTool\"},{\"id\":\"1666\",\"type\":\"BoxZoomTool\"},{\"id\":\"1667\",\"type\":\"SaveTool\"},{\"id\":\"1668\",\"type\":\"ResetTool\"},{\"id\":\"1669\",\"type\":\"HelpTool\"}]},\"id\":\"1670\",\"type\":\"Toolbar\"},{\"attributes\":{\"data_source\":{\"id\":\"1704\",\"type\":\"ColumnDataSource\"},\"glyph\":{\"id\":\"1705\",\"type\":\"Line\"},\"hover_glyph\":null,\"muted_glyph\":null,\"nonselection_glyph\":{\"id\":\"1706\",\"type\":\"Line\"},\"selection_glyph\":null,\"view\":{\"id\":\"1708\",\"type\":\"CDSView\"}},\"id\":\"1707\",\"type\":\"GlyphRenderer\"},{\"attributes\":{\"source\":{\"id\":\"1690\",\"type\":\"ColumnDataSource\"}},\"id\":\"1694\",\"type\":\"CDSView\"},{\"attributes\":{},\"id\":\"1717\",\"type\":\"UnionRenderers\"},{\"attributes\":{\"label\":{\"value\":\"bound atp synthase\"},\"renderers\":[{\"id\":\"1707\",\"type\":\"GlyphRenderer\"}]},\"id\":\"1719\",\"type\":\"LegendItem\"},{\"attributes\":{\"text\":\"with ATP Synthase, Proton Pump, ATP Use\"},\"id\":\"1644\",\"type\":\"Title\"},{\"attributes\":{},\"id\":\"1664\",\"type\":\"PanTool\"},{\"attributes\":{\"callback\":null,\"data\":{\"x\":{\"__ndarray__\":\"AAAAAAAAAAAXqhByaWNCPxeqEHJpY1I/I/8YKx6VWz8XqhByaWNiP57UlM5D/GY/I/8YKx6Vaz/VlM5D/BZwPxeqEHJpY3I/W79SoNavdD+e1JTOQ/x2P+Hp1vywSHk/I/8YKx6Vez9mFFtZi+F9P9WUzkP8FoA/dp/v2jI9gT8XqhByaWOCP7q0MQmgiYM/W79SoNavhD/9yXM3DdaFP57UlM5D/IY/QN+1ZXoiiD/h6db8sEiJP4P095Pnboo/I/8YKx6Viz/FCTrCVLuMP2YUW1mL4Y0/Bx988MEHjz/VlM5D/BaQPyUaX48XqpA/dp/v2jI9kT/HJIAmTtCRPxeqEHJpY5I/aS+hvYT2kj+6tDEJoImTPws6wlS7HJQ/W79SoNavlD+sROPr8UKVP/3JczcN1pU/Tk8Egyhplj+e1JTOQ/yWP+9ZJRpfj5c/QN+1ZXoimD+QZEaxlbWYP+Hp1vywSJk/Mm9nSMzbmT+D9PeT526aP9N5iN8CAps/I/8YKx6Vmz90hKl2OSicP8UJOsJUu5w/FY/KDXBOnT9mFFtZi+GdP7eZ66SmdJ4/Bx988MEHnz9ZpAw83ZqfP9WUzkP8FqA/fdeW6YlgoD8lGl+PF6qgP85cJzWl86A/dp/v2jI9oT8f4reAwIahP8ckgCZO0KE/cGdIzNsZoj8XqhByaWOiP8Ds2Bf3rKI/aS+hvYT2oj8RcmljEkCjP7q0MQmgiaM/Yvf5ri3Toz8LOsJUuxykP7J8ivpIZqQ/W79SoNavpD8DAhtGZPmkP6xE4+vxQqU/VIerkX+MpT/9yXM3DdalP6UMPN2aH6Y/Tk8Egyhppj/1kcwotrKmP57UlM5D/KY/RhdddNFFpz/vWSUaX4+nP5ec7b/s2Kc/QN+1ZXoiqD/pIX4LCGyoP5BkRrGVtag/OacOVyP/qD/h6db8sEipP4osn6I+kqk/Mm9nSMzbqT/bsS/uWSWqP4P095Pnbqo/LDfAOXW4qj/TeYjfAgKrP3y8UIWQS6s/I/8YKx6Vqz/MQeHQq96rP3SEqXY5KKw/HcdxHMdxrD8=\",\"dtype\":\"float64\",\"shape\":[100]},\"y\":{\"__ndarray__\":\"AAAAAAAAAADTQgNBNS9UP/GrI3pvaIM/cq2iBtEwnz+3omj6iWqxP4E3PnACrr8/tX8zv5QyyT8CHe0VwDnSP0X4cr7Akdg/wKurrD5i3z/n/4PDyDjjP+nePJghyOY/8q/kRiNN6j9lEEfSB7vtP7Cm0p6whPA/Ac8AGY4Z8j/V7G5fzprzP09s0Z0CCPU/NnOgN1Rh9j8ILVJBUKf3PzTIo8DB2vg/KUsmJpf8+T882BX2zw37P2tlOXBwD/w/HbOOXnkC/T9xg+j24uf9P2vErLiZwP4/J4/ztnyN/z/n45pvricAQNzFTG9+gwBA9lhqt4jaAEByhlv+IC0BQLysW5mUewFADSKr+SrGAUCvrfQJJg0CQI5ud5nCUAJA0GwswTiRAkDzgxtEvM4CQH26I+p8CQNAtBh21KZBA0Bo74vLYncDQFioUYfWqgNA7SvK7CTcA0AOuB9abgsEQHn1VMPQOARArcVT/GdkBEAtkbnbTY4EQOzTqGaatgRAHyTb9mPdBEBcfyxdvwIFQJiWPgHAJgVASNwd/ndJBUBNTFw8+GoFQE5XPIpQiwVA8UM3sY+qBUAuctaJw8gFQBUxhg755QVAO7gCajwCBkCHUB4MmR0GQFE8Ba8ZOAZAF8DUa8hRBkCThXfCrmoGQFWRXqXVggZAX9JAg0WaBkC8yzNQBrEGQESGJY4fxwZAZEdrVJjcBkDIKRVXd/EGQDX4N+3CBQdA8nomF4EZB0B3aTWEtywHQEK9mZdrPwdAuVhpbaJRB0A0VgLfYGMHQBzCNIerdAdARrHmxYaFB0C4mf7D9pUHQA4ALnf/pQdALlrcoKS1B0CSctTb6cQHQHTcOY/S0wdAtvY1/mHiB0CxkWBFm/AHQPMlTFmB/gdAumRQEhcMCEDFNnsjXxkIQEBISSJcJghAYLH7iRAzCEBCgbi1fj8IQAIdweqoSwhAH38WVJFXCEBhboUEOmMIQF5e2PqkbghAYASDH9R5CECk7CxHyYQIQDNd6TOGjwhAdLkRlQyaCEDrhLcKXqQIQCYumyF8rghA8VDzWWi4CEA=\",\"dtype\":\"float64\",\"shape\":[100]}},\"selected\":{\"id\":\"1718\",\"type\":\"Selection\"},\"selection_policy\":{\"id\":\"1717\",\"type\":\"UnionRenderers\"}},\"id\":\"1690\",\"type\":\"ColumnDataSource\"},{\"attributes\":{},\"id\":\"1718\",\"type\":\"Selection\"},{\"attributes\":{\"line_alpha\":0.1,\"line_color\":\"#1f77b4\",\"line_width\":2,\"x\":{\"field\":\"x\"},\"y\":{\"field\":\"y\"}},\"id\":\"1692\",\"type\":\"Line\"},{\"attributes\":{\"source\":{\"id\":\"1704\",\"type\":\"ColumnDataSource\"}},\"id\":\"1708\",\"type\":\"CDSView\"},{\"attributes\":{},\"id\":\"1943\",\"type\":\"UnionRenderers\"},{\"attributes\":{\"callback\":null},\"id\":\"1646\",\"type\":\"DataRange1d\"},{\"attributes\":{},\"id\":\"1665\",\"type\":\"WheelZoomTool\"},{\"attributes\":{},\"id\":\"1650\",\"type\":\"LinearScale\"},{\"attributes\":{\"line_color\":\"#ff7e0e\",\"line_width\":2,\"x\":{\"field\":\"x\"},\"y\":{\"field\":\"y\"}},\"id\":\"1691\",\"type\":\"Line\"},{\"attributes\":{\"overlay\":{\"id\":\"1687\",\"type\":\"BoxAnnotation\"}},\"id\":\"1666\",\"type\":\"BoxZoomTool\"},{\"attributes\":{\"label\":{\"value\":\"inside_H\"},\"renderers\":[{\"id\":\"1693\",\"type\":\"GlyphRenderer\"}]},\"id\":\"1703\",\"type\":\"LegendItem\"},{\"attributes\":{\"line_color\":\"#9367bc\",\"line_width\":2,\"x\":{\"field\":\"x\"},\"y\":{\"field\":\"y\"}},\"id\":\"1721\",\"type\":\"Line\"},{\"attributes\":{\"data_source\":{\"id\":\"1690\",\"type\":\"ColumnDataSource\"},\"glyph\":{\"id\":\"1691\",\"type\":\"Line\"},\"hover_glyph\":null,\"muted_glyph\":null,\"nonselection_glyph\":{\"id\":\"1692\",\"type\":\"Line\"},\"selection_glyph\":null,\"view\":{\"id\":\"1694\",\"type\":\"CDSView\"}},\"id\":\"1693\",\"type\":\"GlyphRenderer\"},{\"attributes\":{},\"id\":\"1667\",\"type\":\"SaveTool\"},{\"attributes\":{\"label\":{\"value\":\"outside_H\"},\"renderers\":[{\"id\":\"1680\",\"type\":\"GlyphRenderer\"}]},\"id\":\"1689\",\"type\":\"LegendItem\"},{\"attributes\":{},\"id\":\"1668\",\"type\":\"ResetTool\"},{\"attributes\":{\"line_color\":\"#2ba02b\",\"line_width\":2,\"x\":{\"field\":\"x\"},\"y\":{\"field\":\"y\"}},\"id\":\"1705\",\"type\":\"Line\"},{\"attributes\":{\"line_alpha\":0.1,\"line_color\":\"#1f77b4\",\"line_width\":2,\"x\":{\"field\":\"x\"},\"y\":{\"field\":\"y\"}},\"id\":\"1722\",\"type\":\"Line\"},{\"attributes\":{},\"id\":\"1701\",\"type\":\"UnionRenderers\"},{\"attributes\":{\"callback\":null},\"id\":\"1648\",\"type\":\"DataRange1d\"},{\"attributes\":{\"data_source\":{\"id\":\"1720\",\"type\":\"ColumnDataSource\"},\"glyph\":{\"id\":\"1721\",\"type\":\"Line\"},\"hover_glyph\":null,\"muted_glyph\":null,\"nonselection_glyph\":{\"id\":\"1722\",\"type\":\"Line\"},\"selection_glyph\":null,\"view\":{\"id\":\"1724\",\"type\":\"CDSView\"}},\"id\":\"1723\",\"type\":\"GlyphRenderer\"},{\"attributes\":{},\"id\":\"1702\",\"type\":\"Selection\"},{\"attributes\":{},\"id\":\"1944\",\"type\":\"Selection\"},{\"attributes\":{},\"id\":\"1669\",\"type\":\"HelpTool\"},{\"attributes\":{\"line_alpha\":0.1,\"line_color\":\"#1f77b4\",\"line_width\":2,\"x\":{\"field\":\"x\"},\"y\":{\"field\":\"y\"}},\"id\":\"1706\",\"type\":\"Line\"},{\"attributes\":{},\"id\":\"1652\",\"type\":\"LinearScale\"},{\"attributes\":{\"click_policy\":\"hide\",\"items\":[{\"id\":\"1689\",\"type\":\"LegendItem\"},{\"id\":\"1703\",\"type\":\"LegendItem\"},{\"id\":\"1719\",\"type\":\"LegendItem\"},{\"id\":\"1737\",\"type\":\"LegendItem\"}],\"location\":\"center_right\"},\"id\":\"1688\",\"type\":\"Legend\"},{\"attributes\":{\"dimension\":1,\"ticker\":{\"id\":\"1660\",\"type\":\"BasicTicker\"}},\"id\":\"1663\",\"type\":\"Grid\"},{\"attributes\":{\"source\":{\"id\":\"1720\",\"type\":\"ColumnDataSource\"}},\"id\":\"1724\",\"type\":\"CDSView\"},{\"attributes\":{\"axis_label\":\"time (hrs)\",\"formatter\":{\"id\":\"1685\",\"type\":\"BasicTickFormatter\"},\"ticker\":{\"id\":\"1655\",\"type\":\"BasicTicker\"}},\"id\":\"1654\",\"type\":\"LinearAxis\"},{\"attributes\":{},\"id\":\"1735\",\"type\":\"UnionRenderers\"},{\"attributes\":{\"axis_label\":\"concentration (nM)\",\"formatter\":{\"id\":\"1683\",\"type\":\"BasicTickFormatter\"},\"ticker\":{\"id\":\"1660\",\"type\":\"BasicTicker\"}},\"id\":\"1659\",\"type\":\"LinearAxis\"},{\"attributes\":{\"bottom_units\":\"screen\",\"fill_alpha\":{\"value\":0.5},\"fill_color\":{\"value\":\"lightgrey\"},\"left_units\":\"screen\",\"level\":\"overlay\",\"line_alpha\":{\"value\":1.0},\"line_color\":{\"value\":\"black\"},\"line_dash\":[4,4],\"line_width\":{\"value\":2},\"render_mode\":\"css\",\"right_units\":\"screen\",\"top_units\":\"screen\"},\"id\":\"1687\",\"type\":\"BoxAnnotation\"},{\"attributes\":{\"data_source\":{\"id\":\"1677\",\"type\":\"ColumnDataSource\"},\"glyph\":{\"id\":\"1678\",\"type\":\"Line\"},\"hover_glyph\":null,\"muted_glyph\":null,\"nonselection_glyph\":{\"id\":\"1679\",\"type\":\"Line\"},\"selection_glyph\":null,\"view\":{\"id\":\"1681\",\"type\":\"CDSView\"}},\"id\":\"1680\",\"type\":\"GlyphRenderer\"},{\"attributes\":{},\"id\":\"1655\",\"type\":\"BasicTicker\"},{\"attributes\":{\"label\":{\"value\":\"bound proton pump\"},\"renderers\":[{\"id\":\"1723\",\"type\":\"GlyphRenderer\"}]},\"id\":\"1737\",\"type\":\"LegendItem\"},{\"attributes\":{},\"id\":\"1736\",\"type\":\"Selection\"},{\"attributes\":{\"ticker\":{\"id\":\"1655\",\"type\":\"BasicTicker\"}},\"id\":\"1658\",\"type\":\"Grid\"},{\"attributes\":{\"line_alpha\":0.1,\"line_color\":\"#1f77b4\",\"line_width\":2,\"x\":{\"field\":\"x\"},\"y\":{\"field\":\"y\"}},\"id\":\"1679\",\"type\":\"Line\"},{\"attributes\":{},\"id\":\"1660\",\"type\":\"BasicTicker\"},{\"attributes\":{\"source\":{\"id\":\"1677\",\"type\":\"ColumnDataSource\"}},\"id\":\"1681\",\"type\":\"CDSView\"}],\"root_ids\":[\"1643\"]},\"title\":\"Bokeh Application\",\"version\":\"1.4.0\"}};\n",
       "  var render_items = [{\"docid\":\"43469707-571e-4b64-9071-053fc3c18b23\",\"roots\":{\"1643\":\"aafe88b1-bed2-4c90-9d59-dbb956d912fa\"}}];\n",
       "  root.Bokeh.embed.embed_items_notebook(docs_json, render_items);\n",
       "\n",
       "  }\n",
       "  if (root.Bokeh !== undefined) {\n",
       "    embed_document(root);\n",
       "  } else {\n",
       "    var attempts = 0;\n",
       "    var timer = setInterval(function(root) {\n",
       "      if (root.Bokeh !== undefined) {\n",
       "        clearInterval(timer);\n",
       "        embed_document(root);\n",
       "      } else {\n",
       "        attempts++;\n",
       "        if (attempts > 100) {\n",
       "          clearInterval(timer);\n",
       "          console.log(\"Bokeh: ERROR: Unable to run BokehJS code because BokehJS library is missing\");\n",
       "        }\n",
       "      }\n",
       "    }, 10, root)\n",
       "  }\n",
       "})(window);"
      ],
      "application/vnd.bokehjs_exec.v0+json": ""
     },
     "metadata": {
      "application/vnd.bokehjs_exec.v0+json": {
       "id": "1643"
      }
     },
     "output_type": "display_data"
    },
    {
     "data": {
      "text/html": [
       "\n",
       "\n",
       "\n",
       "\n",
       "\n",
       "\n",
       "  <div class=\"bk-root\" id=\"b6c81978-d844-4324-b125-f872cf5231d0\" data-root-id=\"1160\"></div>\n"
      ]
     },
     "metadata": {},
     "output_type": "display_data"
    },
    {
     "data": {
      "application/javascript": [
       "(function(root) {\n",
       "  function embed_document(root) {\n",
       "    \n",
       "  var docs_json = {\"84807621-194d-4ff6-8568-f95a5f96b83c\":{\"roots\":{\"references\":[{\"attributes\":{\"below\":[{\"id\":\"1171\",\"type\":\"LinearAxis\"}],\"center\":[{\"id\":\"1175\",\"type\":\"Grid\"},{\"id\":\"1180\",\"type\":\"Grid\"},{\"id\":\"1205\",\"type\":\"Legend\"}],\"left\":[{\"id\":\"1176\",\"type\":\"LinearAxis\"}],\"plot_height\":350,\"plot_width\":450,\"renderers\":[{\"id\":\"1197\",\"type\":\"GlyphRenderer\"},{\"id\":\"1210\",\"type\":\"GlyphRenderer\"},{\"id\":\"1741\",\"type\":\"GlyphRenderer\"}],\"title\":{\"id\":\"1842\",\"type\":\"Title\"},\"toolbar\":{\"id\":\"1187\",\"type\":\"Toolbar\"},\"x_range\":{\"id\":\"1163\",\"type\":\"DataRange1d\"},\"x_scale\":{\"id\":\"1167\",\"type\":\"LinearScale\"},\"y_range\":{\"id\":\"1165\",\"type\":\"DataRange1d\"},\"y_scale\":{\"id\":\"1169\",\"type\":\"LinearScale\"}},\"id\":\"1160\",\"subtype\":\"Figure\",\"type\":\"Plot\"},{\"attributes\":{\"ticker\":{\"id\":\"1172\",\"type\":\"BasicTicker\"}},\"id\":\"1175\",\"type\":\"Grid\"},{\"attributes\":{},\"id\":\"1202\",\"type\":\"BasicTickFormatter\"},{\"attributes\":{\"callback\":null,\"data\":{\"x\":{\"__ndarray__\":\"AAAAAAAAAAB/pUCtXykAQH+lQK1fKRBAPvjggw8+GEB/pUCtXykgQN/OkJi3MyRAPvjggw8+KECeITFvZ0gsQH+lQK1fKTBAL7rooosuMkDfzpCYtzM0QI/jOI7jODZAPvjggw8+OEDuDIl5O0M6QJ4hMW9nSDxATjbZZJNNPkB/pUCtXylAQNevFKj1K0FAL7rooosuQkCHxLydITFDQN/OkJi3M0RAN9lkk002RUCP4ziO4zhGQOftDIl5O0dAPvjggw8+SECWArV+pUBJQO4MiXk7Q0pARhdddNFFS0CeITFvZ0hMQPYrBWr9Sk1ATjbZZJNNTkCmQK1fKVBPQH+lQK1fKVBAq6qqqqqqUEDXrxSo9StRQAO1fqVArVFAL7rooosuUkBbv1Kg1q9SQIfEvJ0hMVNAs8kmm2yyU0DfzpCYtzNUQAvU+pUCtVRAN9lkk002VUBj3s6QmLdVQI/jOI7jOFZAu+iiiy66VkDn7QyJeTtXQBPzdobEvFdAPvjggw8+WEBq/UqBWr9YQJYCtX6lQFlAwgcffPDBWUDuDIl5O0NaQBoS83aGxFpARhdddNFFW0ByHMdxHMdbQJ4hMW9nSFxAyiabbLLJXED2KwVq/UpdQCIxb2dIzF1ATjbZZJNNXkB6O0Ni3s5eQKZArV8pUF9A0kUXXXTRX0B/pUCtXylgQBWo9SsFamBAq6qqqqqqYEBBrV8pUOtgQNevFKj1K2FAbbLJJptsYUADtX6lQK1hQJm3MyTm7WFAL7rooosuYkDFvJ0hMW9iQFu/UqDWr2JA8cEHH3zwYkCHxLydITFjQB3HcRzHcWNAs8kmm2yyY0BJzNsZEvNjQN/OkJi3M2RAddFFF110ZEAL1PqVArVkQKHWrxSo9WRAN9lkk002ZUDN2xkS83ZlQGPezpCYt2VA+eCDDz74ZUCP4ziO4zhmQCXm7QyJeWZAu+iiiy66ZkBR61cK1PpmQOftDIl5O2dAffDBBx98Z0AT83aGxLxnQKn1KwVq/WdAPvjggw8+aEDU+pUCtX5oQGr9SoFav2hAAAAAAAAAaUA=\",\"dtype\":\"float64\",\"shape\":[100]},\"y\":{\"__ndarray__\":\"AAAAAAAAJED56exr7nBqP1sjkm4+p5k/EwGNCDSttD+UZSP0biDHP9h45cXKDdU/plLOIc/B4D8CcJnQtEDoPxEWaTBqWvA/Srl/Ugzl9D+Cotrsx5n5Px4JbGrtWP4/zaJ7TzSFAUBEO47Uk84DQD5RprDyAgZA6/hVteseCECVNUF3vyAKQPPN0LfYBwxAK+Lnqm3UDUAo30XJOYcPQKfi3bKlkBBAFjPvG/BREUC0ET9uJggSQKsplCj2sxJAv4bxggpWE0C0K+cBCe8TQDHlIlyPfxRAOVplVzIIFUCssz1LfYkVQBeSDg/yAxZA6K1SLgl4FkDZMQtOMuYWQIA6m53UThdAyvIWaE+yF0BDHuub+hAYQKT2cFcnaxhAm3zYbyDBGEBrLazxKhMZQItL4pmGYRlAkZWCRm6sGUAh0rteGPQZQILiETO3OBpAr036T3l6GkBsACLiibkaQNf/ot4Q9hpAFh8ZZDMwG0CwYObpE2gbQAoMcnrSnRtAycDz5YzRG0DCv5nwXgMcQBYbpXxiMxxA/NKwsK9hHEC7tocaXY4cQOU1Us9/uRxAnjRfiCvjHEC2k5S9cgsdQGj0hL5mMh1APuHdxRdYHUB8vagUlXwdQAuS8fnsnx1AH2TK7SzCHUAb8+qbYeMdQKYvU/OWAx5AmvZRM9giHkBVf6D3L0EeQLfUr0OoXh5ASpbJjEp7HkB5QcHDH5ceQMejbF0wsh5AU5fmWoTMHkDQqz1RI+YeQK+R+28U/x5AAeXIh14XH0BwylEQCC8fQIXZ0i0XRh9A0bjztZFcH0CrZ/40fXIfQAyS5fLehx9AqHL+8bucH0BLXgkBGbEfQMq8yqn6xB9AoAwqRmXYH0AHIZj8XOsfQD4GJb7l/R9Aw+8HqwEIIEAmuR6v3BAgQMC6YKSFGSBA+3dYMv4hIEDMPWrrRyogQOQ3/1JkMiBAFmBI21Q6IEB94lvmGkIgQF9nk8i3SSBA1tjUxyxRIEC6CY8ce1ggQA5m7fKjXyBAXwaNaqhmIEAUzd6YiW0gQOVEe4ZIdCBAUaSKM+Z6IEA=\",\"dtype\":\"float64\",\"shape\":[100]}},\"selected\":{\"id\":\"1785\",\"type\":\"Selection\"},\"selection_policy\":{\"id\":\"1784\",\"type\":\"UnionRenderers\"}},\"id\":\"1738\",\"type\":\"ColumnDataSource\"},{\"attributes\":{},\"id\":\"1200\",\"type\":\"BasicTickFormatter\"},{\"attributes\":{\"line_color\":\"#ff7e0e\",\"line_width\":2,\"x\":{\"field\":\"x\"},\"y\":{\"field\":\"y\"}},\"id\":\"1195\",\"type\":\"Line\"},{\"attributes\":{\"line_color\":\"#9367bc\",\"line_width\":2,\"x\":{\"field\":\"x\"},\"y\":{\"field\":\"y\"}},\"id\":\"1739\",\"type\":\"Line\"},{\"attributes\":{},\"id\":\"1177\",\"type\":\"BasicTicker\"},{\"attributes\":{\"line_alpha\":0.1,\"line_color\":\"#1f77b4\",\"line_width\":2,\"x\":{\"field\":\"x\"},\"y\":{\"field\":\"y\"}},\"id\":\"1740\",\"type\":\"Line\"},{\"attributes\":{\"axis_label\":\"concentration (nM)\",\"formatter\":{\"id\":\"1200\",\"type\":\"BasicTickFormatter\"},\"ticker\":{\"id\":\"1177\",\"type\":\"BasicTicker\"}},\"id\":\"1176\",\"type\":\"LinearAxis\"},{\"attributes\":{\"data_source\":{\"id\":\"1738\",\"type\":\"ColumnDataSource\"},\"glyph\":{\"id\":\"1739\",\"type\":\"Line\"},\"hover_glyph\":null,\"muted_glyph\":null,\"nonselection_glyph\":{\"id\":\"1740\",\"type\":\"Line\"},\"selection_glyph\":null,\"view\":{\"id\":\"1742\",\"type\":\"CDSView\"}},\"id\":\"1741\",\"type\":\"GlyphRenderer\"},{\"attributes\":{\"bottom_units\":\"screen\",\"fill_alpha\":{\"value\":0.5},\"fill_color\":{\"value\":\"lightgrey\"},\"left_units\":\"screen\",\"level\":\"overlay\",\"line_alpha\":{\"value\":1.0},\"line_color\":{\"value\":\"black\"},\"line_dash\":[4,4],\"line_width\":{\"value\":2},\"render_mode\":\"css\",\"right_units\":\"screen\",\"top_units\":\"screen\"},\"id\":\"1204\",\"type\":\"BoxAnnotation\"},{\"attributes\":{\"text\":\"Compare ATP All\"},\"id\":\"1842\",\"type\":\"Title\"},{\"attributes\":{},\"id\":\"1784\",\"type\":\"UnionRenderers\"},{\"attributes\":{\"click_policy\":\"hide\",\"items\":[{\"id\":\"1206\",\"type\":\"LegendItem\"},{\"id\":\"1220\",\"type\":\"LegendItem\"},{\"id\":\"1753\",\"type\":\"LegendItem\"}],\"location\":\"center_right\"},\"id\":\"1205\",\"type\":\"Legend\"},{\"attributes\":{\"line_alpha\":0.1,\"line_color\":\"#1f77b4\",\"line_width\":2,\"x\":{\"field\":\"x\"},\"y\":{\"field\":\"y\"}},\"id\":\"1196\",\"type\":\"Line\"},{\"attributes\":{\"source\":{\"id\":\"1738\",\"type\":\"ColumnDataSource\"}},\"id\":\"1742\",\"type\":\"CDSView\"},{\"attributes\":{\"callback\":null,\"data\":{\"x\":{\"__ndarray__\":\"AAAAAAAAAAB/pUCtXykAQH+lQK1fKRBAPvjggw8+GEB/pUCtXykgQN/OkJi3MyRAPvjggw8+KECeITFvZ0gsQH+lQK1fKTBAL7rooosuMkDfzpCYtzM0QI/jOI7jODZAPvjggw8+OEDuDIl5O0M6QJ4hMW9nSDxATjbZZJNNPkB/pUCtXylAQNevFKj1K0FAL7rooosuQkCHxLydITFDQN/OkJi3M0RAN9lkk002RUCP4ziO4zhGQOftDIl5O0dAPvjggw8+SECWArV+pUBJQO4MiXk7Q0pARhdddNFFS0CeITFvZ0hMQPYrBWr9Sk1ATjbZZJNNTkCmQK1fKVBPQH+lQK1fKVBAq6qqqqqqUEDXrxSo9StRQAO1fqVArVFAL7rooosuUkBbv1Kg1q9SQIfEvJ0hMVNAs8kmm2yyU0DfzpCYtzNUQAvU+pUCtVRAN9lkk002VUBj3s6QmLdVQI/jOI7jOFZAu+iiiy66VkDn7QyJeTtXQBPzdobEvFdAPvjggw8+WEBq/UqBWr9YQJYCtX6lQFlAwgcffPDBWUDuDIl5O0NaQBoS83aGxFpARhdddNFFW0ByHMdxHMdbQJ4hMW9nSFxAyiabbLLJXED2KwVq/UpdQCIxb2dIzF1ATjbZZJNNXkB6O0Ni3s5eQKZArV8pUF9A0kUXXXTRX0B/pUCtXylgQBWo9SsFamBAq6qqqqqqYEBBrV8pUOtgQNevFKj1K2FAbbLJJptsYUADtX6lQK1hQJm3MyTm7WFAL7rooosuYkDFvJ0hMW9iQFu/UqDWr2JA8cEHH3zwYkCHxLydITFjQB3HcRzHcWNAs8kmm2yyY0BJzNsZEvNjQN/OkJi3M2RAddFFF110ZEAL1PqVArVkQKHWrxSo9WRAN9lkk002ZUDN2xkS83ZlQGPezpCYt2VA+eCDDz74ZUCP4ziO4zhmQCXm7QyJeWZAu+iiiy66ZkBR61cK1PpmQOftDIl5O2dAffDBBx98Z0AT83aGxLxnQKn1KwVq/WdAPvjggw8+aEDU+pUCtX5oQGr9SoFav2hAAAAAAAAAaUA=\",\"dtype\":\"float64\",\"shape\":[100]},\"y\":{\"__ndarray__\":\"AAAAAAAAJEAExAhOwBdpP2ScwlGm04c/vumbKmQGXj8kcl5rb6O5PjblHCGf14W93pl+m6tAkD0wFuL3+n9gvfZ2N5ORgPS9YGnyUtJTgL0+FDbujburvU6ngO8AoOa9KHxaSJjACb6CulXi/f4fviD6cW5v3N297UDfZYQtGD4k7qc6OanpPVCKrtvuIvO9+GygxzFvGj7xm3mZdTvhvRZXOKTem8w9opSBHnHdqz1SXlYbiEqYvYis+LmwSr092iwnuVfIgr2elMiNyjd+vQEUuelS7AG9mNUArtQFR70gAdA8vK2jPXY1q891VIw9Ev40VVFW0j1wqUL85kXYPaDeg/UBeOW9WpnclEQn5j3gR+O7vxzxvQRRM0JKdLK9CwWnxndLN71ouWIOBVtdvTOHqddTABq9kbhi8YRhUr1qjb7NESxlvQId2UGGuTm9MhHiZEAMVD3pgOoN9nRTvZqFWRdqIkS97AlELUHnTT0FO01rAXhvPVRO/yTv/6C9AJjtiGBBpj37IPMwLg6fvd0QA4A8vIs9U/6+tzKsWz3ekEsW00f5vJlskJPQcfa8qN4nwOVdEb1Lsm14gO4JveRBfLHN7dE8qI2gTlZn3LxKcL0cOPj6PGEFrWYeHgC9q7gJO1d7BT0WVh6D0uf8vEBX8GPNf9K8St7gdiaPCT0OByccHggovR+hrbKGMEY9KKGjGPQmZb0CVNwJvTOFPTvRcIoeZKa9TWiBNQPmyD2r5Uj2aso3vYUKR/IAPde8QJVqWxBF6rxmfr45wOdRvQyzv3BiLlg9ALu5edOzMb0QwNDJ7U9mvYHgUVoxX3o9KByDY+KJZb1G9QTwzEFzvdQX59xoiH09JCfQR9z6c70ADmS0/6hcvRC9mbdYKTK9LGhHMav4a72I9cTGHiRmPf41tJQ7p3e9Iqexu6JwfT1nJAihbpdgPQAUOD6AEQ6946nhllvdSj3seiYhpLcVvdTEuXiVRUS9QPX+qoY787xQaFgOlNRNPdDuRkUmDlq9RXSebJJTVz3QZZ6rEANovWBHCKsjLp+9aOa7w6iHgD0=\",\"dtype\":\"float64\",\"shape\":[100]}},\"selected\":{\"id\":\"1391\",\"type\":\"Selection\"},\"selection_policy\":{\"id\":\"1390\",\"type\":\"UnionRenderers\"}},\"id\":\"1207\",\"type\":\"ColumnDataSource\"},{\"attributes\":{\"active_drag\":\"auto\",\"active_inspect\":\"auto\",\"active_multi\":null,\"active_scroll\":\"auto\",\"active_tap\":\"auto\",\"tools\":[{\"id\":\"1181\",\"type\":\"PanTool\"},{\"id\":\"1182\",\"type\":\"WheelZoomTool\"},{\"id\":\"1183\",\"type\":\"BoxZoomTool\"},{\"id\":\"1184\",\"type\":\"SaveTool\"},{\"id\":\"1185\",\"type\":\"ResetTool\"},{\"id\":\"1186\",\"type\":\"HelpTool\"}]},\"id\":\"1187\",\"type\":\"Toolbar\"},{\"attributes\":{\"data_source\":{\"id\":\"1194\",\"type\":\"ColumnDataSource\"},\"glyph\":{\"id\":\"1195\",\"type\":\"Line\"},\"hover_glyph\":null,\"muted_glyph\":null,\"nonselection_glyph\":{\"id\":\"1196\",\"type\":\"Line\"},\"selection_glyph\":null,\"view\":{\"id\":\"1198\",\"type\":\"CDSView\"}},\"id\":\"1197\",\"type\":\"GlyphRenderer\"},{\"attributes\":{\"label\":{\"value\":\"ATP Synthase, Proton Pump, ATP Use\"},\"renderers\":[{\"id\":\"1741\",\"type\":\"GlyphRenderer\"}]},\"id\":\"1753\",\"type\":\"LegendItem\"},{\"attributes\":{},\"id\":\"1391\",\"type\":\"Selection\"},{\"attributes\":{\"line_color\":\"#1f77b3\",\"line_width\":2,\"x\":{\"field\":\"x\"},\"y\":{\"field\":\"y\"}},\"id\":\"1208\",\"type\":\"Line\"},{\"attributes\":{\"callback\":null,\"data\":{\"x\":{\"__ndarray__\":\"AAAAAAAAAAB/pUCtXykAQH+lQK1fKRBAPvjggw8+GEB/pUCtXykgQN/OkJi3MyRAPvjggw8+KECeITFvZ0gsQH+lQK1fKTBAL7rooosuMkDfzpCYtzM0QI/jOI7jODZAPvjggw8+OEDuDIl5O0M6QJ4hMW9nSDxATjbZZJNNPkB/pUCtXylAQNevFKj1K0FAL7rooosuQkCHxLydITFDQN/OkJi3M0RAN9lkk002RUCP4ziO4zhGQOftDIl5O0dAPvjggw8+SECWArV+pUBJQO4MiXk7Q0pARhdddNFFS0CeITFvZ0hMQPYrBWr9Sk1ATjbZZJNNTkCmQK1fKVBPQH+lQK1fKVBAq6qqqqqqUEDXrxSo9StRQAO1fqVArVFAL7rooosuUkBbv1Kg1q9SQIfEvJ0hMVNAs8kmm2yyU0DfzpCYtzNUQAvU+pUCtVRAN9lkk002VUBj3s6QmLdVQI/jOI7jOFZAu+iiiy66VkDn7QyJeTtXQBPzdobEvFdAPvjggw8+WEBq/UqBWr9YQJYCtX6lQFlAwgcffPDBWUDuDIl5O0NaQBoS83aGxFpARhdddNFFW0ByHMdxHMdbQJ4hMW9nSFxAyiabbLLJXED2KwVq/UpdQCIxb2dIzF1ATjbZZJNNXkB6O0Ni3s5eQKZArV8pUF9A0kUXXXTRX0B/pUCtXylgQBWo9SsFamBAq6qqqqqqYEBBrV8pUOtgQNevFKj1K2FAbbLJJptsYUADtX6lQK1hQJm3MyTm7WFAL7rooosuYkDFvJ0hMW9iQFu/UqDWr2JA8cEHH3zwYkCHxLydITFjQB3HcRzHcWNAs8kmm2yyY0BJzNsZEvNjQN/OkJi3M2RAddFFF110ZEAL1PqVArVkQKHWrxSo9WRAN9lkk002ZUDN2xkS83ZlQGPezpCYt2VA+eCDDz74ZUCP4ziO4zhmQCXm7QyJeWZAu+iiiy66ZkBR61cK1PpmQOftDIl5O2dAffDBBx98Z0AT83aGxLxnQKn1KwVq/WdAPvjggw8+aEDU+pUCtX5oQGr9SoFav2hAAAAAAAAAaUA=\",\"dtype\":\"float64\",\"shape\":[100]},\"y\":{\"__ndarray__\":\"AAAAAAAAJEBJwXc68MkQvYW1inMvrgC99pEVCWZTjLyzlQTGxsp/vOYdeOcFu1u8hJlaqeVYBLwg++gvOm4DvL1cd7aOgwK8Wb4FPeOYAbz2H5TDN64AvCQDRZQYh/+7XMZhocGx/buUiX6uatz7u85Mm7sTB/q7BhC4yLwx+Ls/09TVZVz2u3eW8eIOh/S7r1kO8Lex8rvoHCv9YNzwu0LAjxQUDu67skbJLmZj6rskzQJJuLjmu5VTPGMKDuO7E7Tr+rjG3rv2wF4vXXHXu9jN0WMBHNC7dbWJMEuNwbvOeX7LnBSXuyZF7wC6wEq7HMS4ZAWLSbsTQ4LIUFVIuwrCSyycH0e7AUEVkOfpRbv4v97zMrREu+8+qFd+fkO75r1xu8lIQrvdPDsfFRNBu6d3CQbBuj+7lXWczVdPPbuDcy+V7uM6u3FxwlyFeDi7Xm9VJBwNNrtNbejrsqEzuztre7NJNjG7UNIc9sCVLbsszkKF7r4ouwjKaBQc6CO724sdR5MiHruSg2ll7nQUu5T2ageTjgW7FTAXIEqa0bo7/+WuFAaSupBKNe/d8ZG65JWEL6fdkbo64dNvcMmRuo4sI7A5tZG65Hdy8AKhkbo4w8EwzIyRuo0OEXGVeJG64llgsV5kkbo3pa/xJ1CRuovw/jHxO5G64TtOcronkbo1h52ygxORuovS7PJM/5C63x08MxbrkLo1aYtz39aQuom02rOowpC63v8p9HGukLozS3k0O5qQuoiWyHQEhpC63OEXtc1xkLoyLWf1ll2QuoZ4tjVgSZC628MFdik1kLowD1W28iCQuoZapPa7DJC6tEvnbQrxj7pe4oXunMiPugd5JG8voI+6sg/D78F3j7papmFwVE+PugU9APHmJo+6rtOecXn+jrpaaj3yC9aOugEB3HKerY66rZd68zCFjrpWLhl0w1yOugHFt/RVNI66qVtWdegLjrpU8vT1euONuv2Ik3YNu426px8y95+SjbpQttB3MmqNuvtMb/jEQY26peMNeVcZjbpOeqz56fCMuvgQS3p8yIy6oqfp+g6gjLo=\",\"dtype\":\"float64\",\"shape\":[100]}},\"selected\":{\"id\":\"1219\",\"type\":\"Selection\"},\"selection_policy\":{\"id\":\"1218\",\"type\":\"UnionRenderers\"}},\"id\":\"1194\",\"type\":\"ColumnDataSource\"},{\"attributes\":{},\"id\":\"1181\",\"type\":\"PanTool\"},{\"attributes\":{\"line_alpha\":0.1,\"line_color\":\"#1f77b4\",\"line_width\":2,\"x\":{\"field\":\"x\"},\"y\":{\"field\":\"y\"}},\"id\":\"1209\",\"type\":\"Line\"},{\"attributes\":{},\"id\":\"1182\",\"type\":\"WheelZoomTool\"},{\"attributes\":{\"data_source\":{\"id\":\"1207\",\"type\":\"ColumnDataSource\"},\"glyph\":{\"id\":\"1208\",\"type\":\"Line\"},\"hover_glyph\":null,\"muted_glyph\":null,\"nonselection_glyph\":{\"id\":\"1209\",\"type\":\"Line\"},\"selection_glyph\":null,\"view\":{\"id\":\"1211\",\"type\":\"CDSView\"}},\"id\":\"1210\",\"type\":\"GlyphRenderer\"},{\"attributes\":{},\"id\":\"1785\",\"type\":\"Selection\"},{\"attributes\":{\"callback\":null},\"id\":\"1163\",\"type\":\"DataRange1d\"},{\"attributes\":{\"overlay\":{\"id\":\"1204\",\"type\":\"BoxAnnotation\"}},\"id\":\"1183\",\"type\":\"BoxZoomTool\"},{\"attributes\":{},\"id\":\"1184\",\"type\":\"SaveTool\"},{\"attributes\":{\"source\":{\"id\":\"1207\",\"type\":\"ColumnDataSource\"}},\"id\":\"1211\",\"type\":\"CDSView\"},{\"attributes\":{},\"id\":\"1218\",\"type\":\"UnionRenderers\"},{\"attributes\":{},\"id\":\"1185\",\"type\":\"ResetTool\"},{\"attributes\":{\"callback\":null},\"id\":\"1165\",\"type\":\"DataRange1d\"},{\"attributes\":{\"label\":{\"value\":\"ATP Synthase, ATP Use\"},\"renderers\":[{\"id\":\"1210\",\"type\":\"GlyphRenderer\"}]},\"id\":\"1220\",\"type\":\"LegendItem\"},{\"attributes\":{},\"id\":\"1390\",\"type\":\"UnionRenderers\"},{\"attributes\":{},\"id\":\"1219\",\"type\":\"Selection\"},{\"attributes\":{},\"id\":\"1186\",\"type\":\"HelpTool\"},{\"attributes\":{\"source\":{\"id\":\"1194\",\"type\":\"ColumnDataSource\"}},\"id\":\"1198\",\"type\":\"CDSView\"},{\"attributes\":{},\"id\":\"1167\",\"type\":\"LinearScale\"},{\"attributes\":{},\"id\":\"1169\",\"type\":\"LinearScale\"},{\"attributes\":{\"label\":{\"value\":\"ATP Use\"},\"renderers\":[{\"id\":\"1197\",\"type\":\"GlyphRenderer\"}]},\"id\":\"1206\",\"type\":\"LegendItem\"},{\"attributes\":{\"axis_label\":\"time (sec)\",\"formatter\":{\"id\":\"1202\",\"type\":\"BasicTickFormatter\"},\"ticker\":{\"id\":\"1172\",\"type\":\"BasicTicker\"}},\"id\":\"1171\",\"type\":\"LinearAxis\"},{\"attributes\":{\"dimension\":1,\"ticker\":{\"id\":\"1177\",\"type\":\"BasicTicker\"}},\"id\":\"1180\",\"type\":\"Grid\"},{\"attributes\":{},\"id\":\"1172\",\"type\":\"BasicTicker\"}],\"root_ids\":[\"1160\"]},\"title\":\"Bokeh Application\",\"version\":\"1.4.0\"}};\n",
       "  var render_items = [{\"docid\":\"84807621-194d-4ff6-8568-f95a5f96b83c\",\"roots\":{\"1160\":\"b6c81978-d844-4324-b125-f872cf5231d0\"}}];\n",
       "  root.Bokeh.embed.embed_items_notebook(docs_json, render_items);\n",
       "\n",
       "  }\n",
       "  if (root.Bokeh !== undefined) {\n",
       "    embed_document(root);\n",
       "  } else {\n",
       "    var attempts = 0;\n",
       "    var timer = setInterval(function(root) {\n",
       "      if (root.Bokeh !== undefined) {\n",
       "        clearInterval(timer);\n",
       "        embed_document(root);\n",
       "      } else {\n",
       "        attempts++;\n",
       "        if (attempts > 100) {\n",
       "          clearInterval(timer);\n",
       "          console.log(\"Bokeh: ERROR: Unable to run BokehJS code because BokehJS library is missing\");\n",
       "        }\n",
       "      }\n",
       "    }, 10, root)\n",
       "  }\n",
       "})(window);"
      ],
      "application/vnd.bokehjs_exec.v0+json": ""
     },
     "metadata": {
      "application/vnd.bokehjs_exec.v0+json": {
       "id": "1160"
      }
     },
     "output_type": "display_data"
    }
   ],
   "source": [
    "plt_timepoints = timepoints/60/60\n",
    "\n",
    "p3 = bokeh.plotting.figure(width = 450, height = 350, title = 'with ATP Synthase, Proton Pump, ATP Use',\n",
    "                          x_axis_label = 'time (hrs)',\n",
    "                          y_axis_label = 'concentration (nM)')\n",
    "plot_list = [outside_H_id, inside_H_id, atp_synthase_b_protein_id, proton_pump_b_protein_id]\n",
    "plot_str = [ 'outside_H', 'inside_H', 'bound atp synthase', 'bound proton pump']\n",
    "for i,item in enumerate(plot_list):\n",
    "    p3.line(plt_timepoints, results_everything[item], line_width = 2, legend_label = plot_str[i], color = palette[i])\n",
    "p_compare.line(timepoints, results_everything[ATP_id3], line_width = 2, legend_label = 'ATP Synthase, Proton Pump, ATP Use', color = palette[3])\n",
    "#p3.line(plt_timepoints, results_everything[ATP_id3])\n",
    "p3.legend.click_policy = 'hide'\n",
    "p3.legend.location = 'center_right'\n",
    "#p_compare.title = 'Compare ATP All'\n",
    "t = Title()\n",
    "t.text = 'Compare ATP All'\n",
    "p_compare.title = t\n",
    "p_compare.legend.location = 'center_right'\n",
    "bokeh.io.show(p3)\n",
    "bokeh.io.show(p_compare)"
   ]
  },
  {
   "cell_type": "code",
   "execution_count": null,
   "metadata": {},
   "outputs": [],
   "source": []
  },
  {
   "cell_type": "markdown",
   "metadata": {},
   "source": [
    "## Compare with atpsyn + proton pump, only atpsyn, only atpuse (with txtl machinery)\n",
    "---"
   ]
  },
  {
   "cell_type": "code",
   "execution_count": 19,
   "metadata": {},
   "outputs": [
    {
     "data": {
      "text/html": [
       "\n",
       "\n",
       "\n",
       "\n",
       "\n",
       "\n",
       "  <div class=\"bk-root\" id=\"7600fb0c-7373-429b-9692-7c351289473e\" data-root-id=\"2101\"></div>\n"
      ]
     },
     "metadata": {},
     "output_type": "display_data"
    },
    {
     "data": {
      "application/javascript": [
       "(function(root) {\n",
       "  function embed_document(root) {\n",
       "    \n",
       "  var docs_json = {\"fa0500b6-ddd6-4c31-a243-f04aa53a4e78\":{\"roots\":{\"references\":[{\"attributes\":{\"children\":[{\"id\":\"1643\",\"subtype\":\"Figure\",\"type\":\"Plot\"},{\"id\":\"1036\",\"subtype\":\"Figure\",\"type\":\"Plot\"},{\"id\":\"1113\",\"subtype\":\"Figure\",\"type\":\"Plot\"}]},\"id\":\"2101\",\"type\":\"Row\"},{\"attributes\":{\"callback\":null},\"id\":\"1039\",\"type\":\"DataRange1d\"},{\"attributes\":{\"callback\":null,\"data\":{\"x\":{\"__ndarray__\":\"AAAAAAAAAAAXqhByaWNCPxeqEHJpY1I/I/8YKx6VWz8XqhByaWNiP57UlM5D/GY/I/8YKx6Vaz/VlM5D/BZwPxeqEHJpY3I/W79SoNavdD+e1JTOQ/x2P+Hp1vywSHk/I/8YKx6Vez9mFFtZi+F9P9WUzkP8FoA/dp/v2jI9gT8XqhByaWOCP7q0MQmgiYM/W79SoNavhD/9yXM3DdaFP57UlM5D/IY/QN+1ZXoiiD/h6db8sEiJP4P095Pnboo/I/8YKx6Viz/FCTrCVLuMP2YUW1mL4Y0/Bx988MEHjz/VlM5D/BaQPyUaX48XqpA/dp/v2jI9kT/HJIAmTtCRPxeqEHJpY5I/aS+hvYT2kj+6tDEJoImTPws6wlS7HJQ/W79SoNavlD+sROPr8UKVP/3JczcN1pU/Tk8Egyhplj+e1JTOQ/yWP+9ZJRpfj5c/QN+1ZXoimD+QZEaxlbWYP+Hp1vywSJk/Mm9nSMzbmT+D9PeT526aP9N5iN8CAps/I/8YKx6Vmz90hKl2OSicP8UJOsJUu5w/FY/KDXBOnT9mFFtZi+GdP7eZ66SmdJ4/Bx988MEHnz9ZpAw83ZqfP9WUzkP8FqA/fdeW6YlgoD8lGl+PF6qgP85cJzWl86A/dp/v2jI9oT8f4reAwIahP8ckgCZO0KE/cGdIzNsZoj8XqhByaWOiP8Ds2Bf3rKI/aS+hvYT2oj8RcmljEkCjP7q0MQmgiaM/Yvf5ri3Toz8LOsJUuxykP7J8ivpIZqQ/W79SoNavpD8DAhtGZPmkP6xE4+vxQqU/VIerkX+MpT/9yXM3DdalP6UMPN2aH6Y/Tk8Egyhppj/1kcwotrKmP57UlM5D/KY/RhdddNFFpz/vWSUaX4+nP5ec7b/s2Kc/QN+1ZXoiqD/pIX4LCGyoP5BkRrGVtag/OacOVyP/qD/h6db8sEipP4osn6I+kqk/Mm9nSMzbqT/bsS/uWSWqP4P095Pnbqo/LDfAOXW4qj/TeYjfAgKrP3y8UIWQS6s/I/8YKx6Vqz/MQeHQq96rP3SEqXY5KKw/HcdxHMdxrD8=\",\"dtype\":\"float64\",\"shape\":[100]},\"y\":{\"__ndarray__\":\"AAAAAAAAAABuf69/9aTUPg4yCQfq+AM/JWPQVeREID9d4+HHBJ0yP0eu/idMjUE/r6hsLIFMTT99gj1NhHtWPxYZP4qWOWA/ANRU1C9ZZj/MjlNB0qttP5ykPcfwHnM/e7llQqAMeD8wVO0k0qJ9P0738kU38oE/s780ZcVphT9963KgwjiJP7z5TsGOX40/FkbjZyLvkD8+H7UsYlqTPxqOF8xc8ZU/28wWTdKzmD+kgILFb6GbPwMswhnSuZ4/I1zzNUT+oD/QyQYhi7SiPyQVI7B6f6Q/LaF8uMtepj8WAra9M1KoP+EGG5VlWao/xIJN9BF0rD/+wZHv56GuP2PoBbRKcbA/2GCktuOasT/UmUJIlc2yPzMhf5c1CbQ/VUL72JpNtT8xq85im5q2P/k2r8QN8Lc/X4VG3MhNuT8zp8/mo7O6PyzlLJB2Ibw/ihF3/xiXvT9qiS7hYxS/P0cDHziYTMA/HGV5PqwSwT8ObUQ5W9zBP06DxK2SqcI/Zv+UckB6wz+jq8ywUk7EP94Zp+S3JcU/lz3S3V4Axj+tnMK/Nt7GP4r4GQEvv8c/ULprazejyD8XR3oaQIrJPx46U3s5dMo/DnpbSxRhyz+JlC+XwVDMP+BIZ7kyQ80/c05GWVk4zj9Nu1tpJzDPP4FpCpNHFdA/BSkjisGT0D/eIdf/ehPRP+1JuHxtlNE/KnlIq5IW0j+NKTZX5JnSPwDMmWxcHtM/skE09/Sj0z+xk4whqCrUP9sU6jRwstQ/HKdjl0c71T/z8VDLKMXVP8QPMXAOUNY/5/2MQPPb1j+G9zwR0mjXP61jJtGl9tc/i8GaiGmF2D949KtYGBXZPz1RgHqtpdk/HCK9PiQ32j+UR/IMeMnaP90cI2OkXNs/N9MP1aTw2z9S5rULdYXcP/5V4sQQG90/KQ+00nOx3T+N7BMbmkjeP2lQOZd/4N4/fLI4UyB53z+dosY2PAngP7EMWQtCVuA/tcxdyJ+j4D9QY3WXU/HgP6Mpp6pbP+E/WzUwPLaN4T/XYlWOYdzhPwT3MetbK+I/XXSUpKN64j8=\",\"dtype\":\"float64\",\"shape\":[100]}},\"selected\":{\"id\":\"1238\",\"type\":\"Selection\"},\"selection_policy\":{\"id\":\"1237\",\"type\":\"UnionRenderers\"}},\"id\":\"1097\",\"type\":\"ColumnDataSource\"},{\"attributes\":{},\"id\":\"1155\",\"type\":\"BasicTickFormatter\"},{\"attributes\":{\"below\":[{\"id\":\"1654\",\"type\":\"LinearAxis\"}],\"center\":[{\"id\":\"1658\",\"type\":\"Grid\"},{\"id\":\"1663\",\"type\":\"Grid\"},{\"id\":\"1688\",\"type\":\"Legend\"}],\"left\":[{\"id\":\"1659\",\"type\":\"LinearAxis\"}],\"plot_height\":350,\"plot_width\":450,\"renderers\":[{\"id\":\"1680\",\"type\":\"GlyphRenderer\"},{\"id\":\"1693\",\"type\":\"GlyphRenderer\"},{\"id\":\"1707\",\"type\":\"GlyphRenderer\"},{\"id\":\"1723\",\"type\":\"GlyphRenderer\"}],\"title\":{\"id\":\"1644\",\"type\":\"Title\"},\"toolbar\":{\"id\":\"1670\",\"type\":\"Toolbar\"},\"x_range\":{\"id\":\"1646\",\"type\":\"DataRange1d\"},\"x_scale\":{\"id\":\"1650\",\"type\":\"LinearScale\"},\"y_range\":{\"id\":\"1648\",\"type\":\"DataRange1d\"},\"y_scale\":{\"id\":\"1652\",\"type\":\"LinearScale\"}},\"id\":\"1643\",\"subtype\":\"Figure\",\"type\":\"Plot\"},{\"attributes\":{},\"id\":\"1153\",\"type\":\"BasicTickFormatter\"},{\"attributes\":{\"items\":[{\"id\":\"1159\",\"type\":\"LegendItem\"}]},\"id\":\"1158\",\"type\":\"Legend\"},{\"attributes\":{\"callback\":null},\"id\":\"1041\",\"type\":\"DataRange1d\"},{\"attributes\":{\"line_color\":\"#2ba02b\",\"line_width\":2,\"x\":{\"field\":\"x\"},\"y\":{\"field\":\"y\"}},\"id\":\"1098\",\"type\":\"Line\"},{\"attributes\":{},\"id\":\"1094\",\"type\":\"UnionRenderers\"},{\"attributes\":{\"line_color\":\"#ff7e0e\",\"line_width\":2,\"x\":{\"field\":\"x\"},\"y\":{\"field\":\"y\"}},\"id\":\"1084\",\"type\":\"Line\"},{\"attributes\":{\"bottom_units\":\"screen\",\"fill_alpha\":{\"value\":0.5},\"fill_color\":{\"value\":\"lightgrey\"},\"left_units\":\"screen\",\"level\":\"overlay\",\"line_alpha\":{\"value\":1.0},\"line_color\":{\"value\":\"black\"},\"line_dash\":[4,4],\"line_width\":{\"value\":2},\"render_mode\":\"css\",\"right_units\":\"screen\",\"top_units\":\"screen\"},\"id\":\"1157\",\"type\":\"BoxAnnotation\"},{\"attributes\":{},\"id\":\"1043\",\"type\":\"LinearScale\"},{\"attributes\":{\"line_alpha\":0.1,\"line_color\":\"#1f77b4\",\"line_width\":2,\"x\":{\"field\":\"x\"},\"y\":{\"field\":\"y\"}},\"id\":\"1099\",\"type\":\"Line\"},{\"attributes\":{\"text\":\"with ATP Synthase, Proton Pump, ATP Use\"},\"id\":\"1644\",\"type\":\"Title\"},{\"attributes\":{},\"id\":\"1045\",\"type\":\"LinearScale\"},{\"attributes\":{\"data_source\":{\"id\":\"1097\",\"type\":\"ColumnDataSource\"},\"glyph\":{\"id\":\"1098\",\"type\":\"Line\"},\"hover_glyph\":null,\"muted_glyph\":null,\"nonselection_glyph\":{\"id\":\"1099\",\"type\":\"Line\"},\"selection_glyph\":null,\"view\":{\"id\":\"1101\",\"type\":\"CDSView\"}},\"id\":\"1100\",\"type\":\"GlyphRenderer\"},{\"attributes\":{\"label\":{\"value\":\"atp\"},\"renderers\":[{\"id\":\"1150\",\"type\":\"GlyphRenderer\"}]},\"id\":\"1159\",\"type\":\"LegendItem\"},{\"attributes\":{\"callback\":null},\"id\":\"1646\",\"type\":\"DataRange1d\"},{\"attributes\":{\"axis_label\":\"time (hrs)\",\"formatter\":{\"id\":\"1078\",\"type\":\"BasicTickFormatter\"},\"ticker\":{\"id\":\"1048\",\"type\":\"BasicTicker\"}},\"id\":\"1047\",\"type\":\"LinearAxis\"},{\"attributes\":{},\"id\":\"1650\",\"type\":\"LinearScale\"},{\"attributes\":{\"dimension\":1,\"ticker\":{\"id\":\"1053\",\"type\":\"BasicTicker\"}},\"id\":\"1056\",\"type\":\"Grid\"},{\"attributes\":{},\"id\":\"1048\",\"type\":\"BasicTicker\"},{\"attributes\":{\"source\":{\"id\":\"1097\",\"type\":\"ColumnDataSource\"}},\"id\":\"1101\",\"type\":\"CDSView\"},{\"attributes\":{\"text\":\"only ATP Use\"},\"id\":\"1114\",\"type\":\"Title\"},{\"attributes\":{\"ticker\":{\"id\":\"1048\",\"type\":\"BasicTicker\"}},\"id\":\"1051\",\"type\":\"Grid\"},{\"attributes\":{\"line_alpha\":0.1,\"line_color\":\"#1f77b4\",\"line_width\":2,\"x\":{\"field\":\"x\"},\"y\":{\"field\":\"y\"}},\"id\":\"1149\",\"type\":\"Line\"},{\"attributes\":{},\"id\":\"1053\",\"type\":\"BasicTicker\"},{\"attributes\":{\"axis_label\":\"concentration (nM)\",\"formatter\":{\"id\":\"1076\",\"type\":\"BasicTickFormatter\"},\"ticker\":{\"id\":\"1053\",\"type\":\"BasicTicker\"}},\"id\":\"1052\",\"type\":\"LinearAxis\"},{\"attributes\":{\"callback\":null},\"id\":\"1116\",\"type\":\"DataRange1d\"},{\"attributes\":{\"callback\":null},\"id\":\"1648\",\"type\":\"DataRange1d\"},{\"attributes\":{},\"id\":\"1652\",\"type\":\"LinearScale\"},{\"attributes\":{\"label\":{\"value\":\"bound atp synthase\"},\"renderers\":[{\"id\":\"1100\",\"type\":\"GlyphRenderer\"}]},\"id\":\"1112\",\"type\":\"LegendItem\"},{\"attributes\":{\"dimension\":1,\"ticker\":{\"id\":\"1660\",\"type\":\"BasicTicker\"}},\"id\":\"1663\",\"type\":\"Grid\"},{\"attributes\":{\"axis_label\":\"time (hrs)\",\"formatter\":{\"id\":\"1685\",\"type\":\"BasicTickFormatter\"},\"ticker\":{\"id\":\"1655\",\"type\":\"BasicTicker\"}},\"id\":\"1654\",\"type\":\"LinearAxis\"},{\"attributes\":{\"callback\":null},\"id\":\"1118\",\"type\":\"DataRange1d\"},{\"attributes\":{\"callback\":null,\"data\":{\"x\":{\"__ndarray__\":\"AAAAAAAAAAAXqhByaWNCPxeqEHJpY1I/I/8YKx6VWz8XqhByaWNiP57UlM5D/GY/I/8YKx6Vaz/VlM5D/BZwPxeqEHJpY3I/W79SoNavdD+e1JTOQ/x2P+Hp1vywSHk/I/8YKx6Vez9mFFtZi+F9P9WUzkP8FoA/dp/v2jI9gT8XqhByaWOCP7q0MQmgiYM/W79SoNavhD/9yXM3DdaFP57UlM5D/IY/QN+1ZXoiiD/h6db8sEiJP4P095Pnboo/I/8YKx6Viz/FCTrCVLuMP2YUW1mL4Y0/Bx988MEHjz/VlM5D/BaQPyUaX48XqpA/dp/v2jI9kT/HJIAmTtCRPxeqEHJpY5I/aS+hvYT2kj+6tDEJoImTPws6wlS7HJQ/W79SoNavlD+sROPr8UKVP/3JczcN1pU/Tk8Egyhplj+e1JTOQ/yWP+9ZJRpfj5c/QN+1ZXoimD+QZEaxlbWYP+Hp1vywSJk/Mm9nSMzbmT+D9PeT526aP9N5iN8CAps/I/8YKx6Vmz90hKl2OSicP8UJOsJUu5w/FY/KDXBOnT9mFFtZi+GdP7eZ66SmdJ4/Bx988MEHnz9ZpAw83ZqfP9WUzkP8FqA/fdeW6YlgoD8lGl+PF6qgP85cJzWl86A/dp/v2jI9oT8f4reAwIahP8ckgCZO0KE/cGdIzNsZoj8XqhByaWOiP8Ds2Bf3rKI/aS+hvYT2oj8RcmljEkCjP7q0MQmgiaM/Yvf5ri3Toz8LOsJUuxykP7J8ivpIZqQ/W79SoNavpD8DAhtGZPmkP6xE4+vxQqU/VIerkX+MpT/9yXM3DdalP6UMPN2aH6Y/Tk8Egyhppj/1kcwotrKmP57UlM5D/KY/RhdddNFFpz/vWSUaX4+nP5ec7b/s2Kc/QN+1ZXoiqD/pIX4LCGyoP5BkRrGVtag/OacOVyP/qD/h6db8sEipP4osn6I+kqk/Mm9nSMzbqT/bsS/uWSWqP4P095Pnbqo/LDfAOXW4qj/TeYjfAgKrP3y8UIWQS6s/I/8YKx6Vqz/MQeHQq96rP3SEqXY5KKw/HcdxHMdxrD8=\",\"dtype\":\"float64\",\"shape\":[100]},\"y\":{\"__ndarray__\":\"AAAAAAAAJECIE9O2jwYjQD2h3IhjXBJAYP9x3U6byz+saww7bKoTPziecVU18dc9UJLfkZ4Kvb3ALyJ29k6yvXiKNVue7jE+TOihiwGNET71g/eg6EoTvmRnKRPDlhK+IHj1er7MAz7Sqwe/3YsYPovxPziKrPM9fmuw3xHd7L0sdX+3Tww2vhq33YKXuhU+jBoaaxcd/72gn6p97fciPlywDaBfXeU90cenTaWVAb5ksWTMLwvRveBWmLRpDg2+aPO0wQ/4Oj18IFkC5awTvfqQdrkwKza9cAWNRzidmj2Y0p7V8eD8vVyJdxSM2lS9I5xRFpm0dj0hoZvmgsJ7PZqWrEUZ5Ji9gHZ9akPLpb1cKWE5STIZPlYkt9QHbZO9h2xivLonIz25GfryDBlaPd5d2bUrlYE9kBeZJVQErj0g4vUMryxMPRajNbzqYqG9yv3g/Hs6s70PsugpO6ipPfA1iyTO73m9jpxv8ASPsr04GdGlJiPVvTQGHgslDgc+gM58HLBiBr72897suKJAvZ3UWdjMcms9DPtn5NitYL3Zu8rozn1CvWYn33OG2EE9Pn4T9vVWWb2s4BF5cQcZvfp0Mxja5lu9oOssvyN4HT3bvexNmr1ivfzrFD6X1mI9V+JQhimzWr0HIdYo7v5ovVxnzZJ5KlE9jJIzTRZpeb0WUXm1OeKbPZeNKqnbXbm9C518dEXU2D2Ze7E2MLr5vQ/Kg3z78xs+9wpVFWrpP77jlpNQpB/bvJJ2bSTU0pq8st1xAXTRqzx6CaEG+cK+vAAPdBrTMcU8AHg/u5tCUzwfRTKf+v/NvIg/e6qspt88zvkQL20Zx7wUK2x8grnEPAB8Tj6xb2S8OVK1CUzc7LyW6u/VybwUPWLBZqj/Byu9JnDNNONQSD32nY6gcmdjvX4UOfkyIoE9LGThezoinr0oPv2cv5rCvcxotEHJD6Q9aQmMLUxisj0vnNwm7nKuvWDtGTG5+YS9oydzQYHAub2sNgvcmVu/vXiXkRzRX809hzfpeQFTz70wSQB9mATZPZB5uNMzyRI+gJcdoXnR7b0=\",\"dtype\":\"float64\",\"shape\":[100]}},\"selected\":{\"id\":\"1095\",\"type\":\"Selection\"},\"selection_policy\":{\"id\":\"1094\",\"type\":\"UnionRenderers\"}},\"id\":\"1070\",\"type\":\"ColumnDataSource\"},{\"attributes\":{},\"id\":\"1095\",\"type\":\"Selection\"},{\"attributes\":{\"axis_label\":\"concentration (nM)\",\"formatter\":{\"id\":\"1683\",\"type\":\"BasicTickFormatter\"},\"ticker\":{\"id\":\"1660\",\"type\":\"BasicTicker\"}},\"id\":\"1659\",\"type\":\"LinearAxis\"},{\"attributes\":{\"bottom_units\":\"screen\",\"fill_alpha\":{\"value\":0.5},\"fill_color\":{\"value\":\"lightgrey\"},\"left_units\":\"screen\",\"level\":\"overlay\",\"line_alpha\":{\"value\":1.0},\"line_color\":{\"value\":\"black\"},\"line_dash\":[4,4],\"line_width\":{\"value\":2},\"render_mode\":\"css\",\"right_units\":\"screen\",\"top_units\":\"screen\"},\"id\":\"1687\",\"type\":\"BoxAnnotation\"},{\"attributes\":{\"active_drag\":\"auto\",\"active_inspect\":\"auto\",\"active_multi\":null,\"active_scroll\":\"auto\",\"active_tap\":\"auto\",\"tools\":[{\"id\":\"1057\",\"type\":\"PanTool\"},{\"id\":\"1058\",\"type\":\"WheelZoomTool\"},{\"id\":\"1059\",\"type\":\"BoxZoomTool\"},{\"id\":\"1060\",\"type\":\"SaveTool\"},{\"id\":\"1061\",\"type\":\"ResetTool\"},{\"id\":\"1062\",\"type\":\"HelpTool\"}]},\"id\":\"1063\",\"type\":\"Toolbar\"},{\"attributes\":{},\"id\":\"1655\",\"type\":\"BasicTicker\"},{\"attributes\":{},\"id\":\"1120\",\"type\":\"LinearScale\"},{\"attributes\":{\"ticker\":{\"id\":\"1655\",\"type\":\"BasicTicker\"}},\"id\":\"1658\",\"type\":\"Grid\"},{\"attributes\":{},\"id\":\"1122\",\"type\":\"LinearScale\"},{\"attributes\":{\"line_color\":\"#1f77b3\",\"line_width\":2,\"x\":{\"field\":\"x\"},\"y\":{\"field\":\"y\"}},\"id\":\"1071\",\"type\":\"Line\"},{\"attributes\":{},\"id\":\"1057\",\"type\":\"PanTool\"},{\"attributes\":{},\"id\":\"1660\",\"type\":\"BasicTicker\"},{\"attributes\":{\"axis_label\":\"time (hrs)\",\"formatter\":{\"id\":\"1155\",\"type\":\"BasicTickFormatter\"},\"ticker\":{\"id\":\"1125\",\"type\":\"BasicTicker\"}},\"id\":\"1124\",\"type\":\"LinearAxis\"},{\"attributes\":{\"dimension\":1,\"ticker\":{\"id\":\"1130\",\"type\":\"BasicTicker\"}},\"id\":\"1133\",\"type\":\"Grid\"},{\"attributes\":{},\"id\":\"1125\",\"type\":\"BasicTicker\"},{\"attributes\":{\"overlay\":{\"id\":\"1080\",\"type\":\"BoxAnnotation\"}},\"id\":\"1059\",\"type\":\"BoxZoomTool\"},{\"attributes\":{\"ticker\":{\"id\":\"1125\",\"type\":\"BasicTicker\"}},\"id\":\"1128\",\"type\":\"Grid\"},{\"attributes\":{},\"id\":\"1060\",\"type\":\"SaveTool\"},{\"attributes\":{\"line_color\":\"#1f77b3\",\"line_width\":2,\"x\":{\"field\":\"x\"},\"y\":{\"field\":\"y\"}},\"id\":\"1678\",\"type\":\"Line\"},{\"attributes\":{\"callback\":null,\"data\":{\"x\":{\"__ndarray__\":\"AAAAAAAAAAAXqhByaWNCPxeqEHJpY1I/I/8YKx6VWz8XqhByaWNiP57UlM5D/GY/I/8YKx6Vaz/VlM5D/BZwPxeqEHJpY3I/W79SoNavdD+e1JTOQ/x2P+Hp1vywSHk/I/8YKx6Vez9mFFtZi+F9P9WUzkP8FoA/dp/v2jI9gT8XqhByaWOCP7q0MQmgiYM/W79SoNavhD/9yXM3DdaFP57UlM5D/IY/QN+1ZXoiiD/h6db8sEiJP4P095Pnboo/I/8YKx6Viz/FCTrCVLuMP2YUW1mL4Y0/Bx988MEHjz/VlM5D/BaQPyUaX48XqpA/dp/v2jI9kT/HJIAmTtCRPxeqEHJpY5I/aS+hvYT2kj+6tDEJoImTPws6wlS7HJQ/W79SoNavlD+sROPr8UKVP/3JczcN1pU/Tk8Egyhplj+e1JTOQ/yWP+9ZJRpfj5c/QN+1ZXoimD+QZEaxlbWYP+Hp1vywSJk/Mm9nSMzbmT+D9PeT526aP9N5iN8CAps/I/8YKx6Vmz90hKl2OSicP8UJOsJUu5w/FY/KDXBOnT9mFFtZi+GdP7eZ66SmdJ4/Bx988MEHnz9ZpAw83ZqfP9WUzkP8FqA/fdeW6YlgoD8lGl+PF6qgP85cJzWl86A/dp/v2jI9oT8f4reAwIahP8ckgCZO0KE/cGdIzNsZoj8XqhByaWOiP8Ds2Bf3rKI/aS+hvYT2oj8RcmljEkCjP7q0MQmgiaM/Yvf5ri3Toz8LOsJUuxykP7J8ivpIZqQ/W79SoNavpD8DAhtGZPmkP6xE4+vxQqU/VIerkX+MpT/9yXM3DdalP6UMPN2aH6Y/Tk8Egyhppj/1kcwotrKmP57UlM5D/KY/RhdddNFFpz/vWSUaX4+nP5ec7b/s2Kc/QN+1ZXoiqD/pIX4LCGyoP5BkRrGVtag/OacOVyP/qD/h6db8sEipP4osn6I+kqk/Mm9nSMzbqT/bsS/uWSWqP4P095Pnbqo/LDfAOXW4qj/TeYjfAgKrP3y8UIWQS6s/I/8YKx6Vqz/MQeHQq96rP3SEqXY5KKw/HcdxHMdxrD8=\",\"dtype\":\"float64\",\"shape\":[100]},\"y\":{\"__ndarray__\":\"AAAAAAAAJEDn91WGXv8jQBZ3IeQl+yNAq658l2fwI0C7LgvsKt0jQJGDH/ujwCNAAjIDrTWbI0Aal1D/MW4jQEBoDPpxOyNAoqKaCu4EI0AAwMdzc8wiQBEyfOZ9kyJA/7SRyy1bIkD3jtuCTyQiQCirJexp7yFAHubfPM68IUBjIhI0powhQHTSRaz/XiFAmPELedUzIUBdutX3FQshQPeG68en5CBAmjY7G23AIED3RD0BRp4gQFHT+PERfiBAmyku1LBfIECQ7yKhA0MgQHFn6sjsJyBAGo4haVAOIEAJjjLIKOwfQA2dWchAvh9AgNNKpLuSH0DCPNKAb2kfQJ0pUrM1Qh9A9G4qg+ocH0AkqQX7bPkeQLRIRLOe1x5Ak8lpn2O3HkADPvLdoZgeQL4i7opBex5ApPPElSxfHkBKCDqaTkQeQNIrV7yUKh5ABuqaie0RHkD2I/DSSPodQECFVZ6X4x1AKB3WAczNHUBoNyMS2bgdQAiWq8yypB1A7m2SBE6RHUBOwGlRoH4dQK+0YP+fbB1A1xHxAERbHUDU2dHhg0odQFTU4bpXOh1AA15kJ7gqHUDkxhQ7nhsdQHDnvHgDDR1A3qP+yuH+HEC51/B5M/EcQNZhfSjz4xxA8p8VyhvXHEA0PcSeqMocQFK3UC2VvhxAzpZfPt2yHEAfGubXfKccQNs87ThwnBxASlzK1bORHEAZa3VURIccQOMDZIkefRxAhMJsdD9zHEBCS+U9pGkcQFwhMzRKYBxAoVNLyS5XHEDk1H6QT04cQPCeZTyqRRxAW6cMnTw9HEAjswCeBDUcQPn/aEQALRxA6dKRry0lHEC2xhUSix0cQMQRY7gWFhxAowTlAM8OHEAlt09dsgccQAXtWVO/ABxAoc3XdvT5G0CbZEJuUPMbQN1b2+7R7BtATScCu3fmG0BbvyOlQOAbQHxxn4or2htAbsD0VTfUG0DMSL39Ys4bQM7Qk4KtyBtAzX0+8BXDG0CriWlcm70bQGJRC+Y8uBtAQSN3tfmyG0CFPaT60K0bQOdoMu/BqBtAglcG08ujG0A=\",\"dtype\":\"float64\",\"shape\":[100]}},\"selected\":{\"id\":\"1702\",\"type\":\"Selection\"},\"selection_policy\":{\"id\":\"1701\",\"type\":\"UnionRenderers\"}},\"id\":\"1677\",\"type\":\"ColumnDataSource\"},{\"attributes\":{},\"id\":\"1061\",\"type\":\"ResetTool\"},{\"attributes\":{},\"id\":\"1130\",\"type\":\"BasicTicker\"},{\"attributes\":{\"axis_label\":\"concentration (nM)\",\"formatter\":{\"id\":\"1153\",\"type\":\"BasicTickFormatter\"},\"ticker\":{\"id\":\"1130\",\"type\":\"BasicTicker\"}},\"id\":\"1129\",\"type\":\"LinearAxis\"},{\"attributes\":{},\"id\":\"1683\",\"type\":\"BasicTickFormatter\"},{\"attributes\":{\"active_drag\":\"auto\",\"active_inspect\":\"auto\",\"active_multi\":null,\"active_scroll\":\"auto\",\"active_tap\":\"auto\",\"tools\":[{\"id\":\"1664\",\"type\":\"PanTool\"},{\"id\":\"1665\",\"type\":\"WheelZoomTool\"},{\"id\":\"1666\",\"type\":\"BoxZoomTool\"},{\"id\":\"1667\",\"type\":\"SaveTool\"},{\"id\":\"1668\",\"type\":\"ResetTool\"},{\"id\":\"1669\",\"type\":\"HelpTool\"}]},\"id\":\"1670\",\"type\":\"Toolbar\"},{\"attributes\":{},\"id\":\"1062\",\"type\":\"HelpTool\"},{\"attributes\":{\"line_color\":\"#1f77b3\",\"line_width\":2,\"x\":{\"field\":\"x\"},\"y\":{\"field\":\"y\"}},\"id\":\"1148\",\"type\":\"Line\"},{\"attributes\":{\"callback\":null,\"data\":{\"x\":{\"__ndarray__\":\"AAAAAAAAAAAXqhByaWNCPxeqEHJpY1I/I/8YKx6VWz8XqhByaWNiP57UlM5D/GY/I/8YKx6Vaz/VlM5D/BZwPxeqEHJpY3I/W79SoNavdD+e1JTOQ/x2P+Hp1vywSHk/I/8YKx6Vez9mFFtZi+F9P9WUzkP8FoA/dp/v2jI9gT8XqhByaWOCP7q0MQmgiYM/W79SoNavhD/9yXM3DdaFP57UlM5D/IY/QN+1ZXoiiD/h6db8sEiJP4P095Pnboo/I/8YKx6Viz/FCTrCVLuMP2YUW1mL4Y0/Bx988MEHjz/VlM5D/BaQPyUaX48XqpA/dp/v2jI9kT/HJIAmTtCRPxeqEHJpY5I/aS+hvYT2kj+6tDEJoImTPws6wlS7HJQ/W79SoNavlD+sROPr8UKVP/3JczcN1pU/Tk8Egyhplj+e1JTOQ/yWP+9ZJRpfj5c/QN+1ZXoimD+QZEaxlbWYP+Hp1vywSJk/Mm9nSMzbmT+D9PeT526aP9N5iN8CAps/I/8YKx6Vmz90hKl2OSicP8UJOsJUu5w/FY/KDXBOnT9mFFtZi+GdP7eZ66SmdJ4/Bx988MEHnz9ZpAw83ZqfP9WUzkP8FqA/fdeW6YlgoD8lGl+PF6qgP85cJzWl86A/dp/v2jI9oT8f4reAwIahP8ckgCZO0KE/cGdIzNsZoj8XqhByaWOiP8Ds2Bf3rKI/aS+hvYT2oj8RcmljEkCjP7q0MQmgiaM/Yvf5ri3Toz8LOsJUuxykP7J8ivpIZqQ/W79SoNavpD8DAhtGZPmkP6xE4+vxQqU/VIerkX+MpT/9yXM3DdalP6UMPN2aH6Y/Tk8Egyhppj/1kcwotrKmP57UlM5D/KY/RhdddNFFpz/vWSUaX4+nP5ec7b/s2Kc/QN+1ZXoiqD/pIX4LCGyoP5BkRrGVtag/OacOVyP/qD/h6db8sEipP4osn6I+kqk/Mm9nSMzbqT/bsS/uWSWqP4P095Pnbqo/LDfAOXW4qj/TeYjfAgKrP3y8UIWQS6s/I/8YKx6Vqz/MQeHQq96rP3SEqXY5KKw/HcdxHMdxrD8=\",\"dtype\":\"float64\",\"shape\":[100]},\"y\":{\"__ndarray__\":\"AAAAAAAAJEBJwXc68MkQvYW1inMvrgC99pEVCWZTjLyzlQTGxsp/vOYdeOcFu1u8hJlaqeVYBLwg++gvOm4DvL1cd7aOgwK8Wb4FPeOYAbz2H5TDN64AvCQDRZQYh/+7XMZhocGx/buUiX6uatz7u85Mm7sTB/q7BhC4yLwx+Ls/09TVZVz2u3eW8eIOh/S7r1kO8Lex8rvoHCv9YNzwu0LAjxQUDu67skbJLmZj6rskzQJJuLjmu5VTPGMKDuO7E7Tr+rjG3rv2wF4vXXHXu9jN0WMBHNC7dbWJMEuNwbvOeX7LnBSXuyZF7wC6wEq7HMS4ZAWLSbsTQ4LIUFVIuwrCSyycH0e7AUEVkOfpRbv4v97zMrREu+8+qFd+fkO75r1xu8lIQrvdPDsfFRNBu6d3CQbBuj+7lXWczVdPPbuDcy+V7uM6u3FxwlyFeDi7Xm9VJBwNNrtNbejrsqEzuztre7NJNjG7UNIc9sCVLbsszkKF7r4ouwjKaBQc6CO724sdR5MiHruSg2ll7nQUu5T2ageTjgW7FTAXIEqa0bo7/+WuFAaSupBKNe/d8ZG65JWEL6fdkbo64dNvcMmRuo4sI7A5tZG65Hdy8AKhkbo4w8EwzIyRuo0OEXGVeJG64llgsV5kkbo3pa/xJ1CRuovw/jHxO5G64TtOcronkbo1h52ygxORuovS7PJM/5C63x08MxbrkLo1aYtz39aQuom02rOowpC63v8p9HGukLozS3k0O5qQuoiWyHQEhpC63OEXtc1xkLoyLWf1ll2QuoZ4tjVgSZC628MFdik1kLowD1W28iCQuoZapPa7DJC6tEvnbQrxj7pe4oXunMiPugd5JG8voI+6sg/D78F3j7papmFwVE+PugU9APHmJo+6rtOecXn+jrpaaj3yC9aOugEB3HKerY66rZd68zCFjrpWLhl0w1yOugHFt/RVNI66qVtWdegLjrpU8vT1euONuv2Ik3YNu426px8y95+SjbpQttB3MmqNuvtMb/jEQY26peMNeVcZjbpOeqz56fCMuvgQS3p8yIy6oqfp+g6gjLo=\",\"dtype\":\"float64\",\"shape\":[100]}},\"selected\":{\"id\":\"1241\",\"type\":\"Selection\"},\"selection_policy\":{\"id\":\"1240\",\"type\":\"UnionRenderers\"}},\"id\":\"1147\",\"type\":\"ColumnDataSource\"},{\"attributes\":{},\"id\":\"1664\",\"type\":\"PanTool\"},{\"attributes\":{\"source\":{\"id\":\"1147\",\"type\":\"ColumnDataSource\"}},\"id\":\"1151\",\"type\":\"CDSView\"},{\"attributes\":{\"active_drag\":\"auto\",\"active_inspect\":\"auto\",\"active_multi\":null,\"active_scroll\":\"auto\",\"active_tap\":\"auto\",\"tools\":[{\"id\":\"1134\",\"type\":\"PanTool\"},{\"id\":\"1135\",\"type\":\"WheelZoomTool\"},{\"id\":\"1136\",\"type\":\"BoxZoomTool\"},{\"id\":\"1137\",\"type\":\"SaveTool\"},{\"id\":\"1138\",\"type\":\"ResetTool\"},{\"id\":\"1139\",\"type\":\"HelpTool\"}]},\"id\":\"1140\",\"type\":\"Toolbar\"},{\"attributes\":{},\"id\":\"1665\",\"type\":\"WheelZoomTool\"},{\"attributes\":{\"data_source\":{\"id\":\"1147\",\"type\":\"ColumnDataSource\"},\"glyph\":{\"id\":\"1148\",\"type\":\"Line\"},\"hover_glyph\":null,\"muted_glyph\":null,\"nonselection_glyph\":{\"id\":\"1149\",\"type\":\"Line\"},\"selection_glyph\":null,\"view\":{\"id\":\"1151\",\"type\":\"CDSView\"}},\"id\":\"1150\",\"type\":\"GlyphRenderer\"},{\"attributes\":{\"overlay\":{\"id\":\"1687\",\"type\":\"BoxAnnotation\"}},\"id\":\"1666\",\"type\":\"BoxZoomTool\"},{\"attributes\":{\"label\":{\"value\":\"inside_H\"},\"renderers\":[{\"id\":\"1086\",\"type\":\"GlyphRenderer\"}]},\"id\":\"1096\",\"type\":\"LegendItem\"},{\"attributes\":{\"data_source\":{\"id\":\"1070\",\"type\":\"ColumnDataSource\"},\"glyph\":{\"id\":\"1071\",\"type\":\"Line\"},\"hover_glyph\":null,\"muted_glyph\":null,\"nonselection_glyph\":{\"id\":\"1072\",\"type\":\"Line\"},\"selection_glyph\":null,\"view\":{\"id\":\"1074\",\"type\":\"CDSView\"}},\"id\":\"1073\",\"type\":\"GlyphRenderer\"},{\"attributes\":{},\"id\":\"1134\",\"type\":\"PanTool\"},{\"attributes\":{},\"id\":\"1667\",\"type\":\"SaveTool\"},{\"attributes\":{\"line_alpha\":0.1,\"line_color\":\"#1f77b4\",\"line_width\":2,\"x\":{\"field\":\"x\"},\"y\":{\"field\":\"y\"}},\"id\":\"1072\",\"type\":\"Line\"},{\"attributes\":{\"label\":{\"value\":\"outside_H\"},\"renderers\":[{\"id\":\"1680\",\"type\":\"GlyphRenderer\"}]},\"id\":\"1689\",\"type\":\"LegendItem\"},{\"attributes\":{\"source\":{\"id\":\"1070\",\"type\":\"ColumnDataSource\"}},\"id\":\"1074\",\"type\":\"CDSView\"},{\"attributes\":{},\"id\":\"1135\",\"type\":\"WheelZoomTool\"},{\"attributes\":{},\"id\":\"1668\",\"type\":\"ResetTool\"},{\"attributes\":{},\"id\":\"1078\",\"type\":\"BasicTickFormatter\"},{\"attributes\":{\"overlay\":{\"id\":\"1157\",\"type\":\"BoxAnnotation\"}},\"id\":\"1136\",\"type\":\"BoxZoomTool\"},{\"attributes\":{},\"id\":\"1669\",\"type\":\"HelpTool\"},{\"attributes\":{\"label\":{\"value\":\"outside_H\"},\"renderers\":[{\"id\":\"1073\",\"type\":\"GlyphRenderer\"}]},\"id\":\"1082\",\"type\":\"LegendItem\"},{\"attributes\":{},\"id\":\"1137\",\"type\":\"SaveTool\"},{\"attributes\":{\"bottom_units\":\"screen\",\"fill_alpha\":{\"value\":0.5},\"fill_color\":{\"value\":\"lightgrey\"},\"left_units\":\"screen\",\"level\":\"overlay\",\"line_alpha\":{\"value\":1.0},\"line_color\":{\"value\":\"black\"},\"line_dash\":[4,4],\"line_width\":{\"value\":2},\"render_mode\":\"css\",\"right_units\":\"screen\",\"top_units\":\"screen\"},\"id\":\"1080\",\"type\":\"BoxAnnotation\"},{\"attributes\":{\"click_policy\":\"hide\",\"items\":[{\"id\":\"1689\",\"type\":\"LegendItem\"},{\"id\":\"1703\",\"type\":\"LegendItem\"},{\"id\":\"1719\",\"type\":\"LegendItem\"},{\"id\":\"1737\",\"type\":\"LegendItem\"}],\"location\":\"center_right\"},\"id\":\"1688\",\"type\":\"Legend\"},{\"attributes\":{},\"id\":\"1058\",\"type\":\"WheelZoomTool\"},{\"attributes\":{\"callback\":null,\"data\":{\"x\":{\"__ndarray__\":\"AAAAAAAAAAAXqhByaWNCPxeqEHJpY1I/I/8YKx6VWz8XqhByaWNiP57UlM5D/GY/I/8YKx6Vaz/VlM5D/BZwPxeqEHJpY3I/W79SoNavdD+e1JTOQ/x2P+Hp1vywSHk/I/8YKx6Vez9mFFtZi+F9P9WUzkP8FoA/dp/v2jI9gT8XqhByaWOCP7q0MQmgiYM/W79SoNavhD/9yXM3DdaFP57UlM5D/IY/QN+1ZXoiiD/h6db8sEiJP4P095Pnboo/I/8YKx6Viz/FCTrCVLuMP2YUW1mL4Y0/Bx988MEHjz/VlM5D/BaQPyUaX48XqpA/dp/v2jI9kT/HJIAmTtCRPxeqEHJpY5I/aS+hvYT2kj+6tDEJoImTPws6wlS7HJQ/W79SoNavlD+sROPr8UKVP/3JczcN1pU/Tk8Egyhplj+e1JTOQ/yWP+9ZJRpfj5c/QN+1ZXoimD+QZEaxlbWYP+Hp1vywSJk/Mm9nSMzbmT+D9PeT526aP9N5iN8CAps/I/8YKx6Vmz90hKl2OSicP8UJOsJUu5w/FY/KDXBOnT9mFFtZi+GdP7eZ66SmdJ4/Bx988MEHnz9ZpAw83ZqfP9WUzkP8FqA/fdeW6YlgoD8lGl+PF6qgP85cJzWl86A/dp/v2jI9oT8f4reAwIahP8ckgCZO0KE/cGdIzNsZoj8XqhByaWOiP8Ds2Bf3rKI/aS+hvYT2oj8RcmljEkCjP7q0MQmgiaM/Yvf5ri3Toz8LOsJUuxykP7J8ivpIZqQ/W79SoNavpD8DAhtGZPmkP6xE4+vxQqU/VIerkX+MpT/9yXM3DdalP6UMPN2aH6Y/Tk8Egyhppj/1kcwotrKmP57UlM5D/KY/RhdddNFFpz/vWSUaX4+nP5ec7b/s2Kc/QN+1ZXoiqD/pIX4LCGyoP5BkRrGVtag/OacOVyP/qD/h6db8sEipP4osn6I+kqk/Mm9nSMzbqT/bsS/uWSWqP4P095Pnbqo/LDfAOXW4qj/TeYjfAgKrP3y8UIWQS6s/I/8YKx6Vqz/MQeHQq96rP3SEqXY5KKw/HcdxHMdxrD8=\",\"dtype\":\"float64\",\"shape\":[100]},\"y\":{\"__ndarray__\":\"AAAAAAAAAAANjp0lCS7fP7ZeI3ecoxVA/zeKxJKRI0B04skq9v8jQHBA/////yNADjoAAAAAJECXJAAAAAAkQL0i3P///yNAeTn3////I0BrpQkAAAAkQFhLCQAAACRAxgz7////I0AHuvP///8jQGaK/f///yNAyM0BAAAAJECWGCwAAAAkQKsi9f///yNAmOMDAAAAJEAHCO3///8jQB+q/v///yNAX2UEAAAAJEBNiAAAAAAkQI1DBwAAACRAvP//////I0D8//////8jQB8AAAAAACRApfL/////I0ARnAMAAAAkQJoAAAAAACRAGv3/////I0B5/P////8jQGQMAAAAACRAvRUAAAAAJEDNZvP///8jQKgJAAAAACRA3///////I0Ai//////8jQI77/////yNA7uH/////I0CC//////8jQFURAAAAACRAZyYAAAAAJEBL5v////8jQDIDAAAAACRAEiUAAAAAJEANqQAAAAAkQGo8+v///yNAn5gFAAAAJEA1AAAAAAAkQDr+/////yNA+wAAAAAAJEA5AAAAAAAkQKj//////yNAugAAAAAAJED8//////8jQM4AAAAAACRA4P//////I0AbAQAAAAAkQMH+/////yNAxAAAAAAAJEB+AQAAAAAkQGX//////yNAHAMAAAAAJED+8f////8jQKsyAAAAACRATDn/////I0A0NwMAAAAkQPEF8v///yNAw9I/AAAAJEDu//////8jQO3//////yNA7v//////I0Du//////8jQO3//////yNA7f//////I0Du//////8jQO3//////yNA7///////I0Du//////8jQO///////yNA8f//////I0Dl//////8jQAsAAAAAACRAj///////I0AnAQAAAAAkQKj7/////yNAAQ8AAAAAJEBaSgAAAAAkQN/r/////yNAKtv/////I0BiHgAAAAAkQC4FAAAAACRAcDMAAAAAJECnPgAAAAAkQG+K/////yNAO30AAAAAJEDKN/////8jQFWb9v///yNABt0BAAAAJEA=\",\"dtype\":\"float64\",\"shape\":[100]}},\"selected\":{\"id\":\"1111\",\"type\":\"Selection\"},\"selection_policy\":{\"id\":\"1110\",\"type\":\"UnionRenderers\"}},\"id\":\"1083\",\"type\":\"ColumnDataSource\"},{\"attributes\":{},\"id\":\"1138\",\"type\":\"ResetTool\"},{\"attributes\":{\"data_source\":{\"id\":\"1083\",\"type\":\"ColumnDataSource\"},\"glyph\":{\"id\":\"1084\",\"type\":\"Line\"},\"hover_glyph\":null,\"muted_glyph\":null,\"nonselection_glyph\":{\"id\":\"1085\",\"type\":\"Line\"},\"selection_glyph\":null,\"view\":{\"id\":\"1087\",\"type\":\"CDSView\"}},\"id\":\"1086\",\"type\":\"GlyphRenderer\"},{\"attributes\":{\"data_source\":{\"id\":\"1677\",\"type\":\"ColumnDataSource\"},\"glyph\":{\"id\":\"1678\",\"type\":\"Line\"},\"hover_glyph\":null,\"muted_glyph\":null,\"nonselection_glyph\":{\"id\":\"1679\",\"type\":\"Line\"},\"selection_glyph\":null,\"view\":{\"id\":\"1681\",\"type\":\"CDSView\"}},\"id\":\"1680\",\"type\":\"GlyphRenderer\"},{\"attributes\":{\"line_alpha\":0.1,\"line_color\":\"#1f77b4\",\"line_width\":2,\"x\":{\"field\":\"x\"},\"y\":{\"field\":\"y\"}},\"id\":\"1085\",\"type\":\"Line\"},{\"attributes\":{},\"id\":\"1139\",\"type\":\"HelpTool\"},{\"attributes\":{\"line_alpha\":0.1,\"line_color\":\"#1f77b4\",\"line_width\":2,\"x\":{\"field\":\"x\"},\"y\":{\"field\":\"y\"}},\"id\":\"1679\",\"type\":\"Line\"},{\"attributes\":{\"source\":{\"id\":\"1677\",\"type\":\"ColumnDataSource\"}},\"id\":\"1681\",\"type\":\"CDSView\"},{\"attributes\":{\"source\":{\"id\":\"1083\",\"type\":\"ColumnDataSource\"}},\"id\":\"1087\",\"type\":\"CDSView\"},{\"attributes\":{},\"id\":\"1685\",\"type\":\"BasicTickFormatter\"},{\"attributes\":{\"callback\":null,\"data\":{\"x\":{\"__ndarray__\":\"AAAAAAAAAAAXqhByaWNCPxeqEHJpY1I/I/8YKx6VWz8XqhByaWNiP57UlM5D/GY/I/8YKx6Vaz/VlM5D/BZwPxeqEHJpY3I/W79SoNavdD+e1JTOQ/x2P+Hp1vywSHk/I/8YKx6Vez9mFFtZi+F9P9WUzkP8FoA/dp/v2jI9gT8XqhByaWOCP7q0MQmgiYM/W79SoNavhD/9yXM3DdaFP57UlM5D/IY/QN+1ZXoiiD/h6db8sEiJP4P095Pnboo/I/8YKx6Viz/FCTrCVLuMP2YUW1mL4Y0/Bx988MEHjz/VlM5D/BaQPyUaX48XqpA/dp/v2jI9kT/HJIAmTtCRPxeqEHJpY5I/aS+hvYT2kj+6tDEJoImTPws6wlS7HJQ/W79SoNavlD+sROPr8UKVP/3JczcN1pU/Tk8Egyhplj+e1JTOQ/yWP+9ZJRpfj5c/QN+1ZXoimD+QZEaxlbWYP+Hp1vywSJk/Mm9nSMzbmT+D9PeT526aP9N5iN8CAps/I/8YKx6Vmz90hKl2OSicP8UJOsJUu5w/FY/KDXBOnT9mFFtZi+GdP7eZ66SmdJ4/Bx988MEHnz9ZpAw83ZqfP9WUzkP8FqA/fdeW6YlgoD8lGl+PF6qgP85cJzWl86A/dp/v2jI9oT8f4reAwIahP8ckgCZO0KE/cGdIzNsZoj8XqhByaWOiP8Ds2Bf3rKI/aS+hvYT2oj8RcmljEkCjP7q0MQmgiaM/Yvf5ri3Toz8LOsJUuxykP7J8ivpIZqQ/W79SoNavpD8DAhtGZPmkP6xE4+vxQqU/VIerkX+MpT/9yXM3DdalP6UMPN2aH6Y/Tk8Egyhppj/1kcwotrKmP57UlM5D/KY/RhdddNFFpz/vWSUaX4+nP5ec7b/s2Kc/QN+1ZXoiqD/pIX4LCGyoP5BkRrGVtag/OacOVyP/qD/h6db8sEipP4osn6I+kqk/Mm9nSMzbqT/bsS/uWSWqP4P095Pnbqo/LDfAOXW4qj/TeYjfAgKrP3y8UIWQS6s/I/8YKx6Vqz/MQeHQq96rP3SEqXY5KKw/HcdxHMdxrD8=\",\"dtype\":\"float64\",\"shape\":[100]},\"y\":{\"__ndarray__\":\"AAAAAAAAAACKEvStArnUPuzth/a5AgQ/4bY4hDVKID+07QC8jqEyP1k2P1CzkEE/qdBryDRRTT83Y8puln5WPxYWooyDO2A/80gea4dbZj8prcnyma5tPxvRNQaPIHM/SPUd2XoOeD/5B7Gr6qR9Pz6T/SRj84E/wdfBZhFrhT8479gqLzqJP5vXWCMcYY0/qj9rn/nvkD++abH7SVuTP9vYtDlV8pU/3W3/W9u0mD8FbyVviaKbP/ctnVL8up4/t79fkuH+oD+erVCyMLWiP9YWfGkogKQ/tE47jIFfpj9VI2+c8VKoP4noUG0rWqo/hCh/tN90rD/2COaEvaKuP4QGrV+5cbA/4fJAOVabsT8m3K6XC86yPwlzM6mvCbQ/R4eHohhOtT+bfJPZHJu2P4RNzN2S8Lc/QH/1jFFOuT/2mVYkMLS6P4H0vU8GIrw/yL0wNqyXvT8etG6E+hS/P5lNqjrlTMA/oMaT7PoSwT9Wp6GNq9zBPzyIJqPkqcI/KXTFA5R6wz8H45jYp07EP5p77Z0OJsU/x+uSI7cAxj9xs/CMkN7GP5f1yVCKv8c/an28OJSjyD9Ts5JgnorJP9KXbDWZdMo/3QLBdHVhyz+UVj4rJFHMP18wrrOWQ80/2f3xtL44zj/rlwYijjDPP4Wzqpt7FdA/THbZPPaT0D+pVnlasBPRP6OdKX2jlNE/inlwT8kW0j9rA/ucG5rSP3Fr6lGUHtM/P9AIei2k0z9lZgdA4SrUPzLHv+ypstQ/Aop75oE71T+4Az6wY8XVP2hQD+lJUNY/BgFLSy/c1j/0wfGrDmnXP9GQAfri9tc/5pXQPaeF2D/ZPzyYVhXZP9kjCkPspdk/9bS7jmM32j9Lnhzit8naP1ocTLvkXNs/d+qjruXw2z/+eT9ltoXcP8vmxpxSG90/iqZHJ7ax3T9fba7q3EjeP9eCOeDC4N4/mK39E2R53z9ceTxSXgngP9tGGGFkVuA/ReOfV8Kj4D9EPHdfdvHgP/32pqp+P+E/TwVtc9mN4T+GgA78hNzhP32gqo5/K+I/4LMOfcd64j8=\",\"dtype\":\"float64\",\"shape\":[100]}},\"selected\":{\"id\":\"1944\",\"type\":\"Selection\"},\"selection_policy\":{\"id\":\"1943\",\"type\":\"UnionRenderers\"}},\"id\":\"1720\",\"type\":\"ColumnDataSource\"},{\"attributes\":{},\"id\":\"1717\",\"type\":\"UnionRenderers\"},{\"attributes\":{\"label\":{\"value\":\"bound atp synthase\"},\"renderers\":[{\"id\":\"1707\",\"type\":\"GlyphRenderer\"}]},\"id\":\"1719\",\"type\":\"LegendItem\"},{\"attributes\":{\"callback\":null,\"data\":{\"x\":{\"__ndarray__\":\"AAAAAAAAAAAXqhByaWNCPxeqEHJpY1I/I/8YKx6VWz8XqhByaWNiP57UlM5D/GY/I/8YKx6Vaz/VlM5D/BZwPxeqEHJpY3I/W79SoNavdD+e1JTOQ/x2P+Hp1vywSHk/I/8YKx6Vez9mFFtZi+F9P9WUzkP8FoA/dp/v2jI9gT8XqhByaWOCP7q0MQmgiYM/W79SoNavhD/9yXM3DdaFP57UlM5D/IY/QN+1ZXoiiD/h6db8sEiJP4P095Pnboo/I/8YKx6Viz/FCTrCVLuMP2YUW1mL4Y0/Bx988MEHjz/VlM5D/BaQPyUaX48XqpA/dp/v2jI9kT/HJIAmTtCRPxeqEHJpY5I/aS+hvYT2kj+6tDEJoImTPws6wlS7HJQ/W79SoNavlD+sROPr8UKVP/3JczcN1pU/Tk8Egyhplj+e1JTOQ/yWP+9ZJRpfj5c/QN+1ZXoimD+QZEaxlbWYP+Hp1vywSJk/Mm9nSMzbmT+D9PeT526aP9N5iN8CAps/I/8YKx6Vmz90hKl2OSicP8UJOsJUu5w/FY/KDXBOnT9mFFtZi+GdP7eZ66SmdJ4/Bx988MEHnz9ZpAw83ZqfP9WUzkP8FqA/fdeW6YlgoD8lGl+PF6qgP85cJzWl86A/dp/v2jI9oT8f4reAwIahP8ckgCZO0KE/cGdIzNsZoj8XqhByaWOiP8Ds2Bf3rKI/aS+hvYT2oj8RcmljEkCjP7q0MQmgiaM/Yvf5ri3Toz8LOsJUuxykP7J8ivpIZqQ/W79SoNavpD8DAhtGZPmkP6xE4+vxQqU/VIerkX+MpT/9yXM3DdalP6UMPN2aH6Y/Tk8Egyhppj/1kcwotrKmP57UlM5D/KY/RhdddNFFpz/vWSUaX4+nP5ec7b/s2Kc/QN+1ZXoiqD/pIX4LCGyoP5BkRrGVtag/OacOVyP/qD/h6db8sEipP4osn6I+kqk/Mm9nSMzbqT/bsS/uWSWqP4P095Pnbqo/LDfAOXW4qj/TeYjfAgKrP3y8UIWQS6s/I/8YKx6Vqz/MQeHQq96rP3SEqXY5KKw/HcdxHMdxrD8=\",\"dtype\":\"float64\",\"shape\":[100]},\"y\":{\"__ndarray__\":\"AAAAAAAAAADTQgNBNS9UP/GrI3pvaIM/cq2iBtEwnz+3omj6iWqxP4E3PnACrr8/tX8zv5QyyT8CHe0VwDnSP0X4cr7Akdg/wKurrD5i3z/n/4PDyDjjP+nePJghyOY/8q/kRiNN6j9lEEfSB7vtP7Cm0p6whPA/Ac8AGY4Z8j/V7G5fzprzP09s0Z0CCPU/NnOgN1Rh9j8ILVJBUKf3PzTIo8DB2vg/KUsmJpf8+T882BX2zw37P2tlOXBwD/w/HbOOXnkC/T9xg+j24uf9P2vErLiZwP4/J4/ztnyN/z/n45pvricAQNzFTG9+gwBA9lhqt4jaAEByhlv+IC0BQLysW5mUewFADSKr+SrGAUCvrfQJJg0CQI5ud5nCUAJA0GwswTiRAkDzgxtEvM4CQH26I+p8CQNAtBh21KZBA0Bo74vLYncDQFioUYfWqgNA7SvK7CTcA0AOuB9abgsEQHn1VMPQOARArcVT/GdkBEAtkbnbTY4EQOzTqGaatgRAHyTb9mPdBEBcfyxdvwIFQJiWPgHAJgVASNwd/ndJBUBNTFw8+GoFQE5XPIpQiwVA8UM3sY+qBUAuctaJw8gFQBUxhg755QVAO7gCajwCBkCHUB4MmR0GQFE8Ba8ZOAZAF8DUa8hRBkCThXfCrmoGQFWRXqXVggZAX9JAg0WaBkC8yzNQBrEGQESGJY4fxwZAZEdrVJjcBkDIKRVXd/EGQDX4N+3CBQdA8nomF4EZB0B3aTWEtywHQEK9mZdrPwdAuVhpbaJRB0A0VgLfYGMHQBzCNIerdAdARrHmxYaFB0C4mf7D9pUHQA4ALnf/pQdALlrcoKS1B0CSctTb6cQHQHTcOY/S0wdAtvY1/mHiB0CxkWBFm/AHQPMlTFmB/gdAumRQEhcMCEDFNnsjXxkIQEBISSJcJghAYLH7iRAzCEBCgbi1fj8IQAIdweqoSwhAH38WVJFXCEBhboUEOmMIQF5e2PqkbghAYASDH9R5CECk7CxHyYQIQDNd6TOGjwhAdLkRlQyaCEDrhLcKXqQIQCYumyF8rghA8VDzWWi4CEA=\",\"dtype\":\"float64\",\"shape\":[100]}},\"selected\":{\"id\":\"1718\",\"type\":\"Selection\"},\"selection_policy\":{\"id\":\"1717\",\"type\":\"UnionRenderers\"}},\"id\":\"1690\",\"type\":\"ColumnDataSource\"},{\"attributes\":{},\"id\":\"1718\",\"type\":\"Selection\"},{\"attributes\":{\"line_color\":\"#ff7e0e\",\"line_width\":2,\"x\":{\"field\":\"x\"},\"y\":{\"field\":\"y\"}},\"id\":\"1691\",\"type\":\"Line\"},{\"attributes\":{},\"id\":\"1076\",\"type\":\"BasicTickFormatter\"},{\"attributes\":{\"label\":{\"value\":\"inside_H\"},\"renderers\":[{\"id\":\"1693\",\"type\":\"GlyphRenderer\"}]},\"id\":\"1703\",\"type\":\"LegendItem\"},{\"attributes\":{\"line_color\":\"#9367bc\",\"line_width\":2,\"x\":{\"field\":\"x\"},\"y\":{\"field\":\"y\"}},\"id\":\"1721\",\"type\":\"Line\"},{\"attributes\":{},\"id\":\"1237\",\"type\":\"UnionRenderers\"},{\"attributes\":{\"line_alpha\":0.1,\"line_color\":\"#1f77b4\",\"line_width\":2,\"x\":{\"field\":\"x\"},\"y\":{\"field\":\"y\"}},\"id\":\"1722\",\"type\":\"Line\"},{\"attributes\":{},\"id\":\"1701\",\"type\":\"UnionRenderers\"},{\"attributes\":{\"data_source\":{\"id\":\"1720\",\"type\":\"ColumnDataSource\"},\"glyph\":{\"id\":\"1721\",\"type\":\"Line\"},\"hover_glyph\":null,\"muted_glyph\":null,\"nonselection_glyph\":{\"id\":\"1722\",\"type\":\"Line\"},\"selection_glyph\":null,\"view\":{\"id\":\"1724\",\"type\":\"CDSView\"}},\"id\":\"1723\",\"type\":\"GlyphRenderer\"},{\"attributes\":{},\"id\":\"1702\",\"type\":\"Selection\"},{\"attributes\":{\"source\":{\"id\":\"1720\",\"type\":\"ColumnDataSource\"}},\"id\":\"1724\",\"type\":\"CDSView\"},{\"attributes\":{},\"id\":\"1735\",\"type\":\"UnionRenderers\"},{\"attributes\":{\"label\":{\"value\":\"bound proton pump\"},\"renderers\":[{\"id\":\"1723\",\"type\":\"GlyphRenderer\"}]},\"id\":\"1737\",\"type\":\"LegendItem\"},{\"attributes\":{},\"id\":\"1736\",\"type\":\"Selection\"},{\"attributes\":{\"callback\":null,\"data\":{\"x\":{\"__ndarray__\":\"AAAAAAAAAAAXqhByaWNCPxeqEHJpY1I/I/8YKx6VWz8XqhByaWNiP57UlM5D/GY/I/8YKx6Vaz/VlM5D/BZwPxeqEHJpY3I/W79SoNavdD+e1JTOQ/x2P+Hp1vywSHk/I/8YKx6Vez9mFFtZi+F9P9WUzkP8FoA/dp/v2jI9gT8XqhByaWOCP7q0MQmgiYM/W79SoNavhD/9yXM3DdaFP57UlM5D/IY/QN+1ZXoiiD/h6db8sEiJP4P095Pnboo/I/8YKx6Viz/FCTrCVLuMP2YUW1mL4Y0/Bx988MEHjz/VlM5D/BaQPyUaX48XqpA/dp/v2jI9kT/HJIAmTtCRPxeqEHJpY5I/aS+hvYT2kj+6tDEJoImTPws6wlS7HJQ/W79SoNavlD+sROPr8UKVP/3JczcN1pU/Tk8Egyhplj+e1JTOQ/yWP+9ZJRpfj5c/QN+1ZXoimD+QZEaxlbWYP+Hp1vywSJk/Mm9nSMzbmT+D9PeT526aP9N5iN8CAps/I/8YKx6Vmz90hKl2OSicP8UJOsJUu5w/FY/KDXBOnT9mFFtZi+GdP7eZ66SmdJ4/Bx988MEHnz9ZpAw83ZqfP9WUzkP8FqA/fdeW6YlgoD8lGl+PF6qgP85cJzWl86A/dp/v2jI9oT8f4reAwIahP8ckgCZO0KE/cGdIzNsZoj8XqhByaWOiP8Ds2Bf3rKI/aS+hvYT2oj8RcmljEkCjP7q0MQmgiaM/Yvf5ri3Toz8LOsJUuxykP7J8ivpIZqQ/W79SoNavpD8DAhtGZPmkP6xE4+vxQqU/VIerkX+MpT/9yXM3DdalP6UMPN2aH6Y/Tk8Egyhppj/1kcwotrKmP57UlM5D/KY/RhdddNFFpz/vWSUaX4+nP5ec7b/s2Kc/QN+1ZXoiqD/pIX4LCGyoP5BkRrGVtag/OacOVyP/qD/h6db8sEipP4osn6I+kqk/Mm9nSMzbqT/bsS/uWSWqP4P095Pnbqo/LDfAOXW4qj/TeYjfAgKrP3y8UIWQS6s/I/8YKx6Vqz/MQeHQq96rP3SEqXY5KKw/HcdxHMdxrD8=\",\"dtype\":\"float64\",\"shape\":[100]},\"y\":{\"__ndarray__\":\"AAAAAAAAAADHEvStArnUPh7uh/a5AgQ//7Y4hDVKID/S7QC8jqEyP3I2P1CzkEE/zNBryDRRTT9PY8puln5WPyYWooyDO2A/B0kea4dbZj9Brcnyma5tPyjRNQaPIHM/V/Ud2XoOeD8KCLGr6qR9P0eT/SRj84E/zdfBZhFrhT9G79gqLzqJP6rXWCMcYY0/sj9rn/nvkD/HabH7SVuTP+TYtDlV8pU/6W3/W9u0mD8SbyVviaKbPwYunVL8up4/v79fkuH+oD+mrVCyMLWiP+AWfGkogKQ/vU47jIFfpj9gI2+c8VKoP5ToUG0rWqo/jyh/tN90rD8CCeaEvaKuP4sGrV+5cbA/6PJAOVabsT8u3K6XC86yPxJzM6mvCbQ/UYeHohhOtT+lfJPZHJu2P41NzN2S8Lc/Sn/1jFFOuT8AmlYkMLS6P4v0vU8GIrw/0r0wNqyXvT8otG6E+hS/P59NqjrlTMA/psaT7PoSwT9cp6GNq9zBP0KIJqPkqcI/L3TFA5R6wz8O45jYp07EP6F77Z0OJsU/zuuSI7cAxj94s/CMkN7GP571yVCKv8c/cX28OJSjyD9as5JgnorJP9mXbDWZdMo/5ALBdHVhyz+bVj4rJFHMP2cwrrOWQ80/4f3xtL44zj/zlwYijjDPP4mzqpt7FdA/UHbZPPaT0D+uVnlasBPRP6idKX2jlNE/jnlwT8kW0j9wA/ucG5rSP3hr6lGUHtM/RtAIei2k0z9tZgdA4SrUPzrHv+ypstQ/C4p75oE71T/BAz6wY8XVP3FQD+lJUNY/EAFLSy/c1j/+wfGrDmnXP9uQAfri9tc/75XQPaeF2D/iPzyYVhXZP+IjCkPspdk//rS7jmM32j9Unhzit8naP2QcTLvkXNs/geqjruXw2z8Iej9ltoXcP9XmxpxSG90/lKZHJ7ax3T9qba7q3EjeP+KCOeDC4N4/o639E2R53z9heTxSXgngP+BGGGFkVuA/SuOfV8Kj4D9JPHdfdvHgPwP3pqp+P+E/VQVtc9mN4T+MgA78hNzhP4Ogqo5/K+I/57MOfcd64j8=\",\"dtype\":\"float64\",\"shape\":[100]}},\"selected\":{\"id\":\"1736\",\"type\":\"Selection\"},\"selection_policy\":{\"id\":\"1735\",\"type\":\"UnionRenderers\"}},\"id\":\"1704\",\"type\":\"ColumnDataSource\"},{\"attributes\":{},\"id\":\"1238\",\"type\":\"Selection\"},{\"attributes\":{},\"id\":\"1240\",\"type\":\"UnionRenderers\"},{\"attributes\":{},\"id\":\"1241\",\"type\":\"Selection\"},{\"attributes\":{\"data_source\":{\"id\":\"1704\",\"type\":\"ColumnDataSource\"},\"glyph\":{\"id\":\"1705\",\"type\":\"Line\"},\"hover_glyph\":null,\"muted_glyph\":null,\"nonselection_glyph\":{\"id\":\"1706\",\"type\":\"Line\"},\"selection_glyph\":null,\"view\":{\"id\":\"1708\",\"type\":\"CDSView\"}},\"id\":\"1707\",\"type\":\"GlyphRenderer\"},{\"attributes\":{\"source\":{\"id\":\"1690\",\"type\":\"ColumnDataSource\"}},\"id\":\"1694\",\"type\":\"CDSView\"},{\"attributes\":{\"line_alpha\":0.1,\"line_color\":\"#1f77b4\",\"line_width\":2,\"x\":{\"field\":\"x\"},\"y\":{\"field\":\"y\"}},\"id\":\"1692\",\"type\":\"Line\"},{\"attributes\":{\"source\":{\"id\":\"1704\",\"type\":\"ColumnDataSource\"}},\"id\":\"1708\",\"type\":\"CDSView\"},{\"attributes\":{},\"id\":\"1943\",\"type\":\"UnionRenderers\"},{\"attributes\":{\"data_source\":{\"id\":\"1690\",\"type\":\"ColumnDataSource\"},\"glyph\":{\"id\":\"1691\",\"type\":\"Line\"},\"hover_glyph\":null,\"muted_glyph\":null,\"nonselection_glyph\":{\"id\":\"1692\",\"type\":\"Line\"},\"selection_glyph\":null,\"view\":{\"id\":\"1694\",\"type\":\"CDSView\"}},\"id\":\"1693\",\"type\":\"GlyphRenderer\"},{\"attributes\":{},\"id\":\"1111\",\"type\":\"Selection\"},{\"attributes\":{\"click_policy\":\"hide\",\"items\":[{\"id\":\"1082\",\"type\":\"LegendItem\"},{\"id\":\"1096\",\"type\":\"LegendItem\"},{\"id\":\"1112\",\"type\":\"LegendItem\"}],\"location\":\"bottom_right\"},\"id\":\"1081\",\"type\":\"Legend\"},{\"attributes\":{\"line_color\":\"#2ba02b\",\"line_width\":2,\"x\":{\"field\":\"x\"},\"y\":{\"field\":\"y\"}},\"id\":\"1705\",\"type\":\"Line\"},{\"attributes\":{},\"id\":\"1944\",\"type\":\"Selection\"},{\"attributes\":{\"line_alpha\":0.1,\"line_color\":\"#1f77b4\",\"line_width\":2,\"x\":{\"field\":\"x\"},\"y\":{\"field\":\"y\"}},\"id\":\"1706\",\"type\":\"Line\"},{\"attributes\":{\"below\":[{\"id\":\"1047\",\"type\":\"LinearAxis\"}],\"center\":[{\"id\":\"1051\",\"type\":\"Grid\"},{\"id\":\"1056\",\"type\":\"Grid\"},{\"id\":\"1081\",\"type\":\"Legend\"}],\"left\":[{\"id\":\"1052\",\"type\":\"LinearAxis\"}],\"plot_height\":350,\"plot_width\":450,\"renderers\":[{\"id\":\"1073\",\"type\":\"GlyphRenderer\"},{\"id\":\"1086\",\"type\":\"GlyphRenderer\"},{\"id\":\"1100\",\"type\":\"GlyphRenderer\"}],\"title\":{\"id\":\"1037\",\"type\":\"Title\"},\"toolbar\":{\"id\":\"1063\",\"type\":\"Toolbar\"},\"x_range\":{\"id\":\"1039\",\"type\":\"DataRange1d\"},\"x_scale\":{\"id\":\"1043\",\"type\":\"LinearScale\"},\"y_range\":{\"id\":\"1041\",\"type\":\"DataRange1d\"},\"y_scale\":{\"id\":\"1045\",\"type\":\"LinearScale\"}},\"id\":\"1036\",\"subtype\":\"Figure\",\"type\":\"Plot\"},{\"attributes\":{\"below\":[{\"id\":\"1124\",\"type\":\"LinearAxis\"}],\"center\":[{\"id\":\"1128\",\"type\":\"Grid\"},{\"id\":\"1133\",\"type\":\"Grid\"},{\"id\":\"1158\",\"type\":\"Legend\"}],\"left\":[{\"id\":\"1129\",\"type\":\"LinearAxis\"}],\"plot_height\":350,\"plot_width\":450,\"renderers\":[{\"id\":\"1150\",\"type\":\"GlyphRenderer\"}],\"title\":{\"id\":\"1114\",\"type\":\"Title\"},\"toolbar\":{\"id\":\"1140\",\"type\":\"Toolbar\"},\"x_range\":{\"id\":\"1116\",\"type\":\"DataRange1d\"},\"x_scale\":{\"id\":\"1120\",\"type\":\"LinearScale\"},\"y_range\":{\"id\":\"1118\",\"type\":\"DataRange1d\"},\"y_scale\":{\"id\":\"1122\",\"type\":\"LinearScale\"}},\"id\":\"1113\",\"subtype\":\"Figure\",\"type\":\"Plot\"},{\"attributes\":{},\"id\":\"1110\",\"type\":\"UnionRenderers\"},{\"attributes\":{\"text\":\"with ATP Synthase\"},\"id\":\"1037\",\"type\":\"Title\"}],\"root_ids\":[\"2101\"]},\"title\":\"Bokeh Application\",\"version\":\"1.4.0\"}};\n",
       "  var render_items = [{\"docid\":\"fa0500b6-ddd6-4c31-a243-f04aa53a4e78\",\"roots\":{\"2101\":\"7600fb0c-7373-429b-9692-7c351289473e\"}}];\n",
       "  root.Bokeh.embed.embed_items_notebook(docs_json, render_items);\n",
       "\n",
       "  }\n",
       "  if (root.Bokeh !== undefined) {\n",
       "    embed_document(root);\n",
       "  } else {\n",
       "    var attempts = 0;\n",
       "    var timer = setInterval(function(root) {\n",
       "      if (root.Bokeh !== undefined) {\n",
       "        clearInterval(timer);\n",
       "        embed_document(root);\n",
       "      } else {\n",
       "        attempts++;\n",
       "        if (attempts > 100) {\n",
       "          clearInterval(timer);\n",
       "          console.log(\"Bokeh: ERROR: Unable to run BokehJS code because BokehJS library is missing\");\n",
       "        }\n",
       "      }\n",
       "    }, 10, root)\n",
       "  }\n",
       "})(window);"
      ],
      "application/vnd.bokehjs_exec.v0+json": ""
     },
     "metadata": {
      "application/vnd.bokehjs_exec.v0+json": {
       "id": "2101"
      }
     },
     "output_type": "display_data"
    }
   ],
   "source": [
    "bokeh.io.show(row(p3,p_w_atp, p_no_atp))"
   ]
  },
  {
   "cell_type": "markdown",
   "metadata": {},
   "source": [
    "Cool. What's going on with the second plot. How come it looks like atp isn't being consumed?? Fix those params?? Next do temperature sensitivity."
   ]
  },
  {
   "cell_type": "code",
   "execution_count": 20,
   "metadata": {},
   "outputs": [],
   "source": [
    "# p_atp = bokeh.plotting.figure(width = 450, height = 350,\n",
    "#                              title = 'ATP Compare',\n",
    "#                              x_axis_label = 'time (sec)',\n",
    "#                              y_axis_label = 'concentration (nM)')\n",
    "\n",
    "# p_atp.line(plt_timepoints, results_everything[ATP_id3],line_width = 2, color = palette[0],legend_label = 'with ATP Synthase, Proton Pump, ATP Use')\n",
    "# p_atp.line(plt_timepoints, results1[ATP_id], line_width = 2, color = palette[1], legend_label = 'with ATP Synthase, ATP Use')\n",
    "# p_atp.line(plt_timepoints, results2[ATP_id2],line_width = 2, color = palette[2],legend_label = 'ATP Use only')\n",
    "# p_atp.legend.location = 'center_right'\n",
    "# bokeh.io.show(p_atp)"
   ]
  },
  {
   "cell_type": "code",
   "execution_count": 21,
   "metadata": {},
   "outputs": [
    {
     "name": "stdout",
     "output_type": "stream",
     "text": [
      "CPython 3.7.7\n",
      "IPython 7.13.0\n",
      "\n",
      "numpy 1.18.1\n",
      "bokeh 1.4.0\n",
      "jupyterlab 1.2.6\n",
      "scipy 1.4.1\n",
      "biocrnpyler 0.2.1\n",
      "bioscrape 1.0.0\n",
      "colorcet 2.0.2\n",
      "subsbml unknown\n"
     ]
    }
   ],
   "source": [
    "#watermark\n",
    "%reload_ext watermark\n",
    "%watermark -v -p numpy,bokeh,jupyterlab,scipy,biocrnpyler,bioscrape,colorcet,subsbml\n",
    "  "
   ]
  },
  {
   "cell_type": "code",
   "execution_count": null,
   "metadata": {},
   "outputs": [],
   "source": []
  }
 ],
 "metadata": {
  "kernelspec": {
   "display_name": "Python 3",
   "language": "python",
   "name": "python3"
  },
  "language_info": {
   "codemirror_mode": {
    "name": "ipython",
    "version": 3
   },
   "file_extension": ".py",
   "mimetype": "text/x-python",
   "name": "python",
   "nbconvert_exporter": "python",
   "pygments_lexer": "ipython3",
   "version": "3.7.7"
  }
 },
 "nbformat": 4,
 "nbformat_minor": 4
}
