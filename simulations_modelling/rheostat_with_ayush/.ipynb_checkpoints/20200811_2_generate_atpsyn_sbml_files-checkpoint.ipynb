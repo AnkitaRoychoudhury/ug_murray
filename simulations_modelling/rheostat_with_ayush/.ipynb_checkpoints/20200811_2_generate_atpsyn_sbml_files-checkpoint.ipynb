{
 "cells": [
  {
   "cell_type": "markdown",
   "metadata": {},
   "source": [
    "# Generate ATP Synthase with Proton Pump SBML files\n",
    "Will try to incorporate it instead of using SBML "
   ]
  },
  {
   "cell_type": "markdown",
   "metadata": {},
   "source": [
    "---"
   ]
  },
  {
   "cell_type": "code",
   "execution_count": 2,
   "metadata": {},
   "outputs": [
    {
     "data": {
      "text/html": [
       "\n",
       "    <div class=\"bk-root\">\n",
       "        <a href=\"https://bokeh.org\" target=\"_blank\" class=\"bk-logo bk-logo-small bk-logo-notebook\"></a>\n",
       "        <span id=\"1001\">Loading BokehJS ...</span>\n",
       "    </div>"
      ]
     },
     "metadata": {},
     "output_type": "display_data"
    },
    {
     "data": {
      "application/javascript": [
       "\n",
       "(function(root) {\n",
       "  function now() {\n",
       "    return new Date();\n",
       "  }\n",
       "\n",
       "  var force = true;\n",
       "\n",
       "  if (typeof root._bokeh_onload_callbacks === \"undefined\" || force === true) {\n",
       "    root._bokeh_onload_callbacks = [];\n",
       "    root._bokeh_is_loading = undefined;\n",
       "  }\n",
       "\n",
       "  var JS_MIME_TYPE = 'application/javascript';\n",
       "  var HTML_MIME_TYPE = 'text/html';\n",
       "  var EXEC_MIME_TYPE = 'application/vnd.bokehjs_exec.v0+json';\n",
       "  var CLASS_NAME = 'output_bokeh rendered_html';\n",
       "\n",
       "  /**\n",
       "   * Render data to the DOM node\n",
       "   */\n",
       "  function render(props, node) {\n",
       "    var script = document.createElement(\"script\");\n",
       "    node.appendChild(script);\n",
       "  }\n",
       "\n",
       "  /**\n",
       "   * Handle when an output is cleared or removed\n",
       "   */\n",
       "  function handleClearOutput(event, handle) {\n",
       "    var cell = handle.cell;\n",
       "\n",
       "    var id = cell.output_area._bokeh_element_id;\n",
       "    var server_id = cell.output_area._bokeh_server_id;\n",
       "    // Clean up Bokeh references\n",
       "    if (id != null && id in Bokeh.index) {\n",
       "      Bokeh.index[id].model.document.clear();\n",
       "      delete Bokeh.index[id];\n",
       "    }\n",
       "\n",
       "    if (server_id !== undefined) {\n",
       "      // Clean up Bokeh references\n",
       "      var cmd = \"from bokeh.io.state import curstate; print(curstate().uuid_to_server['\" + server_id + \"'].get_sessions()[0].document.roots[0]._id)\";\n",
       "      cell.notebook.kernel.execute(cmd, {\n",
       "        iopub: {\n",
       "          output: function(msg) {\n",
       "            var id = msg.content.text.trim();\n",
       "            if (id in Bokeh.index) {\n",
       "              Bokeh.index[id].model.document.clear();\n",
       "              delete Bokeh.index[id];\n",
       "            }\n",
       "          }\n",
       "        }\n",
       "      });\n",
       "      // Destroy server and session\n",
       "      var cmd = \"import bokeh.io.notebook as ion; ion.destroy_server('\" + server_id + \"')\";\n",
       "      cell.notebook.kernel.execute(cmd);\n",
       "    }\n",
       "  }\n",
       "\n",
       "  /**\n",
       "   * Handle when a new output is added\n",
       "   */\n",
       "  function handleAddOutput(event, handle) {\n",
       "    var output_area = handle.output_area;\n",
       "    var output = handle.output;\n",
       "\n",
       "    // limit handleAddOutput to display_data with EXEC_MIME_TYPE content only\n",
       "    if ((output.output_type != \"display_data\") || (!output.data.hasOwnProperty(EXEC_MIME_TYPE))) {\n",
       "      return\n",
       "    }\n",
       "\n",
       "    var toinsert = output_area.element.find(\".\" + CLASS_NAME.split(' ')[0]);\n",
       "\n",
       "    if (output.metadata[EXEC_MIME_TYPE][\"id\"] !== undefined) {\n",
       "      toinsert[toinsert.length - 1].firstChild.textContent = output.data[JS_MIME_TYPE];\n",
       "      // store reference to embed id on output_area\n",
       "      output_area._bokeh_element_id = output.metadata[EXEC_MIME_TYPE][\"id\"];\n",
       "    }\n",
       "    if (output.metadata[EXEC_MIME_TYPE][\"server_id\"] !== undefined) {\n",
       "      var bk_div = document.createElement(\"div\");\n",
       "      bk_div.innerHTML = output.data[HTML_MIME_TYPE];\n",
       "      var script_attrs = bk_div.children[0].attributes;\n",
       "      for (var i = 0; i < script_attrs.length; i++) {\n",
       "        toinsert[toinsert.length - 1].firstChild.setAttribute(script_attrs[i].name, script_attrs[i].value);\n",
       "      }\n",
       "      // store reference to server id on output_area\n",
       "      output_area._bokeh_server_id = output.metadata[EXEC_MIME_TYPE][\"server_id\"];\n",
       "    }\n",
       "  }\n",
       "\n",
       "  function register_renderer(events, OutputArea) {\n",
       "\n",
       "    function append_mime(data, metadata, element) {\n",
       "      // create a DOM node to render to\n",
       "      var toinsert = this.create_output_subarea(\n",
       "        metadata,\n",
       "        CLASS_NAME,\n",
       "        EXEC_MIME_TYPE\n",
       "      );\n",
       "      this.keyboard_manager.register_events(toinsert);\n",
       "      // Render to node\n",
       "      var props = {data: data, metadata: metadata[EXEC_MIME_TYPE]};\n",
       "      render(props, toinsert[toinsert.length - 1]);\n",
       "      element.append(toinsert);\n",
       "      return toinsert\n",
       "    }\n",
       "\n",
       "    /* Handle when an output is cleared or removed */\n",
       "    events.on('clear_output.CodeCell', handleClearOutput);\n",
       "    events.on('delete.Cell', handleClearOutput);\n",
       "\n",
       "    /* Handle when a new output is added */\n",
       "    events.on('output_added.OutputArea', handleAddOutput);\n",
       "\n",
       "    /**\n",
       "     * Register the mime type and append_mime function with output_area\n",
       "     */\n",
       "    OutputArea.prototype.register_mime_type(EXEC_MIME_TYPE, append_mime, {\n",
       "      /* Is output safe? */\n",
       "      safe: true,\n",
       "      /* Index of renderer in `output_area.display_order` */\n",
       "      index: 0\n",
       "    });\n",
       "  }\n",
       "\n",
       "  // register the mime type if in Jupyter Notebook environment and previously unregistered\n",
       "  if (root.Jupyter !== undefined) {\n",
       "    var events = require('base/js/events');\n",
       "    var OutputArea = require('notebook/js/outputarea').OutputArea;\n",
       "\n",
       "    if (OutputArea.prototype.mime_types().indexOf(EXEC_MIME_TYPE) == -1) {\n",
       "      register_renderer(events, OutputArea);\n",
       "    }\n",
       "  }\n",
       "\n",
       "  \n",
       "  if (typeof (root._bokeh_timeout) === \"undefined\" || force === true) {\n",
       "    root._bokeh_timeout = Date.now() + 5000;\n",
       "    root._bokeh_failed_load = false;\n",
       "  }\n",
       "\n",
       "  var NB_LOAD_WARNING = {'data': {'text/html':\n",
       "     \"<div style='background-color: #fdd'>\\n\"+\n",
       "     \"<p>\\n\"+\n",
       "     \"BokehJS does not appear to have successfully loaded. If loading BokehJS from CDN, this \\n\"+\n",
       "     \"may be due to a slow or bad network connection. Possible fixes:\\n\"+\n",
       "     \"</p>\\n\"+\n",
       "     \"<ul>\\n\"+\n",
       "     \"<li>re-rerun `output_notebook()` to attempt to load from CDN again, or</li>\\n\"+\n",
       "     \"<li>use INLINE resources instead, as so:</li>\\n\"+\n",
       "     \"</ul>\\n\"+\n",
       "     \"<code>\\n\"+\n",
       "     \"from bokeh.resources import INLINE\\n\"+\n",
       "     \"output_notebook(resources=INLINE)\\n\"+\n",
       "     \"</code>\\n\"+\n",
       "     \"</div>\"}};\n",
       "\n",
       "  function display_loaded() {\n",
       "    var el = document.getElementById(\"1001\");\n",
       "    if (el != null) {\n",
       "      el.textContent = \"BokehJS is loading...\";\n",
       "    }\n",
       "    if (root.Bokeh !== undefined) {\n",
       "      if (el != null) {\n",
       "        el.textContent = \"BokehJS \" + root.Bokeh.version + \" successfully loaded.\";\n",
       "      }\n",
       "    } else if (Date.now() < root._bokeh_timeout) {\n",
       "      setTimeout(display_loaded, 100)\n",
       "    }\n",
       "  }\n",
       "\n",
       "\n",
       "  function run_callbacks() {\n",
       "    try {\n",
       "      root._bokeh_onload_callbacks.forEach(function(callback) {\n",
       "        if (callback != null)\n",
       "          callback();\n",
       "      });\n",
       "    } finally {\n",
       "      delete root._bokeh_onload_callbacks\n",
       "    }\n",
       "    console.debug(\"Bokeh: all callbacks have finished\");\n",
       "  }\n",
       "\n",
       "  function load_libs(css_urls, js_urls, callback) {\n",
       "    if (css_urls == null) css_urls = [];\n",
       "    if (js_urls == null) js_urls = [];\n",
       "\n",
       "    root._bokeh_onload_callbacks.push(callback);\n",
       "    if (root._bokeh_is_loading > 0) {\n",
       "      console.debug(\"Bokeh: BokehJS is being loaded, scheduling callback at\", now());\n",
       "      return null;\n",
       "    }\n",
       "    if (js_urls == null || js_urls.length === 0) {\n",
       "      run_callbacks();\n",
       "      return null;\n",
       "    }\n",
       "    console.debug(\"Bokeh: BokehJS not loaded, scheduling load and callback at\", now());\n",
       "    root._bokeh_is_loading = css_urls.length + js_urls.length;\n",
       "\n",
       "    function on_load() {\n",
       "      root._bokeh_is_loading--;\n",
       "      if (root._bokeh_is_loading === 0) {\n",
       "        console.debug(\"Bokeh: all BokehJS libraries/stylesheets loaded\");\n",
       "        run_callbacks()\n",
       "      }\n",
       "    }\n",
       "\n",
       "    function on_error() {\n",
       "      console.error(\"failed to load \" + url);\n",
       "    }\n",
       "\n",
       "    for (var i = 0; i < css_urls.length; i++) {\n",
       "      var url = css_urls[i];\n",
       "      const element = document.createElement(\"link\");\n",
       "      element.onload = on_load;\n",
       "      element.onerror = on_error;\n",
       "      element.rel = \"stylesheet\";\n",
       "      element.type = \"text/css\";\n",
       "      element.href = url;\n",
       "      console.debug(\"Bokeh: injecting link tag for BokehJS stylesheet: \", url);\n",
       "      document.body.appendChild(element);\n",
       "    }\n",
       "\n",
       "    for (var i = 0; i < js_urls.length; i++) {\n",
       "      var url = js_urls[i];\n",
       "      var element = document.createElement('script');\n",
       "      element.onload = on_load;\n",
       "      element.onerror = on_error;\n",
       "      element.async = false;\n",
       "      element.src = url;\n",
       "      console.debug(\"Bokeh: injecting script tag for BokehJS library: \", url);\n",
       "      document.head.appendChild(element);\n",
       "    }\n",
       "  };var element = document.getElementById(\"1001\");\n",
       "  if (element == null) {\n",
       "    console.error(\"Bokeh: ERROR: autoload.js configured with elementid '1001' but no matching script tag was found. \")\n",
       "    return false;\n",
       "  }\n",
       "\n",
       "  function inject_raw_css(css) {\n",
       "    const element = document.createElement(\"style\");\n",
       "    element.appendChild(document.createTextNode(css));\n",
       "    document.body.appendChild(element);\n",
       "  }\n",
       "\n",
       "  \n",
       "  var js_urls = [\"https://cdn.pydata.org/bokeh/release/bokeh-1.4.0.min.js\", \"https://cdn.pydata.org/bokeh/release/bokeh-widgets-1.4.0.min.js\", \"https://cdn.pydata.org/bokeh/release/bokeh-tables-1.4.0.min.js\", \"https://cdn.pydata.org/bokeh/release/bokeh-gl-1.4.0.min.js\"];\n",
       "  var css_urls = [];\n",
       "  \n",
       "\n",
       "  var inline_js = [\n",
       "    function(Bokeh) {\n",
       "      Bokeh.set_log_level(\"info\");\n",
       "    },\n",
       "    function(Bokeh) {\n",
       "    \n",
       "    \n",
       "    }\n",
       "  ];\n",
       "\n",
       "  function run_inline_js() {\n",
       "    \n",
       "    if (root.Bokeh !== undefined || force === true) {\n",
       "      \n",
       "    for (var i = 0; i < inline_js.length; i++) {\n",
       "      inline_js[i].call(root, root.Bokeh);\n",
       "    }\n",
       "    if (force === true) {\n",
       "        display_loaded();\n",
       "      }} else if (Date.now() < root._bokeh_timeout) {\n",
       "      setTimeout(run_inline_js, 100);\n",
       "    } else if (!root._bokeh_failed_load) {\n",
       "      console.log(\"Bokeh: BokehJS failed to load within specified timeout.\");\n",
       "      root._bokeh_failed_load = true;\n",
       "    } else if (force !== true) {\n",
       "      var cell = $(document.getElementById(\"1001\")).parents('.cell').data().cell;\n",
       "      cell.output_area.append_execute_result(NB_LOAD_WARNING)\n",
       "    }\n",
       "\n",
       "  }\n",
       "\n",
       "  if (root._bokeh_is_loading === 0) {\n",
       "    console.debug(\"Bokeh: BokehJS loaded, going straight to plotting\");\n",
       "    run_inline_js();\n",
       "  } else {\n",
       "    load_libs(css_urls, js_urls, function() {\n",
       "      console.debug(\"Bokeh: BokehJS plotting callback run at\", now());\n",
       "      run_inline_js();\n",
       "    });\n",
       "  }\n",
       "}(window));"
      ],
      "application/vnd.bokehjs_load.v0+json": "\n(function(root) {\n  function now() {\n    return new Date();\n  }\n\n  var force = true;\n\n  if (typeof root._bokeh_onload_callbacks === \"undefined\" || force === true) {\n    root._bokeh_onload_callbacks = [];\n    root._bokeh_is_loading = undefined;\n  }\n\n  \n\n  \n  if (typeof (root._bokeh_timeout) === \"undefined\" || force === true) {\n    root._bokeh_timeout = Date.now() + 5000;\n    root._bokeh_failed_load = false;\n  }\n\n  var NB_LOAD_WARNING = {'data': {'text/html':\n     \"<div style='background-color: #fdd'>\\n\"+\n     \"<p>\\n\"+\n     \"BokehJS does not appear to have successfully loaded. If loading BokehJS from CDN, this \\n\"+\n     \"may be due to a slow or bad network connection. Possible fixes:\\n\"+\n     \"</p>\\n\"+\n     \"<ul>\\n\"+\n     \"<li>re-rerun `output_notebook()` to attempt to load from CDN again, or</li>\\n\"+\n     \"<li>use INLINE resources instead, as so:</li>\\n\"+\n     \"</ul>\\n\"+\n     \"<code>\\n\"+\n     \"from bokeh.resources import INLINE\\n\"+\n     \"output_notebook(resources=INLINE)\\n\"+\n     \"</code>\\n\"+\n     \"</div>\"}};\n\n  function display_loaded() {\n    var el = document.getElementById(\"1001\");\n    if (el != null) {\n      el.textContent = \"BokehJS is loading...\";\n    }\n    if (root.Bokeh !== undefined) {\n      if (el != null) {\n        el.textContent = \"BokehJS \" + root.Bokeh.version + \" successfully loaded.\";\n      }\n    } else if (Date.now() < root._bokeh_timeout) {\n      setTimeout(display_loaded, 100)\n    }\n  }\n\n\n  function run_callbacks() {\n    try {\n      root._bokeh_onload_callbacks.forEach(function(callback) {\n        if (callback != null)\n          callback();\n      });\n    } finally {\n      delete root._bokeh_onload_callbacks\n    }\n    console.debug(\"Bokeh: all callbacks have finished\");\n  }\n\n  function load_libs(css_urls, js_urls, callback) {\n    if (css_urls == null) css_urls = [];\n    if (js_urls == null) js_urls = [];\n\n    root._bokeh_onload_callbacks.push(callback);\n    if (root._bokeh_is_loading > 0) {\n      console.debug(\"Bokeh: BokehJS is being loaded, scheduling callback at\", now());\n      return null;\n    }\n    if (js_urls == null || js_urls.length === 0) {\n      run_callbacks();\n      return null;\n    }\n    console.debug(\"Bokeh: BokehJS not loaded, scheduling load and callback at\", now());\n    root._bokeh_is_loading = css_urls.length + js_urls.length;\n\n    function on_load() {\n      root._bokeh_is_loading--;\n      if (root._bokeh_is_loading === 0) {\n        console.debug(\"Bokeh: all BokehJS libraries/stylesheets loaded\");\n        run_callbacks()\n      }\n    }\n\n    function on_error() {\n      console.error(\"failed to load \" + url);\n    }\n\n    for (var i = 0; i < css_urls.length; i++) {\n      var url = css_urls[i];\n      const element = document.createElement(\"link\");\n      element.onload = on_load;\n      element.onerror = on_error;\n      element.rel = \"stylesheet\";\n      element.type = \"text/css\";\n      element.href = url;\n      console.debug(\"Bokeh: injecting link tag for BokehJS stylesheet: \", url);\n      document.body.appendChild(element);\n    }\n\n    for (var i = 0; i < js_urls.length; i++) {\n      var url = js_urls[i];\n      var element = document.createElement('script');\n      element.onload = on_load;\n      element.onerror = on_error;\n      element.async = false;\n      element.src = url;\n      console.debug(\"Bokeh: injecting script tag for BokehJS library: \", url);\n      document.head.appendChild(element);\n    }\n  };var element = document.getElementById(\"1001\");\n  if (element == null) {\n    console.error(\"Bokeh: ERROR: autoload.js configured with elementid '1001' but no matching script tag was found. \")\n    return false;\n  }\n\n  function inject_raw_css(css) {\n    const element = document.createElement(\"style\");\n    element.appendChild(document.createTextNode(css));\n    document.body.appendChild(element);\n  }\n\n  \n  var js_urls = [\"https://cdn.pydata.org/bokeh/release/bokeh-1.4.0.min.js\", \"https://cdn.pydata.org/bokeh/release/bokeh-widgets-1.4.0.min.js\", \"https://cdn.pydata.org/bokeh/release/bokeh-tables-1.4.0.min.js\", \"https://cdn.pydata.org/bokeh/release/bokeh-gl-1.4.0.min.js\"];\n  var css_urls = [];\n  \n\n  var inline_js = [\n    function(Bokeh) {\n      Bokeh.set_log_level(\"info\");\n    },\n    function(Bokeh) {\n    \n    \n    }\n  ];\n\n  function run_inline_js() {\n    \n    if (root.Bokeh !== undefined || force === true) {\n      \n    for (var i = 0; i < inline_js.length; i++) {\n      inline_js[i].call(root, root.Bokeh);\n    }\n    if (force === true) {\n        display_loaded();\n      }} else if (Date.now() < root._bokeh_timeout) {\n      setTimeout(run_inline_js, 100);\n    } else if (!root._bokeh_failed_load) {\n      console.log(\"Bokeh: BokehJS failed to load within specified timeout.\");\n      root._bokeh_failed_load = true;\n    } else if (force !== true) {\n      var cell = $(document.getElementById(\"1001\")).parents('.cell').data().cell;\n      cell.output_area.append_execute_result(NB_LOAD_WARNING)\n    }\n\n  }\n\n  if (root._bokeh_is_loading === 0) {\n    console.debug(\"Bokeh: BokehJS loaded, going straight to plotting\");\n    run_inline_js();\n  } else {\n    load_libs(css_urls, js_urls, function() {\n      console.debug(\"Bokeh: BokehJS plotting callback run at\", now());\n      run_inline_js();\n    });\n  }\n}(window));"
     },
     "metadata": {},
     "output_type": "display_data"
    }
   ],
   "source": [
    "from biocrnpyler import *\n",
    "#from biocrnpyler.chemical_reaction_network import Species, Reaction, ComplexSpecies, Multimer\n",
    "import numpy as np\n",
    "import pylab as plt \n",
    "%matplotlib inline\n",
    "\n",
    "import bokeh.io\n",
    "import bokeh.plotting\n",
    "bokeh.io.output_notebook()\n",
    "\n",
    "import colorcet"
   ]
  },
  {
   "cell_type": "markdown",
   "metadata": {},
   "source": [
    "ATP synthase DNA --> ATP synthase RNA <br>\n",
    "ATP synthase RNA --> ATP synthase protein (folding) <br>\n",
    "ATP synthase protein --> ATP synthase membrane integration <br>\n",
    "<br> \n",
    "ATP synthesis through ATP synthase protein <br>\n",
    "ATP hydrolysis through ATP synthase protein <br>\n",
    "Proton transport through ATP synthase protein <br>\n",
    "<br>\n",
    "Proton pump DNA --> Proton pump RNA <br>\n",
    "Proton pump RNA --> Proton pump protein (folding) <br>\n",
    "Proton pump protein --> Proton pump membrane integration <br>\n",
    "<br>\n",
    "Proton transport through proton pump"
   ]
  },
  {
   "cell_type": "markdown",
   "metadata": {},
   "source": [
    "**SBML Planning** <br>\n",
    "- One sbml file for ATP synthase membrane integration\n",
    "- One sbml file for ATP synthase synthesis/hydrolysis/proton transport \n",
    "- One sbml file for proton pump membrane integration\n",
    "- One sbml file for proton pump proton transport"
   ]
  },
  {
   "cell_type": "markdown",
   "metadata": {},
   "source": [
    "## SBML for ATP transcription and translation\n",
    "---"
   ]
  },
  {
   "cell_type": "code",
   "execution_count": 52,
   "metadata": {},
   "outputs": [
    {
     "name": "stdout",
     "output_type": "stream",
     "text": [
      "TxTlDilutionMixture: liposome\n",
      "Components = [\n",
      "\tDNAassembly: atpsyn\n",
      "\tProtein: RNAP\n",
      "\tProtein: Ribo\n",
      "\tProtein: RNAase\n",
      "\tDNAassembly: cellular_processes ]\n",
      "Mechanisms = {\n",
      "\ttranscription:transcription_mm\n",
      "\ttranslation:translation_mm\n",
      "\trna_degredation:rna_degredation_mm\n",
      "\tcatalysis:michalis_menten\n",
      "\tbinding:one_step_binding }\n",
      "Global Mechanisms = {\n",
      "\tdilution:global_degredation_via_dilution } \n",
      " Species (15) = {0. complex[dna[atpsyn]:protein[RNAP](machinery)], 1. rna[atpsyn], 2. complex[protein[RNAase]:rna[atpsyn](machinery)], 3. dna[atpsyn], 4. protein[RNAP(machinery)], 5. complex[protein[Ribo]:rna[atpsyn](machinery)], 6. protein[atpsyn], 7. protein[RNAase(machinery)], 8. protein[Ribo(machinery)], 9. dna[cellular_processes], 10. complex[protein[RNAase]:rna[cellular_processes](machinery)], 11. protein[cellular_processes], 12. complex[protein[Ribo]:rna[cellular_processes](machinery)], 13. complex[dna[cellular_processes]:protein[RNAP](machinery)], 14. rna[cellular_processes]}\n",
      "Reactions (16) = [\n",
      "0. dna[atpsyn] + protein[RNAP(machinery)] <--> complex[dna[atpsyn]:protein[RNAP](machinery)]        \n",
      "        massaction: k_f(dna[atpsyn],protein[RNAP(machinery)])=100.0*dna[atpsyn]*protein[RNAP(machinery)]\n",
      "        k_r(complex[dna[atpsyn]:protein[RNAP](machinery)])=10.0*complex[dna[atpsyn]:protein[RNAP](machinery)]\n",
      "1. complex[dna[atpsyn]:protein[RNAP](machinery)] --> dna[atpsyn] + rna[atpsyn] + protein[RNAP(machinery)]        \n",
      "        massaction: k_f(complex[dna[atpsyn]:protein[RNAP](machinery)])=0.05*complex[dna[atpsyn]:protein[RNAP](machinery)]\n",
      "2. rna[atpsyn] + protein[Ribo(machinery)] <--> complex[protein[Ribo]:rna[atpsyn](machinery)]        \n",
      "        massaction: k_f(rna[atpsyn],protein[Ribo(machinery)])=100.0*rna[atpsyn]*protein[Ribo(machinery)]\n",
      "        k_r(complex[protein[Ribo]:rna[atpsyn](machinery)])=10.0*complex[protein[Ribo]:rna[atpsyn](machinery)]\n",
      "3. complex[protein[Ribo]:rna[atpsyn](machinery)] --> rna[atpsyn] + protein[atpsyn] + protein[Ribo(machinery)]        \n",
      "        massaction: k_f(complex[protein[Ribo]:rna[atpsyn](machinery)])=0.05*complex[protein[Ribo]:rna[atpsyn](machinery)]\n",
      "4. rna[atpsyn] + protein[RNAase(machinery)] <--> complex[protein[RNAase]:rna[atpsyn](machinery)]        \n",
      "        massaction: k_f(rna[atpsyn],protein[RNAase(machinery)])=100.0*rna[atpsyn]*protein[RNAase(machinery)]\n",
      "        k_r(complex[protein[RNAase]:rna[atpsyn](machinery)])=10.0*complex[protein[RNAase]:rna[atpsyn](machinery)]\n",
      "5. complex[protein[RNAase]:rna[atpsyn](machinery)] --> protein[RNAase(machinery)]        \n",
      "        massaction: k_f(complex[protein[RNAase]:rna[atpsyn](machinery)])=0.001*complex[protein[RNAase]:rna[atpsyn](machinery)]\n",
      "6. dna[cellular_processes] + protein[RNAP(machinery)] <--> complex[dna[cellular_processes]:protein[RNAP](machinery)]        \n",
      "        massaction: k_f(dna[cellular_processes],protein[RNAP(machinery)])=500*dna[cellular_processes]*protein[RNAP(machinery)]\n",
      "        k_r(complex[dna[cellular_processes]:protein[RNAP](machinery)])=50*complex[dna[cellular_processes]:protein[RNAP](machinery)]\n",
      "7. complex[dna[cellular_processes]:protein[RNAP](machinery)] --> dna[cellular_processes] + rna[cellular_processes] + protein[RNAP(machinery)]        \n",
      "        massaction: k_f(complex[dna[cellular_processes]:protein[RNAP](machinery)])=0.1*complex[dna[cellular_processes]:protein[RNAP](machinery)]\n",
      "8. rna[cellular_processes] + protein[Ribo(machinery)] <--> complex[protein[Ribo]:rna[cellular_processes](machinery)]        \n",
      "        massaction: k_f(rna[cellular_processes],protein[Ribo(machinery)])=500*rna[cellular_processes]*protein[Ribo(machinery)]\n",
      "        k_r(complex[protein[Ribo]:rna[cellular_processes](machinery)])=5*complex[protein[Ribo]:rna[cellular_processes](machinery)]\n",
      "9. complex[protein[Ribo]:rna[cellular_processes](machinery)] --> rna[cellular_processes] + protein[cellular_processes] + protein[Ribo(machinery)]        \n",
      "        massaction: k_f(complex[protein[Ribo]:rna[cellular_processes](machinery)])=0.1*complex[protein[Ribo]:rna[cellular_processes](machinery)]\n",
      "10. rna[cellular_processes] + protein[RNAase(machinery)] <--> complex[protein[RNAase]:rna[cellular_processes](machinery)]        \n",
      "        massaction: k_f(rna[cellular_processes],protein[RNAase(machinery)])=500*rna[cellular_processes]*protein[RNAase(machinery)]\n",
      "        k_r(complex[protein[RNAase]:rna[cellular_processes](machinery)])=50*complex[protein[RNAase]:rna[cellular_processes](machinery)]\n",
      "11. complex[protein[RNAase]:rna[cellular_processes](machinery)] --> protein[RNAase(machinery)]        \n",
      "        massaction: k_f(complex[protein[RNAase]:rna[cellular_processes](machinery)])=0.001*complex[protein[RNAase]:rna[cellular_processes](machinery)]\n",
      "12. rna[atpsyn] -->         \n",
      "        massaction: k_f(rna[atpsyn])=0.001*rna[atpsyn]\n",
      "13. protein[atpsyn] -->         \n",
      "        massaction: k_f(protein[atpsyn])=0.001*protein[atpsyn]\n",
      "14. protein[cellular_processes] -->         \n",
      "        massaction: k_f(protein[cellular_processes])=0.001*protein[cellular_processes]\n",
      "15. rna[cellular_processes] -->         \n",
      "        massaction: k_f(rna[cellular_processes])=0.001*rna[cellular_processes]\n",
      "] \n",
      "\n",
      "\n"
     ]
    }
   ],
   "source": [
    "\n",
    "#promoter is the name of the promoter or a Promoter component\n",
    "#RBS is the name of the RBS or an RBS Component\n",
    "#   RBS = None means there will be no translation\n",
    "#By default (if transcript and protein are None), the transgript and protein will have the same name as an assmebly\n",
    "#   Users can also assign Species or String names to transcript and protein\n",
    "G = DNAassembly(\"atpsyn\", promoter = \"atpsyn_promoter\", rbs = \"atpsyn_rbs\", transcript = None, protein = None)\n",
    "M3 = TxTlDilutionMixture(\"liposome\", components = [G], parameter_file = \"default_parameters.txt\")\n",
    "CRN3 = M3.compile_crn()\n",
    "\n",
    "\n",
    "print(repr(M3),\"\\n\", CRN3.pretty_print(show_attributes = True, show_material = True, show_rates = True),\"\\n\\n\")\n"
   ]
  },
  {
   "cell_type": "code",
   "execution_count": 20,
   "metadata": {},
   "outputs": [
    {
     "data": {
      "text/plain": [
       "True"
      ]
     },
     "execution_count": 20,
     "metadata": {},
     "output_type": "execute_result"
    }
   ],
   "source": [
    "# Write SBML file\n",
    "CRN3.write_sbml_file('atpsynthase_tx_tl.xml')"
   ]
  },
  {
   "cell_type": "code",
   "execution_count": 21,
   "metadata": {},
   "outputs": [
    {
     "name": "stderr",
     "output_type": "stream",
     "text": [
      "/Users/ankitaroychoudhury/opt/anaconda3/lib/python3.7/site-packages/scipy/integrate/odepack.py:248: ODEintWarning: Excess work done on this call (perhaps wrong Dfun type). Run with full_output = 1 to get quantitative information.\n",
      "  warnings.warn(warning_msg, ODEintWarning)\n",
      "odeint failed with mxstep=500..."
     ]
    }
   ],
   "source": [
    "timepoints = np.linspace(0,10000,100)\n",
    "x0 = {'dna_atpsyn':10, 'protein_RNAP_machinery':10, 'protein_Ribo_machinery':10,\n",
    "     'protein_RNAase_machinery':10}\n",
    "R = CRN3.simulate_with_bioscrape(timepoints, initial_condition_dict = x0)"
   ]
  },
  {
   "cell_type": "code",
   "execution_count": 22,
   "metadata": {},
   "outputs": [],
   "source": [
    "#R"
   ]
  },
  {
   "cell_type": "code",
   "execution_count": 23,
   "metadata": {},
   "outputs": [],
   "source": [
    "palette = colorcet.b_glasbey_category10\n",
    "palette.remove('#d62628')"
   ]
  },
  {
   "cell_type": "code",
   "execution_count": 26,
   "metadata": {},
   "outputs": [
    {
     "data": {
      "text/html": [
       "\n",
       "\n",
       "\n",
       "\n",
       "\n",
       "\n",
       "  <div class=\"bk-root\" id=\"c145e0d9-88e9-42b1-8bf7-468c2adc5790\" data-root-id=\"1616\"></div>\n"
      ]
     },
     "metadata": {},
     "output_type": "display_data"
    },
    {
     "data": {
      "application/javascript": [
       "(function(root) {\n",
       "  function embed_document(root) {\n",
       "    \n",
       "  var docs_json = {\"412b37c4-0493-49ee-8169-24d0788dec02\":{\"roots\":{\"references\":[{\"attributes\":{\"below\":[{\"id\":\"1627\",\"type\":\"LinearAxis\"}],\"center\":[{\"id\":\"1631\",\"type\":\"Grid\"},{\"id\":\"1636\",\"type\":\"Grid\"},{\"id\":\"1661\",\"type\":\"Legend\"}],\"left\":[{\"id\":\"1632\",\"type\":\"LinearAxis\"}],\"plot_height\":340,\"plot_width\":450,\"renderers\":[{\"id\":\"1653\",\"type\":\"GlyphRenderer\"},{\"id\":\"1666\",\"type\":\"GlyphRenderer\"},{\"id\":\"1680\",\"type\":\"GlyphRenderer\"}],\"title\":{\"id\":\"1617\",\"type\":\"Title\"},\"toolbar\":{\"id\":\"1643\",\"type\":\"Toolbar\"},\"x_range\":{\"id\":\"1619\",\"type\":\"DataRange1d\"},\"x_scale\":{\"id\":\"1623\",\"type\":\"LinearScale\"},\"y_range\":{\"id\":\"1621\",\"type\":\"DataRange1d\"},\"y_scale\":{\"id\":\"1625\",\"type\":\"LinearScale\"}},\"id\":\"1616\",\"subtype\":\"Figure\",\"type\":\"Plot\"},{\"attributes\":{},\"id\":\"1633\",\"type\":\"BasicTicker\"},{\"attributes\":{},\"id\":\"1690\",\"type\":\"UnionRenderers\"},{\"attributes\":{\"axis_label\":\"concentration\",\"formatter\":{\"id\":\"1659\",\"type\":\"BasicTickFormatter\"},\"ticker\":{\"id\":\"1633\",\"type\":\"BasicTicker\"}},\"id\":\"1632\",\"type\":\"LinearAxis\"},{\"attributes\":{\"items\":[{\"id\":\"1662\",\"type\":\"LegendItem\"},{\"id\":\"1676\",\"type\":\"LegendItem\"},{\"id\":\"1692\",\"type\":\"LegendItem\"}],\"location\":\"center_right\"},\"id\":\"1661\",\"type\":\"Legend\"},{\"attributes\":{},\"id\":\"1745\",\"type\":\"UnionRenderers\"},{\"attributes\":{},\"id\":\"1659\",\"type\":\"BasicTickFormatter\"},{\"attributes\":{},\"id\":\"1691\",\"type\":\"Selection\"},{\"attributes\":{\"line_alpha\":0.1,\"line_color\":\"#1f77b4\",\"line_width\":2,\"x\":{\"field\":\"x\"},\"y\":{\"field\":\"y\"}},\"id\":\"1665\",\"type\":\"Line\"},{\"attributes\":{\"data_source\":{\"id\":\"1650\",\"type\":\"ColumnDataSource\"},\"glyph\":{\"id\":\"1651\",\"type\":\"Line\"},\"hover_glyph\":null,\"muted_glyph\":null,\"nonselection_glyph\":{\"id\":\"1652\",\"type\":\"Line\"},\"selection_glyph\":null,\"view\":{\"id\":\"1654\",\"type\":\"CDSView\"}},\"id\":\"1653\",\"type\":\"GlyphRenderer\"},{\"attributes\":{\"line_color\":\"#ff7e0e\",\"line_width\":2,\"x\":{\"field\":\"x\"},\"y\":{\"field\":\"y\"}},\"id\":\"1664\",\"type\":\"Line\"},{\"attributes\":{\"label\":{\"value\":\"dna_atpsyn\"},\"renderers\":[{\"id\":\"1680\",\"type\":\"GlyphRenderer\"}]},\"id\":\"1692\",\"type\":\"LegendItem\"},{\"attributes\":{\"data_source\":{\"id\":\"1663\",\"type\":\"ColumnDataSource\"},\"glyph\":{\"id\":\"1664\",\"type\":\"Line\"},\"hover_glyph\":null,\"muted_glyph\":null,\"nonselection_glyph\":{\"id\":\"1665\",\"type\":\"Line\"},\"selection_glyph\":null,\"view\":{\"id\":\"1667\",\"type\":\"CDSView\"}},\"id\":\"1666\",\"type\":\"GlyphRenderer\"},{\"attributes\":{\"data_source\":{\"id\":\"1677\",\"type\":\"ColumnDataSource\"},\"glyph\":{\"id\":\"1678\",\"type\":\"Line\"},\"hover_glyph\":null,\"muted_glyph\":null,\"nonselection_glyph\":{\"id\":\"1679\",\"type\":\"Line\"},\"selection_glyph\":null,\"view\":{\"id\":\"1681\",\"type\":\"CDSView\"}},\"id\":\"1680\",\"type\":\"GlyphRenderer\"},{\"attributes\":{\"callback\":null,\"data\":{\"x\":{\"__ndarray__\":\"AAAAAAAAAACWArV+pUBZQJYCtX6lQGlA8MEHH3zwckCWArV+pUB5QDxDYt7OkH9A8MEHH3zwgkBDYt7OkBiGQJYCtX6lQIlA6aKLLrpojEA8Q2LezpCPQMdxHMdxXJFA8MEHH3zwkkAaEvN2hoSUQENi3s6QGJZAbbLJJpusl0CWArV+pUCZQL9SoNav1JpA6aKLLrponEAS83aGxPydQDxDYt7OkJ9Asskmm2ySoEDHcRzHcVyhQNwZEvN2JqJA8MEHH3zwokAFav1KgbqjQBoS83aGhKRAL7roootOpUBDYt7OkBimQFgK1PqV4qZAbbLJJpusp0CBWr9SoHaoQJYCtX6lQKlAq6qqqqoKqkC/UqDWr9SqQNT6lQK1nqtA6aKLLrporED9SoFavzKtQBLzdobE/K1AJ5tsssnGrkA8Q2LezpCvQKj1KwVqLbBAsskmm2ySsEC9nSExb/ewQMdxHMdxXLFA0UUXXXTBsUDcGRLzdiayQObtDIl5i7JA8MEHH3zwskD7lQK1flWzQAVq/UqBurNAED744IMftEAaEvN2hoS0QCTm7QyJ6bRAL7roootOtUA5juM4jrO1QENi3s6QGLZATjbZZJN9tkBYCtT6leK2QGLezpCYR7dAbbLJJpust0B3hsS8nRG4QIFav1KgdrhAjC666KLbuECWArV+pUC5QKDWrxSopblAq6qqqqoKukC1fqVArW+6QL9SoNav1LpAyiabbLI5u0DU+pUCtZ67QN7OkJi3A7xA6aKLLrpovEDzdobEvM28QP1KgVq/Mr1ACB988MGXvUAS83aGxPy9QBzHcRzHYb5AJ5tsssnGvkAxb2dIzCu/QDxDYt7OkL9ARhdddNH1v0Co9SsFai3AQK1fKVDrX8BAsskmm2ySwEC4MyTm7cTAQL2dITFv98BAwgcffPApwUDHcRzHcVzBQMzbGRLzjsFA0UUXXXTBwUDXrxSo9fPBQNwZEvN2JsJA4YMPPvhYwkDm7QyJeYvCQOtXCtT6vcJA8MEHH3zwwkD2KwVq/SLDQPuVArV+VcNAAAAAAACIw0A=\",\"dtype\":\"float64\",\"shape\":[100]},\"y\":{\"__ndarray__\":\"AAAAAAAAAADQgV3VhEg4QOED53eyGVBA6uUureUsWUBiX9IboLBgQGoUbQT3ZWRAQZ7CVB/AZ0Ac14N72MdqQE3GhXoMhW1ANlFvZ+P+b0Bt4qLR6h1xQCV250reIHJAJtMR+PAKc0Bli1itht5zQM7YQ3vInXRAgVfpTapKdUCu8TUa8OZ1QI/GhVsydHZAo8RMVuLzdkDmt7jTTWd3QPihC4yiz3dAgr7OOPEteEBxJCldMIN4QIPe5ts+0HhABD68IOYVeUD3ZOc93FR5QIhPe83FjXlAEda8lzfBeUBCoeQWuO95QNJyDdvAGXpAJKMpx78/ekBPl5kuGGJ6QLIMFNojgXpA+UzG8TOdekA5jQbSkbZ6QMrNbst/zXpAQ6MI0DniekDSg4YN9vR6QLHpNH/lBXtAaMBZajQVe0DSZhHSCiN7QFNWOeKML3tAl8SESts6e0B719+dE0V7QCZ56ZVQTntAuppXV6pWe0AGqPy0Nl57QD1/3moJZXtAAOAsUDRre0B7Z22Ex3B7QIF5GprRdXtAW43zvF96e0BgiMXVfX57QJeGmKg2gntAfcOW8JOFe0DNXUB5noh7QP2u5TVei3tAhMP5VdqNe0BjIlhYGZB7QFjuMBwhkntA/Kw/8PaTe0CnNNKgn5V7QGyVJIQfl3tAGPuqhXqYe0AIlX0wtJl7QLHskrjPmntAWjvAAtCbe0Aj22Stt5x7QN4WGxaJnXtAciosYEaee0C3Vtp68Z57QIpPUSWMn3tAwAG38xege0ByqpNTlqB7QJVDN48IoXtAeQAF0W+he0DiNSgnzaF7QAaVxoUhontAcN8byW2ie0CPZg25sqJ7QIuqbwnxontAZkpNXSmje0DptttHXKN7QHoc/U2Ko3tACE8z6LOje0DZDeaC2aN7QLVDyoD7o3tAhChpOhqke0AVPIoANqR7QKi/eBtPpHtA72MmzWWke0D1MKhQeqR7QH0GwtuMpHtAsenGnp2ke0CGBJbFrKR7QEEXune6pHtAxE/o2Make0AkTn0J0qR7QNZt/CbcpHtAKBZyS+Wke0A=\",\"dtype\":\"float64\",\"shape\":[100]}},\"selected\":{\"id\":\"1675\",\"type\":\"Selection\"},\"selection_policy\":{\"id\":\"1674\",\"type\":\"UnionRenderers\"}},\"id\":\"1650\",\"type\":\"ColumnDataSource\"},{\"attributes\":{},\"id\":\"1657\",\"type\":\"BasicTickFormatter\"},{\"attributes\":{},\"id\":\"1637\",\"type\":\"PanTool\"},{\"attributes\":{\"callback\":null,\"data\":{\"x\":{\"__ndarray__\":\"AAAAAAAAAACWArV+pUBZQJYCtX6lQGlA8MEHH3zwckCWArV+pUB5QDxDYt7OkH9A8MEHH3zwgkBDYt7OkBiGQJYCtX6lQIlA6aKLLrpojEA8Q2LezpCPQMdxHMdxXJFA8MEHH3zwkkAaEvN2hoSUQENi3s6QGJZAbbLJJpusl0CWArV+pUCZQL9SoNav1JpA6aKLLrponEAS83aGxPydQDxDYt7OkJ9Asskmm2ySoEDHcRzHcVyhQNwZEvN2JqJA8MEHH3zwokAFav1KgbqjQBoS83aGhKRAL7roootOpUBDYt7OkBimQFgK1PqV4qZAbbLJJpusp0CBWr9SoHaoQJYCtX6lQKlAq6qqqqoKqkC/UqDWr9SqQNT6lQK1nqtA6aKLLrporED9SoFavzKtQBLzdobE/K1AJ5tsssnGrkA8Q2LezpCvQKj1KwVqLbBAsskmm2ySsEC9nSExb/ewQMdxHMdxXLFA0UUXXXTBsUDcGRLzdiayQObtDIl5i7JA8MEHH3zwskD7lQK1flWzQAVq/UqBurNAED744IMftEAaEvN2hoS0QCTm7QyJ6bRAL7roootOtUA5juM4jrO1QENi3s6QGLZATjbZZJN9tkBYCtT6leK2QGLezpCYR7dAbbLJJpust0B3hsS8nRG4QIFav1KgdrhAjC666KLbuECWArV+pUC5QKDWrxSopblAq6qqqqoKukC1fqVArW+6QL9SoNav1LpAyiabbLI5u0DU+pUCtZ67QN7OkJi3A7xA6aKLLrpovEDzdobEvM28QP1KgVq/Mr1ACB988MGXvUAS83aGxPy9QBzHcRzHYb5AJ5tsssnGvkAxb2dIzCu/QDxDYt7OkL9ARhdddNH1v0Co9SsFai3AQK1fKVDrX8BAsskmm2ySwEC4MyTm7cTAQL2dITFv98BAwgcffPApwUDHcRzHcVzBQMzbGRLzjsFA0UUXXXTBwUDXrxSo9fPBQNwZEvN2JsJA4YMPPvhYwkDm7QyJeYvCQOtXCtT6vcJA8MEHH3zwwkD2KwVq/SLDQPuVArV+VcNAAAAAAACIw0A=\",\"dtype\":\"float64\",\"shape\":[100]},\"y\":{\"__ndarray__\":\"AAAAAAAAAABMraexA5tCQDvP3CjDY1RAIL7hXu5sXkDKe+mWMsBjQKTwTj+Y2mdAuE3onD2Qa0D7P4hEwupuQPjW76Nv+XBAR+lvJD1YckAqWlswXJVzQHoXLfkHtHRAMSb5kiy3dUDLbeJlbqF2QDxfdQQxdXdAMhA6Vp00eECEfVVIp+F4QEucIL8SfnlA3BPWR3gLekB3VIY2SYt6QL4I6mrT/npAnUBctERne0AVNZfkrcV7QIlhF6sFG3xAJZKH+CpofEAM12VV5618QLR2E/bw7HxAqFjYjewlfUAah637bll9QPBa39P+h31Am7ehvhWyfUB2jfmzIdh9QFiAXhyG+n1ACTnA05wZfkDUrNgUtzV+QPjTzU0eT35AetOe3xRmfkAwTBvJ1np+QBKqJEiajX5A28RvY5CefkBwzLtq5a1+QD1VKG3Bu35AEoYFnkjIfkABmGm+m9N+QIqX4WfY3X5AbPIpWBnnfkAb1FW7du9+QNjZS20G935Aq/7/MNz9fkB6tIjiCQR/QLnyQ6afCX9AvPFHE6wOf0AnXf9aPBN/QCKmlGpcF39A6NfWCRcbf0A10CH3dR5/QCekXQGCIX9AYrJ/HkMkf0A/M+KAwCZ/QDW4AaoAKX9ALXVWewkrf0ByHN1F4Cx/QGXwxteJLn9ACGT6iAowf0Bu8p1GZjF/QMudUJ2gMn9Aq7kGwrwzf0A7K6SbvTR/QGUsSsmlNX9ApSt9qXc2f0CLQhxhNTd/QHNlvt/gN39A6tVO5Xs4f0D32u4GCDl/QIXvuLKGOX9Azh9nM/k5f0DaZm60YDp/QKedbUS+On9ACUyD1xI7f0AwBURLXzt/QHmzB2ekO39A5u+K3+I7f0B5Pf5XGzx/QLqmsWNOPH9ArYY9iHw8f0Doe9A9pjx/QDcR2fHLPH9A9vB/Bu48f0DQlFTVDD1/QHe3fq4oPX9ATwsc20E9f0AoEK+cWD1/QL1K1S5tPX9A3zIkx389f0AJnEGWkD1/QHOWBsifPX9AbeQLhK09f0DzmzTuuT1/QPNLOyfFPX9AIVMDTM89f0A=\",\"dtype\":\"float64\",\"shape\":[100]}},\"selected\":{\"id\":\"1691\",\"type\":\"Selection\"},\"selection_policy\":{\"id\":\"1690\",\"type\":\"UnionRenderers\"}},\"id\":\"1663\",\"type\":\"ColumnDataSource\"},{\"attributes\":{\"source\":{\"id\":\"1650\",\"type\":\"ColumnDataSource\"}},\"id\":\"1654\",\"type\":\"CDSView\"},{\"attributes\":{\"text\":\"ATP synthase tx and tl\"},\"id\":\"1617\",\"type\":\"Title\"},{\"attributes\":{},\"id\":\"1638\",\"type\":\"WheelZoomTool\"},{\"attributes\":{},\"id\":\"1746\",\"type\":\"Selection\"},{\"attributes\":{},\"id\":\"1642\",\"type\":\"HelpTool\"},{\"attributes\":{\"callback\":null},\"id\":\"1619\",\"type\":\"DataRange1d\"},{\"attributes\":{\"overlay\":{\"id\":\"1660\",\"type\":\"BoxAnnotation\"}},\"id\":\"1639\",\"type\":\"BoxZoomTool\"},{\"attributes\":{\"bottom_units\":\"screen\",\"fill_alpha\":{\"value\":0.5},\"fill_color\":{\"value\":\"lightgrey\"},\"left_units\":\"screen\",\"level\":\"overlay\",\"line_alpha\":{\"value\":1.0},\"line_color\":{\"value\":\"black\"},\"line_dash\":[4,4],\"line_width\":{\"value\":2},\"render_mode\":\"css\",\"right_units\":\"screen\",\"top_units\":\"screen\"},\"id\":\"1660\",\"type\":\"BoxAnnotation\"},{\"attributes\":{\"line_alpha\":0.1,\"line_color\":\"#1f77b4\",\"line_width\":2,\"x\":{\"field\":\"x\"},\"y\":{\"field\":\"y\"}},\"id\":\"1652\",\"type\":\"Line\"},{\"attributes\":{\"source\":{\"id\":\"1663\",\"type\":\"ColumnDataSource\"}},\"id\":\"1667\",\"type\":\"CDSView\"},{\"attributes\":{\"label\":{\"value\":\"rna_atpsyn\"},\"renderers\":[{\"id\":\"1653\",\"type\":\"GlyphRenderer\"}]},\"id\":\"1662\",\"type\":\"LegendItem\"},{\"attributes\":{},\"id\":\"1674\",\"type\":\"UnionRenderers\"},{\"attributes\":{\"callback\":null},\"id\":\"1621\",\"type\":\"DataRange1d\"},{\"attributes\":{\"label\":{\"value\":\"protein_atpsyn\"},\"renderers\":[{\"id\":\"1666\",\"type\":\"GlyphRenderer\"}]},\"id\":\"1676\",\"type\":\"LegendItem\"},{\"attributes\":{},\"id\":\"1675\",\"type\":\"Selection\"},{\"attributes\":{},\"id\":\"1641\",\"type\":\"ResetTool\"},{\"attributes\":{},\"id\":\"1623\",\"type\":\"LinearScale\"},{\"attributes\":{\"line_color\":\"#2ba02b\",\"line_width\":2,\"x\":{\"field\":\"x\"},\"y\":{\"field\":\"y\"}},\"id\":\"1678\",\"type\":\"Line\"},{\"attributes\":{},\"id\":\"1625\",\"type\":\"LinearScale\"},{\"attributes\":{\"axis_label\":\"time (sec)\",\"formatter\":{\"id\":\"1657\",\"type\":\"BasicTickFormatter\"},\"ticker\":{\"id\":\"1628\",\"type\":\"BasicTicker\"}},\"id\":\"1627\",\"type\":\"LinearAxis\"},{\"attributes\":{\"callback\":null,\"data\":{\"x\":{\"__ndarray__\":\"AAAAAAAAAACWArV+pUBZQJYCtX6lQGlA8MEHH3zwckCWArV+pUB5QDxDYt7OkH9A8MEHH3zwgkBDYt7OkBiGQJYCtX6lQIlA6aKLLrpojEA8Q2LezpCPQMdxHMdxXJFA8MEHH3zwkkAaEvN2hoSUQENi3s6QGJZAbbLJJpusl0CWArV+pUCZQL9SoNav1JpA6aKLLrponEAS83aGxPydQDxDYt7OkJ9Asskmm2ySoEDHcRzHcVyhQNwZEvN2JqJA8MEHH3zwokAFav1KgbqjQBoS83aGhKRAL7roootOpUBDYt7OkBimQFgK1PqV4qZAbbLJJpusp0CBWr9SoHaoQJYCtX6lQKlAq6qqqqoKqkC/UqDWr9SqQNT6lQK1nqtA6aKLLrporED9SoFavzKtQBLzdobE/K1AJ5tsssnGrkA8Q2LezpCvQKj1KwVqLbBAsskmm2ySsEC9nSExb/ewQMdxHMdxXLFA0UUXXXTBsUDcGRLzdiayQObtDIl5i7JA8MEHH3zwskD7lQK1flWzQAVq/UqBurNAED744IMftEAaEvN2hoS0QCTm7QyJ6bRAL7roootOtUA5juM4jrO1QENi3s6QGLZATjbZZJN9tkBYCtT6leK2QGLezpCYR7dAbbLJJpust0B3hsS8nRG4QIFav1KgdrhAjC666KLbuECWArV+pUC5QKDWrxSopblAq6qqqqoKukC1fqVArW+6QL9SoNav1LpAyiabbLI5u0DU+pUCtZ67QN7OkJi3A7xA6aKLLrpovEDzdobEvM28QP1KgVq/Mr1ACB988MGXvUAS83aGxPy9QBzHcRzHYb5AJ5tsssnGvkAxb2dIzCu/QDxDYt7OkL9ARhdddNH1v0Co9SsFai3AQK1fKVDrX8BAsskmm2ySwEC4MyTm7cTAQL2dITFv98BAwgcffPApwUDHcRzHcVzBQMzbGRLzjsFA0UUXXXTBwUDXrxSo9fPBQNwZEvN2JsJA4YMPPvhYwkDm7QyJeYvCQOtXCtT6vcJA8MEHH3zwwkD2KwVq/SLDQPuVArV+VcNAAAAAAACIw0A=\",\"dtype\":\"float64\",\"shape\":[100]},\"y\":{\"__ndarray__\":\"AAAAAAAAJEAVp1fsHYPuPw6nV+wdg+4/DKdX7B2D7j8Lp1fsHYPuPw+nV+wdg+4/D6dX7B2D7j8Lp1fsHYPuPwKnV+wdg+4/DadX7B2D7j8Np1fsHYPuPw6nV+wdg+4/DKdX7B2D7j8Mp1fsHYPuPw2nV+wdg+4/DadX7B2D7j8Mp1fsHYPuPwynV+wdg+4/DKdX7B2D7j8Mp1fsHYPuPwynV+wdg+4/DKdX7B2D7j8Np1fsHYPuPw2nV+wdg+4/DKdX7B2D7j8Op1fsHYPuPw2nV+wdg+4/DKdX7B2D7j8Op1fsHYPuPw2nV+wdg+4/DadX7B2D7j8Np1fsHYPuPw6nV+wdg+4/DqdX7B2D7j8Ip1fsHYPuPxmnV+wdg+4/D6dX7B2D7j8Op1fsHYPuPw6nV+wdg+4/DadX7B2D7j8Mp1fsHYPuPw+nV+wdg+4/EqdX7B2D7j8Fp1fsHYPuPzenV+wdg+4/YKZX7B2D7j99p1fsHYPuP8mmV+wdg+4/JadX7B2D7j8Jp1fsHYPuPw2nV+wdg+4/DadX7B2D7j8Mp1fsHYPuPw2nV+wdg+4/DadX7B2D7j8Mp1fsHYPuPwunV+wdg+4/DadX7B2D7j8Op1fsHYPuPw6nV+wdg+4/DadX7B2D7j8Np1fsHYPuPw2nV+wdg+4/DqdX7B2D7j8Pp1fsHYPuPw6nV+wdg+4/DqdX7B2D7j8Pp1fsHYPuPwunV+wdg+4/DqdX7B2D7j8Tp1fsHYPuP/qmV+wdg+4/HqdX7B2D7j8sp1fsHYPuP32mV+wdg+4/raZX7B2D7j9qp1fsHYPuPwmnV+wdg+4/0KZX7B2D7j8Vp1fsHYPuPxunV+wdg+4/CqdX7B2D7j8Mp1fsHYPuPwynV+wdg+4/DqdX7B2D7j8Mp1fsHYPuPwinV+wdg+4/C6dX7B2D7j8Qp1fsHYPuPwqnV+wdg+4//qZX7B2D7j8Tp1fsHYPuPzKnV+wdg+4/9aZX7B2D7j+splfsHYPuP16nV+wdg+4/N6hX7B2D7j8FqFfsHYPuP76mV+wdg+4/OaZX7B2D7j8=\",\"dtype\":\"float64\",\"shape\":[100]}},\"selected\":{\"id\":\"1746\",\"type\":\"Selection\"},\"selection_policy\":{\"id\":\"1745\",\"type\":\"UnionRenderers\"}},\"id\":\"1677\",\"type\":\"ColumnDataSource\"},{\"attributes\":{\"dimension\":1,\"ticker\":{\"id\":\"1633\",\"type\":\"BasicTicker\"}},\"id\":\"1636\",\"type\":\"Grid\"},{\"attributes\":{\"line_color\":\"#1f77b3\",\"line_width\":2,\"x\":{\"field\":\"x\"},\"y\":{\"field\":\"y\"}},\"id\":\"1651\",\"type\":\"Line\"},{\"attributes\":{},\"id\":\"1628\",\"type\":\"BasicTicker\"},{\"attributes\":{},\"id\":\"1640\",\"type\":\"SaveTool\"},{\"attributes\":{\"line_alpha\":0.1,\"line_color\":\"#1f77b4\",\"line_width\":2,\"x\":{\"field\":\"x\"},\"y\":{\"field\":\"y\"}},\"id\":\"1679\",\"type\":\"Line\"},{\"attributes\":{\"active_drag\":\"auto\",\"active_inspect\":\"auto\",\"active_multi\":null,\"active_scroll\":\"auto\",\"active_tap\":\"auto\",\"tools\":[{\"id\":\"1637\",\"type\":\"PanTool\"},{\"id\":\"1638\",\"type\":\"WheelZoomTool\"},{\"id\":\"1639\",\"type\":\"BoxZoomTool\"},{\"id\":\"1640\",\"type\":\"SaveTool\"},{\"id\":\"1641\",\"type\":\"ResetTool\"},{\"id\":\"1642\",\"type\":\"HelpTool\"}]},\"id\":\"1643\",\"type\":\"Toolbar\"},{\"attributes\":{\"ticker\":{\"id\":\"1628\",\"type\":\"BasicTicker\"}},\"id\":\"1631\",\"type\":\"Grid\"},{\"attributes\":{\"source\":{\"id\":\"1677\",\"type\":\"ColumnDataSource\"}},\"id\":\"1681\",\"type\":\"CDSView\"}],\"root_ids\":[\"1616\"]},\"title\":\"Bokeh Application\",\"version\":\"1.4.0\"}};\n",
       "  var render_items = [{\"docid\":\"412b37c4-0493-49ee-8169-24d0788dec02\",\"roots\":{\"1616\":\"c145e0d9-88e9-42b1-8bf7-468c2adc5790\"}}];\n",
       "  root.Bokeh.embed.embed_items_notebook(docs_json, render_items);\n",
       "\n",
       "  }\n",
       "  if (root.Bokeh !== undefined) {\n",
       "    embed_document(root);\n",
       "  } else {\n",
       "    var attempts = 0;\n",
       "    var timer = setInterval(function(root) {\n",
       "      if (root.Bokeh !== undefined) {\n",
       "        clearInterval(timer);\n",
       "        embed_document(root);\n",
       "      } else {\n",
       "        attempts++;\n",
       "        if (attempts > 100) {\n",
       "          clearInterval(timer);\n",
       "          console.log(\"Bokeh: ERROR: Unable to run BokehJS code because BokehJS library is missing\");\n",
       "        }\n",
       "      }\n",
       "    }, 10, root)\n",
       "  }\n",
       "})(window);"
      ],
      "application/vnd.bokehjs_exec.v0+json": ""
     },
     "metadata": {
      "application/vnd.bokehjs_exec.v0+json": {
       "id": "1616"
      }
     },
     "output_type": "display_data"
    }
   ],
   "source": [
    "p = bokeh.plotting.figure(width = 450, height = 340, \n",
    "                         x_axis_label = 'time (sec)', y_axis_label = 'concentration',\n",
    "                         title = 'ATP synthase tx and tl')\n",
    "plot_list = ['rna_atpsyn', 'protein_atpsyn', 'dna_atpsyn']\n",
    "for i,item in enumerate(plot_list):\n",
    "    p.line(timepoints, R[item], legend_label = item, color = palette[i], line_width = 2)\n",
    "    \n",
    "p.legend.location = 'center_right'\n",
    "bokeh.io.show(p)"
   ]
  },
  {
   "cell_type": "markdown",
   "metadata": {},
   "source": [
    "## SBML 2 (simple) for ATP Synthase Tx and Tl\n",
    "---"
   ]
  },
  {
   "cell_type": "code",
   "execution_count": 65,
   "metadata": {},
   "outputs": [
    {
     "name": "stdout",
     "output_type": "stream",
     "text": [
      "Species (3) = {0. rna[atpsyn], 1. dna[atpsyn], 2. protein[atpsyn]}\n",
      "Reactions (2) = [\n",
      "0. dna[atpsyn] --> rna[atpsyn]        \n",
      "        massaction: k_f(dna[atpsyn])=1*dna[atpsyn]\n",
      "1. rna[atpsyn] --> protein[atpsyn]        \n",
      "        massaction: k_f(rna[atpsyn])=1*rna[atpsyn]\n",
      "]\n"
     ]
    }
   ],
   "source": [
    "rna_atpsyn = Species(\"atpsyn\", material_type = \"rna\")\n",
    "\n",
    "dna_atpsyn = Species(\"atpsyn\", material_type = \"dna\")\n",
    "\n",
    "f_atpsyn = Species(\"atpsyn\", material_type = \"protein\")\n",
    "\n",
    "k_tx = 1\n",
    "k_tl = 1\n",
    "\n",
    "R = Reaction([dna_atpsyn],[rna_atpsyn], k_tx)\n",
    "\n",
    "R1 = Reaction([rna_atpsyn], [f_atpsyn], k_tl)\n",
    "CRN_simpletxtl = ChemicalReactionNetwork(species = [rna_atpsyn, dna_atpsyn, f_atpsyn], reactions = [R, R1])\n",
    "\n",
    "print(CRN_simpletxtl.pretty_print(show_materials = True, show_rates = True, show_attributes = True))\n"
   ]
  },
  {
   "cell_type": "code",
   "execution_count": 66,
   "metadata": {},
   "outputs": [
    {
     "data": {
      "text/plain": [
       "True"
      ]
     },
     "execution_count": 66,
     "metadata": {},
     "output_type": "execute_result"
    }
   ],
   "source": [
    "# Write SBML file\n",
    "CRN_simpletxtl.write_sbml_file('atpsynthase_simple_txtl.xml')"
   ]
  },
  {
   "cell_type": "code",
   "execution_count": 34,
   "metadata": {},
   "outputs": [],
   "source": [
    "x0 = {'dna_atpsyn' : 10}\n",
    "timepoints = np.linspace(0,100,100)\n",
    "r_simple = CRN_simpletxtl.simulate_with_bioscrape(timepoints, initial_condition_dict = x0)\n",
    "\n",
    "#results, _ = CRN_machinerytxtl.simulate_via_bioscrape(timepoints, initial_condition_dict = x0, sbml_warnings = False)"
   ]
  },
  {
   "cell_type": "code",
   "execution_count": 43,
   "metadata": {},
   "outputs": [
    {
     "data": {
      "text/html": [
       "\n",
       "\n",
       "\n",
       "\n",
       "\n",
       "\n",
       "  <div class=\"bk-root\" id=\"6c36a826-5b06-42ad-84a3-c46008925c38\" data-root-id=\"2343\"></div>\n"
      ]
     },
     "metadata": {},
     "output_type": "display_data"
    },
    {
     "data": {
      "application/javascript": [
       "(function(root) {\n",
       "  function embed_document(root) {\n",
       "    \n",
       "  var docs_json = {\"7653df86-732e-44c8-9e63-803411fe4e1c\":{\"roots\":{\"references\":[{\"attributes\":{\"below\":[{\"id\":\"2354\",\"type\":\"LinearAxis\"}],\"center\":[{\"id\":\"2358\",\"type\":\"Grid\"},{\"id\":\"2363\",\"type\":\"Grid\"},{\"id\":\"2388\",\"type\":\"Legend\"}],\"left\":[{\"id\":\"2359\",\"type\":\"LinearAxis\"}],\"plot_height\":350,\"plot_width\":450,\"renderers\":[{\"id\":\"2380\",\"type\":\"GlyphRenderer\"}],\"title\":{\"id\":\"2344\",\"type\":\"Title\"},\"toolbar\":{\"id\":\"2370\",\"type\":\"Toolbar\"},\"x_range\":{\"id\":\"2346\",\"type\":\"DataRange1d\"},\"x_scale\":{\"id\":\"2350\",\"type\":\"LinearScale\"},\"y_range\":{\"id\":\"2348\",\"type\":\"DataRange1d\"},\"y_scale\":{\"id\":\"2352\",\"type\":\"LinearScale\"}},\"id\":\"2343\",\"subtype\":\"Figure\",\"type\":\"Plot\"},{\"attributes\":{\"ticker\":{\"id\":\"2355\",\"type\":\"BasicTicker\"}},\"id\":\"2358\",\"type\":\"Grid\"},{\"attributes\":{},\"id\":\"2360\",\"type\":\"BasicTicker\"},{\"attributes\":{},\"id\":\"2383\",\"type\":\"BasicTickFormatter\"},{\"attributes\":{\"dimension\":1,\"ticker\":{\"id\":\"2360\",\"type\":\"BasicTicker\"}},\"id\":\"2363\",\"type\":\"Grid\"},{\"attributes\":{\"axis_label\":\"concentration\",\"formatter\":{\"id\":\"2385\",\"type\":\"BasicTickFormatter\"},\"ticker\":{\"id\":\"2360\",\"type\":\"BasicTicker\"}},\"id\":\"2359\",\"type\":\"LinearAxis\"},{\"attributes\":{\"items\":[{\"id\":\"2389\",\"type\":\"LegendItem\"}]},\"id\":\"2388\",\"type\":\"Legend\"},{\"attributes\":{},\"id\":\"2355\",\"type\":\"BasicTicker\"},{\"attributes\":{\"axis_label\":\"time\",\"formatter\":{\"id\":\"2383\",\"type\":\"BasicTickFormatter\"},\"ticker\":{\"id\":\"2355\",\"type\":\"BasicTicker\"}},\"id\":\"2354\",\"type\":\"LinearAxis\"},{\"attributes\":{},\"id\":\"2385\",\"type\":\"BasicTickFormatter\"},{\"attributes\":{},\"id\":\"2352\",\"type\":\"LinearScale\"},{\"attributes\":{\"line_alpha\":0.1,\"line_color\":\"#1f77b4\",\"line_width\":2,\"x\":{\"field\":\"x\"},\"y\":{\"field\":\"y\"}},\"id\":\"2379\",\"type\":\"Line\"},{\"attributes\":{\"bottom_units\":\"screen\",\"fill_alpha\":{\"value\":0.5},\"fill_color\":{\"value\":\"lightgrey\"},\"left_units\":\"screen\",\"level\":\"overlay\",\"line_alpha\":{\"value\":1.0},\"line_color\":{\"value\":\"black\"},\"line_dash\":[4,4],\"line_width\":{\"value\":2},\"render_mode\":\"css\",\"right_units\":\"screen\",\"top_units\":\"screen\"},\"id\":\"2387\",\"type\":\"BoxAnnotation\"},{\"attributes\":{},\"id\":\"2473\",\"type\":\"Selection\"},{\"attributes\":{\"active_drag\":\"auto\",\"active_inspect\":\"auto\",\"active_multi\":null,\"active_scroll\":\"auto\",\"active_tap\":\"auto\",\"tools\":[{\"id\":\"2364\",\"type\":\"PanTool\"},{\"id\":\"2365\",\"type\":\"WheelZoomTool\"},{\"id\":\"2366\",\"type\":\"BoxZoomTool\"},{\"id\":\"2367\",\"type\":\"SaveTool\"},{\"id\":\"2368\",\"type\":\"ResetTool\"},{\"id\":\"2369\",\"type\":\"HelpTool\"}]},\"id\":\"2370\",\"type\":\"Toolbar\"},{\"attributes\":{\"callback\":null},\"id\":\"2348\",\"type\":\"DataRange1d\"},{\"attributes\":{\"label\":{\"value\":\"dna_atpsyn\"},\"renderers\":[{\"id\":\"2380\",\"type\":\"GlyphRenderer\"}]},\"id\":\"2389\",\"type\":\"LegendItem\"},{\"attributes\":{\"callback\":null,\"data\":{\"x\":{\"__ndarray__\":\"AAAAAAAAAAB/pUCtXynwP3+lQK1fKQBAPvjggw8+CEB/pUCtXykQQN/OkJi3MxRAPvjggw8+GECeITFvZ0gcQH+lQK1fKSBAL7rooosuIkDfzpCYtzMkQI/jOI7jOCZAPvjggw8+KEDuDIl5O0MqQJ4hMW9nSCxATjbZZJNNLkB/pUCtXykwQNevFKj1KzFAL7rooosuMkCHxLydITEzQN/OkJi3MzRAN9lkk002NUCP4ziO4zg2QOftDIl5OzdAPvjggw8+OECWArV+pUA5QO4MiXk7QzpARhdddNFFO0CeITFvZ0g8QPYrBWr9Sj1ATjbZZJNNPkCmQK1fKVA/QH+lQK1fKUBAq6qqqqqqQEDXrxSo9StBQAO1fqVArUFAL7rooosuQkBbv1Kg1q9CQIfEvJ0hMUNAs8kmm2yyQ0DfzpCYtzNEQAvU+pUCtURAN9lkk002RUBj3s6QmLdFQI/jOI7jOEZAu+iiiy66RkDn7QyJeTtHQBPzdobEvEdAPvjggw8+SEBq/UqBWr9IQJYCtX6lQElAwgcffPDBSUDuDIl5O0NKQBoS83aGxEpARhdddNFFS0ByHMdxHMdLQJ4hMW9nSExAyiabbLLJTED2KwVq/UpNQCIxb2dIzE1ATjbZZJNNTkB6O0Ni3s5OQKZArV8pUE9A0kUXXXTRT0B/pUCtXylQQBWo9SsFalBAq6qqqqqqUEBBrV8pUOtQQNevFKj1K1FAbbLJJptsUUADtX6lQK1RQJm3MyTm7VFAL7rooosuUkDFvJ0hMW9SQFu/UqDWr1JA8cEHH3zwUkCHxLydITFTQB3HcRzHcVNAs8kmm2yyU0BJzNsZEvNTQN/OkJi3M1RAddFFF110VEAL1PqVArVUQKHWrxSo9VRAN9lkk002VUDN2xkS83ZVQGPezpCYt1VA+eCDDz74VUCP4ziO4zhWQCXm7QyJeVZAu+iiiy66VkBR61cK1PpWQOftDIl5O1dAffDBBx98V0AT83aGxLxXQKn1KwVq/VdAPvjggw8+WEDU+pUCtX5YQGr9SoFav1hAAAAAAAAAWUA=\",\"dtype\":\"float64\",\"shape\":[100]},\"y\":{\"__ndarray__\":\"AAAAAAAAJEArYUaHcyINQKaCfGR4OPU/YhWfvqLp3j8NH1ipAoTGP6ptWcZMZrA/zVD/y8jjlz+lkQb/hGaBP5fD62QGWWk/uNYD6l52Uj8L8MFOBuU6Pxj7jhHQliM/8gUAcT+JDD9oenyw3cj0Ppleev8PR94+e+mHnqQNxj4iInDfqA+wPogxQXEQZZc+Dn66STEOgT7fWGpGteJoPvqQIb5rQVI+SulQijxCOj4JxosfObkiPnZD6sJZHg0+hGtQcFSn9j2uV7kTcBrhPawxfcPmNMo9juQmoqf/sz3EPxk7GsSAvd4tngdffqy9XJWQwaorrL2VSmDLCfCovSQKHs+pCqm9ALT775/Wor3/NdFbJESXvfh1ges9ApG94Gtj9q6Ahb3jZa6035J4vZ0sGX4u0Xe9WPODR30Pd70Suu4QzE12vcyAWdoajHW9hUfEo2nKdL0/Di9tuAh0vfnUmTYHR3O9tJsEAFaFcr1uYm/JpMNxvScp2pLzAXG94u9EXEJAcL06bV9LIv1uva76NN6/eW29IogKcV32a72VFeAD+3JqvQmjtZaY72i9fTCLKTZsZ73xvWC80+hlvWVLNk9xZWS92dgL4g7iYr1NZuF0rF5hvYLnbQ+Utl+9aQIZNc+vXL1SHcRaCqlZvTo4b4BFola9IVMapoCbU70JbsXLu5RQveMR4eLtG0u9skc3LmQORb0E+xrztAE+vaRmx4mh5jG9k8hQpGOYJ71N4UIgB90mvQf6NJyqISa9wRInGE5mJb18KxmU8aokvTZECxCV7yO98Vz9izg0I72qde8H3HgivWWO4YN/vSG9H6fT/yICIb3av8V7xkYgvSixb+/TFh+9nOJT5xqgHb0RFDjfYSkcvYVFHNeoshq9+nYAz+87Gb1uqOTGNsUXveLZyL59Tha9VwuttsTXFL3MPJGuC2ETvUBudaZS6hG9tZ9ZnplzEL1TonsswfkNvT0FRBxPDAu9JWgMDN0eCL0Oy9T7ajEFvfgtnev4QwK92CHLtg2t/ryr51uWKdL4vH2t7HVF9/K8n+b6qsI46rw=\",\"dtype\":\"float64\",\"shape\":[100]}},\"selected\":{\"id\":\"2473\",\"type\":\"Selection\"},\"selection_policy\":{\"id\":\"2472\",\"type\":\"UnionRenderers\"}},\"id\":\"2377\",\"type\":\"ColumnDataSource\"},{\"attributes\":{\"data_source\":{\"id\":\"2377\",\"type\":\"ColumnDataSource\"},\"glyph\":{\"id\":\"2378\",\"type\":\"Line\"},\"hover_glyph\":null,\"muted_glyph\":null,\"nonselection_glyph\":{\"id\":\"2379\",\"type\":\"Line\"},\"selection_glyph\":null,\"view\":{\"id\":\"2381\",\"type\":\"CDSView\"}},\"id\":\"2380\",\"type\":\"GlyphRenderer\"},{\"attributes\":{},\"id\":\"2364\",\"type\":\"PanTool\"},{\"attributes\":{},\"id\":\"2365\",\"type\":\"WheelZoomTool\"},{\"attributes\":{},\"id\":\"2472\",\"type\":\"UnionRenderers\"},{\"attributes\":{\"text\":\"ATP Synthase with Machinery\"},\"id\":\"2344\",\"type\":\"Title\"},{\"attributes\":{\"overlay\":{\"id\":\"2387\",\"type\":\"BoxAnnotation\"}},\"id\":\"2366\",\"type\":\"BoxZoomTool\"},{\"attributes\":{},\"id\":\"2367\",\"type\":\"SaveTool\"},{\"attributes\":{\"callback\":null},\"id\":\"2346\",\"type\":\"DataRange1d\"},{\"attributes\":{},\"id\":\"2368\",\"type\":\"ResetTool\"},{\"attributes\":{},\"id\":\"2369\",\"type\":\"HelpTool\"},{\"attributes\":{\"line_color\":\"#1f77b3\",\"line_width\":2,\"x\":{\"field\":\"x\"},\"y\":{\"field\":\"y\"}},\"id\":\"2378\",\"type\":\"Line\"},{\"attributes\":{},\"id\":\"2350\",\"type\":\"LinearScale\"},{\"attributes\":{\"source\":{\"id\":\"2377\",\"type\":\"ColumnDataSource\"}},\"id\":\"2381\",\"type\":\"CDSView\"}],\"root_ids\":[\"2343\"]},\"title\":\"Bokeh Application\",\"version\":\"1.4.0\"}};\n",
       "  var render_items = [{\"docid\":\"7653df86-732e-44c8-9e63-803411fe4e1c\",\"roots\":{\"2343\":\"6c36a826-5b06-42ad-84a3-c46008925c38\"}}];\n",
       "  root.Bokeh.embed.embed_items_notebook(docs_json, render_items);\n",
       "\n",
       "  }\n",
       "  if (root.Bokeh !== undefined) {\n",
       "    embed_document(root);\n",
       "  } else {\n",
       "    var attempts = 0;\n",
       "    var timer = setInterval(function(root) {\n",
       "      if (root.Bokeh !== undefined) {\n",
       "        clearInterval(timer);\n",
       "        embed_document(root);\n",
       "      } else {\n",
       "        attempts++;\n",
       "        if (attempts > 100) {\n",
       "          clearInterval(timer);\n",
       "          console.log(\"Bokeh: ERROR: Unable to run BokehJS code because BokehJS library is missing\");\n",
       "        }\n",
       "      }\n",
       "    }, 10, root)\n",
       "  }\n",
       "})(window);"
      ],
      "application/vnd.bokehjs_exec.v0+json": ""
     },
     "metadata": {
      "application/vnd.bokehjs_exec.v0+json": {
       "id": "2343"
      }
     },
     "output_type": "display_data"
    }
   ],
   "source": [
    "p_simple = bokeh.plotting.figure(width = 450, height = 350, title = 'ATP Synthase with Machinery',\n",
    "                          x_axis_label = 'time',\n",
    "                          y_axis_label = 'concentration')\n",
    "plot_list = [ 'dna_atpsyn']\n",
    "#plot_str = ['atp', 'outside_H', 'inside_H', 'bound atp synthase', 'free atp synthase']\n",
    "# plot_list = [atp_synthase_b_protein_id, atp_synthase_f_protein_id]\n",
    "# plot_str = ['atp synthase bound', 'atp synthase free']\n",
    "for i,item in enumerate(plot_list):\n",
    "    p_simple.line(timepoints, r_simple[item], line_width = 2, legend_label = item, color = palette[i])\n",
    "    \n",
    "bokeh.io.show(p_simple)"
   ]
  },
  {
   "cell_type": "markdown",
   "metadata": {},
   "source": [
    "## SBML 3 (manual RNA poly, Ribo, mrna degradation) for ATP Synthase Tx and Tl\n",
    "---"
   ]
  },
  {
   "cell_type": "code",
   "execution_count": 50,
   "metadata": {},
   "outputs": [
    {
     "name": "stdout",
     "output_type": "stream",
     "text": [
      "Species (9) = {0. rna[atpsyn], 1. dna[atpsyn], 2. protein[atpsyn], 3. protein[RNAP_machinery], 4. protein[Ribo_machinery], 5. protein[RNAse_machinery], 6. complex[dna[atpsyn]:protein[RNAP_machinery]], 7. complex[protein[Ribo_machinery]:rna[atpsyn]], 8. complex[protein[RNAse_machinery]:rna[atpsyn]]}\n",
      "Reactions (6) = [\n",
      "0. dna[atpsyn] + protein[RNAP_machinery] --> complex[dna[atpsyn]:protein[RNAP_machinery]]        \n",
      "        massaction: k_f(dna[atpsyn],protein[RNAP_machinery])=100.0*dna[atpsyn]*protein[RNAP_machinery]\n",
      "1. complex[dna[atpsyn]:protein[RNAP_machinery]] --> dna[atpsyn] + rna[atpsyn] + protein[RNAP_machinery]        \n",
      "        massaction: k_f(complex[dna[atpsyn]:protein[RNAP_machinery]])=0.05*complex[dna[atpsyn]:protein[RNAP_machinery]]\n",
      "2. rna[atpsyn] + protein[Ribo_machinery] <--> complex[protein[Ribo_machinery]:rna[atpsyn]]        \n",
      "        massaction: k_f(rna[atpsyn],protein[Ribo_machinery])=100.0*rna[atpsyn]*protein[Ribo_machinery]\n",
      "        k_r(complex[protein[Ribo_machinery]:rna[atpsyn]])=1.0*complex[protein[Ribo_machinery]:rna[atpsyn]]\n",
      "3. complex[protein[Ribo_machinery]:rna[atpsyn]] --> rna[atpsyn] + protein[atpsyn] + protein[Ribo_machinery]        \n",
      "        massaction: k_f(complex[protein[Ribo_machinery]:rna[atpsyn]])=0.05*complex[protein[Ribo_machinery]:rna[atpsyn]]\n",
      "4. rna[atpsyn] + protein[RNAse_machinery] <--> complex[protein[RNAse_machinery]:rna[atpsyn]]        \n",
      "        massaction: k_f(rna[atpsyn],protein[RNAse_machinery])=100.0*rna[atpsyn]*protein[RNAse_machinery]\n",
      "        k_r(complex[protein[RNAse_machinery]:rna[atpsyn]])=1.0*complex[protein[RNAse_machinery]:rna[atpsyn]]\n",
      "5. complex[protein[RNAse_machinery]:rna[atpsyn]] --> protein[RNAse_machinery]        \n",
      "        massaction: k_f(complex[protein[RNAse_machinery]:rna[atpsyn]])=0.001*complex[protein[RNAse_machinery]:rna[atpsyn]]\n",
      "]\n"
     ]
    }
   ],
   "source": [
    "rna_atpsyn = Species(\"atpsyn\", material_type = \"rna\")\n",
    "dna_atpsyn = Species(\"atpsyn\", material_type = \"dna\")\n",
    "f_atpsyn = Species(\"atpsyn\", material_type = \"protein\")\n",
    "\n",
    "RNAP_machinery = Species('RNAP_machinery', material_type = 'protein')\n",
    "Ribo_machinery = Species(\"Ribo_machinery\", material_type = 'protein')\n",
    "RNAse_machinery = Species(\"RNAse_machinery\", material_type = 'protein')\n",
    "\n",
    "complex_dna_rnap = ComplexSpecies([dna_atpsyn, RNAP_machinery])\n",
    "complex_rna_ribo = ComplexSpecies([rna_atpsyn, Ribo_machinery])\n",
    "complex_rnase_rna = ComplexSpecies([rna_atpsyn, RNAse_machinery])\n",
    "\n",
    "kb = 100.0\n",
    "kf = 1.0\n",
    "k1 = 0.05\n",
    "k5 = 0.001\n",
    "\n",
    "R0 = Reaction([dna_atpsyn, RNAP_machinery], [complex_dna_rnap], k = kb) # THIS ONE WILL BE TEMP DEPENDENT, \n",
    "                                                                        # made irreversible for now\n",
    "R1 = Reaction([complex_dna_rnap], [dna_atpsyn, rna_atpsyn, RNAP_machinery], k = k1)\n",
    "R2 = Reaction([rna_atpsyn, Ribo_machinery], [complex_rna_ribo], k = kb, k_rev = kf)\n",
    "R3 = Reaction([complex_rna_ribo],[rna_atpsyn, f_atpsyn, Ribo_machinery], k = k1)\n",
    "R4 = Reaction([rna_atpsyn, RNAse_machinery], [complex_rnase_rna], k = kb, k_rev = kf)\n",
    "R5 = Reaction([complex_rnase_rna], [RNAse_machinery], k = k5)\n",
    "\n",
    "CRN_machinerytxtl = ChemicalReactionNetwork(species = [rna_atpsyn, dna_atpsyn, f_atpsyn, RNAP_machinery, Ribo_machinery,\n",
    "                                         RNAse_machinery, complex_dna_rnap, complex_rna_ribo, complex_rnase_rna],\n",
    "                               reactions = [R0, R1, R2, R3, R4, R5])\n",
    "\n",
    "print(CRN_machinerytxtl.pretty_print(show_materials = True, show_rates = True, show_attributes = True))\n",
    "\n"
   ]
  },
  {
   "cell_type": "code",
   "execution_count": 51,
   "metadata": {},
   "outputs": [
    {
     "data": {
      "text/plain": [
       "True"
      ]
     },
     "execution_count": 51,
     "metadata": {},
     "output_type": "execute_result"
    }
   ],
   "source": [
    "# Write SBML file\n",
    "CRN_machinerytxtl.write_sbml_file('atpsynthase_machinery_txtl.xml')"
   ]
  },
  {
   "cell_type": "code",
   "execution_count": 52,
   "metadata": {},
   "outputs": [],
   "source": [
    "x0 = {'dna_atpsyn' : 10, 'protein_RNAP_machinery' : 10, 'protein_Ribo_machinery' : 10, 'protein_RNAse_machinery' : 10}\n",
    "timepoints = np.linspace(0,100,100)\n",
    "r = CRN_machinerytxtl.simulate_with_bioscrape(timepoints, initial_condition_dict = x0)\n",
    "\n",
    "#results, _ = CRN_machinerytxtl.simulate_via_bioscrape(timepoints, initial_condition_dict = x0, sbml_warnings = False)"
   ]
  },
  {
   "cell_type": "code",
   "execution_count": 54,
   "metadata": {},
   "outputs": [
    {
     "data": {
      "text/html": [
       "\n",
       "\n",
       "\n",
       "\n",
       "\n",
       "\n",
       "  <div class=\"bk-root\" id=\"044c1c70-e599-4dc5-8bee-1d6a188495c6\" data-root-id=\"3107\"></div>\n"
      ]
     },
     "metadata": {},
     "output_type": "display_data"
    },
    {
     "data": {
      "application/javascript": [
       "(function(root) {\n",
       "  function embed_document(root) {\n",
       "    \n",
       "  var docs_json = {\"5ea53abd-ebeb-4ba5-aa63-66f476dd37b7\":{\"roots\":{\"references\":[{\"attributes\":{\"below\":[{\"id\":\"3118\",\"type\":\"LinearAxis\"}],\"center\":[{\"id\":\"3122\",\"type\":\"Grid\"},{\"id\":\"3127\",\"type\":\"Grid\"},{\"id\":\"3152\",\"type\":\"Legend\"}],\"left\":[{\"id\":\"3123\",\"type\":\"LinearAxis\"}],\"plot_height\":350,\"plot_width\":450,\"renderers\":[{\"id\":\"3144\",\"type\":\"GlyphRenderer\"},{\"id\":\"3157\",\"type\":\"GlyphRenderer\"}],\"title\":{\"id\":\"3108\",\"type\":\"Title\"},\"toolbar\":{\"id\":\"3134\",\"type\":\"Toolbar\"},\"x_range\":{\"id\":\"3110\",\"type\":\"DataRange1d\"},\"x_scale\":{\"id\":\"3114\",\"type\":\"LinearScale\"},\"y_range\":{\"id\":\"3112\",\"type\":\"DataRange1d\"},\"y_scale\":{\"id\":\"3116\",\"type\":\"LinearScale\"}},\"id\":\"3107\",\"subtype\":\"Figure\",\"type\":\"Plot\"},{\"attributes\":{},\"id\":\"3128\",\"type\":\"PanTool\"},{\"attributes\":{\"source\":{\"id\":\"3154\",\"type\":\"ColumnDataSource\"}},\"id\":\"3158\",\"type\":\"CDSView\"},{\"attributes\":{\"active_drag\":\"auto\",\"active_inspect\":\"auto\",\"active_multi\":null,\"active_scroll\":\"auto\",\"active_tap\":\"auto\",\"tools\":[{\"id\":\"3128\",\"type\":\"PanTool\"},{\"id\":\"3129\",\"type\":\"WheelZoomTool\"},{\"id\":\"3130\",\"type\":\"BoxZoomTool\"},{\"id\":\"3131\",\"type\":\"SaveTool\"},{\"id\":\"3132\",\"type\":\"ResetTool\"},{\"id\":\"3133\",\"type\":\"HelpTool\"}]},\"id\":\"3134\",\"type\":\"Toolbar\"},{\"attributes\":{\"line_alpha\":0.1,\"line_color\":\"#1f77b4\",\"line_width\":2,\"x\":{\"field\":\"x\"},\"y\":{\"field\":\"y\"}},\"id\":\"3143\",\"type\":\"Line\"},{\"attributes\":{},\"id\":\"3284\",\"type\":\"UnionRenderers\"},{\"attributes\":{\"text\":\"ATP Synthase with Machinery\"},\"id\":\"3108\",\"type\":\"Title\"},{\"attributes\":{},\"id\":\"3285\",\"type\":\"Selection\"},{\"attributes\":{\"callback\":null,\"data\":{\"x\":{\"__ndarray__\":\"AAAAAAAAAAB/pUCtXynwP3+lQK1fKQBAPvjggw8+CEB/pUCtXykQQN/OkJi3MxRAPvjggw8+GECeITFvZ0gcQH+lQK1fKSBAL7rooosuIkDfzpCYtzMkQI/jOI7jOCZAPvjggw8+KEDuDIl5O0MqQJ4hMW9nSCxATjbZZJNNLkB/pUCtXykwQNevFKj1KzFAL7rooosuMkCHxLydITEzQN/OkJi3MzRAN9lkk002NUCP4ziO4zg2QOftDIl5OzdAPvjggw8+OECWArV+pUA5QO4MiXk7QzpARhdddNFFO0CeITFvZ0g8QPYrBWr9Sj1ATjbZZJNNPkCmQK1fKVA/QH+lQK1fKUBAq6qqqqqqQEDXrxSo9StBQAO1fqVArUFAL7rooosuQkBbv1Kg1q9CQIfEvJ0hMUNAs8kmm2yyQ0DfzpCYtzNEQAvU+pUCtURAN9lkk002RUBj3s6QmLdFQI/jOI7jOEZAu+iiiy66RkDn7QyJeTtHQBPzdobEvEdAPvjggw8+SEBq/UqBWr9IQJYCtX6lQElAwgcffPDBSUDuDIl5O0NKQBoS83aGxEpARhdddNFFS0ByHMdxHMdLQJ4hMW9nSExAyiabbLLJTED2KwVq/UpNQCIxb2dIzE1ATjbZZJNNTkB6O0Ni3s5OQKZArV8pUE9A0kUXXXTRT0B/pUCtXylQQBWo9SsFalBAq6qqqqqqUEBBrV8pUOtQQNevFKj1K1FAbbLJJptsUUADtX6lQK1RQJm3MyTm7VFAL7rooosuUkDFvJ0hMW9SQFu/UqDWr1JA8cEHH3zwUkCHxLydITFTQB3HcRzHcVNAs8kmm2yyU0BJzNsZEvNTQN/OkJi3M1RAddFFF110VEAL1PqVArVUQKHWrxSo9VRAN9lkk002VUDN2xkS83ZVQGPezpCYt1VA+eCDDz74VUCP4ziO4zhWQCXm7QyJeVZAu+iiiy66VkBR61cK1PpWQOftDIl5O1dAffDBBx98V0AT83aGxLxXQKn1KwVq/VdAPvjggw8+WEDU+pUCtX5YQGr9SoFav1hAAAAAAAAAWUA=\",\"dtype\":\"float64\",\"shape\":[100]},\"y\":{\"__ndarray__\":\"AAAAAAAAAADuasT6PIN5PzpQTHtyhpk/c3xglj+vrD+X4jW9+ni5P/QB+FHQ4sM/BMhaKfeezD+p5ajJmHjTP64ikznibNk/HCaVej0W4D9MJ/4Aw9vjPyIZzBETB+g/dFb94D6Y7D+9fSW2q8fwPydv+Lk2dvM/hFYQuchX9j/X0zPIaWz5P6JZpc0htPw//Z/ePHwXAEDbL9meeu4BQGglDaAP3wNAXuFTpz7pBUCwmvzlCg0IQKguAUx3SgpAWrrleYahDECQBLSsOhIPQEzZs9FKzhBAT9UbPkwgEkAHrtrBIX8TQJE11PfK6hRAN8JsvUZjFkA+lWLokugXQGgyg9OrehlA162LposZG0Ba1+4fKcUcQDbBFW11fR5A5G9xBywhIEBAgpYu0wkhQBvTQSWI+CFAJISxpPjsIkBUEUu5ceYjQF997MCg4yRAiPHCjPLiJUCGM+ygWeMmQMjL7lpV5CdAPHif0KnlKEB+EIVLOOcpQE5zY2Tv6CpAzeTZaMTqK0AHXaxXsOwsQBanJF6u7i1Ad07FB7vwLkCXwvLF0/IvQDX0gVN7ejBAaysAFJH7MEBl+B6LqnwxQMFITz3H/TFAL3iVxeZ+MkD6sTbQCAAzQAvITRctgTNAL6mqX1MCNEA6l9l2e4M0QCJXeTGlBDVA5Y/6adCFNUA/zJ///AY2QHwjtNUqiDZAN6vv0lkJN0AKoevgiYo3QEzCm+u6CzhACy0V4eyMOEBTIm+xHw45QA1sMU5TjzlAE9BHqocQOkAOC965vJE6QCaFKXLyEjtAnAdSySiUO0C0fli2XxU8QF6T/DCXljxA/remMc8XPUDsWVaxB5k9QCywk6lAGj5A0nJiFHqbPkBxwjXssxw/QLWF5SvunT9AEvtRZ5QPQEC96/jnMVBAQNK71ZXPkEBAgGLzbm3RQEBzBX1xCxJBQFoQvJupUkFA1FsT7EeTQUCwnP5g5tNBQNBSEPmEFEJAOsjvsiNVQkBt0leNwpVCQADTFYdh1kJAmEQInwAXQ0AomxvUn1dDQMgQTSU/mENAuZijkd7YQ0A=\",\"dtype\":\"float64\",\"shape\":[100]}},\"selected\":{\"id\":\"3166\",\"type\":\"Selection\"},\"selection_policy\":{\"id\":\"3165\",\"type\":\"UnionRenderers\"}},\"id\":\"3141\",\"type\":\"ColumnDataSource\"},{\"attributes\":{\"line_color\":\"#1f77b3\",\"line_width\":2,\"x\":{\"field\":\"x\"},\"y\":{\"field\":\"y\"}},\"id\":\"3142\",\"type\":\"Line\"},{\"attributes\":{},\"id\":\"3129\",\"type\":\"WheelZoomTool\"},{\"attributes\":{\"callback\":null},\"id\":\"3110\",\"type\":\"DataRange1d\"},{\"attributes\":{\"label\":{\"value\":\"dna_atpsyn\"},\"renderers\":[{\"id\":\"3157\",\"type\":\"GlyphRenderer\"}]},\"id\":\"3167\",\"type\":\"LegendItem\"},{\"attributes\":{},\"id\":\"3119\",\"type\":\"BasicTicker\"},{\"attributes\":{},\"id\":\"3133\",\"type\":\"HelpTool\"},{\"attributes\":{},\"id\":\"3165\",\"type\":\"UnionRenderers\"},{\"attributes\":{\"ticker\":{\"id\":\"3119\",\"type\":\"BasicTicker\"}},\"id\":\"3122\",\"type\":\"Grid\"},{\"attributes\":{\"line_color\":\"#ff7e0e\",\"line_width\":2,\"x\":{\"field\":\"x\"},\"y\":{\"field\":\"y\"}},\"id\":\"3155\",\"type\":\"Line\"},{\"attributes\":{\"data_source\":{\"id\":\"3154\",\"type\":\"ColumnDataSource\"},\"glyph\":{\"id\":\"3155\",\"type\":\"Line\"},\"hover_glyph\":null,\"muted_glyph\":null,\"nonselection_glyph\":{\"id\":\"3156\",\"type\":\"Line\"},\"selection_glyph\":null,\"view\":{\"id\":\"3158\",\"type\":\"CDSView\"}},\"id\":\"3157\",\"type\":\"GlyphRenderer\"},{\"attributes\":{},\"id\":\"3114\",\"type\":\"LinearScale\"},{\"attributes\":{\"dimension\":1,\"ticker\":{\"id\":\"3124\",\"type\":\"BasicTicker\"}},\"id\":\"3127\",\"type\":\"Grid\"},{\"attributes\":{},\"id\":\"3149\",\"type\":\"BasicTickFormatter\"},{\"attributes\":{\"axis_label\":\"time\",\"formatter\":{\"id\":\"3147\",\"type\":\"BasicTickFormatter\"},\"ticker\":{\"id\":\"3119\",\"type\":\"BasicTicker\"}},\"id\":\"3118\",\"type\":\"LinearAxis\"},{\"attributes\":{\"bottom_units\":\"screen\",\"fill_alpha\":{\"value\":0.5},\"fill_color\":{\"value\":\"lightgrey\"},\"left_units\":\"screen\",\"level\":\"overlay\",\"line_alpha\":{\"value\":1.0},\"line_color\":{\"value\":\"black\"},\"line_dash\":[4,4],\"line_width\":{\"value\":2},\"render_mode\":\"css\",\"right_units\":\"screen\",\"top_units\":\"screen\"},\"id\":\"3151\",\"type\":\"BoxAnnotation\"},{\"attributes\":{},\"id\":\"3132\",\"type\":\"ResetTool\"},{\"attributes\":{},\"id\":\"3116\",\"type\":\"LinearScale\"},{\"attributes\":{},\"id\":\"3131\",\"type\":\"SaveTool\"},{\"attributes\":{},\"id\":\"3166\",\"type\":\"Selection\"},{\"attributes\":{\"overlay\":{\"id\":\"3151\",\"type\":\"BoxAnnotation\"}},\"id\":\"3130\",\"type\":\"BoxZoomTool\"},{\"attributes\":{\"line_alpha\":0.1,\"line_color\":\"#1f77b4\",\"line_width\":2,\"x\":{\"field\":\"x\"},\"y\":{\"field\":\"y\"}},\"id\":\"3156\",\"type\":\"Line\"},{\"attributes\":{\"callback\":null},\"id\":\"3112\",\"type\":\"DataRange1d\"},{\"attributes\":{},\"id\":\"3147\",\"type\":\"BasicTickFormatter\"},{\"attributes\":{\"data_source\":{\"id\":\"3141\",\"type\":\"ColumnDataSource\"},\"glyph\":{\"id\":\"3142\",\"type\":\"Line\"},\"hover_glyph\":null,\"muted_glyph\":null,\"nonselection_glyph\":{\"id\":\"3143\",\"type\":\"Line\"},\"selection_glyph\":null,\"view\":{\"id\":\"3145\",\"type\":\"CDSView\"}},\"id\":\"3144\",\"type\":\"GlyphRenderer\"},{\"attributes\":{\"items\":[{\"id\":\"3153\",\"type\":\"LegendItem\"},{\"id\":\"3167\",\"type\":\"LegendItem\"}]},\"id\":\"3152\",\"type\":\"Legend\"},{\"attributes\":{\"axis_label\":\"concentration\",\"formatter\":{\"id\":\"3149\",\"type\":\"BasicTickFormatter\"},\"ticker\":{\"id\":\"3124\",\"type\":\"BasicTicker\"}},\"id\":\"3123\",\"type\":\"LinearAxis\"},{\"attributes\":{\"label\":{\"value\":\"protein_atpsyn\"},\"renderers\":[{\"id\":\"3144\",\"type\":\"GlyphRenderer\"}]},\"id\":\"3153\",\"type\":\"LegendItem\"},{\"attributes\":{\"source\":{\"id\":\"3141\",\"type\":\"ColumnDataSource\"}},\"id\":\"3145\",\"type\":\"CDSView\"},{\"attributes\":{\"callback\":null,\"data\":{\"x\":{\"__ndarray__\":\"AAAAAAAAAAB/pUCtXynwP3+lQK1fKQBAPvjggw8+CEB/pUCtXykQQN/OkJi3MxRAPvjggw8+GECeITFvZ0gcQH+lQK1fKSBAL7rooosuIkDfzpCYtzMkQI/jOI7jOCZAPvjggw8+KEDuDIl5O0MqQJ4hMW9nSCxATjbZZJNNLkB/pUCtXykwQNevFKj1KzFAL7rooosuMkCHxLydITEzQN/OkJi3MzRAN9lkk002NUCP4ziO4zg2QOftDIl5OzdAPvjggw8+OECWArV+pUA5QO4MiXk7QzpARhdddNFFO0CeITFvZ0g8QPYrBWr9Sj1ATjbZZJNNPkCmQK1fKVA/QH+lQK1fKUBAq6qqqqqqQEDXrxSo9StBQAO1fqVArUFAL7rooosuQkBbv1Kg1q9CQIfEvJ0hMUNAs8kmm2yyQ0DfzpCYtzNEQAvU+pUCtURAN9lkk002RUBj3s6QmLdFQI/jOI7jOEZAu+iiiy66RkDn7QyJeTtHQBPzdobEvEdAPvjggw8+SEBq/UqBWr9IQJYCtX6lQElAwgcffPDBSUDuDIl5O0NKQBoS83aGxEpARhdddNFFS0ByHMdxHMdLQJ4hMW9nSExAyiabbLLJTED2KwVq/UpNQCIxb2dIzE1ATjbZZJNNTkB6O0Ni3s5OQKZArV8pUE9A0kUXXXTRT0B/pUCtXylQQBWo9SsFalBAq6qqqqqqUEBBrV8pUOtQQNevFKj1K1FAbbLJJptsUUADtX6lQK1RQJm3MyTm7VFAL7rooosuUkDFvJ0hMW9SQFu/UqDWr1JA8cEHH3zwUkCHxLydITFTQB3HcRzHcVNAs8kmm2yyU0BJzNsZEvNTQN/OkJi3M1RAddFFF110VEAL1PqVArVUQKHWrxSo9VRAN9lkk002VUDN2xkS83ZVQGPezpCYt1VA+eCDDz74VUCP4ziO4zhWQCXm7QyJeVZAu+iiiy66VkBR61cK1PpWQOftDIl5O1dAffDBBx98V0AT83aGxLxXQKn1KwVq/VdAPvjggw8+WEDU+pUCtX5YQGr9SoFav1hAAAAAAAAAWUA=\",\"dtype\":\"float64\",\"shape\":[100]},\"y\":{\"__ndarray__\":\"AAAAAAAAJEABh5HVvgmyP2aWlG69CbI/3bhZbr0Jsj/uWlpuvQmyP5Lscm69CbI/0BzVbb0Jsj9Elt5tvQmyP9EtN269CbI/mI1Obr0Jsj+j/jxuvQmyP4CYVW69CbI/Up5gbr0Jsj9B3kRuvQmyP7Z/Tm69CbI/aqxMbr0Jsj/B9UhuvQmyP4ZJTG69CbI/qJRLbr0Jsj99e0puvQmyP6WqS269CbI/S1tLbr0Jsj/1A0tuvQmyP70AS269CbI/GwFLbr0Jsj8dAUtuvQmyPxwBS269CbI/HAFLbr0Jsj8cAUtuvQmyPxwBS269CbI/HAFLbr0Jsj8dAUtuvQmyPxwBS269CbI/HAFLbr0Jsj8dAUtuvQmyPxwBS269CbI/HAFLbr0Jsj8cAUtuvQmyPxwBS269CbI/HAFLbr0Jsj8cAUtuvQmyPxwBS269CbI/HAFLbr0Jsj8cAUtuvQmyPxwBS269CbI/HAFLbr0Jsj8cAUtuvQmyPxwBS269CbI/HAFLbr0Jsj8cAUtuvQmyPxwBS269CbI/HQFLbr0Jsj8dAUtuvQmyPxsBS269CbI/HAFLbr0Jsj8dAUtuvQmyPx0BS269CbI/HAFLbr0Jsj8cAUtuvQmyPxwBS269CbI/HAFLbr0Jsj8cAUtuvQmyPxwBS269CbI/HAFLbr0Jsj8cAUtuvQmyPxwBS269CbI/HQFLbr0Jsj8dAUtuvQmyPxwBS269CbI/HAFLbr0Jsj8dAUtuvQmyPx4BS269CbI/GwFLbr0Jsj8dAUtuvQmyPx0BS269CbI/HQFLbr0Jsj8dAUtuvQmyPxwBS269CbI/HAFLbr0Jsj8dAUtuvQmyPx0BS269CbI/HQFLbr0Jsj8bAUtuvQmyPxwBS269CbI/HgFLbr0Jsj8eAUtuvQmyPxwBS269CbI/GwFLbr0Jsj8dAUtuvQmyPyABS269CbI/IAFLbr0Jsj8cAUtuvQmyPxkBS269CbI/GAFLbr0Jsj8ZAUtuvQmyPx0BS269CbI/HQFLbr0Jsj8dAUtuvQmyPx0BS269CbI/HQFLbr0Jsj8=\",\"dtype\":\"float64\",\"shape\":[100]}},\"selected\":{\"id\":\"3285\",\"type\":\"Selection\"},\"selection_policy\":{\"id\":\"3284\",\"type\":\"UnionRenderers\"}},\"id\":\"3154\",\"type\":\"ColumnDataSource\"},{\"attributes\":{},\"id\":\"3124\",\"type\":\"BasicTicker\"}],\"root_ids\":[\"3107\"]},\"title\":\"Bokeh Application\",\"version\":\"1.4.0\"}};\n",
       "  var render_items = [{\"docid\":\"5ea53abd-ebeb-4ba5-aa63-66f476dd37b7\",\"roots\":{\"3107\":\"044c1c70-e599-4dc5-8bee-1d6a188495c6\"}}];\n",
       "  root.Bokeh.embed.embed_items_notebook(docs_json, render_items);\n",
       "\n",
       "  }\n",
       "  if (root.Bokeh !== undefined) {\n",
       "    embed_document(root);\n",
       "  } else {\n",
       "    var attempts = 0;\n",
       "    var timer = setInterval(function(root) {\n",
       "      if (root.Bokeh !== undefined) {\n",
       "        clearInterval(timer);\n",
       "        embed_document(root);\n",
       "      } else {\n",
       "        attempts++;\n",
       "        if (attempts > 100) {\n",
       "          clearInterval(timer);\n",
       "          console.log(\"Bokeh: ERROR: Unable to run BokehJS code because BokehJS library is missing\");\n",
       "        }\n",
       "      }\n",
       "    }, 10, root)\n",
       "  }\n",
       "})(window);"
      ],
      "application/vnd.bokehjs_exec.v0+json": ""
     },
     "metadata": {
      "application/vnd.bokehjs_exec.v0+json": {
       "id": "3107"
      }
     },
     "output_type": "display_data"
    }
   ],
   "source": [
    "p_mach = bokeh.plotting.figure(width = 450, height = 350, title = 'ATP Synthase with Machinery',\n",
    "                          x_axis_label = 'time',\n",
    "                          y_axis_label = 'concentration')\n",
    "plot_list = ['protein_atpsyn','dna_atpsyn']\n",
    "#plot_str = ['atp', 'outside_H', 'inside_H', 'bound atp synthase', 'free atp synthase']\n",
    "# plot_list = [atp_synthase_b_protein_id, atp_synthase_f_protein_id]\n",
    "# plot_str = ['atp synthase bound', 'atp synthase free']\n",
    "for i,item in enumerate(plot_list):\n",
    "    p_mach.line(timepoints, r[item], line_width = 2, legend_label = item, color = palette[i])\n",
    "    \n",
    "bokeh.io.show(p_mach)"
   ]
  },
  {
   "cell_type": "code",
   "execution_count": 32,
   "metadata": {},
   "outputs": [
    {
     "data": {
      "text/html": [
       "<div>\n",
       "<style scoped>\n",
       "    .dataframe tbody tr th:only-of-type {\n",
       "        vertical-align: middle;\n",
       "    }\n",
       "\n",
       "    .dataframe tbody tr th {\n",
       "        vertical-align: top;\n",
       "    }\n",
       "\n",
       "    .dataframe thead th {\n",
       "        text-align: right;\n",
       "    }\n",
       "</style>\n",
       "<table border=\"1\" class=\"dataframe\">\n",
       "  <thead>\n",
       "    <tr style=\"text-align: right;\">\n",
       "      <th></th>\n",
       "      <th>rna_atpsyn</th>\n",
       "      <th>dna_atpsyn</th>\n",
       "      <th>protein_atpsyn</th>\n",
       "      <th>protein_RNAP_machinery</th>\n",
       "      <th>protein_Ribo_machinery</th>\n",
       "      <th>protein_RNAse_machinery</th>\n",
       "      <th>complex_dna_atpsyn_protein_RNAP_machinery</th>\n",
       "      <th>complex_protein_Ribo_machinery_rna_atpsyn</th>\n",
       "      <th>complex_protein_RNAse_machinery_rna_atpsyn</th>\n",
       "      <th>time</th>\n",
       "    </tr>\n",
       "  </thead>\n",
       "  <tbody>\n",
       "    <tr>\n",
       "      <th>0</th>\n",
       "      <td>0.000000</td>\n",
       "      <td>10.000000</td>\n",
       "      <td>0.000000</td>\n",
       "      <td>10.000000</td>\n",
       "      <td>10.000000</td>\n",
       "      <td>10.000000</td>\n",
       "      <td>0.000000</td>\n",
       "      <td>0.000000</td>\n",
       "      <td>0.000000</td>\n",
       "      <td>0.000000</td>\n",
       "    </tr>\n",
       "    <tr>\n",
       "      <th>1</th>\n",
       "      <td>0.002555</td>\n",
       "      <td>0.953505</td>\n",
       "      <td>0.005700</td>\n",
       "      <td>0.953505</td>\n",
       "      <td>9.773804</td>\n",
       "      <td>9.772826</td>\n",
       "      <td>9.046495</td>\n",
       "      <td>0.226196</td>\n",
       "      <td>0.227174</td>\n",
       "      <td>1.010101</td>\n",
       "    </tr>\n",
       "    <tr>\n",
       "      <th>2</th>\n",
       "      <td>0.005001</td>\n",
       "      <td>0.953505</td>\n",
       "      <td>0.022846</td>\n",
       "      <td>0.953505</td>\n",
       "      <td>9.547271</td>\n",
       "      <td>9.545254</td>\n",
       "      <td>9.046495</td>\n",
       "      <td>0.452729</td>\n",
       "      <td>0.454746</td>\n",
       "      <td>2.020202</td>\n",
       "    </tr>\n",
       "    <tr>\n",
       "      <th>3</th>\n",
       "      <td>0.007563</td>\n",
       "      <td>0.953505</td>\n",
       "      <td>0.051428</td>\n",
       "      <td>0.953505</td>\n",
       "      <td>9.320886</td>\n",
       "      <td>9.317881</td>\n",
       "      <td>9.046495</td>\n",
       "      <td>0.679114</td>\n",
       "      <td>0.682119</td>\n",
       "      <td>3.030303</td>\n",
       "    </tr>\n",
       "    <tr>\n",
       "      <th>4</th>\n",
       "      <td>0.010251</td>\n",
       "      <td>0.953505</td>\n",
       "      <td>0.091440</td>\n",
       "      <td>0.953505</td>\n",
       "      <td>9.094654</td>\n",
       "      <td>9.090712</td>\n",
       "      <td>9.046495</td>\n",
       "      <td>0.905346</td>\n",
       "      <td>0.909288</td>\n",
       "      <td>4.040404</td>\n",
       "    </tr>\n",
       "  </tbody>\n",
       "</table>\n",
       "</div>"
      ],
      "text/plain": [
       "   rna_atpsyn  dna_atpsyn  protein_atpsyn  protein_RNAP_machinery  \\\n",
       "0    0.000000   10.000000        0.000000               10.000000   \n",
       "1    0.002555    0.953505        0.005700                0.953505   \n",
       "2    0.005001    0.953505        0.022846                0.953505   \n",
       "3    0.007563    0.953505        0.051428                0.953505   \n",
       "4    0.010251    0.953505        0.091440                0.953505   \n",
       "\n",
       "   protein_Ribo_machinery  protein_RNAse_machinery  \\\n",
       "0               10.000000                10.000000   \n",
       "1                9.773804                 9.772826   \n",
       "2                9.547271                 9.545254   \n",
       "3                9.320886                 9.317881   \n",
       "4                9.094654                 9.090712   \n",
       "\n",
       "   complex_dna_atpsyn_protein_RNAP_machinery  \\\n",
       "0                                   0.000000   \n",
       "1                                   9.046495   \n",
       "2                                   9.046495   \n",
       "3                                   9.046495   \n",
       "4                                   9.046495   \n",
       "\n",
       "   complex_protein_Ribo_machinery_rna_atpsyn  \\\n",
       "0                                   0.000000   \n",
       "1                                   0.226196   \n",
       "2                                   0.452729   \n",
       "3                                   0.679114   \n",
       "4                                   0.905346   \n",
       "\n",
       "   complex_protein_RNAse_machinery_rna_atpsyn      time  \n",
       "0                                    0.000000  0.000000  \n",
       "1                                    0.227174  1.010101  \n",
       "2                                    0.454746  2.020202  \n",
       "3                                    0.682119  3.030303  \n",
       "4                                    0.909288  4.040404  "
      ]
     },
     "execution_count": 32,
     "metadata": {},
     "output_type": "execute_result"
    }
   ],
   "source": [
    "r.head()"
   ]
  },
  {
   "cell_type": "markdown",
   "metadata": {},
   "source": [
    "## SBML for ATP synthase membrane integration\n",
    "---"
   ]
  },
  {
   "cell_type": "code",
   "execution_count": 63,
   "metadata": {},
   "outputs": [
    {
     "name": "stdout",
     "output_type": "stream",
     "text": [
      "Species (2) = {0. protein[atpsyn], 1. protein[atpsyn_b]}\n",
      "Reactions (1) = [\n",
      "0. protein[atpsyn] --> protein[atpsyn_b]        \n",
      "        massaction: k_f(protein[atpsyn])=1*protein[atpsyn]\n",
      "]\n"
     ]
    }
   ],
   "source": [
    "atpsyn = Species(\"atpsyn\", material_type = \"protein\")\n",
    "\n",
    "atpsyn_b = Species(\"atpsyn_b\", material_type = \"protein\")\n",
    "\n",
    "k_bound = 1\n",
    "\n",
    "R = Reaction([atpsyn], [atpsyn_b], k_bound)\n",
    "\n",
    "#R1 = Reaction([atpsyn], [], k_bound)\n",
    "\n",
    "CRN_mi = ChemicalReactionNetwork(species = [atpsyn, atpsyn_b], reactions = [R])\n",
    "\n",
    "print(CRN_mi.pretty_print(show_materials = True, show_rates = True, show_attributes = True))"
   ]
  },
  {
   "cell_type": "code",
   "execution_count": 64,
   "metadata": {},
   "outputs": [
    {
     "data": {
      "text/plain": [
       "True"
      ]
     },
     "execution_count": 64,
     "metadata": {},
     "output_type": "execute_result"
    }
   ],
   "source": [
    "# Write SBML file\n",
    "CRN_mi.write_sbml_file('atpsynthase_membrane_integration.xml')"
   ]
  },
  {
   "cell_type": "code",
   "execution_count": 60,
   "metadata": {},
   "outputs": [],
   "source": [
    "timepoints = np.linspace(0,100,100)\n",
    "x0_mi = {'protein_atpsyn':10}\n",
    "R_mi = CRN_mi.simulate_with_bioscrape(timepoints, initial_condition_dict = x0_mi)"
   ]
  },
  {
   "cell_type": "code",
   "execution_count": null,
   "metadata": {},
   "outputs": [],
   "source": []
  },
  {
   "cell_type": "code",
   "execution_count": 61,
   "metadata": {},
   "outputs": [
    {
     "data": {
      "text/html": [
       "<div>\n",
       "<style scoped>\n",
       "    .dataframe tbody tr th:only-of-type {\n",
       "        vertical-align: middle;\n",
       "    }\n",
       "\n",
       "    .dataframe tbody tr th {\n",
       "        vertical-align: top;\n",
       "    }\n",
       "\n",
       "    .dataframe thead th {\n",
       "        text-align: right;\n",
       "    }\n",
       "</style>\n",
       "<table border=\"1\" class=\"dataframe\">\n",
       "  <thead>\n",
       "    <tr style=\"text-align: right;\">\n",
       "      <th></th>\n",
       "      <th>protein_atpsyn</th>\n",
       "      <th>protein_atpsyn_b</th>\n",
       "      <th>time</th>\n",
       "    </tr>\n",
       "  </thead>\n",
       "  <tbody>\n",
       "    <tr>\n",
       "      <th>0</th>\n",
       "      <td>1.000000e+01</td>\n",
       "      <td>0.00000</td>\n",
       "      <td>0.000000</td>\n",
       "    </tr>\n",
       "    <tr>\n",
       "      <th>1</th>\n",
       "      <td>4.103804e-04</td>\n",
       "      <td>9.99959</td>\n",
       "      <td>1.010101</td>\n",
       "    </tr>\n",
       "    <tr>\n",
       "      <th>2</th>\n",
       "      <td>1.640311e-08</td>\n",
       "      <td>10.00000</td>\n",
       "      <td>2.020202</td>\n",
       "    </tr>\n",
       "    <tr>\n",
       "      <th>3</th>\n",
       "      <td>-1.911521e-10</td>\n",
       "      <td>10.00000</td>\n",
       "      <td>3.030303</td>\n",
       "    </tr>\n",
       "    <tr>\n",
       "      <th>4</th>\n",
       "      <td>-1.863405e-11</td>\n",
       "      <td>10.00000</td>\n",
       "      <td>4.040404</td>\n",
       "    </tr>\n",
       "    <tr>\n",
       "      <th>...</th>\n",
       "      <td>...</td>\n",
       "      <td>...</td>\n",
       "      <td>...</td>\n",
       "    </tr>\n",
       "    <tr>\n",
       "      <th>95</th>\n",
       "      <td>-1.355891e-19</td>\n",
       "      <td>10.00000</td>\n",
       "      <td>95.959596</td>\n",
       "    </tr>\n",
       "    <tr>\n",
       "      <th>96</th>\n",
       "      <td>-1.351756e-19</td>\n",
       "      <td>10.00000</td>\n",
       "      <td>96.969697</td>\n",
       "    </tr>\n",
       "    <tr>\n",
       "      <th>97</th>\n",
       "      <td>-1.347621e-19</td>\n",
       "      <td>10.00000</td>\n",
       "      <td>97.979798</td>\n",
       "    </tr>\n",
       "    <tr>\n",
       "      <th>98</th>\n",
       "      <td>-1.343487e-19</td>\n",
       "      <td>10.00000</td>\n",
       "      <td>98.989899</td>\n",
       "    </tr>\n",
       "    <tr>\n",
       "      <th>99</th>\n",
       "      <td>-1.339352e-19</td>\n",
       "      <td>10.00000</td>\n",
       "      <td>100.000000</td>\n",
       "    </tr>\n",
       "  </tbody>\n",
       "</table>\n",
       "<p>100 rows × 3 columns</p>\n",
       "</div>"
      ],
      "text/plain": [
       "    protein_atpsyn  protein_atpsyn_b        time\n",
       "0     1.000000e+01           0.00000    0.000000\n",
       "1     4.103804e-04           9.99959    1.010101\n",
       "2     1.640311e-08          10.00000    2.020202\n",
       "3    -1.911521e-10          10.00000    3.030303\n",
       "4    -1.863405e-11          10.00000    4.040404\n",
       "..             ...               ...         ...\n",
       "95   -1.355891e-19          10.00000   95.959596\n",
       "96   -1.351756e-19          10.00000   96.969697\n",
       "97   -1.347621e-19          10.00000   97.979798\n",
       "98   -1.343487e-19          10.00000   98.989899\n",
       "99   -1.339352e-19          10.00000  100.000000\n",
       "\n",
       "[100 rows x 3 columns]"
      ]
     },
     "execution_count": 61,
     "metadata": {},
     "output_type": "execute_result"
    }
   ],
   "source": [
    "R_mi"
   ]
  },
  {
   "cell_type": "code",
   "execution_count": 62,
   "metadata": {},
   "outputs": [
    {
     "data": {
      "text/html": [
       "\n",
       "\n",
       "\n",
       "\n",
       "\n",
       "\n",
       "  <div class=\"bk-root\" id=\"7cf5fe43-404e-43a6-b51a-2963ee787665\" data-root-id=\"2844\"></div>\n"
      ]
     },
     "metadata": {},
     "output_type": "display_data"
    },
    {
     "data": {
      "application/javascript": [
       "(function(root) {\n",
       "  function embed_document(root) {\n",
       "    \n",
       "  var docs_json = {\"4dc3b6d9-9064-4ff9-b54f-0d6e236891c8\":{\"roots\":{\"references\":[{\"attributes\":{\"below\":[{\"id\":\"2855\",\"type\":\"LinearAxis\"}],\"center\":[{\"id\":\"2859\",\"type\":\"Grid\"},{\"id\":\"2864\",\"type\":\"Grid\"},{\"id\":\"2889\",\"type\":\"Legend\"}],\"left\":[{\"id\":\"2860\",\"type\":\"LinearAxis\"}],\"plot_height\":340,\"plot_width\":450,\"renderers\":[{\"id\":\"2881\",\"type\":\"GlyphRenderer\"},{\"id\":\"2894\",\"type\":\"GlyphRenderer\"}],\"title\":{\"id\":\"2845\",\"type\":\"Title\"},\"toolbar\":{\"id\":\"2871\",\"type\":\"Toolbar\"},\"x_range\":{\"id\":\"2847\",\"type\":\"DataRange1d\"},\"x_scale\":{\"id\":\"2851\",\"type\":\"LinearScale\"},\"y_range\":{\"id\":\"2849\",\"type\":\"DataRange1d\"},\"y_scale\":{\"id\":\"2853\",\"type\":\"LinearScale\"}},\"id\":\"2844\",\"subtype\":\"Figure\",\"type\":\"Plot\"},{\"attributes\":{},\"id\":\"2851\",\"type\":\"LinearScale\"},{\"attributes\":{},\"id\":\"2869\",\"type\":\"ResetTool\"},{\"attributes\":{},\"id\":\"2853\",\"type\":\"LinearScale\"},{\"attributes\":{\"line_alpha\":0.1,\"line_color\":\"#1f77b4\",\"line_width\":2,\"x\":{\"field\":\"x\"},\"y\":{\"field\":\"y\"}},\"id\":\"2880\",\"type\":\"Line\"},{\"attributes\":{},\"id\":\"2870\",\"type\":\"HelpTool\"},{\"attributes\":{},\"id\":\"2902\",\"type\":\"UnionRenderers\"},{\"attributes\":{\"axis_label\":\"time (sec)\",\"formatter\":{\"id\":\"2885\",\"type\":\"BasicTickFormatter\"},\"ticker\":{\"id\":\"2856\",\"type\":\"BasicTicker\"}},\"id\":\"2855\",\"type\":\"LinearAxis\"},{\"attributes\":{\"source\":{\"id\":\"2878\",\"type\":\"ColumnDataSource\"}},\"id\":\"2882\",\"type\":\"CDSView\"},{\"attributes\":{\"callback\":null,\"data\":{\"x\":{\"__ndarray__\":\"AAAAAAAAAAB/pUCtXynwP3+lQK1fKQBAPvjggw8+CEB/pUCtXykQQN/OkJi3MxRAPvjggw8+GECeITFvZ0gcQH+lQK1fKSBAL7rooosuIkDfzpCYtzMkQI/jOI7jOCZAPvjggw8+KEDuDIl5O0MqQJ4hMW9nSCxATjbZZJNNLkB/pUCtXykwQNevFKj1KzFAL7rooosuMkCHxLydITEzQN/OkJi3MzRAN9lkk002NUCP4ziO4zg2QOftDIl5OzdAPvjggw8+OECWArV+pUA5QO4MiXk7QzpARhdddNFFO0CeITFvZ0g8QPYrBWr9Sj1ATjbZZJNNPkCmQK1fKVA/QH+lQK1fKUBAq6qqqqqqQEDXrxSo9StBQAO1fqVArUFAL7rooosuQkBbv1Kg1q9CQIfEvJ0hMUNAs8kmm2yyQ0DfzpCYtzNEQAvU+pUCtURAN9lkk002RUBj3s6QmLdFQI/jOI7jOEZAu+iiiy66RkDn7QyJeTtHQBPzdobEvEdAPvjggw8+SEBq/UqBWr9IQJYCtX6lQElAwgcffPDBSUDuDIl5O0NKQBoS83aGxEpARhdddNFFS0ByHMdxHMdLQJ4hMW9nSExAyiabbLLJTED2KwVq/UpNQCIxb2dIzE1ATjbZZJNNTkB6O0Ni3s5OQKZArV8pUE9A0kUXXXTRT0B/pUCtXylQQBWo9SsFalBAq6qqqqqqUEBBrV8pUOtQQNevFKj1K1FAbbLJJptsUUADtX6lQK1RQJm3MyTm7VFAL7rooosuUkDFvJ0hMW9SQFu/UqDWr1JA8cEHH3zwUkCHxLydITFTQB3HcRzHcVNAs8kmm2yyU0BJzNsZEvNTQN/OkJi3M1RAddFFF110VEAL1PqVArVUQKHWrxSo9VRAN9lkk002VUDN2xkS83ZVQGPezpCYt1VA+eCDDz74VUCP4ziO4zhWQCXm7QyJeVZAu+iiiy66VkBR61cK1PpWQOftDIl5O1dAffDBBx98V0AT83aGxLxXQKn1KwVq/VdAPvjggw8+WEDU+pUCtX5YQGr9SoFav1hAAAAAAAAAWUA=\",\"dtype\":\"float64\",\"shape\":[100]},\"y\":{\"__ndarray__\":\"AAAAAAAAAABBPus1yv8jQC0Zc////yNAV6QBAAAAJED4KAAAAAAkQEkbAAAAACRAmg0AAAAAJEBPAQAAAAAkQO0AAAAAACRAiwAAAAAAJEApAAAAAAAkQAgAAAAAACRACAAAAAAAJEAIAAAAAAAkQAgAAAAAACRABwAAAAAAJEAHAAAAAAAkQAcAAAAAACRABwAAAAAAJEAGAAAAAAAkQAYAAAAAACRABgAAAAAAJEAFAAAAAAAkQAUAAAAAACRABQAAAAAAJEAFAAAAAAAkQAQAAAAAACRABAAAAAAAJEAEAAAAAAAkQAMAAAAAACRAAwAAAAAAJEADAAAAAAAkQAMAAAAAACRAAgAAAAAAJEACAAAAAAAkQAIAAAAAACRAAQAAAAAAJEABAAAAAAAkQAEAAAAAACRAAQAAAAAAJEAAAAAAAAAkQAAAAAAAACRAAAAAAAAAJED///////8jQP///////yNA////////I0D///////8jQP///////yNA////////I0D///////8jQP///////yNA////////I0D///////8jQP///////yNA////////I0D///////8jQP///////yNA////////I0D///////8jQP///////yNA////////I0D///////8jQP///////yNA////////I0D///////8jQP///////yNA////////I0D///////8jQP///////yNA////////I0D///////8jQP///////yNA////////I0D///////8jQP///////yNA////////I0D///////8jQP///////yNA////////I0D///////8jQP///////yNA////////I0D///////8jQP///////yNA////////I0D///////8jQP///////yNA////////I0D///////8jQP///////yNA////////I0D///////8jQP///////yNA////////I0D///////8jQP///////yNA////////I0D///////8jQP///////yNA////////I0A=\",\"dtype\":\"float64\",\"shape\":[100]}},\"selected\":{\"id\":\"3018\",\"type\":\"Selection\"},\"selection_policy\":{\"id\":\"3017\",\"type\":\"UnionRenderers\"}},\"id\":\"2891\",\"type\":\"ColumnDataSource\"},{\"attributes\":{\"dimension\":1,\"ticker\":{\"id\":\"2861\",\"type\":\"BasicTicker\"}},\"id\":\"2864\",\"type\":\"Grid\"},{\"attributes\":{\"label\":{\"value\":\"protein_atpsyn_b\"},\"renderers\":[{\"id\":\"2894\",\"type\":\"GlyphRenderer\"}]},\"id\":\"2904\",\"type\":\"LegendItem\"},{\"attributes\":{},\"id\":\"2856\",\"type\":\"BasicTicker\"},{\"attributes\":{\"line_color\":\"#ff7e0e\",\"line_width\":2,\"x\":{\"field\":\"x\"},\"y\":{\"field\":\"y\"}},\"id\":\"2892\",\"type\":\"Line\"},{\"attributes\":{},\"id\":\"3018\",\"type\":\"Selection\"},{\"attributes\":{},\"id\":\"2885\",\"type\":\"BasicTickFormatter\"},{\"attributes\":{\"ticker\":{\"id\":\"2856\",\"type\":\"BasicTicker\"}},\"id\":\"2859\",\"type\":\"Grid\"},{\"attributes\":{\"line_alpha\":0.1,\"line_color\":\"#1f77b4\",\"line_width\":2,\"x\":{\"field\":\"x\"},\"y\":{\"field\":\"y\"}},\"id\":\"2893\",\"type\":\"Line\"},{\"attributes\":{},\"id\":\"2861\",\"type\":\"BasicTicker\"},{\"attributes\":{},\"id\":\"3017\",\"type\":\"UnionRenderers\"},{\"attributes\":{\"axis_label\":\"concentration\",\"formatter\":{\"id\":\"2887\",\"type\":\"BasicTickFormatter\"},\"ticker\":{\"id\":\"2861\",\"type\":\"BasicTicker\"}},\"id\":\"2860\",\"type\":\"LinearAxis\"},{\"attributes\":{\"callback\":null,\"data\":{\"x\":{\"__ndarray__\":\"AAAAAAAAAAB/pUCtXynwP3+lQK1fKQBAPvjggw8+CEB/pUCtXykQQN/OkJi3MxRAPvjggw8+GECeITFvZ0gcQH+lQK1fKSBAL7rooosuIkDfzpCYtzMkQI/jOI7jOCZAPvjggw8+KEDuDIl5O0MqQJ4hMW9nSCxATjbZZJNNLkB/pUCtXykwQNevFKj1KzFAL7rooosuMkCHxLydITEzQN/OkJi3MzRAN9lkk002NUCP4ziO4zg2QOftDIl5OzdAPvjggw8+OECWArV+pUA5QO4MiXk7QzpARhdddNFFO0CeITFvZ0g8QPYrBWr9Sj1ATjbZZJNNPkCmQK1fKVA/QH+lQK1fKUBAq6qqqqqqQEDXrxSo9StBQAO1fqVArUFAL7rooosuQkBbv1Kg1q9CQIfEvJ0hMUNAs8kmm2yyQ0DfzpCYtzNEQAvU+pUCtURAN9lkk002RUBj3s6QmLdFQI/jOI7jOEZAu+iiiy66RkDn7QyJeTtHQBPzdobEvEdAPvjggw8+SEBq/UqBWr9IQJYCtX6lQElAwgcffPDBSUDuDIl5O0NKQBoS83aGxEpARhdddNFFS0ByHMdxHMdLQJ4hMW9nSExAyiabbLLJTED2KwVq/UpNQCIxb2dIzE1ATjbZZJNNTkB6O0Ni3s5OQKZArV8pUE9A0kUXXXTRT0B/pUCtXylQQBWo9SsFalBAq6qqqqqqUEBBrV8pUOtQQNevFKj1K1FAbbLJJptsUUADtX6lQK1RQJm3MyTm7VFAL7rooosuUkDFvJ0hMW9SQFu/UqDWr1JA8cEHH3zwUkCHxLydITFTQB3HcRzHcVNAs8kmm2yyU0BJzNsZEvNTQN/OkJi3M1RAddFFF110VEAL1PqVArVUQKHWrxSo9VRAN9lkk002VUDN2xkS83ZVQGPezpCYt1VA+eCDDz74VUCP4ziO4zhWQCXm7QyJeVZAu+iiiy66VkBR61cK1PpWQOftDIl5O1dAffDBBx98V0AT83aGxLxXQKn1KwVq/VdAPvjggw8+WEDU+pUCtX5YQGr9SoFav1hAAAAAAAAAWUA=\",\"dtype\":\"float64\",\"shape\":[100]},\"y\":{\"__ndarray__\":\"AAAAAAAAJECbJdxgCuU6P2/7RgnanFE+4Lno+JBF6r0BZEK+BH20vas7VJ62Squ9rF5HgMc2m71hgXXU9whlvR9aE7C1z129fbE7t3uNUb1nI5D5Bi01vbW7+tS6ChO9sK9/wIl6Er2powSsWOoRvaOXiZcnWhG9nYsOg/bJEL2Wf5NuxTkQvSDnMLQoUw+9Fc86i8YyDr0It0RiZBINvfueTjkC8gu974ZYEKDRCr3jbmLnPbEJvddWbL7bkAi9yz52lXlwB72+JoBsF1AGvbMOikO1LwW9pvaTGlMPBL2a3p3x8O4CvY7Gp8iOzgG9ga6xnyyuAL3qLHftlBv/vND8ipvQ2vy8uMyeSQya+ryfnLL3R1n4vIdsxqWDGPa8bTzaU7/X87xVDO4B+5bxvHm4A2BtrO68R1grvOQq6rwW+FIYXKnlvOWXenTTJ+G8Zm9EoZVM2bwDr5NZhEnQvIK6i0fMGb28nKrzg49NjLxTZVlUmHmLvAsgvyShpYq8xNok9anRibx8lYrFsv2IvDRQ8JW7KYi86wpWZsRVh7yjxbs2zYGGvFuAIQfWrYW8EzuH197ZhLzK9eyn5wWEvIKwUnjwMYO8Omu4SPldgrzyJR4ZAoqBvKrgg+kKtoC8xDbTcyfEf7wzrJ4UORx+vKMharVKdHy8E5c1VlzMeryCDAH3bSR5vPKBzJd/fHe8YfeXOJHUdbzRbGPZoix0vEDiLnq0hHK8r1f6GsbccLw/mot3r2luvB6FIrnSGWu8/m+5+vXJZ7zdWlA8GXpkvLtF5308KmG8NWH8fr+0W7zzNioCBhVVvGQZsAqZ6ky8wYkXIkxWP7zqgju7mF0TvF/2ewi37AS87v0vPBjdBLx9BeRvec0EvA0NmKPavQS8nBRM1zuuBLwrHAALnZ4EvLojtD7+jgS8Sytocl9/BLzaMhymwG8EvGk60NkhYAS8+EGEDYNQBLyISThB5EAEvBdR7HRFMQS8pligqKYhBLw1YFTcBxIEvMZnCBBpAgS8VW+8Q8ryA7zkdnB3K+MDvHN+JKuM0wO8A4bY3u3DA7w=\",\"dtype\":\"float64\",\"shape\":[100]}},\"selected\":{\"id\":\"2903\",\"type\":\"Selection\"},\"selection_policy\":{\"id\":\"2902\",\"type\":\"UnionRenderers\"}},\"id\":\"2878\",\"type\":\"ColumnDataSource\"},{\"attributes\":{},\"id\":\"2887\",\"type\":\"BasicTickFormatter\"},{\"attributes\":{\"source\":{\"id\":\"2891\",\"type\":\"ColumnDataSource\"}},\"id\":\"2895\",\"type\":\"CDSView\"},{\"attributes\":{\"bottom_units\":\"screen\",\"fill_alpha\":{\"value\":0.5},\"fill_color\":{\"value\":\"lightgrey\"},\"left_units\":\"screen\",\"level\":\"overlay\",\"line_alpha\":{\"value\":1.0},\"line_color\":{\"value\":\"black\"},\"line_dash\":[4,4],\"line_width\":{\"value\":2},\"render_mode\":\"css\",\"right_units\":\"screen\",\"top_units\":\"screen\"},\"id\":\"2888\",\"type\":\"BoxAnnotation\"},{\"attributes\":{\"items\":[{\"id\":\"2890\",\"type\":\"LegendItem\"},{\"id\":\"2904\",\"type\":\"LegendItem\"}],\"location\":\"center_right\"},\"id\":\"2889\",\"type\":\"Legend\"},{\"attributes\":{\"active_drag\":\"auto\",\"active_inspect\":\"auto\",\"active_multi\":null,\"active_scroll\":\"auto\",\"active_tap\":\"auto\",\"tools\":[{\"id\":\"2865\",\"type\":\"PanTool\"},{\"id\":\"2866\",\"type\":\"WheelZoomTool\"},{\"id\":\"2867\",\"type\":\"BoxZoomTool\"},{\"id\":\"2868\",\"type\":\"SaveTool\"},{\"id\":\"2869\",\"type\":\"ResetTool\"},{\"id\":\"2870\",\"type\":\"HelpTool\"}]},\"id\":\"2871\",\"type\":\"Toolbar\"},{\"attributes\":{\"line_color\":\"#1f77b3\",\"line_width\":2,\"x\":{\"field\":\"x\"},\"y\":{\"field\":\"y\"}},\"id\":\"2879\",\"type\":\"Line\"},{\"attributes\":{},\"id\":\"2903\",\"type\":\"Selection\"},{\"attributes\":{\"data_source\":{\"id\":\"2878\",\"type\":\"ColumnDataSource\"},\"glyph\":{\"id\":\"2879\",\"type\":\"Line\"},\"hover_glyph\":null,\"muted_glyph\":null,\"nonselection_glyph\":{\"id\":\"2880\",\"type\":\"Line\"},\"selection_glyph\":null,\"view\":{\"id\":\"2882\",\"type\":\"CDSView\"}},\"id\":\"2881\",\"type\":\"GlyphRenderer\"},{\"attributes\":{},\"id\":\"2865\",\"type\":\"PanTool\"},{\"attributes\":{\"text\":\"ATP synthase membrane integration\"},\"id\":\"2845\",\"type\":\"Title\"},{\"attributes\":{},\"id\":\"2866\",\"type\":\"WheelZoomTool\"},{\"attributes\":{\"callback\":null},\"id\":\"2847\",\"type\":\"DataRange1d\"},{\"attributes\":{\"data_source\":{\"id\":\"2891\",\"type\":\"ColumnDataSource\"},\"glyph\":{\"id\":\"2892\",\"type\":\"Line\"},\"hover_glyph\":null,\"muted_glyph\":null,\"nonselection_glyph\":{\"id\":\"2893\",\"type\":\"Line\"},\"selection_glyph\":null,\"view\":{\"id\":\"2895\",\"type\":\"CDSView\"}},\"id\":\"2894\",\"type\":\"GlyphRenderer\"},{\"attributes\":{\"overlay\":{\"id\":\"2888\",\"type\":\"BoxAnnotation\"}},\"id\":\"2867\",\"type\":\"BoxZoomTool\"},{\"attributes\":{\"label\":{\"value\":\"protein_atpsyn\"},\"renderers\":[{\"id\":\"2881\",\"type\":\"GlyphRenderer\"}]},\"id\":\"2890\",\"type\":\"LegendItem\"},{\"attributes\":{\"callback\":null},\"id\":\"2849\",\"type\":\"DataRange1d\"},{\"attributes\":{},\"id\":\"2868\",\"type\":\"SaveTool\"}],\"root_ids\":[\"2844\"]},\"title\":\"Bokeh Application\",\"version\":\"1.4.0\"}};\n",
       "  var render_items = [{\"docid\":\"4dc3b6d9-9064-4ff9-b54f-0d6e236891c8\",\"roots\":{\"2844\":\"7cf5fe43-404e-43a6-b51a-2963ee787665\"}}];\n",
       "  root.Bokeh.embed.embed_items_notebook(docs_json, render_items);\n",
       "\n",
       "  }\n",
       "  if (root.Bokeh !== undefined) {\n",
       "    embed_document(root);\n",
       "  } else {\n",
       "    var attempts = 0;\n",
       "    var timer = setInterval(function(root) {\n",
       "      if (root.Bokeh !== undefined) {\n",
       "        clearInterval(timer);\n",
       "        embed_document(root);\n",
       "      } else {\n",
       "        attempts++;\n",
       "        if (attempts > 100) {\n",
       "          clearInterval(timer);\n",
       "          console.log(\"Bokeh: ERROR: Unable to run BokehJS code because BokehJS library is missing\");\n",
       "        }\n",
       "      }\n",
       "    }, 10, root)\n",
       "  }\n",
       "})(window);"
      ],
      "application/vnd.bokehjs_exec.v0+json": ""
     },
     "metadata": {
      "application/vnd.bokehjs_exec.v0+json": {
       "id": "2844"
      }
     },
     "output_type": "display_data"
    }
   ],
   "source": [
    "p_mi = bokeh.plotting.figure(width = 450, height = 340, \n",
    "                         x_axis_label = 'time (sec)', y_axis_label = 'concentration',\n",
    "                         title = 'ATP synthase membrane integration')\n",
    "plot_list = ['protein_atpsyn', 'protein_atpsyn_b']\n",
    "for i,item in enumerate(plot_list):\n",
    "    p_mi.line(timepoints, R_mi[item], legend_label = item, color = palette[i], line_width = 2)\n",
    "    \n",
    "p_mi.legend.location = 'center_right'\n",
    "bokeh.io.show(p_mi)"
   ]
  },
  {
   "cell_type": "markdown",
   "metadata": {},
   "source": [
    "## SBML for ATP Synthesis via ATP synthase membrane protein\n",
    "---"
   ]
  },
  {
   "cell_type": "code",
   "execution_count": 79,
   "metadata": {},
   "outputs": [
    {
     "name": "stdout",
     "output_type": "stream",
     "text": [
      "Species (6) = {0. proton[outside_H], 1. proton[inside_H], 2. protein[atpsyn_b], 3. metabolite[adp], 4. metabolite[atp], 5. metabolite[pi]}\n",
      "Reactions (2) = [\n",
      "0. metabolite[adp] + metabolite[pi] + protein[atpsyn_b] --> metabolite[atp] + protein[atpsyn_b]        \n",
      "        massaction: k_f(metabolite[adp],metabolite[pi],protein[atpsyn_b])=2*metabolite[adp]*metabolite[pi]*protein[atpsyn_b]\n",
      "1. 4 proton[outside_H] --> 4 proton[inside_H]        \n",
      "        massaction: k_f(proton[outside_H])=2*proton[outside_H]^4\n",
      "]\n"
     ]
    }
   ],
   "source": [
    "outside_H = Species(\"outside_H\", material_type = \"proton\")\n",
    "\n",
    "inside_H = Species(\"inside_H\", material_type = \"proton\")\n",
    "\n",
    "atpsyn_b = Species(\"atpsyn_b\", material_type = \"protein\")\n",
    "\n",
    "adp = Species('adp', material_type = 'metabolite')\n",
    "atp = Species('atp', material_type = 'metabolite')\n",
    "pi = Species('pi', material_type = 'metabolite')\n",
    "\n",
    "\n",
    "k_atp_synthesis = 2\n",
    "\n",
    "R1 = Reaction([adp,pi, atpsyn_b], [atp, atpsyn_b], k_atp_synthesis)\n",
    "\n",
    "R2 = Reaction([outside_H, outside_H, outside_H, outside_H], \n",
    "             [inside_H, inside_H, inside_H, inside_H], k_atp_synthesis)\n",
    "\n",
    "CRN_atpsynthesis = ChemicalReactionNetwork(species = [outside_H, inside_H, atpsyn_b, adp, atp, pi], reactions = [R1,R2])\n",
    "\n",
    "print(CRN_atpsynthesis.pretty_print(show_materials = True, show_rates = True, show_attributes = True))"
   ]
  },
  {
   "cell_type": "code",
   "execution_count": 80,
   "metadata": {},
   "outputs": [
    {
     "data": {
      "text/plain": [
       "True"
      ]
     },
     "execution_count": 80,
     "metadata": {},
     "output_type": "execute_result"
    }
   ],
   "source": [
    "# Write SBML file\n",
    "CRN_atpsynthesis.write_sbml_file('atp_synthesis_through_atpsynthase.xml')"
   ]
  },
  {
   "cell_type": "code",
   "execution_count": 60,
   "metadata": {},
   "outputs": [],
   "source": [
    "timepoints = np.linspace(0,2,100)\n",
    "x0_atpsynthesis = {'proton_outside_H':10, 'metabolite_adp':10, 'metabolite_pi':10}\n",
    "R_atpsynthesis = CRN_atpsynthesis.simulate_with_bioscrape(timepoints, initial_condition_dict = x0_atpsynthesis)"
   ]
  },
  {
   "cell_type": "code",
   "execution_count": 61,
   "metadata": {},
   "outputs": [
    {
     "data": {
      "text/html": [
       "\n",
       "\n",
       "\n",
       "\n",
       "\n",
       "\n",
       "  <div class=\"bk-root\" id=\"e5b5bbb9-18fa-4c67-9243-451f920955ff\" data-root-id=\"3482\"></div>\n"
      ]
     },
     "metadata": {},
     "output_type": "display_data"
    },
    {
     "data": {
      "application/javascript": [
       "(function(root) {\n",
       "  function embed_document(root) {\n",
       "    \n",
       "  var docs_json = {\"bd0bdf0a-5c3c-4c82-8ebe-b2bf07be1a74\":{\"roots\":{\"references\":[{\"attributes\":{\"below\":[{\"id\":\"3493\",\"type\":\"LinearAxis\"}],\"center\":[{\"id\":\"3497\",\"type\":\"Grid\"},{\"id\":\"3502\",\"type\":\"Grid\"},{\"id\":\"3527\",\"type\":\"Legend\"}],\"left\":[{\"id\":\"3498\",\"type\":\"LinearAxis\"}],\"plot_height\":340,\"plot_width\":450,\"renderers\":[{\"id\":\"3519\",\"type\":\"GlyphRenderer\"},{\"id\":\"3532\",\"type\":\"GlyphRenderer\"},{\"id\":\"3546\",\"type\":\"GlyphRenderer\"}],\"title\":{\"id\":\"3483\",\"type\":\"Title\"},\"toolbar\":{\"id\":\"3509\",\"type\":\"Toolbar\"},\"x_range\":{\"id\":\"3485\",\"type\":\"DataRange1d\"},\"x_scale\":{\"id\":\"3489\",\"type\":\"LinearScale\"},\"y_range\":{\"id\":\"3487\",\"type\":\"DataRange1d\"},\"y_scale\":{\"id\":\"3491\",\"type\":\"LinearScale\"}},\"id\":\"3482\",\"subtype\":\"Figure\",\"type\":\"Plot\"},{\"attributes\":{\"source\":{\"id\":\"3529\",\"type\":\"ColumnDataSource\"}},\"id\":\"3533\",\"type\":\"CDSView\"},{\"attributes\":{},\"id\":\"3506\",\"type\":\"SaveTool\"},{\"attributes\":{},\"id\":\"3494\",\"type\":\"BasicTicker\"},{\"attributes\":{\"axis_label\":\"time (sec)\",\"formatter\":{\"id\":\"3522\",\"type\":\"BasicTickFormatter\"},\"ticker\":{\"id\":\"3494\",\"type\":\"BasicTicker\"}},\"id\":\"3493\",\"type\":\"LinearAxis\"},{\"attributes\":{},\"id\":\"3522\",\"type\":\"BasicTickFormatter\"},{\"attributes\":{\"line_alpha\":0.1,\"line_color\":\"#1f77b4\",\"line_width\":2,\"x\":{\"field\":\"x\"},\"y\":{\"field\":\"y\"}},\"id\":\"3518\",\"type\":\"Line\"},{\"attributes\":{},\"id\":\"3508\",\"type\":\"HelpTool\"},{\"attributes\":{\"callback\":null},\"id\":\"3485\",\"type\":\"DataRange1d\"},{\"attributes\":{\"axis_label\":\"concentration\",\"formatter\":{\"id\":\"3524\",\"type\":\"BasicTickFormatter\"},\"ticker\":{\"id\":\"3499\",\"type\":\"BasicTicker\"}},\"id\":\"3498\",\"type\":\"LinearAxis\"},{\"attributes\":{\"callback\":null,\"data\":{\"x\":{\"__ndarray__\":\"AAAAAAAAAABbv1Kg1q+UP1u/UqDWr6Q/CB988MEHrz9bv1Kg1q+0PzJvZ0jM27k/CB988MEHvz9wZ0jM2xnCP1u/UqDWr8Q/RhdddNFFxz8yb2dIzNvJPx3HcRzHccw/CB988MEHzz96O0Ni3s7QP3BnSMzbGdI/ZZNNNtlk0z9bv1Kg1q/UP1HrVwrU+tU/RhdddNFF1z88Q2LezpDYPzJvZ0jM29k/J5tssskm2z8dx3Ecx3HcPxPzdobEvN0/CB988MEH3z9/pUCtXyngP3o7Q2LezuA/ddFFF1104T9wZ0jM2xniP2r9SoFav+I/ZZNNNtlk4z9gKVDrVwrkP1u/UqDWr+Q/VlVVVVVV5T9R61cK1PrlP0yBWr9SoOY/RhdddNFF5z9BrV8pUOvnPzxDYt7OkOg/N9lkk0026T8yb2dIzNvpPy0Fav1Kgeo/J5tssskm6z8iMW9nSMzrPx3HcRzHcew/GF100UUX7T8T83aGxLztPw6JeTtDYu4/CB988MEH7z8DtX6lQK3vP3+lQK1fKfA/ffDBBx988D96O0Ni3s7wP3eGxLydIfE/ddFFF1108T9yHMdxHMfxP3BnSMzbGfI/bbLJJpts8j9q/UqBWr/yP2hIzNsZEvM/ZZNNNtlk8z9j3s6QmLfzP2ApUOtXCvQ/XnTRRRdd9D9bv1Kg1q/0P1gK1PqVAvU/VlVVVVVV9T9ToNavFKj1P1HrVwrU+vU/TjbZZJNN9j9MgVq/UqD2P0nM2xkS8/Y/RhdddNFF9z9EYt7OkJj3P0GtXylQ6/c/P/jggw8++D88Q2LezpD4PzmO4ziO4/g/N9lkk002+T80JObtDIn5PzJvZ0jM2/k/L7rooosu+j8tBWr9SoH6PypQ61cK1Po/J5tssskm+z8l5u0MiXn7PyIxb2dIzPs/IHzwwQcf/D8dx3Ecx3H8PxsS83aGxPw/GF100UUX/T8VqPUrBWr9PxPzdobEvP0/ED744IMP/j8OiXk7Q2L+PwvU+pUCtf4/CB988MEH/z8Gav1KgVr/PwO1fqVArf8/AAAAAAAAAEA=\",\"dtype\":\"float64\",\"shape\":[100]},\"y\":{\"__ndarray__\":\"AAAAAAAAAAC1PSoXjuD3Pwm34q91GAZAufhVWZy8DkAGPHuVUQsTQLgDLAXnKxZAQJpsYQPVGECKIz3yehgbQEUlPdx4BR1A0A2DxuSoHkAHkJOq3AYgQOWKAt6mniBAhXleK8ofIUBAnbP0p40hQC1ebHcg6yFAIuEHEqY6IkAsCIypTX4iQF6EkpzctyJAVvZqodToIkCCTNrefRIjQFgZIIPvNSNAWfzOEhdUI0Ac03igvm0jQBgy0BaSgyNAqXG2uCOWI0Af4Fz176UjQOUAIqpgsyNAaT/+58++I0CUihVPisgjQIi9JRDR0CNA/PlxodvXI0Bmlmgy2d0jQPga0ufx4iNA7p3V6EfnI0CQjtlD+OojQKRONLEb7iNAMDXaOMfwI0BD8km/DPMjQB2vcn379CNAZsy2ZqD2I0CHxrZ/BvgjQEC/Iyg3+SNAduWTWTr6I0B1vPDcFvsjQLJj73fS+yNANjO+E3L8I0BhWvLd+fwjQJ2lgmRt/SNAIjWYrc/9I0AECNVLI/4jQPZ2kW9q/iNATF6G9ab+I0Dko0hz2v4jQFgV5kEG/yNAQU/uhiv/I0A85iE8S/8jQIoO+jVm/yNApjVBKX3/I0AHjMGvkP8jQM9OVUyh/yNAihFHbq//I0BznU50u/8jQMUK/67F/yNA+xnjYs7/I0DHWU7K1f8jQJsa3hbc/yNADzDIcuH/I0CjvvYB5v8jQKeb9uLp/yNA/rLFL+3/I0Dpp4L+7/8jQKN2/WHy/yNA6Bg3avT/I0A4hs4k9v8jQB9yWZ33/yNAnwKz3fj/I0A+OT7u+f8jQEx3Htb6/yNAteNkm/v/I0C6wjZD/P8jQN0I/NH8/yNAMrtzS/3/I0CDTMqy/f8jQHwKuQr+/yNA3pGHVf7/I0CGOS2V/v8jQFOhUcv+/yNAkN1i+f7/I0C8LpMg//8jQOpl60H//yNALLJIXv//I0A7cWt2//8jQEV+84r//yNA3qprnP//I0A3DEir//8jQFTW7Lf//yNAUXeuwv//I0CTJNXL//8jQK9PntP//yNAfeM92v//I0A=\",\"dtype\":\"float64\",\"shape\":[100]}},\"selected\":{\"id\":\"3555\",\"type\":\"Selection\"},\"selection_policy\":{\"id\":\"3556\",\"type\":\"UnionRenderers\"}},\"id\":\"3529\",\"type\":\"ColumnDataSource\"},{\"attributes\":{\"bottom_units\":\"screen\",\"fill_alpha\":{\"value\":0.5},\"fill_color\":{\"value\":\"lightgrey\"},\"left_units\":\"screen\",\"level\":\"overlay\",\"line_alpha\":{\"value\":1.0},\"line_color\":{\"value\":\"black\"},\"line_dash\":[4,4],\"line_width\":{\"value\":2},\"render_mode\":\"css\",\"right_units\":\"screen\",\"top_units\":\"screen\"},\"id\":\"3526\",\"type\":\"BoxAnnotation\"},{\"attributes\":{\"ticker\":{\"id\":\"3494\",\"type\":\"BasicTicker\"}},\"id\":\"3497\",\"type\":\"Grid\"},{\"attributes\":{\"line_color\":\"#ff7e0e\",\"line_width\":2,\"x\":{\"field\":\"x\"},\"y\":{\"field\":\"y\"}},\"id\":\"3530\",\"type\":\"Line\"},{\"attributes\":{},\"id\":\"3524\",\"type\":\"BasicTickFormatter\"},{\"attributes\":{\"source\":{\"id\":\"3543\",\"type\":\"ColumnDataSource\"}},\"id\":\"3547\",\"type\":\"CDSView\"},{\"attributes\":{},\"id\":\"3499\",\"type\":\"BasicTicker\"},{\"attributes\":{\"line_alpha\":0.1,\"line_color\":\"#1f77b4\",\"line_width\":2,\"x\":{\"field\":\"x\"},\"y\":{\"field\":\"y\"}},\"id\":\"3531\",\"type\":\"Line\"},{\"attributes\":{\"label\":{\"value\":\"proton_outside_H\"},\"renderers\":[{\"id\":\"3519\",\"type\":\"GlyphRenderer\"}]},\"id\":\"3528\",\"type\":\"LegendItem\"},{\"attributes\":{},\"id\":\"3491\",\"type\":\"LinearScale\"},{\"attributes\":{},\"id\":\"3693\",\"type\":\"UnionRenderers\"},{\"attributes\":{\"data_source\":{\"id\":\"3543\",\"type\":\"ColumnDataSource\"},\"glyph\":{\"id\":\"3544\",\"type\":\"Line\"},\"hover_glyph\":null,\"muted_glyph\":null,\"nonselection_glyph\":{\"id\":\"3545\",\"type\":\"Line\"},\"selection_glyph\":null,\"view\":{\"id\":\"3547\",\"type\":\"CDSView\"}},\"id\":\"3546\",\"type\":\"GlyphRenderer\"},{\"attributes\":{\"dimension\":1,\"ticker\":{\"id\":\"3499\",\"type\":\"BasicTicker\"}},\"id\":\"3502\",\"type\":\"Grid\"},{\"attributes\":{\"callback\":null,\"data\":{\"x\":{\"__ndarray__\":\"AAAAAAAAAABbv1Kg1q+UP1u/UqDWr6Q/CB988MEHrz9bv1Kg1q+0PzJvZ0jM27k/CB988MEHvz9wZ0jM2xnCP1u/UqDWr8Q/RhdddNFFxz8yb2dIzNvJPx3HcRzHccw/CB988MEHzz96O0Ni3s7QP3BnSMzbGdI/ZZNNNtlk0z9bv1Kg1q/UP1HrVwrU+tU/RhdddNFF1z88Q2LezpDYPzJvZ0jM29k/J5tssskm2z8dx3Ecx3HcPxPzdobEvN0/CB988MEH3z9/pUCtXyngP3o7Q2LezuA/ddFFF1104T9wZ0jM2xniP2r9SoFav+I/ZZNNNtlk4z9gKVDrVwrkP1u/UqDWr+Q/VlVVVVVV5T9R61cK1PrlP0yBWr9SoOY/RhdddNFF5z9BrV8pUOvnPzxDYt7OkOg/N9lkk0026T8yb2dIzNvpPy0Fav1Kgeo/J5tssskm6z8iMW9nSMzrPx3HcRzHcew/GF100UUX7T8T83aGxLztPw6JeTtDYu4/CB988MEH7z8DtX6lQK3vP3+lQK1fKfA/ffDBBx988D96O0Ni3s7wP3eGxLydIfE/ddFFF1108T9yHMdxHMfxP3BnSMzbGfI/bbLJJpts8j9q/UqBWr/yP2hIzNsZEvM/ZZNNNtlk8z9j3s6QmLfzP2ApUOtXCvQ/XnTRRRdd9D9bv1Kg1q/0P1gK1PqVAvU/VlVVVVVV9T9ToNavFKj1P1HrVwrU+vU/TjbZZJNN9j9MgVq/UqD2P0nM2xkS8/Y/RhdddNFF9z9EYt7OkJj3P0GtXylQ6/c/P/jggw8++D88Q2LezpD4PzmO4ziO4/g/N9lkk002+T80JObtDIn5PzJvZ0jM2/k/L7rooosu+j8tBWr9SoH6PypQ61cK1Po/J5tssskm+z8l5u0MiXn7PyIxb2dIzPs/IHzwwQcf/D8dx3Ecx3H8PxsS83aGxPw/GF100UUX/T8VqPUrBWr9PxPzdobEvP0/ED744IMP/j8OiXk7Q2L+PwvU+pUCtf4/CB988MEH/z8Gav1KgVr/PwO1fqVArf8/AAAAAAAAAEA=\",\"dtype\":\"float64\",\"shape\":[100]},\"y\":{\"__ndarray__\":\"AAAAAAAAJEBNuBo97gMhQICkDijF8xxAqANV07GhGED+w4RqrvQUQEz80/oY1BFAissmPflVDkD2uIUbCs8JQIG1hUcO9QVAaOT5cjauAkDYf2OrGsn/P+ao6w/JCvs/7zMMpa4B9z8cFmNawJLzP7wOnUT8pvA/Le6B355V7D+IfT9nJRvoP2u61zY2guQ/35pQ6bVy4T81cLYkRLDdP4zV/JsPQtk/bXUgph191T/4nOXwK0jSP9F680t6G88/o5Zj0hF3yj/++MeoAoTGP4DHf3fVJ8M/UCZwAAZMwD86tzp12Lq7P2k9Ie13l7c/mgMDRy8StD8Rz7TLZhOxP5wL5S0YDq0/MhViKhe4qD+sc3EmvAelP/tesctO5KE/1aWVS45xnj9VgRtsgeaZP7jOoRoFCZY/4DpnkjK/kj9s8+UkAeaPP6oQA3FfI4s/gjRqsJkWhz+ANw49jKSDPxpCcUIgtoA//GNmDmJvfD9LEC1tEDF4P0su0+rblHQ/jwtXPpOCcT/O+X+vQsttP+zRkOgGWWk/tXobmqeQZT+Q78F1y1hiP3V2VT3DN18/zWcYNiKPWj/UHjnDe5hWP3hAL75AOVM/IdBL2ddaUD+ILf+cD9RLPyUVTazqrEc/X56eO24kRD8CQKRY7CJBP32Mn3qAKD0/bLAEc47OOD+1DB/T2Bo1P3smtfKQ9DE/y+D1zzeNLj9Gb2FBCf4pP7fOXGQJHSY/6/EFTTrQIj817xpYfQEgP+6twRIFPBs/CPo1zpErFz8gS5jzYrYTP6H3yRtNxRA/F2yS9TOJDD/GRhobB0cIPzU53yKGpwQ/YXc+cWySAT9zcE7qSeb9PuH1OrkfcPk+q+SPJmKk9T7CSwicrWnyPrpKh1hvVO8+nqxf4oan6j4cFtpnLK3mPqp1EOvlSuM+RixFJ9Jp4D47/Qkpmu3bPkJXNkOTwtc+LRH+uuk21D5HCiTZkTLRPsHvyW8gQ80+JjCUSRXlyD4Z2V3z/C3FPqLvDmzKBMI+PRXBWcSovj52HOK4bRW6PolGkCrYMLY+CJabQw7hsj4=\",\"dtype\":\"float64\",\"shape\":[100]}},\"selected\":{\"id\":\"3539\",\"type\":\"Selection\"},\"selection_policy\":{\"id\":\"3540\",\"type\":\"UnionRenderers\"}},\"id\":\"3516\",\"type\":\"ColumnDataSource\"},{\"attributes\":{\"label\":{\"value\":\"metabolite_atp\"},\"renderers\":[{\"id\":\"3546\",\"type\":\"GlyphRenderer\"}]},\"id\":\"3558\",\"type\":\"LegendItem\"},{\"attributes\":{\"items\":[{\"id\":\"3528\",\"type\":\"LegendItem\"},{\"id\":\"3542\",\"type\":\"LegendItem\"},{\"id\":\"3558\",\"type\":\"LegendItem\"}],\"location\":\"center_right\"},\"id\":\"3527\",\"type\":\"Legend\"},{\"attributes\":{\"line_alpha\":0.1,\"line_color\":\"#1f77b4\",\"line_width\":2,\"x\":{\"field\":\"x\"},\"y\":{\"field\":\"y\"}},\"id\":\"3545\",\"type\":\"Line\"},{\"attributes\":{},\"id\":\"3556\",\"type\":\"UnionRenderers\"},{\"attributes\":{\"line_color\":\"#1f77b3\",\"line_width\":2,\"x\":{\"field\":\"x\"},\"y\":{\"field\":\"y\"}},\"id\":\"3517\",\"type\":\"Line\"},{\"attributes\":{\"text\":\"ATP synthesis through ATP synthase\"},\"id\":\"3483\",\"type\":\"Title\"},{\"attributes\":{\"active_drag\":\"auto\",\"active_inspect\":\"auto\",\"active_multi\":null,\"active_scroll\":\"auto\",\"active_tap\":\"auto\",\"tools\":[{\"id\":\"3503\",\"type\":\"PanTool\"},{\"id\":\"3504\",\"type\":\"WheelZoomTool\"},{\"id\":\"3505\",\"type\":\"BoxZoomTool\"},{\"id\":\"3506\",\"type\":\"SaveTool\"},{\"id\":\"3507\",\"type\":\"ResetTool\"},{\"id\":\"3508\",\"type\":\"HelpTool\"}]},\"id\":\"3509\",\"type\":\"Toolbar\"},{\"attributes\":{\"data_source\":{\"id\":\"3516\",\"type\":\"ColumnDataSource\"},\"glyph\":{\"id\":\"3517\",\"type\":\"Line\"},\"hover_glyph\":null,\"muted_glyph\":null,\"nonselection_glyph\":{\"id\":\"3518\",\"type\":\"Line\"},\"selection_glyph\":null,\"view\":{\"id\":\"3520\",\"type\":\"CDSView\"}},\"id\":\"3519\",\"type\":\"GlyphRenderer\"},{\"attributes\":{\"data_source\":{\"id\":\"3529\",\"type\":\"ColumnDataSource\"},\"glyph\":{\"id\":\"3530\",\"type\":\"Line\"},\"hover_glyph\":null,\"muted_glyph\":null,\"nonselection_glyph\":{\"id\":\"3531\",\"type\":\"Line\"},\"selection_glyph\":null,\"view\":{\"id\":\"3533\",\"type\":\"CDSView\"}},\"id\":\"3532\",\"type\":\"GlyphRenderer\"},{\"attributes\":{\"source\":{\"id\":\"3516\",\"type\":\"ColumnDataSource\"}},\"id\":\"3520\",\"type\":\"CDSView\"},{\"attributes\":{\"callback\":null,\"data\":{\"x\":{\"__ndarray__\":\"AAAAAAAAAABbv1Kg1q+UP1u/UqDWr6Q/CB988MEHrz9bv1Kg1q+0PzJvZ0jM27k/CB988MEHvz9wZ0jM2xnCP1u/UqDWr8Q/RhdddNFFxz8yb2dIzNvJPx3HcRzHccw/CB988MEHzz96O0Ni3s7QP3BnSMzbGdI/ZZNNNtlk0z9bv1Kg1q/UP1HrVwrU+tU/RhdddNFF1z88Q2LezpDYPzJvZ0jM29k/J5tssskm2z8dx3Ecx3HcPxPzdobEvN0/CB988MEH3z9/pUCtXyngP3o7Q2LezuA/ddFFF1104T9wZ0jM2xniP2r9SoFav+I/ZZNNNtlk4z9gKVDrVwrkP1u/UqDWr+Q/VlVVVVVV5T9R61cK1PrlP0yBWr9SoOY/RhdddNFF5z9BrV8pUOvnPzxDYt7OkOg/N9lkk0026T8yb2dIzNvpPy0Fav1Kgeo/J5tssskm6z8iMW9nSMzrPx3HcRzHcew/GF100UUX7T8T83aGxLztPw6JeTtDYu4/CB988MEH7z8DtX6lQK3vP3+lQK1fKfA/ffDBBx988D96O0Ni3s7wP3eGxLydIfE/ddFFF1108T9yHMdxHMfxP3BnSMzbGfI/bbLJJpts8j9q/UqBWr/yP2hIzNsZEvM/ZZNNNtlk8z9j3s6QmLfzP2ApUOtXCvQ/XnTRRRdd9D9bv1Kg1q/0P1gK1PqVAvU/VlVVVVVV9T9ToNavFKj1P1HrVwrU+vU/TjbZZJNN9j9MgVq/UqD2P0nM2xkS8/Y/RhdddNFF9z9EYt7OkJj3P0GtXylQ6/c/P/jggw8++D88Q2LezpD4PzmO4ziO4/g/N9lkk002+T80JObtDIn5PzJvZ0jM2/k/L7rooosu+j8tBWr9SoH6PypQ61cK1Po/J5tssskm+z8l5u0MiXn7PyIxb2dIzPs/IHzwwQcf/D8dx3Ecx3H8PxsS83aGxPw/GF100UUX/T8VqPUrBWr9PxPzdobEvP0/ED744IMP/j8OiXk7Q2L+PwvU+pUCtf4/CB988MEH/z8Gav1KgVr/PwO1fqVArf8/AAAAAAAAAEA=\",\"dtype\":\"float64\",\"shape\":[100]},\"y\":{\"__ndarray__\":\"AAAAAAAAAACllDFzhgUHQNnbNEyJ4BFARqKce/XqFUAUm7Jl3rUYQDoex5N/wRpAWB4Du45RHEB9FDbpK40dQBRwzGuGjB5A+ZWyYF9fH0BC4YtbNQggQAseWoOXUyBAsdStQY+UIEDt0mmAIc0gQG9N2ajV/iBAIuAzjNkqIUD+qByjGVIhQAtik9RRdSFARBkmUhmVIUC4ev0j67EhQCKTw2wszCFAN9VgEzHkIUB4PXlIP/ohQK0wUDeSDiJABYehGlwhIkBc/hbdxzIiQHiLA2L6QiJA3Q8xixNSIkBCii8LL2AiQMK+VA9lbSJA3dauysp5IkDQLdDncoUiQB+m2OZtkCJA7kGda8qaIkDlOfJ+laQiQPg7gMXarSJADjcQrqS2IkDBMMmY/L4iQOwfn/jqxiJAP5nrb3fOIkCRGfzoqNUiQN/EPKuF3CJAK6mIbRPjIkAC6Q1mV+kiQIArJlhW7yJAgx5uoBT1IkCwuF8/lvoiQH5JoeLe/yJAL/o47fEEI0B3Ms1+0gkjQIH5D3qDDiNAbPpxigcTI0B41jQpYRcjQJ718KGSGyNAFZCgFp4fI0Difz6DhSMjQDGCBcFKJyNAuQpeie8qI0CtMn14dS4jQHrYxg/eMSNAXO3vtyo1I0BeYPTCXDgjQLpo1211OyNAUvM94nU+I0BhBOU3X0EjQB+/83UyRCNAZLsxlPBGI0CKFyN8mkkjQIGBCgoxTCNAze7WDbVOI0C9H/5LJ1EjQD4+Q36IUyNAUExvVNlVI0ADz/p0GlgjQHPGqH1MWiNA2TMXBHBcI0Di7EOWhV4jQKmlB7uNYCNA0neG8ohiI0Aa6Ja2d2QjQNk3K3taZiNAJOeorjFoI0BG1TS6/WkjQFACEgK/ayNA3TTU5XVtI0Dj4LvAIm8jQJJU3unFcCNAja52tF9yI0DHMghw8HMjQKHOpGh4dSNAei0L5/d2I0Cebegwb3gjQP7A6ojeeSNAWXT+LkZ7I0AXEWJgpnwjQD991lf/fSNAW721TVF/I0Bg0xd4nIAjQLsO7QrhgSNA3H0YOB+DI0A=\",\"dtype\":\"float64\",\"shape\":[100]}},\"selected\":{\"id\":\"3692\",\"type\":\"Selection\"},\"selection_policy\":{\"id\":\"3693\",\"type\":\"UnionRenderers\"}},\"id\":\"3543\",\"type\":\"ColumnDataSource\"},{\"attributes\":{},\"id\":\"3555\",\"type\":\"Selection\"},{\"attributes\":{},\"id\":\"3503\",\"type\":\"PanTool\"},{\"attributes\":{\"line_color\":\"#2ba02b\",\"line_width\":2,\"x\":{\"field\":\"x\"},\"y\":{\"field\":\"y\"}},\"id\":\"3544\",\"type\":\"Line\"},{\"attributes\":{},\"id\":\"3504\",\"type\":\"WheelZoomTool\"},{\"attributes\":{},\"id\":\"3540\",\"type\":\"UnionRenderers\"},{\"attributes\":{\"overlay\":{\"id\":\"3526\",\"type\":\"BoxAnnotation\"}},\"id\":\"3505\",\"type\":\"BoxZoomTool\"},{\"attributes\":{},\"id\":\"3539\",\"type\":\"Selection\"},{\"attributes\":{},\"id\":\"3692\",\"type\":\"Selection\"},{\"attributes\":{\"callback\":null},\"id\":\"3487\",\"type\":\"DataRange1d\"},{\"attributes\":{\"label\":{\"value\":\"proton_inside_H\"},\"renderers\":[{\"id\":\"3532\",\"type\":\"GlyphRenderer\"}]},\"id\":\"3542\",\"type\":\"LegendItem\"},{\"attributes\":{},\"id\":\"3507\",\"type\":\"ResetTool\"},{\"attributes\":{},\"id\":\"3489\",\"type\":\"LinearScale\"}],\"root_ids\":[\"3482\"]},\"title\":\"Bokeh Application\",\"version\":\"1.4.0\"}};\n",
       "  var render_items = [{\"docid\":\"bd0bdf0a-5c3c-4c82-8ebe-b2bf07be1a74\",\"roots\":{\"3482\":\"e5b5bbb9-18fa-4c67-9243-451f920955ff\"}}];\n",
       "  root.Bokeh.embed.embed_items_notebook(docs_json, render_items);\n",
       "\n",
       "  }\n",
       "  if (root.Bokeh !== undefined) {\n",
       "    embed_document(root);\n",
       "  } else {\n",
       "    var attempts = 0;\n",
       "    var timer = setInterval(function(root) {\n",
       "      if (root.Bokeh !== undefined) {\n",
       "        clearInterval(timer);\n",
       "        embed_document(root);\n",
       "      } else {\n",
       "        attempts++;\n",
       "        if (attempts > 100) {\n",
       "          clearInterval(timer);\n",
       "          console.log(\"Bokeh: ERROR: Unable to run BokehJS code because BokehJS library is missing\");\n",
       "        }\n",
       "      }\n",
       "    }, 10, root)\n",
       "  }\n",
       "})(window);"
      ],
      "application/vnd.bokehjs_exec.v0+json": ""
     },
     "metadata": {
      "application/vnd.bokehjs_exec.v0+json": {
       "id": "3482"
      }
     },
     "output_type": "display_data"
    }
   ],
   "source": [
    "p_atpsynthesis = bokeh.plotting.figure(width = 450, height = 340, \n",
    "                         x_axis_label = 'time (sec)', y_axis_label = 'concentration',\n",
    "                         title = 'ATP synthesis through ATP synthase')\n",
    "plot_list = ['proton_outside_H', 'proton_inside_H', 'metabolite_atp']\n",
    "for i,item in enumerate(plot_list):\n",
    "    p_atpsynthesis.line(timepoints, R_atpsynthesis[item], legend_label = item, color = palette[i], line_width = 2)\n",
    "    \n",
    "p_atpsynthesis.legend.location = 'center_right'\n",
    "bokeh.io.show(p_atpsynthesis)"
   ]
  },
  {
   "cell_type": "markdown",
   "metadata": {},
   "source": [
    "## SBML for Proton Pump transcription and translation\n",
    "---"
   ]
  },
  {
   "cell_type": "code",
   "execution_count": 46,
   "metadata": {},
   "outputs": [],
   "source": [
    "G_pp = DNAassembly(\"proton_pump\", promoter = \"atpsyn_proton_pump\", rbs = \"proton_pumnp_rbs\", transcript = None, protein = None)\n",
    "M3_pp = TxTlDilutionMixture(\"liposome\", components = [G_pp], parameter_file = \"default_parameters.txt\")\n",
    "CRN3_pp = M3_pp.compile_crn()\n",
    "\n",
    "#print(repr(M3),\"\\n\", CRN3_pp.pretty_print(show_attributes = True, show_material = True, show_rates = True),\"\\n\\n\")\n",
    "\n"
   ]
  },
  {
   "cell_type": "code",
   "execution_count": 47,
   "metadata": {},
   "outputs": [
    {
     "data": {
      "text/plain": [
       "True"
      ]
     },
     "execution_count": 47,
     "metadata": {},
     "output_type": "execute_result"
    }
   ],
   "source": [
    "# Write SBML file\n",
    "CRN3_pp.write_sbml_file('proton_pump_tx_tl.xml')"
   ]
  },
  {
   "cell_type": "code",
   "execution_count": 49,
   "metadata": {},
   "outputs": [
    {
     "name": "stderr",
     "output_type": "stream",
     "text": [
      "/Users/ankitaroychoudhury/opt/anaconda3/lib/python3.7/site-packages/scipy/integrate/odepack.py:248: ODEintWarning: Excess work done on this call (perhaps wrong Dfun type). Run with full_output = 1 to get quantitative information.\n",
      "  warnings.warn(warning_msg, ODEintWarning)\n",
      "odeint failed with mxstep=500..."
     ]
    }
   ],
   "source": [
    "timepoints = np.linspace(0,10000,100)\n",
    "x0_pp = {'dna_proton_pump':10, 'protein_RNAP_machinery':10, 'protein_Ribo_machinery':10,\n",
    "     'protein_RNAase_machinery':10}\n",
    "R_pp = CRN3_pp.simulate_with_bioscrape(timepoints, initial_condition_dict = x0_pp)"
   ]
  },
  {
   "cell_type": "code",
   "execution_count": 50,
   "metadata": {},
   "outputs": [
    {
     "data": {
      "text/html": [
       "\n",
       "\n",
       "\n",
       "\n",
       "\n",
       "\n",
       "  <div class=\"bk-root\" id=\"109fcc21-34a3-43c7-b3d6-a40d962327cd\" data-root-id=\"2940\"></div>\n"
      ]
     },
     "metadata": {},
     "output_type": "display_data"
    },
    {
     "data": {
      "application/javascript": [
       "(function(root) {\n",
       "  function embed_document(root) {\n",
       "    \n",
       "  var docs_json = {\"6eaedf36-3023-4df3-80ba-dd2cd020284e\":{\"roots\":{\"references\":[{\"attributes\":{\"below\":[{\"id\":\"2951\",\"type\":\"LinearAxis\"}],\"center\":[{\"id\":\"2955\",\"type\":\"Grid\"},{\"id\":\"2960\",\"type\":\"Grid\"},{\"id\":\"2985\",\"type\":\"Legend\"}],\"left\":[{\"id\":\"2956\",\"type\":\"LinearAxis\"}],\"plot_height\":340,\"plot_width\":450,\"renderers\":[{\"id\":\"2977\",\"type\":\"GlyphRenderer\"},{\"id\":\"2990\",\"type\":\"GlyphRenderer\"},{\"id\":\"3004\",\"type\":\"GlyphRenderer\"}],\"title\":{\"id\":\"2941\",\"type\":\"Title\"},\"toolbar\":{\"id\":\"2967\",\"type\":\"Toolbar\"},\"x_range\":{\"id\":\"2943\",\"type\":\"DataRange1d\"},\"x_scale\":{\"id\":\"2947\",\"type\":\"LinearScale\"},\"y_range\":{\"id\":\"2945\",\"type\":\"DataRange1d\"},\"y_scale\":{\"id\":\"2949\",\"type\":\"LinearScale\"}},\"id\":\"2940\",\"subtype\":\"Figure\",\"type\":\"Plot\"},{\"attributes\":{\"active_drag\":\"auto\",\"active_inspect\":\"auto\",\"active_multi\":null,\"active_scroll\":\"auto\",\"active_tap\":\"auto\",\"tools\":[{\"id\":\"2961\",\"type\":\"PanTool\"},{\"id\":\"2962\",\"type\":\"WheelZoomTool\"},{\"id\":\"2963\",\"type\":\"BoxZoomTool\"},{\"id\":\"2964\",\"type\":\"SaveTool\"},{\"id\":\"2965\",\"type\":\"ResetTool\"},{\"id\":\"2966\",\"type\":\"HelpTool\"}]},\"id\":\"2967\",\"type\":\"Toolbar\"},{\"attributes\":{\"source\":{\"id\":\"3001\",\"type\":\"ColumnDataSource\"}},\"id\":\"3005\",\"type\":\"CDSView\"},{\"attributes\":{},\"id\":\"2966\",\"type\":\"HelpTool\"},{\"attributes\":{\"data_source\":{\"id\":\"2987\",\"type\":\"ColumnDataSource\"},\"glyph\":{\"id\":\"2988\",\"type\":\"Line\"},\"hover_glyph\":null,\"muted_glyph\":null,\"nonselection_glyph\":{\"id\":\"2989\",\"type\":\"Line\"},\"selection_glyph\":null,\"view\":{\"id\":\"2991\",\"type\":\"CDSView\"}},\"id\":\"2990\",\"type\":\"GlyphRenderer\"},{\"attributes\":{},\"id\":\"3013\",\"type\":\"Selection\"},{\"attributes\":{\"line_color\":\"#ff7e0e\",\"line_width\":2,\"x\":{\"field\":\"x\"},\"y\":{\"field\":\"y\"}},\"id\":\"2988\",\"type\":\"Line\"},{\"attributes\":{\"callback\":null,\"data\":{\"x\":{\"__ndarray__\":\"AAAAAAAAAACWArV+pUBZQJYCtX6lQGlA8MEHH3zwckCWArV+pUB5QDxDYt7OkH9A8MEHH3zwgkBDYt7OkBiGQJYCtX6lQIlA6aKLLrpojEA8Q2LezpCPQMdxHMdxXJFA8MEHH3zwkkAaEvN2hoSUQENi3s6QGJZAbbLJJpusl0CWArV+pUCZQL9SoNav1JpA6aKLLrponEAS83aGxPydQDxDYt7OkJ9Asskmm2ySoEDHcRzHcVyhQNwZEvN2JqJA8MEHH3zwokAFav1KgbqjQBoS83aGhKRAL7roootOpUBDYt7OkBimQFgK1PqV4qZAbbLJJpusp0CBWr9SoHaoQJYCtX6lQKlAq6qqqqoKqkC/UqDWr9SqQNT6lQK1nqtA6aKLLrporED9SoFavzKtQBLzdobE/K1AJ5tsssnGrkA8Q2LezpCvQKj1KwVqLbBAsskmm2ySsEC9nSExb/ewQMdxHMdxXLFA0UUXXXTBsUDcGRLzdiayQObtDIl5i7JA8MEHH3zwskD7lQK1flWzQAVq/UqBurNAED744IMftEAaEvN2hoS0QCTm7QyJ6bRAL7roootOtUA5juM4jrO1QENi3s6QGLZATjbZZJN9tkBYCtT6leK2QGLezpCYR7dAbbLJJpust0B3hsS8nRG4QIFav1KgdrhAjC666KLbuECWArV+pUC5QKDWrxSopblAq6qqqqoKukC1fqVArW+6QL9SoNav1LpAyiabbLI5u0DU+pUCtZ67QN7OkJi3A7xA6aKLLrpovEDzdobEvM28QP1KgVq/Mr1ACB988MGXvUAS83aGxPy9QBzHcRzHYb5AJ5tsssnGvkAxb2dIzCu/QDxDYt7OkL9ARhdddNH1v0Co9SsFai3AQK1fKVDrX8BAsskmm2ySwEC4MyTm7cTAQL2dITFv98BAwgcffPApwUDHcRzHcVzBQMzbGRLzjsFA0UUXXXTBwUDXrxSo9fPBQNwZEvN2JsJA4YMPPvhYwkDm7QyJeYvCQOtXCtT6vcJA8MEHH3zwwkD2KwVq/SLDQPuVArV+VcNAAAAAAACIw0A=\",\"dtype\":\"float64\",\"shape\":[100]},\"y\":{\"__ndarray__\":\"AAAAAAAAJEATp1fsHYPuPxCnV+wdg+4/EKdX7B2D7j8Qp1fsHYPuPxCnV+wdg+4/EKdX7B2D7j8Qp1fsHYPuPw+nV+wdg+4/DadX7B2D7j8Rp1fsHYPuPxCnV+wdg+4/EqdX7B2D7j8Sp1fsHYPuPxOnV+wdg+4/G6dX7B2D7j8Tp1fsHYPuPxWnV+wdg+4/E6dX7B2D7j8Tp1fsHYPuPxOnV+wdg+4/E6dX7B2D7j8Tp1fsHYPuPxOnV+wdg+4/FadX7B2D7j8Sp1fsHYPuPxKnV+wdg+4/E6dX7B2D7j8Sp1fsHYPuPwOnV+wdg+4/EKdX7B2D7j8Rp1fsHYPuPxCnV+wdg+4/DqdX7B2D7j/7plfsHYPuPxinV+wdg+4/EadX7B2D7j8Rp1fsHYPuPw+nV+wdg+4/EKdX7B2D7j8Qp1fsHYPuPxCnV+wdg+4/EKdX7B2D7j8Pp1fsHYPuPw+nV+wdg+4/DqdX7B2D7j8Qp1fsHYPuPxGnV+wdg+4/EKdX7B2D7j8Pp1fsHYPuPxCnV+wdg+4/EKdX7B2D7j8Qp1fsHYPuPxCnV+wdg+4/DadX7B2D7j8Tp1fsHYPuPwmnV+wdg+4/DqdX7B2D7j8ep1fsHYPuP96mV+wdg+4/dadX7B2D7j9QplfsHYPuP4anV+wdg+4/UaZX7B2D7j+3nVfsHYPuP4vAV+wdg+4/xI9X7B2D7j/0plfsHYPuP46kV+wdg+4/xKZX7B2D7j8Pp1fsHYPuPw2nV+wdg+4/D6dX7B2D7j8Pp1fsHYPuPw6nV+wdg+4/DqdX7B2D7j8Pp1fsHYPuPxCnV+wdg+4/DqdX7B2D7j8Vp1fsHYPuPw6nV+wdg+4/BadX7B2D7j82p1fsHYPuP9OmV+wdg+4/66ZX7B2D7j8KqFfsHYPuP6KnV+wdg+4/06ZX7B2D7j8/plfsHYPuPxenV+wdg+4/h6dX7B2D7j9Fp1fsHYPuP+2mV+wdg+4/66ZX7B2D7j8Up1fsHYPuPxenV+wdg+4/DqdX7B2D7j8Op1fsHYPuPw6nV+wdg+4/DqdX7B2D7j8=\",\"dtype\":\"float64\",\"shape\":[100]}},\"selected\":{\"id\":\"3128\",\"type\":\"Selection\"},\"selection_policy\":{\"id\":\"3129\",\"type\":\"UnionRenderers\"}},\"id\":\"3001\",\"type\":\"ColumnDataSource\"},{\"attributes\":{},\"id\":\"2980\",\"type\":\"BasicTickFormatter\"},{\"attributes\":{\"label\":{\"value\":\"dna_proton_pump\"},\"renderers\":[{\"id\":\"3004\",\"type\":\"GlyphRenderer\"}]},\"id\":\"3016\",\"type\":\"LegendItem\"},{\"attributes\":{},\"id\":\"3014\",\"type\":\"UnionRenderers\"},{\"attributes\":{\"callback\":null,\"data\":{\"x\":{\"__ndarray__\":\"AAAAAAAAAACWArV+pUBZQJYCtX6lQGlA8MEHH3zwckCWArV+pUB5QDxDYt7OkH9A8MEHH3zwgkBDYt7OkBiGQJYCtX6lQIlA6aKLLrpojEA8Q2LezpCPQMdxHMdxXJFA8MEHH3zwkkAaEvN2hoSUQENi3s6QGJZAbbLJJpusl0CWArV+pUCZQL9SoNav1JpA6aKLLrponEAS83aGxPydQDxDYt7OkJ9Asskmm2ySoEDHcRzHcVyhQNwZEvN2JqJA8MEHH3zwokAFav1KgbqjQBoS83aGhKRAL7roootOpUBDYt7OkBimQFgK1PqV4qZAbbLJJpusp0CBWr9SoHaoQJYCtX6lQKlAq6qqqqoKqkC/UqDWr9SqQNT6lQK1nqtA6aKLLrporED9SoFavzKtQBLzdobE/K1AJ5tsssnGrkA8Q2LezpCvQKj1KwVqLbBAsskmm2ySsEC9nSExb/ewQMdxHMdxXLFA0UUXXXTBsUDcGRLzdiayQObtDIl5i7JA8MEHH3zwskD7lQK1flWzQAVq/UqBurNAED744IMftEAaEvN2hoS0QCTm7QyJ6bRAL7roootOtUA5juM4jrO1QENi3s6QGLZATjbZZJN9tkBYCtT6leK2QGLezpCYR7dAbbLJJpust0B3hsS8nRG4QIFav1KgdrhAjC666KLbuECWArV+pUC5QKDWrxSopblAq6qqqqoKukC1fqVArW+6QL9SoNav1LpAyiabbLI5u0DU+pUCtZ67QN7OkJi3A7xA6aKLLrpovEDzdobEvM28QP1KgVq/Mr1ACB988MGXvUAS83aGxPy9QBzHcRzHYb5AJ5tsssnGvkAxb2dIzCu/QDxDYt7OkL9ARhdddNH1v0Co9SsFai3AQK1fKVDrX8BAsskmm2ySwEC4MyTm7cTAQL2dITFv98BAwgcffPApwUDHcRzHcVzBQMzbGRLzjsFA0UUXXXTBwUDXrxSo9fPBQNwZEvN2JsJA4YMPPvhYwkDm7QyJeYvCQOtXCtT6vcJA8MEHH3zwwkD2KwVq/SLDQPuVArV+VcNAAAAAAACIw0A=\",\"dtype\":\"float64\",\"shape\":[100]},\"y\":{\"__ndarray__\":\"AAAAAAAAAAB+OGDVhEg4QL7n4neyGVBAz38VreUsWUDSB0gZoLBgQGGgLwj3ZWRAXKqPWh/AZ0BGM9R/2MdqQJkDaXYMhW1A1jAwXuP+b0D4BKvM6h1xQLYDJEreIHJAAme1+fAKc0BUMsuuht5zQDupenzInXRAigkoVKpKdUCtbWAh8OZ1QDNu1WQydHZAOgfVW+LzdkBmhgbXTWd3QF324oyiz3dAOHYHNvEteEDW+1BdMIN4QBS3Sts+0HhAWDtdHuYVeUC9WKc73FR5QLuc0cvFjXlADazXlTfBeUC2Hj8QuO95QFxh4NrAGXpAvWcuyL8/ekD2YDkyGGJ6QEeQiOAjgXpA+U59+zOdekCSAazekbZ6QHlJOtp/zXpA2oPw3zniekAvNHEe9vR6QJvsgY/lBXtApS2qeDQVe0DHbubeCiN7QCXszu2ML3tAyabcVNs6e0BsAiCnE0V7QEkfSZ5QTntArL0EX6pWe0DMx+q7Nl57QEFGenAJZXtAVj0OVDRre0AAnfeGx3B7QPY78ZvRdXtAEJbtvl96e0AL7sLXfX57QA+Ga6o2gntAaDYg8pOFe0DMEpp6noh7QGeUAzdei3tA9qDhVtqNe0BLZyJZGZB7QAj84xwhkntABavq8PaTe0DGGXGhn5V7QH5Jl4Qfl3tAAoTGhXqYe0CwKjYwtJl7QCB64rfPmntAbojaAdCbe0C8Xjutt5x7QJxXphaJnXtAvIIQYkaee0CK27V98Z57QIEx4iiMn3tAMYsu+Bege0CxxAlZlqB7QAMYn5UIoXtA3dpz2G+he0BCknAvzaF7QEmRv44hontAHMdE0m2ie0Db0nPBsqJ7QKs/WBDxontAzMv1Yimje0A9ZLBMXKN7QGMvllKKo3tAJ9jP7LOje0A/1cSH2aN7QFZJmoX7o3tAq8s2Pxqke0Cc4GQENqR7QJSd4R5PpHtApRU2z2Wke0DL+/RReqR7QNuATdyMpHtAxwLVnp2ke0DOtn3FrKR7QFDmh3e6pHtAIILn2Make0AbnKoJ0qR7QFk6SCfcpHtAElSoS+Wke0A=\",\"dtype\":\"float64\",\"shape\":[100]}},\"selected\":{\"id\":\"2997\",\"type\":\"Selection\"},\"selection_policy\":{\"id\":\"2998\",\"type\":\"UnionRenderers\"}},\"id\":\"2974\",\"type\":\"ColumnDataSource\"},{\"attributes\":{\"callback\":null,\"data\":{\"x\":{\"__ndarray__\":\"AAAAAAAAAACWArV+pUBZQJYCtX6lQGlA8MEHH3zwckCWArV+pUB5QDxDYt7OkH9A8MEHH3zwgkBDYt7OkBiGQJYCtX6lQIlA6aKLLrpojEA8Q2LezpCPQMdxHMdxXJFA8MEHH3zwkkAaEvN2hoSUQENi3s6QGJZAbbLJJpusl0CWArV+pUCZQL9SoNav1JpA6aKLLrponEAS83aGxPydQDxDYt7OkJ9Asskmm2ySoEDHcRzHcVyhQNwZEvN2JqJA8MEHH3zwokAFav1KgbqjQBoS83aGhKRAL7roootOpUBDYt7OkBimQFgK1PqV4qZAbbLJJpusp0CBWr9SoHaoQJYCtX6lQKlAq6qqqqoKqkC/UqDWr9SqQNT6lQK1nqtA6aKLLrporED9SoFavzKtQBLzdobE/K1AJ5tsssnGrkA8Q2LezpCvQKj1KwVqLbBAsskmm2ySsEC9nSExb/ewQMdxHMdxXLFA0UUXXXTBsUDcGRLzdiayQObtDIl5i7JA8MEHH3zwskD7lQK1flWzQAVq/UqBurNAED744IMftEAaEvN2hoS0QCTm7QyJ6bRAL7roootOtUA5juM4jrO1QENi3s6QGLZATjbZZJN9tkBYCtT6leK2QGLezpCYR7dAbbLJJpust0B3hsS8nRG4QIFav1KgdrhAjC666KLbuECWArV+pUC5QKDWrxSopblAq6qqqqoKukC1fqVArW+6QL9SoNav1LpAyiabbLI5u0DU+pUCtZ67QN7OkJi3A7xA6aKLLrpovEDzdobEvM28QP1KgVq/Mr1ACB988MGXvUAS83aGxPy9QBzHcRzHYb5AJ5tsssnGvkAxb2dIzCu/QDxDYt7OkL9ARhdddNH1v0Co9SsFai3AQK1fKVDrX8BAsskmm2ySwEC4MyTm7cTAQL2dITFv98BAwgcffPApwUDHcRzHcVzBQMzbGRLzjsFA0UUXXXTBwUDXrxSo9fPBQNwZEvN2JsJA4YMPPvhYwkDm7QyJeYvCQOtXCtT6vcJA8MEHH3zwwkD2KwVq/SLDQPuVArV+VcNAAAAAAACIw0A=\",\"dtype\":\"float64\",\"shape\":[100]},\"y\":{\"__ndarray__\":\"AAAAAAAAAACCUdqxA5tCQHFasijDY1RAzWLEXu5sXkBN+geUMsBjQGOTkUKY2mdAmxBWoj2Qa0CkToVIwupuQN+ceKFv+XBA1UdRHz1YckDe0OEqXJVzQDClSfgHtHRAAm20lCy3dUCbG2dnbqF2QDWeuwUxdXdAAdkDXZ00eED4dCRQp+F4QBrVTckSfnlAgwncTXgLekDxhBk6SYt6QMGix2vT/npA7GM+sURne0DFr7jkrcV7QGiZYaoFG3xAXtzg9SpofEAF9OJS5618QKcBN/Tw7HxAqaK6i+wlfUDMiE30bll9QLTyp9P+h31AXbm8vxWyfUC34va3Idh9QIrffSOG+n1Azth63pwZfkCbhtYitzV+QOeXIF4eT35A2/0y8RRmfkAa0c7b1np+QJFLKlqajX5AHRZDc5CefkAZuOt45a1+QA4h93nBu35AABt1qUjIfkA73KPIm9N+QLkDJHHY3X5AwaalYBnnfkCSPADDdu9+QMzefnMG935AKSNKNdz9fkB/+1blCQR/QEzUS6ifCX9AIPZ2FawOf0A1QDJdPBN/QJG4mGxcF39AYZuJCxcbf0D20Z/4dR5/QMuEmQKCIX9AHdN/H0Mkf0AMn8GBwCZ/QEWCx6oAKX9A21cTfAkrf0CZuIxG4Cx/QFOWRdiJLn9ARqIYiQowf0BdLk9GZjF/QLFmi5ygMn9AZcQJwbwzf0CeOXabvTR/QABT5MmlNX9AqH6Vq3c2f0AxXEZkNTd/QCBnsePgN39AX19B6ns4f0Cfa/sMCDl/QBxK0bmGOX9A7uKiO/k5f0D6Lpu9YDp/QGUbXk6+On9AJOio4RI7f0A2PZJUXzt/QIryrm6kO39A6aDP5eI7f0CeS1hdGzx/QBq0yWhOPH9Aa29ZjXw8f0AlyjVDpjx/QBIKLvfLPH9Aw0jSC+48f0Cfu5nZDD1/QFvURbIoPX9AXcFk3UE9f0Da2B+eWD1/QC3kby9tPX9AduMzx389f0DJvyaWkD1/QBz9zsefPX9ACfYKhK09f0C3wmbuuT1/QEZLjyfFPX9A+HU/TM89f0A=\",\"dtype\":\"float64\",\"shape\":[100]}},\"selected\":{\"id\":\"3013\",\"type\":\"Selection\"},\"selection_policy\":{\"id\":\"3014\",\"type\":\"UnionRenderers\"}},\"id\":\"2987\",\"type\":\"ColumnDataSource\"},{\"attributes\":{},\"id\":\"2965\",\"type\":\"ResetTool\"},{\"attributes\":{\"text\":\"Proton pump tx and tl\"},\"id\":\"2941\",\"type\":\"Title\"},{\"attributes\":{\"bottom_units\":\"screen\",\"fill_alpha\":{\"value\":0.5},\"fill_color\":{\"value\":\"lightgrey\"},\"left_units\":\"screen\",\"level\":\"overlay\",\"line_alpha\":{\"value\":1.0},\"line_color\":{\"value\":\"black\"},\"line_dash\":[4,4],\"line_width\":{\"value\":2},\"render_mode\":\"css\",\"right_units\":\"screen\",\"top_units\":\"screen\"},\"id\":\"2984\",\"type\":\"BoxAnnotation\"},{\"attributes\":{},\"id\":\"3129\",\"type\":\"UnionRenderers\"},{\"attributes\":{\"data_source\":{\"id\":\"2974\",\"type\":\"ColumnDataSource\"},\"glyph\":{\"id\":\"2975\",\"type\":\"Line\"},\"hover_glyph\":null,\"muted_glyph\":null,\"nonselection_glyph\":{\"id\":\"2976\",\"type\":\"Line\"},\"selection_glyph\":null,\"view\":{\"id\":\"2978\",\"type\":\"CDSView\"}},\"id\":\"2977\",\"type\":\"GlyphRenderer\"},{\"attributes\":{\"callback\":null},\"id\":\"2943\",\"type\":\"DataRange1d\"},{\"attributes\":{},\"id\":\"2961\",\"type\":\"PanTool\"},{\"attributes\":{},\"id\":\"2962\",\"type\":\"WheelZoomTool\"},{\"attributes\":{},\"id\":\"2997\",\"type\":\"Selection\"},{\"attributes\":{\"callback\":null},\"id\":\"2945\",\"type\":\"DataRange1d\"},{\"attributes\":{\"label\":{\"value\":\"protein_proton_pump\"},\"renderers\":[{\"id\":\"2990\",\"type\":\"GlyphRenderer\"}]},\"id\":\"3000\",\"type\":\"LegendItem\"},{\"attributes\":{\"data_source\":{\"id\":\"3001\",\"type\":\"ColumnDataSource\"},\"glyph\":{\"id\":\"3002\",\"type\":\"Line\"},\"hover_glyph\":null,\"muted_glyph\":null,\"nonselection_glyph\":{\"id\":\"3003\",\"type\":\"Line\"},\"selection_glyph\":null,\"view\":{\"id\":\"3005\",\"type\":\"CDSView\"}},\"id\":\"3004\",\"type\":\"GlyphRenderer\"},{\"attributes\":{},\"id\":\"2947\",\"type\":\"LinearScale\"},{\"attributes\":{},\"id\":\"2964\",\"type\":\"SaveTool\"},{\"attributes\":{},\"id\":\"2949\",\"type\":\"LinearScale\"},{\"attributes\":{\"source\":{\"id\":\"2974\",\"type\":\"ColumnDataSource\"}},\"id\":\"2978\",\"type\":\"CDSView\"},{\"attributes\":{\"line_alpha\":0.1,\"line_color\":\"#1f77b4\",\"line_width\":2,\"x\":{\"field\":\"x\"},\"y\":{\"field\":\"y\"}},\"id\":\"2976\",\"type\":\"Line\"},{\"attributes\":{},\"id\":\"2998\",\"type\":\"UnionRenderers\"},{\"attributes\":{\"line_alpha\":0.1,\"line_color\":\"#1f77b4\",\"line_width\":2,\"x\":{\"field\":\"x\"},\"y\":{\"field\":\"y\"}},\"id\":\"2989\",\"type\":\"Line\"},{\"attributes\":{\"items\":[{\"id\":\"2986\",\"type\":\"LegendItem\"},{\"id\":\"3000\",\"type\":\"LegendItem\"},{\"id\":\"3016\",\"type\":\"LegendItem\"}],\"location\":\"center_right\"},\"id\":\"2985\",\"type\":\"Legend\"},{\"attributes\":{\"axis_label\":\"time (sec)\",\"formatter\":{\"id\":\"2980\",\"type\":\"BasicTickFormatter\"},\"ticker\":{\"id\":\"2952\",\"type\":\"BasicTicker\"}},\"id\":\"2951\",\"type\":\"LinearAxis\"},{\"attributes\":{\"dimension\":1,\"ticker\":{\"id\":\"2957\",\"type\":\"BasicTicker\"}},\"id\":\"2960\",\"type\":\"Grid\"},{\"attributes\":{\"line_alpha\":0.1,\"line_color\":\"#1f77b4\",\"line_width\":2,\"x\":{\"field\":\"x\"},\"y\":{\"field\":\"y\"}},\"id\":\"3003\",\"type\":\"Line\"},{\"attributes\":{},\"id\":\"2952\",\"type\":\"BasicTicker\"},{\"attributes\":{\"label\":{\"value\":\"rna_proton_pump\"},\"renderers\":[{\"id\":\"2977\",\"type\":\"GlyphRenderer\"}]},\"id\":\"2986\",\"type\":\"LegendItem\"},{\"attributes\":{\"ticker\":{\"id\":\"2952\",\"type\":\"BasicTicker\"}},\"id\":\"2955\",\"type\":\"Grid\"},{\"attributes\":{\"line_color\":\"#2ba02b\",\"line_width\":2,\"x\":{\"field\":\"x\"},\"y\":{\"field\":\"y\"}},\"id\":\"3002\",\"type\":\"Line\"},{\"attributes\":{\"overlay\":{\"id\":\"2984\",\"type\":\"BoxAnnotation\"}},\"id\":\"2963\",\"type\":\"BoxZoomTool\"},{\"attributes\":{},\"id\":\"3128\",\"type\":\"Selection\"},{\"attributes\":{},\"id\":\"2982\",\"type\":\"BasicTickFormatter\"},{\"attributes\":{},\"id\":\"2957\",\"type\":\"BasicTicker\"},{\"attributes\":{\"axis_label\":\"concentration\",\"formatter\":{\"id\":\"2982\",\"type\":\"BasicTickFormatter\"},\"ticker\":{\"id\":\"2957\",\"type\":\"BasicTicker\"}},\"id\":\"2956\",\"type\":\"LinearAxis\"},{\"attributes\":{\"line_color\":\"#1f77b3\",\"line_width\":2,\"x\":{\"field\":\"x\"},\"y\":{\"field\":\"y\"}},\"id\":\"2975\",\"type\":\"Line\"},{\"attributes\":{\"source\":{\"id\":\"2987\",\"type\":\"ColumnDataSource\"}},\"id\":\"2991\",\"type\":\"CDSView\"}],\"root_ids\":[\"2940\"]},\"title\":\"Bokeh Application\",\"version\":\"1.4.0\"}};\n",
       "  var render_items = [{\"docid\":\"6eaedf36-3023-4df3-80ba-dd2cd020284e\",\"roots\":{\"2940\":\"109fcc21-34a3-43c7-b3d6-a40d962327cd\"}}];\n",
       "  root.Bokeh.embed.embed_items_notebook(docs_json, render_items);\n",
       "\n",
       "  }\n",
       "  if (root.Bokeh !== undefined) {\n",
       "    embed_document(root);\n",
       "  } else {\n",
       "    var attempts = 0;\n",
       "    var timer = setInterval(function(root) {\n",
       "      if (root.Bokeh !== undefined) {\n",
       "        clearInterval(timer);\n",
       "        embed_document(root);\n",
       "      } else {\n",
       "        attempts++;\n",
       "        if (attempts > 100) {\n",
       "          clearInterval(timer);\n",
       "          console.log(\"Bokeh: ERROR: Unable to run BokehJS code because BokehJS library is missing\");\n",
       "        }\n",
       "      }\n",
       "    }, 10, root)\n",
       "  }\n",
       "})(window);"
      ],
      "application/vnd.bokehjs_exec.v0+json": ""
     },
     "metadata": {
      "application/vnd.bokehjs_exec.v0+json": {
       "id": "2940"
      }
     },
     "output_type": "display_data"
    }
   ],
   "source": [
    "p_pp = bokeh.plotting.figure(width = 450, height = 340, \n",
    "                         x_axis_label = 'time (sec)', y_axis_label = 'concentration',\n",
    "                         title = 'Proton pump tx and tl')\n",
    "plot_list = ['rna_proton_pump', 'protein_proton_pump', 'dna_proton_pump']\n",
    "for i,item in enumerate(plot_list):\n",
    "    p_pp.line(timepoints, R_pp[item], legend_label = item, color = palette[i], line_width = 2)\n",
    "    \n",
    "p_pp.legend.location = 'center_right'\n",
    "bokeh.io.show(p_pp)"
   ]
  },
  {
   "cell_type": "markdown",
   "metadata": {},
   "source": [
    "## SBML for proton pump Simple tx tl\n",
    "---"
   ]
  },
  {
   "cell_type": "code",
   "execution_count": 77,
   "metadata": {},
   "outputs": [
    {
     "name": "stdout",
     "output_type": "stream",
     "text": [
      "Species (3) = {0. rna[proton_pump], 1. dna[proton_pump], 2. protein[proton_pump]}\n",
      "Reactions (2) = [\n",
      "0. dna[proton_pump] --> rna[proton_pump]        \n",
      "        massaction: k_f(dna[proton_pump])=1*dna[proton_pump]\n",
      "1. rna[proton_pump] --> protein[proton_pump]        \n",
      "        massaction: k_f(rna[proton_pump])=1*rna[proton_pump]\n",
      "]\n"
     ]
    }
   ],
   "source": [
    "rna_proton_pump = Species(\"proton_pump\", material_type = \"rna\")\n",
    "\n",
    "dna_proton_pump = Species(\"proton_pump\", material_type = \"dna\")\n",
    "\n",
    "f_proton_pump = Species(\"proton_pump\", material_type = \"protein\")\n",
    "\n",
    "k_tx = 1\n",
    "k_tl = 1\n",
    "\n",
    "R = Reaction([dna_proton_pump],[rna_proton_pump], k_tx)\n",
    "\n",
    "R1 = Reaction([rna_proton_pump], [f_proton_pump], k_tl)\n",
    "CRN_simpletxtl_pp = ChemicalReactionNetwork(species = [rna_proton_pump, dna_proton_pump, f_proton_pump], \n",
    "                                         reactions = [R, R1])\n",
    "\n",
    "print(CRN_simpletxtl_pp.pretty_print(show_materials = True, show_rates = True, show_attributes = True))\n",
    "\n"
   ]
  },
  {
   "cell_type": "code",
   "execution_count": 78,
   "metadata": {},
   "outputs": [
    {
     "data": {
      "text/plain": [
       "True"
      ]
     },
     "execution_count": 78,
     "metadata": {},
     "output_type": "execute_result"
    }
   ],
   "source": [
    "# Write SBML file\n",
    "CRN_simpletxtl_pp.write_sbml_file('proton_pump_simple_txtl.xml')"
   ]
  },
  {
   "cell_type": "markdown",
   "metadata": {},
   "source": [
    "## SBML for proton pump membrane integration\n",
    "---"
   ]
  },
  {
   "cell_type": "code",
   "execution_count": 70,
   "metadata": {},
   "outputs": [
    {
     "name": "stdout",
     "output_type": "stream",
     "text": [
      "Species (2) = {0. protein[proton_pump], 1. protein[proton_pump_b]}\n",
      "Reactions (1) = [\n",
      "0. protein[proton_pump] --> protein[proton_pump_b]        \n",
      "        massaction: k_f(protein[proton_pump])=1*protein[proton_pump]\n",
      "]\n"
     ]
    }
   ],
   "source": [
    "proton_pump = Species(\"proton_pump\", material_type = \"protein\")\n",
    "\n",
    "proton_pump_b = Species(\"proton_pump_b\", material_type = \"protein\")\n",
    "\n",
    "k_bound = 1\n",
    "\n",
    "R_pp = Reaction([proton_pump], [proton_pump_b], k_bound)\n",
    "\n",
    "CRN_mi_pp = ChemicalReactionNetwork(species = [proton_pump, proton_pump_b], reactions = [R_pp])\n",
    "\n",
    "print(CRN_mi_pp.pretty_print(show_materials = True, show_rates = True, show_attributes = True))"
   ]
  },
  {
   "cell_type": "code",
   "execution_count": 71,
   "metadata": {},
   "outputs": [
    {
     "data": {
      "text/plain": [
       "True"
      ]
     },
     "execution_count": 71,
     "metadata": {},
     "output_type": "execute_result"
    }
   ],
   "source": [
    "# Write SBML file\n",
    "CRN_mi_pp.write_sbml_file('proton_pump_membrane_integration.xml')"
   ]
  },
  {
   "cell_type": "code",
   "execution_count": 73,
   "metadata": {},
   "outputs": [
    {
     "name": "stdout",
     "output_type": "stream",
     "text": [
      "Species (5) = {0. proton[outside_H], 1. proton[inside_H], 2. metabolite[adp], 3. metabolite[atp], 4. metabolite[pi]}\n",
      "Reactions (2) = [\n",
      "0. metabolite[adp] + metabolite[pi] --> metabolite[atp]        \n",
      "        massaction: k_f(metabolite[adp],metabolite[pi])=2*metabolite[adp]*metabolite[pi]\n",
      "1. 4 proton[outside_H] --> 4 proton[inside_H]        \n",
      "        massaction: k_f(proton[outside_H])=2*proton[outside_H]^4\n",
      "]\n"
     ]
    }
   ],
   "source": [
    "\n",
    "outside_H = Species(\"outside_H\", material_type = \"proton\")\n",
    "\n",
    "inside_H = Species(\"inside_H\", material_type = \"proton\")\n",
    "\n",
    "adp = Species('adp', material_type = 'metabolite')\n",
    "atp = Species('atp', material_type = 'metabolite')\n",
    "pi = Species('pi', material_type = 'metabolite')\n",
    "\n",
    "\n",
    "k_atp_synthesis = 2\n",
    "\n",
    "R1 = Reaction([adp,pi], [atp], k_atp_synthesis)\n",
    "\n",
    "R2 = Reaction([outside_H, outside_H, outside_H, outside_H], \n",
    "             [inside_H, inside_H, inside_H, inside_H], k_atp_synthesis)\n",
    "\n",
    "CRN_atpsynthesis = ChemicalReactionNetwork(species = [outside_H, inside_H, adp, atp, pi], reactions = [R1,R2])\n",
    "\n",
    "print(CRN_atpsynthesis.pretty_print(show_materials = True, show_rates = True, show_attributes = True))"
   ]
  },
  {
   "cell_type": "code",
   "execution_count": 74,
   "metadata": {},
   "outputs": [],
   "source": [
    "timepoints = np.linspace(0,10,100)\n",
    "x0_mi_pp = {'protein_proton_pump':10}\n",
    "R_mi_pp = CRN_mi_pp.simulate_with_bioscrape(timepoints, initial_condition_dict = x0_mi_pp)"
   ]
  },
  {
   "cell_type": "code",
   "execution_count": 75,
   "metadata": {},
   "outputs": [
    {
     "data": {
      "text/html": [
       "\n",
       "\n",
       "\n",
       "\n",
       "\n",
       "\n",
       "  <div class=\"bk-root\" id=\"e4e39f82-d29e-47ee-8dda-07435d26af4c\" data-root-id=\"3079\"></div>\n"
      ]
     },
     "metadata": {},
     "output_type": "display_data"
    },
    {
     "data": {
      "application/javascript": [
       "(function(root) {\n",
       "  function embed_document(root) {\n",
       "    \n",
       "  var docs_json = {\"0aaaa6b0-b314-420d-8168-214f6a8d62f3\":{\"roots\":{\"references\":[{\"attributes\":{\"below\":[{\"id\":\"3090\",\"type\":\"LinearAxis\"}],\"center\":[{\"id\":\"3094\",\"type\":\"Grid\"},{\"id\":\"3099\",\"type\":\"Grid\"},{\"id\":\"3124\",\"type\":\"Legend\"}],\"left\":[{\"id\":\"3095\",\"type\":\"LinearAxis\"}],\"plot_height\":340,\"plot_width\":450,\"renderers\":[{\"id\":\"3116\",\"type\":\"GlyphRenderer\"},{\"id\":\"3129\",\"type\":\"GlyphRenderer\"}],\"title\":{\"id\":\"3080\",\"type\":\"Title\"},\"toolbar\":{\"id\":\"3106\",\"type\":\"Toolbar\"},\"x_range\":{\"id\":\"3082\",\"type\":\"DataRange1d\"},\"x_scale\":{\"id\":\"3086\",\"type\":\"LinearScale\"},\"y_range\":{\"id\":\"3084\",\"type\":\"DataRange1d\"},\"y_scale\":{\"id\":\"3088\",\"type\":\"LinearScale\"}},\"id\":\"3079\",\"subtype\":\"Figure\",\"type\":\"Plot\"},{\"attributes\":{\"line_color\":\"#1f77b3\",\"line_width\":2,\"x\":{\"field\":\"x\"},\"y\":{\"field\":\"y\"}},\"id\":\"3114\",\"type\":\"Line\"},{\"attributes\":{},\"id\":\"3103\",\"type\":\"SaveTool\"},{\"attributes\":{},\"id\":\"3137\",\"type\":\"UnionRenderers\"},{\"attributes\":{\"text\":\"Proton pump membrane integration\"},\"id\":\"3080\",\"type\":\"Title\"},{\"attributes\":{\"source\":{\"id\":\"3113\",\"type\":\"ColumnDataSource\"}},\"id\":\"3117\",\"type\":\"CDSView\"},{\"attributes\":{},\"id\":\"3096\",\"type\":\"BasicTicker\"},{\"attributes\":{},\"id\":\"3088\",\"type\":\"LinearScale\"},{\"attributes\":{\"bottom_units\":\"screen\",\"fill_alpha\":{\"value\":0.5},\"fill_color\":{\"value\":\"lightgrey\"},\"left_units\":\"screen\",\"level\":\"overlay\",\"line_alpha\":{\"value\":1.0},\"line_color\":{\"value\":\"black\"},\"line_dash\":[4,4],\"line_width\":{\"value\":2},\"render_mode\":\"css\",\"right_units\":\"screen\",\"top_units\":\"screen\"},\"id\":\"3123\",\"type\":\"BoxAnnotation\"},{\"attributes\":{\"callback\":null},\"id\":\"3084\",\"type\":\"DataRange1d\"},{\"attributes\":{\"axis_label\":\"concentration\",\"formatter\":{\"id\":\"3122\",\"type\":\"BasicTickFormatter\"},\"ticker\":{\"id\":\"3096\",\"type\":\"BasicTicker\"}},\"id\":\"3095\",\"type\":\"LinearAxis\"},{\"attributes\":{\"overlay\":{\"id\":\"3123\",\"type\":\"BoxAnnotation\"}},\"id\":\"3102\",\"type\":\"BoxZoomTool\"},{\"attributes\":{\"callback\":null},\"id\":\"3082\",\"type\":\"DataRange1d\"},{\"attributes\":{\"callback\":null,\"data\":{\"x\":{\"__ndarray__\":\"AAAAAAAAAAAxb2dIzNu5PzFvZ0jM28k/ZZNNNtlk0z8xb2dIzNvZP3+lQK1fKeA/ZZNNNtlk4z9LgVq/UqDmPzFvZ0jM2+k/F1100UUX7T9/pUCtXynwP3Icx3Ecx/E/ZZNNNtlk8z9YCtT6lQL1P0uBWr9SoPY/Pvjggw8++D8xb2dIzNv5PyTm7QyJefs/F1100UUX/T8K1PqVArX+P3+lQK1fKQBA+OCDDz74AEByHMdxHMcBQOtXCtT6lQJAZZNNNtlkA0DezpCYtzMEQFgK1PqVAgVA0UUXXXTRBUBLgVq/UqAGQMS8nSExbwdAPvjggw8+CEC3MyTm7QwJQDFvZ0jM2wlAq6qqqqqqCkAk5u0MiXkLQJ4hMW9nSAxAF1100UUXDUCRmLczJOYNQArU+pUCtQ5AhA8++OCDD0B/pUCtXykQQDtDYt7OkBBA+OCDDz74EEC1fqVArV8RQHIcx3EcxxFALrrooosuEkDrVwrU+pUSQKj1KwVq/RJAZZNNNtlkE0AiMW9nSMwTQN7OkJi3MxRAm2yyySabFEBYCtT6lQIVQBWo9SsFahVA0UUXXXTRFUCO4ziO4zgWQEuBWr9SoBZACB988MEHF0DEvJ0hMW8XQIFav1Kg1hdAPvjggw8+GED7lQK1fqUYQLczJObtDBlAdNFFF110GUAxb2dIzNsZQO4MiXk7QxpAq6qqqqqqGkBnSMzbGRIbQCTm7QyJeRtA4YMPPvjgG0CeITFvZ0gcQFq/UqDWrxxAF1100UUXHUDU+pUCtX4dQJGYtzMk5h1ATTbZZJNNHkAK1PqVArUeQMdxHMdxHB9AhA8++OCDH0BArV8pUOsfQH+lQK1fKSBAXXTRRRddIEA7Q2LezpAgQBoS83aGxCBA+OCDDz74IEDXrxSo9SshQLV+pUCtXyFAk0022WSTIUByHMdxHMchQFDrVwrU+iFALrrooosuIkANiXk7Q2IiQOtXCtT6lSJAyiabbLLJIkCo9SsFav0iQIbEvJ0hMSNAZZNNNtlkI0BDYt7OkJgjQCIxb2dIzCNAAAAAAAAAJEA=\",\"dtype\":\"float64\",\"shape\":[100]},\"y\":{\"__ndarray__\":\"AAAAAAAAJECVvtciFxQiQA3pEAdxVyBAogoAiwaLHUAg0gBKZrQaQPYnvcCVIxhALqQx49/RFUCd24edNLkTQNGuaPkY1BFAvGYPzZgdEEAnIqOGcyINQI6KlFTfVQpAQ0+VvCPOB0Dh4zZxo4QFQGSBg9RjcwNAKfPVVv2UAUBQuKKrGsn/PytONq9Su/w/Js7T+qb4+T/c6XEu4Hn3P/dEpGZ4OPU/5GKrLoou8z8qwZEYwVbxP/7NTpqXWO8/Z0K55p5V7D8K0eOcuJzpP3F6w+fGJuc/ZLhL+lrt5D9nBhw/pOriP4VtNCZhGeE/Jl2Ay6Lp3j8s7XcdU/HbPzSHP6gPQtk/1fRxyNPU1j+mfGVyR6PUPzXm2aiup9I/C8dHdtrc0D8+bhTCNnzOPwfxEl9qjss/2R/poafoyD8TV0q+AoTGP1Z2bSI6WsQ/YKJXGKZlwj/onToFKqHAP57YwwxOEL4/Re/nvN8suz/rHhAbfJC4P/FtE81PNLY/oUHDbS8StD/6LS9MhySyP99FuuRMZrA/BOtHX+OlrT+ezpJtrsyqPzCe+a6IOag/nxAz+rblpT8EZtG+I8ujP/ir4gJP5KE/vGgvIEAsoD9/Q0xb8TydP5BRA5rRbZo/SCC8E8njlz8+z2FrNJiVP0Q9QpMThZM/UICPFPqkkT+LFtvBAeaPP/VYAepy1Yw/7liKqEQQij9HWUoGOY+HP09sSzbES4U/qzNlZvs/gz9qEIBWhWaBPzAjYogYdX8/LzFxymJvfD8M/lvMArR5P20rTErUO3c/ZEY3lGIAdT8zZinU1/tyPxbSNKjtKHE/xLkO+L4Fbz8GxZXpuwpsPy0Qx4gHWWk/K+t5vpbpZj/TD/zJC7ZkPyigNWuluGI/+EtTADDsYD9f8jWK75deP/DnXVt5p1s/C2T5Sk7/WD/ZMRJQfJhWP74U4Bu8bFQ/mXXY42B2Uj9qU3NfSbBQP1iJu0ilK04/ZN6gypZFSz9r8dsx06ZIP3QkgU+BSEY/wUBx+W8kRD+G32EqBjVCP6OHlqo1dUA//ObQ/tbAPT8=\",\"dtype\":\"float64\",\"shape\":[100]}},\"selected\":{\"id\":\"3138\",\"type\":\"Selection\"},\"selection_policy\":{\"id\":\"3137\",\"type\":\"UnionRenderers\"}},\"id\":\"3113\",\"type\":\"ColumnDataSource\"},{\"attributes\":{},\"id\":\"3086\",\"type\":\"LinearScale\"},{\"attributes\":{},\"id\":\"3104\",\"type\":\"ResetTool\"},{\"attributes\":{},\"id\":\"3122\",\"type\":\"BasicTickFormatter\"},{\"attributes\":{\"data_source\":{\"id\":\"3113\",\"type\":\"ColumnDataSource\"},\"glyph\":{\"id\":\"3114\",\"type\":\"Line\"},\"hover_glyph\":null,\"muted_glyph\":null,\"nonselection_glyph\":{\"id\":\"3115\",\"type\":\"Line\"},\"selection_glyph\":null,\"view\":{\"id\":\"3117\",\"type\":\"CDSView\"}},\"id\":\"3116\",\"type\":\"GlyphRenderer\"},{\"attributes\":{\"ticker\":{\"id\":\"3091\",\"type\":\"BasicTicker\"}},\"id\":\"3094\",\"type\":\"Grid\"},{\"attributes\":{},\"id\":\"3101\",\"type\":\"WheelZoomTool\"},{\"attributes\":{\"line_color\":\"#ff7e0e\",\"line_width\":2,\"x\":{\"field\":\"x\"},\"y\":{\"field\":\"y\"}},\"id\":\"3127\",\"type\":\"Line\"},{\"attributes\":{\"axis_label\":\"time (sec)\",\"formatter\":{\"id\":\"3120\",\"type\":\"BasicTickFormatter\"},\"ticker\":{\"id\":\"3091\",\"type\":\"BasicTicker\"}},\"id\":\"3090\",\"type\":\"LinearAxis\"},{\"attributes\":{},\"id\":\"3100\",\"type\":\"PanTool\"},{\"attributes\":{},\"id\":\"3138\",\"type\":\"Selection\"},{\"attributes\":{},\"id\":\"3263\",\"type\":\"Selection\"},{\"attributes\":{},\"id\":\"3262\",\"type\":\"UnionRenderers\"},{\"attributes\":{},\"id\":\"3091\",\"type\":\"BasicTicker\"},{\"attributes\":{},\"id\":\"3120\",\"type\":\"BasicTickFormatter\"},{\"attributes\":{\"dimension\":1,\"ticker\":{\"id\":\"3096\",\"type\":\"BasicTicker\"}},\"id\":\"3099\",\"type\":\"Grid\"},{\"attributes\":{},\"id\":\"3105\",\"type\":\"HelpTool\"},{\"attributes\":{\"label\":{\"value\":\"protein_proton_pump\"},\"renderers\":[{\"id\":\"3116\",\"type\":\"GlyphRenderer\"}]},\"id\":\"3125\",\"type\":\"LegendItem\"},{\"attributes\":{\"source\":{\"id\":\"3126\",\"type\":\"ColumnDataSource\"}},\"id\":\"3130\",\"type\":\"CDSView\"},{\"attributes\":{\"items\":[{\"id\":\"3125\",\"type\":\"LegendItem\"},{\"id\":\"3139\",\"type\":\"LegendItem\"}],\"location\":\"center_right\"},\"id\":\"3124\",\"type\":\"Legend\"},{\"attributes\":{\"line_alpha\":0.1,\"line_color\":\"#1f77b4\",\"line_width\":2,\"x\":{\"field\":\"x\"},\"y\":{\"field\":\"y\"}},\"id\":\"3128\",\"type\":\"Line\"},{\"attributes\":{\"active_drag\":\"auto\",\"active_inspect\":\"auto\",\"active_multi\":null,\"active_scroll\":\"auto\",\"active_tap\":\"auto\",\"tools\":[{\"id\":\"3100\",\"type\":\"PanTool\"},{\"id\":\"3101\",\"type\":\"WheelZoomTool\"},{\"id\":\"3102\",\"type\":\"BoxZoomTool\"},{\"id\":\"3103\",\"type\":\"SaveTool\"},{\"id\":\"3104\",\"type\":\"ResetTool\"},{\"id\":\"3105\",\"type\":\"HelpTool\"}]},\"id\":\"3106\",\"type\":\"Toolbar\"},{\"attributes\":{\"data_source\":{\"id\":\"3126\",\"type\":\"ColumnDataSource\"},\"glyph\":{\"id\":\"3127\",\"type\":\"Line\"},\"hover_glyph\":null,\"muted_glyph\":null,\"nonselection_glyph\":{\"id\":\"3128\",\"type\":\"Line\"},\"selection_glyph\":null,\"view\":{\"id\":\"3130\",\"type\":\"CDSView\"}},\"id\":\"3129\",\"type\":\"GlyphRenderer\"},{\"attributes\":{\"label\":{\"value\":\"protein_proton_pump_b\"},\"renderers\":[{\"id\":\"3129\",\"type\":\"GlyphRenderer\"}]},\"id\":\"3139\",\"type\":\"LegendItem\"},{\"attributes\":{\"line_alpha\":0.1,\"line_color\":\"#1f77b4\",\"line_width\":2,\"x\":{\"field\":\"x\"},\"y\":{\"field\":\"y\"}},\"id\":\"3115\",\"type\":\"Line\"},{\"attributes\":{\"callback\":null,\"data\":{\"x\":{\"__ndarray__\":\"AAAAAAAAAAAxb2dIzNu5PzFvZ0jM28k/ZZNNNtlk0z8xb2dIzNvZP3+lQK1fKeA/ZZNNNtlk4z9LgVq/UqDmPzFvZ0jM2+k/F1100UUX7T9/pUCtXynwP3Icx3Ecx/E/ZZNNNtlk8z9YCtT6lQL1P0uBWr9SoPY/Pvjggw8++D8xb2dIzNv5PyTm7QyJefs/F1100UUX/T8K1PqVArX+P3+lQK1fKQBA+OCDDz74AEByHMdxHMcBQOtXCtT6lQJAZZNNNtlkA0DezpCYtzMEQFgK1PqVAgVA0UUXXXTRBUBLgVq/UqAGQMS8nSExbwdAPvjggw8+CEC3MyTm7QwJQDFvZ0jM2wlAq6qqqqqqCkAk5u0MiXkLQJ4hMW9nSAxAF1100UUXDUCRmLczJOYNQArU+pUCtQ5AhA8++OCDD0B/pUCtXykQQDtDYt7OkBBA+OCDDz74EEC1fqVArV8RQHIcx3EcxxFALrrooosuEkDrVwrU+pUSQKj1KwVq/RJAZZNNNtlkE0AiMW9nSMwTQN7OkJi3MxRAm2yyySabFEBYCtT6lQIVQBWo9SsFahVA0UUXXXTRFUCO4ziO4zgWQEuBWr9SoBZACB988MEHF0DEvJ0hMW8XQIFav1Kg1hdAPvjggw8+GED7lQK1fqUYQLczJObtDBlAdNFFF110GUAxb2dIzNsZQO4MiXk7QxpAq6qqqqqqGkBnSMzbGRIbQCTm7QyJeRtA4YMPPvjgG0CeITFvZ0gcQFq/UqDWrxxAF1100UUXHUDU+pUCtX4dQJGYtzMk5h1ATTbZZJNNHkAK1PqVArUeQMdxHMdxHB9AhA8++OCDH0BArV8pUOsfQH+lQK1fKSBAXXTRRRddIEA7Q2LezpAgQBoS83aGxCBA+OCDDz74IEDXrxSo9SshQLV+pUCtXyFAk0022WSTIUByHMdxHMchQFDrVwrU+iFALrrooosuIkANiXk7Q2IiQOtXCtT6lSJAyiabbLLJIkCo9SsFav0iQIbEvJ0hMSNAZZNNNtlkI0BDYt7OkJgjQCIxb2dIzCNAAAAAAAAAJEA=\",\"dtype\":\"float64\",\"shape\":[100]},\"y\":{\"__ndarray__\":\"AAAAAAAAAACUFoTSjb7uP4q3eMd3RP0/tOr/6fLpBEC0W/5rM5cKQAmwhX7UuA9AzFvOHCAuEkBdJHhiy0YUQClRlwbnKxZAPpnwMmfiF0Dmbq48xm4ZQLO6tVUQ1RpAV1i1Ie4YHEAHjmRHrj0dQEU/vhVORh5AZAaVVIE1H0DyqIuq3AYgQDc2GaqVaCBAN4alIOvAIEDAwjH6wxAhQF13K/PwWCFAn5Mqui6aIUDWx+3cJ9UhQBwTW4Z2CiJA1muUEaY6IkDswjF2NGYiQFbIg5GTjSJAd0RbUCqxIkCXPw68VdEiQCW5nO1p7iJAFP2j6bIII0CVQBRndSAjQMQDvoLvNSNAV3C8YVlJI0AZ1GzE5VojQMwwuYrCaiNAxsFNLBl5I0BFrvckD4YjQDu0g1bGkSNAf1t4YV2cI0Cj1gb176UjQCZKdheXriNAdaGeZ2m2I0CGFetXe70jQE145mPfwyNAHzCGQKbJI0DA38kH384jQCHZZWCX0yNAenkkodvXI0ChoWfxttsjQHGLNmYz3yNAErigHFriI0AubZJRM+UjQF4GUXfG5yNA7MwFSRrqI0CWLkHcNOwjQFEd/bAb7iNAlNDfv9PvI0DbWVKHYfEjQFT+MhfJ8iNA7SF2Gw70I0AVT8rlM/UjQN5eNnY99iNAPLj1gi33I0A3iY9/BvgjQKd/RaPK+CNAZ93V7nv5I0Bnbb4xHPojQCJt8g6t+iNAsGYmATD7I0D5X6pepvsjQLnz7lwR/CNA17GmE3L8I0B+dKZ/yfwjQHi2doUY/SNAFHmt81/9I0DQegWFoP0jQGL5SuLa/SNAEH8QpA/+I0CgZkFUP/4jQItzh29q/iNAXRiUZpH+I0A7YEOftP4jQKJMqXXU/iNAx/r/PPH+I0BMroNAC/8jQAwlNcQi/yNAMaiNBTj/I0Bqfx08S/8jQPsgH5pc/yNAOOH4TGz/I0BgBLV9ev8jQA3dalGH/yNAeNWk6ZL/I0CLOLNknf8jQPbB+t2m/yNANhpAbq//I0B0Vucrt/8jQKFVKSu+/yNAWgJSfsT/I0A=\",\"dtype\":\"float64\",\"shape\":[100]}},\"selected\":{\"id\":\"3263\",\"type\":\"Selection\"},\"selection_policy\":{\"id\":\"3262\",\"type\":\"UnionRenderers\"}},\"id\":\"3126\",\"type\":\"ColumnDataSource\"}],\"root_ids\":[\"3079\"]},\"title\":\"Bokeh Application\",\"version\":\"1.4.0\"}};\n",
       "  var render_items = [{\"docid\":\"0aaaa6b0-b314-420d-8168-214f6a8d62f3\",\"roots\":{\"3079\":\"e4e39f82-d29e-47ee-8dda-07435d26af4c\"}}];\n",
       "  root.Bokeh.embed.embed_items_notebook(docs_json, render_items);\n",
       "\n",
       "  }\n",
       "  if (root.Bokeh !== undefined) {\n",
       "    embed_document(root);\n",
       "  } else {\n",
       "    var attempts = 0;\n",
       "    var timer = setInterval(function(root) {\n",
       "      if (root.Bokeh !== undefined) {\n",
       "        clearInterval(timer);\n",
       "        embed_document(root);\n",
       "      } else {\n",
       "        attempts++;\n",
       "        if (attempts > 100) {\n",
       "          clearInterval(timer);\n",
       "          console.log(\"Bokeh: ERROR: Unable to run BokehJS code because BokehJS library is missing\");\n",
       "        }\n",
       "      }\n",
       "    }, 10, root)\n",
       "  }\n",
       "})(window);"
      ],
      "application/vnd.bokehjs_exec.v0+json": ""
     },
     "metadata": {
      "application/vnd.bokehjs_exec.v0+json": {
       "id": "3079"
      }
     },
     "output_type": "display_data"
    }
   ],
   "source": [
    "p_mi_pp = bokeh.plotting.figure(width = 450, height = 340, \n",
    "                         x_axis_label = 'time (sec)', y_axis_label = 'concentration',\n",
    "                         title = 'Proton pump membrane integration')\n",
    "plot_list = ['protein_proton_pump', 'protein_proton_pump_b']\n",
    "for i,item in enumerate(plot_list):\n",
    "    p_mi_pp.line(timepoints, R_mi_pp[item], legend_label = item, color = palette[i], line_width = 2)\n",
    "    \n",
    "p_mi_pp.legend.location = 'center_right'\n",
    "bokeh.io.show(p_mi_pp)"
   ]
  },
  {
   "cell_type": "markdown",
   "metadata": {},
   "source": [
    "## SBML for proton transport through proton pump\n",
    "---"
   ]
  },
  {
   "cell_type": "code",
   "execution_count": 62,
   "metadata": {},
   "outputs": [
    {
     "name": "stdout",
     "output_type": "stream",
     "text": [
      "Species (5) = {0. proton[outside_H], 1. proton[inside_H], 2. metabolite[adp], 3. metabolite[atp], 4. metabolite[pi]}\n",
      "Reactions (2) = [\n",
      "0. metabolite[adp] + metabolite[pi] --> metabolite[atp]        \n",
      "        massaction: k_f(metabolite[adp],metabolite[pi])=2*metabolite[adp]*metabolite[pi]\n",
      "1. 4 proton[inside_H] --> 4 proton[outside_H]        \n",
      "        massaction: k_f(proton[inside_H])=2*proton[inside_H]^4\n",
      "]\n"
     ]
    }
   ],
   "source": [
    "outside_H = Species(\"outside_H\", material_type = \"proton\")\n",
    "\n",
    "inside_H = Species(\"inside_H\", material_type = \"proton\")\n",
    "\n",
    "adp = Species('adp', material_type = 'metabolite')\n",
    "atp = Species('atp', material_type = 'metabolite')\n",
    "pi = Species('pi', material_type = 'metabolite')\n",
    "\n",
    "\n",
    "k_proton_out = 2\n",
    "\n",
    "R1 = Reaction([adp,pi], [atp], k_atp_synthesis)\n",
    "\n",
    "R2 = Reaction([inside_H, inside_H, inside_H, inside_H],\n",
    "              [outside_H, outside_H, outside_H, outside_H], k_proton_out)\n",
    "\n",
    "CRN_protontransport = ChemicalReactionNetwork(species = [outside_H, inside_H, adp, atp, pi], reactions = [R1,R2])\n",
    "\n",
    "print(CRN_protontransport.pretty_print(show_materials = True, show_rates = True, show_attributes = True))"
   ]
  },
  {
   "cell_type": "code",
   "execution_count": 63,
   "metadata": {},
   "outputs": [
    {
     "data": {
      "text/plain": [
       "True"
      ]
     },
     "execution_count": 63,
     "metadata": {},
     "output_type": "execute_result"
    }
   ],
   "source": [
    "# Write SBML file\n",
    "CRN_protontransport.write_sbml_file('proton_transport_through_proton_pump.xml')"
   ]
  },
  {
   "cell_type": "code",
   "execution_count": 64,
   "metadata": {},
   "outputs": [],
   "source": [
    "timepoints = np.linspace(0,2,100)\n",
    "x0_protontransport = {'proton_inside_H':10, 'metabolite_adp':10, 'metabolite_pi':10}\n",
    "R_protontransport = CRN_protontransport.simulate_with_bioscrape(timepoints, \n",
    "                                                                initial_condition_dict = x0_protontransport)\n"
   ]
  },
  {
   "cell_type": "code",
   "execution_count": 65,
   "metadata": {},
   "outputs": [
    {
     "data": {
      "text/html": [
       "\n",
       "\n",
       "\n",
       "\n",
       "\n",
       "\n",
       "  <div class=\"bk-root\" id=\"5653f997-fb5a-40c9-8366-5d19d62efdec\" data-root-id=\"3767\"></div>\n"
      ]
     },
     "metadata": {},
     "output_type": "display_data"
    },
    {
     "data": {
      "application/javascript": [
       "(function(root) {\n",
       "  function embed_document(root) {\n",
       "    \n",
       "  var docs_json = {\"5840e1a7-4394-4e84-8df2-0ca7ccf5e727\":{\"roots\":{\"references\":[{\"attributes\":{\"below\":[{\"id\":\"3778\",\"type\":\"LinearAxis\"}],\"center\":[{\"id\":\"3782\",\"type\":\"Grid\"},{\"id\":\"3787\",\"type\":\"Grid\"},{\"id\":\"3812\",\"type\":\"Legend\"}],\"left\":[{\"id\":\"3783\",\"type\":\"LinearAxis\"}],\"plot_height\":340,\"plot_width\":450,\"renderers\":[{\"id\":\"3804\",\"type\":\"GlyphRenderer\"},{\"id\":\"3817\",\"type\":\"GlyphRenderer\"},{\"id\":\"3831\",\"type\":\"GlyphRenderer\"}],\"title\":{\"id\":\"3768\",\"type\":\"Title\"},\"toolbar\":{\"id\":\"3794\",\"type\":\"Toolbar\"},\"x_range\":{\"id\":\"3770\",\"type\":\"DataRange1d\"},\"x_scale\":{\"id\":\"3774\",\"type\":\"LinearScale\"},\"y_range\":{\"id\":\"3772\",\"type\":\"DataRange1d\"},\"y_scale\":{\"id\":\"3776\",\"type\":\"LinearScale\"}},\"id\":\"3767\",\"subtype\":\"Figure\",\"type\":\"Plot\"},{\"attributes\":{\"callback\":null},\"id\":\"3770\",\"type\":\"DataRange1d\"},{\"attributes\":{},\"id\":\"3841\",\"type\":\"UnionRenderers\"},{\"attributes\":{},\"id\":\"3779\",\"type\":\"BasicTicker\"},{\"attributes\":{\"overlay\":{\"id\":\"3811\",\"type\":\"BoxAnnotation\"}},\"id\":\"3790\",\"type\":\"BoxZoomTool\"},{\"attributes\":{\"callback\":null,\"data\":{\"x\":{\"__ndarray__\":\"AAAAAAAAAABbv1Kg1q+UP1u/UqDWr6Q/CB988MEHrz9bv1Kg1q+0PzJvZ0jM27k/CB988MEHvz9wZ0jM2xnCP1u/UqDWr8Q/RhdddNFFxz8yb2dIzNvJPx3HcRzHccw/CB988MEHzz96O0Ni3s7QP3BnSMzbGdI/ZZNNNtlk0z9bv1Kg1q/UP1HrVwrU+tU/RhdddNFF1z88Q2LezpDYPzJvZ0jM29k/J5tssskm2z8dx3Ecx3HcPxPzdobEvN0/CB988MEH3z9/pUCtXyngP3o7Q2LezuA/ddFFF1104T9wZ0jM2xniP2r9SoFav+I/ZZNNNtlk4z9gKVDrVwrkP1u/UqDWr+Q/VlVVVVVV5T9R61cK1PrlP0yBWr9SoOY/RhdddNFF5z9BrV8pUOvnPzxDYt7OkOg/N9lkk0026T8yb2dIzNvpPy0Fav1Kgeo/J5tssskm6z8iMW9nSMzrPx3HcRzHcew/GF100UUX7T8T83aGxLztPw6JeTtDYu4/CB988MEH7z8DtX6lQK3vP3+lQK1fKfA/ffDBBx988D96O0Ni3s7wP3eGxLydIfE/ddFFF1108T9yHMdxHMfxP3BnSMzbGfI/bbLJJpts8j9q/UqBWr/yP2hIzNsZEvM/ZZNNNtlk8z9j3s6QmLfzP2ApUOtXCvQ/XnTRRRdd9D9bv1Kg1q/0P1gK1PqVAvU/VlVVVVVV9T9ToNavFKj1P1HrVwrU+vU/TjbZZJNN9j9MgVq/UqD2P0nM2xkS8/Y/RhdddNFF9z9EYt7OkJj3P0GtXylQ6/c/P/jggw8++D88Q2LezpD4PzmO4ziO4/g/N9lkk002+T80JObtDIn5PzJvZ0jM2/k/L7rooosu+j8tBWr9SoH6PypQ61cK1Po/J5tssskm+z8l5u0MiXn7PyIxb2dIzPs/IHzwwQcf/D8dx3Ecx3H8PxsS83aGxPw/GF100UUX/T8VqPUrBWr9PxPzdobEvP0/ED744IMP/j8OiXk7Q2L+PwvU+pUCtf4/CB988MEH/z8Gav1KgVr/PwO1fqVArf8/AAAAAAAAAEA=\",\"dtype\":\"float64\",\"shape\":[100]},\"y\":{\"__ndarray__\":\"AAAAAAAAAACllDFzhgUHQNnbNEyJ4BFARqKce/XqFUAUm7Jl3rUYQDoex5N/wRpAWB4Du45RHEB9FDbpK40dQBRwzGuGjB5A+ZWyYF9fH0BC4YtbNQggQAseWoOXUyBAsdStQY+UIEDt0mmAIc0gQG9N2ajV/iBAIuAzjNkqIUD+qByjGVIhQAtik9RRdSFARBkmUhmVIUC4ev0j67EhQCKTw2wszCFAN9VgEzHkIUB4PXlIP/ohQK0wUDeSDiJABYehGlwhIkBc/hbdxzIiQHiLA2L6QiJA3Q8xixNSIkBCii8LL2AiQMK+VA9lbSJA3dauysp5IkDQLdDncoUiQB+m2OZtkCJA7kGda8qaIkDlOfJ+laQiQPg7gMXarSJADjcQrqS2IkDBMMmY/L4iQOwfn/jqxiJAP5nrb3fOIkCRGfzoqNUiQN/EPKuF3CJAK6mIbRPjIkAC6Q1mV+kiQIArJlhW7yJAgx5uoBT1IkCwuF8/lvoiQH5JoeLe/yJAL/o47fEEI0B3Ms1+0gkjQIH5D3qDDiNAbPpxigcTI0B41jQpYRcjQJ718KGSGyNAFZCgFp4fI0Difz6DhSMjQDGCBcFKJyNAuQpeie8qI0CtMn14dS4jQHrYxg/eMSNAXO3vtyo1I0BeYPTCXDgjQLpo1211OyNAUvM94nU+I0BhBOU3X0EjQB+/83UyRCNAZLsxlPBGI0CKFyN8mkkjQIGBCgoxTCNAze7WDbVOI0C9H/5LJ1EjQD4+Q36IUyNAUExvVNlVI0ADz/p0GlgjQHPGqH1MWiNA2TMXBHBcI0Di7EOWhV4jQKmlB7uNYCNA0neG8ohiI0Aa6Ja2d2QjQNk3K3taZiNAJOeorjFoI0BG1TS6/WkjQFACEgK/ayNA3TTU5XVtI0Dj4LvAIm8jQJJU3unFcCNAja52tF9yI0DHMghw8HMjQKHOpGh4dSNAei0L5/d2I0Cebegwb3gjQP7A6ojeeSNAWXT+LkZ7I0AXEWJgpnwjQD991lf/fSNAW721TVF/I0Bg0xd4nIAjQLsO7QrhgSNA3H0YOB+DI0A=\",\"dtype\":\"float64\",\"shape\":[100]}},\"selected\":{\"id\":\"3989\",\"type\":\"Selection\"},\"selection_policy\":{\"id\":\"3990\",\"type\":\"UnionRenderers\"}},\"id\":\"3828\",\"type\":\"ColumnDataSource\"},{\"attributes\":{\"dimension\":1,\"ticker\":{\"id\":\"3784\",\"type\":\"BasicTicker\"}},\"id\":\"3787\",\"type\":\"Grid\"},{\"attributes\":{\"text\":\"Proton transport through proton pump\"},\"id\":\"3768\",\"type\":\"Title\"},{\"attributes\":{\"label\":{\"value\":\"metabolite_atp\"},\"renderers\":[{\"id\":\"3831\",\"type\":\"GlyphRenderer\"}]},\"id\":\"3843\",\"type\":\"LegendItem\"},{\"attributes\":{\"active_drag\":\"auto\",\"active_inspect\":\"auto\",\"active_multi\":null,\"active_scroll\":\"auto\",\"active_tap\":\"auto\",\"tools\":[{\"id\":\"3788\",\"type\":\"PanTool\"},{\"id\":\"3789\",\"type\":\"WheelZoomTool\"},{\"id\":\"3790\",\"type\":\"BoxZoomTool\"},{\"id\":\"3791\",\"type\":\"SaveTool\"},{\"id\":\"3792\",\"type\":\"ResetTool\"},{\"id\":\"3793\",\"type\":\"HelpTool\"}]},\"id\":\"3794\",\"type\":\"Toolbar\"},{\"attributes\":{\"axis_label\":\"time (sec)\",\"formatter\":{\"id\":\"3807\",\"type\":\"BasicTickFormatter\"},\"ticker\":{\"id\":\"3779\",\"type\":\"BasicTicker\"}},\"id\":\"3778\",\"type\":\"LinearAxis\"},{\"attributes\":{\"label\":{\"value\":\"proton_inside_H\"},\"renderers\":[{\"id\":\"3817\",\"type\":\"GlyphRenderer\"}]},\"id\":\"3827\",\"type\":\"LegendItem\"},{\"attributes\":{},\"id\":\"3807\",\"type\":\"BasicTickFormatter\"},{\"attributes\":{},\"id\":\"3774\",\"type\":\"LinearScale\"},{\"attributes\":{},\"id\":\"3809\",\"type\":\"BasicTickFormatter\"},{\"attributes\":{\"callback\":null},\"id\":\"3772\",\"type\":\"DataRange1d\"},{\"attributes\":{},\"id\":\"3776\",\"type\":\"LinearScale\"},{\"attributes\":{\"bottom_units\":\"screen\",\"fill_alpha\":{\"value\":0.5},\"fill_color\":{\"value\":\"lightgrey\"},\"left_units\":\"screen\",\"level\":\"overlay\",\"line_alpha\":{\"value\":1.0},\"line_color\":{\"value\":\"black\"},\"line_dash\":[4,4],\"line_width\":{\"value\":2},\"render_mode\":\"css\",\"right_units\":\"screen\",\"top_units\":\"screen\"},\"id\":\"3811\",\"type\":\"BoxAnnotation\"},{\"attributes\":{},\"id\":\"3824\",\"type\":\"Selection\"},{\"attributes\":{\"axis_label\":\"concentration\",\"formatter\":{\"id\":\"3809\",\"type\":\"BasicTickFormatter\"},\"ticker\":{\"id\":\"3784\",\"type\":\"BasicTicker\"}},\"id\":\"3783\",\"type\":\"LinearAxis\"},{\"attributes\":{\"source\":{\"id\":\"3801\",\"type\":\"ColumnDataSource\"}},\"id\":\"3805\",\"type\":\"CDSView\"},{\"attributes\":{},\"id\":\"3784\",\"type\":\"BasicTicker\"},{\"attributes\":{\"source\":{\"id\":\"3814\",\"type\":\"ColumnDataSource\"}},\"id\":\"3818\",\"type\":\"CDSView\"},{\"attributes\":{\"source\":{\"id\":\"3828\",\"type\":\"ColumnDataSource\"}},\"id\":\"3832\",\"type\":\"CDSView\"},{\"attributes\":{},\"id\":\"3788\",\"type\":\"PanTool\"},{\"attributes\":{\"data_source\":{\"id\":\"3814\",\"type\":\"ColumnDataSource\"},\"glyph\":{\"id\":\"3815\",\"type\":\"Line\"},\"hover_glyph\":null,\"muted_glyph\":null,\"nonselection_glyph\":{\"id\":\"3816\",\"type\":\"Line\"},\"selection_glyph\":null,\"view\":{\"id\":\"3818\",\"type\":\"CDSView\"}},\"id\":\"3817\",\"type\":\"GlyphRenderer\"},{\"attributes\":{\"callback\":null,\"data\":{\"x\":{\"__ndarray__\":\"AAAAAAAAAABbv1Kg1q+UP1u/UqDWr6Q/CB988MEHrz9bv1Kg1q+0PzJvZ0jM27k/CB988MEHvz9wZ0jM2xnCP1u/UqDWr8Q/RhdddNFFxz8yb2dIzNvJPx3HcRzHccw/CB988MEHzz96O0Ni3s7QP3BnSMzbGdI/ZZNNNtlk0z9bv1Kg1q/UP1HrVwrU+tU/RhdddNFF1z88Q2LezpDYPzJvZ0jM29k/J5tssskm2z8dx3Ecx3HcPxPzdobEvN0/CB988MEH3z9/pUCtXyngP3o7Q2LezuA/ddFFF1104T9wZ0jM2xniP2r9SoFav+I/ZZNNNtlk4z9gKVDrVwrkP1u/UqDWr+Q/VlVVVVVV5T9R61cK1PrlP0yBWr9SoOY/RhdddNFF5z9BrV8pUOvnPzxDYt7OkOg/N9lkk0026T8yb2dIzNvpPy0Fav1Kgeo/J5tssskm6z8iMW9nSMzrPx3HcRzHcew/GF100UUX7T8T83aGxLztPw6JeTtDYu4/CB988MEH7z8DtX6lQK3vP3+lQK1fKfA/ffDBBx988D96O0Ni3s7wP3eGxLydIfE/ddFFF1108T9yHMdxHMfxP3BnSMzbGfI/bbLJJpts8j9q/UqBWr/yP2hIzNsZEvM/ZZNNNtlk8z9j3s6QmLfzP2ApUOtXCvQ/XnTRRRdd9D9bv1Kg1q/0P1gK1PqVAvU/VlVVVVVV9T9ToNavFKj1P1HrVwrU+vU/TjbZZJNN9j9MgVq/UqD2P0nM2xkS8/Y/RhdddNFF9z9EYt7OkJj3P0GtXylQ6/c/P/jggw8++D88Q2LezpD4PzmO4ziO4/g/N9lkk002+T80JObtDIn5PzJvZ0jM2/k/L7rooosu+j8tBWr9SoH6PypQ61cK1Po/J5tssskm+z8l5u0MiXn7PyIxb2dIzPs/IHzwwQcf/D8dx3Ecx3H8PxsS83aGxPw/GF100UUX/T8VqPUrBWr9PxPzdobEvP0/ED744IMP/j8OiXk7Q2L+PwvU+pUCtf4/CB988MEH/z8Gav1KgVr/PwO1fqVArf8/AAAAAAAAAEA=\",\"dtype\":\"float64\",\"shape\":[100]},\"y\":{\"__ndarray__\":\"AAAAAAAAJEBNuBo97gMhQICkDijF8xxAqANV07GhGED+w4RqrvQUQEz80/oY1BFAissmPflVDkD2uIUbCs8JQIG1hUcO9QVAaOT5cjauAkDYf2OrGsn/P+ao6w/JCvs/7zMMpa4B9z8cFmNawJLzP7wOnUT8pvA/Le6B355V7D+IfT9nJRvoP2u61zY2guQ/35pQ6bVy4T81cLYkRLDdP4zV/JsPQtk/bXUgph191T/4nOXwK0jSP9F680t6G88/o5Zj0hF3yj/++MeoAoTGP4DHf3fVJ8M/UCZwAAZMwD86tzp12Lq7P2k9Ie13l7c/mgMDRy8StD8Rz7TLZhOxP5wL5S0YDq0/MhViKhe4qD+sc3EmvAelP/tesctO5KE/1aWVS45xnj9VgRtsgeaZP7jOoRoFCZY/4DpnkjK/kj9s8+UkAeaPP6oQA3FfI4s/gjRqsJkWhz+ANw49jKSDPxpCcUIgtoA//GNmDmJvfD9LEC1tEDF4P0su0+rblHQ/jwtXPpOCcT/O+X+vQsttP+zRkOgGWWk/tXobmqeQZT+Q78F1y1hiP3V2VT3DN18/zWcYNiKPWj/UHjnDe5hWP3hAL75AOVM/IdBL2ddaUD+ILf+cD9RLPyUVTazqrEc/X56eO24kRD8CQKRY7CJBP32Mn3qAKD0/bLAEc47OOD+1DB/T2Bo1P3smtfKQ9DE/y+D1zzeNLj9Gb2FBCf4pP7fOXGQJHSY/6/EFTTrQIj817xpYfQEgP+6twRIFPBs/CPo1zpErFz8gS5jzYrYTP6H3yRtNxRA/F2yS9TOJDD/GRhobB0cIPzU53yKGpwQ/YXc+cWySAT9zcE7qSeb9PuH1OrkfcPk+q+SPJmKk9T7CSwicrWnyPrpKh1hvVO8+nqxf4oan6j4cFtpnLK3mPqp1EOvlSuM+RixFJ9Jp4D47/Qkpmu3bPkJXNkOTwtc+LRH+uuk21D5HCiTZkTLRPsHvyW8gQ80+JjCUSRXlyD4Z2V3z/C3FPqLvDmzKBMI+PRXBWcSovj52HOK4bRW6PolGkCrYMLY+CJabQw7hsj4=\",\"dtype\":\"float64\",\"shape\":[100]}},\"selected\":{\"id\":\"3840\",\"type\":\"Selection\"},\"selection_policy\":{\"id\":\"3841\",\"type\":\"UnionRenderers\"}},\"id\":\"3814\",\"type\":\"ColumnDataSource\"},{\"attributes\":{\"line_color\":\"#2ba02b\",\"line_width\":2,\"x\":{\"field\":\"x\"},\"y\":{\"field\":\"y\"}},\"id\":\"3829\",\"type\":\"Line\"},{\"attributes\":{},\"id\":\"3840\",\"type\":\"Selection\"},{\"attributes\":{\"ticker\":{\"id\":\"3779\",\"type\":\"BasicTicker\"}},\"id\":\"3782\",\"type\":\"Grid\"},{\"attributes\":{\"line_color\":\"#ff7e0e\",\"line_width\":2,\"x\":{\"field\":\"x\"},\"y\":{\"field\":\"y\"}},\"id\":\"3815\",\"type\":\"Line\"},{\"attributes\":{\"label\":{\"value\":\"proton_outside_H\"},\"renderers\":[{\"id\":\"3804\",\"type\":\"GlyphRenderer\"}]},\"id\":\"3813\",\"type\":\"LegendItem\"},{\"attributes\":{\"line_alpha\":0.1,\"line_color\":\"#1f77b4\",\"line_width\":2,\"x\":{\"field\":\"x\"},\"y\":{\"field\":\"y\"}},\"id\":\"3830\",\"type\":\"Line\"},{\"attributes\":{},\"id\":\"3793\",\"type\":\"HelpTool\"},{\"attributes\":{},\"id\":\"3825\",\"type\":\"UnionRenderers\"},{\"attributes\":{},\"id\":\"3989\",\"type\":\"Selection\"},{\"attributes\":{\"line_alpha\":0.1,\"line_color\":\"#1f77b4\",\"line_width\":2,\"x\":{\"field\":\"x\"},\"y\":{\"field\":\"y\"}},\"id\":\"3816\",\"type\":\"Line\"},{\"attributes\":{\"data_source\":{\"id\":\"3828\",\"type\":\"ColumnDataSource\"},\"glyph\":{\"id\":\"3829\",\"type\":\"Line\"},\"hover_glyph\":null,\"muted_glyph\":null,\"nonselection_glyph\":{\"id\":\"3830\",\"type\":\"Line\"},\"selection_glyph\":null,\"view\":{\"id\":\"3832\",\"type\":\"CDSView\"}},\"id\":\"3831\",\"type\":\"GlyphRenderer\"},{\"attributes\":{\"items\":[{\"id\":\"3813\",\"type\":\"LegendItem\"},{\"id\":\"3827\",\"type\":\"LegendItem\"},{\"id\":\"3843\",\"type\":\"LegendItem\"}],\"location\":\"center_right\"},\"id\":\"3812\",\"type\":\"Legend\"},{\"attributes\":{\"line_color\":\"#1f77b3\",\"line_width\":2,\"x\":{\"field\":\"x\"},\"y\":{\"field\":\"y\"}},\"id\":\"3802\",\"type\":\"Line\"},{\"attributes\":{},\"id\":\"3789\",\"type\":\"WheelZoomTool\"},{\"attributes\":{},\"id\":\"3792\",\"type\":\"ResetTool\"},{\"attributes\":{},\"id\":\"3990\",\"type\":\"UnionRenderers\"},{\"attributes\":{\"data_source\":{\"id\":\"3801\",\"type\":\"ColumnDataSource\"},\"glyph\":{\"id\":\"3802\",\"type\":\"Line\"},\"hover_glyph\":null,\"muted_glyph\":null,\"nonselection_glyph\":{\"id\":\"3803\",\"type\":\"Line\"},\"selection_glyph\":null,\"view\":{\"id\":\"3805\",\"type\":\"CDSView\"}},\"id\":\"3804\",\"type\":\"GlyphRenderer\"},{\"attributes\":{},\"id\":\"3791\",\"type\":\"SaveTool\"},{\"attributes\":{\"callback\":null,\"data\":{\"x\":{\"__ndarray__\":\"AAAAAAAAAABbv1Kg1q+UP1u/UqDWr6Q/CB988MEHrz9bv1Kg1q+0PzJvZ0jM27k/CB988MEHvz9wZ0jM2xnCP1u/UqDWr8Q/RhdddNFFxz8yb2dIzNvJPx3HcRzHccw/CB988MEHzz96O0Ni3s7QP3BnSMzbGdI/ZZNNNtlk0z9bv1Kg1q/UP1HrVwrU+tU/RhdddNFF1z88Q2LezpDYPzJvZ0jM29k/J5tssskm2z8dx3Ecx3HcPxPzdobEvN0/CB988MEH3z9/pUCtXyngP3o7Q2LezuA/ddFFF1104T9wZ0jM2xniP2r9SoFav+I/ZZNNNtlk4z9gKVDrVwrkP1u/UqDWr+Q/VlVVVVVV5T9R61cK1PrlP0yBWr9SoOY/RhdddNFF5z9BrV8pUOvnPzxDYt7OkOg/N9lkk0026T8yb2dIzNvpPy0Fav1Kgeo/J5tssskm6z8iMW9nSMzrPx3HcRzHcew/GF100UUX7T8T83aGxLztPw6JeTtDYu4/CB988MEH7z8DtX6lQK3vP3+lQK1fKfA/ffDBBx988D96O0Ni3s7wP3eGxLydIfE/ddFFF1108T9yHMdxHMfxP3BnSMzbGfI/bbLJJpts8j9q/UqBWr/yP2hIzNsZEvM/ZZNNNtlk8z9j3s6QmLfzP2ApUOtXCvQ/XnTRRRdd9D9bv1Kg1q/0P1gK1PqVAvU/VlVVVVVV9T9ToNavFKj1P1HrVwrU+vU/TjbZZJNN9j9MgVq/UqD2P0nM2xkS8/Y/RhdddNFF9z9EYt7OkJj3P0GtXylQ6/c/P/jggw8++D88Q2LezpD4PzmO4ziO4/g/N9lkk002+T80JObtDIn5PzJvZ0jM2/k/L7rooosu+j8tBWr9SoH6PypQ61cK1Po/J5tssskm+z8l5u0MiXn7PyIxb2dIzPs/IHzwwQcf/D8dx3Ecx3H8PxsS83aGxPw/GF100UUX/T8VqPUrBWr9PxPzdobEvP0/ED744IMP/j8OiXk7Q2L+PwvU+pUCtf4/CB988MEH/z8Gav1KgVr/PwO1fqVArf8/AAAAAAAAAEA=\",\"dtype\":\"float64\",\"shape\":[100]},\"y\":{\"__ndarray__\":\"AAAAAAAAAAC1PSoXjuD3Pwm34q91GAZAufhVWZy8DkAGPHuVUQsTQLgDLAXnKxZAQJpsYQPVGECKIz3yehgbQEUlPdx4BR1A0A2DxuSoHkAHkJOq3AYgQOWKAt6mniBAhXleK8ofIUBAnbP0p40hQC1ebHcg6yFAIuEHEqY6IkAsCIypTX4iQF6EkpzctyJAVvZqodToIkCCTNrefRIjQFgZIIPvNSNAWfzOEhdUI0Ac03igvm0jQBgy0BaSgyNAqXG2uCOWI0Af4Fz176UjQOUAIqpgsyNAaT/+58++I0CUihVPisgjQIi9JRDR0CNA/PlxodvXI0Bmlmgy2d0jQPga0ufx4iNA7p3V6EfnI0CQjtlD+OojQKRONLEb7iNAMDXaOMfwI0BD8km/DPMjQB2vcn379CNAZsy2ZqD2I0CHxrZ/BvgjQEC/Iyg3+SNAduWTWTr6I0B1vPDcFvsjQLJj73fS+yNANjO+E3L8I0BhWvLd+fwjQJ2lgmRt/SNAIjWYrc/9I0AECNVLI/4jQPZ2kW9q/iNATF6G9ab+I0Dko0hz2v4jQFgV5kEG/yNAQU/uhiv/I0A85iE8S/8jQIoO+jVm/yNApjVBKX3/I0AHjMGvkP8jQM9OVUyh/yNAihFHbq//I0BznU50u/8jQMUK/67F/yNA+xnjYs7/I0DHWU7K1f8jQJsa3hbc/yNADzDIcuH/I0CjvvYB5v8jQKeb9uLp/yNA/rLFL+3/I0Dpp4L+7/8jQKN2/WHy/yNA6Bg3avT/I0A4hs4k9v8jQB9yWZ33/yNAnwKz3fj/I0A+OT7u+f8jQEx3Htb6/yNAteNkm/v/I0C6wjZD/P8jQN0I/NH8/yNAMrtzS/3/I0CDTMqy/f8jQHwKuQr+/yNA3pGHVf7/I0CGOS2V/v8jQFOhUcv+/yNAkN1i+f7/I0C8LpMg//8jQOpl60H//yNALLJIXv//I0A7cWt2//8jQEV+84r//yNA3qprnP//I0A3DEir//8jQFTW7Lf//yNAUXeuwv//I0CTJNXL//8jQK9PntP//yNAfeM92v//I0A=\",\"dtype\":\"float64\",\"shape\":[100]}},\"selected\":{\"id\":\"3824\",\"type\":\"Selection\"},\"selection_policy\":{\"id\":\"3825\",\"type\":\"UnionRenderers\"}},\"id\":\"3801\",\"type\":\"ColumnDataSource\"},{\"attributes\":{\"line_alpha\":0.1,\"line_color\":\"#1f77b4\",\"line_width\":2,\"x\":{\"field\":\"x\"},\"y\":{\"field\":\"y\"}},\"id\":\"3803\",\"type\":\"Line\"}],\"root_ids\":[\"3767\"]},\"title\":\"Bokeh Application\",\"version\":\"1.4.0\"}};\n",
       "  var render_items = [{\"docid\":\"5840e1a7-4394-4e84-8df2-0ca7ccf5e727\",\"roots\":{\"3767\":\"5653f997-fb5a-40c9-8366-5d19d62efdec\"}}];\n",
       "  root.Bokeh.embed.embed_items_notebook(docs_json, render_items);\n",
       "\n",
       "  }\n",
       "  if (root.Bokeh !== undefined) {\n",
       "    embed_document(root);\n",
       "  } else {\n",
       "    var attempts = 0;\n",
       "    var timer = setInterval(function(root) {\n",
       "      if (root.Bokeh !== undefined) {\n",
       "        clearInterval(timer);\n",
       "        embed_document(root);\n",
       "      } else {\n",
       "        attempts++;\n",
       "        if (attempts > 100) {\n",
       "          clearInterval(timer);\n",
       "          console.log(\"Bokeh: ERROR: Unable to run BokehJS code because BokehJS library is missing\");\n",
       "        }\n",
       "      }\n",
       "    }, 10, root)\n",
       "  }\n",
       "})(window);"
      ],
      "application/vnd.bokehjs_exec.v0+json": ""
     },
     "metadata": {
      "application/vnd.bokehjs_exec.v0+json": {
       "id": "3767"
      }
     },
     "output_type": "display_data"
    }
   ],
   "source": [
    "p_protontransport = bokeh.plotting.figure(width = 450, height = 340, \n",
    "                         x_axis_label = 'time (sec)', y_axis_label = 'concentration',\n",
    "                         title = 'Proton transport through proton pump')\n",
    "plot_list = ['proton_outside_H', 'proton_inside_H', 'metabolite_atp']\n",
    "for i,item in enumerate(plot_list):\n",
    "    p_protontransport.line(timepoints, R_protontransport[item], legend_label = item, color = palette[i], line_width = 2)\n",
    "    \n",
    "p_protontransport.legend.location = 'center_right'\n",
    "bokeh.io.show(p_protontransport)"
   ]
  },
  {
   "cell_type": "markdown",
   "metadata": {},
   "source": [
    "## SBML for ATP Use\n",
    "---"
   ]
  },
  {
   "cell_type": "code",
   "execution_count": 3,
   "metadata": {},
   "outputs": [
    {
     "name": "stdout",
     "output_type": "stream",
     "text": [
      "Species (3) = {0. metabolite[adp], 1. metabolite[atp], 2. metabolite[pi]}\n",
      "Reactions (1) = [\n",
      "0. metabolite[atp] --> metabolite[adp] + metabolite[pi]        \n",
      "        massaction: k_f(metabolite[atp])=5*metabolite[atp]\n",
      "]\n"
     ]
    }
   ],
   "source": [
    "adp = Species('adp', material_type = 'metabolite')\n",
    "atp = Species('atp', material_type = 'metabolite')\n",
    "pi = Species('pi', material_type = 'metabolite')\n",
    "\n",
    "k_atp_use = 5\n",
    "\n",
    "R1_atpuse = Reaction([atp], [adp, pi], k_atp_use)\n",
    "\n",
    "\n",
    "CRN_atpuse = ChemicalReactionNetwork(species = [adp, atp, pi], reactions = [R1_atpuse])\n",
    "\n",
    "print(CRN_atpuse.pretty_print(show_materials = True, show_rates = True, show_attributes = True))"
   ]
  },
  {
   "cell_type": "code",
   "execution_count": 4,
   "metadata": {},
   "outputs": [
    {
     "data": {
      "text/plain": [
       "True"
      ]
     },
     "execution_count": 4,
     "metadata": {},
     "output_type": "execute_result"
    }
   ],
   "source": [
    "# Write SBML file\n",
    "CRN_atpuse.write_sbml_file('atp_use.xml')"
   ]
  },
  {
   "cell_type": "code",
   "execution_count": 5,
   "metadata": {},
   "outputs": [],
   "source": [
    "timepoints = np.linspace(0,2,100)\n",
    "x0_atpuse = {'metabolite_atp':10}\n",
    "R_atpuse = CRN_atpuse.simulate_with_bioscrape(timepoints, initial_condition_dict = x0_atpuse)"
   ]
  },
  {
   "cell_type": "code",
   "execution_count": 8,
   "metadata": {},
   "outputs": [
    {
     "data": {
      "text/html": [
       "\n",
       "\n",
       "\n",
       "\n",
       "\n",
       "\n",
       "  <div class=\"bk-root\" id=\"7a6309b4-e64a-438f-82f0-3ddab1625b4f\" data-root-id=\"1036\"></div>\n"
      ]
     },
     "metadata": {},
     "output_type": "display_data"
    },
    {
     "data": {
      "application/javascript": [
       "(function(root) {\n",
       "  function embed_document(root) {\n",
       "    \n",
       "  var docs_json = {\"2c3d387e-f58e-44fd-a611-dff081713faf\":{\"roots\":{\"references\":[{\"attributes\":{\"below\":[{\"id\":\"1047\",\"type\":\"LinearAxis\"}],\"center\":[{\"id\":\"1051\",\"type\":\"Grid\"},{\"id\":\"1056\",\"type\":\"Grid\"},{\"id\":\"1081\",\"type\":\"Legend\"}],\"left\":[{\"id\":\"1052\",\"type\":\"LinearAxis\"}],\"plot_height\":340,\"plot_width\":450,\"renderers\":[{\"id\":\"1073\",\"type\":\"GlyphRenderer\"}],\"title\":{\"id\":\"1037\",\"type\":\"Title\"},\"toolbar\":{\"id\":\"1063\",\"type\":\"Toolbar\"},\"x_range\":{\"id\":\"1039\",\"type\":\"DataRange1d\"},\"x_scale\":{\"id\":\"1043\",\"type\":\"LinearScale\"},\"y_range\":{\"id\":\"1041\",\"type\":\"DataRange1d\"},\"y_scale\":{\"id\":\"1045\",\"type\":\"LinearScale\"}},\"id\":\"1036\",\"subtype\":\"Figure\",\"type\":\"Plot\"},{\"attributes\":{\"dimension\":1,\"ticker\":{\"id\":\"1053\",\"type\":\"BasicTicker\"}},\"id\":\"1056\",\"type\":\"Grid\"},{\"attributes\":{\"bottom_units\":\"screen\",\"fill_alpha\":{\"value\":0.5},\"fill_color\":{\"value\":\"lightgrey\"},\"left_units\":\"screen\",\"level\":\"overlay\",\"line_alpha\":{\"value\":1.0},\"line_color\":{\"value\":\"black\"},\"line_dash\":[4,4],\"line_width\":{\"value\":2},\"render_mode\":\"css\",\"right_units\":\"screen\",\"top_units\":\"screen\"},\"id\":\"1080\",\"type\":\"BoxAnnotation\"},{\"attributes\":{\"source\":{\"id\":\"1070\",\"type\":\"ColumnDataSource\"}},\"id\":\"1074\",\"type\":\"CDSView\"},{\"attributes\":{\"active_drag\":\"auto\",\"active_inspect\":\"auto\",\"active_multi\":null,\"active_scroll\":\"auto\",\"active_tap\":\"auto\",\"tools\":[{\"id\":\"1057\",\"type\":\"PanTool\"},{\"id\":\"1058\",\"type\":\"WheelZoomTool\"},{\"id\":\"1059\",\"type\":\"BoxZoomTool\"},{\"id\":\"1060\",\"type\":\"SaveTool\"},{\"id\":\"1061\",\"type\":\"ResetTool\"},{\"id\":\"1062\",\"type\":\"HelpTool\"}]},\"id\":\"1063\",\"type\":\"Toolbar\"},{\"attributes\":{\"callback\":null,\"data\":{\"x\":{\"__ndarray__\":\"AAAAAAAAAABbv1Kg1q+UP1u/UqDWr6Q/CB988MEHrz9bv1Kg1q+0PzJvZ0jM27k/CB988MEHvz9wZ0jM2xnCP1u/UqDWr8Q/RhdddNFFxz8yb2dIzNvJPx3HcRzHccw/CB988MEHzz96O0Ni3s7QP3BnSMzbGdI/ZZNNNtlk0z9bv1Kg1q/UP1HrVwrU+tU/RhdddNFF1z88Q2LezpDYPzJvZ0jM29k/J5tssskm2z8dx3Ecx3HcPxPzdobEvN0/CB988MEH3z9/pUCtXyngP3o7Q2LezuA/ddFFF1104T9wZ0jM2xniP2r9SoFav+I/ZZNNNtlk4z9gKVDrVwrkP1u/UqDWr+Q/VlVVVVVV5T9R61cK1PrlP0yBWr9SoOY/RhdddNFF5z9BrV8pUOvnPzxDYt7OkOg/N9lkk0026T8yb2dIzNvpPy0Fav1Kgeo/J5tssskm6z8iMW9nSMzrPx3HcRzHcew/GF100UUX7T8T83aGxLztPw6JeTtDYu4/CB988MEH7z8DtX6lQK3vP3+lQK1fKfA/ffDBBx988D96O0Ni3s7wP3eGxLydIfE/ddFFF1108T9yHMdxHMfxP3BnSMzbGfI/bbLJJpts8j9q/UqBWr/yP2hIzNsZEvM/ZZNNNtlk8z9j3s6QmLfzP2ApUOtXCvQ/XnTRRRdd9D9bv1Kg1q/0P1gK1PqVAvU/VlVVVVVV9T9ToNavFKj1P1HrVwrU+vU/TjbZZJNN9j9MgVq/UqD2P0nM2xkS8/Y/RhdddNFF9z9EYt7OkJj3P0GtXylQ6/c/P/jggw8++D88Q2LezpD4PzmO4ziO4/g/N9lkk002+T80JObtDIn5PzJvZ0jM2/k/L7rooosu+j8tBWr9SoH6PypQ61cK1Po/J5tssskm+z8l5u0MiXn7PyIxb2dIzPs/IHzwwQcf/D8dx3Ecx3H8PxsS83aGxPw/GF100UUX/T8VqPUrBWr9PxPzdobEvP0/ED744IMP/j8OiXk7Q2L+PwvU+pUCtf4/CB988MEH/z8Gav1KgVr/PwO1fqVArf8/AAAAAAAAAEA=\",\"dtype\":\"float64\",\"shape\":[100]},\"y\":{\"__ndarray__\":\"AAAAAAAAJECivtciFxQiQBTpEAdxVyBArQoAiwaLHUBM0gBKZrQaQCAovcCVIxhAWaQx49/RFUDQ24edNLkTQPiuaPkY1BFA+2YPzZgdEECcIqOGcyINQM2KlFTfVQpAdk+VvCPOB0AI5DZxo4QFQImBg9RjcwNASfPVVv2UAUCguKKrGsn/P5FONq9Su/w/mM7T+qb4+T8a6nEu4Hn3PyBFpGZ4OPU/QWOrLoou8z9gwZEYwVbxPyzOTpqXWO8/8kK55p5V7D9q0eOcuJzpP6J6w+fGJuc/wbhL+lrt5D++Bhw/pOriP7ZtNCZhGeE/oF2Ay6Lp3j+77XcdU/HbP7qHP6gPQtk/a/VxyNPU1j8ZfWVyR6PUP1rm2aiup9I/i8dHdtrc0D/cbhTCNnzOPw/xEl9qjss/eCDpoafoyD9iV0q+AoTGP5l2bSI6WsQ/xqJXGKZlwj/8nToFKqHAP0/ZwwxOEL4/p/DnvN8suz9iHxAbfJC4P4BuE81PNLY/LUHDbS8StD/tLi9MhySyP7dFuuRMZrA/Z+xHX+OlrT9fzpJtrsyqP72e+a6IOag/ExEz+rblpT/6ZdG+I8ujP0ms4gJP5KE/GGgvIEAsoD+HRExb8TydP3xRA5rRbZo/LyS8E8njlz93zmFrNJiVP1Y+QpMThZM/oH+PFPqkkT9EGtvBAeaPP1BYAepy1Yw/rluKqEQQij8wWEoGOY+HP5htSzbES4U/XTNlZvs/gz/EEoBWhWaBPzkiYogYdX8/JjNxymJvfD9M/VvMArR5P7QtTErUO3c/J0Y3lGIAdT9CaCnU1/tyP5DRNKjtKHE/x7sO+L4Fbz/PxJXpuwpsPxETx4gHWWk/3Op5vpbpZj9mEfzJC7ZkP9qfNWuluGI/XE1TADDsYD918jWK75deP6jqXVt5p1s/qmP5Sk7/WD9IMxJQfJhWP+sU4Bu8bFQ/N3fY42B2Uj94WnNfSbBQP0asu0ilK04/RdWgypZFSz9i6Nsx06ZIP48WgU+BSEY/ABlx+W8kRD8xpmEqBjVCP2GLlqo1dUA/ibLQ/tbAPT8=\",\"dtype\":\"float64\",\"shape\":[100]}},\"selected\":{\"id\":\"1090\",\"type\":\"Selection\"},\"selection_policy\":{\"id\":\"1089\",\"type\":\"UnionRenderers\"}},\"id\":\"1070\",\"type\":\"ColumnDataSource\"},{\"attributes\":{},\"id\":\"1057\",\"type\":\"PanTool\"},{\"attributes\":{\"label\":{\"value\":\"metabolite_atp\"},\"renderers\":[{\"id\":\"1073\",\"type\":\"GlyphRenderer\"}]},\"id\":\"1082\",\"type\":\"LegendItem\"},{\"attributes\":{\"text\":\"ATP Use\"},\"id\":\"1037\",\"type\":\"Title\"},{\"attributes\":{},\"id\":\"1058\",\"type\":\"WheelZoomTool\"},{\"attributes\":{\"callback\":null},\"id\":\"1039\",\"type\":\"DataRange1d\"},{\"attributes\":{\"overlay\":{\"id\":\"1080\",\"type\":\"BoxAnnotation\"}},\"id\":\"1059\",\"type\":\"BoxZoomTool\"},{\"attributes\":{},\"id\":\"1078\",\"type\":\"BasicTickFormatter\"},{\"attributes\":{},\"id\":\"1060\",\"type\":\"SaveTool\"},{\"attributes\":{\"line_color\":\"#1f77b3\",\"line_width\":2,\"x\":{\"field\":\"x\"},\"y\":{\"field\":\"y\"}},\"id\":\"1071\",\"type\":\"Line\"},{\"attributes\":{\"callback\":null},\"id\":\"1041\",\"type\":\"DataRange1d\"},{\"attributes\":{},\"id\":\"1076\",\"type\":\"BasicTickFormatter\"},{\"attributes\":{},\"id\":\"1061\",\"type\":\"ResetTool\"},{\"attributes\":{},\"id\":\"1043\",\"type\":\"LinearScale\"},{\"attributes\":{},\"id\":\"1062\",\"type\":\"HelpTool\"},{\"attributes\":{\"items\":[{\"id\":\"1082\",\"type\":\"LegendItem\"}],\"location\":\"center_right\"},\"id\":\"1081\",\"type\":\"Legend\"},{\"attributes\":{},\"id\":\"1045\",\"type\":\"LinearScale\"},{\"attributes\":{\"axis_label\":\"concentration\",\"formatter\":{\"id\":\"1076\",\"type\":\"BasicTickFormatter\"},\"ticker\":{\"id\":\"1053\",\"type\":\"BasicTicker\"}},\"id\":\"1052\",\"type\":\"LinearAxis\"},{\"attributes\":{\"axis_label\":\"time (sec)\",\"formatter\":{\"id\":\"1078\",\"type\":\"BasicTickFormatter\"},\"ticker\":{\"id\":\"1048\",\"type\":\"BasicTicker\"}},\"id\":\"1047\",\"type\":\"LinearAxis\"},{\"attributes\":{},\"id\":\"1048\",\"type\":\"BasicTicker\"},{\"attributes\":{\"line_alpha\":0.1,\"line_color\":\"#1f77b4\",\"line_width\":2,\"x\":{\"field\":\"x\"},\"y\":{\"field\":\"y\"}},\"id\":\"1072\",\"type\":\"Line\"},{\"attributes\":{},\"id\":\"1090\",\"type\":\"Selection\"},{\"attributes\":{\"data_source\":{\"id\":\"1070\",\"type\":\"ColumnDataSource\"},\"glyph\":{\"id\":\"1071\",\"type\":\"Line\"},\"hover_glyph\":null,\"muted_glyph\":null,\"nonselection_glyph\":{\"id\":\"1072\",\"type\":\"Line\"},\"selection_glyph\":null,\"view\":{\"id\":\"1074\",\"type\":\"CDSView\"}},\"id\":\"1073\",\"type\":\"GlyphRenderer\"},{\"attributes\":{},\"id\":\"1089\",\"type\":\"UnionRenderers\"},{\"attributes\":{\"ticker\":{\"id\":\"1048\",\"type\":\"BasicTicker\"}},\"id\":\"1051\",\"type\":\"Grid\"},{\"attributes\":{},\"id\":\"1053\",\"type\":\"BasicTicker\"}],\"root_ids\":[\"1036\"]},\"title\":\"Bokeh Application\",\"version\":\"1.4.0\"}};\n",
       "  var render_items = [{\"docid\":\"2c3d387e-f58e-44fd-a611-dff081713faf\",\"roots\":{\"1036\":\"7a6309b4-e64a-438f-82f0-3ddab1625b4f\"}}];\n",
       "  root.Bokeh.embed.embed_items_notebook(docs_json, render_items);\n",
       "\n",
       "  }\n",
       "  if (root.Bokeh !== undefined) {\n",
       "    embed_document(root);\n",
       "  } else {\n",
       "    var attempts = 0;\n",
       "    var timer = setInterval(function(root) {\n",
       "      if (root.Bokeh !== undefined) {\n",
       "        clearInterval(timer);\n",
       "        embed_document(root);\n",
       "      } else {\n",
       "        attempts++;\n",
       "        if (attempts > 100) {\n",
       "          clearInterval(timer);\n",
       "          console.log(\"Bokeh: ERROR: Unable to run BokehJS code because BokehJS library is missing\");\n",
       "        }\n",
       "      }\n",
       "    }, 10, root)\n",
       "  }\n",
       "})(window);"
      ],
      "application/vnd.bokehjs_exec.v0+json": ""
     },
     "metadata": {
      "application/vnd.bokehjs_exec.v0+json": {
       "id": "1036"
      }
     },
     "output_type": "display_data"
    }
   ],
   "source": [
    "p_atpuse = bokeh.plotting.figure(width = 450, height = 340, \n",
    "                         x_axis_label = 'time (sec)', y_axis_label = 'concentration',\n",
    "                         title = 'ATP Use')\n",
    "plot_list = ['metabolite_atp']\n",
    "for i,item in enumerate(plot_list):\n",
    "    p_atpuse.line(timepoints, R_atpuse[item], legend_label = item, color = palette[i], line_width = 2)\n",
    "    \n",
    "p_atpuse.legend.location = 'center_right'\n",
    "bokeh.io.show(p_atpuse)"
   ]
  }
 ],
 "metadata": {
  "kernelspec": {
   "display_name": "Python 3",
   "language": "python",
   "name": "python3"
  },
  "language_info": {
   "codemirror_mode": {
    "name": "ipython",
    "version": 3
   },
   "file_extension": ".py",
   "mimetype": "text/x-python",
   "name": "python",
   "nbconvert_exporter": "python",
   "pygments_lexer": "ipython3",
   "version": "3.7.7"
  }
 },
 "nbformat": 4,
 "nbformat_minor": 4
}
