{
 "cells": [
  {
   "cell_type": "markdown",
   "metadata": {},
   "source": [
    "# Reduced Model with autoreduce attempt 4\n",
    "Here, we will try to implement the load_SBML_model() function<br>\n",
    "7.1.2020 <br>"
   ]
  },
  {
   "cell_type": "markdown",
   "metadata": {},
   "source": [
    "From the sbml, we want to be able to extract all the species and assign them an x[i]. <br>\n",
    "Look for some code that writes SBML to ODE in strings <br>\n",
    "either SBML to ODE or SBML to sympy directly <br>\n",
    "sympy provides some functions where it can convert ODEs to sympy objects as well <br>\n",
    "```\n",
    "for species in model.getListOfSpecies():\n",
    "\tadd species.getId() string as symbolic object\n",
    "for reaction in model.getListOfReactions():\n",
    "\tuse reaction.getKineticLaw().getFormula() to get formula string for each reaction\n",
    "\textract the ODE RHS for each species symbol created earlier\n",
    "\tstore in f\n",
    "```\n",
    "SBML to ODE creator code (probably online) <br>\n",
    "because I have used COPASI where you can load an SBML model and they display the ODEs for you (equation for each species, that is basically f)"
   ]
  },
  {
   "cell_type": "markdown",
   "metadata": {},
   "source": [
    "## Try to use SBMLtoODEpy package"
   ]
  },
  {
   "cell_type": "code",
   "execution_count": 1,
   "metadata": {},
   "outputs": [],
   "source": [
    "import sbmltoodepy\n",
    "#sbmltoodepy.utilities.TestPackage()"
   ]
  },
  {
   "cell_type": "code",
   "execution_count": 3,
   "metadata": {},
   "outputs": [],
   "source": [
    "# Create the CRN.py file \n",
    "sbmltoodepy.ParseAndCreateModel(\"CRN.xml\")\n"
   ]
  },
  {
   "cell_type": "code",
   "execution_count": 5,
   "metadata": {},
   "outputs": [],
   "source": [
    "# Get the model from that CRN.py file and instantiate the model\n",
    "from CRN import SBMLmodel\n",
    "modelInstance = SBMLmodel()"
   ]
  },
  {
   "cell_type": "code",
   "execution_count": 37,
   "metadata": {},
   "outputs": [
    {
     "name": "stdout",
     "output_type": "stream",
     "text": [
      "dict_keys(['enzyme_hex', 'metabolite_atp', 'molecule_glucose', 'molecule_g6p', 'metabolite_adp', 'complex_enzyme_hex_metabolite_atp_molecule_glucose', 'complex_enzyme_hex_metabolite_adp_molecule_g6p', 'enzyme_pgi', 'molecule_f6p', 'complex_enzyme_pgi_molecule_g6p', 'complex_enzyme_pgi_molecule_f6p', 'enzyme_pfk', 'molecule_f16p', 'complex_enzyme_pfk_metabolite_atp_molecule_f6p', 'complex_enzyme_pfk_metabolite_adp_molecule_f16p', 'enzyme_ald_tpi', 'molecule_g3p', 'complex_enzyme_ald_tpi_molecule_f16p', 'complex_enzyme_ald_tpi_2x_molecule_g3p', 'enzyme_gapN', 'metabolite_nadp', 'molecule_3pg', 'metabolite_nadph', 'complex_enzyme_gapN_2x_metabolite_nadp_2x_molecule_g3p', 'complex_enzyme_gapN_2x_metabolite_nadph_2x_molecule_3pg', 'enzyme_mGapDH', 'metabolite_pi', 'molecule_13bpg', 'complex_enzyme_mGapDH_2x_metabolite_nadp_metabolite_pi_2x_molecule_g3p', 'complex_enzyme_mGapDH_2x_metabolite_nadph_molecule_13bpg', 'enzyme_pgk', 'complex_enzyme_pgk_metabolite_adp_molecule_13bpg', 'complex_enzyme_pgk_metabolite_atp_2x_molecule_3pg', 'enzyme_pgm', 'molecule_2pg', 'complex_enzyme_pgm_2x_molecule_3pg', 'complex_enzyme_pgm_2x_molecule_2pg', 'enzyme_eno', 'molecule_pep', 'complex_enzyme_eno_2x_molecule_2pg', 'complex_enzyme_eno_2x_molecule_pep', 'enzyme_pyk', 'molecule_pyruvate', 'complex_enzyme_pyk_2x_metabolite_adp_2x_molecule_pep', 'complex_enzyme_pyk_2x_metabolite_atp_2x_molecule_pyruvate', 'enzyme_alsS', 'molecule_acetolac', 'complex_enzyme_alsS_2x_molecule_pyruvate', 'complex_enzyme_alsS_molecule_acetolac', 'enzyme_IlvC', 'molecule_23dih3mebut', 'complex_enzyme_IlvC_metabolite_nadph_molecule_acetolac', 'complex_enzyme_IlvC_metabolite_nadp_molecule_23dih3mebut', 'enzyme_IlvD', 'molecule_3me2oxo', 'complex_enzyme_IlvD_molecule_23dih3mebut', 'complex_enzyme_IlvD_molecule_3me2oxo', 'enzyme_kivD', 'molecule_isobutanal', 'complex_enzyme_kivD_molecule_3me2oxo', 'complex_enzyme_kivD_molecule_isobutanal', 'enzyme_yahk', 'molecule_isobutanol', 'complex_enzyme_yahk_metabolite_nadph_molecule_isobutanal', 'complex_enzyme_yahk_metabolite_nadp_molecule_isobutanol', 'enzyme_atpase', 'complex_enzyme_atpase_metabolite_atp', 'complex_enzyme_atpase_metabolite_adp_metabolite_pi'])\n",
      "\n",
      "\n",
      "dict_keys(['r0', 'r0_1', 'r2', 'r3', 'r3_1', 'r5', 'r5_1', 'r7', 'r8', 'r8_1', 'r10', 'r10_1', 'r12', 'r13', 'r13_1', 'r15', 'r15_1', 'r17', 'r18', 'r18_1', 'r20', 'r20_1', 'r22', 'r23', 'r23_1', 'r25', 'r25_1', 'r27', 'r28', 'r28_1', 'r30', 'r30_1', 'r32', 'r33', 'r33_1', 'r35', 'r35_1', 'r37', 'r38', 'r38_1', 'r40', 'r40_1', 'r42', 'r43', 'r43_1', 'r45', 'r45_1', 'r47', 'r48', 'r48_1', 'r50', 'r50_1', 'r52', 'r53', 'r53_1', 'r55', 'r55_1', 'r57', 'r58', 'r58_1', 'r60', 'r60_1', 'r62', 'r63', 'r63_1', 'r65', 'r65_1', 'r67', 'r68', 'r68_1', 'r70', 'r70_1', 'r72', 'r73', 'r73_1', 'r75', 'r75_1', 'r77', 'r78', 'r78_1'])\n"
     ]
    }
   ],
   "source": [
    "# Take a look at the species and reactions\n",
    "print(modelInstance.s.keys())\n",
    "print('\\n')\n",
    "print(modelInstance.r.keys())"
   ]
  },
  {
   "cell_type": "code",
   "execution_count": 9,
   "metadata": {},
   "outputs": [
    {
     "data": {
      "text/plain": [
       "['r0', <CRN.r0 at 0x10c9bba10>]"
      ]
     },
     "execution_count": 9,
     "metadata": {},
     "output_type": "execute_result"
    }
   ],
   "source": [
    "# See how the search function works\n",
    "modelInstance.SearchReactionsByName('r0', suppress = False)"
   ]
  },
  {
   "cell_type": "code",
   "execution_count": 12,
   "metadata": {},
   "outputs": [],
   "source": [
    "timeinterval = 0.01\n",
    "modelInstance.RunSimulation(timeinterval)\n"
   ]
  },
  {
   "cell_type": "code",
   "execution_count": 13,
   "metadata": {},
   "outputs": [],
   "source": [
    "modelInstance.RunSimulation(timeinterval, absoluteTolerance = 1e-12, relativeTolerance = 1e-6)\n"
   ]
  },
  {
   "cell_type": "code",
   "execution_count": 16,
   "metadata": {},
   "outputs": [],
   "source": [
    "import numpy as np\n",
    "times = np.zeros(101)\n",
    "times[0] = modelInstance.time\n",
    "concentrations = np.zeros(101)\n",
    "concentrations[0] = modelInstance.s['molecule_glucose'].concentration\n",
    "timeinterval = 1\n",
    "for i in range(100):\n",
    "\tmodelInstance.RunSimulation(timeinterval)\n",
    "\ttimes[i+1] = modelInstance.time\n",
    "\tconcentrations[i+1] = modelInstance.s['molecule_glucose'].concentration"
   ]
  },
  {
   "cell_type": "code",
   "execution_count": 17,
   "metadata": {},
   "outputs": [
    {
     "data": {
      "text/plain": [
       "[<matplotlib.lines.Line2D at 0x151d533ad0>]"
      ]
     },
     "execution_count": 17,
     "metadata": {},
     "output_type": "execute_result"
    },
    {
     "data": {
      "image/png": "[encoded data removed]",
      "text/plain": [
       "<Figure size 432x288 with 1 Axes>"
      ]
     },
     "metadata": {
      "needs_background": "light"
     },
     "output_type": "display_data"
    }
   ],
   "source": [
    "import matplotlib.pyplot as plt\n",
    "plt.plot(times,concentrations)"
   ]
  },
  {
   "cell_type": "code",
   "execution_count": null,
   "metadata": {},
   "outputs": [],
   "source": [
    "import sbmltoodepy\n",
    "sbmltoodepy.ParseAndCreateModel('/Users/ankitaroychoudhury/git/ug_murray/code/exploratory/reduced_model/CRN.sbml',\n",
    "                    jsonFilePath = None, outputFilePath = None, className = \"SBMLmodel\")"
   ]
  },
  {
   "cell_type": "code",
   "execution_count": null,
   "metadata": {},
   "outputs": [],
   "source": [
    "model = SBMLmodel()"
   ]
  },
  {
   "cell_type": "code",
   "execution_count": null,
   "metadata": {},
   "outputs": [],
   "source": [
    "deltaT = 0.01\n",
    "model.RunSimulation(deltaT, absoluteTolerance = 1e-12, relativeTolerance = 1e-6)\n"
   ]
  },
  {
   "cell_type": "code",
   "execution_count": null,
   "metadata": {},
   "outputs": [],
   "source": [
    "model.f"
   ]
  },
  {
   "cell_type": "markdown",
   "metadata": {},
   "source": [
    "## Try to use auto_reduce converters.py"
   ]
  },
  {
   "cell_type": "code",
   "execution_count": 59,
   "metadata": {},
   "outputs": [
    {
     "name": "stdout",
     "output_type": "stream",
     "text": [
      "<SBMLDocument>\n"
     ]
    }
   ],
   "source": [
    "sbml_to_ode('CRN.xml')"
   ]
  },
  {
   "cell_type": "code",
   "execution_count": 60,
   "metadata": {},
   "outputs": [],
   "source": [
    "# From auto_reduce, converters.py\n",
    "def sbml_to_ode(filename):\n",
    "  # \n",
    "  # read the SBML from file \n",
    "  # \n",
    "  import libsbml as lb \n",
    "  import sys\n",
    "  #raise NotImplementedError\n",
    "\n",
    "  doc = lb.readSBMLFromFile(filename)\n",
    "\n",
    "  if doc.getNumErrors(lb.LIBSBML_SEV_FATAL):\n",
    "    print('Encountered serious errors while reading file')\n",
    "    print(doc.getErrorLog().toString())\n",
    "    sys.exit(1)\n",
    "     \n",
    "  # clear errors\n",
    "  doc.getErrorLog().clearLog()\n",
    "   \n",
    "  #\n",
    "  # perform conversions\n",
    "  #\n",
    "  props = lb.ConversionProperties()\n",
    "  print(probs)\n",
    "  props.addOption(\"promoteLocalParameters\", True)\n",
    "   \n",
    "  if doc.convert(props) != lb.LIBSBML_OPERATION_SUCCESS: \n",
    "    print('The document could not be converted')\n",
    "    print(doc.getErrorLog().toString())\n",
    "     \n",
    "  props = lb.ConversionProperties()\n",
    "  props.addOption(\"expandInitialAssignments\", True)\n",
    "   \n",
    "  if doc.convert(props) != lb.LIBSBML_OPERATION_SUCCESS: \n",
    "    print('The document could not be converted')\n",
    "    print(doc.getErrorLog().toString())\n",
    "     \n",
    "  props = lb.ConversionProperties()\n",
    "  props.addOption(\"expandFunctionDefinitions\", True)\n",
    "   \n",
    "  if doc.convert(props) != lb.LIBSBML_OPERATION_SUCCESS: \n",
    "    print('The document could not be converted')\n",
    "    print(doc.getErrorLog().toString())\n",
    "     \n",
    "  #\n",
    "  # figure out which species are variable \n",
    "  #\n",
    "  mod = doc.getModel()\n",
    "  variables = {}\n",
    "   \n",
    "  for i in range(mod.getNumSpecies()): \n",
    "     species = mod.getSpecies(i)\n",
    "     if species.getBoundaryCondition() == True or species.getId() in variables.keys():\n",
    "       continue\n",
    "     variables[species.getId()] = []\n",
    "   \n",
    "  #\n",
    "  # start generating the code by appending to bytearray\n",
    "  #\n",
    "#   generated_code = bytearray('', encoding='utf8')\n",
    "#   generated_code.extend('from numpy import *\\n')\n",
    "#   generated_code.extend('from matplotlib.pylab import *\\n')\n",
    "#   generated_code.extend('from matplotlib.pyplot import *\\n')\n",
    "#   generated_code.extend('from scipy.integrate import odeint \\n')\n",
    "   \n",
    "#   generated_code.extend('\\n')\n",
    "#   generated_code.extend('def simulateModel(t0, tend, numPoints):\\n')\n",
    "   \n",
    "#   # write out compartment values \n",
    "#   generated_code.extend('  \\n')\n",
    "#   generated_code.extend('  #compartments\\n')\n",
    "#   for i in range(mod.getNumCompartments()):\n",
    "#     element = mod.getCompartment(i)\n",
    "#     generated_code.extend('  {0} = {1}\\n'.format(element.getId(), element.getSize()))\n",
    "   \n",
    "#   # write out parameter values \n",
    "#   generated_code.extend('  \\n')\n",
    "#   generated_code.extend('  #global parameters\\n')\n",
    "#   for i in range(mod.getNumParameters()):\n",
    "#     element = mod.getParameter(i)\n",
    "#     generated_code.extend('  {0} = {1}\\n'.format(element.getId(), element.getValue()))\n",
    "   \n",
    "#   # write out boundary species \n",
    "#   generated_code.extend('  \\n')\n",
    "#   generated_code.extend('  #boundary species\\n')\n",
    "#   for i in range(mod.getNumSpecies()):\n",
    "#     element = mod.getSpecies(i)\n",
    "#     if element.getBoundaryCondition() == False: \n",
    "#       continue\n",
    "#     if element.isSetInitialConcentration(): \n",
    "#       generated_code.extend('  {0} = {1}\\n'.format(element.getId(), element.getInitialConcentration()))\n",
    "#     else:\n",
    "#       generated_code.extend('  {0} = {1}\\n'.format(element.getId(), element.getInitialAmount()))  \n",
    "   \n",
    "  # write derive function\n",
    "#   generated_code.extend('  \\n')\n",
    "#   generated_code.extend('  def ode_fun(__Y__, t):\\n')\n",
    "#   for i in range(len(variables.keys())): \n",
    "#     generated_code.extend('    {0} = __Y__[{1}]\\n'.format(variables.keys()[i], i))\n",
    "#   generated_code.extend('\\n')\n",
    "   \n",
    "  for i in range(mod.getNumReactions()): \n",
    "    reaction = mod.getReaction(i)\n",
    "    kinetics = reaction.getKineticLaw()  \n",
    "     \n",
    "   # generated_code.extend('    {0} = {1}\\n'.format(reaction.getId(),  kinetics.getFormula()))\n",
    "     \n",
    "    for j in range(reaction.getNumReactants()): \n",
    "      ref = reaction.getReactant(j)\n",
    "      species = mod.getSpecies(ref.getSpecies())\n",
    "      if species.getBoundaryCondition() == True: \n",
    "        continue\n",
    "      if ref.getStoichiometry() == 1.0: \n",
    "        variables[species.getId()].append('-{0}'.format(reaction.getId()))\n",
    "      else:\n",
    "        variables[species.getId()].append('-({0})*{1}'.format(ref.getStoichiometry(), reaction.getId()))\n",
    "    for j in range(reaction.getNumProducts()): \n",
    "      ref = reaction.getProduct(j)\n",
    "      species = mod.getSpecies(ref.getSpecies())\n",
    "      if species.getBoundaryCondition() == True: \n",
    "        continue\n",
    "      if ref.getStoichiometry() == 1.0: \n",
    "        variables[species.getId()].append('{0}'.format(reaction.getId()))\n",
    "      else:\n",
    "        variables[species.getId()].append('({0})*{1}'.format(ref.getStoichiometry(), reaction.getId()))\n",
    "   \n",
    "#   generated_code.extend('\\n')\n",
    "     \n",
    "#   generated_code.extend('    return array([')\n",
    "#   for i in range(len(variables.keys())):\n",
    "#     for eqn in variables[variables.keys()[i]]:\n",
    "#       generated_code.extend(' + ({0})'.format(eqn))\n",
    "#     if i + 1 < len(variables.keys()):\n",
    "#       generated_code.extend(',\\n      ')\n",
    "#   generated_code.extend('    ])\\n')\n",
    "#   generated_code.extend('\\n')\n",
    "   \n",
    "#   generated_code.extend('  time = linspace(t0, tend, numPoints)\\n')\n",
    "   \n",
    "#   # \n",
    "#   # write out initial concentrations \n",
    "#   # \n",
    "#   generated_code.extend('  yinit= array([')\n",
    "#   count = 0\n",
    "#   for key in variables.keys():\n",
    "#     # get initialValue \n",
    "#     element = mod.getElementBySId(key)\n",
    "#     if element.getTypeCode() == lb.SBML_PARAMETER: \n",
    "#       generated_code.extend('{0}'.format(element.getValue()))\n",
    "#     elif element.getTypeCode() == lb.SBML_SPECIES: \n",
    "#       if element.isSetInitialConcentration(): \n",
    "#         generated_code.extend('{0}'.format(element.getInitialConcentration()))\n",
    "#       else: \n",
    "#         generated_code.extend('{0}'.format(element.getInitialAmount()))\n",
    "#     else: \n",
    "#       generated_code.extend('{0}'.format(element.getSize()))\n",
    "#     count += 1\n",
    "#     if count < len(variables.keys()):\n",
    "#       generated_code.extend(', ')\n",
    "#   generated_code.extend('])\\n')\n",
    "#   generated_code.extend('  \\n')\n",
    "   \n",
    "#   generated_code.extend('  y = odeint(ode_fun, yinit, time)\\n')\n",
    "#   generated_code.extend('\\n')\n",
    "   \n",
    "#   generated_code.extend('  return time, y\\n')\n",
    "#   generated_code.extend('\\n')\n",
    "#   generated_code.extend('\\n')\n",
    "#   generated_code.extend('time, result = simulateModel({0}, {1}, {2})\\n'.format(t0, tEnd, numPoints))\n",
    "#   generated_code.extend('\\n')\n",
    "   \n",
    "#   #\n",
    "#   # write out plotting code \n",
    "#   #\n",
    "#   generated_code.extend('fig = figure()\\n')\n",
    "#   generated_code.extend('ax = subplot(111)\\n')\n",
    "   \n",
    "#   for i in range(len(variables.keys())): \n",
    "#     generated_code.extend('plot(time,result[:,{0}], label=\"{1}\", lw=1.5)\\n'.format(i, variables.keys()[i]))\n",
    "     \n",
    "#   generated_code.extend('box = ax.get_position()\\n')\n",
    "#   generated_code.extend('ax.set_position([box.x0, box.y0, box.width * 0.7, box.height])\\n')\n",
    "#   generated_code.extend('xlabel(\"time\")\\n')\n",
    "#   generated_code.extend('ylabel(\"concentration\")\\n')\n",
    "#   generated_code.extend('legend(loc=\"center left\", bbox_to_anchor=(1, 0.5))\\n')\n",
    "#   generated_code.extend('show()\\n')\n",
    "   \n",
    "   \n",
    "#   # convert generated code to string \n",
    "#   result = str(generated_code);\n",
    "  return None \n",
    "   \n"
   ]
  },
  {
   "cell_type": "code",
   "execution_count": 61,
   "metadata": {},
   "outputs": [
    {
     "name": "stdout",
     "output_type": "stream",
     "text": [
      "<bound method SBMLDocument.getModel of <SBMLDocument>>\n"
     ]
    }
   ],
   "source": [
    "sbml_to_ode('CRN.xml')"
   ]
  },
  {
   "cell_type": "code",
   "execution_count": null,
   "metadata": {},
   "outputs": [],
   "source": []
  }
 ],
 "metadata": {
  "kernelspec": {
   "display_name": "Python 3",
   "language": "python",
   "name": "python3"
  },
  "language_info": {
   "codemirror_mode": {
    "name": "ipython",
    "version": 3
   },
   "file_extension": ".py",
   "mimetype": "text/x-python",
   "name": "python",
   "nbconvert_exporter": "python",
   "pygments_lexer": "ipython3",
   "version": "3.7.7"
  }
 },
 "nbformat": 4,
 "nbformat_minor": 4
}
