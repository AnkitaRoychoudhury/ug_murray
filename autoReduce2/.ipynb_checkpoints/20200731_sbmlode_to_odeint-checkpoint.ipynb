{
 "cells": [
  {
   "cell_type": "markdown",
   "metadata": {},
   "source": [
    "# SBML_to_ODE to odeint\n",
    "In this notebook, we will wrangle the SBML_to_ODE function outputs so they can be compatible with scipy.odeint().<br>\n",
    "7.30.2020<br>\n",
    "---"
   ]
  },
  {
   "cell_type": "code",
   "execution_count": 32,
   "metadata": {},
   "outputs": [
    {
     "data": {
      "text/html": [
       "\n",
       "    <div class=\"bk-root\">\n",
       "        <a href=\"https://bokeh.org\" target=\"_blank\" class=\"bk-logo bk-logo-small bk-logo-notebook\"></a>\n",
       "        <span id=\"1610\">Loading BokehJS ...</span>\n",
       "    </div>"
      ]
     },
     "metadata": {},
     "output_type": "display_data"
    },
    {
     "data": {
      "application/javascript": [
       "\n",
       "(function(root) {\n",
       "  function now() {\n",
       "    return new Date();\n",
       "  }\n",
       "\n",
       "  var force = true;\n",
       "\n",
       "  if (typeof root._bokeh_onload_callbacks === \"undefined\" || force === true) {\n",
       "    root._bokeh_onload_callbacks = [];\n",
       "    root._bokeh_is_loading = undefined;\n",
       "  }\n",
       "\n",
       "  var JS_MIME_TYPE = 'application/javascript';\n",
       "  var HTML_MIME_TYPE = 'text/html';\n",
       "  var EXEC_MIME_TYPE = 'application/vnd.bokehjs_exec.v0+json';\n",
       "  var CLASS_NAME = 'output_bokeh rendered_html';\n",
       "\n",
       "  /**\n",
       "   * Render data to the DOM node\n",
       "   */\n",
       "  function render(props, node) {\n",
       "    var script = document.createElement(\"script\");\n",
       "    node.appendChild(script);\n",
       "  }\n",
       "\n",
       "  /**\n",
       "   * Handle when an output is cleared or removed\n",
       "   */\n",
       "  function handleClearOutput(event, handle) {\n",
       "    var cell = handle.cell;\n",
       "\n",
       "    var id = cell.output_area._bokeh_element_id;\n",
       "    var server_id = cell.output_area._bokeh_server_id;\n",
       "    // Clean up Bokeh references\n",
       "    if (id != null && id in Bokeh.index) {\n",
       "      Bokeh.index[id].model.document.clear();\n",
       "      delete Bokeh.index[id];\n",
       "    }\n",
       "\n",
       "    if (server_id !== undefined) {\n",
       "      // Clean up Bokeh references\n",
       "      var cmd = \"from bokeh.io.state import curstate; print(curstate().uuid_to_server['\" + server_id + \"'].get_sessions()[0].document.roots[0]._id)\";\n",
       "      cell.notebook.kernel.execute(cmd, {\n",
       "        iopub: {\n",
       "          output: function(msg) {\n",
       "            var id = msg.content.text.trim();\n",
       "            if (id in Bokeh.index) {\n",
       "              Bokeh.index[id].model.document.clear();\n",
       "              delete Bokeh.index[id];\n",
       "            }\n",
       "          }\n",
       "        }\n",
       "      });\n",
       "      // Destroy server and session\n",
       "      var cmd = \"import bokeh.io.notebook as ion; ion.destroy_server('\" + server_id + \"')\";\n",
       "      cell.notebook.kernel.execute(cmd);\n",
       "    }\n",
       "  }\n",
       "\n",
       "  /**\n",
       "   * Handle when a new output is added\n",
       "   */\n",
       "  function handleAddOutput(event, handle) {\n",
       "    var output_area = handle.output_area;\n",
       "    var output = handle.output;\n",
       "\n",
       "    // limit handleAddOutput to display_data with EXEC_MIME_TYPE content only\n",
       "    if ((output.output_type != \"display_data\") || (!output.data.hasOwnProperty(EXEC_MIME_TYPE))) {\n",
       "      return\n",
       "    }\n",
       "\n",
       "    var toinsert = output_area.element.find(\".\" + CLASS_NAME.split(' ')[0]);\n",
       "\n",
       "    if (output.metadata[EXEC_MIME_TYPE][\"id\"] !== undefined) {\n",
       "      toinsert[toinsert.length - 1].firstChild.textContent = output.data[JS_MIME_TYPE];\n",
       "      // store reference to embed id on output_area\n",
       "      output_area._bokeh_element_id = output.metadata[EXEC_MIME_TYPE][\"id\"];\n",
       "    }\n",
       "    if (output.metadata[EXEC_MIME_TYPE][\"server_id\"] !== undefined) {\n",
       "      var bk_div = document.createElement(\"div\");\n",
       "      bk_div.innerHTML = output.data[HTML_MIME_TYPE];\n",
       "      var script_attrs = bk_div.children[0].attributes;\n",
       "      for (var i = 0; i < script_attrs.length; i++) {\n",
       "        toinsert[toinsert.length - 1].firstChild.setAttribute(script_attrs[i].name, script_attrs[i].value);\n",
       "        toinsert[toinsert.length - 1].firstChild.textContent = bk_div.children[0].textContent\n",
       "      }\n",
       "      // store reference to server id on output_area\n",
       "      output_area._bokeh_server_id = output.metadata[EXEC_MIME_TYPE][\"server_id\"];\n",
       "    }\n",
       "  }\n",
       "\n",
       "  function register_renderer(events, OutputArea) {\n",
       "\n",
       "    function append_mime(data, metadata, element) {\n",
       "      // create a DOM node to render to\n",
       "      var toinsert = this.create_output_subarea(\n",
       "        metadata,\n",
       "        CLASS_NAME,\n",
       "        EXEC_MIME_TYPE\n",
       "      );\n",
       "      this.keyboard_manager.register_events(toinsert);\n",
       "      // Render to node\n",
       "      var props = {data: data, metadata: metadata[EXEC_MIME_TYPE]};\n",
       "      render(props, toinsert[toinsert.length - 1]);\n",
       "      element.append(toinsert);\n",
       "      return toinsert\n",
       "    }\n",
       "\n",
       "    /* Handle when an output is cleared or removed */\n",
       "    events.on('clear_output.CodeCell', handleClearOutput);\n",
       "    events.on('delete.Cell', handleClearOutput);\n",
       "\n",
       "    /* Handle when a new output is added */\n",
       "    events.on('output_added.OutputArea', handleAddOutput);\n",
       "\n",
       "    /**\n",
       "     * Register the mime type and append_mime function with output_area\n",
       "     */\n",
       "    OutputArea.prototype.register_mime_type(EXEC_MIME_TYPE, append_mime, {\n",
       "      /* Is output safe? */\n",
       "      safe: true,\n",
       "      /* Index of renderer in `output_area.display_order` */\n",
       "      index: 0\n",
       "    });\n",
       "  }\n",
       "\n",
       "  // register the mime type if in Jupyter Notebook environment and previously unregistered\n",
       "  if (root.Jupyter !== undefined) {\n",
       "    var events = require('base/js/events');\n",
       "    var OutputArea = require('notebook/js/outputarea').OutputArea;\n",
       "\n",
       "    if (OutputArea.prototype.mime_types().indexOf(EXEC_MIME_TYPE) == -1) {\n",
       "      register_renderer(events, OutputArea);\n",
       "    }\n",
       "  }\n",
       "\n",
       "  \n",
       "  if (typeof (root._bokeh_timeout) === \"undefined\" || force === true) {\n",
       "    root._bokeh_timeout = Date.now() + 5000;\n",
       "    root._bokeh_failed_load = false;\n",
       "  }\n",
       "\n",
       "  var NB_LOAD_WARNING = {'data': {'text/html':\n",
       "     \"<div style='background-color: #fdd'>\\n\"+\n",
       "     \"<p>\\n\"+\n",
       "     \"BokehJS does not appear to have successfully loaded. If loading BokehJS from CDN, this \\n\"+\n",
       "     \"may be due to a slow or bad network connection. Possible fixes:\\n\"+\n",
       "     \"</p>\\n\"+\n",
       "     \"<ul>\\n\"+\n",
       "     \"<li>re-rerun `output_notebook()` to attempt to load from CDN again, or</li>\\n\"+\n",
       "     \"<li>use INLINE resources instead, as so:</li>\\n\"+\n",
       "     \"</ul>\\n\"+\n",
       "     \"<code>\\n\"+\n",
       "     \"from bokeh.resources import INLINE\\n\"+\n",
       "     \"output_notebook(resources=INLINE)\\n\"+\n",
       "     \"</code>\\n\"+\n",
       "     \"</div>\"}};\n",
       "\n",
       "  function display_loaded() {\n",
       "    var el = document.getElementById(\"1610\");\n",
       "    if (el != null) {\n",
       "      el.textContent = \"BokehJS is loading...\";\n",
       "    }\n",
       "    if (root.Bokeh !== undefined) {\n",
       "      if (el != null) {\n",
       "        el.textContent = \"BokehJS \" + root.Bokeh.version + \" successfully loaded.\";\n",
       "      }\n",
       "    } else if (Date.now() < root._bokeh_timeout) {\n",
       "      setTimeout(display_loaded, 100)\n",
       "    }\n",
       "  }\n",
       "\n",
       "\n",
       "  function run_callbacks() {\n",
       "    try {\n",
       "      root._bokeh_onload_callbacks.forEach(function(callback) {\n",
       "        if (callback != null)\n",
       "          callback();\n",
       "      });\n",
       "    } finally {\n",
       "      delete root._bokeh_onload_callbacks\n",
       "    }\n",
       "    console.debug(\"Bokeh: all callbacks have finished\");\n",
       "  }\n",
       "\n",
       "  function load_libs(css_urls, js_urls, callback) {\n",
       "    if (css_urls == null) css_urls = [];\n",
       "    if (js_urls == null) js_urls = [];\n",
       "\n",
       "    root._bokeh_onload_callbacks.push(callback);\n",
       "    if (root._bokeh_is_loading > 0) {\n",
       "      console.debug(\"Bokeh: BokehJS is being loaded, scheduling callback at\", now());\n",
       "      return null;\n",
       "    }\n",
       "    if (js_urls == null || js_urls.length === 0) {\n",
       "      run_callbacks();\n",
       "      return null;\n",
       "    }\n",
       "    console.debug(\"Bokeh: BokehJS not loaded, scheduling load and callback at\", now());\n",
       "    root._bokeh_is_loading = css_urls.length + js_urls.length;\n",
       "\n",
       "    function on_load() {\n",
       "      root._bokeh_is_loading--;\n",
       "      if (root._bokeh_is_loading === 0) {\n",
       "        console.debug(\"Bokeh: all BokehJS libraries/stylesheets loaded\");\n",
       "        run_callbacks()\n",
       "      }\n",
       "    }\n",
       "\n",
       "    function on_error() {\n",
       "      console.error(\"failed to load \" + url);\n",
       "    }\n",
       "\n",
       "    for (var i = 0; i < css_urls.length; i++) {\n",
       "      var url = css_urls[i];\n",
       "      const element = document.createElement(\"link\");\n",
       "      element.onload = on_load;\n",
       "      element.onerror = on_error;\n",
       "      element.rel = \"stylesheet\";\n",
       "      element.type = \"text/css\";\n",
       "      element.href = url;\n",
       "      console.debug(\"Bokeh: injecting link tag for BokehJS stylesheet: \", url);\n",
       "      document.body.appendChild(element);\n",
       "    }\n",
       "\n",
       "    const hashes = {\"https://cdn.bokeh.org/bokeh/release/bokeh-2.0.2.min.js\": \"ufR9RFnRs6lniiaFvtJziE0YeidtAgBRH6ux2oUItHw5WTvE1zuk9uzhUU/FJXDp\", \"https://cdn.bokeh.org/bokeh/release/bokeh-widgets-2.0.2.min.js\": \"8QM/PGWBT+IssZuRcDcjzwIh1mkOmJSoNMmyYDZbCfXJg3Ap1lEvdVgFuSAwhb/J\", \"https://cdn.bokeh.org/bokeh/release/bokeh-tables-2.0.2.min.js\": \"Jm8cH3Rg0P6UeZhVY5cLy1WzKajUT9KImCY+76hEqrcJt59/d8GPvFHjCkYgnSIn\", \"https://cdn.bokeh.org/bokeh/release/bokeh-gl-2.0.2.min.js\": \"Ozhzj+SI7ywm74aOI/UajcWz+C0NjsPunEVyVIrxzYkB+jA+2tUw8x5xJCbVtK5I\"};\n",
       "\n",
       "    for (var i = 0; i < js_urls.length; i++) {\n",
       "      var url = js_urls[i];\n",
       "      var element = document.createElement('script');\n",
       "      element.onload = on_load;\n",
       "      element.onerror = on_error;\n",
       "      element.async = false;\n",
       "      element.src = url;\n",
       "      if (url in hashes) {\n",
       "        element.crossOrigin = \"anonymous\";\n",
       "        element.integrity = \"sha384-\" + hashes[url];\n",
       "      }\n",
       "      console.debug(\"Bokeh: injecting script tag for BokehJS library: \", url);\n",
       "      document.head.appendChild(element);\n",
       "    }\n",
       "  };\n",
       "\n",
       "  function inject_raw_css(css) {\n",
       "    const element = document.createElement(\"style\");\n",
       "    element.appendChild(document.createTextNode(css));\n",
       "    document.body.appendChild(element);\n",
       "  }\n",
       "\n",
       "  \n",
       "  var js_urls = [\"https://cdn.bokeh.org/bokeh/release/bokeh-2.0.2.min.js\", \"https://cdn.bokeh.org/bokeh/release/bokeh-widgets-2.0.2.min.js\", \"https://cdn.bokeh.org/bokeh/release/bokeh-tables-2.0.2.min.js\", \"https://cdn.bokeh.org/bokeh/release/bokeh-gl-2.0.2.min.js\"];\n",
       "  var css_urls = [];\n",
       "  \n",
       "\n",
       "  var inline_js = [\n",
       "    function(Bokeh) {\n",
       "      Bokeh.set_log_level(\"info\");\n",
       "    },\n",
       "    function(Bokeh) {\n",
       "    \n",
       "    \n",
       "    }\n",
       "  ];\n",
       "\n",
       "  function run_inline_js() {\n",
       "    \n",
       "    if (root.Bokeh !== undefined || force === true) {\n",
       "      \n",
       "    for (var i = 0; i < inline_js.length; i++) {\n",
       "      inline_js[i].call(root, root.Bokeh);\n",
       "    }\n",
       "    if (force === true) {\n",
       "        display_loaded();\n",
       "      }} else if (Date.now() < root._bokeh_timeout) {\n",
       "      setTimeout(run_inline_js, 100);\n",
       "    } else if (!root._bokeh_failed_load) {\n",
       "      console.log(\"Bokeh: BokehJS failed to load within specified timeout.\");\n",
       "      root._bokeh_failed_load = true;\n",
       "    } else if (force !== true) {\n",
       "      var cell = $(document.getElementById(\"1610\")).parents('.cell').data().cell;\n",
       "      cell.output_area.append_execute_result(NB_LOAD_WARNING)\n",
       "    }\n",
       "\n",
       "  }\n",
       "\n",
       "  if (root._bokeh_is_loading === 0) {\n",
       "    console.debug(\"Bokeh: BokehJS loaded, going straight to plotting\");\n",
       "    run_inline_js();\n",
       "  } else {\n",
       "    load_libs(css_urls, js_urls, function() {\n",
       "      console.debug(\"Bokeh: BokehJS plotting callback run at\", now());\n",
       "      run_inline_js();\n",
       "    });\n",
       "  }\n",
       "}(window));"
      ],
      "application/vnd.bokehjs_load.v0+json": "\n(function(root) {\n  function now() {\n    return new Date();\n  }\n\n  var force = true;\n\n  if (typeof root._bokeh_onload_callbacks === \"undefined\" || force === true) {\n    root._bokeh_onload_callbacks = [];\n    root._bokeh_is_loading = undefined;\n  }\n\n  \n\n  \n  if (typeof (root._bokeh_timeout) === \"undefined\" || force === true) {\n    root._bokeh_timeout = Date.now() + 5000;\n    root._bokeh_failed_load = false;\n  }\n\n  var NB_LOAD_WARNING = {'data': {'text/html':\n     \"<div style='background-color: #fdd'>\\n\"+\n     \"<p>\\n\"+\n     \"BokehJS does not appear to have successfully loaded. If loading BokehJS from CDN, this \\n\"+\n     \"may be due to a slow or bad network connection. Possible fixes:\\n\"+\n     \"</p>\\n\"+\n     \"<ul>\\n\"+\n     \"<li>re-rerun `output_notebook()` to attempt to load from CDN again, or</li>\\n\"+\n     \"<li>use INLINE resources instead, as so:</li>\\n\"+\n     \"</ul>\\n\"+\n     \"<code>\\n\"+\n     \"from bokeh.resources import INLINE\\n\"+\n     \"output_notebook(resources=INLINE)\\n\"+\n     \"</code>\\n\"+\n     \"</div>\"}};\n\n  function display_loaded() {\n    var el = document.getElementById(\"1610\");\n    if (el != null) {\n      el.textContent = \"BokehJS is loading...\";\n    }\n    if (root.Bokeh !== undefined) {\n      if (el != null) {\n        el.textContent = \"BokehJS \" + root.Bokeh.version + \" successfully loaded.\";\n      }\n    } else if (Date.now() < root._bokeh_timeout) {\n      setTimeout(display_loaded, 100)\n    }\n  }\n\n\n  function run_callbacks() {\n    try {\n      root._bokeh_onload_callbacks.forEach(function(callback) {\n        if (callback != null)\n          callback();\n      });\n    } finally {\n      delete root._bokeh_onload_callbacks\n    }\n    console.debug(\"Bokeh: all callbacks have finished\");\n  }\n\n  function load_libs(css_urls, js_urls, callback) {\n    if (css_urls == null) css_urls = [];\n    if (js_urls == null) js_urls = [];\n\n    root._bokeh_onload_callbacks.push(callback);\n    if (root._bokeh_is_loading > 0) {\n      console.debug(\"Bokeh: BokehJS is being loaded, scheduling callback at\", now());\n      return null;\n    }\n    if (js_urls == null || js_urls.length === 0) {\n      run_callbacks();\n      return null;\n    }\n    console.debug(\"Bokeh: BokehJS not loaded, scheduling load and callback at\", now());\n    root._bokeh_is_loading = css_urls.length + js_urls.length;\n\n    function on_load() {\n      root._bokeh_is_loading--;\n      if (root._bokeh_is_loading === 0) {\n        console.debug(\"Bokeh: all BokehJS libraries/stylesheets loaded\");\n        run_callbacks()\n      }\n    }\n\n    function on_error() {\n      console.error(\"failed to load \" + url);\n    }\n\n    for (var i = 0; i < css_urls.length; i++) {\n      var url = css_urls[i];\n      const element = document.createElement(\"link\");\n      element.onload = on_load;\n      element.onerror = on_error;\n      element.rel = \"stylesheet\";\n      element.type = \"text/css\";\n      element.href = url;\n      console.debug(\"Bokeh: injecting link tag for BokehJS stylesheet: \", url);\n      document.body.appendChild(element);\n    }\n\n    const hashes = {\"https://cdn.bokeh.org/bokeh/release/bokeh-2.0.2.min.js\": \"ufR9RFnRs6lniiaFvtJziE0YeidtAgBRH6ux2oUItHw5WTvE1zuk9uzhUU/FJXDp\", \"https://cdn.bokeh.org/bokeh/release/bokeh-widgets-2.0.2.min.js\": \"8QM/PGWBT+IssZuRcDcjzwIh1mkOmJSoNMmyYDZbCfXJg3Ap1lEvdVgFuSAwhb/J\", \"https://cdn.bokeh.org/bokeh/release/bokeh-tables-2.0.2.min.js\": \"Jm8cH3Rg0P6UeZhVY5cLy1WzKajUT9KImCY+76hEqrcJt59/d8GPvFHjCkYgnSIn\", \"https://cdn.bokeh.org/bokeh/release/bokeh-gl-2.0.2.min.js\": \"Ozhzj+SI7ywm74aOI/UajcWz+C0NjsPunEVyVIrxzYkB+jA+2tUw8x5xJCbVtK5I\"};\n\n    for (var i = 0; i < js_urls.length; i++) {\n      var url = js_urls[i];\n      var element = document.createElement('script');\n      element.onload = on_load;\n      element.onerror = on_error;\n      element.async = false;\n      element.src = url;\n      if (url in hashes) {\n        element.crossOrigin = \"anonymous\";\n        element.integrity = \"sha384-\" + hashes[url];\n      }\n      console.debug(\"Bokeh: injecting script tag for BokehJS library: \", url);\n      document.head.appendChild(element);\n    }\n  };\n\n  function inject_raw_css(css) {\n    const element = document.createElement(\"style\");\n    element.appendChild(document.createTextNode(css));\n    document.body.appendChild(element);\n  }\n\n  \n  var js_urls = [\"https://cdn.bokeh.org/bokeh/release/bokeh-2.0.2.min.js\", \"https://cdn.bokeh.org/bokeh/release/bokeh-widgets-2.0.2.min.js\", \"https://cdn.bokeh.org/bokeh/release/bokeh-tables-2.0.2.min.js\", \"https://cdn.bokeh.org/bokeh/release/bokeh-gl-2.0.2.min.js\"];\n  var css_urls = [];\n  \n\n  var inline_js = [\n    function(Bokeh) {\n      Bokeh.set_log_level(\"info\");\n    },\n    function(Bokeh) {\n    \n    \n    }\n  ];\n\n  function run_inline_js() {\n    \n    if (root.Bokeh !== undefined || force === true) {\n      \n    for (var i = 0; i < inline_js.length; i++) {\n      inline_js[i].call(root, root.Bokeh);\n    }\n    if (force === true) {\n        display_loaded();\n      }} else if (Date.now() < root._bokeh_timeout) {\n      setTimeout(run_inline_js, 100);\n    } else if (!root._bokeh_failed_load) {\n      console.log(\"Bokeh: BokehJS failed to load within specified timeout.\");\n      root._bokeh_failed_load = true;\n    } else if (force !== true) {\n      var cell = $(document.getElementById(\"1610\")).parents('.cell').data().cell;\n      cell.output_area.append_execute_result(NB_LOAD_WARNING)\n    }\n\n  }\n\n  if (root._bokeh_is_loading === 0) {\n    console.debug(\"Bokeh: BokehJS loaded, going straight to plotting\");\n    run_inline_js();\n  } else {\n    load_libs(css_urls, js_urls, function() {\n      console.debug(\"Bokeh: BokehJS plotting callback run at\", now());\n      run_inline_js();\n    });\n  }\n}(window));"
     },
     "metadata": {},
     "output_type": "display_data"
    }
   ],
   "source": [
    "# Imports\n",
    "from sympy.utilities.lambdify import lambdify\n",
    "from sympy import Symbol\n",
    "\n",
    "from scipy.integrate import odeint\n",
    "\n",
    "import bokeh.io\n",
    "import bokeh.plotting\n",
    "bokeh.io.output_notebook()\n",
    "\n",
    "import colorcet"
   ]
  },
  {
   "cell_type": "markdown",
   "metadata": {},
   "source": [
    "Load the sbml_to_ode2 func:"
   ]
  },
  {
   "cell_type": "code",
   "execution_count": 1,
   "metadata": {},
   "outputs": [],
   "source": [
    "%run sbml_to_ode2.py"
   ]
  },
  {
   "cell_type": "markdown",
   "metadata": {},
   "source": [
    "Use the function with .xml file:"
   ]
  },
  {
   "cell_type": "code",
   "execution_count": 2,
   "metadata": {},
   "outputs": [],
   "source": [
    "filename = 'CRN_GOOD.xml'\n",
    "x,f,P,params_values,x_init = sbml_to_ode2(filename)"
   ]
  },
  {
   "cell_type": "markdown",
   "metadata": {},
   "source": [
    "Now, let's make it compatible with scipy.odeint()"
   ]
  },
  {
   "cell_type": "code",
   "execution_count": 3,
   "metadata": {},
   "outputs": [],
   "source": [
    "# Parameters\n",
    "param_eval_f = [None]*len(f)\n",
    "i = 0\n",
    "while i < len(f):\n",
    "    param_eval_f[i] = f[i].subs(dict(zip(P,params_values)))\n",
    "    i += 1"
   ]
  },
  {
   "cell_type": "code",
   "execution_count": 12,
   "metadata": {},
   "outputs": [],
   "source": [
    "# Lamdbify \n",
    "t = Symbol('t')\n",
    "func = lambdify([t, x, P], f)\n",
    "func_p = lambdify([t, x], param_eval_f)"
   ]
  },
  {
   "cell_type": "code",
   "execution_count": 21,
   "metadata": {},
   "outputs": [],
   "source": [
    "# Set variables\n",
    "n = len(x)\n",
    "timepoints = np.linspace(0,75,100)"
   ]
  },
  {
   "cell_type": "code",
   "execution_count": 22,
   "metadata": {},
   "outputs": [],
   "source": [
    "# Solve\n",
    "solutions = odeint(lambda t, x:func_p(t,x), x_init, timepoints, tfirst = True)\n",
    "#solutions = np.reshape(solutions, len(timepoints), n)"
   ]
  },
  {
   "cell_type": "code",
   "execution_count": 28,
   "metadata": {},
   "outputs": [
    {
     "data": {
      "text/plain": [
       "68"
      ]
     },
     "execution_count": 28,
     "metadata": {},
     "output_type": "execute_result"
    }
   ],
   "source": [
    "# Make sure this is num species\n",
    "len(solutions[0])"
   ]
  },
  {
   "cell_type": "markdown",
   "metadata": {},
   "source": [
    "Let's take a look at plot of atp, glucose, isobutanol to make sure it works as expected."
   ]
  },
  {
   "cell_type": "code",
   "execution_count": 33,
   "metadata": {},
   "outputs": [
    {
     "data": {
      "text/html": [
       "\n",
       "\n",
       "\n",
       "\n",
       "\n",
       "\n",
       "  <div class=\"bk-root\" id=\"58e1ed9b-65c1-42a0-b0ee-cdfae45e65e7\" data-root-id=\"1611\"></div>\n"
      ]
     },
     "metadata": {},
     "output_type": "display_data"
    },
    {
     "data": {
      "application/javascript": [
       "(function(root) {\n",
       "  function embed_document(root) {\n",
       "    \n",
       "  var docs_json = {\"db07000f-bc51-4383-aa17-d057bff8a2c9\":{\"roots\":{\"references\":[{\"attributes\":{\"below\":[{\"id\":\"1622\"}],\"center\":[{\"id\":\"1625\"},{\"id\":\"1629\"},{\"id\":\"1655\"}],\"left\":[{\"id\":\"1626\"}],\"plot_height\":300,\"plot_width\":450,\"renderers\":[{\"id\":\"1647\"},{\"id\":\"1660\"},{\"id\":\"1674\"}],\"title\":{\"id\":\"1612\"},\"toolbar\":{\"id\":\"1637\"},\"x_range\":{\"id\":\"1614\"},\"x_scale\":{\"id\":\"1618\"},\"y_range\":{\"id\":\"1616\"},\"y_scale\":{\"id\":\"1620\"}},\"id\":\"1611\",\"subtype\":\"Figure\",\"type\":\"Plot\"},{\"attributes\":{},\"id\":\"1685\",\"type\":\"UnionRenderers\"},{\"attributes\":{\"active_drag\":\"auto\",\"active_inspect\":\"auto\",\"active_multi\":null,\"active_scroll\":\"auto\",\"active_tap\":\"auto\",\"tools\":[{\"id\":\"1630\"},{\"id\":\"1631\"},{\"id\":\"1632\"},{\"id\":\"1633\"},{\"id\":\"1634\"},{\"id\":\"1635\"}]},\"id\":\"1637\",\"type\":\"Toolbar\"},{\"attributes\":{\"data_source\":{\"id\":\"1644\"},\"glyph\":{\"id\":\"1645\"},\"hover_glyph\":null,\"muted_glyph\":null,\"nonselection_glyph\":{\"id\":\"1646\"},\"selection_glyph\":null,\"view\":{\"id\":\"1648\"}},\"id\":\"1647\",\"type\":\"GlyphRenderer\"},{\"attributes\":{},\"id\":\"1614\",\"type\":\"DataRange1d\"},{\"attributes\":{\"data_source\":{\"id\":\"1657\"},\"glyph\":{\"id\":\"1658\"},\"hover_glyph\":null,\"muted_glyph\":null,\"nonselection_glyph\":{\"id\":\"1659\"},\"selection_glyph\":null,\"view\":{\"id\":\"1661\"}},\"id\":\"1660\",\"type\":\"GlyphRenderer\"},{\"attributes\":{},\"id\":\"1668\",\"type\":\"Selection\"},{\"attributes\":{\"source\":{\"id\":\"1644\"}},\"id\":\"1648\",\"type\":\"CDSView\"},{\"attributes\":{\"data\":{\"x\":{\"__ndarray__\":\"AAAAAAAAAAA++OCDDz7oPz744IMPPvg/LrrooosuAkA++OCDDz4IQE422WSTTQ5ALrrooosuEkA22WSTTTYVQD744IMPPhhARhdddNFFG0BONtlkk00eQKuqqqqqqiBALrrooosuIkCyySabbLIjQDbZZJNNNiVAuuiiiy66JkA++OCDDz4oQMIHH3zwwSlARhdddNFFK0DKJptsssksQE422WSTTS5A0UUXXXTRL0CrqqqqqqowQG2yySabbDFALrrooosuMkDwwQcffPAyQLLJJptssjNAdNFFF110NEA22WSTTTY1QPjggw8++DVAuuiiiy66NkB88MEHH3w3QD744IMPPjhAAAAAAAAAOUDCBx988ME5QIQPPvjggzpARhdddNFFO0AIH3zwwQc8QMomm2yyyTxAjC666KKLPUBONtlkk00+QA8++OCDDz9A0UUXXXTRP0DKJptssklAQKuqqqqqqkBAjC666KILQUBtsskmm2xBQE422WSTzUFALrrooosuQkAPPvjgg49CQPDBBx988EJA0UUXXXRRQ0CyySabbLJDQJNNNtlkE0RAdNFFF110REBVVVVVVdVEQDbZZJNNNkVAF1100UWXRUD44IMPPvhFQNlkk002WUZAuuiiiy66RkCbbLLJJhtHQHzwwQcffEdAXXTRRRfdR0A++OCDDz5IQB988MEHn0hAAAAAAAAASUDhgw8++GBJQMIHH3zwwUlAo4suuugiSkCEDz744INKQGWTTTbZ5EpARhdddNFFS0Anm2yyyaZLQAgffPDBB0xA6aKLLrpoTEDKJptssslMQKuqqqqqKk1AjC666KKLTUBtsskmm+xNQE422WSTTU5ALrrooouuTkAPPvjggw9PQPDBBx98cE9A0UUXXXTRT0DZZJNNNhlQQMomm2yySVBAuuiiiy56UECrqqqqqqpQQJtssskm21BAjC666KILUUB88MEHHzxRQG2yySabbFFAXXTRRRedUUBONtlkk81RQD744IMP/lFALrrooosuUkAffPDBB19SQA8++OCDj1JAAAAAAADAUkA=\",\"dtype\":\"float64\",\"shape\":[100]},\"y\":{\"__ndarray__\":\"AAAAAAAAPkCUKMkBw4Y3QMGezPiCOjNApWQwWVpUL0DPoDfKjUYqQDw62V+5oyZAjEP58tfkI0BxmhUfNswhQP0r6jrlMSBAwWetJIrzHUCceBgNFR8cQNEmfD2wyBpAQ6YBrGraGUAZdz2gL0QZQEc7P6Kh+hhAuZKFQ432GEDDmlhv7jQZQGwlp3uxtxlAXT/gdKqHGkBeOtZ4yrgbQNxDDLXTcR1Amp1XkobwH0C+jvnxXaYhQFukqQ4DfCNAtwpzzhVEJUBhQ19VFCEnQPI8pkzHhSlAaliDyKOoLEBsOsdSOYwvQIT+j8GV3jBA5mjA6dZnMUAGZNN8+T0xQEIIivL6YjBAyvgvCcZyLkDaQlBaKhAsQF288DhoyClA02P6yCunJ0CP5w5vE68lQMLKMJdz3yNAqbMu81s2IkAG8BNIYbEgQHef4Obbmx5A4T4jGMkSHEAkv8XqZsIZQPGEz3HGpRdA2+y2KEK4FUAy1KLIivUTQESQmZqsWRJAJVlMAw/hEEAEH3L+4BAPQDBC2BjBmQxADhNnmXFXCkBPqNIKLEUIQCoG+8eiXgZAJ5pTc/SfBEB8VSONoAUDQN2nYSZ9jAFAfBP1sa0xAED4JGqqNeX9Pzqy/z/Wmfs/YeP0YPl8+T9QUbvIvor3P31EXbefv/U/VW0k8mUY9D/2IyPbI5LyP4WiilEtKvE/wbtWbiK87z9CkqZiKFftPzApp59WIes/FU3MZ+8W6T+HAwQOhTTnP8DELHTyduU/PX4m3FTb4z+Ib476BV/iP6/91oqW/+A/0FYmL5N13z/dBs1sIB3dPwa1kioL8to/I0Sbxtbw2D+NSv87TRbXP+P7qkx5X9U/UnOcJKHJ0z/8IvR5QVLSP0caKhsJ99A/X2RXxalrzz//h7MOWBnNPzZCImh588o/ueXGprH2yD9ZVrMs5x/HPxWDI7Y8bMU/hXv8Kg3Zwz+Mc84e52PCP3odqsGICsE/cCT1R7iVvz/uRMf550W9PxvFBWAQIrs/Ay8yo+YmuT+tGllsX1G3P9x6F0yqnrU/2/Q9Fi0MtD8=\",\"dtype\":\"float64\",\"shape\":[100]}},\"selected\":{\"id\":\"1668\"},\"selection_policy\":{\"id\":\"1669\"}},\"id\":\"1644\",\"type\":\"ColumnDataSource\"},{\"attributes\":{\"source\":{\"id\":\"1657\"}},\"id\":\"1661\",\"type\":\"CDSView\"},{\"attributes\":{\"text\":\"Test sbml to ode code\"},\"id\":\"1612\",\"type\":\"Title\"},{\"attributes\":{\"source\":{\"id\":\"1671\"}},\"id\":\"1675\",\"type\":\"CDSView\"},{\"attributes\":{\"label\":{\"value\":\"isobutanol\"},\"renderers\":[{\"id\":\"1674\"}]},\"id\":\"1686\",\"type\":\"LegendItem\"},{\"attributes\":{},\"id\":\"1631\",\"type\":\"WheelZoomTool\"},{\"attributes\":{\"bottom_units\":\"screen\",\"fill_alpha\":0.5,\"fill_color\":\"lightgrey\",\"left_units\":\"screen\",\"level\":\"overlay\",\"line_alpha\":1.0,\"line_color\":\"black\",\"line_dash\":[4,4],\"line_width\":2,\"render_mode\":\"css\",\"right_units\":\"screen\",\"top_units\":\"screen\"},\"id\":\"1636\",\"type\":\"BoxAnnotation\"},{\"attributes\":{},\"id\":\"1739\",\"type\":\"Selection\"},{\"attributes\":{},\"id\":\"1627\",\"type\":\"BasicTicker\"},{\"attributes\":{\"line_alpha\":0.1,\"line_color\":\"#1f77b3\",\"line_width\":2,\"x\":{\"field\":\"x\"},\"y\":{\"field\":\"y\"}},\"id\":\"1646\",\"type\":\"Line\"},{\"attributes\":{\"line_color\":\"#2ba02b\",\"line_width\":2,\"x\":{\"field\":\"x\"},\"y\":{\"field\":\"y\"}},\"id\":\"1672\",\"type\":\"Line\"},{\"attributes\":{},\"id\":\"1684\",\"type\":\"Selection\"},{\"attributes\":{},\"id\":\"1740\",\"type\":\"UnionRenderers\"},{\"attributes\":{\"line_alpha\":0.1,\"line_color\":\"#ff7e0e\",\"line_width\":2,\"x\":{\"field\":\"x\"},\"y\":{\"field\":\"y\"}},\"id\":\"1659\",\"type\":\"Line\"},{\"attributes\":{},\"id\":\"1669\",\"type\":\"UnionRenderers\"},{\"attributes\":{},\"id\":\"1630\",\"type\":\"PanTool\"},{\"attributes\":{\"line_color\":\"#ff7e0e\",\"line_width\":2,\"x\":{\"field\":\"x\"},\"y\":{\"field\":\"y\"}},\"id\":\"1658\",\"type\":\"Line\"},{\"attributes\":{},\"id\":\"1618\",\"type\":\"LinearScale\"},{\"attributes\":{\"items\":[{\"id\":\"1656\"},{\"id\":\"1670\"},{\"id\":\"1686\"}]},\"id\":\"1655\",\"type\":\"Legend\"},{\"attributes\":{},\"id\":\"1652\",\"type\":\"BasicTickFormatter\"},{\"attributes\":{\"axis_label\":\"concentration (mM)\",\"formatter\":{\"id\":\"1650\"},\"ticker\":{\"id\":\"1627\"}},\"id\":\"1626\",\"type\":\"LinearAxis\"},{\"attributes\":{\"data_source\":{\"id\":\"1671\"},\"glyph\":{\"id\":\"1672\"},\"hover_glyph\":null,\"muted_glyph\":null,\"nonselection_glyph\":{\"id\":\"1673\"},\"selection_glyph\":null,\"view\":{\"id\":\"1675\"}},\"id\":\"1674\",\"type\":\"GlyphRenderer\"},{\"attributes\":{\"axis_label\":\"time (hrs)\",\"formatter\":{\"id\":\"1652\"},\"ticker\":{\"id\":\"1623\"}},\"id\":\"1622\",\"type\":\"LinearAxis\"},{\"attributes\":{\"data\":{\"x\":{\"__ndarray__\":\"AAAAAAAAAAA++OCDDz7oPz744IMPPvg/LrrooosuAkA++OCDDz4IQE422WSTTQ5ALrrooosuEkA22WSTTTYVQD744IMPPhhARhdddNFFG0BONtlkk00eQKuqqqqqqiBALrrooosuIkCyySabbLIjQDbZZJNNNiVAuuiiiy66JkA++OCDDz4oQMIHH3zwwSlARhdddNFFK0DKJptsssksQE422WSTTS5A0UUXXXTRL0CrqqqqqqowQG2yySabbDFALrrooosuMkDwwQcffPAyQLLJJptssjNAdNFFF110NEA22WSTTTY1QPjggw8++DVAuuiiiy66NkB88MEHH3w3QD744IMPPjhAAAAAAAAAOUDCBx988ME5QIQPPvjggzpARhdddNFFO0AIH3zwwQc8QMomm2yyyTxAjC666KKLPUBONtlkk00+QA8++OCDDz9A0UUXXXTRP0DKJptssklAQKuqqqqqqkBAjC666KILQUBtsskmm2xBQE422WSTzUFALrrooosuQkAPPvjgg49CQPDBBx988EJA0UUXXXRRQ0CyySabbLJDQJNNNtlkE0RAdNFFF110REBVVVVVVdVEQDbZZJNNNkVAF1100UWXRUD44IMPPvhFQNlkk002WUZAuuiiiy66RkCbbLLJJhtHQHzwwQcffEdAXXTRRRfdR0A++OCDDz5IQB988MEHn0hAAAAAAAAASUDhgw8++GBJQMIHH3zwwUlAo4suuugiSkCEDz744INKQGWTTTbZ5EpARhdddNFFS0Anm2yyyaZLQAgffPDBB0xA6aKLLrpoTEDKJptssslMQKuqqqqqKk1AjC666KKLTUBtsskmm+xNQE422WSTTU5ALrrooouuTkAPPvjggw9PQPDBBx98cE9A0UUXXXTRT0DZZJNNNhlQQMomm2yySVBAuuiiiy56UECrqqqqqqpQQJtssskm21BAjC666KILUUB88MEHHzxRQG2yySabbFFAXXTRRRedUUBONtlkk81RQD744IMP/lFALrrooosuUkAffPDBB19SQA8++OCDj1JAAAAAAADAUkA=\",\"dtype\":\"float64\",\"shape\":[100]},\"y\":{\"__ndarray__\":\"AAAAAAAAAABIX8GU8oY0NyrQYzMmsOE8MM+8ecmN1D6mS5W8+slsP9WcrjWsEbA/yE5dECTL0D+rV93cH3XjPzz23Sa0CPE/OsSq58mk+T+HufOD4aABQFWBNC+c1gZAH6RHFx9iDECbwiB6XRsRQIFqN2ZyJRRAFWtZFp9LF0BkBA/O/IoaQM0Rs6M54R1Al5zimzqmIEDs2a39k2UiQOP9bAYJLiRAHUzd6hf/JUBs+sIuWdgnQJhZFEd5uSlAliuR3SKiK0DZX41DzZEtQK/F4UJIhy9A+8ISzoy/MECsJbsKR7gxQCpv9u8upzJAx/6bOayGM0CHjTxhHlU0QGXbhhSlEzVAN+rAA4LFNUC5dogJR242QOm4L201DzdAumNK+1ynN0Ab+CxdzDQ4QIuYdoRgtThAY/30x6MnOUChDaEke4s5QPsPqkQK4jlAWl/F3g0tOkB4ZLHrT246QP02rLZnpzpAAGMJjarZOkCkQAYkMAY7QDFLElzcLTtA+QKLFGlRO0CijLuSbnE7QDOhnEZqjjtAAnUPKsSoO0BEB9f10sA7QORtMnLf1jtAHuIIEyfrO0DwF3sI3v07QIHHCOUwDzxAAwsL7UUfPEAi5lwmPi48QHgcmzM2PDxAIay8BUdJPEAiYg5vhlU8QJzEv5oHYTxAFqNycNtrPECTB0bmEHY8QMe4R0a1fzxABSo3adSIPEBx2CzleJE8QE4Z2zismTxADr/S7XahPEDktIK24Kg8QP6j8YjwrzxA8DKvs6y2PEBTZCrxGr08QL2tu3hAwzxAaAXQDCLJPEAozjoHxM48QH1vS2Qq1DxAe2aQzFjZPED0ji6dUt48QO3MRu8a4zxAUUqWnrTnPECGPlBPIuw8QMFXT3Nm8DxA13aqToP0PEBn/NT7evg8QJ7ETW9P/DxAFkDdegIAPUAKmLPQlQM9QCaM4AULBz1ApIfClGMKPUD1hlHfoA09QKcr6TDEED1AU2gtwM4TPUAtGaGwwRY9QNYi9ROeGT1AKV+Z62QcPUA4A8wpFx89QEE/uLK1IT1AjEGAXUEkPUA=\",\"dtype\":\"float64\",\"shape\":[100]}},\"selected\":{\"id\":\"1739\"},\"selection_policy\":{\"id\":\"1740\"}},\"id\":\"1671\",\"type\":\"ColumnDataSource\"},{\"attributes\":{},\"id\":\"1616\",\"type\":\"DataRange1d\"},{\"attributes\":{},\"id\":\"1635\",\"type\":\"HelpTool\"},{\"attributes\":{\"line_color\":\"#1f77b3\",\"line_width\":2,\"x\":{\"field\":\"x\"},\"y\":{\"field\":\"y\"}},\"id\":\"1645\",\"type\":\"Line\"},{\"attributes\":{\"axis\":{\"id\":\"1626\"},\"dimension\":1,\"ticker\":null},\"id\":\"1629\",\"type\":\"Grid\"},{\"attributes\":{},\"id\":\"1620\",\"type\":\"LinearScale\"},{\"attributes\":{\"axis\":{\"id\":\"1622\"},\"ticker\":null},\"id\":\"1625\",\"type\":\"Grid\"},{\"attributes\":{\"label\":{\"value\":\"atp\"},\"renderers\":[{\"id\":\"1647\"}]},\"id\":\"1656\",\"type\":\"LegendItem\"},{\"attributes\":{\"data\":{\"x\":{\"__ndarray__\":\"AAAAAAAAAAA++OCDDz7oPz744IMPPvg/LrrooosuAkA++OCDDz4IQE422WSTTQ5ALrrooosuEkA22WSTTTYVQD744IMPPhhARhdddNFFG0BONtlkk00eQKuqqqqqqiBALrrooosuIkCyySabbLIjQDbZZJNNNiVAuuiiiy66JkA++OCDDz4oQMIHH3zwwSlARhdddNFFK0DKJptsssksQE422WSTTS5A0UUXXXTRL0CrqqqqqqowQG2yySabbDFALrrooosuMkDwwQcffPAyQLLJJptssjNAdNFFF110NEA22WSTTTY1QPjggw8++DVAuuiiiy66NkB88MEHH3w3QD744IMPPjhAAAAAAAAAOUDCBx988ME5QIQPPvjggzpARhdddNFFO0AIH3zwwQc8QMomm2yyyTxAjC666KKLPUBONtlkk00+QA8++OCDDz9A0UUXXXTRP0DKJptssklAQKuqqqqqqkBAjC666KILQUBtsskmm2xBQE422WSTzUFALrrooosuQkAPPvjgg49CQPDBBx988EJA0UUXXXRRQ0CyySabbLJDQJNNNtlkE0RAdNFFF110REBVVVVVVdVEQDbZZJNNNkVAF1100UWXRUD44IMPPvhFQNlkk002WUZAuuiiiy66RkCbbLLJJhtHQHzwwQcffEdAXXTRRRfdR0A++OCDDz5IQB988MEHn0hAAAAAAAAASUDhgw8++GBJQMIHH3zwwUlAo4suuugiSkCEDz744INKQGWTTTbZ5EpARhdddNFFS0Anm2yyyaZLQAgffPDBB0xA6aKLLrpoTEDKJptssslMQKuqqqqqKk1AjC666KKLTUBtsskmm+xNQE422WSTTU5ALrrooouuTkAPPvjggw9PQPDBBx98cE9A0UUXXXTRT0DZZJNNNhlQQMomm2yySVBAuuiiiy56UECrqqqqqqpQQJtssskm21BAjC666KILUUB88MEHHzxRQG2yySabbFFAXXTRRRedUUBONtlkk81RQD744IMP/lFALrrooosuUkAffPDBB19SQA8++OCDj1JAAAAAAADAUkA=\",\"dtype\":\"float64\",\"shape\":[100]},\"y\":{\"__ndarray__\":\"AAAAAAAAPkBsvvCXNyY8QDZhyOWGczpA6RbFAnDCOEBK13K0yxM3QI+lGPZsaDVAJR1rUDXBM0Bv7fyLEB8yQFPxtpbqgjBA/glyK1LbLUBSI9iuUcAqQDmnXI6BtidA0YnsO5i/JEDZ4wO4et0hQGOyWeXwJB5AIGW2+UvDGECU1vzS054TQHfXuBCYiQ1AEDu8zk+UBECtmpXCJUb5P2P/7oglrug/dLHEQe8rzj8hzijVt0CbP/1jV+s+tj4/QpB+zQz0lT6xm2koYgmIPRTPtygqO6Y8/CS6Dc17qTuVvyCDyZkbu2OsslSpMb05EskPqClOGbhovD9f7WjwtlfMkMw8lUy2D8rU1PJ4ebVSjfof0eOFtKcBgc7PD0I03gl7uBHi4bN0qCM1XJjtshx2aAAQw7Mygshj7LSI5THERkAOTW8hMYh6F5MJppYwOpcOAuPGcbDQvbavRnZfsCy08mKXPTKwEJCpyIpd3i/5orQEtNOkL76cz+0Mt28v21CWKNATCq86vhzd90T+rh3bN7xRngQvCO2lZ2ZSEC/hgTg38rD1rhxqtNnTfgovUiTwQ2npFa9rvraDR84YL1pe0P7CByKvDOuTiHjlLi+7gAWLW0o9r1xZnb8AgUIvHMB0/EFLES+79jY5MHL+rtyQ4kjHed0uD8C+Ai/xs64W9s1C6gmzrvNjDzWpl4euY6Flla0sXK7DEIuQ9oQ3rvKPsHd1vAyuxDv8hwG9CK7JcnPNVggKrhQV8Rxzp82tulFQ47tF6K0sq4fzc9n1rUpE8dp9Us6tTHFdb1JEs63ohs4lw2PhrXjFeD206KCtMjVqupod3S3tg9cAMT3NrdQ/mApmp92tPbOhbiuY1y2erIvTyHzXLU2QNvUIbeStXI5yz5NE1K1i0D/XqiruLfQT7eds9MstEBVk0mB6860D55/oY1/oraiELuIGqOKtKjUYG75y3q2yjseF1t3UrWGp1aMZK9KtUMq76eYZzK1uOBZWPCTHrQskDuESLMOtA/I7zmocwK1FZiKRKGy7rTuEsPL+nLet6RtRFkaOtK0=\",\"dtype\":\"float64\",\"shape\":[100]}},\"selected\":{\"id\":\"1684\"},\"selection_policy\":{\"id\":\"1685\"}},\"id\":\"1657\",\"type\":\"ColumnDataSource\"},{\"attributes\":{\"line_alpha\":0.1,\"line_color\":\"#2ba02b\",\"line_width\":2,\"x\":{\"field\":\"x\"},\"y\":{\"field\":\"y\"}},\"id\":\"1673\",\"type\":\"Line\"},{\"attributes\":{},\"id\":\"1623\",\"type\":\"BasicTicker\"},{\"attributes\":{},\"id\":\"1634\",\"type\":\"ResetTool\"},{\"attributes\":{\"overlay\":{\"id\":\"1636\"}},\"id\":\"1632\",\"type\":\"BoxZoomTool\"},{\"attributes\":{\"label\":{\"value\":\"glucose\"},\"renderers\":[{\"id\":\"1660\"}]},\"id\":\"1670\",\"type\":\"LegendItem\"},{\"attributes\":{},\"id\":\"1650\",\"type\":\"BasicTickFormatter\"},{\"attributes\":{},\"id\":\"1633\",\"type\":\"SaveTool\"}],\"root_ids\":[\"1611\"]},\"title\":\"Bokeh Application\",\"version\":\"2.0.2\"}};\n",
       "  var render_items = [{\"docid\":\"db07000f-bc51-4383-aa17-d057bff8a2c9\",\"root_ids\":[\"1611\"],\"roots\":{\"1611\":\"58e1ed9b-65c1-42a0-b0ee-cdfae45e65e7\"}}];\n",
       "  root.Bokeh.embed.embed_items_notebook(docs_json, render_items);\n",
       "\n",
       "  }\n",
       "  if (root.Bokeh !== undefined) {\n",
       "    embed_document(root);\n",
       "  } else {\n",
       "    var attempts = 0;\n",
       "    var timer = setInterval(function(root) {\n",
       "      if (root.Bokeh !== undefined) {\n",
       "        clearInterval(timer);\n",
       "        embed_document(root);\n",
       "      } else {\n",
       "        attempts++;\n",
       "        if (attempts > 100) {\n",
       "          clearInterval(timer);\n",
       "          console.log(\"Bokeh: ERROR: Unable to run BokehJS code because BokehJS library is missing\");\n",
       "        }\n",
       "      }\n",
       "    }, 10, root)\n",
       "  }\n",
       "})(window);"
      ],
      "application/vnd.bokehjs_exec.v0+json": ""
     },
     "metadata": {
      "application/vnd.bokehjs_exec.v0+json": {
       "id": "1611"
      }
     },
     "output_type": "display_data"
    }
   ],
   "source": [
    "p = bokeh.plotting.figure(width = 450, height = 300,\n",
    "                         title = 'Test sbml to ode code',\n",
    "                         x_axis_label = 'time (hrs)',\n",
    "                         y_axis_label = 'concentration (mM)')\n",
    "\n",
    "palette = colorcet.b_glasbey_category10\n",
    "p.line(timepoints, solutions[:,1], legend_label = 'atp', line_width = 2, color = palette[0])\n",
    "p.line(timepoints, solutions[:,2], legend_label = 'glucose', line_width = 2, color = palette[1])\n",
    "p.line(timepoints, solutions[:,62], legend_label = 'isobutanol', line_width = 2, color = palette[2])\n",
    "\n",
    "\n",
    "bokeh.io.show(p)"
   ]
  },
  {
   "cell_type": "code",
   "execution_count": 34,
   "metadata": {},
   "outputs": [
    {
     "name": "stdout",
     "output_type": "stream",
     "text": [
      "CPython 3.7.7\n",
      "IPython 7.13.0\n",
      "\n",
      "sympy 1.5.1\n",
      "scipy 1.4.1\n",
      "bokeh 2.0.2\n",
      "colorcet 2.0.2\n",
      "jupyterlab 1.2.6\n"
     ]
    }
   ],
   "source": [
    "#watermark\n",
    "%reload_ext watermark\n",
    "%watermark -v -p sympy,scipy,bokeh,colorcet,jupyterlab"
   ]
  },
  {
   "cell_type": "code",
   "execution_count": null,
   "metadata": {},
   "outputs": [],
   "source": []
  }
 ],
 "metadata": {
  "kernelspec": {
   "display_name": "Python 3",
   "language": "python",
   "name": "python3"
  },
  "language_info": {
   "codemirror_mode": {
    "name": "ipython",
    "version": 3
   },
   "file_extension": ".py",
   "mimetype": "text/x-python",
   "name": "python",
   "nbconvert_exporter": "python",
   "pygments_lexer": "ipython3",
   "version": "3.7.7"
  }
 },
 "nbformat": 4,
 "nbformat_minor": 4
}
