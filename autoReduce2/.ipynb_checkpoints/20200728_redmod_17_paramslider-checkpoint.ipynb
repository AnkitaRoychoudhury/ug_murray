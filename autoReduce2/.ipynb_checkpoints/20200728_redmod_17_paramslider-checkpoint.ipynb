{
 "cells": [
  {
   "cell_type": "markdown",
   "metadata": {},
   "source": [
    "# Reduced Model attempt 17: Parameters Sliders\n",
    "In this notebook, we will simulate with a slider for each notebook to see what parameters are more important and which aren't, maybe we can remove particular reverse reactions."
   ]
  },
  {
   "cell_type": "code",
   "execution_count": 23,
   "metadata": {},
   "outputs": [
    {
     "data": {
      "text/html": [
       "\n",
       "    <div class=\"bk-root\">\n",
       "        <a href=\"https://bokeh.org\" target=\"_blank\" class=\"bk-logo bk-logo-small bk-logo-notebook\"></a>\n",
       "        <span id=\"1519\">Loading BokehJS ...</span>\n",
       "    </div>"
      ]
     },
     "metadata": {},
     "output_type": "display_data"
    },
    {
     "data": {
      "application/javascript": [
       "\n",
       "(function(root) {\n",
       "  function now() {\n",
       "    return new Date();\n",
       "  }\n",
       "\n",
       "  var force = true;\n",
       "\n",
       "  if (typeof root._bokeh_onload_callbacks === \"undefined\" || force === true) {\n",
       "    root._bokeh_onload_callbacks = [];\n",
       "    root._bokeh_is_loading = undefined;\n",
       "  }\n",
       "\n",
       "  var JS_MIME_TYPE = 'application/javascript';\n",
       "  var HTML_MIME_TYPE = 'text/html';\n",
       "  var EXEC_MIME_TYPE = 'application/vnd.bokehjs_exec.v0+json';\n",
       "  var CLASS_NAME = 'output_bokeh rendered_html';\n",
       "\n",
       "  /**\n",
       "   * Render data to the DOM node\n",
       "   */\n",
       "  function render(props, node) {\n",
       "    var script = document.createElement(\"script\");\n",
       "    node.appendChild(script);\n",
       "  }\n",
       "\n",
       "  /**\n",
       "   * Handle when an output is cleared or removed\n",
       "   */\n",
       "  function handleClearOutput(event, handle) {\n",
       "    var cell = handle.cell;\n",
       "\n",
       "    var id = cell.output_area._bokeh_element_id;\n",
       "    var server_id = cell.output_area._bokeh_server_id;\n",
       "    // Clean up Bokeh references\n",
       "    if (id != null && id in Bokeh.index) {\n",
       "      Bokeh.index[id].model.document.clear();\n",
       "      delete Bokeh.index[id];\n",
       "    }\n",
       "\n",
       "    if (server_id !== undefined) {\n",
       "      // Clean up Bokeh references\n",
       "      var cmd = \"from bokeh.io.state import curstate; print(curstate().uuid_to_server['\" + server_id + \"'].get_sessions()[0].document.roots[0]._id)\";\n",
       "      cell.notebook.kernel.execute(cmd, {\n",
       "        iopub: {\n",
       "          output: function(msg) {\n",
       "            var id = msg.content.text.trim();\n",
       "            if (id in Bokeh.index) {\n",
       "              Bokeh.index[id].model.document.clear();\n",
       "              delete Bokeh.index[id];\n",
       "            }\n",
       "          }\n",
       "        }\n",
       "      });\n",
       "      // Destroy server and session\n",
       "      var cmd = \"import bokeh.io.notebook as ion; ion.destroy_server('\" + server_id + \"')\";\n",
       "      cell.notebook.kernel.execute(cmd);\n",
       "    }\n",
       "  }\n",
       "\n",
       "  /**\n",
       "   * Handle when a new output is added\n",
       "   */\n",
       "  function handleAddOutput(event, handle) {\n",
       "    var output_area = handle.output_area;\n",
       "    var output = handle.output;\n",
       "\n",
       "    // limit handleAddOutput to display_data with EXEC_MIME_TYPE content only\n",
       "    if ((output.output_type != \"display_data\") || (!output.data.hasOwnProperty(EXEC_MIME_TYPE))) {\n",
       "      return\n",
       "    }\n",
       "\n",
       "    var toinsert = output_area.element.find(\".\" + CLASS_NAME.split(' ')[0]);\n",
       "\n",
       "    if (output.metadata[EXEC_MIME_TYPE][\"id\"] !== undefined) {\n",
       "      toinsert[toinsert.length - 1].firstChild.textContent = output.data[JS_MIME_TYPE];\n",
       "      // store reference to embed id on output_area\n",
       "      output_area._bokeh_element_id = output.metadata[EXEC_MIME_TYPE][\"id\"];\n",
       "    }\n",
       "    if (output.metadata[EXEC_MIME_TYPE][\"server_id\"] !== undefined) {\n",
       "      var bk_div = document.createElement(\"div\");\n",
       "      bk_div.innerHTML = output.data[HTML_MIME_TYPE];\n",
       "      var script_attrs = bk_div.children[0].attributes;\n",
       "      for (var i = 0; i < script_attrs.length; i++) {\n",
       "        toinsert[toinsert.length - 1].firstChild.setAttribute(script_attrs[i].name, script_attrs[i].value);\n",
       "        toinsert[toinsert.length - 1].firstChild.textContent = bk_div.children[0].textContent\n",
       "      }\n",
       "      // store reference to server id on output_area\n",
       "      output_area._bokeh_server_id = output.metadata[EXEC_MIME_TYPE][\"server_id\"];\n",
       "    }\n",
       "  }\n",
       "\n",
       "  function register_renderer(events, OutputArea) {\n",
       "\n",
       "    function append_mime(data, metadata, element) {\n",
       "      // create a DOM node to render to\n",
       "      var toinsert = this.create_output_subarea(\n",
       "        metadata,\n",
       "        CLASS_NAME,\n",
       "        EXEC_MIME_TYPE\n",
       "      );\n",
       "      this.keyboard_manager.register_events(toinsert);\n",
       "      // Render to node\n",
       "      var props = {data: data, metadata: metadata[EXEC_MIME_TYPE]};\n",
       "      render(props, toinsert[toinsert.length - 1]);\n",
       "      element.append(toinsert);\n",
       "      return toinsert\n",
       "    }\n",
       "\n",
       "    /* Handle when an output is cleared or removed */\n",
       "    events.on('clear_output.CodeCell', handleClearOutput);\n",
       "    events.on('delete.Cell', handleClearOutput);\n",
       "\n",
       "    /* Handle when a new output is added */\n",
       "    events.on('output_added.OutputArea', handleAddOutput);\n",
       "\n",
       "    /**\n",
       "     * Register the mime type and append_mime function with output_area\n",
       "     */\n",
       "    OutputArea.prototype.register_mime_type(EXEC_MIME_TYPE, append_mime, {\n",
       "      /* Is output safe? */\n",
       "      safe: true,\n",
       "      /* Index of renderer in `output_area.display_order` */\n",
       "      index: 0\n",
       "    });\n",
       "  }\n",
       "\n",
       "  // register the mime type if in Jupyter Notebook environment and previously unregistered\n",
       "  if (root.Jupyter !== undefined) {\n",
       "    var events = require('base/js/events');\n",
       "    var OutputArea = require('notebook/js/outputarea').OutputArea;\n",
       "\n",
       "    if (OutputArea.prototype.mime_types().indexOf(EXEC_MIME_TYPE) == -1) {\n",
       "      register_renderer(events, OutputArea);\n",
       "    }\n",
       "  }\n",
       "\n",
       "  \n",
       "  if (typeof (root._bokeh_timeout) === \"undefined\" || force === true) {\n",
       "    root._bokeh_timeout = Date.now() + 5000;\n",
       "    root._bokeh_failed_load = false;\n",
       "  }\n",
       "\n",
       "  var NB_LOAD_WARNING = {'data': {'text/html':\n",
       "     \"<div style='background-color: #fdd'>\\n\"+\n",
       "     \"<p>\\n\"+\n",
       "     \"BokehJS does not appear to have successfully loaded. If loading BokehJS from CDN, this \\n\"+\n",
       "     \"may be due to a slow or bad network connection. Possible fixes:\\n\"+\n",
       "     \"</p>\\n\"+\n",
       "     \"<ul>\\n\"+\n",
       "     \"<li>re-rerun `output_notebook()` to attempt to load from CDN again, or</li>\\n\"+\n",
       "     \"<li>use INLINE resources instead, as so:</li>\\n\"+\n",
       "     \"</ul>\\n\"+\n",
       "     \"<code>\\n\"+\n",
       "     \"from bokeh.resources import INLINE\\n\"+\n",
       "     \"output_notebook(resources=INLINE)\\n\"+\n",
       "     \"</code>\\n\"+\n",
       "     \"</div>\"}};\n",
       "\n",
       "  function display_loaded() {\n",
       "    var el = document.getElementById(\"1519\");\n",
       "    if (el != null) {\n",
       "      el.textContent = \"BokehJS is loading...\";\n",
       "    }\n",
       "    if (root.Bokeh !== undefined) {\n",
       "      if (el != null) {\n",
       "        el.textContent = \"BokehJS \" + root.Bokeh.version + \" successfully loaded.\";\n",
       "      }\n",
       "    } else if (Date.now() < root._bokeh_timeout) {\n",
       "      setTimeout(display_loaded, 100)\n",
       "    }\n",
       "  }\n",
       "\n",
       "\n",
       "  function run_callbacks() {\n",
       "    try {\n",
       "      root._bokeh_onload_callbacks.forEach(function(callback) {\n",
       "        if (callback != null)\n",
       "          callback();\n",
       "      });\n",
       "    } finally {\n",
       "      delete root._bokeh_onload_callbacks\n",
       "    }\n",
       "    console.debug(\"Bokeh: all callbacks have finished\");\n",
       "  }\n",
       "\n",
       "  function load_libs(css_urls, js_urls, callback) {\n",
       "    if (css_urls == null) css_urls = [];\n",
       "    if (js_urls == null) js_urls = [];\n",
       "\n",
       "    root._bokeh_onload_callbacks.push(callback);\n",
       "    if (root._bokeh_is_loading > 0) {\n",
       "      console.debug(\"Bokeh: BokehJS is being loaded, scheduling callback at\", now());\n",
       "      return null;\n",
       "    }\n",
       "    if (js_urls == null || js_urls.length === 0) {\n",
       "      run_callbacks();\n",
       "      return null;\n",
       "    }\n",
       "    console.debug(\"Bokeh: BokehJS not loaded, scheduling load and callback at\", now());\n",
       "    root._bokeh_is_loading = css_urls.length + js_urls.length;\n",
       "\n",
       "    function on_load() {\n",
       "      root._bokeh_is_loading--;\n",
       "      if (root._bokeh_is_loading === 0) {\n",
       "        console.debug(\"Bokeh: all BokehJS libraries/stylesheets loaded\");\n",
       "        run_callbacks()\n",
       "      }\n",
       "    }\n",
       "\n",
       "    function on_error() {\n",
       "      console.error(\"failed to load \" + url);\n",
       "    }\n",
       "\n",
       "    for (var i = 0; i < css_urls.length; i++) {\n",
       "      var url = css_urls[i];\n",
       "      const element = document.createElement(\"link\");\n",
       "      element.onload = on_load;\n",
       "      element.onerror = on_error;\n",
       "      element.rel = \"stylesheet\";\n",
       "      element.type = \"text/css\";\n",
       "      element.href = url;\n",
       "      console.debug(\"Bokeh: injecting link tag for BokehJS stylesheet: \", url);\n",
       "      document.body.appendChild(element);\n",
       "    }\n",
       "\n",
       "    const hashes = {\"https://cdn.bokeh.org/bokeh/release/bokeh-2.0.2.min.js\": \"ufR9RFnRs6lniiaFvtJziE0YeidtAgBRH6ux2oUItHw5WTvE1zuk9uzhUU/FJXDp\", \"https://cdn.bokeh.org/bokeh/release/bokeh-widgets-2.0.2.min.js\": \"8QM/PGWBT+IssZuRcDcjzwIh1mkOmJSoNMmyYDZbCfXJg3Ap1lEvdVgFuSAwhb/J\", \"https://cdn.bokeh.org/bokeh/release/bokeh-tables-2.0.2.min.js\": \"Jm8cH3Rg0P6UeZhVY5cLy1WzKajUT9KImCY+76hEqrcJt59/d8GPvFHjCkYgnSIn\", \"https://cdn.bokeh.org/bokeh/release/bokeh-gl-2.0.2.min.js\": \"Ozhzj+SI7ywm74aOI/UajcWz+C0NjsPunEVyVIrxzYkB+jA+2tUw8x5xJCbVtK5I\"};\n",
       "\n",
       "    for (var i = 0; i < js_urls.length; i++) {\n",
       "      var url = js_urls[i];\n",
       "      var element = document.createElement('script');\n",
       "      element.onload = on_load;\n",
       "      element.onerror = on_error;\n",
       "      element.async = false;\n",
       "      element.src = url;\n",
       "      if (url in hashes) {\n",
       "        element.crossOrigin = \"anonymous\";\n",
       "        element.integrity = \"sha384-\" + hashes[url];\n",
       "      }\n",
       "      console.debug(\"Bokeh: injecting script tag for BokehJS library: \", url);\n",
       "      document.head.appendChild(element);\n",
       "    }\n",
       "  };\n",
       "\n",
       "  function inject_raw_css(css) {\n",
       "    const element = document.createElement(\"style\");\n",
       "    element.appendChild(document.createTextNode(css));\n",
       "    document.body.appendChild(element);\n",
       "  }\n",
       "\n",
       "  \n",
       "  var js_urls = [\"https://cdn.bokeh.org/bokeh/release/bokeh-2.0.2.min.js\", \"https://cdn.bokeh.org/bokeh/release/bokeh-widgets-2.0.2.min.js\", \"https://cdn.bokeh.org/bokeh/release/bokeh-tables-2.0.2.min.js\", \"https://cdn.bokeh.org/bokeh/release/bokeh-gl-2.0.2.min.js\"];\n",
       "  var css_urls = [];\n",
       "  \n",
       "\n",
       "  var inline_js = [\n",
       "    function(Bokeh) {\n",
       "      Bokeh.set_log_level(\"info\");\n",
       "    },\n",
       "    function(Bokeh) {\n",
       "    \n",
       "    \n",
       "    }\n",
       "  ];\n",
       "\n",
       "  function run_inline_js() {\n",
       "    \n",
       "    if (root.Bokeh !== undefined || force === true) {\n",
       "      \n",
       "    for (var i = 0; i < inline_js.length; i++) {\n",
       "      inline_js[i].call(root, root.Bokeh);\n",
       "    }\n",
       "    if (force === true) {\n",
       "        display_loaded();\n",
       "      }} else if (Date.now() < root._bokeh_timeout) {\n",
       "      setTimeout(run_inline_js, 100);\n",
       "    } else if (!root._bokeh_failed_load) {\n",
       "      console.log(\"Bokeh: BokehJS failed to load within specified timeout.\");\n",
       "      root._bokeh_failed_load = true;\n",
       "    } else if (force !== true) {\n",
       "      var cell = $(document.getElementById(\"1519\")).parents('.cell').data().cell;\n",
       "      cell.output_area.append_execute_result(NB_LOAD_WARNING)\n",
       "    }\n",
       "\n",
       "  }\n",
       "\n",
       "  if (root._bokeh_is_loading === 0) {\n",
       "    console.debug(\"Bokeh: BokehJS loaded, going straight to plotting\");\n",
       "    run_inline_js();\n",
       "  } else {\n",
       "    load_libs(css_urls, js_urls, function() {\n",
       "      console.debug(\"Bokeh: BokehJS plotting callback run at\", now());\n",
       "      run_inline_js();\n",
       "    });\n",
       "  }\n",
       "}(window));"
      ],
      "application/vnd.bokehjs_load.v0+json": "\n(function(root) {\n  function now() {\n    return new Date();\n  }\n\n  var force = true;\n\n  if (typeof root._bokeh_onload_callbacks === \"undefined\" || force === true) {\n    root._bokeh_onload_callbacks = [];\n    root._bokeh_is_loading = undefined;\n  }\n\n  \n\n  \n  if (typeof (root._bokeh_timeout) === \"undefined\" || force === true) {\n    root._bokeh_timeout = Date.now() + 5000;\n    root._bokeh_failed_load = false;\n  }\n\n  var NB_LOAD_WARNING = {'data': {'text/html':\n     \"<div style='background-color: #fdd'>\\n\"+\n     \"<p>\\n\"+\n     \"BokehJS does not appear to have successfully loaded. If loading BokehJS from CDN, this \\n\"+\n     \"may be due to a slow or bad network connection. Possible fixes:\\n\"+\n     \"</p>\\n\"+\n     \"<ul>\\n\"+\n     \"<li>re-rerun `output_notebook()` to attempt to load from CDN again, or</li>\\n\"+\n     \"<li>use INLINE resources instead, as so:</li>\\n\"+\n     \"</ul>\\n\"+\n     \"<code>\\n\"+\n     \"from bokeh.resources import INLINE\\n\"+\n     \"output_notebook(resources=INLINE)\\n\"+\n     \"</code>\\n\"+\n     \"</div>\"}};\n\n  function display_loaded() {\n    var el = document.getElementById(\"1519\");\n    if (el != null) {\n      el.textContent = \"BokehJS is loading...\";\n    }\n    if (root.Bokeh !== undefined) {\n      if (el != null) {\n        el.textContent = \"BokehJS \" + root.Bokeh.version + \" successfully loaded.\";\n      }\n    } else if (Date.now() < root._bokeh_timeout) {\n      setTimeout(display_loaded, 100)\n    }\n  }\n\n\n  function run_callbacks() {\n    try {\n      root._bokeh_onload_callbacks.forEach(function(callback) {\n        if (callback != null)\n          callback();\n      });\n    } finally {\n      delete root._bokeh_onload_callbacks\n    }\n    console.debug(\"Bokeh: all callbacks have finished\");\n  }\n\n  function load_libs(css_urls, js_urls, callback) {\n    if (css_urls == null) css_urls = [];\n    if (js_urls == null) js_urls = [];\n\n    root._bokeh_onload_callbacks.push(callback);\n    if (root._bokeh_is_loading > 0) {\n      console.debug(\"Bokeh: BokehJS is being loaded, scheduling callback at\", now());\n      return null;\n    }\n    if (js_urls == null || js_urls.length === 0) {\n      run_callbacks();\n      return null;\n    }\n    console.debug(\"Bokeh: BokehJS not loaded, scheduling load and callback at\", now());\n    root._bokeh_is_loading = css_urls.length + js_urls.length;\n\n    function on_load() {\n      root._bokeh_is_loading--;\n      if (root._bokeh_is_loading === 0) {\n        console.debug(\"Bokeh: all BokehJS libraries/stylesheets loaded\");\n        run_callbacks()\n      }\n    }\n\n    function on_error() {\n      console.error(\"failed to load \" + url);\n    }\n\n    for (var i = 0; i < css_urls.length; i++) {\n      var url = css_urls[i];\n      const element = document.createElement(\"link\");\n      element.onload = on_load;\n      element.onerror = on_error;\n      element.rel = \"stylesheet\";\n      element.type = \"text/css\";\n      element.href = url;\n      console.debug(\"Bokeh: injecting link tag for BokehJS stylesheet: \", url);\n      document.body.appendChild(element);\n    }\n\n    const hashes = {\"https://cdn.bokeh.org/bokeh/release/bokeh-2.0.2.min.js\": \"ufR9RFnRs6lniiaFvtJziE0YeidtAgBRH6ux2oUItHw5WTvE1zuk9uzhUU/FJXDp\", \"https://cdn.bokeh.org/bokeh/release/bokeh-widgets-2.0.2.min.js\": \"8QM/PGWBT+IssZuRcDcjzwIh1mkOmJSoNMmyYDZbCfXJg3Ap1lEvdVgFuSAwhb/J\", \"https://cdn.bokeh.org/bokeh/release/bokeh-tables-2.0.2.min.js\": \"Jm8cH3Rg0P6UeZhVY5cLy1WzKajUT9KImCY+76hEqrcJt59/d8GPvFHjCkYgnSIn\", \"https://cdn.bokeh.org/bokeh/release/bokeh-gl-2.0.2.min.js\": \"Ozhzj+SI7ywm74aOI/UajcWz+C0NjsPunEVyVIrxzYkB+jA+2tUw8x5xJCbVtK5I\"};\n\n    for (var i = 0; i < js_urls.length; i++) {\n      var url = js_urls[i];\n      var element = document.createElement('script');\n      element.onload = on_load;\n      element.onerror = on_error;\n      element.async = false;\n      element.src = url;\n      if (url in hashes) {\n        element.crossOrigin = \"anonymous\";\n        element.integrity = \"sha384-\" + hashes[url];\n      }\n      console.debug(\"Bokeh: injecting script tag for BokehJS library: \", url);\n      document.head.appendChild(element);\n    }\n  };\n\n  function inject_raw_css(css) {\n    const element = document.createElement(\"style\");\n    element.appendChild(document.createTextNode(css));\n    document.body.appendChild(element);\n  }\n\n  \n  var js_urls = [\"https://cdn.bokeh.org/bokeh/release/bokeh-2.0.2.min.js\", \"https://cdn.bokeh.org/bokeh/release/bokeh-widgets-2.0.2.min.js\", \"https://cdn.bokeh.org/bokeh/release/bokeh-tables-2.0.2.min.js\", \"https://cdn.bokeh.org/bokeh/release/bokeh-gl-2.0.2.min.js\"];\n  var css_urls = [];\n  \n\n  var inline_js = [\n    function(Bokeh) {\n      Bokeh.set_log_level(\"info\");\n    },\n    function(Bokeh) {\n    \n    \n    }\n  ];\n\n  function run_inline_js() {\n    \n    if (root.Bokeh !== undefined || force === true) {\n      \n    for (var i = 0; i < inline_js.length; i++) {\n      inline_js[i].call(root, root.Bokeh);\n    }\n    if (force === true) {\n        display_loaded();\n      }} else if (Date.now() < root._bokeh_timeout) {\n      setTimeout(run_inline_js, 100);\n    } else if (!root._bokeh_failed_load) {\n      console.log(\"Bokeh: BokehJS failed to load within specified timeout.\");\n      root._bokeh_failed_load = true;\n    } else if (force !== true) {\n      var cell = $(document.getElementById(\"1519\")).parents('.cell').data().cell;\n      cell.output_area.append_execute_result(NB_LOAD_WARNING)\n    }\n\n  }\n\n  if (root._bokeh_is_loading === 0) {\n    console.debug(\"Bokeh: BokehJS loaded, going straight to plotting\");\n    run_inline_js();\n  } else {\n    load_libs(css_urls, js_urls, function() {\n      console.debug(\"Bokeh: BokehJS plotting callback run at\", now());\n      run_inline_js();\n    });\n  }\n}(window));"
     },
     "metadata": {},
     "output_type": "display_data"
    }
   ],
   "source": [
    "from auto_reduce import *\n",
    "from auto_reduce.utils import get_ODE\n",
    "import matplotlib.pyplot as plt\n",
    "from auto_reduce.utils import reduce\n",
    "\n",
    "import bokeh.io\n",
    "import bokeh.plotting\n",
    "bokeh.io.output_notebook()\n",
    "from bokeh.layouts import row\n",
    "\n",
    "import colorcet\n",
    "\n",
    "from sbml_to_ode2 import *\n",
    "from scipy.integrate import odeint\n",
    "import numpy as np\n",
    "from sympy import *\n",
    "from sympy.utilities.lambdify import lambdify\n",
    "from sympy.abc import t"
   ]
  },
  {
   "cell_type": "markdown",
   "metadata": {},
   "source": [
    "--- \n",
    "## Sensitivity Analysis\n",
    "### Reduced Model 5"
   ]
  },
  {
   "cell_type": "code",
   "execution_count": 5,
   "metadata": {},
   "outputs": [],
   "source": [
    "%run sbml_to_ode2.py"
   ]
  },
  {
   "cell_type": "code",
   "execution_count": 61,
   "metadata": {},
   "outputs": [
    {
     "name": "stdout",
     "output_type": "stream",
     "text": [
      "attempting to retain : [0, 1, 2, 3, 4, 7, 8, 11, 12, 15, 16, 19, 20, 21, 22, 25, 26, 27, 30, 33, 34, 37, 38, 41, 42, 45, 46, 49, 50, 53, 54, 57, 58, 61, 62, 65, 66, 67]\n",
      "Successful time-scale separation solution obtained.\n",
      "the ATP error is: 1377.5052417105946\n",
      "<class 'numpy.ndarray'>\n"
     ]
    },
    {
     "data": {
      "text/html": [
       "\n",
       "\n",
       "\n",
       "\n",
       "\n",
       "\n",
       "  <div class=\"bk-root\" id=\"3495ef68-4b6a-4bac-84c6-d3e53e6d1da0\" data-root-id=\"1520\"></div>\n"
      ]
     },
     "metadata": {},
     "output_type": "display_data"
    },
    {
     "data": {
      "application/javascript": [
       "(function(root) {\n",
       "  function embed_document(root) {\n",
       "    \n",
       "  var docs_json = {\"5943c750-62fc-4372-b5ab-e3b65cc4586b\":{\"roots\":{\"references\":[{\"attributes\":{\"below\":[{\"id\":\"1531\"}],\"center\":[{\"id\":\"1534\"},{\"id\":\"1538\"},{\"id\":\"1564\"}],\"left\":[{\"id\":\"1535\"}],\"plot_height\":350,\"plot_width\":475,\"renderers\":[{\"id\":\"1556\"},{\"id\":\"1569\"},{\"id\":\"1583\"}],\"title\":{\"id\":\"1521\"},\"toolbar\":{\"id\":\"1546\"},\"x_range\":{\"id\":\"1523\"},\"x_scale\":{\"id\":\"1527\"},\"y_range\":{\"id\":\"1525\"},\"y_scale\":{\"id\":\"1529\"}},\"id\":\"1520\",\"subtype\":\"Figure\",\"type\":\"Plot\"},{\"attributes\":{},\"id\":\"1560\",\"type\":\"BasicTickFormatter\"},{\"attributes\":{\"line_color\":\"#d62628\",\"line_width\":2,\"x\":{\"field\":\"x\"},\"y\":{\"field\":\"y\"}},\"id\":\"1554\",\"type\":\"Line\"},{\"attributes\":{\"line_alpha\":0.1,\"line_color\":\"#ff7e0e\",\"line_width\":2,\"x\":{\"field\":\"x\"},\"y\":{\"field\":\"y\"}},\"id\":\"1582\",\"type\":\"Line\"},{\"attributes\":{},\"id\":\"1592\",\"type\":\"UnionRenderers\"},{\"attributes\":{},\"id\":\"1539\",\"type\":\"PanTool\"},{\"attributes\":{},\"id\":\"1527\",\"type\":\"LinearScale\"},{\"attributes\":{\"data_source\":{\"id\":\"1553\"},\"glyph\":{\"id\":\"1554\"},\"hover_glyph\":null,\"muted_glyph\":null,\"nonselection_glyph\":{\"id\":\"1555\"},\"selection_glyph\":null,\"view\":{\"id\":\"1557\"}},\"id\":\"1556\",\"type\":\"GlyphRenderer\"},{\"attributes\":{},\"id\":\"1532\",\"type\":\"BasicTicker\"},{\"attributes\":{\"label\":{\"value\":\"atp\"},\"renderers\":[{\"id\":\"1556\"}]},\"id\":\"1565\",\"type\":\"LegendItem\"},{\"attributes\":{\"line_color\":\"#ff7e0e\",\"line_width\":2,\"x\":{\"field\":\"x\"},\"y\":{\"field\":\"y\"}},\"id\":\"1581\",\"type\":\"Line\"},{\"attributes\":{\"source\":{\"id\":\"1566\"}},\"id\":\"1570\",\"type\":\"CDSView\"},{\"attributes\":{\"source\":{\"id\":\"1553\"}},\"id\":\"1557\",\"type\":\"CDSView\"},{\"attributes\":{},\"id\":\"1540\",\"type\":\"WheelZoomTool\"},{\"attributes\":{\"label\":{\"value\":\"isobutanol\"},\"renderers\":[{\"id\":\"1583\"}]},\"id\":\"1595\",\"type\":\"LegendItem\"},{\"attributes\":{\"data\":{\"x\":{\"__ndarray__\":\"AAAAAAAAAAA++OCDDz7oPz744IMPPvg/LrrooosuAkA++OCDDz4IQE422WSTTQ5ALrrooosuEkA22WSTTTYVQD744IMPPhhARhdddNFFG0BONtlkk00eQKuqqqqqqiBALrrooosuIkCyySabbLIjQDbZZJNNNiVAuuiiiy66JkA++OCDDz4oQMIHH3zwwSlARhdddNFFK0DKJptsssksQE422WSTTS5A0UUXXXTRL0CrqqqqqqowQG2yySabbDFALrrooosuMkDwwQcffPAyQLLJJptssjNAdNFFF110NEA22WSTTTY1QPjggw8++DVAuuiiiy66NkB88MEHH3w3QD744IMPPjhAAAAAAAAAOUDCBx988ME5QIQPPvjggzpARhdddNFFO0AIH3zwwQc8QMomm2yyyTxAjC666KKLPUBONtlkk00+QA8++OCDDz9A0UUXXXTRP0DKJptssklAQKuqqqqqqkBAjC666KILQUBtsskmm2xBQE422WSTzUFALrrooosuQkAPPvjgg49CQPDBBx988EJA0UUXXXRRQ0CyySabbLJDQJNNNtlkE0RAdNFFF110REBVVVVVVdVEQDbZZJNNNkVAF1100UWXRUD44IMPPvhFQNlkk002WUZAuuiiiy66RkCbbLLJJhtHQHzwwQcffEdAXXTRRRfdR0A++OCDDz5IQB988MEHn0hAAAAAAAAASUDhgw8++GBJQMIHH3zwwUlAo4suuugiSkCEDz744INKQGWTTTbZ5EpARhdddNFFS0Anm2yyyaZLQAgffPDBB0xA6aKLLrpoTEDKJptssslMQKuqqqqqKk1AjC666KKLTUBtsskmm+xNQE422WSTTU5ALrrooouuTkAPPvjggw9PQPDBBx98cE9A0UUXXXTRT0DZZJNNNhlQQMomm2yySVBAuuiiiy56UECrqqqqqqpQQJtssskm21BAjC666KILUUB88MEHHzxRQG2yySabbFFAXXTRRRedUUBONtlkk81RQD744IMP/lFALrrooosuUkAffPDBB19SQA8++OCDj1JAAAAAAADAUkA=\",\"dtype\":\"float64\",\"shape\":[100]},\"y\":{\"__ndarray__\":\"AAAAAAAAPkBQmmNRTbgDQA4a1Qxk6Ws/7DWw/0Tcnjviln/p8SmFuuqyk9IAJSG6MA3Za0g6vTlloK3Ept1vuWJWWix/H0q5tudXXZ67Jzm/OxRY9kYnucu7JTWblVo5dv+OIqkrBjnw5M7JnEBFOIYFocJF33s3Ko9f/vhuFbfqC33cFSmoNjZbIVWjUyE2/IJCcjBYobVTQ3GhzkWetQTMZ6yl+LW1cwI6yrXd0TVnfVqRfc+qNfyUbf80xWq1N5rHL8k1LTWSO0BD+3QAtYhXaNPWRMq0yuJtjyLGwDQnBGr+yuzEtKY3+LPu6KI0NAaI+WUoezRj/0qRXdJ4NIP/J8gZ6Gs0rKrRs/QxFrRS9cO7c7JBtKoVmZCyFwS0IqPu8aS08TPUwtI2+7Xvs2BVQ7T/ddSzgI5oo5n5tDNYoX+wpxvcM6M9RSVKCkczlLyZnAZgRrNhHHRNcJIBs0LP9/bgBuyynhumDa2wC7NkgvDWdV0EszDZnPIul9gyZNMSlfxuDbN0SEtZwVD0Mr4nPCbH7vmyAFMovtkxhrLitPOukF8LM58/tIm6wgmzAK705GgCgzJZZw4p0q4XM1TBz1/OhRuzwgwqm9QYAbPsfAAr818vM+YZRfhJDyKz/1hlBGBI9bJVFM5nxxrsstMXHnLx5NeyW7ydg5P9x7JA/0plLjq5srct5PV89Kuy8EvNI+kkoLJby9SRv3WTsoNfj0GimoiySLtGIyIYgLL3rW8sq251shGvXvsBlm2ydIUoGpxLZbIPb49rWl5fsoiNYJfnMVeyEdTj06CRUbIIs/8wjbNLsuOFwrolOkaypuwHb8S4QbL/Joa27nY8smbs1KD7uTeyDlthoI5fNLK8DApPjWIxslDl65zFVC2yDUDcS9RUKbIaOhght8Emssy1+WVnjCSypS2qM58hIrJlOpD2vAIgsuleTzY+aB2yBLJGokZCG7JKYhsphikZslMAP70xVhey24XLHHPDFbK7nqGOcmYUskpSrlPuNROycLtMsR0rErKK2O6Ba0ARssCUm2orcRCyrYwivO5yD7I=\",\"dtype\":\"float64\",\"shape\":[100]}},\"selected\":{\"id\":\"1593\"},\"selection_policy\":{\"id\":\"1592\"}},\"id\":\"1566\",\"type\":\"ColumnDataSource\"},{\"attributes\":{},\"id\":\"1523\",\"type\":\"DataRange1d\"},{\"attributes\":{\"source\":{\"id\":\"1580\"}},\"id\":\"1584\",\"type\":\"CDSView\"},{\"attributes\":{\"active_drag\":\"auto\",\"active_inspect\":\"auto\",\"active_multi\":null,\"active_scroll\":\"auto\",\"active_tap\":\"auto\",\"tools\":[{\"id\":\"1539\"},{\"id\":\"1540\"},{\"id\":\"1541\"},{\"id\":\"1542\"},{\"id\":\"1543\"},{\"id\":\"1544\"}]},\"id\":\"1546\",\"type\":\"Toolbar\"},{\"attributes\":{},\"id\":\"1577\",\"type\":\"Selection\"},{\"attributes\":{\"line_color\":\"#1f77b3\",\"line_width\":2,\"x\":{\"field\":\"x\"},\"y\":{\"field\":\"y\"}},\"id\":\"1567\",\"type\":\"Line\"},{\"attributes\":{\"data\":{\"x\":{\"__ndarray__\":\"AAAAAAAAAAA++OCDDz7oPz744IMPPvg/LrrooosuAkA++OCDDz4IQE422WSTTQ5ALrrooosuEkA22WSTTTYVQD744IMPPhhARhdddNFFG0BONtlkk00eQKuqqqqqqiBALrrooosuIkCyySabbLIjQDbZZJNNNiVAuuiiiy66JkA++OCDDz4oQMIHH3zwwSlARhdddNFFK0DKJptsssksQE422WSTTS5A0UUXXXTRL0CrqqqqqqowQG2yySabbDFALrrooosuMkDwwQcffPAyQLLJJptssjNAdNFFF110NEA22WSTTTY1QPjggw8++DVAuuiiiy66NkB88MEHH3w3QD744IMPPjhAAAAAAAAAOUDCBx988ME5QIQPPvjggzpARhdddNFFO0AIH3zwwQc8QMomm2yyyTxAjC666KKLPUBONtlkk00+QA8++OCDDz9A0UUXXXTRP0DKJptssklAQKuqqqqqqkBAjC666KILQUBtsskmm2xBQE422WSTzUFALrrooosuQkAPPvjgg49CQPDBBx988EJA0UUXXXRRQ0CyySabbLJDQJNNNtlkE0RAdNFFF110REBVVVVVVdVEQDbZZJNNNkVAF1100UWXRUD44IMPPvhFQNlkk002WUZAuuiiiy66RkCbbLLJJhtHQHzwwQcffEdAXXTRRRfdR0A++OCDDz5IQB988MEHn0hAAAAAAAAASUDhgw8++GBJQMIHH3zwwUlAo4suuugiSkCEDz744INKQGWTTTbZ5EpARhdddNFFS0Anm2yyyaZLQAgffPDBB0xA6aKLLrpoTEDKJptssslMQKuqqqqqKk1AjC666KKLTUBtsskmm+xNQE422WSTTU5ALrrooouuTkAPPvjggw9PQPDBBx98cE9A0UUXXXTRT0DZZJNNNhlQQMomm2yySVBAuuiiiy56UECrqqqqqqpQQJtssskm21BAjC666KILUUB88MEHHzxRQG2yySabbFFAXXTRRRedUUBONtlkk81RQD744IMP/lFALrrooosuUkAffPDBB19SQA8++OCDj1JAAAAAAADAUkA=\",\"dtype\":\"float64\",\"shape\":[100]},\"y\":{\"__ndarray__\":\"AAAAAAAAAADYQPvE0IqAP7yS/ebXQf8/YSH103MhJUBo5y1tE0kxQNkl6mDCMDRALt44B/meNUD2uEIB3qg2QMlk9sAooTdATv+yMcuaOEADmsLWM5c5QAdkPpQqkjpAL9Oo2NOBO0C8+w2pI1I8QCn7fy2I6zxAQpU1NZRLPUDpHvM8VoM9QDwVO/3moz1AxVV0VOO3PUArcp859MQ9QF08v8oHzj1A9QPIZavUPUDa1/Jsu9k9QJb1sdG43T1A02cGHvPgPUCrJ//NneM9QGf5ZKHb5T1A6NNs58TnPUDc2Ncma+k9QIaj+Vbb6j1ANbz9RR/sPUBE8bOCPu09QPGkPfk+7j1AAVjUXiXvPUBsbQV+9e89QG/LVm2y8D1AzspFt17xPUA/4Qp4/PE9QHsZJXSN8j1AvotxKRPzPUCWvHLcjvM9QM91uqIB9D1A/8oda2z0PUDUg0sE0PQ9QOa36iEt9T1AKwwAYYT1PUB5WVJL1vU9QGNUWFoj9j1AiiB/+Wv2PUDnpSuIsPY9QEGEYFvx9j1AWcYZvy73PUD/THj3aPc9QAqIwkGg9z1ARPM41dT3PUA0bM/jBvg9QJOLzJo2+D1ApnlSI2T4PUDgsNWij/g9QGHbgzu5+D1A8y+dDOH4PUAyicMyB/k9QOjGPsgr+T1Ac6o55U75PUB6mvmfcPk9QNaJBg2R+T1Au/xcP7D5PUAKkY5Izvk9QJ214zjr+T1AWa96Hwf6PUCa9GAKIvo9QOPoqQY8+j1APhOFIFX6PUC0alFjbfo9QJdCrtmE+j1ANIGKjZv6PUDz1DKIsfo9QOWaXtLG+j1A/2k7dNv6PUACcHd17/o9QEvxSt0C+z1A0AaBshX7PUCfmn/7J/s9QH+pTr45+z1ALuGeAEv7PUCes8/HW/s9QCXu9Bhs+z1A3dzb+Hv7PUBGAhBsi/s9QOpw33aa+z1AkcxeHan7PUBSyWxjt/s9QL0btkzF+z1Akjy43NL7PUBu9sMW4Ps9QF4FAf7s+z1AfeFvlfn7PUC/YOzfBfw9QPKZL+AR/D1A9iHSmB38PUA=\",\"dtype\":\"float64\",\"shape\":[100]}},\"selected\":{\"id\":\"1642\"},\"selection_policy\":{\"id\":\"1641\"}},\"id\":\"1580\",\"type\":\"ColumnDataSource\"},{\"attributes\":{},\"id\":\"1562\",\"type\":\"BasicTickFormatter\"},{\"attributes\":{},\"id\":\"1642\",\"type\":\"Selection\"},{\"attributes\":{\"text\":\"Reduced Model 5\"},\"id\":\"1521\",\"type\":\"Title\"},{\"attributes\":{},\"id\":\"1542\",\"type\":\"SaveTool\"},{\"attributes\":{},\"id\":\"1641\",\"type\":\"UnionRenderers\"},{\"attributes\":{},\"id\":\"1543\",\"type\":\"ResetTool\"},{\"attributes\":{},\"id\":\"1544\",\"type\":\"HelpTool\"},{\"attributes\":{},\"id\":\"1593\",\"type\":\"Selection\"},{\"attributes\":{\"axis\":{\"id\":\"1535\"},\"dimension\":1,\"ticker\":null},\"id\":\"1538\",\"type\":\"Grid\"},{\"attributes\":{\"line_alpha\":0.1,\"line_color\":\"#d62628\",\"line_width\":2,\"x\":{\"field\":\"x\"},\"y\":{\"field\":\"y\"}},\"id\":\"1555\",\"type\":\"Line\"},{\"attributes\":{\"line_alpha\":0.1,\"line_color\":\"#1f77b3\",\"line_width\":2,\"x\":{\"field\":\"x\"},\"y\":{\"field\":\"y\"}},\"id\":\"1568\",\"type\":\"Line\"},{\"attributes\":{},\"id\":\"1576\",\"type\":\"UnionRenderers\"},{\"attributes\":{\"label\":{\"value\":\"glucose\"},\"renderers\":[{\"id\":\"1569\"}]},\"id\":\"1579\",\"type\":\"LegendItem\"},{\"attributes\":{\"data_source\":{\"id\":\"1580\"},\"glyph\":{\"id\":\"1581\"},\"hover_glyph\":null,\"muted_glyph\":null,\"nonselection_glyph\":{\"id\":\"1582\"},\"selection_glyph\":null,\"view\":{\"id\":\"1584\"}},\"id\":\"1583\",\"type\":\"GlyphRenderer\"},{\"attributes\":{},\"id\":\"1529\",\"type\":\"LinearScale\"},{\"attributes\":{\"axis_label\":\"Concentration (mM)\",\"formatter\":{\"id\":\"1562\"},\"ticker\":{\"id\":\"1536\"}},\"id\":\"1535\",\"type\":\"LinearAxis\"},{\"attributes\":{\"axis\":{\"id\":\"1531\"},\"ticker\":null},\"id\":\"1534\",\"type\":\"Grid\"},{\"attributes\":{\"data\":{\"x\":{\"__ndarray__\":\"AAAAAAAAAAA++OCDDz7oPz744IMPPvg/LrrooosuAkA++OCDDz4IQE422WSTTQ5ALrrooosuEkA22WSTTTYVQD744IMPPhhARhdddNFFG0BONtlkk00eQKuqqqqqqiBALrrooosuIkCyySabbLIjQDbZZJNNNiVAuuiiiy66JkA++OCDDz4oQMIHH3zwwSlARhdddNFFK0DKJptsssksQE422WSTTS5A0UUXXXTRL0CrqqqqqqowQG2yySabbDFALrrooosuMkDwwQcffPAyQLLJJptssjNAdNFFF110NEA22WSTTTY1QPjggw8++DVAuuiiiy66NkB88MEHH3w3QD744IMPPjhAAAAAAAAAOUDCBx988ME5QIQPPvjggzpARhdddNFFO0AIH3zwwQc8QMomm2yyyTxAjC666KKLPUBONtlkk00+QA8++OCDDz9A0UUXXXTRP0DKJptssklAQKuqqqqqqkBAjC666KILQUBtsskmm2xBQE422WSTzUFALrrooosuQkAPPvjgg49CQPDBBx988EJA0UUXXXRRQ0CyySabbLJDQJNNNtlkE0RAdNFFF110REBVVVVVVdVEQDbZZJNNNkVAF1100UWXRUD44IMPPvhFQNlkk002WUZAuuiiiy66RkCbbLLJJhtHQHzwwQcffEdAXXTRRRfdR0A++OCDDz5IQB988MEHn0hAAAAAAAAASUDhgw8++GBJQMIHH3zwwUlAo4suuugiSkCEDz744INKQGWTTTbZ5EpARhdddNFFS0Anm2yyyaZLQAgffPDBB0xA6aKLLrpoTEDKJptssslMQKuqqqqqKk1AjC666KKLTUBtsskmm+xNQE422WSTTU5ALrrooouuTkAPPvjggw9PQPDBBx98cE9A0UUXXXTRT0DZZJNNNhlQQMomm2yySVBAuuiiiy56UECrqqqqqqpQQJtssskm21BAjC666KILUUB88MEHHzxRQG2yySabbFFAXXTRRRedUUBONtlkk81RQD744IMP/lFALrrooosuUkAffPDBB19SQA8++OCDj1JAAAAAAADAUkA=\",\"dtype\":\"float64\",\"shape\":[100]},\"y\":{\"__ndarray__\":\"AAAAAAAAPkATqBCehB/iP2POcJBR3SxA7fzMxtjKO0B3+/5CRuA7QJkAbsuo4jtAYfE0/y7hO0AA7lbuW907QBOVK1Wo1jtARNxVqQLLO0BlugXorbQ7QO9+dOnmgDtAHXjSK1rrOkAtwyp8Gn05QO1AK5qigTdAQ8K//M57NUAkVNTjqpIzQBIsWJN9zzFA22tKW6YzMECngEoshHstQOU/UYGh1ipAh0Vsyc5yKEByEkCND0omQD1N6KCbViRA44L8gwyTIkAxPDkLcfogQIZ/xlKkEB9ATKuOBF9xHEC3+UpO7w8aQLwBOc785RdA8WQYM+XtFUBJApE2qCIUQJR10vXUfxJAIHKw+3gBEUDhM08IIkgPQOmkrSb3yAxAdmYIP9p/CkDBJRqHy2cIQFUCB2RQfAZAdUltwmO5BECH3Vl7aBsDQAMzpl0dnwFAL4/9w5JBAEB8cfDeQgD+P976ZM7FsPs/8bSfZlSQ+T+7Oh/j+5r3P/4R76UlzfU/reVZD44j9D/6xpf7O5vyP6soR1V5MfE/TOyeMJnH7z/eqVvw5V/tP01VlUG2J+s/Zfo5PEEb6T+uDgtnDzfnP1e130Pzd+U/N1zipALb4z/QD7mnkF3iP5mCNDoo/eA/eJ3vDg9v3z/su84jNhXdP6OlnFX06No/lCArEcbm2D/0iunibgvXP9fN/3v0U9U/vRekEpi90z9hWg4g0kXSP7e5ksNN6tA/TUrF4shRzz9ZgRqtNP/MP1ZKwxI22co/t/ZAhGzcyD8vtw/ouQXHP2eOIGo9UsU/MQUYvE6/wz/AsquaeUrCP3yQfq958cA/853Np21kvz8w3MJTgxW9P+2Xju2g8ro/yxHTb3j4uD8IPLDl+yO3P4/DPnxYcrU/NfwO/vHgsz/K/ueiXm2yP/k2CD1jFbE/jKNNKt+trz9w1oO4NmCtPy/R6wdFPqs/p6xZ4MdEqT+9voWHuXCnP+FSekNPv6U/Yf3Z2/MtpD/mnDT+Q7qiP2r7WJwJYqE/WBW0TDkjoD9hWQhl3fedP46YjOXT1Js/YSaAUhnamT8=\",\"dtype\":\"float64\",\"shape\":[100]}},\"selected\":{\"id\":\"1577\"},\"selection_policy\":{\"id\":\"1576\"}},\"id\":\"1553\",\"type\":\"ColumnDataSource\"},{\"attributes\":{\"overlay\":{\"id\":\"1545\"}},\"id\":\"1541\",\"type\":\"BoxZoomTool\"},{\"attributes\":{},\"id\":\"1536\",\"type\":\"BasicTicker\"},{\"attributes\":{\"click_policy\":\"hide\",\"items\":[{\"id\":\"1565\"},{\"id\":\"1579\"},{\"id\":\"1595\"}]},\"id\":\"1564\",\"type\":\"Legend\"},{\"attributes\":{\"data_source\":{\"id\":\"1566\"},\"glyph\":{\"id\":\"1567\"},\"hover_glyph\":null,\"muted_glyph\":null,\"nonselection_glyph\":{\"id\":\"1568\"},\"selection_glyph\":null,\"view\":{\"id\":\"1570\"}},\"id\":\"1569\",\"type\":\"GlyphRenderer\"},{\"attributes\":{\"bottom_units\":\"screen\",\"fill_alpha\":0.5,\"fill_color\":\"lightgrey\",\"left_units\":\"screen\",\"level\":\"overlay\",\"line_alpha\":1.0,\"line_color\":\"black\",\"line_dash\":[4,4],\"line_width\":2,\"render_mode\":\"css\",\"right_units\":\"screen\",\"top_units\":\"screen\"},\"id\":\"1545\",\"type\":\"BoxAnnotation\"},{\"attributes\":{},\"id\":\"1525\",\"type\":\"DataRange1d\"},{\"attributes\":{\"axis_label\":\"Time (hrs)\",\"formatter\":{\"id\":\"1560\"},\"ticker\":{\"id\":\"1532\"}},\"id\":\"1531\",\"type\":\"LinearAxis\"}],\"root_ids\":[\"1520\"]},\"title\":\"Bokeh Application\",\"version\":\"2.0.2\"}};\n",
       "  var render_items = [{\"docid\":\"5943c750-62fc-4372-b5ab-e3b65cc4586b\",\"root_ids\":[\"1520\"],\"roots\":{\"1520\":\"3495ef68-4b6a-4bac-84c6-d3e53e6d1da0\"}}];\n",
       "  root.Bokeh.embed.embed_items_notebook(docs_json, render_items);\n",
       "\n",
       "  }\n",
       "  if (root.Bokeh !== undefined) {\n",
       "    embed_document(root);\n",
       "  } else {\n",
       "    var attempts = 0;\n",
       "    var timer = setInterval(function(root) {\n",
       "      if (root.Bokeh !== undefined) {\n",
       "        clearInterval(timer);\n",
       "        embed_document(root);\n",
       "      } else {\n",
       "        attempts++;\n",
       "        if (attempts > 100) {\n",
       "          clearInterval(timer);\n",
       "          console.log(\"Bokeh: ERROR: Unable to run BokehJS code because BokehJS library is missing\");\n",
       "        }\n",
       "      }\n",
       "    }, 10, root)\n",
       "  }\n",
       "})(window);"
      ],
      "application/vnd.bokehjs_exec.v0+json": ""
     },
     "metadata": {
      "application/vnd.bokehjs_exec.v0+json": {
       "id": "1520"
      }
     },
     "output_type": "display_data"
    }
   ],
   "source": [
    "filename = 'CRN_GOOD.xml'\n",
    "x,f,P,params_values,x_init = sbml_to_ode2(filename)\n",
    "#print(x_init)\n",
    "nouts = 1\n",
    "n = len(x)\n",
    "# Make ATP main output\n",
    "C = np.zeros((nouts, n), dtype = int)\n",
    "C[0][1] = 1 \n",
    "C = C.tolist()\n",
    "\n",
    "# Setup system\n",
    "timepoints_ode = np.linspace(0,75,100)\n",
    "\n",
    "error_tol = 100\n",
    "nstates_tol = 1\n",
    "\n",
    "sys = System(x, f, params = P, params_values = params_values, C = C, x_init = x_init)\n",
    "\n",
    "# sys_ode = get_ODE(sys, timepoints_ode)\n",
    "# sol = sys_ode.solve_system()\n",
    "\n",
    "species_to_remove = [5,6,9,10,13, 14,17,18,23,24,28,29,31,32,\n",
    "                 35,36,39,40,43,44,47,48,51,52,55,56,59,60,63,64]\n",
    "\n",
    "timescale_list = []\n",
    "for i in species_to_remove:\n",
    "    timescale_list.append(x[i])\n",
    "\n",
    "# Get appropriate list of complexes that are not in timescale_list\n",
    "# What you should pass into solve_timescale_separation\n",
    "update_timescale = []\n",
    "for item in x:\n",
    "    if item not in timescale_list:\n",
    "        update_timescale.append(item)    \n",
    "#update_timescale\n",
    "\n",
    "timepoints_ssm = np.linspace(0,75,100)\n",
    "timepoints_ode = np.linspace(0, 75, 100)\n",
    "sys_reduce = reduce(sys, timepoints_ode, timepoints_ssm)\n",
    "\n",
    "aa,bb = sys_reduce.solve_timescale_separation(update_timescale)\n",
    "print('the ATP error is:',sys_reduce.get_error_metric(aa))\n",
    "\n",
    "sys_ode = get_ODE(aa, timepoints_ode)\n",
    "sol = sys_ode.solve_system()\n",
    "print(type(sol))\n",
    "\n",
    "p = bokeh.plotting.figure(width = 475, height = 350, title = 'Reduced Model 5',\n",
    "                             x_axis_label = 'Time (hrs)',\n",
    "                             y_axis_label = 'Concentration (mM)')\n",
    "#colors = ['#66c2a5','#fc8d62','#8da0cb','#e78ac3']\n",
    "colors = colorcet.b_glasbey_category10\n",
    "p.line(timepoints_ode, sol[:,1],line_width = 2, legend_label = 'atp', color = colors[3])\n",
    "p.line(timepoints_ode, sol[:,2], line_width = 2,legend_label = 'glucose', color = colors[0])\n",
    "p.line(timepoints_ode, sol[:,34], line_width = 2,legend_label = 'isobutanol', color = colors[1])\n",
    "p.legend.click_policy = 'hide'\n",
    "bokeh.io.show(p)"
   ]
  },
  {
   "cell_type": "code",
   "execution_count": 88,
   "metadata": {},
   "outputs": [],
   "source": [
    "species_to_remove = [5,6,9,10,13, 14,17,18,23,24,28,29,31,32,\n",
    "                 35,36,39,40,43,44,47,48,51,52,55,56,59,60,63,64]\n"
   ]
  },
  {
   "cell_type": "code",
   "execution_count": 89,
   "metadata": {},
   "outputs": [
    {
     "data": {
      "text/plain": [
       "array([ 0,  1,  2,  3,  4,  7,  8, 11, 12, 15, 16, 19, 20, 21, 22, 25, 26,\n",
       "       27, 30, 33, 34, 37, 38, 41, 42, 45, 46, 49, 50, 53, 54, 57, 58, 61,\n",
       "       62, 65, 66, 67])"
      ]
     },
     "execution_count": 89,
     "metadata": {},
     "output_type": "execute_result"
    }
   ],
   "source": [
    "all_specs = np.arange(0,len(x))\n",
    "#have_specs = all_specs\n",
    "#for remove in species_to_remove:\n",
    "have_specs = np.delete(all_specs,species_to_remove)\n",
    "have_specs"
   ]
  },
  {
   "cell_type": "code",
   "execution_count": 90,
   "metadata": {},
   "outputs": [],
   "source": [
    "enz_list = [0, 7, 11, 15, 19, 25, 30, 33, 37, 41, 45, 49, 53, 57, 61]\n",
    "# indices for gluc, atp, nadp, pi\n",
    "mol_list = [2, 1, 20, 26]"
   ]
  },
  {
   "cell_type": "code",
   "execution_count": 91,
   "metadata": {},
   "outputs": [
    {
     "name": "stdout",
     "output_type": "stream",
     "text": [
      "0\n",
      "7\n",
      "11\n",
      "15\n",
      "19\n",
      "25\n",
      "30\n",
      "33\n",
      "37\n",
      "41\n",
      "45\n",
      "49\n",
      "53\n",
      "57\n",
      "61\n"
     ]
    }
   ],
   "source": [
    "x_init = np.zeros(len(have_specs))\n",
    "for i,num in enumerate(have_specs):\n",
    "    if num in enz_list:\n",
    "        x_init[i] = 0.15\n",
    "        print(num)\n",
    "    elif num in mol_list:\n",
    "        x_init[i] = 30\n",
    "    elif num == 65:\n",
    "        x_init[i] = 2.\n",
    "    else:\n",
    "        #continue\n",
    "        x_init[i] = 0"
   ]
  },
  {
   "cell_type": "code",
   "execution_count": 93,
   "metadata": {},
   "outputs": [
    {
     "data": {
      "text/plain": [
       "array([ 0.15, 30.  , 30.  ,  0.  ,  0.  ,  0.15,  0.  ,  0.15,  0.  ,\n",
       "        0.15,  0.  ,  0.15, 30.  ,  0.  ,  0.  ,  0.15, 30.  ,  0.  ,\n",
       "        0.15,  0.15,  0.  ,  0.15,  0.  ,  0.15,  0.  ,  0.15,  0.  ,\n",
       "        0.15,  0.  ,  0.15,  0.  ,  0.15,  0.  ,  0.15,  0.  ,  2.  ,\n",
       "        0.  ,  0.  ])"
      ]
     },
     "execution_count": 93,
     "metadata": {},
     "output_type": "execute_result"
    }
   ],
   "source": [
    "x_init"
   ]
  },
  {
   "cell_type": "code",
   "execution_count": 26,
   "metadata": {},
   "outputs": [],
   "source": [
    "from sympy import Symbol"
   ]
  },
  {
   "cell_type": "code",
   "execution_count": 107,
   "metadata": {},
   "outputs": [
    {
     "data": {
      "text/plain": [
       "<function _lambdifygenerated(t, _Dummy_223, _Dummy_224)>"
      ]
     },
     "execution_count": 107,
     "metadata": {},
     "output_type": "execute_result"
    }
   ],
   "source": [
    "func"
   ]
  },
  {
   "cell_type": "code",
   "execution_count": 121,
   "metadata": {},
   "outputs": [
    {
     "name": "stdout",
     "output_type": "stream",
     "text": [
      "J [[ 2.02109934e-10  1.01054967e-12  1.13686838e-12 ...  0.00000000e+00\n",
      "   0.00000000e+00  0.00000000e+00]\n",
      " [-6.74971876e+03 -4.87485938e+01 -3.37485938e+01 ... -2.25000000e+02\n",
      "   0.00000000e+00  0.00000000e+00]\n",
      " [-6.74971876e+03 -3.37485938e+01 -3.37485938e+01 ...  0.00000000e+00\n",
      "   0.00000000e+00  0.00000000e+00]\n",
      " ...\n",
      " [ 0.00000000e+00 -1.50000000e+01  0.00000000e+00 ... -2.25000000e+02\n",
      "   0.00000000e+00  0.00000000e+00]\n",
      " [ 0.00000000e+00  1.50000000e+01  0.00000000e+00 ...  2.25000000e+02\n",
      "   0.00000000e+00  0.00000000e+00]\n",
      " [ 0.00000000e+00  0.00000000e+00  0.00000000e+00 ...  0.00000000e+00\n",
      "   0.00000000e+00  0.00000000e+00]]\n",
      "38\n",
      "zj [ 1.01054967e-11  2.81225861e-02  2.81225861e-02 -2.81225861e-02\n",
      " -2.81225861e-02  0.00000000e+00  0.00000000e+00  0.00000000e+00\n",
      "  0.00000000e+00  0.00000000e+00  0.00000000e+00  0.00000000e+00\n",
      "  0.00000000e+00  0.00000000e+00  0.00000000e+00  0.00000000e+00\n",
      "  0.00000000e+00  0.00000000e+00  0.00000000e+00  0.00000000e+00\n",
      "  0.00000000e+00  0.00000000e+00  0.00000000e+00  0.00000000e+00\n",
      "  0.00000000e+00  0.00000000e+00  0.00000000e+00  0.00000000e+00\n",
      "  0.00000000e+00  0.00000000e+00  0.00000000e+00  0.00000000e+00\n",
      "  0.00000000e+00  0.00000000e+00  0.00000000e+00  0.00000000e+00\n",
      "  0.00000000e+00  0.00000000e+00]\n",
      "38\n"
     ]
    }
   ],
   "source": [
    "t = Symbol('t')\n",
    "\n",
    "\n",
    "\n",
    "# for reduced model\n",
    "x = update_timescale\n",
    "f = aa.f\n",
    "x_init = x_init\n",
    "param_eval_f = [None]*len(f)\n",
    "\n",
    "func = lambdify([t, x, P], f)\n",
    "func_p = lambdify([t, x], param_eval_f)\n",
    "\n",
    "x_point = x_init\n",
    "# Compute Jacobian at x_point\n",
    "J = compute_J(lambda x, params_values: func(0, x, params_values), x_point, params_values)\n",
    "print('J',J)\n",
    "print(len(J))\n",
    "\n",
    "# Compute sensitivity wrt 2nd parameter at x_point\n",
    "Zj = compute_Zj(lambda x, params_values: func(0, x, params_values), x_point, 1, params_values) \n",
    "print('zj',Zj)\n",
    "print(len(Zj))\n",
    "timepoints = timepoints_ode\n",
    "#SSM = np.reshape(SSM, (len(timepoints), len(params_values), n))"
   ]
  },
  {
   "cell_type": "code",
   "execution_count": 117,
   "metadata": {},
   "outputs": [
    {
     "data": {
      "text/plain": [
       "array([2.02109933727317e-10*enzyme_hex + 1.01054966863659e-12*metabolite_atp + 1.13686837721616e-12*molecule_glucose + 1.01054966863659e-11,\n",
       "       -225.0*enzyme_atpase - 6749.71876171811*enzyme_hex - 48.7485938085906*metabolite_atp - 33.7485938085896*molecule_glucose + 0.0281225860817358,\n",
       "       -6749.71876171821*enzyme_hex - 33.7485938085911*metabolite_atp - 33.7485938085911*molecule_glucose + 0.0281225861019468,\n",
       "       6749.71876171841*enzyme_hex + 33.7485938085921*metabolite_atp + 33.7485938085921*molecule_glucose - 0.0281225860918413,\n",
       "       6749.71876171841*enzyme_hex + 33.7485938085921*metabolite_atp + 33.7485938085921*molecule_glucose - 0.0281225860918413,\n",
       "       0, 0, 0, 0, 0, 0, 0, 0, 0, 0, 0, 0, 0, 0, 0, 0, 0, 0, 0, 0, 0, 0,\n",
       "       0, 0, 0, 0, 0, 0, 0, 0,\n",
       "       -225.000000000004*enzyme_atpase - 15.0000000000003*metabolite_atp,\n",
       "       225.000000000004*enzyme_atpase + 15.0000000000003*metabolite_atp,\n",
       "       0], dtype=object)"
      ]
     },
     "execution_count": 117,
     "metadata": {},
     "output_type": "execute_result"
    }
   ],
   "source": [
    "J@x + Zj"
   ]
  },
  {
   "cell_type": "code",
   "execution_count": 123,
   "metadata": {},
   "outputs": [
    {
     "data": {
      "text/plain": [
       "38"
      ]
     },
     "execution_count": 123,
     "metadata": {},
     "output_type": "execute_result"
    }
   ],
   "source": [
    "len(x)"
   ]
  },
  {
   "cell_type": "code",
   "execution_count": 136,
   "metadata": {},
   "outputs": [
    {
     "name": "stdout",
     "output_type": "stream",
     "text": [
      "xs [[ 1.50000000e-01  3.00000000e+01  3.00000000e+01 ...  2.00000000e+00\n",
      "   0.00000000e+00  0.00000000e+00]\n",
      " [ 1.50000000e-01  5.66347417e-01  2.46499122e+00 ...  2.59908223e-02\n",
      "   1.55286849e-01  1.81872233e+00]\n",
      " [ 1.50000000e-01  1.44322629e+01  3.40718785e-03 ...  3.37839955e-02\n",
      "   9.69481727e-01  9.96734277e-01]\n",
      " ...\n",
      " [ 1.50000000e-01  2.92658418e-02 -1.59974727e-67 ...  1.22419107e-02\n",
      "   1.57964172e-03  1.98617845e+00]\n",
      " [ 1.50000000e-01  2.71790608e-02 -1.52467556e-67 ...  1.22413219e-02\n",
      "   1.46682688e-03  1.98629185e+00]\n",
      " [ 1.50000000e-01  2.52460438e-02 -1.45813323e-67 ...  1.22407754e-02\n",
      "   1.36233685e-03  1.98639689e+00]]\n",
      "k 0\n",
      "k 1\n",
      "k 2\n",
      "k 3\n",
      "k 4\n",
      "k 5\n",
      "k 6\n",
      "k 7\n",
      "k 8\n",
      "k 9\n",
      "k 10\n",
      "k 11\n",
      "k 12\n",
      "k 13\n",
      "k 14\n",
      "k 15\n",
      "k 16\n",
      "k 17\n",
      "k 18\n",
      "k 19\n",
      "k 20\n",
      "k 21\n",
      "k 22\n",
      "k 23\n",
      "k 24\n",
      "k 25\n",
      "k 26\n",
      "k 27\n",
      "k 28\n",
      "k 29\n",
      "k 30\n",
      "k 31\n",
      "k 32\n",
      "k 33\n",
      "k 34\n",
      "k 35\n",
      "k 36\n",
      "k 37\n",
      "k 38\n",
      "k 39\n",
      "k 40\n",
      "k 41\n",
      "k 42\n",
      "k 43\n",
      "k 44\n",
      "k 45\n",
      "k 46\n",
      "k 47\n",
      "k 48\n",
      "k 49\n",
      "k 50\n",
      "k 51\n",
      "k 52\n",
      "k 53\n",
      "k 54\n",
      "k 55\n",
      "k 56\n",
      "k 57\n",
      "k 58\n",
      "k 59\n",
      "k 60\n",
      "k 61\n",
      "k 62\n",
      "k 63\n",
      "k 64\n"
     ]
    },
    {
     "name": "stderr",
     "output_type": "stream",
     "text": [
      "/Users/ankitaroychoudhury/opt/anaconda3/lib/python3.7/site-packages/scipy/integrate/odepack.py:248: ODEintWarning: Excess work done on this call (perhaps wrong Dfun type). Run with full_output = 1 to get quantitative information.\n",
      "  warnings.warn(warning_msg, ODEintWarning)\n"
     ]
    },
    {
     "name": "stdout",
     "output_type": "stream",
     "text": [
      "k 65\n",
      "k 66\n",
      "k 67\n",
      "k 68\n",
      "k 69\n",
      "k 70\n",
      "k 71\n",
      "k 72\n",
      "k 73\n",
      "k 74\n",
      "k 75\n",
      "k 76\n",
      "k 77\n",
      "k 78\n",
      "k 79\n",
      "k 80\n",
      "k 81\n",
      "k 82\n",
      "k 83\n",
      "k 84\n",
      "k 85\n",
      "k 86\n",
      "k 87\n",
      "k 88\n",
      "k 89\n",
      "k 90\n",
      "k 91\n",
      "k 92\n",
      "k 93\n",
      "k 94\n",
      "k 95\n",
      "k 96\n",
      "k 97\n",
      "k 98\n",
      "k 99\n"
     ]
    },
    {
     "name": "stderr",
     "output_type": "stream",
     "text": [
      "/Users/ankitaroychoudhury/opt/anaconda3/lib/python3.7/site-packages/ipykernel_launcher.py:62: RuntimeWarning: invalid value encountered in true_divide\n"
     ]
    }
   ],
   "source": [
    "SSM = compute_SSM(func, sol, params_values, timepoints, normalize = True)  "
   ]
  },
  {
   "cell_type": "code",
   "execution_count": 150,
   "metadata": {},
   "outputs": [
    {
     "name": "stdout",
     "output_type": "stream",
     "text": [
      "h\n"
     ]
    }
   ],
   "source": [
    "# from auto_reduce.utils import get_SSM\n",
    "# timepoints_ssm = np.linspace(0,100,10)\n",
    "# sys_ssm = get_SSM(sys, timepoints_ssm)\n",
    "\n",
    "print('h')# len(timepoints) x len(params) x len(states)\n",
    "out_Ss = []\n",
    "for i in range(len(params_values)):\n",
    "    out_Ss.append((np.array(C)@(SSM[:,i,:].T)))\n",
    "out_Ss = np.reshape(np.array(out_Ss), (len(timepoints_ssm), len(params_values), nouts))"
   ]
  },
  {
   "cell_type": "code",
   "execution_count": 159,
   "metadata": {},
   "outputs": [],
   "source": [
    "nouts=1\n",
    "C = np.zeros((nouts, 38), dtype = int)\n",
    "C[0][1] = 1 # Let's look at ATP\n",
    "\n",
    "C = C.tolist()"
   ]
  },
  {
   "cell_type": "code",
   "execution_count": null,
   "metadata": {},
   "outputs": [],
   "source": []
  },
  {
   "cell_type": "code",
   "execution_count": 160,
   "metadata": {},
   "outputs": [
    {
     "data": {
      "image/png": "[encoded data removed]",
      "text/plain": [
       "<Figure size 432x288 with 2 Axes>"
      ]
     },
     "metadata": {
      "needs_background": "light"
     },
     "output_type": "display_data"
    }
   ],
   "source": [
    "import seaborn as sn\n",
    "for j in range(nouts):\n",
    "   # plt.figure(figsize=(20,10))\n",
    "    sn.heatmap(out_Ss[:,:,j].T)\n",
    "   # plt.draw_if_interactivefigsi\n",
    "    plt.xlabel('Time')\n",
    "    plt.ylabel('Parameters')\n",
    "    plt.title('Sensitivity of output[{0}] with respect to all parameters'.format(j))\n",
    "    plt.show()\n",
    "    "
   ]
  },
  {
   "cell_type": "code",
   "execution_count": null,
   "metadata": {},
   "outputs": [],
   "source": []
  },
  {
   "cell_type": "markdown",
   "metadata": {},
   "source": [
    "## COPY functions\n",
    "---"
   ]
  },
  {
   "cell_type": "code",
   "execution_count": 130,
   "metadata": {},
   "outputs": [],
   "source": [
    "# Compute Jacobian\n",
    "import warnings\n",
    "def compute_J(fun, x, params_values, **kwargs):\n",
    "    '''\n",
    "    Compute the Jacobian J = df/dx at a point x.\n",
    "    Returns a matrix of size n x n.\n",
    "    Uses fourth-order central difference method to compute Jacobian\n",
    "    '''\n",
    "    n = len(x)\n",
    "    #print('n',n)\n",
    "   # print(\"PANIC\")\n",
    "    var = x\n",
    "    # initialize J\n",
    "    J = np.zeros( (n, len(x)) )   \n",
    "    P = params_values \n",
    "    # jfun = nd.Jacobian(lambda x: fun_ode(0, x, P), **kwargs) # Using numdifftools\n",
    "    # return jfun(x)\n",
    "    # store the variable with respect to which we approximate the differentiation (df/dvar)\n",
    "    X = var \n",
    "    for i in range(n):\n",
    "        for j in range(len(var)):\n",
    "            F = np.zeros( (4,1) )\n",
    "            h = X[j]*0.01\n",
    "            # Gets O(4) central difference on dfi/dvarj\n",
    "            if h != 0:\n",
    "                var = X\n",
    "                var[j] = X[j] + 2*h\n",
    "                f = fun(var, P)\n",
    "                F[0] = f[i]\n",
    "                var[j] = X[j] + h\n",
    "                f = fun(var, P)\n",
    "                F[1] = f[i]\n",
    "                var[j] = X[j] - h\n",
    "                f = fun(var, P)\n",
    "                F[2] = f[i]\n",
    "                var[j] = X[j] - 2*h\n",
    "                f = fun(var, P)\n",
    "                F[3] = f[i]\n",
    "                #Store appro var. dfi/dvarj into J\n",
    "                J[i,j]= (-F[0] + 8*F[1] - 8*F[2] + F[3])/(12*h) \n",
    "                # Error check\n",
    "                if J[i, j] == np.Inf:\n",
    "                    warnings.warn('Inf found')\n",
    "                    J[i, j] = 1\n",
    "                elif J[i, j] == np.NaN:\n",
    "                    warnings.warn('NaN found')\n",
    "                    J[i, j] = 0\n",
    "    return J"
   ]
  },
  {
   "cell_type": "code",
   "execution_count": 131,
   "metadata": {},
   "outputs": [],
   "source": [
    "def compute_Zj(fun, x, j, params_values, **kwargs):\n",
    "    '''\n",
    "    Compute Z_j, i.e. df/dp_j at a particular timepoint k for the parameter p_j. \n",
    "    Returns a vector of size n x 1. \n",
    "    '''\n",
    "    n = len(x)\n",
    "    Z = np.zeros(n)    \n",
    "    P_holder = params_values\n",
    "    # For each state\n",
    "    for i in range(n):\n",
    "        P = P_holder\n",
    "        F = np.zeros( (4,1) ) # For 4th order difference\n",
    "        h = P[j]*0.01 # Small parameter for this parameter\n",
    "        # Gets O(4) central difference on dfi/dpj\n",
    "        if h != 0:\n",
    "            P[j] = P_holder[j] + 2*h\n",
    "            f = fun(x, P)\n",
    "            F[0] = f[i]\n",
    "            P[j] = P_holder[j] + h\n",
    "            f = fun(x, P)\n",
    "            F[1] = f[i]\n",
    "            P[j] = P_holder[j] - h\n",
    "            f = fun(x, P)\n",
    "            F[2] = f[i]\n",
    "            P[j] = P_holder[j] - 2*h\n",
    "            f = fun(x, P)\n",
    "            F[3] = f[i]\n",
    "            #Store approx. dfi/dpj into Z\n",
    "            Z[i] = (-F[0] + 8*F[1] - 8*F[2] + F[3])/(12*h)   \n",
    "            if Z[i] == np.Inf:\n",
    "                warnings.warn('Inf found')\n",
    "                Z[i] = 1\n",
    "            elif Z[i] == np.NaN:\n",
    "                warnings.warn('NaN found')\n",
    "                Z[i] = 0\n",
    "    return Z\n",
    "\n",
    "\n"
   ]
  },
  {
   "cell_type": "code",
   "execution_count": 133,
   "metadata": {},
   "outputs": [],
   "source": [
    "import tqdm"
   ]
  },
  {
   "cell_type": "code",
   "execution_count": 135,
   "metadata": {},
   "outputs": [],
   "source": [
    "def compute_SSM(fun, solutions, params_values, timepoints, normalize = False, **kwargs):\n",
    "    '''\n",
    "    Returns the sensitivity coefficients S_j for each parameter p_j. \n",
    "    Solutions is the ODE solution to fun for timepoints.\n",
    "    Solutions is of shape (len(timepoints), n), where n is the len(x).\n",
    "    The sensitivity coefficients are written in a sensitivity matrix SSM of size len(timepoints) x len(params) x n\n",
    "    If normalize argument is true, the coefficients are normalized by the nominal value of each paramneter.\n",
    "    '''\n",
    "    from scipy.integrate import odeint\n",
    "    \n",
    "    def sens_func(t, x, J, Z):\n",
    "        # forms ODE to solve for sensitivity coefficient S\n",
    "        dsdt = J@x + Z\n",
    "        return dsdt\n",
    "    \n",
    "    timepoints_ssm = timepoints\n",
    "    P = params_values\n",
    "    n = len(solutions[0])\n",
    "    S0 = np.zeros(n) # Initial value for S_i  \n",
    "    \n",
    "    SSM = np.zeros( (len(timepoints), len(P), n) )\n",
    "    xs = solutions\n",
    "    print('xs',xs)\n",
    "    xs = np.reshape(xs,(len(timepoints), n))\n",
    "    # Solve for SSM at each time point \n",
    "    for k in range(len(timepoints)): \n",
    "        print('k',k)\n",
    "        timepoints = timepoints_ssm[0:k+1]\n",
    "        if len(timepoints) == 1:\n",
    "            continue\n",
    "        # get the jacobian matrix\n",
    "#         print(xs[k,:])\n",
    "        J = compute_J(lambda x, params_values: fun(0, xs[k,:], params_values), xs[k,:], params_values, **kwargs)\n",
    "#         print(J)\n",
    "        #Solve for S = dx/dp for all x and all P (or theta, the parameters) at time point k\n",
    "        for j in range(len(P)):\n",
    "            # print('for parameter',P[j])\n",
    "            # get the pmatrix\n",
    "            Zj = compute_Zj(lambda x, params_values: fun(0, xs[k,:], params_values), xs[k,:], j, params_values, **kwargs)\n",
    "            # solve for S\n",
    "           # print(\"OK\", J@x + Zj)\n",
    "            sens_func_ode = lambda t, x : sens_func(t, x, J, Zj)\n",
    "            \n",
    "            sol = odeint(sens_func_ode, S0, timepoints, tfirst = True)\n",
    "            S = sol\n",
    "            S = np.reshape(S, (len(timepoints), n))\n",
    "            SSM[k,j,:] = S[k,:]\n",
    "    if normalize:\n",
    "        SSM = normalize_SSM(SSM, xs, params_values) #Identifiablity was estimated using an normalized SSM\n",
    "    return SSM\n",
    "\n",
    "def normalize_SSM(SSM, solutions, params_values):\n",
    "    '''\n",
    "    Returns normalized sensitivity coefficients. \n",
    "    Multiplies each sensitivity coefficient with the corresponding parameter p_j\n",
    "    Divides the result by the corresponding state to obtain the normalized coefficient that is returned.\n",
    "    '''\n",
    "    n = np.shape(solutions)[1]\n",
    "    SSM_normalized = np.zeros(np.shape(SSM))\n",
    "    for j in range(len(params_values)):\n",
    "        for i in range(n):\n",
    "            SSM_normalized[:,j,i] = np.divide(SSM[:,j,i]*params_values[j], solutions[:,i]) \n",
    "    return SSM_normalized\n",
    "\n"
   ]
  },
  {
   "cell_type": "markdown",
   "metadata": {},
   "source": [
    "## sensitivity analysis cont"
   ]
  },
  {
   "cell_type": "code",
   "execution_count": 7,
   "metadata": {},
   "outputs": [],
   "source": [
    "import matplotlib.pyplot as plt\n",
    "import tqdm\n"
   ]
  },
  {
   "cell_type": "code",
   "execution_count": 8,
   "metadata": {},
   "outputs": [
    {
     "name": "stdout",
     "output_type": "stream",
     "text": [
      "0\n",
      "1\n"
     ]
    }
   ],
   "source": [
    "from auto_reduce.utils import get_SSM\n",
    "timepoints_ssm = np.linspace(0,100,10)\n",
    "print('0')\n",
    "sys_ssm = get_SSM(sys, timepoints_ssm)\n",
    "print('1')"
   ]
  },
  {
   "cell_type": "code",
   "execution_count": 9,
   "metadata": {},
   "outputs": [
    {
     "name": "stdout",
     "output_type": "stream",
     "text": [
      "<class 'numpy.ndarray'>\n",
      "<class 'auto_reduce.ode.ODE'>\n",
      "<class 'auto_reduce.local_sensitivity.SSM'>\n",
      "<class 'auto_reduce.system.System'>\n",
      "<class 'numpy.ndarray'>\n"
     ]
    }
   ],
   "source": [
    "print(type(sol))\n",
    "print(type(sys_ode))\n",
    "print(type(sys_ssm))\n",
    "print(type(sys))\n",
    "print(type(sol))"
   ]
  },
  {
   "cell_type": "code",
   "execution_count": null,
   "metadata": {},
   "outputs": [],
   "source": [
    "Ss = sys_ssm.compute_SSM() "
   ]
  },
  {
   "cell_type": "code",
   "execution_count": null,
   "metadata": {},
   "outputs": [],
   "source": []
  },
  {
   "cell_type": "code",
   "execution_count": null,
   "metadata": {},
   "outputs": [],
   "source": []
  },
  {
   "cell_type": "code",
   "execution_count": null,
   "metadata": {},
   "outputs": [],
   "source": []
  },
  {
   "cell_type": "code",
   "execution_count": null,
   "metadata": {},
   "outputs": [],
   "source": []
  },
  {
   "cell_type": "code",
   "execution_count": null,
   "metadata": {},
   "outputs": [],
   "source": [
    "# from auto_reduce.utils import get_SSM\n",
    "# timepoints_ssm = np.linspace(0,100,10)\n",
    "# print('0')\n",
    "# sys_ssm = get_SSM(sys, timepoints_ssm)\n",
    "# print('1')\n",
    "\n",
    "print('2')# len(timepoints) x len(params) x len(states)\n",
    "out_Ss = []\n",
    "for i in tqdm.tqdm(range(len(params))):\n",
    "    out_Ss.append((np.array(C)@(Ss[:,i,:].T)))\n",
    "out_Ss = np.reshape(np.array(out_Ss), (len(timepoints_ssm), len(params), nouts))"
   ]
  },
  {
   "cell_type": "code",
   "execution_count": null,
   "metadata": {},
   "outputs": [],
   "source": [
    "import seaborn as sn\n",
    "for j in range(nouts):\n",
    "    sn.heatmap(out_Ss[:,:,j].T)\n",
    "    plt.xlabel('Time')\n",
    "    plt.ylabel('Parameters')\n",
    "    plt.title('Sensitivity of output[{0}] with respect to all parameters'.format(j))\n",
    "    plt.show()"
   ]
  },
  {
   "cell_type": "code",
   "execution_count": null,
   "metadata": {},
   "outputs": [],
   "source": []
  }
 ],
 "metadata": {
  "kernelspec": {
   "display_name": "Python 3",
   "language": "python",
   "name": "python3"
  },
  "language_info": {
   "codemirror_mode": {
    "name": "ipython",
    "version": 3
   },
   "file_extension": ".py",
   "mimetype": "text/x-python",
   "name": "python",
   "nbconvert_exporter": "python",
   "pygments_lexer": "ipython3",
   "version": "3.7.7"
  }
 },
 "nbformat": 4,
 "nbformat_minor": 4
}
