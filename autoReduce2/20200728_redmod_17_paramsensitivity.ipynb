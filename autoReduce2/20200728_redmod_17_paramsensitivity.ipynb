{
 "cells": [
  {
   "cell_type": "markdown",
   "metadata": {},
   "source": [
    "# Reduced Model attempt 17: Parameter Sensitivity Analysis\n",
    "In this notebook, we will perform sensitivity analysis to see what parameters are more important and which aren't, maybe we can remove particular reverse reactions."
   ]
  },
  {
   "cell_type": "code",
   "execution_count": 1,
   "metadata": {},
   "outputs": [
    {
     "data": {
      "text/html": [
       "\n",
       "    <div class=\"bk-root\">\n",
       "        <a href=\"https://bokeh.org\" target=\"_blank\" class=\"bk-logo bk-logo-small bk-logo-notebook\"></a>\n",
       "        <span id=\"1001\">Loading BokehJS ...</span>\n",
       "    </div>"
      ]
     },
     "metadata": {},
     "output_type": "display_data"
    },
    {
     "data": {
      "application/javascript": [
       "\n",
       "(function(root) {\n",
       "  function now() {\n",
       "    return new Date();\n",
       "  }\n",
       "\n",
       "  var force = true;\n",
       "\n",
       "  if (typeof root._bokeh_onload_callbacks === \"undefined\" || force === true) {\n",
       "    root._bokeh_onload_callbacks = [];\n",
       "    root._bokeh_is_loading = undefined;\n",
       "  }\n",
       "\n",
       "  var JS_MIME_TYPE = 'application/javascript';\n",
       "  var HTML_MIME_TYPE = 'text/html';\n",
       "  var EXEC_MIME_TYPE = 'application/vnd.bokehjs_exec.v0+json';\n",
       "  var CLASS_NAME = 'output_bokeh rendered_html';\n",
       "\n",
       "  /**\n",
       "   * Render data to the DOM node\n",
       "   */\n",
       "  function render(props, node) {\n",
       "    var script = document.createElement(\"script\");\n",
       "    node.appendChild(script);\n",
       "  }\n",
       "\n",
       "  /**\n",
       "   * Handle when an output is cleared or removed\n",
       "   */\n",
       "  function handleClearOutput(event, handle) {\n",
       "    var cell = handle.cell;\n",
       "\n",
       "    var id = cell.output_area._bokeh_element_id;\n",
       "    var server_id = cell.output_area._bokeh_server_id;\n",
       "    // Clean up Bokeh references\n",
       "    if (id != null && id in Bokeh.index) {\n",
       "      Bokeh.index[id].model.document.clear();\n",
       "      delete Bokeh.index[id];\n",
       "    }\n",
       "\n",
       "    if (server_id !== undefined) {\n",
       "      // Clean up Bokeh references\n",
       "      var cmd = \"from bokeh.io.state import curstate; print(curstate().uuid_to_server['\" + server_id + \"'].get_sessions()[0].document.roots[0]._id)\";\n",
       "      cell.notebook.kernel.execute(cmd, {\n",
       "        iopub: {\n",
       "          output: function(msg) {\n",
       "            var id = msg.content.text.trim();\n",
       "            if (id in Bokeh.index) {\n",
       "              Bokeh.index[id].model.document.clear();\n",
       "              delete Bokeh.index[id];\n",
       "            }\n",
       "          }\n",
       "        }\n",
       "      });\n",
       "      // Destroy server and session\n",
       "      var cmd = \"import bokeh.io.notebook as ion; ion.destroy_server('\" + server_id + \"')\";\n",
       "      cell.notebook.kernel.execute(cmd);\n",
       "    }\n",
       "  }\n",
       "\n",
       "  /**\n",
       "   * Handle when a new output is added\n",
       "   */\n",
       "  function handleAddOutput(event, handle) {\n",
       "    var output_area = handle.output_area;\n",
       "    var output = handle.output;\n",
       "\n",
       "    // limit handleAddOutput to display_data with EXEC_MIME_TYPE content only\n",
       "    if ((output.output_type != \"display_data\") || (!output.data.hasOwnProperty(EXEC_MIME_TYPE))) {\n",
       "      return\n",
       "    }\n",
       "\n",
       "    var toinsert = output_area.element.find(\".\" + CLASS_NAME.split(' ')[0]);\n",
       "\n",
       "    if (output.metadata[EXEC_MIME_TYPE][\"id\"] !== undefined) {\n",
       "      toinsert[toinsert.length - 1].firstChild.textContent = output.data[JS_MIME_TYPE];\n",
       "      // store reference to embed id on output_area\n",
       "      output_area._bokeh_element_id = output.metadata[EXEC_MIME_TYPE][\"id\"];\n",
       "    }\n",
       "    if (output.metadata[EXEC_MIME_TYPE][\"server_id\"] !== undefined) {\n",
       "      var bk_div = document.createElement(\"div\");\n",
       "      bk_div.innerHTML = output.data[HTML_MIME_TYPE];\n",
       "      var script_attrs = bk_div.children[0].attributes;\n",
       "      for (var i = 0; i < script_attrs.length; i++) {\n",
       "        toinsert[toinsert.length - 1].firstChild.setAttribute(script_attrs[i].name, script_attrs[i].value);\n",
       "        toinsert[toinsert.length - 1].firstChild.textContent = bk_div.children[0].textContent\n",
       "      }\n",
       "      // store reference to server id on output_area\n",
       "      output_area._bokeh_server_id = output.metadata[EXEC_MIME_TYPE][\"server_id\"];\n",
       "    }\n",
       "  }\n",
       "\n",
       "  function register_renderer(events, OutputArea) {\n",
       "\n",
       "    function append_mime(data, metadata, element) {\n",
       "      // create a DOM node to render to\n",
       "      var toinsert = this.create_output_subarea(\n",
       "        metadata,\n",
       "        CLASS_NAME,\n",
       "        EXEC_MIME_TYPE\n",
       "      );\n",
       "      this.keyboard_manager.register_events(toinsert);\n",
       "      // Render to node\n",
       "      var props = {data: data, metadata: metadata[EXEC_MIME_TYPE]};\n",
       "      render(props, toinsert[toinsert.length - 1]);\n",
       "      element.append(toinsert);\n",
       "      return toinsert\n",
       "    }\n",
       "\n",
       "    /* Handle when an output is cleared or removed */\n",
       "    events.on('clear_output.CodeCell', handleClearOutput);\n",
       "    events.on('delete.Cell', handleClearOutput);\n",
       "\n",
       "    /* Handle when a new output is added */\n",
       "    events.on('output_added.OutputArea', handleAddOutput);\n",
       "\n",
       "    /**\n",
       "     * Register the mime type and append_mime function with output_area\n",
       "     */\n",
       "    OutputArea.prototype.register_mime_type(EXEC_MIME_TYPE, append_mime, {\n",
       "      /* Is output safe? */\n",
       "      safe: true,\n",
       "      /* Index of renderer in `output_area.display_order` */\n",
       "      index: 0\n",
       "    });\n",
       "  }\n",
       "\n",
       "  // register the mime type if in Jupyter Notebook environment and previously unregistered\n",
       "  if (root.Jupyter !== undefined) {\n",
       "    var events = require('base/js/events');\n",
       "    var OutputArea = require('notebook/js/outputarea').OutputArea;\n",
       "\n",
       "    if (OutputArea.prototype.mime_types().indexOf(EXEC_MIME_TYPE) == -1) {\n",
       "      register_renderer(events, OutputArea);\n",
       "    }\n",
       "  }\n",
       "\n",
       "  \n",
       "  if (typeof (root._bokeh_timeout) === \"undefined\" || force === true) {\n",
       "    root._bokeh_timeout = Date.now() + 5000;\n",
       "    root._bokeh_failed_load = false;\n",
       "  }\n",
       "\n",
       "  var NB_LOAD_WARNING = {'data': {'text/html':\n",
       "     \"<div style='background-color: #fdd'>\\n\"+\n",
       "     \"<p>\\n\"+\n",
       "     \"BokehJS does not appear to have successfully loaded. If loading BokehJS from CDN, this \\n\"+\n",
       "     \"may be due to a slow or bad network connection. Possible fixes:\\n\"+\n",
       "     \"</p>\\n\"+\n",
       "     \"<ul>\\n\"+\n",
       "     \"<li>re-rerun `output_notebook()` to attempt to load from CDN again, or</li>\\n\"+\n",
       "     \"<li>use INLINE resources instead, as so:</li>\\n\"+\n",
       "     \"</ul>\\n\"+\n",
       "     \"<code>\\n\"+\n",
       "     \"from bokeh.resources import INLINE\\n\"+\n",
       "     \"output_notebook(resources=INLINE)\\n\"+\n",
       "     \"</code>\\n\"+\n",
       "     \"</div>\"}};\n",
       "\n",
       "  function display_loaded() {\n",
       "    var el = document.getElementById(\"1001\");\n",
       "    if (el != null) {\n",
       "      el.textContent = \"BokehJS is loading...\";\n",
       "    }\n",
       "    if (root.Bokeh !== undefined) {\n",
       "      if (el != null) {\n",
       "        el.textContent = \"BokehJS \" + root.Bokeh.version + \" successfully loaded.\";\n",
       "      }\n",
       "    } else if (Date.now() < root._bokeh_timeout) {\n",
       "      setTimeout(display_loaded, 100)\n",
       "    }\n",
       "  }\n",
       "\n",
       "\n",
       "  function run_callbacks() {\n",
       "    try {\n",
       "      root._bokeh_onload_callbacks.forEach(function(callback) {\n",
       "        if (callback != null)\n",
       "          callback();\n",
       "      });\n",
       "    } finally {\n",
       "      delete root._bokeh_onload_callbacks\n",
       "    }\n",
       "    console.debug(\"Bokeh: all callbacks have finished\");\n",
       "  }\n",
       "\n",
       "  function load_libs(css_urls, js_urls, callback) {\n",
       "    if (css_urls == null) css_urls = [];\n",
       "    if (js_urls == null) js_urls = [];\n",
       "\n",
       "    root._bokeh_onload_callbacks.push(callback);\n",
       "    if (root._bokeh_is_loading > 0) {\n",
       "      console.debug(\"Bokeh: BokehJS is being loaded, scheduling callback at\", now());\n",
       "      return null;\n",
       "    }\n",
       "    if (js_urls == null || js_urls.length === 0) {\n",
       "      run_callbacks();\n",
       "      return null;\n",
       "    }\n",
       "    console.debug(\"Bokeh: BokehJS not loaded, scheduling load and callback at\", now());\n",
       "    root._bokeh_is_loading = css_urls.length + js_urls.length;\n",
       "\n",
       "    function on_load() {\n",
       "      root._bokeh_is_loading--;\n",
       "      if (root._bokeh_is_loading === 0) {\n",
       "        console.debug(\"Bokeh: all BokehJS libraries/stylesheets loaded\");\n",
       "        run_callbacks()\n",
       "      }\n",
       "    }\n",
       "\n",
       "    function on_error() {\n",
       "      console.error(\"failed to load \" + url);\n",
       "    }\n",
       "\n",
       "    for (var i = 0; i < css_urls.length; i++) {\n",
       "      var url = css_urls[i];\n",
       "      const element = document.createElement(\"link\");\n",
       "      element.onload = on_load;\n",
       "      element.onerror = on_error;\n",
       "      element.rel = \"stylesheet\";\n",
       "      element.type = \"text/css\";\n",
       "      element.href = url;\n",
       "      console.debug(\"Bokeh: injecting link tag for BokehJS stylesheet: \", url);\n",
       "      document.body.appendChild(element);\n",
       "    }\n",
       "\n",
       "    const hashes = {\"https://cdn.bokeh.org/bokeh/release/bokeh-2.0.2.min.js\": \"ufR9RFnRs6lniiaFvtJziE0YeidtAgBRH6ux2oUItHw5WTvE1zuk9uzhUU/FJXDp\", \"https://cdn.bokeh.org/bokeh/release/bokeh-widgets-2.0.2.min.js\": \"8QM/PGWBT+IssZuRcDcjzwIh1mkOmJSoNMmyYDZbCfXJg3Ap1lEvdVgFuSAwhb/J\", \"https://cdn.bokeh.org/bokeh/release/bokeh-tables-2.0.2.min.js\": \"Jm8cH3Rg0P6UeZhVY5cLy1WzKajUT9KImCY+76hEqrcJt59/d8GPvFHjCkYgnSIn\", \"https://cdn.bokeh.org/bokeh/release/bokeh-gl-2.0.2.min.js\": \"Ozhzj+SI7ywm74aOI/UajcWz+C0NjsPunEVyVIrxzYkB+jA+2tUw8x5xJCbVtK5I\"};\n",
       "\n",
       "    for (var i = 0; i < js_urls.length; i++) {\n",
       "      var url = js_urls[i];\n",
       "      var element = document.createElement('script');\n",
       "      element.onload = on_load;\n",
       "      element.onerror = on_error;\n",
       "      element.async = false;\n",
       "      element.src = url;\n",
       "      if (url in hashes) {\n",
       "        element.crossOrigin = \"anonymous\";\n",
       "        element.integrity = \"sha384-\" + hashes[url];\n",
       "      }\n",
       "      console.debug(\"Bokeh: injecting script tag for BokehJS library: \", url);\n",
       "      document.head.appendChild(element);\n",
       "    }\n",
       "  };\n",
       "\n",
       "  function inject_raw_css(css) {\n",
       "    const element = document.createElement(\"style\");\n",
       "    element.appendChild(document.createTextNode(css));\n",
       "    document.body.appendChild(element);\n",
       "  }\n",
       "\n",
       "  \n",
       "  var js_urls = [\"https://cdn.bokeh.org/bokeh/release/bokeh-2.0.2.min.js\", \"https://cdn.bokeh.org/bokeh/release/bokeh-widgets-2.0.2.min.js\", \"https://cdn.bokeh.org/bokeh/release/bokeh-tables-2.0.2.min.js\", \"https://cdn.bokeh.org/bokeh/release/bokeh-gl-2.0.2.min.js\"];\n",
       "  var css_urls = [];\n",
       "  \n",
       "\n",
       "  var inline_js = [\n",
       "    function(Bokeh) {\n",
       "      Bokeh.set_log_level(\"info\");\n",
       "    },\n",
       "    function(Bokeh) {\n",
       "    \n",
       "    \n",
       "    }\n",
       "  ];\n",
       "\n",
       "  function run_inline_js() {\n",
       "    \n",
       "    if (root.Bokeh !== undefined || force === true) {\n",
       "      \n",
       "    for (var i = 0; i < inline_js.length; i++) {\n",
       "      inline_js[i].call(root, root.Bokeh);\n",
       "    }\n",
       "    if (force === true) {\n",
       "        display_loaded();\n",
       "      }} else if (Date.now() < root._bokeh_timeout) {\n",
       "      setTimeout(run_inline_js, 100);\n",
       "    } else if (!root._bokeh_failed_load) {\n",
       "      console.log(\"Bokeh: BokehJS failed to load within specified timeout.\");\n",
       "      root._bokeh_failed_load = true;\n",
       "    } else if (force !== true) {\n",
       "      var cell = $(document.getElementById(\"1001\")).parents('.cell').data().cell;\n",
       "      cell.output_area.append_execute_result(NB_LOAD_WARNING)\n",
       "    }\n",
       "\n",
       "  }\n",
       "\n",
       "  if (root._bokeh_is_loading === 0) {\n",
       "    console.debug(\"Bokeh: BokehJS loaded, going straight to plotting\");\n",
       "    run_inline_js();\n",
       "  } else {\n",
       "    load_libs(css_urls, js_urls, function() {\n",
       "      console.debug(\"Bokeh: BokehJS plotting callback run at\", now());\n",
       "      run_inline_js();\n",
       "    });\n",
       "  }\n",
       "}(window));"
      ],
      "application/vnd.bokehjs_load.v0+json": "\n(function(root) {\n  function now() {\n    return new Date();\n  }\n\n  var force = true;\n\n  if (typeof root._bokeh_onload_callbacks === \"undefined\" || force === true) {\n    root._bokeh_onload_callbacks = [];\n    root._bokeh_is_loading = undefined;\n  }\n\n  \n\n  \n  if (typeof (root._bokeh_timeout) === \"undefined\" || force === true) {\n    root._bokeh_timeout = Date.now() + 5000;\n    root._bokeh_failed_load = false;\n  }\n\n  var NB_LOAD_WARNING = {'data': {'text/html':\n     \"<div style='background-color: #fdd'>\\n\"+\n     \"<p>\\n\"+\n     \"BokehJS does not appear to have successfully loaded. If loading BokehJS from CDN, this \\n\"+\n     \"may be due to a slow or bad network connection. Possible fixes:\\n\"+\n     \"</p>\\n\"+\n     \"<ul>\\n\"+\n     \"<li>re-rerun `output_notebook()` to attempt to load from CDN again, or</li>\\n\"+\n     \"<li>use INLINE resources instead, as so:</li>\\n\"+\n     \"</ul>\\n\"+\n     \"<code>\\n\"+\n     \"from bokeh.resources import INLINE\\n\"+\n     \"output_notebook(resources=INLINE)\\n\"+\n     \"</code>\\n\"+\n     \"</div>\"}};\n\n  function display_loaded() {\n    var el = document.getElementById(\"1001\");\n    if (el != null) {\n      el.textContent = \"BokehJS is loading...\";\n    }\n    if (root.Bokeh !== undefined) {\n      if (el != null) {\n        el.textContent = \"BokehJS \" + root.Bokeh.version + \" successfully loaded.\";\n      }\n    } else if (Date.now() < root._bokeh_timeout) {\n      setTimeout(display_loaded, 100)\n    }\n  }\n\n\n  function run_callbacks() {\n    try {\n      root._bokeh_onload_callbacks.forEach(function(callback) {\n        if (callback != null)\n          callback();\n      });\n    } finally {\n      delete root._bokeh_onload_callbacks\n    }\n    console.debug(\"Bokeh: all callbacks have finished\");\n  }\n\n  function load_libs(css_urls, js_urls, callback) {\n    if (css_urls == null) css_urls = [];\n    if (js_urls == null) js_urls = [];\n\n    root._bokeh_onload_callbacks.push(callback);\n    if (root._bokeh_is_loading > 0) {\n      console.debug(\"Bokeh: BokehJS is being loaded, scheduling callback at\", now());\n      return null;\n    }\n    if (js_urls == null || js_urls.length === 0) {\n      run_callbacks();\n      return null;\n    }\n    console.debug(\"Bokeh: BokehJS not loaded, scheduling load and callback at\", now());\n    root._bokeh_is_loading = css_urls.length + js_urls.length;\n\n    function on_load() {\n      root._bokeh_is_loading--;\n      if (root._bokeh_is_loading === 0) {\n        console.debug(\"Bokeh: all BokehJS libraries/stylesheets loaded\");\n        run_callbacks()\n      }\n    }\n\n    function on_error() {\n      console.error(\"failed to load \" + url);\n    }\n\n    for (var i = 0; i < css_urls.length; i++) {\n      var url = css_urls[i];\n      const element = document.createElement(\"link\");\n      element.onload = on_load;\n      element.onerror = on_error;\n      element.rel = \"stylesheet\";\n      element.type = \"text/css\";\n      element.href = url;\n      console.debug(\"Bokeh: injecting link tag for BokehJS stylesheet: \", url);\n      document.body.appendChild(element);\n    }\n\n    const hashes = {\"https://cdn.bokeh.org/bokeh/release/bokeh-2.0.2.min.js\": \"ufR9RFnRs6lniiaFvtJziE0YeidtAgBRH6ux2oUItHw5WTvE1zuk9uzhUU/FJXDp\", \"https://cdn.bokeh.org/bokeh/release/bokeh-widgets-2.0.2.min.js\": \"8QM/PGWBT+IssZuRcDcjzwIh1mkOmJSoNMmyYDZbCfXJg3Ap1lEvdVgFuSAwhb/J\", \"https://cdn.bokeh.org/bokeh/release/bokeh-tables-2.0.2.min.js\": \"Jm8cH3Rg0P6UeZhVY5cLy1WzKajUT9KImCY+76hEqrcJt59/d8GPvFHjCkYgnSIn\", \"https://cdn.bokeh.org/bokeh/release/bokeh-gl-2.0.2.min.js\": \"Ozhzj+SI7ywm74aOI/UajcWz+C0NjsPunEVyVIrxzYkB+jA+2tUw8x5xJCbVtK5I\"};\n\n    for (var i = 0; i < js_urls.length; i++) {\n      var url = js_urls[i];\n      var element = document.createElement('script');\n      element.onload = on_load;\n      element.onerror = on_error;\n      element.async = false;\n      element.src = url;\n      if (url in hashes) {\n        element.crossOrigin = \"anonymous\";\n        element.integrity = \"sha384-\" + hashes[url];\n      }\n      console.debug(\"Bokeh: injecting script tag for BokehJS library: \", url);\n      document.head.appendChild(element);\n    }\n  };\n\n  function inject_raw_css(css) {\n    const element = document.createElement(\"style\");\n    element.appendChild(document.createTextNode(css));\n    document.body.appendChild(element);\n  }\n\n  \n  var js_urls = [\"https://cdn.bokeh.org/bokeh/release/bokeh-2.0.2.min.js\", \"https://cdn.bokeh.org/bokeh/release/bokeh-widgets-2.0.2.min.js\", \"https://cdn.bokeh.org/bokeh/release/bokeh-tables-2.0.2.min.js\", \"https://cdn.bokeh.org/bokeh/release/bokeh-gl-2.0.2.min.js\"];\n  var css_urls = [];\n  \n\n  var inline_js = [\n    function(Bokeh) {\n      Bokeh.set_log_level(\"info\");\n    },\n    function(Bokeh) {\n    \n    \n    }\n  ];\n\n  function run_inline_js() {\n    \n    if (root.Bokeh !== undefined || force === true) {\n      \n    for (var i = 0; i < inline_js.length; i++) {\n      inline_js[i].call(root, root.Bokeh);\n    }\n    if (force === true) {\n        display_loaded();\n      }} else if (Date.now() < root._bokeh_timeout) {\n      setTimeout(run_inline_js, 100);\n    } else if (!root._bokeh_failed_load) {\n      console.log(\"Bokeh: BokehJS failed to load within specified timeout.\");\n      root._bokeh_failed_load = true;\n    } else if (force !== true) {\n      var cell = $(document.getElementById(\"1001\")).parents('.cell').data().cell;\n      cell.output_area.append_execute_result(NB_LOAD_WARNING)\n    }\n\n  }\n\n  if (root._bokeh_is_loading === 0) {\n    console.debug(\"Bokeh: BokehJS loaded, going straight to plotting\");\n    run_inline_js();\n  } else {\n    load_libs(css_urls, js_urls, function() {\n      console.debug(\"Bokeh: BokehJS plotting callback run at\", now());\n      run_inline_js();\n    });\n  }\n}(window));"
     },
     "metadata": {},
     "output_type": "display_data"
    }
   ],
   "source": [
    "from auto_reduce import *\n",
    "from auto_reduce.utils import get_ODE\n",
    "import matplotlib.pyplot as plt\n",
    "from auto_reduce.utils import reduce\n",
    "\n",
    "import bokeh.io\n",
    "import bokeh.plotting\n",
    "bokeh.io.output_notebook()\n",
    "from bokeh.layouts import row\n",
    "\n",
    "import colorcet\n",
    "\n",
    "from sbml_to_ode2 import *\n",
    "from scipy.integrate import odeint\n",
    "import numpy as np\n",
    "from sympy import *\n",
    "from sympy.utilities.lambdify import lambdify\n",
    "from sympy.abc import t"
   ]
  },
  {
   "cell_type": "markdown",
   "metadata": {},
   "source": [
    "--- \n",
    "## Sensitivity Analysis\n",
    "### Reduced Model 5"
   ]
  },
  {
   "cell_type": "code",
   "execution_count": 2,
   "metadata": {},
   "outputs": [],
   "source": [
    "%run sbml_to_ode2.py"
   ]
  },
  {
   "cell_type": "code",
   "execution_count": 3,
   "metadata": {},
   "outputs": [
    {
     "name": "stdout",
     "output_type": "stream",
     "text": [
      "attempting to retain : [0, 1, 2, 3, 4, 7, 8, 11, 12, 15, 16, 19, 20, 21, 22, 25, 26, 27, 30, 33, 34, 37, 38, 41, 42, 45, 46, 49, 50, 53, 54, 57, 58, 61, 62, 65, 66, 67]\n"
     ]
    },
    {
     "name": "stderr",
     "output_type": "stream",
     "text": [
      "/Users/ankitaroychoudhury/opt/anaconda3/lib/python3.7/site-packages/sympy/core/relational.py:470: SymPyDeprecationWarning: \n",
      "\n",
      "Eq(expr) with rhs default to 0 has been deprecated since SymPy 1.5.\n",
      "Use Eq(expr, 0) instead. See\n",
      "https://github.com/sympy/sympy/issues/16587 for more info.\n",
      "\n",
      "  deprecated_since_version=\"1.5\"\n"
     ]
    },
    {
     "name": "stdout",
     "output_type": "stream",
     "text": [
      "Successful time-scale separation solution obtained.\n",
      "the ATP error is: 1377.5052417105946\n",
      "<class 'numpy.ndarray'>\n"
     ]
    },
    {
     "data": {
      "text/html": [
       "\n",
       "\n",
       "\n",
       "\n",
       "\n",
       "\n",
       "  <div class=\"bk-root\" id=\"95b2361f-02a4-4f1a-b299-d647f5eec4e2\" data-root-id=\"1002\"></div>\n"
      ]
     },
     "metadata": {},
     "output_type": "display_data"
    },
    {
     "data": {
      "application/javascript": [
       "(function(root) {\n",
       "  function embed_document(root) {\n",
       "    \n",
       "  var docs_json = {\"4db8abe8-cf29-4826-a97d-6789b4f6a48b\":{\"roots\":{\"references\":[{\"attributes\":{\"below\":[{\"id\":\"1013\"}],\"center\":[{\"id\":\"1016\"},{\"id\":\"1020\"},{\"id\":\"1046\"}],\"left\":[{\"id\":\"1017\"}],\"plot_height\":350,\"plot_width\":475,\"renderers\":[{\"id\":\"1038\"},{\"id\":\"1051\"},{\"id\":\"1065\"}],\"title\":{\"id\":\"1003\"},\"toolbar\":{\"id\":\"1028\"},\"x_range\":{\"id\":\"1005\"},\"x_scale\":{\"id\":\"1009\"},\"y_range\":{\"id\":\"1007\"},\"y_scale\":{\"id\":\"1011\"}},\"id\":\"1002\",\"subtype\":\"Figure\",\"type\":\"Plot\"},{\"attributes\":{},\"id\":\"1011\",\"type\":\"LinearScale\"},{\"attributes\":{},\"id\":\"1088\",\"type\":\"UnionRenderers\"},{\"attributes\":{},\"id\":\"1007\",\"type\":\"DataRange1d\"},{\"attributes\":{},\"id\":\"1005\",\"type\":\"DataRange1d\"},{\"attributes\":{\"data_source\":{\"id\":\"1062\"},\"glyph\":{\"id\":\"1063\"},\"hover_glyph\":null,\"muted_glyph\":null,\"nonselection_glyph\":{\"id\":\"1064\"},\"selection_glyph\":null,\"view\":{\"id\":\"1066\"}},\"id\":\"1065\",\"type\":\"GlyphRenderer\"},{\"attributes\":{\"data\":{\"x\":{\"__ndarray__\":\"AAAAAAAAAAA++OCDDz7oPz744IMPPvg/LrrooosuAkA++OCDDz4IQE422WSTTQ5ALrrooosuEkA22WSTTTYVQD744IMPPhhARhdddNFFG0BONtlkk00eQKuqqqqqqiBALrrooosuIkCyySabbLIjQDbZZJNNNiVAuuiiiy66JkA++OCDDz4oQMIHH3zwwSlARhdddNFFK0DKJptsssksQE422WSTTS5A0UUXXXTRL0CrqqqqqqowQG2yySabbDFALrrooosuMkDwwQcffPAyQLLJJptssjNAdNFFF110NEA22WSTTTY1QPjggw8++DVAuuiiiy66NkB88MEHH3w3QD744IMPPjhAAAAAAAAAOUDCBx988ME5QIQPPvjggzpARhdddNFFO0AIH3zwwQc8QMomm2yyyTxAjC666KKLPUBONtlkk00+QA8++OCDDz9A0UUXXXTRP0DKJptssklAQKuqqqqqqkBAjC666KILQUBtsskmm2xBQE422WSTzUFALrrooosuQkAPPvjgg49CQPDBBx988EJA0UUXXXRRQ0CyySabbLJDQJNNNtlkE0RAdNFFF110REBVVVVVVdVEQDbZZJNNNkVAF1100UWXRUD44IMPPvhFQNlkk002WUZAuuiiiy66RkCbbLLJJhtHQHzwwQcffEdAXXTRRRfdR0A++OCDDz5IQB988MEHn0hAAAAAAAAASUDhgw8++GBJQMIHH3zwwUlAo4suuugiSkCEDz744INKQGWTTTbZ5EpARhdddNFFS0Anm2yyyaZLQAgffPDBB0xA6aKLLrpoTEDKJptssslMQKuqqqqqKk1AjC666KKLTUBtsskmm+xNQE422WSTTU5ALrrooouuTkAPPvjggw9PQPDBBx98cE9A0UUXXXTRT0DZZJNNNhlQQMomm2yySVBAuuiiiy56UECrqqqqqqpQQJtssskm21BAjC666KILUUB88MEHHzxRQG2yySabbFFAXXTRRRedUUBONtlkk81RQD744IMP/lFALrrooosuUkAffPDBB19SQA8++OCDj1JAAAAAAADAUkA=\",\"dtype\":\"float64\",\"shape\":[100]},\"y\":{\"__ndarray__\":\"AAAAAAAAPkATqBCehB/iP2POcJBR3SxA7fzMxtjKO0B3+/5CRuA7QJkAbsuo4jtAYfE0/y7hO0AA7lbuW907QBOVK1Wo1jtARNxVqQLLO0BlugXorbQ7QO9+dOnmgDtAHXjSK1rrOkAtwyp8Gn05QO1AK5qigTdAQ8K//M57NUAkVNTjqpIzQBIsWJN9zzFA22tKW6YzMECngEoshHstQOU/UYGh1ipAh0Vsyc5yKEByEkCND0omQD1N6KCbViRA44L8gwyTIkAxPDkLcfogQIZ/xlKkEB9ATKuOBF9xHEC3+UpO7w8aQLwBOc785RdA8WQYM+XtFUBJApE2qCIUQJR10vXUfxJAIHKw+3gBEUDhM08IIkgPQOmkrSb3yAxAdmYIP9p/CkDBJRqHy2cIQFUCB2RQfAZAdUltwmO5BECH3Vl7aBsDQAMzpl0dnwFAL4/9w5JBAEB8cfDeQgD+P976ZM7FsPs/8bSfZlSQ+T+7Oh/j+5r3P/4R76UlzfU/reVZD44j9D/6xpf7O5vyP6soR1V5MfE/TOyeMJnH7z/eqVvw5V/tP01VlUG2J+s/Zfo5PEEb6T+uDgtnDzfnP1e130Pzd+U/N1zipALb4z/QD7mnkF3iP5mCNDoo/eA/eJ3vDg9v3z/su84jNhXdP6OlnFX06No/lCArEcbm2D/0iunibgvXP9fN/3v0U9U/vRekEpi90z9hWg4g0kXSP7e5ksNN6tA/TUrF4shRzz9ZgRqtNP/MP1ZKwxI22co/t/ZAhGzcyD8vtw/ouQXHP2eOIGo9UsU/MQUYvE6/wz/AsquaeUrCP3yQfq958cA/853Np21kvz8w3MJTgxW9P+2Xju2g8ro/yxHTb3j4uD8IPLDl+yO3P4/DPnxYcrU/NfwO/vHgsz/K/ueiXm2yP/k2CD1jFbE/jKNNKt+trz9w1oO4NmCtPy/R6wdFPqs/p6xZ4MdEqT+9voWHuXCnP+FSekNPv6U/Yf3Z2/MtpD/mnDT+Q7qiP2r7WJwJYqE/WBW0TDkjoD9hWQhl3fedP46YjOXT1Js/YSaAUhnamT8=\",\"dtype\":\"float64\",\"shape\":[100]}},\"selected\":{\"id\":\"1060\"},\"selection_policy\":{\"id\":\"1059\"}},\"id\":\"1035\",\"type\":\"ColumnDataSource\"},{\"attributes\":{\"label\":{\"value\":\"glucose\"},\"renderers\":[{\"id\":\"1051\"}]},\"id\":\"1061\",\"type\":\"LegendItem\"},{\"attributes\":{},\"id\":\"1089\",\"type\":\"Selection\"},{\"attributes\":{},\"id\":\"1014\",\"type\":\"BasicTicker\"},{\"attributes\":{},\"id\":\"1076\",\"type\":\"Selection\"},{\"attributes\":{},\"id\":\"1026\",\"type\":\"HelpTool\"},{\"attributes\":{\"source\":{\"id\":\"1035\"}},\"id\":\"1039\",\"type\":\"CDSView\"},{\"attributes\":{\"label\":{\"value\":\"isobutanol\"},\"renderers\":[{\"id\":\"1065\"}]},\"id\":\"1077\",\"type\":\"LegendItem\"},{\"attributes\":{\"text\":\"Reduced Model 5\"},\"id\":\"1003\",\"type\":\"Title\"},{\"attributes\":{\"click_policy\":\"hide\",\"items\":[{\"id\":\"1047\"},{\"id\":\"1061\"},{\"id\":\"1077\"}]},\"id\":\"1046\",\"type\":\"Legend\"},{\"attributes\":{},\"id\":\"1025\",\"type\":\"ResetTool\"},{\"attributes\":{},\"id\":\"1024\",\"type\":\"SaveTool\"},{\"attributes\":{\"line_color\":\"#1f77b3\",\"line_width\":2,\"x\":{\"field\":\"x\"},\"y\":{\"field\":\"y\"}},\"id\":\"1049\",\"type\":\"Line\"},{\"attributes\":{\"axis_label\":\"Concentration (mM)\",\"formatter\":{\"id\":\"1042\"},\"ticker\":{\"id\":\"1018\"}},\"id\":\"1017\",\"type\":\"LinearAxis\"},{\"attributes\":{\"overlay\":{\"id\":\"1027\"}},\"id\":\"1023\",\"type\":\"BoxZoomTool\"},{\"attributes\":{},\"id\":\"1022\",\"type\":\"WheelZoomTool\"},{\"attributes\":{\"line_color\":\"#d62628\",\"line_width\":2,\"x\":{\"field\":\"x\"},\"y\":{\"field\":\"y\"}},\"id\":\"1036\",\"type\":\"Line\"},{\"attributes\":{\"line_alpha\":0.1,\"line_color\":\"#ff7e0e\",\"line_width\":2,\"x\":{\"field\":\"x\"},\"y\":{\"field\":\"y\"}},\"id\":\"1064\",\"type\":\"Line\"},{\"attributes\":{},\"id\":\"1042\",\"type\":\"BasicTickFormatter\"},{\"attributes\":{\"source\":{\"id\":\"1048\"}},\"id\":\"1052\",\"type\":\"CDSView\"},{\"attributes\":{},\"id\":\"1060\",\"type\":\"Selection\"},{\"attributes\":{},\"id\":\"1021\",\"type\":\"PanTool\"},{\"attributes\":{\"active_drag\":\"auto\",\"active_inspect\":\"auto\",\"active_multi\":null,\"active_scroll\":\"auto\",\"active_tap\":\"auto\",\"tools\":[{\"id\":\"1021\"},{\"id\":\"1022\"},{\"id\":\"1023\"},{\"id\":\"1024\"},{\"id\":\"1025\"},{\"id\":\"1026\"}]},\"id\":\"1028\",\"type\":\"Toolbar\"},{\"attributes\":{\"data_source\":{\"id\":\"1035\"},\"glyph\":{\"id\":\"1036\"},\"hover_glyph\":null,\"muted_glyph\":null,\"nonselection_glyph\":{\"id\":\"1037\"},\"selection_glyph\":null,\"view\":{\"id\":\"1039\"}},\"id\":\"1038\",\"type\":\"GlyphRenderer\"},{\"attributes\":{},\"id\":\"1044\",\"type\":\"BasicTickFormatter\"},{\"attributes\":{},\"id\":\"1059\",\"type\":\"UnionRenderers\"},{\"attributes\":{\"data\":{\"x\":{\"__ndarray__\":\"AAAAAAAAAAA++OCDDz7oPz744IMPPvg/LrrooosuAkA++OCDDz4IQE422WSTTQ5ALrrooosuEkA22WSTTTYVQD744IMPPhhARhdddNFFG0BONtlkk00eQKuqqqqqqiBALrrooosuIkCyySabbLIjQDbZZJNNNiVAuuiiiy66JkA++OCDDz4oQMIHH3zwwSlARhdddNFFK0DKJptsssksQE422WSTTS5A0UUXXXTRL0CrqqqqqqowQG2yySabbDFALrrooosuMkDwwQcffPAyQLLJJptssjNAdNFFF110NEA22WSTTTY1QPjggw8++DVAuuiiiy66NkB88MEHH3w3QD744IMPPjhAAAAAAAAAOUDCBx988ME5QIQPPvjggzpARhdddNFFO0AIH3zwwQc8QMomm2yyyTxAjC666KKLPUBONtlkk00+QA8++OCDDz9A0UUXXXTRP0DKJptssklAQKuqqqqqqkBAjC666KILQUBtsskmm2xBQE422WSTzUFALrrooosuQkAPPvjgg49CQPDBBx988EJA0UUXXXRRQ0CyySabbLJDQJNNNtlkE0RAdNFFF110REBVVVVVVdVEQDbZZJNNNkVAF1100UWXRUD44IMPPvhFQNlkk002WUZAuuiiiy66RkCbbLLJJhtHQHzwwQcffEdAXXTRRRfdR0A++OCDDz5IQB988MEHn0hAAAAAAAAASUDhgw8++GBJQMIHH3zwwUlAo4suuugiSkCEDz744INKQGWTTTbZ5EpARhdddNFFS0Anm2yyyaZLQAgffPDBB0xA6aKLLrpoTEDKJptssslMQKuqqqqqKk1AjC666KKLTUBtsskmm+xNQE422WSTTU5ALrrooouuTkAPPvjggw9PQPDBBx98cE9A0UUXXXTRT0DZZJNNNhlQQMomm2yySVBAuuiiiy56UECrqqqqqqpQQJtssskm21BAjC666KILUUB88MEHHzxRQG2yySabbFFAXXTRRRedUUBONtlkk81RQD744IMP/lFALrrooosuUkAffPDBB19SQA8++OCDj1JAAAAAAADAUkA=\",\"dtype\":\"float64\",\"shape\":[100]},\"y\":{\"__ndarray__\":\"AAAAAAAAPkBQmmNRTbgDQA4a1Qxk6Ws/7DWw/0Tcnjviln/p8SmFuuqyk9IAJSG6MA3Za0g6vTlloK3Ept1vuWJWWix/H0q5tudXXZ67Jzm/OxRY9kYnucu7JTWblVo5dv+OIqkrBjnw5M7JnEBFOIYFocJF33s3Ko9f/vhuFbfqC33cFSmoNjZbIVWjUyE2/IJCcjBYobVTQ3GhzkWetQTMZ6yl+LW1cwI6yrXd0TVnfVqRfc+qNfyUbf80xWq1N5rHL8k1LTWSO0BD+3QAtYhXaNPWRMq0yuJtjyLGwDQnBGr+yuzEtKY3+LPu6KI0NAaI+WUoezRj/0qRXdJ4NIP/J8gZ6Gs0rKrRs/QxFrRS9cO7c7JBtKoVmZCyFwS0IqPu8aS08TPUwtI2+7Xvs2BVQ7T/ddSzgI5oo5n5tDNYoX+wpxvcM6M9RSVKCkczlLyZnAZgRrNhHHRNcJIBs0LP9/bgBuyynhumDa2wC7NkgvDWdV0EszDZnPIul9gyZNMSlfxuDbN0SEtZwVD0Mr4nPCbH7vmyAFMovtkxhrLitPOukF8LM58/tIm6wgmzAK705GgCgzJZZw4p0q4XM1TBz1/OhRuzwgwqm9QYAbPsfAAr818vM+YZRfhJDyKz/1hlBGBI9bJVFM5nxxrsstMXHnLx5NeyW7ydg5P9x7JA/0plLjq5srct5PV89Kuy8EvNI+kkoLJby9SRv3WTsoNfj0GimoiySLtGIyIYgLL3rW8sq251shGvXvsBlm2ydIUoGpxLZbIPb49rWl5fsoiNYJfnMVeyEdTj06CRUbIIs/8wjbNLsuOFwrolOkaypuwHb8S4QbL/Joa27nY8smbs1KD7uTeyDlthoI5fNLK8DApPjWIxslDl65zFVC2yDUDcS9RUKbIaOhght8Emssy1+WVnjCSypS2qM58hIrJlOpD2vAIgsuleTzY+aB2yBLJGokZCG7JKYhsphikZslMAP70xVhey24XLHHPDFbK7nqGOcmYUskpSrlPuNROycLtMsR0rErKK2O6Ba0ARssCUm2orcRCyrYwivO5yD7I=\",\"dtype\":\"float64\",\"shape\":[100]}},\"selected\":{\"id\":\"1076\"},\"selection_policy\":{\"id\":\"1075\"}},\"id\":\"1048\",\"type\":\"ColumnDataSource\"},{\"attributes\":{\"line_color\":\"#ff7e0e\",\"line_width\":2,\"x\":{\"field\":\"x\"},\"y\":{\"field\":\"y\"}},\"id\":\"1063\",\"type\":\"Line\"},{\"attributes\":{\"source\":{\"id\":\"1062\"}},\"id\":\"1066\",\"type\":\"CDSView\"},{\"attributes\":{\"axis_label\":\"Time (hrs)\",\"formatter\":{\"id\":\"1044\"},\"ticker\":{\"id\":\"1014\"}},\"id\":\"1013\",\"type\":\"LinearAxis\"},{\"attributes\":{\"line_alpha\":0.1,\"line_color\":\"#1f77b3\",\"line_width\":2,\"x\":{\"field\":\"x\"},\"y\":{\"field\":\"y\"}},\"id\":\"1050\",\"type\":\"Line\"},{\"attributes\":{\"data\":{\"x\":{\"__ndarray__\":\"AAAAAAAAAAA++OCDDz7oPz744IMPPvg/LrrooosuAkA++OCDDz4IQE422WSTTQ5ALrrooosuEkA22WSTTTYVQD744IMPPhhARhdddNFFG0BONtlkk00eQKuqqqqqqiBALrrooosuIkCyySabbLIjQDbZZJNNNiVAuuiiiy66JkA++OCDDz4oQMIHH3zwwSlARhdddNFFK0DKJptsssksQE422WSTTS5A0UUXXXTRL0CrqqqqqqowQG2yySabbDFALrrooosuMkDwwQcffPAyQLLJJptssjNAdNFFF110NEA22WSTTTY1QPjggw8++DVAuuiiiy66NkB88MEHH3w3QD744IMPPjhAAAAAAAAAOUDCBx988ME5QIQPPvjggzpARhdddNFFO0AIH3zwwQc8QMomm2yyyTxAjC666KKLPUBONtlkk00+QA8++OCDDz9A0UUXXXTRP0DKJptssklAQKuqqqqqqkBAjC666KILQUBtsskmm2xBQE422WSTzUFALrrooosuQkAPPvjgg49CQPDBBx988EJA0UUXXXRRQ0CyySabbLJDQJNNNtlkE0RAdNFFF110REBVVVVVVdVEQDbZZJNNNkVAF1100UWXRUD44IMPPvhFQNlkk002WUZAuuiiiy66RkCbbLLJJhtHQHzwwQcffEdAXXTRRRfdR0A++OCDDz5IQB988MEHn0hAAAAAAAAASUDhgw8++GBJQMIHH3zwwUlAo4suuugiSkCEDz744INKQGWTTTbZ5EpARhdddNFFS0Anm2yyyaZLQAgffPDBB0xA6aKLLrpoTEDKJptssslMQKuqqqqqKk1AjC666KKLTUBtsskmm+xNQE422WSTTU5ALrrooouuTkAPPvjggw9PQPDBBx98cE9A0UUXXXTRT0DZZJNNNhlQQMomm2yySVBAuuiiiy56UECrqqqqqqpQQJtssskm21BAjC666KILUUB88MEHHzxRQG2yySabbFFAXXTRRRedUUBONtlkk81RQD744IMP/lFALrrooosuUkAffPDBB19SQA8++OCDj1JAAAAAAADAUkA=\",\"dtype\":\"float64\",\"shape\":[100]},\"y\":{\"__ndarray__\":\"AAAAAAAAAADYQPvE0IqAP7yS/ebXQf8/YSH103MhJUBo5y1tE0kxQNkl6mDCMDRALt44B/meNUD2uEIB3qg2QMlk9sAooTdATv+yMcuaOEADmsLWM5c5QAdkPpQqkjpAL9Oo2NOBO0C8+w2pI1I8QCn7fy2I6zxAQpU1NZRLPUDpHvM8VoM9QDwVO/3moz1AxVV0VOO3PUArcp859MQ9QF08v8oHzj1A9QPIZavUPUDa1/Jsu9k9QJb1sdG43T1A02cGHvPgPUCrJ//NneM9QGf5ZKHb5T1A6NNs58TnPUDc2Ncma+k9QIaj+Vbb6j1ANbz9RR/sPUBE8bOCPu09QPGkPfk+7j1AAVjUXiXvPUBsbQV+9e89QG/LVm2y8D1AzspFt17xPUA/4Qp4/PE9QHsZJXSN8j1AvotxKRPzPUCWvHLcjvM9QM91uqIB9D1A/8oda2z0PUDUg0sE0PQ9QOa36iEt9T1AKwwAYYT1PUB5WVJL1vU9QGNUWFoj9j1AiiB/+Wv2PUDnpSuIsPY9QEGEYFvx9j1AWcYZvy73PUD/THj3aPc9QAqIwkGg9z1ARPM41dT3PUA0bM/jBvg9QJOLzJo2+D1ApnlSI2T4PUDgsNWij/g9QGHbgzu5+D1A8y+dDOH4PUAyicMyB/k9QOjGPsgr+T1Ac6o55U75PUB6mvmfcPk9QNaJBg2R+T1Au/xcP7D5PUAKkY5Izvk9QJ214zjr+T1AWa96Hwf6PUCa9GAKIvo9QOPoqQY8+j1APhOFIFX6PUC0alFjbfo9QJdCrtmE+j1ANIGKjZv6PUDz1DKIsfo9QOWaXtLG+j1A/2k7dNv6PUACcHd17/o9QEvxSt0C+z1A0AaBshX7PUCfmn/7J/s9QH+pTr45+z1ALuGeAEv7PUCes8/HW/s9QCXu9Bhs+z1A3dzb+Hv7PUBGAhBsi/s9QOpw33aa+z1AkcxeHan7PUBSyWxjt/s9QL0btkzF+z1Akjy43NL7PUBu9sMW4Ps9QF4FAf7s+z1AfeFvlfn7PUC/YOzfBfw9QPKZL+AR/D1A9iHSmB38PUA=\",\"dtype\":\"float64\",\"shape\":[100]}},\"selected\":{\"id\":\"1089\"},\"selection_policy\":{\"id\":\"1088\"}},\"id\":\"1062\",\"type\":\"ColumnDataSource\"},{\"attributes\":{\"axis\":{\"id\":\"1017\"},\"dimension\":1,\"ticker\":null},\"id\":\"1020\",\"type\":\"Grid\"},{\"attributes\":{},\"id\":\"1018\",\"type\":\"BasicTicker\"},{\"attributes\":{\"label\":{\"value\":\"atp\"},\"renderers\":[{\"id\":\"1038\"}]},\"id\":\"1047\",\"type\":\"LegendItem\"},{\"attributes\":{\"axis\":{\"id\":\"1013\"},\"ticker\":null},\"id\":\"1016\",\"type\":\"Grid\"},{\"attributes\":{\"bottom_units\":\"screen\",\"fill_alpha\":0.5,\"fill_color\":\"lightgrey\",\"left_units\":\"screen\",\"level\":\"overlay\",\"line_alpha\":1.0,\"line_color\":\"black\",\"line_dash\":[4,4],\"line_width\":2,\"render_mode\":\"css\",\"right_units\":\"screen\",\"top_units\":\"screen\"},\"id\":\"1027\",\"type\":\"BoxAnnotation\"},{\"attributes\":{},\"id\":\"1075\",\"type\":\"UnionRenderers\"},{\"attributes\":{\"data_source\":{\"id\":\"1048\"},\"glyph\":{\"id\":\"1049\"},\"hover_glyph\":null,\"muted_glyph\":null,\"nonselection_glyph\":{\"id\":\"1050\"},\"selection_glyph\":null,\"view\":{\"id\":\"1052\"}},\"id\":\"1051\",\"type\":\"GlyphRenderer\"},{\"attributes\":{},\"id\":\"1009\",\"type\":\"LinearScale\"},{\"attributes\":{\"line_alpha\":0.1,\"line_color\":\"#d62628\",\"line_width\":2,\"x\":{\"field\":\"x\"},\"y\":{\"field\":\"y\"}},\"id\":\"1037\",\"type\":\"Line\"}],\"root_ids\":[\"1002\"]},\"title\":\"Bokeh Application\",\"version\":\"2.0.2\"}};\n",
       "  var render_items = [{\"docid\":\"4db8abe8-cf29-4826-a97d-6789b4f6a48b\",\"root_ids\":[\"1002\"],\"roots\":{\"1002\":\"95b2361f-02a4-4f1a-b299-d647f5eec4e2\"}}];\n",
       "  root.Bokeh.embed.embed_items_notebook(docs_json, render_items);\n",
       "\n",
       "  }\n",
       "  if (root.Bokeh !== undefined) {\n",
       "    embed_document(root);\n",
       "  } else {\n",
       "    var attempts = 0;\n",
       "    var timer = setInterval(function(root) {\n",
       "      if (root.Bokeh !== undefined) {\n",
       "        clearInterval(timer);\n",
       "        embed_document(root);\n",
       "      } else {\n",
       "        attempts++;\n",
       "        if (attempts > 100) {\n",
       "          clearInterval(timer);\n",
       "          console.log(\"Bokeh: ERROR: Unable to run BokehJS code because BokehJS library is missing\");\n",
       "        }\n",
       "      }\n",
       "    }, 10, root)\n",
       "  }\n",
       "})(window);"
      ],
      "application/vnd.bokehjs_exec.v0+json": ""
     },
     "metadata": {
      "application/vnd.bokehjs_exec.v0+json": {
       "id": "1002"
      }
     },
     "output_type": "display_data"
    }
   ],
   "source": [
    "filename = 'CRN_GOOD.xml'\n",
    "x,f,P,params_values,x_init = sbml_to_ode2(filename)\n",
    "#print(x_init)\n",
    "nouts = 1\n",
    "n = len(x)\n",
    "# Make ATP main output\n",
    "C = np.zeros((nouts, n), dtype = int)\n",
    "C[0][1] = 1 \n",
    "C = C.tolist()\n",
    "\n",
    "# Setup system\n",
    "timepoints_ode = np.linspace(0,75,75)\n",
    "\n",
    "error_tol = 100\n",
    "nstates_tol = 1\n",
    "\n",
    "sys = System(x, f, params = P, params_values = params_values, C = C, x_init = x_init)\n",
    "\n",
    "# sys_ode = get_ODE(sys, timepoints_ode)\n",
    "# sol = sys_ode.solve_system()\n",
    "\n",
    "species_to_remove = [5,6,9,10,13, 14,17,18,23,24,28,29,31,32,\n",
    "                 35,36,39,40,43,44,47,48,51,52,55,56,59,60,63,64]\n",
    "\n",
    "timescale_list = []\n",
    "for i in species_to_remove:\n",
    "    timescale_list.append(x[i])\n",
    "\n",
    "# Get appropriate list of complexes that are not in timescale_list\n",
    "# What you should pass into solve_timescale_separation\n",
    "update_timescale = []\n",
    "for item in x:\n",
    "    if item not in timescale_list:\n",
    "        update_timescale.append(item)    \n",
    "#update_timescale\n",
    "\n",
    "timepoints_ssm = np.linspace(0,75,100)\n",
    "timepoints_ode = np.linspace(0, 75, 100)\n",
    "sys_reduce = reduce(sys, timepoints_ode, timepoints_ssm)\n",
    "\n",
    "aa,bb = sys_reduce.solve_timescale_separation(update_timescale)\n",
    "print('the ATP error is:',sys_reduce.get_error_metric(aa))\n",
    "\n",
    "sys_ode = get_ODE(aa, timepoints_ode)\n",
    "sol = sys_ode.solve_system()\n",
    "print(type(sol))\n",
    "\n",
    "\n",
    "p = bokeh.plotting.figure(width = 475, height = 350, title = 'Reduced Model 5',\n",
    "                             x_axis_label = 'Time (hrs)',\n",
    "                             y_axis_label = 'Concentration (mM)')\n",
    "#colors = ['#66c2a5','#fc8d62','#8da0cb','#e78ac3']\n",
    "colors = colorcet.b_glasbey_category10\n",
    "#colors = colorcet.glasbey_warm\n",
    "p.line(timepoints_ode, sol[:,1],line_width = 2, legend_label = 'atp', color = colors[3])\n",
    "p.line(timepoints_ode, sol[:,2], line_width = 2,legend_label = 'glucose', color = colors[0])\n",
    "p.line(timepoints_ode, sol[:,34], line_width = 2,legend_label = 'isobutanol', color = colors[1])\n",
    "\n",
    "\n",
    "p.legend.click_policy = 'hide'\n",
    "bokeh.io.show(p)"
   ]
  },
  {
   "cell_type": "code",
   "execution_count": 4,
   "metadata": {},
   "outputs": [
    {
     "data": {
      "text/plain": [
       "38"
      ]
     },
     "execution_count": 4,
     "metadata": {},
     "output_type": "execute_result"
    }
   ],
   "source": [
    "len(sol[0])"
   ]
  },
  {
   "cell_type": "code",
   "execution_count": 5,
   "metadata": {},
   "outputs": [
    {
     "data": {
      "text/html": [
       "\n",
       "\n",
       "\n",
       "\n",
       "\n",
       "\n",
       "  <div class=\"bk-root\" id=\"30d48052-9d2f-46d9-a172-32ec82533a3f\" data-root-id=\"1162\"></div>\n"
      ]
     },
     "metadata": {},
     "output_type": "display_data"
    },
    {
     "data": {
      "application/javascript": [
       "(function(root) {\n",
       "  function embed_document(root) {\n",
       "    \n",
       "  var docs_json = {\"b019b28f-5fd7-43c8-a3bf-e1fcd3e018c9\":{\"roots\":{\"references\":[{\"attributes\":{\"below\":[{\"id\":\"1173\"}],\"center\":[{\"id\":\"1176\"},{\"id\":\"1180\"}],\"left\":[{\"id\":\"1177\"}],\"plot_height\":350,\"plot_width\":475,\"renderers\":[{\"id\":\"1198\"},{\"id\":\"1203\"},{\"id\":\"1208\"},{\"id\":\"1213\"},{\"id\":\"1218\"},{\"id\":\"1223\"},{\"id\":\"1228\"},{\"id\":\"1233\"},{\"id\":\"1238\"},{\"id\":\"1243\"},{\"id\":\"1248\"},{\"id\":\"1253\"},{\"id\":\"1258\"},{\"id\":\"1263\"},{\"id\":\"1268\"},{\"id\":\"1273\"},{\"id\":\"1278\"},{\"id\":\"1283\"},{\"id\":\"1288\"},{\"id\":\"1293\"},{\"id\":\"1298\"},{\"id\":\"1303\"},{\"id\":\"1308\"},{\"id\":\"1313\"},{\"id\":\"1318\"},{\"id\":\"1323\"},{\"id\":\"1328\"},{\"id\":\"1333\"},{\"id\":\"1338\"},{\"id\":\"1343\"},{\"id\":\"1348\"},{\"id\":\"1353\"},{\"id\":\"1358\"},{\"id\":\"1363\"},{\"id\":\"1368\"},{\"id\":\"1373\"},{\"id\":\"1378\"},{\"id\":\"1383\"}],\"title\":{\"id\":\"1163\"},\"toolbar\":{\"id\":\"1188\"},\"x_range\":{\"id\":\"1165\"},\"x_scale\":{\"id\":\"1169\"},\"y_range\":{\"id\":\"1167\"},\"y_scale\":{\"id\":\"1171\"}},\"id\":\"1162\",\"subtype\":\"Figure\",\"type\":\"Plot\"},{\"attributes\":{\"line_color\":\"#ff7e0e\",\"line_width\":2,\"x\":{\"field\":\"x\"},\"y\":{\"field\":\"y\"}},\"id\":\"1201\",\"type\":\"Line\"},{\"attributes\":{\"source\":{\"id\":\"1200\"}},\"id\":\"1204\",\"type\":\"CDSView\"},{\"attributes\":{\"source\":{\"id\":\"1270\"}},\"id\":\"1274\",\"type\":\"CDSView\"},{\"attributes\":{},\"id\":\"1404\",\"type\":\"Selection\"},{\"attributes\":{},\"id\":\"1178\",\"type\":\"BasicTicker\"},{\"attributes\":{\"source\":{\"id\":\"1290\"}},\"id\":\"1294\",\"type\":\"CDSView\"},{\"attributes\":{\"axis\":{\"id\":\"1177\"},\"dimension\":1,\"ticker\":null},\"id\":\"1180\",\"type\":\"Grid\"},{\"attributes\":{\"source\":{\"id\":\"1235\"}},\"id\":\"1239\",\"type\":\"CDSView\"},{\"attributes\":{},\"id\":\"1405\",\"type\":\"UnionRenderers\"},{\"attributes\":{\"line_color\":\"#1f77b3\",\"line_width\":2,\"x\":{\"field\":\"x\"},\"y\":{\"field\":\"y\"}},\"id\":\"1196\",\"type\":\"Line\"},{\"attributes\":{\"line_alpha\":0.1,\"line_color\":\"#3a0182\",\"line_width\":2,\"x\":{\"field\":\"x\"},\"y\":{\"field\":\"y\"}},\"id\":\"1247\",\"type\":\"Line\"},{\"attributes\":{\"data\":{\"x\":{\"__ndarray__\":\"AAAAAAAAAAA++OCDDz7oPz744IMPPvg/LrrooosuAkA++OCDDz4IQE422WSTTQ5ALrrooosuEkA22WSTTTYVQD744IMPPhhARhdddNFFG0BONtlkk00eQKuqqqqqqiBALrrooosuIkCyySabbLIjQDbZZJNNNiVAuuiiiy66JkA++OCDDz4oQMIHH3zwwSlARhdddNFFK0DKJptsssksQE422WSTTS5A0UUXXXTRL0CrqqqqqqowQG2yySabbDFALrrooosuMkDwwQcffPAyQLLJJptssjNAdNFFF110NEA22WSTTTY1QPjggw8++DVAuuiiiy66NkB88MEHH3w3QD744IMPPjhAAAAAAAAAOUDCBx988ME5QIQPPvjggzpARhdddNFFO0AIH3zwwQc8QMomm2yyyTxAjC666KKLPUBONtlkk00+QA8++OCDDz9A0UUXXXTRP0DKJptssklAQKuqqqqqqkBAjC666KILQUBtsskmm2xBQE422WSTzUFALrrooosuQkAPPvjgg49CQPDBBx988EJA0UUXXXRRQ0CyySabbLJDQJNNNtlkE0RAdNFFF110REBVVVVVVdVEQDbZZJNNNkVAF1100UWXRUD44IMPPvhFQNlkk002WUZAuuiiiy66RkCbbLLJJhtHQHzwwQcffEdAXXTRRRfdR0A++OCDDz5IQB988MEHn0hAAAAAAAAASUDhgw8++GBJQMIHH3zwwUlAo4suuugiSkCEDz744INKQGWTTTbZ5EpARhdddNFFS0Anm2yyyaZLQAgffPDBB0xA6aKLLrpoTEDKJptssslMQKuqqqqqKk1AjC666KKLTUBtsskmm+xNQE422WSTTU5ALrrooouuTkAPPvjggw9PQPDBBx98cE9A0UUXXXTRT0DZZJNNNhlQQMomm2yySVBAuuiiiy56UECrqqqqqqpQQJtssskm21BAjC666KILUUB88MEHHzxRQG2yySabbFFAXXTRRRedUUBONtlkk81RQD744IMP/lFALrrooosuUkAffPDBB19SQA8++OCDj1JAAAAAAADAUkA=\",\"dtype\":\"float64\",\"shape\":[100]},\"y\":{\"__ndarray__\":\"MzMzMzMzwz8vMzMzMzPDPzMzMzMzM8M/LzMzMzMzwz8jMzMzMzPDPx8zMzMzM8M/ITMzMzMzwz8fMzMzMzPDPx8zMzMzM8M/HzMzMzMzwz8fMzMzMzPDPx4zMzMzM8M/HzMzMzMzwz8fMzMzMzPDPx4zMzMzM8M/HjMzMzMzwz8eMzMzMzPDPx4zMzMzM8M/HjMzMzMzwz8eMzMzMzPDPx4zMzMzM8M/HjMzMzMzwz8eMzMzMzPDPx4zMzMzM8M/HjMzMzMzwz8eMzMzMzPDPx4zMzMzM8M/HjMzMzMzwz8eMzMzMzPDPx4zMzMzM8M/HjMzMzMzwz8eMzMzMzPDPx4zMzMzM8M/HjMzMzMzwz8eMzMzMzPDPx4zMzMzM8M/HjMzMzMzwz8eMzMzMzPDPx4zMzMzM8M/HjMzMzMzwz8eMzMzMzPDPx4zMzMzM8M/HjMzMzMzwz8eMzMzMzPDPx4zMzMzM8M/HjMzMzMzwz8eMzMzMzPDPx4zMzMzM8M/HjMzMzMzwz8eMzMzMzPDPx4zMzMzM8M/HjMzMzMzwz8eMzMzMzPDPx4zMzMzM8M/HjMzMzMzwz8eMzMzMzPDPx4zMzMzM8M/HjMzMzMzwz8eMzMzMzPDPx4zMzMzM8M/HjMzMzMzwz8eMzMzMzPDPx4zMzMzM8M/HjMzMzMzwz8eMzMzMzPDPx4zMzMzM8M/HjMzMzMzwz8eMzMzMzPDPx4zMzMzM8M/HjMzMzMzwz8eMzMzMzPDPx4zMzMzM8M/HjMzMzMzwz8eMzMzMzPDPx4zMzMzM8M/HjMzMzMzwz8eMzMzMzPDPx4zMzMzM8M/HjMzMzMzwz8eMzMzMzPDPx4zMzMzM8M/HjMzMzMzwz8eMzMzMzPDPx4zMzMzM8M/HjMzMzMzwz8eMzMzMzPDPx4zMzMzM8M/HjMzMzMzwz8eMzMzMzPDPx4zMzMzM8M/HjMzMzMzwz8eMzMzMzPDPx4zMzMzM8M/HjMzMzMzwz8eMzMzMzPDPx4zMzMzM8M/HjMzMzMzwz8eMzMzMzPDPx4zMzMzM8M/HjMzMzMzwz8=\",\"dtype\":\"float64\",\"shape\":[100]}},\"selected\":{\"id\":\"1442\"},\"selection_policy\":{\"id\":\"1441\"}},\"id\":\"1290\",\"type\":\"ColumnDataSource\"},{\"attributes\":{},\"id\":\"1406\",\"type\":\"Selection\"},{\"attributes\":{\"data_source\":{\"id\":\"1235\"},\"glyph\":{\"id\":\"1236\"},\"hover_glyph\":null,\"muted_glyph\":null,\"nonselection_glyph\":{\"id\":\"1237\"},\"selection_glyph\":null,\"view\":{\"id\":\"1239\"}},\"id\":\"1238\",\"type\":\"GlyphRenderer\"},{\"attributes\":{\"data\":{\"x\":{\"__ndarray__\":\"AAAAAAAAAAA++OCDDz7oPz744IMPPvg/LrrooosuAkA++OCDDz4IQE422WSTTQ5ALrrooosuEkA22WSTTTYVQD744IMPPhhARhdddNFFG0BONtlkk00eQKuqqqqqqiBALrrooosuIkCyySabbLIjQDbZZJNNNiVAuuiiiy66JkA++OCDDz4oQMIHH3zwwSlARhdddNFFK0DKJptsssksQE422WSTTS5A0UUXXXTRL0CrqqqqqqowQG2yySabbDFALrrooosuMkDwwQcffPAyQLLJJptssjNAdNFFF110NEA22WSTTTY1QPjggw8++DVAuuiiiy66NkB88MEHH3w3QD744IMPPjhAAAAAAAAAOUDCBx988ME5QIQPPvjggzpARhdddNFFO0AIH3zwwQc8QMomm2yyyTxAjC666KKLPUBONtlkk00+QA8++OCDDz9A0UUXXXTRP0DKJptssklAQKuqqqqqqkBAjC666KILQUBtsskmm2xBQE422WSTzUFALrrooosuQkAPPvjgg49CQPDBBx988EJA0UUXXXRRQ0CyySabbLJDQJNNNtlkE0RAdNFFF110REBVVVVVVdVEQDbZZJNNNkVAF1100UWXRUD44IMPPvhFQNlkk002WUZAuuiiiy66RkCbbLLJJhtHQHzwwQcffEdAXXTRRRfdR0A++OCDDz5IQB988MEHn0hAAAAAAAAASUDhgw8++GBJQMIHH3zwwUlAo4suuugiSkCEDz744INKQGWTTTbZ5EpARhdddNFFS0Anm2yyyaZLQAgffPDBB0xA6aKLLrpoTEDKJptssslMQKuqqqqqKk1AjC666KKLTUBtsskmm+xNQE422WSTTU5ALrrooouuTkAPPvjggw9PQPDBBx98cE9A0UUXXXTRT0DZZJNNNhlQQMomm2yySVBAuuiiiy56UECrqqqqqqpQQJtssskm21BAjC666KILUUB88MEHHzxRQG2yySabbFFAXXTRRRedUUBONtlkk81RQD744IMP/lFALrrooosuUkAffPDBB19SQA8++OCDj1JAAAAAAADAUkA=\",\"dtype\":\"float64\",\"shape\":[100]},\"y\":{\"__ndarray__\":\"MzMzMzMzwz87MzMzMzPDPzczMzMzM8M/yjIzMzMzwz/KMjMzMzPDP8oyMzMzM8M/yjIzMzMzwz/IMjMzMzPDP8gyMzMzM8M/yDIzMzMzwz/IMjMzMzPDP8gyMzMzM8M/yDIzMzMzwz/IMjMzMzPDP8gyMzMzM8M/yDIzMzMzwz/IMjMzMzPDP8gyMzMzM8M/yDIzMzMzwz/IMjMzMzPDP8gyMzMzM8M/yDIzMzMzwz/IMjMzMzPDP8gyMzMzM8M/yDIzMzMzwz/IMjMzMzPDP8gyMzMzM8M/yDIzMzMzwz/IMjMzMzPDP8gyMzMzM8M/yDIzMzMzwz/IMjMzMzPDP8gyMzMzM8M/yDIzMzMzwz/IMjMzMzPDP8gyMzMzM8M/yDIzMzMzwz/IMjMzMzPDP8gyMzMzM8M/yDIzMzMzwz/IMjMzMzPDP8gyMzMzM8M/yDIzMzMzwz/IMjMzMzPDP8gyMzMzM8M/yDIzMzMzwz/IMjMzMzPDP8gyMzMzM8M/yDIzMzMzwz/IMjMzMzPDP8gyMzMzM8M/yDIzMzMzwz/IMjMzMzPDP8gyMzMzM8M/yDIzMzMzwz/IMjMzMzPDP8gyMzMzM8M/yDIzMzMzwz/IMjMzMzPDP8gyMzMzM8M/yDIzMzMzwz/IMjMzMzPDP8gyMzMzM8M/yDIzMzMzwz/IMjMzMzPDP8gyMzMzM8M/yDIzMzMzwz/IMjMzMzPDP8gyMzMzM8M/yDIzMzMzwz/IMjMzMzPDP8gyMzMzM8M/yDIzMzMzwz/IMjMzMzPDP8gyMzMzM8M/yDIzMzMzwz/IMjMzMzPDP8gyMzMzM8M/yDIzMzMzwz/IMjMzMzPDP8gyMzMzM8M/yDIzMzMzwz/IMjMzMzPDP8gyMzMzM8M/yDIzMzMzwz/IMjMzMzPDP8gyMzMzM8M/yDIzMzMzwz/IMjMzMzPDP8gyMzMzM8M/yDIzMzMzwz/IMjMzMzPDP8gyMzMzM8M/yDIzMzMzwz/IMjMzMzPDP8gyMzMzM8M/yDIzMzMzwz/IMjMzMzPDP8gyMzMzM8M/yDIzMzMzwz8=\",\"dtype\":\"float64\",\"shape\":[100]}},\"selected\":{\"id\":\"1414\"},\"selection_policy\":{\"id\":\"1413\"}},\"id\":\"1220\",\"type\":\"ColumnDataSource\"},{\"attributes\":{\"line_alpha\":0.1,\"line_color\":\"#16bdcf\",\"line_width\":2,\"x\":{\"field\":\"x\"},\"y\":{\"field\":\"y\"}},\"id\":\"1242\",\"type\":\"Line\"},{\"attributes\":{\"line_alpha\":0.1,\"line_color\":\"#6b6400\",\"line_width\":2,\"x\":{\"field\":\"x\"},\"y\":{\"field\":\"y\"}},\"id\":\"1287\",\"type\":\"Line\"},{\"attributes\":{\"source\":{\"id\":\"1300\"}},\"id\":\"1304\",\"type\":\"CDSView\"},{\"attributes\":{\"line_alpha\":0.1,\"line_color\":\"#7c0100\",\"line_width\":2,\"x\":{\"field\":\"x\"},\"y\":{\"field\":\"y\"}},\"id\":\"1292\",\"type\":\"Line\"},{\"attributes\":{\"data\":{\"x\":{\"__ndarray__\":\"AAAAAAAAAAA++OCDDz7oPz744IMPPvg/LrrooosuAkA++OCDDz4IQE422WSTTQ5ALrrooosuEkA22WSTTTYVQD744IMPPhhARhdddNFFG0BONtlkk00eQKuqqqqqqiBALrrooosuIkCyySabbLIjQDbZZJNNNiVAuuiiiy66JkA++OCDDz4oQMIHH3zwwSlARhdddNFFK0DKJptsssksQE422WSTTS5A0UUXXXTRL0CrqqqqqqowQG2yySabbDFALrrooosuMkDwwQcffPAyQLLJJptssjNAdNFFF110NEA22WSTTTY1QPjggw8++DVAuuiiiy66NkB88MEHH3w3QD744IMPPjhAAAAAAAAAOUDCBx988ME5QIQPPvjggzpARhdddNFFO0AIH3zwwQc8QMomm2yyyTxAjC666KKLPUBONtlkk00+QA8++OCDDz9A0UUXXXTRP0DKJptssklAQKuqqqqqqkBAjC666KILQUBtsskmm2xBQE422WSTzUFALrrooosuQkAPPvjgg49CQPDBBx988EJA0UUXXXRRQ0CyySabbLJDQJNNNtlkE0RAdNFFF110REBVVVVVVdVEQDbZZJNNNkVAF1100UWXRUD44IMPPvhFQNlkk002WUZAuuiiiy66RkCbbLLJJhtHQHzwwQcffEdAXXTRRRfdR0A++OCDDz5IQB988MEHn0hAAAAAAAAASUDhgw8++GBJQMIHH3zwwUlAo4suuugiSkCEDz744INKQGWTTTbZ5EpARhdddNFFS0Anm2yyyaZLQAgffPDBB0xA6aKLLrpoTEDKJptssslMQKuqqqqqKk1AjC666KKLTUBtsskmm+xNQE422WSTTU5ALrrooouuTkAPPvjggw9PQPDBBx98cE9A0UUXXXTRT0DZZJNNNhlQQMomm2yySVBAuuiiiy56UECrqqqqqqpQQJtssskm21BAjC666KILUUB88MEHHzxRQG2yySabbFFAXXTRRRedUUBONtlkk81RQD744IMP/lFALrrooosuUkAffPDBB19SQA8++OCDj1JAAAAAAADAUkA=\",\"dtype\":\"float64\",\"shape\":[100]},\"y\":{\"__ndarray__\":\"AAAAAAAAAACskp5t4z2wP1xdHWRjs80/cdLGA2LoDEBTuQlQg7QUQC5sAzT0hxZAQBCK9TYeFkCYq/UU9U4UQBJVSjU3hRFARj4q+ygJDEB51YahSgoEQG8c2xGPXvc/qMb/R5974j+qPBPn1J3EP5o2HUrCoas/gRQZvBjImT8vHhwFlNiNP0m3f3R0rYM/rHoKvvs7fD9/aaYIlHp1P501rhrBDXE/07SScg35az/05BmQkYdnPxDmQpJCMmQ/UW8aEIifYT+UMZy2hy1fP2foq3Jw5Vs/NXmYox00WT8v51ykEvZWPyleHWnUEVU/oU1tebB0Uz+xhWttqRBSP7Iv9i8a21A/sidquJKXTz+74fYci7hNP9Ej/ZrlDkw/3P9wLHCSSj9ULlv0hjxJPxCLbXu7B0g/1agS6pLvRj/vBGidU/BFP46cat7eBkU/5M7+I5MwRD/GnSDQNGtDP5aqPxnctEI/WX1LS+YLQj9kFi5A6m5BPz+IyNWu3EA/8TeIiCNUQD/iNUD9s6g/P35u+AICuT4/M18ZccDXPT9+mo1AqQM9P6I2zCGbOzw/riCol5R+Oz83YeO+r8s6P9tJwL8eIjo/vI3dyiiBOT8UDs6BJ+g4P92tLsCEVjg/zoBIurjLNz9OsVBLSEc3P42IxJLDyDY/ZUZZsMRPNj+zSRmo7ts1P2O0FIzsbDU/ul9ehXACNT/arvcuM5w0PxO6auzyOTQ/hry0UXPbMz+671upfIAzP8nVP4TbKDM/2Qw/TmDUMj/2Ntb03oIyPziCbZcuNDI/fstQPynoMT8iKb+dq54xPzNgmdGUVzE/8jGVMsYSMT/06cQiI9AwP1j7y+OQjzA/fpsEcPZQMD8EaWJXPBQwPyh+nT+Zsi8/91fiUCVALz8sS+0e9tAuP/5fXDTnZC4/vLNzPtb7LT94mp3lopUtPzQlSaguMi0/NIc8u1zRLD/tqC7qEXMsP+GZ1nk0Fyw/bTeBEKy9Kz90s/+gYWYrP9VgF04/ESs/XN8DXDC+Kj+dDn8bIW0qP6R+6dr+HSo/St6S1LfQKT8=\",\"dtype\":\"float64\",\"shape\":[100]}},\"selected\":{\"id\":\"1448\"},\"selection_policy\":{\"id\":\"1447\"}},\"id\":\"1305\",\"type\":\"ColumnDataSource\"},{\"attributes\":{},\"id\":\"1407\",\"type\":\"UnionRenderers\"},{\"attributes\":{\"data_source\":{\"id\":\"1285\"},\"glyph\":{\"id\":\"1286\"},\"hover_glyph\":null,\"muted_glyph\":null,\"nonselection_glyph\":{\"id\":\"1287\"},\"selection_glyph\":null,\"view\":{\"id\":\"1289\"}},\"id\":\"1288\",\"type\":\"GlyphRenderer\"},{\"attributes\":{},\"id\":\"1408\",\"type\":\"Selection\"},{\"attributes\":{\"source\":{\"id\":\"1265\"}},\"id\":\"1269\",\"type\":\"CDSView\"},{\"attributes\":{\"data\":{\"x\":{\"__ndarray__\":\"AAAAAAAAAAA++OCDDz7oPz744IMPPvg/LrrooosuAkA++OCDDz4IQE422WSTTQ5ALrrooosuEkA22WSTTTYVQD744IMPPhhARhdddNFFG0BONtlkk00eQKuqqqqqqiBALrrooosuIkCyySabbLIjQDbZZJNNNiVAuuiiiy66JkA++OCDDz4oQMIHH3zwwSlARhdddNFFK0DKJptsssksQE422WSTTS5A0UUXXXTRL0CrqqqqqqowQG2yySabbDFALrrooosuMkDwwQcffPAyQLLJJptssjNAdNFFF110NEA22WSTTTY1QPjggw8++DVAuuiiiy66NkB88MEHH3w3QD744IMPPjhAAAAAAAAAOUDCBx988ME5QIQPPvjggzpARhdddNFFO0AIH3zwwQc8QMomm2yyyTxAjC666KKLPUBONtlkk00+QA8++OCDDz9A0UUXXXTRP0DKJptssklAQKuqqqqqqkBAjC666KILQUBtsskmm2xBQE422WSTzUFALrrooosuQkAPPvjgg49CQPDBBx988EJA0UUXXXRRQ0CyySabbLJDQJNNNtlkE0RAdNFFF110REBVVVVVVdVEQDbZZJNNNkVAF1100UWXRUD44IMPPvhFQNlkk002WUZAuuiiiy66RkCbbLLJJhtHQHzwwQcffEdAXXTRRRfdR0A++OCDDz5IQB988MEHn0hAAAAAAAAASUDhgw8++GBJQMIHH3zwwUlAo4suuugiSkCEDz744INKQGWTTTbZ5EpARhdddNFFS0Anm2yyyaZLQAgffPDBB0xA6aKLLrpoTEDKJptssslMQKuqqqqqKk1AjC666KKLTUBtsskmm+xNQE422WSTTU5ALrrooouuTkAPPvjggw9PQPDBBx98cE9A0UUXXXTRT0DZZJNNNhlQQMomm2yySVBAuuiiiy56UECrqqqqqqpQQJtssskm21BAjC666KILUUB88MEHHzxRQG2yySabbFFAXXTRRRedUUBONtlkk81RQD744IMP/lFALrrooosuUkAffPDBB19SQA8++OCDj1JAAAAAAADAUkA=\",\"dtype\":\"float64\",\"shape\":[100]},\"y\":{\"__ndarray__\":\"MzMzMzMzwz8rMzMzMzPDP50zMzMzM8M/SjMzMzMzwz9zMzMzMzPDP2kzMzMzM8M/cDMzMzMzwz91MzMzMzPDP3UzMzMzM8M/czMzMzMzwz9cMzMzMzPDP+YyMzMzM8M/6jIzMzMzwz/sMjMzMzPDPywzMzMzM8M/vj8zMzMzwz+jPzMzMzPDP6M/MzMzM8M/oz8zMzMzwz+jPzMzMzPDP6M/MzMzM8M/oz8zMzMzwz+jPzMzMzPDP6M/MzMzM8M/oz8zMzMzwz+jPzMzMzPDP6M/MzMzM8M/oz8zMzMzwz+jPzMzMzPDP6M/MzMzM8M/oz8zMzMzwz+jPzMzMzPDP6M/MzMzM8M/oz8zMzMzwz+jPzMzMzPDP6M/MzMzM8M/oz8zMzMzwz+jPzMzMzPDP6M/MzMzM8M/oz8zMzMzwz+jPzMzMzPDP6M/MzMzM8M/oz8zMzMzwz+jPzMzMzPDP6M/MzMzM8M/oz8zMzMzwz+jPzMzMzPDP6M/MzMzM8M/oz8zMzMzwz+jPzMzMzPDP6M/MzMzM8M/oz8zMzMzwz+jPzMzMzPDP6M/MzMzM8M/oz8zMzMzwz+jPzMzMzPDP6M/MzMzM8M/oz8zMzMzwz+jPzMzMzPDP6M/MzMzM8M/oz8zMzMzwz+jPzMzMzPDP6M/MzMzM8M/oz8zMzMzwz+jPzMzMzPDP6M/MzMzM8M/oz8zMzMzwz+jPzMzMzPDP6M/MzMzM8M/oz8zMzMzwz+jPzMzMzPDP6M/MzMzM8M/oz8zMzMzwz+jPzMzMzPDP6M/MzMzM8M/oz8zMzMzwz+jPzMzMzPDP6M/MzMzM8M/oz8zMzMzwz+jPzMzMzPDP6M/MzMzM8M/oz8zMzMzwz+jPzMzMzPDP6M/MzMzM8M/oz8zMzMzwz+jPzMzMzPDP6M/MzMzM8M/oz8zMzMzwz+jPzMzMzPDP6M/MzMzM8M/oz8zMzMzwz+jPzMzMzPDP6M/MzMzM8M/oz8zMzMzwz+jPzMzMzPDP6M/MzMzM8M/oz8zMzMzwz+jPzMzMzPDP6M/MzMzM8M/oz8zMzMzwz8=\",\"dtype\":\"float64\",\"shape\":[100]}},\"selected\":{\"id\":\"1440\"},\"selection_policy\":{\"id\":\"1439\"}},\"id\":\"1285\",\"type\":\"ColumnDataSource\"},{\"attributes\":{},\"id\":\"1409\",\"type\":\"UnionRenderers\"},{\"attributes\":{\"data_source\":{\"id\":\"1240\"},\"glyph\":{\"id\":\"1241\"},\"hover_glyph\":null,\"muted_glyph\":null,\"nonselection_glyph\":{\"id\":\"1242\"},\"selection_glyph\":null,\"view\":{\"id\":\"1244\"}},\"id\":\"1243\",\"type\":\"GlyphRenderer\"},{\"attributes\":{},\"id\":\"1410\",\"type\":\"Selection\"},{\"attributes\":{\"line_alpha\":0.1,\"line_color\":\"#d8afa1\",\"line_width\":2,\"x\":{\"field\":\"x\"},\"y\":{\"field\":\"y\"}},\"id\":\"1272\",\"type\":\"Line\"},{\"attributes\":{},\"id\":\"1411\",\"type\":\"UnionRenderers\"},{\"attributes\":{\"data_source\":{\"id\":\"1280\"},\"glyph\":{\"id\":\"1281\"},\"hover_glyph\":null,\"muted_glyph\":null,\"nonselection_glyph\":{\"id\":\"1282\"},\"selection_glyph\":null,\"view\":{\"id\":\"1284\"}},\"id\":\"1283\",\"type\":\"GlyphRenderer\"},{\"attributes\":{\"data\":{\"x\":{\"__ndarray__\":\"AAAAAAAAAAA++OCDDz7oPz744IMPPvg/LrrooosuAkA++OCDDz4IQE422WSTTQ5ALrrooosuEkA22WSTTTYVQD744IMPPhhARhdddNFFG0BONtlkk00eQKuqqqqqqiBALrrooosuIkCyySabbLIjQDbZZJNNNiVAuuiiiy66JkA++OCDDz4oQMIHH3zwwSlARhdddNFFK0DKJptsssksQE422WSTTS5A0UUXXXTRL0CrqqqqqqowQG2yySabbDFALrrooosuMkDwwQcffPAyQLLJJptssjNAdNFFF110NEA22WSTTTY1QPjggw8++DVAuuiiiy66NkB88MEHH3w3QD744IMPPjhAAAAAAAAAOUDCBx988ME5QIQPPvjggzpARhdddNFFO0AIH3zwwQc8QMomm2yyyTxAjC666KKLPUBONtlkk00+QA8++OCDDz9A0UUXXXTRP0DKJptssklAQKuqqqqqqkBAjC666KILQUBtsskmm2xBQE422WSTzUFALrrooosuQkAPPvjgg49CQPDBBx988EJA0UUXXXRRQ0CyySabbLJDQJNNNtlkE0RAdNFFF110REBVVVVVVdVEQDbZZJNNNkVAF1100UWXRUD44IMPPvhFQNlkk002WUZAuuiiiy66RkCbbLLJJhtHQHzwwQcffEdAXXTRRRfdR0A++OCDDz5IQB988MEHn0hAAAAAAAAASUDhgw8++GBJQMIHH3zwwUlAo4suuugiSkCEDz744INKQGWTTTbZ5EpARhdddNFFS0Anm2yyyaZLQAgffPDBB0xA6aKLLrpoTEDKJptssslMQKuqqqqqKk1AjC666KKLTUBtsskmm+xNQE422WSTTU5ALrrooouuTkAPPvjggw9PQPDBBx98cE9A0UUXXXTRT0DZZJNNNhlQQMomm2yySVBAuuiiiy56UECrqqqqqqpQQJtssskm21BAjC666KILUUB88MEHHzxRQG2yySabbFFAXXTRRRedUUBONtlkk81RQD744IMP/lFALrrooosuUkAffPDBB19SQA8++OCDj1JAAAAAAADAUkA=\",\"dtype\":\"float64\",\"shape\":[100]},\"y\":{\"__ndarray__\":\"AAAAAAAAPkBQmmNRTbgDQA4a1Qxk6Ws/7DWw/0Tcnjviln/p8SmFuuqyk9IAJSG6MA3Za0g6vTlloK3Ept1vuWJWWix/H0q5tudXXZ67Jzm/OxRY9kYnucu7JTWblVo5dv+OIqkrBjnw5M7JnEBFOIYFocJF33s3Ko9f/vhuFbfqC33cFSmoNjZbIVWjUyE2/IJCcjBYobVTQ3GhzkWetQTMZ6yl+LW1cwI6yrXd0TVnfVqRfc+qNfyUbf80xWq1N5rHL8k1LTWSO0BD+3QAtYhXaNPWRMq0yuJtjyLGwDQnBGr+yuzEtKY3+LPu6KI0NAaI+WUoezRj/0qRXdJ4NIP/J8gZ6Gs0rKrRs/QxFrRS9cO7c7JBtKoVmZCyFwS0IqPu8aS08TPUwtI2+7Xvs2BVQ7T/ddSzgI5oo5n5tDNYoX+wpxvcM6M9RSVKCkczlLyZnAZgRrNhHHRNcJIBs0LP9/bgBuyynhumDa2wC7NkgvDWdV0EszDZnPIul9gyZNMSlfxuDbN0SEtZwVD0Mr4nPCbH7vmyAFMovtkxhrLitPOukF8LM58/tIm6wgmzAK705GgCgzJZZw4p0q4XM1TBz1/OhRuzwgwqm9QYAbPsfAAr818vM+YZRfhJDyKz/1hlBGBI9bJVFM5nxxrsstMXHnLx5NeyW7ydg5P9x7JA/0plLjq5srct5PV89Kuy8EvNI+kkoLJby9SRv3WTsoNfj0GimoiySLtGIyIYgLL3rW8sq251shGvXvsBlm2ydIUoGpxLZbIPb49rWl5fsoiNYJfnMVeyEdTj06CRUbIIs/8wjbNLsuOFwrolOkaypuwHb8S4QbL/Joa27nY8smbs1KD7uTeyDlthoI5fNLK8DApPjWIxslDl65zFVC2yDUDcS9RUKbIaOhght8Emssy1+WVnjCSypS2qM58hIrJlOpD2vAIgsuleTzY+aB2yBLJGokZCG7JKYhsphikZslMAP70xVhey24XLHHPDFbK7nqGOcmYUskpSrlPuNROycLtMsR0rErKK2O6Ba0ARssCUm2orcRCyrYwivO5yD7I=\",\"dtype\":\"float64\",\"shape\":[100]}},\"selected\":{\"id\":\"1408\"},\"selection_policy\":{\"id\":\"1407\"}},\"id\":\"1205\",\"type\":\"ColumnDataSource\"},{\"attributes\":{\"source\":{\"id\":\"1285\"}},\"id\":\"1289\",\"type\":\"CDSView\"},{\"attributes\":{},\"id\":\"1412\",\"type\":\"Selection\"},{\"attributes\":{\"data\":{\"x\":{\"__ndarray__\":\"AAAAAAAAAAA++OCDDz7oPz744IMPPvg/LrrooosuAkA++OCDDz4IQE422WSTTQ5ALrrooosuEkA22WSTTTYVQD744IMPPhhARhdddNFFG0BONtlkk00eQKuqqqqqqiBALrrooosuIkCyySabbLIjQDbZZJNNNiVAuuiiiy66JkA++OCDDz4oQMIHH3zwwSlARhdddNFFK0DKJptsssksQE422WSTTS5A0UUXXXTRL0CrqqqqqqowQG2yySabbDFALrrooosuMkDwwQcffPAyQLLJJptssjNAdNFFF110NEA22WSTTTY1QPjggw8++DVAuuiiiy66NkB88MEHH3w3QD744IMPPjhAAAAAAAAAOUDCBx988ME5QIQPPvjggzpARhdddNFFO0AIH3zwwQc8QMomm2yyyTxAjC666KKLPUBONtlkk00+QA8++OCDDz9A0UUXXXTRP0DKJptssklAQKuqqqqqqkBAjC666KILQUBtsskmm2xBQE422WSTzUFALrrooosuQkAPPvjgg49CQPDBBx988EJA0UUXXXRRQ0CyySabbLJDQJNNNtlkE0RAdNFFF110REBVVVVVVdVEQDbZZJNNNkVAF1100UWXRUD44IMPPvhFQNlkk002WUZAuuiiiy66RkCbbLLJJhtHQHzwwQcffEdAXXTRRRfdR0A++OCDDz5IQB988MEHn0hAAAAAAAAASUDhgw8++GBJQMIHH3zwwUlAo4suuugiSkCEDz744INKQGWTTTbZ5EpARhdddNFFS0Anm2yyyaZLQAgffPDBB0xA6aKLLrpoTEDKJptssslMQKuqqqqqKk1AjC666KKLTUBtsskmm+xNQE422WSTTU5ALrrooouuTkAPPvjggw9PQPDBBx98cE9A0UUXXXTRT0DZZJNNNhlQQMomm2yySVBAuuiiiy56UECrqqqqqqpQQJtssskm21BAjC666KILUUB88MEHHzxRQG2yySabbFFAXXTRRRedUUBONtlkk81RQD744IMP/lFALrrooosuUkAffPDBB19SQA8++OCDj1JAAAAAAADAUkA=\",\"dtype\":\"float64\",\"shape\":[100]},\"y\":{\"__ndarray__\":\"MzMzMzMzwz/GMzMzMzPDPyYtMzMzM8M/izAzMzMzwz/+MDMzMzPDPwIwMzMzM8M/9i8zMzMzwz+TLDMzMzPDPxYsMzMzM8M/9y4zMzMzwz+/WDMzMzPDP4VyMzMzM8M/IXEzMzMzwz8hcTMzMzPDPyFxMzMzM8M/IXEzMzMzwz8hcTMzMzPDPyFxMzMzM8M/IXEzMzMzwz8hcTMzMzPDPyFxMzMzM8M/IXEzMzMzwz8hcTMzMzPDPyFxMzMzM8M/IXEzMzMzwz8hcTMzMzPDPyFxMzMzM8M/IXEzMzMzwz8hcTMzMzPDPyFxMzMzM8M/IXEzMzMzwz8hcTMzMzPDPyFxMzMzM8M/IXEzMzMzwz8hcTMzMzPDPyFxMzMzM8M/IXEzMzMzwz8hcTMzMzPDPyFxMzMzM8M/IXEzMzMzwz8hcTMzMzPDPyFxMzMzM8M/IXEzMzMzwz8hcTMzMzPDPyFxMzMzM8M/IXEzMzMzwz8hcTMzMzPDPyFxMzMzM8M/IXEzMzMzwz8hcTMzMzPDPyFxMzMzM8M/IXEzMzMzwz8hcTMzMzPDPyFxMzMzM8M/IXEzMzMzwz8hcTMzMzPDPyFxMzMzM8M/IXEzMzMzwz8hcTMzMzPDPyFxMzMzM8M/IXEzMzMzwz8hcTMzMzPDPyFxMzMzM8M/IXEzMzMzwz8hcTMzMzPDPyFxMzMzM8M/IXEzMzMzwz8hcTMzMzPDPyFxMzMzM8M/IXEzMzMzwz8hcTMzMzPDPyFxMzMzM8M/IXEzMzMzwz8hcTMzMzPDPyFxMzMzM8M/IXEzMzMzwz8hcTMzMzPDPyFxMzMzM8M/IXEzMzMzwz8hcTMzMzPDPyFxMzMzM8M/IXEzMzMzwz8hcTMzMzPDPyFxMzMzM8M/IXEzMzMzwz8hcTMzMzPDPyFxMzMzM8M/IXEzMzMzwz8hcTMzMzPDPyFxMzMzM8M/IXEzMzMzwz8hcTMzMzPDPyFxMzMzM8M/IXEzMzMzwz8hcTMzMzPDPyFxMzMzM8M/IXEzMzMzwz8hcTMzMzPDPyFxMzMzM8M/IXEzMzMzwz8=\",\"dtype\":\"float64\",\"shape\":[100]}},\"selected\":{\"id\":\"1426\"},\"selection_policy\":{\"id\":\"1425\"}},\"id\":\"1250\",\"type\":\"ColumnDataSource\"},{\"attributes\":{\"line_color\":\"#3a0182\",\"line_width\":2,\"x\":{\"field\":\"x\"},\"y\":{\"field\":\"y\"}},\"id\":\"1246\",\"type\":\"Line\"},{\"attributes\":{\"data\":{\"x\":{\"__ndarray__\":\"AAAAAAAAAAA++OCDDz7oPz744IMPPvg/LrrooosuAkA++OCDDz4IQE422WSTTQ5ALrrooosuEkA22WSTTTYVQD744IMPPhhARhdddNFFG0BONtlkk00eQKuqqqqqqiBALrrooosuIkCyySabbLIjQDbZZJNNNiVAuuiiiy66JkA++OCDDz4oQMIHH3zwwSlARhdddNFFK0DKJptsssksQE422WSTTS5A0UUXXXTRL0CrqqqqqqowQG2yySabbDFALrrooosuMkDwwQcffPAyQLLJJptssjNAdNFFF110NEA22WSTTTY1QPjggw8++DVAuuiiiy66NkB88MEHH3w3QD744IMPPjhAAAAAAAAAOUDCBx988ME5QIQPPvjggzpARhdddNFFO0AIH3zwwQc8QMomm2yyyTxAjC666KKLPUBONtlkk00+QA8++OCDDz9A0UUXXXTRP0DKJptssklAQKuqqqqqqkBAjC666KILQUBtsskmm2xBQE422WSTzUFALrrooosuQkAPPvjgg49CQPDBBx988EJA0UUXXXRRQ0CyySabbLJDQJNNNtlkE0RAdNFFF110REBVVVVVVdVEQDbZZJNNNkVAF1100UWXRUD44IMPPvhFQNlkk002WUZAuuiiiy66RkCbbLLJJhtHQHzwwQcffEdAXXTRRRfdR0A++OCDDz5IQB988MEHn0hAAAAAAAAASUDhgw8++GBJQMIHH3zwwUlAo4suuugiSkCEDz744INKQGWTTTbZ5EpARhdddNFFS0Anm2yyyaZLQAgffPDBB0xA6aKLLrpoTEDKJptssslMQKuqqqqqKk1AjC666KKLTUBtsskmm+xNQE422WSTTU5ALrrooouuTkAPPvjggw9PQPDBBx98cE9A0UUXXXTRT0DZZJNNNhlQQMomm2yySVBAuuiiiy56UECrqqqqqqpQQJtssskm21BAjC666KILUUB88MEHHzxRQG2yySabbFFAXXTRRRedUUBONtlkk81RQD744IMP/lFALrrooosuUkAffPDBB19SQA8++OCDj1JAAAAAAADAUkA=\",\"dtype\":\"float64\",\"shape\":[100]},\"y\":{\"__ndarray__\":\"AAAAAAAAAAACoa8ex6bBP6dMAUdrFuQ/c4Ggi4PEDEBuiXAXXqkRQB8u/mNFbw9AOo4llJvZCUAff0oQQXUEQCIxy+5tHf8/Idv9ywpE9j+Ni7Zxo5fsP76RTnxMNd0/8V/GNkBCwD/iTFIMvf96Pz1jbVru6vE+johOhWWxcD5p7v4fsR1bPuCo7Rwa/ks+suypyz5cQD5E4MWTm940PlacSdqfYyw+lrZRPMZHJD6GmIUVjR0ePhjTxT0AERc+GltjCPcfEj64FIG/XxkNPtX0oa4xyQc+ilf3oUa/Az7b0vFXxZ0APsMftUZnS/w9OFIUbVpX+D1gEIAxPSL1PbaBX0YNgPI9dodFv4xQ8D0xdNKccvfsPReFQvva3uk9OVSeTIY75z0CrY8o5/fkPeZkrN0WA+M9C/TPFLNP4T3WidK0D6bfPV7GZFvlCN09BszMPd252j0e2OT8da3YPa0IeQcy2tY9m1pDay841T2g6xzC18DTPeHe40iibtI9Ox0Nk+E80T1JEVfGnCfQPaNhAU/gVs49qjQMp+eKzD1NyRAET+bKPcr8tgzDZMk9CaNk94ICyD0p20g6SrzGPd7aE849j8U9hNSUntp4xD3O2huo7HbDPcQqt0mJh8I9BwF/5veowT3w78JKidnAPSneBoEtGMA90npw0+rGvj1LRuvQtnS9PdzQkePNN7w9ixUKbHEOuz1Qj6BwD/e5PWAkSko98Lg9Gq0ZMrP4tz3SXApHSA+3PZ0UzDzvMrY9oTYnR7NitT2DGoOAtZ20PTX6YZ4q47M9l3Pd6lgysz2Ar4OCloqyPSXbwLVH67E9NlnZnt1TsT0vmHn31MOwPXVO9920OrA9KFSSWBxwrz3Sy31+83auPfX/e3Yzia09EQsdlSemrD1YvqLwOc2rPfa9k8K0/ao95RBtm1g3qj0R8S7N53ipPToQDQH2w6g9KkZYo4QUqD3RlT/gCm2nPeeKjcxEzKY9fRbcoPMxpj3tInkUmZ2lPZXSbK4oD6U9cpU8awOGpD0oSmbsDAKkPVq/JcwJg6M95QVh0aoIoz0=\",\"dtype\":\"float64\",\"shape\":[100]}},\"selected\":{\"id\":\"1438\"},\"selection_policy\":{\"id\":\"1437\"}},\"id\":\"1280\",\"type\":\"ColumnDataSource\"},{\"attributes\":{},\"id\":\"1413\",\"type\":\"UnionRenderers\"},{\"attributes\":{\"source\":{\"id\":\"1260\"}},\"id\":\"1264\",\"type\":\"CDSView\"},{\"attributes\":{},\"id\":\"1414\",\"type\":\"Selection\"},{\"attributes\":{\"source\":{\"id\":\"1280\"}},\"id\":\"1284\",\"type\":\"CDSView\"},{\"attributes\":{\"line_alpha\":0.1,\"line_color\":\"#ffff9a\",\"line_width\":2,\"x\":{\"field\":\"x\"},\"y\":{\"field\":\"y\"}},\"id\":\"1302\",\"type\":\"Line\"},{\"attributes\":{},\"id\":\"1415\",\"type\":\"UnionRenderers\"},{\"attributes\":{\"data_source\":{\"id\":\"1275\"},\"glyph\":{\"id\":\"1276\"},\"hover_glyph\":null,\"muted_glyph\":null,\"nonselection_glyph\":{\"id\":\"1277\"},\"selection_glyph\":null,\"view\":{\"id\":\"1279\"}},\"id\":\"1278\",\"type\":\"GlyphRenderer\"},{\"attributes\":{\"line_alpha\":0.1,\"line_color\":\"#0fffa8\",\"line_width\":2,\"x\":{\"field\":\"x\"},\"y\":{\"field\":\"y\"}},\"id\":\"1257\",\"type\":\"Line\"},{\"attributes\":{\"line_color\":\"#564964\",\"line_width\":2,\"x\":{\"field\":\"x\"},\"y\":{\"field\":\"y\"}},\"id\":\"1306\",\"type\":\"Line\"},{\"attributes\":{\"line_alpha\":0.1,\"line_color\":\"#e277c1\",\"line_width\":2,\"x\":{\"field\":\"x\"},\"y\":{\"field\":\"y\"}},\"id\":\"1227\",\"type\":\"Line\"},{\"attributes\":{},\"id\":\"1416\",\"type\":\"Selection\"},{\"attributes\":{\"active_drag\":\"auto\",\"active_inspect\":\"auto\",\"active_multi\":null,\"active_scroll\":\"auto\",\"active_tap\":\"auto\",\"tools\":[{\"id\":\"1181\"},{\"id\":\"1182\"},{\"id\":\"1183\"},{\"id\":\"1184\"},{\"id\":\"1185\"},{\"id\":\"1186\"}]},\"id\":\"1188\",\"type\":\"Toolbar\"},{\"attributes\":{\"line_alpha\":0.1,\"line_color\":\"#ff7e0e\",\"line_width\":2,\"x\":{\"field\":\"x\"},\"y\":{\"field\":\"y\"}},\"id\":\"1202\",\"type\":\"Line\"},{\"attributes\":{\"source\":{\"id\":\"1240\"}},\"id\":\"1244\",\"type\":\"CDSView\"},{\"attributes\":{\"line_color\":\"#004d52\",\"line_width\":2,\"x\":{\"field\":\"x\"},\"y\":{\"field\":\"y\"}},\"id\":\"1281\",\"type\":\"Line\"},{\"attributes\":{\"line_color\":\"#8c564b\",\"line_width\":2,\"x\":{\"field\":\"x\"},\"y\":{\"field\":\"y\"}},\"id\":\"1221\",\"type\":\"Line\"},{\"attributes\":{\"line_color\":\"#018267\",\"line_width\":2,\"x\":{\"field\":\"x\"},\"y\":{\"field\":\"y\"}},\"id\":\"1321\",\"type\":\"Line\"},{\"attributes\":{},\"id\":\"1417\",\"type\":\"UnionRenderers\"},{\"attributes\":{\"data\":{\"x\":{\"__ndarray__\":\"AAAAAAAAAAA++OCDDz7oPz744IMPPvg/LrrooosuAkA++OCDDz4IQE422WSTTQ5ALrrooosuEkA22WSTTTYVQD744IMPPhhARhdddNFFG0BONtlkk00eQKuqqqqqqiBALrrooosuIkCyySabbLIjQDbZZJNNNiVAuuiiiy66JkA++OCDDz4oQMIHH3zwwSlARhdddNFFK0DKJptsssksQE422WSTTS5A0UUXXXTRL0CrqqqqqqowQG2yySabbDFALrrooosuMkDwwQcffPAyQLLJJptssjNAdNFFF110NEA22WSTTTY1QPjggw8++DVAuuiiiy66NkB88MEHH3w3QD744IMPPjhAAAAAAAAAOUDCBx988ME5QIQPPvjggzpARhdddNFFO0AIH3zwwQc8QMomm2yyyTxAjC666KKLPUBONtlkk00+QA8++OCDDz9A0UUXXXTRP0DKJptssklAQKuqqqqqqkBAjC666KILQUBtsskmm2xBQE422WSTzUFALrrooosuQkAPPvjgg49CQPDBBx988EJA0UUXXXRRQ0CyySabbLJDQJNNNtlkE0RAdNFFF110REBVVVVVVdVEQDbZZJNNNkVAF1100UWXRUD44IMPPvhFQNlkk002WUZAuuiiiy66RkCbbLLJJhtHQHzwwQcffEdAXXTRRRfdR0A++OCDDz5IQB988MEHn0hAAAAAAAAASUDhgw8++GBJQMIHH3zwwUlAo4suuugiSkCEDz744INKQGWTTTbZ5EpARhdddNFFS0Anm2yyyaZLQAgffPDBB0xA6aKLLrpoTEDKJptssslMQKuqqqqqKk1AjC666KKLTUBtsskmm+xNQE422WSTTU5ALrrooouuTkAPPvjggw9PQPDBBx98cE9A0UUXXXTRT0DZZJNNNhlQQMomm2yySVBAuuiiiy56UECrqqqqqqpQQJtssskm21BAjC666KILUUB88MEHHzxRQG2yySabbFFAXXTRRRedUUBONtlkk81RQD744IMP/lFALrrooosuUkAffPDBB19SQA8++OCDj1JAAAAAAADAUkA=\",\"dtype\":\"float64\",\"shape\":[100]},\"y\":{\"__ndarray__\":\"MzMzMzMzwz84MzMzMzPDP1wzMzMzM8M/aDQzMzMzwz/XMjMzMzPDP488MzMzM8M/1EgzMzMzwz/+KDMzMzPDP44vMzMzM8M/Hy8zMzMzwz+FLzMzMzPDP8wxMzMzM8M/9zQzMzMzwz/3NDMzMzPDP/c0MzMzM8M/9zQzMzMzwz/3NDMzMzPDP/c0MzMzM8M/9zQzMzMzwz/3NDMzMzPDP/c0MzMzM8M/9zQzMzMzwz/3NDMzMzPDP/c0MzMzM8M/9zQzMzMzwz/3NDMzMzPDP/c0MzMzM8M/9zQzMzMzwz/3NDMzMzPDP/c0MzMzM8M/9zQzMzMzwz/3NDMzMzPDP/c0MzMzM8M/9zQzMzMzwz/3NDMzMzPDP/c0MzMzM8M/9zQzMzMzwz/3NDMzMzPDP/c0MzMzM8M/9zQzMzMzwz/3NDMzMzPDP/c0MzMzM8M/9zQzMzMzwz/3NDMzMzPDP/c0MzMzM8M/9zQzMzMzwz/3NDMzMzPDP/c0MzMzM8M/9zQzMzMzwz/3NDMzMzPDP/c0MzMzM8M/9zQzMzMzwz/3NDMzMzPDP/c0MzMzM8M/9zQzMzMzwz/3NDMzMzPDP/c0MzMzM8M/9zQzMzMzwz/3NDMzMzPDP/c0MzMzM8M/9zQzMzMzwz/3NDMzMzPDP/c0MzMzM8M/9zQzMzMzwz/3NDMzMzPDP/c0MzMzM8M/9zQzMzMzwz/3NDMzMzPDP/c0MzMzM8M/9zQzMzMzwz/3NDMzMzPDP/c0MzMzM8M/9zQzMzMzwz/3NDMzMzPDP/c0MzMzM8M/9zQzMzMzwz/3NDMzMzPDP/c0MzMzM8M/9zQzMzMzwz/3NDMzMzPDP/c0MzMzM8M/9zQzMzMzwz/3NDMzMzPDP/c0MzMzM8M/9zQzMzMzwz/3NDMzMzPDP/c0MzMzM8M/9zQzMzMzwz/3NDMzMzPDP/c0MzMzM8M/9zQzMzMzwz/3NDMzMzPDP/c0MzMzM8M/9zQzMzMzwz/3NDMzMzPDP/c0MzMzM8M/9zQzMzMzwz/3NDMzMzPDP/c0MzMzM8M/9zQzMzMzwz8=\",\"dtype\":\"float64\",\"shape\":[100]}},\"selected\":{\"id\":\"1434\"},\"selection_policy\":{\"id\":\"1433\"}},\"id\":\"1270\",\"type\":\"ColumnDataSource\"},{\"attributes\":{\"data_source\":{\"id\":\"1215\"},\"glyph\":{\"id\":\"1216\"},\"hover_glyph\":null,\"muted_glyph\":null,\"nonselection_glyph\":{\"id\":\"1217\"},\"selection_glyph\":null,\"view\":{\"id\":\"1219\"}},\"id\":\"1218\",\"type\":\"GlyphRenderer\"},{\"attributes\":{\"data\":{\"x\":{\"__ndarray__\":\"AAAAAAAAAAA++OCDDz7oPz744IMPPvg/LrrooosuAkA++OCDDz4IQE422WSTTQ5ALrrooosuEkA22WSTTTYVQD744IMPPhhARhdddNFFG0BONtlkk00eQKuqqqqqqiBALrrooosuIkCyySabbLIjQDbZZJNNNiVAuuiiiy66JkA++OCDDz4oQMIHH3zwwSlARhdddNFFK0DKJptsssksQE422WSTTS5A0UUXXXTRL0CrqqqqqqowQG2yySabbDFALrrooosuMkDwwQcffPAyQLLJJptssjNAdNFFF110NEA22WSTTTY1QPjggw8++DVAuuiiiy66NkB88MEHH3w3QD744IMPPjhAAAAAAAAAOUDCBx988ME5QIQPPvjggzpARhdddNFFO0AIH3zwwQc8QMomm2yyyTxAjC666KKLPUBONtlkk00+QA8++OCDDz9A0UUXXXTRP0DKJptssklAQKuqqqqqqkBAjC666KILQUBtsskmm2xBQE422WSTzUFALrrooosuQkAPPvjgg49CQPDBBx988EJA0UUXXXRRQ0CyySabbLJDQJNNNtlkE0RAdNFFF110REBVVVVVVdVEQDbZZJNNNkVAF1100UWXRUD44IMPPvhFQNlkk002WUZAuuiiiy66RkCbbLLJJhtHQHzwwQcffEdAXXTRRRfdR0A++OCDDz5IQB988MEHn0hAAAAAAAAASUDhgw8++GBJQMIHH3zwwUlAo4suuugiSkCEDz744INKQGWTTTbZ5EpARhdddNFFS0Anm2yyyaZLQAgffPDBB0xA6aKLLrpoTEDKJptssslMQKuqqqqqKk1AjC666KKLTUBtsskmm+xNQE422WSTTU5ALrrooouuTkAPPvjggw9PQPDBBx98cE9A0UUXXXTRT0DZZJNNNhlQQMomm2yySVBAuuiiiy56UECrqqqqqqpQQJtssskm21BAjC666KILUUB88MEHHzxRQG2yySabbFFAXXTRRRedUUBONtlkk81RQD744IMP/lFALrrooosuUkAffPDBB19SQA8++OCDj1JAAAAAAADAUkA=\",\"dtype\":\"float64\",\"shape\":[100]},\"y\":{\"__ndarray__\":\"AAAAAAAAPkATqBCehB/iP2POcJBR3SxA7fzMxtjKO0B3+/5CRuA7QJkAbsuo4jtAYfE0/y7hO0AA7lbuW907QBOVK1Wo1jtARNxVqQLLO0BlugXorbQ7QO9+dOnmgDtAHXjSK1rrOkAtwyp8Gn05QO1AK5qigTdAQ8K//M57NUAkVNTjqpIzQBIsWJN9zzFA22tKW6YzMECngEoshHstQOU/UYGh1ipAh0Vsyc5yKEByEkCND0omQD1N6KCbViRA44L8gwyTIkAxPDkLcfogQIZ/xlKkEB9ATKuOBF9xHEC3+UpO7w8aQLwBOc785RdA8WQYM+XtFUBJApE2qCIUQJR10vXUfxJAIHKw+3gBEUDhM08IIkgPQOmkrSb3yAxAdmYIP9p/CkDBJRqHy2cIQFUCB2RQfAZAdUltwmO5BECH3Vl7aBsDQAMzpl0dnwFAL4/9w5JBAEB8cfDeQgD+P976ZM7FsPs/8bSfZlSQ+T+7Oh/j+5r3P/4R76UlzfU/reVZD44j9D/6xpf7O5vyP6soR1V5MfE/TOyeMJnH7z/eqVvw5V/tP01VlUG2J+s/Zfo5PEEb6T+uDgtnDzfnP1e130Pzd+U/N1zipALb4z/QD7mnkF3iP5mCNDoo/eA/eJ3vDg9v3z/su84jNhXdP6OlnFX06No/lCArEcbm2D/0iunibgvXP9fN/3v0U9U/vRekEpi90z9hWg4g0kXSP7e5ksNN6tA/TUrF4shRzz9ZgRqtNP/MP1ZKwxI22co/t/ZAhGzcyD8vtw/ouQXHP2eOIGo9UsU/MQUYvE6/wz/AsquaeUrCP3yQfq958cA/853Np21kvz8w3MJTgxW9P+2Xju2g8ro/yxHTb3j4uD8IPLDl+yO3P4/DPnxYcrU/NfwO/vHgsz/K/ueiXm2yP/k2CD1jFbE/jKNNKt+trz9w1oO4NmCtPy/R6wdFPqs/p6xZ4MdEqT+9voWHuXCnP+FSekNPv6U/Yf3Z2/MtpD/mnDT+Q7qiP2r7WJwJYqE/WBW0TDkjoD9hWQhl3fedP46YjOXT1Js/YSaAUhnamT8=\",\"dtype\":\"float64\",\"shape\":[100]}},\"selected\":{\"id\":\"1406\"},\"selection_policy\":{\"id\":\"1405\"}},\"id\":\"1200\",\"type\":\"ColumnDataSource\"},{\"attributes\":{\"line_alpha\":0.1,\"line_color\":\"#6026ff\",\"line_width\":2,\"x\":{\"field\":\"x\"},\"y\":{\"field\":\"y\"}},\"id\":\"1297\",\"type\":\"Line\"},{\"attributes\":{},\"id\":\"1418\",\"type\":\"Selection\"},{\"attributes\":{\"data_source\":{\"id\":\"1225\"},\"glyph\":{\"id\":\"1226\"},\"hover_glyph\":null,\"muted_glyph\":null,\"nonselection_glyph\":{\"id\":\"1227\"},\"selection_glyph\":null,\"view\":{\"id\":\"1229\"}},\"id\":\"1228\",\"type\":\"GlyphRenderer\"},{\"attributes\":{\"source\":{\"id\":\"1245\"}},\"id\":\"1249\",\"type\":\"CDSView\"},{\"attributes\":{},\"id\":\"1419\",\"type\":\"UnionRenderers\"},{\"attributes\":{\"source\":{\"id\":\"1215\"}},\"id\":\"1219\",\"type\":\"CDSView\"},{\"attributes\":{\"line_alpha\":0.1,\"line_color\":\"#5d003f\",\"line_width\":2,\"x\":{\"field\":\"x\"},\"y\":{\"field\":\"y\"}},\"id\":\"1262\",\"type\":\"Line\"},{\"attributes\":{},\"id\":\"1420\",\"type\":\"Selection\"},{\"attributes\":{},\"id\":\"1421\",\"type\":\"UnionRenderers\"},{\"attributes\":{\"source\":{\"id\":\"1220\"}},\"id\":\"1224\",\"type\":\"CDSView\"},{\"attributes\":{\"line_color\":\"#9367bc\",\"line_width\":2,\"x\":{\"field\":\"x\"},\"y\":{\"field\":\"y\"}},\"id\":\"1216\",\"type\":\"Line\"},{\"attributes\":{\"data\":{\"x\":{\"__ndarray__\":\"AAAAAAAAAAA++OCDDz7oPz744IMPPvg/LrrooosuAkA++OCDDz4IQE422WSTTQ5ALrrooosuEkA22WSTTTYVQD744IMPPhhARhdddNFFG0BONtlkk00eQKuqqqqqqiBALrrooosuIkCyySabbLIjQDbZZJNNNiVAuuiiiy66JkA++OCDDz4oQMIHH3zwwSlARhdddNFFK0DKJptsssksQE422WSTTS5A0UUXXXTRL0CrqqqqqqowQG2yySabbDFALrrooosuMkDwwQcffPAyQLLJJptssjNAdNFFF110NEA22WSTTTY1QPjggw8++DVAuuiiiy66NkB88MEHH3w3QD744IMPPjhAAAAAAAAAOUDCBx988ME5QIQPPvjggzpARhdddNFFO0AIH3zwwQc8QMomm2yyyTxAjC666KKLPUBONtlkk00+QA8++OCDDz9A0UUXXXTRP0DKJptssklAQKuqqqqqqkBAjC666KILQUBtsskmm2xBQE422WSTzUFALrrooosuQkAPPvjgg49CQPDBBx988EJA0UUXXXRRQ0CyySabbLJDQJNNNtlkE0RAdNFFF110REBVVVVVVdVEQDbZZJNNNkVAF1100UWXRUD44IMPPvhFQNlkk002WUZAuuiiiy66RkCbbLLJJhtHQHzwwQcffEdAXXTRRRfdR0A++OCDDz5IQB988MEHn0hAAAAAAAAASUDhgw8++GBJQMIHH3zwwUlAo4suuugiSkCEDz744INKQGWTTTbZ5EpARhdddNFFS0Anm2yyyaZLQAgffPDBB0xA6aKLLrpoTEDKJptssslMQKuqqqqqKk1AjC666KKLTUBtsskmm+xNQE422WSTTU5ALrrooouuTkAPPvjggw9PQPDBBx98cE9A0UUXXXTRT0DZZJNNNhlQQMomm2yySVBAuuiiiy56UECrqqqqqqpQQJtssskm21BAjC666KILUUB88MEHHzxRQG2yySabbFFAXXTRRRedUUBONtlkk81RQD744IMP/lFALrrooosuUkAffPDBB19SQA8++OCDj1JAAAAAAADAUkA=\",\"dtype\":\"float64\",\"shape\":[100]},\"y\":{\"__ndarray__\":\"MzMzMzMzwz9MMzMzMzPDP+EzMzMzM8M/9jMzMzMzwz/3MzMzMzPDP/4zMzMzM8M/AzQzMzMzwz8ONDMzMzPDPw80MzMzM8M/EjQzMzMzwz8SNDMzMzPDPxI0MzMzM8M/EjQzMzMzwz8SNDMzMzPDPxI0MzMzM8M/EjQzMzMzwz8SNDMzMzPDPxI0MzMzM8M/EjQzMzMzwz8SNDMzMzPDPxI0MzMzM8M/EjQzMzMzwz8SNDMzMzPDPxI0MzMzM8M/EjQzMzMzwz8SNDMzMzPDPxI0MzMzM8M/EjQzMzMzwz8SNDMzMzPDPxI0MzMzM8M/EjQzMzMzwz8SNDMzMzPDPxI0MzMzM8M/EjQzMzMzwz8SNDMzMzPDPxI0MzMzM8M/EjQzMzMzwz8SNDMzMzPDPxI0MzMzM8M/EjQzMzMzwz8SNDMzMzPDPxI0MzMzM8M/EjQzMzMzwz8SNDMzMzPDPxI0MzMzM8M/EjQzMzMzwz8SNDMzMzPDPxI0MzMzM8M/EjQzMzMzwz8SNDMzMzPDPxI0MzMzM8M/EjQzMzMzwz8SNDMzMzPDPxI0MzMzM8M/EjQzMzMzwz8SNDMzMzPDPxI0MzMzM8M/EjQzMzMzwz8SNDMzMzPDPxI0MzMzM8M/EjQzMzMzwz8SNDMzMzPDPxI0MzMzM8M/EjQzMzMzwz8SNDMzMzPDPxI0MzMzM8M/EjQzMzMzwz8SNDMzMzPDPxI0MzMzM8M/EjQzMzMzwz8SNDMzMzPDPxI0MzMzM8M/EjQzMzMzwz8SNDMzMzPDPxI0MzMzM8M/EjQzMzMzwz8SNDMzMzPDPxI0MzMzM8M/EjQzMzMzwz8SNDMzMzPDPxI0MzMzM8M/EjQzMzMzwz8SNDMzMzPDPxI0MzMzM8M/EjQzMzMzwz8SNDMzMzPDPxI0MzMzM8M/EjQzMzMzwz8SNDMzMzPDPxI0MzMzM8M/EjQzMzMzwz8SNDMzMzPDPxI0MzMzM8M/EjQzMzMzwz8SNDMzMzPDPxI0MzMzM8M/EjQzMzMzwz8SNDMzMzPDPxI0MzMzM8M/EjQzMzMzwz8=\",\"dtype\":\"float64\",\"shape\":[100]}},\"selected\":{\"id\":\"1422\"},\"selection_policy\":{\"id\":\"1421\"}},\"id\":\"1240\",\"type\":\"ColumnDataSource\"},{\"attributes\":{},\"id\":\"1422\",\"type\":\"Selection\"},{\"attributes\":{\"source\":{\"id\":\"1225\"}},\"id\":\"1229\",\"type\":\"CDSView\"},{\"attributes\":{\"data\":{\"x\":{\"__ndarray__\":\"AAAAAAAAAAA++OCDDz7oPz744IMPPvg/LrrooosuAkA++OCDDz4IQE422WSTTQ5ALrrooosuEkA22WSTTTYVQD744IMPPhhARhdddNFFG0BONtlkk00eQKuqqqqqqiBALrrooosuIkCyySabbLIjQDbZZJNNNiVAuuiiiy66JkA++OCDDz4oQMIHH3zwwSlARhdddNFFK0DKJptsssksQE422WSTTS5A0UUXXXTRL0CrqqqqqqowQG2yySabbDFALrrooosuMkDwwQcffPAyQLLJJptssjNAdNFFF110NEA22WSTTTY1QPjggw8++DVAuuiiiy66NkB88MEHH3w3QD744IMPPjhAAAAAAAAAOUDCBx988ME5QIQPPvjggzpARhdddNFFO0AIH3zwwQc8QMomm2yyyTxAjC666KKLPUBONtlkk00+QA8++OCDDz9A0UUXXXTRP0DKJptssklAQKuqqqqqqkBAjC666KILQUBtsskmm2xBQE422WSTzUFALrrooosuQkAPPvjgg49CQPDBBx988EJA0UUXXXRRQ0CyySabbLJDQJNNNtlkE0RAdNFFF110REBVVVVVVdVEQDbZZJNNNkVAF1100UWXRUD44IMPPvhFQNlkk002WUZAuuiiiy66RkCbbLLJJhtHQHzwwQcffEdAXXTRRRfdR0A++OCDDz5IQB988MEHn0hAAAAAAAAASUDhgw8++GBJQMIHH3zwwUlAo4suuugiSkCEDz744INKQGWTTTbZ5EpARhdddNFFS0Anm2yyyaZLQAgffPDBB0xA6aKLLrpoTEDKJptssslMQKuqqqqqKk1AjC666KKLTUBtsskmm+xNQE422WSTTU5ALrrooouuTkAPPvjggw9PQPDBBx98cE9A0UUXXXTRT0DZZJNNNhlQQMomm2yySVBAuuiiiy56UECrqqqqqqpQQJtssskm21BAjC666KILUUB88MEHHzxRQG2yySabbFFAXXTRRRedUUBONtlkk81RQD744IMP/lFALrrooosuUkAffPDBB19SQA8++OCDj1JAAAAAAADAUkA=\",\"dtype\":\"float64\",\"shape\":[100]},\"y\":{\"__ndarray__\":\"AAAAAAAAAADS0twi/VGRP/vQoNF0Lro/RTjaSK7gtD+KPARuL72ZPzq5UKLvCIE/9ViRHz2VaD++MKujXHRSP18mj/Sedzw/sv/B1duhJj/fI46UiccSP7d3LA13mQA/op18tu0J8D7tR5MRXFbhPry50sB8GtU++/0jTj9+zD71XTIwRtTEPiiLSOe1IcA+UMiPK0kMuj7Op+SLy661PkhFOPHmeLI+H0bZYVMGsD6zwTzOuDWsPkz99XPFIKk++EOKWFmbpj5/2cyR1IKkPhhVWz63vqI+FnzJvTY9oT7/dWwdO+KfPh36imLYoJ0+zxhw2uCmmz7G8ptwTeiZPrXkQfuXW5g+ITw+6x75lj4USo7ls7qVPjVu1rhIm5Q+hMv2fbGWkz5rNU7cdamSPqJYjDGt0JE+9fWsG+MJkT729uPzAVOQPlo+Z5+DVI8+amHzEDYcjj56Tl65dvqMPiTmm+n67Is+bwyKK8Pxij5P0NbzDweKPukrbNxXK4k+O4V3CUBdiD7kG8F0lZuHPvUQX2pH5YY+YgpJ/WI5hj4O+ewdD5eFPs7mMkCJ/YQ+C4TclSJshD6XnRikPeKDPtYkijBMX4M+d/YLes3igj4ajx2uTGyCPk1XsZNf+4E+5f5gY6WPgT5vhwLCxSiBPoXyK99vxoA++cjurFlogD5VdfwoPw6APqbSebLDb38+lJXvURDKfj6U1sX8+Sp+PlstApoekn0+rcTeYSP/fD4t5JY5tHF8PrN/kSCD6Xs+X5oqoUdmez7fQaRUvud6PoTiqHaobXo+560EhMv3eT7btPnf8IV5PsYbIoLlF3k+rtworXmteD6KtDOtgEZ4Pm705pvQ4nc+oMZPKUKCdz4ID7RpsCR3PtfdF6j4yXY+B5nfPPpxdj6K5e1nlhx2Pn5C3C2wyXU+EJwZOCx5dT4Fcbi38Cp1Pl8ckkrl3nQ+5Oef4vKUdD49kHawA010PkU6PgsDB3Q+g+O2X93Ccz6BTo8ggIBzPg4LjbDZP3M+ndmKV9kAcz6WUI4yb8NyPvKjZSiMh3I+ci0o3CFNcj4=\",\"dtype\":\"float64\",\"shape\":[100]}},\"selected\":{\"id\":\"1424\"},\"selection_policy\":{\"id\":\"1423\"}},\"id\":\"1245\",\"type\":\"ColumnDataSource\"},{\"attributes\":{},\"id\":\"1423\",\"type\":\"UnionRenderers\"},{\"attributes\":{\"data_source\":{\"id\":\"1210\"},\"glyph\":{\"id\":\"1211\"},\"hover_glyph\":null,\"muted_glyph\":null,\"nonselection_glyph\":{\"id\":\"1212\"},\"selection_glyph\":null,\"view\":{\"id\":\"1214\"}},\"id\":\"1213\",\"type\":\"GlyphRenderer\"},{\"attributes\":{\"data\":{\"x\":{\"__ndarray__\":\"AAAAAAAAAAA++OCDDz7oPz744IMPPvg/LrrooosuAkA++OCDDz4IQE422WSTTQ5ALrrooosuEkA22WSTTTYVQD744IMPPhhARhdddNFFG0BONtlkk00eQKuqqqqqqiBALrrooosuIkCyySabbLIjQDbZZJNNNiVAuuiiiy66JkA++OCDDz4oQMIHH3zwwSlARhdddNFFK0DKJptsssksQE422WSTTS5A0UUXXXTRL0CrqqqqqqowQG2yySabbDFALrrooosuMkDwwQcffPAyQLLJJptssjNAdNFFF110NEA22WSTTTY1QPjggw8++DVAuuiiiy66NkB88MEHH3w3QD744IMPPjhAAAAAAAAAOUDCBx988ME5QIQPPvjggzpARhdddNFFO0AIH3zwwQc8QMomm2yyyTxAjC666KKLPUBONtlkk00+QA8++OCDDz9A0UUXXXTRP0DKJptssklAQKuqqqqqqkBAjC666KILQUBtsskmm2xBQE422WSTzUFALrrooosuQkAPPvjgg49CQPDBBx988EJA0UUXXXRRQ0CyySabbLJDQJNNNtlkE0RAdNFFF110REBVVVVVVdVEQDbZZJNNNkVAF1100UWXRUD44IMPPvhFQNlkk002WUZAuuiiiy66RkCbbLLJJhtHQHzwwQcffEdAXXTRRRfdR0A++OCDDz5IQB988MEHn0hAAAAAAAAASUDhgw8++GBJQMIHH3zwwUlAo4suuugiSkCEDz744INKQGWTTTbZ5EpARhdddNFFS0Anm2yyyaZLQAgffPDBB0xA6aKLLrpoTEDKJptssslMQKuqqqqqKk1AjC666KKLTUBtsskmm+xNQE422WSTTU5ALrrooouuTkAPPvjggw9PQPDBBx98cE9A0UUXXXTRT0DZZJNNNhlQQMomm2yySVBAuuiiiy56UECrqqqqqqpQQJtssskm21BAjC666KILUUB88MEHHzxRQG2yySabbFFAXXTRRRedUUBONtlkk81RQD744IMP/lFALrrooosuUkAffPDBB19SQA8++OCDj1JAAAAAAADAUkA=\",\"dtype\":\"float64\",\"shape\":[100]},\"y\":{\"__ndarray__\":\"AAAAAAAAAACrELMwq3U7QM2xVpL6MytAhj5EkVp1zD8jb9fP67zBP7j+ytFji8A/ZvgSyDlIwT/QzvkPyDHDP8u4qTKti8Y/C5YabbRezD89fwJcuMTTPz9pTyRoW+A/wlIpua6G8T/2XxbPkzUEQHU52S/cCBJApk4b61IgGkCRYgrWe+IgQCyfaVvXaCRACerdPn+gJ0D2Y3i+O4wqQGtYVZkOMS1A0s4FIs+UL0BfpBxyvd4wQNu8X2xt2DFAVoYcCSu6MkDbdGUQb4YzQFT7/yl1PzRAqnSDmD3nNEBY/KgekX81QDkpyNkFCjZAN7+CXgSINkAAqOS7zPo2QD3fBiZ7YzdAtqxzNAzDN0B5cq6xYBo4QAVP8/VAajhAqxjZ3F+zOEAbRPxYXfY4QA33QrfIMzlASHfskyJsOUA+/bWN3p85QAuaOsZkzzlAq+saLBP7OUAPbMCiPiM6QJ5P3fQzSDpAFNBVvThqOkAnhakkjIk6QHH5OJFnpjpAqLzFOf/AOkBBv5Ktgtk6QCTfN0sd8DpAX3JvqPYEO0AIQq3vMhg7QLsyDTTzKTtAVl/VulU6O0AXHv09dkk7QPXsxyduVztAA3wWyFRkO0ALAY2EP3A7QMYpdgRCeztAMs1LVW6FO0BKraQR1Y47QPgIIH6FlztAEUsQqI2fO0D2el2A+qY7QPNfc+/XrTtAcmO57zC0O0CjqJmeD7o7QPB28059vztA6xhfmoLEO0As5ZxvJ8k7QPvb0h9zzTtAtASpa2zRO0Cld+SOGdU7QFu6x0qA2DtAXqGR76XbO0Cc+3Flj947QIpLxTRB4TtAjLuOjb/jO0AAwUVODuY7QOVDIAox6DtA9gbpDivqO0BSqV5q/+s7QE0NIu+w7TtAjvM5OULvO0DVhUSytfA7QPSnRZUN8jtAErdV8kvzO0DWjZKxcvQ7QP7rGJeD9TtAphqVQ4D2O0BByg46avc7QO5ctN9C+DtAxUkLfwv5O0C8dKdJxfk7QAk7fFpx+jtAhC8stxD7O0CezdRRpPs7QDj5Uwot/DtAil3Nr6v8O0A=\",\"dtype\":\"float64\",\"shape\":[100]}},\"selected\":{\"id\":\"1412\"},\"selection_policy\":{\"id\":\"1411\"}},\"id\":\"1215\",\"type\":\"ColumnDataSource\"},{\"attributes\":{\"line_color\":\"#004201\",\"line_width\":2,\"x\":{\"field\":\"x\"},\"y\":{\"field\":\"y\"}},\"id\":\"1251\",\"type\":\"Line\"},{\"attributes\":{},\"id\":\"1424\",\"type\":\"Selection\"},{\"attributes\":{\"data_source\":{\"id\":\"1260\"},\"glyph\":{\"id\":\"1261\"},\"hover_glyph\":null,\"muted_glyph\":null,\"nonselection_glyph\":{\"id\":\"1262\"},\"selection_glyph\":null,\"view\":{\"id\":\"1264\"}},\"id\":\"1263\",\"type\":\"GlyphRenderer\"},{\"attributes\":{},\"id\":\"1425\",\"type\":\"UnionRenderers\"},{\"attributes\":{\"data_source\":{\"id\":\"1245\"},\"glyph\":{\"id\":\"1246\"},\"hover_glyph\":null,\"muted_glyph\":null,\"nonselection_glyph\":{\"id\":\"1247\"},\"selection_glyph\":null,\"view\":{\"id\":\"1249\"}},\"id\":\"1248\",\"type\":\"GlyphRenderer\"},{\"attributes\":{\"line_color\":\"#bcbcff\",\"line_width\":2,\"x\":{\"field\":\"x\"},\"y\":{\"field\":\"y\"}},\"id\":\"1266\",\"type\":\"Line\"},{\"attributes\":{},\"id\":\"1171\",\"type\":\"LinearScale\"},{\"attributes\":{\"data\":{\"x\":{\"__ndarray__\":\"AAAAAAAAAAA++OCDDz7oPz744IMPPvg/LrrooosuAkA++OCDDz4IQE422WSTTQ5ALrrooosuEkA22WSTTTYVQD744IMPPhhARhdddNFFG0BONtlkk00eQKuqqqqqqiBALrrooosuIkCyySabbLIjQDbZZJNNNiVAuuiiiy66JkA++OCDDz4oQMIHH3zwwSlARhdddNFFK0DKJptsssksQE422WSTTS5A0UUXXXTRL0CrqqqqqqowQG2yySabbDFALrrooosuMkDwwQcffPAyQLLJJptssjNAdNFFF110NEA22WSTTTY1QPjggw8++DVAuuiiiy66NkB88MEHH3w3QD744IMPPjhAAAAAAAAAOUDCBx988ME5QIQPPvjggzpARhdddNFFO0AIH3zwwQc8QMomm2yyyTxAjC666KKLPUBONtlkk00+QA8++OCDDz9A0UUXXXTRP0DKJptssklAQKuqqqqqqkBAjC666KILQUBtsskmm2xBQE422WSTzUFALrrooosuQkAPPvjgg49CQPDBBx988EJA0UUXXXRRQ0CyySabbLJDQJNNNtlkE0RAdNFFF110REBVVVVVVdVEQDbZZJNNNkVAF1100UWXRUD44IMPPvhFQNlkk002WUZAuuiiiy66RkCbbLLJJhtHQHzwwQcffEdAXXTRRRfdR0A++OCDDz5IQB988MEHn0hAAAAAAAAASUDhgw8++GBJQMIHH3zwwUlAo4suuugiSkCEDz744INKQGWTTTbZ5EpARhdddNFFS0Anm2yyyaZLQAgffPDBB0xA6aKLLrpoTEDKJptssslMQKuqqqqqKk1AjC666KKLTUBtsskmm+xNQE422WSTTU5ALrrooouuTkAPPvjggw9PQPDBBx98cE9A0UUXXXTRT0DZZJNNNhlQQMomm2yySVBAuuiiiy56UECrqqqqqqpQQJtssskm21BAjC666KILUUB88MEHHzxRQG2yySabbFFAXXTRRRedUUBONtlkk81RQD744IMP/lFALrrooosuUkAffPDBB19SQA8++OCDj1JAAAAAAADAUkA=\",\"dtype\":\"float64\",\"shape\":[100]},\"y\":{\"__ndarray__\":\"AAAAAAAAAAC0p9fb4+T9PynrG1L79AhA4cQWU/Cy8T8U9OKDwRjrP1B4sBgQjec/drgSlPmK5T8sIvzfax7kP0kRyLPD/OI/ZKszeAYE4j895JLI7xThP4YECyrx0d8/qCS3H+jP2j/4lVr58VbQPzGRnlg0I8I/Lbi+DfB2uD9Ba9uoB3SyP6gv6lZvoK0/n7L1nOG+qD/Q1ul00j6lP5HZpnHXnKI/H0hRqnuPoD/5/KDf79SdP8T9xhcKI5s/4XkH8nXjmD8lrwba9fuWP54Blx3CWZU/VLzu8g7vkz9rpmnKf7GSP2yypKslmZE/6L06RNOfkD+bOWfMTYGPP5i3L9dv740/ZH7daLeDjD8J4GMM9TiLP/FRM3PfCoo/bVb8reP1iD+cDYvQAPeHPx47vNerC4c/wMpo97kxhj/qS9t5T2eFP6/KtR7SqoQ/adqION76gz/9TUvSPVaDP8YBUb3hu4I/G8zshtsqgj8PbRvFWKKBP3iRLP6eIYE/iGykcgiogD+scSBEATWAP5+euzIKkH8/ueI6UTrBfj/NjrsKvfx9P2qq1lPRQX0/FqhNfsiPfD+MfvMVBOZ7PyAxAwj0Q3s/x7IjCxWpej/Tp5w77xR6PxdAzuUUh3k/cVoseCH/eD96JmCTuHx4PzR1DzqF/3c/enLOFjmHdz/a2dXQixN3P/AxzZE6pHY/9nLMagc5dj+1MeDvuNF1PwpDPc8ZbnU/gNKlcPgNdT8a2i6mJrF0P/2fBGV5V3Q/csm1f8gAdD96yXhp7qxzP9gcwQDIW3M/LtkaXzQNcz/UyCasFMFyP62lpfRLd3I/kiG5Bb8vcj9ZVNNLVOpxP4JCWrTzpnE/eLKrkYZlcT/bi4GB9yVxP6vDoFUy6HA/h0aL/iOscD+MGel3unFwP82herbkOHA/xdl6l5IBcD9kna6iaZdvPziLJct5Lm8/pGKFJzrIbj+fdV6ckGRuP7iH9VlkA24/0NlAyp2kbT8n+USAJkhtP07PSCDp7Ww/pMcpVNGVbD9wOha6yz9sP0YBKNjF62s/f5WuDa6Zaz8=\",\"dtype\":\"float64\",\"shape\":[100]}},\"selected\":{\"id\":\"1430\"},\"selection_policy\":{\"id\":\"1429\"}},\"id\":\"1260\",\"type\":\"ColumnDataSource\"},{\"attributes\":{},\"id\":\"1426\",\"type\":\"Selection\"},{\"attributes\":{\"data_source\":{\"id\":\"1290\"},\"glyph\":{\"id\":\"1291\"},\"hover_glyph\":null,\"muted_glyph\":null,\"nonselection_glyph\":{\"id\":\"1292\"},\"selection_glyph\":null,\"view\":{\"id\":\"1294\"}},\"id\":\"1293\",\"type\":\"GlyphRenderer\"},{\"attributes\":{\"source\":{\"id\":\"1250\"}},\"id\":\"1254\",\"type\":\"CDSView\"},{\"attributes\":{\"line_color\":\"#6b6400\",\"line_width\":2,\"x\":{\"field\":\"x\"},\"y\":{\"field\":\"y\"}},\"id\":\"1286\",\"type\":\"Line\"},{\"attributes\":{},\"id\":\"1427\",\"type\":\"UnionRenderers\"},{\"attributes\":{\"data_source\":{\"id\":\"1200\"},\"glyph\":{\"id\":\"1201\"},\"hover_glyph\":null,\"muted_glyph\":null,\"nonselection_glyph\":{\"id\":\"1202\"},\"selection_glyph\":null,\"view\":{\"id\":\"1204\"}},\"id\":\"1203\",\"type\":\"GlyphRenderer\"},{\"attributes\":{\"data_source\":{\"id\":\"1250\"},\"glyph\":{\"id\":\"1251\"},\"hover_glyph\":null,\"muted_glyph\":null,\"nonselection_glyph\":{\"id\":\"1252\"},\"selection_glyph\":null,\"view\":{\"id\":\"1254\"}},\"id\":\"1253\",\"type\":\"GlyphRenderer\"},{\"attributes\":{\"data_source\":{\"id\":\"1265\"},\"glyph\":{\"id\":\"1266\"},\"hover_glyph\":null,\"muted_glyph\":null,\"nonselection_glyph\":{\"id\":\"1267\"},\"selection_glyph\":null,\"view\":{\"id\":\"1269\"}},\"id\":\"1268\",\"type\":\"GlyphRenderer\"},{\"attributes\":{\"line_color\":\"#2ba02b\",\"line_width\":2,\"x\":{\"field\":\"x\"},\"y\":{\"field\":\"y\"}},\"id\":\"1206\",\"type\":\"Line\"},{\"attributes\":{\"data\":{\"x\":{\"__ndarray__\":\"AAAAAAAAAAA++OCDDz7oPz744IMPPvg/LrrooosuAkA++OCDDz4IQE422WSTTQ5ALrrooosuEkA22WSTTTYVQD744IMPPhhARhdddNFFG0BONtlkk00eQKuqqqqqqiBALrrooosuIkCyySabbLIjQDbZZJNNNiVAuuiiiy66JkA++OCDDz4oQMIHH3zwwSlARhdddNFFK0DKJptsssksQE422WSTTS5A0UUXXXTRL0CrqqqqqqowQG2yySabbDFALrrooosuMkDwwQcffPAyQLLJJptssjNAdNFFF110NEA22WSTTTY1QPjggw8++DVAuuiiiy66NkB88MEHH3w3QD744IMPPjhAAAAAAAAAOUDCBx988ME5QIQPPvjggzpARhdddNFFO0AIH3zwwQc8QMomm2yyyTxAjC666KKLPUBONtlkk00+QA8++OCDDz9A0UUXXXTRP0DKJptssklAQKuqqqqqqkBAjC666KILQUBtsskmm2xBQE422WSTzUFALrrooosuQkAPPvjgg49CQPDBBx988EJA0UUXXXRRQ0CyySabbLJDQJNNNtlkE0RAdNFFF110REBVVVVVVdVEQDbZZJNNNkVAF1100UWXRUD44IMPPvhFQNlkk002WUZAuuiiiy66RkCbbLLJJhtHQHzwwQcffEdAXXTRRRfdR0A++OCDDz5IQB988MEHn0hAAAAAAAAASUDhgw8++GBJQMIHH3zwwUlAo4suuugiSkCEDz744INKQGWTTTbZ5EpARhdddNFFS0Anm2yyyaZLQAgffPDBB0xA6aKLLrpoTEDKJptssslMQKuqqqqqKk1AjC666KKLTUBtsskmm+xNQE422WSTTU5ALrrooouuTkAPPvjggw9PQPDBBx98cE9A0UUXXXTRT0DZZJNNNhlQQMomm2yySVBAuuiiiy56UECrqqqqqqpQQJtssskm21BAjC666KILUUB88MEHHzxRQG2yySabbFFAXXTRRRedUUBONtlkk81RQD744IMP/lFALrrooosuUkAffPDBB19SQA8++OCDj1JAAAAAAADAUkA=\",\"dtype\":\"float64\",\"shape\":[100]},\"y\":{\"__ndarray__\":\"AAAAAAAAPkDyBOvCUC03QBpBijgXIyBAbKMc6cWpGUANFjk2Ul8jQOugjlDH5ihATx7nUJIjLUCuiMhA54MwQNUaQ16IdjJAEJ+Uq7FxNEAQ0R/x+nA2QFY+Xp6VZzhA8o25tiU1OkBeYVZ47Zo7QKlH12JDfTxAGZ5E51H/PEBaGKHoO0k9QLLY4+jndD1AzXjIs2OQPUDdlnOo36I9QBopQrUOsD1AgTkwzeu5PUCUeplslcE9QBIJIvC2xz1A0fklcbzMPUCKR+lk7dA9QK82fvJ61D1AdeTGEIjXPUCkr+9TLto9QJRpSOaA3D1A5Rt+b47ePUCAc4tXYuA9QMdFOqIF4j1AkKoSiH/jPUDV+cfj1eQ9QKNBe4EN5j1A6dpKWSrnPUDCpkW7L+g9QHyX93Ag6T1A6DgH1/7pPUD8mTzxzOo9QJh6TXqM6z1A569g8D7sPUAXDiif5ew9QMfIwaeB7T1AQ7CFBxTuPUDR0Umdne49QPbp8i0f7z1ARNkDaJnvPUDx8cLmDPA9QKgQ0jR68D1Af6RTzuHwPUCHi8QiRPE9QCNTk5ah8T1Ah1pyhPrxPUCyTX8+T/I9QGe4QQ+g8j1A6hqGOu3yPUBUchz+NvM9QH6PfZJ98z1AQvtaK8HzPUCigx74AfQ9QLazWCRA9D1ADVAj2Hv0PUCZwns4tfQ9QPS5g2fs9D1AnJLShCH1PUB/N6qtVPU9QMIULv2F9T1AcbCVjLX1PUCCFVZz4/U9QDMBR8cP9j1AoTzHnDr2PUAdO9wGZPY9QHfdTReM9j1ARW6/3rL2PUBw+sZs2PY9QLOIAtD89j1AXxsrFiD3PUC+xCVMQvc9QB5SE35j9z1Alblet4P3PUDhSsoCo/c9QGyue2rB9z1AatgG+N73PUDUF3i0+/c9QIVZXagX+D1Ay6zO2zL4PUDbFnZWTfg9QJPLlh9n+D1Ae9QTPoD4PUBA4HW4mPg9QGXQ8ZSw+D1AHlJt2cf4PUBrHYOL3vg9QA4BibD0+D1ALt2STQr5PUBZB3dnH/k9QLVw0QI0+T1AsGIHJEj5PUA=\",\"dtype\":\"float64\",\"shape\":[100]}},\"selected\":{\"id\":\"1428\"},\"selection_policy\":{\"id\":\"1427\"}},\"id\":\"1255\",\"type\":\"ColumnDataSource\"},{\"attributes\":{},\"id\":\"1428\",\"type\":\"Selection\"},{\"attributes\":{\"data_source\":{\"id\":\"1205\"},\"glyph\":{\"id\":\"1206\"},\"hover_glyph\":null,\"muted_glyph\":null,\"nonselection_glyph\":{\"id\":\"1207\"},\"selection_glyph\":null,\"view\":{\"id\":\"1209\"}},\"id\":\"1208\",\"type\":\"GlyphRenderer\"},{\"attributes\":{\"line_color\":\"#7e7e7e\",\"line_width\":2,\"x\":{\"field\":\"x\"},\"y\":{\"field\":\"y\"}},\"id\":\"1231\",\"type\":\"Line\"},{\"attributes\":{\"line_alpha\":0.1,\"line_color\":\"#004d52\",\"line_width\":2,\"x\":{\"field\":\"x\"},\"y\":{\"field\":\"y\"}},\"id\":\"1282\",\"type\":\"Line\"},{\"attributes\":{\"line_alpha\":0.1,\"line_color\":\"#004201\",\"line_width\":2,\"x\":{\"field\":\"x\"},\"y\":{\"field\":\"y\"}},\"id\":\"1252\",\"type\":\"Line\"},{\"attributes\":{},\"id\":\"1429\",\"type\":\"UnionRenderers\"},{\"attributes\":{\"line_color\":\"#b80080\",\"line_width\":2,\"x\":{\"field\":\"x\"},\"y\":{\"field\":\"y\"}},\"id\":\"1276\",\"type\":\"Line\"},{\"attributes\":{\"data\":{\"x\":{\"__ndarray__\":\"AAAAAAAAAAA++OCDDz7oPz744IMPPvg/LrrooosuAkA++OCDDz4IQE422WSTTQ5ALrrooosuEkA22WSTTTYVQD744IMPPhhARhdddNFFG0BONtlkk00eQKuqqqqqqiBALrrooosuIkCyySabbLIjQDbZZJNNNiVAuuiiiy66JkA++OCDDz4oQMIHH3zwwSlARhdddNFFK0DKJptsssksQE422WSTTS5A0UUXXXTRL0CrqqqqqqowQG2yySabbDFALrrooosuMkDwwQcffPAyQLLJJptssjNAdNFFF110NEA22WSTTTY1QPjggw8++DVAuuiiiy66NkB88MEHH3w3QD744IMPPjhAAAAAAAAAOUDCBx988ME5QIQPPvjggzpARhdddNFFO0AIH3zwwQc8QMomm2yyyTxAjC666KKLPUBONtlkk00+QA8++OCDDz9A0UUXXXTRP0DKJptssklAQKuqqqqqqkBAjC666KILQUBtsskmm2xBQE422WSTzUFALrrooosuQkAPPvjgg49CQPDBBx988EJA0UUXXXRRQ0CyySabbLJDQJNNNtlkE0RAdNFFF110REBVVVVVVdVEQDbZZJNNNkVAF1100UWXRUD44IMPPvhFQNlkk002WUZAuuiiiy66RkCbbLLJJhtHQHzwwQcffEdAXXTRRRfdR0A++OCDDz5IQB988MEHn0hAAAAAAAAASUDhgw8++GBJQMIHH3zwwUlAo4suuugiSkCEDz744INKQGWTTTbZ5EpARhdddNFFS0Anm2yyyaZLQAgffPDBB0xA6aKLLrpoTEDKJptssslMQKuqqqqqKk1AjC666KKLTUBtsskmm+xNQE422WSTTU5ALrrooouuTkAPPvjggw9PQPDBBx98cE9A0UUXXXTRT0DZZJNNNhlQQMomm2yySVBAuuiiiy56UECrqqqqqqpQQJtssskm21BAjC666KILUUB88MEHHzxRQG2yySabbFFAXXTRRRedUUBONtlkk81RQD744IMP/lFALrrooosuUkAffPDBB19SQA8++OCDj1JAAAAAAADAUkA=\",\"dtype\":\"float64\",\"shape\":[100]},\"y\":{\"__ndarray__\":\"AAAAAAAAAAB4gLt5A7crQJqaDAjIQ8s/wIiTSjG0jD9AAX6f5s9kP89uV5zzRD4/8l83cVEGFj9NT0S0/wfwPjFYCn/iWMc+RpRV5H8DoT54HpG6pdV4PlFHOi+CM1I+w9FpSWAQKz4znGkpldEEPjMOb/MfeOA91+GfhlpRuj2YHjdpghuVPdBZ7zZx9XA9UXCgT1BGSz3GX+JYDPMlPakcjJ//vgE9GU5ieymr2zwCobP6mZG2PKv5lWN0c5I8np7Em/1sbTwoLZ9GNa5HPDMei+nXFyM8y3n+9cW6/jvEkHDxP/rYO6rF77iaFrM7yCntGJnGjTto7OmlMgtmO1Z1oQt8+zo7V/EtkEvxGjv8nYt1xecFO5wjK2YNM9g6cAZVG80hWjpFCE0i1j+pOsQqR5yHD5E6atFPHlTrZbqfbbTimW+Tutg86uDzEDM6dD5eW36FAzo23x7Mj9HQOQgsMJ7d+Xg5Maw6BzN8zTk7qP4GBK2/Ody+k+Kpyoe5zMC3HewMwjn1aNFchGGruZdGt0QEurA5QGTU7Gv/ZLnidyOYnEvBuaH8LoMfr8A5ILBJaxDVc7l4U9+CnOHNuZayovch1dE5fM7uLSMTsznOw11cTu3juVj+1DbW2tc5LhbF0uATrjnIhw5abNeiOd1hVu1aKJA5tBkaGgw5gDl7OTdNmg9xOVFXeNKl52I5agjQuQDWVTn0sif75VFKOT4WrRVao0A5caDzqFrENTlPQ2UCd/wsOZAmf/aiASQ5dypsdeLMHDlY7VY4WDYVOdhZsuLDXg85stb147nCBzmGCKKybrsCORTno/bED/44YsLQ3+f39zhbwTBGmT/zOPR6EcJMC/A4nU7/kM6N6zgiR2O9U4PnOOx+72qw1eM4nh/5eR0h4TiYx/HY4cbeOIxpPBSayts4xtSij8CF2Dh4fyaQTKfVOJQEpiSr4tM4pNv55dhu0jjT1dPG5APROBz+Xpm/j884LHr4IQ9vzTgItTUODpfLOKBKxdQ2+8k4GOZPxVySyDgr+jkl81THOFgdQPSnPMY4ojx8XDVExTg=\",\"dtype\":\"float64\",\"shape\":[100]}},\"selected\":{\"id\":\"1416\"},\"selection_policy\":{\"id\":\"1415\"}},\"id\":\"1225\",\"type\":\"ColumnDataSource\"},{\"attributes\":{\"line_color\":\"#0fffa8\",\"line_width\":2,\"x\":{\"field\":\"x\"},\"y\":{\"field\":\"y\"}},\"id\":\"1256\",\"type\":\"Line\"},{\"attributes\":{\"source\":{\"id\":\"1275\"}},\"id\":\"1279\",\"type\":\"CDSView\"},{\"attributes\":{},\"id\":\"1430\",\"type\":\"Selection\"},{\"attributes\":{\"line_alpha\":0.1,\"line_color\":\"#b80080\",\"line_width\":2,\"x\":{\"field\":\"x\"},\"y\":{\"field\":\"y\"}},\"id\":\"1277\",\"type\":\"Line\"},{\"attributes\":{},\"id\":\"1431\",\"type\":\"UnionRenderers\"},{\"attributes\":{\"data_source\":{\"id\":\"1270\"},\"glyph\":{\"id\":\"1271\"},\"hover_glyph\":null,\"muted_glyph\":null,\"nonselection_glyph\":{\"id\":\"1272\"},\"selection_glyph\":null,\"view\":{\"id\":\"1274\"}},\"id\":\"1273\",\"type\":\"GlyphRenderer\"},{\"attributes\":{\"data\":{\"x\":{\"__ndarray__\":\"AAAAAAAAAAA++OCDDz7oPz744IMPPvg/LrrooosuAkA++OCDDz4IQE422WSTTQ5ALrrooosuEkA22WSTTTYVQD744IMPPhhARhdddNFFG0BONtlkk00eQKuqqqqqqiBALrrooosuIkCyySabbLIjQDbZZJNNNiVAuuiiiy66JkA++OCDDz4oQMIHH3zwwSlARhdddNFFK0DKJptsssksQE422WSTTS5A0UUXXXTRL0CrqqqqqqowQG2yySabbDFALrrooosuMkDwwQcffPAyQLLJJptssjNAdNFFF110NEA22WSTTTY1QPjggw8++DVAuuiiiy66NkB88MEHH3w3QD744IMPPjhAAAAAAAAAOUDCBx988ME5QIQPPvjggzpARhdddNFFO0AIH3zwwQc8QMomm2yyyTxAjC666KKLPUBONtlkk00+QA8++OCDDz9A0UUXXXTRP0DKJptssklAQKuqqqqqqkBAjC666KILQUBtsskmm2xBQE422WSTzUFALrrooosuQkAPPvjgg49CQPDBBx988EJA0UUXXXRRQ0CyySabbLJDQJNNNtlkE0RAdNFFF110REBVVVVVVdVEQDbZZJNNNkVAF1100UWXRUD44IMPPvhFQNlkk002WUZAuuiiiy66RkCbbLLJJhtHQHzwwQcffEdAXXTRRRfdR0A++OCDDz5IQB988MEHn0hAAAAAAAAASUDhgw8++GBJQMIHH3zwwUlAo4suuugiSkCEDz744INKQGWTTTbZ5EpARhdddNFFS0Anm2yyyaZLQAgffPDBB0xA6aKLLrpoTEDKJptssslMQKuqqqqqKk1AjC666KKLTUBtsskmm+xNQE422WSTTU5ALrrooouuTkAPPvjggw9PQPDBBx98cE9A0UUXXXTRT0DZZJNNNhlQQMomm2yySVBAuuiiiy56UECrqqqqqqpQQJtssskm21BAjC666KILUUB88MEHHzxRQG2yySabbFFAXXTRRRedUUBONtlkk81RQD744IMP/lFALrrooosuUkAffPDBB19SQA8++OCDj1JAAAAAAADAUkA=\",\"dtype\":\"float64\",\"shape\":[100]},\"y\":{\"__ndarray__\":\"AAAAAAAAAACl61P0vEobQDjfumN07jVA8ta4hY6VN0C1dOPkVlA0QE2vuFecjDFAGuEYr23cLkB27m5+MfgqQDDKeUPvEidAr8HWqJwcI0BNwYA7FDweQCYPh4apYRZAsaAzStJWDkBaBU09lCgDQMuli9LJK/g/W0y2i+EK8D8+WN3rgtjmP2tNheMCY+E/H5LiDRPn2z+qCRvjFUjXPzB1dq9S/NM/5FbyswyF0T8nJUSzSTXPPyzw/O6HJMw/PJIEbcehyT+82l2LTYnHP4A25sCGwsU/GlGPnPc7xD/wuCkI1ujCP3q3zNuMv8E/CJrzQMi4wD+pzY90qJ2/P3mpvcVd+r0/DedY7XeAvD+Dtgk4HCq7P7/mwYR+8rk/d5ootabVuD+ts1y6RNC3P/D8awiP37Y/t4/K+CgBtj/IemnDDjO1P7fciLKFc7Q/TZFTnw/Bsz89VPXXYBqzP7GhOj5YfrI/zBdTevjrsT8phTG2YmKxP+pbGQ3S4LA/NwUq/JdmsD+xoCJ6MuavP64j5VuWC68/bV+9WGM8rj/hT+92unetPyEUYNnSvKw/dTtRG/cKrD/T02oBg2GrPxtolXzhv6o/I1PQ84olqj+kgiHHA5KpP5Aw5wTbBKk/abAPSql9qD+F8f7CD/ynP1zMnk63f6c/VSlmuU8Ipz9QEoEIj5WmPzlikvgwJ6Y/jRfhWva8pT8bYZerpFalP9Pv3KMF9KQ/f6yl1OaUpD+ilttTGTmkP18wBHJx4KM/okWNccaKoz9fQ5BH8jejPzKNS2TR56I/J/UpgUKaoj+qpxFyJk+iP7I59fpfBqI/9wPQqdO/oT8OVX20Z3uhP6+fYtkDOaE/yqiTQpH4oD91C3Fr+rmgP0/1qQgrfaA/CgpW8g9CoD/ETdcPlwigPzv1p4peoZ8/x9daxZA0nz+PmbInpsqePyyu36SBY54/5QO8sAf/nT86tIwoHp2dPzwEzDisPZ0/KSDFSprgnD883Zfz0YWcP75LCdw9LZw/NNSYtMnWmz81QvAjYoKbP87RSrr0L5s/nc6C4m/fmj8=\",\"dtype\":\"float64\",\"shape\":[100]}},\"selected\":{\"id\":\"1432\"},\"selection_policy\":{\"id\":\"1431\"}},\"id\":\"1265\",\"type\":\"ColumnDataSource\"},{\"attributes\":{},\"id\":\"1432\",\"type\":\"Selection\"},{\"attributes\":{\"data_source\":{\"id\":\"1295\"},\"glyph\":{\"id\":\"1296\"},\"hover_glyph\":null,\"muted_glyph\":null,\"nonselection_glyph\":{\"id\":\"1297\"},\"selection_glyph\":null,\"view\":{\"id\":\"1299\"}},\"id\":\"1298\",\"type\":\"GlyphRenderer\"},{\"attributes\":{\"source\":{\"id\":\"1205\"}},\"id\":\"1209\",\"type\":\"CDSView\"},{\"attributes\":{\"line_color\":\"#e277c1\",\"line_width\":2,\"x\":{\"field\":\"x\"},\"y\":{\"field\":\"y\"}},\"id\":\"1226\",\"type\":\"Line\"},{\"attributes\":{\"data\":{\"x\":{\"__ndarray__\":\"AAAAAAAAAAA++OCDDz7oPz744IMPPvg/LrrooosuAkA++OCDDz4IQE422WSTTQ5ALrrooosuEkA22WSTTTYVQD744IMPPhhARhdddNFFG0BONtlkk00eQKuqqqqqqiBALrrooosuIkCyySabbLIjQDbZZJNNNiVAuuiiiy66JkA++OCDDz4oQMIHH3zwwSlARhdddNFFK0DKJptsssksQE422WSTTS5A0UUXXXTRL0CrqqqqqqowQG2yySabbDFALrrooosuMkDwwQcffPAyQLLJJptssjNAdNFFF110NEA22WSTTTY1QPjggw8++DVAuuiiiy66NkB88MEHH3w3QD744IMPPjhAAAAAAAAAOUDCBx988ME5QIQPPvjggzpARhdddNFFO0AIH3zwwQc8QMomm2yyyTxAjC666KKLPUBONtlkk00+QA8++OCDDz9A0UUXXXTRP0DKJptssklAQKuqqqqqqkBAjC666KILQUBtsskmm2xBQE422WSTzUFALrrooosuQkAPPvjgg49CQPDBBx988EJA0UUXXXRRQ0CyySabbLJDQJNNNtlkE0RAdNFFF110REBVVVVVVdVEQDbZZJNNNkVAF1100UWXRUD44IMPPvhFQNlkk002WUZAuuiiiy66RkCbbLLJJhtHQHzwwQcffEdAXXTRRRfdR0A++OCDDz5IQB988MEHn0hAAAAAAAAASUDhgw8++GBJQMIHH3zwwUlAo4suuugiSkCEDz744INKQGWTTTbZ5EpARhdddNFFS0Anm2yyyaZLQAgffPDBB0xA6aKLLrpoTEDKJptssslMQKuqqqqqKk1AjC666KKLTUBtsskmm+xNQE422WSTTU5ALrrooouuTkAPPvjggw9PQPDBBx98cE9A0UUXXXTRT0DZZJNNNhlQQMomm2yySVBAuuiiiy56UECrqqqqqqpQQJtssskm21BAjC666KILUUB88MEHHzxRQG2yySabbFFAXXTRRRedUUBONtlkk81RQD744IMP/lFALrrooosuUkAffPDBB19SQA8++OCDj1JAAAAAAADAUkA=\",\"dtype\":\"float64\",\"shape\":[100]},\"y\":{\"__ndarray__\":\"AAAAAAAAPkBo1j/uTns5QAoQ12CXkypA6A/neZY1IECzxTBm3YMhQAz7wrvu5CVAPcczzTP9KkCVa+2JGB8wQFuf26upwzJA2CmpV3toNUD6aVXhLQw4QF1J55HmrDpAU4V5IsFEPUCTh29Kr8M/QLpfYoj5DEFAHnwONnMhQkAnFlDd3R5DQGukjp+4BURAL5XHkh7XREDm7x7jhpRFQBli4x2UP0ZARvMyRvLZRkCfZ4gQQWVHQKwKGTAH40dA4YZ1/KtUSEA9Kn81dbtIQFkxN1iHGElAJUJwZOdsSUCegcZffblJQF5zByAX/0lARq5gF2s+SkCC5jAAG3hKQCvayk+2rEpAqzWdarzcSkD60DmbnghLQDXD7srBMEtA0vH+BIBVS0DdPdjGKXdLQBBhoCYHlktAeD+G0ViyS0B1klDoWMxLQNpu7ME75EtACt9kkjD6S0CLOk0AYg5MQFUMNZ/2IExASacnZREyTEBoojAK0kFMQEo3M2FVUExAJ9m3obVdTECw1nmsCmpMQFC+OEdqdUxAxU31UOh/TEA2YQfxlolMQPdlVcGGkkxA4thK88aaTEAqk0pxZaJMQKuipPxuqUxAAqRhSO+vTECwSHQR8bVMQEU1xTR+u0xAX1qOwZ/ATEC8R+YMXsVMQBuqR8DAyUxAA3n26M7NTECCvH8Fj9FMQLUGuw8H1UxAY4sTijzYTEDFNBSINNtMQE++qbfz3UxAo9XMaX7gTEDuVcCZ2OJMQHwhtvMF5UxA3Dhj2wnnTEBpY9Jx5+hMQELjmJqh6kxAufmZADvsTEAzDIUatu1MQA/39i4V70xAYyM6WFrwTEDUI7CHh/FMQFBZ+Yie8kxAUITiBKHzTEBLbxaEkPRMQPoZl3Fu9UxASVMBHTz2TEDkJae8+vZMQJOGeG+r90xAohrcPk/4TEC2Aykg5/hMQGPEpPZz+UxAm6rMk/b5TECftDy6b/pMQJxKlh3g+kxAsTIZZEj7TEBS8H8nqftMQLdKKfYC/ExA3qjAU1b8TEANpSS6o/xMQDxSCprr/ExA+InAWy79TEA=\",\"dtype\":\"float64\",\"shape\":[100]}},\"selected\":{\"id\":\"1436\"},\"selection_policy\":{\"id\":\"1435\"}},\"id\":\"1275\",\"type\":\"ColumnDataSource\"},{\"attributes\":{\"data_source\":{\"id\":\"1255\"},\"glyph\":{\"id\":\"1256\"},\"hover_glyph\":null,\"muted_glyph\":null,\"nonselection_glyph\":{\"id\":\"1257\"},\"selection_glyph\":null,\"view\":{\"id\":\"1259\"}},\"id\":\"1258\",\"type\":\"GlyphRenderer\"},{\"attributes\":{\"source\":{\"id\":\"1195\"}},\"id\":\"1199\",\"type\":\"CDSView\"},{\"attributes\":{\"data\":{\"x\":{\"__ndarray__\":\"AAAAAAAAAAA++OCDDz7oPz744IMPPvg/LrrooosuAkA++OCDDz4IQE422WSTTQ5ALrrooosuEkA22WSTTTYVQD744IMPPhhARhdddNFFG0BONtlkk00eQKuqqqqqqiBALrrooosuIkCyySabbLIjQDbZZJNNNiVAuuiiiy66JkA++OCDDz4oQMIHH3zwwSlARhdddNFFK0DKJptsssksQE422WSTTS5A0UUXXXTRL0CrqqqqqqowQG2yySabbDFALrrooosuMkDwwQcffPAyQLLJJptssjNAdNFFF110NEA22WSTTTY1QPjggw8++DVAuuiiiy66NkB88MEHH3w3QD744IMPPjhAAAAAAAAAOUDCBx988ME5QIQPPvjggzpARhdddNFFO0AIH3zwwQc8QMomm2yyyTxAjC666KKLPUBONtlkk00+QA8++OCDDz9A0UUXXXTRP0DKJptssklAQKuqqqqqqkBAjC666KILQUBtsskmm2xBQE422WSTzUFALrrooosuQkAPPvjgg49CQPDBBx988EJA0UUXXXRRQ0CyySabbLJDQJNNNtlkE0RAdNFFF110REBVVVVVVdVEQDbZZJNNNkVAF1100UWXRUD44IMPPvhFQNlkk002WUZAuuiiiy66RkCbbLLJJhtHQHzwwQcffEdAXXTRRRfdR0A++OCDDz5IQB988MEHn0hAAAAAAAAASUDhgw8++GBJQMIHH3zwwUlAo4suuugiSkCEDz744INKQGWTTTbZ5EpARhdddNFFS0Anm2yyyaZLQAgffPDBB0xA6aKLLrpoTEDKJptssslMQKuqqqqqKk1AjC666KKLTUBtsskmm+xNQE422WSTTU5ALrrooouuTkAPPvjggw9PQPDBBx98cE9A0UUXXXTRT0DZZJNNNhlQQMomm2yySVBAuuiiiy56UECrqqqqqqpQQJtssskm21BAjC666KILUUB88MEHHzxRQG2yySabbFFAXXTRRRedUUBONtlkk81RQD744IMP/lFALrrooosuUkAffPDBB19SQA8++OCDj1JAAAAAAADAUkA=\",\"dtype\":\"float64\",\"shape\":[100]},\"y\":{\"__ndarray__\":\"MzMzMzMzwz81MzMzMzPDP4A1MzMzM8M/bDczMzMzwz9sNzMzMzPDP2s3MzMzM8M/bjczMzMzwz9zNzMzMzPDP3M3MzMzM8M/czczMzMzwz9zNzMzMzPDP3M3MzMzM8M/czczMzMzwz9zNzMzMzPDP3M3MzMzM8M/czczMzMzwz9zNzMzMzPDP3M3MzMzM8M/czczMzMzwz9zNzMzMzPDP3M3MzMzM8M/czczMzMzwz9zNzMzMzPDP3M3MzMzM8M/czczMzMzwz9zNzMzMzPDP3M3MzMzM8M/czczMzMzwz9zNzMzMzPDP3M3MzMzM8M/czczMzMzwz9zNzMzMzPDP3M3MzMzM8M/czczMzMzwz9zNzMzMzPDP3M3MzMzM8M/czczMzMzwz9zNzMzMzPDP3M3MzMzM8M/czczMzMzwz9zNzMzMzPDP3M3MzMzM8M/czczMzMzwz9zNzMzMzPDP3M3MzMzM8M/czczMzMzwz9zNzMzMzPDP3M3MzMzM8M/czczMzMzwz9zNzMzMzPDP3M3MzMzM8M/czczMzMzwz9zNzMzMzPDP3M3MzMzM8M/czczMzMzwz9zNzMzMzPDP3M3MzMzM8M/czczMzMzwz9zNzMzMzPDP3M3MzMzM8M/czczMzMzwz9zNzMzMzPDP3M3MzMzM8M/czczMzMzwz9zNzMzMzPDP3M3MzMzM8M/czczMzMzwz9zNzMzMzPDP3M3MzMzM8M/czczMzMzwz9zNzMzMzPDP3M3MzMzM8M/czczMzMzwz9zNzMzMzPDP3M3MzMzM8M/czczMzMzwz9zNzMzMzPDP3M3MzMzM8M/czczMzMzwz9zNzMzMzPDP3M3MzMzM8M/czczMzMzwz9zNzMzMzPDP3M3MzMzM8M/czczMzMzwz9zNzMzMzPDP3M3MzMzM8M/czczMzMzwz9zNzMzMzPDP3M3MzMzM8M/czczMzMzwz9zNzMzMzPDP3M3MzMzM8M/czczMzMzwz9zNzMzMzPDP3M3MzMzM8M/czczMzMzwz9zNzMzMzPDP3M3MzMzM8M/czczMzMzwz8=\",\"dtype\":\"float64\",\"shape\":[100]}},\"selected\":{\"id\":\"1418\"},\"selection_policy\":{\"id\":\"1417\"}},\"id\":\"1230\",\"type\":\"ColumnDataSource\"},{\"attributes\":{\"line_color\":\"#16bdcf\",\"line_width\":2,\"x\":{\"field\":\"x\"},\"y\":{\"field\":\"y\"}},\"id\":\"1241\",\"type\":\"Line\"},{\"attributes\":{},\"id\":\"1433\",\"type\":\"UnionRenderers\"},{\"attributes\":{\"source\":{\"id\":\"1255\"}},\"id\":\"1259\",\"type\":\"CDSView\"},{\"attributes\":{\"line_alpha\":0.1,\"line_color\":\"#90ff00\",\"line_width\":2,\"x\":{\"field\":\"x\"},\"y\":{\"field\":\"y\"}},\"id\":\"1327\",\"type\":\"Line\"},{\"attributes\":{},\"id\":\"1434\",\"type\":\"Selection\"},{\"attributes\":{\"line_color\":\"#d8afa1\",\"line_width\":2,\"x\":{\"field\":\"x\"},\"y\":{\"field\":\"y\"}},\"id\":\"1271\",\"type\":\"Line\"},{\"attributes\":{\"line_color\":\"#7c0100\",\"line_width\":2,\"x\":{\"field\":\"x\"},\"y\":{\"field\":\"y\"}},\"id\":\"1291\",\"type\":\"Line\"},{\"attributes\":{\"source\":{\"id\":\"1210\"}},\"id\":\"1214\",\"type\":\"CDSView\"},{\"attributes\":{\"line_color\":\"#5d003f\",\"line_width\":2,\"x\":{\"field\":\"x\"},\"y\":{\"field\":\"y\"}},\"id\":\"1261\",\"type\":\"Line\"},{\"attributes\":{\"bottom_units\":\"screen\",\"fill_alpha\":0.5,\"fill_color\":\"lightgrey\",\"left_units\":\"screen\",\"level\":\"overlay\",\"line_alpha\":1.0,\"line_color\":\"black\",\"line_dash\":[4,4],\"line_width\":2,\"render_mode\":\"css\",\"right_units\":\"screen\",\"top_units\":\"screen\"},\"id\":\"1187\",\"type\":\"BoxAnnotation\"},{\"attributes\":{},\"id\":\"1435\",\"type\":\"UnionRenderers\"},{\"attributes\":{\"axis_label\":\"Concentration (mM)\",\"formatter\":{\"id\":\"1399\"},\"ticker\":{\"id\":\"1178\"}},\"id\":\"1177\",\"type\":\"LinearAxis\"},{\"attributes\":{\"source\":{\"id\":\"1355\"}},\"id\":\"1359\",\"type\":\"CDSView\"},{\"attributes\":{},\"id\":\"1467\",\"type\":\"UnionRenderers\"},{\"attributes\":{\"data_source\":{\"id\":\"1325\"},\"glyph\":{\"id\":\"1326\"},\"hover_glyph\":null,\"muted_glyph\":null,\"nonselection_glyph\":{\"id\":\"1327\"},\"selection_glyph\":null,\"view\":{\"id\":\"1329\"}},\"id\":\"1328\",\"type\":\"GlyphRenderer\"},{\"attributes\":{\"line_color\":\"#dd00ff\",\"line_width\":2,\"x\":{\"field\":\"x\"},\"y\":{\"field\":\"y\"}},\"id\":\"1361\",\"type\":\"Line\"},{\"attributes\":{},\"id\":\"1436\",\"type\":\"Selection\"},{\"attributes\":{\"line_color\":\"#8200a0\",\"line_width\":2,\"x\":{\"field\":\"x\"},\"y\":{\"field\":\"y\"}},\"id\":\"1331\",\"type\":\"Line\"},{\"attributes\":{},\"id\":\"1468\",\"type\":\"Selection\"},{\"attributes\":{},\"id\":\"1437\",\"type\":\"UnionRenderers\"},{\"attributes\":{\"data\":{\"x\":{\"__ndarray__\":\"AAAAAAAAAAA++OCDDz7oPz744IMPPvg/LrrooosuAkA++OCDDz4IQE422WSTTQ5ALrrooosuEkA22WSTTTYVQD744IMPPhhARhdddNFFG0BONtlkk00eQKuqqqqqqiBALrrooosuIkCyySabbLIjQDbZZJNNNiVAuuiiiy66JkA++OCDDz4oQMIHH3zwwSlARhdddNFFK0DKJptsssksQE422WSTTS5A0UUXXXTRL0CrqqqqqqowQG2yySabbDFALrrooosuMkDwwQcffPAyQLLJJptssjNAdNFFF110NEA22WSTTTY1QPjggw8++DVAuuiiiy66NkB88MEHH3w3QD744IMPPjhAAAAAAAAAOUDCBx988ME5QIQPPvjggzpARhdddNFFO0AIH3zwwQc8QMomm2yyyTxAjC666KKLPUBONtlkk00+QA8++OCDDz9A0UUXXXTRP0DKJptssklAQKuqqqqqqkBAjC666KILQUBtsskmm2xBQE422WSTzUFALrrooosuQkAPPvjgg49CQPDBBx988EJA0UUXXXRRQ0CyySabbLJDQJNNNtlkE0RAdNFFF110REBVVVVVVdVEQDbZZJNNNkVAF1100UWXRUD44IMPPvhFQNlkk002WUZAuuiiiy66RkCbbLLJJhtHQHzwwQcffEdAXXTRRRfdR0A++OCDDz5IQB988MEHn0hAAAAAAAAASUDhgw8++GBJQMIHH3zwwUlAo4suuugiSkCEDz744INKQGWTTTbZ5EpARhdddNFFS0Anm2yyyaZLQAgffPDBB0xA6aKLLrpoTEDKJptssslMQKuqqqqqKk1AjC666KKLTUBtsskmm+xNQE422WSTTU5ALrrooouuTkAPPvjggw9PQPDBBx98cE9A0UUXXXTRT0DZZJNNNhlQQMomm2yySVBAuuiiiy56UECrqqqqqqpQQJtssskm21BAjC666KILUUB88MEHHzxRQG2yySabbFFAXXTRRRedUUBONtlkk81RQD744IMP/lFALrrooosuUkAffPDBB19SQA8++OCDj1JAAAAAAADAUkA=\",\"dtype\":\"float64\",\"shape\":[100]},\"y\":{\"__ndarray__\":\"AAAAAAAAAAARF/IHdfP7P5jfjnRIdAlAmplSXCU48z9pTFrk4QrsP8TAYNT0GOg/LORjSHrr5T8+9fz8r2vkP3p3u22VP+M/HILIHfxB4j/aCq9ZO1bhPwQqLQYiSOA/UtSTVpu/3D+OO7XPzNbUPxDjBD5/FMs/xT/V640iwz9QFXE261K9P4+Iqm1ntLc/3Osf5i7fsz+3N8CV8BixP6sRyOts/60/Mp0Db9y2qj8j7u+rlBOoPyXO5eJV6aU/Gv5fMlYapD++dN4Kz5GiP3vKP8DTQKE/VPZDk2UcoD9/RAiAezieP76SvTwGdJw/ieCRAIXhmj/pmDWWInmZPzJ1l8yXNJg/Ezpzlc0Olz/s5JJGmAOWP87Ar8uED5U/08wFdbIvlD+Hh+HdtWGTP9ULR2mCo5I/dZ923FjzkT/oipKguU+RP6Dq6tBZt5A/ml0vfBopkD+xKakMA0iPP8BlPCVoTo4/TcioTuNjjT9GnmLKIIeMP0Tmgnbztos/Y2FloU/yij9vrtZyRjiKP1o5nR4CiIk/bdHJu8LgiD+uvHaI20GIP2vu5o2wqoc/AuTbqLQahz8ruELQZ5GGP0S/3JdVDoY/8ncJ5xORhT/UA6TZQRmFP6OzLsaGpoQ/Sm3cY5E4hD9tyOsIF8+DP6owigLTaYM/aG2Y/oUIgz81IViB9aqCP1RSvILrUII/jAE58TX6gT+NCZtgpqaBPx0XYbURVoE/MO6x1k8IgT+a+FpuO72AP5O0Q6+xdIA/ZzUcHZIugD/dpJe2fNV/P3MsjwM0Un8/vZ1W7BTTfj85jbKO7Vd+PwKwwhiP4H0/10ydjc1sfT+ZS92Pf/x8P++WjjB+j3w/yXfxwaQlfD+xSxWu0L57P+kSJ1HhWns/tT0A17f5ej9IU3sbN5t6P+76Q41DP3o/OMT5EsPleT+QJHvynI55P0W1E7q5OXk/cl9yKwPneD/BQUYpZJZ4P2NeeKLIR3g/7VGcgx37dz9Ey3ypULB3P1UJ3s1QZ3c/eSsOfg0gdz9UTO4Md9p2P6uU7Ih+lnY/mVMfsBVUdj8=\",\"dtype\":\"float64\",\"shape\":[100]}},\"selected\":{\"id\":\"1444\"},\"selection_policy\":{\"id\":\"1443\"}},\"id\":\"1295\",\"type\":\"ColumnDataSource\"},{\"attributes\":{},\"id\":\"1469\",\"type\":\"UnionRenderers\"},{\"attributes\":{\"data\":{\"x\":{\"__ndarray__\":\"AAAAAAAAAAA++OCDDz7oPz744IMPPvg/LrrooosuAkA++OCDDz4IQE422WSTTQ5ALrrooosuEkA22WSTTTYVQD744IMPPhhARhdddNFFG0BONtlkk00eQKuqqqqqqiBALrrooosuIkCyySabbLIjQDbZZJNNNiVAuuiiiy66JkA++OCDDz4oQMIHH3zwwSlARhdddNFFK0DKJptsssksQE422WSTTS5A0UUXXXTRL0CrqqqqqqowQG2yySabbDFALrrooosuMkDwwQcffPAyQLLJJptssjNAdNFFF110NEA22WSTTTY1QPjggw8++DVAuuiiiy66NkB88MEHH3w3QD744IMPPjhAAAAAAAAAOUDCBx988ME5QIQPPvjggzpARhdddNFFO0AIH3zwwQc8QMomm2yyyTxAjC666KKLPUBONtlkk00+QA8++OCDDz9A0UUXXXTRP0DKJptssklAQKuqqqqqqkBAjC666KILQUBtsskmm2xBQE422WSTzUFALrrooosuQkAPPvjgg49CQPDBBx988EJA0UUXXXRRQ0CyySabbLJDQJNNNtlkE0RAdNFFF110REBVVVVVVdVEQDbZZJNNNkVAF1100UWXRUD44IMPPvhFQNlkk002WUZAuuiiiy66RkCbbLLJJhtHQHzwwQcffEdAXXTRRRfdR0A++OCDDz5IQB988MEHn0hAAAAAAAAASUDhgw8++GBJQMIHH3zwwUlAo4suuugiSkCEDz744INKQGWTTTbZ5EpARhdddNFFS0Anm2yyyaZLQAgffPDBB0xA6aKLLrpoTEDKJptssslMQKuqqqqqKk1AjC666KKLTUBtsskmm+xNQE422WSTTU5ALrrooouuTkAPPvjggw9PQPDBBx98cE9A0UUXXXTRT0DZZJNNNhlQQMomm2yySVBAuuiiiy56UECrqqqqqqpQQJtssskm21BAjC666KILUUB88MEHHzxRQG2yySabbFFAXXTRRRedUUBONtlkk81RQD744IMP/lFALrrooosuUkAffPDBB19SQA8++OCDj1JAAAAAAADAUkA=\",\"dtype\":\"float64\",\"shape\":[100]},\"y\":{\"__ndarray__\":\"MzMzMzMzwz8zMzMzMzPDPzQzMzMzM8M/JDMzMzMzwz9VMzMzMzPDP5syMzMzM8M/YDIzMzMzwz9AMjMzMzPDPx0xMzMzM8M/fDAzMzMzwz9nMDMzMzPDP88uMzMzM8M/hTAzMzMzwz8kMDMzMzPDP/YvMzMzM8M/YC8zMzMzwz+pLjMzMzPDP1gvMzMzM8M/ri0zMzMzwz9TNjMzMzPDP1g3MzMzM8M/VjYzMzMzwz8COTMzMzPDP/hZMzMzM8M/z1szMzMzwz8KXTMzMzPDPyxcMzMzM8M/oFszMzMzwz8uTjMzMzPDP3clMzMzM8M/mTczMzMzwz91azMzMzPDP56NMzMzM8M/sJIzMzMzwz8MpTMzMzPDP/qkMzMzM8M/gZYzMzMzwz9KhTMzMzPDP0aNMzMzM8M/IoszMzMzwz9mijMzMzPDP0SJMzMzM8M/MIkzMzMzwz9hgzMzMzPDPwSCMzMzM8M/oXszMzMzwz8fejMzMzPDP7RvMzMzM8M/Nm4zMzMzwz+bbjMzMzPDP9trMzMzM8M/62czMzMzwz9vaTMzMzPDPyxoMzMzM8M/DWQzMzMzwz9WYTMzMzPDP2FgMzMzM8M/H1szMzMzwz8lXjMzMzPDPy5gMzMzM8M/qGMzMzMzwz+5YzMzMzPDP1hjMzMzM8M/cGUzMzMzwz8SZTMzMzPDP6tlMzMzM8M/pmYzMzMzwz9jazMzMzPDP85wMzMzM8M/THczMzMzwz9YdzMzMzPDP81zMzMzM8M/aG4zMzMzwz9iazMzMzPDPxRsMzMzM8M/g20zMzMzwz9TcTMzMzPDP095MzMzM8M/v4MzMzMzwz8piTMzMzPDP2KLMzMzM8M/cokzMzMzwz8biDMzMzPDP6qIMzMzM8M/T40zMzMzwz83kzMzMzPDP1mWMzMzM8M/9pUzMzMzwz9zlzMzMzPDPweYMzMzM8M/K5gzMzMzwz/QkTMzMzPDP+6OMzMzM8M/OpAzMzMzwz+7kDMzMzPDPzGPMzMzM8M/Mo8zMzMzwz/9kjMzMzPDP9iUMzMzM8M/BpYzMzMzwz8=\",\"dtype\":\"float64\",\"shape\":[100]}},\"selected\":{\"id\":\"1470\"},\"selection_policy\":{\"id\":\"1469\"}},\"id\":\"1360\",\"type\":\"ColumnDataSource\"},{\"attributes\":{},\"id\":\"1438\",\"type\":\"Selection\"},{\"attributes\":{\"line_color\":\"#ffff9a\",\"line_width\":2,\"x\":{\"field\":\"x\"},\"y\":{\"field\":\"y\"}},\"id\":\"1301\",\"type\":\"Line\"},{\"attributes\":{\"source\":{\"id\":\"1325\"}},\"id\":\"1329\",\"type\":\"CDSView\"},{\"attributes\":{\"source\":{\"id\":\"1360\"}},\"id\":\"1364\",\"type\":\"CDSView\"},{\"attributes\":{},\"id\":\"1470\",\"type\":\"Selection\"},{\"attributes\":{\"axis_label\":\"Time (hrs)\",\"formatter\":{\"id\":\"1401\"},\"ticker\":{\"id\":\"1174\"}},\"id\":\"1173\",\"type\":\"LinearAxis\"},{\"attributes\":{},\"id\":\"1439\",\"type\":\"UnionRenderers\"},{\"attributes\":{\"data_source\":{\"id\":\"1360\"},\"glyph\":{\"id\":\"1361\"},\"hover_glyph\":null,\"muted_glyph\":null,\"nonselection_glyph\":{\"id\":\"1362\"},\"selection_glyph\":null,\"view\":{\"id\":\"1364\"}},\"id\":\"1363\",\"type\":\"GlyphRenderer\"},{\"attributes\":{\"line_alpha\":0.1,\"line_color\":\"#7e7e7e\",\"line_width\":2,\"x\":{\"field\":\"x\"},\"y\":{\"field\":\"y\"}},\"id\":\"1232\",\"type\":\"Line\"},{\"attributes\":{\"data\":{\"x\":{\"__ndarray__\":\"AAAAAAAAAAA++OCDDz7oPz744IMPPvg/LrrooosuAkA++OCDDz4IQE422WSTTQ5ALrrooosuEkA22WSTTTYVQD744IMPPhhARhdddNFFG0BONtlkk00eQKuqqqqqqiBALrrooosuIkCyySabbLIjQDbZZJNNNiVAuuiiiy66JkA++OCDDz4oQMIHH3zwwSlARhdddNFFK0DKJptsssksQE422WSTTS5A0UUXXXTRL0CrqqqqqqowQG2yySabbDFALrrooosuMkDwwQcffPAyQLLJJptssjNAdNFFF110NEA22WSTTTY1QPjggw8++DVAuuiiiy66NkB88MEHH3w3QD744IMPPjhAAAAAAAAAOUDCBx988ME5QIQPPvjggzpARhdddNFFO0AIH3zwwQc8QMomm2yyyTxAjC666KKLPUBONtlkk00+QA8++OCDDz9A0UUXXXTRP0DKJptssklAQKuqqqqqqkBAjC666KILQUBtsskmm2xBQE422WSTzUFALrrooosuQkAPPvjgg49CQPDBBx988EJA0UUXXXRRQ0CyySabbLJDQJNNNtlkE0RAdNFFF110REBVVVVVVdVEQDbZZJNNNkVAF1100UWXRUD44IMPPvhFQNlkk002WUZAuuiiiy66RkCbbLLJJhtHQHzwwQcffEdAXXTRRRfdR0A++OCDDz5IQB988MEHn0hAAAAAAAAASUDhgw8++GBJQMIHH3zwwUlAo4suuugiSkCEDz744INKQGWTTTbZ5EpARhdddNFFS0Anm2yyyaZLQAgffPDBB0xA6aKLLrpoTEDKJptssslMQKuqqqqqKk1AjC666KKLTUBtsskmm+xNQE422WSTTU5ALrrooouuTkAPPvjggw9PQPDBBx98cE9A0UUXXXTRT0DZZJNNNhlQQMomm2yySVBAuuiiiy56UECrqqqqqqpQQJtssskm21BAjC666KILUUB88MEHHzxRQG2yySabbFFAXXTRRRedUUBONtlkk81RQD744IMP/lFALrrooosuUkAffPDBB19SQA8++OCDj1JAAAAAAADAUkA=\",\"dtype\":\"float64\",\"shape\":[100]},\"y\":{\"__ndarray__\":\"MzMzMzMzwz8lMzMzMzPDPw4zMzMzM8M/BzMzMzMzwz9FMzMzMzPDPy4zMzMzM8M/HTMzMzMzwz/9MjMzMzPDP/4yMzMzM8M/DTMzMzMzwz8qMzMzMzPDPwIzMzMzM8M/TDMzMzMzwz9MMzMzMzPDP1gzMzMzM8M/bzMzMzMzwz9+MzMzMzPDP38zMzMzM8M/ejMzMzMzwz95MzMzMzPDP2gzMzMzM8M/VjMzMzMzwz9WMzMzMzPDP1YzMzMzM8M/VjMzMzMzwz9OMzMzMzPDP1IzMzMzM8M/UjMzMzMzwz9TMzMzMzPDP1czMzMzM8M/VzMzMzMzwz9XMzMzMzPDP1czMzMzM8M/VzMzMzMzwz9XMzMzMzPDP1czMzMzM8M/VjMzMzMzwz9VMzMzMzPDP1YzMzMzM8M/VjMzMzMzwz9WMzMzMzPDP1YzMzMzM8M/VjMzMzMzwz9WMzMzMzPDP1YzMzMzM8M/VjMzMzMzwz9WMzMzMzPDP1YzMzMzM8M/VjMzMzMzwz9WMzMzMzPDP1YzMzMzM8M/VjMzMzMzwz9WMzMzMzPDP1YzMzMzM8M/VjMzMzMzwz9WMzMzMzPDP1YzMzMzM8M/VjMzMzMzwz9WMzMzMzPDP1YzMzMzM8M/VjMzMzMzwz9WMzMzMzPDP1YzMzMzM8M/VjMzMzMzwz9WMzMzMzPDP1YzMzMzM8M/VjMzMzMzwz9WMzMzMzPDP1YzMzMzM8M/VjMzMzMzwz9WMzMzMzPDP1YzMzMzM8M/VjMzMzMzwz9WMzMzMzPDP1YzMzMzM8M/VjMzMzMzwz9WMzMzMzPDP1YzMzMzM8M/VjMzMzMzwz9WMzMzMzPDP1YzMzMzM8M/VjMzMzMzwz9WMzMzMzPDP1YzMzMzM8M/VjMzMzMzwz9WMzMzMzPDP1YzMzMzM8M/VjMzMzMzwz9WMzMzMzPDP1YzMzMzM8M/VjMzMzMzwz9WMzMzMzPDP1YzMzMzM8M/VjMzMzMzwz9WMzMzMzPDP1YzMzMzM8M/VjMzMzMzwz9WMzMzMzPDP1YzMzMzM8M/VjMzMzMzwz8=\",\"dtype\":\"float64\",\"shape\":[100]}},\"selected\":{\"id\":\"1458\"},\"selection_policy\":{\"id\":\"1457\"}},\"id\":\"1330\",\"type\":\"ColumnDataSource\"},{\"attributes\":{},\"id\":\"1471\",\"type\":\"UnionRenderers\"},{\"attributes\":{\"source\":{\"id\":\"1330\"}},\"id\":\"1334\",\"type\":\"CDSView\"},{\"attributes\":{},\"id\":\"1440\",\"type\":\"Selection\"},{\"attributes\":{},\"id\":\"1185\",\"type\":\"ResetTool\"},{\"attributes\":{\"line_color\":\"#bcbc21\",\"line_width\":2,\"x\":{\"field\":\"x\"},\"y\":{\"field\":\"y\"}},\"id\":\"1236\",\"type\":\"Line\"},{\"attributes\":{},\"id\":\"1472\",\"type\":\"Selection\"},{\"attributes\":{\"data_source\":{\"id\":\"1330\"},\"glyph\":{\"id\":\"1331\"},\"hover_glyph\":null,\"muted_glyph\":null,\"nonselection_glyph\":{\"id\":\"1332\"},\"selection_glyph\":null,\"view\":{\"id\":\"1334\"}},\"id\":\"1333\",\"type\":\"GlyphRenderer\"},{\"attributes\":{\"line_alpha\":0.1,\"line_color\":\"#1f77b3\",\"line_width\":2,\"x\":{\"field\":\"x\"},\"y\":{\"field\":\"y\"}},\"id\":\"1197\",\"type\":\"Line\"},{\"attributes\":{\"line_color\":\"#505646\",\"line_width\":2,\"x\":{\"field\":\"x\"},\"y\":{\"field\":\"y\"}},\"id\":\"1366\",\"type\":\"Line\"},{\"attributes\":{},\"id\":\"1441\",\"type\":\"UnionRenderers\"},{\"attributes\":{},\"id\":\"1473\",\"type\":\"UnionRenderers\"},{\"attributes\":{\"line_alpha\":0.1,\"line_color\":\"#dd00ff\",\"line_width\":2,\"x\":{\"field\":\"x\"},\"y\":{\"field\":\"y\"}},\"id\":\"1362\",\"type\":\"Line\"},{\"attributes\":{},\"id\":\"1442\",\"type\":\"Selection\"},{\"attributes\":{\"line_color\":\"#ac8944\",\"line_width\":2,\"x\":{\"field\":\"x\"},\"y\":{\"field\":\"y\"}},\"id\":\"1336\",\"type\":\"Line\"},{\"attributes\":{},\"id\":\"1474\",\"type\":\"Selection\"},{\"attributes\":{\"data\":{\"x\":{\"__ndarray__\":\"AAAAAAAAAAA++OCDDz7oPz744IMPPvg/LrrooosuAkA++OCDDz4IQE422WSTTQ5ALrrooosuEkA22WSTTTYVQD744IMPPhhARhdddNFFG0BONtlkk00eQKuqqqqqqiBALrrooosuIkCyySabbLIjQDbZZJNNNiVAuuiiiy66JkA++OCDDz4oQMIHH3zwwSlARhdddNFFK0DKJptsssksQE422WSTTS5A0UUXXXTRL0CrqqqqqqowQG2yySabbDFALrrooosuMkDwwQcffPAyQLLJJptssjNAdNFFF110NEA22WSTTTY1QPjggw8++DVAuuiiiy66NkB88MEHH3w3QD744IMPPjhAAAAAAAAAOUDCBx988ME5QIQPPvjggzpARhdddNFFO0AIH3zwwQc8QMomm2yyyTxAjC666KKLPUBONtlkk00+QA8++OCDDz9A0UUXXXTRP0DKJptssklAQKuqqqqqqkBAjC666KILQUBtsskmm2xBQE422WSTzUFALrrooosuQkAPPvjgg49CQPDBBx988EJA0UUXXXRRQ0CyySabbLJDQJNNNtlkE0RAdNFFF110REBVVVVVVdVEQDbZZJNNNkVAF1100UWXRUD44IMPPvhFQNlkk002WUZAuuiiiy66RkCbbLLJJhtHQHzwwQcffEdAXXTRRRfdR0A++OCDDz5IQB988MEHn0hAAAAAAAAASUDhgw8++GBJQMIHH3zwwUlAo4suuugiSkCEDz744INKQGWTTTbZ5EpARhdddNFFS0Anm2yyyaZLQAgffPDBB0xA6aKLLrpoTEDKJptssslMQKuqqqqqKk1AjC666KKLTUBtsskmm+xNQE422WSTTU5ALrrooouuTkAPPvjggw9PQPDBBx98cE9A0UUXXXTRT0DZZJNNNhlQQMomm2yySVBAuuiiiy56UECrqqqqqqpQQJtssskm21BAjC666KILUUB88MEHHzxRQG2yySabbFFAXXTRRRedUUBONtlkk81RQD744IMP/lFALrrooosuUkAffPDBB19SQA8++OCDj1JAAAAAAADAUkA=\",\"dtype\":\"float64\",\"shape\":[100]},\"y\":{\"__ndarray__\":\"AAAAAAAAAADYQPvE0IqAP7yS/ebXQf8/YSH103MhJUBo5y1tE0kxQNkl6mDCMDRALt44B/meNUD2uEIB3qg2QMlk9sAooTdATv+yMcuaOEADmsLWM5c5QAdkPpQqkjpAL9Oo2NOBO0C8+w2pI1I8QCn7fy2I6zxAQpU1NZRLPUDpHvM8VoM9QDwVO/3moz1AxVV0VOO3PUArcp859MQ9QF08v8oHzj1A9QPIZavUPUDa1/Jsu9k9QJb1sdG43T1A02cGHvPgPUCrJ//NneM9QGf5ZKHb5T1A6NNs58TnPUDc2Ncma+k9QIaj+Vbb6j1ANbz9RR/sPUBE8bOCPu09QPGkPfk+7j1AAVjUXiXvPUBsbQV+9e89QG/LVm2y8D1AzspFt17xPUA/4Qp4/PE9QHsZJXSN8j1AvotxKRPzPUCWvHLcjvM9QM91uqIB9D1A/8oda2z0PUDUg0sE0PQ9QOa36iEt9T1AKwwAYYT1PUB5WVJL1vU9QGNUWFoj9j1AiiB/+Wv2PUDnpSuIsPY9QEGEYFvx9j1AWcYZvy73PUD/THj3aPc9QAqIwkGg9z1ARPM41dT3PUA0bM/jBvg9QJOLzJo2+D1ApnlSI2T4PUDgsNWij/g9QGHbgzu5+D1A8y+dDOH4PUAyicMyB/k9QOjGPsgr+T1Ac6o55U75PUB6mvmfcPk9QNaJBg2R+T1Au/xcP7D5PUAKkY5Izvk9QJ214zjr+T1AWa96Hwf6PUCa9GAKIvo9QOPoqQY8+j1APhOFIFX6PUC0alFjbfo9QJdCrtmE+j1ANIGKjZv6PUDz1DKIsfo9QOWaXtLG+j1A/2k7dNv6PUACcHd17/o9QEvxSt0C+z1A0AaBshX7PUCfmn/7J/s9QH+pTr45+z1ALuGeAEv7PUCes8/HW/s9QCXu9Bhs+z1A3dzb+Hv7PUBGAhBsi/s9QOpw33aa+z1AkcxeHan7PUBSyWxjt/s9QL0btkzF+z1Akjy43NL7PUBu9sMW4Ps9QF4FAf7s+z1AfeFvlfn7PUC/YOzfBfw9QPKZL+AR/D1A9iHSmB38PUA=\",\"dtype\":\"float64\",\"shape\":[100]}},\"selected\":{\"id\":\"1472\"},\"selection_policy\":{\"id\":\"1471\"}},\"id\":\"1365\",\"type\":\"ColumnDataSource\"},{\"attributes\":{},\"id\":\"1443\",\"type\":\"UnionRenderers\"},{\"attributes\":{\"line_color\":\"#6026ff\",\"line_width\":2,\"x\":{\"field\":\"x\"},\"y\":{\"field\":\"y\"}},\"id\":\"1296\",\"type\":\"Line\"},{\"attributes\":{\"source\":{\"id\":\"1305\"}},\"id\":\"1309\",\"type\":\"CDSView\"},{\"attributes\":{\"line_alpha\":0.1,\"line_color\":\"#8200a0\",\"line_width\":2,\"x\":{\"field\":\"x\"},\"y\":{\"field\":\"y\"}},\"id\":\"1332\",\"type\":\"Line\"},{\"attributes\":{\"source\":{\"id\":\"1365\"}},\"id\":\"1369\",\"type\":\"CDSView\"},{\"attributes\":{},\"id\":\"1444\",\"type\":\"Selection\"},{\"attributes\":{},\"id\":\"1475\",\"type\":\"UnionRenderers\"},{\"attributes\":{\"data_source\":{\"id\":\"1305\"},\"glyph\":{\"id\":\"1306\"},\"hover_glyph\":null,\"muted_glyph\":null,\"nonselection_glyph\":{\"id\":\"1307\"},\"selection_glyph\":null,\"view\":{\"id\":\"1309\"}},\"id\":\"1308\",\"type\":\"GlyphRenderer\"},{\"attributes\":{\"data_source\":{\"id\":\"1365\"},\"glyph\":{\"id\":\"1366\"},\"hover_glyph\":null,\"muted_glyph\":null,\"nonselection_glyph\":{\"id\":\"1367\"},\"selection_glyph\":null,\"view\":{\"id\":\"1369\"}},\"id\":\"1368\",\"type\":\"GlyphRenderer\"},{\"attributes\":{\"data\":{\"x\":{\"__ndarray__\":\"AAAAAAAAAAA++OCDDz7oPz744IMPPvg/LrrooosuAkA++OCDDz4IQE422WSTTQ5ALrrooosuEkA22WSTTTYVQD744IMPPhhARhdddNFFG0BONtlkk00eQKuqqqqqqiBALrrooosuIkCyySabbLIjQDbZZJNNNiVAuuiiiy66JkA++OCDDz4oQMIHH3zwwSlARhdddNFFK0DKJptsssksQE422WSTTS5A0UUXXXTRL0CrqqqqqqowQG2yySabbDFALrrooosuMkDwwQcffPAyQLLJJptssjNAdNFFF110NEA22WSTTTY1QPjggw8++DVAuuiiiy66NkB88MEHH3w3QD744IMPPjhAAAAAAAAAOUDCBx988ME5QIQPPvjggzpARhdddNFFO0AIH3zwwQc8QMomm2yyyTxAjC666KKLPUBONtlkk00+QA8++OCDDz9A0UUXXXTRP0DKJptssklAQKuqqqqqqkBAjC666KILQUBtsskmm2xBQE422WSTzUFALrrooosuQkAPPvjgg49CQPDBBx988EJA0UUXXXRRQ0CyySabbLJDQJNNNtlkE0RAdNFFF110REBVVVVVVdVEQDbZZJNNNkVAF1100UWXRUD44IMPPvhFQNlkk002WUZAuuiiiy66RkCbbLLJJhtHQHzwwQcffEdAXXTRRRfdR0A++OCDDz5IQB988MEHn0hAAAAAAAAASUDhgw8++GBJQMIHH3zwwUlAo4suuugiSkCEDz744INKQGWTTTbZ5EpARhdddNFFS0Anm2yyyaZLQAgffPDBB0xA6aKLLrpoTEDKJptssslMQKuqqqqqKk1AjC666KKLTUBtsskmm+xNQE422WSTTU5ALrrooouuTkAPPvjggw9PQPDBBx98cE9A0UUXXXTRT0DZZJNNNhlQQMomm2yySVBAuuiiiy56UECrqqqqqqpQQJtssskm21BAjC666KILUUB88MEHHzxRQG2yySabbFFAXXTRRRedUUBONtlkk81RQD744IMP/lFALrrooosuUkAffPDBB19SQA8++OCDj1JAAAAAAADAUkA=\",\"dtype\":\"float64\",\"shape\":[100]},\"y\":{\"__ndarray__\":\"AAAAAAAAAAAwSI5XS9LgPwPjn2YNaxpA448Pb4xCD0AC8STKlunyP+zmS0Fpa+Q/QHw/3WjR4T832zBlbv7hP34HtPVjgeI/MH/3dpHg4j/H516RovTiP4bheBcBbeI/eOfWuztA4D9Z/+n/bWbWP/5YPEcH0sc/bK3W2dB9tz+/7zGTB7aoPxFJBCnbFZ0/2wCtvPkBkz/rl/Pgd+SKPwl9eAGWHoQ/A/NiZ+tTfz/+LkhpZB55P5163wRemnQ/0t8JbZA1cT/LnXMhzy5tP+F1RQG2Dmk/K8uJdJi/ZT9vwluCsA1jP9iICe1b1GA/7qeLUCTyXT/t+eHHa9BaPw+relEMJlg/LOHfSnvcVT/byxSEQeJTP5OZ8zqsKVI/aEY8Xd2nUD/HA/bYPqhOP+iMd7vMTkw/ShSxsOQ3Sj+Pryd0EVpIP/Au5+d8rUY/rSfDap0rRT9+StzZ9c5DP0SO6vPjkkI/IozvMXhzQT8tfwi+Vm1AP5jKMaE7+z4/MQYNN6RDPT9/AAFVm687PydgxVtlOzo/1kgT9cDjOD8oSl2Y1KU3P23l/1IffzY/+CqFbWxtNT+5AAO0yG40P9APzX55gTM/KbuKOPWjMj/R51j83NQxP5V2uyL3EjE/ayQ6qypdMD9kz9JQ9mQvP4xWf8cKJC4/SDNRvfj1LD88vLp5TdkrPyB0pm65zCo/2OYe1QvPKT+QSoevL98oP1DhN7Io/Cc/Cjn1kRAlJz/a/GjlFFkmP7cBcB11lyU/Ch6uo4DfJD8Ge2tVlTAkPw5oDiQeiiM/x0e60pHrIj8n2l7XcVQiP8xbpWFJxCE/+OcgdKw6IT842HAiN7cgPyLHAtaMOSA/aINUXK+CHz/blYTQj5wePxCbH74mwB0/0OouIursHD+jLFZuWSIcP586K8D8Xxs//49zMmSlGj/n5Bs5J/IZP1pPGBHkRRk/PR1lOD+gGD/oDmj/4gAYP7LUKQN/Zxc/aAXH2sfTFj+Wf5C+dkUWPx2m9hpJvBU/mBYsWwA4FT9iZq+UYbgUP9rTRE81PRQ/FOZgPkfGEz8=\",\"dtype\":\"float64\",\"shape\":[100]}},\"selected\":{\"id\":\"1460\"},\"selection_policy\":{\"id\":\"1459\"}},\"id\":\"1335\",\"type\":\"ColumnDataSource\"},{\"attributes\":{},\"id\":\"1476\",\"type\":\"Selection\"},{\"attributes\":{\"line_alpha\":0.1,\"line_color\":\"#bcbcff\",\"line_width\":2,\"x\":{\"field\":\"x\"},\"y\":{\"field\":\"y\"}},\"id\":\"1267\",\"type\":\"Line\"},{\"attributes\":{\"source\":{\"id\":\"1335\"}},\"id\":\"1339\",\"type\":\"CDSView\"},{\"attributes\":{},\"id\":\"1445\",\"type\":\"UnionRenderers\"},{\"attributes\":{},\"id\":\"1167\",\"type\":\"DataRange1d\"},{\"attributes\":{},\"id\":\"1186\",\"type\":\"HelpTool\"},{\"attributes\":{\"source\":{\"id\":\"1310\"}},\"id\":\"1314\",\"type\":\"CDSView\"},{\"attributes\":{},\"id\":\"1477\",\"type\":\"UnionRenderers\"},{\"attributes\":{\"data_source\":{\"id\":\"1335\"},\"glyph\":{\"id\":\"1336\"},\"hover_glyph\":null,\"muted_glyph\":null,\"nonselection_glyph\":{\"id\":\"1337\"},\"selection_glyph\":null,\"view\":{\"id\":\"1339\"}},\"id\":\"1338\",\"type\":\"GlyphRenderer\"},{\"attributes\":{\"data\":{\"x\":{\"__ndarray__\":\"AAAAAAAAAAA++OCDDz7oPz744IMPPvg/LrrooosuAkA++OCDDz4IQE422WSTTQ5ALrrooosuEkA22WSTTTYVQD744IMPPhhARhdddNFFG0BONtlkk00eQKuqqqqqqiBALrrooosuIkCyySabbLIjQDbZZJNNNiVAuuiiiy66JkA++OCDDz4oQMIHH3zwwSlARhdddNFFK0DKJptsssksQE422WSTTS5A0UUXXXTRL0CrqqqqqqowQG2yySabbDFALrrooosuMkDwwQcffPAyQLLJJptssjNAdNFFF110NEA22WSTTTY1QPjggw8++DVAuuiiiy66NkB88MEHH3w3QD744IMPPjhAAAAAAAAAOUDCBx988ME5QIQPPvjggzpARhdddNFFO0AIH3zwwQc8QMomm2yyyTxAjC666KKLPUBONtlkk00+QA8++OCDDz9A0UUXXXTRP0DKJptssklAQKuqqqqqqkBAjC666KILQUBtsskmm2xBQE422WSTzUFALrrooosuQkAPPvjgg49CQPDBBx988EJA0UUXXXRRQ0CyySabbLJDQJNNNtlkE0RAdNFFF110REBVVVVVVdVEQDbZZJNNNkVAF1100UWXRUD44IMPPvhFQNlkk002WUZAuuiiiy66RkCbbLLJJhtHQHzwwQcffEdAXXTRRRfdR0A++OCDDz5IQB988MEHn0hAAAAAAAAASUDhgw8++GBJQMIHH3zwwUlAo4suuugiSkCEDz744INKQGWTTTbZ5EpARhdddNFFS0Anm2yyyaZLQAgffPDBB0xA6aKLLrpoTEDKJptssslMQKuqqqqqKk1AjC666KKLTUBtsskmm+xNQE422WSTTU5ALrrooouuTkAPPvjggw9PQPDBBx98cE9A0UUXXXTRT0DZZJNNNhlQQMomm2yySVBAuuiiiy56UECrqqqqqqpQQJtssskm21BAjC666KILUUB88MEHHzxRQG2yySabbFFAXXTRRRedUUBONtlkk81RQD744IMP/lFALrrooosuUkAffPDBB19SQA8++OCDj1JAAAAAAADAUkA=\",\"dtype\":\"float64\",\"shape\":[100]},\"y\":{\"__ndarray__\":\"MzMzMzMzwz8sMzMzMzPDPzIzMzMzM8M/RTMzMzMzwz9AMzMzMzPDP0EzMzMzM8M/SjMzMzMzwz88MzMzMzPDP0AzMzMzM8M/RzMzMzMzwz9WMzMzMzPDP0szMzMzM8M/SzMzMzMzwz9KMzMzMzPDP0ozMzMzM8M/TzMzMzMzwz9RMzMzMzPDP1EzMzMzM8M/UjMzMzMzwz9UMzMzMzPDP1QzMzMzM8M/VDMzMzMzwz9UMzMzMzPDP1QzMzMzM8M/VDMzMzMzwz9UMzMzMzPDP1QzMzMzM8M/VDMzMzMzwz9UMzMzMzPDP1QzMzMzM8M/VDMzMzMzwz9UMzMzMzPDP1QzMzMzM8M/VDMzMzMzwz9UMzMzMzPDP1QzMzMzM8M/VDMzMzMzwz9UMzMzMzPDP1QzMzMzM8M/VDMzMzMzwz9UMzMzMzPDP1QzMzMzM8M/VDMzMzMzwz9UMzMzMzPDP1QzMzMzM8M/VDMzMzMzwz9UMzMzMzPDP1QzMzMzM8M/VDMzMzMzwz9UMzMzMzPDP1QzMzMzM8M/VDMzMzMzwz9UMzMzMzPDP1QzMzMzM8M/VDMzMzMzwz9UMzMzMzPDP1QzMzMzM8M/VDMzMzMzwz9UMzMzMzPDP1QzMzMzM8M/VDMzMzMzwz9UMzMzMzPDP1QzMzMzM8M/VDMzMzMzwz9UMzMzMzPDP1QzMzMzM8M/VDMzMzMzwz9UMzMzMzPDP1QzMzMzM8M/VDMzMzMzwz9UMzMzMzPDP1QzMzMzM8M/VDMzMzMzwz9UMzMzMzPDP1QzMzMzM8M/VDMzMzMzwz9UMzMzMzPDP1QzMzMzM8M/VDMzMzMzwz9UMzMzMzPDP1QzMzMzM8M/VDMzMzMzwz9UMzMzMzPDP1QzMzMzM8M/VDMzMzMzwz9UMzMzMzPDP1QzMzMzM8M/VDMzMzMzwz9UMzMzMzPDP1QzMzMzM8M/VDMzMzMzwz9UMzMzMzPDP1QzMzMzM8M/VDMzMzMzwz9UMzMzMzPDP1QzMzMzM8M/VDMzMzMzwz9UMzMzMzPDP1QzMzMzM8M/VDMzMzMzwz8=\",\"dtype\":\"float64\",\"shape\":[100]}},\"selected\":{\"id\":\"1446\"},\"selection_policy\":{\"id\":\"1445\"}},\"id\":\"1300\",\"type\":\"ColumnDataSource\"},{\"attributes\":{\"line_color\":\"#004489\",\"line_width\":2,\"x\":{\"field\":\"x\"},\"y\":{\"field\":\"y\"}},\"id\":\"1371\",\"type\":\"Line\"},{\"attributes\":{},\"id\":\"1446\",\"type\":\"Selection\"},{\"attributes\":{},\"id\":\"1478\",\"type\":\"Selection\"},{\"attributes\":{\"line_alpha\":0.1,\"line_color\":\"#505646\",\"line_width\":2,\"x\":{\"field\":\"x\"},\"y\":{\"field\":\"y\"}},\"id\":\"1367\",\"type\":\"Line\"},{\"attributes\":{},\"id\":\"1447\",\"type\":\"UnionRenderers\"},{\"attributes\":{},\"id\":\"1165\",\"type\":\"DataRange1d\"},{\"attributes\":{\"data_source\":{\"id\":\"1310\"},\"glyph\":{\"id\":\"1311\"},\"hover_glyph\":null,\"muted_glyph\":null,\"nonselection_glyph\":{\"id\":\"1312\"},\"selection_glyph\":null,\"view\":{\"id\":\"1314\"}},\"id\":\"1313\",\"type\":\"GlyphRenderer\"},{\"attributes\":{\"data\":{\"x\":{\"__ndarray__\":\"AAAAAAAAAAA++OCDDz7oPz744IMPPvg/LrrooosuAkA++OCDDz4IQE422WSTTQ5ALrrooosuEkA22WSTTTYVQD744IMPPhhARhdddNFFG0BONtlkk00eQKuqqqqqqiBALrrooosuIkCyySabbLIjQDbZZJNNNiVAuuiiiy66JkA++OCDDz4oQMIHH3zwwSlARhdddNFFK0DKJptsssksQE422WSTTS5A0UUXXXTRL0CrqqqqqqowQG2yySabbDFALrrooosuMkDwwQcffPAyQLLJJptssjNAdNFFF110NEA22WSTTTY1QPjggw8++DVAuuiiiy66NkB88MEHH3w3QD744IMPPjhAAAAAAAAAOUDCBx988ME5QIQPPvjggzpARhdddNFFO0AIH3zwwQc8QMomm2yyyTxAjC666KKLPUBONtlkk00+QA8++OCDDz9A0UUXXXTRP0DKJptssklAQKuqqqqqqkBAjC666KILQUBtsskmm2xBQE422WSTzUFALrrooosuQkAPPvjgg49CQPDBBx988EJA0UUXXXRRQ0CyySabbLJDQJNNNtlkE0RAdNFFF110REBVVVVVVdVEQDbZZJNNNkVAF1100UWXRUD44IMPPvhFQNlkk002WUZAuuiiiy66RkCbbLLJJhtHQHzwwQcffEdAXXTRRRfdR0A++OCDDz5IQB988MEHn0hAAAAAAAAASUDhgw8++GBJQMIHH3zwwUlAo4suuugiSkCEDz744INKQGWTTTbZ5EpARhdddNFFS0Anm2yyyaZLQAgffPDBB0xA6aKLLrpoTEDKJptssslMQKuqqqqqKk1AjC666KKLTUBtsskmm+xNQE422WSTTU5ALrrooouuTkAPPvjggw9PQPDBBx98cE9A0UUXXXTRT0DZZJNNNhlQQMomm2yySVBAuuiiiy56UECrqqqqqqpQQJtssskm21BAjC666KILUUB88MEHHzxRQG2yySabbFFAXXTRRRedUUBONtlkk81RQD744IMP/lFALrrooosuUkAffPDBB19SQA8++OCDj1JAAAAAAADAUkA=\",\"dtype\":\"float64\",\"shape\":[100]},\"y\":{\"__ndarray__\":\"MzMzMzMzwz8lNDMzMzPDPxo0MzMzM8M/1zMzMzMzwz/XMzMzMzPDP9czMzMzM8M/1zMzMzMzwz/XMzMzMzPDP9czMzMzM8M/1zMzMzMzwz/XMzMzMzPDP9czMzMzM8M/1zMzMzMzwz/XMzMzMzPDP9czMzMzM8M/1zMzMzMzwz/XMzMzMzPDP9czMzMzM8M/1zMzMzMzwz/XMzMzMzPDP9czMzMzM8M/1zMzMzMzwz/XMzMzMzPDP9czMzMzM8M/1zMzMzMzwz/XMzMzMzPDP9czMzMzM8M/1zMzMzMzwz/XMzMzMzPDP9czMzMzM8M/1zMzMzMzwz/XMzMzMzPDP9czMzMzM8M/1zMzMzMzwz/XMzMzMzPDP9czMzMzM8M/1zMzMzMzwz/XMzMzMzPDP9czMzMzM8M/1zMzMzMzwz/XMzMzMzPDP9czMzMzM8M/1zMzMzMzwz/XMzMzMzPDP9czMzMzM8M/1zMzMzMzwz/XMzMzMzPDP9czMzMzM8M/1zMzMzMzwz/XMzMzMzPDP9czMzMzM8M/1zMzMzMzwz/XMzMzMzPDP9czMzMzM8M/1zMzMzMzwz/XMzMzMzPDP9czMzMzM8M/1zMzMzMzwz/XMzMzMzPDP9czMzMzM8M/1zMzMzMzwz/XMzMzMzPDP9czMzMzM8M/1zMzMzMzwz/XMzMzMzPDP9czMzMzM8M/1zMzMzMzwz/XMzMzMzPDP9czMzMzM8M/1zMzMzMzwz/XMzMzMzPDP9czMzMzM8M/1zMzMzMzwz/XMzMzMzPDP9czMzMzM8M/1zMzMzMzwz/XMzMzMzPDP9czMzMzM8M/1zMzMzMzwz/XMzMzMzPDP9czMzMzM8M/1zMzMzMzwz/XMzMzMzPDP9czMzMzM8M/1zMzMzMzwz/XMzMzMzPDP9czMzMzM8M/1zMzMzMzwz/XMzMzMzPDP9czMzMzM8M/1zMzMzMzwz/XMzMzMzPDP9czMzMzM8M/1zMzMzMzwz/XMzMzMzPDP9czMzMzM8M/1zMzMzMzwz/XMzMzMzPDP9czMzMzM8M/1zMzMzMzwz8=\",\"dtype\":\"float64\",\"shape\":[100]}},\"selected\":{\"id\":\"1404\"},\"selection_policy\":{\"id\":\"1403\"}},\"id\":\"1195\",\"type\":\"ColumnDataSource\"},{\"attributes\":{\"line_color\":\"#5b3400\",\"line_width\":2,\"x\":{\"field\":\"x\"},\"y\":{\"field\":\"y\"}},\"id\":\"1341\",\"type\":\"Line\"},{\"attributes\":{\"data\":{\"x\":{\"__ndarray__\":\"AAAAAAAAAAA++OCDDz7oPz744IMPPvg/LrrooosuAkA++OCDDz4IQE422WSTTQ5ALrrooosuEkA22WSTTTYVQD744IMPPhhARhdddNFFG0BONtlkk00eQKuqqqqqqiBALrrooosuIkCyySabbLIjQDbZZJNNNiVAuuiiiy66JkA++OCDDz4oQMIHH3zwwSlARhdddNFFK0DKJptsssksQE422WSTTS5A0UUXXXTRL0CrqqqqqqowQG2yySabbDFALrrooosuMkDwwQcffPAyQLLJJptssjNAdNFFF110NEA22WSTTTY1QPjggw8++DVAuuiiiy66NkB88MEHH3w3QD744IMPPjhAAAAAAAAAOUDCBx988ME5QIQPPvjggzpARhdddNFFO0AIH3zwwQc8QMomm2yyyTxAjC666KKLPUBONtlkk00+QA8++OCDDz9A0UUXXXTRP0DKJptssklAQKuqqqqqqkBAjC666KILQUBtsskmm2xBQE422WSTzUFALrrooosuQkAPPvjgg49CQPDBBx988EJA0UUXXXRRQ0CyySabbLJDQJNNNtlkE0RAdNFFF110REBVVVVVVdVEQDbZZJNNNkVAF1100UWXRUD44IMPPvhFQNlkk002WUZAuuiiiy66RkCbbLLJJhtHQHzwwQcffEdAXXTRRRfdR0A++OCDDz5IQB988MEHn0hAAAAAAAAASUDhgw8++GBJQMIHH3zwwUlAo4suuugiSkCEDz744INKQGWTTTbZ5EpARhdddNFFS0Anm2yyyaZLQAgffPDBB0xA6aKLLrpoTEDKJptssslMQKuqqqqqKk1AjC666KKLTUBtsskmm+xNQE422WSTTU5ALrrooouuTkAPPvjggw9PQPDBBx98cE9A0UUXXXTRT0DZZJNNNhlQQMomm2yySVBAuuiiiy56UECrqqqqqqpQQJtssskm21BAjC666KILUUB88MEHHzxRQG2yySabbFFAXXTRRRedUUBONtlkk81RQD744IMP/lFALrrooosuUkAffPDBB19SQA8++OCDj1JAAAAAAADAUkA=\",\"dtype\":\"float64\",\"shape\":[100]},\"y\":{\"__ndarray__\":\"AAAAAAAAAEAt2VeOVp2aP0NSgMciTKE/GPQ/fd8bjj/WOmf21ACOP7RHyY2Y/I0/YF7PKZb7jT/LFCC48/uNPy7vVoh8/Y0/98CdgZEAjj8uCzWvSwaOPySz47hUEY4/top7Kbsojj+FY4ttsGeOP+mIig0xzY4/LxBTNbwdjz/9EqbMdkaPPzPTV2gISo8/1J2By9Uvjz9pFQ0Mq/+OP+zV25pqwI4/xvfLyK13jj9zT+flxSmOP/Vglp/m2Y0/s8u41liKjT/2KBIRsDyNP+tBVI318Yw/+I12Oc2qjD/q0VDekWeMP37px7NqKIw/k0Y+R1rtiz+fOb9HTLaLP7bBX9wbg4s/Zq7E/ppTiz/Xb0LDlSeLP2Dal0jW/oo/QJWm0SXZij8fa8H8TraKP9KQNR8eloo/uoN+0WF4ij85TUIK6VyKP7M1fnuPQ4o/FFFn1SQsij+9DRR8hRaKP1E6dR2OAoo/D/nV/h3wiT/odEHcFt+JPwFjz79cz4k/duRS29XAiT/LZ1hiarOJP/ldCGMEp4k/ZAvJo4+biT9dxHWB+ZCJP1FLZs8wh4k/sof0uSV+iT8bsi+syXWJP6pY0DcPbok/nZDy7OlmiT/6s8dWTmCJP6SZ6j4yWok/XdjZPIxUiT+Jcb6fUU+JP6wWWbR7Sok/kEg5qAJGiT+hvoVJ30GJP/8CdhsLPok/XTUbIIA6iT+9CI3PODeJP9Jaiw4wNIk/I52YJWExiT8ZDU65xy6JP5kKkcNfLIk/e6KxjCUqiT/oMzWlFSiJP1JOWOAsJok/oL8HT2gkiT+pfBQ7xSKJPzC7wSJBIYk/25zFtNkfiT86HZvMjB6JP1gHEG9YHYk/bE9MxzociT8teUgjMhuJP7aB3PI8Gok/TjuQwFkZiT+Pdeo7hxiJP0os/RXEF4k/v+NqVw8XiT8V5fl2ZxaJP0iXiufMFYk/HKC3KjwViT9p4OSUthSJP46YTLE6FIk/5wAyyscTiT+yVfQ0XROJP4VBuFP6Eok/DIrIlJ4SiT+E3PlwSRKJPx5CX2v6EYk/PjBpELERiT8=\",\"dtype\":\"float64\",\"shape\":[100]}},\"selected\":{\"id\":\"1474\"},\"selection_policy\":{\"id\":\"1473\"}},\"id\":\"1370\",\"type\":\"ColumnDataSource\"},{\"attributes\":{},\"id\":\"1448\",\"type\":\"Selection\"},{\"attributes\":{\"line_color\":\"#93fbff\",\"line_width\":2,\"x\":{\"field\":\"x\"},\"y\":{\"field\":\"y\"}},\"id\":\"1316\",\"type\":\"Line\"},{\"attributes\":{\"line_alpha\":0.1,\"line_color\":\"#ac8944\",\"line_width\":2,\"x\":{\"field\":\"x\"},\"y\":{\"field\":\"y\"}},\"id\":\"1337\",\"type\":\"Line\"},{\"attributes\":{\"source\":{\"id\":\"1370\"}},\"id\":\"1374\",\"type\":\"CDSView\"},{\"attributes\":{},\"id\":\"1449\",\"type\":\"UnionRenderers\"},{\"attributes\":{\"data_source\":{\"id\":\"1370\"},\"glyph\":{\"id\":\"1371\"},\"hover_glyph\":null,\"muted_glyph\":null,\"nonselection_glyph\":{\"id\":\"1372\"},\"selection_glyph\":null,\"view\":{\"id\":\"1374\"}},\"id\":\"1373\",\"type\":\"GlyphRenderer\"},{\"attributes\":{\"data\":{\"x\":{\"__ndarray__\":\"AAAAAAAAAAA++OCDDz7oPz744IMPPvg/LrrooosuAkA++OCDDz4IQE422WSTTQ5ALrrooosuEkA22WSTTTYVQD744IMPPhhARhdddNFFG0BONtlkk00eQKuqqqqqqiBALrrooosuIkCyySabbLIjQDbZZJNNNiVAuuiiiy66JkA++OCDDz4oQMIHH3zwwSlARhdddNFFK0DKJptsssksQE422WSTTS5A0UUXXXTRL0CrqqqqqqowQG2yySabbDFALrrooosuMkDwwQcffPAyQLLJJptssjNAdNFFF110NEA22WSTTTY1QPjggw8++DVAuuiiiy66NkB88MEHH3w3QD744IMPPjhAAAAAAAAAOUDCBx988ME5QIQPPvjggzpARhdddNFFO0AIH3zwwQc8QMomm2yyyTxAjC666KKLPUBONtlkk00+QA8++OCDDz9A0UUXXXTRP0DKJptssklAQKuqqqqqqkBAjC666KILQUBtsskmm2xBQE422WSTzUFALrrooosuQkAPPvjgg49CQPDBBx988EJA0UUXXXRRQ0CyySabbLJDQJNNNtlkE0RAdNFFF110REBVVVVVVdVEQDbZZJNNNkVAF1100UWXRUD44IMPPvhFQNlkk002WUZAuuiiiy66RkCbbLLJJhtHQHzwwQcffEdAXXTRRRfdR0A++OCDDz5IQB988MEHn0hAAAAAAAAASUDhgw8++GBJQMIHH3zwwUlAo4suuugiSkCEDz744INKQGWTTTbZ5EpARhdddNFFS0Anm2yyyaZLQAgffPDBB0xA6aKLLrpoTEDKJptssslMQKuqqqqqKk1AjC666KKLTUBtsskmm+xNQE422WSTTU5ALrrooouuTkAPPvjggw9PQPDBBx98cE9A0UUXXXTRT0DZZJNNNhlQQMomm2yySVBAuuiiiy56UECrqqqqqqpQQJtssskm21BAjC666KILUUB88MEHHzxRQG2yySabbFFAXXTRRRedUUBONtlkk81RQD744IMP/lFALrrooosuUkAffPDBB19SQA8++OCDj1JAAAAAAADAUkA=\",\"dtype\":\"float64\",\"shape\":[100]},\"y\":{\"__ndarray__\":\"MzMzMzMzwz81MzMzMzPDPzAzMzMzM8M/HTMzMzMzwz8TMzMzMzPDPwYzMzMzM8M/ATMzMzMzwz/8MjMzMzPDP/8yMzMzM8M/AjMzMzMzwz8DMzMzMzPDPwQzMzMzM8M/AzMzMzMzwz8FMzMzMzPDPwUzMzMzM8M/AjMzMzMzwz8AMzMzMzPDPwEzMzMzM8M/AjMzMzMzwz/+MjMzMzPDP/UyMzMzM8M/7jIzMzMzwz/uMjMzMzPDP+4yMzMzM8M/7jIzMzMzwz/wMjMzMzPDP/AyMzMzM8M/8DIzMzMzwz/wMjMzMzPDP+8yMzMzM8M/7zIzMzMzwz/vMjMzMzPDP/AyMzMzM8M/8DIzMzMzwz/wMjMzMzPDP/AyMzMzM8M/8DIzMzMzwz/wMjMzMzPDP/AyMzMzM8M/8DIzMzMzwz/wMjMzMzPDP/AyMzMzM8M/8DIzMzMzwz/wMjMzMzPDP/AyMzMzM8M/8DIzMzMzwz/wMjMzMzPDP/AyMzMzM8M/8DIzMzMzwz/wMjMzMzPDP/AyMzMzM8M/8DIzMzMzwz/wMjMzMzPDP/AyMzMzM8M/8DIzMzMzwz/wMjMzMzPDP/AyMzMzM8M/8DIzMzMzwz/wMjMzMzPDP/AyMzMzM8M/8DIzMzMzwz/wMjMzMzPDP/AyMzMzM8M/8DIzMzMzwz/wMjMzMzPDP/AyMzMzM8M/8DIzMzMzwz/wMjMzMzPDP/AyMzMzM8M/8DIzMzMzwz/wMjMzMzPDP/AyMzMzM8M/8DIzMzMzwz/wMjMzMzPDP/AyMzMzM8M/8DIzMzMzwz/wMjMzMzPDP/AyMzMzM8M/8DIzMzMzwz/wMjMzMzPDP/AyMzMzM8M/8DIzMzMzwz/wMjMzMzPDP/AyMzMzM8M/8DIzMzMzwz/wMjMzMzPDP/AyMzMzM8M/8DIzMzMzwz/wMjMzMzPDP/AyMzMzM8M/8DIzMzMzwz/wMjMzMzPDP/AyMzMzM8M/8DIzMzMzwz/wMjMzMzPDP/AyMzMzM8M/8DIzMzMzwz/wMjMzMzPDP/AyMzMzM8M/8DIzMzMzwz8=\",\"dtype\":\"float64\",\"shape\":[100]}},\"selected\":{\"id\":\"1462\"},\"selection_policy\":{\"id\":\"1461\"}},\"id\":\"1340\",\"type\":\"ColumnDataSource\"},{\"attributes\":{\"source\":{\"id\":\"1340\"}},\"id\":\"1344\",\"type\":\"CDSView\"},{\"attributes\":{},\"id\":\"1450\",\"type\":\"Selection\"},{\"attributes\":{},\"id\":\"1169\",\"type\":\"LinearScale\"},{\"attributes\":{\"line_alpha\":0.1,\"line_color\":\"#564964\",\"line_width\":2,\"x\":{\"field\":\"x\"},\"y\":{\"field\":\"y\"}},\"id\":\"1307\",\"type\":\"Line\"},{\"attributes\":{},\"id\":\"1466\",\"type\":\"Selection\"},{\"attributes\":{\"data_source\":{\"id\":\"1340\"},\"glyph\":{\"id\":\"1341\"},\"hover_glyph\":null,\"muted_glyph\":null,\"nonselection_glyph\":{\"id\":\"1342\"},\"selection_glyph\":null,\"view\":{\"id\":\"1344\"}},\"id\":\"1343\",\"type\":\"GlyphRenderer\"},{\"attributes\":{\"line_color\":\"#ffbf60\",\"line_width\":2,\"x\":{\"field\":\"x\"},\"y\":{\"field\":\"y\"}},\"id\":\"1376\",\"type\":\"Line\"},{\"attributes\":{},\"id\":\"1451\",\"type\":\"UnionRenderers\"},{\"attributes\":{\"line_alpha\":0.1,\"line_color\":\"#2ba02b\",\"line_width\":2,\"x\":{\"field\":\"x\"},\"y\":{\"field\":\"y\"}},\"id\":\"1207\",\"type\":\"Line\"},{\"attributes\":{\"line_alpha\":0.1,\"line_color\":\"#bcbc21\",\"line_width\":2,\"x\":{\"field\":\"x\"},\"y\":{\"field\":\"y\"}},\"id\":\"1237\",\"type\":\"Line\"},{\"attributes\":{\"line_alpha\":0.1,\"line_color\":\"#004489\",\"line_width\":2,\"x\":{\"field\":\"x\"},\"y\":{\"field\":\"y\"}},\"id\":\"1372\",\"type\":\"Line\"},{\"attributes\":{},\"id\":\"1452\",\"type\":\"Selection\"},{\"attributes\":{\"axis\":{\"id\":\"1173\"},\"ticker\":null},\"id\":\"1176\",\"type\":\"Grid\"},{\"attributes\":{\"line_color\":\"#ffbff2\",\"line_width\":2,\"x\":{\"field\":\"x\"},\"y\":{\"field\":\"y\"}},\"id\":\"1346\",\"type\":\"Line\"},{\"attributes\":{\"data\":{\"x\":{\"__ndarray__\":\"AAAAAAAAAAA++OCDDz7oPz744IMPPvg/LrrooosuAkA++OCDDz4IQE422WSTTQ5ALrrooosuEkA22WSTTTYVQD744IMPPhhARhdddNFFG0BONtlkk00eQKuqqqqqqiBALrrooosuIkCyySabbLIjQDbZZJNNNiVAuuiiiy66JkA++OCDDz4oQMIHH3zwwSlARhdddNFFK0DKJptsssksQE422WSTTS5A0UUXXXTRL0CrqqqqqqowQG2yySabbDFALrrooosuMkDwwQcffPAyQLLJJptssjNAdNFFF110NEA22WSTTTY1QPjggw8++DVAuuiiiy66NkB88MEHH3w3QD744IMPPjhAAAAAAAAAOUDCBx988ME5QIQPPvjggzpARhdddNFFO0AIH3zwwQc8QMomm2yyyTxAjC666KKLPUBONtlkk00+QA8++OCDDz9A0UUXXXTRP0DKJptssklAQKuqqqqqqkBAjC666KILQUBtsskmm2xBQE422WSTzUFALrrooosuQkAPPvjgg49CQPDBBx988EJA0UUXXXRRQ0CyySabbLJDQJNNNtlkE0RAdNFFF110REBVVVVVVdVEQDbZZJNNNkVAF1100UWXRUD44IMPPvhFQNlkk002WUZAuuiiiy66RkCbbLLJJhtHQHzwwQcffEdAXXTRRRfdR0A++OCDDz5IQB988MEHn0hAAAAAAAAASUDhgw8++GBJQMIHH3zwwUlAo4suuugiSkCEDz744INKQGWTTTbZ5EpARhdddNFFS0Anm2yyyaZLQAgffPDBB0xA6aKLLrpoTEDKJptssslMQKuqqqqqKk1AjC666KKLTUBtsskmm+xNQE422WSTTU5ALrrooouuTkAPPvjggw9PQPDBBx98cE9A0UUXXXTRT0DZZJNNNhlQQMomm2yySVBAuuiiiy56UECrqqqqqqpQQJtssskm21BAjC666KILUUB88MEHHzxRQG2yySabbFFAXXTRRRedUUBONtlkk81RQD744IMP/lFALrrooosuUkAffPDBB19SQA8++OCDj1JAAAAAAADAUkA=\",\"dtype\":\"float64\",\"shape\":[100]},\"y\":{\"__ndarray__\":\"AAAAAAAAAAAM1+5/cODDP1XnHIv+Be8/6WR3wsj7+z86SNFM2wD8P3ubbrP0//s/8cE0iOH9+z+qpQu80Pr7PzQWRYNB9vs/pyJkdOju+z8NiBeMXuH7PwMrr4aUwvs/5thsSCpo+z/c73NWOnL6P5tmiyVY5Pg/XSK9tcwV9z9L4rrDlTT1P5KXB43sWPM/7BdLHJ2R8T9kdpAYyc7vP3kjcRBSvew/zRlgWpLx6T+OPKQcT2rnP1tDxIzpI+U/RpCW534Z4z+nyiwFqEXhP/m19qHlRd8/ZY3FC1JY3D9dhCJ/67jZP0QDYvTrXtc/QdEd0nZC1T8SXb8FkVzTPw4zSmAQp9E/9OKYDYgc0D8CvSIjaHDNP51QVljK68o/VuxP8N2jyD83zcLSLZLGP5vGRXgLscQ/xMdhEHX7wj8M5201/2zBP23k6DXAAcA/azS9b4NsvT+3VQM23w67Px4gepgZ5bg/BdOfHVDqtj9kWYuLJRq1Py5QrnqxcLM/tsvkxnLqsT/F4QcsQ4SwP0TvbruZdq4/RvYa0wIarD9lS6F+I+6pPwOCOVzO7qc/abviwDoYpj8xKJb7+WakP2H/kOzt16I/9CvsqkBooT+5VvBBXRWgPw3WtGvUuZ0/agmWDoB5mz8UV/gK1WWZP2PTBDU8e5c/MihYIm62lT/g+C20aRSUP25ucstukpI/PWKtSvctkT9h8N0DZcmPP9qym6wAaY0/pznymtk2iz+SOuLDWC+JP2fXAjkxT4c/1CmjlFmThT8Hms1EBvmDP+te5GmkfYI/MD3aK9UegT9C/cLN0rR/P3oL13O7XH0/ATwZ3K0xez/XdT6LPTB5Pw3F1PVBVXc/5OzyH9GddT/0X/R9Ogd0P+4KloYCj3I/B/7YVt4ycT+0JodYYOFvP0Tlh4MGjW0/lAFA9RNlaz+E4J+3LmZpP1P+0ZBMjWc/34+pAIDXZT/e1mBdN0JkP/PNNo7/ymI/LTGWr5ZvYT/IBuJb6S1gPzjhYOMVCF4/tsrkH2jgWz+vxnxif+FZP7xyfF1RCFg/ccvADg5SVj8=\",\"dtype\":\"float64\",\"shape\":[100]}},\"selected\":{\"id\":\"1476\"},\"selection_policy\":{\"id\":\"1475\"}},\"id\":\"1375\",\"type\":\"ColumnDataSource\"},{\"attributes\":{},\"id\":\"1453\",\"type\":\"UnionRenderers\"},{\"attributes\":{\"data\":{\"x\":{\"__ndarray__\":\"AAAAAAAAAAA++OCDDz7oPz744IMPPvg/LrrooosuAkA++OCDDz4IQE422WSTTQ5ALrrooosuEkA22WSTTTYVQD744IMPPhhARhdddNFFG0BONtlkk00eQKuqqqqqqiBALrrooosuIkCyySabbLIjQDbZZJNNNiVAuuiiiy66JkA++OCDDz4oQMIHH3zwwSlARhdddNFFK0DKJptsssksQE422WSTTS5A0UUXXXTRL0CrqqqqqqowQG2yySabbDFALrrooosuMkDwwQcffPAyQLLJJptssjNAdNFFF110NEA22WSTTTY1QPjggw8++DVAuuiiiy66NkB88MEHH3w3QD744IMPPjhAAAAAAAAAOUDCBx988ME5QIQPPvjggzpARhdddNFFO0AIH3zwwQc8QMomm2yyyTxAjC666KKLPUBONtlkk00+QA8++OCDDz9A0UUXXXTRP0DKJptssklAQKuqqqqqqkBAjC666KILQUBtsskmm2xBQE422WSTzUFALrrooosuQkAPPvjgg49CQPDBBx988EJA0UUXXXRRQ0CyySabbLJDQJNNNtlkE0RAdNFFF110REBVVVVVVdVEQDbZZJNNNkVAF1100UWXRUD44IMPPvhFQNlkk002WUZAuuiiiy66RkCbbLLJJhtHQHzwwQcffEdAXXTRRRfdR0A++OCDDz5IQB988MEHn0hAAAAAAAAASUDhgw8++GBJQMIHH3zwwUlAo4suuugiSkCEDz744INKQGWTTTbZ5EpARhdddNFFS0Anm2yyyaZLQAgffPDBB0xA6aKLLrpoTEDKJptssslMQKuqqqqqKk1AjC666KKLTUBtsskmm+xNQE422WSTTU5ALrrooouuTkAPPvjggw9PQPDBBx98cE9A0UUXXXTRT0DZZJNNNhlQQMomm2yySVBAuuiiiy56UECrqqqqqqpQQJtssskm21BAjC666KILUUB88MEHHzxRQG2yySabbFFAXXTRRRedUUBONtlkk81RQD744IMP/lFALrrooosuUkAffPDBB19SQA8++OCDj1JAAAAAAADAUkA=\",\"dtype\":\"float64\",\"shape\":[100]},\"y\":{\"__ndarray__\":\"MzMzMzMzwz85MzMzMzPDP1UzMzMzM8M/hjczMzMzwz9FNjMzMzPDP5k2MzMzM8M/SjczMzMzwz/mNjMzMzPDP4M2MzMzM8M/SjYzMzMzwz8oNjMzMzPDP4c0MzMzM8M/YCgzMzMzwz9gKTMzMzPDP+QpMzMzM8M/ESozMzMzwz8pKTMzMzPDPykpMzMzM8M/LykzMzMzwz/VKDMzMzPDP7ooMzMzM8M/gSgzMzMzwz+FKDMzMzPDP38oMzMzM8M/fygzMzMzwz+FKDMzMzPDP4MoMzMzM8M/gigzMzMzwz+CKDMzMzPDP4EoMzMzM8M/gSgzMzMzwz+BKDMzMzPDP4IoMzMzM8M/gigzMzMzwz+CKDMzMzPDP4IoMzMzM8M/gigzMzMzwz+CKDMzMzPDP4IoMzMzM8M/gigzMzMzwz+CKDMzMzPDP4IoMzMzM8M/gigzMzMzwz+CKDMzMzPDP4IoMzMzM8M/gigzMzMzwz+CKDMzMzPDP4IoMzMzM8M/gigzMzMzwz+CKDMzMzPDP4IoMzMzM8M/gigzMzMzwz+CKDMzMzPDP4IoMzMzM8M/gigzMzMzwz+CKDMzMzPDP4IoMzMzM8M/gigzMzMzwz+CKDMzMzPDP4IoMzMzM8M/gigzMzMzwz+CKDMzMzPDP4IoMzMzM8M/gigzMzMzwz+CKDMzMzPDP4IoMzMzM8M/gigzMzMzwz+CKDMzMzPDP4IoMzMzM8M/gigzMzMzwz+CKDMzMzPDP4IoMzMzM8M/gigzMzMzwz+CKDMzMzPDP4IoMzMzM8M/gigzMzMzwz+CKDMzMzPDP4IoMzMzM8M/gigzMzMzwz+CKDMzMzPDP4IoMzMzM8M/gigzMzMzwz+CKDMzMzPDP4IoMzMzM8M/gigzMzMzwz+CKDMzMzPDP4IoMzMzM8M/gigzMzMzwz+CKDMzMzPDP4IoMzMzM8M/gigzMzMzwz+CKDMzMzPDP4IoMzMzM8M/gigzMzMzwz+CKDMzMzPDP4IoMzMzM8M/gigzMzMzwz+CKDMzMzPDP4IoMzMzM8M/gigzMzMzwz8=\",\"dtype\":\"float64\",\"shape\":[100]}},\"selected\":{\"id\":\"1450\"},\"selection_policy\":{\"id\":\"1449\"}},\"id\":\"1310\",\"type\":\"ColumnDataSource\"},{\"attributes\":{\"line_alpha\":0.1,\"line_color\":\"#5b3400\",\"line_width\":2,\"x\":{\"field\":\"x\"},\"y\":{\"field\":\"y\"}},\"id\":\"1342\",\"type\":\"Line\"},{\"attributes\":{\"source\":{\"id\":\"1375\"}},\"id\":\"1379\",\"type\":\"CDSView\"},{\"attributes\":{\"data_source\":{\"id\":\"1315\"},\"glyph\":{\"id\":\"1316\"},\"hover_glyph\":null,\"muted_glyph\":null,\"nonselection_glyph\":{\"id\":\"1317\"},\"selection_glyph\":null,\"view\":{\"id\":\"1319\"}},\"id\":\"1318\",\"type\":\"GlyphRenderer\"},{\"attributes\":{},\"id\":\"1454\",\"type\":\"Selection\"},{\"attributes\":{\"data_source\":{\"id\":\"1375\"},\"glyph\":{\"id\":\"1376\"},\"hover_glyph\":null,\"muted_glyph\":null,\"nonselection_glyph\":{\"id\":\"1377\"},\"selection_glyph\":null,\"view\":{\"id\":\"1379\"}},\"id\":\"1378\",\"type\":\"GlyphRenderer\"},{\"attributes\":{},\"id\":\"1184\",\"type\":\"SaveTool\"},{\"attributes\":{\"data\":{\"x\":{\"__ndarray__\":\"AAAAAAAAAAA++OCDDz7oPz744IMPPvg/LrrooosuAkA++OCDDz4IQE422WSTTQ5ALrrooosuEkA22WSTTTYVQD744IMPPhhARhdddNFFG0BONtlkk00eQKuqqqqqqiBALrrooosuIkCyySabbLIjQDbZZJNNNiVAuuiiiy66JkA++OCDDz4oQMIHH3zwwSlARhdddNFFK0DKJptsssksQE422WSTTS5A0UUXXXTRL0CrqqqqqqowQG2yySabbDFALrrooosuMkDwwQcffPAyQLLJJptssjNAdNFFF110NEA22WSTTTY1QPjggw8++DVAuuiiiy66NkB88MEHH3w3QD744IMPPjhAAAAAAAAAOUDCBx988ME5QIQPPvjggzpARhdddNFFO0AIH3zwwQc8QMomm2yyyTxAjC666KKLPUBONtlkk00+QA8++OCDDz9A0UUXXXTRP0DKJptssklAQKuqqqqqqkBAjC666KILQUBtsskmm2xBQE422WSTzUFALrrooosuQkAPPvjgg49CQPDBBx988EJA0UUXXXRRQ0CyySabbLJDQJNNNtlkE0RAdNFFF110REBVVVVVVdVEQDbZZJNNNkVAF1100UWXRUD44IMPPvhFQNlkk002WUZAuuiiiy66RkCbbLLJJhtHQHzwwQcffEdAXXTRRRfdR0A++OCDDz5IQB988MEHn0hAAAAAAAAASUDhgw8++GBJQMIHH3zwwUlAo4suuugiSkCEDz744INKQGWTTTbZ5EpARhdddNFFS0Anm2yyyaZLQAgffPDBB0xA6aKLLrpoTEDKJptssslMQKuqqqqqKk1AjC666KKLTUBtsskmm+xNQE422WSTTU5ALrrooouuTkAPPvjggw9PQPDBBx98cE9A0UUXXXTRT0DZZJNNNhlQQMomm2yySVBAuuiiiy56UECrqqqqqqpQQJtssskm21BAjC666KILUUB88MEHHzxRQG2yySabbFFAXXTRRRedUUBONtlkk81RQD744IMP/lFALrrooosuUkAffPDBB19SQA8++OCDj1JAAAAAAADAUkA=\",\"dtype\":\"float64\",\"shape\":[100]},\"y\":{\"__ndarray__\":\"AAAAAAAAAABlKIhIVoG4P65ZRXn55QlAyvwTytFmFUByjAPXawIEQDskjxQXVvE/Jy7l9C1P5T8yFvJPS33iPyTU2VM9WuI/tiJHVH+v4j8nvidYnejiP0zFGL+2u+I/7Gg66xmF4T+58FvyHwLcP9X/pBtuuNE/np4aKx0Zwz8rOEPevs+zP6AzpIPop6U/XvOY9nMFmj9iN0TpazORP3wXTOuDiog/hTDLiSl/gj+0jmAqx/58P1/hCsFvY3c/QG0LRhlJcz/jdappCS9wP5YihNxTjms/e3K2N+y+Zz84sBwTAK1kP8eP2qhSKmI/NxChKAQWYD8jo27ATbBcP8zlBw7uvVk/GGI+5RM6Vz9s4nznKRBVP/fF4GMvMFM/ZRL6IIyNUT9Nax2SOh5QP0gxoitYtE0/loUuUa91Sz9Axj1yyXVJPw8va8bVq0c/7/wyHoIQRj8/oT5rr51EP4uJBS04TkM/jleIOsEdQj9dN3o/lghBPzOaWPOLC0A/y89Iz9NHPj8vEsL2rZ48PxURlUKUFzs/6wOHbPyuOT9gk37ozmE4PyGdrrtVLTc/Ty2jvi4PNj+6R+OyPwU1PyHlCDasDTQ/hhZXcc0mMz+glwkSK08yP/0MdkV1hTE/3tCfn3/IMD/jPzewPBcwPyqi0ol04S4/+SALTjyoLT9weOx/RoEsP5JET+kuays/WSpsTLJkKj9Fdho9q2wpP9L5Oc0Ogig/dlqdkOmjJz9FNTVTXdEmP7vnjfyeCSY/VOHBefRLJT/jiNUPs5ckP/3R5+497CM/KJze3gRJIz9BDSn/gq0iP/GPqrg9GSI/4UaP0sOLIT9GnOCYrAQhP2jgpiGXgyA/ej7dkCkIID9sGyMNISQfP3Pu0g39QR4/4UCyEVdpHT/wkKrtqJkcP7AvnqN10hs/25bijkgTGz8c2c/OtFsaP1k7NJhUqxk/XeodusgBGT8OopAWuF4YP601GSHPwRc/T2hUgb8qFz8wHSK6P5kWP82EQbMKDRY/7Hyyf9+FFT/M//gIgQMVP77cv9G1hRQ/mchQrUcMFD8=\",\"dtype\":\"float64\",\"shape\":[100]}},\"selected\":{\"id\":\"1464\"},\"selection_policy\":{\"id\":\"1463\"}},\"id\":\"1345\",\"type\":\"ColumnDataSource\"},{\"attributes\":{\"line_color\":\"#d62628\",\"line_width\":2,\"x\":{\"field\":\"x\"},\"y\":{\"field\":\"y\"}},\"id\":\"1211\",\"type\":\"Line\"},{\"attributes\":{\"source\":{\"id\":\"1295\"}},\"id\":\"1299\",\"type\":\"CDSView\"},{\"attributes\":{\"source\":{\"id\":\"1345\"}},\"id\":\"1349\",\"type\":\"CDSView\"},{\"attributes\":{},\"id\":\"1455\",\"type\":\"UnionRenderers\"},{\"attributes\":{\"text\":\"Reduced Model 5\"},\"id\":\"1163\",\"type\":\"Title\"},{\"attributes\":{\"data_source\":{\"id\":\"1195\"},\"glyph\":{\"id\":\"1196\"},\"hover_glyph\":null,\"muted_glyph\":null,\"nonselection_glyph\":{\"id\":\"1197\"},\"selection_glyph\":null,\"view\":{\"id\":\"1199\"}},\"id\":\"1198\",\"type\":\"GlyphRenderer\"},{\"attributes\":{\"data_source\":{\"id\":\"1345\"},\"glyph\":{\"id\":\"1346\"},\"hover_glyph\":null,\"muted_glyph\":null,\"nonselection_glyph\":{\"id\":\"1347\"},\"selection_glyph\":null,\"view\":{\"id\":\"1349\"}},\"id\":\"1348\",\"type\":\"GlyphRenderer\"},{\"attributes\":{\"line_color\":\"#ff018c\",\"line_width\":2,\"x\":{\"field\":\"x\"},\"y\":{\"field\":\"y\"}},\"id\":\"1381\",\"type\":\"Line\"},{\"attributes\":{},\"id\":\"1456\",\"type\":\"Selection\"},{\"attributes\":{},\"id\":\"1182\",\"type\":\"WheelZoomTool\"},{\"attributes\":{\"data\":{\"x\":{\"__ndarray__\":\"AAAAAAAAAAA++OCDDz7oPz744IMPPvg/LrrooosuAkA++OCDDz4IQE422WSTTQ5ALrrooosuEkA22WSTTTYVQD744IMPPhhARhdddNFFG0BONtlkk00eQKuqqqqqqiBALrrooosuIkCyySabbLIjQDbZZJNNNiVAuuiiiy66JkA++OCDDz4oQMIHH3zwwSlARhdddNFFK0DKJptsssksQE422WSTTS5A0UUXXXTRL0CrqqqqqqowQG2yySabbDFALrrooosuMkDwwQcffPAyQLLJJptssjNAdNFFF110NEA22WSTTTY1QPjggw8++DVAuuiiiy66NkB88MEHH3w3QD744IMPPjhAAAAAAAAAOUDCBx988ME5QIQPPvjggzpARhdddNFFO0AIH3zwwQc8QMomm2yyyTxAjC666KKLPUBONtlkk00+QA8++OCDDz9A0UUXXXTRP0DKJptssklAQKuqqqqqqkBAjC666KILQUBtsskmm2xBQE422WSTzUFALrrooosuQkAPPvjgg49CQPDBBx988EJA0UUXXXRRQ0CyySabbLJDQJNNNtlkE0RAdNFFF110REBVVVVVVdVEQDbZZJNNNkVAF1100UWXRUD44IMPPvhFQNlkk002WUZAuuiiiy66RkCbbLLJJhtHQHzwwQcffEdAXXTRRRfdR0A++OCDDz5IQB988MEHn0hAAAAAAAAASUDhgw8++GBJQMIHH3zwwUlAo4suuugiSkCEDz744INKQGWTTTbZ5EpARhdddNFFS0Anm2yyyaZLQAgffPDBB0xA6aKLLrpoTEDKJptssslMQKuqqqqqKk1AjC666KKLTUBtsskmm+xNQE422WSTTU5ALrrooouuTkAPPvjggw9PQPDBBx98cE9A0UUXXXTRT0DZZJNNNhlQQMomm2yySVBAuuiiiy56UECrqqqqqqpQQJtssskm21BAjC666KILUUB88MEHHzxRQG2yySabbFFAXXTRRRedUUBONtlkk81RQD744IMP/lFALrrooosuUkAffPDBB19SQA8++OCDj1JAAAAAAADAUkA=\",\"dtype\":\"float64\",\"shape\":[100]},\"y\":{\"__ndarray__\":\"AAAAAAAAAADnI8+P2m4XQCPAg3s3fABAy+ZQ4gMH2D/l13OqsHqxP1QKSr5sbok/Ov5fBSmAYj//aUkt5uo6Pznhryj4lBM/stZZKep97D6Vqnc/V7rEPuY4oFp5KJ4+tH1Hkm7wdT7oBP/hl+tPPjb72sqaOCc+4qWjU43kAD7ithoB+5PYPaMoct1D4bE9JMS+/LsDij2WnpIiSO5iPUpNPpMKjTs9JhDS5roOFD2ZivwkwiztPKoxmVENL8U84yRDi06/njyMhtrlflB2PKKDklV5TFA86zKDJ7C5JzwOGjyr1B8BPKjlL6pmHdg7mPabKmMUsTtEYq7Bm+qHO/npLYHAPWA7zFJGnIGANjuOkYQ25B0NO8mH95sHb+Q6ahYJ019UuzoRJZiGuQ+TOtSKm/jJmnM6qD+UH49ARTpu96pcya4Wuvgu0Zrhw8e5tAScGmGwnLmL8Y+RKJ92ubA+4MNNSwW5aEciyG0FRbnWkZuc6wkYuXFuTPWF4iO5YngTsXFNBbnFgMiGRbkUOVwXG7lSPwO58K9LsLzWxTgTzWxqkyYSORW4dbKIJvQ4dXWTyWnn9rgoY1u+BW3IOPZtjys2QOk4ytWXRtbb0bjWBCGaNTvWuPwPseVh8LO4r59nHkNgcTi4WxUrdhZ1uMF+ysbtKUG43ZV1lFJrGLgQReU1HcXot5NpVd8NTcm339T/asz6nDekqW75ykaOt9lqgjP1Dam3kNDBl6aYjbf9djBZYWFrtwrXQdd5j4q3rK+gWbyxfLeLqRSlWUhwN24W+97MCmE3BBgW7XRpaLdCXQM7lxpFt7oGPA46HGM3hx7r5jD6cDeUlTzTM1hLN2iTj4XAklC3YdSr5zWBV7eyEXxe0r89NzZWoR7TGUg3nillRmF5PDdFQRLbZPdBt/ujt3UIxjS3QIxJgu4c+7YUeX6OjeA3NwzESSQS9gE31gfcNZqDB7foc2Ng70bwtuvY6kiUsrG2DCN1E6kKhDa/S0JowYmDtsoFdPb3xIk2CrQTiAz7dTZP7/eDI46DtpUejuf1Z3u2C9wHViiVYjY=\",\"dtype\":\"float64\",\"shape\":[100]}},\"selected\":{\"id\":\"1410\"},\"selection_policy\":{\"id\":\"1409\"}},\"id\":\"1210\",\"type\":\"ColumnDataSource\"},{\"attributes\":{\"line_alpha\":0.1,\"line_color\":\"#ffbf60\",\"line_width\":2,\"x\":{\"field\":\"x\"},\"y\":{\"field\":\"y\"}},\"id\":\"1377\",\"type\":\"Line\"},{\"attributes\":{},\"id\":\"1457\",\"type\":\"UnionRenderers\"},{\"attributes\":{\"line_color\":\"#8cb893\",\"line_width\":2,\"x\":{\"field\":\"x\"},\"y\":{\"field\":\"y\"}},\"id\":\"1311\",\"type\":\"Line\"},{\"attributes\":{\"line_color\":\"#ff6e75\",\"line_width\":2,\"x\":{\"field\":\"x\"},\"y\":{\"field\":\"y\"}},\"id\":\"1351\",\"type\":\"Line\"},{\"attributes\":{\"overlay\":{\"id\":\"1187\"}},\"id\":\"1183\",\"type\":\"BoxZoomTool\"},{\"attributes\":{\"data\":{\"x\":{\"__ndarray__\":\"AAAAAAAAAAA++OCDDz7oPz744IMPPvg/LrrooosuAkA++OCDDz4IQE422WSTTQ5ALrrooosuEkA22WSTTTYVQD744IMPPhhARhdddNFFG0BONtlkk00eQKuqqqqqqiBALrrooosuIkCyySabbLIjQDbZZJNNNiVAuuiiiy66JkA++OCDDz4oQMIHH3zwwSlARhdddNFFK0DKJptsssksQE422WSTTS5A0UUXXXTRL0CrqqqqqqowQG2yySabbDFALrrooosuMkDwwQcffPAyQLLJJptssjNAdNFFF110NEA22WSTTTY1QPjggw8++DVAuuiiiy66NkB88MEHH3w3QD744IMPPjhAAAAAAAAAOUDCBx988ME5QIQPPvjggzpARhdddNFFO0AIH3zwwQc8QMomm2yyyTxAjC666KKLPUBONtlkk00+QA8++OCDDz9A0UUXXXTRP0DKJptssklAQKuqqqqqqkBAjC666KILQUBtsskmm2xBQE422WSTzUFALrrooosuQkAPPvjgg49CQPDBBx988EJA0UUXXXRRQ0CyySabbLJDQJNNNtlkE0RAdNFFF110REBVVVVVVdVEQDbZZJNNNkVAF1100UWXRUD44IMPPvhFQNlkk002WUZAuuiiiy66RkCbbLLJJhtHQHzwwQcffEdAXXTRRRfdR0A++OCDDz5IQB988MEHn0hAAAAAAAAASUDhgw8++GBJQMIHH3zwwUlAo4suuugiSkCEDz744INKQGWTTTbZ5EpARhdddNFFS0Anm2yyyaZLQAgffPDBB0xA6aKLLrpoTEDKJptssslMQKuqqqqqKk1AjC666KKLTUBtsskmm+xNQE422WSTTU5ALrrooouuTkAPPvjggw9PQPDBBx98cE9A0UUXXXTRT0DZZJNNNhlQQMomm2yySVBAuuiiiy56UECrqqqqqqpQQJtssskm21BAjC666KILUUB88MEHHzxRQG2yySabbFFAXXTRRRedUUBONtlkk81RQD744IMP/lFALrrooosuUkAffPDBB19SQA8++OCDj1JAAAAAAADAUkA=\",\"dtype\":\"float64\",\"shape\":[100]},\"y\":{\"__ndarray__\":\"AAAAAAAAAAA9FjittnH5PzQKUhFLmglAQLM+PCEs7T+um2TQ5yTnP6g5y5jvMOc/OkSLrh/H5z+OtJwfykfoP6vUaLhzoug/MeDAC7HV6D/khyOjh83oP2HddYkQJug/9YwN2zxT5T8Fd8nnAlfeP/5cwLO/ydM/NsBlXPS3yz+ev0UMBgTFP5S1lau/2MA/2DYhggkRvD8tLprn8Qe4PyAAZo9qALU/lws+THelsj9yGD8ij8OwP02hvvdxc64/9DysFNXjqz+s8l1SurmpP9VjBfVN36c/GhtTRo9Epj/qFsfCf92kP8mO/Tn1oKM/Z8f/hNCHoj8n2XyUc4yhPxIXAPhgqqA/dDAmNe67nz8J3E0kfEiePzJ4SkmF9Zw//hsKJvW+mz+7hgQVX6GaP4c7GsndmZk/motHP/qlmD+s+dsAmMOXPxdhuG/l8JY/X/MDQk8slj8u3DBWdnSVPwy4c7wnyJQ/c/QOyVUmlD/GstyzEo6TPyu5nuiL/pI/qwI9XAZ3kj9ZHwtN2/aRP+ST+5B1fZE/Isz4Wk8KkT/EQFtM8JyQPxeNv8rrNJA/u3ePOr+jjz9w5PBr5eaOP+u72UqoMo4/n57iZnSGjT/pAMcqw+GMP8uZw30ZRIw/LWPAkQatiz8VcCbUIhyLPy+/IAIPkYo/FIp2VnMLij84O/HH/oqJP0P4cn9mD4k/H+n+KGWYiD93hFCCuiWIP4x4v+Qqt4c/Cf1R2H5Mhz+dEGq6guWGPyvenm0GgoY/EYlEC90hhj8uOv+e3MSFP5jXq+rdaoU/hSJFMLwThT+y3Eb/VL+EP2NdnAaIbYQ//95Y6zYehD+z0ZEjRdGDP3LnSNSXhoM/H4AAshU+gz+3cvzjpveCP8lXF+o0s4I/CjvchKpwgj8ap46f8y+CPyQD7Dv98IE/+sKKX7WzgT9esLgCC3iBP+0OrQDuPYE/L37uCE8FgT+Cmp+SH86AP4oyFM5RmIA/hzW+mthjgD/5TN19pzCAP0WjXypl/X8/sqHRIN2bfz8TvQ5PoTx/P4Nqzyed334/jlcTEL2Efj8=\",\"dtype\":\"float64\",\"shape\":[100]}},\"selected\":{\"id\":\"1452\"},\"selection_policy\":{\"id\":\"1451\"}},\"id\":\"1315\",\"type\":\"ColumnDataSource\"},{\"attributes\":{\"data\":{\"x\":{\"__ndarray__\":\"AAAAAAAAAAA++OCDDz7oPz744IMPPvg/LrrooosuAkA++OCDDz4IQE422WSTTQ5ALrrooosuEkA22WSTTTYVQD744IMPPhhARhdddNFFG0BONtlkk00eQKuqqqqqqiBALrrooosuIkCyySabbLIjQDbZZJNNNiVAuuiiiy66JkA++OCDDz4oQMIHH3zwwSlARhdddNFFK0DKJptsssksQE422WSTTS5A0UUXXXTRL0CrqqqqqqowQG2yySabbDFALrrooosuMkDwwQcffPAyQLLJJptssjNAdNFFF110NEA22WSTTTY1QPjggw8++DVAuuiiiy66NkB88MEHH3w3QD744IMPPjhAAAAAAAAAOUDCBx988ME5QIQPPvjggzpARhdddNFFO0AIH3zwwQc8QMomm2yyyTxAjC666KKLPUBONtlkk00+QA8++OCDDz9A0UUXXXTRP0DKJptssklAQKuqqqqqqkBAjC666KILQUBtsskmm2xBQE422WSTzUFALrrooosuQkAPPvjgg49CQPDBBx988EJA0UUXXXRRQ0CyySabbLJDQJNNNtlkE0RAdNFFF110REBVVVVVVdVEQDbZZJNNNkVAF1100UWXRUD44IMPPvhFQNlkk002WUZAuuiiiy66RkCbbLLJJhtHQHzwwQcffEdAXXTRRRfdR0A++OCDDz5IQB988MEHn0hAAAAAAAAASUDhgw8++GBJQMIHH3zwwUlAo4suuugiSkCEDz744INKQGWTTTbZ5EpARhdddNFFS0Anm2yyyaZLQAgffPDBB0xA6aKLLrpoTEDKJptssslMQKuqqqqqKk1AjC666KKLTUBtsskmm+xNQE422WSTTU5ALrrooouuTkAPPvjggw9PQPDBBx98cE9A0UUXXXTRT0DZZJNNNhlQQMomm2yySVBAuuiiiy56UECrqqqqqqpQQJtssskm21BAjC666KILUUB88MEHHzxRQG2yySabbFFAXXTRRRedUUBONtlkk81RQD744IMP/lFALrrooosuUkAffPDBB19SQA8++OCDj1JAAAAAAADAUkA=\",\"dtype\":\"float64\",\"shape\":[100]},\"y\":{\"__ndarray__\":\"AAAAAAAAAAC/xciVfBn9P5UTa0g/5e8/jdlw9Ps/zj+jSg9KGBnOP7aPrtuQIM4/4vq8Wzoxzj+M0SDkuknOP7/gUR0cbs4/ORDFRLOozj9lcVDkphTPP5Y3fD8jBdA/c8EABRFu0T/j5sMi2UPVP+0SZuE1eNs/0m+wo+9X4T/vo1eduhnlP2VyT8T+0Og/iMo7cAZg7D8eVj87OLXvPwK3kSLWY/E/lls+d0fK8j+GE+LlhA70P/6xXmxXMvU/sUaH2is49j/HdkedsiL3P2mqZ6yi9Pc/9a+b4pWw+D+rvXr89Vj5P8Lvfy307/k/lQ/qlod3+j/KqgAmb/H6P0C0NLA1X/s/gT6cxjbC+z8bJBXQoxv8P9EGZAiJbPw/6bVS9tG1/D83JK6nTfj8P8ncuFSyNP0/tspQmqBr/T8+vz1Hpp39P77nS9pAy/0/w15Zf9/0/T9Bo6cB5Rr+P0N0PUqpPf4/mVcownpd/j83yI55n3r+P+x81S5Wlf4/NQ7bJ9et/j/u0Xr4VMT+P8Z4Xin92P4/UZcfyvjr/j9iCwjxbP3+P95ofyt7Df8/2QKF3kEc/z9I8cqc3Cn/P2HZK3JkNv8/q7vOJvBB/z8Q8EJ5lEz/P5pa00lkVv8/JPhL53Bf/z/SpZQIymf/P4k+wxd+b/8/3TAmQpp2/z+tQJyaKn3/P0dOmy46g/8/ABiVItOI/z/nLVnE/o3/P7m1iZ7Fkv8/Hu5+ii+X/z8yowW/Q5v/PwDcBt4In/8/NVq9AYWi/z83/ivIvaX/P56Ka124qP8/L0AKhXmr/z9dGLyiBa7/PwiqRsJgsP8/WGC6no6y/z9xkNuokrT/P5IQLA1wtv8/D3pRuSm4/z9wgDthwrn/P+q2k4M8u/8/sQwobpq8/z/Z7VtB3r3/PxlIkvQJv/8/7JBWVx/A/z+OQrYZIMH/P+GJ6L8Nwv8/80Gqx+nC/z+Biyd3tcP/PyZR1gpyxP8/qtYTpSDF/z88LOhQwsX/P1a93wVYxv8/D3zOqOLG/z8LdEUNY8f/P7Lp0fbZx/8/pYRbGkjI/z8=\",\"dtype\":\"float64\",\"shape\":[100]}},\"selected\":{\"id\":\"1478\"},\"selection_policy\":{\"id\":\"1477\"}},\"id\":\"1380\",\"type\":\"ColumnDataSource\"},{\"attributes\":{},\"id\":\"1458\",\"type\":\"Selection\"},{\"attributes\":{\"line_alpha\":0.1,\"line_color\":\"#8cb893\",\"line_width\":2,\"x\":{\"field\":\"x\"},\"y\":{\"field\":\"y\"}},\"id\":\"1312\",\"type\":\"Line\"},{\"attributes\":{\"line_alpha\":0.1,\"line_color\":\"#ffbff2\",\"line_width\":2,\"x\":{\"field\":\"x\"},\"y\":{\"field\":\"y\"}},\"id\":\"1347\",\"type\":\"Line\"},{\"attributes\":{\"source\":{\"id\":\"1380\"}},\"id\":\"1384\",\"type\":\"CDSView\"},{\"attributes\":{\"line_color\":\"#90ff00\",\"line_width\":2,\"x\":{\"field\":\"x\"},\"y\":{\"field\":\"y\"}},\"id\":\"1326\",\"type\":\"Line\"},{\"attributes\":{},\"id\":\"1459\",\"type\":\"UnionRenderers\"},{\"attributes\":{\"data_source\":{\"id\":\"1380\"},\"glyph\":{\"id\":\"1381\"},\"hover_glyph\":null,\"muted_glyph\":null,\"nonselection_glyph\":{\"id\":\"1382\"},\"selection_glyph\":null,\"view\":{\"id\":\"1384\"}},\"id\":\"1383\",\"type\":\"GlyphRenderer\"},{\"attributes\":{\"line_alpha\":0.1,\"line_color\":\"#9367bc\",\"line_width\":2,\"x\":{\"field\":\"x\"},\"y\":{\"field\":\"y\"}},\"id\":\"1217\",\"type\":\"Line\"},{\"attributes\":{\"data\":{\"x\":{\"__ndarray__\":\"AAAAAAAAAAA++OCDDz7oPz744IMPPvg/LrrooosuAkA++OCDDz4IQE422WSTTQ5ALrrooosuEkA22WSTTTYVQD744IMPPhhARhdddNFFG0BONtlkk00eQKuqqqqqqiBALrrooosuIkCyySabbLIjQDbZZJNNNiVAuuiiiy66JkA++OCDDz4oQMIHH3zwwSlARhdddNFFK0DKJptsssksQE422WSTTS5A0UUXXXTRL0CrqqqqqqowQG2yySabbDFALrrooosuMkDwwQcffPAyQLLJJptssjNAdNFFF110NEA22WSTTTY1QPjggw8++DVAuuiiiy66NkB88MEHH3w3QD744IMPPjhAAAAAAAAAOUDCBx988ME5QIQPPvjggzpARhdddNFFO0AIH3zwwQc8QMomm2yyyTxAjC666KKLPUBONtlkk00+QA8++OCDDz9A0UUXXXTRP0DKJptssklAQKuqqqqqqkBAjC666KILQUBtsskmm2xBQE422WSTzUFALrrooosuQkAPPvjgg49CQPDBBx988EJA0UUXXXRRQ0CyySabbLJDQJNNNtlkE0RAdNFFF110REBVVVVVVdVEQDbZZJNNNkVAF1100UWXRUD44IMPPvhFQNlkk002WUZAuuiiiy66RkCbbLLJJhtHQHzwwQcffEdAXXTRRRfdR0A++OCDDz5IQB988MEHn0hAAAAAAAAASUDhgw8++GBJQMIHH3zwwUlAo4suuugiSkCEDz744INKQGWTTTbZ5EpARhdddNFFS0Anm2yyyaZLQAgffPDBB0xA6aKLLrpoTEDKJptssslMQKuqqqqqKk1AjC666KKLTUBtsskmm+xNQE422WSTTU5ALrrooouuTkAPPvjggw9PQPDBBx98cE9A0UUXXXTRT0DZZJNNNhlQQMomm2yySVBAuuiiiy56UECrqqqqqqpQQJtssskm21BAjC666KILUUB88MEHHzxRQG2yySabbFFAXXTRRRedUUBONtlkk81RQD744IMP/lFALrrooosuUkAffPDBB19SQA8++OCDj1JAAAAAAADAUkA=\",\"dtype\":\"float64\",\"shape\":[100]},\"y\":{\"__ndarray__\":\"MzMzMzMzwz8zMzMzMzPDPzUzMzMzM8M/MDMzMzMzwz8qMzMzMzPDP0QzMzMzM8M/OTMzMzMzwz82MzMzMzPDPzwzMzMzM8M/OTMzMzMzwz89MzMzMzPDPzozMzMzM8M/PjMzMzMzwz88MzMzMzPDPzwzMzMzM8M/PDMzMzMzwz88MzMzMzPDPzozMzMzM8M/OzMzMzMzwz81MzMzMzPDPzszMzMzM8M/QjMzMzMzwz9DMzMzMzPDP0kzMzMzM8M/STMzMzMzwz9JMzMzMzPDP0kzMzMzM8M/STMzMzMzwz9JMzMzMzPDP0ozMzMzM8M/SjMzMzMzwz9KMzMzMzPDP0ozMzMzM8M/SjMzMzMzwz9KMzMzMzPDP0ozMzMzM8M/SjMzMzMzwz9KMzMzMzPDP0ozMzMzM8M/SjMzMzMzwz9KMzMzMzPDP0ozMzMzM8M/SjMzMzMzwz9KMzMzMzPDP0ozMzMzM8M/SjMzMzMzwz9KMzMzMzPDP0szMzMzM8M/SzMzMzMzwz9LMzMzMzPDP0szMzMzM8M/SzMzMzMzwz9LMzMzMzPDP0szMzMzM8M/SzMzMzMzwz9LMzMzMzPDP0szMzMzM8M/SzMzMzMzwz9LMzMzMzPDP0szMzMzM8M/SzMzMzMzwz9LMzMzMzPDP0szMzMzM8M/SzMzMzMzwz9LMzMzMzPDP0szMzMzM8M/SzMzMzMzwz9LMzMzMzPDP0szMzMzM8M/SzMzMzMzwz9LMzMzMzPDP0szMzMzM8M/SzMzMzMzwz9LMzMzMzPDP0szMzMzM8M/SzMzMzMzwz9LMzMzMzPDP0szMzMzM8M/SzMzMzMzwz9LMzMzMzPDP0szMzMzM8M/SzMzMzMzwz9LMzMzMzPDP0szMzMzM8M/SzMzMzMzwz9LMzMzMzPDP0szMzMzM8M/SzMzMzMzwz9LMzMzMzPDP0szMzMzM8M/SzMzMzMzwz9LMzMzMzPDP0szMzMzM8M/SzMzMzMzwz9LMzMzMzPDP0szMzMzM8M/SzMzMzMzwz9LMzMzMzPDP0szMzMzM8M/SzMzMzMzwz8=\",\"dtype\":\"float64\",\"shape\":[100]}},\"selected\":{\"id\":\"1466\"},\"selection_policy\":{\"id\":\"1465\"}},\"id\":\"1350\",\"type\":\"ColumnDataSource\"},{\"attributes\":{},\"id\":\"1181\",\"type\":\"PanTool\"},{\"attributes\":{\"line_alpha\":0.1,\"line_color\":\"#8c564b\",\"line_width\":2,\"x\":{\"field\":\"x\"},\"y\":{\"field\":\"y\"}},\"id\":\"1222\",\"type\":\"Line\"},{\"attributes\":{\"source\":{\"id\":\"1230\"}},\"id\":\"1234\",\"type\":\"CDSView\"},{\"attributes\":{\"source\":{\"id\":\"1315\"}},\"id\":\"1319\",\"type\":\"CDSView\"},{\"attributes\":{\"data_source\":{\"id\":\"1355\"},\"glyph\":{\"id\":\"1356\"},\"hover_glyph\":null,\"muted_glyph\":null,\"nonselection_glyph\":{\"id\":\"1357\"},\"selection_glyph\":null,\"view\":{\"id\":\"1359\"}},\"id\":\"1358\",\"type\":\"GlyphRenderer\"},{\"attributes\":{\"source\":{\"id\":\"1350\"}},\"id\":\"1354\",\"type\":\"CDSView\"},{\"attributes\":{},\"id\":\"1460\",\"type\":\"Selection\"},{\"attributes\":{\"data_source\":{\"id\":\"1300\"},\"glyph\":{\"id\":\"1301\"},\"hover_glyph\":null,\"muted_glyph\":null,\"nonselection_glyph\":{\"id\":\"1302\"},\"selection_glyph\":null,\"view\":{\"id\":\"1304\"}},\"id\":\"1303\",\"type\":\"GlyphRenderer\"},{\"attributes\":{\"data_source\":{\"id\":\"1350\"},\"glyph\":{\"id\":\"1351\"},\"hover_glyph\":null,\"muted_glyph\":null,\"nonselection_glyph\":{\"id\":\"1352\"},\"selection_glyph\":null,\"view\":{\"id\":\"1354\"}},\"id\":\"1353\",\"type\":\"GlyphRenderer\"},{\"attributes\":{},\"id\":\"1461\",\"type\":\"UnionRenderers\"},{\"attributes\":{\"line_alpha\":0.1,\"line_color\":\"#93fbff\",\"line_width\":2,\"x\":{\"field\":\"x\"},\"y\":{\"field\":\"y\"}},\"id\":\"1317\",\"type\":\"Line\"},{\"attributes\":{\"line_alpha\":0.1,\"line_color\":\"#ff018c\",\"line_width\":2,\"x\":{\"field\":\"x\"},\"y\":{\"field\":\"y\"}},\"id\":\"1382\",\"type\":\"Line\"},{\"attributes\":{},\"id\":\"1462\",\"type\":\"Selection\"},{\"attributes\":{\"data_source\":{\"id\":\"1230\"},\"glyph\":{\"id\":\"1231\"},\"hover_glyph\":null,\"muted_glyph\":null,\"nonselection_glyph\":{\"id\":\"1232\"},\"selection_glyph\":null,\"view\":{\"id\":\"1234\"}},\"id\":\"1233\",\"type\":\"GlyphRenderer\"},{\"attributes\":{\"line_alpha\":0.1,\"line_color\":\"#018267\",\"line_width\":2,\"x\":{\"field\":\"x\"},\"y\":{\"field\":\"y\"}},\"id\":\"1322\",\"type\":\"Line\"},{\"attributes\":{\"line_color\":\"#798cff\",\"line_width\":2,\"x\":{\"field\":\"x\"},\"y\":{\"field\":\"y\"}},\"id\":\"1356\",\"type\":\"Line\"},{\"attributes\":{\"data\":{\"x\":{\"__ndarray__\":\"AAAAAAAAAAA++OCDDz7oPz744IMPPvg/LrrooosuAkA++OCDDz4IQE422WSTTQ5ALrrooosuEkA22WSTTTYVQD744IMPPhhARhdddNFFG0BONtlkk00eQKuqqqqqqiBALrrooosuIkCyySabbLIjQDbZZJNNNiVAuuiiiy66JkA++OCDDz4oQMIHH3zwwSlARhdddNFFK0DKJptsssksQE422WSTTS5A0UUXXXTRL0CrqqqqqqowQG2yySabbDFALrrooosuMkDwwQcffPAyQLLJJptssjNAdNFFF110NEA22WSTTTY1QPjggw8++DVAuuiiiy66NkB88MEHH3w3QD744IMPPjhAAAAAAAAAOUDCBx988ME5QIQPPvjggzpARhdddNFFO0AIH3zwwQc8QMomm2yyyTxAjC666KKLPUBONtlkk00+QA8++OCDDz9A0UUXXXTRP0DKJptssklAQKuqqqqqqkBAjC666KILQUBtsskmm2xBQE422WSTzUFALrrooosuQkAPPvjgg49CQPDBBx988EJA0UUXXXRRQ0CyySabbLJDQJNNNtlkE0RAdNFFF110REBVVVVVVdVEQDbZZJNNNkVAF1100UWXRUD44IMPPvhFQNlkk002WUZAuuiiiy66RkCbbLLJJhtHQHzwwQcffEdAXXTRRRfdR0A++OCDDz5IQB988MEHn0hAAAAAAAAASUDhgw8++GBJQMIHH3zwwUlAo4suuugiSkCEDz744INKQGWTTTbZ5EpARhdddNFFS0Anm2yyyaZLQAgffPDBB0xA6aKLLrpoTEDKJptssslMQKuqqqqqKk1AjC666KKLTUBtsskmm+xNQE422WSTTU5ALrrooouuTkAPPvjggw9PQPDBBx98cE9A0UUXXXTRT0DZZJNNNhlQQMomm2yySVBAuuiiiy56UECrqqqqqqpQQJtssskm21BAjC666KILUUB88MEHHzxRQG2yySabbFFAXXTRRRedUUBONtlkk81RQD744IMP/lFALrrooosuUkAffPDBB19SQA8++OCDj1JAAAAAAADAUkA=\",\"dtype\":\"float64\",\"shape\":[100]},\"y\":{\"__ndarray__\":\"MzMzMzMzwz8bMzMzMzPDPx4zMzMzM8M/JDMzMzMzwz8eMzMzMzPDPxszMzMzM8M/HTMzMzMzwz8bMzMzMzPDPx4zMzMzM8M/IDMzMzMzwz8jMzMzMzPDPyIzMzMzM8M/HzMzMzMzwz8iMzMzMzPDPyIzMzMzM8M/IDMzMzMzwz8fMzMzMzPDPx8zMzMzM8M/HzMzMzMzwz8fMzMzMzPDPx8zMzMzM8M/HzMzMzMzwz8fMzMzMzPDPx8zMzMzM8M/HzMzMzMzwz8fMzMzMzPDPx8zMzMzM8M/HzMzMzMzwz8fMzMzMzPDPx8zMzMzM8M/HzMzMzMzwz8fMzMzMzPDPx8zMzMzM8M/HzMzMzMzwz8fMzMzMzPDPx8zMzMzM8M/HzMzMzMzwz8fMzMzMzPDPx8zMzMzM8M/HzMzMzMzwz8fMzMzMzPDPx8zMzMzM8M/HzMzMzMzwz8fMzMzMzPDPx8zMzMzM8M/HzMzMzMzwz8fMzMzMzPDPx8zMzMzM8M/HzMzMzMzwz8fMzMzMzPDPx8zMzMzM8M/HzMzMzMzwz8fMzMzMzPDPx8zMzMzM8M/HzMzMzMzwz8fMzMzMzPDPx8zMzMzM8M/HzMzMzMzwz8fMzMzMzPDPx8zMzMzM8M/HzMzMzMzwz8fMzMzMzPDPx8zMzMzM8M/HzMzMzMzwz8fMzMzMzPDPx8zMzMzM8M/HzMzMzMzwz8fMzMzMzPDPx8zMzMzM8M/HzMzMzMzwz8fMzMzMzPDPx8zMzMzM8M/HzMzMzMzwz8fMzMzMzPDPx8zMzMzM8M/HzMzMzMzwz8fMzMzMzPDPx8zMzMzM8M/HzMzMzMzwz8fMzMzMzPDPx8zMzMzM8M/HzMzMzMzwz8fMzMzMzPDPx8zMzMzM8M/HzMzMzMzwz8fMzMzMzPDPx8zMzMzM8M/HzMzMzMzwz8fMzMzMzPDPx8zMzMzM8M/HzMzMzMzwz8fMzMzMzPDPx8zMzMzM8M/HzMzMzMzwz8fMzMzMzPDPx8zMzMzM8M/HzMzMzMzwz8fMzMzMzPDPx8zMzMzM8M/HzMzMzMzwz8=\",\"dtype\":\"float64\",\"shape\":[100]}},\"selected\":{\"id\":\"1454\"},\"selection_policy\":{\"id\":\"1453\"}},\"id\":\"1320\",\"type\":\"ColumnDataSource\"},{\"attributes\":{},\"id\":\"1463\",\"type\":\"UnionRenderers\"},{\"attributes\":{\"line_alpha\":0.1,\"line_color\":\"#ff6e75\",\"line_width\":2,\"x\":{\"field\":\"x\"},\"y\":{\"field\":\"y\"}},\"id\":\"1352\",\"type\":\"Line\"},{\"attributes\":{},\"id\":\"1399\",\"type\":\"BasicTickFormatter\"},{\"attributes\":{\"source\":{\"id\":\"1320\"}},\"id\":\"1324\",\"type\":\"CDSView\"},{\"attributes\":{},\"id\":\"1464\",\"type\":\"Selection\"},{\"attributes\":{\"data\":{\"x\":{\"__ndarray__\":\"AAAAAAAAAAA++OCDDz7oPz744IMPPvg/LrrooosuAkA++OCDDz4IQE422WSTTQ5ALrrooosuEkA22WSTTTYVQD744IMPPhhARhdddNFFG0BONtlkk00eQKuqqqqqqiBALrrooosuIkCyySabbLIjQDbZZJNNNiVAuuiiiy66JkA++OCDDz4oQMIHH3zwwSlARhdddNFFK0DKJptsssksQE422WSTTS5A0UUXXXTRL0CrqqqqqqowQG2yySabbDFALrrooosuMkDwwQcffPAyQLLJJptssjNAdNFFF110NEA22WSTTTY1QPjggw8++DVAuuiiiy66NkB88MEHH3w3QD744IMPPjhAAAAAAAAAOUDCBx988ME5QIQPPvjggzpARhdddNFFO0AIH3zwwQc8QMomm2yyyTxAjC666KKLPUBONtlkk00+QA8++OCDDz9A0UUXXXTRP0DKJptssklAQKuqqqqqqkBAjC666KILQUBtsskmm2xBQE422WSTzUFALrrooosuQkAPPvjgg49CQPDBBx988EJA0UUXXXRRQ0CyySabbLJDQJNNNtlkE0RAdNFFF110REBVVVVVVdVEQDbZZJNNNkVAF1100UWXRUD44IMPPvhFQNlkk002WUZAuuiiiy66RkCbbLLJJhtHQHzwwQcffEdAXXTRRRfdR0A++OCDDz5IQB988MEHn0hAAAAAAAAASUDhgw8++GBJQMIHH3zwwUlAo4suuugiSkCEDz744INKQGWTTTbZ5EpARhdddNFFS0Anm2yyyaZLQAgffPDBB0xA6aKLLrpoTEDKJptssslMQKuqqqqqKk1AjC666KKLTUBtsskmm+xNQE422WSTTU5ALrrooouuTkAPPvjggw9PQPDBBx98cE9A0UUXXXTRT0DZZJNNNhlQQMomm2yySVBAuuiiiy56UECrqqqqqqpQQJtssskm21BAjC666KILUUB88MEHHzxRQG2yySabbFFAXXTRRRedUUBONtlkk81RQD744IMP/lFALrrooosuUkAffPDBB19SQA8++OCDj1JAAAAAAADAUkA=\",\"dtype\":\"float64\",\"shape\":[100]},\"y\":{\"__ndarray__\":\"AAAAAAAAAAAiQ+2LRk4QQHDrJ1ZLhSNAhsWfEXXAA0C+2Dl/YjviP+Ydbda/EsA/FQ7kuFh5mz/1tnnF+PV2P1A28sT63VI/0ZbkTn2ZLj+WCne0KI0IP+qKmQjnhuM+rdvw1evVvj5jtpvnfzKYPnL4mey+43I+N6D2/qxcTT7aUW4Yd7smPgjjEZ5GigE+B3epgrH82j0kmL77BLa0PTTqnvdfto89F8jIJCc9aD1591fZWnlCPUVS5XxvEhw99nh9KWFJ9Ty8/VhHLh7QPDay4fAug6g8lCFRdACQgjzNr2vs4OBbPJ6/VMc4ejQ8vWd2JgsxDjyRAx3EKAnmO3IQ13jHS787qoUS5CiIljsKL2VX/MpuOzCqd+tKY0Y7Nili+kLdHzsuk22/yKD2OrDiNz+4CdQ6uqQBVznfqToYQ4IUmZuXOgbWpxV+2Uu6BQk8ZHwHH7pekNWmhC3uudKmI19qDLu5ujq54dwR17l4ewj0ckHFuaz9gCxQ4Ys5GN0Hdtp8yLlrUlYVQqq8Oal0ZLolgra5uv7//N23oznsNVPJMcTAOW3k8961ia+5dOm4xLV+sDlSERkih9+1OTAJF95b2cy5S8nVkKn5wjm4TEoXlIHTOaaOPnScoN65zIhp592Ycjka/kTmEZTHORJnh0kAJ6U57ZgRYaVXhjmFv8EhdINrOVsf+YVw1Vc5avra0Ao4RTlchLTHGq03OZMZ+1/mRTA5Y1JNQOW6ITm8qrAQbYgSOX6cnIZz6A05EJiJJ2SuBDl+WiigjBjxOEVVr952PeM483bKnbu06DjhgxZzSUXiOEKIAwP5XtM4GkUxgKPolLjSippY1T+xOBD3MUf4A8I40lCf61KQyjjuVs8eklu0OPj39KrsgZ84AHLpbRj6QbiYqq+tzWetOG2h280URao4oFUytVA8pzjDScru/i9zOMRnOkgJlYs4K97+SY+rkjhD1EPh2JSNOLSbEz8qn4c4w0/x1qRBhDhsRMX14Z6BOIK6Jna1mX44lFbbFdDQejj4ASGo6aZ3OJ6iYlaL33Q49LOzROF0cjg=\",\"dtype\":\"float64\",\"shape\":[100]}},\"selected\":{\"id\":\"1420\"},\"selection_policy\":{\"id\":\"1419\"}},\"id\":\"1235\",\"type\":\"ColumnDataSource\"},{\"attributes\":{\"data\":{\"x\":{\"__ndarray__\":\"AAAAAAAAAAA++OCDDz7oPz744IMPPvg/LrrooosuAkA++OCDDz4IQE422WSTTQ5ALrrooosuEkA22WSTTTYVQD744IMPPhhARhdddNFFG0BONtlkk00eQKuqqqqqqiBALrrooosuIkCyySabbLIjQDbZZJNNNiVAuuiiiy66JkA++OCDDz4oQMIHH3zwwSlARhdddNFFK0DKJptsssksQE422WSTTS5A0UUXXXTRL0CrqqqqqqowQG2yySabbDFALrrooosuMkDwwQcffPAyQLLJJptssjNAdNFFF110NEA22WSTTTY1QPjggw8++DVAuuiiiy66NkB88MEHH3w3QD744IMPPjhAAAAAAAAAOUDCBx988ME5QIQPPvjggzpARhdddNFFO0AIH3zwwQc8QMomm2yyyTxAjC666KKLPUBONtlkk00+QA8++OCDDz9A0UUXXXTRP0DKJptssklAQKuqqqqqqkBAjC666KILQUBtsskmm2xBQE422WSTzUFALrrooosuQkAPPvjgg49CQPDBBx988EJA0UUXXXRRQ0CyySabbLJDQJNNNtlkE0RAdNFFF110REBVVVVVVdVEQDbZZJNNNkVAF1100UWXRUD44IMPPvhFQNlkk002WUZAuuiiiy66RkCbbLLJJhtHQHzwwQcffEdAXXTRRRfdR0A++OCDDz5IQB988MEHn0hAAAAAAAAASUDhgw8++GBJQMIHH3zwwUlAo4suuugiSkCEDz744INKQGWTTTbZ5EpARhdddNFFS0Anm2yyyaZLQAgffPDBB0xA6aKLLrpoTEDKJptssslMQKuqqqqqKk1AjC666KKLTUBtsskmm+xNQE422WSTTU5ALrrooouuTkAPPvjggw9PQPDBBx98cE9A0UUXXXTRT0DZZJNNNhlQQMomm2yySVBAuuiiiy56UECrqqqqqqpQQJtssskm21BAjC666KILUUB88MEHHzxRQG2yySabbFFAXXTRRRedUUBONtlkk81RQD744IMP/lFALrrooosuUkAffPDBB19SQA8++OCDj1JAAAAAAADAUkA=\",\"dtype\":\"float64\",\"shape\":[100]},\"y\":{\"__ndarray__\":\"AAAAAAAAAADmPdDLE/SAP7AlpyxbPMI/bk2P6kNKzT9Xuf7XwhnAP3qJ6broHbA/ZpFg5A48pj+Ha+CEEtqlP10BUGqFOKk/dpeeDv3drj8V0MIdGZ6zPwCLvOlb97k/BybFhQupwT9TryaQq4HGPwgTzP101sc/7YeDGZw8xT+n5HIpQTLBP6RCpRljALs/EDzSZRVbtT9eWkuPtU2xP/ebThrU06w/C4hXZJufqD9fomS/Y3mlP/dXtqLGCqM/L8KVYH4coT/HappnXhWfP4g54xf4epw/R2L4pBRJmj98rwgLo2iYP6Hc7+DtyJY/tH6LmY9dlT/bOm4NIx2UP45eXfpmAJM/en3Hu6kBkj95lg2DYhyRP3+5c+HoTJA/t9P8nIEgjz+IYF7s6MeNP5bLU3vvi4w/944izSVpiz+7qZdkpFyKP79XCkXyY4k/FU8FFPF8iD9SF2Y5zaWHP1zBuLPx3IY/uBovpP0ghj+YEAlSvHCFP1Wea0oey4Q/MuRHDzQvhD/SAzd3KZyDP9aCANZBEYM/nFZI3NSNgj9OhXDsSxGCP7miFMwfm4E/DVcXvtYqgT893DDeAsCAP/zFErhAWoA/OhA4Imzyfz/ij4G3ITl/P9oNQqAMiH4/pk+2RaTefT/6Tvenazx9PzP17CrwoHw/6XmdhsgLfD/6A4jMk3x7P0082rf48no/oOluzqRuej+nufHOS+95P81DeRyndHk/v3ffNHX+eD+Z2EY/eYx4Pwyinqh6Hng/+ZkpwkS0dz8I+Gxrpk13P378Pcdx6nY/xqpe+XuKdj+CkVzonC12P0pAcASv03U/zUTBFI98dT+vCusJHCh1P+5MZdQ21nQ/MRh/PsKGdD9M7yzJojl0Pznph4y+7nM/Q+qQGv2lcz+Rkf1kR19zP2I0j6SHGnM/OgH6QqnXcj/06A7GmJZyP66eC71DV3I/gKjyrpgZcj90gncLh91xPw288xn/onE/9+467fFpcT/AHp9YUTJxPxmES+AP/HA/ukNXsSDHcD9+9nCWd5NwP8++te8IYXA/qz4UqckvcD8=\",\"dtype\":\"float64\",\"shape\":[100]}},\"selected\":{\"id\":\"1468\"},\"selection_policy\":{\"id\":\"1467\"}},\"id\":\"1355\",\"type\":\"ColumnDataSource\"},{\"attributes\":{},\"id\":\"1174\",\"type\":\"BasicTicker\"},{\"attributes\":{\"data\":{\"x\":{\"__ndarray__\":\"AAAAAAAAAAA++OCDDz7oPz744IMPPvg/LrrooosuAkA++OCDDz4IQE422WSTTQ5ALrrooosuEkA22WSTTTYVQD744IMPPhhARhdddNFFG0BONtlkk00eQKuqqqqqqiBALrrooosuIkCyySabbLIjQDbZZJNNNiVAuuiiiy66JkA++OCDDz4oQMIHH3zwwSlARhdddNFFK0DKJptsssksQE422WSTTS5A0UUXXXTRL0CrqqqqqqowQG2yySabbDFALrrooosuMkDwwQcffPAyQLLJJptssjNAdNFFF110NEA22WSTTTY1QPjggw8++DVAuuiiiy66NkB88MEHH3w3QD744IMPPjhAAAAAAAAAOUDCBx988ME5QIQPPvjggzpARhdddNFFO0AIH3zwwQc8QMomm2yyyTxAjC666KKLPUBONtlkk00+QA8++OCDDz9A0UUXXXTRP0DKJptssklAQKuqqqqqqkBAjC666KILQUBtsskmm2xBQE422WSTzUFALrrooosuQkAPPvjgg49CQPDBBx988EJA0UUXXXRRQ0CyySabbLJDQJNNNtlkE0RAdNFFF110REBVVVVVVdVEQDbZZJNNNkVAF1100UWXRUD44IMPPvhFQNlkk002WUZAuuiiiy66RkCbbLLJJhtHQHzwwQcffEdAXXTRRRfdR0A++OCDDz5IQB988MEHn0hAAAAAAAAASUDhgw8++GBJQMIHH3zwwUlAo4suuugiSkCEDz744INKQGWTTTbZ5EpARhdddNFFS0Anm2yyyaZLQAgffPDBB0xA6aKLLrpoTEDKJptssslMQKuqqqqqKk1AjC666KKLTUBtsskmm+xNQE422WSTTU5ALrrooouuTkAPPvjggw9PQPDBBx98cE9A0UUXXXTRT0DZZJNNNhlQQMomm2yySVBAuuiiiy56UECrqqqqqqpQQJtssskm21BAjC666KILUUB88MEHHzxRQG2yySabbFFAXXTRRRedUUBONtlkk81RQD744IMP/lFALrrooosuUkAffPDBB19SQA8++OCDj1JAAAAAAADAUkA=\",\"dtype\":\"float64\",\"shape\":[100]},\"y\":{\"__ndarray__\":\"AAAAAAAAAACYhsETYsDUPxtfIMs5p94/NC1BQ3W0oj+p2OlhfFCaPyylVPZSd54/8Jckxdoyoj97XDYXL7GlP1/k779iDKo/icQwl7narz9se2R/6vmzP3qFB29McLk/aG3XmsrPvT/MnpJGKN+5P+VsedgzkLI/9NjodNjmqz+tLL4SwKqmP2ECnYd7UqM/L2HXMPLroD+BmDHJhSKeP1DV2A2pJZs/1S1PuqqtmD8m79WDeZqWP5vdvzku1pQ/cyTlSetQkz/8OdlDyP6RP9jZPAag1pA/OSzeFZ2ijz8TGKwYW9KNPwIrnnlvM4w/14BfQYu+ij8T7nrlt22JP43wKyINPIg/MzSg6Xglhz/7niFVlCaGP6nUvHWCPIU/ytf5dNZkhD89akc7f52DP/Nj6z235II/AqNsqfc4gj/UeOQE7piBP07MksdzA4E/GrcOgId3gD8uumJTjuh/P59hQVnX8X4/H1rfxYkJfj+82nPvbC59P5aDLkpqX3w/bH1tCImbez9jlOcx6uF6Pybev17FMXo/dMcg+mWKeT+1FE3fKOt4P5BXXUd6U3g/lghwC9TCdz9ZtjocvDh3P72iJy3DtHY/5bNljIM2dj+y/Y4foL11P9vQAYHDSXU/Jt9FOZ/adD+gjPYN6290P08QZ2dkCXQ/MIMqxs2mcz8VwQBD7kdzP4cDtjOR7HI/njRAtoWUcj//wDJlnj9yP9pAewix7XE/9RssTJaecT/qoEOEKVJxPy3eYnZICHE/gjiaJNPAcD+8BPGeq3twP2Y4adq1OHA/Cw/0F6/vbz87A88L8HFvP/bpVTAA+G4/tUkU6LOBbj8G8fIk4g5uPyeQGjlkn20/nmd3qxUzbT9GZt4P1MlsPzzdsuJ+Y2w/Tl2hZ/f/az8RzP2KIJ9rPwgFf8XeQGs/p7kxAhjlaj97anqGs4tqPwyy5duZNGo/ygytu7TfaT+cX8387oxpP8Uzu380PGk/krwvIHLtaD86vgiolaBoP9XzY7yNVWg/D05q1EkMaD9QHJwrusRnP7rk+LfPfmc//QhQHnw6Zz8=\",\"dtype\":\"float64\",\"shape\":[100]}},\"selected\":{\"id\":\"1456\"},\"selection_policy\":{\"id\":\"1455\"}},\"id\":\"1325\",\"type\":\"ColumnDataSource\"},{\"attributes\":{},\"id\":\"1403\",\"type\":\"UnionRenderers\"},{\"attributes\":{},\"id\":\"1465\",\"type\":\"UnionRenderers\"},{\"attributes\":{\"data_source\":{\"id\":\"1320\"},\"glyph\":{\"id\":\"1321\"},\"hover_glyph\":null,\"muted_glyph\":null,\"nonselection_glyph\":{\"id\":\"1322\"},\"selection_glyph\":null,\"view\":{\"id\":\"1324\"}},\"id\":\"1323\",\"type\":\"GlyphRenderer\"},{\"attributes\":{},\"id\":\"1401\",\"type\":\"BasicTickFormatter\"},{\"attributes\":{\"line_alpha\":0.1,\"line_color\":\"#d62628\",\"line_width\":2,\"x\":{\"field\":\"x\"},\"y\":{\"field\":\"y\"}},\"id\":\"1212\",\"type\":\"Line\"},{\"attributes\":{\"line_alpha\":0.1,\"line_color\":\"#798cff\",\"line_width\":2,\"x\":{\"field\":\"x\"},\"y\":{\"field\":\"y\"}},\"id\":\"1357\",\"type\":\"Line\"},{\"attributes\":{\"data_source\":{\"id\":\"1220\"},\"glyph\":{\"id\":\"1221\"},\"hover_glyph\":null,\"muted_glyph\":null,\"nonselection_glyph\":{\"id\":\"1222\"},\"selection_glyph\":null,\"view\":{\"id\":\"1224\"}},\"id\":\"1223\",\"type\":\"GlyphRenderer\"}],\"root_ids\":[\"1162\"]},\"title\":\"Bokeh Application\",\"version\":\"2.0.2\"}};\n",
       "  var render_items = [{\"docid\":\"b019b28f-5fd7-43c8-a3bf-e1fcd3e018c9\",\"root_ids\":[\"1162\"],\"roots\":{\"1162\":\"30d48052-9d2f-46d9-a172-32ec82533a3f\"}}];\n",
       "  root.Bokeh.embed.embed_items_notebook(docs_json, render_items);\n",
       "\n",
       "  }\n",
       "  if (root.Bokeh !== undefined) {\n",
       "    embed_document(root);\n",
       "  } else {\n",
       "    var attempts = 0;\n",
       "    var timer = setInterval(function(root) {\n",
       "      if (root.Bokeh !== undefined) {\n",
       "        clearInterval(timer);\n",
       "        embed_document(root);\n",
       "      } else {\n",
       "        attempts++;\n",
       "        if (attempts > 100) {\n",
       "          clearInterval(timer);\n",
       "          console.log(\"Bokeh: ERROR: Unable to run BokehJS code because BokehJS library is missing\");\n",
       "        }\n",
       "      }\n",
       "    }, 10, root)\n",
       "  }\n",
       "})(window);"
      ],
      "application/vnd.bokehjs_exec.v0+json": ""
     },
     "metadata": {
      "application/vnd.bokehjs_exec.v0+json": {
       "id": "1162"
      }
     },
     "output_type": "display_data"
    }
   ],
   "source": [
    "\n",
    "p1 = bokeh.plotting.figure(width = 475, height = 350, title = 'Reduced Model 5',\n",
    "                             x_axis_label = 'Time (hrs)',\n",
    "                             y_axis_label = 'Concentration (mM)')\n",
    "#colors = ['#66c2a5','#fc8d62','#8da0cb','#e78ac3']\n",
    "colors = colorcet.b_glasbey_category10\n",
    "#colors = colorcet.glasbey_cool\n",
    "for i in range(len(sol[:,0])):\n",
    "    if i == 38:\n",
    "        break\n",
    "    p1.line(timepoints_ode, sol[:,i], line_width = 2, color = colors[i])\n",
    "# p.line(timepoints_ode, sol[:,1],line_width = 2, legend_label = 'atp', color = colors[3])\n",
    "# p.line(timepoints_ode, sol[:,2], line_width = 2,legend_label = 'glucose', color = colors[0])\n",
    "# p.line(timepoints_ode, sol[:,34], line_width = 2,legend_label = 'isobutanol', color = colors[1])\n",
    "\n",
    "\n",
    "p.legend.click_policy = 'hide'\n",
    "bokeh.io.show(p1)"
   ]
  },
  {
   "cell_type": "code",
   "execution_count": null,
   "metadata": {},
   "outputs": [],
   "source": []
  },
  {
   "cell_type": "code",
   "execution_count": 6,
   "metadata": {},
   "outputs": [],
   "source": [
    "species_to_remove = [5,6,9,10,13, 14,17,18,23,24,28,29,31,32,\n",
    "                 35,36,39,40,43,44,47,48,51,52,55,56,59,60,63,64]\n"
   ]
  },
  {
   "cell_type": "code",
   "execution_count": 7,
   "metadata": {},
   "outputs": [
    {
     "data": {
      "text/plain": [
       "array([ 0,  1,  2,  3,  4,  7,  8, 11, 12, 15, 16, 19, 20, 21, 22, 25, 26,\n",
       "       27, 30, 33, 34, 37, 38, 41, 42, 45, 46, 49, 50, 53, 54, 57, 58, 61,\n",
       "       62, 65, 66, 67])"
      ]
     },
     "execution_count": 7,
     "metadata": {},
     "output_type": "execute_result"
    }
   ],
   "source": [
    "all_specs = np.arange(0,len(x))\n",
    "#have_specs = all_specs\n",
    "#for remove in species_to_remove:\n",
    "have_specs = np.delete(all_specs,species_to_remove)\n",
    "have_specs"
   ]
  },
  {
   "cell_type": "code",
   "execution_count": 8,
   "metadata": {},
   "outputs": [],
   "source": [
    "enz_list = [0, 7, 11, 15, 19, 25, 30, 33, 37, 41, 45, 49, 53, 57, 61]\n",
    "# indices for gluc, atp, nadp, pi\n",
    "mol_list = [2, 1, 20, 26]"
   ]
  },
  {
   "cell_type": "code",
   "execution_count": 9,
   "metadata": {},
   "outputs": [
    {
     "name": "stdout",
     "output_type": "stream",
     "text": [
      "0\n",
      "7\n",
      "11\n",
      "15\n",
      "19\n",
      "25\n",
      "30\n",
      "33\n",
      "37\n",
      "41\n",
      "45\n",
      "49\n",
      "53\n",
      "57\n",
      "61\n"
     ]
    }
   ],
   "source": [
    "x_init = np.zeros(len(have_specs))\n",
    "for i,num in enumerate(have_specs):\n",
    "    if num in enz_list:\n",
    "        x_init[i] = 0.15\n",
    "        print(num)\n",
    "    elif num in mol_list:\n",
    "        x_init[i] = 30\n",
    "    elif num == 65:\n",
    "        x_init[i] = 2.\n",
    "    else:\n",
    "        #continue\n",
    "        x_init[i] = 0"
   ]
  },
  {
   "cell_type": "code",
   "execution_count": 10,
   "metadata": {},
   "outputs": [
    {
     "data": {
      "text/plain": [
       "array([ 0.15, 30.  , 30.  ,  0.  ,  0.  ,  0.15,  0.  ,  0.15,  0.  ,\n",
       "        0.15,  0.  ,  0.15, 30.  ,  0.  ,  0.  ,  0.15, 30.  ,  0.  ,\n",
       "        0.15,  0.15,  0.  ,  0.15,  0.  ,  0.15,  0.  ,  0.15,  0.  ,\n",
       "        0.15,  0.  ,  0.15,  0.  ,  0.15,  0.  ,  0.15,  0.  ,  2.  ,\n",
       "        0.  ,  0.  ])"
      ]
     },
     "execution_count": 10,
     "metadata": {},
     "output_type": "execute_result"
    }
   ],
   "source": [
    "x_init"
   ]
  },
  {
   "cell_type": "code",
   "execution_count": 11,
   "metadata": {},
   "outputs": [],
   "source": [
    "from sympy import Symbol"
   ]
  },
  {
   "cell_type": "code",
   "execution_count": 17,
   "metadata": {},
   "outputs": [
    {
     "name": "stdout",
     "output_type": "stream",
     "text": [
      "J [[ 2.02109934e-10  1.01054967e-12  1.13686838e-12 ...  0.00000000e+00\n",
      "   0.00000000e+00  0.00000000e+00]\n",
      " [-6.74971876e+03 -4.87485938e+01 -3.37485938e+01 ... -2.25000000e+02\n",
      "   0.00000000e+00  0.00000000e+00]\n",
      " [-6.74971876e+03 -3.37485938e+01 -3.37485938e+01 ...  0.00000000e+00\n",
      "   0.00000000e+00  0.00000000e+00]\n",
      " ...\n",
      " [ 0.00000000e+00 -1.50000000e+01  0.00000000e+00 ... -2.25000000e+02\n",
      "   0.00000000e+00  0.00000000e+00]\n",
      " [ 0.00000000e+00  1.50000000e+01  0.00000000e+00 ...  2.25000000e+02\n",
      "   0.00000000e+00  0.00000000e+00]\n",
      " [ 0.00000000e+00  0.00000000e+00  0.00000000e+00 ...  0.00000000e+00\n",
      "   0.00000000e+00  0.00000000e+00]]\n",
      "38\n",
      "zj [ 1.01054967e-11  2.81225861e-02  2.81225861e-02 -2.81225861e-02\n",
      " -2.81225861e-02  0.00000000e+00  0.00000000e+00  0.00000000e+00\n",
      "  0.00000000e+00  0.00000000e+00  0.00000000e+00  0.00000000e+00\n",
      "  0.00000000e+00  0.00000000e+00  0.00000000e+00  0.00000000e+00\n",
      "  0.00000000e+00  0.00000000e+00  0.00000000e+00  0.00000000e+00\n",
      "  0.00000000e+00  0.00000000e+00  0.00000000e+00  0.00000000e+00\n",
      "  0.00000000e+00  0.00000000e+00  0.00000000e+00  0.00000000e+00\n",
      "  0.00000000e+00  0.00000000e+00  0.00000000e+00  0.00000000e+00\n",
      "  0.00000000e+00  0.00000000e+00  0.00000000e+00  0.00000000e+00\n",
      "  0.00000000e+00  0.00000000e+00]\n",
      "38\n"
     ]
    }
   ],
   "source": [
    "t = Symbol('t')\n",
    "\n",
    "\n",
    "\n",
    "# for reduced model\n",
    "x = update_timescale\n",
    "f = aa.f\n",
    "x_init = x_init\n",
    "param_eval_f = [None]*len(f)\n",
    "\n",
    "func = lambdify([t, x, P], f)\n",
    "func_p = lambdify([t, x], param_eval_f)\n",
    "\n",
    "x_point = x_init\n",
    "# Compute Jacobian at x_point\n",
    "J = compute_J(lambda x, params_values: func(0, x, params_values), x_point, params_values)\n",
    "print('J',J)\n",
    "print(len(J))\n",
    "\n",
    "# Compute sensitivity wrt 2nd parameter at x_point\n",
    "Zj = compute_Zj(lambda x, params_values: func(0, x, params_values), x_point, 1, params_values) \n",
    "print('zj',Zj)\n",
    "print(len(Zj))\n",
    "timepoints = timepoints_ode\n",
    "#SSM = np.reshape(SSM, (len(timepoints), len(params_values), n))"
   ]
  },
  {
   "cell_type": "code",
   "execution_count": 18,
   "metadata": {},
   "outputs": [
    {
     "data": {
      "text/plain": [
       "array([2.02109933727317e-10*enzyme_hex + 1.01054966863659e-12*metabolite_atp + 1.13686837721616e-12*molecule_glucose + 1.01054966863659e-11,\n",
       "       -225.0*enzyme_atpase - 6749.71876171811*enzyme_hex - 48.7485938085906*metabolite_atp - 33.7485938085896*molecule_glucose + 0.0281225860817358,\n",
       "       -6749.71876171821*enzyme_hex - 33.7485938085911*metabolite_atp - 33.7485938085911*molecule_glucose + 0.0281225861019468,\n",
       "       6749.71876171841*enzyme_hex + 33.7485938085921*metabolite_atp + 33.7485938085921*molecule_glucose - 0.0281225860918413,\n",
       "       6749.71876171841*enzyme_hex + 33.7485938085921*metabolite_atp + 33.7485938085921*molecule_glucose - 0.0281225860918413,\n",
       "       0, 0, 0, 0, 0, 0, 0, 0, 0, 0, 0, 0, 0, 0, 0, 0, 0, 0, 0, 0, 0, 0,\n",
       "       0, 0, 0, 0, 0, 0, 0, 0,\n",
       "       -225.000000000004*enzyme_atpase - 15.0000000000003*metabolite_atp,\n",
       "       225.000000000004*enzyme_atpase + 15.0000000000003*metabolite_atp,\n",
       "       0], dtype=object)"
      ]
     },
     "execution_count": 18,
     "metadata": {},
     "output_type": "execute_result"
    }
   ],
   "source": [
    "J@x + Zj"
   ]
  },
  {
   "cell_type": "code",
   "execution_count": 19,
   "metadata": {},
   "outputs": [
    {
     "data": {
      "text/plain": [
       "38"
      ]
     },
     "execution_count": 19,
     "metadata": {},
     "output_type": "execute_result"
    }
   ],
   "source": [
    "len(x)"
   ]
  },
  {
   "cell_type": "code",
   "execution_count": 20,
   "metadata": {},
   "outputs": [
    {
     "name": "stdout",
     "output_type": "stream",
     "text": [
      "xs [[ 1.50000000e-01  3.00000000e+01  3.00000000e+01 ...  2.00000000e+00\n",
      "   0.00000000e+00  0.00000000e+00]\n",
      " [ 1.50000000e-01  5.66347417e-01  2.46499122e+00 ...  2.59908223e-02\n",
      "   1.55286849e-01  1.81872233e+00]\n",
      " [ 1.50000000e-01  1.44322629e+01  3.40718785e-03 ...  3.37839955e-02\n",
      "   9.69481727e-01  9.96734277e-01]\n",
      " ...\n",
      " [ 1.50000000e-01  2.92658418e-02 -1.59974727e-67 ...  1.22419107e-02\n",
      "   1.57964172e-03  1.98617845e+00]\n",
      " [ 1.50000000e-01  2.71790608e-02 -1.52467556e-67 ...  1.22413219e-02\n",
      "   1.46682688e-03  1.98629185e+00]\n",
      " [ 1.50000000e-01  2.52460438e-02 -1.45813323e-67 ...  1.22407754e-02\n",
      "   1.36233685e-03  1.98639689e+00]]\n",
      "k 0\n",
      "k 1\n",
      "k 2\n",
      "k 3\n",
      "k 4\n",
      "k 5\n",
      "k 6\n",
      "k 7\n",
      "k 8\n",
      "k 9\n",
      "k 10\n",
      "k 11\n",
      "k 12\n",
      "k 13\n",
      "k 14\n",
      "k 15\n",
      "k 16\n",
      "k 17\n",
      "k 18\n",
      "k 19\n",
      "k 20\n",
      "k 21\n",
      "k 22\n",
      "k 23\n",
      "k 24\n",
      "k 25\n",
      "k 26\n",
      "k 27\n",
      "k 28\n",
      "k 29\n",
      "k 30\n",
      "k 31\n",
      "k 32\n",
      "k 33\n",
      "k 34\n",
      "k 35\n",
      "k 36\n",
      "k 37\n",
      "k 38\n",
      "k 39\n",
      "k 40\n",
      "k 41\n",
      "k 42\n",
      "k 43\n",
      "k 44\n",
      "k 45\n",
      "k 46\n",
      "k 47\n",
      "k 48\n",
      "k 49\n",
      "k 50\n",
      "k 51\n",
      "k 52\n",
      "k 53\n",
      "k 54\n",
      "k 55\n",
      "k 56\n",
      "k 57\n",
      "k 58\n",
      "k 59\n",
      "k 60\n",
      "k 61\n",
      "k 62\n",
      "k 63\n",
      "k 64\n"
     ]
    },
    {
     "name": "stderr",
     "output_type": "stream",
     "text": [
      "/Users/ankitaroychoudhury/opt/anaconda3/lib/python3.7/site-packages/scipy/integrate/odepack.py:248: ODEintWarning: Excess work done on this call (perhaps wrong Dfun type). Run with full_output = 1 to get quantitative information.\n",
      "  warnings.warn(warning_msg, ODEintWarning)\n"
     ]
    },
    {
     "name": "stdout",
     "output_type": "stream",
     "text": [
      "k 65\n",
      "k 66\n",
      "k 67\n",
      "k 68\n",
      "k 69\n",
      "k 70\n",
      "k 71\n",
      "k 72\n",
      "k 73\n",
      "k 74\n",
      "k 75\n",
      "k 76\n",
      "k 77\n",
      "k 78\n",
      "k 79\n",
      "k 80\n",
      "k 81\n",
      "k 82\n",
      "k 83\n",
      "k 84\n",
      "k 85\n",
      "k 86\n",
      "k 87\n",
      "k 88\n",
      "k 89\n",
      "k 90\n",
      "k 91\n",
      "k 92\n",
      "k 93\n",
      "k 94\n",
      "k 95\n",
      "k 96\n",
      "k 97\n",
      "k 98\n",
      "k 99\n"
     ]
    },
    {
     "name": "stderr",
     "output_type": "stream",
     "text": [
      "/Users/ankitaroychoudhury/opt/anaconda3/lib/python3.7/site-packages/ipykernel_launcher.py:62: RuntimeWarning: invalid value encountered in true_divide\n",
      "/Users/ankitaroychoudhury/opt/anaconda3/lib/python3.7/site-packages/ipykernel_launcher.py:62: RuntimeWarning: overflow encountered in true_divide\n"
     ]
    }
   ],
   "source": [
    "SSM = compute_SSM(func, sol, params_values, timepoints, normalize = True)  "
   ]
  },
  {
   "cell_type": "code",
   "execution_count": 21,
   "metadata": {},
   "outputs": [
    {
     "name": "stdout",
     "output_type": "stream",
     "text": [
      "h\n"
     ]
    },
    {
     "ename": "ValueError",
     "evalue": "matmul: Input operand 1 has a mismatch in its core dimension 0, with gufunc signature (n?,k),(k,m?)->(n?,m?) (size 38 is different from 68)",
     "output_type": "error",
     "traceback": [
      "\u001b[0;31m---------------------------------------------------------------------------\u001b[0m",
      "\u001b[0;31mValueError\u001b[0m                                Traceback (most recent call last)",
      "\u001b[0;32m<ipython-input-21-e904df876e01>\u001b[0m in \u001b[0;36m<module>\u001b[0;34m\u001b[0m\n\u001b[1;32m      6\u001b[0m \u001b[0mout_Ss\u001b[0m \u001b[0;34m=\u001b[0m \u001b[0;34m[\u001b[0m\u001b[0;34m]\u001b[0m\u001b[0;34m\u001b[0m\u001b[0;34m\u001b[0m\u001b[0m\n\u001b[1;32m      7\u001b[0m \u001b[0;32mfor\u001b[0m \u001b[0mi\u001b[0m \u001b[0;32min\u001b[0m \u001b[0mrange\u001b[0m\u001b[0;34m(\u001b[0m\u001b[0mlen\u001b[0m\u001b[0;34m(\u001b[0m\u001b[0mparams_values\u001b[0m\u001b[0;34m)\u001b[0m\u001b[0;34m)\u001b[0m\u001b[0;34m:\u001b[0m\u001b[0;34m\u001b[0m\u001b[0;34m\u001b[0m\u001b[0m\n\u001b[0;32m----> 8\u001b[0;31m     \u001b[0mout_Ss\u001b[0m\u001b[0;34m.\u001b[0m\u001b[0mappend\u001b[0m\u001b[0;34m(\u001b[0m\u001b[0;34m(\u001b[0m\u001b[0mnp\u001b[0m\u001b[0;34m.\u001b[0m\u001b[0marray\u001b[0m\u001b[0;34m(\u001b[0m\u001b[0mC\u001b[0m\u001b[0;34m)\u001b[0m\u001b[0;34m@\u001b[0m\u001b[0;34m(\u001b[0m\u001b[0mSSM\u001b[0m\u001b[0;34m[\u001b[0m\u001b[0;34m:\u001b[0m\u001b[0;34m,\u001b[0m\u001b[0mi\u001b[0m\u001b[0;34m,\u001b[0m\u001b[0;34m:\u001b[0m\u001b[0;34m]\u001b[0m\u001b[0;34m.\u001b[0m\u001b[0mT\u001b[0m\u001b[0;34m)\u001b[0m\u001b[0;34m)\u001b[0m\u001b[0;34m)\u001b[0m\u001b[0;34m\u001b[0m\u001b[0;34m\u001b[0m\u001b[0m\n\u001b[0m\u001b[1;32m      9\u001b[0m \u001b[0mout_Ss\u001b[0m \u001b[0;34m=\u001b[0m \u001b[0mnp\u001b[0m\u001b[0;34m.\u001b[0m\u001b[0mreshape\u001b[0m\u001b[0;34m(\u001b[0m\u001b[0mnp\u001b[0m\u001b[0;34m.\u001b[0m\u001b[0marray\u001b[0m\u001b[0;34m(\u001b[0m\u001b[0mout_Ss\u001b[0m\u001b[0;34m)\u001b[0m\u001b[0;34m,\u001b[0m \u001b[0;34m(\u001b[0m\u001b[0mlen\u001b[0m\u001b[0;34m(\u001b[0m\u001b[0mtimepoints_ssm\u001b[0m\u001b[0;34m)\u001b[0m\u001b[0;34m,\u001b[0m \u001b[0mlen\u001b[0m\u001b[0;34m(\u001b[0m\u001b[0mparams_values\u001b[0m\u001b[0;34m)\u001b[0m\u001b[0;34m,\u001b[0m \u001b[0mnouts\u001b[0m\u001b[0;34m)\u001b[0m\u001b[0;34m)\u001b[0m\u001b[0;34m\u001b[0m\u001b[0;34m\u001b[0m\u001b[0m\n",
      "\u001b[0;31mValueError\u001b[0m: matmul: Input operand 1 has a mismatch in its core dimension 0, with gufunc signature (n?,k),(k,m?)->(n?,m?) (size 38 is different from 68)"
     ]
    }
   ],
   "source": [
    "# from auto_reduce.utils import get_SSM\n",
    "# timepoints_ssm = np.linspace(0,100,10)\n",
    "# sys_ssm = get_SSM(sys, timepoints_ssm)\n",
    "\n",
    "print('h')# len(timepoints) x len(params) x len(states)\n",
    "out_Ss = []\n",
    "for i in range(len(params_values)):\n",
    "    out_Ss.append((np.array(C)@(SSM[:,i,:].T)))\n",
    "out_Ss = np.reshape(np.array(out_Ss), (len(timepoints_ssm), len(params_values), nouts))"
   ]
  },
  {
   "cell_type": "code",
   "execution_count": null,
   "metadata": {},
   "outputs": [],
   "source": [
    "nouts=1\n",
    "C = np.zeros((nouts, 38), dtype = int)\n",
    "C[0][1] = 1 # Let's look at ATP\n",
    "\n",
    "C = C.tolist()"
   ]
  },
  {
   "cell_type": "code",
   "execution_count": null,
   "metadata": {},
   "outputs": [],
   "source": []
  },
  {
   "cell_type": "code",
   "execution_count": null,
   "metadata": {},
   "outputs": [],
   "source": [
    "import seaborn as sn\n",
    "for j in range(nouts):\n",
    "   # plt.figure(figsize=(20,10))\n",
    "    sn.heatmap(out_Ss[:,:,j].T)\n",
    "   # plt.draw_if_interactivefigsi\n",
    "    plt.xlabel('Time')\n",
    "    plt.ylabel('Parameters')\n",
    "    plt.title('Sensitivity of output[{0}] with respect to all parameters'.format(j))\n",
    "    plt.show()\n",
    "    "
   ]
  },
  {
   "cell_type": "code",
   "execution_count": null,
   "metadata": {},
   "outputs": [],
   "source": []
  },
  {
   "cell_type": "markdown",
   "metadata": {},
   "source": [
    "## COPY functions\n",
    "---"
   ]
  },
  {
   "cell_type": "code",
   "execution_count": 13,
   "metadata": {},
   "outputs": [],
   "source": [
    "# Compute Jacobian\n",
    "import warnings\n",
    "def compute_J(fun, x, params_values, **kwargs):\n",
    "    '''\n",
    "    Compute the Jacobian J = df/dx at a point x.\n",
    "    Returns a matrix of size n x n.\n",
    "    Uses fourth-order central difference method to compute Jacobian\n",
    "    '''\n",
    "    n = len(x)\n",
    "    #print('n',n)\n",
    "   # print(\"PANIC\")\n",
    "    var = x\n",
    "    # initialize J\n",
    "    J = np.zeros( (n, len(x)) )   \n",
    "    P = params_values \n",
    "    # jfun = nd.Jacobian(lambda x: fun_ode(0, x, P), **kwargs) # Using numdifftools\n",
    "    # return jfun(x)\n",
    "    # store the variable with respect to which we approximate the differentiation (df/dvar)\n",
    "    X = var \n",
    "    for i in range(n):\n",
    "        for j in range(len(var)):\n",
    "            F = np.zeros( (4,1) )\n",
    "            h = X[j]*0.01\n",
    "            # Gets O(4) central difference on dfi/dvarj\n",
    "            if h != 0:\n",
    "                var = X\n",
    "                var[j] = X[j] + 2*h\n",
    "                f = fun(var, P)\n",
    "                F[0] = f[i]\n",
    "                var[j] = X[j] + h\n",
    "                f = fun(var, P)\n",
    "                F[1] = f[i]\n",
    "                var[j] = X[j] - h\n",
    "                f = fun(var, P)\n",
    "                F[2] = f[i]\n",
    "                var[j] = X[j] - 2*h\n",
    "                f = fun(var, P)\n",
    "                F[3] = f[i]\n",
    "                #Store appro var. dfi/dvarj into J\n",
    "                J[i,j]= (-F[0] + 8*F[1] - 8*F[2] + F[3])/(12*h) \n",
    "                # Error check\n",
    "                if J[i, j] == np.Inf:\n",
    "                    warnings.warn('Inf found')\n",
    "                    J[i, j] = 1\n",
    "                elif J[i, j] == np.NaN:\n",
    "                    warnings.warn('NaN found')\n",
    "                    J[i, j] = 0\n",
    "    return J"
   ]
  },
  {
   "cell_type": "code",
   "execution_count": 14,
   "metadata": {},
   "outputs": [],
   "source": [
    "def compute_Zj(fun, x, j, params_values, **kwargs):\n",
    "    '''\n",
    "    Compute Z_j, i.e. df/dp_j at a particular timepoint k for the parameter p_j. \n",
    "    Returns a vector of size n x 1. \n",
    "    '''\n",
    "    n = len(x)\n",
    "    Z = np.zeros(n)    \n",
    "    P_holder = params_values\n",
    "    # For each state\n",
    "    for i in range(n):\n",
    "        P = P_holder\n",
    "        F = np.zeros( (4,1) ) # For 4th order difference\n",
    "        h = P[j]*0.01 # Small parameter for this parameter\n",
    "        # Gets O(4) central difference on dfi/dpj\n",
    "        if h != 0:\n",
    "            P[j] = P_holder[j] + 2*h\n",
    "            f = fun(x, P)\n",
    "            F[0] = f[i]\n",
    "            P[j] = P_holder[j] + h\n",
    "            f = fun(x, P)\n",
    "            F[1] = f[i]\n",
    "            P[j] = P_holder[j] - h\n",
    "            f = fun(x, P)\n",
    "            F[2] = f[i]\n",
    "            P[j] = P_holder[j] - 2*h\n",
    "            f = fun(x, P)\n",
    "            F[3] = f[i]\n",
    "            #Store approx. dfi/dpj into Z\n",
    "            Z[i] = (-F[0] + 8*F[1] - 8*F[2] + F[3])/(12*h)   \n",
    "            if Z[i] == np.Inf:\n",
    "                warnings.warn('Inf found')\n",
    "                Z[i] = 1\n",
    "            elif Z[i] == np.NaN:\n",
    "                warnings.warn('NaN found')\n",
    "                Z[i] = 0\n",
    "    return Z\n",
    "\n",
    "\n"
   ]
  },
  {
   "cell_type": "code",
   "execution_count": 15,
   "metadata": {},
   "outputs": [],
   "source": [
    "import tqdm"
   ]
  },
  {
   "cell_type": "code",
   "execution_count": 16,
   "metadata": {},
   "outputs": [],
   "source": [
    "def compute_SSM(fun, solutions, params_values, timepoints, normalize = False, **kwargs):\n",
    "    '''\n",
    "    Returns the sensitivity coefficients S_j for each parameter p_j. \n",
    "    Solutions is the ODE solution to fun for timepoints.\n",
    "    Solutions is of shape (len(timepoints), n), where n is the len(x).\n",
    "    The sensitivity coefficients are written in a sensitivity matrix SSM of size len(timepoints) x len(params) x n\n",
    "    If normalize argument is true, the coefficients are normalized by the nominal value of each paramneter.\n",
    "    '''\n",
    "    from scipy.integrate import odeint\n",
    "    \n",
    "    def sens_func(t, x, J, Z):\n",
    "        # forms ODE to solve for sensitivity coefficient S\n",
    "        dsdt = J@x + Z\n",
    "        return dsdt\n",
    "    \n",
    "    timepoints_ssm = timepoints\n",
    "    P = params_values\n",
    "    n = len(solutions[0])\n",
    "    S0 = np.zeros(n) # Initial value for S_i  \n",
    "    \n",
    "    SSM = np.zeros( (len(timepoints), len(P), n) )\n",
    "    xs = solutions\n",
    "    print('xs',xs)\n",
    "    xs = np.reshape(xs,(len(timepoints), n))\n",
    "    # Solve for SSM at each time point \n",
    "    for k in range(len(timepoints)): \n",
    "        print('k',k)\n",
    "        timepoints = timepoints_ssm[0:k+1]\n",
    "        if len(timepoints) == 1:\n",
    "            continue\n",
    "        # get the jacobian matrix\n",
    "#         print(xs[k,:])\n",
    "        J = compute_J(lambda x, params_values: fun(0, xs[k,:], params_values), xs[k,:], params_values, **kwargs)\n",
    "#         print(J)\n",
    "        #Solve for S = dx/dp for all x and all P (or theta, the parameters) at time point k\n",
    "        for j in range(len(P)):\n",
    "            # print('for parameter',P[j])\n",
    "            # get the pmatrix\n",
    "            Zj = compute_Zj(lambda x, params_values: fun(0, xs[k,:], params_values), xs[k,:], j, params_values, **kwargs)\n",
    "            # solve for S\n",
    "           # print(\"OK\", J@x + Zj)\n",
    "            sens_func_ode = lambda t, x : sens_func(t, x, J, Zj)\n",
    "            \n",
    "            sol = odeint(sens_func_ode, S0, timepoints, tfirst = True)\n",
    "            S = sol\n",
    "            S = np.reshape(S, (len(timepoints), n))\n",
    "            SSM[k,j,:] = S[k,:]\n",
    "    if normalize:\n",
    "        SSM = normalize_SSM(SSM, xs, params_values) #Identifiablity was estimated using an normalized SSM\n",
    "    return SSM\n",
    "\n",
    "def normalize_SSM(SSM, solutions, params_values):\n",
    "    '''\n",
    "    Returns normalized sensitivity coefficients. \n",
    "    Multiplies each sensitivity coefficient with the corresponding parameter p_j\n",
    "    Divides the result by the corresponding state to obtain the normalized coefficient that is returned.\n",
    "    '''\n",
    "    n = np.shape(solutions)[1]\n",
    "    SSM_normalized = np.zeros(np.shape(SSM))\n",
    "    for j in range(len(params_values)):\n",
    "        for i in range(n):\n",
    "            SSM_normalized[:,j,i] = np.divide(SSM[:,j,i]*params_values[j], solutions[:,i]) \n",
    "    return SSM_normalized\n",
    "\n"
   ]
  },
  {
   "cell_type": "markdown",
   "metadata": {},
   "source": [
    "## sensitivity analysis cont"
   ]
  },
  {
   "cell_type": "code",
   "execution_count": null,
   "metadata": {},
   "outputs": [],
   "source": [
    "import matplotlib.pyplot as plt\n",
    "import tqdm\n"
   ]
  },
  {
   "cell_type": "code",
   "execution_count": null,
   "metadata": {},
   "outputs": [],
   "source": [
    "from auto_reduce.utils import get_SSM\n",
    "timepoints_ssm = np.linspace(0,100,10)\n",
    "print('0')\n",
    "sys_ssm = get_SSM(sys, timepoints_ssm)\n",
    "print('1')"
   ]
  },
  {
   "cell_type": "code",
   "execution_count": null,
   "metadata": {},
   "outputs": [],
   "source": [
    "print(type(sol))\n",
    "print(type(sys_ode))\n",
    "print(type(sys_ssm))\n",
    "print(type(sys))\n",
    "print(type(sol))"
   ]
  },
  {
   "cell_type": "code",
   "execution_count": null,
   "metadata": {},
   "outputs": [],
   "source": [
    "Ss = sys_ssm.compute_SSM() "
   ]
  },
  {
   "cell_type": "code",
   "execution_count": null,
   "metadata": {},
   "outputs": [],
   "source": []
  },
  {
   "cell_type": "code",
   "execution_count": null,
   "metadata": {},
   "outputs": [],
   "source": []
  },
  {
   "cell_type": "code",
   "execution_count": null,
   "metadata": {},
   "outputs": [],
   "source": []
  },
  {
   "cell_type": "code",
   "execution_count": null,
   "metadata": {},
   "outputs": [],
   "source": []
  },
  {
   "cell_type": "code",
   "execution_count": null,
   "metadata": {},
   "outputs": [],
   "source": [
    "# from auto_reduce.utils import get_SSM\n",
    "# timepoints_ssm = np.linspace(0,100,10)\n",
    "# print('0')\n",
    "# sys_ssm = get_SSM(sys, timepoints_ssm)\n",
    "# print('1')\n",
    "\n",
    "print('2')# len(timepoints) x len(params) x len(states)\n",
    "out_Ss = []\n",
    "for i in tqdm.tqdm(range(len(params))):\n",
    "    out_Ss.append((np.array(C)@(Ss[:,i,:].T)))\n",
    "out_Ss = np.reshape(np.array(out_Ss), (len(timepoints_ssm), len(params), nouts))"
   ]
  },
  {
   "cell_type": "code",
   "execution_count": null,
   "metadata": {},
   "outputs": [],
   "source": [
    "import seaborn as sn\n",
    "for j in range(nouts):\n",
    "    sn.heatmap(out_Ss[:,:,j].T)\n",
    "    plt.xlabel('Time')\n",
    "    plt.ylabel('Parameters')\n",
    "    plt.title('Sensitivity of output[{0}] with respect to all parameters'.format(j))\n",
    "    plt.show()"
   ]
  },
  {
   "cell_type": "code",
   "execution_count": null,
   "metadata": {},
   "outputs": [],
   "source": []
  }
 ],
 "metadata": {
  "kernelspec": {
   "display_name": "Python 3",
   "language": "python",
   "name": "python3"
  },
  "language_info": {
   "codemirror_mode": {
    "name": "ipython",
    "version": 3
   },
   "file_extension": ".py",
   "mimetype": "text/x-python",
   "name": "python",
   "nbconvert_exporter": "python",
   "pygments_lexer": "ipython3",
   "version": "3.7.7"
  }
 },
 "nbformat": 4,
 "nbformat_minor": 4
}
