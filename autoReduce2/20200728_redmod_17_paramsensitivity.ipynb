{
 "cells": [
  {
   "cell_type": "markdown",
   "metadata": {},
   "source": [
    "# Reduced Model attempt 17: Parameter Sensitivity Analysis\n",
    "In this notebook, we will perform sensitivity analysis to see what parameters are more important and which aren't, maybe we can remove particular reverse reactions."
   ]
  },
  {
   "cell_type": "code",
   "execution_count": 1,
   "metadata": {},
   "outputs": [
    {
     "data": {
      "text/html": [
       "\n",
       "    <div class=\"bk-root\">\n",
       "        <a href=\"https://bokeh.org\" target=\"_blank\" class=\"bk-logo bk-logo-small bk-logo-notebook\"></a>\n",
       "        <span id=\"1001\">Loading BokehJS ...</span>\n",
       "    </div>"
      ]
     },
     "metadata": {},
     "output_type": "display_data"
    },
    {
     "data": {
      "application/javascript": [
       "\n",
       "(function(root) {\n",
       "  function now() {\n",
       "    return new Date();\n",
       "  }\n",
       "\n",
       "  var force = true;\n",
       "\n",
       "  if (typeof root._bokeh_onload_callbacks === \"undefined\" || force === true) {\n",
       "    root._bokeh_onload_callbacks = [];\n",
       "    root._bokeh_is_loading = undefined;\n",
       "  }\n",
       "\n",
       "  var JS_MIME_TYPE = 'application/javascript';\n",
       "  var HTML_MIME_TYPE = 'text/html';\n",
       "  var EXEC_MIME_TYPE = 'application/vnd.bokehjs_exec.v0+json';\n",
       "  var CLASS_NAME = 'output_bokeh rendered_html';\n",
       "\n",
       "  /**\n",
       "   * Render data to the DOM node\n",
       "   */\n",
       "  function render(props, node) {\n",
       "    var script = document.createElement(\"script\");\n",
       "    node.appendChild(script);\n",
       "  }\n",
       "\n",
       "  /**\n",
       "   * Handle when an output is cleared or removed\n",
       "   */\n",
       "  function handleClearOutput(event, handle) {\n",
       "    var cell = handle.cell;\n",
       "\n",
       "    var id = cell.output_area._bokeh_element_id;\n",
       "    var server_id = cell.output_area._bokeh_server_id;\n",
       "    // Clean up Bokeh references\n",
       "    if (id != null && id in Bokeh.index) {\n",
       "      Bokeh.index[id].model.document.clear();\n",
       "      delete Bokeh.index[id];\n",
       "    }\n",
       "\n",
       "    if (server_id !== undefined) {\n",
       "      // Clean up Bokeh references\n",
       "      var cmd = \"from bokeh.io.state import curstate; print(curstate().uuid_to_server['\" + server_id + \"'].get_sessions()[0].document.roots[0]._id)\";\n",
       "      cell.notebook.kernel.execute(cmd, {\n",
       "        iopub: {\n",
       "          output: function(msg) {\n",
       "            var id = msg.content.text.trim();\n",
       "            if (id in Bokeh.index) {\n",
       "              Bokeh.index[id].model.document.clear();\n",
       "              delete Bokeh.index[id];\n",
       "            }\n",
       "          }\n",
       "        }\n",
       "      });\n",
       "      // Destroy server and session\n",
       "      var cmd = \"import bokeh.io.notebook as ion; ion.destroy_server('\" + server_id + \"')\";\n",
       "      cell.notebook.kernel.execute(cmd);\n",
       "    }\n",
       "  }\n",
       "\n",
       "  /**\n",
       "   * Handle when a new output is added\n",
       "   */\n",
       "  function handleAddOutput(event, handle) {\n",
       "    var output_area = handle.output_area;\n",
       "    var output = handle.output;\n",
       "\n",
       "    // limit handleAddOutput to display_data with EXEC_MIME_TYPE content only\n",
       "    if ((output.output_type != \"display_data\") || (!output.data.hasOwnProperty(EXEC_MIME_TYPE))) {\n",
       "      return\n",
       "    }\n",
       "\n",
       "    var toinsert = output_area.element.find(\".\" + CLASS_NAME.split(' ')[0]);\n",
       "\n",
       "    if (output.metadata[EXEC_MIME_TYPE][\"id\"] !== undefined) {\n",
       "      toinsert[toinsert.length - 1].firstChild.textContent = output.data[JS_MIME_TYPE];\n",
       "      // store reference to embed id on output_area\n",
       "      output_area._bokeh_element_id = output.metadata[EXEC_MIME_TYPE][\"id\"];\n",
       "    }\n",
       "    if (output.metadata[EXEC_MIME_TYPE][\"server_id\"] !== undefined) {\n",
       "      var bk_div = document.createElement(\"div\");\n",
       "      bk_div.innerHTML = output.data[HTML_MIME_TYPE];\n",
       "      var script_attrs = bk_div.children[0].attributes;\n",
       "      for (var i = 0; i < script_attrs.length; i++) {\n",
       "        toinsert[toinsert.length - 1].firstChild.setAttribute(script_attrs[i].name, script_attrs[i].value);\n",
       "      }\n",
       "      // store reference to server id on output_area\n",
       "      output_area._bokeh_server_id = output.metadata[EXEC_MIME_TYPE][\"server_id\"];\n",
       "    }\n",
       "  }\n",
       "\n",
       "  function register_renderer(events, OutputArea) {\n",
       "\n",
       "    function append_mime(data, metadata, element) {\n",
       "      // create a DOM node to render to\n",
       "      var toinsert = this.create_output_subarea(\n",
       "        metadata,\n",
       "        CLASS_NAME,\n",
       "        EXEC_MIME_TYPE\n",
       "      );\n",
       "      this.keyboard_manager.register_events(toinsert);\n",
       "      // Render to node\n",
       "      var props = {data: data, metadata: metadata[EXEC_MIME_TYPE]};\n",
       "      render(props, toinsert[toinsert.length - 1]);\n",
       "      element.append(toinsert);\n",
       "      return toinsert\n",
       "    }\n",
       "\n",
       "    /* Handle when an output is cleared or removed */\n",
       "    events.on('clear_output.CodeCell', handleClearOutput);\n",
       "    events.on('delete.Cell', handleClearOutput);\n",
       "\n",
       "    /* Handle when a new output is added */\n",
       "    events.on('output_added.OutputArea', handleAddOutput);\n",
       "\n",
       "    /**\n",
       "     * Register the mime type and append_mime function with output_area\n",
       "     */\n",
       "    OutputArea.prototype.register_mime_type(EXEC_MIME_TYPE, append_mime, {\n",
       "      /* Is output safe? */\n",
       "      safe: true,\n",
       "      /* Index of renderer in `output_area.display_order` */\n",
       "      index: 0\n",
       "    });\n",
       "  }\n",
       "\n",
       "  // register the mime type if in Jupyter Notebook environment and previously unregistered\n",
       "  if (root.Jupyter !== undefined) {\n",
       "    var events = require('base/js/events');\n",
       "    var OutputArea = require('notebook/js/outputarea').OutputArea;\n",
       "\n",
       "    if (OutputArea.prototype.mime_types().indexOf(EXEC_MIME_TYPE) == -1) {\n",
       "      register_renderer(events, OutputArea);\n",
       "    }\n",
       "  }\n",
       "\n",
       "  \n",
       "  if (typeof (root._bokeh_timeout) === \"undefined\" || force === true) {\n",
       "    root._bokeh_timeout = Date.now() + 5000;\n",
       "    root._bokeh_failed_load = false;\n",
       "  }\n",
       "\n",
       "  var NB_LOAD_WARNING = {'data': {'text/html':\n",
       "     \"<div style='background-color: #fdd'>\\n\"+\n",
       "     \"<p>\\n\"+\n",
       "     \"BokehJS does not appear to have successfully loaded. If loading BokehJS from CDN, this \\n\"+\n",
       "     \"may be due to a slow or bad network connection. Possible fixes:\\n\"+\n",
       "     \"</p>\\n\"+\n",
       "     \"<ul>\\n\"+\n",
       "     \"<li>re-rerun `output_notebook()` to attempt to load from CDN again, or</li>\\n\"+\n",
       "     \"<li>use INLINE resources instead, as so:</li>\\n\"+\n",
       "     \"</ul>\\n\"+\n",
       "     \"<code>\\n\"+\n",
       "     \"from bokeh.resources import INLINE\\n\"+\n",
       "     \"output_notebook(resources=INLINE)\\n\"+\n",
       "     \"</code>\\n\"+\n",
       "     \"</div>\"}};\n",
       "\n",
       "  function display_loaded() {\n",
       "    var el = document.getElementById(\"1001\");\n",
       "    if (el != null) {\n",
       "      el.textContent = \"BokehJS is loading...\";\n",
       "    }\n",
       "    if (root.Bokeh !== undefined) {\n",
       "      if (el != null) {\n",
       "        el.textContent = \"BokehJS \" + root.Bokeh.version + \" successfully loaded.\";\n",
       "      }\n",
       "    } else if (Date.now() < root._bokeh_timeout) {\n",
       "      setTimeout(display_loaded, 100)\n",
       "    }\n",
       "  }\n",
       "\n",
       "\n",
       "  function run_callbacks() {\n",
       "    try {\n",
       "      root._bokeh_onload_callbacks.forEach(function(callback) {\n",
       "        if (callback != null)\n",
       "          callback();\n",
       "      });\n",
       "    } finally {\n",
       "      delete root._bokeh_onload_callbacks\n",
       "    }\n",
       "    console.debug(\"Bokeh: all callbacks have finished\");\n",
       "  }\n",
       "\n",
       "  function load_libs(css_urls, js_urls, callback) {\n",
       "    if (css_urls == null) css_urls = [];\n",
       "    if (js_urls == null) js_urls = [];\n",
       "\n",
       "    root._bokeh_onload_callbacks.push(callback);\n",
       "    if (root._bokeh_is_loading > 0) {\n",
       "      console.debug(\"Bokeh: BokehJS is being loaded, scheduling callback at\", now());\n",
       "      return null;\n",
       "    }\n",
       "    if (js_urls == null || js_urls.length === 0) {\n",
       "      run_callbacks();\n",
       "      return null;\n",
       "    }\n",
       "    console.debug(\"Bokeh: BokehJS not loaded, scheduling load and callback at\", now());\n",
       "    root._bokeh_is_loading = css_urls.length + js_urls.length;\n",
       "\n",
       "    function on_load() {\n",
       "      root._bokeh_is_loading--;\n",
       "      if (root._bokeh_is_loading === 0) {\n",
       "        console.debug(\"Bokeh: all BokehJS libraries/stylesheets loaded\");\n",
       "        run_callbacks()\n",
       "      }\n",
       "    }\n",
       "\n",
       "    function on_error() {\n",
       "      console.error(\"failed to load \" + url);\n",
       "    }\n",
       "\n",
       "    for (var i = 0; i < css_urls.length; i++) {\n",
       "      var url = css_urls[i];\n",
       "      const element = document.createElement(\"link\");\n",
       "      element.onload = on_load;\n",
       "      element.onerror = on_error;\n",
       "      element.rel = \"stylesheet\";\n",
       "      element.type = \"text/css\";\n",
       "      element.href = url;\n",
       "      console.debug(\"Bokeh: injecting link tag for BokehJS stylesheet: \", url);\n",
       "      document.body.appendChild(element);\n",
       "    }\n",
       "\n",
       "    for (var i = 0; i < js_urls.length; i++) {\n",
       "      var url = js_urls[i];\n",
       "      var element = document.createElement('script');\n",
       "      element.onload = on_load;\n",
       "      element.onerror = on_error;\n",
       "      element.async = false;\n",
       "      element.src = url;\n",
       "      console.debug(\"Bokeh: injecting script tag for BokehJS library: \", url);\n",
       "      document.head.appendChild(element);\n",
       "    }\n",
       "  };var element = document.getElementById(\"1001\");\n",
       "  if (element == null) {\n",
       "    console.error(\"Bokeh: ERROR: autoload.js configured with elementid '1001' but no matching script tag was found. \")\n",
       "    return false;\n",
       "  }\n",
       "\n",
       "  function inject_raw_css(css) {\n",
       "    const element = document.createElement(\"style\");\n",
       "    element.appendChild(document.createTextNode(css));\n",
       "    document.body.appendChild(element);\n",
       "  }\n",
       "\n",
       "  \n",
       "  var js_urls = [\"https://cdn.pydata.org/bokeh/release/bokeh-1.4.0.min.js\", \"https://cdn.pydata.org/bokeh/release/bokeh-widgets-1.4.0.min.js\", \"https://cdn.pydata.org/bokeh/release/bokeh-tables-1.4.0.min.js\", \"https://cdn.pydata.org/bokeh/release/bokeh-gl-1.4.0.min.js\"];\n",
       "  var css_urls = [];\n",
       "  \n",
       "\n",
       "  var inline_js = [\n",
       "    function(Bokeh) {\n",
       "      Bokeh.set_log_level(\"info\");\n",
       "    },\n",
       "    function(Bokeh) {\n",
       "    \n",
       "    \n",
       "    }\n",
       "  ];\n",
       "\n",
       "  function run_inline_js() {\n",
       "    \n",
       "    if (root.Bokeh !== undefined || force === true) {\n",
       "      \n",
       "    for (var i = 0; i < inline_js.length; i++) {\n",
       "      inline_js[i].call(root, root.Bokeh);\n",
       "    }\n",
       "    if (force === true) {\n",
       "        display_loaded();\n",
       "      }} else if (Date.now() < root._bokeh_timeout) {\n",
       "      setTimeout(run_inline_js, 100);\n",
       "    } else if (!root._bokeh_failed_load) {\n",
       "      console.log(\"Bokeh: BokehJS failed to load within specified timeout.\");\n",
       "      root._bokeh_failed_load = true;\n",
       "    } else if (force !== true) {\n",
       "      var cell = $(document.getElementById(\"1001\")).parents('.cell').data().cell;\n",
       "      cell.output_area.append_execute_result(NB_LOAD_WARNING)\n",
       "    }\n",
       "\n",
       "  }\n",
       "\n",
       "  if (root._bokeh_is_loading === 0) {\n",
       "    console.debug(\"Bokeh: BokehJS loaded, going straight to plotting\");\n",
       "    run_inline_js();\n",
       "  } else {\n",
       "    load_libs(css_urls, js_urls, function() {\n",
       "      console.debug(\"Bokeh: BokehJS plotting callback run at\", now());\n",
       "      run_inline_js();\n",
       "    });\n",
       "  }\n",
       "}(window));"
      ],
      "application/vnd.bokehjs_load.v0+json": "\n(function(root) {\n  function now() {\n    return new Date();\n  }\n\n  var force = true;\n\n  if (typeof root._bokeh_onload_callbacks === \"undefined\" || force === true) {\n    root._bokeh_onload_callbacks = [];\n    root._bokeh_is_loading = undefined;\n  }\n\n  \n\n  \n  if (typeof (root._bokeh_timeout) === \"undefined\" || force === true) {\n    root._bokeh_timeout = Date.now() + 5000;\n    root._bokeh_failed_load = false;\n  }\n\n  var NB_LOAD_WARNING = {'data': {'text/html':\n     \"<div style='background-color: #fdd'>\\n\"+\n     \"<p>\\n\"+\n     \"BokehJS does not appear to have successfully loaded. If loading BokehJS from CDN, this \\n\"+\n     \"may be due to a slow or bad network connection. Possible fixes:\\n\"+\n     \"</p>\\n\"+\n     \"<ul>\\n\"+\n     \"<li>re-rerun `output_notebook()` to attempt to load from CDN again, or</li>\\n\"+\n     \"<li>use INLINE resources instead, as so:</li>\\n\"+\n     \"</ul>\\n\"+\n     \"<code>\\n\"+\n     \"from bokeh.resources import INLINE\\n\"+\n     \"output_notebook(resources=INLINE)\\n\"+\n     \"</code>\\n\"+\n     \"</div>\"}};\n\n  function display_loaded() {\n    var el = document.getElementById(\"1001\");\n    if (el != null) {\n      el.textContent = \"BokehJS is loading...\";\n    }\n    if (root.Bokeh !== undefined) {\n      if (el != null) {\n        el.textContent = \"BokehJS \" + root.Bokeh.version + \" successfully loaded.\";\n      }\n    } else if (Date.now() < root._bokeh_timeout) {\n      setTimeout(display_loaded, 100)\n    }\n  }\n\n\n  function run_callbacks() {\n    try {\n      root._bokeh_onload_callbacks.forEach(function(callback) {\n        if (callback != null)\n          callback();\n      });\n    } finally {\n      delete root._bokeh_onload_callbacks\n    }\n    console.debug(\"Bokeh: all callbacks have finished\");\n  }\n\n  function load_libs(css_urls, js_urls, callback) {\n    if (css_urls == null) css_urls = [];\n    if (js_urls == null) js_urls = [];\n\n    root._bokeh_onload_callbacks.push(callback);\n    if (root._bokeh_is_loading > 0) {\n      console.debug(\"Bokeh: BokehJS is being loaded, scheduling callback at\", now());\n      return null;\n    }\n    if (js_urls == null || js_urls.length === 0) {\n      run_callbacks();\n      return null;\n    }\n    console.debug(\"Bokeh: BokehJS not loaded, scheduling load and callback at\", now());\n    root._bokeh_is_loading = css_urls.length + js_urls.length;\n\n    function on_load() {\n      root._bokeh_is_loading--;\n      if (root._bokeh_is_loading === 0) {\n        console.debug(\"Bokeh: all BokehJS libraries/stylesheets loaded\");\n        run_callbacks()\n      }\n    }\n\n    function on_error() {\n      console.error(\"failed to load \" + url);\n    }\n\n    for (var i = 0; i < css_urls.length; i++) {\n      var url = css_urls[i];\n      const element = document.createElement(\"link\");\n      element.onload = on_load;\n      element.onerror = on_error;\n      element.rel = \"stylesheet\";\n      element.type = \"text/css\";\n      element.href = url;\n      console.debug(\"Bokeh: injecting link tag for BokehJS stylesheet: \", url);\n      document.body.appendChild(element);\n    }\n\n    for (var i = 0; i < js_urls.length; i++) {\n      var url = js_urls[i];\n      var element = document.createElement('script');\n      element.onload = on_load;\n      element.onerror = on_error;\n      element.async = false;\n      element.src = url;\n      console.debug(\"Bokeh: injecting script tag for BokehJS library: \", url);\n      document.head.appendChild(element);\n    }\n  };var element = document.getElementById(\"1001\");\n  if (element == null) {\n    console.error(\"Bokeh: ERROR: autoload.js configured with elementid '1001' but no matching script tag was found. \")\n    return false;\n  }\n\n  function inject_raw_css(css) {\n    const element = document.createElement(\"style\");\n    element.appendChild(document.createTextNode(css));\n    document.body.appendChild(element);\n  }\n\n  \n  var js_urls = [\"https://cdn.pydata.org/bokeh/release/bokeh-1.4.0.min.js\", \"https://cdn.pydata.org/bokeh/release/bokeh-widgets-1.4.0.min.js\", \"https://cdn.pydata.org/bokeh/release/bokeh-tables-1.4.0.min.js\", \"https://cdn.pydata.org/bokeh/release/bokeh-gl-1.4.0.min.js\"];\n  var css_urls = [];\n  \n\n  var inline_js = [\n    function(Bokeh) {\n      Bokeh.set_log_level(\"info\");\n    },\n    function(Bokeh) {\n    \n    \n    }\n  ];\n\n  function run_inline_js() {\n    \n    if (root.Bokeh !== undefined || force === true) {\n      \n    for (var i = 0; i < inline_js.length; i++) {\n      inline_js[i].call(root, root.Bokeh);\n    }\n    if (force === true) {\n        display_loaded();\n      }} else if (Date.now() < root._bokeh_timeout) {\n      setTimeout(run_inline_js, 100);\n    } else if (!root._bokeh_failed_load) {\n      console.log(\"Bokeh: BokehJS failed to load within specified timeout.\");\n      root._bokeh_failed_load = true;\n    } else if (force !== true) {\n      var cell = $(document.getElementById(\"1001\")).parents('.cell').data().cell;\n      cell.output_area.append_execute_result(NB_LOAD_WARNING)\n    }\n\n  }\n\n  if (root._bokeh_is_loading === 0) {\n    console.debug(\"Bokeh: BokehJS loaded, going straight to plotting\");\n    run_inline_js();\n  } else {\n    load_libs(css_urls, js_urls, function() {\n      console.debug(\"Bokeh: BokehJS plotting callback run at\", now());\n      run_inline_js();\n    });\n  }\n}(window));"
     },
     "metadata": {},
     "output_type": "display_data"
    }
   ],
   "source": [
    "from auto_reduce import *\n",
    "from auto_reduce.utils import get_ODE\n",
    "import matplotlib.pyplot as plt\n",
    "from auto_reduce.utils import reduce\n",
    "\n",
    "import bokeh.io\n",
    "import bokeh.plotting\n",
    "bokeh.io.output_notebook()\n",
    "from bokeh.layouts import row\n",
    "\n",
    "import colorcet\n",
    "\n",
    "from sbml_to_ode2 import *\n",
    "from scipy.integrate import odeint\n",
    "import numpy as np\n",
    "from sympy import *\n",
    "from sympy.utilities.lambdify import lambdify\n",
    "from sympy.abc import t"
   ]
  },
  {
   "cell_type": "markdown",
   "metadata": {},
   "source": [
    "## Copy functions\n",
    "---"
   ]
  },
  {
   "cell_type": "code",
   "execution_count": 2,
   "metadata": {},
   "outputs": [],
   "source": [
    "# Compute Jacobian\n",
    "import warnings\n",
    "def compute_J(fun, x, params_values, **kwargs):\n",
    "    '''\n",
    "    Compute the Jacobian J = df/dx at a point x.\n",
    "    Returns a matrix of size n x n.\n",
    "    Uses fourth-order central difference method to compute Jacobian\n",
    "    '''\n",
    "    n = len(x)\n",
    "    #print('n',n)\n",
    "   # print(\"PANIC\")\n",
    "    var = x\n",
    "    # initialize J\n",
    "    J = np.zeros( (n, len(x)) )   \n",
    "    P = params_values \n",
    "    # jfun = nd.Jacobian(lambda x: fun_ode(0, x, P), **kwargs) # Using numdifftools\n",
    "    # return jfun(x)\n",
    "    # store the variable with respect to which we approximate the differentiation (df/dvar)\n",
    "    X = var \n",
    "    for i in range(n):\n",
    "        for j in range(len(var)):\n",
    "            F = np.zeros( (4,1) )\n",
    "            h = X[j]*0.01\n",
    "            # Gets O(4) central difference on dfi/dvarj\n",
    "            if h != 0:\n",
    "                var = X\n",
    "                var[j] = X[j] + 2*h\n",
    "                f = fun(var, P)\n",
    "                F[0] = f[i]\n",
    "                var[j] = X[j] + h\n",
    "                f = fun(var, P)\n",
    "                F[1] = f[i]\n",
    "                var[j] = X[j] - h\n",
    "                f = fun(var, P)\n",
    "                F[2] = f[i]\n",
    "                var[j] = X[j] - 2*h\n",
    "                f = fun(var, P)\n",
    "                F[3] = f[i]\n",
    "                #Store appro var. dfi/dvarj into J\n",
    "                J[i,j]= (-F[0] + 8*F[1] - 8*F[2] + F[3])/(12*h) \n",
    "                # Error check\n",
    "                if J[i, j] == np.Inf:\n",
    "                    warnings.warn('Inf found')\n",
    "                    J[i, j] = 1\n",
    "                elif J[i, j] == np.NaN:\n",
    "                    warnings.warn('NaN found')\n",
    "                    J[i, j] = 0\n",
    "    return J"
   ]
  },
  {
   "cell_type": "code",
   "execution_count": 3,
   "metadata": {},
   "outputs": [],
   "source": [
    "def compute_Zj(fun, x, j, params_values, **kwargs):\n",
    "    '''\n",
    "    Compute Z_j, i.e. df/dp_j at a particular timepoint k for the parameter p_j. \n",
    "    Returns a vector of size n x 1. \n",
    "    '''\n",
    "    n = len(x)\n",
    "    Z = np.zeros(n)    \n",
    "    P_holder = params_values\n",
    "    # For each state\n",
    "    for i in range(n):\n",
    "        P = P_holder\n",
    "        F = np.zeros( (4,1) ) # For 4th order difference\n",
    "        h = P[j]*0.01 # Small parameter for this parameter\n",
    "        # Gets O(4) central difference on dfi/dpj\n",
    "        if h != 0:\n",
    "            P[j] = P_holder[j] + 2*h\n",
    "            f = fun(x, P)\n",
    "            F[0] = f[i]\n",
    "            P[j] = P_holder[j] + h\n",
    "            f = fun(x, P)\n",
    "            F[1] = f[i]\n",
    "            P[j] = P_holder[j] - h\n",
    "            f = fun(x, P)\n",
    "            F[2] = f[i]\n",
    "            P[j] = P_holder[j] - 2*h\n",
    "            f = fun(x, P)\n",
    "            F[3] = f[i]\n",
    "            #Store approx. dfi/dpj into Z\n",
    "            Z[i] = (-F[0] + 8*F[1] - 8*F[2] + F[3])/(12*h)   \n",
    "            if Z[i] == np.Inf:\n",
    "                warnings.warn('Inf found')\n",
    "                Z[i] = 1\n",
    "            elif Z[i] == np.NaN:\n",
    "                warnings.warn('NaN found')\n",
    "                Z[i] = 0\n",
    "    return Z\n",
    "\n",
    "\n",
    "\n"
   ]
  },
  {
   "cell_type": "code",
   "execution_count": 4,
   "metadata": {},
   "outputs": [],
   "source": [
    "import tqdm\n",
    "def compute_SSM(fun, solutions, params_values, timepoints, normalize = False, **kwargs):\n",
    "    '''\n",
    "    Returns the sensitivity coefficients S_j for each parameter p_j. \n",
    "    Solutions is the ODE solution to fun for timepoints.\n",
    "    Solutions is of shape (len(timepoints), n), where n is the len(x).\n",
    "    The sensitivity coefficients are written in a sensitivity matrix SSM of size len(timepoints) x len(params) x n\n",
    "    If normalize argument is true, the coefficients are normalized by the nominal value of each paramneter.\n",
    "    '''\n",
    "    from scipy.integrate import odeint\n",
    "    \n",
    "    def sens_func(t, x, J, Z):\n",
    "        # forms ODE to solve for sensitivity coefficient S\n",
    "        dsdt = J@x + Z\n",
    "        return dsdt\n",
    "    \n",
    "    timepoints_ssm = timepoints\n",
    "    P = params_values\n",
    "    n = len(solutions[0])\n",
    "    S0 = np.zeros(n) # Initial value for S_i  \n",
    "    \n",
    "    SSM = np.zeros( (len(timepoints), len(P), n) )\n",
    "    xs = solutions\n",
    "    print('xs',xs)\n",
    "    xs = np.reshape(xs,(len(timepoints), n))\n",
    "    # Solve for SSM at each time point \n",
    "    for k in range(len(timepoints)): \n",
    "        print('k',k)\n",
    "        timepoints = timepoints_ssm[0:k+1]\n",
    "        if len(timepoints) == 1:\n",
    "            continue\n",
    "        # get the jacobian matrix\n",
    "#         print(xs[k,:])\n",
    "        J = compute_J(lambda x, params_values: fun(0, xs[k,:], params_values), xs[k,:], params_values, **kwargs)\n",
    "#         print(J)\n",
    "        #Solve for S = dx/dp for all x and all P (or theta, the parameters) at time point k\n",
    "        for j in range(len(P)):\n",
    "            # print('for parameter',P[j])\n",
    "            # get the pmatrix\n",
    "            Zj = compute_Zj(lambda x, params_values: fun(0, xs[k,:], params_values), xs[k,:], j, params_values, **kwargs)\n",
    "            # solve for S\n",
    "           # print(\"OK\", J@x + Zj)\n",
    "            sens_func_ode = lambda t, x : sens_func(t, x, J, Zj)\n",
    "            \n",
    "            sol = odeint(sens_func_ode, S0, timepoints, tfirst = True)\n",
    "            S = sol\n",
    "            S = np.reshape(S, (len(timepoints), n))\n",
    "            SSM[k,j,:] = S[k,:]\n",
    "    if normalize:\n",
    "        SSM = normalize_SSM(SSM, xs, params_values) #Identifiablity was estimated using an normalized SSM\n",
    "    return SSM\n",
    "\n",
    "def normalize_SSM(SSM, solutions, params_values):\n",
    "    '''\n",
    "    Returns normalized sensitivity coefficients. \n",
    "    Multiplies each sensitivity coefficient with the corresponding parameter p_j\n",
    "    Divides the result by the corresponding state to obtain the normalized coefficient that is returned.\n",
    "    '''\n",
    "    n = np.shape(solutions)[1]\n",
    "    SSM_normalized = np.zeros(np.shape(SSM))\n",
    "    for j in range(len(params_values)):\n",
    "        for i in range(n):\n",
    "            SSM_normalized[:,j,i] = np.divide(SSM[:,j,i]*params_values[j], solutions[:,i]) \n",
    "    return SSM_normalized\n",
    "\n",
    "\n"
   ]
  },
  {
   "cell_type": "code",
   "execution_count": null,
   "metadata": {},
   "outputs": [],
   "source": []
  },
  {
   "cell_type": "markdown",
   "metadata": {},
   "source": [
    "--- \n",
    "## Sensitivity Analysis\n",
    "### Reduced Model 5"
   ]
  },
  {
   "cell_type": "code",
   "execution_count": 5,
   "metadata": {},
   "outputs": [],
   "source": [
    "%run sbml_to_ode2.py"
   ]
  },
  {
   "cell_type": "code",
   "execution_count": 6,
   "metadata": {},
   "outputs": [
    {
     "name": "stdout",
     "output_type": "stream",
     "text": [
      "attempting to retain : [0, 1, 2, 3, 4, 7, 8, 11, 12, 15, 16, 19, 20, 21, 22, 25, 26, 27, 30, 33, 34, 37, 38, 41, 42, 45, 46, 49, 50, 53, 54, 57, 58, 61, 62, 65, 66, 67]\n"
     ]
    },
    {
     "name": "stderr",
     "output_type": "stream",
     "text": [
      "/Users/ankitaroychoudhury/opt/anaconda3/lib/python3.7/site-packages/sympy/core/relational.py:470: SymPyDeprecationWarning: \n",
      "\n",
      "Eq(expr) with rhs default to 0 has been deprecated since SymPy 1.5.\n",
      "Use Eq(expr, 0) instead. See\n",
      "https://github.com/sympy/sympy/issues/16587 for more info.\n",
      "\n",
      "  deprecated_since_version=\"1.5\"\n"
     ]
    },
    {
     "name": "stdout",
     "output_type": "stream",
     "text": [
      "Successful time-scale separation solution obtained.\n",
      "the ATP error is: 1192.6103862127325\n",
      "<class 'numpy.ndarray'>\n"
     ]
    },
    {
     "data": {
      "text/html": [
       "\n",
       "\n",
       "\n",
       "\n",
       "\n",
       "\n",
       "  <div class=\"bk-root\" id=\"1596c759-b98b-4ab9-9abc-fc82f0eabe52\" data-root-id=\"1002\"></div>\n"
      ]
     },
     "metadata": {},
     "output_type": "display_data"
    },
    {
     "data": {
      "application/javascript": [
       "(function(root) {\n",
       "  function embed_document(root) {\n",
       "    \n",
       "  var docs_json = {\"d2640986-ff7b-4f7a-9a52-debb27ebfda0\":{\"roots\":{\"references\":[{\"attributes\":{\"below\":[{\"id\":\"1013\",\"type\":\"LinearAxis\"}],\"center\":[{\"id\":\"1017\",\"type\":\"Grid\"},{\"id\":\"1022\",\"type\":\"Grid\"},{\"id\":\"1047\",\"type\":\"Legend\"}],\"left\":[{\"id\":\"1018\",\"type\":\"LinearAxis\"}],\"plot_height\":350,\"plot_width\":475,\"renderers\":[{\"id\":\"1039\",\"type\":\"GlyphRenderer\"},{\"id\":\"1052\",\"type\":\"GlyphRenderer\"},{\"id\":\"1066\",\"type\":\"GlyphRenderer\"}],\"title\":{\"id\":\"1003\",\"type\":\"Title\"},\"toolbar\":{\"id\":\"1029\",\"type\":\"Toolbar\"},\"x_range\":{\"id\":\"1005\",\"type\":\"DataRange1d\"},\"x_scale\":{\"id\":\"1009\",\"type\":\"LinearScale\"},\"y_range\":{\"id\":\"1007\",\"type\":\"DataRange1d\"},\"y_scale\":{\"id\":\"1011\",\"type\":\"LinearScale\"}},\"id\":\"1002\",\"subtype\":\"Figure\",\"type\":\"Plot\"},{\"attributes\":{\"label\":{\"value\":\"isobutanol\"},\"renderers\":[{\"id\":\"1066\",\"type\":\"GlyphRenderer\"}]},\"id\":\"1078\",\"type\":\"LegendItem\"},{\"attributes\":{},\"id\":\"1060\",\"type\":\"UnionRenderers\"},{\"attributes\":{\"line_color\":\"#1f77b3\",\"line_width\":2,\"x\":{\"field\":\"x\"},\"y\":{\"field\":\"y\"}},\"id\":\"1050\",\"type\":\"Line\"},{\"attributes\":{},\"id\":\"1024\",\"type\":\"WheelZoomTool\"},{\"attributes\":{},\"id\":\"1075\",\"type\":\"Selection\"},{\"attributes\":{\"callback\":null},\"id\":\"1007\",\"type\":\"DataRange1d\"},{\"attributes\":{},\"id\":\"1009\",\"type\":\"LinearScale\"},{\"attributes\":{\"bottom_units\":\"screen\",\"fill_alpha\":{\"value\":0.5},\"fill_color\":{\"value\":\"lightgrey\"},\"left_units\":\"screen\",\"level\":\"overlay\",\"line_alpha\":{\"value\":1.0},\"line_color\":{\"value\":\"black\"},\"line_dash\":[4,4],\"line_width\":{\"value\":2},\"render_mode\":\"css\",\"right_units\":\"screen\",\"top_units\":\"screen\"},\"id\":\"1046\",\"type\":\"BoxAnnotation\"},{\"attributes\":{\"text\":\"Reduced Model 5\"},\"id\":\"1003\",\"type\":\"Title\"},{\"attributes\":{},\"id\":\"1028\",\"type\":\"HelpTool\"},{\"attributes\":{\"dimension\":1,\"ticker\":{\"id\":\"1019\",\"type\":\"BasicTicker\"}},\"id\":\"1022\",\"type\":\"Grid\"},{\"attributes\":{\"data_source\":{\"id\":\"1063\",\"type\":\"ColumnDataSource\"},\"glyph\":{\"id\":\"1064\",\"type\":\"Line\"},\"hover_glyph\":null,\"muted_glyph\":null,\"nonselection_glyph\":{\"id\":\"1065\",\"type\":\"Line\"},\"selection_glyph\":null,\"view\":{\"id\":\"1067\",\"type\":\"CDSView\"}},\"id\":\"1066\",\"type\":\"GlyphRenderer\"},{\"attributes\":{\"label\":{\"value\":\"atp\"},\"renderers\":[{\"id\":\"1039\",\"type\":\"GlyphRenderer\"}]},\"id\":\"1048\",\"type\":\"LegendItem\"},{\"attributes\":{\"line_alpha\":0.1,\"line_color\":\"#1f77b4\",\"line_width\":2,\"x\":{\"field\":\"x\"},\"y\":{\"field\":\"y\"}},\"id\":\"1065\",\"type\":\"Line\"},{\"attributes\":{},\"id\":\"1059\",\"type\":\"Selection\"},{\"attributes\":{\"line_alpha\":0.1,\"line_color\":\"#1f77b4\",\"line_width\":2,\"x\":{\"field\":\"x\"},\"y\":{\"field\":\"y\"}},\"id\":\"1051\",\"type\":\"Line\"},{\"attributes\":{\"line_color\":\"#ff7e0e\",\"line_width\":2,\"x\":{\"field\":\"x\"},\"y\":{\"field\":\"y\"}},\"id\":\"1064\",\"type\":\"Line\"},{\"attributes\":{\"source\":{\"id\":\"1049\",\"type\":\"ColumnDataSource\"}},\"id\":\"1053\",\"type\":\"CDSView\"},{\"attributes\":{},\"id\":\"1026\",\"type\":\"SaveTool\"},{\"attributes\":{\"data_source\":{\"id\":\"1049\",\"type\":\"ColumnDataSource\"},\"glyph\":{\"id\":\"1050\",\"type\":\"Line\"},\"hover_glyph\":null,\"muted_glyph\":null,\"nonselection_glyph\":{\"id\":\"1051\",\"type\":\"Line\"},\"selection_glyph\":null,\"view\":{\"id\":\"1053\",\"type\":\"CDSView\"}},\"id\":\"1052\",\"type\":\"GlyphRenderer\"},{\"attributes\":{\"axis_label\":\"Time (hrs)\",\"formatter\":{\"id\":\"1042\",\"type\":\"BasicTickFormatter\"},\"ticker\":{\"id\":\"1014\",\"type\":\"BasicTicker\"}},\"id\":\"1013\",\"type\":\"LinearAxis\"},{\"attributes\":{\"callback\":null,\"data\":{\"x\":{\"__ndarray__\":\"AAAAAAAAAAB2gynyWTfwP3aDKfJZNwBAMUU+6wZTCEB2gynyWTcQQFTks24wRRRAMUU+6wZTGEAOpshn3WAcQHaDKfJZNyBA5bNuMEU+IkBU5LNuMEUkQMIU+awbTCZAMUU+6wZTKECgdYMp8lkqQA6myGfdYCxAfdYNpshnLkB2gynyWTcwQK0bTJHPOjFA5bNuMEU+MkAcTJHPukEzQFTks24wRTRAi3zWDaZINUDCFPmsG0w2QPqsG0yRTzdAMUU+6wZTOEBo3WCKfFY5QKB1gynyWTpA1w2myGddO0AOpshn3WA8QEY+6wZTZD1AfdYNpshnPkC1bjBFPms/QHaDKfJZN0BAks+6wRS5QECtG0yRzzpBQMln3WCKvEFA5bNuMEU+QkAAAAAAAMBCQBxMkc+6QUNAOJgin3XDQ0BU5LNuMEVEQG8wRT7rxkRAi3zWDaZIRUCnyGfdYMpFQMIU+awbTEZA3mCKfNbNRkD6rBtMkU9HQBX5rBtM0UdAMUU+6wZTSEBNkc+6wdRIQGjdYIp8VklAhCnyWTfYSUCgdYMp8llKQLvBFPms20pA1w2myGddS0DzWTeYIt9LQA6myGfdYExAKvJZN5jiTEBGPusGU2RNQGKKfNYN5k1AfdYNpshnTkCZIp91g+lOQLVuMEU+a09A0LrBFPnsT0B2gynyWTdQQIQp8lk3eFBAks+6wRS5UECgdYMp8vlQQK0bTJHPOlFAu8EU+ax7UUDJZ91girxRQNcNpshn/VFA5bNuMEU+UkDzWTeYIn9SQAAAAAAAwFJA\",\"dtype\":\"float64\",\"shape\":[75]},\"y\":{\"__ndarray__\":\"AAAAAAAAPkCmMNbdylj4P1nYn7MHEQA9XHIixEAtKLvCGNckAyVXuizMuogVLaQ5xW9MISMpsjgXe5nFP/q/uHwRsso+2dY3z7hFMwgu6LZsyUXwM2YkNtch/IVUjY21Fctnc3cZNDXF9Q3yfJ89NLB1crt4PyO0zkP7Qxs9ILQ+lYgk9troM1EsyHAKYL6zSMo7AZBGkDN82Zfa+vhls7ovxnjEKxWzeLNoiUsKCjNN+XhaIqrfsivW99WvB9myvQUPMc97wrIJe17vPI6qssi5e4a6m6qysRoCfDVAorKyG3t6NF2WMqjNTELpz3cy6E0AhR5GeLKI+cVV3qlUst6YJ7CfP1gyI2N/GUNHXrIaw2Akq90wMugn7P2C2xSyWo32dJdHMLLZmuGSLeIUMj4P34BQxTiyXj2KcfjOGjK9+cX5lWrosY1+3FPP6Qiypi/J7WXn3DGOT9fncgr2sSk8Wzgp7PYx1nqLOdDAwrEZUb0wAzXfMRrGBOqmtMqxNIBKn6Sc1DHEbX35v9B0sd5uKFUR156xmgVlIELJfzHUMjTtHIuQMauU7zKMK3YxvMtLyqBibDFnW07aO8piMVD1+dft3lkx5JeGHx16UjEs8Y1YmkNLMZw2OS/xu0QxSYiQrLUwQDGbVUYLveI5MWou3A8JKDUxlGGD9l6kMTEjvcHuT+4tMc0F33+iyCkxk0rGPrCJJjHAAKu/w/UjMU7lQrUp4SExHY0TUe0uIDHsQlrS7JQdMQcizcTsRBsx63Qvpg1UGTFKHgQHubAXMbIEJPX4TBYx\",\"dtype\":\"float64\",\"shape\":[75]}},\"selected\":{\"id\":\"1075\",\"type\":\"Selection\"},\"selection_policy\":{\"id\":\"1076\",\"type\":\"UnionRenderers\"}},\"id\":\"1049\",\"type\":\"ColumnDataSource\"},{\"attributes\":{\"source\":{\"id\":\"1063\",\"type\":\"ColumnDataSource\"}},\"id\":\"1067\",\"type\":\"CDSView\"},{\"attributes\":{\"callback\":null},\"id\":\"1005\",\"type\":\"DataRange1d\"},{\"attributes\":{},\"id\":\"1076\",\"type\":\"UnionRenderers\"},{\"attributes\":{\"line_color\":\"#d62628\",\"line_width\":2,\"x\":{\"field\":\"x\"},\"y\":{\"field\":\"y\"}},\"id\":\"1037\",\"type\":\"Line\"},{\"attributes\":{},\"id\":\"1042\",\"type\":\"BasicTickFormatter\"},{\"attributes\":{\"click_policy\":\"hide\",\"items\":[{\"id\":\"1048\",\"type\":\"LegendItem\"},{\"id\":\"1062\",\"type\":\"LegendItem\"},{\"id\":\"1078\",\"type\":\"LegendItem\"}]},\"id\":\"1047\",\"type\":\"Legend\"},{\"attributes\":{},\"id\":\"1014\",\"type\":\"BasicTicker\"},{\"attributes\":{},\"id\":\"1011\",\"type\":\"LinearScale\"},{\"attributes\":{\"ticker\":{\"id\":\"1014\",\"type\":\"BasicTicker\"}},\"id\":\"1017\",\"type\":\"Grid\"},{\"attributes\":{},\"id\":\"1023\",\"type\":\"PanTool\"},{\"attributes\":{\"active_drag\":\"auto\",\"active_inspect\":\"auto\",\"active_multi\":null,\"active_scroll\":\"auto\",\"active_tap\":\"auto\",\"tools\":[{\"id\":\"1023\",\"type\":\"PanTool\"},{\"id\":\"1024\",\"type\":\"WheelZoomTool\"},{\"id\":\"1025\",\"type\":\"BoxZoomTool\"},{\"id\":\"1026\",\"type\":\"SaveTool\"},{\"id\":\"1027\",\"type\":\"ResetTool\"},{\"id\":\"1028\",\"type\":\"HelpTool\"}]},\"id\":\"1029\",\"type\":\"Toolbar\"},{\"attributes\":{\"callback\":null,\"data\":{\"x\":{\"__ndarray__\":\"AAAAAAAAAAB2gynyWTfwP3aDKfJZNwBAMUU+6wZTCEB2gynyWTcQQFTks24wRRRAMUU+6wZTGEAOpshn3WAcQHaDKfJZNyBA5bNuMEU+IkBU5LNuMEUkQMIU+awbTCZAMUU+6wZTKECgdYMp8lkqQA6myGfdYCxAfdYNpshnLkB2gynyWTcwQK0bTJHPOjFA5bNuMEU+MkAcTJHPukEzQFTks24wRTRAi3zWDaZINUDCFPmsG0w2QPqsG0yRTzdAMUU+6wZTOEBo3WCKfFY5QKB1gynyWTpA1w2myGddO0AOpshn3WA8QEY+6wZTZD1AfdYNpshnPkC1bjBFPms/QHaDKfJZN0BAks+6wRS5QECtG0yRzzpBQMln3WCKvEFA5bNuMEU+QkAAAAAAAMBCQBxMkc+6QUNAOJgin3XDQ0BU5LNuMEVEQG8wRT7rxkRAi3zWDaZIRUCnyGfdYMpFQMIU+awbTEZA3mCKfNbNRkD6rBtMkU9HQBX5rBtM0UdAMUU+6wZTSEBNkc+6wdRIQGjdYIp8VklAhCnyWTfYSUCgdYMp8llKQLvBFPms20pA1w2myGddS0DzWTeYIt9LQA6myGfdYExAKvJZN5jiTEBGPusGU2RNQGKKfNYN5k1AfdYNpshnTkCZIp91g+lOQLVuMEU+a09A0LrBFPnsT0B2gynyWTdQQIQp8lk3eFBAks+6wRS5UECgdYMp8vlQQK0bTJHPOlFAu8EU+ax7UUDJZ91girxRQNcNpshn/VFA5bNuMEU+UkDzWTeYIn9SQAAAAAAAwFJA\",\"dtype\":\"float64\",\"shape\":[75]},\"y\":{\"__ndarray__\":\"AAAAAAAAPkDWNfUjSuPzPwt9PZg1kztARmIEmVvgO0Bc8E7UbuI7QAfNGXfO3jtA2X1GDGzWO0Bn9SXdoMQ7QIBaE4zGlTtAaqLGMDnhOkAmpGOM4sM4QHN5njuiDDZAz3hY70Z5M0CxwOU2cikxQPgmQZplPi5A1JpTLk+rKkCisyM874snQGjPxlYR0iRA9AcZqGFwIkDTuLCD8logQGP55Cu0Dh1A33NQTkDZGUA1XNq/MAYXQG/vv/ltiBRA3FOB0M1UEkCcHT/Gx2EQQOHwKONmTg1AMcp+hyE8CkCWSpCasoAHQFAQJXyyEQVAGzwvBx7mAkBb/umgIPYAQAMTpMbOdf4/Bgn3Vfdc+z+XKFKaR5f4P4fAVIWRG/Y/QNUQFcDh8z8Z8TfaseLxPyGuNA0ZGPA/O8LoBsH47D9v0/YDKRXqP/pExXWdfOc/8TSlYkon5T9nlkjINg7jP0obE88qK+E/p3RL/DLx3j8H7CcmGuPbP8Y82SUsI9k/sFIhaHip1j9yhFGP4m7UP6LMEScLbdI/lY8aSDue0D9/2aeepPrNP73aZ1NsC8s/7Oe0zolmyD/1lmcekATGP15DJQ7T3sM//sR491LvwT+dMMogqzDAP8s0gzgDPL0/pn+ndfFluj+L+VJARte3P4iykeLviLU/v8ZD/5B0sz8ElmeIbpSxP9kEsk+/xq8/zWJTun25rD9R42BsufipP5G5sxfofKc/nzLpxD4/pT+S0IG8njmjP3iaKUiEZqE/auUtl+6Bnz+4B9LN+oicP15dd+oa2pk/\",\"dtype\":\"float64\",\"shape\":[75]}},\"selected\":{\"id\":\"1059\",\"type\":\"Selection\"},\"selection_policy\":{\"id\":\"1060\",\"type\":\"UnionRenderers\"}},\"id\":\"1036\",\"type\":\"ColumnDataSource\"},{\"attributes\":{\"overlay\":{\"id\":\"1046\",\"type\":\"BoxAnnotation\"}},\"id\":\"1025\",\"type\":\"BoxZoomTool\"},{\"attributes\":{},\"id\":\"1044\",\"type\":\"BasicTickFormatter\"},{\"attributes\":{\"axis_label\":\"Concentration (mM)\",\"formatter\":{\"id\":\"1044\",\"type\":\"BasicTickFormatter\"},\"ticker\":{\"id\":\"1019\",\"type\":\"BasicTicker\"}},\"id\":\"1018\",\"type\":\"LinearAxis\"},{\"attributes\":{},\"id\":\"1019\",\"type\":\"BasicTicker\"},{\"attributes\":{\"line_alpha\":0.1,\"line_color\":\"#1f77b4\",\"line_width\":2,\"x\":{\"field\":\"x\"},\"y\":{\"field\":\"y\"}},\"id\":\"1038\",\"type\":\"Line\"},{\"attributes\":{},\"id\":\"1088\",\"type\":\"Selection\"},{\"attributes\":{},\"id\":\"1027\",\"type\":\"ResetTool\"},{\"attributes\":{\"label\":{\"value\":\"glucose\"},\"renderers\":[{\"id\":\"1052\",\"type\":\"GlyphRenderer\"}]},\"id\":\"1062\",\"type\":\"LegendItem\"},{\"attributes\":{\"callback\":null,\"data\":{\"x\":{\"__ndarray__\":\"AAAAAAAAAAB2gynyWTfwP3aDKfJZNwBAMUU+6wZTCEB2gynyWTcQQFTks24wRRRAMUU+6wZTGEAOpshn3WAcQHaDKfJZNyBA5bNuMEU+IkBU5LNuMEUkQMIU+awbTCZAMUU+6wZTKECgdYMp8lkqQA6myGfdYCxAfdYNpshnLkB2gynyWTcwQK0bTJHPOjFA5bNuMEU+MkAcTJHPukEzQFTks24wRTRAi3zWDaZINUDCFPmsG0w2QPqsG0yRTzdAMUU+6wZTOEBo3WCKfFY5QKB1gynyWTpA1w2myGddO0AOpshn3WA8QEY+6wZTZD1AfdYNpshnPkC1bjBFPms/QHaDKfJZN0BAks+6wRS5QECtG0yRzzpBQMln3WCKvEFA5bNuMEU+QkAAAAAAAMBCQBxMkc+6QUNAOJgin3XDQ0BU5LNuMEVEQG8wRT7rxkRAi3zWDaZIRUCnyGfdYMpFQMIU+awbTEZA3mCKfNbNRkD6rBtMkU9HQBX5rBtM0UdAMUU+6wZTSEBNkc+6wdRIQGjdYIp8VklAhCnyWTfYSUCgdYMp8llKQLvBFPms20pA1w2myGddS0DzWTeYIt9LQA6myGfdYExAKvJZN5jiTEBGPusGU2RNQGKKfNYN5k1AfdYNpshnTkCZIp91g+lOQLVuMEU+a09A0LrBFPnsT0B2gynyWTdQQIQp8lk3eFBAks+6wRS5UECgdYMp8vlQQK0bTJHPOlFAu8EU+ax7UUDJZ91girxRQNcNpshn/VFA5bNuMEU+UkDzWTeYIn9SQAAAAAAAwFJA\",\"dtype\":\"float64\",\"shape\":[75]},\"y\":{\"__ndarray__\":\"AAAAAAAAAAAgfwguNAjCP3w76L/Svh1AuB04XQ1YMUD0qGSO0sc0QFH82hf+WTZA6ABmutynN0Bk9VNRs/Y4QLO7GrsjSDpAXzYJ3Q6LO0CAgnbya5M8QLQ3fq1JNT1ACvFXBZGFPUAAhhd+1qw9QLhYCtXnwT1Amma2HYvOPUAAYPy04NY9QFat4cDH3D1Aoxm8Qy/hPUCghsnZmeQ9QPRBTqNU5z1AYSMXH5DpPUDXb5FcbOs9QIGm4G//7D1ApnarD1nuPUDfAJK7hO89QO4ydxCL8D1AUp1Oo3LxPUBujzOSQPI9QNaZauf48j1Aiud13p7zPUDxD2IVNfQ9QNI6k7C99D1AjjM2dTr1PUD/KxTdrPU9QBQBpSUW9j1A/YGhW3f2PUDpwwlk0fY9QJiGOAMl9z1ApwKE4nL3PUBHaruUu/c9QNToxZn/9z1AcJWXYT/4PUBkcZpOe/g9QIjDqrez+D1A+DW96ej4PUBXKD4pG/k9QFEsOLNK+T1Ahl9Mvnf5PUA6Y4R7ovk9QGI9BRfL+T1A7XinuPH5PUBJ6HmEFvo9QKBnMps5+j1Aj9eOGlv6PUBZ/6kde/o9QAf+Q72Z+j1AWeACELf6PUCw6Kkq0/o9QLRPSyDu+j1Aj5B0Agj7PUDSFlLhIPs9QPBU0ss4+z1A2SjEz0/7PUC5KPH5Zfs9QA7pNFZ7+z1AI3aS74/7PUBHcUfQo/s9QD723AG3+z1AW902jcn7PUDMd6F62/s9QB8E3tHs+z1ACNstmv37PUBCjlzaDfw9QGEbyZgd/D1A\",\"dtype\":\"float64\",\"shape\":[75]}},\"selected\":{\"id\":\"1088\",\"type\":\"Selection\"},\"selection_policy\":{\"id\":\"1089\",\"type\":\"UnionRenderers\"}},\"id\":\"1063\",\"type\":\"ColumnDataSource\"},{\"attributes\":{},\"id\":\"1089\",\"type\":\"UnionRenderers\"},{\"attributes\":{\"source\":{\"id\":\"1036\",\"type\":\"ColumnDataSource\"}},\"id\":\"1040\",\"type\":\"CDSView\"},{\"attributes\":{\"data_source\":{\"id\":\"1036\",\"type\":\"ColumnDataSource\"},\"glyph\":{\"id\":\"1037\",\"type\":\"Line\"},\"hover_glyph\":null,\"muted_glyph\":null,\"nonselection_glyph\":{\"id\":\"1038\",\"type\":\"Line\"},\"selection_glyph\":null,\"view\":{\"id\":\"1040\",\"type\":\"CDSView\"}},\"id\":\"1039\",\"type\":\"GlyphRenderer\"}],\"root_ids\":[\"1002\"]},\"title\":\"Bokeh Application\",\"version\":\"1.4.0\"}};\n",
       "  var render_items = [{\"docid\":\"d2640986-ff7b-4f7a-9a52-debb27ebfda0\",\"roots\":{\"1002\":\"1596c759-b98b-4ab9-9abc-fc82f0eabe52\"}}];\n",
       "  root.Bokeh.embed.embed_items_notebook(docs_json, render_items);\n",
       "\n",
       "  }\n",
       "  if (root.Bokeh !== undefined) {\n",
       "    embed_document(root);\n",
       "  } else {\n",
       "    var attempts = 0;\n",
       "    var timer = setInterval(function(root) {\n",
       "      if (root.Bokeh !== undefined) {\n",
       "        clearInterval(timer);\n",
       "        embed_document(root);\n",
       "      } else {\n",
       "        attempts++;\n",
       "        if (attempts > 100) {\n",
       "          clearInterval(timer);\n",
       "          console.log(\"Bokeh: ERROR: Unable to run BokehJS code because BokehJS library is missing\");\n",
       "        }\n",
       "      }\n",
       "    }, 10, root)\n",
       "  }\n",
       "})(window);"
      ],
      "application/vnd.bokehjs_exec.v0+json": ""
     },
     "metadata": {
      "application/vnd.bokehjs_exec.v0+json": {
       "id": "1002"
      }
     },
     "output_type": "display_data"
    }
   ],
   "source": [
    "filename = 'CRN_GOOD.xml'\n",
    "x,f,P,params_values,x_init = sbml_to_ode2(filename)\n",
    "#print(x_init)\n",
    "nouts = 1\n",
    "n = len(x)\n",
    "# Make ATP main output\n",
    "C = np.zeros((nouts, n), dtype = int)\n",
    "C[0][1] = 1 \n",
    "C = C.tolist()\n",
    "\n",
    "# Setup system\n",
    "timepoints_ode = np.linspace(0,75,75)\n",
    "\n",
    "error_tol = 100\n",
    "nstates_tol = 1\n",
    "\n",
    "sys = System(x, f, params = P, params_values = params_values, C = C, x_init = x_init)\n",
    "\n",
    "# sys_ode = get_ODE(sys, timepoints_ode)\n",
    "# sol = sys_ode.solve_system()\n",
    "\n",
    "species_to_remove = [5,6,9,10,13, 14,17,18,23,24,28,29,31,32,\n",
    "                 35,36,39,40,43,44,47,48,51,52,55,56,59,60,63,64]\n",
    "\n",
    "timescale_list = []\n",
    "for i in species_to_remove:\n",
    "    timescale_list.append(x[i])\n",
    "\n",
    "# Get appropriate list of complexes that are not in timescale_list\n",
    "# What you should pass into solve_timescale_separation\n",
    "update_timescale = []\n",
    "for item in x:\n",
    "    if item not in timescale_list:\n",
    "        update_timescale.append(item)    \n",
    "#update_timescale\n",
    "\n",
    "timepoints_ssm = np.linspace(0,75,75)\n",
    "timepoints_ode = np.linspace(0, 75, 75)\n",
    "sys_reduce = reduce(sys, timepoints_ode, timepoints_ssm)\n",
    "\n",
    "aa,bb = sys_reduce.solve_timescale_separation(update_timescale)\n",
    "print('the ATP error is:',sys_reduce.get_error_metric(aa))\n",
    "\n",
    "sys_ode = get_ODE(aa, timepoints_ode)\n",
    "sol = sys_ode.solve_system()\n",
    "print(type(sol))\n",
    "\n",
    "\n",
    "p = bokeh.plotting.figure(width = 475, height = 350, title = 'Reduced Model 5',\n",
    "                             x_axis_label = 'Time (hrs)',\n",
    "                             y_axis_label = 'Concentration (mM)')\n",
    "#colors = ['#66c2a5','#fc8d62','#8da0cb','#e78ac3']\n",
    "colors = colorcet.b_glasbey_category10\n",
    "#colors = colorcet.glasbey_warm\n",
    "p.line(timepoints_ode, sol[:,1],line_width = 2, legend_label = 'atp', color = colors[3])\n",
    "p.line(timepoints_ode, sol[:,2], line_width = 2,legend_label = 'glucose', color = colors[0])\n",
    "p.line(timepoints_ode, sol[:,34], line_width = 2,legend_label = 'isobutanol', color = colors[1])\n",
    "\n",
    "\n",
    "p.legend.click_policy = 'hide'\n",
    "bokeh.io.show(p)"
   ]
  },
  {
   "cell_type": "code",
   "execution_count": 7,
   "metadata": {},
   "outputs": [
    {
     "data": {
      "text/plain": [
       "38"
      ]
     },
     "execution_count": 7,
     "metadata": {},
     "output_type": "execute_result"
    }
   ],
   "source": [
    "len(sol[0])"
   ]
  },
  {
   "cell_type": "code",
   "execution_count": 8,
   "metadata": {},
   "outputs": [
    {
     "data": {
      "text/html": [
       "\n",
       "\n",
       "\n",
       "\n",
       "\n",
       "\n",
       "  <div class=\"bk-root\" id=\"198e6c39-97b8-4117-9974-890ed7869537\" data-root-id=\"1163\"></div>\n"
      ]
     },
     "metadata": {},
     "output_type": "display_data"
    },
    {
     "data": {
      "application/javascript": [
       "(function(root) {\n",
       "  function embed_document(root) {\n",
       "    \n",
       "  var docs_json = {\"b32d04a2-110f-46ee-ae99-dbb448130642\":{\"roots\":{\"references\":[{\"attributes\":{\"below\":[{\"id\":\"1174\",\"type\":\"LinearAxis\"}],\"center\":[{\"id\":\"1178\",\"type\":\"Grid\"},{\"id\":\"1183\",\"type\":\"Grid\"}],\"left\":[{\"id\":\"1179\",\"type\":\"LinearAxis\"}],\"plot_height\":350,\"plot_width\":475,\"renderers\":[{\"id\":\"1200\",\"type\":\"GlyphRenderer\"},{\"id\":\"1205\",\"type\":\"GlyphRenderer\"},{\"id\":\"1210\",\"type\":\"GlyphRenderer\"},{\"id\":\"1215\",\"type\":\"GlyphRenderer\"},{\"id\":\"1220\",\"type\":\"GlyphRenderer\"},{\"id\":\"1225\",\"type\":\"GlyphRenderer\"},{\"id\":\"1230\",\"type\":\"GlyphRenderer\"},{\"id\":\"1235\",\"type\":\"GlyphRenderer\"},{\"id\":\"1240\",\"type\":\"GlyphRenderer\"},{\"id\":\"1245\",\"type\":\"GlyphRenderer\"},{\"id\":\"1250\",\"type\":\"GlyphRenderer\"},{\"id\":\"1255\",\"type\":\"GlyphRenderer\"},{\"id\":\"1260\",\"type\":\"GlyphRenderer\"},{\"id\":\"1265\",\"type\":\"GlyphRenderer\"},{\"id\":\"1270\",\"type\":\"GlyphRenderer\"},{\"id\":\"1275\",\"type\":\"GlyphRenderer\"},{\"id\":\"1280\",\"type\":\"GlyphRenderer\"},{\"id\":\"1285\",\"type\":\"GlyphRenderer\"},{\"id\":\"1290\",\"type\":\"GlyphRenderer\"},{\"id\":\"1295\",\"type\":\"GlyphRenderer\"},{\"id\":\"1300\",\"type\":\"GlyphRenderer\"},{\"id\":\"1305\",\"type\":\"GlyphRenderer\"},{\"id\":\"1310\",\"type\":\"GlyphRenderer\"},{\"id\":\"1315\",\"type\":\"GlyphRenderer\"},{\"id\":\"1320\",\"type\":\"GlyphRenderer\"},{\"id\":\"1325\",\"type\":\"GlyphRenderer\"},{\"id\":\"1330\",\"type\":\"GlyphRenderer\"},{\"id\":\"1335\",\"type\":\"GlyphRenderer\"},{\"id\":\"1340\",\"type\":\"GlyphRenderer\"},{\"id\":\"1345\",\"type\":\"GlyphRenderer\"},{\"id\":\"1350\",\"type\":\"GlyphRenderer\"},{\"id\":\"1355\",\"type\":\"GlyphRenderer\"},{\"id\":\"1360\",\"type\":\"GlyphRenderer\"},{\"id\":\"1365\",\"type\":\"GlyphRenderer\"},{\"id\":\"1370\",\"type\":\"GlyphRenderer\"},{\"id\":\"1375\",\"type\":\"GlyphRenderer\"},{\"id\":\"1380\",\"type\":\"GlyphRenderer\"},{\"id\":\"1385\",\"type\":\"GlyphRenderer\"}],\"title\":{\"id\":\"1164\",\"type\":\"Title\"},\"toolbar\":{\"id\":\"1190\",\"type\":\"Toolbar\"},\"x_range\":{\"id\":\"1166\",\"type\":\"DataRange1d\"},\"x_scale\":{\"id\":\"1170\",\"type\":\"LinearScale\"},\"y_range\":{\"id\":\"1168\",\"type\":\"DataRange1d\"},\"y_scale\":{\"id\":\"1172\",\"type\":\"LinearScale\"}},\"id\":\"1163\",\"subtype\":\"Figure\",\"type\":\"Plot\"},{\"attributes\":{\"callback\":null,\"data\":{\"x\":{\"__ndarray__\":\"AAAAAAAAAAB2gynyWTfwP3aDKfJZNwBAMUU+6wZTCEB2gynyWTcQQFTks24wRRRAMUU+6wZTGEAOpshn3WAcQHaDKfJZNyBA5bNuMEU+IkBU5LNuMEUkQMIU+awbTCZAMUU+6wZTKECgdYMp8lkqQA6myGfdYCxAfdYNpshnLkB2gynyWTcwQK0bTJHPOjFA5bNuMEU+MkAcTJHPukEzQFTks24wRTRAi3zWDaZINUDCFPmsG0w2QPqsG0yRTzdAMUU+6wZTOEBo3WCKfFY5QKB1gynyWTpA1w2myGddO0AOpshn3WA8QEY+6wZTZD1AfdYNpshnPkC1bjBFPms/QHaDKfJZN0BAks+6wRS5QECtG0yRzzpBQMln3WCKvEFA5bNuMEU+QkAAAAAAAMBCQBxMkc+6QUNAOJgin3XDQ0BU5LNuMEVEQG8wRT7rxkRAi3zWDaZIRUCnyGfdYMpFQMIU+awbTEZA3mCKfNbNRkD6rBtMkU9HQBX5rBtM0UdAMUU+6wZTSEBNkc+6wdRIQGjdYIp8VklAhCnyWTfYSUCgdYMp8llKQLvBFPms20pA1w2myGddS0DzWTeYIt9LQA6myGfdYExAKvJZN5jiTEBGPusGU2RNQGKKfNYN5k1AfdYNpshnTkCZIp91g+lOQLVuMEU+a09A0LrBFPnsT0B2gynyWTdQQIQp8lk3eFBAks+6wRS5UECgdYMp8vlQQK0bTJHPOlFAu8EU+ax7UUDJZ91girxRQNcNpshn/VFA5bNuMEU+UkDzWTeYIn9SQAAAAAAAwFJA\",\"dtype\":\"float64\",\"shape\":[75]},\"y\":{\"__ndarray__\":\"AAAAAAAAPkCmMNbdylj4P1nYn7MHEQA9XHIixEAtKLvCGNckAyVXuizMuogVLaQ5xW9MISMpsjgXe5nFP/q/uHwRsso+2dY3z7hFMwgu6LZsyUXwM2YkNtch/IVUjY21Fctnc3cZNDXF9Q3yfJ89NLB1crt4PyO0zkP7Qxs9ILQ+lYgk9troM1EsyHAKYL6zSMo7AZBGkDN82Zfa+vhls7ovxnjEKxWzeLNoiUsKCjNN+XhaIqrfsivW99WvB9myvQUPMc97wrIJe17vPI6qssi5e4a6m6qysRoCfDVAorKyG3t6NF2WMqjNTELpz3cy6E0AhR5GeLKI+cVV3qlUst6YJ7CfP1gyI2N/GUNHXrIaw2Akq90wMugn7P2C2xSyWo32dJdHMLLZmuGSLeIUMj4P34BQxTiyXj2KcfjOGjK9+cX5lWrosY1+3FPP6Qiypi/J7WXn3DGOT9fncgr2sSk8Wzgp7PYx1nqLOdDAwrEZUb0wAzXfMRrGBOqmtMqxNIBKn6Sc1DHEbX35v9B0sd5uKFUR156xmgVlIELJfzHUMjTtHIuQMauU7zKMK3YxvMtLyqBibDFnW07aO8piMVD1+dft3lkx5JeGHx16UjEs8Y1YmkNLMZw2OS/xu0QxSYiQrLUwQDGbVUYLveI5MWou3A8JKDUxlGGD9l6kMTEjvcHuT+4tMc0F33+iyCkxk0rGPrCJJjHAAKu/w/UjMU7lQrUp4SExHY0TUe0uIDHsQlrS7JQdMQcizcTsRBsx63Qvpg1UGTFKHgQHubAXMbIEJPX4TBYx\",\"dtype\":\"float64\",\"shape\":[75]}},\"selected\":{\"id\":\"1408\",\"type\":\"Selection\"},\"selection_policy\":{\"id\":\"1409\",\"type\":\"UnionRenderers\"}},\"id\":\"1207\",\"type\":\"ColumnDataSource\"},{\"attributes\":{\"source\":{\"id\":\"1337\",\"type\":\"ColumnDataSource\"}},\"id\":\"1341\",\"type\":\"CDSView\"},{\"attributes\":{},\"id\":\"1443\",\"type\":\"UnionRenderers\"},{\"attributes\":{},\"id\":\"1468\",\"type\":\"Selection\"},{\"attributes\":{\"line_color\":\"#90ff00\",\"line_width\":2,\"x\":{\"field\":\"x\"},\"y\":{\"field\":\"y\"}},\"id\":\"1328\",\"type\":\"Line\"},{\"attributes\":{\"line_alpha\":0.1,\"line_color\":\"#1f77b4\",\"line_width\":2,\"x\":{\"field\":\"x\"},\"y\":{\"field\":\"y\"}},\"id\":\"1344\",\"type\":\"Line\"},{\"attributes\":{\"line_color\":\"#dd00ff\",\"line_width\":2,\"x\":{\"field\":\"x\"},\"y\":{\"field\":\"y\"}},\"id\":\"1363\",\"type\":\"Line\"},{\"attributes\":{\"data_source\":{\"id\":\"1202\",\"type\":\"ColumnDataSource\"},\"glyph\":{\"id\":\"1203\",\"type\":\"Line\"},\"hover_glyph\":null,\"muted_glyph\":null,\"nonselection_glyph\":{\"id\":\"1204\",\"type\":\"Line\"},\"selection_glyph\":null,\"view\":{\"id\":\"1206\",\"type\":\"CDSView\"}},\"id\":\"1205\",\"type\":\"GlyphRenderer\"},{\"attributes\":{\"line_color\":\"#018267\",\"line_width\":2,\"x\":{\"field\":\"x\"},\"y\":{\"field\":\"y\"}},\"id\":\"1323\",\"type\":\"Line\"},{\"attributes\":{},\"id\":\"1469\",\"type\":\"UnionRenderers\"},{\"attributes\":{\"data_source\":{\"id\":\"1287\",\"type\":\"ColumnDataSource\"},\"glyph\":{\"id\":\"1288\",\"type\":\"Line\"},\"hover_glyph\":null,\"muted_glyph\":null,\"nonselection_glyph\":{\"id\":\"1289\",\"type\":\"Line\"},\"selection_glyph\":null,\"view\":{\"id\":\"1291\",\"type\":\"CDSView\"}},\"id\":\"1290\",\"type\":\"GlyphRenderer\"},{\"attributes\":{\"data_source\":{\"id\":\"1337\",\"type\":\"ColumnDataSource\"},\"glyph\":{\"id\":\"1338\",\"type\":\"Line\"},\"hover_glyph\":null,\"muted_glyph\":null,\"nonselection_glyph\":{\"id\":\"1339\",\"type\":\"Line\"},\"selection_glyph\":null,\"view\":{\"id\":\"1341\",\"type\":\"CDSView\"}},\"id\":\"1340\",\"type\":\"GlyphRenderer\"},{\"attributes\":{\"callback\":null,\"data\":{\"x\":{\"__ndarray__\":\"AAAAAAAAAAB2gynyWTfwP3aDKfJZNwBAMUU+6wZTCEB2gynyWTcQQFTks24wRRRAMUU+6wZTGEAOpshn3WAcQHaDKfJZNyBA5bNuMEU+IkBU5LNuMEUkQMIU+awbTCZAMUU+6wZTKECgdYMp8lkqQA6myGfdYCxAfdYNpshnLkB2gynyWTcwQK0bTJHPOjFA5bNuMEU+MkAcTJHPukEzQFTks24wRTRAi3zWDaZINUDCFPmsG0w2QPqsG0yRTzdAMUU+6wZTOEBo3WCKfFY5QKB1gynyWTpA1w2myGddO0AOpshn3WA8QEY+6wZTZD1AfdYNpshnPkC1bjBFPms/QHaDKfJZN0BAks+6wRS5QECtG0yRzzpBQMln3WCKvEFA5bNuMEU+QkAAAAAAAMBCQBxMkc+6QUNAOJgin3XDQ0BU5LNuMEVEQG8wRT7rxkRAi3zWDaZIRUCnyGfdYMpFQMIU+awbTEZA3mCKfNbNRkD6rBtMkU9HQBX5rBtM0UdAMUU+6wZTSEBNkc+6wdRIQGjdYIp8VklAhCnyWTfYSUCgdYMp8llKQLvBFPms20pA1w2myGddS0DzWTeYIt9LQA6myGfdYExAKvJZN5jiTEBGPusGU2RNQGKKfNYN5k1AfdYNpshnTkCZIp91g+lOQLVuMEU+a09A0LrBFPnsT0B2gynyWTdQQIQp8lk3eFBAks+6wRS5UECgdYMp8vlQQK0bTJHPOlFAu8EU+ax7UUDJZ91girxRQNcNpshn/VFA5bNuMEU+UkDzWTeYIn9SQAAAAAAAwFJA\",\"dtype\":\"float64\",\"shape\":[75]},\"y\":{\"__ndarray__\":\"MzMzMzMzwz+rMjMzMzPDP7cyMzMzM8M/wzIzMzMzwz/FMjMzMzPDP78yMzMzM8M/vjIzMzMzwz/EMjMzMzPDP8QyMzMzM8M/xDIzMzMzwz/EMjMzMzPDP8QyMzMzM8M/xDIzMzMzwz/EMjMzMzPDP8QyMzMzM8M/xDIzMzMzwz/EMjMzMzPDP8QyMzMzM8M/xDIzMzMzwz/EMjMzMzPDP8QyMzMzM8M/xDIzMzMzwz/EMjMzMzPDP8QyMzMzM8M/xDIzMzMzwz/EMjMzMzPDP8QyMzMzM8M/xDIzMzMzwz/EMjMzMzPDP8QyMzMzM8M/xDIzMzMzwz/EMjMzMzPDP8QyMzMzM8M/xDIzMzMzwz/EMjMzMzPDP8QyMzMzM8M/xDIzMzMzwz/EMjMzMzPDP8QyMzMzM8M/xDIzMzMzwz/EMjMzMzPDP8QyMzMzM8M/xDIzMzMzwz/EMjMzMzPDP8QyMzMzM8M/xDIzMzMzwz/EMjMzMzPDP8QyMzMzM8M/xDIzMzMzwz/EMjMzMzPDP8QyMzMzM8M/xDIzMzMzwz/EMjMzMzPDP8QyMzMzM8M/xDIzMzMzwz/EMjMzMzPDP8QyMzMzM8M/xDIzMzMzwz/EMjMzMzPDP8QyMzMzM8M/xDIzMzMzwz/EMjMzMzPDP8QyMzMzM8M/xDIzMzMzwz/EMjMzMzPDP8QyMzMzM8M/xDIzMzMzwz/EMjMzMzPDP8QyMzMzM8M/xDIzMzMzwz/EMjMzMzPDP8QyMzMzM8M/xDIzMzMzwz/EMjMzMzPDP8QyMzMzM8M/\",\"dtype\":\"float64\",\"shape\":[75]}},\"selected\":{\"id\":\"1422\",\"type\":\"Selection\"},\"selection_policy\":{\"id\":\"1423\",\"type\":\"UnionRenderers\"}},\"id\":\"1242\",\"type\":\"ColumnDataSource\"},{\"attributes\":{\"data_source\":{\"id\":\"1342\",\"type\":\"ColumnDataSource\"},\"glyph\":{\"id\":\"1343\",\"type\":\"Line\"},\"hover_glyph\":null,\"muted_glyph\":null,\"nonselection_glyph\":{\"id\":\"1344\",\"type\":\"Line\"},\"selection_glyph\":null,\"view\":{\"id\":\"1346\",\"type\":\"CDSView\"}},\"id\":\"1345\",\"type\":\"GlyphRenderer\"},{\"attributes\":{\"source\":{\"id\":\"1357\",\"type\":\"ColumnDataSource\"}},\"id\":\"1361\",\"type\":\"CDSView\"},{\"attributes\":{\"data_source\":{\"id\":\"1222\",\"type\":\"ColumnDataSource\"},\"glyph\":{\"id\":\"1223\",\"type\":\"Line\"},\"hover_glyph\":null,\"muted_glyph\":null,\"nonselection_glyph\":{\"id\":\"1224\",\"type\":\"Line\"},\"selection_glyph\":null,\"view\":{\"id\":\"1226\",\"type\":\"CDSView\"}},\"id\":\"1225\",\"type\":\"GlyphRenderer\"},{\"attributes\":{},\"id\":\"1472\",\"type\":\"Selection\"},{\"attributes\":{\"line_alpha\":0.1,\"line_color\":\"#1f77b4\",\"line_width\":2,\"x\":{\"field\":\"x\"},\"y\":{\"field\":\"y\"}},\"id\":\"1209\",\"type\":\"Line\"},{\"attributes\":{\"callback\":null,\"data\":{\"x\":{\"__ndarray__\":\"AAAAAAAAAAB2gynyWTfwP3aDKfJZNwBAMUU+6wZTCEB2gynyWTcQQFTks24wRRRAMUU+6wZTGEAOpshn3WAcQHaDKfJZNyBA5bNuMEU+IkBU5LNuMEUkQMIU+awbTCZAMUU+6wZTKECgdYMp8lkqQA6myGfdYCxAfdYNpshnLkB2gynyWTcwQK0bTJHPOjFA5bNuMEU+MkAcTJHPukEzQFTks24wRTRAi3zWDaZINUDCFPmsG0w2QPqsG0yRTzdAMUU+6wZTOEBo3WCKfFY5QKB1gynyWTpA1w2myGddO0AOpshn3WA8QEY+6wZTZD1AfdYNpshnPkC1bjBFPms/QHaDKfJZN0BAks+6wRS5QECtG0yRzzpBQMln3WCKvEFA5bNuMEU+QkAAAAAAAMBCQBxMkc+6QUNAOJgin3XDQ0BU5LNuMEVEQG8wRT7rxkRAi3zWDaZIRUCnyGfdYMpFQMIU+awbTEZA3mCKfNbNRkD6rBtMkU9HQBX5rBtM0UdAMUU+6wZTSEBNkc+6wdRIQGjdYIp8VklAhCnyWTfYSUCgdYMp8llKQLvBFPms20pA1w2myGddS0DzWTeYIt9LQA6myGfdYExAKvJZN5jiTEBGPusGU2RNQGKKfNYN5k1AfdYNpshnTkCZIp91g+lOQLVuMEU+a09A0LrBFPnsT0B2gynyWTdQQIQp8lk3eFBAks+6wRS5UECgdYMp8vlQQK0bTJHPOlFAu8EU+ax7UUDJZ91girxRQNcNpshn/VFA5bNuMEU+UkDzWTeYIn9SQAAAAAAAwFJA\",\"dtype\":\"float64\",\"shape\":[75]},\"y\":{\"__ndarray__\":\"AAAAAAAAPkC3vJOxyxMzQEvuBfzwUBhA1I1mout1I0CKTXHrfXkqQJENSqkQ1C9AfonLVSGEMkB+HxpeOCw1QOQYk/Vh1DdA2Pd+YiBGOkAKFKaDzP47QOCiTAme4TxAOLkVEjNMPUAzsi6zGYE9QDF0vpWDnj1ARB3LAtCwPUCGX+RsP709QAgkRpVCxj1Abe+UkxrNPUCm6D8JfNI9QO3s+GDU1j1Ajvhz5WnaPUDjyE7la909QBR2T3H73z1Av910XTDiPUD0qtBIHOQ9QESV/ITM5T1Awnj2U0vnPUAckn+9oOg9QLwIRiLT6T1A+gWNo+fqPUCN6cRt4us9QK7GHu/G7D1APGEgAJjtPUCbgEACWO49QMkeTPcI7z1A4M9zk6zvPUDkJHBLRPA9QE41pF/R8D1ALJAB5VTxPUCekCbMz/E9QCbQIOdC8j1AW6Uk7q7yPUBYT2iDFPM9QHJ1UzZ08z1AiPslhs7zPUDkUi7kI/Q9QK85pbV09D1AJMU/VcH0PUB79oMUCvU9QNVp6zxP9T1ApP/aEJH1PUCUFXjMz/U9QFmuYKYL9j1AlhNK0ET2PUDk4ot3e/Y9QPDflsWv9j1AsQtf4OH2PUDRi7bqEfc9QCmWnwRA9z1AfHWVS2z3PUDNbsfalvc9QOK0Usu/9z1Amal0NOf3PUAJaLYrDfg9QB1WE8Ux+D1AyL8cE1X4PUDnjxknd/g9QGhiIhGY+D1Au+I64Lf4PUBcpmii1vg9QKPpx2T0+D1ABS+eMxH5PUCdH2saLfk9QH3k9yNI+T1A\",\"dtype\":\"float64\",\"shape\":[75]}},\"selected\":{\"id\":\"1428\",\"type\":\"Selection\"},\"selection_policy\":{\"id\":\"1429\",\"type\":\"UnionRenderers\"}},\"id\":\"1257\",\"type\":\"ColumnDataSource\"},{\"attributes\":{\"source\":{\"id\":\"1327\",\"type\":\"ColumnDataSource\"}},\"id\":\"1331\",\"type\":\"CDSView\"},{\"attributes\":{\"callback\":null,\"data\":{\"x\":{\"__ndarray__\":\"AAAAAAAAAAB2gynyWTfwP3aDKfJZNwBAMUU+6wZTCEB2gynyWTcQQFTks24wRRRAMUU+6wZTGEAOpshn3WAcQHaDKfJZNyBA5bNuMEU+IkBU5LNuMEUkQMIU+awbTCZAMUU+6wZTKECgdYMp8lkqQA6myGfdYCxAfdYNpshnLkB2gynyWTcwQK0bTJHPOjFA5bNuMEU+MkAcTJHPukEzQFTks24wRTRAi3zWDaZINUDCFPmsG0w2QPqsG0yRTzdAMUU+6wZTOEBo3WCKfFY5QKB1gynyWTpA1w2myGddO0AOpshn3WA8QEY+6wZTZD1AfdYNpshnPkC1bjBFPms/QHaDKfJZN0BAks+6wRS5QECtG0yRzzpBQMln3WCKvEFA5bNuMEU+QkAAAAAAAMBCQBxMkc+6QUNAOJgin3XDQ0BU5LNuMEVEQG8wRT7rxkRAi3zWDaZIRUCnyGfdYMpFQMIU+awbTEZA3mCKfNbNRkD6rBtMkU9HQBX5rBtM0UdAMUU+6wZTSEBNkc+6wdRIQGjdYIp8VklAhCnyWTfYSUCgdYMp8llKQLvBFPms20pA1w2myGddS0DzWTeYIt9LQA6myGfdYExAKvJZN5jiTEBGPusGU2RNQGKKfNYN5k1AfdYNpshnTkCZIp91g+lOQLVuMEU+a09A0LrBFPnsT0B2gynyWTdQQIQp8lk3eFBAks+6wRS5UECgdYMp8vlQQK0bTJHPOlFAu8EU+ax7UUDJZ91girxRQNcNpshn/VFA5bNuMEU+UkDzWTeYIn9SQAAAAAAAwFJA\",\"dtype\":\"float64\",\"shape\":[75]},\"y\":{\"__ndarray__\":\"MzMzMzMzwz8yMzMzMzPDPzwzMzMzM8M/VzMzMzMzwz+BMzMzMzPDP3IyMzMzM8M/mjIzMzMzwz/2MzMzMzPDPwU0MzMzM8M/cjMzMzMzwz9pNDMzMzPDP6YzMzMzM8M/QzIzMzMzwz/xMzMzMzPDP7xKMzMzM8M/vFUzMzMzwz93VDMzMzPDP0FVMzMzM8M/i1UzMzMzwz+OVDMzMzPDP4pQMzMzM8M/jk4zMzMzwz85VTMzMzPDP1dXMzMzM8M/dlkzMzMzwz93VDMzMzPDP9BRMzMzM8M/41EzMzMzwz/+UzMzMzPDPztUMzMzM8M/GlMzMzMzwz8JUzMzMzPDP0tTMzMzM8M/3VkzMzMzwz86WzMzMzPDP7lYMzMzM8M/ZFYzMzMzwz/ZUDMzMzPDPw1IMzMzM8M/ED8zMzMzwz/6RDMzMzPDP/NDMzMzM8M/hz0zMzMzwz+fPTMzMzPDP7A+MzMzM8M/LUMzMzMzwz+uSzMzMzPDP/tOMzMzM8M/LVAzMzMzwz/rUDMzMzPDP2lVMzMzM8M/U1QzMzMzwz/QVjMzMzPDP2BXMzMzM8M/0FkzMzMzwz90XDMzMzPDP1NaMzMzM8M/WVozMzMzwz+RVTMzMzPDP/pRMzMzM8M/d1QzMzMzwz8WVTMzMzPDP2xVMzMzM8M/PlUzMzMzwz+9UjMzMzPDP/dOMzMzM8M/VE8zMzMzwz+oUDMzMzPDP41PMzMzM8M/+lAzMzMzwz8sUzMzMzPDP8tVMzMzM8M/+1UzMzMzwz9+VzMzMzPDP89YMzMzM8M/\",\"dtype\":\"float64\",\"shape\":[75]}},\"selected\":{\"id\":\"1470\",\"type\":\"Selection\"},\"selection_policy\":{\"id\":\"1471\",\"type\":\"UnionRenderers\"}},\"id\":\"1362\",\"type\":\"ColumnDataSource\"},{\"attributes\":{},\"id\":\"1473\",\"type\":\"UnionRenderers\"},{\"attributes\":{\"line_color\":\"#8c564b\",\"line_width\":2,\"x\":{\"field\":\"x\"},\"y\":{\"field\":\"y\"}},\"id\":\"1223\",\"type\":\"Line\"},{\"attributes\":{\"callback\":null,\"data\":{\"x\":{\"__ndarray__\":\"AAAAAAAAAAB2gynyWTfwP3aDKfJZNwBAMUU+6wZTCEB2gynyWTcQQFTks24wRRRAMUU+6wZTGEAOpshn3WAcQHaDKfJZNyBA5bNuMEU+IkBU5LNuMEUkQMIU+awbTCZAMUU+6wZTKECgdYMp8lkqQA6myGfdYCxAfdYNpshnLkB2gynyWTcwQK0bTJHPOjFA5bNuMEU+MkAcTJHPukEzQFTks24wRTRAi3zWDaZINUDCFPmsG0w2QPqsG0yRTzdAMUU+6wZTOEBo3WCKfFY5QKB1gynyWTpA1w2myGddO0AOpshn3WA8QEY+6wZTZD1AfdYNpshnPkC1bjBFPms/QHaDKfJZN0BAks+6wRS5QECtG0yRzzpBQMln3WCKvEFA5bNuMEU+QkAAAAAAAMBCQBxMkc+6QUNAOJgin3XDQ0BU5LNuMEVEQG8wRT7rxkRAi3zWDaZIRUCnyGfdYMpFQMIU+awbTEZA3mCKfNbNRkD6rBtMkU9HQBX5rBtM0UdAMUU+6wZTSEBNkc+6wdRIQGjdYIp8VklAhCnyWTfYSUCgdYMp8llKQLvBFPms20pA1w2myGddS0DzWTeYIt9LQA6myGfdYExAKvJZN5jiTEBGPusGU2RNQGKKfNYN5k1AfdYNpshnTkCZIp91g+lOQLVuMEU+a09A0LrBFPnsT0B2gynyWTdQQIQp8lk3eFBAks+6wRS5UECgdYMp8vlQQK0bTJHPOlFAu8EU+ax7UUDJZ91girxRQNcNpshn/VFA5bNuMEU+UkDzWTeYIn9SQAAAAAAAwFJA\",\"dtype\":\"float64\",\"shape\":[75]},\"y\":{\"__ndarray__\":\"AAAAAAAAAAC5KWgCyb3bPzAtFVGDfLU/mkTBNzFXmj+V8En2PzigPyu63lwBiaQ/Z8u9B9suqj+IBU4GFz+xP3at9NNHs7c/klwcZM3YvT8hvoL2Xu22Pzd99iD+/K0/oA0N3UFzpj8MWWqhUUyiPy2IjdcIDp8/JVEyWjX3mj+WuSOgk8uXP/zPKDu+Q5U/M9umlrwzkz+ozNG9Dn6RPxiKw4L9DZA/3dXNtR6pjT+S4ravZ42LP4QCOK0tuIk/zsBQJrIciD+fTyqfD7GGP+3rJxt8bYU/64StzsJLhD/wWal+40aDPzLWp+HLWoI/YllWWyOEgT9nthDCI8CAPxwDt5l7DIA/yxmUdG7Ofj8/EWotXp19PxuFLrXzgnw/QpG17MJ8ez/l376/tIh6P4Twwh75pHk/6kT6nvvPeD+PFwg8Wgh4PzxD18PdTHc/MR0Mj3Ocdj9H+m1PKPZ1P89jQrojWXU/Yf3i46TEdD+QCuIu/zd0P8jxQrOXsnM/coNrCOMzcz+gnhhiY7tyP/GlXvGmSHI/XAjAgEbbcT91ef0/5HJxP5M5cLgqD3E/Lmk45cuvcD/Kzf5mgFRwP8vxUakN+m8/tqYVPEZSbz+yOjgJPLFuPxcQB0KJFm4//y8P68+BbT+mW4wqufJsP6QIV5n0aGw/qBeAqjfkaz/F3MMmPWRrP5aGubbE6Go/EWDddZJxaj8IsTGRbv5pP30+yfAkj2k/dKFy6YQjaT8dI/31YLtoP3Wy5XaOVmg/k6tpeOX0Zz+a6el9QJZnP4lK+VF8Omc/\",\"dtype\":\"float64\",\"shape\":[75]}},\"selected\":{\"id\":\"1456\",\"type\":\"Selection\"},\"selection_policy\":{\"id\":\"1457\",\"type\":\"UnionRenderers\"}},\"id\":\"1327\",\"type\":\"ColumnDataSource\"},{\"attributes\":{\"line_color\":\"#ffbff2\",\"line_width\":2,\"x\":{\"field\":\"x\"},\"y\":{\"field\":\"y\"}},\"id\":\"1348\",\"type\":\"Line\"},{\"attributes\":{\"line_color\":\"#505646\",\"line_width\":2,\"x\":{\"field\":\"x\"},\"y\":{\"field\":\"y\"}},\"id\":\"1368\",\"type\":\"Line\"},{\"attributes\":{\"source\":{\"id\":\"1202\",\"type\":\"ColumnDataSource\"}},\"id\":\"1206\",\"type\":\"CDSView\"},{\"attributes\":{\"callback\":null,\"data\":{\"x\":{\"__ndarray__\":\"AAAAAAAAAAB2gynyWTfwP3aDKfJZNwBAMUU+6wZTCEB2gynyWTcQQFTks24wRRRAMUU+6wZTGEAOpshn3WAcQHaDKfJZNyBA5bNuMEU+IkBU5LNuMEUkQMIU+awbTCZAMUU+6wZTKECgdYMp8lkqQA6myGfdYCxAfdYNpshnLkB2gynyWTcwQK0bTJHPOjFA5bNuMEU+MkAcTJHPukEzQFTks24wRTRAi3zWDaZINUDCFPmsG0w2QPqsG0yRTzdAMUU+6wZTOEBo3WCKfFY5QKB1gynyWTpA1w2myGddO0AOpshn3WA8QEY+6wZTZD1AfdYNpshnPkC1bjBFPms/QHaDKfJZN0BAks+6wRS5QECtG0yRzzpBQMln3WCKvEFA5bNuMEU+QkAAAAAAAMBCQBxMkc+6QUNAOJgin3XDQ0BU5LNuMEVEQG8wRT7rxkRAi3zWDaZIRUCnyGfdYMpFQMIU+awbTEZA3mCKfNbNRkD6rBtMkU9HQBX5rBtM0UdAMUU+6wZTSEBNkc+6wdRIQGjdYIp8VklAhCnyWTfYSUCgdYMp8llKQLvBFPms20pA1w2myGddS0DzWTeYIt9LQA6myGfdYExAKvJZN5jiTEBGPusGU2RNQGKKfNYN5k1AfdYNpshnTkCZIp91g+lOQLVuMEU+a09A0LrBFPnsT0B2gynyWTdQQIQp8lk3eFBAks+6wRS5UECgdYMp8vlQQK0bTJHPOlFAu8EU+ax7UUDJZ91girxRQNcNpshn/VFA5bNuMEU+UkDzWTeYIn9SQAAAAAAAwFJA\",\"dtype\":\"float64\",\"shape\":[75]},\"y\":{\"__ndarray__\":\"MzMzMzMzwz8yMzMzMzPDPy0zMzMzM8M/JzMzMzMzwz8nMzMzMzPDPxszMzMzM8M/IjMzMzMzwz88MzMzMzPDP0AzMzMzM8M/QDMzMzMzwz89MzMzMzPDPzwzMzMzM8M/OzMzMzMzwz85MzMzMzPDPygzMzMzM8M/GjMzMzMzwz8aMzMzMzPDPxozMzMzM8M/GjMzMzMzwz8aMzMzMzPDPxozMzMzM8M/GjMzMzMzwz8aMzMzMzPDPxozMzMzM8M/GjMzMzMzwz8aMzMzMzPDPxozMzMzM8M/GjMzMzMzwz8aMzMzMzPDPxozMzMzM8M/GjMzMzMzwz8aMzMzMzPDPxozMzMzM8M/GjMzMzMzwz8aMzMzMzPDPxozMzMzM8M/GjMzMzMzwz8aMzMzMzPDPxozMzMzM8M/GjMzMzMzwz8aMzMzMzPDPxozMzMzM8M/GjMzMzMzwz8aMzMzMzPDPxozMzMzM8M/GjMzMzMzwz8aMzMzMzPDPxozMzMzM8M/GjMzMzMzwz8aMzMzMzPDPxozMzMzM8M/GjMzMzMzwz8aMzMzMzPDPxozMzMzM8M/GjMzMzMzwz8aMzMzMzPDPxozMzMzM8M/GjMzMzMzwz8aMzMzMzPDPxozMzMzM8M/GjMzMzMzwz8aMzMzMzPDPxozMzMzM8M/GjMzMzMzwz8aMzMzMzPDPxozMzMzM8M/GjMzMzMzwz8aMzMzMzPDPxozMzMzM8M/GjMzMzMzwz8aMzMzMzPDPxozMzMzM8M/GjMzMzMzwz8aMzMzMzPDPxozMzMzM8M/\",\"dtype\":\"float64\",\"shape\":[75]}},\"selected\":{\"id\":\"1462\",\"type\":\"Selection\"},\"selection_policy\":{\"id\":\"1463\",\"type\":\"UnionRenderers\"}},\"id\":\"1342\",\"type\":\"ColumnDataSource\"},{\"attributes\":{},\"id\":\"1474\",\"type\":\"Selection\"},{\"attributes\":{\"callback\":null,\"data\":{\"x\":{\"__ndarray__\":\"AAAAAAAAAAB2gynyWTfwP3aDKfJZNwBAMUU+6wZTCEB2gynyWTcQQFTks24wRRRAMUU+6wZTGEAOpshn3WAcQHaDKfJZNyBA5bNuMEU+IkBU5LNuMEUkQMIU+awbTCZAMUU+6wZTKECgdYMp8lkqQA6myGfdYCxAfdYNpshnLkB2gynyWTcwQK0bTJHPOjFA5bNuMEU+MkAcTJHPukEzQFTks24wRTRAi3zWDaZINUDCFPmsG0w2QPqsG0yRTzdAMUU+6wZTOEBo3WCKfFY5QKB1gynyWTpA1w2myGddO0AOpshn3WA8QEY+6wZTZD1AfdYNpshnPkC1bjBFPms/QHaDKfJZN0BAks+6wRS5QECtG0yRzzpBQMln3WCKvEFA5bNuMEU+QkAAAAAAAMBCQBxMkc+6QUNAOJgin3XDQ0BU5LNuMEVEQG8wRT7rxkRAi3zWDaZIRUCnyGfdYMpFQMIU+awbTEZA3mCKfNbNRkD6rBtMkU9HQBX5rBtM0UdAMUU+6wZTSEBNkc+6wdRIQGjdYIp8VklAhCnyWTfYSUCgdYMp8llKQLvBFPms20pA1w2myGddS0DzWTeYIt9LQA6myGfdYExAKvJZN5jiTEBGPusGU2RNQGKKfNYN5k1AfdYNpshnTkCZIp91g+lOQLVuMEU+a09A0LrBFPnsT0B2gynyWTdQQIQp8lk3eFBAks+6wRS5UECgdYMp8vlQQK0bTJHPOlFAu8EU+ax7UUDJZ91girxRQNcNpshn/VFA5bNuMEU+UkDzWTeYIn9SQAAAAAAAwFJA\",\"dtype\":\"float64\",\"shape\":[75]},\"y\":{\"__ndarray__\":\"AAAAAAAAAABlDxhOGsgCQJ26t1DR9/k/kAxdaMP36z8hjPD7UzbnP0DJDziH1+Q/XfiNkD444z8WZxl5puvhPzAnNkorouA/0JTEGw2D3D8Ul1jhr6PRP/3lb8j66cQ/VbMijGP0vD+7BbjBgQq2P74BSvC9xLE/7Nvm4zXArT8n+KvQFpSpP5wilT3vbaY/iHrgFx74oz+Sc7Nolv6hP4bvDnbpX6A/TJJC8UoLnj+dtYPzVsCbP2+I5/GMyJk/n4mp0W4TmD88JvLZlJSWPx1iyrN8QpU/xocIF70VlD8dCeyHeQiTP14sCsj/FZI/Alr0S4E6kT+j7XzF33KQP2X1rBIOeY8/Zu5l3KAqjj+RpjoB2vaMP1WkVW2p2os/1RphwXLTij+DVHi5+N6JP+6zc9tM+4g/mhzOXMImiD8bEPmW41+HPyLgmnRppYY/ZUGeZDT2hT8zYUuQRlGFPwzefQ6/tYQ/joAx4dUihD+yalSa2JeDPxj+wYcnFIM/WdOnTTOXgj9niELdeiCCP2AY2LaJr4E/NYi9bPZDgT8d4ZlaYd2AP3Fq3Yhze4A/a4wgt90dgD/RYsoIr4h/P23Z0Ww93X4/i2HYKO04fj+6TNKyTpt9P4zrKWj7A30/Qsk5qZRyfD/UwJ8gw+Z7P4d9YQ02YHs/F1L6pKLeej9j6EqKw2F6P7wfA1RY6Xk/HbdOHCV1eT80wqIc8gR5Pxvc8lSLmHg/owVdO8AveD/zfLpzY8p3P2fM1o1KaHc/OSxKyk0Jdz+1MdLkR612P1ZUfOMVVHY/\",\"dtype\":\"float64\",\"shape\":[75]}},\"selected\":{\"id\":\"1444\",\"type\":\"Selection\"},\"selection_policy\":{\"id\":\"1445\",\"type\":\"UnionRenderers\"}},\"id\":\"1297\",\"type\":\"ColumnDataSource\"},{\"attributes\":{\"callback\":null,\"data\":{\"x\":{\"__ndarray__\":\"AAAAAAAAAAB2gynyWTfwP3aDKfJZNwBAMUU+6wZTCEB2gynyWTcQQFTks24wRRRAMUU+6wZTGEAOpshn3WAcQHaDKfJZNyBA5bNuMEU+IkBU5LNuMEUkQMIU+awbTCZAMUU+6wZTKECgdYMp8lkqQA6myGfdYCxAfdYNpshnLkB2gynyWTcwQK0bTJHPOjFA5bNuMEU+MkAcTJHPukEzQFTks24wRTRAi3zWDaZINUDCFPmsG0w2QPqsG0yRTzdAMUU+6wZTOEBo3WCKfFY5QKB1gynyWTpA1w2myGddO0AOpshn3WA8QEY+6wZTZD1AfdYNpshnPkC1bjBFPms/QHaDKfJZN0BAks+6wRS5QECtG0yRzzpBQMln3WCKvEFA5bNuMEU+QkAAAAAAAMBCQBxMkc+6QUNAOJgin3XDQ0BU5LNuMEVEQG8wRT7rxkRAi3zWDaZIRUCnyGfdYMpFQMIU+awbTEZA3mCKfNbNRkD6rBtMkU9HQBX5rBtM0UdAMUU+6wZTSEBNkc+6wdRIQGjdYIp8VklAhCnyWTfYSUCgdYMp8llKQLvBFPms20pA1w2myGddS0DzWTeYIt9LQA6myGfdYExAKvJZN5jiTEBGPusGU2RNQGKKfNYN5k1AfdYNpshnTkCZIp91g+lOQLVuMEU+a09A0LrBFPnsT0B2gynyWTdQQIQp8lk3eFBAks+6wRS5UECgdYMp8vlQQK0bTJHPOlFAu8EU+ax7UUDJZ91girxRQNcNpshn/VFA5bNuMEU+UkDzWTeYIn9SQAAAAAAAwFJA\",\"dtype\":\"float64\",\"shape\":[75]},\"y\":{\"__ndarray__\":\"AAAAAAAAAADTD9kJsawBQEwgd2gJkvU/GA84qMIh5z8AuI6iT2TnP/ycWi7XI+g/XRB0EGGk6D8CNUDF99voP3heJO6tdug/z4MKN7kg5T/k3RU9iL3ZP7GD9VndY84/CWuhpIy9xD8Y9otzgj6/P3PxR70MAbk/XIs1TfTStD8Kg/czr9WxP0UO3NObL68/xVNy8Hazqz+U05/oUOqoP6tl481Po6Y/dHZcMNy9pD8GizgJZiOjP8Cpc0TQw6E/tUv0oUuToD8fPVQI/BGfP6FrrEBHPJ0/94fswPSamz+qaHCIuCWaP5Jk+Gzw1Zg/kMX6kD6mlz9pvpaEP5KWPzEUULhTlpU/GdQimXavlD9aCnV/H9uTP4GlZcopF5M/HqsaVcJhkj+0UADeWLmRPwJvvHqUHJE/WsZtVkqKkD/ff7RAdgGQPzMzGkdpAo8/GnUzGXsRjj//cuI2wS6NPzXdIkUDWYw/0+p+riuPiz+173TuQtCKP/4RY5trG4o/FgqqC99viT+t+rx86syIP3xjxqPsMYg/oIGgmVOehz/NYxcQmxGHPzdm/MRKi4Y/P2zMK/UKhj/yfRtBNpCFP8yJb4myGoU/JCtRKxaqhD+v8A8qFD6EP6Y4zrNl1oM/SdSngslygz+3L3ZcAxODP3u8lJTbtoI/kxcvnh5egj90KSmtnAiCP5gE1mEptoE/LaAWe5tmgT9mP96QzBmBP2cNr9aYz4A/wbT6496HgD+TrfaBf0KAP/3XG/y6/n8/a0DsAbt8fz8UsyDTy/5+Py40Ola9hH4/\",\"dtype\":\"float64\",\"shape\":[75]}},\"selected\":{\"id\":\"1452\",\"type\":\"Selection\"},\"selection_policy\":{\"id\":\"1453\",\"type\":\"UnionRenderers\"}},\"id\":\"1317\",\"type\":\"ColumnDataSource\"},{\"attributes\":{\"line_alpha\":0.1,\"line_color\":\"#1f77b4\",\"line_width\":2,\"x\":{\"field\":\"x\"},\"y\":{\"field\":\"y\"}},\"id\":\"1364\",\"type\":\"Line\"},{\"attributes\":{\"line_color\":\"#2ba02b\",\"line_width\":2,\"x\":{\"field\":\"x\"},\"y\":{\"field\":\"y\"}},\"id\":\"1208\",\"type\":\"Line\"},{\"attributes\":{},\"id\":\"1189\",\"type\":\"HelpTool\"},{\"attributes\":{},\"id\":\"1475\",\"type\":\"UnionRenderers\"},{\"attributes\":{\"data_source\":{\"id\":\"1322\",\"type\":\"ColumnDataSource\"},\"glyph\":{\"id\":\"1323\",\"type\":\"Line\"},\"hover_glyph\":null,\"muted_glyph\":null,\"nonselection_glyph\":{\"id\":\"1324\",\"type\":\"Line\"},\"selection_glyph\":null,\"view\":{\"id\":\"1326\",\"type\":\"CDSView\"}},\"id\":\"1325\",\"type\":\"GlyphRenderer\"},{\"attributes\":{\"data_source\":{\"id\":\"1362\",\"type\":\"ColumnDataSource\"},\"glyph\":{\"id\":\"1363\",\"type\":\"Line\"},\"hover_glyph\":null,\"muted_glyph\":null,\"nonselection_glyph\":{\"id\":\"1364\",\"type\":\"Line\"},\"selection_glyph\":null,\"view\":{\"id\":\"1366\",\"type\":\"CDSView\"}},\"id\":\"1365\",\"type\":\"GlyphRenderer\"},{\"attributes\":{\"callback\":null,\"data\":{\"x\":{\"__ndarray__\":\"AAAAAAAAAAB2gynyWTfwP3aDKfJZNwBAMUU+6wZTCEB2gynyWTcQQFTks24wRRRAMUU+6wZTGEAOpshn3WAcQHaDKfJZNyBA5bNuMEU+IkBU5LNuMEUkQMIU+awbTCZAMUU+6wZTKECgdYMp8lkqQA6myGfdYCxAfdYNpshnLkB2gynyWTcwQK0bTJHPOjFA5bNuMEU+MkAcTJHPukEzQFTks24wRTRAi3zWDaZINUDCFPmsG0w2QPqsG0yRTzdAMUU+6wZTOEBo3WCKfFY5QKB1gynyWTpA1w2myGddO0AOpshn3WA8QEY+6wZTZD1AfdYNpshnPkC1bjBFPms/QHaDKfJZN0BAks+6wRS5QECtG0yRzzpBQMln3WCKvEFA5bNuMEU+QkAAAAAAAMBCQBxMkc+6QUNAOJgin3XDQ0BU5LNuMEVEQG8wRT7rxkRAi3zWDaZIRUCnyGfdYMpFQMIU+awbTEZA3mCKfNbNRkD6rBtMkU9HQBX5rBtM0UdAMUU+6wZTSEBNkc+6wdRIQGjdYIp8VklAhCnyWTfYSUCgdYMp8llKQLvBFPms20pA1w2myGddS0DzWTeYIt9LQA6myGfdYExAKvJZN5jiTEBGPusGU2RNQGKKfNYN5k1AfdYNpshnTkCZIp91g+lOQLVuMEU+a09A0LrBFPnsT0B2gynyWTdQQIQp8lk3eFBAks+6wRS5UECgdYMp8vlQQK0bTJHPOlFAu8EU+ax7UUDJZ91girxRQNcNpshn/VFA5bNuMEU+UkDzWTeYIn9SQAAAAAAAwFJA\",\"dtype\":\"float64\",\"shape\":[75]},\"y\":{\"__ndarray__\":\"AAAAAAAAAAA9YAmBUWTiP9Zg6/+4IBdAVCBlI43EA0BQxK8718/rP/9qNbWn4eI/ilvuWhNc4j9BhNDHUcviP1/odYDm2eI/RbkUASFu4T+4urCVmi7YPxsY+bXr9sY/kDXEaVAjsz83V3AWDYahP0knZfguE5M/9HMxXEIKiD8sclcOorCAP0HPMQBsqHg/yKywvncAcz8WBSq+ajVuP9MaunWcmGg/77CN76pqZD9+vEYaKzhhP3Fz5bHjb10/z158xmpzWT9p37aWADlWPwMXTIRiklM/XOQSsVBeUT9g95meyghPPzcUoejJ5Es/mbGKQ+40ST8r+wjA4eNGP8BKwiL94EQ/d01ooBkfQz9snKzPt5NBP/QBP3RhNkA/wYw5HmoAPj+4Ra9IHNc7PwbZea2G5zk/EyY8QecpOD/08vXDvpc2P3M/aPKTKzU/kkwhO8PgMz/2Wb7qWLMyPxU0rNbynzE/99WM8KejMD9E9an+6HcvP32LJhVUzS0/tlEMRcRDLD9S1IMN59cqPzAjuzfShik/Et737/RNKD/5to04CysnPyqe4VETHCY/w3+h5UQfJT8qFitzCTMkP+A87Pv1VSM/jwtWfsWGIj8dNv5WVMQhP7un2CmcDSE/YqlEYLBhID+DrSLDdn8fP71z7o/3TR4/hzXLO4QtHT+n5RH43RwcPyUKtJ7iGhs/aqjhhYkmGj+eUQrs4D4ZP1W/ca8LYxg/NJE7Kz+SFz+m56dhwcsWP8ZkM2nnDhY/1VIo+RNbFT+oxy4btq8UPy3MWgtIDBQ/\",\"dtype\":\"float64\",\"shape\":[75]}},\"selected\":{\"id\":\"1464\",\"type\":\"Selection\"},\"selection_policy\":{\"id\":\"1465\",\"type\":\"UnionRenderers\"}},\"id\":\"1347\",\"type\":\"ColumnDataSource\"},{\"attributes\":{\"data_source\":{\"id\":\"1217\",\"type\":\"ColumnDataSource\"},\"glyph\":{\"id\":\"1218\",\"type\":\"Line\"},\"hover_glyph\":null,\"muted_glyph\":null,\"nonselection_glyph\":{\"id\":\"1219\",\"type\":\"Line\"},\"selection_glyph\":null,\"view\":{\"id\":\"1221\",\"type\":\"CDSView\"}},\"id\":\"1220\",\"type\":\"GlyphRenderer\"},{\"attributes\":{\"source\":{\"id\":\"1222\",\"type\":\"ColumnDataSource\"}},\"id\":\"1226\",\"type\":\"CDSView\"},{\"attributes\":{},\"id\":\"1476\",\"type\":\"Selection\"},{\"attributes\":{\"callback\":null,\"data\":{\"x\":{\"__ndarray__\":\"AAAAAAAAAAB2gynyWTfwP3aDKfJZNwBAMUU+6wZTCEB2gynyWTcQQFTks24wRRRAMUU+6wZTGEAOpshn3WAcQHaDKfJZNyBA5bNuMEU+IkBU5LNuMEUkQMIU+awbTCZAMUU+6wZTKECgdYMp8lkqQA6myGfdYCxAfdYNpshnLkB2gynyWTcwQK0bTJHPOjFA5bNuMEU+MkAcTJHPukEzQFTks24wRTRAi3zWDaZINUDCFPmsG0w2QPqsG0yRTzdAMUU+6wZTOEBo3WCKfFY5QKB1gynyWTpA1w2myGddO0AOpshn3WA8QEY+6wZTZD1AfdYNpshnPkC1bjBFPms/QHaDKfJZN0BAks+6wRS5QECtG0yRzzpBQMln3WCKvEFA5bNuMEU+QkAAAAAAAMBCQBxMkc+6QUNAOJgin3XDQ0BU5LNuMEVEQG8wRT7rxkRAi3zWDaZIRUCnyGfdYMpFQMIU+awbTEZA3mCKfNbNRkD6rBtMkU9HQBX5rBtM0UdAMUU+6wZTSEBNkc+6wdRIQGjdYIp8VklAhCnyWTfYSUCgdYMp8llKQLvBFPms20pA1w2myGddS0DzWTeYIt9LQA6myGfdYExAKvJZN5jiTEBGPusGU2RNQGKKfNYN5k1AfdYNpshnTkCZIp91g+lOQLVuMEU+a09A0LrBFPnsT0B2gynyWTdQQIQp8lk3eFBAks+6wRS5UECgdYMp8vlQQK0bTJHPOlFAu8EU+ax7UUDJZ91girxRQNcNpshn/VFA5bNuMEU+UkDzWTeYIn9SQAAAAAAAwFJA\",\"dtype\":\"float64\",\"shape\":[75]},\"y\":{\"__ndarray__\":\"MzMzMzMzwz8uMzMzMzPDPywzMzMzM8M/MDMzMzMzwz8wMzMzMzPDPzAzMzMzM8M/MDMzMzMzwz8xMzMzMzPDPzIzMzMzM8M/MDMzMzMzwz8vMzMzMzPDPy8zMzMzM8M/LzMzMzMzwz8vMzMzMzPDPy8zMzMzM8M/LzMzMzMzwz8vMzMzMzPDPy8zMzMzM8M/LzMzMzMzwz8vMzMzMzPDPy8zMzMzM8M/LzMzMzMzwz8vMzMzMzPDPy8zMzMzM8M/LzMzMzMzwz8vMzMzMzPDPy8zMzMzM8M/LzMzMzMzwz8vMzMzMzPDPy8zMzMzM8M/LzMzMzMzwz8vMzMzMzPDPy8zMzMzM8M/LzMzMzMzwz8vMzMzMzPDPy8zMzMzM8M/LzMzMzMzwz8vMzMzMzPDPy8zMzMzM8M/LzMzMzMzwz8vMzMzMzPDPy8zMzMzM8M/LzMzMzMzwz8vMzMzMzPDPy8zMzMzM8M/LzMzMzMzwz8vMzMzMzPDPy8zMzMzM8M/LzMzMzMzwz8vMzMzMzPDPy8zMzMzM8M/LzMzMzMzwz8vMzMzMzPDPy8zMzMzM8M/LzMzMzMzwz8vMzMzMzPDPy8zMzMzM8M/LzMzMzMzwz8vMzMzMzPDPy8zMzMzM8M/LzMzMzMzwz8vMzMzMzPDPy8zMzMzM8M/LzMzMzMzwz8vMzMzMzPDPy8zMzMzM8M/LzMzMzMzwz8vMzMzMzPDPy8zMzMzM8M/LzMzMzMzwz8vMzMzMzPDPy8zMzMzM8M/LzMzMzMzwz8vMzMzMzPDPy8zMzMzM8M/\",\"dtype\":\"float64\",\"shape\":[75]}},\"selected\":{\"id\":\"1442\",\"type\":\"Selection\"},\"selection_policy\":{\"id\":\"1443\",\"type\":\"UnionRenderers\"}},\"id\":\"1292\",\"type\":\"ColumnDataSource\"},{\"attributes\":{\"callback\":null},\"id\":\"1166\",\"type\":\"DataRange1d\"},{\"attributes\":{\"line_alpha\":0.1,\"line_color\":\"#1f77b4\",\"line_width\":2,\"x\":{\"field\":\"x\"},\"y\":{\"field\":\"y\"}},\"id\":\"1299\",\"type\":\"Line\"},{\"attributes\":{\"source\":{\"id\":\"1342\",\"type\":\"ColumnDataSource\"}},\"id\":\"1346\",\"type\":\"CDSView\"},{\"attributes\":{\"source\":{\"id\":\"1362\",\"type\":\"ColumnDataSource\"}},\"id\":\"1366\",\"type\":\"CDSView\"},{\"attributes\":{\"line_color\":\"#ffff9a\",\"line_width\":2,\"x\":{\"field\":\"x\"},\"y\":{\"field\":\"y\"}},\"id\":\"1303\",\"type\":\"Line\"},{\"attributes\":{},\"id\":\"1477\",\"type\":\"UnionRenderers\"},{\"attributes\":{\"data_source\":{\"id\":\"1347\",\"type\":\"ColumnDataSource\"},\"glyph\":{\"id\":\"1348\",\"type\":\"Line\"},\"hover_glyph\":null,\"muted_glyph\":null,\"nonselection_glyph\":{\"id\":\"1349\",\"type\":\"Line\"},\"selection_glyph\":null,\"view\":{\"id\":\"1351\",\"type\":\"CDSView\"}},\"id\":\"1350\",\"type\":\"GlyphRenderer\"},{\"attributes\":{\"source\":{\"id\":\"1197\",\"type\":\"ColumnDataSource\"}},\"id\":\"1201\",\"type\":\"CDSView\"},{\"attributes\":{\"line_alpha\":0.1,\"line_color\":\"#1f77b4\",\"line_width\":2,\"x\":{\"field\":\"x\"},\"y\":{\"field\":\"y\"}},\"id\":\"1294\",\"type\":\"Line\"},{\"attributes\":{\"source\":{\"id\":\"1332\",\"type\":\"ColumnDataSource\"}},\"id\":\"1336\",\"type\":\"CDSView\"},{\"attributes\":{\"source\":{\"id\":\"1347\",\"type\":\"ColumnDataSource\"}},\"id\":\"1351\",\"type\":\"CDSView\"},{\"attributes\":{\"callback\":null,\"data\":{\"x\":{\"__ndarray__\":\"AAAAAAAAAAB2gynyWTfwP3aDKfJZNwBAMUU+6wZTCEB2gynyWTcQQFTks24wRRRAMUU+6wZTGEAOpshn3WAcQHaDKfJZNyBA5bNuMEU+IkBU5LNuMEUkQMIU+awbTCZAMUU+6wZTKECgdYMp8lkqQA6myGfdYCxAfdYNpshnLkB2gynyWTcwQK0bTJHPOjFA5bNuMEU+MkAcTJHPukEzQFTks24wRTRAi3zWDaZINUDCFPmsG0w2QPqsG0yRTzdAMUU+6wZTOEBo3WCKfFY5QKB1gynyWTpA1w2myGddO0AOpshn3WA8QEY+6wZTZD1AfdYNpshnPkC1bjBFPms/QHaDKfJZN0BAks+6wRS5QECtG0yRzzpBQMln3WCKvEFA5bNuMEU+QkAAAAAAAMBCQBxMkc+6QUNAOJgin3XDQ0BU5LNuMEVEQG8wRT7rxkRAi3zWDaZIRUCnyGfdYMpFQMIU+awbTEZA3mCKfNbNRkD6rBtMkU9HQBX5rBtM0UdAMUU+6wZTSEBNkc+6wdRIQGjdYIp8VklAhCnyWTfYSUCgdYMp8llKQLvBFPms20pA1w2myGddS0DzWTeYIt9LQA6myGfdYExAKvJZN5jiTEBGPusGU2RNQGKKfNYN5k1AfdYNpshnTkCZIp91g+lOQLVuMEU+a09A0LrBFPnsT0B2gynyWTdQQIQp8lk3eFBAks+6wRS5UECgdYMp8vlQQK0bTJHPOlFAu8EU+ax7UUDJZ91girxRQNcNpshn/VFA5bNuMEU+UkDzWTeYIn9SQAAAAAAAwFJA\",\"dtype\":\"float64\",\"shape\":[75]},\"y\":{\"__ndarray__\":\"AAAAAAAAAAAgfwguNAjCP3w76L/Svh1AuB04XQ1YMUD0qGSO0sc0QFH82hf+WTZA6ABmutynN0Bk9VNRs/Y4QLO7GrsjSDpAXzYJ3Q6LO0CAgnbya5M8QLQ3fq1JNT1ACvFXBZGFPUAAhhd+1qw9QLhYCtXnwT1Amma2HYvOPUAAYPy04NY9QFat4cDH3D1Aoxm8Qy/hPUCghsnZmeQ9QPRBTqNU5z1AYSMXH5DpPUDXb5FcbOs9QIGm4G//7D1ApnarD1nuPUDfAJK7hO89QO4ydxCL8D1AUp1Oo3LxPUBujzOSQPI9QNaZauf48j1Aiud13p7zPUDxD2IVNfQ9QNI6k7C99D1AjjM2dTr1PUD/KxTdrPU9QBQBpSUW9j1A/YGhW3f2PUDpwwlk0fY9QJiGOAMl9z1ApwKE4nL3PUBHaruUu/c9QNToxZn/9z1AcJWXYT/4PUBkcZpOe/g9QIjDqrez+D1A+DW96ej4PUBXKD4pG/k9QFEsOLNK+T1Ahl9Mvnf5PUA6Y4R7ovk9QGI9BRfL+T1A7XinuPH5PUBJ6HmEFvo9QKBnMps5+j1Aj9eOGlv6PUBZ/6kde/o9QAf+Q72Z+j1AWeACELf6PUCw6Kkq0/o9QLRPSyDu+j1Aj5B0Agj7PUDSFlLhIPs9QPBU0ss4+z1A2SjEz0/7PUC5KPH5Zfs9QA7pNFZ7+z1AI3aS74/7PUBHcUfQo/s9QD723AG3+z1AW902jcn7PUDMd6F62/s9QB8E3tHs+z1ACNstmv37PUBCjlzaDfw9QGEbyZgd/D1A\",\"dtype\":\"float64\",\"shape\":[75]}},\"selected\":{\"id\":\"1472\",\"type\":\"Selection\"},\"selection_policy\":{\"id\":\"1473\",\"type\":\"UnionRenderers\"}},\"id\":\"1367\",\"type\":\"ColumnDataSource\"},{\"attributes\":{\"line_color\":\"#004489\",\"line_width\":2,\"x\":{\"field\":\"x\"},\"y\":{\"field\":\"y\"}},\"id\":\"1373\",\"type\":\"Line\"},{\"attributes\":{\"line_alpha\":0.1,\"line_color\":\"#1f77b4\",\"line_width\":2,\"x\":{\"field\":\"x\"},\"y\":{\"field\":\"y\"}},\"id\":\"1214\",\"type\":\"Line\"},{\"attributes\":{\"line_alpha\":0.1,\"line_color\":\"#1f77b4\",\"line_width\":2,\"x\":{\"field\":\"x\"},\"y\":{\"field\":\"y\"}},\"id\":\"1324\",\"type\":\"Line\"},{\"attributes\":{},\"id\":\"1479\",\"type\":\"UnionRenderers\"},{\"attributes\":{\"line_color\":\"#93fbff\",\"line_width\":2,\"x\":{\"field\":\"x\"},\"y\":{\"field\":\"y\"}},\"id\":\"1318\",\"type\":\"Line\"},{\"attributes\":{\"line_alpha\":0.1,\"line_color\":\"#1f77b4\",\"line_width\":2,\"x\":{\"field\":\"x\"},\"y\":{\"field\":\"y\"}},\"id\":\"1369\",\"type\":\"Line\"},{\"attributes\":{\"line_color\":\"#ff7e0e\",\"line_width\":2,\"x\":{\"field\":\"x\"},\"y\":{\"field\":\"y\"}},\"id\":\"1203\",\"type\":\"Line\"},{\"attributes\":{\"line_alpha\":0.1,\"line_color\":\"#1f77b4\",\"line_width\":2,\"x\":{\"field\":\"x\"},\"y\":{\"field\":\"y\"}},\"id\":\"1339\",\"type\":\"Line\"},{\"attributes\":{\"bottom_units\":\"screen\",\"fill_alpha\":{\"value\":0.5},\"fill_color\":{\"value\":\"lightgrey\"},\"left_units\":\"screen\",\"level\":\"overlay\",\"line_alpha\":{\"value\":1.0},\"line_color\":{\"value\":\"black\"},\"line_dash\":[4,4],\"line_width\":{\"value\":2},\"render_mode\":\"css\",\"right_units\":\"screen\",\"top_units\":\"screen\"},\"id\":\"1480\",\"type\":\"BoxAnnotation\"},{\"attributes\":{\"data_source\":{\"id\":\"1367\",\"type\":\"ColumnDataSource\"},\"glyph\":{\"id\":\"1368\",\"type\":\"Line\"},\"hover_glyph\":null,\"muted_glyph\":null,\"nonselection_glyph\":{\"id\":\"1369\",\"type\":\"Line\"},\"selection_glyph\":null,\"view\":{\"id\":\"1371\",\"type\":\"CDSView\"}},\"id\":\"1370\",\"type\":\"GlyphRenderer\"},{\"attributes\":{\"source\":{\"id\":\"1207\",\"type\":\"ColumnDataSource\"}},\"id\":\"1211\",\"type\":\"CDSView\"},{\"attributes\":{\"text\":\"Reduced Model 5\"},\"id\":\"1164\",\"type\":\"Title\"},{\"attributes\":{\"line_alpha\":0.1,\"line_color\":\"#1f77b4\",\"line_width\":2,\"x\":{\"field\":\"x\"},\"y\":{\"field\":\"y\"}},\"id\":\"1349\",\"type\":\"Line\"},{\"attributes\":{\"data_source\":{\"id\":\"1317\",\"type\":\"ColumnDataSource\"},\"glyph\":{\"id\":\"1318\",\"type\":\"Line\"},\"hover_glyph\":null,\"muted_glyph\":null,\"nonselection_glyph\":{\"id\":\"1319\",\"type\":\"Line\"},\"selection_glyph\":null,\"view\":{\"id\":\"1321\",\"type\":\"CDSView\"}},\"id\":\"1320\",\"type\":\"GlyphRenderer\"},{\"attributes\":{\"line_alpha\":0.1,\"line_color\":\"#1f77b4\",\"line_width\":2,\"x\":{\"field\":\"x\"},\"y\":{\"field\":\"y\"}},\"id\":\"1199\",\"type\":\"Line\"},{\"attributes\":{\"callback\":null,\"data\":{\"x\":{\"__ndarray__\":\"AAAAAAAAAAB2gynyWTfwP3aDKfJZNwBAMUU+6wZTCEB2gynyWTcQQFTks24wRRRAMUU+6wZTGEAOpshn3WAcQHaDKfJZNyBA5bNuMEU+IkBU5LNuMEUkQMIU+awbTCZAMUU+6wZTKECgdYMp8lkqQA6myGfdYCxAfdYNpshnLkB2gynyWTcwQK0bTJHPOjFA5bNuMEU+MkAcTJHPukEzQFTks24wRTRAi3zWDaZINUDCFPmsG0w2QPqsG0yRTzdAMUU+6wZTOEBo3WCKfFY5QKB1gynyWTpA1w2myGddO0AOpshn3WA8QEY+6wZTZD1AfdYNpshnPkC1bjBFPms/QHaDKfJZN0BAks+6wRS5QECtG0yRzzpBQMln3WCKvEFA5bNuMEU+QkAAAAAAAMBCQBxMkc+6QUNAOJgin3XDQ0BU5LNuMEVEQG8wRT7rxkRAi3zWDaZIRUCnyGfdYMpFQMIU+awbTEZA3mCKfNbNRkD6rBtMkU9HQBX5rBtM0UdAMUU+6wZTSEBNkc+6wdRIQGjdYIp8VklAhCnyWTfYSUCgdYMp8llKQLvBFPms20pA1w2myGddS0DzWTeYIt9LQA6myGfdYExAKvJZN5jiTEBGPusGU2RNQGKKfNYN5k1AfdYNpshnTkCZIp91g+lOQLVuMEU+a09A0LrBFPnsT0B2gynyWTdQQIQp8lk3eFBAks+6wRS5UECgdYMp8vlQQK0bTJHPOlFAu8EU+ax7UUDJZ91girxRQNcNpshn/VFA5bNuMEU+UkDzWTeYIn9SQAAAAAAAwFJA\",\"dtype\":\"float64\",\"shape\":[75]},\"y\":{\"__ndarray__\":\"MzMzMzMzwz8wMzMzMzPDP18zMzMzM8M/XzMzMzMzwz9fMzMzMzPDP18zMzMzM8M/XzMzMzMzwz9fMzMzMzPDP18zMzMzM8M/XzMzMzMzwz9fMzMzMzPDP18zMzMzM8M/XzMzMzMzwz9fMzMzMzPDP18zMzMzM8M/XzMzMzMzwz9fMzMzMzPDP18zMzMzM8M/XzMzMzMzwz9fMzMzMzPDP18zMzMzM8M/XzMzMzMzwz9fMzMzMzPDP18zMzMzM8M/XzMzMzMzwz9fMzMzMzPDP18zMzMzM8M/XzMzMzMzwz9fMzMzMzPDP18zMzMzM8M/XzMzMzMzwz9fMzMzMzPDP18zMzMzM8M/XzMzMzMzwz9fMzMzMzPDP18zMzMzM8M/XzMzMzMzwz9fMzMzMzPDP18zMzMzM8M/XzMzMzMzwz9fMzMzMzPDP18zMzMzM8M/XzMzMzMzwz9fMzMzMzPDP18zMzMzM8M/XzMzMzMzwz9fMzMzMzPDP18zMzMzM8M/XzMzMzMzwz9fMzMzMzPDP18zMzMzM8M/XzMzMzMzwz9fMzMzMzPDP18zMzMzM8M/XzMzMzMzwz9fMzMzMzPDP18zMzMzM8M/XzMzMzMzwz9fMzMzMzPDP18zMzMzM8M/XzMzMzMzwz9fMzMzMzPDP18zMzMzM8M/XzMzMzMzwz9fMzMzMzPDP18zMzMzM8M/XzMzMzMzwz9fMzMzMzPDP18zMzMzM8M/XzMzMzMzwz9fMzMzMzPDP18zMzMzM8M/XzMzMzMzwz9fMzMzMzPDP18zMzMzM8M/\",\"dtype\":\"float64\",\"shape\":[75]}},\"selected\":{\"id\":\"1414\",\"type\":\"Selection\"},\"selection_policy\":{\"id\":\"1415\",\"type\":\"UnionRenderers\"}},\"id\":\"1222\",\"type\":\"ColumnDataSource\"},{\"attributes\":{\"source\":{\"id\":\"1242\",\"type\":\"ColumnDataSource\"}},\"id\":\"1246\",\"type\":\"CDSView\"},{\"attributes\":{\"line_color\":\"#ff6e75\",\"line_width\":2,\"x\":{\"field\":\"x\"},\"y\":{\"field\":\"y\"}},\"id\":\"1353\",\"type\":\"Line\"},{\"attributes\":{\"source\":{\"id\":\"1367\",\"type\":\"ColumnDataSource\"}},\"id\":\"1371\",\"type\":\"CDSView\"},{\"attributes\":{\"line_alpha\":0.1,\"line_color\":\"#1f77b4\",\"line_width\":2,\"x\":{\"field\":\"x\"},\"y\":{\"field\":\"y\"}},\"id\":\"1244\",\"type\":\"Line\"},{\"attributes\":{\"line_alpha\":0.1,\"line_color\":\"#1f77b4\",\"line_width\":2,\"x\":{\"field\":\"x\"},\"y\":{\"field\":\"y\"}},\"id\":\"1304\",\"type\":\"Line\"},{\"attributes\":{},\"id\":\"1478\",\"type\":\"Selection\"},{\"attributes\":{\"callback\":null,\"data\":{\"x\":{\"__ndarray__\":\"AAAAAAAAAAB2gynyWTfwP3aDKfJZNwBAMUU+6wZTCEB2gynyWTcQQFTks24wRRRAMUU+6wZTGEAOpshn3WAcQHaDKfJZNyBA5bNuMEU+IkBU5LNuMEUkQMIU+awbTCZAMUU+6wZTKECgdYMp8lkqQA6myGfdYCxAfdYNpshnLkB2gynyWTcwQK0bTJHPOjFA5bNuMEU+MkAcTJHPukEzQFTks24wRTRAi3zWDaZINUDCFPmsG0w2QPqsG0yRTzdAMUU+6wZTOEBo3WCKfFY5QKB1gynyWTpA1w2myGddO0AOpshn3WA8QEY+6wZTZD1AfdYNpshnPkC1bjBFPms/QHaDKfJZN0BAks+6wRS5QECtG0yRzzpBQMln3WCKvEFA5bNuMEU+QkAAAAAAAMBCQBxMkc+6QUNAOJgin3XDQ0BU5LNuMEVEQG8wRT7rxkRAi3zWDaZIRUCnyGfdYMpFQMIU+awbTEZA3mCKfNbNRkD6rBtMkU9HQBX5rBtM0UdAMUU+6wZTSEBNkc+6wdRIQGjdYIp8VklAhCnyWTfYSUCgdYMp8llKQLvBFPms20pA1w2myGddS0DzWTeYIt9LQA6myGfdYExAKvJZN5jiTEBGPusGU2RNQGKKfNYN5k1AfdYNpshnTkCZIp91g+lOQLVuMEU+a09A0LrBFPnsT0B2gynyWTdQQIQp8lk3eFBAks+6wRS5UECgdYMp8vlQQK0bTJHPOlFAu8EU+ax7UUDJZ91girxRQNcNpshn/VFA5bNuMEU+UkDzWTeYIn9SQAAAAAAAwFJA\",\"dtype\":\"float64\",\"shape\":[75]},\"y\":{\"__ndarray__\":\"MzMzMzMzwz8lMzMzMzPDPxAzMzMzM8M/DTMzMzMzwz8EMzMzMzPDPwQzMzMzM8M/AzMzMzMzwz8DMzMzMzPDP/oyMzMzM8M/BDMzMzMzwz8FMzMzMzPDPwUzMzMzM8M/BTMzMzMzwz8FMzMzMzPDPwQzMzMzM8M/BDMzMzMzwz8EMzMzMzPDPwQzMzMzM8M/BDMzMzMzwz8EMzMzMzPDPwQzMzMzM8M/BDMzMzMzwz8EMzMzMzPDPwQzMzMzM8M/BDMzMzMzwz8EMzMzMzPDPwQzMzMzM8M/BDMzMzMzwz8EMzMzMzPDPwQzMzMzM8M/BDMzMzMzwz8EMzMzMzPDPwQzMzMzM8M/BDMzMzMzwz8EMzMzMzPDPwQzMzMzM8M/BDMzMzMzwz8EMzMzMzPDPwQzMzMzM8M/BDMzMzMzwz8EMzMzMzPDPwQzMzMzM8M/BDMzMzMzwz8EMzMzMzPDPwQzMzMzM8M/BDMzMzMzwz8EMzMzMzPDPwQzMzMzM8M/BDMzMzMzwz8EMzMzMzPDPwQzMzMzM8M/BDMzMzMzwz8EMzMzMzPDPwQzMzMzM8M/BDMzMzMzwz8EMzMzMzPDPwQzMzMzM8M/BDMzMzMzwz8EMzMzMzPDPwQzMzMzM8M/BDMzMzMzwz8EMzMzMzPDPwQzMzMzM8M/BDMzMzMzwz8EMzMzMzPDPwQzMzMzM8M/BDMzMzMzwz8EMzMzMzPDPwQzMzMzM8M/BDMzMzMzwz8EMzMzMzPDPwQzMzMzM8M/BDMzMzMzwz8EMzMzMzPDPwQzMzMzM8M/\",\"dtype\":\"float64\",\"shape\":[75]}},\"selected\":{\"id\":\"1454\",\"type\":\"Selection\"},\"selection_policy\":{\"id\":\"1455\",\"type\":\"UnionRenderers\"}},\"id\":\"1322\",\"type\":\"ColumnDataSource\"},{\"attributes\":{\"callback\":null,\"data\":{\"x\":{\"__ndarray__\":\"AAAAAAAAAAB2gynyWTfwP3aDKfJZNwBAMUU+6wZTCEB2gynyWTcQQFTks24wRRRAMUU+6wZTGEAOpshn3WAcQHaDKfJZNyBA5bNuMEU+IkBU5LNuMEUkQMIU+awbTCZAMUU+6wZTKECgdYMp8lkqQA6myGfdYCxAfdYNpshnLkB2gynyWTcwQK0bTJHPOjFA5bNuMEU+MkAcTJHPukEzQFTks24wRTRAi3zWDaZINUDCFPmsG0w2QPqsG0yRTzdAMUU+6wZTOEBo3WCKfFY5QKB1gynyWTpA1w2myGddO0AOpshn3WA8QEY+6wZTZD1AfdYNpshnPkC1bjBFPms/QHaDKfJZN0BAks+6wRS5QECtG0yRzzpBQMln3WCKvEFA5bNuMEU+QkAAAAAAAMBCQBxMkc+6QUNAOJgin3XDQ0BU5LNuMEVEQG8wRT7rxkRAi3zWDaZIRUCnyGfdYMpFQMIU+awbTEZA3mCKfNbNRkD6rBtMkU9HQBX5rBtM0UdAMUU+6wZTSEBNkc+6wdRIQGjdYIp8VklAhCnyWTfYSUCgdYMp8llKQLvBFPms20pA1w2myGddS0DzWTeYIt9LQA6myGfdYExAKvJZN5jiTEBGPusGU2RNQGKKfNYN5k1AfdYNpshnTkCZIp91g+lOQLVuMEU+a09A0LrBFPnsT0B2gynyWTdQQIQp8lk3eFBAks+6wRS5UECgdYMp8vlQQK0bTJHPOlFAu8EU+ax7UUDJZ91girxRQNcNpshn/VFA5bNuMEU+UkDzWTeYIn9SQAAAAAAAwFJA\",\"dtype\":\"float64\",\"shape\":[75]},\"y\":{\"__ndarray__\":\"AAAAAAAAAEBZyDJSAcueP43OmkufoY4/4AnNB7oAjj/SREe1CPyNP+uZ7QW3+40/D2V+4Yv9jT9s4XSdQwKOPwg3RxA6DY4/cQChSzcqjj9XEDeLP42OP5sU+TXECo8/mx/ufYxHjz8ZLwnY3kKPP0IUg2lwDo8/m7oFv767jj8onD+xg1iOPwsKm3h07o0/k5Img/aDjT8oD3Yg+xyNP5LE7TPCu4w/do+djmthjD9lhrZTYA6MP+LufhOZwos/gNjgoMx9iz+zgouUjj+LPy3q84BhB4s/mbvoQcPUij+gYC9tM6eKP7kJOmg4foo/HvfGpV9Zij/j7yamQDiKP6R+yiV7Goo/GP/4c7j/iT/AUF3bqeeJP0BuEScJ0ok/ZowyIJa+iT+PVdMAGK2JP3tQz2ZbnYk/PjgqzjKPiT9r6so6dYKJP9uolUL9dok/2fHQCqpsiT/RNtn7XWOJP09r6G/+Wok/Qy7N0HNTiT/dG2ZyqEyJPzRaHTaJRok//8ld4gRBiT8qXFX9CzyJP3x+zkiQN4k/geQMEYYziT9nvVOk4S+JPywYYVuWLIk/qp7HXqEpiT/ElqsP9SaJPxO5c7iLJIk/PkQ1uV4iiT9eZRQbaCCJPywXaH+iHok/RzMAEAkdiT/qoTdylxuJP39YKbpJGok/yhlhXxwZiT8n7gIzDBiJP5wrA1cWF4k/i4H7NTgWiT/PYtx7bxWJP16LeQ+6FIk/KnGvDBYUiT/m1R6/gROJP9+ka537Eok/dxX8RIISiT9griJ2FBKJP0fgqBCxEYk/\",\"dtype\":\"float64\",\"shape\":[75]}},\"selected\":{\"id\":\"1474\",\"type\":\"Selection\"},\"selection_policy\":{\"id\":\"1475\",\"type\":\"UnionRenderers\"}},\"id\":\"1372\",\"type\":\"ColumnDataSource\"},{\"attributes\":{\"line_color\":\"#ffbf60\",\"line_width\":2,\"x\":{\"field\":\"x\"},\"y\":{\"field\":\"y\"}},\"id\":\"1378\",\"type\":\"Line\"},{\"attributes\":{\"line_alpha\":0.1,\"line_color\":\"#1f77b4\",\"line_width\":2,\"x\":{\"field\":\"x\"},\"y\":{\"field\":\"y\"}},\"id\":\"1329\",\"type\":\"Line\"},{\"attributes\":{\"callback\":null,\"data\":{\"x\":{\"__ndarray__\":\"AAAAAAAAAAB2gynyWTfwP3aDKfJZNwBAMUU+6wZTCEB2gynyWTcQQFTks24wRRRAMUU+6wZTGEAOpshn3WAcQHaDKfJZNyBA5bNuMEU+IkBU5LNuMEUkQMIU+awbTCZAMUU+6wZTKECgdYMp8lkqQA6myGfdYCxAfdYNpshnLkB2gynyWTcwQK0bTJHPOjFA5bNuMEU+MkAcTJHPukEzQFTks24wRTRAi3zWDaZINUDCFPmsG0w2QPqsG0yRTzdAMUU+6wZTOEBo3WCKfFY5QKB1gynyWTpA1w2myGddO0AOpshn3WA8QEY+6wZTZD1AfdYNpshnPkC1bjBFPms/QHaDKfJZN0BAks+6wRS5QECtG0yRzzpBQMln3WCKvEFA5bNuMEU+QkAAAAAAAMBCQBxMkc+6QUNAOJgin3XDQ0BU5LNuMEVEQG8wRT7rxkRAi3zWDaZIRUCnyGfdYMpFQMIU+awbTEZA3mCKfNbNRkD6rBtMkU9HQBX5rBtM0UdAMUU+6wZTSEBNkc+6wdRIQGjdYIp8VklAhCnyWTfYSUCgdYMp8llKQLvBFPms20pA1w2myGddS0DzWTeYIt9LQA6myGfdYExAKvJZN5jiTEBGPusGU2RNQGKKfNYN5k1AfdYNpshnTkCZIp91g+lOQLVuMEU+a09A0LrBFPnsT0B2gynyWTdQQIQp8lk3eFBAks+6wRS5UECgdYMp8vlQQK0bTJHPOlFAu8EU+ax7UUDJZ91girxRQNcNpshn/VFA5bNuMEU+UkDzWTeYIn9SQAAAAAAAwFJA\",\"dtype\":\"float64\",\"shape\":[75]},\"y\":{\"__ndarray__\":\"AAAAAAAAAAAxzLaX7hUQQLeBqMmX4eQ/bzSC+MwUsT9gYKnAFPJ7P76RIGop3EY/fvy1zC2zEj9SbXgdv5jePq6Y5TxYB6k+WvMDTVV5dD6B38nVg79APlCFYv+OZgs+8ow9nRNq1j1Oawfz8FWiPdpS/obCAW49LmvjXzePOD2QR0KvAhgEPXxEF3EHctA8OA/3torrmjx6Mmcxxv1lPGUJMyKA9jE80BFE5kfG/Dt7fq84uibKO3QQXmBVCZc7RpxJGSIYZTub+i/K8I03O656fRghJ966en5KPC1AC7uaIFNhuwLeOtumRVlTS9e6UPrwviFtt7ozp2zSM7e5OpUDVZ8C8p26QO6G14k4Xbq3pZUSvi+guqAyisuFUya6oE+epvOiNzqAz7/A7dVGuig9Q/bALlC6mcFqL3n2XToNtb+OgNs9OvxBlT86QDq6+NUzrDGYAjpWt5sMeKgHuu1PIp89lgA63A8+PRbd0bkolyBFWTrRufw/xxxOXNA5RzfR+qjT8rkU6hWtlUbiOdNBM/sVs8g5rm12CkHAqTkpessGmCxwOSQLixt+vyC5VvTyjDCk/Djq+ChlZ7bEOLyxM2Y2YVK4q9KOvIv/Wzib5mSJ752AOHtFUDgAun44gAAQdn6WCDiCrsTtHdcvOL5f5Y8/UFc4aCz6OALoIbi2rOEsH/5FuN7oDynDOTs4ZHw0boIWMjgS5l/Ra04wuLyY6i0NOwS4+bptGNxtJji0Z/AixmgNuA2Q2zei0ha4Dt6dNqJTBjjwyGMQorX6NzCHsX15+wS4\",\"dtype\":\"float64\",\"shape\":[75]}},\"selected\":{\"id\":\"1410\",\"type\":\"Selection\"},\"selection_policy\":{\"id\":\"1411\",\"type\":\"UnionRenderers\"}},\"id\":\"1212\",\"type\":\"ColumnDataSource\"},{\"attributes\":{\"line_alpha\":0.1,\"line_color\":\"#1f77b4\",\"line_width\":2,\"x\":{\"field\":\"x\"},\"y\":{\"field\":\"y\"}},\"id\":\"1374\",\"type\":\"Line\"},{\"attributes\":{\"callback\":null,\"data\":{\"x\":{\"__ndarray__\":\"AAAAAAAAAAB2gynyWTfwP3aDKfJZNwBAMUU+6wZTCEB2gynyWTcQQFTks24wRRRAMUU+6wZTGEAOpshn3WAcQHaDKfJZNyBA5bNuMEU+IkBU5LNuMEUkQMIU+awbTCZAMUU+6wZTKECgdYMp8lkqQA6myGfdYCxAfdYNpshnLkB2gynyWTcwQK0bTJHPOjFA5bNuMEU+MkAcTJHPukEzQFTks24wRTRAi3zWDaZINUDCFPmsG0w2QPqsG0yRTzdAMUU+6wZTOEBo3WCKfFY5QKB1gynyWTpA1w2myGddO0AOpshn3WA8QEY+6wZTZD1AfdYNpshnPkC1bjBFPms/QHaDKfJZN0BAks+6wRS5QECtG0yRzzpBQMln3WCKvEFA5bNuMEU+QkAAAAAAAMBCQBxMkc+6QUNAOJgin3XDQ0BU5LNuMEVEQG8wRT7rxkRAi3zWDaZIRUCnyGfdYMpFQMIU+awbTEZA3mCKfNbNRkD6rBtMkU9HQBX5rBtM0UdAMUU+6wZTSEBNkc+6wdRIQGjdYIp8VklAhCnyWTfYSUCgdYMp8llKQLvBFPms20pA1w2myGddS0DzWTeYIt9LQA6myGfdYExAKvJZN5jiTEBGPusGU2RNQGKKfNYN5k1AfdYNpshnTkCZIp91g+lOQLVuMEU+a09A0LrBFPnsT0B2gynyWTdQQIQp8lk3eFBAks+6wRS5UECgdYMp8vlQQK0bTJHPOlFAu8EU+ax7UUDJZ91girxRQNcNpshn/VFA5bNuMEU+UkDzWTeYIn9SQAAAAAAAwFJA\",\"dtype\":\"float64\",\"shape\":[75]},\"y\":{\"__ndarray__\":\"AAAAAAAAPkDWNfUjSuPzPwt9PZg1kztARmIEmVvgO0Bc8E7UbuI7QAfNGXfO3jtA2X1GDGzWO0Bn9SXdoMQ7QIBaE4zGlTtAaqLGMDnhOkAmpGOM4sM4QHN5njuiDDZAz3hY70Z5M0CxwOU2cikxQPgmQZplPi5A1JpTLk+rKkCisyM874snQGjPxlYR0iRA9AcZqGFwIkDTuLCD8logQGP55Cu0Dh1A33NQTkDZGUA1XNq/MAYXQG/vv/ltiBRA3FOB0M1UEkCcHT/Gx2EQQOHwKONmTg1AMcp+hyE8CkCWSpCasoAHQFAQJXyyEQVAGzwvBx7mAkBb/umgIPYAQAMTpMbOdf4/Bgn3Vfdc+z+XKFKaR5f4P4fAVIWRG/Y/QNUQFcDh8z8Z8TfaseLxPyGuNA0ZGPA/O8LoBsH47D9v0/YDKRXqP/pExXWdfOc/8TSlYkon5T9nlkjINg7jP0obE88qK+E/p3RL/DLx3j8H7CcmGuPbP8Y82SUsI9k/sFIhaHip1j9yhFGP4m7UP6LMEScLbdI/lY8aSDue0D9/2aeepPrNP73aZ1NsC8s/7Oe0zolmyD/1lmcekATGP15DJQ7T3sM//sR491LvwT+dMMogqzDAP8s0gzgDPL0/pn+ndfFluj+L+VJARte3P4iykeLviLU/v8ZD/5B0sz8ElmeIbpSxP9kEsk+/xq8/zWJTun25rD9R42BsufipP5G5sxfofKc/nzLpxD4/pT+S0IG8njmjP3iaKUiEZqE/auUtl+6Bnz+4B9LN+oicP15dd+oa2pk/\",\"dtype\":\"float64\",\"shape\":[75]}},\"selected\":{\"id\":\"1406\",\"type\":\"Selection\"},\"selection_policy\":{\"id\":\"1407\",\"type\":\"UnionRenderers\"}},\"id\":\"1202\",\"type\":\"ColumnDataSource\"},{\"attributes\":{\"line_alpha\":0.1,\"line_color\":\"#1f77b4\",\"line_width\":2,\"x\":{\"field\":\"x\"},\"y\":{\"field\":\"y\"}},\"id\":\"1354\",\"type\":\"Line\"},{\"attributes\":{\"data_source\":{\"id\":\"1372\",\"type\":\"ColumnDataSource\"},\"glyph\":{\"id\":\"1373\",\"type\":\"Line\"},\"hover_glyph\":null,\"muted_glyph\":null,\"nonselection_glyph\":{\"id\":\"1374\",\"type\":\"Line\"},\"selection_glyph\":null,\"view\":{\"id\":\"1376\",\"type\":\"CDSView\"}},\"id\":\"1375\",\"type\":\"GlyphRenderer\"},{\"attributes\":{\"line_alpha\":0.1,\"line_color\":\"#1f77b4\",\"line_width\":2,\"x\":{\"field\":\"x\"},\"y\":{\"field\":\"y\"}},\"id\":\"1239\",\"type\":\"Line\"},{\"attributes\":{\"line_alpha\":0.1,\"line_color\":\"#1f77b4\",\"line_width\":2,\"x\":{\"field\":\"x\"},\"y\":{\"field\":\"y\"}},\"id\":\"1204\",\"type\":\"Line\"},{\"attributes\":{\"source\":{\"id\":\"1287\",\"type\":\"ColumnDataSource\"}},\"id\":\"1291\",\"type\":\"CDSView\"},{\"attributes\":{\"data_source\":{\"id\":\"1327\",\"type\":\"ColumnDataSource\"},\"glyph\":{\"id\":\"1328\",\"type\":\"Line\"},\"hover_glyph\":null,\"muted_glyph\":null,\"nonselection_glyph\":{\"id\":\"1329\",\"type\":\"Line\"},\"selection_glyph\":null,\"view\":{\"id\":\"1331\",\"type\":\"CDSView\"}},\"id\":\"1330\",\"type\":\"GlyphRenderer\"},{\"attributes\":{\"line_color\":\"#8200a0\",\"line_width\":2,\"x\":{\"field\":\"x\"},\"y\":{\"field\":\"y\"}},\"id\":\"1333\",\"type\":\"Line\"},{\"attributes\":{\"callback\":null,\"data\":{\"x\":{\"__ndarray__\":\"AAAAAAAAAAB2gynyWTfwP3aDKfJZNwBAMUU+6wZTCEB2gynyWTcQQFTks24wRRRAMUU+6wZTGEAOpshn3WAcQHaDKfJZNyBA5bNuMEU+IkBU5LNuMEUkQMIU+awbTCZAMUU+6wZTKECgdYMp8lkqQA6myGfdYCxAfdYNpshnLkB2gynyWTcwQK0bTJHPOjFA5bNuMEU+MkAcTJHPukEzQFTks24wRTRAi3zWDaZINUDCFPmsG0w2QPqsG0yRTzdAMUU+6wZTOEBo3WCKfFY5QKB1gynyWTpA1w2myGddO0AOpshn3WA8QEY+6wZTZD1AfdYNpshnPkC1bjBFPms/QHaDKfJZN0BAks+6wRS5QECtG0yRzzpBQMln3WCKvEFA5bNuMEU+QkAAAAAAAMBCQBxMkc+6QUNAOJgin3XDQ0BU5LNuMEVEQG8wRT7rxkRAi3zWDaZIRUCnyGfdYMpFQMIU+awbTEZA3mCKfNbNRkD6rBtMkU9HQBX5rBtM0UdAMUU+6wZTSEBNkc+6wdRIQGjdYIp8VklAhCnyWTfYSUCgdYMp8llKQLvBFPms20pA1w2myGddS0DzWTeYIt9LQA6myGfdYExAKvJZN5jiTEBGPusGU2RNQGKKfNYN5k1AfdYNpshnTkCZIp91g+lOQLVuMEU+a09A0LrBFPnsT0B2gynyWTdQQIQp8lk3eFBAks+6wRS5UECgdYMp8vlQQK0bTJHPOlFAu8EU+ax7UUDJZ91girxRQNcNpshn/VFA5bNuMEU+UkDzWTeYIn9SQAAAAAAAwFJA\",\"dtype\":\"float64\",\"shape\":[75]},\"y\":{\"__ndarray__\":\"MzMzMzMzwz8zMzMzMzPDPzszMzMzM8M/LDMzMzMzwz/9MjMzMzPDP+oyMzMzM8M/6DIzMzMzwz8pMzMzMzPDPy0zMzMzM8M/LjMzMzMzwz8wMzMzMzPDPy4zMzMzM8M/LTMzMzMzwz8uMzMzMzPDPzYzMzMzM8M/QDMzMzMzwz9AMzMzMzPDP0AzMzMzM8M/QDMzMzMzwz9AMzMzMzPDP0AzMzMzM8M/QDMzMzMzwz9AMzMzMzPDP0AzMzMzM8M/QDMzMzMzwz9AMzMzMzPDP0AzMzMzM8M/QDMzMzMzwz9AMzMzMzPDP0AzMzMzM8M/QDMzMzMzwz9AMzMzMzPDP0AzMzMzM8M/QDMzMzMzwz9AMzMzMzPDP0AzMzMzM8M/QDMzMzMzwz9AMzMzMzPDP0AzMzMzM8M/QDMzMzMzwz9AMzMzMzPDP0AzMzMzM8M/QDMzMzMzwz9AMzMzMzPDP0AzMzMzM8M/QDMzMzMzwz9AMzMzMzPDP0AzMzMzM8M/QDMzMzMzwz9AMzMzMzPDP0AzMzMzM8M/QDMzMzMzwz9AMzMzMzPDP0AzMzMzM8M/QDMzMzMzwz9AMzMzMzPDP0AzMzMzM8M/QDMzMzMzwz9AMzMzMzPDP0AzMzMzM8M/QDMzMzMzwz9AMzMzMzPDP0AzMzMzM8M/QDMzMzMzwz9AMzMzMzPDP0AzMzMzM8M/QDMzMzMzwz9AMzMzMzPDP0AzMzMzM8M/QDMzMzMzwz9AMzMzMzPDP0AzMzMzM8M/QDMzMzMzwz9AMzMzMzPDP0AzMzMzM8M/\",\"dtype\":\"float64\",\"shape\":[75]}},\"selected\":{\"id\":\"1466\",\"type\":\"Selection\"},\"selection_policy\":{\"id\":\"1467\",\"type\":\"UnionRenderers\"}},\"id\":\"1352\",\"type\":\"ColumnDataSource\"},{\"attributes\":{\"callback\":null},\"id\":\"1168\",\"type\":\"DataRange1d\"},{\"attributes\":{\"data_source\":{\"id\":\"1292\",\"type\":\"ColumnDataSource\"},\"glyph\":{\"id\":\"1293\",\"type\":\"Line\"},\"hover_glyph\":null,\"muted_glyph\":null,\"nonselection_glyph\":{\"id\":\"1294\",\"type\":\"Line\"},\"selection_glyph\":null,\"view\":{\"id\":\"1296\",\"type\":\"CDSView\"}},\"id\":\"1295\",\"type\":\"GlyphRenderer\"},{\"attributes\":{\"line_color\":\"#ac8944\",\"line_width\":2,\"x\":{\"field\":\"x\"},\"y\":{\"field\":\"y\"}},\"id\":\"1338\",\"type\":\"Line\"},{\"attributes\":{\"source\":{\"id\":\"1372\",\"type\":\"ColumnDataSource\"}},\"id\":\"1376\",\"type\":\"CDSView\"},{\"attributes\":{\"callback\":null,\"data\":{\"x\":{\"__ndarray__\":\"AAAAAAAAAAB2gynyWTfwP3aDKfJZNwBAMUU+6wZTCEB2gynyWTcQQFTks24wRRRAMUU+6wZTGEAOpshn3WAcQHaDKfJZNyBA5bNuMEU+IkBU5LNuMEUkQMIU+awbTCZAMUU+6wZTKECgdYMp8lkqQA6myGfdYCxAfdYNpshnLkB2gynyWTcwQK0bTJHPOjFA5bNuMEU+MkAcTJHPukEzQFTks24wRTRAi3zWDaZINUDCFPmsG0w2QPqsG0yRTzdAMUU+6wZTOEBo3WCKfFY5QKB1gynyWTpA1w2myGddO0AOpshn3WA8QEY+6wZTZD1AfdYNpshnPkC1bjBFPms/QHaDKfJZN0BAks+6wRS5QECtG0yRzzpBQMln3WCKvEFA5bNuMEU+QkAAAAAAAMBCQBxMkc+6QUNAOJgin3XDQ0BU5LNuMEVEQG8wRT7rxkRAi3zWDaZIRUCnyGfdYMpFQMIU+awbTEZA3mCKfNbNRkD6rBtMkU9HQBX5rBtM0UdAMUU+6wZTSEBNkc+6wdRIQGjdYIp8VklAhCnyWTfYSUCgdYMp8llKQLvBFPms20pA1w2myGddS0DzWTeYIt9LQA6myGfdYExAKvJZN5jiTEBGPusGU2RNQGKKfNYN5k1AfdYNpshnTkCZIp91g+lOQLVuMEU+a09A0LrBFPnsT0B2gynyWTdQQIQp8lk3eFBAks+6wRS5UECgdYMp8vlQQK0bTJHPOlFAu8EU+ax7UUDJZ91girxRQNcNpshn/VFA5bNuMEU+UkDzWTeYIn9SQAAAAAAAwFJA\",\"dtype\":\"float64\",\"shape\":[75]},\"y\":{\"__ndarray__\":\"MzMzMzMzwz+UMTMzMzPDPykxMzMzM8M/KTEzMzMzwz8pMTMzMzPDPykxMzMzM8M/KTEzMzMzwz8pMTMzMzPDPykxMzMzM8M/KTEzMzMzwz8pMTMzMzPDPykxMzMzM8M/KTEzMzMzwz8pMTMzMzPDPykxMzMzM8M/KTEzMzMzwz8pMTMzMzPDPykxMzMzM8M/KTEzMzMzwz8pMTMzMzPDPykxMzMzM8M/KTEzMzMzwz8pMTMzMzPDPykxMzMzM8M/KTEzMzMzwz8pMTMzMzPDPykxMzMzM8M/KTEzMzMzwz8pMTMzMzPDPykxMzMzM8M/KTEzMzMzwz8pMTMzMzPDPykxMzMzM8M/KTEzMzMzwz8pMTMzMzPDPykxMzMzM8M/KTEzMzMzwz8pMTMzMzPDPykxMzMzM8M/KTEzMzMzwz8pMTMzMzPDPykxMzMzM8M/KTEzMzMzwz8pMTMzMzPDPykxMzMzM8M/KTEzMzMzwz8pMTMzMzPDPykxMzMzM8M/KTEzMzMzwz8pMTMzMzPDPykxMzMzM8M/KTEzMzMzwz8pMTMzMzPDPykxMzMzM8M/KTEzMzMzwz8pMTMzMzPDPykxMzMzM8M/KTEzMzMzwz8pMTMzMzPDPykxMzMzM8M/KTEzMzMzwz8pMTMzMzPDPykxMzMzM8M/KTEzMzMzwz8pMTMzMzPDPykxMzMzM8M/KTEzMzMzwz8pMTMzMzPDPykxMzMzM8M/KTEzMzMzwz8pMTMzMzPDPykxMzMzM8M/KTEzMzMzwz8pMTMzMzPDPykxMzMzM8M/\",\"dtype\":\"float64\",\"shape\":[75]}},\"selected\":{\"id\":\"1404\",\"type\":\"Selection\"},\"selection_policy\":{\"id\":\"1405\",\"type\":\"UnionRenderers\"}},\"id\":\"1197\",\"type\":\"ColumnDataSource\"},{\"attributes\":{\"line_color\":\"#7c0100\",\"line_width\":2,\"x\":{\"field\":\"x\"},\"y\":{\"field\":\"y\"}},\"id\":\"1293\",\"type\":\"Line\"},{\"attributes\":{\"callback\":null,\"data\":{\"x\":{\"__ndarray__\":\"AAAAAAAAAAB2gynyWTfwP3aDKfJZNwBAMUU+6wZTCEB2gynyWTcQQFTks24wRRRAMUU+6wZTGEAOpshn3WAcQHaDKfJZNyBA5bNuMEU+IkBU5LNuMEUkQMIU+awbTCZAMUU+6wZTKECgdYMp8lkqQA6myGfdYCxAfdYNpshnLkB2gynyWTcwQK0bTJHPOjFA5bNuMEU+MkAcTJHPukEzQFTks24wRTRAi3zWDaZINUDCFPmsG0w2QPqsG0yRTzdAMUU+6wZTOEBo3WCKfFY5QKB1gynyWTpA1w2myGddO0AOpshn3WA8QEY+6wZTZD1AfdYNpshnPkC1bjBFPms/QHaDKfJZN0BAks+6wRS5QECtG0yRzzpBQMln3WCKvEFA5bNuMEU+QkAAAAAAAMBCQBxMkc+6QUNAOJgin3XDQ0BU5LNuMEVEQG8wRT7rxkRAi3zWDaZIRUCnyGfdYMpFQMIU+awbTEZA3mCKfNbNRkD6rBtMkU9HQBX5rBtM0UdAMUU+6wZTSEBNkc+6wdRIQGjdYIp8VklAhCnyWTfYSUCgdYMp8llKQLvBFPms20pA1w2myGddS0DzWTeYIt9LQA6myGfdYExAKvJZN5jiTEBGPusGU2RNQGKKfNYN5k1AfdYNpshnTkCZIp91g+lOQLVuMEU+a09A0LrBFPnsT0B2gynyWTdQQIQp8lk3eFBAks+6wRS5UECgdYMp8vlQQK0bTJHPOlFAu8EU+ax7UUDJZ91girxRQNcNpshn/VFA5bNuMEU+UkDzWTeYIn9SQAAAAAAAwFJA\",\"dtype\":\"float64\",\"shape\":[75]},\"y\":{\"__ndarray__\":\"AAAAAAAAAADytwZZq3L9P1IkELU3kBdAQ7p5vACs8j+8/Tjs+9DiP62UvZkr2+E/ryHSiaSE4j+yEL287/LiPzWupFmir+I/TDigkQga4D88PYmEYAbSP/SROi52pLw/YLTC4Bbxpz+HUV3rjliYP+lPk2qmV40/YZO/6ZLCgz8Gjz3ANY58P/rfhEM5o3U/vdzOz7/4cD/LNlWFy1ZrP2fpDIuCfWY/IcbS9SXTYj9N8vmrJflfP9MTtsQafVs/TcbzY27iVz+MLS2u0/FUP0CSQSH2g1I/+2uLST58UD/QrGNI+IpNP8dUUe5un0o/LVqrqm8dSD/08vsTBfJFPzlgOOBLDkQ/OYN6qHFmQj/enJi7+vBAP/rVtb1yTD8/plvsANH/PD/Lt+vQvfE6P1+2k32qGTk/sxOKLnJwNz+22PnXFPA1P0YYMJGAkzQ/zIXOpGZWMz/kSAxWGTUyP7HKD5VwLDE/7IFjybM5MD+66j/SD7UuP4QylIvBGS0/rmVCAeqdKz+4TaskaD4qP0XI+wZ8+Cg/df+wHLnJJz+OM62i+q8mP80d+9tZqSU/Ocd23yW0JD/GEsWS3M4jP3VRuMMk+CI/wC9ACMkuIj9h0XVss3EhP6L8/aDpvyA/2eHMvIkYID+gv1Yej/UeP/FHbxPUyx0/gOjlWpKyHD+s9a1tmKgbPy0+a/HPrBo/+BDh2Dq+GT/JnQvu8NsYP+Nki5cdBRg/pSTG3/04Fz8oHEm/3nYWP8RIr5MbvhU/1/xIvxwOFT/XdOdyVmYUP7dmLZlHxhM/\",\"dtype\":\"float64\",\"shape\":[75]}},\"selected\":{\"id\":\"1460\",\"type\":\"Selection\"},\"selection_policy\":{\"id\":\"1461\",\"type\":\"UnionRenderers\"}},\"id\":\"1337\",\"type\":\"ColumnDataSource\"},{\"attributes\":{\"data_source\":{\"id\":\"1237\",\"type\":\"ColumnDataSource\"},\"glyph\":{\"id\":\"1238\",\"type\":\"Line\"},\"hover_glyph\":null,\"muted_glyph\":null,\"nonselection_glyph\":{\"id\":\"1239\",\"type\":\"Line\"},\"selection_glyph\":null,\"view\":{\"id\":\"1241\",\"type\":\"CDSView\"}},\"id\":\"1240\",\"type\":\"GlyphRenderer\"},{\"attributes\":{\"callback\":null,\"data\":{\"x\":{\"__ndarray__\":\"AAAAAAAAAAB2gynyWTfwP3aDKfJZNwBAMUU+6wZTCEB2gynyWTcQQFTks24wRRRAMUU+6wZTGEAOpshn3WAcQHaDKfJZNyBA5bNuMEU+IkBU5LNuMEUkQMIU+awbTCZAMUU+6wZTKECgdYMp8lkqQA6myGfdYCxAfdYNpshnLkB2gynyWTcwQK0bTJHPOjFA5bNuMEU+MkAcTJHPukEzQFTks24wRTRAi3zWDaZINUDCFPmsG0w2QPqsG0yRTzdAMUU+6wZTOEBo3WCKfFY5QKB1gynyWTpA1w2myGddO0AOpshn3WA8QEY+6wZTZD1AfdYNpshnPkC1bjBFPms/QHaDKfJZN0BAks+6wRS5QECtG0yRzzpBQMln3WCKvEFA5bNuMEU+QkAAAAAAAMBCQBxMkc+6QUNAOJgin3XDQ0BU5LNuMEVEQG8wRT7rxkRAi3zWDaZIRUCnyGfdYMpFQMIU+awbTEZA3mCKfNbNRkD6rBtMkU9HQBX5rBtM0UdAMUU+6wZTSEBNkc+6wdRIQGjdYIp8VklAhCnyWTfYSUCgdYMp8llKQLvBFPms20pA1w2myGddS0DzWTeYIt9LQA6myGfdYExAKvJZN5jiTEBGPusGU2RNQGKKfNYN5k1AfdYNpshnTkCZIp91g+lOQLVuMEU+a09A0LrBFPnsT0B2gynyWTdQQIQp8lk3eFBAks+6wRS5UECgdYMp8vlQQK0bTJHPOlFAu8EU+ax7UUDJZ91girxRQNcNpshn/VFA5bNuMEU+UkDzWTeYIn9SQAAAAAAAwFJA\",\"dtype\":\"float64\",\"shape\":[75]},\"y\":{\"__ndarray__\":\"AAAAAAAAAAC5621wrU7AP4OFvZmv2/s/YLSMtdsA/D/khYnAVP/7P3k4xsPk+/s/+l/tQxr2+z8LYDL5/ur7P1GoZ6D2zvs/9DLCBd1h+z+ZF70dFuj5Pyv0eKlbnPc/k5vc/JAa9T+1fKxLeKPyP/7Bpo1nV/A/4HSjXMKK7D+520oWFOPoP0Dcz7aDs+U/O+qWb5rx4j86N71DlJDgP7ppbaYZB90/XX5PsyF92T8j+2o9Fm7WP4LQgOSyx9M/PlIdPG560T8dDdlvV/LOP3fbvX7Jccs/CM8sdKtgyD8HsaTiZ6/FP7XMomzcUMM/d7SlpO45wT8bc6D1Z8K+P5iAVkFRfbs/QmG46ueWuD88e3RabgO2P+loq7fKuLM/zddYAESusT8MhITVlrivP9Z6dtygeKw/lmjoBTORqT9sPDf1SvimP4RcamokpaQ/jEVWiAuQoj8BqMRLN7KgP3LRGCRYC54/+vFUJD4Kmz8DQRfQwleYPxkexdaV65U/YV2Rm1W+kz8Nep0/cMmRPxEvyJQMB5A/oGZPB+fjjD+nVbo/+wqKP/YrGzwDe4c/CHje9o4shT+rb0eD9hiDPxLnTeNDOoE/cJhdGj8Wfz+DyEfyfg18PzWqjHOvUXk/344vgxnbdj9XX61T0KJ0PzyQX1ebonI/Dd25O+PUcD9NtxGdQmluP3+Oinyhems/HkbCL8LVaD/yAvaMVHNmP2ckTOnDTGQ/wGEzCCRcYj+7rDcNIJxgP8Ad5jLWD14/9MNgNGU2Wz9vy3UAJKRYP7okG2APUlY/\",\"dtype\":\"float64\",\"shape\":[75]}},\"selected\":{\"id\":\"1476\",\"type\":\"Selection\"},\"selection_policy\":{\"id\":\"1477\",\"type\":\"UnionRenderers\"}},\"id\":\"1377\",\"type\":\"ColumnDataSource\"},{\"attributes\":{},\"id\":\"1471\",\"type\":\"UnionRenderers\"},{\"attributes\":{\"data_source\":{\"id\":\"1332\",\"type\":\"ColumnDataSource\"},\"glyph\":{\"id\":\"1333\",\"type\":\"Line\"},\"hover_glyph\":null,\"muted_glyph\":null,\"nonselection_glyph\":{\"id\":\"1334\",\"type\":\"Line\"},\"selection_glyph\":null,\"view\":{\"id\":\"1336\",\"type\":\"CDSView\"}},\"id\":\"1335\",\"type\":\"GlyphRenderer\"},{\"attributes\":{\"source\":{\"id\":\"1292\",\"type\":\"ColumnDataSource\"}},\"id\":\"1296\",\"type\":\"CDSView\"},{\"attributes\":{\"line_color\":\"#ff018c\",\"line_width\":2,\"x\":{\"field\":\"x\"},\"y\":{\"field\":\"y\"}},\"id\":\"1383\",\"type\":\"Line\"},{\"attributes\":{},\"id\":\"1170\",\"type\":\"LinearScale\"},{\"attributes\":{\"active_drag\":\"auto\",\"active_inspect\":\"auto\",\"active_multi\":null,\"active_scroll\":\"auto\",\"active_tap\":\"auto\",\"tools\":[{\"id\":\"1184\",\"type\":\"PanTool\"},{\"id\":\"1185\",\"type\":\"WheelZoomTool\"},{\"id\":\"1186\",\"type\":\"BoxZoomTool\"},{\"id\":\"1187\",\"type\":\"SaveTool\"},{\"id\":\"1188\",\"type\":\"ResetTool\"},{\"id\":\"1189\",\"type\":\"HelpTool\"}]},\"id\":\"1190\",\"type\":\"Toolbar\"},{\"attributes\":{\"data_source\":{\"id\":\"1212\",\"type\":\"ColumnDataSource\"},\"glyph\":{\"id\":\"1213\",\"type\":\"Line\"},\"hover_glyph\":null,\"muted_glyph\":null,\"nonselection_glyph\":{\"id\":\"1214\",\"type\":\"Line\"},\"selection_glyph\":null,\"view\":{\"id\":\"1216\",\"type\":\"CDSView\"}},\"id\":\"1215\",\"type\":\"GlyphRenderer\"},{\"attributes\":{\"axis_label\":\"Concentration (mM)\",\"formatter\":{\"id\":\"1402\",\"type\":\"BasicTickFormatter\"},\"ticker\":{\"id\":\"1180\",\"type\":\"BasicTicker\"}},\"id\":\"1179\",\"type\":\"LinearAxis\"},{\"attributes\":{\"line_color\":\"#798cff\",\"line_width\":2,\"x\":{\"field\":\"x\"},\"y\":{\"field\":\"y\"}},\"id\":\"1358\",\"type\":\"Line\"},{\"attributes\":{\"line_alpha\":0.1,\"line_color\":\"#1f77b4\",\"line_width\":2,\"x\":{\"field\":\"x\"},\"y\":{\"field\":\"y\"}},\"id\":\"1379\",\"type\":\"Line\"},{\"attributes\":{\"axis_label\":\"Time (hrs)\",\"formatter\":{\"id\":\"1400\",\"type\":\"BasicTickFormatter\"},\"ticker\":{\"id\":\"1175\",\"type\":\"BasicTicker\"}},\"id\":\"1174\",\"type\":\"LinearAxis\"},{\"attributes\":{\"line_alpha\":0.1,\"line_color\":\"#1f77b4\",\"line_width\":2,\"x\":{\"field\":\"x\"},\"y\":{\"field\":\"y\"}},\"id\":\"1319\",\"type\":\"Line\"},{\"attributes\":{\"callback\":null,\"data\":{\"x\":{\"__ndarray__\":\"AAAAAAAAAAB2gynyWTfwP3aDKfJZNwBAMUU+6wZTCEB2gynyWTcQQFTks24wRRRAMUU+6wZTGEAOpshn3WAcQHaDKfJZNyBA5bNuMEU+IkBU5LNuMEUkQMIU+awbTCZAMUU+6wZTKECgdYMp8lkqQA6myGfdYCxAfdYNpshnLkB2gynyWTcwQK0bTJHPOjFA5bNuMEU+MkAcTJHPukEzQFTks24wRTRAi3zWDaZINUDCFPmsG0w2QPqsG0yRTzdAMUU+6wZTOEBo3WCKfFY5QKB1gynyWTpA1w2myGddO0AOpshn3WA8QEY+6wZTZD1AfdYNpshnPkC1bjBFPms/QHaDKfJZN0BAks+6wRS5QECtG0yRzzpBQMln3WCKvEFA5bNuMEU+QkAAAAAAAMBCQBxMkc+6QUNAOJgin3XDQ0BU5LNuMEVEQG8wRT7rxkRAi3zWDaZIRUCnyGfdYMpFQMIU+awbTEZA3mCKfNbNRkD6rBtMkU9HQBX5rBtM0UdAMUU+6wZTSEBNkc+6wdRIQGjdYIp8VklAhCnyWTfYSUCgdYMp8llKQLvBFPms20pA1w2myGddS0DzWTeYIt9LQA6myGfdYExAKvJZN5jiTEBGPusGU2RNQGKKfNYN5k1AfdYNpshnTkCZIp91g+lOQLVuMEU+a09A0LrBFPnsT0B2gynyWTdQQIQp8lk3eFBAks+6wRS5UECgdYMp8vlQQK0bTJHPOlFAu8EU+ax7UUDJZ91girxRQNcNpshn/VFA5bNuMEU+UkDzWTeYIn9SQAAAAAAAwFJA\",\"dtype\":\"float64\",\"shape\":[75]},\"y\":{\"__ndarray__\":\"MzMzMzMzwz9LMzMzMzPDP+QyMzMzM8M/1zIzMzMzwz/zMjMzMzPDP/kyMzMzM8M/9TIzMzMzwz8tMzMzMzPDP1gzMzMzM8M/LTMzMzMzwz8mMzMzMzPDPyQzMzMzM8M/KTMzMzMzwz8xMzMzMzPDPxAzMzMzM8M/+DIzMzMzwz/4MjMzMzPDP/gyMzMzM8M/+DIzMzMzwz/4MjMzMzPDP/gyMzMzM8M//zIzMzMzwz/7MjMzMzPDP/syMzMzM8M/+zIzMzMzwz/7MjMzMzPDP/syMzMzM8M/+zIzMzMzwz/7MjMzMzPDP/syMzMzM8M/+zIzMzMzwz/7MjMzMzPDP/syMzMzM8M/+zIzMzMzwz/8MjMzMzPDP/wyMzMzM8M//DIzMzMzwz/8MjMzMzPDP/wyMzMzM8M//DIzMzMzwz/8MjMzMzPDP/wyMzMzM8M//DIzMzMzwz/8MjMzMzPDP/wyMzMzM8M//DIzMzMzwz/8MjMzMzPDP/wyMzMzM8M//DIzMzMzwz/8MjMzMzPDP/wyMzMzM8M//DIzMzMzwz/8MjMzMzPDP/wyMzMzM8M//DIzMzMzwz/8MjMzMzPDP/wyMzMzM8M//DIzMzMzwz/8MjMzMzPDP/wyMzMzM8M//DIzMzMzwz/8MjMzMzPDP/wyMzMzM8M//DIzMzMzwz/8MjMzMzPDP/wyMzMzM8M//DIzMzMzwz/8MjMzMzPDP/wyMzMzM8M//DIzMzMzwz/8MjMzMzPDP/wyMzMzM8M//DIzMzMzwz/8MjMzMzPDP/wyMzMzM8M/\",\"dtype\":\"float64\",\"shape\":[75]}},\"selected\":{\"id\":\"1458\",\"type\":\"Selection\"},\"selection_policy\":{\"id\":\"1459\",\"type\":\"UnionRenderers\"}},\"id\":\"1332\",\"type\":\"ColumnDataSource\"},{\"attributes\":{\"source\":{\"id\":\"1352\",\"type\":\"ColumnDataSource\"}},\"id\":\"1356\",\"type\":\"CDSView\"},{\"attributes\":{\"data_source\":{\"id\":\"1377\",\"type\":\"ColumnDataSource\"},\"glyph\":{\"id\":\"1378\",\"type\":\"Line\"},\"hover_glyph\":null,\"muted_glyph\":null,\"nonselection_glyph\":{\"id\":\"1379\",\"type\":\"Line\"},\"selection_glyph\":null,\"view\":{\"id\":\"1381\",\"type\":\"CDSView\"}},\"id\":\"1380\",\"type\":\"GlyphRenderer\"},{\"attributes\":{\"callback\":null,\"data\":{\"x\":{\"__ndarray__\":\"AAAAAAAAAAB2gynyWTfwP3aDKfJZNwBAMUU+6wZTCEB2gynyWTcQQFTks24wRRRAMUU+6wZTGEAOpshn3WAcQHaDKfJZNyBA5bNuMEU+IkBU5LNuMEUkQMIU+awbTCZAMUU+6wZTKECgdYMp8lkqQA6myGfdYCxAfdYNpshnLkB2gynyWTcwQK0bTJHPOjFA5bNuMEU+MkAcTJHPukEzQFTks24wRTRAi3zWDaZINUDCFPmsG0w2QPqsG0yRTzdAMUU+6wZTOEBo3WCKfFY5QKB1gynyWTpA1w2myGddO0AOpshn3WA8QEY+6wZTZD1AfdYNpshnPkC1bjBFPms/QHaDKfJZN0BAks+6wRS5QECtG0yRzzpBQMln3WCKvEFA5bNuMEU+QkAAAAAAAMBCQBxMkc+6QUNAOJgin3XDQ0BU5LNuMEVEQG8wRT7rxkRAi3zWDaZIRUCnyGfdYMpFQMIU+awbTEZA3mCKfNbNRkD6rBtMkU9HQBX5rBtM0UdAMUU+6wZTSEBNkc+6wdRIQGjdYIp8VklAhCnyWTfYSUCgdYMp8llKQLvBFPms20pA1w2myGddS0DzWTeYIt9LQA6myGfdYExAKvJZN5jiTEBGPusGU2RNQGKKfNYN5k1AfdYNpshnTkCZIp91g+lOQLVuMEU+a09A0LrBFPnsT0B2gynyWTdQQIQp8lk3eFBAks+6wRS5UECgdYMp8vlQQK0bTJHPOlFAu8EU+ax7UUDJZ91girxRQNcNpshn/VFA5bNuMEU+UkDzWTeYIn9SQAAAAAAAwFJA\",\"dtype\":\"float64\",\"shape\":[75]},\"y\":{\"__ndarray__\":\"AAAAAAAAAABBORUefsk6QCHk/OqmJ9w/HjhKHj+ywT+vzNpjVqjAP8nRduN/eMI/7YvXmtKpxj/cdNqmtY/PPxCKqsvGfts/R9UsYsEo8j+F8G3ceP8JQB37oHP83BdALnluBEQVIUAwcOpJ7LQlQBQp2QFeySlA4RVcwV9cLUDERWRy0z0wQE2jKyO1mjFAeNjDqn/LMkD4qYtdKtYzQP82TW3qvzRAWa7dGTyNNUBk1xOc9UE2QKNrstRc4TZAxb5zRTxuN0CqwUIA9uo3QAP4yg+UWThAclt4Z9a7OEA7lBuTPhM5QNlciHcZYTlA/sgOa4emOUC0fPfzguQ5QMJv+mLmGzpAMgavgXBNOkDEQJZ7yHk6QMiNzyiBoTpAofBy0RvFOkD5klyFCuU6QKWGmRqyATtA3HYi3msbO0BomocGhzI7QCgg+vNJRztAGigsQvNZO0ATLn21umo7QNRbVQnSeTtAcuOIomWHO0CkpHUsnZM7QEBWjyCcnjtA+L37PoKoO0AsXEL3a7E7QCvKbMVyuTtA1a6hg63AO0BAMveyMMc7QOmTJLoOzTtAnmaOIFjSO0C+HWW+G9c7QGi7Wutm2ztAkCzopUXfO0CfxcG2wuI7QEJhF9Hn5TtA8k+sr73oO0Bl660sTOs7QOaqVFma7TtAy5+Mkq7vO0Aq8P2SjvE7QLn+IoM/8ztADo0pCMb0O0BjQjlRJvY7QJUMNiNk9ztAjRhf44L4O0Ammtmghfk7QNePTx1v+jtANcui1EH7O0D7RtsDAPw7QGduZ6+r/DtA\",\"dtype\":\"float64\",\"shape\":[75]}},\"selected\":{\"id\":\"1412\",\"type\":\"Selection\"},\"selection_policy\":{\"id\":\"1413\",\"type\":\"UnionRenderers\"}},\"id\":\"1217\",\"type\":\"ColumnDataSource\"},{\"attributes\":{\"line_alpha\":0.1,\"line_color\":\"#1f77b4\",\"line_width\":2,\"x\":{\"field\":\"x\"},\"y\":{\"field\":\"y\"}},\"id\":\"1224\",\"type\":\"Line\"},{\"attributes\":{\"line_alpha\":0.1,\"line_color\":\"#1f77b4\",\"line_width\":2,\"x\":{\"field\":\"x\"},\"y\":{\"field\":\"y\"}},\"id\":\"1334\",\"type\":\"Line\"},{\"attributes\":{},\"id\":\"1172\",\"type\":\"LinearScale\"},{\"attributes\":{},\"id\":\"1175\",\"type\":\"BasicTicker\"},{\"attributes\":{\"source\":{\"id\":\"1217\",\"type\":\"ColumnDataSource\"}},\"id\":\"1221\",\"type\":\"CDSView\"},{\"attributes\":{\"ticker\":{\"id\":\"1175\",\"type\":\"BasicTicker\"}},\"id\":\"1178\",\"type\":\"Grid\"},{\"attributes\":{\"source\":{\"id\":\"1317\",\"type\":\"ColumnDataSource\"}},\"id\":\"1321\",\"type\":\"CDSView\"},{\"attributes\":{\"source\":{\"id\":\"1377\",\"type\":\"ColumnDataSource\"}},\"id\":\"1381\",\"type\":\"CDSView\"},{\"attributes\":{\"line_color\":\"#16bdcf\",\"line_width\":2,\"x\":{\"field\":\"x\"},\"y\":{\"field\":\"y\"}},\"id\":\"1243\",\"type\":\"Line\"},{\"attributes\":{\"line_alpha\":0.1,\"line_color\":\"#1f77b4\",\"line_width\":2,\"x\":{\"field\":\"x\"},\"y\":{\"field\":\"y\"}},\"id\":\"1359\",\"type\":\"Line\"},{\"attributes\":{\"callback\":null,\"data\":{\"x\":{\"__ndarray__\":\"AAAAAAAAAAB2gynyWTfwP3aDKfJZNwBAMUU+6wZTCEB2gynyWTcQQFTks24wRRRAMUU+6wZTGEAOpshn3WAcQHaDKfJZNyBA5bNuMEU+IkBU5LNuMEUkQMIU+awbTCZAMUU+6wZTKECgdYMp8lkqQA6myGfdYCxAfdYNpshnLkB2gynyWTcwQK0bTJHPOjFA5bNuMEU+MkAcTJHPukEzQFTks24wRTRAi3zWDaZINUDCFPmsG0w2QPqsG0yRTzdAMUU+6wZTOEBo3WCKfFY5QKB1gynyWTpA1w2myGddO0AOpshn3WA8QEY+6wZTZD1AfdYNpshnPkC1bjBFPms/QHaDKfJZN0BAks+6wRS5QECtG0yRzzpBQMln3WCKvEFA5bNuMEU+QkAAAAAAAMBCQBxMkc+6QUNAOJgin3XDQ0BU5LNuMEVEQG8wRT7rxkRAi3zWDaZIRUCnyGfdYMpFQMIU+awbTEZA3mCKfNbNRkD6rBtMkU9HQBX5rBtM0UdAMUU+6wZTSEBNkc+6wdRIQGjdYIp8VklAhCnyWTfYSUCgdYMp8llKQLvBFPms20pA1w2myGddS0DzWTeYIt9LQA6myGfdYExAKvJZN5jiTEBGPusGU2RNQGKKfNYN5k1AfdYNpshnTkCZIp91g+lOQLVuMEU+a09A0LrBFPnsT0B2gynyWTdQQIQp8lk3eFBAks+6wRS5UECgdYMp8vlQQK0bTJHPOlFAu8EU+ax7UUDJZ91girxRQNcNpshn/VFA5bNuMEU+UkDzWTeYIn9SQAAAAAAAwFJA\",\"dtype\":\"float64\",\"shape\":[75]},\"y\":{\"__ndarray__\":\"AAAAAAAAAABZ2PT4NT+nPz/QJxCT4s4/AoYUrFPivz/PH/31OPWqPxuw5BVSaqU/xqXV3y9YqT8nLHc+fMWwPzvD1XuFybc/Xmuh3BLgwT/bnYwPHZDHPxLTl2kQPMY/ku/TNoH6wD9wUGQsb5O4P18Z/2MURLI/suOV2DSArD+ZkPs4+D2nP8Q9JYGYnKM/x4F729r4oD8PsV9yqO+dP1PISGaCyZo/zifuUcM+mD8tEIwz/CWWP6SVDAdcY5Q/8hu9sYLjkj9Qy1UHg5iRP2U4XNcVeJA/xBJJ+fH0jj/UEzMOaDONP+biipc1oos/1lH8s+45ij9xLzTbmvSIP+HTqwJezYc/aue4JDnAhj9PbO4a28mFPwKoxBJ954Q/SM9acMcWhD9mWAXVvFWDPy9OTbupooI/4mFbhRf8gT/CNBcvwmCBP0G3iQ2Qz4A/AT6MFYtHgD+QcHHLto9/PyX0fJOFn34/62J/CDK9fT8Yg25zked8Px0H3bmZHXw/dPSfB11eez9pGEkmBql6P5VyFWHV/Hk/j/SW4B1ZeT8w0zpnQ714P8jWTV64KHg/lEkDKfyadz/hxsWtmRN3P2CaBhcmknY/hYMftz8Wdj+0sVIVjZ91P5NdsxO8LXU/wkjtK4HAdD9Gk4TTlld0P9tfT+O88nM/t9qhEbiRcz/yFAd/UTRzP05Ek1FW2nI/lZKYV5eDcj8o+bKz6C9yP2gnSpMh33E/wEan7BuRcT/O/z9DtEVxP4sSYnHJ/HA/xiTgdzy2cD8WMVFS8HFwP0ctHM/JL3A/\",\"dtype\":\"float64\",\"shape\":[75]}},\"selected\":{\"id\":\"1468\",\"type\":\"Selection\"},\"selection_policy\":{\"id\":\"1469\",\"type\":\"UnionRenderers\"}},\"id\":\"1357\",\"type\":\"ColumnDataSource\"},{\"attributes\":{\"callback\":null,\"data\":{\"x\":{\"__ndarray__\":\"AAAAAAAAAAB2gynyWTfwP3aDKfJZNwBAMUU+6wZTCEB2gynyWTcQQFTks24wRRRAMUU+6wZTGEAOpshn3WAcQHaDKfJZNyBA5bNuMEU+IkBU5LNuMEUkQMIU+awbTCZAMUU+6wZTKECgdYMp8lkqQA6myGfdYCxAfdYNpshnLkB2gynyWTcwQK0bTJHPOjFA5bNuMEU+MkAcTJHPukEzQFTks24wRTRAi3zWDaZINUDCFPmsG0w2QPqsG0yRTzdAMUU+6wZTOEBo3WCKfFY5QKB1gynyWTpA1w2myGddO0AOpshn3WA8QEY+6wZTZD1AfdYNpshnPkC1bjBFPms/QHaDKfJZN0BAks+6wRS5QECtG0yRzzpBQMln3WCKvEFA5bNuMEU+QkAAAAAAAMBCQBxMkc+6QUNAOJgin3XDQ0BU5LNuMEVEQG8wRT7rxkRAi3zWDaZIRUCnyGfdYMpFQMIU+awbTEZA3mCKfNbNRkD6rBtMkU9HQBX5rBtM0UdAMUU+6wZTSEBNkc+6wdRIQGjdYIp8VklAhCnyWTfYSUCgdYMp8llKQLvBFPms20pA1w2myGddS0DzWTeYIt9LQA6myGfdYExAKvJZN5jiTEBGPusGU2RNQGKKfNYN5k1AfdYNpshnTkCZIp91g+lOQLVuMEU+a09A0LrBFPnsT0B2gynyWTdQQIQp8lk3eFBAks+6wRS5UECgdYMp8vlQQK0bTJHPOlFAu8EU+ax7UUDJZ91girxRQNcNpshn/VFA5bNuMEU+UkDzWTeYIn9SQAAAAAAAwFJA\",\"dtype\":\"float64\",\"shape\":[75]},\"y\":{\"__ndarray__\":\"AAAAAAAAAABid6lM/nr9P+UmWj1pOM8/eowdsxYZzj+1XF9wmSXOP7Fib3EeQc4/JRp9IlVvzj8FspX848fOP2JKvlt3p88/MiyaLjqH0T8C6bGMPWvXP04zNpwdS+A/UBBP1L9N5T/J4UbtAzzqP6RvDCP31O4/GDowVCd98T/pEnjtxFHzP8nbpjth6vQ/uT0u2ypM9j89eODne333PwPK/BHChPg/ReUOvPRn+T8m1P2vXSz6P/jNuBSO1vo/tem212hq+z9Sx9v0Nev7P7NcJg24W/w/qpT2CkG+/D8PC9GcxBT9P0cymwHoYP0/cLsfbA+k/T/bqln/aN/9P9ICn/X1E/4/xodsEJJC/j91/aHG+Wv+P1ImN0LPkP4/HQ26k56x/j8lNVIZ4c7+P5mtTkIA6f4/s2c0AlgA/z+7r+C9OBX/PymBJ+LoJ/8/Y6unT6Y4/z+vJ6qJp0f/P0jLj6IcVf8/OBHNHzBh/z/d1dqjB2z/P82vOJbEdf8///3Mn4R+/z+T3gYnYob/P2ZBG610jf8/BEbPJdGT/z834jdGipn/P5wF0cywnv8/t7FUn1Oj/z/JF9oogKf/P696yGBCq/8/LjZzA6Wu/z+NjdewsbH/P0ahjQtxtP8/Qs9c1Oq2/z+g4scAJrn/P45MNNEou/8/poIF5Pi8/z8McUtGm77/P0a1k4IUwP8/XCl8rmjB/z9PzsF2m8L/P61p7Cmww/8/84riwanE/z97KnvsisX/P5BzOBNWxv8/c/QoYg3H/z9hohPOssf/PwetBhpIyP8/\",\"dtype\":\"float64\",\"shape\":[75]}},\"selected\":{\"id\":\"1478\",\"type\":\"Selection\"},\"selection_policy\":{\"id\":\"1479\",\"type\":\"UnionRenderers\"}},\"id\":\"1382\",\"type\":\"ColumnDataSource\"},{\"attributes\":{\"line_alpha\":0.1,\"line_color\":\"#1f77b4\",\"line_width\":2,\"x\":{\"field\":\"x\"},\"y\":{\"field\":\"y\"}},\"id\":\"1384\",\"type\":\"Line\"},{\"attributes\":{},\"id\":\"1180\",\"type\":\"BasicTicker\"},{\"attributes\":{\"line_alpha\":0.1,\"line_color\":\"#1f77b4\",\"line_width\":2,\"x\":{\"field\":\"x\"},\"y\":{\"field\":\"y\"}},\"id\":\"1219\",\"type\":\"Line\"},{\"attributes\":{\"source\":{\"id\":\"1322\",\"type\":\"ColumnDataSource\"}},\"id\":\"1326\",\"type\":\"CDSView\"},{\"attributes\":{\"data_source\":{\"id\":\"1207\",\"type\":\"ColumnDataSource\"},\"glyph\":{\"id\":\"1208\",\"type\":\"Line\"},\"hover_glyph\":null,\"muted_glyph\":null,\"nonselection_glyph\":{\"id\":\"1209\",\"type\":\"Line\"},\"selection_glyph\":null,\"view\":{\"id\":\"1211\",\"type\":\"CDSView\"}},\"id\":\"1210\",\"type\":\"GlyphRenderer\"},{\"attributes\":{\"dimension\":1,\"ticker\":{\"id\":\"1180\",\"type\":\"BasicTicker\"}},\"id\":\"1183\",\"type\":\"Grid\"},{\"attributes\":{\"data_source\":{\"id\":\"1352\",\"type\":\"ColumnDataSource\"},\"glyph\":{\"id\":\"1353\",\"type\":\"Line\"},\"hover_glyph\":null,\"muted_glyph\":null,\"nonselection_glyph\":{\"id\":\"1354\",\"type\":\"Line\"},\"selection_glyph\":null,\"view\":{\"id\":\"1356\",\"type\":\"CDSView\"}},\"id\":\"1355\",\"type\":\"GlyphRenderer\"},{\"attributes\":{\"data_source\":{\"id\":\"1382\",\"type\":\"ColumnDataSource\"},\"glyph\":{\"id\":\"1383\",\"type\":\"Line\"},\"hover_glyph\":null,\"muted_glyph\":null,\"nonselection_glyph\":{\"id\":\"1384\",\"type\":\"Line\"},\"selection_glyph\":null,\"view\":{\"id\":\"1386\",\"type\":\"CDSView\"}},\"id\":\"1385\",\"type\":\"GlyphRenderer\"},{\"attributes\":{\"data_source\":{\"id\":\"1357\",\"type\":\"ColumnDataSource\"},\"glyph\":{\"id\":\"1358\",\"type\":\"Line\"},\"hover_glyph\":null,\"muted_glyph\":null,\"nonselection_glyph\":{\"id\":\"1359\",\"type\":\"Line\"},\"selection_glyph\":null,\"view\":{\"id\":\"1361\",\"type\":\"CDSView\"}},\"id\":\"1360\",\"type\":\"GlyphRenderer\"},{\"attributes\":{\"line_color\":\"#9367bc\",\"line_width\":2,\"x\":{\"field\":\"x\"},\"y\":{\"field\":\"y\"}},\"id\":\"1218\",\"type\":\"Line\"},{\"attributes\":{\"source\":{\"id\":\"1212\",\"type\":\"ColumnDataSource\"}},\"id\":\"1216\",\"type\":\"CDSView\"},{\"attributes\":{\"source\":{\"id\":\"1237\",\"type\":\"ColumnDataSource\"}},\"id\":\"1241\",\"type\":\"CDSView\"},{\"attributes\":{\"callback\":null,\"data\":{\"x\":{\"__ndarray__\":\"AAAAAAAAAAB2gynyWTfwP3aDKfJZNwBAMUU+6wZTCEB2gynyWTcQQFTks24wRRRAMUU+6wZTGEAOpshn3WAcQHaDKfJZNyBA5bNuMEU+IkBU5LNuMEUkQMIU+awbTCZAMUU+6wZTKECgdYMp8lkqQA6myGfdYCxAfdYNpshnLkB2gynyWTcwQK0bTJHPOjFA5bNuMEU+MkAcTJHPukEzQFTks24wRTRAi3zWDaZINUDCFPmsG0w2QPqsG0yRTzdAMUU+6wZTOEBo3WCKfFY5QKB1gynyWTpA1w2myGddO0AOpshn3WA8QEY+6wZTZD1AfdYNpshnPkC1bjBFPms/QHaDKfJZN0BAks+6wRS5QECtG0yRzzpBQMln3WCKvEFA5bNuMEU+QkAAAAAAAMBCQBxMkc+6QUNAOJgin3XDQ0BU5LNuMEVEQG8wRT7rxkRAi3zWDaZIRUCnyGfdYMpFQMIU+awbTEZA3mCKfNbNRkD6rBtMkU9HQBX5rBtM0UdAMUU+6wZTSEBNkc+6wdRIQGjdYIp8VklAhCnyWTfYSUCgdYMp8llKQLvBFPms20pA1w2myGddS0DzWTeYIt9LQA6myGfdYExAKvJZN5jiTEBGPusGU2RNQGKKfNYN5k1AfdYNpshnTkCZIp91g+lOQLVuMEU+a09A0LrBFPnsT0B2gynyWTdQQIQp8lk3eFBAks+6wRS5UECgdYMp8vlQQK0bTJHPOlFAu8EU+ax7UUDJZ91girxRQNcNpshn/VFA5bNuMEU+UkDzWTeYIn9SQAAAAAAAwFJA\",\"dtype\":\"float64\",\"shape\":[75]},\"y\":{\"__ndarray__\":\"MzMzMzMzwz8zMzMzMzPDP7YyMzMzM8M/SjMzMzMzwz9MMzMzMzPDP04zMzMzM8M/TjMzMzMzwz9IMzMzMzPDP4EzMzMzM8M/jTMzMzMzwz8+MzMzMzPDPxEzMzMzM8M/oDEzMzMzwz+gMTMzMzPDP6AxMzMzM8M/oDEzMzMzwz+gMTMzMzPDP6AxMzMzM8M/oDEzMzMzwz+gMTMzMzPDP6AxMzMzM8M/oDEzMzMzwz+gMTMzMzPDP6AxMzMzM8M/oDEzMzMzwz+gMTMzMzPDP6AxMzMzM8M/oDEzMzMzwz+gMTMzMzPDP6AxMzMzM8M/oDEzMzMzwz+gMTMzMzPDP6AxMzMzM8M/oDEzMzMzwz+gMTMzMzPDP6AxMzMzM8M/oDEzMzMzwz+gMTMzMzPDP6AxMzMzM8M/oDEzMzMzwz+gMTMzMzPDP6AxMzMzM8M/oDEzMzMzwz+gMTMzMzPDP6AxMzMzM8M/oDEzMzMzwz+gMTMzMzPDP6AxMzMzM8M/oDEzMzMzwz+gMTMzMzPDP6AxMzMzM8M/oDEzMzMzwz+gMTMzMzPDP6AxMzMzM8M/oDEzMzMzwz+gMTMzMzPDP6AxMzMzM8M/oDEzMzMzwz+gMTMzMzPDP6AxMzMzM8M/oDEzMzMzwz+gMTMzMzPDP6AxMzMzM8M/oDEzMzMzwz+gMTMzMzPDP6AxMzMzM8M/oDEzMzMzwz+gMTMzMzPDP6AxMzMzM8M/oDEzMzMzwz+gMTMzMzPDP6AxMzMzM8M/oDEzMzMzwz+gMTMzMzPDP6AxMzMzM8M/\",\"dtype\":\"float64\",\"shape\":[75]}},\"selected\":{\"id\":\"1440\",\"type\":\"Selection\"},\"selection_policy\":{\"id\":\"1441\",\"type\":\"UnionRenderers\"}},\"id\":\"1287\",\"type\":\"ColumnDataSource\"},{\"attributes\":{\"source\":{\"id\":\"1382\",\"type\":\"ColumnDataSource\"}},\"id\":\"1386\",\"type\":\"CDSView\"},{\"attributes\":{},\"id\":\"1470\",\"type\":\"Selection\"},{\"attributes\":{\"line_alpha\":0.1,\"line_color\":\"#1f77b4\",\"line_width\":2,\"x\":{\"field\":\"x\"},\"y\":{\"field\":\"y\"}},\"id\":\"1289\",\"type\":\"Line\"},{\"attributes\":{\"data_source\":{\"id\":\"1242\",\"type\":\"ColumnDataSource\"},\"glyph\":{\"id\":\"1243\",\"type\":\"Line\"},\"hover_glyph\":null,\"muted_glyph\":null,\"nonselection_glyph\":{\"id\":\"1244\",\"type\":\"Line\"},\"selection_glyph\":null,\"view\":{\"id\":\"1246\",\"type\":\"CDSView\"}},\"id\":\"1245\",\"type\":\"GlyphRenderer\"},{\"attributes\":{},\"id\":\"1400\",\"type\":\"BasicTickFormatter\"},{\"attributes\":{},\"id\":\"1435\",\"type\":\"UnionRenderers\"},{\"attributes\":{\"data_source\":{\"id\":\"1297\",\"type\":\"ColumnDataSource\"},\"glyph\":{\"id\":\"1298\",\"type\":\"Line\"},\"hover_glyph\":null,\"muted_glyph\":null,\"nonselection_glyph\":{\"id\":\"1299\",\"type\":\"Line\"},\"selection_glyph\":null,\"view\":{\"id\":\"1301\",\"type\":\"CDSView\"}},\"id\":\"1300\",\"type\":\"GlyphRenderer\"},{\"attributes\":{\"line_color\":\"#1f77b3\",\"line_width\":2,\"x\":{\"field\":\"x\"},\"y\":{\"field\":\"y\"}},\"id\":\"1198\",\"type\":\"Line\"},{\"attributes\":{\"line_color\":\"#5b3400\",\"line_width\":2,\"x\":{\"field\":\"x\"},\"y\":{\"field\":\"y\"}},\"id\":\"1343\",\"type\":\"Line\"},{\"attributes\":{\"line_color\":\"#d62628\",\"line_width\":2,\"x\":{\"field\":\"x\"},\"y\":{\"field\":\"y\"}},\"id\":\"1213\",\"type\":\"Line\"},{\"attributes\":{},\"id\":\"1402\",\"type\":\"BasicTickFormatter\"},{\"attributes\":{\"data_source\":{\"id\":\"1247\",\"type\":\"ColumnDataSource\"},\"glyph\":{\"id\":\"1248\",\"type\":\"Line\"},\"hover_glyph\":null,\"muted_glyph\":null,\"nonselection_glyph\":{\"id\":\"1249\",\"type\":\"Line\"},\"selection_glyph\":null,\"view\":{\"id\":\"1251\",\"type\":\"CDSView\"}},\"id\":\"1250\",\"type\":\"GlyphRenderer\"},{\"attributes\":{\"callback\":null,\"data\":{\"x\":{\"__ndarray__\":\"AAAAAAAAAAB2gynyWTfwP3aDKfJZNwBAMUU+6wZTCEB2gynyWTcQQFTks24wRRRAMUU+6wZTGEAOpshn3WAcQHaDKfJZNyBA5bNuMEU+IkBU5LNuMEUkQMIU+awbTCZAMUU+6wZTKECgdYMp8lkqQA6myGfdYCxAfdYNpshnLkB2gynyWTcwQK0bTJHPOjFA5bNuMEU+MkAcTJHPukEzQFTks24wRTRAi3zWDaZINUDCFPmsG0w2QPqsG0yRTzdAMUU+6wZTOEBo3WCKfFY5QKB1gynyWTpA1w2myGddO0AOpshn3WA8QEY+6wZTZD1AfdYNpshnPkC1bjBFPms/QHaDKfJZN0BAks+6wRS5QECtG0yRzzpBQMln3WCKvEFA5bNuMEU+QkAAAAAAAMBCQBxMkc+6QUNAOJgin3XDQ0BU5LNuMEVEQG8wRT7rxkRAi3zWDaZIRUCnyGfdYMpFQMIU+awbTEZA3mCKfNbNRkD6rBtMkU9HQBX5rBtM0UdAMUU+6wZTSEBNkc+6wdRIQGjdYIp8VklAhCnyWTfYSUCgdYMp8llKQLvBFPms20pA1w2myGddS0DzWTeYIt9LQA6myGfdYExAKvJZN5jiTEBGPusGU2RNQGKKfNYN5k1AfdYNpshnTkCZIp91g+lOQLVuMEU+a09A0LrBFPnsT0B2gynyWTdQQIQp8lk3eFBAks+6wRS5UECgdYMp8vlQQK0bTJHPOlFAu8EU+ax7UUDJZ91girxRQNcNpshn/VFA5bNuMEU+UkDzWTeYIn9SQAAAAAAAwFJA\",\"dtype\":\"float64\",\"shape\":[75]},\"y\":{\"__ndarray__\":\"MzMzMzMzwz9EMzMzMzPDP5hIMzMzM8M/7j0zMzMzwz/7PjMzMzPDP8Q+MzMzM8M/lT4zMzMzwz8gQDMzMzPDP6lAMzMzM8M/czszMzMzwz8AOzMzMzPDP8s6MzMzM8M/YjszMzMzwz9ROzMzMzPDP/k6MzMzM8M/wzozMzMzwz/DOjMzMzPDP8M6MzMzM8M/wzozMzMzwz/DOjMzMzPDP8M6MzMzM8M/wDozMzMzwz/DOjMzMzPDP8M6MzMzM8M/xDozMzMzwz/EOjMzMzPDP8Q6MzMzM8M/xDozMzMzwz/EOjMzMzPDP8Q6MzMzM8M/xDozMzMzwz/EOjMzMzPDP8Q6MzMzM8M/xDozMzMzwz/EOjMzMzPDP8Q6MzMzM8M/xDozMzMzwz/EOjMzMzPDP8Q6MzMzM8M/xDozMzMzwz/EOjMzMzPDP8Q6MzMzM8M/xDozMzMzwz/EOjMzMzPDP8Q6MzMzM8M/xDozMzMzwz/EOjMzMzPDP8Q6MzMzM8M/xDozMzMzwz/EOjMzMzPDP8Q6MzMzM8M/xDozMzMzwz/EOjMzMzPDP8Q6MzMzM8M/xDozMzMzwz/EOjMzMzPDP8Q6MzMzM8M/xDozMzMzwz/EOjMzMzPDP8Q6MzMzM8M/xDozMzMzwz/EOjMzMzPDP8Q6MzMzM8M/xDozMzMzwz/EOjMzMzPDP8Q6MzMzM8M/xDozMzMzwz/EOjMzMzPDP8Q6MzMzM8M/xDozMzMzwz/EOjMzMzPDP8Q6MzMzM8M/xDozMzMzwz/EOjMzMzPDP8Q6MzMzM8M/\",\"dtype\":\"float64\",\"shape\":[75]}},\"selected\":{\"id\":\"1450\",\"type\":\"Selection\"},\"selection_policy\":{\"id\":\"1451\",\"type\":\"UnionRenderers\"}},\"id\":\"1312\",\"type\":\"ColumnDataSource\"},{\"attributes\":{},\"id\":\"1404\",\"type\":\"Selection\"},{\"attributes\":{},\"id\":\"1436\",\"type\":\"Selection\"},{\"attributes\":{\"line_alpha\":0.1,\"line_color\":\"#1f77b4\",\"line_width\":2,\"x\":{\"field\":\"x\"},\"y\":{\"field\":\"y\"}},\"id\":\"1284\",\"type\":\"Line\"},{\"attributes\":{},\"id\":\"1405\",\"type\":\"UnionRenderers\"},{\"attributes\":{\"line_alpha\":0.1,\"line_color\":\"#1f77b4\",\"line_width\":2,\"x\":{\"field\":\"x\"},\"y\":{\"field\":\"y\"}},\"id\":\"1249\",\"type\":\"Line\"},{\"attributes\":{\"source\":{\"id\":\"1297\",\"type\":\"ColumnDataSource\"}},\"id\":\"1301\",\"type\":\"CDSView\"},{\"attributes\":{},\"id\":\"1437\",\"type\":\"UnionRenderers\"},{\"attributes\":{\"callback\":null,\"data\":{\"x\":{\"__ndarray__\":\"AAAAAAAAAAB2gynyWTfwP3aDKfJZNwBAMUU+6wZTCEB2gynyWTcQQFTks24wRRRAMUU+6wZTGEAOpshn3WAcQHaDKfJZNyBA5bNuMEU+IkBU5LNuMEUkQMIU+awbTCZAMUU+6wZTKECgdYMp8lkqQA6myGfdYCxAfdYNpshnLkB2gynyWTcwQK0bTJHPOjFA5bNuMEU+MkAcTJHPukEzQFTks24wRTRAi3zWDaZINUDCFPmsG0w2QPqsG0yRTzdAMUU+6wZTOEBo3WCKfFY5QKB1gynyWTpA1w2myGddO0AOpshn3WA8QEY+6wZTZD1AfdYNpshnPkC1bjBFPms/QHaDKfJZN0BAks+6wRS5QECtG0yRzzpBQMln3WCKvEFA5bNuMEU+QkAAAAAAAMBCQBxMkc+6QUNAOJgin3XDQ0BU5LNuMEVEQG8wRT7rxkRAi3zWDaZIRUCnyGfdYMpFQMIU+awbTEZA3mCKfNbNRkD6rBtMkU9HQBX5rBtM0UdAMUU+6wZTSEBNkc+6wdRIQGjdYIp8VklAhCnyWTfYSUCgdYMp8llKQLvBFPms20pA1w2myGddS0DzWTeYIt9LQA6myGfdYExAKvJZN5jiTEBGPusGU2RNQGKKfNYN5k1AfdYNpshnTkCZIp91g+lOQLVuMEU+a09A0LrBFPnsT0B2gynyWTdQQIQp8lk3eFBAks+6wRS5UECgdYMp8vlQQK0bTJHPOlFAu8EU+ax7UUDJZ91girxRQNcNpshn/VFA5bNuMEU+UkDzWTeYIn9SQAAAAAAAwFJA\",\"dtype\":\"float64\",\"shape\":[75]},\"y\":{\"__ndarray__\":\"MzMzMzMzwz/FMjMzMzPDP2o3MzMzM8M/TTgzMzMzwz8AODMzMzPDP/86MzMzM8M/JTszMzMzwz92OzMzMzPDP6M7MzMzM8M/oTszMzMzwz+hOzMzMzPDP6E7MzMzM8M/oTszMzMzwz+hOzMzMzPDP6E7MzMzM8M/oTszMzMzwz+hOzMzMzPDP6E7MzMzM8M/oTszMzMzwz+hOzMzMzPDP6E7MzMzM8M/oTszMzMzwz+hOzMzMzPDP6E7MzMzM8M/oTszMzMzwz+hOzMzMzPDP6E7MzMzM8M/oTszMzMzwz+hOzMzMzPDP6E7MzMzM8M/oTszMzMzwz+hOzMzMzPDP6E7MzMzM8M/oTszMzMzwz+hOzMzMzPDP6E7MzMzM8M/oTszMzMzwz+hOzMzMzPDP6E7MzMzM8M/oTszMzMzwz+hOzMzMzPDP6E7MzMzM8M/oTszMzMzwz+hOzMzMzPDP6E7MzMzM8M/oTszMzMzwz+hOzMzMzPDP6E7MzMzM8M/oTszMzMzwz+hOzMzMzPDP6E7MzMzM8M/oTszMzMzwz+hOzMzMzPDP6E7MzMzM8M/oTszMzMzwz+hOzMzMzPDP6E7MzMzM8M/oTszMzMzwz+hOzMzMzPDP6E7MzMzM8M/oTszMzMzwz+hOzMzMzPDP6E7MzMzM8M/oTszMzMzwz+hOzMzMzPDP6E7MzMzM8M/oTszMzMzwz+hOzMzMzPDP6E7MzMzM8M/oTszMzMzwz+hOzMzMzPDP6E7MzMzM8M/oTszMzMzwz+hOzMzMzPDP6E7MzMzM8M/\",\"dtype\":\"float64\",\"shape\":[75]}},\"selected\":{\"id\":\"1426\",\"type\":\"Selection\"},\"selection_policy\":{\"id\":\"1427\",\"type\":\"UnionRenderers\"}},\"id\":\"1252\",\"type\":\"ColumnDataSource\"},{\"attributes\":{},\"id\":\"1406\",\"type\":\"Selection\"},{\"attributes\":{\"source\":{\"id\":\"1247\",\"type\":\"ColumnDataSource\"}},\"id\":\"1251\",\"type\":\"CDSView\"},{\"attributes\":{\"source\":{\"id\":\"1267\",\"type\":\"ColumnDataSource\"}},\"id\":\"1271\",\"type\":\"CDSView\"},{\"attributes\":{\"source\":{\"id\":\"1312\",\"type\":\"ColumnDataSource\"}},\"id\":\"1316\",\"type\":\"CDSView\"},{\"attributes\":{},\"id\":\"1438\",\"type\":\"Selection\"},{\"attributes\":{},\"id\":\"1407\",\"type\":\"UnionRenderers\"},{\"attributes\":{},\"id\":\"1439\",\"type\":\"UnionRenderers\"},{\"attributes\":{},\"id\":\"1408\",\"type\":\"Selection\"},{\"attributes\":{\"overlay\":{\"id\":\"1480\",\"type\":\"BoxAnnotation\"}},\"id\":\"1186\",\"type\":\"BoxZoomTool\"},{\"attributes\":{},\"id\":\"1440\",\"type\":\"Selection\"},{\"attributes\":{\"data_source\":{\"id\":\"1252\",\"type\":\"ColumnDataSource\"},\"glyph\":{\"id\":\"1253\",\"type\":\"Line\"},\"hover_glyph\":null,\"muted_glyph\":null,\"nonselection_glyph\":{\"id\":\"1254\",\"type\":\"Line\"},\"selection_glyph\":null,\"view\":{\"id\":\"1256\",\"type\":\"CDSView\"}},\"id\":\"1255\",\"type\":\"GlyphRenderer\"},{\"attributes\":{\"callback\":null,\"data\":{\"x\":{\"__ndarray__\":\"AAAAAAAAAAB2gynyWTfwP3aDKfJZNwBAMUU+6wZTCEB2gynyWTcQQFTks24wRRRAMUU+6wZTGEAOpshn3WAcQHaDKfJZNyBA5bNuMEU+IkBU5LNuMEUkQMIU+awbTCZAMUU+6wZTKECgdYMp8lkqQA6myGfdYCxAfdYNpshnLkB2gynyWTcwQK0bTJHPOjFA5bNuMEU+MkAcTJHPukEzQFTks24wRTRAi3zWDaZINUDCFPmsG0w2QPqsG0yRTzdAMUU+6wZTOEBo3WCKfFY5QKB1gynyWTpA1w2myGddO0AOpshn3WA8QEY+6wZTZD1AfdYNpshnPkC1bjBFPms/QHaDKfJZN0BAks+6wRS5QECtG0yRzzpBQMln3WCKvEFA5bNuMEU+QkAAAAAAAMBCQBxMkc+6QUNAOJgin3XDQ0BU5LNuMEVEQG8wRT7rxkRAi3zWDaZIRUCnyGfdYMpFQMIU+awbTEZA3mCKfNbNRkD6rBtMkU9HQBX5rBtM0UdAMUU+6wZTSEBNkc+6wdRIQGjdYIp8VklAhCnyWTfYSUCgdYMp8llKQLvBFPms20pA1w2myGddS0DzWTeYIt9LQA6myGfdYExAKvJZN5jiTEBGPusGU2RNQGKKfNYN5k1AfdYNpshnTkCZIp91g+lOQLVuMEU+a09A0LrBFPnsT0B2gynyWTdQQIQp8lk3eFBAks+6wRS5UECgdYMp8vlQQK0bTJHPOlFAu8EU+ax7UUDJZ91girxRQNcNpshn/VFA5bNuMEU+UkDzWTeYIn9SQAAAAAAAwFJA\",\"dtype\":\"float64\",\"shape\":[75]},\"y\":{\"__ndarray__\":\"AAAAAAAAAABFiNicaNglQGmF/sDD6zdA8LnMLgpFNEAIWkcKQcMwQE/0tVbvKyxA3u5oVL33JkB3w8tDj6chQJChsyl4rhhARksI7PzODUDBac/imwkAQCfmNWsf5vE/pAFJvZ155j+2xVM0k7nfP35NY5AaX9g/aQw5Tf/L0z8yfOjGJLDQP4W47ly13sw/9gaJNbZyyT/hcAxg+8HGP1FNioPPlcQ/jGIERg3Lwj9uS5xYDUrBP321RVhHAsA/hcMji6LPvT+piVYvt+O7PzU0bAN7M7o/N7SICay0uD9SXm+AQl+3P+q8+LndLLY/EXj7clwYtT895Bc7kh20P4bAOuEQObM/T0Gg3/9nsj8S5YC//aexPzyu4rMI97A/AZUxjGxTsD+cFbkfaXevP6UimLdAXa4/9k/i/DVWrT/veeGyZ2CsP4BkYr4xeqs//OO3tiOiqj9m72Mv+dapP1DCF1mTF6k/lZgLtPNiqD9jAF2jN7inP2V0j7WUFqc/CIh4gFV9pj/Q2xX41uulP9k4LymGYaU/v5gDSt7dpD88xdcPZ2CkPz1Fpj6z6KM/GeXba192oz9jfD3oEAmjP4RSQ9J0oKI/9NLrQT88oj8dhOuSKtyhP3fD1sD2f6E/GRkY1WgnoT92fiVxStKgP6JsmVppgKA/FAiwFpcxoD/gRWYmUcufPzjerbLrOJ8/dkYHjbOrnj/T5saZYyOePxvZfHa7n50/zJt7FH8gnT/mNG1ddqWcPyczYOBsLpw/ubhKhzG7mz8PYIhTlkubP0fjdCBw35o/\",\"dtype\":\"float64\",\"shape\":[75]}},\"selected\":{\"id\":\"1432\",\"type\":\"Selection\"},\"selection_policy\":{\"id\":\"1433\",\"type\":\"UnionRenderers\"}},\"id\":\"1267\",\"type\":\"ColumnDataSource\"},{\"attributes\":{},\"id\":\"1409\",\"type\":\"UnionRenderers\"},{\"attributes\":{},\"id\":\"1185\",\"type\":\"WheelZoomTool\"},{\"attributes\":{},\"id\":\"1441\",\"type\":\"UnionRenderers\"},{\"attributes\":{\"data_source\":{\"id\":\"1262\",\"type\":\"ColumnDataSource\"},\"glyph\":{\"id\":\"1263\",\"type\":\"Line\"},\"hover_glyph\":null,\"muted_glyph\":null,\"nonselection_glyph\":{\"id\":\"1264\",\"type\":\"Line\"},\"selection_glyph\":null,\"view\":{\"id\":\"1266\",\"type\":\"CDSView\"}},\"id\":\"1265\",\"type\":\"GlyphRenderer\"},{\"attributes\":{},\"id\":\"1410\",\"type\":\"Selection\"},{\"attributes\":{\"line_alpha\":0.1,\"line_color\":\"#1f77b4\",\"line_width\":2,\"x\":{\"field\":\"x\"},\"y\":{\"field\":\"y\"}},\"id\":\"1264\",\"type\":\"Line\"},{\"attributes\":{\"line_color\":\"#6026ff\",\"line_width\":2,\"x\":{\"field\":\"x\"},\"y\":{\"field\":\"y\"}},\"id\":\"1298\",\"type\":\"Line\"},{\"attributes\":{},\"id\":\"1442\",\"type\":\"Selection\"},{\"attributes\":{},\"id\":\"1411\",\"type\":\"UnionRenderers\"},{\"attributes\":{\"callback\":null,\"data\":{\"x\":{\"__ndarray__\":\"AAAAAAAAAAB2gynyWTfwP3aDKfJZNwBAMUU+6wZTCEB2gynyWTcQQFTks24wRRRAMUU+6wZTGEAOpshn3WAcQHaDKfJZNyBA5bNuMEU+IkBU5LNuMEUkQMIU+awbTCZAMUU+6wZTKECgdYMp8lkqQA6myGfdYCxAfdYNpshnLkB2gynyWTcwQK0bTJHPOjFA5bNuMEU+MkAcTJHPukEzQFTks24wRTRAi3zWDaZINUDCFPmsG0w2QPqsG0yRTzdAMUU+6wZTOEBo3WCKfFY5QKB1gynyWTpA1w2myGddO0AOpshn3WA8QEY+6wZTZD1AfdYNpshnPkC1bjBFPms/QHaDKfJZN0BAks+6wRS5QECtG0yRzzpBQMln3WCKvEFA5bNuMEU+QkAAAAAAAMBCQBxMkc+6QUNAOJgin3XDQ0BU5LNuMEVEQG8wRT7rxkRAi3zWDaZIRUCnyGfdYMpFQMIU+awbTEZA3mCKfNbNRkD6rBtMkU9HQBX5rBtM0UdAMUU+6wZTSEBNkc+6wdRIQGjdYIp8VklAhCnyWTfYSUCgdYMp8llKQLvBFPms20pA1w2myGddS0DzWTeYIt9LQA6myGfdYExAKvJZN5jiTEBGPusGU2RNQGKKfNYN5k1AfdYNpshnTkCZIp91g+lOQLVuMEU+a09A0LrBFPnsT0B2gynyWTdQQIQp8lk3eFBAks+6wRS5UECgdYMp8vlQQK0bTJHPOlFAu8EU+ax7UUDJZ91girxRQNcNpshn/VFA5bNuMEU+UkDzWTeYIn9SQAAAAAAAwFJA\",\"dtype\":\"float64\",\"shape\":[75]},\"y\":{\"__ndarray__\":\"AAAAAAAAAAAE/t/F6SCdP4rGEFnorLo/0MyPf55VmT9N8inEqah3P+HAvM7S8lg/9rH24AbBOz8Qg22haFIgPyajxBBY/QQ/wClJwhU37z4dtEPeT1ncPtZhRppPkM8+TMsC2j+ExD5KRLXk0Yq9PmA2H84UurY+DzpNTz9Jsj4GfcZ+o2KuPjR/BZ3126k+ir7//itspj48UodSTryjPmx8sXiglaE+uoq88Cmonz6CmgIwDr6cPrvVjv0rSpo+zRHa21szmD6HtTvd/maWPk6GssMG15Q+Dv/wjqh4kz7adM9NekOSPhbDXQPWMJE+AwRxe2o7kD4NlCIs1r2OPiOTxhKqL40+w+P4bYfGiz6oMT2Kn32KPuMS8wvsUIk+8EROTgg9iD6YHw44Ez+HPtB/LJCXVIY+LTopKnl7hT51Pybj5bGEPk6iw4lJ9oM+WL3RAURHgz4/eTU+oaOCPsWjBqhSCoI+mQxKp2l6gT4Ne1EZE/OAPtNtlYWTc4A+brH92Yf2fz4+G+MyHhN/Pk8KDareO34+YiGo9NhvfT7PTkiXNK58Pl7Hrgsu9ns+m9vSThRHez5JkuG+RqB6PihwpEozAXo+WwX01FRpeT5DZI3UMdh4Pt4rWBhbTXg+Giwtr2rIdz7diw8HA0l3PnVqnxDOznY+IjjIgHxZdj6P9LAsxeh1Pti2EHlkfHU+nZ8F1RsUdT7X7/tDsa90PqVbrPXuTnQ+lgN56KLxcz6Pf2mVnpdzPtTAOKS2QHM+UTVsp8Lscj6RPwTfnJtyPiFT7wAiTXI+\",\"dtype\":\"float64\",\"shape\":[75]}},\"selected\":{\"id\":\"1424\",\"type\":\"Selection\"},\"selection_policy\":{\"id\":\"1425\",\"type\":\"UnionRenderers\"}},\"id\":\"1247\",\"type\":\"ColumnDataSource\"},{\"attributes\":{},\"id\":\"1412\",\"type\":\"Selection\"},{\"attributes\":{},\"id\":\"1444\",\"type\":\"Selection\"},{\"attributes\":{\"line_alpha\":0.1,\"line_color\":\"#1f77b4\",\"line_width\":2,\"x\":{\"field\":\"x\"},\"y\":{\"field\":\"y\"}},\"id\":\"1259\",\"type\":\"Line\"},{\"attributes\":{\"source\":{\"id\":\"1262\",\"type\":\"ColumnDataSource\"}},\"id\":\"1266\",\"type\":\"CDSView\"},{\"attributes\":{},\"id\":\"1188\",\"type\":\"ResetTool\"},{\"attributes\":{},\"id\":\"1413\",\"type\":\"UnionRenderers\"},{\"attributes\":{},\"id\":\"1445\",\"type\":\"UnionRenderers\"},{\"attributes\":{\"line_alpha\":0.1,\"line_color\":\"#1f77b4\",\"line_width\":2,\"x\":{\"field\":\"x\"},\"y\":{\"field\":\"y\"}},\"id\":\"1234\",\"type\":\"Line\"},{\"attributes\":{\"line_alpha\":0.1,\"line_color\":\"#1f77b4\",\"line_width\":2,\"x\":{\"field\":\"x\"},\"y\":{\"field\":\"y\"}},\"id\":\"1254\",\"type\":\"Line\"},{\"attributes\":{\"callback\":null,\"data\":{\"x\":{\"__ndarray__\":\"AAAAAAAAAAB2gynyWTfwP3aDKfJZNwBAMUU+6wZTCEB2gynyWTcQQFTks24wRRRAMUU+6wZTGEAOpshn3WAcQHaDKfJZNyBA5bNuMEU+IkBU5LNuMEUkQMIU+awbTCZAMUU+6wZTKECgdYMp8lkqQA6myGfdYCxAfdYNpshnLkB2gynyWTcwQK0bTJHPOjFA5bNuMEU+MkAcTJHPukEzQFTks24wRTRAi3zWDaZINUDCFPmsG0w2QPqsG0yRTzdAMUU+6wZTOEBo3WCKfFY5QKB1gynyWTpA1w2myGddO0AOpshn3WA8QEY+6wZTZD1AfdYNpshnPkC1bjBFPms/QHaDKfJZN0BAks+6wRS5QECtG0yRzzpBQMln3WCKvEFA5bNuMEU+QkAAAAAAAMBCQBxMkc+6QUNAOJgin3XDQ0BU5LNuMEVEQG8wRT7rxkRAi3zWDaZIRUCnyGfdYMpFQMIU+awbTEZA3mCKfNbNRkD6rBtMkU9HQBX5rBtM0UdAMUU+6wZTSEBNkc+6wdRIQGjdYIp8VklAhCnyWTfYSUCgdYMp8llKQLvBFPms20pA1w2myGddS0DzWTeYIt9LQA6myGfdYExAKvJZN5jiTEBGPusGU2RNQGKKfNYN5k1AfdYNpshnTkCZIp91g+lOQLVuMEU+a09A0LrBFPnsT0B2gynyWTdQQIQp8lk3eFBAks+6wRS5UECgdYMp8vlQQK0bTJHPOlFAu8EU+ax7UUDJZ91girxRQNcNpshn/VFA5bNuMEU+UkDzWTeYIn9SQAAAAAAAwFJA\",\"dtype\":\"float64\",\"shape\":[75]},\"y\":{\"__ndarray__\":\"AAAAAAAAAAAHehIm0cYDQOt2glIk1/Y/RGrOl4kH6z/8CzbqXL7mP2loESqUheQ/vfVd+KD14j9TuJtZza3hP076fcSPUeA/SOcvovd72j93kI8GAZrJP7BRecDk9Lo/ASBntRs2sj+NLSABOYCrP29X85MCF6Y/k3M2AUd1oj/dFkuTLrSfP1WUXSgAyJs/SQLUHfK4mD+tgua6OEWWPwEov8/HQpQ/VJDdkX6Vkj+fbzBK1imRP9uxkT2n448/fhuwc2HGjT9wg7una+yLP+LtPpjzSYo/DSlMbMTViD/RWC5Zl4iHP8ScR5eYXIY/QuY4bA9NhT8oQQkQHlaEP+rZAUCSdIM/MH/8osGlgj9bu/uwbueBPyB5edSzN4E/+CeeMvOUgD/mxdrEk/t/P7dwdJkL4n4/VBN8FzvbfT/jrCXCU+V8P4UKM8rA/ns/hviMUB4mez9nj6w5Mlp6P/to+zrmmXk//rAg40LkeD8udLNxazh4P93TeFaalXc/m217OR77dj9owpF1V2h2P+4hHvC13HU/TYJjQbdXdT8/zI8d5dh0P/UbhvTTX3Q/B3/XwSHscz/w0r0BdX1zP7L7jMx7E3M/Egw8Cuutcj/3NPHCfUxyP8ezoID07nE/HNurwRSVcT8nJaKGqD5xP/xBweF963A/FwZBlWabcD8SLYu+N05wP66qBovJA3A/64k75e13bz9JOIrzOu1uPz4hIvU5Z24/3A0P5q7lbT+Ct6ewYWhtP+WjL9wd72w/CFqvQ7J5bD/yU5jT8AdsP+JEX02umWs/\",\"dtype\":\"float64\",\"shape\":[75]}},\"selected\":{\"id\":\"1430\",\"type\":\"Selection\"},\"selection_policy\":{\"id\":\"1431\",\"type\":\"UnionRenderers\"}},\"id\":\"1262\",\"type\":\"ColumnDataSource\"},{\"attributes\":{\"callback\":null,\"data\":{\"x\":{\"__ndarray__\":\"AAAAAAAAAAB2gynyWTfwP3aDKfJZNwBAMUU+6wZTCEB2gynyWTcQQFTks24wRRRAMUU+6wZTGEAOpshn3WAcQHaDKfJZNyBA5bNuMEU+IkBU5LNuMEUkQMIU+awbTCZAMUU+6wZTKECgdYMp8lkqQA6myGfdYCxAfdYNpshnLkB2gynyWTcwQK0bTJHPOjFA5bNuMEU+MkAcTJHPukEzQFTks24wRTRAi3zWDaZINUDCFPmsG0w2QPqsG0yRTzdAMUU+6wZTOEBo3WCKfFY5QKB1gynyWTpA1w2myGddO0AOpshn3WA8QEY+6wZTZD1AfdYNpshnPkC1bjBFPms/QHaDKfJZN0BAks+6wRS5QECtG0yRzzpBQMln3WCKvEFA5bNuMEU+QkAAAAAAAMBCQBxMkc+6QUNAOJgin3XDQ0BU5LNuMEVEQG8wRT7rxkRAi3zWDaZIRUCnyGfdYMpFQMIU+awbTEZA3mCKfNbNRkD6rBtMkU9HQBX5rBtM0UdAMUU+6wZTSEBNkc+6wdRIQGjdYIp8VklAhCnyWTfYSUCgdYMp8llKQLvBFPms20pA1w2myGddS0DzWTeYIt9LQA6myGfdYExAKvJZN5jiTEBGPusGU2RNQGKKfNYN5k1AfdYNpshnTkCZIp91g+lOQLVuMEU+a09A0LrBFPnsT0B2gynyWTdQQIQp8lk3eFBAks+6wRS5UECgdYMp8vlQQK0bTJHPOlFAu8EU+ax7UUDJZ91girxRQNcNpshn/VFA5bNuMEU+UkDzWTeYIn9SQAAAAAAAwFJA\",\"dtype\":\"float64\",\"shape\":[75]},\"y\":{\"__ndarray__\":\"AAAAAAAAAAALb6SHt1ElQEBO6MeGMJk/YKEgkIRWZD/OZtRTp6EwP2LA5HlFOfs+PTF4Jt9Lxj7oluJ3jkmSPszOEyvyHl4+yk8O91JLKT4f1IeubYH2PdmtCLnOxcQ9pUF70y1akz2k3YTFFBZiPZCiADWs7TA9T2IqL4K0/zyF+q6wwKzNPLdV6Z8pyZs8ECTnCSUFajxWdQ1f8Uk4POg9pWIMugY8G8dOnurt1Dtwxnyc75mkO7BFZxQ8SHY7yF9tkbYrSTv3uh0JuYAqO26+ivI9IgU7aFlvK4cYB7tq+ReTlZECu2S3rygnsuU6wfbP9v1i5jo6YgmlMKLOuprHsE9K4Mi60llylVpv2zoPS2atRP7Cujyejg0X6rE6rDLgeZ2YfjoKP3mAqwWKuqCsUgC7iGw6yF7hgBFqgDoaGhBq+wJ9OjCfgbA8pye6ZNo/H/2wUDqCgbZVq+RTOqgCzFvy+FA6qA0nYdMFFjrEBSW3SHk5OpyMaCF49i46YF7StFTpNTqUxL6j8AYyuqpJgtoKMC86GmHLjdITCrrQbE+p6jZxOU72jOLPvbQ5OUmioIhSojnsQaa/ulaYOZEGUjqCvJA5yNQ8t0Xphzm9Q9vtSZmBOWxjDpaBtXo5TwdK8yjgdDnVylGNDa1wObpXvsxuNGs5NNCncC2tZjnuEOVaZ0FjOd+Z7MywlWA5ZrNQyRz5XDloUVgPSKpZObldGw1fAFc5OLCcSUzQVDkg3WWHcwRTOXCpW5APiVE5bdFJIjBKUDlU8qnhMXdOOYhfb+N7rEw5\",\"dtype\":\"float64\",\"shape\":[75]}},\"selected\":{\"id\":\"1416\",\"type\":\"Selection\"},\"selection_policy\":{\"id\":\"1417\",\"type\":\"UnionRenderers\"}},\"id\":\"1227\",\"type\":\"ColumnDataSource\"},{\"attributes\":{},\"id\":\"1414\",\"type\":\"Selection\"},{\"attributes\":{},\"id\":\"1446\",\"type\":\"Selection\"},{\"attributes\":{\"line_color\":\"#bcbcff\",\"line_width\":2,\"x\":{\"field\":\"x\"},\"y\":{\"field\":\"y\"}},\"id\":\"1268\",\"type\":\"Line\"},{\"attributes\":{\"data_source\":{\"id\":\"1257\",\"type\":\"ColumnDataSource\"},\"glyph\":{\"id\":\"1258\",\"type\":\"Line\"},\"hover_glyph\":null,\"muted_glyph\":null,\"nonselection_glyph\":{\"id\":\"1259\",\"type\":\"Line\"},\"selection_glyph\":null,\"view\":{\"id\":\"1261\",\"type\":\"CDSView\"}},\"id\":\"1260\",\"type\":\"GlyphRenderer\"},{\"attributes\":{},\"id\":\"1184\",\"type\":\"PanTool\"},{\"attributes\":{},\"id\":\"1415\",\"type\":\"UnionRenderers\"},{\"attributes\":{},\"id\":\"1447\",\"type\":\"UnionRenderers\"},{\"attributes\":{\"callback\":null,\"data\":{\"x\":{\"__ndarray__\":\"AAAAAAAAAAB2gynyWTfwP3aDKfJZNwBAMUU+6wZTCEB2gynyWTcQQFTks24wRRRAMUU+6wZTGEAOpshn3WAcQHaDKfJZNyBA5bNuMEU+IkBU5LNuMEUkQMIU+awbTCZAMUU+6wZTKECgdYMp8lkqQA6myGfdYCxAfdYNpshnLkB2gynyWTcwQK0bTJHPOjFA5bNuMEU+MkAcTJHPukEzQFTks24wRTRAi3zWDaZINUDCFPmsG0w2QPqsG0yRTzdAMUU+6wZTOEBo3WCKfFY5QKB1gynyWTpA1w2myGddO0AOpshn3WA8QEY+6wZTZD1AfdYNpshnPkC1bjBFPms/QHaDKfJZN0BAks+6wRS5QECtG0yRzzpBQMln3WCKvEFA5bNuMEU+QkAAAAAAAMBCQBxMkc+6QUNAOJgin3XDQ0BU5LNuMEVEQG8wRT7rxkRAi3zWDaZIRUCnyGfdYMpFQMIU+awbTEZA3mCKfNbNRkD6rBtMkU9HQBX5rBtM0UdAMUU+6wZTSEBNkc+6wdRIQGjdYIp8VklAhCnyWTfYSUCgdYMp8llKQLvBFPms20pA1w2myGddS0DzWTeYIt9LQA6myGfdYExAKvJZN5jiTEBGPusGU2RNQGKKfNYN5k1AfdYNpshnTkCZIp91g+lOQLVuMEU+a09A0LrBFPnsT0B2gynyWTdQQIQp8lk3eFBAks+6wRS5UECgdYMp8vlQQK0bTJHPOlFAu8EU+ax7UUDJZ91girxRQNcNpshn/VFA5bNuMEU+UkDzWTeYIn9SQAAAAAAAwFJA\",\"dtype\":\"float64\",\"shape\":[75]},\"y\":{\"__ndarray__\":\"MzMzMzMzwz/LMzMzMzPDP9czMzMzM8M/zjMzMzMzwz/OMzMzMzPDP84zMzMzM8M/zjMzMzMzwz/OMzMzMzPDP84zMzMzM8M/zjMzMzMzwz/OMzMzMzPDP84zMzMzM8M/zjMzMzMzwz/OMzMzMzPDP84zMzMzM8M/zjMzMzMzwz/OMzMzMzPDP84zMzMzM8M/zjMzMzMzwz/OMzMzMzPDP84zMzMzM8M/zjMzMzMzwz/OMzMzMzPDP84zMzMzM8M/zjMzMzMzwz/OMzMzMzPDP84zMzMzM8M/zjMzMzMzwz/OMzMzMzPDP84zMzMzM8M/zjMzMzMzwz/OMzMzMzPDP84zMzMzM8M/zjMzMzMzwz/OMzMzMzPDP84zMzMzM8M/zjMzMzMzwz/OMzMzMzPDP84zMzMzM8M/zjMzMzMzwz/OMzMzMzPDP84zMzMzM8M/zjMzMzMzwz/OMzMzMzPDP84zMzMzM8M/zjMzMzMzwz/OMzMzMzPDP84zMzMzM8M/zjMzMzMzwz/OMzMzMzPDP84zMzMzM8M/zjMzMzMzwz/OMzMzMzPDP84zMzMzM8M/zjMzMzMzwz/OMzMzMzPDP84zMzMzM8M/zjMzMzMzwz/OMzMzMzPDP84zMzMzM8M/zjMzMzMzwz/OMzMzMzPDP84zMzMzM8M/zjMzMzMzwz/OMzMzMzPDP84zMzMzM8M/zjMzMzMzwz/OMzMzMzPDP84zMzMzM8M/zjMzMzMzwz/OMzMzMzPDP84zMzMzM8M/zjMzMzMzwz/OMzMzMzPDP84zMzMzM8M/\",\"dtype\":\"float64\",\"shape\":[75]}},\"selected\":{\"id\":\"1418\",\"type\":\"Selection\"},\"selection_policy\":{\"id\":\"1419\",\"type\":\"UnionRenderers\"}},\"id\":\"1232\",\"type\":\"ColumnDataSource\"},{\"attributes\":{\"line_color\":\"#5d003f\",\"line_width\":2,\"x\":{\"field\":\"x\"},\"y\":{\"field\":\"y\"}},\"id\":\"1263\",\"type\":\"Line\"},{\"attributes\":{\"source\":{\"id\":\"1302\",\"type\":\"ColumnDataSource\"}},\"id\":\"1306\",\"type\":\"CDSView\"},{\"attributes\":{},\"id\":\"1416\",\"type\":\"Selection\"},{\"attributes\":{},\"id\":\"1448\",\"type\":\"Selection\"},{\"attributes\":{\"source\":{\"id\":\"1257\",\"type\":\"ColumnDataSource\"}},\"id\":\"1261\",\"type\":\"CDSView\"},{\"attributes\":{},\"id\":\"1417\",\"type\":\"UnionRenderers\"},{\"attributes\":{},\"id\":\"1449\",\"type\":\"UnionRenderers\"},{\"attributes\":{},\"id\":\"1418\",\"type\":\"Selection\"},{\"attributes\":{},\"id\":\"1450\",\"type\":\"Selection\"},{\"attributes\":{\"callback\":null,\"data\":{\"x\":{\"__ndarray__\":\"AAAAAAAAAAB2gynyWTfwP3aDKfJZNwBAMUU+6wZTCEB2gynyWTcQQFTks24wRRRAMUU+6wZTGEAOpshn3WAcQHaDKfJZNyBA5bNuMEU+IkBU5LNuMEUkQMIU+awbTCZAMUU+6wZTKECgdYMp8lkqQA6myGfdYCxAfdYNpshnLkB2gynyWTcwQK0bTJHPOjFA5bNuMEU+MkAcTJHPukEzQFTks24wRTRAi3zWDaZINUDCFPmsG0w2QPqsG0yRTzdAMUU+6wZTOEBo3WCKfFY5QKB1gynyWTpA1w2myGddO0AOpshn3WA8QEY+6wZTZD1AfdYNpshnPkC1bjBFPms/QHaDKfJZN0BAks+6wRS5QECtG0yRzzpBQMln3WCKvEFA5bNuMEU+QkAAAAAAAMBCQBxMkc+6QUNAOJgin3XDQ0BU5LNuMEVEQG8wRT7rxkRAi3zWDaZIRUCnyGfdYMpFQMIU+awbTEZA3mCKfNbNRkD6rBtMkU9HQBX5rBtM0UdAMUU+6wZTSEBNkc+6wdRIQGjdYIp8VklAhCnyWTfYSUCgdYMp8llKQLvBFPms20pA1w2myGddS0DzWTeYIt9LQA6myGfdYExAKvJZN5jiTEBGPusGU2RNQGKKfNYN5k1AfdYNpshnTkCZIp91g+lOQLVuMEU+a09A0LrBFPnsT0B2gynyWTdQQIQp8lk3eFBAks+6wRS5UECgdYMp8vlQQK0bTJHPOlFAu8EU+ax7UUDJZ91girxRQNcNpshn/VFA5bNuMEU+UkDzWTeYIn9SQAAAAAAAwFJA\",\"dtype\":\"float64\",\"shape\":[75]},\"y\":{\"__ndarray__\":\"MzMzMzMzwz8sMzMzMzPDPxEzMzMzM8M/CjMzMzMzwz8HMzMzMzPDPwYzMzMzM8M/BzMzMzMzwz8DMzMzMzPDPwgzMzMzM8M/CzMzMzMzwz8LMzMzMzPDPwszMzMzM8M/CzMzMzMzwz8LMzMzMzPDPwszMzMzM8M/CzMzMzMzwz8LMzMzMzPDPwszMzMzM8M/CzMzMzMzwz8LMzMzMzPDPwszMzMzM8M/CzMzMzMzwz8LMzMzMzPDPwszMzMzM8M/CzMzMzMzwz8LMzMzMzPDPwszMzMzM8M/CzMzMzMzwz8LMzMzMzPDPwszMzMzM8M/CzMzMzMzwz8LMzMzMzPDPwszMzMzM8M/CzMzMzMzwz8LMzMzMzPDPwszMzMzM8M/CzMzMzMzwz8LMzMzMzPDPwszMzMzM8M/CzMzMzMzwz8LMzMzMzPDPwszMzMzM8M/CzMzMzMzwz8LMzMzMzPDPwszMzMzM8M/CzMzMzMzwz8LMzMzMzPDPwszMzMzM8M/CzMzMzMzwz8LMzMzMzPDPwszMzMzM8M/CzMzMzMzwz8LMzMzMzPDPwszMzMzM8M/CzMzMzMzwz8LMzMzMzPDPwszMzMzM8M/CzMzMzMzwz8LMzMzMzPDPwszMzMzM8M/CzMzMzMzwz8LMzMzMzPDPwszMzMzM8M/CzMzMzMzwz8LMzMzMzPDPwszMzMzM8M/CzMzMzMzwz8LMzMzMzPDPwszMzMzM8M/CzMzMzMzwz8LMzMzMzPDPwszMzMzM8M/CzMzMzMzwz8LMzMzMzPDPwszMzMzM8M/\",\"dtype\":\"float64\",\"shape\":[75]}},\"selected\":{\"id\":\"1446\",\"type\":\"Selection\"},\"selection_policy\":{\"id\":\"1447\",\"type\":\"UnionRenderers\"}},\"id\":\"1302\",\"type\":\"ColumnDataSource\"},{\"attributes\":{\"line_color\":\"#e277c1\",\"line_width\":2,\"x\":{\"field\":\"x\"},\"y\":{\"field\":\"y\"}},\"id\":\"1228\",\"type\":\"Line\"},{\"attributes\":{},\"id\":\"1419\",\"type\":\"UnionRenderers\"},{\"attributes\":{},\"id\":\"1451\",\"type\":\"UnionRenderers\"},{\"attributes\":{\"source\":{\"id\":\"1282\",\"type\":\"ColumnDataSource\"}},\"id\":\"1286\",\"type\":\"CDSView\"},{\"attributes\":{\"data_source\":{\"id\":\"1282\",\"type\":\"ColumnDataSource\"},\"glyph\":{\"id\":\"1283\",\"type\":\"Line\"},\"hover_glyph\":null,\"muted_glyph\":null,\"nonselection_glyph\":{\"id\":\"1284\",\"type\":\"Line\"},\"selection_glyph\":null,\"view\":{\"id\":\"1286\",\"type\":\"CDSView\"}},\"id\":\"1285\",\"type\":\"GlyphRenderer\"},{\"attributes\":{\"source\":{\"id\":\"1227\",\"type\":\"ColumnDataSource\"}},\"id\":\"1231\",\"type\":\"CDSView\"},{\"attributes\":{\"source\":{\"id\":\"1252\",\"type\":\"ColumnDataSource\"}},\"id\":\"1256\",\"type\":\"CDSView\"},{\"attributes\":{},\"id\":\"1420\",\"type\":\"Selection\"},{\"attributes\":{\"line_color\":\"#004d52\",\"line_width\":2,\"x\":{\"field\":\"x\"},\"y\":{\"field\":\"y\"}},\"id\":\"1283\",\"type\":\"Line\"},{\"attributes\":{},\"id\":\"1452\",\"type\":\"Selection\"},{\"attributes\":{\"callback\":null,\"data\":{\"x\":{\"__ndarray__\":\"AAAAAAAAAAB2gynyWTfwP3aDKfJZNwBAMUU+6wZTCEB2gynyWTcQQFTks24wRRRAMUU+6wZTGEAOpshn3WAcQHaDKfJZNyBA5bNuMEU+IkBU5LNuMEUkQMIU+awbTCZAMUU+6wZTKECgdYMp8lkqQA6myGfdYCxAfdYNpshnLkB2gynyWTcwQK0bTJHPOjFA5bNuMEU+MkAcTJHPukEzQFTks24wRTRAi3zWDaZINUDCFPmsG0w2QPqsG0yRTzdAMUU+6wZTOEBo3WCKfFY5QKB1gynyWTpA1w2myGddO0AOpshn3WA8QEY+6wZTZD1AfdYNpshnPkC1bjBFPms/QHaDKfJZN0BAks+6wRS5QECtG0yRzzpBQMln3WCKvEFA5bNuMEU+QkAAAAAAAMBCQBxMkc+6QUNAOJgin3XDQ0BU5LNuMEVEQG8wRT7rxkRAi3zWDaZIRUCnyGfdYMpFQMIU+awbTEZA3mCKfNbNRkD6rBtMkU9HQBX5rBtM0UdAMUU+6wZTSEBNkc+6wdRIQGjdYIp8VklAhCnyWTfYSUCgdYMp8llKQLvBFPms20pA1w2myGddS0DzWTeYIt9LQA6myGfdYExAKvJZN5jiTEBGPusGU2RNQGKKfNYN5k1AfdYNpshnTkCZIp91g+lOQLVuMEU+a09A0LrBFPnsT0B2gynyWTdQQIQp8lk3eFBAks+6wRS5UECgdYMp8vlQQK0bTJHPOlFAu8EU+ax7UUDJZ91girxRQNcNpshn/VFA5bNuMEU+UkDzWTeYIn9SQAAAAAAAwFJA\",\"dtype\":\"float64\",\"shape\":[75]},\"y\":{\"__ndarray__\":\"AAAAAAAAAABpHJ10XmK2P0sKd62Z+wJA+zmpg1/AFECFUHkrW5UWQJ/yqBmp/RRAeYC1PSFvEUChVOMFbzUJQO+uEjsKSfw/AvnX5Yie4T+qGKzLGiW6PwtHZfnFJ58/OjllUaMZjT++TQlwBSKBP/9qJQBMBHc/B0BkdKnPcD9XmnnH5wFqP1BJDAvt92Q/QQ9/ksRwYT8TpuUabbhdP4Rc6UEG0Fk/16kZeMHEVj+n2vZiXFdUP63bqB8AXlI/MUK+lA68UD8YBwKVwrpOPwvyGjPZZkw/a6dZ6epmSj++/P5Y1KpIP4pKQtU9Jkc/KeTNBZLPRT8UPU0PRp9EP0tEDZ9Xj0M/59XsfO+aQj9+dxBLHb5BP81wKuqk9UA/I4kUkNg+QD831jKv9y4/P/GnoTVb+z0/ar3/Xa3fPD/lCWTeONk7P2/XxAqs5To/9p9WzwcDOj/MD+P6kS85PwLQaTDKaTg/3I9A2GCwNz8OZou7LwI3P7eI5eUzXjY/tlQnlIjDNT9Yycz4YjE1P8liBLAOpzQ/autrxeojND//F6grZ6czP48f75cCMTM/KeVzrUjAMj8KfgZq0FQyP0LQuNA67jE/lH3nvTGMMT/XOczoZi4xP8SmDQGT1DA/lLAD6XR+MD8zOWAW0SswP3u+0evhuC8/UsEE0kQgLz9RDdWobo0uP50NoXcKAC4/oS5bzcl3LT/+eTQiZPQsPzv98EqWdSw/KYYt+iH7Kz+kevhQzYQrP8dm0npiEis/cb0EU6+jKj9shBgUhTgqPw15OxC40Ck/\",\"dtype\":\"float64\",\"shape\":[75]}},\"selected\":{\"id\":\"1448\",\"type\":\"Selection\"},\"selection_policy\":{\"id\":\"1449\",\"type\":\"UnionRenderers\"}},\"id\":\"1307\",\"type\":\"ColumnDataSource\"},{\"attributes\":{},\"id\":\"1421\",\"type\":\"UnionRenderers\"},{\"attributes\":{},\"id\":\"1453\",\"type\":\"UnionRenderers\"},{\"attributes\":{\"source\":{\"id\":\"1307\",\"type\":\"ColumnDataSource\"}},\"id\":\"1311\",\"type\":\"CDSView\"},{\"attributes\":{\"source\":{\"id\":\"1232\",\"type\":\"ColumnDataSource\"}},\"id\":\"1236\",\"type\":\"CDSView\"},{\"attributes\":{},\"id\":\"1422\",\"type\":\"Selection\"},{\"attributes\":{},\"id\":\"1454\",\"type\":\"Selection\"},{\"attributes\":{\"callback\":null,\"data\":{\"x\":{\"__ndarray__\":\"AAAAAAAAAAB2gynyWTfwP3aDKfJZNwBAMUU+6wZTCEB2gynyWTcQQFTks24wRRRAMUU+6wZTGEAOpshn3WAcQHaDKfJZNyBA5bNuMEU+IkBU5LNuMEUkQMIU+awbTCZAMUU+6wZTKECgdYMp8lkqQA6myGfdYCxAfdYNpshnLkB2gynyWTcwQK0bTJHPOjFA5bNuMEU+MkAcTJHPukEzQFTks24wRTRAi3zWDaZINUDCFPmsG0w2QPqsG0yRTzdAMUU+6wZTOEBo3WCKfFY5QKB1gynyWTpA1w2myGddO0AOpshn3WA8QEY+6wZTZD1AfdYNpshnPkC1bjBFPms/QHaDKfJZN0BAks+6wRS5QECtG0yRzzpBQMln3WCKvEFA5bNuMEU+QkAAAAAAAMBCQBxMkc+6QUNAOJgin3XDQ0BU5LNuMEVEQG8wRT7rxkRAi3zWDaZIRUCnyGfdYMpFQMIU+awbTEZA3mCKfNbNRkD6rBtMkU9HQBX5rBtM0UdAMUU+6wZTSEBNkc+6wdRIQGjdYIp8VklAhCnyWTfYSUCgdYMp8llKQLvBFPms20pA1w2myGddS0DzWTeYIt9LQA6myGfdYExAKvJZN5jiTEBGPusGU2RNQGKKfNYN5k1AfdYNpshnTkCZIp91g+lOQLVuMEU+a09A0LrBFPnsT0B2gynyWTdQQIQp8lk3eFBAks+6wRS5UECgdYMp8vlQQK0bTJHPOlFAu8EU+ax7UUDJZ91girxRQNcNpshn/VFA5bNuMEU+UkDzWTeYIn9SQAAAAAAAwFJA\",\"dtype\":\"float64\",\"shape\":[75]},\"y\":{\"__ndarray__\":\"AAAAAAAAPkB3cPk4LI02QN9oe/6zmSFAeSCtqiaQIUB5kpSk3KUnQJJA5K6Wmi5Anekss/XVMkAgQOoyN182QDZ5olRr5TlABlhi5EhfPUAR7aJvnlVAQCGV4wVW1UFABpgaEuorQ0AXsPiTQ1pEQETj+DI3Y0VArK+YCoRKRkBLW2YeJhRHQJ36jC/yw0dARjnk5mRdSECNAUZskeNIQBpW2T4hWUlAL21DZlzASUCWMg/WNBtKQAmQ+15Sa0pA/CSj0x2ySkCXvzrpyvBKQHktoK9gKEtA13Z3tsBZS0CkgckDrYVLQKT13AnNrEtAQPTMwrHPS0Cmeu8a2e5LQJ7dTMawCkxAmCADnpgjTECnXXqZ5DlMQLtBWXfeTUxAEHL9IcdfTEAOZZTd129MQFMGD0lDfkxA2fzjNzaLTECEdYRs2JZMQLLGSTlNoUxAaqokCrSqTEA9UtDbKLNMQHv5gaPEukxABv+GqJ3BTEDIXy7Tx8dMQEIh2/BUzUxAKg+T8FTSTEBMb40X1tZMQCsZ8i/l2kxAhfrOsY3eTED92KPn2eFMQLj52A3T5ExAAARfcIHnTEC45dSC7OlMQIME9vca7ExAFzlO1RLuTEAE5QKF2e9MQFdmAOZz8UxAcQGSWubyTEDY0VbUNPRMQGbVG+Bi9UxA9mg4sHP2TEAsrZklavdMQPLy09dI+ExAmyiZHBL5TEA7VmEOyPlMQAFvUJJs+kxAKv2JXQH7TECvS/r5h/tMQN40qcoB/ExAD7uWD3D8TEB5/jTp0/xMQA3rilsu/UxA\",\"dtype\":\"float64\",\"shape\":[75]}},\"selected\":{\"id\":\"1436\",\"type\":\"Selection\"},\"selection_policy\":{\"id\":\"1437\",\"type\":\"UnionRenderers\"}},\"id\":\"1277\",\"type\":\"ColumnDataSource\"},{\"attributes\":{\"source\":{\"id\":\"1272\",\"type\":\"ColumnDataSource\"}},\"id\":\"1276\",\"type\":\"CDSView\"},{\"attributes\":{},\"id\":\"1187\",\"type\":\"SaveTool\"},{\"attributes\":{},\"id\":\"1423\",\"type\":\"UnionRenderers\"},{\"attributes\":{},\"id\":\"1455\",\"type\":\"UnionRenderers\"},{\"attributes\":{\"line_alpha\":0.1,\"line_color\":\"#1f77b4\",\"line_width\":2,\"x\":{\"field\":\"x\"},\"y\":{\"field\":\"y\"}},\"id\":\"1229\",\"type\":\"Line\"},{\"attributes\":{},\"id\":\"1424\",\"type\":\"Selection\"},{\"attributes\":{},\"id\":\"1456\",\"type\":\"Selection\"},{\"attributes\":{\"callback\":null,\"data\":{\"x\":{\"__ndarray__\":\"AAAAAAAAAAB2gynyWTfwP3aDKfJZNwBAMUU+6wZTCEB2gynyWTcQQFTks24wRRRAMUU+6wZTGEAOpshn3WAcQHaDKfJZNyBA5bNuMEU+IkBU5LNuMEUkQMIU+awbTCZAMUU+6wZTKECgdYMp8lkqQA6myGfdYCxAfdYNpshnLkB2gynyWTcwQK0bTJHPOjFA5bNuMEU+MkAcTJHPukEzQFTks24wRTRAi3zWDaZINUDCFPmsG0w2QPqsG0yRTzdAMUU+6wZTOEBo3WCKfFY5QKB1gynyWTpA1w2myGddO0AOpshn3WA8QEY+6wZTZD1AfdYNpshnPkC1bjBFPms/QHaDKfJZN0BAks+6wRS5QECtG0yRzzpBQMln3WCKvEFA5bNuMEU+QkAAAAAAAMBCQBxMkc+6QUNAOJgin3XDQ0BU5LNuMEVEQG8wRT7rxkRAi3zWDaZIRUCnyGfdYMpFQMIU+awbTEZA3mCKfNbNRkD6rBtMkU9HQBX5rBtM0UdAMUU+6wZTSEBNkc+6wdRIQGjdYIp8VklAhCnyWTfYSUCgdYMp8llKQLvBFPms20pA1w2myGddS0DzWTeYIt9LQA6myGfdYExAKvJZN5jiTEBGPusGU2RNQGKKfNYN5k1AfdYNpshnTkCZIp91g+lOQLVuMEU+a09A0LrBFPnsT0B2gynyWTdQQIQp8lk3eFBAks+6wRS5UECgdYMp8vlQQK0bTJHPOlFAu8EU+ax7UUDJZ91girxRQNcNpshn/VFA5bNuMEU+UkDzWTeYIn9SQAAAAAAAwFJA\",\"dtype\":\"float64\",\"shape\":[75]},\"y\":{\"__ndarray__\":\"AAAAAAAAAABnQ7DjzqDOP0zNTAIZRQRAqDNGaBSnEUDaMMsVo4ENQMjUNS6EFQZAd1DzHh3d/j/dXNJvxUHzP41JBi7cg+I//aJ/RTYbvj+1PAxMUtNQP+1HfrFmC30+CdWHqGEOWj47w+CCn2ZGPvoPWhs9Zjc+NlsK+0i2Kz6+2v2YPOYhPnnj+VHSohg+7jIVz6DKET6CcBD2ELAKPmljPH1sogQ+IzGa64RbAD50vIFs4Hr6PTuih8R/0PU9iLxWg4Y+8j21jXob8+ruPUlCD3Bzf+o935av6kzw5j3e9+255QjkPX1nAjI5o+E90DArF5hG3z3f98zdYOjbPQZHXfMHDNk95tc8mB6Z1j3qjivin3zUPa2ZsmuUp9I9GJeDIBUO0T1pho+NKk3PPRJTsOOz0sw9o1JFHSigyj3T3KPrKKvIPRiYGZkg68Y9mkKSUehYxT0aJkxfge7DPUbOMSHepsI9izMCzLd9wT3Bl96fZm/APRmp6tCY8b49ioP9bXQuvT2Nz1oSvpC7Pch7WqZxFLo9TXWoBRG2uD3gL3MRj3K3PfKWEzE/R7Y9ReE2PMgxtT3pPS8xFzC0PfOxjOhWQLM9eXnLDudgsj0xxaRfVZCxPf7FnZtXzbA9PsQ2fMYWsD3/MQjYMteuPYmg5XzFla09eLs78ZhnrD1A6mQaK0urPa7AIeoeP6o9JM9EPThCqT0eUOAiWFOoPdSSzrp5cac9KzYVaa+bpj0YjP1lINGlPXXjipUGEaU9yABbo6xapD1BB0hWbK2jPdcM9xStCKM9\",\"dtype\":\"float64\",\"shape\":[75]}},\"selected\":{\"id\":\"1438\",\"type\":\"Selection\"},\"selection_policy\":{\"id\":\"1439\",\"type\":\"UnionRenderers\"}},\"id\":\"1282\",\"type\":\"ColumnDataSource\"},{\"attributes\":{\"line_color\":\"#8cb893\",\"line_width\":2,\"x\":{\"field\":\"x\"},\"y\":{\"field\":\"y\"}},\"id\":\"1313\",\"type\":\"Line\"},{\"attributes\":{\"line_alpha\":0.1,\"line_color\":\"#1f77b4\",\"line_width\":2,\"x\":{\"field\":\"x\"},\"y\":{\"field\":\"y\"}},\"id\":\"1279\",\"type\":\"Line\"},{\"attributes\":{},\"id\":\"1425\",\"type\":\"UnionRenderers\"},{\"attributes\":{},\"id\":\"1457\",\"type\":\"UnionRenderers\"},{\"attributes\":{\"line_color\":\"#564964\",\"line_width\":2,\"x\":{\"field\":\"x\"},\"y\":{\"field\":\"y\"}},\"id\":\"1308\",\"type\":\"Line\"},{\"attributes\":{},\"id\":\"1467\",\"type\":\"UnionRenderers\"},{\"attributes\":{\"data_source\":{\"id\":\"1277\",\"type\":\"ColumnDataSource\"},\"glyph\":{\"id\":\"1278\",\"type\":\"Line\"},\"hover_glyph\":null,\"muted_glyph\":null,\"nonselection_glyph\":{\"id\":\"1279\",\"type\":\"Line\"},\"selection_glyph\":null,\"view\":{\"id\":\"1281\",\"type\":\"CDSView\"}},\"id\":\"1280\",\"type\":\"GlyphRenderer\"},{\"attributes\":{},\"id\":\"1426\",\"type\":\"Selection\"},{\"attributes\":{},\"id\":\"1458\",\"type\":\"Selection\"},{\"attributes\":{\"line_color\":\"#004201\",\"line_width\":2,\"x\":{\"field\":\"x\"},\"y\":{\"field\":\"y\"}},\"id\":\"1253\",\"type\":\"Line\"},{\"attributes\":{\"source\":{\"id\":\"1277\",\"type\":\"ColumnDataSource\"}},\"id\":\"1281\",\"type\":\"CDSView\"},{\"attributes\":{\"data_source\":{\"id\":\"1312\",\"type\":\"ColumnDataSource\"},\"glyph\":{\"id\":\"1313\",\"type\":\"Line\"},\"hover_glyph\":null,\"muted_glyph\":null,\"nonselection_glyph\":{\"id\":\"1314\",\"type\":\"Line\"},\"selection_glyph\":null,\"view\":{\"id\":\"1316\",\"type\":\"CDSView\"}},\"id\":\"1315\",\"type\":\"GlyphRenderer\"},{\"attributes\":{\"line_color\":\"#6b6400\",\"line_width\":2,\"x\":{\"field\":\"x\"},\"y\":{\"field\":\"y\"}},\"id\":\"1288\",\"type\":\"Line\"},{\"attributes\":{},\"id\":\"1427\",\"type\":\"UnionRenderers\"},{\"attributes\":{},\"id\":\"1459\",\"type\":\"UnionRenderers\"},{\"attributes\":{},\"id\":\"1428\",\"type\":\"Selection\"},{\"attributes\":{},\"id\":\"1460\",\"type\":\"Selection\"},{\"attributes\":{\"callback\":null,\"data\":{\"x\":{\"__ndarray__\":\"AAAAAAAAAAB2gynyWTfwP3aDKfJZNwBAMUU+6wZTCEB2gynyWTcQQFTks24wRRRAMUU+6wZTGEAOpshn3WAcQHaDKfJZNyBA5bNuMEU+IkBU5LNuMEUkQMIU+awbTCZAMUU+6wZTKECgdYMp8lkqQA6myGfdYCxAfdYNpshnLkB2gynyWTcwQK0bTJHPOjFA5bNuMEU+MkAcTJHPukEzQFTks24wRTRAi3zWDaZINUDCFPmsG0w2QPqsG0yRTzdAMUU+6wZTOEBo3WCKfFY5QKB1gynyWTpA1w2myGddO0AOpshn3WA8QEY+6wZTZD1AfdYNpshnPkC1bjBFPms/QHaDKfJZN0BAks+6wRS5QECtG0yRzzpBQMln3WCKvEFA5bNuMEU+QkAAAAAAAMBCQBxMkc+6QUNAOJgin3XDQ0BU5LNuMEVEQG8wRT7rxkRAi3zWDaZIRUCnyGfdYMpFQMIU+awbTEZA3mCKfNbNRkD6rBtMkU9HQBX5rBtM0UdAMUU+6wZTSEBNkc+6wdRIQGjdYIp8VklAhCnyWTfYSUCgdYMp8llKQLvBFPms20pA1w2myGddS0DzWTeYIt9LQA6myGfdYExAKvJZN5jiTEBGPusGU2RNQGKKfNYN5k1AfdYNpshnTkCZIp91g+lOQLVuMEU+a09A0LrBFPnsT0B2gynyWTdQQIQp8lk3eFBAks+6wRS5UECgdYMp8vlQQK0bTJHPOlFAu8EU+ax7UUDJZ91girxRQNcNpshn/VFA5bNuMEU+UkDzWTeYIn9SQAAAAAAAwFJA\",\"dtype\":\"float64\",\"shape\":[75]},\"y\":{\"__ndarray__\":\"MzMzMzMzwz/JMjMzMzPDP34zMzMzM8M/RCgzMzMzwz/aITMzMzPDP6gZMzMzM8M/7xgzMzMzwz/4LjMzMzPDP8UyMzMzM8M/0jIzMzMzwz/SMjMzMzPDP9IyMzMzM8M/0jIzMzMzwz/SMjMzMzPDP9IyMzMzM8M/0jIzMzMzwz/SMjMzMzPDP9IyMzMzM8M/0jIzMzMzwz/SMjMzMzPDP9IyMzMzM8M/0jIzMzMzwz/SMjMzMzPDP9IyMzMzM8M/0jIzMzMzwz/SMjMzMzPDP9IyMzMzM8M/0jIzMzMzwz/SMjMzMzPDP9IyMzMzM8M/0jIzMzMzwz/SMjMzMzPDP9IyMzMzM8M/0jIzMzMzwz/SMjMzMzPDP9IyMzMzM8M/0jIzMzMzwz/SMjMzMzPDP9IyMzMzM8M/0jIzMzMzwz/SMjMzMzPDP9IyMzMzM8M/0jIzMzMzwz/SMjMzMzPDP9IyMzMzM8M/0jIzMzMzwz/SMjMzMzPDP9IyMzMzM8M/0jIzMzMzwz/SMjMzMzPDP9IyMzMzM8M/0jIzMzMzwz/SMjMzMzPDP9IyMzMzM8M/0jIzMzMzwz/SMjMzMzPDP9IyMzMzM8M/0jIzMzMzwz/SMjMzMzPDP9IyMzMzM8M/0jIzMzMzwz/SMjMzMzPDP9IyMzMzM8M/0jIzMzMzwz/SMjMzMzPDP9IyMzMzM8M/0jIzMzMzwz/SMjMzMzPDP9IyMzMzM8M/0jIzMzMzwz/SMjMzMzPDP9IyMzMzM8M/0jIzMzMzwz/SMjMzMzPDP9IyMzMzM8M/\",\"dtype\":\"float64\",\"shape\":[75]}},\"selected\":{\"id\":\"1434\",\"type\":\"Selection\"},\"selection_policy\":{\"id\":\"1435\",\"type\":\"UnionRenderers\"}},\"id\":\"1272\",\"type\":\"ColumnDataSource\"},{\"attributes\":{\"line_alpha\":0.1,\"line_color\":\"#1f77b4\",\"line_width\":2,\"x\":{\"field\":\"x\"},\"y\":{\"field\":\"y\"}},\"id\":\"1314\",\"type\":\"Line\"},{\"attributes\":{\"line_color\":\"#bcbc21\",\"line_width\":2,\"x\":{\"field\":\"x\"},\"y\":{\"field\":\"y\"}},\"id\":\"1238\",\"type\":\"Line\"},{\"attributes\":{\"line_color\":\"#b80080\",\"line_width\":2,\"x\":{\"field\":\"x\"},\"y\":{\"field\":\"y\"}},\"id\":\"1278\",\"type\":\"Line\"},{\"attributes\":{\"line_alpha\":0.1,\"line_color\":\"#1f77b4\",\"line_width\":2,\"x\":{\"field\":\"x\"},\"y\":{\"field\":\"y\"}},\"id\":\"1309\",\"type\":\"Line\"},{\"attributes\":{},\"id\":\"1429\",\"type\":\"UnionRenderers\"},{\"attributes\":{\"data_source\":{\"id\":\"1197\",\"type\":\"ColumnDataSource\"},\"glyph\":{\"id\":\"1198\",\"type\":\"Line\"},\"hover_glyph\":null,\"muted_glyph\":null,\"nonselection_glyph\":{\"id\":\"1199\",\"type\":\"Line\"},\"selection_glyph\":null,\"view\":{\"id\":\"1201\",\"type\":\"CDSView\"}},\"id\":\"1200\",\"type\":\"GlyphRenderer\"},{\"attributes\":{\"line_color\":\"#7e7e7e\",\"line_width\":2,\"x\":{\"field\":\"x\"},\"y\":{\"field\":\"y\"}},\"id\":\"1233\",\"type\":\"Line\"},{\"attributes\":{\"line_alpha\":0.1,\"line_color\":\"#1f77b4\",\"line_width\":2,\"x\":{\"field\":\"x\"},\"y\":{\"field\":\"y\"}},\"id\":\"1274\",\"type\":\"Line\"},{\"attributes\":{},\"id\":\"1461\",\"type\":\"UnionRenderers\"},{\"attributes\":{\"data_source\":{\"id\":\"1232\",\"type\":\"ColumnDataSource\"},\"glyph\":{\"id\":\"1233\",\"type\":\"Line\"},\"hover_glyph\":null,\"muted_glyph\":null,\"nonselection_glyph\":{\"id\":\"1234\",\"type\":\"Line\"},\"selection_glyph\":null,\"view\":{\"id\":\"1236\",\"type\":\"CDSView\"}},\"id\":\"1235\",\"type\":\"GlyphRenderer\"},{\"attributes\":{},\"id\":\"1430\",\"type\":\"Selection\"},{\"attributes\":{},\"id\":\"1462\",\"type\":\"Selection\"},{\"attributes\":{\"data_source\":{\"id\":\"1272\",\"type\":\"ColumnDataSource\"},\"glyph\":{\"id\":\"1273\",\"type\":\"Line\"},\"hover_glyph\":null,\"muted_glyph\":null,\"nonselection_glyph\":{\"id\":\"1274\",\"type\":\"Line\"},\"selection_glyph\":null,\"view\":{\"id\":\"1276\",\"type\":\"CDSView\"}},\"id\":\"1275\",\"type\":\"GlyphRenderer\"},{\"attributes\":{},\"id\":\"1431\",\"type\":\"UnionRenderers\"},{\"attributes\":{},\"id\":\"1463\",\"type\":\"UnionRenderers\"},{\"attributes\":{\"data_source\":{\"id\":\"1227\",\"type\":\"ColumnDataSource\"},\"glyph\":{\"id\":\"1228\",\"type\":\"Line\"},\"hover_glyph\":null,\"muted_glyph\":null,\"nonselection_glyph\":{\"id\":\"1229\",\"type\":\"Line\"},\"selection_glyph\":null,\"view\":{\"id\":\"1231\",\"type\":\"CDSView\"}},\"id\":\"1230\",\"type\":\"GlyphRenderer\"},{\"attributes\":{\"data_source\":{\"id\":\"1307\",\"type\":\"ColumnDataSource\"},\"glyph\":{\"id\":\"1308\",\"type\":\"Line\"},\"hover_glyph\":null,\"muted_glyph\":null,\"nonselection_glyph\":{\"id\":\"1309\",\"type\":\"Line\"},\"selection_glyph\":null,\"view\":{\"id\":\"1311\",\"type\":\"CDSView\"}},\"id\":\"1310\",\"type\":\"GlyphRenderer\"},{\"attributes\":{\"line_color\":\"#3a0182\",\"line_width\":2,\"x\":{\"field\":\"x\"},\"y\":{\"field\":\"y\"}},\"id\":\"1248\",\"type\":\"Line\"},{\"attributes\":{},\"id\":\"1432\",\"type\":\"Selection\"},{\"attributes\":{},\"id\":\"1464\",\"type\":\"Selection\"},{\"attributes\":{\"data_source\":{\"id\":\"1302\",\"type\":\"ColumnDataSource\"},\"glyph\":{\"id\":\"1303\",\"type\":\"Line\"},\"hover_glyph\":null,\"muted_glyph\":null,\"nonselection_glyph\":{\"id\":\"1304\",\"type\":\"Line\"},\"selection_glyph\":null,\"view\":{\"id\":\"1306\",\"type\":\"CDSView\"}},\"id\":\"1305\",\"type\":\"GlyphRenderer\"},{\"attributes\":{\"line_alpha\":0.1,\"line_color\":\"#1f77b4\",\"line_width\":2,\"x\":{\"field\":\"x\"},\"y\":{\"field\":\"y\"}},\"id\":\"1269\",\"type\":\"Line\"},{\"attributes\":{},\"id\":\"1433\",\"type\":\"UnionRenderers\"},{\"attributes\":{},\"id\":\"1465\",\"type\":\"UnionRenderers\"},{\"attributes\":{\"line_color\":\"#0fffa8\",\"line_width\":2,\"x\":{\"field\":\"x\"},\"y\":{\"field\":\"y\"}},\"id\":\"1258\",\"type\":\"Line\"},{\"attributes\":{\"line_color\":\"#d8afa1\",\"line_width\":2,\"x\":{\"field\":\"x\"},\"y\":{\"field\":\"y\"}},\"id\":\"1273\",\"type\":\"Line\"},{\"attributes\":{},\"id\":\"1434\",\"type\":\"Selection\"},{\"attributes\":{},\"id\":\"1466\",\"type\":\"Selection\"},{\"attributes\":{\"callback\":null,\"data\":{\"x\":{\"__ndarray__\":\"AAAAAAAAAAB2gynyWTfwP3aDKfJZNwBAMUU+6wZTCEB2gynyWTcQQFTks24wRRRAMUU+6wZTGEAOpshn3WAcQHaDKfJZNyBA5bNuMEU+IkBU5LNuMEUkQMIU+awbTCZAMUU+6wZTKECgdYMp8lkqQA6myGfdYCxAfdYNpshnLkB2gynyWTcwQK0bTJHPOjFA5bNuMEU+MkAcTJHPukEzQFTks24wRTRAi3zWDaZINUDCFPmsG0w2QPqsG0yRTzdAMUU+6wZTOEBo3WCKfFY5QKB1gynyWTpA1w2myGddO0AOpshn3WA8QEY+6wZTZD1AfdYNpshnPkC1bjBFPms/QHaDKfJZN0BAks+6wRS5QECtG0yRzzpBQMln3WCKvEFA5bNuMEU+QkAAAAAAAMBCQBxMkc+6QUNAOJgin3XDQ0BU5LNuMEVEQG8wRT7rxkRAi3zWDaZIRUCnyGfdYMpFQMIU+awbTEZA3mCKfNbNRkD6rBtMkU9HQBX5rBtM0UdAMUU+6wZTSEBNkc+6wdRIQGjdYIp8VklAhCnyWTfYSUCgdYMp8llKQLvBFPms20pA1w2myGddS0DzWTeYIt9LQA6myGfdYExAKvJZN5jiTEBGPusGU2RNQGKKfNYN5k1AfdYNpshnTkCZIp91g+lOQLVuMEU+a09A0LrBFPnsT0B2gynyWTdQQIQp8lk3eFBAks+6wRS5UECgdYMp8vlQQK0bTJHPOlFAu8EU+ax7UUDJZ91girxRQNcNpshn/VFA5bNuMEU+UkDzWTeYIn9SQAAAAAAAwFJA\",\"dtype\":\"float64\",\"shape\":[75]},\"y\":{\"__ndarray__\":\"AAAAAAAAAACkrDQ1W80bQNt9Wo3LVQ9AdseMkCre4T95LQhZSb+yP825wkv5toI/oj2RisMSUj82D4Q/8AshPyUIrEnalu8+08Q7FD7evD4z7dv1/heKPueHWd9UYVc+41Q9sYjMJD6qtKTZS2TyPeyoSYsTL8A92O77pflcjD2JekW73MBYPcQ/Uni6iSU9Zf928gqw8jzbF9dJziXAPJ2+w3Kv14s8uimecgyNVzwAWF05QiEmPDZC6cYKOPQ7REcpgWP2wjsmwQYgQZ6UOwhYarnSLRk7kt0+gQNEYbvuW9b42js6O8Jxi3wBATG7KBJV2FblE7uR98zbFYsSO7qJ13V8m+66hCVoU3hW3rrk7QFV1NTzuviV8BwB+aW6lKxHvGjlgrp8yMcmS86XOnIhPTbiNqO6oW8MS9P+sDrhb4ba/ZSOOn2R3O7X24u64CkjOdABOTpq0J9qOYlhugSXIM9Wyl86sPM+d/CtN7qwQ2AwMJkkOthexdaXTx+6wvtx7d2oQ7ryjs+6eyxFOqANWJoEa/I5UnUEAta2CzreTjraRZ3oOZg4aoSiFM25a+KkUYlTgLnmkyYOBAtvOU5P1P39AWo5cJIfS9pRYDnSt7DDWJdSOZfDO63ViUk5YBGXwrx3RDmn231NwCc6Of5WLqNu0zI5sFjlbUDfMDlNdKb3lwMpOdb6DZb6kSA5u4WkuKgKHTle5F10BO8YOS8/7EPO9RE5ZKDp5mHdDDnVB7plN34KOcfHzGfFGgU5TpGJ2F+QADkUSaAmftD9OCPlQ/w3ffs4\",\"dtype\":\"float64\",\"shape\":[75]}},\"selected\":{\"id\":\"1420\",\"type\":\"Selection\"},\"selection_policy\":{\"id\":\"1421\",\"type\":\"UnionRenderers\"}},\"id\":\"1237\",\"type\":\"ColumnDataSource\"},{\"attributes\":{\"data_source\":{\"id\":\"1267\",\"type\":\"ColumnDataSource\"},\"glyph\":{\"id\":\"1268\",\"type\":\"Line\"},\"hover_glyph\":null,\"muted_glyph\":null,\"nonselection_glyph\":{\"id\":\"1269\",\"type\":\"Line\"},\"selection_glyph\":null,\"view\":{\"id\":\"1271\",\"type\":\"CDSView\"}},\"id\":\"1270\",\"type\":\"GlyphRenderer\"}],\"root_ids\":[\"1163\"]},\"title\":\"Bokeh Application\",\"version\":\"1.4.0\"}};\n",
       "  var render_items = [{\"docid\":\"b32d04a2-110f-46ee-ae99-dbb448130642\",\"roots\":{\"1163\":\"198e6c39-97b8-4117-9974-890ed7869537\"}}];\n",
       "  root.Bokeh.embed.embed_items_notebook(docs_json, render_items);\n",
       "\n",
       "  }\n",
       "  if (root.Bokeh !== undefined) {\n",
       "    embed_document(root);\n",
       "  } else {\n",
       "    var attempts = 0;\n",
       "    var timer = setInterval(function(root) {\n",
       "      if (root.Bokeh !== undefined) {\n",
       "        clearInterval(timer);\n",
       "        embed_document(root);\n",
       "      } else {\n",
       "        attempts++;\n",
       "        if (attempts > 100) {\n",
       "          clearInterval(timer);\n",
       "          console.log(\"Bokeh: ERROR: Unable to run BokehJS code because BokehJS library is missing\");\n",
       "        }\n",
       "      }\n",
       "    }, 10, root)\n",
       "  }\n",
       "})(window);"
      ],
      "application/vnd.bokehjs_exec.v0+json": ""
     },
     "metadata": {
      "application/vnd.bokehjs_exec.v0+json": {
       "id": "1163"
      }
     },
     "output_type": "display_data"
    }
   ],
   "source": [
    "\n",
    "p1 = bokeh.plotting.figure(width = 475, height = 350, title = 'Reduced Model 5',\n",
    "                             x_axis_label = 'Time (hrs)',\n",
    "                             y_axis_label = 'Concentration (mM)')\n",
    "#colors = ['#66c2a5','#fc8d62','#8da0cb','#e78ac3']\n",
    "colors = colorcet.b_glasbey_category10\n",
    "#colors = colorcet.glasbey_cool\n",
    "for i in range(len(sol[:,0])):\n",
    "    if i == 38:\n",
    "        break\n",
    "    p1.line(timepoints_ode, sol[:,i], line_width = 2, color = colors[i])\n",
    "# p.line(timepoints_ode, sol[:,1],line_width = 2, legend_label = 'atp', color = colors[3])\n",
    "# p.line(timepoints_ode, sol[:,2], line_width = 2,legend_label = 'glucose', color = colors[0])\n",
    "# p.line(timepoints_ode, sol[:,34], line_width = 2,legend_label = 'isobutanol', color = colors[1])\n",
    "\n",
    "\n",
    "p.legend.click_policy = 'hide'\n",
    "bokeh.io.show(p1)"
   ]
  },
  {
   "cell_type": "code",
   "execution_count": null,
   "metadata": {},
   "outputs": [],
   "source": []
  },
  {
   "cell_type": "code",
   "execution_count": 9,
   "metadata": {},
   "outputs": [],
   "source": [
    "species_to_remove = [5,6,9,10,13, 14,17,18,23,24,28,29,31,32,\n",
    "                 35,36,39,40,43,44,47,48,51,52,55,56,59,60,63,64]\n"
   ]
  },
  {
   "cell_type": "code",
   "execution_count": 10,
   "metadata": {},
   "outputs": [
    {
     "data": {
      "text/plain": [
       "array([ 0,  1,  2,  3,  4,  7,  8, 11, 12, 15, 16, 19, 20, 21, 22, 25, 26,\n",
       "       27, 30, 33, 34, 37, 38, 41, 42, 45, 46, 49, 50, 53, 54, 57, 58, 61,\n",
       "       62, 65, 66, 67])"
      ]
     },
     "execution_count": 10,
     "metadata": {},
     "output_type": "execute_result"
    }
   ],
   "source": [
    "all_specs = np.arange(0,len(x))\n",
    "#have_specs = all_specs\n",
    "#for remove in species_to_remove:\n",
    "have_specs = np.delete(all_specs,species_to_remove)\n",
    "have_specs"
   ]
  },
  {
   "cell_type": "code",
   "execution_count": 11,
   "metadata": {},
   "outputs": [],
   "source": [
    "enz_list = [0, 7, 11, 15, 19, 25, 30, 33, 37, 41, 45, 49, 53, 57, 61]\n",
    "# indices for gluc, atp, nadp, pi\n",
    "mol_list = [2, 1, 20, 26]"
   ]
  },
  {
   "cell_type": "code",
   "execution_count": 12,
   "metadata": {},
   "outputs": [
    {
     "name": "stdout",
     "output_type": "stream",
     "text": [
      "0\n",
      "7\n",
      "11\n",
      "15\n",
      "19\n",
      "25\n",
      "30\n",
      "33\n",
      "37\n",
      "41\n",
      "45\n",
      "49\n",
      "53\n",
      "57\n",
      "61\n"
     ]
    }
   ],
   "source": [
    "x_init = np.zeros(len(have_specs))\n",
    "for i,num in enumerate(have_specs):\n",
    "    if num in enz_list:\n",
    "        x_init[i] = 0.15\n",
    "        print(num)\n",
    "    elif num in mol_list:\n",
    "        x_init[i] = 30\n",
    "    elif num == 65:\n",
    "        x_init[i] = 2.\n",
    "    else:\n",
    "        #continue\n",
    "        x_init[i] = 0"
   ]
  },
  {
   "cell_type": "code",
   "execution_count": 13,
   "metadata": {},
   "outputs": [
    {
     "data": {
      "text/plain": [
       "array([ 0.15, 30.  , 30.  ,  0.  ,  0.  ,  0.15,  0.  ,  0.15,  0.  ,\n",
       "        0.15,  0.  ,  0.15, 30.  ,  0.  ,  0.  ,  0.15, 30.  ,  0.  ,\n",
       "        0.15,  0.15,  0.  ,  0.15,  0.  ,  0.15,  0.  ,  0.15,  0.  ,\n",
       "        0.15,  0.  ,  0.15,  0.  ,  0.15,  0.  ,  0.15,  0.  ,  2.  ,\n",
       "        0.  ,  0.  ])"
      ]
     },
     "execution_count": 13,
     "metadata": {},
     "output_type": "execute_result"
    }
   ],
   "source": [
    "x_init"
   ]
  },
  {
   "cell_type": "code",
   "execution_count": 14,
   "metadata": {},
   "outputs": [],
   "source": [
    "from sympy import Symbol"
   ]
  },
  {
   "cell_type": "code",
   "execution_count": 15,
   "metadata": {},
   "outputs": [
    {
     "name": "stdout",
     "output_type": "stream",
     "text": [
      "J [[ 2.02109934e-10  1.01054967e-12  1.13686838e-12 ...  0.00000000e+00\n",
      "   0.00000000e+00  0.00000000e+00]\n",
      " [-6.74971876e+03 -4.87485938e+01 -3.37485938e+01 ... -2.25000000e+02\n",
      "   0.00000000e+00  0.00000000e+00]\n",
      " [-6.74971876e+03 -3.37485938e+01 -3.37485938e+01 ...  0.00000000e+00\n",
      "   0.00000000e+00  0.00000000e+00]\n",
      " ...\n",
      " [ 0.00000000e+00 -1.50000000e+01  0.00000000e+00 ... -2.25000000e+02\n",
      "   0.00000000e+00  0.00000000e+00]\n",
      " [ 0.00000000e+00  1.50000000e+01  0.00000000e+00 ...  2.25000000e+02\n",
      "   0.00000000e+00  0.00000000e+00]\n",
      " [ 0.00000000e+00  0.00000000e+00  0.00000000e+00 ...  0.00000000e+00\n",
      "   0.00000000e+00  0.00000000e+00]]\n",
      "38\n",
      "zj [ 1.01054967e-11  2.81225861e-02  2.81225861e-02 -2.81225861e-02\n",
      " -2.81225861e-02  0.00000000e+00  0.00000000e+00  0.00000000e+00\n",
      "  0.00000000e+00  0.00000000e+00  0.00000000e+00  0.00000000e+00\n",
      "  0.00000000e+00  0.00000000e+00  0.00000000e+00  0.00000000e+00\n",
      "  0.00000000e+00  0.00000000e+00  0.00000000e+00  0.00000000e+00\n",
      "  0.00000000e+00  0.00000000e+00  0.00000000e+00  0.00000000e+00\n",
      "  0.00000000e+00  0.00000000e+00  0.00000000e+00  0.00000000e+00\n",
      "  0.00000000e+00  0.00000000e+00  0.00000000e+00  0.00000000e+00\n",
      "  0.00000000e+00  0.00000000e+00  0.00000000e+00  0.00000000e+00\n",
      "  0.00000000e+00  0.00000000e+00]\n",
      "38\n"
     ]
    }
   ],
   "source": [
    "t = Symbol('t')\n",
    "\n",
    "\n",
    "\n",
    "# for reduced model\n",
    "x = update_timescale\n",
    "f = aa.f\n",
    "x_init = x_init\n",
    "param_eval_f = [None]*len(f)\n",
    "\n",
    "func = lambdify([t, x, P], f)\n",
    "func_p = lambdify([t, x], param_eval_f)\n",
    "\n",
    "x_point = x_init\n",
    "# Compute Jacobian at x_point\n",
    "J = compute_J(lambda x, params_values: func(0, x, params_values), x_point, params_values)\n",
    "print('J',J)\n",
    "print(len(J))\n",
    "\n",
    "# Compute sensitivity wrt 2nd parameter at x_point\n",
    "Zj = compute_Zj(lambda x, params_values: func(0, x, params_values), x_point, 1, params_values) \n",
    "print('zj',Zj)\n",
    "print(len(Zj))\n",
    "timepoints = timepoints_ode\n",
    "#SSM = np.reshape(SSM, (len(timepoints), len(params_values), n))"
   ]
  },
  {
   "cell_type": "code",
   "execution_count": 16,
   "metadata": {},
   "outputs": [
    {
     "data": {
      "text/plain": [
       "array([2.02109933727317e-10*enzyme_hex + 1.01054966863659e-12*metabolite_atp + 1.13686837721616e-12*molecule_glucose + 1.01054966863659e-11,\n",
       "       -225.0*enzyme_atpase - 6749.71876171811*enzyme_hex - 48.7485938085906*metabolite_atp - 33.7485938085896*molecule_glucose + 0.0281225860817358,\n",
       "       -6749.71876171821*enzyme_hex - 33.7485938085911*metabolite_atp - 33.7485938085911*molecule_glucose + 0.0281225861019468,\n",
       "       6749.71876171841*enzyme_hex + 33.7485938085921*metabolite_atp + 33.7485938085921*molecule_glucose - 0.0281225860918413,\n",
       "       6749.71876171841*enzyme_hex + 33.7485938085921*metabolite_atp + 33.7485938085921*molecule_glucose - 0.0281225860918413,\n",
       "       0, 0, 0, 0, 0, 0, 0, 0, 0, 0, 0, 0, 0, 0, 0, 0, 0, 0, 0, 0, 0, 0,\n",
       "       0, 0, 0, 0, 0, 0, 0, 0,\n",
       "       -225.000000000004*enzyme_atpase - 15.0000000000003*metabolite_atp,\n",
       "       225.000000000004*enzyme_atpase + 15.0000000000003*metabolite_atp,\n",
       "       0], dtype=object)"
      ]
     },
     "execution_count": 16,
     "metadata": {},
     "output_type": "execute_result"
    }
   ],
   "source": [
    "J@x + Zj"
   ]
  },
  {
   "cell_type": "code",
   "execution_count": 17,
   "metadata": {},
   "outputs": [
    {
     "data": {
      "text/plain": [
       "38"
      ]
     },
     "execution_count": 17,
     "metadata": {},
     "output_type": "execute_result"
    }
   ],
   "source": [
    "len(x)"
   ]
  },
  {
   "cell_type": "code",
   "execution_count": 18,
   "metadata": {},
   "outputs": [
    {
     "name": "stdout",
     "output_type": "stream",
     "text": [
      "xs [[1.50000000e-01 3.00000000e+01 3.00000000e+01 ... 2.00000000e+00\n",
      "  0.00000000e+00 0.00000000e+00]\n",
      " [1.50000000e-01 1.24299063e+00 1.52167784e+00 ... 3.00712782e-02\n",
      "  1.27401047e-01 1.84252768e+00]\n",
      " [1.50000000e-01 2.75750365e+01 7.13496985e-15 ... 1.49567075e-02\n",
      "  1.74113426e+00 2.43909030e-01]\n",
      " ...\n",
      " [1.50000000e-01 3.07690887e-02 3.58383215e-72 ... 1.22423341e-02\n",
      "  1.66091808e-03 1.98609675e+00]\n",
      " [1.50000000e-01 2.78662861e-02 3.35206195e-72 ... 1.22415160e-02\n",
      "  1.50397793e-03 1.98625451e+00]\n",
      " [1.50000000e-01 2.52460676e-02 3.15543352e-72 ... 1.22407754e-02\n",
      "  1.36233808e-03 1.98639689e+00]]\n",
      "k 0\n",
      "k 1\n",
      "k 2\n",
      "k 3\n",
      "k 4\n",
      "k 5\n",
      "k 6\n",
      "k 7\n",
      "k 8\n",
      "k 9\n",
      "k 10\n",
      "k 11\n",
      "k 12\n",
      "k 13\n",
      "k 14\n",
      "k 15\n",
      "k 16\n",
      "k 17\n",
      "k 18\n",
      "k 19\n",
      "k 20\n",
      "k 21\n",
      "k 22\n",
      "k 23\n",
      "k 24\n",
      "k 25\n",
      "k 26\n",
      "k 27\n",
      "k 28\n",
      "k 29\n",
      "k 30\n",
      "k 31\n",
      "k 32\n",
      "k 33\n",
      "k 34\n",
      "k 35\n",
      "k 36\n",
      "k 37\n",
      "k 38\n",
      "k 39\n",
      "k 40\n",
      "k 41\n",
      "k 42\n",
      "k 43\n",
      "k 44\n",
      "k 45\n",
      "k 46\n",
      "k 47\n",
      "k 48\n",
      "k 49\n",
      "k 50\n",
      "k 51\n",
      "k 52\n",
      "k 53\n",
      "k 54\n",
      "k 55\n",
      "k 56\n",
      "k 57\n",
      "k 58\n",
      "k 59\n",
      "k 60\n"
     ]
    },
    {
     "name": "stderr",
     "output_type": "stream",
     "text": [
      "/Users/ankitaroychoudhury/opt/anaconda3/lib/python3.7/site-packages/scipy/integrate/odepack.py:248: ODEintWarning: Excess work done on this call (perhaps wrong Dfun type). Run with full_output = 1 to get quantitative information.\n",
      "  warnings.warn(warning_msg, ODEintWarning)\n"
     ]
    },
    {
     "name": "stdout",
     "output_type": "stream",
     "text": [
      "k 61\n",
      "k 62\n",
      "k 63\n",
      "k 64\n",
      "k 65\n",
      "k 66\n",
      "k 67\n",
      "k 68\n",
      "k 69\n",
      "k 70\n",
      "k 71\n",
      "k 72\n",
      "k 73\n",
      "k 74\n"
     ]
    },
    {
     "name": "stderr",
     "output_type": "stream",
     "text": [
      "/Users/ankitaroychoudhury/opt/anaconda3/lib/python3.7/site-packages/ipykernel_launcher.py:63: RuntimeWarning: invalid value encountered in true_divide\n"
     ]
    }
   ],
   "source": [
    "SSM = compute_SSM(func, sol, params_values, timepoints, normalize = True)  "
   ]
  },
  {
   "cell_type": "code",
   "execution_count": 19,
   "metadata": {},
   "outputs": [],
   "source": [
    "nouts=1\n",
    "C = np.zeros((nouts, 38), dtype = int)\n",
    "C[0][1] = 1 # Let's look at ATP\n",
    "\n",
    "C = C.tolist()"
   ]
  },
  {
   "cell_type": "code",
   "execution_count": 20,
   "metadata": {},
   "outputs": [
    {
     "name": "stdout",
     "output_type": "stream",
     "text": [
      "h\n"
     ]
    }
   ],
   "source": [
    "# from auto_reduce.utils import get_SSM\n",
    "# timepoints_ssm = np.linspace(0,100,10)\n",
    "# sys_ssm = get_SSM(sys, timepoints_ssm)\n",
    "\n",
    "print('h')# len(timepoints) x len(params) x len(states)\n",
    "out_Ss = []\n",
    "for i in range(len(params_values)):\n",
    "    out_Ss.append((np.array(C)@(SSM[:,i,:].T)))\n",
    "out_Ss = np.reshape(np.array(out_Ss), (len(timepoints_ssm), len(params_values), nouts))"
   ]
  },
  {
   "cell_type": "code",
   "execution_count": 21,
   "metadata": {},
   "outputs": [
    {
     "data": {
      "text/plain": [
       "38"
      ]
     },
     "execution_count": 21,
     "metadata": {},
     "output_type": "execute_result"
    }
   ],
   "source": [
    "len(C[0])"
   ]
  },
  {
   "cell_type": "code",
   "execution_count": null,
   "metadata": {},
   "outputs": [],
   "source": []
  },
  {
   "cell_type": "code",
   "execution_count": null,
   "metadata": {},
   "outputs": [],
   "source": []
  },
  {
   "cell_type": "code",
   "execution_count": 22,
   "metadata": {},
   "outputs": [
    {
     "data": {
      "image/png": "[encoded data removed]",
      "text/plain": [
       "<Figure size 432x288 with 2 Axes>"
      ]
     },
     "metadata": {
      "needs_background": "light"
     },
     "output_type": "display_data"
    }
   ],
   "source": [
    "import seaborn as sn\n",
    "for j in range(nouts):\n",
    "   # plt.figure(figsize=(20,10))\n",
    "    sn.heatmap(out_Ss[:,:,j].T)\n",
    "   # plt.draw_if_interactivefigsi\n",
    "    plt.xlabel('Time')\n",
    "    plt.ylabel('Parameters')\n",
    "    plt.title('Sensitivity of output[{0}] with respect to all parameters'.format(j))\n",
    "    plt.show()\n",
    "    "
   ]
  },
  {
   "cell_type": "code",
   "execution_count": null,
   "metadata": {},
   "outputs": [],
   "source": []
  },
  {
   "cell_type": "markdown",
   "metadata": {},
   "source": [
    "## COPY functions\n",
    "---"
   ]
  },
  {
   "cell_type": "code",
   "execution_count": null,
   "metadata": {},
   "outputs": [],
   "source": []
  },
  {
   "cell_type": "code",
   "execution_count": null,
   "metadata": {},
   "outputs": [],
   "source": []
  },
  {
   "cell_type": "code",
   "execution_count": null,
   "metadata": {},
   "outputs": [],
   "source": []
  },
  {
   "cell_type": "code",
   "execution_count": null,
   "metadata": {},
   "outputs": [],
   "source": []
  },
  {
   "cell_type": "markdown",
   "metadata": {},
   "source": [
    "## sensitivity analysis cont"
   ]
  },
  {
   "cell_type": "code",
   "execution_count": 23,
   "metadata": {},
   "outputs": [],
   "source": [
    "import matplotlib.pyplot as plt\n",
    "import tqdm\n"
   ]
  },
  {
   "cell_type": "code",
   "execution_count": 24,
   "metadata": {},
   "outputs": [
    {
     "name": "stdout",
     "output_type": "stream",
     "text": [
      "0\n",
      "1\n"
     ]
    }
   ],
   "source": [
    "from auto_reduce.utils import get_SSM\n",
    "timepoints_ssm = np.linspace(0,100,10)\n",
    "print('0')\n",
    "sys_ssm = get_SSM(sys, timepoints_ssm)\n",
    "print('1')"
   ]
  },
  {
   "cell_type": "code",
   "execution_count": 25,
   "metadata": {},
   "outputs": [
    {
     "name": "stdout",
     "output_type": "stream",
     "text": [
      "<class 'numpy.ndarray'>\n",
      "<class 'auto_reduce.ode.ODE'>\n",
      "<class 'auto_reduce.local_sensitivity.SSM'>\n",
      "<class 'auto_reduce.system.System'>\n",
      "<class 'numpy.ndarray'>\n"
     ]
    }
   ],
   "source": [
    "print(type(sol))\n",
    "print(type(sys_ode))\n",
    "print(type(sys_ssm))\n",
    "print(type(sys))\n",
    "print(type(sol))"
   ]
  },
  {
   "cell_type": "code",
   "execution_count": 26,
   "metadata": {},
   "outputs": [
    {
     "name": "stderr",
     "output_type": "stream",
     "text": [
      "/Users/ankitaroychoudhury/opt/anaconda3/lib/python3.7/site-packages/scipy/integrate/odepack.py:248: ODEintWarning: Excess work done on this call (perhaps wrong Dfun type). Run with full_output = 1 to get quantitative information.\n",
      "  warnings.warn(warning_msg, ODEintWarning)\n"
     ]
    },
    {
     "ename": "TypeError",
     "evalue": "can't convert expression to float",
     "output_type": "error",
     "traceback": [
      "\u001b[0;31m---------------------------------------------------------------------------\u001b[0m",
      "\u001b[0;31mTypeError\u001b[0m                                 Traceback (most recent call last)",
      "\u001b[0;32m<ipython-input-26-37fa12d8ef76>\u001b[0m in \u001b[0;36m<module>\u001b[0;34m\u001b[0m\n\u001b[0;32m----> 1\u001b[0;31m \u001b[0mSs\u001b[0m \u001b[0;34m=\u001b[0m \u001b[0msys_ssm\u001b[0m\u001b[0;34m.\u001b[0m\u001b[0mcompute_SSM\u001b[0m\u001b[0;34m(\u001b[0m\u001b[0;34m)\u001b[0m\u001b[0;34m\u001b[0m\u001b[0;34m\u001b[0m\u001b[0m\n\u001b[0m",
      "\u001b[0;32m~/Documents/MURRAY/ug_murray/autoReduce2/auto_reduce/local_sensitivity.py\u001b[0m in \u001b[0;36mcompute_SSM\u001b[0;34m(self, normalize, **kwargs)\u001b[0m\n\u001b[1;32m    163\u001b[0m             \u001b[0;31m# get the jacobian matrix\u001b[0m\u001b[0;34m\u001b[0m\u001b[0;34m\u001b[0m\u001b[0;34m\u001b[0m\u001b[0m\n\u001b[1;32m    164\u001b[0m             \u001b[0;31m#print(k, J)\u001b[0m\u001b[0;34m\u001b[0m\u001b[0;34m\u001b[0m\u001b[0;34m\u001b[0m\u001b[0m\n\u001b[0;32m--> 165\u001b[0;31m             \u001b[0mJ\u001b[0m \u001b[0;34m=\u001b[0m \u001b[0mself\u001b[0m\u001b[0;34m.\u001b[0m\u001b[0mcompute_J\u001b[0m\u001b[0;34m(\u001b[0m\u001b[0mxs\u001b[0m\u001b[0;34m[\u001b[0m\u001b[0mk\u001b[0m\u001b[0;34m,\u001b[0m\u001b[0;34m:\u001b[0m\u001b[0;34m]\u001b[0m\u001b[0;34m,\u001b[0m \u001b[0;34m**\u001b[0m\u001b[0mkwargs\u001b[0m\u001b[0;34m)\u001b[0m\u001b[0;34m\u001b[0m\u001b[0;34m\u001b[0m\u001b[0m\n\u001b[0m\u001b[1;32m    166\u001b[0m             \u001b[0mprint\u001b[0m\u001b[0;34m(\u001b[0m\u001b[0mk\u001b[0m\u001b[0;34m,\u001b[0m \u001b[0mJ\u001b[0m\u001b[0;34m)\u001b[0m\u001b[0;34m\u001b[0m\u001b[0;34m\u001b[0m\u001b[0m\n\u001b[1;32m    167\u001b[0m             \u001b[0;31m#Solve for S = dx/dp for all x and all P (or theta, the parameters) at time point k\u001b[0m\u001b[0;34m\u001b[0m\u001b[0;34m\u001b[0m\u001b[0;34m\u001b[0m\u001b[0m\n",
      "\u001b[0;32m~/Documents/MURRAY/ug_murray/autoReduce2/auto_reduce/local_sensitivity.py\u001b[0m in \u001b[0;36mcompute_J\u001b[0;34m(self, x, **kwargs)\u001b[0m\n\u001b[1;32m    109\u001b[0m                    \u001b[0;31m# print('f',f)\u001b[0m\u001b[0;34m\u001b[0m\u001b[0;34m\u001b[0m\u001b[0;34m\u001b[0m\u001b[0m\n\u001b[1;32m    110\u001b[0m                    \u001b[0;31m# print('F', F)\u001b[0m\u001b[0;34m\u001b[0m\u001b[0;34m\u001b[0m\u001b[0;34m\u001b[0m\u001b[0m\n\u001b[0;32m--> 111\u001b[0;31m                     \u001b[0mF\u001b[0m\u001b[0;34m[\u001b[0m\u001b[0;36m0\u001b[0m\u001b[0;34m]\u001b[0m \u001b[0;34m=\u001b[0m \u001b[0mf\u001b[0m\u001b[0;34m[\u001b[0m\u001b[0mi\u001b[0m\u001b[0;34m]\u001b[0m\u001b[0;34m\u001b[0m\u001b[0;34m\u001b[0m\u001b[0m\n\u001b[0m\u001b[1;32m    112\u001b[0m                     \u001b[0mvar\u001b[0m\u001b[0;34m[\u001b[0m\u001b[0mj\u001b[0m\u001b[0;34m]\u001b[0m \u001b[0;34m=\u001b[0m \u001b[0mX\u001b[0m\u001b[0;34m[\u001b[0m\u001b[0mj\u001b[0m\u001b[0;34m]\u001b[0m \u001b[0;34m+\u001b[0m \u001b[0mh\u001b[0m\u001b[0;34m\u001b[0m\u001b[0;34m\u001b[0m\u001b[0m\n\u001b[1;32m    113\u001b[0m                     \u001b[0mf\u001b[0m \u001b[0;34m=\u001b[0m \u001b[0mself\u001b[0m\u001b[0;34m.\u001b[0m\u001b[0mevaluate\u001b[0m\u001b[0;34m(\u001b[0m\u001b[0mfun\u001b[0m\u001b[0;34m,\u001b[0m \u001b[0mvar\u001b[0m\u001b[0;34m,\u001b[0m \u001b[0mP\u001b[0m\u001b[0;34m,\u001b[0m \u001b[0mu\u001b[0m\u001b[0;34m)\u001b[0m\u001b[0;34m\u001b[0m\u001b[0;34m\u001b[0m\u001b[0m\n",
      "\u001b[0;32m~/opt/anaconda3/lib/python3.7/site-packages/sympy/core/expr.py\u001b[0m in \u001b[0;36m__float__\u001b[0;34m(self)\u001b[0m\n\u001b[1;32m    323\u001b[0m         \u001b[0;32mif\u001b[0m \u001b[0mresult\u001b[0m\u001b[0;34m.\u001b[0m\u001b[0mis_number\u001b[0m \u001b[0;32mand\u001b[0m \u001b[0mresult\u001b[0m\u001b[0;34m.\u001b[0m\u001b[0mas_real_imag\u001b[0m\u001b[0;34m(\u001b[0m\u001b[0;34m)\u001b[0m\u001b[0;34m[\u001b[0m\u001b[0;36m1\u001b[0m\u001b[0;34m]\u001b[0m\u001b[0;34m:\u001b[0m\u001b[0;34m\u001b[0m\u001b[0;34m\u001b[0m\u001b[0m\n\u001b[1;32m    324\u001b[0m             \u001b[0;32mraise\u001b[0m \u001b[0mTypeError\u001b[0m\u001b[0;34m(\u001b[0m\u001b[0;34m\"can't convert complex to float\"\u001b[0m\u001b[0;34m)\u001b[0m\u001b[0;34m\u001b[0m\u001b[0;34m\u001b[0m\u001b[0m\n\u001b[0;32m--> 325\u001b[0;31m         \u001b[0;32mraise\u001b[0m \u001b[0mTypeError\u001b[0m\u001b[0;34m(\u001b[0m\u001b[0;34m\"can't convert expression to float\"\u001b[0m\u001b[0;34m)\u001b[0m\u001b[0;34m\u001b[0m\u001b[0;34m\u001b[0m\u001b[0m\n\u001b[0m\u001b[1;32m    326\u001b[0m \u001b[0;34m\u001b[0m\u001b[0m\n\u001b[1;32m    327\u001b[0m     \u001b[0;32mdef\u001b[0m \u001b[0m__complex__\u001b[0m\u001b[0;34m(\u001b[0m\u001b[0mself\u001b[0m\u001b[0;34m)\u001b[0m\u001b[0;34m:\u001b[0m\u001b[0;34m\u001b[0m\u001b[0;34m\u001b[0m\u001b[0m\n",
      "\u001b[0;31mTypeError\u001b[0m: can't convert expression to float"
     ]
    }
   ],
   "source": [
    "Ss = sys_ssm.compute_SSM() "
   ]
  },
  {
   "cell_type": "code",
   "execution_count": null,
   "metadata": {},
   "outputs": [],
   "source": []
  },
  {
   "cell_type": "code",
   "execution_count": null,
   "metadata": {},
   "outputs": [],
   "source": []
  },
  {
   "cell_type": "code",
   "execution_count": null,
   "metadata": {},
   "outputs": [],
   "source": []
  },
  {
   "cell_type": "code",
   "execution_count": null,
   "metadata": {},
   "outputs": [],
   "source": []
  },
  {
   "cell_type": "code",
   "execution_count": null,
   "metadata": {},
   "outputs": [],
   "source": [
    "# from auto_reduce.utils import get_SSM\n",
    "# timepoints_ssm = np.linspace(0,100,10)\n",
    "# print('0')\n",
    "# sys_ssm = get_SSM(sys, timepoints_ssm)\n",
    "# print('1')\n",
    "\n",
    "print('2')# len(timepoints) x len(params) x len(states)\n",
    "out_Ss = []\n",
    "for i in tqdm.tqdm(range(len(params))):\n",
    "    out_Ss.append((np.array(C)@(Ss[:,i,:].T)))\n",
    "out_Ss = np.reshape(np.array(out_Ss), (len(timepoints_ssm), len(params), nouts))"
   ]
  },
  {
   "cell_type": "code",
   "execution_count": null,
   "metadata": {},
   "outputs": [],
   "source": [
    "import seaborn as sn\n",
    "for j in range(nouts):\n",
    "    sn.heatmap(out_Ss[:,:,j].T)\n",
    "    plt.xlabel('Time')\n",
    "    plt.ylabel('Parameters')\n",
    "    plt.title('Sensitivity of output[{0}] with respect to all parameters'.format(j))\n",
    "    plt.show()"
   ]
  },
  {
   "cell_type": "code",
   "execution_count": null,
   "metadata": {},
   "outputs": [],
   "source": []
  }
 ],
 "metadata": {
  "kernelspec": {
   "display_name": "Python 3",
   "language": "python",
   "name": "python3"
  },
  "language_info": {
   "codemirror_mode": {
    "name": "ipython",
    "version": 3
   },
   "file_extension": ".py",
   "mimetype": "text/x-python",
   "name": "python",
   "nbconvert_exporter": "python",
   "pygments_lexer": "ipython3",
   "version": "3.7.7"
  }
 },
 "nbformat": 4,
 "nbformat_minor": 4
}
