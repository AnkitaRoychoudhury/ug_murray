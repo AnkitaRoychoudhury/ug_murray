{
 "cells": [
  {
   "cell_type": "markdown",
   "metadata": {},
   "source": [
    "# Reduced Model attempt 15: Lumped Parameters\n",
    "In this notebook, we will take a look at red mod 5 and try to see if we can automate a way to find the lumped parameters that frequently show up."
   ]
  },
  {
   "cell_type": "code",
   "execution_count": null,
   "metadata": {},
   "outputs": [],
   "source": [
    "%run sbml_to_ode2.py"
   ]
  },
  {
   "cell_type": "code",
   "execution_count": null,
   "metadata": {},
   "outputs": [],
   "source": [
    "from auto_reduce import *\n",
    "from auto_reduce.utils import get_ODE\n",
    "import matplotlib.pyplot as plt\n",
    "from auto_reduce.utils import reduce\n",
    "\n",
    "import bokeh.io\n",
    "import bokeh.plotting\n",
    "bokeh.io.output_notebook()\n",
    "from bokeh.layouts import row\n",
    "\n",
    "import colorcet\n",
    "\n",
    "from sympy import *"
   ]
  },
  {
   "cell_type": "code",
   "execution_count": 3,
   "metadata": {},
   "outputs": [],
   "source": [
    "filename = 'CRN.xml'\n",
    "x,f,P,params_values,x_init = sbml_to_ode2(filename)\n",
    "\n",
    "nouts = 1\n",
    "n = len(x)\n",
    "# Make ATP main output\n",
    "C = np.zeros((nouts, n), dtype = int)\n",
    "C[0][1] = 1 \n",
    "C = C.tolist()\n",
    "\n",
    "# Setup system\n",
    "timepoints_ode = np.linspace(0,75,100)\n",
    "\n",
    "error_tol = 100\n",
    "nstates_tol = 1\n",
    "\n",
    "sys = System(x, f, params = P, params_values = params_values, C = C, x_init = x_init)\n",
    "\n",
    "sys_ode = get_ODE(sys, timepoints_ode)\n",
    "sol = sys_ode.solve_system()"
   ]
  },
  {
   "cell_type": "code",
   "execution_count": 4,
   "metadata": {},
   "outputs": [],
   "source": [
    "species_to_remove = [5,6,9,10,13, 14,17,18,23,24,28,29,31,32,\n",
    "                 35,36,39,40,43,44,47,48,51,52,55,56,59,60,63,64]\n",
    "\n",
    "timescale_list = []\n",
    "for i in species_to_remove:\n",
    "    timescale_list.append(x[i])\n",
    "\n",
    "# Get appropriate list of complexes that are not in timescale_list\n",
    "# What you should pass into solve_timescale_separation\n",
    "update_timescale = []\n",
    "for item in x:\n",
    "    if item not in timescale_list:\n",
    "        update_timescale.append(item)    \n",
    "#update_timescale"
   ]
  },
  {
   "cell_type": "code",
   "execution_count": 5,
   "metadata": {},
   "outputs": [
    {
     "name": "stdout",
     "output_type": "stream",
     "text": [
      "attempting to retain : [0, 1, 2, 3, 4, 7, 8, 11, 12, 15, 16, 19, 20, 21, 22, 25, 26, 27, 30, 33, 34, 37, 38, 41, 42, 45, 46, 49, 50, 53, 54, 57, 58, 61, 62, 65, 66, 67]\n"
     ]
    },
    {
     "name": "stderr",
     "output_type": "stream",
     "text": [
      "/Users/ankitaroychoudhury/opt/anaconda3/lib/python3.7/site-packages/sympy/core/relational.py:470: SymPyDeprecationWarning: \n",
      "\n",
      "Eq(expr) with rhs default to 0 has been deprecated since SymPy 1.5.\n",
      "Use Eq(expr, 0) instead. See\n",
      "https://github.com/sympy/sympy/issues/16587 for more info.\n",
      "\n",
      "  deprecated_since_version=\"1.5\"\n"
     ]
    },
    {
     "name": "stdout",
     "output_type": "stream",
     "text": [
      "Successful time-scale separation solution obtained.\n",
      "the ATP error is: 1377.5052417105946\n"
     ]
    }
   ],
   "source": [
    "timepoints_ssm = np.linspace(0,75,100)\n",
    "timepoints_ode = np.linspace(0, 75, 100)\n",
    "sys_reduce = reduce(sys, timepoints_ode, timepoints_ssm)\n",
    "\n",
    "aa,bb = sys_reduce.solve_timescale_separation(update_timescale)\n",
    "print('the ATP error is:',sys_reduce.get_error_metric(aa))\n",
    "\n",
    "sys_ode = get_ODE(aa, timepoints_ode)\n",
    "sol = sys_ode.solve_system()"
   ]
  },
  {
   "cell_type": "code",
   "execution_count": 6,
   "metadata": {},
   "outputs": [
    {
     "data": {
      "text/html": [
       "\n",
       "\n",
       "\n",
       "\n",
       "\n",
       "\n",
       "  <div class=\"bk-root\" id=\"f13e37f9-fc34-41bd-ae95-bc325d7694e9\" data-root-id=\"1002\"></div>\n"
      ]
     },
     "metadata": {},
     "output_type": "display_data"
    },
    {
     "data": {
      "application/javascript": [
       "(function(root) {\n",
       "  function embed_document(root) {\n",
       "    \n",
       "  var docs_json = {\"be29da66-ec72-4462-ac6d-dcb350dd895b\":{\"roots\":{\"references\":[{\"attributes\":{\"below\":[{\"id\":\"1013\"}],\"center\":[{\"id\":\"1016\"},{\"id\":\"1020\"},{\"id\":\"1046\"}],\"left\":[{\"id\":\"1017\"}],\"plot_height\":350,\"plot_width\":475,\"renderers\":[{\"id\":\"1038\"},{\"id\":\"1051\"},{\"id\":\"1065\"}],\"title\":{\"id\":\"1003\"},\"toolbar\":{\"id\":\"1028\"},\"x_range\":{\"id\":\"1005\"},\"x_scale\":{\"id\":\"1009\"},\"y_range\":{\"id\":\"1007\"},\"y_scale\":{\"id\":\"1011\"}},\"id\":\"1002\",\"subtype\":\"Figure\",\"type\":\"Plot\"},{\"attributes\":{},\"id\":\"1011\",\"type\":\"LinearScale\"},{\"attributes\":{\"data_source\":{\"id\":\"1062\"},\"glyph\":{\"id\":\"1063\"},\"hover_glyph\":null,\"muted_glyph\":null,\"nonselection_glyph\":{\"id\":\"1064\"},\"selection_glyph\":null,\"view\":{\"id\":\"1066\"}},\"id\":\"1065\",\"type\":\"GlyphRenderer\"},{\"attributes\":{\"axis_label\":\"Concentration (mM)\",\"formatter\":{\"id\":\"1043\"},\"ticker\":{\"id\":\"1018\"}},\"id\":\"1017\",\"type\":\"LinearAxis\"},{\"attributes\":{\"line_alpha\":0.1,\"line_color\":\"#1f77b3\",\"line_width\":2,\"x\":{\"field\":\"x\"},\"y\":{\"field\":\"y\"}},\"id\":\"1050\",\"type\":\"Line\"},{\"attributes\":{},\"id\":\"1018\",\"type\":\"BasicTicker\"},{\"attributes\":{\"label\":{\"value\":\"atp\"},\"renderers\":[{\"id\":\"1038\"}]},\"id\":\"1047\",\"type\":\"LegendItem\"},{\"attributes\":{},\"id\":\"1014\",\"type\":\"BasicTicker\"},{\"attributes\":{\"source\":{\"id\":\"1035\"}},\"id\":\"1039\",\"type\":\"CDSView\"},{\"attributes\":{\"bottom_units\":\"screen\",\"fill_alpha\":0.5,\"fill_color\":\"lightgrey\",\"left_units\":\"screen\",\"level\":\"overlay\",\"line_alpha\":1.0,\"line_color\":\"black\",\"line_dash\":[4,4],\"line_width\":2,\"render_mode\":\"css\",\"right_units\":\"screen\",\"top_units\":\"screen\"},\"id\":\"1027\",\"type\":\"BoxAnnotation\"},{\"attributes\":{\"axis\":{\"id\":\"1013\"},\"ticker\":null},\"id\":\"1016\",\"type\":\"Grid\"},{\"attributes\":{\"data\":{\"x\":{\"__ndarray__\":\"AAAAAAAAAAA++OCDDz7oPz744IMPPvg/LrrooosuAkA++OCDDz4IQE422WSTTQ5ALrrooosuEkA22WSTTTYVQD744IMPPhhARhdddNFFG0BONtlkk00eQKuqqqqqqiBALrrooosuIkCyySabbLIjQDbZZJNNNiVAuuiiiy66JkA++OCDDz4oQMIHH3zwwSlARhdddNFFK0DKJptsssksQE422WSTTS5A0UUXXXTRL0CrqqqqqqowQG2yySabbDFALrrooosuMkDwwQcffPAyQLLJJptssjNAdNFFF110NEA22WSTTTY1QPjggw8++DVAuuiiiy66NkB88MEHH3w3QD744IMPPjhAAAAAAAAAOUDCBx988ME5QIQPPvjggzpARhdddNFFO0AIH3zwwQc8QMomm2yyyTxAjC666KKLPUBONtlkk00+QA8++OCDDz9A0UUXXXTRP0DKJptssklAQKuqqqqqqkBAjC666KILQUBtsskmm2xBQE422WSTzUFALrrooosuQkAPPvjgg49CQPDBBx988EJA0UUXXXRRQ0CyySabbLJDQJNNNtlkE0RAdNFFF110REBVVVVVVdVEQDbZZJNNNkVAF1100UWXRUD44IMPPvhFQNlkk002WUZAuuiiiy66RkCbbLLJJhtHQHzwwQcffEdAXXTRRRfdR0A++OCDDz5IQB988MEHn0hAAAAAAAAASUDhgw8++GBJQMIHH3zwwUlAo4suuugiSkCEDz744INKQGWTTTbZ5EpARhdddNFFS0Anm2yyyaZLQAgffPDBB0xA6aKLLrpoTEDKJptssslMQKuqqqqqKk1AjC666KKLTUBtsskmm+xNQE422WSTTU5ALrrooouuTkAPPvjggw9PQPDBBx98cE9A0UUXXXTRT0DZZJNNNhlQQMomm2yySVBAuuiiiy56UECrqqqqqqpQQJtssskm21BAjC666KILUUB88MEHHzxRQG2yySabbFFAXXTRRRedUUBONtlkk81RQD744IMP/lFALrrooosuUkAffPDBB19SQA8++OCDj1JAAAAAAADAUkA=\",\"dtype\":\"float64\",\"shape\":[100]},\"y\":{\"__ndarray__\":\"AAAAAAAAAADYQPvE0IqAP7yS/ebXQf8/YSH103MhJUBo5y1tE0kxQNkl6mDCMDRALt44B/meNUD2uEIB3qg2QMlk9sAooTdATv+yMcuaOEADmsLWM5c5QAdkPpQqkjpAL9Oo2NOBO0C8+w2pI1I8QCn7fy2I6zxAQpU1NZRLPUDpHvM8VoM9QDwVO/3moz1AxVV0VOO3PUArcp859MQ9QF08v8oHzj1A9QPIZavUPUDa1/Jsu9k9QJb1sdG43T1A02cGHvPgPUCrJ//NneM9QGf5ZKHb5T1A6NNs58TnPUDc2Ncma+k9QIaj+Vbb6j1ANbz9RR/sPUBE8bOCPu09QPGkPfk+7j1AAVjUXiXvPUBsbQV+9e89QG/LVm2y8D1AzspFt17xPUA/4Qp4/PE9QHsZJXSN8j1AvotxKRPzPUCWvHLcjvM9QM91uqIB9D1A/8oda2z0PUDUg0sE0PQ9QOa36iEt9T1AKwwAYYT1PUB5WVJL1vU9QGNUWFoj9j1AiiB/+Wv2PUDnpSuIsPY9QEGEYFvx9j1AWcYZvy73PUD/THj3aPc9QAqIwkGg9z1ARPM41dT3PUA0bM/jBvg9QJOLzJo2+D1ApnlSI2T4PUDgsNWij/g9QGHbgzu5+D1A8y+dDOH4PUAyicMyB/k9QOjGPsgr+T1Ac6o55U75PUB6mvmfcPk9QNaJBg2R+T1Au/xcP7D5PUAKkY5Izvk9QJ214zjr+T1AWa96Hwf6PUCa9GAKIvo9QOPoqQY8+j1APhOFIFX6PUC0alFjbfo9QJdCrtmE+j1ANIGKjZv6PUDz1DKIsfo9QOWaXtLG+j1A/2k7dNv6PUACcHd17/o9QEvxSt0C+z1A0AaBshX7PUCfmn/7J/s9QH+pTr45+z1ALuGeAEv7PUCes8/HW/s9QCXu9Bhs+z1A3dzb+Hv7PUBGAhBsi/s9QOpw33aa+z1AkcxeHan7PUBSyWxjt/s9QL0btkzF+z1Akjy43NL7PUBu9sMW4Ps9QF4FAf7s+z1AfeFvlfn7PUC/YOzfBfw9QPKZL+AR/D1A9iHSmB38PUA=\",\"dtype\":\"float64\",\"shape\":[100]}},\"selected\":{\"id\":\"1087\"},\"selection_policy\":{\"id\":\"1088\"}},\"id\":\"1062\",\"type\":\"ColumnDataSource\"},{\"attributes\":{\"click_policy\":\"hide\",\"items\":[{\"id\":\"1047\"},{\"id\":\"1061\"},{\"id\":\"1077\"}]},\"id\":\"1046\",\"type\":\"Legend\"},{\"attributes\":{\"source\":{\"id\":\"1062\"}},\"id\":\"1066\",\"type\":\"CDSView\"},{\"attributes\":{\"line_color\":\"#ff7e0e\",\"line_width\":2,\"x\":{\"field\":\"x\"},\"y\":{\"field\":\"y\"}},\"id\":\"1063\",\"type\":\"Line\"},{\"attributes\":{\"overlay\":{\"id\":\"1027\"}},\"id\":\"1023\",\"type\":\"BoxZoomTool\"},{\"attributes\":{\"axis\":{\"id\":\"1017\"},\"dimension\":1,\"ticker\":null},\"id\":\"1020\",\"type\":\"Grid\"},{\"attributes\":{},\"id\":\"1009\",\"type\":\"LinearScale\"},{\"attributes\":{\"line_alpha\":0.1,\"line_color\":\"#ff7e0e\",\"line_width\":2,\"x\":{\"field\":\"x\"},\"y\":{\"field\":\"y\"}},\"id\":\"1064\",\"type\":\"Line\"},{\"attributes\":{\"source\":{\"id\":\"1048\"}},\"id\":\"1052\",\"type\":\"CDSView\"},{\"attributes\":{},\"id\":\"1058\",\"type\":\"Selection\"},{\"attributes\":{\"line_color\":\"#1f77b3\",\"line_width\":2,\"x\":{\"field\":\"x\"},\"y\":{\"field\":\"y\"}},\"id\":\"1049\",\"type\":\"Line\"},{\"attributes\":{\"data\":{\"x\":{\"__ndarray__\":\"AAAAAAAAAAA++OCDDz7oPz744IMPPvg/LrrooosuAkA++OCDDz4IQE422WSTTQ5ALrrooosuEkA22WSTTTYVQD744IMPPhhARhdddNFFG0BONtlkk00eQKuqqqqqqiBALrrooosuIkCyySabbLIjQDbZZJNNNiVAuuiiiy66JkA++OCDDz4oQMIHH3zwwSlARhdddNFFK0DKJptsssksQE422WSTTS5A0UUXXXTRL0CrqqqqqqowQG2yySabbDFALrrooosuMkDwwQcffPAyQLLJJptssjNAdNFFF110NEA22WSTTTY1QPjggw8++DVAuuiiiy66NkB88MEHH3w3QD744IMPPjhAAAAAAAAAOUDCBx988ME5QIQPPvjggzpARhdddNFFO0AIH3zwwQc8QMomm2yyyTxAjC666KKLPUBONtlkk00+QA8++OCDDz9A0UUXXXTRP0DKJptssklAQKuqqqqqqkBAjC666KILQUBtsskmm2xBQE422WSTzUFALrrooosuQkAPPvjgg49CQPDBBx988EJA0UUXXXRRQ0CyySabbLJDQJNNNtlkE0RAdNFFF110REBVVVVVVdVEQDbZZJNNNkVAF1100UWXRUD44IMPPvhFQNlkk002WUZAuuiiiy66RkCbbLLJJhtHQHzwwQcffEdAXXTRRRfdR0A++OCDDz5IQB988MEHn0hAAAAAAAAASUDhgw8++GBJQMIHH3zwwUlAo4suuugiSkCEDz744INKQGWTTTbZ5EpARhdddNFFS0Anm2yyyaZLQAgffPDBB0xA6aKLLrpoTEDKJptssslMQKuqqqqqKk1AjC666KKLTUBtsskmm+xNQE422WSTTU5ALrrooouuTkAPPvjggw9PQPDBBx98cE9A0UUXXXTRT0DZZJNNNhlQQMomm2yySVBAuuiiiy56UECrqqqqqqpQQJtssskm21BAjC666KILUUB88MEHHzxRQG2yySabbFFAXXTRRRedUUBONtlkk81RQD744IMP/lFALrrooosuUkAffPDBB19SQA8++OCDj1JAAAAAAADAUkA=\",\"dtype\":\"float64\",\"shape\":[100]},\"y\":{\"__ndarray__\":\"AAAAAAAAPkBQmmNRTbgDQA4a1Qxk6Ws/7DWw/0Tcnjviln/p8SmFuuqyk9IAJSG6MA3Za0g6vTlloK3Ept1vuWJWWix/H0q5tudXXZ67Jzm/OxRY9kYnucu7JTWblVo5dv+OIqkrBjnw5M7JnEBFOIYFocJF33s3Ko9f/vhuFbfqC33cFSmoNjZbIVWjUyE2/IJCcjBYobVTQ3GhzkWetQTMZ6yl+LW1cwI6yrXd0TVnfVqRfc+qNfyUbf80xWq1N5rHL8k1LTWSO0BD+3QAtYhXaNPWRMq0yuJtjyLGwDQnBGr+yuzEtKY3+LPu6KI0NAaI+WUoezRj/0qRXdJ4NIP/J8gZ6Gs0rKrRs/QxFrRS9cO7c7JBtKoVmZCyFwS0IqPu8aS08TPUwtI2+7Xvs2BVQ7T/ddSzgI5oo5n5tDNYoX+wpxvcM6M9RSVKCkczlLyZnAZgRrNhHHRNcJIBs0LP9/bgBuyynhumDa2wC7NkgvDWdV0EszDZnPIul9gyZNMSlfxuDbN0SEtZwVD0Mr4nPCbH7vmyAFMovtkxhrLitPOukF8LM58/tIm6wgmzAK705GgCgzJZZw4p0q4XM1TBz1/OhRuzwgwqm9QYAbPsfAAr818vM+YZRfhJDyKz/1hlBGBI9bJVFM5nxxrsstMXHnLx5NeyW7ydg5P9x7JA/0plLjq5srct5PV89Kuy8EvNI+kkoLJby9SRv3WTsoNfj0GimoiySLtGIyIYgLL3rW8sq251shGvXvsBlm2ydIUoGpxLZbIPb49rWl5fsoiNYJfnMVeyEdTj06CRUbIIs/8wjbNLsuOFwrolOkaypuwHb8S4QbL/Joa27nY8smbs1KD7uTeyDlthoI5fNLK8DApPjWIxslDl65zFVC2yDUDcS9RUKbIaOhght8Emssy1+WVnjCSypS2qM58hIrJlOpD2vAIgsuleTzY+aB2yBLJGokZCG7JKYhsphikZslMAP70xVhey24XLHHPDFbK7nqGOcmYUskpSrlPuNROycLtMsR0rErKK2O6Ba0ARssCUm2orcRCyrYwivO5yD7I=\",\"dtype\":\"float64\",\"shape\":[100]}},\"selected\":{\"id\":\"1074\"},\"selection_policy\":{\"id\":\"1075\"}},\"id\":\"1048\",\"type\":\"ColumnDataSource\"},{\"attributes\":{\"label\":{\"value\":\"isobutanol\"},\"renderers\":[{\"id\":\"1065\"}]},\"id\":\"1077\",\"type\":\"LegendItem\"},{\"attributes\":{\"data\":{\"x\":{\"__ndarray__\":\"AAAAAAAAAAA++OCDDz7oPz744IMPPvg/LrrooosuAkA++OCDDz4IQE422WSTTQ5ALrrooosuEkA22WSTTTYVQD744IMPPhhARhdddNFFG0BONtlkk00eQKuqqqqqqiBALrrooosuIkCyySabbLIjQDbZZJNNNiVAuuiiiy66JkA++OCDDz4oQMIHH3zwwSlARhdddNFFK0DKJptsssksQE422WSTTS5A0UUXXXTRL0CrqqqqqqowQG2yySabbDFALrrooosuMkDwwQcffPAyQLLJJptssjNAdNFFF110NEA22WSTTTY1QPjggw8++DVAuuiiiy66NkB88MEHH3w3QD744IMPPjhAAAAAAAAAOUDCBx988ME5QIQPPvjggzpARhdddNFFO0AIH3zwwQc8QMomm2yyyTxAjC666KKLPUBONtlkk00+QA8++OCDDz9A0UUXXXTRP0DKJptssklAQKuqqqqqqkBAjC666KILQUBtsskmm2xBQE422WSTzUFALrrooosuQkAPPvjgg49CQPDBBx988EJA0UUXXXRRQ0CyySabbLJDQJNNNtlkE0RAdNFFF110REBVVVVVVdVEQDbZZJNNNkVAF1100UWXRUD44IMPPvhFQNlkk002WUZAuuiiiy66RkCbbLLJJhtHQHzwwQcffEdAXXTRRRfdR0A++OCDDz5IQB988MEHn0hAAAAAAAAASUDhgw8++GBJQMIHH3zwwUlAo4suuugiSkCEDz744INKQGWTTTbZ5EpARhdddNFFS0Anm2yyyaZLQAgffPDBB0xA6aKLLrpoTEDKJptssslMQKuqqqqqKk1AjC666KKLTUBtsskmm+xNQE422WSTTU5ALrrooouuTkAPPvjggw9PQPDBBx98cE9A0UUXXXTRT0DZZJNNNhlQQMomm2yySVBAuuiiiy56UECrqqqqqqpQQJtssskm21BAjC666KILUUB88MEHHzxRQG2yySabbFFAXXTRRRedUUBONtlkk81RQD744IMP/lFALrrooosuUkAffPDBB19SQA8++OCDj1JAAAAAAADAUkA=\",\"dtype\":\"float64\",\"shape\":[100]},\"y\":{\"__ndarray__\":\"AAAAAAAAPkATqBCehB/iP2POcJBR3SxA7fzMxtjKO0B3+/5CRuA7QJkAbsuo4jtAYfE0/y7hO0AA7lbuW907QBOVK1Wo1jtARNxVqQLLO0BlugXorbQ7QO9+dOnmgDtAHXjSK1rrOkAtwyp8Gn05QO1AK5qigTdAQ8K//M57NUAkVNTjqpIzQBIsWJN9zzFA22tKW6YzMECngEoshHstQOU/UYGh1ipAh0Vsyc5yKEByEkCND0omQD1N6KCbViRA44L8gwyTIkAxPDkLcfogQIZ/xlKkEB9ATKuOBF9xHEC3+UpO7w8aQLwBOc785RdA8WQYM+XtFUBJApE2qCIUQJR10vXUfxJAIHKw+3gBEUDhM08IIkgPQOmkrSb3yAxAdmYIP9p/CkDBJRqHy2cIQFUCB2RQfAZAdUltwmO5BECH3Vl7aBsDQAMzpl0dnwFAL4/9w5JBAEB8cfDeQgD+P976ZM7FsPs/8bSfZlSQ+T+7Oh/j+5r3P/4R76UlzfU/reVZD44j9D/6xpf7O5vyP6soR1V5MfE/TOyeMJnH7z/eqVvw5V/tP01VlUG2J+s/Zfo5PEEb6T+uDgtnDzfnP1e130Pzd+U/N1zipALb4z/QD7mnkF3iP5mCNDoo/eA/eJ3vDg9v3z/su84jNhXdP6OlnFX06No/lCArEcbm2D/0iunibgvXP9fN/3v0U9U/vRekEpi90z9hWg4g0kXSP7e5ksNN6tA/TUrF4shRzz9ZgRqtNP/MP1ZKwxI22co/t/ZAhGzcyD8vtw/ouQXHP2eOIGo9UsU/MQUYvE6/wz/AsquaeUrCP3yQfq958cA/853Np21kvz8w3MJTgxW9P+2Xju2g8ro/yxHTb3j4uD8IPLDl+yO3P4/DPnxYcrU/NfwO/vHgsz/K/ueiXm2yP/k2CD1jFbE/jKNNKt+trz9w1oO4NmCtPy/R6wdFPqs/p6xZ4MdEqT+9voWHuXCnP+FSekNPv6U/Yf3Z2/MtpD/mnDT+Q7qiP2r7WJwJYqE/WBW0TDkjoD9hWQhl3fedP46YjOXT1Js/YSaAUhnamT8=\",\"dtype\":\"float64\",\"shape\":[100]}},\"selected\":{\"id\":\"1058\"},\"selection_policy\":{\"id\":\"1059\"}},\"id\":\"1035\",\"type\":\"ColumnDataSource\"},{\"attributes\":{},\"id\":\"1074\",\"type\":\"Selection\"},{\"attributes\":{},\"id\":\"1088\",\"type\":\"UnionRenderers\"},{\"attributes\":{},\"id\":\"1021\",\"type\":\"PanTool\"},{\"attributes\":{},\"id\":\"1087\",\"type\":\"Selection\"},{\"attributes\":{\"data_source\":{\"id\":\"1035\"},\"glyph\":{\"id\":\"1036\"},\"hover_glyph\":null,\"muted_glyph\":null,\"nonselection_glyph\":{\"id\":\"1037\"},\"selection_glyph\":null,\"view\":{\"id\":\"1039\"}},\"id\":\"1038\",\"type\":\"GlyphRenderer\"},{\"attributes\":{\"label\":{\"value\":\"glucose\"},\"renderers\":[{\"id\":\"1051\"}]},\"id\":\"1061\",\"type\":\"LegendItem\"},{\"attributes\":{},\"id\":\"1059\",\"type\":\"UnionRenderers\"},{\"attributes\":{\"active_drag\":\"auto\",\"active_inspect\":\"auto\",\"active_multi\":null,\"active_scroll\":\"auto\",\"active_tap\":\"auto\",\"tools\":[{\"id\":\"1021\"},{\"id\":\"1022\"},{\"id\":\"1023\"},{\"id\":\"1024\"},{\"id\":\"1025\"},{\"id\":\"1026\"}]},\"id\":\"1028\",\"type\":\"Toolbar\"},{\"attributes\":{},\"id\":\"1075\",\"type\":\"UnionRenderers\"},{\"attributes\":{},\"id\":\"1022\",\"type\":\"WheelZoomTool\"},{\"attributes\":{},\"id\":\"1024\",\"type\":\"SaveTool\"},{\"attributes\":{},\"id\":\"1043\",\"type\":\"BasicTickFormatter\"},{\"attributes\":{},\"id\":\"1041\",\"type\":\"BasicTickFormatter\"},{\"attributes\":{\"text\":\"Reduced Model 5\"},\"id\":\"1003\",\"type\":\"Title\"},{\"attributes\":{\"line_color\":\"#d62628\",\"line_width\":2,\"x\":{\"field\":\"x\"},\"y\":{\"field\":\"y\"}},\"id\":\"1036\",\"type\":\"Line\"},{\"attributes\":{\"data_source\":{\"id\":\"1048\"},\"glyph\":{\"id\":\"1049\"},\"hover_glyph\":null,\"muted_glyph\":null,\"nonselection_glyph\":{\"id\":\"1050\"},\"selection_glyph\":null,\"view\":{\"id\":\"1052\"}},\"id\":\"1051\",\"type\":\"GlyphRenderer\"},{\"attributes\":{},\"id\":\"1005\",\"type\":\"DataRange1d\"},{\"attributes\":{},\"id\":\"1026\",\"type\":\"HelpTool\"},{\"attributes\":{},\"id\":\"1025\",\"type\":\"ResetTool\"},{\"attributes\":{\"line_alpha\":0.1,\"line_color\":\"#d62628\",\"line_width\":2,\"x\":{\"field\":\"x\"},\"y\":{\"field\":\"y\"}},\"id\":\"1037\",\"type\":\"Line\"},{\"attributes\":{\"axis_label\":\"Time (hrs)\",\"formatter\":{\"id\":\"1041\"},\"ticker\":{\"id\":\"1014\"}},\"id\":\"1013\",\"type\":\"LinearAxis\"},{\"attributes\":{},\"id\":\"1007\",\"type\":\"DataRange1d\"}],\"root_ids\":[\"1002\"]},\"title\":\"Bokeh Application\",\"version\":\"2.0.2\"}};\n",
       "  var render_items = [{\"docid\":\"be29da66-ec72-4462-ac6d-dcb350dd895b\",\"root_ids\":[\"1002\"],\"roots\":{\"1002\":\"f13e37f9-fc34-41bd-ae95-bc325d7694e9\"}}];\n",
       "  root.Bokeh.embed.embed_items_notebook(docs_json, render_items);\n",
       "\n",
       "  }\n",
       "  if (root.Bokeh !== undefined) {\n",
       "    embed_document(root);\n",
       "  } else {\n",
       "    var attempts = 0;\n",
       "    var timer = setInterval(function(root) {\n",
       "      if (root.Bokeh !== undefined) {\n",
       "        clearInterval(timer);\n",
       "        embed_document(root);\n",
       "      } else {\n",
       "        attempts++;\n",
       "        if (attempts > 100) {\n",
       "          clearInterval(timer);\n",
       "          console.log(\"Bokeh: ERROR: Unable to run BokehJS code because BokehJS library is missing\");\n",
       "        }\n",
       "      }\n",
       "    }, 10, root)\n",
       "  }\n",
       "})(window);"
      ],
      "application/vnd.bokehjs_exec.v0+json": ""
     },
     "metadata": {
      "application/vnd.bokehjs_exec.v0+json": {
       "id": "1002"
      }
     },
     "output_type": "display_data"
    }
   ],
   "source": [
    "p = bokeh.plotting.figure(width = 475, height = 350, title = 'Reduced Model 5',\n",
    "                             x_axis_label = 'Time (hrs)',\n",
    "                             y_axis_label = 'Concentration (mM)')\n",
    "#colors = ['#66c2a5','#fc8d62','#8da0cb','#e78ac3']\n",
    "colors = colorcet.b_glasbey_category10\n",
    "p.line(timepoints_ode, sol[:,1],line_width = 2, legend_label = 'atp', color = colors[3])\n",
    "p.line(timepoints_ode, sol[:,2], line_width = 2,legend_label = 'glucose', color = colors[0])\n",
    "p.line(timepoints_ode, sol[:,34], line_width = 2,legend_label = 'isobutanol', color = colors[1])\n",
    "p.legend.click_policy = 'hide'\n",
    "bokeh.io.show(p)"
   ]
  },
  {
   "cell_type": "markdown",
   "metadata": {},
   "source": [
    "## Functions \n",
    "---"
   ]
  },
  {
   "cell_type": "code",
   "execution_count": 43,
   "metadata": {},
   "outputs": [
    {
     "data": {
      "text/plain": [
       "[-enzyme_hex*metabolite_adp*molecule_g6p*r3_1_k + enzyme_hex*metabolite_atp*molecule_glucose*r0_1_k*r0_k/(r0_1_k + r2_k) - enzyme_hex*metabolite_atp*molecule_glucose*r0_k + enzyme_hex*(metabolite_adp*molecule_g6p*r0_1_k*r3_1_k + metabolite_adp*molecule_g6p*r2_k*r3_1_k + metabolite_atp*molecule_glucose*r0_k*r2_k)/(r0_1_k + r2_k),\n",
       " complex_enzyme_atpase_metabolite_atp*r75_1_k - enzyme_atpase*metabolite_atp*r75_k + enzyme_hex*metabolite_atp*molecule_glucose*r0_1_k*r0_k/(r0_1_k + r2_k) - enzyme_hex*metabolite_atp*molecule_glucose*r0_k + enzyme_pfk*metabolite_atp*molecule_f6p*r10_1_k*r10_k/(r10_1_k + r12_k) - enzyme_pfk*metabolite_atp*molecule_f6p*r10_k - enzyme_pgk*metabolite_atp*r33_1_k*pow(molecule_3pg, 2) + enzyme_pgk*(metabolite_adp*molecule_13bpg*r30_k*r32_k + metabolite_atp*r30_1_k*r33_1_k*pow(molecule_3pg, 2) + metabolite_atp*r32_k*r33_1_k*pow(molecule_3pg, 2))/(r30_1_k + r32_k) - 2.0*enzyme_pyk*r48_1_k*pow(metabolite_atp, 2)*pow(molecule_pyruvate, 2) + 2.0*enzyme_pyk*(r45_1_k*r48_1_k*pow(metabolite_atp, 2)*pow(molecule_pyruvate, 2) + r45_k*r47_k*pow(metabolite_adp, 2)*pow(molecule_pep, 2) + r47_k*r48_1_k*pow(metabolite_atp, 2)*pow(molecule_pyruvate, 2))/(r45_1_k + r47_k),\n",
       " enzyme_hex*metabolite_atp*molecule_glucose*r0_1_k*r0_k/(r0_1_k + r2_k) - enzyme_hex*metabolite_atp*molecule_glucose*r0_k,\n",
       " -enzyme_hex*metabolite_adp*molecule_g6p*r3_1_k + enzyme_hex*(metabolite_adp*molecule_g6p*r0_1_k*r3_1_k + metabolite_adp*molecule_g6p*r2_k*r3_1_k + metabolite_atp*molecule_glucose*r0_k*r2_k)/(r0_1_k + r2_k) + enzyme_pgi*molecule_g6p*r5_1_k*r5_k/(r5_1_k + r7_k) - enzyme_pgi*molecule_g6p*r5_k,\n",
       " complex_enzyme_atpase_metabolite_adp_metabolite_pi*r78_k - enzyme_atpase*metabolite_adp*metabolite_pi*r78_1_k - enzyme_hex*metabolite_adp*molecule_g6p*r3_1_k + enzyme_hex*(metabolite_adp*molecule_g6p*r0_1_k*r3_1_k + metabolite_adp*molecule_g6p*r2_k*r3_1_k + metabolite_atp*molecule_glucose*r0_k*r2_k)/(r0_1_k + r2_k) - enzyme_pfk*metabolite_adp*molecule_f16p*r13_1_k + enzyme_pfk*(metabolite_adp*molecule_f16p*r10_1_k*r13_1_k + metabolite_adp*molecule_f16p*r12_k*r13_1_k + metabolite_atp*molecule_f6p*r10_k*r12_k)/(r10_1_k + r12_k) + enzyme_pgk*metabolite_adp*molecule_13bpg*r30_1_k*r30_k/(r30_1_k + r32_k) - enzyme_pgk*metabolite_adp*molecule_13bpg*r30_k + 2.0*enzyme_pyk*r45_1_k*r45_k*pow(metabolite_adp, 2)*pow(molecule_pep, 2)/(r45_1_k + r47_k) - 2.0*enzyme_pyk*r45_k*pow(metabolite_adp, 2)*pow(molecule_pep, 2),\n",
       " -enzyme_pgi*molecule_f6p*r8_1_k + enzyme_pgi*molecule_g6p*r5_1_k*r5_k/(r5_1_k + r7_k) - enzyme_pgi*molecule_g6p*r5_k + enzyme_pgi*(molecule_f6p*r5_1_k*r8_1_k + molecule_f6p*r7_k*r8_1_k + molecule_g6p*r5_k*r7_k)/(r5_1_k + r7_k),\n",
       " enzyme_pfk*metabolite_atp*molecule_f6p*r10_1_k*r10_k/(r10_1_k + r12_k) - enzyme_pfk*metabolite_atp*molecule_f6p*r10_k - enzyme_pgi*molecule_f6p*r8_1_k + enzyme_pgi*(molecule_f6p*r5_1_k*r8_1_k + molecule_f6p*r7_k*r8_1_k + molecule_g6p*r5_k*r7_k)/(r5_1_k + r7_k),\n",
       " -enzyme_pfk*metabolite_adp*molecule_f16p*r13_1_k + enzyme_pfk*metabolite_atp*molecule_f6p*r10_1_k*r10_k/(r10_1_k + r12_k) - enzyme_pfk*metabolite_atp*molecule_f6p*r10_k + enzyme_pfk*(metabolite_adp*molecule_f16p*r10_1_k*r13_1_k + metabolite_adp*molecule_f16p*r12_k*r13_1_k + metabolite_atp*molecule_f6p*r10_k*r12_k)/(r10_1_k + r12_k),\n",
       " enzyme_ald_tpi*molecule_f16p*r15_1_k*r15_k/(r15_1_k + r17_k) - enzyme_ald_tpi*molecule_f16p*r15_k - enzyme_pfk*metabolite_adp*molecule_f16p*r13_1_k + enzyme_pfk*(metabolite_adp*molecule_f16p*r10_1_k*r13_1_k + metabolite_adp*molecule_f16p*r12_k*r13_1_k + metabolite_atp*molecule_f6p*r10_k*r12_k)/(r10_1_k + r12_k),\n",
       " enzyme_ald_tpi*molecule_f16p*r15_1_k*r15_k/(r15_1_k + r17_k) - enzyme_ald_tpi*molecule_f16p*r15_k - enzyme_ald_tpi*r18_1_k*pow(molecule_g3p, 2) + enzyme_ald_tpi*(molecule_f16p*r15_k*r17_k + r15_1_k*r18_1_k*pow(molecule_g3p, 2) + r17_k*r18_1_k*pow(molecule_g3p, 2))/(r15_1_k + r17_k),\n",
       " -2.0*enzyme_ald_tpi*r18_1_k*pow(molecule_g3p, 2) + 2.0*enzyme_ald_tpi*(molecule_f16p*r15_k*r17_k + r15_1_k*r18_1_k*pow(molecule_g3p, 2) + r17_k*r18_1_k*pow(molecule_g3p, 2))/(r15_1_k + r17_k) + 2.0*enzyme_gapN*r20_1_k*r20_k*pow(metabolite_nadp, 2)*pow(molecule_g3p, 2)/(r20_1_k + r22_k) - 2.0*enzyme_gapN*r20_k*pow(metabolite_nadp, 2)*pow(molecule_g3p, 2) + 2.0*enzyme_mGapDH*metabolite_pi*r25_1_k*r25_k*pow(metabolite_nadp, 2)*pow(molecule_g3p, 2)/(r25_1_k + r27_k) - 2.0*enzyme_mGapDH*metabolite_pi*r25_k*pow(metabolite_nadp, 2)*pow(molecule_g3p, 2),\n",
       " enzyme_gapN*r20_1_k*r20_k*pow(metabolite_nadp, 2)*pow(molecule_g3p, 2)/(r20_1_k + r22_k) - enzyme_gapN*r20_k*pow(metabolite_nadp, 2)*pow(molecule_g3p, 2) - enzyme_gapN*r23_1_k*pow(metabolite_nadph, 2)*pow(molecule_3pg, 2) + enzyme_gapN*(r20_1_k*r23_1_k*pow(metabolite_nadph, 2)*pow(molecule_3pg, 2) + r20_k*r22_k*pow(metabolite_nadp, 2)*pow(molecule_g3p, 2) + r22_k*r23_1_k*pow(metabolite_nadph, 2)*pow(molecule_3pg, 2))/(r20_1_k + r22_k),\n",
       " -enzyme_IlvC*metabolite_nadp*molecule_23dih3mebut*r58_1_k + enzyme_IlvC*(metabolite_nadp*molecule_23dih3mebut*r55_1_k*r58_1_k + metabolite_nadp*molecule_23dih3mebut*r57_k*r58_1_k + metabolite_nadph*molecule_acetolac*r55_k*r57_k)/(r55_1_k + r57_k) + 2.0*enzyme_gapN*r20_1_k*r20_k*pow(metabolite_nadp, 2)*pow(molecule_g3p, 2)/(r20_1_k + r22_k) - 2.0*enzyme_gapN*r20_k*pow(metabolite_nadp, 2)*pow(molecule_g3p, 2) + 2.0*enzyme_mGapDH*metabolite_pi*r25_1_k*r25_k*pow(metabolite_nadp, 2)*pow(molecule_g3p, 2)/(r25_1_k + r27_k) - 2.0*enzyme_mGapDH*metabolite_pi*r25_k*pow(metabolite_nadp, 2)*pow(molecule_g3p, 2) - enzyme_yahk*metabolite_nadp*molecule_isobutanol*r73_1_k + enzyme_yahk*(metabolite_nadp*molecule_isobutanol*r70_1_k*r73_1_k + metabolite_nadp*molecule_isobutanol*r72_k*r73_1_k + metabolite_nadph*molecule_isobutanal*r70_k*r72_k)/(r70_1_k + r72_k),\n",
       " -2.0*enzyme_gapN*r23_1_k*pow(metabolite_nadph, 2)*pow(molecule_3pg, 2) + 2.0*enzyme_gapN*(r20_1_k*r23_1_k*pow(metabolite_nadph, 2)*pow(molecule_3pg, 2) + r20_k*r22_k*pow(metabolite_nadp, 2)*pow(molecule_g3p, 2) + r22_k*r23_1_k*pow(metabolite_nadph, 2)*pow(molecule_3pg, 2))/(r20_1_k + r22_k) - 2.0*enzyme_pgk*metabolite_atp*r33_1_k*pow(molecule_3pg, 2) + 2.0*enzyme_pgk*(metabolite_adp*molecule_13bpg*r30_k*r32_k + metabolite_atp*r30_1_k*r33_1_k*pow(molecule_3pg, 2) + metabolite_atp*r32_k*r33_1_k*pow(molecule_3pg, 2))/(r30_1_k + r32_k) + 2.0*enzyme_pgm*r35_1_k*r35_k*pow(molecule_3pg, 2)/(r35_1_k + r37_k) - 2.0*enzyme_pgm*r35_k*pow(molecule_3pg, 2),\n",
       " enzyme_IlvC*metabolite_nadph*molecule_acetolac*r55_1_k*r55_k/(r55_1_k + r57_k) - enzyme_IlvC*metabolite_nadph*molecule_acetolac*r55_k - 2.0*enzyme_gapN*r23_1_k*pow(metabolite_nadph, 2)*pow(molecule_3pg, 2) + 2.0*enzyme_gapN*(r20_1_k*r23_1_k*pow(metabolite_nadph, 2)*pow(molecule_3pg, 2) + r20_k*r22_k*pow(metabolite_nadp, 2)*pow(molecule_g3p, 2) + r22_k*r23_1_k*pow(metabolite_nadph, 2)*pow(molecule_3pg, 2))/(r20_1_k + r22_k) - 2.0*enzyme_mGapDH*molecule_13bpg*r28_1_k*pow(metabolite_nadph, 2) + 2.0*enzyme_mGapDH*(metabolite_pi*r25_k*r27_k*pow(metabolite_nadp, 2)*pow(molecule_g3p, 2) + molecule_13bpg*r25_1_k*r28_1_k*pow(metabolite_nadph, 2) + molecule_13bpg*r27_k*r28_1_k*pow(metabolite_nadph, 2))/(r25_1_k + r27_k) + enzyme_yahk*metabolite_nadph*molecule_isobutanal*r70_1_k*r70_k/(r70_1_k + r72_k) - enzyme_yahk*metabolite_nadph*molecule_isobutanal*r70_k,\n",
       " enzyme_mGapDH*metabolite_pi*r25_1_k*r25_k*pow(metabolite_nadp, 2)*pow(molecule_g3p, 2)/(r25_1_k + r27_k) - enzyme_mGapDH*metabolite_pi*r25_k*pow(metabolite_nadp, 2)*pow(molecule_g3p, 2) - enzyme_mGapDH*molecule_13bpg*r28_1_k*pow(metabolite_nadph, 2) + enzyme_mGapDH*(metabolite_pi*r25_k*r27_k*pow(metabolite_nadp, 2)*pow(molecule_g3p, 2) + molecule_13bpg*r25_1_k*r28_1_k*pow(metabolite_nadph, 2) + molecule_13bpg*r27_k*r28_1_k*pow(metabolite_nadph, 2))/(r25_1_k + r27_k),\n",
       " complex_enzyme_atpase_metabolite_adp_metabolite_pi*r78_k - enzyme_atpase*metabolite_adp*metabolite_pi*r78_1_k + enzyme_mGapDH*metabolite_pi*r25_1_k*r25_k*pow(metabolite_nadp, 2)*pow(molecule_g3p, 2)/(r25_1_k + r27_k) - enzyme_mGapDH*metabolite_pi*r25_k*pow(metabolite_nadp, 2)*pow(molecule_g3p, 2),\n",
       " -enzyme_mGapDH*molecule_13bpg*r28_1_k*pow(metabolite_nadph, 2) + enzyme_mGapDH*(metabolite_pi*r25_k*r27_k*pow(metabolite_nadp, 2)*pow(molecule_g3p, 2) + molecule_13bpg*r25_1_k*r28_1_k*pow(metabolite_nadph, 2) + molecule_13bpg*r27_k*r28_1_k*pow(metabolite_nadph, 2))/(r25_1_k + r27_k) + enzyme_pgk*metabolite_adp*molecule_13bpg*r30_1_k*r30_k/(r30_1_k + r32_k) - enzyme_pgk*metabolite_adp*molecule_13bpg*r30_k,\n",
       " enzyme_pgk*metabolite_adp*molecule_13bpg*r30_1_k*r30_k/(r30_1_k + r32_k) - enzyme_pgk*metabolite_adp*molecule_13bpg*r30_k - enzyme_pgk*metabolite_atp*r33_1_k*pow(molecule_3pg, 2) + enzyme_pgk*(metabolite_adp*molecule_13bpg*r30_k*r32_k + metabolite_atp*r30_1_k*r33_1_k*pow(molecule_3pg, 2) + metabolite_atp*r32_k*r33_1_k*pow(molecule_3pg, 2))/(r30_1_k + r32_k),\n",
       " enzyme_pgm*r35_1_k*r35_k*pow(molecule_3pg, 2)/(r35_1_k + r37_k) - enzyme_pgm*r35_k*pow(molecule_3pg, 2) - enzyme_pgm*r38_1_k*pow(molecule_2pg, 2) + enzyme_pgm*(r35_1_k*r38_1_k*pow(molecule_2pg, 2) + r35_k*r37_k*pow(molecule_3pg, 2) + r37_k*r38_1_k*pow(molecule_2pg, 2))/(r35_1_k + r37_k),\n",
       " 2.0*enzyme_eno*r40_1_k*r40_k*pow(molecule_2pg, 2)/(r40_1_k + r42_k) - 2.0*enzyme_eno*r40_k*pow(molecule_2pg, 2) - 2.0*enzyme_pgm*r38_1_k*pow(molecule_2pg, 2) + 2.0*enzyme_pgm*(r35_1_k*r38_1_k*pow(molecule_2pg, 2) + r35_k*r37_k*pow(molecule_3pg, 2) + r37_k*r38_1_k*pow(molecule_2pg, 2))/(r35_1_k + r37_k),\n",
       " enzyme_eno*r40_1_k*r40_k*pow(molecule_2pg, 2)/(r40_1_k + r42_k) - enzyme_eno*r40_k*pow(molecule_2pg, 2) - enzyme_eno*r43_1_k*pow(molecule_pep, 2) + enzyme_eno*(r40_1_k*r43_1_k*pow(molecule_pep, 2) + r40_k*r42_k*pow(molecule_2pg, 2) + r42_k*r43_1_k*pow(molecule_pep, 2))/(r40_1_k + r42_k),\n",
       " -2.0*enzyme_eno*r43_1_k*pow(molecule_pep, 2) + 2.0*enzyme_eno*(r40_1_k*r43_1_k*pow(molecule_pep, 2) + r40_k*r42_k*pow(molecule_2pg, 2) + r42_k*r43_1_k*pow(molecule_pep, 2))/(r40_1_k + r42_k) + 2.0*enzyme_pyk*r45_1_k*r45_k*pow(metabolite_adp, 2)*pow(molecule_pep, 2)/(r45_1_k + r47_k) - 2.0*enzyme_pyk*r45_k*pow(metabolite_adp, 2)*pow(molecule_pep, 2),\n",
       " enzyme_pyk*r45_1_k*r45_k*pow(metabolite_adp, 2)*pow(molecule_pep, 2)/(r45_1_k + r47_k) - enzyme_pyk*r45_k*pow(metabolite_adp, 2)*pow(molecule_pep, 2) - enzyme_pyk*r48_1_k*pow(metabolite_atp, 2)*pow(molecule_pyruvate, 2) + enzyme_pyk*(r45_1_k*r48_1_k*pow(metabolite_atp, 2)*pow(molecule_pyruvate, 2) + r45_k*r47_k*pow(metabolite_adp, 2)*pow(molecule_pep, 2) + r47_k*r48_1_k*pow(metabolite_atp, 2)*pow(molecule_pyruvate, 2))/(r45_1_k + r47_k),\n",
       " 2.0*enzyme_alsS*r50_1_k*r50_k*pow(molecule_pyruvate, 2)/(r50_1_k + r52_k) - 2.0*enzyme_alsS*r50_k*pow(molecule_pyruvate, 2) - 2.0*enzyme_pyk*r48_1_k*pow(metabolite_atp, 2)*pow(molecule_pyruvate, 2) + 2.0*enzyme_pyk*(r45_1_k*r48_1_k*pow(metabolite_atp, 2)*pow(molecule_pyruvate, 2) + r45_k*r47_k*pow(metabolite_adp, 2)*pow(molecule_pep, 2) + r47_k*r48_1_k*pow(metabolite_atp, 2)*pow(molecule_pyruvate, 2))/(r45_1_k + r47_k),\n",
       " -enzyme_alsS*molecule_acetolac*r53_1_k + enzyme_alsS*r50_1_k*r50_k*pow(molecule_pyruvate, 2)/(r50_1_k + r52_k) - enzyme_alsS*r50_k*pow(molecule_pyruvate, 2) + enzyme_alsS*(molecule_acetolac*r50_1_k*r53_1_k + molecule_acetolac*r52_k*r53_1_k + r50_k*r52_k*pow(molecule_pyruvate, 2))/(r50_1_k + r52_k),\n",
       " enzyme_IlvC*metabolite_nadph*molecule_acetolac*r55_1_k*r55_k/(r55_1_k + r57_k) - enzyme_IlvC*metabolite_nadph*molecule_acetolac*r55_k - enzyme_alsS*molecule_acetolac*r53_1_k + enzyme_alsS*(molecule_acetolac*r50_1_k*r53_1_k + molecule_acetolac*r52_k*r53_1_k + r50_k*r52_k*pow(molecule_pyruvate, 2))/(r50_1_k + r52_k),\n",
       " -enzyme_IlvC*metabolite_nadp*molecule_23dih3mebut*r58_1_k + enzyme_IlvC*metabolite_nadph*molecule_acetolac*r55_1_k*r55_k/(r55_1_k + r57_k) - enzyme_IlvC*metabolite_nadph*molecule_acetolac*r55_k + enzyme_IlvC*(metabolite_nadp*molecule_23dih3mebut*r55_1_k*r58_1_k + metabolite_nadp*molecule_23dih3mebut*r57_k*r58_1_k + metabolite_nadph*molecule_acetolac*r55_k*r57_k)/(r55_1_k + r57_k),\n",
       " -enzyme_IlvC*metabolite_nadp*molecule_23dih3mebut*r58_1_k + enzyme_IlvC*(metabolite_nadp*molecule_23dih3mebut*r55_1_k*r58_1_k + metabolite_nadp*molecule_23dih3mebut*r57_k*r58_1_k + metabolite_nadph*molecule_acetolac*r55_k*r57_k)/(r55_1_k + r57_k) + enzyme_IlvD*molecule_23dih3mebut*r60_1_k*r60_k/(r60_1_k + r62_k) - enzyme_IlvD*molecule_23dih3mebut*r60_k,\n",
       " enzyme_IlvD*molecule_23dih3mebut*r60_1_k*r60_k/(r60_1_k + r62_k) - enzyme_IlvD*molecule_23dih3mebut*r60_k - enzyme_IlvD*molecule_3me2oxo*r63_1_k + enzyme_IlvD*(molecule_23dih3mebut*r60_k*r62_k + molecule_3me2oxo*r60_1_k*r63_1_k + molecule_3me2oxo*r62_k*r63_1_k)/(r60_1_k + r62_k),\n",
       " -enzyme_IlvD*molecule_3me2oxo*r63_1_k + enzyme_IlvD*(molecule_23dih3mebut*r60_k*r62_k + molecule_3me2oxo*r60_1_k*r63_1_k + molecule_3me2oxo*r62_k*r63_1_k)/(r60_1_k + r62_k) + enzyme_kivD*molecule_3me2oxo*r65_1_k*r65_k/(r65_1_k + r67_k) - enzyme_kivD*molecule_3me2oxo*r65_k,\n",
       " enzyme_kivD*molecule_3me2oxo*r65_1_k*r65_k/(r65_1_k + r67_k) - enzyme_kivD*molecule_3me2oxo*r65_k - enzyme_kivD*molecule_isobutanal*r68_1_k + enzyme_kivD*(molecule_3me2oxo*r65_k*r67_k + molecule_isobutanal*r65_1_k*r68_1_k + molecule_isobutanal*r67_k*r68_1_k)/(r65_1_k + r67_k),\n",
       " -enzyme_kivD*molecule_isobutanal*r68_1_k + enzyme_kivD*(molecule_3me2oxo*r65_k*r67_k + molecule_isobutanal*r65_1_k*r68_1_k + molecule_isobutanal*r67_k*r68_1_k)/(r65_1_k + r67_k) + enzyme_yahk*metabolite_nadph*molecule_isobutanal*r70_1_k*r70_k/(r70_1_k + r72_k) - enzyme_yahk*metabolite_nadph*molecule_isobutanal*r70_k,\n",
       " -enzyme_yahk*metabolite_nadp*molecule_isobutanol*r73_1_k + enzyme_yahk*metabolite_nadph*molecule_isobutanal*r70_1_k*r70_k/(r70_1_k + r72_k) - enzyme_yahk*metabolite_nadph*molecule_isobutanal*r70_k + enzyme_yahk*(metabolite_nadp*molecule_isobutanol*r70_1_k*r73_1_k + metabolite_nadp*molecule_isobutanol*r72_k*r73_1_k + metabolite_nadph*molecule_isobutanal*r70_k*r72_k)/(r70_1_k + r72_k),\n",
       " -enzyme_yahk*metabolite_nadp*molecule_isobutanol*r73_1_k + enzyme_yahk*(metabolite_nadp*molecule_isobutanol*r70_1_k*r73_1_k + metabolite_nadp*molecule_isobutanol*r72_k*r73_1_k + metabolite_nadph*molecule_isobutanal*r70_k*r72_k)/(r70_1_k + r72_k),\n",
       " complex_enzyme_atpase_metabolite_adp_metabolite_pi*r78_k + complex_enzyme_atpase_metabolite_atp*r75_1_k - enzyme_atpase*metabolite_adp*metabolite_pi*r78_1_k - enzyme_atpase*metabolite_atp*r75_k,\n",
       " -complex_enzyme_atpase_metabolite_atp*r75_1_k - complex_enzyme_atpase_metabolite_atp*r77_k + enzyme_atpase*metabolite_atp*r75_k,\n",
       " -complex_enzyme_atpase_metabolite_adp_metabolite_pi*r78_k + complex_enzyme_atpase_metabolite_atp*r77_k + enzyme_atpase*metabolite_adp*metabolite_pi*r78_1_k]"
      ]
     },
     "execution_count": 43,
     "metadata": {},
     "output_type": "execute_result"
    }
   ],
   "source": [
    "aa.f"
   ]
  },
  {
   "cell_type": "code",
   "execution_count": null,
   "metadata": {},
   "outputs": [],
   "source": [
    "aa.f"
   ]
  },
  {
   "cell_type": "code",
   "execution_count": null,
   "metadata": {},
   "outputs": [],
   "source": [
    "ok = str(aa.f[0])\n",
    "ok"
   ]
  },
  {
   "cell_type": "markdown",
   "metadata": {},
   "source": [
    "#### If a + two parameters is detected, get start and end indices and add to a list of possible lumped parameters"
   ]
  },
  {
   "cell_type": "raw",
   "metadata": {},
   "source": [
    "# Test code\n",
    "'k + r' in ok\n",
    "x = list(find_all(ok, 'k + r'))\n",
    "# Try something\n",
    "import re\n",
    "[m.start() for m in re.finditer('k + r',ok)]\n",
    "# Get start of lumped parameters\n",
    "start_index = ok.find('k + r') # 110 # returns the index of k, start of string\n",
    "#ok.index('r0_1_k') # 92\n",
    "ok[114]\n",
    "# Get index of first r (-7 because how long a variable could be)\n",
    "ok.find('r', start_index - 7,start_index)\n",
    "# Get index of last k (+7 because how long a variable could be)\n",
    "ok.find('k', start_index + 4, start_index + 4 + 7)\n",
    "\n",
    "# Get whole thing\n",
    "ok[105:117 + 1]\n",
    "# add this to possible lumped params\n",
    "possible_lumped_params = []\n",
    "\n",
    "possible_lumped_params.append(ok[105:117 + 1])"
   ]
  },
  {
   "cell_type": "code",
   "execution_count": 7,
   "metadata": {},
   "outputs": [],
   "source": [
    "# This function to find all particular substrings in a string (copied from internet)\n",
    "def find_all(a_str, sub):\n",
    "    '''Get all instances of a particular substring in a string'''\n",
    "    start = 0\n",
    "    while True:\n",
    "        start = a_str.find(sub, start)\n",
    "        if start == -1: return\n",
    "        yield start\n",
    "        start += len(sub) # use start += 1 to \n"
   ]
  },
  {
   "cell_type": "code",
   "execution_count": 8,
   "metadata": {},
   "outputs": [],
   "source": [
    "# This function to find all particular substrings in a string (copied from internet)\n",
    "def find_all(a_str, sub):\n",
    "    '''Get all instances of a particular substring in a string'''\n",
    "    start = 0\n",
    "    while True:\n",
    "        start = a_str.find(sub, start)\n",
    "        if start == -1: return\n",
    "        yield start\n",
    "        start += len(sub) # use start += 1 to \n",
    "\n",
    "\n",
    "def find_possible_lumped_params(curr_str, possible_param_str):\n",
    "    '''Get all possible lumped parameters in a particular string'''\n",
    "    possible_lumped_params = []\n",
    "    indices_list = list(find_all(curr_str, possible_param_str))\n",
    "\n",
    "    for start_index in indices_list:\n",
    "        # get index of first r\n",
    "        r_ind = curr_str.find('r', start_index - 7, start_index)\n",
    "        # get index of last k\n",
    "        k_ind = curr_str.find('k', start_index + 4, start_index + 4 + 7)\n",
    "        possible_lumped_params.append(curr_str[r_ind : k_ind + 1])\n",
    "        \n",
    "    return list(set(possible_lumped_params))\n",
    "        "
   ]
  },
  {
   "cell_type": "code",
   "execution_count": 9,
   "metadata": {},
   "outputs": [
    {
     "ename": "NameError",
     "evalue": "name 'ok' is not defined",
     "output_type": "error",
     "traceback": [
      "\u001b[0;31m---------------------------------------------------------------------------\u001b[0m",
      "\u001b[0;31mNameError\u001b[0m                                 Traceback (most recent call last)",
      "\u001b[0;32m<ipython-input-9-c9ce7c1d5d92>\u001b[0m in \u001b[0;36m<module>\u001b[0;34m\u001b[0m\n\u001b[0;32m----> 1\u001b[0;31m \u001b[0mfind_possible_lumped_params\u001b[0m\u001b[0;34m(\u001b[0m\u001b[0mok\u001b[0m\u001b[0;34m,\u001b[0m \u001b[0;34m'k + r'\u001b[0m\u001b[0;34m)\u001b[0m\u001b[0;34m\u001b[0m\u001b[0;34m\u001b[0m\u001b[0m\n\u001b[0m",
      "\u001b[0;31mNameError\u001b[0m: name 'ok' is not defined"
     ]
    }
   ],
   "source": [
    "find_possible_lumped_params(ok, 'k + r')"
   ]
  },
  {
   "cell_type": "code",
   "execution_count": 12,
   "metadata": {},
   "outputs": [],
   "source": [
    "# Get all possible lumped parameters in all the functions\n",
    "all_possible_lumped_params = []\n",
    "for i,_ in enumerate(aa.f):\n",
    "\n",
    "    curr_str = str(aa.f[i])\n",
    "    #print(curr_str)\n",
    "    temp_list = find_possible_lumped_params(curr_str, 'k + r')\n",
    "    #print(temp_list)\n",
    "    for temp in temp_list:\n",
    "        #print(all_possible_lumped_params)\n",
    "        all_possible_lumped_params.append(temp)\n",
    "        \n"
   ]
  },
  {
   "cell_type": "code",
   "execution_count": null,
   "metadata": {},
   "outputs": [],
   "source": [
    "#all_possible_lumped_params"
   ]
  },
  {
   "cell_type": "code",
   "execution_count": 11,
   "metadata": {},
   "outputs": [],
   "source": [
    "from collections import Counter"
   ]
  },
  {
   "cell_type": "code",
   "execution_count": 13,
   "metadata": {},
   "outputs": [
    {
     "data": {
      "text/plain": [
       "Counter({'r0_1_k + r2_k': 5,\n",
       "         'r30_1_k + r32_k': 5,\n",
       "         'r45_1_k + r47_k': 5,\n",
       "         'r10_1_k + r12_k': 5,\n",
       "         'r5_1_k + r7_k': 3,\n",
       "         'r15_1_k + r17_k': 3,\n",
       "         'r17_k + r15_1_k': 2,\n",
       "         'r20_1_k + r22_k': 5,\n",
       "         'r25_1_k + r27_k': 6,\n",
       "         'r70_1_k + r72_k': 5,\n",
       "         'r55_1_k + r57_k': 5,\n",
       "         'r35_1_k + r37_k': 3,\n",
       "         'r40_1_k + r42_k': 3,\n",
       "         'r50_1_k + r52_k': 3,\n",
       "         'r53_1_k + r50_k': 2,\n",
       "         'r60_1_k + r62_k': 3,\n",
       "         'r65_1_k + r67_k': 3})"
      ]
     },
     "execution_count": 13,
     "metadata": {},
     "output_type": "execute_result"
    }
   ],
   "source": [
    "counts = Counter(all_possible_lumped_params)\n",
    "counts"
   ]
  },
  {
   "cell_type": "code",
   "execution_count": 14,
   "metadata": {},
   "outputs": [],
   "source": [
    "counts_list = list(counts)"
   ]
  },
  {
   "cell_type": "markdown",
   "metadata": {},
   "source": [
    "Anything that shows up more than 2 times can be lumped:"
   ]
  },
  {
   "cell_type": "code",
   "execution_count": 15,
   "metadata": {},
   "outputs": [
    {
     "data": {
      "text/plain": [
       "['r0_1_k + r2_k',\n",
       " 'r30_1_k + r32_k',\n",
       " 'r45_1_k + r47_k',\n",
       " 'r10_1_k + r12_k',\n",
       " 'r5_1_k + r7_k',\n",
       " 'r15_1_k + r17_k',\n",
       " 'r20_1_k + r22_k',\n",
       " 'r25_1_k + r27_k',\n",
       " 'r70_1_k + r72_k',\n",
       " 'r55_1_k + r57_k',\n",
       " 'r35_1_k + r37_k',\n",
       " 'r40_1_k + r42_k',\n",
       " 'r50_1_k + r52_k',\n",
       " 'r60_1_k + r62_k',\n",
       " 'r65_1_k + r67_k']"
      ]
     },
     "execution_count": 15,
     "metadata": {},
     "output_type": "execute_result"
    }
   ],
   "source": [
    "# Remove anything with 2\n",
    "counts_list.remove('r17_k + r15_1_k')\n",
    "counts_list.remove('r53_1_k + r50_k')\n",
    "counts_list"
   ]
  },
  {
   "cell_type": "code",
   "execution_count": 40,
   "metadata": {},
   "outputs": [
    {
     "data": {
      "text/plain": [
       "{'r0_1_k + r2_k': 'a',\n",
       " 'r30_1_k + r32_k': 'b',\n",
       " 'r45_1_k + r47_k': 'c',\n",
       " 'r10_1_k + r12_k': 'd',\n",
       " 'r5_1_k + r7_k': 'e',\n",
       " 'r15_1_k + r17_k': 'f',\n",
       " 'r20_1_k + r22_k': 'g',\n",
       " 'r25_1_k + r27_k': 'h',\n",
       " 'r70_1_k + r72_k': 'i',\n",
       " 'r55_1_k + r57_k': 'j',\n",
       " 'r35_1_k + r37_k': 'k',\n",
       " 'r40_1_k + r42_k': 'l',\n",
       " 'r50_1_k + r52_k': 'm',\n",
       " 'r60_1_k + r62_k': 'n',\n",
       " 'r65_1_k + r67_k': 'o'}"
      ]
     },
     "execution_count": 40,
     "metadata": {},
     "output_type": "execute_result"
    }
   ],
   "source": [
    "# Make a dictionary with keys = counts_list, values = name of lumped parameter\n",
    "lumped_dict = {}\n",
    "alpha = ['a', 'b', 'c', 'd', 'e', 'f', 'g', 'h', 'i', 'j', 'k', 'l', 'm', 'n', 'o',]# 'ba', 'bb']\n",
    "\n",
    "for j,item in enumerate(counts_list):\n",
    "    lumped_dict[item] = alpha[j]\n",
    "    \n",
    "lumped_dict"
   ]
  },
  {
   "cell_type": "code",
   "execution_count": 17,
   "metadata": {},
   "outputs": [],
   "source": [
    "# Replace every instance of the keys (in aa.f) with the appropriate values\n",
    "new_funcs = []\n",
    "for i,_ in enumerate(aa.f):\n",
    "    curr_str = str(aa.f[i])\n",
    "    for j,replace in enumerate(counts_list):\n",
    "        if replace in curr_str:\n",
    "            #print(replace, alpha[j])\n",
    "            curr_str = curr_str.replace(replace,alpha[j])\n",
    "            #print(curr_str)\n",
    "            #new_funcs.append(curr_str)\n",
    "    new_funcs.append(curr_str)\n",
    "            \n",
    "            #new_funcs.append(curr_str)\n",
    "            \n",
    "    \n",
    "        "
   ]
  },
  {
   "cell_type": "code",
   "execution_count": 18,
   "metadata": {},
   "outputs": [
    {
     "data": {
      "text/plain": [
       "'-enzyme_hex*metabolite_adp*molecule_g6p*r3_1_k + enzyme_hex*metabolite_atp*molecule_glucose*r0_1_k*r0_k/(a) - enzyme_hex*metabolite_atp*molecule_glucose*r0_k + enzyme_hex*(metabolite_adp*molecule_g6p*r0_1_k*r3_1_k + metabolite_adp*molecule_g6p*r2_k*r3_1_k + metabolite_atp*molecule_glucose*r0_k*r2_k)/(a)'"
      ]
     },
     "execution_count": 18,
     "metadata": {},
     "output_type": "execute_result"
    }
   ],
   "source": [
    "new_funcs[0]"
   ]
  },
  {
   "cell_type": "code",
   "execution_count": null,
   "metadata": {},
   "outputs": [],
   "source": []
  },
  {
   "cell_type": "code",
   "execution_count": null,
   "metadata": {},
   "outputs": [],
   "source": []
  },
  {
   "cell_type": "code",
   "execution_count": null,
   "metadata": {},
   "outputs": [],
   "source": []
  },
  {
   "cell_type": "code",
   "execution_count": null,
   "metadata": {},
   "outputs": [],
   "source": []
  },
  {
   "cell_type": "code",
   "execution_count": null,
   "metadata": {},
   "outputs": [],
   "source": []
  },
  {
   "cell_type": "code",
   "execution_count": null,
   "metadata": {},
   "outputs": [],
   "source": []
  },
  {
   "cell_type": "markdown",
   "metadata": {},
   "source": [
    "#### Get for any k*r item"
   ]
  },
  {
   "cell_type": "code",
   "execution_count": 19,
   "metadata": {},
   "outputs": [],
   "source": [
    "# Get all possible lumped parameters in all the functions\n",
    "all_possible_lumped_params2 = []\n",
    "for i,_ in enumerate(new_funcs):\n",
    "\n",
    "    curr_str = str(new_funcs[i])\n",
    "    #print(curr_str)\n",
    "    temp_list = find_possible_lumped_params(curr_str, 'k*r')\n",
    "    #print(temp_list)\n",
    "    for temp in temp_list:\n",
    "        #print(all_possible_lumped_params)\n",
    "        all_possible_lumped_params2.append(temp)\n",
    "        \n",
    "\n"
   ]
  },
  {
   "cell_type": "code",
   "execution_count": 20,
   "metadata": {},
   "outputs": [],
   "source": [
    "counts2 = Counter(all_possible_lumped_params2)"
   ]
  },
  {
   "cell_type": "code",
   "execution_count": 21,
   "metadata": {},
   "outputs": [],
   "source": [
    "# Remove anything with 2\n",
    "counts_list2 = list(counts2)\n",
    "counts_list2.remove('r5_1_k*r5_k')\n",
    "counts_list2.remove('r7_k*r8_1_k')\n",
    "counts_list2.remove('r5_1_k*r8_1_k')\n",
    "counts_list2.remove('r5_k*r7_k')\n",
    "counts_list2.remove('r15_1_k*r15_k')\n",
    "counts_list2.remove('r17_k*r18_1_k')\n",
    "counts_list2.remove('r15_k*r17_k')\n",
    "counts_list2.remove('r15_1_k*r18_1_k')\n",
    "counts_list2.remove('r35_1_k*r35_k')\n",
    "counts_list2.remove('r35_k*r37_k')\n",
    "counts_list2.remove('r35_1_k*r38_1_k')\n",
    "counts_list2.remove('r37_k*r38_1_k')\n",
    "counts_list2.remove('r40_1_k*r40_k')\n",
    "counts_list2.remove('r40_1_k*r43_1_k')\n",
    "counts_list2.remove('r42_k*r43_1_k')\n",
    "counts_list2.remove('r40_k*r42_k')\n",
    "counts_list2.remove('r50_1_k*r50_k')\n",
    "counts_list2.remove('r50_1_k*r53_1_k')\n",
    "counts_list2.remove('r50_k*r52_k')\n",
    "counts_list2.remove('r52_k*r53_1_k')\n",
    "counts_list2.remove('r60_1_k*r60_k')\n",
    "counts_list2.remove('r62_k*r63_1_k')\n",
    "counts_list2.remove('r60_1_k*r63_1_k')\n",
    "counts_list2.remove('r60_k*r62_k')\n",
    "counts_list2.remove('r65_1_k*r65_k')\n",
    "counts_list2.remove('r65_1_k*r68_1_k')\n",
    "counts_list2.remove('r65_k*r67_k')\n",
    "counts_list2.remove('r67_k*r68_1_k')\n",
    "counts_list2.remove('')\n"
   ]
  },
  {
   "cell_type": "code",
   "execution_count": 22,
   "metadata": {},
   "outputs": [
    {
     "data": {
      "text/plain": [
       "['r0_k*r2_k',\n",
       " 'r0_1_k*r0_k',\n",
       " 'r2_k*r3_1_k',\n",
       " 'r0_1_k*r3_1_k',\n",
       " 'r32_k*r33_1_k',\n",
       " 'r45_1_k*r48_1_k',\n",
       " 'r45_k*r47_k',\n",
       " 'r10_1_k*r10_k',\n",
       " 'r30_1_k*r33_1_k',\n",
       " 'r30_k*r32_k',\n",
       " 'r47_k*r48_1_k',\n",
       " 'r12_k*r13_1_k',\n",
       " 'r10_k*r12_k',\n",
       " 'r30_1_k*r30_k',\n",
       " 'r45_1_k*r45_k',\n",
       " 'r10_1_k*r13_1_k',\n",
       " 'r20_1_k*r20_k',\n",
       " 'r25_1_k*r25_k',\n",
       " 'r22_k*r23_1_k',\n",
       " 'r20_1_k*r23_1_k',\n",
       " 'r20_k*r22_k',\n",
       " 'r57_k*r58_1_k',\n",
       " 'r70_1_k*r73_1_k',\n",
       " 'r55_k*r57_k',\n",
       " 'r72_k*r73_1_k',\n",
       " 'r55_1_k*r58_1_k',\n",
       " 'r70_k*r72_k',\n",
       " 'r25_k*r27_k',\n",
       " 'r27_k*r28_1_k',\n",
       " 'r55_1_k*r55_k',\n",
       " 'r70_1_k*r70_k',\n",
       " 'r25_1_k*r28_1_k']"
      ]
     },
     "execution_count": 22,
     "metadata": {},
     "output_type": "execute_result"
    }
   ],
   "source": [
    "counts_list2"
   ]
  },
  {
   "cell_type": "code",
   "execution_count": 23,
   "metadata": {},
   "outputs": [
    {
     "data": {
      "text/plain": [
       "32"
      ]
     },
     "execution_count": 23,
     "metadata": {},
     "output_type": "execute_result"
    }
   ],
   "source": [
    "len(counts_list2)"
   ]
  },
  {
   "cell_type": "code",
   "execution_count": 27,
   "metadata": {},
   "outputs": [],
   "source": [
    "alpha2 = ['p', 'q', 'r', 's', 't', 'u', 'v', 'w', 'x', 'y', 'z', 'aa', 'ab', 'ac', 'ad', 'ae', 'af', 'ag', 'ah',\n",
    "'ai', 'aj', 'ak', 'al', 'am', 'an', 'ao', 'ap', 'aq', 'ar', 'as', 'at', 'au']# 'av', 'aw', 'ax', 'ay', 'az',\n",
    "#          'bc', 'bd', 'be', 'bf', 'bg', 'bh', 'bi', 'bj', 'bk', 'bl', 'bm', 'bn', 'bo', 'bp', 'bq', 'br',\n",
    "#          'bs', 'bt', 'bu']"
   ]
  },
  {
   "cell_type": "code",
   "execution_count": 28,
   "metadata": {},
   "outputs": [
    {
     "data": {
      "text/plain": [
       "32"
      ]
     },
     "execution_count": 28,
     "metadata": {},
     "output_type": "execute_result"
    }
   ],
   "source": [
    "len(alpha2)"
   ]
  },
  {
   "cell_type": "code",
   "execution_count": 29,
   "metadata": {},
   "outputs": [
    {
     "data": {
      "text/plain": [
       "{'r0_k*r2_k': 'p',\n",
       " 'r0_1_k*r0_k': 'q',\n",
       " 'r2_k*r3_1_k': 'r',\n",
       " 'r0_1_k*r3_1_k': 's',\n",
       " 'r32_k*r33_1_k': 't',\n",
       " 'r45_1_k*r48_1_k': 'u',\n",
       " 'r45_k*r47_k': 'v',\n",
       " 'r10_1_k*r10_k': 'w',\n",
       " 'r30_1_k*r33_1_k': 'x',\n",
       " 'r30_k*r32_k': 'y',\n",
       " 'r47_k*r48_1_k': 'z',\n",
       " 'r12_k*r13_1_k': 'aa',\n",
       " 'r10_k*r12_k': 'ab',\n",
       " 'r30_1_k*r30_k': 'ac',\n",
       " 'r45_1_k*r45_k': 'ad',\n",
       " 'r10_1_k*r13_1_k': 'ae',\n",
       " 'r20_1_k*r20_k': 'af',\n",
       " 'r25_1_k*r25_k': 'ag',\n",
       " 'r22_k*r23_1_k': 'ah',\n",
       " 'r20_1_k*r23_1_k': 'ai',\n",
       " 'r20_k*r22_k': 'aj',\n",
       " 'r57_k*r58_1_k': 'ak',\n",
       " 'r70_1_k*r73_1_k': 'al',\n",
       " 'r55_k*r57_k': 'am',\n",
       " 'r72_k*r73_1_k': 'an',\n",
       " 'r55_1_k*r58_1_k': 'ao',\n",
       " 'r70_k*r72_k': 'ap',\n",
       " 'r25_k*r27_k': 'aq',\n",
       " 'r27_k*r28_1_k': 'ar',\n",
       " 'r55_1_k*r55_k': 'as',\n",
       " 'r70_1_k*r70_k': 'at',\n",
       " 'r25_1_k*r28_1_k': 'au'}"
      ]
     },
     "execution_count": 29,
     "metadata": {},
     "output_type": "execute_result"
    }
   ],
   "source": [
    "lumped_dict2 = {}\n",
    "for j,item in enumerate(counts_list2):\n",
    "    lumped_dict2[item] = alpha2[j]\n",
    "    \n",
    "lumped_dict2"
   ]
  },
  {
   "cell_type": "code",
   "execution_count": 30,
   "metadata": {},
   "outputs": [],
   "source": [
    "# Replace every instance of the keys (in aa.f) with the appropriate values\n",
    "new_funcs2 = []\n",
    "for i,_ in enumerate(new_funcs):\n",
    "    curr_str = str(new_funcs[i])\n",
    "    for j,replace in enumerate(counts_list2):\n",
    "        if replace in curr_str:\n",
    "            #print(replace, alpha[j])\n",
    "            curr_str = curr_str.replace(replace,alpha2[j])\n",
    "            #print(curr_str)\n",
    "            #new_funcs.append(curr_str)\n",
    "    new_funcs2.append(curr_str)\n",
    "            \n",
    "            #new_funcs.append(curr_str)\n",
    "            \n",
    "    \n",
    "        "
   ]
  },
  {
   "cell_type": "code",
   "execution_count": 51,
   "metadata": {},
   "outputs": [
    {
     "data": {
      "text/plain": [
       "'-enzyme_pfk*metabolite_adp*molecule_f16p*r13_1_k + enzyme_pfk*metabolite_atp*molecule_f6p*w/(d) - enzyme_pfk*metabolite_atp*molecule_f6p*r10_k + enzyme_pfk*(metabolite_adp*molecule_f16p*ae + metabolite_adp*molecule_f16p*aa + metabolite_atp*molecule_f6p*ab)/(d)'"
      ]
     },
     "execution_count": 51,
     "metadata": {},
     "output_type": "execute_result"
    }
   ],
   "source": [
    "new_funcs2[7]"
   ]
  },
  {
   "cell_type": "markdown",
   "metadata": {},
   "source": [
    "## Let's count how many parameters we have now"
   ]
  },
  {
   "cell_type": "code",
   "execution_count": 41,
   "metadata": {},
   "outputs": [],
   "source": [
    "new_params_list = alpha + alpha2"
   ]
  },
  {
   "cell_type": "code",
   "execution_count": 33,
   "metadata": {},
   "outputs": [
    {
     "data": {
      "text/plain": [
       "'-2.0*enzyme_ald_tpi*r18_1_k*pow(molecule_g3p, 2) + 2.0*enzyme_ald_tpi*(molecule_f16p*r15_k*r17_k + r15_1_k*r18_1_k*pow(molecule_g3p, 2) + r17_k*r18_1_k*pow(molecule_g3p, 2))/(f) + 2.0*enzyme_gapN*af*pow(metabolite_nadp, 2)*pow(molecule_g3p, 2)/(g) - 2.0*enzyme_gapN*r20_k*pow(metabolite_nadp, 2)*pow(molecule_g3p, 2) + 2.0*enzyme_mGapDH*metabolite_pi*ag*pow(metabolite_nadp, 2)*pow(molecule_g3p, 2)/(h) - 2.0*enzyme_mGapDH*metabolite_pi*r25_k*pow(metabolite_nadp, 2)*pow(molecule_g3p, 2)'"
      ]
     },
     "execution_count": 33,
     "metadata": {},
     "output_type": "execute_result"
    }
   ],
   "source": [
    "new_funcs2[10]"
   ]
  },
  {
   "cell_type": "code",
   "execution_count": 34,
   "metadata": {},
   "outputs": [],
   "source": [
    "def find_remaining_params(curr_str, search_str):\n",
    "    ret_list = []\n",
    "    \n",
    "    indices_list = list(find_all(curr_str, search_str))\n",
    "    #print(indices_list)\n",
    "    \n",
    "    for start_index in indices_list:\n",
    "        # get index of last k\n",
    "        k_ind = curr_str.find('k', start_index, start_index + 8)\n",
    "        \n",
    "        # get index of first r\n",
    "        r_ind = curr_str.find('r', start_index, start_index + 3)\n",
    "        #print(k_ind)\n",
    "        list_add = curr_str[r_ind : k_ind + 1]\n",
    "        \n",
    "        \n",
    "        ret_list.append(list_add)\n",
    "        \n",
    "    if '' in ret_list:\n",
    "        ret_list.remove('')\n",
    "    \n",
    "    \n",
    "    return list(set(ret_list))"
   ]
  },
  {
   "cell_type": "code",
   "execution_count": 35,
   "metadata": {},
   "outputs": [
    {
     "data": {
      "text/plain": [
       "['r42_k', 'r45_k', 'r43_1_k']"
      ]
     },
     "execution_count": 35,
     "metadata": {},
     "output_type": "execute_result"
    }
   ],
   "source": [
    "# test\n",
    "find_remaining_params(new_funcs2[22], '*r')\n",
    "# find_remaining_params(new_funcs2[20], '(r')\n",
    "# find_remaining_params(new_funcs2[22], '+ r')"
   ]
  },
  {
   "cell_type": "code",
   "execution_count": 42,
   "metadata": {},
   "outputs": [
    {
     "name": "stdout",
     "output_type": "stream",
     "text": [
      "the current num of params is: 96\n"
     ]
    }
   ],
   "source": [
    "params_now = []\n",
    "for func in new_funcs2:\n",
    "    for item in find_remaining_params(func, '*r'):\n",
    "        params_now.append(item)\n",
    "    for item in find_remaining_params(func, '(r'):\n",
    "        params_now.append(item)\n",
    "    for item in find_remaining_params(func, '+ r'):\n",
    "        params_now.append(item)\n",
    "    \n",
    "    \n",
    "#     params_now.append(find_remaining_params(func, '*r'))\n",
    "#     params_now.append(find_remaining_params(func, '(r'))\n",
    "#     params_now.append(find_remaining_params(func, '+ r'))\n",
    "    \n",
    "print('the current num of params is:',len(list(set(params_now))) + len(new_params_list))"
   ]
  },
  {
   "cell_type": "markdown",
   "metadata": {},
   "source": [
    "### Get old num of params"
   ]
  },
  {
   "cell_type": "code",
   "execution_count": 37,
   "metadata": {},
   "outputs": [],
   "source": [
    "%run sbml_to_ode2.py"
   ]
  },
  {
   "cell_type": "code",
   "execution_count": 38,
   "metadata": {},
   "outputs": [],
   "source": [
    "x,f,P,params_values,x_init = sbml_to_ode2('CRN.xml')"
   ]
  },
  {
   "cell_type": "code",
   "execution_count": 39,
   "metadata": {},
   "outputs": [
    {
     "name": "stdout",
     "output_type": "stream",
     "text": [
      "the old num of params was: 80\n"
     ]
    }
   ],
   "source": [
    "print('the old num of params was:', len(params_values))"
   ]
  },
  {
   "cell_type": "code",
   "execution_count": null,
   "metadata": {},
   "outputs": [],
   "source": []
  },
  {
   "cell_type": "code",
   "execution_count": null,
   "metadata": {},
   "outputs": [],
   "source": [
    "new_funcs2"
   ]
  },
  {
   "cell_type": "markdown",
   "metadata": {},
   "source": [
    "# Noooo! In this notebook we got the params from 80 to 96 ripppp"
   ]
  },
  {
   "cell_type": "code",
   "execution_count": null,
   "metadata": {},
   "outputs": [],
   "source": [
    "#watermark\n",
    "%reload_ext watermark\n",
    "%watermark -v -p numpy,bokeh,libsbml,sys,auto_reduce,colorcet,jupyterlab"
   ]
  }
 ],
 "metadata": {
  "kernelspec": {
   "display_name": "Python 3",
   "language": "python",
   "name": "python3"
  },
  "language_info": {
   "codemirror_mode": {
    "name": "ipython",
    "version": 3
   },
   "file_extension": ".py",
   "mimetype": "text/x-python",
   "name": "python",
   "nbconvert_exporter": "python",
   "pygments_lexer": "ipython3",
   "version": "3.7.7"
  }
 },
 "nbformat": 4,
 "nbformat_minor": 4
}
