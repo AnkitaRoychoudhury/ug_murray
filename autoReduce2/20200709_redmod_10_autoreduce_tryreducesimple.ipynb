{
 "cells": [
  {
   "cell_type": "markdown",
   "metadata": {},
   "source": [
    "# Reduced Model with autoReduce attempt 10 \n",
    "### Use reduce_simple\n",
    "7.9.2020<br>\n",
    "We will try to run reduce_simple in this model."
   ]
  },
  {
   "cell_type": "code",
   "execution_count": null,
   "metadata": {},
   "outputs": [],
   "source": [
    "%run prep_for_autoreduce.py"
   ]
  },
  {
   "cell_type": "code",
   "execution_count": null,
   "metadata": {},
   "outputs": [],
   "source": [
    "# Define list of indices to remove\n",
    "#i_list = [5,6,9,10,13, 14,17,18,23,24,28,29,31,32,35,36,39,40,43,44,47,48,51,52,55,56,59,60,63,64,66,67]\n",
    "\n",
    "i_list = [5]\n",
    "\n",
    "# Get appropriate list of complexes with indices in i_list\n",
    "timescale_list = []\n",
    "for i in i_list:\n",
    "    #/print(i)\n",
    "    timescale_list.append(x[i])\n",
    "\n",
    "# Get appropriate list of complexes that are not in timescale_list\n",
    "# What you should pass into solve_timescale_separation\n",
    "update_timescale = []\n",
    "for item in x:\n",
    "    if item not in timescale_list:\n",
    "        update_timescale.append(item)\n",
    "        \n",
    "\n",
    "\n",
    "timepoints_ssm = np.linspace(0,72,100)\n",
    "timepoints_ode = np.linspace(0, 72, 100)\n",
    "sys_reduce = reduce(sys, timepoints_ode, timepoints_ssm)"
   ]
  },
  {
   "cell_type": "code",
   "execution_count": null,
   "metadata": {},
   "outputs": [],
   "source": [
    "sys_reduce.nstates_tol_min = 63 # make sure more states than\n",
    "sys_reduce.nstates_tol = 67 # make sure less than \n",
    "results = sys_reduce.reduce_simple()"
   ]
  },
  {
   "cell_type": "code",
   "execution_count": null,
   "metadata": {},
   "outputs": [],
   "source": [
    "#aa,bb = sys_reduce.solve_timescale_separation(update_timescale)"
   ]
  },
  {
   "cell_type": "code",
   "execution_count": null,
   "metadata": {},
   "outputs": [],
   "source": []
  },
  {
   "cell_type": "code",
   "execution_count": null,
   "metadata": {},
   "outputs": [],
   "source": []
  },
  {
   "cell_type": "code",
   "execution_count": null,
   "metadata": {},
   "outputs": [],
   "source": [
    "# try removing everything except atp, isobutanol, glucose, enzymes"
   ]
  },
  {
   "cell_type": "code",
   "execution_count": 1,
   "metadata": {},
   "outputs": [],
   "source": [
    "remove_everything_list = [0,\n",
    " 3,\n",
    " 4,\n",
    " 5,\n",
    " 6,\n",
    " 7,\n",
    " 8,\n",
    " 9,\n",
    " 10,\n",
    " 11,\n",
    " 12,\n",
    " 13,\n",
    " 14,\n",
    " 15,\n",
    " 16,\n",
    " 17,\n",
    " 18,\n",
    " 19,\n",
    " 20,\n",
    " 21,\n",
    " 22,\n",
    " 23,\n",
    " 24,\n",
    " 25,\n",
    " 26,\n",
    " 27,\n",
    " 28,\n",
    " 29,\n",
    " 30,\n",
    " 31,\n",
    " 32,\n",
    " 33,\n",
    " 34,\n",
    " 35,\n",
    " 36,\n",
    " 37,\n",
    " 38,\n",
    " 39,\n",
    " 40,\n",
    " 41,\n",
    " 42,\n",
    " 43,\n",
    " 44,\n",
    " 45,\n",
    " 46,\n",
    " 47,\n",
    " 48,\n",
    " 49,\n",
    " 50,\n",
    " 51,\n",
    " 52,\n",
    " 53,\n",
    " 54,\n",
    " 55,\n",
    " 56,\n",
    " 57,\n",
    " 58,\n",
    " 59,\n",
    " 60,\n",
    " 61,\n",
    " 63,\n",
    " 64,\n",
    " 65,\n",
    " 66,\n",
    " 67]"
   ]
  },
  {
   "cell_type": "code",
   "execution_count": 2,
   "metadata": {},
   "outputs": [],
   "source": [
    "enz_list = [0, 5, 7,9, 11, 15, 19, 25, 30, 33, 37, 41, 45, 49, 53, 57, 61, 65]\n",
    "for e in enz_list:\n",
    "    remove_everything_list.remove(e)"
   ]
  },
  {
   "cell_type": "code",
   "execution_count": 3,
   "metadata": {},
   "outputs": [
    {
     "data": {
      "text/plain": [
       "[3,\n",
       " 4,\n",
       " 6,\n",
       " 8,\n",
       " 10,\n",
       " 12,\n",
       " 13,\n",
       " 14,\n",
       " 16,\n",
       " 17,\n",
       " 18,\n",
       " 20,\n",
       " 21,\n",
       " 22,\n",
       " 23,\n",
       " 24,\n",
       " 26,\n",
       " 27,\n",
       " 28,\n",
       " 29,\n",
       " 31,\n",
       " 32,\n",
       " 34,\n",
       " 35,\n",
       " 36,\n",
       " 38,\n",
       " 39,\n",
       " 40,\n",
       " 42,\n",
       " 43,\n",
       " 44,\n",
       " 46,\n",
       " 47,\n",
       " 48,\n",
       " 50,\n",
       " 51,\n",
       " 52,\n",
       " 54,\n",
       " 55,\n",
       " 56,\n",
       " 58,\n",
       " 59,\n",
       " 60,\n",
       " 63,\n",
       " 64,\n",
       " 66,\n",
       " 67]"
      ]
     },
     "execution_count": 3,
     "metadata": {},
     "output_type": "execute_result"
    }
   ],
   "source": [
    "remove_everything_list"
   ]
  },
  {
   "cell_type": "code",
   "execution_count": 4,
   "metadata": {},
   "outputs": [
    {
     "name": "stdout",
     "output_type": "stream",
     "text": [
      "attempting to retain : [0, 1, 2, 5, 7, 9, 11, 15, 19, 25, 30, 33, 37, 41, 45, 49, 53, 57, 61, 62, 65]\n"
     ]
    },
    {
     "name": "stderr",
     "output_type": "stream",
     "text": [
      "/Users/ankitaroychoudhury/opt/anaconda3/lib/python3.7/site-packages/sympy/core/relational.py:470: SymPyDeprecationWarning: \n",
      "\n",
      "Eq(expr) with rhs default to 0 has been deprecated since SymPy 1.5.\n",
      "Use Eq(expr, 0) instead. See\n",
      "https://github.com/sympy/sympy/issues/16587 for more info.\n",
      "\n",
      "  deprecated_since_version=\"1.5\"\n",
      "/Users/ankitaroychoudhury/autoReduce/auto_reduce/model_reduction.py:368: UserWarning: Check model consistency\n",
      "  warnings.warn('Check model consistency')\n"
     ]
    },
    {
     "name": "stdout",
     "output_type": "stream",
     "text": [
      "The time-scale separation that retains states [0, 1, 2, 5, 7, 9, 11, 15, 19, 25, 30, 33, 37, 41, 45, 49, 53, 57, 61, 62, 65] does not work because the state-variables [x21, x16, x28, x67, x22, x4, x60, x56, x20, x14, x10, x66, x59, x63, x58, x64] appear in the reduced model\n"
     ]
    },
    {
     "ename": "AttributeError",
     "evalue": "'NoneType' object has no attribute 'x'",
     "output_type": "error",
     "traceback": [
      "\u001b[0;31m---------------------------------------------------------------------------\u001b[0m",
      "\u001b[0;31mAttributeError\u001b[0m                            Traceback (most recent call last)",
      "\u001b[0;32m<ipython-input-4-e836ebfb539f>\u001b[0m in \u001b[0;36m<module>\u001b[0;34m\u001b[0m\n\u001b[1;32m     18\u001b[0m \u001b[0;34m\u001b[0m\u001b[0m\n\u001b[1;32m     19\u001b[0m \u001b[0maa\u001b[0m\u001b[0;34m,\u001b[0m\u001b[0mbb\u001b[0m \u001b[0;34m=\u001b[0m \u001b[0msys_reduce\u001b[0m\u001b[0;34m.\u001b[0m\u001b[0msolve_timescale_separation\u001b[0m\u001b[0;34m(\u001b[0m\u001b[0mupdate_timescale\u001b[0m\u001b[0;34m)\u001b[0m\u001b[0;34m\u001b[0m\u001b[0;34m\u001b[0m\u001b[0m\n\u001b[0;32m---> 20\u001b[0;31m \u001b[0msys_reduce\u001b[0m\u001b[0;34m.\u001b[0m\u001b[0mget_error_metric\u001b[0m\u001b[0;34m(\u001b[0m\u001b[0maa\u001b[0m\u001b[0;34m)\u001b[0m\u001b[0;34m\u001b[0m\u001b[0;34m\u001b[0m\u001b[0m\n\u001b[0m",
      "\u001b[0;32m~/autoReduce/auto_reduce/model_reduction.py\u001b[0m in \u001b[0;36mget_error_metric\u001b[0;34m(self, reduced_sys)\u001b[0m\n\u001b[1;32m    143\u001b[0m         \u001b[0my\u001b[0m \u001b[0;34m=\u001b[0m \u001b[0mh\u001b[0m\u001b[0;34m(\u001b[0m\u001b[0mx\u001b[0m\u001b[0;34m,\u001b[0m \u001b[0mP\u001b[0m\u001b[0;34m)\u001b[0m\u001b[0;34m,\u001b[0m \u001b[0my_hat\u001b[0m \u001b[0;34m=\u001b[0m \u001b[0mh_hat\u001b[0m\u001b[0;34m(\u001b[0m\u001b[0mx_hat\u001b[0m\u001b[0;34m,\u001b[0m \u001b[0mP\u001b[0m\u001b[0;34m)\u001b[0m\u001b[0;34m\u001b[0m\u001b[0;34m\u001b[0m\u001b[0m\n\u001b[1;32m    144\u001b[0m         \"\"\"\n\u001b[0;32m--> 145\u001b[0;31m         \u001b[0mreduced_ode\u001b[0m \u001b[0;34m=\u001b[0m \u001b[0mutils\u001b[0m\u001b[0;34m.\u001b[0m\u001b[0mget_ODE\u001b[0m\u001b[0;34m(\u001b[0m\u001b[0mreduced_sys\u001b[0m\u001b[0;34m,\u001b[0m \u001b[0mself\u001b[0m\u001b[0;34m.\u001b[0m\u001b[0mtimepoints_ode\u001b[0m\u001b[0;34m)\u001b[0m\u001b[0;34m\u001b[0m\u001b[0;34m\u001b[0m\u001b[0m\n\u001b[0m\u001b[1;32m    146\u001b[0m         \u001b[0mx_sol\u001b[0m\u001b[0;34m,\u001b[0m \u001b[0m_\u001b[0m\u001b[0;34m,\u001b[0m \u001b[0m_\u001b[0m \u001b[0;34m=\u001b[0m \u001b[0mself\u001b[0m\u001b[0;34m.\u001b[0m\u001b[0mget_solutions\u001b[0m\u001b[0;34m(\u001b[0m\u001b[0;34m)\u001b[0m\u001b[0;34m\u001b[0m\u001b[0;34m\u001b[0m\u001b[0m\n\u001b[1;32m    147\u001b[0m         \u001b[0my\u001b[0m \u001b[0;34m=\u001b[0m \u001b[0mself\u001b[0m\u001b[0;34m.\u001b[0m\u001b[0mC\u001b[0m\u001b[0;34m@\u001b[0m\u001b[0mx_sol\u001b[0m\u001b[0;34m\u001b[0m\u001b[0;34m\u001b[0m\u001b[0m\n",
      "\u001b[0;32m~/autoReduce/auto_reduce/utils.py\u001b[0m in \u001b[0;36mget_ODE\u001b[0;34m(system_obj, timepoints, **kwargs)\u001b[0m\n\u001b[1;32m      7\u001b[0m     \u001b[0mFor\u001b[0m \u001b[0mthe\u001b[0m \u001b[0mgiven\u001b[0m \u001b[0mtimepoints\u001b[0m\u001b[0;34m,\u001b[0m \u001b[0mcreate\u001b[0m \u001b[0man\u001b[0m \u001b[0mODE\u001b[0m \u001b[0;32mclass\u001b[0m \u001b[0mobject\u001b[0m \u001b[0;32mfor\u001b[0m \u001b[0mthis\u001b[0m \u001b[0mSystem\u001b[0m \u001b[0mobject\u001b[0m\u001b[0;34m.\u001b[0m\u001b[0;34m\u001b[0m\u001b[0;34m\u001b[0m\u001b[0m\n\u001b[1;32m      8\u001b[0m     '''\n\u001b[0;32m----> 9\u001b[0;31m     ode_obj = ode.ODE(system_obj.x, system_obj.f, C = system_obj.C, g = system_obj.g, h = system_obj.h, u = system_obj.u,\n\u001b[0m\u001b[1;32m     10\u001b[0m                 \u001b[0mparams\u001b[0m \u001b[0;34m=\u001b[0m \u001b[0msystem_obj\u001b[0m\u001b[0;34m.\u001b[0m\u001b[0mparams\u001b[0m\u001b[0;34m,\u001b[0m \u001b[0mparams_values\u001b[0m \u001b[0;34m=\u001b[0m \u001b[0msystem_obj\u001b[0m\u001b[0;34m.\u001b[0m\u001b[0mparams_values\u001b[0m\u001b[0;34m,\u001b[0m\u001b[0;34m\u001b[0m\u001b[0;34m\u001b[0m\u001b[0m\n\u001b[1;32m     11\u001b[0m                 x_init = system_obj.x_init, timepoints = timepoints, **kwargs)\n",
      "\u001b[0;31mAttributeError\u001b[0m: 'NoneType' object has no attribute 'x'"
     ]
    }
   ],
   "source": [
    "%run prep_for_autoreduce.py\n",
    "curr_list = remove_everything_list\n",
    "timescale_list = []\n",
    "for i in curr_list:\n",
    "    #/print(i)\n",
    "    timescale_list.append(x[i])\n",
    "\n",
    "# Get appropriate list of complexes that are not in timescale_list\n",
    "# What you should pass into solve_timescale_separation\n",
    "update_timescale = []\n",
    "for item in x:\n",
    "    if item not in timescale_list:\n",
    "        update_timescale.append(item)   \n",
    "        \n",
    "timepoints_ssm = np.linspace(0,75,100)\n",
    "timepoints_ode = np.linspace(0, 75, 100)\n",
    "sys_reduce = reduce(sys, timepoints_ode, timepoints_ssm) \n",
    "\n",
    "aa,bb = sys_reduce.solve_timescale_separation(update_timescale)\n",
    "sys_reduce.get_error_metric(aa)"
   ]
  },
  {
   "cell_type": "code",
   "execution_count": 6,
   "metadata": {},
   "outputs": [
    {
     "data": {
      "text/plain": [
       "NoneType"
      ]
     },
     "execution_count": 6,
     "metadata": {},
     "output_type": "execute_result"
    }
   ],
   "source": [
    "type(aa)"
   ]
  },
  {
   "cell_type": "code",
   "execution_count": null,
   "metadata": {},
   "outputs": [],
   "source": []
  }
 ],
 "metadata": {
  "kernelspec": {
   "display_name": "Python 3",
   "language": "python",
   "name": "python3"
  },
  "language_info": {
   "codemirror_mode": {
    "name": "ipython",
    "version": 3
   },
   "file_extension": ".py",
   "mimetype": "text/x-python",
   "name": "python",
   "nbconvert_exporter": "python",
   "pygments_lexer": "ipython3",
   "version": "3.7.7"
  }
 },
 "nbformat": 4,
 "nbformat_minor": 4
}
