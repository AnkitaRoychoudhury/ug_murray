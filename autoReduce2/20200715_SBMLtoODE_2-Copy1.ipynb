{
 "cells": [
  {
   "cell_type": "markdown",
   "metadata": {},
   "source": [
    "# SBML to ODE for autoReduce 2\n",
    "In this notebook, we will return `x`, `f`, and `P` and put it all in a function. <br>\n",
    "7.15.2020 <br>\n",
    "Ankita Roychoudhury\n"
   ]
  },
  {
   "cell_type": "code",
   "execution_count": 3,
   "metadata": {},
   "outputs": [],
   "source": [
    "# imports\n",
    "from libsbml import *\n",
    "import sys\n",
    "import numpy as np\n",
    "from auto_reduce import *\n",
    "from auto_reduce.utils import get_ODE\n",
    "import matplotlib.pyplot as plt\n",
    "from auto_reduce.utils import reduce"
   ]
  },
  {
   "cell_type": "markdown",
   "metadata": {},
   "source": [
    "**What do we want?** <br>\n",
    "Input a SBML file, output `x`, `P`, and `f`. <br>\n",
    "All are returned as sympy objects."
   ]
  },
  {
   "cell_type": "markdown",
   "metadata": {},
   "source": [
    "We will use the generated code function, similar to before. Except we will only return the array of functions and will not plot. We will also add the line `x,f,P = system.load_ODE_model(num_species, num_params)`."
   ]
  },
  {
   "cell_type": "code",
   "execution_count": 13,
   "metadata": {},
   "outputs": [],
   "source": [
    "def generateCodeForFile(filename):\n",
    "  # \n",
    "  # read the SBML from file \n",
    "  # \n",
    "  doc = readSBMLFromFile(filename)\n",
    "  if doc.getNumErrors(LIBSBML_SEV_FATAL):\n",
    "    print('Encountered serious errors while reading file')\n",
    "    print(doc.getErrorLog().toString())\n",
    "    sys.exit(1)\n",
    "    \n",
    "  # clear errors\n",
    "  doc.getErrorLog().clearLog()\n",
    "  \n",
    "  #\n",
    "  # perform conversions\n",
    "  #\n",
    "  props = ConversionProperties()\n",
    "  props.addOption(\"promoteLocalParameters\", True)\n",
    "  \n",
    "  if doc.convert(props) != LIBSBML_OPERATION_SUCCESS: \n",
    "    print('The document could not be converted')\n",
    "    print(doc.getErrorLog().toString())\n",
    "    \n",
    "  props = ConversionProperties()\n",
    "  props.addOption(\"expandInitialAssignments\", True)\n",
    "  \n",
    "  if doc.convert(props) != LIBSBML_OPERATION_SUCCESS: \n",
    "    print('The document could not be converted')\n",
    "    print(doc.getErrorLog().toString())\n",
    "    \n",
    "  props = ConversionProperties()\n",
    "  props.addOption(\"expandFunctionDefinitions\", True)\n",
    "  \n",
    "  if doc.convert(props) != LIBSBML_OPERATION_SUCCESS: \n",
    "    print('The document could not be converted')\n",
    "    print(doc.getErrorLog().toString())\n",
    "    \n",
    "  #\n",
    "  # figure out which species are variable \n",
    "  #\n",
    "  mod = doc.getModel()\n",
    "  variables = {}\n",
    "#  print('params', mod.getNumParameters())\n",
    "\n",
    "  for i in range(mod.getNumSpecies()): \n",
    "     species = mod.getSpecies(i)\n",
    "    # if species.getBoundaryCondition() == True or variables.has_key(species.getId()):\n",
    "     if species.getBoundaryCondition() == True or (species.getId() in variables.keys()):\n",
    "\n",
    "\n",
    "       continue\n",
    "     variables[species.getId()] = []\n",
    "  #print(variables)\n",
    "  \n",
    "  #\n",
    "  # start generating the code by appending to bytearray\n",
    "  #\n",
    "  # Define num_species, num_params here, will save and be used\n",
    "  num_species = mod.getNumSpecies()\n",
    "  num_params = mod.getNumParameters()\n",
    "    \n",
    "    \n",
    "  generated_code = bytearray()\n",
    "  generated_code.extend('from numpy import *\\n'.encode('latin-1'))\n",
    "  generated_code.extend('x,f,P = system.load_ODE_model(num_species, num_params)'.encode('latin-1'))\n",
    "  #generated_code.extend('x = np.ones(num_species)'.encode('latin-1'))\n",
    "\n",
    " # generated_code.extend('from matplotlib.pylab import *\\n'.encode('latin-1'))\n",
    " # generated_code.extend('from matplotlib.pyplot import *\\n'.encode('latin-1'))\n",
    " # generated_code.extend('from scipy.integrate import odeint \\n'.encode('latin-1'))\n",
    "  \n",
    "  generated_code.extend('\\n'.encode('latin-1'))\n",
    "#  generated_code.extend('def simulateModel(t0, tend, numPoints):\\n'.encode('latin-1'))\n",
    "  \n",
    "  # write out compartment values \n",
    "  generated_code.extend('\\n'.encode('latin-1'))\n",
    "  generated_code.extend('#compartments\\n'.encode('latin-1'))\n",
    "  for i in range(mod.getNumCompartments()):\n",
    "    element = mod.getCompartment(i)\n",
    "    generated_code.extend('{0} = {1}\\n'.format(element.getId(), element.getSize()).encode('latin-1'))\n",
    "  \n",
    "  # write out parameter values \n",
    "  generated_code.extend('\\n'.encode('latin-1'))\n",
    "  generated_code.extend('#global parameters\\n'.encode('latin-1'))\n",
    "  for i in range(mod.getNumParameters()):\n",
    "    element = mod.getParameter(i)\n",
    "    generated_code.extend('{0} = {1}\\n'.format(element.getId(), element.getValue()).encode('latin-1'))\n",
    "  \n",
    "  # write out boundary species \n",
    "  generated_code.extend('\\n'.encode('latin-1'))\n",
    "  generated_code.extend('#boundary species\\n'.encode('latin-1'))\n",
    "  for i in range(mod.getNumSpecies()):\n",
    "    element = mod.getSpecies(i)\n",
    "    if element.getBoundaryCondition() == False: \n",
    "      continue \n",
    "    if element.isSetInitialConcentration(): \n",
    "      generated_code.extend('{0} = {1}\\n'.format(element.getId(), element.getInitialConcentration()).encode('latin-1'))\n",
    "    else:\n",
    "      generated_code.extend('{0} = {1}\\n'.format(element.getId(), element.getInitialAmount()).encode('latin-1'))  \n",
    "  \n",
    "  # write derive function\n",
    "  generated_code.extend('\\n'.encode('latin-1'))\n",
    "  #generated_code.extend('  def ode_fun(__Y__, t):\\n'.encode('latin-1'))\n",
    "    \n",
    "   # Set all species equal to a __Y__[i] \n",
    "  for i in range(len(variables.keys())): \n",
    "    generated_code.extend('{0} = x[{1}]\\n'.format(list(variables.keys())[i], i).encode('latin-1'))\n",
    "    \n",
    "  generated_code.extend('\\n'.encode('latin-1'))\n",
    "  \n",
    "  for i in range(mod.getNumReactions()): \n",
    "    reaction = mod.getReaction(i)\n",
    "    kinetics = reaction.getKineticLaw()  \n",
    "    \n",
    "    generated_code.extend('{0} = {1}\\n'.format(reaction.getId(),  kinetics.getFormula()).encode('latin-1'))\n",
    "    \n",
    "    for j in range(reaction.getNumReactants()): \n",
    "      ref = reaction.getReactant(j)\n",
    "      species = mod.getSpecies(ref.getSpecies())\n",
    "      if species.getBoundaryCondition() == True: \n",
    "        continue\n",
    "      if ref.getStoichiometry() == 1.0: \n",
    "        variables[species.getId()].append('-{0}'.format(reaction.getId()))\n",
    "      else:\n",
    "        variables[species.getId()].append('-({0})*{1}'.format(ref.getStoichiometry(), reaction.getId()))\n",
    "    for j in range(reaction.getNumProducts()): \n",
    "      ref = reaction.getProduct(j)\n",
    "      species = mod.getSpecies(ref.getSpecies())\n",
    "      if species.getBoundaryCondition() == True: \n",
    "        continue\n",
    "      if ref.getStoichiometry() == 1.0: \n",
    "        variables[species.getId()].append('{0}'.format(reaction.getId()))\n",
    "      else:\n",
    "        variables[species.getId()].append('({0})*{1}'.format(ref.getStoichiometry(), reaction.getId()))\n",
    "  \n",
    "  generated_code.extend('\\n'.encode('latin-1'))\n",
    "    \n",
    "  generated_code.extend('funcs = array(['.encode('latin-1'))\n",
    " # generated_code.extend('    print( array(['.encode('latin-1'))\n",
    "  for i in range(len(variables.keys())):\n",
    "    for eqn in variables[list(variables.keys())[i]]:\n",
    "      generated_code.extend(' + ({0})'.format(eqn).encode('latin-1'))\n",
    "    if i + 1 < len(variables.keys()):\n",
    "      generated_code.extend(',\\n      '.encode('latin-1'))\n",
    "  generated_code.extend('    ])\\n'.encode('latin-1'))\n",
    "  generated_code.extend('\\n'.encode('latin-1'))\n",
    "\n",
    "  return generated_code"
   ]
  },
  {
   "cell_type": "markdown",
   "metadata": {},
   "source": [
    "Now define all encompassing function."
   ]
  },
  {
   "cell_type": "code",
   "execution_count": 14,
   "metadata": {},
   "outputs": [],
   "source": [
    "#def sbml_to_ode(filename):\n",
    "filename = 'CRN.xml'\n",
    "\n",
    "doc = readSBMLFromFile(filename)\n",
    "props = ConversionProperties()\n",
    "props.addOption(\"promoteLocalParameters\", True)\n",
    "doc.convert(props)\n",
    "mod = doc.getModel()\n",
    "\n",
    "num_species = mod.getNumSpecies()\n",
    "num_params = mod.getNumParameters()\n",
    "\n",
    "gen_code = generateCodeForFile(filename)\n",
    "exec(gen_code)"
   ]
  },
  {
   "cell_type": "markdown",
   "metadata": {},
   "source": [
    "Test it!"
   ]
  },
  {
   "cell_type": "code",
   "execution_count": 15,
   "metadata": {},
   "outputs": [
    {
     "data": {
      "text/plain": [
       "array([-15.0*x0*x1*x2 - 1.5*x0*x3*x4 + 1.5*x5 + 15.0*x6,\n",
       "       -15.0*x0*x1*x2 - 3.0*x1**2*x41*x42**2 - 15.0*x1*x11*x8 - 1.5*x1*x21**2*x30 - 15.0*x1*x65 + 1.5*x13 + 15.0*x32 + 30.0*x44 + 1.5*x5 + 1.5*x66,\n",
       "       -15.0*x0*x1*x2 + 1.5*x5,\n",
       "       -1.5*x0*x3*x4 - 15.0*x3*x7 + 15.0*x6 + 1.5*x9,\n",
       "       -1.5*x0*x3*x4 - 1.5*x11*x12*x4 + 15.0*x14 - 1.5*x26*x4*x65 - 15.0*x27*x30*x4 + 1.5*x31 - 30.0*x38**2*x4**2*x41 + 3.0*x43 + 15.0*x6 + 15.0*x67,\n",
       "       15.0*x0*x1*x2 - 36001.5*x5, 1.5*x0*x3*x4 + 36000.0*x5 - 15.0*x6,\n",
       "       15.0*x10 - 15.0*x3*x7 - 1.5*x7*x8 + 1.5*x9,\n",
       "       -15.0*x1*x11*x8 + 15.0*x10 + 1.5*x13 - 1.5*x7*x8,\n",
       "       15.0*x3*x7 - 36001.5*x9, -15.0*x10 + 1.5*x7*x8 + 36000.0*x9,\n",
       "       -15.0*x1*x11*x8 - 1.5*x11*x12*x4 + 1.5*x13 + 15.0*x14,\n",
       "       -1.5*x11*x12*x4 - 15.0*x12*x15 + 15.0*x14 + 1.5*x17,\n",
       "       15.0*x1*x11*x8 - 36001.5*x13,\n",
       "       1.5*x11*x12*x4 + 36000.0*x13 - 15.0*x14,\n",
       "       -15.0*x12*x15 - 1.5*x15*x16**2 + 1.5*x17 + 15.0*x18,\n",
       "       -3.0*x15*x16**2 - 30.0*x16**2*x19*x20**2 - 30.0*x16**2*x20**2*x25*x26 + 30.0*x18 + 3.0*x23 + 3.0*x28,\n",
       "       15.0*x12*x15 - 36001.5*x17,\n",
       "       1.5*x15*x16**2 + 36000.0*x17 - 15.0*x18,\n",
       "       -15.0*x16**2*x19*x20**2 - 1.5*x19*x21**2*x22**2 + 1.5*x23 + 15.0*x24,\n",
       "       -30.0*x16**2*x19*x20**2 - 30.0*x16**2*x20**2*x25*x26 - 1.5*x20*x49*x50 - 1.5*x20*x61*x62 + 3.0*x23 + 3.0*x28 + 15.0*x52 + 15.0*x64,\n",
       "       -3.0*x1*x21**2*x30 - 3.0*x19*x21**2*x22**2 - 30.0*x21**2*x33 + 30.0*x24 + 30.0*x32 + 3.0*x35,\n",
       "       -3.0*x19*x21**2*x22**2 - 3.0*x22**2*x25*x27 - 15.0*x22*x46*x49 - 15.0*x22*x58*x61 + 30.0*x24 + 30.0*x29 + 1.5*x51 + 1.5*x63,\n",
       "       15.0*x16**2*x19*x20**2 - 36001.5*x23,\n",
       "       1.5*x19*x21**2*x22**2 + 36000.0*x23 - 15.0*x24,\n",
       "       -15.0*x16**2*x20**2*x25*x26 - 1.5*x22**2*x25*x27 + 1.5*x28 + 15.0*x29,\n",
       "       -15.0*x16**2*x20**2*x25*x26 - 1.5*x26*x4*x65 + 1.5*x28 + 15.0*x67,\n",
       "       -1.5*x22**2*x25*x27 - 15.0*x27*x30*x4 + 15.0*x29 + 1.5*x31,\n",
       "       15.0*x16**2*x20**2*x25*x26 - 36001.5*x28,\n",
       "       1.5*x22**2*x25*x27 + 36000.0*x28 - 15.0*x29,\n",
       "       -1.5*x1*x21**2*x30 - 15.0*x27*x30*x4 + 1.5*x31 + 15.0*x32,\n",
       "       15.0*x27*x30*x4 - 36001.5*x31,\n",
       "       1.5*x1*x21**2*x30 + 36000.0*x31 - 15.0*x32,\n",
       "       -15.0*x21**2*x33 - 1.5*x33*x34**2 + 1.5*x35 + 15.0*x36,\n",
       "       -3.0*x33*x34**2 - 30.0*x34**2*x37 + 30.0*x36 + 3.0*x39,\n",
       "       15.0*x21**2*x33 - 36001.5*x35,\n",
       "       1.5*x33*x34**2 + 36000.0*x35 - 15.0*x36,\n",
       "       -15.0*x34**2*x37 - 1.5*x37*x38**2 + 1.5*x39 + 15.0*x40,\n",
       "       -3.0*x37*x38**2 - 30.0*x38**2*x4**2*x41 + 30.0*x40 + 3.0*x43,\n",
       "       15.0*x34**2*x37 - 36001.5*x39,\n",
       "       1.5*x37*x38**2 + 36000.0*x39 - 15.0*x40,\n",
       "       -1.5*x1**2*x41*x42**2 - 15.0*x38**2*x4**2*x41 + 1.5*x43 + 15.0*x44,\n",
       "       -3.0*x1**2*x41*x42**2 - 30.0*x42**2*x45 + 30.0*x44 + 3.0*x47,\n",
       "       15.0*x38**2*x4**2*x41 - 36001.5*x43,\n",
       "       1.5*x1**2*x41*x42**2 + 36000.0*x43 - 15.0*x44,\n",
       "       -15.0*x42**2*x45 - 1.5*x45*x46 + 1.5*x47 + 15.0*x48,\n",
       "       -15.0*x22*x46*x49 - 1.5*x45*x46 + 15.0*x48 + 1.5*x51,\n",
       "       15.0*x42**2*x45 - 36001.5*x47,\n",
       "       1.5*x45*x46 + 36000.0*x47 - 15.0*x48,\n",
       "       -1.5*x20*x49*x50 - 15.0*x22*x46*x49 + 1.5*x51 + 15.0*x52,\n",
       "       -1.5*x20*x49*x50 - 15.0*x50*x53 + 15.0*x52 + 1.5*x55,\n",
       "       15.0*x22*x46*x49 - 36001.5*x51,\n",
       "       1.5*x20*x49*x50 + 36000.0*x51 - 15.0*x52,\n",
       "       -15.0*x50*x53 - 1.5*x53*x54 + 1.5*x55 + 15.0*x56,\n",
       "       -1.5*x53*x54 - 15.0*x54*x57 + 15.0*x56 + 1.5*x59,\n",
       "       15.0*x50*x53 - 36001.5*x55, 1.5*x53*x54 + 36000.0*x55 - 15.0*x56,\n",
       "       -15.0*x54*x57 - 1.5*x57*x58 + 1.5*x59 + 15.0*x60,\n",
       "       -15.0*x22*x58*x61 - 1.5*x57*x58 + 15.0*x60 + 1.5*x63,\n",
       "       15.0*x54*x57 - 36001.5*x59, 1.5*x57*x58 + 36000.0*x59 - 15.0*x60,\n",
       "       -1.5*x20*x61*x62 - 15.0*x22*x58*x61 + 1.5*x63 + 15.0*x64,\n",
       "       -1.5*x20*x61*x62 + 15.0*x64, 15.0*x22*x58*x61 - 36001.5*x63,\n",
       "       1.5*x20*x61*x62 + 36000.0*x63 - 15.0*x64,\n",
       "       -15.0*x1*x65 - 1.5*x26*x4*x65 + 1.5*x66 + 15.0*x67,\n",
       "       15.0*x1*x65 - 3.5*x66, 1.5*x26*x4*x65 + 2.0*x66 - 15.0*x67],\n",
       "      dtype=object)"
      ]
     },
     "execution_count": 15,
     "metadata": {},
     "output_type": "execute_result"
    }
   ],
   "source": [
    "funcs"
   ]
  },
  {
   "cell_type": "code",
   "execution_count": 16,
   "metadata": {},
   "outputs": [
    {
     "ename": "NameError",
     "evalue": "name 'x0' is not defined",
     "output_type": "error",
     "traceback": [
      "\u001b[0;31m---------------------------------------------------------------------------\u001b[0m",
      "\u001b[0;31mNameError\u001b[0m                                 Traceback (most recent call last)",
      "\u001b[0;32m<ipython-input-16-114d13d63d50>\u001b[0m in \u001b[0;36m<module>\u001b[0;34m\u001b[0m\n\u001b[0;32m----> 1\u001b[0;31m funcs_change = array([-15.0*x0*x1*x2 - 1.5*x0*x3*x4 + 1.5*x5 + 15.0*x6,\n\u001b[0m\u001b[1;32m      2\u001b[0m        \u001b[0;34m-\u001b[0m\u001b[0;36m15.0\u001b[0m\u001b[0;34m*\u001b[0m\u001b[0mx0\u001b[0m\u001b[0;34m*\u001b[0m\u001b[0mx1\u001b[0m\u001b[0;34m*\u001b[0m\u001b[0mx2\u001b[0m \u001b[0;34m-\u001b[0m \u001b[0;36m3.0\u001b[0m\u001b[0;34m*\u001b[0m\u001b[0mx1\u001b[0m\u001b[0;34m**\u001b[0m\u001b[0;36m2\u001b[0m\u001b[0;34m*\u001b[0m\u001b[0mx41\u001b[0m\u001b[0;34m*\u001b[0m\u001b[0mx42\u001b[0m\u001b[0;34m**\u001b[0m\u001b[0;36m2\u001b[0m \u001b[0;34m-\u001b[0m \u001b[0;36m15.0\u001b[0m\u001b[0;34m*\u001b[0m\u001b[0mx1\u001b[0m\u001b[0;34m*\u001b[0m\u001b[0mx11\u001b[0m\u001b[0;34m*\u001b[0m\u001b[0mx8\u001b[0m \u001b[0;34m-\u001b[0m \u001b[0;36m1.5\u001b[0m\u001b[0;34m*\u001b[0m\u001b[0mx1\u001b[0m\u001b[0;34m*\u001b[0m\u001b[0mx21\u001b[0m\u001b[0;34m**\u001b[0m\u001b[0;36m2\u001b[0m\u001b[0;34m*\u001b[0m\u001b[0mx30\u001b[0m \u001b[0;34m-\u001b[0m \u001b[0;36m15.0\u001b[0m\u001b[0;34m*\u001b[0m\u001b[0mx1\u001b[0m\u001b[0;34m*\u001b[0m\u001b[0mx65\u001b[0m \u001b[0;34m+\u001b[0m \u001b[0;36m1.5\u001b[0m\u001b[0;34m*\u001b[0m\u001b[0mx13\u001b[0m \u001b[0;34m+\u001b[0m \u001b[0;36m15.0\u001b[0m\u001b[0;34m*\u001b[0m\u001b[0mx32\u001b[0m \u001b[0;34m+\u001b[0m \u001b[0;36m30.0\u001b[0m\u001b[0;34m*\u001b[0m\u001b[0mx44\u001b[0m \u001b[0;34m+\u001b[0m \u001b[0;36m1.5\u001b[0m\u001b[0;34m*\u001b[0m\u001b[0mx5\u001b[0m \u001b[0;34m+\u001b[0m \u001b[0;36m1.5\u001b[0m\u001b[0;34m*\u001b[0m\u001b[0mx66\u001b[0m\u001b[0;34m,\u001b[0m\u001b[0;34m\u001b[0m\u001b[0;34m\u001b[0m\u001b[0m\n\u001b[1;32m      3\u001b[0m        \u001b[0;34m-\u001b[0m\u001b[0;36m15.0\u001b[0m\u001b[0;34m*\u001b[0m\u001b[0mx0\u001b[0m\u001b[0;34m*\u001b[0m\u001b[0mx1\u001b[0m\u001b[0;34m*\u001b[0m\u001b[0mx2\u001b[0m \u001b[0;34m+\u001b[0m \u001b[0;36m1.5\u001b[0m\u001b[0;34m*\u001b[0m\u001b[0mx5\u001b[0m\u001b[0;34m,\u001b[0m\u001b[0;34m\u001b[0m\u001b[0;34m\u001b[0m\u001b[0m\n\u001b[1;32m      4\u001b[0m        \u001b[0;34m-\u001b[0m\u001b[0;36m1.5\u001b[0m\u001b[0;34m*\u001b[0m\u001b[0mx0\u001b[0m\u001b[0;34m*\u001b[0m\u001b[0mx3\u001b[0m\u001b[0;34m*\u001b[0m\u001b[0mx4\u001b[0m \u001b[0;34m-\u001b[0m \u001b[0;36m15.0\u001b[0m\u001b[0;34m*\u001b[0m\u001b[0mx3\u001b[0m\u001b[0;34m*\u001b[0m\u001b[0mx7\u001b[0m \u001b[0;34m+\u001b[0m \u001b[0;36m15.0\u001b[0m\u001b[0;34m*\u001b[0m\u001b[0mx6\u001b[0m \u001b[0;34m+\u001b[0m \u001b[0;36m1.5\u001b[0m\u001b[0;34m*\u001b[0m\u001b[0mx9\u001b[0m\u001b[0;34m,\u001b[0m\u001b[0;34m\u001b[0m\u001b[0;34m\u001b[0m\u001b[0m\n\u001b[1;32m      5\u001b[0m        \u001b[0;34m-\u001b[0m\u001b[0;36m1.5\u001b[0m\u001b[0;34m*\u001b[0m\u001b[0mx0\u001b[0m\u001b[0;34m*\u001b[0m\u001b[0mx3\u001b[0m\u001b[0;34m*\u001b[0m\u001b[0mx4\u001b[0m \u001b[0;34m-\u001b[0m \u001b[0;36m1.5\u001b[0m\u001b[0;34m*\u001b[0m\u001b[0mx11\u001b[0m\u001b[0;34m*\u001b[0m\u001b[0mx12\u001b[0m\u001b[0;34m*\u001b[0m\u001b[0mx4\u001b[0m \u001b[0;34m+\u001b[0m \u001b[0;36m15.0\u001b[0m\u001b[0;34m*\u001b[0m\u001b[0mx14\u001b[0m \u001b[0;34m-\u001b[0m \u001b[0;36m1.5\u001b[0m\u001b[0;34m*\u001b[0m\u001b[0mx26\u001b[0m\u001b[0;34m*\u001b[0m\u001b[0mx4\u001b[0m\u001b[0;34m*\u001b[0m\u001b[0mx65\u001b[0m \u001b[0;34m-\u001b[0m \u001b[0;36m15.0\u001b[0m\u001b[0;34m*\u001b[0m\u001b[0mx27\u001b[0m\u001b[0;34m*\u001b[0m\u001b[0mx30\u001b[0m\u001b[0;34m*\u001b[0m\u001b[0mx4\u001b[0m \u001b[0;34m+\u001b[0m \u001b[0;36m1.5\u001b[0m\u001b[0;34m*\u001b[0m\u001b[0mx31\u001b[0m \u001b[0;34m-\u001b[0m \u001b[0;36m30.0\u001b[0m\u001b[0;34m*\u001b[0m\u001b[0mx38\u001b[0m\u001b[0;34m**\u001b[0m\u001b[0;36m2\u001b[0m\u001b[0;34m*\u001b[0m\u001b[0mx4\u001b[0m\u001b[0;34m**\u001b[0m\u001b[0;36m2\u001b[0m\u001b[0;34m*\u001b[0m\u001b[0mx41\u001b[0m \u001b[0;34m+\u001b[0m \u001b[0;36m3.0\u001b[0m\u001b[0;34m*\u001b[0m\u001b[0mx43\u001b[0m \u001b[0;34m+\u001b[0m \u001b[0;36m15.0\u001b[0m\u001b[0;34m*\u001b[0m\u001b[0mx6\u001b[0m \u001b[0;34m+\u001b[0m \u001b[0;36m15.0\u001b[0m\u001b[0;34m*\u001b[0m\u001b[0mx67\u001b[0m\u001b[0;34m,\u001b[0m\u001b[0;34m\u001b[0m\u001b[0;34m\u001b[0m\u001b[0m\n",
      "\u001b[0;31mNameError\u001b[0m: name 'x0' is not defined"
     ]
    }
   ],
   "source": [
    "funcs_change = array([-15.0*x0*x1*x2 - 1.5*x0*x3*x4 + 1.5*x5 + 15.0*x6,\n",
    "       -15.0*x0*x1*x2 - 3.0*x1**2*x41*x42**2 - 15.0*x1*x11*x8 - 1.5*x1*x21**2*x30 - 15.0*x1*x65 + 1.5*x13 + 15.0*x32 + 30.0*x44 + 1.5*x5 + 1.5*x66,\n",
    "       -15.0*x0*x1*x2 + 1.5*x5,\n",
    "       -1.5*x0*x3*x4 - 15.0*x3*x7 + 15.0*x6 + 1.5*x9,\n",
    "       -1.5*x0*x3*x4 - 1.5*x11*x12*x4 + 15.0*x14 - 1.5*x26*x4*x65 - 15.0*x27*x30*x4 + 1.5*x31 - 30.0*x38**2*x4**2*x41 + 3.0*x43 + 15.0*x6 + 15.0*x67,\n",
    "       15.0*x0*x1*x2 - 36001.5*x5, 1.5*x0*x3*x4 + 36000.0*x5 - 15.0*x6,\n",
    "       15.0*x10 - 15.0*x3*x7 - 1.5*x7*x8 + 1.5*x9,\n",
    "       -15.0*x1*x11*x8 + 15.0*x10 + 1.5*x13 - 1.5*x7*x8,\n",
    "       15.0*x3*x7 - 36001.5*x9, -15.0*x10 + 1.5*x7*x8 + 36000.0*x9,\n",
    "       -15.0*x1*x11*x8 - 1.5*x11*x12*x4 + 1.5*x13 + 15.0*x14,\n",
    "       -1.5*x11*x12*x4 - 15.0*x12*x15 + 15.0*x14 + 1.5*x17,\n",
    "       15.0*x1*x11*x8 - 36001.5*x13,\n",
    "       1.5*x11*x12*x4 + 36000.0*x13 - 15.0*x14,\n",
    "       -15.0*x12*x15 - 1.5*x15*x16**2 + 1.5*x17 + 15.0*x18,\n",
    "       -3.0*x15*x16**2 - 30.0*x16**2*x19*x20**2 - 30.0*x16**2*x20**2*x25*x26 + 30.0*x18 + 3.0*x23 + 3.0*x28,\n",
    "       15.0*x12*x15 - 36001.5*x17,\n",
    "       1.5*x15*x16**2 + 36000.0*x17 - 15.0*x18,\n",
    "       -15.0*x16**2*x19*x20**2 - 1.5*x19*x21**2*x22**2 + 1.5*x23 + 15.0*x24,\n",
    "       -30.0*x16**2*x19*x20**2 - 30.0*x16**2*x20**2*x25*x26 - 1.5*x20*x49*x50 - 1.5*x20*x61*x62 + 3.0*x23 + 3.0*x28 + 15.0*x52 + 15.0*x64,\n",
    "       -3.0*x1*x21**2*x30 - 3.0*x19*x21**2*x22**2 - 30.0*x21**2*x33 + 30.0*x24 + 30.0*x32 + 3.0*x35,\n",
    "       -3.0*x19*x21**2*x22**2 - 3.0*x22**2*x25*x27 - 15.0*x22*x46*x49 - 15.0*x22*x58*x61 + 30.0*x24 + 30.0*x29 + 1.5*x51 + 1.5*x63,\n",
    "       15.0*x16**2*x19*x20**2 - 36001.5*x23,\n",
    "       1.5*x19*x21**2*x22**2 + 36000.0*x23 - 15.0*x24,\n",
    "       -15.0*x16**2*x20**2*x25*x26 - 1.5*x22**2*x25*x27 + 1.5*x28 + 15.0*x29,\n",
    "       -15.0*x16**2*x20**2*x25*x26 - 1.5*x26*x4*x65 + 1.5*x28 + 15.0*x67,\n",
    "       -1.5*x22**2*x25*x27 - 15.0*x27*x30*x4 + 15.0*x29 + 1.5*x31,\n",
    "       15.0*x16**2*x20**2*x25*x26 - 36001.5*x28,\n",
    "       1.5*x22**2*x25*x27 + 36000.0*x28 - 15.0*x29,\n",
    "       -1.5*x1*x21**2*x30 - 15.0*x27*x30*x4 + 1.5*x31 + 15.0*x32,\n",
    "       15.0*x27*x30*x4 - 36001.5*x31,\n",
    "       1.5*x1*x21**2*x30 + 36000.0*x31 - 15.0*x32,\n",
    "       -15.0*x21**2*x33 - 1.5*x33*x34**2 + 1.5*x35 + 15.0*x36,\n",
    "       -3.0*x33*x34**2 - 30.0*x34**2*x37 + 30.0*x36 + 3.0*x39,\n",
    "       15.0*x21**2*x33 - 36001.5*x35,\n",
    "       1.5*x33*x34**2 + 36000.0*x35 - 15.0*x36,\n",
    "       -15.0*x34**2*x37 - 1.5*x37*x38**2 + 1.5*x39 + 15.0*x40,\n",
    "       -3.0*x37*x38**2 - 30.0*x38**2*x4**2*x41 + 30.0*x40 + 3.0*x43,\n",
    "       15.0*x34**2*x37 - 36001.5*x39,\n",
    "       1.5*x37*x38**2 + 36000.0*x39 - 15.0*x40,\n",
    "       -1.5*x1**2*x41*x42**2 - 15.0*x38**2*x4**2*x41 + 1.5*x43 + 15.0*x44,\n",
    "       -3.0*x1**2*x41*x42**2 - 30.0*x42**2*x45 + 30.0*x44 + 3.0*x47,\n",
    "       15.0*x38**2*x4**2*x41 - 36001.5*x43,\n",
    "       1.5*x1**2*x41*x42**2 + 36000.0*x43 - 15.0*x44,\n",
    "       -15.0*x42**2*x45 - 1.5*x45*x46 + 1.5*x47 + 15.0*x48,\n",
    "       -15.0*x22*x46*x49 - 1.5*x45*x46 + 15.0*x48 + 1.5*x51,\n",
    "       15.0*x42**2*x45 - 36001.5*x47,\n",
    "       1.5*x45*x46 + 36000.0*x47 - 15.0*x48,\n",
    "       -1.5*x20*x49*x50 - 15.0*x22*x46*x49 + 1.5*x51 + 15.0*x52,\n",
    "       -1.5*x20*x49*x50 - 15.0*x50*x53 + 15.0*x52 + 1.5*x55,\n",
    "       15.0*x22*x46*x49 - 36001.5*x51,\n",
    "       1.5*x20*x49*x50 + 36000.0*x51 - 15.0*x52,\n",
    "       -15.0*x50*x53 - 1.5*x53*x54 + 1.5*x55 + 15.0*x56,\n",
    "       -1.5*x53*x54 - 15.0*x54*x57 + 15.0*x56 + 1.5*x59,\n",
    "       15.0*x50*x53 - 36001.5*x55, 1.5*x53*x54 + 36000.0*x55 - 15.0*x56,\n",
    "       -15.0*x54*x57 - 1.5*x57*x58 + 1.5*x59 + 15.0*x60,\n",
    "       -15.0*x22*x58*x61 - 1.5*x57*x58 + 15.0*x60 + 1.5*x63,\n",
    "       15.0*x54*x57 - 36001.5*x59, 1.5*x57*x58 + 36000.0*x59 - 15.0*x60,\n",
    "       -1.5*x20*x61*x62 - 15.0*x22*x58*x61 + 1.5*x63 + 15.0*x64,\n",
    "       -1.5*x20*x61*x62 + 15.0*x64, 15.0*x22*x58*x61 - 36001.5*x63,\n",
    "       1.5*x20*x61*x62 + 36000.0*x63 - 15.0*x64,\n",
    "       -15.0*x1*x65 - 1.5*x26*x4*x65 + 1.5*x66 + 15.0*x67,\n",
    "       15.0*x1*x65 - 3.5*x66, 1.5*x26*x4*x65 + 2.0*x66 - 15.0*x67],\n",
    "      dtype=object)"
   ]
  },
  {
   "cell_type": "code",
   "execution_count": 18,
   "metadata": {},
   "outputs": [],
   "source": [
    "g = funcs\n",
    "g_func = lambda val: numpy.array( g.subs( {x:val} ).tolist(), dtype=float )\n"
   ]
  },
  {
   "cell_type": "code",
   "execution_count": 21,
   "metadata": {},
   "outputs": [
    {
     "ename": "TypeError",
     "evalue": "'function' object is not subscriptable",
     "output_type": "error",
     "traceback": [
      "\u001b[0;31m---------------------------------------------------------------------------\u001b[0m",
      "\u001b[0;31mTypeError\u001b[0m                                 Traceback (most recent call last)",
      "\u001b[0;32m<ipython-input-21-6518a7c64a33>\u001b[0m in \u001b[0;36m<module>\u001b[0;34m\u001b[0m\n\u001b[0;32m----> 1\u001b[0;31m \u001b[0mg_func\u001b[0m\u001b[0;34m[\u001b[0m\u001b[0;36m0\u001b[0m\u001b[0;34m]\u001b[0m\u001b[0;34m\u001b[0m\u001b[0;34m\u001b[0m\u001b[0m\n\u001b[0m",
      "\u001b[0;31mTypeError\u001b[0m: 'function' object is not subscriptable"
     ]
    }
   ],
   "source": []
  },
  {
   "cell_type": "code",
   "execution_count": 17,
   "metadata": {},
   "outputs": [
    {
     "ename": "TypeError",
     "evalue": "can't convert expression to float",
     "output_type": "error",
     "traceback": [
      "\u001b[0;31m---------------------------------------------------------------------------\u001b[0m",
      "\u001b[0;31mTypeError\u001b[0m                                 Traceback (most recent call last)",
      "\u001b[0;32m<ipython-input-17-a612714f38fa>\u001b[0m in \u001b[0;36m<module>\u001b[0;34m\u001b[0m\n\u001b[0;32m----> 1\u001b[0;31m \u001b[0mnp\u001b[0m\u001b[0;34m.\u001b[0m\u001b[0marray\u001b[0m\u001b[0;34m(\u001b[0m\u001b[0mfuncs\u001b[0m\u001b[0;34m[\u001b[0m\u001b[0;36m0\u001b[0m\u001b[0;34m]\u001b[0m\u001b[0;34m)\u001b[0m\u001b[0;34m.\u001b[0m\u001b[0mastype\u001b[0m\u001b[0;34m(\u001b[0m\u001b[0mnp\u001b[0m\u001b[0;34m.\u001b[0m\u001b[0mfloat64\u001b[0m\u001b[0;34m)\u001b[0m\u001b[0;34m\u001b[0m\u001b[0;34m\u001b[0m\u001b[0m\n\u001b[0m",
      "\u001b[0;32m~/opt/anaconda3/lib/python3.7/site-packages/sympy/core/expr.py\u001b[0m in \u001b[0;36m__float__\u001b[0;34m(self)\u001b[0m\n\u001b[1;32m    323\u001b[0m         \u001b[0;32mif\u001b[0m \u001b[0mresult\u001b[0m\u001b[0;34m.\u001b[0m\u001b[0mis_number\u001b[0m \u001b[0;32mand\u001b[0m \u001b[0mresult\u001b[0m\u001b[0;34m.\u001b[0m\u001b[0mas_real_imag\u001b[0m\u001b[0;34m(\u001b[0m\u001b[0;34m)\u001b[0m\u001b[0;34m[\u001b[0m\u001b[0;36m1\u001b[0m\u001b[0;34m]\u001b[0m\u001b[0;34m:\u001b[0m\u001b[0;34m\u001b[0m\u001b[0;34m\u001b[0m\u001b[0m\n\u001b[1;32m    324\u001b[0m             \u001b[0;32mraise\u001b[0m \u001b[0mTypeError\u001b[0m\u001b[0;34m(\u001b[0m\u001b[0;34m\"can't convert complex to float\"\u001b[0m\u001b[0;34m)\u001b[0m\u001b[0;34m\u001b[0m\u001b[0;34m\u001b[0m\u001b[0m\n\u001b[0;32m--> 325\u001b[0;31m         \u001b[0;32mraise\u001b[0m \u001b[0mTypeError\u001b[0m\u001b[0;34m(\u001b[0m\u001b[0;34m\"can't convert expression to float\"\u001b[0m\u001b[0;34m)\u001b[0m\u001b[0;34m\u001b[0m\u001b[0;34m\u001b[0m\u001b[0m\n\u001b[0m\u001b[1;32m    326\u001b[0m \u001b[0;34m\u001b[0m\u001b[0m\n\u001b[1;32m    327\u001b[0m     \u001b[0;32mdef\u001b[0m \u001b[0m__complex__\u001b[0m\u001b[0;34m(\u001b[0m\u001b[0mself\u001b[0m\u001b[0;34m)\u001b[0m\u001b[0;34m:\u001b[0m\u001b[0;34m\u001b[0m\u001b[0;34m\u001b[0m\u001b[0m\n",
      "\u001b[0;31mTypeError\u001b[0m: can't convert expression to float"
     ]
    }
   ],
   "source": [
    "np.array(funcs[0]).astype(np.float64)"
   ]
  },
  {
   "cell_type": "code",
   "execution_count": 15,
   "metadata": {},
   "outputs": [
    {
     "ename": "TypeError",
     "evalue": "can't convert expression to float",
     "output_type": "error",
     "traceback": [
      "\u001b[0;31m---------------------------------------------------------------------------\u001b[0m",
      "\u001b[0;31mTypeError\u001b[0m                                 Traceback (most recent call last)",
      "\u001b[0;32m<ipython-input-15-8781dea244ce>\u001b[0m in \u001b[0;36m<module>\u001b[0;34m\u001b[0m\n\u001b[0;32m----> 1\u001b[0;31m \u001b[0mnp\u001b[0m\u001b[0;34m.\u001b[0m\u001b[0marray\u001b[0m\u001b[0;34m(\u001b[0m\u001b[0mfuncs\u001b[0m\u001b[0;34m[\u001b[0m\u001b[0;36m0\u001b[0m\u001b[0;34m]\u001b[0m\u001b[0;34m,\u001b[0m \u001b[0mdtype\u001b[0m \u001b[0;34m=\u001b[0m \u001b[0mnp\u001b[0m\u001b[0;34m.\u001b[0m\u001b[0mfloat64\u001b[0m\u001b[0;34m)\u001b[0m\u001b[0;34m\u001b[0m\u001b[0;34m\u001b[0m\u001b[0m\n\u001b[0m",
      "\u001b[0;32m~/opt/anaconda3/lib/python3.7/site-packages/sympy/core/expr.py\u001b[0m in \u001b[0;36m__float__\u001b[0;34m(self)\u001b[0m\n\u001b[1;32m    323\u001b[0m         \u001b[0;32mif\u001b[0m \u001b[0mresult\u001b[0m\u001b[0;34m.\u001b[0m\u001b[0mis_number\u001b[0m \u001b[0;32mand\u001b[0m \u001b[0mresult\u001b[0m\u001b[0;34m.\u001b[0m\u001b[0mas_real_imag\u001b[0m\u001b[0;34m(\u001b[0m\u001b[0;34m)\u001b[0m\u001b[0;34m[\u001b[0m\u001b[0;36m1\u001b[0m\u001b[0;34m]\u001b[0m\u001b[0;34m:\u001b[0m\u001b[0;34m\u001b[0m\u001b[0;34m\u001b[0m\u001b[0m\n\u001b[1;32m    324\u001b[0m             \u001b[0;32mraise\u001b[0m \u001b[0mTypeError\u001b[0m\u001b[0;34m(\u001b[0m\u001b[0;34m\"can't convert complex to float\"\u001b[0m\u001b[0;34m)\u001b[0m\u001b[0;34m\u001b[0m\u001b[0;34m\u001b[0m\u001b[0m\n\u001b[0;32m--> 325\u001b[0;31m         \u001b[0;32mraise\u001b[0m \u001b[0mTypeError\u001b[0m\u001b[0;34m(\u001b[0m\u001b[0;34m\"can't convert expression to float\"\u001b[0m\u001b[0;34m)\u001b[0m\u001b[0;34m\u001b[0m\u001b[0;34m\u001b[0m\u001b[0m\n\u001b[0m\u001b[1;32m    326\u001b[0m \u001b[0;34m\u001b[0m\u001b[0m\n\u001b[1;32m    327\u001b[0m     \u001b[0;32mdef\u001b[0m \u001b[0m__complex__\u001b[0m\u001b[0;34m(\u001b[0m\u001b[0mself\u001b[0m\u001b[0;34m)\u001b[0m\u001b[0;34m:\u001b[0m\u001b[0;34m\u001b[0m\u001b[0;34m\u001b[0m\u001b[0m\n",
      "\u001b[0;31mTypeError\u001b[0m: can't convert expression to float"
     ]
    }
   ],
   "source": [
    "np.array(funcs[0], dtype = np.float64)"
   ]
  },
  {
   "cell_type": "code",
   "execution_count": 5,
   "metadata": {},
   "outputs": [
    {
     "data": {
      "text/latex": [
       "$\\displaystyle x_{0}$"
      ],
      "text/plain": [
       "x0"
      ]
     },
     "execution_count": 5,
     "metadata": {},
     "output_type": "execute_result"
    }
   ],
   "source": [
    "x[0]"
   ]
  },
  {
   "cell_type": "code",
   "execution_count": 6,
   "metadata": {},
   "outputs": [
    {
     "data": {
      "text/latex": [
       "$\\displaystyle P_{0}$"
      ],
      "text/plain": [
       "P0"
      ]
     },
     "execution_count": 6,
     "metadata": {},
     "output_type": "execute_result"
    }
   ],
   "source": [
    "P[0]"
   ]
  },
  {
   "cell_type": "code",
   "execution_count": 8,
   "metadata": {},
   "outputs": [
    {
     "name": "stdout",
     "output_type": "stream",
     "text": [
      "CPython 3.7.7\n",
      "IPython 7.13.0\n",
      "\n",
      "numpy 1.18.1\n",
      "bokeh 2.0.2\n",
      "auto_reduce 0.1\n",
      "sympy 1.5.1\n",
      "libsbml 5.18.0\n",
      "sys 3.7.7 (default, Mar 26 2020, 10:32:53) \n",
      "[Clang 4.0.1 (tags/RELEASE_401/final)]\n",
      "jupyterlab 1.2.6\n"
     ]
    }
   ],
   "source": [
    "#watermark\n",
    "%reload_ext watermark\n",
    "%watermark -v -p numpy,bokeh,auto_reduce,sympy,libsbml,sys,jupyterlab"
   ]
  },
  {
   "cell_type": "code",
   "execution_count": null,
   "metadata": {},
   "outputs": [],
   "source": []
  }
 ],
 "metadata": {
  "kernelspec": {
   "display_name": "Python 3",
   "language": "python",
   "name": "python3"
  },
  "language_info": {
   "codemirror_mode": {
    "name": "ipython",
    "version": 3
   },
   "file_extension": ".py",
   "mimetype": "text/x-python",
   "name": "python",
   "nbconvert_exporter": "python",
   "pygments_lexer": "ipython3",
   "version": "3.7.7"
  }
 },
 "nbformat": 4,
 "nbformat_minor": 4
}
