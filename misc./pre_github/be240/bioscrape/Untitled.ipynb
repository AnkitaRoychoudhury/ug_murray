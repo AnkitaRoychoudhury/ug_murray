{
 "cells": [
  {
   "cell_type": "markdown",
   "metadata": {},
   "source": [
    "$$\\text{Enzyme + Fuel} \\leftrightarrow^1 \\text{Enzyme:Fuel}$$ <br>\n",
    "$$\\text{Substrate + Enzyme:Fuel} \\leftrightarrow^2 \\text{Fuel:Substrate:Enzyme} \\rightarrow^3 \\text{Waste:Product:Enzyme} \\leftrightarrow^4 \\text{Waste:Enzyme + Product}$$ <br>\n",
    "$$\\text{Waste:Enzyme}\\leftrightarrow^5 \\text{Waste + Enzyme}$$ <br>\n",
    "\n",
    "**Combined**\n",
    "$$\\text{Enzyme1 + 2 ATP} \\leftrightarrow^1 \\text{Enzyme1:2ATP}$$ <br>\n",
    "$$\\text{Glucose + Enzyme1:2ATP} \\leftrightarrow^2 \\text{2ATP:Glucose:Enzyme1} \\rightarrow^3 \\text{2ADP:F16P:Enzyme1} \\leftrightarrow^4 \\text{2ADP:Enzyme1 + F16P}$$ <br>\n",
    "$$\\text{2ADP:Enzyme1}\\leftrightarrow^5 \\text{2 ADP + Enzyme1}$$ <br>\n",
    "\n",
    "**Non-ATP Generating Pathway**\n",
    "$$\\text{Enzyme2 + 2 ADP} \\leftrightarrow^6 \\text{Enzyme2:2ADP}$$ <br>\n",
    "$$\\text{F16P + Enzyme2:2ADP} \\leftrightarrow^7 \\text{2ADP:F16P:Enzyme2} \\rightarrow^8 \\text{2ATP:Isobutanol:Enzyme2} \\leftrightarrow^9 \\text{2ATP:Enzyme2 + Isobutanol}$$ <br>\n",
    "$$\\text{2ATP:Enzyme2}\\leftrightarrow^{10} \\text{2 ATP + Enzyme2}$$ <br>\n",
    "\n",
    "**ATP Generating Pathway**\n",
    "$$\\text{Enzyme3 + 3 ADP + Pi} \\leftrightarrow^{11} \\text{Enzyme3:3ADPPi}$$ <br>\n",
    "$$\\text{F16P + Enzyme3:3ADPPi} \\leftrightarrow^{12} \\text{3ADPPi:F16P:Enzyme3} \\rightarrow^{13} \\text{3ATP:F16P:Enzyme3} \\leftrightarrow^{14} \\text{3ATP:Enzyme3 + F16P}$$ <br>\n",
    "$$\\text{3ATP:Enzyme3}\\leftrightarrow^{15} \\text{3 ATP + Enzyme3}$$ <br>\n",
    "\n",
    "**ATP Leak** <br>\n",
    "$$\\text{ATP + Enzyme4} \\leftrightarrow^{16} \\text{ATP:Enzyme4} \\rightarrow^{17} \\text{ADPPi:Enzyme4} \\leftrightarrow^{18} \\text{ADP + Pi + Enzyme4}$$\n",
    "\n",
    "\n",
    "\n"
   ]
  },
  {
   "cell_type": "markdown",
   "metadata": {},
   "source": [
    "$k_{bf} = 22.68, k_{br} = 0.1 * k_{bf}, k_{uf} = 24, k_{ur} = 0.1 * k_{uf}, k_{cat} = 10, k_{atp\\, only} = 0.5$ \n",
    "\n"
   ]
  },
  {
   "cell_type": "markdown",
   "metadata": {},
   "source": [
    "$k_{bf} = 20, k_{br} = 2, k_{uf} = 20, k_{ur} = 2, k_{cat} = 10, k_{atp\\, only} = 1$ "
   ]
  },
  {
   "cell_type": "markdown",
   "metadata": {},
   "source": [
    "$$k_{bf} = 15 \\, hr^{-1}$$<br>\n",
    "$$k_{br} = 0.1 * k_{bf}$$ <br>\n",
    "$$k_{uf} = 15 \\, hr^{-1}$$<br>\n",
    "$$k_{ur} = 0.1 * k_{uf}$$ <br>\n",
    "$$k_{cat} = 10 \\, hr^{-1} $$<br>\n",
    "$$k_{atp\\, leak} = 2\\, hr^{-1} $$<br>\n",
    "$$\\text{Glucose}_0 = 30 \\, mM$$<br> $$\\text{ATP}_0 = 30 \\, mM$$ <br> $$\\text{Pi}_0 = 30 \\, mM$$ <br>$$\\text{NADP}^{+}_0 = 30 \\, mM$$ <br> $$\\text{Enzymes}_0 = 0.40 \\, mM$$ <br>\n",
    "$$\\text{ATP leak enzymes}_0 = 2\\, mM$$"
   ]
  },
  {
   "cell_type": "markdown",
   "metadata": {},
   "source": [
    "Initial conditions <br>\n",
    "$$\\text{Glucose}_0 = 660 \\, mM$$<br> $$\\text{ATP}_0= 4 \\, mM$$ <br> $$\\text{Pi}_0= 4 \\, mM$$<br>$$\\text{NADP}_0= 2 \\, mM$$ <br> $$\\text{1,3BPG}_0= 0.25 \\, mM $$\n",
    " <br>"
   ]
  },
  {
   "cell_type": "markdown",
   "metadata": {},
   "source": [
    "Initial conditions <br>\n",
    "$\\text{Glucose}_0, \\,\\,\\text{ATP}_0, \\,\\,\\text{Pi}_0, \\,\\,\\text{NADP}_0, \\,\\,\\text{Enzymes}_0, \\,\\,\\text{ATP leak enzymes}_0$\n"
   ]
  },
  {
   "cell_type": "markdown",
   "metadata": {},
   "source": [
    "\n",
    "$\\text{Glucose}_0 = 30 \\, mM, \\text{ATP}_0 = 30 \\, mM$ <br> $\\text{Enzymes}_0 = 0.15 \\, mM, \\text{ATP leak enzymes}_0 = 3\\, mM$"
   ]
  },
  {
   "cell_type": "markdown",
   "metadata": {},
   "source": [
    "# Simplified model\n",
    "\n",
    "\n",
    "$$\\text{2 ATP + Glucose} \\leftrightarrow^{E1} \\text{2 ADP + F16P}$$<br>\n",
    "$$\\text{2 ADP + F16P} \\leftrightarrow^{E2} \\text{2 ATP + Isobutanol}$$<br>\n",
    "$$\\text{3 ADP + Pi + F16P} \\leftrightarrow^{E3} \\text{3 ATP + Isobutanol}$$<br>\n",
    "$$\\text{ATP} \\rightarrow^{E4} \\text{ADP + Pi}$$ <br> <br>\n",
    "\n",
    "\n",
    "Add reverse reactions."
   ]
  },
  {
   "cell_type": "code",
   "execution_count": null,
   "metadata": {},
   "outputs": [],
   "source": []
  }
 ],
 "metadata": {
  "kernelspec": {
   "display_name": "Python 3",
   "language": "python",
   "name": "python3"
  },
  "language_info": {
   "codemirror_mode": {
    "name": "ipython",
    "version": 3
   },
   "file_extension": ".py",
   "mimetype": "text/x-python",
   "name": "python",
   "nbconvert_exporter": "python",
   "pygments_lexer": "ipython3",
   "version": "3.7.6"
  }
 },
 "nbformat": 4,
 "nbformat_minor": 4
}
