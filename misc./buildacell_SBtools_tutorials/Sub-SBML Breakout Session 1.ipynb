{
 "cells": [
  {
   "cell_type": "markdown",
   "metadata": {
    "slideshow": {
     "slide_type": "slide"
    }
   },
   "source": [
    "# Sub-SBML Breakout Session #1\n",
    "\n",
    "## _Ayush Pandey_\n"
   ]
  },
  {
   "cell_type": "markdown",
   "metadata": {},
   "source": [
    "Problem:\n",
    "\n",
    "Compartmentalize your own SBML model - generate more than 1 model using a tool of your choice. Using Sub-SBML, try to combine your models together and regenerate the expected simulation."
   ]
  },
  {
   "cell_type": "markdown",
   "metadata": {},
   "source": [
    "## Model 1 : Create your own (or use the following code)"
   ]
  },
  {
   "cell_type": "code",
   "execution_count": 3,
   "metadata": {},
   "outputs": [
    {
     "name": "stdout",
     "output_type": "stream",
     "text": [
      "Model written to a SBML file successfully\n"
     ]
    }
   ],
   "source": [
    "# Create biocrnpyler models:\n",
    "from biocrnpyler.chemical_reaction_network import Species, Reaction, ChemicalReactionNetwork\n",
    "from biocrnpyler.propensities import ProportionalHillPositive\n",
    "import numpy as np\n",
    "import pylab as plt\n",
    "\n",
    "# Instead of the following one step transcription model,\n",
    "# use the biocrnpyler tools, to create a model with a different mechanism \n",
    "\n",
    "#Create a list of species names (strings)\n",
    "G = Species(\"G\")\n",
    "T = Species(\"T\")\n",
    "S = Species(\"S\")\n",
    "species = [G, T, S]\n",
    "\n",
    "proportionalhillpositive = ProportionalHillPositive(d=G, s1=S, k=2, K=10, n=2)\n",
    "# # create reactions\n",
    "rxn1 = Reaction([G], [G, T], \n",
    "                propensity_type = proportionalhillpositive)\n",
    "\n",
    "rxn2 = Reaction([T], [], propensity_type = \"massaction\", k = 0.1)\n",
    "           \n",
    "# #Create a list of all reactions\n",
    "rxns = [rxn1, rxn2]\n",
    "\n",
    "# G: 1 IC\n",
    "\n",
    "M = ChemicalReactionNetwork(species = species, reactions = rxns)\n",
    "_ = M.write_sbml_file('model1.xml')\n",
    "print('Model written to a SBML file successfully')"
   ]
  },
  {
   "cell_type": "markdown",
   "metadata": {},
   "source": [
    "## Model 2 (create your own or use the following code)"
   ]
  },
  {
   "cell_type": "code",
   "execution_count": 4,
   "metadata": {},
   "outputs": [
    {
     "name": "stdout",
     "output_type": "stream",
     "text": [
      "Model written to a SBML file successfully\n"
     ]
    }
   ],
   "source": [
    "from biocrnpyler.chemical_reaction_network import Species, Reaction, ChemicalReactionNetwork\n",
    "from biocrnpyler.propensities import HillPositive\n",
    "\n",
    "import numpy as np\n",
    "import pylab as plt\n",
    "\n",
    "\n",
    "# Instead of the following one step translation model,\n",
    "# use the biocrnpyler tools, to create a model with a different mechanism \n",
    "\n",
    "\n",
    "#Create a list of species names (strings)\n",
    "T = Species(\"T\")\n",
    "X = Species(\"X\")\n",
    "species = [T, X]\n",
    "hillpositive = HillPositive(s1=T, k=5, K=20, n=1)\n",
    "# #create reactions\n",
    "rxn1 = Reaction([T], [T, X], propensity_type = hillpositive) \n",
    "\n",
    "# #Notice that parameters can also take numerical values instead of being named directly\n",
    "rxn2 = Reaction([X], [], propensity_type = \"massaction\", k = 0.1)\n",
    "           \n",
    "# #Create a list of all reactions\n",
    "rxns = [rxn1, rxn2]\n",
    "\n",
    "M = ChemicalReactionNetwork(species = species, reactions = rxns)\n",
    "_ = M.write_sbml_file('model2.xml')\n",
    "print('Model written to a SBML file successfully')"
   ]
  },
  {
   "cell_type": "markdown",
   "metadata": {},
   "source": [
    "Combine the advanced transcription and translation models together to get protein output. "
   ]
  },
  {
   "cell_type": "code",
   "execution_count": 14,
   "metadata": {},
   "outputs": [],
   "source": [
    "# Sketch solution\n",
    "from subsbml.Subsystem import createNewSubsystem, createSubsystem\n",
    "\n",
    "import numpy as np\n",
    "import pylab as plt\n",
    "\n",
    "# Create model 1 (create SBML using BioCRNpyler)\n",
    "ss1 = createSubsystem('model1.xml')\n",
    "\n",
    "# Create model 2\n",
    "ss2 = createSubsystem('model2.xml')\n",
    "\n",
    "# # Combine together\n",
    "# combined_ss = createNewSubsystem()\n",
    "# combined_model = combined_ss.combineSubsystems([ss1, ss2])\n",
    "\n",
    "combined_model = ss1+ss2\n",
    "# Desired simulation result:\n",
    "# Simulating ss1 doesn't give desired output on its own.\n",
    "# Simulating ss2 doesn't give desired output on its own.\n",
    "# combined_model gives desired output."
   ]
  },
  {
   "cell_type": "code",
   "execution_count": 15,
   "metadata": {},
   "outputs": [
    {
     "name": "stderr",
     "output_type": "stream",
     "text": [
      "/Users/ankitaroychoudhury/opt/anaconda3/lib/python3.7/site-packages/bioscrape/sbmlutil.py:223: UserWarning: Compartments, UnitDefintions, Events, and some other SBML model components are not recognized by bioscrape. Refer to the bioscrape wiki for more information.\n",
      "  warnings.warn('Compartments, UnitDefintions, Events, and some other SBML model components are not recognized by bioscrape. ' +\n",
      "/Users/ankitaroychoudhury/opt/anaconda3/lib/python3.7/site-packages/subsbml/Subsystem.py:2029: UserWarning: Depricated Warning: Bioscrape XML is being replaced by SBML and will no longer be supported in a future version of the software.\n",
      "  m.write_bioscrape_xml('temp_bs.xml')\n"
     ]
    }
   ],
   "source": [
    "timepoints = np.linspace(0,50,50)\n",
    "#combined_model_d = combined_model.getModel()\n",
    "results, _ = combined_model.simulateWithBioscrape(timepoints)"
   ]
  },
  {
   "cell_type": "code",
   "execution_count": 17,
   "metadata": {},
   "outputs": [
    {
     "data": {
      "text/html": [
       "<div>\n",
       "<style scoped>\n",
       "    .dataframe tbody tr th:only-of-type {\n",
       "        vertical-align: middle;\n",
       "    }\n",
       "\n",
       "    .dataframe tbody tr th {\n",
       "        vertical-align: top;\n",
       "    }\n",
       "\n",
       "    .dataframe thead th {\n",
       "        text-align: right;\n",
       "    }\n",
       "</style>\n",
       "<table border=\"1\" class=\"dataframe\">\n",
       "  <thead>\n",
       "    <tr style=\"text-align: right;\">\n",
       "      <th></th>\n",
       "      <th>G_biocrnpyler_821798</th>\n",
       "      <th>S_biocrnpyler_821798</th>\n",
       "      <th>T_biocrnpyler_821798_1_combined</th>\n",
       "      <th>X_biocrnpyler_610739</th>\n",
       "      <th>time</th>\n",
       "    </tr>\n",
       "  </thead>\n",
       "  <tbody>\n",
       "    <tr>\n",
       "      <th>0</th>\n",
       "      <td>0.0</td>\n",
       "      <td>0.0</td>\n",
       "      <td>0.0</td>\n",
       "      <td>0.0</td>\n",
       "      <td>0.000000</td>\n",
       "    </tr>\n",
       "    <tr>\n",
       "      <th>1</th>\n",
       "      <td>0.0</td>\n",
       "      <td>0.0</td>\n",
       "      <td>0.0</td>\n",
       "      <td>0.0</td>\n",
       "      <td>1.020408</td>\n",
       "    </tr>\n",
       "    <tr>\n",
       "      <th>2</th>\n",
       "      <td>0.0</td>\n",
       "      <td>0.0</td>\n",
       "      <td>0.0</td>\n",
       "      <td>0.0</td>\n",
       "      <td>2.040816</td>\n",
       "    </tr>\n",
       "    <tr>\n",
       "      <th>3</th>\n",
       "      <td>0.0</td>\n",
       "      <td>0.0</td>\n",
       "      <td>0.0</td>\n",
       "      <td>0.0</td>\n",
       "      <td>3.061224</td>\n",
       "    </tr>\n",
       "    <tr>\n",
       "      <th>4</th>\n",
       "      <td>0.0</td>\n",
       "      <td>0.0</td>\n",
       "      <td>0.0</td>\n",
       "      <td>0.0</td>\n",
       "      <td>4.081633</td>\n",
       "    </tr>\n",
       "  </tbody>\n",
       "</table>\n",
       "</div>"
      ],
      "text/plain": [
       "   G_biocrnpyler_821798  S_biocrnpyler_821798  \\\n",
       "0                   0.0                   0.0   \n",
       "1                   0.0                   0.0   \n",
       "2                   0.0                   0.0   \n",
       "3                   0.0                   0.0   \n",
       "4                   0.0                   0.0   \n",
       "\n",
       "   T_biocrnpyler_821798_1_combined  X_biocrnpyler_610739      time  \n",
       "0                              0.0                   0.0  0.000000  \n",
       "1                              0.0                   0.0  1.020408  \n",
       "2                              0.0                   0.0  2.040816  \n",
       "3                              0.0                   0.0  3.061224  \n",
       "4                              0.0                   0.0  4.081633  "
      ]
     },
     "execution_count": 17,
     "metadata": {},
     "output_type": "execute_result"
    }
   ],
   "source": [
    "results.head()"
   ]
  },
  {
   "cell_type": "code",
   "execution_count": null,
   "metadata": {},
   "outputs": [],
   "source": []
  },
  {
   "cell_type": "code",
   "execution_count": null,
   "metadata": {},
   "outputs": [],
   "source": []
  },
  {
   "cell_type": "markdown",
   "metadata": {},
   "source": [
    "## Explore the following:\n",
    "\n",
    "1. Compartment names: Try changing the compartment names manually (ss1.getSBMLDocument().getModel().getCompartment(0).setName('new_name') changes the name of compartment for ss1).\n",
    "Then, try to combine the two models and see if you get the same results.\n",
    "2. Species names and identifiers: Change the names or the identifiers of the species and observe the effects on the combined model. To do this, simply go to your XML file for the model and change names.\n",
    "3. Observe the changeLog for the combined subsystem. "
   ]
  },
  {
   "cell_type": "code",
   "execution_count": null,
   "metadata": {},
   "outputs": [],
   "source": []
  }
 ],
 "metadata": {
  "kernelspec": {
   "display_name": "Python 3",
   "language": "python",
   "name": "python3"
  },
  "language_info": {
   "codemirror_mode": {
    "name": "ipython",
    "version": 3
   },
   "file_extension": ".py",
   "mimetype": "text/x-python",
   "name": "python",
   "nbconvert_exporter": "python",
   "pygments_lexer": "ipython3",
   "version": "3.7.7"
  }
 },
 "nbformat": 4,
 "nbformat_minor": 4
}
