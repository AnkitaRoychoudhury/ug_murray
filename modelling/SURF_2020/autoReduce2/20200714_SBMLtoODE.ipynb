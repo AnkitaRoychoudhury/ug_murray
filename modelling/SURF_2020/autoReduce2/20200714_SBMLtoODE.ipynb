{
 "cells": [
  {
   "cell_type": "markdown",
   "metadata": {},
   "source": [
    "# SBML to ODE for autoReduce\n",
    "7.14.2020 <br>\n",
    "Ankita Roychoudhury\n"
   ]
  },
  {
   "cell_type": "code",
   "execution_count": 1,
   "metadata": {},
   "outputs": [],
   "source": [
    "# imports\n",
    "from libsbml import *\n",
    "import sys\n",
    "import numpy as np\n",
    "from auto_reduce import *\n",
    "from auto_reduce.utils import get_ODE\n",
    "import matplotlib.pyplot as plt\n",
    "from auto_reduce.utils import reduce"
   ]
  },
  {
   "cell_type": "markdown",
   "metadata": {},
   "source": [
    "**What do we want?** <br>\n",
    "Input a SBML file, output `f`. <br>\n",
    "A `f` object that is made up of sympy equations."
   ]
  },
  {
   "cell_type": "markdown",
   "metadata": {},
   "source": [
    "We will use the generated code function, similar to before. Except we will only return the array of functions and will not plot. We will also add the line `x,f,P = system.load_ODE_model(num_species, num_params)` so `f` can be created with sympy object."
   ]
  },
  {
   "cell_type": "code",
   "execution_count": null,
   "metadata": {},
   "outputs": [],
   "source": []
  },
  {
   "cell_type": "code",
   "execution_count": 2,
   "metadata": {},
   "outputs": [],
   "source": [
    "\n",
    "def generateCodeForFile(filename,  t0=0, tEnd=10, numPoints=1000):\n",
    "  # \n",
    "  # read the SBML from file \n",
    "  # \n",
    "  doc = readSBMLFromFile(filename)\n",
    "  if doc.getNumErrors(LIBSBML_SEV_FATAL):\n",
    "    print('Encountered serious errors while reading file')\n",
    "    print(doc.getErrorLog().toString())\n",
    "    sys.exit(1)\n",
    "    \n",
    "  # clear errors\n",
    "  doc.getErrorLog().clearLog()\n",
    "  \n",
    "  #\n",
    "  # perform conversions\n",
    "  #\n",
    "  props = ConversionProperties()\n",
    "  props.addOption(\"promoteLocalParameters\", True)\n",
    "  \n",
    "  if doc.convert(props) != LIBSBML_OPERATION_SUCCESS: \n",
    "    print('The document could not be converted')\n",
    "    print(doc.getErrorLog().toString())\n",
    "    \n",
    "  props = ConversionProperties()\n",
    "  props.addOption(\"expandInitialAssignments\", True)\n",
    "  \n",
    "  if doc.convert(props) != LIBSBML_OPERATION_SUCCESS: \n",
    "    print('The document could not be converted')\n",
    "    print(doc.getErrorLog().toString())\n",
    "    \n",
    "  props = ConversionProperties()\n",
    "  props.addOption(\"expandFunctionDefinitions\", True)\n",
    "  \n",
    "  if doc.convert(props) != LIBSBML_OPERATION_SUCCESS: \n",
    "    print('The document could not be converted')\n",
    "    print(doc.getErrorLog().toString())\n",
    "    \n",
    "  #\n",
    "  # figure out which species are variable \n",
    "  #\n",
    "  mod = doc.getModel()\n",
    "  variables = {}\n",
    "#  print('params', mod.getNumParameters())\n",
    "\n",
    "  for i in range(mod.getNumSpecies()): \n",
    "     species = mod.getSpecies(i)\n",
    "    # if species.getBoundaryCondition() == True or variables.has_key(species.getId()):\n",
    "     if species.getBoundaryCondition() == True or (species.getId() in variables.keys()):\n",
    "\n",
    "\n",
    "       continue\n",
    "     variables[species.getId()] = []\n",
    "  #print(variables)\n",
    "  \n",
    "  #\n",
    "  # start generating the code by appending to bytearray\n",
    "  #\n",
    "  # Define num_species, num_params here, will save and be used\n",
    "  num_species = mod.getNumSpecies()\n",
    "  num_params = mod.getNumParameters()\n",
    "    \n",
    "    \n",
    "  generated_code = bytearray()\n",
    "  generated_code.extend('from numpy import *\\n'.encode('latin-1'))\n",
    "  generated_code.extend('x,f,P = system.load_ODE_model(num_species, num_params)'.encode('latin-1'))\n",
    "\n",
    "\n",
    " # generated_code.extend('from matplotlib.pylab import *\\n'.encode('latin-1'))\n",
    " # generated_code.extend('from matplotlib.pyplot import *\\n'.encode('latin-1'))\n",
    " # generated_code.extend('from scipy.integrate import odeint \\n'.encode('latin-1'))\n",
    "  \n",
    "  generated_code.extend('\\n'.encode('latin-1'))\n",
    "#  generated_code.extend('def simulateModel(t0, tend, numPoints):\\n'.encode('latin-1'))\n",
    "  \n",
    "  # write out compartment values \n",
    "  generated_code.extend('\\n'.encode('latin-1'))\n",
    "  generated_code.extend('#compartments\\n'.encode('latin-1'))\n",
    "  for i in range(mod.getNumCompartments()):\n",
    "    element = mod.getCompartment(i)\n",
    "    generated_code.extend('{0} = {1}\\n'.format(element.getId(), element.getSize()).encode('latin-1'))\n",
    "  \n",
    "  # write out parameter values \n",
    "  generated_code.extend('\\n'.encode('latin-1'))\n",
    "  generated_code.extend('#global parameters\\n'.encode('latin-1'))\n",
    "  for i in range(mod.getNumParameters()):\n",
    "    element = mod.getParameter(i)\n",
    "    generated_code.extend('{0} = {1}\\n'.format(element.getId(), element.getValue()).encode('latin-1'))\n",
    "  \n",
    "  # write out boundary species \n",
    "  generated_code.extend('\\n'.encode('latin-1'))\n",
    "  generated_code.extend('#boundary species\\n'.encode('latin-1'))\n",
    "  for i in range(mod.getNumSpecies()):\n",
    "    element = mod.getSpecies(i)\n",
    "    if element.getBoundaryCondition() == False: \n",
    "      continue \n",
    "    if element.isSetInitialConcentration(): \n",
    "      generated_code.extend('{0} = {1}\\n'.format(element.getId(), element.getInitialConcentration()).encode('latin-1'))\n",
    "    else:\n",
    "      generated_code.extend('{0} = {1}\\n'.format(element.getId(), element.getInitialAmount()).encode('latin-1'))  \n",
    "  \n",
    "  # write derive function\n",
    "  generated_code.extend('\\n'.encode('latin-1'))\n",
    "  #generated_code.extend('  def ode_fun(__Y__, t):\\n'.encode('latin-1'))\n",
    "    \n",
    "   # Set all species equal to a __Y__[i] \n",
    "  for i in range(len(variables.keys())): \n",
    "    generated_code.extend('{0} = x[{1}]\\n'.format(list(variables.keys())[i], i).encode('latin-1'))\n",
    "    \n",
    "  generated_code.extend('\\n'.encode('latin-1'))\n",
    "  \n",
    "  for i in range(mod.getNumReactions()): \n",
    "    reaction = mod.getReaction(i)\n",
    "    kinetics = reaction.getKineticLaw()  \n",
    "    \n",
    "    generated_code.extend('{0} = {1}\\n'.format(reaction.getId(),  kinetics.getFormula()).encode('latin-1'))\n",
    "    \n",
    "    for j in range(reaction.getNumReactants()): \n",
    "      ref = reaction.getReactant(j)\n",
    "      species = mod.getSpecies(ref.getSpecies())\n",
    "      if species.getBoundaryCondition() == True: \n",
    "        continue\n",
    "      if ref.getStoichiometry() == 1.0: \n",
    "        variables[species.getId()].append('-{0}'.format(reaction.getId()))\n",
    "      else:\n",
    "        variables[species.getId()].append('-({0})*{1}'.format(ref.getStoichiometry(), reaction.getId()))\n",
    "    for j in range(reaction.getNumProducts()): \n",
    "      ref = reaction.getProduct(j)\n",
    "      species = mod.getSpecies(ref.getSpecies())\n",
    "      if species.getBoundaryCondition() == True: \n",
    "        continue\n",
    "      if ref.getStoichiometry() == 1.0: \n",
    "        variables[species.getId()].append('{0}'.format(reaction.getId()))\n",
    "      else:\n",
    "        variables[species.getId()].append('({0})*{1}'.format(ref.getStoichiometry(), reaction.getId()))\n",
    "  \n",
    "  generated_code.extend('\\n'.encode('latin-1'))\n",
    "    \n",
    "  generated_code.extend('funcs = array(['.encode('latin-1'))\n",
    " # generated_code.extend('    print( array(['.encode('latin-1'))\n",
    "  for i in range(len(variables.keys())):\n",
    "    for eqn in variables[list(variables.keys())[i]]:\n",
    "      generated_code.extend(' + ({0})'.format(eqn).encode('latin-1'))\n",
    "    if i + 1 < len(variables.keys()):\n",
    "      generated_code.extend(',\\n      '.encode('latin-1'))\n",
    "  generated_code.extend('    ])\\n'.encode('latin-1'))\n",
    "  generated_code.extend('\\n'.encode('latin-1'))\n",
    "\n",
    "  return generated_code"
   ]
  },
  {
   "cell_type": "code",
   "execution_count": 4,
   "metadata": {},
   "outputs": [],
   "source": [
    "filename = 'CRN.xml'"
   ]
  },
  {
   "cell_type": "code",
   "execution_count": 14,
   "metadata": {},
   "outputs": [],
   "source": [
    "# Define num_species, num_params\n",
    "doc = readSBMLFromFile(filename)\n",
    "props = ConversionProperties()\n",
    "props.addOption(\"promoteLocalParameters\", True)\n",
    "doc.convert(props)\n",
    "mod = doc.getModel()\n",
    "\n",
    "num_species = mod.getNumSpecies()\n",
    "num_params = mod.getNumParameters()"
   ]
  },
  {
   "cell_type": "code",
   "execution_count": 17,
   "metadata": {},
   "outputs": [],
   "source": [
    "gen_code = generateCodeForFile(filename)\n",
    "exec(gen_code)"
   ]
  },
  {
   "cell_type": "code",
   "execution_count": 19,
   "metadata": {},
   "outputs": [
    {
     "data": {
      "text/latex": [
       "$\\displaystyle - 15.0 x_{0} x_{1} x_{2} - 1.5 x_{0} x_{3} x_{4} + 1.5 x_{5} + 15.0 x_{6}$"
      ],
      "text/plain": [
       "-15.0*x0*x1*x2 - 1.5*x0*x3*x4 + 1.5*x5 + 15.0*x6"
      ]
     },
     "execution_count": 19,
     "metadata": {},
     "output_type": "execute_result"
    }
   ],
   "source": [
    "#returned in variable funcs\n",
    "funcs[0]"
   ]
  },
  {
   "cell_type": "code",
   "execution_count": null,
   "metadata": {},
   "outputs": [],
   "source": []
  },
  {
   "cell_type": "code",
   "execution_count": null,
   "metadata": {},
   "outputs": [],
   "source": []
  },
  {
   "cell_type": "code",
   "execution_count": 1,
   "metadata": {},
   "outputs": [
    {
     "ename": "NameError",
     "evalue": "name 'element' is not defined",
     "output_type": "error",
     "traceback": [
      "\u001b[0;31m---------------------------------------------------------------------------\u001b[0m",
      "\u001b[0;31mNameError\u001b[0m                                 Traceback (most recent call last)",
      "\u001b[0;32m<ipython-input-1-f48f0471deec>\u001b[0m in \u001b[0;36m<module>\u001b[0;34m\u001b[0m\n\u001b[1;32m      1\u001b[0m \u001b[0;32mfrom\u001b[0m \u001b[0msympy\u001b[0m \u001b[0;32mimport\u001b[0m \u001b[0mSymbol\u001b[0m\u001b[0;34m\u001b[0m\u001b[0;34m\u001b[0m\u001b[0m\n\u001b[0;32m----> 2\u001b[0;31m \u001b[0mx1\u001b[0m \u001b[0;34m=\u001b[0m \u001b[0mSymbol\u001b[0m\u001b[0;34m(\u001b[0m\u001b[0melement\u001b[0m\u001b[0;34m.\u001b[0m\u001b[0mgetId\u001b[0m\u001b[0;34m(\u001b[0m\u001b[0;34m)\u001b[0m\u001b[0;34m)\u001b[0m\u001b[0;34m\u001b[0m\u001b[0;34m\u001b[0m\u001b[0m\n\u001b[0m",
      "\u001b[0;31mNameError\u001b[0m: name 'element' is not defined"
     ]
    }
   ],
   "source": [
    "from sympy import Symbol\n",
    "x1 = Symbol(element.getId())"
   ]
  },
  {
   "cell_type": "code",
   "execution_count": null,
   "metadata": {},
   "outputs": [],
   "source": []
  },
  {
   "cell_type": "code",
   "execution_count": 22,
   "metadata": {},
   "outputs": [
    {
     "name": "stdout",
     "output_type": "stream",
     "text": [
      "CPython 3.7.7\n",
      "IPython 7.13.0\n",
      "\n",
      "numpy 1.18.1\n",
      "bokeh 2.0.2\n",
      "auto_reduce 0.1\n",
      "sympy 1.5.1\n",
      "libsbml 5.18.0\n",
      "sys 3.7.7 (default, Mar 26 2020, 10:32:53) \n",
      "[Clang 4.0.1 (tags/RELEASE_401/final)]\n",
      "jupyterlab 1.2.6\n"
     ]
    }
   ],
   "source": [
    "#watermark\n",
    "%reload_ext watermark\n",
    "%watermark -v -p numpy,bokeh,auto_reduce,sympy,libsbml,sys,jupyterlab"
   ]
  },
  {
   "cell_type": "code",
   "execution_count": null,
   "metadata": {},
   "outputs": [],
   "source": []
  }
 ],
 "metadata": {
  "kernelspec": {
   "display_name": "Python 3",
   "language": "python",
   "name": "python3"
  },
  "language_info": {
   "codemirror_mode": {
    "name": "ipython",
    "version": 3
   },
   "file_extension": ".py",
   "mimetype": "text/x-python",
   "name": "python",
   "nbconvert_exporter": "python",
   "pygments_lexer": "ipython3",
   "version": "3.7.7"
  }
 },
 "nbformat": 4,
 "nbformat_minor": 4
}
