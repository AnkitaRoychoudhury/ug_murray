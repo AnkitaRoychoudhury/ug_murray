{
 "cells": [
  {
   "cell_type": "markdown",
   "metadata": {},
   "source": [
    "# Reduced Model with autoReduce attempt 9 \n",
    "## include error metric\n",
    "7.9.2020 <br>\n",
    "In this model we will try to make a plot of error metrics for each model so we can choose a reduced model.\n",
    " <br>\n",
    " **Make sure using correct initial conditions** (not just ones)"
   ]
  },
  {
   "cell_type": "code",
   "execution_count": 7,
   "metadata": {},
   "outputs": [
    {
     "data": {
      "text/html": [
       "\n",
       "    <div class=\"bk-root\">\n",
       "        <a href=\"https://bokeh.org\" target=\"_blank\" class=\"bk-logo bk-logo-small bk-logo-notebook\"></a>\n",
       "        <span id=\"1002\">Loading BokehJS ...</span>\n",
       "    </div>"
      ]
     },
     "metadata": {},
     "output_type": "display_data"
    },
    {
     "data": {
      "application/javascript": [
       "\n",
       "(function(root) {\n",
       "  function now() {\n",
       "    return new Date();\n",
       "  }\n",
       "\n",
       "  var force = true;\n",
       "\n",
       "  if (typeof root._bokeh_onload_callbacks === \"undefined\" || force === true) {\n",
       "    root._bokeh_onload_callbacks = [];\n",
       "    root._bokeh_is_loading = undefined;\n",
       "  }\n",
       "\n",
       "  var JS_MIME_TYPE = 'application/javascript';\n",
       "  var HTML_MIME_TYPE = 'text/html';\n",
       "  var EXEC_MIME_TYPE = 'application/vnd.bokehjs_exec.v0+json';\n",
       "  var CLASS_NAME = 'output_bokeh rendered_html';\n",
       "\n",
       "  /**\n",
       "   * Render data to the DOM node\n",
       "   */\n",
       "  function render(props, node) {\n",
       "    var script = document.createElement(\"script\");\n",
       "    node.appendChild(script);\n",
       "  }\n",
       "\n",
       "  /**\n",
       "   * Handle when an output is cleared or removed\n",
       "   */\n",
       "  function handleClearOutput(event, handle) {\n",
       "    var cell = handle.cell;\n",
       "\n",
       "    var id = cell.output_area._bokeh_element_id;\n",
       "    var server_id = cell.output_area._bokeh_server_id;\n",
       "    // Clean up Bokeh references\n",
       "    if (id != null && id in Bokeh.index) {\n",
       "      Bokeh.index[id].model.document.clear();\n",
       "      delete Bokeh.index[id];\n",
       "    }\n",
       "\n",
       "    if (server_id !== undefined) {\n",
       "      // Clean up Bokeh references\n",
       "      var cmd = \"from bokeh.io.state import curstate; print(curstate().uuid_to_server['\" + server_id + \"'].get_sessions()[0].document.roots[0]._id)\";\n",
       "      cell.notebook.kernel.execute(cmd, {\n",
       "        iopub: {\n",
       "          output: function(msg) {\n",
       "            var id = msg.content.text.trim();\n",
       "            if (id in Bokeh.index) {\n",
       "              Bokeh.index[id].model.document.clear();\n",
       "              delete Bokeh.index[id];\n",
       "            }\n",
       "          }\n",
       "        }\n",
       "      });\n",
       "      // Destroy server and session\n",
       "      var cmd = \"import bokeh.io.notebook as ion; ion.destroy_server('\" + server_id + \"')\";\n",
       "      cell.notebook.kernel.execute(cmd);\n",
       "    }\n",
       "  }\n",
       "\n",
       "  /**\n",
       "   * Handle when a new output is added\n",
       "   */\n",
       "  function handleAddOutput(event, handle) {\n",
       "    var output_area = handle.output_area;\n",
       "    var output = handle.output;\n",
       "\n",
       "    // limit handleAddOutput to display_data with EXEC_MIME_TYPE content only\n",
       "    if ((output.output_type != \"display_data\") || (!output.data.hasOwnProperty(EXEC_MIME_TYPE))) {\n",
       "      return\n",
       "    }\n",
       "\n",
       "    var toinsert = output_area.element.find(\".\" + CLASS_NAME.split(' ')[0]);\n",
       "\n",
       "    if (output.metadata[EXEC_MIME_TYPE][\"id\"] !== undefined) {\n",
       "      toinsert[toinsert.length - 1].firstChild.textContent = output.data[JS_MIME_TYPE];\n",
       "      // store reference to embed id on output_area\n",
       "      output_area._bokeh_element_id = output.metadata[EXEC_MIME_TYPE][\"id\"];\n",
       "    }\n",
       "    if (output.metadata[EXEC_MIME_TYPE][\"server_id\"] !== undefined) {\n",
       "      var bk_div = document.createElement(\"div\");\n",
       "      bk_div.innerHTML = output.data[HTML_MIME_TYPE];\n",
       "      var script_attrs = bk_div.children[0].attributes;\n",
       "      for (var i = 0; i < script_attrs.length; i++) {\n",
       "        toinsert[toinsert.length - 1].firstChild.setAttribute(script_attrs[i].name, script_attrs[i].value);\n",
       "        toinsert[toinsert.length - 1].firstChild.textContent = bk_div.children[0].textContent\n",
       "      }\n",
       "      // store reference to server id on output_area\n",
       "      output_area._bokeh_server_id = output.metadata[EXEC_MIME_TYPE][\"server_id\"];\n",
       "    }\n",
       "  }\n",
       "\n",
       "  function register_renderer(events, OutputArea) {\n",
       "\n",
       "    function append_mime(data, metadata, element) {\n",
       "      // create a DOM node to render to\n",
       "      var toinsert = this.create_output_subarea(\n",
       "        metadata,\n",
       "        CLASS_NAME,\n",
       "        EXEC_MIME_TYPE\n",
       "      );\n",
       "      this.keyboard_manager.register_events(toinsert);\n",
       "      // Render to node\n",
       "      var props = {data: data, metadata: metadata[EXEC_MIME_TYPE]};\n",
       "      render(props, toinsert[toinsert.length - 1]);\n",
       "      element.append(toinsert);\n",
       "      return toinsert\n",
       "    }\n",
       "\n",
       "    /* Handle when an output is cleared or removed */\n",
       "    events.on('clear_output.CodeCell', handleClearOutput);\n",
       "    events.on('delete.Cell', handleClearOutput);\n",
       "\n",
       "    /* Handle when a new output is added */\n",
       "    events.on('output_added.OutputArea', handleAddOutput);\n",
       "\n",
       "    /**\n",
       "     * Register the mime type and append_mime function with output_area\n",
       "     */\n",
       "    OutputArea.prototype.register_mime_type(EXEC_MIME_TYPE, append_mime, {\n",
       "      /* Is output safe? */\n",
       "      safe: true,\n",
       "      /* Index of renderer in `output_area.display_order` */\n",
       "      index: 0\n",
       "    });\n",
       "  }\n",
       "\n",
       "  // register the mime type if in Jupyter Notebook environment and previously unregistered\n",
       "  if (root.Jupyter !== undefined) {\n",
       "    var events = require('base/js/events');\n",
       "    var OutputArea = require('notebook/js/outputarea').OutputArea;\n",
       "\n",
       "    if (OutputArea.prototype.mime_types().indexOf(EXEC_MIME_TYPE) == -1) {\n",
       "      register_renderer(events, OutputArea);\n",
       "    }\n",
       "  }\n",
       "\n",
       "  \n",
       "  if (typeof (root._bokeh_timeout) === \"undefined\" || force === true) {\n",
       "    root._bokeh_timeout = Date.now() + 5000;\n",
       "    root._bokeh_failed_load = false;\n",
       "  }\n",
       "\n",
       "  var NB_LOAD_WARNING = {'data': {'text/html':\n",
       "     \"<div style='background-color: #fdd'>\\n\"+\n",
       "     \"<p>\\n\"+\n",
       "     \"BokehJS does not appear to have successfully loaded. If loading BokehJS from CDN, this \\n\"+\n",
       "     \"may be due to a slow or bad network connection. Possible fixes:\\n\"+\n",
       "     \"</p>\\n\"+\n",
       "     \"<ul>\\n\"+\n",
       "     \"<li>re-rerun `output_notebook()` to attempt to load from CDN again, or</li>\\n\"+\n",
       "     \"<li>use INLINE resources instead, as so:</li>\\n\"+\n",
       "     \"</ul>\\n\"+\n",
       "     \"<code>\\n\"+\n",
       "     \"from bokeh.resources import INLINE\\n\"+\n",
       "     \"output_notebook(resources=INLINE)\\n\"+\n",
       "     \"</code>\\n\"+\n",
       "     \"</div>\"}};\n",
       "\n",
       "  function display_loaded() {\n",
       "    var el = document.getElementById(\"1002\");\n",
       "    if (el != null) {\n",
       "      el.textContent = \"BokehJS is loading...\";\n",
       "    }\n",
       "    if (root.Bokeh !== undefined) {\n",
       "      if (el != null) {\n",
       "        el.textContent = \"BokehJS \" + root.Bokeh.version + \" successfully loaded.\";\n",
       "      }\n",
       "    } else if (Date.now() < root._bokeh_timeout) {\n",
       "      setTimeout(display_loaded, 100)\n",
       "    }\n",
       "  }\n",
       "\n",
       "\n",
       "  function run_callbacks() {\n",
       "    try {\n",
       "      root._bokeh_onload_callbacks.forEach(function(callback) {\n",
       "        if (callback != null)\n",
       "          callback();\n",
       "      });\n",
       "    } finally {\n",
       "      delete root._bokeh_onload_callbacks\n",
       "    }\n",
       "    console.debug(\"Bokeh: all callbacks have finished\");\n",
       "  }\n",
       "\n",
       "  function load_libs(css_urls, js_urls, callback) {\n",
       "    if (css_urls == null) css_urls = [];\n",
       "    if (js_urls == null) js_urls = [];\n",
       "\n",
       "    root._bokeh_onload_callbacks.push(callback);\n",
       "    if (root._bokeh_is_loading > 0) {\n",
       "      console.debug(\"Bokeh: BokehJS is being loaded, scheduling callback at\", now());\n",
       "      return null;\n",
       "    }\n",
       "    if (js_urls == null || js_urls.length === 0) {\n",
       "      run_callbacks();\n",
       "      return null;\n",
       "    }\n",
       "    console.debug(\"Bokeh: BokehJS not loaded, scheduling load and callback at\", now());\n",
       "    root._bokeh_is_loading = css_urls.length + js_urls.length;\n",
       "\n",
       "    function on_load() {\n",
       "      root._bokeh_is_loading--;\n",
       "      if (root._bokeh_is_loading === 0) {\n",
       "        console.debug(\"Bokeh: all BokehJS libraries/stylesheets loaded\");\n",
       "        run_callbacks()\n",
       "      }\n",
       "    }\n",
       "\n",
       "    function on_error() {\n",
       "      console.error(\"failed to load \" + url);\n",
       "    }\n",
       "\n",
       "    for (var i = 0; i < css_urls.length; i++) {\n",
       "      var url = css_urls[i];\n",
       "      const element = document.createElement(\"link\");\n",
       "      element.onload = on_load;\n",
       "      element.onerror = on_error;\n",
       "      element.rel = \"stylesheet\";\n",
       "      element.type = \"text/css\";\n",
       "      element.href = url;\n",
       "      console.debug(\"Bokeh: injecting link tag for BokehJS stylesheet: \", url);\n",
       "      document.body.appendChild(element);\n",
       "    }\n",
       "\n",
       "    const hashes = {\"https://cdn.bokeh.org/bokeh/release/bokeh-2.0.2.min.js\": \"ufR9RFnRs6lniiaFvtJziE0YeidtAgBRH6ux2oUItHw5WTvE1zuk9uzhUU/FJXDp\", \"https://cdn.bokeh.org/bokeh/release/bokeh-widgets-2.0.2.min.js\": \"8QM/PGWBT+IssZuRcDcjzwIh1mkOmJSoNMmyYDZbCfXJg3Ap1lEvdVgFuSAwhb/J\", \"https://cdn.bokeh.org/bokeh/release/bokeh-tables-2.0.2.min.js\": \"Jm8cH3Rg0P6UeZhVY5cLy1WzKajUT9KImCY+76hEqrcJt59/d8GPvFHjCkYgnSIn\", \"https://cdn.bokeh.org/bokeh/release/bokeh-gl-2.0.2.min.js\": \"Ozhzj+SI7ywm74aOI/UajcWz+C0NjsPunEVyVIrxzYkB+jA+2tUw8x5xJCbVtK5I\"};\n",
       "\n",
       "    for (var i = 0; i < js_urls.length; i++) {\n",
       "      var url = js_urls[i];\n",
       "      var element = document.createElement('script');\n",
       "      element.onload = on_load;\n",
       "      element.onerror = on_error;\n",
       "      element.async = false;\n",
       "      element.src = url;\n",
       "      if (url in hashes) {\n",
       "        element.crossOrigin = \"anonymous\";\n",
       "        element.integrity = \"sha384-\" + hashes[url];\n",
       "      }\n",
       "      console.debug(\"Bokeh: injecting script tag for BokehJS library: \", url);\n",
       "      document.head.appendChild(element);\n",
       "    }\n",
       "  };\n",
       "\n",
       "  function inject_raw_css(css) {\n",
       "    const element = document.createElement(\"style\");\n",
       "    element.appendChild(document.createTextNode(css));\n",
       "    document.body.appendChild(element);\n",
       "  }\n",
       "\n",
       "  \n",
       "  var js_urls = [\"https://cdn.bokeh.org/bokeh/release/bokeh-2.0.2.min.js\", \"https://cdn.bokeh.org/bokeh/release/bokeh-widgets-2.0.2.min.js\", \"https://cdn.bokeh.org/bokeh/release/bokeh-tables-2.0.2.min.js\", \"https://cdn.bokeh.org/bokeh/release/bokeh-gl-2.0.2.min.js\"];\n",
       "  var css_urls = [];\n",
       "  \n",
       "\n",
       "  var inline_js = [\n",
       "    function(Bokeh) {\n",
       "      Bokeh.set_log_level(\"info\");\n",
       "    },\n",
       "    function(Bokeh) {\n",
       "    \n",
       "    \n",
       "    }\n",
       "  ];\n",
       "\n",
       "  function run_inline_js() {\n",
       "    \n",
       "    if (root.Bokeh !== undefined || force === true) {\n",
       "      \n",
       "    for (var i = 0; i < inline_js.length; i++) {\n",
       "      inline_js[i].call(root, root.Bokeh);\n",
       "    }\n",
       "    if (force === true) {\n",
       "        display_loaded();\n",
       "      }} else if (Date.now() < root._bokeh_timeout) {\n",
       "      setTimeout(run_inline_js, 100);\n",
       "    } else if (!root._bokeh_failed_load) {\n",
       "      console.log(\"Bokeh: BokehJS failed to load within specified timeout.\");\n",
       "      root._bokeh_failed_load = true;\n",
       "    } else if (force !== true) {\n",
       "      var cell = $(document.getElementById(\"1002\")).parents('.cell').data().cell;\n",
       "      cell.output_area.append_execute_result(NB_LOAD_WARNING)\n",
       "    }\n",
       "\n",
       "  }\n",
       "\n",
       "  if (root._bokeh_is_loading === 0) {\n",
       "    console.debug(\"Bokeh: BokehJS loaded, going straight to plotting\");\n",
       "    run_inline_js();\n",
       "  } else {\n",
       "    load_libs(css_urls, js_urls, function() {\n",
       "      console.debug(\"Bokeh: BokehJS plotting callback run at\", now());\n",
       "      run_inline_js();\n",
       "    });\n",
       "  }\n",
       "}(window));"
      ],
      "application/vnd.bokehjs_load.v0+json": "\n(function(root) {\n  function now() {\n    return new Date();\n  }\n\n  var force = true;\n\n  if (typeof root._bokeh_onload_callbacks === \"undefined\" || force === true) {\n    root._bokeh_onload_callbacks = [];\n    root._bokeh_is_loading = undefined;\n  }\n\n  \n\n  \n  if (typeof (root._bokeh_timeout) === \"undefined\" || force === true) {\n    root._bokeh_timeout = Date.now() + 5000;\n    root._bokeh_failed_load = false;\n  }\n\n  var NB_LOAD_WARNING = {'data': {'text/html':\n     \"<div style='background-color: #fdd'>\\n\"+\n     \"<p>\\n\"+\n     \"BokehJS does not appear to have successfully loaded. If loading BokehJS from CDN, this \\n\"+\n     \"may be due to a slow or bad network connection. Possible fixes:\\n\"+\n     \"</p>\\n\"+\n     \"<ul>\\n\"+\n     \"<li>re-rerun `output_notebook()` to attempt to load from CDN again, or</li>\\n\"+\n     \"<li>use INLINE resources instead, as so:</li>\\n\"+\n     \"</ul>\\n\"+\n     \"<code>\\n\"+\n     \"from bokeh.resources import INLINE\\n\"+\n     \"output_notebook(resources=INLINE)\\n\"+\n     \"</code>\\n\"+\n     \"</div>\"}};\n\n  function display_loaded() {\n    var el = document.getElementById(\"1002\");\n    if (el != null) {\n      el.textContent = \"BokehJS is loading...\";\n    }\n    if (root.Bokeh !== undefined) {\n      if (el != null) {\n        el.textContent = \"BokehJS \" + root.Bokeh.version + \" successfully loaded.\";\n      }\n    } else if (Date.now() < root._bokeh_timeout) {\n      setTimeout(display_loaded, 100)\n    }\n  }\n\n\n  function run_callbacks() {\n    try {\n      root._bokeh_onload_callbacks.forEach(function(callback) {\n        if (callback != null)\n          callback();\n      });\n    } finally {\n      delete root._bokeh_onload_callbacks\n    }\n    console.debug(\"Bokeh: all callbacks have finished\");\n  }\n\n  function load_libs(css_urls, js_urls, callback) {\n    if (css_urls == null) css_urls = [];\n    if (js_urls == null) js_urls = [];\n\n    root._bokeh_onload_callbacks.push(callback);\n    if (root._bokeh_is_loading > 0) {\n      console.debug(\"Bokeh: BokehJS is being loaded, scheduling callback at\", now());\n      return null;\n    }\n    if (js_urls == null || js_urls.length === 0) {\n      run_callbacks();\n      return null;\n    }\n    console.debug(\"Bokeh: BokehJS not loaded, scheduling load and callback at\", now());\n    root._bokeh_is_loading = css_urls.length + js_urls.length;\n\n    function on_load() {\n      root._bokeh_is_loading--;\n      if (root._bokeh_is_loading === 0) {\n        console.debug(\"Bokeh: all BokehJS libraries/stylesheets loaded\");\n        run_callbacks()\n      }\n    }\n\n    function on_error() {\n      console.error(\"failed to load \" + url);\n    }\n\n    for (var i = 0; i < css_urls.length; i++) {\n      var url = css_urls[i];\n      const element = document.createElement(\"link\");\n      element.onload = on_load;\n      element.onerror = on_error;\n      element.rel = \"stylesheet\";\n      element.type = \"text/css\";\n      element.href = url;\n      console.debug(\"Bokeh: injecting link tag for BokehJS stylesheet: \", url);\n      document.body.appendChild(element);\n    }\n\n    const hashes = {\"https://cdn.bokeh.org/bokeh/release/bokeh-2.0.2.min.js\": \"ufR9RFnRs6lniiaFvtJziE0YeidtAgBRH6ux2oUItHw5WTvE1zuk9uzhUU/FJXDp\", \"https://cdn.bokeh.org/bokeh/release/bokeh-widgets-2.0.2.min.js\": \"8QM/PGWBT+IssZuRcDcjzwIh1mkOmJSoNMmyYDZbCfXJg3Ap1lEvdVgFuSAwhb/J\", \"https://cdn.bokeh.org/bokeh/release/bokeh-tables-2.0.2.min.js\": \"Jm8cH3Rg0P6UeZhVY5cLy1WzKajUT9KImCY+76hEqrcJt59/d8GPvFHjCkYgnSIn\", \"https://cdn.bokeh.org/bokeh/release/bokeh-gl-2.0.2.min.js\": \"Ozhzj+SI7ywm74aOI/UajcWz+C0NjsPunEVyVIrxzYkB+jA+2tUw8x5xJCbVtK5I\"};\n\n    for (var i = 0; i < js_urls.length; i++) {\n      var url = js_urls[i];\n      var element = document.createElement('script');\n      element.onload = on_load;\n      element.onerror = on_error;\n      element.async = false;\n      element.src = url;\n      if (url in hashes) {\n        element.crossOrigin = \"anonymous\";\n        element.integrity = \"sha384-\" + hashes[url];\n      }\n      console.debug(\"Bokeh: injecting script tag for BokehJS library: \", url);\n      document.head.appendChild(element);\n    }\n  };\n\n  function inject_raw_css(css) {\n    const element = document.createElement(\"style\");\n    element.appendChild(document.createTextNode(css));\n    document.body.appendChild(element);\n  }\n\n  \n  var js_urls = [\"https://cdn.bokeh.org/bokeh/release/bokeh-2.0.2.min.js\", \"https://cdn.bokeh.org/bokeh/release/bokeh-widgets-2.0.2.min.js\", \"https://cdn.bokeh.org/bokeh/release/bokeh-tables-2.0.2.min.js\", \"https://cdn.bokeh.org/bokeh/release/bokeh-gl-2.0.2.min.js\"];\n  var css_urls = [];\n  \n\n  var inline_js = [\n    function(Bokeh) {\n      Bokeh.set_log_level(\"info\");\n    },\n    function(Bokeh) {\n    \n    \n    }\n  ];\n\n  function run_inline_js() {\n    \n    if (root.Bokeh !== undefined || force === true) {\n      \n    for (var i = 0; i < inline_js.length; i++) {\n      inline_js[i].call(root, root.Bokeh);\n    }\n    if (force === true) {\n        display_loaded();\n      }} else if (Date.now() < root._bokeh_timeout) {\n      setTimeout(run_inline_js, 100);\n    } else if (!root._bokeh_failed_load) {\n      console.log(\"Bokeh: BokehJS failed to load within specified timeout.\");\n      root._bokeh_failed_load = true;\n    } else if (force !== true) {\n      var cell = $(document.getElementById(\"1002\")).parents('.cell').data().cell;\n      cell.output_area.append_execute_result(NB_LOAD_WARNING)\n    }\n\n  }\n\n  if (root._bokeh_is_loading === 0) {\n    console.debug(\"Bokeh: BokehJS loaded, going straight to plotting\");\n    run_inline_js();\n  } else {\n    load_libs(css_urls, js_urls, function() {\n      console.debug(\"Bokeh: BokehJS plotting callback run at\", now());\n      run_inline_js();\n    });\n  }\n}(window));"
     },
     "metadata": {},
     "output_type": "display_data"
    }
   ],
   "source": [
    "# imports\n",
    "from libsbml import *\n",
    "import sys\n",
    "import numpy as np\n",
    "from auto_reduce import *\n",
    "from auto_reduce.utils import get_ODE\n",
    "import matplotlib.pyplot as plt\n",
    "from auto_reduce.utils import reduce\n",
    "\n",
    "import bokeh.io\n",
    "import bokeh.plotting\n",
    "bokeh.io.output_notebook()\n",
    "\n",
    "import tqdm\n",
    "import math"
   ]
  },
  {
   "cell_type": "code",
   "execution_count": 8,
   "metadata": {},
   "outputs": [],
   "source": [
    "%run prep_for_autoreduce.py"
   ]
  },
  {
   "cell_type": "markdown",
   "metadata": {},
   "source": [
    "### Timescale separation"
   ]
  },
  {
   "cell_type": "code",
   "execution_count": 9,
   "metadata": {},
   "outputs": [
    {
     "name": "stdout",
     "output_type": "stream",
     "text": [
      "[x5]\n",
      "[x0, x1, x2, x3, x4, x6, x7, x8, x9, x10, x11, x12, x13, x14, x15, x16, x17, x18, x19, x20, x21, x22, x23, x24, x25, x26, x27, x28, x29, x30, x31, x32, x33, x34, x35, x36, x37, x38, x39, x40, x41, x42, x43, x44, x45, x46, x47, x48, x49, x50, x51, x52, x53, x54, x55, x56, x57, x58, x59, x60, x61, x62, x63, x64, x65, x66, x67]\n"
     ]
    }
   ],
   "source": [
    "# Define list of indices to remove\n",
    "#i_list = [5,6,9,10,13, 14,17,18,23,24,28,29,31,32,35,36,39,40,43,44,47,48,51,52,55,56,59,60,63,64,66,67]\n",
    "i_list = [5]\n",
    "\n",
    "# Get appropriate list of complexes with indices in i_list\n",
    "timescale_list = []\n",
    "for i in i_list:\n",
    "    #/print(i)\n",
    "    timescale_list.append(x[i])\n",
    "\n",
    "print(timescale_list)\n",
    "\n",
    "# Get appropriate list of complexes that are not in timescale_list\n",
    "# What you should pass into solve_timescale_separation\n",
    "update_timescale = []\n",
    "for item in x:\n",
    "    if item not in timescale_list:\n",
    "        update_timescale.append(item)\n",
    "\n",
    "print(update_timescale)\n",
    "        \n",
    "\n",
    "\n"
   ]
  },
  {
   "cell_type": "code",
   "execution_count": 10,
   "metadata": {},
   "outputs": [],
   "source": [
    "timepoints_ssm = np.linspace(0,100,10)\n",
    "timepoints_ode = np.linspace(0, 100, 10)\n",
    "sys_reduce = reduce(sys, timepoints_ode, timepoints_ssm)"
   ]
  },
  {
   "cell_type": "code",
   "execution_count": 11,
   "metadata": {},
   "outputs": [
    {
     "name": "stdout",
     "output_type": "stream",
     "text": [
      "attempting to retain : [0, 1, 2, 3, 4, 6, 7, 8, 9, 10, 11, 12, 13, 14, 15, 16, 17, 18, 19, 20, 21, 22, 23, 24, 25, 26, 27, 28, 29, 30, 31, 32, 33, 34, 35, 36, 37, 38, 39, 40, 41, 42, 43, 44, 45, 46, 47, 48, 49, 50, 51, 52, 53, 54, 55, 56, 57, 58, 59, 60, 61, 62, 63, 64, 65, 66, 67]\n",
      "Successful time-scale separation solution obtained.\n"
     ]
    }
   ],
   "source": [
    "aa,bb = sys_reduce.solve_timescale_separation(update_timescale)"
   ]
  },
  {
   "cell_type": "code",
   "execution_count": 12,
   "metadata": {},
   "outputs": [
    {
     "data": {
      "text/plain": [
       "2.828427122486127"
      ]
     },
     "execution_count": 12,
     "metadata": {},
     "output_type": "execute_result"
    }
   ],
   "source": [
    "sys_reduce.get_error_metric(aa)"
   ]
  },
  {
   "cell_type": "markdown",
   "metadata": {},
   "source": [
    "## Make a list of reduced models\n",
    "Esssentialy make a bunch of `i_list`'s that you want to pass in"
   ]
  },
  {
   "cell_type": "code",
   "execution_count": 8,
   "metadata": {},
   "outputs": [],
   "source": [
    "remove_list = [ [5],\n",
    "               [5,6],\n",
    "               [5,6,9,10], \n",
    "               [5,6,9,10,23,24,28,29,31,32,35,39,40,43,44], # random slices of complexes\n",
    "            [5,9,13,17,23,28,31,35,39,43,47,51,55,59,63,66], # remove every other one from whole complex list\n",
    "             [5,6,9,10,13, 14,17,18,23,24,28,29,31,32,35,36,39,40,43,44,47,48,51,52,55,56,59,60,63,64,66,67], # entire complex list,\n",
    "              # [0,3,4,5,6,7,8,9,10,11,12,13,14,15,16,17,18,19,20,21,22,23,24,25,26,27,28,29,30,31,32,33,\n",
    "              # 34,35,36,37,38,39,40,41,42,43,44,45,46,47,48,49,50,51,52,53,54,55,56,57,58,59,60,61,63,64]\n",
    "    \n",
    "]"
   ]
  },
  {
   "cell_type": "code",
   "execution_count": 9,
   "metadata": {},
   "outputs": [
    {
     "data": {
      "text/plain": [
       "6"
      ]
     },
     "execution_count": 9,
     "metadata": {},
     "output_type": "execute_result"
    }
   ],
   "source": [
    "len(remove_list)"
   ]
  },
  {
   "cell_type": "code",
   "execution_count": 22,
   "metadata": {},
   "outputs": [],
   "source": [
    "def error_plot(remove_list, title = None):\n",
    "    \n",
    "    #colors = ['#1b9e77','#d95f02','#7570b3','#e7298a','#66a61e','#e6ab02']\n",
    "    colors = ['#a6cee3','#1f78b4','#b2df8a','#33a02c','#fb9a99','#e31a1c',\n",
    "     '#fdbf6f','#ff7f00','#cab2d6','#6a3d9a','#ffff99','#b15928']\n",
    "    p = bokeh.plotting.figure(width = 550, height = 450, title = title,\n",
    "            x_axis_label = 'Model Number', y_axis_label = 'Error Metric Value')\n",
    "    \n",
    "    for ind,sub_remove in tqdm.tqdm(enumerate(remove_list)):\n",
    "        \n",
    "        timescale_list = []\n",
    "        for s in sub_remove:\n",
    "            timescale_list.append(x[s])\n",
    "\n",
    "        # Get appropriate list of complexes that are not in timescale_list\n",
    "        # What you should pass into solve_timescale_separation\n",
    "        update_timescale = []\n",
    "        for item in x:\n",
    "            if item not in timescale_list:\n",
    "                update_timescale.append(item)\n",
    "\n",
    "        timepoints_ssm = np.linspace(0,100,10)\n",
    "        timepoints_ode = np.linspace(0, 100, 10)\n",
    "        sys_reduce = reduce(sys, timepoints_ode, timepoints_ssm)\n",
    "\n",
    "        aa,bb = sys_reduce.solve_timescale_separation(update_timescale)\n",
    "\n",
    "        curr_error = sys_reduce.get_error_metric(aa)\n",
    "        \n",
    "        if math.isnan(curr_error):\n",
    "            curr_error = 0\n",
    "        \n",
    "            p.circle(ind,curr_error,color = 'black', size = 10, legend_label = 'nan Model {i}'.format(i = ind))\n",
    "        \n",
    "        elif math.isinf(curr_error):\n",
    "            curr_error = 0\n",
    "            \n",
    "            p.circle(ind,curr_error,color = 'black', size = 10, legend_label = 'inf Model {i}'.format(i = ind))\n",
    "            \n",
    "        else:\n",
    "            p.circle(ind,curr_error,color = colors[ind], size = 10, legend_label = 'Model {i}'.format(i = ind))\n",
    "\n",
    "    p.legend.location = 'top_right'\n",
    "    \n",
    "    bokeh.io.show(p)\n",
    "    \n",
    "    for i,group in enumerate(remove_list):\n",
    "        print('Model', i, ':', group)\n",
    "    return None\n",
    "        \n",
    "        \n",
    "        "
   ]
  },
  {
   "cell_type": "code",
   "execution_count": 19,
   "metadata": {},
   "outputs": [
    {
     "name": "stderr",
     "output_type": "stream",
     "text": [
      "0it [00:00, ?it/s]"
     ]
    },
    {
     "name": "stdout",
     "output_type": "stream",
     "text": [
      "attempting to retain : [0, 1, 2, 3, 4, 6, 7, 8, 9, 10, 11, 12, 13, 14, 15, 16, 17, 18, 19, 20, 21, 22, 23, 24, 25, 26, 27, 28, 29, 30, 31, 32, 33, 34, 35, 36, 37, 38, 39, 40, 41, 42, 43, 44, 45, 46, 47, 48, 49, 50, 51, 52, 53, 54, 55, 56, 57, 58, 59, 60, 61, 62, 63, 64, 65, 66, 67]\n",
      "Successful time-scale separation solution obtained.\n"
     ]
    },
    {
     "name": "stderr",
     "output_type": "stream",
     "text": [
      "1it [00:01,  1.95s/it]"
     ]
    },
    {
     "name": "stdout",
     "output_type": "stream",
     "text": [
      "attempting to retain : [0, 1, 2, 3, 4, 7, 8, 9, 10, 11, 12, 13, 14, 15, 16, 17, 18, 19, 20, 21, 22, 23, 24, 25, 26, 27, 28, 29, 30, 31, 32, 33, 34, 35, 36, 37, 38, 39, 40, 41, 42, 43, 44, 45, 46, 47, 48, 49, 50, 51, 52, 53, 54, 55, 56, 57, 58, 59, 60, 61, 62, 63, 64, 65, 66, 67]\n",
      "Successful time-scale separation solution obtained.\n"
     ]
    },
    {
     "name": "stderr",
     "output_type": "stream",
     "text": [
      "2it [00:04,  2.14s/it]"
     ]
    },
    {
     "name": "stdout",
     "output_type": "stream",
     "text": [
      "attempting to retain : [0, 1, 2, 3, 4, 7, 8, 11, 12, 13, 14, 15, 16, 17, 18, 19, 20, 21, 22, 23, 24, 25, 26, 27, 28, 29, 30, 31, 32, 33, 34, 35, 36, 37, 38, 39, 40, 41, 42, 43, 44, 45, 46, 47, 48, 49, 50, 51, 52, 53, 54, 55, 56, 57, 58, 59, 60, 61, 62, 63, 64, 65, 66, 67]\n",
      "Successful time-scale separation solution obtained.\n"
     ]
    },
    {
     "name": "stderr",
     "output_type": "stream",
     "text": [
      "3it [00:07,  2.25s/it]"
     ]
    },
    {
     "name": "stdout",
     "output_type": "stream",
     "text": [
      "attempting to retain : [0, 1, 2, 3, 4, 7, 8, 11, 12, 13, 14, 15, 16, 17, 18, 19, 20, 21, 22, 25, 26, 27, 30, 33, 34, 36, 37, 38, 41, 42, 45, 46, 47, 48, 49, 50, 51, 52, 53, 54, 55, 56, 57, 58, 59, 60, 61, 62, 63, 64, 65, 66, 67]\n",
      "Successful time-scale separation solution obtained.\n"
     ]
    },
    {
     "name": "stderr",
     "output_type": "stream",
     "text": [
      "4it [00:10,  2.72s/it]"
     ]
    },
    {
     "name": "stdout",
     "output_type": "stream",
     "text": [
      "attempting to retain : [0, 1, 2, 3, 4, 6, 7, 8, 10, 11, 12, 14, 15, 16, 18, 19, 20, 21, 22, 24, 25, 26, 27, 29, 30, 32, 33, 34, 36, 37, 38, 40, 41, 42, 44, 45, 46, 48, 49, 50, 52, 53, 54, 56, 57, 58, 60, 61, 62, 64, 65, 67]\n",
      "Successful time-scale separation solution obtained.\n"
     ]
    },
    {
     "name": "stderr",
     "output_type": "stream",
     "text": [
      "5it [00:13,  2.71s/it]"
     ]
    },
    {
     "name": "stdout",
     "output_type": "stream",
     "text": [
      "attempting to retain : [0, 1, 2, 3, 4, 7, 8, 11, 12, 15, 16, 19, 20, 21, 22, 25, 26, 27, 30, 33, 34, 37, 38, 41, 42, 45, 46, 49, 50, 53, 54, 57, 58, 61, 62, 65]\n",
      "Successful time-scale separation solution obtained.\n"
     ]
    },
    {
     "name": "stderr",
     "output_type": "stream",
     "text": [
      "6it [00:18,  3.11s/it]\n"
     ]
    },
    {
     "data": {
      "text/html": [
       "\n",
       "\n",
       "\n",
       "\n",
       "\n",
       "\n",
       "  <div class=\"bk-root\" id=\"17c4b813-201f-47c8-91ef-f5edad178c69\" data-root-id=\"2272\"></div>\n"
      ]
     },
     "metadata": {},
     "output_type": "display_data"
    },
    {
     "data": {
      "application/javascript": [
       "(function(root) {\n",
       "  function embed_document(root) {\n",
       "    \n",
       "  var docs_json = {\"d8457d18-82e8-46ad-81b4-d33f7204d790\":{\"roots\":{\"references\":[{\"attributes\":{\"below\":[{\"id\":\"2283\"}],\"center\":[{\"id\":\"2286\"},{\"id\":\"2290\"},{\"id\":\"2316\"}],\"left\":[{\"id\":\"2287\"}],\"plot_height\":350,\"plot_width\":450,\"renderers\":[{\"id\":\"2308\"},{\"id\":\"2321\"},{\"id\":\"2335\"},{\"id\":\"2351\"},{\"id\":\"2369\"},{\"id\":\"2389\"}],\"title\":{\"id\":\"2273\"},\"toolbar\":{\"id\":\"2298\"},\"x_range\":{\"id\":\"2275\"},\"x_scale\":{\"id\":\"2279\"},\"y_range\":{\"id\":\"2277\"},\"y_scale\":{\"id\":\"2281\"}},\"id\":\"2272\",\"subtype\":\"Figure\",\"type\":\"Plot\"},{\"attributes\":{},\"id\":\"2277\",\"type\":\"DataRange1d\"},{\"attributes\":{\"source\":{\"id\":\"2305\"}},\"id\":\"2309\",\"type\":\"CDSView\"},{\"attributes\":{\"data_source\":{\"id\":\"2386\"},\"glyph\":{\"id\":\"2387\"},\"hover_glyph\":null,\"muted_glyph\":null,\"nonselection_glyph\":{\"id\":\"2388\"},\"selection_glyph\":null,\"view\":{\"id\":\"2390\"}},\"id\":\"2389\",\"type\":\"GlyphRenderer\"},{\"attributes\":{},\"id\":\"2279\",\"type\":\"LinearScale\"},{\"attributes\":{\"data\":{},\"selected\":{\"id\":\"2329\"},\"selection_policy\":{\"id\":\"2328\"}},\"id\":\"2305\",\"type\":\"ColumnDataSource\"},{\"attributes\":{\"data\":{},\"selected\":{\"id\":\"2498\"},\"selection_policy\":{\"id\":\"2497\"}},\"id\":\"2386\",\"type\":\"ColumnDataSource\"},{\"attributes\":{\"label\":{\"value\":\"Model 2\"},\"renderers\":[{\"id\":\"2335\"}]},\"id\":\"2347\",\"type\":\"LegendItem\"},{\"attributes\":{\"data_source\":{\"id\":\"2305\"},\"glyph\":{\"id\":\"2306\"},\"hover_glyph\":null,\"muted_glyph\":null,\"nonselection_glyph\":{\"id\":\"2307\"},\"selection_glyph\":null,\"view\":{\"id\":\"2309\"}},\"id\":\"2308\",\"type\":\"GlyphRenderer\"},{\"attributes\":{\"source\":{\"id\":\"2386\"}},\"id\":\"2390\",\"type\":\"CDSView\"},{\"attributes\":{},\"id\":\"2288\",\"type\":\"BasicTicker\"},{\"attributes\":{\"fill_alpha\":{\"value\":0.1},\"fill_color\":{\"value\":\"#33a02c\"},\"line_alpha\":{\"value\":0.1},\"line_color\":{\"value\":\"#33a02c\"},\"size\":{\"units\":\"screen\",\"value\":10},\"x\":{\"value\":3},\"y\":{\"value\":2.8284271224861257}},\"id\":\"2350\",\"type\":\"Circle\"},{\"attributes\":{\"overlay\":{\"id\":\"2297\"}},\"id\":\"2293\",\"type\":\"BoxZoomTool\"},{\"attributes\":{},\"id\":\"2362\",\"type\":\"UnionRenderers\"},{\"attributes\":{\"fill_color\":{\"value\":\"#b2df8a\"},\"line_color\":{\"value\":\"#b2df8a\"},\"size\":{\"units\":\"screen\",\"value\":10},\"x\":{\"value\":2},\"y\":{\"value\":2.828427122486125}},\"id\":\"2333\",\"type\":\"Circle\"},{\"attributes\":{},\"id\":\"2312\",\"type\":\"BasicTickFormatter\"},{\"attributes\":{\"fill_color\":{\"value\":\"#33a02c\"},\"line_color\":{\"value\":\"#33a02c\"},\"size\":{\"units\":\"screen\",\"value\":10},\"x\":{\"value\":3},\"y\":{\"value\":2.8284271224861257}},\"id\":\"2349\",\"type\":\"Circle\"},{\"attributes\":{\"data\":{},\"selected\":{\"id\":\"2405\"},\"selection_policy\":{\"id\":\"2404\"}},\"id\":\"2366\",\"type\":\"ColumnDataSource\"},{\"attributes\":{\"label\":{\"value\":\"inf Model 1\"},\"renderers\":[{\"id\":\"2321\"}]},\"id\":\"2331\",\"type\":\"LegendItem\"},{\"attributes\":{\"label\":{\"value\":\"inf Model 4\"},\"renderers\":[{\"id\":\"2369\"}]},\"id\":\"2385\",\"type\":\"LegendItem\"},{\"attributes\":{\"data\":{},\"selected\":{\"id\":\"2345\"},\"selection_policy\":{\"id\":\"2344\"}},\"id\":\"2318\",\"type\":\"ColumnDataSource\"},{\"attributes\":{},\"id\":\"2344\",\"type\":\"UnionRenderers\"},{\"attributes\":{},\"id\":\"2363\",\"type\":\"Selection\"},{\"attributes\":{\"fill_color\":{\"value\":\"#e31a1c\"},\"line_color\":{\"value\":\"#e31a1c\"},\"size\":{\"units\":\"screen\",\"value\":10},\"x\":{\"value\":5},\"y\":{\"value\":2.8699823614600284}},\"id\":\"2387\",\"type\":\"Circle\"},{\"attributes\":{\"label\":{\"value\":\"Model 0\"},\"renderers\":[{\"id\":\"2308\"}]},\"id\":\"2317\",\"type\":\"LegendItem\"},{\"attributes\":{\"source\":{\"id\":\"2318\"}},\"id\":\"2322\",\"type\":\"CDSView\"},{\"attributes\":{},\"id\":\"2284\",\"type\":\"BasicTicker\"},{\"attributes\":{},\"id\":\"2383\",\"type\":\"Selection\"},{\"attributes\":{\"fill_alpha\":{\"value\":0.1},\"fill_color\":{\"value\":\"#a6cee3\"},\"line_alpha\":{\"value\":0.1},\"line_color\":{\"value\":\"#a6cee3\"},\"size\":{\"units\":\"screen\",\"value\":10},\"x\":{\"value\":0},\"y\":{\"value\":2.828427122486127}},\"id\":\"2307\",\"type\":\"Circle\"},{\"attributes\":{\"source\":{\"id\":\"2366\"}},\"id\":\"2370\",\"type\":\"CDSView\"},{\"attributes\":{},\"id\":\"2292\",\"type\":\"WheelZoomTool\"},{\"attributes\":{},\"id\":\"2498\",\"type\":\"Selection\"},{\"attributes\":{\"axis_label\":\"Model Number\",\"formatter\":{\"id\":\"2314\"},\"ticker\":{\"id\":\"2284\"}},\"id\":\"2283\",\"type\":\"LinearAxis\"},{\"attributes\":{\"fill_alpha\":{\"value\":0.1},\"fill_color\":{\"value\":\"black\"},\"line_alpha\":{\"value\":0.1},\"size\":{\"units\":\"screen\",\"value\":10},\"x\":{\"value\":4},\"y\":{\"value\":0}},\"id\":\"2368\",\"type\":\"Circle\"},{\"attributes\":{},\"id\":\"2296\",\"type\":\"HelpTool\"},{\"attributes\":{\"axis\":{\"id\":\"2287\"},\"dimension\":1,\"ticker\":null},\"id\":\"2290\",\"type\":\"Grid\"},{\"attributes\":{\"fill_color\":{\"value\":\"black\"},\"size\":{\"units\":\"screen\",\"value\":10},\"x\":{\"value\":1},\"y\":{\"value\":0}},\"id\":\"2319\",\"type\":\"Circle\"},{\"attributes\":{\"fill_color\":{\"value\":\"black\"},\"size\":{\"units\":\"screen\",\"value\":10},\"x\":{\"value\":4},\"y\":{\"value\":0}},\"id\":\"2367\",\"type\":\"Circle\"},{\"attributes\":{\"fill_alpha\":{\"value\":0.1},\"fill_color\":{\"value\":\"black\"},\"line_alpha\":{\"value\":0.1},\"size\":{\"units\":\"screen\",\"value\":10},\"x\":{\"value\":1},\"y\":{\"value\":0}},\"id\":\"2320\",\"type\":\"Circle\"},{\"attributes\":{},\"id\":\"2328\",\"type\":\"UnionRenderers\"},{\"attributes\":{\"data_source\":{\"id\":\"2348\"},\"glyph\":{\"id\":\"2349\"},\"hover_glyph\":null,\"muted_glyph\":null,\"nonselection_glyph\":{\"id\":\"2350\"},\"selection_glyph\":null,\"view\":{\"id\":\"2352\"}},\"id\":\"2351\",\"type\":\"GlyphRenderer\"},{\"attributes\":{\"text\":\"Error Metric for Different Reduced Models\"},\"id\":\"2273\",\"type\":\"Title\"},{\"attributes\":{\"label\":{\"value\":\"Model 3\"},\"renderers\":[{\"id\":\"2351\"}]},\"id\":\"2365\",\"type\":\"LegendItem\"},{\"attributes\":{},\"id\":\"2295\",\"type\":\"ResetTool\"},{\"attributes\":{},\"id\":\"2329\",\"type\":\"Selection\"},{\"attributes\":{\"data_source\":{\"id\":\"2366\"},\"glyph\":{\"id\":\"2367\"},\"hover_glyph\":null,\"muted_glyph\":null,\"nonselection_glyph\":{\"id\":\"2368\"},\"selection_glyph\":null,\"view\":{\"id\":\"2370\"}},\"id\":\"2369\",\"type\":\"GlyphRenderer\"},{\"attributes\":{},\"id\":\"2294\",\"type\":\"SaveTool\"},{\"attributes\":{\"bottom_units\":\"screen\",\"fill_alpha\":0.5,\"fill_color\":\"lightgrey\",\"left_units\":\"screen\",\"level\":\"overlay\",\"line_alpha\":1.0,\"line_color\":\"black\",\"line_dash\":[4,4],\"line_width\":2,\"render_mode\":\"css\",\"right_units\":\"screen\",\"top_units\":\"screen\"},\"id\":\"2297\",\"type\":\"BoxAnnotation\"},{\"attributes\":{\"data\":{},\"selected\":{\"id\":\"2363\"},\"selection_policy\":{\"id\":\"2362\"}},\"id\":\"2332\",\"type\":\"ColumnDataSource\"},{\"attributes\":{},\"id\":\"2382\",\"type\":\"UnionRenderers\"},{\"attributes\":{\"source\":{\"id\":\"2332\"}},\"id\":\"2336\",\"type\":\"CDSView\"},{\"attributes\":{},\"id\":\"2291\",\"type\":\"PanTool\"},{\"attributes\":{},\"id\":\"2404\",\"type\":\"UnionRenderers\"},{\"attributes\":{},\"id\":\"2281\",\"type\":\"LinearScale\"},{\"attributes\":{},\"id\":\"2314\",\"type\":\"BasicTickFormatter\"},{\"attributes\":{\"data_source\":{\"id\":\"2318\"},\"glyph\":{\"id\":\"2319\"},\"hover_glyph\":null,\"muted_glyph\":null,\"nonselection_glyph\":{\"id\":\"2320\"},\"selection_glyph\":null,\"view\":{\"id\":\"2322\"}},\"id\":\"2321\",\"type\":\"GlyphRenderer\"},{\"attributes\":{\"fill_alpha\":{\"value\":0.1},\"fill_color\":{\"value\":\"#b2df8a\"},\"line_alpha\":{\"value\":0.1},\"line_color\":{\"value\":\"#b2df8a\"},\"size\":{\"units\":\"screen\",\"value\":10},\"x\":{\"value\":2},\"y\":{\"value\":2.828427122486125}},\"id\":\"2334\",\"type\":\"Circle\"},{\"attributes\":{\"source\":{\"id\":\"2348\"}},\"id\":\"2352\",\"type\":\"CDSView\"},{\"attributes\":{\"active_drag\":\"auto\",\"active_inspect\":\"auto\",\"active_multi\":null,\"active_scroll\":\"auto\",\"active_tap\":\"auto\",\"tools\":[{\"id\":\"2291\"},{\"id\":\"2292\"},{\"id\":\"2293\"},{\"id\":\"2294\"},{\"id\":\"2295\"},{\"id\":\"2296\"}]},\"id\":\"2298\",\"type\":\"Toolbar\"},{\"attributes\":{\"data\":{},\"selected\":{\"id\":\"2383\"},\"selection_policy\":{\"id\":\"2382\"}},\"id\":\"2348\",\"type\":\"ColumnDataSource\"},{\"attributes\":{},\"id\":\"2405\",\"type\":\"Selection\"},{\"attributes\":{},\"id\":\"2345\",\"type\":\"Selection\"},{\"attributes\":{\"axis\":{\"id\":\"2283\"},\"ticker\":null},\"id\":\"2286\",\"type\":\"Grid\"},{\"attributes\":{\"items\":[{\"id\":\"2317\"},{\"id\":\"2331\"},{\"id\":\"2347\"},{\"id\":\"2365\"},{\"id\":\"2385\"},{\"id\":\"2407\"}]},\"id\":\"2316\",\"type\":\"Legend\"},{\"attributes\":{},\"id\":\"2275\",\"type\":\"DataRange1d\"},{\"attributes\":{\"fill_alpha\":{\"value\":0.1},\"fill_color\":{\"value\":\"#e31a1c\"},\"line_alpha\":{\"value\":0.1},\"line_color\":{\"value\":\"#e31a1c\"},\"size\":{\"units\":\"screen\",\"value\":10},\"x\":{\"value\":5},\"y\":{\"value\":2.8699823614600284}},\"id\":\"2388\",\"type\":\"Circle\"},{\"attributes\":{\"fill_color\":{\"value\":\"#a6cee3\"},\"line_color\":{\"value\":\"#a6cee3\"},\"size\":{\"units\":\"screen\",\"value\":10},\"x\":{\"value\":0},\"y\":{\"value\":2.828427122486127}},\"id\":\"2306\",\"type\":\"Circle\"},{\"attributes\":{\"label\":{\"value\":\"Model 5\"},\"renderers\":[{\"id\":\"2389\"}]},\"id\":\"2407\",\"type\":\"LegendItem\"},{\"attributes\":{},\"id\":\"2497\",\"type\":\"UnionRenderers\"},{\"attributes\":{\"axis_label\":\"Error Metric Value\",\"formatter\":{\"id\":\"2312\"},\"ticker\":{\"id\":\"2288\"}},\"id\":\"2287\",\"type\":\"LinearAxis\"},{\"attributes\":{\"data_source\":{\"id\":\"2332\"},\"glyph\":{\"id\":\"2333\"},\"hover_glyph\":null,\"muted_glyph\":null,\"nonselection_glyph\":{\"id\":\"2334\"},\"selection_glyph\":null,\"view\":{\"id\":\"2336\"}},\"id\":\"2335\",\"type\":\"GlyphRenderer\"}],\"root_ids\":[\"2272\"]},\"title\":\"Bokeh Application\",\"version\":\"2.0.2\"}};\n",
       "  var render_items = [{\"docid\":\"d8457d18-82e8-46ad-81b4-d33f7204d790\",\"root_ids\":[\"2272\"],\"roots\":{\"2272\":\"17c4b813-201f-47c8-91ef-f5edad178c69\"}}];\n",
       "  root.Bokeh.embed.embed_items_notebook(docs_json, render_items);\n",
       "\n",
       "  }\n",
       "  if (root.Bokeh !== undefined) {\n",
       "    embed_document(root);\n",
       "  } else {\n",
       "    var attempts = 0;\n",
       "    var timer = setInterval(function(root) {\n",
       "      if (root.Bokeh !== undefined) {\n",
       "        clearInterval(timer);\n",
       "        embed_document(root);\n",
       "      } else {\n",
       "        attempts++;\n",
       "        if (attempts > 100) {\n",
       "          clearInterval(timer);\n",
       "          console.log(\"Bokeh: ERROR: Unable to run BokehJS code because BokehJS library is missing\");\n",
       "        }\n",
       "      }\n",
       "    }, 10, root)\n",
       "  }\n",
       "})(window);"
      ],
      "application/vnd.bokehjs_exec.v0+json": ""
     },
     "metadata": {
      "application/vnd.bokehjs_exec.v0+json": {
       "id": "2272"
      }
     },
     "output_type": "display_data"
    },
    {
     "name": "stdout",
     "output_type": "stream",
     "text": [
      "Model 0 : [5]\n",
      "Model 1 : [5, 6]\n",
      "Model 2 : [5, 6, 9, 10]\n",
      "Model 3 : [5, 6, 9, 10, 23, 24, 28, 29, 31, 32, 35, 39, 40, 43, 44]\n",
      "Model 4 : [5, 9, 13, 17, 23, 28, 31, 35, 39, 43, 47, 51, 55, 59, 63, 66]\n",
      "Model 5 : [5, 6, 9, 10, 13, 14, 17, 18, 23, 24, 28, 29, 31, 32, 35, 36, 39, 40, 43, 44, 47, 48, 51, 52, 55, 56, 59, 60, 63, 64, 66, 67]\n"
     ]
    }
   ],
   "source": [
    "error_plot(remove_list, title = 'Error Metric for Different Reduced Models')"
   ]
  },
  {
   "cell_type": "code",
   "execution_count": null,
   "metadata": {},
   "outputs": [],
   "source": []
  },
  {
   "cell_type": "markdown",
   "metadata": {},
   "source": [
    "Why am I getting different error metrics for the same model? Let's try to troubleshoot and figure out what the problem is."
   ]
  },
  {
   "cell_type": "markdown",
   "metadata": {},
   "source": [
    "Let's look at model 5: "
   ]
  },
  {
   "cell_type": "code",
   "execution_count": 12,
   "metadata": {},
   "outputs": [
    {
     "name": "stdout",
     "output_type": "stream",
     "text": [
      "attempting to retain : [0, 1, 2, 3, 4, 7, 8, 11, 12, 15, 16, 19, 20, 21, 22, 25, 26, 27, 30, 33, 34, 37, 38, 41, 42, 45, 46, 49, 50, 53, 54, 57, 58, 61, 62, 65]\n",
      "Successful time-scale separation solution obtained.\n",
      "attempting to retain : [0, 1, 2, 3, 4, 7, 8, 11, 12, 15, 16, 19, 20, 21, 22, 25, 26, 27, 30, 33, 34, 37, 38, 41, 42, 45, 46, 49, 50, 53, 54, 57, 58, 61, 62, 65]\n",
      "Successful time-scale separation solution obtained.\n",
      "attempting to retain : [0, 1, 2, 3, 4, 7, 8, 11, 12, 15, 16, 19, 20, 21, 22, 25, 26, 27, 30, 33, 34, 37, 38, 41, 42, 45, 46, 49, 50, 53, 54, 57, 58, 61, 62, 65]\n",
      "Successful time-scale separation solution obtained.\n",
      "attempting to retain : [0, 1, 2, 3, 4, 7, 8, 11, 12, 15, 16, 19, 20, 21, 22, 25, 26, 27, 30, 33, 34, 37, 38, 41, 42, 45, 46, 49, 50, 53, 54, 57, 58, 61, 62, 65]\n",
      "Successful time-scale separation solution obtained.\n",
      "attempting to retain : [0, 1, 2, 3, 4, 7, 8, 11, 12, 15, 16, 19, 20, 21, 22, 25, 26, 27, 30, 33, 34, 37, 38, 41, 42, 45, 46, 49, 50, 53, 54, 57, 58, 61, 62, 65]\n",
      "Successful time-scale separation solution obtained.\n"
     ]
    }
   ],
   "source": [
    "# Define list of indices to remove\n",
    "test_list = []\n",
    "for j in range(5):\n",
    "    i_list = [5,6,9,10,13, 14,17,18,23,24,28,29,31,32,35,36,39,40,43,44,47,48,51,52,55,56,59,60,63,64,66,67]\n",
    "\n",
    "    # Get appropriate list of complexes with indices in i_list\n",
    "    timescale_list = []\n",
    "    for i in i_list:\n",
    "        #/print(i)\n",
    "        timescale_list.append(x[i])\n",
    "\n",
    "\n",
    "    # Get appropriate list of complexes that are not in timescale_list\n",
    "    # What you should pass into solve_timescale_separation\n",
    "    update_timescale = []\n",
    "    for item in x:\n",
    "        if item not in timescale_list:\n",
    "            update_timescale.append(item)\n",
    "\n",
    "\n",
    "\n",
    "\n",
    "\n",
    "    timepoints_ssm = np.linspace(0,100,10)\n",
    "    timepoints_ode = np.linspace(0, 100, 10)\n",
    "    sys_reduce = reduce(sys, timepoints_ode, timepoints_ssm)\n",
    "\n",
    "    aa,bb = sys_reduce.solve_timescale_separation(update_timescale)\n",
    "\n",
    "    curr_test= sys_reduce.test_error_metric(aa)\n",
    "    test_list.append(curr_test)"
   ]
  },
  {
   "cell_type": "code",
   "execution_count": 13,
   "metadata": {},
   "outputs": [],
   "source": [
    "# check to see if they are all equal\n",
    "for i in range(len(test_list)):\n",
    "    for j in range(len(test_list)):\n",
    "        continue\n",
    "        #print(test_list[i] == test_list[j])\n",
    "         "
   ]
  },
  {
   "cell_type": "markdown",
   "metadata": {},
   "source": [
    "**Try to plot different error metrics of model 5?** See if any of them match closer to original."
   ]
  },
  {
   "cell_type": "code",
   "execution_count": 23,
   "metadata": {},
   "outputs": [],
   "source": [
    "i_list = [5,6,9,10,13, 14,17,18,23,24,28,29,31,32,35,36,39,40,43,44,47,48,51,52,55,56,59,60,63,64,66,67]\n",
    "\n",
    "model_5 = [i_list, i_list, i_list, i_list, i_list, i_list, i_list, i_list, i_list, i_list, i_list]"
   ]
  },
  {
   "cell_type": "code",
   "execution_count": 24,
   "metadata": {},
   "outputs": [
    {
     "name": "stderr",
     "output_type": "stream",
     "text": [
      "0it [00:00, ?it/s]"
     ]
    },
    {
     "name": "stdout",
     "output_type": "stream",
     "text": [
      "attempting to retain : [0, 1, 2, 3, 4, 7, 8, 11, 12, 15, 16, 19, 20, 21, 22, 25, 26, 27, 30, 33, 34, 37, 38, 41, 42, 45, 46, 49, 50, 53, 54, 57, 58, 61, 62, 65]\n",
      "Successful time-scale separation solution obtained.\n"
     ]
    },
    {
     "name": "stderr",
     "output_type": "stream",
     "text": [
      "1it [00:05,  5.80s/it]"
     ]
    },
    {
     "name": "stdout",
     "output_type": "stream",
     "text": [
      "attempting to retain : [0, 1, 2, 3, 4, 7, 8, 11, 12, 15, 16, 19, 20, 21, 22, 25, 26, 27, 30, 33, 34, 37, 38, 41, 42, 45, 46, 49, 50, 53, 54, 57, 58, 61, 62, 65]\n",
      "Successful time-scale separation solution obtained.\n"
     ]
    },
    {
     "name": "stderr",
     "output_type": "stream",
     "text": [
      "2it [00:18,  7.88s/it]"
     ]
    },
    {
     "name": "stdout",
     "output_type": "stream",
     "text": [
      "attempting to retain : [0, 1, 2, 3, 4, 7, 8, 11, 12, 15, 16, 19, 20, 21, 22, 25, 26, 27, 30, 33, 34, 37, 38, 41, 42, 45, 46, 49, 50, 53, 54, 57, 58, 61, 62, 65]\n",
      "Successful time-scale separation solution obtained.\n"
     ]
    },
    {
     "name": "stderr",
     "output_type": "stream",
     "text": [
      "3it [00:34, 10.41s/it]"
     ]
    },
    {
     "name": "stdout",
     "output_type": "stream",
     "text": [
      "attempting to retain : [0, 1, 2, 3, 4, 7, 8, 11, 12, 15, 16, 19, 20, 21, 22, 25, 26, 27, 30, 33, 34, 37, 38, 41, 42, 45, 46, 49, 50, 53, 54, 57, 58, 61, 62, 65]\n",
      "Successful time-scale separation solution obtained.\n"
     ]
    },
    {
     "name": "stderr",
     "output_type": "stream",
     "text": [
      "/Users/ankitaroychoudhury/autoReduce/auto_reduce/model_reduction.py:147: RuntimeWarning: invalid value encountered in matmul\n",
      "  y = self.C@x_sol\n",
      "4it [00:51, 12.39s/it]"
     ]
    },
    {
     "name": "stdout",
     "output_type": "stream",
     "text": [
      "The error is NaN, something wrong...continuing.\n",
      "attempting to retain : [0, 1, 2, 3, 4, 7, 8, 11, 12, 15, 16, 19, 20, 21, 22, 25, 26, 27, 30, 33, 34, 37, 38, 41, 42, 45, 46, 49, 50, 53, 54, 57, 58, 61, 62, 65]\n",
      "Successful time-scale separation solution obtained.\n"
     ]
    },
    {
     "name": "stderr",
     "output_type": "stream",
     "text": [
      "5it [01:00, 11.25s/it]"
     ]
    },
    {
     "name": "stdout",
     "output_type": "stream",
     "text": [
      "The error is NaN, something wrong...continuing.\n",
      "attempting to retain : [0, 1, 2, 3, 4, 7, 8, 11, 12, 15, 16, 19, 20, 21, 22, 25, 26, 27, 30, 33, 34, 37, 38, 41, 42, 45, 46, 49, 50, 53, 54, 57, 58, 61, 62, 65]\n",
      "Successful time-scale separation solution obtained.\n"
     ]
    },
    {
     "name": "stderr",
     "output_type": "stream",
     "text": [
      "6it [01:06,  9.71s/it]"
     ]
    },
    {
     "name": "stdout",
     "output_type": "stream",
     "text": [
      "attempting to retain : [0, 1, 2, 3, 4, 7, 8, 11, 12, 15, 16, 19, 20, 21, 22, 25, 26, 27, 30, 33, 34, 37, 38, 41, 42, 45, 46, 49, 50, 53, 54, 57, 58, 61, 62, 65]\n",
      "Successful time-scale separation solution obtained.\n"
     ]
    },
    {
     "name": "stderr",
     "output_type": "stream",
     "text": [
      "7it [01:12,  8.44s/it]"
     ]
    },
    {
     "name": "stdout",
     "output_type": "stream",
     "text": [
      "attempting to retain : [0, 1, 2, 3, 4, 7, 8, 11, 12, 15, 16, 19, 20, 21, 22, 25, 26, 27, 30, 33, 34, 37, 38, 41, 42, 45, 46, 49, 50, 53, 54, 57, 58, 61, 62, 65]\n",
      "Successful time-scale separation solution obtained.\n"
     ]
    },
    {
     "name": "stderr",
     "output_type": "stream",
     "text": [
      "8it [01:17,  7.63s/it]"
     ]
    },
    {
     "name": "stdout",
     "output_type": "stream",
     "text": [
      "attempting to retain : [0, 1, 2, 3, 4, 7, 8, 11, 12, 15, 16, 19, 20, 21, 22, 25, 26, 27, 30, 33, 34, 37, 38, 41, 42, 45, 46, 49, 50, 53, 54, 57, 58, 61, 62, 65]\n",
      "Successful time-scale separation solution obtained.\n"
     ]
    },
    {
     "name": "stderr",
     "output_type": "stream",
     "text": [
      "9it [01:26,  7.96s/it]"
     ]
    },
    {
     "name": "stdout",
     "output_type": "stream",
     "text": [
      "attempting to retain : [0, 1, 2, 3, 4, 7, 8, 11, 12, 15, 16, 19, 20, 21, 22, 25, 26, 27, 30, 33, 34, 37, 38, 41, 42, 45, 46, 49, 50, 53, 54, 57, 58, 61, 62, 65]\n",
      "Successful time-scale separation solution obtained.\n"
     ]
    },
    {
     "name": "stderr",
     "output_type": "stream",
     "text": [
      "10it [01:32,  7.24s/it]"
     ]
    },
    {
     "name": "stdout",
     "output_type": "stream",
     "text": [
      "attempting to retain : [0, 1, 2, 3, 4, 7, 8, 11, 12, 15, 16, 19, 20, 21, 22, 25, 26, 27, 30, 33, 34, 37, 38, 41, 42, 45, 46, 49, 50, 53, 54, 57, 58, 61, 62, 65]\n",
      "Successful time-scale separation solution obtained.\n"
     ]
    },
    {
     "name": "stderr",
     "output_type": "stream",
     "text": [
      "11it [01:37,  8.84s/it]\n"
     ]
    },
    {
     "data": {
      "text/html": [
       "\n",
       "\n",
       "\n",
       "\n",
       "\n",
       "\n",
       "  <div class=\"bk-root\" id=\"fa27c33c-39df-44a9-9b4f-2f2177d4143f\" data-root-id=\"3764\"></div>\n"
      ]
     },
     "metadata": {},
     "output_type": "display_data"
    },
    {
     "data": {
      "application/javascript": [
       "(function(root) {\n",
       "  function embed_document(root) {\n",
       "    \n",
       "  var docs_json = {\"aba7420b-0350-43e0-ae54-04146a8cbafa\":{\"roots\":{\"references\":[{\"attributes\":{\"below\":[{\"id\":\"3775\"}],\"center\":[{\"id\":\"3778\"},{\"id\":\"3782\"},{\"id\":\"3808\"}],\"left\":[{\"id\":\"3779\"}],\"plot_height\":450,\"plot_width\":550,\"renderers\":[{\"id\":\"3800\"},{\"id\":\"3813\"},{\"id\":\"3827\"},{\"id\":\"3843\"},{\"id\":\"3861\"},{\"id\":\"3881\"},{\"id\":\"3903\"},{\"id\":\"3927\"},{\"id\":\"3953\"},{\"id\":\"3981\"},{\"id\":\"4011\"}],\"title\":{\"id\":\"3765\"},\"toolbar\":{\"id\":\"3790\"},\"x_range\":{\"id\":\"3767\"},\"x_scale\":{\"id\":\"3771\"},\"y_range\":{\"id\":\"3769\"},\"y_scale\":{\"id\":\"3773\"}},\"id\":\"3764\",\"subtype\":\"Figure\",\"type\":\"Plot\"},{\"attributes\":{},\"id\":\"3837\",\"type\":\"Selection\"},{\"attributes\":{\"fill_color\":{\"value\":\"black\"},\"size\":{\"units\":\"screen\",\"value\":10},\"x\":{\"value\":10},\"y\":{\"value\":0}},\"id\":\"4009\",\"type\":\"Circle\"},{\"attributes\":{},\"id\":\"3784\",\"type\":\"WheelZoomTool\"},{\"attributes\":{\"fill_alpha\":{\"value\":0.1},\"fill_color\":{\"value\":\"#1f78b4\"},\"line_alpha\":{\"value\":0.1},\"line_color\":{\"value\":\"#1f78b4\"},\"size\":{\"units\":\"screen\",\"value\":10},\"x\":{\"value\":1},\"y\":{\"value\":2.8699823614600284}},\"id\":\"3812\",\"type\":\"Circle\"},{\"attributes\":{\"label\":{\"value\":\"nan Model 4\"},\"renderers\":[{\"id\":\"3861\"}]},\"id\":\"3877\",\"type\":\"LegendItem\"},{\"attributes\":{},\"id\":\"3946\",\"type\":\"UnionRenderers\"},{\"attributes\":{},\"id\":\"4213\",\"type\":\"UnionRenderers\"},{\"attributes\":{},\"id\":\"4214\",\"type\":\"Selection\"},{\"attributes\":{\"data_source\":{\"id\":\"3978\"},\"glyph\":{\"id\":\"3979\"},\"hover_glyph\":null,\"muted_glyph\":null,\"nonselection_glyph\":{\"id\":\"3980\"},\"selection_glyph\":null,\"view\":{\"id\":\"3982\"}},\"id\":\"3981\",\"type\":\"GlyphRenderer\"},{\"attributes\":{\"fill_alpha\":{\"value\":0.1},\"fill_color\":{\"value\":\"#a6cee3\"},\"line_alpha\":{\"value\":0.1},\"line_color\":{\"value\":\"#a6cee3\"},\"size\":{\"units\":\"screen\",\"value\":10},\"x\":{\"value\":0},\"y\":{\"value\":2.8699823614600284}},\"id\":\"3799\",\"type\":\"Circle\"},{\"attributes\":{},\"id\":\"3897\",\"type\":\"Selection\"},{\"attributes\":{},\"id\":\"4037\",\"type\":\"Selection\"},{\"attributes\":{\"active_drag\":\"auto\",\"active_inspect\":\"auto\",\"active_multi\":null,\"active_scroll\":\"auto\",\"active_tap\":\"auto\",\"tools\":[{\"id\":\"3783\"},{\"id\":\"3784\"},{\"id\":\"3785\"},{\"id\":\"3786\"},{\"id\":\"3787\"},{\"id\":\"3788\"}]},\"id\":\"3790\",\"type\":\"Toolbar\"},{\"attributes\":{\"fill_color\":{\"value\":\"black\"},\"size\":{\"units\":\"screen\",\"value\":10},\"x\":{\"value\":9},\"y\":{\"value\":0}},\"id\":\"3979\",\"type\":\"Circle\"},{\"attributes\":{\"source\":{\"id\":\"3824\"}},\"id\":\"3828\",\"type\":\"CDSView\"},{\"attributes\":{},\"id\":\"3896\",\"type\":\"UnionRenderers\"},{\"attributes\":{},\"id\":\"4005\",\"type\":\"Selection\"},{\"attributes\":{\"overlay\":{\"id\":\"3789\"}},\"id\":\"3785\",\"type\":\"BoxZoomTool\"},{\"attributes\":{\"bottom_units\":\"screen\",\"fill_alpha\":0.5,\"fill_color\":\"lightgrey\",\"left_units\":\"screen\",\"level\":\"overlay\",\"line_alpha\":1.0,\"line_color\":\"black\",\"line_dash\":[4,4],\"line_width\":2,\"render_mode\":\"css\",\"right_units\":\"screen\",\"top_units\":\"screen\"},\"id\":\"3789\",\"type\":\"BoxAnnotation\"},{\"attributes\":{},\"id\":\"3836\",\"type\":\"UnionRenderers\"},{\"attributes\":{\"data_source\":{\"id\":\"3797\"},\"glyph\":{\"id\":\"3798\"},\"hover_glyph\":null,\"muted_glyph\":null,\"nonselection_glyph\":{\"id\":\"3799\"},\"selection_glyph\":null,\"view\":{\"id\":\"3801\"}},\"id\":\"3800\",\"type\":\"GlyphRenderer\"},{\"attributes\":{\"data\":{},\"selected\":{\"id\":\"3837\"},\"selection_policy\":{\"id\":\"3836\"}},\"id\":\"3810\",\"type\":\"ColumnDataSource\"},{\"attributes\":{\"label\":{\"value\":\"inf Model 10\"},\"renderers\":[{\"id\":\"4011\"}]},\"id\":\"4039\",\"type\":\"LegendItem\"},{\"attributes\":{\"data_source\":{\"id\":\"3824\"},\"glyph\":{\"id\":\"3825\"},\"hover_glyph\":null,\"muted_glyph\":null,\"nonselection_glyph\":{\"id\":\"3826\"},\"selection_glyph\":null,\"view\":{\"id\":\"3828\"}},\"id\":\"3827\",\"type\":\"GlyphRenderer\"},{\"attributes\":{\"data_source\":{\"id\":\"3878\"},\"glyph\":{\"id\":\"3879\"},\"hover_glyph\":null,\"muted_glyph\":null,\"nonselection_glyph\":{\"id\":\"3880\"},\"selection_glyph\":null,\"view\":{\"id\":\"3882\"}},\"id\":\"3881\",\"type\":\"GlyphRenderer\"},{\"attributes\":{},\"id\":\"4004\",\"type\":\"UnionRenderers\"},{\"attributes\":{\"source\":{\"id\":\"3858\"}},\"id\":\"3862\",\"type\":\"CDSView\"},{\"attributes\":{\"fill_alpha\":{\"value\":0.1},\"fill_color\":{\"value\":\"black\"},\"line_alpha\":{\"value\":0.1},\"size\":{\"units\":\"screen\",\"value\":10},\"x\":{\"value\":6},\"y\":{\"value\":0}},\"id\":\"3902\",\"type\":\"Circle\"},{\"attributes\":{\"source\":{\"id\":\"3900\"}},\"id\":\"3904\",\"type\":\"CDSView\"},{\"attributes\":{\"source\":{\"id\":\"3797\"}},\"id\":\"3801\",\"type\":\"CDSView\"},{\"attributes\":{\"data_source\":{\"id\":\"3858\"},\"glyph\":{\"id\":\"3859\"},\"hover_glyph\":null,\"muted_glyph\":null,\"nonselection_glyph\":{\"id\":\"3860\"},\"selection_glyph\":null,\"view\":{\"id\":\"3862\"}},\"id\":\"3861\",\"type\":\"GlyphRenderer\"},{\"attributes\":{},\"id\":\"3874\",\"type\":\"UnionRenderers\"},{\"attributes\":{\"label\":{\"value\":\"Model 2\"},\"renderers\":[{\"id\":\"3827\"}]},\"id\":\"3839\",\"type\":\"LegendItem\"},{\"attributes\":{\"label\":{\"value\":\"inf Model 9\"},\"renderers\":[{\"id\":\"3981\"}]},\"id\":\"4007\",\"type\":\"LegendItem\"},{\"attributes\":{},\"id\":\"3783\",\"type\":\"PanTool\"},{\"attributes\":{},\"id\":\"3875\",\"type\":\"Selection\"},{\"attributes\":{\"data_source\":{\"id\":\"3950\"},\"glyph\":{\"id\":\"3951\"},\"hover_glyph\":null,\"muted_glyph\":null,\"nonselection_glyph\":{\"id\":\"3952\"},\"selection_glyph\":null,\"view\":{\"id\":\"3954\"}},\"id\":\"3953\",\"type\":\"GlyphRenderer\"},{\"attributes\":{\"fill_color\":{\"value\":\"#b2df8a\"},\"line_color\":{\"value\":\"#b2df8a\"},\"size\":{\"units\":\"screen\",\"value\":10},\"x\":{\"value\":2},\"y\":{\"value\":2.8699823614600284}},\"id\":\"3825\",\"type\":\"Circle\"},{\"attributes\":{\"data\":{},\"selected\":{\"id\":\"4037\"},\"selection_policy\":{\"id\":\"4036\"}},\"id\":\"3978\",\"type\":\"ColumnDataSource\"},{\"attributes\":{\"fill_alpha\":{\"value\":0.1},\"fill_color\":{\"value\":\"#cab2d6\"},\"line_alpha\":{\"value\":0.1},\"line_color\":{\"value\":\"#cab2d6\"},\"size\":{\"units\":\"screen\",\"value\":10},\"x\":{\"value\":8},\"y\":{\"value\":2.8699823614600284}},\"id\":\"3952\",\"type\":\"Circle\"},{\"attributes\":{\"fill_color\":{\"value\":\"#cab2d6\"},\"line_color\":{\"value\":\"#cab2d6\"},\"size\":{\"units\":\"screen\",\"value\":10},\"x\":{\"value\":8},\"y\":{\"value\":2.8699823614600284}},\"id\":\"3951\",\"type\":\"Circle\"},{\"attributes\":{\"data_source\":{\"id\":\"3900\"},\"glyph\":{\"id\":\"3901\"},\"hover_glyph\":null,\"muted_glyph\":null,\"nonselection_glyph\":{\"id\":\"3902\"},\"selection_glyph\":null,\"view\":{\"id\":\"3904\"}},\"id\":\"3903\",\"type\":\"GlyphRenderer\"},{\"attributes\":{\"data\":{},\"selected\":{\"id\":\"3855\"},\"selection_policy\":{\"id\":\"3854\"}},\"id\":\"3824\",\"type\":\"ColumnDataSource\"},{\"attributes\":{\"source\":{\"id\":\"3950\"}},\"id\":\"3954\",\"type\":\"CDSView\"},{\"attributes\":{\"source\":{\"id\":\"3978\"}},\"id\":\"3982\",\"type\":\"CDSView\"},{\"attributes\":{\"data\":{},\"selected\":{\"id\":\"4005\"},\"selection_policy\":{\"id\":\"4004\"}},\"id\":\"3950\",\"type\":\"ColumnDataSource\"},{\"attributes\":{},\"id\":\"3921\",\"type\":\"Selection\"},{\"attributes\":{\"data\":{},\"selected\":{\"id\":\"3875\"},\"selection_policy\":{\"id\":\"3874\"}},\"id\":\"3840\",\"type\":\"ColumnDataSource\"},{\"attributes\":{\"label\":{\"value\":\"Model 5\"},\"renderers\":[{\"id\":\"3881\"}]},\"id\":\"3899\",\"type\":\"LegendItem\"},{\"attributes\":{},\"id\":\"3786\",\"type\":\"SaveTool\"},{\"attributes\":{},\"id\":\"3788\",\"type\":\"HelpTool\"},{\"attributes\":{\"fill_alpha\":{\"value\":0.1},\"fill_color\":{\"value\":\"#b2df8a\"},\"line_alpha\":{\"value\":0.1},\"line_color\":{\"value\":\"#b2df8a\"},\"size\":{\"units\":\"screen\",\"value\":10},\"x\":{\"value\":2},\"y\":{\"value\":2.8699823614600284}},\"id\":\"3826\",\"type\":\"Circle\"},{\"attributes\":{\"fill_alpha\":{\"value\":0.1},\"fill_color\":{\"value\":\"black\"},\"line_alpha\":{\"value\":0.1},\"size\":{\"units\":\"screen\",\"value\":10},\"x\":{\"value\":10},\"y\":{\"value\":0}},\"id\":\"4010\",\"type\":\"Circle\"},{\"attributes\":{\"fill_color\":{\"value\":\"black\"},\"size\":{\"units\":\"screen\",\"value\":10},\"x\":{\"value\":3},\"y\":{\"value\":0}},\"id\":\"3841\",\"type\":\"Circle\"},{\"attributes\":{},\"id\":\"4036\",\"type\":\"UnionRenderers\"},{\"attributes\":{\"data\":{},\"selected\":{\"id\":\"3897\"},\"selection_policy\":{\"id\":\"3896\"}},\"id\":\"3858\",\"type\":\"ColumnDataSource\"},{\"attributes\":{\"fill_color\":{\"value\":\"black\"},\"size\":{\"units\":\"screen\",\"value\":10},\"x\":{\"value\":4},\"y\":{\"value\":0}},\"id\":\"3859\",\"type\":\"Circle\"},{\"attributes\":{\"data\":{},\"selected\":{\"id\":\"3975\"},\"selection_policy\":{\"id\":\"3974\"}},\"id\":\"3924\",\"type\":\"ColumnDataSource\"},{\"attributes\":{\"fill_alpha\":{\"value\":0.1},\"fill_color\":{\"value\":\"black\"},\"line_alpha\":{\"value\":0.1},\"size\":{\"units\":\"screen\",\"value\":10},\"x\":{\"value\":3},\"y\":{\"value\":0}},\"id\":\"3842\",\"type\":\"Circle\"},{\"attributes\":{},\"id\":\"3975\",\"type\":\"Selection\"},{\"attributes\":{\"fill_color\":{\"value\":\"#a6cee3\"},\"line_color\":{\"value\":\"#a6cee3\"},\"size\":{\"units\":\"screen\",\"value\":10},\"x\":{\"value\":0},\"y\":{\"value\":2.8699823614600284}},\"id\":\"3798\",\"type\":\"Circle\"},{\"attributes\":{},\"id\":\"3780\",\"type\":\"BasicTicker\"},{\"attributes\":{},\"id\":\"3854\",\"type\":\"UnionRenderers\"},{\"attributes\":{\"data\":{},\"selected\":{\"id\":\"3947\"},\"selection_policy\":{\"id\":\"3946\"}},\"id\":\"3900\",\"type\":\"ColumnDataSource\"},{\"attributes\":{\"fill_color\":{\"value\":\"#1f78b4\"},\"line_color\":{\"value\":\"#1f78b4\"},\"size\":{\"units\":\"screen\",\"value\":10},\"x\":{\"value\":1},\"y\":{\"value\":2.8699823614600284}},\"id\":\"3811\",\"type\":\"Circle\"},{\"attributes\":{\"fill_color\":{\"value\":\"black\"},\"size\":{\"units\":\"screen\",\"value\":10},\"x\":{\"value\":6},\"y\":{\"value\":0}},\"id\":\"3901\",\"type\":\"Circle\"},{\"attributes\":{},\"id\":\"3767\",\"type\":\"DataRange1d\"},{\"attributes\":{},\"id\":\"3769\",\"type\":\"DataRange1d\"},{\"attributes\":{},\"id\":\"3773\",\"type\":\"LinearScale\"},{\"attributes\":{},\"id\":\"3787\",\"type\":\"ResetTool\"},{\"attributes\":{\"text\":\"Error Metric for No Complexes\"},\"id\":\"3765\",\"type\":\"Title\"},{\"attributes\":{\"data\":{},\"selected\":{\"id\":\"3921\"},\"selection_policy\":{\"id\":\"3920\"}},\"id\":\"3878\",\"type\":\"ColumnDataSource\"},{\"attributes\":{\"data_source\":{\"id\":\"3840\"},\"glyph\":{\"id\":\"3841\"},\"hover_glyph\":null,\"muted_glyph\":null,\"nonselection_glyph\":{\"id\":\"3842\"},\"selection_glyph\":null,\"view\":{\"id\":\"3844\"}},\"id\":\"3843\",\"type\":\"GlyphRenderer\"},{\"attributes\":{\"items\":[{\"id\":\"3809\"},{\"id\":\"3823\"},{\"id\":\"3839\"},{\"id\":\"3857\"},{\"id\":\"3877\"},{\"id\":\"3899\"},{\"id\":\"3923\"},{\"id\":\"3949\"},{\"id\":\"3977\"},{\"id\":\"4007\"},{\"id\":\"4039\"}]},\"id\":\"3808\",\"type\":\"Legend\"},{\"attributes\":{\"fill_alpha\":{\"value\":0.1},\"fill_color\":{\"value\":\"#e31a1c\"},\"line_alpha\":{\"value\":0.1},\"line_color\":{\"value\":\"#e31a1c\"},\"size\":{\"units\":\"screen\",\"value\":10},\"x\":{\"value\":5},\"y\":{\"value\":2.8699823614600284}},\"id\":\"3880\",\"type\":\"Circle\"},{\"attributes\":{\"data_source\":{\"id\":\"4008\"},\"glyph\":{\"id\":\"4009\"},\"hover_glyph\":null,\"muted_glyph\":null,\"nonselection_glyph\":{\"id\":\"4010\"},\"selection_glyph\":null,\"view\":{\"id\":\"4012\"}},\"id\":\"4011\",\"type\":\"GlyphRenderer\"},{\"attributes\":{\"fill_color\":{\"value\":\"#ff7f00\"},\"line_color\":{\"value\":\"#ff7f00\"},\"size\":{\"units\":\"screen\",\"value\":10},\"x\":{\"value\":7},\"y\":{\"value\":2.8699823614600284}},\"id\":\"3925\",\"type\":\"Circle\"},{\"attributes\":{\"data\":{},\"selected\":{\"id\":\"4214\"},\"selection_policy\":{\"id\":\"4213\"}},\"id\":\"4008\",\"type\":\"ColumnDataSource\"},{\"attributes\":{\"label\":{\"value\":\"Model 8\"},\"renderers\":[{\"id\":\"3953\"}]},\"id\":\"3977\",\"type\":\"LegendItem\"},{\"attributes\":{},\"id\":\"3776\",\"type\":\"BasicTicker\"},{\"attributes\":{\"source\":{\"id\":\"4008\"}},\"id\":\"4012\",\"type\":\"CDSView\"},{\"attributes\":{\"label\":{\"value\":\"Model 7\"},\"renderers\":[{\"id\":\"3927\"}]},\"id\":\"3949\",\"type\":\"LegendItem\"},{\"attributes\":{\"source\":{\"id\":\"3924\"}},\"id\":\"3928\",\"type\":\"CDSView\"},{\"attributes\":{\"data\":{},\"selected\":{\"id\":\"3821\"},\"selection_policy\":{\"id\":\"3820\"}},\"id\":\"3797\",\"type\":\"ColumnDataSource\"},{\"attributes\":{},\"id\":\"3771\",\"type\":\"LinearScale\"},{\"attributes\":{},\"id\":\"3947\",\"type\":\"Selection\"},{\"attributes\":{},\"id\":\"3855\",\"type\":\"Selection\"},{\"attributes\":{\"source\":{\"id\":\"3810\"}},\"id\":\"3814\",\"type\":\"CDSView\"},{\"attributes\":{\"fill_color\":{\"value\":\"#e31a1c\"},\"line_color\":{\"value\":\"#e31a1c\"},\"size\":{\"units\":\"screen\",\"value\":10},\"x\":{\"value\":5},\"y\":{\"value\":2.8699823614600284}},\"id\":\"3879\",\"type\":\"Circle\"},{\"attributes\":{\"axis_label\":\"Model Number\",\"formatter\":{\"id\":\"3806\"},\"ticker\":{\"id\":\"3776\"}},\"id\":\"3775\",\"type\":\"LinearAxis\"},{\"attributes\":{},\"id\":\"3804\",\"type\":\"BasicTickFormatter\"},{\"attributes\":{\"label\":{\"value\":\"nan Model 3\"},\"renderers\":[{\"id\":\"3843\"}]},\"id\":\"3857\",\"type\":\"LegendItem\"},{\"attributes\":{\"fill_alpha\":{\"value\":0.1},\"fill_color\":{\"value\":\"black\"},\"line_alpha\":{\"value\":0.1},\"size\":{\"units\":\"screen\",\"value\":10},\"x\":{\"value\":4},\"y\":{\"value\":0}},\"id\":\"3860\",\"type\":\"Circle\"},{\"attributes\":{},\"id\":\"3920\",\"type\":\"UnionRenderers\"},{\"attributes\":{\"label\":{\"value\":\"Model 0\"},\"renderers\":[{\"id\":\"3800\"}]},\"id\":\"3809\",\"type\":\"LegendItem\"},{\"attributes\":{},\"id\":\"3806\",\"type\":\"BasicTickFormatter\"},{\"attributes\":{\"axis\":{\"id\":\"3779\"},\"dimension\":1,\"ticker\":null},\"id\":\"3782\",\"type\":\"Grid\"},{\"attributes\":{},\"id\":\"3821\",\"type\":\"Selection\"},{\"attributes\":{\"fill_alpha\":{\"value\":0.1},\"fill_color\":{\"value\":\"black\"},\"line_alpha\":{\"value\":0.1},\"size\":{\"units\":\"screen\",\"value\":10},\"x\":{\"value\":9},\"y\":{\"value\":0}},\"id\":\"3980\",\"type\":\"Circle\"},{\"attributes\":{},\"id\":\"3974\",\"type\":\"UnionRenderers\"},{\"attributes\":{\"data_source\":{\"id\":\"3924\"},\"glyph\":{\"id\":\"3925\"},\"hover_glyph\":null,\"muted_glyph\":null,\"nonselection_glyph\":{\"id\":\"3926\"},\"selection_glyph\":null,\"view\":{\"id\":\"3928\"}},\"id\":\"3927\",\"type\":\"GlyphRenderer\"},{\"attributes\":{\"label\":{\"value\":\"Model 1\"},\"renderers\":[{\"id\":\"3813\"}]},\"id\":\"3823\",\"type\":\"LegendItem\"},{\"attributes\":{\"label\":{\"value\":\"inf Model 6\"},\"renderers\":[{\"id\":\"3903\"}]},\"id\":\"3923\",\"type\":\"LegendItem\"},{\"attributes\":{\"fill_alpha\":{\"value\":0.1},\"fill_color\":{\"value\":\"#ff7f00\"},\"line_alpha\":{\"value\":0.1},\"line_color\":{\"value\":\"#ff7f00\"},\"size\":{\"units\":\"screen\",\"value\":10},\"x\":{\"value\":7},\"y\":{\"value\":2.8699823614600284}},\"id\":\"3926\",\"type\":\"Circle\"},{\"attributes\":{\"axis\":{\"id\":\"3775\"},\"ticker\":null},\"id\":\"3778\",\"type\":\"Grid\"},{\"attributes\":{\"source\":{\"id\":\"3840\"}},\"id\":\"3844\",\"type\":\"CDSView\"},{\"attributes\":{},\"id\":\"3820\",\"type\":\"UnionRenderers\"},{\"attributes\":{\"data_source\":{\"id\":\"3810\"},\"glyph\":{\"id\":\"3811\"},\"hover_glyph\":null,\"muted_glyph\":null,\"nonselection_glyph\":{\"id\":\"3812\"},\"selection_glyph\":null,\"view\":{\"id\":\"3814\"}},\"id\":\"3813\",\"type\":\"GlyphRenderer\"},{\"attributes\":{\"source\":{\"id\":\"3878\"}},\"id\":\"3882\",\"type\":\"CDSView\"},{\"attributes\":{\"axis_label\":\"Error Metric Value\",\"formatter\":{\"id\":\"3804\"},\"ticker\":{\"id\":\"3780\"}},\"id\":\"3779\",\"type\":\"LinearAxis\"}],\"root_ids\":[\"3764\"]},\"title\":\"Bokeh Application\",\"version\":\"2.0.2\"}};\n",
       "  var render_items = [{\"docid\":\"aba7420b-0350-43e0-ae54-04146a8cbafa\",\"root_ids\":[\"3764\"],\"roots\":{\"3764\":\"fa27c33c-39df-44a9-9b4f-2f2177d4143f\"}}];\n",
       "  root.Bokeh.embed.embed_items_notebook(docs_json, render_items);\n",
       "\n",
       "  }\n",
       "  if (root.Bokeh !== undefined) {\n",
       "    embed_document(root);\n",
       "  } else {\n",
       "    var attempts = 0;\n",
       "    var timer = setInterval(function(root) {\n",
       "      if (root.Bokeh !== undefined) {\n",
       "        clearInterval(timer);\n",
       "        embed_document(root);\n",
       "      } else {\n",
       "        attempts++;\n",
       "        if (attempts > 100) {\n",
       "          clearInterval(timer);\n",
       "          console.log(\"Bokeh: ERROR: Unable to run BokehJS code because BokehJS library is missing\");\n",
       "        }\n",
       "      }\n",
       "    }, 10, root)\n",
       "  }\n",
       "})(window);"
      ],
      "application/vnd.bokehjs_exec.v0+json": ""
     },
     "metadata": {
      "application/vnd.bokehjs_exec.v0+json": {
       "id": "3764"
      }
     },
     "output_type": "display_data"
    },
    {
     "name": "stdout",
     "output_type": "stream",
     "text": [
      "Model 0 : [5, 6, 9, 10, 13, 14, 17, 18, 23, 24, 28, 29, 31, 32, 35, 36, 39, 40, 43, 44, 47, 48, 51, 52, 55, 56, 59, 60, 63, 64, 66, 67]\n",
      "Model 1 : [5, 6, 9, 10, 13, 14, 17, 18, 23, 24, 28, 29, 31, 32, 35, 36, 39, 40, 43, 44, 47, 48, 51, 52, 55, 56, 59, 60, 63, 64, 66, 67]\n",
      "Model 2 : [5, 6, 9, 10, 13, 14, 17, 18, 23, 24, 28, 29, 31, 32, 35, 36, 39, 40, 43, 44, 47, 48, 51, 52, 55, 56, 59, 60, 63, 64, 66, 67]\n",
      "Model 3 : [5, 6, 9, 10, 13, 14, 17, 18, 23, 24, 28, 29, 31, 32, 35, 36, 39, 40, 43, 44, 47, 48, 51, 52, 55, 56, 59, 60, 63, 64, 66, 67]\n",
      "Model 4 : [5, 6, 9, 10, 13, 14, 17, 18, 23, 24, 28, 29, 31, 32, 35, 36, 39, 40, 43, 44, 47, 48, 51, 52, 55, 56, 59, 60, 63, 64, 66, 67]\n",
      "Model 5 : [5, 6, 9, 10, 13, 14, 17, 18, 23, 24, 28, 29, 31, 32, 35, 36, 39, 40, 43, 44, 47, 48, 51, 52, 55, 56, 59, 60, 63, 64, 66, 67]\n",
      "Model 6 : [5, 6, 9, 10, 13, 14, 17, 18, 23, 24, 28, 29, 31, 32, 35, 36, 39, 40, 43, 44, 47, 48, 51, 52, 55, 56, 59, 60, 63, 64, 66, 67]\n",
      "Model 7 : [5, 6, 9, 10, 13, 14, 17, 18, 23, 24, 28, 29, 31, 32, 35, 36, 39, 40, 43, 44, 47, 48, 51, 52, 55, 56, 59, 60, 63, 64, 66, 67]\n",
      "Model 8 : [5, 6, 9, 10, 13, 14, 17, 18, 23, 24, 28, 29, 31, 32, 35, 36, 39, 40, 43, 44, 47, 48, 51, 52, 55, 56, 59, 60, 63, 64, 66, 67]\n",
      "Model 9 : [5, 6, 9, 10, 13, 14, 17, 18, 23, 24, 28, 29, 31, 32, 35, 36, 39, 40, 43, 44, 47, 48, 51, 52, 55, 56, 59, 60, 63, 64, 66, 67]\n",
      "Model 10 : [5, 6, 9, 10, 13, 14, 17, 18, 23, 24, 28, 29, 31, 32, 35, 36, 39, 40, 43, 44, 47, 48, 51, 52, 55, 56, 59, 60, 63, 64, 66, 67]\n"
     ]
    }
   ],
   "source": [
    "error_plot(model_5, title = 'Error Metric for No Complexes')"
   ]
  },
  {
   "cell_type": "markdown",
   "metadata": {},
   "source": [
    "Okay error metric not great for this one. **Try the model 4,** that skips over each one"
   ]
  },
  {
   "cell_type": "code",
   "execution_count": 25,
   "metadata": {},
   "outputs": [
    {
     "name": "stderr",
     "output_type": "stream",
     "text": [
      "0it [00:00, ?it/s]"
     ]
    },
    {
     "name": "stdout",
     "output_type": "stream",
     "text": [
      "attempting to retain : [0, 1, 2, 3, 4, 6, 7, 8, 10, 11, 12, 14, 15, 16, 18, 19, 20, 21, 22, 24, 25, 26, 27, 29, 30, 32, 33, 34, 36, 37, 38, 40, 41, 42, 44, 45, 46, 48, 49, 50, 52, 53, 54, 56, 57, 58, 60, 61, 62, 64, 65, 67]\n",
      "Successful time-scale separation solution obtained.\n"
     ]
    },
    {
     "name": "stderr",
     "output_type": "stream",
     "text": [
      "1it [00:03,  3.04s/it]"
     ]
    },
    {
     "name": "stdout",
     "output_type": "stream",
     "text": [
      "attempting to retain : [0, 1, 2, 3, 4, 6, 7, 8, 10, 11, 12, 14, 15, 16, 18, 19, 20, 21, 22, 24, 25, 26, 27, 29, 30, 32, 33, 34, 36, 37, 38, 40, 41, 42, 44, 45, 46, 48, 49, 50, 52, 53, 54, 56, 57, 58, 60, 61, 62, 64, 65, 67]\n",
      "Successful time-scale separation solution obtained.\n"
     ]
    },
    {
     "name": "stderr",
     "output_type": "stream",
     "text": [
      "2it [00:06,  3.02s/it]"
     ]
    },
    {
     "name": "stdout",
     "output_type": "stream",
     "text": [
      "attempting to retain : [0, 1, 2, 3, 4, 6, 7, 8, 10, 11, 12, 14, 15, 16, 18, 19, 20, 21, 22, 24, 25, 26, 27, 29, 30, 32, 33, 34, 36, 37, 38, 40, 41, 42, 44, 45, 46, 48, 49, 50, 52, 53, 54, 56, 57, 58, 60, 61, 62, 64, 65, 67]\n",
      "Successful time-scale separation solution obtained.\n"
     ]
    },
    {
     "name": "stderr",
     "output_type": "stream",
     "text": [
      "3it [00:08,  2.98s/it]"
     ]
    },
    {
     "name": "stdout",
     "output_type": "stream",
     "text": [
      "attempting to retain : [0, 1, 2, 3, 4, 6, 7, 8, 10, 11, 12, 14, 15, 16, 18, 19, 20, 21, 22, 24, 25, 26, 27, 29, 30, 32, 33, 34, 36, 37, 38, 40, 41, 42, 44, 45, 46, 48, 49, 50, 52, 53, 54, 56, 57, 58, 60, 61, 62, 64, 65, 67]\n",
      "Successful time-scale separation solution obtained.\n"
     ]
    },
    {
     "name": "stderr",
     "output_type": "stream",
     "text": [
      "4it [00:11,  2.88s/it]"
     ]
    },
    {
     "name": "stdout",
     "output_type": "stream",
     "text": [
      "attempting to retain : [0, 1, 2, 3, 4, 6, 7, 8, 10, 11, 12, 14, 15, 16, 18, 19, 20, 21, 22, 24, 25, 26, 27, 29, 30, 32, 33, 34, 36, 37, 38, 40, 41, 42, 44, 45, 46, 48, 49, 50, 52, 53, 54, 56, 57, 58, 60, 61, 62, 64, 65, 67]\n",
      "Successful time-scale separation solution obtained.\n"
     ]
    },
    {
     "name": "stderr",
     "output_type": "stream",
     "text": [
      "5it [00:14,  2.77s/it]"
     ]
    },
    {
     "name": "stdout",
     "output_type": "stream",
     "text": [
      "attempting to retain : [0, 1, 2, 3, 4, 6, 7, 8, 10, 11, 12, 14, 15, 16, 18, 19, 20, 21, 22, 24, 25, 26, 27, 29, 30, 32, 33, 34, 36, 37, 38, 40, 41, 42, 44, 45, 46, 48, 49, 50, 52, 53, 54, 56, 57, 58, 60, 61, 62, 64, 65, 67]\n",
      "Successful time-scale separation solution obtained.\n"
     ]
    },
    {
     "name": "stderr",
     "output_type": "stream",
     "text": [
      "6it [00:16,  2.74s/it]"
     ]
    },
    {
     "name": "stdout",
     "output_type": "stream",
     "text": [
      "attempting to retain : [0, 1, 2, 3, 4, 6, 7, 8, 10, 11, 12, 14, 15, 16, 18, 19, 20, 21, 22, 24, 25, 26, 27, 29, 30, 32, 33, 34, 36, 37, 38, 40, 41, 42, 44, 45, 46, 48, 49, 50, 52, 53, 54, 56, 57, 58, 60, 61, 62, 64, 65, 67]\n",
      "Successful time-scale separation solution obtained.\n"
     ]
    },
    {
     "name": "stderr",
     "output_type": "stream",
     "text": [
      "7it [00:19,  2.66s/it]"
     ]
    },
    {
     "name": "stdout",
     "output_type": "stream",
     "text": [
      "attempting to retain : [0, 1, 2, 3, 4, 6, 7, 8, 10, 11, 12, 14, 15, 16, 18, 19, 20, 21, 22, 24, 25, 26, 27, 29, 30, 32, 33, 34, 36, 37, 38, 40, 41, 42, 44, 45, 46, 48, 49, 50, 52, 53, 54, 56, 57, 58, 60, 61, 62, 64, 65, 67]\n",
      "Successful time-scale separation solution obtained.\n"
     ]
    },
    {
     "name": "stderr",
     "output_type": "stream",
     "text": [
      "8it [00:21,  2.68s/it]"
     ]
    },
    {
     "name": "stdout",
     "output_type": "stream",
     "text": [
      "attempting to retain : [0, 1, 2, 3, 4, 6, 7, 8, 10, 11, 12, 14, 15, 16, 18, 19, 20, 21, 22, 24, 25, 26, 27, 29, 30, 32, 33, 34, 36, 37, 38, 40, 41, 42, 44, 45, 46, 48, 49, 50, 52, 53, 54, 56, 57, 58, 60, 61, 62, 64, 65, 67]\n",
      "Successful time-scale separation solution obtained.\n"
     ]
    },
    {
     "name": "stderr",
     "output_type": "stream",
     "text": [
      "9it [00:24,  2.70s/it]"
     ]
    },
    {
     "name": "stdout",
     "output_type": "stream",
     "text": [
      "attempting to retain : [0, 1, 2, 3, 4, 6, 7, 8, 10, 11, 12, 14, 15, 16, 18, 19, 20, 21, 22, 24, 25, 26, 27, 29, 30, 32, 33, 34, 36, 37, 38, 40, 41, 42, 44, 45, 46, 48, 49, 50, 52, 53, 54, 56, 57, 58, 60, 61, 62, 64, 65, 67]\n",
      "Successful time-scale separation solution obtained.\n"
     ]
    },
    {
     "name": "stderr",
     "output_type": "stream",
     "text": [
      "10it [00:27,  2.70s/it]"
     ]
    },
    {
     "name": "stdout",
     "output_type": "stream",
     "text": [
      "attempting to retain : [0, 1, 2, 3, 4, 6, 7, 8, 10, 11, 12, 14, 15, 16, 18, 19, 20, 21, 22, 24, 25, 26, 27, 29, 30, 32, 33, 34, 36, 37, 38, 40, 41, 42, 44, 45, 46, 48, 49, 50, 52, 53, 54, 56, 57, 58, 60, 61, 62, 64, 65, 67]\n",
      "Successful time-scale separation solution obtained.\n"
     ]
    },
    {
     "name": "stderr",
     "output_type": "stream",
     "text": [
      "11it [00:30,  2.75s/it]\n"
     ]
    },
    {
     "data": {
      "text/html": [
       "\n",
       "\n",
       "\n",
       "\n",
       "\n",
       "\n",
       "  <div class=\"bk-root\" id=\"71d2f45c-f93a-48c7-bf42-b316ecd99b94\" data-root-id=\"4384\"></div>\n"
      ]
     },
     "metadata": {},
     "output_type": "display_data"
    },
    {
     "data": {
      "application/javascript": [
       "(function(root) {\n",
       "  function embed_document(root) {\n",
       "    \n",
       "  var docs_json = {\"2a97588f-23e1-4f62-8aed-1f47c997792f\":{\"roots\":{\"references\":[{\"attributes\":{\"below\":[{\"id\":\"4395\"}],\"center\":[{\"id\":\"4398\"},{\"id\":\"4402\"},{\"id\":\"4428\"}],\"left\":[{\"id\":\"4399\"}],\"plot_height\":450,\"plot_width\":550,\"renderers\":[{\"id\":\"4420\"},{\"id\":\"4433\"},{\"id\":\"4447\"},{\"id\":\"4463\"},{\"id\":\"4481\"},{\"id\":\"4501\"},{\"id\":\"4523\"},{\"id\":\"4547\"},{\"id\":\"4573\"},{\"id\":\"4601\"},{\"id\":\"4631\"}],\"title\":{\"id\":\"4385\"},\"toolbar\":{\"id\":\"4410\"},\"x_range\":{\"id\":\"4387\"},\"x_scale\":{\"id\":\"4391\"},\"y_range\":{\"id\":\"4389\"},\"y_scale\":{\"id\":\"4393\"}},\"id\":\"4384\",\"subtype\":\"Figure\",\"type\":\"Plot\"},{\"attributes\":{},\"id\":\"4456\",\"type\":\"UnionRenderers\"},{\"attributes\":{\"fill_color\":{\"value\":\"black\"},\"size\":{\"units\":\"screen\",\"value\":10},\"x\":{\"value\":5},\"y\":{\"value\":0}},\"id\":\"4499\",\"type\":\"Circle\"},{\"attributes\":{\"source\":{\"id\":\"4544\"}},\"id\":\"4548\",\"type\":\"CDSView\"},{\"attributes\":{\"source\":{\"id\":\"4570\"}},\"id\":\"4574\",\"type\":\"CDSView\"},{\"attributes\":{\"label\":{\"value\":\"inf Model 0\"},\"renderers\":[{\"id\":\"4420\"}]},\"id\":\"4429\",\"type\":\"LegendItem\"},{\"attributes\":{},\"id\":\"4517\",\"type\":\"Selection\"},{\"attributes\":{\"data\":{},\"selected\":{\"id\":\"4541\"},\"selection_policy\":{\"id\":\"4540\"}},\"id\":\"4498\",\"type\":\"ColumnDataSource\"},{\"attributes\":{},\"id\":\"4407\",\"type\":\"ResetTool\"},{\"attributes\":{\"fill_color\":{\"value\":\"#1f78b4\"},\"line_color\":{\"value\":\"#1f78b4\"},\"size\":{\"units\":\"screen\",\"value\":10},\"x\":{\"value\":1},\"y\":{\"value\":2.8284271224861257}},\"id\":\"4431\",\"type\":\"Circle\"},{\"attributes\":{\"fill_alpha\":{\"value\":0.1},\"fill_color\":{\"value\":\"black\"},\"line_alpha\":{\"value\":0.1},\"size\":{\"units\":\"screen\",\"value\":10},\"x\":{\"value\":2},\"y\":{\"value\":0}},\"id\":\"4446\",\"type\":\"Circle\"},{\"attributes\":{\"label\":{\"value\":\"inf Model 10\"},\"renderers\":[{\"id\":\"4631\"}]},\"id\":\"4659\",\"type\":\"LegendItem\"},{\"attributes\":{\"fill_alpha\":{\"value\":0.1},\"fill_color\":{\"value\":\"black\"},\"line_alpha\":{\"value\":0.1},\"size\":{\"units\":\"screen\",\"value\":10},\"x\":{\"value\":6},\"y\":{\"value\":0}},\"id\":\"4522\",\"type\":\"Circle\"},{\"attributes\":{\"fill_alpha\":{\"value\":0.1},\"fill_color\":{\"value\":\"black\"},\"line_alpha\":{\"value\":0.1},\"size\":{\"units\":\"screen\",\"value\":10},\"x\":{\"value\":0},\"y\":{\"value\":0}},\"id\":\"4419\",\"type\":\"Circle\"},{\"attributes\":{\"fill_color\":{\"value\":\"black\"},\"size\":{\"units\":\"screen\",\"value\":10},\"x\":{\"value\":10},\"y\":{\"value\":0}},\"id\":\"4629\",\"type\":\"Circle\"},{\"attributes\":{\"data_source\":{\"id\":\"4570\"},\"glyph\":{\"id\":\"4571\"},\"hover_glyph\":null,\"muted_glyph\":null,\"nonselection_glyph\":{\"id\":\"4572\"},\"selection_glyph\":null,\"view\":{\"id\":\"4574\"}},\"id\":\"4573\",\"type\":\"GlyphRenderer\"},{\"attributes\":{\"data\":{},\"selected\":{\"id\":\"4441\"},\"selection_policy\":{\"id\":\"4440\"}},\"id\":\"4417\",\"type\":\"ColumnDataSource\"},{\"attributes\":{\"active_drag\":\"auto\",\"active_inspect\":\"auto\",\"active_multi\":null,\"active_scroll\":\"auto\",\"active_tap\":\"auto\",\"tools\":[{\"id\":\"4403\"},{\"id\":\"4404\"},{\"id\":\"4405\"},{\"id\":\"4406\"},{\"id\":\"4407\"},{\"id\":\"4408\"}]},\"id\":\"4410\",\"type\":\"Toolbar\"},{\"attributes\":{\"data_source\":{\"id\":\"4417\"},\"glyph\":{\"id\":\"4418\"},\"hover_glyph\":null,\"muted_glyph\":null,\"nonselection_glyph\":{\"id\":\"4419\"},\"selection_glyph\":null,\"view\":{\"id\":\"4421\"}},\"id\":\"4420\",\"type\":\"GlyphRenderer\"},{\"attributes\":{\"data_source\":{\"id\":\"4628\"},\"glyph\":{\"id\":\"4629\"},\"hover_glyph\":null,\"muted_glyph\":null,\"nonselection_glyph\":{\"id\":\"4630\"},\"selection_glyph\":null,\"view\":{\"id\":\"4632\"}},\"id\":\"4631\",\"type\":\"GlyphRenderer\"},{\"attributes\":{},\"id\":\"4408\",\"type\":\"HelpTool\"},{\"attributes\":{\"source\":{\"id\":\"4498\"}},\"id\":\"4502\",\"type\":\"CDSView\"},{\"attributes\":{\"source\":{\"id\":\"4628\"}},\"id\":\"4632\",\"type\":\"CDSView\"},{\"attributes\":{},\"id\":\"4495\",\"type\":\"Selection\"},{\"attributes\":{},\"id\":\"4403\",\"type\":\"PanTool\"},{\"attributes\":{},\"id\":\"4861\",\"type\":\"UnionRenderers\"},{\"attributes\":{\"fill_alpha\":{\"value\":0.1},\"fill_color\":{\"value\":\"black\"},\"line_alpha\":{\"value\":0.1},\"size\":{\"units\":\"screen\",\"value\":10},\"x\":{\"value\":5},\"y\":{\"value\":0}},\"id\":\"4500\",\"type\":\"Circle\"},{\"attributes\":{\"fill_color\":{\"value\":\"#ff7f00\"},\"line_color\":{\"value\":\"#ff7f00\"},\"size\":{\"units\":\"screen\",\"value\":10},\"x\":{\"value\":7},\"y\":{\"value\":2.8284271224861257}},\"id\":\"4545\",\"type\":\"Circle\"},{\"attributes\":{\"label\":{\"value\":\"Model 8\"},\"renderers\":[{\"id\":\"4573\"}]},\"id\":\"4597\",\"type\":\"LegendItem\"},{\"attributes\":{\"fill_color\":{\"value\":\"black\"},\"size\":{\"units\":\"screen\",\"value\":10},\"x\":{\"value\":6},\"y\":{\"value\":0}},\"id\":\"4521\",\"type\":\"Circle\"},{\"attributes\":{},\"id\":\"4441\",\"type\":\"Selection\"},{\"attributes\":{},\"id\":\"4494\",\"type\":\"UnionRenderers\"},{\"attributes\":{\"data\":{},\"selected\":{\"id\":\"4862\"},\"selection_policy\":{\"id\":\"4861\"}},\"id\":\"4628\",\"type\":\"ColumnDataSource\"},{\"attributes\":{},\"id\":\"4516\",\"type\":\"UnionRenderers\"},{\"attributes\":{\"fill_alpha\":{\"value\":0.1},\"fill_color\":{\"value\":\"black\"},\"line_alpha\":{\"value\":0.1},\"size\":{\"units\":\"screen\",\"value\":10},\"x\":{\"value\":4},\"y\":{\"value\":0}},\"id\":\"4480\",\"type\":\"Circle\"},{\"attributes\":{\"data_source\":{\"id\":\"4544\"},\"glyph\":{\"id\":\"4545\"},\"hover_glyph\":null,\"muted_glyph\":null,\"nonselection_glyph\":{\"id\":\"4546\"},\"selection_glyph\":null,\"view\":{\"id\":\"4548\"}},\"id\":\"4547\",\"type\":\"GlyphRenderer\"},{\"attributes\":{\"fill_color\":{\"value\":\"black\"},\"size\":{\"units\":\"screen\",\"value\":10},\"x\":{\"value\":2},\"y\":{\"value\":0}},\"id\":\"4445\",\"type\":\"Circle\"},{\"attributes\":{\"label\":{\"value\":\"inf Model 5\"},\"renderers\":[{\"id\":\"4501\"}]},\"id\":\"4519\",\"type\":\"LegendItem\"},{\"attributes\":{\"fill_color\":{\"value\":\"black\"},\"size\":{\"units\":\"screen\",\"value\":10},\"x\":{\"value\":4},\"y\":{\"value\":0}},\"id\":\"4479\",\"type\":\"Circle\"},{\"attributes\":{\"fill_alpha\":{\"value\":0.1},\"fill_color\":{\"value\":\"#ff7f00\"},\"line_alpha\":{\"value\":0.1},\"line_color\":{\"value\":\"#ff7f00\"},\"size\":{\"units\":\"screen\",\"value\":10},\"x\":{\"value\":7},\"y\":{\"value\":2.8284271224861257}},\"id\":\"4546\",\"type\":\"Circle\"},{\"attributes\":{\"data_source\":{\"id\":\"4498\"},\"glyph\":{\"id\":\"4499\"},\"hover_glyph\":null,\"muted_glyph\":null,\"nonselection_glyph\":{\"id\":\"4500\"},\"selection_glyph\":null,\"view\":{\"id\":\"4502\"}},\"id\":\"4501\",\"type\":\"GlyphRenderer\"},{\"attributes\":{\"fill_alpha\":{\"value\":0.1},\"fill_color\":{\"value\":\"#1f78b4\"},\"line_alpha\":{\"value\":0.1},\"line_color\":{\"value\":\"#1f78b4\"},\"size\":{\"units\":\"screen\",\"value\":10},\"x\":{\"value\":1},\"y\":{\"value\":2.8284271224861257}},\"id\":\"4432\",\"type\":\"Circle\"},{\"attributes\":{\"data\":{},\"selected\":{\"id\":\"4657\"},\"selection_policy\":{\"id\":\"4656\"}},\"id\":\"4598\",\"type\":\"ColumnDataSource\"},{\"attributes\":{\"fill_color\":{\"value\":\"black\"},\"size\":{\"units\":\"screen\",\"value\":10},\"x\":{\"value\":0},\"y\":{\"value\":0}},\"id\":\"4418\",\"type\":\"Circle\"},{\"attributes\":{},\"id\":\"4594\",\"type\":\"UnionRenderers\"},{\"attributes\":{\"data_source\":{\"id\":\"4520\"},\"glyph\":{\"id\":\"4521\"},\"hover_glyph\":null,\"muted_glyph\":null,\"nonselection_glyph\":{\"id\":\"4522\"},\"selection_glyph\":null,\"view\":{\"id\":\"4524\"}},\"id\":\"4523\",\"type\":\"GlyphRenderer\"},{\"attributes\":{\"label\":{\"value\":\"inf Model 2\"},\"renderers\":[{\"id\":\"4447\"}]},\"id\":\"4459\",\"type\":\"LegendItem\"},{\"attributes\":{\"overlay\":{\"id\":\"4409\"}},\"id\":\"4405\",\"type\":\"BoxZoomTool\"},{\"attributes\":{\"fill_alpha\":{\"value\":0.1},\"fill_color\":{\"value\":\"black\"},\"line_alpha\":{\"value\":0.1},\"size\":{\"units\":\"screen\",\"value\":10},\"x\":{\"value\":10},\"y\":{\"value\":0}},\"id\":\"4630\",\"type\":\"Circle\"},{\"attributes\":{\"data_source\":{\"id\":\"4460\"},\"glyph\":{\"id\":\"4461\"},\"hover_glyph\":null,\"muted_glyph\":null,\"nonselection_glyph\":{\"id\":\"4462\"},\"selection_glyph\":null,\"view\":{\"id\":\"4464\"}},\"id\":\"4463\",\"type\":\"GlyphRenderer\"},{\"attributes\":{\"data\":{},\"selected\":{\"id\":\"4457\"},\"selection_policy\":{\"id\":\"4456\"}},\"id\":\"4430\",\"type\":\"ColumnDataSource\"},{\"attributes\":{\"bottom_units\":\"screen\",\"fill_alpha\":0.5,\"fill_color\":\"lightgrey\",\"left_units\":\"screen\",\"level\":\"overlay\",\"line_alpha\":1.0,\"line_color\":\"black\",\"line_dash\":[4,4],\"line_width\":2,\"render_mode\":\"css\",\"right_units\":\"screen\",\"top_units\":\"screen\"},\"id\":\"4409\",\"type\":\"BoxAnnotation\"},{\"attributes\":{},\"id\":\"4404\",\"type\":\"WheelZoomTool\"},{\"attributes\":{\"data\":{},\"selected\":{\"id\":\"4475\"},\"selection_policy\":{\"id\":\"4474\"}},\"id\":\"4444\",\"type\":\"ColumnDataSource\"},{\"attributes\":{\"data\":{},\"selected\":{\"id\":\"4567\"},\"selection_policy\":{\"id\":\"4566\"}},\"id\":\"4520\",\"type\":\"ColumnDataSource\"},{\"attributes\":{\"source\":{\"id\":\"4520\"}},\"id\":\"4524\",\"type\":\"CDSView\"},{\"attributes\":{\"label\":{\"value\":\"inf Model 4\"},\"renderers\":[{\"id\":\"4481\"}]},\"id\":\"4497\",\"type\":\"LegendItem\"},{\"attributes\":{\"data_source\":{\"id\":\"4598\"},\"glyph\":{\"id\":\"4599\"},\"hover_glyph\":null,\"muted_glyph\":null,\"nonselection_glyph\":{\"id\":\"4600\"},\"selection_glyph\":null,\"view\":{\"id\":\"4602\"}},\"id\":\"4601\",\"type\":\"GlyphRenderer\"},{\"attributes\":{\"data\":{},\"selected\":{\"id\":\"4595\"},\"selection_policy\":{\"id\":\"4594\"}},\"id\":\"4544\",\"type\":\"ColumnDataSource\"},{\"attributes\":{\"data_source\":{\"id\":\"4478\"},\"glyph\":{\"id\":\"4479\"},\"hover_glyph\":null,\"muted_glyph\":null,\"nonselection_glyph\":{\"id\":\"4480\"},\"selection_glyph\":null,\"view\":{\"id\":\"4482\"}},\"id\":\"4481\",\"type\":\"GlyphRenderer\"},{\"attributes\":{\"axis_label\":\"Error Metric Value\",\"formatter\":{\"id\":\"4424\"},\"ticker\":{\"id\":\"4400\"}},\"id\":\"4399\",\"type\":\"LinearAxis\"},{\"attributes\":{},\"id\":\"4567\",\"type\":\"Selection\"},{\"attributes\":{},\"id\":\"4387\",\"type\":\"DataRange1d\"},{\"attributes\":{\"source\":{\"id\":\"4444\"}},\"id\":\"4448\",\"type\":\"CDSView\"},{\"attributes\":{\"label\":{\"value\":\"Model 1\"},\"renderers\":[{\"id\":\"4433\"}]},\"id\":\"4443\",\"type\":\"LegendItem\"},{\"attributes\":{},\"id\":\"4475\",\"type\":\"Selection\"},{\"attributes\":{},\"id\":\"4566\",\"type\":\"UnionRenderers\"},{\"attributes\":{\"label\":{\"value\":\"Model 3\"},\"renderers\":[{\"id\":\"4463\"}]},\"id\":\"4477\",\"type\":\"LegendItem\"},{\"attributes\":{\"label\":{\"value\":\"Model 7\"},\"renderers\":[{\"id\":\"4547\"}]},\"id\":\"4569\",\"type\":\"LegendItem\"},{\"attributes\":{},\"id\":\"4657\",\"type\":\"Selection\"},{\"attributes\":{},\"id\":\"4389\",\"type\":\"DataRange1d\"},{\"attributes\":{},\"id\":\"4396\",\"type\":\"BasicTicker\"},{\"attributes\":{\"fill_color\":{\"value\":\"#cab2d6\"},\"line_color\":{\"value\":\"#cab2d6\"},\"size\":{\"units\":\"screen\",\"value\":10},\"x\":{\"value\":8},\"y\":{\"value\":2.8284271224861257}},\"id\":\"4571\",\"type\":\"Circle\"},{\"attributes\":{\"fill_color\":{\"value\":\"#6a3d9a\"},\"line_color\":{\"value\":\"#6a3d9a\"},\"size\":{\"units\":\"screen\",\"value\":10},\"x\":{\"value\":9},\"y\":{\"value\":2.8284271224861257}},\"id\":\"4599\",\"type\":\"Circle\"},{\"attributes\":{\"axis\":{\"id\":\"4395\"},\"ticker\":null},\"id\":\"4398\",\"type\":\"Grid\"},{\"attributes\":{\"axis\":{\"id\":\"4399\"},\"dimension\":1,\"ticker\":null},\"id\":\"4402\",\"type\":\"Grid\"},{\"attributes\":{},\"id\":\"4474\",\"type\":\"UnionRenderers\"},{\"attributes\":{},\"id\":\"4595\",\"type\":\"Selection\"},{\"attributes\":{\"source\":{\"id\":\"4430\"}},\"id\":\"4434\",\"type\":\"CDSView\"},{\"attributes\":{\"source\":{\"id\":\"4478\"}},\"id\":\"4482\",\"type\":\"CDSView\"},{\"attributes\":{},\"id\":\"4424\",\"type\":\"BasicTickFormatter\"},{\"attributes\":{\"source\":{\"id\":\"4417\"}},\"id\":\"4421\",\"type\":\"CDSView\"},{\"attributes\":{\"data_source\":{\"id\":\"4430\"},\"glyph\":{\"id\":\"4431\"},\"hover_glyph\":null,\"muted_glyph\":null,\"nonselection_glyph\":{\"id\":\"4432\"},\"selection_glyph\":null,\"view\":{\"id\":\"4434\"}},\"id\":\"4433\",\"type\":\"GlyphRenderer\"},{\"attributes\":{\"items\":[{\"id\":\"4429\"},{\"id\":\"4443\"},{\"id\":\"4459\"},{\"id\":\"4477\"},{\"id\":\"4497\"},{\"id\":\"4519\"},{\"id\":\"4543\"},{\"id\":\"4569\"},{\"id\":\"4597\"},{\"id\":\"4627\"},{\"id\":\"4659\"}]},\"id\":\"4428\",\"type\":\"Legend\"},{\"attributes\":{\"source\":{\"id\":\"4598\"}},\"id\":\"4602\",\"type\":\"CDSView\"},{\"attributes\":{},\"id\":\"4457\",\"type\":\"Selection\"},{\"attributes\":{},\"id\":\"4406\",\"type\":\"SaveTool\"},{\"attributes\":{\"data_source\":{\"id\":\"4444\"},\"glyph\":{\"id\":\"4445\"},\"hover_glyph\":null,\"muted_glyph\":null,\"nonselection_glyph\":{\"id\":\"4446\"},\"selection_glyph\":null,\"view\":{\"id\":\"4448\"}},\"id\":\"4447\",\"type\":\"GlyphRenderer\"},{\"attributes\":{},\"id\":\"4440\",\"type\":\"UnionRenderers\"},{\"attributes\":{\"text\":\"Error Metric for 1/2 Complex\"},\"id\":\"4385\",\"type\":\"Title\"},{\"attributes\":{\"fill_alpha\":{\"value\":0.1},\"fill_color\":{\"value\":\"#6a3d9a\"},\"line_alpha\":{\"value\":0.1},\"line_color\":{\"value\":\"#6a3d9a\"},\"size\":{\"units\":\"screen\",\"value\":10},\"x\":{\"value\":9},\"y\":{\"value\":2.8284271224861257}},\"id\":\"4600\",\"type\":\"Circle\"},{\"attributes\":{\"data\":{},\"selected\":{\"id\":\"4495\"},\"selection_policy\":{\"id\":\"4494\"}},\"id\":\"4460\",\"type\":\"ColumnDataSource\"},{\"attributes\":{\"fill_alpha\":{\"value\":0.1},\"fill_color\":{\"value\":\"#33a02c\"},\"line_alpha\":{\"value\":0.1},\"line_color\":{\"value\":\"#33a02c\"},\"size\":{\"units\":\"screen\",\"value\":10},\"x\":{\"value\":3},\"y\":{\"value\":3.9183863412566746e+77}},\"id\":\"4462\",\"type\":\"Circle\"},{\"attributes\":{\"data\":{},\"selected\":{\"id\":\"4517\"},\"selection_policy\":{\"id\":\"4516\"}},\"id\":\"4478\",\"type\":\"ColumnDataSource\"},{\"attributes\":{\"source\":{\"id\":\"4460\"}},\"id\":\"4464\",\"type\":\"CDSView\"},{\"attributes\":{},\"id\":\"4862\",\"type\":\"Selection\"},{\"attributes\":{},\"id\":\"4540\",\"type\":\"UnionRenderers\"},{\"attributes\":{},\"id\":\"4426\",\"type\":\"BasicTickFormatter\"},{\"attributes\":{\"axis_label\":\"Model Number\",\"formatter\":{\"id\":\"4426\"},\"ticker\":{\"id\":\"4396\"}},\"id\":\"4395\",\"type\":\"LinearAxis\"},{\"attributes\":{},\"id\":\"4656\",\"type\":\"UnionRenderers\"},{\"attributes\":{},\"id\":\"4400\",\"type\":\"BasicTicker\"},{\"attributes\":{},\"id\":\"4625\",\"type\":\"Selection\"},{\"attributes\":{},\"id\":\"4393\",\"type\":\"LinearScale\"},{\"attributes\":{},\"id\":\"4541\",\"type\":\"Selection\"},{\"attributes\":{},\"id\":\"4624\",\"type\":\"UnionRenderers\"},{\"attributes\":{\"data\":{},\"selected\":{\"id\":\"4625\"},\"selection_policy\":{\"id\":\"4624\"}},\"id\":\"4570\",\"type\":\"ColumnDataSource\"},{\"attributes\":{},\"id\":\"4391\",\"type\":\"LinearScale\"},{\"attributes\":{\"label\":{\"value\":\"inf Model 6\"},\"renderers\":[{\"id\":\"4523\"}]},\"id\":\"4543\",\"type\":\"LegendItem\"},{\"attributes\":{\"label\":{\"value\":\"Model 9\"},\"renderers\":[{\"id\":\"4601\"}]},\"id\":\"4627\",\"type\":\"LegendItem\"},{\"attributes\":{\"fill_color\":{\"value\":\"#33a02c\"},\"line_color\":{\"value\":\"#33a02c\"},\"size\":{\"units\":\"screen\",\"value\":10},\"x\":{\"value\":3},\"y\":{\"value\":3.9183863412566746e+77}},\"id\":\"4461\",\"type\":\"Circle\"},{\"attributes\":{\"fill_alpha\":{\"value\":0.1},\"fill_color\":{\"value\":\"#cab2d6\"},\"line_alpha\":{\"value\":0.1},\"line_color\":{\"value\":\"#cab2d6\"},\"size\":{\"units\":\"screen\",\"value\":10},\"x\":{\"value\":8},\"y\":{\"value\":2.8284271224861257}},\"id\":\"4572\",\"type\":\"Circle\"}],\"root_ids\":[\"4384\"]},\"title\":\"Bokeh Application\",\"version\":\"2.0.2\"}};\n",
       "  var render_items = [{\"docid\":\"2a97588f-23e1-4f62-8aed-1f47c997792f\",\"root_ids\":[\"4384\"],\"roots\":{\"4384\":\"71d2f45c-f93a-48c7-bf42-b316ecd99b94\"}}];\n",
       "  root.Bokeh.embed.embed_items_notebook(docs_json, render_items);\n",
       "\n",
       "  }\n",
       "  if (root.Bokeh !== undefined) {\n",
       "    embed_document(root);\n",
       "  } else {\n",
       "    var attempts = 0;\n",
       "    var timer = setInterval(function(root) {\n",
       "      if (root.Bokeh !== undefined) {\n",
       "        clearInterval(timer);\n",
       "        embed_document(root);\n",
       "      } else {\n",
       "        attempts++;\n",
       "        if (attempts > 100) {\n",
       "          clearInterval(timer);\n",
       "          console.log(\"Bokeh: ERROR: Unable to run BokehJS code because BokehJS library is missing\");\n",
       "        }\n",
       "      }\n",
       "    }, 10, root)\n",
       "  }\n",
       "})(window);"
      ],
      "application/vnd.bokehjs_exec.v0+json": ""
     },
     "metadata": {
      "application/vnd.bokehjs_exec.v0+json": {
       "id": "4384"
      }
     },
     "output_type": "display_data"
    },
    {
     "name": "stdout",
     "output_type": "stream",
     "text": [
      "Model 0 : [5, 9, 13, 17, 23, 28, 31, 35, 39, 43, 47, 51, 55, 59, 63, 66]\n",
      "Model 1 : [5, 9, 13, 17, 23, 28, 31, 35, 39, 43, 47, 51, 55, 59, 63, 66]\n",
      "Model 2 : [5, 9, 13, 17, 23, 28, 31, 35, 39, 43, 47, 51, 55, 59, 63, 66]\n",
      "Model 3 : [5, 9, 13, 17, 23, 28, 31, 35, 39, 43, 47, 51, 55, 59, 63, 66]\n",
      "Model 4 : [5, 9, 13, 17, 23, 28, 31, 35, 39, 43, 47, 51, 55, 59, 63, 66]\n",
      "Model 5 : [5, 9, 13, 17, 23, 28, 31, 35, 39, 43, 47, 51, 55, 59, 63, 66]\n",
      "Model 6 : [5, 9, 13, 17, 23, 28, 31, 35, 39, 43, 47, 51, 55, 59, 63, 66]\n",
      "Model 7 : [5, 9, 13, 17, 23, 28, 31, 35, 39, 43, 47, 51, 55, 59, 63, 66]\n",
      "Model 8 : [5, 9, 13, 17, 23, 28, 31, 35, 39, 43, 47, 51, 55, 59, 63, 66]\n",
      "Model 9 : [5, 9, 13, 17, 23, 28, 31, 35, 39, 43, 47, 51, 55, 59, 63, 66]\n",
      "Model 10 : [5, 9, 13, 17, 23, 28, 31, 35, 39, 43, 47, 51, 55, 59, 63, 66]\n"
     ]
    }
   ],
   "source": [
    "i_list = [5,9,13,17,23,28,31,35,39,43,47,51,55,59,63,66]\n",
    "model_4 = [i_list, i_list, i_list, i_list, i_list, i_list, i_list, i_list, i_list, i_list, i_list]\n",
    "\n",
    "error_plot(model_4, title = 'Error Metric for 1/2 Complex')"
   ]
  },
  {
   "cell_type": "code",
   "execution_count": 17,
   "metadata": {},
   "outputs": [],
   "source": [
    "def error_multiple(i_list):\n",
    "    i_list = [5,9,13,17,23,28,31,35,39,43,47,51,55,59,63,66]\n",
    "    models = [i_list, i_list, i_list, i_list, i_list, i_list, i_list, i_list, i_list, i_list, i_list]\n",
    "\n",
    "    error_plot(models)"
   ]
  },
  {
   "cell_type": "markdown",
   "metadata": {},
   "source": [
    "**Try to plot different outputs of model 5?** See if any of them match closer to original."
   ]
  },
  {
   "cell_type": "code",
   "execution_count": null,
   "metadata": {},
   "outputs": [],
   "source": [
    " colors = ['#a6cee3','#1f78b4','#b2df8a','#33a02c','#fb9a99','#e31a1c',\n",
    "     '#fdbf6f','#ff7f00','#cab2d6','#6a3d9a','#ffff99','#b15928']\n",
    "\n",
    "    \n",
    "    \n",
    "timescale_list = []\n",
    "for s in sub_remove:\n",
    "    timescale_list.append(x[s])\n",
    "\n",
    "# Get appropriate list of complexes that are not in timescale_list\n",
    "# What you should pass into solve_timescale_separation\n",
    "update_timescale = []\n",
    "for item in x:\n",
    "    if item not in timescale_list:\n",
    "        update_timescale.append(item)\n",
    "\n",
    "timepoints_ssm = np.linspace(0,100,10)\n",
    "timepoints_ode = np.linspace(0, 100, 10)\n",
    "sys_reduce = reduce(sys, timepoints_ode, timepoints_ssm)\n",
    "\n",
    "aa,bb = sys_reduce.solve_timescale_separation(update_timescale)\n",
    "\n",
    "p.legend.location = 'top_right'\n",
    "    \n",
    "bokeh.io.show(p)"
   ]
  },
  {
   "cell_type": "code",
   "execution_count": 28,
   "metadata": {},
   "outputs": [],
   "source": [
    "%run prep_for_autoreduce.py"
   ]
  },
  {
   "cell_type": "code",
   "execution_count": 29,
   "metadata": {},
   "outputs": [
    {
     "data": {
      "image/png": "[encoded data removed]",
      "text/plain": [
       "<Figure size 432x288 with 1 Axes>"
      ]
     },
     "metadata": {
      "needs_background": "light"
     },
     "output_type": "display_data"
    }
   ],
   "source": [
    "plt.plot(timepoints_ode, sol)\n",
    "plt.xlabel('Time')\n",
    "plt.ylabel('Concentration (mM)')\n",
    "plt.title('Full Model, Normal Initial Conditions')\n",
    "plt.show()"
   ]
  },
  {
   "cell_type": "markdown",
   "metadata": {},
   "source": [
    "Ok, we've confirmed this has the correct initial conditions. <br>\n",
    "**Let's now try with model 5 (plot 5 times)**"
   ]
  },
  {
   "cell_type": "markdown",
   "metadata": {},
   "source": [
    "Perform timescale separation"
   ]
  },
  {
   "cell_type": "code",
   "execution_count": 30,
   "metadata": {},
   "outputs": [
    {
     "name": "stdout",
     "output_type": "stream",
     "text": [
      "attempting to retain : [0, 1, 2, 3, 4, 7, 8, 11, 12, 15, 16, 19, 20, 21, 22, 25, 26, 27, 30, 33, 34, 37, 38, 41, 42, 45, 46, 49, 50, 53, 54, 57, 58, 61, 62, 65]\n"
     ]
    },
    {
     "name": "stderr",
     "output_type": "stream",
     "text": [
      "/Users/ankitaroychoudhury/opt/anaconda3/lib/python3.7/site-packages/sympy/core/relational.py:470: SymPyDeprecationWarning: \n",
      "\n",
      "Eq(expr) with rhs default to 0 has been deprecated since SymPy 1.5.\n",
      "Use Eq(expr, 0) instead. See\n",
      "https://github.com/sympy/sympy/issues/16587 for more info.\n",
      "\n",
      "  deprecated_since_version=\"1.5\"\n"
     ]
    },
    {
     "name": "stdout",
     "output_type": "stream",
     "text": [
      "Successful time-scale separation solution obtained.\n"
     ]
    }
   ],
   "source": [
    "# Define list of indices to remove\n",
    "i_list = [5,6,9,10,13, 14,17,18,23,24,28,29,31,32,35,36,39,40,43,44,47,48,51,52,55,56,59,60,63,64,66,67]\n",
    "\n",
    "# Get appropriate list of complexes with indices in i_list\n",
    "timescale_list = []\n",
    "for i in i_list:\n",
    "    #/print(i)\n",
    "    timescale_list.append(x[i])\n",
    "\n",
    "# Get appropriate list of complexes that are not in timescale_list\n",
    "# What you should pass into solve_timescale_separation\n",
    "update_timescale = []\n",
    "for item in x:\n",
    "    if item not in timescale_list:\n",
    "        update_timescale.append(item)\n",
    "        \n",
    "\n",
    "timepoints_ssm = np.linspace(0,100,10)\n",
    "timepoints_ode = np.linspace(0, 100, 10)\n",
    "sys_reduce = reduce(sys, timepoints_ode, timepoints_ssm)\n",
    "\n",
    "aa,bb = sys_reduce.solve_timescale_separation(update_timescale)"
   ]
  },
  {
   "cell_type": "code",
   "execution_count": 31,
   "metadata": {},
   "outputs": [
    {
     "name": "stderr",
     "output_type": "stream",
     "text": [
      "/Users/ankitaroychoudhury/opt/anaconda3/lib/python3.7/site-packages/scipy/integrate/odepack.py:248: ODEintWarning: Excess work done on this call (perhaps wrong Dfun type). Run with full_output = 1 to get quantitative information.\n",
      "  warnings.warn(warning_msg, ODEintWarning)\n"
     ]
    },
    {
     "data": {
      "text/plain": [
       "2.8699823614600284"
      ]
     },
     "execution_count": 31,
     "metadata": {},
     "output_type": "execute_result"
    }
   ],
   "source": [
    "sys_reduce.get_error_metric(aa)"
   ]
  },
  {
   "cell_type": "code",
   "execution_count": 35,
   "metadata": {},
   "outputs": [
    {
     "data": {
      "text/plain": [
       "36"
      ]
     },
     "execution_count": 35,
     "metadata": {},
     "output_type": "execute_result"
    }
   ],
   "source": [
    "len(aa.f)"
   ]
  },
  {
   "cell_type": "code",
   "execution_count": 36,
   "metadata": {},
   "outputs": [
    {
     "data": {
      "text/plain": [
       "array([ 0.15, 30.  , 30.  ,  0.  ,  0.  ,  0.  ,  0.  ,  0.15,  0.  ,\n",
       "        0.  ,  0.  ,  0.15,  0.  ,  0.  ,  0.  ,  0.15,  0.  ,  0.  ,\n",
       "        0.  ,  0.15, 30.  ,  0.  ,  0.  ,  0.  ,  0.  ,  0.15, 30.  ,\n",
       "        0.  ,  0.  ,  0.  ,  0.15,  0.  ,  0.  ,  0.15,  0.  ,  0.  ,\n",
       "        0.  ,  0.15,  0.  ,  0.  ,  0.  ,  0.15,  0.  ,  0.  ,  0.  ,\n",
       "        0.15,  0.  ,  0.  ,  0.  ,  0.15,  0.  ,  0.  ,  0.  ,  0.15,\n",
       "        0.  ,  0.  ,  0.  ,  0.15,  0.  ,  0.  ,  0.  ,  0.15,  0.  ,\n",
       "        0.  ,  0.  ,  2.  ,  0.  ,  0.  ])"
      ]
     },
     "execution_count": 36,
     "metadata": {},
     "output_type": "execute_result"
    }
   ],
   "source": [
    "x_init"
   ]
  },
  {
   "cell_type": "code",
   "execution_count": 83,
   "metadata": {},
   "outputs": [
    {
     "name": "stdout",
     "output_type": "stream",
     "text": [
      "0\n",
      "1\n",
      "2\n",
      "3\n",
      "4\n"
     ]
    }
   ],
   "source": [
    "for j in range(5):\n",
    "    print(j)\n",
    "# set up init for all enzymes\n",
    "enz_list = [0, 7, 11, 15, 19, 25, 30, 33, 37, 41, 45, 49, 53, 57, 61]\n",
    "# indices for gluc, atp, nadp, pi\n",
    "mol_list = [2, 1, 20, 26]\n",
    "\n",
    "# for i,item in enumerate(x_init):\n",
    "#     if i in enz_list and i in spec_inds:\n",
    "#         x_init[i] = 0.15\n",
    "        \n",
    "#     # atpase init cond\n",
    "#     if i == 65:\n",
    "#         x_init[i] = 2.\n",
    "        \n",
    "#     # set up other molecules\n",
    "#     if i in mol_list:\n",
    "#         x_init[i] = 30\n",
    "        \n",
    "        \n",
    "spec_inds = [0, 1, 2, 3, 4, 7, 8, 11, 12, 15, 16, 19, 20, 21, 22, 25, 26, 27, 30, 33, 34, 37, 38, 41, 42, 45, 46, 49, 50, 53, 54, 57, 58, 61, 62, 65] # indices of stuff we decided to keep\n",
    "\n",
    "x_init = np.zeros(len(spec_inds))\n",
    "\n",
    "for i,ind in enumerate(spec_inds):\n",
    "    \n",
    "    if ind in enz_list:\n",
    "        x_init[i] = 0.15\n",
    "    elif ind in mol_list:\n",
    "        x_init[i] = 30\n",
    "    else:\n",
    "        x_init[i] = 0\n",
    "        "
   ]
  },
  {
   "cell_type": "code",
   "execution_count": 84,
   "metadata": {},
   "outputs": [
    {
     "data": {
      "text/plain": [
       "array([ 0.15, 30.  , 30.  ,  0.  ,  0.  ,  0.15,  0.  ,  0.15,  0.  ,\n",
       "        0.15,  0.  ,  0.15, 30.  ,  0.  ,  0.  ,  0.15, 30.  ,  0.  ,\n",
       "        0.15,  0.15,  0.  ,  0.15,  0.  ,  0.15,  0.  ,  0.15,  0.  ,\n",
       "        0.15,  0.  ,  0.15,  0.  ,  0.15,  0.  ,  0.15,  0.  ,  0.  ])"
      ]
     },
     "execution_count": 84,
     "metadata": {},
     "output_type": "execute_result"
    }
   ],
   "source": [
    "x_init"
   ]
  },
  {
   "cell_type": "code",
   "execution_count": 41,
   "metadata": {},
   "outputs": [
    {
     "data": {
      "text/plain": [
       "36"
      ]
     },
     "execution_count": 41,
     "metadata": {},
     "output_type": "execute_result"
    }
   ],
   "source": [
    "len(x_init)"
   ]
  },
  {
   "cell_type": "code",
   "execution_count": null,
   "metadata": {},
   "outputs": [],
   "source": []
  },
  {
   "cell_type": "code",
   "execution_count": 45,
   "metadata": {},
   "outputs": [
    {
     "data": {
      "image/png": "[encoded data removed]",
      "text/plain": [
       "<Figure size 1512x720 with 1 Axes>"
      ]
     },
     "metadata": {
      "needs_background": "light"
     },
     "output_type": "display_data"
    }
   ],
   "source": [
    "from numpy import *\n",
    "from matplotlib.pylab import *\n",
    "from matplotlib.pyplot import *\n",
    "from scipy.integrate import odeint \n",
    "\n",
    "def simulateModel(t0, tend, numPoints):\n",
    "  \n",
    "  #compartments\n",
    "  default = 1e-06\n",
    "\n",
    "  \n",
    "  #boundary species\n",
    "  \n",
    "  def ode_fun(x, t): # REMOVE \n",
    "    x0 = enzyme_hex = x[0]\n",
    "    x1 = metabolite_atp = x[1]\n",
    "    x2 = molecule_glucose = x[2]\n",
    "    x3 = molecule_g6p = x[3]\n",
    "    x4 = metabolite_adp = x[4]\n",
    "    x7 = enzyme_pgi = x[5]\n",
    "    x8 = molecule_f6p = x[6]\n",
    "    x11 = enzyme_pfk = x[7]\n",
    "    x12 = molecule_f16p = x[8]\n",
    "    x15 = enzyme_ald_tpi = x[9]\n",
    "    x16 = molecule_g3p = x[10]\n",
    "    x19 = enzyme_gapN = x[11]\n",
    "    x20 = metabolite_nadp = x[12]\n",
    "    x21 = molecule_3pg = x[13]\n",
    "    x22 = metabolite_nadph = x[14]\n",
    "    x25 = enzyme_mGapDH = x[15]\n",
    "    x26 = metabolite_pi = x[16]\n",
    "    x27 = molecule_13bpg = x[17]\n",
    "    x30 = enzyme_pgk = x[18]\n",
    "    x33 = enzyme_pgm = x[19]\n",
    "    x34 = molecule_2pg = x[20]\n",
    "    x37 = enzyme_eno = x[21]\n",
    "    x38 = molecule_pep = x[22]\n",
    "    x41 = enzyme_pyk = x[23]\n",
    "    x42 = molecule_pyruvate = x[24]\n",
    "    x45 = enzyme_alsS = x[25]\n",
    "    x46 = molecule_acetolac = x[26]\n",
    "    x49 = enzyme_IlvC = x[27]\n",
    "    x50 = molecule_23dih3mebut = x[28]\n",
    "    x53 = enzyme_IlvD = x[29]\n",
    "    x54 = molecule_3me2oxo = x[30]\n",
    "    x57 = enzyme_kivD = x[31]\n",
    "    x58 = molecule_isobutanal = x[32]\n",
    "    x61 = enzyme_yahk = x[33]\n",
    "    x62 = molecule_isobutanol = x[34]\n",
    "    x65 = enzyme_atpase = x[35]\n",
    "\n",
    "\n",
    "    return array([-14.9993750260406*x0*x1*x2 - 1.5*x0*x3*x4 + 2.0e-13*x0*(74996875130203.0*x1*x2 + 7500000000000.0*x3*x4),\n",
    " -14.9993750260406*x0*x1*x2 - 3.0*x1**2*x41*x42**2 - 14.9993750260406*x1*x11*x8 - 1.5*x1*x21**2*x30 - 8.57142857142857*x1*x65 + 2.0e-13*x30*(7500000000000.0*x1*x21**2 + 74996875130203.0*x27*x4) + 4.0e-13*x41*(7500000000000.0*x1**2*x42**2 + 74996875130203.0*x38**2*x4**2),\n",
    " -14.9993750260406*x0*x1*x2,\n",
    " -1.5*x0*x3*x4 + 2.0e-13*x0*(74996875130203.0*x1*x2 + 7500000000000.0*x3*x4) - 14.9993750260406*x3*x7,\n",
    " -1.5*x0*x3*x4 + 2.0e-13*x0*(74996875130203.0*x1*x2 + 7500000000000.0*x3*x4) - 1.5*x11*x12*x4 + 2.0e-13*x11*(74996875130203.0*x1*x8 + 7500000000000.0*x12*x4) - 1.5*x26*x4*x65 - 14.9993750260406*x27*x30*x4 - 29.9987500520812*x38**2*x4**2*x41 + 0.214285714285714*x65*(40.0*x1 + 7.0*x26*x4),\n",
    " -14.9993750260406*x3*x7 - 1.5*x7*x8 + 2.0e-13*x7*(74996875130203.0*x3 + 7500000000000.0*x8),\n",
    " -14.9993750260406*x1*x11*x8 - 1.5*x7*x8 + 2.0e-13*x7*(74996875130203.0*x3 + 7500000000000.0*x8),\n",
    " -14.9993750260406*x1*x11*x8 - 1.5*x11*x12*x4 + 2.0e-13*x11*(74996875130203.0*x1*x8 + 7500000000000.0*x12*x4),\n",
    " -1.5*x11*x12*x4 + 2.0e-13*x11*(74996875130203.0*x1*x8 + 7500000000000.0*x12*x4) - 14.9993750260406*x12*x15,\n",
    " -14.9993750260406*x12*x15 - 1.5*x15*x16**2 + 2.0e-13*x15*(74996875130203.0*x12 + 7500000000000.0*x16**2),\n",
    " -3.0*x15*x16**2 + 4.0e-13*x15*(74996875130203.0*x12 + 7500000000000.0*x16**2) - 29.9987500520812*x16**2*x19*x20**2 - 29.9987500520812*x16**2*x20**2*x25*x26,\n",
    " -14.9993750260406*x16**2*x19*x20**2 - 1.5*x19*x21**2*x22**2 + 2.0e-13*x19*(74996875130203.0*x16**2*x20**2 + 7500000000000.0*x21**2*x22**2),\n",
    " -29.9987500520812*x16**2*x19*x20**2 - 29.9987500520812*x16**2*x20**2*x25*x26 - 1.5*x20*x49*x50 - 1.5*x20*x61*x62 + 2.0e-13*x49*(7500000000000.0*x20*x50 + 74996875130203.0*x22*x46) + 2.0e-13*x61*(7500000000000.0*x20*x62 + 74996875130203.0*x22*x58),\n",
    " -3.0*x1*x21**2*x30 - 3.0*x19*x21**2*x22**2 + 4.0e-13*x19*(74996875130203.0*x16**2*x20**2 + 7500000000000.0*x21**2*x22**2) - 29.9987500520812*x21**2*x33 + 4.0e-13*x30*(7500000000000.0*x1*x21**2 + 74996875130203.0*x27*x4),\n",
    " -3.0*x19*x21**2*x22**2 + 4.0e-13*x19*(74996875130203.0*x16**2*x20**2 + 7500000000000.0*x21**2*x22**2) - 3.0*x22**2*x25*x27 - 14.9993750260406*x22*x46*x49 - 14.9993750260406*x22*x58*x61 + 4.0e-13*x25*(74996875130203.0*x16**2*x20**2*x26 + 7500000000000.0*x22**2*x27),\n",
    " -14.9993750260406*x16**2*x20**2*x25*x26 - 1.5*x22**2*x25*x27 + 2.0e-13*x25*(74996875130203.0*x16**2*x20**2*x26 + 7500000000000.0*x22**2*x27),\n",
    " -14.9993750260406*x16**2*x20**2*x25*x26 - 1.5*x26*x4*x65 + 0.214285714285714*x65*(40.0*x1 + 7.0*x26*x4),\n",
    " -1.5*x22**2*x25*x27 + 2.0e-13*x25*(74996875130203.0*x16**2*x20**2*x26 + 7500000000000.0*x22**2*x27) - 14.9993750260406*x27*x30*x4,\n",
    " -1.5*x1*x21**2*x30 - 14.9993750260406*x27*x30*x4 + 2.0e-13*x30*(7500000000000.0*x1*x21**2 + 74996875130203.0*x27*x4),\n",
    " -14.9993750260406*x21**2*x33 - 1.5*x33*x34**2 + 2.0e-13*x33*(74996875130203.0*x21**2 + 7500000000000.0*x34**2),\n",
    " -3.0*x33*x34**2 + 4.0e-13*x33*(74996875130203.0*x21**2 + 7500000000000.0*x34**2) - 29.9987500520812*x34**2*x37,\n",
    " -14.9993750260406*x34**2*x37 - 1.5*x37*x38**2 + 2.0e-13*x37*(74996875130203.0*x34**2 + 7500000000000.0*x38**2),\n",
    " -3.0*x37*x38**2 + 4.0e-13*x37*(74996875130203.0*x34**2 + 7500000000000.0*x38**2) - 29.9987500520812*x38**2*x4**2*x41,\n",
    " -1.5*x1**2*x41*x42**2 - 14.9993750260406*x38**2*x4**2*x41 + 2.0e-13*x41*(7500000000000.0*x1**2*x42**2 + 74996875130203.0*x38**2*x4**2),\n",
    " -3.0*x1**2*x41*x42**2 + 4.0e-13*x41*(7500000000000.0*x1**2*x42**2 + 74996875130203.0*x38**2*x4**2) - 29.9987500520812*x42**2*x45,\n",
    " -14.9993750260406*x42**2*x45 - 1.5*x45*x46 + 2.0e-13*x45*(74996875130203.0*x42**2 + 7500000000000.0*x46),\n",
    " -14.9993750260406*x22*x46*x49 - 1.5*x45*x46 + 2.0e-13*x45*(74996875130203.0*x42**2 + 7500000000000.0*x46),\n",
    " -1.5*x20*x49*x50 - 14.9993750260406*x22*x46*x49 + 2.0e-13*x49*(7500000000000.0*x20*x50 + 74996875130203.0*x22*x46),\n",
    " -1.5*x20*x49*x50 + 2.0e-13*x49*(7500000000000.0*x20*x50 + 74996875130203.0*x22*x46) - 14.9993750260406*x50*x53,\n",
    " -14.9993750260406*x50*x53 - 1.5*x53*x54 + 2.0e-13*x53*(74996875130203.0*x50 + 7500000000000.0*x54),\n",
    " -1.5*x53*x54 + 2.0e-13*x53*(74996875130203.0*x50 + 7500000000000.0*x54) - 14.9993750260406*x54*x57,\n",
    " -14.9993750260406*x54*x57 - 1.5*x57*x58 + 2.0e-13*x57*(74996875130203.0*x54 + 7500000000000.0*x58),\n",
    " -14.9993750260406*x22*x58*x61 - 1.5*x57*x58 + 2.0e-13*x57*(74996875130203.0*x54 + 7500000000000.0*x58),\n",
    " -1.5*x20*x61*x62 - 14.9993750260406*x22*x58*x61 + 2.0e-13*x61*(7500000000000.0*x20*x62 + 74996875130203.0*x22*x58),\n",
    " -1.5*x20*x61*x62 + 2.0e-13*x61*(7500000000000.0*x20*x62 + 74996875130203.0*x22*x58),\n",
    " -8.57142857142857*x1*x65 - 1.5*x26*x4*x65 + 0.214285714285714*x65*(40.0*x1 + 7.0*x26*x4)])\n",
    "\n",
    "  time = linspace(t0, tend, numPoints)\n",
    "  #yinit= array([0.15, 30.0, 30.0, 0.0, 0.0, 0.0, 0.0, 0.15, 0.0, 0.0, 0.0, 0.15, 0.0, 0.0, 0.0, 0.15, 0.0, 0.0, 0.0, 0.15, 30.0, 0.0, 0.0, 0.0, 0.0, 0.15, 30.0, 0.0, 0.0, 0.0, 0.15, 0.0, 0.0, 0.15, 0.0, 0.0, 0.0, 0.15, 0.0, 0.0, 0.0, 0.15, 0.0, 0.0, 0.0, 0.15, 0.0, 0.0, 0.0, 0.15, 0.0, 0.0, 0.0, 0.15, 0.0, 0.0, 0.0, 0.15, 0.0, 0.0, 0.0, 0.15, 0.0, 0.0, 0.0, 2.0, 0.0, 0.0])\n",
    "  #yinit = x_init\n",
    "  yinit = x_init\n",
    "  y = odeint(ode_fun, yinit, time)\n",
    "\n",
    "  return time, y\n",
    "\n",
    "\n",
    "time, result = simulateModel(0, 75, 1000)\n",
    "\n",
    "fig = figure(figsize = (21,10))\n",
    "ax = subplot(111)\n",
    "plot(time,result[:,0], label=\"enzyme_hex\", lw=1.5)\n",
    "plot(time,result[:,1], label=\"metabolite_atp\", lw=1.5)\n",
    "plot(time,result[:,2], label=\"molecule_glucose\", lw=1.5)\n",
    "plot(time,result[:,3], label=\"molecule_g6p\", lw=1.5)\n",
    "plot(time,result[:,4], label=\"metabolite_adp\", lw=1.5)\n",
    "plot(time,result[:,5], label=\"enzyme_pgi\", lw=1.5)\n",
    "plot(time,result[:,6], label=\"molecule_f6p\", lw=1.5)\n",
    "plot(time,result[:,7], label=\"enzyme_pfk\", lw=1.5)\n",
    "plot(time,result[:,8], label=\"molecule_f16p\", lw=1.5)\n",
    "plot(time,result[:,9], label=\"enzyme_ald_tpi\", lw=1.5)\n",
    "plot(time,result[:,10], label=\"molecule_g3p\", lw=1.5)\n",
    "plot(time,result[:,11], label=\"enzyme_gapN\", lw=1.5)\n",
    "plot(time,result[:,12], label=\"metabolite_nadp\", lw=1.5)\n",
    "plot(time,result[:,13], label=\"molecule_3pg\", lw=1.5)\n",
    "plot(time,result[:,14], label=\"metabolite_nadph\", lw=1.5)\n",
    "plot(time,result[:,15], label=\"enzyme_mGapDH\", lw=1.5)\n",
    "plot(time,result[:,16], label=\"metabolite_pi\", lw=1.5)\n",
    "plot(time,result[:,17], label=\"molecule_13bpg\", lw=1.5)\n",
    "plot(time,result[:,18], label=\"enzyme_pgk\", lw=1.5)\n",
    "plot(time,result[:,19], label=\"enzyme_pgm\", lw=1.5)\n",
    "plot(time,result[:,20], label=\"molecule_2pg\", lw=1.5)\n",
    "plot(time,result[:,21], label=\"enzyme_eno\", lw=1.5)\n",
    "plot(time,result[:,22], label=\"molecule_pep\", lw=1.5)\n",
    "plot(time,result[:,23], label=\"enzyme_pyk\", lw=1.5)\n",
    "plot(time,result[:,24], label=\"molecule_pyruvate\", lw=1.5)\n",
    "plot(time,result[:,25], label=\"enzyme_alsS\", lw=1.5)\n",
    "plot(time,result[:,26], label=\"molecule_acetolac\", lw=1.5)\n",
    "plot(time,result[:,27], label=\"enzyme_IlvC\", lw=1.5)\n",
    "plot(time,result[:,28], label=\"molecule_23dih3mebut\", lw=1.5)\n",
    "plot(time,result[:,29], label=\"enzyme_IlvD\", lw=1.5)\n",
    "plot(time,result[:,30], label=\"molecule_3me2oxo\", lw=1.5)\n",
    "plot(time,result[:,31], label=\"enzyme_kivD\", lw=1.5)\n",
    "plot(time,result[:,32], label=\"molecule_isobutanal\", lw=1.5)\n",
    "plot(time,result[:,33], label=\"enzyme_yahk\", lw=1.5)\n",
    "plot(time,result[:,34], label=\"molecule_isobutanol\", lw=1.5)\n",
    "plot(time,result[:,35], label=\"enzyme_atpase\", lw=1.5)\n",
    "box = ax.get_position()\n",
    "ax.set_position([box.x0, box.y0, box.width * 0.7, box.height])\n",
    "xlabel(\"time\")\n",
    "ylabel(\"concentration\")\n",
    "legend(loc=\"center left\", bbox_to_anchor=(1, 0.5))\n",
    "show()\n",
    "\n",
    "\n"
   ]
  },
  {
   "cell_type": "code",
   "execution_count": 67,
   "metadata": {},
   "outputs": [
    {
     "data": {
      "text/plain": [
       "[-14.9993750260406*x0*x1*x2 - 1.5*x0*x3*x4 + 2.0e-13*x0*(74996875130203.0*x1*x2 + 7500000000000.0*x3*x4),\n",
       " -14.9993750260406*x0*x1*x2 - 3.0*x1**2*x41*x42**2 - 14.9993750260406*x1*x11*x8 - 1.5*x1*x21**2*x30 - 8.57142857142857*x1*x65 + 2.0e-13*x30*(7500000000000.0*x1*x21**2 + 74996875130203.0*x27*x4) + 4.0e-13*x41*(7500000000000.0*x1**2*x42**2 + 74996875130203.0*x38**2*x4**2),\n",
       " -14.9993750260406*x0*x1*x2,\n",
       " -1.5*x0*x3*x4 + 2.0e-13*x0*(74996875130203.0*x1*x2 + 7500000000000.0*x3*x4) - 14.9993750260406*x3*x7,\n",
       " -1.5*x0*x3*x4 + 2.0e-13*x0*(74996875130203.0*x1*x2 + 7500000000000.0*x3*x4) - 1.5*x11*x12*x4 + 2.0e-13*x11*(74996875130203.0*x1*x8 + 7500000000000.0*x12*x4) - 1.5*x26*x4*x65 - 14.9993750260406*x27*x30*x4 - 29.9987500520812*x38**2*x4**2*x41 + 0.214285714285714*x65*(40.0*x1 + 7.0*x26*x4),\n",
       " -14.9993750260406*x3*x7 - 1.5*x7*x8 + 2.0e-13*x7*(74996875130203.0*x3 + 7500000000000.0*x8),\n",
       " -14.9993750260406*x1*x11*x8 - 1.5*x7*x8 + 2.0e-13*x7*(74996875130203.0*x3 + 7500000000000.0*x8),\n",
       " -14.9993750260406*x1*x11*x8 - 1.5*x11*x12*x4 + 2.0e-13*x11*(74996875130203.0*x1*x8 + 7500000000000.0*x12*x4),\n",
       " -1.5*x11*x12*x4 + 2.0e-13*x11*(74996875130203.0*x1*x8 + 7500000000000.0*x12*x4) - 14.9993750260406*x12*x15,\n",
       " -14.9993750260406*x12*x15 - 1.5*x15*x16**2 + 2.0e-13*x15*(74996875130203.0*x12 + 7500000000000.0*x16**2),\n",
       " -3.0*x15*x16**2 + 4.0e-13*x15*(74996875130203.0*x12 + 7500000000000.0*x16**2) - 29.9987500520812*x16**2*x19*x20**2 - 29.9987500520812*x16**2*x20**2*x25*x26,\n",
       " -14.9993750260406*x16**2*x19*x20**2 - 1.5*x19*x21**2*x22**2 + 2.0e-13*x19*(74996875130203.0*x16**2*x20**2 + 7500000000000.0*x21**2*x22**2),\n",
       " -29.9987500520812*x16**2*x19*x20**2 - 29.9987500520812*x16**2*x20**2*x25*x26 - 1.5*x20*x49*x50 - 1.5*x20*x61*x62 + 2.0e-13*x49*(7500000000000.0*x20*x50 + 74996875130203.0*x22*x46) + 2.0e-13*x61*(7500000000000.0*x20*x62 + 74996875130203.0*x22*x58),\n",
       " -3.0*x1*x21**2*x30 - 3.0*x19*x21**2*x22**2 + 4.0e-13*x19*(74996875130203.0*x16**2*x20**2 + 7500000000000.0*x21**2*x22**2) - 29.9987500520812*x21**2*x33 + 4.0e-13*x30*(7500000000000.0*x1*x21**2 + 74996875130203.0*x27*x4),\n",
       " -3.0*x19*x21**2*x22**2 + 4.0e-13*x19*(74996875130203.0*x16**2*x20**2 + 7500000000000.0*x21**2*x22**2) - 3.0*x22**2*x25*x27 - 14.9993750260406*x22*x46*x49 - 14.9993750260406*x22*x58*x61 + 4.0e-13*x25*(74996875130203.0*x16**2*x20**2*x26 + 7500000000000.0*x22**2*x27),\n",
       " -14.9993750260406*x16**2*x20**2*x25*x26 - 1.5*x22**2*x25*x27 + 2.0e-13*x25*(74996875130203.0*x16**2*x20**2*x26 + 7500000000000.0*x22**2*x27),\n",
       " -14.9993750260406*x16**2*x20**2*x25*x26 - 1.5*x26*x4*x65 + 0.214285714285714*x65*(40.0*x1 + 7.0*x26*x4),\n",
       " -1.5*x22**2*x25*x27 + 2.0e-13*x25*(74996875130203.0*x16**2*x20**2*x26 + 7500000000000.0*x22**2*x27) - 14.9993750260406*x27*x30*x4,\n",
       " -1.5*x1*x21**2*x30 - 14.9993750260406*x27*x30*x4 + 2.0e-13*x30*(7500000000000.0*x1*x21**2 + 74996875130203.0*x27*x4),\n",
       " -14.9993750260406*x21**2*x33 - 1.5*x33*x34**2 + 2.0e-13*x33*(74996875130203.0*x21**2 + 7500000000000.0*x34**2),\n",
       " -3.0*x33*x34**2 + 4.0e-13*x33*(74996875130203.0*x21**2 + 7500000000000.0*x34**2) - 29.9987500520812*x34**2*x37,\n",
       " -14.9993750260406*x34**2*x37 - 1.5*x37*x38**2 + 2.0e-13*x37*(74996875130203.0*x34**2 + 7500000000000.0*x38**2),\n",
       " -3.0*x37*x38**2 + 4.0e-13*x37*(74996875130203.0*x34**2 + 7500000000000.0*x38**2) - 29.9987500520812*x38**2*x4**2*x41,\n",
       " -1.5*x1**2*x41*x42**2 - 14.9993750260406*x38**2*x4**2*x41 + 2.0e-13*x41*(7500000000000.0*x1**2*x42**2 + 74996875130203.0*x38**2*x4**2),\n",
       " -3.0*x1**2*x41*x42**2 + 4.0e-13*x41*(7500000000000.0*x1**2*x42**2 + 74996875130203.0*x38**2*x4**2) - 29.9987500520812*x42**2*x45,\n",
       " -14.9993750260406*x42**2*x45 - 1.5*x45*x46 + 2.0e-13*x45*(74996875130203.0*x42**2 + 7500000000000.0*x46),\n",
       " -14.9993750260406*x22*x46*x49 - 1.5*x45*x46 + 2.0e-13*x45*(74996875130203.0*x42**2 + 7500000000000.0*x46),\n",
       " -1.5*x20*x49*x50 - 14.9993750260406*x22*x46*x49 + 2.0e-13*x49*(7500000000000.0*x20*x50 + 74996875130203.0*x22*x46),\n",
       " -1.5*x20*x49*x50 + 2.0e-13*x49*(7500000000000.0*x20*x50 + 74996875130203.0*x22*x46) - 14.9993750260406*x50*x53,\n",
       " -14.9993750260406*x50*x53 - 1.5*x53*x54 + 2.0e-13*x53*(74996875130203.0*x50 + 7500000000000.0*x54),\n",
       " -1.5*x53*x54 + 2.0e-13*x53*(74996875130203.0*x50 + 7500000000000.0*x54) - 14.9993750260406*x54*x57,\n",
       " -14.9993750260406*x54*x57 - 1.5*x57*x58 + 2.0e-13*x57*(74996875130203.0*x54 + 7500000000000.0*x58),\n",
       " -14.9993750260406*x22*x58*x61 - 1.5*x57*x58 + 2.0e-13*x57*(74996875130203.0*x54 + 7500000000000.0*x58),\n",
       " -1.5*x20*x61*x62 - 14.9993750260406*x22*x58*x61 + 2.0e-13*x61*(7500000000000.0*x20*x62 + 74996875130203.0*x22*x58),\n",
       " -1.5*x20*x61*x62 + 2.0e-13*x61*(7500000000000.0*x20*x62 + 74996875130203.0*x22*x58),\n",
       " -8.57142857142857*x1*x65 - 1.5*x26*x4*x65 + 0.214285714285714*x65*(40.0*x1 + 7.0*x26*x4)]"
      ]
     },
     "execution_count": 67,
     "metadata": {},
     "output_type": "execute_result"
    }
   ],
   "source": [
    "aa.f"
   ]
  },
  {
   "cell_type": "markdown",
   "metadata": {},
   "source": [
    "try to put it all together, big for loop"
   ]
  },
  {
   "cell_type": "markdown",
   "metadata": {},
   "source": [
    "**Not sure if this works best, aa.f isn't being recognized so plotting same thing over and over:(**"
   ]
  },
  {
   "cell_type": "code",
   "execution_count": 86,
   "metadata": {},
   "outputs": [
    {
     "name": "stdout",
     "output_type": "stream",
     "text": [
      "attempting to retain : [0, 1, 2, 3, 4, 7, 8, 11, 12, 15, 16, 19, 20, 21, 22, 25, 26, 27, 30, 33, 34, 37, 38, 41, 42, 45, 46, 49, 50, 53, 54, 57, 58, 61, 62, 65]\n",
      "Successful time-scale separation solution obtained.\n"
     ]
    },
    {
     "data": {
      "image/png": "[encoded data removed]",
      "text/plain": [
       "<Figure size 1512x720 with 1 Axes>"
      ]
     },
     "metadata": {
      "needs_background": "light"
     },
     "output_type": "display_data"
    }
   ],
   "source": [
    "\n",
    "\n",
    "\n",
    "j = 0\n",
    "for j in range(1):\n",
    "    \n",
    "    %run prep_for_autoreduce\n",
    "\n",
    "    i_list = [5,6,9,10,13, 14,17,18,23,24,28,29,31,32,35,36,39,40,43,44,47,48,51,52,55,56,59,60,63,64,66,67]\n",
    "    spec_inds = [0, 1, 2, 3, 4, 7, 8, 11, 12, 15, 16, 19, 20, 21, 22, 25, 26, 27, 30, 33, 34, 37, 38, 41, 42, 45, 46, 49, 50, 53, 54, 57, 58, 61, 62, 65] # indices of stuff we decided to keep\n",
    "\n",
    "    x_init = np.zeros(len(spec_inds))\n",
    "\n",
    "    for i,ind in enumerate(spec_inds):\n",
    "\n",
    "        if ind in enz_list:\n",
    "            x_init[i] = 0.15\n",
    "        elif ind in mol_list:\n",
    "            x_init[i] = 30\n",
    "        else:\n",
    "            x_init[i] = 0\n",
    "\n",
    "            \n",
    "            \n",
    "    timescale_list = []\n",
    "    for i in i_list:\n",
    "        timescale_list.append(x[i])\n",
    "\n",
    "\n",
    "    # Get appropriate list of complexes that are not in timescale_list\n",
    "    # What you should pass into solve_timescale_separation\n",
    "    update_timescale = []\n",
    "    for item in x:\n",
    "        if item not in timescale_list:\n",
    "            update_timescale.append(item)\n",
    "\n",
    "\n",
    "    timepoints_ssm = np.linspace(0,100,10)\n",
    "    timepoints_ode = np.linspace(0, 100, 10)\n",
    "    sys_reduce = reduce(sys, timepoints_ode, timepoints_ssm)\n",
    "\n",
    "    aa,bb = sys_reduce.solve_timescale_separation(update_timescale)\n",
    "    \n",
    "    \n",
    "    from numpy import *\n",
    "    from matplotlib.pylab import *\n",
    "    from matplotlib.pyplot import *\n",
    "    from scipy.integrate import odeint \n",
    "\n",
    "    def simulateModel(t0, tend, numPoints):\n",
    "\n",
    "      #compartments\n",
    "      default = 1e-06\n",
    "\n",
    "\n",
    "      #boundary species\n",
    "\n",
    "      def ode_fun(x, t): # REMOVE \n",
    "        x0 = enzyme_hex = x[0]\n",
    "        x1 = metabolite_atp = x[1]\n",
    "        x2 = molecule_glucose = x[2]\n",
    "        x3 = molecule_g6p = x[3]\n",
    "        x4 = metabolite_adp = x[4]\n",
    "        x7 = enzyme_pgi = x[5]\n",
    "        x8 = molecule_f6p = x[6]\n",
    "        x11 = enzyme_pfk = x[7]\n",
    "        x12 = molecule_f16p = x[8]\n",
    "        x15 = enzyme_ald_tpi = x[9]\n",
    "        x16 = molecule_g3p = x[10]\n",
    "        x19 = enzyme_gapN = x[11]\n",
    "        x20 = metabolite_nadp = x[12]\n",
    "        x21 = molecule_3pg = x[13]\n",
    "        x22 = metabolite_nadph = x[14]\n",
    "        x25 = enzyme_mGapDH = x[15]\n",
    "        x26 = metabolite_pi = x[16]\n",
    "        x27 = molecule_13bpg = x[17]\n",
    "        x30 = enzyme_pgk = x[18]\n",
    "        x33 = enzyme_pgm = x[19]\n",
    "        x34 = molecule_2pg = x[20]\n",
    "        x37 = enzyme_eno = x[21]\n",
    "        x38 = molecule_pep = x[22]\n",
    "        x41 = enzyme_pyk = x[23]\n",
    "        x42 = molecule_pyruvate = x[24]\n",
    "        x45 = enzyme_alsS = x[25]\n",
    "        x46 = molecule_acetolac = x[26]\n",
    "        x49 = enzyme_IlvC = x[27]\n",
    "        x50 = molecule_23dih3mebut = x[28]\n",
    "        x53 = enzyme_IlvD = x[29]\n",
    "        x54 = molecule_3me2oxo = x[30]\n",
    "        x57 = enzyme_kivD = x[31]\n",
    "        x58 = molecule_isobutanal = x[32]\n",
    "        x61 = enzyme_yahk = x[33]\n",
    "        x62 = molecule_isobutanol = x[34]\n",
    "        x65 = enzyme_atpase = x[35]\n",
    "\n",
    "\n",
    "\n",
    "        return np.array([-14.9993750260406*x0*x1*x2 - 1.5*x0*x3*x4 + 2.0e-13*x0*(74996875130203.0*x1*x2 + 7500000000000.0*x3*x4),\n",
    " -14.9993750260406*x0*x1*x2 - 3.0*x1**2*x41*x42**2 - 14.9993750260406*x1*x11*x8 - 1.5*x1*x21**2*x30 - 8.57142857142857*x1*x65 + 2.0e-13*x30*(7500000000000.0*x1*x21**2 + 74996875130203.0*x27*x4) + 4.0e-13*x41*(7500000000000.0*x1**2*x42**2 + 74996875130203.0*x38**2*x4**2),\n",
    " -14.9993750260406*x0*x1*x2,\n",
    " -1.5*x0*x3*x4 + 2.0e-13*x0*(74996875130203.0*x1*x2 + 7500000000000.0*x3*x4) - 14.9993750260406*x3*x7,\n",
    " -1.5*x0*x3*x4 + 2.0e-13*x0*(74996875130203.0*x1*x2 + 7500000000000.0*x3*x4) - 1.5*x11*x12*x4 + 2.0e-13*x11*(74996875130203.0*x1*x8 + 7500000000000.0*x12*x4) - 1.5*x26*x4*x65 - 14.9993750260406*x27*x30*x4 - 29.9987500520812*x38**2*x4**2*x41 + 0.214285714285714*x65*(40.0*x1 + 7.0*x26*x4),\n",
    " -14.9993750260406*x3*x7 - 1.5*x7*x8 + 2.0e-13*x7*(74996875130203.0*x3 + 7500000000000.0*x8),\n",
    " -14.9993750260406*x1*x11*x8 - 1.5*x7*x8 + 2.0e-13*x7*(74996875130203.0*x3 + 7500000000000.0*x8),\n",
    " -14.9993750260406*x1*x11*x8 - 1.5*x11*x12*x4 + 2.0e-13*x11*(74996875130203.0*x1*x8 + 7500000000000.0*x12*x4),\n",
    " -1.5*x11*x12*x4 + 2.0e-13*x11*(74996875130203.0*x1*x8 + 7500000000000.0*x12*x4) - 14.9993750260406*x12*x15,\n",
    " -14.9993750260406*x12*x15 - 1.5*x15*x16**2 + 2.0e-13*x15*(74996875130203.0*x12 + 7500000000000.0*x16**2),\n",
    " -3.0*x15*x16**2 + 4.0e-13*x15*(74996875130203.0*x12 + 7500000000000.0*x16**2) - 29.9987500520812*x16**2*x19*x20**2 - 29.9987500520812*x16**2*x20**2*x25*x26,\n",
    " -14.9993750260406*x16**2*x19*x20**2 - 1.5*x19*x21**2*x22**2 + 2.0e-13*x19*(74996875130203.0*x16**2*x20**2 + 7500000000000.0*x21**2*x22**2),\n",
    " -29.9987500520812*x16**2*x19*x20**2 - 29.9987500520812*x16**2*x20**2*x25*x26 - 1.5*x20*x49*x50 - 1.5*x20*x61*x62 + 2.0e-13*x49*(7500000000000.0*x20*x50 + 74996875130203.0*x22*x46) + 2.0e-13*x61*(7500000000000.0*x20*x62 + 74996875130203.0*x22*x58),\n",
    " -3.0*x1*x21**2*x30 - 3.0*x19*x21**2*x22**2 + 4.0e-13*x19*(74996875130203.0*x16**2*x20**2 + 7500000000000.0*x21**2*x22**2) - 29.9987500520812*x21**2*x33 + 4.0e-13*x30*(7500000000000.0*x1*x21**2 + 74996875130203.0*x27*x4),\n",
    " -3.0*x19*x21**2*x22**2 + 4.0e-13*x19*(74996875130203.0*x16**2*x20**2 + 7500000000000.0*x21**2*x22**2) - 3.0*x22**2*x25*x27 - 14.9993750260406*x22*x46*x49 - 14.9993750260406*x22*x58*x61 + 4.0e-13*x25*(74996875130203.0*x16**2*x20**2*x26 + 7500000000000.0*x22**2*x27),\n",
    " -14.9993750260406*x16**2*x20**2*x25*x26 - 1.5*x22**2*x25*x27 + 2.0e-13*x25*(74996875130203.0*x16**2*x20**2*x26 + 7500000000000.0*x22**2*x27),\n",
    " -14.9993750260406*x16**2*x20**2*x25*x26 - 1.5*x26*x4*x65 + 0.214285714285714*x65*(40.0*x1 + 7.0*x26*x4),\n",
    " -1.5*x22**2*x25*x27 + 2.0e-13*x25*(74996875130203.0*x16**2*x20**2*x26 + 7500000000000.0*x22**2*x27) - 14.9993750260406*x27*x30*x4,\n",
    " -1.5*x1*x21**2*x30 - 14.9993750260406*x27*x30*x4 + 2.0e-13*x30*(7500000000000.0*x1*x21**2 + 74996875130203.0*x27*x4),\n",
    " -14.9993750260406*x21**2*x33 - 1.5*x33*x34**2 + 2.0e-13*x33*(74996875130203.0*x21**2 + 7500000000000.0*x34**2),\n",
    " -3.0*x33*x34**2 + 4.0e-13*x33*(74996875130203.0*x21**2 + 7500000000000.0*x34**2) - 29.9987500520812*x34**2*x37,\n",
    " -14.9993750260406*x34**2*x37 - 1.5*x37*x38**2 + 2.0e-13*x37*(74996875130203.0*x34**2 + 7500000000000.0*x38**2),\n",
    " -3.0*x37*x38**2 + 4.0e-13*x37*(74996875130203.0*x34**2 + 7500000000000.0*x38**2) - 29.9987500520812*x38**2*x4**2*x41,\n",
    " -1.5*x1**2*x41*x42**2 - 14.9993750260406*x38**2*x4**2*x41 + 2.0e-13*x41*(7500000000000.0*x1**2*x42**2 + 74996875130203.0*x38**2*x4**2),\n",
    " -3.0*x1**2*x41*x42**2 + 4.0e-13*x41*(7500000000000.0*x1**2*x42**2 + 74996875130203.0*x38**2*x4**2) - 29.9987500520812*x42**2*x45,\n",
    " -14.9993750260406*x42**2*x45 - 1.5*x45*x46 + 2.0e-13*x45*(74996875130203.0*x42**2 + 7500000000000.0*x46),\n",
    " -14.9993750260406*x22*x46*x49 - 1.5*x45*x46 + 2.0e-13*x45*(74996875130203.0*x42**2 + 7500000000000.0*x46),\n",
    " -1.5*x20*x49*x50 - 14.9993750260406*x22*x46*x49 + 2.0e-13*x49*(7500000000000.0*x20*x50 + 74996875130203.0*x22*x46),\n",
    " -1.5*x20*x49*x50 + 2.0e-13*x49*(7500000000000.0*x20*x50 + 74996875130203.0*x22*x46) - 14.9993750260406*x50*x53,\n",
    " -14.9993750260406*x50*x53 - 1.5*x53*x54 + 2.0e-13*x53*(74996875130203.0*x50 + 7500000000000.0*x54),\n",
    " -1.5*x53*x54 + 2.0e-13*x53*(74996875130203.0*x50 + 7500000000000.0*x54) - 14.9993750260406*x54*x57,\n",
    " -14.9993750260406*x54*x57 - 1.5*x57*x58 + 2.0e-13*x57*(74996875130203.0*x54 + 7500000000000.0*x58),\n",
    " -14.9993750260406*x22*x58*x61 - 1.5*x57*x58 + 2.0e-13*x57*(74996875130203.0*x54 + 7500000000000.0*x58),\n",
    " -1.5*x20*x61*x62 - 14.9993750260406*x22*x58*x61 + 2.0e-13*x61*(7500000000000.0*x20*x62 + 74996875130203.0*x22*x58),\n",
    " -1.5*x20*x61*x62 + 2.0e-13*x61*(7500000000000.0*x20*x62 + 74996875130203.0*x22*x58),\n",
    " -8.57142857142857*x1*x65 - 1.5*x26*x4*x65 + 0.214285714285714*x65*(40.0*x1 + 7.0*x26*x4)])\n",
    "    \n",
    "      \n",
    "\n",
    "      time = linspace(t0, tend, numPoints)\n",
    "      \n",
    "      yinit = x_init\n",
    "      y = odeint(ode_fun, yinit, time)\n",
    "\n",
    "      return time, y\n",
    "\n",
    "\n",
    "    time, result = simulateModel(0, 75, 1000)\n",
    "\n",
    "    fig = figure(figsize = (21,10))\n",
    "    ax = subplot(111)\n",
    "    plot(time,result[:,0], label=\"enzyme_hex\", lw=1.5)\n",
    "    plot(time,result[:,1], label=\"metabolite_atp\", lw=1.5)\n",
    "    plot(time,result[:,2], label=\"molecule_glucose\", lw=1.5)\n",
    "    plot(time,result[:,3], label=\"molecule_g6p\", lw=1.5)\n",
    "    plot(time,result[:,4], label=\"metabolite_adp\", lw=1.5)\n",
    "    plot(time,result[:,5], label=\"enzyme_pgi\", lw=1.5)\n",
    "    plot(time,result[:,6], label=\"molecule_f6p\", lw=1.5)\n",
    "    plot(time,result[:,7], label=\"enzyme_pfk\", lw=1.5)\n",
    "    plot(time,result[:,8], label=\"molecule_f16p\", lw=1.5)\n",
    "    plot(time,result[:,9], label=\"enzyme_ald_tpi\", lw=1.5)\n",
    "    plot(time,result[:,10], label=\"molecule_g3p\", lw=1.5)\n",
    "    plot(time,result[:,11], label=\"enzyme_gapN\", lw=1.5)\n",
    "    plot(time,result[:,12], label=\"metabolite_nadp\", lw=1.5)\n",
    "    plot(time,result[:,13], label=\"molecule_3pg\", lw=1.5)\n",
    "    plot(time,result[:,14], label=\"metabolite_nadph\", lw=1.5)\n",
    "    plot(time,result[:,15], label=\"enzyme_mGapDH\", lw=1.5)\n",
    "    plot(time,result[:,16], label=\"metabolite_pi\", lw=1.5)\n",
    "    plot(time,result[:,17], label=\"molecule_13bpg\", lw=1.5)\n",
    "    plot(time,result[:,18], label=\"enzyme_pgk\", lw=1.5)\n",
    "    plot(time,result[:,19], label=\"enzyme_pgm\", lw=1.5)\n",
    "    plot(time,result[:,20], label=\"molecule_2pg\", lw=1.5)\n",
    "    plot(time,result[:,21], label=\"enzyme_eno\", lw=1.5)\n",
    "    plot(time,result[:,22], label=\"molecule_pep\", lw=1.5)\n",
    "    plot(time,result[:,23], label=\"enzyme_pyk\", lw=1.5)\n",
    "    plot(time,result[:,24], label=\"molecule_pyruvate\", lw=1.5)\n",
    "    plot(time,result[:,25], label=\"enzyme_alsS\", lw=1.5)\n",
    "    plot(time,result[:,26], label=\"molecule_acetolac\", lw=1.5)\n",
    "    plot(time,result[:,27], label=\"enzyme_IlvC\", lw=1.5)\n",
    "    plot(time,result[:,28], label=\"molecule_23dih3mebut\", lw=1.5)\n",
    "    plot(time,result[:,29], label=\"enzyme_IlvD\", lw=1.5)\n",
    "    plot(time,result[:,30], label=\"molecule_3me2oxo\", lw=1.5)\n",
    "    plot(time,result[:,31], label=\"enzyme_kivD\", lw=1.5)\n",
    "    plot(time,result[:,32], label=\"molecule_isobutanal\", lw=1.5)\n",
    "    plot(time,result[:,33], label=\"enzyme_yahk\", lw=1.5)\n",
    "    plot(time,result[:,34], label=\"molecule_isobutanol\", lw=1.5)\n",
    "    plot(time,result[:,35], label=\"enzyme_atpase\", lw=1.5)\n",
    "    box = ax.get_position()\n",
    "    ax.set_position([box.x0, box.y0, box.width * 0.7, box.height])\n",
    "    xlabel(\"time\")\n",
    "    ylabel(\"concentration\")\n",
    "    legend(loc=\"center left\", bbox_to_anchor=(1, 0.5))\n",
    "    show()\n",
    "\n",
    "\n",
    "\n"
   ]
  },
  {
   "cell_type": "markdown",
   "metadata": {},
   "source": [
    "Okay if we compare this to original it's too far. I guess error metric of ~2.8 is too high for me. This may change with parameters however, so you might either want to run reduce_simple or pick one and run w it."
   ]
  },
  {
   "cell_type": "markdown",
   "metadata": {},
   "source": [
    "## Definitely need to automate autoreduce, will make entire process a lot easier"
   ]
  },
  {
   "cell_type": "code",
   "execution_count": 91,
   "metadata": {},
   "outputs": [
    {
     "name": "stdout",
     "output_type": "stream",
     "text": [
      "CPython 3.7.7\n",
      "IPython 7.13.0\n",
      "\n",
      "numpy 1.18.1\n",
      "bokeh 2.0.2\n",
      "jupyterlab 1.2.6\n",
      "matplotlib 3.1.3\n",
      "auto_reduce 0.1\n",
      "scipy 1.4.1\n",
      "libsbml 5.18.0\n",
      "sys 3.7.7 (default, Mar 26 2020, 10:32:53) \n",
      "[Clang 4.0.1 (tags/RELEASE_401/final)]\n",
      "math unknown\n",
      "tqdm 4.46.0\n"
     ]
    }
   ],
   "source": [
    "#watermark\n",
    "%reload_ext watermark\n",
    "%watermark -v -p numpy,bokeh,jupyterlab,matplotlib,auto_reduce,scipy,libsbml,sys,math,tqdm\n",
    "  "
   ]
  },
  {
   "cell_type": "code",
   "execution_count": null,
   "metadata": {},
   "outputs": [],
   "source": []
  }
 ],
 "metadata": {
  "kernelspec": {
   "display_name": "Python 3",
   "language": "python",
   "name": "python3"
  },
  "language_info": {
   "codemirror_mode": {
    "name": "ipython",
    "version": 3
   },
   "file_extension": ".py",
   "mimetype": "text/x-python",
   "name": "python",
   "nbconvert_exporter": "python",
   "pygments_lexer": "ipython3",
   "version": "3.7.7"
  }
 },
 "nbformat": 4,
 "nbformat_minor": 4
}
