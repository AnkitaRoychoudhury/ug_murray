{
 "cells": [
  {
   "cell_type": "markdown",
   "metadata": {},
   "source": [
    "# ATP Synthase with transcription temperature regulation\n",
    "---"
   ]
  },
  {
   "cell_type": "code",
   "execution_count": 1,
   "metadata": {},
   "outputs": [
    {
     "data": {
      "text/html": [
       "\n",
       "    <div class=\"bk-root\">\n",
       "        <a href=\"https://bokeh.org\" target=\"_blank\" class=\"bk-logo bk-logo-small bk-logo-notebook\"></a>\n",
       "        <span id=\"1001\">Loading BokehJS ...</span>\n",
       "    </div>"
      ]
     },
     "metadata": {},
     "output_type": "display_data"
    },
    {
     "data": {
      "application/javascript": [
       "\n",
       "(function(root) {\n",
       "  function now() {\n",
       "    return new Date();\n",
       "  }\n",
       "\n",
       "  var force = true;\n",
       "\n",
       "  if (typeof root._bokeh_onload_callbacks === \"undefined\" || force === true) {\n",
       "    root._bokeh_onload_callbacks = [];\n",
       "    root._bokeh_is_loading = undefined;\n",
       "  }\n",
       "\n",
       "  var JS_MIME_TYPE = 'application/javascript';\n",
       "  var HTML_MIME_TYPE = 'text/html';\n",
       "  var EXEC_MIME_TYPE = 'application/vnd.bokehjs_exec.v0+json';\n",
       "  var CLASS_NAME = 'output_bokeh rendered_html';\n",
       "\n",
       "  /**\n",
       "   * Render data to the DOM node\n",
       "   */\n",
       "  function render(props, node) {\n",
       "    var script = document.createElement(\"script\");\n",
       "    node.appendChild(script);\n",
       "  }\n",
       "\n",
       "  /**\n",
       "   * Handle when an output is cleared or removed\n",
       "   */\n",
       "  function handleClearOutput(event, handle) {\n",
       "    var cell = handle.cell;\n",
       "\n",
       "    var id = cell.output_area._bokeh_element_id;\n",
       "    var server_id = cell.output_area._bokeh_server_id;\n",
       "    // Clean up Bokeh references\n",
       "    if (id != null && id in Bokeh.index) {\n",
       "      Bokeh.index[id].model.document.clear();\n",
       "      delete Bokeh.index[id];\n",
       "    }\n",
       "\n",
       "    if (server_id !== undefined) {\n",
       "      // Clean up Bokeh references\n",
       "      var cmd = \"from bokeh.io.state import curstate; print(curstate().uuid_to_server['\" + server_id + \"'].get_sessions()[0].document.roots[0]._id)\";\n",
       "      cell.notebook.kernel.execute(cmd, {\n",
       "        iopub: {\n",
       "          output: function(msg) {\n",
       "            var id = msg.content.text.trim();\n",
       "            if (id in Bokeh.index) {\n",
       "              Bokeh.index[id].model.document.clear();\n",
       "              delete Bokeh.index[id];\n",
       "            }\n",
       "          }\n",
       "        }\n",
       "      });\n",
       "      // Destroy server and session\n",
       "      var cmd = \"import bokeh.io.notebook as ion; ion.destroy_server('\" + server_id + \"')\";\n",
       "      cell.notebook.kernel.execute(cmd);\n",
       "    }\n",
       "  }\n",
       "\n",
       "  /**\n",
       "   * Handle when a new output is added\n",
       "   */\n",
       "  function handleAddOutput(event, handle) {\n",
       "    var output_area = handle.output_area;\n",
       "    var output = handle.output;\n",
       "\n",
       "    // limit handleAddOutput to display_data with EXEC_MIME_TYPE content only\n",
       "    if ((output.output_type != \"display_data\") || (!output.data.hasOwnProperty(EXEC_MIME_TYPE))) {\n",
       "      return\n",
       "    }\n",
       "\n",
       "    var toinsert = output_area.element.find(\".\" + CLASS_NAME.split(' ')[0]);\n",
       "\n",
       "    if (output.metadata[EXEC_MIME_TYPE][\"id\"] !== undefined) {\n",
       "      toinsert[toinsert.length - 1].firstChild.textContent = output.data[JS_MIME_TYPE];\n",
       "      // store reference to embed id on output_area\n",
       "      output_area._bokeh_element_id = output.metadata[EXEC_MIME_TYPE][\"id\"];\n",
       "    }\n",
       "    if (output.metadata[EXEC_MIME_TYPE][\"server_id\"] !== undefined) {\n",
       "      var bk_div = document.createElement(\"div\");\n",
       "      bk_div.innerHTML = output.data[HTML_MIME_TYPE];\n",
       "      var script_attrs = bk_div.children[0].attributes;\n",
       "      for (var i = 0; i < script_attrs.length; i++) {\n",
       "        toinsert[toinsert.length - 1].firstChild.setAttribute(script_attrs[i].name, script_attrs[i].value);\n",
       "      }\n",
       "      // store reference to server id on output_area\n",
       "      output_area._bokeh_server_id = output.metadata[EXEC_MIME_TYPE][\"server_id\"];\n",
       "    }\n",
       "  }\n",
       "\n",
       "  function register_renderer(events, OutputArea) {\n",
       "\n",
       "    function append_mime(data, metadata, element) {\n",
       "      // create a DOM node to render to\n",
       "      var toinsert = this.create_output_subarea(\n",
       "        metadata,\n",
       "        CLASS_NAME,\n",
       "        EXEC_MIME_TYPE\n",
       "      );\n",
       "      this.keyboard_manager.register_events(toinsert);\n",
       "      // Render to node\n",
       "      var props = {data: data, metadata: metadata[EXEC_MIME_TYPE]};\n",
       "      render(props, toinsert[toinsert.length - 1]);\n",
       "      element.append(toinsert);\n",
       "      return toinsert\n",
       "    }\n",
       "\n",
       "    /* Handle when an output is cleared or removed */\n",
       "    events.on('clear_output.CodeCell', handleClearOutput);\n",
       "    events.on('delete.Cell', handleClearOutput);\n",
       "\n",
       "    /* Handle when a new output is added */\n",
       "    events.on('output_added.OutputArea', handleAddOutput);\n",
       "\n",
       "    /**\n",
       "     * Register the mime type and append_mime function with output_area\n",
       "     */\n",
       "    OutputArea.prototype.register_mime_type(EXEC_MIME_TYPE, append_mime, {\n",
       "      /* Is output safe? */\n",
       "      safe: true,\n",
       "      /* Index of renderer in `output_area.display_order` */\n",
       "      index: 0\n",
       "    });\n",
       "  }\n",
       "\n",
       "  // register the mime type if in Jupyter Notebook environment and previously unregistered\n",
       "  if (root.Jupyter !== undefined) {\n",
       "    var events = require('base/js/events');\n",
       "    var OutputArea = require('notebook/js/outputarea').OutputArea;\n",
       "\n",
       "    if (OutputArea.prototype.mime_types().indexOf(EXEC_MIME_TYPE) == -1) {\n",
       "      register_renderer(events, OutputArea);\n",
       "    }\n",
       "  }\n",
       "\n",
       "  \n",
       "  if (typeof (root._bokeh_timeout) === \"undefined\" || force === true) {\n",
       "    root._bokeh_timeout = Date.now() + 5000;\n",
       "    root._bokeh_failed_load = false;\n",
       "  }\n",
       "\n",
       "  var NB_LOAD_WARNING = {'data': {'text/html':\n",
       "     \"<div style='background-color: #fdd'>\\n\"+\n",
       "     \"<p>\\n\"+\n",
       "     \"BokehJS does not appear to have successfully loaded. If loading BokehJS from CDN, this \\n\"+\n",
       "     \"may be due to a slow or bad network connection. Possible fixes:\\n\"+\n",
       "     \"</p>\\n\"+\n",
       "     \"<ul>\\n\"+\n",
       "     \"<li>re-rerun `output_notebook()` to attempt to load from CDN again, or</li>\\n\"+\n",
       "     \"<li>use INLINE resources instead, as so:</li>\\n\"+\n",
       "     \"</ul>\\n\"+\n",
       "     \"<code>\\n\"+\n",
       "     \"from bokeh.resources import INLINE\\n\"+\n",
       "     \"output_notebook(resources=INLINE)\\n\"+\n",
       "     \"</code>\\n\"+\n",
       "     \"</div>\"}};\n",
       "\n",
       "  function display_loaded() {\n",
       "    var el = document.getElementById(\"1001\");\n",
       "    if (el != null) {\n",
       "      el.textContent = \"BokehJS is loading...\";\n",
       "    }\n",
       "    if (root.Bokeh !== undefined) {\n",
       "      if (el != null) {\n",
       "        el.textContent = \"BokehJS \" + root.Bokeh.version + \" successfully loaded.\";\n",
       "      }\n",
       "    } else if (Date.now() < root._bokeh_timeout) {\n",
       "      setTimeout(display_loaded, 100)\n",
       "    }\n",
       "  }\n",
       "\n",
       "\n",
       "  function run_callbacks() {\n",
       "    try {\n",
       "      root._bokeh_onload_callbacks.forEach(function(callback) {\n",
       "        if (callback != null)\n",
       "          callback();\n",
       "      });\n",
       "    } finally {\n",
       "      delete root._bokeh_onload_callbacks\n",
       "    }\n",
       "    console.debug(\"Bokeh: all callbacks have finished\");\n",
       "  }\n",
       "\n",
       "  function load_libs(css_urls, js_urls, callback) {\n",
       "    if (css_urls == null) css_urls = [];\n",
       "    if (js_urls == null) js_urls = [];\n",
       "\n",
       "    root._bokeh_onload_callbacks.push(callback);\n",
       "    if (root._bokeh_is_loading > 0) {\n",
       "      console.debug(\"Bokeh: BokehJS is being loaded, scheduling callback at\", now());\n",
       "      return null;\n",
       "    }\n",
       "    if (js_urls == null || js_urls.length === 0) {\n",
       "      run_callbacks();\n",
       "      return null;\n",
       "    }\n",
       "    console.debug(\"Bokeh: BokehJS not loaded, scheduling load and callback at\", now());\n",
       "    root._bokeh_is_loading = css_urls.length + js_urls.length;\n",
       "\n",
       "    function on_load() {\n",
       "      root._bokeh_is_loading--;\n",
       "      if (root._bokeh_is_loading === 0) {\n",
       "        console.debug(\"Bokeh: all BokehJS libraries/stylesheets loaded\");\n",
       "        run_callbacks()\n",
       "      }\n",
       "    }\n",
       "\n",
       "    function on_error() {\n",
       "      console.error(\"failed to load \" + url);\n",
       "    }\n",
       "\n",
       "    for (var i = 0; i < css_urls.length; i++) {\n",
       "      var url = css_urls[i];\n",
       "      const element = document.createElement(\"link\");\n",
       "      element.onload = on_load;\n",
       "      element.onerror = on_error;\n",
       "      element.rel = \"stylesheet\";\n",
       "      element.type = \"text/css\";\n",
       "      element.href = url;\n",
       "      console.debug(\"Bokeh: injecting link tag for BokehJS stylesheet: \", url);\n",
       "      document.body.appendChild(element);\n",
       "    }\n",
       "\n",
       "    for (var i = 0; i < js_urls.length; i++) {\n",
       "      var url = js_urls[i];\n",
       "      var element = document.createElement('script');\n",
       "      element.onload = on_load;\n",
       "      element.onerror = on_error;\n",
       "      element.async = false;\n",
       "      element.src = url;\n",
       "      console.debug(\"Bokeh: injecting script tag for BokehJS library: \", url);\n",
       "      document.head.appendChild(element);\n",
       "    }\n",
       "  };var element = document.getElementById(\"1001\");\n",
       "  if (element == null) {\n",
       "    console.error(\"Bokeh: ERROR: autoload.js configured with elementid '1001' but no matching script tag was found. \")\n",
       "    return false;\n",
       "  }\n",
       "\n",
       "  function inject_raw_css(css) {\n",
       "    const element = document.createElement(\"style\");\n",
       "    element.appendChild(document.createTextNode(css));\n",
       "    document.body.appendChild(element);\n",
       "  }\n",
       "\n",
       "  \n",
       "  var js_urls = [\"https://cdn.pydata.org/bokeh/release/bokeh-1.4.0.min.js\", \"https://cdn.pydata.org/bokeh/release/bokeh-widgets-1.4.0.min.js\", \"https://cdn.pydata.org/bokeh/release/bokeh-tables-1.4.0.min.js\", \"https://cdn.pydata.org/bokeh/release/bokeh-gl-1.4.0.min.js\"];\n",
       "  var css_urls = [];\n",
       "  \n",
       "\n",
       "  var inline_js = [\n",
       "    function(Bokeh) {\n",
       "      Bokeh.set_log_level(\"info\");\n",
       "    },\n",
       "    function(Bokeh) {\n",
       "    \n",
       "    \n",
       "    }\n",
       "  ];\n",
       "\n",
       "  function run_inline_js() {\n",
       "    \n",
       "    if (root.Bokeh !== undefined || force === true) {\n",
       "      \n",
       "    for (var i = 0; i < inline_js.length; i++) {\n",
       "      inline_js[i].call(root, root.Bokeh);\n",
       "    }\n",
       "    if (force === true) {\n",
       "        display_loaded();\n",
       "      }} else if (Date.now() < root._bokeh_timeout) {\n",
       "      setTimeout(run_inline_js, 100);\n",
       "    } else if (!root._bokeh_failed_load) {\n",
       "      console.log(\"Bokeh: BokehJS failed to load within specified timeout.\");\n",
       "      root._bokeh_failed_load = true;\n",
       "    } else if (force !== true) {\n",
       "      var cell = $(document.getElementById(\"1001\")).parents('.cell').data().cell;\n",
       "      cell.output_area.append_execute_result(NB_LOAD_WARNING)\n",
       "    }\n",
       "\n",
       "  }\n",
       "\n",
       "  if (root._bokeh_is_loading === 0) {\n",
       "    console.debug(\"Bokeh: BokehJS loaded, going straight to plotting\");\n",
       "    run_inline_js();\n",
       "  } else {\n",
       "    load_libs(css_urls, js_urls, function() {\n",
       "      console.debug(\"Bokeh: BokehJS plotting callback run at\", now());\n",
       "      run_inline_js();\n",
       "    });\n",
       "  }\n",
       "}(window));"
      ],
      "application/vnd.bokehjs_load.v0+json": "\n(function(root) {\n  function now() {\n    return new Date();\n  }\n\n  var force = true;\n\n  if (typeof root._bokeh_onload_callbacks === \"undefined\" || force === true) {\n    root._bokeh_onload_callbacks = [];\n    root._bokeh_is_loading = undefined;\n  }\n\n  \n\n  \n  if (typeof (root._bokeh_timeout) === \"undefined\" || force === true) {\n    root._bokeh_timeout = Date.now() + 5000;\n    root._bokeh_failed_load = false;\n  }\n\n  var NB_LOAD_WARNING = {'data': {'text/html':\n     \"<div style='background-color: #fdd'>\\n\"+\n     \"<p>\\n\"+\n     \"BokehJS does not appear to have successfully loaded. If loading BokehJS from CDN, this \\n\"+\n     \"may be due to a slow or bad network connection. Possible fixes:\\n\"+\n     \"</p>\\n\"+\n     \"<ul>\\n\"+\n     \"<li>re-rerun `output_notebook()` to attempt to load from CDN again, or</li>\\n\"+\n     \"<li>use INLINE resources instead, as so:</li>\\n\"+\n     \"</ul>\\n\"+\n     \"<code>\\n\"+\n     \"from bokeh.resources import INLINE\\n\"+\n     \"output_notebook(resources=INLINE)\\n\"+\n     \"</code>\\n\"+\n     \"</div>\"}};\n\n  function display_loaded() {\n    var el = document.getElementById(\"1001\");\n    if (el != null) {\n      el.textContent = \"BokehJS is loading...\";\n    }\n    if (root.Bokeh !== undefined) {\n      if (el != null) {\n        el.textContent = \"BokehJS \" + root.Bokeh.version + \" successfully loaded.\";\n      }\n    } else if (Date.now() < root._bokeh_timeout) {\n      setTimeout(display_loaded, 100)\n    }\n  }\n\n\n  function run_callbacks() {\n    try {\n      root._bokeh_onload_callbacks.forEach(function(callback) {\n        if (callback != null)\n          callback();\n      });\n    } finally {\n      delete root._bokeh_onload_callbacks\n    }\n    console.debug(\"Bokeh: all callbacks have finished\");\n  }\n\n  function load_libs(css_urls, js_urls, callback) {\n    if (css_urls == null) css_urls = [];\n    if (js_urls == null) js_urls = [];\n\n    root._bokeh_onload_callbacks.push(callback);\n    if (root._bokeh_is_loading > 0) {\n      console.debug(\"Bokeh: BokehJS is being loaded, scheduling callback at\", now());\n      return null;\n    }\n    if (js_urls == null || js_urls.length === 0) {\n      run_callbacks();\n      return null;\n    }\n    console.debug(\"Bokeh: BokehJS not loaded, scheduling load and callback at\", now());\n    root._bokeh_is_loading = css_urls.length + js_urls.length;\n\n    function on_load() {\n      root._bokeh_is_loading--;\n      if (root._bokeh_is_loading === 0) {\n        console.debug(\"Bokeh: all BokehJS libraries/stylesheets loaded\");\n        run_callbacks()\n      }\n    }\n\n    function on_error() {\n      console.error(\"failed to load \" + url);\n    }\n\n    for (var i = 0; i < css_urls.length; i++) {\n      var url = css_urls[i];\n      const element = document.createElement(\"link\");\n      element.onload = on_load;\n      element.onerror = on_error;\n      element.rel = \"stylesheet\";\n      element.type = \"text/css\";\n      element.href = url;\n      console.debug(\"Bokeh: injecting link tag for BokehJS stylesheet: \", url);\n      document.body.appendChild(element);\n    }\n\n    for (var i = 0; i < js_urls.length; i++) {\n      var url = js_urls[i];\n      var element = document.createElement('script');\n      element.onload = on_load;\n      element.onerror = on_error;\n      element.async = false;\n      element.src = url;\n      console.debug(\"Bokeh: injecting script tag for BokehJS library: \", url);\n      document.head.appendChild(element);\n    }\n  };var element = document.getElementById(\"1001\");\n  if (element == null) {\n    console.error(\"Bokeh: ERROR: autoload.js configured with elementid '1001' but no matching script tag was found. \")\n    return false;\n  }\n\n  function inject_raw_css(css) {\n    const element = document.createElement(\"style\");\n    element.appendChild(document.createTextNode(css));\n    document.body.appendChild(element);\n  }\n\n  \n  var js_urls = [\"https://cdn.pydata.org/bokeh/release/bokeh-1.4.0.min.js\", \"https://cdn.pydata.org/bokeh/release/bokeh-widgets-1.4.0.min.js\", \"https://cdn.pydata.org/bokeh/release/bokeh-tables-1.4.0.min.js\", \"https://cdn.pydata.org/bokeh/release/bokeh-gl-1.4.0.min.js\"];\n  var css_urls = [];\n  \n\n  var inline_js = [\n    function(Bokeh) {\n      Bokeh.set_log_level(\"info\");\n    },\n    function(Bokeh) {\n    \n    \n    }\n  ];\n\n  function run_inline_js() {\n    \n    if (root.Bokeh !== undefined || force === true) {\n      \n    for (var i = 0; i < inline_js.length; i++) {\n      inline_js[i].call(root, root.Bokeh);\n    }\n    if (force === true) {\n        display_loaded();\n      }} else if (Date.now() < root._bokeh_timeout) {\n      setTimeout(run_inline_js, 100);\n    } else if (!root._bokeh_failed_load) {\n      console.log(\"Bokeh: BokehJS failed to load within specified timeout.\");\n      root._bokeh_failed_load = true;\n    } else if (force !== true) {\n      var cell = $(document.getElementById(\"1001\")).parents('.cell').data().cell;\n      cell.output_area.append_execute_result(NB_LOAD_WARNING)\n    }\n\n  }\n\n  if (root._bokeh_is_loading === 0) {\n    console.debug(\"Bokeh: BokehJS loaded, going straight to plotting\");\n    run_inline_js();\n  } else {\n    load_libs(css_urls, js_urls, function() {\n      console.debug(\"Bokeh: BokehJS plotting callback run at\", now());\n      run_inline_js();\n    });\n  }\n}(window));"
     },
     "metadata": {},
     "output_type": "display_data"
    }
   ],
   "source": [
    "from biocrnpyler import *\n",
    "#from biocrnpyler.chemical_reaction_network import Species, Reaction, ComplexSpecies, Multimer\n",
    "import numpy as np\n",
    "#import pylab as plt \n",
    "#%matplotlib inline\n",
    "\n",
    "import bokeh.io\n",
    "import bokeh.plotting\n",
    "from bokeh.layouts import row\n",
    "\n",
    "bokeh.io.output_notebook()\n",
    "\n",
    "import colorcet\n",
    "\n",
    "from subsbml import createNewSubsystem, createSubsystem"
   ]
  },
  {
   "cell_type": "code",
   "execution_count": 2,
   "metadata": {},
   "outputs": [],
   "source": [
    "palette = colorcet.b_glasbey_category10\n",
    "palette.remove( '#d62628')"
   ]
  },
  {
   "cell_type": "markdown",
   "metadata": {},
   "source": [
    "## Combine at 25 C\n",
    "---"
   ]
  },
  {
   "cell_type": "code",
   "execution_count": 58,
   "metadata": {},
   "outputs": [],
   "source": [
    "# atp synthase models\n",
    "ss1_atpsyn_txtl = createSubsystem('atpsyn_25temp_machinery_txtl.xml', subsystemName = 'atpsyn_txtl')\n",
    "ss2_atpsyn_mi = createSubsystem('atpsynthase_membrane_integration.xml', subsystemName = 'atpsyn_mi')\n",
    "ss3_atpsynthesis = createSubsystem('atp_synthesis_through_atpsynthase.xml', subsystemName = 'atpsynthesis')\n",
    "ss4_atp_use = createSubsystem('atp_50_use.xml', subsystemName = 'atp_use')"
   ]
  },
  {
   "cell_type": "code",
   "execution_count": 59,
   "metadata": {},
   "outputs": [],
   "source": [
    "#ss5_pp_txtl = createSubsystem('proton_pump_tx_tl.xml', subsystemName = 'pp_txtl')\n",
    "ss5_pp_txtl = createSubsystem('proton_pump_25temp_machinery_txtl.xml', subsystemName = 'pp_txtl')\n",
    "ss6_pp_mi = createSubsystem('proton_pump_membrane_integration.xml', subsystemName = 'pp_mi')\n",
    "ss7_protontransport = createSubsystem('proton_transport_through_proton_pump.xml', subsystemName = 'protontransport')"
   ]
  },
  {
   "cell_type": "code",
   "execution_count": 60,
   "metadata": {},
   "outputs": [],
   "source": [
    "entire_subsystem = ss1_atpsyn_txtl + ss2_atpsyn_mi + ss3_atpsynthesis + ss4_atp_use + ss5_pp_txtl + ss6_pp_mi + ss7_protontransport"
   ]
  },
  {
   "cell_type": "code",
   "execution_count": 61,
   "metadata": {},
   "outputs": [],
   "source": [
    "# Initial conditions\n",
    "spec_list_10 = ['dna_proton_pump', 'dna_atpsyn','proton_outside_H', 'metabolite_atp']\n",
    "for i,spec in enumerate(spec_list_10):\n",
    "    entire_subsystem.setSpeciesAmount(spec,10)\n",
    "    \n",
    "\n",
    "\n",
    "x0_list_mach = ['protein_RNAP_machinery',\n",
    "          'protein_Ribo_machinery','protein_RNAse_machinery']\n",
    "for i,spec in enumerate(x0_list_mach):\n",
    "    entire_subsystem.setSpeciesAmount(spec,20)\n",
    "\n",
    "\n",
    "# Get species IDs\n",
    "ATP_id_25 = entire_subsystem.getSpeciesByName('metabolite_atp').getId()\n",
    "ADP_id = entire_subsystem.getSpeciesByName('metabolite_adp').getId()\n",
    "\n",
    "outside_H_id = entire_subsystem.getSpeciesByName('proton_outside_H').getId()\n",
    "inside_H_id = entire_subsystem.getSpeciesByName('proton_inside_H').getId()\n",
    "\n",
    "proton_pump_b_protein_id_25 = entire_subsystem.getSpeciesByName('protein_proton_pump_b').getId()\n",
    "proton_pump_f_protein_id = entire_subsystem.getSpeciesByName('protein_proton_pump').getId()\n",
    "\n",
    "atp_synthase_b_protein_id_25 = entire_subsystem.getSpeciesByName('protein_atpsyn_b').getId()\n",
    "atp_synthase_f_protein_id = entire_subsystem.getSpeciesByName('protein_atpsyn').getId()\n",
    "\n"
   ]
  },
  {
   "cell_type": "code",
   "execution_count": 62,
   "metadata": {},
   "outputs": [],
   "source": [
    "timepoints = np.linspace(0,800,100)\n",
    "results_25, _ = entire_subsystem.simulateWithBioscrape(timepoints, sbml_warnings = False)"
   ]
  },
  {
   "cell_type": "code",
   "execution_count": 63,
   "metadata": {},
   "outputs": [
    {
     "data": {
      "text/html": [
       "\n",
       "\n",
       "\n",
       "\n",
       "\n",
       "\n",
       "  <div class=\"bk-root\" id=\"cbbc0381-f4b2-40ae-bf34-387246a7c890\" data-root-id=\"4987\"></div>\n"
      ]
     },
     "metadata": {},
     "output_type": "display_data"
    },
    {
     "data": {
      "application/javascript": [
       "(function(root) {\n",
       "  function embed_document(root) {\n",
       "    \n",
       "  var docs_json = {\"b0fde958-8331-4a3d-8efd-1a6ddd46d242\":{\"roots\":{\"references\":[{\"attributes\":{\"below\":[{\"id\":\"4998\",\"type\":\"LinearAxis\"}],\"center\":[{\"id\":\"5002\",\"type\":\"Grid\"},{\"id\":\"5007\",\"type\":\"Grid\"},{\"id\":\"5032\",\"type\":\"Legend\"}],\"left\":[{\"id\":\"5003\",\"type\":\"LinearAxis\"}],\"plot_height\":350,\"plot_width\":450,\"renderers\":[{\"id\":\"5024\",\"type\":\"GlyphRenderer\"},{\"id\":\"5037\",\"type\":\"GlyphRenderer\"},{\"id\":\"5051\",\"type\":\"GlyphRenderer\"},{\"id\":\"5067\",\"type\":\"GlyphRenderer\"},{\"id\":\"5085\",\"type\":\"GlyphRenderer\"}],\"title\":{\"id\":\"4988\",\"type\":\"Title\"},\"toolbar\":{\"id\":\"5014\",\"type\":\"Toolbar\"},\"x_range\":{\"id\":\"4990\",\"type\":\"DataRange1d\"},\"x_scale\":{\"id\":\"4994\",\"type\":\"LinearScale\"},\"y_range\":{\"id\":\"4992\",\"type\":\"DataRange1d\"},\"y_scale\":{\"id\":\"4996\",\"type\":\"LinearScale\"}},\"id\":\"4987\",\"subtype\":\"Figure\",\"type\":\"Plot\"},{\"attributes\":{\"data_source\":{\"id\":\"5082\",\"type\":\"ColumnDataSource\"},\"glyph\":{\"id\":\"5083\",\"type\":\"Line\"},\"hover_glyph\":null,\"muted_glyph\":null,\"nonselection_glyph\":{\"id\":\"5084\",\"type\":\"Line\"},\"selection_glyph\":null,\"view\":{\"id\":\"5086\",\"type\":\"CDSView\"}},\"id\":\"5085\",\"type\":\"GlyphRenderer\"},{\"attributes\":{},\"id\":\"4999\",\"type\":\"BasicTicker\"},{\"attributes\":{},\"id\":\"5046\",\"type\":\"Selection\"},{\"attributes\":{\"active_drag\":\"auto\",\"active_inspect\":\"auto\",\"active_multi\":null,\"active_scroll\":\"auto\",\"active_tap\":\"auto\",\"tools\":[{\"id\":\"5008\",\"type\":\"PanTool\"},{\"id\":\"5009\",\"type\":\"WheelZoomTool\"},{\"id\":\"5010\",\"type\":\"BoxZoomTool\"},{\"id\":\"5011\",\"type\":\"SaveTool\"},{\"id\":\"5012\",\"type\":\"ResetTool\"},{\"id\":\"5013\",\"type\":\"HelpTool\"}]},\"id\":\"5014\",\"type\":\"Toolbar\"},{\"attributes\":{\"source\":{\"id\":\"5064\",\"type\":\"ColumnDataSource\"}},\"id\":\"5068\",\"type\":\"CDSView\"},{\"attributes\":{},\"id\":\"5099\",\"type\":\"UnionRenderers\"},{\"attributes\":{\"ticker\":{\"id\":\"4999\",\"type\":\"BasicTicker\"}},\"id\":\"5002\",\"type\":\"Grid\"},{\"attributes\":{\"line_color\":\"#ff7e0e\",\"line_width\":2,\"x\":{\"field\":\"x\"},\"y\":{\"field\":\"y\"}},\"id\":\"5035\",\"type\":\"Line\"},{\"attributes\":{},\"id\":\"5045\",\"type\":\"UnionRenderers\"},{\"attributes\":{},\"id\":\"5004\",\"type\":\"BasicTicker\"},{\"attributes\":{\"callback\":null,\"data\":{\"x\":{\"__ndarray__\":\"AAAAAAAAAAB/pUCtXykgQH+lQK1fKTBAPvjggw8+OEB/pUCtXylAQN/OkJi3M0RAPvjggw8+SECeITFvZ0hMQH+lQK1fKVBAL7rooosuUkDfzpCYtzNUQI/jOI7jOFZAPvjggw8+WEDuDIl5O0NaQJ4hMW9nSFxATjbZZJNNXkB/pUCtXylgQNevFKj1K2FAL7rooosuYkCHxLydITFjQN/OkJi3M2RAN9lkk002ZUCP4ziO4zhmQOftDIl5O2dAPvjggw8+aECWArV+pUBpQO4MiXk7Q2pARhdddNFFa0CeITFvZ0hsQPYrBWr9Sm1ATjbZZJNNbkCmQK1fKVBvQH+lQK1fKXBAq6qqqqqqcEDXrxSo9StxQAO1fqVArXFAL7rooosuckBbv1Kg1q9yQIfEvJ0hMXNAs8kmm2yyc0DfzpCYtzN0QAvU+pUCtXRAN9lkk002dUBj3s6QmLd1QI/jOI7jOHZAu+iiiy66dkDn7QyJeTt3QBPzdobEvHdAPvjggw8+eEBq/UqBWr94QJYCtX6lQHlAwgcffPDBeUDuDIl5O0N6QBoS83aGxHpARhdddNFFe0ByHMdxHMd7QJ4hMW9nSHxAyiabbLLJfED2KwVq/Up9QCIxb2dIzH1ATjbZZJNNfkB6O0Ni3s5+QKZArV8pUH9A0kUXXXTRf0B/pUCtXymAQBWo9SsFaoBAq6qqqqqqgEBBrV8pUOuAQNevFKj1K4FAbbLJJptsgUADtX6lQK2BQJm3MyTm7YFAL7rooosugkDFvJ0hMW+CQFu/UqDWr4JA8cEHH3zwgkCHxLydITGDQB3HcRzHcYNAs8kmm2yyg0BJzNsZEvODQN/OkJi3M4RAddFFF110hEAL1PqVArWEQKHWrxSo9YRAN9lkk002hUDN2xkS83aFQGPezpCYt4VA+eCDDz74hUCP4ziO4ziGQCXm7QyJeYZAu+iiiy66hkBR61cK1PqGQOftDIl5O4dAffDBBx98h0AT83aGxLyHQKn1KwVq/YdAPvjggw8+iEDU+pUCtX6IQGr9SoFav4hAAAAAAAAAiUA=\",\"dtype\":\"float64\",\"shape\":[100]},\"y\":{\"__ndarray__\":\"AAAAAAAAAADPCtENcAXJPu4Eu31h9QU/rrcZMziCKD9ckkp7lyhBP+L5w7PKpFI/3H58DNlHYT8m5ttGaL1sP8+VxW8dGHY/R5LYTyMCgD9lVEtx7CaGP96LFlefi40//GiqxPYekz+xGug1SiSYP2K9Icjt2Z0/TBlDBoAhoj+37v2U47ClP+Dkjebqm6k/zrmUpxTjrT+VywSEUEOxP5C8ycpNw7M/cImSk3Fxtj+zknkdmE25P3EexgyNV7w/SiEdeg2Pvz9fCEbQ5HnBP3OD7RyzQsM/ITaFzL4hxT9co0RM0BbHP2/Oya6rIck/I8Gf/xBCyz+qTd+KvHfNP/yLShtnws8/uCoTGeMQ0T+Lob8cxkrSPzhXaVm0jtM/ikg7MYTc1D905a+8CjTWPys8Kd8bldc/P+7lWYr/2D8lMdvfJ3PaPww61yjF79s/JdULBjJ13T+MHSRyPQPfP8w3FdTaTOA/paNIGjQc4T91z8IEke/hP1JlNsnXxuI/+fefY+6h4z8e4eafuoDkP+XT6SMiY+U/h6zleApJ5j+4NxwVWTLnPyvFQWXzHug/LPPy1b4O6T80GcrcoAHqP5fjtQF/9+o/Uyov5z7w6z8jagpTxuvsP+f6JTf76e0/YdYpucPq7j+rsjU6Bu7vP4PNRa/UefA/FrYDCsr98D9fDrfM1oLxP+iKo8LuCPI/E+KE5QWQ8j87hS9gEBjzP8l1zJECofM/IdMoD9Eq9D80TomlcLX0P4t8413WQPU/tJBwfPfM9T9ct4WDyVn2P4FmtTRC5/Y/xJLxkVd19z9rA5Pe/wP4P/N6FqAxk/g/qQi3nuMi+T/ir+DlDLP5PxmBd8SkQ/o/tsPizKLU+j9TmPrU/mX7P2sH1fWw9/s/IhOBi7GJ/D/KrKMz+Rv9P+vak86Arv0/0wokfUFB/j8AGwigNNT+P1g4Q9dTZ/8/yzDnAJn6/z8Mjv0b/0YAQMzZnem+kABAjkTaMYnaAEAGm7xZWyQBQEMOL+IybgFAzcNJZw24AUB9Ooyf6AECQEL6IlvCSwJA3twdg5iVAkA=\",\"dtype\":\"float64\",\"shape\":[100]}},\"selected\":{\"id\":\"5315\",\"type\":\"Selection\"},\"selection_policy\":{\"id\":\"5314\",\"type\":\"UnionRenderers\"}},\"id\":\"5082\",\"type\":\"ColumnDataSource\"},{\"attributes\":{\"click_policy\":\"hide\",\"items\":[{\"id\":\"5033\",\"type\":\"LegendItem\"},{\"id\":\"5047\",\"type\":\"LegendItem\"},{\"id\":\"5063\",\"type\":\"LegendItem\"},{\"id\":\"5081\",\"type\":\"LegendItem\"},{\"id\":\"5101\",\"type\":\"LegendItem\"}],\"location\":\"center_right\"},\"id\":\"5032\",\"type\":\"Legend\"},{\"attributes\":{\"axis_label\":\"concentration (nM)\",\"formatter\":{\"id\":\"5030\",\"type\":\"BasicTickFormatter\"},\"ticker\":{\"id\":\"5004\",\"type\":\"BasicTicker\"}},\"id\":\"5003\",\"type\":\"LinearAxis\"},{\"attributes\":{\"data_source\":{\"id\":\"5021\",\"type\":\"ColumnDataSource\"},\"glyph\":{\"id\":\"5022\",\"type\":\"Line\"},\"hover_glyph\":null,\"muted_glyph\":null,\"nonselection_glyph\":{\"id\":\"5023\",\"type\":\"Line\"},\"selection_glyph\":null,\"view\":{\"id\":\"5025\",\"type\":\"CDSView\"}},\"id\":\"5024\",\"type\":\"GlyphRenderer\"},{\"attributes\":{},\"id\":\"5030\",\"type\":\"BasicTickFormatter\"},{\"attributes\":{},\"id\":\"5062\",\"type\":\"Selection\"},{\"attributes\":{},\"id\":\"5079\",\"type\":\"UnionRenderers\"},{\"attributes\":{\"callback\":null,\"data\":{\"x\":{\"__ndarray__\":\"AAAAAAAAAAB/pUCtXykgQH+lQK1fKTBAPvjggw8+OEB/pUCtXylAQN/OkJi3M0RAPvjggw8+SECeITFvZ0hMQH+lQK1fKVBAL7rooosuUkDfzpCYtzNUQI/jOI7jOFZAPvjggw8+WEDuDIl5O0NaQJ4hMW9nSFxATjbZZJNNXkB/pUCtXylgQNevFKj1K2FAL7rooosuYkCHxLydITFjQN/OkJi3M2RAN9lkk002ZUCP4ziO4zhmQOftDIl5O2dAPvjggw8+aECWArV+pUBpQO4MiXk7Q2pARhdddNFFa0CeITFvZ0hsQPYrBWr9Sm1ATjbZZJNNbkCmQK1fKVBvQH+lQK1fKXBAq6qqqqqqcEDXrxSo9StxQAO1fqVArXFAL7rooosuckBbv1Kg1q9yQIfEvJ0hMXNAs8kmm2yyc0DfzpCYtzN0QAvU+pUCtXRAN9lkk002dUBj3s6QmLd1QI/jOI7jOHZAu+iiiy66dkDn7QyJeTt3QBPzdobEvHdAPvjggw8+eEBq/UqBWr94QJYCtX6lQHlAwgcffPDBeUDuDIl5O0N6QBoS83aGxHpARhdddNFFe0ByHMdxHMd7QJ4hMW9nSHxAyiabbLLJfED2KwVq/Up9QCIxb2dIzH1ATjbZZJNNfkB6O0Ni3s5+QKZArV8pUH9A0kUXXXTRf0B/pUCtXymAQBWo9SsFaoBAq6qqqqqqgEBBrV8pUOuAQNevFKj1K4FAbbLJJptsgUADtX6lQK2BQJm3MyTm7YFAL7rooosugkDFvJ0hMW+CQFu/UqDWr4JA8cEHH3zwgkCHxLydITGDQB3HcRzHcYNAs8kmm2yyg0BJzNsZEvODQN/OkJi3M4RAddFFF110hEAL1PqVArWEQKHWrxSo9YRAN9lkk002hUDN2xkS83aFQGPezpCYt4VA+eCDDz74hUCP4ziO4ziGQCXm7QyJeYZAu+iiiy66hkBR61cK1PqGQOftDIl5O4dAffDBBx98h0AT83aGxLyHQKn1KwVq/YdAPvjggw8+iEDU+pUCtX6IQGr9SoFav4hAAAAAAAAAiUA=\",\"dtype\":\"float64\",\"shape\":[100]},\"y\":{\"__ndarray__\":\"AAAAAAAAJED8XRYzzCp4PzY92wPS6bQ/hjf8SvXh1T+qPRZSC+PqP7sDm6U7Nvg/TQYGoUX8AUAZ2pt9/q4HQHaPvMCl3wxAre7bp/W6EEDqT570JLsSQPbmO7UmeBRAedDUKRP7FUCdAJask0wXQIvmS1hHdBhAS15vgKZ4GUCpvR8YGF8aQNJNJu4WLBtAipuJgljjG0CevKsW8IccQA5tOnRsHB1ASuTWdvCiHUCJ0FT0Rh0eQEiTgcTyjB5AdgzxsjvzHkBEUPbcOFEfQDTUehXZpx9AvcioqOn3H0BXOYjwDSEgQP1pjMCEQyBAnkbAO5xjIEAgmbnvjoEgQIsHokOQnSBAQ3jhfs23IEDumxqrbtAgQMVe/UuX5yBAl23w+2b9IEB9vrLw+REhQPYOVmtpJSFA5r9wF8w3IUBVFdJcNkkhQPM83aW6WSFAwqWpmmlpIUBUxkpWUnghQE62rZKChiFAtpZF0AaUIUDsksF36qAhQF3oD/g3rSFARnlS4Pi4IUDAKRb3NcQhQBopN0z3ziFAKQd+T0TZIUA++nLbI+MhQCMHL0ac7CFAeYUEbLP1IUDj6FO8bv4hQNPdEULTBiJAUQEYreUOIkBCQTtaqhYiQPUT5lklHiJA1Aj4dlolIkBJiPg7TSwiQO9WVPkAMyJAuOedyHg5IkBSmo+Rtz8iQAbxtw7ARSJALkjWz5RLIkCX+Aw8OFEiQOP7BJisViJAu+yhBfRbIkChTXqHEGEiQDv+ygIEZiJAzSu5QtBqIkBbid73dm8iQFCvXLz5cyJARAVqE1p4IkDyC5dsmXwiQKsGeSO5gCJAMuVJgrqEIkBbVBrCnogiQL34WwxnjCJAk44WexSQIkAf9M0bqJMiQNEJj+wilyJAne7E4YWaIkA+Go/i0Z0iQGIhjcsHoSJAi3gMbyikIkB7YpuVNKciQMf9nP4sqiJAdTq/YBKtIkD2NXBq5a8iQC2DcMKmsiJATZoICFe1IkDLqZnT9rciQLvl1raGuiJAe2Q9PQe9IkAzYE7seL8iQHBN40PcwSJAsYJ7vjHEIkA=\",\"dtype\":\"float64\",\"shape\":[100]}},\"selected\":{\"id\":\"5046\",\"type\":\"Selection\"},\"selection_policy\":{\"id\":\"5045\",\"type\":\"UnionRenderers\"}},\"id\":\"5021\",\"type\":\"ColumnDataSource\"},{\"attributes\":{\"line_color\":\"#8c564b\",\"line_width\":2,\"x\":{\"field\":\"x\"},\"y\":{\"field\":\"y\"}},\"id\":\"5083\",\"type\":\"Line\"},{\"attributes\":{},\"id\":\"5100\",\"type\":\"Selection\"},{\"attributes\":{},\"id\":\"5315\",\"type\":\"Selection\"},{\"attributes\":{},\"id\":\"5028\",\"type\":\"BasicTickFormatter\"},{\"attributes\":{\"label\":{\"value\":\"bound proton pump\"},\"renderers\":[{\"id\":\"5085\",\"type\":\"GlyphRenderer\"}]},\"id\":\"5101\",\"type\":\"LegendItem\"},{\"attributes\":{\"axis_label\":\"time (sec)\",\"formatter\":{\"id\":\"5028\",\"type\":\"BasicTickFormatter\"},\"ticker\":{\"id\":\"4999\",\"type\":\"BasicTicker\"}},\"id\":\"4998\",\"type\":\"LinearAxis\"},{\"attributes\":{\"line_color\":\"#9367bc\",\"line_width\":2,\"x\":{\"field\":\"x\"},\"y\":{\"field\":\"y\"}},\"id\":\"5065\",\"type\":\"Line\"},{\"attributes\":{\"source\":{\"id\":\"5034\",\"type\":\"ColumnDataSource\"}},\"id\":\"5038\",\"type\":\"CDSView\"},{\"attributes\":{\"line_color\":\"#2ba02b\",\"line_width\":2,\"x\":{\"field\":\"x\"},\"y\":{\"field\":\"y\"}},\"id\":\"5049\",\"type\":\"Line\"},{\"attributes\":{},\"id\":\"5061\",\"type\":\"UnionRenderers\"},{\"attributes\":{\"data_source\":{\"id\":\"5048\",\"type\":\"ColumnDataSource\"},\"glyph\":{\"id\":\"5049\",\"type\":\"Line\"},\"hover_glyph\":null,\"muted_glyph\":null,\"nonselection_glyph\":{\"id\":\"5050\",\"type\":\"Line\"},\"selection_glyph\":null,\"view\":{\"id\":\"5052\",\"type\":\"CDSView\"}},\"id\":\"5051\",\"type\":\"GlyphRenderer\"},{\"attributes\":{\"source\":{\"id\":\"5082\",\"type\":\"ColumnDataSource\"}},\"id\":\"5086\",\"type\":\"CDSView\"},{\"attributes\":{\"label\":{\"value\":\"atp\"},\"renderers\":[{\"id\":\"5024\",\"type\":\"GlyphRenderer\"}]},\"id\":\"5033\",\"type\":\"LegendItem\"},{\"attributes\":{\"line_color\":\"#1f77b3\",\"line_width\":2,\"x\":{\"field\":\"x\"},\"y\":{\"field\":\"y\"}},\"id\":\"5022\",\"type\":\"Line\"},{\"attributes\":{},\"id\":\"5008\",\"type\":\"PanTool\"},{\"attributes\":{\"label\":{\"value\":\"outside_H\"},\"renderers\":[{\"id\":\"5037\",\"type\":\"GlyphRenderer\"}]},\"id\":\"5047\",\"type\":\"LegendItem\"},{\"attributes\":{\"line_alpha\":0.1,\"line_color\":\"#1f77b4\",\"line_width\":2,\"x\":{\"field\":\"x\"},\"y\":{\"field\":\"y\"}},\"id\":\"5036\",\"type\":\"Line\"},{\"attributes\":{\"text\":\"with ATP Synthase, Proton Pump, ATP Use\"},\"id\":\"4988\",\"type\":\"Title\"},{\"attributes\":{},\"id\":\"5009\",\"type\":\"WheelZoomTool\"},{\"attributes\":{\"callback\":null,\"data\":{\"x\":{\"__ndarray__\":\"AAAAAAAAAAB/pUCtXykgQH+lQK1fKTBAPvjggw8+OEB/pUCtXylAQN/OkJi3M0RAPvjggw8+SECeITFvZ0hMQH+lQK1fKVBAL7rooosuUkDfzpCYtzNUQI/jOI7jOFZAPvjggw8+WEDuDIl5O0NaQJ4hMW9nSFxATjbZZJNNXkB/pUCtXylgQNevFKj1K2FAL7rooosuYkCHxLydITFjQN/OkJi3M2RAN9lkk002ZUCP4ziO4zhmQOftDIl5O2dAPvjggw8+aECWArV+pUBpQO4MiXk7Q2pARhdddNFFa0CeITFvZ0hsQPYrBWr9Sm1ATjbZZJNNbkCmQK1fKVBvQH+lQK1fKXBAq6qqqqqqcEDXrxSo9StxQAO1fqVArXFAL7rooosuckBbv1Kg1q9yQIfEvJ0hMXNAs8kmm2yyc0DfzpCYtzN0QAvU+pUCtXRAN9lkk002dUBj3s6QmLd1QI/jOI7jOHZAu+iiiy66dkDn7QyJeTt3QBPzdobEvHdAPvjggw8+eEBq/UqBWr94QJYCtX6lQHlAwgcffPDBeUDuDIl5O0N6QBoS83aGxHpARhdddNFFe0ByHMdxHMd7QJ4hMW9nSHxAyiabbLLJfED2KwVq/Up9QCIxb2dIzH1ATjbZZJNNfkB6O0Ni3s5+QKZArV8pUH9A0kUXXXTRf0B/pUCtXymAQBWo9SsFaoBAq6qqqqqqgEBBrV8pUOuAQNevFKj1K4FAbbLJJptsgUADtX6lQK2BQJm3MyTm7YFAL7rooosugkDFvJ0hMW+CQFu/UqDWr4JA8cEHH3zwgkCHxLydITGDQB3HcRzHcYNAs8kmm2yyg0BJzNsZEvODQN/OkJi3M4RAddFFF110hEAL1PqVArWEQKHWrxSo9YRAN9lkk002hUDN2xkS83aFQGPezpCYt4VA+eCDDz74hUCP4ziO4ziGQCXm7QyJeYZAu+iiiy66hkBR61cK1PqGQOftDIl5O4dAffDBBx98h0AT83aGxLyHQKn1KwVq/YdAPvjggw8+iEDU+pUCtX6IQGr9SoFav4hAAAAAAAAAiUA=\",\"dtype\":\"float64\",\"shape\":[100]},\"y\":{\"__ndarray__\":\"AAAAAAAAJEAVjBkWev4jQN0bpOQA6yNA/QnaKUKoI0BdeyTzkSgjQLhBgdA1fCJAlfGaKA/AIUDKe5oQvwkhQBhC7X20YyBAwcEgFu2hH0DT9H5D6aEeQDd9NsF5wx1AXRYkYxICHUC+dOa4XlkcQMIHl4aPxRtAo4hI8mhDG0CIAWPJN9AaQIbkf+C+aRpAY0MeqSMOGkDGlU2r3LsZQEqmMqOicRlArsRBPmQuGUC0ovsmPPEYQNew+QNpuRhAnQQe/kaGGEDc8g2TSlcYQMVgd2P8KxhAlCa70fUDGECKHK8/3t4XQAlUH9JovBdA/Cq3llKcF0AB+DcEYX4XQBQV3bZgYhdATAO3aiRIF0DKiLYYhC8XQI0Ofj9cGBdAC+2qRo0CF0Au9EH6+u0WQHLetRqM2hZAjCjI/SnIFkB0Hdk8wLYWQMheiW48phZAaF+w642WFkBZZQiapYcWQJV2XMB1eRZAM+Td3vFrFkAvpG+NDl8WQJG1pl3BUhZA8UrWwABHFkBi+NPwwzsWQE4eN94CMRZAIDR7GbYmFkDwsWzI1hwWQGwaL5VeExZAYK27o0cKFkAU9OeEjAEWQIEH9C0o+RVAGOQ17xXxFUCTeQRsUekVQN47IpTW4RVA3BbJnKHaFUDjjaX7rtMVQFPmW2D7zBVAKQR0sYPGFUAnBl4HRcAVQGG4kqc8uhVADpl2Ami0FUDJNPSwxK4VQHUTem5QqRVAFP00GQmkFUBYypyu7J4VQEY2jEn5mRVA1u/gHi2VFUBwKht+hpAVQGlOG80DjBVAk+W9iKOHFUAfQ3hBZIMVQGAWw5tEfxVAunRsTUN7FUBjUm0dX3cVQEX1W+KWcxVAIlE6gulvFUAsw4fvVWwVQCypRCzbaBVA258HRHhlFUCZSLlPLGIVQDauv3L2XhVAUuHS2tVbFUCT6mm/yVgVQJuaJmHRVRVAYbtfCexSFUCxkKsJGVAVQKKhTbtXTRVAgr4Bf6dKFUApKGq8B0gVQA501+F3RRVAzczPY/dCFUDsMdW8hUAVQHpcEW0iPhVAl7oH+sw7FUA=\",\"dtype\":\"float64\",\"shape\":[100]}},\"selected\":{\"id\":\"5062\",\"type\":\"Selection\"},\"selection_policy\":{\"id\":\"5061\",\"type\":\"UnionRenderers\"}},\"id\":\"5034\",\"type\":\"ColumnDataSource\"},{\"attributes\":{},\"id\":\"5080\",\"type\":\"Selection\"},{\"attributes\":{\"line_alpha\":0.1,\"line_color\":\"#1f77b4\",\"line_width\":2,\"x\":{\"field\":\"x\"},\"y\":{\"field\":\"y\"}},\"id\":\"5050\",\"type\":\"Line\"},{\"attributes\":{\"callback\":null},\"id\":\"4990\",\"type\":\"DataRange1d\"},{\"attributes\":{\"overlay\":{\"id\":\"5031\",\"type\":\"BoxAnnotation\"}},\"id\":\"5010\",\"type\":\"BoxZoomTool\"},{\"attributes\":{\"source\":{\"id\":\"5021\",\"type\":\"ColumnDataSource\"}},\"id\":\"5025\",\"type\":\"CDSView\"},{\"attributes\":{},\"id\":\"5011\",\"type\":\"SaveTool\"},{\"attributes\":{\"line_alpha\":0.1,\"line_color\":\"#1f77b4\",\"line_width\":2,\"x\":{\"field\":\"x\"},\"y\":{\"field\":\"y\"}},\"id\":\"5084\",\"type\":\"Line\"},{\"attributes\":{},\"id\":\"5012\",\"type\":\"ResetTool\"},{\"attributes\":{\"callback\":null,\"data\":{\"x\":{\"__ndarray__\":\"AAAAAAAAAAB/pUCtXykgQH+lQK1fKTBAPvjggw8+OEB/pUCtXylAQN/OkJi3M0RAPvjggw8+SECeITFvZ0hMQH+lQK1fKVBAL7rooosuUkDfzpCYtzNUQI/jOI7jOFZAPvjggw8+WEDuDIl5O0NaQJ4hMW9nSFxATjbZZJNNXkB/pUCtXylgQNevFKj1K2FAL7rooosuYkCHxLydITFjQN/OkJi3M2RAN9lkk002ZUCP4ziO4zhmQOftDIl5O2dAPvjggw8+aECWArV+pUBpQO4MiXk7Q2pARhdddNFFa0CeITFvZ0hsQPYrBWr9Sm1ATjbZZJNNbkCmQK1fKVBvQH+lQK1fKXBAq6qqqqqqcEDXrxSo9StxQAO1fqVArXFAL7rooosuckBbv1Kg1q9yQIfEvJ0hMXNAs8kmm2yyc0DfzpCYtzN0QAvU+pUCtXRAN9lkk002dUBj3s6QmLd1QI/jOI7jOHZAu+iiiy66dkDn7QyJeTt3QBPzdobEvHdAPvjggw8+eEBq/UqBWr94QJYCtX6lQHlAwgcffPDBeUDuDIl5O0N6QBoS83aGxHpARhdddNFFe0ByHMdxHMd7QJ4hMW9nSHxAyiabbLLJfED2KwVq/Up9QCIxb2dIzH1ATjbZZJNNfkB6O0Ni3s5+QKZArV8pUH9A0kUXXXTRf0B/pUCtXymAQBWo9SsFaoBAq6qqqqqqgEBBrV8pUOuAQNevFKj1K4FAbbLJJptsgUADtX6lQK2BQJm3MyTm7YFAL7rooosugkDFvJ0hMW+CQFu/UqDWr4JA8cEHH3zwgkCHxLydITGDQB3HcRzHcYNAs8kmm2yyg0BJzNsZEvODQN/OkJi3M4RAddFFF110hEAL1PqVArWEQKHWrxSo9YRAN9lkk002hUDN2xkS83aFQGPezpCYt4VA+eCDDz74hUCP4ziO4ziGQCXm7QyJeYZAu+iiiy66hkBR61cK1PqGQOftDIl5O4dAffDBBx98h0AT83aGxLyHQKn1KwVq/YdAPvjggw8+iEDU+pUCtX6IQGr9SoFav4hAAAAAAAAAiUA=\",\"dtype\":\"float64\",\"shape\":[100]},\"y\":{\"__ndarray__\":\"AAAAAAAAAAAFKz9nnl5oP9cr5Fsb/6Q/NIN9iXXvxT/jlXCbwe3aPzTl6/eiPOg/q3Mou4b/8T//ISx7B7L3P4vvlRBc4vw/o3y+0yW8AECAFgJ5LbwCQLYFk30MeQRAatO3Odv7BUCrFjOOQk0HQKbw0fLgdAhA5O5uGy55CUAY/TltkF8KQB43AD+CLAtAYHnDrbjjC0Ca1GSpRogMQIqzmrm6HA1AxHZ8gzejDUC4ugiyhx0OQHGeDPgtjQ5A5vbDA3LzDkBrGuTZalEPQJc+ETkHqA9A+LKJXBT4D0CG41DAISEQQAes4C2XQxBAFNVIaa1jEEAPCMj7noEQQPzqIkmfnRBAxPxIldu3EEBGd0nne9AQQIPxgcCj5xBABRNVuXL9EEDiC74FBRIRQJ4hSuVzJRFAhNc3AtY3EUCc4ibDP0kRQEihdpHDWRFAqKBPFHJpEUC3mvdlWngRQHuJoz+KhhFA3RsiIQ6UEUDhW5By8aARQH9KWaI+rRFAH7UpP/+4EUCuBywPPMQRQMLhyCH9zhFA8MuE5knZEUAgTpM3KeMRQKTl0Gqh7BFAsFJEXLj1EUD8Cxh7c/4RQI/4C9LXBhJA+BvKEOoOEkB9hvuTrhYSQDLE3WspHhJANOk2Y14lEkAtcloEUSwSQL0ZpJ8EMxJA5/uLTnw5EkDp+aH4uj8SQK9HbVjDRRJAAmeJ/ZdLEkBHywtPO1ESQJvshZGvVhJA/ALL5vZbEkC4NWNRE2ESQMrJc7YGZhJAOhAf4dJqEkCg1eSBeW8SQKex5DL8cxJAfRpCd1x4EkDxvIe+m3wSQLDpPGS7gBJAVouTsryEEkCtrZLioIgSQMsKpB1pjBJA7q7FfRaQEkDkPHgQqpMSQORWu9MklxJANWD4u4eaEkB3t0aw050SQNpRQI0JoRJAvh4tJSqkEkB9FZZANqcSQHVl2Z4uqhJAr0Sg9hOtEkBfb1T25q8SQG5eskSoshJAjkH+gFi1EkDn15VD+LcSQAKMKB6IuhJAQzMwnAi9EkAkzipDer8SQJaj7pLdwRJAeUX4BTPEEkA=\",\"dtype\":\"float64\",\"shape\":[100]}},\"selected\":{\"id\":\"5080\",\"type\":\"Selection\"},\"selection_policy\":{\"id\":\"5079\",\"type\":\"UnionRenderers\"}},\"id\":\"5048\",\"type\":\"ColumnDataSource\"},{\"attributes\":{\"callback\":null},\"id\":\"4992\",\"type\":\"DataRange1d\"},{\"attributes\":{\"label\":{\"value\":\"bound atp synthase\"},\"renderers\":[{\"id\":\"5067\",\"type\":\"GlyphRenderer\"}]},\"id\":\"5081\",\"type\":\"LegendItem\"},{\"attributes\":{\"label\":{\"value\":\"inside_H\"},\"renderers\":[{\"id\":\"5051\",\"type\":\"GlyphRenderer\"}]},\"id\":\"5063\",\"type\":\"LegendItem\"},{\"attributes\":{\"data_source\":{\"id\":\"5034\",\"type\":\"ColumnDataSource\"},\"glyph\":{\"id\":\"5035\",\"type\":\"Line\"},\"hover_glyph\":null,\"muted_glyph\":null,\"nonselection_glyph\":{\"id\":\"5036\",\"type\":\"Line\"},\"selection_glyph\":null,\"view\":{\"id\":\"5038\",\"type\":\"CDSView\"}},\"id\":\"5037\",\"type\":\"GlyphRenderer\"},{\"attributes\":{},\"id\":\"5013\",\"type\":\"HelpTool\"},{\"attributes\":{\"source\":{\"id\":\"5048\",\"type\":\"ColumnDataSource\"}},\"id\":\"5052\",\"type\":\"CDSView\"},{\"attributes\":{},\"id\":\"4994\",\"type\":\"LinearScale\"},{\"attributes\":{\"line_alpha\":0.1,\"line_color\":\"#1f77b4\",\"line_width\":2,\"x\":{\"field\":\"x\"},\"y\":{\"field\":\"y\"}},\"id\":\"5023\",\"type\":\"Line\"},{\"attributes\":{\"line_alpha\":0.1,\"line_color\":\"#1f77b4\",\"line_width\":2,\"x\":{\"field\":\"x\"},\"y\":{\"field\":\"y\"}},\"id\":\"5066\",\"type\":\"Line\"},{\"attributes\":{},\"id\":\"4996\",\"type\":\"LinearScale\"},{\"attributes\":{\"callback\":null,\"data\":{\"x\":{\"__ndarray__\":\"AAAAAAAAAAB/pUCtXykgQH+lQK1fKTBAPvjggw8+OEB/pUCtXylAQN/OkJi3M0RAPvjggw8+SECeITFvZ0hMQH+lQK1fKVBAL7rooosuUkDfzpCYtzNUQI/jOI7jOFZAPvjggw8+WEDuDIl5O0NaQJ4hMW9nSFxATjbZZJNNXkB/pUCtXylgQNevFKj1K2FAL7rooosuYkCHxLydITFjQN/OkJi3M2RAN9lkk002ZUCP4ziO4zhmQOftDIl5O2dAPvjggw8+aECWArV+pUBpQO4MiXk7Q2pARhdddNFFa0CeITFvZ0hsQPYrBWr9Sm1ATjbZZJNNbkCmQK1fKVBvQH+lQK1fKXBAq6qqqqqqcEDXrxSo9StxQAO1fqVArXFAL7rooosuckBbv1Kg1q9yQIfEvJ0hMXNAs8kmm2yyc0DfzpCYtzN0QAvU+pUCtXRAN9lkk002dUBj3s6QmLd1QI/jOI7jOHZAu+iiiy66dkDn7QyJeTt3QBPzdobEvHdAPvjggw8+eEBq/UqBWr94QJYCtX6lQHlAwgcffPDBeUDuDIl5O0N6QBoS83aGxHpARhdddNFFe0ByHMdxHMd7QJ4hMW9nSHxAyiabbLLJfED2KwVq/Up9QCIxb2dIzH1ATjbZZJNNfkB6O0Ni3s5+QKZArV8pUH9A0kUXXXTRf0B/pUCtXymAQBWo9SsFaoBAq6qqqqqqgEBBrV8pUOuAQNevFKj1K4FAbbLJJptsgUADtX6lQK2BQJm3MyTm7YFAL7rooosugkDFvJ0hMW+CQFu/UqDWr4JA8cEHH3zwgkCHxLydITGDQB3HcRzHcYNAs8kmm2yyg0BJzNsZEvODQN/OkJi3M4RAddFFF110hEAL1PqVArWEQKHWrxSo9YRAN9lkk002hUDN2xkS83aFQGPezpCYt4VA+eCDDz74hUCP4ziO4ziGQCXm7QyJeYZAu+iiiy66hkBR61cK1PqGQOftDIl5O4dAffDBBx98h0AT83aGxLyHQKn1KwVq/YdAPvjggw8+iEDU+pUCtX6IQGr9SoFav4hAAAAAAAAAiUA=\",\"dtype\":\"float64\",\"shape\":[100]},\"y\":{\"__ndarray__\":\"AAAAAAAAAAAFCtENcAXJPswEu31h9QU/n7cZMziCKD9Xkkp7lyhBP+H5w7PKpFI/2358DNlHYT8i5ttGaL1sP82VxW8dGHY/RZLYTyMCgD9jVEtx7CaGP9yLFlefi40/+2iqxPYekz+yGug1SiSYP2W9Icjt2Z0/TRlDBoAhoj+47v2U47ClP+Lkjebqm6k/0LmUpxTjrT+WywSEUEOxP5G8ycpNw7M/cYmSk3Fxtj+0knkdmE25P3IexgyNV7w/SyEdeg2Pvz9gCEbQ5HnBP3SD7RyzQsM/IjaFzL4hxT9do0RM0BbHP3DOya6rIck/I8Gf/xBCyz+qTd+KvHfNP/yLShtnws8/uCoTGeMQ0T+Mob8cxkrSPzlXaVm0jtM/i0g7MYTc1D915a+8CjTWPyw8Kd8bldc/QO7lWYr/2D8mMdvfJ3PaPw061yjF79s/JtULBjJ13T+NHSRyPQPfP803FdTaTOA/pqNIGjQc4T92z8IEke/hP1NlNsnXxuI/+vefY+6h4z8f4eafuoDkP+bT6SMiY+U/iKzleApJ5j+5NxwVWTLnPyzFQWXzHug/LfPy1b4O6T80GcrcoAHqP5jjtQF/9+o/VCov5z7w6z8kagpTxuvsP+j6JTf76e0/YtYpucPq7j+rsjU6Bu7vP4PNRa/UefA/FrYDCsr98D9fDrfM1oLxP+iKo8LuCPI/E+KE5QWQ8j87hS9gEBjzP8l1zJECofM/IdMoD9Eq9D80TomlcLX0P4t8413WQPU/tJBwfPfM9T9ct4WDyVn2P4FmtTRC5/Y/xJLxkVd19z9rA5Pe/wP4P/N6FqAxk/g/qQi3nuMi+T/ir+DlDLP5PxmBd8SkQ/o/tsPizKLU+j9TmPrU/mX7P2sH1fWw9/s/IhOBi7GJ/D/JrKMz+Rv9P+rak86Arv0/0gokfUFB/j//GgigNNT+P1c4Q9dTZ/8/yTDnAJn6/z8Ljv0b/0YAQMvZnem+kABAjUTaMYnaAEAFm7xZWyQBQEIOL+IybgFAzMNJZw24AUB8Ooyf6AECQEH6IlvCSwJA3dwdg5iVAkA=\",\"dtype\":\"float64\",\"shape\":[100]}},\"selected\":{\"id\":\"5100\",\"type\":\"Selection\"},\"selection_policy\":{\"id\":\"5099\",\"type\":\"UnionRenderers\"}},\"id\":\"5064\",\"type\":\"ColumnDataSource\"},{\"attributes\":{\"bottom_units\":\"screen\",\"fill_alpha\":{\"value\":0.5},\"fill_color\":{\"value\":\"lightgrey\"},\"left_units\":\"screen\",\"level\":\"overlay\",\"line_alpha\":{\"value\":1.0},\"line_color\":{\"value\":\"black\"},\"line_dash\":[4,4],\"line_width\":{\"value\":2},\"render_mode\":\"css\",\"right_units\":\"screen\",\"top_units\":\"screen\"},\"id\":\"5031\",\"type\":\"BoxAnnotation\"},{\"attributes\":{},\"id\":\"5314\",\"type\":\"UnionRenderers\"},{\"attributes\":{\"data_source\":{\"id\":\"5064\",\"type\":\"ColumnDataSource\"},\"glyph\":{\"id\":\"5065\",\"type\":\"Line\"},\"hover_glyph\":null,\"muted_glyph\":null,\"nonselection_glyph\":{\"id\":\"5066\",\"type\":\"Line\"},\"selection_glyph\":null,\"view\":{\"id\":\"5068\",\"type\":\"CDSView\"}},\"id\":\"5067\",\"type\":\"GlyphRenderer\"},{\"attributes\":{\"dimension\":1,\"ticker\":{\"id\":\"5004\",\"type\":\"BasicTicker\"}},\"id\":\"5007\",\"type\":\"Grid\"}],\"root_ids\":[\"4987\"]},\"title\":\"Bokeh Application\",\"version\":\"1.4.0\"}};\n",
       "  var render_items = [{\"docid\":\"b0fde958-8331-4a3d-8efd-1a6ddd46d242\",\"roots\":{\"4987\":\"cbbc0381-f4b2-40ae-bf34-387246a7c890\"}}];\n",
       "  root.Bokeh.embed.embed_items_notebook(docs_json, render_items);\n",
       "\n",
       "  }\n",
       "  if (root.Bokeh !== undefined) {\n",
       "    embed_document(root);\n",
       "  } else {\n",
       "    var attempts = 0;\n",
       "    var timer = setInterval(function(root) {\n",
       "      if (root.Bokeh !== undefined) {\n",
       "        clearInterval(timer);\n",
       "        embed_document(root);\n",
       "      } else {\n",
       "        attempts++;\n",
       "        if (attempts > 100) {\n",
       "          clearInterval(timer);\n",
       "          console.log(\"Bokeh: ERROR: Unable to run BokehJS code because BokehJS library is missing\");\n",
       "        }\n",
       "      }\n",
       "    }, 10, root)\n",
       "  }\n",
       "})(window);"
      ],
      "application/vnd.bokehjs_exec.v0+json": ""
     },
     "metadata": {
      "application/vnd.bokehjs_exec.v0+json": {
       "id": "4987"
      }
     },
     "output_type": "display_data"
    }
   ],
   "source": [
    "#plt_timepoints = timepoints/60\n",
    "\n",
    "p3 = bokeh.plotting.figure(width = 450, height = 350, title = 'with ATP Synthase, Proton Pump, ATP Use',\n",
    "                          x_axis_label = 'time (sec)',\n",
    "                          y_axis_label = 'concentration (nM)')\n",
    "plot_list = [ATP_id_25, outside_H_id, inside_H_id, atp_synthase_b_protein_id_25, proton_pump_b_protein_id_25]\n",
    "plot_str = ['atp', 'outside_H', 'inside_H', 'bound atp synthase', 'bound proton pump']\n",
    "for i,item in enumerate(plot_list):\n",
    "    p3.line(timepoints, results_25[item], line_width = 2, legend_label = plot_str[i], color = palette[i])\n",
    "#p3.line(plt_timepoints, results_everything[ATP_id3])\n",
    "p3.legend.click_policy = 'hide'\n",
    "p3.legend.location = 'center_right'\n",
    "\n",
    "bokeh.io.show(p3)\n"
   ]
  },
  {
   "cell_type": "markdown",
   "metadata": {},
   "source": [
    "## Combine at 37 C\n",
    "---"
   ]
  },
  {
   "cell_type": "code",
   "execution_count": 64,
   "metadata": {},
   "outputs": [],
   "source": [
    "# atp synthase models\n",
    "ss1_atpsyn_txtl = createSubsystem('atpsyn_37temp_machinery_txtl.xml', subsystemName = 'atpsyn_txtl')\n",
    "ss2_atpsyn_mi = createSubsystem('atpsynthase_membrane_integration.xml', subsystemName = 'atpsyn_mi')\n",
    "ss3_atpsynthesis = createSubsystem('atp_synthesis_through_atpsynthase.xml', subsystemName = 'atpsynthesis')\n",
    "ss4_atp_use = createSubsystem('atp_50_use.xml', subsystemName = 'atp_use')"
   ]
  },
  {
   "cell_type": "code",
   "execution_count": 65,
   "metadata": {},
   "outputs": [],
   "source": [
    "#ss5_pp_txtl = createSubsystem('proton_pump_tx_tl.xml', subsystemName = 'pp_txtl')\n",
    "ss5_pp_txtl = createSubsystem('proton_pump_37temp_machinery_txtl.xml', subsystemName = 'pp_txtl')\n",
    "ss6_pp_mi = createSubsystem('proton_pump_membrane_integration.xml', subsystemName = 'pp_mi')\n",
    "ss7_protontransport = createSubsystem('proton_transport_through_proton_pump.xml', subsystemName = 'protontransport')"
   ]
  },
  {
   "cell_type": "code",
   "execution_count": 66,
   "metadata": {},
   "outputs": [],
   "source": [
    "entire_subsystem = ss1_atpsyn_txtl + ss2_atpsyn_mi + ss3_atpsynthesis + ss4_atp_use + ss5_pp_txtl + ss6_pp_mi + ss7_protontransport"
   ]
  },
  {
   "cell_type": "code",
   "execution_count": 67,
   "metadata": {},
   "outputs": [],
   "source": [
    "# Initial conditions\n",
    "spec_list_10 = ['dna_proton_pump', 'dna_atpsyn','proton_outside_H', 'metabolite_atp']\n",
    "for i,spec in enumerate(spec_list_10):\n",
    "    entire_subsystem.setSpeciesAmount(spec,10)\n",
    "    \n",
    "x0_list_mach = ['protein_RNAP_machinery',\n",
    "          'protein_Ribo_machinery','protein_RNAse_machinery']\n",
    "for i,spec in enumerate(x0_list_mach):\n",
    "    entire_subsystem.setSpeciesAmount(spec,20)\n",
    "\n",
    "\n",
    "\n",
    "# Get species IDs\n",
    "ATP_id_37 = entire_subsystem.getSpeciesByName('metabolite_atp').getId()\n",
    "ADP_id = entire_subsystem.getSpeciesByName('metabolite_adp').getId()\n",
    "\n",
    "outside_H_id = entire_subsystem.getSpeciesByName('proton_outside_H').getId()\n",
    "inside_H_id = entire_subsystem.getSpeciesByName('proton_inside_H').getId()\n",
    "\n",
    "proton_pump_b_protein_id_37  = entire_subsystem.getSpeciesByName('protein_proton_pump_b').getId()\n",
    "proton_pump_f_protein_id = entire_subsystem.getSpeciesByName('protein_proton_pump').getId()\n",
    "\n",
    "atp_synthase_b_protein_id_37 = entire_subsystem.getSpeciesByName('protein_atpsyn_b').getId()\n",
    "atp_synthase_f_protein_id = entire_subsystem.getSpeciesByName('protein_atpsyn').getId()"
   ]
  },
  {
   "cell_type": "code",
   "execution_count": 68,
   "metadata": {},
   "outputs": [],
   "source": [
    "timepoints = np.linspace(0,800,100)\n",
    "results_37, _ = entire_subsystem.simulateWithBioscrape(timepoints, sbml_warnings = False)"
   ]
  },
  {
   "cell_type": "code",
   "execution_count": 69,
   "metadata": {},
   "outputs": [
    {
     "data": {
      "text/html": [
       "\n",
       "\n",
       "\n",
       "\n",
       "\n",
       "\n",
       "  <div class=\"bk-root\" id=\"da15ff49-26ad-462b-a15b-23bc93e5b9fc\" data-root-id=\"5412\"></div>\n"
      ]
     },
     "metadata": {},
     "output_type": "display_data"
    },
    {
     "data": {
      "application/javascript": [
       "(function(root) {\n",
       "  function embed_document(root) {\n",
       "    \n",
       "  var docs_json = {\"42ae1327-f003-45d1-9bb0-ac657146fcce\":{\"roots\":{\"references\":[{\"attributes\":{\"below\":[{\"id\":\"5423\",\"type\":\"LinearAxis\"}],\"center\":[{\"id\":\"5427\",\"type\":\"Grid\"},{\"id\":\"5432\",\"type\":\"Grid\"},{\"id\":\"5457\",\"type\":\"Legend\"}],\"left\":[{\"id\":\"5428\",\"type\":\"LinearAxis\"}],\"plot_height\":350,\"plot_width\":450,\"renderers\":[{\"id\":\"5449\",\"type\":\"GlyphRenderer\"},{\"id\":\"5462\",\"type\":\"GlyphRenderer\"},{\"id\":\"5476\",\"type\":\"GlyphRenderer\"},{\"id\":\"5492\",\"type\":\"GlyphRenderer\"},{\"id\":\"5510\",\"type\":\"GlyphRenderer\"}],\"title\":{\"id\":\"5413\",\"type\":\"Title\"},\"toolbar\":{\"id\":\"5439\",\"type\":\"Toolbar\"},\"x_range\":{\"id\":\"5415\",\"type\":\"DataRange1d\"},\"x_scale\":{\"id\":\"5419\",\"type\":\"LinearScale\"},\"y_range\":{\"id\":\"5417\",\"type\":\"DataRange1d\"},\"y_scale\":{\"id\":\"5421\",\"type\":\"LinearScale\"}},\"id\":\"5412\",\"subtype\":\"Figure\",\"type\":\"Plot\"},{\"attributes\":{\"click_policy\":\"hide\",\"items\":[{\"id\":\"5458\",\"type\":\"LegendItem\"},{\"id\":\"5472\",\"type\":\"LegendItem\"},{\"id\":\"5488\",\"type\":\"LegendItem\"},{\"id\":\"5506\",\"type\":\"LegendItem\"},{\"id\":\"5526\",\"type\":\"LegendItem\"}],\"location\":\"center_right\"},\"id\":\"5457\",\"type\":\"Legend\"},{\"attributes\":{\"line_alpha\":0.1,\"line_color\":\"#1f77b4\",\"line_width\":2,\"x\":{\"field\":\"x\"},\"y\":{\"field\":\"y\"}},\"id\":\"5448\",\"type\":\"Line\"},{\"attributes\":{\"callback\":null,\"data\":{\"x\":{\"__ndarray__\":\"AAAAAAAAAAB/pUCtXykgQH+lQK1fKTBAPvjggw8+OEB/pUCtXylAQN/OkJi3M0RAPvjggw8+SECeITFvZ0hMQH+lQK1fKVBAL7rooosuUkDfzpCYtzNUQI/jOI7jOFZAPvjggw8+WEDuDIl5O0NaQJ4hMW9nSFxATjbZZJNNXkB/pUCtXylgQNevFKj1K2FAL7rooosuYkCHxLydITFjQN/OkJi3M2RAN9lkk002ZUCP4ziO4zhmQOftDIl5O2dAPvjggw8+aECWArV+pUBpQO4MiXk7Q2pARhdddNFFa0CeITFvZ0hsQPYrBWr9Sm1ATjbZZJNNbkCmQK1fKVBvQH+lQK1fKXBAq6qqqqqqcEDXrxSo9StxQAO1fqVArXFAL7rooosuckBbv1Kg1q9yQIfEvJ0hMXNAs8kmm2yyc0DfzpCYtzN0QAvU+pUCtXRAN9lkk002dUBj3s6QmLd1QI/jOI7jOHZAu+iiiy66dkDn7QyJeTt3QBPzdobEvHdAPvjggw8+eEBq/UqBWr94QJYCtX6lQHlAwgcffPDBeUDuDIl5O0N6QBoS83aGxHpARhdddNFFe0ByHMdxHMd7QJ4hMW9nSHxAyiabbLLJfED2KwVq/Up9QCIxb2dIzH1ATjbZZJNNfkB6O0Ni3s5+QKZArV8pUH9A0kUXXXTRf0B/pUCtXymAQBWo9SsFaoBAq6qqqqqqgEBBrV8pUOuAQNevFKj1K4FAbbLJJptsgUADtX6lQK2BQJm3MyTm7YFAL7rooosugkDFvJ0hMW+CQFu/UqDWr4JA8cEHH3zwgkCHxLydITGDQB3HcRzHcYNAs8kmm2yyg0BJzNsZEvODQN/OkJi3M4RAddFFF110hEAL1PqVArWEQKHWrxSo9YRAN9lkk002hUDN2xkS83aFQGPezpCYt4VA+eCDDz74hUCP4ziO4ziGQCXm7QyJeYZAu+iiiy66hkBR61cK1PqGQOftDIl5O4dAffDBBx98h0AT83aGxLyHQKn1KwVq/YdAPvjggw8+iEDU+pUCtX6IQGr9SoFav4hAAAAAAAAAiUA=\",\"dtype\":\"float64\",\"shape\":[100]},\"y\":{\"__ndarray__\":\"AAAAAAAAJEApjo3diy2CP0duyghk8b4/A3kLVJ5D3z9AZPZtrEHyP8GEe7oxMv8/HSWwMmkoBkC2abYSlysMQAb8sIUltxBAIjEdrzb5EkDrdN1YxuYUQLWNnaSrjBZA8mELzd/2F0CKgn71oS8ZQEHrRctnPxpAxM22DBMtG0BnToJENv4bQEmiNltVtxxAgzgDNhxcHUCaThXniu8dQBAFQLgYdB5Alc/yss/rHkApg7kyYlgfQEKWFdc7ux9A1rjla8cKIEAyxThILzQgQEthuPBDWiBAQGVh8mN9IEAJttan4J0gQO7iX2YAvCBAdnUCQgDYIEDdXIaDFfIgQOMba9JuCiFAQ61vNDUhIUBRsuXdjDYhQCf2Ot6VSiFAOPvVsGxdIUD4TCi8Km8hQEPGebPmfyFART0e87SPIUAlMtTJp54hQOVzCLnPrCFAWN7Wqzu6IUBCOZcm+cYhQA3I228U0yFAss6vs5jeIUAfyHwikOkhQEEYiwwE9CFAkHas+fz9IUB8WNW7ggciQDNaD4ScECJArjP+8FAZIkBhP1QdpiEiQL5xZqyhKSJAyD1U1UgxIkDSVutsoDgiQENtgu6sPyJAZcDjg3JGIkAob6IM9UwiQNc+5iI4UyJAvIQDJj9ZIkCmIh02DV8iQOh0dkSlZCJABmP0DgpqIkDPnHknPm8iQGWwu/ZDdCJA0sJgvx15IkC07uOgzX0iQLGh/JlVgiJAtQhli7eGIkCPs4E59YoiQI3buE4QjyJA8qQPXQqTIkCKRBXg5JYiQGYupT2hmiJAK4OqyECeIkAAEb7BxKEiQHvkCVcupSJAEUykp36oIkBfDzrDtqsiQDUJUKvXriJACTIbVOKxIkDtmlSl17QiQIMf+Hq4tyJApV76pYW6IkDXqObsP70iQG2fhgzovyJAxzleuH7CIkBw+FCbBMUiQAeq/Vd6xyJAl39SieDJIkBXkunCN8wiQAOybZGAziJAJfUFe7vQIkBLCa3/6NIiQEtJgpkJ1SJAMvkcvR3XIkBbIdPZJdkiQNpTBloi2yJA/2JjoxPdIkA=\",\"dtype\":\"float64\",\"shape\":[100]}},\"selected\":{\"id\":\"5471\",\"type\":\"Selection\"},\"selection_policy\":{\"id\":\"5470\",\"type\":\"UnionRenderers\"}},\"id\":\"5446\",\"type\":\"ColumnDataSource\"},{\"attributes\":{},\"id\":\"5487\",\"type\":\"Selection\"},{\"attributes\":{},\"id\":\"5505\",\"type\":\"Selection\"},{\"attributes\":{\"active_drag\":\"auto\",\"active_inspect\":\"auto\",\"active_multi\":null,\"active_scroll\":\"auto\",\"active_tap\":\"auto\",\"tools\":[{\"id\":\"5433\",\"type\":\"PanTool\"},{\"id\":\"5434\",\"type\":\"WheelZoomTool\"},{\"id\":\"5435\",\"type\":\"BoxZoomTool\"},{\"id\":\"5436\",\"type\":\"SaveTool\"},{\"id\":\"5437\",\"type\":\"ResetTool\"},{\"id\":\"5438\",\"type\":\"HelpTool\"}]},\"id\":\"5439\",\"type\":\"Toolbar\"},{\"attributes\":{\"text\":\"with ATP Synthase, Proton Pump, ATP Use\"},\"id\":\"5413\",\"type\":\"Title\"},{\"attributes\":{\"line_alpha\":0.1,\"line_color\":\"#1f77b4\",\"line_width\":2,\"x\":{\"field\":\"x\"},\"y\":{\"field\":\"y\"}},\"id\":\"5475\",\"type\":\"Line\"},{\"attributes\":{\"data_source\":{\"id\":\"5446\",\"type\":\"ColumnDataSource\"},\"glyph\":{\"id\":\"5447\",\"type\":\"Line\"},\"hover_glyph\":null,\"muted_glyph\":null,\"nonselection_glyph\":{\"id\":\"5448\",\"type\":\"Line\"},\"selection_glyph\":null,\"view\":{\"id\":\"5450\",\"type\":\"CDSView\"}},\"id\":\"5449\",\"type\":\"GlyphRenderer\"},{\"attributes\":{\"line_color\":\"#1f77b3\",\"line_width\":2,\"x\":{\"field\":\"x\"},\"y\":{\"field\":\"y\"}},\"id\":\"5447\",\"type\":\"Line\"},{\"attributes\":{\"callback\":null},\"id\":\"5415\",\"type\":\"DataRange1d\"},{\"attributes\":{\"source\":{\"id\":\"5459\",\"type\":\"ColumnDataSource\"}},\"id\":\"5463\",\"type\":\"CDSView\"},{\"attributes\":{\"source\":{\"id\":\"5507\",\"type\":\"ColumnDataSource\"}},\"id\":\"5511\",\"type\":\"CDSView\"},{\"attributes\":{},\"id\":\"5433\",\"type\":\"PanTool\"},{\"attributes\":{\"data_source\":{\"id\":\"5459\",\"type\":\"ColumnDataSource\"},\"glyph\":{\"id\":\"5460\",\"type\":\"Line\"},\"hover_glyph\":null,\"muted_glyph\":null,\"nonselection_glyph\":{\"id\":\"5461\",\"type\":\"Line\"},\"selection_glyph\":null,\"view\":{\"id\":\"5463\",\"type\":\"CDSView\"}},\"id\":\"5462\",\"type\":\"GlyphRenderer\"},{\"attributes\":{},\"id\":\"5755\",\"type\":\"UnionRenderers\"},{\"attributes\":{},\"id\":\"5434\",\"type\":\"WheelZoomTool\"},{\"attributes\":{\"line_color\":\"#9367bc\",\"line_width\":2,\"x\":{\"field\":\"x\"},\"y\":{\"field\":\"y\"}},\"id\":\"5490\",\"type\":\"Line\"},{\"attributes\":{\"line_alpha\":0.1,\"line_color\":\"#1f77b4\",\"line_width\":2,\"x\":{\"field\":\"x\"},\"y\":{\"field\":\"y\"}},\"id\":\"5491\",\"type\":\"Line\"},{\"attributes\":{\"line_color\":\"#8c564b\",\"line_width\":2,\"x\":{\"field\":\"x\"},\"y\":{\"field\":\"y\"}},\"id\":\"5508\",\"type\":\"Line\"},{\"attributes\":{\"source\":{\"id\":\"5473\",\"type\":\"ColumnDataSource\"}},\"id\":\"5477\",\"type\":\"CDSView\"},{\"attributes\":{\"callback\":null},\"id\":\"5417\",\"type\":\"DataRange1d\"},{\"attributes\":{\"overlay\":{\"id\":\"5456\",\"type\":\"BoxAnnotation\"}},\"id\":\"5435\",\"type\":\"BoxZoomTool\"},{\"attributes\":{\"data_source\":{\"id\":\"5473\",\"type\":\"ColumnDataSource\"},\"glyph\":{\"id\":\"5474\",\"type\":\"Line\"},\"hover_glyph\":null,\"muted_glyph\":null,\"nonselection_glyph\":{\"id\":\"5475\",\"type\":\"Line\"},\"selection_glyph\":null,\"view\":{\"id\":\"5477\",\"type\":\"CDSView\"}},\"id\":\"5476\",\"type\":\"GlyphRenderer\"},{\"attributes\":{},\"id\":\"5486\",\"type\":\"UnionRenderers\"},{\"attributes\":{},\"id\":\"5524\",\"type\":\"UnionRenderers\"},{\"attributes\":{},\"id\":\"5436\",\"type\":\"SaveTool\"},{\"attributes\":{\"line_alpha\":0.1,\"line_color\":\"#1f77b4\",\"line_width\":2,\"x\":{\"field\":\"x\"},\"y\":{\"field\":\"y\"}},\"id\":\"5461\",\"type\":\"Line\"},{\"attributes\":{\"line_alpha\":0.1,\"line_color\":\"#1f77b4\",\"line_width\":2,\"x\":{\"field\":\"x\"},\"y\":{\"field\":\"y\"}},\"id\":\"5509\",\"type\":\"Line\"},{\"attributes\":{},\"id\":\"5419\",\"type\":\"LinearScale\"},{\"attributes\":{},\"id\":\"5421\",\"type\":\"LinearScale\"},{\"attributes\":{\"data_source\":{\"id\":\"5489\",\"type\":\"ColumnDataSource\"},\"glyph\":{\"id\":\"5490\",\"type\":\"Line\"},\"hover_glyph\":null,\"muted_glyph\":null,\"nonselection_glyph\":{\"id\":\"5491\",\"type\":\"Line\"},\"selection_glyph\":null,\"view\":{\"id\":\"5493\",\"type\":\"CDSView\"}},\"id\":\"5492\",\"type\":\"GlyphRenderer\"},{\"attributes\":{},\"id\":\"5437\",\"type\":\"ResetTool\"},{\"attributes\":{\"callback\":null,\"data\":{\"x\":{\"__ndarray__\":\"AAAAAAAAAAB/pUCtXykgQH+lQK1fKTBAPvjggw8+OEB/pUCtXylAQN/OkJi3M0RAPvjggw8+SECeITFvZ0hMQH+lQK1fKVBAL7rooosuUkDfzpCYtzNUQI/jOI7jOFZAPvjggw8+WEDuDIl5O0NaQJ4hMW9nSFxATjbZZJNNXkB/pUCtXylgQNevFKj1K2FAL7rooosuYkCHxLydITFjQN/OkJi3M2RAN9lkk002ZUCP4ziO4zhmQOftDIl5O2dAPvjggw8+aECWArV+pUBpQO4MiXk7Q2pARhdddNFFa0CeITFvZ0hsQPYrBWr9Sm1ATjbZZJNNbkCmQK1fKVBvQH+lQK1fKXBAq6qqqqqqcEDXrxSo9StxQAO1fqVArXFAL7rooosuckBbv1Kg1q9yQIfEvJ0hMXNAs8kmm2yyc0DfzpCYtzN0QAvU+pUCtXRAN9lkk002dUBj3s6QmLd1QI/jOI7jOHZAu+iiiy66dkDn7QyJeTt3QBPzdobEvHdAPvjggw8+eEBq/UqBWr94QJYCtX6lQHlAwgcffPDBeUDuDIl5O0N6QBoS83aGxHpARhdddNFFe0ByHMdxHMd7QJ4hMW9nSHxAyiabbLLJfED2KwVq/Up9QCIxb2dIzH1ATjbZZJNNfkB6O0Ni3s5+QKZArV8pUH9A0kUXXXTRf0B/pUCtXymAQBWo9SsFaoBAq6qqqqqqgEBBrV8pUOuAQNevFKj1K4FAbbLJJptsgUADtX6lQK2BQJm3MyTm7YFAL7rooosugkDFvJ0hMW+CQFu/UqDWr4JA8cEHH3zwgkCHxLydITGDQB3HcRzHcYNAs8kmm2yyg0BJzNsZEvODQN/OkJi3M4RAddFFF110hEAL1PqVArWEQKHWrxSo9YRAN9lkk002hUDN2xkS83aFQGPezpCYt4VA+eCDDz74hUCP4ziO4ziGQCXm7QyJeYZAu+iiiy66hkBR61cK1PqGQOftDIl5O4dAffDBBx98h0AT83aGxLyHQKn1KwVq/YdAPvjggw8+iEDU+pUCtX6IQGr9SoFav4hAAAAAAAAAiUA=\",\"dtype\":\"float64\",\"shape\":[100]},\"y\":{\"__ndarray__\":\"AAAAAAAAJEB/DKZytf0jQA2SnInv4CNAg6MdeaeCI0DzcZOWedsiQOyMfJVmDCJAvop0OoI6IUD8RXTvKHogQDzZaCzAox9AiaIBttCCHkA50GyGHowdQBQFYAM+uRxAxsnw+TIEHEB8oFpa3mcbQJIJ08YF4BpAsXC0xjhpGkCSGj1orgAaQND1GPokpBlAjMr7vsZRGUDpLS7YEwgZQD48m8LQxRhAFNWRlPiJGEA67xo2slMYQDiXC+lHIhhAA8bXnyD1F0C9QXO4ussXQIMAUcynpRdAcbiAVomCF0AIQgQDDmIXQDK7KYLvQxdAXESmxPAnF0B6EZ+F3A0XQFK7/yCE9RZAzKXvk77eFkCDgoysZ8kWQA/BjF1ftRZAqjhkLYmiFkDZmzO3y5AWQPPsG0kQgBZA6o4HiEJwFkB2mTomUGEWQJLIPqMoUxZAbCjLFL1FFkAqaUL3/zgWQNVSuATlLBZAXRW1EWEhFkCkg1PuaRYWQEuWxkr2CxZA/xWVn/0BFkDwSzkbePgVQHqR+Yxe7xVAZlN/VqrmFUCvwV1dVd4VQLkLf/5Z1hVA5pL7ArPOFUC0SDyWW8cVQIMGFz1PwBVA5MLuzYm5FUCgeFVpB7MVQG1ETXXErBVAPGmTkr2mFUBUdTyh76AVQFlhDbBXmxVAhypBAfOVFUBiqgwDv5AVQMES0Ey5ixVAY8D5m9+GFUAcWCHRL4IVQMWyoO2nfRVAT7/NEEZ5FUC9i1N2CHUVQKb62HPtcBVAV5Jmd/NsFUCZSHgFGWkVQOxEQLhcZRVAhxXbPL1hFUCe7LpSOV4VQFpfv8vPWhVAu6TaiH9XFUCd42d6R1QVQC3s6Z4mURVAKOsyAhxOFUDrg5C8JksVQHMyDfJFSBVAUh660XhFFUCw1RGVvkIVQO2+T38WQBVAHwX13H89FUAynyID+joVQNRdPk+EOBVA/CheJh42FUDnyOv0xjMVQDVDQC5+MRVA1fM3TEMvFUCYgNvOFS0VQMXFDjz1KhVAKm09H+EoFUA2ShQJ2SYVQLZ5NI/cJBVAa6rzS+siFUA=\",\"dtype\":\"float64\",\"shape\":[100]}},\"selected\":{\"id\":\"5487\",\"type\":\"Selection\"},\"selection_policy\":{\"id\":\"5486\",\"type\":\"UnionRenderers\"}},\"id\":\"5459\",\"type\":\"ColumnDataSource\"},{\"attributes\":{},\"id\":\"5525\",\"type\":\"Selection\"},{\"attributes\":{\"axis_label\":\"time (sec)\",\"formatter\":{\"id\":\"5453\",\"type\":\"BasicTickFormatter\"},\"ticker\":{\"id\":\"5424\",\"type\":\"BasicTicker\"}},\"id\":\"5423\",\"type\":\"LinearAxis\"},{\"attributes\":{},\"id\":\"5453\",\"type\":\"BasicTickFormatter\"},{\"attributes\":{\"dimension\":1,\"ticker\":{\"id\":\"5429\",\"type\":\"BasicTicker\"}},\"id\":\"5432\",\"type\":\"Grid\"},{\"attributes\":{},\"id\":\"5438\",\"type\":\"HelpTool\"},{\"attributes\":{\"label\":{\"value\":\"bound atp synthase\"},\"renderers\":[{\"id\":\"5492\",\"type\":\"GlyphRenderer\"}]},\"id\":\"5506\",\"type\":\"LegendItem\"},{\"attributes\":{\"source\":{\"id\":\"5446\",\"type\":\"ColumnDataSource\"}},\"id\":\"5450\",\"type\":\"CDSView\"},{\"attributes\":{},\"id\":\"5424\",\"type\":\"BasicTicker\"},{\"attributes\":{\"label\":{\"value\":\"atp\"},\"renderers\":[{\"id\":\"5449\",\"type\":\"GlyphRenderer\"}]},\"id\":\"5458\",\"type\":\"LegendItem\"},{\"attributes\":{\"source\":{\"id\":\"5489\",\"type\":\"ColumnDataSource\"}},\"id\":\"5493\",\"type\":\"CDSView\"},{\"attributes\":{\"callback\":null,\"data\":{\"x\":{\"__ndarray__\":\"AAAAAAAAAAB/pUCtXykgQH+lQK1fKTBAPvjggw8+OEB/pUCtXylAQN/OkJi3M0RAPvjggw8+SECeITFvZ0hMQH+lQK1fKVBAL7rooosuUkDfzpCYtzNUQI/jOI7jOFZAPvjggw8+WEDuDIl5O0NaQJ4hMW9nSFxATjbZZJNNXkB/pUCtXylgQNevFKj1K2FAL7rooosuYkCHxLydITFjQN/OkJi3M2RAN9lkk002ZUCP4ziO4zhmQOftDIl5O2dAPvjggw8+aECWArV+pUBpQO4MiXk7Q2pARhdddNFFa0CeITFvZ0hsQPYrBWr9Sm1ATjbZZJNNbkCmQK1fKVBvQH+lQK1fKXBAq6qqqqqqcEDXrxSo9StxQAO1fqVArXFAL7rooosuckBbv1Kg1q9yQIfEvJ0hMXNAs8kmm2yyc0DfzpCYtzN0QAvU+pUCtXRAN9lkk002dUBj3s6QmLd1QI/jOI7jOHZAu+iiiy66dkDn7QyJeTt3QBPzdobEvHdAPvjggw8+eEBq/UqBWr94QJYCtX6lQHlAwgcffPDBeUDuDIl5O0N6QBoS83aGxHpARhdddNFFe0ByHMdxHMd7QJ4hMW9nSHxAyiabbLLJfED2KwVq/Up9QCIxb2dIzH1ATjbZZJNNfkB6O0Ni3s5+QKZArV8pUH9A0kUXXXTRf0B/pUCtXymAQBWo9SsFaoBAq6qqqqqqgEBBrV8pUOuAQNevFKj1K4FAbbLJJptsgUADtX6lQK2BQJm3MyTm7YFAL7rooosugkDFvJ0hMW+CQFu/UqDWr4JA8cEHH3zwgkCHxLydITGDQB3HcRzHcYNAs8kmm2yyg0BJzNsZEvODQN/OkJi3M4RAddFFF110hEAL1PqVArWEQKHWrxSo9YRAN9lkk002hUDN2xkS83aFQGPezpCYt4VA+eCDDz74hUCP4ziO4ziGQCXm7QyJeYZAu+iiiy66hkBR61cK1PqGQOftDIl5O4dAffDBBx98h0AT83aGxLyHQKn1KwVq/YdAPvjggw8+iEDU+pUCtX6IQGr9SoFav4hAAAAAAAAAiUA=\",\"dtype\":\"float64\",\"shape\":[100]},\"y\":{\"__ndarray__\":\"AAAAAAAAAADfjLxxeNXSPtglPWu4ZxA/w8TmjYkvMj8FHOqaOU5JP2ZK+HoVV1s/Pjn2IdY1aT/9O2iUZ910PwFfkxIG8X8/RMnSzR4Nhz9iuH5w+cePP/NsSFxZH5U/BycneQFBmz+o78b4oiehP24Tf7ZiJ6U/N4EGM1uhqT+qCQ/kkZauP3L6UHrHA7I/MzGggjj6tD9uVxx8fi64P0PV6lJVoLs/5T+fiVdPvz+vmXgtgZ3BPwipXoxcscM/0Dzr+ePixT9X92wnszHIP8ji41tcnco/4reNTmklzT+i203nW8nPPza2QXVXRNE/Dv0sTGux0j9IZQafoCvUPy8i8OGrstU/0poLFz9G1z/DcCEOCubYPxBCsKO6kdo/IoB8/PxI3D88r0LBewveP5Gelljg2N8/eeTqj2nY4D9rU1LRfcnhP+l36GiAv+I/pWhXnES64z+Wl52YnbnkP1zjzYpeveU/qUPcuFrF5j9qhQWZZdHnP+dLaulS4eg/TroRxPb06T9FhF+0JQzrP87bM8q0Juw/7AbbrHlE7T/Ss0qrSmXuP6mg8cz+iO8/tvCy77ZX8D/Bj4JCOOzwP6GZmyDwgfE/o6QdwcsY8j97gaLVuLDyP6kKu46lSfM/q8R3n4Dj8z/cFktAOX70P4I25zG/GfU/YjLcvQK29T9zyfa59FL2P+N0hIeG8PY/0AfsE6qO9z8i9eLYUS34P3qokdtwzPg/kEuCq/pr+T/Z4jFh4wv6P8P7VJwfrPo/nV22gaRM+z8fxbe4Z+37PzrcrGhfjvw/dCznNYIv/T8Kp3o+x9D9P0RkRxcmcv4/8t+UxpYT/z+YoujDEbX/PyKJxfhHKwBAVDORTAV8AEBRGEy0vcwAQIV2xjZuHQFAYVH/CBRuAUCLOtOLrL4BQGXkDEo1DwJABWOx9qtfAkBqeiBrDrACQPO4FKVaAANASh7TxI5QA0Dv8ksLqaADQIlGc9in8ANAmg6QqYlABEBmIpMXTZAEQEARkdXw3wRAwJIyr3MvBUAbmEKH1H4FQDD2O1YSzgVAr7MDKSwdBkA=\",\"dtype\":\"float64\",\"shape\":[100]}},\"selected\":{\"id\":\"5525\",\"type\":\"Selection\"},\"selection_policy\":{\"id\":\"5524\",\"type\":\"UnionRenderers\"}},\"id\":\"5489\",\"type\":\"ColumnDataSource\"},{\"attributes\":{},\"id\":\"5471\",\"type\":\"Selection\"},{\"attributes\":{},\"id\":\"5756\",\"type\":\"Selection\"},{\"attributes\":{\"data_source\":{\"id\":\"5507\",\"type\":\"ColumnDataSource\"},\"glyph\":{\"id\":\"5508\",\"type\":\"Line\"},\"hover_glyph\":null,\"muted_glyph\":null,\"nonselection_glyph\":{\"id\":\"5509\",\"type\":\"Line\"},\"selection_glyph\":null,\"view\":{\"id\":\"5511\",\"type\":\"CDSView\"}},\"id\":\"5510\",\"type\":\"GlyphRenderer\"},{\"attributes\":{\"ticker\":{\"id\":\"5424\",\"type\":\"BasicTicker\"}},\"id\":\"5427\",\"type\":\"Grid\"},{\"attributes\":{},\"id\":\"5470\",\"type\":\"UnionRenderers\"},{\"attributes\":{},\"id\":\"5429\",\"type\":\"BasicTicker\"},{\"attributes\":{},\"id\":\"5504\",\"type\":\"UnionRenderers\"},{\"attributes\":{\"axis_label\":\"concentration (nM)\",\"formatter\":{\"id\":\"5455\",\"type\":\"BasicTickFormatter\"},\"ticker\":{\"id\":\"5429\",\"type\":\"BasicTicker\"}},\"id\":\"5428\",\"type\":\"LinearAxis\"},{\"attributes\":{\"label\":{\"value\":\"bound proton pump\"},\"renderers\":[{\"id\":\"5510\",\"type\":\"GlyphRenderer\"}]},\"id\":\"5526\",\"type\":\"LegendItem\"},{\"attributes\":{\"bottom_units\":\"screen\",\"fill_alpha\":{\"value\":0.5},\"fill_color\":{\"value\":\"lightgrey\"},\"left_units\":\"screen\",\"level\":\"overlay\",\"line_alpha\":{\"value\":1.0},\"line_color\":{\"value\":\"black\"},\"line_dash\":[4,4],\"line_width\":{\"value\":2},\"render_mode\":\"css\",\"right_units\":\"screen\",\"top_units\":\"screen\"},\"id\":\"5456\",\"type\":\"BoxAnnotation\"},{\"attributes\":{\"line_color\":\"#ff7e0e\",\"line_width\":2,\"x\":{\"field\":\"x\"},\"y\":{\"field\":\"y\"}},\"id\":\"5460\",\"type\":\"Line\"},{\"attributes\":{\"label\":{\"value\":\"outside_H\"},\"renderers\":[{\"id\":\"5462\",\"type\":\"GlyphRenderer\"}]},\"id\":\"5472\",\"type\":\"LegendItem\"},{\"attributes\":{},\"id\":\"5455\",\"type\":\"BasicTickFormatter\"},{\"attributes\":{\"callback\":null,\"data\":{\"x\":{\"__ndarray__\":\"AAAAAAAAAAB/pUCtXykgQH+lQK1fKTBAPvjggw8+OEB/pUCtXylAQN/OkJi3M0RAPvjggw8+SECeITFvZ0hMQH+lQK1fKVBAL7rooosuUkDfzpCYtzNUQI/jOI7jOFZAPvjggw8+WEDuDIl5O0NaQJ4hMW9nSFxATjbZZJNNXkB/pUCtXylgQNevFKj1K2FAL7rooosuYkCHxLydITFjQN/OkJi3M2RAN9lkk002ZUCP4ziO4zhmQOftDIl5O2dAPvjggw8+aECWArV+pUBpQO4MiXk7Q2pARhdddNFFa0CeITFvZ0hsQPYrBWr9Sm1ATjbZZJNNbkCmQK1fKVBvQH+lQK1fKXBAq6qqqqqqcEDXrxSo9StxQAO1fqVArXFAL7rooosuckBbv1Kg1q9yQIfEvJ0hMXNAs8kmm2yyc0DfzpCYtzN0QAvU+pUCtXRAN9lkk002dUBj3s6QmLd1QI/jOI7jOHZAu+iiiy66dkDn7QyJeTt3QBPzdobEvHdAPvjggw8+eEBq/UqBWr94QJYCtX6lQHlAwgcffPDBeUDuDIl5O0N6QBoS83aGxHpARhdddNFFe0ByHMdxHMd7QJ4hMW9nSHxAyiabbLLJfED2KwVq/Up9QCIxb2dIzH1ATjbZZJNNfkB6O0Ni3s5+QKZArV8pUH9A0kUXXXTRf0B/pUCtXymAQBWo9SsFaoBAq6qqqqqqgEBBrV8pUOuAQNevFKj1K4FAbbLJJptsgUADtX6lQK2BQJm3MyTm7YFAL7rooosugkDFvJ0hMW+CQFu/UqDWr4JA8cEHH3zwgkCHxLydITGDQB3HcRzHcYNAs8kmm2yyg0BJzNsZEvODQN/OkJi3M4RAddFFF110hEAL1PqVArWEQKHWrxSo9YRAN9lkk002hUDN2xkS83aFQGPezpCYt4VA+eCDDz74hUCP4ziO4ziGQCXm7QyJeYZAu+iiiy66hkBR61cK1PqGQOftDIl5O4dAffDBBx98h0AT83aGxLyHQKn1KwVq/YdAPvjggw8+iEDU+pUCtX6IQGr9SoFav4hAAAAAAAAAiUA=\",\"dtype\":\"float64\",\"shape\":[100]},\"y\":{\"__ndarray__\":\"AAAAAAAAAAArjbxxeNXSPu0lPWu4ZxA/z8TmjYkvMj8OHOqaOU5JP2pK+HoVV1s/QDn2IdY1aT/+O2iUZ910PwFfkxIG8X8/RMnSzR4Nhz9iuH5w+cePP/ZsSFxZH5U/CycneQFBmz+r78b4oiehP3ETf7ZiJ6U/PIEGM1uhqT+uCQ/kkZauP3b6UHrHA7I/NzGggjj6tD9zVxx8fi64P0jV6lJVoLs/6T+fiVdPvz+ymXgtgZ3BPwupXoxcscM/0zzr+ePixT9Z92wnszHIP8ri41tcnco/5reNTmklzT+m203nW8nPPzm2QXVXRNE/Ef0sTGux0j9LZQafoCvUPzIi8OGrstU/1ZoLFz9G1z/GcCEOCubYPxNCsKO6kdo/JYB8/PxI3D9Ar0LBewveP5Welljg2N8/e+Tqj2nY4D9tU1LRfcnhP+t36GiAv+I/p2hXnES64z+Yl52YnbnkP17jzYpeveU/q0PcuFrF5j9shQWZZdHnP+lLaulS4eg/ULoRxPb06T9IhF+0JQzrP9LbM8q0Juw/8QbbrHlE7T/Xs0qrSmXuP7Gg8cz+iO8/u/Cy77ZX8D/Gj4JCOOzwP6aZmyDwgfE/qKQdwcsY8j+AgaLVuLDyP64Ku46lSfM/sMR3n4Dj8z/hFktAOX70P4c25zG/GfU/ZzLcvQK29T94yfa59FL2P+h0hIeG8PY/1QfsE6qO9z8n9eLYUS34P3+okdtwzPg/lUuCq/pr+T/e4jFh4wv6P8j7VJwfrPo/ol22gaRM+z8kxbe4Z+37Pz/crGhfjvw/eSznNYIv/T8Pp3o+x9D9P0lkRxcmcv4/99+UxpYT/z+coujDEbX/PySJxfhHKwBAVjORTAV8AEBTGEy0vcwAQId2xjZuHQFAY1H/CBRuAUCNOtOLrL4BQGfkDEo1DwJAB2Ox9qtfAkBseiBrDrACQPW4FKVaAANASx7TxI5QA0Dw8ksLqaADQIpGc9in8ANAmw6QqYlABEBmIpMXTZAEQEARkdXw3wRAv5Iyr3MvBUAamEKH1H4FQC/2O1YSzgVArrMDKSwdBkA=\",\"dtype\":\"float64\",\"shape\":[100]}},\"selected\":{\"id\":\"5756\",\"type\":\"Selection\"},\"selection_policy\":{\"id\":\"5755\",\"type\":\"UnionRenderers\"}},\"id\":\"5507\",\"type\":\"ColumnDataSource\"},{\"attributes\":{\"label\":{\"value\":\"inside_H\"},\"renderers\":[{\"id\":\"5476\",\"type\":\"GlyphRenderer\"}]},\"id\":\"5488\",\"type\":\"LegendItem\"},{\"attributes\":{\"line_color\":\"#2ba02b\",\"line_width\":2,\"x\":{\"field\":\"x\"},\"y\":{\"field\":\"y\"}},\"id\":\"5474\",\"type\":\"Line\"},{\"attributes\":{\"callback\":null,\"data\":{\"x\":{\"__ndarray__\":\"AAAAAAAAAAB/pUCtXykgQH+lQK1fKTBAPvjggw8+OEB/pUCtXylAQN/OkJi3M0RAPvjggw8+SECeITFvZ0hMQH+lQK1fKVBAL7rooosuUkDfzpCYtzNUQI/jOI7jOFZAPvjggw8+WEDuDIl5O0NaQJ4hMW9nSFxATjbZZJNNXkB/pUCtXylgQNevFKj1K2FAL7rooosuYkCHxLydITFjQN/OkJi3M2RAN9lkk002ZUCP4ziO4zhmQOftDIl5O2dAPvjggw8+aECWArV+pUBpQO4MiXk7Q2pARhdddNFFa0CeITFvZ0hsQPYrBWr9Sm1ATjbZZJNNbkCmQK1fKVBvQH+lQK1fKXBAq6qqqqqqcEDXrxSo9StxQAO1fqVArXFAL7rooosuckBbv1Kg1q9yQIfEvJ0hMXNAs8kmm2yyc0DfzpCYtzN0QAvU+pUCtXRAN9lkk002dUBj3s6QmLd1QI/jOI7jOHZAu+iiiy66dkDn7QyJeTt3QBPzdobEvHdAPvjggw8+eEBq/UqBWr94QJYCtX6lQHlAwgcffPDBeUDuDIl5O0N6QBoS83aGxHpARhdddNFFe0ByHMdxHMd7QJ4hMW9nSHxAyiabbLLJfED2KwVq/Up9QCIxb2dIzH1ATjbZZJNNfkB6O0Ni3s5+QKZArV8pUH9A0kUXXXTRf0B/pUCtXymAQBWo9SsFaoBAq6qqqqqqgEBBrV8pUOuAQNevFKj1K4FAbbLJJptsgUADtX6lQK2BQJm3MyTm7YFAL7rooosugkDFvJ0hMW+CQFu/UqDWr4JA8cEHH3zwgkCHxLydITGDQB3HcRzHcYNAs8kmm2yyg0BJzNsZEvODQN/OkJi3M4RAddFFF110hEAL1PqVArWEQKHWrxSo9YRAN9lkk002hUDN2xkS83aFQGPezpCYt4VA+eCDDz74hUCP4ziO4ziGQCXm7QyJeYZAu+iiiy66hkBR61cK1PqGQOftDIl5O4dAffDBBx98h0AT83aGxLyHQKn1KwVq/YdAPvjggw8+iEDU+pUCtX6IQGr9SoFav4hAAAAAAAAAiUA=\",\"dtype\":\"float64\",\"shape\":[100]},\"y\":{\"__ndarray__\":\"AAAAAAAAAAAUJZzPalRyP+X1bWN2EK8/CiCXuCFWzz8p4ciWZkjiP7MxN6iWOe8/SqpbLO4r9j9d0F2EuC78P6NNLqd/uABABbv8k176AkCrXybzwucEQPH1P/mDjQZAkGweDJr3B0Akv0pLQzAJQPXsWXL0PwpAth6Xco4tC0DwyoUvo/4LQHEUzgu2twxA/GoIgnJcDUBGpKNP2O8NQJiHyXpedA5A6VXc1g7sDkCdIcqTm1gPQJ7R6C1wuw9ABDooYN8KEEBKvoxHRTQQQIT/rjNYWhBAlkd/qXZ9EED/vfv88Z0QQNVE1n0QvBBAq7tZOw/YEECN7mB6I/IQQLVEAN97ChFAO1oQbEEhEUCEfXNTmDYRQPg+c6KgShFAXceb0nZdEUAuZMxING8RQBQT5LbvfxFAHXH4d72PEUCRZsXZr54RQHU3wVzXrBFAm9c060K6EUDdlr0IAMcRQDKtR/sa0xFAqupK7p7eEUBjfKwRlukRQLxpObUJ9BFACOpqYAL+EUAXtMbkhwcSQI1uBnOhEBJAoayAqVUZEkBYPqKiqiESQE70gAGmKRJAIW0E/UwxEkBTt8NppDgSQIT56MKwPxJAIz0RMnZGEkBnh6qW+EwSQJq7soo7UxJAy5ZsbUJZEkCzisNeEF8SQK6e8k+oZBJAgNW+/gxqEkClVfP8QG8SQEbtL7NGdBJApD8GZCB5EkDrp94u0H0SQEJNXxJYghJAuEAy77mGEkBKdKyJ94oSQGEFJ4wSjxJAsG2ZiAyTEkBut4f65pYSQBu7v0ejmhJAgOokw0KeEkBpE0WtxqESQK2gQDQwpRJATFsld4CoEkBqHJiFuKsSQNoTFmHZrhJA3xTN/eOxEkAcfG9D2bQSQJTN8g26txJAteFFLoe6EkBXKu5qQb0SQBpBsIDpvxJA6PoKI4DCEkDVYN38BcUSQDOiwbB7xxJAC9eh2eHJEkAgNxQLOcwSQNK8v9GBzhJAMgzIs7zQEkBvfyQx6tISQEI68cMK1RJA3ZLC4B7XEkDRtev2JtkSQFGGy3Aj2xJAnFUMtBTdEkA=\",\"dtype\":\"float64\",\"shape\":[100]}},\"selected\":{\"id\":\"5505\",\"type\":\"Selection\"},\"selection_policy\":{\"id\":\"5504\",\"type\":\"UnionRenderers\"}},\"id\":\"5473\",\"type\":\"ColumnDataSource\"}],\"root_ids\":[\"5412\"]},\"title\":\"Bokeh Application\",\"version\":\"1.4.0\"}};\n",
       "  var render_items = [{\"docid\":\"42ae1327-f003-45d1-9bb0-ac657146fcce\",\"roots\":{\"5412\":\"da15ff49-26ad-462b-a15b-23bc93e5b9fc\"}}];\n",
       "  root.Bokeh.embed.embed_items_notebook(docs_json, render_items);\n",
       "\n",
       "  }\n",
       "  if (root.Bokeh !== undefined) {\n",
       "    embed_document(root);\n",
       "  } else {\n",
       "    var attempts = 0;\n",
       "    var timer = setInterval(function(root) {\n",
       "      if (root.Bokeh !== undefined) {\n",
       "        clearInterval(timer);\n",
       "        embed_document(root);\n",
       "      } else {\n",
       "        attempts++;\n",
       "        if (attempts > 100) {\n",
       "          clearInterval(timer);\n",
       "          console.log(\"Bokeh: ERROR: Unable to run BokehJS code because BokehJS library is missing\");\n",
       "        }\n",
       "      }\n",
       "    }, 10, root)\n",
       "  }\n",
       "})(window);"
      ],
      "application/vnd.bokehjs_exec.v0+json": ""
     },
     "metadata": {
      "application/vnd.bokehjs_exec.v0+json": {
       "id": "5412"
      }
     },
     "output_type": "display_data"
    }
   ],
   "source": [
    "#plt_timepoints = timepoints/60\n",
    "\n",
    "p4 = bokeh.plotting.figure(width = 450, height = 350, title = 'with ATP Synthase, Proton Pump, ATP Use',\n",
    "                          x_axis_label = 'time (sec)',\n",
    "                          y_axis_label = 'concentration (nM)')\n",
    "plot_list = [ATP_id_37, outside_H_id, inside_H_id, atp_synthase_b_protein_id_37, proton_pump_b_protein_id_37]\n",
    "plot_str = ['atp', 'outside_H', 'inside_H', 'bound atp synthase', 'bound proton pump']\n",
    "for i,item in enumerate(plot_list):\n",
    "    p4.line(timepoints, results_37[item], line_width = 2, legend_label = plot_str[i], color = palette[i])\n",
    "#p3.line(plt_timepoints, results_everything[ATP_id3])\n",
    "p4.legend.click_policy = 'hide'\n",
    "p4.legend.location = 'center_right'\n",
    "\n",
    "bokeh.io.show(p4)\n",
    "\n"
   ]
  },
  {
   "cell_type": "markdown",
   "metadata": {},
   "source": [
    "## Combine at 100 C\n",
    "---"
   ]
  },
  {
   "cell_type": "code",
   "execution_count": 70,
   "metadata": {},
   "outputs": [],
   "source": [
    "# atp synthase models\n",
    "ss1_atpsyn_txtl = createSubsystem('atpsyn_100temp_machinery_txtl.xml', subsystemName = 'atpsyn_txtl')\n",
    "ss2_atpsyn_mi = createSubsystem('atpsynthase_membrane_integration.xml', subsystemName = 'atpsyn_mi')\n",
    "ss3_atpsynthesis = createSubsystem('atp_synthesis_through_atpsynthase.xml', subsystemName = 'atpsynthesis')\n",
    "ss4_atp_use = createSubsystem('atp_50_use.xml', subsystemName = 'atp_use')\n",
    "#ss5_pp_txtl = createSubsystem('proton_pump_tx_tl.xml', subsystemName = 'pp_txtl')\n",
    "ss5_pp_txtl = createSubsystem('proton_pump_100temp_machinery_txtl.xml', subsystemName = 'pp_txtl')\n",
    "ss6_pp_mi = createSubsystem('proton_pump_membrane_integration.xml', subsystemName = 'pp_mi')\n",
    "ss7_protontransport = createSubsystem('proton_transport_through_proton_pump.xml', subsystemName = 'protontransport')"
   ]
  },
  {
   "cell_type": "code",
   "execution_count": 71,
   "metadata": {},
   "outputs": [],
   "source": [
    "entire_subsystem = ss1_atpsyn_txtl + ss2_atpsyn_mi + ss3_atpsynthesis + ss4_atp_use + ss5_pp_txtl + ss6_pp_mi + ss7_protontransport"
   ]
  },
  {
   "cell_type": "code",
   "execution_count": 72,
   "metadata": {},
   "outputs": [],
   "source": [
    "# Initial conditions\n",
    "spec_list_10 = ['dna_proton_pump', 'dna_atpsyn','proton_outside_H', 'metabolite_atp']\n",
    "for i,spec in enumerate(spec_list_10):\n",
    "    entire_subsystem.setSpeciesAmount(spec,10)\n",
    "    \n",
    "x0_list_mach = ['protein_RNAP_machinery',\n",
    "          'protein_Ribo_machinery','protein_RNAse_machinery']\n",
    "for i,spec in enumerate(x0_list_mach):\n",
    "    entire_subsystem.setSpeciesAmount(spec,20)\n",
    "\n",
    "\n",
    "# timepoints and get results\n",
    "# timepoints = np.linspace(0,10,100)\n",
    "# results, _ = entire_subsystem.simulateWithBioscrape(timepoints, sbml_warnings = False)\n",
    "\n",
    "# Get species IDs\n",
    "ATP_id_100 = entire_subsystem.getSpeciesByName('metabolite_atp').getId()\n",
    "ADP_id = entire_subsystem.getSpeciesByName('metabolite_adp').getId()\n",
    "\n",
    "outside_H_id = entire_subsystem.getSpeciesByName('proton_outside_H').getId()\n",
    "inside_H_id = entire_subsystem.getSpeciesByName('proton_inside_H').getId()\n",
    "\n",
    "proton_pump_b_protein_id_100 = entire_subsystem.getSpeciesByName('protein_proton_pump_b').getId()\n",
    "proton_pump_f_protein_id = entire_subsystem.getSpeciesByName('protein_proton_pump').getId()\n",
    "\n",
    "atp_synthase_b_protein_id_100 = entire_subsystem.getSpeciesByName('protein_atpsyn_b').getId()\n",
    "atp_synthase_f_protein_id = entire_subsystem.getSpeciesByName('protein_atpsyn').getId()"
   ]
  },
  {
   "cell_type": "code",
   "execution_count": 73,
   "metadata": {},
   "outputs": [],
   "source": [
    "timepoints = np.linspace(0,800,100)\n",
    "results_100, _ = entire_subsystem.simulateWithBioscrape(timepoints, sbml_warnings = False)"
   ]
  },
  {
   "cell_type": "code",
   "execution_count": 74,
   "metadata": {},
   "outputs": [
    {
     "data": {
      "text/html": [
       "\n",
       "\n",
       "\n",
       "\n",
       "\n",
       "\n",
       "  <div class=\"bk-root\" id=\"5f170ea0-6c02-4865-81df-c09da5feec93\" data-root-id=\"5853\"></div>\n"
      ]
     },
     "metadata": {},
     "output_type": "display_data"
    },
    {
     "data": {
      "application/javascript": [
       "(function(root) {\n",
       "  function embed_document(root) {\n",
       "    \n",
       "  var docs_json = {\"22c3f773-f185-413b-90c1-2ed5e1ca0144\":{\"roots\":{\"references\":[{\"attributes\":{\"below\":[{\"id\":\"5864\",\"type\":\"LinearAxis\"}],\"center\":[{\"id\":\"5868\",\"type\":\"Grid\"},{\"id\":\"5873\",\"type\":\"Grid\"},{\"id\":\"5898\",\"type\":\"Legend\"}],\"left\":[{\"id\":\"5869\",\"type\":\"LinearAxis\"}],\"plot_height\":350,\"plot_width\":450,\"renderers\":[{\"id\":\"5890\",\"type\":\"GlyphRenderer\"},{\"id\":\"5903\",\"type\":\"GlyphRenderer\"},{\"id\":\"5917\",\"type\":\"GlyphRenderer\"},{\"id\":\"5933\",\"type\":\"GlyphRenderer\"},{\"id\":\"5951\",\"type\":\"GlyphRenderer\"}],\"title\":{\"id\":\"5854\",\"type\":\"Title\"},\"toolbar\":{\"id\":\"5880\",\"type\":\"Toolbar\"},\"x_range\":{\"id\":\"5856\",\"type\":\"DataRange1d\"},\"x_scale\":{\"id\":\"5860\",\"type\":\"LinearScale\"},\"y_range\":{\"id\":\"5858\",\"type\":\"DataRange1d\"},\"y_scale\":{\"id\":\"5862\",\"type\":\"LinearScale\"}},\"id\":\"5853\",\"subtype\":\"Figure\",\"type\":\"Plot\"},{\"attributes\":{\"callback\":null,\"data\":{\"x\":{\"__ndarray__\":\"AAAAAAAAAAB/pUCtXykgQH+lQK1fKTBAPvjggw8+OEB/pUCtXylAQN/OkJi3M0RAPvjggw8+SECeITFvZ0hMQH+lQK1fKVBAL7rooosuUkDfzpCYtzNUQI/jOI7jOFZAPvjggw8+WEDuDIl5O0NaQJ4hMW9nSFxATjbZZJNNXkB/pUCtXylgQNevFKj1K2FAL7rooosuYkCHxLydITFjQN/OkJi3M2RAN9lkk002ZUCP4ziO4zhmQOftDIl5O2dAPvjggw8+aECWArV+pUBpQO4MiXk7Q2pARhdddNFFa0CeITFvZ0hsQPYrBWr9Sm1ATjbZZJNNbkCmQK1fKVBvQH+lQK1fKXBAq6qqqqqqcEDXrxSo9StxQAO1fqVArXFAL7rooosuckBbv1Kg1q9yQIfEvJ0hMXNAs8kmm2yyc0DfzpCYtzN0QAvU+pUCtXRAN9lkk002dUBj3s6QmLd1QI/jOI7jOHZAu+iiiy66dkDn7QyJeTt3QBPzdobEvHdAPvjggw8+eEBq/UqBWr94QJYCtX6lQHlAwgcffPDBeUDuDIl5O0N6QBoS83aGxHpARhdddNFFe0ByHMdxHMd7QJ4hMW9nSHxAyiabbLLJfED2KwVq/Up9QCIxb2dIzH1ATjbZZJNNfkB6O0Ni3s5+QKZArV8pUH9A0kUXXXTRf0B/pUCtXymAQBWo9SsFaoBAq6qqqqqqgEBBrV8pUOuAQNevFKj1K4FAbbLJJptsgUADtX6lQK2BQJm3MyTm7YFAL7rooosugkDFvJ0hMW+CQFu/UqDWr4JA8cEHH3zwgkCHxLydITGDQB3HcRzHcYNAs8kmm2yyg0BJzNsZEvODQN/OkJi3M4RAddFFF110hEAL1PqVArWEQKHWrxSo9YRAN9lkk002hUDN2xkS83aFQGPezpCYt4VA+eCDDz74hUCP4ziO4ziGQCXm7QyJeYZAu+iiiy66hkBR61cK1PqGQOftDIl5O4dAffDBBx98h0AT83aGxLyHQKn1KwVq/YdAPvjggw8+iEDU+pUCtX6IQGr9SoFav4hAAAAAAAAAiUA=\",\"dtype\":\"float64\",\"shape\":[100]},\"y\":{\"__ndarray__\":\"AAAAAAAAJEDzovtnBcdQPwhNl7uZ3Y0/2mCSg9+tsD+NqEHrnfXGP92qkwXn+9c/kdggwfjf5D+JX9NjeervP5iFFntjL/Y/53P9Qdm9/D/uLOHPdKkBQEeInNGW3ARAOpszKUroB0CB8G7+ZMQKQAGn7a74bQ1AtSAKpk7lD0DVAms5QxYRQFGP75pYIxJAwl7JSKIbE0Apgv+d4wAUQAs1LNrQ1BRADu0vDQOZFUCtfVBx8k4WQAWU5R719xZAuQv6wD+VF0APIlWc5ycYQFvf/BblsBhAApSwcBYxGUAvCvd1QqkZQOiCNAMbGhpAYau6ZT+EGkBkLYhpPugaQHJRgEiYRhtARsX4TcCfG0Da7g5UHvQbQBn0ixQQRBxASPPMReqPHEDqPYei+dccQFNi/8mDHB1Aai9bAchdHUAGa2ro/5sdQCH+9RFg1x1AlptkghgQHkA/uykzVUYeQN5phXQ+eh5A4spYTPmrHkBgHgLJp9seQMygx0lpCR9AzkP5wFo1H0DhVx/tll8fQJhZUIw2iB9ANn54k1CvH0CFJAw9+tQfQL1MPFRH+R9AZf6BHCUOIEBV9m8FCh8gQIJ9kV9aLyBAzBOWnh0/IED2lle4Wk4gQC/KyjAYXSBA7YRdIVxrIEDtIApCLHkgQMNPwfCNhiBAWb3XN4aTIECP7bXUGaAgQL7rCj1NrCBAxt8kpCS4IEDjrqwApMMgQMJyJA3PziBAflIHVanZIECmycIoNuQgQPQ1M7N47iBAyUmU73P4IEDlAOWxKgIhQF3pHKefCyFAU1BZW9UUIUBNk943zh0hQH7qUIeMJiFAqot5dxIvIUBmxnQaYjchQMy0AWl9PyFABZmzQ2ZHIUBcqmJ0Hk8hQPoFja+nViFAeoaSlQNeIUDbzMOzM2UhQGJkhoU5bCFAFERtdRZzIUAD1undy3khQK8rhgpbgCFACkwfOMWGIUDhzLGWC40hQIXv5kcvkyFAnElEZDGZIUBnpDj1Ep8hQI1h+PrUpCFAwdPgbHiqIUA9qpo0/q8hQJA4/TVntSFAuGj0SrS6IUA=\",\"dtype\":\"float64\",\"shape\":[100]}},\"selected\":{\"id\":\"5912\",\"type\":\"Selection\"},\"selection_policy\":{\"id\":\"5911\",\"type\":\"UnionRenderers\"}},\"id\":\"5887\",\"type\":\"ColumnDataSource\"},{\"attributes\":{\"line_color\":\"#2ba02b\",\"line_width\":2,\"x\":{\"field\":\"x\"},\"y\":{\"field\":\"y\"}},\"id\":\"5915\",\"type\":\"Line\"},{\"attributes\":{\"text\":\"with ATP Synthase, Proton Pump, ATP Use\"},\"id\":\"5854\",\"type\":\"Title\"},{\"attributes\":{},\"id\":\"5875\",\"type\":\"WheelZoomTool\"},{\"attributes\":{\"callback\":null},\"id\":\"5856\",\"type\":\"DataRange1d\"},{\"attributes\":{\"data_source\":{\"id\":\"5914\",\"type\":\"ColumnDataSource\"},\"glyph\":{\"id\":\"5915\",\"type\":\"Line\"},\"hover_glyph\":null,\"muted_glyph\":null,\"nonselection_glyph\":{\"id\":\"5916\",\"type\":\"Line\"},\"selection_glyph\":null,\"view\":{\"id\":\"5918\",\"type\":\"CDSView\"}},\"id\":\"5917\",\"type\":\"GlyphRenderer\"},{\"attributes\":{\"line_color\":\"#9367bc\",\"line_width\":2,\"x\":{\"field\":\"x\"},\"y\":{\"field\":\"y\"}},\"id\":\"5931\",\"type\":\"Line\"},{\"attributes\":{},\"id\":\"5927\",\"type\":\"UnionRenderers\"},{\"attributes\":{\"overlay\":{\"id\":\"5897\",\"type\":\"BoxAnnotation\"}},\"id\":\"5876\",\"type\":\"BoxZoomTool\"},{\"attributes\":{\"callback\":null,\"data\":{\"x\":{\"__ndarray__\":\"AAAAAAAAAAB/pUCtXykgQH+lQK1fKTBAPvjggw8+OEB/pUCtXylAQN/OkJi3M0RAPvjggw8+SECeITFvZ0hMQH+lQK1fKVBAL7rooosuUkDfzpCYtzNUQI/jOI7jOFZAPvjggw8+WEDuDIl5O0NaQJ4hMW9nSFxATjbZZJNNXkB/pUCtXylgQNevFKj1K2FAL7rooosuYkCHxLydITFjQN/OkJi3M2RAN9lkk002ZUCP4ziO4zhmQOftDIl5O2dAPvjggw8+aECWArV+pUBpQO4MiXk7Q2pARhdddNFFa0CeITFvZ0hsQPYrBWr9Sm1ATjbZZJNNbkCmQK1fKVBvQH+lQK1fKXBAq6qqqqqqcEDXrxSo9StxQAO1fqVArXFAL7rooosuckBbv1Kg1q9yQIfEvJ0hMXNAs8kmm2yyc0DfzpCYtzN0QAvU+pUCtXRAN9lkk002dUBj3s6QmLd1QI/jOI7jOHZAu+iiiy66dkDn7QyJeTt3QBPzdobEvHdAPvjggw8+eEBq/UqBWr94QJYCtX6lQHlAwgcffPDBeUDuDIl5O0N6QBoS83aGxHpARhdddNFFe0ByHMdxHMd7QJ4hMW9nSHxAyiabbLLJfED2KwVq/Up9QCIxb2dIzH1ATjbZZJNNfkB6O0Ni3s5+QKZArV8pUH9A0kUXXXTRf0B/pUCtXymAQBWo9SsFaoBAq6qqqqqqgEBBrV8pUOuAQNevFKj1K4FAbbLJJptsgUADtX6lQK2BQJm3MyTm7YFAL7rooosugkDFvJ0hMW+CQFu/UqDWr4JA8cEHH3zwgkCHxLydITGDQB3HcRzHcYNAs8kmm2yyg0BJzNsZEvODQN/OkJi3M4RAddFFF110hEAL1PqVArWEQKHWrxSo9YRAN9lkk002hUDN2xkS83aFQGPezpCYt4VA+eCDDz74hUCP4ziO4ziGQCXm7QyJeYZAu+iiiy66hkBR61cK1PqGQOftDIl5O4dAffDBBx98h0AT83aGxLyHQKn1KwVq/YdAPvjggw8+iEDU+pUCtX6IQGr9SoFav4hAAAAAAAAAiUA=\",\"dtype\":\"float64\",\"shape\":[100]},\"y\":{\"__ndarray__\":\"AAAAAAAAAAC1+gwzklmhPizukXVJ1t4+JzNE/aFpAT8EdP5cbqYYP4JIfZ3/Dis/Rwkq2cRROT8TihnirD1FPyvSvaSXdlA/4v+TiNgJWD9nFnLL279gP2XMl+Z5fGY/td7uxlZIbT9HV05pSpdyP+7jpyoiHHc/iQI8KVs2fD8f9/dGcfSAPycInbQEG4Q/Ow8Dnc+Phz+UyyA/hFOLP1uLMmOoZo8/261Ous7kkT+P99NHUz6UPwczDAD3v5Y/dvZFusRpmT/n/KfNvjucP17ykoLgNZ8/mpjToQ8soT+cQ/bKNdGiP9VKEfNYiqQ/0/+Zl21Xpj+Yh2nBZjioPxCBuzs2Lao/tbF6wsw1rD/XlUcnGlKuP2n2FrgGQbA/5JJueMpisT+DD6MvT46yP0i5R3KLw7M/m+OXlXUCtT9w8C+1A0u2PyAW17crnbc/sU99U+P4uD8+2AYRIF66P6nq2k3XzLs/NouHP/5EvT+i+hb1ica+P8nUaay3KMA/SGvqmNHywD+frZkSjcHBP7Y1klvklMI/Y075pdFswz9793EUT0nEP/DRfbpWKsU/neranOIPxj/8Bdix7PnGPzZLnOFu6Mc/7oSWBmPbyD+lwr3twtLJP2k8d1aIzso/FVtk86zOyz+P+2pqKtPMPzZ551T6280/1Ir8Pxbpzj8pedWsd/rPPw4RcwgMiNA/LCsVa/gU0T+jsbGt/aPRPxEqLHoYNdI/xkUOdUXI0j+HiKY9gV3TP4TRKG7I9NM/XX3PmxeO1D8Yc/xWaynVP/uHWSvAxtU/3YP3nxJm1j8/WW03XwfXPytCG3Ciqtc/60tJxNhP2D9g2/Op/vbYP55qKZMQoNk/e2FY7gpL2j+m6Uom6vfaPzZZQKKqpts/kR0VxkhX3D+l/GvywAndP2vH0oQPvt0/Tqjk1zB03j/CnmxDISzfPwHfiBzd5d8/HFfnWrBQ4D+8IbcvVK/gP1r4qTPYDuE/BVuojDpv4T98GZ9fedDhP1oJj9CSMuI/LZeeAoWV4j9ziywYTvniP9m+4TLsXeM/3PLCc13D4z8=\",\"dtype\":\"float64\",\"shape\":[100]}},\"selected\":{\"id\":\"6213\",\"type\":\"Selection\"},\"selection_policy\":{\"id\":\"6212\",\"type\":\"UnionRenderers\"}},\"id\":\"5948\",\"type\":\"ColumnDataSource\"},{\"attributes\":{\"label\":{\"value\":\"outside_H\"},\"renderers\":[{\"id\":\"5903\",\"type\":\"GlyphRenderer\"}]},\"id\":\"5913\",\"type\":\"LegendItem\"},{\"attributes\":{\"source\":{\"id\":\"5914\",\"type\":\"ColumnDataSource\"}},\"id\":\"5918\",\"type\":\"CDSView\"},{\"attributes\":{\"line_alpha\":0.1,\"line_color\":\"#1f77b4\",\"line_width\":2,\"x\":{\"field\":\"x\"},\"y\":{\"field\":\"y\"}},\"id\":\"5916\",\"type\":\"Line\"},{\"attributes\":{},\"id\":\"5877\",\"type\":\"SaveTool\"},{\"attributes\":{\"line_alpha\":0.1,\"line_color\":\"#1f77b4\",\"line_width\":2,\"x\":{\"field\":\"x\"},\"y\":{\"field\":\"y\"}},\"id\":\"5950\",\"type\":\"Line\"},{\"attributes\":{\"callback\":null},\"id\":\"5858\",\"type\":\"DataRange1d\"},{\"attributes\":{},\"id\":\"5878\",\"type\":\"ResetTool\"},{\"attributes\":{\"source\":{\"id\":\"5900\",\"type\":\"ColumnDataSource\"}},\"id\":\"5904\",\"type\":\"CDSView\"},{\"attributes\":{\"callback\":null,\"data\":{\"x\":{\"__ndarray__\":\"AAAAAAAAAAB/pUCtXykgQH+lQK1fKTBAPvjggw8+OEB/pUCtXylAQN/OkJi3M0RAPvjggw8+SECeITFvZ0hMQH+lQK1fKVBAL7rooosuUkDfzpCYtzNUQI/jOI7jOFZAPvjggw8+WEDuDIl5O0NaQJ4hMW9nSFxATjbZZJNNXkB/pUCtXylgQNevFKj1K2FAL7rooosuYkCHxLydITFjQN/OkJi3M2RAN9lkk002ZUCP4ziO4zhmQOftDIl5O2dAPvjggw8+aECWArV+pUBpQO4MiXk7Q2pARhdddNFFa0CeITFvZ0hsQPYrBWr9Sm1ATjbZZJNNbkCmQK1fKVBvQH+lQK1fKXBAq6qqqqqqcEDXrxSo9StxQAO1fqVArXFAL7rooosuckBbv1Kg1q9yQIfEvJ0hMXNAs8kmm2yyc0DfzpCYtzN0QAvU+pUCtXRAN9lkk002dUBj3s6QmLd1QI/jOI7jOHZAu+iiiy66dkDn7QyJeTt3QBPzdobEvHdAPvjggw8+eEBq/UqBWr94QJYCtX6lQHlAwgcffPDBeUDuDIl5O0N6QBoS83aGxHpARhdddNFFe0ByHMdxHMd7QJ4hMW9nSHxAyiabbLLJfED2KwVq/Up9QCIxb2dIzH1ATjbZZJNNfkB6O0Ni3s5+QKZArV8pUH9A0kUXXXTRf0B/pUCtXymAQBWo9SsFaoBAq6qqqqqqgEBBrV8pUOuAQNevFKj1K4FAbbLJJptsgUADtX6lQK2BQJm3MyTm7YFAL7rooosugkDFvJ0hMW+CQFu/UqDWr4JA8cEHH3zwgkCHxLydITGDQB3HcRzHcYNAs8kmm2yyg0BJzNsZEvODQN/OkJi3M4RAddFFF110hEAL1PqVArWEQKHWrxSo9YRAN9lkk002hUDN2xkS83aFQGPezpCYt4VA+eCDDz74hUCP4ziO4ziGQCXm7QyJeYZAu+iiiy66hkBR61cK1PqGQOftDIl5O4dAffDBBx98h0AT83aGxLyHQKn1KwVq/YdAPvjggw8+iEDU+pUCtX6IQGr9SoFav4hAAAAAAAAAiUA=\",\"dtype\":\"float64\",\"shape\":[100]},\"y\":{\"__ndarray__\":\"AAAAAAAAAAD0/QwzklmhPhTwkXVJ1t4+rzNE/aFpAT96dP5cbqYYP9lIfZ3/Dis/ggkq2cRROT82ihnirD1FPz/SvaSXdlA/+/+TiNgJWD93FnLL279gP3nMl+Z5fGY/zN7uxlZIbT9VV05pSpdyP/3jpyoiHHc/mwI8KVs2fD8o9/dGcfSAPzEInbQEG4Q/RA8Dnc+Phz+eyyA/hFOLP2WLMmOoZo8/4K1Ous7kkT+U99NHUz6UPw0zDAD3v5Y/ffZFusRpmT/t/KfNvjucP2TykoLgNZ8/nZjToQ8soT+fQ/bKNdGiP9hKEfNYiqQ/1v+Zl21Xpj+bh2nBZjioPxOBuzs2Lao/uLF6wsw1rD/alUcnGlKuP2r2FrgGQbA/5ZJueMpisT+ED6MvT46yP0m5R3KLw7M/nOOXlXUCtT9x8C+1A0u2PyEW17crnbc/sk99U+P4uD8/2AYRIF66P6rq2k3XzLs/N4uHP/5EvT+j+hb1ica+P8nUaay3KMA/SGvqmNHywD+frZkSjcHBP7Y1klvklMI/Y075pdFswz9793EUT0nEP/DRfbpWKsU/neranOIPxj/8Bdix7PnGPzZLnOFu6Mc/7oSWBmPbyD+lwr3twtLJP2o8d1aIzso/Fltk86zOyz+Q+2pqKtPMPzd551T6280/1Yr8Pxbpzj8pedWsd/rPPw4RcwgMiNA/LCsVa/gU0T+jsbGt/aPRPxEqLHoYNdI/xkUOdUXI0j+HiKY9gV3TP4TRKG7I9NM/XX3PmxeO1D8Yc/xWaynVP/uHWSvAxtU/3YP3nxJm1j8/WW03XwfXPytCG3Ciqtc/60tJxNhP2D9g2/Op/vbYP55qKZMQoNk/e2FY7gpL2j+m6Uom6vfaPzZZQKKqpts/kR0VxkhX3D+l/GvywAndP2vH0oQPvt0/Tqjk1zB03j/CnmxDISzfPwHfiBzd5d8/HFfnWrBQ4D+8IbcvVK/gP1r4qTPYDuE/BVuojDpv4T98GZ9fedDhP1oJj9CSMuI/LZeeAoWV4j9ziywYTvniP9m+4TLsXeM/3PLCc13D4z8=\",\"dtype\":\"float64\",\"shape\":[100]}},\"selected\":{\"id\":\"5966\",\"type\":\"Selection\"},\"selection_policy\":{\"id\":\"5965\",\"type\":\"UnionRenderers\"}},\"id\":\"5930\",\"type\":\"ColumnDataSource\"},{\"attributes\":{\"label\":{\"value\":\"atp\"},\"renderers\":[{\"id\":\"5890\",\"type\":\"GlyphRenderer\"}]},\"id\":\"5899\",\"type\":\"LegendItem\"},{\"attributes\":{},\"id\":\"5894\",\"type\":\"BasicTickFormatter\"},{\"attributes\":{\"line_alpha\":0.1,\"line_color\":\"#1f77b4\",\"line_width\":2,\"x\":{\"field\":\"x\"},\"y\":{\"field\":\"y\"}},\"id\":\"5902\",\"type\":\"Line\"},{\"attributes\":{\"line_color\":\"#8c564b\",\"line_width\":2,\"x\":{\"field\":\"x\"},\"y\":{\"field\":\"y\"}},\"id\":\"5949\",\"type\":\"Line\"},{\"attributes\":{\"source\":{\"id\":\"5948\",\"type\":\"ColumnDataSource\"}},\"id\":\"5952\",\"type\":\"CDSView\"},{\"attributes\":{},\"id\":\"5965\",\"type\":\"UnionRenderers\"},{\"attributes\":{},\"id\":\"5860\",\"type\":\"LinearScale\"},{\"attributes\":{\"data_source\":{\"id\":\"5900\",\"type\":\"ColumnDataSource\"},\"glyph\":{\"id\":\"5901\",\"type\":\"Line\"},\"hover_glyph\":null,\"muted_glyph\":null,\"nonselection_glyph\":{\"id\":\"5902\",\"type\":\"Line\"},\"selection_glyph\":null,\"view\":{\"id\":\"5904\",\"type\":\"CDSView\"}},\"id\":\"5903\",\"type\":\"GlyphRenderer\"},{\"attributes\":{},\"id\":\"5879\",\"type\":\"HelpTool\"},{\"attributes\":{\"callback\":null,\"data\":{\"x\":{\"__ndarray__\":\"AAAAAAAAAAB/pUCtXykgQH+lQK1fKTBAPvjggw8+OEB/pUCtXylAQN/OkJi3M0RAPvjggw8+SECeITFvZ0hMQH+lQK1fKVBAL7rooosuUkDfzpCYtzNUQI/jOI7jOFZAPvjggw8+WEDuDIl5O0NaQJ4hMW9nSFxATjbZZJNNXkB/pUCtXylgQNevFKj1K2FAL7rooosuYkCHxLydITFjQN/OkJi3M2RAN9lkk002ZUCP4ziO4zhmQOftDIl5O2dAPvjggw8+aECWArV+pUBpQO4MiXk7Q2pARhdddNFFa0CeITFvZ0hsQPYrBWr9Sm1ATjbZZJNNbkCmQK1fKVBvQH+lQK1fKXBAq6qqqqqqcEDXrxSo9StxQAO1fqVArXFAL7rooosuckBbv1Kg1q9yQIfEvJ0hMXNAs8kmm2yyc0DfzpCYtzN0QAvU+pUCtXRAN9lkk002dUBj3s6QmLd1QI/jOI7jOHZAu+iiiy66dkDn7QyJeTt3QBPzdobEvHdAPvjggw8+eEBq/UqBWr94QJYCtX6lQHlAwgcffPDBeUDuDIl5O0N6QBoS83aGxHpARhdddNFFe0ByHMdxHMd7QJ4hMW9nSHxAyiabbLLJfED2KwVq/Up9QCIxb2dIzH1ATjbZZJNNfkB6O0Ni3s5+QKZArV8pUH9A0kUXXXTRf0B/pUCtXymAQBWo9SsFaoBAq6qqqqqqgEBBrV8pUOuAQNevFKj1K4FAbbLJJptsgUADtX6lQK2BQJm3MyTm7YFAL7rooosugkDFvJ0hMW+CQFu/UqDWr4JA8cEHH3zwgkCHxLydITGDQB3HcRzHcYNAs8kmm2yyg0BJzNsZEvODQN/OkJi3M4RAddFFF110hEAL1PqVArWEQKHWrxSo9YRAN9lkk002hUDN2xkS83aFQGPezpCYt4VA+eCDDz74hUCP4ziO4ziGQCXm7QyJeYZAu+iiiy66hkBR61cK1PqGQOftDIl5O4dAffDBBx98h0AT83aGxLyHQKn1KwVq/YdAPvjggw8+iEDU+pUCtX6IQGr9SoFav4hAAAAAAAAAiUA=\",\"dtype\":\"float64\",\"shape\":[100]},\"y\":{\"__ndarray__\":\"AAAAAAAAAAAkUKsIKetAPzqYs7i1/H0/RbNyFf64oD9thjwuewC3PzVkmsBWBMg/lbCBTI7l1D+ateJsD/HfPzySx+b2MuY/U6Q8roPB7D9z5f5aQ6vxP/B1QBZT3vQ/4J0ctu3p9z9CTGf37MX6P6Bb+n5kb/0/Z9/GEZ/m/z+jkWF/3hYBQJojStznIwJAReZGgCYcA0CbUj3DXQEEQANlM9hB1QRAO0MLvmuZBUCpRP6bU08GQIGx0XdP+AZAbI1F6pOVB0BxGHonNigIQF61MIYusQhADDJuOFsxCUBNdm3+gqkJQJE4oalXGgpA8wmzfXiECkDD4ho+dOgKQNRSCR3LRgtA7AXDXvCfC0ADIxTYS/QLQFVuHz07RAxAQnWKPxOQDEC3bOmVINgMQLqOx9uoHA1A2zEMU+tdDUCIyKmYIZwNQFmRZDyA1w1AbiSGQDcQDkD17FKcckYOQD7SGZ5aeg5A/igLShSsDkBICe6swdsOQFvinySCCQ9Ayx8oonI1D0DuZ+XirV8PQHWB2qNMiA9Ahdsy2WWvD0Crgha8DtUPQPfaOhdb+Q9AF0zRpC4OEEC/L005Ex8QQDYBL0NjLxBAfo/xNSY/EEBj0iwHY04QQHHSljogXRBAFItn6WNrEEDlCWTLM3kQQG8hTT6VhhBAVpBKTI2TEEDks5yyIKAQQMiny+ZTrBBAeEABHCu4EEAzBslIqsMQQMg+fifVzhBA3lmVQ6/ZEEDArT3tO+QQQKmxVU9+7hBAobn+ZHn4EECDZx0CMAIRQM4+w9OkCxFAJ89jZdoUEUAGBNMg0x0RQCqEbFCRJhFAJ4voIRcvEUArQ1inZjcRQNsNadmBPxFAwxCjmGpHEUCCX9KuIk8RQEYpadCrVhFApI+8nQdeEUAh7hKkN2URQOEryF49bBFAdUtmOBpzEUCruFWLz3kRQML1GKNegBFAo2qEvMiGEUBP3I4HD40RQOFH16UykxFA1IHjrzSZEUDLkBUvFp8RQJZOlyPYpBFAzvrUhHuqEUDqlGA8AbARQPoB+S1qtRFA0Su/M7e6EUA=\",\"dtype\":\"float64\",\"shape\":[100]}},\"selected\":{\"id\":\"5946\",\"type\":\"Selection\"},\"selection_policy\":{\"id\":\"5945\",\"type\":\"UnionRenderers\"}},\"id\":\"5914\",\"type\":\"ColumnDataSource\"},{\"attributes\":{},\"id\":\"5862\",\"type\":\"LinearScale\"},{\"attributes\":{},\"id\":\"6212\",\"type\":\"UnionRenderers\"},{\"attributes\":{\"active_drag\":\"auto\",\"active_inspect\":\"auto\",\"active_multi\":null,\"active_scroll\":\"auto\",\"active_tap\":\"auto\",\"tools\":[{\"id\":\"5874\",\"type\":\"PanTool\"},{\"id\":\"5875\",\"type\":\"WheelZoomTool\"},{\"id\":\"5876\",\"type\":\"BoxZoomTool\"},{\"id\":\"5877\",\"type\":\"SaveTool\"},{\"id\":\"5878\",\"type\":\"ResetTool\"},{\"id\":\"5879\",\"type\":\"HelpTool\"}]},\"id\":\"5880\",\"type\":\"Toolbar\"},{\"attributes\":{\"axis_label\":\"time (sec)\",\"formatter\":{\"id\":\"5894\",\"type\":\"BasicTickFormatter\"},\"ticker\":{\"id\":\"5865\",\"type\":\"BasicTicker\"}},\"id\":\"5864\",\"type\":\"LinearAxis\"},{\"attributes\":{\"dimension\":1,\"ticker\":{\"id\":\"5870\",\"type\":\"BasicTicker\"}},\"id\":\"5873\",\"type\":\"Grid\"},{\"attributes\":{\"line_alpha\":0.1,\"line_color\":\"#1f77b4\",\"line_width\":2,\"x\":{\"field\":\"x\"},\"y\":{\"field\":\"y\"}},\"id\":\"5889\",\"type\":\"Line\"},{\"attributes\":{\"data_source\":{\"id\":\"5887\",\"type\":\"ColumnDataSource\"},\"glyph\":{\"id\":\"5888\",\"type\":\"Line\"},\"hover_glyph\":null,\"muted_glyph\":null,\"nonselection_glyph\":{\"id\":\"5889\",\"type\":\"Line\"},\"selection_glyph\":null,\"view\":{\"id\":\"5891\",\"type\":\"CDSView\"}},\"id\":\"5890\",\"type\":\"GlyphRenderer\"},{\"attributes\":{},\"id\":\"5865\",\"type\":\"BasicTicker\"},{\"attributes\":{\"source\":{\"id\":\"5930\",\"type\":\"ColumnDataSource\"}},\"id\":\"5934\",\"type\":\"CDSView\"},{\"attributes\":{\"bottom_units\":\"screen\",\"fill_alpha\":{\"value\":0.5},\"fill_color\":{\"value\":\"lightgrey\"},\"left_units\":\"screen\",\"level\":\"overlay\",\"line_alpha\":{\"value\":1.0},\"line_color\":{\"value\":\"black\"},\"line_dash\":[4,4],\"line_width\":{\"value\":2},\"render_mode\":\"css\",\"right_units\":\"screen\",\"top_units\":\"screen\"},\"id\":\"5897\",\"type\":\"BoxAnnotation\"},{\"attributes\":{\"ticker\":{\"id\":\"5865\",\"type\":\"BasicTicker\"}},\"id\":\"5868\",\"type\":\"Grid\"},{\"attributes\":{},\"id\":\"5896\",\"type\":\"BasicTickFormatter\"},{\"attributes\":{\"data_source\":{\"id\":\"5930\",\"type\":\"ColumnDataSource\"},\"glyph\":{\"id\":\"5931\",\"type\":\"Line\"},\"hover_glyph\":null,\"muted_glyph\":null,\"nonselection_glyph\":{\"id\":\"5932\",\"type\":\"Line\"},\"selection_glyph\":null,\"view\":{\"id\":\"5934\",\"type\":\"CDSView\"}},\"id\":\"5933\",\"type\":\"GlyphRenderer\"},{\"attributes\":{\"label\":{\"value\":\"bound atp synthase\"},\"renderers\":[{\"id\":\"5933\",\"type\":\"GlyphRenderer\"}]},\"id\":\"5947\",\"type\":\"LegendItem\"},{\"attributes\":{},\"id\":\"5870\",\"type\":\"BasicTicker\"},{\"attributes\":{},\"id\":\"5946\",\"type\":\"Selection\"},{\"attributes\":{\"axis_label\":\"concentration (nM)\",\"formatter\":{\"id\":\"5896\",\"type\":\"BasicTickFormatter\"},\"ticker\":{\"id\":\"5870\",\"type\":\"BasicTicker\"}},\"id\":\"5869\",\"type\":\"LinearAxis\"},{\"attributes\":{\"label\":{\"value\":\"bound proton pump\"},\"renderers\":[{\"id\":\"5951\",\"type\":\"GlyphRenderer\"}]},\"id\":\"5967\",\"type\":\"LegendItem\"},{\"attributes\":{},\"id\":\"6213\",\"type\":\"Selection\"},{\"attributes\":{\"source\":{\"id\":\"5887\",\"type\":\"ColumnDataSource\"}},\"id\":\"5891\",\"type\":\"CDSView\"},{\"attributes\":{\"callback\":null,\"data\":{\"x\":{\"__ndarray__\":\"AAAAAAAAAAB/pUCtXykgQH+lQK1fKTBAPvjggw8+OEB/pUCtXylAQN/OkJi3M0RAPvjggw8+SECeITFvZ0hMQH+lQK1fKVBAL7rooosuUkDfzpCYtzNUQI/jOI7jOFZAPvjggw8+WEDuDIl5O0NaQJ4hMW9nSFxATjbZZJNNXkB/pUCtXylgQNevFKj1K2FAL7rooosuYkCHxLydITFjQN/OkJi3M2RAN9lkk002ZUCP4ziO4zhmQOftDIl5O2dAPvjggw8+aECWArV+pUBpQO4MiXk7Q2pARhdddNFFa0CeITFvZ0hsQPYrBWr9Sm1ATjbZZJNNbkCmQK1fKVBvQH+lQK1fKXBAq6qqqqqqcEDXrxSo9StxQAO1fqVArXFAL7rooosuckBbv1Kg1q9yQIfEvJ0hMXNAs8kmm2yyc0DfzpCYtzN0QAvU+pUCtXRAN9lkk002dUBj3s6QmLd1QI/jOI7jOHZAu+iiiy66dkDn7QyJeTt3QBPzdobEvHdAPvjggw8+eEBq/UqBWr94QJYCtX6lQHlAwgcffPDBeUDuDIl5O0N6QBoS83aGxHpARhdddNFFe0ByHMdxHMd7QJ4hMW9nSHxAyiabbLLJfED2KwVq/Up9QCIxb2dIzH1ATjbZZJNNfkB6O0Ni3s5+QKZArV8pUH9A0kUXXXTRf0B/pUCtXymAQBWo9SsFaoBAq6qqqqqqgEBBrV8pUOuAQNevFKj1K4FAbbLJJptsgUADtX6lQK2BQJm3MyTm7YFAL7rooosugkDFvJ0hMW+CQFu/UqDWr4JA8cEHH3zwgkCHxLydITGDQB3HcRzHcYNAs8kmm2yyg0BJzNsZEvODQN/OkJi3M4RAddFFF110hEAL1PqVArWEQKHWrxSo9YRAN9lkk002hUDN2xkS83aFQGPezpCYt4VA+eCDDz74hUCP4ziO4ziGQCXm7QyJeYZAu+iiiy66hkBR61cK1PqGQOftDIl5O4dAffDBBx98h0AT83aGxLyHQKn1KwVq/YdAPvjggw8+iEDU+pUCtX6IQGr9SoFav4hAAAAAAAAAiUA=\",\"dtype\":\"float64\",\"shape\":[100]},\"y\":{\"__ndarray__\":\"AAAAAAAAJEBT3VtTvP8jQI/pSGlA/CNAUY3qAUfvI0D2hqMJ/9EjQHGW/aTunyNAfPKbjdNYI0BU6piEdwAjQNyGk5HQnCJAuDUcxeczIkBQI6CUl8ohQEDxN501ZCFAQWw8ScICIUB1FhNhQqcgQIm0IHATUiBAECTHHSwDIEAnN0/AkHQfQCzu2hEM7h5A1ozcv+xxHkCrVmEeUf8dQHhN5hNflR1AXF76IEozHUCm3QAyVtgcQDsnF0TYgxxARDndCjY1HEDB80Ls5OsbQEul57xopxtA9ObIY1JnG0DURMmAPisbQLJjLyvU8hpAAHsmwcO9GkCZjvLgxYsaQJFWe3GaXBpABn2e0AcwGkB67vUT2gUaQNJIcGHi3RlAXMU6YPa3GUCgSQu175MZQJ44HJKrcRlADud5VgpRGUC5G6sz7zEZQFC3zeE/FBlAxe28X+T3GECDidaxxtwYQN4W87DSwhhAfmv62vWpGEBX+4gpH5IYQM8OsO0+exhAFvDrrkZlGEAETI0OKVAYQEC/Eq7ZOxhAOJJmE00oGEClvvSheBUYQH6SYnRSAxhA4rMuW9HxF0A60LLG7OAXQMP+0Lyc0BdAe3AOytnAF0CWLdP4nLEXQIgtacXfohdA5XSYFpyUF0AU9ps0zIYXQIressFqeRdAo2+1s3JsF0AVTGNN318XQDFYNBmsUxdAgb/+49RHF0DG+Ta3VTwXQDHBgdgqMRdAG6ZqvFAmF0A5UsISxBsXQFBOqrCBERdAWEYBm4YHF0B2mOL9z/0WQCvBPCxb9BZA0jCcmiXrFkDz+yzfLOIWQM97k69u2RZA0nQX3ujQFkDOvKdYmcgWQB7yliZ+wBZANu9cZ5W4FkB3oC1R3bAWQLPWli9UqRZAVXBDYvihFkDYEe1byJoWQBjUN6HCkxZAhLSZx+WMFkBOR6p0MIYWQDcK51yhfxZAVpV7Qzd5FkCqI3H48HIWQBi4KFrNbBZAJX4cUMtmFkAub+rQ6WAWQGOxaNwnWxZAKwUre4RVFkAPa5/D/k8WQP/9BtKVShZAKNRAzEhFFkA=\",\"dtype\":\"float64\",\"shape\":[100]}},\"selected\":{\"id\":\"5928\",\"type\":\"Selection\"},\"selection_policy\":{\"id\":\"5927\",\"type\":\"UnionRenderers\"}},\"id\":\"5900\",\"type\":\"ColumnDataSource\"},{\"attributes\":{},\"id\":\"5966\",\"type\":\"Selection\"},{\"attributes\":{\"label\":{\"value\":\"inside_H\"},\"renderers\":[{\"id\":\"5917\",\"type\":\"GlyphRenderer\"}]},\"id\":\"5929\",\"type\":\"LegendItem\"},{\"attributes\":{\"line_alpha\":0.1,\"line_color\":\"#1f77b4\",\"line_width\":2,\"x\":{\"field\":\"x\"},\"y\":{\"field\":\"y\"}},\"id\":\"5932\",\"type\":\"Line\"},{\"attributes\":{},\"id\":\"5911\",\"type\":\"UnionRenderers\"},{\"attributes\":{},\"id\":\"5945\",\"type\":\"UnionRenderers\"},{\"attributes\":{\"line_color\":\"#1f77b3\",\"line_width\":2,\"x\":{\"field\":\"x\"},\"y\":{\"field\":\"y\"}},\"id\":\"5888\",\"type\":\"Line\"},{\"attributes\":{},\"id\":\"5912\",\"type\":\"Selection\"},{\"attributes\":{\"line_color\":\"#ff7e0e\",\"line_width\":2,\"x\":{\"field\":\"x\"},\"y\":{\"field\":\"y\"}},\"id\":\"5901\",\"type\":\"Line\"},{\"attributes\":{\"click_policy\":\"hide\",\"items\":[{\"id\":\"5899\",\"type\":\"LegendItem\"},{\"id\":\"5913\",\"type\":\"LegendItem\"},{\"id\":\"5929\",\"type\":\"LegendItem\"},{\"id\":\"5947\",\"type\":\"LegendItem\"},{\"id\":\"5967\",\"type\":\"LegendItem\"}],\"location\":\"center_right\"},\"id\":\"5898\",\"type\":\"Legend\"},{\"attributes\":{},\"id\":\"5928\",\"type\":\"Selection\"},{\"attributes\":{\"data_source\":{\"id\":\"5948\",\"type\":\"ColumnDataSource\"},\"glyph\":{\"id\":\"5949\",\"type\":\"Line\"},\"hover_glyph\":null,\"muted_glyph\":null,\"nonselection_glyph\":{\"id\":\"5950\",\"type\":\"Line\"},\"selection_glyph\":null,\"view\":{\"id\":\"5952\",\"type\":\"CDSView\"}},\"id\":\"5951\",\"type\":\"GlyphRenderer\"},{\"attributes\":{},\"id\":\"5874\",\"type\":\"PanTool\"}],\"root_ids\":[\"5853\"]},\"title\":\"Bokeh Application\",\"version\":\"1.4.0\"}};\n",
       "  var render_items = [{\"docid\":\"22c3f773-f185-413b-90c1-2ed5e1ca0144\",\"roots\":{\"5853\":\"5f170ea0-6c02-4865-81df-c09da5feec93\"}}];\n",
       "  root.Bokeh.embed.embed_items_notebook(docs_json, render_items);\n",
       "\n",
       "  }\n",
       "  if (root.Bokeh !== undefined) {\n",
       "    embed_document(root);\n",
       "  } else {\n",
       "    var attempts = 0;\n",
       "    var timer = setInterval(function(root) {\n",
       "      if (root.Bokeh !== undefined) {\n",
       "        clearInterval(timer);\n",
       "        embed_document(root);\n",
       "      } else {\n",
       "        attempts++;\n",
       "        if (attempts > 100) {\n",
       "          clearInterval(timer);\n",
       "          console.log(\"Bokeh: ERROR: Unable to run BokehJS code because BokehJS library is missing\");\n",
       "        }\n",
       "      }\n",
       "    }, 10, root)\n",
       "  }\n",
       "})(window);"
      ],
      "application/vnd.bokehjs_exec.v0+json": ""
     },
     "metadata": {
      "application/vnd.bokehjs_exec.v0+json": {
       "id": "5853"
      }
     },
     "output_type": "display_data"
    }
   ],
   "source": [
    "#plt_timepoints = timepoints/60\n",
    "\n",
    "p4 = bokeh.plotting.figure(width = 450, height = 350, title = 'with ATP Synthase, Proton Pump, ATP Use',\n",
    "                          x_axis_label = 'time (sec)',\n",
    "                          y_axis_label = 'concentration (nM)')\n",
    "plot_list = [ATP_id_100, outside_H_id, inside_H_id, atp_synthase_b_protein_id_100, proton_pump_b_protein_id_100]\n",
    "plot_str = ['atp', 'outside_H', 'inside_H', 'bound atp synthase', 'bound proton pump']\n",
    "for i,item in enumerate(plot_list):\n",
    "    p4.line(timepoints, results_100[item], line_width = 2, legend_label = plot_str[i], color = palette[i])\n",
    "#p3.line(plt_timepoints, results_everything[ATP_id3])\n",
    "p4.legend.click_policy = 'hide'\n",
    "p4.legend.location = 'center_right'\n",
    "\n",
    "bokeh.io.show(p4)\n",
    "\n",
    "\n"
   ]
  },
  {
   "cell_type": "markdown",
   "metadata": {},
   "source": [
    "## Compare at whatever param value you had before \n",
    "---"
   ]
  },
  {
   "cell_type": "code",
   "execution_count": 75,
   "metadata": {},
   "outputs": [],
   "source": [
    "#ss5_pp_txtl = createSubsystem('proton_pump_tx_tl.xml', subsystemName = 'pp_txtl')\n",
    "# atp synthase models\n",
    "ss1_atpsyn_txtl = createSubsystem('atpsynthase_machinery_txtl.xml', subsystemName = 'atpsyn_txtl')\n",
    "ss2_atpsyn_mi = createSubsystem('atpsynthase_membrane_integration.xml', subsystemName = 'atpsyn_mi')\n",
    "ss3_atpsynthesis = createSubsystem('atp_synthesis_through_atpsynthase.xml', subsystemName = 'atpsynthesis')\n",
    "ss4_atp_use = createSubsystem('atp_50_use.xml', subsystemName = 'atp_use')\n",
    "ss5_pp_txtl = createSubsystem('proton_pump_machinery_txtl.xml', subsystemName = 'pp_txtl')\n",
    "ss6_pp_mi = createSubsystem('proton_pump_membrane_integration.xml', subsystemName = 'pp_mi')\n",
    "ss7_protontransport = createSubsystem('proton_transport_through_proton_pump.xml', subsystemName = 'protontransport')"
   ]
  },
  {
   "cell_type": "code",
   "execution_count": 76,
   "metadata": {},
   "outputs": [],
   "source": [
    "entire_subsystem = ss1_atpsyn_txtl + ss2_atpsyn_mi + ss3_atpsynthesis + ss4_atp_use + ss5_pp_txtl + ss6_pp_mi + ss7_protontransport"
   ]
  },
  {
   "cell_type": "code",
   "execution_count": 77,
   "metadata": {},
   "outputs": [],
   "source": [
    "# Initial conditions\n",
    "spec_list_10 = ['dna_proton_pump', 'dna_atpsyn','proton_outside_H', 'metabolite_atp']\n",
    "for i,spec in enumerate(spec_list_10):\n",
    "    entire_subsystem.setSpeciesAmount(spec,10)\n",
    "    \n",
    "x0_list_mach = ['protein_RNAP_machinery',\n",
    "          'protein_Ribo_machinery','protein_RNAse_machinery']\n",
    "for i,spec in enumerate(x0_list_mach):\n",
    "    entire_subsystem.setSpeciesAmount(spec,20)\n",
    "\n",
    "\n",
    "# timepoints and get results\n",
    "# timepoints = np.linspace(0,10,100)\n",
    "# results, _ = entire_subsystem.simulateWithBioscrape(timepoints, sbml_warnings = False)\n",
    "\n",
    "# Get species IDs\n",
    "ATP_id_orig = entire_subsystem.getSpeciesByName('metabolite_atp').getId()\n",
    "ADP_id = entire_subsystem.getSpeciesByName('metabolite_adp').getId()\n",
    "\n",
    "outside_H_id = entire_subsystem.getSpeciesByName('proton_outside_H').getId()\n",
    "inside_H_id = entire_subsystem.getSpeciesByName('proton_inside_H').getId()\n",
    "\n",
    "proton_pump_b_protein_id_orig = entire_subsystem.getSpeciesByName('protein_proton_pump_b').getId()\n",
    "proton_pump_f_protein_id = entire_subsystem.getSpeciesByName('protein_proton_pump').getId()\n",
    "\n",
    "atp_synthase_b_protein_id_orig = entire_subsystem.getSpeciesByName('protein_atpsyn_b').getId()\n",
    "atp_synthase_f_protein_id = entire_subsystem.getSpeciesByName('protein_atpsyn').getId()\n",
    "\n"
   ]
  },
  {
   "cell_type": "code",
   "execution_count": 78,
   "metadata": {},
   "outputs": [],
   "source": [
    "timepoints = np.linspace(0,800,100)\n",
    "results_original, _ = entire_subsystem.simulateWithBioscrape(timepoints, sbml_warnings = False)"
   ]
  },
  {
   "cell_type": "code",
   "execution_count": 79,
   "metadata": {},
   "outputs": [
    {
     "data": {
      "text/html": [
       "\n",
       "\n",
       "\n",
       "\n",
       "\n",
       "\n",
       "  <div class=\"bk-root\" id=\"dd0115d3-e781-4520-9549-e828660e0bcc\" data-root-id=\"6310\"></div>\n"
      ]
     },
     "metadata": {},
     "output_type": "display_data"
    },
    {
     "data": {
      "application/javascript": [
       "(function(root) {\n",
       "  function embed_document(root) {\n",
       "    \n",
       "  var docs_json = {\"d0d55e0d-ff3f-4cff-a52f-b54a76b579e2\":{\"roots\":{\"references\":[{\"attributes\":{\"below\":[{\"id\":\"6321\",\"type\":\"LinearAxis\"}],\"center\":[{\"id\":\"6325\",\"type\":\"Grid\"},{\"id\":\"6330\",\"type\":\"Grid\"},{\"id\":\"6355\",\"type\":\"Legend\"}],\"left\":[{\"id\":\"6326\",\"type\":\"LinearAxis\"}],\"plot_height\":350,\"plot_width\":450,\"renderers\":[{\"id\":\"6347\",\"type\":\"GlyphRenderer\"},{\"id\":\"6360\",\"type\":\"GlyphRenderer\"},{\"id\":\"6374\",\"type\":\"GlyphRenderer\"},{\"id\":\"6390\",\"type\":\"GlyphRenderer\"},{\"id\":\"6408\",\"type\":\"GlyphRenderer\"}],\"title\":{\"id\":\"6311\",\"type\":\"Title\"},\"toolbar\":{\"id\":\"6337\",\"type\":\"Toolbar\"},\"x_range\":{\"id\":\"6313\",\"type\":\"DataRange1d\"},\"x_scale\":{\"id\":\"6317\",\"type\":\"LinearScale\"},\"y_range\":{\"id\":\"6315\",\"type\":\"DataRange1d\"},\"y_scale\":{\"id\":\"6319\",\"type\":\"LinearScale\"}},\"id\":\"6310\",\"subtype\":\"Figure\",\"type\":\"Plot\"},{\"attributes\":{\"line_alpha\":0.1,\"line_color\":\"#1f77b4\",\"line_width\":2,\"x\":{\"field\":\"x\"},\"y\":{\"field\":\"y\"}},\"id\":\"6373\",\"type\":\"Line\"},{\"attributes\":{},\"id\":\"6319\",\"type\":\"LinearScale\"},{\"attributes\":{},\"id\":\"6332\",\"type\":\"WheelZoomTool\"},{\"attributes\":{\"label\":{\"value\":\"atp\"},\"renderers\":[{\"id\":\"6347\",\"type\":\"GlyphRenderer\"}]},\"id\":\"6356\",\"type\":\"LegendItem\"},{\"attributes\":{\"overlay\":{\"id\":\"6354\",\"type\":\"BoxAnnotation\"}},\"id\":\"6333\",\"type\":\"BoxZoomTool\"},{\"attributes\":{\"line_color\":\"#1f77b3\",\"line_width\":2,\"x\":{\"field\":\"x\"},\"y\":{\"field\":\"y\"}},\"id\":\"6345\",\"type\":\"Line\"},{\"attributes\":{},\"id\":\"6686\",\"type\":\"Selection\"},{\"attributes\":{\"text\":\"with ATP Synthase, Proton Pump, ATP Use\"},\"id\":\"6311\",\"type\":\"Title\"},{\"attributes\":{},\"id\":\"6403\",\"type\":\"Selection\"},{\"attributes\":{\"click_policy\":\"hide\",\"items\":[{\"id\":\"6356\",\"type\":\"LegendItem\"},{\"id\":\"6370\",\"type\":\"LegendItem\"},{\"id\":\"6386\",\"type\":\"LegendItem\"},{\"id\":\"6404\",\"type\":\"LegendItem\"},{\"id\":\"6424\",\"type\":\"LegendItem\"}],\"location\":\"center_right\"},\"id\":\"6355\",\"type\":\"Legend\"},{\"attributes\":{},\"id\":\"6322\",\"type\":\"BasicTicker\"},{\"attributes\":{\"label\":{\"value\":\"bound atp synthase\"},\"renderers\":[{\"id\":\"6390\",\"type\":\"GlyphRenderer\"}]},\"id\":\"6404\",\"type\":\"LegendItem\"},{\"attributes\":{\"line_alpha\":0.1,\"line_color\":\"#1f77b4\",\"line_width\":2,\"x\":{\"field\":\"x\"},\"y\":{\"field\":\"y\"}},\"id\":\"6389\",\"type\":\"Line\"},{\"attributes\":{\"axis_label\":\"concentration (nM)\",\"formatter\":{\"id\":\"6353\",\"type\":\"BasicTickFormatter\"},\"ticker\":{\"id\":\"6327\",\"type\":\"BasicTicker\"}},\"id\":\"6326\",\"type\":\"LinearAxis\"},{\"attributes\":{\"source\":{\"id\":\"6371\",\"type\":\"ColumnDataSource\"}},\"id\":\"6375\",\"type\":\"CDSView\"},{\"attributes\":{\"line_color\":\"#8c564b\",\"line_width\":2,\"x\":{\"field\":\"x\"},\"y\":{\"field\":\"y\"}},\"id\":\"6406\",\"type\":\"Line\"},{\"attributes\":{\"source\":{\"id\":\"6357\",\"type\":\"ColumnDataSource\"}},\"id\":\"6361\",\"type\":\"CDSView\"},{\"attributes\":{},\"id\":\"6685\",\"type\":\"UnionRenderers\"},{\"attributes\":{\"axis_label\":\"time\",\"formatter\":{\"id\":\"6351\",\"type\":\"BasicTickFormatter\"},\"ticker\":{\"id\":\"6322\",\"type\":\"BasicTicker\"}},\"id\":\"6321\",\"type\":\"LinearAxis\"},{\"attributes\":{},\"id\":\"6335\",\"type\":\"ResetTool\"},{\"attributes\":{},\"id\":\"6369\",\"type\":\"Selection\"},{\"attributes\":{},\"id\":\"6402\",\"type\":\"UnionRenderers\"},{\"attributes\":{},\"id\":\"6334\",\"type\":\"SaveTool\"},{\"attributes\":{\"callback\":null,\"data\":{\"x\":{\"__ndarray__\":\"AAAAAAAAAAB/pUCtXykgQH+lQK1fKTBAPvjggw8+OEB/pUCtXylAQN/OkJi3M0RAPvjggw8+SECeITFvZ0hMQH+lQK1fKVBAL7rooosuUkDfzpCYtzNUQI/jOI7jOFZAPvjggw8+WEDuDIl5O0NaQJ4hMW9nSFxATjbZZJNNXkB/pUCtXylgQNevFKj1K2FAL7rooosuYkCHxLydITFjQN/OkJi3M2RAN9lkk002ZUCP4ziO4zhmQOftDIl5O2dAPvjggw8+aECWArV+pUBpQO4MiXk7Q2pARhdddNFFa0CeITFvZ0hsQPYrBWr9Sm1ATjbZZJNNbkCmQK1fKVBvQH+lQK1fKXBAq6qqqqqqcEDXrxSo9StxQAO1fqVArXFAL7rooosuckBbv1Kg1q9yQIfEvJ0hMXNAs8kmm2yyc0DfzpCYtzN0QAvU+pUCtXRAN9lkk002dUBj3s6QmLd1QI/jOI7jOHZAu+iiiy66dkDn7QyJeTt3QBPzdobEvHdAPvjggw8+eEBq/UqBWr94QJYCtX6lQHlAwgcffPDBeUDuDIl5O0N6QBoS83aGxHpARhdddNFFe0ByHMdxHMd7QJ4hMW9nSHxAyiabbLLJfED2KwVq/Up9QCIxb2dIzH1ATjbZZJNNfkB6O0Ni3s5+QKZArV8pUH9A0kUXXXTRf0B/pUCtXymAQBWo9SsFaoBAq6qqqqqqgEBBrV8pUOuAQNevFKj1K4FAbbLJJptsgUADtX6lQK2BQJm3MyTm7YFAL7rooosugkDFvJ0hMW+CQFu/UqDWr4JA8cEHH3zwgkCHxLydITGDQB3HcRzHcYNAs8kmm2yyg0BJzNsZEvODQN/OkJi3M4RAddFFF110hEAL1PqVArWEQKHWrxSo9YRAN9lkk002hUDN2xkS83aFQGPezpCYt4VA+eCDDz74hUCP4ziO4ziGQCXm7QyJeYZAu+iiiy66hkBR61cK1PqGQOftDIl5O4dAffDBBx98h0AT83aGxLyHQKn1KwVq/YdAPvjggw8+iEDU+pUCtX6IQGr9SoFav4hAAAAAAAAAiUA=\",\"dtype\":\"float64\",\"shape\":[100]},\"y\":{\"__ndarray__\":\"AAAAAAAAJEBfd82rQNbfP/Ce0hdqUQFAnMsdHRvqDUCCDICd6oQTQPKza+LNwxZAbdiKjBUjGUCYJtpWSe0aQK8DTbYiURxAgS5Rj25sHUCUZc0hxFIeQMetadpsER9AgG8lDK+xH0CZHke5Fx0gQKXujTLmVyBABZdKAxWLIECsvhgIB7ggQP8pVNjO3yBAfNchAkQDIUA/E/XvESMhQOruWZHCPyFA3FYAFcZZIUBxMqmbeHEhQObskX0mhyFAjJFPgw+bIUD8mmxeaa0hQD0o8pNhviFAc6Mh+x7OIUDho8fqwtwhQMrl3ytq6iFAHKJpuC33IUCiBoBYIwMiQIqOsCFeDiJArQqz3u4YIkCDT6Bi5CIiQDJX/NZLLCJAT/HX7zA1IkB7zFQhnj0iQPcLvcicRSJAbpZdUDVNIkDLkSxNb1QiQFsNJJlRWyJACpgIaeJhIkBqNpRfJ2giQK+t650lbiJA8erf0eFzIkD9+ztCYHkiQHqS9NmkfiJAl88JMbODIkCO4oKVjogiQC5P0xE6jSJAORZpdbiRIkAtKU9XDJYiQAy/wx04miJAHbnbAT6eIkDdLYATIKIiQKd9Kj3gpSJArEYlR4CpIkAg/UHaAa0iQMtT+YJmsCJAfPwPs6+zIkD2rzvE3rYiQO8q5fn0uSJAu6z2gvO8IkA28i57278iQAFe1uytwiJAU1EC02vFIkDwJNoXFsgiQEziAJmtyiJAAjTQJjPNIkCCVqaFp88iQIhVtG4L0iJAYUrVkF/UIkDvWg+RpNYiQLsjtAvb2CJAhDRYlAPbIkB2ctG2Ht0iQNU5ofcs3yJALJtf1C7hIkAz7THEJOMiQJTJRzgP5SJAaQHQm+7mIkCg9HVVw+giQADt+MWN6iJA9TXlSU7sIkAifFI5Be4iQOUrK+iy7yJAi79gplfxIkC7xVHA8/IiQABc1X6H9CJAPkJ8JxP2IkBVzL/8lvciQI/qHz4T+SJAxHSqKIj6IkCjwwj29fsiQLXSfd5c/SJAxjwcF73+IkB0RCfTFgAjQAOGoENqASNAmYqql7cCI0A=\",\"dtype\":\"float64\",\"shape\":[100]}},\"selected\":{\"id\":\"6369\",\"type\":\"Selection\"},\"selection_policy\":{\"id\":\"6368\",\"type\":\"UnionRenderers\"}},\"id\":\"6344\",\"type\":\"ColumnDataSource\"},{\"attributes\":{\"active_drag\":\"auto\",\"active_inspect\":\"auto\",\"active_multi\":null,\"active_scroll\":\"auto\",\"active_tap\":\"auto\",\"tools\":[{\"id\":\"6331\",\"type\":\"PanTool\"},{\"id\":\"6332\",\"type\":\"WheelZoomTool\"},{\"id\":\"6333\",\"type\":\"BoxZoomTool\"},{\"id\":\"6334\",\"type\":\"SaveTool\"},{\"id\":\"6335\",\"type\":\"ResetTool\"},{\"id\":\"6336\",\"type\":\"HelpTool\"}]},\"id\":\"6337\",\"type\":\"Toolbar\"},{\"attributes\":{\"callback\":null},\"id\":\"6313\",\"type\":\"DataRange1d\"},{\"attributes\":{\"callback\":null},\"id\":\"6315\",\"type\":\"DataRange1d\"},{\"attributes\":{\"callback\":null,\"data\":{\"x\":{\"__ndarray__\":\"AAAAAAAAAAB/pUCtXykgQH+lQK1fKTBAPvjggw8+OEB/pUCtXylAQN/OkJi3M0RAPvjggw8+SECeITFvZ0hMQH+lQK1fKVBAL7rooosuUkDfzpCYtzNUQI/jOI7jOFZAPvjggw8+WEDuDIl5O0NaQJ4hMW9nSFxATjbZZJNNXkB/pUCtXylgQNevFKj1K2FAL7rooosuYkCHxLydITFjQN/OkJi3M2RAN9lkk002ZUCP4ziO4zhmQOftDIl5O2dAPvjggw8+aECWArV+pUBpQO4MiXk7Q2pARhdddNFFa0CeITFvZ0hsQPYrBWr9Sm1ATjbZZJNNbkCmQK1fKVBvQH+lQK1fKXBAq6qqqqqqcEDXrxSo9StxQAO1fqVArXFAL7rooosuckBbv1Kg1q9yQIfEvJ0hMXNAs8kmm2yyc0DfzpCYtzN0QAvU+pUCtXRAN9lkk002dUBj3s6QmLd1QI/jOI7jOHZAu+iiiy66dkDn7QyJeTt3QBPzdobEvHdAPvjggw8+eEBq/UqBWr94QJYCtX6lQHlAwgcffPDBeUDuDIl5O0N6QBoS83aGxHpARhdddNFFe0ByHMdxHMd7QJ4hMW9nSHxAyiabbLLJfED2KwVq/Up9QCIxb2dIzH1ATjbZZJNNfkB6O0Ni3s5+QKZArV8pUH9A0kUXXXTRf0B/pUCtXymAQBWo9SsFaoBAq6qqqqqqgEBBrV8pUOuAQNevFKj1K4FAbbLJJptsgUADtX6lQK2BQJm3MyTm7YFAL7rooosugkDFvJ0hMW+CQFu/UqDWr4JA8cEHH3zwgkCHxLydITGDQB3HcRzHcYNAs8kmm2yyg0BJzNsZEvODQN/OkJi3M4RAddFFF110hEAL1PqVArWEQKHWrxSo9YRAN9lkk002hUDN2xkS83aFQGPezpCYt4VA+eCDDz74hUCP4ziO4ziGQCXm7QyJeYZAu+iiiy66hkBR61cK1PqGQOftDIl5O4dAffDBBx98h0AT83aGxLyHQKn1KwVq/YdAPvjggw8+iEDU+pUCtX6IQGr9SoFav4hAAAAAAAAAiUA=\",\"dtype\":\"float64\",\"shape\":[100]},\"y\":{\"__ndarray__\":\"AAAAAAAAJEBi3vL7838jQK2YzZ7X1CFA3ebcIf1BIECng4XJezweQIHYEPxVnRxASSFkN+RtG0CCyM0u7IgaQP75zyUX1xlAzolDQoJJGUDDdwsWZNYYQCPPjEoZdxhALIndmf8mGEDvojY/xeIXQHR6BXX7pxdA+Kl+c9B0F0DJ146R4UcXQCkq/V0cIBdALB+vZqn8FkCaL3hW3dwWQLVd/00uwBZALuvmKiymFkCGmJrWeo4WQGBZawDOeBZA6H8I5uVkFkCNCu3ajFIWQPMTLF6VQRZAmaLYm9gxFkAKat4/NSMWQEJxloOOFRZAeEH8bssIFkBHpYo71vwVQDd5GNWb8RVAMBAHcgvnFUDStGtAFt0VQK+HdBev0xVAFSrdQ8rKFUABrSlSXcIVQAhGoOVeuhVATEBxlMayFUD8HxbKjKsVQPki9qyqpBVAd9ChCBqeFUDaR6w61ZcVQJPfMyLXkRVAXyikERuMFUASbmjCnIYVQCBLu0lYgRVAfBHJD0p8FUASsLDGbncVQLifJmTDchVAYrvRGEVuFUBiBs5N8WkVQHUb9JzFZRVAqRNHzb9hFUCuhfPO3V0VQFP6k7cdWhVApvjvvn1WFUAff0Y8/FIVQCkELqOXTxVAy7TwgU5MFUDmeOR+H0kVQP1KrVYJRhVA+Tdr2gpDFUAwmmruIkAVQIoCbYhQPRVAFHdfrZI6FUDJeCxz6DcVQPIGMvxQNRVAwvIeeMsyFUAUTJsiVzAVQOoQfELzLRVAIK/rKJ8rFUCsROkwWikVQCaVJ74jJxVAZYMXPfskFUBxkOYh4CIVQFaPF+jRIBVAYjsWEtAeFUC7mMAo2hwVQBsc6rrvGhVAvA9oXRAZFUDTno+pOxcVQCWNpj5xFRVAHwIiwLATFUCPsezV+REVQAqyHixMEBVAG4zIcqcOFUB1cY1dCw0VQFZtmKN3CxVA9mZa/+sJFUCCuFsuaAgVQJ5KHfHrBhVApuiVCncFFUCBIRhBCQQVQIeJZlyiAhVA4iZvJ0IBFUARqe5u6P8UQGKu5QGV/hRActgxsUf9FEA=\",\"dtype\":\"float64\",\"shape\":[100]}},\"selected\":{\"id\":\"6385\",\"type\":\"Selection\"},\"selection_policy\":{\"id\":\"6384\",\"type\":\"UnionRenderers\"}},\"id\":\"6357\",\"type\":\"ColumnDataSource\"},{\"attributes\":{\"line_alpha\":0.1,\"line_color\":\"#1f77b4\",\"line_width\":2,\"x\":{\"field\":\"x\"},\"y\":{\"field\":\"y\"}},\"id\":\"6407\",\"type\":\"Line\"},{\"attributes\":{\"data_source\":{\"id\":\"6405\",\"type\":\"ColumnDataSource\"},\"glyph\":{\"id\":\"6406\",\"type\":\"Line\"},\"hover_glyph\":null,\"muted_glyph\":null,\"nonselection_glyph\":{\"id\":\"6407\",\"type\":\"Line\"},\"selection_glyph\":null,\"view\":{\"id\":\"6409\",\"type\":\"CDSView\"}},\"id\":\"6408\",\"type\":\"GlyphRenderer\"},{\"attributes\":{},\"id\":\"6331\",\"type\":\"PanTool\"},{\"attributes\":{\"source\":{\"id\":\"6344\",\"type\":\"ColumnDataSource\"}},\"id\":\"6348\",\"type\":\"CDSView\"},{\"attributes\":{\"source\":{\"id\":\"6405\",\"type\":\"ColumnDataSource\"}},\"id\":\"6409\",\"type\":\"CDSView\"},{\"attributes\":{},\"id\":\"6351\",\"type\":\"BasicTickFormatter\"},{\"attributes\":{},\"id\":\"6422\",\"type\":\"UnionRenderers\"},{\"attributes\":{\"dimension\":1,\"ticker\":{\"id\":\"6327\",\"type\":\"BasicTicker\"}},\"id\":\"6330\",\"type\":\"Grid\"},{\"attributes\":{},\"id\":\"6336\",\"type\":\"HelpTool\"},{\"attributes\":{\"label\":{\"value\":\"bound proton pump\"},\"renderers\":[{\"id\":\"6408\",\"type\":\"GlyphRenderer\"}]},\"id\":\"6424\",\"type\":\"LegendItem\"},{\"attributes\":{\"line_alpha\":0.1,\"line_color\":\"#1f77b4\",\"line_width\":2,\"x\":{\"field\":\"x\"},\"y\":{\"field\":\"y\"}},\"id\":\"6359\",\"type\":\"Line\"},{\"attributes\":{},\"id\":\"6317\",\"type\":\"LinearScale\"},{\"attributes\":{},\"id\":\"6423\",\"type\":\"Selection\"},{\"attributes\":{\"data_source\":{\"id\":\"6357\",\"type\":\"ColumnDataSource\"},\"glyph\":{\"id\":\"6358\",\"type\":\"Line\"},\"hover_glyph\":null,\"muted_glyph\":null,\"nonselection_glyph\":{\"id\":\"6359\",\"type\":\"Line\"},\"selection_glyph\":null,\"view\":{\"id\":\"6361\",\"type\":\"CDSView\"}},\"id\":\"6360\",\"type\":\"GlyphRenderer\"},{\"attributes\":{\"data_source\":{\"id\":\"6371\",\"type\":\"ColumnDataSource\"},\"glyph\":{\"id\":\"6372\",\"type\":\"Line\"},\"hover_glyph\":null,\"muted_glyph\":null,\"nonselection_glyph\":{\"id\":\"6373\",\"type\":\"Line\"},\"selection_glyph\":null,\"view\":{\"id\":\"6375\",\"type\":\"CDSView\"}},\"id\":\"6374\",\"type\":\"GlyphRenderer\"},{\"attributes\":{\"bottom_units\":\"screen\",\"fill_alpha\":{\"value\":0.5},\"fill_color\":{\"value\":\"lightgrey\"},\"left_units\":\"screen\",\"level\":\"overlay\",\"line_alpha\":{\"value\":1.0},\"line_color\":{\"value\":\"black\"},\"line_dash\":[4,4],\"line_width\":{\"value\":2},\"render_mode\":\"css\",\"right_units\":\"screen\",\"top_units\":\"screen\"},\"id\":\"6354\",\"type\":\"BoxAnnotation\"},{\"attributes\":{\"callback\":null,\"data\":{\"x\":{\"__ndarray__\":\"AAAAAAAAAAB/pUCtXykgQH+lQK1fKTBAPvjggw8+OEB/pUCtXylAQN/OkJi3M0RAPvjggw8+SECeITFvZ0hMQH+lQK1fKVBAL7rooosuUkDfzpCYtzNUQI/jOI7jOFZAPvjggw8+WEDuDIl5O0NaQJ4hMW9nSFxATjbZZJNNXkB/pUCtXylgQNevFKj1K2FAL7rooosuYkCHxLydITFjQN/OkJi3M2RAN9lkk002ZUCP4ziO4zhmQOftDIl5O2dAPvjggw8+aECWArV+pUBpQO4MiXk7Q2pARhdddNFFa0CeITFvZ0hsQPYrBWr9Sm1ATjbZZJNNbkCmQK1fKVBvQH+lQK1fKXBAq6qqqqqqcEDXrxSo9StxQAO1fqVArXFAL7rooosuckBbv1Kg1q9yQIfEvJ0hMXNAs8kmm2yyc0DfzpCYtzN0QAvU+pUCtXRAN9lkk002dUBj3s6QmLd1QI/jOI7jOHZAu+iiiy66dkDn7QyJeTt3QBPzdobEvHdAPvjggw8+eEBq/UqBWr94QJYCtX6lQHlAwgcffPDBeUDuDIl5O0N6QBoS83aGxHpARhdddNFFe0ByHMdxHMd7QJ4hMW9nSHxAyiabbLLJfED2KwVq/Up9QCIxb2dIzH1ATjbZZJNNfkB6O0Ni3s5+QKZArV8pUH9A0kUXXXTRf0B/pUCtXymAQBWo9SsFaoBAq6qqqqqqgEBBrV8pUOuAQNevFKj1K4FAbbLJJptsgUADtX6lQK2BQJm3MyTm7YFAL7rooosugkDFvJ0hMW+CQFu/UqDWr4JA8cEHH3zwgkCHxLydITGDQB3HcRzHcYNAs8kmm2yyg0BJzNsZEvODQN/OkJi3M4RAddFFF110hEAL1PqVArWEQKHWrxSo9YRAN9lkk002hUDN2xkS83aFQGPezpCYt4VA+eCDDz74hUCP4ziO4ziGQCXm7QyJeYZAu+iiiy66hkBR61cK1PqGQOftDIl5O4dAffDBBx98h0AT83aGxLyHQKn1KwVq/YdAPvjggw8+iEDU+pUCtX6IQGr9SoFav4hAAAAAAAAAiUA=\",\"dtype\":\"float64\",\"shape\":[100]},\"y\":{\"__ndarray__\":\"AAAAAAAAAACDSEO+jqEyP3LlP4qDO2A/l+rA1XoOeD8hcjkpLzqJP1G1zjhV8pU/M7qfkeH+oD8df1ib8VKoPzA6YV+5cbA/PHGDohhOtT+cPp4kMLS6Pz9qyzrlTMA/4trdA5R6wz/tOU2NkN7GP7MgpjWZdMo/7TaTtL44zj8q90RasBPRPwHjoFGUHtM/w3cW5oE71T9Z24erDmnXPwnzf0Lspdk/D55HruXw2z87bFXq3EjeP3lM42BkVuA/uXAgc9mN4T+s8WYgW8riP0Sh/bl+C+Q/AAsnyOBQ5T9Oa1Z2JJrmP+TjMBHz5uc/NXX1k/s26T/tPnBB8onqPy/3l0eQ3+s/vZmRbJM37T/uML3FvZHuP/LB5HDV7e8/tsZALNKl8D8iPtD7e1XxP3thNpPQBfI/VvYw9Lm28j9e2f6dI2jzP6Avfnj6GfQ/VdTbvyzM9D9DIoHwqX71P7zpt7RiMfY/YA5z00jk9j8Sl5IfT5f3PwU95mdpSvg/OFANaIz9+D/LRgu6rbD5P/D9gcjDY/o/8LeIwcUW+z8/jC+Kq8n7P9JXWrFtfPw/uhlIZwUv/T/rgWlvbOH9P97hHRidk/4/+1w2MJJF/z+5wn/+Rvf/PwsDBJxbVABAWcmye++sAEBFv/taXQUBQJj2eaKjXQFAiQYG48C1AUAzL1jSsw0CQLtE8kd7ZQJAuvSLOha9AkCIfHi9gxQDQFPcCP7CawNAg7hVQdPCA0BYPUfisxkEQBO0jE9kcARAoGWoCeTGBEBJc7OhMh0FQM4HZ7dPcwVAhruw9zrJBUCz3osb9B4GQP4d+OZ6dAZASAj0J8/JBkDSDGi18B4HQF5aGm7fcwdATpvzN5vIB0Dv/UD/Ix0IQPJR9LV5cQhAMHZmU5zFCEAO22bTixkJQBn1vTVIbQlAXIvifdHACUD4f8uyJxQKQFbjHd5KZwpAVkYBDDu6CkDnROpK+AwLQEziUauCXwtAWe1xP9qxC0DW2hAb/wMMQBMTVFPxVQxAQXqU/rCnDEB9oTc0PvkMQPgQjQyZSg1A5fexoMGbDUA=\",\"dtype\":\"float64\",\"shape\":[100]}},\"selected\":{\"id\":\"6686\",\"type\":\"Selection\"},\"selection_policy\":{\"id\":\"6685\",\"type\":\"UnionRenderers\"}},\"id\":\"6405\",\"type\":\"ColumnDataSource\"},{\"attributes\":{},\"id\":\"6384\",\"type\":\"UnionRenderers\"},{\"attributes\":{\"label\":{\"value\":\"inside_H\"},\"renderers\":[{\"id\":\"6374\",\"type\":\"GlyphRenderer\"}]},\"id\":\"6386\",\"type\":\"LegendItem\"},{\"attributes\":{\"line_color\":\"#2ba02b\",\"line_width\":2,\"x\":{\"field\":\"x\"},\"y\":{\"field\":\"y\"}},\"id\":\"6372\",\"type\":\"Line\"},{\"attributes\":{\"source\":{\"id\":\"6387\",\"type\":\"ColumnDataSource\"}},\"id\":\"6391\",\"type\":\"CDSView\"},{\"attributes\":{\"data_source\":{\"id\":\"6387\",\"type\":\"ColumnDataSource\"},\"glyph\":{\"id\":\"6388\",\"type\":\"Line\"},\"hover_glyph\":null,\"muted_glyph\":null,\"nonselection_glyph\":{\"id\":\"6389\",\"type\":\"Line\"},\"selection_glyph\":null,\"view\":{\"id\":\"6391\",\"type\":\"CDSView\"}},\"id\":\"6390\",\"type\":\"GlyphRenderer\"},{\"attributes\":{},\"id\":\"6353\",\"type\":\"BasicTickFormatter\"},{\"attributes\":{\"callback\":null,\"data\":{\"x\":{\"__ndarray__\":\"AAAAAAAAAAB/pUCtXykgQH+lQK1fKTBAPvjggw8+OEB/pUCtXylAQN/OkJi3M0RAPvjggw8+SECeITFvZ0hMQH+lQK1fKVBAL7rooosuUkDfzpCYtzNUQI/jOI7jOFZAPvjggw8+WEDuDIl5O0NaQJ4hMW9nSFxATjbZZJNNXkB/pUCtXylgQNevFKj1K2FAL7rooosuYkCHxLydITFjQN/OkJi3M2RAN9lkk002ZUCP4ziO4zhmQOftDIl5O2dAPvjggw8+aECWArV+pUBpQO4MiXk7Q2pARhdddNFFa0CeITFvZ0hsQPYrBWr9Sm1ATjbZZJNNbkCmQK1fKVBvQH+lQK1fKXBAq6qqqqqqcEDXrxSo9StxQAO1fqVArXFAL7rooosuckBbv1Kg1q9yQIfEvJ0hMXNAs8kmm2yyc0DfzpCYtzN0QAvU+pUCtXRAN9lkk002dUBj3s6QmLd1QI/jOI7jOHZAu+iiiy66dkDn7QyJeTt3QBPzdobEvHdAPvjggw8+eEBq/UqBWr94QJYCtX6lQHlAwgcffPDBeUDuDIl5O0N6QBoS83aGxHpARhdddNFFe0ByHMdxHMd7QJ4hMW9nSHxAyiabbLLJfED2KwVq/Up9QCIxb2dIzH1ATjbZZJNNfkB6O0Ni3s5+QKZArV8pUH9A0kUXXXTRf0B/pUCtXymAQBWo9SsFaoBAq6qqqqqqgEBBrV8pUOuAQNevFKj1K4FAbbLJJptsgUADtX6lQK2BQJm3MyTm7YFAL7rooosugkDFvJ0hMW+CQFu/UqDWr4JA8cEHH3zwgkCHxLydITGDQB3HcRzHcYNAs8kmm2yyg0BJzNsZEvODQN/OkJi3M4RAddFFF110hEAL1PqVArWEQKHWrxSo9YRAN9lkk002hUDN2xkS83aFQGPezpCYt4VA+eCDDz74hUCP4ziO4ziGQCXm7QyJeYZAu+iiiy66hkBR61cK1PqGQOftDIl5O4dAffDBBx98h0AT83aGxLyHQKn1KwVq/YdAPvjggw8+iEDU+pUCtX6IQGr9SoFav4hAAAAAAAAAiUA=\",\"dtype\":\"float64\",\"shape\":[100]},\"y\":{\"__ndarray__\":\"AAAAAAAAAAB+SEO+jqEyP2/lP4qDO2A/l+rA1XoOeD8hcjkpLzqJP1K1zjhV8pU/M7qfkeH+oD8cf1ib8VKoPzA6YV+5cbA/PHGDohhOtT+cPp4kMLS6Pz9qyzrlTMA/4drdA5R6wz/rOU2NkN7GP7EgpjWZdMo/6TaTtL44zj8n90RasBPRP//ioFGUHtM/wXcW5oE71T9X24erDmnXPwbzf0Lspdk/DJ5HruXw2z85bFXq3EjeP3hM42BkVuA/uHAgc9mN4T+r8WYgW8riP0Oh/bl+C+Q//wonyOBQ5T9Na1Z2JJrmP+PjMBHz5uc/NHX1k/s26T/sPnBB8onqPy73l0eQ3+s/vJmRbJM37T/tML3FvZHuP/LB5HDV7e8/tsZALNKl8D8iPtD7e1XxP3thNpPQBfI/VfYw9Lm28j9d2f6dI2jzP58vfnj6GfQ/VNTbvyzM9D9CIoHwqX71P7vpt7RiMfY/Xw5z00jk9j8Rl5IfT5f3PwQ95mdpSvg/N1ANaIz9+D/KRgu6rbD5P+/9gcjDY/o/77eIwcUW+z8+jC+Kq8n7P9FXWrFtfPw/uRlIZwUv/T/pgWlvbOH9P9zhHRidk/4/+Vw2MJJF/z+4wn/+Rvf/PwoDBJxbVABAWMmye++sAEBEv/taXQUBQJf2eaKjXQFAiAYG48C1AUAyL1jSsw0CQLpE8kd7ZQJAufSLOha9AkCHfHi9gxQDQFLcCP7CawNAgrhVQdPCA0BXPUfisxkEQBK0jE9kcARAn2WoCeTGBEBIc7OhMh0FQM0HZ7dPcwVAhLuw9zrJBUCx3osb9B4GQPwd+OZ6dAZARgj0J8/JBkDQDGi18B4HQFxaGm7fcwdATJvzN5vIB0Dt/UD/Ix0IQPBR9LV5cQhAL3ZmU5zFCEAN22bTixkJQBj1vTVIbQlAW4vifdHACUD5f8uyJxQKQFfjHd5KZwpAV0YBDDu6CkDoROpK+AwLQE3iUauCXwtAWu1xP9qxC0DX2hAb/wMMQBQTVFPxVQxAQnqU/rCnDEB+oTc0PvkMQPkQjQyZSg1A5/exoMGbDUA=\",\"dtype\":\"float64\",\"shape\":[100]}},\"selected\":{\"id\":\"6423\",\"type\":\"Selection\"},\"selection_policy\":{\"id\":\"6422\",\"type\":\"UnionRenderers\"}},\"id\":\"6387\",\"type\":\"ColumnDataSource\"},{\"attributes\":{},\"id\":\"6385\",\"type\":\"Selection\"},{\"attributes\":{},\"id\":\"6327\",\"type\":\"BasicTicker\"},{\"attributes\":{\"line_alpha\":0.1,\"line_color\":\"#1f77b4\",\"line_width\":2,\"x\":{\"field\":\"x\"},\"y\":{\"field\":\"y\"}},\"id\":\"6346\",\"type\":\"Line\"},{\"attributes\":{\"callback\":null,\"data\":{\"x\":{\"__ndarray__\":\"AAAAAAAAAAB/pUCtXykgQH+lQK1fKTBAPvjggw8+OEB/pUCtXylAQN/OkJi3M0RAPvjggw8+SECeITFvZ0hMQH+lQK1fKVBAL7rooosuUkDfzpCYtzNUQI/jOI7jOFZAPvjggw8+WEDuDIl5O0NaQJ4hMW9nSFxATjbZZJNNXkB/pUCtXylgQNevFKj1K2FAL7rooosuYkCHxLydITFjQN/OkJi3M2RAN9lkk002ZUCP4ziO4zhmQOftDIl5O2dAPvjggw8+aECWArV+pUBpQO4MiXk7Q2pARhdddNFFa0CeITFvZ0hsQPYrBWr9Sm1ATjbZZJNNbkCmQK1fKVBvQH+lQK1fKXBAq6qqqqqqcEDXrxSo9StxQAO1fqVArXFAL7rooosuckBbv1Kg1q9yQIfEvJ0hMXNAs8kmm2yyc0DfzpCYtzN0QAvU+pUCtXRAN9lkk002dUBj3s6QmLd1QI/jOI7jOHZAu+iiiy66dkDn7QyJeTt3QBPzdobEvHdAPvjggw8+eEBq/UqBWr94QJYCtX6lQHlAwgcffPDBeUDuDIl5O0N6QBoS83aGxHpARhdddNFFe0ByHMdxHMd7QJ4hMW9nSHxAyiabbLLJfED2KwVq/Up9QCIxb2dIzH1ATjbZZJNNfkB6O0Ni3s5+QKZArV8pUH9A0kUXXXTRf0B/pUCtXymAQBWo9SsFaoBAq6qqqqqqgEBBrV8pUOuAQNevFKj1K4FAbbLJJptsgUADtX6lQK2BQJm3MyTm7YFAL7rooosugkDFvJ0hMW+CQFu/UqDWr4JA8cEHH3zwgkCHxLydITGDQB3HcRzHcYNAs8kmm2yyg0BJzNsZEvODQN/OkJi3M4RAddFFF110hEAL1PqVArWEQKHWrxSo9YRAN9lkk002hUDN2xkS83aFQGPezpCYt4VA+eCDDz74hUCP4ziO4ziGQCXm7QyJeYZAu+iiiy66hkBR61cK1PqGQOftDIl5O4dAffDBBx98h0AT83aGxLyHQKn1KwVq/YdAPvjggw8+iEDU+pUCtX6IQGr9SoFav4hAAAAAAAAAiUA=\",\"dtype\":\"float64\",\"shape\":[100]},\"y\":{\"__ndarray__\":\"AAAAAAAAAABQNKSBgAHQP6k6kwlDWfE/GskY8Rbw/T+v+PRsCIcDQPdO3gdUxQZAY703kTckCUDqbmSiJ+4KQPQLYLTRUQxAUex4e/tsDUBjEOnTN1MOQKRh5mrNEQ9Aku1EzACyD0AEXcnAOh0QQH+F+ooEWBBA+1WBjC+LEEAqKHFuHrgQQMrVAqLj3xBAx+BQmVYDEUBZ0IepIiMRQD6iALLRPxFAxRQZ1dNZEUBtZ2UphXERQJOmlP8xhxFAC4D3GRqbEUBm9RIlc60RQADs06FqvhFAWl0nZCfOEUDplSHAytwRQLGOaXxx6hFAe74DkTT3EUCsWnXEKQMSQLyG5ypkDhJAw+/4jfQYEkAhS5S/6SISQER4i+hQLBJA3tUivDU1EkDyUtatoj0SQOu5XxqhRRJAp7+OazlNEkD33+k1c1QSQPrcCVNVWxJAfC9e9+VhEkAZuFPFKmgSQGAgzN0obhJAlNdb7uRzEkDhkZc9Y3kSQNO0RLanfhJAd+428LWDEkDhT085kYgSQDtg2Zs8jRJAkUQu57qREkCR+TGyDpYSQH7kC2M6mhJASuy4MkCeEkBFegwxIqISQKAFbEjipRJATQcQQYKpEkDUgLnDA60SQMr70VxosBJAKEsPfrGzEkANhxuB4LYSQPa0Uqn2uRJA+seUJfW8EkDDZZUR3b8SQGn9knevwhJA34igUm3FEkAqh9OMF8gSQAH5zQOvyhJAMQ3hhzTNEkDfs2TdqM8SQAnvg70M0hJA01AU12DUEkBHuxbPpdYSQM1q2EHc2BJAjnzowgTbEkCCbxneH90SQJ1w6Bcu3xJAkcTp7S/hEkA4Zz/XJeMSQNjjFUUQ5RJAN/CXou/mEkAgYXBWxOgSQM5yWcGO6hJA1P3dP0/sEkBkThMqBu4SQOlN4dOz7xJA2HM3jVjxEkB+jnKi9PISQJ2SZ1yI9BJA/ZilABT2EkBxR6TRl/cSQFW14g4U+RJATRdq9Yj6EkBy3ue+9vsSQGx2maNd/RJAEdmQ2L3+EkDiVhGRFwATQJFRGv5qARNAgSfOTrgCE0A=\",\"dtype\":\"float64\",\"shape\":[100]}},\"selected\":{\"id\":\"6403\",\"type\":\"Selection\"},\"selection_policy\":{\"id\":\"6402\",\"type\":\"UnionRenderers\"}},\"id\":\"6371\",\"type\":\"ColumnDataSource\"},{\"attributes\":{\"line_color\":\"#9367bc\",\"line_width\":2,\"x\":{\"field\":\"x\"},\"y\":{\"field\":\"y\"}},\"id\":\"6388\",\"type\":\"Line\"},{\"attributes\":{\"label\":{\"value\":\"outside_H\"},\"renderers\":[{\"id\":\"6360\",\"type\":\"GlyphRenderer\"}]},\"id\":\"6370\",\"type\":\"LegendItem\"},{\"attributes\":{\"line_color\":\"#ff7e0e\",\"line_width\":2,\"x\":{\"field\":\"x\"},\"y\":{\"field\":\"y\"}},\"id\":\"6358\",\"type\":\"Line\"},{\"attributes\":{},\"id\":\"6368\",\"type\":\"UnionRenderers\"},{\"attributes\":{\"ticker\":{\"id\":\"6322\",\"type\":\"BasicTicker\"}},\"id\":\"6325\",\"type\":\"Grid\"},{\"attributes\":{\"data_source\":{\"id\":\"6344\",\"type\":\"ColumnDataSource\"},\"glyph\":{\"id\":\"6345\",\"type\":\"Line\"},\"hover_glyph\":null,\"muted_glyph\":null,\"nonselection_glyph\":{\"id\":\"6346\",\"type\":\"Line\"},\"selection_glyph\":null,\"view\":{\"id\":\"6348\",\"type\":\"CDSView\"}},\"id\":\"6347\",\"type\":\"GlyphRenderer\"}],\"root_ids\":[\"6310\"]},\"title\":\"Bokeh Application\",\"version\":\"1.4.0\"}};\n",
       "  var render_items = [{\"docid\":\"d0d55e0d-ff3f-4cff-a52f-b54a76b579e2\",\"roots\":{\"6310\":\"dd0115d3-e781-4520-9549-e828660e0bcc\"}}];\n",
       "  root.Bokeh.embed.embed_items_notebook(docs_json, render_items);\n",
       "\n",
       "  }\n",
       "  if (root.Bokeh !== undefined) {\n",
       "    embed_document(root);\n",
       "  } else {\n",
       "    var attempts = 0;\n",
       "    var timer = setInterval(function(root) {\n",
       "      if (root.Bokeh !== undefined) {\n",
       "        clearInterval(timer);\n",
       "        embed_document(root);\n",
       "      } else {\n",
       "        attempts++;\n",
       "        if (attempts > 100) {\n",
       "          clearInterval(timer);\n",
       "          console.log(\"Bokeh: ERROR: Unable to run BokehJS code because BokehJS library is missing\");\n",
       "        }\n",
       "      }\n",
       "    }, 10, root)\n",
       "  }\n",
       "})(window);"
      ],
      "application/vnd.bokehjs_exec.v0+json": ""
     },
     "metadata": {
      "application/vnd.bokehjs_exec.v0+json": {
       "id": "6310"
      }
     },
     "output_type": "display_data"
    }
   ],
   "source": [
    "#plt_timepoints = timepoints/60\n",
    "\n",
    "p3 = bokeh.plotting.figure(width = 450, height = 350, title = 'with ATP Synthase, Proton Pump, ATP Use',\n",
    "                          x_axis_label = 'time',\n",
    "                          y_axis_label = 'concentration (nM)')\n",
    "plot_list = [ATP_id_orig, outside_H_id, inside_H_id, atp_synthase_b_protein_id_orig, proton_pump_b_protein_id_orig]\n",
    "plot_str = ['atp', 'outside_H', 'inside_H', 'bound atp synthase', 'bound proton pump']\n",
    "for i,item in enumerate(plot_list):\n",
    "    p3.line(timepoints, results_original[item], line_width = 2, legend_label = plot_str[i], color = palette[i])\n",
    "\n",
    "    #p3.line(plt_timepoints, results_everything[ATP_id3])\n",
    "p3.legend.click_policy = 'hide'\n",
    "p3.legend.location = 'center_right'\n",
    "\n",
    "bokeh.io.show(p3)\n"
   ]
  },
  {
   "cell_type": "markdown",
   "metadata": {},
   "source": [
    "## Compare 25, 37, 100 C\n",
    "---"
   ]
  },
  {
   "cell_type": "code",
   "execution_count": 81,
   "metadata": {},
   "outputs": [
    {
     "data": {
      "text/html": [
       "\n",
       "\n",
       "\n",
       "\n",
       "\n",
       "\n",
       "  <div class=\"bk-root\" id=\"664ed7eb-b69b-432e-9b7c-4a853a0b1fab\" data-root-id=\"7238\"></div>\n"
      ]
     },
     "metadata": {},
     "output_type": "display_data"
    },
    {
     "data": {
      "application/javascript": [
       "(function(root) {\n",
       "  function embed_document(root) {\n",
       "    \n",
       "  var docs_json = {\"bff39e3d-b995-41c5-b01f-205cab07244b\":{\"roots\":{\"references\":[{\"attributes\":{\"below\":[{\"id\":\"7249\",\"type\":\"LinearAxis\"}],\"center\":[{\"id\":\"7253\",\"type\":\"Grid\"},{\"id\":\"7258\",\"type\":\"Grid\"},{\"id\":\"7283\",\"type\":\"Legend\"}],\"left\":[{\"id\":\"7254\",\"type\":\"LinearAxis\"}],\"plot_height\":350,\"plot_width\":450,\"renderers\":[{\"id\":\"7275\",\"type\":\"GlyphRenderer\"},{\"id\":\"7288\",\"type\":\"GlyphRenderer\"},{\"id\":\"7302\",\"type\":\"GlyphRenderer\"},{\"id\":\"7318\",\"type\":\"GlyphRenderer\"}],\"title\":{\"id\":\"7239\",\"type\":\"Title\"},\"toolbar\":{\"id\":\"7265\",\"type\":\"Toolbar\"},\"x_range\":{\"id\":\"7241\",\"type\":\"DataRange1d\"},\"x_scale\":{\"id\":\"7245\",\"type\":\"LinearScale\"},\"y_range\":{\"id\":\"7243\",\"type\":\"DataRange1d\"},\"y_scale\":{\"id\":\"7247\",\"type\":\"LinearScale\"}},\"id\":\"7238\",\"subtype\":\"Figure\",\"type\":\"Plot\"},{\"attributes\":{\"callback\":null},\"id\":\"7243\",\"type\":\"DataRange1d\"},{\"attributes\":{\"dimension\":1,\"ticker\":{\"id\":\"7255\",\"type\":\"BasicTicker\"}},\"id\":\"7258\",\"type\":\"Grid\"},{\"attributes\":{\"callback\":null},\"id\":\"7241\",\"type\":\"DataRange1d\"},{\"attributes\":{\"data_source\":{\"id\":\"7285\",\"type\":\"ColumnDataSource\"},\"glyph\":{\"id\":\"7286\",\"type\":\"Line\"},\"hover_glyph\":null,\"muted_glyph\":null,\"nonselection_glyph\":{\"id\":\"7287\",\"type\":\"Line\"},\"selection_glyph\":null,\"view\":{\"id\":\"7289\",\"type\":\"CDSView\"}},\"id\":\"7288\",\"type\":\"GlyphRenderer\"},{\"attributes\":{},\"id\":\"7247\",\"type\":\"LinearScale\"},{\"attributes\":{},\"id\":\"7250\",\"type\":\"BasicTicker\"},{\"attributes\":{\"line_alpha\":0.1,\"line_color\":\"#1f77b4\",\"line_width\":2,\"x\":{\"field\":\"x\"},\"y\":{\"field\":\"y\"}},\"id\":\"7317\",\"type\":\"Line\"},{\"attributes\":{\"ticker\":{\"id\":\"7250\",\"type\":\"BasicTicker\"}},\"id\":\"7253\",\"type\":\"Grid\"},{\"attributes\":{\"data_source\":{\"id\":\"7315\",\"type\":\"ColumnDataSource\"},\"glyph\":{\"id\":\"7316\",\"type\":\"Line\"},\"hover_glyph\":null,\"muted_glyph\":null,\"nonselection_glyph\":{\"id\":\"7317\",\"type\":\"Line\"},\"selection_glyph\":null,\"view\":{\"id\":\"7319\",\"type\":\"CDSView\"}},\"id\":\"7318\",\"type\":\"GlyphRenderer\"},{\"attributes\":{\"callback\":null,\"data\":{\"x\":{\"__ndarray__\":\"AAAAAAAAAAB2n+/aMj3BP3af79oyPdE/MW9nSMzb2T92n+/aMj3hP1SHq5F/jOU/MW9nSMzb6T8PVyP/GCvuP3af79oyPfE/ZZNNNtlk8z9Uh6uRf4z1P0N7Ce0ltPc/MW9nSMzb+T8gY8WjcgP8Pw9XI/8YK/4/f6VArV8pAEB2n+/aMj0BQG6ZnggGUQJAZZNNNtlkA0BdjfxjrHgEQFSHq5F/jAVATIFav1KgBkBDewntJbQHQDt1uBr5xwhAMW9nSMzbCUApaRZ2n+8KQCBjxaNyAwxAF1100UUXDUAPVyP/GCsOQAZR0izsPg9Af6VArV8pEEB7IhhESbMQQHaf79oyPRFAchzHcRzHEUBumZ4IBlESQGoWdp/v2hJAZZNNNtlkE0BhECXNwu4TQF2N/GOseBRAWQrU+pUCFUBUh6uRf4wVQFAEgyhpFhZATIFav1KgFkBH/jFWPCoXQEN7Ce0ltBdAP/jggw8+GEA7dbga+ccYQDbyj7HiURlAMW9nSMzbGUAt7D7ftWUaQClpFnaf7xpAJObtDIl5G0AgY8WjcgMcQBzgnDpcjRxAF1100UUXHUAT2ktoL6EdQA9XI/8YKx5AC9T6lQK1HkAGUdIs7D4fQALOqcPVyB9Af6VArV8pIED9Y6x4VG4gQHsiGERJsyBA+eCDDz74IEB2n+/aMj0hQPRdW6YngiFAchzHcRzHIUDw2jI9EQwiQG6ZnggGUSJA7FcK1PqVIkBqFnaf79oiQOfU4WrkHyNAZZNNNtlkI0DjUbkBzqkjQGEQJc3C7iNA386QmLczJEBdjfxjrHgkQNtLaC+hvSRAWQrU+pUCJUDWyD/GikclQFSHq5F/jCVA0kUXXXTRJUBQBIMoaRYmQM7C7vNdWyZATIFav1KgJkDKP8aKR+UmQEf+MVY8KidAxbydITFvJ0BDewntJbQnQME5dbga+SdAP/jggw8+KEC9tkxPBIMoQDt1uBr5xyhAuTMk5u0MKUA28o+x4lEpQLSw+3zXlilAMW9nSMzbKUCvLdMTwSAqQC3sPt+1ZSpAq6qqqqqqKkA=\",\"dtype\":\"float64\",\"shape\":[100]},\"y\":{\"__ndarray__\":\"AAAAAAAAJEApjo3diy2CP0duyghk8b4/A3kLVJ5D3z9AZPZtrEHyP8GEe7oxMv8/HSWwMmkoBkC2abYSlysMQAb8sIUltxBAIjEdrzb5EkDrdN1YxuYUQLWNnaSrjBZA8mELzd/2F0CKgn71oS8ZQEHrRctnPxpAxM22DBMtG0BnToJENv4bQEmiNltVtxxAgzgDNhxcHUCaThXniu8dQBAFQLgYdB5Alc/yss/rHkApg7kyYlgfQEKWFdc7ux9A1rjla8cKIEAyxThILzQgQEthuPBDWiBAQGVh8mN9IEAJttan4J0gQO7iX2YAvCBAdnUCQgDYIEDdXIaDFfIgQOMba9JuCiFAQ61vNDUhIUBRsuXdjDYhQCf2Ot6VSiFAOPvVsGxdIUD4TCi8Km8hQEPGebPmfyFART0e87SPIUAlMtTJp54hQOVzCLnPrCFAWN7Wqzu6IUBCOZcm+cYhQA3I228U0yFAss6vs5jeIUAfyHwikOkhQEEYiwwE9CFAkHas+fz9IUB8WNW7ggciQDNaD4ScECJArjP+8FAZIkBhP1QdpiEiQL5xZqyhKSJAyD1U1UgxIkDSVutsoDgiQENtgu6sPyJAZcDjg3JGIkAob6IM9UwiQNc+5iI4UyJAvIQDJj9ZIkCmIh02DV8iQOh0dkSlZCJABmP0DgpqIkDPnHknPm8iQGWwu/ZDdCJA0sJgvx15IkC07uOgzX0iQLGh/JlVgiJAtQhli7eGIkCPs4E59YoiQI3buE4QjyJA8qQPXQqTIkCKRBXg5JYiQGYupT2hmiJAK4OqyECeIkAAEb7BxKEiQHvkCVcupSJAEUykp36oIkBfDzrDtqsiQDUJUKvXriJACTIbVOKxIkDtmlSl17QiQIMf+Hq4tyJApV76pYW6IkDXqObsP70iQG2fhgzovyJAxzleuH7CIkBw+FCbBMUiQAeq/Vd6xyJAl39SieDJIkBXkunCN8wiQAOybZGAziJAJfUFe7vQIkBLCa3/6NIiQEtJgpkJ1SJAMvkcvR3XIkBbIdPZJdkiQNpTBloi2yJA/2JjoxPdIkA=\",\"dtype\":\"float64\",\"shape\":[100]}},\"selected\":{\"id\":\"7313\",\"type\":\"Selection\"},\"selection_policy\":{\"id\":\"7312\",\"type\":\"UnionRenderers\"}},\"id\":\"7285\",\"type\":\"ColumnDataSource\"},{\"attributes\":{},\"id\":\"7621\",\"type\":\"UnionRenderers\"},{\"attributes\":{\"source\":{\"id\":\"7272\",\"type\":\"ColumnDataSource\"}},\"id\":\"7276\",\"type\":\"CDSView\"},{\"attributes\":{},\"id\":\"7255\",\"type\":\"BasicTicker\"},{\"attributes\":{\"source\":{\"id\":\"7285\",\"type\":\"ColumnDataSource\"}},\"id\":\"7289\",\"type\":\"CDSView\"},{\"attributes\":{\"axis_label\":\"concentration (nM)\",\"formatter\":{\"id\":\"7281\",\"type\":\"BasicTickFormatter\"},\"ticker\":{\"id\":\"7255\",\"type\":\"BasicTicker\"}},\"id\":\"7254\",\"type\":\"LinearAxis\"},{\"attributes\":{\"line_color\":\"#1f77b3\",\"line_width\":2,\"x\":{\"field\":\"x\"},\"y\":{\"field\":\"y\"}},\"id\":\"7273\",\"type\":\"Line\"},{\"attributes\":{\"line_color\":\"#2ba02b\",\"line_width\":2,\"x\":{\"field\":\"x\"},\"y\":{\"field\":\"y\"}},\"id\":\"7300\",\"type\":\"Line\"},{\"attributes\":{\"source\":{\"id\":\"7315\",\"type\":\"ColumnDataSource\"}},\"id\":\"7319\",\"type\":\"CDSView\"},{\"attributes\":{},\"id\":\"7330\",\"type\":\"UnionRenderers\"},{\"attributes\":{\"label\":{\"value\":\"ATP at 37C\"},\"renderers\":[{\"id\":\"7288\",\"type\":\"GlyphRenderer\"}]},\"id\":\"7298\",\"type\":\"LegendItem\"},{\"attributes\":{\"text\":\"Effect of Different Temperatures on ATP Curves\"},\"id\":\"7239\",\"type\":\"Title\"},{\"attributes\":{\"data_source\":{\"id\":\"7272\",\"type\":\"ColumnDataSource\"},\"glyph\":{\"id\":\"7273\",\"type\":\"Line\"},\"hover_glyph\":null,\"muted_glyph\":null,\"nonselection_glyph\":{\"id\":\"7274\",\"type\":\"Line\"},\"selection_glyph\":null,\"view\":{\"id\":\"7276\",\"type\":\"CDSView\"}},\"id\":\"7275\",\"type\":\"GlyphRenderer\"},{\"attributes\":{\"label\":{\"value\":\"ATP for original\"},\"renderers\":[{\"id\":\"7318\",\"type\":\"GlyphRenderer\"}]},\"id\":\"7332\",\"type\":\"LegendItem\"},{\"attributes\":{},\"id\":\"7296\",\"type\":\"UnionRenderers\"},{\"attributes\":{},\"id\":\"7279\",\"type\":\"BasicTickFormatter\"},{\"attributes\":{},\"id\":\"7297\",\"type\":\"Selection\"},{\"attributes\":{},\"id\":\"7331\",\"type\":\"Selection\"},{\"attributes\":{\"line_alpha\":0.1,\"line_color\":\"#1f77b4\",\"line_width\":2,\"x\":{\"field\":\"x\"},\"y\":{\"field\":\"y\"}},\"id\":\"7274\",\"type\":\"Line\"},{\"attributes\":{\"line_color\":\"#9367bc\",\"line_width\":2,\"x\":{\"field\":\"x\"},\"y\":{\"field\":\"y\"}},\"id\":\"7316\",\"type\":\"Line\"},{\"attributes\":{\"active_drag\":\"auto\",\"active_inspect\":\"auto\",\"active_multi\":null,\"active_scroll\":\"auto\",\"active_tap\":\"auto\",\"tools\":[{\"id\":\"7259\",\"type\":\"PanTool\"},{\"id\":\"7260\",\"type\":\"WheelZoomTool\"},{\"id\":\"7261\",\"type\":\"BoxZoomTool\"},{\"id\":\"7262\",\"type\":\"SaveTool\"},{\"id\":\"7263\",\"type\":\"ResetTool\"},{\"id\":\"7264\",\"type\":\"HelpTool\"}]},\"id\":\"7265\",\"type\":\"Toolbar\"},{\"attributes\":{\"line_color\":\"#ff7e0e\",\"line_width\":2,\"x\":{\"field\":\"x\"},\"y\":{\"field\":\"y\"}},\"id\":\"7286\",\"type\":\"Line\"},{\"attributes\":{\"callback\":null,\"data\":{\"x\":{\"__ndarray__\":\"AAAAAAAAAAB2n+/aMj3BP3af79oyPdE/MW9nSMzb2T92n+/aMj3hP1SHq5F/jOU/MW9nSMzb6T8PVyP/GCvuP3af79oyPfE/ZZNNNtlk8z9Uh6uRf4z1P0N7Ce0ltPc/MW9nSMzb+T8gY8WjcgP8Pw9XI/8YK/4/f6VArV8pAEB2n+/aMj0BQG6ZnggGUQJAZZNNNtlkA0BdjfxjrHgEQFSHq5F/jAVATIFav1KgBkBDewntJbQHQDt1uBr5xwhAMW9nSMzbCUApaRZ2n+8KQCBjxaNyAwxAF1100UUXDUAPVyP/GCsOQAZR0izsPg9Af6VArV8pEEB7IhhESbMQQHaf79oyPRFAchzHcRzHEUBumZ4IBlESQGoWdp/v2hJAZZNNNtlkE0BhECXNwu4TQF2N/GOseBRAWQrU+pUCFUBUh6uRf4wVQFAEgyhpFhZATIFav1KgFkBH/jFWPCoXQEN7Ce0ltBdAP/jggw8+GEA7dbga+ccYQDbyj7HiURlAMW9nSMzbGUAt7D7ftWUaQClpFnaf7xpAJObtDIl5G0AgY8WjcgMcQBzgnDpcjRxAF1100UUXHUAT2ktoL6EdQA9XI/8YKx5AC9T6lQK1HkAGUdIs7D4fQALOqcPVyB9Af6VArV8pIED9Y6x4VG4gQHsiGERJsyBA+eCDDz74IEB2n+/aMj0hQPRdW6YngiFAchzHcRzHIUDw2jI9EQwiQG6ZnggGUSJA7FcK1PqVIkBqFnaf79oiQOfU4WrkHyNAZZNNNtlkI0DjUbkBzqkjQGEQJc3C7iNA386QmLczJEBdjfxjrHgkQNtLaC+hvSRAWQrU+pUCJUDWyD/GikclQFSHq5F/jCVA0kUXXXTRJUBQBIMoaRYmQM7C7vNdWyZATIFav1KgJkDKP8aKR+UmQEf+MVY8KidAxbydITFvJ0BDewntJbQnQME5dbga+SdAP/jggw8+KEC9tkxPBIMoQDt1uBr5xyhAuTMk5u0MKUA28o+x4lEpQLSw+3zXlilAMW9nSMzbKUCvLdMTwSAqQC3sPt+1ZSpAq6qqqqqqKkA=\",\"dtype\":\"float64\",\"shape\":[100]},\"y\":{\"__ndarray__\":\"AAAAAAAAJEDzovtnBcdQPwhNl7uZ3Y0/2mCSg9+tsD+NqEHrnfXGP92qkwXn+9c/kdggwfjf5D+JX9NjeervP5iFFntjL/Y/53P9Qdm9/D/uLOHPdKkBQEeInNGW3ARAOpszKUroB0CB8G7+ZMQKQAGn7a74bQ1AtSAKpk7lD0DVAms5QxYRQFGP75pYIxJAwl7JSKIbE0Apgv+d4wAUQAs1LNrQ1BRADu0vDQOZFUCtfVBx8k4WQAWU5R719xZAuQv6wD+VF0APIlWc5ycYQFvf/BblsBhAApSwcBYxGUAvCvd1QqkZQOiCNAMbGhpAYau6ZT+EGkBkLYhpPugaQHJRgEiYRhtARsX4TcCfG0Da7g5UHvQbQBn0ixQQRBxASPPMReqPHEDqPYei+dccQFNi/8mDHB1Aai9bAchdHUAGa2ro/5sdQCH+9RFg1x1AlptkghgQHkA/uykzVUYeQN5phXQ+eh5A4spYTPmrHkBgHgLJp9seQMygx0lpCR9AzkP5wFo1H0DhVx/tll8fQJhZUIw2iB9ANn54k1CvH0CFJAw9+tQfQL1MPFRH+R9AZf6BHCUOIEBV9m8FCh8gQIJ9kV9aLyBAzBOWnh0/IED2lle4Wk4gQC/KyjAYXSBA7YRdIVxrIEDtIApCLHkgQMNPwfCNhiBAWb3XN4aTIECP7bXUGaAgQL7rCj1NrCBAxt8kpCS4IEDjrqwApMMgQMJyJA3PziBAflIHVanZIECmycIoNuQgQPQ1M7N47iBAyUmU73P4IEDlAOWxKgIhQF3pHKefCyFAU1BZW9UUIUBNk943zh0hQH7qUIeMJiFAqot5dxIvIUBmxnQaYjchQMy0AWl9PyFABZmzQ2ZHIUBcqmJ0Hk8hQPoFja+nViFAeoaSlQNeIUDbzMOzM2UhQGJkhoU5bCFAFERtdRZzIUAD1undy3khQK8rhgpbgCFACkwfOMWGIUDhzLGWC40hQIXv5kcvkyFAnElEZDGZIUBnpDj1Ep8hQI1h+PrUpCFAwdPgbHiqIUA9qpo0/q8hQJA4/TVntSFAuGj0SrS6IUA=\",\"dtype\":\"float64\",\"shape\":[100]}},\"selected\":{\"id\":\"7331\",\"type\":\"Selection\"},\"selection_policy\":{\"id\":\"7330\",\"type\":\"UnionRenderers\"}},\"id\":\"7299\",\"type\":\"ColumnDataSource\"},{\"attributes\":{},\"id\":\"7312\",\"type\":\"UnionRenderers\"},{\"attributes\":{\"callback\":null,\"data\":{\"x\":{\"__ndarray__\":\"AAAAAAAAAAB2n+/aMj3BP3af79oyPdE/MW9nSMzb2T92n+/aMj3hP1SHq5F/jOU/MW9nSMzb6T8PVyP/GCvuP3af79oyPfE/ZZNNNtlk8z9Uh6uRf4z1P0N7Ce0ltPc/MW9nSMzb+T8gY8WjcgP8Pw9XI/8YK/4/f6VArV8pAEB2n+/aMj0BQG6ZnggGUQJAZZNNNtlkA0BdjfxjrHgEQFSHq5F/jAVATIFav1KgBkBDewntJbQHQDt1uBr5xwhAMW9nSMzbCUApaRZ2n+8KQCBjxaNyAwxAF1100UUXDUAPVyP/GCsOQAZR0izsPg9Af6VArV8pEEB7IhhESbMQQHaf79oyPRFAchzHcRzHEUBumZ4IBlESQGoWdp/v2hJAZZNNNtlkE0BhECXNwu4TQF2N/GOseBRAWQrU+pUCFUBUh6uRf4wVQFAEgyhpFhZATIFav1KgFkBH/jFWPCoXQEN7Ce0ltBdAP/jggw8+GEA7dbga+ccYQDbyj7HiURlAMW9nSMzbGUAt7D7ftWUaQClpFnaf7xpAJObtDIl5G0AgY8WjcgMcQBzgnDpcjRxAF1100UUXHUAT2ktoL6EdQA9XI/8YKx5AC9T6lQK1HkAGUdIs7D4fQALOqcPVyB9Af6VArV8pIED9Y6x4VG4gQHsiGERJsyBA+eCDDz74IEB2n+/aMj0hQPRdW6YngiFAchzHcRzHIUDw2jI9EQwiQG6ZnggGUSJA7FcK1PqVIkBqFnaf79oiQOfU4WrkHyNAZZNNNtlkI0DjUbkBzqkjQGEQJc3C7iNA386QmLczJEBdjfxjrHgkQNtLaC+hvSRAWQrU+pUCJUDWyD/GikclQFSHq5F/jCVA0kUXXXTRJUBQBIMoaRYmQM7C7vNdWyZATIFav1KgJkDKP8aKR+UmQEf+MVY8KidAxbydITFvJ0BDewntJbQnQME5dbga+SdAP/jggw8+KEC9tkxPBIMoQDt1uBr5xyhAuTMk5u0MKUA28o+x4lEpQLSw+3zXlilAMW9nSMzbKUCvLdMTwSAqQC3sPt+1ZSpAq6qqqqqqKkA=\",\"dtype\":\"float64\",\"shape\":[100]},\"y\":{\"__ndarray__\":\"AAAAAAAAJED8XRYzzCp4PzY92wPS6bQ/hjf8SvXh1T+qPRZSC+PqP7sDm6U7Nvg/TQYGoUX8AUAZ2pt9/q4HQHaPvMCl3wxAre7bp/W6EEDqT570JLsSQPbmO7UmeBRAedDUKRP7FUCdAJask0wXQIvmS1hHdBhAS15vgKZ4GUCpvR8YGF8aQNJNJu4WLBtAipuJgljjG0CevKsW8IccQA5tOnRsHB1ASuTWdvCiHUCJ0FT0Rh0eQEiTgcTyjB5AdgzxsjvzHkBEUPbcOFEfQDTUehXZpx9AvcioqOn3H0BXOYjwDSEgQP1pjMCEQyBAnkbAO5xjIEAgmbnvjoEgQIsHokOQnSBAQ3jhfs23IEDumxqrbtAgQMVe/UuX5yBAl23w+2b9IEB9vrLw+REhQPYOVmtpJSFA5r9wF8w3IUBVFdJcNkkhQPM83aW6WSFAwqWpmmlpIUBUxkpWUnghQE62rZKChiFAtpZF0AaUIUDsksF36qAhQF3oD/g3rSFARnlS4Pi4IUDAKRb3NcQhQBopN0z3ziFAKQd+T0TZIUA++nLbI+MhQCMHL0ac7CFAeYUEbLP1IUDj6FO8bv4hQNPdEULTBiJAUQEYreUOIkBCQTtaqhYiQPUT5lklHiJA1Aj4dlolIkBJiPg7TSwiQO9WVPkAMyJAuOedyHg5IkBSmo+Rtz8iQAbxtw7ARSJALkjWz5RLIkCX+Aw8OFEiQOP7BJisViJAu+yhBfRbIkChTXqHEGEiQDv+ygIEZiJAzSu5QtBqIkBbid73dm8iQFCvXLz5cyJARAVqE1p4IkDyC5dsmXwiQKsGeSO5gCJAMuVJgrqEIkBbVBrCnogiQL34WwxnjCJAk44WexSQIkAf9M0bqJMiQNEJj+wilyJAne7E4YWaIkA+Go/i0Z0iQGIhjcsHoSJAi3gMbyikIkB7YpuVNKciQMf9nP4sqiJAdTq/YBKtIkD2NXBq5a8iQC2DcMKmsiJATZoICFe1IkDLqZnT9rciQLvl1raGuiJAe2Q9PQe9IkAzYE7seL8iQHBN40PcwSJAsYJ7vjHEIkA=\",\"dtype\":\"float64\",\"shape\":[100]}},\"selected\":{\"id\":\"7297\",\"type\":\"Selection\"},\"selection_policy\":{\"id\":\"7296\",\"type\":\"UnionRenderers\"}},\"id\":\"7272\",\"type\":\"ColumnDataSource\"},{\"attributes\":{},\"id\":\"7259\",\"type\":\"PanTool\"},{\"attributes\":{\"line_alpha\":0.1,\"line_color\":\"#1f77b4\",\"line_width\":2,\"x\":{\"field\":\"x\"},\"y\":{\"field\":\"y\"}},\"id\":\"7301\",\"type\":\"Line\"},{\"attributes\":{},\"id\":\"7245\",\"type\":\"LinearScale\"},{\"attributes\":{\"data_source\":{\"id\":\"7299\",\"type\":\"ColumnDataSource\"},\"glyph\":{\"id\":\"7300\",\"type\":\"Line\"},\"hover_glyph\":null,\"muted_glyph\":null,\"nonselection_glyph\":{\"id\":\"7301\",\"type\":\"Line\"},\"selection_glyph\":null,\"view\":{\"id\":\"7303\",\"type\":\"CDSView\"}},\"id\":\"7302\",\"type\":\"GlyphRenderer\"},{\"attributes\":{},\"id\":\"7260\",\"type\":\"WheelZoomTool\"},{\"attributes\":{},\"id\":\"7264\",\"type\":\"HelpTool\"},{\"attributes\":{\"bottom_units\":\"screen\",\"fill_alpha\":{\"value\":0.5},\"fill_color\":{\"value\":\"lightgrey\"},\"left_units\":\"screen\",\"level\":\"overlay\",\"line_alpha\":{\"value\":1.0},\"line_color\":{\"value\":\"black\"},\"line_dash\":[4,4],\"line_width\":{\"value\":2},\"render_mode\":\"css\",\"right_units\":\"screen\",\"top_units\":\"screen\"},\"id\":\"7282\",\"type\":\"BoxAnnotation\"},{\"attributes\":{\"overlay\":{\"id\":\"7282\",\"type\":\"BoxAnnotation\"}},\"id\":\"7261\",\"type\":\"BoxZoomTool\"},{\"attributes\":{\"source\":{\"id\":\"7299\",\"type\":\"ColumnDataSource\"}},\"id\":\"7303\",\"type\":\"CDSView\"},{\"attributes\":{},\"id\":\"7262\",\"type\":\"SaveTool\"},{\"attributes\":{\"line_alpha\":0.1,\"line_color\":\"#1f77b4\",\"line_width\":2,\"x\":{\"field\":\"x\"},\"y\":{\"field\":\"y\"}},\"id\":\"7287\",\"type\":\"Line\"},{\"attributes\":{},\"id\":\"7263\",\"type\":\"ResetTool\"},{\"attributes\":{\"label\":{\"value\":\"ATP at 100C\"},\"renderers\":[{\"id\":\"7302\",\"type\":\"GlyphRenderer\"}]},\"id\":\"7314\",\"type\":\"LegendItem\"},{\"attributes\":{},\"id\":\"7281\",\"type\":\"BasicTickFormatter\"},{\"attributes\":{\"callback\":null,\"data\":{\"x\":{\"__ndarray__\":\"AAAAAAAAAAB2n+/aMj3BP3af79oyPdE/MW9nSMzb2T92n+/aMj3hP1SHq5F/jOU/MW9nSMzb6T8PVyP/GCvuP3af79oyPfE/ZZNNNtlk8z9Uh6uRf4z1P0N7Ce0ltPc/MW9nSMzb+T8gY8WjcgP8Pw9XI/8YK/4/f6VArV8pAEB2n+/aMj0BQG6ZnggGUQJAZZNNNtlkA0BdjfxjrHgEQFSHq5F/jAVATIFav1KgBkBDewntJbQHQDt1uBr5xwhAMW9nSMzbCUApaRZ2n+8KQCBjxaNyAwxAF1100UUXDUAPVyP/GCsOQAZR0izsPg9Af6VArV8pEEB7IhhESbMQQHaf79oyPRFAchzHcRzHEUBumZ4IBlESQGoWdp/v2hJAZZNNNtlkE0BhECXNwu4TQF2N/GOseBRAWQrU+pUCFUBUh6uRf4wVQFAEgyhpFhZATIFav1KgFkBH/jFWPCoXQEN7Ce0ltBdAP/jggw8+GEA7dbga+ccYQDbyj7HiURlAMW9nSMzbGUAt7D7ftWUaQClpFnaf7xpAJObtDIl5G0AgY8WjcgMcQBzgnDpcjRxAF1100UUXHUAT2ktoL6EdQA9XI/8YKx5AC9T6lQK1HkAGUdIs7D4fQALOqcPVyB9Af6VArV8pIED9Y6x4VG4gQHsiGERJsyBA+eCDDz74IEB2n+/aMj0hQPRdW6YngiFAchzHcRzHIUDw2jI9EQwiQG6ZnggGUSJA7FcK1PqVIkBqFnaf79oiQOfU4WrkHyNAZZNNNtlkI0DjUbkBzqkjQGEQJc3C7iNA386QmLczJEBdjfxjrHgkQNtLaC+hvSRAWQrU+pUCJUDWyD/GikclQFSHq5F/jCVA0kUXXXTRJUBQBIMoaRYmQM7C7vNdWyZATIFav1KgJkDKP8aKR+UmQEf+MVY8KidAxbydITFvJ0BDewntJbQnQME5dbga+SdAP/jggw8+KEC9tkxPBIMoQDt1uBr5xyhAuTMk5u0MKUA28o+x4lEpQLSw+3zXlilAMW9nSMzbKUCvLdMTwSAqQC3sPt+1ZSpAq6qqqqqqKkA=\",\"dtype\":\"float64\",\"shape\":[100]},\"y\":{\"__ndarray__\":\"AAAAAAAAJEBfd82rQNbfP/Ce0hdqUQFAnMsdHRvqDUCCDICd6oQTQPKza+LNwxZAbdiKjBUjGUCYJtpWSe0aQK8DTbYiURxAgS5Rj25sHUCUZc0hxFIeQMetadpsER9AgG8lDK+xH0CZHke5Fx0gQKXujTLmVyBABZdKAxWLIECsvhgIB7ggQP8pVNjO3yBAfNchAkQDIUA/E/XvESMhQOruWZHCPyFA3FYAFcZZIUBxMqmbeHEhQObskX0mhyFAjJFPgw+bIUD8mmxeaa0hQD0o8pNhviFAc6Mh+x7OIUDho8fqwtwhQMrl3ytq6iFAHKJpuC33IUCiBoBYIwMiQIqOsCFeDiJArQqz3u4YIkCDT6Bi5CIiQDJX/NZLLCJAT/HX7zA1IkB7zFQhnj0iQPcLvcicRSJAbpZdUDVNIkDLkSxNb1QiQFsNJJlRWyJACpgIaeJhIkBqNpRfJ2giQK+t650lbiJA8erf0eFzIkD9+ztCYHkiQHqS9NmkfiJAl88JMbODIkCO4oKVjogiQC5P0xE6jSJAORZpdbiRIkAtKU9XDJYiQAy/wx04miJAHbnbAT6eIkDdLYATIKIiQKd9Kj3gpSJArEYlR4CpIkAg/UHaAa0iQMtT+YJmsCJAfPwPs6+zIkD2rzvE3rYiQO8q5fn0uSJAu6z2gvO8IkA28i57278iQAFe1uytwiJAU1EC02vFIkDwJNoXFsgiQEziAJmtyiJAAjTQJjPNIkCCVqaFp88iQIhVtG4L0iJAYUrVkF/UIkDvWg+RpNYiQLsjtAvb2CJAhDRYlAPbIkB2ctG2Ht0iQNU5ofcs3yJALJtf1C7hIkAz7THEJOMiQJTJRzgP5SJAaQHQm+7mIkCg9HVVw+giQADt+MWN6iJA9TXlSU7sIkAifFI5Be4iQOUrK+iy7yJAi79gplfxIkC7xVHA8/IiQABc1X6H9CJAPkJ8JxP2IkBVzL/8lvciQI/qHz4T+SJAxHSqKIj6IkCjwwj29fsiQLXSfd5c/SJAxjwcF73+IkB0RCfTFgAjQAOGoENqASNAmYqql7cCI0A=\",\"dtype\":\"float64\",\"shape\":[100]}},\"selected\":{\"id\":\"7622\",\"type\":\"Selection\"},\"selection_policy\":{\"id\":\"7621\",\"type\":\"UnionRenderers\"}},\"id\":\"7315\",\"type\":\"ColumnDataSource\"},{\"attributes\":{},\"id\":\"7313\",\"type\":\"Selection\"},{\"attributes\":{},\"id\":\"7622\",\"type\":\"Selection\"},{\"attributes\":{\"click_policy\":\"hide\",\"items\":[{\"id\":\"7284\",\"type\":\"LegendItem\"},{\"id\":\"7298\",\"type\":\"LegendItem\"},{\"id\":\"7314\",\"type\":\"LegendItem\"},{\"id\":\"7332\",\"type\":\"LegendItem\"}],\"location\":\"bottom_right\"},\"id\":\"7283\",\"type\":\"Legend\"},{\"attributes\":{\"axis_label\":\"time (min)\",\"formatter\":{\"id\":\"7279\",\"type\":\"BasicTickFormatter\"},\"ticker\":{\"id\":\"7250\",\"type\":\"BasicTicker\"}},\"id\":\"7249\",\"type\":\"LinearAxis\"},{\"attributes\":{\"label\":{\"value\":\"ATP at 25C\"},\"renderers\":[{\"id\":\"7275\",\"type\":\"GlyphRenderer\"}]},\"id\":\"7284\",\"type\":\"LegendItem\"}],\"root_ids\":[\"7238\"]},\"title\":\"Bokeh Application\",\"version\":\"1.4.0\"}};\n",
       "  var render_items = [{\"docid\":\"bff39e3d-b995-41c5-b01f-205cab07244b\",\"roots\":{\"7238\":\"664ed7eb-b69b-432e-9b7c-4a853a0b1fab\"}}];\n",
       "  root.Bokeh.embed.embed_items_notebook(docs_json, render_items);\n",
       "\n",
       "  }\n",
       "  if (root.Bokeh !== undefined) {\n",
       "    embed_document(root);\n",
       "  } else {\n",
       "    var attempts = 0;\n",
       "    var timer = setInterval(function(root) {\n",
       "      if (root.Bokeh !== undefined) {\n",
       "        clearInterval(timer);\n",
       "        embed_document(root);\n",
       "      } else {\n",
       "        attempts++;\n",
       "        if (attempts > 100) {\n",
       "          clearInterval(timer);\n",
       "          console.log(\"Bokeh: ERROR: Unable to run BokehJS code because BokehJS library is missing\");\n",
       "        }\n",
       "      }\n",
       "    }, 10, root)\n",
       "  }\n",
       "})(window);"
      ],
      "application/vnd.bokehjs_exec.v0+json": ""
     },
     "metadata": {
      "application/vnd.bokehjs_exec.v0+json": {
       "id": "7238"
      }
     },
     "output_type": "display_data"
    }
   ],
   "source": [
    "p = bokeh.plotting.figure(width = 450, height = 350, title = 'Effect of Different Temperatures on ATP Curves',\n",
    "                          x_axis_label = 'time (min)',\n",
    "                          y_axis_label = 'concentration (nM)')\n",
    "timepoints_plt = timepoints/60\n",
    "p.line(timepoints_plt, results_25[ATP_id_25], color = palette[0], line_width = 2, legend_label = 'ATP at 25C')\n",
    "p.line(timepoints_plt, results_37[ATP_id_37], color = palette[1], line_width = 2, legend_label = 'ATP at 37C')\n",
    "p.line(timepoints_plt, results_100[ATP_id_100], color = palette[2], line_width = 2, legend_label = 'ATP at 100C')\n",
    "p.line(timepoints_plt, results_original[ATP_id_orig], color = palette[3], line_width = 2, legend_label = 'ATP for original')\n",
    "p.legend.location = 'bottom_right'\n",
    "\n",
    "p.legend.click_policy = 'hide'\n",
    "bokeh.io.show(p)"
   ]
  },
  {
   "cell_type": "code",
   "execution_count": 57,
   "metadata": {},
   "outputs": [
    {
     "data": {
      "text/html": [
       "\n",
       "\n",
       "\n",
       "\n",
       "\n",
       "\n",
       "  <div class=\"bk-root\" id=\"b3c9c5cd-ece9-4c07-9e87-e2e629cce748\" data-root-id=\"4610\"></div>\n"
      ]
     },
     "metadata": {},
     "output_type": "display_data"
    },
    {
     "data": {
      "application/javascript": [
       "(function(root) {\n",
       "  function embed_document(root) {\n",
       "    \n",
       "  var docs_json = {\"198381b0-99be-4a1f-9d66-ec5beae5f884\":{\"roots\":{\"references\":[{\"attributes\":{\"below\":[{\"id\":\"4621\",\"type\":\"LinearAxis\"}],\"center\":[{\"id\":\"4625\",\"type\":\"Grid\"},{\"id\":\"4630\",\"type\":\"Grid\"},{\"id\":\"4655\",\"type\":\"Legend\"}],\"left\":[{\"id\":\"4626\",\"type\":\"LinearAxis\"}],\"plot_height\":350,\"plot_width\":450,\"renderers\":[{\"id\":\"4647\",\"type\":\"GlyphRenderer\"},{\"id\":\"4660\",\"type\":\"GlyphRenderer\"},{\"id\":\"4674\",\"type\":\"GlyphRenderer\"},{\"id\":\"4690\",\"type\":\"GlyphRenderer\"}],\"title\":{\"id\":\"4611\",\"type\":\"Title\"},\"toolbar\":{\"id\":\"4637\",\"type\":\"Toolbar\"},\"x_range\":{\"id\":\"4613\",\"type\":\"DataRange1d\"},\"x_scale\":{\"id\":\"4617\",\"type\":\"LinearScale\"},\"y_range\":{\"id\":\"4615\",\"type\":\"DataRange1d\"},\"y_scale\":{\"id\":\"4619\",\"type\":\"LinearScale\"}},\"id\":\"4610\",\"subtype\":\"Figure\",\"type\":\"Plot\"},{\"attributes\":{},\"id\":\"4669\",\"type\":\"Selection\"},{\"attributes\":{\"axis_label\":\"time (hrs)\",\"formatter\":{\"id\":\"4651\",\"type\":\"BasicTickFormatter\"},\"ticker\":{\"id\":\"4622\",\"type\":\"BasicTicker\"}},\"id\":\"4621\",\"type\":\"LinearAxis\"},{\"attributes\":{\"label\":{\"value\":\"25C\"},\"renderers\":[{\"id\":\"4647\",\"type\":\"GlyphRenderer\"}]},\"id\":\"4656\",\"type\":\"LegendItem\"},{\"attributes\":{\"dimension\":1,\"ticker\":{\"id\":\"4627\",\"type\":\"BasicTicker\"}},\"id\":\"4630\",\"type\":\"Grid\"},{\"attributes\":{\"label\":{\"value\":\"37C\"},\"renderers\":[{\"id\":\"4660\",\"type\":\"GlyphRenderer\"}]},\"id\":\"4670\",\"type\":\"LegendItem\"},{\"attributes\":{\"line_color\":\"#9367bc\",\"line_width\":2,\"x\":{\"field\":\"x\"},\"y\":{\"field\":\"y\"}},\"id\":\"4688\",\"type\":\"Line\"},{\"attributes\":{\"line_color\":\"#1f77b3\",\"line_width\":2,\"x\":{\"field\":\"x\"},\"y\":{\"field\":\"y\"}},\"id\":\"4645\",\"type\":\"Line\"},{\"attributes\":{},\"id\":\"4684\",\"type\":\"UnionRenderers\"},{\"attributes\":{\"click_policy\":\"hide\",\"items\":[{\"id\":\"4656\",\"type\":\"LegendItem\"},{\"id\":\"4670\",\"type\":\"LegendItem\"},{\"id\":\"4686\",\"type\":\"LegendItem\"},{\"id\":\"4704\",\"type\":\"LegendItem\"}],\"location\":\"bottom_right\"},\"id\":\"4655\",\"type\":\"Legend\"},{\"attributes\":{\"callback\":null,\"data\":{\"x\":{\"__ndarray__\":\"AAAAAAAAAAD0kcwotrK2P/SRzCi2ssY/d22ZnggG0T/0kcwotrLWP3K2/7JjX9w/d22ZnggG4T+2/7JjX9zjP/SRzCi2suY/MyTm7QyJ6T9ytv+yY1/sP7BIGXi6Ne8/d22ZnggG8T+WNiYBNHHyP7b/smNf3PM/1sg/xopH9T/0kcwotrL2PxNbWYvhHfg/MyTm7QyJ+T9T7XJQOPT6P3K2/7JjX/w/kH+MFY/K/T+wSBl4ujX/P+gIU+1yUABAd22ZnggGAUAG0t9PnrsBQJY2JgE0cQJAJptssskmA0C2/7JjX9wDQEVk+RT1kQRA1sg/xopHBUBlLYZ3IP0FQPSRzCi2sgZAhPYS2ktoB0ATW1mL4R0IQKS/nzx30whAMyTm7QyJCUDCiCyfoj4KQFPtclA49ApA4lG5Ac6pC0Bytv+yY18MQAEbRmT5FA1AkH+MFY/KDUAh5NLGJIAOQLBIGXi6NQ9AQK1fKVDrD0DoCFPtclAQQDA79sU9qxBAd22ZnggGEUC/nzx302ARQAbS30+euxFATwSDKGkWEkCWNiYBNHESQN9oydn+yxJAJptssskmE0BuzQ+LlIETQLb/smNf3BNA/jFWPCo3FEBFZPkU9ZEUQI2WnO2/7BRA1sg/xopHFUAe++KeVaIVQGUthncg/RVArV8pUOtXFkD0kcwotrIWQD3EbwGBDRdAhPYS2ktoF0DMKLayFsMXQBNbWYvhHRhAXI38Y6x4GECkv588d9MYQOzxQhVCLhlAMyTm7QyJGUB7VonG1+MZQMKILJ+iPhpAC7vPd22ZGkBT7XJQOPQaQJsfFikDTxtA4lG5Ac6pG0AqhFzamAQcQHK2/7JjXxxAuuiiiy66HEABG0Zk+RQdQElN6TzEbx1AkH+MFY/KHUDasS/uWSUeQCHk0sYkgB5AaRZ2n+/aHkCwSBl4ujUfQPl6vFCFkB9AQK1fKVDrH0DEbwGBDSMgQOgIU+1yUCBADKKkWdh9IEAwO/bFPasgQFTURzKj2CBAd22ZnggGIUCcBusKbjMhQL+fPHfTYCFA4ziO4ziOIUA=\",\"dtype\":\"float64\",\"shape\":[100]},\"y\":{\"__ndarray__\":\"AAAAAAAAAAA9SzMdU1DhPx5Eq8YRtf8/TwwUhRoEDEAiU6sRWJgTQJj+JULSrBhAz6mi6pdKHUCzlJwwOr4gQDJn5bggpiJA6OAssXlhJEDoU66aVvQlQE6TINxpYidAXMtrcA+vKEB0GNnKVN0pQGyb9QIA8CpA/1FrWJbpK0D8vzofYswsQEoSwiB4mi1AHLGjf7xVLkDoN9co5/8uQBarVN2Hmi9Az8mC7oQTMEDJozCeW1MwQPhhvvVdjTBAC91zOxTCMEChtOpD+vEwQOZx95SAHTFAyKsHbg1FMUB7VEy4/WgxQEhq/uCliTFA1rizn1KnMUCJNJqqScIxQM4fYFrK2jFA1ebAPg7xMUCCVuGlSQUyQC6ohBasFzJAHqeYwWAoMkDppvfljjcyQGDbbyxaRTJAlg3v/OJRMkCPBprJRl0yQHSDIlSgZzJAHgrk7AdxMkBWL0qrk3kyQPtayKNXgTJA+aikE2aIMkC6y9mOz44yQFP3OyWjlDJAfTMDh+6ZMkCJyWUkvp4yQFvSd0odozJAaLNaPhanMkATQypVsqoyQIjtsQn6rTJAeNGFEPWwMkDfCzVqqrMyQFoCl3MgtjJAn9y39Fy4MkB83oIuZboyQOXTFec9vDJA0fH9dOu9MkDcvU7Jcb8yQCa/5njUwDJAfZ8txRbCMkCKphujO8MyQLN7xsJFxDJA131blTfFMkCHBdtSE8YyQNTGVv/axjJAys0TcJDHMkDCkHBPNcgyQEMtpSDLyDJAzXOLQ1PJMkDEye/3zskyQBpdi2A/yjJAF9NzhaXKMkB9gY9WAssyQJhA4q1WyzJArbySUaPLMkAqUrD16MsyQLmj0z0ozDJAw+CivmHMMkDF9zH/lcwyQIEXQHrFzDJAGrtZn/DMMkDGgdvTF80yQPbR4nM7zTJAdoAe01vNMkDlgpk9ec0yQG7zbfiTzTJArQ9nQqzNMkB+ypNUws0yQJYuzmLWzTJAh4sxnOjNMkB4XY4r+c0yQBi2yzcIzjJAMDdC5BXOMkBVzhVRIs4yQO0gdZstzjJAovnk3TfOMkA=\",\"dtype\":\"float64\",\"shape\":[100]}},\"selected\":{\"id\":\"4685\",\"type\":\"Selection\"},\"selection_policy\":{\"id\":\"4684\",\"type\":\"UnionRenderers\"}},\"id\":\"4657\",\"type\":\"ColumnDataSource\"},{\"attributes\":{},\"id\":\"4622\",\"type\":\"BasicTicker\"},{\"attributes\":{\"callback\":null,\"data\":{\"x\":{\"__ndarray__\":\"AAAAAAAAAAD0kcwotrK2P/SRzCi2ssY/d22ZnggG0T/0kcwotrLWP3K2/7JjX9w/d22ZnggG4T+2/7JjX9zjP/SRzCi2suY/MyTm7QyJ6T9ytv+yY1/sP7BIGXi6Ne8/d22ZnggG8T+WNiYBNHHyP7b/smNf3PM/1sg/xopH9T/0kcwotrL2PxNbWYvhHfg/MyTm7QyJ+T9T7XJQOPT6P3K2/7JjX/w/kH+MFY/K/T+wSBl4ujX/P+gIU+1yUABAd22ZnggGAUAG0t9PnrsBQJY2JgE0cQJAJptssskmA0C2/7JjX9wDQEVk+RT1kQRA1sg/xopHBUBlLYZ3IP0FQPSRzCi2sgZAhPYS2ktoB0ATW1mL4R0IQKS/nzx30whAMyTm7QyJCUDCiCyfoj4KQFPtclA49ApA4lG5Ac6pC0Bytv+yY18MQAEbRmT5FA1AkH+MFY/KDUAh5NLGJIAOQLBIGXi6NQ9AQK1fKVDrD0DoCFPtclAQQDA79sU9qxBAd22ZnggGEUC/nzx302ARQAbS30+euxFATwSDKGkWEkCWNiYBNHESQN9oydn+yxJAJptssskmE0BuzQ+LlIETQLb/smNf3BNA/jFWPCo3FEBFZPkU9ZEUQI2WnO2/7BRA1sg/xopHFUAe++KeVaIVQGUthncg/RVArV8pUOtXFkD0kcwotrIWQD3EbwGBDRdAhPYS2ktoF0DMKLayFsMXQBNbWYvhHRhAXI38Y6x4GECkv588d9MYQOzxQhVCLhlAMyTm7QyJGUB7VonG1+MZQMKILJ+iPhpAC7vPd22ZGkBT7XJQOPQaQJsfFikDTxtA4lG5Ac6pG0AqhFzamAQcQHK2/7JjXxxAuuiiiy66HEABG0Zk+RQdQElN6TzEbx1AkH+MFY/KHUDasS/uWSUeQCHk0sYkgB5AaRZ2n+/aHkCwSBl4ujUfQPl6vFCFkB9AQK1fKVDrH0DEbwGBDSMgQOgIU+1yUCBADKKkWdh9IEAwO/bFPasgQFTURzKj2CBAd22ZnggGIUCcBusKbjMhQL+fPHfTYCFA4ziO4ziOIUA=\",\"dtype\":\"float64\",\"shape\":[100]},\"y\":{\"__ndarray__\":\"AAAAAAAAAAC4fzHGiKW1PybsLqr+9tg/AGTs7NYX7D8qN1BmV+n3P7BrjglWggFAK0lXtpNZB0AKvu2p9jsNQKkGVBqefxFAKC4UI0VEFEAtawkx/+MWQCRkFYudWhlAfmy70namG0DAhUqCiscdQKh90rHpvh9AQBUS7yfHIECnyepL7pshQM0oRuHxXiJAL0OopmYRI0DSEzLPf7QjQHBQNrVoSSRA+XyhWUDRJECTbwuxFk0lQOmTfS/rvSVA02OWMqwkJkDEMh8BN4ImQOQHDDJY1yZA+xWrUcwkJ0DfF2qyQGsnQM/ArFNUqydAsnsv0ZjlJ0CrI3hVkxooQNFjAIe9SihAUpr0bIZ2KEDVWyhJU54oQOpwZWWAwihA9Uyr02HjKEAXAJYgRAEpQPfDx/psHClAiS0Wyxs1KUBU0YtAikspQJrmt9TsXylA9bWfPnNyKUDDB3HiSIMpQIUyajKVkilA1kbJDHygKUA9pyAMHq0pQMrYNtKYuClAOXvDTgfDKUCc9Wj9gcwpQC4LLh4f1SlApci46fLcKUB4f9fAD+QpQIkF6VaG6ilAxDFg2WXwKUDWkywTvPUpQHpW74yV+ilATckaqv3+KUB8LFHE/gIqQO5GAUSiBipAX2PrtPAJKkB5cAfb8QwqQE0HJMWsDypA4sEu3ScSKkBOsAH3aBQqQK1aMl51FipAjvSZ4lEYKkBOBaXjAhoqQIaMhFqMGypA+j+B4/EcKkC/N3/GNh4qQNY4tP5dHypAdpSjQWogKkBbXn0FXiEqQM0J4IY7IipA1xEpzgQjKkCvGTW0uyMqQK7Wr+ZhJCpAw9oE7PgkKkDdTvgmgiUqQBq/5tn+JSpAnL6/KXAmKkAvSLsg1yYqQEXMvbA0JypAwZ2RtYknKkAQkO721icqQJd6TiodKCpAO9GZ9FwoKkD3kKvrligqQIRhs5fLKCpAjLV5dPsoKkBsjWfyJikqQNeRoXdOKSpAI938YHIpKkD7X9gCkykqQESl3qmwKSpAEJu2m8spKkB9JqsX5CkqQKTXQFf6KSpADIC7jg4qKkA=\",\"dtype\":\"float64\",\"shape\":[100]}},\"selected\":{\"id\":\"4703\",\"type\":\"Selection\"},\"selection_policy\":{\"id\":\"4702\",\"type\":\"UnionRenderers\"}},\"id\":\"4671\",\"type\":\"ColumnDataSource\"},{\"attributes\":{\"line_alpha\":0.1,\"line_color\":\"#1f77b4\",\"line_width\":2,\"x\":{\"field\":\"x\"},\"y\":{\"field\":\"y\"}},\"id\":\"4646\",\"type\":\"Line\"},{\"attributes\":{\"line_color\":\"#ff7e0e\",\"line_width\":2,\"x\":{\"field\":\"x\"},\"y\":{\"field\":\"y\"}},\"id\":\"4658\",\"type\":\"Line\"},{\"attributes\":{\"ticker\":{\"id\":\"4622\",\"type\":\"BasicTicker\"}},\"id\":\"4625\",\"type\":\"Grid\"},{\"attributes\":{\"active_drag\":\"auto\",\"active_inspect\":\"auto\",\"active_multi\":null,\"active_scroll\":\"auto\",\"active_tap\":\"auto\",\"tools\":[{\"id\":\"4631\",\"type\":\"PanTool\"},{\"id\":\"4632\",\"type\":\"WheelZoomTool\"},{\"id\":\"4633\",\"type\":\"BoxZoomTool\"},{\"id\":\"4634\",\"type\":\"SaveTool\"},{\"id\":\"4635\",\"type\":\"ResetTool\"},{\"id\":\"4636\",\"type\":\"HelpTool\"}]},\"id\":\"4637\",\"type\":\"Toolbar\"},{\"attributes\":{\"line_alpha\":0.1,\"line_color\":\"#1f77b4\",\"line_width\":2,\"x\":{\"field\":\"x\"},\"y\":{\"field\":\"y\"}},\"id\":\"4673\",\"type\":\"Line\"},{\"attributes\":{},\"id\":\"4668\",\"type\":\"UnionRenderers\"},{\"attributes\":{\"line_alpha\":0.1,\"line_color\":\"#1f77b4\",\"line_width\":2,\"x\":{\"field\":\"x\"},\"y\":{\"field\":\"y\"}},\"id\":\"4659\",\"type\":\"Line\"},{\"attributes\":{\"data_source\":{\"id\":\"4671\",\"type\":\"ColumnDataSource\"},\"glyph\":{\"id\":\"4672\",\"type\":\"Line\"},\"hover_glyph\":null,\"muted_glyph\":null,\"nonselection_glyph\":{\"id\":\"4673\",\"type\":\"Line\"},\"selection_glyph\":null,\"view\":{\"id\":\"4675\",\"type\":\"CDSView\"}},\"id\":\"4674\",\"type\":\"GlyphRenderer\"},{\"attributes\":{},\"id\":\"4627\",\"type\":\"BasicTicker\"},{\"attributes\":{},\"id\":\"4653\",\"type\":\"BasicTickFormatter\"},{\"attributes\":{},\"id\":\"4631\",\"type\":\"PanTool\"},{\"attributes\":{},\"id\":\"4619\",\"type\":\"LinearScale\"},{\"attributes\":{},\"id\":\"4632\",\"type\":\"WheelZoomTool\"},{\"attributes\":{\"source\":{\"id\":\"4671\",\"type\":\"ColumnDataSource\"}},\"id\":\"4675\",\"type\":\"CDSView\"},{\"attributes\":{\"overlay\":{\"id\":\"4654\",\"type\":\"BoxAnnotation\"}},\"id\":\"4633\",\"type\":\"BoxZoomTool\"},{\"attributes\":{\"callback\":null},\"id\":\"4615\",\"type\":\"DataRange1d\"},{\"attributes\":{\"label\":{\"value\":\"100C\"},\"renderers\":[{\"id\":\"4674\",\"type\":\"GlyphRenderer\"}]},\"id\":\"4686\",\"type\":\"LegendItem\"},{\"attributes\":{},\"id\":\"4634\",\"type\":\"SaveTool\"},{\"attributes\":{\"callback\":null,\"data\":{\"x\":{\"__ndarray__\":\"AAAAAAAAAAD0kcwotrK2P/SRzCi2ssY/d22ZnggG0T/0kcwotrLWP3K2/7JjX9w/d22ZnggG4T+2/7JjX9zjP/SRzCi2suY/MyTm7QyJ6T9ytv+yY1/sP7BIGXi6Ne8/d22ZnggG8T+WNiYBNHHyP7b/smNf3PM/1sg/xopH9T/0kcwotrL2PxNbWYvhHfg/MyTm7QyJ+T9T7XJQOPT6P3K2/7JjX/w/kH+MFY/K/T+wSBl4ujX/P+gIU+1yUABAd22ZnggGAUAG0t9PnrsBQJY2JgE0cQJAJptssskmA0C2/7JjX9wDQEVk+RT1kQRA1sg/xopHBUBlLYZ3IP0FQPSRzCi2sgZAhPYS2ktoB0ATW1mL4R0IQKS/nzx30whAMyTm7QyJCUDCiCyfoj4KQFPtclA49ApA4lG5Ac6pC0Bytv+yY18MQAEbRmT5FA1AkH+MFY/KDUAh5NLGJIAOQLBIGXi6NQ9AQK1fKVDrD0DoCFPtclAQQDA79sU9qxBAd22ZnggGEUC/nzx302ARQAbS30+euxFATwSDKGkWEkCWNiYBNHESQN9oydn+yxJAJptssskmE0BuzQ+LlIETQLb/smNf3BNA/jFWPCo3FEBFZPkU9ZEUQI2WnO2/7BRA1sg/xopHFUAe++KeVaIVQGUthncg/RVArV8pUOtXFkD0kcwotrIWQD3EbwGBDRdAhPYS2ktoF0DMKLayFsMXQBNbWYvhHRhAXI38Y6x4GECkv588d9MYQOzxQhVCLhlAMyTm7QyJGUB7VonG1+MZQMKILJ+iPhpAC7vPd22ZGkBT7XJQOPQaQJsfFikDTxtA4lG5Ac6pG0AqhFzamAQcQHK2/7JjXxxAuuiiiy66HEABG0Zk+RQdQElN6TzEbx1AkH+MFY/KHUDasS/uWSUeQCHk0sYkgB5AaRZ2n+/aHkCwSBl4ujUfQPl6vFCFkB9AQK1fKVDrH0DEbwGBDSMgQOgIU+1yUCBADKKkWdh9IEAwO/bFPasgQFTURzKj2CBAd22ZnggGIUCcBusKbjMhQL+fPHfTYCFA4ziO4ziOIUA=\",\"dtype\":\"float64\",\"shape\":[100]},\"y\":{\"__ndarray__\":\"AAAAAAAAAAADspUpNrjZP8tqT+QMs/k/pbDk34wpCEBtpPI7nnMRQLpoWmc0XRZAQ1YbmDnVGkAVOsQA/uQeQC5YO9bsSiFAnRmKqzf4IkA7G3ctT34kQLRurJvH4CVA3AaxpuEiJ0DLnr/6kUcoQDjqbCyIUSlAfV4MBzVDKkCFeklI0B4rQGt5fNVd5itA3jfxeLKbLEDRpZIteEAtQPg8ywcy1i1AKnGcwz9eLkCOftz+4NkuQHuZpyc4Si9AuMNJJk2wL0Cn3FDlhwYwQL/U4P6sMDBAZKGP4fhWMECXF4CExXkwQNvh0KdkmTBAlBWBlCC2MEA2IwvLPNAwQC6q/aH25zBApyPh1YX9MEC94WMMHRExQJNdDkvqIjFAo+unYxczMUBDDRFWykExQNqtnaolTzFA/O5XwkhbMUBORcQgUGYxQCcNpa1VcDFAa2ks9HB5MUBUYo1Yt4ExQBrYxEs8iTFAZS7edxGQMUBtj7zpRpYxQJescTfrmzFAe2P2oQuhMUAz82E0tKUxQO2kJODvqTFAIZ5Wl8itMUBmHu9iR7ExQO/UHnl0tDFAZ0sHUFe3MUBh79au9rkxQL4+QL9YvDFAtTJzGoO+MUBkk3bWesAxQEhkzJJEwjFABHa9guTDMUD5VFt3XsUxQJKllOi1xjFAhjg3/e3HMUDUSl2SCckxQE4FOkILyjFAg9g4avXKMUBP620wyssxQEEopoiLzDFAW5oYOTvNMUBm2Xze2s0xQOxE0e9rzjFAppnuwe/OMUBVvISKZ88xQHgW8GLUzzFAEnzdSjfQMUCuqagqkdAxQMh6fNXi0DFAVMc1Cy3RMUDF4SZ6cNExQIgct8Ct0TFAhRXZbuXRMUCXeVsHGNIxQLSgGgFG0jFA2XwXyG/SMUDR+XW+ldIxQJuGYz240jFAXaznldfSMUBnsqQR9NIxQNdnifMN0zFAK5hjeCXTMUBj0XLXOtMxQCrl6kJO0zFAbw1p6F/TMUA4RmHxb9MxQKzTf4N+0zFAtSf/wIvTMUAt9vnIl9MxQENpuLei0zFAV7TmpqzTMUA=\",\"dtype\":\"float64\",\"shape\":[100]}},\"selected\":{\"id\":\"4669\",\"type\":\"Selection\"},\"selection_policy\":{\"id\":\"4668\",\"type\":\"UnionRenderers\"}},\"id\":\"4644\",\"type\":\"ColumnDataSource\"},{\"attributes\":{\"axis_label\":\"concentration (nM)\",\"formatter\":{\"id\":\"4653\",\"type\":\"BasicTickFormatter\"},\"ticker\":{\"id\":\"4627\",\"type\":\"BasicTicker\"}},\"id\":\"4626\",\"type\":\"LinearAxis\"},{\"attributes\":{\"callback\":null,\"data\":{\"x\":{\"__ndarray__\":\"AAAAAAAAAAD0kcwotrK2P/SRzCi2ssY/d22ZnggG0T/0kcwotrLWP3K2/7JjX9w/d22ZnggG4T+2/7JjX9zjP/SRzCi2suY/MyTm7QyJ6T9ytv+yY1/sP7BIGXi6Ne8/d22ZnggG8T+WNiYBNHHyP7b/smNf3PM/1sg/xopH9T/0kcwotrL2PxNbWYvhHfg/MyTm7QyJ+T9T7XJQOPT6P3K2/7JjX/w/kH+MFY/K/T+wSBl4ujX/P+gIU+1yUABAd22ZnggGAUAG0t9PnrsBQJY2JgE0cQJAJptssskmA0C2/7JjX9wDQEVk+RT1kQRA1sg/xopHBUBlLYZ3IP0FQPSRzCi2sgZAhPYS2ktoB0ATW1mL4R0IQKS/nzx30whAMyTm7QyJCUDCiCyfoj4KQFPtclA49ApA4lG5Ac6pC0Bytv+yY18MQAEbRmT5FA1AkH+MFY/KDUAh5NLGJIAOQLBIGXi6NQ9AQK1fKVDrD0DoCFPtclAQQDA79sU9qxBAd22ZnggGEUC/nzx302ARQAbS30+euxFATwSDKGkWEkCWNiYBNHESQN9oydn+yxJAJptssskmE0BuzQ+LlIETQLb/smNf3BNA/jFWPCo3FEBFZPkU9ZEUQI2WnO2/7BRA1sg/xopHFUAe++KeVaIVQGUthncg/RVArV8pUOtXFkD0kcwotrIWQD3EbwGBDRdAhPYS2ktoF0DMKLayFsMXQBNbWYvhHRhAXI38Y6x4GECkv588d9MYQOzxQhVCLhlAMyTm7QyJGUB7VonG1+MZQMKILJ+iPhpAC7vPd22ZGkBT7XJQOPQaQJsfFikDTxtA4lG5Ac6pG0AqhFzamAQcQHK2/7JjXxxAuuiiiy66HEABG0Zk+RQdQElN6TzEbx1AkH+MFY/KHUDasS/uWSUeQCHk0sYkgB5AaRZ2n+/aHkCwSBl4ujUfQPl6vFCFkB9AQK1fKVDrH0DEbwGBDSMgQOgIU+1yUCBADKKkWdh9IEAwO/bFPasgQFTURzKj2CBAd22ZnggGIUCcBusKbjMhQL+fPHfTYCFA4ziO4ziOIUA=\",\"dtype\":\"float64\",\"shape\":[100]},\"y\":{\"__ndarray__\":\"AAAAAAAAAABxe4r7Xw/zP8Fg/rjwHgdAji3FQ9rREUDWO8IDHYIXQDKahyxlrRxArXMrmuuvIEDWkVvwPdIiQI0wqwKtwiRACIG3CMeFJkDU4q67rx8oQGyLxw8qlClAZLNdCqHmKkAKDMHJLxosQP6dptCoMS1An2/dp5wvLkBNM9nkXxYvQCOJLqIQ6C9ACv8BvU1TMEAoEdUF4KkwQNHbuoqK+DBANXXaGAZAMUAOZ7Cd+oAxQE1hfbAAvDFA8Wsu+aLxMUDkfzl4XyIyQBe3O6qoTjJAF7W7mOZ2MkBdraLMd5syQM92Mi2yvDJAh5/GyePaMkDUu4+QU/YyQDuddPVBDzNA5UW1iuklM0CO4w6IfzozQH8v6Uk0TTNAsZQywTNeM0AOgYHdpW0zQG6eHueuezNAa3H91m+IM0BxQ/aiBpQzQOCDo4SOnjNAYMcnOSCoM0DyWko70rAzQHiOg/i4uDNAW3SHAOe/M0AdiUIxbcYzQLQPT95azDNAgpTd9L3RM0DbqWEco9YzQGS8WNUV2zNAQuCokiDfM0C4cevSzOIzQLYDCzcj5jNApMlIlivpM0CEAnEQ7eszQNGiwh5u7jNApoc5o7TwM0CJJE32xfIzQMC+dvOm9DNAEvifBFz2M0BcE40s6fczQLmzPRBS+TNAyNR8/5n6M0DN46n8w/szQLFizMPS/DNAkiv+0Mj9M0APxEhmqP4zQEJR7JBz/zNAcKUtLiwANECfy7zv0wA0QL96sV9sATRA3fgm5PYBNEBIuoLCdAI0QPRPcyLnAjRAagirEE8DNEAERVOBrQM0QNjXR1IDBDRAsPMgTVEENECw6AwpmAQ0QDfzgIzYBDRAjIbBDhMFNEC7OkM5SAU0QNlE7Ih4BTRA54w5b6QFNEAXkEtTzAU0QNV73JLwBTRAWtcRgxEGNEA7IklxLwY0QIqF1KNKBjRAxY2UWmMGNEBk9ZPPeQY0QIKfmDeOBjRAQhKXwqAGNEAfRh6csQY0QHR0v+vABjRAi8Rv1c4GNECWq+B52wY0QD1RwfbmBjRAuVQZZ/EGNEA=\",\"dtype\":\"float64\",\"shape\":[100]}},\"selected\":{\"id\":\"4902\",\"type\":\"Selection\"},\"selection_policy\":{\"id\":\"4901\",\"type\":\"UnionRenderers\"}},\"id\":\"4687\",\"type\":\"ColumnDataSource\"},{\"attributes\":{},\"id\":\"4635\",\"type\":\"ResetTool\"},{\"attributes\":{\"line_color\":\"#2ba02b\",\"line_width\":2,\"x\":{\"field\":\"x\"},\"y\":{\"field\":\"y\"}},\"id\":\"4672\",\"type\":\"Line\"},{\"attributes\":{\"line_alpha\":0.1,\"line_color\":\"#1f77b4\",\"line_width\":2,\"x\":{\"field\":\"x\"},\"y\":{\"field\":\"y\"}},\"id\":\"4689\",\"type\":\"Line\"},{\"attributes\":{\"data_source\":{\"id\":\"4644\",\"type\":\"ColumnDataSource\"},\"glyph\":{\"id\":\"4645\",\"type\":\"Line\"},\"hover_glyph\":null,\"muted_glyph\":null,\"nonselection_glyph\":{\"id\":\"4646\",\"type\":\"Line\"},\"selection_glyph\":null,\"view\":{\"id\":\"4648\",\"type\":\"CDSView\"}},\"id\":\"4647\",\"type\":\"GlyphRenderer\"},{\"attributes\":{},\"id\":\"4685\",\"type\":\"Selection\"},{\"attributes\":{\"data_source\":{\"id\":\"4687\",\"type\":\"ColumnDataSource\"},\"glyph\":{\"id\":\"4688\",\"type\":\"Line\"},\"hover_glyph\":null,\"muted_glyph\":null,\"nonselection_glyph\":{\"id\":\"4689\",\"type\":\"Line\"},\"selection_glyph\":null,\"view\":{\"id\":\"4691\",\"type\":\"CDSView\"}},\"id\":\"4690\",\"type\":\"GlyphRenderer\"},{\"attributes\":{\"callback\":null},\"id\":\"4613\",\"type\":\"DataRange1d\"},{\"attributes\":{},\"id\":\"4636\",\"type\":\"HelpTool\"},{\"attributes\":{\"text\":\"Effect of Different Temperatures on Bound Protein\"},\"id\":\"4611\",\"type\":\"Title\"},{\"attributes\":{\"source\":{\"id\":\"4687\",\"type\":\"ColumnDataSource\"}},\"id\":\"4691\",\"type\":\"CDSView\"},{\"attributes\":{},\"id\":\"4702\",\"type\":\"UnionRenderers\"},{\"attributes\":{\"source\":{\"id\":\"4657\",\"type\":\"ColumnDataSource\"}},\"id\":\"4661\",\"type\":\"CDSView\"},{\"attributes\":{\"bottom_units\":\"screen\",\"fill_alpha\":{\"value\":0.5},\"fill_color\":{\"value\":\"lightgrey\"},\"left_units\":\"screen\",\"level\":\"overlay\",\"line_alpha\":{\"value\":1.0},\"line_color\":{\"value\":\"black\"},\"line_dash\":[4,4],\"line_width\":{\"value\":2},\"render_mode\":\"css\",\"right_units\":\"screen\",\"top_units\":\"screen\"},\"id\":\"4654\",\"type\":\"BoxAnnotation\"},{\"attributes\":{},\"id\":\"4902\",\"type\":\"Selection\"},{\"attributes\":{\"label\":{\"value\":\"original\"},\"renderers\":[{\"id\":\"4690\",\"type\":\"GlyphRenderer\"}]},\"id\":\"4704\",\"type\":\"LegendItem\"},{\"attributes\":{},\"id\":\"4651\",\"type\":\"BasicTickFormatter\"},{\"attributes\":{},\"id\":\"4617\",\"type\":\"LinearScale\"},{\"attributes\":{\"data_source\":{\"id\":\"4657\",\"type\":\"ColumnDataSource\"},\"glyph\":{\"id\":\"4658\",\"type\":\"Line\"},\"hover_glyph\":null,\"muted_glyph\":null,\"nonselection_glyph\":{\"id\":\"4659\",\"type\":\"Line\"},\"selection_glyph\":null,\"view\":{\"id\":\"4661\",\"type\":\"CDSView\"}},\"id\":\"4660\",\"type\":\"GlyphRenderer\"},{\"attributes\":{},\"id\":\"4703\",\"type\":\"Selection\"},{\"attributes\":{},\"id\":\"4901\",\"type\":\"UnionRenderers\"},{\"attributes\":{\"source\":{\"id\":\"4644\",\"type\":\"ColumnDataSource\"}},\"id\":\"4648\",\"type\":\"CDSView\"}],\"root_ids\":[\"4610\"]},\"title\":\"Bokeh Application\",\"version\":\"1.4.0\"}};\n",
       "  var render_items = [{\"docid\":\"198381b0-99be-4a1f-9d66-ec5beae5f884\",\"roots\":{\"4610\":\"b3c9c5cd-ece9-4c07-9e87-e2e629cce748\"}}];\n",
       "  root.Bokeh.embed.embed_items_notebook(docs_json, render_items);\n",
       "\n",
       "  }\n",
       "  if (root.Bokeh !== undefined) {\n",
       "    embed_document(root);\n",
       "  } else {\n",
       "    var attempts = 0;\n",
       "    var timer = setInterval(function(root) {\n",
       "      if (root.Bokeh !== undefined) {\n",
       "        clearInterval(timer);\n",
       "        embed_document(root);\n",
       "      } else {\n",
       "        attempts++;\n",
       "        if (attempts > 100) {\n",
       "          clearInterval(timer);\n",
       "          console.log(\"Bokeh: ERROR: Unable to run BokehJS code because BokehJS library is missing\");\n",
       "        }\n",
       "      }\n",
       "    }, 10, root)\n",
       "  }\n",
       "})(window);"
      ],
      "application/vnd.bokehjs_exec.v0+json": ""
     },
     "metadata": {
      "application/vnd.bokehjs_exec.v0+json": {
       "id": "4610"
      }
     },
     "output_type": "display_data"
    }
   ],
   "source": [
    "p1 = bokeh.plotting.figure(width = 450, height = 350, title = 'Effect of Different Temperatures on Bound Protein',\n",
    "                          x_axis_label = 'time (hrs)',\n",
    "                          y_axis_label = 'concentration (nM)')\n",
    "plt_timepoints = timepoints/60/60\n",
    "p1.line(plt_timepoints, results_25[atp_synthase_b_protein_id_25], color = palette[0], line_width = 2, legend_label = '25C')\n",
    "p1.line(plt_timepoints, results_37[atp_synthase_b_protein_id_37], color = palette[1], line_width = 2, legend_label = '37C')\n",
    "p1.line(plt_timepoints, results_100[atp_synthase_b_protein_id_100], color = palette[2], line_width = 2, legend_label = '100C')\n",
    "p1.line(plt_timepoints, results_original[atp_synthase_b_protein_id_orig], color = palette[3], line_width = 2, legend_label = 'original')\n",
    "\n",
    "p1.legend.location = 'bottom_right'\n",
    "\n",
    "p1.legend.click_policy = 'hide'\n",
    "bokeh.io.show(p1)"
   ]
  },
  {
   "cell_type": "code",
   "execution_count": 27,
   "metadata": {},
   "outputs": [
    {
     "data": {
      "text/html": [
       "\n",
       "\n",
       "\n",
       "\n",
       "\n",
       "\n",
       "  <div class=\"bk-root\" id=\"7397c481-35ee-42d3-ab2d-cf5c36953ef8\" data-root-id=\"2534\"></div>\n"
      ]
     },
     "metadata": {},
     "output_type": "display_data"
    },
    {
     "data": {
      "application/javascript": [
       "(function(root) {\n",
       "  function embed_document(root) {\n",
       "    \n",
       "  var docs_json = {\"3df12ee3-e2d6-45ee-a53f-39f3efc7c394\":{\"roots\":{\"references\":[{\"attributes\":{\"below\":[{\"id\":\"2545\",\"type\":\"LinearAxis\"}],\"center\":[{\"id\":\"2549\",\"type\":\"Grid\"},{\"id\":\"2554\",\"type\":\"Grid\"},{\"id\":\"2579\",\"type\":\"Legend\"}],\"left\":[{\"id\":\"2550\",\"type\":\"LinearAxis\"}],\"plot_height\":350,\"plot_width\":450,\"renderers\":[{\"id\":\"2571\",\"type\":\"GlyphRenderer\"},{\"id\":\"2584\",\"type\":\"GlyphRenderer\"},{\"id\":\"2598\",\"type\":\"GlyphRenderer\"},{\"id\":\"2614\",\"type\":\"GlyphRenderer\"}],\"title\":{\"id\":\"2535\",\"type\":\"Title\"},\"toolbar\":{\"id\":\"2561\",\"type\":\"Toolbar\"},\"x_range\":{\"id\":\"2537\",\"type\":\"DataRange1d\"},\"x_scale\":{\"id\":\"2541\",\"type\":\"LinearScale\"},\"y_range\":{\"id\":\"2539\",\"type\":\"DataRange1d\"},\"y_scale\":{\"id\":\"2543\",\"type\":\"LinearScale\"}},\"id\":\"2534\",\"subtype\":\"Figure\",\"type\":\"Plot\"},{\"attributes\":{},\"id\":\"2551\",\"type\":\"BasicTicker\"},{\"attributes\":{\"axis_label\":\"concentration (nM)\",\"formatter\":{\"id\":\"2577\",\"type\":\"BasicTickFormatter\"},\"ticker\":{\"id\":\"2551\",\"type\":\"BasicTicker\"}},\"id\":\"2550\",\"type\":\"LinearAxis\"},{\"attributes\":{\"label\":{\"value\":\"original\"},\"renderers\":[{\"id\":\"2614\",\"type\":\"GlyphRenderer\"}]},\"id\":\"2628\",\"type\":\"LegendItem\"},{\"attributes\":{},\"id\":\"2627\",\"type\":\"Selection\"},{\"attributes\":{\"line_color\":\"#9367bc\",\"line_width\":2,\"x\":{\"field\":\"x\"},\"y\":{\"field\":\"y\"}},\"id\":\"2612\",\"type\":\"Line\"},{\"attributes\":{\"callback\":null,\"data\":{\"x\":{\"__ndarray__\":\"AAAAAAAAAAAXqhByaWNiPxeqEHJpY3I/I/8YKx6Vez8XqhByaWOCP57UlM5D/IY/I/8YKx6Viz/VlM5D/BaQPxeqEHJpY5I/W79SoNavlD+e1JTOQ/yWP+Hp1vywSJk/I/8YKx6Vmz9mFFtZi+GdP9WUzkP8FqA/dp/v2jI9oT8XqhByaWOiP7q0MQmgiaM/W79SoNavpD/9yXM3DdalP57UlM5D/KY/QN+1ZXoiqD/h6db8sEipP4P095Pnbqo/I/8YKx6Vqz/FCTrCVLusP2YUW1mL4a0/Bx988MEHrz/VlM5D/BawPyUaX48XqrA/dp/v2jI9sT/HJIAmTtCxPxeqEHJpY7I/aS+hvYT2sj+6tDEJoImzPws6wlS7HLQ/W79SoNavtD+sROPr8UK1P/3JczcN1rU/Tk8Egyhptj+e1JTOQ/y2P+9ZJRpfj7c/QN+1ZXoiuD+QZEaxlbW4P+Hp1vywSLk/Mm9nSMzbuT+D9PeT5266P9N5iN8CArs/I/8YKx6Vuz90hKl2OSi8P8UJOsJUu7w/FY/KDXBOvT9mFFtZi+G9P7eZ66SmdL4/Bx988MEHvz9ZpAw83Zq/P9WUzkP8FsA/fdeW6YlgwD8lGl+PF6rAP85cJzWl88A/dp/v2jI9wT8f4reAwIbBP8ckgCZO0ME/cGdIzNsZwj8XqhByaWPCP8Ds2Bf3rMI/aS+hvYT2wj8RcmljEkDDP7q0MQmgicM/Yvf5ri3Twz8LOsJUuxzEP7J8ivpIZsQ/W79SoNavxD8DAhtGZPnEP6xE4+vxQsU/VIerkX+MxT/9yXM3DdbFP6UMPN2aH8Y/Tk8Egyhpxj/1kcwotrLGP57UlM5D/MY/RhdddNFFxz/vWSUaX4/HP5ec7b/s2Mc/QN+1ZXoiyD/pIX4LCGzIP5BkRrGVtcg/OacOVyP/yD/h6db8sEjJP4osn6I+ksk/Mm9nSMzbyT/bsS/uWSXKP4P095Pnbso/LDfAOXW4yj/TeYjfAgLLP3y8UIWQS8s/I/8YKx6Vyz/MQeHQq97LP3SEqXY5KMw/HcdxHMdxzD8=\",\"dtype\":\"float64\",\"shape\":[100]},\"y\":{\"__ndarray__\":\"AAAAAAAAAADzEAx+Jx+5PtNBeo+tI/Y+qX0P/VTQGD+g9TAB+nExP00lBlsoCUM/VGSTrlu4UT8faiNOoJldP8M/THR122Y//ZtNzQWjcD96hHuiCCF3P1/Ia3bc/n4/sM8Ij0QohD/+MibSx5OJPyh47XSyyY8/xbejq3Zokz+ddFj33VeXPx1cy1bwtZs/Nrb/tq5CoD9u31W5V+SiP6s4CH0qwaU/3UOTcVTaqD9p90Bc/DCsP4r2JOhExq8/MY8hWafNsT9w57n4nNizP8lMAOOTBLY/fj5xox1SuD8mmWcrzcG6P6ksoiU3VL0/wi6YG/kEwD/wOTGYy3HBPxnNH5jg8MI/sYFZ3oaCxD9TrelnDifGP+Ihvm7I3sc/6TahZweqyT9eGv78HonLP3ECCgZkfM0/9XBGeiyEzz/MVA2xZ9DQP20GEmJS6dE/9h3pxwIN0z8reXDCpTvUP+ueBYxoddU/luyQqni61j816jjfAwvYP2iepRQ4Z9k/ERxmTEPP2j+C3S2LU0PcP8W2psOWw90/KEGQwDpQ3z9PaAuHtnTgP8R+KXGtR+E/gWqYghgh4j/WcNrbDQHjP7pKz02j5+M/Y8zsTO7U5D9kIZTkA8nlPy9snar4w+Y/Bcy4suDF5z/BFw6Dz87oP2l/NwfY3uk/DNYbhQz26j/ppYKRfhTsP9f1PwU/Ou0/K+rr8l1n7j/6EpWd6pvvP95GJ7f5a/A/0DV59sIN8T/n2e1bV7PxPzoVT768XPI/RyazePgJ8z/ogKBnD7vzP8uikOYFcPQ/Yi/Ezd8o9T99kTxwoOX1P+OaOppKpvY/RLFEkOBq9z8oA90NZDP4P70mRUXW//g//z9V3zfQ+T/eYUj7iKT6P7smFS/JfPs/T075h/dY/D/ryUqLEjn9P/VRYTcYHf4/2HbMBAYF/z8ME9rn2PD/P8WaGqlGcABA/lpJmg/qAEBvTEUAxWUBQPuMUVVk4wFAm5dE1upiAkCS4a+DVeQCQAw7DiOhZwNAzwb+P8rsA0DRpootzXMEQFLrgAem/ARAuP/Ks1CHBUA=\",\"dtype\":\"float64\",\"shape\":[100]}},\"selected\":{\"id\":\"2593\",\"type\":\"Selection\"},\"selection_policy\":{\"id\":\"2592\",\"type\":\"UnionRenderers\"}},\"id\":\"2568\",\"type\":\"ColumnDataSource\"},{\"attributes\":{\"line_alpha\":0.1,\"line_color\":\"#1f77b4\",\"line_width\":2,\"x\":{\"field\":\"x\"},\"y\":{\"field\":\"y\"}},\"id\":\"2583\",\"type\":\"Line\"},{\"attributes\":{\"label\":{\"value\":\"37C\"},\"renderers\":[{\"id\":\"2584\",\"type\":\"GlyphRenderer\"}]},\"id\":\"2594\",\"type\":\"LegendItem\"},{\"attributes\":{\"label\":{\"value\":\"100C\"},\"renderers\":[{\"id\":\"2598\",\"type\":\"GlyphRenderer\"}]},\"id\":\"2610\",\"type\":\"LegendItem\"},{\"attributes\":{\"active_drag\":\"auto\",\"active_inspect\":\"auto\",\"active_multi\":null,\"active_scroll\":\"auto\",\"active_tap\":\"auto\",\"tools\":[{\"id\":\"2555\",\"type\":\"PanTool\"},{\"id\":\"2556\",\"type\":\"WheelZoomTool\"},{\"id\":\"2557\",\"type\":\"BoxZoomTool\"},{\"id\":\"2558\",\"type\":\"SaveTool\"},{\"id\":\"2559\",\"type\":\"ResetTool\"},{\"id\":\"2560\",\"type\":\"HelpTool\"}]},\"id\":\"2561\",\"type\":\"Toolbar\"},{\"attributes\":{\"line_color\":\"#ff7e0e\",\"line_width\":2,\"x\":{\"field\":\"x\"},\"y\":{\"field\":\"y\"}},\"id\":\"2582\",\"type\":\"Line\"},{\"attributes\":{},\"id\":\"2608\",\"type\":\"UnionRenderers\"},{\"attributes\":{\"line_color\":\"#1f77b3\",\"line_width\":2,\"x\":{\"field\":\"x\"},\"y\":{\"field\":\"y\"}},\"id\":\"2569\",\"type\":\"Line\"},{\"attributes\":{\"callback\":null,\"data\":{\"x\":{\"__ndarray__\":\"AAAAAAAAAAB/pUCtXykgQH+lQK1fKTBAPvjggw8+OEB/pUCtXylAQN/OkJi3M0RAPvjggw8+SECeITFvZ0hMQH+lQK1fKVBAL7rooosuUkDfzpCYtzNUQI/jOI7jOFZAPvjggw8+WEDuDIl5O0NaQJ4hMW9nSFxATjbZZJNNXkB/pUCtXylgQNevFKj1K2FAL7rooosuYkCHxLydITFjQN/OkJi3M2RAN9lkk002ZUCP4ziO4zhmQOftDIl5O2dAPvjggw8+aECWArV+pUBpQO4MiXk7Q2pARhdddNFFa0CeITFvZ0hsQPYrBWr9Sm1ATjbZZJNNbkCmQK1fKVBvQH+lQK1fKXBAq6qqqqqqcEDXrxSo9StxQAO1fqVArXFAL7rooosuckBbv1Kg1q9yQIfEvJ0hMXNAs8kmm2yyc0DfzpCYtzN0QAvU+pUCtXRAN9lkk002dUBj3s6QmLd1QI/jOI7jOHZAu+iiiy66dkDn7QyJeTt3QBPzdobEvHdAPvjggw8+eEBq/UqBWr94QJYCtX6lQHlAwgcffPDBeUDuDIl5O0N6QBoS83aGxHpARhdddNFFe0ByHMdxHMd7QJ4hMW9nSHxAyiabbLLJfED2KwVq/Up9QCIxb2dIzH1ATjbZZJNNfkB6O0Ni3s5+QKZArV8pUH9A0kUXXXTRf0B/pUCtXymAQBWo9SsFaoBAq6qqqqqqgEBBrV8pUOuAQNevFKj1K4FAbbLJJptsgUADtX6lQK2BQJm3MyTm7YFAL7rooosugkDFvJ0hMW+CQFu/UqDWr4JA8cEHH3zwgkCHxLydITGDQB3HcRzHcYNAs8kmm2yyg0BJzNsZEvODQN/OkJi3M4RAddFFF110hEAL1PqVArWEQKHWrxSo9YRAN9lkk002hUDN2xkS83aFQGPezpCYt4VA+eCDDz74hUCP4ziO4ziGQCXm7QyJeYZAu+iiiy66hkBR61cK1PqGQOftDIl5O4dAffDBBx98h0AT83aGxLyHQKn1KwVq/YdAPvjggw8+iEDU+pUCtX6IQGr9SoFav4hAAAAAAAAAiUA=\",\"dtype\":\"float64\",\"shape\":[100]},\"y\":{\"__ndarray__\":\"AAAAAAAAAAAYzD/MYFyRPgrmZzdl4c4+ahNUPmJz8T7b220kRbkIP0TxRoBTKRs/pitibc9vKT+RfNDug1s1P5NbqMRkkUA/SmXVRnQ2SD+mf5ja1OJQP3f4a+C/sFY/a68+b3eTXT9XC7T8istiP/zn0S3XYmc/b4yie86TbD8Y0KTK8zBxP9uYhjYAaHQ/Qu+kKTzwdz/uTnv4osp7P0SQEtAE+H8/2edIJ4c8gj+frmJxJ6eEP7j2W+UePIc/PiFHQJ/7iT864aAS0uWMP7+Nuzba+o8/BYq2c2qdkT+yuPdk7VKTP3O0KVIAHpU/USl+Bqz+lj/7zf/y9/SYP6wYYGfqAJs/KFMyvYginT+KpF1811mfP+G4vjtt06A/SEUCcsoEoj9iOAW3BEGjP1fm1CMdiKQ/IysKmxTapT8weQnO6zanP+WqJEGjnqg/o+4XTzsRqj9ZuNQrtI6rP5H3vuYNF60/VBxsbEiqrj+XJw7EMSSwPxRYbHKv+LA/UhkvB53SsT8cf+o4+rGyP2dpLq/GlrM/9oW7AgKBtD/+hKe9q3C1PwYSgVvDZbY/GFxfSUhgtz9dzO7lOWC4PzEPc4GXZbk/9MHMXWBwuj+2CKyuk4C7Pz+xBJkwlrw/7m2GMzaxvT++Y3mGo9G+P43ulYt3978/lGECl1iRwD+MTC2lpynBPyvKRVeoxME/kZTuDFpiwj/e2WwevALDPyGxotzNpcM/4wUHkY5LxD81y499/fPEP20V29wZn8U/SYA+4uJMxj+ztie5V/3GP2JHpoV3sMc/lWqeZEFmyD980elqtB7JP8bFAKbP2ck/so7gG5KXyj9d0s7K+lfLPxfOiKkIG8w/5bRcp7rgzD82hEmsD6nNPyM75ZcGdM4/pl2gQp5Bzz/Ha7S+6gjQP4PctohVctA/xlgf4A7d0D9NA/chFknRPzh2fKdqttE/OS4ixgsl0j9eMZLP+JTSP6JrsRExBtM/DFag1rN40z/Z2L1kgOzTPwE/qf6VYdQ/c6lF4/PX1D+0q7pNmU/VPyGqeHWFyNU/zyo7jrdC1j8=\",\"dtype\":\"float64\",\"shape\":[100]}},\"selected\":{\"id\":\"2627\",\"type\":\"Selection\"},\"selection_policy\":{\"id\":\"2626\",\"type\":\"UnionRenderers\"}},\"id\":\"2595\",\"type\":\"ColumnDataSource\"},{\"attributes\":{},\"id\":\"2592\",\"type\":\"UnionRenderers\"},{\"attributes\":{\"line_alpha\":0.1,\"line_color\":\"#1f77b4\",\"line_width\":2,\"x\":{\"field\":\"x\"},\"y\":{\"field\":\"y\"}},\"id\":\"2570\",\"type\":\"Line\"},{\"attributes\":{\"source\":{\"id\":\"2611\",\"type\":\"ColumnDataSource\"}},\"id\":\"2615\",\"type\":\"CDSView\"},{\"attributes\":{},\"id\":\"2555\",\"type\":\"PanTool\"},{\"attributes\":{},\"id\":\"2575\",\"type\":\"BasicTickFormatter\"},{\"attributes\":{\"data_source\":{\"id\":\"2568\",\"type\":\"ColumnDataSource\"},\"glyph\":{\"id\":\"2569\",\"type\":\"Line\"},\"hover_glyph\":null,\"muted_glyph\":null,\"nonselection_glyph\":{\"id\":\"2570\",\"type\":\"Line\"},\"selection_glyph\":null,\"view\":{\"id\":\"2572\",\"type\":\"CDSView\"}},\"id\":\"2571\",\"type\":\"GlyphRenderer\"},{\"attributes\":{\"line_alpha\":0.1,\"line_color\":\"#1f77b4\",\"line_width\":2,\"x\":{\"field\":\"x\"},\"y\":{\"field\":\"y\"}},\"id\":\"2597\",\"type\":\"Line\"},{\"attributes\":{\"text\":\"Effect of Different Temperatures on Bound Proton Pump\"},\"id\":\"2535\",\"type\":\"Title\"},{\"attributes\":{},\"id\":\"2556\",\"type\":\"WheelZoomTool\"},{\"attributes\":{\"data_source\":{\"id\":\"2595\",\"type\":\"ColumnDataSource\"},\"glyph\":{\"id\":\"2596\",\"type\":\"Line\"},\"hover_glyph\":null,\"muted_glyph\":null,\"nonselection_glyph\":{\"id\":\"2597\",\"type\":\"Line\"},\"selection_glyph\":null,\"view\":{\"id\":\"2599\",\"type\":\"CDSView\"}},\"id\":\"2598\",\"type\":\"GlyphRenderer\"},{\"attributes\":{\"callback\":null},\"id\":\"2537\",\"type\":\"DataRange1d\"},{\"attributes\":{\"overlay\":{\"id\":\"2578\",\"type\":\"BoxAnnotation\"}},\"id\":\"2557\",\"type\":\"BoxZoomTool\"},{\"attributes\":{\"source\":{\"id\":\"2595\",\"type\":\"ColumnDataSource\"}},\"id\":\"2599\",\"type\":\"CDSView\"},{\"attributes\":{},\"id\":\"2558\",\"type\":\"SaveTool\"},{\"attributes\":{},\"id\":\"2609\",\"type\":\"Selection\"},{\"attributes\":{},\"id\":\"2559\",\"type\":\"ResetTool\"},{\"attributes\":{},\"id\":\"2577\",\"type\":\"BasicTickFormatter\"},{\"attributes\":{},\"id\":\"2733\",\"type\":\"UnionRenderers\"},{\"attributes\":{\"callback\":null},\"id\":\"2539\",\"type\":\"DataRange1d\"},{\"attributes\":{\"data_source\":{\"id\":\"2581\",\"type\":\"ColumnDataSource\"},\"glyph\":{\"id\":\"2582\",\"type\":\"Line\"},\"hover_glyph\":null,\"muted_glyph\":null,\"nonselection_glyph\":{\"id\":\"2583\",\"type\":\"Line\"},\"selection_glyph\":null,\"view\":{\"id\":\"2585\",\"type\":\"CDSView\"}},\"id\":\"2584\",\"type\":\"GlyphRenderer\"},{\"attributes\":{\"callback\":null,\"data\":{\"x\":{\"__ndarray__\":\"AAAAAAAAAAAXqhByaWNiPxeqEHJpY3I/I/8YKx6Vez8XqhByaWOCP57UlM5D/IY/I/8YKx6Viz/VlM5D/BaQPxeqEHJpY5I/W79SoNavlD+e1JTOQ/yWP+Hp1vywSJk/I/8YKx6Vmz9mFFtZi+GdP9WUzkP8FqA/dp/v2jI9oT8XqhByaWOiP7q0MQmgiaM/W79SoNavpD/9yXM3DdalP57UlM5D/KY/QN+1ZXoiqD/h6db8sEipP4P095Pnbqo/I/8YKx6Vqz/FCTrCVLusP2YUW1mL4a0/Bx988MEHrz/VlM5D/BawPyUaX48XqrA/dp/v2jI9sT/HJIAmTtCxPxeqEHJpY7I/aS+hvYT2sj+6tDEJoImzPws6wlS7HLQ/W79SoNavtD+sROPr8UK1P/3JczcN1rU/Tk8Egyhptj+e1JTOQ/y2P+9ZJRpfj7c/QN+1ZXoiuD+QZEaxlbW4P+Hp1vywSLk/Mm9nSMzbuT+D9PeT5266P9N5iN8CArs/I/8YKx6Vuz90hKl2OSi8P8UJOsJUu7w/FY/KDXBOvT9mFFtZi+G9P7eZ66SmdL4/Bx988MEHvz9ZpAw83Zq/P9WUzkP8FsA/fdeW6YlgwD8lGl+PF6rAP85cJzWl88A/dp/v2jI9wT8f4reAwIbBP8ckgCZO0ME/cGdIzNsZwj8XqhByaWPCP8Ds2Bf3rMI/aS+hvYT2wj8RcmljEkDDP7q0MQmgicM/Yvf5ri3Twz8LOsJUuxzEP7J8ivpIZsQ/W79SoNavxD8DAhtGZPnEP6xE4+vxQsU/VIerkX+MxT/9yXM3DdbFP6UMPN2aH8Y/Tk8Egyhpxj/1kcwotrLGP57UlM5D/MY/RhdddNFFxz/vWSUaX4/HP5ec7b/s2Mc/QN+1ZXoiyD/pIX4LCGzIP5BkRrGVtcg/OacOVyP/yD/h6db8sEjJP4osn6I+ksk/Mm9nSMzbyT/bsS/uWSXKP4P095Pnbso/LDfAOXW4yj/TeYjfAgLLP3y8UIWQS8s/I/8YKx6Vyz/MQeHQq97LP3SEqXY5KMw/HcdxHMdxzD8=\",\"dtype\":\"float64\",\"shape\":[100]},\"y\":{\"__ndarray__\":\"AAAAAAAAAAB/vgDm3vLCPv9yDNJjmwA/bF6kdWaFIj/1V9Ltl+05P8Ae3m7ULkw/8zziW6ElWj8JZncNbMZlP+TRwzYCxnA/MHUiDAdeeD+eVJ955eiAPy5TE9SGoYY/D0x5WNdnjT/DFi4hn6SSP1c0gN35KJc/AL2EB6ZGnD+Yb25tfQGhP1DVTvyKMaQ/NUIP9ve1pz+xQ4JlNpGrPyl5bcS0xa8/7+8ZrPEqsj9nUf0+HKK0P3ZSpw6aSbc/vQI2L7Eiuj+gy4Tlri69P2ZMSzt0N8A/1Vvu313ywT+QOXDOx8jDPww7oA9qu8U/WnphTgHLxz9SDAHKTvjJP0UHWjUYRMw/aBrIgSevzj/Hs6FMJZ3QP2SOIIAp89E//Lj+uApa0z/PfOytNNLUPzn6qyoUXNY/fi+4wBb41z9gUidzqqbZPz6AQls9aNs/rECRST093T9iGihkFybfPxO85d+bkeA/HiPYfYSa4T/1m4rt+a3iP+PzC3IvzOM/NKkK/1b15D+wmioLoSnmP9nrAmQ8aec/+t1ACVa06D/G6MoFGQvqP3Y2yE+ubes/KIEHrTzc7D89lfaZ6FbuP3HJnjXU3e8/7jKTmI+48D+P74Zhc4jxP9VmH8+iXvI/m9ok9ik78z8TE1ulEx70P46JjGVpB/U/HNjSejP39T96ovXmeO32P+Oxv2w/6vc/PpMnlIvt+D/sdzGvYPf5P8lCPN/AB/s/FU9HG60e/D9HNRk2JTz9P3lz0+QnYP4/0qT5xbKK/z+4MUo04V0AQNeHtymp+QBArCo0hq6YAUCYj+wP7joCQLqTARRk4AJA2Jo9agyJA0D3T8V44jQEQOBwwzfh4wRAGvgSNQOWBUCPytCXQksGQHPx0iOZAwdA/WpMPQC/B0D9aVDscH0IQM0XIODjPglASLN8clEDCkBPD+mqscoKQO0vvEH8lAtAlTQ6oyhiDEDHmwj1LTINQM4/CBkDBQ5Ab7PIqZ7aDkBlb+8B97IPQOhSPSEBRxBARQFhKdu1EEDyNT1xBCYRQKPpXbZ3lxFAEHe9nS8KEkA=\",\"dtype\":\"float64\",\"shape\":[100]}},\"selected\":{\"id\":\"2609\",\"type\":\"Selection\"},\"selection_policy\":{\"id\":\"2608\",\"type\":\"UnionRenderers\"}},\"id\":\"2581\",\"type\":\"ColumnDataSource\"},{\"attributes\":{},\"id\":\"2560\",\"type\":\"HelpTool\"},{\"attributes\":{},\"id\":\"2541\",\"type\":\"LinearScale\"},{\"attributes\":{\"callback\":null,\"data\":{\"x\":{\"__ndarray__\":\"AAAAAAAAAAB/pUCtXykgQH+lQK1fKTBAPvjggw8+OEB/pUCtXylAQN/OkJi3M0RAPvjggw8+SECeITFvZ0hMQH+lQK1fKVBAL7rooosuUkDfzpCYtzNUQI/jOI7jOFZAPvjggw8+WEDuDIl5O0NaQJ4hMW9nSFxATjbZZJNNXkB/pUCtXylgQNevFKj1K2FAL7rooosuYkCHxLydITFjQN/OkJi3M2RAN9lkk002ZUCP4ziO4zhmQOftDIl5O2dAPvjggw8+aECWArV+pUBpQO4MiXk7Q2pARhdddNFFa0CeITFvZ0hsQPYrBWr9Sm1ATjbZZJNNbkCmQK1fKVBvQH+lQK1fKXBAq6qqqqqqcEDXrxSo9StxQAO1fqVArXFAL7rooosuckBbv1Kg1q9yQIfEvJ0hMXNAs8kmm2yyc0DfzpCYtzN0QAvU+pUCtXRAN9lkk002dUBj3s6QmLd1QI/jOI7jOHZAu+iiiy66dkDn7QyJeTt3QBPzdobEvHdAPvjggw8+eEBq/UqBWr94QJYCtX6lQHlAwgcffPDBeUDuDIl5O0N6QBoS83aGxHpARhdddNFFe0ByHMdxHMd7QJ4hMW9nSHxAyiabbLLJfED2KwVq/Up9QCIxb2dIzH1ATjbZZJNNfkB6O0Ni3s5+QKZArV8pUH9A0kUXXXTRf0B/pUCtXymAQBWo9SsFaoBAq6qqqqqqgEBBrV8pUOuAQNevFKj1K4FAbbLJJptsgUADtX6lQK2BQJm3MyTm7YFAL7rooosugkDFvJ0hMW+CQFu/UqDWr4JA8cEHH3zwgkCHxLydITGDQB3HcRzHcYNAs8kmm2yyg0BJzNsZEvODQN/OkJi3M4RAddFFF110hEAL1PqVArWEQKHWrxSo9YRAN9lkk002hUDN2xkS83aFQGPezpCYt4VA+eCDDz74hUCP4ziO4ziGQCXm7QyJeYZAu+iiiy66hkBR61cK1PqGQOftDIl5O4dAffDBBx98h0AT83aGxLyHQKn1KwVq/YdAPvjggw8+iEDU+pUCtX6IQGr9SoFav4hAAAAAAAAAiUA=\",\"dtype\":\"float64\",\"shape\":[100]},\"y\":{\"__ndarray__\":\"AAAAAAAAAAB+30knspYkP1tCwtd3xVM/OeFruKwpcD+VzWT5U5mCPxwmaQfoipE/ijmD0eYsnT+PwoVHFEWmP1lRTvPf9K8/mIC0cKfftT+TuKEeJdq8P328vb8dd8I/2xxq4t4Oxz/I4OWZaTTMP89+nXuh89A//4TDlkgT1D/udpe1nXjXP2wWFI//Its/Up00F78R3z8oRykfEqLhP+YEv4+43OM/pFo8EHI45j8AzLOu3LToP5HnEc6VUes/5xv+djoO7j8Xq7LIM3XwP6ngCQLd8vE/BWVYaOd/8z/4BaqRIRz1Py/+1S5ax/Y/ZXNMD2CB+D890ZkjAkr6P0NKOX8PIfw/VqjOWVcG/j8NqQIQqfn/P74bGRJq/QBA8MtpH9QEAkDKjX2X+hIDQLP4RHXFJwRAgZdAxxxDBUAob6Cv6GQGQBdPXGQRjQdAD0tRL3+7CEAOUVtuGvAJQAaqb5PLKgtACYy3JHtrDEAUfqu8EbINQKL1Lgp4/g5Ax7VWaEsoEEBxfxt0K9QQQIEa0J7QghFAbb1QaS80EkAvz/tePOgSQGE3wxXsnhNAWwc+LjNYFEBf9LpTBhQVQGlxVDxa0hVAuFQDqSOTFkDp+rJlV1YXQHZLWEnqGxhAGT4INtHjGEBW8g4ZAa4ZQEXYB+tuehpAxv32rw9JG0BR1GF32BkcQB7Gbly+7BxAeDf+hbbBHUBQ3sgmtpgeQLOifn2ycR9AUXxzalAmIEAB1P9Bu5QgQHjEFHcUBCFAnqudwVZ0IUBmr8rffOUhQP+0UpaBVyJAZNxTsF/KIkDpEHX/ET4jQGYgBVyTsiNAStQQpd4nJEDJ33jA7p0kQP8KBpu+FCVAZWaCKEmMJUBdzdZjiQQmQGAOLE96fSZAhsb+8xb3JkDFA0BjWnEnQJZqbrU/7CdAkGy5CsJnKEByrSKL3OMoQH6knmaKYClA4gk61cbdKUDFfDwXjVsqQBnVTXXY2SpAkaOaQKRYK0ChUfzS69crQKxrI4+qVyxAxT7I4NvXLECsRNE8e1gtQIWXgSGE2S1ATBunFvJaLkA=\",\"dtype\":\"float64\",\"shape\":[100]}},\"selected\":{\"id\":\"2734\",\"type\":\"Selection\"},\"selection_policy\":{\"id\":\"2733\",\"type\":\"UnionRenderers\"}},\"id\":\"2611\",\"type\":\"ColumnDataSource\"},{\"attributes\":{\"click_policy\":\"hide\",\"items\":[{\"id\":\"2580\",\"type\":\"LegendItem\"},{\"id\":\"2594\",\"type\":\"LegendItem\"},{\"id\":\"2610\",\"type\":\"LegendItem\"},{\"id\":\"2628\",\"type\":\"LegendItem\"}],\"location\":\"bottom_right\"},\"id\":\"2579\",\"type\":\"Legend\"},{\"attributes\":{},\"id\":\"2543\",\"type\":\"LinearScale\"},{\"attributes\":{\"source\":{\"id\":\"2581\",\"type\":\"ColumnDataSource\"}},\"id\":\"2585\",\"type\":\"CDSView\"},{\"attributes\":{\"line_alpha\":0.1,\"line_color\":\"#1f77b4\",\"line_width\":2,\"x\":{\"field\":\"x\"},\"y\":{\"field\":\"y\"}},\"id\":\"2613\",\"type\":\"Line\"},{\"attributes\":{},\"id\":\"2593\",\"type\":\"Selection\"},{\"attributes\":{\"axis_label\":\"time (hr)\",\"formatter\":{\"id\":\"2575\",\"type\":\"BasicTickFormatter\"},\"ticker\":{\"id\":\"2546\",\"type\":\"BasicTicker\"}},\"id\":\"2545\",\"type\":\"LinearAxis\"},{\"attributes\":{\"bottom_units\":\"screen\",\"fill_alpha\":{\"value\":0.5},\"fill_color\":{\"value\":\"lightgrey\"},\"left_units\":\"screen\",\"level\":\"overlay\",\"line_alpha\":{\"value\":1.0},\"line_color\":{\"value\":\"black\"},\"line_dash\":[4,4],\"line_width\":{\"value\":2},\"render_mode\":\"css\",\"right_units\":\"screen\",\"top_units\":\"screen\"},\"id\":\"2578\",\"type\":\"BoxAnnotation\"},{\"attributes\":{\"dimension\":1,\"ticker\":{\"id\":\"2551\",\"type\":\"BasicTicker\"}},\"id\":\"2554\",\"type\":\"Grid\"},{\"attributes\":{\"data_source\":{\"id\":\"2611\",\"type\":\"ColumnDataSource\"},\"glyph\":{\"id\":\"2612\",\"type\":\"Line\"},\"hover_glyph\":null,\"muted_glyph\":null,\"nonselection_glyph\":{\"id\":\"2613\",\"type\":\"Line\"},\"selection_glyph\":null,\"view\":{\"id\":\"2615\",\"type\":\"CDSView\"}},\"id\":\"2614\",\"type\":\"GlyphRenderer\"},{\"attributes\":{\"source\":{\"id\":\"2568\",\"type\":\"ColumnDataSource\"}},\"id\":\"2572\",\"type\":\"CDSView\"},{\"attributes\":{},\"id\":\"2734\",\"type\":\"Selection\"},{\"attributes\":{},\"id\":\"2546\",\"type\":\"BasicTicker\"},{\"attributes\":{\"label\":{\"value\":\"25C\"},\"renderers\":[{\"id\":\"2571\",\"type\":\"GlyphRenderer\"}]},\"id\":\"2580\",\"type\":\"LegendItem\"},{\"attributes\":{\"line_color\":\"#2ba02b\",\"line_width\":2,\"x\":{\"field\":\"x\"},\"y\":{\"field\":\"y\"}},\"id\":\"2596\",\"type\":\"Line\"},{\"attributes\":{\"ticker\":{\"id\":\"2546\",\"type\":\"BasicTicker\"}},\"id\":\"2549\",\"type\":\"Grid\"},{\"attributes\":{},\"id\":\"2626\",\"type\":\"UnionRenderers\"}],\"root_ids\":[\"2534\"]},\"title\":\"Bokeh Application\",\"version\":\"1.4.0\"}};\n",
       "  var render_items = [{\"docid\":\"3df12ee3-e2d6-45ee-a53f-39f3efc7c394\",\"roots\":{\"2534\":\"7397c481-35ee-42d3-ab2d-cf5c36953ef8\"}}];\n",
       "  root.Bokeh.embed.embed_items_notebook(docs_json, render_items);\n",
       "\n",
       "  }\n",
       "  if (root.Bokeh !== undefined) {\n",
       "    embed_document(root);\n",
       "  } else {\n",
       "    var attempts = 0;\n",
       "    var timer = setInterval(function(root) {\n",
       "      if (root.Bokeh !== undefined) {\n",
       "        clearInterval(timer);\n",
       "        embed_document(root);\n",
       "      } else {\n",
       "        attempts++;\n",
       "        if (attempts > 100) {\n",
       "          clearInterval(timer);\n",
       "          console.log(\"Bokeh: ERROR: Unable to run BokehJS code because BokehJS library is missing\");\n",
       "        }\n",
       "      }\n",
       "    }, 10, root)\n",
       "  }\n",
       "})(window);"
      ],
      "application/vnd.bokehjs_exec.v0+json": ""
     },
     "metadata": {
      "application/vnd.bokehjs_exec.v0+json": {
       "id": "2534"
      }
     },
     "output_type": "display_data"
    }
   ],
   "source": [
    "p1 = bokeh.plotting.figure(width = 450, height = 350, title = 'Effect of Different Temperatures on Bound Proton Pump',\n",
    "                          x_axis_label = 'time (hr)',\n",
    "                          y_axis_label = 'concentration (nM)')\n",
    "plt_timepoints = timepoints/60/60\n",
    "p1.line(plt_timepoints, results_25[proton_pump_b_protein_id_25], color = palette[0], line_width = 2, legend_label = '25C')\n",
    "p1.line(plt_timepoints, results_37[proton_pump_b_protein_id_37], color = palette[1], line_width = 2, legend_label = '37C')\n",
    "p1.line(timepoints, results_100[proton_pump_b_protein_id_100], color = palette[2], line_width = 2, legend_label = '100C')\n",
    "p1.line(timepoints, results_original[proton_pump_b_protein_id_orig], color = palette[3], line_width = 2, legend_label = 'original')\n",
    "p1.legend.location = 'bottom_right'\n",
    "\n",
    "p1.legend.click_policy = 'hide'\n",
    "bokeh.io.show(p1)"
   ]
  },
  {
   "cell_type": "code",
   "execution_count": null,
   "metadata": {},
   "outputs": [],
   "source": []
  }
 ],
 "metadata": {
  "kernelspec": {
   "display_name": "Python 3",
   "language": "python",
   "name": "python3"
  },
  "language_info": {
   "codemirror_mode": {
    "name": "ipython",
    "version": 3
   },
   "file_extension": ".py",
   "mimetype": "text/x-python",
   "name": "python",
   "nbconvert_exporter": "python",
   "pygments_lexer": "ipython3",
   "version": "3.7.7"
  }
 },
 "nbformat": 4,
 "nbformat_minor": 4
}
