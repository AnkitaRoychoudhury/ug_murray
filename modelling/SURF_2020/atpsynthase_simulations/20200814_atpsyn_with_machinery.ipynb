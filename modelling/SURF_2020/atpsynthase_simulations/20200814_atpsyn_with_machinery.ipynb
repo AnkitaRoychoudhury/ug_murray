{
 "cells": [
  {
   "cell_type": "markdown",
   "metadata": {},
   "source": [
    "# Combine Sub-SBML models with TXTL Machinery\n",
    "---"
   ]
  },
  {
   "cell_type": "markdown",
   "metadata": {},
   "source": [
    "Do this so you can incorporate temperature control <br>\n",
    "2020.08.14"
   ]
  },
  {
   "cell_type": "code",
   "execution_count": 1,
   "metadata": {},
   "outputs": [
    {
     "data": {
      "text/html": [
       "\n",
       "    <div class=\"bk-root\">\n",
       "        <a href=\"https://bokeh.org\" target=\"_blank\" class=\"bk-logo bk-logo-small bk-logo-notebook\"></a>\n",
       "        <span id=\"1001\">Loading BokehJS ...</span>\n",
       "    </div>"
      ]
     },
     "metadata": {},
     "output_type": "display_data"
    },
    {
     "data": {
      "application/javascript": [
       "\n",
       "(function(root) {\n",
       "  function now() {\n",
       "    return new Date();\n",
       "  }\n",
       "\n",
       "  var force = true;\n",
       "\n",
       "  if (typeof root._bokeh_onload_callbacks === \"undefined\" || force === true) {\n",
       "    root._bokeh_onload_callbacks = [];\n",
       "    root._bokeh_is_loading = undefined;\n",
       "  }\n",
       "\n",
       "  var JS_MIME_TYPE = 'application/javascript';\n",
       "  var HTML_MIME_TYPE = 'text/html';\n",
       "  var EXEC_MIME_TYPE = 'application/vnd.bokehjs_exec.v0+json';\n",
       "  var CLASS_NAME = 'output_bokeh rendered_html';\n",
       "\n",
       "  /**\n",
       "   * Render data to the DOM node\n",
       "   */\n",
       "  function render(props, node) {\n",
       "    var script = document.createElement(\"script\");\n",
       "    node.appendChild(script);\n",
       "  }\n",
       "\n",
       "  /**\n",
       "   * Handle when an output is cleared or removed\n",
       "   */\n",
       "  function handleClearOutput(event, handle) {\n",
       "    var cell = handle.cell;\n",
       "\n",
       "    var id = cell.output_area._bokeh_element_id;\n",
       "    var server_id = cell.output_area._bokeh_server_id;\n",
       "    // Clean up Bokeh references\n",
       "    if (id != null && id in Bokeh.index) {\n",
       "      Bokeh.index[id].model.document.clear();\n",
       "      delete Bokeh.index[id];\n",
       "    }\n",
       "\n",
       "    if (server_id !== undefined) {\n",
       "      // Clean up Bokeh references\n",
       "      var cmd = \"from bokeh.io.state import curstate; print(curstate().uuid_to_server['\" + server_id + \"'].get_sessions()[0].document.roots[0]._id)\";\n",
       "      cell.notebook.kernel.execute(cmd, {\n",
       "        iopub: {\n",
       "          output: function(msg) {\n",
       "            var id = msg.content.text.trim();\n",
       "            if (id in Bokeh.index) {\n",
       "              Bokeh.index[id].model.document.clear();\n",
       "              delete Bokeh.index[id];\n",
       "            }\n",
       "          }\n",
       "        }\n",
       "      });\n",
       "      // Destroy server and session\n",
       "      var cmd = \"import bokeh.io.notebook as ion; ion.destroy_server('\" + server_id + \"')\";\n",
       "      cell.notebook.kernel.execute(cmd);\n",
       "    }\n",
       "  }\n",
       "\n",
       "  /**\n",
       "   * Handle when a new output is added\n",
       "   */\n",
       "  function handleAddOutput(event, handle) {\n",
       "    var output_area = handle.output_area;\n",
       "    var output = handle.output;\n",
       "\n",
       "    // limit handleAddOutput to display_data with EXEC_MIME_TYPE content only\n",
       "    if ((output.output_type != \"display_data\") || (!output.data.hasOwnProperty(EXEC_MIME_TYPE))) {\n",
       "      return\n",
       "    }\n",
       "\n",
       "    var toinsert = output_area.element.find(\".\" + CLASS_NAME.split(' ')[0]);\n",
       "\n",
       "    if (output.metadata[EXEC_MIME_TYPE][\"id\"] !== undefined) {\n",
       "      toinsert[toinsert.length - 1].firstChild.textContent = output.data[JS_MIME_TYPE];\n",
       "      // store reference to embed id on output_area\n",
       "      output_area._bokeh_element_id = output.metadata[EXEC_MIME_TYPE][\"id\"];\n",
       "    }\n",
       "    if (output.metadata[EXEC_MIME_TYPE][\"server_id\"] !== undefined) {\n",
       "      var bk_div = document.createElement(\"div\");\n",
       "      bk_div.innerHTML = output.data[HTML_MIME_TYPE];\n",
       "      var script_attrs = bk_div.children[0].attributes;\n",
       "      for (var i = 0; i < script_attrs.length; i++) {\n",
       "        toinsert[toinsert.length - 1].firstChild.setAttribute(script_attrs[i].name, script_attrs[i].value);\n",
       "        toinsert[toinsert.length - 1].firstChild.textContent = bk_div.children[0].textContent\n",
       "      }\n",
       "      // store reference to server id on output_area\n",
       "      output_area._bokeh_server_id = output.metadata[EXEC_MIME_TYPE][\"server_id\"];\n",
       "    }\n",
       "  }\n",
       "\n",
       "  function register_renderer(events, OutputArea) {\n",
       "\n",
       "    function append_mime(data, metadata, element) {\n",
       "      // create a DOM node to render to\n",
       "      var toinsert = this.create_output_subarea(\n",
       "        metadata,\n",
       "        CLASS_NAME,\n",
       "        EXEC_MIME_TYPE\n",
       "      );\n",
       "      this.keyboard_manager.register_events(toinsert);\n",
       "      // Render to node\n",
       "      var props = {data: data, metadata: metadata[EXEC_MIME_TYPE]};\n",
       "      render(props, toinsert[toinsert.length - 1]);\n",
       "      element.append(toinsert);\n",
       "      return toinsert\n",
       "    }\n",
       "\n",
       "    /* Handle when an output is cleared or removed */\n",
       "    events.on('clear_output.CodeCell', handleClearOutput);\n",
       "    events.on('delete.Cell', handleClearOutput);\n",
       "\n",
       "    /* Handle when a new output is added */\n",
       "    events.on('output_added.OutputArea', handleAddOutput);\n",
       "\n",
       "    /**\n",
       "     * Register the mime type and append_mime function with output_area\n",
       "     */\n",
       "    OutputArea.prototype.register_mime_type(EXEC_MIME_TYPE, append_mime, {\n",
       "      /* Is output safe? */\n",
       "      safe: true,\n",
       "      /* Index of renderer in `output_area.display_order` */\n",
       "      index: 0\n",
       "    });\n",
       "  }\n",
       "\n",
       "  // register the mime type if in Jupyter Notebook environment and previously unregistered\n",
       "  if (root.Jupyter !== undefined) {\n",
       "    var events = require('base/js/events');\n",
       "    var OutputArea = require('notebook/js/outputarea').OutputArea;\n",
       "\n",
       "    if (OutputArea.prototype.mime_types().indexOf(EXEC_MIME_TYPE) == -1) {\n",
       "      register_renderer(events, OutputArea);\n",
       "    }\n",
       "  }\n",
       "\n",
       "  \n",
       "  if (typeof (root._bokeh_timeout) === \"undefined\" || force === true) {\n",
       "    root._bokeh_timeout = Date.now() + 5000;\n",
       "    root._bokeh_failed_load = false;\n",
       "  }\n",
       "\n",
       "  var NB_LOAD_WARNING = {'data': {'text/html':\n",
       "     \"<div style='background-color: #fdd'>\\n\"+\n",
       "     \"<p>\\n\"+\n",
       "     \"BokehJS does not appear to have successfully loaded. If loading BokehJS from CDN, this \\n\"+\n",
       "     \"may be due to a slow or bad network connection. Possible fixes:\\n\"+\n",
       "     \"</p>\\n\"+\n",
       "     \"<ul>\\n\"+\n",
       "     \"<li>re-rerun `output_notebook()` to attempt to load from CDN again, or</li>\\n\"+\n",
       "     \"<li>use INLINE resources instead, as so:</li>\\n\"+\n",
       "     \"</ul>\\n\"+\n",
       "     \"<code>\\n\"+\n",
       "     \"from bokeh.resources import INLINE\\n\"+\n",
       "     \"output_notebook(resources=INLINE)\\n\"+\n",
       "     \"</code>\\n\"+\n",
       "     \"</div>\"}};\n",
       "\n",
       "  function display_loaded() {\n",
       "    var el = document.getElementById(\"1001\");\n",
       "    if (el != null) {\n",
       "      el.textContent = \"BokehJS is loading...\";\n",
       "    }\n",
       "    if (root.Bokeh !== undefined) {\n",
       "      if (el != null) {\n",
       "        el.textContent = \"BokehJS \" + root.Bokeh.version + \" successfully loaded.\";\n",
       "      }\n",
       "    } else if (Date.now() < root._bokeh_timeout) {\n",
       "      setTimeout(display_loaded, 100)\n",
       "    }\n",
       "  }\n",
       "\n",
       "\n",
       "  function run_callbacks() {\n",
       "    try {\n",
       "      root._bokeh_onload_callbacks.forEach(function(callback) {\n",
       "        if (callback != null)\n",
       "          callback();\n",
       "      });\n",
       "    } finally {\n",
       "      delete root._bokeh_onload_callbacks\n",
       "    }\n",
       "    console.debug(\"Bokeh: all callbacks have finished\");\n",
       "  }\n",
       "\n",
       "  function load_libs(css_urls, js_urls, callback) {\n",
       "    if (css_urls == null) css_urls = [];\n",
       "    if (js_urls == null) js_urls = [];\n",
       "\n",
       "    root._bokeh_onload_callbacks.push(callback);\n",
       "    if (root._bokeh_is_loading > 0) {\n",
       "      console.debug(\"Bokeh: BokehJS is being loaded, scheduling callback at\", now());\n",
       "      return null;\n",
       "    }\n",
       "    if (js_urls == null || js_urls.length === 0) {\n",
       "      run_callbacks();\n",
       "      return null;\n",
       "    }\n",
       "    console.debug(\"Bokeh: BokehJS not loaded, scheduling load and callback at\", now());\n",
       "    root._bokeh_is_loading = css_urls.length + js_urls.length;\n",
       "\n",
       "    function on_load() {\n",
       "      root._bokeh_is_loading--;\n",
       "      if (root._bokeh_is_loading === 0) {\n",
       "        console.debug(\"Bokeh: all BokehJS libraries/stylesheets loaded\");\n",
       "        run_callbacks()\n",
       "      }\n",
       "    }\n",
       "\n",
       "    function on_error() {\n",
       "      console.error(\"failed to load \" + url);\n",
       "    }\n",
       "\n",
       "    for (var i = 0; i < css_urls.length; i++) {\n",
       "      var url = css_urls[i];\n",
       "      const element = document.createElement(\"link\");\n",
       "      element.onload = on_load;\n",
       "      element.onerror = on_error;\n",
       "      element.rel = \"stylesheet\";\n",
       "      element.type = \"text/css\";\n",
       "      element.href = url;\n",
       "      console.debug(\"Bokeh: injecting link tag for BokehJS stylesheet: \", url);\n",
       "      document.body.appendChild(element);\n",
       "    }\n",
       "\n",
       "    const hashes = {\"https://cdn.bokeh.org/bokeh/release/bokeh-2.2.1.min.js\": \"qkRvDQVAIfzsJo40iRBbxt6sttt0hv4lh74DG7OK4MCHv4C5oohXYoHUM5W11uqS\", \"https://cdn.bokeh.org/bokeh/release/bokeh-widgets-2.2.1.min.js\": \"Sb7Mr06a9TNlet/GEBeKaf5xH3eb6AlCzwjtU82wNPyDrnfoiVl26qnvlKjmcAd+\", \"https://cdn.bokeh.org/bokeh/release/bokeh-tables-2.2.1.min.js\": \"HaJ15vgfmcfRtB4c4YBOI4f1MUujukqInOWVqZJZZGK7Q+ivud0OKGSTn/Vm2iso\"};\n",
       "\n",
       "    for (var i = 0; i < js_urls.length; i++) {\n",
       "      var url = js_urls[i];\n",
       "      var element = document.createElement('script');\n",
       "      element.onload = on_load;\n",
       "      element.onerror = on_error;\n",
       "      element.async = false;\n",
       "      element.src = url;\n",
       "      if (url in hashes) {\n",
       "        element.crossOrigin = \"anonymous\";\n",
       "        element.integrity = \"sha384-\" + hashes[url];\n",
       "      }\n",
       "      console.debug(\"Bokeh: injecting script tag for BokehJS library: \", url);\n",
       "      document.head.appendChild(element);\n",
       "    }\n",
       "  };\n",
       "\n",
       "  function inject_raw_css(css) {\n",
       "    const element = document.createElement(\"style\");\n",
       "    element.appendChild(document.createTextNode(css));\n",
       "    document.body.appendChild(element);\n",
       "  }\n",
       "\n",
       "  \n",
       "  var js_urls = [\"https://cdn.bokeh.org/bokeh/release/bokeh-2.2.1.min.js\", \"https://cdn.bokeh.org/bokeh/release/bokeh-widgets-2.2.1.min.js\", \"https://cdn.bokeh.org/bokeh/release/bokeh-tables-2.2.1.min.js\"];\n",
       "  var css_urls = [];\n",
       "  \n",
       "\n",
       "  var inline_js = [\n",
       "    function(Bokeh) {\n",
       "      Bokeh.set_log_level(\"info\");\n",
       "    },\n",
       "    function(Bokeh) {\n",
       "    \n",
       "    \n",
       "    }\n",
       "  ];\n",
       "\n",
       "  function run_inline_js() {\n",
       "    \n",
       "    if (root.Bokeh !== undefined || force === true) {\n",
       "      \n",
       "    for (var i = 0; i < inline_js.length; i++) {\n",
       "      inline_js[i].call(root, root.Bokeh);\n",
       "    }\n",
       "    if (force === true) {\n",
       "        display_loaded();\n",
       "      }} else if (Date.now() < root._bokeh_timeout) {\n",
       "      setTimeout(run_inline_js, 100);\n",
       "    } else if (!root._bokeh_failed_load) {\n",
       "      console.log(\"Bokeh: BokehJS failed to load within specified timeout.\");\n",
       "      root._bokeh_failed_load = true;\n",
       "    } else if (force !== true) {\n",
       "      var cell = $(document.getElementById(\"1001\")).parents('.cell').data().cell;\n",
       "      cell.output_area.append_execute_result(NB_LOAD_WARNING)\n",
       "    }\n",
       "\n",
       "  }\n",
       "\n",
       "  if (root._bokeh_is_loading === 0) {\n",
       "    console.debug(\"Bokeh: BokehJS loaded, going straight to plotting\");\n",
       "    run_inline_js();\n",
       "  } else {\n",
       "    load_libs(css_urls, js_urls, function() {\n",
       "      console.debug(\"Bokeh: BokehJS plotting callback run at\", now());\n",
       "      run_inline_js();\n",
       "    });\n",
       "  }\n",
       "}(window));"
      ],
      "application/vnd.bokehjs_load.v0+json": "\n(function(root) {\n  function now() {\n    return new Date();\n  }\n\n  var force = true;\n\n  if (typeof root._bokeh_onload_callbacks === \"undefined\" || force === true) {\n    root._bokeh_onload_callbacks = [];\n    root._bokeh_is_loading = undefined;\n  }\n\n  \n\n  \n  if (typeof (root._bokeh_timeout) === \"undefined\" || force === true) {\n    root._bokeh_timeout = Date.now() + 5000;\n    root._bokeh_failed_load = false;\n  }\n\n  var NB_LOAD_WARNING = {'data': {'text/html':\n     \"<div style='background-color: #fdd'>\\n\"+\n     \"<p>\\n\"+\n     \"BokehJS does not appear to have successfully loaded. If loading BokehJS from CDN, this \\n\"+\n     \"may be due to a slow or bad network connection. Possible fixes:\\n\"+\n     \"</p>\\n\"+\n     \"<ul>\\n\"+\n     \"<li>re-rerun `output_notebook()` to attempt to load from CDN again, or</li>\\n\"+\n     \"<li>use INLINE resources instead, as so:</li>\\n\"+\n     \"</ul>\\n\"+\n     \"<code>\\n\"+\n     \"from bokeh.resources import INLINE\\n\"+\n     \"output_notebook(resources=INLINE)\\n\"+\n     \"</code>\\n\"+\n     \"</div>\"}};\n\n  function display_loaded() {\n    var el = document.getElementById(\"1001\");\n    if (el != null) {\n      el.textContent = \"BokehJS is loading...\";\n    }\n    if (root.Bokeh !== undefined) {\n      if (el != null) {\n        el.textContent = \"BokehJS \" + root.Bokeh.version + \" successfully loaded.\";\n      }\n    } else if (Date.now() < root._bokeh_timeout) {\n      setTimeout(display_loaded, 100)\n    }\n  }\n\n\n  function run_callbacks() {\n    try {\n      root._bokeh_onload_callbacks.forEach(function(callback) {\n        if (callback != null)\n          callback();\n      });\n    } finally {\n      delete root._bokeh_onload_callbacks\n    }\n    console.debug(\"Bokeh: all callbacks have finished\");\n  }\n\n  function load_libs(css_urls, js_urls, callback) {\n    if (css_urls == null) css_urls = [];\n    if (js_urls == null) js_urls = [];\n\n    root._bokeh_onload_callbacks.push(callback);\n    if (root._bokeh_is_loading > 0) {\n      console.debug(\"Bokeh: BokehJS is being loaded, scheduling callback at\", now());\n      return null;\n    }\n    if (js_urls == null || js_urls.length === 0) {\n      run_callbacks();\n      return null;\n    }\n    console.debug(\"Bokeh: BokehJS not loaded, scheduling load and callback at\", now());\n    root._bokeh_is_loading = css_urls.length + js_urls.length;\n\n    function on_load() {\n      root._bokeh_is_loading--;\n      if (root._bokeh_is_loading === 0) {\n        console.debug(\"Bokeh: all BokehJS libraries/stylesheets loaded\");\n        run_callbacks()\n      }\n    }\n\n    function on_error() {\n      console.error(\"failed to load \" + url);\n    }\n\n    for (var i = 0; i < css_urls.length; i++) {\n      var url = css_urls[i];\n      const element = document.createElement(\"link\");\n      element.onload = on_load;\n      element.onerror = on_error;\n      element.rel = \"stylesheet\";\n      element.type = \"text/css\";\n      element.href = url;\n      console.debug(\"Bokeh: injecting link tag for BokehJS stylesheet: \", url);\n      document.body.appendChild(element);\n    }\n\n    const hashes = {\"https://cdn.bokeh.org/bokeh/release/bokeh-2.2.1.min.js\": \"qkRvDQVAIfzsJo40iRBbxt6sttt0hv4lh74DG7OK4MCHv4C5oohXYoHUM5W11uqS\", \"https://cdn.bokeh.org/bokeh/release/bokeh-widgets-2.2.1.min.js\": \"Sb7Mr06a9TNlet/GEBeKaf5xH3eb6AlCzwjtU82wNPyDrnfoiVl26qnvlKjmcAd+\", \"https://cdn.bokeh.org/bokeh/release/bokeh-tables-2.2.1.min.js\": \"HaJ15vgfmcfRtB4c4YBOI4f1MUujukqInOWVqZJZZGK7Q+ivud0OKGSTn/Vm2iso\"};\n\n    for (var i = 0; i < js_urls.length; i++) {\n      var url = js_urls[i];\n      var element = document.createElement('script');\n      element.onload = on_load;\n      element.onerror = on_error;\n      element.async = false;\n      element.src = url;\n      if (url in hashes) {\n        element.crossOrigin = \"anonymous\";\n        element.integrity = \"sha384-\" + hashes[url];\n      }\n      console.debug(\"Bokeh: injecting script tag for BokehJS library: \", url);\n      document.head.appendChild(element);\n    }\n  };\n\n  function inject_raw_css(css) {\n    const element = document.createElement(\"style\");\n    element.appendChild(document.createTextNode(css));\n    document.body.appendChild(element);\n  }\n\n  \n  var js_urls = [\"https://cdn.bokeh.org/bokeh/release/bokeh-2.2.1.min.js\", \"https://cdn.bokeh.org/bokeh/release/bokeh-widgets-2.2.1.min.js\", \"https://cdn.bokeh.org/bokeh/release/bokeh-tables-2.2.1.min.js\"];\n  var css_urls = [];\n  \n\n  var inline_js = [\n    function(Bokeh) {\n      Bokeh.set_log_level(\"info\");\n    },\n    function(Bokeh) {\n    \n    \n    }\n  ];\n\n  function run_inline_js() {\n    \n    if (root.Bokeh !== undefined || force === true) {\n      \n    for (var i = 0; i < inline_js.length; i++) {\n      inline_js[i].call(root, root.Bokeh);\n    }\n    if (force === true) {\n        display_loaded();\n      }} else if (Date.now() < root._bokeh_timeout) {\n      setTimeout(run_inline_js, 100);\n    } else if (!root._bokeh_failed_load) {\n      console.log(\"Bokeh: BokehJS failed to load within specified timeout.\");\n      root._bokeh_failed_load = true;\n    } else if (force !== true) {\n      var cell = $(document.getElementById(\"1001\")).parents('.cell').data().cell;\n      cell.output_area.append_execute_result(NB_LOAD_WARNING)\n    }\n\n  }\n\n  if (root._bokeh_is_loading === 0) {\n    console.debug(\"Bokeh: BokehJS loaded, going straight to plotting\");\n    run_inline_js();\n  } else {\n    load_libs(css_urls, js_urls, function() {\n      console.debug(\"Bokeh: BokehJS plotting callback run at\", now());\n      run_inline_js();\n    });\n  }\n}(window));"
     },
     "metadata": {},
     "output_type": "display_data"
    }
   ],
   "source": [
    "from biocrnpyler import *\n",
    "#from biocrnpyler.chemical_reaction_network import Species, Reaction, ComplexSpecies, Multimer\n",
    "import numpy as np\n",
    "#import pylab as plt \n",
    "#%matplotlib inline\n",
    "\n",
    "import bokeh.io\n",
    "import bokeh.plotting\n",
    "from bokeh.layouts import row\n",
    "\n",
    "bokeh.io.output_notebook()\n",
    "\n",
    "import colorcet\n",
    "\n",
    "from subsbml import createNewSubsystem, createSubsystem"
   ]
  },
  {
   "cell_type": "code",
   "execution_count": 2,
   "metadata": {},
   "outputs": [],
   "source": [
    "palette = colorcet.b_glasbey_category10\n",
    "palette.remove( '#d62628')"
   ]
  },
  {
   "cell_type": "code",
   "execution_count": 3,
   "metadata": {},
   "outputs": [],
   "source": [
    "p_atp = bokeh.plotting.figure(width = 450, height = 350,\n",
    "                             title = 'ATP Compare',\n",
    "                             x_axis_label = 'time (sec)',\n",
    "                             y_axis_label = 'concentration (nM)')"
   ]
  },
  {
   "cell_type": "markdown",
   "metadata": {},
   "source": [
    "## Combine atp synthase with txtl machinery \n",
    "---"
   ]
  },
  {
   "cell_type": "markdown",
   "metadata": {},
   "source": [
    "Load in subsystem models"
   ]
  },
  {
   "cell_type": "code",
   "execution_count": 4,
   "metadata": {},
   "outputs": [],
   "source": [
    "# atp synthase models\n",
    "ss1_atpsyn_txtl = createSubsystem('atpsynthase_machinery_txtl.xml', subsystemName = 'atpsyn_txtl')\n",
    "ss2_atpsyn_mi = createSubsystem('atpsynthase_membrane_integration.xml', subsystemName = 'atpsyn_mi')\n",
    "ss3_atpsynthesis = createSubsystem('atp_synthesis_through_atpsynthase_try.xml', subsystemName = 'atpsynthesis')\n",
    "ss4_atp_use = createSubsystem('atp_50_use.xml', subsystemName = 'atp_use')"
   ]
  },
  {
   "cell_type": "markdown",
   "metadata": {},
   "source": [
    "Combine all models"
   ]
  },
  {
   "cell_type": "code",
   "execution_count": 5,
   "metadata": {},
   "outputs": [],
   "source": [
    "atp_subsystem_w_use = ss1_atpsyn_txtl + ss2_atpsyn_mi + ss3_atpsynthesis + ss4_atp_use"
   ]
  },
  {
   "cell_type": "markdown",
   "metadata": {},
   "source": [
    "Indicate initial conditions and timepoints, simulate with bioscrape, and get species IDs that you may want to plot"
   ]
  },
  {
   "cell_type": "code",
   "execution_count": 6,
   "metadata": {},
   "outputs": [
    {
     "name": "stderr",
     "output_type": "stream",
     "text": [
      "/Users/ankitaroychoudhury/opt/anaconda3/lib/python3.7/site-packages/subsbml/Subsystem.py:2029: UserWarning: Depricated Warning: Bioscrape XML is being replaced by SBML and will no longer be supported in a future version of the software.\n",
      "  m.write_bioscrape_xml('temp_bs.xml')\n",
      "/Users/ankitaroychoudhury/opt/anaconda3/lib/python3.7/site-packages/scipy/integrate/odepack.py:247: ODEintWarning: Excess work done on this call (perhaps wrong Dfun type). Run with full_output = 1 to get quantitative information.\n",
      "  warnings.warn(warning_msg, ODEintWarning)\n",
      "odeint failed with mxstep=500..."
     ]
    }
   ],
   "source": [
    "# SIMULATE WITH ATP SYNTHASE\n",
    "# Initial conditions\n",
    "spec_list_10 = ['dna_atpsyn', 'proton_outside_H',\n",
    "                 'protein_RNAP_machinery', \n",
    "                'protein_Ribo_machinery', 'protein_RNAse_machinery']\n",
    "for i,spec in enumerate(spec_list_10):\n",
    "    atp_subsystem_w_use.setSpeciesAmount(spec,10)\n",
    "    \n",
    "atp_subsystem_w_use.setSpeciesAmount('metabolite_atp',10)\n",
    "\n",
    "\n",
    "# timepoints and get WITH ATP SYNTHASE\n",
    "timepoints = np.linspace(0,31600,100) #31600\n",
    "results1, _ = atp_subsystem_w_use.simulateWithBioscrape(timepoints, sbml_warnings = False)\n",
    "\n",
    "# Get species IDs\n",
    "ATP_id = atp_subsystem_w_use.getSpeciesByName('metabolite_atp').getId()\n",
    "ADP_id = atp_subsystem_w_use.getSpeciesByName('metabolite_adp').getId()\n",
    "\n",
    "outside_H_id = atp_subsystem_w_use.getSpeciesByName('proton_outside_H').getId()\n",
    "inside_H_id = atp_subsystem_w_use.getSpeciesByName('proton_inside_H').getId()\n",
    "atp_synthase_b_protein_id = atp_subsystem_w_use.getSpeciesByName('protein_atpsyn_b').getId()\n",
    "atp_synthase_f_protein_id = atp_subsystem_w_use.getSpeciesByName('protein_atpsyn').getId()"
   ]
  },
  {
   "cell_type": "markdown",
   "metadata": {},
   "source": [
    "Perform simulations with the system with **only** ATP use, no atp synthase"
   ]
  },
  {
   "cell_type": "code",
   "execution_count": 7,
   "metadata": {},
   "outputs": [],
   "source": [
    "# SIMULATE WITHOUT ATP SYNTHASE\n",
    "#ss4_atp_use.setSpeciesAmount('proton_outside_H',10)\n",
    "ss4_atp_use.setSpeciesAmount('metabolite_atp',10)\n",
    "\n",
    "\n",
    "results2, _ = ss4_atp_use.simulateWithBioscrape(timepoints, sbml_warnings = False)\n",
    "\n",
    "# GET ATP species ID s\n",
    "ATP_id2 = ss4_atp_use.getSpeciesByName('metabolite_atp').getId()"
   ]
  },
  {
   "cell_type": "markdown",
   "metadata": {},
   "source": [
    "Plot!"
   ]
  },
  {
   "cell_type": "code",
   "execution_count": 8,
   "metadata": {},
   "outputs": [
    {
     "data": {
      "text/html": [
       "\n",
       "\n",
       "\n",
       "\n",
       "\n",
       "\n",
       "  <div class=\"bk-root\" id=\"5fbaf1cd-d53f-40d4-9ec4-2e0ac2825c12\" data-root-id=\"1249\"></div>\n"
      ]
     },
     "metadata": {},
     "output_type": "display_data"
    },
    {
     "data": {
      "application/javascript": [
       "(function(root) {\n",
       "  function embed_document(root) {\n",
       "    \n",
       "  var docs_json = {\"08ae3112-f895-425d-b580-9ae4f3e2d3c2\":{\"roots\":{\"references\":[{\"attributes\":{\"children\":[{\"id\":\"1035\"},{\"id\":\"1137\"}]},\"id\":\"1249\",\"type\":\"Row\"},{\"attributes\":{},\"id\":\"1075\",\"type\":\"BasicTickFormatter\"},{\"attributes\":{},\"id\":\"1114\",\"type\":\"Selection\"},{\"attributes\":{\"data\":{\"x\":{\"__ndarray__\":\"AAAAAAAAAAD0kcwotrK2P/SRzCi2ssY/d22ZnggG0T/0kcwotrLWP3K2/7JjX9w/d22ZnggG4T+2/7JjX9zjP/SRzCi2suY/MyTm7QyJ6T9ytv+yY1/sP7BIGXi6Ne8/d22ZnggG8T+WNiYBNHHyP7b/smNf3PM/1sg/xopH9T/0kcwotrL2PxNbWYvhHfg/MyTm7QyJ+T9T7XJQOPT6P3K2/7JjX/w/kH+MFY/K/T+wSBl4ujX/P+gIU+1yUABAd22ZnggGAUAG0t9PnrsBQJY2JgE0cQJAJptssskmA0C2/7JjX9wDQEVk+RT1kQRA1sg/xopHBUBlLYZ3IP0FQPSRzCi2sgZAhPYS2ktoB0ATW1mL4R0IQKS/nzx30whAMyTm7QyJCUDCiCyfoj4KQFPtclA49ApA4lG5Ac6pC0Bytv+yY18MQAEbRmT5FA1AkH+MFY/KDUAh5NLGJIAOQLBIGXi6NQ9AQK1fKVDrD0DoCFPtclAQQDA79sU9qxBAd22ZnggGEUC/nzx302ARQAbS30+euxFATwSDKGkWEkCWNiYBNHESQN9oydn+yxJAJptssskmE0BuzQ+LlIETQLb/smNf3BNA/jFWPCo3FEBFZPkU9ZEUQI2WnO2/7BRA1sg/xopHFUAe++KeVaIVQGUthncg/RVArV8pUOtXFkD0kcwotrIWQD3EbwGBDRdAhPYS2ktoF0DMKLayFsMXQBNbWYvhHRhAXI38Y6x4GECkv588d9MYQOzxQhVCLhlAMyTm7QyJGUB7VonG1+MZQMKILJ+iPhpAC7vPd22ZGkBT7XJQOPQaQJsfFikDTxtA4lG5Ac6pG0AqhFzamAQcQHK2/7JjXxxAuuiiiy66HEABG0Zk+RQdQElN6TzEbx1AkH+MFY/KHUDasS/uWSUeQCHk0sYkgB5AaRZ2n+/aHkCwSBl4ujUfQPl6vFCFkB9AQK1fKVDrH0DEbwGBDSMgQOgIU+1yUCBADKKkWdh9IEAwO/bFPasgQFTURzKj2CBAd22ZnggGIUCcBusKbjMhQL+fPHfTYCFA4ziO4ziOIUA=\",\"dtype\":\"float64\",\"order\":\"little\",\"shape\":[100]},\"y\":{\"__ndarray__\":\"AAAAAAAAAAC3lRUIIA/zPx/2fmfOHgdA1pUjZcnREUD9CjJuDIIXQLc7ZdlUrRxATsO0juOvIECtLFAANtIiQK9KiiulwiRALzE2SL+FJkC30bkPqB8oQMWZe3YilClAbrUegpnmKkB0BN5QKBosQFwNx2WhMS1A+JrOSZUvLkAFcQ6SWBYvQMkdDVoJ6C9AGI3PHUpTMEBwcvNq3KkwQIHm0POG+DBAgxuvhQJAMUAd2rUN94AxQF9idyP9uzFAYiBlb5/xMUC1x5TwWyIyQFBnsCSlTjJA8T33FON2MkAJjp9KdJsyQMjN5qyuvDJAWI/vSuDaMkDFTAoTUPYyQHRCaHk+DzNA3WyLD+YlM0AkV7wNfDozQGyWKtAwTTNA/z2hSDBeM0C1wohlom0zQOt812+rezNAadlKYGyIM0DnK9QsA5QzQHXTCQ+LnjNAKOsOxByoM0AxOrTGzrAzQOY2T4S1uDNAAqSqjOO/M0Dtaqe9acYzQCHq22pXzDNAaFuSgbrRM0AmZJepn9YzQB2Qy2IS2zNA7CBFIB3fM0BtyM5gyeIzQN1FPsUf5jNA4+q0JCjpM0Ctmwaf6eszQBThgK1q7jNAohAeMrHwM0AvLlGFwvIzQOcBloKj9DNANnfbk1j2M0AWo+C75fczQBkrpJ9O+TNAE5fwjpb6M0Cg3CqMwPszQDXnW1PP/DNAk4yfYMX9M0DN1vr1pP4zQL5MqyBw/zNAEV74vSgANEAn/Y9/0AA0QAOoie9oATRAC/oCdPMBNEARCGVScQI0QLgsYLLjAjRAFq2ioEsDNEDO1lARqgM0QFhER+L/AzRAmoch3U0ENECVaxG5lAQ0QJm0jBzVBDRAHBzVng8FNEAPOl3JRAU0QNMICxl1BTRAQqJc/6AFNEAhyXLjyAU0QKt3AyPtBTRARtY1Ew4GNEAdkWoBLAY0QHZ28TNHBjRAh+Cu6l8GNEAkf7BfdgY0QBTytseKBjRAem6wUp0GNEDL5TEsrgY0QNXq0Hu9BjRA9NSEZcsGNEDIOPsJ2AY0QL5r6IbjBjRAPLdH9+0GNEA=\",\"dtype\":\"float64\",\"order\":\"little\",\"shape\":[100]}},\"selected\":{\"id\":\"1134\"},\"selection_policy\":{\"id\":\"1133\"}},\"id\":\"1117\",\"type\":\"ColumnDataSource\"},{\"attributes\":{\"text\":\"only ATP Use\"},\"id\":\"1138\",\"type\":\"Title\"},{\"attributes\":{\"line_color\":\"#9367bc\",\"line_width\":2,\"x\":{\"field\":\"x\"},\"y\":{\"field\":\"y\"}},\"id\":\"1118\",\"type\":\"Line\"},{\"attributes\":{},\"id\":\"1077\",\"type\":\"BasicTickFormatter\"},{\"attributes\":{\"data_source\":{\"id\":\"1117\"},\"glyph\":{\"id\":\"1118\"},\"hover_glyph\":null,\"muted_glyph\":null,\"nonselection_glyph\":{\"id\":\"1119\"},\"selection_glyph\":null,\"view\":{\"id\":\"1121\"}},\"id\":\"1120\",\"type\":\"GlyphRenderer\"},{\"attributes\":{\"click_policy\":\"hide\",\"items\":[{\"id\":\"1082\"},{\"id\":\"1098\"},{\"id\":\"1116\"},{\"id\":\"1136\"}],\"location\":\"bottom_right\"},\"id\":\"1081\",\"type\":\"Legend\"},{\"attributes\":{\"below\":[{\"id\":\"1046\"}],\"center\":[{\"id\":\"1049\"},{\"id\":\"1053\"},{\"id\":\"1081\"}],\"left\":[{\"id\":\"1050\"}],\"plot_height\":350,\"plot_width\":450,\"renderers\":[{\"id\":\"1071\"},{\"id\":\"1086\"},{\"id\":\"1102\"},{\"id\":\"1120\"}],\"title\":{\"id\":\"1036\"},\"toolbar\":{\"id\":\"1061\"},\"x_range\":{\"id\":\"1038\"},\"x_scale\":{\"id\":\"1042\"},\"y_range\":{\"id\":\"1040\"},\"y_scale\":{\"id\":\"1044\"}},\"id\":\"1035\",\"subtype\":\"Figure\",\"type\":\"Plot\"},{\"attributes\":{\"source\":{\"id\":\"1068\"}},\"id\":\"1072\",\"type\":\"CDSView\"},{\"attributes\":{\"data\":{\"x\":{\"__ndarray__\":\"AAAAAAAAAAD0kcwotrK2P/SRzCi2ssY/d22ZnggG0T/0kcwotrLWP3K2/7JjX9w/d22ZnggG4T+2/7JjX9zjP/SRzCi2suY/MyTm7QyJ6T9ytv+yY1/sP7BIGXi6Ne8/d22ZnggG8T+WNiYBNHHyP7b/smNf3PM/1sg/xopH9T/0kcwotrL2PxNbWYvhHfg/MyTm7QyJ+T9T7XJQOPT6P3K2/7JjX/w/kH+MFY/K/T+wSBl4ujX/P+gIU+1yUABAd22ZnggGAUAG0t9PnrsBQJY2JgE0cQJAJptssskmA0C2/7JjX9wDQEVk+RT1kQRA1sg/xopHBUBlLYZ3IP0FQPSRzCi2sgZAhPYS2ktoB0ATW1mL4R0IQKS/nzx30whAMyTm7QyJCUDCiCyfoj4KQFPtclA49ApA4lG5Ac6pC0Bytv+yY18MQAEbRmT5FA1AkH+MFY/KDUAh5NLGJIAOQLBIGXi6NQ9AQK1fKVDrD0DoCFPtclAQQDA79sU9qxBAd22ZnggGEUC/nzx302ARQAbS30+euxFATwSDKGkWEkCWNiYBNHESQN9oydn+yxJAJptssskmE0BuzQ+LlIETQLb/smNf3BNA/jFWPCo3FEBFZPkU9ZEUQI2WnO2/7BRA1sg/xopHFUAe++KeVaIVQGUthncg/RVArV8pUOtXFkD0kcwotrIWQD3EbwGBDRdAhPYS2ktoF0DMKLayFsMXQBNbWYvhHRhAXI38Y6x4GECkv588d9MYQOzxQhVCLhlAMyTm7QyJGUB7VonG1+MZQMKILJ+iPhpAC7vPd22ZGkBT7XJQOPQaQJsfFikDTxtA4lG5Ac6pG0AqhFzamAQcQHK2/7JjXxxAuuiiiy66HEABG0Zk+RQdQElN6TzEbx1AkH+MFY/KHUDasS/uWSUeQCHk0sYkgB5AaRZ2n+/aHkCwSBl4ujUfQPl6vFCFkB9AQK1fKVDrH0DEbwGBDSMgQOgIU+1yUCBADKKkWdh9IEAwO/bFPasgQFTURzKj2CBAd22ZnggGIUCcBusKbjMhQL+fPHfTYCFA4ziO4ziOIUA=\",\"dtype\":\"float64\",\"order\":\"little\",\"shape\":[100]},\"y\":{\"__ndarray__\":\"AAAAAAAAJECqKTQtO144vThfYBhoZTa+yua1gEomBj7+ETKOtkwFveCkcQhi3LQ9YNn/b/t9rb2GGQUzBQYDPnL4QU/YX8W9C/2osugUsz2gloZfs0+7PbBb57y+Lxe+r5Q3RHy7J73MzYU/MqmZvWqxsTBO+Ji97lpzUsuvDj4EkaW0hwZyPcQS8+idyoQ8Rl9mMDObT7yDyBojMVe2u2ICEl9oAq+7UUlg0WaPgzsR4il/UypmOy2JMJSBdTg7IFy1AIyANLvZ6tax4xCiu7+rYxFfcqo7MPm2VfiKyTsbLWwz8k4IvEhR1b/5llK8lHnZxOO1kLzel913fMqfvMW7KNqQS228eIpgETjXDDxFM5/xRSscvHJ5Wf1/fge8lDDmChJvNzz+FqlrvHBEPKC7P++DVXi85IX6Uuiorbxo8GIZ/fmxvIzZpJR59/Q89a7QreWLKD3MpWe5N8wlvTjvHbiEIPm8RRP26m4gUTw9/M4YRv1gvEIHAdEpgF48wBULn09+OrxkLoNR1gaGvJA+WvpWdJs8RDzR9HT7uDzMYXZopn3fvEB4j+T3g968gjkAfKlJID0QN4dCP70iPTezhw8ApUY9EtlF1LRXNj1mlRmtoiUxvfd20km5sQM9IRMmPymlQryzyMxymLNIPNhsx2KD9R28j/9RB1WkM7ybTa/9t4ZKvHIGdjx9n2I8BFNj7Q1udbweFuo4otWEPLhRzjDhpIq8qBlbShmthLx0r7ph9QrSPOh1VmmxG+q8DmocIieICz1PW5J1ik7WvL6zszc76Nc8AK3r8+oziTxqmDscX9XsvNDFy+GrStE8FwS6ruxj/7wQfFcSwq8BPYA3c7RxYQS9/MVwsEL2Aj0Az+edZfPrPNjrFwNzgCi9HNK+gdx9RT3I0xftmCtuva1OB7Pcg2E97UYFrXuKM71GVxF5QCNXvXm8h/5HpVi9sEjyVRBgOj05UEitq002vd+vuDigltE8SS6vTsX5AD0qFqiXs6/3vC/uO2X4K/I8Jt8iMh20qLzvEKsrXcjfvCRSVl94uOC7YERIa69brjs=\",\"dtype\":\"float64\",\"order\":\"little\",\"shape\":[100]}},\"selected\":{\"id\":\"1096\"},\"selection_policy\":{\"id\":\"1095\"}},\"id\":\"1083\",\"type\":\"ColumnDataSource\"},{\"attributes\":{\"source\":{\"id\":\"1117\"}},\"id\":\"1121\",\"type\":\"CDSView\"},{\"attributes\":{},\"id\":\"1133\",\"type\":\"UnionRenderers\"},{\"attributes\":{\"line_alpha\":0.1,\"line_color\":\"#9367bc\",\"line_width\":2,\"x\":{\"field\":\"x\"},\"y\":{\"field\":\"y\"}},\"id\":\"1119\",\"type\":\"Line\"},{\"attributes\":{\"text\":\"with ATP Synthase\"},\"id\":\"1036\",\"type\":\"Title\"},{\"attributes\":{\"bottom_units\":\"screen\",\"fill_alpha\":0.5,\"fill_color\":\"lightgrey\",\"left_units\":\"screen\",\"level\":\"overlay\",\"line_alpha\":1.0,\"line_color\":\"black\",\"line_dash\":[4,4],\"line_width\":2,\"right_units\":\"screen\",\"top_units\":\"screen\"},\"id\":\"1162\",\"type\":\"BoxAnnotation\"},{\"attributes\":{\"data_source\":{\"id\":\"1170\"},\"glyph\":{\"id\":\"1171\"},\"hover_glyph\":null,\"muted_glyph\":null,\"nonselection_glyph\":{\"id\":\"1172\"},\"selection_glyph\":null,\"view\":{\"id\":\"1174\"}},\"id\":\"1173\",\"type\":\"GlyphRenderer\"},{\"attributes\":{},\"id\":\"1038\",\"type\":\"DataRange1d\"},{\"attributes\":{\"bottom_units\":\"screen\",\"fill_alpha\":0.5,\"fill_color\":\"lightgrey\",\"left_units\":\"screen\",\"level\":\"overlay\",\"line_alpha\":1.0,\"line_color\":\"black\",\"line_dash\":[4,4],\"line_width\":2,\"right_units\":\"screen\",\"top_units\":\"screen\"},\"id\":\"1060\",\"type\":\"BoxAnnotation\"},{\"attributes\":{},\"id\":\"1134\",\"type\":\"Selection\"},{\"attributes\":{},\"id\":\"1040\",\"type\":\"DataRange1d\"},{\"attributes\":{},\"id\":\"1140\",\"type\":\"DataRange1d\"},{\"attributes\":{},\"id\":\"1142\",\"type\":\"DataRange1d\"},{\"attributes\":{},\"id\":\"1078\",\"type\":\"UnionRenderers\"},{\"attributes\":{},\"id\":\"1042\",\"type\":\"LinearScale\"},{\"attributes\":{\"source\":{\"id\":\"1170\"}},\"id\":\"1174\",\"type\":\"CDSView\"},{\"attributes\":{},\"id\":\"1044\",\"type\":\"LinearScale\"},{\"attributes\":{\"items\":[{\"id\":\"1184\"}]},\"id\":\"1183\",\"type\":\"Legend\"},{\"attributes\":{\"axis\":{\"id\":\"1050\"},\"dimension\":1,\"ticker\":null},\"id\":\"1053\",\"type\":\"Grid\"},{\"attributes\":{},\"id\":\"1179\",\"type\":\"BasicTickFormatter\"},{\"attributes\":{\"axis_label\":\"time (hrs)\",\"formatter\":{\"id\":\"1077\"},\"ticker\":{\"id\":\"1047\"}},\"id\":\"1046\",\"type\":\"LinearAxis\"},{\"attributes\":{},\"id\":\"1177\",\"type\":\"BasicTickFormatter\"},{\"attributes\":{},\"id\":\"1079\",\"type\":\"Selection\"},{\"attributes\":{\"axis_label\":\"concentration (nM)\",\"formatter\":{\"id\":\"1075\"},\"ticker\":{\"id\":\"1051\"}},\"id\":\"1050\",\"type\":\"LinearAxis\"},{\"attributes\":{},\"id\":\"1047\",\"type\":\"BasicTicker\"},{\"attributes\":{},\"id\":\"1144\",\"type\":\"LinearScale\"},{\"attributes\":{\"label\":{\"value\":\"atp\"},\"renderers\":[{\"id\":\"1071\"}]},\"id\":\"1082\",\"type\":\"LegendItem\"},{\"attributes\":{},\"id\":\"1146\",\"type\":\"LinearScale\"},{\"attributes\":{},\"id\":\"1180\",\"type\":\"UnionRenderers\"},{\"attributes\":{\"axis\":{\"id\":\"1046\"},\"ticker\":null},\"id\":\"1049\",\"type\":\"Grid\"},{\"attributes\":{\"axis_label\":\"time (hrs)\",\"formatter\":{\"id\":\"1179\"},\"ticker\":{\"id\":\"1149\"}},\"id\":\"1148\",\"type\":\"LinearAxis\"},{\"attributes\":{},\"id\":\"1051\",\"type\":\"BasicTicker\"},{\"attributes\":{},\"id\":\"1181\",\"type\":\"Selection\"},{\"attributes\":{\"data_source\":{\"id\":\"1083\"},\"glyph\":{\"id\":\"1084\"},\"hover_glyph\":null,\"muted_glyph\":null,\"nonselection_glyph\":{\"id\":\"1085\"},\"selection_glyph\":null,\"view\":{\"id\":\"1087\"}},\"id\":\"1086\",\"type\":\"GlyphRenderer\"},{\"attributes\":{\"axis\":{\"id\":\"1152\"},\"dimension\":1,\"ticker\":null},\"id\":\"1155\",\"type\":\"Grid\"},{\"attributes\":{},\"id\":\"1149\",\"type\":\"BasicTicker\"},{\"attributes\":{\"label\":{\"value\":\"atp\"},\"renderers\":[{\"id\":\"1173\"}]},\"id\":\"1184\",\"type\":\"LegendItem\"},{\"attributes\":{\"axis\":{\"id\":\"1148\"},\"ticker\":null},\"id\":\"1151\",\"type\":\"Grid\"},{\"attributes\":{\"line_color\":\"#ff7e0e\",\"line_width\":2,\"x\":{\"field\":\"x\"},\"y\":{\"field\":\"y\"}},\"id\":\"1084\",\"type\":\"Line\"},{\"attributes\":{\"data\":{\"x\":{\"__ndarray__\":\"AAAAAAAAAAD0kcwotrK2P/SRzCi2ssY/d22ZnggG0T/0kcwotrLWP3K2/7JjX9w/d22ZnggG4T+2/7JjX9zjP/SRzCi2suY/MyTm7QyJ6T9ytv+yY1/sP7BIGXi6Ne8/d22ZnggG8T+WNiYBNHHyP7b/smNf3PM/1sg/xopH9T/0kcwotrL2PxNbWYvhHfg/MyTm7QyJ+T9T7XJQOPT6P3K2/7JjX/w/kH+MFY/K/T+wSBl4ujX/P+gIU+1yUABAd22ZnggGAUAG0t9PnrsBQJY2JgE0cQJAJptssskmA0C2/7JjX9wDQEVk+RT1kQRA1sg/xopHBUBlLYZ3IP0FQPSRzCi2sgZAhPYS2ktoB0ATW1mL4R0IQKS/nzx30whAMyTm7QyJCUDCiCyfoj4KQFPtclA49ApA4lG5Ac6pC0Bytv+yY18MQAEbRmT5FA1AkH+MFY/KDUAh5NLGJIAOQLBIGXi6NQ9AQK1fKVDrD0DoCFPtclAQQDA79sU9qxBAd22ZnggGEUC/nzx302ARQAbS30+euxFATwSDKGkWEkCWNiYBNHESQN9oydn+yxJAJptssskmE0BuzQ+LlIETQLb/smNf3BNA/jFWPCo3FEBFZPkU9ZEUQI2WnO2/7BRA1sg/xopHFUAe++KeVaIVQGUthncg/RVArV8pUOtXFkD0kcwotrIWQD3EbwGBDRdAhPYS2ktoF0DMKLayFsMXQBNbWYvhHRhAXI38Y6x4GECkv588d9MYQOzxQhVCLhlAMyTm7QyJGUB7VonG1+MZQMKILJ+iPhpAC7vPd22ZGkBT7XJQOPQaQJsfFikDTxtA4lG5Ac6pG0AqhFzamAQcQHK2/7JjXxxAuuiiiy66HEABG0Zk+RQdQElN6TzEbx1AkH+MFY/KHUDasS/uWSUeQCHk0sYkgB5AaRZ2n+/aHkCwSBl4ujUfQPl6vFCFkB9AQK1fKVDrH0DEbwGBDSMgQOgIU+1yUCBADKKkWdh9IEAwO/bFPasgQFTURzKj2CBAd22ZnggGIUCcBusKbjMhQL+fPHfTYCFA4ziO4ziOIUA=\",\"dtype\":\"float64\",\"order\":\"little\",\"shape\":[100]},\"y\":{\"__ndarray__\":\"AAAAAAAAJED4//////8fQM///////x9A9v//////H0Dy//////8fQPn//////x9A9f//////H0D2//////8fQPf//////x9A+P//////H0D3//////8fQPn//////x9A+P//////H0D+//////8fQPn//////x9A7P//////H0D4//////8fQPf//////x9A9///////H0D4//////8fQPj//////x9A9///////H0D2//////8fQPb//////x9A9f//////H0Du//////8fQPz//////x9ACAAAAAAAIEC5/v////8fQCDm/////x9AXcH+////H0B+7f3///8fQLTC/////x9A+f//////H0Ds//////8fQAgAAAAAACBAcQAAAAAAIECfAAAAAAAgQI/x/////x9AvZb/////H0A4xf////8fQGmRAwAAACBAP8UXAAAAIEAN39T///8fQL3s+f///x9A/f//////H0C5//////8fQBQAAAAAACBAmv//////H0B8/f////8fQCgDAAAAACBACQoAAAAAIECvmf////8fQNa0/////x9ACt4CAAAAIEBb3wIAAAAgQD3WDgAAACBAREwHAAAAIED5zfT///8fQGfNAAAAACBA6f//////H0D///////8fQPX//////x9A9f//////H0Dd//////8fQB8AAAAAACBAQP//////H0ClAAAAAAAgQD3+/////x9A1P7/////H0BIEQAAAAAgQJOd/////x9A2M0AAAAAIEAv1v////8fQFcWAAAAACBAvQAAAAAAIECDlP////8fQCYQAAAAACBAdBb/////H0ADgwAAAAAgQKzT/v///x9AAIoAAAAAIEBpOAAAAAAgQDtJ+v///x9ALO8JAAAAIEDVm5H///8fQEIYIAAAACBA0rb2////H0DkF9b///8fQHNt0v///x9Au+AGAAAAIEBsqvL///8fQOgiAAAAACBAs3MBAAAAIEArEP7///8fQLtiAAAAACBA7fj/////H0Ckt/////8fQOn//////x9A8P//////H0A=\",\"dtype\":\"float64\",\"order\":\"little\",\"shape\":[100]}},\"selected\":{\"id\":\"1079\"},\"selection_policy\":{\"id\":\"1078\"}},\"id\":\"1068\",\"type\":\"ColumnDataSource\"},{\"attributes\":{},\"id\":\"1153\",\"type\":\"BasicTicker\"},{\"attributes\":{\"axis_label\":\"concentration (nM)\",\"formatter\":{\"id\":\"1177\"},\"ticker\":{\"id\":\"1153\"}},\"id\":\"1152\",\"type\":\"LinearAxis\"},{\"attributes\":{\"source\":{\"id\":\"1083\"}},\"id\":\"1087\",\"type\":\"CDSView\"},{\"attributes\":{},\"id\":\"1095\",\"type\":\"UnionRenderers\"},{\"attributes\":{\"line_alpha\":0.1,\"line_color\":\"#ff7e0e\",\"line_width\":2,\"x\":{\"field\":\"x\"},\"y\":{\"field\":\"y\"}},\"id\":\"1085\",\"type\":\"Line\"},{\"attributes\":{\"below\":[{\"id\":\"1148\"}],\"center\":[{\"id\":\"1151\"},{\"id\":\"1155\"},{\"id\":\"1183\"}],\"left\":[{\"id\":\"1152\"}],\"plot_height\":350,\"plot_width\":450,\"renderers\":[{\"id\":\"1173\"}],\"title\":{\"id\":\"1138\"},\"toolbar\":{\"id\":\"1163\"},\"x_range\":{\"id\":\"1140\"},\"x_scale\":{\"id\":\"1144\"},\"y_range\":{\"id\":\"1142\"},\"y_scale\":{\"id\":\"1146\"}},\"id\":\"1137\",\"subtype\":\"Figure\",\"type\":\"Plot\"},{\"attributes\":{\"label\":{\"value\":\"outside_H\"},\"renderers\":[{\"id\":\"1086\"}]},\"id\":\"1098\",\"type\":\"LegendItem\"},{\"attributes\":{\"line_color\":\"#1f77b3\",\"line_width\":2,\"x\":{\"field\":\"x\"},\"y\":{\"field\":\"y\"}},\"id\":\"1171\",\"type\":\"Line\"},{\"attributes\":{},\"id\":\"1054\",\"type\":\"PanTool\"},{\"attributes\":{\"data\":{\"x\":{\"__ndarray__\":\"AAAAAAAAAAD0kcwotrK2P/SRzCi2ssY/d22ZnggG0T/0kcwotrLWP3K2/7JjX9w/d22ZnggG4T+2/7JjX9zjP/SRzCi2suY/MyTm7QyJ6T9ytv+yY1/sP7BIGXi6Ne8/d22ZnggG8T+WNiYBNHHyP7b/smNf3PM/1sg/xopH9T/0kcwotrL2PxNbWYvhHfg/MyTm7QyJ+T9T7XJQOPT6P3K2/7JjX/w/kH+MFY/K/T+wSBl4ujX/P+gIU+1yUABAd22ZnggGAUAG0t9PnrsBQJY2JgE0cQJAJptssskmA0C2/7JjX9wDQEVk+RT1kQRA1sg/xopHBUBlLYZ3IP0FQPSRzCi2sgZAhPYS2ktoB0ATW1mL4R0IQKS/nzx30whAMyTm7QyJCUDCiCyfoj4KQFPtclA49ApA4lG5Ac6pC0Bytv+yY18MQAEbRmT5FA1AkH+MFY/KDUAh5NLGJIAOQLBIGXi6NQ9AQK1fKVDrD0DoCFPtclAQQDA79sU9qxBAd22ZnggGEUC/nzx302ARQAbS30+euxFATwSDKGkWEkCWNiYBNHESQN9oydn+yxJAJptssskmE0BuzQ+LlIETQLb/smNf3BNA/jFWPCo3FEBFZPkU9ZEUQI2WnO2/7BRA1sg/xopHFUAe++KeVaIVQGUthncg/RVArV8pUOtXFkD0kcwotrIWQD3EbwGBDRdAhPYS2ktoF0DMKLayFsMXQBNbWYvhHRhAXI38Y6x4GECkv588d9MYQOzxQhVCLhlAMyTm7QyJGUB7VonG1+MZQMKILJ+iPhpAC7vPd22ZGkBT7XJQOPQaQJsfFikDTxtA4lG5Ac6pG0AqhFzamAQcQHK2/7JjXxxAuuiiiy66HEABG0Zk+RQdQElN6TzEbx1AkH+MFY/KHUDasS/uWSUeQCHk0sYkgB5AaRZ2n+/aHkCwSBl4ujUfQPl6vFCFkB9AQK1fKVDrH0DEbwGBDSMgQOgIU+1yUCBADKKkWdh9IEAwO/bFPasgQFTURzKj2CBAd22ZnggGIUCcBusKbjMhQL+fPHfTYCFA4ziO4ziOIUA=\",\"dtype\":\"float64\",\"order\":\"little\",\"shape\":[100]},\"y\":{\"__ndarray__\":\"AAAAAAAAJEAVXf4fOi2FuoWDYJE423C6TzNPSP8Mt7lfKWkHEQClubNhgGMZRNa4qwlEqyA81biisQfzJzTUuJpZyzovLNO4kQGPgjYk0riIqVLKPRzRuH9RFhJFFNC47vKzs5gYzrjfQjtDpwjMuMySwtK1+Mm4u+JJYsTox7iqMtHx0tjFuJqCWIHhyMO4iNLfEPC4wbjsRM5A/VG/uMvk3F8aMru4qoTrfjcSt7iHJPqdVPKyuMWIEXrjpK24g8guuB1lpbiFEJjsr0qauAUgpdFIloO4EUt5opQB37dGWVa4y43dt3tnM84CGty3rXUQ5Dmm2rfig+35cDLZtxaSyg+ovte3S6CnJd9K1reAroQ7FtfUt7K8YVFNY9O358o+Z4Tv0bcc2Rt9u3vQt5zO8SXlD863BeurUVMoy7dvB2Z9wUDIt9gjIKkvWcW3QUDa1J1xwrdMuSgBGBS/tx7ynFj0RLm38CoRsNB1s7d0xwoPWk2rtzNy5nslXp+3+6pusy1DgLfvjIlUedLNtsmTph1Hr822pJrD5hSMzbaAoeCv4mjNtlmo/XiwRc22M68aQn4izbYNtjcLTP/Mtui8VNQZ3My2w8Nxnee4zLaeyo5mtZXMtnjRqy+Dcsy2UtjI+FBPzLYt3+XBHizMtgfmAovsCMy24ewfVLrly7a88zwdiMLLtpf6WeZVn8u2cQF3ryN8y7ZLCJR48VjLticPsUG/Ncu2ABbOCo0Sy7bbHOvTWu/KtrYjCJ0ozMq2kColZvaoyrZrMUIvxIXKtkU4X/iRYsq2Hz98wV8/yrb6RZmKLRzKttRMtlP7+Mm2rlPTHMnVybaKWvDllrLJtmRhDa9kj8m2PmgqeDJsybYZb0dBAEnJtvR1ZArOJcm2znyB05sCybaog56cad/ItoOKu2U3vMi2XZHYLgWZyLY3mPX30nXIthOfEsGgUsi27aUvim4vyLbHrExTPAzItqKzaRwK6ce2fLqG5dfFx7ZWwaOupaLHtjHIwHdzf8e2C8/dQEFcx7bm1foJDznHtsHcF9PcFce2muM0nKryxrY=\",\"dtype\":\"float64\",\"order\":\"little\",\"shape\":[100]}},\"selected\":{\"id\":\"1181\"},\"selection_policy\":{\"id\":\"1180\"}},\"id\":\"1170\",\"type\":\"ColumnDataSource\"},{\"attributes\":{\"line_alpha\":0.1,\"line_color\":\"#1f77b3\",\"line_width\":2,\"x\":{\"field\":\"x\"},\"y\":{\"field\":\"y\"}},\"id\":\"1172\",\"type\":\"Line\"},{\"attributes\":{},\"id\":\"1096\",\"type\":\"Selection\"},{\"attributes\":{},\"id\":\"1055\",\"type\":\"WheelZoomTool\"},{\"attributes\":{\"data\":{\"x\":{\"__ndarray__\":\"AAAAAAAAAAD0kcwotrK2P/SRzCi2ssY/d22ZnggG0T/0kcwotrLWP3K2/7JjX9w/d22ZnggG4T+2/7JjX9zjP/SRzCi2suY/MyTm7QyJ6T9ytv+yY1/sP7BIGXi6Ne8/d22ZnggG8T+WNiYBNHHyP7b/smNf3PM/1sg/xopH9T/0kcwotrL2PxNbWYvhHfg/MyTm7QyJ+T9T7XJQOPT6P3K2/7JjX/w/kH+MFY/K/T+wSBl4ujX/P+gIU+1yUABAd22ZnggGAUAG0t9PnrsBQJY2JgE0cQJAJptssskmA0C2/7JjX9wDQEVk+RT1kQRA1sg/xopHBUBlLYZ3IP0FQPSRzCi2sgZAhPYS2ktoB0ATW1mL4R0IQKS/nzx30whAMyTm7QyJCUDCiCyfoj4KQFPtclA49ApA4lG5Ac6pC0Bytv+yY18MQAEbRmT5FA1AkH+MFY/KDUAh5NLGJIAOQLBIGXi6NQ9AQK1fKVDrD0DoCFPtclAQQDA79sU9qxBAd22ZnggGEUC/nzx302ARQAbS30+euxFATwSDKGkWEkCWNiYBNHESQN9oydn+yxJAJptssskmE0BuzQ+LlIETQLb/smNf3BNA/jFWPCo3FEBFZPkU9ZEUQI2WnO2/7BRA1sg/xopHFUAe++KeVaIVQGUthncg/RVArV8pUOtXFkD0kcwotrIWQD3EbwGBDRdAhPYS2ktoF0DMKLayFsMXQBNbWYvhHRhAXI38Y6x4GECkv588d9MYQOzxQhVCLhlAMyTm7QyJGUB7VonG1+MZQMKILJ+iPhpAC7vPd22ZGkBT7XJQOPQaQJsfFikDTxtA4lG5Ac6pG0AqhFzamAQcQHK2/7JjXxxAuuiiiy66HEABG0Zk+RQdQElN6TzEbx1AkH+MFY/KHUDasS/uWSUeQCHk0sYkgB5AaRZ2n+/aHkCwSBl4ujUfQPl6vFCFkB9AQK1fKVDrH0DEbwGBDSMgQOgIU+1yUCBADKKkWdh9IEAwO/bFPasgQFTURzKj2CBAd22ZnggGIUCcBusKbjMhQL+fPHfTYCFA4ziO4ziOIUA=\",\"dtype\":\"float64\",\"order\":\"little\",\"shape\":[100]},\"y\":{\"__ndarray__\":\"AAAAAAAAAAA+AAAAAAAkQNvKLAAAACRAd3b6////I0ALAAAAAAAkQEvW/////yNAgR0AAAAAJECDPvv///8jQINVAAAAACRA29n/////I0Bkyf////8jQOOXCwAAACRAHwAAAAAAJEDcDAAAAAAkQIQMAAAAACRAFlT4////I0DK/f////8jQAwAAAAAACRADAAAAAAAJEAMAAAAAAAkQAwAAAAAACRADAAAAAAAJEAMAAAAAAAkQAwAAAAAACRADAAAAAAAJEAMAAAAAAAkQAwAAAAAACRADAAAAAAAJEAMAAAAAAAkQAwAAAAAACRADAAAAAAAJEAMAAAAAAAkQAwAAAAAACRADAAAAAAAJEAMAAAAAAAkQAwAAAAAACRADAAAAAAAJEAMAAAAAAAkQAwAAAAAACRADAAAAAAAJEAMAAAAAAAkQAkAAAAAACRA8f//////I0AgAAAAAAAkQA0AAAAAACRACgAAAAAAJEAKAAAAAAAkQAoAAAAAACRACgAAAAAAJEAKAAAAAAAkQAoAAAAAACRACgAAAAAAJEALAAAAAAAkQAsAAAAAACRA+f//////I0D3//////8jQK///////yNA3f//////I0AsAAAAAAAkQAUAAAAAACRACgAAAAAAJEAKAAAAAAAkQAoAAAAAACRACgAAAAAAJEAKAAAAAAAkQAoAAAAAACRACgAAAAAAJEAKAAAAAAAkQAoAAAAAACRACwAAAAAAJEAKAAAAAAAkQAwAAAAAACRABAAAAAAAJEAMAAAAAAAkQAoAAAAAACRACgAAAAAAJEAMAAAAAAAkQAkAAAAAACRADgAAAAAAJEAGAAAAAAAkQA8AAAAAACRABQAAAAAAJEAHAAAAAAAkQCIAAAAAACRAtP//////I0DtAQAAAAAkQPL+/////yNAMQAAAAAAJEDDAAAAAAAkQM8AAAAAACRA1P//////I0A2AAAAAAAkQAgAAAAAACRABQAAAAAAJEAMAAAAAAAkQAcAAAAAACRACQAAAAAAJEAKAAAAAAAkQAkAAAAAACRACQAAAAAAJEA=\",\"dtype\":\"float64\",\"order\":\"little\",\"shape\":[100]}},\"selected\":{\"id\":\"1114\"},\"selection_policy\":{\"id\":\"1113\"}},\"id\":\"1099\",\"type\":\"ColumnDataSource\"},{\"attributes\":{\"overlay\":{\"id\":\"1060\"}},\"id\":\"1056\",\"type\":\"BoxZoomTool\"},{\"attributes\":{},\"id\":\"1156\",\"type\":\"PanTool\"},{\"attributes\":{\"line_color\":\"#2ba02b\",\"line_width\":2,\"x\":{\"field\":\"x\"},\"y\":{\"field\":\"y\"}},\"id\":\"1100\",\"type\":\"Line\"},{\"attributes\":{\"data_source\":{\"id\":\"1099\"},\"glyph\":{\"id\":\"1100\"},\"hover_glyph\":null,\"muted_glyph\":null,\"nonselection_glyph\":{\"id\":\"1101\"},\"selection_glyph\":null,\"view\":{\"id\":\"1103\"}},\"id\":\"1102\",\"type\":\"GlyphRenderer\"},{\"attributes\":{},\"id\":\"1057\",\"type\":\"SaveTool\"},{\"attributes\":{},\"id\":\"1157\",\"type\":\"WheelZoomTool\"},{\"attributes\":{},\"id\":\"1058\",\"type\":\"ResetTool\"},{\"attributes\":{\"overlay\":{\"id\":\"1162\"}},\"id\":\"1158\",\"type\":\"BoxZoomTool\"},{\"attributes\":{},\"id\":\"1159\",\"type\":\"SaveTool\"},{\"attributes\":{},\"id\":\"1059\",\"type\":\"HelpTool\"},{\"attributes\":{\"source\":{\"id\":\"1099\"}},\"id\":\"1103\",\"type\":\"CDSView\"},{\"attributes\":{},\"id\":\"1160\",\"type\":\"ResetTool\"},{\"attributes\":{\"active_drag\":\"auto\",\"active_inspect\":\"auto\",\"active_multi\":null,\"active_scroll\":\"auto\",\"active_tap\":\"auto\",\"tools\":[{\"id\":\"1054\"},{\"id\":\"1055\"},{\"id\":\"1056\"},{\"id\":\"1057\"},{\"id\":\"1058\"},{\"id\":\"1059\"}]},\"id\":\"1061\",\"type\":\"Toolbar\"},{\"attributes\":{},\"id\":\"1113\",\"type\":\"UnionRenderers\"},{\"attributes\":{\"line_alpha\":0.1,\"line_color\":\"#1f77b3\",\"line_width\":2,\"x\":{\"field\":\"x\"},\"y\":{\"field\":\"y\"}},\"id\":\"1070\",\"type\":\"Line\"},{\"attributes\":{\"line_alpha\":0.1,\"line_color\":\"#2ba02b\",\"line_width\":2,\"x\":{\"field\":\"x\"},\"y\":{\"field\":\"y\"}},\"id\":\"1101\",\"type\":\"Line\"},{\"attributes\":{\"data_source\":{\"id\":\"1068\"},\"glyph\":{\"id\":\"1069\"},\"hover_glyph\":null,\"muted_glyph\":null,\"nonselection_glyph\":{\"id\":\"1070\"},\"selection_glyph\":null,\"view\":{\"id\":\"1072\"}},\"id\":\"1071\",\"type\":\"GlyphRenderer\"},{\"attributes\":{},\"id\":\"1161\",\"type\":\"HelpTool\"},{\"attributes\":{\"line_color\":\"#1f77b3\",\"line_width\":2,\"x\":{\"field\":\"x\"},\"y\":{\"field\":\"y\"}},\"id\":\"1069\",\"type\":\"Line\"},{\"attributes\":{\"label\":{\"value\":\"inside_H\"},\"renderers\":[{\"id\":\"1102\"}]},\"id\":\"1116\",\"type\":\"LegendItem\"},{\"attributes\":{\"active_drag\":\"auto\",\"active_inspect\":\"auto\",\"active_multi\":null,\"active_scroll\":\"auto\",\"active_tap\":\"auto\",\"tools\":[{\"id\":\"1156\"},{\"id\":\"1157\"},{\"id\":\"1158\"},{\"id\":\"1159\"},{\"id\":\"1160\"},{\"id\":\"1161\"}]},\"id\":\"1163\",\"type\":\"Toolbar\"},{\"attributes\":{\"label\":{\"value\":\"bound atp synthase\"},\"renderers\":[{\"id\":\"1120\"}]},\"id\":\"1136\",\"type\":\"LegendItem\"}],\"root_ids\":[\"1249\"]},\"title\":\"Bokeh Application\",\"version\":\"2.2.1\"}};\n",
       "  var render_items = [{\"docid\":\"08ae3112-f895-425d-b580-9ae4f3e2d3c2\",\"root_ids\":[\"1249\"],\"roots\":{\"1249\":\"5fbaf1cd-d53f-40d4-9ec4-2e0ac2825c12\"}}];\n",
       "  root.Bokeh.embed.embed_items_notebook(docs_json, render_items);\n",
       "\n",
       "  }\n",
       "  if (root.Bokeh !== undefined) {\n",
       "    embed_document(root);\n",
       "  } else {\n",
       "    var attempts = 0;\n",
       "    var timer = setInterval(function(root) {\n",
       "      if (root.Bokeh !== undefined) {\n",
       "        clearInterval(timer);\n",
       "        embed_document(root);\n",
       "      } else {\n",
       "        attempts++;\n",
       "        if (attempts > 100) {\n",
       "          clearInterval(timer);\n",
       "          console.log(\"Bokeh: ERROR: Unable to run BokehJS code because BokehJS library is missing\");\n",
       "        }\n",
       "      }\n",
       "    }, 10, root)\n",
       "  }\n",
       "})(window);"
      ],
      "application/vnd.bokehjs_exec.v0+json": ""
     },
     "metadata": {
      "application/vnd.bokehjs_exec.v0+json": {
       "id": "1249"
      }
     },
     "output_type": "display_data"
    },
    {
     "data": {
      "text/html": [
       "\n",
       "\n",
       "\n",
       "\n",
       "\n",
       "\n",
       "  <div class=\"bk-root\" id=\"80310b15-e97a-47de-ac0e-c7efad5c7f24\" data-root-id=\"1185\"></div>\n"
      ]
     },
     "metadata": {},
     "output_type": "display_data"
    },
    {
     "data": {
      "application/javascript": [
       "(function(root) {\n",
       "  function embed_document(root) {\n",
       "    \n",
       "  var docs_json = {\"1c44d624-80a5-42d4-8a3e-498e2298f56a\":{\"roots\":{\"references\":[{\"attributes\":{\"below\":[{\"id\":\"1196\"}],\"center\":[{\"id\":\"1199\"},{\"id\":\"1203\"},{\"id\":\"1231\"}],\"left\":[{\"id\":\"1200\"}],\"plot_height\":350,\"plot_width\":450,\"renderers\":[{\"id\":\"1221\"},{\"id\":\"1236\"}],\"title\":{\"id\":\"1186\"},\"toolbar\":{\"id\":\"1211\"},\"x_range\":{\"id\":\"1188\"},\"x_scale\":{\"id\":\"1192\"},\"y_range\":{\"id\":\"1190\"},\"y_scale\":{\"id\":\"1194\"}},\"id\":\"1185\",\"subtype\":\"Figure\",\"type\":\"Plot\"},{\"attributes\":{},\"id\":\"1227\",\"type\":\"BasicTickFormatter\"},{\"attributes\":{},\"id\":\"1229\",\"type\":\"Selection\"},{\"attributes\":{},\"id\":\"1209\",\"type\":\"HelpTool\"},{\"attributes\":{\"line_color\":\"#1f77b3\",\"line_width\":2,\"x\":{\"field\":\"x\"},\"y\":{\"field\":\"y\"}},\"id\":\"1219\",\"type\":\"Line\"},{\"attributes\":{\"label\":{\"value\":\"ATP Synthase, ATP Use\"},\"renderers\":[{\"id\":\"1221\"}]},\"id\":\"1232\",\"type\":\"LegendItem\"},{\"attributes\":{\"data_source\":{\"id\":\"1218\"},\"glyph\":{\"id\":\"1219\"},\"hover_glyph\":null,\"muted_glyph\":null,\"nonselection_glyph\":{\"id\":\"1220\"},\"selection_glyph\":null,\"view\":{\"id\":\"1222\"}},\"id\":\"1221\",\"type\":\"GlyphRenderer\"},{\"attributes\":{\"text\":\"Compare ATP \"},\"id\":\"1186\",\"type\":\"Title\"},{\"attributes\":{\"active_drag\":\"auto\",\"active_inspect\":\"auto\",\"active_multi\":null,\"active_scroll\":\"auto\",\"active_tap\":\"auto\",\"tools\":[{\"id\":\"1204\"},{\"id\":\"1205\"},{\"id\":\"1206\"},{\"id\":\"1207\"},{\"id\":\"1208\"},{\"id\":\"1209\"}]},\"id\":\"1211\",\"type\":\"Toolbar\"},{\"attributes\":{},\"id\":\"1188\",\"type\":\"DataRange1d\"},{\"attributes\":{},\"id\":\"1204\",\"type\":\"PanTool\"},{\"attributes\":{},\"id\":\"1245\",\"type\":\"UnionRenderers\"},{\"attributes\":{\"data_source\":{\"id\":\"1233\"},\"glyph\":{\"id\":\"1234\"},\"hover_glyph\":null,\"muted_glyph\":null,\"nonselection_glyph\":{\"id\":\"1235\"},\"selection_glyph\":null,\"view\":{\"id\":\"1237\"}},\"id\":\"1236\",\"type\":\"GlyphRenderer\"},{\"attributes\":{},\"id\":\"1205\",\"type\":\"WheelZoomTool\"},{\"attributes\":{\"line_alpha\":0.1,\"line_color\":\"#1f77b3\",\"line_width\":2,\"x\":{\"field\":\"x\"},\"y\":{\"field\":\"y\"}},\"id\":\"1220\",\"type\":\"Line\"},{\"attributes\":{\"data\":{\"x\":{\"__ndarray__\":\"AAAAAAAAAAD0kcwotrK2P/SRzCi2ssY/d22ZnggG0T/0kcwotrLWP3K2/7JjX9w/d22ZnggG4T+2/7JjX9zjP/SRzCi2suY/MyTm7QyJ6T9ytv+yY1/sP7BIGXi6Ne8/d22ZnggG8T+WNiYBNHHyP7b/smNf3PM/1sg/xopH9T/0kcwotrL2PxNbWYvhHfg/MyTm7QyJ+T9T7XJQOPT6P3K2/7JjX/w/kH+MFY/K/T+wSBl4ujX/P+gIU+1yUABAd22ZnggGAUAG0t9PnrsBQJY2JgE0cQJAJptssskmA0C2/7JjX9wDQEVk+RT1kQRA1sg/xopHBUBlLYZ3IP0FQPSRzCi2sgZAhPYS2ktoB0ATW1mL4R0IQKS/nzx30whAMyTm7QyJCUDCiCyfoj4KQFPtclA49ApA4lG5Ac6pC0Bytv+yY18MQAEbRmT5FA1AkH+MFY/KDUAh5NLGJIAOQLBIGXi6NQ9AQK1fKVDrD0DoCFPtclAQQDA79sU9qxBAd22ZnggGEUC/nzx302ARQAbS30+euxFATwSDKGkWEkCWNiYBNHESQN9oydn+yxJAJptssskmE0BuzQ+LlIETQLb/smNf3BNA/jFWPCo3FEBFZPkU9ZEUQI2WnO2/7BRA1sg/xopHFUAe++KeVaIVQGUthncg/RVArV8pUOtXFkD0kcwotrIWQD3EbwGBDRdAhPYS2ktoF0DMKLayFsMXQBNbWYvhHRhAXI38Y6x4GECkv588d9MYQOzxQhVCLhlAMyTm7QyJGUB7VonG1+MZQMKILJ+iPhpAC7vPd22ZGkBT7XJQOPQaQJsfFikDTxtA4lG5Ac6pG0AqhFzamAQcQHK2/7JjXxxAuuiiiy66HEABG0Zk+RQdQElN6TzEbx1AkH+MFY/KHUDasS/uWSUeQCHk0sYkgB5AaRZ2n+/aHkCwSBl4ujUfQPl6vFCFkB9AQK1fKVDrH0DEbwGBDSMgQOgIU+1yUCBADKKkWdh9IEAwO/bFPasgQFTURzKj2CBAd22ZnggGIUCcBusKbjMhQL+fPHfTYCFA4ziO4ziOIUA=\",\"dtype\":\"float64\",\"order\":\"little\",\"shape\":[100]},\"y\":{\"__ndarray__\":\"AAAAAAAAJEAVXf4fOi2FuoWDYJE423C6TzNPSP8Mt7lfKWkHEQClubNhgGMZRNa4qwlEqyA81biisQfzJzTUuJpZyzovLNO4kQGPgjYk0riIqVLKPRzRuH9RFhJFFNC47vKzs5gYzrjfQjtDpwjMuMySwtK1+Mm4u+JJYsTox7iqMtHx0tjFuJqCWIHhyMO4iNLfEPC4wbjsRM5A/VG/uMvk3F8aMru4qoTrfjcSt7iHJPqdVPKyuMWIEXrjpK24g8guuB1lpbiFEJjsr0qauAUgpdFIloO4EUt5opQB37dGWVa4y43dt3tnM84CGty3rXUQ5Dmm2rfig+35cDLZtxaSyg+ovte3S6CnJd9K1reAroQ7FtfUt7K8YVFNY9O358o+Z4Tv0bcc2Rt9u3vQt5zO8SXlD863BeurUVMoy7dvB2Z9wUDIt9gjIKkvWcW3QUDa1J1xwrdMuSgBGBS/tx7ynFj0RLm38CoRsNB1s7d0xwoPWk2rtzNy5nslXp+3+6pusy1DgLfvjIlUedLNtsmTph1Hr822pJrD5hSMzbaAoeCv4mjNtlmo/XiwRc22M68aQn4izbYNtjcLTP/Mtui8VNQZ3My2w8Nxnee4zLaeyo5mtZXMtnjRqy+Dcsy2UtjI+FBPzLYt3+XBHizMtgfmAovsCMy24ewfVLrly7a88zwdiMLLtpf6WeZVn8u2cQF3ryN8y7ZLCJR48VjLticPsUG/Ncu2ABbOCo0Sy7bbHOvTWu/KtrYjCJ0ozMq2kColZvaoyrZrMUIvxIXKtkU4X/iRYsq2Hz98wV8/yrb6RZmKLRzKttRMtlP7+Mm2rlPTHMnVybaKWvDllrLJtmRhDa9kj8m2PmgqeDJsybYZb0dBAEnJtvR1ZArOJcm2znyB05sCybaog56cad/ItoOKu2U3vMi2XZHYLgWZyLY3mPX30nXIthOfEsGgUsi27aUvim4vyLbHrExTPAzItqKzaRwK6ce2fLqG5dfFx7ZWwaOupaLHtjHIwHdzf8e2C8/dQEFcx7bm1foJDznHtsHcF9PcFce2muM0nKryxrY=\",\"dtype\":\"float64\",\"order\":\"little\",\"shape\":[100]}},\"selected\":{\"id\":\"1246\"},\"selection_policy\":{\"id\":\"1245\"}},\"id\":\"1233\",\"type\":\"ColumnDataSource\"},{\"attributes\":{\"overlay\":{\"id\":\"1210\"}},\"id\":\"1206\",\"type\":\"BoxZoomTool\"},{\"attributes\":{\"source\":{\"id\":\"1233\"}},\"id\":\"1237\",\"type\":\"CDSView\"},{\"attributes\":{},\"id\":\"1208\",\"type\":\"ResetTool\"},{\"attributes\":{},\"id\":\"1190\",\"type\":\"DataRange1d\"},{\"attributes\":{\"line_alpha\":0.1,\"line_color\":\"#ff7e0e\",\"line_width\":2,\"x\":{\"field\":\"x\"},\"y\":{\"field\":\"y\"}},\"id\":\"1235\",\"type\":\"Line\"},{\"attributes\":{},\"id\":\"1207\",\"type\":\"SaveTool\"},{\"attributes\":{\"label\":{\"value\":\"ATP Use\"},\"renderers\":[{\"id\":\"1236\"}]},\"id\":\"1248\",\"type\":\"LegendItem\"},{\"attributes\":{},\"id\":\"1192\",\"type\":\"LinearScale\"},{\"attributes\":{},\"id\":\"1246\",\"type\":\"Selection\"},{\"attributes\":{},\"id\":\"1194\",\"type\":\"LinearScale\"},{\"attributes\":{\"bottom_units\":\"screen\",\"fill_alpha\":0.5,\"fill_color\":\"lightgrey\",\"left_units\":\"screen\",\"level\":\"overlay\",\"line_alpha\":1.0,\"line_color\":\"black\",\"line_dash\":[4,4],\"line_width\":2,\"right_units\":\"screen\",\"top_units\":\"screen\"},\"id\":\"1210\",\"type\":\"BoxAnnotation\"},{\"attributes\":{\"axis_label\":\"time (hr)\",\"formatter\":{\"id\":\"1227\"},\"ticker\":{\"id\":\"1197\"}},\"id\":\"1196\",\"type\":\"LinearAxis\"},{\"attributes\":{\"axis\":{\"id\":\"1200\"},\"dimension\":1,\"ticker\":null},\"id\":\"1203\",\"type\":\"Grid\"},{\"attributes\":{\"data\":{\"x\":{\"__ndarray__\":\"AAAAAAAAAAD0kcwotrK2P/SRzCi2ssY/d22ZnggG0T/0kcwotrLWP3K2/7JjX9w/d22ZnggG4T+2/7JjX9zjP/SRzCi2suY/MyTm7QyJ6T9ytv+yY1/sP7BIGXi6Ne8/d22ZnggG8T+WNiYBNHHyP7b/smNf3PM/1sg/xopH9T/0kcwotrL2PxNbWYvhHfg/MyTm7QyJ+T9T7XJQOPT6P3K2/7JjX/w/kH+MFY/K/T+wSBl4ujX/P+gIU+1yUABAd22ZnggGAUAG0t9PnrsBQJY2JgE0cQJAJptssskmA0C2/7JjX9wDQEVk+RT1kQRA1sg/xopHBUBlLYZ3IP0FQPSRzCi2sgZAhPYS2ktoB0ATW1mL4R0IQKS/nzx30whAMyTm7QyJCUDCiCyfoj4KQFPtclA49ApA4lG5Ac6pC0Bytv+yY18MQAEbRmT5FA1AkH+MFY/KDUAh5NLGJIAOQLBIGXi6NQ9AQK1fKVDrD0DoCFPtclAQQDA79sU9qxBAd22ZnggGEUC/nzx302ARQAbS30+euxFATwSDKGkWEkCWNiYBNHESQN9oydn+yxJAJptssskmE0BuzQ+LlIETQLb/smNf3BNA/jFWPCo3FEBFZPkU9ZEUQI2WnO2/7BRA1sg/xopHFUAe++KeVaIVQGUthncg/RVArV8pUOtXFkD0kcwotrIWQD3EbwGBDRdAhPYS2ktoF0DMKLayFsMXQBNbWYvhHRhAXI38Y6x4GECkv588d9MYQOzxQhVCLhlAMyTm7QyJGUB7VonG1+MZQMKILJ+iPhpAC7vPd22ZGkBT7XJQOPQaQJsfFikDTxtA4lG5Ac6pG0AqhFzamAQcQHK2/7JjXxxAuuiiiy66HEABG0Zk+RQdQElN6TzEbx1AkH+MFY/KHUDasS/uWSUeQCHk0sYkgB5AaRZ2n+/aHkCwSBl4ujUfQPl6vFCFkB9AQK1fKVDrH0DEbwGBDSMgQOgIU+1yUCBADKKkWdh9IEAwO/bFPasgQFTURzKj2CBAd22ZnggGIUCcBusKbjMhQL+fPHfTYCFA4ziO4ziOIUA=\",\"dtype\":\"float64\",\"order\":\"little\",\"shape\":[100]},\"y\":{\"__ndarray__\":\"AAAAAAAAJED4//////8fQM///////x9A9v//////H0Dy//////8fQPn//////x9A9f//////H0D2//////8fQPf//////x9A+P//////H0D3//////8fQPn//////x9A+P//////H0D+//////8fQPn//////x9A7P//////H0D4//////8fQPf//////x9A9///////H0D4//////8fQPj//////x9A9///////H0D2//////8fQPb//////x9A9f//////H0Du//////8fQPz//////x9ACAAAAAAAIEC5/v////8fQCDm/////x9AXcH+////H0B+7f3///8fQLTC/////x9A+f//////H0Ds//////8fQAgAAAAAACBAcQAAAAAAIECfAAAAAAAgQI/x/////x9AvZb/////H0A4xf////8fQGmRAwAAACBAP8UXAAAAIEAN39T///8fQL3s+f///x9A/f//////H0C5//////8fQBQAAAAAACBAmv//////H0B8/f////8fQCgDAAAAACBACQoAAAAAIECvmf////8fQNa0/////x9ACt4CAAAAIEBb3wIAAAAgQD3WDgAAACBAREwHAAAAIED5zfT///8fQGfNAAAAACBA6f//////H0D///////8fQPX//////x9A9f//////H0Dd//////8fQB8AAAAAACBAQP//////H0ClAAAAAAAgQD3+/////x9A1P7/////H0BIEQAAAAAgQJOd/////x9A2M0AAAAAIEAv1v////8fQFcWAAAAACBAvQAAAAAAIECDlP////8fQCYQAAAAACBAdBb/////H0ADgwAAAAAgQKzT/v///x9AAIoAAAAAIEBpOAAAAAAgQDtJ+v///x9ALO8JAAAAIEDVm5H///8fQEIYIAAAACBA0rb2////H0DkF9b///8fQHNt0v///x9Au+AGAAAAIEBsqvL///8fQOgiAAAAACBAs3MBAAAAIEArEP7///8fQLtiAAAAACBA7fj/////H0Ckt/////8fQOn//////x9A8P//////H0A=\",\"dtype\":\"float64\",\"order\":\"little\",\"shape\":[100]}},\"selected\":{\"id\":\"1229\"},\"selection_policy\":{\"id\":\"1228\"}},\"id\":\"1218\",\"type\":\"ColumnDataSource\"},{\"attributes\":{},\"id\":\"1197\",\"type\":\"BasicTicker\"},{\"attributes\":{\"axis\":{\"id\":\"1196\"},\"ticker\":null},\"id\":\"1199\",\"type\":\"Grid\"},{\"attributes\":{},\"id\":\"1225\",\"type\":\"BasicTickFormatter\"},{\"attributes\":{\"items\":[{\"id\":\"1232\"},{\"id\":\"1248\"}]},\"id\":\"1231\",\"type\":\"Legend\"},{\"attributes\":{},\"id\":\"1201\",\"type\":\"BasicTicker\"},{\"attributes\":{\"axis_label\":\"concentration (nM)\",\"formatter\":{\"id\":\"1225\"},\"ticker\":{\"id\":\"1201\"}},\"id\":\"1200\",\"type\":\"LinearAxis\"},{\"attributes\":{\"source\":{\"id\":\"1218\"}},\"id\":\"1222\",\"type\":\"CDSView\"},{\"attributes\":{\"line_color\":\"#ff7e0e\",\"line_width\":2,\"x\":{\"field\":\"x\"},\"y\":{\"field\":\"y\"}},\"id\":\"1234\",\"type\":\"Line\"},{\"attributes\":{},\"id\":\"1228\",\"type\":\"UnionRenderers\"}],\"root_ids\":[\"1185\"]},\"title\":\"Bokeh Application\",\"version\":\"2.2.1\"}};\n",
       "  var render_items = [{\"docid\":\"1c44d624-80a5-42d4-8a3e-498e2298f56a\",\"root_ids\":[\"1185\"],\"roots\":{\"1185\":\"80310b15-e97a-47de-ac0e-c7efad5c7f24\"}}];\n",
       "  root.Bokeh.embed.embed_items_notebook(docs_json, render_items);\n",
       "\n",
       "  }\n",
       "  if (root.Bokeh !== undefined) {\n",
       "    embed_document(root);\n",
       "  } else {\n",
       "    var attempts = 0;\n",
       "    var timer = setInterval(function(root) {\n",
       "      if (root.Bokeh !== undefined) {\n",
       "        clearInterval(timer);\n",
       "        embed_document(root);\n",
       "      } else {\n",
       "        attempts++;\n",
       "        if (attempts > 100) {\n",
       "          clearInterval(timer);\n",
       "          console.log(\"Bokeh: ERROR: Unable to run BokehJS code because BokehJS library is missing\");\n",
       "        }\n",
       "      }\n",
       "    }, 10, root)\n",
       "  }\n",
       "})(window);"
      ],
      "application/vnd.bokehjs_exec.v0+json": ""
     },
     "metadata": {
      "application/vnd.bokehjs_exec.v0+json": {
       "id": "1185"
      }
     },
     "output_type": "display_data"
    }
   ],
   "source": [
    "# PLOT WITH ATP SYNTHASE\n",
    "\n",
    "plt_timepoints = timepoints/60/60\n",
    "\n",
    "p_w_atp = bokeh.plotting.figure(width = 450, height = 350, title = 'with ATP Synthase',\n",
    "                          x_axis_label = 'time (hrs)',\n",
    "                          y_axis_label = 'concentration (nM)')\n",
    "plot_list = [ATP_id, outside_H_id, inside_H_id, atp_synthase_b_protein_id]\n",
    "plot_str = ['atp', 'outside_H', 'inside_H', 'bound atp synthase']\n",
    "# plot_list = [atp_synthase_b_protein_id, atp_synthase_f_protein_id]\n",
    "# plot_str = ['atp synthase bound', 'atp synthase free']\n",
    "for i,item in enumerate(plot_list):\n",
    "    p_w_atp.line(plt_timepoints, results1[item], line_width = 2, legend_label = plot_str[i], color = palette[i])\n",
    "    \n",
    "\n",
    "# PLOT WITHOUT ATP SYNTHASE\n",
    "p_no_atp = bokeh.plotting.figure(width = 450, height = 350, title = 'only ATP Use',\n",
    "                          x_axis_label = 'time (hrs)',\n",
    "                          y_axis_label = 'concentration (nM)')\n",
    "p_no_atp.line(plt_timepoints, results2[ATP_id2], line_width = 2, legend_label = 'atp', color = palette[0])\n",
    "\n",
    "p_compare = bokeh.plotting.figure(width = 450, height = 350, title = 'Compare ATP ',\n",
    "                          x_axis_label = 'time (hr)',\n",
    "                          y_axis_label = 'concentration (nM)')\n",
    "p_compare.line(plt_timepoints, results1[ATP_id], legend_label = 'ATP Synthase, ATP Use', line_width = 2, color = palette[0])\n",
    "p_compare.line(plt_timepoints, results2[ATP_id2], legend_label = 'ATP Use', line_width = 2, color = palette[1])\n",
    "\n",
    "\n",
    "p_w_atp.legend.location = 'bottom_right'\n",
    "p_w_atp.legend.click_policy = 'hide'\n",
    "    \n",
    "bokeh.io.show(row(p_w_atp, p_no_atp))\n",
    "bokeh.io.show(p_compare)\n",
    "\n",
    "# p_atp.line(plt_timepoints, results1[ATP_id], line_width = 2, color = palette[1], legend_label = 'with ATP Synthase, ATP Use')\n",
    "# p_atp.line(plt_timepoints, results2[ATP_id2],line_width = 2, color = palette[2],legend_label = 'ATP Use only')\n",
    "\n",
    "#bokeh.io.show(p_atp)\n"
   ]
  },
  {
   "cell_type": "markdown",
   "metadata": {},
   "source": [
    "Why does bound atp synthase shoot infinitely high:( got em, it's because you kept remaking the transcript silly"
   ]
  },
  {
   "cell_type": "markdown",
   "metadata": {},
   "source": [
    "## Combine all proton pump with txtl machinery\n",
    "---"
   ]
  },
  {
   "cell_type": "code",
   "execution_count": 9,
   "metadata": {},
   "outputs": [],
   "source": [
    "#ss5_pp_txtl = createSubsystem('proton_pump_tx_tl.xml', subsystemName = 'pp_txtl')\n",
    "ss5_pp_txtl = createSubsystem('proton_pump_machinery_txtl.xml', subsystemName = 'pp_txtl')\n",
    "ss6_pp_mi = createSubsystem('proton_pump_membrane_integration.xml', subsystemName = 'pp_mi')\n",
    "ss7_protontransport = createSubsystem('proton_transport_through_proton_pump.xml', subsystemName = 'protontransport')"
   ]
  },
  {
   "cell_type": "code",
   "execution_count": 10,
   "metadata": {},
   "outputs": [],
   "source": [
    "pp_subsystem = ss5_pp_txtl + ss6_pp_mi + ss7_protontransport"
   ]
  },
  {
   "cell_type": "code",
   "execution_count": 11,
   "metadata": {},
   "outputs": [
    {
     "name": "stderr",
     "output_type": "stream",
     "text": [
      "odeint failed with mxstep=500..."
     ]
    }
   ],
   "source": [
    "# Initial conditions\n",
    "\n",
    "spec_list_10 = ['dna_proton_pump', 'proton_outside_H', 'protein_RNAP_machinery', \n",
    "                'protein_Ribo_machinery', 'protein_RNAse_machinery']\n",
    "for i,spec in enumerate(spec_list_10):\n",
    "    pp_subsystem.setSpeciesAmount(spec,10)\n",
    "pp_subsystem.setSpeciesAmount('metabolite_atp',10)\n",
    "\n",
    "# timepoints and get results\n",
    "timepoints = np.linspace(0,31600,100)\n",
    "results, _ = pp_subsystem.simulateWithBioscrape(timepoints, sbml_warnings = False)\n",
    "\n",
    "# Get species IDs\n",
    "ATP_id = pp_subsystem.getSpeciesByName('metabolite_atp').getId()\n",
    "ADP_id = pp_subsystem.getSpeciesByName('metabolite_adp').getId()\n",
    "\n",
    "outside_H_id = pp_subsystem.getSpeciesByName('proton_outside_H').getId()\n",
    "inside_H_id = pp_subsystem.getSpeciesByName('proton_inside_H').getId()\n",
    "proton_pump_b_protein_id = pp_subsystem.getSpeciesByName('protein_proton_pump_b').getId()\n",
    "proton_pump_f_protein_id = pp_subsystem.getSpeciesByName('protein_proton_pump').getId()\n",
    "\n",
    "\n",
    "\n",
    "dna_pp = pp_subsystem.getSpeciesByName('dna_proton_pump').getId()"
   ]
  },
  {
   "cell_type": "code",
   "execution_count": 12,
   "metadata": {},
   "outputs": [
    {
     "data": {
      "text/html": [
       "\n",
       "\n",
       "\n",
       "\n",
       "\n",
       "\n",
       "  <div class=\"bk-root\" id=\"78edde77-cc35-4a39-8555-42169da81422\" data-root-id=\"1464\"></div>\n"
      ]
     },
     "metadata": {},
     "output_type": "display_data"
    },
    {
     "data": {
      "application/javascript": [
       "(function(root) {\n",
       "  function embed_document(root) {\n",
       "    \n",
       "  var docs_json = {\"75f10e01-38dd-4f34-b29f-c020f6a6454b\":{\"roots\":{\"references\":[{\"attributes\":{\"below\":[{\"id\":\"1475\"}],\"center\":[{\"id\":\"1478\"},{\"id\":\"1482\"},{\"id\":\"1510\"}],\"left\":[{\"id\":\"1479\"}],\"plot_height\":350,\"plot_width\":450,\"renderers\":[{\"id\":\"1500\"},{\"id\":\"1515\"},{\"id\":\"1531\"},{\"id\":\"1549\"}],\"title\":{\"id\":\"1465\"},\"toolbar\":{\"id\":\"1490\"},\"x_range\":{\"id\":\"1467\"},\"x_scale\":{\"id\":\"1471\"},\"y_range\":{\"id\":\"1469\"},\"y_scale\":{\"id\":\"1473\"}},\"id\":\"1464\",\"subtype\":\"Figure\",\"type\":\"Plot\"},{\"attributes\":{},\"id\":\"1467\",\"type\":\"DataRange1d\"},{\"attributes\":{\"overlay\":{\"id\":\"1489\"}},\"id\":\"1485\",\"type\":\"BoxZoomTool\"},{\"attributes\":{\"line_color\":\"#1f77b3\",\"line_width\":2,\"x\":{\"field\":\"x\"},\"y\":{\"field\":\"y\"}},\"id\":\"1498\",\"type\":\"Line\"},{\"attributes\":{\"data\":{\"x\":{\"__ndarray__\":\"AAAAAAAAAAD0kcwotrK2P/SRzCi2ssY/d22ZnggG0T/0kcwotrLWP3K2/7JjX9w/d22ZnggG4T+2/7JjX9zjP/SRzCi2suY/MyTm7QyJ6T9ytv+yY1/sP7BIGXi6Ne8/d22ZnggG8T+WNiYBNHHyP7b/smNf3PM/1sg/xopH9T/0kcwotrL2PxNbWYvhHfg/MyTm7QyJ+T9T7XJQOPT6P3K2/7JjX/w/kH+MFY/K/T+wSBl4ujX/P+gIU+1yUABAd22ZnggGAUAG0t9PnrsBQJY2JgE0cQJAJptssskmA0C2/7JjX9wDQEVk+RT1kQRA1sg/xopHBUBlLYZ3IP0FQPSRzCi2sgZAhPYS2ktoB0ATW1mL4R0IQKS/nzx30whAMyTm7QyJCUDCiCyfoj4KQFPtclA49ApA4lG5Ac6pC0Bytv+yY18MQAEbRmT5FA1AkH+MFY/KDUAh5NLGJIAOQLBIGXi6NQ9AQK1fKVDrD0DoCFPtclAQQDA79sU9qxBAd22ZnggGEUC/nzx302ARQAbS30+euxFATwSDKGkWEkCWNiYBNHESQN9oydn+yxJAJptssskmE0BuzQ+LlIETQLb/smNf3BNA/jFWPCo3FEBFZPkU9ZEUQI2WnO2/7BRA1sg/xopHFUAe++KeVaIVQGUthncg/RVArV8pUOtXFkD0kcwotrIWQD3EbwGBDRdAhPYS2ktoF0DMKLayFsMXQBNbWYvhHRhAXI38Y6x4GECkv588d9MYQOzxQhVCLhlAMyTm7QyJGUB7VonG1+MZQMKILJ+iPhpAC7vPd22ZGkBT7XJQOPQaQJsfFikDTxtA4lG5Ac6pG0AqhFzamAQcQHK2/7JjXxxAuuiiiy66HEABG0Zk+RQdQElN6TzEbx1AkH+MFY/KHUDasS/uWSUeQCHk0sYkgB5AaRZ2n+/aHkCwSBl4ujUfQPl6vFCFkB9AQK1fKVDrH0DEbwGBDSMgQOgIU+1yUCBADKKkWdh9IEAwO/bFPasgQFTURzKj2CBAd22ZnggGIUCcBusKbjMhQL+fPHfTYCFA4ziO4ziOIUA=\",\"dtype\":\"float64\",\"order\":\"little\",\"shape\":[100]},\"y\":{\"__ndarray__\":\"AAAAAAAAAAAAAAAAAAAAAAAAAAAAAAAAAAAAAAAAAAAAAAAAAAAAAAAAAAAAAAAAAAAAAAAAAAAAAAAAAAAAAAAAAAAAAAAAAAAAAAAAAAAAAAAAAAAAAAAAAAAAAAAAAAAAAAAAAAAAAAAAAAAAAAAAAAAAAAAAAAAAAAAAAAAAAAAAAAAAAAAAAAAAAAAAAAAAAAAAAAAAAAAAAAAAAAAAAAAAAAAAAAAAAAAAAAAAAAAAAAAAAAAAAAAAAAAAAAAAAAAAAAAAAAAAAAAAAAAAAAAAAAAAAAAAAAAAAAAAAAAAAAAAAAAAAAAAAAAAAAAAAAAAAAAAAAAAAAAAAAAAAAAAAAAAAAAAAAAAAAAAAAAAAAAAAAAAAAAAAAAAAAAAAAAAAAAAAAAAAAAAAAAAAAAAAAAAAAAAAAAAAAAAAAAAAAAAAAAAAAAAAAAAAAAAAAAAAAAAAAAAAAAAAAAAAAAAAAAAAAAAAAAAAAAAAAAAAAAAAAAAAAAAAAAAAAAAAAAAAAAAAAAAAAAAAAAAAAAAAAAAAAAAAAAAAAAAAAAAAAAAAAAAAAAAAAAAAAAAAAAAAAAAAAAAAAAAAAAAAAAAAAAAAAAAAAAAAAAAAAAAAAAAAAAAAAAAAAAAAAAAAAAAAAAAAAAAAAAAAAAAAAAAAAAAAAAAAAAAAAAAAAAAAAAAAAAAAAAAAAAAAAAAAAAAAAAAAAAAAAAAAAAAAAAAAAAAAAAAAAAAAAAAAAAAAAAAAAAAAAAAAAAAAAAAAAAAAAAAAAAAAAAAAAAAAAAAAAAAAAAAAAAAAAAAAAAAAAAAAAAAAAAAAAAAAAAAAAAAAAAAAAAAAAAAAAAAAAAAAAAAAAAAAAAAAAAAAAAAAAAAAAAAAAAAAAAAAAAAAAAAAAAAAAAAAAAAAAAAAAAAAAAAAAAAAAAAAAAAAAAAAAAAAAAAAAAAAAAAAAAAAAAAAAAAAAAAAAAAAAAAAAAAAAAAAAAAAAAAAAAAAAAAAAAAAAAAAAAAAAAAAAAAAAAAAAAAAAAAAAAAAAAAAAAAAAAAAAAAAAAAAAA=\",\"dtype\":\"float64\",\"order\":\"little\",\"shape\":[100]}},\"selected\":{\"id\":\"1543\"},\"selection_policy\":{\"id\":\"1542\"}},\"id\":\"1528\",\"type\":\"ColumnDataSource\"},{\"attributes\":{\"line_color\":\"#2ba02b\",\"line_width\":2,\"x\":{\"field\":\"x\"},\"y\":{\"field\":\"y\"}},\"id\":\"1529\",\"type\":\"Line\"},{\"attributes\":{\"data\":{\"x\":{\"__ndarray__\":\"AAAAAAAAAAD0kcwotrK2P/SRzCi2ssY/d22ZnggG0T/0kcwotrLWP3K2/7JjX9w/d22ZnggG4T+2/7JjX9zjP/SRzCi2suY/MyTm7QyJ6T9ytv+yY1/sP7BIGXi6Ne8/d22ZnggG8T+WNiYBNHHyP7b/smNf3PM/1sg/xopH9T/0kcwotrL2PxNbWYvhHfg/MyTm7QyJ+T9T7XJQOPT6P3K2/7JjX/w/kH+MFY/K/T+wSBl4ujX/P+gIU+1yUABAd22ZnggGAUAG0t9PnrsBQJY2JgE0cQJAJptssskmA0C2/7JjX9wDQEVk+RT1kQRA1sg/xopHBUBlLYZ3IP0FQPSRzCi2sgZAhPYS2ktoB0ATW1mL4R0IQKS/nzx30whAMyTm7QyJCUDCiCyfoj4KQFPtclA49ApA4lG5Ac6pC0Bytv+yY18MQAEbRmT5FA1AkH+MFY/KDUAh5NLGJIAOQLBIGXi6NQ9AQK1fKVDrD0DoCFPtclAQQDA79sU9qxBAd22ZnggGEUC/nzx302ARQAbS30+euxFATwSDKGkWEkCWNiYBNHESQN9oydn+yxJAJptssskmE0BuzQ+LlIETQLb/smNf3BNA/jFWPCo3FEBFZPkU9ZEUQI2WnO2/7BRA1sg/xopHFUAe++KeVaIVQGUthncg/RVArV8pUOtXFkD0kcwotrIWQD3EbwGBDRdAhPYS2ktoF0DMKLayFsMXQBNbWYvhHRhAXI38Y6x4GECkv588d9MYQOzxQhVCLhlAMyTm7QyJGUB7VonG1+MZQMKILJ+iPhpAC7vPd22ZGkBT7XJQOPQaQJsfFikDTxtA4lG5Ac6pG0AqhFzamAQcQHK2/7JjXxxAuuiiiy66HEABG0Zk+RQdQElN6TzEbx1AkH+MFY/KHUDasS/uWSUeQCHk0sYkgB5AaRZ2n+/aHkCwSBl4ujUfQPl6vFCFkB9AQK1fKVDrH0DEbwGBDSMgQOgIU+1yUCBADKKkWdh9IEAwO/bFPasgQFTURzKj2CBAd22ZnggGIUCcBusKbjMhQL+fPHfTYCFA4ziO4ziOIUA=\",\"dtype\":\"float64\",\"order\":\"little\",\"shape\":[100]},\"y\":{\"__ndarray__\":\"AAAAAAAAJEAAAAAAAAAkQAAAAAAAACRAAAAAAAAAJEAAAAAAAAAkQAAAAAAAACRAAAAAAAAAJEAAAAAAAAAkQAAAAAAAACRAAAAAAAAAJEAAAAAAAAAkQAAAAAAAACRAAAAAAAAAJEAAAAAAAAAkQAAAAAAAACRAAAAAAAAAJEAAAAAAAAAkQAAAAAAAACRAAAAAAAAAJEAAAAAAAAAkQAAAAAAAACRAAAAAAAAAJEAAAAAAAAAkQAAAAAAAACRAAAAAAAAAJEAAAAAAAAAkQAAAAAAAACRAAAAAAAAAJEAAAAAAAAAkQAAAAAAAACRAAAAAAAAAJEAAAAAAAAAkQAAAAAAAACRAAAAAAAAAJEAAAAAAAAAkQAAAAAAAACRAAAAAAAAAJEAAAAAAAAAkQAAAAAAAACRAAAAAAAAAJEAAAAAAAAAkQAAAAAAAACRAAAAAAAAAJEAAAAAAAAAkQAAAAAAAACRAAAAAAAAAJEAAAAAAAAAkQAAAAAAAACRAAAAAAAAAJEAAAAAAAAAkQAAAAAAAACRAAAAAAAAAJEAAAAAAAAAkQAAAAAAAACRAAAAAAAAAJEAAAAAAAAAkQAAAAAAAACRAAAAAAAAAJEAAAAAAAAAkQAAAAAAAACRAAAAAAAAAJEAAAAAAAAAkQAAAAAAAACRAAAAAAAAAJEAAAAAAAAAkQAAAAAAAACRAAAAAAAAAJEAAAAAAAAAkQAAAAAAAACRAAAAAAAAAJEAAAAAAAAAkQAAAAAAAACRAAAAAAAAAJEAAAAAAAAAkQAAAAAAAACRAAAAAAAAAJEAAAAAAAAAkQAAAAAAAACRAAAAAAAAAJEAAAAAAAAAkQAAAAAAAACRAAAAAAAAAJEAAAAAAAAAkQAAAAAAAACRAAAAAAAAAJEAAAAAAAAAkQAAAAAAAACRAAAAAAAAAJEAAAAAAAAAkQAAAAAAAACRAAAAAAAAAJEAAAAAAAAAkQAAAAAAAACRAAAAAAAAAJEAAAAAAAAAkQAAAAAAAACRAAAAAAAAAJEAAAAAAAAAkQAAAAAAAACRAAAAAAAAAJEA=\",\"dtype\":\"float64\",\"order\":\"little\",\"shape\":[100]}},\"selected\":{\"id\":\"1525\"},\"selection_policy\":{\"id\":\"1524\"}},\"id\":\"1512\",\"type\":\"ColumnDataSource\"},{\"attributes\":{},\"id\":\"1486\",\"type\":\"SaveTool\"},{\"attributes\":{},\"id\":\"1562\",\"type\":\"UnionRenderers\"},{\"attributes\":{\"line_alpha\":0.1,\"line_color\":\"#ff7e0e\",\"line_width\":2,\"x\":{\"field\":\"x\"},\"y\":{\"field\":\"y\"}},\"id\":\"1514\",\"type\":\"Line\"},{\"attributes\":{\"source\":{\"id\":\"1497\"}},\"id\":\"1501\",\"type\":\"CDSView\"},{\"attributes\":{\"source\":{\"id\":\"1512\"}},\"id\":\"1516\",\"type\":\"CDSView\"},{\"attributes\":{},\"id\":\"1487\",\"type\":\"ResetTool\"},{\"attributes\":{},\"id\":\"1469\",\"type\":\"DataRange1d\"},{\"attributes\":{},\"id\":\"1563\",\"type\":\"Selection\"},{\"attributes\":{\"line_alpha\":0.1,\"line_color\":\"#2ba02b\",\"line_width\":2,\"x\":{\"field\":\"x\"},\"y\":{\"field\":\"y\"}},\"id\":\"1530\",\"type\":\"Line\"},{\"attributes\":{},\"id\":\"1525\",\"type\":\"Selection\"},{\"attributes\":{},\"id\":\"1471\",\"type\":\"LinearScale\"},{\"attributes\":{\"label\":{\"value\":\"atp\"},\"renderers\":[{\"id\":\"1500\"}]},\"id\":\"1511\",\"type\":\"LegendItem\"},{\"attributes\":{\"label\":{\"value\":\"inside_H\"},\"renderers\":[{\"id\":\"1531\"}]},\"id\":\"1545\",\"type\":\"LegendItem\"},{\"attributes\":{},\"id\":\"1506\",\"type\":\"BasicTickFormatter\"},{\"attributes\":{\"click_policy\":\"hide\",\"items\":[{\"id\":\"1511\"},{\"id\":\"1527\"},{\"id\":\"1545\"},{\"id\":\"1565\"}],\"location\":\"bottom_right\"},\"id\":\"1510\",\"type\":\"Legend\"},{\"attributes\":{},\"id\":\"1473\",\"type\":\"LinearScale\"},{\"attributes\":{\"source\":{\"id\":\"1546\"}},\"id\":\"1550\",\"type\":\"CDSView\"},{\"attributes\":{},\"id\":\"1524\",\"type\":\"UnionRenderers\"},{\"attributes\":{},\"id\":\"1543\",\"type\":\"Selection\"},{\"attributes\":{\"axis_label\":\"time (hrs)\",\"formatter\":{\"id\":\"1506\"},\"ticker\":{\"id\":\"1476\"}},\"id\":\"1475\",\"type\":\"LinearAxis\"},{\"attributes\":{\"label\":{\"value\":\"bound proton pump\"},\"renderers\":[{\"id\":\"1549\"}]},\"id\":\"1565\",\"type\":\"LegendItem\"},{\"attributes\":{\"data\":{\"x\":{\"__ndarray__\":\"AAAAAAAAAAD0kcwotrK2P/SRzCi2ssY/d22ZnggG0T/0kcwotrLWP3K2/7JjX9w/d22ZnggG4T+2/7JjX9zjP/SRzCi2suY/MyTm7QyJ6T9ytv+yY1/sP7BIGXi6Ne8/d22ZnggG8T+WNiYBNHHyP7b/smNf3PM/1sg/xopH9T/0kcwotrL2PxNbWYvhHfg/MyTm7QyJ+T9T7XJQOPT6P3K2/7JjX/w/kH+MFY/K/T+wSBl4ujX/P+gIU+1yUABAd22ZnggGAUAG0t9PnrsBQJY2JgE0cQJAJptssskmA0C2/7JjX9wDQEVk+RT1kQRA1sg/xopHBUBlLYZ3IP0FQPSRzCi2sgZAhPYS2ktoB0ATW1mL4R0IQKS/nzx30whAMyTm7QyJCUDCiCyfoj4KQFPtclA49ApA4lG5Ac6pC0Bytv+yY18MQAEbRmT5FA1AkH+MFY/KDUAh5NLGJIAOQLBIGXi6NQ9AQK1fKVDrD0DoCFPtclAQQDA79sU9qxBAd22ZnggGEUC/nzx302ARQAbS30+euxFATwSDKGkWEkCWNiYBNHESQN9oydn+yxJAJptssskmE0BuzQ+LlIETQLb/smNf3BNA/jFWPCo3FEBFZPkU9ZEUQI2WnO2/7BRA1sg/xopHFUAe++KeVaIVQGUthncg/RVArV8pUOtXFkD0kcwotrIWQD3EbwGBDRdAhPYS2ktoF0DMKLayFsMXQBNbWYvhHRhAXI38Y6x4GECkv588d9MYQOzxQhVCLhlAMyTm7QyJGUB7VonG1+MZQMKILJ+iPhpAC7vPd22ZGkBT7XJQOPQaQJsfFikDTxtA4lG5Ac6pG0AqhFzamAQcQHK2/7JjXxxAuuiiiy66HEABG0Zk+RQdQElN6TzEbx1AkH+MFY/KHUDasS/uWSUeQCHk0sYkgB5AaRZ2n+/aHkCwSBl4ujUfQPl6vFCFkB9AQK1fKVDrH0DEbwGBDSMgQOgIU+1yUCBADKKkWdh9IEAwO/bFPasgQFTURzKj2CBAd22ZnggGIUCcBusKbjMhQL+fPHfTYCFA4ziO4ziOIUA=\",\"dtype\":\"float64\",\"order\":\"little\",\"shape\":[100]},\"y\":{\"__ndarray__\":\"AAAAAAAAJECA4V5zVI8Ju7CZ3UyFR+K5DOHcdBUik7l+s1huQaQvuUd6zSC25RK5bC5a3wqLQTl8YDOiwC3QOFDST1tiwNe4yRc4wX/S4DgMMOJM1AwGuSA5sHDtWm45tKNJK0UV+bhc8plSjJjgOBoWrP5nC9G41H7TUZIuvriQB1Rt43i6uADYVhd6Yw+5MI0inXN8ZTnTahu9u5IFuQjdrVrNaPa44s1fpObnsDhFEJ3cBxOrOLuYv2yao8s4SXOKNxWP0DiGSnLdWrLruALjtmlB3uE4mOYfZVSYzbhuWabZ0sIBuboONeyB7yS5PnsBxo1G9riZjEV8+jEhuVh85rdM3xO5iEt6vrqkTrkPDVOBf7dXue8qDyOTXyI5z/Coq59ENLl+hPG/q///OOznFWMiMNW46/dBNrcLzDgEhKxLqVGaOOgWqjtPcGs4uLm90Z9QgTj/uPEeoMqmOFAjb1Y42Yi4JrayFPjiu7jawrz7FZvMOC0x0CDxkoM41L1jPyXcgDjALjeVlyxYOKi+YBJlYVE4kFSo24jrPbgC4mv7jEt1uBFv5eq7D3S4OF39d2W+nDhcWnbv/fueuB78zKtBAsO4SOPPvQmJ1zjAmTFyVQemuLCREYWaJP64yuY1UnpGLzmZrNY9Xw8juWreIU2fYw45pHMhHDUSt7iUkKZrXXbCOOZFMlwVu4w4g1xMKCIVtbjTgvPLJqajOK04lXm66bQ44FaFy03NhTikhdrDPTaoON5lq3G+h8S4EsNOWCHX1DgACSSDGrXkuDpGaR0VUvQ4wIydDtPl27jM9Q/2x4klOcS/pq8I3jy5u2VAdPujYjmXrs1SZ4JQuVXcL7QBWjY5ohelCJjaJzmcJysaZy04uVzjyO6AXkY5BfkqSTyqRLlgALrvfHBCubQ3zZfhRmc5XmwK7pYmgLloOT8iu2SJOW6Aooff4rK546Ioqh/BtjnAaZoPnS+AOcDe6MTy4ty5hHKqX+IA/DmoZ4U8rdgSutI3QdKzNhM63J2oh99fNDqme6bp60gXuuPampIQ7hi6Ou22kQ61GDo=\",\"dtype\":\"float64\",\"order\":\"little\",\"shape\":[100]}},\"selected\":{\"id\":\"1508\"},\"selection_policy\":{\"id\":\"1507\"}},\"id\":\"1497\",\"type\":\"ColumnDataSource\"},{\"attributes\":{\"axis\":{\"id\":\"1479\"},\"dimension\":1,\"ticker\":null},\"id\":\"1482\",\"type\":\"Grid\"},{\"attributes\":{\"data\":{\"x\":{\"__ndarray__\":\"AAAAAAAAAAD0kcwotrK2P/SRzCi2ssY/d22ZnggG0T/0kcwotrLWP3K2/7JjX9w/d22ZnggG4T+2/7JjX9zjP/SRzCi2suY/MyTm7QyJ6T9ytv+yY1/sP7BIGXi6Ne8/d22ZnggG8T+WNiYBNHHyP7b/smNf3PM/1sg/xopH9T/0kcwotrL2PxNbWYvhHfg/MyTm7QyJ+T9T7XJQOPT6P3K2/7JjX/w/kH+MFY/K/T+wSBl4ujX/P+gIU+1yUABAd22ZnggGAUAG0t9PnrsBQJY2JgE0cQJAJptssskmA0C2/7JjX9wDQEVk+RT1kQRA1sg/xopHBUBlLYZ3IP0FQPSRzCi2sgZAhPYS2ktoB0ATW1mL4R0IQKS/nzx30whAMyTm7QyJCUDCiCyfoj4KQFPtclA49ApA4lG5Ac6pC0Bytv+yY18MQAEbRmT5FA1AkH+MFY/KDUAh5NLGJIAOQLBIGXi6NQ9AQK1fKVDrD0DoCFPtclAQQDA79sU9qxBAd22ZnggGEUC/nzx302ARQAbS30+euxFATwSDKGkWEkCWNiYBNHESQN9oydn+yxJAJptssskmE0BuzQ+LlIETQLb/smNf3BNA/jFWPCo3FEBFZPkU9ZEUQI2WnO2/7BRA1sg/xopHFUAe++KeVaIVQGUthncg/RVArV8pUOtXFkD0kcwotrIWQD3EbwGBDRdAhPYS2ktoF0DMKLayFsMXQBNbWYvhHRhAXI38Y6x4GECkv588d9MYQOzxQhVCLhlAMyTm7QyJGUB7VonG1+MZQMKILJ+iPhpAC7vPd22ZGkBT7XJQOPQaQJsfFikDTxtA4lG5Ac6pG0AqhFzamAQcQHK2/7JjXxxAuuiiiy66HEABG0Zk+RQdQElN6TzEbx1AkH+MFY/KHUDasS/uWSUeQCHk0sYkgB5AaRZ2n+/aHkCwSBl4ujUfQPl6vFCFkB9AQK1fKVDrH0DEbwGBDSMgQOgIU+1yUCBADKKkWdh9IEAwO/bFPasgQFTURzKj2CBAd22ZnggGIUCcBusKbjMhQL+fPHfTYCFA4ziO4ziOIUA=\",\"dtype\":\"float64\",\"order\":\"little\",\"shape\":[100]},\"y\":{\"__ndarray__\":\"AAAAAAAAAACK2bIHSg/zP+B+rfvkHgdA9Vute9TREUDExxVSF4IXQLDWgY9frRxA1o8H1eivIECQzcQzO9IiQIfg0E2qwiRACaHeWsSFJkA0BTIUrR8oQJdlEG4nlClALG7pbZ7mKkASrwIyLRosQG/VMT2mMS1AXuFlGJovLkDne8lYXRYvQHFbWRkO6C9ARzUtekxTMEBi8TzE3qkwQJrxbkqJ+DBAVBO02QRAMUDPU3pf+YAxQKybKHP/uzFAKtg3vaHxMUCPkbU8XiIyQLnaQW+nTjJAM6wgXuV2MkCYVn+SdpsyQFyYnPOwvDJAm06YkOLaMkBQ2blXUvYyQKS/OL1ADzNAQQKRUuglM0AElwVQfjozQA8D0REzTTNAspuviTJeM0CI9RCmpG0zQMA05a+tezNAXtnkn26IM0C1yQlsBZQzQNaU4k2NnjNAOxqQAh+oM0BIsOME0bAzQJjrKcK3uDNALz49yuW/M0BKk/n6a8YzQNe6+adZzDNAhRuJvrzRM0CH32fmodYzQMc5eZ8U2zNAfV/OXB/fM0CLaDGdy+IzQPN8gAEi5jNA+g7ZYCrpM0DRhBLb6+szQKFMfOls7jNAAikJbrPwM0DbRC3BxPIzQB65Y76l9DNA78WUz1r2M0BmtIb35/czQIW8PNtQ+TNACmGCypj6M0AUvLTHwvszQMz63Y7R/DNA58UanMf9M0CRsm0xp/4zQKt/E1xy/zNAZNFV+SoANEBdEee60gA0QGTM3iprATRAh6xWr/UBNECj4rWNcwI0QBY6re3lAjRArhfr200DNEBf55RMrAM0QF0diB0CBDRAaERgGFAENEAnC0/0lgQ0QKtByVfXBDRAJ6oP2hEFNEA/eJMERwU0QIAmO1R3BTRAZIaFOqMFNEAC0ZYeywU0QGofJF7vBTRAxb5TThAGNEBAB4U8LgY0QIkcB29JBjRAsY29JWIGNEDvObqaeAY0QF8lwAKNBjRATna+jZ8GNEAL7ENnsAY0QMZF5La/BjRAdKGWoM0GNEDjNAxF2gY0QDEK9sHlBjRAovVSMvAGNEA=\",\"dtype\":\"float64\",\"order\":\"little\",\"shape\":[100]}},\"selected\":{\"id\":\"1563\"},\"selection_policy\":{\"id\":\"1562\"}},\"id\":\"1546\",\"type\":\"ColumnDataSource\"},{\"attributes\":{\"bottom_units\":\"screen\",\"fill_alpha\":0.5,\"fill_color\":\"lightgrey\",\"left_units\":\"screen\",\"level\":\"overlay\",\"line_alpha\":1.0,\"line_color\":\"black\",\"line_dash\":[4,4],\"line_width\":2,\"right_units\":\"screen\",\"top_units\":\"screen\"},\"id\":\"1489\",\"type\":\"BoxAnnotation\"},{\"attributes\":{\"text\":\"with Proton Pump\"},\"id\":\"1465\",\"type\":\"Title\"},{\"attributes\":{},\"id\":\"1476\",\"type\":\"BasicTicker\"},{\"attributes\":{\"data_source\":{\"id\":\"1497\"},\"glyph\":{\"id\":\"1498\"},\"hover_glyph\":null,\"muted_glyph\":null,\"nonselection_glyph\":{\"id\":\"1499\"},\"selection_glyph\":null,\"view\":{\"id\":\"1501\"}},\"id\":\"1500\",\"type\":\"GlyphRenderer\"},{\"attributes\":{\"line_color\":\"#9367bc\",\"line_width\":2,\"x\":{\"field\":\"x\"},\"y\":{\"field\":\"y\"}},\"id\":\"1547\",\"type\":\"Line\"},{\"attributes\":{\"axis\":{\"id\":\"1475\"},\"ticker\":null},\"id\":\"1478\",\"type\":\"Grid\"},{\"attributes\":{},\"id\":\"1480\",\"type\":\"BasicTicker\"},{\"attributes\":{\"axis_label\":\"concentration (nM)\",\"formatter\":{\"id\":\"1504\"},\"ticker\":{\"id\":\"1480\"}},\"id\":\"1479\",\"type\":\"LinearAxis\"},{\"attributes\":{\"data_source\":{\"id\":\"1512\"},\"glyph\":{\"id\":\"1513\"},\"hover_glyph\":null,\"muted_glyph\":null,\"nonselection_glyph\":{\"id\":\"1514\"},\"selection_glyph\":null,\"view\":{\"id\":\"1516\"}},\"id\":\"1515\",\"type\":\"GlyphRenderer\"},{\"attributes\":{\"active_drag\":\"auto\",\"active_inspect\":\"auto\",\"active_multi\":null,\"active_scroll\":\"auto\",\"active_tap\":\"auto\",\"tools\":[{\"id\":\"1483\"},{\"id\":\"1484\"},{\"id\":\"1485\"},{\"id\":\"1486\"},{\"id\":\"1487\"},{\"id\":\"1488\"}]},\"id\":\"1490\",\"type\":\"Toolbar\"},{\"attributes\":{\"data_source\":{\"id\":\"1528\"},\"glyph\":{\"id\":\"1529\"},\"hover_glyph\":null,\"muted_glyph\":null,\"nonselection_glyph\":{\"id\":\"1530\"},\"selection_glyph\":null,\"view\":{\"id\":\"1532\"}},\"id\":\"1531\",\"type\":\"GlyphRenderer\"},{\"attributes\":{\"line_color\":\"#ff7e0e\",\"line_width\":2,\"x\":{\"field\":\"x\"},\"y\":{\"field\":\"y\"}},\"id\":\"1513\",\"type\":\"Line\"},{\"attributes\":{\"label\":{\"value\":\"outside_H\"},\"renderers\":[{\"id\":\"1515\"}]},\"id\":\"1527\",\"type\":\"LegendItem\"},{\"attributes\":{\"line_alpha\":0.1,\"line_color\":\"#9367bc\",\"line_width\":2,\"x\":{\"field\":\"x\"},\"y\":{\"field\":\"y\"}},\"id\":\"1548\",\"type\":\"Line\"},{\"attributes\":{},\"id\":\"1507\",\"type\":\"UnionRenderers\"},{\"attributes\":{},\"id\":\"1542\",\"type\":\"UnionRenderers\"},{\"attributes\":{},\"id\":\"1504\",\"type\":\"BasicTickFormatter\"},{\"attributes\":{\"source\":{\"id\":\"1528\"}},\"id\":\"1532\",\"type\":\"CDSView\"},{\"attributes\":{\"line_alpha\":0.1,\"line_color\":\"#1f77b3\",\"line_width\":2,\"x\":{\"field\":\"x\"},\"y\":{\"field\":\"y\"}},\"id\":\"1499\",\"type\":\"Line\"},{\"attributes\":{\"data_source\":{\"id\":\"1546\"},\"glyph\":{\"id\":\"1547\"},\"hover_glyph\":null,\"muted_glyph\":null,\"nonselection_glyph\":{\"id\":\"1548\"},\"selection_glyph\":null,\"view\":{\"id\":\"1550\"}},\"id\":\"1549\",\"type\":\"GlyphRenderer\"},{\"attributes\":{},\"id\":\"1483\",\"type\":\"PanTool\"},{\"attributes\":{},\"id\":\"1508\",\"type\":\"Selection\"},{\"attributes\":{},\"id\":\"1484\",\"type\":\"WheelZoomTool\"},{\"attributes\":{},\"id\":\"1488\",\"type\":\"HelpTool\"}],\"root_ids\":[\"1464\"]},\"title\":\"Bokeh Application\",\"version\":\"2.2.1\"}};\n",
       "  var render_items = [{\"docid\":\"75f10e01-38dd-4f34-b29f-c020f6a6454b\",\"root_ids\":[\"1464\"],\"roots\":{\"1464\":\"78edde77-cc35-4a39-8555-42169da81422\"}}];\n",
       "  root.Bokeh.embed.embed_items_notebook(docs_json, render_items);\n",
       "\n",
       "  }\n",
       "  if (root.Bokeh !== undefined) {\n",
       "    embed_document(root);\n",
       "  } else {\n",
       "    var attempts = 0;\n",
       "    var timer = setInterval(function(root) {\n",
       "      if (root.Bokeh !== undefined) {\n",
       "        clearInterval(timer);\n",
       "        embed_document(root);\n",
       "      } else {\n",
       "        attempts++;\n",
       "        if (attempts > 100) {\n",
       "          clearInterval(timer);\n",
       "          console.log(\"Bokeh: ERROR: Unable to run BokehJS code because BokehJS library is missing\");\n",
       "        }\n",
       "      }\n",
       "    }, 10, root)\n",
       "  }\n",
       "})(window);"
      ],
      "application/vnd.bokehjs_exec.v0+json": ""
     },
     "metadata": {
      "application/vnd.bokehjs_exec.v0+json": {
       "id": "1464"
      }
     },
     "output_type": "display_data"
    }
   ],
   "source": [
    "plt_timepoints = timepoints/60/60\n",
    "\n",
    "p_pp = bokeh.plotting.figure(width = 450, height = 350, title = 'with Proton Pump',\n",
    "                            x_axis_label = 'time (hrs)',\n",
    "                            y_axis_label = 'concentration (nM)')\n",
    "plot_list = [ATP_id, outside_H_id, inside_H_id, proton_pump_b_protein_id]\n",
    "plot_str = ['atp', 'outside_H', 'inside_H', 'bound proton pump']\n",
    "for i,item in enumerate(plot_list):\n",
    "    p_pp.line(plt_timepoints, results[item], line_width = 2, legend_label = plot_str[i], color = palette[i])\n",
    "    \n",
    "p_pp.legend.click_policy = 'hide'\n",
    "p_pp.legend.location = 'bottom_right'\n",
    "bokeh.io.show(p_pp)"
   ]
  },
  {
   "cell_type": "markdown",
   "metadata": {},
   "source": [
    "## Combine atp synthase and proton pump subsystems (with machinery txtl)\n",
    "---"
   ]
  },
  {
   "cell_type": "code",
   "execution_count": 13,
   "metadata": {},
   "outputs": [],
   "source": [
    "entire_subsystem = ss1_atpsyn_txtl + ss2_atpsyn_mi + ss3_atpsynthesis + ss4_atp_use + ss5_pp_txtl + ss6_pp_mi + ss7_protontransport"
   ]
  },
  {
   "cell_type": "code",
   "execution_count": 14,
   "metadata": {},
   "outputs": [],
   "source": [
    "# Initial conditions\n",
    "spec_list_10 = ['dna_proton_pump', 'dna_atpsyn','proton_outside_H','protein_RNAP_machinery', \n",
    "                'protein_Ribo_machinery', 'protein_RNAse_machinery']\n",
    "for i,spec in enumerate(spec_list_10):\n",
    "    entire_subsystem.setSpeciesAmount(spec,10)\n",
    "entire_subsystem.setSpeciesAmount('metabolite_atp',10)\n",
    "\n",
    "# timepoints and get results\n",
    "# timepoints = np.linspace(0,10,100)\n",
    "# results, _ = entire_subsystem.simulateWithBioscrape(timepoints, sbml_warnings = False)\n",
    "\n",
    "# Get species IDs\n",
    "ATP_id3 = entire_subsystem.getSpeciesByName('metabolite_atp').getId()\n",
    "ADP_id = entire_subsystem.getSpeciesByName('metabolite_adp').getId()\n",
    "\n",
    "outside_H_id = entire_subsystem.getSpeciesByName('proton_outside_H').getId()\n",
    "inside_H_id = entire_subsystem.getSpeciesByName('proton_inside_H').getId()\n",
    "\n",
    "proton_pump_b_protein_id = entire_subsystem.getSpeciesByName('protein_proton_pump_b').getId()\n",
    "proton_pump_f_protein_id = entire_subsystem.getSpeciesByName('protein_proton_pump').getId()\n",
    "\n",
    "atp_synthase_b_protein_id = entire_subsystem.getSpeciesByName('protein_atpsyn_b').getId()\n",
    "atp_synthase_f_protein_id = entire_subsystem.getSpeciesByName('protein_atpsyn').getId()\n"
   ]
  },
  {
   "cell_type": "code",
   "execution_count": 15,
   "metadata": {},
   "outputs": [
    {
     "name": "stderr",
     "output_type": "stream",
     "text": [
      "odeint failed with mxstep=500..."
     ]
    }
   ],
   "source": [
    "timepoints = np.linspace(0,31600,100)\n",
    "results_everything, _ = entire_subsystem.simulateWithBioscrape(timepoints, sbml_warnings = False)"
   ]
  },
  {
   "cell_type": "code",
   "execution_count": 16,
   "metadata": {},
   "outputs": [],
   "source": [
    "from bokeh.models.annotations import Title\n",
    "\n"
   ]
  },
  {
   "cell_type": "code",
   "execution_count": 17,
   "metadata": {},
   "outputs": [
    {
     "data": {
      "text/html": [
       "\n",
       "\n",
       "\n",
       "\n",
       "\n",
       "\n",
       "  <div class=\"bk-root\" id=\"8449128f-5844-4788-9201-e2d05368ba4f\" data-root-id=\"1682\"></div>\n"
      ]
     },
     "metadata": {},
     "output_type": "display_data"
    },
    {
     "data": {
      "application/javascript": [
       "(function(root) {\n",
       "  function embed_document(root) {\n",
       "    \n",
       "  var docs_json = {\"5353bf8b-0684-4cbf-869e-a65ee35dae28\":{\"roots\":{\"references\":[{\"attributes\":{\"below\":[{\"id\":\"1693\"}],\"center\":[{\"id\":\"1696\"},{\"id\":\"1700\"},{\"id\":\"1728\"}],\"left\":[{\"id\":\"1697\"}],\"plot_height\":350,\"plot_width\":450,\"renderers\":[{\"id\":\"1718\"},{\"id\":\"1733\"},{\"id\":\"1749\"},{\"id\":\"1767\"},{\"id\":\"1787\"}],\"title\":{\"id\":\"1683\"},\"toolbar\":{\"id\":\"1708\"},\"x_range\":{\"id\":\"1685\"},\"x_scale\":{\"id\":\"1689\"},\"y_range\":{\"id\":\"1687\"},\"y_scale\":{\"id\":\"1691\"}},\"id\":\"1682\",\"subtype\":\"Figure\",\"type\":\"Plot\"},{\"attributes\":{\"axis\":{\"id\":\"1697\"},\"dimension\":1,\"ticker\":null},\"id\":\"1700\",\"type\":\"Grid\"},{\"attributes\":{\"source\":{\"id\":\"1730\"}},\"id\":\"1734\",\"type\":\"CDSView\"},{\"attributes\":{},\"id\":\"1694\",\"type\":\"BasicTicker\"},{\"attributes\":{},\"id\":\"1742\",\"type\":\"UnionRenderers\"},{\"attributes\":{\"line_alpha\":0.1,\"line_color\":\"#ff7e0e\",\"line_width\":2,\"x\":{\"field\":\"x\"},\"y\":{\"field\":\"y\"}},\"id\":\"1732\",\"type\":\"Line\"},{\"attributes\":{\"axis\":{\"id\":\"1693\"},\"ticker\":null},\"id\":\"1696\",\"type\":\"Grid\"},{\"attributes\":{},\"id\":\"1780\",\"type\":\"UnionRenderers\"},{\"attributes\":{\"label\":{\"value\":\"outside_H\"},\"renderers\":[{\"id\":\"1733\"}]},\"id\":\"1745\",\"type\":\"LegendItem\"},{\"attributes\":{\"source\":{\"id\":\"1764\"}},\"id\":\"1768\",\"type\":\"CDSView\"},{\"attributes\":{},\"id\":\"1698\",\"type\":\"BasicTicker\"},{\"attributes\":{\"axis_label\":\"concentration (nM)\",\"formatter\":{\"id\":\"1722\"},\"ticker\":{\"id\":\"1698\"}},\"id\":\"1697\",\"type\":\"LinearAxis\"},{\"attributes\":{},\"id\":\"1743\",\"type\":\"Selection\"},{\"attributes\":{\"label\":{\"value\":\"bound atp synthase\"},\"renderers\":[{\"id\":\"1767\"}]},\"id\":\"1783\",\"type\":\"LegendItem\"},{\"attributes\":{\"data_source\":{\"id\":\"1730\"},\"glyph\":{\"id\":\"1731\"},\"hover_glyph\":null,\"muted_glyph\":null,\"nonselection_glyph\":{\"id\":\"1732\"},\"selection_glyph\":null,\"view\":{\"id\":\"1734\"}},\"id\":\"1733\",\"type\":\"GlyphRenderer\"},{\"attributes\":{\"data\":{\"x\":{\"__ndarray__\":\"AAAAAAAAAAD0kcwotrK2P/SRzCi2ssY/d22ZnggG0T/0kcwotrLWP3K2/7JjX9w/d22ZnggG4T+2/7JjX9zjP/SRzCi2suY/MyTm7QyJ6T9ytv+yY1/sP7BIGXi6Ne8/d22ZnggG8T+WNiYBNHHyP7b/smNf3PM/1sg/xopH9T/0kcwotrL2PxNbWYvhHfg/MyTm7QyJ+T9T7XJQOPT6P3K2/7JjX/w/kH+MFY/K/T+wSBl4ujX/P+gIU+1yUABAd22ZnggGAUAG0t9PnrsBQJY2JgE0cQJAJptssskmA0C2/7JjX9wDQEVk+RT1kQRA1sg/xopHBUBlLYZ3IP0FQPSRzCi2sgZAhPYS2ktoB0ATW1mL4R0IQKS/nzx30whAMyTm7QyJCUDCiCyfoj4KQFPtclA49ApA4lG5Ac6pC0Bytv+yY18MQAEbRmT5FA1AkH+MFY/KDUAh5NLGJIAOQLBIGXi6NQ9AQK1fKVDrD0DoCFPtclAQQDA79sU9qxBAd22ZnggGEUC/nzx302ARQAbS30+euxFATwSDKGkWEkCWNiYBNHESQN9oydn+yxJAJptssskmE0BuzQ+LlIETQLb/smNf3BNA/jFWPCo3FEBFZPkU9ZEUQI2WnO2/7BRA1sg/xopHFUAe++KeVaIVQGUthncg/RVArV8pUOtXFkD0kcwotrIWQD3EbwGBDRdAhPYS2ktoF0DMKLayFsMXQBNbWYvhHRhAXI38Y6x4GECkv588d9MYQOzxQhVCLhlAMyTm7QyJGUB7VonG1+MZQMKILJ+iPhpAC7vPd22ZGkBT7XJQOPQaQJsfFikDTxtA4lG5Ac6pG0AqhFzamAQcQHK2/7JjXxxAuuiiiy66HEABG0Zk+RQdQElN6TzEbx1AkH+MFY/KHUDasS/uWSUeQCHk0sYkgB5AaRZ2n+/aHkCwSBl4ujUfQPl6vFCFkB9AQK1fKVDrH0DEbwGBDSMgQOgIU+1yUCBADKKkWdh9IEAwO/bFPasgQFTURzKj2CBAd22ZnggGIUCcBusKbjMhQL+fPHfTYCFA4ziO4ziOIUA=\",\"dtype\":\"float64\",\"order\":\"little\",\"shape\":[100]},\"y\":{\"__ndarray__\":\"AAAAAAAAAADQnaK0ZWgXQMUrAihy3CBAkEf9D/9EIkDKA74APNEiQGkBwb0mFiNAEi20ZEY+I0Cr/wPGZ1gjQHmsND+0aiNAiwW37i14I0BdcNGCeYIjQLSLaUGQiiNAM5udRg+RI0Air3mFXpYjQFexiYXFmiNAteokHneeI0AG6nhxmKEjQLw+fUFFpCNAakIxuZKmI0CcuLlFkagjQGhAMthNqiNAXCPGxtKrI0CHloNsKK0jQJHRspxVriNAaO4X+V+vI0C0ckcxTLAjQOPCaDMesSNAH3VfUdmxI0Dc2LpdgLIjQJJpZsIVsyNA0vOlkpuzI0B983eZE7QjQAvnK2V/tCNAkAPOUOC0I0BLbQGMN7UjQKXmESGGtSNA1vBp+sy1I0BN5gnnDLYjQHiqFp5GtiNAt9QMwnq2I0DMD0rjqbYjQJExd4LUtiNArIZ3Evu2I0AdcOb5HbcjQBXVaZQ9tyNAAhJpNFq3I0Cg8r0jdLcjQLScwqSLtyNA0EAj86C3I0AO7JZEtLcjQCVEgsnFtyNAIhmHrdW3I0CKfgMY5LcjQKpTgizxtyNAgDMfC/23I0CWW9/QB7gjQGjtAJgRuCNAjrRBeBq4I0DoVx6HIrgjQFX9CtgpuCNA3gemfDC4I0C/p+WENrgjQNO8QP87uCNArp3T+EC4I0CRTYF9RbgjQPM6EZhJuCNApDBKUk24I0DRUQq1ULgjQB3XXMhTuCNAT0+Qk1a4I0ABHU4dWbgjQE8qd2tbuCNARging124I0BBcM9qX7gjQNDfXCVhuCNAAiRvt2K4I0DjeLQkZLgjQAudqnBluCNAmmhenma4I0C78iKwZ7gjQNggEKlouCNAO388i2m4I0C207xYargjQH0qdRNruCNA2kwdvWu4I0DZrERXbLgjQIckVuNsuCNAjT6bYm24I0APGD7WbbgjQMopVD9uuCNAlfjNnm64I0BjB5D1brgjQGKuZERvuCNADiIGjG+4I0AFkRzNb7gjQNoNQQhwuCNAzZ3+PXC4I0DMrtNucLgjQBHfMptwuCNAUtqEw3C4I0A=\",\"dtype\":\"float64\",\"order\":\"little\",\"shape\":[100]}},\"selected\":{\"id\":\"1761\"},\"selection_policy\":{\"id\":\"1760\"}},\"id\":\"1746\",\"type\":\"ColumnDataSource\"},{\"attributes\":{\"line_color\":\"#ff7e0e\",\"line_width\":2,\"x\":{\"field\":\"x\"},\"y\":{\"field\":\"y\"}},\"id\":\"1731\",\"type\":\"Line\"},{\"attributes\":{},\"id\":\"1781\",\"type\":\"Selection\"},{\"attributes\":{\"label\":{\"value\":\"atp\"},\"renderers\":[{\"id\":\"1718\"}]},\"id\":\"1729\",\"type\":\"LegendItem\"},{\"attributes\":{\"data\":{\"x\":{\"__ndarray__\":\"AAAAAAAAAAD0kcwotrK2P/SRzCi2ssY/d22ZnggG0T/0kcwotrLWP3K2/7JjX9w/d22ZnggG4T+2/7JjX9zjP/SRzCi2suY/MyTm7QyJ6T9ytv+yY1/sP7BIGXi6Ne8/d22ZnggG8T+WNiYBNHHyP7b/smNf3PM/1sg/xopH9T/0kcwotrL2PxNbWYvhHfg/MyTm7QyJ+T9T7XJQOPT6P3K2/7JjX/w/kH+MFY/K/T+wSBl4ujX/P+gIU+1yUABAd22ZnggGAUAG0t9PnrsBQJY2JgE0cQJAJptssskmA0C2/7JjX9wDQEVk+RT1kQRA1sg/xopHBUBlLYZ3IP0FQPSRzCi2sgZAhPYS2ktoB0ATW1mL4R0IQKS/nzx30whAMyTm7QyJCUDCiCyfoj4KQFPtclA49ApA4lG5Ac6pC0Bytv+yY18MQAEbRmT5FA1AkH+MFY/KDUAh5NLGJIAOQLBIGXi6NQ9AQK1fKVDrD0DoCFPtclAQQDA79sU9qxBAd22ZnggGEUC/nzx302ARQAbS30+euxFATwSDKGkWEkCWNiYBNHESQN9oydn+yxJAJptssskmE0BuzQ+LlIETQLb/smNf3BNA/jFWPCo3FEBFZPkU9ZEUQI2WnO2/7BRA1sg/xopHFUAe++KeVaIVQGUthncg/RVArV8pUOtXFkD0kcwotrIWQD3EbwGBDRdAhPYS2ktoF0DMKLayFsMXQBNbWYvhHRhAXI38Y6x4GECkv588d9MYQOzxQhVCLhlAMyTm7QyJGUB7VonG1+MZQMKILJ+iPhpAC7vPd22ZGkBT7XJQOPQaQJsfFikDTxtA4lG5Ac6pG0AqhFzamAQcQHK2/7JjXxxAuuiiiy66HEABG0Zk+RQdQElN6TzEbx1AkH+MFY/KHUDasS/uWSUeQCHk0sYkgB5AaRZ2n+/aHkCwSBl4ujUfQPl6vFCFkB9AQK1fKVDrH0DEbwGBDSMgQOgIU+1yUCBADKKkWdh9IEAwO/bFPasgQFTURzKj2CBAd22ZnggGIUCcBusKbjMhQL+fPHfTYCFA4ziO4ziOIUA=\",\"dtype\":\"float64\",\"order\":\"little\",\"shape\":[100]},\"y\":{\"__ndarray__\":\"AAAAAAAAJEDV+YQ6GrgjQNf5hDoauCNA1/mEOhq4I0DX+YQ6GrgjQNb5hDoauCNA1/mEOhq4I0DX+YQ6GrgjQNf5hDoauCNA1/mEOhq4I0DW+YQ6GrgjQNf5hDoauCNA2PmEOhq4I0DY+YQ6GrgjQNj5hDoauCNA2PmEOhq4I0DY+YQ6GrgjQNj5hDoauCNA2PmEOhq4I0DZ+YQ6GrgjQNf5hDoauCNA2PmEOhq4I0DX+YQ6GrgjQNf5hDoauCNA1/mEOhq4I0DX+YQ6GrgjQNf5hDoauCNA1vmEOhq4I0DW+YQ6GrgjQNb5hDoauCNA1vmEOhq4I0DW+YQ6GrgjQNb5hDoauCNA1vmEOhq4I0DV+YQ6GrgjQNX5hDoauCNA1fmEOhq4I0DV+YQ6GrgjQNX5hDoauCNA1fmEOhq4I0DV+YQ6GrgjQNX5hDoauCNA1/mEOhq4I0DX+YQ6GrgjQNf5hDoauCNA1/mEOhq4I0DX+YQ6GrgjQNf5hDoauCNA1/mEOhq4I0DX+YQ6GrgjQNf5hDoauCNA1/mEOhq4I0DX+YQ6GrgjQNf5hDoauCNA1/mEOhq4I0DX+YQ6GrgjQNf5hDoauCNA1/mEOhq4I0DX+YQ6GrgjQNf5hDoauCNA1/mEOhq4I0DX+YQ6GrgjQNf5hDoauCNA1/mEOhq4I0DX+YQ6GrgjQNb5hDoauCNA1fmEOhq4I0DV+YQ6GrgjQNT5hDoauCNA1fmEOhq4I0Dp+YQ6GrgjQMn5hDoauCNAxPmEOhq4I0DW+YQ6GrgjQNT5hDoauCNA1PmEOhq4I0DJ+YQ6GrgjQOr5hDoauCNAL/qEOhq4I0DU+YQ6GrgjQNT5hDoauCNA1PmEOhq4I0DU+YQ6GrgjQNX5hDoauCNA1fmEOhq4I0DW+YQ6GrgjQNT5hDoauCNA1/mEOhq4I0AC+oQ6GrgjQM35hDoauCNA3fmEOhq4I0DT+YQ6GrgjQNf5hDoauCNA1vmEOhq4I0DW+YQ6GrgjQNb5hDoauCNA1vmEOhq4I0DW+YQ6GrgjQNX5hDoauCNA1/mEOhq4I0A=\",\"dtype\":\"float64\",\"order\":\"little\",\"shape\":[100]}},\"selected\":{\"id\":\"1726\"},\"selection_policy\":{\"id\":\"1725\"}},\"id\":\"1715\",\"type\":\"ColumnDataSource\"},{\"attributes\":{\"line_color\":\"#2ba02b\",\"line_width\":2,\"x\":{\"field\":\"x\"},\"y\":{\"field\":\"y\"}},\"id\":\"1747\",\"type\":\"Line\"},{\"attributes\":{\"data_source\":{\"id\":\"1746\"},\"glyph\":{\"id\":\"1747\"},\"hover_glyph\":null,\"muted_glyph\":null,\"nonselection_glyph\":{\"id\":\"1748\"},\"selection_glyph\":null,\"view\":{\"id\":\"1750\"}},\"id\":\"1749\",\"type\":\"GlyphRenderer\"},{\"attributes\":{\"data\":{\"x\":{\"__ndarray__\":\"AAAAAAAAAAD0kcwotrK2P/SRzCi2ssY/d22ZnggG0T/0kcwotrLWP3K2/7JjX9w/d22ZnggG4T+2/7JjX9zjP/SRzCi2suY/MyTm7QyJ6T9ytv+yY1/sP7BIGXi6Ne8/d22ZnggG8T+WNiYBNHHyP7b/smNf3PM/1sg/xopH9T/0kcwotrL2PxNbWYvhHfg/MyTm7QyJ+T9T7XJQOPT6P3K2/7JjX/w/kH+MFY/K/T+wSBl4ujX/P+gIU+1yUABAd22ZnggGAUAG0t9PnrsBQJY2JgE0cQJAJptssskmA0C2/7JjX9wDQEVk+RT1kQRA1sg/xopHBUBlLYZ3IP0FQPSRzCi2sgZAhPYS2ktoB0ATW1mL4R0IQKS/nzx30whAMyTm7QyJCUDCiCyfoj4KQFPtclA49ApA4lG5Ac6pC0Bytv+yY18MQAEbRmT5FA1AkH+MFY/KDUAh5NLGJIAOQLBIGXi6NQ9AQK1fKVDrD0DoCFPtclAQQDA79sU9qxBAd22ZnggGEUC/nzx302ARQAbS30+euxFATwSDKGkWEkCWNiYBNHESQN9oydn+yxJAJptssskmE0BuzQ+LlIETQLb/smNf3BNA/jFWPCo3FEBFZPkU9ZEUQI2WnO2/7BRA1sg/xopHFUAe++KeVaIVQGUthncg/RVArV8pUOtXFkD0kcwotrIWQD3EbwGBDRdAhPYS2ktoF0DMKLayFsMXQBNbWYvhHRhAXI38Y6x4GECkv588d9MYQOzxQhVCLhlAMyTm7QyJGUB7VonG1+MZQMKILJ+iPhpAC7vPd22ZGkBT7XJQOPQaQJsfFikDTxtA4lG5Ac6pG0AqhFzamAQcQHK2/7JjXxxAuuiiiy66HEABG0Zk+RQdQElN6TzEbx1AkH+MFY/KHUDasS/uWSUeQCHk0sYkgB5AaRZ2n+/aHkCwSBl4ujUfQPl6vFCFkB9AQK1fKVDrH0DEbwGBDSMgQOgIU+1yUCBADKKkWdh9IEAwO/bFPasgQFTURzKj2CBAd22ZnggGIUCcBusKbjMhQL+fPHfTYCFA4ziO4ziOIUA=\",\"dtype\":\"float64\",\"order\":\"little\",\"shape\":[100]},\"y\":{\"__ndarray__\":\"AAAAAAAAAABeIbTtxREFQL2mNOKyvSNAdWLT5EtPM0BKd51IPQs9QMOewG5cDUNAcOrFRposR0DwweH5f+tKQJVJVrfVUk5AP5e9NE21UEBwW/YJCR1SQMw9jnDrY1NA+nlCUvSMVEAOe5F53ZpVQHHDy/ggkFZArKS2+/5uV0CYzO8QgzlYQJaOGfiI8VhA92ZK/8CYWUCiWK/6szBaQHPVY9/GulpATI38CT44W0DZFX84QKpbQP3Ysj7ZEVxAoj2be/xvXEDRKa4Uh8VcQN16Jf5BE11A9PgQ0uNZXUAkfUV+EppdQAqlh8lk1F1AzIXrtWMJXkDD5rrCizleQGwX0RBOZV5AH9SSbBGNXkAL3kw/M7FeQFJ3lGoI0l5AN0CiD97vXkCp5udE+gpfQNgOKbqcI19AVDFgTv85X0DDjuGXVk5fQIz6jF/SYF9ATW05EZ5xX0BJ77Mh4YBfQF8ka2u/jl9AcHapglmbX0CGUyUCzaZfQKoSftA0sV9AdFd8X6m6X0A1eYLlQMNfQEyPqpEPy19AA1M1uyfSX0BgNaUMmthfQCw346p13l9ANfDSWMjjX0DaFKWXnuhfQDQZOMQD7V9A/JbMMQLxX0Amt0JCo/RfQHQ2Jnzv919A91y2nu76X0Dl8Ri0p/1fQPAm8ZAQAGBAvncNXDABYEBwxnffNQJgQJo6iIEjA2BAu+l9cPsDYEAn7ZynvwRgQGU42PNxBWBAUmcK+BMGYEAQ+c4wpwZgQPYFAPgsB2BAoIzih6YHYEArOwn+FAhgQLE78l15CGBAg/5pk9QIYECVV7V0JwlgQODih8RyCWBAq7rNM7cJYEBXF0tj9QlgQJX7DeUtCmBAUMXmPWEKYEC2r2vmjwpgQGw2Nky6CmBA8HTi0uAKYEACt/DUAwtgQGJ8mqQjC2BAVnOfjEALYEAs7+nQWgtgQAyeK69yC2BAKCJ1X4gLYECyTbsUnAtgQMK/S/2tC2BAhDY4Q74LYEA3WLoMzQtgQDqljnzaC2BA7WtGsuYLYEBEH5HK8QtgQEY3f9/7C2BAmoy/CAUMYEA=\",\"dtype\":\"float64\",\"order\":\"little\",\"shape\":[100]}},\"selected\":{\"id\":\"1803\"},\"selection_policy\":{\"id\":\"1802\"}},\"id\":\"1784\",\"type\":\"ColumnDataSource\"},{\"attributes\":{\"line_color\":\"#1f77b3\",\"line_width\":2,\"x\":{\"field\":\"x\"},\"y\":{\"field\":\"y\"}},\"id\":\"1716\",\"type\":\"Line\"},{\"attributes\":{},\"id\":\"1726\",\"type\":\"Selection\"},{\"attributes\":{\"line_color\":\"#8c564b\",\"line_width\":2,\"x\":{\"field\":\"x\"},\"y\":{\"field\":\"y\"}},\"id\":\"1785\",\"type\":\"Line\"},{\"attributes\":{\"data_source\":{\"id\":\"1784\"},\"glyph\":{\"id\":\"1785\"},\"hover_glyph\":null,\"muted_glyph\":null,\"nonselection_glyph\":{\"id\":\"1786\"},\"selection_glyph\":null,\"view\":{\"id\":\"1788\"}},\"id\":\"1787\",\"type\":\"GlyphRenderer\"},{\"attributes\":{\"line_alpha\":0.1,\"line_color\":\"#1f77b3\",\"line_width\":2,\"x\":{\"field\":\"x\"},\"y\":{\"field\":\"y\"}},\"id\":\"1717\",\"type\":\"Line\"},{\"attributes\":{},\"id\":\"1701\",\"type\":\"PanTool\"},{\"attributes\":{\"bottom_units\":\"screen\",\"fill_alpha\":0.5,\"fill_color\":\"lightgrey\",\"left_units\":\"screen\",\"level\":\"overlay\",\"line_alpha\":1.0,\"line_color\":\"black\",\"line_dash\":[4,4],\"line_width\":2,\"right_units\":\"screen\",\"top_units\":\"screen\"},\"id\":\"1707\",\"type\":\"BoxAnnotation\"},{\"attributes\":{\"source\":{\"id\":\"1746\"}},\"id\":\"1750\",\"type\":\"CDSView\"},{\"attributes\":{},\"id\":\"1803\",\"type\":\"Selection\"},{\"attributes\":{\"text\":\"with ATP Synthase, Proton Pump, ATP Use\"},\"id\":\"1683\",\"type\":\"Title\"},{\"attributes\":{},\"id\":\"1702\",\"type\":\"WheelZoomTool\"},{\"attributes\":{},\"id\":\"1760\",\"type\":\"UnionRenderers\"},{\"attributes\":{\"line_alpha\":0.1,\"line_color\":\"#2ba02b\",\"line_width\":2,\"x\":{\"field\":\"x\"},\"y\":{\"field\":\"y\"}},\"id\":\"1748\",\"type\":\"Line\"},{\"attributes\":{},\"id\":\"1685\",\"type\":\"DataRange1d\"},{\"attributes\":{\"data\":{\"x\":{\"__ndarray__\":\"AAAAAAAAAAD0kcwotrK2P/SRzCi2ssY/d22ZnggG0T/0kcwotrLWP3K2/7JjX9w/d22ZnggG4T+2/7JjX9zjP/SRzCi2suY/MyTm7QyJ6T9ytv+yY1/sP7BIGXi6Ne8/d22ZnggG8T+WNiYBNHHyP7b/smNf3PM/1sg/xopH9T/0kcwotrL2PxNbWYvhHfg/MyTm7QyJ+T9T7XJQOPT6P3K2/7JjX/w/kH+MFY/K/T+wSBl4ujX/P+gIU+1yUABAd22ZnggGAUAG0t9PnrsBQJY2JgE0cQJAJptssskmA0C2/7JjX9wDQEVk+RT1kQRA1sg/xopHBUBlLYZ3IP0FQPSRzCi2sgZAhPYS2ktoB0ATW1mL4R0IQKS/nzx30whAMyTm7QyJCUDCiCyfoj4KQFPtclA49ApA4lG5Ac6pC0Bytv+yY18MQAEbRmT5FA1AkH+MFY/KDUAh5NLGJIAOQLBIGXi6NQ9AQK1fKVDrD0DoCFPtclAQQDA79sU9qxBAd22ZnggGEUC/nzx302ARQAbS30+euxFATwSDKGkWEkCWNiYBNHESQN9oydn+yxJAJptssskmE0BuzQ+LlIETQLb/smNf3BNA/jFWPCo3FEBFZPkU9ZEUQI2WnO2/7BRA1sg/xopHFUAe++KeVaIVQGUthncg/RVArV8pUOtXFkD0kcwotrIWQD3EbwGBDRdAhPYS2ktoF0DMKLayFsMXQBNbWYvhHRhAXI38Y6x4GECkv588d9MYQOzxQhVCLhlAMyTm7QyJGUB7VonG1+MZQMKILJ+iPhpAC7vPd22ZGkBT7XJQOPQaQJsfFikDTxtA4lG5Ac6pG0AqhFzamAQcQHK2/7JjXxxAuuiiiy66HEABG0Zk+RQdQElN6TzEbx1AkH+MFY/KHUDasS/uWSUeQCHk0sYkgB5AaRZ2n+/aHkCwSBl4ujUfQPl6vFCFkB9AQK1fKVDrH0DEbwGBDSMgQOgIU+1yUCBADKKkWdh9IEAwO/bFPasgQFTURzKj2CBAd22ZnggGIUCcBusKbjMhQL+fPHfTYCFA4ziO4ziOIUA=\",\"dtype\":\"float64\",\"order\":\"little\",\"shape\":[100]},\"y\":{\"__ndarray__\":\"AAAAAAAAJEA5Yl1LmpcQQPWh7r9uHPk/RYcrAA+w6z/wwx/0P+ziP53U30coO90/xV96aTM32D+4DIA/B/PUPxRzahl4qdI/Q1AfKUL60D+I66NLn2HPP6QVnaXvW80/MjaZWC68yz/uOpShXmjKP/mtk52eTsk/X1bFdjhiyD9RgsWh45nHP7FUsKCv7sY/kGmvs1Fbxj823ZGRrtvFP0vqb/OJbMU/gi13Tk4LxT9bYhrf5LXEPz+gS9OYasQ/QWoEugEoxD9NVyOu8+zDP31LzyVzuMM/kbwiqKuJwz8kzUmR6F/DP8SfZWaPOsM/5A+DVhsZwz/pJAOiGfvCP2pBBrUm4MI/HiB/zOvHwj+GsaT/HLLCPxtbhrt3nsI/3c6DZcGMwj8ncYY9xnzCP7lmVXpYbsI/xtbKfE9hwj+LEXwth1XCP0KgM2LfSsI/QVkeYjtBwj/R/GOGgTjCP7W+iuWaMMI/aIO75XIpwj/fW4MQ9yLCP7zWWM8WHcI/INAvN8MXwj+SAEXa7hLCP1n6bp+NDsI/U7s5npQKwj9PYSD/+QbCP0EZa9+0A8I/nyMzOL0Awj9eHinIC/7BP9apxP+Z+8E/ZeCS72H5wT/ZCWo4XvfBP3euQP2J9cE/Bgx+1uDzwT/6E5bGXvLBP/zO0C8A8cE/QZgYy8HvwT+En6yfoO7BP/9GsfuZ7cE/BttzbavswT/Nj2u90uvBP/M8yugN68E/ZDDsG1vqwT8GxHisuOnBP6FwNSIl6cE/BfM9Fp/owT9S9CNMJejBP6UQyKi258E/LgQ3JFLnwT/Wy+HS9ubBP/rBWNWj5sE/E95laFjmwT8zVkP3E+bBP/vO97vV5cE/RDbgMJ3lwT94F8vQaeXBP9hltSI75cE/os6suBDlwT+zztQu6uTBPyHjdirH5ME/5GEwWafkwT9vAXpwiuTBP4+S9Spw5ME/6N+BTFjkwT8FLP6bQuTBP1ps1OYu5ME/oYF3/hzkwT//w9u4DOTBP82OvO/948E/4JFYgPDjwT86UhRL5OPBPxFBSDPZ48E/xnDJHs/jwT8=\",\"dtype\":\"float64\",\"order\":\"little\",\"shape\":[100]}},\"selected\":{\"id\":\"1743\"},\"selection_policy\":{\"id\":\"1742\"}},\"id\":\"1730\",\"type\":\"ColumnDataSource\"},{\"attributes\":{\"source\":{\"id\":\"1784\"}},\"id\":\"1788\",\"type\":\"CDSView\"},{\"attributes\":{\"overlay\":{\"id\":\"1707\"}},\"id\":\"1703\",\"type\":\"BoxZoomTool\"},{\"attributes\":{\"data_source\":{\"id\":\"1715\"},\"glyph\":{\"id\":\"1716\"},\"hover_glyph\":null,\"muted_glyph\":null,\"nonselection_glyph\":{\"id\":\"1717\"},\"selection_glyph\":null,\"view\":{\"id\":\"1719\"}},\"id\":\"1718\",\"type\":\"GlyphRenderer\"},{\"attributes\":{\"label\":{\"value\":\"inside_H\"},\"renderers\":[{\"id\":\"1749\"}]},\"id\":\"1763\",\"type\":\"LegendItem\"},{\"attributes\":{\"line_alpha\":0.1,\"line_color\":\"#8c564b\",\"line_width\":2,\"x\":{\"field\":\"x\"},\"y\":{\"field\":\"y\"}},\"id\":\"1786\",\"type\":\"Line\"},{\"attributes\":{},\"id\":\"1704\",\"type\":\"SaveTool\"},{\"attributes\":{},\"id\":\"1761\",\"type\":\"Selection\"},{\"attributes\":{\"data_source\":{\"id\":\"1764\"},\"glyph\":{\"id\":\"1765\"},\"hover_glyph\":null,\"muted_glyph\":null,\"nonselection_glyph\":{\"id\":\"1766\"},\"selection_glyph\":null,\"view\":{\"id\":\"1768\"}},\"id\":\"1767\",\"type\":\"GlyphRenderer\"},{\"attributes\":{\"source\":{\"id\":\"1715\"}},\"id\":\"1719\",\"type\":\"CDSView\"},{\"attributes\":{},\"id\":\"1705\",\"type\":\"ResetTool\"},{\"attributes\":{},\"id\":\"1687\",\"type\":\"DataRange1d\"},{\"attributes\":{\"data\":{\"x\":{\"__ndarray__\":\"AAAAAAAAAAD0kcwotrK2P/SRzCi2ssY/d22ZnggG0T/0kcwotrLWP3K2/7JjX9w/d22ZnggG4T+2/7JjX9zjP/SRzCi2suY/MyTm7QyJ6T9ytv+yY1/sP7BIGXi6Ne8/d22ZnggG8T+WNiYBNHHyP7b/smNf3PM/1sg/xopH9T/0kcwotrL2PxNbWYvhHfg/MyTm7QyJ+T9T7XJQOPT6P3K2/7JjX/w/kH+MFY/K/T+wSBl4ujX/P+gIU+1yUABAd22ZnggGAUAG0t9PnrsBQJY2JgE0cQJAJptssskmA0C2/7JjX9wDQEVk+RT1kQRA1sg/xopHBUBlLYZ3IP0FQPSRzCi2sgZAhPYS2ktoB0ATW1mL4R0IQKS/nzx30whAMyTm7QyJCUDCiCyfoj4KQFPtclA49ApA4lG5Ac6pC0Bytv+yY18MQAEbRmT5FA1AkH+MFY/KDUAh5NLGJIAOQLBIGXi6NQ9AQK1fKVDrD0DoCFPtclAQQDA79sU9qxBAd22ZnggGEUC/nzx302ARQAbS30+euxFATwSDKGkWEkCWNiYBNHESQN9oydn+yxJAJptssskmE0BuzQ+LlIETQLb/smNf3BNA/jFWPCo3FEBFZPkU9ZEUQI2WnO2/7BRA1sg/xopHFUAe++KeVaIVQGUthncg/RVArV8pUOtXFkD0kcwotrIWQD3EbwGBDRdAhPYS2ktoF0DMKLayFsMXQBNbWYvhHRhAXI38Y6x4GECkv588d9MYQOzxQhVCLhlAMyTm7QyJGUB7VonG1+MZQMKILJ+iPhpAC7vPd22ZGkBT7XJQOPQaQJsfFikDTxtA4lG5Ac6pG0AqhFzamAQcQHK2/7JjXxxAuuiiiy66HEABG0Zk+RQdQElN6TzEbx1AkH+MFY/KHUDasS/uWSUeQCHk0sYkgB5AaRZ2n+/aHkCwSBl4ujUfQPl6vFCFkB9AQK1fKVDrH0DEbwGBDSMgQOgIU+1yUCBADKKkWdh9IEAwO/bFPasgQFTURzKj2CBAd22ZnggGIUCcBusKbjMhQL+fPHfTYCFA4ziO4ziOIUA=\",\"dtype\":\"float64\",\"order\":\"little\",\"shape\":[100]},\"y\":{\"__ndarray__\":\"AAAAAAAAAADWsMszipIGQB7na+WdfCVAvTUZf2wdNUC4mozAUNI/QHMNuBv+5ERAxAc39OBtSUCuvzd2xoxNQGN3S+2rpVBAeRpDfDBZUkDirzAF8ORTQFsoIjiMTFVAAeHb31GTVkDSnraiQLxXQPN6yA0SylhAHNWp+z+/WUDzNFdlCp5aQF/5hat8aFtAdOLyY3IgXEAvXrK2m8dcQDk3bFWBX11AKJfZFYjpXUCPUwU49GZeQMNl7F/s2F5AURn9SXxAX0DsTn0/l55fQP9Q81Ia9F9AU3kwM+cgYEBEzB4CNURgQJx8y4VJZGBAj5L1GnCBYEAbZaQ87ZtgQFD89yT/s2BAJ0x1X97JYEB+j8pNvt1gQGzBeqDN72BAPbSFxDYAYUCf2UlHIA9hQCGPxzCtHGFA+2IUVv0oYUCbFz2kLTRhQNQ5CWRYPmFAWonRd5VHYUB3d5qT+k9hQDt1DXCbV2FAr1/N+IleYUCJwJN21mRhQIm2abWPamFAkbJyJ8NvYUCLuoQEfXRhQN9M02bIeGFAy6cGZa98YUC/tvEpO4BhQKYbGgp0g2FAdx5Kl2GGYUDZIliyColhQNJvT5t1i2FAiZggAKiNYUAk0fYJp49hQPd2WGl3kWFAPL0rYR2TYUC0XbnQnJRhQCh6xDz5lWFAV+bN1zWXYUAYmJuJVZhhQNHkBvZamWFAglAyg0iaYUAozCpfIJthQEkRCYXkm2FARKSWwZacYUD7sYm3OJ1hQOA+XOPLnWFArMbJnlGeYUAq/Psjy55hQBeka5A5n2FAdoWA552fYUCJAPMU+Z9hQCC/9O5LoGFAsD0oOJegYUBAB2qh26BhQBJkZ8sZoWFAoZ08SFKhYUCue5KchaFhQNVt+0C0oWFA9nsMo96hYUCka1UmBaJhQEgXSyUoomFAIO4o8keiYUDH4aXXZKJhQGvMoBl/omFAWDfH9ZaiYUCZ7SekrKJhQJZFs1fAomFAzzGxPtKiYUBFBy+D4qJhQGaKY0vxomFAThcJuv6iYUD3T67uCqNhQLSu/wUWo2FAUwYLGiCjYUA=\",\"dtype\":\"float64\",\"order\":\"little\",\"shape\":[100]}},\"selected\":{\"id\":\"1781\"},\"selection_policy\":{\"id\":\"1780\"}},\"id\":\"1764\",\"type\":\"ColumnDataSource\"},{\"attributes\":{},\"id\":\"1802\",\"type\":\"UnionRenderers\"},{\"attributes\":{\"click_policy\":\"hide\",\"items\":[{\"id\":\"1729\"},{\"id\":\"1745\"},{\"id\":\"1763\"},{\"id\":\"1783\"},{\"id\":\"1805\"}],\"location\":\"center_right\"},\"id\":\"1728\",\"type\":\"Legend\"},{\"attributes\":{\"line_color\":\"#9367bc\",\"line_width\":2,\"x\":{\"field\":\"x\"},\"y\":{\"field\":\"y\"}},\"id\":\"1765\",\"type\":\"Line\"},{\"attributes\":{},\"id\":\"1706\",\"type\":\"HelpTool\"},{\"attributes\":{},\"id\":\"1689\",\"type\":\"LinearScale\"},{\"attributes\":{\"label\":{\"value\":\"bound proton pump\"},\"renderers\":[{\"id\":\"1787\"}]},\"id\":\"1805\",\"type\":\"LegendItem\"},{\"attributes\":{},\"id\":\"1724\",\"type\":\"BasicTickFormatter\"},{\"attributes\":{\"active_drag\":\"auto\",\"active_inspect\":\"auto\",\"active_multi\":null,\"active_scroll\":\"auto\",\"active_tap\":\"auto\",\"tools\":[{\"id\":\"1701\"},{\"id\":\"1702\"},{\"id\":\"1703\"},{\"id\":\"1704\"},{\"id\":\"1705\"},{\"id\":\"1706\"}]},\"id\":\"1708\",\"type\":\"Toolbar\"},{\"attributes\":{},\"id\":\"1691\",\"type\":\"LinearScale\"},{\"attributes\":{\"line_alpha\":0.1,\"line_color\":\"#9367bc\",\"line_width\":2,\"x\":{\"field\":\"x\"},\"y\":{\"field\":\"y\"}},\"id\":\"1766\",\"type\":\"Line\"},{\"attributes\":{},\"id\":\"1722\",\"type\":\"BasicTickFormatter\"},{\"attributes\":{},\"id\":\"1725\",\"type\":\"UnionRenderers\"},{\"attributes\":{\"axis_label\":\"time (hrs)\",\"formatter\":{\"id\":\"1724\"},\"ticker\":{\"id\":\"1694\"}},\"id\":\"1693\",\"type\":\"LinearAxis\"}],\"root_ids\":[\"1682\"]},\"title\":\"Bokeh Application\",\"version\":\"2.2.1\"}};\n",
       "  var render_items = [{\"docid\":\"5353bf8b-0684-4cbf-869e-a65ee35dae28\",\"root_ids\":[\"1682\"],\"roots\":{\"1682\":\"8449128f-5844-4788-9201-e2d05368ba4f\"}}];\n",
       "  root.Bokeh.embed.embed_items_notebook(docs_json, render_items);\n",
       "\n",
       "  }\n",
       "  if (root.Bokeh !== undefined) {\n",
       "    embed_document(root);\n",
       "  } else {\n",
       "    var attempts = 0;\n",
       "    var timer = setInterval(function(root) {\n",
       "      if (root.Bokeh !== undefined) {\n",
       "        clearInterval(timer);\n",
       "        embed_document(root);\n",
       "      } else {\n",
       "        attempts++;\n",
       "        if (attempts > 100) {\n",
       "          clearInterval(timer);\n",
       "          console.log(\"Bokeh: ERROR: Unable to run BokehJS code because BokehJS library is missing\");\n",
       "        }\n",
       "      }\n",
       "    }, 10, root)\n",
       "  }\n",
       "})(window);"
      ],
      "application/vnd.bokehjs_exec.v0+json": ""
     },
     "metadata": {
      "application/vnd.bokehjs_exec.v0+json": {
       "id": "1682"
      }
     },
     "output_type": "display_data"
    },
    {
     "data": {
      "text/html": [
       "\n",
       "\n",
       "\n",
       "\n",
       "\n",
       "\n",
       "  <div class=\"bk-root\" id=\"2fa286cf-bd00-4fce-9ad1-b06c7b53376e\" data-root-id=\"1185\"></div>\n"
      ]
     },
     "metadata": {},
     "output_type": "display_data"
    },
    {
     "data": {
      "application/javascript": [
       "(function(root) {\n",
       "  function embed_document(root) {\n",
       "    \n",
       "  var docs_json = {\"b21aaf41-2bce-4ab8-b933-16e4df685803\":{\"roots\":{\"references\":[{\"attributes\":{\"below\":[{\"id\":\"1196\"}],\"center\":[{\"id\":\"1199\"},{\"id\":\"1203\"},{\"id\":\"1231\"}],\"left\":[{\"id\":\"1200\"}],\"plot_height\":350,\"plot_width\":450,\"renderers\":[{\"id\":\"1221\"},{\"id\":\"1236\"},{\"id\":\"1809\"}],\"title\":{\"id\":\"1920\"},\"toolbar\":{\"id\":\"1211\"},\"x_range\":{\"id\":\"1188\"},\"x_scale\":{\"id\":\"1192\"},\"y_range\":{\"id\":\"1190\"},\"y_scale\":{\"id\":\"1194\"}},\"id\":\"1185\",\"subtype\":\"Figure\",\"type\":\"Plot\"},{\"attributes\":{},\"id\":\"1227\",\"type\":\"BasicTickFormatter\"},{\"attributes\":{},\"id\":\"1229\",\"type\":\"Selection\"},{\"attributes\":{\"data\":{\"x\":{\"__ndarray__\":\"AAAAAAAAAAD0kcwotrK2P/SRzCi2ssY/d22ZnggG0T/0kcwotrLWP3K2/7JjX9w/d22ZnggG4T+2/7JjX9zjP/SRzCi2suY/MyTm7QyJ6T9ytv+yY1/sP7BIGXi6Ne8/d22ZnggG8T+WNiYBNHHyP7b/smNf3PM/1sg/xopH9T/0kcwotrL2PxNbWYvhHfg/MyTm7QyJ+T9T7XJQOPT6P3K2/7JjX/w/kH+MFY/K/T+wSBl4ujX/P+gIU+1yUABAd22ZnggGAUAG0t9PnrsBQJY2JgE0cQJAJptssskmA0C2/7JjX9wDQEVk+RT1kQRA1sg/xopHBUBlLYZ3IP0FQPSRzCi2sgZAhPYS2ktoB0ATW1mL4R0IQKS/nzx30whAMyTm7QyJCUDCiCyfoj4KQFPtclA49ApA4lG5Ac6pC0Bytv+yY18MQAEbRmT5FA1AkH+MFY/KDUAh5NLGJIAOQLBIGXi6NQ9AQK1fKVDrD0DoCFPtclAQQDA79sU9qxBAd22ZnggGEUC/nzx302ARQAbS30+euxFATwSDKGkWEkCWNiYBNHESQN9oydn+yxJAJptssskmE0BuzQ+LlIETQLb/smNf3BNA/jFWPCo3FEBFZPkU9ZEUQI2WnO2/7BRA1sg/xopHFUAe++KeVaIVQGUthncg/RVArV8pUOtXFkD0kcwotrIWQD3EbwGBDRdAhPYS2ktoF0DMKLayFsMXQBNbWYvhHRhAXI38Y6x4GECkv588d9MYQOzxQhVCLhlAMyTm7QyJGUB7VonG1+MZQMKILJ+iPhpAC7vPd22ZGkBT7XJQOPQaQJsfFikDTxtA4lG5Ac6pG0AqhFzamAQcQHK2/7JjXxxAuuiiiy66HEABG0Zk+RQdQElN6TzEbx1AkH+MFY/KHUDasS/uWSUeQCHk0sYkgB5AaRZ2n+/aHkCwSBl4ujUfQPl6vFCFkB9AQK1fKVDrH0DEbwGBDSMgQOgIU+1yUCBADKKkWdh9IEAwO/bFPasgQFTURzKj2CBAd22ZnggGIUCcBusKbjMhQL+fPHfTYCFA4ziO4ziOIUA=\",\"dtype\":\"float64\",\"order\":\"little\",\"shape\":[100]},\"y\":{\"__ndarray__\":\"AAAAAAAAJEDV+YQ6GrgjQNf5hDoauCNA1/mEOhq4I0DX+YQ6GrgjQNb5hDoauCNA1/mEOhq4I0DX+YQ6GrgjQNf5hDoauCNA1/mEOhq4I0DW+YQ6GrgjQNf5hDoauCNA2PmEOhq4I0DY+YQ6GrgjQNj5hDoauCNA2PmEOhq4I0DY+YQ6GrgjQNj5hDoauCNA2PmEOhq4I0DZ+YQ6GrgjQNf5hDoauCNA2PmEOhq4I0DX+YQ6GrgjQNf5hDoauCNA1/mEOhq4I0DX+YQ6GrgjQNf5hDoauCNA1vmEOhq4I0DW+YQ6GrgjQNb5hDoauCNA1vmEOhq4I0DW+YQ6GrgjQNb5hDoauCNA1vmEOhq4I0DV+YQ6GrgjQNX5hDoauCNA1fmEOhq4I0DV+YQ6GrgjQNX5hDoauCNA1fmEOhq4I0DV+YQ6GrgjQNX5hDoauCNA1/mEOhq4I0DX+YQ6GrgjQNf5hDoauCNA1/mEOhq4I0DX+YQ6GrgjQNf5hDoauCNA1/mEOhq4I0DX+YQ6GrgjQNf5hDoauCNA1/mEOhq4I0DX+YQ6GrgjQNf5hDoauCNA1/mEOhq4I0DX+YQ6GrgjQNf5hDoauCNA1/mEOhq4I0DX+YQ6GrgjQNf5hDoauCNA1/mEOhq4I0DX+YQ6GrgjQNf5hDoauCNA1/mEOhq4I0DX+YQ6GrgjQNb5hDoauCNA1fmEOhq4I0DV+YQ6GrgjQNT5hDoauCNA1fmEOhq4I0Dp+YQ6GrgjQMn5hDoauCNAxPmEOhq4I0DW+YQ6GrgjQNT5hDoauCNA1PmEOhq4I0DJ+YQ6GrgjQOr5hDoauCNAL/qEOhq4I0DU+YQ6GrgjQNT5hDoauCNA1PmEOhq4I0DU+YQ6GrgjQNX5hDoauCNA1fmEOhq4I0DW+YQ6GrgjQNT5hDoauCNA1/mEOhq4I0AC+oQ6GrgjQM35hDoauCNA3fmEOhq4I0DT+YQ6GrgjQNf5hDoauCNA1vmEOhq4I0DW+YQ6GrgjQNb5hDoauCNA1vmEOhq4I0DW+YQ6GrgjQNX5hDoauCNA1/mEOhq4I0A=\",\"dtype\":\"float64\",\"order\":\"little\",\"shape\":[100]}},\"selected\":{\"id\":\"1843\"},\"selection_policy\":{\"id\":\"1842\"}},\"id\":\"1806\",\"type\":\"ColumnDataSource\"},{\"attributes\":{},\"id\":\"1209\",\"type\":\"HelpTool\"},{\"attributes\":{\"line_color\":\"#1f77b3\",\"line_width\":2,\"x\":{\"field\":\"x\"},\"y\":{\"field\":\"y\"}},\"id\":\"1219\",\"type\":\"Line\"},{\"attributes\":{\"source\":{\"id\":\"1806\"}},\"id\":\"1810\",\"type\":\"CDSView\"},{\"attributes\":{\"label\":{\"value\":\"ATP Synthase, ATP Use\"},\"renderers\":[{\"id\":\"1221\"}]},\"id\":\"1232\",\"type\":\"LegendItem\"},{\"attributes\":{\"data_source\":{\"id\":\"1218\"},\"glyph\":{\"id\":\"1219\"},\"hover_glyph\":null,\"muted_glyph\":null,\"nonselection_glyph\":{\"id\":\"1220\"},\"selection_glyph\":null,\"view\":{\"id\":\"1222\"}},\"id\":\"1221\",\"type\":\"GlyphRenderer\"},{\"attributes\":{\"line_alpha\":0.1,\"line_color\":\"#9367bc\",\"line_width\":2,\"x\":{\"field\":\"x\"},\"y\":{\"field\":\"y\"}},\"id\":\"1808\",\"type\":\"Line\"},{\"attributes\":{\"label\":{\"value\":\"ATP Synthase, Proton Pump, ATP Use\"},\"renderers\":[{\"id\":\"1809\"}]},\"id\":\"1871\",\"type\":\"LegendItem\"},{\"attributes\":{\"active_drag\":\"auto\",\"active_inspect\":\"auto\",\"active_multi\":null,\"active_scroll\":\"auto\",\"active_tap\":\"auto\",\"tools\":[{\"id\":\"1204\"},{\"id\":\"1205\"},{\"id\":\"1206\"},{\"id\":\"1207\"},{\"id\":\"1208\"},{\"id\":\"1209\"}]},\"id\":\"1211\",\"type\":\"Toolbar\"},{\"attributes\":{},\"id\":\"1188\",\"type\":\"DataRange1d\"},{\"attributes\":{},\"id\":\"1204\",\"type\":\"PanTool\"},{\"attributes\":{\"data_source\":{\"id\":\"1233\"},\"glyph\":{\"id\":\"1234\"},\"hover_glyph\":null,\"muted_glyph\":null,\"nonselection_glyph\":{\"id\":\"1235\"},\"selection_glyph\":null,\"view\":{\"id\":\"1237\"}},\"id\":\"1236\",\"type\":\"GlyphRenderer\"},{\"attributes\":{},\"id\":\"1245\",\"type\":\"UnionRenderers\"},{\"attributes\":{},\"id\":\"1205\",\"type\":\"WheelZoomTool\"},{\"attributes\":{\"line_alpha\":0.1,\"line_color\":\"#1f77b3\",\"line_width\":2,\"x\":{\"field\":\"x\"},\"y\":{\"field\":\"y\"}},\"id\":\"1220\",\"type\":\"Line\"},{\"attributes\":{\"data\":{\"x\":{\"__ndarray__\":\"AAAAAAAAAAD0kcwotrK2P/SRzCi2ssY/d22ZnggG0T/0kcwotrLWP3K2/7JjX9w/d22ZnggG4T+2/7JjX9zjP/SRzCi2suY/MyTm7QyJ6T9ytv+yY1/sP7BIGXi6Ne8/d22ZnggG8T+WNiYBNHHyP7b/smNf3PM/1sg/xopH9T/0kcwotrL2PxNbWYvhHfg/MyTm7QyJ+T9T7XJQOPT6P3K2/7JjX/w/kH+MFY/K/T+wSBl4ujX/P+gIU+1yUABAd22ZnggGAUAG0t9PnrsBQJY2JgE0cQJAJptssskmA0C2/7JjX9wDQEVk+RT1kQRA1sg/xopHBUBlLYZ3IP0FQPSRzCi2sgZAhPYS2ktoB0ATW1mL4R0IQKS/nzx30whAMyTm7QyJCUDCiCyfoj4KQFPtclA49ApA4lG5Ac6pC0Bytv+yY18MQAEbRmT5FA1AkH+MFY/KDUAh5NLGJIAOQLBIGXi6NQ9AQK1fKVDrD0DoCFPtclAQQDA79sU9qxBAd22ZnggGEUC/nzx302ARQAbS30+euxFATwSDKGkWEkCWNiYBNHESQN9oydn+yxJAJptssskmE0BuzQ+LlIETQLb/smNf3BNA/jFWPCo3FEBFZPkU9ZEUQI2WnO2/7BRA1sg/xopHFUAe++KeVaIVQGUthncg/RVArV8pUOtXFkD0kcwotrIWQD3EbwGBDRdAhPYS2ktoF0DMKLayFsMXQBNbWYvhHRhAXI38Y6x4GECkv588d9MYQOzxQhVCLhlAMyTm7QyJGUB7VonG1+MZQMKILJ+iPhpAC7vPd22ZGkBT7XJQOPQaQJsfFikDTxtA4lG5Ac6pG0AqhFzamAQcQHK2/7JjXxxAuuiiiy66HEABG0Zk+RQdQElN6TzEbx1AkH+MFY/KHUDasS/uWSUeQCHk0sYkgB5AaRZ2n+/aHkCwSBl4ujUfQPl6vFCFkB9AQK1fKVDrH0DEbwGBDSMgQOgIU+1yUCBADKKkWdh9IEAwO/bFPasgQFTURzKj2CBAd22ZnggGIUCcBusKbjMhQL+fPHfTYCFA4ziO4ziOIUA=\",\"dtype\":\"float64\",\"order\":\"little\",\"shape\":[100]},\"y\":{\"__ndarray__\":\"AAAAAAAAJEAVXf4fOi2FuoWDYJE423C6TzNPSP8Mt7lfKWkHEQClubNhgGMZRNa4qwlEqyA81biisQfzJzTUuJpZyzovLNO4kQGPgjYk0riIqVLKPRzRuH9RFhJFFNC47vKzs5gYzrjfQjtDpwjMuMySwtK1+Mm4u+JJYsTox7iqMtHx0tjFuJqCWIHhyMO4iNLfEPC4wbjsRM5A/VG/uMvk3F8aMru4qoTrfjcSt7iHJPqdVPKyuMWIEXrjpK24g8guuB1lpbiFEJjsr0qauAUgpdFIloO4EUt5opQB37dGWVa4y43dt3tnM84CGty3rXUQ5Dmm2rfig+35cDLZtxaSyg+ovte3S6CnJd9K1reAroQ7FtfUt7K8YVFNY9O358o+Z4Tv0bcc2Rt9u3vQt5zO8SXlD863BeurUVMoy7dvB2Z9wUDIt9gjIKkvWcW3QUDa1J1xwrdMuSgBGBS/tx7ynFj0RLm38CoRsNB1s7d0xwoPWk2rtzNy5nslXp+3+6pusy1DgLfvjIlUedLNtsmTph1Hr822pJrD5hSMzbaAoeCv4mjNtlmo/XiwRc22M68aQn4izbYNtjcLTP/Mtui8VNQZ3My2w8Nxnee4zLaeyo5mtZXMtnjRqy+Dcsy2UtjI+FBPzLYt3+XBHizMtgfmAovsCMy24ewfVLrly7a88zwdiMLLtpf6WeZVn8u2cQF3ryN8y7ZLCJR48VjLticPsUG/Ncu2ABbOCo0Sy7bbHOvTWu/KtrYjCJ0ozMq2kColZvaoyrZrMUIvxIXKtkU4X/iRYsq2Hz98wV8/yrb6RZmKLRzKttRMtlP7+Mm2rlPTHMnVybaKWvDllrLJtmRhDa9kj8m2PmgqeDJsybYZb0dBAEnJtvR1ZArOJcm2znyB05sCybaog56cad/ItoOKu2U3vMi2XZHYLgWZyLY3mPX30nXIthOfEsGgUsi27aUvim4vyLbHrExTPAzItqKzaRwK6ce2fLqG5dfFx7ZWwaOupaLHtjHIwHdzf8e2C8/dQEFcx7bm1foJDznHtsHcF9PcFce2muM0nKryxrY=\",\"dtype\":\"float64\",\"order\":\"little\",\"shape\":[100]}},\"selected\":{\"id\":\"1246\"},\"selection_policy\":{\"id\":\"1245\"}},\"id\":\"1233\",\"type\":\"ColumnDataSource\"},{\"attributes\":{},\"id\":\"1842\",\"type\":\"UnionRenderers\"},{\"attributes\":{\"overlay\":{\"id\":\"1210\"}},\"id\":\"1206\",\"type\":\"BoxZoomTool\"},{\"attributes\":{},\"id\":\"1843\",\"type\":\"Selection\"},{\"attributes\":{\"source\":{\"id\":\"1233\"}},\"id\":\"1237\",\"type\":\"CDSView\"},{\"attributes\":{},\"id\":\"1208\",\"type\":\"ResetTool\"},{\"attributes\":{\"text\":\"Compare ATP All\"},\"id\":\"1920\",\"type\":\"Title\"},{\"attributes\":{\"line_color\":\"#9367bc\",\"line_width\":2,\"x\":{\"field\":\"x\"},\"y\":{\"field\":\"y\"}},\"id\":\"1807\",\"type\":\"Line\"},{\"attributes\":{},\"id\":\"1190\",\"type\":\"DataRange1d\"},{\"attributes\":{\"line_alpha\":0.1,\"line_color\":\"#ff7e0e\",\"line_width\":2,\"x\":{\"field\":\"x\"},\"y\":{\"field\":\"y\"}},\"id\":\"1235\",\"type\":\"Line\"},{\"attributes\":{},\"id\":\"1207\",\"type\":\"SaveTool\"},{\"attributes\":{\"label\":{\"value\":\"ATP Use\"},\"renderers\":[{\"id\":\"1236\"}]},\"id\":\"1248\",\"type\":\"LegendItem\"},{\"attributes\":{},\"id\":\"1192\",\"type\":\"LinearScale\"},{\"attributes\":{},\"id\":\"1246\",\"type\":\"Selection\"},{\"attributes\":{},\"id\":\"1194\",\"type\":\"LinearScale\"},{\"attributes\":{\"bottom_units\":\"screen\",\"fill_alpha\":0.5,\"fill_color\":\"lightgrey\",\"left_units\":\"screen\",\"level\":\"overlay\",\"line_alpha\":1.0,\"line_color\":\"black\",\"line_dash\":[4,4],\"line_width\":2,\"right_units\":\"screen\",\"top_units\":\"screen\"},\"id\":\"1210\",\"type\":\"BoxAnnotation\"},{\"attributes\":{\"axis_label\":\"time (hr)\",\"formatter\":{\"id\":\"1227\"},\"ticker\":{\"id\":\"1197\"}},\"id\":\"1196\",\"type\":\"LinearAxis\"},{\"attributes\":{\"axis\":{\"id\":\"1200\"},\"dimension\":1,\"ticker\":null},\"id\":\"1203\",\"type\":\"Grid\"},{\"attributes\":{\"data\":{\"x\":{\"__ndarray__\":\"AAAAAAAAAAD0kcwotrK2P/SRzCi2ssY/d22ZnggG0T/0kcwotrLWP3K2/7JjX9w/d22ZnggG4T+2/7JjX9zjP/SRzCi2suY/MyTm7QyJ6T9ytv+yY1/sP7BIGXi6Ne8/d22ZnggG8T+WNiYBNHHyP7b/smNf3PM/1sg/xopH9T/0kcwotrL2PxNbWYvhHfg/MyTm7QyJ+T9T7XJQOPT6P3K2/7JjX/w/kH+MFY/K/T+wSBl4ujX/P+gIU+1yUABAd22ZnggGAUAG0t9PnrsBQJY2JgE0cQJAJptssskmA0C2/7JjX9wDQEVk+RT1kQRA1sg/xopHBUBlLYZ3IP0FQPSRzCi2sgZAhPYS2ktoB0ATW1mL4R0IQKS/nzx30whAMyTm7QyJCUDCiCyfoj4KQFPtclA49ApA4lG5Ac6pC0Bytv+yY18MQAEbRmT5FA1AkH+MFY/KDUAh5NLGJIAOQLBIGXi6NQ9AQK1fKVDrD0DoCFPtclAQQDA79sU9qxBAd22ZnggGEUC/nzx302ARQAbS30+euxFATwSDKGkWEkCWNiYBNHESQN9oydn+yxJAJptssskmE0BuzQ+LlIETQLb/smNf3BNA/jFWPCo3FEBFZPkU9ZEUQI2WnO2/7BRA1sg/xopHFUAe++KeVaIVQGUthncg/RVArV8pUOtXFkD0kcwotrIWQD3EbwGBDRdAhPYS2ktoF0DMKLayFsMXQBNbWYvhHRhAXI38Y6x4GECkv588d9MYQOzxQhVCLhlAMyTm7QyJGUB7VonG1+MZQMKILJ+iPhpAC7vPd22ZGkBT7XJQOPQaQJsfFikDTxtA4lG5Ac6pG0AqhFzamAQcQHK2/7JjXxxAuuiiiy66HEABG0Zk+RQdQElN6TzEbx1AkH+MFY/KHUDasS/uWSUeQCHk0sYkgB5AaRZ2n+/aHkCwSBl4ujUfQPl6vFCFkB9AQK1fKVDrH0DEbwGBDSMgQOgIU+1yUCBADKKkWdh9IEAwO/bFPasgQFTURzKj2CBAd22ZnggGIUCcBusKbjMhQL+fPHfTYCFA4ziO4ziOIUA=\",\"dtype\":\"float64\",\"order\":\"little\",\"shape\":[100]},\"y\":{\"__ndarray__\":\"AAAAAAAAJED4//////8fQM///////x9A9v//////H0Dy//////8fQPn//////x9A9f//////H0D2//////8fQPf//////x9A+P//////H0D3//////8fQPn//////x9A+P//////H0D+//////8fQPn//////x9A7P//////H0D4//////8fQPf//////x9A9///////H0D4//////8fQPj//////x9A9///////H0D2//////8fQPb//////x9A9f//////H0Du//////8fQPz//////x9ACAAAAAAAIEC5/v////8fQCDm/////x9AXcH+////H0B+7f3///8fQLTC/////x9A+f//////H0Ds//////8fQAgAAAAAACBAcQAAAAAAIECfAAAAAAAgQI/x/////x9AvZb/////H0A4xf////8fQGmRAwAAACBAP8UXAAAAIEAN39T///8fQL3s+f///x9A/f//////H0C5//////8fQBQAAAAAACBAmv//////H0B8/f////8fQCgDAAAAACBACQoAAAAAIECvmf////8fQNa0/////x9ACt4CAAAAIEBb3wIAAAAgQD3WDgAAACBAREwHAAAAIED5zfT///8fQGfNAAAAACBA6f//////H0D///////8fQPX//////x9A9f//////H0Dd//////8fQB8AAAAAACBAQP//////H0ClAAAAAAAgQD3+/////x9A1P7/////H0BIEQAAAAAgQJOd/////x9A2M0AAAAAIEAv1v////8fQFcWAAAAACBAvQAAAAAAIECDlP////8fQCYQAAAAACBAdBb/////H0ADgwAAAAAgQKzT/v///x9AAIoAAAAAIEBpOAAAAAAgQDtJ+v///x9ALO8JAAAAIEDVm5H///8fQEIYIAAAACBA0rb2////H0DkF9b///8fQHNt0v///x9Au+AGAAAAIEBsqvL///8fQOgiAAAAACBAs3MBAAAAIEArEP7///8fQLtiAAAAACBA7fj/////H0Ckt/////8fQOn//////x9A8P//////H0A=\",\"dtype\":\"float64\",\"order\":\"little\",\"shape\":[100]}},\"selected\":{\"id\":\"1229\"},\"selection_policy\":{\"id\":\"1228\"}},\"id\":\"1218\",\"type\":\"ColumnDataSource\"},{\"attributes\":{},\"id\":\"1197\",\"type\":\"BasicTicker\"},{\"attributes\":{\"axis\":{\"id\":\"1196\"},\"ticker\":null},\"id\":\"1199\",\"type\":\"Grid\"},{\"attributes\":{\"data_source\":{\"id\":\"1806\"},\"glyph\":{\"id\":\"1807\"},\"hover_glyph\":null,\"muted_glyph\":null,\"nonselection_glyph\":{\"id\":\"1808\"},\"selection_glyph\":null,\"view\":{\"id\":\"1810\"}},\"id\":\"1809\",\"type\":\"GlyphRenderer\"},{\"attributes\":{},\"id\":\"1225\",\"type\":\"BasicTickFormatter\"},{\"attributes\":{\"items\":[{\"id\":\"1232\"},{\"id\":\"1248\"},{\"id\":\"1871\"}],\"location\":\"center_right\"},\"id\":\"1231\",\"type\":\"Legend\"},{\"attributes\":{},\"id\":\"1201\",\"type\":\"BasicTicker\"},{\"attributes\":{\"axis_label\":\"concentration (nM)\",\"formatter\":{\"id\":\"1225\"},\"ticker\":{\"id\":\"1201\"}},\"id\":\"1200\",\"type\":\"LinearAxis\"},{\"attributes\":{\"source\":{\"id\":\"1218\"}},\"id\":\"1222\",\"type\":\"CDSView\"},{\"attributes\":{\"line_color\":\"#ff7e0e\",\"line_width\":2,\"x\":{\"field\":\"x\"},\"y\":{\"field\":\"y\"}},\"id\":\"1234\",\"type\":\"Line\"},{\"attributes\":{},\"id\":\"1228\",\"type\":\"UnionRenderers\"}],\"root_ids\":[\"1185\"]},\"title\":\"Bokeh Application\",\"version\":\"2.2.1\"}};\n",
       "  var render_items = [{\"docid\":\"b21aaf41-2bce-4ab8-b933-16e4df685803\",\"root_ids\":[\"1185\"],\"roots\":{\"1185\":\"2fa286cf-bd00-4fce-9ad1-b06c7b53376e\"}}];\n",
       "  root.Bokeh.embed.embed_items_notebook(docs_json, render_items);\n",
       "\n",
       "  }\n",
       "  if (root.Bokeh !== undefined) {\n",
       "    embed_document(root);\n",
       "  } else {\n",
       "    var attempts = 0;\n",
       "    var timer = setInterval(function(root) {\n",
       "      if (root.Bokeh !== undefined) {\n",
       "        clearInterval(timer);\n",
       "        embed_document(root);\n",
       "      } else {\n",
       "        attempts++;\n",
       "        if (attempts > 100) {\n",
       "          clearInterval(timer);\n",
       "          console.log(\"Bokeh: ERROR: Unable to run BokehJS code because BokehJS library is missing\");\n",
       "        }\n",
       "      }\n",
       "    }, 10, root)\n",
       "  }\n",
       "})(window);"
      ],
      "application/vnd.bokehjs_exec.v0+json": ""
     },
     "metadata": {
      "application/vnd.bokehjs_exec.v0+json": {
       "id": "1185"
      }
     },
     "output_type": "display_data"
    }
   ],
   "source": [
    "plt_timepoints = timepoints/60/60\n",
    "\n",
    "p3 = bokeh.plotting.figure(width = 450, height = 350, title = 'with ATP Synthase, Proton Pump, ATP Use',\n",
    "                          x_axis_label = 'time (hrs)',\n",
    "                          y_axis_label = 'concentration (nM)')\n",
    "plot_list = [ATP_id3, outside_H_id, inside_H_id, atp_synthase_b_protein_id, proton_pump_b_protein_id]\n",
    "plot_str = ['atp', 'outside_H', 'inside_H', 'bound atp synthase', 'bound proton pump']\n",
    "for i,item in enumerate(plot_list):\n",
    "    p3.line(plt_timepoints, results_everything[item], line_width = 2, legend_label = plot_str[i], color = palette[i])\n",
    "\n",
    "p_compare.line(plt_timepoints, results_everything[ATP_id3], line_width = 2, legend_label = 'ATP Synthase, Proton Pump, ATP Use', color = palette[3])\n",
    "#p3.line(plt_timepoints, results_everything[ATP_id3])\n",
    "p3.legend.click_policy = 'hide'\n",
    "p3.legend.location = 'center_right'\n",
    "#p_compare.title = 'Compare ATP All'\n",
    "t = Title()\n",
    "t.text = 'Compare ATP All'\n",
    "p_compare.title = t\n",
    "p_compare.legend.location = 'center_right'\n",
    "bokeh.io.show(p3)\n",
    "bokeh.io.show(p_compare)"
   ]
  },
  {
   "cell_type": "code",
   "execution_count": null,
   "metadata": {},
   "outputs": [],
   "source": []
  },
  {
   "cell_type": "markdown",
   "metadata": {},
   "source": [
    "## Compare with atpsyn + proton pump, only atpsyn, only atpuse (with txtl machinery)\n",
    "---"
   ]
  },
  {
   "cell_type": "code",
   "execution_count": 18,
   "metadata": {},
   "outputs": [
    {
     "data": {
      "text/html": [
       "\n",
       "\n",
       "\n",
       "\n",
       "\n",
       "\n",
       "  <div class=\"bk-root\" id=\"5cf0b416-99b4-467e-8e82-ea8f06a125c1\" data-root-id=\"2173\"></div>\n"
      ]
     },
     "metadata": {},
     "output_type": "display_data"
    },
    {
     "data": {
      "application/javascript": [
       "(function(root) {\n",
       "  function embed_document(root) {\n",
       "    \n",
       "  var docs_json = {\"d4f7da33-3f02-4e98-807c-0fe91161809f\":{\"roots\":{\"references\":[{\"attributes\":{\"children\":[{\"id\":\"1682\"},{\"id\":\"1035\"},{\"id\":\"1137\"}]},\"id\":\"2173\",\"type\":\"Row\"},{\"attributes\":{},\"id\":\"1075\",\"type\":\"BasicTickFormatter\"},{\"attributes\":{},\"id\":\"1114\",\"type\":\"Selection\"},{\"attributes\":{\"data\":{\"x\":{\"__ndarray__\":\"AAAAAAAAAAD0kcwotrK2P/SRzCi2ssY/d22ZnggG0T/0kcwotrLWP3K2/7JjX9w/d22ZnggG4T+2/7JjX9zjP/SRzCi2suY/MyTm7QyJ6T9ytv+yY1/sP7BIGXi6Ne8/d22ZnggG8T+WNiYBNHHyP7b/smNf3PM/1sg/xopH9T/0kcwotrL2PxNbWYvhHfg/MyTm7QyJ+T9T7XJQOPT6P3K2/7JjX/w/kH+MFY/K/T+wSBl4ujX/P+gIU+1yUABAd22ZnggGAUAG0t9PnrsBQJY2JgE0cQJAJptssskmA0C2/7JjX9wDQEVk+RT1kQRA1sg/xopHBUBlLYZ3IP0FQPSRzCi2sgZAhPYS2ktoB0ATW1mL4R0IQKS/nzx30whAMyTm7QyJCUDCiCyfoj4KQFPtclA49ApA4lG5Ac6pC0Bytv+yY18MQAEbRmT5FA1AkH+MFY/KDUAh5NLGJIAOQLBIGXi6NQ9AQK1fKVDrD0DoCFPtclAQQDA79sU9qxBAd22ZnggGEUC/nzx302ARQAbS30+euxFATwSDKGkWEkCWNiYBNHESQN9oydn+yxJAJptssskmE0BuzQ+LlIETQLb/smNf3BNA/jFWPCo3FEBFZPkU9ZEUQI2WnO2/7BRA1sg/xopHFUAe++KeVaIVQGUthncg/RVArV8pUOtXFkD0kcwotrIWQD3EbwGBDRdAhPYS2ktoF0DMKLayFsMXQBNbWYvhHRhAXI38Y6x4GECkv588d9MYQOzxQhVCLhlAMyTm7QyJGUB7VonG1+MZQMKILJ+iPhpAC7vPd22ZGkBT7XJQOPQaQJsfFikDTxtA4lG5Ac6pG0AqhFzamAQcQHK2/7JjXxxAuuiiiy66HEABG0Zk+RQdQElN6TzEbx1AkH+MFY/KHUDasS/uWSUeQCHk0sYkgB5AaRZ2n+/aHkCwSBl4ujUfQPl6vFCFkB9AQK1fKVDrH0DEbwGBDSMgQOgIU+1yUCBADKKkWdh9IEAwO/bFPasgQFTURzKj2CBAd22ZnggGIUCcBusKbjMhQL+fPHfTYCFA4ziO4ziOIUA=\",\"dtype\":\"float64\",\"order\":\"little\",\"shape\":[100]},\"y\":{\"__ndarray__\":\"AAAAAAAAAAC3lRUIIA/zPx/2fmfOHgdA1pUjZcnREUD9CjJuDIIXQLc7ZdlUrRxATsO0juOvIECtLFAANtIiQK9KiiulwiRALzE2SL+FJkC30bkPqB8oQMWZe3YilClAbrUegpnmKkB0BN5QKBosQFwNx2WhMS1A+JrOSZUvLkAFcQ6SWBYvQMkdDVoJ6C9AGI3PHUpTMEBwcvNq3KkwQIHm0POG+DBAgxuvhQJAMUAd2rUN94AxQF9idyP9uzFAYiBlb5/xMUC1x5TwWyIyQFBnsCSlTjJA8T33FON2MkAJjp9KdJsyQMjN5qyuvDJAWI/vSuDaMkDFTAoTUPYyQHRCaHk+DzNA3WyLD+YlM0AkV7wNfDozQGyWKtAwTTNA/z2hSDBeM0C1wohlom0zQOt812+rezNAadlKYGyIM0DnK9QsA5QzQHXTCQ+LnjNAKOsOxByoM0AxOrTGzrAzQOY2T4S1uDNAAqSqjOO/M0Dtaqe9acYzQCHq22pXzDNAaFuSgbrRM0AmZJepn9YzQB2Qy2IS2zNA7CBFIB3fM0BtyM5gyeIzQN1FPsUf5jNA4+q0JCjpM0Ctmwaf6eszQBThgK1q7jNAohAeMrHwM0AvLlGFwvIzQOcBloKj9DNANnfbk1j2M0AWo+C75fczQBkrpJ9O+TNAE5fwjpb6M0Cg3CqMwPszQDXnW1PP/DNAk4yfYMX9M0DN1vr1pP4zQL5MqyBw/zNAEV74vSgANEAn/Y9/0AA0QAOoie9oATRAC/oCdPMBNEARCGVScQI0QLgsYLLjAjRAFq2ioEsDNEDO1lARqgM0QFhER+L/AzRAmoch3U0ENECVaxG5lAQ0QJm0jBzVBDRAHBzVng8FNEAPOl3JRAU0QNMICxl1BTRAQqJc/6AFNEAhyXLjyAU0QKt3AyPtBTRARtY1Ew4GNEAdkWoBLAY0QHZ28TNHBjRAh+Cu6l8GNEAkf7BfdgY0QBTytseKBjRAem6wUp0GNEDL5TEsrgY0QNXq0Hu9BjRA9NSEZcsGNEDIOPsJ2AY0QL5r6IbjBjRAPLdH9+0GNEA=\",\"dtype\":\"float64\",\"order\":\"little\",\"shape\":[100]}},\"selected\":{\"id\":\"1134\"},\"selection_policy\":{\"id\":\"1133\"}},\"id\":\"1117\",\"type\":\"ColumnDataSource\"},{\"attributes\":{\"text\":\"only ATP Use\"},\"id\":\"1138\",\"type\":\"Title\"},{\"attributes\":{\"line_color\":\"#9367bc\",\"line_width\":2,\"x\":{\"field\":\"x\"},\"y\":{\"field\":\"y\"}},\"id\":\"1118\",\"type\":\"Line\"},{\"attributes\":{},\"id\":\"1077\",\"type\":\"BasicTickFormatter\"},{\"attributes\":{\"data_source\":{\"id\":\"1117\"},\"glyph\":{\"id\":\"1118\"},\"hover_glyph\":null,\"muted_glyph\":null,\"nonselection_glyph\":{\"id\":\"1119\"},\"selection_glyph\":null,\"view\":{\"id\":\"1121\"}},\"id\":\"1120\",\"type\":\"GlyphRenderer\"},{\"attributes\":{\"click_policy\":\"hide\",\"items\":[{\"id\":\"1082\"},{\"id\":\"1098\"},{\"id\":\"1116\"},{\"id\":\"1136\"}],\"location\":\"bottom_right\"},\"id\":\"1081\",\"type\":\"Legend\"},{\"attributes\":{\"below\":[{\"id\":\"1046\"}],\"center\":[{\"id\":\"1049\"},{\"id\":\"1053\"},{\"id\":\"1081\"}],\"left\":[{\"id\":\"1050\"}],\"plot_height\":350,\"plot_width\":450,\"renderers\":[{\"id\":\"1071\"},{\"id\":\"1086\"},{\"id\":\"1102\"},{\"id\":\"1120\"}],\"title\":{\"id\":\"1036\"},\"toolbar\":{\"id\":\"1061\"},\"x_range\":{\"id\":\"1038\"},\"x_scale\":{\"id\":\"1042\"},\"y_range\":{\"id\":\"1040\"},\"y_scale\":{\"id\":\"1044\"}},\"id\":\"1035\",\"subtype\":\"Figure\",\"type\":\"Plot\"},{\"attributes\":{\"source\":{\"id\":\"1068\"}},\"id\":\"1072\",\"type\":\"CDSView\"},{\"attributes\":{\"data\":{\"x\":{\"__ndarray__\":\"AAAAAAAAAAD0kcwotrK2P/SRzCi2ssY/d22ZnggG0T/0kcwotrLWP3K2/7JjX9w/d22ZnggG4T+2/7JjX9zjP/SRzCi2suY/MyTm7QyJ6T9ytv+yY1/sP7BIGXi6Ne8/d22ZnggG8T+WNiYBNHHyP7b/smNf3PM/1sg/xopH9T/0kcwotrL2PxNbWYvhHfg/MyTm7QyJ+T9T7XJQOPT6P3K2/7JjX/w/kH+MFY/K/T+wSBl4ujX/P+gIU+1yUABAd22ZnggGAUAG0t9PnrsBQJY2JgE0cQJAJptssskmA0C2/7JjX9wDQEVk+RT1kQRA1sg/xopHBUBlLYZ3IP0FQPSRzCi2sgZAhPYS2ktoB0ATW1mL4R0IQKS/nzx30whAMyTm7QyJCUDCiCyfoj4KQFPtclA49ApA4lG5Ac6pC0Bytv+yY18MQAEbRmT5FA1AkH+MFY/KDUAh5NLGJIAOQLBIGXi6NQ9AQK1fKVDrD0DoCFPtclAQQDA79sU9qxBAd22ZnggGEUC/nzx302ARQAbS30+euxFATwSDKGkWEkCWNiYBNHESQN9oydn+yxJAJptssskmE0BuzQ+LlIETQLb/smNf3BNA/jFWPCo3FEBFZPkU9ZEUQI2WnO2/7BRA1sg/xopHFUAe++KeVaIVQGUthncg/RVArV8pUOtXFkD0kcwotrIWQD3EbwGBDRdAhPYS2ktoF0DMKLayFsMXQBNbWYvhHRhAXI38Y6x4GECkv588d9MYQOzxQhVCLhlAMyTm7QyJGUB7VonG1+MZQMKILJ+iPhpAC7vPd22ZGkBT7XJQOPQaQJsfFikDTxtA4lG5Ac6pG0AqhFzamAQcQHK2/7JjXxxAuuiiiy66HEABG0Zk+RQdQElN6TzEbx1AkH+MFY/KHUDasS/uWSUeQCHk0sYkgB5AaRZ2n+/aHkCwSBl4ujUfQPl6vFCFkB9AQK1fKVDrH0DEbwGBDSMgQOgIU+1yUCBADKKkWdh9IEAwO/bFPasgQFTURzKj2CBAd22ZnggGIUCcBusKbjMhQL+fPHfTYCFA4ziO4ziOIUA=\",\"dtype\":\"float64\",\"order\":\"little\",\"shape\":[100]},\"y\":{\"__ndarray__\":\"AAAAAAAAJECqKTQtO144vThfYBhoZTa+yua1gEomBj7+ETKOtkwFveCkcQhi3LQ9YNn/b/t9rb2GGQUzBQYDPnL4QU/YX8W9C/2osugUsz2gloZfs0+7PbBb57y+Lxe+r5Q3RHy7J73MzYU/MqmZvWqxsTBO+Ji97lpzUsuvDj4EkaW0hwZyPcQS8+idyoQ8Rl9mMDObT7yDyBojMVe2u2ICEl9oAq+7UUlg0WaPgzsR4il/UypmOy2JMJSBdTg7IFy1AIyANLvZ6tax4xCiu7+rYxFfcqo7MPm2VfiKyTsbLWwz8k4IvEhR1b/5llK8lHnZxOO1kLzel913fMqfvMW7KNqQS228eIpgETjXDDxFM5/xRSscvHJ5Wf1/fge8lDDmChJvNzz+FqlrvHBEPKC7P++DVXi85IX6Uuiorbxo8GIZ/fmxvIzZpJR59/Q89a7QreWLKD3MpWe5N8wlvTjvHbiEIPm8RRP26m4gUTw9/M4YRv1gvEIHAdEpgF48wBULn09+OrxkLoNR1gaGvJA+WvpWdJs8RDzR9HT7uDzMYXZopn3fvEB4j+T3g968gjkAfKlJID0QN4dCP70iPTezhw8ApUY9EtlF1LRXNj1mlRmtoiUxvfd20km5sQM9IRMmPymlQryzyMxymLNIPNhsx2KD9R28j/9RB1WkM7ybTa/9t4ZKvHIGdjx9n2I8BFNj7Q1udbweFuo4otWEPLhRzjDhpIq8qBlbShmthLx0r7ph9QrSPOh1VmmxG+q8DmocIieICz1PW5J1ik7WvL6zszc76Nc8AK3r8+oziTxqmDscX9XsvNDFy+GrStE8FwS6ruxj/7wQfFcSwq8BPYA3c7RxYQS9/MVwsEL2Aj0Az+edZfPrPNjrFwNzgCi9HNK+gdx9RT3I0xftmCtuva1OB7Pcg2E97UYFrXuKM71GVxF5QCNXvXm8h/5HpVi9sEjyVRBgOj05UEitq002vd+vuDigltE8SS6vTsX5AD0qFqiXs6/3vC/uO2X4K/I8Jt8iMh20qLzvEKsrXcjfvCRSVl94uOC7YERIa69brjs=\",\"dtype\":\"float64\",\"order\":\"little\",\"shape\":[100]}},\"selected\":{\"id\":\"1096\"},\"selection_policy\":{\"id\":\"1095\"}},\"id\":\"1083\",\"type\":\"ColumnDataSource\"},{\"attributes\":{\"source\":{\"id\":\"1117\"}},\"id\":\"1121\",\"type\":\"CDSView\"},{\"attributes\":{},\"id\":\"1133\",\"type\":\"UnionRenderers\"},{\"attributes\":{\"line_alpha\":0.1,\"line_color\":\"#9367bc\",\"line_width\":2,\"x\":{\"field\":\"x\"},\"y\":{\"field\":\"y\"}},\"id\":\"1119\",\"type\":\"Line\"},{\"attributes\":{\"text\":\"with ATP Synthase\"},\"id\":\"1036\",\"type\":\"Title\"},{\"attributes\":{\"bottom_units\":\"screen\",\"fill_alpha\":0.5,\"fill_color\":\"lightgrey\",\"left_units\":\"screen\",\"level\":\"overlay\",\"line_alpha\":1.0,\"line_color\":\"black\",\"line_dash\":[4,4],\"line_width\":2,\"right_units\":\"screen\",\"top_units\":\"screen\"},\"id\":\"1162\",\"type\":\"BoxAnnotation\"},{\"attributes\":{\"data_source\":{\"id\":\"1170\"},\"glyph\":{\"id\":\"1171\"},\"hover_glyph\":null,\"muted_glyph\":null,\"nonselection_glyph\":{\"id\":\"1172\"},\"selection_glyph\":null,\"view\":{\"id\":\"1174\"}},\"id\":\"1173\",\"type\":\"GlyphRenderer\"},{\"attributes\":{},\"id\":\"1038\",\"type\":\"DataRange1d\"},{\"attributes\":{\"bottom_units\":\"screen\",\"fill_alpha\":0.5,\"fill_color\":\"lightgrey\",\"left_units\":\"screen\",\"level\":\"overlay\",\"line_alpha\":1.0,\"line_color\":\"black\",\"line_dash\":[4,4],\"line_width\":2,\"right_units\":\"screen\",\"top_units\":\"screen\"},\"id\":\"1060\",\"type\":\"BoxAnnotation\"},{\"attributes\":{},\"id\":\"1134\",\"type\":\"Selection\"},{\"attributes\":{},\"id\":\"1040\",\"type\":\"DataRange1d\"},{\"attributes\":{},\"id\":\"1140\",\"type\":\"DataRange1d\"},{\"attributes\":{},\"id\":\"1142\",\"type\":\"DataRange1d\"},{\"attributes\":{},\"id\":\"1078\",\"type\":\"UnionRenderers\"},{\"attributes\":{},\"id\":\"1042\",\"type\":\"LinearScale\"},{\"attributes\":{\"source\":{\"id\":\"1170\"}},\"id\":\"1174\",\"type\":\"CDSView\"},{\"attributes\":{},\"id\":\"1044\",\"type\":\"LinearScale\"},{\"attributes\":{\"items\":[{\"id\":\"1184\"}]},\"id\":\"1183\",\"type\":\"Legend\"},{\"attributes\":{\"axis\":{\"id\":\"1050\"},\"dimension\":1,\"ticker\":null},\"id\":\"1053\",\"type\":\"Grid\"},{\"attributes\":{},\"id\":\"1179\",\"type\":\"BasicTickFormatter\"},{\"attributes\":{\"axis_label\":\"time (hrs)\",\"formatter\":{\"id\":\"1077\"},\"ticker\":{\"id\":\"1047\"}},\"id\":\"1046\",\"type\":\"LinearAxis\"},{\"attributes\":{},\"id\":\"1177\",\"type\":\"BasicTickFormatter\"},{\"attributes\":{},\"id\":\"1079\",\"type\":\"Selection\"},{\"attributes\":{\"axis_label\":\"concentration (nM)\",\"formatter\":{\"id\":\"1075\"},\"ticker\":{\"id\":\"1051\"}},\"id\":\"1050\",\"type\":\"LinearAxis\"},{\"attributes\":{},\"id\":\"1144\",\"type\":\"LinearScale\"},{\"attributes\":{},\"id\":\"1047\",\"type\":\"BasicTicker\"},{\"attributes\":{},\"id\":\"1146\",\"type\":\"LinearScale\"},{\"attributes\":{\"label\":{\"value\":\"atp\"},\"renderers\":[{\"id\":\"1071\"}]},\"id\":\"1082\",\"type\":\"LegendItem\"},{\"attributes\":{},\"id\":\"1180\",\"type\":\"UnionRenderers\"},{\"attributes\":{\"axis\":{\"id\":\"1046\"},\"ticker\":null},\"id\":\"1049\",\"type\":\"Grid\"},{\"attributes\":{\"axis_label\":\"time (hrs)\",\"formatter\":{\"id\":\"1179\"},\"ticker\":{\"id\":\"1149\"}},\"id\":\"1148\",\"type\":\"LinearAxis\"},{\"attributes\":{},\"id\":\"1051\",\"type\":\"BasicTicker\"},{\"attributes\":{},\"id\":\"1181\",\"type\":\"Selection\"},{\"attributes\":{\"data_source\":{\"id\":\"1083\"},\"glyph\":{\"id\":\"1084\"},\"hover_glyph\":null,\"muted_glyph\":null,\"nonselection_glyph\":{\"id\":\"1085\"},\"selection_glyph\":null,\"view\":{\"id\":\"1087\"}},\"id\":\"1086\",\"type\":\"GlyphRenderer\"},{\"attributes\":{\"axis\":{\"id\":\"1152\"},\"dimension\":1,\"ticker\":null},\"id\":\"1155\",\"type\":\"Grid\"},{\"attributes\":{},\"id\":\"1149\",\"type\":\"BasicTicker\"},{\"attributes\":{\"label\":{\"value\":\"atp\"},\"renderers\":[{\"id\":\"1173\"}]},\"id\":\"1184\",\"type\":\"LegendItem\"},{\"attributes\":{\"axis\":{\"id\":\"1148\"},\"ticker\":null},\"id\":\"1151\",\"type\":\"Grid\"},{\"attributes\":{\"line_color\":\"#ff7e0e\",\"line_width\":2,\"x\":{\"field\":\"x\"},\"y\":{\"field\":\"y\"}},\"id\":\"1084\",\"type\":\"Line\"},{\"attributes\":{\"data\":{\"x\":{\"__ndarray__\":\"AAAAAAAAAAD0kcwotrK2P/SRzCi2ssY/d22ZnggG0T/0kcwotrLWP3K2/7JjX9w/d22ZnggG4T+2/7JjX9zjP/SRzCi2suY/MyTm7QyJ6T9ytv+yY1/sP7BIGXi6Ne8/d22ZnggG8T+WNiYBNHHyP7b/smNf3PM/1sg/xopH9T/0kcwotrL2PxNbWYvhHfg/MyTm7QyJ+T9T7XJQOPT6P3K2/7JjX/w/kH+MFY/K/T+wSBl4ujX/P+gIU+1yUABAd22ZnggGAUAG0t9PnrsBQJY2JgE0cQJAJptssskmA0C2/7JjX9wDQEVk+RT1kQRA1sg/xopHBUBlLYZ3IP0FQPSRzCi2sgZAhPYS2ktoB0ATW1mL4R0IQKS/nzx30whAMyTm7QyJCUDCiCyfoj4KQFPtclA49ApA4lG5Ac6pC0Bytv+yY18MQAEbRmT5FA1AkH+MFY/KDUAh5NLGJIAOQLBIGXi6NQ9AQK1fKVDrD0DoCFPtclAQQDA79sU9qxBAd22ZnggGEUC/nzx302ARQAbS30+euxFATwSDKGkWEkCWNiYBNHESQN9oydn+yxJAJptssskmE0BuzQ+LlIETQLb/smNf3BNA/jFWPCo3FEBFZPkU9ZEUQI2WnO2/7BRA1sg/xopHFUAe++KeVaIVQGUthncg/RVArV8pUOtXFkD0kcwotrIWQD3EbwGBDRdAhPYS2ktoF0DMKLayFsMXQBNbWYvhHRhAXI38Y6x4GECkv588d9MYQOzxQhVCLhlAMyTm7QyJGUB7VonG1+MZQMKILJ+iPhpAC7vPd22ZGkBT7XJQOPQaQJsfFikDTxtA4lG5Ac6pG0AqhFzamAQcQHK2/7JjXxxAuuiiiy66HEABG0Zk+RQdQElN6TzEbx1AkH+MFY/KHUDasS/uWSUeQCHk0sYkgB5AaRZ2n+/aHkCwSBl4ujUfQPl6vFCFkB9AQK1fKVDrH0DEbwGBDSMgQOgIU+1yUCBADKKkWdh9IEAwO/bFPasgQFTURzKj2CBAd22ZnggGIUCcBusKbjMhQL+fPHfTYCFA4ziO4ziOIUA=\",\"dtype\":\"float64\",\"order\":\"little\",\"shape\":[100]},\"y\":{\"__ndarray__\":\"AAAAAAAAJED4//////8fQM///////x9A9v//////H0Dy//////8fQPn//////x9A9f//////H0D2//////8fQPf//////x9A+P//////H0D3//////8fQPn//////x9A+P//////H0D+//////8fQPn//////x9A7P//////H0D4//////8fQPf//////x9A9///////H0D4//////8fQPj//////x9A9///////H0D2//////8fQPb//////x9A9f//////H0Du//////8fQPz//////x9ACAAAAAAAIEC5/v////8fQCDm/////x9AXcH+////H0B+7f3///8fQLTC/////x9A+f//////H0Ds//////8fQAgAAAAAACBAcQAAAAAAIECfAAAAAAAgQI/x/////x9AvZb/////H0A4xf////8fQGmRAwAAACBAP8UXAAAAIEAN39T///8fQL3s+f///x9A/f//////H0C5//////8fQBQAAAAAACBAmv//////H0B8/f////8fQCgDAAAAACBACQoAAAAAIECvmf////8fQNa0/////x9ACt4CAAAAIEBb3wIAAAAgQD3WDgAAACBAREwHAAAAIED5zfT///8fQGfNAAAAACBA6f//////H0D///////8fQPX//////x9A9f//////H0Dd//////8fQB8AAAAAACBAQP//////H0ClAAAAAAAgQD3+/////x9A1P7/////H0BIEQAAAAAgQJOd/////x9A2M0AAAAAIEAv1v////8fQFcWAAAAACBAvQAAAAAAIECDlP////8fQCYQAAAAACBAdBb/////H0ADgwAAAAAgQKzT/v///x9AAIoAAAAAIEBpOAAAAAAgQDtJ+v///x9ALO8JAAAAIEDVm5H///8fQEIYIAAAACBA0rb2////H0DkF9b///8fQHNt0v///x9Au+AGAAAAIEBsqvL///8fQOgiAAAAACBAs3MBAAAAIEArEP7///8fQLtiAAAAACBA7fj/////H0Ckt/////8fQOn//////x9A8P//////H0A=\",\"dtype\":\"float64\",\"order\":\"little\",\"shape\":[100]}},\"selected\":{\"id\":\"1079\"},\"selection_policy\":{\"id\":\"1078\"}},\"id\":\"1068\",\"type\":\"ColumnDataSource\"},{\"attributes\":{},\"id\":\"1153\",\"type\":\"BasicTicker\"},{\"attributes\":{\"axis_label\":\"concentration (nM)\",\"formatter\":{\"id\":\"1177\"},\"ticker\":{\"id\":\"1153\"}},\"id\":\"1152\",\"type\":\"LinearAxis\"},{\"attributes\":{\"source\":{\"id\":\"1083\"}},\"id\":\"1087\",\"type\":\"CDSView\"},{\"attributes\":{},\"id\":\"1095\",\"type\":\"UnionRenderers\"},{\"attributes\":{\"line_alpha\":0.1,\"line_color\":\"#ff7e0e\",\"line_width\":2,\"x\":{\"field\":\"x\"},\"y\":{\"field\":\"y\"}},\"id\":\"1085\",\"type\":\"Line\"},{\"attributes\":{\"below\":[{\"id\":\"1148\"}],\"center\":[{\"id\":\"1151\"},{\"id\":\"1155\"},{\"id\":\"1183\"}],\"left\":[{\"id\":\"1152\"}],\"plot_height\":350,\"plot_width\":450,\"renderers\":[{\"id\":\"1173\"}],\"title\":{\"id\":\"1138\"},\"toolbar\":{\"id\":\"1163\"},\"x_range\":{\"id\":\"1140\"},\"x_scale\":{\"id\":\"1144\"},\"y_range\":{\"id\":\"1142\"},\"y_scale\":{\"id\":\"1146\"}},\"id\":\"1137\",\"subtype\":\"Figure\",\"type\":\"Plot\"},{\"attributes\":{\"label\":{\"value\":\"outside_H\"},\"renderers\":[{\"id\":\"1086\"}]},\"id\":\"1098\",\"type\":\"LegendItem\"},{\"attributes\":{\"line_color\":\"#1f77b3\",\"line_width\":2,\"x\":{\"field\":\"x\"},\"y\":{\"field\":\"y\"}},\"id\":\"1171\",\"type\":\"Line\"},{\"attributes\":{},\"id\":\"1054\",\"type\":\"PanTool\"},{\"attributes\":{\"data\":{\"x\":{\"__ndarray__\":\"AAAAAAAAAAD0kcwotrK2P/SRzCi2ssY/d22ZnggG0T/0kcwotrLWP3K2/7JjX9w/d22ZnggG4T+2/7JjX9zjP/SRzCi2suY/MyTm7QyJ6T9ytv+yY1/sP7BIGXi6Ne8/d22ZnggG8T+WNiYBNHHyP7b/smNf3PM/1sg/xopH9T/0kcwotrL2PxNbWYvhHfg/MyTm7QyJ+T9T7XJQOPT6P3K2/7JjX/w/kH+MFY/K/T+wSBl4ujX/P+gIU+1yUABAd22ZnggGAUAG0t9PnrsBQJY2JgE0cQJAJptssskmA0C2/7JjX9wDQEVk+RT1kQRA1sg/xopHBUBlLYZ3IP0FQPSRzCi2sgZAhPYS2ktoB0ATW1mL4R0IQKS/nzx30whAMyTm7QyJCUDCiCyfoj4KQFPtclA49ApA4lG5Ac6pC0Bytv+yY18MQAEbRmT5FA1AkH+MFY/KDUAh5NLGJIAOQLBIGXi6NQ9AQK1fKVDrD0DoCFPtclAQQDA79sU9qxBAd22ZnggGEUC/nzx302ARQAbS30+euxFATwSDKGkWEkCWNiYBNHESQN9oydn+yxJAJptssskmE0BuzQ+LlIETQLb/smNf3BNA/jFWPCo3FEBFZPkU9ZEUQI2WnO2/7BRA1sg/xopHFUAe++KeVaIVQGUthncg/RVArV8pUOtXFkD0kcwotrIWQD3EbwGBDRdAhPYS2ktoF0DMKLayFsMXQBNbWYvhHRhAXI38Y6x4GECkv588d9MYQOzxQhVCLhlAMyTm7QyJGUB7VonG1+MZQMKILJ+iPhpAC7vPd22ZGkBT7XJQOPQaQJsfFikDTxtA4lG5Ac6pG0AqhFzamAQcQHK2/7JjXxxAuuiiiy66HEABG0Zk+RQdQElN6TzEbx1AkH+MFY/KHUDasS/uWSUeQCHk0sYkgB5AaRZ2n+/aHkCwSBl4ujUfQPl6vFCFkB9AQK1fKVDrH0DEbwGBDSMgQOgIU+1yUCBADKKkWdh9IEAwO/bFPasgQFTURzKj2CBAd22ZnggGIUCcBusKbjMhQL+fPHfTYCFA4ziO4ziOIUA=\",\"dtype\":\"float64\",\"order\":\"little\",\"shape\":[100]},\"y\":{\"__ndarray__\":\"AAAAAAAAJEAVXf4fOi2FuoWDYJE423C6TzNPSP8Mt7lfKWkHEQClubNhgGMZRNa4qwlEqyA81biisQfzJzTUuJpZyzovLNO4kQGPgjYk0riIqVLKPRzRuH9RFhJFFNC47vKzs5gYzrjfQjtDpwjMuMySwtK1+Mm4u+JJYsTox7iqMtHx0tjFuJqCWIHhyMO4iNLfEPC4wbjsRM5A/VG/uMvk3F8aMru4qoTrfjcSt7iHJPqdVPKyuMWIEXrjpK24g8guuB1lpbiFEJjsr0qauAUgpdFIloO4EUt5opQB37dGWVa4y43dt3tnM84CGty3rXUQ5Dmm2rfig+35cDLZtxaSyg+ovte3S6CnJd9K1reAroQ7FtfUt7K8YVFNY9O358o+Z4Tv0bcc2Rt9u3vQt5zO8SXlD863BeurUVMoy7dvB2Z9wUDIt9gjIKkvWcW3QUDa1J1xwrdMuSgBGBS/tx7ynFj0RLm38CoRsNB1s7d0xwoPWk2rtzNy5nslXp+3+6pusy1DgLfvjIlUedLNtsmTph1Hr822pJrD5hSMzbaAoeCv4mjNtlmo/XiwRc22M68aQn4izbYNtjcLTP/Mtui8VNQZ3My2w8Nxnee4zLaeyo5mtZXMtnjRqy+Dcsy2UtjI+FBPzLYt3+XBHizMtgfmAovsCMy24ewfVLrly7a88zwdiMLLtpf6WeZVn8u2cQF3ryN8y7ZLCJR48VjLticPsUG/Ncu2ABbOCo0Sy7bbHOvTWu/KtrYjCJ0ozMq2kColZvaoyrZrMUIvxIXKtkU4X/iRYsq2Hz98wV8/yrb6RZmKLRzKttRMtlP7+Mm2rlPTHMnVybaKWvDllrLJtmRhDa9kj8m2PmgqeDJsybYZb0dBAEnJtvR1ZArOJcm2znyB05sCybaog56cad/ItoOKu2U3vMi2XZHYLgWZyLY3mPX30nXIthOfEsGgUsi27aUvim4vyLbHrExTPAzItqKzaRwK6ce2fLqG5dfFx7ZWwaOupaLHtjHIwHdzf8e2C8/dQEFcx7bm1foJDznHtsHcF9PcFce2muM0nKryxrY=\",\"dtype\":\"float64\",\"order\":\"little\",\"shape\":[100]}},\"selected\":{\"id\":\"1181\"},\"selection_policy\":{\"id\":\"1180\"}},\"id\":\"1170\",\"type\":\"ColumnDataSource\"},{\"attributes\":{\"line_alpha\":0.1,\"line_color\":\"#1f77b3\",\"line_width\":2,\"x\":{\"field\":\"x\"},\"y\":{\"field\":\"y\"}},\"id\":\"1172\",\"type\":\"Line\"},{\"attributes\":{},\"id\":\"1096\",\"type\":\"Selection\"},{\"attributes\":{},\"id\":\"1055\",\"type\":\"WheelZoomTool\"},{\"attributes\":{\"data\":{\"x\":{\"__ndarray__\":\"AAAAAAAAAAD0kcwotrK2P/SRzCi2ssY/d22ZnggG0T/0kcwotrLWP3K2/7JjX9w/d22ZnggG4T+2/7JjX9zjP/SRzCi2suY/MyTm7QyJ6T9ytv+yY1/sP7BIGXi6Ne8/d22ZnggG8T+WNiYBNHHyP7b/smNf3PM/1sg/xopH9T/0kcwotrL2PxNbWYvhHfg/MyTm7QyJ+T9T7XJQOPT6P3K2/7JjX/w/kH+MFY/K/T+wSBl4ujX/P+gIU+1yUABAd22ZnggGAUAG0t9PnrsBQJY2JgE0cQJAJptssskmA0C2/7JjX9wDQEVk+RT1kQRA1sg/xopHBUBlLYZ3IP0FQPSRzCi2sgZAhPYS2ktoB0ATW1mL4R0IQKS/nzx30whAMyTm7QyJCUDCiCyfoj4KQFPtclA49ApA4lG5Ac6pC0Bytv+yY18MQAEbRmT5FA1AkH+MFY/KDUAh5NLGJIAOQLBIGXi6NQ9AQK1fKVDrD0DoCFPtclAQQDA79sU9qxBAd22ZnggGEUC/nzx302ARQAbS30+euxFATwSDKGkWEkCWNiYBNHESQN9oydn+yxJAJptssskmE0BuzQ+LlIETQLb/smNf3BNA/jFWPCo3FEBFZPkU9ZEUQI2WnO2/7BRA1sg/xopHFUAe++KeVaIVQGUthncg/RVArV8pUOtXFkD0kcwotrIWQD3EbwGBDRdAhPYS2ktoF0DMKLayFsMXQBNbWYvhHRhAXI38Y6x4GECkv588d9MYQOzxQhVCLhlAMyTm7QyJGUB7VonG1+MZQMKILJ+iPhpAC7vPd22ZGkBT7XJQOPQaQJsfFikDTxtA4lG5Ac6pG0AqhFzamAQcQHK2/7JjXxxAuuiiiy66HEABG0Zk+RQdQElN6TzEbx1AkH+MFY/KHUDasS/uWSUeQCHk0sYkgB5AaRZ2n+/aHkCwSBl4ujUfQPl6vFCFkB9AQK1fKVDrH0DEbwGBDSMgQOgIU+1yUCBADKKkWdh9IEAwO/bFPasgQFTURzKj2CBAd22ZnggGIUCcBusKbjMhQL+fPHfTYCFA4ziO4ziOIUA=\",\"dtype\":\"float64\",\"order\":\"little\",\"shape\":[100]},\"y\":{\"__ndarray__\":\"AAAAAAAAAAA+AAAAAAAkQNvKLAAAACRAd3b6////I0ALAAAAAAAkQEvW/////yNAgR0AAAAAJECDPvv///8jQINVAAAAACRA29n/////I0Bkyf////8jQOOXCwAAACRAHwAAAAAAJEDcDAAAAAAkQIQMAAAAACRAFlT4////I0DK/f////8jQAwAAAAAACRADAAAAAAAJEAMAAAAAAAkQAwAAAAAACRADAAAAAAAJEAMAAAAAAAkQAwAAAAAACRADAAAAAAAJEAMAAAAAAAkQAwAAAAAACRADAAAAAAAJEAMAAAAAAAkQAwAAAAAACRADAAAAAAAJEAMAAAAAAAkQAwAAAAAACRADAAAAAAAJEAMAAAAAAAkQAwAAAAAACRADAAAAAAAJEAMAAAAAAAkQAwAAAAAACRADAAAAAAAJEAMAAAAAAAkQAkAAAAAACRA8f//////I0AgAAAAAAAkQA0AAAAAACRACgAAAAAAJEAKAAAAAAAkQAoAAAAAACRACgAAAAAAJEAKAAAAAAAkQAoAAAAAACRACgAAAAAAJEALAAAAAAAkQAsAAAAAACRA+f//////I0D3//////8jQK///////yNA3f//////I0AsAAAAAAAkQAUAAAAAACRACgAAAAAAJEAKAAAAAAAkQAoAAAAAACRACgAAAAAAJEAKAAAAAAAkQAoAAAAAACRACgAAAAAAJEAKAAAAAAAkQAoAAAAAACRACwAAAAAAJEAKAAAAAAAkQAwAAAAAACRABAAAAAAAJEAMAAAAAAAkQAoAAAAAACRACgAAAAAAJEAMAAAAAAAkQAkAAAAAACRADgAAAAAAJEAGAAAAAAAkQA8AAAAAACRABQAAAAAAJEAHAAAAAAAkQCIAAAAAACRAtP//////I0DtAQAAAAAkQPL+/////yNAMQAAAAAAJEDDAAAAAAAkQM8AAAAAACRA1P//////I0A2AAAAAAAkQAgAAAAAACRABQAAAAAAJEAMAAAAAAAkQAcAAAAAACRACQAAAAAAJEAKAAAAAAAkQAkAAAAAACRACQAAAAAAJEA=\",\"dtype\":\"float64\",\"order\":\"little\",\"shape\":[100]}},\"selected\":{\"id\":\"1114\"},\"selection_policy\":{\"id\":\"1113\"}},\"id\":\"1099\",\"type\":\"ColumnDataSource\"},{\"attributes\":{\"overlay\":{\"id\":\"1060\"}},\"id\":\"1056\",\"type\":\"BoxZoomTool\"},{\"attributes\":{},\"id\":\"1156\",\"type\":\"PanTool\"},{\"attributes\":{\"line_color\":\"#2ba02b\",\"line_width\":2,\"x\":{\"field\":\"x\"},\"y\":{\"field\":\"y\"}},\"id\":\"1100\",\"type\":\"Line\"},{\"attributes\":{\"data_source\":{\"id\":\"1099\"},\"glyph\":{\"id\":\"1100\"},\"hover_glyph\":null,\"muted_glyph\":null,\"nonselection_glyph\":{\"id\":\"1101\"},\"selection_glyph\":null,\"view\":{\"id\":\"1103\"}},\"id\":\"1102\",\"type\":\"GlyphRenderer\"},{\"attributes\":{},\"id\":\"1057\",\"type\":\"SaveTool\"},{\"attributes\":{},\"id\":\"1157\",\"type\":\"WheelZoomTool\"},{\"attributes\":{},\"id\":\"1058\",\"type\":\"ResetTool\"},{\"attributes\":{\"overlay\":{\"id\":\"1162\"}},\"id\":\"1158\",\"type\":\"BoxZoomTool\"},{\"attributes\":{},\"id\":\"1159\",\"type\":\"SaveTool\"},{\"attributes\":{},\"id\":\"1059\",\"type\":\"HelpTool\"},{\"attributes\":{\"source\":{\"id\":\"1099\"}},\"id\":\"1103\",\"type\":\"CDSView\"},{\"attributes\":{},\"id\":\"1160\",\"type\":\"ResetTool\"},{\"attributes\":{\"active_drag\":\"auto\",\"active_inspect\":\"auto\",\"active_multi\":null,\"active_scroll\":\"auto\",\"active_tap\":\"auto\",\"tools\":[{\"id\":\"1054\"},{\"id\":\"1055\"},{\"id\":\"1056\"},{\"id\":\"1057\"},{\"id\":\"1058\"},{\"id\":\"1059\"}]},\"id\":\"1061\",\"type\":\"Toolbar\"},{\"attributes\":{},\"id\":\"1113\",\"type\":\"UnionRenderers\"},{\"attributes\":{\"line_alpha\":0.1,\"line_color\":\"#1f77b3\",\"line_width\":2,\"x\":{\"field\":\"x\"},\"y\":{\"field\":\"y\"}},\"id\":\"1070\",\"type\":\"Line\"},{\"attributes\":{\"line_alpha\":0.1,\"line_color\":\"#2ba02b\",\"line_width\":2,\"x\":{\"field\":\"x\"},\"y\":{\"field\":\"y\"}},\"id\":\"1101\",\"type\":\"Line\"},{\"attributes\":{\"data_source\":{\"id\":\"1068\"},\"glyph\":{\"id\":\"1069\"},\"hover_glyph\":null,\"muted_glyph\":null,\"nonselection_glyph\":{\"id\":\"1070\"},\"selection_glyph\":null,\"view\":{\"id\":\"1072\"}},\"id\":\"1071\",\"type\":\"GlyphRenderer\"},{\"attributes\":{},\"id\":\"1161\",\"type\":\"HelpTool\"},{\"attributes\":{\"active_drag\":\"auto\",\"active_inspect\":\"auto\",\"active_multi\":null,\"active_scroll\":\"auto\",\"active_tap\":\"auto\",\"tools\":[{\"id\":\"1156\"},{\"id\":\"1157\"},{\"id\":\"1158\"},{\"id\":\"1159\"},{\"id\":\"1160\"},{\"id\":\"1161\"}]},\"id\":\"1163\",\"type\":\"Toolbar\"},{\"attributes\":{\"label\":{\"value\":\"inside_H\"},\"renderers\":[{\"id\":\"1102\"}]},\"id\":\"1116\",\"type\":\"LegendItem\"},{\"attributes\":{\"line_color\":\"#1f77b3\",\"line_width\":2,\"x\":{\"field\":\"x\"},\"y\":{\"field\":\"y\"}},\"id\":\"1069\",\"type\":\"Line\"},{\"attributes\":{},\"id\":\"1780\",\"type\":\"UnionRenderers\"},{\"attributes\":{\"source\":{\"id\":\"1764\"}},\"id\":\"1768\",\"type\":\"CDSView\"},{\"attributes\":{\"label\":{\"value\":\"bound atp synthase\"},\"renderers\":[{\"id\":\"1767\"}]},\"id\":\"1783\",\"type\":\"LegendItem\"},{\"attributes\":{\"data_source\":{\"id\":\"1730\"},\"glyph\":{\"id\":\"1731\"},\"hover_glyph\":null,\"muted_glyph\":null,\"nonselection_glyph\":{\"id\":\"1732\"},\"selection_glyph\":null,\"view\":{\"id\":\"1734\"}},\"id\":\"1733\",\"type\":\"GlyphRenderer\"},{\"attributes\":{\"line_color\":\"#ff7e0e\",\"line_width\":2,\"x\":{\"field\":\"x\"},\"y\":{\"field\":\"y\"}},\"id\":\"1731\",\"type\":\"Line\"},{\"attributes\":{},\"id\":\"1781\",\"type\":\"Selection\"},{\"attributes\":{\"label\":{\"value\":\"atp\"},\"renderers\":[{\"id\":\"1718\"}]},\"id\":\"1729\",\"type\":\"LegendItem\"},{\"attributes\":{\"data\":{\"x\":{\"__ndarray__\":\"AAAAAAAAAAD0kcwotrK2P/SRzCi2ssY/d22ZnggG0T/0kcwotrLWP3K2/7JjX9w/d22ZnggG4T+2/7JjX9zjP/SRzCi2suY/MyTm7QyJ6T9ytv+yY1/sP7BIGXi6Ne8/d22ZnggG8T+WNiYBNHHyP7b/smNf3PM/1sg/xopH9T/0kcwotrL2PxNbWYvhHfg/MyTm7QyJ+T9T7XJQOPT6P3K2/7JjX/w/kH+MFY/K/T+wSBl4ujX/P+gIU+1yUABAd22ZnggGAUAG0t9PnrsBQJY2JgE0cQJAJptssskmA0C2/7JjX9wDQEVk+RT1kQRA1sg/xopHBUBlLYZ3IP0FQPSRzCi2sgZAhPYS2ktoB0ATW1mL4R0IQKS/nzx30whAMyTm7QyJCUDCiCyfoj4KQFPtclA49ApA4lG5Ac6pC0Bytv+yY18MQAEbRmT5FA1AkH+MFY/KDUAh5NLGJIAOQLBIGXi6NQ9AQK1fKVDrD0DoCFPtclAQQDA79sU9qxBAd22ZnggGEUC/nzx302ARQAbS30+euxFATwSDKGkWEkCWNiYBNHESQN9oydn+yxJAJptssskmE0BuzQ+LlIETQLb/smNf3BNA/jFWPCo3FEBFZPkU9ZEUQI2WnO2/7BRA1sg/xopHFUAe++KeVaIVQGUthncg/RVArV8pUOtXFkD0kcwotrIWQD3EbwGBDRdAhPYS2ktoF0DMKLayFsMXQBNbWYvhHRhAXI38Y6x4GECkv588d9MYQOzxQhVCLhlAMyTm7QyJGUB7VonG1+MZQMKILJ+iPhpAC7vPd22ZGkBT7XJQOPQaQJsfFikDTxtA4lG5Ac6pG0AqhFzamAQcQHK2/7JjXxxAuuiiiy66HEABG0Zk+RQdQElN6TzEbx1AkH+MFY/KHUDasS/uWSUeQCHk0sYkgB5AaRZ2n+/aHkCwSBl4ujUfQPl6vFCFkB9AQK1fKVDrH0DEbwGBDSMgQOgIU+1yUCBADKKkWdh9IEAwO/bFPasgQFTURzKj2CBAd22ZnggGIUCcBusKbjMhQL+fPHfTYCFA4ziO4ziOIUA=\",\"dtype\":\"float64\",\"order\":\"little\",\"shape\":[100]},\"y\":{\"__ndarray__\":\"AAAAAAAAAABeIbTtxREFQL2mNOKyvSNAdWLT5EtPM0BKd51IPQs9QMOewG5cDUNAcOrFRposR0DwweH5f+tKQJVJVrfVUk5AP5e9NE21UEBwW/YJCR1SQMw9jnDrY1NA+nlCUvSMVEAOe5F53ZpVQHHDy/ggkFZArKS2+/5uV0CYzO8QgzlYQJaOGfiI8VhA92ZK/8CYWUCiWK/6szBaQHPVY9/GulpATI38CT44W0DZFX84QKpbQP3Ysj7ZEVxAoj2be/xvXEDRKa4Uh8VcQN16Jf5BE11A9PgQ0uNZXUAkfUV+EppdQAqlh8lk1F1AzIXrtWMJXkDD5rrCizleQGwX0RBOZV5AH9SSbBGNXkAL3kw/M7FeQFJ3lGoI0l5AN0CiD97vXkCp5udE+gpfQNgOKbqcI19AVDFgTv85X0DDjuGXVk5fQIz6jF/SYF9ATW05EZ5xX0BJ77Mh4YBfQF8ka2u/jl9AcHapglmbX0CGUyUCzaZfQKoSftA0sV9AdFd8X6m6X0A1eYLlQMNfQEyPqpEPy19AA1M1uyfSX0BgNaUMmthfQCw346p13l9ANfDSWMjjX0DaFKWXnuhfQDQZOMQD7V9A/JbMMQLxX0Amt0JCo/RfQHQ2Jnzv919A91y2nu76X0Dl8Ri0p/1fQPAm8ZAQAGBAvncNXDABYEBwxnffNQJgQJo6iIEjA2BAu+l9cPsDYEAn7ZynvwRgQGU42PNxBWBAUmcK+BMGYEAQ+c4wpwZgQPYFAPgsB2BAoIzih6YHYEArOwn+FAhgQLE78l15CGBAg/5pk9QIYECVV7V0JwlgQODih8RyCWBAq7rNM7cJYEBXF0tj9QlgQJX7DeUtCmBAUMXmPWEKYEC2r2vmjwpgQGw2Nky6CmBA8HTi0uAKYEACt/DUAwtgQGJ8mqQjC2BAVnOfjEALYEAs7+nQWgtgQAyeK69yC2BAKCJ1X4gLYECyTbsUnAtgQMK/S/2tC2BAhDY4Q74LYEA3WLoMzQtgQDqljnzaC2BA7WtGsuYLYEBEH5HK8QtgQEY3f9/7C2BAmoy/CAUMYEA=\",\"dtype\":\"float64\",\"order\":\"little\",\"shape\":[100]}},\"selected\":{\"id\":\"1803\"},\"selection_policy\":{\"id\":\"1802\"}},\"id\":\"1784\",\"type\":\"ColumnDataSource\"},{\"attributes\":{},\"id\":\"1726\",\"type\":\"Selection\"},{\"attributes\":{\"below\":[{\"id\":\"1693\"}],\"center\":[{\"id\":\"1696\"},{\"id\":\"1700\"},{\"id\":\"1728\"}],\"left\":[{\"id\":\"1697\"}],\"plot_height\":350,\"plot_width\":450,\"renderers\":[{\"id\":\"1718\"},{\"id\":\"1733\"},{\"id\":\"1749\"},{\"id\":\"1767\"},{\"id\":\"1787\"}],\"title\":{\"id\":\"1683\"},\"toolbar\":{\"id\":\"1708\"},\"x_range\":{\"id\":\"1685\"},\"x_scale\":{\"id\":\"1689\"},\"y_range\":{\"id\":\"1687\"},\"y_scale\":{\"id\":\"1691\"}},\"id\":\"1682\",\"subtype\":\"Figure\",\"type\":\"Plot\"},{\"attributes\":{\"line_color\":\"#8c564b\",\"line_width\":2,\"x\":{\"field\":\"x\"},\"y\":{\"field\":\"y\"}},\"id\":\"1785\",\"type\":\"Line\"},{\"attributes\":{\"data_source\":{\"id\":\"1784\"},\"glyph\":{\"id\":\"1785\"},\"hover_glyph\":null,\"muted_glyph\":null,\"nonselection_glyph\":{\"id\":\"1786\"},\"selection_glyph\":null,\"view\":{\"id\":\"1788\"}},\"id\":\"1787\",\"type\":\"GlyphRenderer\"},{\"attributes\":{\"line_alpha\":0.1,\"line_color\":\"#1f77b3\",\"line_width\":2,\"x\":{\"field\":\"x\"},\"y\":{\"field\":\"y\"}},\"id\":\"1717\",\"type\":\"Line\"},{\"attributes\":{\"bottom_units\":\"screen\",\"fill_alpha\":0.5,\"fill_color\":\"lightgrey\",\"left_units\":\"screen\",\"level\":\"overlay\",\"line_alpha\":1.0,\"line_color\":\"black\",\"line_dash\":[4,4],\"line_width\":2,\"right_units\":\"screen\",\"top_units\":\"screen\"},\"id\":\"1707\",\"type\":\"BoxAnnotation\"},{\"attributes\":{},\"id\":\"1803\",\"type\":\"Selection\"},{\"attributes\":{\"text\":\"with ATP Synthase, Proton Pump, ATP Use\"},\"id\":\"1683\",\"type\":\"Title\"},{\"attributes\":{},\"id\":\"1685\",\"type\":\"DataRange1d\"},{\"attributes\":{\"data\":{\"x\":{\"__ndarray__\":\"AAAAAAAAAAD0kcwotrK2P/SRzCi2ssY/d22ZnggG0T/0kcwotrLWP3K2/7JjX9w/d22ZnggG4T+2/7JjX9zjP/SRzCi2suY/MyTm7QyJ6T9ytv+yY1/sP7BIGXi6Ne8/d22ZnggG8T+WNiYBNHHyP7b/smNf3PM/1sg/xopH9T/0kcwotrL2PxNbWYvhHfg/MyTm7QyJ+T9T7XJQOPT6P3K2/7JjX/w/kH+MFY/K/T+wSBl4ujX/P+gIU+1yUABAd22ZnggGAUAG0t9PnrsBQJY2JgE0cQJAJptssskmA0C2/7JjX9wDQEVk+RT1kQRA1sg/xopHBUBlLYZ3IP0FQPSRzCi2sgZAhPYS2ktoB0ATW1mL4R0IQKS/nzx30whAMyTm7QyJCUDCiCyfoj4KQFPtclA49ApA4lG5Ac6pC0Bytv+yY18MQAEbRmT5FA1AkH+MFY/KDUAh5NLGJIAOQLBIGXi6NQ9AQK1fKVDrD0DoCFPtclAQQDA79sU9qxBAd22ZnggGEUC/nzx302ARQAbS30+euxFATwSDKGkWEkCWNiYBNHESQN9oydn+yxJAJptssskmE0BuzQ+LlIETQLb/smNf3BNA/jFWPCo3FEBFZPkU9ZEUQI2WnO2/7BRA1sg/xopHFUAe++KeVaIVQGUthncg/RVArV8pUOtXFkD0kcwotrIWQD3EbwGBDRdAhPYS2ktoF0DMKLayFsMXQBNbWYvhHRhAXI38Y6x4GECkv588d9MYQOzxQhVCLhlAMyTm7QyJGUB7VonG1+MZQMKILJ+iPhpAC7vPd22ZGkBT7XJQOPQaQJsfFikDTxtA4lG5Ac6pG0AqhFzamAQcQHK2/7JjXxxAuuiiiy66HEABG0Zk+RQdQElN6TzEbx1AkH+MFY/KHUDasS/uWSUeQCHk0sYkgB5AaRZ2n+/aHkCwSBl4ujUfQPl6vFCFkB9AQK1fKVDrH0DEbwGBDSMgQOgIU+1yUCBADKKkWdh9IEAwO/bFPasgQFTURzKj2CBAd22ZnggGIUCcBusKbjMhQL+fPHfTYCFA4ziO4ziOIUA=\",\"dtype\":\"float64\",\"order\":\"little\",\"shape\":[100]},\"y\":{\"__ndarray__\":\"AAAAAAAAJEA5Yl1LmpcQQPWh7r9uHPk/RYcrAA+w6z/wwx/0P+ziP53U30coO90/xV96aTM32D+4DIA/B/PUPxRzahl4qdI/Q1AfKUL60D+I66NLn2HPP6QVnaXvW80/MjaZWC68yz/uOpShXmjKP/mtk52eTsk/X1bFdjhiyD9RgsWh45nHP7FUsKCv7sY/kGmvs1Fbxj823ZGRrtvFP0vqb/OJbMU/gi13Tk4LxT9bYhrf5LXEPz+gS9OYasQ/QWoEugEoxD9NVyOu8+zDP31LzyVzuMM/kbwiqKuJwz8kzUmR6F/DP8SfZWaPOsM/5A+DVhsZwz/pJAOiGfvCP2pBBrUm4MI/HiB/zOvHwj+GsaT/HLLCPxtbhrt3nsI/3c6DZcGMwj8ncYY9xnzCP7lmVXpYbsI/xtbKfE9hwj+LEXwth1XCP0KgM2LfSsI/QVkeYjtBwj/R/GOGgTjCP7W+iuWaMMI/aIO75XIpwj/fW4MQ9yLCP7zWWM8WHcI/INAvN8MXwj+SAEXa7hLCP1n6bp+NDsI/U7s5npQKwj9PYSD/+QbCP0EZa9+0A8I/nyMzOL0Awj9eHinIC/7BP9apxP+Z+8E/ZeCS72H5wT/ZCWo4XvfBP3euQP2J9cE/Bgx+1uDzwT/6E5bGXvLBP/zO0C8A8cE/QZgYy8HvwT+En6yfoO7BP/9GsfuZ7cE/BttzbavswT/Nj2u90uvBP/M8yugN68E/ZDDsG1vqwT8GxHisuOnBP6FwNSIl6cE/BfM9Fp/owT9S9CNMJejBP6UQyKi258E/LgQ3JFLnwT/Wy+HS9ubBP/rBWNWj5sE/E95laFjmwT8zVkP3E+bBP/vO97vV5cE/RDbgMJ3lwT94F8vQaeXBP9hltSI75cE/os6suBDlwT+zztQu6uTBPyHjdirH5ME/5GEwWafkwT9vAXpwiuTBP4+S9Spw5ME/6N+BTFjkwT8FLP6bQuTBP1ps1OYu5ME/oYF3/hzkwT//w9u4DOTBP82OvO/948E/4JFYgPDjwT86UhRL5OPBPxFBSDPZ48E/xnDJHs/jwT8=\",\"dtype\":\"float64\",\"order\":\"little\",\"shape\":[100]}},\"selected\":{\"id\":\"1743\"},\"selection_policy\":{\"id\":\"1742\"}},\"id\":\"1730\",\"type\":\"ColumnDataSource\"},{\"attributes\":{\"source\":{\"id\":\"1784\"}},\"id\":\"1788\",\"type\":\"CDSView\"},{\"attributes\":{\"data_source\":{\"id\":\"1715\"},\"glyph\":{\"id\":\"1716\"},\"hover_glyph\":null,\"muted_glyph\":null,\"nonselection_glyph\":{\"id\":\"1717\"},\"selection_glyph\":null,\"view\":{\"id\":\"1719\"}},\"id\":\"1718\",\"type\":\"GlyphRenderer\"},{\"attributes\":{\"line_alpha\":0.1,\"line_color\":\"#8c564b\",\"line_width\":2,\"x\":{\"field\":\"x\"},\"y\":{\"field\":\"y\"}},\"id\":\"1786\",\"type\":\"Line\"},{\"attributes\":{\"source\":{\"id\":\"1715\"}},\"id\":\"1719\",\"type\":\"CDSView\"},{\"attributes\":{},\"id\":\"1687\",\"type\":\"DataRange1d\"},{\"attributes\":{},\"id\":\"1802\",\"type\":\"UnionRenderers\"},{\"attributes\":{\"click_policy\":\"hide\",\"items\":[{\"id\":\"1729\"},{\"id\":\"1745\"},{\"id\":\"1763\"},{\"id\":\"1783\"},{\"id\":\"1805\"}],\"location\":\"center_right\"},\"id\":\"1728\",\"type\":\"Legend\"},{\"attributes\":{},\"id\":\"1689\",\"type\":\"LinearScale\"},{\"attributes\":{},\"id\":\"1724\",\"type\":\"BasicTickFormatter\"},{\"attributes\":{\"label\":{\"value\":\"bound atp synthase\"},\"renderers\":[{\"id\":\"1120\"}]},\"id\":\"1136\",\"type\":\"LegendItem\"},{\"attributes\":{},\"id\":\"1691\",\"type\":\"LinearScale\"},{\"attributes\":{},\"id\":\"1722\",\"type\":\"BasicTickFormatter\"},{\"attributes\":{\"axis_label\":\"time (hrs)\",\"formatter\":{\"id\":\"1724\"},\"ticker\":{\"id\":\"1694\"}},\"id\":\"1693\",\"type\":\"LinearAxis\"},{\"attributes\":{\"axis\":{\"id\":\"1697\"},\"dimension\":1,\"ticker\":null},\"id\":\"1700\",\"type\":\"Grid\"},{\"attributes\":{\"source\":{\"id\":\"1730\"}},\"id\":\"1734\",\"type\":\"CDSView\"},{\"attributes\":{},\"id\":\"1694\",\"type\":\"BasicTicker\"},{\"attributes\":{},\"id\":\"1742\",\"type\":\"UnionRenderers\"},{\"attributes\":{\"line_alpha\":0.1,\"line_color\":\"#ff7e0e\",\"line_width\":2,\"x\":{\"field\":\"x\"},\"y\":{\"field\":\"y\"}},\"id\":\"1732\",\"type\":\"Line\"},{\"attributes\":{\"axis\":{\"id\":\"1693\"},\"ticker\":null},\"id\":\"1696\",\"type\":\"Grid\"},{\"attributes\":{\"label\":{\"value\":\"outside_H\"},\"renderers\":[{\"id\":\"1733\"}]},\"id\":\"1745\",\"type\":\"LegendItem\"},{\"attributes\":{},\"id\":\"1698\",\"type\":\"BasicTicker\"},{\"attributes\":{\"axis_label\":\"concentration (nM)\",\"formatter\":{\"id\":\"1722\"},\"ticker\":{\"id\":\"1698\"}},\"id\":\"1697\",\"type\":\"LinearAxis\"},{\"attributes\":{},\"id\":\"1743\",\"type\":\"Selection\"},{\"attributes\":{\"data\":{\"x\":{\"__ndarray__\":\"AAAAAAAAAAD0kcwotrK2P/SRzCi2ssY/d22ZnggG0T/0kcwotrLWP3K2/7JjX9w/d22ZnggG4T+2/7JjX9zjP/SRzCi2suY/MyTm7QyJ6T9ytv+yY1/sP7BIGXi6Ne8/d22ZnggG8T+WNiYBNHHyP7b/smNf3PM/1sg/xopH9T/0kcwotrL2PxNbWYvhHfg/MyTm7QyJ+T9T7XJQOPT6P3K2/7JjX/w/kH+MFY/K/T+wSBl4ujX/P+gIU+1yUABAd22ZnggGAUAG0t9PnrsBQJY2JgE0cQJAJptssskmA0C2/7JjX9wDQEVk+RT1kQRA1sg/xopHBUBlLYZ3IP0FQPSRzCi2sgZAhPYS2ktoB0ATW1mL4R0IQKS/nzx30whAMyTm7QyJCUDCiCyfoj4KQFPtclA49ApA4lG5Ac6pC0Bytv+yY18MQAEbRmT5FA1AkH+MFY/KDUAh5NLGJIAOQLBIGXi6NQ9AQK1fKVDrD0DoCFPtclAQQDA79sU9qxBAd22ZnggGEUC/nzx302ARQAbS30+euxFATwSDKGkWEkCWNiYBNHESQN9oydn+yxJAJptssskmE0BuzQ+LlIETQLb/smNf3BNA/jFWPCo3FEBFZPkU9ZEUQI2WnO2/7BRA1sg/xopHFUAe++KeVaIVQGUthncg/RVArV8pUOtXFkD0kcwotrIWQD3EbwGBDRdAhPYS2ktoF0DMKLayFsMXQBNbWYvhHRhAXI38Y6x4GECkv588d9MYQOzxQhVCLhlAMyTm7QyJGUB7VonG1+MZQMKILJ+iPhpAC7vPd22ZGkBT7XJQOPQaQJsfFikDTxtA4lG5Ac6pG0AqhFzamAQcQHK2/7JjXxxAuuiiiy66HEABG0Zk+RQdQElN6TzEbx1AkH+MFY/KHUDasS/uWSUeQCHk0sYkgB5AaRZ2n+/aHkCwSBl4ujUfQPl6vFCFkB9AQK1fKVDrH0DEbwGBDSMgQOgIU+1yUCBADKKkWdh9IEAwO/bFPasgQFTURzKj2CBAd22ZnggGIUCcBusKbjMhQL+fPHfTYCFA4ziO4ziOIUA=\",\"dtype\":\"float64\",\"order\":\"little\",\"shape\":[100]},\"y\":{\"__ndarray__\":\"AAAAAAAAAADQnaK0ZWgXQMUrAihy3CBAkEf9D/9EIkDKA74APNEiQGkBwb0mFiNAEi20ZEY+I0Cr/wPGZ1gjQHmsND+0aiNAiwW37i14I0BdcNGCeYIjQLSLaUGQiiNAM5udRg+RI0Air3mFXpYjQFexiYXFmiNAteokHneeI0AG6nhxmKEjQLw+fUFFpCNAakIxuZKmI0CcuLlFkagjQGhAMthNqiNAXCPGxtKrI0CHloNsKK0jQJHRspxVriNAaO4X+V+vI0C0ckcxTLAjQOPCaDMesSNAH3VfUdmxI0Dc2LpdgLIjQJJpZsIVsyNA0vOlkpuzI0B983eZE7QjQAvnK2V/tCNAkAPOUOC0I0BLbQGMN7UjQKXmESGGtSNA1vBp+sy1I0BN5gnnDLYjQHiqFp5GtiNAt9QMwnq2I0DMD0rjqbYjQJExd4LUtiNArIZ3Evu2I0AdcOb5HbcjQBXVaZQ9tyNAAhJpNFq3I0Cg8r0jdLcjQLScwqSLtyNA0EAj86C3I0AO7JZEtLcjQCVEgsnFtyNAIhmHrdW3I0CKfgMY5LcjQKpTgizxtyNAgDMfC/23I0CWW9/QB7gjQGjtAJgRuCNAjrRBeBq4I0DoVx6HIrgjQFX9CtgpuCNA3gemfDC4I0C/p+WENrgjQNO8QP87uCNArp3T+EC4I0CRTYF9RbgjQPM6EZhJuCNApDBKUk24I0DRUQq1ULgjQB3XXMhTuCNAT0+Qk1a4I0ABHU4dWbgjQE8qd2tbuCNARging124I0BBcM9qX7gjQNDfXCVhuCNAAiRvt2K4I0DjeLQkZLgjQAudqnBluCNAmmhenma4I0C78iKwZ7gjQNggEKlouCNAO388i2m4I0C207xYargjQH0qdRNruCNA2kwdvWu4I0DZrERXbLgjQIckVuNsuCNAjT6bYm24I0APGD7WbbgjQMopVD9uuCNAlfjNnm64I0BjB5D1brgjQGKuZERvuCNADiIGjG+4I0AFkRzNb7gjQNoNQQhwuCNAzZ3+PXC4I0DMrtNucLgjQBHfMptwuCNAUtqEw3C4I0A=\",\"dtype\":\"float64\",\"order\":\"little\",\"shape\":[100]}},\"selected\":{\"id\":\"1761\"},\"selection_policy\":{\"id\":\"1760\"}},\"id\":\"1746\",\"type\":\"ColumnDataSource\"},{\"attributes\":{\"data\":{\"x\":{\"__ndarray__\":\"AAAAAAAAAAD0kcwotrK2P/SRzCi2ssY/d22ZnggG0T/0kcwotrLWP3K2/7JjX9w/d22ZnggG4T+2/7JjX9zjP/SRzCi2suY/MyTm7QyJ6T9ytv+yY1/sP7BIGXi6Ne8/d22ZnggG8T+WNiYBNHHyP7b/smNf3PM/1sg/xopH9T/0kcwotrL2PxNbWYvhHfg/MyTm7QyJ+T9T7XJQOPT6P3K2/7JjX/w/kH+MFY/K/T+wSBl4ujX/P+gIU+1yUABAd22ZnggGAUAG0t9PnrsBQJY2JgE0cQJAJptssskmA0C2/7JjX9wDQEVk+RT1kQRA1sg/xopHBUBlLYZ3IP0FQPSRzCi2sgZAhPYS2ktoB0ATW1mL4R0IQKS/nzx30whAMyTm7QyJCUDCiCyfoj4KQFPtclA49ApA4lG5Ac6pC0Bytv+yY18MQAEbRmT5FA1AkH+MFY/KDUAh5NLGJIAOQLBIGXi6NQ9AQK1fKVDrD0DoCFPtclAQQDA79sU9qxBAd22ZnggGEUC/nzx302ARQAbS30+euxFATwSDKGkWEkCWNiYBNHESQN9oydn+yxJAJptssskmE0BuzQ+LlIETQLb/smNf3BNA/jFWPCo3FEBFZPkU9ZEUQI2WnO2/7BRA1sg/xopHFUAe++KeVaIVQGUthncg/RVArV8pUOtXFkD0kcwotrIWQD3EbwGBDRdAhPYS2ktoF0DMKLayFsMXQBNbWYvhHRhAXI38Y6x4GECkv588d9MYQOzxQhVCLhlAMyTm7QyJGUB7VonG1+MZQMKILJ+iPhpAC7vPd22ZGkBT7XJQOPQaQJsfFikDTxtA4lG5Ac6pG0AqhFzamAQcQHK2/7JjXxxAuuiiiy66HEABG0Zk+RQdQElN6TzEbx1AkH+MFY/KHUDasS/uWSUeQCHk0sYkgB5AaRZ2n+/aHkCwSBl4ujUfQPl6vFCFkB9AQK1fKVDrH0DEbwGBDSMgQOgIU+1yUCBADKKkWdh9IEAwO/bFPasgQFTURzKj2CBAd22ZnggGIUCcBusKbjMhQL+fPHfTYCFA4ziO4ziOIUA=\",\"dtype\":\"float64\",\"order\":\"little\",\"shape\":[100]},\"y\":{\"__ndarray__\":\"AAAAAAAAJEDV+YQ6GrgjQNf5hDoauCNA1/mEOhq4I0DX+YQ6GrgjQNb5hDoauCNA1/mEOhq4I0DX+YQ6GrgjQNf5hDoauCNA1/mEOhq4I0DW+YQ6GrgjQNf5hDoauCNA2PmEOhq4I0DY+YQ6GrgjQNj5hDoauCNA2PmEOhq4I0DY+YQ6GrgjQNj5hDoauCNA2PmEOhq4I0DZ+YQ6GrgjQNf5hDoauCNA2PmEOhq4I0DX+YQ6GrgjQNf5hDoauCNA1/mEOhq4I0DX+YQ6GrgjQNf5hDoauCNA1vmEOhq4I0DW+YQ6GrgjQNb5hDoauCNA1vmEOhq4I0DW+YQ6GrgjQNb5hDoauCNA1vmEOhq4I0DV+YQ6GrgjQNX5hDoauCNA1fmEOhq4I0DV+YQ6GrgjQNX5hDoauCNA1fmEOhq4I0DV+YQ6GrgjQNX5hDoauCNA1/mEOhq4I0DX+YQ6GrgjQNf5hDoauCNA1/mEOhq4I0DX+YQ6GrgjQNf5hDoauCNA1/mEOhq4I0DX+YQ6GrgjQNf5hDoauCNA1/mEOhq4I0DX+YQ6GrgjQNf5hDoauCNA1/mEOhq4I0DX+YQ6GrgjQNf5hDoauCNA1/mEOhq4I0DX+YQ6GrgjQNf5hDoauCNA1/mEOhq4I0DX+YQ6GrgjQNf5hDoauCNA1/mEOhq4I0DX+YQ6GrgjQNb5hDoauCNA1fmEOhq4I0DV+YQ6GrgjQNT5hDoauCNA1fmEOhq4I0Dp+YQ6GrgjQMn5hDoauCNAxPmEOhq4I0DW+YQ6GrgjQNT5hDoauCNA1PmEOhq4I0DJ+YQ6GrgjQOr5hDoauCNAL/qEOhq4I0DU+YQ6GrgjQNT5hDoauCNA1PmEOhq4I0DU+YQ6GrgjQNX5hDoauCNA1fmEOhq4I0DW+YQ6GrgjQNT5hDoauCNA1/mEOhq4I0AC+oQ6GrgjQM35hDoauCNA3fmEOhq4I0DT+YQ6GrgjQNf5hDoauCNA1vmEOhq4I0DW+YQ6GrgjQNb5hDoauCNA1vmEOhq4I0DW+YQ6GrgjQNX5hDoauCNA1/mEOhq4I0A=\",\"dtype\":\"float64\",\"order\":\"little\",\"shape\":[100]}},\"selected\":{\"id\":\"1726\"},\"selection_policy\":{\"id\":\"1725\"}},\"id\":\"1715\",\"type\":\"ColumnDataSource\"},{\"attributes\":{\"line_color\":\"#2ba02b\",\"line_width\":2,\"x\":{\"field\":\"x\"},\"y\":{\"field\":\"y\"}},\"id\":\"1747\",\"type\":\"Line\"},{\"attributes\":{\"data_source\":{\"id\":\"1746\"},\"glyph\":{\"id\":\"1747\"},\"hover_glyph\":null,\"muted_glyph\":null,\"nonselection_glyph\":{\"id\":\"1748\"},\"selection_glyph\":null,\"view\":{\"id\":\"1750\"}},\"id\":\"1749\",\"type\":\"GlyphRenderer\"},{\"attributes\":{\"line_color\":\"#1f77b3\",\"line_width\":2,\"x\":{\"field\":\"x\"},\"y\":{\"field\":\"y\"}},\"id\":\"1716\",\"type\":\"Line\"},{\"attributes\":{},\"id\":\"1701\",\"type\":\"PanTool\"},{\"attributes\":{\"source\":{\"id\":\"1746\"}},\"id\":\"1750\",\"type\":\"CDSView\"},{\"attributes\":{},\"id\":\"1702\",\"type\":\"WheelZoomTool\"},{\"attributes\":{},\"id\":\"1760\",\"type\":\"UnionRenderers\"},{\"attributes\":{\"line_alpha\":0.1,\"line_color\":\"#2ba02b\",\"line_width\":2,\"x\":{\"field\":\"x\"},\"y\":{\"field\":\"y\"}},\"id\":\"1748\",\"type\":\"Line\"},{\"attributes\":{\"overlay\":{\"id\":\"1707\"}},\"id\":\"1703\",\"type\":\"BoxZoomTool\"},{\"attributes\":{\"label\":{\"value\":\"inside_H\"},\"renderers\":[{\"id\":\"1749\"}]},\"id\":\"1763\",\"type\":\"LegendItem\"},{\"attributes\":{},\"id\":\"1704\",\"type\":\"SaveTool\"},{\"attributes\":{},\"id\":\"1761\",\"type\":\"Selection\"},{\"attributes\":{},\"id\":\"1705\",\"type\":\"ResetTool\"},{\"attributes\":{\"data\":{\"x\":{\"__ndarray__\":\"AAAAAAAAAAD0kcwotrK2P/SRzCi2ssY/d22ZnggG0T/0kcwotrLWP3K2/7JjX9w/d22ZnggG4T+2/7JjX9zjP/SRzCi2suY/MyTm7QyJ6T9ytv+yY1/sP7BIGXi6Ne8/d22ZnggG8T+WNiYBNHHyP7b/smNf3PM/1sg/xopH9T/0kcwotrL2PxNbWYvhHfg/MyTm7QyJ+T9T7XJQOPT6P3K2/7JjX/w/kH+MFY/K/T+wSBl4ujX/P+gIU+1yUABAd22ZnggGAUAG0t9PnrsBQJY2JgE0cQJAJptssskmA0C2/7JjX9wDQEVk+RT1kQRA1sg/xopHBUBlLYZ3IP0FQPSRzCi2sgZAhPYS2ktoB0ATW1mL4R0IQKS/nzx30whAMyTm7QyJCUDCiCyfoj4KQFPtclA49ApA4lG5Ac6pC0Bytv+yY18MQAEbRmT5FA1AkH+MFY/KDUAh5NLGJIAOQLBIGXi6NQ9AQK1fKVDrD0DoCFPtclAQQDA79sU9qxBAd22ZnggGEUC/nzx302ARQAbS30+euxFATwSDKGkWEkCWNiYBNHESQN9oydn+yxJAJptssskmE0BuzQ+LlIETQLb/smNf3BNA/jFWPCo3FEBFZPkU9ZEUQI2WnO2/7BRA1sg/xopHFUAe++KeVaIVQGUthncg/RVArV8pUOtXFkD0kcwotrIWQD3EbwGBDRdAhPYS2ktoF0DMKLayFsMXQBNbWYvhHRhAXI38Y6x4GECkv588d9MYQOzxQhVCLhlAMyTm7QyJGUB7VonG1+MZQMKILJ+iPhpAC7vPd22ZGkBT7XJQOPQaQJsfFikDTxtA4lG5Ac6pG0AqhFzamAQcQHK2/7JjXxxAuuiiiy66HEABG0Zk+RQdQElN6TzEbx1AkH+MFY/KHUDasS/uWSUeQCHk0sYkgB5AaRZ2n+/aHkCwSBl4ujUfQPl6vFCFkB9AQK1fKVDrH0DEbwGBDSMgQOgIU+1yUCBADKKkWdh9IEAwO/bFPasgQFTURzKj2CBAd22ZnggGIUCcBusKbjMhQL+fPHfTYCFA4ziO4ziOIUA=\",\"dtype\":\"float64\",\"order\":\"little\",\"shape\":[100]},\"y\":{\"__ndarray__\":\"AAAAAAAAAADWsMszipIGQB7na+WdfCVAvTUZf2wdNUC4mozAUNI/QHMNuBv+5ERAxAc39OBtSUCuvzd2xoxNQGN3S+2rpVBAeRpDfDBZUkDirzAF8ORTQFsoIjiMTFVAAeHb31GTVkDSnraiQLxXQPN6yA0SylhAHNWp+z+/WUDzNFdlCp5aQF/5hat8aFtAdOLyY3IgXEAvXrK2m8dcQDk3bFWBX11AKJfZFYjpXUCPUwU49GZeQMNl7F/s2F5AURn9SXxAX0DsTn0/l55fQP9Q81Ia9F9AU3kwM+cgYEBEzB4CNURgQJx8y4VJZGBAj5L1GnCBYEAbZaQ87ZtgQFD89yT/s2BAJ0x1X97JYEB+j8pNvt1gQGzBeqDN72BAPbSFxDYAYUCf2UlHIA9hQCGPxzCtHGFA+2IUVv0oYUCbFz2kLTRhQNQ5CWRYPmFAWonRd5VHYUB3d5qT+k9hQDt1DXCbV2FAr1/N+IleYUCJwJN21mRhQIm2abWPamFAkbJyJ8NvYUCLuoQEfXRhQN9M02bIeGFAy6cGZa98YUC/tvEpO4BhQKYbGgp0g2FAdx5Kl2GGYUDZIliyColhQNJvT5t1i2FAiZggAKiNYUAk0fYJp49hQPd2WGl3kWFAPL0rYR2TYUC0XbnQnJRhQCh6xDz5lWFAV+bN1zWXYUAYmJuJVZhhQNHkBvZamWFAglAyg0iaYUAozCpfIJthQEkRCYXkm2FARKSWwZacYUD7sYm3OJ1hQOA+XOPLnWFArMbJnlGeYUAq/Psjy55hQBeka5A5n2FAdoWA552fYUCJAPMU+Z9hQCC/9O5LoGFAsD0oOJegYUBAB2qh26BhQBJkZ8sZoWFAoZ08SFKhYUCue5KchaFhQNVt+0C0oWFA9nsMo96hYUCka1UmBaJhQEgXSyUoomFAIO4o8keiYUDH4aXXZKJhQGvMoBl/omFAWDfH9ZaiYUCZ7SekrKJhQJZFs1fAomFAzzGxPtKiYUBFBy+D4qJhQGaKY0vxomFAThcJuv6iYUD3T67uCqNhQLSu/wUWo2FAUwYLGiCjYUA=\",\"dtype\":\"float64\",\"order\":\"little\",\"shape\":[100]}},\"selected\":{\"id\":\"1781\"},\"selection_policy\":{\"id\":\"1780\"}},\"id\":\"1764\",\"type\":\"ColumnDataSource\"},{\"attributes\":{\"line_color\":\"#9367bc\",\"line_width\":2,\"x\":{\"field\":\"x\"},\"y\":{\"field\":\"y\"}},\"id\":\"1765\",\"type\":\"Line\"},{\"attributes\":{},\"id\":\"1706\",\"type\":\"HelpTool\"},{\"attributes\":{\"label\":{\"value\":\"bound proton pump\"},\"renderers\":[{\"id\":\"1787\"}]},\"id\":\"1805\",\"type\":\"LegendItem\"},{\"attributes\":{\"active_drag\":\"auto\",\"active_inspect\":\"auto\",\"active_multi\":null,\"active_scroll\":\"auto\",\"active_tap\":\"auto\",\"tools\":[{\"id\":\"1701\"},{\"id\":\"1702\"},{\"id\":\"1703\"},{\"id\":\"1704\"},{\"id\":\"1705\"},{\"id\":\"1706\"}]},\"id\":\"1708\",\"type\":\"Toolbar\"},{\"attributes\":{\"line_alpha\":0.1,\"line_color\":\"#9367bc\",\"line_width\":2,\"x\":{\"field\":\"x\"},\"y\":{\"field\":\"y\"}},\"id\":\"1766\",\"type\":\"Line\"},{\"attributes\":{},\"id\":\"1725\",\"type\":\"UnionRenderers\"},{\"attributes\":{\"data_source\":{\"id\":\"1764\"},\"glyph\":{\"id\":\"1765\"},\"hover_glyph\":null,\"muted_glyph\":null,\"nonselection_glyph\":{\"id\":\"1766\"},\"selection_glyph\":null,\"view\":{\"id\":\"1768\"}},\"id\":\"1767\",\"type\":\"GlyphRenderer\"}],\"root_ids\":[\"2173\"]},\"title\":\"Bokeh Application\",\"version\":\"2.2.1\"}};\n",
       "  var render_items = [{\"docid\":\"d4f7da33-3f02-4e98-807c-0fe91161809f\",\"root_ids\":[\"2173\"],\"roots\":{\"2173\":\"5cf0b416-99b4-467e-8e82-ea8f06a125c1\"}}];\n",
       "  root.Bokeh.embed.embed_items_notebook(docs_json, render_items);\n",
       "\n",
       "  }\n",
       "  if (root.Bokeh !== undefined) {\n",
       "    embed_document(root);\n",
       "  } else {\n",
       "    var attempts = 0;\n",
       "    var timer = setInterval(function(root) {\n",
       "      if (root.Bokeh !== undefined) {\n",
       "        clearInterval(timer);\n",
       "        embed_document(root);\n",
       "      } else {\n",
       "        attempts++;\n",
       "        if (attempts > 100) {\n",
       "          clearInterval(timer);\n",
       "          console.log(\"Bokeh: ERROR: Unable to run BokehJS code because BokehJS library is missing\");\n",
       "        }\n",
       "      }\n",
       "    }, 10, root)\n",
       "  }\n",
       "})(window);"
      ],
      "application/vnd.bokehjs_exec.v0+json": ""
     },
     "metadata": {
      "application/vnd.bokehjs_exec.v0+json": {
       "id": "2173"
      }
     },
     "output_type": "display_data"
    }
   ],
   "source": [
    "bokeh.io.show(row(p3,p_w_atp, p_no_atp))"
   ]
  },
  {
   "cell_type": "markdown",
   "metadata": {},
   "source": [
    "Cool. What's going on with the second plot. How come it looks like atp isn't being consumed?? Fix those params?? Next do temperature sensitivity."
   ]
  },
  {
   "cell_type": "code",
   "execution_count": 19,
   "metadata": {},
   "outputs": [
    {
     "data": {
      "text/html": [
       "\n",
       "\n",
       "\n",
       "\n",
       "\n",
       "\n",
       "  <div class=\"bk-root\" id=\"92e178e5-9300-47f2-9d6d-657f396e583a\" data-root-id=\"2466\"></div>\n"
      ]
     },
     "metadata": {},
     "output_type": "display_data"
    },
    {
     "data": {
      "application/javascript": [
       "(function(root) {\n",
       "  function embed_document(root) {\n",
       "    \n",
       "  var docs_json = {\"d4f91a1d-f783-41fe-90cf-9abaaa0eb191\":{\"roots\":{\"references\":[{\"attributes\":{\"below\":[{\"id\":\"2477\"}],\"center\":[{\"id\":\"2480\"},{\"id\":\"2484\"},{\"id\":\"2512\"}],\"left\":[{\"id\":\"2481\"}],\"plot_height\":350,\"plot_width\":450,\"renderers\":[{\"id\":\"2502\"},{\"id\":\"2517\"},{\"id\":\"2533\"}],\"title\":{\"id\":\"2467\"},\"toolbar\":{\"id\":\"2492\"},\"x_range\":{\"id\":\"2469\"},\"x_scale\":{\"id\":\"2473\"},\"y_range\":{\"id\":\"2471\"},\"y_scale\":{\"id\":\"2475\"}},\"id\":\"2466\",\"subtype\":\"Figure\",\"type\":\"Plot\"},{\"attributes\":{},\"id\":\"2469\",\"type\":\"DataRange1d\"},{\"attributes\":{\"overlay\":{\"id\":\"2491\"}},\"id\":\"2487\",\"type\":\"BoxZoomTool\"},{\"attributes\":{},\"id\":\"2544\",\"type\":\"UnionRenderers\"},{\"attributes\":{\"data\":{\"x\":{\"__ndarray__\":\"AAAAAAAAAABIzNsZEvNzQEjM2xkS84NAbLLJJpvsjUBIzNsZEvOTQFq/UqDW75hAbLLJJpvsnUC/UqDWr3ShQEjM2xkS86NA0UUXXXRxpkBav1Kg1u+oQOM4juM4bqtAbLLJJpvsrUD6lQK1fjWwQL9SoNavdLFAhA8++OCzskBIzNsZEvOzQAyJeTtDMrVA0UUXXXRxtkCWArV+pbC3QFq/UqDW77hAHnzwwQcvukDjOI7jOG67QKj1KwVqrbxAbLLJJpvsvUAwb2dIzCu/QPqVArV+NcBAXXTRRRfVwEC/UqDWr3TBQCExb2dIFMJAhA8++OCzwkDm7QyJeVPDQEjM2xkS88NAqqqqqqqSxEAMiXk7QzLFQG9nSMzb0cVA0UUXXXRxxkAzJObtDBHHQJYCtX6lsMdA+OCDDz5QyEBav1Kg1u/IQLydITFvj8lAHnzwwQcvykCBWr9SoM7KQOM4juM4bstARRdddNENzECo9SsFaq3MQArU+pUCTc1AbLLJJpvszUDOkJi3M4zOQDBvZ0jMK89Ak0022WTLz0D6lQK1fjXQQCwFav1KhdBAXXTRRRfV0ECO4ziO4yTRQL9SoNavdNFA8MEHH3zE0UAhMW9nSBTSQFKg1q8UZNJAhA8++OCz0kC1fqVArQPTQObtDIl5U9NAF1100UWj00BIzNsZEvPTQHk7Q2LeQtRAqqqqqqqS1EDbGRLzduLUQAyJeTtDMtVAPvjggw+C1UBvZ0jM29HVQKDWrxSoIdZA0UUXXXRx1kACtX6lQMHWQDMk5u0MEddAZJNNNtlg10CWArV+pbDXQMdxHMdxANhA+OCDDz5Q2EApUOtXCqDYQFq/UqDW79hAiy666KI/2UC8nSExb4/ZQO0MiXk739lAHnzwwQcv2kBQ61cK1H7aQIFav1KgztpAsskmm2we20DjOI7jOG7bQBSo9SsFvttARRdddNEN3EB2hsS8nV3cQKj1KwVqrdxA2WSTTTb93EAK1PqVAk3dQDtDYt7OnN1AbLLJJpvs3UCdITFvZzzeQM6QmLczjN5AAAAAAADc3kA=\",\"dtype\":\"float64\",\"order\":\"little\",\"shape\":[100]},\"y\":{\"__ndarray__\":\"AAAAAAAAJEDV+YQ6GrgjQNf5hDoauCNA1/mEOhq4I0DX+YQ6GrgjQNb5hDoauCNA1/mEOhq4I0DX+YQ6GrgjQNf5hDoauCNA1/mEOhq4I0DW+YQ6GrgjQNf5hDoauCNA2PmEOhq4I0DY+YQ6GrgjQNj5hDoauCNA2PmEOhq4I0DY+YQ6GrgjQNj5hDoauCNA2PmEOhq4I0DZ+YQ6GrgjQNf5hDoauCNA2PmEOhq4I0DX+YQ6GrgjQNf5hDoauCNA1/mEOhq4I0DX+YQ6GrgjQNf5hDoauCNA1vmEOhq4I0DW+YQ6GrgjQNb5hDoauCNA1vmEOhq4I0DW+YQ6GrgjQNb5hDoauCNA1vmEOhq4I0DV+YQ6GrgjQNX5hDoauCNA1fmEOhq4I0DV+YQ6GrgjQNX5hDoauCNA1fmEOhq4I0DV+YQ6GrgjQNX5hDoauCNA1/mEOhq4I0DX+YQ6GrgjQNf5hDoauCNA1/mEOhq4I0DX+YQ6GrgjQNf5hDoauCNA1/mEOhq4I0DX+YQ6GrgjQNf5hDoauCNA1/mEOhq4I0DX+YQ6GrgjQNf5hDoauCNA1/mEOhq4I0DX+YQ6GrgjQNf5hDoauCNA1/mEOhq4I0DX+YQ6GrgjQNf5hDoauCNA1/mEOhq4I0DX+YQ6GrgjQNf5hDoauCNA1/mEOhq4I0DX+YQ6GrgjQNb5hDoauCNA1fmEOhq4I0DV+YQ6GrgjQNT5hDoauCNA1fmEOhq4I0Dp+YQ6GrgjQMn5hDoauCNAxPmEOhq4I0DW+YQ6GrgjQNT5hDoauCNA1PmEOhq4I0DJ+YQ6GrgjQOr5hDoauCNAL/qEOhq4I0DU+YQ6GrgjQNT5hDoauCNA1PmEOhq4I0DU+YQ6GrgjQNX5hDoauCNA1fmEOhq4I0DW+YQ6GrgjQNT5hDoauCNA1/mEOhq4I0AC+oQ6GrgjQM35hDoauCNA3fmEOhq4I0DT+YQ6GrgjQNf5hDoauCNA1vmEOhq4I0DW+YQ6GrgjQNb5hDoauCNA1vmEOhq4I0DW+YQ6GrgjQNX5hDoauCNA1/mEOhq4I0A=\",\"dtype\":\"float64\",\"order\":\"little\",\"shape\":[100]}},\"selected\":{\"id\":\"2510\"},\"selection_policy\":{\"id\":\"2509\"}},\"id\":\"2499\",\"type\":\"ColumnDataSource\"},{\"attributes\":{},\"id\":\"2506\",\"type\":\"BasicTickFormatter\"},{\"attributes\":{},\"id\":\"2488\",\"type\":\"SaveTool\"},{\"attributes\":{\"line_alpha\":0.1,\"line_color\":\"#ff7e0e\",\"line_width\":2,\"x\":{\"field\":\"x\"},\"y\":{\"field\":\"y\"}},\"id\":\"2516\",\"type\":\"Line\"},{\"attributes\":{},\"id\":\"2508\",\"type\":\"BasicTickFormatter\"},{\"attributes\":{\"text\":\"ATP Compare\"},\"id\":\"2467\",\"type\":\"Title\"},{\"attributes\":{},\"id\":\"2489\",\"type\":\"ResetTool\"},{\"attributes\":{},\"id\":\"2471\",\"type\":\"DataRange1d\"},{\"attributes\":{\"source\":{\"id\":\"2530\"}},\"id\":\"2534\",\"type\":\"CDSView\"},{\"attributes\":{},\"id\":\"2490\",\"type\":\"HelpTool\"},{\"attributes\":{},\"id\":\"2473\",\"type\":\"LinearScale\"},{\"attributes\":{\"line_color\":\"#ff7e0e\",\"line_width\":2,\"x\":{\"field\":\"x\"},\"y\":{\"field\":\"y\"}},\"id\":\"2515\",\"type\":\"Line\"},{\"attributes\":{},\"id\":\"2475\",\"type\":\"LinearScale\"},{\"attributes\":{\"label\":{\"value\":\"ATP Use only\"},\"renderers\":[{\"id\":\"2533\"}]},\"id\":\"2547\",\"type\":\"LegendItem\"},{\"attributes\":{\"data\":{\"x\":{\"__ndarray__\":\"AAAAAAAAAABIzNsZEvNzQEjM2xkS84NAbLLJJpvsjUBIzNsZEvOTQFq/UqDW75hAbLLJJpvsnUC/UqDWr3ShQEjM2xkS86NA0UUXXXRxpkBav1Kg1u+oQOM4juM4bqtAbLLJJpvsrUD6lQK1fjWwQL9SoNavdLFAhA8++OCzskBIzNsZEvOzQAyJeTtDMrVA0UUXXXRxtkCWArV+pbC3QFq/UqDW77hAHnzwwQcvukDjOI7jOG67QKj1KwVqrbxAbLLJJpvsvUAwb2dIzCu/QPqVArV+NcBAXXTRRRfVwEC/UqDWr3TBQCExb2dIFMJAhA8++OCzwkDm7QyJeVPDQEjM2xkS88NAqqqqqqqSxEAMiXk7QzLFQG9nSMzb0cVA0UUXXXRxxkAzJObtDBHHQJYCtX6lsMdA+OCDDz5QyEBav1Kg1u/IQLydITFvj8lAHnzwwQcvykCBWr9SoM7KQOM4juM4bstARRdddNENzECo9SsFaq3MQArU+pUCTc1AbLLJJpvszUDOkJi3M4zOQDBvZ0jMK89Ak0022WTLz0D6lQK1fjXQQCwFav1KhdBAXXTRRRfV0ECO4ziO4yTRQL9SoNavdNFA8MEHH3zE0UAhMW9nSBTSQFKg1q8UZNJAhA8++OCz0kC1fqVArQPTQObtDIl5U9NAF1100UWj00BIzNsZEvPTQHk7Q2LeQtRAqqqqqqqS1EDbGRLzduLUQAyJeTtDMtVAPvjggw+C1UBvZ0jM29HVQKDWrxSoIdZA0UUXXXRx1kACtX6lQMHWQDMk5u0MEddAZJNNNtlg10CWArV+pbDXQMdxHMdxANhA+OCDDz5Q2EApUOtXCqDYQFq/UqDW79hAiy666KI/2UC8nSExb4/ZQO0MiXk739lAHnzwwQcv2kBQ61cK1H7aQIFav1KgztpAsskmm2we20DjOI7jOG7bQBSo9SsFvttARRdddNEN3EB2hsS8nV3cQKj1KwVqrdxA2WSTTTb93EAK1PqVAk3dQDtDYt7OnN1AbLLJJpvs3UCdITFvZzzeQM6QmLczjN5AAAAAAADc3kA=\",\"dtype\":\"float64\",\"order\":\"little\",\"shape\":[100]},\"y\":{\"__ndarray__\":\"AAAAAAAAJEAVXf4fOi2FuoWDYJE423C6TzNPSP8Mt7lfKWkHEQClubNhgGMZRNa4qwlEqyA81biisQfzJzTUuJpZyzovLNO4kQGPgjYk0riIqVLKPRzRuH9RFhJFFNC47vKzs5gYzrjfQjtDpwjMuMySwtK1+Mm4u+JJYsTox7iqMtHx0tjFuJqCWIHhyMO4iNLfEPC4wbjsRM5A/VG/uMvk3F8aMru4qoTrfjcSt7iHJPqdVPKyuMWIEXrjpK24g8guuB1lpbiFEJjsr0qauAUgpdFIloO4EUt5opQB37dGWVa4y43dt3tnM84CGty3rXUQ5Dmm2rfig+35cDLZtxaSyg+ovte3S6CnJd9K1reAroQ7FtfUt7K8YVFNY9O358o+Z4Tv0bcc2Rt9u3vQt5zO8SXlD863BeurUVMoy7dvB2Z9wUDIt9gjIKkvWcW3QUDa1J1xwrdMuSgBGBS/tx7ynFj0RLm38CoRsNB1s7d0xwoPWk2rtzNy5nslXp+3+6pusy1DgLfvjIlUedLNtsmTph1Hr822pJrD5hSMzbaAoeCv4mjNtlmo/XiwRc22M68aQn4izbYNtjcLTP/Mtui8VNQZ3My2w8Nxnee4zLaeyo5mtZXMtnjRqy+Dcsy2UtjI+FBPzLYt3+XBHizMtgfmAovsCMy24ewfVLrly7a88zwdiMLLtpf6WeZVn8u2cQF3ryN8y7ZLCJR48VjLticPsUG/Ncu2ABbOCo0Sy7bbHOvTWu/KtrYjCJ0ozMq2kColZvaoyrZrMUIvxIXKtkU4X/iRYsq2Hz98wV8/yrb6RZmKLRzKttRMtlP7+Mm2rlPTHMnVybaKWvDllrLJtmRhDa9kj8m2PmgqeDJsybYZb0dBAEnJtvR1ZArOJcm2znyB05sCybaog56cad/ItoOKu2U3vMi2XZHYLgWZyLY3mPX30nXIthOfEsGgUsi27aUvim4vyLbHrExTPAzItqKzaRwK6ce2fLqG5dfFx7ZWwaOupaLHtjHIwHdzf8e2C8/dQEFcx7bm1foJDznHtsHcF9PcFce2muM0nKryxrY=\",\"dtype\":\"float64\",\"order\":\"little\",\"shape\":[100]}},\"selected\":{\"id\":\"2545\"},\"selection_policy\":{\"id\":\"2544\"}},\"id\":\"2530\",\"type\":\"ColumnDataSource\"},{\"attributes\":{\"axis_label\":\"time (sec)\",\"formatter\":{\"id\":\"2508\"},\"ticker\":{\"id\":\"2478\"}},\"id\":\"2477\",\"type\":\"LinearAxis\"},{\"attributes\":{},\"id\":\"2545\",\"type\":\"Selection\"},{\"attributes\":{\"axis\":{\"id\":\"2481\"},\"dimension\":1,\"ticker\":null},\"id\":\"2484\",\"type\":\"Grid\"},{\"attributes\":{\"label\":{\"value\":\"with ATP Synthase, ATP Use\"},\"renderers\":[{\"id\":\"2517\"}]},\"id\":\"2529\",\"type\":\"LegendItem\"},{\"attributes\":{},\"id\":\"2478\",\"type\":\"BasicTicker\"},{\"attributes\":{},\"id\":\"2526\",\"type\":\"UnionRenderers\"},{\"attributes\":{\"axis\":{\"id\":\"2477\"},\"ticker\":null},\"id\":\"2480\",\"type\":\"Grid\"},{\"attributes\":{\"data\":{\"x\":{\"__ndarray__\":\"AAAAAAAAAABIzNsZEvNzQEjM2xkS84NAbLLJJpvsjUBIzNsZEvOTQFq/UqDW75hAbLLJJpvsnUC/UqDWr3ShQEjM2xkS86NA0UUXXXRxpkBav1Kg1u+oQOM4juM4bqtAbLLJJpvsrUD6lQK1fjWwQL9SoNavdLFAhA8++OCzskBIzNsZEvOzQAyJeTtDMrVA0UUXXXRxtkCWArV+pbC3QFq/UqDW77hAHnzwwQcvukDjOI7jOG67QKj1KwVqrbxAbLLJJpvsvUAwb2dIzCu/QPqVArV+NcBAXXTRRRfVwEC/UqDWr3TBQCExb2dIFMJAhA8++OCzwkDm7QyJeVPDQEjM2xkS88NAqqqqqqqSxEAMiXk7QzLFQG9nSMzb0cVA0UUXXXRxxkAzJObtDBHHQJYCtX6lsMdA+OCDDz5QyEBav1Kg1u/IQLydITFvj8lAHnzwwQcvykCBWr9SoM7KQOM4juM4bstARRdddNENzECo9SsFaq3MQArU+pUCTc1AbLLJJpvszUDOkJi3M4zOQDBvZ0jMK89Ak0022WTLz0D6lQK1fjXQQCwFav1KhdBAXXTRRRfV0ECO4ziO4yTRQL9SoNavdNFA8MEHH3zE0UAhMW9nSBTSQFKg1q8UZNJAhA8++OCz0kC1fqVArQPTQObtDIl5U9NAF1100UWj00BIzNsZEvPTQHk7Q2LeQtRAqqqqqqqS1EDbGRLzduLUQAyJeTtDMtVAPvjggw+C1UBvZ0jM29HVQKDWrxSoIdZA0UUXXXRx1kACtX6lQMHWQDMk5u0MEddAZJNNNtlg10CWArV+pbDXQMdxHMdxANhA+OCDDz5Q2EApUOtXCqDYQFq/UqDW79hAiy666KI/2UC8nSExb4/ZQO0MiXk739lAHnzwwQcv2kBQ61cK1H7aQIFav1KgztpAsskmm2we20DjOI7jOG7bQBSo9SsFvttARRdddNEN3EB2hsS8nV3cQKj1KwVqrdxA2WSTTTb93EAK1PqVAk3dQDtDYt7OnN1AbLLJJpvs3UCdITFvZzzeQM6QmLczjN5AAAAAAADc3kA=\",\"dtype\":\"float64\",\"order\":\"little\",\"shape\":[100]},\"y\":{\"__ndarray__\":\"AAAAAAAAJECA4V5zVI8Ju7CZ3UyFR+K5DOHcdBUik7l+s1huQaQvuUd6zSC25RK5bC5a3wqLQTl8YDOiwC3QOFDST1tiwNe4yRc4wX/S4DgMMOJM1AwGuSA5sHDtWm45tKNJK0UV+bhc8plSjJjgOBoWrP5nC9G41H7TUZIuvriQB1Rt43i6uADYVhd6Yw+5MI0inXN8ZTnTahu9u5IFuQjdrVrNaPa44s1fpObnsDhFEJ3cBxOrOLuYv2yao8s4SXOKNxWP0DiGSnLdWrLruALjtmlB3uE4mOYfZVSYzbhuWabZ0sIBuboONeyB7yS5PnsBxo1G9riZjEV8+jEhuVh85rdM3xO5iEt6vrqkTrkPDVOBf7dXue8qDyOTXyI5z/Coq59ENLl+hPG/q///OOznFWMiMNW46/dBNrcLzDgEhKxLqVGaOOgWqjtPcGs4uLm90Z9QgTj/uPEeoMqmOFAjb1Y42Yi4JrayFPjiu7jawrz7FZvMOC0x0CDxkoM41L1jPyXcgDjALjeVlyxYOKi+YBJlYVE4kFSo24jrPbgC4mv7jEt1uBFv5eq7D3S4OF39d2W+nDhcWnbv/fueuB78zKtBAsO4SOPPvQmJ1zjAmTFyVQemuLCREYWaJP64yuY1UnpGLzmZrNY9Xw8juWreIU2fYw45pHMhHDUSt7iUkKZrXXbCOOZFMlwVu4w4g1xMKCIVtbjTgvPLJqajOK04lXm66bQ44FaFy03NhTikhdrDPTaoON5lq3G+h8S4EsNOWCHX1DgACSSDGrXkuDpGaR0VUvQ4wIydDtPl27jM9Q/2x4klOcS/pq8I3jy5u2VAdPujYjmXrs1SZ4JQuVXcL7QBWjY5ohelCJjaJzmcJysaZy04uVzjyO6AXkY5BfkqSTyqRLlgALrvfHBCubQ3zZfhRmc5XmwK7pYmgLloOT8iu2SJOW6Aooff4rK546Ioqh/BtjnAaZoPnS+AOcDe6MTy4ty5hHKqX+IA/DmoZ4U8rdgSutI3QdKzNhM63J2oh99fNDqme6bp60gXuuPampIQ7hi6Ou22kQ61GDo=\",\"dtype\":\"float64\",\"order\":\"little\",\"shape\":[100]}},\"selected\":{\"id\":\"2527\"},\"selection_policy\":{\"id\":\"2526\"}},\"id\":\"2514\",\"type\":\"ColumnDataSource\"},{\"attributes\":{\"label\":{\"value\":\"with ATP Synthase, Proton Pump, ATP Use\"},\"renderers\":[{\"id\":\"2502\"}]},\"id\":\"2513\",\"type\":\"LegendItem\"},{\"attributes\":{},\"id\":\"2482\",\"type\":\"BasicTicker\"},{\"attributes\":{\"axis_label\":\"concentration (nM)\",\"formatter\":{\"id\":\"2506\"},\"ticker\":{\"id\":\"2482\"}},\"id\":\"2481\",\"type\":\"LinearAxis\"},{\"attributes\":{\"line_color\":\"#2ba02b\",\"line_width\":2,\"x\":{\"field\":\"x\"},\"y\":{\"field\":\"y\"}},\"id\":\"2531\",\"type\":\"Line\"},{\"attributes\":{},\"id\":\"2527\",\"type\":\"Selection\"},{\"attributes\":{\"source\":{\"id\":\"2499\"}},\"id\":\"2503\",\"type\":\"CDSView\"},{\"attributes\":{\"data_source\":{\"id\":\"2514\"},\"glyph\":{\"id\":\"2515\"},\"hover_glyph\":null,\"muted_glyph\":null,\"nonselection_glyph\":{\"id\":\"2516\"},\"selection_glyph\":null,\"view\":{\"id\":\"2518\"}},\"id\":\"2517\",\"type\":\"GlyphRenderer\"},{\"attributes\":{\"items\":[{\"id\":\"2513\"},{\"id\":\"2529\"},{\"id\":\"2547\"}],\"location\":\"center_right\"},\"id\":\"2512\",\"type\":\"Legend\"},{\"attributes\":{},\"id\":\"2510\",\"type\":\"Selection\"},{\"attributes\":{\"line_color\":\"#1f77b3\",\"line_width\":2,\"x\":{\"field\":\"x\"},\"y\":{\"field\":\"y\"}},\"id\":\"2500\",\"type\":\"Line\"},{\"attributes\":{\"source\":{\"id\":\"2514\"}},\"id\":\"2518\",\"type\":\"CDSView\"},{\"attributes\":{\"bottom_units\":\"screen\",\"fill_alpha\":0.5,\"fill_color\":\"lightgrey\",\"left_units\":\"screen\",\"level\":\"overlay\",\"line_alpha\":1.0,\"line_color\":\"black\",\"line_dash\":[4,4],\"line_width\":2,\"right_units\":\"screen\",\"top_units\":\"screen\"},\"id\":\"2491\",\"type\":\"BoxAnnotation\"},{\"attributes\":{\"active_drag\":\"auto\",\"active_inspect\":\"auto\",\"active_multi\":null,\"active_scroll\":\"auto\",\"active_tap\":\"auto\",\"tools\":[{\"id\":\"2485\"},{\"id\":\"2486\"},{\"id\":\"2487\"},{\"id\":\"2488\"},{\"id\":\"2489\"},{\"id\":\"2490\"}]},\"id\":\"2492\",\"type\":\"Toolbar\"},{\"attributes\":{\"line_alpha\":0.1,\"line_color\":\"#2ba02b\",\"line_width\":2,\"x\":{\"field\":\"x\"},\"y\":{\"field\":\"y\"}},\"id\":\"2532\",\"type\":\"Line\"},{\"attributes\":{},\"id\":\"2509\",\"type\":\"UnionRenderers\"},{\"attributes\":{\"data_source\":{\"id\":\"2499\"},\"glyph\":{\"id\":\"2500\"},\"hover_glyph\":null,\"muted_glyph\":null,\"nonselection_glyph\":{\"id\":\"2501\"},\"selection_glyph\":null,\"view\":{\"id\":\"2503\"}},\"id\":\"2502\",\"type\":\"GlyphRenderer\"},{\"attributes\":{\"line_alpha\":0.1,\"line_color\":\"#1f77b3\",\"line_width\":2,\"x\":{\"field\":\"x\"},\"y\":{\"field\":\"y\"}},\"id\":\"2501\",\"type\":\"Line\"},{\"attributes\":{},\"id\":\"2485\",\"type\":\"PanTool\"},{\"attributes\":{\"data_source\":{\"id\":\"2530\"},\"glyph\":{\"id\":\"2531\"},\"hover_glyph\":null,\"muted_glyph\":null,\"nonselection_glyph\":{\"id\":\"2532\"},\"selection_glyph\":null,\"view\":{\"id\":\"2534\"}},\"id\":\"2533\",\"type\":\"GlyphRenderer\"},{\"attributes\":{},\"id\":\"2486\",\"type\":\"WheelZoomTool\"}],\"root_ids\":[\"2466\"]},\"title\":\"Bokeh Application\",\"version\":\"2.2.1\"}};\n",
       "  var render_items = [{\"docid\":\"d4f91a1d-f783-41fe-90cf-9abaaa0eb191\",\"root_ids\":[\"2466\"],\"roots\":{\"2466\":\"92e178e5-9300-47f2-9d6d-657f396e583a\"}}];\n",
       "  root.Bokeh.embed.embed_items_notebook(docs_json, render_items);\n",
       "\n",
       "  }\n",
       "  if (root.Bokeh !== undefined) {\n",
       "    embed_document(root);\n",
       "  } else {\n",
       "    var attempts = 0;\n",
       "    var timer = setInterval(function(root) {\n",
       "      if (root.Bokeh !== undefined) {\n",
       "        clearInterval(timer);\n",
       "        embed_document(root);\n",
       "      } else {\n",
       "        attempts++;\n",
       "        if (attempts > 100) {\n",
       "          clearInterval(timer);\n",
       "          console.log(\"Bokeh: ERROR: Unable to run BokehJS code because BokehJS library is missing\");\n",
       "        }\n",
       "      }\n",
       "    }, 10, root)\n",
       "  }\n",
       "})(window);"
      ],
      "application/vnd.bokehjs_exec.v0+json": ""
     },
     "metadata": {
      "application/vnd.bokehjs_exec.v0+json": {
       "id": "2466"
      }
     },
     "output_type": "display_data"
    }
   ],
   "source": [
    "p_atp = bokeh.plotting.figure(width = 450, height = 350,\n",
    "                             title = 'ATP Compare',\n",
    "                             x_axis_label = 'time (sec)',\n",
    "                             y_axis_label = 'concentration (nM)')\n",
    "\n",
    "p_atp.line(timepoints, results_everything[ATP_id3],line_width = 2, color = palette[0],legend_label = 'with ATP Synthase, Proton Pump, ATP Use')\n",
    "p_atp.line(timepoints, results[ATP_id], line_width = 2, color = palette[1], legend_label = 'with ATP Synthase, ATP Use')\n",
    "p_atp.line(timepoints, results2[ATP_id2],line_width = 2, color = palette[2],legend_label = 'ATP Use only')\n",
    "p_atp.legend.location = 'center_right'\n",
    "bokeh.io.show(p_atp)"
   ]
  },
  {
   "cell_type": "code",
   "execution_count": 20,
   "metadata": {},
   "outputs": [
    {
     "name": "stdout",
     "output_type": "stream",
     "text": [
      "CPython 3.7.7\n",
      "IPython 7.13.0\n",
      "\n",
      "numpy 1.18.1\n",
      "bokeh 2.2.1\n",
      "jupyterlab 1.2.6\n",
      "scipy 1.5.4\n",
      "biocrnpyler unknown\n",
      "bioscrape 1.0.0\n",
      "colorcet 2.0.2\n",
      "subsbml 0.9.0\n"
     ]
    }
   ],
   "source": [
    "#watermark\n",
    "%reload_ext watermark\n",
    "%watermark -v -p numpy,bokeh,jupyterlab,scipy,biocrnpyler,bioscrape,colorcet,subsbml\n",
    "  "
   ]
  },
  {
   "cell_type": "code",
   "execution_count": null,
   "metadata": {},
   "outputs": [],
   "source": []
  }
 ],
 "metadata": {
  "kernelspec": {
   "display_name": "Python 3",
   "language": "python",
   "name": "python3"
  },
  "language_info": {
   "codemirror_mode": {
    "name": "ipython",
    "version": 3
   },
   "file_extension": ".py",
   "mimetype": "text/x-python",
   "name": "python",
   "nbconvert_exporter": "python",
   "pygments_lexer": "ipython3",
   "version": "3.7.7"
  }
 },
 "nbformat": 4,
 "nbformat_minor": 4
}
