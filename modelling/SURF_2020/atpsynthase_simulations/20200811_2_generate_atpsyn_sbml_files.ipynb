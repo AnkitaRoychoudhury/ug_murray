{
 "cells": [
  {
   "cell_type": "markdown",
   "metadata": {},
   "source": [
    "# Generate ATP Synthase with Proton Pump SBML files\n",
    "Will try to incorporate it instead of using SBML "
   ]
  },
  {
   "cell_type": "markdown",
   "metadata": {},
   "source": [
    "---"
   ]
  },
  {
   "cell_type": "code",
   "execution_count": 1,
   "metadata": {},
   "outputs": [
    {
     "data": {
      "text/html": [
       "\n",
       "    <div class=\"bk-root\">\n",
       "        <a href=\"https://bokeh.org\" target=\"_blank\" class=\"bk-logo bk-logo-small bk-logo-notebook\"></a>\n",
       "        <span id=\"1001\">Loading BokehJS ...</span>\n",
       "    </div>"
      ]
     },
     "metadata": {},
     "output_type": "display_data"
    },
    {
     "data": {
      "application/javascript": [
       "\n",
       "(function(root) {\n",
       "  function now() {\n",
       "    return new Date();\n",
       "  }\n",
       "\n",
       "  var force = true;\n",
       "\n",
       "  if (typeof root._bokeh_onload_callbacks === \"undefined\" || force === true) {\n",
       "    root._bokeh_onload_callbacks = [];\n",
       "    root._bokeh_is_loading = undefined;\n",
       "  }\n",
       "\n",
       "  var JS_MIME_TYPE = 'application/javascript';\n",
       "  var HTML_MIME_TYPE = 'text/html';\n",
       "  var EXEC_MIME_TYPE = 'application/vnd.bokehjs_exec.v0+json';\n",
       "  var CLASS_NAME = 'output_bokeh rendered_html';\n",
       "\n",
       "  /**\n",
       "   * Render data to the DOM node\n",
       "   */\n",
       "  function render(props, node) {\n",
       "    var script = document.createElement(\"script\");\n",
       "    node.appendChild(script);\n",
       "  }\n",
       "\n",
       "  /**\n",
       "   * Handle when an output is cleared or removed\n",
       "   */\n",
       "  function handleClearOutput(event, handle) {\n",
       "    var cell = handle.cell;\n",
       "\n",
       "    var id = cell.output_area._bokeh_element_id;\n",
       "    var server_id = cell.output_area._bokeh_server_id;\n",
       "    // Clean up Bokeh references\n",
       "    if (id != null && id in Bokeh.index) {\n",
       "      Bokeh.index[id].model.document.clear();\n",
       "      delete Bokeh.index[id];\n",
       "    }\n",
       "\n",
       "    if (server_id !== undefined) {\n",
       "      // Clean up Bokeh references\n",
       "      var cmd = \"from bokeh.io.state import curstate; print(curstate().uuid_to_server['\" + server_id + \"'].get_sessions()[0].document.roots[0]._id)\";\n",
       "      cell.notebook.kernel.execute(cmd, {\n",
       "        iopub: {\n",
       "          output: function(msg) {\n",
       "            var id = msg.content.text.trim();\n",
       "            if (id in Bokeh.index) {\n",
       "              Bokeh.index[id].model.document.clear();\n",
       "              delete Bokeh.index[id];\n",
       "            }\n",
       "          }\n",
       "        }\n",
       "      });\n",
       "      // Destroy server and session\n",
       "      var cmd = \"import bokeh.io.notebook as ion; ion.destroy_server('\" + server_id + \"')\";\n",
       "      cell.notebook.kernel.execute(cmd);\n",
       "    }\n",
       "  }\n",
       "\n",
       "  /**\n",
       "   * Handle when a new output is added\n",
       "   */\n",
       "  function handleAddOutput(event, handle) {\n",
       "    var output_area = handle.output_area;\n",
       "    var output = handle.output;\n",
       "\n",
       "    // limit handleAddOutput to display_data with EXEC_MIME_TYPE content only\n",
       "    if ((output.output_type != \"display_data\") || (!output.data.hasOwnProperty(EXEC_MIME_TYPE))) {\n",
       "      return\n",
       "    }\n",
       "\n",
       "    var toinsert = output_area.element.find(\".\" + CLASS_NAME.split(' ')[0]);\n",
       "\n",
       "    if (output.metadata[EXEC_MIME_TYPE][\"id\"] !== undefined) {\n",
       "      toinsert[toinsert.length - 1].firstChild.textContent = output.data[JS_MIME_TYPE];\n",
       "      // store reference to embed id on output_area\n",
       "      output_area._bokeh_element_id = output.metadata[EXEC_MIME_TYPE][\"id\"];\n",
       "    }\n",
       "    if (output.metadata[EXEC_MIME_TYPE][\"server_id\"] !== undefined) {\n",
       "      var bk_div = document.createElement(\"div\");\n",
       "      bk_div.innerHTML = output.data[HTML_MIME_TYPE];\n",
       "      var script_attrs = bk_div.children[0].attributes;\n",
       "      for (var i = 0; i < script_attrs.length; i++) {\n",
       "        toinsert[toinsert.length - 1].firstChild.setAttribute(script_attrs[i].name, script_attrs[i].value);\n",
       "        toinsert[toinsert.length - 1].firstChild.textContent = bk_div.children[0].textContent\n",
       "      }\n",
       "      // store reference to server id on output_area\n",
       "      output_area._bokeh_server_id = output.metadata[EXEC_MIME_TYPE][\"server_id\"];\n",
       "    }\n",
       "  }\n",
       "\n",
       "  function register_renderer(events, OutputArea) {\n",
       "\n",
       "    function append_mime(data, metadata, element) {\n",
       "      // create a DOM node to render to\n",
       "      var toinsert = this.create_output_subarea(\n",
       "        metadata,\n",
       "        CLASS_NAME,\n",
       "        EXEC_MIME_TYPE\n",
       "      );\n",
       "      this.keyboard_manager.register_events(toinsert);\n",
       "      // Render to node\n",
       "      var props = {data: data, metadata: metadata[EXEC_MIME_TYPE]};\n",
       "      render(props, toinsert[toinsert.length - 1]);\n",
       "      element.append(toinsert);\n",
       "      return toinsert\n",
       "    }\n",
       "\n",
       "    /* Handle when an output is cleared or removed */\n",
       "    events.on('clear_output.CodeCell', handleClearOutput);\n",
       "    events.on('delete.Cell', handleClearOutput);\n",
       "\n",
       "    /* Handle when a new output is added */\n",
       "    events.on('output_added.OutputArea', handleAddOutput);\n",
       "\n",
       "    /**\n",
       "     * Register the mime type and append_mime function with output_area\n",
       "     */\n",
       "    OutputArea.prototype.register_mime_type(EXEC_MIME_TYPE, append_mime, {\n",
       "      /* Is output safe? */\n",
       "      safe: true,\n",
       "      /* Index of renderer in `output_area.display_order` */\n",
       "      index: 0\n",
       "    });\n",
       "  }\n",
       "\n",
       "  // register the mime type if in Jupyter Notebook environment and previously unregistered\n",
       "  if (root.Jupyter !== undefined) {\n",
       "    var events = require('base/js/events');\n",
       "    var OutputArea = require('notebook/js/outputarea').OutputArea;\n",
       "\n",
       "    if (OutputArea.prototype.mime_types().indexOf(EXEC_MIME_TYPE) == -1) {\n",
       "      register_renderer(events, OutputArea);\n",
       "    }\n",
       "  }\n",
       "\n",
       "  \n",
       "  if (typeof (root._bokeh_timeout) === \"undefined\" || force === true) {\n",
       "    root._bokeh_timeout = Date.now() + 5000;\n",
       "    root._bokeh_failed_load = false;\n",
       "  }\n",
       "\n",
       "  var NB_LOAD_WARNING = {'data': {'text/html':\n",
       "     \"<div style='background-color: #fdd'>\\n\"+\n",
       "     \"<p>\\n\"+\n",
       "     \"BokehJS does not appear to have successfully loaded. If loading BokehJS from CDN, this \\n\"+\n",
       "     \"may be due to a slow or bad network connection. Possible fixes:\\n\"+\n",
       "     \"</p>\\n\"+\n",
       "     \"<ul>\\n\"+\n",
       "     \"<li>re-rerun `output_notebook()` to attempt to load from CDN again, or</li>\\n\"+\n",
       "     \"<li>use INLINE resources instead, as so:</li>\\n\"+\n",
       "     \"</ul>\\n\"+\n",
       "     \"<code>\\n\"+\n",
       "     \"from bokeh.resources import INLINE\\n\"+\n",
       "     \"output_notebook(resources=INLINE)\\n\"+\n",
       "     \"</code>\\n\"+\n",
       "     \"</div>\"}};\n",
       "\n",
       "  function display_loaded() {\n",
       "    var el = document.getElementById(\"1001\");\n",
       "    if (el != null) {\n",
       "      el.textContent = \"BokehJS is loading...\";\n",
       "    }\n",
       "    if (root.Bokeh !== undefined) {\n",
       "      if (el != null) {\n",
       "        el.textContent = \"BokehJS \" + root.Bokeh.version + \" successfully loaded.\";\n",
       "      }\n",
       "    } else if (Date.now() < root._bokeh_timeout) {\n",
       "      setTimeout(display_loaded, 100)\n",
       "    }\n",
       "  }\n",
       "\n",
       "\n",
       "  function run_callbacks() {\n",
       "    try {\n",
       "      root._bokeh_onload_callbacks.forEach(function(callback) {\n",
       "        if (callback != null)\n",
       "          callback();\n",
       "      });\n",
       "    } finally {\n",
       "      delete root._bokeh_onload_callbacks\n",
       "    }\n",
       "    console.debug(\"Bokeh: all callbacks have finished\");\n",
       "  }\n",
       "\n",
       "  function load_libs(css_urls, js_urls, callback) {\n",
       "    if (css_urls == null) css_urls = [];\n",
       "    if (js_urls == null) js_urls = [];\n",
       "\n",
       "    root._bokeh_onload_callbacks.push(callback);\n",
       "    if (root._bokeh_is_loading > 0) {\n",
       "      console.debug(\"Bokeh: BokehJS is being loaded, scheduling callback at\", now());\n",
       "      return null;\n",
       "    }\n",
       "    if (js_urls == null || js_urls.length === 0) {\n",
       "      run_callbacks();\n",
       "      return null;\n",
       "    }\n",
       "    console.debug(\"Bokeh: BokehJS not loaded, scheduling load and callback at\", now());\n",
       "    root._bokeh_is_loading = css_urls.length + js_urls.length;\n",
       "\n",
       "    function on_load() {\n",
       "      root._bokeh_is_loading--;\n",
       "      if (root._bokeh_is_loading === 0) {\n",
       "        console.debug(\"Bokeh: all BokehJS libraries/stylesheets loaded\");\n",
       "        run_callbacks()\n",
       "      }\n",
       "    }\n",
       "\n",
       "    function on_error() {\n",
       "      console.error(\"failed to load \" + url);\n",
       "    }\n",
       "\n",
       "    for (var i = 0; i < css_urls.length; i++) {\n",
       "      var url = css_urls[i];\n",
       "      const element = document.createElement(\"link\");\n",
       "      element.onload = on_load;\n",
       "      element.onerror = on_error;\n",
       "      element.rel = \"stylesheet\";\n",
       "      element.type = \"text/css\";\n",
       "      element.href = url;\n",
       "      console.debug(\"Bokeh: injecting link tag for BokehJS stylesheet: \", url);\n",
       "      document.body.appendChild(element);\n",
       "    }\n",
       "\n",
       "    const hashes = {\"https://cdn.bokeh.org/bokeh/release/bokeh-2.2.1.min.js\": \"qkRvDQVAIfzsJo40iRBbxt6sttt0hv4lh74DG7OK4MCHv4C5oohXYoHUM5W11uqS\", \"https://cdn.bokeh.org/bokeh/release/bokeh-widgets-2.2.1.min.js\": \"Sb7Mr06a9TNlet/GEBeKaf5xH3eb6AlCzwjtU82wNPyDrnfoiVl26qnvlKjmcAd+\", \"https://cdn.bokeh.org/bokeh/release/bokeh-tables-2.2.1.min.js\": \"HaJ15vgfmcfRtB4c4YBOI4f1MUujukqInOWVqZJZZGK7Q+ivud0OKGSTn/Vm2iso\"};\n",
       "\n",
       "    for (var i = 0; i < js_urls.length; i++) {\n",
       "      var url = js_urls[i];\n",
       "      var element = document.createElement('script');\n",
       "      element.onload = on_load;\n",
       "      element.onerror = on_error;\n",
       "      element.async = false;\n",
       "      element.src = url;\n",
       "      if (url in hashes) {\n",
       "        element.crossOrigin = \"anonymous\";\n",
       "        element.integrity = \"sha384-\" + hashes[url];\n",
       "      }\n",
       "      console.debug(\"Bokeh: injecting script tag for BokehJS library: \", url);\n",
       "      document.head.appendChild(element);\n",
       "    }\n",
       "  };\n",
       "\n",
       "  function inject_raw_css(css) {\n",
       "    const element = document.createElement(\"style\");\n",
       "    element.appendChild(document.createTextNode(css));\n",
       "    document.body.appendChild(element);\n",
       "  }\n",
       "\n",
       "  \n",
       "  var js_urls = [\"https://cdn.bokeh.org/bokeh/release/bokeh-2.2.1.min.js\", \"https://cdn.bokeh.org/bokeh/release/bokeh-widgets-2.2.1.min.js\", \"https://cdn.bokeh.org/bokeh/release/bokeh-tables-2.2.1.min.js\"];\n",
       "  var css_urls = [];\n",
       "  \n",
       "\n",
       "  var inline_js = [\n",
       "    function(Bokeh) {\n",
       "      Bokeh.set_log_level(\"info\");\n",
       "    },\n",
       "    function(Bokeh) {\n",
       "    \n",
       "    \n",
       "    }\n",
       "  ];\n",
       "\n",
       "  function run_inline_js() {\n",
       "    \n",
       "    if (root.Bokeh !== undefined || force === true) {\n",
       "      \n",
       "    for (var i = 0; i < inline_js.length; i++) {\n",
       "      inline_js[i].call(root, root.Bokeh);\n",
       "    }\n",
       "    if (force === true) {\n",
       "        display_loaded();\n",
       "      }} else if (Date.now() < root._bokeh_timeout) {\n",
       "      setTimeout(run_inline_js, 100);\n",
       "    } else if (!root._bokeh_failed_load) {\n",
       "      console.log(\"Bokeh: BokehJS failed to load within specified timeout.\");\n",
       "      root._bokeh_failed_load = true;\n",
       "    } else if (force !== true) {\n",
       "      var cell = $(document.getElementById(\"1001\")).parents('.cell').data().cell;\n",
       "      cell.output_area.append_execute_result(NB_LOAD_WARNING)\n",
       "    }\n",
       "\n",
       "  }\n",
       "\n",
       "  if (root._bokeh_is_loading === 0) {\n",
       "    console.debug(\"Bokeh: BokehJS loaded, going straight to plotting\");\n",
       "    run_inline_js();\n",
       "  } else {\n",
       "    load_libs(css_urls, js_urls, function() {\n",
       "      console.debug(\"Bokeh: BokehJS plotting callback run at\", now());\n",
       "      run_inline_js();\n",
       "    });\n",
       "  }\n",
       "}(window));"
      ],
      "application/vnd.bokehjs_load.v0+json": "\n(function(root) {\n  function now() {\n    return new Date();\n  }\n\n  var force = true;\n\n  if (typeof root._bokeh_onload_callbacks === \"undefined\" || force === true) {\n    root._bokeh_onload_callbacks = [];\n    root._bokeh_is_loading = undefined;\n  }\n\n  \n\n  \n  if (typeof (root._bokeh_timeout) === \"undefined\" || force === true) {\n    root._bokeh_timeout = Date.now() + 5000;\n    root._bokeh_failed_load = false;\n  }\n\n  var NB_LOAD_WARNING = {'data': {'text/html':\n     \"<div style='background-color: #fdd'>\\n\"+\n     \"<p>\\n\"+\n     \"BokehJS does not appear to have successfully loaded. If loading BokehJS from CDN, this \\n\"+\n     \"may be due to a slow or bad network connection. Possible fixes:\\n\"+\n     \"</p>\\n\"+\n     \"<ul>\\n\"+\n     \"<li>re-rerun `output_notebook()` to attempt to load from CDN again, or</li>\\n\"+\n     \"<li>use INLINE resources instead, as so:</li>\\n\"+\n     \"</ul>\\n\"+\n     \"<code>\\n\"+\n     \"from bokeh.resources import INLINE\\n\"+\n     \"output_notebook(resources=INLINE)\\n\"+\n     \"</code>\\n\"+\n     \"</div>\"}};\n\n  function display_loaded() {\n    var el = document.getElementById(\"1001\");\n    if (el != null) {\n      el.textContent = \"BokehJS is loading...\";\n    }\n    if (root.Bokeh !== undefined) {\n      if (el != null) {\n        el.textContent = \"BokehJS \" + root.Bokeh.version + \" successfully loaded.\";\n      }\n    } else if (Date.now() < root._bokeh_timeout) {\n      setTimeout(display_loaded, 100)\n    }\n  }\n\n\n  function run_callbacks() {\n    try {\n      root._bokeh_onload_callbacks.forEach(function(callback) {\n        if (callback != null)\n          callback();\n      });\n    } finally {\n      delete root._bokeh_onload_callbacks\n    }\n    console.debug(\"Bokeh: all callbacks have finished\");\n  }\n\n  function load_libs(css_urls, js_urls, callback) {\n    if (css_urls == null) css_urls = [];\n    if (js_urls == null) js_urls = [];\n\n    root._bokeh_onload_callbacks.push(callback);\n    if (root._bokeh_is_loading > 0) {\n      console.debug(\"Bokeh: BokehJS is being loaded, scheduling callback at\", now());\n      return null;\n    }\n    if (js_urls == null || js_urls.length === 0) {\n      run_callbacks();\n      return null;\n    }\n    console.debug(\"Bokeh: BokehJS not loaded, scheduling load and callback at\", now());\n    root._bokeh_is_loading = css_urls.length + js_urls.length;\n\n    function on_load() {\n      root._bokeh_is_loading--;\n      if (root._bokeh_is_loading === 0) {\n        console.debug(\"Bokeh: all BokehJS libraries/stylesheets loaded\");\n        run_callbacks()\n      }\n    }\n\n    function on_error() {\n      console.error(\"failed to load \" + url);\n    }\n\n    for (var i = 0; i < css_urls.length; i++) {\n      var url = css_urls[i];\n      const element = document.createElement(\"link\");\n      element.onload = on_load;\n      element.onerror = on_error;\n      element.rel = \"stylesheet\";\n      element.type = \"text/css\";\n      element.href = url;\n      console.debug(\"Bokeh: injecting link tag for BokehJS stylesheet: \", url);\n      document.body.appendChild(element);\n    }\n\n    const hashes = {\"https://cdn.bokeh.org/bokeh/release/bokeh-2.2.1.min.js\": \"qkRvDQVAIfzsJo40iRBbxt6sttt0hv4lh74DG7OK4MCHv4C5oohXYoHUM5W11uqS\", \"https://cdn.bokeh.org/bokeh/release/bokeh-widgets-2.2.1.min.js\": \"Sb7Mr06a9TNlet/GEBeKaf5xH3eb6AlCzwjtU82wNPyDrnfoiVl26qnvlKjmcAd+\", \"https://cdn.bokeh.org/bokeh/release/bokeh-tables-2.2.1.min.js\": \"HaJ15vgfmcfRtB4c4YBOI4f1MUujukqInOWVqZJZZGK7Q+ivud0OKGSTn/Vm2iso\"};\n\n    for (var i = 0; i < js_urls.length; i++) {\n      var url = js_urls[i];\n      var element = document.createElement('script');\n      element.onload = on_load;\n      element.onerror = on_error;\n      element.async = false;\n      element.src = url;\n      if (url in hashes) {\n        element.crossOrigin = \"anonymous\";\n        element.integrity = \"sha384-\" + hashes[url];\n      }\n      console.debug(\"Bokeh: injecting script tag for BokehJS library: \", url);\n      document.head.appendChild(element);\n    }\n  };\n\n  function inject_raw_css(css) {\n    const element = document.createElement(\"style\");\n    element.appendChild(document.createTextNode(css));\n    document.body.appendChild(element);\n  }\n\n  \n  var js_urls = [\"https://cdn.bokeh.org/bokeh/release/bokeh-2.2.1.min.js\", \"https://cdn.bokeh.org/bokeh/release/bokeh-widgets-2.2.1.min.js\", \"https://cdn.bokeh.org/bokeh/release/bokeh-tables-2.2.1.min.js\"];\n  var css_urls = [];\n  \n\n  var inline_js = [\n    function(Bokeh) {\n      Bokeh.set_log_level(\"info\");\n    },\n    function(Bokeh) {\n    \n    \n    }\n  ];\n\n  function run_inline_js() {\n    \n    if (root.Bokeh !== undefined || force === true) {\n      \n    for (var i = 0; i < inline_js.length; i++) {\n      inline_js[i].call(root, root.Bokeh);\n    }\n    if (force === true) {\n        display_loaded();\n      }} else if (Date.now() < root._bokeh_timeout) {\n      setTimeout(run_inline_js, 100);\n    } else if (!root._bokeh_failed_load) {\n      console.log(\"Bokeh: BokehJS failed to load within specified timeout.\");\n      root._bokeh_failed_load = true;\n    } else if (force !== true) {\n      var cell = $(document.getElementById(\"1001\")).parents('.cell').data().cell;\n      cell.output_area.append_execute_result(NB_LOAD_WARNING)\n    }\n\n  }\n\n  if (root._bokeh_is_loading === 0) {\n    console.debug(\"Bokeh: BokehJS loaded, going straight to plotting\");\n    run_inline_js();\n  } else {\n    load_libs(css_urls, js_urls, function() {\n      console.debug(\"Bokeh: BokehJS plotting callback run at\", now());\n      run_inline_js();\n    });\n  }\n}(window));"
     },
     "metadata": {},
     "output_type": "display_data"
    }
   ],
   "source": [
    "from biocrnpyler import *\n",
    "#from biocrnpyler.chemical_reaction_network import Species, Reaction, ComplexSpecies, Multimer\n",
    "import numpy as np\n",
    "import pylab as plt \n",
    "%matplotlib inline\n",
    "\n",
    "import bokeh.io\n",
    "import bokeh.plotting\n",
    "bokeh.io.output_notebook()\n",
    "\n",
    "import colorcet"
   ]
  },
  {
   "cell_type": "markdown",
   "metadata": {},
   "source": [
    "ATP synthase DNA --> ATP synthase RNA <br>\n",
    "ATP synthase RNA --> ATP synthase protein (folding) <br>\n",
    "ATP synthase protein --> ATP synthase membrane integration <br>\n",
    "<br> \n",
    "ATP synthesis through ATP synthase protein <br>\n",
    "ATP hydrolysis through ATP synthase protein <br>\n",
    "Proton transport through ATP synthase protein <br>\n",
    "<br>\n",
    "Proton pump DNA --> Proton pump RNA <br>\n",
    "Proton pump RNA --> Proton pump protein (folding) <br>\n",
    "Proton pump protein --> Proton pump membrane integration <br>\n",
    "<br>\n",
    "Proton transport through proton pump"
   ]
  },
  {
   "cell_type": "markdown",
   "metadata": {},
   "source": [
    "**SBML Planning** <br>\n",
    "- One sbml file for ATP synthase membrane integration\n",
    "- One sbml file for ATP synthase synthesis/hydrolysis/proton transport \n",
    "- One sbml file for proton pump membrane integration\n",
    "- One sbml file for proton pump proton transport"
   ]
  },
  {
   "cell_type": "markdown",
   "metadata": {},
   "source": [
    "## SBML for ATP transcription and translation\n",
    "---"
   ]
  },
  {
   "cell_type": "code",
   "execution_count": 2,
   "metadata": {},
   "outputs": [
    {
     "name": "stdout",
     "output_type": "stream",
     "text": [
      "TxTlDilutionMixture: liposome\n",
      "Components = [\n",
      "\tDNAassembly: atpsyn\n",
      "\tProtein: RNAP\n",
      "\tProtein: Ribo\n",
      "\tProtein: RNAase\n",
      "\tDNAassembly: cellular_processes ]\n",
      "Mechanisms = {\n",
      "\ttranscription:transcription_mm\n",
      "\ttranslation:translation_mm\n",
      "\tcatalysis:michalis_menten\n",
      "\tbinding:one_step_binding }\n",
      "Global Mechanisms = {\n",
      "\trna_degredation:rna_degredation_mm\n",
      "\tdilution:global_degredation_via_dilution } \n",
      " Species (17) = {0. dna[atpsyn] init_conc = 0, 1. protein[RNAP(machinery)] init_conc = 0, 2. rna[atpsyn] init_conc = 0, 3. complex[dna[atpsyn]:protein[RNAP]] init_conc = 0, 4. protein[Ribo(machinery)] init_conc = 0, 5. protein[atpsyn] init_conc = 0, 6. complex[protein[Ribo]:rna[atpsyn]] init_conc = 0, 7. protein[RNAase(machinery)] init_conc = 0, 8. dna[cellular_processes] init_conc = 0, 9. rna[cellular_processes] init_conc = 0, 10. complex[dna[cellular_processes]:protein[RNAP]] init_conc = 0, 11. protein[cellular_processes] init_conc = 0, 12. complex[protein[Ribo]:rna[cellular_processes]] init_conc = 0, 13. complex[protein[RNAase]:rna[atpsyn]] init_conc = 0, 14. complex[complex[protein[Ribo]:rna[atpsyn]]:protein[RNAase]] init_conc = 0, 15. complex[protein[RNAase]:rna[cellular_processes]] init_conc = 0, 16. complex[complex[protein[Ribo]:rna[cellular_processes]]:protein[RNAase]] init_conc = 0}\n",
      "\n",
      "Reactions (20) = [\n",
      "0. dna[atpsyn]+protein[RNAP(machinery)] <--> complex[dna[atpsyn]:protein[RNAP]]\n",
      " Kf=k_forward * dna_atpsyn * protein_RNAP_machinery\n",
      " Kr=k_reverse * complex_dna_atpsyn_protein_RNAP_machinery_\n",
      "  k_forward=100.0\n",
      "  found_key=(mech=None, partid=None, name=kb).\n",
      "  search_key=(mech=transcription_mm, partid=atpsyn_promoter, name=kb).\n",
      "  k_reverse=10.0\n",
      "  found_key=(mech=None, partid=None, name=ku).\n",
      "  search_key=(mech=transcription_mm, partid=atpsyn_promoter, name=ku).\n",
      "\n",
      "1. complex[dna[atpsyn]:protein[RNAP]] --> dna[atpsyn]+rna[atpsyn]+protein[RNAP(machinery)]\n",
      " Kf=k_forward * complex_dna_atpsyn_protein_RNAP_machinery_\n",
      "  k_forward=0.05\n",
      "  found_key=(mech=None, partid=None, name=ktx).\n",
      "  search_key=(mech=transcription_mm, partid=atpsyn_promoter, name=ktx).\n",
      "\n",
      "2. rna[atpsyn]+protein[Ribo(machinery)] <--> complex[protein[Ribo]:rna[atpsyn]]\n",
      " Kf=k_forward * rna_atpsyn * protein_Ribo_machinery\n",
      " Kr=k_reverse * complex_protein_Ribo_machinery_rna_atpsyn_\n",
      "  k_forward=100.0\n",
      "  found_key=(mech=None, partid=None, name=kb).\n",
      "  search_key=(mech=translation_mm, partid=atpsyn_rbs, name=kb).\n",
      "  k_reverse=10.0\n",
      "  found_key=(mech=None, partid=None, name=ku).\n",
      "  search_key=(mech=translation_mm, partid=atpsyn_rbs, name=ku).\n",
      "\n",
      "3. complex[protein[Ribo]:rna[atpsyn]] --> rna[atpsyn]+protein[atpsyn]+protein[Ribo(machinery)]\n",
      " Kf=k_forward * complex_protein_Ribo_machinery_rna_atpsyn_\n",
      "  k_forward=0.05\n",
      "  found_key=(mech=None, partid=None, name=ktl).\n",
      "  search_key=(mech=translation_mm, partid=atpsyn_rbs, name=ktl).\n",
      "\n",
      "4. dna[cellular_processes]+protein[RNAP(machinery)] <--> complex[dna[cellular_processes]:protein[RNAP]]\n",
      " Kf=k_forward * dna_cellular_processes * protein_RNAP_machinery\n",
      " Kr=k_reverse * complex_dna_cellular_processes_protein_RNAP_machinery_\n",
      "  k_forward=500\n",
      "  found_key=(mech=transcription, partid=None, name=kb).\n",
      "  search_key=(mech=transcription_mm, partid=average_promoter, name=kb).\n",
      "  k_reverse=50\n",
      "  found_key=(mech=transcription, partid=None, name=ku).\n",
      "  search_key=(mech=transcription_mm, partid=average_promoter, name=ku).\n",
      "\n",
      "5. complex[dna[cellular_processes]:protein[RNAP]] --> dna[cellular_processes]+rna[cellular_processes]+protein[RNAP(machinery)]\n",
      " Kf=k_forward * complex_dna_cellular_processes_protein_RNAP_machinery_\n",
      "  k_forward=0.1\n",
      "  found_key=(mech=transcription, partid=None, name=ktx).\n",
      "  search_key=(mech=transcription_mm, partid=average_promoter, name=ktx).\n",
      "\n",
      "6. rna[cellular_processes]+protein[Ribo(machinery)] <--> complex[protein[Ribo]:rna[cellular_processes]]\n",
      " Kf=k_forward * rna_cellular_processes * protein_Ribo_machinery\n",
      " Kr=k_reverse * complex_protein_Ribo_machinery_rna_cellular_processes_\n",
      "  k_forward=500\n",
      "  found_key=(mech=translation, partid=None, name=kb).\n",
      "  search_key=(mech=translation_mm, partid=average_rbs, name=kb).\n",
      "  k_reverse=5\n",
      "  found_key=(mech=translation, partid=None, name=ku).\n",
      "  search_key=(mech=translation_mm, partid=average_rbs, name=ku).\n",
      "\n",
      "7. complex[protein[Ribo]:rna[cellular_processes]] --> rna[cellular_processes]+protein[cellular_processes]+protein[Ribo(machinery)]\n",
      " Kf=k_forward * complex_protein_Ribo_machinery_rna_cellular_processes_\n",
      "  k_forward=0.1\n",
      "  found_key=(mech=translation, partid=None, name=ktl).\n",
      "  search_key=(mech=translation_mm, partid=average_rbs, name=ktl).\n",
      "\n",
      "8. rna[atpsyn]+protein[RNAase(machinery)] <--> complex[protein[RNAase]:rna[atpsyn]]\n",
      " Kf=k_forward * rna_atpsyn * protein_RNAase_machinery\n",
      " Kr=k_reverse * complex_protein_RNAase_machinery_rna_atpsyn_\n",
      "  k_forward=100.0\n",
      "  found_key=(mech=None, partid=None, name=kb).\n",
      "  search_key=(mech=rna_degredation_mm, partid=rna_atpsyn, name=kb).\n",
      "  k_reverse=10.0\n",
      "  found_key=(mech=None, partid=None, name=ku).\n",
      "  search_key=(mech=rna_degredation_mm, partid=rna_atpsyn, name=ku).\n",
      "\n",
      "9. complex[protein[RNAase]:rna[atpsyn]] --> protein[RNAase(machinery)]\n",
      " Kf=k_forward * complex_protein_RNAase_machinery_rna_atpsyn_\n",
      "  k_forward=0.001\n",
      "  found_key=(mech=rna_degredation_mm, partid=None, name=kdeg).\n",
      "  search_key=(mech=rna_degredation_mm, partid=rna_atpsyn, name=kdeg).\n",
      "\n",
      "10. complex[protein[Ribo]:rna[atpsyn]]+protein[RNAase(machinery)] <--> complex[complex[protein[Ribo]:rna[atpsyn]]:protein[RNAase]]\n",
      " Kf=k_forward * complex_protein_Ribo_machinery_rna_atpsyn_ * protein_RNAase_machinery\n",
      " Kr=k_reverse * complex_complex_protein_Ribo_machinery_rna_atpsyn__protein_RNAase_machinery_\n",
      "  k_forward=100.0\n",
      "  found_key=(mech=None, partid=None, name=kb).\n",
      "  search_key=(mech=rna_degredation_mm, partid=complex_protein_Ribo_machinery_rna_atpsyn_, name=kb).\n",
      "  k_reverse=10.0\n",
      "  found_key=(mech=None, partid=None, name=ku).\n",
      "  search_key=(mech=rna_degredation_mm, partid=complex_protein_Ribo_machinery_rna_atpsyn_, name=ku).\n",
      "\n",
      "11. complex[complex[protein[Ribo]:rna[atpsyn]]:protein[RNAase]] --> protein[Ribo(machinery)]+protein[RNAase(machinery)]\n",
      " Kf=k_forward * complex_complex_protein_Ribo_machinery_rna_atpsyn__protein_RNAase_machinery_\n",
      "  k_forward=0.001\n",
      "  found_key=(mech=rna_degredation_mm, partid=None, name=kdeg).\n",
      "  search_key=(mech=rna_degredation_mm, partid=complex_protein_Ribo_machinery_rna_atpsyn_, name=kdeg).\n",
      "\n",
      "12. rna[cellular_processes]+protein[RNAase(machinery)] <--> complex[protein[RNAase]:rna[cellular_processes]]\n",
      " Kf=k_forward * rna_cellular_processes * protein_RNAase_machinery\n",
      " Kr=k_reverse * complex_protein_RNAase_machinery_rna_cellular_processes_\n",
      "  k_forward=100.0\n",
      "  found_key=(mech=None, partid=None, name=kb).\n",
      "  search_key=(mech=rna_degredation_mm, partid=rna_cellular_processes, name=kb).\n",
      "  k_reverse=10.0\n",
      "  found_key=(mech=None, partid=None, name=ku).\n",
      "  search_key=(mech=rna_degredation_mm, partid=rna_cellular_processes, name=ku).\n",
      "\n",
      "13. complex[protein[RNAase]:rna[cellular_processes]] --> protein[RNAase(machinery)]\n",
      " Kf=k_forward * complex_protein_RNAase_machinery_rna_cellular_processes_\n",
      "  k_forward=0.001\n",
      "  found_key=(mech=rna_degredation_mm, partid=None, name=kdeg).\n",
      "  search_key=(mech=rna_degredation_mm, partid=rna_cellular_processes, name=kdeg).\n",
      "\n",
      "14. complex[protein[Ribo]:rna[cellular_processes]]+protein[RNAase(machinery)] <--> complex[complex[protein[Ribo]:rna[cellular_processes]]:protein[RNAase]]\n",
      " Kf=k_forward * complex_protein_Ribo_machinery_rna_cellular_processes_ * protein_RNAase_machinery\n",
      " Kr=k_reverse * complex_complex_protein_Ribo_machinery_rna_cellular_processes__protein_RNAase_machinery_\n",
      "  k_forward=100.0\n",
      "  found_key=(mech=None, partid=None, name=kb).\n",
      "  search_key=(mech=rna_degredation_mm, partid=complex_protein_Ribo_machinery_rna_cellular_processes_, name=kb).\n",
      "  k_reverse=10.0\n",
      "  found_key=(mech=None, partid=None, name=ku).\n",
      "  search_key=(mech=rna_degredation_mm, partid=complex_protein_Ribo_machinery_rna_cellular_processes_, name=ku).\n",
      "\n",
      "15. complex[complex[protein[Ribo]:rna[cellular_processes]]:protein[RNAase]] --> protein[Ribo(machinery)]+protein[RNAase(machinery)]\n",
      " Kf=k_forward * complex_complex_protein_Ribo_machinery_rna_cellular_processes__protein_RNAase_machinery_\n",
      "  k_forward=0.001\n",
      "  found_key=(mech=rna_degredation_mm, partid=None, name=kdeg).\n",
      "  search_key=(mech=rna_degredation_mm, partid=complex_protein_Ribo_machinery_rna_cellular_processes_, name=kdeg).\n",
      "\n",
      "16. rna[atpsyn] --> \n",
      " Kf=k_forward * rna_atpsyn\n",
      "  k_forward=0.001\n",
      "  found_key=(mech=None, partid=None, name=kdil).\n",
      "  search_key=(mech=global_degredation_via_dilution, partid=rna_atpsyn, name=kdil).\n",
      "\n",
      "17. protein[atpsyn] --> \n",
      " Kf=k_forward * protein_atpsyn\n",
      "  k_forward=0.001\n",
      "  found_key=(mech=None, partid=None, name=kdil).\n",
      "  search_key=(mech=global_degredation_via_dilution, partid=protein_atpsyn, name=kdil).\n",
      "\n",
      "18. rna[cellular_processes] --> \n",
      " Kf=k_forward * rna_cellular_processes\n",
      "  k_forward=0.001\n",
      "  found_key=(mech=None, partid=None, name=kdil).\n",
      "  search_key=(mech=global_degredation_via_dilution, partid=rna_cellular_processes, name=kdil).\n",
      "\n",
      "19. protein[cellular_processes] --> \n",
      " Kf=k_forward * protein_cellular_processes\n",
      "  k_forward=0.001\n",
      "  found_key=(mech=None, partid=None, name=kdil).\n",
      "  search_key=(mech=global_degredation_via_dilution, partid=protein_cellular_processes, name=kdil).\n",
      "\n",
      "] \n",
      "\n",
      "\n"
     ]
    }
   ],
   "source": [
    "\n",
    "#promoter is the name of the promoter or a Promoter component\n",
    "#RBS is the name of the RBS or an RBS Component\n",
    "#   RBS = None means there will be no translation\n",
    "#By default (if transcript and protein are None), the transgript and protein will have the same name as an assmebly\n",
    "#   Users can also assign Species or String names to transcript and protein\n",
    "G = DNAassembly(\"atpsyn\", promoter = \"atpsyn_promoter\", rbs = \"atpsyn_rbs\", transcript = None, protein = None)\n",
    "M3 = TxTlDilutionMixture(\"liposome\", components = [G], parameter_file = \"default_parameters.txt\")\n",
    "CRN3 = M3.compile_crn()\n",
    "\n",
    "\n",
    "print(repr(M3),\"\\n\", CRN3.pretty_print(show_attributes = True, show_material = True, show_rates = True),\"\\n\\n\")\n"
   ]
  },
  {
   "cell_type": "code",
   "execution_count": 3,
   "metadata": {},
   "outputs": [
    {
     "data": {
      "text/plain": [
       "True"
      ]
     },
     "execution_count": 3,
     "metadata": {},
     "output_type": "execute_result"
    }
   ],
   "source": [
    "# Write SBML file\n",
    "CRN3.write_sbml_file('atpsynthase_tx_tl.xml')"
   ]
  },
  {
   "cell_type": "code",
   "execution_count": 4,
   "metadata": {},
   "outputs": [
    {
     "name": "stderr",
     "output_type": "stream",
     "text": [
      "/Users/ankitaroychoudhury/opt/anaconda3/lib/python3.7/site-packages/biocrnpyler-1.0.2-py3.7.egg/biocrnpyler/chemical_reaction_network.py:243: UserWarning: simulate_with_bioscrape is depricated and will cease working in a future release. Instead, please use simulate_with_bioscrape_via_sbml.\n",
      "/Users/ankitaroychoudhury/opt/anaconda3/lib/python3.7/site-packages/html5lib/_trie/_base.py:3: DeprecationWarning: Using or importing the ABCs from 'collections' instead of from 'collections.abc' is deprecated since Python 3.3,and in 3.9 it will stop working\n",
      "  from collections import Mapping\n",
      "/Users/ankitaroychoudhury/opt/anaconda3/lib/python3.7/importlib/_bootstrap.py:219: RuntimeWarning: numpy.ufunc size changed, may indicate binary incompatibility. Expected 192 from C header, got 216 from PyObject\n",
      "  return f(*args, **kwds)\n",
      "/Users/ankitaroychoudhury/opt/anaconda3/lib/python3.7/site-packages/scipy/integrate/odepack.py:247: ODEintWarning: Excess work done on this call (perhaps wrong Dfun type). Run with full_output = 1 to get quantitative information.\n",
      "  warnings.warn(warning_msg, ODEintWarning)\n",
      "odeint failed with mxstep=500..."
     ]
    }
   ],
   "source": [
    "timepoints = np.linspace(0,10000,100)\n",
    "x0 = {'dna_atpsyn':10, 'protein_RNAP_machinery':10, 'protein_Ribo_machinery':10,\n",
    "     'protein_RNAase_machinery':10}\n",
    "R = CRN3.simulate_with_bioscrape(timepoints, initial_condition_dict = x0)"
   ]
  },
  {
   "cell_type": "code",
   "execution_count": 5,
   "metadata": {},
   "outputs": [],
   "source": [
    "#R"
   ]
  },
  {
   "cell_type": "code",
   "execution_count": 6,
   "metadata": {},
   "outputs": [],
   "source": [
    "palette = colorcet.b_glasbey_category10\n",
    "palette.remove('#d62628')"
   ]
  },
  {
   "cell_type": "code",
   "execution_count": 7,
   "metadata": {},
   "outputs": [
    {
     "data": {
      "text/html": [
       "\n",
       "\n",
       "\n",
       "\n",
       "\n",
       "\n",
       "  <div class=\"bk-root\" id=\"c7c55bb7-9b7c-4e5f-ba02-6543ae3d39a0\" data-root-id=\"1002\"></div>\n"
      ]
     },
     "metadata": {},
     "output_type": "display_data"
    },
    {
     "data": {
      "application/javascript": [
       "(function(root) {\n",
       "  function embed_document(root) {\n",
       "    \n",
       "  var docs_json = {\"eba1ff05-0a06-45e1-a24a-02d33ebed3b4\":{\"roots\":{\"references\":[{\"attributes\":{\"below\":[{\"id\":\"1013\"}],\"center\":[{\"id\":\"1016\"},{\"id\":\"1020\"},{\"id\":\"1048\"}],\"left\":[{\"id\":\"1017\"}],\"plot_height\":340,\"plot_width\":450,\"renderers\":[{\"id\":\"1038\"},{\"id\":\"1053\"},{\"id\":\"1069\"}],\"title\":{\"id\":\"1003\"},\"toolbar\":{\"id\":\"1028\"},\"x_range\":{\"id\":\"1005\"},\"x_scale\":{\"id\":\"1009\"},\"y_range\":{\"id\":\"1007\"},\"y_scale\":{\"id\":\"1011\"}},\"id\":\"1002\",\"subtype\":\"Figure\",\"type\":\"Plot\"},{\"attributes\":{},\"id\":\"1022\",\"type\":\"WheelZoomTool\"},{\"attributes\":{\"active_drag\":\"auto\",\"active_inspect\":\"auto\",\"active_multi\":null,\"active_scroll\":\"auto\",\"active_tap\":\"auto\",\"tools\":[{\"id\":\"1021\"},{\"id\":\"1022\"},{\"id\":\"1023\"},{\"id\":\"1024\"},{\"id\":\"1025\"},{\"id\":\"1026\"}]},\"id\":\"1028\",\"type\":\"Toolbar\"},{\"attributes\":{\"axis\":{\"id\":\"1017\"},\"dimension\":1,\"ticker\":null},\"id\":\"1020\",\"type\":\"Grid\"},{\"attributes\":{},\"id\":\"1062\",\"type\":\"Selection\"},{\"attributes\":{\"source\":{\"id\":\"1050\"}},\"id\":\"1054\",\"type\":\"CDSView\"},{\"attributes\":{\"overlay\":{\"id\":\"1027\"}},\"id\":\"1023\",\"type\":\"BoxZoomTool\"},{\"attributes\":{},\"id\":\"1081\",\"type\":\"UnionRenderers\"},{\"attributes\":{\"line_alpha\":0.1,\"line_color\":\"#ff7e0e\",\"line_width\":2,\"x\":{\"field\":\"x\"},\"y\":{\"field\":\"y\"}},\"id\":\"1052\",\"type\":\"Line\"},{\"attributes\":{\"data_source\":{\"id\":\"1050\"},\"glyph\":{\"id\":\"1051\"},\"hover_glyph\":null,\"muted_glyph\":null,\"nonselection_glyph\":{\"id\":\"1052\"},\"selection_glyph\":null,\"view\":{\"id\":\"1054\"}},\"id\":\"1053\",\"type\":\"GlyphRenderer\"},{\"attributes\":{\"data\":{\"x\":{\"__ndarray__\":\"AAAAAAAAAACWArV+pUBZQJYCtX6lQGlA8MEHH3zwckCWArV+pUB5QDxDYt7OkH9A8MEHH3zwgkBDYt7OkBiGQJYCtX6lQIlA6aKLLrpojEA8Q2LezpCPQMdxHMdxXJFA8MEHH3zwkkAaEvN2hoSUQENi3s6QGJZAbbLJJpusl0CWArV+pUCZQL9SoNav1JpA6aKLLrponEAS83aGxPydQDxDYt7OkJ9Asskmm2ySoEDHcRzHcVyhQNwZEvN2JqJA8MEHH3zwokAFav1KgbqjQBoS83aGhKRAL7roootOpUBDYt7OkBimQFgK1PqV4qZAbbLJJpusp0CBWr9SoHaoQJYCtX6lQKlAq6qqqqoKqkC/UqDWr9SqQNT6lQK1nqtA6aKLLrporED9SoFavzKtQBLzdobE/K1AJ5tsssnGrkA8Q2LezpCvQKj1KwVqLbBAsskmm2ySsEC9nSExb/ewQMdxHMdxXLFA0UUXXXTBsUDcGRLzdiayQObtDIl5i7JA8MEHH3zwskD7lQK1flWzQAVq/UqBurNAED744IMftEAaEvN2hoS0QCTm7QyJ6bRAL7roootOtUA5juM4jrO1QENi3s6QGLZATjbZZJN9tkBYCtT6leK2QGLezpCYR7dAbbLJJpust0B3hsS8nRG4QIFav1KgdrhAjC666KLbuECWArV+pUC5QKDWrxSopblAq6qqqqoKukC1fqVArW+6QL9SoNav1LpAyiabbLI5u0DU+pUCtZ67QN7OkJi3A7xA6aKLLrpovEDzdobEvM28QP1KgVq/Mr1ACB988MGXvUAS83aGxPy9QBzHcRzHYb5AJ5tsssnGvkAxb2dIzCu/QDxDYt7OkL9ARhdddNH1v0Co9SsFai3AQK1fKVDrX8BAsskmm2ySwEC4MyTm7cTAQL2dITFv98BAwgcffPApwUDHcRzHcVzBQMzbGRLzjsFA0UUXXXTBwUDXrxSo9fPBQNwZEvN2JsJA4YMPPvhYwkDm7QyJeYvCQOtXCtT6vcJA8MEHH3zwwkD2KwVq/SLDQPuVArV+VcNAAAAAAACIw0A=\",\"dtype\":\"float64\",\"order\":\"little\",\"shape\":[100]},\"y\":{\"__ndarray__\":\"AAAAAAAAAAARbMVKQzg6QKcCttH7SVBAeNCJPglDWUCHdN+rQ7VgQPMkkKr0ZmRAu38HUea+Z0BiFHjwPcVqQP6z9pGVgW1AaQwOZ+f6b0CeSyPKxxtxQGT18pmqHnJAPNhqyroIc0AHHB3nV9xzQINUAPenm3RA96AOupxIdUC/eeOB+OR1QO3NMaNScnZAr/fCghvydkA7QyVFoGV3QDISWioOzndAu8GhlnUseEB1xtLQzIF4QBWx0ofyznhAVN90DLAUeUBL4zdgu1N5QOTpWRO5jHlA/6mm5j3AeUCmnhxX0O55QH1rwPbpGHpAHaEmt/g+ekA+FgbtX2F6QHqHAW95gHpAHO2Rb5acekCCW9JSALZ6QHYSTnj5zHpAgOqh373hekD1KNjAg/R6QEDwNCB8BXtA5aRiT9MUe0DqIz5fsSJ7QOgDToY6L3tAgkVNgI86e0AndrTkzUR7QGvsaXQQTntAhGfHXm9We0AtQTeAAF57QCFccJvXZHtAd/JyjQZre0DXQfl8nXB7QEF57gKrdXtAhpfqUDx6e0CGUW1UXX57QPC1H9YYgntARMKklXiFe0BimK5ihYh7QGysLDRHi3tATtpnPsWNe0CWpDcDBpB7QN5/Y2QPkntA2yd8s+aTe0DCTK2/kJV7QFwRV+ARl3tAPnu4A26Ye0CVLJW4qJl7QAiPeTXFmntAcxvdYMabe0Chn7zZrpx7QEH2E/+AnXtAfHOy9T6ee0AUawGu6p57QAGpCumFn3tAC5oLPBKge0Dq/1sVkaB7QD32NMADoXtAUaXnZ2uhe0DOecYayaF7QJajEc4dontAkV/ZXmqie0CmsHOVr6J7QM6UpSbuontAUO2ctSaje0C61nPWWaN7QPcXPg6Io3tAnOT81bGje0BqIHya16N7QOww/r75o3tA8FKOnxike0DO1lyINKR7QMdwxL5NpHtAsYRsiWSke0BwlE0keaR7QPUjvsSLpHtAGhM4m5yke0BqPNTTq6R7QLf0CZa5pHtAYWc3B8ake0CelgxH0aR7QEbPEHPbpHtAd0d2pOSke0A=\",\"dtype\":\"float64\",\"order\":\"little\",\"shape\":[100]}},\"selected\":{\"id\":\"1045\"},\"selection_policy\":{\"id\":\"1046\"}},\"id\":\"1035\",\"type\":\"ColumnDataSource\"},{\"attributes\":{\"label\":{\"value\":\"protein_atpsyn\"},\"renderers\":[{\"id\":\"1053\"}]},\"id\":\"1065\",\"type\":\"LegendItem\"},{\"attributes\":{\"data\":{\"x\":{\"__ndarray__\":\"AAAAAAAAAACWArV+pUBZQJYCtX6lQGlA8MEHH3zwckCWArV+pUB5QDxDYt7OkH9A8MEHH3zwgkBDYt7OkBiGQJYCtX6lQIlA6aKLLrpojEA8Q2LezpCPQMdxHMdxXJFA8MEHH3zwkkAaEvN2hoSUQENi3s6QGJZAbbLJJpusl0CWArV+pUCZQL9SoNav1JpA6aKLLrponEAS83aGxPydQDxDYt7OkJ9Asskmm2ySoEDHcRzHcVyhQNwZEvN2JqJA8MEHH3zwokAFav1KgbqjQBoS83aGhKRAL7roootOpUBDYt7OkBimQFgK1PqV4qZAbbLJJpusp0CBWr9SoHaoQJYCtX6lQKlAq6qqqqoKqkC/UqDWr9SqQNT6lQK1nqtA6aKLLrporED9SoFavzKtQBLzdobE/K1AJ5tsssnGrkA8Q2LezpCvQKj1KwVqLbBAsskmm2ySsEC9nSExb/ewQMdxHMdxXLFA0UUXXXTBsUDcGRLzdiayQObtDIl5i7JA8MEHH3zwskD7lQK1flWzQAVq/UqBurNAED744IMftEAaEvN2hoS0QCTm7QyJ6bRAL7roootOtUA5juM4jrO1QENi3s6QGLZATjbZZJN9tkBYCtT6leK2QGLezpCYR7dAbbLJJpust0B3hsS8nRG4QIFav1KgdrhAjC666KLbuECWArV+pUC5QKDWrxSopblAq6qqqqoKukC1fqVArW+6QL9SoNav1LpAyiabbLI5u0DU+pUCtZ67QN7OkJi3A7xA6aKLLrpovEDzdobEvM28QP1KgVq/Mr1ACB988MGXvUAS83aGxPy9QBzHcRzHYb5AJ5tsssnGvkAxb2dIzCu/QDxDYt7OkL9ARhdddNH1v0Co9SsFai3AQK1fKVDrX8BAsskmm2ySwEC4MyTm7cTAQL2dITFv98BAwgcffPApwUDHcRzHcVzBQMzbGRLzjsFA0UUXXXTBwUDXrxSo9fPBQNwZEvN2JsJA4YMPPvhYwkDm7QyJeYvCQOtXCtT6vcJA8MEHH3zwwkD2KwVq/SLDQPuVArV+VcNAAAAAAACIw0A=\",\"dtype\":\"float64\",\"order\":\"little\",\"shape\":[100]},\"y\":{\"__ndarray__\":\"AAAAAAAAAADHH08hEeE1QEODgSYBB05AbjuvvD9jWEB4/9i/PJVgQFlG36YmomRAR9qf+MdYaEBtHkFwMr1rQBWVb4TH1G5AH0GFuaTScEBDV8J0OBpyQMaDY7LdQ3NAj5vgNSpSdECsVyE0hkd1QMuwjForJnZAxXt6xyXwdkA1h3cMVqd3QLOAcrdzTXhAIwxkFRDkeEA0O7ACmWx5QGhVwrBb6HlAp9QoTYdYekD8jmWCL756QA6a59hOGntApSur38hte0BlT9A1bLl7QOZo4Gz0/XtAe2M/tQs8fEBAaTt4THR8QIHy+sFCp3xADTXWoG3VfEBqTlM5QP98QJVaaPwiJX1A/Ixik3RHfUBKjn3JimZ9QMJSbmmzgn1AzuxG8zScfUD8e5NFT7N9QMJH4kE8yH1AthtMXTDbfUDbUWcgW+x9QGcp8Zrn+31A5sHfz/wJfkAhXpkXvhZ+QE/hc3hLIn5AUk2i9cEsfkBUKwPXOzZ+QFKb4urQPn5AyQXtwZZGfkAh3OHloE1+QPRorQgBVH5AVWAIMcdZfkDrYVnjAV9+QC8vaUa+Y35A/q/SQwhofkDGHnal6mt+QOrHuDBvb35Ay0qTwJ5yfkCUE7VYgXV+QIO3RTseeH5AsJ+u+3t6fkB+ZgqPoHx+QNM/xliRfn5AwoMfPFOAfkDZR6+n6oF+QDe4JZ5bg35AIuUPwKmEfkAZgS5W2IV+QPyrdFrqhn5ABy0Yf+KHfkDrQYw1w4h+QDsWnLSOiX5AItHL/EaKfkB2hkje7Yp+QOauhf2Ei35AfyIr1w2MfkDmlafDiYx+QDE2+Pv5jH5AySjNml+NfkCPcMKgu41+QIC/2PUOjn5AYqDha1qOfkDG85nBno5+QAF1wqLcjn5AM7jCqxSPfkATWYtpR49+QMMv0Fx1j35ATgJD/Z6PfkDk1BuuxI9+QK9Rz8nmj35AEjmprAWQfkCIxSmlIZB+QA8uRPk6kH5A0Xin6FGQfkAh+VqtZpB+QDB7Z3t5kH5AP48dhIqQfkBnn3DxmZB+QJOYgeqnkH5AtFnSkLSQfkA=\",\"dtype\":\"float64\",\"order\":\"little\",\"shape\":[100]}},\"selected\":{\"id\":\"1062\"},\"selection_policy\":{\"id\":\"1063\"}},\"id\":\"1050\",\"type\":\"ColumnDataSource\"},{\"attributes\":{},\"id\":\"1063\",\"type\":\"UnionRenderers\"},{\"attributes\":{\"data\":{\"x\":{\"__ndarray__\":\"AAAAAAAAAACWArV+pUBZQJYCtX6lQGlA8MEHH3zwckCWArV+pUB5QDxDYt7OkH9A8MEHH3zwgkBDYt7OkBiGQJYCtX6lQIlA6aKLLrpojEA8Q2LezpCPQMdxHMdxXJFA8MEHH3zwkkAaEvN2hoSUQENi3s6QGJZAbbLJJpusl0CWArV+pUCZQL9SoNav1JpA6aKLLrponEAS83aGxPydQDxDYt7OkJ9Asskmm2ySoEDHcRzHcVyhQNwZEvN2JqJA8MEHH3zwokAFav1KgbqjQBoS83aGhKRAL7roootOpUBDYt7OkBimQFgK1PqV4qZAbbLJJpusp0CBWr9SoHaoQJYCtX6lQKlAq6qqqqoKqkC/UqDWr9SqQNT6lQK1nqtA6aKLLrporED9SoFavzKtQBLzdobE/K1AJ5tsssnGrkA8Q2LezpCvQKj1KwVqLbBAsskmm2ySsEC9nSExb/ewQMdxHMdxXLFA0UUXXXTBsUDcGRLzdiayQObtDIl5i7JA8MEHH3zwskD7lQK1flWzQAVq/UqBurNAED744IMftEAaEvN2hoS0QCTm7QyJ6bRAL7roootOtUA5juM4jrO1QENi3s6QGLZATjbZZJN9tkBYCtT6leK2QGLezpCYR7dAbbLJJpust0B3hsS8nRG4QIFav1KgdrhAjC666KLbuECWArV+pUC5QKDWrxSopblAq6qqqqoKukC1fqVArW+6QL9SoNav1LpAyiabbLI5u0DU+pUCtZ67QN7OkJi3A7xA6aKLLrpovEDzdobEvM28QP1KgVq/Mr1ACB988MGXvUAS83aGxPy9QBzHcRzHYb5AJ5tsssnGvkAxb2dIzCu/QDxDYt7OkL9ARhdddNH1v0Co9SsFai3AQK1fKVDrX8BAsskmm2ySwEC4MyTm7cTAQL2dITFv98BAwgcffPApwUDHcRzHcVzBQMzbGRLzjsFA0UUXXXTBwUDXrxSo9fPBQNwZEvN2JsJA4YMPPvhYwkDm7QyJeYvCQOtXCtT6vcJA8MEHH3zwwkD2KwVq/SLDQPuVArV+VcNAAAAAAACIw0A=\",\"dtype\":\"float64\",\"order\":\"little\",\"shape\":[100]},\"y\":{\"__ndarray__\":\"AAAAAAAAJEAZp1fsHYPuPxqnV+wdg+4/GadX7B2D7j8Zp1fsHYPuPx2nV+wdg+4/GqdX7B2D7j8ap1fsHYPuPxunV+wdg+4/HadX7B2D7j8bp1fsHYPuPxynV+wdg+4/GKdX7B2D7j8Yp1fsHYPuPxqnV+wdg+4/FadX7B2D7j8ap1fsHYPuPxqnV+wdg+4/GqdX7B2D7j8Zp1fsHYPuPxqnV+wdg+4/HKdX7B2D7j8cp1fsHYPuPxynV+wdg+4/HadX7B2D7j8bp1fsHYPuPx2nV+wdg+4/I6dX7B2D7j8bp1fsHYPuPxunV+wdg+4/GqdX7B2D7j8cp1fsHYPuPxunV+wdg+4/G6dX7B2D7j8cp1fsHYPuPxunV+wdg+4/HKdX7B2D7j8bp1fsHYPuPxunV+wdg+4/G6dX7B2D7j8cp1fsHYPuPxynV+wdg+4/G6dX7B2D7j8Zp1fsHYPuPx+nV+wdg+4/FKdX7B2D7j8vp1fsHYPuP+ymV+wdg+4/kKdX7B2D7j9Bp1fsHYPuPxemV+wdg+4/TqdX7B2D7j8kp1fsHYPuPxunV+wdg+4/HqdX7B2D7j8Up1fsHYPuP+6mV+wdg+4/LKdX7B2D7j8Qp1fsHYPuPxynV+wdg+4/GadX7B2D7j8Zp1fsHYPuPxenV+wdg+4/E6dX7B2D7j8Up1fsHYPuPxinV+wdg+4/HKdX7B2D7j8Yp1fsHYPuPx2nV+wdg+4/HadX7B2D7j8cp1fsHYPuPxynV+wdg+4/HKdX7B2D7j8cp1fsHYPuPx2nV+wdg+4/HKdX7B2D7j8fp1fsHYPuPyenV+wdg+4/JKdX7B2D7j8fp1fsHYPuPzenV+wdg+4/KKdX7B2D7j/IplfsHYPuPx+nV+wdg+4/MqhX7B2D7j8TplfsHYPuPxmnV+wdg+4/G6dX7B2D7j8Zp1fsHYPuPxqnV+wdg+4/GadX7B2D7j8Zp1fsHYPuPxqnV+wdg+4/GadX7B2D7j8cp1fsHYPuPxqnV+wdg+4/GKdX7B2D7j8Zp1fsHYPuPxqnV+wdg+4/GadX7B2D7j8=\",\"dtype\":\"float64\",\"order\":\"little\",\"shape\":[100]}},\"selected\":{\"id\":\"1080\"},\"selection_policy\":{\"id\":\"1081\"}},\"id\":\"1066\",\"type\":\"ColumnDataSource\"},{\"attributes\":{},\"id\":\"1046\",\"type\":\"UnionRenderers\"},{\"attributes\":{},\"id\":\"1011\",\"type\":\"LinearScale\"},{\"attributes\":{\"line_color\":\"#2ba02b\",\"line_width\":2,\"x\":{\"field\":\"x\"},\"y\":{\"field\":\"y\"}},\"id\":\"1067\",\"type\":\"Line\"},{\"attributes\":{\"items\":[{\"id\":\"1049\"},{\"id\":\"1065\"},{\"id\":\"1083\"}],\"location\":\"center_right\"},\"id\":\"1048\",\"type\":\"Legend\"},{\"attributes\":{},\"id\":\"1080\",\"type\":\"Selection\"},{\"attributes\":{\"text\":\"ATP synthase tx and tl\"},\"id\":\"1003\",\"type\":\"Title\"},{\"attributes\":{},\"id\":\"1024\",\"type\":\"SaveTool\"},{\"attributes\":{},\"id\":\"1005\",\"type\":\"DataRange1d\"},{\"attributes\":{\"line_color\":\"#1f77b3\",\"line_width\":2,\"x\":{\"field\":\"x\"},\"y\":{\"field\":\"y\"}},\"id\":\"1036\",\"type\":\"Line\"},{\"attributes\":{\"line_color\":\"#ff7e0e\",\"line_width\":2,\"x\":{\"field\":\"x\"},\"y\":{\"field\":\"y\"}},\"id\":\"1051\",\"type\":\"Line\"},{\"attributes\":{},\"id\":\"1018\",\"type\":\"BasicTicker\"},{\"attributes\":{},\"id\":\"1041\",\"type\":\"BasicTickFormatter\"},{\"attributes\":{\"axis\":{\"id\":\"1013\"},\"ticker\":null},\"id\":\"1016\",\"type\":\"Grid\"},{\"attributes\":{\"source\":{\"id\":\"1066\"}},\"id\":\"1070\",\"type\":\"CDSView\"},{\"attributes\":{},\"id\":\"1045\",\"type\":\"Selection\"},{\"attributes\":{},\"id\":\"1009\",\"type\":\"LinearScale\"},{\"attributes\":{\"data_source\":{\"id\":\"1035\"},\"glyph\":{\"id\":\"1036\"},\"hover_glyph\":null,\"muted_glyph\":null,\"nonselection_glyph\":{\"id\":\"1037\"},\"selection_glyph\":null,\"view\":{\"id\":\"1039\"}},\"id\":\"1038\",\"type\":\"GlyphRenderer\"},{\"attributes\":{\"axis_label\":\"concentration\",\"formatter\":{\"id\":\"1041\"},\"ticker\":{\"id\":\"1018\"}},\"id\":\"1017\",\"type\":\"LinearAxis\"},{\"attributes\":{\"line_alpha\":0.1,\"line_color\":\"#2ba02b\",\"line_width\":2,\"x\":{\"field\":\"x\"},\"y\":{\"field\":\"y\"}},\"id\":\"1068\",\"type\":\"Line\"},{\"attributes\":{\"data_source\":{\"id\":\"1066\"},\"glyph\":{\"id\":\"1067\"},\"hover_glyph\":null,\"muted_glyph\":null,\"nonselection_glyph\":{\"id\":\"1068\"},\"selection_glyph\":null,\"view\":{\"id\":\"1070\"}},\"id\":\"1069\",\"type\":\"GlyphRenderer\"},{\"attributes\":{\"label\":{\"value\":\"rna_atpsyn\"},\"renderers\":[{\"id\":\"1038\"}]},\"id\":\"1049\",\"type\":\"LegendItem\"},{\"attributes\":{},\"id\":\"1043\",\"type\":\"BasicTickFormatter\"},{\"attributes\":{},\"id\":\"1007\",\"type\":\"DataRange1d\"},{\"attributes\":{\"source\":{\"id\":\"1035\"}},\"id\":\"1039\",\"type\":\"CDSView\"},{\"attributes\":{\"line_alpha\":0.1,\"line_color\":\"#1f77b3\",\"line_width\":2,\"x\":{\"field\":\"x\"},\"y\":{\"field\":\"y\"}},\"id\":\"1037\",\"type\":\"Line\"},{\"attributes\":{},\"id\":\"1021\",\"type\":\"PanTool\"},{\"attributes\":{\"bottom_units\":\"screen\",\"fill_alpha\":0.5,\"fill_color\":\"lightgrey\",\"left_units\":\"screen\",\"level\":\"overlay\",\"line_alpha\":1.0,\"line_color\":\"black\",\"line_dash\":[4,4],\"line_width\":2,\"right_units\":\"screen\",\"top_units\":\"screen\"},\"id\":\"1027\",\"type\":\"BoxAnnotation\"},{\"attributes\":{\"label\":{\"value\":\"dna_atpsyn\"},\"renderers\":[{\"id\":\"1069\"}]},\"id\":\"1083\",\"type\":\"LegendItem\"},{\"attributes\":{},\"id\":\"1025\",\"type\":\"ResetTool\"},{\"attributes\":{},\"id\":\"1026\",\"type\":\"HelpTool\"},{\"attributes\":{},\"id\":\"1014\",\"type\":\"BasicTicker\"},{\"attributes\":{\"axis_label\":\"time (sec)\",\"formatter\":{\"id\":\"1043\"},\"ticker\":{\"id\":\"1014\"}},\"id\":\"1013\",\"type\":\"LinearAxis\"}],\"root_ids\":[\"1002\"]},\"title\":\"Bokeh Application\",\"version\":\"2.2.1\"}};\n",
       "  var render_items = [{\"docid\":\"eba1ff05-0a06-45e1-a24a-02d33ebed3b4\",\"root_ids\":[\"1002\"],\"roots\":{\"1002\":\"c7c55bb7-9b7c-4e5f-ba02-6543ae3d39a0\"}}];\n",
       "  root.Bokeh.embed.embed_items_notebook(docs_json, render_items);\n",
       "\n",
       "  }\n",
       "  if (root.Bokeh !== undefined) {\n",
       "    embed_document(root);\n",
       "  } else {\n",
       "    var attempts = 0;\n",
       "    var timer = setInterval(function(root) {\n",
       "      if (root.Bokeh !== undefined) {\n",
       "        clearInterval(timer);\n",
       "        embed_document(root);\n",
       "      } else {\n",
       "        attempts++;\n",
       "        if (attempts > 100) {\n",
       "          clearInterval(timer);\n",
       "          console.log(\"Bokeh: ERROR: Unable to run BokehJS code because BokehJS library is missing\");\n",
       "        }\n",
       "      }\n",
       "    }, 10, root)\n",
       "  }\n",
       "})(window);"
      ],
      "application/vnd.bokehjs_exec.v0+json": ""
     },
     "metadata": {
      "application/vnd.bokehjs_exec.v0+json": {
       "id": "1002"
      }
     },
     "output_type": "display_data"
    }
   ],
   "source": [
    "p = bokeh.plotting.figure(width = 450, height = 340, \n",
    "                         x_axis_label = 'time (sec)', y_axis_label = 'concentration',\n",
    "                         title = 'ATP synthase tx and tl')\n",
    "plot_list = ['rna_atpsyn', 'protein_atpsyn', 'dna_atpsyn']\n",
    "for i,item in enumerate(plot_list):\n",
    "    p.line(timepoints, R[item], legend_label = item, color = palette[i], line_width = 2)\n",
    "    \n",
    "p.legend.location = 'center_right'\n",
    "bokeh.io.show(p)"
   ]
  },
  {
   "cell_type": "markdown",
   "metadata": {},
   "source": [
    "## SBML 2 (simple) for ATP Synthase Tx and Tl\n",
    "---"
   ]
  },
  {
   "cell_type": "code",
   "execution_count": 8,
   "metadata": {},
   "outputs": [
    {
     "ename": "TypeError",
     "evalue": "new_interface() missing 1 required positional argument: 'propensity_type'",
     "output_type": "error",
     "traceback": [
      "\u001b[0;31m---------------------------------------------------------------------------\u001b[0m",
      "\u001b[0;31mTypeError\u001b[0m                                 Traceback (most recent call last)",
      "\u001b[0;32m<ipython-input-8-548bcb9a7c30>\u001b[0m in \u001b[0;36m<module>\u001b[0;34m\u001b[0m\n\u001b[1;32m      8\u001b[0m \u001b[0mk_tl\u001b[0m \u001b[0;34m=\u001b[0m \u001b[0;36m1\u001b[0m\u001b[0;34m\u001b[0m\u001b[0;34m\u001b[0m\u001b[0m\n\u001b[1;32m      9\u001b[0m \u001b[0;34m\u001b[0m\u001b[0m\n\u001b[0;32m---> 10\u001b[0;31m \u001b[0mR\u001b[0m \u001b[0;34m=\u001b[0m \u001b[0mReaction\u001b[0m\u001b[0;34m(\u001b[0m\u001b[0;34m[\u001b[0m\u001b[0mdna_atpsyn\u001b[0m\u001b[0;34m]\u001b[0m\u001b[0;34m,\u001b[0m\u001b[0;34m[\u001b[0m\u001b[0mrna_atpsyn\u001b[0m\u001b[0;34m]\u001b[0m\u001b[0;34m,\u001b[0m \u001b[0mk_tx\u001b[0m\u001b[0;34m)\u001b[0m\u001b[0;34m\u001b[0m\u001b[0;34m\u001b[0m\u001b[0m\n\u001b[0m\u001b[1;32m     11\u001b[0m \u001b[0;34m\u001b[0m\u001b[0m\n\u001b[1;32m     12\u001b[0m \u001b[0mR1\u001b[0m \u001b[0;34m=\u001b[0m \u001b[0mReaction\u001b[0m\u001b[0;34m(\u001b[0m\u001b[0;34m[\u001b[0m\u001b[0mrna_atpsyn\u001b[0m\u001b[0;34m]\u001b[0m\u001b[0;34m,\u001b[0m \u001b[0;34m[\u001b[0m\u001b[0mf_atpsyn\u001b[0m\u001b[0;34m]\u001b[0m\u001b[0;34m,\u001b[0m \u001b[0mk_tl\u001b[0m\u001b[0;34m)\u001b[0m\u001b[0;34m\u001b[0m\u001b[0;34m\u001b[0m\u001b[0m\n",
      "\u001b[0;32m~/opt/anaconda3/lib/python3.7/site-packages/biocrnpyler-1.0.2-py3.7.egg/biocrnpyler/reaction.py\u001b[0m in \u001b[0;36m__init__\u001b[0;34m(self, *args, **kwargs)\u001b[0m\n\u001b[1;32m     35\u001b[0m             \u001b[0mself\u001b[0m\u001b[0;34m.\u001b[0m\u001b[0mold_interface\u001b[0m\u001b[0;34m(\u001b[0m\u001b[0;34m**\u001b[0m\u001b[0mkwargs\u001b[0m\u001b[0;34m)\u001b[0m\u001b[0;34m\u001b[0m\u001b[0;34m\u001b[0m\u001b[0m\n\u001b[1;32m     36\u001b[0m         \u001b[0;32melse\u001b[0m\u001b[0;34m:\u001b[0m\u001b[0;34m\u001b[0m\u001b[0;34m\u001b[0m\u001b[0m\n\u001b[0;32m---> 37\u001b[0;31m             \u001b[0mself\u001b[0m\u001b[0;34m.\u001b[0m\u001b[0mnew_interface\u001b[0m\u001b[0;34m(\u001b[0m\u001b[0;34m**\u001b[0m\u001b[0mkwargs\u001b[0m\u001b[0;34m)\u001b[0m\u001b[0;34m\u001b[0m\u001b[0;34m\u001b[0m\u001b[0m\n\u001b[0m\u001b[1;32m     38\u001b[0m \u001b[0;34m\u001b[0m\u001b[0m\n\u001b[1;32m     39\u001b[0m     def old_interface(self,inputs, outputs, k = 0, input_coefs = None,\n",
      "\u001b[0;31mTypeError\u001b[0m: new_interface() missing 1 required positional argument: 'propensity_type'"
     ]
    }
   ],
   "source": [
    "rna_atpsyn = Species(\"atpsyn\", material_type = \"rna\")\n",
    "\n",
    "dna_atpsyn = Species(\"atpsyn\", material_type = \"dna\")\n",
    "\n",
    "f_atpsyn = Species(\"atpsyn\", material_type = \"protein\")\n",
    "\n",
    "k_tx = 1\n",
    "k_tl = 1\n",
    "\n",
    "R = Reaction([dna_atpsyn],[rna_atpsyn], k_tx)\n",
    "\n",
    "R1 = Reaction([rna_atpsyn], [f_atpsyn], k_tl)\n",
    "CRN_simpletxtl = ChemicalReactionNetwork(species = [rna_atpsyn, dna_atpsyn, f_atpsyn], reactions = [R, R1])\n",
    "\n",
    "print(CRN_simpletxtl.pretty_print(show_materials = True, show_rates = True, show_attributes = True))\n"
   ]
  },
  {
   "cell_type": "code",
   "execution_count": null,
   "metadata": {},
   "outputs": [],
   "source": [
    "# Write SBML file\n",
    "CRN_simpletxtl.write_sbml_file('atpsynthase_simple_txtl.xml')"
   ]
  },
  {
   "cell_type": "code",
   "execution_count": null,
   "metadata": {},
   "outputs": [],
   "source": [
    "x0 = {'dna_atpsyn' : 10}\n",
    "timepoints = np.linspace(0,100,100)\n",
    "r_simple = CRN_simpletxtl.simulate_with_bioscrape(timepoints, initial_condition_dict = x0)\n",
    "\n",
    "#results, _ = CRN_machinerytxtl.simulate_via_bioscrape(timepoints, initial_condition_dict = x0, sbml_warnings = False)"
   ]
  },
  {
   "cell_type": "code",
   "execution_count": null,
   "metadata": {},
   "outputs": [],
   "source": [
    "p_simple = bokeh.plotting.figure(width = 450, height = 350, title = 'ATP Synthase with Machinery',\n",
    "                          x_axis_label = 'time',\n",
    "                          y_axis_label = 'concentration')\n",
    "plot_list = [ 'dna_atpsyn']\n",
    "#plot_str = ['atp', 'outside_H', 'inside_H', 'bound atp synthase', 'free atp synthase']\n",
    "# plot_list = [atp_synthase_b_protein_id, atp_synthase_f_protein_id]\n",
    "# plot_str = ['atp synthase bound', 'atp synthase free']\n",
    "for i,item in enumerate(plot_list):\n",
    "    p_simple.line(timepoints, r_simple[item], line_width = 2, legend_label = item, color = palette[i])\n",
    "    \n",
    "bokeh.io.show(p_simple)"
   ]
  },
  {
   "cell_type": "markdown",
   "metadata": {},
   "source": [
    "## SBML 3 (manual RNA poly, Ribo, mrna degradation) for ATP Synthase Tx and Tl\n",
    "---"
   ]
  },
  {
   "cell_type": "code",
   "execution_count": null,
   "metadata": {},
   "outputs": [],
   "source": [
    "rna_atpsyn = Species(\"atpsyn\", material_type = \"rna\")\n",
    "dna_atpsyn = Species(\"atpsyn\", material_type = \"dna\")\n",
    "f_atpsyn = Species(\"atpsyn\", material_type = \"protein\")\n",
    "\n",
    "RNAP_machinery = Species('RNAP_machinery', material_type = 'protein')\n",
    "Ribo_machinery = Species(\"Ribo_machinery\", material_type = 'protein')\n",
    "RNAse_machinery = Species(\"RNAse_machinery\", material_type = 'protein')\n",
    "\n",
    "complex_dna_rnap = ComplexSpecies([dna_atpsyn, RNAP_machinery])\n",
    "complex_rna_ribo = ComplexSpecies([rna_atpsyn, Ribo_machinery])\n",
    "complex_rnase_rna = ComplexSpecies([rna_atpsyn, RNAse_machinery])\n",
    "\n",
    "kb = 50.0\n",
    "kf = 1.0\n",
    "k1 = 0.05\n",
    "k5 = 0.001\n",
    "\n",
    "R0 = Reaction([dna_atpsyn, RNAP_machinery], [complex_dna_rnap], k = kb) # THIS ONE WILL BE TEMP DEPENDENT, \n",
    "                                                                        # made irreversible for now\n",
    "R1 = Reaction([complex_dna_rnap], [rna_atpsyn, RNAP_machinery], k = k1) #dna_atpsyn,\n",
    "R2 = Reaction([rna_atpsyn, Ribo_machinery], [complex_rna_ribo], k = kb) #k_rev = kf)\n",
    "R3 = Reaction([complex_rna_ribo],[rna_atpsyn, f_atpsyn, Ribo_machinery], k = k1)\n",
    "R4 = Reaction([rna_atpsyn, RNAse_machinery], [complex_rnase_rna], k = kb)# k_rev = kf\n",
    "R5 = Reaction([complex_rnase_rna], [RNAse_machinery], k = k5)\n",
    "\n",
    "CRN_machinerytxtl = ChemicalReactionNetwork(species = [rna_atpsyn, dna_atpsyn, f_atpsyn, RNAP_machinery, Ribo_machinery,\n",
    "                                         RNAse_machinery, complex_dna_rnap, complex_rna_ribo, complex_rnase_rna],\n",
    "                               reactions = [R0, R1, R2, R3, R4, R5])\n",
    "\n",
    "print(CRN_machinerytxtl.pretty_print(show_materials = True, show_rates = True, show_attributes = True))"
   ]
  },
  {
   "cell_type": "code",
   "execution_count": null,
   "metadata": {},
   "outputs": [],
   "source": [
    "# Write SBML file\n",
    "CRN_machinerytxtl.write_sbml_file('atpsynthase_machinery_txtl.xml')"
   ]
  },
  {
   "cell_type": "code",
   "execution_count": null,
   "metadata": {},
   "outputs": [],
   "source": [
    "x0 = {'dna_atpsyn' : 10, 'protein_RNAP_machinery' : 10, 'protein_Ribo_machinery' : 10, 'protein_RNAse_machinery' : 10}\n",
    "timepoints = np.linspace(0,1000,100)\n",
    "r = CRN_machinerytxtl.simulate_with_bioscrape(timepoints, initial_condition_dict = x0)\n",
    "\n",
    "#results, _ = CRN_machinerytxtl.simulate_via_bioscrape(timepoints, initial_condition_dict = x0, sbml_warnings = False)"
   ]
  },
  {
   "cell_type": "code",
   "execution_count": null,
   "metadata": {},
   "outputs": [],
   "source": [
    "p_mach = bokeh.plotting.figure(width = 450, height = 350, title = 'ATP Synthase with Machinery',\n",
    "                          x_axis_label = 'time',\n",
    "                          y_axis_label = 'concentration')\n",
    "plot_list = ['protein_atpsyn','dna_atpsyn', 'rna_atpsyn']\n",
    "#plot_str = ['atp', 'outside_H', 'inside_H', 'bound atp synthase', 'free atp synthase']\n",
    "# plot_list = [atp_synthase_b_protein_id, atp_synthase_f_protein_id]\n",
    "# plot_str = ['atp synthase bound', 'atp synthase free']\n",
    "for i,item in enumerate(plot_list):\n",
    "    p_mach.line(timepoints, r[item], line_width = 2, legend_label = item, color = palette[i])\n",
    "p_mach.legend.click_policy = 'hide'\n",
    "p_mach.legend.location = 'top_left'\n",
    "bokeh.io.show(p_mach)"
   ]
  },
  {
   "cell_type": "code",
   "execution_count": null,
   "metadata": {},
   "outputs": [],
   "source": [
    "r.head()"
   ]
  },
  {
   "cell_type": "markdown",
   "metadata": {},
   "source": [
    "## SBML for atp synthase temperature sensitive txtl 25 C\n",
    "---"
   ]
  },
  {
   "cell_type": "code",
   "execution_count": null,
   "metadata": {},
   "outputs": [],
   "source": [
    "rna_atpsyn = Species(\"atpsyn\", material_type = \"rna\")\n",
    "dna_atpsyn = Species(\"atpsyn\", material_type = \"dna\")\n",
    "f_atpsyn = Species(\"atpsyn\", material_type = \"protein\")\n",
    "\n",
    "RNAP_machinery = Species('RNAP_machinery', material_type = 'protein')\n",
    "Ribo_machinery = Species(\"Ribo_machinery\", material_type = 'protein')\n",
    "RNAse_machinery = Species(\"RNAse_machinery\", material_type = 'protein')\n",
    "\n",
    "complex_dna_rnap = ComplexSpecies([dna_atpsyn, RNAP_machinery])\n",
    "complex_rna_ribo = ComplexSpecies([rna_atpsyn, Ribo_machinery])\n",
    "complex_rnase_rna = ComplexSpecies([rna_atpsyn, RNAse_machinery])\n",
    "\n",
    "kb = 100.0\n",
    "kf = 1.0\n",
    "k1 = 0.05\n",
    "k5 = 0.001\n",
    "A = 0.0576\n",
    "B = -4.68\n",
    "C = 120\n",
    "T = 25 \n",
    "\n",
    "#rate_string= \"(\" + str(dna)+ \"*\"+ \"(\" + \"1\" + \"/\" + \"(\" + str(A) + \"*\" + str(Temperature) + \"^\" + \"2\" + \"+\" + str(B) + \"*\" + str(Temperature) + \"+\" + str(C) + \")\"+ \")\" + \")\"\n",
    "\n",
    "k_temp = 0.01 * (1/(A * T**2 + B * T + C))\n",
    "\n",
    "R0 = Reaction([dna_atpsyn, RNAP_machinery], [complex_dna_rnap], k = k_temp) # THIS ONE WILL BE TEMP DEPENDENT, \n",
    "                                                                        # made irreversible for now\n",
    "R1 = Reaction([complex_dna_rnap], [rna_atpsyn, RNAP_machinery], k = k1) #dna_atpsyn,\n",
    "R2 = Reaction([rna_atpsyn, Ribo_machinery], [complex_rna_ribo], k = kb) #k_rev = kf)\n",
    "R3 = Reaction([complex_rna_ribo],[rna_atpsyn, f_atpsyn, Ribo_machinery], k = k1)\n",
    "R4 = Reaction([rna_atpsyn, RNAse_machinery], [complex_rnase_rna], k = kb)# k_rev = kf\n",
    "R5 = Reaction([complex_rnase_rna], [RNAse_machinery], k = k5)\n",
    "\n",
    "CRN_25temp_machinerytxtl_atpsyn = ChemicalReactionNetwork(species = [rna_atpsyn, dna_atpsyn, f_atpsyn, RNAP_machinery, Ribo_machinery,\n",
    "                                         RNAse_machinery, complex_dna_rnap, complex_rna_ribo, complex_rnase_rna],\n",
    "                               reactions = [R0, R1, R2, R3, R4, R5])\n",
    "\n",
    "print(CRN_25temp_machinerytxtl_atpsyn.pretty_print(show_materials = True, show_rates = True, show_attributes = True))"
   ]
  },
  {
   "cell_type": "code",
   "execution_count": null,
   "metadata": {},
   "outputs": [],
   "source": [
    "# Write SBML file\n",
    "CRN_25temp_machinerytxtl_atpsyn.write_sbml_file('atpsyn_25temp_machinery_txtl.xml')"
   ]
  },
  {
   "cell_type": "markdown",
   "metadata": {},
   "source": [
    "## SBML for atp synthase temperature sensitive txtl 37 C\n",
    "---"
   ]
  },
  {
   "cell_type": "code",
   "execution_count": null,
   "metadata": {},
   "outputs": [],
   "source": [
    "rna_atpsyn = Species(\"atpsyn\", material_type = \"rna\")\n",
    "dna_atpsyn = Species(\"atpsyn\", material_type = \"dna\")\n",
    "f_atpsyn = Species(\"atpsyn\", material_type = \"protein\")\n",
    "\n",
    "RNAP_machinery = Species('RNAP_machinery', material_type = 'protein')\n",
    "Ribo_machinery = Species(\"Ribo_machinery\", material_type = 'protein')\n",
    "RNAse_machinery = Species(\"RNAse_machinery\", material_type = 'protein')\n",
    "\n",
    "complex_dna_rnap = ComplexSpecies([dna_atpsyn, RNAP_machinery])\n",
    "complex_rna_ribo = ComplexSpecies([rna_atpsyn, Ribo_machinery])\n",
    "complex_rnase_rna = ComplexSpecies([rna_atpsyn, RNAse_machinery])\n",
    "\n",
    "kb = 100.0\n",
    "kf = 1.0\n",
    "k1 = 0.05\n",
    "k5 = 0.001\n",
    "A = 0.0576\n",
    "B = -4.68\n",
    "C = 120\n",
    "T = 100\n",
    "\n",
    "#rate_string= \"(\" + str(dna)+ \"*\"+ \"(\" + \"1\" + \"/\" + \"(\" + str(A) + \"*\" + str(Temperature) + \"^\" + \"2\" + \"+\" + str(B) + \"*\" + str(Temperature) + \"+\" + str(C) + \")\"+ \")\" + \")\"\n",
    "\n",
    "k_temp = 0.01 * (1/(A * T**2 + B * T + C))\n",
    "\n",
    "R0 = Reaction([dna_atpsyn, RNAP_machinery], [complex_dna_rnap], k = k_temp) # THIS ONE WILL BE TEMP DEPENDENT, \n",
    "                                                                        # made irreversible for now\n",
    "R1 = Reaction([complex_dna_rnap], [rna_atpsyn, RNAP_machinery], k = k1) #dna_atpsyn,\n",
    "R2 = Reaction([rna_atpsyn, Ribo_machinery], [complex_rna_ribo], k = kb) #k_rev = kf)\n",
    "R3 = Reaction([complex_rna_ribo],[rna_atpsyn, f_atpsyn, Ribo_machinery], k = k1)\n",
    "R4 = Reaction([rna_atpsyn, RNAse_machinery], [complex_rnase_rna], k = kb)# k_rev = kf\n",
    "R5 = Reaction([complex_rnase_rna], [RNAse_machinery], k = k5)\n",
    "\n",
    "CRN_100temp_machinerytxtl_atpsyn = ChemicalReactionNetwork(species = [rna_atpsyn, dna_atpsyn, f_atpsyn, RNAP_machinery, Ribo_machinery,\n",
    "                                         RNAse_machinery, complex_dna_rnap, complex_rna_ribo, complex_rnase_rna],\n",
    "                               reactions = [R0, R1, R2, R3, R4, R5])\n",
    "\n",
    "print(CRN_100temp_machinerytxtl_atpsyn.pretty_print(show_materials = True, show_rates = True, show_attributes = True))"
   ]
  },
  {
   "cell_type": "code",
   "execution_count": null,
   "metadata": {},
   "outputs": [],
   "source": [
    "# Write SBML file\n",
    "CRN_100temp_machinerytxtl_atpsyn.write_sbml_file('atpsyn_100temp_machinery_txtl.xml')"
   ]
  },
  {
   "cell_type": "markdown",
   "metadata": {},
   "source": [
    "## SBML for ATP synthase membrane integration\n",
    "---"
   ]
  },
  {
   "cell_type": "code",
   "execution_count": null,
   "metadata": {},
   "outputs": [],
   "source": [
    "atpsyn = Species(\"atpsyn\", material_type = \"protein\")\n",
    "\n",
    "atpsyn_b = Species(\"atpsyn_b\", material_type = \"protein\")\n",
    "\n",
    "k_bound = 0.0003\n",
    "\n",
    "R = Reaction([atpsyn], [atpsyn_b], k_bound)\n",
    "\n",
    "#R1 = Reaction([atpsyn], [], k_bound)\n",
    "\n",
    "CRN_mi = ChemicalReactionNetwork(species = [atpsyn, atpsyn_b], reactions = [R])\n",
    "\n",
    "print(CRN_mi.pretty_print(show_materials = True, show_rates = True, show_attributes = True))"
   ]
  },
  {
   "cell_type": "code",
   "execution_count": null,
   "metadata": {},
   "outputs": [],
   "source": [
    "# Write SBML file\n",
    "CRN_mi.write_sbml_file('atpsynthase_membrane_integration.xml')"
   ]
  },
  {
   "cell_type": "code",
   "execution_count": null,
   "metadata": {},
   "outputs": [],
   "source": [
    "timepoints = np.linspace(0,100,100)\n",
    "x0_mi = {'protein_atpsyn':10}\n",
    "R_mi = CRN_mi.simulate_with_bioscrape(timepoints, initial_condition_dict = x0_mi)"
   ]
  },
  {
   "cell_type": "code",
   "execution_count": null,
   "metadata": {},
   "outputs": [],
   "source": []
  },
  {
   "cell_type": "code",
   "execution_count": null,
   "metadata": {},
   "outputs": [],
   "source": [
    "R_mi"
   ]
  },
  {
   "cell_type": "code",
   "execution_count": null,
   "metadata": {},
   "outputs": [],
   "source": [
    "p_mi = bokeh.plotting.figure(width = 450, height = 340, \n",
    "                         x_axis_label = 'time (sec)', y_axis_label = 'concentration',\n",
    "                         title = 'ATP synthase membrane integration')\n",
    "plot_list = ['protein_atpsyn', 'protein_atpsyn_b']\n",
    "for i,item in enumerate(plot_list):\n",
    "    p_mi.line(timepoints, R_mi[item], legend_label = item, color = palette[i], line_width = 2)\n",
    "    \n",
    "p_mi.legend.location = 'center_right'\n",
    "bokeh.io.show(p_mi)"
   ]
  },
  {
   "cell_type": "markdown",
   "metadata": {},
   "source": [
    "## SBML for ATP Synthesis via ATP synthase membrane protein\n",
    "---"
   ]
  },
  {
   "cell_type": "code",
   "execution_count": null,
   "metadata": {},
   "outputs": [],
   "source": [
    "outside_H = Species(\"outside_H\", material_type = \"proton\")\n",
    "\n",
    "inside_H = Species(\"inside_H\", material_type = \"proton\")\n",
    "\n",
    "atpsyn_b = Species(\"atpsyn_b\", material_type = \"protein\")\n",
    "\n",
    "adp = Species('adp', material_type = 'metabolite')\n",
    "atp = Species('atp', material_type = 'metabolite')\n",
    "pi = Species('pi', material_type = 'metabolite')\n",
    "\n",
    "\n",
    "k_atp_synthesis = 100\n",
    "\n",
    "R1 = Reaction([outside_H, outside_H, outside_H, outside_H, atpsyn_b], \n",
    "              [inside_H, inside_H, inside_H, inside_H, atpsyn_b], k_atp_synthesis)\n",
    "\n",
    "R3 = Reaction([inside_H, inside_H, inside_H, inside_H, atpsyn_b],\n",
    "              [outside_H, outside_H, outside_H, outside_H, atpsyn_b], k_atp_synthesis)\n",
    "\n",
    "R2 = Reaction([adp, pi], [atp], k_atp_synthesis)\n",
    "\n",
    "# R2 = Reaction([outside_H, outside_H, outside_H, outside_H], \n",
    "#              [inside_H, inside_H, inside_H, inside_H], k_atp_synthesis)\n",
    "\n",
    "CRN_atpsynthesis = ChemicalReactionNetwork(species = [outside_H, inside_H, atpsyn_b, adp, atp, pi], reactions = [R1, R2,R3])\n",
    "\n",
    "print(CRN_atpsynthesis.pretty_print(show_materials = True, show_rates = True, show_attributes = True))"
   ]
  },
  {
   "cell_type": "code",
   "execution_count": null,
   "metadata": {},
   "outputs": [],
   "source": [
    "# Write SBML file\n",
    "CRN_atpsynthesis.write_sbml_file('atp_synthesis_through_atpsynthase_try2.xml')"
   ]
  },
  {
   "cell_type": "code",
   "execution_count": null,
   "metadata": {},
   "outputs": [],
   "source": [
    "timepoints = np.linspace(0,2,100)\n",
    "x0_atpsynthesis = {'proton_outside_H':10, 'metabolite_adp':10, 'metabolite_pi':10}\n",
    "R_atpsynthesis = CRN_atpsynthesis.simulate_with_bioscrape(timepoints, initial_condition_dict = x0_atpsynthesis)"
   ]
  },
  {
   "cell_type": "code",
   "execution_count": null,
   "metadata": {},
   "outputs": [],
   "source": [
    "p_atpsynthesis = bokeh.plotting.figure(width = 450, height = 340, \n",
    "                         x_axis_label = 'time (sec)', y_axis_label = 'concentration',\n",
    "                         title = 'ATP synthesis through ATP synthase')\n",
    "plot_list = ['proton_outside_H', 'proton_inside_H', 'metabolite_atp']\n",
    "for i,item in enumerate(plot_list):\n",
    "    p_atpsynthesis.line(timepoints, R_atpsynthesis[item], legend_label = item, color = palette[i], line_width = 2)\n",
    "    \n",
    "p_atpsynthesis.legend.location = 'center_right'\n",
    "bokeh.io.show(p_atpsynthesis)"
   ]
  },
  {
   "cell_type": "markdown",
   "metadata": {},
   "source": [
    "## SBML for Proton Pump transcription and translation\n",
    "---"
   ]
  },
  {
   "cell_type": "code",
   "execution_count": null,
   "metadata": {},
   "outputs": [],
   "source": [
    "G_pp = DNAassembly(\"proton_pump\", promoter = \"atpsyn_proton_pump\", rbs = \"proton_pumnp_rbs\", transcript = None, protein = None)\n",
    "M3_pp = TxTlDilutionMixture(\"liposome\", components = [G_pp], parameter_file = \"default_parameters.txt\")\n",
    "CRN3_pp = M3_pp.compile_crn()\n",
    "\n",
    "#print(repr(M3),\"\\n\", CRN3_pp.pretty_print(show_attributes = True, show_material = True, show_rates = True),\"\\n\\n\")\n",
    "\n"
   ]
  },
  {
   "cell_type": "code",
   "execution_count": null,
   "metadata": {},
   "outputs": [],
   "source": [
    "# Write SBML file\n",
    "CRN3_pp.write_sbml_file('proton_pump_tx_tl.xml')"
   ]
  },
  {
   "cell_type": "code",
   "execution_count": null,
   "metadata": {},
   "outputs": [],
   "source": [
    "timepoints = np.linspace(0,10000,100)\n",
    "x0_pp = {'dna_proton_pump':10, 'protein_RNAP_machinery':10, 'protein_Ribo_machinery':10,\n",
    "     'protein_RNAase_machinery':10}\n",
    "R_pp = CRN3_pp.simulate_with_bioscrape(timepoints, initial_condition_dict = x0_pp)"
   ]
  },
  {
   "cell_type": "code",
   "execution_count": null,
   "metadata": {},
   "outputs": [],
   "source": [
    "p_pp = bokeh.plotting.figure(width = 450, height = 340, \n",
    "                         x_axis_label = 'time (sec)', y_axis_label = 'concentration',\n",
    "                         title = 'Proton pump tx and tl')\n",
    "plot_list = ['rna_proton_pump', 'protein_proton_pump', 'dna_proton_pump']\n",
    "for i,item in enumerate(plot_list):\n",
    "    p_pp.line(timepoints, R_pp[item], legend_label = item, color = palette[i], line_width = 2)\n",
    "    \n",
    "p_pp.legend.location = 'center_right'\n",
    "bokeh.io.show(p_pp)"
   ]
  },
  {
   "cell_type": "markdown",
   "metadata": {},
   "source": [
    "## SBML for proton pump Simple tx tl\n",
    "---"
   ]
  },
  {
   "cell_type": "code",
   "execution_count": null,
   "metadata": {},
   "outputs": [],
   "source": [
    "rna_proton_pump = Species(\"proton_pump\", material_type = \"rna\")\n",
    "\n",
    "dna_proton_pump = Species(\"proton_pump\", material_type = \"dna\")\n",
    "\n",
    "f_proton_pump = Species(\"proton_pump\", material_type = \"protein\")\n",
    "\n",
    "k_tx = 1\n",
    "k_tl = 1\n",
    "\n",
    "R = Reaction([dna_proton_pump],[rna_proton_pump], k_tx)\n",
    "\n",
    "R1 = Reaction([rna_proton_pump], [f_proton_pump], k_tl)\n",
    "CRN_simpletxtl_pp = ChemicalReactionNetwork(species = [rna_proton_pump, dna_proton_pump, f_proton_pump], \n",
    "                                         reactions = [R, R1])\n",
    "\n",
    "print(CRN_simpletxtl_pp.pretty_print(show_materials = True, show_rates = True, show_attributes = True))\n",
    "\n"
   ]
  },
  {
   "cell_type": "code",
   "execution_count": null,
   "metadata": {},
   "outputs": [],
   "source": [
    "# Write SBML file\n",
    "CRN_simpletxtl_pp.write_sbml_file('proton_pump_simple_txtl.xml')"
   ]
  },
  {
   "cell_type": "markdown",
   "metadata": {},
   "source": [
    "## SBML for proton pump machinery txtl\n",
    "---"
   ]
  },
  {
   "cell_type": "code",
   "execution_count": null,
   "metadata": {},
   "outputs": [],
   "source": [
    "rna_proton_pump = Species(\"proton_pump\", material_type = \"rna\")\n",
    "dna_proton_pump = Species(\"proton_pump\", material_type = \"dna\")\n",
    "f_proton_pump = Species(\"proton_pump\", material_type = \"protein\")\n",
    "\n",
    "RNAP_machinery = Species('RNAP_machinery', material_type = 'protein')\n",
    "Ribo_machinery = Species(\"Ribo_machinery\", material_type = 'protein')\n",
    "RNAse_machinery = Species(\"RNAse_machinery\", material_type = 'protein')\n",
    "\n",
    "complex_dna_rnap = ComplexSpecies([dna_proton_pump, RNAP_machinery])\n",
    "complex_rna_ribo = ComplexSpecies([rna_proton_pump, Ribo_machinery])\n",
    "complex_rnase_rna = ComplexSpecies([rna_proton_pump, RNAse_machinery])\n",
    "\n",
    "kb = 100.0\n",
    "kf = 1.0\n",
    "k1 = 0.05\n",
    "k5 = 0.001\n",
    "# A = 0.0576\n",
    "# B = -4.68\n",
    "# C = 120\n",
    "# T = 25 \n",
    "\n",
    "# #rate_string= \"(\" + str(dna)+ \"*\"+ \"(\" + \"1\" + \"/\" + \"(\" + str(A) + \"*\" + str(Temperature) + \"^\" + \"2\" + \"+\" + str(B) + \"*\" + str(Temperature) + \"+\" + str(C) + \")\"+ \")\" + \")\"\n",
    "\n",
    "# k_temp = 0.01 * (1/(A * T**2 + B * T + C))\n",
    "\n",
    "R0 = Reaction([dna_proton_pump, RNAP_machinery], [complex_dna_rnap], k = kb) # THIS ONE WILL BE TEMP DEPENDENT, \n",
    "                                                                        # made irreversible for now\n",
    "R1 = Reaction([complex_dna_rnap], [rna_proton_pump, RNAP_machinery], k = k1) #dna_atpsyn,\n",
    "R2 = Reaction([rna_proton_pump, Ribo_machinery], [complex_rna_ribo], k = kb) #k_rev = kf)\n",
    "R3 = Reaction([complex_rna_ribo],[rna_proton_pump, f_proton_pump, Ribo_machinery], k = k1)\n",
    "R4 = Reaction([rna_proton_pump, RNAse_machinery], [complex_rnase_rna], k = kb)# k_rev = kf\n",
    "R5 = Reaction([complex_rnase_rna], [RNAse_machinery], k = k5)\n",
    "\n",
    "CRN_machinerytxtl_proton_pump = ChemicalReactionNetwork(species = [rna_proton_pump, dna_proton_pump, f_proton_pump, RNAP_machinery, Ribo_machinery,\n",
    "                                         RNAse_machinery, complex_dna_rnap, complex_rna_ribo, complex_rnase_rna],\n",
    "                               reactions = [R0, R1, R2, R3, R4, R5])\n",
    "\n",
    "print(CRN_machinerytxtl_proton_pump.pretty_print(show_materials = True, show_rates = True, show_attributes = True))"
   ]
  },
  {
   "cell_type": "code",
   "execution_count": null,
   "metadata": {},
   "outputs": [],
   "source": [
    "# Write SBML file\n",
    "CRN_machinerytxtl_proton_pump.write_sbml_file('proton_pump_machinery_txtl.xml')"
   ]
  },
  {
   "cell_type": "markdown",
   "metadata": {},
   "source": [
    "## SBML for proton pump temperature sensitive txtl 25 C\n",
    "---"
   ]
  },
  {
   "cell_type": "code",
   "execution_count": null,
   "metadata": {},
   "outputs": [],
   "source": [
    "rna_proton_pump = Species(\"proton_pump\", material_type = \"rna\")\n",
    "dna_proton_pump = Species(\"proton_pump\", material_type = \"dna\")\n",
    "f_proton_pump = Species(\"proton_pump\", material_type = \"protein\")\n",
    "\n",
    "RNAP_machinery = Species('RNAP_machinery', material_type = 'protein')\n",
    "Ribo_machinery = Species(\"Ribo_machinery\", material_type = 'protein')\n",
    "RNAse_machinery = Species(\"RNAse_machinery\", material_type = 'protein')\n",
    "\n",
    "complex_dna_rnap = ComplexSpecies([dna_proton_pump, RNAP_machinery])\n",
    "complex_rna_ribo = ComplexSpecies([rna_proton_pump, Ribo_machinery])\n",
    "complex_rnase_rna = ComplexSpecies([rna_proton_pump, RNAse_machinery])\n",
    "\n",
    "kb = 100.0\n",
    "kf = 1.0\n",
    "k1 = 0.05\n",
    "k5 = 0.001\n",
    "A = 0.0576\n",
    "B = -4.68\n",
    "C = 120\n",
    "T = 25 \n",
    "\n",
    "#rate_string= \"(\" + str(dna)+ \"*\"+ \"(\" + \"1\" + \"/\" + \"(\" + str(A) + \"*\" + str(Temperature) + \"^\" + \"2\" + \"+\" + str(B) + \"*\" + str(Temperature) + \"+\" + str(C) + \")\"+ \")\" + \")\"\n",
    "\n",
    "k_temp = 0.01 * (1/(A * T**2 + B * T + C))\n",
    "\n",
    "R0 = Reaction([dna_proton_pump, RNAP_machinery], [complex_dna_rnap], k = k_temp) # THIS ONE WILL BE TEMP DEPENDENT, \n",
    "                                                                        # made irreversible for now\n",
    "R1 = Reaction([complex_dna_rnap], [rna_proton_pump, RNAP_machinery], k = k1) #dna_atpsyn,\n",
    "R2 = Reaction([rna_proton_pump, Ribo_machinery], [complex_rna_ribo], k = kb) #k_rev = kf)\n",
    "R3 = Reaction([complex_rna_ribo],[rna_proton_pump, f_proton_pump, Ribo_machinery], k = k1)\n",
    "R4 = Reaction([rna_proton_pump, RNAse_machinery], [complex_rnase_rna], k = kb)# k_rev = kf\n",
    "R5 = Reaction([complex_rnase_rna], [RNAse_machinery], k = k5)\n",
    "\n",
    "CRN_25temp_machinerytxtl_proton_pump = ChemicalReactionNetwork(species = [rna_proton_pump, dna_proton_pump, f_proton_pump, RNAP_machinery, Ribo_machinery,\n",
    "                                         RNAse_machinery, complex_dna_rnap, complex_rna_ribo, complex_rnase_rna],\n",
    "                               reactions = [R0, R1, R2, R3, R4, R5])\n",
    "\n",
    "print(CRN_25temp_machinerytxtl_proton_pump.pretty_print(show_materials = True, show_rates = True, show_attributes = True))"
   ]
  },
  {
   "cell_type": "code",
   "execution_count": null,
   "metadata": {},
   "outputs": [],
   "source": [
    "# Write SBML file\n",
    "CRN_25temp_machinerytxtl_proton_pump.write_sbml_file('proton_pump_25temp_machinery_txtl.xml')"
   ]
  },
  {
   "cell_type": "markdown",
   "metadata": {},
   "source": [
    "## SBML for proton pump temperature sensitive txtl 37 C\n",
    "---"
   ]
  },
  {
   "cell_type": "code",
   "execution_count": null,
   "metadata": {},
   "outputs": [],
   "source": [
    "rna_proton_pump = Species(\"proton_pump\", material_type = \"rna\")\n",
    "dna_proton_pump = Species(\"proton_pump\", material_type = \"dna\")\n",
    "f_proton_pump = Species(\"proton_pump\", material_type = \"protein\")\n",
    "\n",
    "RNAP_machinery = Species('RNAP_machinery', material_type = 'protein')\n",
    "Ribo_machinery = Species(\"Ribo_machinery\", material_type = 'protein')\n",
    "RNAse_machinery = Species(\"RNAse_machinery\", material_type = 'protein')\n",
    "\n",
    "complex_dna_rnap = ComplexSpecies([dna_proton_pump, RNAP_machinery])\n",
    "complex_rna_ribo = ComplexSpecies([rna_proton_pump, Ribo_machinery])\n",
    "complex_rnase_rna = ComplexSpecies([rna_proton_pump, RNAse_machinery])\n",
    "\n",
    "kb = 100.0\n",
    "kf = 1.0\n",
    "k1 = 0.05\n",
    "k5 = 0.001\n",
    "A = 0.0576\n",
    "B = -4.68\n",
    "C = 120\n",
    "T = 100\n",
    "\n",
    "#rate_string= \"(\" + str(dna)+ \"*\"+ \"(\" + \"1\" + \"/\" + \"(\" + str(A) + \"*\" + str(Temperature) + \"^\" + \"2\" + \"+\" + str(B) + \"*\" + str(Temperature) + \"+\" + str(C) + \")\"+ \")\" + \")\"\n",
    "\n",
    "k_temp = 0.01 * (1/(A * T**2 + B * T + C))\n",
    "\n",
    "R0 = Reaction([dna_proton_pump, RNAP_machinery], [complex_dna_rnap], k = k_temp) # THIS ONE WILL BE TEMP DEPENDENT, \n",
    "                                                                        # made irreversible for now\n",
    "R1 = Reaction([complex_dna_rnap], [rna_proton_pump, RNAP_machinery], k = k1) #dna_atpsyn,\n",
    "R2 = Reaction([rna_proton_pump, Ribo_machinery], [complex_rna_ribo], k = kb) #k_rev = kf)\n",
    "R3 = Reaction([complex_rna_ribo],[rna_proton_pump, f_proton_pump, Ribo_machinery], k = k1)\n",
    "R4 = Reaction([rna_proton_pump, RNAse_machinery], [complex_rnase_rna], k = kb)# k_rev = kf\n",
    "R5 = Reaction([complex_rnase_rna], [RNAse_machinery], k = k5)\n",
    "\n",
    "CRN_100temp_machinerytxtl_proton_pump = ChemicalReactionNetwork(species = [rna_proton_pump, dna_proton_pump, f_proton_pump, RNAP_machinery, Ribo_machinery,\n",
    "                                         RNAse_machinery, complex_dna_rnap, complex_rna_ribo, complex_rnase_rna],\n",
    "                               reactions = [R0, R1, R2, R3, R4, R5])\n",
    "\n",
    "print(CRN_100temp_machinerytxtl_proton_pump.pretty_print(show_materials = True, show_rates = True, show_attributes = True))"
   ]
  },
  {
   "cell_type": "code",
   "execution_count": null,
   "metadata": {},
   "outputs": [],
   "source": [
    "# Write SBML file\n",
    "CRN_100temp_machinerytxtl_proton_pump.write_sbml_file('proton_pump_100temp_machinery_txtl.xml')"
   ]
  },
  {
   "cell_type": "markdown",
   "metadata": {},
   "source": [
    "## SBML for proton pump membrane integration\n",
    "---"
   ]
  },
  {
   "cell_type": "code",
   "execution_count": null,
   "metadata": {},
   "outputs": [],
   "source": [
    "proton_pump = Species(\"proton_pump\", material_type = \"protein\")\n",
    "\n",
    "proton_pump_b = Species(\"proton_pump_b\", material_type = \"protein\")\n",
    "\n",
    "k_bound = 0.0003\n",
    "\n",
    "R_pp = Reaction([proton_pump], [proton_pump_b], k_bound)\n",
    "\n",
    "CRN_mi_pp = ChemicalReactionNetwork(species = [proton_pump, proton_pump_b], reactions = [R_pp])\n",
    "\n",
    "print(CRN_mi_pp.pretty_print(show_materials = True, show_rates = True, show_attributes = True))"
   ]
  },
  {
   "cell_type": "code",
   "execution_count": null,
   "metadata": {},
   "outputs": [],
   "source": [
    "# Write SBML file\n",
    "CRN_mi_pp.write_sbml_file('proton_pump_membrane_integration.xml')"
   ]
  },
  {
   "cell_type": "code",
   "execution_count": null,
   "metadata": {},
   "outputs": [],
   "source": [
    "\n",
    "outside_H = Species(\"outside_H\", material_type = \"proton\")\n",
    "\n",
    "inside_H = Species(\"inside_H\", material_type = \"proton\")\n",
    "\n",
    "adp = Species('adp', material_type = 'metabolite')\n",
    "atp = Species('atp', material_type = 'metabolite')\n",
    "pi = Species('pi', material_type = 'metabolite')\n",
    "\n",
    "\n",
    "k_atp_synthesis = 2\n",
    "\n",
    "R1 = Reaction([adp,pi], [atp], k_atp_synthesis)\n",
    "\n",
    "R2 = Reaction([outside_H, outside_H, outside_H, outside_H], \n",
    "             [inside_H, inside_H, inside_H, inside_H], k_atp_synthesis)\n",
    "\n",
    "CRN_atpsynthesis = ChemicalReactionNetwork(species = [outside_H, inside_H, adp, atp, pi], reactions = [R1,R2])\n",
    "\n",
    "print(CRN_atpsynthesis.pretty_print(show_materials = True, show_rates = True, show_attributes = True))"
   ]
  },
  {
   "cell_type": "code",
   "execution_count": null,
   "metadata": {},
   "outputs": [],
   "source": [
    "timepoints = np.linspace(0,10,100)\n",
    "x0_mi_pp = {'protein_proton_pump':10}\n",
    "R_mi_pp = CRN_mi_pp.simulate_with_bioscrape(timepoints, initial_condition_dict = x0_mi_pp)"
   ]
  },
  {
   "cell_type": "code",
   "execution_count": null,
   "metadata": {},
   "outputs": [],
   "source": [
    "p_mi_pp = bokeh.plotting.figure(width = 450, height = 340, \n",
    "                         x_axis_label = 'time (sec)', y_axis_label = 'concentration',\n",
    "                         title = 'Proton pump membrane integration')\n",
    "plot_list = ['protein_proton_pump', 'protein_proton_pump_b']\n",
    "for i,item in enumerate(plot_list):\n",
    "    p_mi_pp.line(timepoints, R_mi_pp[item], legend_label = item, color = palette[i], line_width = 2)\n",
    "    \n",
    "p_mi_pp.legend.location = 'center_right'\n",
    "bokeh.io.show(p_mi_pp)"
   ]
  },
  {
   "cell_type": "markdown",
   "metadata": {},
   "source": [
    "## SBML for proton transport through proton pump\n",
    "---"
   ]
  },
  {
   "cell_type": "code",
   "execution_count": null,
   "metadata": {},
   "outputs": [],
   "source": [
    "outside_H = Species(\"outside_H\", material_type = \"proton\")\n",
    "\n",
    "inside_H = Species(\"inside_H\", material_type = \"proton\")\n",
    "\n",
    "adp = Species('adp', material_type = 'metabolite')\n",
    "atp = Species('atp', material_type = 'metabolite')\n",
    "pi = Species('pi', material_type = 'metabolite')\n",
    "\n",
    "\n",
    "k_proton_out = 100\n",
    "k_proton_atp = 0.2\n",
    "\n",
    "#R1 = Reaction([adp,pi], [atp], k_proton_atp)\n",
    "R1 = Reaction([atp], [adp, pi], k_proton_atp)\n",
    "\n",
    "\n",
    "R2 = Reaction([inside_H, inside_H, inside_H, inside_H],\n",
    "              [outside_H, outside_H, outside_H, outside_H], k_proton_out)\n",
    "\n",
    "CRN_protontransport = ChemicalReactionNetwork(species = [outside_H, inside_H, adp, atp, pi], reactions = [R1, R2])\n",
    "\n",
    "print(CRN_protontransport.pretty_print(show_materials = True, show_rates = True, show_attributes = True))"
   ]
  },
  {
   "cell_type": "code",
   "execution_count": null,
   "metadata": {},
   "outputs": [],
   "source": [
    "# Write SBML file\n",
    "CRN_protontransport.write_sbml_file('proton_transport_through_proton_pump.xml')"
   ]
  },
  {
   "cell_type": "code",
   "execution_count": null,
   "metadata": {},
   "outputs": [],
   "source": [
    "timepoints = np.linspace(0,2,100)\n",
    "x0_protontransport = {'proton_inside_H':10, 'metabolite_adp':10, 'metabolite_pi':10}\n",
    "R_protontransport = CRN_protontransport.simulate_with_bioscrape(timepoints, \n",
    "                                                                initial_condition_dict = x0_protontransport)\n"
   ]
  },
  {
   "cell_type": "code",
   "execution_count": null,
   "metadata": {},
   "outputs": [],
   "source": [
    "p_protontransport = bokeh.plotting.figure(width = 450, height = 340, \n",
    "                         x_axis_label = 'time (sec)', y_axis_label = 'concentration',\n",
    "                         title = 'Proton transport through proton pump')\n",
    "plot_list = ['proton_outside_H', 'proton_inside_H', 'metabolite_atp']\n",
    "for i,item in enumerate(plot_list):\n",
    "    p_protontransport.line(timepoints, R_protontransport[item], legend_label = item, color = palette[i], line_width = 2)\n",
    "    \n",
    "p_protontransport.legend.location = 'center_right'\n",
    "bokeh.io.show(p_protontransport)"
   ]
  },
  {
   "cell_type": "markdown",
   "metadata": {},
   "source": [
    "## SBML for ATP Use\n",
    "---"
   ]
  },
  {
   "cell_type": "code",
   "execution_count": null,
   "metadata": {},
   "outputs": [],
   "source": [
    "adp = Species('adp', material_type = 'metabolite')\n",
    "atp = Species('atp', material_type = 'metabolite')\n",
    "pi = Species('pi', material_type = 'metabolite')\n",
    "\n",
    "k_atp_use = 75\n",
    "# used to be 5\n",
    "\n",
    "R1_atpuse = Reaction([atp], [adp, pi], k_atp_use)\n",
    "\n",
    "\n",
    "CRN_atpuse = ChemicalReactionNetwork(species = [adp, atp, pi], reactions = [R1_atpuse])\n",
    "\n",
    "print(CRN_atpuse.pretty_print(show_materials = True, show_rates = True, show_attributes = True))"
   ]
  },
  {
   "cell_type": "code",
   "execution_count": null,
   "metadata": {},
   "outputs": [],
   "source": [
    "# Write SBML file\n",
    "CRN_atpuse.write_sbml_file('atp_75_use.xml')"
   ]
  },
  {
   "cell_type": "code",
   "execution_count": null,
   "metadata": {},
   "outputs": [],
   "source": [
    "timepoints = np.linspace(0,75000,100)\n",
    "plt_timepoints = timepoints/60/60\n",
    "x0_atpuse = {'metabolite_atp':10}\n",
    "R_atpuse = CRN_atpuse.simulate_with_bioscrape(timepoints, initial_condition_dict = x0_atpuse)"
   ]
  },
  {
   "cell_type": "code",
   "execution_count": null,
   "metadata": {},
   "outputs": [],
   "source": [
    "p_atpuse = bokeh.plotting.figure(width = 450, height = 340, \n",
    "                         x_axis_label = 'time (sec)', y_axis_label = 'concentration',\n",
    "                         title = 'ATP Use')\n",
    "plot_list = ['metabolite_atp']\n",
    "for i,item in enumerate(plot_list):\n",
    "    p_atpuse.line(plt_timepoints, R_atpuse[item], legend_label = item, color = palette[i], line_width = 2)\n",
    "    \n",
    "p_atpuse.legend.location = 'center_right'\n",
    "bokeh.io.show(p_atpuse)"
   ]
  },
  {
   "cell_type": "code",
   "execution_count": null,
   "metadata": {},
   "outputs": [],
   "source": []
  }
 ],
 "metadata": {
  "kernelspec": {
   "display_name": "Python 3",
   "language": "python",
   "name": "python3"
  },
  "language_info": {
   "codemirror_mode": {
    "name": "ipython",
    "version": 3
   },
   "file_extension": ".py",
   "mimetype": "text/x-python",
   "name": "python",
   "nbconvert_exporter": "python",
   "pygments_lexer": "ipython3",
   "version": "3.7.7"
  }
 },
 "nbformat": 4,
 "nbformat_minor": 4
}
