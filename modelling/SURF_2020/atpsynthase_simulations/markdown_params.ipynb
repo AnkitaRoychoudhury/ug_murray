{
 "cells": [
  {
   "cell_type": "markdown",
   "metadata": {},
   "source": [
    "$$ \\text{binding rates} = 50.0 / sec$$<br>\n",
    "$$\\text{RNAP machinery:DNA to RNA} = 1.0 / sec$$<br>\n",
    "$$\\text{RNA:Ribo Machinery to Protein} = 0.05 / sec$$ <br>\n",
    "$$\\text{RNAse activity} = 0.05 / sec$$<br>\n",
    "$$\\text{Free Protein to Bound Protein} = 0.0003 / sec$$<br>\n",
    "$$\\text{ATP Synthesis through ATP Synthase} = 100 / sec$$ <br>\n",
    "$$\\text{ATP Consumption} = 75 / sec$$"
   ]
  },
  {
   "cell_type": "code",
   "execution_count": null,
   "metadata": {},
   "outputs": [],
   "source": []
  }
 ],
 "metadata": {
  "kernelspec": {
   "display_name": "Python 3",
   "language": "python",
   "name": "python3"
  },
  "language_info": {
   "codemirror_mode": {
    "name": "ipython",
    "version": 3
   },
   "file_extension": ".py",
   "mimetype": "text/x-python",
   "name": "python",
   "nbconvert_exporter": "python",
   "pygments_lexer": "ipython3",
   "version": "3.7.7"
  }
 },
 "nbformat": 4,
 "nbformat_minor": 4
}
