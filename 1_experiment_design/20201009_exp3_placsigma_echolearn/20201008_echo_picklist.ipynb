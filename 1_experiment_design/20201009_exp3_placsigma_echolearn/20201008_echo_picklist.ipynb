{
 "cells": [
  {
   "cell_type": "code",
   "execution_count": 1,
   "metadata": {},
   "outputs": [],
   "source": [
    "import murraylab_tools.echo as mt_echo\n",
    "import os.path"
   ]
  },
  {
   "cell_type": "code",
   "execution_count": 3,
   "metadata": {},
   "outputs": [
    {
     "ename": "IndexError",
     "evalue": "index 5 is out of bounds for axis 1 with size 5",
     "output_type": "error",
     "traceback": [
      "\u001b[0;31m---------------------------------------------------------------------------\u001b[0m",
      "\u001b[0;31mIndexError\u001b[0m                                Traceback (most recent call last)",
      "\u001b[0;32m<ipython-input-3-e2c978a9c84b>\u001b[0m in \u001b[0;36m<module>\u001b[0;34m\u001b[0m\n\u001b[1;32m      8\u001b[0m \u001b[0mtxtl_echo_calculator\u001b[0m \u001b[0;34m=\u001b[0m \u001b[0mmt_echo\u001b[0m\u001b[0;34m.\u001b[0m\u001b[0mEchoRun\u001b[0m\u001b[0;34m(\u001b[0m\u001b[0mplate\u001b[0m \u001b[0;34m=\u001b[0m \u001b[0mtxtl_plate\u001b[0m\u001b[0;34m)\u001b[0m\u001b[0;34m\u001b[0m\u001b[0;34m\u001b[0m\u001b[0m\n\u001b[1;32m      9\u001b[0m txtl_echo_calculator.build_picklist_from_txtl_setup_csvs('20200910_stocks_csv.csv',\n\u001b[0;32m---> 10\u001b[0;31m                                                          '20200910_recipe_csv.csv')\n\u001b[0m",
      "\u001b[0;32m~/opt/anaconda3/lib/python3.7/site-packages/murraylab_tools-1.0-py3.7.egg/murraylab_tools/echo/echo_functions.py\u001b[0m in \u001b[0;36mbuild_picklist_from_txtl_setup_csvs\u001b[0;34m(self, stock_filename, recipe_filename)\u001b[0m\n\u001b[1;32m    394\u001b[0m                 \u001b[0;32mfor\u001b[0m \u001b[0mcolnum\u001b[0m \u001b[0;32min\u001b[0m \u001b[0mrange\u001b[0m\u001b[0;34m(\u001b[0m\u001b[0mlen\u001b[0m\u001b[0;34m(\u001b[0m\u001b[0mrow\u001b[0m\u001b[0;34m)\u001b[0m\u001b[0;34m)\u001b[0m\u001b[0;34m:\u001b[0m\u001b[0;34m\u001b[0m\u001b[0;34m\u001b[0m\u001b[0m\n\u001b[1;32m    395\u001b[0m                     \u001b[0melement\u001b[0m \u001b[0;34m=\u001b[0m \u001b[0mfloatify\u001b[0m\u001b[0;34m(\u001b[0m\u001b[0mrow\u001b[0m\u001b[0;34m[\u001b[0m\u001b[0mcolnum\u001b[0m\u001b[0;34m]\u001b[0m\u001b[0;34m)\u001b[0m\u001b[0;34m\u001b[0m\u001b[0;34m\u001b[0m\u001b[0m\n\u001b[0;32m--> 396\u001b[0;31m                     \u001b[0mstock_sheet\u001b[0m\u001b[0;34m[\u001b[0m\u001b[0mrownum\u001b[0m\u001b[0;34m,\u001b[0m \u001b[0mcolnum\u001b[0m\u001b[0;34m]\u001b[0m \u001b[0;34m=\u001b[0m \u001b[0melement\u001b[0m\u001b[0;34m\u001b[0m\u001b[0;34m\u001b[0m\u001b[0m\n\u001b[0m\u001b[1;32m    397\u001b[0m \u001b[0;34m\u001b[0m\u001b[0m\n\u001b[1;32m    398\u001b[0m         \u001b[0;31m# Read in recipe file\u001b[0m\u001b[0;34m\u001b[0m\u001b[0;34m\u001b[0m\u001b[0;34m\u001b[0m\u001b[0m\n",
      "\u001b[0;31mIndexError\u001b[0m: index 5 is out of bounds for axis 1 with size 5"
     ]
    }
   ],
   "source": [
    "txtl_outputs = os.path.join(\"\", \"\")\n",
    "output_name = os.path.join(txtl_outputs, \"\") # Output (both a picklist and a\n",
    "\n",
    "plate_file  = os.path.join(txtl_outputs, \"TX-TL_setup_example_plate.dat\")  # Keeps track of wells used \n",
    "\n",
    "txtl_plate = mt_echo.SourcePlate(filename = plate_file)\n",
    "\n",
    "txtl_echo_calculator = mt_echo.EchoRun(plate = txtl_plate)\n",
    "txtl_echo_calculator.build_picklist_from_txtl_setup_csvs('20200910_stocks_csv.csv',\n",
    "                                                         '20200910_recipe_csv.csv')"
   ]
  },
  {
   "cell_type": "code",
   "execution_count": null,
   "metadata": {},
   "outputs": [],
   "source": [
    "txtl_echo_calculator.write_picklist(output_name)"
   ]
  },
  {
   "cell_type": "code",
   "execution_count": null,
   "metadata": {},
   "outputs": [],
   "source": []
  }
 ],
 "metadata": {
  "kernelspec": {
   "display_name": "Python 3",
   "language": "python",
   "name": "python3"
  },
  "language_info": {
   "codemirror_mode": {
    "name": "ipython",
    "version": 3
   },
   "file_extension": ".py",
   "mimetype": "text/x-python",
   "name": "python",
   "nbconvert_exporter": "python",
   "pygments_lexer": "ipython3",
   "version": "3.7.7"
  }
 },
 "nbformat": 4,
 "nbformat_minor": 4
}
