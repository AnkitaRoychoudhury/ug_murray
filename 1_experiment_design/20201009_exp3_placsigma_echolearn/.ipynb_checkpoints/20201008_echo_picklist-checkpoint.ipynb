{
 "cells": [
  {
   "cell_type": "code",
   "execution_count": 8,
   "metadata": {},
   "outputs": [],
   "source": [
    "import murraylab_tools.echo as mt_echo\n",
    "import os.path"
   ]
  },
  {
   "cell_type": "code",
   "execution_count": 14,
   "metadata": {},
   "outputs": [],
   "source": [
    "output_name = os.path.join(txtl_outputs, \"\") # Output (both a picklist and a\n",
    "txtl_outputs = os.path.join(\"\", \"\")\n",
    "plate_file  = os.path.join(txtl_outputs, \"TX-TL_setup_example_plate.dat\")  # Keeps track of wells used \n",
    "\n",
    "txtl_plate = mt_echo.SourcePlate(filename = plate_file)\n",
    "\n",
    "txtl_echo_calculator = mt_echo.EchoRun(plate = txtl_plate)\n",
    "txtl_echo_calculator.build_picklist_from_txtl_setup_csvs('20200910_stocks_csv.csv',\n",
    "                                                         '20200910_recipe_csv.csv')"
   ]
  },
  {
   "cell_type": "code",
   "execution_count": 15,
   "metadata": {},
   "outputs": [],
   "source": [
    "txtl_echo_calculator.write_picklist(output_name)"
   ]
  },
  {
   "cell_type": "code",
   "execution_count": null,
   "metadata": {},
   "outputs": [],
   "source": []
  }
 ],
 "metadata": {
  "kernelspec": {
   "display_name": "Python 3",
   "language": "python",
   "name": "python3"
  },
  "language_info": {
   "codemirror_mode": {
    "name": "ipython",
    "version": 3
   },
   "file_extension": ".py",
   "mimetype": "text/x-python",
   "name": "python",
   "nbconvert_exporter": "python",
   "pygments_lexer": "ipython3",
   "version": "3.7.7"
  }
 },
 "nbformat": 4,
 "nbformat_minor": 4
}
