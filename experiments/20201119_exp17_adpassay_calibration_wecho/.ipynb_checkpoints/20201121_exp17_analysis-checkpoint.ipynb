{
 "cells": [
  {
   "cell_type": "markdown",
   "metadata": {},
   "source": [
    "## Experiment 17 - ADP Assay Calibration\n",
    "11/21/2020"
   ]
  },
  {
   "cell_type": "code",
   "execution_count": null,
   "metadata": {},
   "outputs": [],
   "source": [
    "import bokeh\n",
    "import bokeh.plotting\n",
    "bokeh.io.output_notebook()\n",
    "from bokeh.layouts import Row"
   ]
  },
  {
   "cell_type": "code",
   "execution_count": null,
   "metadata": {},
   "outputs": [],
   "source": [
    "vals = [79,41,9,14,90,11,46,21,15,7,38,108,\n",
    "        11,97,27,31,14,28,68,11,46,\n",
    "        77,276,289,281,79,68,164,53,44,45,15,15,\n",
    "        8,10,9,6,13,164]\n",
    "vals_nm = [val*10**6 for val in vals]\n",
    "wells = ['A1', 'A2', 'A3', 'A4', 'A5', 'A6', 'A7', 'A8', 'A9', 'A10', 'A11', 'A12',\n",
    "        'B1', 'B2', 'B3', 'B4', 'B5', 'B6', 'B8', 'B10', 'B12',\n",
    "        'C1', 'C2', 'C3', 'C4', 'C5', 'C12']\n",
    "\n",
    "\n",
    "descriptive_wells = []\n",
    "\n",
    "adp_atp_concs = [1000, 800, 600, 400, 200, 100, 50, 40, 30, 20, 10, 0,\n",
    "    100, 80, 60, 40, 20, 10, 4, 2,0,\n",
    "                10, 8, 6, 4, 2,  0]"
   ]
  },
  {
   "cell_type": "code",
   "execution_count": null,
   "metadata": {},
   "outputs": [],
   "source": [
    "p_log = bokeh.plotting.figure(width = 450, height = 300,\n",
    "                          title = 'Log ADP Assay Calibration',\n",
    "                         x_axis_label = 'Log ADP Concs (nM)',\n",
    "                         y_axis_label = 'Log Lum. Values',\n",
    "                         x_axis_type = 'log',\n",
    "                         y_axis_type = 'log')\n",
    "p_log.circle(adp_atp_concs, vals_nm)\n",
    "\n",
    "\n",
    "p = bokeh.plotting.figure(width = 450, height = 300,\n",
    "                          title = 'ADP Assay Calibration',\n",
    "                         x_axis_label = 'ADP Concs (nM)',\n",
    "                         y_axis_label = 'Lum. Values',)\n",
    "p.circle(adp_atp_concs, vals_nm)\n",
    "\n",
    "bokeh.io.show(Row(p_log, p))"
   ]
  },
  {
   "cell_type": "code",
   "execution_count": null,
   "metadata": {},
   "outputs": [],
   "source": []
  }
 ],
 "metadata": {
  "kernelspec": {
   "display_name": "Python 3",
   "language": "python",
   "name": "python3"
  },
  "language_info": {
   "codemirror_mode": {
    "name": "ipython",
    "version": 3
   },
   "file_extension": ".py",
   "mimetype": "text/x-python",
   "name": "python",
   "nbconvert_exporter": "python",
   "pygments_lexer": "ipython3",
   "version": "3.7.7"
  }
 },
 "nbformat": 4,
 "nbformat_minor": 4
}
