{
 "cells": [
  {
   "cell_type": "code",
   "execution_count": null,
   "metadata": {},
   "outputs": [],
   "source": []
  },
  {
   "cell_type": "code",
   "execution_count": 1,
   "metadata": {},
   "outputs": [],
   "source": [
    "from bioscrape import *\n",
    "import bioscrape"
   ]
  },
  {
   "cell_type": "code",
   "execution_count": 2,
   "metadata": {},
   "outputs": [
    {
     "name": "stdout",
     "output_type": "stream",
     "text": [
      "BioCRNpyler Representation:\n",
      " ExpressionExtract: extract\n",
      "Components = [\n",
      "\tDNAassembly: GFP ]\n",
      "Mechanisms = {\n",
      "\ttranscription:gene_expression\n",
      "\ttranslation:dummy_translation\n",
      "\tcatalysis:basic_catalysis\n",
      "\tbinding:one_step_binding }\n",
      "Global Mechanisms = { }\n",
      "\n",
      "CRN Representation:\n",
      " Species = dna_GFP, protein_GFP\n",
      "Reactions = [\n",
      "\tdna_GFP --> dna_GFP + protein_GFP        massaction: k_f(dna_GFP)=0.28125*dna_GFP\n",
      "]\n"
     ]
    }
   ],
   "source": [
    "from biocrnpyler import *\n",
    "import numpy as np\n",
    "\n",
    "#DNA_Assemblies are a core Component consisting of a promoter, and RBS\n",
    "#The transcript and protein will be named automatically or can be named manually with those keywords\n",
    "const_gfp = DNAassembly(name = \"GFP\", promoter = \"P\", rbs = \"RBS\")\n",
    "\n",
    "#Expression Extract is a Mixture with very simple internal models\n",
    "Model_expression = ExpressionExtract(name = \"extract\", components = [const_gfp], parameter_file = \"parameters.txt\")\n",
    "\n",
    "print(\"BioCRNpyler Representation:\\n\", repr(Model_expression))\n",
    "\n",
    "#BioCRNpyler Models are Compiled into a CRN\n",
    "CRN_expression = Model_expression.compile_crn()\n",
    "print(\"\\nCRN Representation:\\n\", repr(CRN_expression))\n",
    "\n",
    "#Save as SBML\n",
    "CRN_expression.write_sbml_file(\"CRN_expression.sbml\")\n",
    "\n",
    "#Simulate with Bioscrape\n",
    "timepoints = np.linspace(0, 200, 1000)\n",
    "x0 = {\"dna_GFP\":1.0}\n",
    "re = CRN_expression.simulate_with_bioscrape(timepoints, initial_condition_dict = x0)\n",
    "\n",
    "\n"
   ]
  },
  {
   "cell_type": "code",
   "execution_count": 8,
   "metadata": {},
   "outputs": [
    {
     "name": "stdout",
     "output_type": "stream",
     "text": [
      "BioCRNpyler Representation:\n",
      " TxTlExtract: e coli extract 1\n",
      "Components = [\n",
      "\tDNAassembly: GFP\n",
      "\tProtein: RNAP\n",
      "\tProtein: Ribo\n",
      "\tProtein: RNAase ]\n",
      "Mechanisms = {\n",
      "\ttranscription:transcription_mm\n",
      "\ttranslation:translation_mm\n",
      "\trna_degredation:rna_degredation_mm\n",
      "\tcatalysis:michalis_menten\n",
      "\tbinding:one_step_binding }\n",
      "Global Mechanisms = { }\n"
     ]
    },
    {
     "ename": "ValueError",
     "evalue": "No parameters can be found that match the (mechanism, part_id, param_name)=(transcription_mm, P, ktx)",
     "output_type": "error",
     "traceback": [
      "\u001b[0;31m---------------------------------------------------------------------------\u001b[0m",
      "\u001b[0;31mValueError\u001b[0m                                Traceback (most recent call last)",
      "\u001b[0;32m<ipython-input-8-6ffee2a9ebef>\u001b[0m in \u001b[0;36m<module>\u001b[0;34m\u001b[0m\n\u001b[1;32m      9\u001b[0m \u001b[0mprint\u001b[0m\u001b[0;34m(\u001b[0m\u001b[0;34m\"BioCRNpyler Representation:\\n\"\u001b[0m\u001b[0;34m,\u001b[0m \u001b[0mrepr\u001b[0m\u001b[0;34m(\u001b[0m\u001b[0mextract_1_TXTL\u001b[0m\u001b[0;34m)\u001b[0m\u001b[0;34m)\u001b[0m\u001b[0;34m\u001b[0m\u001b[0;34m\u001b[0m\u001b[0m\n\u001b[1;32m     10\u001b[0m \u001b[0;34m\u001b[0m\u001b[0m\n\u001b[0;32m---> 11\u001b[0;31m \u001b[0mCRN_extract_1\u001b[0m \u001b[0;34m=\u001b[0m \u001b[0mextract_1_TXTL\u001b[0m\u001b[0;34m.\u001b[0m\u001b[0mcompile_crn\u001b[0m\u001b[0;34m(\u001b[0m\u001b[0;34m)\u001b[0m\u001b[0;34m\u001b[0m\u001b[0;34m\u001b[0m\u001b[0m\n\u001b[0m\u001b[1;32m     12\u001b[0m \u001b[0mprint\u001b[0m\u001b[0;34m(\u001b[0m\u001b[0;34m\"\\nCRN Representation:\\n\"\u001b[0m\u001b[0;34m,\u001b[0m \u001b[0mrepr\u001b[0m\u001b[0;34m(\u001b[0m\u001b[0mCRN_extract_1\u001b[0m\u001b[0;34m)\u001b[0m\u001b[0;34m)\u001b[0m\u001b[0;34m\u001b[0m\u001b[0;34m\u001b[0m\u001b[0m\n\u001b[1;32m     13\u001b[0m \u001b[0;34m\u001b[0m\u001b[0m\n",
      "\u001b[0;32m~/opt/anaconda3/lib/python3.7/site-packages/biocrnpyler/mixture.py\u001b[0m in \u001b[0;36mcompile_crn\u001b[0;34m(self)\u001b[0m\n\u001b[1;32m    268\u001b[0m \u001b[0;34m\u001b[0m\u001b[0m\n\u001b[1;32m    269\u001b[0m         \u001b[0mspecies\u001b[0m \u001b[0;34m=\u001b[0m \u001b[0mself\u001b[0m\u001b[0;34m.\u001b[0m\u001b[0mupdate_species\u001b[0m\u001b[0;34m(\u001b[0m\u001b[0;34m)\u001b[0m\u001b[0;34m\u001b[0m\u001b[0;34m\u001b[0m\u001b[0m\n\u001b[0;32m--> 270\u001b[0;31m         \u001b[0mreactions\u001b[0m \u001b[0;34m=\u001b[0m \u001b[0mself\u001b[0m\u001b[0;34m.\u001b[0m\u001b[0mupdate_reactions\u001b[0m\u001b[0;34m(\u001b[0m\u001b[0;34m)\u001b[0m\u001b[0;34m\u001b[0m\u001b[0;34m\u001b[0m\u001b[0m\n\u001b[0m\u001b[1;32m    271\u001b[0m \u001b[0;34m\u001b[0m\u001b[0m\n\u001b[1;32m    272\u001b[0m         \u001b[0;31m#global mechanisms are applied last and only to all the species\u001b[0m\u001b[0;34m\u001b[0m\u001b[0;34m\u001b[0m\u001b[0;34m\u001b[0m\u001b[0m\n",
      "\u001b[0;32m~/opt/anaconda3/lib/python3.7/site-packages/biocrnpyler/mixture.py\u001b[0m in \u001b[0;36mupdate_reactions\u001b[0;34m(self)\u001b[0m\n\u001b[1;32m    236\u001b[0m             \u001b[0;32mif\u001b[0m \u001b[0mself\u001b[0m\u001b[0;34m.\u001b[0m\u001b[0mparameter_warnings\u001b[0m \u001b[0;32mis\u001b[0m \u001b[0;32mnot\u001b[0m \u001b[0;32mNone\u001b[0m\u001b[0;34m:\u001b[0m\u001b[0;34m\u001b[0m\u001b[0;34m\u001b[0m\u001b[0m\n\u001b[1;32m    237\u001b[0m                 \u001b[0mcomponent\u001b[0m\u001b[0;34m.\u001b[0m\u001b[0mset_parameter_warnings\u001b[0m\u001b[0;34m(\u001b[0m\u001b[0mself\u001b[0m\u001b[0;34m.\u001b[0m\u001b[0mparameter_warnings\u001b[0m\u001b[0;34m)\u001b[0m\u001b[0;34m\u001b[0m\u001b[0;34m\u001b[0m\u001b[0m\n\u001b[0;32m--> 238\u001b[0;31m             \u001b[0mself\u001b[0m\u001b[0;34m.\u001b[0m\u001b[0mcrn_reactions\u001b[0m \u001b[0;34m+=\u001b[0m \u001b[0mcomponent\u001b[0m\u001b[0;34m.\u001b[0m\u001b[0mupdate_reactions\u001b[0m\u001b[0;34m(\u001b[0m\u001b[0;34m)\u001b[0m\u001b[0;34m\u001b[0m\u001b[0;34m\u001b[0m\u001b[0m\n\u001b[0m\u001b[1;32m    239\u001b[0m \u001b[0;34m\u001b[0m\u001b[0m\n\u001b[1;32m    240\u001b[0m         \u001b[0;32mreturn\u001b[0m \u001b[0mself\u001b[0m\u001b[0;34m.\u001b[0m\u001b[0mcrn_reactions\u001b[0m\u001b[0;34m\u001b[0m\u001b[0;34m\u001b[0m\u001b[0m\n",
      "\u001b[0;32m~/opt/anaconda3/lib/python3.7/site-packages/biocrnpyler/dna_assembly.py\u001b[0m in \u001b[0;36mupdate_reactions\u001b[0;34m(self)\u001b[0m\n\u001b[1;32m    151\u001b[0m         \u001b[0;32mif\u001b[0m \u001b[0mself\u001b[0m\u001b[0;34m.\u001b[0m\u001b[0mpromoter\u001b[0m \u001b[0;32mis\u001b[0m \u001b[0;32mnot\u001b[0m \u001b[0;32mNone\u001b[0m\u001b[0;34m:\u001b[0m\u001b[0;34m\u001b[0m\u001b[0;34m\u001b[0m\u001b[0m\n\u001b[1;32m    152\u001b[0m             \u001b[0mself\u001b[0m\u001b[0;34m.\u001b[0m\u001b[0mpromoter\u001b[0m\u001b[0;34m.\u001b[0m\u001b[0mparameter_warnings\u001b[0m \u001b[0;34m=\u001b[0m \u001b[0mself\u001b[0m\u001b[0;34m.\u001b[0m\u001b[0mparameter_warnings\u001b[0m\u001b[0;34m\u001b[0m\u001b[0;34m\u001b[0m\u001b[0m\n\u001b[0;32m--> 153\u001b[0;31m             \u001b[0mreactions\u001b[0m \u001b[0;34m+=\u001b[0m \u001b[0mself\u001b[0m\u001b[0;34m.\u001b[0m\u001b[0mpromoter\u001b[0m\u001b[0;34m.\u001b[0m\u001b[0mupdate_reactions\u001b[0m\u001b[0;34m(\u001b[0m\u001b[0;34m)\u001b[0m\u001b[0;34m\u001b[0m\u001b[0;34m\u001b[0m\u001b[0m\n\u001b[0m\u001b[1;32m    154\u001b[0m \u001b[0;34m\u001b[0m\u001b[0m\n\u001b[1;32m    155\u001b[0m         \u001b[0;32mif\u001b[0m \u001b[0mself\u001b[0m\u001b[0;34m.\u001b[0m\u001b[0mrbs\u001b[0m \u001b[0;32mis\u001b[0m \u001b[0;32mnot\u001b[0m \u001b[0;32mNone\u001b[0m\u001b[0;34m:\u001b[0m\u001b[0;34m\u001b[0m\u001b[0;34m\u001b[0m\u001b[0m\n",
      "\u001b[0;32m~/opt/anaconda3/lib/python3.7/site-packages/biocrnpyler/dna_assembly_promoter.py\u001b[0m in \u001b[0;36mupdate_reactions\u001b[0;34m(self)\u001b[0m\n\u001b[1;32m     39\u001b[0m         reactions += mech_tx.update_reactions(dna = self.assembly.dna, \\\n\u001b[1;32m     40\u001b[0m                         \u001b[0mcomponent\u001b[0m \u001b[0;34m=\u001b[0m \u001b[0mself\u001b[0m\u001b[0;34m,\u001b[0m \u001b[0mpart_id\u001b[0m \u001b[0;34m=\u001b[0m \u001b[0mself\u001b[0m\u001b[0;34m.\u001b[0m\u001b[0mname\u001b[0m\u001b[0;34m,\u001b[0m \u001b[0mcomplex\u001b[0m \u001b[0;34m=\u001b[0m \u001b[0;32mNone\u001b[0m\u001b[0;34m,\u001b[0m\u001b[0;34m\u001b[0m\u001b[0;34m\u001b[0m\u001b[0m\n\u001b[0;32m---> 41\u001b[0;31m                         transcript = self.transcript, protein = self.assembly.protein)\n\u001b[0m\u001b[1;32m     42\u001b[0m         \u001b[0;32mreturn\u001b[0m \u001b[0mreactions\u001b[0m\u001b[0;34m\u001b[0m\u001b[0;34m\u001b[0m\u001b[0m\n\u001b[1;32m     43\u001b[0m \u001b[0;34m\u001b[0m\u001b[0m\n",
      "\u001b[0;32m~/opt/anaconda3/lib/python3.7/site-packages/biocrnpyler/mechanisms_txtl.py\u001b[0m in \u001b[0;36mupdate_reactions\u001b[0;34m(self, dna, component, part_id, complex, transcript, **keywords)\u001b[0m\n\u001b[1;32m     45\u001b[0m             \u001b[0mpart_id\u001b[0m \u001b[0;34m=\u001b[0m \u001b[0mcomponent\u001b[0m\u001b[0;34m.\u001b[0m\u001b[0mname\u001b[0m\u001b[0;34m\u001b[0m\u001b[0;34m\u001b[0m\u001b[0m\n\u001b[1;32m     46\u001b[0m \u001b[0;34m\u001b[0m\u001b[0m\n\u001b[0;32m---> 47\u001b[0;31m         \u001b[0mktx\u001b[0m \u001b[0;34m=\u001b[0m \u001b[0mcomponent\u001b[0m\u001b[0;34m.\u001b[0m\u001b[0mget_parameter\u001b[0m\u001b[0;34m(\u001b[0m\u001b[0;34m\"ktx\"\u001b[0m\u001b[0;34m,\u001b[0m \u001b[0mpart_id\u001b[0m \u001b[0;34m=\u001b[0m \u001b[0mpart_id\u001b[0m\u001b[0;34m,\u001b[0m \u001b[0mmechanism\u001b[0m \u001b[0;34m=\u001b[0m \u001b[0mself\u001b[0m\u001b[0;34m)\u001b[0m\u001b[0;34m\u001b[0m\u001b[0;34m\u001b[0m\u001b[0m\n\u001b[0m\u001b[1;32m     48\u001b[0m         \u001b[0mkb\u001b[0m \u001b[0;34m=\u001b[0m \u001b[0mcomponent\u001b[0m\u001b[0;34m.\u001b[0m\u001b[0mget_parameter\u001b[0m\u001b[0;34m(\u001b[0m\u001b[0;34m\"kb\"\u001b[0m\u001b[0;34m,\u001b[0m \u001b[0mpart_id\u001b[0m \u001b[0;34m=\u001b[0m \u001b[0mpart_id\u001b[0m\u001b[0;34m,\u001b[0m \u001b[0mmechanism\u001b[0m \u001b[0;34m=\u001b[0m \u001b[0mself\u001b[0m\u001b[0;34m)\u001b[0m\u001b[0;34m\u001b[0m\u001b[0;34m\u001b[0m\u001b[0m\n\u001b[1;32m     49\u001b[0m         \u001b[0mku\u001b[0m \u001b[0;34m=\u001b[0m \u001b[0mcomponent\u001b[0m\u001b[0;34m.\u001b[0m\u001b[0mget_parameter\u001b[0m\u001b[0;34m(\u001b[0m\u001b[0;34m\"ku\"\u001b[0m\u001b[0;34m,\u001b[0m \u001b[0mpart_id\u001b[0m \u001b[0;34m=\u001b[0m \u001b[0mpart_id\u001b[0m\u001b[0;34m,\u001b[0m \u001b[0mmechanism\u001b[0m \u001b[0;34m=\u001b[0m \u001b[0mself\u001b[0m\u001b[0;34m)\u001b[0m\u001b[0;34m\u001b[0m\u001b[0;34m\u001b[0m\u001b[0m\n",
      "\u001b[0;32m~/opt/anaconda3/lib/python3.7/site-packages/biocrnpyler/component.py\u001b[0m in \u001b[0;36mget_parameter\u001b[0;34m(self, param_name, part_id, mechanism)\u001b[0m\n\u001b[1;32m    235\u001b[0m                                f\"found under the key param_name={param_name}\")\n\u001b[1;32m    236\u001b[0m         \u001b[0;32mif\u001b[0m \u001b[0mreturn_val\u001b[0m \u001b[0;32mis\u001b[0m \u001b[0;32mNone\u001b[0m\u001b[0;34m:\u001b[0m\u001b[0;34m\u001b[0m\u001b[0;34m\u001b[0m\u001b[0m\n\u001b[0;32m--> 237\u001b[0;31m             raise ValueError(\"No parameters can be found that match the \"\n\u001b[0m\u001b[1;32m    238\u001b[0m                              \u001b[0;34m\"(mechanism, part_id, \"\u001b[0m\u001b[0;34m\u001b[0m\u001b[0;34m\u001b[0m\u001b[0m\n\u001b[1;32m    239\u001b[0m                             \u001b[0;34mf\"param_name)=({repr(mechanism)}, {part_id}, \"\u001b[0m\u001b[0;34m\u001b[0m\u001b[0;34m\u001b[0m\u001b[0m\n",
      "\u001b[0;31mValueError\u001b[0m: No parameters can be found that match the (mechanism, part_id, param_name)=(transcription_mm, P, ktx)"
     ]
    }
   ],
   "source": [
    "#Make a \n",
    "const_gfp = DNAassembly(name = \"GFP\", promoter = \"P\", rbs = \"RBS\") \n",
    "#parameter_dict = {('ktx', 0.2)}\n",
    "#TxTl Extract is a Mixture with more complex internal models # make sure you have one instance per mixture\n",
    "extract_1_TXTL = TxTlExtract(name = \"e coli extract 1\", components = [const_gfp], parameters_file = \"parameters2.txt\")\n",
    "#extract_1_TXTL = TxTlExtract(name = \"e coli extract 1\", components = [const_gfp], parameters_file = parameter_dict)\n",
    "\n",
    "\n",
    "print(\"BioCRNpyler Representation:\\n\", repr(extract_1_TXTL))\n",
    "\n",
    "CRN_extract_1 = extract_1_TXTL.compile_crn()\n",
    "print(\"\\nCRN Representation:\\n\", repr(CRN_extract_1))\n",
    "\n",
    "#Save as SBML\n",
    "CRN_extract_1.write_sbml_file(\"CRN_extract_1.sbml\")\n",
    "\n",
    "\n",
    "#Changing the name can load different parameter values\n",
    "extract_2_TXTL = TxTlExtract(name = \"e coli extract 2\", components = [const_gfp], parameters_file = \"parameters2.txt\")\n",
    "CRN_extract_2 = extract_2_TXTL.compile_crn()\n",
    "CRN_extract_2.write_sbml_file(\"CRN_extract_2.sbml\")"
   ]
  },
  {
   "cell_type": "code",
   "execution_count": 7,
   "metadata": {},
   "outputs": [
    {
     "name": "stdout",
     "output_type": "stream",
     "text": [
      "/Users/ankitaroychoudhury/Documents/MURRAY/ug_murray/miscellaneous/for_build_a_cell_symposium_aug2020\n"
     ]
    }
   ],
   "source": [
    "!pwd"
   ]
  },
  {
   "cell_type": "code",
   "execution_count": null,
   "metadata": {},
   "outputs": [],
   "source": []
  }
 ],
 "metadata": {
  "kernelspec": {
   "display_name": "Python 3",
   "language": "python",
   "name": "python3"
  },
  "language_info": {
   "codemirror_mode": {
    "name": "ipython",
    "version": 3
   },
   "file_extension": ".py",
   "mimetype": "text/x-python",
   "name": "python",
   "nbconvert_exporter": "python",
   "pygments_lexer": "ipython3",
   "version": "3.7.7"
  }
 },
 "nbformat": 4,
 "nbformat_minor": 4
}
