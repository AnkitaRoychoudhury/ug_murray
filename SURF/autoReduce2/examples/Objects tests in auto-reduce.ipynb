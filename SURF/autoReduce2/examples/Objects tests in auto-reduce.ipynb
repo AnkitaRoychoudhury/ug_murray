{
 "cells": [
  {
   "cell_type": "code",
   "execution_count": 1,
   "metadata": {},
   "outputs": [],
   "source": [
    "from auto_reduce import *\n",
    "import numpy as np"
   ]
  },
  {
   "cell_type": "markdown",
   "metadata": {},
   "source": [
    "## System object attributes"
   ]
  },
  {
   "cell_type": "code",
   "execution_count": 2,
   "metadata": {},
   "outputs": [
    {
     "name": "stdout",
     "output_type": "stream",
     "text": [
      "The states : [x0, x1]\n",
      "The dynamics f : [P0*x1 - x0**2, -P1*x1]\n",
      "The dynamics P : [P0, P1]\n"
     ]
    }
   ],
   "source": [
    "# Create symbolic objects\n",
    "x, f, P = system.load_ODE_model(2, 2)\n",
    "f[0] = -x[0]**2 + P[0]*x[1]\n",
    "f[1] = -P[1]*x[1]\n",
    "print('The states : {0}'.format(x))\n",
    "print('The dynamics f : {0}'.format(f))\n",
    "print('The dynamics P : {0}'.format(P))\n",
    "C = np.array([[0,1]]).tolist()"
   ]
  },
  {
   "cell_type": "code",
   "execution_count": 3,
   "metadata": {},
   "outputs": [],
   "source": [
    "# System class\n",
    "sys = System(x, f, params = P, C = C)"
   ]
  },
  {
   "cell_type": "markdown",
   "metadata": {},
   "source": [
    "## Solve the System using the ODE subclass "
   ]
  },
  {
   "cell_type": "code",
   "execution_count": 4,
   "metadata": {},
   "outputs": [],
   "source": [
    "# Solve ODE from System\n",
    "from auto_reduce.ode import ODE\n",
    "timepoints = np.linspace(0,20,100)\n",
    "sys.params_values = [2, 4]\n",
    "sys.x_init = [0,10]\n",
    "sys_ode = ODE(sys.x, sys.f, params = sys.params, params_values = sys.params_values,\n",
    "              C = sys.C, x_init = sys.x_init, timepoints = timepoints)\n",
    "solution = sys_ode.solve_system()"
   ]
  },
  {
   "cell_type": "markdown",
   "metadata": {},
   "source": [
    "## Local sensitivity analysis tools for System using the SSM subclass"
   ]
  },
  {
   "cell_type": "code",
   "execution_count": 6,
   "metadata": {},
   "outputs": [],
   "source": [
    "# Solve for sensitivity analysis from System\n",
    "from auto_reduce.local_sensitivity import SSM\n",
    "timepoints = np.linspace(0,20,10)\n",
    "sys.params_values = [2, 4]\n",
    "sys.x_init = [0,10]\n",
    "sys_ssm = SSM(sys.x, sys.f, params = sys.params, params_values = sys.params_values,\n",
    "              C = sys.C, x_init = sys.x_init, timepoints = timepoints)\n",
    "solution = sys_ssm.compute_SSM()"
   ]
  },
  {
   "cell_type": "code",
   "execution_count": 8,
   "metadata": {},
   "outputs": [
    {
     "name": "stdout",
     "output_type": "stream",
     "text": [
      "J =  [[-2.06  1.  ]\n",
      " [ 0.   -2.  ]]\n",
      "Z =  [ 0.  -0.5]\n",
      "SSM =  [[[ 0.00000000e+00  0.00000000e+00]\n",
      "  [ 0.00000000e+00  0.00000000e+00]]\n",
      "\n",
      " [[ 0.00000000e+00  8.69364527e-16]\n",
      "  [ 0.00000000e+00 -3.89172132e-02]]\n",
      "\n",
      " [[-3.77646620e-15  1.57845580e-15]\n",
      "  [-2.28944359e-02 -2.31602197e-02]]\n",
      "\n",
      " [[ 7.53560282e-15 -3.77234807e-14]\n",
      "  [-1.64068719e-02 -1.64049439e-02]]\n",
      "\n",
      " [[ 2.10870174e-13  2.33379896e-13]\n",
      "  [-1.26987361e-02 -1.26914397e-02]]\n",
      "\n",
      " [[ 7.22811143e-18  7.22811185e-18]\n",
      "  [-3.46150911e-04 -3.46150917e-04]]\n",
      "\n",
      " [[-4.88537330e-18 -3.13744454e-17]\n",
      "  [-5.99483480e-07 -8.28480297e-09]]\n",
      "\n",
      " [[ 0.00000000e+00  0.00000000e+00]\n",
      "  [-6.64224589e-07  3.37215043e-07]]\n",
      "\n",
      " [[ 0.00000000e+00  0.00000000e+00]\n",
      "  [ 2.53139779e-07 -8.84140998e-08]]\n",
      "\n",
      " [[ 0.00000000e+00  0.00000000e+00]\n",
      "  [-5.96627933e-07 -4.73660306e-09]]]\n"
     ]
    }
   ],
   "source": [
    "J = sys_ssm.compute_J([2,1])\n",
    "Z = sys_ssm.compute_Zj([2,1], 1)\n",
    "print('J = ',J)\n",
    "print('Z = ', Z)\n",
    "print('SSM = ',solution)"
   ]
  },
  {
   "cell_type": "markdown",
   "metadata": {},
   "source": [
    "## Use Reduce class to perform model reduction of System "
   ]
  },
  {
   "cell_type": "code",
   "execution_count": 11,
   "metadata": {},
   "outputs": [],
   "source": [
    "from auto_reduce.model_reduction import Reduce\n",
    "timepoints_ode = np.linspace(0,20,100)\n",
    "timepoints_ssm = np.linspace(0,20,10)\n",
    "sys_reduce = Reduce(sys.x, sys.f, params = sys.params, params_values = sys.params_values,\n",
    "        C = sys.C, x_init = sys.x_init, \n",
    "       timepoints_ode = timepoints_ode, timepoints_ssm = timepoints_ssm,)\n"
   ]
  },
  {
   "cell_type": "code",
   "execution_count": 20,
   "metadata": {},
   "outputs": [
    {
     "ename": "IndexError",
     "evalue": "index 1 is out of bounds for axis 1 with size 1",
     "output_type": "error",
     "traceback": [
      "\u001b[1;31m---------------------------------------------------------------------------\u001b[0m",
      "\u001b[1;31mIndexError\u001b[0m                                Traceback (most recent call last)",
      "\u001b[1;32m<ipython-input-20-85336ee40379>\u001b[0m in \u001b[0;36m<module>\u001b[1;34m\u001b[0m\n\u001b[0;32m      1\u001b[0m \u001b[0mall_combinations\u001b[0m \u001b[1;33m=\u001b[0m \u001b[0msys_reduce\u001b[0m\u001b[1;33m.\u001b[0m\u001b[0mget_all_combinations\u001b[0m\u001b[1;33m(\u001b[0m\u001b[1;33m)\u001b[0m\u001b[1;33m\u001b[0m\u001b[1;33m\u001b[0m\u001b[0m\n\u001b[1;32m----> 2\u001b[1;33m \u001b[0msys_reduce\u001b[0m\u001b[1;33m.\u001b[0m\u001b[0mget_T\u001b[0m\u001b[1;33m(\u001b[0m\u001b[1;33m[\u001b[0m\u001b[1;36m0\u001b[0m\u001b[1;33m]\u001b[0m\u001b[1;33m)\u001b[0m\u001b[1;33m\u001b[0m\u001b[1;33m\u001b[0m\u001b[0m\n\u001b[0m",
      "\u001b[1;32m~\\synBio\\autoReduce\\auto_reduce\\model_reduction.py\u001b[0m in \u001b[0;36mget_T\u001b[1;34m(self, attempt)\u001b[0m\n\u001b[0;32m     79\u001b[0m         \u001b[1;32mfor\u001b[0m \u001b[0mni\u001b[0m\u001b[1;33m,\u001b[0m \u001b[0mi\u001b[0m \u001b[1;32min\u001b[0m \u001b[0mzip\u001b[0m\u001b[1;33m(\u001b[0m\u001b[0mrange\u001b[0m\u001b[1;33m(\u001b[0m\u001b[0mn_c\u001b[0m\u001b[1;33m)\u001b[0m\u001b[1;33m,\u001b[0m \u001b[0mnon_attempt\u001b[0m\u001b[1;33m)\u001b[0m\u001b[1;33m:\u001b[0m\u001b[1;33m\u001b[0m\u001b[1;33m\u001b[0m\u001b[0m\n\u001b[0;32m     80\u001b[0m             \u001b[0mT\u001b[0m\u001b[1;33m[\u001b[0m\u001b[0mni\u001b[0m\u001b[1;33m,\u001b[0m\u001b[0mi\u001b[0m\u001b[1;33m]\u001b[0m \u001b[1;33m=\u001b[0m \u001b[1;36m1\u001b[0m\u001b[1;33m\u001b[0m\u001b[1;33m\u001b[0m\u001b[0m\n\u001b[1;32m---> 81\u001b[1;33m             \u001b[0mT2\u001b[0m\u001b[1;33m[\u001b[0m\u001b[0mni\u001b[0m\u001b[1;33m,\u001b[0m\u001b[0mi\u001b[0m\u001b[1;33m]\u001b[0m \u001b[1;33m=\u001b[0m \u001b[1;36m1\u001b[0m\u001b[1;33m\u001b[0m\u001b[1;33m\u001b[0m\u001b[0m\n\u001b[0m\u001b[0;32m     82\u001b[0m         \u001b[0mT1\u001b[0m \u001b[1;33m=\u001b[0m \u001b[0mT1\u001b[0m\u001b[1;33m.\u001b[0m\u001b[0mT\u001b[0m\u001b[1;33m\u001b[0m\u001b[1;33m\u001b[0m\u001b[0m\n\u001b[0;32m     83\u001b[0m         \u001b[0mT2\u001b[0m \u001b[1;33m=\u001b[0m \u001b[0mT2\u001b[0m\u001b[1;33m.\u001b[0m\u001b[0mT\u001b[0m\u001b[1;33m\u001b[0m\u001b[1;33m\u001b[0m\u001b[0m\n",
      "\u001b[1;31mIndexError\u001b[0m: index 1 is out of bounds for axis 1 with size 1"
     ]
    }
   ],
   "source": [
    "all_combinations = sys_reduce.get_all_combinations()\n",
    "T, T1, T2 = sys_reduce.get_T([0])"
   ]
  },
  {
   "cell_type": "code",
   "execution_count": 19,
   "metadata": {},
   "outputs": [
    {
     "data": {
      "text/plain": [
       "[[0], [1]]"
      ]
     },
     "execution_count": 19,
     "metadata": {},
     "output_type": "execute_result"
    }
   ],
   "source": []
  },
  {
   "cell_type": "code",
   "execution_count": null,
   "metadata": {},
   "outputs": [],
   "source": []
  }
 ],
 "metadata": {
  "kernelspec": {
   "display_name": "Python 3",
   "language": "python",
   "name": "python3"
  },
  "language_info": {
   "codemirror_mode": {
    "name": "ipython",
    "version": 3
   },
   "file_extension": ".py",
   "mimetype": "text/x-python",
   "name": "python",
   "nbconvert_exporter": "python",
   "pygments_lexer": "ipython3",
   "version": "3.7.3"
  }
 },
 "nbformat": 4,
 "nbformat_minor": 2
}
