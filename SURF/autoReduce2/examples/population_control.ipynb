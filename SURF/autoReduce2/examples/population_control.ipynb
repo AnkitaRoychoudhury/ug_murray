{
 "cells": [
  {
   "cell_type": "code",
   "execution_count": 1,
   "metadata": {},
   "outputs": [],
   "source": [
    "\n",
    "from SBMLReduce import *\n",
    "sr = SBMLReduce()\n",
    "\n",
    "n = 8 # Number of states \n",
    "\n",
    "# Either\n",
    "# sr.load_SBML_model('my_sbml_model.xml')\n",
    "\n",
    "# OR write ODEs\n",
    "#      x = 0, T1, 1, A1, 2, S1, 3, S2, 4, T2, 5, A2, 6, C1, 7, C2\n",
    "#      P = 0, beta_S1, 1, l_S1, 2, K_S1, 3, kb, 4, beta_S2, 5, l_S2, 6,\n",
    "#      K_S2, 7, beta_lac, 8, l_lac, 9, K_lac, 10, beta_tet, 11, l_tet, 12,\n",
    "#      K_tet, 13, kc, 14, C_max, 15, dc, 16, xx, 17, I, 18, xx, 19, atc, 20,K_tox\n",
    "\n",
    "# parameter values\n",
    "P = np.zeros(24)\n",
    "P[0] = 6\n",
    "P[1] = 2e-3\n",
    "P[2] = 430\n",
    "P[3] = 30\n",
    "P[4] = 6\n",
    "P[5] = 2e-3\n",
    "P[6] = 190\n",
    "P[7] = 19.8e-3\n",
    "P[8] = 1.5e-3\n",
    "P[9] = 1.4e5\n",
    "P[10] = 14.4e-3\n",
    "P[11] = 2.1e-4\n",
    "P[12] = 13\n",
    "P[13] = 0.6\n",
    "P[14] = 5500\n",
    "P[15] = 0.8\n",
    "P[16] = np.Inf\n",
    "P[17] = 1e6\n",
    "P[18] = np.Inf \n",
    "P[19] = 324\n",
    "P[20] = 1\n",
    "P[21] = 0.1\n",
    "P[22] = 1.5\n",
    "P[23] = 0.5\n",
    "sr.params_values = P.copy()\n",
    "\n",
    "sr.timepoints = np.linspace(0, 40, 100) # timepoints for simulation\n",
    "x_init = np.zeros(n) # Initial conditions\n",
    "x_init[6] = 100\n",
    "x_init[7] = 500\n",
    "sr.x_init = x_init\n",
    "\n",
    "sr.error_tol = 1000\n",
    "sr.nstates_tol = 5\n",
    "x, f, P = sr.load_ODE_model(n, len(sr.params_values))\n",
    "params = P\n",
    "# T1 and A1\n",
    "f[0] = P[0]*(P[1] + x[2]**2/(P[2]+x[2]**2)) - P[3]*x[0]*x[1] - P[22] * x[0]\n",
    "f[1] = 5*P[4]*(P[5] + x[3]**2/(P[6]+x[3]**2)) - P[22] * x[1] - P[3]*x[0]*x[1]\n",
    "\n",
    "# f[0] = P[0]*(x[2]**2/(P[2]+x[2]**2)) - P[3]*x[0]*x[1]\n",
    "# f[1] = P[4]*(x[3]**2/(P[6]+x[3]**2)) - P[3]*x[0]*x[1]\n",
    "\n",
    "#  S1 and S2 (scaled with cell count)\n",
    "f[2] = P[7]*(P[8] + P[17]**2/(P[9]+P[17]**2))*x[6] - P[23] * x[2]\n",
    "f[3] = P[10]*(P[11] + P[19]**2/(P[12]+P[19]**2))*x[7] - P[23] * x[3]\n",
    "\n",
    "# f[2] = P[7]*(P[17]**2/(P[9]+P[17]**2))*x[6] - P[23] * x[2]\n",
    "# f[3] = P[10]*(P[19]**2/(P[12]+P[19]**2))*x[7] - P[23] * x[3]\n",
    "\n",
    "#  T2 and A2\n",
    "f[4] = P[4]*(P[5] + x[3]**2/(P[6]+x[3]**2)) - P[3]*x[4]*x[5] - P[22] * x[4]\n",
    "f[5] = 5*P[0]*(P[1] + x[2]**2/(P[2]+x[2]**2)) - P[22] * x[5]-P[3]*x[4]*x[5]\n",
    "\n",
    "# f[4] = P[4]*(x[3]**2/(P[6]+x[3]**2)) - P[3]*x[4]*x[5] - P[22] * x[4]\n",
    "# f[5] = P[0]*(x[2]**2/(P[2]+x[2]**2)) - P[22] * x[5]-P[3]*x[4]*x[5]\n",
    "\n",
    "#  Cell 1 and Cell 2\n",
    "f[6] = P[13]*(1 - (x[6] + x[7])/P[14])*x[6] - P[15]*x[6]*(x[0]/(P[20] + x[0])) - P[21] * x[6]\n",
    "f[7] = P[13]*(1 - (x[6] + x[7])/P[14])*x[7] - P[15]*x[7]*(x[4]/(P[20] + x[4])) - P[21] * x[7]\n",
    "\n",
    "C = np.zeros((2,len(x)), dtype=int)\n",
    "C[0][6] = 1\n",
    "C[1][7] = 1\n",
    "C = C.tolist()\n",
    "sr.C = C\n",
    "# f_hat_SBMLDocument = sr.get_reduced_model('SBML')\n",
    "# f_hat_Scipy_callable_object = sr.get_reduced_model('ODE')\n"
   ]
  },
  {
   "cell_type": "code",
   "execution_count": 8,
   "metadata": {},
   "outputs": [
    {
     "data": {
      "text/plain": [
       "array([  0.,   0.,   0.,   0.,   0.,   0., 100., 500.])"
      ]
     },
     "execution_count": 8,
     "metadata": {},
     "output_type": "execute_result"
    }
   ],
   "source": [
    "sr.x_init"
   ]
  },
  {
   "cell_type": "code",
   "execution_count": null,
   "metadata": {},
   "outputs": [
    {
     "name": "stderr",
     "output_type": "stream",
     "text": [
      "c:\\users\\apand\\appdata\\local\\programs\\python\\python36\\lib\\site-packages\\scipy\\integrate\\_ivp\\common.py:32: UserWarning: The following arguments have no effect for a chosen solver: `jac`.\n",
      "  .format(\", \".join(\"`{}`\".format(x) for x in extraneous)))\n"
     ]
    },
    {
     "name": "stdout",
     "output_type": "stream",
     "text": [
      "\r",
      "Solving sensitivity for parameter 1/24       \n"
     ]
    },
    {
     "name": "stderr",
     "output_type": "stream",
     "text": [
      "c:\\users\\apand\\appdata\\local\\programs\\python\\python36\\lib\\site-packages\\numpy\\__init__.py:1: RuntimeWarning: divide by zero encountered in double_scalars\n",
      "  \"\"\"\n"
     ]
    },
    {
     "name": "stdout",
     "output_type": "stream",
     "text": [
      "\r",
      "Solving sensitivity for parameter 2/24       \n"
     ]
    },
    {
     "name": "stderr",
     "output_type": "stream",
     "text": [
      "c:\\users\\apand\\appdata\\local\\programs\\python\\python36\\lib\\site-packages\\numpy\\__init__.py:1: RuntimeWarning: divide by zero encountered in double_scalars\n",
      "  \"\"\"\n"
     ]
    },
    {
     "name": "stdout",
     "output_type": "stream",
     "text": [
      "\r",
      "Solving sensitivity for parameter 3/24       \n"
     ]
    },
    {
     "name": "stderr",
     "output_type": "stream",
     "text": [
      "c:\\users\\apand\\appdata\\local\\programs\\python\\python36\\lib\\site-packages\\numpy\\__init__.py:1: RuntimeWarning: divide by zero encountered in double_scalars\n",
      "  \"\"\"\n"
     ]
    },
    {
     "name": "stdout",
     "output_type": "stream",
     "text": [
      "\r",
      "Solving sensitivity for parameter 4/24       \n"
     ]
    },
    {
     "name": "stderr",
     "output_type": "stream",
     "text": [
      "c:\\users\\apand\\appdata\\local\\programs\\python\\python36\\lib\\site-packages\\numpy\\__init__.py:1: RuntimeWarning: divide by zero encountered in double_scalars\n",
      "  \"\"\"\n"
     ]
    },
    {
     "name": "stdout",
     "output_type": "stream",
     "text": [
      "\r",
      "Solving sensitivity for parameter 5/24       \n"
     ]
    },
    {
     "name": "stderr",
     "output_type": "stream",
     "text": [
      "c:\\users\\apand\\appdata\\local\\programs\\python\\python36\\lib\\site-packages\\numpy\\__init__.py:1: RuntimeWarning: divide by zero encountered in double_scalars\n",
      "  \"\"\"\n"
     ]
    },
    {
     "name": "stdout",
     "output_type": "stream",
     "text": [
      "\r",
      "Solving sensitivity for parameter 6/24       \n"
     ]
    },
    {
     "name": "stderr",
     "output_type": "stream",
     "text": [
      "c:\\users\\apand\\appdata\\local\\programs\\python\\python36\\lib\\site-packages\\numpy\\__init__.py:1: RuntimeWarning: divide by zero encountered in double_scalars\n",
      "  \"\"\"\n"
     ]
    },
    {
     "name": "stdout",
     "output_type": "stream",
     "text": [
      "\r",
      "Solving sensitivity for parameter 7/24       \n"
     ]
    },
    {
     "name": "stderr",
     "output_type": "stream",
     "text": [
      "c:\\users\\apand\\appdata\\local\\programs\\python\\python36\\lib\\site-packages\\numpy\\__init__.py:1: RuntimeWarning: divide by zero encountered in double_scalars\n",
      "  \"\"\"\n"
     ]
    },
    {
     "name": "stdout",
     "output_type": "stream",
     "text": [
      "\r",
      "Solving sensitivity for parameter 8/24       \n"
     ]
    },
    {
     "name": "stderr",
     "output_type": "stream",
     "text": [
      "c:\\users\\apand\\appdata\\local\\programs\\python\\python36\\lib\\site-packages\\numpy\\__init__.py:1: RuntimeWarning: divide by zero encountered in double_scalars\n",
      "  \"\"\"\n"
     ]
    }
   ],
   "source": [
    "sr.compute_reduced_model()"
   ]
  },
  {
   "cell_type": "code",
   "execution_count": null,
   "metadata": {},
   "outputs": [],
   "source": [
    "f_hat = sr.get_reduced_model('Sympy')\n",
    "print(f_hat)"
   ]
  }
 ],
 "metadata": {
  "kernelspec": {
   "display_name": "Python 3",
   "language": "python",
   "name": "python3"
  },
  "language_info": {
   "codemirror_mode": {
    "name": "ipython",
    "version": 3
   },
   "file_extension": ".py",
   "mimetype": "text/x-python",
   "name": "python",
   "nbconvert_exporter": "python",
   "pygments_lexer": "ipython3",
   "version": "3.7.3"
  }
 },
 "nbformat": 4,
 "nbformat_minor": 2
}
