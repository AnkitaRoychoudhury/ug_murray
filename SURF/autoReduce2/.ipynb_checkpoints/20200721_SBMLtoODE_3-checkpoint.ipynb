{
 "cells": [
  {
   "cell_type": "markdown",
   "metadata": {},
   "source": [
    "# SBML to ODE for autoReduce 3\n",
    "In this notebook, we will return `x`, `f`, and `P` and put it all in a function. We will try to get rid of the 'generated_code' part of the function. <br>\n",
    "7.21.2020 <br>\n",
    "Ankita Roychoudhury\n"
   ]
  },
  {
   "cell_type": "code",
   "execution_count": 1,
   "metadata": {},
   "outputs": [],
   "source": [
    "# imports\n",
    "from libsbml import *\n",
    "import sys\n",
    "import numpy as np\n",
    "\n",
    "from auto_reduce import *\n",
    "from auto_reduce.utils import get_ODE\n",
    "from auto_reduce.utils import reduce\n",
    "\n",
    "import matplotlib.pyplot as plt\n",
    "from sympy import Symbol,sympify"
   ]
  },
  {
   "cell_type": "markdown",
   "metadata": {},
   "source": [
    "**What do we want?** <br>\n",
    "Input a SBML file, output `x`, `P`, and `f`, and `params_values`. <br>\n",
    "First three are returned as sympy objects, `params_values` is a list of parameter values in the same order as `P`."
   ]
  },
  {
   "cell_type": "markdown",
   "metadata": {},
   "source": [
    "**Now define all encompassing function.**\n",
    "<br>\n",
    "<font color = 'red'>\n",
    "    should we add imports to the function?\n",
    "    </font>"
   ]
  },
  {
   "cell_type": "code",
   "execution_count": 20,
   "metadata": {},
   "outputs": [],
   "source": [
    "def sbml_to_ode(filename):\n",
    "    '''A function that takes in an SBML file and returns x,f,P,params_values.\n",
    "    x is a list of species written as Sympy objects\n",
    "    f is a list of functions written as Sympy objects\n",
    "    P is a list of parameters written as Sympy objects\n",
    "    params_values is a list of parameter values, in the same order as P\n",
    "    x_init is a list of initial conditions, in the same order as x'''\n",
    "\n",
    "    # Get the sbml file, check for errors, and perform conversions\n",
    "    doc = readSBMLFromFile(filename)\n",
    "    if doc.getNumErrors(LIBSBML_SEV_FATAL):\n",
    "        print('Encountered serious errors while reading file')\n",
    "        print(doc.getErrorLog().toString())\n",
    "        sys.exit(1)\n",
    "    \n",
    "    doc.getErrorLog().clearLog()\n",
    "    \n",
    "    # Convert local params to global params\n",
    "    props = ConversionProperties()\n",
    "    props.addOption(\"promoteLocalParameters\", True)\n",
    "  \n",
    "    if doc.convert(props) != LIBSBML_OPERATION_SUCCESS: \n",
    "        print('The document could not be converted')\n",
    "        print(doc.getErrorLog().toString())\n",
    "    \n",
    "    # Expand initial assignments\n",
    "    props = ConversionProperties()\n",
    "    props.addOption(\"expandInitialAssignments\", True)\n",
    "  \n",
    "    if doc.convert(props) != LIBSBML_OPERATION_SUCCESS: \n",
    "        print('The document could not be converted')\n",
    "        print(doc.getErrorLog().toString())\n",
    "    \n",
    "    # Expand functions definitions\n",
    "    props = ConversionProperties()\n",
    "    props.addOption(\"expandFunctionDefinitions\", True)\n",
    "  \n",
    "    if doc.convert(props) != LIBSBML_OPERATION_SUCCESS: \n",
    "        print('The document could not be converted')\n",
    "        print(doc.getErrorLog().toString())\n",
    "    \n",
    "    # Get model and define importnat lists, dictionaries\n",
    "    mod = doc.getModel()\n",
    "    x = []\n",
    "    x_init = []\n",
    "    P = []\n",
    "    params_values = []\n",
    "    reactions = {}\n",
    " \n",
    "    # Append species symbol to 'x' and append initial amount/concentration to x_init\n",
    "    # x[i] corresponds to x_init[i]\n",
    "    for i in range(mod.getNumSpecies()): \n",
    "        species = mod.getSpecies(i)\n",
    "        x.append(Symbol(species.getId()))\n",
    "        if species.isSetInitialConcentration():\n",
    "            x_init.append(species.getInitialConcentration())\n",
    "        elif species.isSetInitialAmount():\n",
    "            x_init.append(species.getInitialAmount())\n",
    "        else:\n",
    "            x_init.append(0)\n",
    "\n",
    "    # Append parameter symbol to 'P' and parameter values to 'params_values'\n",
    "    for i in range(mod.getNumParameters()): \n",
    "        params = mod.getParameter(i)\n",
    "        params_values.append(params.getValue())\n",
    "        P.append(Symbol(params.getId()))\n",
    "\n",
    "    \n",
    "    \n",
    "    \n",
    "    # Get kinetic formula for each reaction, store in dictionary 'reactions'\n",
    "    for i in range(mod.getNumReactions()): \n",
    "        reaction = mod.getReaction(i)\n",
    "        kinetics = reaction.getKineticLaw()\n",
    "        reactions[reaction.getId()] = sympify(kinetics.getFormula())\n",
    "\n",
    "    # Define f\n",
    "    f = [0] * len(x)\n",
    "    \n",
    "    # Loop to define functions in 'f'\n",
    "    for i in range(mod.getNumReactions()): \n",
    "        reaction = mod.getReaction(i)\n",
    "        # subtract reactant kinetic formula\n",
    "        for j in range(reaction.getNumReactants()):\n",
    "            ref = reaction.getReactant(j)\n",
    "            species = sympify(mod.getSpecies(ref.getSpecies()).getId())\n",
    "            curr_index = x.index(species)\n",
    "            # Check stoichiometry\n",
    "            if ref.getStoichiometry() == 1.0:  \n",
    "                f[curr_index] += -reactions[reaction.getId()]\n",
    "            else:\n",
    "                f[curr_index] += -reactions[reaction.getId()] * ref.getStoichiometry()\n",
    "        # add product kinetic formula\n",
    "        for j in range(reaction.getNumProducts()):\n",
    "            ref = reaction.getProduct(j)\n",
    "            species = sympify(mod.getSpecies(ref.getSpecies()).getId())\n",
    "            curr_index = x.index(species)\n",
    "            # Check stoichiometry\n",
    "            if ref.getStoichiometry() == 1.0: \n",
    "                f[curr_index] += +reactions[reaction.getId()]\n",
    "            else:\n",
    "                f[curr_index] += +reactions[reaction.getId()] * ref.getStoichiometry()\n",
    "\n",
    "\n",
    "    return x,f,P,params_values,x_init"
   ]
  },
  {
   "cell_type": "markdown",
   "metadata": {},
   "source": [
    "## Let's test it!"
   ]
  },
  {
   "cell_type": "code",
   "execution_count": 21,
   "metadata": {},
   "outputs": [],
   "source": [
    "filename = 'CRN.xml'\n",
    "x,f,P,params_values,x_init = sbml_to_ode(filename)"
   ]
  },
  {
   "cell_type": "code",
   "execution_count": 6,
   "metadata": {},
   "outputs": [],
   "source": [
    "timepoints_ode = np.linspace(0,72,1000)\n",
    "n = len(x)\n",
    "#x_init = np.ones(n)\n",
    "error_tol = 100\n",
    "nstates_tol = 1"
   ]
  },
  {
   "cell_type": "code",
   "execution_count": 16,
   "metadata": {},
   "outputs": [
    {
     "data": {
      "text/plain": [
       "array([ 0.15, 30.  , 30.  ,  0.  ,  0.  ,  0.15,  0.  ,  0.15,  0.  ,\n",
       "        0.15,  0.  ,  0.15,  0.  ,  0.  ,  0.  ,  0.15,  0.  ,  0.  ,\n",
       "        0.  ,  0.15, 30.  ,  0.  ,  0.  ,  0.  ,  0.  ,  0.15, 30.  ,\n",
       "        0.  ,  0.  ,  0.  ,  0.15,  0.  ,  0.  ,  0.15,  0.  ,  0.  ,\n",
       "        0.  ,  0.15,  0.  ,  0.  ,  0.  ,  0.15,  0.  ,  0.  ,  0.  ,\n",
       "        0.15,  0.  ,  0.  ,  0.  ,  0.15,  0.  ,  0.  ,  0.  ,  0.15,\n",
       "        0.  ,  0.  ,  0.  ,  0.15,  0.  ,  0.  ,  0.  ,  0.15,  0.  ,\n",
       "        0.  ,  0.  ,  2.  ,  0.  ,  0.  ])"
      ]
     },
     "execution_count": 16,
     "metadata": {},
     "output_type": "execute_result"
    }
   ],
   "source": [
    "# Define correct initial conditions\n",
    "spec_inds = np.arange(0,n)\n",
    "\n",
    "x_init = np.zeros(len(spec_inds))\n",
    "# set up init for all enzymes\n",
    "enz_list = [0, 5, 7,9, 11, 15, 19, 25, 30, 33, 37, 41, 45, 49, 53, 57, 61]\n",
    "\n",
    "# indices for gluc, atp, nadp, pi\n",
    "mol_list = [2, 1, 20, 26]\n",
    "\n",
    "\n",
    "for i,item in enumerate(spec_inds):\n",
    "    if item in enz_list:\n",
    "        x_init[i] = 0.15\n",
    "    elif item in mol_list:\n",
    "        x_init[i] = 30\n",
    "    elif i == 65:\n",
    "        x_init[i] = 2.\n",
    "    else:\n",
    "        x_init[i] = 0\n",
    "        \n",
    "x_init       "
   ]
  },
  {
   "cell_type": "code",
   "execution_count": 8,
   "metadata": {},
   "outputs": [],
   "source": [
    "# setup output matrix \n",
    "nouts=1\n",
    "C = np.zeros((nouts, len(x)), dtype = int)\n",
    "C[0][10] = 1\n",
    "C = C.tolist()"
   ]
  },
  {
   "cell_type": "code",
   "execution_count": 9,
   "metadata": {},
   "outputs": [],
   "source": [
    "sys = System(x, f, params = P, params_values = params_values, C = C, x_init = x_init)\n",
    "sys_ode = get_ODE(sys, timepoints_ode)\n",
    "sol = sys_ode.solve_system()"
   ]
  },
  {
   "cell_type": "code",
   "execution_count": 10,
   "metadata": {},
   "outputs": [
    {
     "data": {
      "text/plain": [
       "1000"
      ]
     },
     "execution_count": 10,
     "metadata": {},
     "output_type": "execute_result"
    }
   ],
   "source": [
    "len(sol[:,2])"
   ]
  },
  {
   "cell_type": "code",
   "execution_count": 11,
   "metadata": {},
   "outputs": [
    {
     "data": {
      "image/png": "[encoded data removed]",
      "text/plain": [
       "<Figure size 432x288 with 1 Axes>"
      ]
     },
     "metadata": {
      "needs_background": "light"
     },
     "output_type": "display_data"
    }
   ],
   "source": [
    "import matplotlib.pyplot as plt\n",
    "#plt.plot(timepoints_ode, sol)\n",
    "plt.plot(timepoints_ode, sol[:,1], label = 'atp')\n",
    "plt.plot(timepoints_ode, sol[:,62], label = 'isob')\n",
    "plt.plot(timepoints_ode, sol[:,2], label = 'glucose')\n",
    "\n",
    "plt.xlabel('Time')\n",
    "plt.ylabel('[F6P]')\n",
    "plt.legend()\n",
    "plt.show()"
   ]
  },
  {
   "cell_type": "markdown",
   "metadata": {},
   "source": [
    "nice"
   ]
  },
  {
   "cell_type": "code",
   "execution_count": null,
   "metadata": {},
   "outputs": [],
   "source": [
    "#watermark\n",
    "%reload_ext watermark\n",
    "%watermark -v -p numpy,bokeh,auto_reduce,sympy,libsbml,sys,jupyterlab"
   ]
  }
 ],
 "metadata": {
  "kernelspec": {
   "display_name": "Python 3",
   "language": "python",
   "name": "python3"
  },
  "language_info": {
   "codemirror_mode": {
    "name": "ipython",
    "version": 3
   },
   "file_extension": ".py",
   "mimetype": "text/x-python",
   "name": "python",
   "nbconvert_exporter": "python",
   "pygments_lexer": "ipython3",
   "version": "3.7.7"
  }
 },
 "nbformat": 4,
 "nbformat_minor": 4
}
