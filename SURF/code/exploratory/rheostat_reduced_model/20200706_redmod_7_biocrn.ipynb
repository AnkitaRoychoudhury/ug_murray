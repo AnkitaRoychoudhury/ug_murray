{
 "cells": [
  {
   "cell_type": "markdown",
   "metadata": {},
   "source": [
    "# Try HillPositive in BioCRNPyler\n",
    "<font color = red>\n",
    "    OK LOL this was a bad idea because MM kinetics and hill functions can only be used for single substrate reactions:((\n",
    "    </font> <br>\n",
    "Same reduced model? Have KM and Kcat from paper<br>\n",
    "7.5.2020"
   ]
  },
  {
   "cell_type": "markdown",
   "metadata": {},
   "source": [
    "We will use bioscrape positive hill function. For parameters, we will use 'rate' as k_cat, which are indicated as enzyme activity in the paper supplement. Then, we will estimate K_M for each enzyme from online source.<br>\n",
    "We should use bioscrape 'proportionalhillpositive' since the extra term will be the total concentration of the enzyme"
   ]
  },
  {
   "cell_type": "code",
   "execution_count": 1,
   "metadata": {},
   "outputs": [
    {
     "data": {
      "text/plain": [
       "'1.5'"
      ]
     },
     "execution_count": 1,
     "metadata": {},
     "output_type": "execute_result"
    }
   ],
   "source": [
    "e0 = 1.5\n",
    "str(e0)"
   ]
  },
  {
   "cell_type": "code",
   "execution_count": null,
   "metadata": {},
   "outputs": [],
   "source": [
    "e0 = 0.15\n",
    "rxn1 = ([\"glucose\", 'atp'], [\"g6p\"], \"proportionalhillpositive\", {\"d\":str(e0), \"s1\":\"glucose\", \"k\":\"ktx\", \"K\":\"KI\", \"n\":\"n\"})\n",
    "\n",
    "\n"
   ]
  },
  {
   "cell_type": "code",
   "execution_count": null,
   "metadata": {},
   "outputs": [],
   "source": [
    "E1_hex = Enzyme(enzyme_name = \"hex\", substrate = ['glucose'],\n",
    "                fuel = ['atp'],product = ['g6p'], waste = ['adp'], k_bf = k_bf , k_uf = k_uf)\n",
    "\n",
    "    E2_pgi = Enzyme(enzyme_name = 'pgi', substrate = ['g6p'], fuel = [],\n",
    "               product = ['f6p'], waste = [], k_bf = k_bf , k_uf = k_uf)\n",
    "\n",
    "    E3_pfk = Enzyme(enzyme_name = 'pfk', substrate = ['f6p'], fuel = ['atp'], product = ['f16p'],\n",
    "               waste = ['adp'], k_bf = k_bf , k_uf = k_uf)\n",
    "\n",
    "    E4_ald_tpi = Enzyme(enzyme_name ='ald_tpi' , substrate = ['f16p'], fuel = [], product = ['g3p', 'g3p'], \n",
    "                waste = [], k_bf = k_bf , k_uf = k_uf )\n",
    "\n",
    "    E5_gapN = Enzyme(enzyme_name ='gapN' , substrate = ['g3p', 'g3p'], fuel = ['nadp', 'nadp'], product = ['3pg', '3pg'], \n",
    "                waste = ['nadph', 'nadph'], k_bf = k_bf , k_uf = k_uf)\n",
    "\n",
    "    E6_gapM6 = Enzyme(enzyme_name ='gapM6' , substrate = ['g3p', 'g3p'], fuel = ['pi'], product = ['13bpg'], \n",
    "                waste = [],k_bf = k_bf , k_uf = k_uf)\n",
    "\n",
    "    E7_pgk = Enzyme(enzyme_name = 'pgk', substrate = ['13bpg'], fuel = ['adp'], product = ['3pg', '3pg'], \n",
    "                waste = ['atp'], k_bf = k_bf , k_uf = k_uf)\n",
    "\n",
    "    E8_pgm = Enzyme(enzyme_name ='pgm' , substrate = ['3pg', '3pg'], fuel = [], product = ['2pg', '2pg'], \n",
    "                waste = [], k_bf = k_bf , k_uf = k_uf)\n",
    "\n",
    "    E9_eno = Enzyme(enzyme_name ='eno' , substrate = ['2pg', '2pg'], fuel = [], product = ['pep', 'pep'], \n",
    "                waste = [],k_bf = k_bf , k_uf = k_uf)\n",
    "\n",
    "    E10_pyk = Enzyme(enzyme_name = 'pyk', substrate = ['pep', 'pep'], fuel = ['adp', 'adp'], product = ['pyruvate', 'pyruvate'], \n",
    "                waste = ['atp', 'atp'], k_bf = k_bf , k_uf = k_uf) # irreversible\n",
    "\n",
    "    E11_alsS = Enzyme(enzyme_name = 'alsS', substrate = ['pyruvate', 'pyruvate'], fuel = [], product = ['acetolac'], \n",
    "                waste = [], k_bf = k_bf , k_uf = k_uf) # irreversible\n",
    "\n",
    "    E12_IlvC = Enzyme(enzyme_name = 'IlvC', substrate = ['acetolac'], fuel = ['nadph'], product = ['23dih3mebut'], \n",
    "                waste = ['nadp'], k_bf = k_bf , k_uf = k_uf)\n",
    "\n",
    "    E13_IlvD = Enzyme(enzyme_name ='IlvD' , substrate = ['23dih3mebut'], fuel = [], product = ['3me2oxo'], \n",
    "                waste = [],k_bf = k_bf , k_uf = k_uf)\n",
    "\n",
    "    E14_kivD = Enzyme(enzyme_name ='kivD' , substrate = ['3me2oxo'], fuel = [], product = ['isobutanal'], \n",
    "                waste = [], k_bf = k_bf , k_uf = k_uf) # irreversible\n",
    "\n",
    "    E15_yahk = Enzyme(enzyme_name = 'yahk', substrate = ['isobutanal'], fuel = ['nadph'], product = ['isobutanol'],\n",
    "                      waste = ['nadp'], k_bf = k_bf , k_uf = k_uf)\n",
    "    \n",
    "    # Enzyme for ATP Leak\n",
    "    E16_atpase = Enzyme(enzyme_name = 'atpase', substrate = [], fuel = ['atp'], product = [],\n",
    "                        waste = ['adp', 'pi'], k_bf = k_bf, k_uf = k_uf, k_cat = k_cat_atp)"
   ]
  },
  {
   "cell_type": "code",
   "execution_count": null,
   "metadata": {},
   "outputs": [],
   "source": [
    "# or something like this from SBTools_BioCRNpyler lecture 2\n",
    "from biocrnpyler.chemical_reaction_network import Species, Reaction, ChemicalReactionNetwork\n",
    "delta = 0.1 \n",
    "K_X = 5\n",
    "K_S = 20\n",
    "S = Species(name = \"S\")\n",
    "X = Species(name = \"X\", material_type = \"protein\")\n",
    "rxn1 = Reaction([], [X], k = K_X, \n",
    "                propensity_type = \"hillpositive\", \n",
    "                propensity_params = {\"s1\":str(S), \"K\":K_S, \"n\":2})\n",
    "\n",
    "rxn2 = Reaction([X], [], k = delta)\n",
    "CRN_toy_model = ChemicalReactionNetwork(species = [S,X], reactions = [rxn1, rxn2])\n",
    "#Species, reactions, and CRNs can all be directly printed\n",
    "print('CRN for the toy model with non-massaction propensities:\\n',CRN_toy_model)"
   ]
  },
  {
   "cell_type": "code",
   "execution_count": null,
   "metadata": {},
   "outputs": [],
   "source": [
    "class FuelMichaelisMenten(Mechanism):\n",
    "    def __init__(self, name, type = 'catalysis', **keywords):\n",
    "        \n",
    "        Mechanism.__init__(self = self, name = name, mechanism_type = type, **keywords)\n",
    "\n",
    "    def update_species(self, enzyme, fuel_list, substrate_list, product_list, waste_list): \n",
    "        \n",
    "        self.enzyme = check_type(enzyme, 'enzyme')\n",
    "        \n",
    "        species = [self.enzyme]\n",
    "        comp1_list = [self.enzyme]\n",
    "        comp2_list = [self.enzyme]\n",
    "        \n",
    "        for f in fuel_list:\n",
    "            species.append(f)\n",
    "            comp1_list.append(f)\n",
    "\n",
    "        for s in substrate_list:\n",
    "            species.append(s)\n",
    "            comp1_list.append(s)\n",
    "            \n",
    "        for p in product_list:\n",
    "            species.append(p)\n",
    "            comp2_list.append(p)\n",
    "            \n",
    "        for w in waste_list:\n",
    "            species.append(w)\n",
    "            comp2_list.append(w)\n",
    "               \n",
    "        \n",
    "        species += [ComplexSpecies(comp1_list)]\n",
    "        species += [ComplexSpecies(comp2_list)]\n",
    "        return species\n",
    "    \n",
    "    def update_reactions(self, enzyme, fuel_list, substrate_list, product_list, waste_list, k_bf, k_uf, k_cat, component = None,\n",
    "                        part_id = None): \n",
    "        \n",
    "        # Reverse binding rates\n",
    "        k_br = 0.1*k_bf\n",
    "        k_ur = 0.1*k_uf\n",
    "\n",
    "        self.enzyme = check_type(enzyme, 'enzyme')\n",
    "        \n",
    "        # Define input lists\n",
    "        comp1_list = [self.enzyme]\n",
    "        comp2_list = [self.enzyme]\n",
    "        \n",
    "        for f in fuel_list:\n",
    "            comp1_list.append(f)\n",
    "            \n",
    "        for s in substrate_list:\n",
    "            comp1_list.append(s)\n",
    "\n",
    "        for p in product_list:\n",
    "            comp2_list.append(p)\n",
    "            \n",
    "        for w in waste_list:\n",
    "            comp2_list.append(w)\n",
    "        \n",
    "        # Define Complexes\n",
    "        comp1 = ComplexSpecies(comp1_list)\n",
    "        comp2 = ComplexSpecies(comp2_list)\n",
    "        \n",
    "        # Define Reactions\n",
    "        binding_rxn = Reaction(inputs = comp1_list, outputs=[comp1], k = k_bf, k_rev = k_br)\n",
    "        cat_rxn = Reaction(inputs = [comp1], outputs = [comp2], k = k_cat)\n",
    "        unbinding_rxn = Reaction(inputs = [comp2], outputs = comp2_list, k=k_uf, k_rev = k_ur)\n",
    "        \n",
    "        return [binding_rxn, cat_rxn, unbinding_rxn]"
   ]
  }
 ],
 "metadata": {
  "kernelspec": {
   "display_name": "Python 3",
   "language": "python",
   "name": "python3"
  },
  "language_info": {
   "codemirror_mode": {
    "name": "ipython",
    "version": 3
   },
   "file_extension": ".py",
   "mimetype": "text/x-python",
   "name": "python",
   "nbconvert_exporter": "python",
   "pygments_lexer": "ipython3",
   "version": "3.7.7"
  }
 },
 "nbformat": 4,
 "nbformat_minor": 4
}
