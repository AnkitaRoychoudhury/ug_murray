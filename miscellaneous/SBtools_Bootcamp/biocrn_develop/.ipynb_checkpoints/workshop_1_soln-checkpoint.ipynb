{
 "cells": [
  {
   "cell_type": "code",
   "execution_count": 1,
   "metadata": {},
   "outputs": [],
   "source": [
    "# from biocrnpyler import Mechanism\n",
    "# from biocrnpyler import Component\n",
    "from biocrnpyler import *"
   ]
  },
  {
   "cell_type": "markdown",
   "metadata": {},
   "source": [
    "## Biocrnpyler development day Workshop 1"
   ]
  },
  {
   "cell_type": "markdown",
   "metadata": {},
   "source": [
    "Mechanism to model ActivatedTranscription with hill function (from PositiveHillTranscription under dna_assembly_promoter.py)"
   ]
  },
  {
   "cell_type": "code",
   "execution_count": 2,
   "metadata": {},
   "outputs": [],
   "source": [
    "class PositiveHillTranscription(Mechanism):\n",
    "    #Set the name and mechanism_type\n",
    "    def __init__(self, name=\"positivehill_transcription\", mechanism_type=\"transcription\"):\n",
    "        Mechanism.__init__(self, name=name, mechanism_type=mechanism_type)\n",
    "\n",
    "    #Overwrite update_species\n",
    "    def update_species(self, dna, regulator, transcript = None, **keywords):\n",
    "\n",
    "        if transcript is None: #Species names can be automatically created\n",
    "            transcript = Species(dna.name, material_type = \"rna\")\n",
    "\n",
    "        return [dna, transcript, regulator] #it is best to return all species that will be involved in the reactions\n",
    "\n",
    "\n",
    "    #Overwrite update_reactions\n",
    "    #This always requires the inputs component and part_id to find the relevant parameters\n",
    "    def update_reactions(self, dna, regulator, component, part_id, transcript = None, **keywords):\n",
    "\n",
    "        if transcript is None: #Species names should be automatically created the same here as above\n",
    "            transcript = Species(dna.name, material_type = \"rna\")\n",
    "\n",
    "        ktx = component.get_parameter(\"k\", part_id = part_id, mechanism = self)\n",
    "        n = component.get_parameter(\"n\", part_id = part_id, mechanism = self)\n",
    "        K = component.get_parameter(\"K\", part_id = part_id, mechanism = self)\n",
    "        kleak = component.get_parameter(\"kleak\", part_id = part_id, mechanism = self)\n",
    "\n",
    "        params = {\"k\":ktx, \"n\":n, \"K\":K, \"s1\":regulator, \"d\":dna}\n",
    "\n",
    "        reaction = Reaction(inputs = [dna], outputs = [dna, transcript],\n",
    "                            propensity_type = \"proportionalhillpositive\", propensity_params = params)\n",
    "\n",
    "        reaction_leak = Reaction(inputs = [dna], outputs = [dna, transcript], k = kleak)\n",
    "\n",
    "        #In this case, we just return one reaction\n",
    "        return [reaction, reaction_leak]"
   ]
  },
  {
   "cell_type": "markdown",
   "metadata": {},
   "source": [
    "Component ActivatablePromoter which uses ActivatedTranscription Mechanism (Activatable Promoter under dna_assembly_promoter.py)"
   ]
  },
  {
   "cell_type": "code",
   "execution_count": 3,
   "metadata": {},
   "outputs": [],
   "source": [
    "class ActivatablePromotor(Promoter):\n",
    "    def __init__(self, name, activator, transcript = None, **keywords):\n",
    "        #Set the Regulator\n",
    "        #Component.set_species(species, material_type = None, attributes = None)\n",
    "        # is a helper function that allows the input to be a Species, string, or Component.\n",
    "        self.activator = self.set_species(activator) \n",
    "        \n",
    "        #Mechanisms are inherited from the Mixture unless set specifically in self.default_mechanisms.\n",
    "        custom_mechanisms = {\"transcription\": PositiveHillTranscription()}\n",
    "        \n",
    "        #Always call the superclass __init__() with **keywords passed through\n",
    "        Promoter.__init__(self, name = name, transcript = transcript, mechanisms = custom_mechanisms,**keywords)\n",
    "\n",
    "    def update_species(self, **keywords):\n",
    "        #Mechanisms are stored in an automatically created dictionary: mechanism_type --> Mechanism Instance.\n",
    "        mech_tx = self.mechanisms[\"transcription\"]\n",
    "        \n",
    "        species = [] #A list of species must be returned\n",
    "        species += mech_tx.update_species(dna = self.assembly.dna, transcript = self.transcript, regulator = self.activator, part_id = self.name+\"_\"+self.activator.name, component = self)\n",
    "        \n",
    "        return species\n",
    "    \n",
    "    def update_reactions(self, **keywords):\n",
    "        mech_tx = self.mechanisms[\"transcription\"]\n",
    "        \n",
    "        reactions = [] #a list of reactions must be returned\n",
    "        reactions += mech_tx.update_reactions(dna = self.assembly.dna, transcript = self.transcript, regulator = self.activator, \n",
    "                                             component = self, part_id = self.name+\"_\"+self.activator.name, **keywords) #\"ActivatablePromoter_\"+\n",
    "        return reactions\n",
    "    "
   ]
  },
  {
   "cell_type": "markdown",
   "metadata": {},
   "source": [
    "Place into a Mixture and demonstrate that it works as expected."
   ]
  },
  {
   "cell_type": "code",
   "execution_count": 4,
   "metadata": {},
   "outputs": [],
   "source": [
    "from biocrnpyler import *\n",
    "\n",
    "#A Model for Gene Expression without any Machinery (eg Ribosomes, Polymerases, etc.)\n",
    "class DilutionMixture(Mixture):\n",
    "    def __init__(self, name=\"\", **keywords):\n",
    "        \n",
    "        simple_transcription = SimpleTranscription() #Transcription will not involve machinery\n",
    "        simple_translation = SimpleTranslation()\n",
    "        \n",
    "        default_mechanisms = {\n",
    "            \"transcription\": simple_transcription, #This will be overwritten by the NegativeHillPromotor\n",
    "            \"translation\": simple_translation\n",
    "        }\n",
    "    \n",
    "        #By Default Species are diluted S-->0 Unless:\n",
    "        # They are of type 'dna'\n",
    "        # They have the attribute 'machinery'\n",
    "        dilution_mechanism = Dilution(filter_dict = {\"dna\":False}, default_on = True)\n",
    "        dilution_mrna = Dilution(name = \"rna_degredation\", filter_dict = {\"rna\":True}, default_on = False)\n",
    "\n",
    "        #Add this mechanism to a dictionary which is passed into the Mixture txtl.TxTlExtract\n",
    "        global_mechanisms = {\"dilution\":dilution_mechanism, \"rna_degredation\":dilution_mrna}\n",
    "        \n",
    "        #Always call the superclass __init__ with **keywords\n",
    "        Mixture.__init__(self, name=name, default_mechanisms=default_mechanisms, global_mechanisms = global_mechanisms, **keywords)"
   ]
  },
  {
   "cell_type": "markdown",
   "metadata": {},
   "source": [
    "Simulate all together"
   ]
  },
  {
   "cell_type": "code",
   "execution_count": 5,
   "metadata": {},
   "outputs": [
    {
     "name": "stderr",
     "output_type": "stream",
     "text": [
      "/Users/ankitaroychoudhury/opt/anaconda3/lib/python3.7/site-packages/biocrnpyler-0.2.1-py3.7.egg/biocrnpyler/chemical_reaction_network.py:888: UserWarning: Reaction protein_LacI -->         massaction: k_f(protein_LacI)=0.001*protein_LacI may be duplicated in CRN definitions. Duplicates have NOT been removed.\n",
      "/Users/ankitaroychoudhury/opt/anaconda3/lib/python3.7/site-packages/html5lib/_trie/_base.py:3: DeprecationWarning: Using or importing the ABCs from 'collections' instead of from 'collections.abc' is deprecated since Python 3.3,and in 3.9 it will stop working\n",
      "  from collections import Mapping\n"
     ]
    },
    {
     "name": "stdout",
     "output_type": "stream",
     "text": [
      "Species = protein_LacI, protein_RFP, dna_lacI_rfp, rna_lacI_rfp, rna_pConst, dna_pConst\n",
      "Reactions = [\n",
      "\tdna_lacI_rfp --> dna_lacI_rfp + rna_lacI_rfp        proportionalhillpositive: k(protein_LacI, dna_lacI_rfp)=0.01875*dna_lacI_rfp*protein_LacI^2.0/(20.0+protein_LacI^2.0)\n",
      "\tdna_lacI_rfp --> dna_lacI_rfp + rna_lacI_rfp        massaction: k_f(dna_lacI_rfp)=1e-06*dna_lacI_rfp\n",
      "\trna_lacI_rfp --> rna_lacI_rfp + protein_RFP        massaction: k_f(rna_lacI_rfp)=3.0*rna_lacI_rfp\n",
      "\tdna_pConst --> dna_pConst + rna_pConst        massaction: k_f(dna_pConst)=0.1875*dna_pConst\n",
      "\trna_pConst --> rna_pConst + protein_LacI        massaction: k_f(rna_pConst)=3.0*rna_pConst\n",
      "\tprotein_LacI -->         massaction: k_f(protein_LacI)=0.001*protein_LacI\n",
      "\tprotein_RFP -->         massaction: k_f(protein_RFP)=0.001*protein_RFP\n",
      "\trna_lacI_rfp -->         massaction: k_f(rna_lacI_rfp)=0.001*rna_lacI_rfp\n",
      "\tprotein_LacI -->         massaction: k_f(protein_LacI)=0.001*protein_LacI\n",
      "\trna_pConst -->         massaction: k_f(rna_pConst)=0.001*rna_pConst\n",
      "\trna_lacI_rfp -->         massaction: k_f(rna_lacI_rfp)=0.002*rna_lacI_rfp\n",
      "\trna_pConst -->         massaction: k_f(rna_pConst)=0.002*rna_pConst\n",
      "]\n"
     ]
    },
    {
     "name": "stderr",
     "output_type": "stream",
     "text": [
      "/Users/ankitaroychoudhury/opt/anaconda3/lib/python3.7/importlib/_bootstrap.py:219: RuntimeWarning: numpy.ufunc size changed, may indicate binary incompatibility. Expected 192 from C header, got 216 from PyObject\n",
      "  return f(*args, **kwds)\n"
     ]
    },
    {
     "name": "stdout",
     "output_type": "stream",
     "text": [
      "{'dna_pConst': 10, 'dna_lacI_rfp': 2}\n"
     ]
    },
    {
     "data": {
      "image/png": "[encoded data removed]",
      "text/plain": [
       "<Figure size 432x288 with 1 Axes>"
      ]
     },
     "metadata": {
      "needs_background": "light"
     },
     "output_type": "display_data"
    }
   ],
   "source": [
    "# Adding it all together\n",
    "const_lacI = DNAassembly(name = \"pConst\", promoter = \"P\", rbs = \"BCD2\", protein = \"LacI\")\n",
    "\n",
    "LacI = Species(\"LacI\", material_type = \"protein\")\n",
    "pLac = ActivatablePromotor(\"pLac\", transcript = \"TRFP\", activator = LacI)\n",
    "\n",
    "placI_rfp = DNAassembly(name = \"lacI_rfp\", promoter = pLac, rbs = \"BCD2\", protein = \"RFP\")\n",
    "\n",
    "DM = DilutionMixture(name = \"e coli\", components = [placI_rfp, const_lacI], parameter_file = \"pre_parameters.txt\")\n",
    "repr(DM)\n",
    "\n",
    "CRN = DM.compile_crn()\n",
    "\n",
    "print(CRN)\n",
    "\n",
    "timepoints = np.linspace(0, 200, 1000)\n",
    "import pylab as plt\n",
    "color_list = [\"red\", \"purple\", \"blue\"]\n",
    "for ind, pconst_lacI0 in enumerate([0, 1, 10]):\n",
    "    x0_dict = {repr(const_lacI.get_species()): pconst_lacI0, repr(placI_rfp.get_species()): 2}\n",
    "    \n",
    "    R = CRN.simulate_with_bioscrape(timepoints, initial_condition_dict = x0_dict, stochastic = False)\n",
    "\n",
    "    plt.plot(timepoints, R[str(LacI)], \":\", label = \"LacI [pConstLacI] = \"+str(pconst_lacI0), color = color_list[ind])\n",
    "    plt.plot(timepoints, R[\"protein_RFP\"], label = \"RFP [pConstLacI] = \"+str(pconst_lacI0), color = color_list[ind])\n",
    "print(x0_dict) \n",
    "plt.legend()\n",
    "plt.yscale('log')"
   ]
  }
 ],
 "metadata": {
  "kernelspec": {
   "display_name": "Python 3",
   "language": "python",
   "name": "python3"
  },
  "language_info": {
   "codemirror_mode": {
    "name": "ipython",
    "version": 3
   },
   "file_extension": ".py",
   "mimetype": "text/x-python",
   "name": "python",
   "nbconvert_exporter": "python",
   "pygments_lexer": "ipython3",
   "version": "3.7.7"
  }
 },
 "nbformat": 4,
 "nbformat_minor": 4
}
