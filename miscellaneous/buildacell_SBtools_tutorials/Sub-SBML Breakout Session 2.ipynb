{
 "cells": [
  {
   "cell_type": "markdown",
   "metadata": {
    "slideshow": {
     "slide_type": "slide"
    }
   },
   "source": [
    "# Sub-SBML Breakout Session #2\n",
    "\n",
    "## _Ayush Pandey_\n"
   ]
  },
  {
   "cell_type": "markdown",
   "metadata": {},
   "source": [
    "Problem:\n",
    "\n",
    "Implement an advanced diffusion model (two-step or three-step) and use it as a membrane model for a System of your choice."
   ]
  },
  {
   "cell_type": "code",
   "execution_count": 2,
   "metadata": {},
   "outputs": [
    {
     "name": "stdout",
     "output_type": "stream",
     "text": [
      "Model written to a SBML file successfully\n"
     ]
    }
   ],
   "source": [
    "# Sketch solution\n",
    "\n",
    "# Create a two-step diffusion model with the following reactions:\n",
    "# A_external + M <-> complex_M_A, kb1, kd1\n",
    "# complex_M_A --> complex_M_A_activated, irreversible, k_mature\n",
    "# complex_M_A_activated <-> A_internal + M, kb2, kd2\n",
    "\n",
    "\n",
    "from subsbml import createNewSubsystem, SimpleModel, SimpleReaction\n",
    "import libsbml\n",
    "IPTG_mb_ss = createNewSubsystem()\n",
    "model = IPTG_mb_ss.createNewModel('A_membrane_two_step','second','mole','substance')\n",
    "\n",
    "IPTG_mb = SimpleModel(model)\n",
    "\n",
    "per_second = IPTG_mb.createNewUnitDefinition('per_second',libsbml.UNIT_KIND_SECOND,-1,0,1)\n",
    "\n",
    "conc_per_time = IPTG_mb.createNewUnitDefinition('conc_per_time',[libsbml.UNIT_KIND_SECOND, \n",
    "                                                                 libsbml.UNIT_KIND_LITRE, libsbml.UNIT_KIND_MOLE],\n",
    "                                                [-1, 1, -1],0,1)\n",
    "substance = IPTG_mb.createNewUnitDefinition('substance',libsbml.UNIT_KIND_DIMENSIONLESS, 1, 0, 1)\n",
    "\n",
    "IPTG_mb.createNewCompartment('internal','internal',1e-6,'litre',True)\n",
    "IPTG_mb.createNewCompartment('external','external',1e-6,'litre',True)\n",
    "\n",
    "\n",
    "IPTG_mb.createNewSpecies( 'A','external',0,False,'substance')\n",
    "IPTG_mb.createNewSpecies( 'A','internal',0,False,'substance')\n",
    "IPTG_mb.createNewSpecies( 'M','internal',1,False,'substance')\n",
    "IPTG_mb.createNewSpecies( 'complex_M_A','internal',0,False,'substance')\n",
    "IPTG_mb.createNewSpecies( 'complex_M_A_activated','internal',0,False,'substance')\n",
    "\n",
    "IPTG_mb.createNewParameter( 'kb1',0.01,False,'conc_per_time')\n",
    "IPTG_mb.createNewParameter( 'kd1',0.2,False,'per_second')\n",
    "\n",
    "IPTG_mb.createNewParameter( 'kb2',0.02,False,'conc_per_time')\n",
    "IPTG_mb.createNewParameter( 'kd2',0.4,False,'per_second')\n",
    "\n",
    "IPTG_mb.createNewParameter( 'k_mature',0.1,False,'per_second')\n",
    "\n",
    "model = IPTG_mb_ss.getSBMLDocument().getModel()\n",
    "\n",
    "r1 = SimpleReaction(model.createReaction())\n",
    "r1.setId('r1')\n",
    "r1.setReversible(True)\n",
    "r1.createNewReactant('A',False,1)\n",
    "r1.createNewReactant('M', False, 1)\n",
    "r1.createNewProduct('complex_M_A', False, 1)\n",
    "r1.createRate('kb * A * M - kd * complex_M_A')\n",
    "\n",
    "# Finish writing all reactions\n",
    "\n",
    "\n",
    "\n",
    "# Write to SBML file \n",
    "_ = IPTG_mb_ss.writeSBML('membrane_A_two_step.xml')\n",
    "print('Model written to a SBML file successfully')"
   ]
  },
  {
   "cell_type": "markdown",
   "metadata": {},
   "source": [
    "Now, use this membrane model in the code from the overview notebook"
   ]
  },
  {
   "cell_type": "code",
   "execution_count": null,
   "metadata": {},
   "outputs": [],
   "source": [
    "# Create a more detailed IPTG membrane where IPTG binds to an intermediate transporter protein, forms a complex\n",
    "# then transports out of the cell system to the external environment \n",
    "\n",
    "mb = createSubsystem('membrane_A_two_step.xml', membrane = True)\n",
    "\n",
    "# Define ss1, ss2, mb\n",
    "cell_3 =  System('cell_two_step',ListOfInternalSubsystems = [ss1],\n",
    "                 ListOfExternalSubsystems = [ss2],\n",
    "                 ListOfMembraneSubsystems = [mb])\n",
    "\n",
    "cell_3_model = cell_3.getModel()\n",
    "cell_3_model.setSpeciesAmount('IPTG', 1e4, compartment = 'cell_3_external')\n",
    "cell_3_model.writeSBML('cell_3_model.xml')\n",
    "\n",
    "combined_model = combineSystems([cell_1, cell_2, cell_3])"
   ]
  },
  {
   "cell_type": "code",
   "execution_count": null,
   "metadata": {},
   "outputs": [],
   "source": [
    "# Run simulation code"
   ]
  }
 ],
 "metadata": {
  "kernelspec": {
   "display_name": "Python 3",
   "language": "python",
   "name": "python3"
  },
  "language_info": {
   "codemirror_mode": {
    "name": "ipython",
    "version": 3
   },
   "file_extension": ".py",
   "mimetype": "text/x-python",
   "name": "python",
   "nbconvert_exporter": "python",
   "pygments_lexer": "ipython3",
   "version": "3.7.7"
  }
 },
 "nbformat": 4,
 "nbformat_minor": 4
}
