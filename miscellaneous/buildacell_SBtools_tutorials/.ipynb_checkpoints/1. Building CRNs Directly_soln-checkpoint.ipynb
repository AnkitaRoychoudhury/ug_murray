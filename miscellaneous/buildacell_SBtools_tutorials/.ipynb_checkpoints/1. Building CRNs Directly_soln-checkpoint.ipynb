{
 "cells": [
  {
   "cell_type": "markdown",
   "metadata": {
    "slideshow": {
     "slide_type": "slide"
    }
   },
   "source": [
    "# Building Chemical Reaction Networks (CRNs) Directly with BioCRNpyler\n",
    "\n",
    "**Overview:**  This tutorial shows how to use [BioCRNpyler](https://github.com/BuildACell/BioCRNPyler) to represent simple CRNs\n",
    "\n",
    "## What is a CRN?\n",
    "A CRN is a widely established model of chemistry and biochemistry.\n",
    "* A set of species $S$\n",
    "* A set of reactions $R$ interconvert species $I_r$ to $O_r$\n",
    "\n",
    "\\begin{align}\n",
    "\\\\\n",
    "I \\xrightarrow[]{\\rho(s)} O\n",
    "\\\\\n",
    "\\end{align}\n",
    "\n",
    " * $I$ and $O$ are multisets of species $S$. \n",
    " * $\\rho(s): S \\to \\mathbb{R}$ is a function that determines how fast the reaction occurs.\n"
   ]
  },
  {
   "cell_type": "code",
   "execution_count": 1,
   "metadata": {
    "slideshow": {
     "slide_type": "slide"
    }
   },
   "outputs": [],
   "source": [
    "#Import everything from biocrnpyler\n",
    "from biocrnpyler import *\n",
    "#from biocrnpyler.species import Complex\n",
    "#from bioscrape import *"
   ]
  },
  {
   "cell_type": "raw",
   "metadata": {},
   "source": [
    "# #watermark\n",
    "# %reload_ext watermark\n",
    "# %watermark -v -p biocrnpyler"
   ]
  },
  {
   "cell_type": "markdown",
   "metadata": {
    "slideshow": {
     "slide_type": "slide"
    }
   },
   "source": [
    "## Creating Species:\n",
    "Species are one of the central Objects used by BioCRNpyler. They represent the species of a CRN. Species are specified by their name (required) material_type (optional) , and attributes (optional) and can be displayed as strings. The combination of name, material type, and attributes uniquely identify each Species."
   ]
  },
  {
   "cell_type": "code",
   "execution_count": 2,
   "metadata": {
    "slideshow": {
     "slide_type": "-"
    }
   },
   "outputs": [
    {
     "name": "stdout",
     "output_type": "stream",
     "text": [
      "m1_A_attribute1_attribute2\n"
     ]
    }
   ],
   "source": [
    "A = Species(\"A\", material_type = \"m1\", attributes = [\"attribute1\", \"attribute2\"])\n",
    "print(A)"
   ]
  },
  {
   "cell_type": "markdown",
   "metadata": {
    "slideshow": {
     "slide_type": "fragment"
    }
   },
   "source": [
    "A two species with the same name but different material types or attributes are different!"
   ]
  },
  {
   "cell_type": "code",
   "execution_count": 3,
   "metadata": {
    "slideshow": {
     "slide_type": "-"
    }
   },
   "outputs": [
    {
     "name": "stdout",
     "output_type": "stream",
     "text": [
      "A\n",
      "False\n"
     ]
    }
   ],
   "source": [
    "A2 = Species(\"A\") #material_type and name are optional\n",
    "print(A2)\n",
    "print(A == A2)"
   ]
  },
  {
   "cell_type": "markdown",
   "metadata": {
    "slideshow": {
     "slide_type": "subslide"
    }
   },
   "source": [
    "# Creating Complexes of Species\n",
    "Complexes are a subclass of Species useful for representing sets of two or more species that have bound together. Besides keeping track of their internal Species, Complexes behave equivalently to Species."
   ]
  },
  {
   "cell_type": "code",
   "execution_count": 4,
   "metadata": {
    "slideshow": {
     "slide_type": "-"
    }
   },
   "outputs": [
    {
     "name": "stdout",
     "output_type": "stream",
     "text": [
      "Complex([A, B]): complex_A_B_\n",
      "Complex([B, A]): complex_A_B_\n",
      "C1 == C2? True\n"
     ]
    }
   ],
   "source": [
    "A = Species(\"A\")\n",
    "B = Species(\"B\")\n",
    "\n",
    "#print(type(A) == Species)\n",
    "#Order does not matter for Complexes by default\n",
    "C1 = Complex([A, B])\n",
    "print(\"Complex([A, B]):\", C1)\n",
    "\n",
    "C2 = Complex([B, A])\n",
    "print(\"Complex([B, A]):\", C2)\n",
    "\n",
    "print(\"C1 == C2?\", C1 == C2)"
   ]
  },
  {
   "cell_type": "markdown",
   "metadata": {
    "slideshow": {
     "slide_type": "subslide"
    }
   },
   "source": [
    "# You can also make Ordered Complexes\n",
    "These are like Complexes, but the order matters."
   ]
  },
  {
   "cell_type": "code",
   "execution_count": 5,
   "metadata": {},
   "outputs": [
    {
     "name": "stdout",
     "output_type": "stream",
     "text": [
      "Complex([A, B]): ordered_complex_A_B_\n",
      "Complex([B, A]): ordered_complex_B_A_\n",
      "C1 == C2? False\n"
     ]
    }
   ],
   "source": [
    "#To make order matter, simply call the Complex function with order = True\n",
    "OC1 = Complex([A, B], ordered = True)\n",
    "print(\"Complex([A, B]):\", OC1)\n",
    "\n",
    "OC2 = Complex([B, A], ordered = True)\n",
    "print(\"Complex([B, A]):\", OC2)\n",
    "\n",
    "print(\"C1 == C2?\", OC1 == OC2)"
   ]
  },
  {
   "cell_type": "markdown",
   "metadata": {
    "slideshow": {
     "slide_type": "slide"
    }
   },
   "source": [
    "# Creating Massaction Reactions\n",
    "Use the Reaction.from_massaction(Input_Species, Output_Species, k_forward) command to create a reaction."
   ]
  },
  {
   "cell_type": "code",
   "execution_count": 6,
   "metadata": {},
   "outputs": [
    {
     "name": "stdout",
     "output_type": "stream",
     "text": [
      "2A --> B\n",
      "2A --> B\n",
      " Kf=k_forward * A^2\n",
      "  k_forward=1.0\n",
      "\n"
     ]
    }
   ],
   "source": [
    "#Create a reaction to 2A --> B\n",
    "R1 = Reaction.from_massaction([A, A], [B], k_forward = 1.0)\n",
    "\n",
    "#You can print a reaction in two ways\n",
    "print(R1) #Prints a simple representation of the reaction\n",
    "print(R1.pretty_print()) #Prints a much more detailed representation of the reaction"
   ]
  },
  {
   "cell_type": "markdown",
   "metadata": {
    "slideshow": {
     "slide_type": "subslide"
    }
   },
   "source": [
    "# Creating Reversible Massaction Reactions\n",
    "\n",
    "Use the Reaction.from_massaction(Input_Species, Output_Species, k_forward, k_reverse) command to create a reaction."
   ]
  },
  {
   "cell_type": "code",
   "execution_count": 7,
   "metadata": {},
   "outputs": [
    {
     "name": "stdout",
     "output_type": "stream",
     "text": [
      "A+B <--> complex[A:B]\n",
      "A+B <--> complex[A:B]\n",
      " Kf=k_forward * A * B\n",
      " Kr=k_reverse * complex_A_B_\n",
      "  k_forward=10.0\n",
      "  k_reverse=2.0\n",
      "\n"
     ]
    }
   ],
   "source": [
    "#Create a reversible reaction to represent binding and unbinding of A and B to form C1\n",
    "R2 = Reaction.from_massaction([A, B], [C1], k_forward = 10.0, k_reverse = 2.0)\n",
    "\n",
    "#You can print a reaction in two ways\n",
    "print(R2) #Prints a simple representation of the reaction\n",
    "print(R2.pretty_print()) #Prints a much more detailed representation of the reaction"
   ]
  },
  {
   "cell_type": "markdown",
   "metadata": {},
   "source": [
    "# Creating a Chemical Reaction Network\n",
    "Use ChemicalReactionNetwork(species, reactions) which takes a list of Species and list of Reactions as inputs."
   ]
  },
  {
   "cell_type": "code",
   "execution_count": 8,
   "metadata": {
    "slideshow": {
     "slide_type": "slide"
    }
   },
   "outputs": [
    {
     "name": "stdout",
     "output_type": "stream",
     "text": [
      "Species (3) = {0. A init_conc = 0, 1. B init_conc = 0, 2. complex[A:B] init_conc = 0}\n",
      "\n",
      "Reactions (2) = [\n",
      "0. 2A --> B\n",
      " Kf=k_forward * A^2\n",
      "  k_forward=1.0\n",
      "\n",
      "1. A+B <--> complex[A:B]\n",
      " Kf=k_forward * A * B\n",
      " Kr=k_reverse * complex_A_B_\n",
      "  k_forward=10.0\n",
      "  k_reverse=2.0\n",
      "\n",
      "]\n"
     ]
    }
   ],
   "source": [
    "CRN = ChemicalReactionNetwork(species = [A, B, C1], reactions = [R1, R2])\n",
    "\n",
    "#print the CRN - you can toggle if you want to see there rates\n",
    "print(CRN.pretty_print(show_rates = True))"
   ]
  },
  {
   "cell_type": "markdown",
   "metadata": {
    "slideshow": {
     "slide_type": "slide"
    }
   },
   "source": [
    "## CRNs can be saved as SBML and simulated\n",
    "\n",
    "To save a CRN as SBML:\n",
    "\n",
    "    CRN.write_sbml_file(\"file_name.xml\")\n",
    "\n",
    "To simulate a CRN with biosrape:\n",
    "\n",
    "    Results, Model = CRN_expression.simulate_with_bioscrape(timepoints, initial_condition_dict = x0)\n",
    "\n",
    "Where x0 is a dictionary: x0 = {str(species_name):initial_value}"
   ]
  },
  {
   "cell_type": "code",
   "execution_count": 9,
   "metadata": {
    "slideshow": {
     "slide_type": "subslide"
    }
   },
   "outputs": [
    {
     "data": {
      "image/png": "[encoded data removed]",
      "text/plain": [
       "<Figure size 432x288 with 1 Axes>"
      ]
     },
     "metadata": {
      "needs_background": "light"
     },
     "output_type": "display_data"
    }
   ],
   "source": [
    "%matplotlib inline\n",
    "\n",
    "#Saving and simulating a CRN\n",
    "CRN.write_sbml_file(\"crn1.xml\")\n",
    "\n",
    "#Simulating a CRN with Bioscrape\n",
    "try:\n",
    "    import bioscrape\n",
    "    import numpy as np\n",
    "    import pylab as plt\n",
    "    import pandas as pd\n",
    "    \n",
    "    #Initial conditions can be set with a dictionary:\n",
    "    x0 = {str(A):10}\n",
    "    timepoints = np.linspace(0, 5, 100)#Timepoints to simulate over\n",
    "    \n",
    "    #This function can also take a filename keyword to save the file at the same time\n",
    "    R = CRN.simulate_with_bioscrape_via_sbml(timepoints = timepoints, initial_condition_dict = x0)\n",
    "\n",
    "    #Check to ensure simulation worked\n",
    "    #Results are in a Pandas Dictionary and can be accessed via string-names of species\n",
    "    plt.plot(R['time'], R[str(A)], label = str(A))\n",
    "    plt.plot(R['time'], R[str(B)], label = str(B))\n",
    "    plt.plot(R['time'], R[str(C1)], label = str(C1))\n",
    "    plt.legend()\n",
    "    \n",
    "except ModuleNotFoundError:\n",
    "    print(\"Plotting Modules not installed.\")"
   ]
  },
  {
   "cell_type": "markdown",
   "metadata": {
    "slideshow": {
     "slide_type": "slide"
    }
   },
   "source": [
    "# Non-massaction propensities in BioCRNpyler\n",
    "By default, BioCRNpyler assumes that propensities are massaction with only one parameter, the rate constant $k$. However, additional propensity types are also supported. These reactions are created in two steps: first a Propensity of the appropriate type is made, then Reaction is made using that Propensity. Examples are shown below:"
   ]
  },
  {
   "cell_type": "markdown",
   "metadata": {
    "slideshow": {
     "slide_type": "subslide"
    }
   },
   "source": [
    "## HillPositive: $\\rho(s) = k \\frac{(\\frac{s}{K})^n}{1+(\\frac{s}{K})^n}$\n",
    "Requried parameters: rate constant \"k\", offset \"K\", hill coefficient \"n\", hill species \"s1\"."
   ]
  },
  {
   "cell_type": "code",
   "execution_count": 10,
   "metadata": {},
   "outputs": [
    {
     "name": "stdout",
     "output_type": "stream",
     "text": [
      "A --> B\n",
      " Kf = k (Regulator/K)^n / (1+(Regulator/K)^n)\n",
      "  k=1\n",
      "  K=5\n",
      "  n=2\n",
      "\n"
     ]
    }
   ],
   "source": [
    "#create the propensity\n",
    "R = Species(\"Regulator\")\n",
    "hill_pos  = HillPositive(k=1, s1=R, K=5, n=2)\n",
    "\n",
    "#create the reaction\n",
    "r_hill_pos = Reaction([A], [B], propensity_type = hill_pos)\n",
    "\n",
    "#print the reaction\n",
    "print(r_hill_pos.pretty_print())"
   ]
  },
  {
   "cell_type": "markdown",
   "metadata": {
    "slideshow": {
     "slide_type": "subslide"
    }
   },
   "source": [
    "## HillNegative: $\\rho(s) = k \\frac{1}{1+(\\frac{s}{K})^n}$\n",
    "Requried parameters: rate constant \"k\", offset \"K\", hill coefficient \"n\", hill species \"s1\"."
   ]
  },
  {
   "cell_type": "code",
   "execution_count": 11,
   "metadata": {},
   "outputs": [
    {
     "name": "stdout",
     "output_type": "stream",
     "text": [
      "A --> B\n",
      " Kf = k (Regulator/K)^n / (1+(Regulator/K)^n)\n",
      "  k=1\n",
      "  K=5\n",
      "  n=2\n",
      "\n"
     ]
    }
   ],
   "source": [
    "#create the propensity\n",
    "R = Species(\"Regulator\")\n",
    "hill_neg  = HillPositive(k=1, s1=R, K=5, n=2)\n",
    "\n",
    "#create the reaction\n",
    "r_hill_neg = Reaction([A], [B], propensity_type = hill_neg)\n",
    "\n",
    "#print the reaction\n",
    "print(r_hill_neg.pretty_print())"
   ]
  },
  {
   "cell_type": "markdown",
   "metadata": {
    "slideshow": {
     "slide_type": "subslide"
    }
   },
   "source": [
    "## ProportionalHillPositive: $\\rho(s, d) = k d \\frac{(\\frac{s}{K})^n}{1+(\\frac{s}{K})^n}$\n",
    "Requried parameters: rate constant \"k\", offset \"K\", hill coefficient \"n\", hill species \"s1\", proportional species \"d\""
   ]
  },
  {
   "cell_type": "code",
   "execution_count": 12,
   "metadata": {},
   "outputs": [
    {
     "name": "stdout",
     "output_type": "stream",
     "text": [
      "A --> B\n",
      " Kf = k D Regulator^n/(1+(Regulator/K)^n)\n",
      "  k=1\n",
      "  K=5\n",
      "  n=2\n",
      "\n"
     ]
    }
   ],
   "source": [
    "#create the propensity\n",
    "R = Species(\"Regulator\")\n",
    "D = Species(\"D\")\n",
    "prop_hill_pos  = ProportionalHillPositive(k=1, s1=R, K=5, n=2, d = D)\n",
    "\n",
    "#create the reaction\n",
    "r_prop_hill_pos = Reaction([A], [B], propensity_type = prop_hill_pos)\n",
    "\n",
    "#print the reaction\n",
    "print(r_prop_hill_pos.pretty_print())"
   ]
  },
  {
   "cell_type": "markdown",
   "metadata": {
    "slideshow": {
     "slide_type": "subslide"
    }
   },
   "source": [
    "## ProportionalHillNegative: $\\rho(s) = k \\frac{1}{1+(\\frac{s}{K})^n}$\n",
    "Requried parameters: rate constant \"k\", offset \"K\", hill coefficient \"n\", hill species \"s1\", proportional species \"d\""
   ]
  },
  {
   "cell_type": "code",
   "execution_count": 13,
   "metadata": {},
   "outputs": [
    {
     "name": "stdout",
     "output_type": "stream",
     "text": [
      "A --> B\n",
      " Kf = k D / ( 1 + (Regulator/K)^2 )\n",
      "  k=1\n",
      "  K=5\n",
      "  n=2\n",
      "\n"
     ]
    }
   ],
   "source": [
    "#create the propensity\n",
    "R = Species(\"Regulator\")\n",
    "D = Species(\"D\")\n",
    "prop_hill_neg  = ProportionalHillNegative(k=1, s1=R, K=5, n=2, d = D)\n",
    "\n",
    "#create the reaction\n",
    "r_prop_hill_neg = Reaction([A], [B], propensity_type = prop_hill_neg)\n",
    "\n",
    "#print the reaction\n",
    "print(r_prop_hill_neg.pretty_print())"
   ]
  },
  {
   "cell_type": "markdown",
   "metadata": {
    "slideshow": {
     "slide_type": "subslide"
    }
   },
   "source": [
    "## General Propensity: $\\rho(s) = $ function of your choice\n",
    "For general propensities, the function must be written out as a string with all species and parameters declared"
   ]
  },
  {
   "cell_type": "code",
   "execution_count": 14,
   "metadata": {
    "slideshow": {
     "slide_type": "-"
    }
   },
   "outputs": [
    {
     "name": "stdout",
     "output_type": "stream",
     "text": [
      "A+B --> complex[A:B]\n",
      "k1*2 - k2/complex_A_B_^2\n",
      "  k1=1.11\n",
      "  k2=2.22\n",
      "\n"
     ]
    }
   ],
   "source": [
    "#create species\n",
    "# create some parameters - note that parameters will be discussed in the next lecture\n",
    "k1 = ParameterEntry(\"k1\", 1.11)\n",
    "k2 = ParameterEntry(\"k2\", 2.22)\n",
    "\n",
    "#type the string as a rate then declare teh species and parameters\n",
    "general = GeneralPropensity(f'k1*2 - k2/{str(C1)}^2', propensity_species=[C1], propensity_parameters=[k1, k2])\n",
    "\n",
    "r_general = Reaction([A, B], [C1], propensity_type = general)\n",
    "\n",
    "print(r_general.pretty_print())"
   ]
  },
  {
   "cell_type": "markdown",
   "metadata": {},
   "source": [
    "# Exercise 1:\n",
    "### A. Create a CRN to simulate the following enzymatic reaction using massaction propensities: $A + C \\leftrightarrow A:C \\rightarrow C + B$\n",
    "(Note the first reaction is reversible and you can choose any rates $k_b$ and $k_u$. The second reaction isnt reversible and occurs at rate $k_{cat}$)\n"
   ]
  },
  {
   "cell_type": "markdown",
   "metadata": {},
   "source": [
    "---\n",
    "**my solution**"
   ]
  },
  {
   "cell_type": "code",
   "execution_count": 28,
   "metadata": {},
   "outputs": [
    {
     "name": "stdout",
     "output_type": "stream",
     "text": [
      "Species (4) = {0. A init_conc = 0, 1. B init_conc = 0, 2. C init_conc = 0, 3. ordered_complex[A:C] init_conc = 0}\n",
      "\n",
      "Reactions (2) = [\n",
      "0. A+C <--> ordered_complex[A:C]\n",
      " Kf=k_forward * A * C\n",
      " Kr=k_reverse * ordered_complex_A_C_\n",
      "  k_forward=1\n",
      "  k_reverse=1\n",
      "\n",
      "1. ordered_complex[A:C] --> C+B\n",
      " Kf=k_forward * ordered_complex_A_C_\n",
      "  k_forward=2\n",
      "\n",
      "]\n"
     ]
    }
   ],
   "source": [
    "# A + C --> A:C\n",
    "# Create Species\n",
    "\n",
    "A = Species(\"A\")\n",
    "B = Species(\"B\")\n",
    "C = Species(\"C\")\n",
    "\n",
    "# Label params\n",
    "k_cat = 2\n",
    "ku = 1\n",
    "kb = 1\n",
    "\n",
    "# Create Complex\n",
    "Complex_AC = Complex([A, C], ordered = True)\n",
    "\n",
    "# Create Reactions\n",
    "R1_1 = Reaction.from_massaction([A, C], [Complex_AC], \n",
    "                                k_forward = kb, k_reverse = ku)\n",
    "\n",
    "R2_1 = Reaction.from_massaction([Complex_AC], [C, B], k_forward = k_cat)\n",
    "\n",
    "# Create CRN\n",
    "CRN_1a = ChemicalReactionNetwork(species = [A, B, C], reactions = [R1_1, R2_1])\n",
    "\n",
    "print(CRN_1a.pretty_print(show_rates = True))"
   ]
  },
  {
   "cell_type": "markdown",
   "metadata": {},
   "source": [
    "### B. Create a different CRN to simulate the following enzymatic reaction using a ProportionalHillPositive Propensity: $A \\rightarrow B \\quad \\rho = k_{cat} C \\frac{\\frac{A}{K}}{1+\\frac{A}{K}}$ where $K = \\frac{k_u}{k_b}$\n"
   ]
  },
  {
   "cell_type": "markdown",
   "metadata": {},
   "source": [
    "---\n",
    "**my solution**"
   ]
  },
  {
   "cell_type": "code",
   "execution_count": 29,
   "metadata": {},
   "outputs": [
    {
     "name": "stdout",
     "output_type": "stream",
     "text": [
      "Species (3) = {0. A init_conc = 0, 1. B init_conc = 0, 2. C init_conc = 0}\n",
      "\n",
      "Reactions (1) = [\n",
      "0. A --> B\n",
      " Kf = k C A^n/(1+(A/K)^n)\n",
      "  k=2\n",
      "  K=1.0\n",
      "  n=1\n",
      "\n",
      "]\n"
     ]
    }
   ],
   "source": [
    "# Create Species\n",
    "A = Species(\"A\")\n",
    "B = Species(\"B\")\n",
    "C = Species(\"C\")\n",
    "\n",
    "# Create params\n",
    "k_cat = 2\n",
    "ku = 1\n",
    "kb = 1\n",
    "\n",
    "# Create positive hill propensity\n",
    "prop_hill_pos = ProportionalHillPositive(k = k_cat, s1 = A, K = ku/kb, n = 1, d = C)\n",
    "\n",
    "# Create the reaction\n",
    "r_prop_hill_pos = Reaction([A], [B], propensity_type = prop_hill_pos)\n",
    "\n",
    "# Make CRN\n",
    "CRN_1b = ChemicalReactionNetwork(species = [A, B, C], reactions = [r_prop_hill_pos])\n",
    "\n",
    "print(CRN_1b.pretty_print())"
   ]
  },
  {
   "cell_type": "markdown",
   "metadata": {},
   "source": [
    "### C. for what rates $k_u$, $k_b$, and $k_{cat}$ do the two models agree and disagree?"
   ]
  },
  {
   "cell_type": "markdown",
   "metadata": {},
   "source": [
    "---\n",
    "**my solution**"
   ]
  },
  {
   "cell_type": "code",
   "execution_count": 30,
   "metadata": {},
   "outputs": [],
   "source": [
    "# 1a simulate\n",
    "x0_a = {str(\"A\"):1,\n",
    "     str(\"C\"):1}\n",
    "\n",
    "\n",
    "Results_1a = CRN_1a.simulate_with_bioscrape(timepoints,x0)\n",
    "Results_1b = CRN_1b.simulate_with_bioscrape(timepoints,x0)"
   ]
  },
  {
   "cell_type": "code",
   "execution_count": 31,
   "metadata": {},
   "outputs": [
    {
     "data": {
      "text/html": [
       "\n",
       "    <div class=\"bk-root\">\n",
       "        <a href=\"https://bokeh.org\" target=\"_blank\" class=\"bk-logo bk-logo-small bk-logo-notebook\"></a>\n",
       "        <span id=\"2443\">Loading BokehJS ...</span>\n",
       "    </div>"
      ]
     },
     "metadata": {},
     "output_type": "display_data"
    },
    {
     "data": {
      "application/javascript": [
       "\n",
       "(function(root) {\n",
       "  function now() {\n",
       "    return new Date();\n",
       "  }\n",
       "\n",
       "  var force = true;\n",
       "\n",
       "  if (typeof root._bokeh_onload_callbacks === \"undefined\" || force === true) {\n",
       "    root._bokeh_onload_callbacks = [];\n",
       "    root._bokeh_is_loading = undefined;\n",
       "  }\n",
       "\n",
       "  var JS_MIME_TYPE = 'application/javascript';\n",
       "  var HTML_MIME_TYPE = 'text/html';\n",
       "  var EXEC_MIME_TYPE = 'application/vnd.bokehjs_exec.v0+json';\n",
       "  var CLASS_NAME = 'output_bokeh rendered_html';\n",
       "\n",
       "  /**\n",
       "   * Render data to the DOM node\n",
       "   */\n",
       "  function render(props, node) {\n",
       "    var script = document.createElement(\"script\");\n",
       "    node.appendChild(script);\n",
       "  }\n",
       "\n",
       "  /**\n",
       "   * Handle when an output is cleared or removed\n",
       "   */\n",
       "  function handleClearOutput(event, handle) {\n",
       "    var cell = handle.cell;\n",
       "\n",
       "    var id = cell.output_area._bokeh_element_id;\n",
       "    var server_id = cell.output_area._bokeh_server_id;\n",
       "    // Clean up Bokeh references\n",
       "    if (id != null && id in Bokeh.index) {\n",
       "      Bokeh.index[id].model.document.clear();\n",
       "      delete Bokeh.index[id];\n",
       "    }\n",
       "\n",
       "    if (server_id !== undefined) {\n",
       "      // Clean up Bokeh references\n",
       "      var cmd = \"from bokeh.io.state import curstate; print(curstate().uuid_to_server['\" + server_id + \"'].get_sessions()[0].document.roots[0]._id)\";\n",
       "      cell.notebook.kernel.execute(cmd, {\n",
       "        iopub: {\n",
       "          output: function(msg) {\n",
       "            var id = msg.content.text.trim();\n",
       "            if (id in Bokeh.index) {\n",
       "              Bokeh.index[id].model.document.clear();\n",
       "              delete Bokeh.index[id];\n",
       "            }\n",
       "          }\n",
       "        }\n",
       "      });\n",
       "      // Destroy server and session\n",
       "      var cmd = \"import bokeh.io.notebook as ion; ion.destroy_server('\" + server_id + \"')\";\n",
       "      cell.notebook.kernel.execute(cmd);\n",
       "    }\n",
       "  }\n",
       "\n",
       "  /**\n",
       "   * Handle when a new output is added\n",
       "   */\n",
       "  function handleAddOutput(event, handle) {\n",
       "    var output_area = handle.output_area;\n",
       "    var output = handle.output;\n",
       "\n",
       "    // limit handleAddOutput to display_data with EXEC_MIME_TYPE content only\n",
       "    if ((output.output_type != \"display_data\") || (!output.data.hasOwnProperty(EXEC_MIME_TYPE))) {\n",
       "      return\n",
       "    }\n",
       "\n",
       "    var toinsert = output_area.element.find(\".\" + CLASS_NAME.split(' ')[0]);\n",
       "\n",
       "    if (output.metadata[EXEC_MIME_TYPE][\"id\"] !== undefined) {\n",
       "      toinsert[toinsert.length - 1].firstChild.textContent = output.data[JS_MIME_TYPE];\n",
       "      // store reference to embed id on output_area\n",
       "      output_area._bokeh_element_id = output.metadata[EXEC_MIME_TYPE][\"id\"];\n",
       "    }\n",
       "    if (output.metadata[EXEC_MIME_TYPE][\"server_id\"] !== undefined) {\n",
       "      var bk_div = document.createElement(\"div\");\n",
       "      bk_div.innerHTML = output.data[HTML_MIME_TYPE];\n",
       "      var script_attrs = bk_div.children[0].attributes;\n",
       "      for (var i = 0; i < script_attrs.length; i++) {\n",
       "        toinsert[toinsert.length - 1].firstChild.setAttribute(script_attrs[i].name, script_attrs[i].value);\n",
       "      }\n",
       "      // store reference to server id on output_area\n",
       "      output_area._bokeh_server_id = output.metadata[EXEC_MIME_TYPE][\"server_id\"];\n",
       "    }\n",
       "  }\n",
       "\n",
       "  function register_renderer(events, OutputArea) {\n",
       "\n",
       "    function append_mime(data, metadata, element) {\n",
       "      // create a DOM node to render to\n",
       "      var toinsert = this.create_output_subarea(\n",
       "        metadata,\n",
       "        CLASS_NAME,\n",
       "        EXEC_MIME_TYPE\n",
       "      );\n",
       "      this.keyboard_manager.register_events(toinsert);\n",
       "      // Render to node\n",
       "      var props = {data: data, metadata: metadata[EXEC_MIME_TYPE]};\n",
       "      render(props, toinsert[toinsert.length - 1]);\n",
       "      element.append(toinsert);\n",
       "      return toinsert\n",
       "    }\n",
       "\n",
       "    /* Handle when an output is cleared or removed */\n",
       "    events.on('clear_output.CodeCell', handleClearOutput);\n",
       "    events.on('delete.Cell', handleClearOutput);\n",
       "\n",
       "    /* Handle when a new output is added */\n",
       "    events.on('output_added.OutputArea', handleAddOutput);\n",
       "\n",
       "    /**\n",
       "     * Register the mime type and append_mime function with output_area\n",
       "     */\n",
       "    OutputArea.prototype.register_mime_type(EXEC_MIME_TYPE, append_mime, {\n",
       "      /* Is output safe? */\n",
       "      safe: true,\n",
       "      /* Index of renderer in `output_area.display_order` */\n",
       "      index: 0\n",
       "    });\n",
       "  }\n",
       "\n",
       "  // register the mime type if in Jupyter Notebook environment and previously unregistered\n",
       "  if (root.Jupyter !== undefined) {\n",
       "    var events = require('base/js/events');\n",
       "    var OutputArea = require('notebook/js/outputarea').OutputArea;\n",
       "\n",
       "    if (OutputArea.prototype.mime_types().indexOf(EXEC_MIME_TYPE) == -1) {\n",
       "      register_renderer(events, OutputArea);\n",
       "    }\n",
       "  }\n",
       "\n",
       "  \n",
       "  if (typeof (root._bokeh_timeout) === \"undefined\" || force === true) {\n",
       "    root._bokeh_timeout = Date.now() + 5000;\n",
       "    root._bokeh_failed_load = false;\n",
       "  }\n",
       "\n",
       "  var NB_LOAD_WARNING = {'data': {'text/html':\n",
       "     \"<div style='background-color: #fdd'>\\n\"+\n",
       "     \"<p>\\n\"+\n",
       "     \"BokehJS does not appear to have successfully loaded. If loading BokehJS from CDN, this \\n\"+\n",
       "     \"may be due to a slow or bad network connection. Possible fixes:\\n\"+\n",
       "     \"</p>\\n\"+\n",
       "     \"<ul>\\n\"+\n",
       "     \"<li>re-rerun `output_notebook()` to attempt to load from CDN again, or</li>\\n\"+\n",
       "     \"<li>use INLINE resources instead, as so:</li>\\n\"+\n",
       "     \"</ul>\\n\"+\n",
       "     \"<code>\\n\"+\n",
       "     \"from bokeh.resources import INLINE\\n\"+\n",
       "     \"output_notebook(resources=INLINE)\\n\"+\n",
       "     \"</code>\\n\"+\n",
       "     \"</div>\"}};\n",
       "\n",
       "  function display_loaded() {\n",
       "    var el = document.getElementById(\"2443\");\n",
       "    if (el != null) {\n",
       "      el.textContent = \"BokehJS is loading...\";\n",
       "    }\n",
       "    if (root.Bokeh !== undefined) {\n",
       "      if (el != null) {\n",
       "        el.textContent = \"BokehJS \" + root.Bokeh.version + \" successfully loaded.\";\n",
       "      }\n",
       "    } else if (Date.now() < root._bokeh_timeout) {\n",
       "      setTimeout(display_loaded, 100)\n",
       "    }\n",
       "  }\n",
       "\n",
       "\n",
       "  function run_callbacks() {\n",
       "    try {\n",
       "      root._bokeh_onload_callbacks.forEach(function(callback) {\n",
       "        if (callback != null)\n",
       "          callback();\n",
       "      });\n",
       "    } finally {\n",
       "      delete root._bokeh_onload_callbacks\n",
       "    }\n",
       "    console.debug(\"Bokeh: all callbacks have finished\");\n",
       "  }\n",
       "\n",
       "  function load_libs(css_urls, js_urls, callback) {\n",
       "    if (css_urls == null) css_urls = [];\n",
       "    if (js_urls == null) js_urls = [];\n",
       "\n",
       "    root._bokeh_onload_callbacks.push(callback);\n",
       "    if (root._bokeh_is_loading > 0) {\n",
       "      console.debug(\"Bokeh: BokehJS is being loaded, scheduling callback at\", now());\n",
       "      return null;\n",
       "    }\n",
       "    if (js_urls == null || js_urls.length === 0) {\n",
       "      run_callbacks();\n",
       "      return null;\n",
       "    }\n",
       "    console.debug(\"Bokeh: BokehJS not loaded, scheduling load and callback at\", now());\n",
       "    root._bokeh_is_loading = css_urls.length + js_urls.length;\n",
       "\n",
       "    function on_load() {\n",
       "      root._bokeh_is_loading--;\n",
       "      if (root._bokeh_is_loading === 0) {\n",
       "        console.debug(\"Bokeh: all BokehJS libraries/stylesheets loaded\");\n",
       "        run_callbacks()\n",
       "      }\n",
       "    }\n",
       "\n",
       "    function on_error() {\n",
       "      console.error(\"failed to load \" + url);\n",
       "    }\n",
       "\n",
       "    for (var i = 0; i < css_urls.length; i++) {\n",
       "      var url = css_urls[i];\n",
       "      const element = document.createElement(\"link\");\n",
       "      element.onload = on_load;\n",
       "      element.onerror = on_error;\n",
       "      element.rel = \"stylesheet\";\n",
       "      element.type = \"text/css\";\n",
       "      element.href = url;\n",
       "      console.debug(\"Bokeh: injecting link tag for BokehJS stylesheet: \", url);\n",
       "      document.body.appendChild(element);\n",
       "    }\n",
       "\n",
       "    for (var i = 0; i < js_urls.length; i++) {\n",
       "      var url = js_urls[i];\n",
       "      var element = document.createElement('script');\n",
       "      element.onload = on_load;\n",
       "      element.onerror = on_error;\n",
       "      element.async = false;\n",
       "      element.src = url;\n",
       "      console.debug(\"Bokeh: injecting script tag for BokehJS library: \", url);\n",
       "      document.head.appendChild(element);\n",
       "    }\n",
       "  };var element = document.getElementById(\"2443\");\n",
       "  if (element == null) {\n",
       "    console.error(\"Bokeh: ERROR: autoload.js configured with elementid '2443' but no matching script tag was found. \")\n",
       "    return false;\n",
       "  }\n",
       "\n",
       "  function inject_raw_css(css) {\n",
       "    const element = document.createElement(\"style\");\n",
       "    element.appendChild(document.createTextNode(css));\n",
       "    document.body.appendChild(element);\n",
       "  }\n",
       "\n",
       "  \n",
       "  var js_urls = [\"https://cdn.pydata.org/bokeh/release/bokeh-1.4.0.min.js\", \"https://cdn.pydata.org/bokeh/release/bokeh-widgets-1.4.0.min.js\", \"https://cdn.pydata.org/bokeh/release/bokeh-tables-1.4.0.min.js\", \"https://cdn.pydata.org/bokeh/release/bokeh-gl-1.4.0.min.js\"];\n",
       "  var css_urls = [];\n",
       "  \n",
       "\n",
       "  var inline_js = [\n",
       "    function(Bokeh) {\n",
       "      Bokeh.set_log_level(\"info\");\n",
       "    },\n",
       "    function(Bokeh) {\n",
       "    \n",
       "    \n",
       "    }\n",
       "  ];\n",
       "\n",
       "  function run_inline_js() {\n",
       "    \n",
       "    if (root.Bokeh !== undefined || force === true) {\n",
       "      \n",
       "    for (var i = 0; i < inline_js.length; i++) {\n",
       "      inline_js[i].call(root, root.Bokeh);\n",
       "    }\n",
       "    if (force === true) {\n",
       "        display_loaded();\n",
       "      }} else if (Date.now() < root._bokeh_timeout) {\n",
       "      setTimeout(run_inline_js, 100);\n",
       "    } else if (!root._bokeh_failed_load) {\n",
       "      console.log(\"Bokeh: BokehJS failed to load within specified timeout.\");\n",
       "      root._bokeh_failed_load = true;\n",
       "    } else if (force !== true) {\n",
       "      var cell = $(document.getElementById(\"2443\")).parents('.cell').data().cell;\n",
       "      cell.output_area.append_execute_result(NB_LOAD_WARNING)\n",
       "    }\n",
       "\n",
       "  }\n",
       "\n",
       "  if (root._bokeh_is_loading === 0) {\n",
       "    console.debug(\"Bokeh: BokehJS loaded, going straight to plotting\");\n",
       "    run_inline_js();\n",
       "  } else {\n",
       "    load_libs(css_urls, js_urls, function() {\n",
       "      console.debug(\"Bokeh: BokehJS plotting callback run at\", now());\n",
       "      run_inline_js();\n",
       "    });\n",
       "  }\n",
       "}(window));"
      ],
      "application/vnd.bokehjs_load.v0+json": "\n(function(root) {\n  function now() {\n    return new Date();\n  }\n\n  var force = true;\n\n  if (typeof root._bokeh_onload_callbacks === \"undefined\" || force === true) {\n    root._bokeh_onload_callbacks = [];\n    root._bokeh_is_loading = undefined;\n  }\n\n  \n\n  \n  if (typeof (root._bokeh_timeout) === \"undefined\" || force === true) {\n    root._bokeh_timeout = Date.now() + 5000;\n    root._bokeh_failed_load = false;\n  }\n\n  var NB_LOAD_WARNING = {'data': {'text/html':\n     \"<div style='background-color: #fdd'>\\n\"+\n     \"<p>\\n\"+\n     \"BokehJS does not appear to have successfully loaded. If loading BokehJS from CDN, this \\n\"+\n     \"may be due to a slow or bad network connection. Possible fixes:\\n\"+\n     \"</p>\\n\"+\n     \"<ul>\\n\"+\n     \"<li>re-rerun `output_notebook()` to attempt to load from CDN again, or</li>\\n\"+\n     \"<li>use INLINE resources instead, as so:</li>\\n\"+\n     \"</ul>\\n\"+\n     \"<code>\\n\"+\n     \"from bokeh.resources import INLINE\\n\"+\n     \"output_notebook(resources=INLINE)\\n\"+\n     \"</code>\\n\"+\n     \"</div>\"}};\n\n  function display_loaded() {\n    var el = document.getElementById(\"2443\");\n    if (el != null) {\n      el.textContent = \"BokehJS is loading...\";\n    }\n    if (root.Bokeh !== undefined) {\n      if (el != null) {\n        el.textContent = \"BokehJS \" + root.Bokeh.version + \" successfully loaded.\";\n      }\n    } else if (Date.now() < root._bokeh_timeout) {\n      setTimeout(display_loaded, 100)\n    }\n  }\n\n\n  function run_callbacks() {\n    try {\n      root._bokeh_onload_callbacks.forEach(function(callback) {\n        if (callback != null)\n          callback();\n      });\n    } finally {\n      delete root._bokeh_onload_callbacks\n    }\n    console.debug(\"Bokeh: all callbacks have finished\");\n  }\n\n  function load_libs(css_urls, js_urls, callback) {\n    if (css_urls == null) css_urls = [];\n    if (js_urls == null) js_urls = [];\n\n    root._bokeh_onload_callbacks.push(callback);\n    if (root._bokeh_is_loading > 0) {\n      console.debug(\"Bokeh: BokehJS is being loaded, scheduling callback at\", now());\n      return null;\n    }\n    if (js_urls == null || js_urls.length === 0) {\n      run_callbacks();\n      return null;\n    }\n    console.debug(\"Bokeh: BokehJS not loaded, scheduling load and callback at\", now());\n    root._bokeh_is_loading = css_urls.length + js_urls.length;\n\n    function on_load() {\n      root._bokeh_is_loading--;\n      if (root._bokeh_is_loading === 0) {\n        console.debug(\"Bokeh: all BokehJS libraries/stylesheets loaded\");\n        run_callbacks()\n      }\n    }\n\n    function on_error() {\n      console.error(\"failed to load \" + url);\n    }\n\n    for (var i = 0; i < css_urls.length; i++) {\n      var url = css_urls[i];\n      const element = document.createElement(\"link\");\n      element.onload = on_load;\n      element.onerror = on_error;\n      element.rel = \"stylesheet\";\n      element.type = \"text/css\";\n      element.href = url;\n      console.debug(\"Bokeh: injecting link tag for BokehJS stylesheet: \", url);\n      document.body.appendChild(element);\n    }\n\n    for (var i = 0; i < js_urls.length; i++) {\n      var url = js_urls[i];\n      var element = document.createElement('script');\n      element.onload = on_load;\n      element.onerror = on_error;\n      element.async = false;\n      element.src = url;\n      console.debug(\"Bokeh: injecting script tag for BokehJS library: \", url);\n      document.head.appendChild(element);\n    }\n  };var element = document.getElementById(\"2443\");\n  if (element == null) {\n    console.error(\"Bokeh: ERROR: autoload.js configured with elementid '2443' but no matching script tag was found. \")\n    return false;\n  }\n\n  function inject_raw_css(css) {\n    const element = document.createElement(\"style\");\n    element.appendChild(document.createTextNode(css));\n    document.body.appendChild(element);\n  }\n\n  \n  var js_urls = [\"https://cdn.pydata.org/bokeh/release/bokeh-1.4.0.min.js\", \"https://cdn.pydata.org/bokeh/release/bokeh-widgets-1.4.0.min.js\", \"https://cdn.pydata.org/bokeh/release/bokeh-tables-1.4.0.min.js\", \"https://cdn.pydata.org/bokeh/release/bokeh-gl-1.4.0.min.js\"];\n  var css_urls = [];\n  \n\n  var inline_js = [\n    function(Bokeh) {\n      Bokeh.set_log_level(\"info\");\n    },\n    function(Bokeh) {\n    \n    \n    }\n  ];\n\n  function run_inline_js() {\n    \n    if (root.Bokeh !== undefined || force === true) {\n      \n    for (var i = 0; i < inline_js.length; i++) {\n      inline_js[i].call(root, root.Bokeh);\n    }\n    if (force === true) {\n        display_loaded();\n      }} else if (Date.now() < root._bokeh_timeout) {\n      setTimeout(run_inline_js, 100);\n    } else if (!root._bokeh_failed_load) {\n      console.log(\"Bokeh: BokehJS failed to load within specified timeout.\");\n      root._bokeh_failed_load = true;\n    } else if (force !== true) {\n      var cell = $(document.getElementById(\"2443\")).parents('.cell').data().cell;\n      cell.output_area.append_execute_result(NB_LOAD_WARNING)\n    }\n\n  }\n\n  if (root._bokeh_is_loading === 0) {\n    console.debug(\"Bokeh: BokehJS loaded, going straight to plotting\");\n    run_inline_js();\n  } else {\n    load_libs(css_urls, js_urls, function() {\n      console.debug(\"Bokeh: BokehJS plotting callback run at\", now());\n      run_inline_js();\n    });\n  }\n}(window));"
     },
     "metadata": {},
     "output_type": "display_data"
    }
   ],
   "source": [
    "# I'm using bokeh bc I love bokeh <3 \n",
    "import bokeh.io\n",
    "import bokeh.plotting\n",
    "bokeh.io.output_notebook()\n",
    "from bokeh.layouts import row\n",
    "\n",
    "import colorcet"
   ]
  },
  {
   "cell_type": "code",
   "execution_count": 32,
   "metadata": {},
   "outputs": [],
   "source": [
    "palette = colorcet.b_glasbey_category10"
   ]
  },
  {
   "cell_type": "markdown",
   "metadata": {},
   "source": [
    "Plot"
   ]
  },
  {
   "cell_type": "code",
   "execution_count": 33,
   "metadata": {},
   "outputs": [
    {
     "data": {
      "text/html": [
       "\n",
       "\n",
       "\n",
       "\n",
       "\n",
       "\n",
       "  <div class=\"bk-root\" id=\"2d4a50f7-b376-4ee8-b7a2-1b548bf925d9\" data-root-id=\"2616\"></div>\n"
      ]
     },
     "metadata": {},
     "output_type": "display_data"
    },
    {
     "data": {
      "application/javascript": [
       "(function(root) {\n",
       "  function embed_document(root) {\n",
       "    \n",
       "  var docs_json = {\"027e87fa-6df5-4d04-aea6-88f787fb01f5\":{\"roots\":{\"references\":[{\"attributes\":{\"children\":[{\"id\":\"2444\",\"subtype\":\"Figure\",\"type\":\"Plot\"},{\"id\":\"2539\",\"subtype\":\"Figure\",\"type\":\"Plot\"}]},\"id\":\"2616\",\"type\":\"Row\"},{\"attributes\":{\"active_drag\":\"auto\",\"active_inspect\":\"auto\",\"active_multi\":null,\"active_scroll\":\"auto\",\"active_tap\":\"auto\",\"tools\":[{\"id\":\"2465\",\"type\":\"PanTool\"},{\"id\":\"2466\",\"type\":\"WheelZoomTool\"},{\"id\":\"2467\",\"type\":\"BoxZoomTool\"},{\"id\":\"2468\",\"type\":\"SaveTool\"},{\"id\":\"2469\",\"type\":\"ResetTool\"},{\"id\":\"2470\",\"type\":\"HelpTool\"}]},\"id\":\"2471\",\"type\":\"Toolbar\"},{\"attributes\":{},\"id\":\"2465\",\"type\":\"PanTool\"},{\"attributes\":{},\"id\":\"2466\",\"type\":\"WheelZoomTool\"},{\"attributes\":{},\"id\":\"2579\",\"type\":\"BasicTickFormatter\"},{\"attributes\":{\"overlay\":{\"id\":\"2488\",\"type\":\"BoxAnnotation\"}},\"id\":\"2467\",\"type\":\"BoxZoomTool\"},{\"attributes\":{\"items\":[{\"id\":\"2585\",\"type\":\"LegendItem\"},{\"id\":\"2599\",\"type\":\"LegendItem\"},{\"id\":\"2615\",\"type\":\"LegendItem\"}]},\"id\":\"2584\",\"type\":\"Legend\"},{\"attributes\":{\"text\":\"Exercise 1a\"},\"id\":\"2445\",\"type\":\"Title\"},{\"attributes\":{},\"id\":\"2468\",\"type\":\"SaveTool\"},{\"attributes\":{},\"id\":\"2581\",\"type\":\"BasicTickFormatter\"},{\"attributes\":{},\"id\":\"2469\",\"type\":\"ResetTool\"},{\"attributes\":{\"bottom_units\":\"screen\",\"fill_alpha\":{\"value\":0.5},\"fill_color\":{\"value\":\"lightgrey\"},\"left_units\":\"screen\",\"level\":\"overlay\",\"line_alpha\":{\"value\":1.0},\"line_color\":{\"value\":\"black\"},\"line_dash\":[4,4],\"line_width\":{\"value\":2},\"render_mode\":\"css\",\"right_units\":\"screen\",\"top_units\":\"screen\"},\"id\":\"2583\",\"type\":\"BoxAnnotation\"},{\"attributes\":{},\"id\":\"2486\",\"type\":\"BasicTickFormatter\"},{\"attributes\":{\"label\":{\"value\":\"B\"},\"renderers\":[{\"id\":\"2494\",\"type\":\"GlyphRenderer\"}]},\"id\":\"2504\",\"type\":\"LegendItem\"},{\"attributes\":{},\"id\":\"2470\",\"type\":\"HelpTool\"},{\"attributes\":{\"label\":{\"value\":\"A\"},\"renderers\":[{\"id\":\"2576\",\"type\":\"GlyphRenderer\"}]},\"id\":\"2585\",\"type\":\"LegendItem\"},{\"attributes\":{\"callback\":null,\"data\":{\"x\":{\"__ndarray__\":\"AAAAAAAAAAAxb2dIzNvJPzFvZ0jM29k/ZZNNNtlk4z8xb2dIzNvpP3+lQK1fKfA/ZZNNNtlk8z9LgVq/UqD2PzFvZ0jM2/k/F1100UUX/T9/pUCtXykAQHIcx3EcxwFAZZNNNtlkA0BYCtT6lQIFQEuBWr9SoAZAPvjggw8+CEAxb2dIzNsJQCTm7QyJeQtAF1100UUXDUAK1PqVArUOQH+lQK1fKRBA+OCDDz74EEByHMdxHMcRQOtXCtT6lRJAZZNNNtlkE0DezpCYtzMUQFgK1PqVAhVA0UUXXXTRFUBLgVq/UqAWQMS8nSExbxdAPvjggw8+GEC3MyTm7QwZQDFvZ0jM2xlAq6qqqqqqGkAk5u0MiXkbQJ4hMW9nSBxAF1100UUXHUCRmLczJOYdQArU+pUCtR5AhA8++OCDH0B/pUCtXykgQDtDYt7OkCBA+OCDDz74IEC1fqVArV8hQHIcx3EcxyFALrrooosuIkDrVwrU+pUiQKj1KwVq/SJAZZNNNtlkI0AiMW9nSMwjQN7OkJi3MyRAm2yyySabJEBYCtT6lQIlQBWo9SsFaiVA0UUXXXTRJUCO4ziO4zgmQEuBWr9SoCZACB988MEHJ0DEvJ0hMW8nQIFav1Kg1idAPvjggw8+KED7lQK1fqUoQLczJObtDClAdNFFF110KUAxb2dIzNspQO4MiXk7QypAq6qqqqqqKkBnSMzbGRIrQCTm7QyJeStA4YMPPvjgK0CeITFvZ0gsQFq/UqDWryxAF1100UUXLUDU+pUCtX4tQJGYtzMk5i1ATTbZZJNNLkAK1PqVArUuQMdxHMdxHC9AhA8++OCDL0BArV8pUOsvQH+lQK1fKTBAXXTRRRddMEA7Q2LezpAwQBoS83aGxDBA+OCDDz74MEDXrxSo9SsxQLV+pUCtXzFAk0022WSTMUByHMdxHMcxQFDrVwrU+jFALrrooosuMkANiXk7Q2IyQOtXCtT6lTJAyiabbLLJMkCo9SsFav0yQIbEvJ0hMTNAZZNNNtlkM0BDYt7OkJgzQCIxb2dIzDNAAAAAAAAANEA=\",\"dtype\":\"float64\",\"shape\":[100]},\"y\":{\"__ndarray__\":\"AAAAAAAAAAAJnj9HkoLIPx42FXK0Fdc/4Wwj45cz4D80UNtsBRfkP5X9on2kOuc/atT6jLWt6T9MhAUWTYfrPyt8MiWt4uw/786Mbkrb7T/K9A4ZyYnuP55oCeJ1Au8/ScP9pQRV7z9V1DPfEI3vP1s41qHpsu8/9+Il+F/M7z8f7lJRdt3vP4A19t/o6O8/frJi9pHw7z8gq208sfXvPwNf85Md+e8/L/icDGf77z/4Y1Qa7vzvP9auh0Hz/e8/AFqnpKH+7z95eTsVFv/vPzxKztNj/+8/4DDCu5f/7z+LRCBjuv/vP1JLXIbR/+8/qMjN+OD/7z9YEMpI6//vPxGGlSvy/+8/eRBuxPb/7z8enQ/W+f/vP6r/lOL7/+8/CZ+rQP3/7z9j35wq/v/vP2+P2cb+/+8/YdjZLv//7z++XF90///vP7cUo6L//+8/X5uJwf//7z/jrhjW///vP11DAeT//+8/Ub9u7f//7z8OI8Hz///vPwAL8Pf//+8/GkOs+v//7z/InG78///vP4E0jv3//+8/P+RS/v//7z+oN9z+///vP0uyOv///+8/g7F6////7z9GC6b////vP00ww////+8/kM7g////7z+J0Pz////vP6UkCQAAAPA/aZwQAAAA8D+RzxQAAADwPxy+FQAAAPA/C2gTAAAA8D/OVBAAAADwP1AhEgAAAPA/OwwTAAAA8D+MFRMAAADwP0U9EgAAAPA/ZYMQAAAA8D/s5w0AAADwP9tqCgAAAPA/zsgJAAAA8D/DsQgAAADwP7eaBwAAAPA/rIMGAAAA8D+hbAUAAADwP5ZVBAAAAPA/iz4DAAAA8D8grgIAAADwPxWlAgAAAPA/CpwCAAAA8D//kgIAAADwP/OJAgAAAPA/6IACAAAA8D/ddwIAAADwP9JuAgAAAPA/xmUCAAAA8D+7XAIAAADwP7BTAgAAAPA/pUoCAAAA8D+ZQQIAAADwP444AgAAAPA/gy8CAAAA8D94JgIAAADwP2wdAgAAAPA/YRQCAAAA8D9WCwIAAADwP0sCAgAAAPA/P/kBAAAA8D8=\",\"dtype\":\"float64\",\"shape\":[100]}},\"selected\":{\"id\":\"2613\",\"type\":\"Selection\"},\"selection_policy\":{\"id\":\"2612\",\"type\":\"UnionRenderers\"}},\"id\":\"2586\",\"type\":\"ColumnDataSource\"},{\"attributes\":{\"line_color\":\"#ff7e0e\",\"line_width\":2,\"x\":{\"field\":\"x\"},\"y\":{\"field\":\"y\"}},\"id\":\"2587\",\"type\":\"Line\"},{\"attributes\":{\"source\":{\"id\":\"2478\",\"type\":\"ColumnDataSource\"}},\"id\":\"2482\",\"type\":\"CDSView\"},{\"attributes\":{\"line_alpha\":0.1,\"line_color\":\"#1f77b4\",\"line_width\":2,\"x\":{\"field\":\"x\"},\"y\":{\"field\":\"y\"}},\"id\":\"2588\",\"type\":\"Line\"},{\"attributes\":{\"data_source\":{\"id\":\"2586\",\"type\":\"ColumnDataSource\"},\"glyph\":{\"id\":\"2587\",\"type\":\"Line\"},\"hover_glyph\":null,\"muted_glyph\":null,\"nonselection_glyph\":{\"id\":\"2588\",\"type\":\"Line\"},\"selection_glyph\":null,\"view\":{\"id\":\"2590\",\"type\":\"CDSView\"}},\"id\":\"2589\",\"type\":\"GlyphRenderer\"},{\"attributes\":{\"callback\":null,\"data\":{\"x\":{\"__ndarray__\":\"AAAAAAAAAAAxb2dIzNvJPzFvZ0jM29k/ZZNNNtlk4z8xb2dIzNvpP3+lQK1fKfA/ZZNNNtlk8z9LgVq/UqD2PzFvZ0jM2/k/F1100UUX/T9/pUCtXykAQHIcx3EcxwFAZZNNNtlkA0BYCtT6lQIFQEuBWr9SoAZAPvjggw8+CEAxb2dIzNsJQCTm7QyJeQtAF1100UUXDUAK1PqVArUOQH+lQK1fKRBA+OCDDz74EEByHMdxHMcRQOtXCtT6lRJAZZNNNtlkE0DezpCYtzMUQFgK1PqVAhVA0UUXXXTRFUBLgVq/UqAWQMS8nSExbxdAPvjggw8+GEC3MyTm7QwZQDFvZ0jM2xlAq6qqqqqqGkAk5u0MiXkbQJ4hMW9nSBxAF1100UUXHUCRmLczJOYdQArU+pUCtR5AhA8++OCDH0B/pUCtXykgQDtDYt7OkCBA+OCDDz74IEC1fqVArV8hQHIcx3EcxyFALrrooosuIkDrVwrU+pUiQKj1KwVq/SJAZZNNNtlkI0AiMW9nSMwjQN7OkJi3MyRAm2yyySabJEBYCtT6lQIlQBWo9SsFaiVA0UUXXXTRJUCO4ziO4zgmQEuBWr9SoCZACB988MEHJ0DEvJ0hMW8nQIFav1Kg1idAPvjggw8+KED7lQK1fqUoQLczJObtDClAdNFFF110KUAxb2dIzNspQO4MiXk7QypAq6qqqqqqKkBnSMzbGRIrQCTm7QyJeStA4YMPPvjgK0CeITFvZ0gsQFq/UqDWryxAF1100UUXLUDU+pUCtX4tQJGYtzMk5i1ATTbZZJNNLkAK1PqVArUuQMdxHMdxHC9AhA8++OCDL0BArV8pUOsvQH+lQK1fKTBAXXTRRRddMEA7Q2LezpAwQBoS83aGxDBA+OCDDz74MEDXrxSo9SsxQLV+pUCtXzFAk0022WSTMUByHMdxHMcxQFDrVwrU+jFALrrooosuMkANiXk7Q2IyQOtXCtT6lTJAyiabbLLJMkCo9SsFav0yQIbEvJ0hMTNAZZNNNtlkM0BDYt7OkJgzQCIxb2dIzDNAAAAAAAAANEA=\",\"dtype\":\"float64\",\"shape\":[100]},\"y\":{\"__ndarray__\":\"AAAAAAAA8D8AAAAAAADwPwAAAAAAAPA/AAAAAAAA8D8AAAAAAADwPwAAAAAAAPA/AAAAAAAA8D8AAAAAAADwPwAAAAAAAPA/AAAAAAAA8D8AAAAAAADwPwAAAAAAAPA/AAAAAAAA8D8AAAAAAADwPwAAAAAAAPA/AAAAAAAA8D8AAAAAAADwPwAAAAAAAPA/AAAAAAAA8D8AAAAAAADwPwAAAAAAAPA/AAAAAAAA8D8AAAAAAADwPwAAAAAAAPA/AAAAAAAA8D8AAAAAAADwPwAAAAAAAPA/AAAAAAAA8D8AAAAAAADwPwAAAAAAAPA/AAAAAAAA8D8AAAAAAADwPwAAAAAAAPA/AAAAAAAA8D8AAAAAAADwPwAAAAAAAPA/AAAAAAAA8D8AAAAAAADwPwAAAAAAAPA/AAAAAAAA8D8AAAAAAADwPwAAAAAAAPA/AAAAAAAA8D8AAAAAAADwPwAAAAAAAPA/AAAAAAAA8D8AAAAAAADwPwAAAAAAAPA/AAAAAAAA8D8AAAAAAADwPwAAAAAAAPA/AAAAAAAA8D8AAAAAAADwPwAAAAAAAPA/AAAAAAAA8D8AAAAAAADwPwAAAAAAAPA/AAAAAAAA8D8AAAAAAADwPwAAAAAAAPA/AAAAAAAA8D8AAAAAAADwPwAAAAAAAPA/AAAAAAAA8D8AAAAAAADwPwAAAAAAAPA/AAAAAAAA8D8AAAAAAADwPwAAAAAAAPA/AAAAAAAA8D8AAAAAAADwPwAAAAAAAPA/AAAAAAAA8D8AAAAAAADwPwAAAAAAAPA/AAAAAAAA8D8AAAAAAADwPwAAAAAAAPA/AAAAAAAA8D8AAAAAAADwPwAAAAAAAPA/AAAAAAAA8D8AAAAAAADwPwAAAAAAAPA/AAAAAAAA8D8AAAAAAADwPwAAAAAAAPA/AAAAAAAA8D8AAAAAAADwPwAAAAAAAPA/AAAAAAAA8D8AAAAAAADwPwAAAAAAAPA/AAAAAAAA8D8AAAAAAADwPwAAAAAAAPA/AAAAAAAA8D8AAAAAAADwPwAAAAAAAPA/AAAAAAAA8D8=\",\"dtype\":\"float64\",\"shape\":[100]}},\"selected\":{\"id\":\"2735\",\"type\":\"Selection\"},\"selection_policy\":{\"id\":\"2734\",\"type\":\"UnionRenderers\"}},\"id\":\"2600\",\"type\":\"ColumnDataSource\"},{\"attributes\":{},\"id\":\"2484\",\"type\":\"BasicTickFormatter\"},{\"attributes\":{\"items\":[{\"id\":\"2490\",\"type\":\"LegendItem\"},{\"id\":\"2504\",\"type\":\"LegendItem\"},{\"id\":\"2520\",\"type\":\"LegendItem\"},{\"id\":\"2538\",\"type\":\"LegendItem\"}]},\"id\":\"2489\",\"type\":\"Legend\"},{\"attributes\":{\"source\":{\"id\":\"2586\",\"type\":\"ColumnDataSource\"}},\"id\":\"2590\",\"type\":\"CDSView\"},{\"attributes\":{},\"id\":\"2727\",\"type\":\"UnionRenderers\"},{\"attributes\":{\"bottom_units\":\"screen\",\"fill_alpha\":{\"value\":0.5},\"fill_color\":{\"value\":\"lightgrey\"},\"left_units\":\"screen\",\"level\":\"overlay\",\"line_alpha\":{\"value\":1.0},\"line_color\":{\"value\":\"black\"},\"line_dash\":[4,4],\"line_width\":{\"value\":2},\"render_mode\":\"css\",\"right_units\":\"screen\",\"top_units\":\"screen\"},\"id\":\"2488\",\"type\":\"BoxAnnotation\"},{\"attributes\":{},\"id\":\"2596\",\"type\":\"UnionRenderers\"},{\"attributes\":{\"label\":{\"value\":\"B\"},\"renderers\":[{\"id\":\"2589\",\"type\":\"GlyphRenderer\"}]},\"id\":\"2599\",\"type\":\"LegendItem\"},{\"attributes\":{\"label\":{\"value\":\"A\"},\"renderers\":[{\"id\":\"2481\",\"type\":\"GlyphRenderer\"}]},\"id\":\"2490\",\"type\":\"LegendItem\"},{\"attributes\":{},\"id\":\"2597\",\"type\":\"Selection\"},{\"attributes\":{\"callback\":null,\"data\":{\"x\":{\"__ndarray__\":\"AAAAAAAAAAAxb2dIzNvJPzFvZ0jM29k/ZZNNNtlk4z8xb2dIzNvpP3+lQK1fKfA/ZZNNNtlk8z9LgVq/UqD2PzFvZ0jM2/k/F1100UUX/T9/pUCtXykAQHIcx3EcxwFAZZNNNtlkA0BYCtT6lQIFQEuBWr9SoAZAPvjggw8+CEAxb2dIzNsJQCTm7QyJeQtAF1100UUXDUAK1PqVArUOQH+lQK1fKRBA+OCDDz74EEByHMdxHMcRQOtXCtT6lRJAZZNNNtlkE0DezpCYtzMUQFgK1PqVAhVA0UUXXXTRFUBLgVq/UqAWQMS8nSExbxdAPvjggw8+GEC3MyTm7QwZQDFvZ0jM2xlAq6qqqqqqGkAk5u0MiXkbQJ4hMW9nSBxAF1100UUXHUCRmLczJOYdQArU+pUCtR5AhA8++OCDH0B/pUCtXykgQDtDYt7OkCBA+OCDDz74IEC1fqVArV8hQHIcx3EcxyFALrrooosuIkDrVwrU+pUiQKj1KwVq/SJAZZNNNtlkI0AiMW9nSMwjQN7OkJi3MyRAm2yyySabJEBYCtT6lQIlQBWo9SsFaiVA0UUXXXTRJUCO4ziO4zgmQEuBWr9SoCZACB988MEHJ0DEvJ0hMW8nQIFav1Kg1idAPvjggw8+KED7lQK1fqUoQLczJObtDClAdNFFF110KUAxb2dIzNspQO4MiXk7QypAq6qqqqqqKkBnSMzbGRIrQCTm7QyJeStA4YMPPvjgK0CeITFvZ0gsQFq/UqDWryxAF1100UUXLUDU+pUCtX4tQJGYtzMk5i1ATTbZZJNNLkAK1PqVArUuQMdxHMdxHC9AhA8++OCDL0BArV8pUOsvQH+lQK1fKTBAXXTRRRddMEA7Q2LezpAwQBoS83aGxDBA+OCDDz74MEDXrxSo9SsxQLV+pUCtXzFAk0022WSTMUByHMdxHMcxQFDrVwrU+jFALrrooosuMkANiXk7Q2IyQOtXCtT6lTJAyiabbLLJMkCo9SsFav0yQIbEvJ0hMTNAZZNNNtlkM0BDYt7OkJgzQCIxb2dIzDNAAAAAAAAANEA=\",\"dtype\":\"float64\",\"shape\":[100]},\"y\":{\"__ndarray__\":\"AAAAAAAAAADZq5//EZ6eP077u8WaZ7c/LXhzMzbNxD/3SNCIT/3NP1S+64ZVZ9M/j2YkAQCK1z8s7H0Qbl/bP8o5Tacf594/VywNh8YR4T+okMW/PoziP3kaY1gi5eM/Av1+/rIe5T+R2aC6MjvmP1+PpzLXPOc/k57/PcIl6D/zxURV/ffoP+FZX8B2tek/15fB3/9f6j/n/nZWTPnqP6k51tHxgus/Do7oWGj+6z/JLVn+Cm3sP4FeZ+IY0Ow/eJ4lb7Yo7T9eQMK67nftP82vsQe1vu0/s8tbVub97T8EVov0SjbuP+pc0QmYaO4/ZZDEKnGV7j+5DGHAab3uPyzfH2gG4e4/JIUuUb4A7z92eiN6/BzvP8PQwMUgNu8/gK0DG4FM7z/8OklWamDvP0oaojIhcu8/Q1PmGOOB7z85/M3g5o/vP2VfPnBdnO8/qPomfHKn7z/TL/brTLHvP7YFUnEPuu8/MbjI89jB7z8J1Nf2xMjvP99rdwDszu8/OSlA42PU7z9LBLIGQNnvP+sbT7OR3e8/LfzlR2jh7z/Q/Mdw0eTvP6drpFfZ5+8/i1zGzIrq7z+8YTtu7+zvP7bjIsgP7+8/yPtAdPPw7z+2uEw0ofLvP3wMWgof9O8/PGTwS3L17z9YJBS0n/bvP4i5bYCr9+8/E8rqbpn47z/mCbfTbPnvP0jocqMo+u8/hisjf8/67z/GEHG9Y/vvP4yWOHHn++8/giyxc1z87z9p8StoxPzvP9x7AcMg/e8/JSHDz3L97z8j/GS0u/3vP+x4eHb8/e8/68Ck/jX+7z+boxYaaf7vP13E6IGW/u8/eTnF2L7+7z/TLeuu4v7vP8QG7oUC/+8/qdPT0B7/7z+Nd6bzN//vP+X+xkhO/+8/JmXMHmL/7z/44Wq9c//vP4papWSD/+8/pU0CTZH/7z+JCtinnf/vP6kA66Go/+8/Kt8YYrL/7z+HL7gLu//vP6Phqb3C/+8/ja9jk8n/7z/NBRalz//vP9FztQnV/+8/QtS81dn/7z+F6vAY3v/vP3EWfeLh/+8/TtK+P+X/7z8=\",\"dtype\":\"float64\",\"shape\":[100]}},\"selected\":{\"id\":\"2518\",\"type\":\"Selection\"},\"selection_policy\":{\"id\":\"2517\",\"type\":\"UnionRenderers\"}},\"id\":\"2491\",\"type\":\"ColumnDataSource\"},{\"attributes\":{\"line_color\":\"#ff7e0e\",\"line_width\":2,\"x\":{\"field\":\"x\"},\"y\":{\"field\":\"y\"}},\"id\":\"2492\",\"type\":\"Line\"},{\"attributes\":{\"line_color\":\"#2ba02b\",\"line_width\":2,\"x\":{\"field\":\"x\"},\"y\":{\"field\":\"y\"}},\"id\":\"2601\",\"type\":\"Line\"},{\"attributes\":{\"line_alpha\":0.1,\"line_color\":\"#1f77b4\",\"line_width\":2,\"x\":{\"field\":\"x\"},\"y\":{\"field\":\"y\"}},\"id\":\"2493\",\"type\":\"Line\"},{\"attributes\":{\"line_alpha\":0.1,\"line_color\":\"#1f77b4\",\"line_width\":2,\"x\":{\"field\":\"x\"},\"y\":{\"field\":\"y\"}},\"id\":\"2602\",\"type\":\"Line\"},{\"attributes\":{\"data_source\":{\"id\":\"2491\",\"type\":\"ColumnDataSource\"},\"glyph\":{\"id\":\"2492\",\"type\":\"Line\"},\"hover_glyph\":null,\"muted_glyph\":null,\"nonselection_glyph\":{\"id\":\"2493\",\"type\":\"Line\"},\"selection_glyph\":null,\"view\":{\"id\":\"2495\",\"type\":\"CDSView\"}},\"id\":\"2494\",\"type\":\"GlyphRenderer\"},{\"attributes\":{\"data_source\":{\"id\":\"2600\",\"type\":\"ColumnDataSource\"},\"glyph\":{\"id\":\"2601\",\"type\":\"Line\"},\"hover_glyph\":null,\"muted_glyph\":null,\"nonselection_glyph\":{\"id\":\"2602\",\"type\":\"Line\"},\"selection_glyph\":null,\"view\":{\"id\":\"2604\",\"type\":\"CDSView\"}},\"id\":\"2603\",\"type\":\"GlyphRenderer\"},{\"attributes\":{\"source\":{\"id\":\"2491\",\"type\":\"ColumnDataSource\"}},\"id\":\"2495\",\"type\":\"CDSView\"},{\"attributes\":{\"source\":{\"id\":\"2600\",\"type\":\"ColumnDataSource\"}},\"id\":\"2604\",\"type\":\"CDSView\"},{\"attributes\":{},\"id\":\"2501\",\"type\":\"UnionRenderers\"},{\"attributes\":{},\"id\":\"2612\",\"type\":\"UnionRenderers\"},{\"attributes\":{\"callback\":null,\"data\":{\"x\":{\"__ndarray__\":\"AAAAAAAAAAAxb2dIzNvJPzFvZ0jM29k/ZZNNNtlk4z8xb2dIzNvpP3+lQK1fKfA/ZZNNNtlk8z9LgVq/UqD2PzFvZ0jM2/k/F1100UUX/T9/pUCtXykAQHIcx3EcxwFAZZNNNtlkA0BYCtT6lQIFQEuBWr9SoAZAPvjggw8+CEAxb2dIzNsJQCTm7QyJeQtAF1100UUXDUAK1PqVArUOQH+lQK1fKRBA+OCDDz74EEByHMdxHMcRQOtXCtT6lRJAZZNNNtlkE0DezpCYtzMUQFgK1PqVAhVA0UUXXXTRFUBLgVq/UqAWQMS8nSExbxdAPvjggw8+GEC3MyTm7QwZQDFvZ0jM2xlAq6qqqqqqGkAk5u0MiXkbQJ4hMW9nSBxAF1100UUXHUCRmLczJOYdQArU+pUCtR5AhA8++OCDH0B/pUCtXykgQDtDYt7OkCBA+OCDDz74IEC1fqVArV8hQHIcx3EcxyFALrrooosuIkDrVwrU+pUiQKj1KwVq/SJAZZNNNtlkI0AiMW9nSMwjQN7OkJi3MyRAm2yyySabJEBYCtT6lQIlQBWo9SsFaiVA0UUXXXTRJUCO4ziO4zgmQEuBWr9SoCZACB988MEHJ0DEvJ0hMW8nQIFav1Kg1idAPvjggw8+KED7lQK1fqUoQLczJObtDClAdNFFF110KUAxb2dIzNspQO4MiXk7QypAq6qqqqqqKkBnSMzbGRIrQCTm7QyJeStA4YMPPvjgK0CeITFvZ0gsQFq/UqDWryxAF1100UUXLUDU+pUCtX4tQJGYtzMk5i1ATTbZZJNNLkAK1PqVArUuQMdxHMdxHC9AhA8++OCDL0BArV8pUOsvQH+lQK1fKTBAXXTRRRddMEA7Q2LezpAwQBoS83aGxDBA+OCDDz74MEDXrxSo9SsxQLV+pUCtXzFAk0022WSTMUByHMdxHMcxQFDrVwrU+jFALrrooosuMkANiXk7Q2IyQOtXCtT6lTJAyiabbLLJMkCo9SsFav0yQIbEvJ0hMTNAZZNNNtlkM0BDYt7OkJgzQCIxb2dIzDNAAAAAAAAANEA=\",\"dtype\":\"float64\",\"shape\":[100]},\"y\":{\"__ndarray__\":\"AAAAAAAA8D9p/dkcH/LrPxR49mtWk+o/gUj1xqtF6j+PkHomy2bqPy9vPf8DtOo/3mshVB0R6z+ziaYk4XHrP2hZKiHw0Os/pLDcIukr7D+W2sruw4HsP0VXvHkZ0uw/xmV++9Ec7T9qJ7NO/2HtP8l3yNPKoe0/YQ5DFWzc7T+LRaNxIxLuP8Cxr7s2Q+4/Kc11z+5v7j8996TKlZjuP//w5Z51ve4/JCZl+Nbe7j/JqLVdAP3uP8tG4Ik1GO8/G42B77Yw7z8KE9BnwUbvPyqQmPyNWu8/4FS42FFs7z+PqKBEPnzvP/zzLrKAiu8/SaAP5kKX7z/FZ6cmq6LvPx2xnkrcrO8/JnNSCPa17z8F+JYvFb7vP02ID8ZTxe8/KmgRVcnL7z9vN0wSi9HvPzquURas1u8/ssp/ij3b7z/hSHPXTt/vP4/7hcrt4u8/uiXDxCbm7z8i3i/YBOnvP8vCwO6R6+8/5H1239bt7z/BFP6L2+/vP4Q9cgSn8e8/gTYqlT/z7z/Ib4DUqvTvP+f/z8Pt9e8/VMDg1gz37z/6/5QDDPjvP/Fhl9Lu+O8/gMnzZ7j57z+7/+yPa/rvP1RdSMcK++8/ltG5RJj77z9qnn0AFvzvP1b3CLuF/O8/DDSxAun87z8K5+o4Qf3vPwE8tZqP/e8/Ow4DQNX97z/AqPohE/7vP/TKwB1K/u8//9vk93r+7z9KgApfpv7vP3+LfO7M/u8/nUg/Me/+7z8+zySiDf/vP8IRUK0o/+8/JI5CtED/7z9Bkd4MVv/vPwZvqANp/+8/FfzR3Hn/7z8Qyl/UiP/vP4SDgiCW/+8/vP7d8KH/7z+mA61vrP/vPwgA3cK1/+8/sDUaDL7/7z+DhK9oxf/vP4m1FfPL/+8/e9RTwtH/7z+4Cmrr1v/vP7VVFoHb/+8/StHhk9//7z9cyzgy4//vPzj0N2nm/+8/GdtCROn/7z80xLfN6//vPwOWqg7u/+8/08UxD/D/7z8PdmjW8f/vPxtuE2vz/+8/oW410/T/7z/JllMT9v/vP3zWvi/3/+8/lHE1LPj/7z8=\",\"dtype\":\"float64\",\"shape\":[100]}},\"selected\":{\"id\":\"2536\",\"type\":\"Selection\"},\"selection_policy\":{\"id\":\"2535\",\"type\":\"UnionRenderers\"}},\"id\":\"2505\",\"type\":\"ColumnDataSource\"},{\"attributes\":{\"label\":{\"value\":\"C\"},\"renderers\":[{\"id\":\"2603\",\"type\":\"GlyphRenderer\"}]},\"id\":\"2615\",\"type\":\"LegendItem\"},{\"attributes\":{},\"id\":\"2502\",\"type\":\"Selection\"},{\"attributes\":{},\"id\":\"2613\",\"type\":\"Selection\"},{\"attributes\":{\"line_alpha\":0.1,\"line_color\":\"#1f77b4\",\"line_width\":2,\"x\":{\"field\":\"x\"},\"y\":{\"field\":\"y\"}},\"id\":\"2507\",\"type\":\"Line\"},{\"attributes\":{\"line_color\":\"#2ba02b\",\"line_width\":2,\"x\":{\"field\":\"x\"},\"y\":{\"field\":\"y\"}},\"id\":\"2506\",\"type\":\"Line\"},{\"attributes\":{\"data_source\":{\"id\":\"2505\",\"type\":\"ColumnDataSource\"},\"glyph\":{\"id\":\"2506\",\"type\":\"Line\"},\"hover_glyph\":null,\"muted_glyph\":null,\"nonselection_glyph\":{\"id\":\"2507\",\"type\":\"Line\"},\"selection_glyph\":null,\"view\":{\"id\":\"2509\",\"type\":\"CDSView\"}},\"id\":\"2508\",\"type\":\"GlyphRenderer\"},{\"attributes\":{},\"id\":\"2728\",\"type\":\"Selection\"},{\"attributes\":{\"below\":[{\"id\":\"2550\",\"type\":\"LinearAxis\"}],\"center\":[{\"id\":\"2554\",\"type\":\"Grid\"},{\"id\":\"2559\",\"type\":\"Grid\"},{\"id\":\"2584\",\"type\":\"Legend\"}],\"left\":[{\"id\":\"2555\",\"type\":\"LinearAxis\"}],\"plot_height\":350,\"plot_width\":450,\"renderers\":[{\"id\":\"2576\",\"type\":\"GlyphRenderer\"},{\"id\":\"2589\",\"type\":\"GlyphRenderer\"},{\"id\":\"2603\",\"type\":\"GlyphRenderer\"}],\"title\":{\"id\":\"2540\",\"type\":\"Title\"},\"toolbar\":{\"id\":\"2566\",\"type\":\"Toolbar\"},\"x_range\":{\"id\":\"2542\",\"type\":\"DataRange1d\"},\"x_scale\":{\"id\":\"2546\",\"type\":\"LinearScale\"},\"y_range\":{\"id\":\"2544\",\"type\":\"DataRange1d\"},\"y_scale\":{\"id\":\"2548\",\"type\":\"LinearScale\"}},\"id\":\"2539\",\"subtype\":\"Figure\",\"type\":\"Plot\"},{\"attributes\":{\"source\":{\"id\":\"2505\",\"type\":\"ColumnDataSource\"}},\"id\":\"2509\",\"type\":\"CDSView\"},{\"attributes\":{},\"id\":\"2734\",\"type\":\"UnionRenderers\"},{\"attributes\":{},\"id\":\"2517\",\"type\":\"UnionRenderers\"},{\"attributes\":{},\"id\":\"2735\",\"type\":\"Selection\"},{\"attributes\":{\"label\":{\"value\":\"C\"},\"renderers\":[{\"id\":\"2508\",\"type\":\"GlyphRenderer\"}]},\"id\":\"2520\",\"type\":\"LegendItem\"},{\"attributes\":{},\"id\":\"2518\",\"type\":\"Selection\"},{\"attributes\":{\"line_color\":\"#d62628\",\"line_width\":2,\"x\":{\"field\":\"x\"},\"y\":{\"field\":\"y\"}},\"id\":\"2522\",\"type\":\"Line\"},{\"attributes\":{\"callback\":null,\"data\":{\"x\":{\"__ndarray__\":\"AAAAAAAAAAAxb2dIzNvJPzFvZ0jM29k/ZZNNNtlk4z8xb2dIzNvpP3+lQK1fKfA/ZZNNNtlk8z9LgVq/UqD2PzFvZ0jM2/k/F1100UUX/T9/pUCtXykAQHIcx3EcxwFAZZNNNtlkA0BYCtT6lQIFQEuBWr9SoAZAPvjggw8+CEAxb2dIzNsJQCTm7QyJeQtAF1100UUXDUAK1PqVArUOQH+lQK1fKRBA+OCDDz74EEByHMdxHMcRQOtXCtT6lRJAZZNNNtlkE0DezpCYtzMUQFgK1PqVAhVA0UUXXXTRFUBLgVq/UqAWQMS8nSExbxdAPvjggw8+GEC3MyTm7QwZQDFvZ0jM2xlAq6qqqqqqGkAk5u0MiXkbQJ4hMW9nSBxAF1100UUXHUCRmLczJOYdQArU+pUCtR5AhA8++OCDH0B/pUCtXykgQDtDYt7OkCBA+OCDDz74IEC1fqVArV8hQHIcx3EcxyFALrrooosuIkDrVwrU+pUiQKj1KwVq/SJAZZNNNtlkI0AiMW9nSMwjQN7OkJi3MyRAm2yyySabJEBYCtT6lQIlQBWo9SsFaiVA0UUXXXTRJUCO4ziO4zgmQEuBWr9SoCZACB988MEHJ0DEvJ0hMW8nQIFav1Kg1idAPvjggw8+KED7lQK1fqUoQLczJObtDClAdNFFF110KUAxb2dIzNspQO4MiXk7QypAq6qqqqqqKkBnSMzbGRIrQCTm7QyJeStA4YMPPvjgK0CeITFvZ0gsQFq/UqDWryxAF1100UUXLUDU+pUCtX4tQJGYtzMk5i1ATTbZZJNNLkAK1PqVArUuQMdxHMdxHC9AhA8++OCDL0BArV8pUOsvQH+lQK1fKTBAXXTRRRddMEA7Q2LezpAwQBoS83aGxDBA+OCDDz74MEDXrxSo9SsxQLV+pUCtXzFAk0022WSTMUByHMdxHMcxQFDrVwrU+jFALrrooosuMkANiXk7Q2IyQOtXCtT6lTJAyiabbLLJMkCo9SsFav0yQIbEvJ0hMTNAZZNNNtlkM0BDYt7OkJgzQCIxb2dIzDNAAAAAAAAANEA=\",\"dtype\":\"float64\",\"shape\":[100]},\"y\":{\"__ndarray__\":\"AAAAAAAAAABTCpiMgzfAP7EfJlCmssU//90q5FDpxj/HvRVm02TGP0JDCgPwL8U/iFB6r4q7wz8z2WVtezjCP1maVns/vMA/y3oa6bagvj9BK6mJ4PG7P8NFHTI0b7k/rdEMJHAZtz+FxGaKBfC0P4VBvGGp8bI/xoznVZ8csT/2psvlyN2uP6HjBEWUzKs/Ei2jCBMBqT/mi7BVo3amP8TvoBGmKKQ/eZ2teZASoj8kc6Uk+i+gPw8m98NO+Zw/BVzODyLpmT8pnv0F0yeXP0r67WxArpQ/Z2P16MR1kj9w7eprN3iQP5v/QnTTX40/luwXfEYvij+yDSZWNlWHP/O3U1jtyIQ/qjVj632Cgj/Z/UEatHqAP8bXO/gcVn0/9uhLd1Ubej85RuTZdjp3PwPhKNf0qXQ/P6UawDphcj+4jVtGlFhwPxFtBHo1Em0/CkLaPDvZaT+D2iHQJ/tmPxQyPT8RbmQ/qBmCiSApYj/aO+sBdCRgP0DxhBv3sVw/RPaSq9WAWT/XaCD/VqpWP38pAGB4JFQ/F09/PlLmUT9hBgCs8c9PP7EneKK1REw/5+/ZMGAeST+g/wBMwFFGP7+cit7i1EM/TJW5GO2eQT92iQwT/E8/PwsqRbgn0js/JoBfduq3OD+IjseoOPY1P8DaH1YqgzM/2A+O5/9VMT8Ax3NV4M0uP6aIUPMjXis/CuI/soFQKD+gMPtXD5olP6XjRzcYMSM/FAJ2C+wMIT/P4xdmu0seP51dx/1V6ho/jgI7rnfpFz8mftctZD4VPybPHvKK3xI/7Op8wGXEED/Q+HoN6MoNP+37HV/fdwo/xU9QgMiDBz81rBW/FOQEP8JZ/b9IjwI/TXiTcvl8AD8vubw9qEv9PlOuOSV1Bvo+MKrAFdYe9z4p2aH6Sor0PqQ5I9V0P/I+PNVYFw828D7Pxp80x83sPhS0wwvIluk+XCbiJL275j6KV8c7SDLkPmGP92lV8eE+mipOdJzh3z5eJtcTL1PcPjbUviPZKdk+WhOxIpVZ1j7cbGDSWNnTPoop+VKCoNE+TDOTOSpPzz4=\",\"dtype\":\"float64\",\"shape\":[100]}},\"selected\":{\"id\":\"2728\",\"type\":\"Selection\"},\"selection_policy\":{\"id\":\"2727\",\"type\":\"UnionRenderers\"}},\"id\":\"2521\",\"type\":\"ColumnDataSource\"},{\"attributes\":{\"line_alpha\":0.1,\"line_color\":\"#1f77b4\",\"line_width\":2,\"x\":{\"field\":\"x\"},\"y\":{\"field\":\"y\"}},\"id\":\"2523\",\"type\":\"Line\"},{\"attributes\":{\"data_source\":{\"id\":\"2521\",\"type\":\"ColumnDataSource\"},\"glyph\":{\"id\":\"2522\",\"type\":\"Line\"},\"hover_glyph\":null,\"muted_glyph\":null,\"nonselection_glyph\":{\"id\":\"2523\",\"type\":\"Line\"},\"selection_glyph\":null,\"view\":{\"id\":\"2525\",\"type\":\"CDSView\"}},\"id\":\"2524\",\"type\":\"GlyphRenderer\"},{\"attributes\":{\"source\":{\"id\":\"2521\",\"type\":\"ColumnDataSource\"}},\"id\":\"2525\",\"type\":\"CDSView\"},{\"attributes\":{},\"id\":\"2535\",\"type\":\"UnionRenderers\"},{\"attributes\":{\"label\":{\"value\":\"AC\"},\"renderers\":[{\"id\":\"2524\",\"type\":\"GlyphRenderer\"}]},\"id\":\"2538\",\"type\":\"LegendItem\"},{\"attributes\":{},\"id\":\"2536\",\"type\":\"Selection\"},{\"attributes\":{\"line_color\":\"#1f77b3\",\"line_width\":2,\"x\":{\"field\":\"x\"},\"y\":{\"field\":\"y\"}},\"id\":\"2479\",\"type\":\"Line\"},{\"attributes\":{\"line_alpha\":0.1,\"line_color\":\"#1f77b4\",\"line_width\":2,\"x\":{\"field\":\"x\"},\"y\":{\"field\":\"y\"}},\"id\":\"2575\",\"type\":\"Line\"},{\"attributes\":{\"callback\":null},\"id\":\"2542\",\"type\":\"DataRange1d\"},{\"attributes\":{},\"id\":\"2565\",\"type\":\"HelpTool\"},{\"attributes\":{\"text\":\"Exercise 1b\"},\"id\":\"2540\",\"type\":\"Title\"},{\"attributes\":{\"callback\":null},\"id\":\"2544\",\"type\":\"DataRange1d\"},{\"attributes\":{},\"id\":\"2546\",\"type\":\"LinearScale\"},{\"attributes\":{\"below\":[{\"id\":\"2455\",\"type\":\"LinearAxis\"}],\"center\":[{\"id\":\"2459\",\"type\":\"Grid\"},{\"id\":\"2464\",\"type\":\"Grid\"},{\"id\":\"2489\",\"type\":\"Legend\"}],\"left\":[{\"id\":\"2460\",\"type\":\"LinearAxis\"}],\"plot_height\":350,\"plot_width\":450,\"renderers\":[{\"id\":\"2481\",\"type\":\"GlyphRenderer\"},{\"id\":\"2494\",\"type\":\"GlyphRenderer\"},{\"id\":\"2508\",\"type\":\"GlyphRenderer\"},{\"id\":\"2524\",\"type\":\"GlyphRenderer\"}],\"title\":{\"id\":\"2445\",\"type\":\"Title\"},\"toolbar\":{\"id\":\"2471\",\"type\":\"Toolbar\"},\"x_range\":{\"id\":\"2447\",\"type\":\"DataRange1d\"},\"x_scale\":{\"id\":\"2451\",\"type\":\"LinearScale\"},\"y_range\":{\"id\":\"2449\",\"type\":\"DataRange1d\"},\"y_scale\":{\"id\":\"2453\",\"type\":\"LinearScale\"}},\"id\":\"2444\",\"subtype\":\"Figure\",\"type\":\"Plot\"},{\"attributes\":{},\"id\":\"2548\",\"type\":\"LinearScale\"},{\"attributes\":{\"axis_label\":\"time\",\"formatter\":{\"id\":\"2579\",\"type\":\"BasicTickFormatter\"},\"ticker\":{\"id\":\"2551\",\"type\":\"BasicTicker\"}},\"id\":\"2550\",\"type\":\"LinearAxis\"},{\"attributes\":{\"dimension\":1,\"ticker\":{\"id\":\"2556\",\"type\":\"BasicTicker\"}},\"id\":\"2559\",\"type\":\"Grid\"},{\"attributes\":{},\"id\":\"2551\",\"type\":\"BasicTicker\"},{\"attributes\":{\"ticker\":{\"id\":\"2551\",\"type\":\"BasicTicker\"}},\"id\":\"2554\",\"type\":\"Grid\"},{\"attributes\":{\"callback\":null},\"id\":\"2447\",\"type\":\"DataRange1d\"},{\"attributes\":{},\"id\":\"2556\",\"type\":\"BasicTicker\"},{\"attributes\":{\"axis_label\":\"conc\",\"formatter\":{\"id\":\"2581\",\"type\":\"BasicTickFormatter\"},\"ticker\":{\"id\":\"2556\",\"type\":\"BasicTicker\"}},\"id\":\"2555\",\"type\":\"LinearAxis\"},{\"attributes\":{\"callback\":null},\"id\":\"2449\",\"type\":\"DataRange1d\"},{\"attributes\":{\"source\":{\"id\":\"2573\",\"type\":\"ColumnDataSource\"}},\"id\":\"2577\",\"type\":\"CDSView\"},{\"attributes\":{\"line_color\":\"#1f77b3\",\"line_width\":2,\"x\":{\"field\":\"x\"},\"y\":{\"field\":\"y\"}},\"id\":\"2574\",\"type\":\"Line\"},{\"attributes\":{\"callback\":null,\"data\":{\"x\":{\"__ndarray__\":\"AAAAAAAAAAAxb2dIzNvJPzFvZ0jM29k/ZZNNNtlk4z8xb2dIzNvpP3+lQK1fKfA/ZZNNNtlk8z9LgVq/UqD2PzFvZ0jM2/k/F1100UUX/T9/pUCtXykAQHIcx3EcxwFAZZNNNtlkA0BYCtT6lQIFQEuBWr9SoAZAPvjggw8+CEAxb2dIzNsJQCTm7QyJeQtAF1100UUXDUAK1PqVArUOQH+lQK1fKRBA+OCDDz74EEByHMdxHMcRQOtXCtT6lRJAZZNNNtlkE0DezpCYtzMUQFgK1PqVAhVA0UUXXXTRFUBLgVq/UqAWQMS8nSExbxdAPvjggw8+GEC3MyTm7QwZQDFvZ0jM2xlAq6qqqqqqGkAk5u0MiXkbQJ4hMW9nSBxAF1100UUXHUCRmLczJOYdQArU+pUCtR5AhA8++OCDH0B/pUCtXykgQDtDYt7OkCBA+OCDDz74IEC1fqVArV8hQHIcx3EcxyFALrrooosuIkDrVwrU+pUiQKj1KwVq/SJAZZNNNtlkI0AiMW9nSMwjQN7OkJi3MyRAm2yyySabJEBYCtT6lQIlQBWo9SsFaiVA0UUXXXTRJUCO4ziO4zgmQEuBWr9SoCZACB988MEHJ0DEvJ0hMW8nQIFav1Kg1idAPvjggw8+KED7lQK1fqUoQLczJObtDClAdNFFF110KUAxb2dIzNspQO4MiXk7QypAq6qqqqqqKkBnSMzbGRIrQCTm7QyJeStA4YMPPvjgK0CeITFvZ0gsQFq/UqDWryxAF1100UUXLUDU+pUCtX4tQJGYtzMk5i1ATTbZZJNNLkAK1PqVArUuQMdxHMdxHC9AhA8++OCDL0BArV8pUOsvQH+lQK1fKTBAXXTRRRddMEA7Q2LezpAwQBoS83aGxDBA+OCDDz74MEDXrxSo9SsxQLV+pUCtXzFAk0022WSTMUByHMdxHMcxQFDrVwrU+jFALrrooosuMkANiXk7Q2IyQOtXCtT6lTJAyiabbLLJMkCo9SsFav0yQIbEvJ0hMTNAZZNNNtlkM0BDYt7OkJgzQCIxb2dIzDNAAAAAAAAANEA=\",\"dtype\":\"float64\",\"shape\":[100]},\"y\":{\"__ndarray__\":\"AAAAAAAA8D99GDBuW9/pP/Bk9cYldeQ/Oia5OdCY3z+XX0km9dHXP9IEugS3itE/T64UzClJyT/I7umny+LBP5UebNaW6rg/boiZi6wlsT8ZsxBvbmOnP7Lr0r5DsZ8/Z5ZHQGtflT8i6gozyLuMP9LocYqXRYM/04MO7QPQeT8M8IhW10RxP5p/ygkgF2c/6gSbOhPcXj9Pwqkkh51UPwv1gzKwiUs/LEcfjM1jQj/zSuBcLY84P/5ZicLzZTA/6Q5girXlJT96BtGQWD0dP+GQuDaGhRM/9EXIcw8RCj8kIt3uN2cBP+loV9rRPPc+/OZYNzIH7z7BgKjvNbfkPpex3vPUqNs+DwcO3yN30j4qWIeLwafIPky1WQGsdcA+oA7FB6P6tT5sru4JMlatPiJpJglnkqM+Biji88Qkmj4AnGFoFHSRPmRgaNI6V4c+losbUTI7fz7BP5OPqPN0PtA0r6S8/ms+w8mpsECRYj4BZGnouX1YPtwC6AXqH1A+XGeYpPNORT4xQ6/ZGYs8PmF/9w9cjjM+kH/6PLzRKj4mR3yrhTwiPkgmB922qRg+GrxU18+pED5Bvxy3Ln0GPli3Ru7ZZ/49+GkMR3Ex7z1wW4+pwXu5PVqI7FhISeK9jninMWic8L1op/r0j8/0vb7Qb3YbvvW9lvQGtgpo872hYtl4zFTwvb5idllPIfK9LGvzhjkM873te1ABixXzvQKVjchDPfK9abaq3GOD8L1CwE971s/rvWokCtez1eS9He+EApmR472wgJPMgmPhvYUkRC3Zat69tUdhwawO2r3aan5VgLLVvQCOm+lTVtG9SmJx+070yb2HPOuo+3DFvU1cb7GhKMW9FHzzuUfgxL3bm3fC7ZfEvaG7+8qTT8S9aNt/0zkHxL0u+wPc377DvfUaiOSFdsO9uzoM7Ssuw72BWpD10eXCvUh6FP53ncK9D5qYBh5Vwr3VuRwPxAzCvZzZoBdqxMG9YfkkIBB8wb0pGakotjPBve84LTFc68C9tVixOQKjwL18eDVCqFrAvUKYuUpOEsC9EnB7puiTv70=\",\"dtype\":\"float64\",\"shape\":[100]}},\"selected\":{\"id\":\"2597\",\"type\":\"Selection\"},\"selection_policy\":{\"id\":\"2596\",\"type\":\"UnionRenderers\"}},\"id\":\"2573\",\"type\":\"ColumnDataSource\"},{\"attributes\":{},\"id\":\"2451\",\"type\":\"LinearScale\"},{\"attributes\":{},\"id\":\"2453\",\"type\":\"LinearScale\"},{\"attributes\":{\"active_drag\":\"auto\",\"active_inspect\":\"auto\",\"active_multi\":null,\"active_scroll\":\"auto\",\"active_tap\":\"auto\",\"tools\":[{\"id\":\"2560\",\"type\":\"PanTool\"},{\"id\":\"2561\",\"type\":\"WheelZoomTool\"},{\"id\":\"2562\",\"type\":\"BoxZoomTool\"},{\"id\":\"2563\",\"type\":\"SaveTool\"},{\"id\":\"2564\",\"type\":\"ResetTool\"},{\"id\":\"2565\",\"type\":\"HelpTool\"}]},\"id\":\"2566\",\"type\":\"Toolbar\"},{\"attributes\":{\"axis_label\":\"time\",\"formatter\":{\"id\":\"2484\",\"type\":\"BasicTickFormatter\"},\"ticker\":{\"id\":\"2456\",\"type\":\"BasicTicker\"}},\"id\":\"2455\",\"type\":\"LinearAxis\"},{\"attributes\":{\"dimension\":1,\"ticker\":{\"id\":\"2461\",\"type\":\"BasicTicker\"}},\"id\":\"2464\",\"type\":\"Grid\"},{\"attributes\":{\"data_source\":{\"id\":\"2573\",\"type\":\"ColumnDataSource\"},\"glyph\":{\"id\":\"2574\",\"type\":\"Line\"},\"hover_glyph\":null,\"muted_glyph\":null,\"nonselection_glyph\":{\"id\":\"2575\",\"type\":\"Line\"},\"selection_glyph\":null,\"view\":{\"id\":\"2577\",\"type\":\"CDSView\"}},\"id\":\"2576\",\"type\":\"GlyphRenderer\"},{\"attributes\":{},\"id\":\"2456\",\"type\":\"BasicTicker\"},{\"attributes\":{},\"id\":\"2560\",\"type\":\"PanTool\"},{\"attributes\":{\"ticker\":{\"id\":\"2456\",\"type\":\"BasicTicker\"}},\"id\":\"2459\",\"type\":\"Grid\"},{\"attributes\":{},\"id\":\"2561\",\"type\":\"WheelZoomTool\"},{\"attributes\":{},\"id\":\"2461\",\"type\":\"BasicTicker\"},{\"attributes\":{\"axis_label\":\"conc\",\"formatter\":{\"id\":\"2486\",\"type\":\"BasicTickFormatter\"},\"ticker\":{\"id\":\"2461\",\"type\":\"BasicTicker\"}},\"id\":\"2460\",\"type\":\"LinearAxis\"},{\"attributes\":{\"overlay\":{\"id\":\"2583\",\"type\":\"BoxAnnotation\"}},\"id\":\"2562\",\"type\":\"BoxZoomTool\"},{\"attributes\":{},\"id\":\"2563\",\"type\":\"SaveTool\"},{\"attributes\":{\"data_source\":{\"id\":\"2478\",\"type\":\"ColumnDataSource\"},\"glyph\":{\"id\":\"2479\",\"type\":\"Line\"},\"hover_glyph\":null,\"muted_glyph\":null,\"nonselection_glyph\":{\"id\":\"2480\",\"type\":\"Line\"},\"selection_glyph\":null,\"view\":{\"id\":\"2482\",\"type\":\"CDSView\"}},\"id\":\"2481\",\"type\":\"GlyphRenderer\"},{\"attributes\":{},\"id\":\"2564\",\"type\":\"ResetTool\"},{\"attributes\":{\"callback\":null,\"data\":{\"x\":{\"__ndarray__\":\"AAAAAAAAAAAxb2dIzNvJPzFvZ0jM29k/ZZNNNtlk4z8xb2dIzNvpP3+lQK1fKfA/ZZNNNtlk8z9LgVq/UqD2PzFvZ0jM2/k/F1100UUX/T9/pUCtXykAQHIcx3EcxwFAZZNNNtlkA0BYCtT6lQIFQEuBWr9SoAZAPvjggw8+CEAxb2dIzNsJQCTm7QyJeQtAF1100UUXDUAK1PqVArUOQH+lQK1fKRBA+OCDDz74EEByHMdxHMcRQOtXCtT6lRJAZZNNNtlkE0DezpCYtzMUQFgK1PqVAhVA0UUXXXTRFUBLgVq/UqAWQMS8nSExbxdAPvjggw8+GEC3MyTm7QwZQDFvZ0jM2xlAq6qqqqqqGkAk5u0MiXkbQJ4hMW9nSBxAF1100UUXHUCRmLczJOYdQArU+pUCtR5AhA8++OCDH0B/pUCtXykgQDtDYt7OkCBA+OCDDz74IEC1fqVArV8hQHIcx3EcxyFALrrooosuIkDrVwrU+pUiQKj1KwVq/SJAZZNNNtlkI0AiMW9nSMwjQN7OkJi3MyRAm2yyySabJEBYCtT6lQIlQBWo9SsFaiVA0UUXXXTRJUCO4ziO4zgmQEuBWr9SoCZACB988MEHJ0DEvJ0hMW8nQIFav1Kg1idAPvjggw8+KED7lQK1fqUoQLczJObtDClAdNFFF110KUAxb2dIzNspQO4MiXk7QypAq6qqqqqqKkBnSMzbGRIrQCTm7QyJeStA4YMPPvjgK0CeITFvZ0gsQFq/UqDWryxAF1100UUXLUDU+pUCtX4tQJGYtzMk5i1ATTbZZJNNLkAK1PqVArUuQMdxHMdxHC9AhA8++OCDL0BArV8pUOsvQH+lQK1fKTBAXXTRRRddMEA7Q2LezpAwQBoS83aGxDBA+OCDDz74MEDXrxSo9SsxQLV+pUCtXzFAk0022WSTMUByHMdxHMcxQFDrVwrU+jFALrrooosuMkANiXk7Q2IyQOtXCtT6lTJAyiabbLLJMkCo9SsFav0yQIbEvJ0hMTNAZZNNNtlkM0BDYt7OkJgzQCIxb2dIzDNAAAAAAAAANEA=\",\"dtype\":\"float64\",\"shape\":[100]},\"y\":{\"__ndarray__\":\"AAAAAAAA8D8NAN2MLv3qP6z4PhNjpuc/d2oYOl4S5T9SfkZEd+fiPweQxztZAOE/LnEepzqY3j8+J884VITbPw55B5vAutg/ogifN0U01j/gkwpeCuvTP6B5skLu2dE/IqP983v4zz9/N0lQMpvMP8qhg4TOk8k/Wb8NXafaxj99/nlxmGjEP5hfQe3/NsI/X9XQvrs/wD/bwm+hS/q8P+W6fWge1Lk/4MDk+3QDtz852OP6qn+0P4NCxzvlQLI/T3XfAgRAsD8jK93QKu2sPy4Gbk6Pvak/OpPIJbjmpj8cKVUBNV+kP5Bx2YWKHqI/nP6wtBsdoD80YsvILKicP54+2k+8epk/2MB95Pamlj9Psm+uFiOUP7zx1glg5pE/6qtugw7Sjz/mHb8AL0iMPyT95Ou4Iok/AN1dZpxWhj9pK1Op/dmDP/4L55EWpIE/EowVTiRafz/vKdcc9tt7P+qMXrc+wXg/Vdvi1vX+dT9uXiCTSotzP6XUaP2BXXE/LU0N6rHbbj8LgmvOzWprP9oB5IAQXGg/nizE+o6kZT9FLwPNkjpjP2JQ9vJ6FWE/ZfbZWjZbXj95CzxjQ/haP8FI80r+9Vc/sKir8aBJVT+8dMthmOlSP/PC1V1hzVA/jFg/A9vaTT8X4wpbE4ZKPzH9CR5pkEc/erYQYUTvRD+yfXsOOZlCP+TGijfphUA/b+yDDcZbPT+RSXzLDBU6P83Bpx/qKzc/gf3gcOyVND930e7Gz0kyP6hWr3RSPzA/UFHQ9kfeLD8oM1KZh6UpP0j1Yf/SyCY/v/iy0+I9JD8WwGeSpPshP2Gs5TfT8x8/X9qoGANjHD9o+7o6GDgZP8r2KN+dZxY/m1pBzGjnEz+aaJ8hoa4RPx5jqq2Tag8/y4/W2+HoCz/4cDHKf8sIPyAnzD4cBwY/A8fq4LeRAz99KzYwmGIBP/9Oynmm4/4+5bb6/RRx+z6waVnK/2D4PvVCM1qAqPU+9HUmC+c98z7ZMiQ4qRjxPkzBUPpdYe4+Klxmmnj96j4zvEusYvrnPuKCE8BBTeU+/xxOn3bs4j4=\",\"dtype\":\"float64\",\"shape\":[100]}},\"selected\":{\"id\":\"2502\",\"type\":\"Selection\"},\"selection_policy\":{\"id\":\"2501\",\"type\":\"UnionRenderers\"}},\"id\":\"2478\",\"type\":\"ColumnDataSource\"},{\"attributes\":{\"line_alpha\":0.1,\"line_color\":\"#1f77b4\",\"line_width\":2,\"x\":{\"field\":\"x\"},\"y\":{\"field\":\"y\"}},\"id\":\"2480\",\"type\":\"Line\"}],\"root_ids\":[\"2616\"]},\"title\":\"Bokeh Application\",\"version\":\"1.4.0\"}};\n",
       "  var render_items = [{\"docid\":\"027e87fa-6df5-4d04-aea6-88f787fb01f5\",\"roots\":{\"2616\":\"2d4a50f7-b376-4ee8-b7a2-1b548bf925d9\"}}];\n",
       "  root.Bokeh.embed.embed_items_notebook(docs_json, render_items);\n",
       "\n",
       "  }\n",
       "  if (root.Bokeh !== undefined) {\n",
       "    embed_document(root);\n",
       "  } else {\n",
       "    var attempts = 0;\n",
       "    var timer = setInterval(function(root) {\n",
       "      if (root.Bokeh !== undefined) {\n",
       "        clearInterval(timer);\n",
       "        embed_document(root);\n",
       "      } else {\n",
       "        attempts++;\n",
       "        if (attempts > 100) {\n",
       "          clearInterval(timer);\n",
       "          console.log(\"Bokeh: ERROR: Unable to run BokehJS code because BokehJS library is missing\");\n",
       "        }\n",
       "      }\n",
       "    }, 10, root)\n",
       "  }\n",
       "})(window);"
      ],
      "application/vnd.bokehjs_exec.v0+json": ""
     },
     "metadata": {
      "application/vnd.bokehjs_exec.v0+json": {
       "id": "2616"
      }
     },
     "output_type": "display_data"
    }
   ],
   "source": [
    "p_a = bokeh.plotting.figure(width = 450, height = 350, title = 'Exercise 1a', \n",
    "                         x_axis_label = 'time',\n",
    "                         y_axis_label = 'conc')\n",
    "p_a.line(timepoints, Results_1a['A'], legend_label = 'A', color = palette[0], line_width = 2)\n",
    "p_a.line(timepoints, Results_1a['B'], legend_label = 'B',color = palette[1], line_width = 2)\n",
    "p_a.line(timepoints, Results_1a['C'], legend_label = 'C',color = palette[2], line_width = 2)\n",
    "p_a.line(timepoints, Results_1a['ordered_complex_A_C_'], legend_label = 'AC',color = palette[3], line_width = 2)\n",
    "\n",
    "\n",
    "p_b = bokeh.plotting.figure(width = 450, height = 350, title = 'Exercise 1b', \n",
    "                         x_axis_label = 'time',\n",
    "                         y_axis_label = 'conc')\n",
    "p_b.line(timepoints, Results_1b['A'], legend_label = 'A', color = palette[0], line_width = 2)\n",
    "p_b.line(timepoints, Results_1b['B'], legend_label = 'B',color = palette[1], line_width = 2)\n",
    "p_b.line(timepoints, Results_1b['C'], legend_label = 'C',color = palette[2], line_width = 2)\n",
    "\n",
    "bokeh.io.show(row(p_a, p_b))"
   ]
  },
  {
   "cell_type": "markdown",
   "metadata": {},
   "source": [
    "Make a quick function to compare values with input of k_u, k_b, k_cat, and initial conditions."
   ]
  },
  {
   "cell_type": "code",
   "execution_count": 38,
   "metadata": {},
   "outputs": [],
   "source": [
    "# Let's make easy function so we can compare\n",
    "def check_eqn(ku, kb, kcat, x0):\n",
    "    A = Species(\"A\")\n",
    "    B = Species(\"B\")\n",
    "    C = Species(\"C\")\n",
    "\n",
    "    # Exercise 1a\n",
    "    Complex_AC = Complex([A, C], ordered = True)\n",
    "    \n",
    "    R1_1 = Reaction.from_massaction([A, C], [Complex_AC], \n",
    "                                k_forward = kb, k_reverse = ku)\n",
    "    \n",
    "    R2_1 = Reaction.from_massaction([Complex_AC], [C, B], k_forward = k_cat)\n",
    "\n",
    "    # Create CRN\n",
    "    CRN_1a = ChemicalReactionNetwork(species = [A, B, C], reactions = [R1_1, R2_1])\n",
    "\n",
    "    # Exercise 1b\n",
    "    prop_hill_pos = ProportionalHillPositive(k = k_cat, s1 = A, K = ku/kb, n = 1, d = C)\n",
    "\n",
    "    #create the reaction\n",
    "    r_prop_hill_pos = Reaction([A], [B], propensity_type = prop_hill_pos)\n",
    "\n",
    "    CRN_1b = ChemicalReactionNetwork(species = [A, B, C], reactions = [r_prop_hill_pos])\n",
    "    \n",
    "    # Get results and plot\n",
    "    Results_1a = CRN_1a.simulate_with_bioscrape(timepoints,x0)\n",
    "    Results_1b = CRN_1b.simulate_with_bioscrape(timepoints,x0)\n",
    "\n",
    "    \n",
    "    p_a = bokeh.plotting.figure(width = 450, height = 350, title = 'Exercise 1a, 1b overlayed', \n",
    "                         x_axis_label = 'time',\n",
    "                         y_axis_label = 'conc')\n",
    "    p_a.line(timepoints, Results_1a['A'], legend_label = 'A', color = palette[0], line_width = 2)\n",
    "    p_a.line(timepoints, Results_1a['B'], legend_label = 'B',color = palette[1], line_width = 2)\n",
    "    p_a.line(timepoints, Results_1a['C'], legend_label = 'C',color = palette[2], line_width = 2)\n",
    "    p_a.line(timepoints, Results_1a['ordered_complex_A_C_'], legend_label = 'AC',color = palette[3], line_width = 2)\n",
    "\n",
    "\n",
    "#     p_b = bokeh.plotting.figure(width = 450, height = 350, title = 'Exercise 1b', \n",
    "#                              x_axis_label = 'time',\n",
    "#                              y_axis_label = 'conc')\n",
    "    p_a.line(timepoints, Results_1b['A'], legend_label = 'A', color = palette[0], line_width = 2)\n",
    "    p_a.line(timepoints, Results_1b['B'], legend_label = 'B',color = palette[1], line_width = 2)\n",
    "    p_a.line(timepoints, Results_1b['C'], legend_label = 'C',color = palette[2], line_width = 2)\n",
    "\n",
    "    #bokeh.io.show(row(p_a, p_b))\n",
    "    bokeh.io.show(p_a)"
   ]
  },
  {
   "cell_type": "markdown",
   "metadata": {},
   "source": [
    "Take a look!"
   ]
  },
  {
   "cell_type": "code",
   "execution_count": 39,
   "metadata": {},
   "outputs": [
    {
     "data": {
      "text/html": [
       "\n",
       "\n",
       "\n",
       "\n",
       "\n",
       "\n",
       "  <div class=\"bk-root\" id=\"18faaeff-4d53-41b0-b7b3-2ec2c86a9de9\" data-root-id=\"3752\"></div>\n"
      ]
     },
     "metadata": {},
     "output_type": "display_data"
    },
    {
     "data": {
      "application/javascript": [
       "(function(root) {\n",
       "  function embed_document(root) {\n",
       "    \n",
       "  var docs_json = {\"2aa7b386-5510-40a0-af65-0f15aba75c90\":{\"roots\":{\"references\":[{\"attributes\":{\"below\":[{\"id\":\"3763\",\"type\":\"LinearAxis\"}],\"center\":[{\"id\":\"3767\",\"type\":\"Grid\"},{\"id\":\"3772\",\"type\":\"Grid\"},{\"id\":\"3797\",\"type\":\"Legend\"}],\"left\":[{\"id\":\"3768\",\"type\":\"LinearAxis\"}],\"plot_height\":350,\"plot_width\":450,\"renderers\":[{\"id\":\"3789\",\"type\":\"GlyphRenderer\"},{\"id\":\"3802\",\"type\":\"GlyphRenderer\"},{\"id\":\"3816\",\"type\":\"GlyphRenderer\"},{\"id\":\"3832\",\"type\":\"GlyphRenderer\"},{\"id\":\"3850\",\"type\":\"GlyphRenderer\"},{\"id\":\"3869\",\"type\":\"GlyphRenderer\"},{\"id\":\"3890\",\"type\":\"GlyphRenderer\"}],\"title\":{\"id\":\"3753\",\"type\":\"Title\"},\"toolbar\":{\"id\":\"3779\",\"type\":\"Toolbar\"},\"x_range\":{\"id\":\"3755\",\"type\":\"DataRange1d\"},\"x_scale\":{\"id\":\"3759\",\"type\":\"LinearScale\"},\"y_range\":{\"id\":\"3757\",\"type\":\"DataRange1d\"},\"y_scale\":{\"id\":\"3761\",\"type\":\"LinearScale\"}},\"id\":\"3752\",\"subtype\":\"Figure\",\"type\":\"Plot\"},{\"attributes\":{\"axis_label\":\"time\",\"formatter\":{\"id\":\"3792\",\"type\":\"BasicTickFormatter\"},\"ticker\":{\"id\":\"3764\",\"type\":\"BasicTicker\"}},\"id\":\"3763\",\"type\":\"LinearAxis\"},{\"attributes\":{\"line_alpha\":0.1,\"line_color\":\"#1f77b4\",\"line_width\":2,\"x\":{\"field\":\"x\"},\"y\":{\"field\":\"y\"}},\"id\":\"3831\",\"type\":\"Line\"},{\"attributes\":{},\"id\":\"3792\",\"type\":\"BasicTickFormatter\"},{\"attributes\":{},\"id\":\"4088\",\"type\":\"Selection\"},{\"attributes\":{\"axis_label\":\"conc\",\"formatter\":{\"id\":\"3794\",\"type\":\"BasicTickFormatter\"},\"ticker\":{\"id\":\"3769\",\"type\":\"BasicTicker\"}},\"id\":\"3768\",\"type\":\"LinearAxis\"},{\"attributes\":{\"source\":{\"id\":\"3799\",\"type\":\"ColumnDataSource\"}},\"id\":\"3803\",\"type\":\"CDSView\"},{\"attributes\":{\"line_alpha\":0.1,\"line_color\":\"#1f77b4\",\"line_width\":2,\"x\":{\"field\":\"x\"},\"y\":{\"field\":\"y\"}},\"id\":\"3868\",\"type\":\"Line\"},{\"attributes\":{\"data_source\":{\"id\":\"3829\",\"type\":\"ColumnDataSource\"},\"glyph\":{\"id\":\"3830\",\"type\":\"Line\"},\"hover_glyph\":null,\"muted_glyph\":null,\"nonselection_glyph\":{\"id\":\"3831\",\"type\":\"Line\"},\"selection_glyph\":null,\"view\":{\"id\":\"3833\",\"type\":\"CDSView\"}},\"id\":\"3832\",\"type\":\"GlyphRenderer\"},{\"attributes\":{},\"id\":\"3794\",\"type\":\"BasicTickFormatter\"},{\"attributes\":{\"data_source\":{\"id\":\"3866\",\"type\":\"ColumnDataSource\"},\"glyph\":{\"id\":\"3867\",\"type\":\"Line\"},\"hover_glyph\":null,\"muted_glyph\":null,\"nonselection_glyph\":{\"id\":\"3868\",\"type\":\"Line\"},\"selection_glyph\":null,\"view\":{\"id\":\"3870\",\"type\":\"CDSView\"}},\"id\":\"3869\",\"type\":\"GlyphRenderer\"},{\"attributes\":{\"items\":[{\"id\":\"3798\",\"type\":\"LegendItem\"},{\"id\":\"3812\",\"type\":\"LegendItem\"},{\"id\":\"3828\",\"type\":\"LegendItem\"},{\"id\":\"3846\",\"type\":\"LegendItem\"}]},\"id\":\"3797\",\"type\":\"Legend\"},{\"attributes\":{\"line_color\":\"#1f77b3\",\"line_width\":2,\"x\":{\"field\":\"x\"},\"y\":{\"field\":\"y\"}},\"id\":\"3848\",\"type\":\"Line\"},{\"attributes\":{},\"id\":\"3764\",\"type\":\"BasicTicker\"},{\"attributes\":{\"data_source\":{\"id\":\"3799\",\"type\":\"ColumnDataSource\"},\"glyph\":{\"id\":\"3800\",\"type\":\"Line\"},\"hover_glyph\":null,\"muted_glyph\":null,\"nonselection_glyph\":{\"id\":\"3801\",\"type\":\"Line\"},\"selection_glyph\":null,\"view\":{\"id\":\"3803\",\"type\":\"CDSView\"}},\"id\":\"3802\",\"type\":\"GlyphRenderer\"},{\"attributes\":{\"callback\":null,\"data\":{\"x\":{\"__ndarray__\":\"AAAAAAAAAAAxb2dIzNvJPzFvZ0jM29k/ZZNNNtlk4z8xb2dIzNvpP3+lQK1fKfA/ZZNNNtlk8z9LgVq/UqD2PzFvZ0jM2/k/F1100UUX/T9/pUCtXykAQHIcx3EcxwFAZZNNNtlkA0BYCtT6lQIFQEuBWr9SoAZAPvjggw8+CEAxb2dIzNsJQCTm7QyJeQtAF1100UUXDUAK1PqVArUOQH+lQK1fKRBA+OCDDz74EEByHMdxHMcRQOtXCtT6lRJAZZNNNtlkE0DezpCYtzMUQFgK1PqVAhVA0UUXXXTRFUBLgVq/UqAWQMS8nSExbxdAPvjggw8+GEC3MyTm7QwZQDFvZ0jM2xlAq6qqqqqqGkAk5u0MiXkbQJ4hMW9nSBxAF1100UUXHUCRmLczJOYdQArU+pUCtR5AhA8++OCDH0B/pUCtXykgQDtDYt7OkCBA+OCDDz74IEC1fqVArV8hQHIcx3EcxyFALrrooosuIkDrVwrU+pUiQKj1KwVq/SJAZZNNNtlkI0AiMW9nSMwjQN7OkJi3MyRAm2yyySabJEBYCtT6lQIlQBWo9SsFaiVA0UUXXXTRJUCO4ziO4zgmQEuBWr9SoCZACB988MEHJ0DEvJ0hMW8nQIFav1Kg1idAPvjggw8+KED7lQK1fqUoQLczJObtDClAdNFFF110KUAxb2dIzNspQO4MiXk7QypAq6qqqqqqKkBnSMzbGRIrQCTm7QyJeStA4YMPPvjgK0CeITFvZ0gsQFq/UqDWryxAF1100UUXLUDU+pUCtX4tQJGYtzMk5i1ATTbZZJNNLkAK1PqVArUuQMdxHMdxHC9AhA8++OCDL0BArV8pUOsvQH+lQK1fKTBAXXTRRRddMEA7Q2LezpAwQBoS83aGxDBA+OCDDz74MEDXrxSo9SsxQLV+pUCtXzFAk0022WSTMUByHMdxHMcxQFDrVwrU+jFALrrooosuMkANiXk7Q2IyQOtXCtT6lTJAyiabbLLJMkCo9SsFav0yQIbEvJ0hMTNAZZNNNtlkM0BDYt7OkJgzQCIxb2dIzDNAAAAAAAAANEA=\",\"dtype\":\"float64\",\"shape\":[100]},\"y\":{\"__ndarray__\":\"AAAAAAAA8D/bycY+5w7sP+ao9Sb3xek/3wRtQtbP5z/g1ZgIIQLmP6mWtI3aVeQ/wD9d5WDI4j9Jo3NsrlfhP+4s4L3kAeA/8+YpwnyK3T8af2YCGkDbPxyuNClyIdk/jZNRuIIr1z9PLQoQdVvVP7vn4iidrtM/qjUpOngi0j/ZM7OKq7TQP3bEGaYExs4/by0sPNlWzD8S2PAy+hfKP1eHKX3PBcg/MWmSyf8cxj+nxvbtbFrEP23H7P0wu8I/efpFrpo8wT9Uqy1TVLi/P8jCANQbL70/s9nesz/Zuj8FWGvTxLK4P13fUEz8t7Y/AKruSH3ltD8VNR0hITizPyUEOOH9rLE/asbQomJBsD92IMWDpuWtPyaMawgJfqs/+40Z4rBHqT/Y80sutj6nP19uIIN+X6U/S1rxerimoz9IVNVEVBGiP4625nx/nKA/EC4CcEKLnj92KO1eqBScP+BMyQvJ0Jk/cTVLKpS7lz/Y+6SyTNGVP+aSpl6BDpQ/6YMRRwdwkj+aRA929PKQP7BuN/AzKY8/KZxx/f2kjD+CNupLvVSKP1Y6PFtDNIg/T8qnkrc/hj8sBWUPkXOEP+5++WGOzII/z4VxxLFHgT/XqJ4UdcR/PyvHSZlBM30/HjdO2CDXej/E1UoMzKt4P3MfK8hSrXY/RkVeuBTYdD9pp0SUwChzP7eIK29GnHE/zsQMtNUvcD97nASFsMFtP5N4WQvZWWs/buenHcYjaT/1946UcxtnP2NFu5syPWU/YsNDtpiFYz+qfgLahfFhP3TW9+QefmA/FN8JGYVRXj9a+TLb9d1bP60m5JEinVk/QK8I7+6KVz+7TsKtmKNVP7fxDDCq41M/HVFYV+1HUj+qfB0qf81QP9kpOPhS404/K0gzWuNjTD9xS7JLPRhKP4buT1cP/Ec/iodTeI8LRj/VSjAxNENEP5dTgmrAn0I/KAY5cjQeQT9o2TVkp3c/PygReGA/7Dw/gBZb4IaVOj8rYgViMm84PyAN+SxAdTY/ofieZWykND/W07MZAfkyP3ZeVCFBcDE/NGXYhEwHMD8=\",\"dtype\":\"float64\",\"shape\":[100]}},\"selected\":{\"id\":\"3810\",\"type\":\"Selection\"},\"selection_policy\":{\"id\":\"3809\",\"type\":\"UnionRenderers\"}},\"id\":\"3786\",\"type\":\"ColumnDataSource\"},{\"attributes\":{\"label\":{\"value\":\"A\"},\"renderers\":[{\"id\":\"3789\",\"type\":\"GlyphRenderer\"},{\"id\":\"3850\",\"type\":\"GlyphRenderer\"}]},\"id\":\"3798\",\"type\":\"LegendItem\"},{\"attributes\":{},\"id\":\"3809\",\"type\":\"UnionRenderers\"},{\"attributes\":{\"source\":{\"id\":\"3829\",\"type\":\"ColumnDataSource\"}},\"id\":\"3833\",\"type\":\"CDSView\"},{\"attributes\":{\"bottom_units\":\"screen\",\"fill_alpha\":{\"value\":0.5},\"fill_color\":{\"value\":\"lightgrey\"},\"left_units\":\"screen\",\"level\":\"overlay\",\"line_alpha\":{\"value\":1.0},\"line_color\":{\"value\":\"black\"},\"line_dash\":[4,4],\"line_width\":{\"value\":2},\"render_mode\":\"css\",\"right_units\":\"screen\",\"top_units\":\"screen\"},\"id\":\"3796\",\"type\":\"BoxAnnotation\"},{\"attributes\":{},\"id\":\"3843\",\"type\":\"UnionRenderers\"},{\"attributes\":{\"line_color\":\"#ff7e0e\",\"line_width\":2,\"x\":{\"field\":\"x\"},\"y\":{\"field\":\"y\"}},\"id\":\"3800\",\"type\":\"Line\"},{\"attributes\":{\"line_color\":\"#2ba02b\",\"line_width\":2,\"x\":{\"field\":\"x\"},\"y\":{\"field\":\"y\"}},\"id\":\"3814\",\"type\":\"Line\"},{\"attributes\":{\"active_drag\":\"auto\",\"active_inspect\":\"auto\",\"active_multi\":null,\"active_scroll\":\"auto\",\"active_tap\":\"auto\",\"tools\":[{\"id\":\"3773\",\"type\":\"PanTool\"},{\"id\":\"3774\",\"type\":\"WheelZoomTool\"},{\"id\":\"3775\",\"type\":\"BoxZoomTool\"},{\"id\":\"3776\",\"type\":\"SaveTool\"},{\"id\":\"3777\",\"type\":\"ResetTool\"},{\"id\":\"3778\",\"type\":\"HelpTool\"}]},\"id\":\"3779\",\"type\":\"Toolbar\"},{\"attributes\":{\"source\":{\"id\":\"3866\",\"type\":\"ColumnDataSource\"}},\"id\":\"3870\",\"type\":\"CDSView\"},{\"attributes\":{\"label\":{\"value\":\"B\"},\"renderers\":[{\"id\":\"3802\",\"type\":\"GlyphRenderer\"},{\"id\":\"3869\",\"type\":\"GlyphRenderer\"}]},\"id\":\"3812\",\"type\":\"LegendItem\"},{\"attributes\":{\"label\":{\"value\":\"AC\"},\"renderers\":[{\"id\":\"3832\",\"type\":\"GlyphRenderer\"}]},\"id\":\"3846\",\"type\":\"LegendItem\"},{\"attributes\":{},\"id\":\"3810\",\"type\":\"Selection\"},{\"attributes\":{},\"id\":\"3844\",\"type\":\"Selection\"},{\"attributes\":{},\"id\":\"3884\",\"type\":\"UnionRenderers\"},{\"attributes\":{\"data_source\":{\"id\":\"3786\",\"type\":\"ColumnDataSource\"},\"glyph\":{\"id\":\"3787\",\"type\":\"Line\"},\"hover_glyph\":null,\"muted_glyph\":null,\"nonselection_glyph\":{\"id\":\"3788\",\"type\":\"Line\"},\"selection_glyph\":null,\"view\":{\"id\":\"3790\",\"type\":\"CDSView\"}},\"id\":\"3789\",\"type\":\"GlyphRenderer\"},{\"attributes\":{},\"id\":\"4087\",\"type\":\"UnionRenderers\"},{\"attributes\":{\"line_color\":\"#2ba02b\",\"line_width\":2,\"x\":{\"field\":\"x\"},\"y\":{\"field\":\"y\"}},\"id\":\"3888\",\"type\":\"Line\"},{\"attributes\":{},\"id\":\"3773\",\"type\":\"PanTool\"},{\"attributes\":{\"callback\":null,\"data\":{\"x\":{\"__ndarray__\":\"AAAAAAAAAAAxb2dIzNvJPzFvZ0jM29k/ZZNNNtlk4z8xb2dIzNvpP3+lQK1fKfA/ZZNNNtlk8z9LgVq/UqD2PzFvZ0jM2/k/F1100UUX/T9/pUCtXykAQHIcx3EcxwFAZZNNNtlkA0BYCtT6lQIFQEuBWr9SoAZAPvjggw8+CEAxb2dIzNsJQCTm7QyJeQtAF1100UUXDUAK1PqVArUOQH+lQK1fKRBA+OCDDz74EEByHMdxHMcRQOtXCtT6lRJAZZNNNtlkE0DezpCYtzMUQFgK1PqVAhVA0UUXXXTRFUBLgVq/UqAWQMS8nSExbxdAPvjggw8+GEC3MyTm7QwZQDFvZ0jM2xlAq6qqqqqqGkAk5u0MiXkbQJ4hMW9nSBxAF1100UUXHUCRmLczJOYdQArU+pUCtR5AhA8++OCDH0B/pUCtXykgQDtDYt7OkCBA+OCDDz74IEC1fqVArV8hQHIcx3EcxyFALrrooosuIkDrVwrU+pUiQKj1KwVq/SJAZZNNNtlkI0AiMW9nSMwjQN7OkJi3MyRAm2yyySabJEBYCtT6lQIlQBWo9SsFaiVA0UUXXXTRJUCO4ziO4zgmQEuBWr9SoCZACB988MEHJ0DEvJ0hMW8nQIFav1Kg1idAPvjggw8+KED7lQK1fqUoQLczJObtDClAdNFFF110KUAxb2dIzNspQO4MiXk7QypAq6qqqqqqKkBnSMzbGRIrQCTm7QyJeStA4YMPPvjgK0CeITFvZ0gsQFq/UqDWryxAF1100UUXLUDU+pUCtX4tQJGYtzMk5i1ATTbZZJNNLkAK1PqVArUuQMdxHMdxHC9AhA8++OCDL0BArV8pUOsvQH+lQK1fKTBAXXTRRRddMEA7Q2LezpAwQBoS83aGxDBA+OCDDz74MEDXrxSo9SsxQLV+pUCtXzFAk0022WSTMUByHMdxHMcxQFDrVwrU+jFALrrooosuMkANiXk7Q2IyQOtXCtT6lTJAyiabbLLJMkCo9SsFav0yQIbEvJ0hMTNAZZNNNtlkM0BDYt7OkJgzQCIxb2dIzDNAAAAAAAAANEA=\",\"dtype\":\"float64\",\"shape\":[100]},\"y\":{\"__ndarray__\":\"AAAAAAAA8D9cWbF3WnTtP4DwkMihUu0/NUTJakp47T9OoXEAOKTtPyxji42Tzu0/9C6d8Hv27T8Da1pj7BvuP3/n/Ub8Pu4/iwYA9cZf7j+2Z7J4aH7uP8EWveP8mu4/o9VCCKC17j8j6VRObc7uPwvYMoZ/5e4/tWItxPD67j//GkpQ2g7vP0rX72hUIe8/BmZlfXYy7z9MCF3XVkLvP9vLErwKUe8/QBkDY6Ze7z8ElcHxPGvvP15c/oTgdu8/EdkuLaKB7z9tT/jokYvvP7Y4yty+lO8/AAYIJDed7z/OTSn5B6XvP/Pq0Lg9rO8/3hHL5eOy7z9HmclGBbnvPz2Taturvu8/uS708uDD7z98hzIyrcjvP7zKFKEYze8/KaQcsirR7z+2djFM6tTvP9+Z5tNd2O8/0rl5NYvb7z/5yUTrd97vPwAWN/0o4e8/TBkdI6Pj7z+Tyguo6uXvPxBfoY4D6O8//3pLhfHp7z9R9U7wt+vvP+sx1PJZ7e8/SJIScNru7z8VTKYWPPDvP5amQVyB8e8/RNLSeKzy7z+s8rCNv/PvP0J2vIO89O8/A1+ZH6X17z9ktyIEe/bvP9vTr64/9+8/ttEcgvT37z9KJ9zDmvjvP6HzXZ8z+e8/etlWKcD57z9oICBgQfrvPx/KBCq4+u8/0bd6WCX77z/pVCa6ifvvP2z6/QLm++8/P94L2Tr87z+7ZMXViPzvPxOUZIbQ/O8/3vlObBL97z/7+3n+Tv3vP3QM67CG/e8/Rlaj4bn97z+gcEPv6P3vP6wfdy8U/u8/7Rl68Dv+7z+TX3N7YP7vP1UNkBKC/u8/c9Jv86D+7z/4zq1Wvf7vPxdQOHHX/u8/+ez+Zu/+7z9O3sVwBf/vP6F3dLIZ/+8/GkKUUSz/7z/jHLNuPf/vPx5EUypN/+8/3HOzoFv/7z8k6FXraP/vP2FbCiF1/+8/Aj22W4D/7z+l3FCuiv/vP9ob3SqU/+8/iUq/4pz/7z8pgYnmpP/vP9lAfUWs/+8/0bM+C7P/7z805XJDuf/vP3echPu+/+8/19dxPsT/7z8=\",\"dtype\":\"float64\",\"shape\":[100]}},\"selected\":{\"id\":\"3844\",\"type\":\"Selection\"},\"selection_policy\":{\"id\":\"3843\",\"type\":\"UnionRenderers\"}},\"id\":\"3813\",\"type\":\"ColumnDataSource\"},{\"attributes\":{\"callback\":null,\"data\":{\"x\":{\"__ndarray__\":\"AAAAAAAAAAAxb2dIzNvJPzFvZ0jM29k/ZZNNNtlk4z8xb2dIzNvpP3+lQK1fKfA/ZZNNNtlk8z9LgVq/UqD2PzFvZ0jM2/k/F1100UUX/T9/pUCtXykAQHIcx3EcxwFAZZNNNtlkA0BYCtT6lQIFQEuBWr9SoAZAPvjggw8+CEAxb2dIzNsJQCTm7QyJeQtAF1100UUXDUAK1PqVArUOQH+lQK1fKRBA+OCDDz74EEByHMdxHMcRQOtXCtT6lRJAZZNNNtlkE0DezpCYtzMUQFgK1PqVAhVA0UUXXXTRFUBLgVq/UqAWQMS8nSExbxdAPvjggw8+GEC3MyTm7QwZQDFvZ0jM2xlAq6qqqqqqGkAk5u0MiXkbQJ4hMW9nSBxAF1100UUXHUCRmLczJOYdQArU+pUCtR5AhA8++OCDH0B/pUCtXykgQDtDYt7OkCBA+OCDDz74IEC1fqVArV8hQHIcx3EcxyFALrrooosuIkDrVwrU+pUiQKj1KwVq/SJAZZNNNtlkI0AiMW9nSMwjQN7OkJi3MyRAm2yyySabJEBYCtT6lQIlQBWo9SsFaiVA0UUXXXTRJUCO4ziO4zgmQEuBWr9SoCZACB988MEHJ0DEvJ0hMW8nQIFav1Kg1idAPvjggw8+KED7lQK1fqUoQLczJObtDClAdNFFF110KUAxb2dIzNspQO4MiXk7QypAq6qqqqqqKkBnSMzbGRIrQCTm7QyJeStA4YMPPvjgK0CeITFvZ0gsQFq/UqDWryxAF1100UUXLUDU+pUCtX4tQJGYtzMk5i1ATTbZZJNNLkAK1PqVArUuQMdxHMdxHC9AhA8++OCDL0BArV8pUOsvQH+lQK1fKTBAXXTRRRddMEA7Q2LezpAwQBoS83aGxDBA+OCDDz74MEDXrxSo9SsxQLV+pUCtXzFAk0022WSTMUByHMdxHMcxQFDrVwrU+jFALrrooosuMkANiXk7Q2IyQOtXCtT6lTJAyiabbLLJMkCo9SsFav0yQIbEvJ0hMTNAZZNNNtlkM0BDYt7OkJgzQCIxb2dIzDNAAAAAAAAANEA=\",\"dtype\":\"float64\",\"shape\":[100]},\"y\":{\"__ndarray__\":\"AAAAAAAA8D9CCxTbM+3rP73eI0efTeg/E5pcOFsY5T+sVgvsYETiPwm7yhV4kd8/YnouBGw52z9wVP9R8m/XP95c0AhWJdQ/iIFb4/xK0T+kTPz996bNP/3sc4s/Zck/bGuFtNK6xT+hhSxOCJTCP8rR4RLXvr8/MZYcmigbuz/cU7Fx9yG3P4lcTByeu7M/0bJsAobTsD/HWwDyoq+sPx4KbAgWcqg/Hu04bbXTpD+Tv5SfhL2hP7Rg5pmAN54/zRKtn+K6mT9kzRByGOiVPxd82g05ppI/3Ii3l+m/jz/osOZDKAaLP5lE2tsOAIc/FLewuwuTgz+JjEJJc6iAP2e+FmLfWXw/84bKsgkgeD9Sw5rjS4d0P8szH260d3E/ZtOdZLu5bT/EcL+m0EppPzkm0ycShWU/S7yHlk5PYj/+KwmZJihfPxjl6JM8glo/tRrvZMqNVj/EUH5OWzBTP2+dkIdrU1A/So3GdKPHSz8Wm7jpgKJHP19FEpauG0Q/3dKhaI8bQT9HkoCQFxw9P8SLwNkUxDg/aaYk6v4RNT+csbCLFO0xP3uh9ZmKgC4/xeS9a0zzKT9DG8wX8BMmPyMJEC2CyCI/ZXXT5eD1Hz8pFsZA5zAbPz8WZd0gIhc/yqjcFV6uEz9sibw0fb4QPwxyK4affQw/VNWFcis9CD8RQivcIZ8EP8x4Di5aiwE/IB4d3k3a/T6V/F6o6mX5PtCMNr22m/U+aJ4ZoC9i8j7W8T17vUfvPsRpCtKxnOo+DKhtptij5j6WsZnfE0PjPpaVx2c4Y+A+qsafEFji2z76mL6sILnXPm1MLjR4LtQ+HnOlf7wq0T6xlykoZTXNPutFva4I2cg+ijgApN4jxT4BV84ij/zBPscVL8sWm74+9moQlEUKuj7jOVFAKie2PkzKrGD82LI+h7vYsQ4IsD70EeajQkarPr23wCJXNqc+7bXzMOvAoz7qvJHfMtCgPpf+unnZn5w+84w56DVcmD6nhzwdgruUPscGLGo+pJE+uUut1ygEjj54HjDVtYWJPlW1NE5UvYU+5LVdJuWAgj4=\",\"dtype\":\"float64\",\"shape\":[100]}},\"selected\":{\"id\":\"3885\",\"type\":\"Selection\"},\"selection_policy\":{\"id\":\"3884\",\"type\":\"UnionRenderers\"}},\"id\":\"3847\",\"type\":\"ColumnDataSource\"},{\"attributes\":{},\"id\":\"3885\",\"type\":\"Selection\"},{\"attributes\":{},\"id\":\"3774\",\"type\":\"WheelZoomTool\"},{\"attributes\":{\"callback\":null},\"id\":\"3757\",\"type\":\"DataRange1d\"},{\"attributes\":{\"callback\":null,\"data\":{\"x\":{\"__ndarray__\":\"AAAAAAAAAAAxb2dIzNvJPzFvZ0jM29k/ZZNNNtlk4z8xb2dIzNvpP3+lQK1fKfA/ZZNNNtlk8z9LgVq/UqD2PzFvZ0jM2/k/F1100UUX/T9/pUCtXykAQHIcx3EcxwFAZZNNNtlkA0BYCtT6lQIFQEuBWr9SoAZAPvjggw8+CEAxb2dIzNsJQCTm7QyJeQtAF1100UUXDUAK1PqVArUOQH+lQK1fKRBA+OCDDz74EEByHMdxHMcRQOtXCtT6lRJAZZNNNtlkE0DezpCYtzMUQFgK1PqVAhVA0UUXXXTRFUBLgVq/UqAWQMS8nSExbxdAPvjggw8+GEC3MyTm7QwZQDFvZ0jM2xlAq6qqqqqqGkAk5u0MiXkbQJ4hMW9nSBxAF1100UUXHUCRmLczJOYdQArU+pUCtR5AhA8++OCDH0B/pUCtXykgQDtDYt7OkCBA+OCDDz74IEC1fqVArV8hQHIcx3EcxyFALrrooosuIkDrVwrU+pUiQKj1KwVq/SJAZZNNNtlkI0AiMW9nSMwjQN7OkJi3MyRAm2yyySabJEBYCtT6lQIlQBWo9SsFaiVA0UUXXXTRJUCO4ziO4zgmQEuBWr9SoCZACB988MEHJ0DEvJ0hMW8nQIFav1Kg1idAPvjggw8+KED7lQK1fqUoQLczJObtDClAdNFFF110KUAxb2dIzNspQO4MiXk7QypAq6qqqqqqKkBnSMzbGRIrQCTm7QyJeStA4YMPPvjgK0CeITFvZ0gsQFq/UqDWryxAF1100UUXLUDU+pUCtX4tQJGYtzMk5i1ATTbZZJNNLkAK1PqVArUuQMdxHMdxHC9AhA8++OCDL0BArV8pUOsvQH+lQK1fKTBAXXTRRRddMEA7Q2LezpAwQBoS83aGxDBA+OCDDz74MEDXrxSo9SsxQLV+pUCtXzFAk0022WSTMUByHMdxHMcxQFDrVwrU+jFALrrooosuMkANiXk7Q2IyQOtXCtT6lTJAyiabbLLJMkCo9SsFav0yQIbEvJ0hMTNAZZNNNtlkM0BDYt7OkJgzQCIxb2dIzDNAAAAAAAAANEA=\",\"dtype\":\"float64\",\"shape\":[100]},\"y\":{\"__ndarray__\":\"AAAAAAAAAAB3+KiOM1emPw092gxVZbw/ev1wodChxj/dLWPfW4jOPx+Zrf9x8dI/hd5/FjZc1j+Qj83te4jZPz51OxIvetw/PibWJxE13z84KH93W97gP8K/Is9DCuI/7AsarN4f4z+L0k/GsiDkPz1kwfEwDuU/78cYp7Tp5T8hgfCKhLTmPzpmaT/Tb+c/uFpaLsAc6D9V0qBKWLzoPxNqyNyWT+k/A3+ecGbX6T9p40O2oVTqP5Eqg0UUyOo/gVqdgXsy6z8TmpJeh5TrP2sgSmLb7us/1yqMLQ9C7D/a4rter47sPxPPRi8+1ew/qjytPDQW7T+w8qUiAVLtP8WSQx8Mie0/9xWanrS77T+BNfbJUurtPwcSjhA4Fe4/WAv7o6887j+Ht0zp/mDuPweTtOtlgu4/OqTKrR+h7j/BdPemYr3uP6WqaAVh1+4/6gedD0nv7j9fYRRlRQXvP7gUQ0Z9Ge8/YyH54xQs7z+DzbmKLT3vP2P93uflTO8/OQbaNVpb7z8A0vVypGjvP+vIgIzcdO8/5AvdgBiA7z/jSYGYbIrvP2iFT3brk+8/6b9OQaac7z9eI+W/rKTvP+7tJ3UNrO8/rAsLu9Wy7z8G6rLZEbnvPx9gKxzNvu8/GT2m5xHE7z/KigfI6cjvP+1zdIRdze8/VPsJL3XR7z+oy/04ONXvP2mjH3at2O8/xMSjLdvb7z8tYEAlx97vP6k6Wa124e8/BFIxpu7j7z8RbeWKM+bvPz1RT35J6O8/kRLtSDTq7z8xbmlp9+vvP+UnkhCW7e8/DZXtLRPv7z8mxoWAcfDvP1IbR4Gz8e8/LE74e9vy7z/h7VaK6/PvP69JIJzl9O8/4UBTcMv17z+hzzCxnvbvP6Zptt1g9+8/VrW9WBP47z9fMGBft/jvPzBwfSZO+e8/B1/VvNj57z8enEkeWPrvP9m67zDN+u8/y66Zzjj77z/0VWS5m/vvP+EM8aL2++8/MT/jMUr87z+IQD0Al/zvP8Ohd53d/O8//P+xfR797z/Erk8jWv3vP/VxYPOQ/e8/1TzhVMP97z8=\",\"dtype\":\"float64\",\"shape\":[100]}},\"selected\":{\"id\":\"3826\",\"type\":\"Selection\"},\"selection_policy\":{\"id\":\"3825\",\"type\":\"UnionRenderers\"}},\"id\":\"3799\",\"type\":\"ColumnDataSource\"},{\"attributes\":{\"line_alpha\":0.1,\"line_color\":\"#1f77b4\",\"line_width\":2,\"x\":{\"field\":\"x\"},\"y\":{\"field\":\"y\"}},\"id\":\"3801\",\"type\":\"Line\"},{\"attributes\":{\"line_alpha\":0.1,\"line_color\":\"#1f77b4\",\"line_width\":2,\"x\":{\"field\":\"x\"},\"y\":{\"field\":\"y\"}},\"id\":\"3815\",\"type\":\"Line\"},{\"attributes\":{\"overlay\":{\"id\":\"3796\",\"type\":\"BoxAnnotation\"}},\"id\":\"3775\",\"type\":\"BoxZoomTool\"},{\"attributes\":{\"line_color\":\"#ff7e0e\",\"line_width\":2,\"x\":{\"field\":\"x\"},\"y\":{\"field\":\"y\"}},\"id\":\"3867\",\"type\":\"Line\"},{\"attributes\":{\"callback\":null,\"data\":{\"x\":{\"__ndarray__\":\"AAAAAAAAAAAxb2dIzNvJPzFvZ0jM29k/ZZNNNtlk4z8xb2dIzNvpP3+lQK1fKfA/ZZNNNtlk8z9LgVq/UqD2PzFvZ0jM2/k/F1100UUX/T9/pUCtXykAQHIcx3EcxwFAZZNNNtlkA0BYCtT6lQIFQEuBWr9SoAZAPvjggw8+CEAxb2dIzNsJQCTm7QyJeQtAF1100UUXDUAK1PqVArUOQH+lQK1fKRBA+OCDDz74EEByHMdxHMcRQOtXCtT6lRJAZZNNNtlkE0DezpCYtzMUQFgK1PqVAhVA0UUXXXTRFUBLgVq/UqAWQMS8nSExbxdAPvjggw8+GEC3MyTm7QwZQDFvZ0jM2xlAq6qqqqqqGkAk5u0MiXkbQJ4hMW9nSBxAF1100UUXHUCRmLczJOYdQArU+pUCtR5AhA8++OCDH0B/pUCtXykgQDtDYt7OkCBA+OCDDz74IEC1fqVArV8hQHIcx3EcxyFALrrooosuIkDrVwrU+pUiQKj1KwVq/SJAZZNNNtlkI0AiMW9nSMwjQN7OkJi3MyRAm2yyySabJEBYCtT6lQIlQBWo9SsFaiVA0UUXXXTRJUCO4ziO4zgmQEuBWr9SoCZACB988MEHJ0DEvJ0hMW8nQIFav1Kg1idAPvjggw8+KED7lQK1fqUoQLczJObtDClAdNFFF110KUAxb2dIzNspQO4MiXk7QypAq6qqqqqqKkBnSMzbGRIrQCTm7QyJeStA4YMPPvjgK0CeITFvZ0gsQFq/UqDWryxAF1100UUXLUDU+pUCtX4tQJGYtzMk5i1ATTbZZJNNLkAK1PqVArUuQMdxHMdxHC9AhA8++OCDL0BArV8pUOsvQH+lQK1fKTBAXXTRRRddMEA7Q2LezpAwQBoS83aGxDBA+OCDDz74MEDXrxSo9SsxQLV+pUCtXzFAk0022WSTMUByHMdxHMcxQFDrVwrU+jFALrrooosuMkANiXk7Q2IyQOtXCtT6lTJAyiabbLLJMkCo9SsFav0yQIbEvJ0hMTNAZZNNNtlkM0BDYt7OkJgzQCIxb2dIzDNAAAAAAAAANEA=\",\"dtype\":\"float64\",\"shape\":[100]},\"y\":{\"__ndarray__\":\"AAAAAAAA8D8AAAAAAADwPwAAAAAAAPA/AAAAAAAA8D8AAAAAAADwPwAAAAAAAPA/AAAAAAAA8D8AAAAAAADwPwAAAAAAAPA/AAAAAAAA8D8AAAAAAADwPwAAAAAAAPA/AAAAAAAA8D8AAAAAAADwPwAAAAAAAPA/AAAAAAAA8D8AAAAAAADwPwAAAAAAAPA/AAAAAAAA8D8AAAAAAADwPwAAAAAAAPA/AAAAAAAA8D8AAAAAAADwPwAAAAAAAPA/AAAAAAAA8D8AAAAAAADwPwAAAAAAAPA/AAAAAAAA8D8AAAAAAADwPwAAAAAAAPA/AAAAAAAA8D8AAAAAAADwPwAAAAAAAPA/AAAAAAAA8D8AAAAAAADwPwAAAAAAAPA/AAAAAAAA8D8AAAAAAADwPwAAAAAAAPA/AAAAAAAA8D8AAAAAAADwPwAAAAAAAPA/AAAAAAAA8D8AAAAAAADwPwAAAAAAAPA/AAAAAAAA8D8AAAAAAADwPwAAAAAAAPA/AAAAAAAA8D8AAAAAAADwPwAAAAAAAPA/AAAAAAAA8D8AAAAAAADwPwAAAAAAAPA/AAAAAAAA8D8AAAAAAADwPwAAAAAAAPA/AAAAAAAA8D8AAAAAAADwPwAAAAAAAPA/AAAAAAAA8D8AAAAAAADwPwAAAAAAAPA/AAAAAAAA8D8AAAAAAADwPwAAAAAAAPA/AAAAAAAA8D8AAAAAAADwPwAAAAAAAPA/AAAAAAAA8D8AAAAAAADwPwAAAAAAAPA/AAAAAAAA8D8AAAAAAADwPwAAAAAAAPA/AAAAAAAA8D8AAAAAAADwPwAAAAAAAPA/AAAAAAAA8D8AAAAAAADwPwAAAAAAAPA/AAAAAAAA8D8AAAAAAADwPwAAAAAAAPA/AAAAAAAA8D8AAAAAAADwPwAAAAAAAPA/AAAAAAAA8D8AAAAAAADwPwAAAAAAAPA/AAAAAAAA8D8AAAAAAADwPwAAAAAAAPA/AAAAAAAA8D8AAAAAAADwPwAAAAAAAPA/AAAAAAAA8D8AAAAAAADwPwAAAAAAAPA/AAAAAAAA8D8=\",\"dtype\":\"float64\",\"shape\":[100]}},\"selected\":{\"id\":\"4088\",\"type\":\"Selection\"},\"selection_policy\":{\"id\":\"4087\",\"type\":\"UnionRenderers\"}},\"id\":\"3887\",\"type\":\"ColumnDataSource\"},{\"attributes\":{\"data_source\":{\"id\":\"3813\",\"type\":\"ColumnDataSource\"},\"glyph\":{\"id\":\"3814\",\"type\":\"Line\"},\"hover_glyph\":null,\"muted_glyph\":null,\"nonselection_glyph\":{\"id\":\"3815\",\"type\":\"Line\"},\"selection_glyph\":null,\"view\":{\"id\":\"3817\",\"type\":\"CDSView\"}},\"id\":\"3816\",\"type\":\"GlyphRenderer\"},{\"attributes\":{},\"id\":\"3776\",\"type\":\"SaveTool\"},{\"attributes\":{\"callback\":null,\"data\":{\"x\":{\"__ndarray__\":\"AAAAAAAAAAAxb2dIzNvJPzFvZ0jM29k/ZZNNNtlk4z8xb2dIzNvpP3+lQK1fKfA/ZZNNNtlk8z9LgVq/UqD2PzFvZ0jM2/k/F1100UUX/T9/pUCtXykAQHIcx3EcxwFAZZNNNtlkA0BYCtT6lQIFQEuBWr9SoAZAPvjggw8+CEAxb2dIzNsJQCTm7QyJeQtAF1100UUXDUAK1PqVArUOQH+lQK1fKRBA+OCDDz74EEByHMdxHMcRQOtXCtT6lRJAZZNNNtlkE0DezpCYtzMUQFgK1PqVAhVA0UUXXXTRFUBLgVq/UqAWQMS8nSExbxdAPvjggw8+GEC3MyTm7QwZQDFvZ0jM2xlAq6qqqqqqGkAk5u0MiXkbQJ4hMW9nSBxAF1100UUXHUCRmLczJOYdQArU+pUCtR5AhA8++OCDH0B/pUCtXykgQDtDYt7OkCBA+OCDDz74IEC1fqVArV8hQHIcx3EcxyFALrrooosuIkDrVwrU+pUiQKj1KwVq/SJAZZNNNtlkI0AiMW9nSMwjQN7OkJi3MyRAm2yyySabJEBYCtT6lQIlQBWo9SsFaiVA0UUXXXTRJUCO4ziO4zgmQEuBWr9SoCZACB988MEHJ0DEvJ0hMW8nQIFav1Kg1idAPvjggw8+KED7lQK1fqUoQLczJObtDClAdNFFF110KUAxb2dIzNspQO4MiXk7QypAq6qqqqqqKkBnSMzbGRIrQCTm7QyJeStA4YMPPvjgK0CeITFvZ0gsQFq/UqDWryxAF1100UUXLUDU+pUCtX4tQJGYtzMk5i1ATTbZZJNNLkAK1PqVArUuQMdxHMdxHC9AhA8++OCDL0BArV8pUOsvQH+lQK1fKTBAXXTRRRddMEA7Q2LezpAwQBoS83aGxDBA+OCDDz74MEDXrxSo9SsxQLV+pUCtXzFAk0022WSTMUByHMdxHMcxQFDrVwrU+jFALrrooosuMkANiXk7Q2IyQOtXCtT6lTJAyiabbLLJMkCo9SsFav0yQIbEvJ0hMTNAZZNNNtlkM0BDYt7OkJgzQCIxb2dIzDNAAAAAAAAANEA=\",\"dtype\":\"float64\",\"shape\":[100]},\"y\":{\"__ndarray__\":\"AAAAAAAAAAAONXVCLF20P+V7eLvxarU/ON61qaw9tD9y9XL8P96yP4PmpJNji7E/OYgWeyBMsD+BT1nKOUGuP8WHIZA7EKw/DZf/r5ADqj9VhNl0eBmoP52TLsQxUKY/faXSe/+lpD9+bbEaKxmjPw1/0pwHqKE/ZdQpvfNQoD+gn7z2tSSeP1AWBeJy1Zs/pz5TUzCxmT/i9V4UJbWXP9qDpn2o3pU/OdecnzMrlD+1Xs3HYZiSP4tzNGDvI5E/MbpJtHSXjz/YIuzBhRuNP9vQcc1I0Io/cX7+/TayiD8ii6y1Ab6GP/RBxcuR8IQ/OYc7jQZHgz/9rJlNrr6BPwgvWyUJVYA/UKDohYYPfj90PrzmZql7P5WdmnWvc3k/Aeet8aZqdz+ooETn2Yp1Pw8MswwW0XM/uxIjQ2U6cj8w/5pdCsRwPxb36cgC124/mKnm4txcbD9ZYjX0VxVqP+nkoF5x/Gc/DPaEtHoOZj8opAqxD0hkPy4LzisNpmI/kK1t7Y8lYT/cwWez0odfP72+snxH/Vw/rmFbWg6nWj+JkBqe5IBYP/xkE4f4hlY/reNBzcC1VD8QIpG69wlTP80yWKCigFE/qX9cxvsWUD/VsGKP8JRNP5hYMYiCMUs/fPKZpFr/SD8aN35/f/pGPxNd1+xXH0U/WJQgFZ5qQz9vNqxmF9lBP4UqFgj0Z0A/Ar4NoTcpPj8H49nUUbk7P20gX9vMezk/Tc0wiJ1sNz9O5R8wDIg1P7IfnKd4yjM/2oJN5fIwMj9yrHrkhbgwP5eqBI4IvS4/hplgXvhALD8/OgbKSPgpP+AUKv/W3ic/kzHYAsnwJT8n3Q8jlSokP3Pg/XrsiCI/4bovEZAJIT+YvTRE51EfP2+ACnGxyRw/X4K7d811Gj9AO2KcKVIYPxjTepe1WhY/hBuDkemLFD/TNvpCleISPzWQkrTeWxE/QhC9cBLpDz/cYtTIa1QNP/lSB7lI9Qo/xG9bLVDHCD8gJbOfXcYGP2gOx6+g7gQ/VmIJUzA9Az+sfrBGI68BP0DQ39geQQA/s28PFMfg/T4=\",\"dtype\":\"float64\",\"shape\":[100]}},\"selected\":{\"id\":\"3864\",\"type\":\"Selection\"},\"selection_policy\":{\"id\":\"3863\",\"type\":\"UnionRenderers\"}},\"id\":\"3829\",\"type\":\"ColumnDataSource\"},{\"attributes\":{\"line_alpha\":0.1,\"line_color\":\"#1f77b4\",\"line_width\":2,\"x\":{\"field\":\"x\"},\"y\":{\"field\":\"y\"}},\"id\":\"3849\",\"type\":\"Line\"},{\"attributes\":{\"line_alpha\":0.1,\"line_color\":\"#1f77b4\",\"line_width\":2,\"x\":{\"field\":\"x\"},\"y\":{\"field\":\"y\"}},\"id\":\"3889\",\"type\":\"Line\"},{\"attributes\":{\"ticker\":{\"id\":\"3764\",\"type\":\"BasicTicker\"}},\"id\":\"3767\",\"type\":\"Grid\"},{\"attributes\":{\"line_color\":\"#d62628\",\"line_width\":2,\"x\":{\"field\":\"x\"},\"y\":{\"field\":\"y\"}},\"id\":\"3830\",\"type\":\"Line\"},{\"attributes\":{},\"id\":\"3777\",\"type\":\"ResetTool\"},{\"attributes\":{\"data_source\":{\"id\":\"3847\",\"type\":\"ColumnDataSource\"},\"glyph\":{\"id\":\"3848\",\"type\":\"Line\"},\"hover_glyph\":null,\"muted_glyph\":null,\"nonselection_glyph\":{\"id\":\"3849\",\"type\":\"Line\"},\"selection_glyph\":null,\"view\":{\"id\":\"3851\",\"type\":\"CDSView\"}},\"id\":\"3850\",\"type\":\"GlyphRenderer\"},{\"attributes\":{\"data_source\":{\"id\":\"3887\",\"type\":\"ColumnDataSource\"},\"glyph\":{\"id\":\"3888\",\"type\":\"Line\"},\"hover_glyph\":null,\"muted_glyph\":null,\"nonselection_glyph\":{\"id\":\"3889\",\"type\":\"Line\"},\"selection_glyph\":null,\"view\":{\"id\":\"3891\",\"type\":\"CDSView\"}},\"id\":\"3890\",\"type\":\"GlyphRenderer\"},{\"attributes\":{\"source\":{\"id\":\"3813\",\"type\":\"ColumnDataSource\"}},\"id\":\"3817\",\"type\":\"CDSView\"},{\"attributes\":{\"callback\":null,\"data\":{\"x\":{\"__ndarray__\":\"AAAAAAAAAAAxb2dIzNvJPzFvZ0jM29k/ZZNNNtlk4z8xb2dIzNvpP3+lQK1fKfA/ZZNNNtlk8z9LgVq/UqD2PzFvZ0jM2/k/F1100UUX/T9/pUCtXykAQHIcx3EcxwFAZZNNNtlkA0BYCtT6lQIFQEuBWr9SoAZAPvjggw8+CEAxb2dIzNsJQCTm7QyJeQtAF1100UUXDUAK1PqVArUOQH+lQK1fKRBA+OCDDz74EEByHMdxHMcRQOtXCtT6lRJAZZNNNtlkE0DezpCYtzMUQFgK1PqVAhVA0UUXXXTRFUBLgVq/UqAWQMS8nSExbxdAPvjggw8+GEC3MyTm7QwZQDFvZ0jM2xlAq6qqqqqqGkAk5u0MiXkbQJ4hMW9nSBxAF1100UUXHUCRmLczJOYdQArU+pUCtR5AhA8++OCDH0B/pUCtXykgQDtDYt7OkCBA+OCDDz74IEC1fqVArV8hQHIcx3EcxyFALrrooosuIkDrVwrU+pUiQKj1KwVq/SJAZZNNNtlkI0AiMW9nSMwjQN7OkJi3MyRAm2yyySabJEBYCtT6lQIlQBWo9SsFaiVA0UUXXXTRJUCO4ziO4zgmQEuBWr9SoCZACB988MEHJ0DEvJ0hMW8nQIFav1Kg1idAPvjggw8+KED7lQK1fqUoQLczJObtDClAdNFFF110KUAxb2dIzNspQO4MiXk7QypAq6qqqqqqKkBnSMzbGRIrQCTm7QyJeStA4YMPPvjgK0CeITFvZ0gsQFq/UqDWryxAF1100UUXLUDU+pUCtX4tQJGYtzMk5i1ATTbZZJNNLkAK1PqVArUuQMdxHMdxHC9AhA8++OCDL0BArV8pUOsvQH+lQK1fKTBAXXTRRRddMEA7Q2LezpAwQBoS83aGxDBA+OCDDz74MEDXrxSo9SsxQLV+pUCtXzFAk0022WSTMUByHMdxHMcxQFDrVwrU+jFALrrooosuMkANiXk7Q2IyQOtXCtT6lTJAyiabbLLJMkCo9SsFav0yQIbEvJ0hMTNAZZNNNtlkM0BDYt7OkJgzQCIxb2dIzDNAAAAAAAAANEA=\",\"dtype\":\"float64\",\"shape\":[100]},\"y\":{\"__ndarray__\":\"AAAAAAAAAAAC06+TMEvAPxeFcOOCyc4/4ctGj0nP1T+uUuknPnfbP36iGvVDN+A/0MLo/Ulj4j/JVQDXBkjkP5LRl/tU7eU/Oz9SjoFa5z/X7IAAQpboP8EEIx2wpuk/JaXeUkuR6j+Y3nTs/VrrP8jFox0lCOw/O2287Jqc7D+F1ckRwRvtP290djyMiO0/pWmyP4/l7T9C+t/QBTXuP14/eZ/eeO4/LXEsqcSy7j8GtAa2J+TuP/nMMPtDDu8/aJcC6ygy7z+TeW88v1DvPx4skTfOau8/2yGhWQCB7z87ZfBe55PvP+yWkMT/o+8/Ij0R0bOx7z/M9doyXr3vP4HSO0FMx+8/8Gqa7L/P7z93yjho8dbvP5bBI5cQ3e8/K2KbREbi7z+NQFkvtebvP9gs2O166u8/QXhpsbDt7z9ne7Psa/DvP4sLtuG+8u8/cIjNGrn07z/VwFjSZ/bvP643PErW9+8/Wc4iFw757z/WkcVfF/rvP2p7WhT5+u8/h9clHLn77z/q7w19XPzvP+vHZH3n/O8/aLsiwF397z/miW5dwv3vP6JgVvcX/u8/HkQ5y2D+7z87g/7Anv7vP/wu3XfT/u8/YdH4UAD/7z/M+cV4Jv/vP9MU+e5G/+8/F1EPjWL/7z8YWhYMev/vP07ngQmO/+8/5DVSC5//7z9Oj3iDrf/vP8FHl9K5/+8/wUNkS8T/7z89ryo0zf/vP46FksjU/+8/yL+gO9v/7z+9hEK44P/vP/AtTmPl/+8/jFknXOn/7z9gIOy87P/vPzKYx5zv/+8/qvfTDvL/7z+bqW8j9P/vP+Plw+j1/+8/J8Chavf/7z/vtaay+P/vP0rUvcn5/+8/+lYIt/r/7z9HN9yA+//vP5QmnSz8/+8/eU23vvz/7z/xtxo7/f/vP+Zz4KT9/+8/wSn+/v3/7z++1ZtL/v/vP9CNmoz+/+8/7Uzxw/7/7z8D0vzy/v/vPy40ARv//+8/ulAePf//7z8S7yNa///vP6sM3nL//+8/nVzvh///7z+nKOmZ///vP8OuCqn//+8/Y2v8tf//7z8=\",\"dtype\":\"float64\",\"shape\":[100]}},\"selected\":{\"id\":\"3908\",\"type\":\"Selection\"},\"selection_policy\":{\"id\":\"3907\",\"type\":\"UnionRenderers\"}},\"id\":\"3866\",\"type\":\"ColumnDataSource\"},{\"attributes\":{\"line_alpha\":0.1,\"line_color\":\"#1f77b4\",\"line_width\":2,\"x\":{\"field\":\"x\"},\"y\":{\"field\":\"y\"}},\"id\":\"3788\",\"type\":\"Line\"},{\"attributes\":{},\"id\":\"3825\",\"type\":\"UnionRenderers\"},{\"attributes\":{},\"id\":\"3759\",\"type\":\"LinearScale\"},{\"attributes\":{},\"id\":\"3778\",\"type\":\"HelpTool\"},{\"attributes\":{\"source\":{\"id\":\"3847\",\"type\":\"ColumnDataSource\"}},\"id\":\"3851\",\"type\":\"CDSView\"},{\"attributes\":{\"source\":{\"id\":\"3887\",\"type\":\"ColumnDataSource\"}},\"id\":\"3891\",\"type\":\"CDSView\"},{\"attributes\":{\"label\":{\"value\":\"C\"},\"renderers\":[{\"id\":\"3816\",\"type\":\"GlyphRenderer\"},{\"id\":\"3890\",\"type\":\"GlyphRenderer\"}]},\"id\":\"3828\",\"type\":\"LegendItem\"},{\"attributes\":{},\"id\":\"3761\",\"type\":\"LinearScale\"},{\"attributes\":{},\"id\":\"3826\",\"type\":\"Selection\"},{\"attributes\":{},\"id\":\"3863\",\"type\":\"UnionRenderers\"},{\"attributes\":{},\"id\":\"3907\",\"type\":\"UnionRenderers\"},{\"attributes\":{},\"id\":\"3769\",\"type\":\"BasicTicker\"},{\"attributes\":{\"text\":\"Exercise 1a, 1b overlayed\"},\"id\":\"3753\",\"type\":\"Title\"},{\"attributes\":{\"callback\":null},\"id\":\"3755\",\"type\":\"DataRange1d\"},{\"attributes\":{\"source\":{\"id\":\"3786\",\"type\":\"ColumnDataSource\"}},\"id\":\"3790\",\"type\":\"CDSView\"},{\"attributes\":{},\"id\":\"3864\",\"type\":\"Selection\"},{\"attributes\":{},\"id\":\"3908\",\"type\":\"Selection\"},{\"attributes\":{\"line_color\":\"#1f77b3\",\"line_width\":2,\"x\":{\"field\":\"x\"},\"y\":{\"field\":\"y\"}},\"id\":\"3787\",\"type\":\"Line\"},{\"attributes\":{\"dimension\":1,\"ticker\":{\"id\":\"3769\",\"type\":\"BasicTicker\"}},\"id\":\"3772\",\"type\":\"Grid\"}],\"root_ids\":[\"3752\"]},\"title\":\"Bokeh Application\",\"version\":\"1.4.0\"}};\n",
       "  var render_items = [{\"docid\":\"2aa7b386-5510-40a0-af65-0f15aba75c90\",\"roots\":{\"3752\":\"18faaeff-4d53-41b0-b7b3-2ec2c86a9de9\"}}];\n",
       "  root.Bokeh.embed.embed_items_notebook(docs_json, render_items);\n",
       "\n",
       "  }\n",
       "  if (root.Bokeh !== undefined) {\n",
       "    embed_document(root);\n",
       "  } else {\n",
       "    var attempts = 0;\n",
       "    var timer = setInterval(function(root) {\n",
       "      if (root.Bokeh !== undefined) {\n",
       "        clearInterval(timer);\n",
       "        embed_document(root);\n",
       "      } else {\n",
       "        attempts++;\n",
       "        if (attempts > 100) {\n",
       "          clearInterval(timer);\n",
       "          console.log(\"Bokeh: ERROR: Unable to run BokehJS code because BokehJS library is missing\");\n",
       "        }\n",
       "      }\n",
       "    }, 10, root)\n",
       "  }\n",
       "})(window);"
      ],
      "application/vnd.bokehjs_exec.v0+json": ""
     },
     "metadata": {
      "application/vnd.bokehjs_exec.v0+json": {
       "id": "3752"
      }
     },
     "output_type": "display_data"
    }
   ],
   "source": [
    "x0 = {str(\"A\"):1,\n",
    "     str(\"C\"):1}\n",
    "\n",
    "k_cat = 4\n",
    "ku = 5\n",
    "kb = 1\n",
    "\n",
    "check_eqn(ku, kb, k_cat, x0)"
   ]
  },
  {
   "cell_type": "markdown",
   "metadata": {},
   "source": [
    "Eh kinda close. Idk when they the same, if someone finds it then cool."
   ]
  },
  {
   "cell_type": "markdown",
   "metadata": {},
   "source": [
    "# Exercise 2:\n",
    "### A. Create a CRN to simulate the following model of transcriptional repression: $G + nR \\leftrightarrow G:nR \\quad G \\rightarrow G + T$\n",
    "\n",
    "(Note the first reaction is reversible binding of $n$ repressors $R$ to a promoter $G$. You can choose any rates $k_b$ and $k_u$ and any integer value of $n$. The second models transcription of $T$ from $G$ and occurs at rate $k_{tx}$.\n"
   ]
  },
  {
   "cell_type": "markdown",
   "metadata": {},
   "source": [
    "---\n",
    "**my solution**"
   ]
  },
  {
   "cell_type": "code",
   "execution_count": 23,
   "metadata": {},
   "outputs": [
    {
     "name": "stdout",
     "output_type": "stream",
     "text": [
      "Species (4) = {0. G init_conc = 0, 1. R init_conc = 0, 2. T init_conc = 0, 3. ordered_complex[G:R:R:R] init_conc = 0}\n",
      "\n",
      "Reactions (2) = [\n",
      "0. G+3R <--> ordered_complex[G:R:R:R]\n",
      " Kf=k_forward * G * R^3\n",
      " Kr=k_reverse * ordered_complex_G_R_R_R_\n",
      "  k_forward=10\n",
      "  k_reverse=2\n",
      "\n",
      "1. G --> G+T\n",
      " Kf=k_forward * G\n",
      "  k_forward=3\n",
      "\n",
      "]\n"
     ]
    }
   ],
   "source": [
    "# Create Species\n",
    "G = Species(\"G\")\n",
    "R = Species(\"R\")\n",
    "T = Species(\"T\")\n",
    "\n",
    "# Write params\n",
    "n_R = 3\n",
    "k_b = 10\n",
    "k_u = 2\n",
    "k_tx = 3\n",
    "\n",
    "# List of repressors\n",
    "n_list = [R] * n_R\n",
    "\n",
    "# Create Complex\n",
    "Complex_GnR = Complex([G] + n_list, ordered = True)\n",
    "\n",
    "# Create Reactions\n",
    "R1_2 = Reaction.from_massaction([G] + n_list, [Complex_GnR], \n",
    "                                k_forward = k_b, k_reverse = k_u)\n",
    "\n",
    "R2_2 = Reaction.from_massaction([G], [G, T], k_forward = k_tx)\n",
    "\n",
    "# Create CRN\n",
    "CRN_2a = ChemicalReactionNetwork(species = [G, R, T], reactions = [R1_2, R2_2])\n",
    "\n",
    "print(CRN_2a.pretty_print(show_rates = True))"
   ]
  },
  {
   "cell_type": "markdown",
   "metadata": {},
   "source": [
    "### B. Create a different CRN to simulate the following transcriptional repression reaction using a ProportionalHillNegative Propensity: $G \\rightarrow G + T \\quad \\rho = k_{tx} G \\frac{1}{1 + (\\frac{R}{K})^n}$ where $K = \\frac{k_u}{k_b}$. \n"
   ]
  },
  {
   "cell_type": "markdown",
   "metadata": {},
   "source": [
    "---\n",
    "**my solution**"
   ]
  },
  {
   "cell_type": "code",
   "execution_count": 24,
   "metadata": {},
   "outputs": [
    {
     "name": "stdout",
     "output_type": "stream",
     "text": [
      "Species (4) = {0. G init_conc = 0, 1. R init_conc = 0, 2. T init_conc = 0, 3. ordered_complex[G:R:R:R] init_conc = 0}\n",
      "\n",
      "Reactions (1) = [\n",
      "0. G+3R --> ordered_complex[G:R:R:R]\n",
      " Kf = k G / ( 1 + (R/K)^1 )\n",
      "  k=3\n",
      "  K=0.2\n",
      "  n=1\n",
      "\n",
      "]\n"
     ]
    }
   ],
   "source": [
    "# Create Species\n",
    "G = Species(\"G\")\n",
    "R = Species(\"R\")\n",
    "T = Species(\"T\")\n",
    "\n",
    "# Create params\n",
    "n_R = 3\n",
    "k_b = 10\n",
    "k_u = 2\n",
    "k_tx = 3\n",
    "\n",
    "# Repressor list\n",
    "n_list = [R] * n_R\n",
    "\n",
    "# Create Complex\n",
    "Complex_GnR = Complex([G] + n_list, ordered = True)\n",
    "\n",
    "# Make neg hill propensity\n",
    "prop_hill_neg = ProportionalHillNegative(k = k_tx, s1 = R, K = k_u/k_b, n = 1, d = G)\n",
    "\n",
    "# Write reaction\n",
    "r_prop_hill_pos = Reaction([G] + n_list, [Complex_GnR], \n",
    "                           propensity_type = prop_hill_neg)\n",
    "\n",
    "# Compile CRN\n",
    "CRN_2b = ChemicalReactionNetwork(species = [G, R, T], reactions = [r_prop_hill_pos])\n",
    "\n",
    "print(CRN_2b.pretty_print())"
   ]
  },
  {
   "cell_type": "markdown",
   "metadata": {},
   "source": [
    "### C. for what rates $k_u$, $k_b$, and $k_{tx}$ do the two models agree and disagree?"
   ]
  },
  {
   "cell_type": "code",
   "execution_count": 25,
   "metadata": {},
   "outputs": [],
   "source": [
    "# Initial condition dict for exercise 2\n",
    "x0_2 = {str(\"G\"):1,\n",
    "     str(\"R\"):10}\n",
    "\n",
    "# Expanded timepoints\n",
    "timepoints = np.linspace(0,20,100)\n",
    "\n",
    "# Get results\n",
    "Results_2a = CRN_2a.simulate_with_bioscrape(timepoints,x0_2)\n",
    "Results_2b = CRN_2b.simulate_with_bioscrape(timepoints,x0_2)"
   ]
  },
  {
   "cell_type": "markdown",
   "metadata": {},
   "source": [
    "Plot!"
   ]
  },
  {
   "cell_type": "code",
   "execution_count": 40,
   "metadata": {},
   "outputs": [
    {
     "data": {
      "text/html": [
       "\n",
       "\n",
       "\n",
       "\n",
       "\n",
       "\n",
       "  <div class=\"bk-root\" id=\"79e25a9e-b5f6-48ef-9782-7f63be02e078\" data-root-id=\"4348\"></div>\n"
      ]
     },
     "metadata": {},
     "output_type": "display_data"
    },
    {
     "data": {
      "application/javascript": [
       "(function(root) {\n",
       "  function embed_document(root) {\n",
       "    \n",
       "  var docs_json = {\"c0741afa-a45e-4061-8ed9-8ffd24c729f9\":{\"roots\":{\"references\":[{\"attributes\":{\"children\":[{\"id\":\"4210\",\"subtype\":\"Figure\",\"type\":\"Plot\"},{\"id\":\"4287\",\"subtype\":\"Figure\",\"type\":\"Plot\"}]},\"id\":\"4348\",\"type\":\"Row\"},{\"attributes\":{\"text\":\"Exercise 2b\"},\"id\":\"4288\",\"type\":\"Title\"},{\"attributes\":{\"source\":{\"id\":\"4334\",\"type\":\"ColumnDataSource\"}},\"id\":\"4338\",\"type\":\"CDSView\"},{\"attributes\":{\"callback\":null},\"id\":\"4290\",\"type\":\"DataRange1d\"},{\"attributes\":{},\"id\":\"4345\",\"type\":\"Selection\"},{\"attributes\":{\"callback\":null},\"id\":\"4292\",\"type\":\"DataRange1d\"},{\"attributes\":{\"source\":{\"id\":\"4257\",\"type\":\"ColumnDataSource\"}},\"id\":\"4261\",\"type\":\"CDSView\"},{\"attributes\":{},\"id\":\"4548\",\"type\":\"UnionRenderers\"},{\"attributes\":{},\"id\":\"4294\",\"type\":\"LinearScale\"},{\"attributes\":{},\"id\":\"4296\",\"type\":\"LinearScale\"},{\"attributes\":{},\"id\":\"4544\",\"type\":\"Selection\"},{\"attributes\":{\"axis_label\":\"time\",\"formatter\":{\"id\":\"4327\",\"type\":\"BasicTickFormatter\"},\"ticker\":{\"id\":\"4299\",\"type\":\"BasicTicker\"}},\"id\":\"4298\",\"type\":\"LinearAxis\"},{\"attributes\":{\"dimension\":1,\"ticker\":{\"id\":\"4304\",\"type\":\"BasicTicker\"}},\"id\":\"4307\",\"type\":\"Grid\"},{\"attributes\":{\"label\":{\"value\":\"R\"},\"renderers\":[{\"id\":\"4260\",\"type\":\"GlyphRenderer\"}]},\"id\":\"4270\",\"type\":\"LegendItem\"},{\"attributes\":{},\"id\":\"4299\",\"type\":\"BasicTicker\"},{\"attributes\":{},\"id\":\"4549\",\"type\":\"Selection\"},{\"attributes\":{\"ticker\":{\"id\":\"4299\",\"type\":\"BasicTicker\"}},\"id\":\"4302\",\"type\":\"Grid\"},{\"attributes\":{},\"id\":\"4304\",\"type\":\"BasicTicker\"},{\"attributes\":{\"axis_label\":\"conc\",\"formatter\":{\"id\":\"4329\",\"type\":\"BasicTickFormatter\"},\"ticker\":{\"id\":\"4304\",\"type\":\"BasicTicker\"}},\"id\":\"4303\",\"type\":\"LinearAxis\"},{\"attributes\":{\"line_alpha\":0.1,\"line_color\":\"#1f77b4\",\"line_width\":2,\"x\":{\"field\":\"x\"},\"y\":{\"field\":\"y\"}},\"id\":\"4323\",\"type\":\"Line\"},{\"attributes\":{\"active_drag\":\"auto\",\"active_inspect\":\"auto\",\"active_multi\":null,\"active_scroll\":\"auto\",\"active_tap\":\"auto\",\"tools\":[{\"id\":\"4308\",\"type\":\"PanTool\"},{\"id\":\"4309\",\"type\":\"WheelZoomTool\"},{\"id\":\"4310\",\"type\":\"BoxZoomTool\"},{\"id\":\"4311\",\"type\":\"SaveTool\"},{\"id\":\"4312\",\"type\":\"ResetTool\"},{\"id\":\"4313\",\"type\":\"HelpTool\"}]},\"id\":\"4314\",\"type\":\"Toolbar\"},{\"attributes\":{},\"id\":\"4308\",\"type\":\"PanTool\"},{\"attributes\":{},\"id\":\"4309\",\"type\":\"WheelZoomTool\"},{\"attributes\":{\"data_source\":{\"id\":\"4257\",\"type\":\"ColumnDataSource\"},\"glyph\":{\"id\":\"4258\",\"type\":\"Line\"},\"hover_glyph\":null,\"muted_glyph\":null,\"nonselection_glyph\":{\"id\":\"4259\",\"type\":\"Line\"},\"selection_glyph\":null,\"view\":{\"id\":\"4261\",\"type\":\"CDSView\"}},\"id\":\"4260\",\"type\":\"GlyphRenderer\"},{\"attributes\":{\"overlay\":{\"id\":\"4331\",\"type\":\"BoxAnnotation\"}},\"id\":\"4310\",\"type\":\"BoxZoomTool\"},{\"attributes\":{},\"id\":\"4311\",\"type\":\"SaveTool\"},{\"attributes\":{},\"id\":\"4312\",\"type\":\"ResetTool\"},{\"attributes\":{\"data_source\":{\"id\":\"4321\",\"type\":\"ColumnDataSource\"},\"glyph\":{\"id\":\"4322\",\"type\":\"Line\"},\"hover_glyph\":null,\"muted_glyph\":null,\"nonselection_glyph\":{\"id\":\"4323\",\"type\":\"Line\"},\"selection_glyph\":null,\"view\":{\"id\":\"4325\",\"type\":\"CDSView\"}},\"id\":\"4324\",\"type\":\"GlyphRenderer\"},{\"attributes\":{},\"id\":\"4313\",\"type\":\"HelpTool\"},{\"attributes\":{},\"id\":\"4329\",\"type\":\"BasicTickFormatter\"},{\"attributes\":{\"items\":[{\"id\":\"4333\",\"type\":\"LegendItem\"},{\"id\":\"4347\",\"type\":\"LegendItem\"}]},\"id\":\"4332\",\"type\":\"Legend\"},{\"attributes\":{\"source\":{\"id\":\"4321\",\"type\":\"ColumnDataSource\"}},\"id\":\"4325\",\"type\":\"CDSView\"},{\"attributes\":{},\"id\":\"4327\",\"type\":\"BasicTickFormatter\"},{\"attributes\":{\"bottom_units\":\"screen\",\"fill_alpha\":{\"value\":0.5},\"fill_color\":{\"value\":\"lightgrey\"},\"left_units\":\"screen\",\"level\":\"overlay\",\"line_alpha\":{\"value\":1.0},\"line_color\":{\"value\":\"black\"},\"line_dash\":[4,4],\"line_width\":{\"value\":2},\"render_mode\":\"css\",\"right_units\":\"screen\",\"top_units\":\"screen\"},\"id\":\"4331\",\"type\":\"BoxAnnotation\"},{\"attributes\":{\"data_source\":{\"id\":\"4334\",\"type\":\"ColumnDataSource\"},\"glyph\":{\"id\":\"4335\",\"type\":\"Line\"},\"hover_glyph\":null,\"muted_glyph\":null,\"nonselection_glyph\":{\"id\":\"4336\",\"type\":\"Line\"},\"selection_glyph\":null,\"view\":{\"id\":\"4338\",\"type\":\"CDSView\"}},\"id\":\"4337\",\"type\":\"GlyphRenderer\"},{\"attributes\":{\"label\":{\"value\":\"G\"},\"renderers\":[{\"id\":\"4324\",\"type\":\"GlyphRenderer\"}]},\"id\":\"4333\",\"type\":\"LegendItem\"},{\"attributes\":{},\"id\":\"4267\",\"type\":\"UnionRenderers\"},{\"attributes\":{\"callback\":null,\"data\":{\"x\":{\"__ndarray__\":\"AAAAAAAAAAAxb2dIzNvJPzFvZ0jM29k/ZZNNNtlk4z8xb2dIzNvpP3+lQK1fKfA/ZZNNNtlk8z9LgVq/UqD2PzFvZ0jM2/k/F1100UUX/T9/pUCtXykAQHIcx3EcxwFAZZNNNtlkA0BYCtT6lQIFQEuBWr9SoAZAPvjggw8+CEAxb2dIzNsJQCTm7QyJeQtAF1100UUXDUAK1PqVArUOQH+lQK1fKRBA+OCDDz74EEByHMdxHMcRQOtXCtT6lRJAZZNNNtlkE0DezpCYtzMUQFgK1PqVAhVA0UUXXXTRFUBLgVq/UqAWQMS8nSExbxdAPvjggw8+GEC3MyTm7QwZQDFvZ0jM2xlAq6qqqqqqGkAk5u0MiXkbQJ4hMW9nSBxAF1100UUXHUCRmLczJOYdQArU+pUCtR5AhA8++OCDH0B/pUCtXykgQDtDYt7OkCBA+OCDDz74IEC1fqVArV8hQHIcx3EcxyFALrrooosuIkDrVwrU+pUiQKj1KwVq/SJAZZNNNtlkI0AiMW9nSMwjQN7OkJi3MyRAm2yyySabJEBYCtT6lQIlQBWo9SsFaiVA0UUXXXTRJUCO4ziO4zgmQEuBWr9SoCZACB988MEHJ0DEvJ0hMW8nQIFav1Kg1idAPvjggw8+KED7lQK1fqUoQLczJObtDClAdNFFF110KUAxb2dIzNspQO4MiXk7QypAq6qqqqqqKkBnSMzbGRIrQCTm7QyJeStA4YMPPvjgK0CeITFvZ0gsQFq/UqDWryxAF1100UUXLUDU+pUCtX4tQJGYtzMk5i1ATTbZZJNNLkAK1PqVArUuQMdxHMdxHC9AhA8++OCDL0BArV8pUOsvQH+lQK1fKTBAXXTRRRddMEA7Q2LezpAwQBoS83aGxDBA+OCDDz74MEDXrxSo9SsxQLV+pUCtXzFAk0022WSTMUByHMdxHMcxQFDrVwrU+jFALrrooosuMkANiXk7Q2IyQOtXCtT6lTJAyiabbLLJMkCo9SsFav0yQIbEvJ0hMTNAZZNNNtlkM0BDYt7OkJgzQCIxb2dIzDNAAAAAAAAANEA=\",\"dtype\":\"float64\",\"shape\":[100]},\"y\":{\"__ndarray__\":\"AAAAAAAAAAAAAAAAAAAAAAAAAAAAAAAAAAAAAAAAAAAAAAAAAAAAAAAAAAAAAAAAAAAAAAAAAAAAAAAAAAAAAAAAAAAAAAAAAAAAAAAAAAAAAAAAAAAAAAAAAAAAAAAAAAAAAAAAAAAAAAAAAAAAAAAAAAAAAAAAAAAAAAAAAAAAAAAAAAAAAAAAAAAAAAAAAAAAAAAAAAAAAAAAAAAAAAAAAAAAAAAAAAAAAAAAAAAAAAAAAAAAAAAAAAAAAAAAAAAAAAAAAAAAAAAAAAAAAAAAAAAAAAAAAAAAAAAAAAAAAAAAAAAAAAAAAAAAAAAAAAAAAAAAAAAAAAAAAAAAAAAAAAAAAAAAAAAAAAAAAAAAAAAAAAAAAAAAAAAAAAAAAAAAAAAAAAAAAAAAAAAAAAAAAAAAAAAAAAAAAAAAAAAAAAAAAAAAAAAAAAAAAAAAAAAAAAAAAAAAAAAAAAAAAAAAAAAAAAAAAAAAAAAAAAAAAAAAAAAAAAAAAAAAAAAAAAAAAAAAAAAAAAAAAAAAAAAAAAAAAAAAAAAAAAAAAAAAAAAAAAAAAAAAAAAAAAAAAAAAAAAAAAAAAAAAAAAAAAAAAAAAAAAAAAAAAAAAAAAAAAAAAAAAAAAAAAAAAAAAAAAAAAAAAAAAAAAAAAAAAAAAAAAAAAAAAAAAAAAAAAAAAAAAAAAAAAAAAAAAAAAAAAAAAAAAAAAAAAAAAAAAAAAAAAAAAAAAAAAAAAAAAAAAAAAAAAAAAAAAAAAAAAAAAAAAAAAAAAAAAAAAAAAAAAAAAAAAAAAAAAAAAAAAAAAAAAAAAAAAAAAAAAAAAAAAAAAAAAAAAAAAAAAAAAAAAAAAAAAAAAAAAAAAAAAAAAAAAAAAAAAAAAAAAAAAAAAAAAAAAAAAAAAAAAAAAAAAAAAAAAAAAAAAAAAAAAAAAAAAAAAAAAAAAAAAAAAAAAAAAAAAAAAAAAAAAAAAAAAAAAAAAAAAAAAAAAAAAAAAAAAAAAAAAAAAAAAAAAAAAAAAAAAAAAAAAAAAAAAAAAAAAAAAAAAAAAAAAAAAAAAAAAA=\",\"dtype\":\"float64\",\"shape\":[100]}},\"selected\":{\"id\":\"4549\",\"type\":\"Selection\"},\"selection_policy\":{\"id\":\"4548\",\"type\":\"UnionRenderers\"}},\"id\":\"4334\",\"type\":\"ColumnDataSource\"},{\"attributes\":{\"line_alpha\":0.1,\"line_color\":\"#1f77b4\",\"line_width\":2,\"x\":{\"field\":\"x\"},\"y\":{\"field\":\"y\"}},\"id\":\"4336\",\"type\":\"Line\"},{\"attributes\":{\"axis_label\":\"time\",\"formatter\":{\"id\":\"4250\",\"type\":\"BasicTickFormatter\"},\"ticker\":{\"id\":\"4222\",\"type\":\"BasicTicker\"}},\"id\":\"4221\",\"type\":\"LinearAxis\"},{\"attributes\":{\"dimension\":1,\"ticker\":{\"id\":\"4227\",\"type\":\"BasicTicker\"}},\"id\":\"4230\",\"type\":\"Grid\"},{\"attributes\":{},\"id\":\"4222\",\"type\":\"BasicTicker\"},{\"attributes\":{\"ticker\":{\"id\":\"4222\",\"type\":\"BasicTicker\"}},\"id\":\"4225\",\"type\":\"Grid\"},{\"attributes\":{},\"id\":\"4227\",\"type\":\"BasicTicker\"},{\"attributes\":{\"axis_label\":\"conc\",\"formatter\":{\"id\":\"4252\",\"type\":\"BasicTickFormatter\"},\"ticker\":{\"id\":\"4227\",\"type\":\"BasicTicker\"}},\"id\":\"4226\",\"type\":\"LinearAxis\"},{\"attributes\":{},\"id\":\"4543\",\"type\":\"UnionRenderers\"},{\"attributes\":{\"line_alpha\":0.1,\"line_color\":\"#1f77b4\",\"line_width\":2,\"x\":{\"field\":\"x\"},\"y\":{\"field\":\"y\"}},\"id\":\"4246\",\"type\":\"Line\"},{\"attributes\":{\"line_color\":\"#2ba02b\",\"line_width\":2,\"x\":{\"field\":\"x\"},\"y\":{\"field\":\"y\"}},\"id\":\"4272\",\"type\":\"Line\"},{\"attributes\":{\"active_drag\":\"auto\",\"active_inspect\":\"auto\",\"active_multi\":null,\"active_scroll\":\"auto\",\"active_tap\":\"auto\",\"tools\":[{\"id\":\"4231\",\"type\":\"PanTool\"},{\"id\":\"4232\",\"type\":\"WheelZoomTool\"},{\"id\":\"4233\",\"type\":\"BoxZoomTool\"},{\"id\":\"4234\",\"type\":\"SaveTool\"},{\"id\":\"4235\",\"type\":\"ResetTool\"},{\"id\":\"4236\",\"type\":\"HelpTool\"}]},\"id\":\"4237\",\"type\":\"Toolbar\"},{\"attributes\":{\"below\":[{\"id\":\"4298\",\"type\":\"LinearAxis\"}],\"center\":[{\"id\":\"4302\",\"type\":\"Grid\"},{\"id\":\"4307\",\"type\":\"Grid\"},{\"id\":\"4332\",\"type\":\"Legend\"}],\"left\":[{\"id\":\"4303\",\"type\":\"LinearAxis\"}],\"plot_height\":350,\"plot_width\":450,\"renderers\":[{\"id\":\"4324\",\"type\":\"GlyphRenderer\"},{\"id\":\"4337\",\"type\":\"GlyphRenderer\"}],\"title\":{\"id\":\"4288\",\"type\":\"Title\"},\"toolbar\":{\"id\":\"4314\",\"type\":\"Toolbar\"},\"x_range\":{\"id\":\"4290\",\"type\":\"DataRange1d\"},\"x_scale\":{\"id\":\"4294\",\"type\":\"LinearScale\"},\"y_range\":{\"id\":\"4292\",\"type\":\"DataRange1d\"},\"y_scale\":{\"id\":\"4296\",\"type\":\"LinearScale\"}},\"id\":\"4287\",\"subtype\":\"Figure\",\"type\":\"Plot\"},{\"attributes\":{},\"id\":\"4231\",\"type\":\"PanTool\"},{\"attributes\":{},\"id\":\"4232\",\"type\":\"WheelZoomTool\"},{\"attributes\":{\"overlay\":{\"id\":\"4254\",\"type\":\"BoxAnnotation\"}},\"id\":\"4233\",\"type\":\"BoxZoomTool\"},{\"attributes\":{},\"id\":\"4234\",\"type\":\"SaveTool\"},{\"attributes\":{},\"id\":\"4235\",\"type\":\"ResetTool\"},{\"attributes\":{\"data_source\":{\"id\":\"4244\",\"type\":\"ColumnDataSource\"},\"glyph\":{\"id\":\"4245\",\"type\":\"Line\"},\"hover_glyph\":null,\"muted_glyph\":null,\"nonselection_glyph\":{\"id\":\"4246\",\"type\":\"Line\"},\"selection_glyph\":null,\"view\":{\"id\":\"4248\",\"type\":\"CDSView\"}},\"id\":\"4247\",\"type\":\"GlyphRenderer\"},{\"attributes\":{},\"id\":\"4236\",\"type\":\"HelpTool\"},{\"attributes\":{\"line_alpha\":0.1,\"line_color\":\"#1f77b4\",\"line_width\":2,\"x\":{\"field\":\"x\"},\"y\":{\"field\":\"y\"}},\"id\":\"4259\",\"type\":\"Line\"},{\"attributes\":{},\"id\":\"4252\",\"type\":\"BasicTickFormatter\"},{\"attributes\":{},\"id\":\"4250\",\"type\":\"BasicTickFormatter\"},{\"attributes\":{\"source\":{\"id\":\"4244\",\"type\":\"ColumnDataSource\"}},\"id\":\"4248\",\"type\":\"CDSView\"},{\"attributes\":{\"callback\":null,\"data\":{\"x\":{\"__ndarray__\":\"AAAAAAAAAAAxb2dIzNvJPzFvZ0jM29k/ZZNNNtlk4z8xb2dIzNvpP3+lQK1fKfA/ZZNNNtlk8z9LgVq/UqD2PzFvZ0jM2/k/F1100UUX/T9/pUCtXykAQHIcx3EcxwFAZZNNNtlkA0BYCtT6lQIFQEuBWr9SoAZAPvjggw8+CEAxb2dIzNsJQCTm7QyJeQtAF1100UUXDUAK1PqVArUOQH+lQK1fKRBA+OCDDz74EEByHMdxHMcRQOtXCtT6lRJAZZNNNtlkE0DezpCYtzMUQFgK1PqVAhVA0UUXXXTRFUBLgVq/UqAWQMS8nSExbxdAPvjggw8+GEC3MyTm7QwZQDFvZ0jM2xlAq6qqqqqqGkAk5u0MiXkbQJ4hMW9nSBxAF1100UUXHUCRmLczJOYdQArU+pUCtR5AhA8++OCDH0B/pUCtXykgQDtDYt7OkCBA+OCDDz74IEC1fqVArV8hQHIcx3EcxyFALrrooosuIkDrVwrU+pUiQKj1KwVq/SJAZZNNNtlkI0AiMW9nSMwjQN7OkJi3MyRAm2yyySabJEBYCtT6lQIlQBWo9SsFaiVA0UUXXXTRJUCO4ziO4zgmQEuBWr9SoCZACB988MEHJ0DEvJ0hMW8nQIFav1Kg1idAPvjggw8+KED7lQK1fqUoQLczJObtDClAdNFFF110KUAxb2dIzNspQO4MiXk7QypAq6qqqqqqKkBnSMzbGRIrQCTm7QyJeStA4YMPPvjgK0CeITFvZ0gsQFq/UqDWryxAF1100UUXLUDU+pUCtX4tQJGYtzMk5i1ATTbZZJNNLkAK1PqVArUuQMdxHMdxHC9AhA8++OCDL0BArV8pUOsvQH+lQK1fKTBAXXTRRRddMEA7Q2LezpAwQBoS83aGxDBA+OCDDz74MEDXrxSo9SsxQLV+pUCtXzFAk0022WSTMUByHMdxHMcxQFDrVwrU+jFALrrooosuMkANiXk7Q2IyQOtXCtT6lTJAyiabbLLJMkCo9SsFav0yQIbEvJ0hMTNAZZNNNtlkM0BDYt7OkJgzQCIxb2dIzDNAAAAAAAAANEA=\",\"dtype\":\"float64\",\"shape\":[100]},\"y\":{\"__ndarray__\":\"AAAAAAAAJEDT/xRfXlQcQC2Xty5eVBxApW66Ll5UHED5LrsuXlQcQJJduy5eVBxAdGO7Ll5UHECEZbsuXlQcQIlluy5eVBxAjmW7Ll5UHECTZbsuXlQcQJdluy5eVBxAnGW7Ll5UHEChZbsuXlQcQKZluy5eVBxAq2W7Ll5UHECwZbsuXlQcQLRluy5eVBxAuWW7Ll5UHEC+ZbsuXlQcQMNluy5eVBxAyGW7Ll5UHEDNZbsuXlQcQNFluy5eVBxA1mW7Ll5UHEDbZbsuXlQcQOBluy5eVBxA5WW7Ll5UHEDoZbsuXlQcQOhluy5eVBxA6GW7Ll5UHEDoZbsuXlQcQOhluy5eVBxA6GW7Ll5UHEDoZbsuXlQcQOhluy5eVBxA6GW7Ll5UHEDoZbsuXlQcQOhluy5eVBxA6GW7Ll5UHEDoZbsuXlQcQOhluy5eVBxA6GW7Ll5UHEDoZbsuXlQcQOhluy5eVBxA6GW7Ll5UHEDoZbsuXlQcQOhluy5eVBxA6GW7Ll5UHEDoZbsuXlQcQOhluy5eVBxA6GW7Ll5UHEDoZbsuXlQcQOhluy5eVBxA6GW7Ll5UHEDoZbsuXlQcQOhluy5eVBxA6WW7Ll5UHEDpZbsuXlQcQOlluy5eVBxA6WW7Ll5UHEDpZbsuXlQcQOlluy5eVBxA6WW7Ll5UHEDpZbsuXlQcQOlluy5eVBxA6WW7Ll5UHEDqZbsuXlQcQOpluy5eVBxA6mW7Ll5UHEDqZbsuXlQcQOpluy5eVBxA6mW7Ll5UHEDqZbsuXlQcQOpluy5eVBxA6mW7Ll5UHEDqZbsuXlQcQOtluy5eVBxA62W7Ll5UHEDrZbsuXlQcQOtluy5eVBxA62W7Ll5UHEDrZbsuXlQcQOtluy5eVBxA62W7Ll5UHEDrZbsuXlQcQOtluy5eVBxA7GW7Ll5UHEDsZbsuXlQcQOxluy5eVBxA7GW7Ll5UHEDsZbsuXlQcQOxluy5eVBxA7GW7Ll5UHEDsZbsuXlQcQOxluy5eVBxA7GW7Ll5UHEDtZbsuXlQcQO1luy5eVBxA7WW7Ll5UHEA=\",\"dtype\":\"float64\",\"shape\":[100]}},\"selected\":{\"id\":\"4284\",\"type\":\"Selection\"},\"selection_policy\":{\"id\":\"4283\",\"type\":\"UnionRenderers\"}},\"id\":\"4257\",\"type\":\"ColumnDataSource\"},{\"attributes\":{},\"id\":\"4268\",\"type\":\"Selection\"},{\"attributes\":{\"bottom_units\":\"screen\",\"fill_alpha\":{\"value\":0.5},\"fill_color\":{\"value\":\"lightgrey\"},\"left_units\":\"screen\",\"level\":\"overlay\",\"line_alpha\":{\"value\":1.0},\"line_color\":{\"value\":\"black\"},\"line_dash\":[4,4],\"line_width\":{\"value\":2},\"render_mode\":\"css\",\"right_units\":\"screen\",\"top_units\":\"screen\"},\"id\":\"4254\",\"type\":\"BoxAnnotation\"},{\"attributes\":{\"line_color\":\"#1f77b3\",\"line_width\":2,\"x\":{\"field\":\"x\"},\"y\":{\"field\":\"y\"}},\"id\":\"4245\",\"type\":\"Line\"},{\"attributes\":{\"callback\":null,\"data\":{\"x\":{\"__ndarray__\":\"AAAAAAAAAAAxb2dIzNvJPzFvZ0jM29k/ZZNNNtlk4z8xb2dIzNvpP3+lQK1fKfA/ZZNNNtlk8z9LgVq/UqD2PzFvZ0jM2/k/F1100UUX/T9/pUCtXykAQHIcx3EcxwFAZZNNNtlkA0BYCtT6lQIFQEuBWr9SoAZAPvjggw8+CEAxb2dIzNsJQCTm7QyJeQtAF1100UUXDUAK1PqVArUOQH+lQK1fKRBA+OCDDz74EEByHMdxHMcRQOtXCtT6lRJAZZNNNtlkE0DezpCYtzMUQFgK1PqVAhVA0UUXXXTRFUBLgVq/UqAWQMS8nSExbxdAPvjggw8+GEC3MyTm7QwZQDFvZ0jM2xlAq6qqqqqqGkAk5u0MiXkbQJ4hMW9nSBxAF1100UUXHUCRmLczJOYdQArU+pUCtR5AhA8++OCDH0B/pUCtXykgQDtDYt7OkCBA+OCDDz74IEC1fqVArV8hQHIcx3EcxyFALrrooosuIkDrVwrU+pUiQKj1KwVq/SJAZZNNNtlkI0AiMW9nSMwjQN7OkJi3MyRAm2yyySabJEBYCtT6lQIlQBWo9SsFaiVA0UUXXXTRJUCO4ziO4zgmQEuBWr9SoCZACB988MEHJ0DEvJ0hMW8nQIFav1Kg1idAPvjggw8+KED7lQK1fqUoQLczJObtDClAdNFFF110KUAxb2dIzNspQO4MiXk7QypAq6qqqqqqKkBnSMzbGRIrQCTm7QyJeStA4YMPPvjgK0CeITFvZ0gsQFq/UqDWryxAF1100UUXLUDU+pUCtX4tQJGYtzMk5i1ATTbZZJNNLkAK1PqVArUuQMdxHMdxHC9AhA8++OCDL0BArV8pUOsvQH+lQK1fKTBAXXTRRRddMEA7Q2LezpAwQBoS83aGxDBA+OCDDz74MEDXrxSo9SsxQLV+pUCtXzFAk0022WSTMUByHMdxHMcxQFDrVwrU+jFALrrooosuMkANiXk7Q2IyQOtXCtT6lTJAyiabbLLJMkCo9SsFav0yQIbEvJ0hMTNAZZNNNtlkM0BDYt7OkJgzQCIxb2dIzDNAAAAAAAAANEA=\",\"dtype\":\"float64\",\"shape\":[100]},\"y\":{\"__ndarray__\":\"AAAAAAAAAABNBb810JupP1CBf3+5ELE/9JMVuopTtT+hd630W5a5P/TZRS8t2b0/1C/vNP8NwT9YdDvSZy/DP7y5h2/QUMU/JP/TDDlyxz+IRCCqoZPJP+6JbEcKtcs/VM+45HLWzT+6FAWC2/fPPxCtqA+iDNE/ws9OXlYd0j918vSsCi7TPygVm/u+PtQ/2jdBSnNP1T+OWueYJ2DWP0F9jefbcNc/858zNpCB2D+mwtmERJLZP1nlf9P4oto/DAgmIq2z2z++KsxwYcTcP3JNcr8V1d0/JHAYDsrl3j/Zkr5cfvbfP8ZaslWZg+A/IGwFffML4T96fVikTZThP9SOq8unHOI/L6D+8gGl4j+IsVEaXC3jP+LCpEG2teM/PNT3aBA+5D+W5UqQasbkP/D2nbfETuU/Sgjx3h7X5T+lGUQGeV/mP/4qly3T5+Y/WDzqVC1w5z+yTT18h/jnPwxfkKPhgOg/ZXDjyjsJ6T/AgTbylZHpPxqTiRnwGeo/dKTcQEqi6j/ItS9opCrrPyjHgo/+sus/gNjVtlg77D/Y6SjessPsPzD7ewUNTO0/iAzPLGfU7T/oHSJUwVzuP0AvdXsb5e4/mEDIonVt7z/wURvKz/XvP6Yxt/gUP/A/UrpgDEKD8D8AQwogb8fwP6zLszOcC/E/WFRdR8lP8T8E3QZb9pPxP7RlsG4j2PE/YO5ZglAc8j8MdwOWfWDyP7r/rKmqpPI/ZIhWvdfo8j8UEQDRBC3zP7yZqeQxcfM/bCJT+F618z8Yq/wLjPnzP8Qzph+5PfQ/crxPM+aB9D8eRflGE8b0P8zNolpACvU/eFZMbm1O9T8k3/WBmpL1P9Rnn5XH1vU/fvBIqfQa9j8sefK8IV/2P9gBnNBOo/Y/hopF5Hvn9j80E+/3qCv3P96bmAvWb/c/jCRCHwO09z84resyMPj3P+Q1lUZdPPg/kr4+WoqA+D8+R+htt8T4P+zPkYHkCPk/mlg7lRFN+T9G4eSoPpH5P/Jpjrxr1fk/nPI30JgZ+j9Me+HjxV36P/gDi/fyofo/pow0CyDm+j8=\",\"dtype\":\"float64\",\"shape\":[100]}},\"selected\":{\"id\":\"4544\",\"type\":\"Selection\"},\"selection_policy\":{\"id\":\"4543\",\"type\":\"UnionRenderers\"}},\"id\":\"4271\",\"type\":\"ColumnDataSource\"},{\"attributes\":{\"below\":[{\"id\":\"4221\",\"type\":\"LinearAxis\"}],\"center\":[{\"id\":\"4225\",\"type\":\"Grid\"},{\"id\":\"4230\",\"type\":\"Grid\"},{\"id\":\"4255\",\"type\":\"Legend\"}],\"left\":[{\"id\":\"4226\",\"type\":\"LinearAxis\"}],\"plot_height\":350,\"plot_width\":450,\"renderers\":[{\"id\":\"4247\",\"type\":\"GlyphRenderer\"},{\"id\":\"4260\",\"type\":\"GlyphRenderer\"},{\"id\":\"4274\",\"type\":\"GlyphRenderer\"}],\"title\":{\"id\":\"4211\",\"type\":\"Title\"},\"toolbar\":{\"id\":\"4237\",\"type\":\"Toolbar\"},\"x_range\":{\"id\":\"4213\",\"type\":\"DataRange1d\"},\"x_scale\":{\"id\":\"4217\",\"type\":\"LinearScale\"},\"y_range\":{\"id\":\"4215\",\"type\":\"DataRange1d\"},\"y_scale\":{\"id\":\"4219\",\"type\":\"LinearScale\"}},\"id\":\"4210\",\"subtype\":\"Figure\",\"type\":\"Plot\"},{\"attributes\":{\"callback\":null,\"data\":{\"x\":{\"__ndarray__\":\"AAAAAAAAAAAxb2dIzNvJPzFvZ0jM29k/ZZNNNtlk4z8xb2dIzNvpP3+lQK1fKfA/ZZNNNtlk8z9LgVq/UqD2PzFvZ0jM2/k/F1100UUX/T9/pUCtXykAQHIcx3EcxwFAZZNNNtlkA0BYCtT6lQIFQEuBWr9SoAZAPvjggw8+CEAxb2dIzNsJQCTm7QyJeQtAF1100UUXDUAK1PqVArUOQH+lQK1fKRBA+OCDDz74EEByHMdxHMcRQOtXCtT6lRJAZZNNNtlkE0DezpCYtzMUQFgK1PqVAhVA0UUXXXTRFUBLgVq/UqAWQMS8nSExbxdAPvjggw8+GEC3MyTm7QwZQDFvZ0jM2xlAq6qqqqqqGkAk5u0MiXkbQJ4hMW9nSBxAF1100UUXHUCRmLczJOYdQArU+pUCtR5AhA8++OCDH0B/pUCtXykgQDtDYt7OkCBA+OCDDz74IEC1fqVArV8hQHIcx3EcxyFALrrooosuIkDrVwrU+pUiQKj1KwVq/SJAZZNNNtlkI0AiMW9nSMwjQN7OkJi3MyRAm2yyySabJEBYCtT6lQIlQBWo9SsFaiVA0UUXXXTRJUCO4ziO4zgmQEuBWr9SoCZACB988MEHJ0DEvJ0hMW8nQIFav1Kg1idAPvjggw8+KED7lQK1fqUoQLczJObtDClAdNFFF110KUAxb2dIzNspQO4MiXk7QypAq6qqqqqqKkBnSMzbGRIrQCTm7QyJeStA4YMPPvjgK0CeITFvZ0gsQFq/UqDWryxAF1100UUXLUDU+pUCtX4tQJGYtzMk5i1ATTbZZJNNLkAK1PqVArUuQMdxHMdxHC9AhA8++OCDL0BArV8pUOsvQH+lQK1fKTBAXXTRRRddMEA7Q2LezpAwQBoS83aGxDBA+OCDDz74MEDXrxSo9SsxQLV+pUCtXzFAk0022WSTMUByHMdxHMcxQFDrVwrU+jFALrrooosuMkANiXk7Q2IyQOtXCtT6lTJAyiabbLLJMkCo9SsFav0yQIbEvJ0hMTNAZZNNNtlkM0BDYt7OkJgzQCIxb2dIzDNAAAAAAAAANEA=\",\"dtype\":\"float64\",\"shape\":[100]},\"y\":{\"__ndarray__\":\"AAAAAAAA8D+18/8GdR+cP/0R3edkH5w/go/P6GQfnD+iqw/pZB+cP8kzH+lkH5w/sCkh6WQfnD/c2SHpZB+cP2/bIelkH5w/A90h6WQfnD+X3iHpZB+cPyvgIelkH5w/v+Eh6WQfnD9T4yHpZB+cP+fkIelkH5w/e+Yh6WQfnD8P6CHpZB+cP6PpIelkH5w/Nush6WQfnD/K7CHpZB+cP17uIelkH5w/8u8h6WQfnD+G8SHpZB+cPxrzIelkH5w/rvQh6WQfnD9C9iHpZB+cP9b3IelkH5w/afkh6WQfnD9y+iHpZB+cP3P6IelkH5w/dPoh6WQfnD92+iHpZB+cP3f6IelkH5w/efoh6WQfnD96+iHpZB+cP3v6IelkH5w/ffoh6WQfnD9++iHpZB+cP3/6IelkH5w/gfoh6WQfnD+C+iHpZB+cP4P6IelkH5w/hfoh6WQfnD+G+iHpZB+cP4f6IelkH5w/ifoh6WQfnD+K+iHpZB+cP4v6IelkH5w/jfoh6WQfnD+P+iHpZB+cP476IelkH5w/jvoh6WQfnD+O+iHpZB+cP476IelkH5w/jvoh6WQfnD+O+iHpZB+cP476IelkH5w/jvoh6WQfnD+O+iHpZB+cP476IelkH5w/jvoh6WQfnD+N+iHpZB+cP436IelkH5w/jfoh6WQfnD+N+iHpZB+cP436IelkH5w/jfoh6WQfnD+N+iHpZB+cP436IelkH5w/jfoh6WQfnD+N+iHpZB+cP4z6IelkH5w/jPoh6WQfnD+M+iHpZB+cP4z6IelkH5w/jPoh6WQfnD+M+iHpZB+cP4z6IelkH5w/jPoh6WQfnD+M+iHpZB+cP4z6IelkH5w/i/oh6WQfnD+L+iHpZB+cP4v6IelkH5w/i/oh6WQfnD+L+iHpZB+cP4v6IelkH5w/i/oh6WQfnD+L+iHpZB+cP4v6IelkH5w/i/oh6WQfnD+L+iHpZB+cP4r6IelkH5w/ivoh6WQfnD+K+iHpZB+cP4r6IelkH5w/ivoh6WQfnD+K+iHpZB+cP4r6IelkH5w/ivoh6WQfnD8=\",\"dtype\":\"float64\",\"shape\":[100]}},\"selected\":{\"id\":\"4268\",\"type\":\"Selection\"},\"selection_policy\":{\"id\":\"4267\",\"type\":\"UnionRenderers\"}},\"id\":\"4244\",\"type\":\"ColumnDataSource\"},{\"attributes\":{\"label\":{\"value\":\"G\"},\"renderers\":[{\"id\":\"4247\",\"type\":\"GlyphRenderer\"}]},\"id\":\"4256\",\"type\":\"LegendItem\"},{\"attributes\":{\"line_color\":\"#ff7e0e\",\"line_width\":2,\"x\":{\"field\":\"x\"},\"y\":{\"field\":\"y\"}},\"id\":\"4258\",\"type\":\"Line\"},{\"attributes\":{\"line_alpha\":0.1,\"line_color\":\"#1f77b4\",\"line_width\":2,\"x\":{\"field\":\"x\"},\"y\":{\"field\":\"y\"}},\"id\":\"4273\",\"type\":\"Line\"},{\"attributes\":{\"text\":\"Exercise 2a\"},\"id\":\"4211\",\"type\":\"Title\"},{\"attributes\":{\"data_source\":{\"id\":\"4271\",\"type\":\"ColumnDataSource\"},\"glyph\":{\"id\":\"4272\",\"type\":\"Line\"},\"hover_glyph\":null,\"muted_glyph\":null,\"nonselection_glyph\":{\"id\":\"4273\",\"type\":\"Line\"},\"selection_glyph\":null,\"view\":{\"id\":\"4275\",\"type\":\"CDSView\"}},\"id\":\"4274\",\"type\":\"GlyphRenderer\"},{\"attributes\":{\"callback\":null},\"id\":\"4213\",\"type\":\"DataRange1d\"},{\"attributes\":{\"line_color\":\"#1f77b3\",\"line_width\":2,\"x\":{\"field\":\"x\"},\"y\":{\"field\":\"y\"}},\"id\":\"4322\",\"type\":\"Line\"},{\"attributes\":{\"source\":{\"id\":\"4271\",\"type\":\"ColumnDataSource\"}},\"id\":\"4275\",\"type\":\"CDSView\"},{\"attributes\":{},\"id\":\"4283\",\"type\":\"UnionRenderers\"},{\"attributes\":{\"callback\":null},\"id\":\"4215\",\"type\":\"DataRange1d\"},{\"attributes\":{\"label\":{\"value\":\"T\"},\"renderers\":[{\"id\":\"4274\",\"type\":\"GlyphRenderer\"}]},\"id\":\"4286\",\"type\":\"LegendItem\"},{\"attributes\":{\"items\":[{\"id\":\"4256\",\"type\":\"LegendItem\"},{\"id\":\"4270\",\"type\":\"LegendItem\"},{\"id\":\"4286\",\"type\":\"LegendItem\"}]},\"id\":\"4255\",\"type\":\"Legend\"},{\"attributes\":{},\"id\":\"4284\",\"type\":\"Selection\"},{\"attributes\":{},\"id\":\"4219\",\"type\":\"LinearScale\"},{\"attributes\":{},\"id\":\"4217\",\"type\":\"LinearScale\"},{\"attributes\":{\"line_color\":\"#2ba02b\",\"line_width\":2,\"x\":{\"field\":\"x\"},\"y\":{\"field\":\"y\"}},\"id\":\"4335\",\"type\":\"Line\"},{\"attributes\":{\"label\":{\"value\":\"T\"},\"renderers\":[{\"id\":\"4337\",\"type\":\"GlyphRenderer\"}]},\"id\":\"4347\",\"type\":\"LegendItem\"},{\"attributes\":{},\"id\":\"4344\",\"type\":\"UnionRenderers\"},{\"attributes\":{\"callback\":null,\"data\":{\"x\":{\"__ndarray__\":\"AAAAAAAAAAAxb2dIzNvJPzFvZ0jM29k/ZZNNNtlk4z8xb2dIzNvpP3+lQK1fKfA/ZZNNNtlk8z9LgVq/UqD2PzFvZ0jM2/k/F1100UUX/T9/pUCtXykAQHIcx3EcxwFAZZNNNtlkA0BYCtT6lQIFQEuBWr9SoAZAPvjggw8+CEAxb2dIzNsJQCTm7QyJeQtAF1100UUXDUAK1PqVArUOQH+lQK1fKRBA+OCDDz74EEByHMdxHMcRQOtXCtT6lRJAZZNNNtlkE0DezpCYtzMUQFgK1PqVAhVA0UUXXXTRFUBLgVq/UqAWQMS8nSExbxdAPvjggw8+GEC3MyTm7QwZQDFvZ0jM2xlAq6qqqqqqGkAk5u0MiXkbQJ4hMW9nSBxAF1100UUXHUCRmLczJOYdQArU+pUCtR5AhA8++OCDH0B/pUCtXykgQDtDYt7OkCBA+OCDDz74IEC1fqVArV8hQHIcx3EcxyFALrrooosuIkDrVwrU+pUiQKj1KwVq/SJAZZNNNtlkI0AiMW9nSMwjQN7OkJi3MyRAm2yyySabJEBYCtT6lQIlQBWo9SsFaiVA0UUXXXTRJUCO4ziO4zgmQEuBWr9SoCZACB988MEHJ0DEvJ0hMW8nQIFav1Kg1idAPvjggw8+KED7lQK1fqUoQLczJObtDClAdNFFF110KUAxb2dIzNspQO4MiXk7QypAq6qqqqqqKkBnSMzbGRIrQCTm7QyJeStA4YMPPvjgK0CeITFvZ0gsQFq/UqDWryxAF1100UUXLUDU+pUCtX4tQJGYtzMk5i1ATTbZZJNNLkAK1PqVArUuQMdxHMdxHC9AhA8++OCDL0BArV8pUOsvQH+lQK1fKTBAXXTRRRddMEA7Q2LezpAwQBoS83aGxDBA+OCDDz74MEDXrxSo9SsxQLV+pUCtXzFAk0022WSTMUByHMdxHMcxQFDrVwrU+jFALrrooosuMkANiXk7Q2IyQOtXCtT6lTJAyiabbLLJMkCo9SsFav0yQIbEvJ0hMTNAZZNNNtlkM0BDYt7OkJgzQCIxb2dIzDNAAAAAAAAANEA=\",\"dtype\":\"float64\",\"shape\":[100]},\"y\":{\"__ndarray__\":\"AAAAAAAA8D9kTWrfDp/vP6VJN37uPu8/hYTLkJ7f7j/siSG4HoHuPzEAiZduI+4/AuRd0Y3G7T+uYSf+e2rtP7Lm6LY4D+0/zACaicO07D+TXL0CHFvsP/8V6KlBAuw/KQ4LATSq6z/mOcGF8lLrP0G5ZbF8/Oo/CPWj9tGm6j8zpCPD8VHqP6etuYLb/ek/gwh/m46q6T+lYn9uCljpP4kPU1hOBuk/1n0PsVm16D+ZAgjMK2XoP/i9+PfDFeg/o7G/fyHH5z9IFTqpQ3nnP9mM67UpLOc/kUpV49Lf5j99h7hqPpTmP0da1YBrSeY/QpkuVln/5T/bIBgXB7blP11TB+xzbeU/zrih+Z4l5T/4eXlgh97kP6LCST0smOQ/kDkIqYxS5D8BDNe4pw3kP3uB+318yeM/aPU3BgqG4z/9yrtbT0PjP20LMoVLAeM/oKzjhf2/4j/OXe9dZH/iP8EoEQp/P+I/LDrNg0wA4j9zcoPBy8HhPwsljLb7g+E/4Vx6U9tG4T8bAeiFaQrhP6ssmzilzuA/rvWdU42T4D+biFa8IFngP/5exFVeH+A/zYnEAIrM3z9cioI0p1vfP+LSRv4R7N4/D2clEch93j/0SkAcxxDePwq9jMoMpd0/ZVb8wpY63T9CWr2oYtHcP/eZZBtuadw/31gXt7YC3D96FbcUOp3bPxhPjMr1ONs/xvEGbOfV2j+mq66JDHTaPxiOhbFiE9o/J9gzb+ez2T/4wDNMmFXZPzhC/c9y+Ng/CX85gHSc2D/psezgmkHYPxUtmHTj59c/wgdsvEuP1z8bDnM40TfXP+Gwvmdx4dY/BvWSyCmM1j8aKWTY9zfWPxdh4BPZ5NU/hLOY98qS1T9/EvL/ykHVPy0mTqnW8dQ/K/E1cOui1D/5dITRBlXUP4vBVkomCNQ/dsmqV0e80z/q26d3Z3HTP2NmXimEJ9M/fDPj7Jre0j/rdXdDqZbSP4LTsK+sT9I/3W1ztaIJ0j+BxhvZiMTRP95pMaFcgNE/APEplhs90T/hMmdCw/rQP1anWzJRudA/DMqu9MJ40D8=\",\"dtype\":\"float64\",\"shape\":[100]}},\"selected\":{\"id\":\"4345\",\"type\":\"Selection\"},\"selection_policy\":{\"id\":\"4344\",\"type\":\"UnionRenderers\"}},\"id\":\"4321\",\"type\":\"ColumnDataSource\"}],\"root_ids\":[\"4348\"]},\"title\":\"Bokeh Application\",\"version\":\"1.4.0\"}};\n",
       "  var render_items = [{\"docid\":\"c0741afa-a45e-4061-8ed9-8ffd24c729f9\",\"roots\":{\"4348\":\"79e25a9e-b5f6-48ef-9782-7f63be02e078\"}}];\n",
       "  root.Bokeh.embed.embed_items_notebook(docs_json, render_items);\n",
       "\n",
       "  }\n",
       "  if (root.Bokeh !== undefined) {\n",
       "    embed_document(root);\n",
       "  } else {\n",
       "    var attempts = 0;\n",
       "    var timer = setInterval(function(root) {\n",
       "      if (root.Bokeh !== undefined) {\n",
       "        clearInterval(timer);\n",
       "        embed_document(root);\n",
       "      } else {\n",
       "        attempts++;\n",
       "        if (attempts > 100) {\n",
       "          clearInterval(timer);\n",
       "          console.log(\"Bokeh: ERROR: Unable to run BokehJS code because BokehJS library is missing\");\n",
       "        }\n",
       "      }\n",
       "    }, 10, root)\n",
       "  }\n",
       "})(window);"
      ],
      "application/vnd.bokehjs_exec.v0+json": ""
     },
     "metadata": {
      "application/vnd.bokehjs_exec.v0+json": {
       "id": "4348"
      }
     },
     "output_type": "display_data"
    }
   ],
   "source": [
    "p_2a = bokeh.plotting.figure(width = 450, height = 350, title = 'Exercise 2a', \n",
    "                         x_axis_label = 'time',\n",
    "                         y_axis_label = 'conc')\n",
    "p_2a.line(timepoints, Results_2a['G'], legend_label = 'G', color = palette[0], line_width = 2)\n",
    "p_2a.line(timepoints, Results_2a['R'], legend_label = 'R',color = palette[1], line_width = 2)\n",
    "p_2a.line(timepoints, Results_2a['T'], legend_label = 'T',color = palette[2], line_width = 2)\n",
    "\n",
    "\n",
    "\n",
    "p_2b = bokeh.plotting.figure(width = 450, height = 350, title = 'Exercise 2b', \n",
    "                         x_axis_label = 'time',\n",
    "                         y_axis_label = 'conc')\n",
    "p_2b.line(timepoints, Results_2b['G'], legend_label = 'G', color = palette[0], line_width = 2)\n",
    "p_2b.line(timepoints, Results_2b['T'], legend_label = 'T',color = palette[2], line_width = 2)\n",
    "\n",
    "bokeh.io.show(row(p_2a, p_2b))"
   ]
  },
  {
   "cell_type": "markdown",
   "metadata": {},
   "source": [
    "Cool"
   ]
  },
  {
   "cell_type": "code",
   "execution_count": 42,
   "metadata": {},
   "outputs": [
    {
     "name": "stdout",
     "output_type": "stream",
     "text": [
      "CPython 3.7.7\n",
      "IPython 7.13.0\n",
      "\n",
      "bokeh 1.4.0\n",
      "colorcet 2.0.2\n",
      "biocrnpyler unknown\n",
      "jupyterlab 1.2.6\n"
     ]
    }
   ],
   "source": [
    "#watermark\n",
    "%reload_ext watermark\n",
    "%watermark -v -p bokeh,colorcet,biocrnpyler,jupyterlab\n",
    "  "
   ]
  }
 ],
 "metadata": {
  "celltoolbar": "Slideshow",
  "kernelspec": {
   "display_name": "Python 3",
   "language": "python",
   "name": "python3"
  },
  "language_info": {
   "codemirror_mode": {
    "name": "ipython",
    "version": 3
   },
   "file_extension": ".py",
   "mimetype": "text/x-python",
   "name": "python",
   "nbconvert_exporter": "python",
   "pygments_lexer": "ipython3",
   "version": "3.7.7"
  }
 },
 "nbformat": 4,
 "nbformat_minor": 4
}
