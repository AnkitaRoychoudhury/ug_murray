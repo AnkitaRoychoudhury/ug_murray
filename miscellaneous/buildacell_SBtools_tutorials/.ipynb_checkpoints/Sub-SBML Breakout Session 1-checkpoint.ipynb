{
 "cells": [
  {
   "cell_type": "markdown",
   "metadata": {
    "slideshow": {
     "slide_type": "slide"
    }
   },
   "source": [
    "# Sub-SBML Breakout Session #1\n",
    "\n",
    "## _Ayush Pandey_\n"
   ]
  },
  {
   "cell_type": "markdown",
   "metadata": {},
   "source": [
    "Problem:\n",
    "\n",
    "Compartmentalize your own SBML model - generate more than 1 model using a tool of your choice. Using Sub-SBML, try to combine your models together and regenerate the expected simulation."
   ]
  },
  {
   "cell_type": "markdown",
   "metadata": {},
   "source": [
    "## Model 1 : Create your own (or use the following code)"
   ]
  },
  {
   "cell_type": "code",
   "execution_count": 3,
   "metadata": {},
   "outputs": [
    {
     "name": "stdout",
     "output_type": "stream",
     "text": [
      "Model written to a SBML file successfully\n"
     ]
    }
   ],
   "source": [
    "# Create biocrnpyler models:\n",
    "from biocrnpyler.chemical_reaction_network import Species, Reaction, ChemicalReactionNetwork\n",
    "from biocrnpyler.propensities import ProportionalHillPositive\n",
    "import numpy as np\n",
    "import pylab as plt\n",
    "\n",
    "# Instead of the following one step transcription model,\n",
    "# use the biocrnpyler tools, to create a model with a different mechanism \n",
    "\n",
    "#Create a list of species names (strings)\n",
    "# G = Species(\"G\")\n",
    "# T = Species(\"T\")\n",
    "# S = Species(\"S\")\n",
    "# species = [G, T, S]\n",
    "\n",
    "# proportionalhillpositive = ProportionalHillPositive(d=G, s1=S, k=2, K=10, n=2)\n",
    "# # create reactions\n",
    "# rxn1 = Reaction([G], [G, T], \n",
    "#                 propensity_type = proportionalhillpositive)\n",
    "\n",
    "# rxn2 = Reaction([T], [], propensity_type = \"massaction\", k = 0.1)\n",
    "           \n",
    "# #Create a list of all reactions\n",
    "# rxns = [rxn1, rxn2]\n",
    "\n",
    "# G: 1 IC\n",
    "\n",
    "M = ChemicalReactionNetwork(species = species, reactions = rxns)\n",
    "_ = M.write_sbml_file('model1.xml')\n",
    "print('Model written to a SBML file successfully')"
   ]
  },
  {
   "cell_type": "markdown",
   "metadata": {},
   "source": [
    "## Model 2 (create your own or use the following code)"
   ]
  },
  {
   "cell_type": "code",
   "execution_count": 4,
   "metadata": {},
   "outputs": [
    {
     "name": "stdout",
     "output_type": "stream",
     "text": [
      "Model written to a SBML file successfully\n"
     ]
    }
   ],
   "source": [
    "from biocrnpyler.chemical_reaction_network import Species, Reaction, ChemicalReactionNetwork\n",
    "from biocrnpyler.propensities import HillPositive\n",
    "\n",
    "import numpy as np\n",
    "import pylab as plt\n",
    "\n",
    "\n",
    "# Instead of the following one step translation model,\n",
    "# use the biocrnpyler tools, to create a model with a different mechanism \n",
    "\n",
    "\n",
    "#Create a list of species names (strings)\n",
    "# T = Species(\"T\")\n",
    "# X = Species(\"X\")\n",
    "# species = [T, X]\n",
    "# hillpositive = HillPositive(s1=T, k=5, K=20, n=1)\n",
    "# #create reactions\n",
    "# rxn1 = Reaction([T], [T, X], propensity_type = hillpositive) \n",
    "\n",
    "# #Notice that parameters can also take numerical values instead of being named directly\n",
    "# rxn2 = Reaction([X], [], propensity_type = \"massaction\", k = 0.1)\n",
    "           \n",
    "# #Create a list of all reactions\n",
    "# rxns = [rxn1, rxn2]\n",
    "\n",
    "M = ChemicalReactionNetwork(species = species, reactions = rxns)\n",
    "_ = M.write_sbml_file('model2.xml')\n",
    "print('Model written to a SBML file successfully')"
   ]
  },
  {
   "cell_type": "markdown",
   "metadata": {},
   "source": [
    "Combine the advanced transcription and translation models together to get protein output. "
   ]
  },
  {
   "cell_type": "code",
   "execution_count": 7,
   "metadata": {},
   "outputs": [],
   "source": [
    "# Sketch solution\n",
    "from subsbml.Subsystem import createNewSubsystem, createSubsystem\n",
    "\n",
    "import numpy as np\n",
    "import pylab as plt\n",
    "\n",
    "# Create model 1 (create SBML using BioCRNpyler)\n",
    "ss1 = createSubsystem('model1.xml')\n",
    "\n",
    "# Create model 2\n",
    "ss2 = createSubsystem('model2.xml')\n",
    "\n",
    "# Combine together\n",
    "combined_ss = createNewSubsystem()\n",
    "combined_model = combined_ss.combineSubsystems([ss1, ss2])\n",
    "\n",
    "# Desired simulation result:\n",
    "# Simulating ss1 doesn't give desired output on its own.\n",
    "# Simulating ss2 doesn't give desired output on its own.\n",
    "# combined_model gives desired output."
   ]
  },
  {
   "cell_type": "markdown",
   "metadata": {},
   "source": [
    "## Explore the following:\n",
    "\n",
    "1. Compartment names: Try changing the compartment names manually (ss1.getSBMLDocument().getModel().getCompartment(0).setName('new_name') changes the name of compartment for ss1).\n",
    "Then, try to combine the two models and see if you get the same results.\n",
    "2. Species names and identifiers: Change the names or the identifiers of the species and observe the effects on the combined model. To do this, simply go to your XML file for the model and change names.\n",
    "3. Observe the changeLog for the combined subsystem. "
   ]
  },
  {
   "cell_type": "code",
   "execution_count": null,
   "metadata": {},
   "outputs": [],
   "source": []
  }
 ],
 "metadata": {
  "kernelspec": {
   "display_name": "Python 3",
   "language": "python",
   "name": "python3"
  },
  "language_info": {
   "codemirror_mode": {
    "name": "ipython",
    "version": 3
   },
   "file_extension": ".py",
   "mimetype": "text/x-python",
   "name": "python",
   "nbconvert_exporter": "python",
   "pygments_lexer": "ipython3",
   "version": "3.7.4"
  }
 },
 "nbformat": 4,
 "nbformat_minor": 2
}
