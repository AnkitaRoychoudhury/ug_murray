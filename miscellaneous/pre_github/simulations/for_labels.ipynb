{
 "cells": [
  {
   "cell_type": "markdown",
   "metadata": {},
   "source": [
    "$$\\text{Glucose}_0 = 30 \\, mM$$ <br>\n",
    "$$\\text{ATP}_0 = 30 \\, mM$$<br>\n",
    "$$\\text{Pi}_0 = 30 \\, mM$$ <br>\n",
    "$$\\text{NADP}^{+}_0 = 30 \\, mM$$ <br>\n",
    "$$\\text{Enzymes}_0 = 0.20 \\, mM$$ <br>\n",
    "$$\\text{ATP leak enzymes}_0 = 2 \\, mM$$<br>"
   ]
  },
  {
   "cell_type": "markdown",
   "metadata": {},
   "source": [
    "$$k_{bf} = 15 \\, hr^{-1}$$ <br>\n",
    "$$k_{br} = 0.1 * k_{bf}$$ <br>\n",
    "$$k_{uf} = 15 \\, hr^{-1}$$ <br>\n",
    "$$k_{ur} = 0.1 * k_{uf}$$ <br>\n",
    "$$k_{cat} = 10 \\, s^{-1}$$ <br>\n",
    "$$k_{atp \\, leak} = 2 \\, hr^{-1}$$ <br>\n",
    "\n",
    "\n",
    "\n",
    "\n",
    "\n",
    "\n"
   ]
  },
  {
   "cell_type": "markdown",
   "metadata": {},
   "source": [
    "$$\\text{Mean:}\\, \\frac{\\alpha}{\\beta}$$<br><br>\n",
    "$$\\text{Variance:}\\, \\frac{\\alpha(1+\\beta)}{\\beta^2}$$"
   ]
  },
  {
   "cell_type": "code",
   "execution_count": null,
   "metadata": {},
   "outputs": [],
   "source": []
  }
 ],
 "metadata": {
  "kernelspec": {
   "display_name": "Python 3",
   "language": "python",
   "name": "python3"
  },
  "language_info": {
   "codemirror_mode": {
    "name": "ipython",
    "version": 3
   },
   "file_extension": ".py",
   "mimetype": "text/x-python",
   "name": "python",
   "nbconvert_exporter": "python",
   "pygments_lexer": "ipython3",
   "version": "3.7.7"
  }
 },
 "nbformat": 4,
 "nbformat_minor": 4
}
