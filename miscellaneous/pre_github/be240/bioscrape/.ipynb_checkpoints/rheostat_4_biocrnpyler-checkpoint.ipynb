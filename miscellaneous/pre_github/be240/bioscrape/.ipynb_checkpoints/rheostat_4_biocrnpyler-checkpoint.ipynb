{
 "cells": [
  {
   "cell_type": "code",
   "execution_count": 4,
   "metadata": {},
   "outputs": [],
   "source": [
    "from biocrnpyler import *\n",
    "\n",
    "from biocrnpyler.mechanism import SimpleTranscription, Translation_MM, SimpleTranslation\n",
    "from biocrnpyler.global_mechanism import Dilution\n",
    "from biocrnpyler.component import Protein\n",
    "from biocrnpyler.chemical_reaction_network import Species, Reaction, ComplexSpecies, ChemicalReactionNetwork\n",
    "\n",
    "import numpy as np"
   ]
  },
  {
   "cell_type": "markdown",
   "metadata": {},
   "source": [
    "It goes Mixture $\\to$ Component $\\to$ Mechanism $\\to$ Species and Reactions $\\to$ Compiled CRN"
   ]
  },
  {
   "cell_type": "markdown",
   "metadata": {},
   "source": [
    "Remember overarching goal: Want extended lifetime of protein production (TX/TL) in synthetic cells. We will do this by looking into mechanisms for ATP regeneration."
   ]
  },
  {
   "cell_type": "markdown",
   "metadata": {},
   "source": [
    "- Mixture\n",
    "    - Cell Extract which includes glucose, atp, any necessary enzymes\n",
    "- Mechanisms\n",
    "    - want glucose $\\to$ f16p $\\to$ isobutanol\n",
    "    - and atp $\\to$ adp+pi - degradation\n",
    "    - modeled as mass action for now\n",
    "    - transcription/translation (?)\n",
    "- Parameters\n",
    "    - kf = 10\n",
    "    - kr = 0.1\n",
    "    - delta = 10\n",
    "- Components\n",
    "    - enzyme complexes, enzymes, species mentioned above\n",
    "    - wouldn't include enzyme complexes?\n",
    "        - use ComplexSpecies constructor to generated complexes between species\n",
    "    "
   ]
  },
  {
   "cell_type": "markdown",
   "metadata": {},
   "source": [
    "Remember the simplified model\n",
    "\n",
    "**Combined**\n",
    "$$\\text{2 ATP + Glucose} \\leftrightarrow^{E1} \\text{2 ADP + F16P}$$\n",
    "**Non-ATP Generating**\n",
    "$$\\text{2 ADP + F16P} \\leftrightarrow^{E2} \\text{2 ATP + Isobutanol}$$\n",
    "**ATP Generating**\n",
    "$$\\text{3 ADP + Pi + F16P} \\leftrightarrow^{E3} \\text{3 ATP + Isobutanol}$$\n",
    "**Spontaneous Hydrolysis**\n",
    "$$\\text{ATP} \\rightarrow \\text{ADP + Pi}$$\n",
    "\n",
    "\n"
   ]
  },
  {
   "cell_type": "code",
   "execution_count": 11,
   "metadata": {},
   "outputs": [],
   "source": [
    "# Define the species in the CRN\n",
    "ATP = Species(name = 'ATP', material_type = 'metabolite')\n",
    "ADP = Species(name = \"ADP\", material_type = 'metabolite')\n",
    "Pi = Species(name = \"Pi\", material_type = 'metabolite')\n",
    "\n",
    "Glucose = Species(name = 'Glucose', material_type = 'sugar')\n",
    "F16P = Species(name = 'F16P', material_type = 'sugar')\n",
    "Isobutanol = Species(name = 'Isobutanol', material_type = 'sugar_product')\n",
    "\n",
    "E1 = Species(name = 'E1', material_type = 'enzyme')\n",
    "E2 = Species(name = 'E2', material_type = 'enzyme')\n",
    "E3 = Species(name = 'E3', material_type = 'enzyme')\n",
    "\n",
    "Glucose_2ATP_E1 = ComplexSpecies([Glucose, ATP, ATP, E1])\n",
    "F16P_2ADP_E1 = ComplexSpecies([F16P, ADP, ADP, E1])\n",
    "\n",
    "F16P_2ADP_E2 = ComplexSpecies([F16P, ADP, ADP, E2])\n",
    "Isobutanol_2ATP_E2 = ComplexSpecies([Isobutanol, ATP, ATP, E2])\n",
    "\n",
    "F16P_3ADP_Pi_E3 = ComplexSpecies([F16P, ADP, ADP, ADP, Pi, E3])\n",
    "Isobutanol_3ATP_E3 = ComplexSpecies([Isobutanol, ATP, ATP, ATP, E3])\n",
    "\n",
    "species = [ATP, ADP, Pi, Glucose, F16P, Isobutanol, E1, E2, E3, Glucose_2ATP_E1, F16P_2ADP_E1,\n",
    "          F16P_2ADP_E2, Isobutanol_2ATP_E2, F16P_3ADP_Pi_E3, Isobutanol_3ATP_E3]\n",
    "\n",
    "# Reaction rates\n",
    "kf = 10\n",
    "kr = 0.1\n",
    "\n",
    "# Combined rxn 1 (reversible)\n",
    "inputs1 = [ATP, ATP, Glucose, E1]\n",
    "outputs1 = [Glucose_2ATP_E1]\n",
    "rxn1 = Reaction(inputs1, outputs1, k = kf, k_rev = kr)\n",
    "\n",
    "# Combined rxn 2 (irreversible)\n",
    "inputs2 = [Glucose_2ATP_E1]\n",
    "outputs2 = [F16P_2ADP_E1]\n",
    "kexpress = 10.\n",
    "rxn2 = Reaction(inputs2, outputs2, k = kexpress)\n",
    "\n",
    "# Combined rxn 3\n",
    "inputs3 = [F16P_2ADP_E1]\n",
    "outputs3 = [ADP, ADP, F16P]\n",
    "rxn3 = Reaction(inputs3, outputs3, k = kf, k_rev = kr)\n",
    "\n",
    "# NON rxn 4\n",
    "inputs4 = [ADP, ADP, F16P, E2]\n",
    "outputs4 = [F16P_2ADP_E2]\n",
    "rxn4 = Reaction(inputs4, outputs4, k = kf, k_rev = kr)\n",
    "\n",
    "# NON rxn 5\n",
    "inputs5 = [F16P_2ADP_E2]\n",
    "outputs5 = [Isobutanol_2ATP_E2]\n",
    "rxn5 = Reaction(inputs5, outputs5, k = kexpress)\n",
    "\n",
    "# NON rxn 6\n",
    "inputs6 = [Isobutanol_2ATP_E2]\n",
    "outputs6 = [Isobutanol, ATP, ATP, E2]\n",
    "rxn6 = Reaction(inputs6, outputs6, k = kf, k_rev = kr)\n",
    "\n",
    "# ATP rxn 7\n",
    "inputs7 = [ADP, ADP, Pi, F16P, E3]\n",
    "outputs7 = [F16P_3ADP_Pi_E3]\n",
    "rxn7 = Reaction(inputs7, outputs7, k = kf, k_rev = kr)\n",
    "\n",
    "# ATP rxn 8\n",
    "inputs8 = [F16P_3ADP_Pi_E3]\n",
    "outputs8 = [Isobutanol_3ATP_E3]\n",
    "rxn8 = Reaction(inputs8, outputs8, k = kexpress)\n",
    "\n",
    "# ATP rxn 9\n",
    "inputs9 = [Isobutanol_3ATP_E3]\n",
    "outputs9 = [Isobutanol, ATP, ATP, ATP, E3]\n",
    "rxn9 = Reaction(inputs9, outputs9, k = kf, k_rev = kr)\n",
    "\n",
    "rxns = [rxn1, rxn2, rxn3, rxn4, rxn5, rxn6, rxn7, rxn8, rxn9]\n",
    "\n",
    "CRN = ChemicalReactionNetwork(species, rxns)"
   ]
  },
  {
   "cell_type": "code",
   "execution_count": null,
   "metadata": {},
   "outputs": [],
   "source": []
  },
  {
   "cell_type": "code",
   "execution_count": null,
   "metadata": {},
   "outputs": [],
   "source": []
  },
  {
   "cell_type": "code",
   "execution_count": 16,
   "metadata": {},
   "outputs": [
    {
     "ename": "AssertionError",
     "evalue": "the object: sugar_Glucose passed into mixture as component must be of the class Component",
     "output_type": "error",
     "traceback": [
      "\u001b[0;31m---------------------------------------------------------------------------\u001b[0m",
      "\u001b[0;31mAssertionError\u001b[0m                            Traceback (most recent call last)",
      "\u001b[0;32m<ipython-input-16-f82ebb17c605>\u001b[0m in \u001b[0;36m<module>\u001b[0;34m\u001b[0m\n\u001b[1;32m      1\u001b[0m \u001b[0;31m#Expression Extract is a Mixture with very simple internal models\u001b[0m\u001b[0;34m\u001b[0m\u001b[0;34m\u001b[0m\u001b[0;34m\u001b[0m\u001b[0m\n\u001b[1;32m      2\u001b[0m Model_expression = ExpressionExtract(name = \"extract\", components = [Glucose, ATP, E1, E2, E3],\n\u001b[0;32m----> 3\u001b[0;31m                                      parameter_file = \"parameters.txt\")\n\u001b[0m\u001b[1;32m      4\u001b[0m \u001b[0;34m\u001b[0m\u001b[0m\n\u001b[1;32m      5\u001b[0m \u001b[0;31m#print(\"BioCRNpyler Representation:\\n\", repr(Model_expression))\u001b[0m\u001b[0;34m\u001b[0m\u001b[0;34m\u001b[0m\u001b[0;34m\u001b[0m\u001b[0m\n",
      "\u001b[0;32m/anaconda3/lib/python3.7/site-packages/biocrnpyler-0.1-py3.7.egg/biocrnpyler/extracts.py\u001b[0m in \u001b[0;36m__init__\u001b[0;34m(self, name, mechanisms, components, **kwargs)\u001b[0m\n\u001b[1;32m     22\u001b[0m         \u001b[0mdefault_components\u001b[0m \u001b[0;34m=\u001b[0m \u001b[0;34m[\u001b[0m\u001b[0;34m]\u001b[0m\u001b[0;34m\u001b[0m\u001b[0;34m\u001b[0m\u001b[0m\n\u001b[1;32m     23\u001b[0m         Mixture.__init__(self, name=name, default_mechanisms=default_mechanisms, mechanisms=mechanisms, \n\u001b[0;32m---> 24\u001b[0;31m                         components=components+default_components, **kwargs)\n\u001b[0m\u001b[1;32m     25\u001b[0m \u001b[0;34m\u001b[0m\u001b[0m\n\u001b[1;32m     26\u001b[0m \u001b[0;31m#A Model for Transcription and Translation in Cell Extract with Ribosomes, Polymerases, and Endonucleases.\u001b[0m\u001b[0;34m\u001b[0m\u001b[0;34m\u001b[0m\u001b[0;34m\u001b[0m\u001b[0m\n",
      "\u001b[0;32m/anaconda3/lib/python3.7/site-packages/biocrnpyler-0.1-py3.7.egg/biocrnpyler/mixture.py\u001b[0m in \u001b[0;36m__init__\u001b[0;34m(self, name, mechanisms, components, parameters, parameter_file, default_mechanisms, global_mechanisms, default_components, species, custom_initial_condition, parameter_warnings, **kwargs)\u001b[0m\n\u001b[1;32m     93\u001b[0m         \u001b[0;31m# TODO find out why do we need default_components!\u001b[0m\u001b[0;34m\u001b[0m\u001b[0;34m\u001b[0m\u001b[0;34m\u001b[0m\u001b[0m\n\u001b[1;32m     94\u001b[0m         \u001b[0;31m# process the components\u001b[0m\u001b[0;34m\u001b[0m\u001b[0;34m\u001b[0m\u001b[0;34m\u001b[0m\u001b[0m\n\u001b[0;32m---> 95\u001b[0;31m         \u001b[0mself\u001b[0m\u001b[0;34m.\u001b[0m\u001b[0madd_components\u001b[0m\u001b[0;34m(\u001b[0m\u001b[0mcomponents\u001b[0m\u001b[0;34m+\u001b[0m\u001b[0mdefault_components\u001b[0m\u001b[0;34m)\u001b[0m\u001b[0;34m\u001b[0m\u001b[0;34m\u001b[0m\u001b[0m\n\u001b[0m\u001b[1;32m     96\u001b[0m \u001b[0;34m\u001b[0m\u001b[0m\n\u001b[1;32m     97\u001b[0m         \u001b[0;31m# internal lists for the species and reactions\u001b[0m\u001b[0;34m\u001b[0m\u001b[0;34m\u001b[0m\u001b[0;34m\u001b[0m\u001b[0m\n",
      "\u001b[0;32m/anaconda3/lib/python3.7/site-packages/biocrnpyler-0.1-py3.7.egg/biocrnpyler/mixture.py\u001b[0m in \u001b[0;36madd_components\u001b[0;34m(self, components)\u001b[0m\n\u001b[1;32m    130\u001b[0m         \u001b[0;32mfor\u001b[0m \u001b[0mcomponent\u001b[0m \u001b[0;32min\u001b[0m \u001b[0mcomponents\u001b[0m\u001b[0;34m:\u001b[0m\u001b[0;34m\u001b[0m\u001b[0;34m\u001b[0m\u001b[0m\n\u001b[1;32m    131\u001b[0m             \u001b[0;32massert\u001b[0m \u001b[0misinstance\u001b[0m\u001b[0;34m(\u001b[0m\u001b[0mcomponent\u001b[0m\u001b[0;34m,\u001b[0m \u001b[0mComponent\u001b[0m\u001b[0;34m)\u001b[0m\u001b[0;34m,\u001b[0m\u001b[0;31m \u001b[0m\u001b[0;31m\\\u001b[0m\u001b[0;34m\u001b[0m\u001b[0;34m\u001b[0m\u001b[0m\n\u001b[0;32m--> 132\u001b[0;31m                 \u001b[0;34m\"the object: %s passed into mixture as component must be of the class Component\"\u001b[0m \u001b[0;34m%\u001b[0m \u001b[0mstr\u001b[0m\u001b[0;34m(\u001b[0m\u001b[0mcomponent\u001b[0m\u001b[0;34m)\u001b[0m\u001b[0;34m\u001b[0m\u001b[0;34m\u001b[0m\u001b[0m\n\u001b[0m\u001b[1;32m    133\u001b[0m             \u001b[0mself\u001b[0m\u001b[0;34m.\u001b[0m\u001b[0mcomponents\u001b[0m\u001b[0;34m.\u001b[0m\u001b[0mappend\u001b[0m\u001b[0;34m(\u001b[0m\u001b[0mcomponent\u001b[0m\u001b[0;34m)\u001b[0m\u001b[0;34m\u001b[0m\u001b[0;34m\u001b[0m\u001b[0m\n\u001b[1;32m    134\u001b[0m             \u001b[0mcomponent\u001b[0m\u001b[0;34m.\u001b[0m\u001b[0mupdate_mechanisms\u001b[0m\u001b[0;34m(\u001b[0m\u001b[0mmixture_mechanisms\u001b[0m\u001b[0;34m=\u001b[0m\u001b[0mself\u001b[0m\u001b[0;34m.\u001b[0m\u001b[0mmechanisms\u001b[0m\u001b[0;34m)\u001b[0m\u001b[0;34m\u001b[0m\u001b[0;34m\u001b[0m\u001b[0m\n",
      "\u001b[0;31mAssertionError\u001b[0m: the object: sugar_Glucose passed into mixture as component must be of the class Component"
     ]
    }
   ],
   "source": [
    "#Expression Extract is a Mixture with very simple internal models\n",
    "Model_expression = ExpressionExtract(name = \"extract\", components = [Glucose, ATP, E1, E2, E3],\n",
    "                                     parameter_file = \"parameters.txt\")\n",
    "\n",
    "#print(\"BioCRNpyler Representation:\\n\", repr(Model_expression))\n",
    "\n",
    "#BioCRNpyler Models are Compiled into a CRN\n",
    "CRN_expression = Model_expression.compile_crn()\n",
    "print(\"\\nCRN Representation:\\n\", repr(CRN_expression))\n",
    "\n",
    "#Save as SBML\n",
    "CRN_expression.write_sbml_file(\"CRN_expression.sbml\")\n",
    "\n",
    "#Simulate with Bioscrape\n",
    "timepoints = np.linspace(0, 200, 1000)\n",
    "x0 = {\"dna_GFP\":1.0}\n",
    "Rexpress, mexpress = CRN_expression.simulate_with_bioscrape_via_sbml(timepoints, initial_condition_dict = x0, file = \"CRN_expression.sbml\")\n",
    "\n"
   ]
  },
  {
   "cell_type": "code",
   "execution_count": null,
   "metadata": {},
   "outputs": [],
   "source": []
  },
  {
   "cell_type": "code",
   "execution_count": null,
   "metadata": {},
   "outputs": [],
   "source": []
  },
  {
   "cell_type": "code",
   "execution_count": null,
   "metadata": {},
   "outputs": [],
   "source": []
  },
  {
   "cell_type": "markdown",
   "metadata": {},
   "source": [
    "Have to define our own mixture. Just has ATP, Glucose, and Enzymes.\n"
   ]
  },
  {
   "cell_type": "code",
   "execution_count": 14,
   "metadata": {},
   "outputs": [],
   "source": [
    "class ExpressionMixture(Mixture):\n",
    "    def __init__(self, name = '', ATP = 'ATP', Glucose = 'Glucose', **keywords):\n",
    "        if isinstance(ATP, Species):\n",
    "            self.atp = atp\n",
    "        elif isinstance(ATP, str):\n",
    "            self.atp = Species(name = ATP, material_type = 'metabolite')\n",
    "        elif isinstance(ATP, Component) and atp.get_species() != None:\n",
    "            self.atp = ATP.get_species()\n",
    "        else:\n",
    "            raise ValueError('idk but atp error')\n",
    "        \n",
    "        \n",
    "        \n",
    "        \n",
    "            \n",
    "        if isinstance(Glucose, Species):\n",
    "            self.glucose = Glucose\n",
    "        elif isinstance(Glucose, str):\n",
    "            self.glucose = Species(name = Glucose, material_type = 'metabolite')\n",
    "        elif isinstance(Glucose, Component) and Glucose.get_species() != None:\n",
    "            self.glucose = Glucose.get_species()\n",
    "        else:\n",
    "            raise ValueError('idk but glucose error')\n",
    "        \n",
    "        "
   ]
  },
  {
   "cell_type": "code",
   "execution_count": null,
   "metadata": {},
   "outputs": [],
   "source": []
  },
  {
   "cell_type": "markdown",
   "metadata": {},
   "source": [
    "Let's first create a mixture."
   ]
  },
  {
   "cell_type": "code",
   "execution_count": null,
   "metadata": {},
   "outputs": [],
   "source": [
    "class DilutionMixture(Mixture):\n",
    "    def __init__(self, name = '', **keywords):\n",
    "        "
   ]
  }
 ],
 "metadata": {
  "kernelspec": {
   "display_name": "Python 3",
   "language": "python",
   "name": "python3"
  },
  "language_info": {
   "codemirror_mode": {
    "name": "ipython",
    "version": 3
   },
   "file_extension": ".py",
   "mimetype": "text/x-python",
   "name": "python",
   "nbconvert_exporter": "python",
   "pygments_lexer": "ipython3",
   "version": "3.7.5"
  }
 },
 "nbformat": 4,
 "nbformat_minor": 4
}
