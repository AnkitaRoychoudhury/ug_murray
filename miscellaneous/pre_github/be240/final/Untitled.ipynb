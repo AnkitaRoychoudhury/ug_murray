{
 "cells": [
  {
   "cell_type": "code",
   "execution_count": 1,
   "metadata": {},
   "outputs": [],
   "source": [
    "import bootcamp_utils\n"
   ]
  },
  {
   "cell_type": "code",
   "execution_count": 2,
   "metadata": {},
   "outputs": [],
   "source": [
    "# ! pip install bootcamp_utils"
   ]
  },
  {
   "cell_type": "code",
   "execution_count": 3,
   "metadata": {},
   "outputs": [
    {
     "data": {
      "text/plain": [
       "\u001b[0;31mType:\u001b[0m        list\n",
       "\u001b[0;31mString form:\u001b[0m ['T', 'C', 'A', 'G']\n",
       "\u001b[0;31mLength:\u001b[0m      4\n",
       "\u001b[0;31mDocstring:\u001b[0m  \n",
       "Built-in mutable sequence.\n",
       "\n",
       "If no argument is given, the constructor creates a new empty list.\n",
       "The argument must be an iterable if specified.\n"
      ]
     },
     "metadata": {},
     "output_type": "display_data"
    }
   ],
   "source": [
    "bootcamp_utils.bases?"
   ]
  },
  {
   "cell_type": "code",
   "execution_count": 4,
   "metadata": {},
   "outputs": [
    {
     "name": "stdout",
     "output_type": "stream",
     "text": [
      "Hello, world.\n"
     ]
    }
   ],
   "source": [
    "print(\"Hello, world.\")"
   ]
  },
  {
   "cell_type": "code",
   "execution_count": 5,
   "metadata": {},
   "outputs": [
    {
     "name": "stdout",
     "output_type": "stream",
     "text": [
      "Beautiful is better than ugly.\n",
      "Explicit is better than implicit.\n",
      "Simple is better than complex.\n",
      "Complex is better than complicated.\n"
     ]
    }
   ],
   "source": [
    "# The first few lines from The Zen of Python by Tim Peters\n",
    "print('Beautiful is better than ugly.')\n",
    "print('Explicit is better than implicit.')\n",
    "print('Simple is better than complex.')\n",
    "print('Complex is better than complicated.')"
   ]
  },
  {
   "cell_type": "code",
   "execution_count": 6,
   "metadata": {},
   "outputs": [
    {
     "name": "stderr",
     "output_type": "stream",
     "text": [
      "ERROR:root:File `'../Documents/JB_bootcamp/zen.py'` not found.\n"
     ]
    }
   ],
   "source": [
    "%run ../Documents/JB_bootcamp/zen.py"
   ]
  },
  {
   "cell_type": "code",
   "execution_count": null,
   "metadata": {},
   "outputs": [],
   "source": []
  },
  {
   "cell_type": "code",
   "execution_count": 7,
   "metadata": {},
   "outputs": [
    {
     "name": "stderr",
     "output_type": "stream",
     "text": [
      "ERROR:root:File `'Documents/zen.py'` not found.\n"
     ]
    }
   ],
   "source": [
    "%run Documents/zen.py"
   ]
  },
  {
   "cell_type": "code",
   "execution_count": 8,
   "metadata": {},
   "outputs": [
    {
     "name": "stdout",
     "output_type": "stream",
     "text": [
      "/Users/ankitaroychoudhury/Documents/3rd_year_caltech/be240\n"
     ]
    }
   ],
   "source": [
    "cd .."
   ]
  },
  {
   "cell_type": "code",
   "execution_count": 9,
   "metadata": {},
   "outputs": [
    {
     "name": "stdout",
     "output_type": "stream",
     "text": [
      "/Users/ankitaroychoudhury/Documents/3rd_year_caltech\n"
     ]
    }
   ],
   "source": [
    "cd .."
   ]
  },
  {
   "cell_type": "code",
   "execution_count": 10,
   "metadata": {},
   "outputs": [
    {
     "name": "stdout",
     "output_type": "stream",
     "text": [
      "[Errno 2] No such file or directory: 'JB_bootcamp/'\n",
      "/Users/ankitaroychoudhury/Documents/3rd_year_caltech\n"
     ]
    }
   ],
   "source": [
    "cd JB_bootcamp/"
   ]
  },
  {
   "cell_type": "code",
   "execution_count": 11,
   "metadata": {},
   "outputs": [
    {
     "name": "stderr",
     "output_type": "stream",
     "text": [
      "ERROR:root:File `'zen.py'` not found.\n"
     ]
    }
   ],
   "source": [
    "%run zen.py"
   ]
  },
  {
   "cell_type": "code",
   "execution_count": 13,
   "metadata": {},
   "outputs": [
    {
     "name": "stdout",
     "output_type": "stream",
     "text": [
      "CPython 3.7.7\n",
      "IPython 7.13.0\n",
      "\n",
      "numpy 1.18.1\n",
      "jupyterlab 1.2.6\n"
     ]
    }
   ],
   "source": [
    "#watermark\n",
    "%reload_ext watermark\n",
    "%watermark -v -p numpy,jupyterlab\n",
    " "
   ]
  },
  {
   "cell_type": "code",
   "execution_count": 14,
   "metadata": {},
   "outputs": [
    {
     "name": "stdout",
     "output_type": "stream",
     "text": [
      "Requirement already satisfied: watermark in /Users/ankitaroychoudhury/opt/anaconda3/lib/python3.7/site-packages (2.0.2)\n",
      "Requirement already satisfied: ipython in /Users/ankitaroychoudhury/opt/anaconda3/lib/python3.7/site-packages (from watermark) (7.13.0)\n",
      "Requirement already satisfied: backcall in /Users/ankitaroychoudhury/opt/anaconda3/lib/python3.7/site-packages (from ipython->watermark) (0.1.0)\n",
      "Requirement already satisfied: pickleshare in /Users/ankitaroychoudhury/opt/anaconda3/lib/python3.7/site-packages (from ipython->watermark) (0.7.5)\n",
      "Requirement already satisfied: pexpect; sys_platform != \"win32\" in /Users/ankitaroychoudhury/opt/anaconda3/lib/python3.7/site-packages (from ipython->watermark) (4.8.0)\n",
      "Requirement already satisfied: jedi>=0.10 in /Users/ankitaroychoudhury/opt/anaconda3/lib/python3.7/site-packages (from ipython->watermark) (0.15.2)\n",
      "Requirement already satisfied: setuptools>=18.5 in /Users/ankitaroychoudhury/opt/anaconda3/lib/python3.7/site-packages (from ipython->watermark) (47.1.1.post20200604)\n",
      "Requirement already satisfied: appnope; sys_platform == \"darwin\" in /Users/ankitaroychoudhury/opt/anaconda3/lib/python3.7/site-packages (from ipython->watermark) (0.1.0)\n",
      "Requirement already satisfied: pygments in /Users/ankitaroychoudhury/opt/anaconda3/lib/python3.7/site-packages (from ipython->watermark) (2.6.1)\n",
      "Requirement already satisfied: prompt-toolkit!=3.0.0,!=3.0.1,<3.1.0,>=2.0.0 in /Users/ankitaroychoudhury/opt/anaconda3/lib/python3.7/site-packages (from ipython->watermark) (3.0.5)\n",
      "Requirement already satisfied: traitlets>=4.2 in /Users/ankitaroychoudhury/opt/anaconda3/lib/python3.7/site-packages (from ipython->watermark) (4.3.3)\n",
      "Requirement already satisfied: decorator in /Users/ankitaroychoudhury/opt/anaconda3/lib/python3.7/site-packages (from ipython->watermark) (4.4.2)\n",
      "Requirement already satisfied: ptyprocess>=0.5 in /Users/ankitaroychoudhury/opt/anaconda3/lib/python3.7/site-packages (from pexpect; sys_platform != \"win32\"->ipython->watermark) (0.6.0)\n",
      "Requirement already satisfied: parso>=0.5.2 in /Users/ankitaroychoudhury/opt/anaconda3/lib/python3.7/site-packages (from jedi>=0.10->ipython->watermark) (0.5.2)\n",
      "Requirement already satisfied: wcwidth in /Users/ankitaroychoudhury/opt/anaconda3/lib/python3.7/site-packages (from prompt-toolkit!=3.0.0,!=3.0.1,<3.1.0,>=2.0.0->ipython->watermark) (0.1.9)\n",
      "Requirement already satisfied: six in /Users/ankitaroychoudhury/opt/anaconda3/lib/python3.7/site-packages (from traitlets>=4.2->ipython->watermark) (1.15.0)\n",
      "Requirement already satisfied: ipython-genutils in /Users/ankitaroychoudhury/opt/anaconda3/lib/python3.7/site-packages (from traitlets>=4.2->ipython->watermark) (0.2.0)\n"
     ]
    }
   ],
   "source": [
    "! pip install watermark:\n",
    "%load_ext watermark\n",
    "%watermark -v -p numpy,bokeh,jupyterlab"
   ]
  },
  {
   "cell_type": "code",
   "execution_count": 15,
   "metadata": {},
   "outputs": [
    {
     "name": "stdout",
     "output_type": "stream",
     "text": [
      "Collecting watermark\n",
      "  Using cached https://files.pythonhosted.org/packages/60/fe/3ed83b6122e70dce6fe269dfd763103c333f168bf91037add73ea4fe81c2/watermark-2.0.2-py2.py3-none-any.whl\n",
      "Collecting ipython (from watermark)\n",
      "\u001b[?25l  Downloading https://files.pythonhosted.org/packages/aa/e8/47fda10c3ab103d9d4a667b40da9afd542c4e50aeb00c861b4eee5bb4e8f/ipython-7.15.0-py3-none-any.whl (783kB)\n",
      "\u001b[K    100% |████████████████████████████████| 788kB 11.4MB/s ta 0:00:01\n",
      "\u001b[?25hCollecting jedi>=0.10 (from ipython->watermark)\n",
      "\u001b[?25l  Downloading https://files.pythonhosted.org/packages/f3/3f/67f027e18c60a800875df1a0894a2436ce9053637fa39725766e937c0a71/jedi-0.17.0-py2.py3-none-any.whl (1.1MB)\n",
      "\u001b[K    100% |████████████████████████████████| 1.1MB 12.0MB/s ta 0:00:01\n",
      "\u001b[?25hCollecting appnope; sys_platform == \"darwin\" (from ipython->watermark)\n",
      "  Using cached https://files.pythonhosted.org/packages/87/a9/7985e6a53402f294c8f0e8eff3151a83f1fb901fa92909bb3ff29b4d22af/appnope-0.1.0-py2.py3-none-any.whl\n",
      "Collecting traitlets>=4.2 (from ipython->watermark)\n",
      "  Using cached https://files.pythonhosted.org/packages/ca/ab/872a23e29cec3cf2594af7e857f18b687ad21039c1f9b922fac5b9b142d5/traitlets-4.3.3-py2.py3-none-any.whl\n",
      "Collecting pygments (from ipython->watermark)\n",
      "\u001b[?25l  Downloading https://files.pythonhosted.org/packages/2d/68/106af3ae51daf807e9cdcba6a90e518954eb8b70341cee52995540a53ead/Pygments-2.6.1-py3-none-any.whl (914kB)\n",
      "\u001b[K    100% |████████████████████████████████| 921kB 23.2MB/s ta 0:00:01\n",
      "\u001b[?25hRequirement already satisfied: setuptools>=18.5 in /Applications/Xcode.app/Contents/Developer/Library/Frameworks/Python3.framework/Versions/3.7/lib/python3.7/site-packages (from ipython->watermark) (40.8.0)\n",
      "Collecting pickleshare (from ipython->watermark)\n",
      "  Using cached https://files.pythonhosted.org/packages/9a/41/220f49aaea88bc6fa6cba8d05ecf24676326156c23b991e80b3f2fc24c77/pickleshare-0.7.5-py2.py3-none-any.whl\n",
      "Collecting decorator (from ipython->watermark)\n",
      "  Using cached https://files.pythonhosted.org/packages/ed/1b/72a1821152d07cf1d8b6fce298aeb06a7eb90f4d6d41acec9861e7cc6df0/decorator-4.4.2-py2.py3-none-any.whl\n",
      "Collecting backcall (from ipython->watermark)\n",
      "  Downloading https://files.pythonhosted.org/packages/4c/1c/ff6546b6c12603d8dd1070aa3c3d273ad4c07f5771689a7b69a550e8c951/backcall-0.2.0-py2.py3-none-any.whl\n",
      "Collecting prompt-toolkit!=3.0.0,!=3.0.1,<3.1.0,>=2.0.0 (from ipython->watermark)\n",
      "\u001b[?25l  Downloading https://files.pythonhosted.org/packages/e4/a7/81b39aa50e9284fe2cb21cc7fb7de7817b224172d42793fd57451d38842b/prompt_toolkit-3.0.5-py3-none-any.whl (351kB)\n",
      "\u001b[K    100% |████████████████████████████████| 358kB 1.7MB/s ta 0:00:011\n",
      "\u001b[?25hCollecting pexpect; sys_platform != \"win32\" (from ipython->watermark)\n",
      "  Using cached https://files.pythonhosted.org/packages/39/7b/88dbb785881c28a102619d46423cb853b46dbccc70d3ac362d99773a78ce/pexpect-4.8.0-py2.py3-none-any.whl\n",
      "Collecting parso>=0.7.0 (from jedi>=0.10->ipython->watermark)\n",
      "\u001b[?25l  Downloading https://files.pythonhosted.org/packages/b5/61/998cce9e7476de000d031874df26a18f67cb73448164fc44a98f0c55920b/parso-0.7.0-py2.py3-none-any.whl (100kB)\n",
      "\u001b[K    100% |████████████████████████████████| 102kB 21.6MB/s a 0:00:01\n",
      "\u001b[?25hRequirement already satisfied: six in /Applications/Xcode.app/Contents/Developer/Library/Frameworks/Python3.framework/Versions/3.7/lib/python3.7/site-packages (from traitlets>=4.2->ipython->watermark) (1.12.0)\n",
      "Collecting ipython-genutils (from traitlets>=4.2->ipython->watermark)\n",
      "  Using cached https://files.pythonhosted.org/packages/fa/bc/9bd3b5c2b4774d5f33b2d544f1460be9df7df2fe42f352135381c347c69a/ipython_genutils-0.2.0-py2.py3-none-any.whl\n",
      "Collecting wcwidth (from prompt-toolkit!=3.0.0,!=3.0.1,<3.1.0,>=2.0.0->ipython->watermark)\n",
      "  Downloading https://files.pythonhosted.org/packages/ef/94/a17155b400812f0558093c6fb99f92ba823e24757d5884e3ec60f5e81319/wcwidth-0.2.4-py2.py3-none-any.whl\n",
      "Collecting ptyprocess>=0.5 (from pexpect; sys_platform != \"win32\"->ipython->watermark)\n",
      "  Using cached https://files.pythonhosted.org/packages/d1/29/605c2cc68a9992d18dada28206eeada56ea4bd07a239669da41674648b6f/ptyprocess-0.6.0-py2.py3-none-any.whl\n",
      "Installing collected packages: parso, jedi, appnope, ipython-genutils, decorator, traitlets, pygments, pickleshare, backcall, wcwidth, prompt-toolkit, ptyprocess, pexpect, ipython, watermark\n",
      "\u001b[31mCould not install packages due to an EnvironmentError: [Errno 13] Permission denied: '/Library/Python/3.7'\n",
      "Consider using the `--user` option or check the permissions.\n",
      "\u001b[0m\n",
      "\u001b[33mYou are using pip version 19.0.3, however version 20.2b1 is available.\n",
      "You should consider upgrading via the 'pip install --upgrade pip' command.\u001b[0m\n"
     ]
    }
   ],
   "source": [
    "! pip3 install watermark"
   ]
  },
  {
   "cell_type": "code",
   "execution_count": 17,
   "metadata": {},
   "outputs": [
    {
     "name": "stdout",
     "output_type": "stream",
     "text": [
      "The watermark extension is already loaded. To reload it, use:\n",
      "  %reload_ext watermark\n",
      "CPython 3.7.7\n",
      "IPython 7.13.0\n",
      "\n",
      "numpy 1.18.1\n",
      "bokeh 2.0.2\n",
      "jupyterlab 1.2.6\n"
     ]
    }
   ],
   "source": [
    "%load_ext watermark\n",
    "%watermark -v -p numpy,bokeh,jupyterlab"
   ]
  },
  {
   "cell_type": "code",
   "execution_count": 20,
   "metadata": {},
   "outputs": [
    {
     "name": "stdout",
     "output_type": "stream",
     "text": [
      "import _frozen_importlib # frozen\n",
      "import _imp # builtin\n",
      "import '_thread' # <class '_frozen_importlib.BuiltinImporter'>\n",
      "import '_warnings' # <class '_frozen_importlib.BuiltinImporter'>\n",
      "import '_weakref' # <class '_frozen_importlib.BuiltinImporter'>\n",
      "# installing zipimport hook\n",
      "import 'zipimport' # <class '_frozen_importlib.BuiltinImporter'>\n",
      "# installed zipimport hook\n",
      "import '_frozen_importlib_external' # <class '_frozen_importlib.FrozenImporter'>\n",
      "import '_io' # <class '_frozen_importlib.BuiltinImporter'>\n",
      "import 'marshal' # <class '_frozen_importlib.BuiltinImporter'>\n",
      "import 'posix' # <class '_frozen_importlib.BuiltinImporter'>\n",
      "import _thread # previously loaded ('_thread')\n",
      "import '_thread' # <class '_frozen_importlib.BuiltinImporter'>\n",
      "import _weakref # previously loaded ('_weakref')\n",
      "import '_weakref' # <class '_frozen_importlib.BuiltinImporter'>\n",
      "# /Users/ankitaroychoudhury/opt/anaconda3/lib/python3.7/encodings/__pycache__/__init__.cpython-37.pyc matches /Users/ankitaroychoudhury/opt/anaconda3/lib/python3.7/encodings/__init__.py\n",
      "# code object from '/Users/ankitaroychoudhury/opt/anaconda3/lib/python3.7/encodings/__pycache__/__init__.cpython-37.pyc'\n",
      "# /Users/ankitaroychoudhury/opt/anaconda3/lib/python3.7/__pycache__/codecs.cpython-37.pyc matches /Users/ankitaroychoudhury/opt/anaconda3/lib/python3.7/codecs.py\n",
      "# code object from '/Users/ankitaroychoudhury/opt/anaconda3/lib/python3.7/__pycache__/codecs.cpython-37.pyc'\n",
      "import '_codecs' # <class '_frozen_importlib.BuiltinImporter'>\n",
      "import 'codecs' # <_frozen_importlib_external.SourceFileLoader object at 0x104df1c10>\n",
      "# /Users/ankitaroychoudhury/opt/anaconda3/lib/python3.7/encodings/__pycache__/aliases.cpython-37.pyc matches /Users/ankitaroychoudhury/opt/anaconda3/lib/python3.7/encodings/aliases.py\n",
      "# code object from '/Users/ankitaroychoudhury/opt/anaconda3/lib/python3.7/encodings/__pycache__/aliases.cpython-37.pyc'\n",
      "import 'encodings.aliases' # <_frozen_importlib_external.SourceFileLoader object at 0x104e14cd0>\n",
      "import 'encodings' # <_frozen_importlib_external.SourceFileLoader object at 0x104df1090>\n",
      "# /Users/ankitaroychoudhury/opt/anaconda3/lib/python3.7/encodings/__pycache__/utf_8.cpython-37.pyc matches /Users/ankitaroychoudhury/opt/anaconda3/lib/python3.7/encodings/utf_8.py\n",
      "# code object from '/Users/ankitaroychoudhury/opt/anaconda3/lib/python3.7/encodings/__pycache__/utf_8.cpython-37.pyc'\n",
      "import 'encodings.utf_8' # <_frozen_importlib_external.SourceFileLoader object at 0x104df1bd0>\n",
      "import '_signal' # <class '_frozen_importlib.BuiltinImporter'>\n",
      "# /Users/ankitaroychoudhury/opt/anaconda3/lib/python3.7/encodings/__pycache__/latin_1.cpython-37.pyc matches /Users/ankitaroychoudhury/opt/anaconda3/lib/python3.7/encodings/latin_1.py\n",
      "# code object from '/Users/ankitaroychoudhury/opt/anaconda3/lib/python3.7/encodings/__pycache__/latin_1.cpython-37.pyc'\n",
      "import 'encodings.latin_1' # <_frozen_importlib_external.SourceFileLoader object at 0x104e092d0>\n",
      "# /Users/ankitaroychoudhury/opt/anaconda3/lib/python3.7/__pycache__/io.cpython-37.pyc matches /Users/ankitaroychoudhury/opt/anaconda3/lib/python3.7/io.py\n",
      "# code object from '/Users/ankitaroychoudhury/opt/anaconda3/lib/python3.7/__pycache__/io.cpython-37.pyc'\n",
      "# /Users/ankitaroychoudhury/opt/anaconda3/lib/python3.7/__pycache__/abc.cpython-37.pyc matches /Users/ankitaroychoudhury/opt/anaconda3/lib/python3.7/abc.py\n",
      "# code object from '/Users/ankitaroychoudhury/opt/anaconda3/lib/python3.7/__pycache__/abc.cpython-37.pyc'\n",
      "import '_abc' # <class '_frozen_importlib.BuiltinImporter'>\n",
      "import 'abc' # <_frozen_importlib_external.SourceFileLoader object at 0x104e09c90>\n",
      "import 'io' # <_frozen_importlib_external.SourceFileLoader object at 0x104e09350>\n",
      "# /Users/ankitaroychoudhury/opt/anaconda3/lib/python3.7/__pycache__/site.cpython-37.pyc matches /Users/ankitaroychoudhury/opt/anaconda3/lib/python3.7/site.py\n",
      "# code object from '/Users/ankitaroychoudhury/opt/anaconda3/lib/python3.7/__pycache__/site.cpython-37.pyc'\n",
      "# /Users/ankitaroychoudhury/opt/anaconda3/lib/python3.7/__pycache__/os.cpython-37.pyc matches /Users/ankitaroychoudhury/opt/anaconda3/lib/python3.7/os.py\n",
      "# code object from '/Users/ankitaroychoudhury/opt/anaconda3/lib/python3.7/__pycache__/os.cpython-37.pyc'\n",
      "# /Users/ankitaroychoudhury/opt/anaconda3/lib/python3.7/__pycache__/stat.cpython-37.pyc matches /Users/ankitaroychoudhury/opt/anaconda3/lib/python3.7/stat.py\n",
      "# code object from '/Users/ankitaroychoudhury/opt/anaconda3/lib/python3.7/__pycache__/stat.cpython-37.pyc'\n",
      "import '_stat' # <class '_frozen_importlib.BuiltinImporter'>\n",
      "import 'stat' # <_frozen_importlib_external.SourceFileLoader object at 0x104e9f850>\n",
      "# /Users/ankitaroychoudhury/opt/anaconda3/lib/python3.7/__pycache__/_collections_abc.cpython-37.pyc matches /Users/ankitaroychoudhury/opt/anaconda3/lib/python3.7/_collections_abc.py\n",
      "# code object from '/Users/ankitaroychoudhury/opt/anaconda3/lib/python3.7/__pycache__/_collections_abc.cpython-37.pyc'\n",
      "import '_collections_abc' # <_frozen_importlib_external.SourceFileLoader object at 0x104ea4350>\n",
      "# /Users/ankitaroychoudhury/opt/anaconda3/lib/python3.7/__pycache__/posixpath.cpython-37.pyc matches /Users/ankitaroychoudhury/opt/anaconda3/lib/python3.7/posixpath.py\n",
      "# code object from '/Users/ankitaroychoudhury/opt/anaconda3/lib/python3.7/__pycache__/posixpath.cpython-37.pyc'\n",
      "# /Users/ankitaroychoudhury/opt/anaconda3/lib/python3.7/__pycache__/genericpath.cpython-37.pyc matches /Users/ankitaroychoudhury/opt/anaconda3/lib/python3.7/genericpath.py\n",
      "# code object from '/Users/ankitaroychoudhury/opt/anaconda3/lib/python3.7/__pycache__/genericpath.cpython-37.pyc'\n",
      "import 'genericpath' # <_frozen_importlib_external.SourceFileLoader object at 0x104ed4190>\n",
      "import 'posixpath' # <_frozen_importlib_external.SourceFileLoader object at 0x104eab390>\n",
      "import 'os' # <_frozen_importlib_external.SourceFileLoader object at 0x104e30850>\n",
      "# /Users/ankitaroychoudhury/opt/anaconda3/lib/python3.7/__pycache__/_sitebuiltins.cpython-37.pyc matches /Users/ankitaroychoudhury/opt/anaconda3/lib/python3.7/_sitebuiltins.py\n",
      "# code object from '/Users/ankitaroychoudhury/opt/anaconda3/lib/python3.7/__pycache__/_sitebuiltins.cpython-37.pyc'\n",
      "import '_sitebuiltins' # <_frozen_importlib_external.SourceFileLoader object at 0x104e30710>\n",
      "# /Users/ankitaroychoudhury/opt/anaconda3/lib/python3.7/__pycache__/_bootlocale.cpython-37.pyc matches /Users/ankitaroychoudhury/opt/anaconda3/lib/python3.7/_bootlocale.py\n",
      "# code object from '/Users/ankitaroychoudhury/opt/anaconda3/lib/python3.7/__pycache__/_bootlocale.cpython-37.pyc'\n",
      "import '_locale' # <class '_frozen_importlib.BuiltinImporter'>\n",
      "import '_bootlocale' # <_frozen_importlib_external.SourceFileLoader object at 0x104e952d0>\n",
      "# /Users/ankitaroychoudhury/opt/anaconda3/lib/python3.7/__pycache__/types.cpython-37.pyc matches /Users/ankitaroychoudhury/opt/anaconda3/lib/python3.7/types.py\n",
      "# code object from '/Users/ankitaroychoudhury/opt/anaconda3/lib/python3.7/__pycache__/types.cpython-37.pyc'\n",
      "import 'types' # <_frozen_importlib_external.SourceFileLoader object at 0x104ef42d0>\n",
      "# /Users/ankitaroychoudhury/opt/anaconda3/lib/python3.7/importlib/__pycache__/__init__.cpython-37.pyc matches /Users/ankitaroychoudhury/opt/anaconda3/lib/python3.7/importlib/__init__.py\n",
      "# code object from '/Users/ankitaroychoudhury/opt/anaconda3/lib/python3.7/importlib/__pycache__/__init__.cpython-37.pyc'\n",
      "# /Users/ankitaroychoudhury/opt/anaconda3/lib/python3.7/__pycache__/warnings.cpython-37.pyc matches /Users/ankitaroychoudhury/opt/anaconda3/lib/python3.7/warnings.py\n",
      "# code object from '/Users/ankitaroychoudhury/opt/anaconda3/lib/python3.7/__pycache__/warnings.cpython-37.pyc'\n",
      "import 'warnings' # <_frozen_importlib_external.SourceFileLoader object at 0x104ee8ad0>\n",
      "import 'importlib' # <_frozen_importlib_external.SourceFileLoader object at 0x104ef4ad0>\n",
      "# /Users/ankitaroychoudhury/opt/anaconda3/lib/python3.7/importlib/__pycache__/util.cpython-37.pyc matches /Users/ankitaroychoudhury/opt/anaconda3/lib/python3.7/importlib/util.py\n",
      "# code object from '/Users/ankitaroychoudhury/opt/anaconda3/lib/python3.7/importlib/__pycache__/util.cpython-37.pyc'\n",
      "# /Users/ankitaroychoudhury/opt/anaconda3/lib/python3.7/importlib/__pycache__/abc.cpython-37.pyc matches /Users/ankitaroychoudhury/opt/anaconda3/lib/python3.7/importlib/abc.py\n",
      "# code object from '/Users/ankitaroychoudhury/opt/anaconda3/lib/python3.7/importlib/__pycache__/abc.cpython-37.pyc'\n",
      "# /Users/ankitaroychoudhury/opt/anaconda3/lib/python3.7/importlib/__pycache__/machinery.cpython-37.pyc matches /Users/ankitaroychoudhury/opt/anaconda3/lib/python3.7/importlib/machinery.py\n",
      "# code object from '/Users/ankitaroychoudhury/opt/anaconda3/lib/python3.7/importlib/__pycache__/machinery.cpython-37.pyc'\n",
      "import 'importlib.machinery' # <_frozen_importlib_external.SourceFileLoader object at 0x104efcf50>\n",
      "import 'importlib.abc' # <_frozen_importlib_external.SourceFileLoader object at 0x104efc1d0>\n",
      "# /Users/ankitaroychoudhury/opt/anaconda3/lib/python3.7/__pycache__/contextlib.cpython-37.pyc matches /Users/ankitaroychoudhury/opt/anaconda3/lib/python3.7/contextlib.py\n",
      "# code object from '/Users/ankitaroychoudhury/opt/anaconda3/lib/python3.7/__pycache__/contextlib.cpython-37.pyc'\n",
      "# /Users/ankitaroychoudhury/opt/anaconda3/lib/python3.7/collections/__pycache__/__init__.cpython-37.pyc matches /Users/ankitaroychoudhury/opt/anaconda3/lib/python3.7/collections/__init__.py\n",
      "# code object from '/Users/ankitaroychoudhury/opt/anaconda3/lib/python3.7/collections/__pycache__/__init__.cpython-37.pyc'\n",
      "# /Users/ankitaroychoudhury/opt/anaconda3/lib/python3.7/__pycache__/operator.cpython-37.pyc matches /Users/ankitaroychoudhury/opt/anaconda3/lib/python3.7/operator.py\n",
      "# code object from '/Users/ankitaroychoudhury/opt/anaconda3/lib/python3.7/__pycache__/operator.cpython-37.pyc'\n",
      "import '_operator' # <class '_frozen_importlib.BuiltinImporter'>\n",
      "import 'operator' # <_frozen_importlib_external.SourceFileLoader object at 0x104f5cd10>\n",
      "# /Users/ankitaroychoudhury/opt/anaconda3/lib/python3.7/__pycache__/keyword.cpython-37.pyc matches /Users/ankitaroychoudhury/opt/anaconda3/lib/python3.7/keyword.py\n",
      "# code object from '/Users/ankitaroychoudhury/opt/anaconda3/lib/python3.7/__pycache__/keyword.cpython-37.pyc'\n",
      "import 'keyword' # <_frozen_importlib_external.SourceFileLoader object at 0x104f61a50>\n",
      "# /Users/ankitaroychoudhury/opt/anaconda3/lib/python3.7/__pycache__/heapq.cpython-37.pyc matches /Users/ankitaroychoudhury/opt/anaconda3/lib/python3.7/heapq.py\n",
      "# code object from '/Users/ankitaroychoudhury/opt/anaconda3/lib/python3.7/__pycache__/heapq.cpython-37.pyc'\n",
      "# extension module '_heapq' loaded from '/Users/ankitaroychoudhury/opt/anaconda3/lib/python3.7/lib-dynload/_heapq.cpython-37m-darwin.so'\n",
      "# extension module '_heapq' executed from '/Users/ankitaroychoudhury/opt/anaconda3/lib/python3.7/lib-dynload/_heapq.cpython-37m-darwin.so'\n",
      "import '_heapq' # <_frozen_importlib_external.ExtensionFileLoader object at 0x104f73390>\n",
      "import 'heapq' # <_frozen_importlib_external.SourceFileLoader object at 0x104f6f4d0>\n",
      "import 'itertools' # <class '_frozen_importlib.BuiltinImporter'>\n",
      "# /Users/ankitaroychoudhury/opt/anaconda3/lib/python3.7/__pycache__/reprlib.cpython-37.pyc matches /Users/ankitaroychoudhury/opt/anaconda3/lib/python3.7/reprlib.py\n",
      "# code object from '/Users/ankitaroychoudhury/opt/anaconda3/lib/python3.7/__pycache__/reprlib.cpython-37.pyc'\n",
      "import 'reprlib' # <_frozen_importlib_external.SourceFileLoader object at 0x104f736d0>\n",
      "import '_collections' # <class '_frozen_importlib.BuiltinImporter'>\n",
      "import 'collections' # <_frozen_importlib_external.SourceFileLoader object at 0x104f3b810>\n",
      "# /Users/ankitaroychoudhury/opt/anaconda3/lib/python3.7/__pycache__/functools.cpython-37.pyc matches /Users/ankitaroychoudhury/opt/anaconda3/lib/python3.7/functools.py\n",
      "# code object from '/Users/ankitaroychoudhury/opt/anaconda3/lib/python3.7/__pycache__/functools.cpython-37.pyc'\n",
      "import '_functools' # <class '_frozen_importlib.BuiltinImporter'>\n",
      "import 'functools' # <_frozen_importlib_external.SourceFileLoader object at 0x104f3be90>\n",
      "import 'contextlib' # <_frozen_importlib_external.SourceFileLoader object at 0x104efc250>\n",
      "import 'importlib.util' # <_frozen_importlib_external.SourceFileLoader object at 0x104eee990>\n",
      "# possible namespace for /Users/ankitaroychoudhury/opt/anaconda3/lib/python3.7/site-packages/mpl_toolkits\n",
      "# destroy sphinxcontrib\n",
      "# destroy sphinxcontrib\n",
      "# destroy sphinxcontrib\n",
      "# destroy sphinxcontrib\n",
      "# destroy sphinxcontrib\n",
      "# destroy sphinxcontrib\n",
      "# /Users/ankitaroychoudhury/opt/anaconda3/lib/python3.7/encodings/__pycache__/cp437.cpython-37.pyc matches /Users/ankitaroychoudhury/opt/anaconda3/lib/python3.7/encodings/cp437.py\n",
      "# code object from '/Users/ankitaroychoudhury/opt/anaconda3/lib/python3.7/encodings/__pycache__/cp437.cpython-37.pyc'\n",
      "import 'encodings.cp437' # <_frozen_importlib_external.SourceFileLoader object at 0x104fb3490>\n",
      "# zipimport: found 29 names in '/Users/ankitaroychoudhury/opt/anaconda3/lib/python3.7/site-packages/biocrnpyler-0.1-py3.7.egg'\n",
      "import 'site' # <_frozen_importlib_external.SourceFileLoader object at 0x104e2a110>\n",
      "Python 3.7.7 (default, Mar 26 2020, 10:32:53) \n",
      "[Clang 4.0.1 (tags/RELEASE_401/final)] :: Anaconda, Inc. on darwin\n",
      "Type \"help\", \"copyright\", \"credits\" or \"license\" for more information.\n",
      "# extension module 'readline' loaded from '/Users/ankitaroychoudhury/opt/anaconda3/lib/python3.7/lib-dynload/readline.cpython-37m-darwin.so'\n",
      "# extension module 'readline' executed from '/Users/ankitaroychoudhury/opt/anaconda3/lib/python3.7/lib-dynload/readline.cpython-37m-darwin.so'\n",
      "import 'readline' # <_frozen_importlib_external.ExtensionFileLoader object at 0x104fb3690>\n",
      "import 'atexit' # <class '_frozen_importlib.BuiltinImporter'>\n",
      "# /Users/ankitaroychoudhury/opt/anaconda3/lib/python3.7/__pycache__/rlcompleter.cpython-37.pyc matches /Users/ankitaroychoudhury/opt/anaconda3/lib/python3.7/rlcompleter.py\n",
      "# code object from '/Users/ankitaroychoudhury/opt/anaconda3/lib/python3.7/__pycache__/rlcompleter.cpython-37.pyc'\n",
      "import 'rlcompleter' # <_frozen_importlib_external.SourceFileLoader object at 0x104fb3b90>\n",
      ">>> \n",
      "KeyboardInterrupt\n",
      ">>> \n",
      ">>> "
     ]
    }
   ],
   "source": [
    "!python -v"
   ]
  },
  {
   "cell_type": "code",
   "execution_count": 21,
   "metadata": {},
   "outputs": [
    {
     "name": "stdout",
     "output_type": "stream",
     "text": [
      "Python 3.7.7\n"
     ]
    }
   ],
   "source": [
    "! python -V"
   ]
  },
  {
   "cell_type": "code",
   "execution_count": 22,
   "metadata": {},
   "outputs": [
    {
     "name": "stdout",
     "output_type": "stream",
     "text": [
      "\n",
      "     active environment : base\n",
      "    active env location : /Users/ankitaroychoudhury/opt/anaconda3\n",
      "            shell level : 1\n",
      "       user config file : /Users/ankitaroychoudhury/.condarc\n",
      " populated config files : /Users/ankitaroychoudhury/.condarc\n",
      "          conda version : 4.8.3\n",
      "    conda-build version : 3.18.11\n",
      "         python version : 3.7.7.final.0\n",
      "       virtual packages : __osx=10.15.4\n",
      "       base environment : /Users/ankitaroychoudhury/opt/anaconda3  (writable)\n",
      "           channel URLs : https://repo.anaconda.com/pkgs/main/osx-64\n",
      "                          https://repo.anaconda.com/pkgs/main/noarch\n",
      "                          https://repo.anaconda.com/pkgs/r/osx-64\n",
      "                          https://repo.anaconda.com/pkgs/r/noarch\n",
      "          package cache : /Users/ankitaroychoudhury/opt/anaconda3/pkgs\n",
      "                          /Users/ankitaroychoudhury/.conda/pkgs\n",
      "       envs directories : /Users/ankitaroychoudhury/opt/anaconda3/envs\n",
      "                          /Users/ankitaroychoudhury/.conda/envs\n",
      "               platform : osx-64\n",
      "             user-agent : conda/4.8.3 requests/2.23.0 CPython/3.7.7 Darwin/19.4.0 OSX/10.15.4\n",
      "                UID:GID : 501:20\n",
      "             netrc file : None\n",
      "           offline mode : False\n",
      "\n"
     ]
    }
   ],
   "source": [
    "! conda info"
   ]
  },
  {
   "cell_type": "code",
   "execution_count": 23,
   "metadata": {},
   "outputs": [
    {
     "data": {
      "text/plain": [
       "int"
      ]
     },
     "execution_count": 23,
     "metadata": {},
     "output_type": "execute_result"
    }
   ],
   "source": [
    "type(2)\n"
   ]
  },
  {
   "cell_type": "code",
   "execution_count": 24,
   "metadata": {},
   "outputs": [
    {
     "data": {
      "text/plain": [
       "float"
      ]
     },
     "execution_count": 24,
     "metadata": {},
     "output_type": "execute_result"
    }
   ],
   "source": [
    "type(2.3)"
   ]
  },
  {
   "cell_type": "code",
   "execution_count": 25,
   "metadata": {},
   "outputs": [
    {
     "data": {
      "text/plain": [
       "str"
      ]
     },
     "execution_count": 25,
     "metadata": {},
     "output_type": "execute_result"
    }
   ],
   "source": [
    "type('blah')"
   ]
  },
  {
   "cell_type": "code",
   "execution_count": 26,
   "metadata": {},
   "outputs": [
    {
     "data": {
      "text/plain": [
       "2"
      ]
     },
     "execution_count": 26,
     "metadata": {},
     "output_type": "execute_result"
    }
   ],
   "source": [
    "5//2"
   ]
  },
  {
   "cell_type": "code",
   "execution_count": 27,
   "metadata": {},
   "outputs": [
    {
     "data": {
      "text/plain": [
       "1"
      ]
     },
     "execution_count": 27,
     "metadata": {},
     "output_type": "execute_result"
    }
   ],
   "source": [
    "5%2"
   ]
  },
  {
   "cell_type": "code",
   "execution_count": 28,
   "metadata": {},
   "outputs": [
    {
     "data": {
      "text/plain": [
       "2.5"
      ]
     },
     "execution_count": 28,
     "metadata": {},
     "output_type": "execute_result"
    }
   ],
   "source": [
    "5/2"
   ]
  },
  {
   "cell_type": "code",
   "execution_count": 29,
   "metadata": {},
   "outputs": [
    {
     "data": {
      "text/plain": [
       "2.1"
      ]
     },
     "execution_count": 29,
     "metadata": {},
     "output_type": "execute_result"
    }
   ],
   "source": [
    "2.1%3.2"
   ]
  },
  {
   "cell_type": "code",
   "execution_count": 30,
   "metadata": {},
   "outputs": [
    {
     "data": {
      "text/plain": [
       "1.1"
      ]
     },
     "execution_count": 30,
     "metadata": {},
     "output_type": "execute_result"
    }
   ],
   "source": [
    "3.2-2.1"
   ]
  },
  {
   "cell_type": "code",
   "execution_count": 33,
   "metadata": {},
   "outputs": [
    {
     "data": {
      "text/plain": [
       "3"
      ]
     },
     "execution_count": 33,
     "metadata": {},
     "output_type": "execute_result"
    }
   ],
   "source": [
    "3%4"
   ]
  },
  {
   "cell_type": "code",
   "execution_count": 35,
   "metadata": {},
   "outputs": [
    {
     "data": {
      "text/plain": [
       "True"
      ]
     },
     "execution_count": 35,
     "metadata": {},
     "output_type": "execute_result"
    }
   ],
   "source": [
    "5 ==5"
   ]
  },
  {
   "cell_type": "code",
   "execution_count": 38,
   "metadata": {},
   "outputs": [
    {
     "data": {
      "text/plain": [
       "False"
      ]
     },
     "execution_count": 38,
     "metadata": {},
     "output_type": "execute_result"
    }
   ],
   "source": [
    "a = 350\n",
    "b = 350 \n",
    "a is b"
   ]
  },
  {
   "cell_type": "code",
   "execution_count": 39,
   "metadata": {},
   "outputs": [
    {
     "data": {
      "text/plain": [
       "False"
      ]
     },
     "execution_count": 39,
     "metadata": {},
     "output_type": "execute_result"
    }
   ],
   "source": [
    "a is 350"
   ]
  },
  {
   "cell_type": "code",
   "execution_count": 40,
   "metadata": {},
   "outputs": [],
   "source": [
    "a = 5 \n",
    "b = 5\n"
   ]
  },
  {
   "cell_type": "code",
   "execution_count": 41,
   "metadata": {},
   "outputs": [
    {
     "data": {
      "text/plain": [
       "True"
      ]
     },
     "execution_count": 41,
     "metadata": {},
     "output_type": "execute_result"
    }
   ],
   "source": [
    "a is 5"
   ]
  },
  {
   "cell_type": "markdown",
   "metadata": {},
   "source": [
    "## Exercise 1.3"
   ]
  },
  {
   "cell_type": "code",
   "execution_count": 42,
   "metadata": {},
   "outputs": [],
   "source": [
    "seconds_past_midnight = 63252"
   ]
  },
  {
   "cell_type": "code",
   "execution_count": 43,
   "metadata": {},
   "outputs": [],
   "source": [
    "# get hours, minutes, and seconds\n",
    "# get hours, floor divide by 3600\n",
    "hours = seconds_past_midnight // 60**2\n",
    "# get minutes, find remainder of when you divide by \n",
    "# 3600 and then divide by 60 to put into minutes\n",
    "minutes = (seconds_past_midnight % 60**2) // 60\n",
    "# get seconds is what is left over when you divide\n",
    "# by 60 since all the other math is accounted for\n",
    "# in hours, minutes\n",
    "seconds = seconds_past_midnight % 60\n",
    "\n",
    "\n"
   ]
  },
  {
   "cell_type": "code",
   "execution_count": 45,
   "metadata": {},
   "outputs": [
    {
     "name": "stdout",
     "output_type": "stream",
     "text": [
      "17:34:12\n"
     ]
    }
   ],
   "source": [
    "# Now concatenate a string\n",
    "time_str = str(hours) + ':' + str(minutes) + ':' + str(seconds)\n",
    "print(time_str)"
   ]
  },
  {
   "cell_type": "markdown",
   "metadata": {},
   "source": [
    "## RANDOM OTHER STUFF"
   ]
  },
  {
   "cell_type": "code",
   "execution_count": 46,
   "metadata": {},
   "outputs": [
    {
     "data": {
      "text/plain": [
       "5"
      ]
     },
     "execution_count": 46,
     "metadata": {},
     "output_type": "execute_result"
    }
   ],
   "source": [
    "x = 5\n",
    "x"
   ]
  },
  {
   "cell_type": "code",
   "execution_count": 47,
   "metadata": {},
   "outputs": [
    {
     "name": "stdout",
     "output_type": "stream",
     "text": [
      "[46]\n"
     ]
    }
   ],
   "source": [
    "print([46])"
   ]
  },
  {
   "cell_type": "code",
   "execution_count": 49,
   "metadata": {},
   "outputs": [
    {
     "data": {
      "text/plain": [
       "73"
      ]
     },
     "execution_count": 49,
     "metadata": {},
     "output_type": "execute_result"
    }
   ],
   "source": [
    "int('7' + '3')"
   ]
  },
  {
   "cell_type": "code",
   "execution_count": 50,
   "metadata": {},
   "outputs": [
    {
     "data": {
      "text/plain": [
       "float"
      ]
     },
     "execution_count": 50,
     "metadata": {},
     "output_type": "execute_result"
    }
   ],
   "source": [
    "type(6/2)"
   ]
  },
  {
   "cell_type": "code",
   "execution_count": 51,
   "metadata": {},
   "outputs": [
    {
     "data": {
      "text/plain": [
       "3.0"
      ]
     },
     "execution_count": 51,
     "metadata": {},
     "output_type": "execute_result"
    }
   ],
   "source": [
    "6/2"
   ]
  },
  {
   "cell_type": "code",
   "execution_count": 54,
   "metadata": {},
   "outputs": [],
   "source": [
    "a = 1+2*1j"
   ]
  },
  {
   "cell_type": "code",
   "execution_count": 55,
   "metadata": {},
   "outputs": [
    {
     "name": "stdout",
     "output_type": "stream",
     "text": [
      "5\n",
      "4\n"
     ]
    }
   ],
   "source": [
    "print(5)\n",
    "print(4)"
   ]
  },
  {
   "cell_type": "code",
   "execution_count": 56,
   "metadata": {},
   "outputs": [
    {
     "data": {
      "text/plain": [
       "97"
      ]
     },
     "execution_count": 56,
     "metadata": {},
     "output_type": "execute_result"
    }
   ],
   "source": [
    "ord('a')"
   ]
  },
  {
   "cell_type": "code",
   "execution_count": 57,
   "metadata": {},
   "outputs": [
    {
     "data": {
      "text/plain": [
       "98"
      ]
     },
     "execution_count": 57,
     "metadata": {},
     "output_type": "execute_result"
    }
   ],
   "source": [
    "ord('b')"
   ]
  },
  {
   "cell_type": "code",
   "execution_count": 62,
   "metadata": {},
   "outputs": [
    {
     "data": {
      "text/plain": [
       "64"
      ]
     },
     "execution_count": 62,
     "metadata": {},
     "output_type": "execute_result"
    }
   ],
   "source": [
    "ord(' ') + ord(' ')"
   ]
  },
  {
   "cell_type": "code",
   "execution_count": 64,
   "metadata": {},
   "outputs": [
    {
     "ename": "TypeError",
     "evalue": "ord() expected a character, but string of length 7 found",
     "output_type": "error",
     "traceback": [
      "\u001b[0;31m---------------------------------------------------------------------------\u001b[0m",
      "\u001b[0;31mTypeError\u001b[0m                                 Traceback (most recent call last)",
      "\u001b[0;32m<ipython-input-64-542664547785>\u001b[0m in \u001b[0;36m<module>\u001b[0;34m\u001b[0m\n\u001b[0;32m----> 1\u001b[0;31m \u001b[0mord\u001b[0m\u001b[0;34m(\u001b[0m\u001b[0;34m'blah  d'\u001b[0m\u001b[0;34m)\u001b[0m\u001b[0;34m\u001b[0m\u001b[0;34m\u001b[0m\u001b[0m\n\u001b[0m",
      "\u001b[0;31mTypeError\u001b[0m: ord() expected a character, but string of length 7 found"
     ]
    }
   ],
   "source": [
    "ord('blah  d')"
   ]
  },
  {
   "cell_type": "code",
   "execution_count": 66,
   "metadata": {},
   "outputs": [
    {
     "data": {
      "text/plain": [
       "True"
      ]
     },
     "execution_count": 66,
     "metadata": {},
     "output_type": "execute_result"
    }
   ],
   "source": [
    "not(True and False)"
   ]
  },
  {
   "cell_type": "code",
   "execution_count": 67,
   "metadata": {},
   "outputs": [
    {
     "ename": "SyntaxError",
     "evalue": "invalid syntax (<ipython-input-67-c17218c8f79d>, line 1)",
     "output_type": "error",
     "traceback": [
      "\u001b[0;36m  File \u001b[0;32m\"<ipython-input-67-c17218c8f79d>\"\u001b[0;36m, line \u001b[0;32m1\u001b[0m\n\u001b[0;31m    True not False\u001b[0m\n\u001b[0m                 ^\u001b[0m\n\u001b[0;31mSyntaxError\u001b[0m\u001b[0;31m:\u001b[0m invalid syntax\n"
     ]
    }
   ],
   "source": [
    "True not False"
   ]
  },
  {
   "cell_type": "code",
   "execution_count": 69,
   "metadata": {},
   "outputs": [
    {
     "data": {
      "text/plain": [
       "False"
      ]
     },
     "execution_count": 69,
     "metadata": {},
     "output_type": "execute_result"
    }
   ],
   "source": [
    "'gc' == 'cg'"
   ]
  },
  {
   "cell_type": "code",
   "execution_count": 70,
   "metadata": {},
   "outputs": [
    {
     "name": "stdout",
     "output_type": "stream",
     "text": [
      "The watermark extension is already loaded. To reload it, use:\n",
      "  %reload_ext watermark\n",
      "CPython 3.7.7\n",
      "IPython 7.13.0\n",
      "\n",
      "jupyterlab 1.2.6\n",
      "numpy 1.18.1\n",
      "bokeh 2.0.2\n"
     ]
    }
   ],
   "source": [
    "%load_ext watermark\n",
    "%watermark -v -p jupyterlab,numpy,bokeh"
   ]
  },
  {
   "cell_type": "code",
   "execution_count": 71,
   "metadata": {},
   "outputs": [
    {
     "data": {
      "text/plain": [
       "[]"
      ]
     },
     "execution_count": 71,
     "metadata": {},
     "output_type": "execute_result"
    }
   ],
   "source": [
    "my_list = [0,1,2,3,4,5,6,7,8,9,10]\n",
    "my_list[2:-1:-1]"
   ]
  },
  {
   "cell_type": "code",
   "execution_count": 81,
   "metadata": {},
   "outputs": [
    {
     "data": {
      "text/plain": [
       "[2, 3, 4, 5, 6, 7, 8, 9]"
      ]
     },
     "execution_count": 81,
     "metadata": {},
     "output_type": "execute_result"
    }
   ],
   "source": [
    "my_list[2:-1:] # start at 2, go until 9"
   ]
  },
  {
   "cell_type": "code",
   "execution_count": 80,
   "metadata": {},
   "outputs": [
    {
     "data": {
      "text/plain": [
       "[2, 1, 0]"
      ]
     },
     "execution_count": 80,
     "metadata": {},
     "output_type": "execute_result"
    }
   ],
   "source": [
    "my_list[2::-1] # start at 2, go backwards"
   ]
  },
  {
   "cell_type": "code",
   "execution_count": 82,
   "metadata": {},
   "outputs": [
    {
     "data": {
      "text/plain": [
       "[9, 8, 7, 6, 5, 4, 3, 2]"
      ]
     },
     "execution_count": 82,
     "metadata": {},
     "output_type": "execute_result"
    }
   ],
   "source": [
    "my_list[2:-1][::-1]"
   ]
  },
  {
   "cell_type": "code",
   "execution_count": 83,
   "metadata": {},
   "outputs": [
    {
     "data": {
      "text/plain": [
       "[0, 1, 2, 3, 4, 5, 6, 7, 8, 9, 10]"
      ]
     },
     "execution_count": 83,
     "metadata": {},
     "output_type": "execute_result"
    }
   ],
   "source": [
    "my_list"
   ]
  },
  {
   "cell_type": "code",
   "execution_count": 87,
   "metadata": {},
   "outputs": [],
   "source": [
    "lst = [10,1]"
   ]
  },
  {
   "cell_type": "code",
   "execution_count": 88,
   "metadata": {},
   "outputs": [],
   "source": [
    "a,b=lst"
   ]
  },
  {
   "cell_type": "code",
   "execution_count": 89,
   "metadata": {},
   "outputs": [
    {
     "data": {
      "text/plain": [
       "10"
      ]
     },
     "execution_count": 89,
     "metadata": {},
     "output_type": "execute_result"
    }
   ],
   "source": [
    "a"
   ]
  },
  {
   "cell_type": "code",
   "execution_count": 90,
   "metadata": {},
   "outputs": [
    {
     "data": {
      "text/plain": [
       "1"
      ]
     },
     "execution_count": 90,
     "metadata": {},
     "output_type": "execute_result"
    }
   ],
   "source": [
    "b"
   ]
  },
  {
   "cell_type": "code",
   "execution_count": null,
   "metadata": {},
   "outputs": [],
   "source": []
  }
 ],
 "metadata": {
  "kernelspec": {
   "display_name": "Python 3",
   "language": "python",
   "name": "python3"
  },
  "language_info": {
   "codemirror_mode": {
    "name": "ipython",
    "version": 3
   },
   "file_extension": ".py",
   "mimetype": "text/x-python",
   "name": "python",
   "nbconvert_exporter": "python",
   "pygments_lexer": "ipython3",
   "version": "3.7.7"
  }
 },
 "nbformat": 4,
 "nbformat_minor": 4
}
