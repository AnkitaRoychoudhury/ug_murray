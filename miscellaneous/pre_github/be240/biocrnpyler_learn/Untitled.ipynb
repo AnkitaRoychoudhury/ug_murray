{
 "cells": [
  {
   "cell_type": "markdown",
   "metadata": {},
   "source": [
    "Check to see if the reactions are the same between the two models. Check to see if reaction rates are the same."
   ]
  },
  {
   "cell_type": "raw",
   "metadata": {},
   "source": [
    "Species (7) = {0. enzyme[enzyme1], 1. metabolite[atp], 2. molecule[glucose], 3. molecule[f16p], 4. metabolite[adp], 5. complex[enzyme[enzyme1]:2x_metabolite[atp]:molecule[glucose]], 6. complex[enzyme[enzyme1]:2x_metabolite[adp]:molecule[f16p]]}\n",
    "\n",
    "Reactions (3) = [\n",
    "0. enzyme[enzyme1] + 2 metabolite[atp] + molecule[glucose] <--> complex[enzyme[enzyme1]:2x_metabolite[atp]:molecule[glucose]]        \n",
    "        massaction: k_f(enzyme[enzyme1],metabolite[atp],molecule[glucose])=22.68*enzyme[enzyme1]*metabolite[atp]^2*molecule[glucose]\n",
    "        k_r(complex[enzyme[enzyme1]:2x_metabolite[atp]:molecule[glucose]])=2.268*complex[enzyme[enzyme1]:2x_metabolite[atp]:molecule[glucose]]\n",
    "        \n",
    "1. complex[enzyme[enzyme1]:2x_metabolite[atp]:molecule[glucose]] --> complex[enzyme[enzyme1]:2x_metabolite[adp]:molecule[f16p]]        \n",
    "        \n",
    "        massaction: k_f(complex[enzyme[enzyme1]:2x_metabolite[atp]:molecule[glucose]])=10*complex[enzyme[enzyme1]:2x_metabolite[atp]:molecule[glucose]]\n",
    "        \n",
    "2. complex[enzyme[enzyme1]:2x_metabolite[adp]:molecule[f16p]] <--> enzyme[enzyme1] + molecule[f16p] + 2 metabolite[adp]        \n",
    "        massaction: k_f(complex[enzyme[enzyme1]:2x_metabolite[adp]:molecule[f16p]])=24*complex[enzyme[enzyme1]:2x_metabolite[adp]:molecule[f16p]]\n",
    "        k_r(enzyme[enzyme1],molecule[f16p],metabolite[adp])=2.4*enzyme[enzyme1]*molecule[f16p]*metabolite[adp]^2\n",
    "]"
   ]
  },
  {
   "cell_type": "raw",
   "metadata": {},
   "source": [
    "Consider the reaction:\n",
    "\n",
    "0. enzyme[enzyme1] + 2 metabolite[atp] + molecule[glucose] <--> complex[enzyme[enzyme1]:2x_metabolite[atp]:molecule[glucose]] \n",
    "\n",
    "The forward mass action is written as:\n",
    "k_f(enzyme[enzyme1],metabolite[atp],molecule[glucose])=22.68*enzyme[enzyme1]*metabolite[atp]^2*molecule[glucose]\n",
    "\n",
    "But it should be: \n",
    "k_f(enzyme[enzyme1],metabolite[atp]^2,molecule[glucose])=22.68*enzyme[enzyme1]*metabolite[atp]^2*molecule[glucose]\n",
    " (notice addition of ^2 term)\n",
    " \n"
   ]
  },
  {
   "cell_type": "raw",
   "metadata": {},
   "source": [
    "Similarly:\n",
    "\n",
    "Consider the reaction:\n",
    "2. complex[enzyme[enzyme1]:2x_metabolite[adp]:molecule[f16p]] <--> enzyme[enzyme1] + molecule[f16p] + 2 metabolite[adp]  \n",
    "\n",
    "The reverse mass action is written as:\n",
    "k_r(enzyme[enzyme1],molecule[f16p],metabolite[adp])=2.4*enzyme[enzyme1]*molecule[f16p]*metabolite[adp]^2\n",
    " \n",
    "But it should be:\n",
    "k_r(enzyme[enzyme1],molecule[f16p],metabolite[adp]^2)=2.4*enzyme[enzyme1]*molecule[f16p]*metabolite[adp]^2\n",
    "(notice addition of ^2 term)\n",
    "\n"
   ]
  },
  {
   "cell_type": "code",
   "execution_count": null,
   "metadata": {},
   "outputs": [],
   "source": []
  }
 ],
 "metadata": {
  "kernelspec": {
   "display_name": "Python 3",
   "language": "python",
   "name": "python3"
  },
  "language_info": {
   "codemirror_mode": {
    "name": "ipython",
    "version": 3
   },
   "file_extension": ".py",
   "mimetype": "text/x-python",
   "name": "python",
   "nbconvert_exporter": "python",
   "pygments_lexer": "ipython3",
   "version": "3.7.6"
  }
 },
 "nbformat": 4,
 "nbformat_minor": 4
}
