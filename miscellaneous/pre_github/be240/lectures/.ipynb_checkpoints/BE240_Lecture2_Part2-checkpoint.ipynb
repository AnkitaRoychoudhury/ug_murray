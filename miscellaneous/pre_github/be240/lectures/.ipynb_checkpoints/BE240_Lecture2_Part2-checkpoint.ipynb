{
 "cells": [
  {
   "cell_type": "markdown",
   "metadata": {
    "slideshow": {
     "slide_type": "slide"
    }
   },
   "source": [
    "# BE 240 Lecture : 2\n",
    "\n",
    "## Non-mass action propensities in bioscrape\n",
    "### _Ayush Pandey_\n",
    "\n",
    "### Biochemical Signalling Model\n",
    "\n",
    "A signal $S$ cooperatively binds to a transcription factor $F^0$ changing its conformation to $F^1$. $F^1$ binds to a gene $G^0$ activating it to $G^1$. A polymerase $P$ can bind to $G^1$ and then transcribes a transcript $T$. The transcript can bind to a ribosome $R$ and be translated to a protein $X$. The signalling molecule, transcripts, proteins are assumed to degrade via dilution. Cellularly machinery ($F$, $P$, $R$) and DNA ($G$) are assumed to be a constant concentration.\n"
   ]
  },
  {
   "cell_type": "markdown",
   "metadata": {
    "slideshow": {
     "slide_type": "subslide"
    }
   },
   "source": [
    "\\begin{align}\n",
    "2 S + F^0 &\\underset{k^u_1}{\\overset{k^b_1}\\rightleftharpoons} F^1\\\\\n",
    "F^1 + G^0 &\\underset{k^u_2}{\\overset{k^b_2}\\rightleftharpoons} G^1 \\\\\n",
    "G^1 + P &\\underset{k^u_3}{\\overset{k^b_3}\\rightleftharpoons} G^1 :P \\xrightarrow{k_{tx}} G^1 + P + T \\\\\n",
    "T + R &\\underset{k^u_4}{\\overset{k^b_4}\\rightleftharpoons} T :R \\xrightarrow{k_{tl}} T + R + X \\\\\n",
    "S &\\xrightarrow{\\delta} \\emptyset \\\\\n",
    "T &\\xrightarrow{\\delta} \\emptyset \\\\\n",
    "X &\\xrightarrow{\\delta} \\emptyset\n",
    "\\end{align}"
   ]
  },
  {
   "cell_type": "markdown",
   "metadata": {
    "slideshow": {
     "slide_type": "slide"
    }
   },
   "source": [
    "Using mass-action approximations, we can write a differential equation that describes the dynamics of each species. For example, if $C_1 = G^1:P$ and $C_2 = T:R$, we have the following mRNA dynamics using mass-action propensities:\n",
    "\n",
    "\n",
    "\\begin{align}\n",
    "\\frac{dT}{dt} = k_{tx}C_1 + (k_{tl} + k_4^u) C_2 - k_4^b T R - \\delta T\\\\ \n",
    "\\\\\n",
    "\\end{align}\n",
    "\n",
    "\n",
    "* **How do we model the fact that some binding/unbinding reactions are fast reactions compared to the catalysis reactions?**\n",
    "\n",
    "\n",
    "* **Moreover, if we are only interested in the dynamics of the protein production, can we write simpler models that express the effective dynamics appropriately?**"
   ]
  },
  {
   "cell_type": "markdown",
   "metadata": {
    "slideshow": {
     "slide_type": "slide"
    }
   },
   "source": [
    "# Reduced model representations\n",
    "\n",
    "## Time-Scale Separation\n",
    "\n",
    "* **QSSA : Quasi steady-state approximation**. In a dynamic model, if a species exhibits a different intrinsic time scale and tends to reach an equilibrium state quicker than others, then we approximate such a species by its quasi steady state. For example, in the above example, if the binding and unbinding reaction of the transcript with the RNAP are fast, we can assume that the complex $C_1$ is at QSS. We can then write,\n",
    "\\begin{align}\n",
    "\\frac{dC_1}{dt} = 0\n",
    "\\end{align}\n",
    "On solving the above, we get an algebraic relationship for $C_1$ as function of other species that we can substitute into all other equations to eliminate $C_1$ dynamics from the model.\n",
    "* Formally, singular perturbation theory is a mathematical tool to derive QSSA conditions and steady state expressions. For a rigorous mathematical treatment of time-scale separation as applied to biological systems, refer to Chapter 3 of [[1]](http://www.cds.caltech.edu/~murray/books/AM08/pdf/bfs-dynamics_14Sep14.pdf) and for more information on singular perturbation theory refer to [[2]](https://books.google.com/books/about/Nonlinear_Systems.html?id=t_d1QgAACAAJ)\n",
    "\n",
    "[1]: Del Vecchio, Domitilla, and Richard M. Murray. Biomolecular Feedback Systems. Princeton, NJ: Princeton University Press, 2015.\n",
    "\n",
    "[2]: Khalil, Hassan K., and Jessy W. Grizzle. Nonlinear Systems. Vol. 3. Upper Saddle River, NJ: Prentice hall, 2002."
   ]
  },
  {
   "cell_type": "markdown",
   "metadata": {
    "slideshow": {
     "slide_type": "slide"
    }
   },
   "source": [
    "## Conservation Laws\n",
    "\n",
    "If a species in a model is conserved in amount, but undergoes chemical reactions, we can write a conservation law that relates the total amount of that species with the various amounts in which that species is present in the system. We can use these conservation laws to eliminate redundant dynamics from our system models. We will demonstrate these techniques using a simple example."
   ]
  },
  {
   "cell_type": "markdown",
   "metadata": {
    "slideshow": {
     "slide_type": "slide"
    }
   },
   "source": [
    "## A Simple Example: An Enzymatic Reaction System\n",
    "\\begin{align}\n",
    "    E + S &\\underset{d}{\\overset{a}\\rightleftharpoons} C \\xrightarrow{k} P + E \n",
    "\\end{align}\n",
    "Here, $C$ is the complex formed when the enzyme (E) binds to the substrate (S). P is the product resulting from the modification of the substrate S due to the binding with the enzyme E. Refer to [1] for more information.\n",
    "The full mass-action kinetics based model with four species is given by:\n",
    "\\begin{align*}\n",
    "\\frac{dS}{dt} &= -aES + dC \\\\\n",
    "\\frac{dC}{dt} &= aES - (d+k) C\\\\\n",
    "\\frac{dE}{dt} &= -a ES + dC + kC \\\\\n",
    "\\frac{dP}{dt} &= kC\n",
    "\\end{align*}\n",
    "\n",
    "The total enzyme concentration is usually assumed to be constant. Hence, we get the following **conservation law**:\n",
    "\\begin{align}\n",
    "E + C = E_{tot}\n",
    "\\end{align}\n",
    "We can eliminate E from the system dynamics by substituting $E = E_{tot} - C$. "
   ]
  },
  {
   "cell_type": "markdown",
   "metadata": {
    "slideshow": {
     "slide_type": "slide"
    }
   },
   "source": [
    "**Time-Scale Separation Assumption**:\n",
    "\n",
    "\n",
    "Next, we assume that the binding and unbinding reactions are at a faster time-scale than the catalysis reaction. Hence, we assume QSSA for C:\n",
    "\\begin{align}\n",
    "\\frac{dC}{dt} &= 0 \\Rightarrow a(E_{tot} − C)S − (d+k)C = 0\\\\\n",
    "\\Rightarrow C &= \\frac{E_{tot} S }{S+ K_m}, \\quad K_m = \\frac{d + k}{a}\\\\\n",
    "\\\\\n",
    "\\end{align}\n",
    "\n",
    "\n",
    "The reduced model then becomes:\n",
    "\\begin{align}\n",
    "\\frac{dP}{dt} &= rate . \\frac{S}{S+ K_m}\\\\\n",
    "\\\\\n",
    "\\end{align}\n",
    "\n",
    "\n",
    "This is a positive hill function with $n = 1$, $K = K_m$, and rate$ = k E_{tot}$.\n",
    "The mathematical conditions on the parameters under which this assumption is justified are discussed in [1]. \n",
    "\n",
    "\n",
    "[1]: Del Vecchio, Domitilla, and Richard M. Murray. Biomolecular Feedback Systems. Princeton, NJ: Princeton University Press, 2015"
   ]
  },
  {
   "cell_type": "markdown",
   "metadata": {
    "slideshow": {
     "slide_type": "slide"
    }
   },
   "source": [
    "**All other kinds of Hill functions can be derived in a similar fashion. Near the end of BE240, we will discuss tools to do these model reduction techniques using an automated package.**\n",
    "\n",
    "\n",
    "\n",
    "**Here is a list of the Hill function propensities available in bioscrape:**\n",
    "\n",
    "1. Positive Hill \n",
    "\\begin{align}\n",
    "rate \\times \\frac{X^n}{K^n + X^n}\\\\\n",
    "\\\\\n",
    "\\end{align}\n",
    "\n",
    "1. Negative Hill \n",
    "\\begin{align}\n",
    "rate \\times \\frac{K^n}{K^n + X^n}\\\\\n",
    "\\\\\n",
    "\\end{align}\n",
    "\n"
   ]
  },
  {
   "cell_type": "markdown",
   "metadata": {
    "slideshow": {
     "slide_type": "subslide"
    }
   },
   "source": [
    "\n",
    "1. Positive Proportional Hill \n",
    "\\begin{align}\n",
    "rate \\times d \\times \\frac{X^n}{K^n + X^n}\\\\\n",
    "\\\\\n",
    "\\end{align}\n",
    "\n",
    "1. Negative Proportional Hill \n",
    "\\begin{align}\n",
    "rate \\times d \\times \\frac{K^n}{K^n + X^n}\\\\\n",
    "\\\\\n",
    "\\end{align}\n",
    "\n",
    "Here $X$ and $d$ are species identifiers and $K$ and $rate$ are parameters. Detailed description of non-massaction propensities is available on the [bioscrape wiki](https://github.com/ananswam/bioscrape/wiki/Propensities).\n",
    "\n",
    "An [interactive tool](https://www.physiologyweb.com/calculators/hill_equation_interactive_graph.html) online to practice your Hill functions!\n"
   ]
  },
  {
   "cell_type": "markdown",
   "metadata": {
    "slideshow": {
     "slide_type": "slide"
    }
   },
   "source": [
    "### Assignment: Try to write bioscrape models for the enzymatic reaction system - \n",
    "* full dynamics\n",
    "* reduced dynamics with a Hill function. \n",
    "\n",
    "### Compare the results and find the parameter regime in which the reduced model works. Solution available in Chapter 3 of [1].\n",
    "\n",
    "\n",
    "\n",
    "[1]: Del Vecchio, Domitilla, and Richard M. Murray. Biomolecular Feedback Systems. Princeton, NJ: Princeton University Press, 2015"
   ]
  },
  {
   "cell_type": "markdown",
   "metadata": {
    "slideshow": {
     "slide_type": "slide"
    }
   },
   "source": [
    "## Example 2 : Using bioscrape non-mass action propensities \n",
    "Consider the transcription-translation model where $G$ is a gene, $T$ is a transcript, $X$ is a protein.\n",
    "We can write the following reduced order dynamics:\n",
    "1. $G \\xrightarrow[]{\\rho_{tx}(G, S)} G + T$; \n",
    "\\begin{align} \n",
    "\\rho_{tx}(G, S) = G k_{tx}\\frac{S^{2}}{K_{S}^{2}+S^{2}}\n",
    "\\\\\n",
    "\\end{align}\n",
    "Here, $S$ is the inducer signal that cooperatively activates the transcription of the gene $G$. Since, this is a positive activation of the gene by the inducer, we have a positive proportional Hill function.\n",
    "\n",
    "2. $T \\xrightarrow[]{\\rho_{tl}(T)} T+X$; \n",
    "\\begin{align} \n",
    "\\rho_{tl}(T) = k_{tl} \\frac{T}{K_{R} + T}\n",
    "\\\\\n",
    "\\end{align}\n",
    "The parameters $k_{tl}$ and $K_R$ model effects due to ribosome saturation. This is the similar Hill function as derived in the enzymatic reaction example. \n",
    "\n",
    "3. $T \\xrightarrow[]{\\delta} \\varnothing$; massaction kinetics at rate $\\delta$.\n",
    "4. $X \\xrightarrow[]{\\delta} \\varnothing$; massaction kinetics at rate $\\delta$.\n",
    "\n",
    "The first reaction uses a proportional positive hill function as its rate function to represent induction. The second reaction uses a positive hill function function to represent ribosome saturation. The third and fourth reactions reaction represent degredation via dilution. This model is constructed below and simulated both stochastically and deterministically."
   ]
  },
  {
   "cell_type": "code",
   "execution_count": 22,
   "metadata": {
    "slideshow": {
     "slide_type": "slide"
    }
   },
   "outputs": [],
   "source": [
    "from bioscrape.simulator import py_simulate_model\n",
    "from bioscrape.types import Model\n",
    "\n",
    "#Create a list of species names (strings)\n",
    "species = [\"G\", \"T\", \"X\", \"S\"]\n",
    "\n",
    "#create a list of parameters in the form (param_name[string], param_val[number])\n",
    "params = [(\"ktx\", 2), (\"ktl\", 5), (\"KI\", 10), (\"n\", 2.0), (\"KR\", 20), (\"delta\", .1)]\n",
    "\n",
    "#create reaction tuples in the form:\n",
    "#(Inputs[string list], Outputs[string list], propensity_type[string], propensity_dict {propensity_param:model_param})\n",
    "rxn1 = ([\"G\"], [\"G\", \"T\"], \"proportionalhillpositive\", {\"d\":\"G\", \"s1\":\"S\", \"k\":\"ktx\", \"K\":\"KI\", \"n\":\"n\"})\n",
    "rxn2 = ([\"T\"], [\"T\", \"X\"], \"hillpositive\", {\"s1\":\"T\", \"k\":\"ktl\", \"K\":\"KR\", \"n\":1}) \n",
    "\n",
    "# Or alternatively, use general propensity (simulation will be slower):\n",
    "# rxn2 = ([\"T\"], [\"T\", \"X\"], \"general\", {\"rate\":\"ktl * T/(KR + T)\"})\n",
    "\n",
    "#Notice that parameters can also take numerical values instead of being named directly\n",
    "rxn3 = ([\"T\"], [], \"massaction\", {\"k\":\"delta\"})\n",
    "rxn4 = ([\"X\"], [], \"massaction\", {\"k\":\"delta\"})\n"
   ]
  },
  {
   "cell_type": "code",
   "execution_count": 23,
   "metadata": {
    "slideshow": {
     "slide_type": "subslide"
    }
   },
   "outputs": [
    {
     "name": "stderr",
     "output_type": "stream",
     "text": [
      "C:\\Users\\apand\\Anaconda3\\lib\\site-packages\\ipykernel_launcher.py:8: UserWarning: The following species are uninitialized and their value has been defaulted to 0: T, X, \n",
      "  \n"
     ]
    }
   ],
   "source": [
    "#Create a list of all reactions\n",
    "rxns = [rxn1, rxn2, rxn3, rxn4]\n",
    "\n",
    "#create an initial condition dictionary species not included in the dictionary will default to 0\n",
    "x0 = {\"G\":1, \"S\":200}\n",
    "\n",
    "#Instaniate the Model object\n",
    "M = Model(species = species, parameters = params, reactions = rxns, initial_condition_dict = x0)\n",
    "\n",
    "#Simulate the Model deterministically\n",
    "timepoints = np.arange(0, 150, .1)\n",
    "results_det = py_simulate_model(timepoints, Model = M) #Returns a Pandas DataFrame\n",
    "\n",
    "#Simulate the Model Stochastically\n",
    "results_stoch = py_simulate_model(timepoints, Model = M, stochastic = True)"
   ]
  },
  {
   "cell_type": "code",
   "execution_count": 24,
   "metadata": {
    "slideshow": {
     "slide_type": "subslide"
    }
   },
   "outputs": [
    {
     "data": {
      "image/png": "[encoded data removed]",
      "text/plain": [
       "<Figure size 864x288 with 2 Axes>"
      ]
     },
     "metadata": {
      "needs_background": "light"
     },
     "output_type": "display_data"
    }
   ],
   "source": [
    "#Plot the results\n",
    "plt.figure(figsize = (12, 4))\n",
    "plt.subplot(121)\n",
    "plt.title(\"Transcript T\")\n",
    "plt.plot(timepoints, results_det[\"T\"], label = \"deterministic\")\n",
    "plt.plot(timepoints, results_stoch[\"T\"], label = \"stochastic\")\n",
    "plt.legend()\n",
    "plt.xlabel(\"Time\")\n",
    "\n",
    "plt.subplot(122)\n",
    "plt.title(\"Protein X\")\n",
    "plt.plot(timepoints, results_det[\"X\"], label = \"deterministic\")\n",
    "plt.plot(timepoints, results_stoch[\"X\"], label = \"stochastic\")\n",
    "plt.legend()\n",
    "plt.xlabel(\"Time\")\n",
    "plt.show()"
   ]
  },
  {
   "cell_type": "markdown",
   "metadata": {
    "slideshow": {
     "slide_type": "slide"
    }
   },
   "source": [
    "### More examples / assignments:\n",
    "\n",
    "1. Can you obtain a reduced model with Hill functions for the signaling system discussed earlier? Using the various techniques discussed in this lecture, write that model using bioscrape. Simulate and compare with full model dynamics (with massaction propensities) from Lecture 1 [here](http://www.cds.caltech.edu/%7Emurray/courses/be240/sp2020/W2_bioscrape.ipynb).\n",
    "\n",
    "2. For the repressilator model in [[1](https://www.nature.com/articles/35002125)], write a bioscrape model using non-massaction propensities\n",
    "\n",
    "3. A transcription-translation model using non-massaction propensities is available in `Basic Examples --- START HERE.ipynb` in the `bioscrape/examples` directory. \n",
    "\n",
    "4. Another such model is given next. Feel free to explore this code."
   ]
  },
  {
   "cell_type": "code",
   "execution_count": 1,
   "metadata": {
    "slideshow": {
     "slide_type": "skip"
    }
   },
   "outputs": [
    {
     "name": "stdout",
     "output_type": "stream",
     "text": [
      "Bioscrape model #rxns= 2 \n",
      "rxns= [(['D', 'A'], ['E'], 'hillpositive', {'k': 0.295, 'K': 0.69, 'n': 2.166, 's1': 'F'}), (['E', 'F'], ['D', 'G'], 'hillpositive', {'k': 1.19, 'K': 1.24, 'n': 0.143, 's1': 'E'})]\n",
      "Warning! SpeciesB not currently used in any rules or reactions.\n",
      "Warning! SpeciesC not currently used in any rules or reactions.\n",
      "Loaded Model \n",
      " [(<bioscrape.types.PositiveHillPropensity object at 0x0000020B4A0CE990>, <bioscrape.types.NoDelay object at 0x0000020B4A124170>, {'D': -1, 'A': -1, 'E': 1}, {}), (<bioscrape.types.PositiveHillPropensity object at 0x0000020B4A10EA20>, <bioscrape.types.NoDelay object at 0x0000020B4A1240B0>, {'E': -1, 'F': -1, 'D': 1, 'G': 1}, {})]\n"
     ]
    }
   ],
   "source": [
    "## Example not shown in lecture\n",
    "\n",
    "import numpy as np\n",
    "import pylab as plt\n",
    "from bioscrape.simulator import *\n",
    "from bioscrape.types import *\n",
    "import warnings\n",
    "\n",
    "\n",
    "#Parameter ranges to randomly choose parameters (on a log scale)\n",
    "param_min = -2\n",
    "param_max = 2\n",
    "\n",
    "#Names of different supported propensities\n",
    "propensity_types = ['massaction', 'hillpositive', 'proportionalhillpositive', 'hillnegative', \n",
    "                    'proportionalhillnegative', 'massaction']#, 'general']\n",
    "\n",
    "#parameter names required for each propensity (general will be treated by itself)\n",
    "propensity_param_requirements = {\n",
    "\t'massaction':['k'], 'hillpositive':['k', 'K', 'n'], 'hillnegative':['k', 'K', 'n'],\n",
    "\t'proportionalhillpositive':[\"k\", \"K\", \"n\"], 'proportionalhillnegative':[\"k\", \"K\", \"n\"]\n",
    "}\n",
    "#species (passed in as parameters) required for each propensity (general will be treated by itself)\n",
    "propensity_specie_requirements = {\n",
    "\t'hillpositive':['s1'], 'hillnegative':['s1'], 'proportionalhillpositive':['s1', 'd'], \n",
    "    'proportionalhillnegative':['s1', 'd'], \"massaction\":[]\n",
    "}\n",
    "\n",
    "\n",
    "species = ['A', 'B', 'C', 'D', 'E', 'F', 'G']\n",
    "n_species = len(species)\n",
    "n_reactions = np.random.randint(1, 3)\n",
    "\n",
    "reactions = []\n",
    "for r in range(n_reactions):\n",
    "\n",
    "    try_again = True\n",
    "    while try_again:#Loop ensures no positive feedback which leads to long simulations\n",
    "        inputs = []\n",
    "        outputs = []\n",
    "        while(len(inputs) == 0 and len(outputs) == 0):\n",
    "\n",
    "            n_inputs = np.random.randint(0, 5)\n",
    "            for i in range(n_inputs):\n",
    "                inputs.append(species[np.random.randint(0, len(species))])\n",
    "\n",
    "            n_outputs = np.random.randint(0, 5)\n",
    "            for i in range(n_outputs):\n",
    "                outputs.append(species[np.random.randint(0, len(species))])\n",
    "\n",
    "        inputs_in_outputs = len([i for i in inputs if i in outputs])\n",
    "        if inputs_in_outputs >= len(inputs):\n",
    "            try_again = True\n",
    "        else:\n",
    "            try_again = False\n",
    "\n",
    "    prop_type = propensity_types[np.random.randint(0, len(propensity_types))]\n",
    "    param_dict = {}\n",
    "    if prop_type != 'general':\n",
    "        required_params = propensity_param_requirements[prop_type]\n",
    "        required_species = propensity_specie_requirements[prop_type]\n",
    "        param_dict = {}\n",
    "        for p in required_params:\n",
    "            param_dict[p] = round(np.exp(np.random.uniform(low = param_min, high = param_max)), 3)\n",
    "        for i in range(len(required_species)):\n",
    "            k = required_species[i]\n",
    "            param_dict[k] = species[np.random.randint(0, len(species))]\n",
    "\n",
    "    elif prop_type == 'general': #Here we will use a random(ish) rational function\n",
    "        rate_str = \"(1+\"\n",
    "        numerator_terms = np.random.randint(0, 5)\n",
    "        denominator_terms = np.random.randint(0, 5)\n",
    "        for i in range(numerator_terms):\n",
    "            coef = str(round(np.exp(np.random.uniform(low = param_min, high = param_max)), 3))\n",
    "            exp = str(round(np.random.uniform(low = 0, high = param_max), 3))\n",
    "            specie = species[np.random.randint(0, len(species))]\n",
    "            rate_str += coef+\"*\"+specie+\"^\"+exp+\"+\"\n",
    "        rate_str =  rate_str[:-1] + \")\"\n",
    "        rate_str += \"/(1+\"\n",
    "        for i in range(denominator_terms):\n",
    "            coef =str(round(np.exp(np.random.uniform(low = param_min, high = param_max)), 3))\n",
    "            exp = str(round(np.random.uniform(low = 0, high = param_max), 3))\n",
    "            specie = species[np.random.randint(0, len(species))]\n",
    "            rate_str += coef+\"*\"+specie+\"^\"+exp+\"+\"\n",
    "        rate_str =  rate_str[:-1] + \")\"\n",
    "        param_dict['rate'] = rate_str\n",
    "\n",
    "    rxn = (inputs, outputs, prop_type, param_dict)\n",
    "    reactions.append(rxn)\n",
    "\n",
    "\n",
    "print(\"Bioscrape model #rxns=\", len(reactions), \"\\nrxns=\", reactions)\n",
    "M = Model(reactions = reactions, initial_condition_dict = {s:np.random.randint(10, 100) for s in species})\n",
    "M.write_bioscrape_xml('lecture2_model.xml')\n",
    "M2 = Model('lecture2_model.xml')\n",
    "print(\"Loaded Model \\n\", M2.get_reactions())"
   ]
  },
  {
   "cell_type": "markdown",
   "metadata": {
    "slideshow": {
     "slide_type": "slide"
    }
   },
   "source": [
    "# Rules in bioscrape\n",
    "### Adding Rules\n",
    "In deterministic and stochastic simulations, bioscrape also supports rules which can be used to set species or parameter values during the simulation. Rules are updated every simulation timepoint - and therefore the model may be sensitive to the timepoints spacing.\n",
    "\n",
    "For example:\n",
    "\n",
    "1. $I = I_0 H(T)$ where $H$ is the step function. Represents the addition of the inducer I at concentrion $I_0$ some time T. Prior to t=T, I is not present.\n",
    "2. $S = M \\frac{X}{1+aX}$ represents a saturating signal detected from the species X via some sort of sensor.\n",
    "\n",
    "To implement these rules in bioscrape:\n",
    "```\n",
    "# Usage: rule_tuple = (rule_type, rule_dict, rule_frequency)\n",
    "\n",
    "rule1 = (\"assignment\", {\"equation\": \"I =_I0*Heaviside(t-_T)\"}, \"repeated\")\n",
    "\n",
    "rule2 = (\"assignment\", {\"equation\": \"S = 50*X/(1+.2*X)\"}, \"repeated\")\n",
    "\n",
    "M = Model(rules = [rule1, rule2])\n",
    "\n",
    "# Or use create_rule function\n",
    "```\n"
   ]
  },
  {
   "cell_type": "markdown",
   "metadata": {
    "slideshow": {
     "slide_type": "slide"
    }
   },
   "source": [
    "Rules can also be used for quasi-steady-state or quasi-equilibrium approximations, computing parameters on during the simulation, and much more!\n",
    "\n",
    "There are two main types of rules:\n",
    "1. \"additive\": used for calculating the total of many species. Rule 'equation' must be in the form $s_0 = s_1 + s_2 ...$ where $s_i$ each represents a species string.\n",
    "2. \"assignment\": a general rule type with 'equation' of the form $v = f(s, p)$ where $v$ can be either a species or parameter which is assigned the value $f(s, p)$ where $s$ are all the species and $p$ are all the parameters in the model and $f$ is written as an string.\n",
    "\n",
    "\n",
    "For more information on Rules in bioscrape, refer to the [bioscrape Wiki](https://github.com/ananswam/bioscrape/wiki) and the `Basic Examples --- START HERE.ipynb` notebook in the `bioscrape/examples` directory."
   ]
  },
  {
   "cell_type": "code",
   "execution_count": 75,
   "metadata": {
    "slideshow": {
     "slide_type": "slide"
    }
   },
   "outputs": [],
   "source": [
    "from bioscrape.simulator import py_simulate_model\n",
    "from bioscrape.types import Model\n",
    "\n",
    "#Create a list of species names (strings)\n",
    "species = [\"G\", \"T\", \"X\", \"S\"]\n",
    "\n",
    "#create a list of parameters in the form (param_name[string], param_val[number])\n",
    "params = [(\"ktx\", 2), (\"ktl\", 5), (\"KI\", 10), (\"n\", 2.0), (\"KR\", 20), (\"delta\", .1)]\n",
    "\n",
    "#create reaction tuples in the form:\n",
    "#(Inputs[string list], Outputs[string list], propensity_type[string], propensity_dict {propensity_param:model_param})\n",
    "rxn1 = ([\"G\"], [\"G\", \"T\"], \"proportionalhillpositive\", {\"d\":\"G\", \"s1\":\"S\", \"k\":\"ktx\", \"K\":\"KI\", \"n\":\"n\"})\n",
    "rxn2 = ([\"T\"], [\"T\", \"X\"], \"hillpositive\", {\"s1\":\"T\", \"k\":\"ktl\", \"K\":\"KR\", \"n\":1}) \n",
    "\n",
    "# Or alternatively, use general propensity (simulation will be slower):\n",
    "# rxn2 = ([\"T\"], [\"T\", \"X\"], \"general\", {\"rate\":\"ktl * T/(KR + T)\"})\n",
    "\n",
    "#Notice that parameters can also take numerical values instead of being named directly\n",
    "rxn3 = ([\"T\"], [], \"massaction\", {\"k\":\"delta\"})\n",
    "rxn4 = ([\"X\"], [], \"massaction\", {\"k\":\"delta\"})\n",
    "\n",
    "rule1 = (\"assignment\", {\"equation\": \"S = 200*Heaviside(t-70) + 10*Heaviside(t)\"}, \"repeated\")"
   ]
  },
  {
   "cell_type": "code",
   "execution_count": 76,
   "metadata": {
    "slideshow": {
     "slide_type": "subslide"
    }
   },
   "outputs": [
    {
     "name": "stderr",
     "output_type": "stream",
     "text": [
      "C:\\Users\\apand\\Anaconda3\\lib\\site-packages\\ipykernel_launcher.py:8: UserWarning: The following species are uninitialized and their value has been defaulted to 0: T, X, \n",
      "  \n"
     ]
    }
   ],
   "source": [
    "#Create a list of all reactions\n",
    "rxns = [rxn1, rxn2, rxn3, rxn4]\n",
    "rules = [rule1]\n",
    "#create an initial condition dictionary species not included in the dictionary will default to 0\n",
    "x0 = {\"G\":1, \"S\":0}\n",
    "\n",
    "#Instaniate the Model object\n",
    "M = Model(species = species, parameters = params, reactions = rxns, rules = rules, initial_condition_dict = x0)\n",
    "\n",
    "#Simulate the Model deterministically\n",
    "timepoints = np.arange(0, 150, .1)\n",
    "results_det = py_simulate_model(timepoints, Model = M) #Returns a Pandas DataFrame\n",
    "\n",
    "#Simulate the Model Stochastically\n",
    "results_stoch = py_simulate_model(timepoints, Model = M, stochastic = True)"
   ]
  },
  {
   "cell_type": "code",
   "execution_count": 77,
   "metadata": {
    "slideshow": {
     "slide_type": "subslide"
    }
   },
   "outputs": [
    {
     "data": {
      "image/png": "[encoded data removed]",
      "text/plain": [
       "<Figure size 864x288 with 2 Axes>"
      ]
     },
     "metadata": {
      "needs_background": "light"
     },
     "output_type": "display_data"
    }
   ],
   "source": [
    "#Plot the results\n",
    "plt.figure(figsize = (12, 4))\n",
    "plt.subplot(121)\n",
    "plt.title(\"Transcript T\")\n",
    "plt.plot(timepoints, results_det[\"T\"], label = \"deterministic\")\n",
    "plt.plot(timepoints, results_stoch[\"T\"], label = \"stochastic\")\n",
    "plt.legend()\n",
    "plt.xlabel(\"Time\")\n",
    "\n",
    "plt.subplot(122)\n",
    "plt.title(\"Protein X\")\n",
    "plt.plot(timepoints, results_det[\"X\"], label = \"deterministic\")\n",
    "plt.plot(timepoints, results_stoch[\"X\"], label = \"stochastic\")\n",
    "plt.legend()\n",
    "plt.xlabel(\"Time\")\n",
    "plt.show()"
   ]
  },
  {
   "cell_type": "markdown",
   "metadata": {
    "slideshow": {
     "slide_type": "skip"
    }
   },
   "source": [
    "# Bonus content: Local sensitivity analysis\n",
    "\n",
    "## Go [here](https://drive.google.com/open?id=1w6NM9YpDhpgzJsCCRt7eaMyXMx5ryRvC)."
   ]
  },
  {
   "cell_type": "code",
   "execution_count": null,
   "metadata": {
    "slideshow": {
     "slide_type": "skip"
    }
   },
   "outputs": [],
   "source": []
  }
 ],
 "metadata": {
  "celltoolbar": "Slideshow",
  "kernelspec": {
   "display_name": "Python 3.7.4 64-bit",
   "language": "python",
   "name": "python37464bita6c5c53d7b16474cae5bc645c5b09138"
  },
  "language_info": {
   "codemirror_mode": {
    "name": "ipython",
    "version": 3
   },
   "file_extension": ".py",
   "mimetype": "text/x-python",
   "name": "python",
   "nbconvert_exporter": "python",
   "pygments_lexer": "ipython3",
   "version": "3.7.4"
  }
 },
 "nbformat": 4,
 "nbformat_minor": 2
}
