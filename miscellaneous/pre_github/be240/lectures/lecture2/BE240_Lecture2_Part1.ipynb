{
 "cells": [
  {
   "cell_type": "markdown",
   "metadata": {
    "slideshow": {
     "slide_type": "slide"
    }
   },
   "source": [
    "<img src = \"sbml_logo.jpg\" width = \"300\" align = \"center\">\n",
    "<img src = \"infographic_sbml.jpg\" width = \"1080\" height = \"400\" align = \"center\">\n",
    "\n",
    "***\n",
    "***"
   ]
  },
  {
   "cell_type": "markdown",
   "metadata": {
    "slideshow": {
     "slide_type": "slide"
    }
   },
   "source": [
    "# BE 240 Lecture : 2\n",
    "\n",
    "## Introduction to SBML\n",
    "### _Ayush Pandey_\n",
    "\n",
    "> Systems Biology Markup Language\n",
    "> biomodels.com - ppl develop and share their models\n",
    "\n",
    "## [SBML](http://sbml.org) is a _\"free and open interchange format for computer models of biological processes\"_\n",
    "\n",
    "## 1. SBML uses the language of XML\n",
    "Even the simplest SBML model file can contain hundreds of lines, full of various XML tags. The header looks like this:\n",
    "```\n",
    "<sbml xmlns=\"http://www.sbml.org/sbml/level2/version3\" level=\"2\" metaid=\"_153818\" version=\"3\">\n",
    "  <model id=\"BIOMD0000000012\" metaid=\"_000001\" name=\"Elowitz2000 - Repressilator\">\n",
    "```  \n",
    "**You don't have to write your own SBML files by hand!**"
   ]
  },
  {
   "cell_type": "markdown",
   "metadata": {
    "slideshow": {
     "slide_type": "slide"
    }
   },
   "source": [
    "\n",
    "## 2. Software that support SBML : More than 300! \n",
    "\n",
    "* Model building tools: [Tellurium](http://tellurium.analogmachine.org/) (Python), [Sub-SBML](https://github.com/BuildACell/subsbml) (Python), [iBioSim](https://async.ece.utah.edu/tools/ibiosim/) (GUI), [MATLAB SimBiology](https://www.mathworks.com/products/simbiology.html)\n",
    "> And biocompiler\n",
    "* Model simulation tools: [bioscrape](https://github.com/biocircuits/bioscrape/) (Python), [COPASI](http://copasi.org/) (GUI), [LibRoadRunner](http://libroadrunner.org/) (Python), [MATLAB SimBiology](https://www.mathworks.com/products/simbiology.html)\n",
    "* Analysis tools: [bioscrape inference](https://github.com/biocircuits/bioscrape/) (Python), [COPASI](http://copasi.org/) (GUI), [ABC-SysBio](http://www.theosysbio.bio.ic.ac.uk/resources/abc-sysbio/) (Python)\n",
    "\n",
    "Follow [this link](http://sbml.org/SBML_Software_Guide/SBML_Software_Summary) for detailed descriptions of various software tools that support SBML.\n",
    "\n",
    "\n",
    "Models in SBML : A big curated model database : [BioModels](https://www.ebi.ac.uk/biomodels/). An example model from this database at the end of this notebook."
   ]
  },
  {
   "cell_type": "markdown",
   "metadata": {
    "slideshow": {
     "slide_type": "subslide"
    }
   },
   "source": [
    "## 3. For software developers : SBML API for Python : python-libsbml. \n",
    "\n",
    "\n",
    "* Set/change parameter values: `model.getParameter(6).setValue(1e3)` => Changes the value of the 6th parameter in the list of parameters to 1e3.\n",
    "* Set initial conditions: `model.getSpecies('id').setInitialAmount(50)` => Changes the initial condition of the species with identifier \"id\" to 50.\n",
    "\n",
    "and so on...Not easy to directly use python-libsbml - but you shouldn't need to (unless you are developing your own software). \n",
    "Refer to the [Documentation](http://sbml.org/Software/libSBML/5.18.0/docs/python-api/) for more information.\n",
    "\n",
    "***\n",
    "---"
   ]
  },
  {
   "cell_type": "markdown",
   "metadata": {
    "slideshow": {
     "slide_type": "slide"
    }
   },
   "source": [
    "# SBML with bioscrape"
   ]
  },
  {
   "cell_type": "markdown",
   "metadata": {
    "slideshow": {
     "slide_type": "slide"
    }
   },
   "source": [
    "## Important : Update your bioscrape installation \n",
    "To get the latest changes in bioscrape, run the following from the directory where bioscrape is installed:\n",
    "```\n",
    "$ git pull origin master\n",
    "$ python setup.py install\n",
    "```\n",
    "(get the latest code (\"pull\") from the [bioscrape Github repository](https://github.com/ananswam/bioscrape/) master branch, then install bioscrape again).\n",
    "\n",
    "We made some bug fixes this week, so it is important that you get the latest version of the package. "
   ]
  },
  {
   "cell_type": "markdown",
   "metadata": {
    "slideshow": {
     "slide_type": "slide"
    }
   },
   "source": [
    "## Simulating a repressilator circuit (using its SBML model)\n",
    "From [biomodels](https://www.ebi.ac.uk/biomodels/) SBML model repository, we can get the SBML model that accompanies the original repressilator paper [[1]](https://www.nature.com/articles/35002125). We import the SBML file obtained into bioscrape to simulate it. For more information on how to simulate a bioscrape model, refer to [this](http://www.cds.caltech.edu/%7Emurray/courses/be240/sp2020/W2_bioscrape.ipynb) notebook. "
   ]
  },
  {
   "cell_type": "markdown",
   "metadata": {
    "slideshow": {
     "slide_type": "subslide"
    }
   },
   "source": [
    "## A quick peek into the SBML model:\n",
    "Model header: <img src = \"repressilator1.jpg\" width = \"600\">\n",
    "Species: <img src = \"repressilator2.jpg\" width = \"600\">"
   ]
  },
  {
   "cell_type": "markdown",
   "metadata": {
    "slideshow": {
     "slide_type": "slide"
    }
   },
   "source": [
    "## The ODE model (from [[1]](https://www.nature.com/articles/35002125.pdf)): \n",
    "<img src = \"repressilator_model.jpg\" width = \"600\">\n",
    "\n",
    "In the SBML model: PX: lacI protein, PY: TetR protein, PZ: cI protein."
   ]
  },
  {
   "cell_type": "code",
   "execution_count": 1,
   "metadata": {
    "slideshow": {
     "slide_type": "slide"
    }
   },
   "outputs": [
    {
     "ename": "ModuleNotFoundError",
     "evalue": "No module named 'libsbml'",
     "output_type": "error",
     "traceback": [
      "\u001b[0;31m---------------------------------------------------------------------------\u001b[0m",
      "\u001b[0;31mModuleNotFoundError\u001b[0m                       Traceback (most recent call last)",
      "\u001b[0;32m<ipython-input-1-2fe1ce5c40f1>\u001b[0m in \u001b[0;36m<module>\u001b[0;34m\u001b[0m\n\u001b[1;32m      1\u001b[0m \u001b[0;31m# Import bioscrape simulator and import_sbml from sbmlutil to import SBML files into bioscrape.\u001b[0m\u001b[0;34m\u001b[0m\u001b[0;34m\u001b[0m\u001b[0;34m\u001b[0m\u001b[0m\n\u001b[0;32m----> 2\u001b[0;31m \u001b[0;32mfrom\u001b[0m \u001b[0mbioscrape\u001b[0m\u001b[0;34m.\u001b[0m\u001b[0msbmlutil\u001b[0m \u001b[0;32mimport\u001b[0m \u001b[0mimport_sbml\u001b[0m\u001b[0;34m\u001b[0m\u001b[0;34m\u001b[0m\u001b[0m\n\u001b[0m\u001b[1;32m      3\u001b[0m \u001b[0;32mfrom\u001b[0m \u001b[0mbioscrape\u001b[0m\u001b[0;34m.\u001b[0m\u001b[0msimulator\u001b[0m \u001b[0;32mimport\u001b[0m \u001b[0mpy_simulate_model\u001b[0m\u001b[0;34m\u001b[0m\u001b[0;34m\u001b[0m\u001b[0m\n\u001b[1;32m      4\u001b[0m \u001b[0;34m\u001b[0m\u001b[0m\n\u001b[1;32m      5\u001b[0m \u001b[0;31m# Import the SBML file : Usage : import_sbml('sbml_filename.xml'), returns bioscrape Model object\u001b[0m\u001b[0;34m\u001b[0m\u001b[0;34m\u001b[0m\u001b[0;34m\u001b[0m\u001b[0m\n",
      "\u001b[0;32m~/opt/anaconda3/lib/python3.7/site-packages/bioscrape/__init__.py\u001b[0m in \u001b[0;36m<module>\u001b[0;34m\u001b[0m\n\u001b[1;32m      1\u001b[0m \u001b[0;32mimport\u001b[0m \u001b[0mbioscrape\u001b[0m\u001b[0;34m.\u001b[0m\u001b[0mrandom\u001b[0m\u001b[0;34m\u001b[0m\u001b[0;34m\u001b[0m\u001b[0m\n\u001b[0;32m----> 2\u001b[0;31m \u001b[0;32mimport\u001b[0m \u001b[0mbioscrape\u001b[0m\u001b[0;34m.\u001b[0m\u001b[0mtypes\u001b[0m\u001b[0;34m\u001b[0m\u001b[0;34m\u001b[0m\u001b[0m\n\u001b[0m\u001b[1;32m      3\u001b[0m \u001b[0;32mimport\u001b[0m \u001b[0mbioscrape\u001b[0m\u001b[0;34m.\u001b[0m\u001b[0msimulator\u001b[0m\u001b[0;34m\u001b[0m\u001b[0;34m\u001b[0m\u001b[0m\n\u001b[1;32m      4\u001b[0m \u001b[0;32mimport\u001b[0m \u001b[0mbioscrape\u001b[0m\u001b[0;34m.\u001b[0m\u001b[0minference\u001b[0m\u001b[0;34m\u001b[0m\u001b[0;34m\u001b[0m\u001b[0m\n\u001b[1;32m      5\u001b[0m \u001b[0;34m\u001b[0m\u001b[0m\n",
      "\u001b[0;32mbioscrape/types.pyx\u001b[0m in \u001b[0;36minit bioscrape.types\u001b[0;34m()\u001b[0m\n",
      "\u001b[0;31mModuleNotFoundError\u001b[0m: No module named 'libsbml'"
     ]
    }
   ],
   "source": [
    "# Import bioscrape simulator and import_sbml from sbmlutil to import SBML files into bioscrape.\n",
    "from bioscrape.sbmlutil import import_sbml\n",
    "from bioscrape.simulator import py_simulate_model\n",
    "\n",
    "# Import the SBML file : Usage : import_sbml('sbml_filename.xml'), returns bioscrape Model object\n",
    "# (Make sure that the file path is correctly specified wherever the SBML file ending in .xml is present in your directory)\n",
    "M_represillator = import_sbml('repressilator_sbml.xml')\n",
    "\n",
    "#Simulate Deterministically and Stochastically\n",
    "import numpy as np\n",
    "timepoints = np.linspace(0,700,10000)\n",
    "result_det = py_simulate_model(timepoints, Model = M_represillator)\n",
    "result_stoch = py_simulate_model(timepoints, Model = M_represillator, stochastic = True)\n"
   ]
  },
  {
   "cell_type": "code",
   "execution_count": null,
   "metadata": {
    "slideshow": {
     "slide_type": "skip"
    }
   },
   "outputs": [],
   "source": [
    "# Import relevant settings and packages to create plots\n",
    "import matplotlib.pyplot as plt\n",
    "import matplotlib as mpl\n",
    "color_list = ['r', 'k', 'b','g','y','m','c']\n",
    "mpl.rc('axes', prop_cycle=(mpl.cycler('color', color_list) ))\n",
    "mpl.rc('xtick', labelsize=16) \n",
    "mpl.rc('ytick', labelsize=16)\n",
    "plt.figure(figsize = (10, 4))"
   ]
  },
  {
   "cell_type": "code",
   "execution_count": null,
   "metadata": {
    "slideshow": {
     "slide_type": "subslide"
    }
   },
   "outputs": [],
   "source": [
    "#Plot Results\n",
    "for i in range(len(M_represillator.get_species_list())):\n",
    "    s = M_represillator.get_species_list()[i]\n",
    "    plt.plot(timepoints, result_det[s], color = color_list[i], label = \"Deterministic \"+s)\n",
    "    plt.plot(timepoints, result_stoch[s], \":\", color = color_list[i], label = \"Stochastic \"+s)\n",
    "\n",
    "plt.title('Repressilator Model')\n",
    "plt.xlabel('Time', FontSize = 16)\n",
    "plt.ylabel('Amount', FontSize = 16)\n",
    "plt.legend()\n",
    "plt.show()"
   ]
  },
  {
   "cell_type": "markdown",
   "metadata": {
    "slideshow": {
     "slide_type": "slide"
    }
   },
   "source": [
    "## More examples / assignments:\n",
    "\n",
    "1. **Try your own SBML model!** \n",
    "    * Use `M.write_sbml_model(\"filename.xml\")` to write your bioscrape Model object `M` to a SBML file. Then, load up your SBML model as discussed above using `import_sbml`.\n",
    "    * If you are interested, use [Tellurium](http://tellurium.analogmachine.org/) or [COPASI](http://copasi.org/) to create a SBML model, then simulate using bioscrape or compare simulations with other libraries.\n",
    "    * Get a SBML model from one of the repositories online of your favorite paper, then simulate using bioscrape. For example, similar to the repressilator example above, BioModels repository consists SBML models of a \n",
    "        * Toggle Switch \n",
    "        * Influenza Viral Dynamics Spread \n",
    "        * Circadian Oscillator\n",
    "        * MAPK/ERK pathway\n",
    "        * Other interesting examples available [here](https://www.ebi.ac.uk/biomodels/content/model-of-the-month?all=yes).\n",
    "    * Pro Tip : You can directly load an SBML model using the `Model`constructor. Usage : `M = Model(sbml_filename = \"sbml_filename.xml\")`\n",
    " "
   ]
  },
  {
   "cell_type": "markdown",
   "metadata": {
    "slideshow": {
     "slide_type": "subslide"
    }
   },
   "source": [
    "   \n",
    "2. Check out the `Saving and Loading SBML and Bioscrape XML.ipynb` notebook for other examples.\n",
    "3. We will use [BioCRNpyler](https://github.com/BuildACell/biocrnpyler) next week to generate SBML models of commonly used parts and components in biological circuits. The repository already has quite a few generated SBML models.\n",
    "4. You can write compartmentalized SBML models for your own project as it might help in the future lectures (different SBML files for each compartment)."
   ]
  },
  {
   "cell_type": "code",
   "execution_count": null,
   "metadata": {
    "slideshow": {
     "slide_type": "skip"
    }
   },
   "outputs": [],
   "source": []
  }
 ],
 "metadata": {
  "celltoolbar": "Slideshow",
  "kernelspec": {
   "display_name": "Python 3",
   "language": "python",
   "name": "python3"
  },
  "language_info": {
   "codemirror_mode": {
    "name": "ipython",
    "version": 3
   },
   "file_extension": ".py",
   "mimetype": "text/x-python",
   "name": "python",
   "nbconvert_exporter": "python",
   "pygments_lexer": "ipython3",
   "version": "3.7.6"
  }
 },
 "nbformat": 4,
 "nbformat_minor": 4
}
