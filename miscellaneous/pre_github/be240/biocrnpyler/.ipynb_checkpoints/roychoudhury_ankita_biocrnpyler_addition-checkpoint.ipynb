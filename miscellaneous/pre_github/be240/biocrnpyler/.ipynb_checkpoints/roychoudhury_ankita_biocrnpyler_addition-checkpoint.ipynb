{
 "cells": [
  {
   "cell_type": "markdown",
   "metadata": {},
   "source": [
    "# Biocrnpyler Enzyme Addition\n",
    "Ankita Roychoudhury <br>\n",
    "6.9.2020"
   ]
  },
  {
   "cell_type": "code",
   "execution_count": 11,
   "metadata": {},
   "outputs": [],
   "source": [
    "# Basic Imports\n",
    "\n",
    "#A Model is a CRN with some bells and whistles\n",
    "from bioscrape.types import Model\n",
    "\n",
    "#py_simulate_model is a helper function that takes care of may details for you\n",
    "from bioscrape.simulator import py_simulate_model\n",
    "\n",
    "#For arrays and plotting\n",
    "import numpy as np\n",
    "import pandas as pd\n",
    "#import pylab as plt\n",
    "\n",
    "from scipy.integrate import simps\n",
    "from numpy import trapz\n",
    "\n",
    "from biocrnpyler.mechanism import Mechanism\n",
    "from biocrnpyler.component import Component\n",
    "from biocrnpyler import Mixture\n",
    "from biocrnpyler.chemical_reaction_network import Species, Reaction, ComplexSpecies, ChemicalReactionNetwork\n",
    "\n",
    "import warnings\n",
    "warnings.filterwarnings(\"ignore\")"
   ]
  },
  {
   "cell_type": "markdown",
   "metadata": {},
   "source": [
    "## Check Type Function"
   ]
  },
  {
   "cell_type": "code",
   "execution_count": 12,
   "metadata": {},
   "outputs": [],
   "source": [
    "def check_type(item, material_type_str): # call set_species\n",
    "    if isinstance(item, Species):\n",
    "        item_ret = item\n",
    "    elif isinstance(item, str):\n",
    "        item_ret = Species(name = item, material_type = material_type_str)\n",
    "    elif isinstance(item, Component) and item.get_species() != None:\n",
    "        item_ret = item.get_species()\n",
    "    else:\n",
    "        raise ValueError( item, \"parameter must be a string, a Component with defined get_species(), or a chemical_reaction_network.species\")\n",
    "        \n",
    "    return item_ret"
   ]
  },
  {
   "cell_type": "markdown",
   "metadata": {},
   "source": [
    "## Mechanism: FuelMichaelisMenten"
   ]
  },
  {
   "cell_type": "code",
   "execution_count": 13,
   "metadata": {},
   "outputs": [],
   "source": [
    "class FuelMichaelisMenten(Mechanism):\n",
    "    def __init__(self, name, type = 'catalysis', **keywords):\n",
    "        \n",
    "        Mechanism.__init__(self = self, name = name, mechanism_type = type, **keywords)\n",
    "\n",
    "    def update_species(self, enzyme, fuel_list, substrate_list, product_list, waste_list): \n",
    "        \n",
    "        self.enzyme = self.set_species(enzyme, 'enzyme')\n",
    "        \n",
    "        species = [self.enzyme]\n",
    "        comp1_list = [self.enzyme]\n",
    "        comp2_list = [self.enzyme]\n",
    "        \n",
    "        for f in fuel_list:\n",
    "            species.append(f)\n",
    "            comp1_list.append(f)\n",
    "\n",
    "        for s in substrate_list:\n",
    "            species.append(s)\n",
    "            comp1_list.append(s)\n",
    "            \n",
    "        for p in product_list:\n",
    "            species.append(p)\n",
    "            comp2_list.append(p)\n",
    "            \n",
    "        for w in waste_list:\n",
    "            species.append(w)\n",
    "            comp2_list.append(w)\n",
    "               \n",
    "        \n",
    "        species += [ComplexSpecies(comp1_list)]\n",
    "        species += [ComplexSpecies(comp2_list)]\n",
    "        return species\n",
    "    \n",
    "    def update_reactions(self, enzyme, fuel_list, substrate_list, product_list, waste_list, k_bf, k_uf, k_cat, component = None,\n",
    "                        part_id = None): \n",
    "\n",
    "      \n",
    "        \n",
    "        #k_bf = component.get_parameter('k_bf', part_id = part_id, mechanism = self)\n",
    "        \n",
    "        k_br = 0.1*k_bf\n",
    "       \n",
    "        k_ur = 0.1*k_uf\n",
    "      \n",
    "        self.enzyme = self.set_species(enzyme, 'enzyme')\n",
    "        \n",
    "        \n",
    "        comp1_list = [self.enzyme]\n",
    "        comp2_list = [self.enzyme]\n",
    "\n",
    "\n",
    "        for f in fuel_list:\n",
    "            comp1_list.append(f)\n",
    "            \n",
    "        for s in substrate_list:\n",
    "            comp1_list.append(s)\n",
    "\n",
    "        for p in product_list:\n",
    "            comp2_list.append(p)\n",
    "            \n",
    "        for w in waste_list:\n",
    "            comp2_list.append(w)\n",
    "        \n",
    "        comp1 = ComplexSpecies(comp1_list)\n",
    "        comp2 = ComplexSpecies(comp2_list)\n",
    "        \n",
    "        binding_rxn = Reaction(inputs = comp1_list, outputs=[comp1], k = k_bf, k_rev = k_br)\n",
    "        cat_rxn = Reaction(inputs = [comp1], outputs = [comp2], k = k_cat)\n",
    "        unbinding_rxn = Reaction(inputs = [comp2], outputs = comp2_list, k=k_uf, k_rev = k_ur)\n",
    "        \n",
    "        return [binding_rxn, cat_rxn, unbinding_rxn]"
   ]
  },
  {
   "cell_type": "markdown",
   "metadata": {},
   "source": [
    "## Component: Enzyme"
   ]
  },
  {
   "cell_type": "code",
   "execution_count": 14,
   "metadata": {},
   "outputs": [],
   "source": [
    "class Enzyme(Component):\n",
    "    def __init__(self, enzyme_name, substrate, fuel, product, waste, k_bf, k_uf, k_cat = 36000, **keywords):\n",
    "      \n",
    "        # ENZYME NAME\n",
    "        self.enzyme = self.set_species(enzyme_name, 'enzyme')\n",
    "    \n",
    "        # SUBSTRATE\n",
    "        self.substrate_list = []\n",
    "        for s in substrate:\n",
    "            self.substrate_list.append(self.set_species(s, material_type = 'molecule'))\n",
    "            \n",
    "\n",
    "        # FUEL\n",
    "\n",
    "        self.fuel_list = []\n",
    "        for f in fuel:\n",
    "            self.fuel_list.append(self.set_species(f, material_type ='metabolite'))\n",
    "        \n",
    "        \n",
    "        \n",
    "        # PRODUCT\n",
    "        self.product_list = []\n",
    "        for p in product:\n",
    "            self.product_list.append(self.set_species(p, material_type = 'molecule'))\n",
    "          \n",
    "            \n",
    "        # WASTE\n",
    "        self.waste_list = []\n",
    "        for w in waste:\n",
    "            self.waste_list.append(self.set_species(w, material_type = 'metabolite'))\n",
    "        \n",
    "        \n",
    "        self.k_bf = k_bf\n",
    "        self.k_uf = k_uf\n",
    "        self.k_cat = k_cat\n",
    "        \n",
    "            \n",
    "        \n",
    "      \n",
    "        Component.__init__(self = self, name = enzyme_name, **keywords)\n",
    "        \n",
    "    def update_species(self):\n",
    "        mech_cat = self.mechanisms['catalysis']\n",
    "        \n",
    "            \n",
    "        \n",
    "        return mech_cat.update_species(self.enzyme, self.fuel_list, self.substrate_list, self.product_list, self.waste_list) \n",
    "                                                                                           \n",
    "    \n",
    "    def update_reactions(self):\n",
    "        mech_cat = self.mechanisms['catalysis']\n",
    "\n",
    "        \n",
    "        return mech_cat.update_reactions(self.enzyme, self.fuel_list, self.substrate_list, self.product_list, self.waste_list,self.k_bf,\n",
    "                                         self.k_uf, self.k_cat,component = None,  part_id = None)\n",
    "\n",
    "\n"
   ]
  },
  {
   "cell_type": "markdown",
   "metadata": {},
   "source": [
    "## Mixture: EnergyTxTl"
   ]
  },
  {
   "cell_type": "code",
   "execution_count": 18,
   "metadata": {},
   "outputs": [],
   "source": [
    "class EnergyTxTl(Mixture):\n",
    "    def __init__(self, name=\"\",**keywords): \n",
    "        \n",
    "\n",
    "        mech_cat = FuelMichaelisMenten('catalysis')\n",
    "        \n",
    "        default_mechanisms = {\n",
    "            mech_cat.mechanism_type:mech_cat\n",
    "        }\n",
    "        \n",
    "        Mixture.__init__(self, name = name, default_mechanisms=default_mechanisms, **keywords) \n",
    "    "
   ]
  },
  {
   "cell_type": "markdown",
   "metadata": {},
   "source": [
    "## Quick Test"
   ]
  },
  {
   "cell_type": "code",
   "execution_count": 19,
   "metadata": {},
   "outputs": [
    {
     "ename": "AttributeError",
     "evalue": "'FuelMichaelisMenten' object has no attribute 'set_species'",
     "output_type": "error",
     "traceback": [
      "\u001b[0;31m---------------------------------------------------------------------------\u001b[0m",
      "\u001b[0;31mAttributeError\u001b[0m                            Traceback (most recent call last)",
      "\u001b[0;32m<ipython-input-19-82eacca37a2a>\u001b[0m in \u001b[0;36m<module>\u001b[0;34m\u001b[0m\n\u001b[1;32m     22\u001b[0m \u001b[0;34m\u001b[0m\u001b[0m\n\u001b[1;32m     23\u001b[0m \u001b[0mmyMixture\u001b[0m \u001b[0;34m=\u001b[0m \u001b[0mEnergyTxTl\u001b[0m\u001b[0;34m(\u001b[0m\u001b[0mcomponents\u001b[0m \u001b[0;34m=\u001b[0m \u001b[0;34m[\u001b[0m\u001b[0mE1\u001b[0m\u001b[0;34m,\u001b[0m\u001b[0mE2\u001b[0m\u001b[0;34m,\u001b[0m\u001b[0mE3\u001b[0m\u001b[0;34m,\u001b[0m\u001b[0mE4\u001b[0m\u001b[0;34m]\u001b[0m\u001b[0;34m)\u001b[0m\u001b[0;34m\u001b[0m\u001b[0;34m\u001b[0m\u001b[0m\n\u001b[0;32m---> 24\u001b[0;31m \u001b[0mCRN\u001b[0m \u001b[0;34m=\u001b[0m \u001b[0mmyMixture\u001b[0m\u001b[0;34m.\u001b[0m\u001b[0mcompile_crn\u001b[0m\u001b[0;34m(\u001b[0m\u001b[0;34m)\u001b[0m\u001b[0;34m\u001b[0m\u001b[0;34m\u001b[0m\u001b[0m\n\u001b[0m\u001b[1;32m     25\u001b[0m \u001b[0;34m\u001b[0m\u001b[0m\n\u001b[1;32m     26\u001b[0m \u001b[0mmyMixture_atp\u001b[0m \u001b[0;34m=\u001b[0m \u001b[0mEnergyTxTl\u001b[0m\u001b[0;34m(\u001b[0m\u001b[0mcomponents\u001b[0m \u001b[0;34m=\u001b[0m \u001b[0;34m[\u001b[0m\u001b[0mE4\u001b[0m\u001b[0;34m]\u001b[0m\u001b[0;34m)\u001b[0m\u001b[0;34m\u001b[0m\u001b[0;34m\u001b[0m\u001b[0m\n",
      "\u001b[0;32m~/opt/anaconda3/lib/python3.7/site-packages/biocrnpyler-0.1-py3.7.egg/biocrnpyler/mixture.py\u001b[0m in \u001b[0;36mcompile_crn\u001b[0;34m(self)\u001b[0m\n\u001b[1;32m    248\u001b[0m         \u001b[0mresetwarnings\u001b[0m\u001b[0;34m(\u001b[0m\u001b[0;34m)\u001b[0m\u001b[0;31m#Reset warnings - better to toggle them off manually.\u001b[0m\u001b[0;34m\u001b[0m\u001b[0;34m\u001b[0m\u001b[0m\n\u001b[1;32m    249\u001b[0m \u001b[0;34m\u001b[0m\u001b[0m\n\u001b[0;32m--> 250\u001b[0;31m         \u001b[0mspecies\u001b[0m \u001b[0;34m=\u001b[0m \u001b[0mself\u001b[0m\u001b[0;34m.\u001b[0m\u001b[0mupdate_species\u001b[0m\u001b[0;34m(\u001b[0m\u001b[0;34m)\u001b[0m\u001b[0;34m\u001b[0m\u001b[0;34m\u001b[0m\u001b[0m\n\u001b[0m\u001b[1;32m    251\u001b[0m         \u001b[0mreactions\u001b[0m \u001b[0;34m=\u001b[0m \u001b[0mself\u001b[0m\u001b[0;34m.\u001b[0m\u001b[0mupdate_reactions\u001b[0m\u001b[0;34m(\u001b[0m\u001b[0;34m)\u001b[0m\u001b[0;34m\u001b[0m\u001b[0;34m\u001b[0m\u001b[0m\n\u001b[1;32m    252\u001b[0m         \u001b[0mspecies\u001b[0m \u001b[0;34m=\u001b[0m \u001b[0mself\u001b[0m\u001b[0;34m.\u001b[0m\u001b[0mset_initial_condition\u001b[0m\u001b[0;34m(\u001b[0m\u001b[0mspecies\u001b[0m\u001b[0;34m)\u001b[0m\u001b[0;34m\u001b[0m\u001b[0;34m\u001b[0m\u001b[0m\n",
      "\u001b[0;32m~/opt/anaconda3/lib/python3.7/site-packages/biocrnpyler-0.1-py3.7.egg/biocrnpyler/mixture.py\u001b[0m in \u001b[0;36mupdate_species\u001b[0;34m(self)\u001b[0m\n\u001b[1;32m    206\u001b[0m         \u001b[0mself\u001b[0m\u001b[0;34m.\u001b[0m\u001b[0mcrn_species\u001b[0m \u001b[0;34m=\u001b[0m \u001b[0mself\u001b[0m\u001b[0;34m.\u001b[0m\u001b[0madded_species\u001b[0m\u001b[0;34m\u001b[0m\u001b[0;34m\u001b[0m\u001b[0m\n\u001b[1;32m    207\u001b[0m         \u001b[0;32mfor\u001b[0m \u001b[0mcomponent\u001b[0m \u001b[0;32min\u001b[0m \u001b[0mself\u001b[0m\u001b[0;34m.\u001b[0m\u001b[0mcomponents\u001b[0m\u001b[0;34m:\u001b[0m\u001b[0;34m\u001b[0m\u001b[0;34m\u001b[0m\u001b[0m\n\u001b[0;32m--> 208\u001b[0;31m             \u001b[0mself\u001b[0m\u001b[0;34m.\u001b[0m\u001b[0mappend_species\u001b[0m\u001b[0;34m(\u001b[0m\u001b[0mcomponent\u001b[0m\u001b[0;34m.\u001b[0m\u001b[0mupdate_species\u001b[0m\u001b[0;34m(\u001b[0m\u001b[0;34m)\u001b[0m\u001b[0;34m)\u001b[0m\u001b[0;34m\u001b[0m\u001b[0;34m\u001b[0m\u001b[0m\n\u001b[0m\u001b[1;32m    209\u001b[0m \u001b[0;34m\u001b[0m\u001b[0m\n\u001b[1;32m    210\u001b[0m         \u001b[0;31m# Update Global Mechanisms\u001b[0m\u001b[0;34m\u001b[0m\u001b[0;34m\u001b[0m\u001b[0;34m\u001b[0m\u001b[0m\n",
      "\u001b[0;32m<ipython-input-14-a4ba982b123e>\u001b[0m in \u001b[0;36mupdate_species\u001b[0;34m(self)\u001b[0m\n\u001b[1;32m     45\u001b[0m \u001b[0;34m\u001b[0m\u001b[0m\n\u001b[1;32m     46\u001b[0m \u001b[0;34m\u001b[0m\u001b[0m\n\u001b[0;32m---> 47\u001b[0;31m         \u001b[0;32mreturn\u001b[0m \u001b[0mmech_cat\u001b[0m\u001b[0;34m.\u001b[0m\u001b[0mupdate_species\u001b[0m\u001b[0;34m(\u001b[0m\u001b[0mself\u001b[0m\u001b[0;34m.\u001b[0m\u001b[0menzyme\u001b[0m\u001b[0;34m,\u001b[0m \u001b[0mself\u001b[0m\u001b[0;34m.\u001b[0m\u001b[0mfuel_list\u001b[0m\u001b[0;34m,\u001b[0m \u001b[0mself\u001b[0m\u001b[0;34m.\u001b[0m\u001b[0msubstrate_list\u001b[0m\u001b[0;34m,\u001b[0m \u001b[0mself\u001b[0m\u001b[0;34m.\u001b[0m\u001b[0mproduct_list\u001b[0m\u001b[0;34m,\u001b[0m \u001b[0mself\u001b[0m\u001b[0;34m.\u001b[0m\u001b[0mwaste_list\u001b[0m\u001b[0;34m)\u001b[0m\u001b[0;34m\u001b[0m\u001b[0;34m\u001b[0m\u001b[0m\n\u001b[0m\u001b[1;32m     48\u001b[0m \u001b[0;34m\u001b[0m\u001b[0m\n\u001b[1;32m     49\u001b[0m \u001b[0;34m\u001b[0m\u001b[0m\n",
      "\u001b[0;32m<ipython-input-13-9cde04988cf1>\u001b[0m in \u001b[0;36mupdate_species\u001b[0;34m(self, enzyme, fuel_list, substrate_list, product_list, waste_list)\u001b[0m\n\u001b[1;32m      6\u001b[0m     \u001b[0;32mdef\u001b[0m \u001b[0mupdate_species\u001b[0m\u001b[0;34m(\u001b[0m\u001b[0mself\u001b[0m\u001b[0;34m,\u001b[0m \u001b[0menzyme\u001b[0m\u001b[0;34m,\u001b[0m \u001b[0mfuel_list\u001b[0m\u001b[0;34m,\u001b[0m \u001b[0msubstrate_list\u001b[0m\u001b[0;34m,\u001b[0m \u001b[0mproduct_list\u001b[0m\u001b[0;34m,\u001b[0m \u001b[0mwaste_list\u001b[0m\u001b[0;34m)\u001b[0m\u001b[0;34m:\u001b[0m\u001b[0;34m\u001b[0m\u001b[0;34m\u001b[0m\u001b[0m\n\u001b[1;32m      7\u001b[0m \u001b[0;34m\u001b[0m\u001b[0m\n\u001b[0;32m----> 8\u001b[0;31m         \u001b[0mself\u001b[0m\u001b[0;34m.\u001b[0m\u001b[0menzyme\u001b[0m \u001b[0;34m=\u001b[0m \u001b[0mself\u001b[0m\u001b[0;34m.\u001b[0m\u001b[0mset_species\u001b[0m\u001b[0;34m(\u001b[0m\u001b[0menzyme\u001b[0m\u001b[0;34m,\u001b[0m \u001b[0;34m'enzyme'\u001b[0m\u001b[0;34m)\u001b[0m\u001b[0;34m\u001b[0m\u001b[0;34m\u001b[0m\u001b[0m\n\u001b[0m\u001b[1;32m      9\u001b[0m \u001b[0;34m\u001b[0m\u001b[0m\n\u001b[1;32m     10\u001b[0m         \u001b[0mspecies\u001b[0m \u001b[0;34m=\u001b[0m \u001b[0;34m[\u001b[0m\u001b[0mself\u001b[0m\u001b[0;34m.\u001b[0m\u001b[0menzyme\u001b[0m\u001b[0;34m]\u001b[0m\u001b[0;34m\u001b[0m\u001b[0;34m\u001b[0m\u001b[0m\n",
      "\u001b[0;31mAttributeError\u001b[0m: 'FuelMichaelisMenten' object has no attribute 'set_species'"
     ]
    }
   ],
   "source": [
    "k_bf = 20\n",
    "k_uf = 20\n",
    "\n",
    "E1 = Enzyme(enzyme_name = \"enzyme1\", substrate = ['glucose'],\n",
    "            fuel = ['atp', 'atp'],product = ['f16p'], \n",
    "            waste = ['adp','adp'], k_bf = k_bf, k_uf = k_uf)\n",
    "\n",
    "E2 = Enzyme(enzyme_name = 'enzyme2', substrate = ['f16p'], \n",
    "            fuel = ['adp', 'adp'],\n",
    "           product = ['isobutanol'], waste = ['atp', 'atp'],\n",
    "           k_bf = k_bf, k_uf = k_uf)\n",
    "\n",
    "E3 = Enzyme(enzyme_name = 'enzyme3', substrate = ['f16p'], \n",
    "            fuel = ['adp', 'adp', 'adp', 'pi'], product = ['isobutanol'],\n",
    "           waste = ['atp', 'atp', 'atp']\n",
    "           , k_bf = k_bf, k_uf = k_uf)\n",
    "\n",
    "E4 = Enzyme(enzyme_name = 'enzyme4', substrate = [], \n",
    "            fuel = ['atp'], product = [], waste = ['adp', 'pi'],\n",
    "             k_bf = k_bf, k_uf = k_uf,\n",
    "            k_cat = 1)\n",
    "\n",
    "myMixture = EnergyTxTl(components = [E1,E2,E3,E4])\n",
    "CRN = myMixture.compile_crn()\n",
    "\n",
    "myMixture_atp = EnergyTxTl(components = [E4])\n",
    "CRN_atp = myMixture_atp.compile_crn()\n",
    "\n",
    "# print(CRN.pretty_print(show_rates = False, show_attributes = False, show_materials = False))\n",
    "# print('\\n ATP', CRN_atp.pretty_print(show_rates = False))"
   ]
  },
  {
   "cell_type": "code",
   "execution_count": 20,
   "metadata": {},
   "outputs": [
    {
     "name": "stdout",
     "output_type": "stream",
     "text": [
      "CPython 3.7.6\n",
      "IPython 7.12.0\n",
      "\n",
      "numpy 1.18.1\n",
      "jupyterlab 1.2.6\n",
      "biocrnpyler unknown\n",
      "bioscrape 0.0.0\n"
     ]
    }
   ],
   "source": [
    "#watermark\n",
    "%reload_ext watermark\n",
    "%watermark -v -p numpy,jupyterlab,biocrnpyler,bioscrape\n",
    " "
   ]
  },
  {
   "cell_type": "code",
   "execution_count": null,
   "metadata": {},
   "outputs": [],
   "source": []
  }
 ],
 "metadata": {
  "kernelspec": {
   "display_name": "Python 3",
   "language": "python",
   "name": "python3"
  },
  "language_info": {
   "codemirror_mode": {
    "name": "ipython",
    "version": 3
   },
   "file_extension": ".py",
   "mimetype": "text/x-python",
   "name": "python",
   "nbconvert_exporter": "python",
   "pygments_lexer": "ipython3",
   "version": "3.7.6"
  }
 },
 "nbformat": 4,
 "nbformat_minor": 4
}
